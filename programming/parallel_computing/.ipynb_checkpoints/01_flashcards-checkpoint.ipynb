{
 "cells": [
  {
   "cell_type": "markdown",
   "id": "a5063e42-5052-4474-b9e1-a3f686bbddea",
   "metadata": {},
   "source": [
    "##### Example 1"
   ]
  },
  {
   "cell_type": "code",
   "execution_count": null,
   "id": "96b5defe-019f-41d7-bce3-494ab17dcc69",
   "metadata": {},
   "outputs": [
    {
     "name": "stdout",
     "output_type": "stream",
     "text": [
      "11\n",
      "12\n",
      "21\n",
      "22\n"
     ]
    }
   ],
   "source": [
    "for a in 1:2\n",
    "    for b in 1:2\n",
    "        println(a, b)\n",
    "    end\n",
    "end"
   ]
  },
  {
   "cell_type": "markdown",
   "id": "61e0e8ad-9f38-4498-b407-3798d4460fcf",
   "metadata": {},
   "source": [
    "Write the short version of two for loop"
   ]
  },
  {
   "cell_type": "code",
   "execution_count": null,
   "id": "4c6e8fce-f385-45ef-8daf-9c331026861a",
   "metadata": {},
   "outputs": [
    {
     "name": "stdout",
     "output_type": "stream",
     "text": [
      "11\n",
      "12\n",
      "21\n",
      "22\n"
     ]
    }
   ],
   "source": [
    "for a in 1:2, b in 1:2\n",
    "    println(a, b)\n",
    "end"
   ]
  },
  {
   "cell_type": "code",
   "execution_count": null,
   "id": "6535edde-400d-4bc1-adc9-3012f559dc4a",
   "metadata": {},
   "outputs": [],
   "source": []
  }
 ],
 "metadata": {
  "kernelspec": {
   "display_name": "Julia 1.8.2",
   "language": "julia",
   "name": "julia-1.8"
  }
 },
 "nbformat": 4,
 "nbformat_minor": 5
}
