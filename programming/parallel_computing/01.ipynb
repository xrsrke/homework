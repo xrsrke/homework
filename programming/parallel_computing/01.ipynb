{
 "cells": [
  {
   "cell_type": "code",
   "execution_count": null,
   "id": "a48da1d8-073a-4904-bf53-8d00f9cd8366",
   "metadata": {},
   "outputs": [
    {
     "data": {
      "text/plain": [
       "1:9"
      ]
     },
     "execution_count": null,
     "metadata": {},
     "output_type": "execute_result"
    }
   ],
   "source": [
    "A = 1:9"
   ]
  },
  {
   "cell_type": "code",
   "execution_count": null,
   "id": "5ffc62ad-6001-4484-bce7-af6a6e56deac",
   "metadata": {},
   "outputs": [
    {
     "data": {
      "text/plain": [
       "6"
      ]
     },
     "execution_count": null,
     "metadata": {},
     "output_type": "execute_result"
    }
   ],
   "source": [
    "reshape(A, (3, 3))[3, 2]"
   ]
  },
  {
   "cell_type": "code",
   "execution_count": null,
   "id": "9e9c3283-03c5-42d9-af93-d521c25d22c8",
   "metadata": {},
   "outputs": [
    {
     "data": {
      "text/plain": [
       "(3, 2)"
      ]
     },
     "execution_count": null,
     "metadata": {},
     "output_type": "execute_result"
    }
   ],
   "source": [
    "i, j = 3, 2"
   ]
  },
  {
   "cell_type": "markdown",
   "id": "fe54a950-a6d4-4d0a-99fa-e5b3fc2b2f7c",
   "metadata": {},
   "source": [
    "`3 + (2-1) * 3 = 3 + 3 = 6`"
   ]
  },
  {
   "cell_type": "code",
   "execution_count": null,
   "id": "93460219-0c7b-4e3a-8340-7b3b5ebc1e9a",
   "metadata": {},
   "outputs": [
    {
     "data": {
      "text/plain": [
       "6"
      ]
     },
     "execution_count": null,
     "metadata": {},
     "output_type": "execute_result"
    }
   ],
   "source": [
    "A[i + (j-1)*3]"
   ]
  },
  {
   "cell_type": "code",
   "execution_count": null,
   "id": "0d84b325-5234-44d6-848d-beab39b16062",
   "metadata": {},
   "outputs": [],
   "source": []
  }
 ],
 "metadata": {
  "kernelspec": {
   "display_name": "Julia 1.8.2",
   "language": "julia",
   "name": "julia-1.8"
  }
 },
 "nbformat": 4,
 "nbformat_minor": 5
}
