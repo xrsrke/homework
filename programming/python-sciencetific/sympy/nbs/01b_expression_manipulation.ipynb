{
 "cells": [
  {
   "cell_type": "code",
   "execution_count": null,
   "id": "38f7cbf8-c510-43e0-b285-2621bf0443a1",
   "metadata": {},
   "outputs": [],
   "source": [
    "import sympy as smp"
   ]
  },
  {
   "cell_type": "markdown",
   "id": "6185897d-4287-483c-a8cb-ff8ecf683a56",
   "metadata": {},
   "source": [
    "### Prevent Expression Evaluation"
   ]
  },
  {
   "cell_type": "code",
   "execution_count": null,
   "id": "dc805639-255b-4c1a-a89e-86d5d6d49910",
   "metadata": {},
   "outputs": [],
   "source": [
    "x, y, z = smp.symbols('x y z')"
   ]
  },
  {
   "cell_type": "code",
   "execution_count": null,
   "id": "91b108c0-38f5-4f2a-8858-46e46ec3617a",
   "metadata": {},
   "outputs": [],
   "source": [
    "expr = x + x"
   ]
  },
  {
   "cell_type": "code",
   "execution_count": null,
   "id": "84588738-7f2c-43f5-ad5a-9c3f26330cb9",
   "metadata": {},
   "outputs": [
    {
     "data": {
      "text/latex": [
       "$\\displaystyle 2 x$"
      ],
      "text/plain": [
       "2*x"
      ]
     },
     "execution_count": null,
     "metadata": {},
     "output_type": "execute_result"
    }
   ],
   "source": [
    "expr"
   ]
  },
  {
   "cell_type": "markdown",
   "id": "2e432d34-84e4-4634-a510-e412d95e0701",
   "metadata": {},
   "source": [
    "Prevent expression evaluation"
   ]
  },
  {
   "cell_type": "code",
   "execution_count": null,
   "id": "28daaad3-0e79-4fb7-8a34-d75dcae9191c",
   "metadata": {},
   "outputs": [],
   "source": [
    "expr2 = smp.Add(x, x, evaluate=False)"
   ]
  },
  {
   "cell_type": "code",
   "execution_count": null,
   "id": "200cf3e4-5b5a-4f8e-8c39-cb875e11a774",
   "metadata": {},
   "outputs": [
    {
     "data": {
      "text/latex": [
       "$\\displaystyle x + x$"
      ],
      "text/plain": [
       "x + x"
      ]
     },
     "execution_count": null,
     "metadata": {},
     "output_type": "execute_result"
    }
   ],
   "source": [
    "expr2"
   ]
  },
  {
   "cell_type": "code",
   "execution_count": null,
   "id": "83ecb46a-3da8-4fbf-b3ea-b0d42d53a97f",
   "metadata": {},
   "outputs": [
    {
     "data": {
      "text/latex": [
       "$\\displaystyle x + x$"
      ],
      "text/plain": [
       "x + x"
      ]
     },
     "execution_count": null,
     "metadata": {},
     "output_type": "execute_result"
    }
   ],
   "source": [
    "x + smp.UnevaluatedExpr(x)"
   ]
  },
  {
   "cell_type": "code",
   "execution_count": null,
   "id": "e069801a-4546-4e65-ade8-b3f76969a243",
   "metadata": {},
   "outputs": [],
   "source": []
  }
 ],
 "metadata": {
  "kernelspec": {
   "display_name": "Python 3 (ipykernel)",
   "language": "python",
   "name": "python3"
  }
 },
 "nbformat": 4,
 "nbformat_minor": 5
}
