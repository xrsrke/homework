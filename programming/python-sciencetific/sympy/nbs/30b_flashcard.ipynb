{
 "cells": [
  {
   "cell_type": "code",
   "execution_count": null,
   "id": "06ba66c9-a1d5-4724-9933-047cd1c8033b",
   "metadata": {},
   "outputs": [],
   "source": [
    "import sympy as smp\n",
    "import sympy.physics.mechanics as me"
   ]
  },
  {
   "cell_type": "code",
   "execution_count": null,
   "id": "3dd42514-351c-44b7-80ad-ce50a08a8abd",
   "metadata": {},
   "outputs": [],
   "source": [
    "import sympy as smp\n",
    "import sympy.physics.mechanics as me"
   ]
  },
  {
   "cell_type": "code",
   "execution_count": null,
   "id": "3d9cb7e6-57e0-4b42-97b4-4cc73af41177",
   "metadata": {},
   "outputs": [],
   "source": [
    "x, v = me.dynamicsymbols('x v')"
   ]
  },
  {
   "cell_type": "code",
   "execution_count": null,
   "id": "f194c133-ff6e-484d-8161-d05442d550ff",
   "metadata": {},
   "outputs": [
    {
     "data": {
      "text/latex": [
       "$\\displaystyle x{\\left(t \\right)}$"
      ],
      "text/plain": [
       "x(t)"
      ]
     },
     "execution_count": null,
     "metadata": {},
     "output_type": "execute_result"
    }
   ],
   "source": [
    "x"
   ]
  },
  {
   "cell_type": "code",
   "execution_count": null,
   "id": "59194e57-472d-43f0-a079-5f5c2f32443c",
   "metadata": {},
   "outputs": [],
   "source": [
    "m, c, k, g, t = smp.symbols('m c k g t')"
   ]
  },
  {
   "cell_type": "code",
   "execution_count": null,
   "id": "051a6077-ba7d-4f8f-9227-bf8202976020",
   "metadata": {},
   "outputs": [
    {
     "data": {
      "text/latex": [
       "$\\displaystyle m$"
      ],
      "text/plain": [
       "m"
      ]
     },
     "execution_count": null,
     "metadata": {},
     "output_type": "execute_result"
    }
   ],
   "source": [
    "m"
   ]
  },
  {
   "cell_type": "code",
   "execution_count": null,
   "id": "16039827-4b21-46aa-a4a9-ba9e6c9da829",
   "metadata": {},
   "outputs": [],
   "source": [
    "ceiling = me.ReferenceFrame('C')"
   ]
  },
  {
   "cell_type": "markdown",
   "id": "7bb7e0ad-36c3-44b4-a1e5-52b224ca65b7",
   "metadata": {},
   "source": [
    "We will need two points, one to represent the original position of the particle which stays fixed in the ceiling frame, $o$, and the second one, $p$ which is aligned with the particle as it moves."
   ]
  },
  {
   "cell_type": "code",
   "execution_count": null,
   "id": "049d996a-9950-4ecf-b555-acf66fb8d87b",
   "metadata": {},
   "outputs": [],
   "source": [
    "o = me.Point('o')"
   ]
  },
  {
   "cell_type": "code",
   "execution_count": null,
   "id": "3fea9a18-cd5b-42e2-867e-2b96cdb52a42",
   "metadata": {},
   "outputs": [],
   "source": [
    "p = me.Point('p')"
   ]
  },
  {
   "cell_type": "code",
   "execution_count": null,
   "id": "832663fa-943d-48c9-979b-e3307f6834ab",
   "metadata": {},
   "outputs": [
    {
     "data": {
      "text/plain": [
       "o"
      ]
     },
     "execution_count": null,
     "metadata": {},
     "output_type": "execute_result"
    }
   ],
   "source": [
    "o"
   ]
  },
  {
   "cell_type": "code",
   "execution_count": null,
   "id": "65e3484c-ea5d-431c-af7c-9be92393b6e0",
   "metadata": {},
   "outputs": [
    {
     "data": {
      "text/plain": [
       "C"
      ]
     },
     "execution_count": null,
     "metadata": {},
     "output_type": "execute_result"
    }
   ],
   "source": [
    "ceiling"
   ]
  },
  {
   "cell_type": "markdown",
   "id": "8ac9bcf9-016c-4798-a6d6-ffc2bba19b47",
   "metadata": {},
   "source": [
    "Set the velocity of point `o` to `2x` with respect to reference frame `ceiling`"
   ]
  },
  {
   "cell_type": "code",
   "execution_count": null,
   "id": "f8796c03-aee4-4b2e-b0d5-b6ffd92de4e9",
   "metadata": {},
   "outputs": [],
   "source": [
    "o.set_vel(ceiling, 2 * ceiling.x)"
   ]
  },
  {
   "cell_type": "code",
   "execution_count": null,
   "id": "2fe04f87-cff6-46fe-b0b9-f8da3a2710dd",
   "metadata": {},
   "outputs": [
    {
     "data": {
      "text/latex": [
       "$\\displaystyle 2\\mathbf{\\hat{c}_x}$"
      ],
      "text/plain": [
       "2*C.x"
      ]
     },
     "execution_count": null,
     "metadata": {},
     "output_type": "execute_result"
    }
   ],
   "source": [
    "o.vel(ceiling)"
   ]
  },
  {
   "cell_type": "code",
   "execution_count": null,
   "id": "40cb3cfa-0da0-4b8e-bafa-915f6f2830f4",
   "metadata": {},
   "outputs": [],
   "source": [
    "x, v = me.dynamicsymbols('x v')"
   ]
  },
  {
   "cell_type": "code",
   "execution_count": null,
   "id": "7df3af1d-08e7-4ef5-ae7f-3034f4ae0c55",
   "metadata": {},
   "outputs": [
    {
     "data": {
      "text/latex": [
       "$\\displaystyle x{\\left(t \\right)}$"
      ],
      "text/plain": [
       "x(t)"
      ]
     },
     "execution_count": null,
     "metadata": {},
     "output_type": "execute_result"
    }
   ],
   "source": [
    "x"
   ]
  },
  {
   "cell_type": "code",
   "execution_count": null,
   "id": "ef08f00c-4db2-44c2-b479-ea9c6011d377",
   "metadata": {},
   "outputs": [],
   "source": [
    "m, c, k, g, t = smp.symbols('m c k g t')"
   ]
  },
  {
   "cell_type": "code",
   "execution_count": null,
   "id": "437a856b-81bb-4e05-be39-637a6945db15",
   "metadata": {},
   "outputs": [
    {
     "data": {
      "text/latex": [
       "$\\displaystyle m$"
      ],
      "text/plain": [
       "m"
      ]
     },
     "execution_count": null,
     "metadata": {},
     "output_type": "execute_result"
    }
   ],
   "source": [
    "m"
   ]
  },
  {
   "cell_type": "code",
   "execution_count": null,
   "id": "588fb158-9065-49cc-a0d2-5819aa21fac3",
   "metadata": {},
   "outputs": [],
   "source": [
    "ceiling = me.ReferenceFrame('C')"
   ]
  },
  {
   "cell_type": "markdown",
   "id": "96dcc5fb-a64d-45be-a480-96774adc500e",
   "metadata": {},
   "source": [
    "We will need two points, one to represent the original position of the particle which stays fixed in the ceiling frame, $o$, and the second one, $p$ which is aligned with the particle as it moves."
   ]
  },
  {
   "cell_type": "code",
   "execution_count": null,
   "id": "dee3b8f3-a441-4d06-b335-5a12e1424cd1",
   "metadata": {},
   "outputs": [],
   "source": [
    "o = me.Point('o')"
   ]
  },
  {
   "cell_type": "code",
   "execution_count": null,
   "id": "906bfb09-2208-44dc-bc1a-7369cb926e65",
   "metadata": {},
   "outputs": [],
   "source": [
    "p = me.Point('p')"
   ]
  },
  {
   "cell_type": "markdown",
   "id": "e8627b7b-b0a4-41d9-b34c-a267af16ef3e",
   "metadata": {},
   "source": [
    "##### Example 1: Set velocity"
   ]
  },
  {
   "cell_type": "code",
   "execution_count": null,
   "id": "faac2d50-3c3b-4104-8dac-77b7a0318197",
   "metadata": {},
   "outputs": [
    {
     "data": {
      "text/plain": [
       "o"
      ]
     },
     "execution_count": null,
     "metadata": {},
     "output_type": "execute_result"
    }
   ],
   "source": [
    "o"
   ]
  },
  {
   "cell_type": "code",
   "execution_count": null,
   "id": "5d564aee-ee9b-45b7-b9c5-83a5600aca17",
   "metadata": {},
   "outputs": [
    {
     "data": {
      "text/plain": [
       "C"
      ]
     },
     "execution_count": null,
     "metadata": {},
     "output_type": "execute_result"
    }
   ],
   "source": [
    "ceiling"
   ]
  },
  {
   "cell_type": "markdown",
   "id": "bf60eca4-7b05-4144-8b30-a843b91ab4e5",
   "metadata": {},
   "source": [
    "Set the velocity of point `o` to `2x` with respect to reference frame `ceiling`"
   ]
  },
  {
   "cell_type": "code",
   "execution_count": null,
   "id": "921caba4-f831-4732-9e3b-94f032e3a192",
   "metadata": {},
   "outputs": [],
   "source": [
    "o.set_vel(ceiling, 2 * ceiling.x)"
   ]
  },
  {
   "cell_type": "code",
   "execution_count": null,
   "id": "855608d6-a07a-4a9c-920c-c7bca13539bf",
   "metadata": {},
   "outputs": [
    {
     "data": {
      "text/latex": [
       "$\\displaystyle 2\\mathbf{\\hat{c}_x}$"
      ],
      "text/plain": [
       "2*C.x"
      ]
     },
     "execution_count": null,
     "metadata": {},
     "output_type": "execute_result"
    }
   ],
   "source": [
    "o.vel(ceiling)"
   ]
  },
  {
   "cell_type": "markdown",
   "id": "09cd1293-a96f-4bdf-982b-f50ab098e599",
   "metadata": {},
   "source": [
    "##### Example 2: Set position with respect to frame of reference"
   ]
  },
  {
   "cell_type": "code",
   "execution_count": null,
   "id": "ca6c79ae-ed95-4c0a-b9c9-e0deae3fa2a2",
   "metadata": {},
   "outputs": [
    {
     "data": {
      "text/plain": [
       "p"
      ]
     },
     "execution_count": null,
     "metadata": {},
     "output_type": "execute_result"
    }
   ],
   "source": [
    "p"
   ]
  },
  {
   "cell_type": "code",
   "execution_count": null,
   "id": "d88abd9d-859a-4175-b2e8-0f8d997110a2",
   "metadata": {},
   "outputs": [
    {
     "data": {
      "text/plain": [
       "o"
      ]
     },
     "execution_count": null,
     "metadata": {},
     "output_type": "execute_result"
    }
   ],
   "source": [
    "o"
   ]
  },
  {
   "cell_type": "code",
   "execution_count": null,
   "id": "324126b0-ed45-4bf9-b24d-b01066bb78e4",
   "metadata": {},
   "outputs": [
    {
     "data": {
      "text/latex": [
       "$\\displaystyle x{\\left(t \\right)}$"
      ],
      "text/plain": [
       "x(t)"
      ]
     },
     "execution_count": null,
     "metadata": {},
     "output_type": "execute_result"
    }
   ],
   "source": [
    "x"
   ]
  },
  {
   "cell_type": "code",
   "execution_count": null,
   "id": "9f2afa18-da93-4c9e-a79b-7811f0a5b42e",
   "metadata": {},
   "outputs": [],
   "source": [
    "position_varies = x * ceiling.x"
   ]
  },
  {
   "cell_type": "code",
   "execution_count": null,
   "id": "6060b008-59dc-4020-83f1-0dc6beb77b91",
   "metadata": {},
   "outputs": [
    {
     "data": {
      "text/latex": [
       "$\\displaystyle x{\\left(t \\right)}\\mathbf{\\hat{c}_x}$"
      ],
      "text/plain": [
       "x(t)*C.x"
      ]
     },
     "execution_count": null,
     "metadata": {},
     "output_type": "execute_result"
    }
   ],
   "source": [
    "position_varies"
   ]
  },
  {
   "cell_type": "markdown",
   "id": "b5af61aa-0ee3-42a4-af3f-31b8d81aa3b2",
   "metadata": {},
   "source": [
    "Set the position of point `p` with relative to point `o` in reference frame `ceiling`. Given the position of `p` is `position_varies`"
   ]
  },
  {
   "cell_type": "code",
   "execution_count": null,
   "id": "90149ec2-0282-46c8-a394-7e041df4e90d",
   "metadata": {},
   "outputs": [],
   "source": [
    "p.set_pos(o, position_varies)"
   ]
  },
  {
   "cell_type": "code",
   "execution_count": null,
   "id": "695785ba-4aaf-4744-9286-cf9e64f45464",
   "metadata": {},
   "outputs": [],
   "source": []
  }
 ],
 "metadata": {
  "kernelspec": {
   "display_name": "Python 3 (ipykernel)",
   "language": "python",
   "name": "python3"
  }
 },
 "nbformat": 4,
 "nbformat_minor": 5
}
