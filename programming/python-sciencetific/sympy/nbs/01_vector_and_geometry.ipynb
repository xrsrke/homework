{
 "cells": [
  {
   "cell_type": "code",
   "execution_count": null,
   "id": "e35e9b6c-70e5-472e-9141-506b9fa0adda",
   "metadata": {},
   "outputs": [],
   "source": [
    "import numpy as np\n",
    "import sympy as smp\n",
    "from sympy.vector import *\n",
    "from matplotlib import pyplot as plt\n",
    "from scipy.integrate import quad\n",
    "from scipy.integrate import quad_vec"
   ]
  },
  {
   "cell_type": "code",
   "execution_count": null,
   "id": "833dc326-b65c-4d54-9fa7-009a2e1e6fc7",
   "metadata": {},
   "outputs": [],
   "source": [
    "x, y, z = smp.symbols('x y z')"
   ]
  },
  {
   "cell_type": "code",
   "execution_count": null,
   "id": "4bbca2e7-76ea-4193-8a8f-417594591991",
   "metadata": {},
   "outputs": [],
   "source": [
    "u1, u2, u3 = smp.symbols('u_1 u_2 u_3')"
   ]
  },
  {
   "cell_type": "code",
   "execution_count": null,
   "id": "025b26e1-e1d0-49ad-9cd9-33c8f0fbe44c",
   "metadata": {},
   "outputs": [],
   "source": [
    "v1, v2, v3 = smp.symbols('v_1 v_2 v_3')"
   ]
  },
  {
   "cell_type": "code",
   "execution_count": null,
   "id": "4387b5ad-5789-40e6-898d-907392d6ba06",
   "metadata": {},
   "outputs": [
    {
     "data": {
      "text/latex": [
       "$\\displaystyle u_{1}$"
      ],
      "text/plain": [
       "u_1"
      ]
     },
     "execution_count": null,
     "metadata": {},
     "output_type": "execute_result"
    }
   ],
   "source": [
    "u1"
   ]
  },
  {
   "cell_type": "markdown",
   "id": "9a4d66a8-e820-4b59-80ee-685005b2d7c9",
   "metadata": {},
   "source": [
    "# 1. Vector and Geometry"
   ]
  },
  {
   "cell_type": "code",
   "execution_count": null,
   "id": "f06664de-af80-4fe7-9b50-e298aae02557",
   "metadata": {},
   "outputs": [
    {
     "data": {
      "text/plain": [
       "(u_1, u_2, u_3)"
      ]
     },
     "execution_count": null,
     "metadata": {},
     "output_type": "execute_result"
    }
   ],
   "source": [
    "u1, u2, u3"
   ]
  },
  {
   "cell_type": "markdown",
   "id": "4602f62c-2781-4e16-b3c1-2ed9c612fc2f",
   "metadata": {},
   "source": [
    "Create a matrix $u$"
   ]
  },
  {
   "cell_type": "code",
   "execution_count": null,
   "id": "fad20148-90a5-460d-9e41-beb1587fb55d",
   "metadata": {},
   "outputs": [],
   "source": [
    "u = smp.Matrix([u1, u2, u3])"
   ]
  },
  {
   "cell_type": "code",
   "execution_count": null,
   "id": "665d25d8-e717-4bb9-a0da-91bf22c6caa7",
   "metadata": {},
   "outputs": [
    {
     "data": {
      "text/latex": [
       "$\\displaystyle \\left[\\begin{matrix}u_{1}\\\\u_{2}\\\\u_{3}\\end{matrix}\\right]$"
      ],
      "text/plain": [
       "Matrix([\n",
       "[u_1],\n",
       "[u_2],\n",
       "[u_3]])"
      ]
     },
     "execution_count": null,
     "metadata": {},
     "output_type": "execute_result"
    }
   ],
   "source": [
    "u"
   ]
  },
  {
   "cell_type": "code",
   "execution_count": null,
   "id": "2741f7dc-c128-40db-8f97-38176015db1b",
   "metadata": {},
   "outputs": [],
   "source": [
    "v = smp.Matrix([v1, v2, v3])"
   ]
  },
  {
   "cell_type": "code",
   "execution_count": null,
   "id": "79e8d012-f25a-470f-9ac1-1043238394cd",
   "metadata": {},
   "outputs": [
    {
     "data": {
      "text/latex": [
       "$\\displaystyle \\left[\\begin{matrix}v_{1}\\\\v_{2}\\\\v_{3}\\end{matrix}\\right]$"
      ],
      "text/plain": [
       "Matrix([\n",
       "[v_1],\n",
       "[v_2],\n",
       "[v_3]])"
      ]
     },
     "execution_count": null,
     "metadata": {},
     "output_type": "execute_result"
    }
   ],
   "source": [
    "v"
   ]
  },
  {
   "cell_type": "markdown",
   "id": "8e4cf442-5c78-4b2d-b697-9d4a9d02dda5",
   "metadata": {},
   "source": [
    "### Dot Product"
   ]
  },
  {
   "cell_type": "code",
   "execution_count": null,
   "id": "312b85aa-a941-4657-958d-ac57febdc971",
   "metadata": {},
   "outputs": [
    {
     "data": {
      "text/latex": [
       "$\\displaystyle \\left[\\begin{matrix}u_{1}\\\\u_{2}\\\\u_{3}\\end{matrix}\\right]$"
      ],
      "text/plain": [
       "Matrix([\n",
       "[u_1],\n",
       "[u_2],\n",
       "[u_3]])"
      ]
     },
     "execution_count": null,
     "metadata": {},
     "output_type": "execute_result"
    }
   ],
   "source": [
    "u"
   ]
  },
  {
   "cell_type": "code",
   "execution_count": null,
   "id": "4cfc35b6-d19d-4d6d-ab44-9ef80d348349",
   "metadata": {},
   "outputs": [
    {
     "data": {
      "text/latex": [
       "$\\displaystyle \\left[\\begin{matrix}v_{1}\\\\v_{2}\\\\v_{3}\\end{matrix}\\right]$"
      ],
      "text/plain": [
       "Matrix([\n",
       "[v_1],\n",
       "[v_2],\n",
       "[v_3]])"
      ]
     },
     "execution_count": null,
     "metadata": {},
     "output_type": "execute_result"
    }
   ],
   "source": [
    "v"
   ]
  },
  {
   "cell_type": "markdown",
   "id": "1be933dc-f8e8-459c-a861-28d26ad35c51",
   "metadata": {},
   "source": [
    "Calculate the dot product between vectors $u$ and $v$"
   ]
  },
  {
   "cell_type": "code",
   "execution_count": null,
   "id": "921ee5b1-f124-42c5-aacc-db0d0ae2f15b",
   "metadata": {},
   "outputs": [
    {
     "data": {
      "text/latex": [
       "$\\displaystyle u_{1} v_{1} + u_{2} v_{2} + u_{3} v_{3}$"
      ],
      "text/plain": [
       "u_1*v_1 + u_2*v_2 + u_3*v_3"
      ]
     },
     "execution_count": null,
     "metadata": {},
     "output_type": "execute_result"
    }
   ],
   "source": [
    "u.dot(v)"
   ]
  },
  {
   "cell_type": "markdown",
   "id": "176fc87f-1a31-48d1-ac43-667fdbc22750",
   "metadata": {},
   "source": [
    "### Cross Product"
   ]
  },
  {
   "cell_type": "code",
   "execution_count": null,
   "id": "1e80856a-85ee-494b-b388-ae6ccb4b2f86",
   "metadata": {},
   "outputs": [
    {
     "data": {
      "text/latex": [
       "$\\displaystyle \\left[\\begin{matrix}u_{1}\\\\u_{2}\\\\u_{3}\\end{matrix}\\right]$"
      ],
      "text/plain": [
       "Matrix([\n",
       "[u_1],\n",
       "[u_2],\n",
       "[u_3]])"
      ]
     },
     "execution_count": null,
     "metadata": {},
     "output_type": "execute_result"
    }
   ],
   "source": [
    "u"
   ]
  },
  {
   "cell_type": "code",
   "execution_count": null,
   "id": "cabb2891-08f4-452b-9b1f-a3c7d6b650ce",
   "metadata": {},
   "outputs": [
    {
     "data": {
      "text/latex": [
       "$\\displaystyle \\left[\\begin{matrix}v_{1}\\\\v_{2}\\\\v_{3}\\end{matrix}\\right]$"
      ],
      "text/plain": [
       "Matrix([\n",
       "[v_1],\n",
       "[v_2],\n",
       "[v_3]])"
      ]
     },
     "execution_count": null,
     "metadata": {},
     "output_type": "execute_result"
    }
   ],
   "source": [
    "v"
   ]
  },
  {
   "cell_type": "markdown",
   "id": "a8dc3914-03d8-48b8-aa27-db4097baef27",
   "metadata": {},
   "source": [
    "Calculate the cross product between vectors $u$ and $v$"
   ]
  },
  {
   "cell_type": "code",
   "execution_count": null,
   "id": "363e8a9e-a01f-4a0f-93bb-3768b4bc623d",
   "metadata": {},
   "outputs": [
    {
     "data": {
      "text/latex": [
       "$\\displaystyle \\left[\\begin{matrix}u_{2} v_{3} - u_{3} v_{2}\\\\- u_{1} v_{3} + u_{3} v_{1}\\\\u_{1} v_{2} - u_{2} v_{1}\\end{matrix}\\right]$"
      ],
      "text/plain": [
       "Matrix([\n",
       "[ u_2*v_3 - u_3*v_2],\n",
       "[-u_1*v_3 + u_3*v_1],\n",
       "[ u_1*v_2 - u_2*v_1]])"
      ]
     },
     "execution_count": null,
     "metadata": {},
     "output_type": "execute_result"
    }
   ],
   "source": [
    "u.cross(v)"
   ]
  },
  {
   "cell_type": "markdown",
   "id": "2d9b1692-efb7-47a9-acf9-7eec61e2d173",
   "metadata": {},
   "source": [
    "### Length of a vector"
   ]
  },
  {
   "cell_type": "code",
   "execution_count": null,
   "id": "5bb076ee-fa7b-4988-88ea-e85791c5837d",
   "metadata": {},
   "outputs": [
    {
     "data": {
      "text/latex": [
       "$\\displaystyle \\left[\\begin{matrix}u_{1}\\\\u_{2}\\\\u_{3}\\end{matrix}\\right]$"
      ],
      "text/plain": [
       "Matrix([\n",
       "[u_1],\n",
       "[u_2],\n",
       "[u_3]])"
      ]
     },
     "execution_count": null,
     "metadata": {},
     "output_type": "execute_result"
    }
   ],
   "source": [
    "u"
   ]
  },
  {
   "cell_type": "markdown",
   "id": "2208511f-bb44-4785-96e2-e3ac180a1bc0",
   "metadata": {},
   "source": [
    "Find the length of `u`"
   ]
  },
  {
   "cell_type": "code",
   "execution_count": null,
   "id": "a5c76a80-5982-4c85-8256-bb52e09371dd",
   "metadata": {},
   "outputs": [
    {
     "data": {
      "text/latex": [
       "$\\displaystyle \\sqrt{\\left|{u_{1}}\\right|^{2} + \\left|{u_{2}}\\right|^{2} + \\left|{u_{3}}\\right|^{2}}$"
      ],
      "text/plain": [
       "sqrt(Abs(u_1)**2 + Abs(u_2)**2 + Abs(u_3)**2)"
      ]
     },
     "execution_count": null,
     "metadata": {},
     "output_type": "execute_result"
    }
   ],
   "source": [
    "u.norm()"
   ]
  },
  {
   "cell_type": "code",
   "execution_count": null,
   "id": "7d6c185c-a0cc-45c8-8f14-ab3490a61203",
   "metadata": {},
   "outputs": [],
   "source": []
  },
  {
   "cell_type": "code",
   "execution_count": null,
   "id": "44c769d5-9887-4d62-b446-c86ae4a4dcb2",
   "metadata": {},
   "outputs": [],
   "source": []
  }
 ],
 "metadata": {
  "kernelspec": {
   "display_name": "Python 3 (ipykernel)",
   "language": "python",
   "name": "python3"
  }
 },
 "nbformat": 4,
 "nbformat_minor": 5
}
