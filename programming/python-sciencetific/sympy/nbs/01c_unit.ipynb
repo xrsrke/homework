{
 "cells": [
  {
   "cell_type": "code",
   "execution_count": 2,
   "id": "399274d2-c318-479c-8511-51a6cded8576",
   "metadata": {},
   "outputs": [],
   "source": [
    "import sympy as smp\n",
    "from sympy.physics.units import length, mass"
   ]
  },
  {
   "cell_type": "code",
   "execution_count": 3,
   "id": "03b8a111-44d4-4e93-a282-549f0a11bd57",
   "metadata": {},
   "outputs": [
    {
     "data": {
      "text/latex": [
       "$\\displaystyle \\operatorname{Dimension}\\left(length, L\\right)$"
      ],
      "text/plain": [
       "Dimension(length, L)"
      ]
     },
     "execution_count": 3,
     "metadata": {},
     "output_type": "execute_result"
    }
   ],
   "source": [
    "length"
   ]
  },
  {
   "cell_type": "code",
   "execution_count": 4,
   "id": "e7d5e4cd-b370-41c6-8545-df472a2786d4",
   "metadata": {},
   "outputs": [
    {
     "data": {
      "text/latex": [
       "$\\displaystyle \\operatorname{Dimension}\\left(length, L\\right)$"
      ],
      "text/plain": [
       "Dimension(length, L)"
      ]
     },
     "execution_count": 4,
     "metadata": {},
     "output_type": "execute_result"
    }
   ],
   "source": [
    "2 * length"
   ]
  },
  {
   "cell_type": "code",
   "execution_count": 10,
   "id": "5a943a48-8a21-4f2c-a61f-ef315e926f0a",
   "metadata": {},
   "outputs": [],
   "source": [
    "from sympy import solve, symbols, pi, Eq\n",
    "from sympy.physics.units.systems import SI\n",
    "from sympy.physics.units import Quantity, length, mass\n",
    "from sympy.physics.units import day, gravitational_constant as G\n",
    "from sympy.physics.units import meter, kilogram\n",
    "T = symbols(\"T\")\n",
    "a = Quantity(\"venus_a\")"
   ]
  },
  {
   "cell_type": "code",
   "execution_count": 11,
   "id": "8110ee3f-2ce7-45a7-a24b-10fb364b62e6",
   "metadata": {},
   "outputs": [],
   "source": [
    "SI.set_quantity_dimension(a, length)\n",
    "SI.set_quantity_scale_factor(a, 108208000e3*meter)"
   ]
  },
  {
   "cell_type": "code",
   "execution_count": 12,
   "id": "39a626c2-caf1-49dc-a539-5087b9d0864a",
   "metadata": {},
   "outputs": [],
   "source": [
    "M = Quantity(\"solar_mass\")\n",
    "SI.set_quantity_dimension(M, mass)\n",
    "SI.set_quantity_scale_factor(M, 1.9891e30*kilogram)"
   ]
  },
  {
   "cell_type": "code",
   "execution_count": 13,
   "id": "7dc5ebc4-8e58-4980-80f2-feeb4a133774",
   "metadata": {},
   "outputs": [
    {
     "data": {
      "text/latex": [
       "$\\displaystyle \\frac{2 \\pi \\text{venus_a}^{\\frac{3}{2}}}{\\sqrt{\\text{G}} \\sqrt{\\text{solar_mass}}}$"
      ],
      "text/plain": [
       "2*pi*venus_a**(3/2)/(sqrt(gravitational_constant)*sqrt(solar_mass))"
      ]
     },
     "execution_count": 13,
     "metadata": {},
     "output_type": "execute_result"
    }
   ],
   "source": [
    "eq = Eq(T**2 / a**3, 4*pi**2 / G / M)\n",
    "eq\n",
    "q = solve(eq, T)[1]\n",
    "q"
   ]
  },
  {
   "cell_type": "code",
   "execution_count": null,
   "id": "7cc87fb2-5f89-4fc1-b336-b7f814572534",
   "metadata": {},
   "outputs": [],
   "source": []
  }
 ],
 "metadata": {
  "kernelspec": {
   "display_name": "Python 3 (ipykernel)",
   "language": "python",
   "name": "python3"
  },
  "language_info": {
   "codemirror_mode": {
    "name": "ipython",
    "version": 3
   },
   "file_extension": ".py",
   "mimetype": "text/x-python",
   "name": "python",
   "nbconvert_exporter": "python",
   "pygments_lexer": "ipython3",
   "version": "3.9.13"
  }
 },
 "nbformat": 4,
 "nbformat_minor": 5
}
