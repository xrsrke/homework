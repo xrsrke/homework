{
 "cells": [
  {
   "cell_type": "code",
   "execution_count": null,
   "id": "20021263-c679-42d8-84e9-4a638ce26615",
   "metadata": {},
   "outputs": [],
   "source": [
    "import sympy as smp"
   ]
  },
  {
   "cell_type": "markdown",
   "id": "6ac73985-e8a1-48aa-bc35-1579c0f94cb8",
   "metadata": {},
   "source": [
    "### Equation"
   ]
  },
  {
   "cell_type": "code",
   "execution_count": null,
   "id": "1cff1666-099e-44c8-a7d1-2225e4d80f02",
   "metadata": {},
   "outputs": [],
   "source": [
    "x, y = smp.symbols('x y', positive=True)"
   ]
  },
  {
   "cell_type": "code",
   "execution_count": null,
   "id": "98daf7cc-2e40-4b38-9723-b5d8a1cd896f",
   "metadata": {},
   "outputs": [
    {
     "data": {
      "text/latex": [
       "$\\displaystyle x$"
      ],
      "text/plain": [
       "x"
      ]
     },
     "execution_count": null,
     "metadata": {},
     "output_type": "execute_result"
    }
   ],
   "source": [
    "x"
   ]
  },
  {
   "cell_type": "code",
   "execution_count": null,
   "id": "31f0a68e-2387-433a-a420-4aead087ad54",
   "metadata": {},
   "outputs": [
    {
     "data": {
      "text/plain": [
       "True"
      ]
     },
     "execution_count": null,
     "metadata": {},
     "output_type": "execute_result"
    }
   ],
   "source": [
    "x.is_real"
   ]
  },
  {
   "cell_type": "code",
   "execution_count": null,
   "id": "fa06392b-284d-47f5-90b4-ead7946ffd34",
   "metadata": {},
   "outputs": [],
   "source": [
    "eq = smp.Eq(x**2, y)"
   ]
  },
  {
   "cell_type": "code",
   "execution_count": null,
   "id": "46898aa0-d867-43ee-8759-03accbaf38d6",
   "metadata": {},
   "outputs": [
    {
     "data": {
      "text/latex": [
       "$\\displaystyle x^{2} = y$"
      ],
      "text/plain": [
       "Eq(x**2, y)"
      ]
     },
     "execution_count": null,
     "metadata": {},
     "output_type": "execute_result"
    }
   ],
   "source": [
    "eq"
   ]
  },
  {
   "cell_type": "code",
   "execution_count": null,
   "id": "e68c3d45-b040-45b5-9fe0-87082badfcd1",
   "metadata": {},
   "outputs": [
    {
     "data": {
      "text/latex": [
       "$\\displaystyle x^{2} = y$"
      ],
      "text/plain": [
       "Eq(x**2, y)"
      ]
     },
     "execution_count": null,
     "metadata": {},
     "output_type": "execute_result"
    }
   ],
   "source": [
    "eq.rewrite('x')"
   ]
  },
  {
   "cell_type": "code",
   "execution_count": null,
   "id": "526f9b42-a6e1-4b58-bcf9-5ca63931cdd8",
   "metadata": {},
   "outputs": [],
   "source": [
    "a, b = eq.lhs, eq.rhs"
   ]
  },
  {
   "cell_type": "code",
   "execution_count": null,
   "id": "e36589eb-8622-45b8-8825-313765586c3f",
   "metadata": {},
   "outputs": [
    {
     "data": {
      "text/latex": [
       "$\\displaystyle x^{2}$"
      ],
      "text/plain": [
       "x**2"
      ]
     },
     "execution_count": null,
     "metadata": {},
     "output_type": "execute_result"
    }
   ],
   "source": [
    "a"
   ]
  },
  {
   "cell_type": "code",
   "execution_count": null,
   "id": "0b4aa28b-8925-4e3a-a05a-1d0662d43a5b",
   "metadata": {},
   "outputs": [
    {
     "data": {
      "text/latex": [
       "$\\displaystyle y$"
      ],
      "text/plain": [
       "y"
      ]
     },
     "execution_count": null,
     "metadata": {},
     "output_type": "execute_result"
    }
   ],
   "source": [
    "b"
   ]
  },
  {
   "cell_type": "code",
   "execution_count": null,
   "id": "8ebd181c-eda7-4530-9266-05719a981ff4",
   "metadata": {},
   "outputs": [],
   "source": []
  }
 ],
 "metadata": {
  "kernelspec": {
   "display_name": "Python 3 (ipykernel)",
   "language": "python",
   "name": "python3"
  }
 },
 "nbformat": 4,
 "nbformat_minor": 5
}
