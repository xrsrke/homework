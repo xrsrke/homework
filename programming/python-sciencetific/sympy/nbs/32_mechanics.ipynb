{
 "cells": [
  {
   "cell_type": "code",
   "execution_count": null,
   "id": "912d3557-d8b8-4f61-b3b6-194111d94cd1",
   "metadata": {},
   "outputs": [],
   "source": []
  },
  {
   "cell_type": "markdown",
   "id": "6c72644a-3cc4-4c1a-abfd-44dfa9316b62",
   "metadata": {
    "tags": []
   },
   "source": [
    "### Particle"
   ]
  },
  {
   "cell_type": "code",
   "execution_count": 10,
   "id": "5a267fdd-3bd7-4927-a2ca-762b8408e000",
   "metadata": {},
   "outputs": [],
   "source": [
    "import sympy as smp"
   ]
  },
  {
   "cell_type": "markdown",
   "id": "98a48435-8345-4f27-a372-63f05e505594",
   "metadata": {},
   "source": [
    "##### Example 1: Create a particle"
   ]
  },
  {
   "cell_type": "code",
   "execution_count": 27,
   "id": "3f540369-e611-44ef-9318-604e6ebbafb0",
   "metadata": {},
   "outputs": [],
   "source": [
    "from sympy.physics.mechanics import Particle, Point"
   ]
  },
  {
   "cell_type": "markdown",
   "id": "23b778c3-43da-47be-831a-9d8c70385928",
   "metadata": {},
   "source": [
    "Creata a particle `pa` from scratch\n",
    "\n",
    "Hint: a particle needs a point and mass"
   ]
  },
  {
   "cell_type": "markdown",
   "id": "d022463b-1b07-4e1e-82b8-1cb3e7f673d6",
   "metadata": {},
   "source": [
    "Create a symbol for mass"
   ]
  },
  {
   "cell_type": "code",
   "execution_count": 28,
   "id": "7f716dca-d783-4a23-8506-f2d802c22ab0",
   "metadata": {},
   "outputs": [],
   "source": [
    "m = smp.Symbol('m')"
   ]
  },
  {
   "cell_type": "markdown",
   "id": "dd60b5a1-9f7c-48ff-894b-5c94c6a88013",
   "metadata": {},
   "source": [
    "Create a point `a1`"
   ]
  },
  {
   "cell_type": "code",
   "execution_count": 29,
   "id": "7c5afc92-7f89-4936-8707-a687ccd5f65b",
   "metadata": {},
   "outputs": [],
   "source": [
    "a1 = Point('a1')"
   ]
  },
  {
   "cell_type": "code",
   "execution_count": 30,
   "id": "c3dd1b1b-6683-4da1-a92c-c75771e26910",
   "metadata": {},
   "outputs": [],
   "source": [
    "pa = Particle('pa', a1, m)"
   ]
  },
  {
   "cell_type": "code",
   "execution_count": 31,
   "id": "e2e59720-9bb6-4570-a586-357cfdab6c57",
   "metadata": {},
   "outputs": [
    {
     "data": {
      "text/plain": [
       "pa"
      ]
     },
     "execution_count": 31,
     "metadata": {},
     "output_type": "execute_result"
    }
   ],
   "source": [
    "pa"
   ]
  },
  {
   "cell_type": "markdown",
   "id": "f8ca5791-3a2d-4740-8201-7ad473e6900c",
   "metadata": {},
   "source": [
    "### Rigid Body"
   ]
  },
  {
   "cell_type": "code",
   "execution_count": 32,
   "id": "d21e5e36-512f-4841-90c6-b5273706fc8e",
   "metadata": {},
   "outputs": [],
   "source": [
    "from sympy import Symbol\n",
    "from sympy.physics.mechanics import ReferenceFrame, Point, RigidBody\n",
    "from sympy.physics.mechanics import outer"
   ]
  },
  {
   "cell_type": "code",
   "execution_count": 34,
   "id": "8a6b7701-afda-4b1d-89e0-f7a2efeaca61",
   "metadata": {},
   "outputs": [],
   "source": [
    "m = Symbol('m')"
   ]
  },
  {
   "cell_type": "code",
   "execution_count": 35,
   "id": "88229fc3-7c44-45a7-875a-26a0eeff5a09",
   "metadata": {},
   "outputs": [],
   "source": [
    "A = ReferenceFrame('A')"
   ]
  },
  {
   "cell_type": "markdown",
   "id": "be78ff51-a044-4853-b0e8-d5120f1bc528",
   "metadata": {},
   "source": [
    "### Kinetic Energy"
   ]
  },
  {
   "cell_type": "code",
   "execution_count": 36,
   "id": "a6a27e43-0a1d-45bf-9bcf-a151ca5f0d89",
   "metadata": {},
   "outputs": [],
   "source": [
    "from sympy import symbols\n",
    "from sympy.physics.mechanics import dynamicsymbols, ReferenceFrame, outer\n",
    "from sympy.physics.mechanics import RigidBody, Particle\n",
    "from sympy.physics.mechanics import kinetic_energy, potential_energy, Point\n",
    "from sympy.physics.vector import init_vprinting"
   ]
  },
  {
   "cell_type": "code",
   "execution_count": 46,
   "id": "487b5e6d-2267-487c-93d0-03b88cca8859",
   "metadata": {},
   "outputs": [],
   "source": [
    "from sympy.physics import mechanics as me"
   ]
  },
  {
   "cell_type": "markdown",
   "id": "ec6a4de5-a9d1-480e-bd1d-5f56c280de73",
   "metadata": {},
   "source": [
    "Create a `omega` symbol as a function of tiem"
   ]
  },
  {
   "cell_type": "code",
   "execution_count": 47,
   "id": "1204062b-9235-4a8e-b93b-1225e1af3341",
   "metadata": {},
   "outputs": [],
   "source": [
    "omega = me.dynamicsymbols('omega')"
   ]
  },
  {
   "cell_type": "code",
   "execution_count": 48,
   "id": "ac2f5d38-1094-4a00-ba5c-0fda5530be8b",
   "metadata": {},
   "outputs": [
    {
     "data": {
      "text/latex": [
       "$\\displaystyle \\omega{\\left(t \\right)}$"
      ],
      "text/plain": [
       "omega(t)"
      ]
     },
     "execution_count": 48,
     "metadata": {},
     "output_type": "execute_result"
    }
   ],
   "source": [
    "omega"
   ]
  },
  {
   "cell_type": "code",
   "execution_count": 49,
   "id": "e8bb8e34-1979-4aae-bfa5-caad741b4495",
   "metadata": {},
   "outputs": [],
   "source": [
    "m, M, l1, g, h, H = symbols('m M l1 g h H')"
   ]
  },
  {
   "cell_type": "code",
   "execution_count": 50,
   "id": "2367605b-ff1d-4066-ade3-7bbfe0742b9f",
   "metadata": {},
   "outputs": [],
   "source": [
    "N = ReferenceFrame('N')"
   ]
  },
  {
   "cell_type": "code",
   "execution_count": 51,
   "id": "51e746c0-3612-4ec4-b2e2-db6395296e9f",
   "metadata": {},
   "outputs": [],
   "source": [
    "O = Point('O')"
   ]
  },
  {
   "cell_type": "code",
   "execution_count": 52,
   "id": "1cb4b729-87fe-488a-87dc-0b58affd9b36",
   "metadata": {},
   "outputs": [],
   "source": [
    "O.set_vel(N, 0 * N.x)"
   ]
  },
  {
   "cell_type": "markdown",
   "id": "f9506bd9-5360-4786-a191-4c9c211e0662",
   "metadata": {},
   "source": [
    "https://docs.sympy.org/latest/modules/physics/mechanics/masses.html"
   ]
  },
  {
   "cell_type": "code",
   "execution_count": null,
   "id": "71c06da5-d8ed-40b3-836e-63bbbf90b314",
   "metadata": {},
   "outputs": [],
   "source": []
  }
 ],
 "metadata": {
  "kernelspec": {
   "display_name": "Python 3 (ipykernel)",
   "language": "python",
   "name": "python3"
  },
  "language_info": {
   "codemirror_mode": {
    "name": "ipython",
    "version": 3
   },
   "file_extension": ".py",
   "mimetype": "text/x-python",
   "name": "python",
   "nbconvert_exporter": "python",
   "pygments_lexer": "ipython3",
   "version": "3.9.13"
  }
 },
 "nbformat": 4,
 "nbformat_minor": 5
}
