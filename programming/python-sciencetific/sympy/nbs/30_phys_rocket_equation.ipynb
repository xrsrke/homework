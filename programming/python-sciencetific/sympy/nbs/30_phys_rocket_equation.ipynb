{
 "cells": [
  {
   "cell_type": "markdown",
   "id": "3c716402-2048-4b7c-ad94-935a95972440",
   "metadata": {},
   "source": [
    "# Rocket Equation"
   ]
  },
  {
   "cell_type": "code",
   "execution_count": 1,
   "id": "ffafd2ef-35f8-43f1-a9b4-bc45850e4326",
   "metadata": {},
   "outputs": [],
   "source": [
    "import numpy as np\n",
    "import sympy as smp\n",
    "from scipy.integrate import odeint\n",
    "import matplotlib.pyplot as plt\n",
    "from matplotlib import animation\n",
    "from mpl_toolkits.mplot3d import Axes3D\n",
    "from matplotlib.animation import PillowWriter"
   ]
  },
  {
   "cell_type": "code",
   "execution_count": 8,
   "id": "54d13ad6-5e7b-485a-af4b-261281093fd7",
   "metadata": {},
   "outputs": [],
   "source": [
    "x, y, z = smp.symbols('x y z')"
   ]
  },
  {
   "cell_type": "code",
   "execution_count": 18,
   "id": "354e02aa-19ea-4c74-9396-fbf7bfbbbbef",
   "metadata": {},
   "outputs": [
    {
     "data": {
      "text/latex": [
       "$\\displaystyle x$"
      ],
      "text/plain": [
       "x"
      ]
     },
     "execution_count": 18,
     "metadata": {},
     "output_type": "execute_result"
    }
   ],
   "source": [
    "x"
   ]
  },
  {
   "cell_type": "code",
   "execution_count": 19,
   "id": "fb037ffc-c63c-42aa-82db-509daacafa38",
   "metadata": {},
   "outputs": [
    {
     "data": {
      "text/latex": [
       "$\\displaystyle y$"
      ],
      "text/plain": [
       "y"
      ]
     },
     "execution_count": 19,
     "metadata": {},
     "output_type": "execute_result"
    }
   ],
   "source": [
    "y"
   ]
  },
  {
   "cell_type": "code",
   "execution_count": 20,
   "id": "b710dab7-c8de-4bf9-b407-afffcdebe7ba",
   "metadata": {},
   "outputs": [
    {
     "data": {
      "text/latex": [
       "$\\displaystyle x = y$"
      ],
      "text/plain": [
       "Eq(x, y)"
      ]
     },
     "execution_count": 20,
     "metadata": {},
     "output_type": "execute_result"
    }
   ],
   "source": [
    "smp.Eq(x, y)"
   ]
  },
  {
   "cell_type": "code",
   "execution_count": 6,
   "id": "b5a236cf-107f-4a2e-8dfb-ed0bf4a3e817",
   "metadata": {},
   "outputs": [
    {
     "data": {
      "text/latex": [
       "$\\displaystyle 1$"
      ],
      "text/plain": [
       "1"
      ]
     },
     "execution_count": 6,
     "metadata": {},
     "output_type": "execute_result"
    }
   ],
   "source": [
    "smp.simplify(smp.sin(x)**2 + smp.cos(x)**2)"
   ]
  },
  {
   "cell_type": "code",
   "execution_count": 9,
   "id": "28fd5483-f976-4133-9a95-0fa3eea0066b",
   "metadata": {},
   "outputs": [],
   "source": [
    "expr = x**2 + x*y"
   ]
  },
  {
   "cell_type": "code",
   "execution_count": 11,
   "id": "8ae016eb-8e1e-494b-9475-0e7a8c3add1e",
   "metadata": {},
   "outputs": [
    {
     "data": {
      "text/latex": [
       "$\\displaystyle x^{2} + x y$"
      ],
      "text/plain": [
       "x**2 + x*y"
      ]
     },
     "execution_count": 11,
     "metadata": {},
     "output_type": "execute_result"
    }
   ],
   "source": [
    "expr"
   ]
  },
  {
   "cell_type": "code",
   "execution_count": 10,
   "id": "3bfe3d69-7251-46d6-b793-04257e523b2f",
   "metadata": {},
   "outputs": [
    {
     "data": {
      "text/plain": [
       "\"Add(Pow(Symbol('x'), Integer(2)), Mul(Symbol('x'), Symbol('y')))\""
      ]
     },
     "execution_count": 10,
     "metadata": {},
     "output_type": "execute_result"
    }
   ],
   "source": [
    "smp.srepr(expr)"
   ]
  },
  {
   "cell_type": "code",
   "execution_count": 25,
   "id": "cdcde11a-ce83-41ef-a340-c74f9a1acf54",
   "metadata": {},
   "outputs": [],
   "source": [
    "x, a, t = smp.symbols('x a t', positive=True, real=True)"
   ]
  },
  {
   "cell_type": "code",
   "execution_count": 30,
   "id": "ac233e6f-947b-4667-8889-37a364cccc76",
   "metadata": {},
   "outputs": [
    {
     "data": {
      "text/latex": [
       "$\\displaystyle \\frac{\\sqrt{2} \\sqrt{x}}{\\sqrt{a}}$"
      ],
      "text/plain": [
       "sqrt(2)*sqrt(x)/sqrt(a)"
      ]
     },
     "execution_count": 30,
     "metadata": {},
     "output_type": "execute_result"
    }
   ],
   "source": [
    "smp.solve(smp.Eq(x, (a*t**2/2)), t)[0]"
   ]
  },
  {
   "cell_type": "code",
   "execution_count": null,
   "id": "723dd011-a1ae-467a-85ea-43d7a7fee6f9",
   "metadata": {},
   "outputs": [],
   "source": []
  }
 ],
 "metadata": {
  "kernelspec": {
   "display_name": "Python 3 (ipykernel)",
   "language": "python",
   "name": "python3"
  },
  "language_info": {
   "codemirror_mode": {
    "name": "ipython",
    "version": 3
   },
   "file_extension": ".py",
   "mimetype": "text/x-python",
   "name": "python",
   "nbconvert_exporter": "python",
   "pygments_lexer": "ipython3",
   "version": "3.9.13"
  }
 },
 "nbformat": 4,
 "nbformat_minor": 5
}
