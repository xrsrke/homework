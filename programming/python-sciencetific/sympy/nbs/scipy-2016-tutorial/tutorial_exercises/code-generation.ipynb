{
 "cells": [
  {
   "cell_type": "code",
   "execution_count": 5,
   "metadata": {
    "collapsed": false
   },
   "outputs": [],
   "source": [
    "from sympy import *\n",
    "from sympy.physics.hydrogen import R_nl\n",
    "init_printing()\n",
    "\n",
    "x = symbols('x')"
   ]
  },
  {
   "cell_type": "markdown",
   "metadata": {},
   "source": [
    "# Code Generation "
   ]
  },
  {
   "cell_type": "code",
   "execution_count": 31,
   "metadata": {
    "collapsed": false
   },
   "outputs": [
    {
     "data": {
      "image/png": "[encoded data removed]",
      "text/latex": [
       "$$\\frac{\\sqrt{6} x}{81} \\left(- \\frac{2 x}{3} + 4\\right) e^{- \\frac{x}{3}}$$"
      ],
      "text/plain": [
       "                  -x \n",
       "                  ───\n",
       "     ⎛  2⋅x    ⎞   3 \n",
       "√6⋅x⋅⎜- ─── + 4⎟⋅ℯ   \n",
       "     ⎝   3     ⎠     \n",
       "─────────────────────\n",
       "          81         "
      ]
     },
     "execution_count": 31,
     "metadata": {},
     "output_type": "execute_result"
    }
   ],
   "source": [
    "expr = R_nl(3, 1, x, 1)\n",
    "expr"
   ]
  },
  {
   "cell_type": "code",
   "execution_count": 32,
   "metadata": {
    "collapsed": true
   },
   "outputs": [],
   "source": [
    "from sympy.utilities.autowrap import ufuncify\n",
    "from sympy.utilities.lambdify import lambdify\n",
    "\n",
    "fn_numpy   = lambdify(x, expr, 'numpy')\n",
    "fn_fortran = ufuncify([x], expr)"
   ]
  },
  {
   "cell_type": "markdown",
   "metadata": {},
   "source": [
    "## They work the same"
   ]
  },
  {
   "cell_type": "code",
   "execution_count": 33,
   "metadata": {
    "collapsed": false
   },
   "outputs": [
    {
     "data": {
      "text/plain": [
       "array([ 0.        ,  0.02666343,  0.0469299 ,  0.06182246,  0.07222782])"
      ]
     },
     "execution_count": 33,
     "metadata": {},
     "output_type": "execute_result"
    }
   ],
   "source": [
    "from numpy import linspace\n",
    "xx = linspace(0, 1, 5)\n",
    "fn_numpy(xx)"
   ]
  },
  {
   "cell_type": "code",
   "execution_count": 34,
   "metadata": {
    "collapsed": false
   },
   "outputs": [
    {
     "data": {
      "text/plain": [
       "array([ 0.        ,  0.02666343,  0.0469299 ,  0.06182246,  0.07222782])"
      ]
     },
     "execution_count": 34,
     "metadata": {},
     "output_type": "execute_result"
    }
   ],
   "source": [
    "fn_fortran(xx)"
   ]
  },
  {
   "cell_type": "markdown",
   "metadata": {},
   "source": [
    "## Plot form with matplotlib"
   ]
  },
  {
   "cell_type": "code",
   "execution_count": 35,
   "metadata": {
    "collapsed": true
   },
   "outputs": [],
   "source": [
    "from matplotlib.pyplot import plot, show, legend\n",
    "%matplotlib inline"
   ]
  },
  {
   "cell_type": "code",
   "execution_count": 36,
   "metadata": {
    "collapsed": false
   },
   "outputs": [
    {
     "data": {
      "text/plain": [
       "[<matplotlib.lines.Line2D at 0x1177dbc88>]"
      ]
     },
     "execution_count": 36,
     "metadata": {},
     "output_type": "execute_result"
    },
    {
     "data": {
      "image/png": "[encoded data removed]",
      "text/plain": [
       "<matplotlib.figure.Figure at 0x117bdb978>"
      ]
     },
     "metadata": {},
     "output_type": "display_data"
    }
   ],
   "source": [
    "xx = linspace(0, 5, 50000)  # More points \n",
    "plot(xx, fn_numpy(xx))"
   ]
  },
  {
   "cell_type": "code",
   "execution_count": 37,
   "metadata": {
    "collapsed": false
   },
   "outputs": [
    {
     "name": "stdout",
     "output_type": "stream",
     "text": [
      "1000 loops, best of 3: 841 µs per loop\n"
     ]
    }
   ],
   "source": [
    "# Time fn_numpy\n",
    "%timeit fn_numpy(xx)"
   ]
  },
  {
   "cell_type": "code",
   "execution_count": 38,
   "metadata": {
    "collapsed": false
   },
   "outputs": [
    {
     "name": "stdout",
     "output_type": "stream",
     "text": [
      "1000 loops, best of 3: 654 µs per loop\n"
     ]
    }
   ],
   "source": [
    "# Time fn_fortran\n",
    "%timeit fn_fortran(xx)"
   ]
  },
  {
   "cell_type": "markdown",
   "metadata": {},
   "source": [
    "## More complex problem\n",
    "\n",
    "Lets compute both the expression and its derivative simultaneously. \n"
   ]
  },
  {
   "cell_type": "code",
   "execution_count": 42,
   "metadata": {
    "collapsed": false
   },
   "outputs": [
    {
     "data": {
      "image/png": "[encoded data removed]",
      "text/latex": [
       "$$\\left ( \\frac{\\sqrt{6} x}{81} \\left(- \\frac{2 x}{3} + 4\\right) e^{- \\frac{x}{3}}, \\quad \\frac{2 \\sqrt{6}}{729} \\left(x^{2} - 12 x + 18\\right) e^{- \\frac{x}{3}}\\right )$$"
      ],
      "text/plain": [
       "⎛                  -x                             ⎞\n",
       "⎜                  ───                         -x ⎟\n",
       "⎜     ⎛  2⋅x    ⎞   3                          ───⎟\n",
       "⎜√6⋅x⋅⎜- ─── + 4⎟⋅ℯ          ⎛ 2            ⎞   3 ⎟\n",
       "⎜     ⎝   3     ⎠       2⋅√6⋅⎝x  - 12⋅x + 18⎠⋅ℯ   ⎟\n",
       "⎜─────────────────────, ──────────────────────────⎟\n",
       "⎝          81                      729            ⎠"
      ]
     },
     "execution_count": 42,
     "metadata": {},
     "output_type": "execute_result"
    }
   ],
   "source": [
    "outputs = expr, simplify(expr.diff(x))\n",
    "outputs"
   ]
  },
  {
   "cell_type": "code",
   "execution_count": 44,
   "metadata": {
    "collapsed": false
   },
   "outputs": [],
   "source": [
    "fn_numpy  = lambdify([x], outputs, 'numpy')\n",
    "\n",
    "fns_fortran = [ufuncify([x], output) for output in outputs]\n",
    "fn_fortran  = lambda xx: [fn_fortran(xx) for fn_fortran in fns_fortran]"
   ]
  },
  {
   "cell_type": "code",
   "execution_count": 46,
   "metadata": {
    "collapsed": false
   },
   "outputs": [
    {
     "data": {
      "text/plain": [
       "<matplotlib.legend.Legend at 0x1179be0f0>"
      ]
     },
     "execution_count": 46,
     "metadata": {},
     "output_type": "execute_result"
    },
    {
     "data": {
      "image/png": "[encoded data removed]",
      "text/plain": [
       "<matplotlib.figure.Figure at 0x1179be128>"
      ]
     },
     "metadata": {},
     "output_type": "display_data"
    }
   ],
   "source": [
    "for y in fn_numpy(xx):\n",
    "    plot(xx, y)\n",
    "legend(['$R_{31}$', \"$R'_{31}$\"])"
   ]
  },
  {
   "cell_type": "code",
   "execution_count": 47,
   "metadata": {
    "collapsed": false
   },
   "outputs": [
    {
     "name": "stdout",
     "output_type": "stream",
     "text": [
      "1000 loops, best of 3: 1.6 ms per loop\n"
     ]
    }
   ],
   "source": [
    "%timeit fn_numpy(xx)"
   ]
  },
  {
   "cell_type": "code",
   "execution_count": 48,
   "metadata": {
    "collapsed": false
   },
   "outputs": [
    {
     "name": "stdout",
     "output_type": "stream",
     "text": [
      "1000 loops, best of 3: 1.29 ms per loop\n"
     ]
    }
   ],
   "source": [
    "%timeit fn_fortran(xx)"
   ]
  },
  {
   "cell_type": "code",
   "execution_count": null,
   "metadata": {
    "collapsed": true
   },
   "outputs": [],
   "source": []
  }
 ],
 "metadata": {
  "anaconda-cloud": {},
  "kernelspec": {
   "display_name": "Python [Root]",
   "language": "python",
   "name": "Python [Root]"
  },
  "language_info": {
   "codemirror_mode": {
    "name": "ipython",
    "version": 3
   },
   "file_extension": ".py",
   "mimetype": "text/x-python",
   "name": "python",
   "nbconvert_exporter": "python",
   "pygments_lexer": "ipython3",
   "version": "3.5.1"
  }
 },
 "nbformat": 4,
 "nbformat_minor": 0
}
