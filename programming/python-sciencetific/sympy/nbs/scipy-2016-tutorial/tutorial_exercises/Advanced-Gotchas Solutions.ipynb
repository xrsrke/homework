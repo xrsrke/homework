{
 "cells": [
  {
   "cell_type": "markdown",
   "metadata": {},
   "source": [
    "# Gotchas Solutions"
   ]
  },
  {
   "cell_type": "code",
   "execution_count": 13,
   "metadata": {
    "collapsed": false
   },
   "outputs": [],
   "source": [
    "from sympy import *\n",
    "init_printing()"
   ]
  },
  {
   "cell_type": "markdown",
   "metadata": {},
   "source": [
    "For each exercise, fill in the function according to its docstring. "
   ]
  },
  {
   "cell_type": "markdown",
   "metadata": {},
   "source": [
    "## Symbols"
   ]
  },
  {
   "cell_type": "markdown",
   "metadata": {},
   "source": [
    "What will be the output of the following code?\n",
    "\n",
    "    x = 3\n",
    "    y = symbols('y')\n",
    "    a = x + y\n",
    "    y = 5\n",
    "    print(a)\n",
    "\n",
    "Replace `???` in the below code with what you think the value of `a` will be.  Remember to define any Symbols you need!"
   ]
  },
  {
   "cell_type": "code",
   "execution_count": 14,
   "metadata": {
    "collapsed": false
   },
   "outputs": [],
   "source": [
    "def symbols_exercise():\n",
    "    \"\"\"\n",
    "    >>> def testfunc():\n",
    "    ...     x = 3\n",
    "    ...     y = symbols('y')\n",
    "    ...     a = x + y\n",
    "    ...     y = 5\n",
    "    ...     return a\n",
    "    >>> symbols_exercise() == testfunc()\n",
    "    True\n",
    "    \"\"\"\n",
    "    y = symbols('y')\n",
    "    return 3 + y"
   ]
  },
  {
   "cell_type": "code",
   "execution_count": 15,
   "metadata": {
    "collapsed": false
   },
   "outputs": [
    {
     "data": {
      "text/plain": [
       "True"
      ]
     },
     "execution_count": 15,
     "metadata": {},
     "output_type": "execute_result"
    }
   ],
   "source": [
    "def testfunc():\n",
    "    x = 3\n",
    "    y = symbols('y')\n",
    "    a = x + y\n",
    "    y = 5\n",
    "    return a\n",
    "\n",
    "symbols_exercise() == testfunc()"
   ]
  },
  {
   "cell_type": "markdown",
   "metadata": {},
   "source": [
    "## Equality"
   ]
  },
  {
   "cell_type": "markdown",
   "metadata": {},
   "source": [
    "Write a function that takes two expressions as input, and returns a tuple of two booleans. The first if they are equal symbolically, and the second if they are equal mathematically."
   ]
  },
  {
   "cell_type": "code",
   "execution_count": 16,
   "metadata": {
    "collapsed": false
   },
   "outputs": [],
   "source": [
    "def equality_exercise(a, b):\n",
    "    \"\"\"\n",
    "    Determine if a = b symbolically and mathematically.\n",
    "\n",
    "    Returns a tuple of two booleans. The first is True if a = b symbolically,\n",
    "    the second is True if a = b mathematically.  Note the second may be False\n",
    "    but the two still equal if SymPy is not powerful enough.\n",
    "\n",
    "    Examples\n",
    "    ========\n",
    "\n",
    "    >>> x = symbols('x')\n",
    "    >>> equality_exercise(x, 2)\n",
    "    (False, False)\n",
    "    >>> equality_exercise((x + 1)**2, x**2 + 2*x + 1)\n",
    "    (False, True)\n",
    "    >>> equality_exercise(2*x, 2*x)\n",
    "    (True, True)\n",
    "    \"\"\"\n",
    "    return (a == b, simplify(a - b) == 0)"
   ]
  },
  {
   "cell_type": "code",
   "execution_count": 17,
   "metadata": {
    "collapsed": false
   },
   "outputs": [],
   "source": [
    "x = symbols('x')"
   ]
  },
  {
   "cell_type": "code",
   "execution_count": 18,
   "metadata": {
    "collapsed": false
   },
   "outputs": [
    {
     "data": {
      "text/plain": [
       "(False, False)"
      ]
     },
     "execution_count": 18,
     "metadata": {},
     "output_type": "execute_result"
    }
   ],
   "source": [
    "equality_exercise(x, 2)"
   ]
  },
  {
   "cell_type": "code",
   "execution_count": 19,
   "metadata": {
    "collapsed": false
   },
   "outputs": [
    {
     "data": {
      "text/plain": [
       "(False, True)"
      ]
     },
     "execution_count": 19,
     "metadata": {},
     "output_type": "execute_result"
    }
   ],
   "source": [
    "equality_exercise((x + 1)**2, x**2 + 2*x + 1)"
   ]
  },
  {
   "cell_type": "code",
   "execution_count": 20,
   "metadata": {
    "collapsed": false
   },
   "outputs": [
    {
     "data": {
      "text/plain": [
       "(True, True)"
      ]
     },
     "execution_count": 20,
     "metadata": {},
     "output_type": "execute_result"
    }
   ],
   "source": [
    "equality_exercise(2*x, 2*x)"
   ]
  },
  {
   "cell_type": "markdown",
   "metadata": {},
   "source": [
    "## `^` and `/`"
   ]
  },
  {
   "cell_type": "markdown",
   "metadata": {},
   "source": [
    "Correct the following functions"
   ]
  },
  {
   "cell_type": "code",
   "execution_count": 21,
   "metadata": {
    "collapsed": false
   },
   "outputs": [],
   "source": [
    "def operator_exercise1():\n",
    "    \"\"\"\n",
    "    >>> operator_exercise1()\n",
    "    x**2 + 2*x + 1/2\n",
    "    \"\"\"\n",
    "    x = symbols('x')\n",
    "    return x**2 + 2*x + Rational(1, 2)"
   ]
  },
  {
   "cell_type": "code",
   "execution_count": 22,
   "metadata": {
    "collapsed": false
   },
   "outputs": [
    {
     "data": {
      "image/png": "[encoded data removed]",
      "text/latex": [
       "$$x^{2} + 2 x + \\frac{1}{2}$$"
      ],
      "text/plain": [
       " 2         1\n",
       "x  + 2⋅x + ─\n",
       "           2"
      ]
     },
     "execution_count": 22,
     "metadata": {},
     "output_type": "execute_result"
    }
   ],
   "source": [
    "operator_exercise1()"
   ]
  },
  {
   "cell_type": "code",
   "execution_count": 23,
   "metadata": {
    "collapsed": false
   },
   "outputs": [],
   "source": [
    "def operator_exercise2():\n",
    "    \"\"\"\n",
    "    >>> operator_exercise2()\n",
    "    (x**2/2 + 2*x + 3/4)**(3/2)\n",
    "    \"\"\"\n",
    "    x = symbols('x')\n",
    "    return (x**2/2 + 2*x + Rational(3, 4))**Rational(3, 2)"
   ]
  },
  {
   "cell_type": "code",
   "execution_count": 24,
   "metadata": {
    "collapsed": false
   },
   "outputs": [
    {
     "data": {
      "image/png": "[encoded data removed]",
      "text/latex": [
       "$$\\left(\\frac{x^{2}}{2} + 2 x + \\frac{3}{4}\\right)^{\\frac{3}{2}}$$"
      ],
      "text/plain": [
       "              3/2\n",
       "⎛ 2          ⎞   \n",
       "⎜x          3⎟   \n",
       "⎜── + 2⋅x + ─⎟   \n",
       "⎝2          4⎠   "
      ]
     },
     "execution_count": 24,
     "metadata": {},
     "output_type": "execute_result"
    }
   ],
   "source": [
    "operator_exercise2()"
   ]
  },
  {
   "cell_type": "code",
   "execution_count": null,
   "metadata": {
    "collapsed": false
   },
   "outputs": [],
   "source": []
  }
 ],
 "metadata": {},
 "nbformat": 4,
 "nbformat_minor": 0
}