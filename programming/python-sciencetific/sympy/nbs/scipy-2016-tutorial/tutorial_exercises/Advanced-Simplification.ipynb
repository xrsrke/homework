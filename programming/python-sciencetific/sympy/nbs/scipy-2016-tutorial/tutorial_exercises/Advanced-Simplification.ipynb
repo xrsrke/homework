{
 "cells": [
  {
   "cell_type": "markdown",
   "metadata": {},
   "source": [
    "# Simplification"
   ]
  },
  {
   "cell_type": "code",
   "execution_count": 1,
   "metadata": {
    "collapsed": false
   },
   "outputs": [],
   "source": [
    "from sympy import *\n",
    "x, y, z = symbols('x y z')\n",
    "init_printing()"
   ]
  },
  {
   "cell_type": "markdown",
   "metadata": {},
   "source": [
    "For each exercise, fill in the function according to its docstring."
   ]
  },
  {
   "cell_type": "markdown",
   "metadata": {},
   "source": [
    "## Polynomial/Rational Function Simplification"
   ]
  },
  {
   "cell_type": "markdown",
   "metadata": {},
   "source": [
    "In each exercise, apply specific simplification functions to get the desired result."
   ]
  },
  {
   "cell_type": "code",
   "execution_count": 2,
   "metadata": {
    "collapsed": false
   },
   "outputs": [],
   "source": [
    "def polysimp1(expr):\n",
    "    \"\"\"\n",
    "    >>> polysimp1(cos(x)*sin(x) + cos(x))\n",
    "    (sin(x) + 1)*cos(x)\n",
    "    >>> polysimp1(cos(x)*sin(x) + cos(x) + 1)\n",
    "    (sin(x) + 1)*cos(x) + 1\n",
    "    \"\"\"\n",
    "    return collect(expr, cos(x))"
   ]
  },
  {
   "cell_type": "code",
   "execution_count": 3,
   "metadata": {
    "collapsed": false
   },
   "outputs": [
    {
     "data": {
      "image/png": "[encoded data removed]",
      "text/latex": [
       "$$\\left(\\sin{\\left (x \\right )} + 1\\right) \\cos{\\left (x \\right )}$$"
      ],
      "text/plain": [
       "(sin(x) + 1)⋅cos(x)"
      ]
     },
     "execution_count": 3,
     "metadata": {},
     "output_type": "execute_result"
    }
   ],
   "source": [
    "polysimp1(cos(x)*sin(x) + cos(x))"
   ]
  },
  {
   "cell_type": "code",
   "execution_count": 4,
   "metadata": {
    "collapsed": false
   },
   "outputs": [
    {
     "data": {
      "image/png": "[encoded data removed]",
      "text/latex": [
       "$$\\left(\\sin{\\left (x \\right )} + 1\\right) \\cos{\\left (x \\right )} + 1$$"
      ],
      "text/plain": [
       "(sin(x) + 1)⋅cos(x) + 1"
      ]
     },
     "execution_count": 4,
     "metadata": {},
     "output_type": "execute_result"
    }
   ],
   "source": [
    "polysimp1(cos(x)*sin(x) + cos(x) + 1)"
   ]
  },
  {
   "cell_type": "code",
   "execution_count": 5,
   "metadata": {
    "collapsed": false
   },
   "outputs": [],
   "source": [
    "def polysimp2(expr):\n",
    "    \"\"\"\n",
    "    >>> polysimp2((2*x + 1)/(x**2 + x))\n",
    "    1/(x + 1) + 1/x\n",
    "    >>> polysimp2((x**2 + 3*x + 1)/(x**3 + 2*x**2 + x))\n",
    "    1/(x**2 + 2*x + 1) + 1/x\n",
    "    \"\"\"\n",
    "    return apart(expr, x)"
   ]
  },
  {
   "cell_type": "code",
   "execution_count": 6,
   "metadata": {
    "collapsed": false
   },
   "outputs": [
    {
     "data": {
      "image/png": "[encoded data removed]",
      "text/latex": [
       "$$\\frac{1}{x + 1} + \\frac{1}{x}$$"
      ],
      "text/plain": [
       "  1     1\n",
       "───── + ─\n",
       "x + 1   x"
      ]
     },
     "execution_count": 6,
     "metadata": {},
     "output_type": "execute_result"
    }
   ],
   "source": [
    "polysimp2((2*x + 1)/(x**2 + x))"
   ]
  },
  {
   "cell_type": "code",
   "execution_count": 7,
   "metadata": {
    "collapsed": false
   },
   "outputs": [
    {
     "data": {
      "image/png": "[encoded data removed]",
      "text/latex": [
       "$$\\frac{1}{\\left(x + 1\\right)^{2}} + \\frac{1}{x}$$"
      ],
      "text/plain": [
       "   1       1\n",
       "──────── + ─\n",
       "       2   x\n",
       "(x + 1)     "
      ]
     },
     "execution_count": 7,
     "metadata": {},
     "output_type": "execute_result"
    }
   ],
   "source": [
    "polysimp2((x**2 + 3*x + 1)/(x**3 + 2*x**2 + x))"
   ]
  },
  {
   "cell_type": "markdown",
   "metadata": {},
   "source": [
    "## Powers"
   ]
  },
  {
   "cell_type": "markdown",
   "metadata": {},
   "source": [
    "In each exercise, apply specific simplification functions to get the desired result. "
   ]
  },
  {
   "cell_type": "code",
   "execution_count": 8,
   "metadata": {
    "collapsed": false
   },
   "outputs": [],
   "source": [
    "def powersimp1(expr):\n",
    "    \"\"\"\n",
    "    >>> powersimp1(exp(x)*(exp(y) + 1))\n",
    "    exp(x) + exp(x + y)\n",
    "    \"\"\"\n",
    "    return powsimp(expand(expr))"
   ]
  },
  {
   "cell_type": "code",
   "execution_count": 9,
   "metadata": {
    "collapsed": false
   },
   "outputs": [
    {
     "data": {
      "image/png": "[encoded data removed]",
      "text/latex": [
       "$$e^{x} + e^{x + y}$$"
      ],
      "text/plain": [
       " x    x + y\n",
       "ℯ  + ℯ     "
      ]
     },
     "execution_count": 9,
     "metadata": {},
     "output_type": "execute_result"
    }
   ],
   "source": [
    "powersimp1(exp(x)*(exp(y) + 1))"
   ]
  },
  {
   "cell_type": "code",
   "execution_count": 10,
   "metadata": {
    "collapsed": false
   },
   "outputs": [],
   "source": [
    "def powersimp2(expr):\n",
    "    \"\"\"\n",
    "    >>> powersimp2(2**x*x**x)\n",
    "    (2*x)**x\n",
    "    >>> powersimp2(x**x*x**x)\n",
    "    (x**2)**x\n",
    "    \"\"\"\n",
    "    return powsimp(expr, force=True)"
   ]
  },
  {
   "cell_type": "code",
   "execution_count": 11,
   "metadata": {
    "collapsed": false
   },
   "outputs": [
    {
     "data": {
      "image/png": "[encoded data removed]",
      "text/latex": [
       "$$\\left(2 x\\right)^{x}$$"
      ],
      "text/plain": [
       "     x\n",
       "(2⋅x) "
      ]
     },
     "execution_count": 11,
     "metadata": {},
     "output_type": "execute_result"
    }
   ],
   "source": [
    "powersimp2(2**x*x**x)"
   ]
  },
  {
   "cell_type": "code",
   "execution_count": 12,
   "metadata": {
    "collapsed": false
   },
   "outputs": [
    {
     "data": {
      "image/png": "[encoded data removed]",
      "text/latex": [
       "$$\\left(x^{2}\\right)^{x}$$"
      ],
      "text/plain": [
       "    x\n",
       "⎛ 2⎞ \n",
       "⎝x ⎠ "
      ]
     },
     "execution_count": 12,
     "metadata": {},
     "output_type": "execute_result"
    }
   ],
   "source": [
    "powersimp2(x**x*x**x)"
   ]
  },
  {
   "cell_type": "code",
   "execution_count": 13,
   "metadata": {
    "collapsed": false
   },
   "outputs": [],
   "source": [
    "def powersimp3(expr):\n",
    "    \"\"\"\n",
    "    >>> a, b, c = symbols('a b c')\n",
    "    >>> powersimp3((a**b)**c)\n",
    "    a**(b*c)\n",
    "    >>> powersimp3((a**b)**(c + 1))\n",
    "    a**(b*c + b)\n",
    "    \"\"\"\n",
    "    return powdenest(expand_power_exp(expr), force=True)"
   ]
  },
  {
   "cell_type": "code",
   "execution_count": 14,
   "metadata": {
    "collapsed": false
   },
   "outputs": [
    {
     "data": {
      "image/png": "[encoded data removed]",
      "text/latex": [
       "$$a^{b} \\left(a^{b}\\right)^{c}$$"
      ],
      "text/plain": [
       "       c\n",
       " b ⎛ b⎞ \n",
       "a ⋅⎝a ⎠ "
      ]
     },
     "execution_count": 14,
     "metadata": {},
     "output_type": "execute_result"
    }
   ],
   "source": [
    "a, b, c = symbols('a b c')\n",
    "expand_power_exp((a**b)**(c + 1))"
   ]
  },
  {
   "cell_type": "code",
   "execution_count": 15,
   "metadata": {
    "collapsed": false
   },
   "outputs": [
    {
     "data": {
      "image/png": "[encoded data removed]",
      "text/latex": [
       "$$a^{b c}$$"
      ],
      "text/plain": [
       " b⋅c\n",
       "a   "
      ]
     },
     "execution_count": 15,
     "metadata": {},
     "output_type": "execute_result"
    }
   ],
   "source": [
    "powersimp3((a**b)**c)"
   ]
  },
  {
   "cell_type": "code",
   "execution_count": 16,
   "metadata": {
    "collapsed": false
   },
   "outputs": [
    {
     "data": {
      "image/png": "[encoded data removed]",
      "text/latex": [
       "$$a^{b c + b}$$"
      ],
      "text/plain": [
       " b⋅c + b\n",
       "a       "
      ]
     },
     "execution_count": 16,
     "metadata": {},
     "output_type": "execute_result"
    }
   ],
   "source": [
    "powersimp3((a**b)**(c + 1))"
   ]
  },
  {
   "cell_type": "markdown",
   "metadata": {},
   "source": [
    "## Logs"
   ]
  },
  {
   "cell_type": "code",
   "execution_count": 17,
   "metadata": {
    "collapsed": false
   },
   "outputs": [],
   "source": [
    "def logsimp1(expr):\n",
    "    \"\"\"\n",
    "    >>> a, b = symbols('a b', positive=True)\n",
    "    >>> logsimp1(log(x**y*a**b))\n",
    "    y*log(x) + log(a**b)\n",
    "    >>> logsimp1(log(x*y*a*b))\n",
    "    log(x) + log(y) + log(a*b)\n",
    "    \"\"\"\n",
    "    return logcombine(expand_log(expr, force=True))"
   ]
  },
  {
   "cell_type": "code",
   "execution_count": 18,
   "metadata": {
    "collapsed": false
   },
   "outputs": [],
   "source": [
    "a, b = symbols('a b', positive=True)"
   ]
  },
  {
   "cell_type": "code",
   "execution_count": 19,
   "metadata": {
    "collapsed": false
   },
   "outputs": [
    {
     "data": {
      "image/png": "[encoded data removed]",
      "text/latex": [
       "$$y \\log{\\left (x \\right )} + \\log{\\left (a^{b} \\right )}$$"
      ],
      "text/plain": [
       "              ⎛ b⎞\n",
       "y⋅log(x) + log⎝a ⎠"
      ]
     },
     "execution_count": 19,
     "metadata": {},
     "output_type": "execute_result"
    }
   ],
   "source": [
    "logsimp1(log(x**y*a**b))"
   ]
  },
  {
   "cell_type": "code",
   "execution_count": 20,
   "metadata": {
    "collapsed": false
   },
   "outputs": [
    {
     "data": {
      "image/png": "[encoded data removed]",
      "text/latex": [
       "$$\\log{\\left (x \\right )} + \\log{\\left (y \\right )} + \\log{\\left (a b \\right )}$$"
      ],
      "text/plain": [
       "log(x) + log(y) + log(a⋅b)"
      ]
     },
     "execution_count": 20,
     "metadata": {},
     "output_type": "execute_result"
    }
   ],
   "source": [
    "logsimp1(log(x*y*a*b))"
   ]
  },
  {
   "cell_type": "markdown",
   "metadata": {},
   "source": [
    "## Miscellaneous  "
   ]
  },
  {
   "cell_type": "code",
   "execution_count": 21,
   "metadata": {
    "collapsed": false
   },
   "outputs": [],
   "source": [
    "def miscsimp1(expr):\n",
    "    \"\"\"\n",
    "    >>> miscsimp1(sin(x + y))\n",
    "    2*(-tan(x/2)**2 + 1)*tan(y/2)/((tan(x/2)**2 + 1)*(tan(y/2)**2 + 1)) + 2*(-tan(y/2)**2 + 1)*tan(x/2)/((tan(x/2)**2 + 1)*(tan(y/2)**2 + 1))\n",
    "    \"\"\"\n",
    "    return expand_trig(expr).rewrite(tan)"
   ]
  },
  {
   "cell_type": "code",
   "execution_count": 22,
   "metadata": {
    "collapsed": false
   },
   "outputs": [
    {
     "data": {
      "image/png": "[encoded data removed]",
      "text/latex": [
       "$$\\frac{2 \\left(- \\tan^{2}{\\left (\\frac{x}{2} \\right )} + 1\\right) \\tan{\\left (\\frac{y}{2} \\right )}}{\\left(\\tan^{2}{\\left (\\frac{x}{2} \\right )} + 1\\right) \\left(\\tan^{2}{\\left (\\frac{y}{2} \\right )} + 1\\right)} + \\frac{2 \\left(- \\tan^{2}{\\left (\\frac{y}{2} \\right )} + 1\\right) \\tan{\\left (\\frac{x}{2} \\right )}}{\\left(\\tan^{2}{\\left (\\frac{x}{2} \\right )} + 1\\right) \\left(\\tan^{2}{\\left (\\frac{y}{2} \\right )} + 1\\right)}$$"
      ],
      "text/plain": [
       "    ⎛     2⎛x⎞    ⎞    ⎛y⎞        ⎛     2⎛y⎞    ⎞    ⎛x⎞ \n",
       "  2⋅⎜- tan ⎜─⎟ + 1⎟⋅tan⎜─⎟      2⋅⎜- tan ⎜─⎟ + 1⎟⋅tan⎜─⎟ \n",
       "    ⎝      ⎝2⎠    ⎠    ⎝2⎠        ⎝      ⎝2⎠    ⎠    ⎝2⎠ \n",
       "─────────────────────────── + ───────────────────────────\n",
       "⎛   2⎛x⎞    ⎞ ⎛   2⎛y⎞    ⎞   ⎛   2⎛x⎞    ⎞ ⎛   2⎛y⎞    ⎞\n",
       "⎜tan ⎜─⎟ + 1⎟⋅⎜tan ⎜─⎟ + 1⎟   ⎜tan ⎜─⎟ + 1⎟⋅⎜tan ⎜─⎟ + 1⎟\n",
       "⎝    ⎝2⎠    ⎠ ⎝    ⎝2⎠    ⎠   ⎝    ⎝2⎠    ⎠ ⎝    ⎝2⎠    ⎠"
      ]
     },
     "execution_count": 22,
     "metadata": {},
     "output_type": "execute_result"
    }
   ],
   "source": [
    "miscsimp1(sin(x + y))"
   ]
  },
  {
   "cell_type": "code",
   "execution_count": 23,
   "metadata": {
    "collapsed": false
   },
   "outputs": [],
   "source": [
    "def miscsimp2(expr):\n",
    "    \"\"\"\n",
    "    >>> miscsimp2(gamma(x + 4))\n",
    "    x**4*gamma(x) + 6*x**3*gamma(x) + 11*x**2*gamma(x) + 6*x*gamma(x)\n",
    "    \"\"\"\n",
    "    return expand(expr, func=True)"
   ]
  },
  {
   "cell_type": "code",
   "execution_count": 24,
   "metadata": {
    "collapsed": false
   },
   "outputs": [
    {
     "data": {
      "image/png": "[encoded data removed]",
      "text/latex": [
       "$$x^{4} \\Gamma{\\left(x \\right)} + 6 x^{3} \\Gamma{\\left(x \\right)} + 11 x^{2} \\Gamma{\\left(x \\right)} + 6 x \\Gamma{\\left(x \\right)}$$"
      ],
      "text/plain": [
       " 4           3            2                \n",
       "x ⋅Γ(x) + 6⋅x ⋅Γ(x) + 11⋅x ⋅Γ(x) + 6⋅x⋅Γ(x)"
      ]
     },
     "execution_count": 24,
     "metadata": {},
     "output_type": "execute_result"
    }
   ],
   "source": [
    "miscsimp2(gamma(x + 4))"
   ]
  },
  {
   "cell_type": "markdown",
   "metadata": {},
   "source": [
    "## Continued Fractions"
   ]
  },
  {
   "cell_type": "markdown",
   "metadata": {},
   "source": [
    "If we do not cover this, see http://docs.sympy.org/latest/tutorial/simplification.html#example-continued-fractions"
   ]
  },
  {
   "cell_type": "code",
   "execution_count": 25,
   "metadata": {
    "collapsed": false
   },
   "outputs": [],
   "source": [
    "def list_to_frac(l):\n",
    "    expr = Integer(0)\n",
    "    for i in reversed(l[1:]):\n",
    "        expr += i\n",
    "        expr = 1/expr\n",
    "    return l[0] + expr"
   ]
  },
  {
   "cell_type": "code",
   "execution_count": 26,
   "metadata": {
    "collapsed": false
   },
   "outputs": [],
   "source": [
    "a0, a1, a2, a3, a4 = symbols('a0:5')"
   ]
  },
  {
   "cell_type": "markdown",
   "metadata": {},
   "source": [
    "Determine the list used to create the continued fraction $$\\frac{a_{0} a_{1} a_{2} a_{3} a_{4} + a_{0} a_{1} a_{2} + a_{0} a_{3} a_{4} + a_{0} + a_{1} a_{2} a_{3} + a_{1} a_{3} a_{4} + a_{1} + a_{3}}{a_{0} a_{1} a_{2} a_{4} + a_{0} a_{4} + a_{1} a_{2} + a_{1} a_{4} + 1}.$$"
   ]
  },
  {
   "cell_type": "code",
   "execution_count": 27,
   "metadata": {
    "collapsed": false
   },
   "outputs": [],
   "source": [
    "def continued_frac():\n",
    "    \"\"\"\n",
    "    Determine the original list used to create the fraction.  \n",
    "\n",
    "    Return the original list from this function.\n",
    "\n",
    "    >>> orig_frac = (a0*a1*a2*a3*a4 + a0*a1*a2 + a0*a3*a4 + a0 + a1*a2*a3 + a1*a3*a4 + a1 + a3)/(a0*a1*a2*a4 + a0*a4 + a1*a2 + a1*a4 + 1)\n",
    "    >>> pprint(orig_frac)\n",
    "    a₀⋅a₁⋅a₂⋅a₃⋅a₄ + a₀⋅a₁⋅a₂ + a₀⋅a₃⋅a₄ + a₀ + a₁⋅a₂⋅a₃ + a₁⋅a₃⋅a₄ + a₁ + a₃\n",
    "    ─────────────────────────────────────────────────────────────────────────\n",
    "                     a₀⋅a₁⋅a₂⋅a₄ + a₀⋅a₄ + a₁⋅a₂ + a₁⋅a₄ + 1\n",
    "    >>> cancel(list_to_frac(continued_frac())) == orig_frac\n",
    "    True\n",
    "    \"\"\"\n",
    "    return [a3, a4, a0, a2, a1]"
   ]
  },
  {
   "cell_type": "code",
   "execution_count": 28,
   "metadata": {
    "collapsed": false
   },
   "outputs": [],
   "source": [
    "orig_frac = (a0*a1*a2*a3*a4 + a0*a1*a2 + a0*a3*a4 + a0 + a1*a2*a3 + a1*a3*a4 + a1 + a3)/(a0*a1*a2*a4 + a0*a4 + a1*a2 + a1*a4 + 1)"
   ]
  },
  {
   "cell_type": "code",
   "execution_count": 29,
   "metadata": {
    "collapsed": false
   },
   "outputs": [
    {
     "data": {
      "image/png": "[encoded data removed]",
      "text/latex": [
       "$$\\frac{a_{0} a_{1} a_{2} a_{3} a_{4} + a_{0} a_{1} a_{2} + a_{0} a_{3} a_{4} + a_{0} + a_{1} a_{2} a_{3} + a_{1} a_{3} a_{4} + a_{1} + a_{3}}{a_{0} a_{1} a_{2} a_{4} + a_{0} a_{4} + a_{1} a_{2} + a_{1} a_{4} + 1}$$"
      ],
      "text/plain": [
       "a₀⋅a₁⋅a₂⋅a₃⋅a₄ + a₀⋅a₁⋅a₂ + a₀⋅a₃⋅a₄ + a₀ + a₁⋅a₂⋅a₃ + a₁⋅a₃⋅a₄ + a₁ + a₃\n",
       "─────────────────────────────────────────────────────────────────────────\n",
       "                 a₀⋅a₁⋅a₂⋅a₄ + a₀⋅a₄ + a₁⋅a₂ + a₁⋅a₄ + 1                 "
      ]
     },
     "execution_count": 29,
     "metadata": {},
     "output_type": "execute_result"
    }
   ],
   "source": [
    "orig_frac"
   ]
  },
  {
   "cell_type": "code",
   "execution_count": 30,
   "metadata": {
    "collapsed": false
   },
   "outputs": [
    {
     "data": {
      "text/plain": [
       "True"
      ]
     },
     "execution_count": 30,
     "metadata": {},
     "output_type": "execute_result"
    }
   ],
   "source": [
    "cancel(list_to_frac(continued_frac())) == orig_frac"
   ]
  },
  {
   "cell_type": "code",
   "execution_count": null,
   "metadata": {
    "collapsed": false
   },
   "outputs": [],
   "source": []
  }
 ],
 "metadata": {
  "kernelspec": {
   "display_name": "Python 2",
   "language": "python",
   "name": "python2"
  },
  "language_info": {
   "codemirror_mode": {
    "name": "ipython",
    "version": 2
   },
   "file_extension": ".py",
   "mimetype": "text/x-python",
   "name": "python",
   "nbconvert_exporter": "python",
   "pygments_lexer": "ipython2",
   "version": "2.7.12"
  }
 },
 "nbformat": 4,
 "nbformat_minor": 0
}
