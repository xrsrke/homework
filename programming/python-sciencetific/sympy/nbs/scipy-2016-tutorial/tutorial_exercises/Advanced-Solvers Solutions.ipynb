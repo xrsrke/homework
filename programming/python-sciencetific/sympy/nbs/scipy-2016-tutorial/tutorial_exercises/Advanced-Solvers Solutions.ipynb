{
 "cells": [
  {
   "cell_type": "markdown",
   "metadata": {},
   "source": [
    "# Solvers"
   ]
  },
  {
   "cell_type": "code",
   "execution_count": 1,
   "metadata": {
    "collapsed": false
   },
   "outputs": [],
   "source": [
    "from sympy import *\n",
    "from sympy.solvers.solveset import solveset\n",
    "init_printing()"
   ]
  },
  {
   "cell_type": "markdown",
   "metadata": {},
   "source": [
    "For each exercise, fill in the function according to its docstring. "
   ]
  },
  {
   "cell_type": "code",
   "execution_count": 2,
   "metadata": {
    "collapsed": false
   },
   "outputs": [],
   "source": [
    "a, b, c, d, x, y, z, t = symbols('a b c d x y z t')\n",
    "f, g, h = symbols('f g h', cls=Function)"
   ]
  },
  {
   "cell_type": "markdown",
   "metadata": {},
   "source": [
    "## Algebraic Equations"
   ]
  },
  {
   "cell_type": "markdown",
   "metadata": {},
   "source": [
    "Write a function that computes the [quadratic equation](http://en.wikipedia.org/wiki/Quadratic_equation)."
   ]
  },
  {
   "cell_type": "code",
   "execution_count": 3,
   "metadata": {
    "collapsed": false
   },
   "outputs": [
    {
     "data": {
      "image/png": "[encoded data removed]",
      "text/latex": [
       "$$\\left\\{- \\frac{b}{2 a} - \\frac{1}{2 a} \\sqrt{- 4 a c + b^{2}}, - \\frac{b}{2 a} + \\frac{1}{2 a} \\sqrt{- 4 a c + b^{2}}\\right\\}$$"
      ],
      "text/plain": [
       "⎧           _____________             _____________⎫\n",
       "⎪          ╱           2             ╱           2 ⎪\n",
       "⎨   b    ╲╱  -4⋅a⋅c + b       b    ╲╱  -4⋅a⋅c + b  ⎬\n",
       "⎪- ─── - ────────────────, - ─── + ────────────────⎪\n",
       "⎩  2⋅a         2⋅a           2⋅a         2⋅a       ⎭"
      ]
     },
     "execution_count": 3,
     "metadata": {},
     "output_type": "execute_result"
    }
   ],
   "source": [
    "def quadratic():\n",
    "    return solveset(a*x**2 + b*x + c, x)\n",
    "quadratic()"
   ]
  },
  {
   "cell_type": "markdown",
   "metadata": {},
   "source": [
    "Write a function that computes the general solution to the cubic $x^3 + ax^2 + bx + c$."
   ]
  },
  {
   "cell_type": "code",
   "execution_count": 4,
   "metadata": {
    "collapsed": false
   },
   "outputs": [
    {
     "data": {
      "image/png": "[encoded data removed]",
      "text/latex": [
       "$$\\left\\{- \\frac{a}{3} - \\frac{a^{2} - 3 b}{3 \\sqrt[3]{a^{3} - \\frac{9 a}{2} b + \\frac{27 c}{2} + \\frac{1}{2} \\sqrt{- 4 \\left(a^{2} - 3 b\\right)^{3} + \\left(2 a^{3} - 9 a b + 27 c\\right)^{2}}}} - \\frac{1}{3} \\sqrt[3]{a^{3} - \\frac{9 a}{2} b + \\frac{27 c}{2} + \\frac{1}{2} \\sqrt{- 4 \\left(a^{2} - 3 b\\right)^{3} + \\left(2 a^{3} - 9 a b + 27 c\\right)^{2}}}, - \\frac{a}{3} - \\frac{a^{2} - 3 b}{3 \\left(- \\frac{1}{2} - \\frac{\\sqrt{3} i}{2}\\right) \\sqrt[3]{a^{3} - \\frac{9 a}{2} b + \\frac{27 c}{2} + \\frac{1}{2} \\sqrt{- 4 \\left(a^{2} - 3 b\\right)^{3} + \\left(2 a^{3} - 9 a b + 27 c\\right)^{2}}}} - \\frac{1}{3} \\left(- \\frac{1}{2} - \\frac{\\sqrt{3} i}{2}\\right) \\sqrt[3]{a^{3} - \\frac{9 a}{2} b + \\frac{27 c}{2} + \\frac{1}{2} \\sqrt{- 4 \\left(a^{2} - 3 b\\right)^{3} + \\left(2 a^{3} - 9 a b + 27 c\\right)^{2}}}, - \\frac{a}{3} - \\frac{a^{2} - 3 b}{3 \\left(- \\frac{1}{2} + \\frac{\\sqrt{3} i}{2}\\right) \\sqrt[3]{a^{3} - \\frac{9 a}{2} b + \\frac{27 c}{2} + \\frac{1}{2} \\sqrt{- 4 \\left(a^{2} - 3 b\\right)^{3} + \\left(2 a^{3} - 9 a b + 27 c\\right)^{2}}}} - \\frac{1}{3} \\left(- \\frac{1}{2} + \\frac{\\sqrt{3} i}{2}\\right) \\sqrt[3]{a^{3} - \\frac{9 a}{2} b + \\frac{27 c}{2} + \\frac{1}{2} \\sqrt{- 4 \\left(a^{2} - 3 b\\right)^{3} + \\left(2 a^{3} - 9 a b + 27 c\\right)^{2}}}\\right\\}$$"
      ],
      "text/plain": [
       "⎧                                                                             \n",
       "⎪                                                                             \n",
       "⎪                                                                             \n",
       "⎪                                                                             \n",
       "⎪                                                                             \n",
       "⎪                                          2                                  \n",
       "⎪  a                                      a  - 3⋅b                            \n",
       "⎨- ─ - ───────────────────────────────────────────────────────────────────────\n",
       "⎪  3            ______________________________________________________________\n",
       "⎪              ╱                         _____________________________________\n",
       "⎪             ╱                         ╱               3                     \n",
       "⎪            ╱                         ╱      ⎛ 2      ⎞    ⎛   3             \n",
       "⎪           ╱     3   9⋅a⋅b   27⋅c   ╲╱   - 4⋅⎝a  - 3⋅b⎠  + ⎝2⋅a  - 9⋅a⋅b + 27\n",
       "⎪      3⋅3 ╱     a  - ───── + ──── + ─────────────────────────────────────────\n",
       "⎩        ╲╱             2      2                           2                  \n",
       "\n",
       "                ______________________________________________________________\n",
       "               ╱                         _____________________________________\n",
       "              ╱                         ╱               3                     \n",
       "             ╱                         ╱      ⎛ 2      ⎞    ⎛   3             \n",
       "            ╱     3   9⋅a⋅b   27⋅c   ╲╱   - 4⋅⎝a  - 3⋅b⎠  + ⎝2⋅a  - 9⋅a⋅b + 27\n",
       "         3 ╱     a  - ───── + ──── + ─────────────────────────────────────────\n",
       "         ╲╱             2      2                           2                  \n",
       "────── - ─────────────────────────────────────────────────────────────────────\n",
       "______                                        3                               \n",
       "_____                                                                         \n",
       "   2                                                                          \n",
       "  ⎞                                                                           \n",
       "⋅c⎠                                                                           \n",
       "─────                                                                         \n",
       "                                                                              \n",
       "\n",
       "______                                                                        \n",
       "_____                                                                         \n",
       "   2                                                                          \n",
       "  ⎞                                                                           \n",
       "⋅c⎠                                                                           \n",
       "─────                                                   2                     \n",
       "          a                                            a  - 3⋅b               \n",
       "──────, - ─ - ────────────────────────────────────────────────────────────────\n",
       "          3                         __________________________________________\n",
       "                                   ╱                         _________________\n",
       "                                  ╱                         ╱               3 \n",
       "                                 ╱                         ╱      ⎛ 2      ⎞  \n",
       "                ⎛  1   √3⋅ⅈ⎞    ╱     3   9⋅a⋅b   27⋅c   ╲╱   - 4⋅⎝a  - 3⋅b⎠  \n",
       "              3⋅⎜- ─ - ────⎟⋅3 ╱     a  - ───── + ──── + ─────────────────────\n",
       "                ⎝  2    2  ⎠ ╲╱             2      2                          \n",
       "\n",
       "                                                 _____________________________\n",
       "                                                ╱                         ____\n",
       "                                               ╱                         ╱    \n",
       "                                              ╱                         ╱     \n",
       "                             ⎛  1   √3⋅ⅈ⎞    ╱     3   9⋅a⋅b   27⋅c   ╲╱   - 4\n",
       "                             ⎜- ─ - ────⎟⋅3 ╱     a  - ───── + ──── + ────────\n",
       "                             ⎝  2    2  ⎠ ╲╱             2      2             \n",
       "────────────────────────── - ─────────────────────────────────────────────────\n",
       "__________________________                                              3     \n",
       "_________________________                                                     \n",
       "                       2                                                      \n",
       "  ⎛   3               ⎞                                                       \n",
       "+ ⎝2⋅a  - 9⋅a⋅b + 27⋅c⎠                                                       \n",
       "─────────────────────────                                                     \n",
       " 2                                                                            \n",
       "\n",
       "_______________________________________                                       \n",
       "______________________________________                                        \n",
       "           3                        2                                         \n",
       " ⎛ 2      ⎞    ⎛   3               ⎞                                          \n",
       "⋅⎝a  - 3⋅b⎠  + ⎝2⋅a  - 9⋅a⋅b + 27⋅c⎠                                          \n",
       "──────────────────────────────────────                                        \n",
       "              2                            a                                  \n",
       "───────────────────────────────────────, - ─ - ───────────────────────────────\n",
       "                                           3                         _________\n",
       "                                                                    ╱         \n",
       "                                                                   ╱          \n",
       "                                                                  ╱           \n",
       "                                                 ⎛  1   √3⋅ⅈ⎞    ╱     3   9⋅a\n",
       "                                               3⋅⎜- ─ + ────⎟⋅3 ╱     a  - ───\n",
       "                                                 ⎝  2    2  ⎠ ╲╱             2\n",
       "\n",
       "                                                                              \n",
       "                                                                              \n",
       "                                                                              \n",
       "                                                                              \n",
       "                                                              ⎛  1   √3⋅ⅈ⎞    \n",
       "           2                                                  ⎜- ─ + ────⎟⋅3 ╱\n",
       "          a  - 3⋅b                                            ⎝  2    2  ⎠ ╲╱ \n",
       "─────────────────────────────────────────────────────────── - ────────────────\n",
       "___________________________________________________________                   \n",
       "                __________________________________________                    \n",
       "               ╱               3                        2                     \n",
       "              ╱      ⎛ 2      ⎞    ⎛   3               ⎞                      \n",
       "⋅b   27⋅c   ╲╱   - 4⋅⎝a  - 3⋅b⎠  + ⎝2⋅a  - 9⋅a⋅b + 27⋅c⎠                      \n",
       "── + ──── + ──────────────────────────────────────────────                    \n",
       "      2                           2                                           \n",
       "\n",
       "    ____________________________________________________________________⎫\n",
       "   ╱                         __________________________________________ ⎪\n",
       "  ╱                         ╱               3                        2  ⎪\n",
       " ╱                         ╱      ⎛ 2      ⎞    ⎛   3               ⎞   ⎪\n",
       "╱     3   9⋅a⋅b   27⋅c   ╲╱   - 4⋅⎝a  - 3⋅b⎠  + ⎝2⋅a  - 9⋅a⋅b + 27⋅c⎠   ⎪\n",
       "     a  - ───── + ──── + ────────────────────────────────────────────── ⎪\n",
       "            2      2                           2                        ⎪\n",
       "────────────────────────────────────────────────────────────────────────⎬\n",
       "                           3                                            ⎪\n",
       "                                                                        ⎪\n",
       "                                                                        ⎪\n",
       "                                                                        ⎪\n",
       "                                                                        ⎪\n",
       "                                                                        ⎪\n",
       "                                                                        ⎭"
      ]
     },
     "execution_count": 4,
     "metadata": {},
     "output_type": "execute_result"
    }
   ],
   "source": [
    "def cubic():\n",
    "    return solveset(x**3 + a*x**2 + b*x + c, x)\n",
    "cubic()"
   ]
  },
  {
   "cell_type": "markdown",
   "metadata": {},
   "source": [
    "## Differential Equations"
   ]
  },
  {
   "cell_type": "markdown",
   "metadata": {},
   "source": [
    "A population that grows without bound is modeled by the differential equation\n",
    "\n",
    "$$f'(t)=af(t)$$\n",
    "\n",
    "Solve this differential equation using SymPy."
   ]
  },
  {
   "cell_type": "code",
   "execution_count": 5,
   "metadata": {
    "collapsed": false
   },
   "outputs": [
    {
     "data": {
      "image/png": "[encoded data removed]",
      "text/latex": [
       "$$f{\\left (t \\right )} = C_{1} e^{a t}$$"
      ],
      "text/plain": [
       "           a⋅t\n",
       "f(t) = C₁⋅ℯ   "
      ]
     },
     "execution_count": 5,
     "metadata": {},
     "output_type": "execute_result"
    }
   ],
   "source": [
    "dsolve(f(t).diff(t) - a*f(t), f(t))"
   ]
  },
  {
   "cell_type": "markdown",
   "metadata": {},
   "source": [
    "If the population growth is bounded, it is modeled by \n",
    "\n",
    "$$f'(t) = f(t)(1 - f(t))$$\n",
    "\n",
    "Solve this differential equation using SymPy."
   ]
  },
  {
   "cell_type": "code",
   "execution_count": 8,
   "metadata": {
    "collapsed": false
   },
   "outputs": [
    {
     "data": {
      "image/png": "[encoded data removed]",
      "text/latex": [
       "$$\\log{\\left (\\operatorname{f}{\\left (t \\right )} -1 \\right )} - \\log{\\left (\\operatorname{f}{\\left (t \\right )} \\right )} = C_{1} - t$$"
      ],
      "text/plain": [
       "log(f(t) - 1) - log(f(t)) = C₁ - t"
      ]
     },
     "execution_count": 8,
     "metadata": {},
     "output_type": "execute_result"
    }
   ],
   "source": [
    "dsolve(f(t).diff(t) - f(t)*(1 - f(t)), f(t))"
   ]
  }
 ],
 "metadata": {
  "kernelspec": {
   "display_name": "Python 2",
   "language": "python",
   "name": "python2"
  },
  "language_info": {
   "codemirror_mode": {
    "name": "ipython",
    "version": 2
   },
   "file_extension": ".py",
   "mimetype": "text/x-python",
   "name": "python",
   "nbconvert_exporter": "python",
   "pygments_lexer": "ipython2",
   "version": "2.7.11"
  }
 },
 "nbformat": 4,
 "nbformat_minor": 0
}
