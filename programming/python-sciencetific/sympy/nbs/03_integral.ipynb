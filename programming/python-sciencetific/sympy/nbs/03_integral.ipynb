{
 "cells": [
  {
   "cell_type": "code",
   "execution_count": 1,
   "id": "5faf2c61-6bc4-41ca-a2d7-efab26a321ec",
   "metadata": {},
   "outputs": [],
   "source": [
    "import sympy as smp"
   ]
  },
  {
   "cell_type": "markdown",
   "id": "e937ab51-17c1-4603-be07-05218c8dcc24",
   "metadata": {},
   "source": [
    "# Basic Antiderivative"
   ]
  },
  {
   "cell_type": "code",
   "execution_count": 2,
   "id": "2f6eb3f5-3b0e-4daf-a6f6-8050cd45bfca",
   "metadata": {},
   "outputs": [],
   "source": [
    "x = smp.symbols('x')"
   ]
  },
  {
   "cell_type": "markdown",
   "id": "b18f2161-8aa3-495c-87e4-29aa1ee54478",
   "metadata": {
    "tags": []
   },
   "source": [
    "##### $\\int \\csc (x) \\cot (x) d x$"
   ]
  },
  {
   "cell_type": "code",
   "execution_count": 5,
   "id": "8bbd8fd1-f84c-405c-867d-40eefcec1a00",
   "metadata": {},
   "outputs": [],
   "source": [
    "y = smp.csc(x) * smp.cot(x)"
   ]
  },
  {
   "cell_type": "code",
   "execution_count": 8,
   "id": "16d1f948-89b1-4641-a0f3-81e7e0fd2bd9",
   "metadata": {},
   "outputs": [
    {
     "data": {
      "text/latex": [
       "$\\displaystyle \\cot{\\left(x \\right)} \\csc{\\left(x \\right)}$"
      ],
      "text/plain": [
       "cot(x)*csc(x)"
      ]
     },
     "execution_count": 8,
     "metadata": {},
     "output_type": "execute_result"
    }
   ],
   "source": [
    "y"
   ]
  },
  {
   "cell_type": "markdown",
   "id": "b6a8718c-7e8d-4dad-8e5c-b661a070a3f8",
   "metadata": {},
   "source": [
    "Find $\\int y \\, d x$"
   ]
  },
  {
   "cell_type": "code",
   "execution_count": 9,
   "id": "6108572f-f1f4-4e14-ad1b-c2cea5dd8f57",
   "metadata": {},
   "outputs": [
    {
     "data": {
      "text/latex": [
       "$\\displaystyle - \\frac{1}{\\sin{\\left(x \\right)}}$"
      ],
      "text/plain": [
       "-1/sin(x)"
      ]
     },
     "execution_count": 9,
     "metadata": {},
     "output_type": "execute_result"
    }
   ],
   "source": [
    "smp.integrate(y, x)"
   ]
  },
  {
   "cell_type": "markdown",
   "id": "c50ebc7b-f317-4a93-ae49-216d4bf68589",
   "metadata": {},
   "source": [
    "# Initial Value Problems"
   ]
  },
  {
   "cell_type": "code",
   "execution_count": 10,
   "id": "85fd80d7-8a08-47dd-a720-2c2f28a628c4",
   "metadata": {},
   "outputs": [],
   "source": [
    "y = 8*x + smp.csc(x)**2"
   ]
  },
  {
   "cell_type": "code",
   "execution_count": 11,
   "id": "056211ef-cd08-43e3-b723-1b1e9e3065d5",
   "metadata": {},
   "outputs": [
    {
     "data": {
      "text/latex": [
       "$\\displaystyle 8 x + \\csc^{2}{\\left(x \\right)}$"
      ],
      "text/plain": [
       "8*x + csc(x)**2"
      ]
     },
     "execution_count": 11,
     "metadata": {},
     "output_type": "execute_result"
    }
   ],
   "source": [
    "y"
   ]
  },
  {
   "cell_type": "markdown",
   "id": "0d9351c4-f3db-4154-93ea-d534078d60f7",
   "metadata": {},
   "source": [
    "### Definite Integrals"
   ]
  },
  {
   "cell_type": "code",
   "execution_count": 25,
   "id": "a1d2470d-3f90-4d45-ad7b-7fcf340ad273",
   "metadata": {},
   "outputs": [],
   "source": [
    "y = 4*x + 2"
   ]
  },
  {
   "cell_type": "code",
   "execution_count": 26,
   "id": "0282a0ad-ffe8-468f-b0c6-802016dbd02c",
   "metadata": {},
   "outputs": [
    {
     "data": {
      "text/latex": [
       "$\\displaystyle 4 x + 2$"
      ],
      "text/plain": [
       "4*x + 2"
      ]
     },
     "execution_count": 26,
     "metadata": {},
     "output_type": "execute_result"
    }
   ],
   "source": [
    "y"
   ]
  },
  {
   "cell_type": "markdown",
   "id": "cf6a938f-67ed-4f2a-af8a-2c6637ff3342",
   "metadata": {},
   "source": [
    "Find $\\int_0^{\\ln (4)}  y(x) \\, dx$ "
   ]
  },
  {
   "cell_type": "code",
   "execution_count": 27,
   "id": "9155723c-e569-48ea-8d89-487896277458",
   "metadata": {},
   "outputs": [
    {
     "data": {
      "text/latex": [
       "$\\displaystyle 24$"
      ],
      "text/plain": [
       "24"
      ]
     },
     "execution_count": 27,
     "metadata": {},
     "output_type": "execute_result"
    }
   ],
   "source": [
    "smp.integrate(y, (x, 0, 3))"
   ]
  },
  {
   "cell_type": "code",
   "execution_count": null,
   "id": "806fdf34-ea5c-4eb7-a37d-e7d81c4fade7",
   "metadata": {},
   "outputs": [],
   "source": []
  }
 ],
 "metadata": {
  "kernelspec": {
   "display_name": "Python 3 (ipykernel)",
   "language": "python",
   "name": "python3"
  },
  "language_info": {
   "codemirror_mode": {
    "name": "ipython",
    "version": 3
   },
   "file_extension": ".py",
   "mimetype": "text/x-python",
   "name": "python",
   "nbconvert_exporter": "python",
   "pygments_lexer": "ipython3",
   "version": "3.9.13"
  }
 },
 "nbformat": 4,
 "nbformat_minor": 5
}
