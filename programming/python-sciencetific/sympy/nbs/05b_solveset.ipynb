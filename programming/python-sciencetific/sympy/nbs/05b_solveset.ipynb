{
 "cells": [
  {
   "cell_type": "markdown",
   "id": "c8cf0835-7f22-4e3a-bd6a-c4429d60c7b5",
   "metadata": {},
   "source": [
    "Source: [EuroSciPy 2017: SymPy](https://youtu.be/nfRyux3wEhw)"
   ]
  },
  {
   "cell_type": "code",
   "execution_count": null,
   "id": "c01b2ca7-5f3e-457f-8611-187450118ed9",
   "metadata": {},
   "outputs": [],
   "source": [
    "import sympy as smp"
   ]
  },
  {
   "cell_type": "code",
   "execution_count": null,
   "id": "a5c9ae47-a36d-4428-93e1-7cd7a759ae4a",
   "metadata": {},
   "outputs": [],
   "source": [
    "x = smp.symbols('x')"
   ]
  },
  {
   "cell_type": "code",
   "execution_count": null,
   "id": "875b103e-eb4c-4a40-9495-e444b37fceb9",
   "metadata": {},
   "outputs": [
    {
     "data": {
      "text/latex": [
       "$\\displaystyle \\left\\{-2, 2\\right\\}$"
      ],
      "text/plain": [
       "{-2, 2}"
      ]
     },
     "execution_count": null,
     "metadata": {},
     "output_type": "execute_result"
    }
   ],
   "source": [
    "smp.solveset(x**2 - 4, x)"
   ]
  },
  {
   "cell_type": "code",
   "execution_count": null,
   "id": "8b17430f-049f-42ec-a583-5075732ca8b0",
   "metadata": {},
   "outputs": [
    {
     "data": {
      "text/latex": [
       "$\\displaystyle \\left\\{2 n \\pi\\; \\middle|\\; n \\in \\mathbb{Z}\\right\\} \\cup \\left\\{2 n \\pi + \\pi\\; \\middle|\\; n \\in \\mathbb{Z}\\right\\}$"
      ],
      "text/plain": [
       "Union(ImageSet(Lambda(_n, 2*_n*pi + pi), Integers), ImageSet(Lambda(_n, 2*_n*pi), Integers))"
      ]
     },
     "execution_count": null,
     "metadata": {},
     "output_type": "execute_result"
    }
   ],
   "source": [
    "smp.solveset(smp.sin(x), x)"
   ]
  },
  {
   "cell_type": "markdown",
   "id": "1364253b-1409-4a4e-8b7f-e2bd3c7547db",
   "metadata": {},
   "source": [
    "### Condition Set"
   ]
  },
  {
   "cell_type": "code",
   "execution_count": null,
   "id": "d3ce3450-8d24-4431-b399-0f3c973edb26",
   "metadata": {},
   "outputs": [
    {
     "data": {
      "text/latex": [
       "$\\displaystyle \\left\\{x\\; \\middle|\\; x \\in \\mathbb{N} \\wedge e^{x} + \\cos{\\left(x \\right)} = 0 \\right\\}$"
      ],
      "text/plain": [
       "ConditionSet(x, Eq(exp(x) + cos(x), 0), Naturals)"
      ]
     },
     "execution_count": null,
     "metadata": {},
     "output_type": "execute_result"
    }
   ],
   "source": [
    "smp.solveset(smp.exp(x) + smp.cos(x), x, domain=smp.S.Naturals)"
   ]
  },
  {
   "cell_type": "markdown",
   "id": "c9cb42ec-360d-4842-b423-9c998f076199",
   "metadata": {},
   "source": [
    "### Symbolic use of solveset"
   ]
  },
  {
   "cell_type": "code",
   "execution_count": null,
   "id": "a8e192eb-76bb-4a6b-a789-48cf8f938471",
   "metadata": {},
   "outputs": [],
   "source": [
    "height, width, area = smp.symbols('height, width, area')"
   ]
  },
  {
   "cell_type": "code",
   "execution_count": null,
   "id": "594d5c07-0253-46ac-850c-1459a7e0fa8b",
   "metadata": {},
   "outputs": [
    {
     "data": {
      "text/latex": [
       "$\\displaystyle height$"
      ],
      "text/plain": [
       "height"
      ]
     },
     "execution_count": null,
     "metadata": {},
     "output_type": "execute_result"
    }
   ],
   "source": [
    "height"
   ]
  },
  {
   "cell_type": "code",
   "execution_count": null,
   "id": "357078be-59f6-47d1-b9fd-553709d52b2a",
   "metadata": {},
   "outputs": [],
   "source": [
    "eq = area - height * width"
   ]
  },
  {
   "cell_type": "code",
   "execution_count": null,
   "id": "229df486-a26d-4947-a30d-40ab1aab8576",
   "metadata": {},
   "outputs": [
    {
     "data": {
      "text/latex": [
       "$\\displaystyle \\left\\{\\frac{area}{width}\\right\\}$"
      ],
      "text/plain": [
       "{area/width}"
      ]
     },
     "execution_count": null,
     "metadata": {},
     "output_type": "execute_result"
    }
   ],
   "source": [
    "smp.solveset(eq, height)"
   ]
  },
  {
   "cell_type": "code",
   "execution_count": null,
   "id": "bec48124-cfd7-41d2-98be-33fb140c1a5c",
   "metadata": {},
   "outputs": [
    {
     "data": {
      "text/latex": [
       "$\\displaystyle \\frac{area}{width}$"
      ],
      "text/plain": [
       "area/width"
      ]
     },
     "execution_count": null,
     "metadata": {},
     "output_type": "execute_result"
    }
   ],
   "source": [
    "smp.solve(eq, height)[0]"
   ]
  },
  {
   "cell_type": "markdown",
   "id": "23e5611e-1efd-4a26-80f5-61d6d1a0ee42",
   "metadata": {},
   "source": [
    "### Substitution"
   ]
  },
  {
   "cell_type": "code",
   "execution_count": null,
   "id": "ecf13bbf-90be-4e2a-93cb-c27db2971a3e",
   "metadata": {},
   "outputs": [],
   "source": [
    "x, y, z, k = smp.symbols('x, y, z, k')"
   ]
  },
  {
   "cell_type": "code",
   "execution_count": null,
   "id": "aeeabc92-0fe5-457b-9958-fcbd83cf210a",
   "metadata": {},
   "outputs": [],
   "source": [
    "expr = 2*x + 4*y + z"
   ]
  },
  {
   "cell_type": "code",
   "execution_count": null,
   "id": "a308131a-b813-494f-9f53-b4d33ddb30ec",
   "metadata": {},
   "outputs": [
    {
     "data": {
      "text/plain": [
       "(x, y, z, k)"
      ]
     },
     "execution_count": null,
     "metadata": {},
     "output_type": "execute_result"
    }
   ],
   "source": [
    "x, y, z, k"
   ]
  },
  {
   "cell_type": "code",
   "execution_count": null,
   "id": "2b290e12-bd8b-4ec6-9d1a-ec6efb3e1a83",
   "metadata": {},
   "outputs": [
    {
     "data": {
      "text/latex": [
       "$\\displaystyle 2 x + 4 y + z$"
      ],
      "text/plain": [
       "2*x + 4*y + z"
      ]
     },
     "execution_count": null,
     "metadata": {},
     "output_type": "execute_result"
    }
   ],
   "source": [
    "expr"
   ]
  },
  {
   "cell_type": "markdown",
   "id": "a0ead7ed-2d9d-4c22-859b-c384821b9d33",
   "metadata": {},
   "source": [
    "Substitute $y = k$ and $x = 3$"
   ]
  },
  {
   "cell_type": "code",
   "execution_count": null,
   "id": "0a547892-76c8-4189-9669-dacba15cdc10",
   "metadata": {},
   "outputs": [
    {
     "data": {
      "text/latex": [
       "$\\displaystyle 4 k + z + 6$"
      ],
      "text/plain": [
       "4*k + z + 6"
      ]
     },
     "execution_count": null,
     "metadata": {},
     "output_type": "execute_result"
    }
   ],
   "source": [
    "expr.subs({'y': k, 'x': 3})"
   ]
  },
  {
   "cell_type": "code",
   "execution_count": null,
   "id": "69f09655-4ed9-439d-a03b-2067fe5acaa8",
   "metadata": {},
   "outputs": [
    {
     "data": {
      "text/plain": [
       "\u001b[0;31mSignature:\u001b[0m \u001b[0msmp\u001b[0m\u001b[0;34m.\u001b[0m\u001b[0mlinsolve\u001b[0m\u001b[0;34m(\u001b[0m\u001b[0msystem\u001b[0m\u001b[0;34m,\u001b[0m \u001b[0;34m*\u001b[0m\u001b[0msymbols\u001b[0m\u001b[0;34m)\u001b[0m\u001b[0;34m\u001b[0m\u001b[0;34m\u001b[0m\u001b[0m\n",
       "\u001b[0;31mSource:\u001b[0m   \n",
       "\u001b[0;32mdef\u001b[0m \u001b[0mlinsolve\u001b[0m\u001b[0;34m(\u001b[0m\u001b[0msystem\u001b[0m\u001b[0;34m,\u001b[0m \u001b[0;34m*\u001b[0m\u001b[0msymbols\u001b[0m\u001b[0;34m)\u001b[0m\u001b[0;34m:\u001b[0m\u001b[0;34m\u001b[0m\n",
       "\u001b[0;34m\u001b[0m    \u001b[0;34mr\"\"\"\u001b[0m\n",
       "\u001b[0;34m    Solve system of $N$ linear equations with $M$ variables; both\u001b[0m\n",
       "\u001b[0;34m    underdetermined and overdetermined systems are supported.\u001b[0m\n",
       "\u001b[0;34m    The possible number of solutions is zero, one or infinite.\u001b[0m\n",
       "\u001b[0;34m    Zero solutions throws a ValueError, whereas infinite\u001b[0m\n",
       "\u001b[0;34m    solutions are represented parametrically in terms of the given\u001b[0m\n",
       "\u001b[0;34m    symbols. For unique solution a :class:`~.FiniteSet` of ordered tuples\u001b[0m\n",
       "\u001b[0;34m    is returned.\u001b[0m\n",
       "\u001b[0;34m\u001b[0m\n",
       "\u001b[0;34m    All standard input formats are supported:\u001b[0m\n",
       "\u001b[0;34m    For the given set of equations, the respective input types\u001b[0m\n",
       "\u001b[0;34m    are given below:\u001b[0m\n",
       "\u001b[0;34m\u001b[0m\n",
       "\u001b[0;34m    .. math:: 3x + 2y -   z = 1\u001b[0m\n",
       "\u001b[0;34m    .. math:: 2x - 2y + 4z = -2\u001b[0m\n",
       "\u001b[0;34m    .. math:: 2x -   y + 2z = 0\u001b[0m\n",
       "\u001b[0;34m\u001b[0m\n",
       "\u001b[0;34m    * Augmented matrix form, ``system`` given below:\u001b[0m\n",
       "\u001b[0;34m\u001b[0m\n",
       "\u001b[0;34m    $$ \\text{system} = \\left[{array}{cccc}\u001b[0m\n",
       "\u001b[0;34m        3 &  2 & -1 &  1\\\\\u001b[0m\n",
       "\u001b[0;34m        2 & -2 &  4 & -2\\\\\u001b[0m\n",
       "\u001b[0;34m        2 & -1 &  2 &  0\u001b[0m\n",
       "\u001b[0;34m        \\end{array}\\right] $$\u001b[0m\n",
       "\u001b[0;34m\u001b[0m\n",
       "\u001b[0;34m    ::\u001b[0m\n",
       "\u001b[0;34m\u001b[0m\n",
       "\u001b[0;34m        system = Matrix([[3, 2, -1, 1], [2, -2, 4, -2], [2, -1, 2, 0]])\u001b[0m\n",
       "\u001b[0;34m\u001b[0m\n",
       "\u001b[0;34m    * List of equations form\u001b[0m\n",
       "\u001b[0;34m\u001b[0m\n",
       "\u001b[0;34m    ::\u001b[0m\n",
       "\u001b[0;34m\u001b[0m\n",
       "\u001b[0;34m        system  =  [3x + 2y - z - 1, 2x - 2y + 4z + 2, 2x - y + 2z]\u001b[0m\n",
       "\u001b[0;34m\u001b[0m\n",
       "\u001b[0;34m    * Input $A$ and $b$ in matrix form (from $Ax = b$) are given as:\u001b[0m\n",
       "\u001b[0;34m\u001b[0m\n",
       "\u001b[0;34m    $$ A = \\left[\\begin{array}{ccc}\u001b[0m\n",
       "\u001b[0;34m        3 &  2 & -1 \\\\\u001b[0m\n",
       "\u001b[0;34m        2 & -2 &  4 \\\\\u001b[0m\n",
       "\u001b[0;34m        2 & -1 &  2\u001b[0m\n",
       "\u001b[0;34m        \\end{array}\\right] \\ \\  b = \\left[\\begin{array}{c}\u001b[0m\n",
       "\u001b[0;34m        1 \\\\ -2 \\\\ 0\u001b[0m\n",
       "\u001b[0;34m        \\end{array}\\right] $$\u001b[0m\n",
       "\u001b[0;34m\u001b[0m\n",
       "\u001b[0;34m    ::\u001b[0m\n",
       "\u001b[0;34m\u001b[0m\n",
       "\u001b[0;34m        A = Matrix([[3, 2, -1], [2, -2, 4], [2, -1, 2]])\u001b[0m\n",
       "\u001b[0;34m        b = Matrix([[1], [-2], [0]])\u001b[0m\n",
       "\u001b[0;34m        system = (A, b)\u001b[0m\n",
       "\u001b[0;34m\u001b[0m\n",
       "\u001b[0;34m    Symbols can always be passed but are actually only needed\u001b[0m\n",
       "\u001b[0;34m    when 1) a system of equations is being passed and 2) the\u001b[0m\n",
       "\u001b[0;34m    system is passed as an underdetermined matrix and one wants\u001b[0m\n",
       "\u001b[0;34m    to control the name of the free variables in the result.\u001b[0m\n",
       "\u001b[0;34m    An error is raised if no symbols are used for case 1, but if\u001b[0m\n",
       "\u001b[0;34m    no symbols are provided for case 2, internally generated symbols\u001b[0m\n",
       "\u001b[0;34m    will be provided. When providing symbols for case 2, there should\u001b[0m\n",
       "\u001b[0;34m    be at least as many symbols are there are columns in matrix A.\u001b[0m\n",
       "\u001b[0;34m\u001b[0m\n",
       "\u001b[0;34m    The algorithm used here is Gauss-Jordan elimination, which\u001b[0m\n",
       "\u001b[0;34m    results, after elimination, in a row echelon form matrix.\u001b[0m\n",
       "\u001b[0;34m\u001b[0m\n",
       "\u001b[0;34m    Returns\u001b[0m\n",
       "\u001b[0;34m    =======\u001b[0m\n",
       "\u001b[0;34m\u001b[0m\n",
       "\u001b[0;34m    A FiniteSet containing an ordered tuple of values for the\u001b[0m\n",
       "\u001b[0;34m    unknowns for which the `system` has a solution. (Wrapping\u001b[0m\n",
       "\u001b[0;34m    the tuple in FiniteSet is used to maintain a consistent\u001b[0m\n",
       "\u001b[0;34m    output format throughout solveset.)\u001b[0m\n",
       "\u001b[0;34m\u001b[0m\n",
       "\u001b[0;34m    Returns EmptySet, if the linear system is inconsistent.\u001b[0m\n",
       "\u001b[0;34m\u001b[0m\n",
       "\u001b[0;34m    Raises\u001b[0m\n",
       "\u001b[0;34m    ======\u001b[0m\n",
       "\u001b[0;34m\u001b[0m\n",
       "\u001b[0;34m    ValueError\u001b[0m\n",
       "\u001b[0;34m        The input is not valid.\u001b[0m\n",
       "\u001b[0;34m        The symbols are not given.\u001b[0m\n",
       "\u001b[0;34m\u001b[0m\n",
       "\u001b[0;34m    Examples\u001b[0m\n",
       "\u001b[0;34m    ========\u001b[0m\n",
       "\u001b[0;34m\u001b[0m\n",
       "\u001b[0;34m    >>> from sympy import Matrix, linsolve, symbols\u001b[0m\n",
       "\u001b[0;34m    >>> x, y, z = symbols(\"x, y, z\")\u001b[0m\n",
       "\u001b[0;34m    >>> A = Matrix([[1, 2, 3], [4, 5, 6], [7, 8, 10]])\u001b[0m\n",
       "\u001b[0;34m    >>> b = Matrix([3, 6, 9])\u001b[0m\n",
       "\u001b[0;34m    >>> A\u001b[0m\n",
       "\u001b[0;34m    Matrix([\u001b[0m\n",
       "\u001b[0;34m    [1, 2,  3],\u001b[0m\n",
       "\u001b[0;34m    [4, 5,  6],\u001b[0m\n",
       "\u001b[0;34m    [7, 8, 10]])\u001b[0m\n",
       "\u001b[0;34m    >>> b\u001b[0m\n",
       "\u001b[0;34m    Matrix([\u001b[0m\n",
       "\u001b[0;34m    [3],\u001b[0m\n",
       "\u001b[0;34m    [6],\u001b[0m\n",
       "\u001b[0;34m    [9]])\u001b[0m\n",
       "\u001b[0;34m    >>> linsolve((A, b), [x, y, z])\u001b[0m\n",
       "\u001b[0;34m    {(-1, 2, 0)}\u001b[0m\n",
       "\u001b[0;34m\u001b[0m\n",
       "\u001b[0;34m    * Parametric Solution: In case the system is underdetermined, the\u001b[0m\n",
       "\u001b[0;34m      function will return a parametric solution in terms of the given\u001b[0m\n",
       "\u001b[0;34m      symbols. Those that are free will be returned unchanged. e.g. in\u001b[0m\n",
       "\u001b[0;34m      the system below, `z` is returned as the solution for variable z;\u001b[0m\n",
       "\u001b[0;34m      it can take on any value.\u001b[0m\n",
       "\u001b[0;34m\u001b[0m\n",
       "\u001b[0;34m    >>> A = Matrix([[1, 2, 3], [4, 5, 6], [7, 8, 9]])\u001b[0m\n",
       "\u001b[0;34m    >>> b = Matrix([3, 6, 9])\u001b[0m\n",
       "\u001b[0;34m    >>> linsolve((A, b), x, y, z)\u001b[0m\n",
       "\u001b[0;34m    {(z - 1, 2 - 2*z, z)}\u001b[0m\n",
       "\u001b[0;34m\u001b[0m\n",
       "\u001b[0;34m    If no symbols are given, internally generated symbols will be used.\u001b[0m\n",
       "\u001b[0;34m    The ``tau0`` in the third position indicates (as before) that the third\u001b[0m\n",
       "\u001b[0;34m    variable -- whatever it is named -- can take on any value:\u001b[0m\n",
       "\u001b[0;34m\u001b[0m\n",
       "\u001b[0;34m    >>> linsolve((A, b))\u001b[0m\n",
       "\u001b[0;34m    {(tau0 - 1, 2 - 2*tau0, tau0)}\u001b[0m\n",
       "\u001b[0;34m\u001b[0m\n",
       "\u001b[0;34m    * List of equations as input\u001b[0m\n",
       "\u001b[0;34m\u001b[0m\n",
       "\u001b[0;34m    >>> Eqns = [3*x + 2*y - z - 1, 2*x - 2*y + 4*z + 2, - x + y/2 - z]\u001b[0m\n",
       "\u001b[0;34m    >>> linsolve(Eqns, x, y, z)\u001b[0m\n",
       "\u001b[0;34m    {(1, -2, -2)}\u001b[0m\n",
       "\u001b[0;34m\u001b[0m\n",
       "\u001b[0;34m    * Augmented matrix as input\u001b[0m\n",
       "\u001b[0;34m\u001b[0m\n",
       "\u001b[0;34m    >>> aug = Matrix([[2, 1, 3, 1], [2, 6, 8, 3], [6, 8, 18, 5]])\u001b[0m\n",
       "\u001b[0;34m    >>> aug\u001b[0m\n",
       "\u001b[0;34m    Matrix([\u001b[0m\n",
       "\u001b[0;34m    [2, 1,  3, 1],\u001b[0m\n",
       "\u001b[0;34m    [2, 6,  8, 3],\u001b[0m\n",
       "\u001b[0;34m    [6, 8, 18, 5]])\u001b[0m\n",
       "\u001b[0;34m    >>> linsolve(aug, x, y, z)\u001b[0m\n",
       "\u001b[0;34m    {(3/10, 2/5, 0)}\u001b[0m\n",
       "\u001b[0;34m\u001b[0m\n",
       "\u001b[0;34m    * Solve for symbolic coefficients\u001b[0m\n",
       "\u001b[0;34m\u001b[0m\n",
       "\u001b[0;34m    >>> a, b, c, d, e, f = symbols('a, b, c, d, e, f')\u001b[0m\n",
       "\u001b[0;34m    >>> eqns = [a*x + b*y - c, d*x + e*y - f]\u001b[0m\n",
       "\u001b[0;34m    >>> linsolve(eqns, x, y)\u001b[0m\n",
       "\u001b[0;34m    {((-b*f + c*e)/(a*e - b*d), (a*f - c*d)/(a*e - b*d))}\u001b[0m\n",
       "\u001b[0;34m\u001b[0m\n",
       "\u001b[0;34m    * A degenerate system returns solution as set of given\u001b[0m\n",
       "\u001b[0;34m      symbols.\u001b[0m\n",
       "\u001b[0;34m\u001b[0m\n",
       "\u001b[0;34m    >>> system = Matrix(([0, 0, 0], [0, 0, 0], [0, 0, 0]))\u001b[0m\n",
       "\u001b[0;34m    >>> linsolve(system, x, y)\u001b[0m\n",
       "\u001b[0;34m    {(x, y)}\u001b[0m\n",
       "\u001b[0;34m\u001b[0m\n",
       "\u001b[0;34m    * For an empty system linsolve returns empty set\u001b[0m\n",
       "\u001b[0;34m\u001b[0m\n",
       "\u001b[0;34m    >>> linsolve([], x)\u001b[0m\n",
       "\u001b[0;34m    EmptySet\u001b[0m\n",
       "\u001b[0;34m\u001b[0m\n",
       "\u001b[0;34m    * An error is raised if, after expansion, any nonlinearity\u001b[0m\n",
       "\u001b[0;34m      is detected:\u001b[0m\n",
       "\u001b[0;34m\u001b[0m\n",
       "\u001b[0;34m    >>> linsolve([x*(1/x - 1), (y - 1)**2 - y**2 + 1], x, y)\u001b[0m\n",
       "\u001b[0;34m    {(1, 1)}\u001b[0m\n",
       "\u001b[0;34m    >>> linsolve([x**2 - 1], x)\u001b[0m\n",
       "\u001b[0;34m    Traceback (most recent call last):\u001b[0m\n",
       "\u001b[0;34m    ...\u001b[0m\n",
       "\u001b[0;34m    NonlinearError:\u001b[0m\n",
       "\u001b[0;34m    nonlinear term encountered: x**2\u001b[0m\n",
       "\u001b[0;34m    \"\"\"\u001b[0m\u001b[0;34m\u001b[0m\n",
       "\u001b[0;34m\u001b[0m    \u001b[0;32mif\u001b[0m \u001b[0;32mnot\u001b[0m \u001b[0msystem\u001b[0m\u001b[0;34m:\u001b[0m\u001b[0;34m\u001b[0m\n",
       "\u001b[0;34m\u001b[0m        \u001b[0;32mreturn\u001b[0m \u001b[0mS\u001b[0m\u001b[0;34m.\u001b[0m\u001b[0mEmptySet\u001b[0m\u001b[0;34m\u001b[0m\n",
       "\u001b[0;34m\u001b[0m\u001b[0;34m\u001b[0m\n",
       "\u001b[0;34m\u001b[0m    \u001b[0;31m# If second argument is an iterable\u001b[0m\u001b[0;34m\u001b[0m\n",
       "\u001b[0;34m\u001b[0m    \u001b[0;32mif\u001b[0m \u001b[0msymbols\u001b[0m \u001b[0;32mand\u001b[0m \u001b[0mhasattr\u001b[0m\u001b[0;34m(\u001b[0m\u001b[0msymbols\u001b[0m\u001b[0;34m[\u001b[0m\u001b[0;36m0\u001b[0m\u001b[0;34m]\u001b[0m\u001b[0;34m,\u001b[0m \u001b[0;34m'__iter__'\u001b[0m\u001b[0;34m)\u001b[0m\u001b[0;34m:\u001b[0m\u001b[0;34m\u001b[0m\n",
       "\u001b[0;34m\u001b[0m        \u001b[0msymbols\u001b[0m \u001b[0;34m=\u001b[0m \u001b[0msymbols\u001b[0m\u001b[0;34m[\u001b[0m\u001b[0;36m0\u001b[0m\u001b[0;34m]\u001b[0m\u001b[0;34m\u001b[0m\n",
       "\u001b[0;34m\u001b[0m    \u001b[0msym_gen\u001b[0m \u001b[0;34m=\u001b[0m \u001b[0misinstance\u001b[0m\u001b[0;34m(\u001b[0m\u001b[0msymbols\u001b[0m\u001b[0;34m,\u001b[0m \u001b[0mGeneratorType\u001b[0m\u001b[0;34m)\u001b[0m\u001b[0;34m\u001b[0m\n",
       "\u001b[0;34m\u001b[0m\u001b[0;34m\u001b[0m\n",
       "\u001b[0;34m\u001b[0m    \u001b[0mb\u001b[0m \u001b[0;34m=\u001b[0m \u001b[0;32mNone\u001b[0m  \u001b[0;31m# if we don't get b the input was bad\u001b[0m\u001b[0;34m\u001b[0m\n",
       "\u001b[0;34m\u001b[0m    \u001b[0;31m# unpack system\u001b[0m\u001b[0;34m\u001b[0m\n",
       "\u001b[0;34m\u001b[0m\u001b[0;34m\u001b[0m\n",
       "\u001b[0;34m\u001b[0m    \u001b[0;32mif\u001b[0m \u001b[0mhasattr\u001b[0m\u001b[0;34m(\u001b[0m\u001b[0msystem\u001b[0m\u001b[0;34m,\u001b[0m \u001b[0;34m'__iter__'\u001b[0m\u001b[0;34m)\u001b[0m\u001b[0;34m:\u001b[0m\u001b[0;34m\u001b[0m\n",
       "\u001b[0;34m\u001b[0m\u001b[0;34m\u001b[0m\n",
       "\u001b[0;34m\u001b[0m        \u001b[0;31m# 1). (A, b)\u001b[0m\u001b[0;34m\u001b[0m\n",
       "\u001b[0;34m\u001b[0m        \u001b[0;32mif\u001b[0m \u001b[0mlen\u001b[0m\u001b[0;34m(\u001b[0m\u001b[0msystem\u001b[0m\u001b[0;34m)\u001b[0m \u001b[0;34m==\u001b[0m \u001b[0;36m2\u001b[0m \u001b[0;32mand\u001b[0m \u001b[0misinstance\u001b[0m\u001b[0;34m(\u001b[0m\u001b[0msystem\u001b[0m\u001b[0;34m[\u001b[0m\u001b[0;36m0\u001b[0m\u001b[0;34m]\u001b[0m\u001b[0;34m,\u001b[0m \u001b[0mMatrixBase\u001b[0m\u001b[0;34m)\u001b[0m\u001b[0;34m:\u001b[0m\u001b[0;34m\u001b[0m\n",
       "\u001b[0;34m\u001b[0m            \u001b[0mA\u001b[0m\u001b[0;34m,\u001b[0m \u001b[0mb\u001b[0m \u001b[0;34m=\u001b[0m \u001b[0msystem\u001b[0m\u001b[0;34m\u001b[0m\n",
       "\u001b[0;34m\u001b[0m\u001b[0;34m\u001b[0m\n",
       "\u001b[0;34m\u001b[0m        \u001b[0;31m# 2). (eq1, eq2, ...)\u001b[0m\u001b[0;34m\u001b[0m\n",
       "\u001b[0;34m\u001b[0m        \u001b[0;32mif\u001b[0m \u001b[0;32mnot\u001b[0m \u001b[0misinstance\u001b[0m\u001b[0;34m(\u001b[0m\u001b[0msystem\u001b[0m\u001b[0;34m[\u001b[0m\u001b[0;36m0\u001b[0m\u001b[0;34m]\u001b[0m\u001b[0;34m,\u001b[0m \u001b[0mMatrixBase\u001b[0m\u001b[0;34m)\u001b[0m\u001b[0;34m:\u001b[0m\u001b[0;34m\u001b[0m\n",
       "\u001b[0;34m\u001b[0m            \u001b[0;32mif\u001b[0m \u001b[0msym_gen\u001b[0m \u001b[0;32mor\u001b[0m \u001b[0;32mnot\u001b[0m \u001b[0msymbols\u001b[0m\u001b[0;34m:\u001b[0m\u001b[0;34m\u001b[0m\n",
       "\u001b[0;34m\u001b[0m                \u001b[0;32mraise\u001b[0m \u001b[0mValueError\u001b[0m\u001b[0;34m(\u001b[0m\u001b[0mfilldedent\u001b[0m\u001b[0;34m(\u001b[0m\u001b[0;34m'''\u001b[0m\n",
       "\u001b[0;34m                    When passing a system of equations, the explicit\u001b[0m\n",
       "\u001b[0;34m                    symbols for which a solution is being sought must\u001b[0m\n",
       "\u001b[0;34m                    be given as a sequence, too.\u001b[0m\n",
       "\u001b[0;34m                '''\u001b[0m\u001b[0;34m)\u001b[0m\u001b[0;34m)\u001b[0m\u001b[0;34m\u001b[0m\n",
       "\u001b[0;34m\u001b[0m\u001b[0;34m\u001b[0m\n",
       "\u001b[0;34m\u001b[0m            \u001b[0;31m#\u001b[0m\u001b[0;34m\u001b[0m\n",
       "\u001b[0;34m\u001b[0m            \u001b[0;31m# Pass to the sparse solver implemented in polys. It is important\u001b[0m\u001b[0;34m\u001b[0m\n",
       "\u001b[0;34m\u001b[0m            \u001b[0;31m# that we do not attempt to convert the equations to a matrix\u001b[0m\u001b[0;34m\u001b[0m\n",
       "\u001b[0;34m\u001b[0m            \u001b[0;31m# because that would be very inefficient for large sparse systems\u001b[0m\u001b[0;34m\u001b[0m\n",
       "\u001b[0;34m\u001b[0m            \u001b[0;31m# of equations.\u001b[0m\u001b[0;34m\u001b[0m\n",
       "\u001b[0;34m\u001b[0m            \u001b[0;31m#\u001b[0m\u001b[0;34m\u001b[0m\n",
       "\u001b[0;34m\u001b[0m            \u001b[0meqs\u001b[0m \u001b[0;34m=\u001b[0m \u001b[0msystem\u001b[0m\u001b[0;34m\u001b[0m\n",
       "\u001b[0;34m\u001b[0m            \u001b[0meqs\u001b[0m \u001b[0;34m=\u001b[0m \u001b[0;34m[\u001b[0m\u001b[0msympify\u001b[0m\u001b[0;34m(\u001b[0m\u001b[0meq\u001b[0m\u001b[0;34m)\u001b[0m \u001b[0;32mfor\u001b[0m \u001b[0meq\u001b[0m \u001b[0;32min\u001b[0m \u001b[0meqs\u001b[0m\u001b[0;34m]\u001b[0m\u001b[0;34m\u001b[0m\n",
       "\u001b[0;34m\u001b[0m            \u001b[0;32mtry\u001b[0m\u001b[0;34m:\u001b[0m\u001b[0;34m\u001b[0m\n",
       "\u001b[0;34m\u001b[0m                \u001b[0msol\u001b[0m \u001b[0;34m=\u001b[0m \u001b[0m_linsolve\u001b[0m\u001b[0;34m(\u001b[0m\u001b[0meqs\u001b[0m\u001b[0;34m,\u001b[0m \u001b[0msymbols\u001b[0m\u001b[0;34m)\u001b[0m\u001b[0;34m\u001b[0m\n",
       "\u001b[0;34m\u001b[0m            \u001b[0;32mexcept\u001b[0m \u001b[0mPolyNonlinearError\u001b[0m \u001b[0;32mas\u001b[0m \u001b[0mexc\u001b[0m\u001b[0;34m:\u001b[0m\u001b[0;34m\u001b[0m\n",
       "\u001b[0;34m\u001b[0m                \u001b[0;31m# e.g. cos(x) contains an element of the set of generators\u001b[0m\u001b[0;34m\u001b[0m\n",
       "\u001b[0;34m\u001b[0m                \u001b[0;32mraise\u001b[0m \u001b[0mNonlinearError\u001b[0m\u001b[0;34m(\u001b[0m\u001b[0mstr\u001b[0m\u001b[0;34m(\u001b[0m\u001b[0mexc\u001b[0m\u001b[0;34m)\u001b[0m\u001b[0;34m)\u001b[0m\u001b[0;34m\u001b[0m\n",
       "\u001b[0;34m\u001b[0m\u001b[0;34m\u001b[0m\n",
       "\u001b[0;34m\u001b[0m            \u001b[0;32mif\u001b[0m \u001b[0msol\u001b[0m \u001b[0;32mis\u001b[0m \u001b[0;32mNone\u001b[0m\u001b[0;34m:\u001b[0m\u001b[0;34m\u001b[0m\n",
       "\u001b[0;34m\u001b[0m                \u001b[0;32mreturn\u001b[0m \u001b[0mS\u001b[0m\u001b[0;34m.\u001b[0m\u001b[0mEmptySet\u001b[0m\u001b[0;34m\u001b[0m\n",
       "\u001b[0;34m\u001b[0m\u001b[0;34m\u001b[0m\n",
       "\u001b[0;34m\u001b[0m            \u001b[0msol\u001b[0m \u001b[0;34m=\u001b[0m \u001b[0mFiniteSet\u001b[0m\u001b[0;34m(\u001b[0m\u001b[0mTuple\u001b[0m\u001b[0;34m(\u001b[0m\u001b[0;34m*\u001b[0m\u001b[0;34m(\u001b[0m\u001b[0msol\u001b[0m\u001b[0;34m.\u001b[0m\u001b[0mget\u001b[0m\u001b[0;34m(\u001b[0m\u001b[0msym\u001b[0m\u001b[0;34m,\u001b[0m \u001b[0msym\u001b[0m\u001b[0;34m)\u001b[0m \u001b[0;32mfor\u001b[0m \u001b[0msym\u001b[0m \u001b[0;32min\u001b[0m \u001b[0msymbols\u001b[0m\u001b[0;34m)\u001b[0m\u001b[0;34m)\u001b[0m\u001b[0;34m)\u001b[0m\u001b[0;34m\u001b[0m\n",
       "\u001b[0;34m\u001b[0m            \u001b[0;32mreturn\u001b[0m \u001b[0msol\u001b[0m\u001b[0;34m\u001b[0m\n",
       "\u001b[0;34m\u001b[0m\u001b[0;34m\u001b[0m\n",
       "\u001b[0;34m\u001b[0m    \u001b[0;32melif\u001b[0m \u001b[0misinstance\u001b[0m\u001b[0;34m(\u001b[0m\u001b[0msystem\u001b[0m\u001b[0;34m,\u001b[0m \u001b[0mMatrixBase\u001b[0m\u001b[0;34m)\u001b[0m \u001b[0;32mand\u001b[0m \u001b[0;32mnot\u001b[0m \u001b[0;34m(\u001b[0m\u001b[0;34m\u001b[0m\n",
       "\u001b[0;34m\u001b[0m            \u001b[0msymbols\u001b[0m \u001b[0;32mand\u001b[0m \u001b[0;32mnot\u001b[0m \u001b[0misinstance\u001b[0m\u001b[0;34m(\u001b[0m\u001b[0msymbols\u001b[0m\u001b[0;34m,\u001b[0m \u001b[0mGeneratorType\u001b[0m\u001b[0;34m)\u001b[0m \u001b[0;32mand\u001b[0m\u001b[0;34m\u001b[0m\n",
       "\u001b[0;34m\u001b[0m            \u001b[0misinstance\u001b[0m\u001b[0;34m(\u001b[0m\u001b[0msymbols\u001b[0m\u001b[0;34m[\u001b[0m\u001b[0;36m0\u001b[0m\u001b[0;34m]\u001b[0m\u001b[0;34m,\u001b[0m \u001b[0mMatrixBase\u001b[0m\u001b[0;34m)\u001b[0m\u001b[0;34m)\u001b[0m\u001b[0;34m:\u001b[0m\u001b[0;34m\u001b[0m\n",
       "\u001b[0;34m\u001b[0m        \u001b[0;31m# 3). A augmented with b\u001b[0m\u001b[0;34m\u001b[0m\n",
       "\u001b[0;34m\u001b[0m        \u001b[0mA\u001b[0m\u001b[0;34m,\u001b[0m \u001b[0mb\u001b[0m \u001b[0;34m=\u001b[0m \u001b[0msystem\u001b[0m\u001b[0;34m[\u001b[0m\u001b[0;34m:\u001b[0m\u001b[0;34m,\u001b[0m \u001b[0;34m:\u001b[0m\u001b[0;34m-\u001b[0m\u001b[0;36m1\u001b[0m\u001b[0;34m]\u001b[0m\u001b[0;34m,\u001b[0m \u001b[0msystem\u001b[0m\u001b[0;34m[\u001b[0m\u001b[0;34m:\u001b[0m\u001b[0;34m,\u001b[0m \u001b[0;34m-\u001b[0m\u001b[0;36m1\u001b[0m\u001b[0;34m:\u001b[0m\u001b[0;34m]\u001b[0m\u001b[0;34m\u001b[0m\n",
       "\u001b[0;34m\u001b[0m\u001b[0;34m\u001b[0m\n",
       "\u001b[0;34m\u001b[0m    \u001b[0;32mif\u001b[0m \u001b[0mb\u001b[0m \u001b[0;32mis\u001b[0m \u001b[0;32mNone\u001b[0m\u001b[0;34m:\u001b[0m\u001b[0;34m\u001b[0m\n",
       "\u001b[0;34m\u001b[0m        \u001b[0;32mraise\u001b[0m \u001b[0mValueError\u001b[0m\u001b[0;34m(\u001b[0m\u001b[0;34m\"Invalid arguments\"\u001b[0m\u001b[0;34m)\u001b[0m\u001b[0;34m\u001b[0m\n",
       "\u001b[0;34m\u001b[0m    \u001b[0;32mif\u001b[0m \u001b[0msym_gen\u001b[0m\u001b[0;34m:\u001b[0m\u001b[0;34m\u001b[0m\n",
       "\u001b[0;34m\u001b[0m        \u001b[0msymbols\u001b[0m \u001b[0;34m=\u001b[0m \u001b[0;34m[\u001b[0m\u001b[0mnext\u001b[0m\u001b[0;34m(\u001b[0m\u001b[0msymbols\u001b[0m\u001b[0;34m)\u001b[0m \u001b[0;32mfor\u001b[0m \u001b[0mi\u001b[0m \u001b[0;32min\u001b[0m \u001b[0mrange\u001b[0m\u001b[0;34m(\u001b[0m\u001b[0mA\u001b[0m\u001b[0;34m.\u001b[0m\u001b[0mcols\u001b[0m\u001b[0;34m)\u001b[0m\u001b[0;34m]\u001b[0m\u001b[0;34m\u001b[0m\n",
       "\u001b[0;34m\u001b[0m        \u001b[0;32mif\u001b[0m \u001b[0many\u001b[0m\u001b[0;34m(\u001b[0m\u001b[0mset\u001b[0m\u001b[0;34m(\u001b[0m\u001b[0msymbols\u001b[0m\u001b[0;34m)\u001b[0m \u001b[0;34m&\u001b[0m \u001b[0;34m(\u001b[0m\u001b[0mA\u001b[0m\u001b[0;34m.\u001b[0m\u001b[0mfree_symbols\u001b[0m \u001b[0;34m|\u001b[0m \u001b[0mb\u001b[0m\u001b[0;34m.\u001b[0m\u001b[0mfree_symbols\u001b[0m\u001b[0;34m)\u001b[0m\u001b[0;34m)\u001b[0m\u001b[0;34m:\u001b[0m\u001b[0;34m\u001b[0m\n",
       "\u001b[0;34m\u001b[0m            \u001b[0;32mraise\u001b[0m \u001b[0mValueError\u001b[0m\u001b[0;34m(\u001b[0m\u001b[0mfilldedent\u001b[0m\u001b[0;34m(\u001b[0m\u001b[0;34m'''\u001b[0m\n",
       "\u001b[0;34m                At least one of the symbols provided\u001b[0m\n",
       "\u001b[0;34m                already appears in the system to be solved.\u001b[0m\n",
       "\u001b[0;34m                One way to avoid this is to use Dummy symbols in\u001b[0m\n",
       "\u001b[0;34m                the generator, e.g. numbered_symbols('%s', cls=Dummy)\u001b[0m\n",
       "\u001b[0;34m            '''\u001b[0m \u001b[0;34m%\u001b[0m \u001b[0msymbols\u001b[0m\u001b[0;34m[\u001b[0m\u001b[0;36m0\u001b[0m\u001b[0;34m]\u001b[0m\u001b[0;34m.\u001b[0m\u001b[0mname\u001b[0m\u001b[0;34m.\u001b[0m\u001b[0mrstrip\u001b[0m\u001b[0;34m(\u001b[0m\u001b[0;34m'1234567890'\u001b[0m\u001b[0;34m)\u001b[0m\u001b[0;34m)\u001b[0m\u001b[0;34m)\u001b[0m\u001b[0;34m\u001b[0m\n",
       "\u001b[0;34m\u001b[0m\u001b[0;34m\u001b[0m\n",
       "\u001b[0;34m\u001b[0m    \u001b[0;32mif\u001b[0m \u001b[0;32mnot\u001b[0m \u001b[0msymbols\u001b[0m\u001b[0;34m:\u001b[0m\u001b[0;34m\u001b[0m\n",
       "\u001b[0;34m\u001b[0m        \u001b[0msymbols\u001b[0m \u001b[0;34m=\u001b[0m \u001b[0;34m[\u001b[0m\u001b[0mDummy\u001b[0m\u001b[0;34m(\u001b[0m\u001b[0;34m)\u001b[0m \u001b[0;32mfor\u001b[0m \u001b[0m_\u001b[0m \u001b[0;32min\u001b[0m \u001b[0mrange\u001b[0m\u001b[0;34m(\u001b[0m\u001b[0mA\u001b[0m\u001b[0;34m.\u001b[0m\u001b[0mcols\u001b[0m\u001b[0;34m)\u001b[0m\u001b[0;34m]\u001b[0m\u001b[0;34m\u001b[0m\n",
       "\u001b[0;34m\u001b[0m        \u001b[0mname\u001b[0m \u001b[0;34m=\u001b[0m \u001b[0m_uniquely_named_symbol\u001b[0m\u001b[0;34m(\u001b[0m\u001b[0;34m'tau'\u001b[0m\u001b[0;34m,\u001b[0m \u001b[0;34m(\u001b[0m\u001b[0mA\u001b[0m\u001b[0;34m,\u001b[0m \u001b[0mb\u001b[0m\u001b[0;34m)\u001b[0m\u001b[0;34m,\u001b[0m\u001b[0;34m\u001b[0m\n",
       "\u001b[0;34m\u001b[0m            \u001b[0mcompare\u001b[0m\u001b[0;34m=\u001b[0m\u001b[0;32mlambda\u001b[0m \u001b[0mi\u001b[0m\u001b[0;34m:\u001b[0m \u001b[0mstr\u001b[0m\u001b[0;34m(\u001b[0m\u001b[0mi\u001b[0m\u001b[0;34m)\u001b[0m\u001b[0;34m.\u001b[0m\u001b[0mrstrip\u001b[0m\u001b[0;34m(\u001b[0m\u001b[0;34m'1234567890'\u001b[0m\u001b[0;34m)\u001b[0m\u001b[0;34m)\u001b[0m\u001b[0;34m.\u001b[0m\u001b[0mname\u001b[0m\u001b[0;34m\u001b[0m\n",
       "\u001b[0;34m\u001b[0m        \u001b[0mgen\u001b[0m  \u001b[0;34m=\u001b[0m \u001b[0mnumbered_symbols\u001b[0m\u001b[0;34m(\u001b[0m\u001b[0mname\u001b[0m\u001b[0;34m)\u001b[0m\u001b[0;34m\u001b[0m\n",
       "\u001b[0;34m\u001b[0m    \u001b[0;32melse\u001b[0m\u001b[0;34m:\u001b[0m\u001b[0;34m\u001b[0m\n",
       "\u001b[0;34m\u001b[0m        \u001b[0mgen\u001b[0m \u001b[0;34m=\u001b[0m \u001b[0;32mNone\u001b[0m\u001b[0;34m\u001b[0m\n",
       "\u001b[0;34m\u001b[0m\u001b[0;34m\u001b[0m\n",
       "\u001b[0;34m\u001b[0m    \u001b[0;31m# This is just a wrapper for solve_lin_sys\u001b[0m\u001b[0;34m\u001b[0m\n",
       "\u001b[0;34m\u001b[0m    \u001b[0meqs\u001b[0m \u001b[0;34m=\u001b[0m \u001b[0;34m[\u001b[0m\u001b[0;34m]\u001b[0m\u001b[0;34m\u001b[0m\n",
       "\u001b[0;34m\u001b[0m    \u001b[0mrows\u001b[0m \u001b[0;34m=\u001b[0m \u001b[0mA\u001b[0m\u001b[0;34m.\u001b[0m\u001b[0mtolist\u001b[0m\u001b[0;34m(\u001b[0m\u001b[0;34m)\u001b[0m\u001b[0;34m\u001b[0m\n",
       "\u001b[0;34m\u001b[0m    \u001b[0;32mfor\u001b[0m \u001b[0mrowi\u001b[0m\u001b[0;34m,\u001b[0m \u001b[0mbi\u001b[0m \u001b[0;32min\u001b[0m \u001b[0mzip\u001b[0m\u001b[0;34m(\u001b[0m\u001b[0mrows\u001b[0m\u001b[0;34m,\u001b[0m \u001b[0mb\u001b[0m\u001b[0;34m)\u001b[0m\u001b[0;34m:\u001b[0m\u001b[0;34m\u001b[0m\n",
       "\u001b[0;34m\u001b[0m        \u001b[0mterms\u001b[0m \u001b[0;34m=\u001b[0m \u001b[0;34m[\u001b[0m\u001b[0melem\u001b[0m \u001b[0;34m*\u001b[0m \u001b[0msym\u001b[0m \u001b[0;32mfor\u001b[0m \u001b[0melem\u001b[0m\u001b[0;34m,\u001b[0m \u001b[0msym\u001b[0m \u001b[0;32min\u001b[0m \u001b[0mzip\u001b[0m\u001b[0;34m(\u001b[0m\u001b[0mrowi\u001b[0m\u001b[0;34m,\u001b[0m \u001b[0msymbols\u001b[0m\u001b[0;34m)\u001b[0m \u001b[0;32mif\u001b[0m \u001b[0melem\u001b[0m\u001b[0;34m]\u001b[0m\u001b[0;34m\u001b[0m\n",
       "\u001b[0;34m\u001b[0m        \u001b[0mterms\u001b[0m\u001b[0;34m.\u001b[0m\u001b[0mappend\u001b[0m\u001b[0;34m(\u001b[0m\u001b[0;34m-\u001b[0m\u001b[0mbi\u001b[0m\u001b[0;34m)\u001b[0m\u001b[0;34m\u001b[0m\n",
       "\u001b[0;34m\u001b[0m        \u001b[0meqs\u001b[0m\u001b[0;34m.\u001b[0m\u001b[0mappend\u001b[0m\u001b[0;34m(\u001b[0m\u001b[0mAdd\u001b[0m\u001b[0;34m(\u001b[0m\u001b[0;34m*\u001b[0m\u001b[0mterms\u001b[0m\u001b[0;34m)\u001b[0m\u001b[0;34m)\u001b[0m\u001b[0;34m\u001b[0m\n",
       "\u001b[0;34m\u001b[0m\u001b[0;34m\u001b[0m\n",
       "\u001b[0;34m\u001b[0m    \u001b[0meqs\u001b[0m\u001b[0;34m,\u001b[0m \u001b[0mring\u001b[0m \u001b[0;34m=\u001b[0m \u001b[0msympy_eqs_to_ring\u001b[0m\u001b[0;34m(\u001b[0m\u001b[0meqs\u001b[0m\u001b[0;34m,\u001b[0m \u001b[0msymbols\u001b[0m\u001b[0;34m)\u001b[0m\u001b[0;34m\u001b[0m\n",
       "\u001b[0;34m\u001b[0m    \u001b[0msol\u001b[0m \u001b[0;34m=\u001b[0m \u001b[0msolve_lin_sys\u001b[0m\u001b[0;34m(\u001b[0m\u001b[0meqs\u001b[0m\u001b[0;34m,\u001b[0m \u001b[0mring\u001b[0m\u001b[0;34m,\u001b[0m \u001b[0m_raw\u001b[0m\u001b[0;34m=\u001b[0m\u001b[0;32mFalse\u001b[0m\u001b[0;34m)\u001b[0m\u001b[0;34m\u001b[0m\n",
       "\u001b[0;34m\u001b[0m    \u001b[0;32mif\u001b[0m \u001b[0msol\u001b[0m \u001b[0;32mis\u001b[0m \u001b[0;32mNone\u001b[0m\u001b[0;34m:\u001b[0m\u001b[0;34m\u001b[0m\n",
       "\u001b[0;34m\u001b[0m        \u001b[0;32mreturn\u001b[0m \u001b[0mS\u001b[0m\u001b[0;34m.\u001b[0m\u001b[0mEmptySet\u001b[0m\u001b[0;34m\u001b[0m\n",
       "\u001b[0;34m\u001b[0m    \u001b[0;31m#sol = {sym:val for sym, val in sol.items() if sym != val}\u001b[0m\u001b[0;34m\u001b[0m\n",
       "\u001b[0;34m\u001b[0m    \u001b[0msol\u001b[0m \u001b[0;34m=\u001b[0m \u001b[0mFiniteSet\u001b[0m\u001b[0;34m(\u001b[0m\u001b[0mTuple\u001b[0m\u001b[0;34m(\u001b[0m\u001b[0;34m*\u001b[0m\u001b[0;34m(\u001b[0m\u001b[0msol\u001b[0m\u001b[0;34m.\u001b[0m\u001b[0mget\u001b[0m\u001b[0;34m(\u001b[0m\u001b[0msym\u001b[0m\u001b[0;34m,\u001b[0m \u001b[0msym\u001b[0m\u001b[0;34m)\u001b[0m \u001b[0;32mfor\u001b[0m \u001b[0msym\u001b[0m \u001b[0;32min\u001b[0m \u001b[0msymbols\u001b[0m\u001b[0;34m)\u001b[0m\u001b[0;34m)\u001b[0m\u001b[0;34m)\u001b[0m\u001b[0;34m\u001b[0m\n",
       "\u001b[0;34m\u001b[0m\u001b[0;34m\u001b[0m\n",
       "\u001b[0;34m\u001b[0m    \u001b[0;32mif\u001b[0m \u001b[0mgen\u001b[0m \u001b[0;32mis\u001b[0m \u001b[0;32mnot\u001b[0m \u001b[0;32mNone\u001b[0m\u001b[0;34m:\u001b[0m\u001b[0;34m\u001b[0m\n",
       "\u001b[0;34m\u001b[0m        \u001b[0msolsym\u001b[0m \u001b[0;34m=\u001b[0m \u001b[0msol\u001b[0m\u001b[0;34m.\u001b[0m\u001b[0mfree_symbols\u001b[0m\u001b[0;34m\u001b[0m\n",
       "\u001b[0;34m\u001b[0m        \u001b[0mrep\u001b[0m \u001b[0;34m=\u001b[0m \u001b[0;34m{\u001b[0m\u001b[0msym\u001b[0m\u001b[0;34m:\u001b[0m \u001b[0mnext\u001b[0m\u001b[0;34m(\u001b[0m\u001b[0mgen\u001b[0m\u001b[0;34m)\u001b[0m \u001b[0;32mfor\u001b[0m \u001b[0msym\u001b[0m \u001b[0;32min\u001b[0m \u001b[0msymbols\u001b[0m \u001b[0;32mif\u001b[0m \u001b[0msym\u001b[0m \u001b[0;32min\u001b[0m \u001b[0msolsym\u001b[0m\u001b[0;34m}\u001b[0m\u001b[0;34m\u001b[0m\n",
       "\u001b[0;34m\u001b[0m        \u001b[0msol\u001b[0m \u001b[0;34m=\u001b[0m \u001b[0msol\u001b[0m\u001b[0;34m.\u001b[0m\u001b[0msubs\u001b[0m\u001b[0;34m(\u001b[0m\u001b[0mrep\u001b[0m\u001b[0;34m)\u001b[0m\u001b[0;34m\u001b[0m\n",
       "\u001b[0;34m\u001b[0m\u001b[0;34m\u001b[0m\n",
       "\u001b[0;34m\u001b[0m    \u001b[0;32mreturn\u001b[0m \u001b[0msol\u001b[0m\u001b[0;34m\u001b[0m\u001b[0;34m\u001b[0m\u001b[0m\n",
       "\u001b[0;31mFile:\u001b[0m      /opt/anaconda3/envs/chemchem/lib/python3.9/site-packages/sympy/solvers/solveset.py\n",
       "\u001b[0;31mType:\u001b[0m      function\n"
      ]
     },
     "metadata": {},
     "output_type": "display_data"
    }
   ],
   "source": [
    "smp.linsolve??"
   ]
  },
  {
   "cell_type": "code",
   "execution_count": null,
   "id": "59732d36-ba95-4dd3-bf43-439ffbb67587",
   "metadata": {},
   "outputs": [],
   "source": []
  }
 ],
 "metadata": {
  "kernelspec": {
   "display_name": "Python 3 (ipykernel)",
   "language": "python",
   "name": "python3"
  }
 },
 "nbformat": 4,
 "nbformat_minor": 5
}
