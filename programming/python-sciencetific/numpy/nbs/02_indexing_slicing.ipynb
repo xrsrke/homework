{
 "cells": [
  {
   "cell_type": "code",
   "execution_count": 1,
   "id": "0240d636-78a5-49ea-8416-1b13afbcd114",
   "metadata": {},
   "outputs": [],
   "source": [
    "import numpy as np"
   ]
  },
  {
   "cell_type": "code",
   "execution_count": 22,
   "id": "d7418589-7c85-4cce-86ee-e9ad3c50d428",
   "metadata": {},
   "outputs": [],
   "source": [
    "names = np.array([\"Shivon\", \"Josh\", \"Hunter\"])"
   ]
  },
  {
   "cell_type": "code",
   "execution_count": 23,
   "id": "7512cf76-299c-418b-9231-3a4059be80d7",
   "metadata": {},
   "outputs": [
    {
     "data": {
      "text/plain": [
       "array(['Shivon', 'Josh', 'Hunter'], dtype='<U6')"
      ]
     },
     "execution_count": 23,
     "metadata": {},
     "output_type": "execute_result"
    }
   ],
   "source": [
    "names"
   ]
  },
  {
   "cell_type": "code",
   "execution_count": 24,
   "id": "75bf4d7b-fd16-4235-98f4-3084a43a6925",
   "metadata": {},
   "outputs": [],
   "source": [
    "f = lambda x: x[0]"
   ]
  },
  {
   "cell_type": "markdown",
   "id": "9fe0b206-8435-4f38-8697-63bee687238d",
   "metadata": {},
   "source": [
    "Create a function `get_the_first_letter` that apply function `f` to each elements in `names` and return the correspond results"
   ]
  },
  {
   "cell_type": "code",
   "execution_count": 25,
   "id": "c8e7cc14-0e55-4f6b-975a-27fda2fd709d",
   "metadata": {},
   "outputs": [],
   "source": [
    "get_the_first_letter = np.vectorize(f)"
   ]
  },
  {
   "cell_type": "code",
   "execution_count": 26,
   "id": "b781c947-002e-4e2b-b0f1-15caf74d94b6",
   "metadata": {},
   "outputs": [
    {
     "data": {
      "text/plain": [
       "array(['S', 'J', 'H'], dtype='<U1')"
      ]
     },
     "execution_count": 26,
     "metadata": {},
     "output_type": "execute_result"
    }
   ],
   "source": [
    "get_the_first_letter(names)"
   ]
  },
  {
   "cell_type": "code",
   "execution_count": 27,
   "id": "a6842dd5-057a-4438-8f92-bf13b48d45ec",
   "metadata": {},
   "outputs": [],
   "source": [
    "a = np.arange(0, 8)"
   ]
  },
  {
   "cell_type": "code",
   "execution_count": 28,
   "id": "9a744bc8-0943-4c90-8440-0eebd4034b23",
   "metadata": {},
   "outputs": [
    {
     "data": {
      "text/plain": [
       "array([0, 1, 2, 3, 4, 5, 6, 7])"
      ]
     },
     "execution_count": 28,
     "metadata": {},
     "output_type": "execute_result"
    }
   ],
   "source": [
    "a"
   ]
  },
  {
   "cell_type": "code",
   "execution_count": 34,
   "id": "21743dc6-6cae-4587-9b4b-39bee033afd4",
   "metadata": {},
   "outputs": [
    {
     "data": {
      "text/plain": [
       "array([ True, False, False, False,  True, False, False, False])"
      ]
     },
     "execution_count": 34,
     "metadata": {},
     "output_type": "execute_result"
    }
   ],
   "source": [
    "a%4 == 0"
   ]
  },
  {
   "cell_type": "markdown",
   "id": "eadfcf39-ba7a-4375-acb5-d6820e567b08",
   "metadata": {},
   "source": [
    "### Return the range"
   ]
  },
  {
   "cell_type": "code",
   "execution_count": 35,
   "id": "8483688a-ac65-4c7b-a37d-8cd6c477cdde",
   "metadata": {},
   "outputs": [],
   "source": [
    "a = np.arange(0, 8)"
   ]
  },
  {
   "cell_type": "code",
   "execution_count": 43,
   "id": "c6fd68e3-978a-4c8c-aaae-0dc28ee7629c",
   "metadata": {},
   "outputs": [
    {
     "data": {
      "text/plain": [
       "array([0, 1, 2, 3, 4, 5, 6, 7])"
      ]
     },
     "execution_count": 43,
     "metadata": {},
     "output_type": "execute_result"
    }
   ],
   "source": [
    "a"
   ]
  },
  {
   "cell_type": "markdown",
   "id": "c32b5d48-4268-4c27-b7c8-28b141f74f16",
   "metadata": {},
   "source": [
    "Return all the elements of `y` that in the range $[1, 4]$"
   ]
  },
  {
   "cell_type": "code",
   "execution_count": 44,
   "id": "fa2a1111-433d-4be4-9829-bfc8c272cd7f",
   "metadata": {},
   "outputs": [],
   "source": [
    "idxs = (a >=1)*(a <= 4)"
   ]
  },
  {
   "cell_type": "code",
   "execution_count": 45,
   "id": "44340a47-96af-4099-a36c-510b40c7dbe3",
   "metadata": {},
   "outputs": [
    {
     "data": {
      "text/plain": [
       "array([1, 2, 3, 4])"
      ]
     },
     "execution_count": 45,
     "metadata": {},
     "output_type": "execute_result"
    }
   ],
   "source": [
    "a[idxs]"
   ]
  },
  {
   "cell_type": "code",
   "execution_count": null,
   "id": "6c2d18c7-6404-4440-a065-594ca5aaae07",
   "metadata": {},
   "outputs": [],
   "source": []
  }
 ],
 "metadata": {
  "kernelspec": {
   "display_name": "Python 3 (ipykernel)",
   "language": "python",
   "name": "python3"
  },
  "language_info": {
   "codemirror_mode": {
    "name": "ipython",
    "version": 3
   },
   "file_extension": ".py",
   "mimetype": "text/x-python",
   "name": "python",
   "nbconvert_exporter": "python",
   "pygments_lexer": "ipython3",
   "version": "3.9.13"
  }
 },
 "nbformat": 4,
 "nbformat_minor": 5
}
