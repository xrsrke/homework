{
 "cells": [
  {
   "cell_type": "markdown",
   "id": "e6432404-f281-48cc-8bbf-6766d42ed2e6",
   "metadata": {},
   "source": [
    "# 3. Calculus"
   ]
  },
  {
   "cell_type": "code",
   "execution_count": null,
   "id": "a7718aae-cfe8-4206-8fea-d74fa39a27bc",
   "metadata": {},
   "outputs": [],
   "source": [
    "import numpy as np\n",
    "from matplotlib import pyplot as plt"
   ]
  },
  {
   "cell_type": "markdown",
   "id": "61827396-69e7-4e54-9067-6c2179303a01",
   "metadata": {},
   "source": [
    "### Derivative"
   ]
  },
  {
   "cell_type": "code",
   "execution_count": null,
   "id": "26edb598-3f6c-46d3-9feb-cc8ce82bc6a2",
   "metadata": {},
   "outputs": [],
   "source": [
    "x = np.linspace(1, 3, 3)"
   ]
  },
  {
   "cell_type": "code",
   "execution_count": null,
   "id": "f5bfe2ce-78c2-45e0-a9ae-43872b7a1945",
   "metadata": {},
   "outputs": [
    {
     "data": {
      "text/plain": [
       "array([1., 2., 3.])"
      ]
     },
     "execution_count": null,
     "metadata": {},
     "output_type": "execute_result"
    }
   ],
   "source": [
    "x"
   ]
  },
  {
   "cell_type": "code",
   "execution_count": null,
   "id": "d1be8a87-ab09-4076-a89d-7e36e14876bb",
   "metadata": {},
   "outputs": [],
   "source": [
    "y = 1/x**2 * np.sin(x)"
   ]
  },
  {
   "cell_type": "markdown",
   "id": "9e254cb6-a88a-44ed-8152-30fe5c4f7707",
   "metadata": {},
   "source": [
    "Compute the derivative of `y` at `x`"
   ]
  },
  {
   "cell_type": "code",
   "execution_count": null,
   "id": "888b67f1-1360-426f-ab75-b919fd287437",
   "metadata": {},
   "outputs": [],
   "source": [
    "dydx = np.gradient(y, x)"
   ]
  },
  {
   "cell_type": "code",
   "execution_count": null,
   "id": "8a44cbf4-fe68-4bd4-8ac8-c56109432991",
   "metadata": {},
   "outputs": [
    {
     "data": {
      "text/plain": [
       "array([-0.61414663, -0.41289549, -0.21164436])"
      ]
     },
     "execution_count": null,
     "metadata": {},
     "output_type": "execute_result"
    }
   ],
   "source": [
    "dydx"
   ]
  },
  {
   "cell_type": "markdown",
   "id": "b8b24bd8-719e-438c-9af5-42d8ce30ec3c",
   "metadata": {},
   "source": [
    "### Example"
   ]
  },
  {
   "cell_type": "code",
   "execution_count": null,
   "id": "786a3caf-b48e-4ab7-be8e-df8aca9f8b68",
   "metadata": {},
   "outputs": [],
   "source": [
    "N = 10000"
   ]
  },
  {
   "cell_type": "code",
   "execution_count": null,
   "id": "47802a79-2f48-416c-b2f7-2052ab03c388",
   "metadata": {},
   "outputs": [],
   "source": [
    "x = np.linspace(0, 10, N + 1)"
   ]
  },
  {
   "cell_type": "code",
   "execution_count": null,
   "id": "f736a696-6b19-47a5-af17-53222fd86677",
   "metadata": {},
   "outputs": [],
   "source": [
    "def y(x):\n",
    "    return np.exp(-x/10) * np.sin(x)"
   ]
  },
  {
   "cell_type": "markdown",
   "id": "b625a5a7-a446-45e9-80be-b878ab24bb65",
   "metadata": {},
   "source": [
    "1. Plot the function $y$ vs $x$ in the range [0, 10]"
   ]
  },
  {
   "cell_type": "code",
   "execution_count": null,
   "id": "8455e49a-d3d1-4d9f-9a42-d4b02239bfad",
   "metadata": {},
   "outputs": [
    {
     "data": {
      "text/plain": [
       "[<matplotlib.lines.Line2D>]"
      ]
     },
     "execution_count": null,
     "metadata": {},
     "output_type": "execute_result"
    },
    {
     "data": {
      "image/png": "[encoded data removed]",
      "text/plain": [
       "<Figure size 640x480 with 1 Axes>"
      ]
     },
     "metadata": {},
     "output_type": "display_data"
    }
   ],
   "source": [
    "plt.plot(x, y(x))"
   ]
  },
  {
   "cell_type": "markdown",
   "id": "6dcef772-04c1-40df-b14e-8a9181cccb98",
   "metadata": {},
   "source": [
    "2. Compute the mean and the standard deviation of $y$ for $x$ values in [4, 7]"
   ]
  },
  {
   "cell_type": "code",
   "execution_count": null,
   "id": "70ff1a2e-e6ac-4ab1-8401-73ea750b623f",
   "metadata": {},
   "outputs": [],
   "source": [
    "x_range = x>4"
   ]
  },
  {
   "cell_type": "code",
   "execution_count": null,
   "id": "3b3d3dae-63eb-490a-9fa5-3bf9164f271d",
   "metadata": {},
   "outputs": [],
   "source": [
    "x_range = x_range > 7"
   ]
  },
  {
   "cell_type": "code",
   "execution_count": null,
   "id": "85afeef4-1aff-4960-a951-4fff98f65dfa",
   "metadata": {},
   "outputs": [
    {
     "data": {
      "text/plain": [
       "array([False, False, False, ..., False, False, False])"
      ]
     },
     "execution_count": null,
     "metadata": {},
     "output_type": "execute_result"
    }
   ],
   "source": [
    "x_range"
   ]
  },
  {
   "cell_type": "code",
   "execution_count": null,
   "id": "013ec332-a6a9-443a-94cb-52797f7f870a",
   "metadata": {},
   "outputs": [],
   "source": [
    "x_range = x[x_range]"
   ]
  },
  {
   "cell_type": "code",
   "execution_count": null,
   "id": "955423e9-30df-4cda-b706-924107cfb88b",
   "metadata": {},
   "outputs": [
    {
     "data": {
      "text/plain": [
       "array([], dtype=float64)"
      ]
     },
     "execution_count": null,
     "metadata": {},
     "output_type": "execute_result"
    }
   ],
   "source": [
    "y(x_range)"
   ]
  },
  {
   "cell_type": "code",
   "execution_count": null,
   "id": "8d60ee20-d808-43ad-a88b-87e40cd01371",
   "metadata": {},
   "outputs": [],
   "source": []
  }
 ],
 "metadata": {
  "kernelspec": {
   "display_name": "Python 3 (ipykernel)",
   "language": "python",
   "name": "python3"
  }
 },
 "nbformat": 4,
 "nbformat_minor": 5
}
