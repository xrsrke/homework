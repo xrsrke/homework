{
 "cells": [
  {
   "cell_type": "markdown",
   "id": "b9822ab9-362e-41f9-9b68-b9ea41c41407",
   "metadata": {},
   "source": [
    "### Ananomy of a plot"
   ]
  },
  {
   "cell_type": "code",
   "execution_count": null,
   "id": "6dc53acf-2ccc-435e-b415-f7832d2e2ba9",
   "metadata": {},
   "outputs": [],
   "source": [
    "import numpy as np\n",
    "import matplotlib.pyplot as plt"
   ]
  },
  {
   "cell_type": "code",
   "execution_count": null,
   "id": "a7ea5dd9-98b1-4049-9bc5-3171b9cca480",
   "metadata": {},
   "outputs": [
    {
     "data": {
      "text/plain": [
       "<Figure size 640x480 with 0 Axes>"
      ]
     },
     "metadata": {},
     "output_type": "display_data"
    }
   ],
   "source": [
    "fig = plt.figure(facecolor=(1, 0, 0, .1))"
   ]
  },
  {
   "cell_type": "code",
   "execution_count": null,
   "id": "87bc22a3-e584-4372-9627-61ead1d98392",
   "metadata": {},
   "outputs": [],
   "source": [
    "plt.show()"
   ]
  },
  {
   "cell_type": "code",
   "execution_count": null,
   "id": "5074a212-db03-4111-aff6-933a5960e65e",
   "metadata": {},
   "outputs": [],
   "source": []
  }
 ],
 "metadata": {
  "kernelspec": {
   "display_name": "Python 3 (ipykernel)",
   "language": "python",
   "name": "python3"
  }
 },
 "nbformat": 4,
 "nbformat_minor": 5
}
