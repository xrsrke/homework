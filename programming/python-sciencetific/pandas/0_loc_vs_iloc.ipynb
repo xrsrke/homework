{
 "cells": [
  {
   "cell_type": "code",
   "execution_count": 18,
   "id": "901703d4-d4f3-4367-8e97-ac1b69f8c02f",
   "metadata": {},
   "outputs": [],
   "source": [
    "import pandas as pd"
   ]
  },
  {
   "cell_type": "code",
   "execution_count": 19,
   "id": "b663c6f8-41a1-4501-938e-8468cb5c6a7e",
   "metadata": {},
   "outputs": [],
   "source": [
    "data = [[50, True], [40, False], [30, False]]\n",
    "label_rows = [\"Sally\", \"Mary\", \"John\"]\n",
    "label_cols = [\"age\", \"qualified\"]"
   ]
  },
  {
   "cell_type": "code",
   "execution_count": 27,
   "id": "62b6f860-c904-4644-a057-96f934c4375e",
   "metadata": {},
   "outputs": [],
   "source": [
    "df = pd.DataFrame(data, label_rows, label_cols)"
   ]
  },
  {
   "cell_type": "code",
   "execution_count": 28,
   "id": "1cbe0b5e-e08b-45b8-963e-6b8fb49783da",
   "metadata": {},
   "outputs": [
    {
     "data": {
      "text/html": [
       "<div>\n",
       "<style scoped>\n",
       "    .dataframe tbody tr th:only-of-type {\n",
       "        vertical-align: middle;\n",
       "    }\n",
       "\n",
       "    .dataframe tbody tr th {\n",
       "        vertical-align: top;\n",
       "    }\n",
       "\n",
       "    .dataframe thead th {\n",
       "        text-align: right;\n",
       "    }\n",
       "</style>\n",
       "<table border=\"1\" class=\"dataframe\">\n",
       "  <thead>\n",
       "    <tr style=\"text-align: right;\">\n",
       "      <th></th>\n",
       "      <th>age</th>\n",
       "      <th>qualified</th>\n",
       "    </tr>\n",
       "  </thead>\n",
       "  <tbody>\n",
       "    <tr>\n",
       "      <th>Sally</th>\n",
       "      <td>50</td>\n",
       "      <td>True</td>\n",
       "    </tr>\n",
       "    <tr>\n",
       "      <th>Mary</th>\n",
       "      <td>40</td>\n",
       "      <td>False</td>\n",
       "    </tr>\n",
       "    <tr>\n",
       "      <th>John</th>\n",
       "      <td>30</td>\n",
       "      <td>False</td>\n",
       "    </tr>\n",
       "  </tbody>\n",
       "</table>\n",
       "</div>"
      ],
      "text/plain": [
       "       age  qualified\n",
       "Sally   50       True\n",
       "Mary    40      False\n",
       "John    30      False"
      ]
     },
     "execution_count": 28,
     "metadata": {},
     "output_type": "execute_result"
    }
   ],
   "source": [
    "df"
   ]
  },
  {
   "cell_type": "markdown",
   "id": "9436d81b-a2d0-40c0-986e-1994d9c39e08",
   "metadata": {},
   "source": [
    "Output and Explain"
   ]
  },
  {
   "cell_type": "code",
   "execution_count": 29,
   "id": "69131ad9-a57e-49fa-99c5-5b962fc2e46e",
   "metadata": {},
   "outputs": [
    {
     "data": {
      "text/plain": [
       "Sally    50\n",
       "Mary     40\n",
       "John     30\n",
       "Name: age, dtype: int64"
      ]
     },
     "execution_count": 29,
     "metadata": {},
     "output_type": "execute_result"
    }
   ],
   "source": [
    "df.loc[:, \"age\"]"
   ]
  },
  {
   "cell_type": "markdown",
   "id": "b519f8b2-eaf1-45c7-8d7a-9bf20a58f1ca",
   "metadata": {},
   "source": [
    "**Explain**\n",
    "\n",
    "`:` means select all rows\n",
    "\n",
    "`age` means select only column `age`\n",
    "\n",
    "So by comebines them. It returns all the rows that have column `age`"
   ]
  },
  {
   "cell_type": "code",
   "execution_count": null,
   "id": "65d0dd1b-9ffb-497a-b00f-b7d01d4e619e",
   "metadata": {},
   "outputs": [],
   "source": []
  }
 ],
 "metadata": {
  "kernelspec": {
   "display_name": "Python 3 (ipykernel)",
   "language": "python",
   "name": "python3"
  },
  "language_info": {
   "codemirror_mode": {
    "name": "ipython",
    "version": 3
   },
   "file_extension": ".py",
   "mimetype": "text/x-python",
   "name": "python",
   "nbconvert_exporter": "python",
   "pygments_lexer": "ipython3",
   "version": "3.9.12"
  }
 },
 "nbformat": 4,
 "nbformat_minor": 5
}
