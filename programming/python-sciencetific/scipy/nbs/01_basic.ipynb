{
 "cells": [
  {
   "cell_type": "markdown",
   "id": "93353451-0176-4f7b-a4af-efc496042844",
   "metadata": {},
   "source": [
    "Source: https://youtu.be/jmX4FOUEfgU"
   ]
  },
  {
   "cell_type": "code",
   "execution_count": 1,
   "id": "b138e501-8929-48f2-add7-162cf218a16f",
   "metadata": {},
   "outputs": [],
   "source": [
    "#| default_exp basic"
   ]
  },
  {
   "cell_type": "code",
   "execution_count": 2,
   "id": "a1f1e4b8-bc4e-42cc-bc36-7674a7b112d2",
   "metadata": {},
   "outputs": [],
   "source": [
    "#| hide\n",
    "from nbdev.showdoc import *"
   ]
  },
  {
   "cell_type": "code",
   "execution_count": 3,
   "id": "65843324-5b70-4277-94c1-72683d6258b5",
   "metadata": {},
   "outputs": [],
   "source": [
    "#| hide\n",
    "import nbdev; nbdev.nbdev_export()"
   ]
  },
  {
   "cell_type": "code",
   "execution_count": 4,
   "id": "0c4253ab-4060-4f5a-aa41-1411e05ed28f",
   "metadata": {},
   "outputs": [],
   "source": [
    "#| export\n",
    "import numpy as np\n",
    "from matplotlib import pyplot as plt"
   ]
  },
  {
   "cell_type": "markdown",
   "id": "a8ea41b0-c590-4486-85ff-eca2b8f2138a",
   "metadata": {},
   "source": [
    "# Basic"
   ]
  },
  {
   "cell_type": "markdown",
   "id": "af35a062-8181-4b8f-ba07-cff7d949ee45",
   "metadata": {},
   "source": [
    "### Optimization"
   ]
  },
  {
   "cell_type": "markdown",
   "id": "5ded5e47-4027-4298-9a1b-c39b1e0ce1b5",
   "metadata": {
    "jp-MarkdownHeadingCollapsed": true,
    "tags": []
   },
   "source": [
    "##### Minimize $f(x)=(x-3)^2$"
   ]
  },
  {
   "cell_type": "code",
   "execution_count": 10,
   "id": "5b1293c2-dc65-462c-a749-9059d3c2585d",
   "metadata": {},
   "outputs": [],
   "source": [
    "def f(x):\n",
    "    return (x-3)**2"
   ]
  },
  {
   "cell_type": "code",
   "execution_count": 11,
   "id": "72bd1f8c-03f2-4924-94c6-1a318257bc59",
   "metadata": {},
   "outputs": [],
   "source": [
    "from scipy.optimize import minimize"
   ]
  },
  {
   "cell_type": "code",
   "execution_count": 16,
   "id": "75fc296f-fab8-4ef6-ab2f-7f0295f5e88b",
   "metadata": {},
   "outputs": [],
   "source": [
    "res = minimize(f, 22)"
   ]
  },
  {
   "cell_type": "code",
   "execution_count": 17,
   "id": "f6767de7-db96-425e-b132-8c9ba62f3b67",
   "metadata": {},
   "outputs": [
    {
     "data": {
      "text/plain": [
       "      fun: 9.30665156317108e-16\n",
       " hess_inv: array([[0.50000001]])\n",
       "      jac: array([-4.6112449e-08])\n",
       "  message: 'Optimization terminated successfully.'\n",
       "     nfev: 10\n",
       "      nit: 3\n",
       "     njev: 5\n",
       "   status: 0\n",
       "  success: True\n",
       "        x: array([2.99999997])"
      ]
     },
     "execution_count": 17,
     "metadata": {},
     "output_type": "execute_result"
    }
   ],
   "source": [
    "res"
   ]
  },
  {
   "cell_type": "markdown",
   "id": "479fc716-7741-4422-8567-01c482e5bc01",
   "metadata": {},
   "source": [
    "So `f(x)` at smallest if `x = 2.99999999`"
   ]
  },
  {
   "cell_type": "markdown",
   "id": "51f04965-8c1d-4a07-b35f-b9767c2a559c",
   "metadata": {
    "tags": []
   },
   "source": [
    "##### Minimize $f(x, y)=(x-1)^2+(y-2.5)^2$"
   ]
  },
  {
   "cell_type": "markdown",
   "id": "89c55614-dd5a-4785-997d-eadfe7951cc7",
   "metadata": {},
   "source": [
    "that subjective to"
   ]
  },
  {
   "cell_type": "markdown",
   "id": "0bf5961a-1015-4806-a865-2175ca523009",
   "metadata": {},
   "source": [
    "$$\\begin{gathered}\n",
    "x-2 y+2 \\geq 0 \\\\\n",
    "-x-2 y+6 \\geq 0 \\\\\n",
    "-x+2 y+2 \\geq 0 \\\\\n",
    "x \\geq 0 \\\\\n",
    "y \\geq 0\n",
    "\\end{gathered}$$"
   ]
  },
  {
   "cell_type": "markdown",
   "id": "39db5545-63e8-43e6-83ab-079f4717b30f",
   "metadata": {},
   "source": [
    "##### Flashcard"
   ]
  },
  {
   "cell_type": "markdown",
   "id": "e1a5c499-483e-4de2-b4b0-4197bc4405ca",
   "metadata": {},
   "source": [
    "Turn these into constains that SciPy can read\n",
    "\n",
    "$\\begin{gathered}\n",
    "x-2 y+2 \\geq 0 \\\\\n",
    "-x-2 y+6 \\geq 0 \\\\\n",
    "\\end{gathered}$"
   ]
  },
  {
   "cell_type": "code",
   "execution_count": 62,
   "id": "31363fb2-017a-46ac-8f37-3daa31d9ba8e",
   "metadata": {},
   "outputs": [],
   "source": [
    "cons = (\n",
    "    {'type': 'ineq', 'fun': lambda v: v[0] - 2*v[1] + 2},\n",
    "    {'type': 'ineq', 'fun': lambda v: -v[0] - 2*v[1] + 6},\n",
    ")"
   ]
  },
  {
   "cell_type": "markdown",
   "id": "a3d64790-aff8-4705-ac49-fac272d4fc88",
   "metadata": {},
   "source": [
    "Turn these into bounds that SciPy can read and explain\n",
    "\n",
    "$\\begin{gathered}\n",
    "x \\geq 0 \\\\\n",
    "y \\geq 0\n",
    "\\end{gathered}$"
   ]
  },
  {
   "cell_type": "code",
   "execution_count": 61,
   "id": "43fd4cbf-44e3-48df-98af-a97051743850",
   "metadata": {},
   "outputs": [],
   "source": [
    "bnds = (\n",
    "    (0, None),\n",
    "    (0, None)\n",
    ")"
   ]
  },
  {
   "cell_type": "markdown",
   "id": "02e2179f-51cc-4d62-8348-b7d5ae0bd7a3",
   "metadata": {},
   "source": [
    "**Explain**"
   ]
  },
  {
   "cell_type": "markdown",
   "id": "4c40aa02-a27e-4dc8-b9d3-f42987ab7fa9",
   "metadata": {},
   "source": [
    "Each tuple represents the bound of each variable.\n",
    "\n",
    "- For the first variable `x`, the bound is from `0` to infinity => `(0, None)`\n",
    "- For the second variable `y`, the bound is from `0` to infinity => `(0, None)`"
   ]
  },
  {
   "cell_type": "code",
   "execution_count": 57,
   "id": "33e13832-dd05-4890-b64d-79974b1d654a",
   "metadata": {},
   "outputs": [],
   "source": [
    "def f(v):\n",
    "    return (v[0] -1)**2 + (v[1] - 2.5)**2"
   ]
  },
  {
   "cell_type": "code",
   "execution_count": null,
   "id": "17ee8c10-058c-4a3d-97c0-84fe56c87633",
   "metadata": {},
   "outputs": [],
   "source": [
    "f(v=[1, 2])"
   ]
  },
  {
   "cell_type": "markdown",
   "id": "a59c0769-3baf-4baf-9c87-28161dc2988e",
   "metadata": {},
   "source": [
    "##### Code"
   ]
  },
  {
   "cell_type": "code",
   "execution_count": 45,
   "id": "139544d7-a74c-4443-9df0-6003bd489b47",
   "metadata": {},
   "outputs": [],
   "source": [
    "bnds = (\n",
    "    (0, None),\n",
    "    (0, None)\n",
    ")"
   ]
  },
  {
   "cell_type": "code",
   "execution_count": 44,
   "id": "d59dd74d-fd83-41dd-a53c-dfa15e849c4c",
   "metadata": {},
   "outputs": [],
   "source": [
    "cons = (\n",
    "    {'type': 'ineq', 'fun': lambda v: v[0] - 2*v[1] + 2},\n",
    "    {'type': 'ineq', 'fun': lambda v: -v[0] - 2*v[1] + 6},\n",
    "    {'type': 'ineq', 'fun': lambda v: -v[0] + 2*v[1] + 2}\n",
    ")"
   ]
  },
  {
   "cell_type": "markdown",
   "id": "e0a9d56d-9271-4a6a-9f13-30cc427688e9",
   "metadata": {},
   "source": [
    "Minimize $f(x, y)=(x-1)^2+(y-2.5)^2$"
   ]
  },
  {
   "cell_type": "code",
   "execution_count": 92,
   "id": "8285b56f-a6c9-4a7b-a709-19668e2a0b76",
   "metadata": {},
   "outputs": [],
   "source": [
    "def f(v):\n",
    "    return (v[0] -1)**2 + (v[1] - 2.5)**2"
   ]
  },
  {
   "cell_type": "markdown",
   "id": "21632072-a3d0-47a6-865e-d51927a9d317",
   "metadata": {},
   "source": [
    "With boundaries `bnds` and constains `cons`"
   ]
  },
  {
   "cell_type": "code",
   "execution_count": 93,
   "id": "283a214f-e436-47ef-9d09-0ba600b363d2",
   "metadata": {},
   "outputs": [
    {
     "data": {
      "text/plain": [
       "(({'type': 'ineq', 'fun': <function __main__.<lambda>(v)>},\n",
       "  {'type': 'ineq', 'fun': <function __main__.<lambda>(v)>}),\n",
       " ((0, None), (0, None)))"
      ]
     },
     "execution_count": 93,
     "metadata": {},
     "output_type": "execute_result"
    }
   ],
   "source": [
    "cons, bnds"
   ]
  },
  {
   "cell_type": "code",
   "execution_count": 94,
   "id": "0943c8bc-40d8-4218-9e90-17bc50dbf140",
   "metadata": {},
   "outputs": [],
   "source": [
    "from scipy.optimize import minimize"
   ]
  },
  {
   "cell_type": "code",
   "execution_count": 95,
   "id": "9befc2eb-709c-44de-ad53-af12e00b7d58",
   "metadata": {},
   "outputs": [],
   "source": [
    "res = minimize(f, (1, 2), bounds=bnds, constraints=cons)"
   ]
  },
  {
   "cell_type": "code",
   "execution_count": 96,
   "id": "71525450-9ac7-4d9a-b5f6-3b67d8912ff5",
   "metadata": {},
   "outputs": [
    {
     "data": {
      "text/plain": [
       "     fun: 0.7999999999999987\n",
       "     jac: array([ 0.8       , -1.59999999])\n",
       " message: 'Optimization terminated successfully'\n",
       "    nfev: 16\n",
       "     nit: 5\n",
       "    njev: 5\n",
       "  status: 0\n",
       " success: True\n",
       "       x: array([1.39999999, 1.7       ])"
      ]
     },
     "execution_count": 96,
     "metadata": {},
     "output_type": "execute_result"
    }
   ],
   "source": [
    "res"
   ]
  },
  {
   "cell_type": "markdown",
   "id": "00e2d349-c152-4d75-b04f-093e7c4ea140",
   "metadata": {
    "jp-MarkdownHeadingCollapsed": true,
    "tags": []
   },
   "source": [
    "### Interpolation (not complete)"
   ]
  },
  {
   "cell_type": "markdown",
   "id": "fe26c00b-9a8d-4568-92fa-1a982a00e769",
   "metadata": {},
   "source": [
    "Suppose you have the following data"
   ]
  },
  {
   "cell_type": "code",
   "execution_count": 5,
   "id": "4f157e4d-26ac-40db-9bd5-18974205f33b",
   "metadata": {},
   "outputs": [],
   "source": [
    "x = np.linspace(0, 10, 20)"
   ]
  },
  {
   "cell_type": "code",
   "execution_count": 6,
   "id": "1674351c-66ef-4cf3-b5cb-de7fb77aee35",
   "metadata": {},
   "outputs": [],
   "source": [
    "y = x**2 * np.sin(x)"
   ]
  },
  {
   "cell_type": "code",
   "execution_count": 17,
   "id": "3c8e6aa5-595d-4d89-bed7-51d58e137bab",
   "metadata": {},
   "outputs": [],
   "source": [
    "plt.rcParams[\"figure.figsize\"] = (3, 2)"
   ]
  },
  {
   "cell_type": "code",
   "execution_count": 18,
   "id": "a6797c28-73a2-47b3-bbd6-d7432f37d086",
   "metadata": {},
   "outputs": [
    {
     "data": {
      "text/plain": [
       "<matplotlib.collections.PathCollection at 0x7ff751e9b220>"
      ]
     },
     "execution_count": 18,
     "metadata": {},
     "output_type": "execute_result"
    },
    {
     "data": {
      "image/png": "[encoded data removed]",
      "text/plain": [
       "<Figure size 300x200 with 1 Axes>"
      ]
     },
     "metadata": {},
     "output_type": "display_data"
    }
   ],
   "source": [
    "plt.scatter(x, y)"
   ]
  },
  {
   "cell_type": "code",
   "execution_count": 19,
   "id": "7c0ba7a4-e618-4abe-b282-138e7888646d",
   "metadata": {},
   "outputs": [],
   "source": [
    "from scipy.interpolate import interp1d"
   ]
  },
  {
   "cell_type": "code",
   "execution_count": 24,
   "id": "f64ddab7-5c3d-417f-b665-0f4b3fa63ed3",
   "metadata": {},
   "outputs": [],
   "source": [
    "f = interp1d(x, y, kind='linear')"
   ]
  },
  {
   "cell_type": "markdown",
   "id": "4cb426f0-f134-49c4-bb6e-d63eb396f8e2",
   "metadata": {},
   "source": [
    "Using interplote to draw a smooth line from data points `x` and `y`"
   ]
  },
  {
   "cell_type": "code",
   "execution_count": 25,
   "id": "90528628-d42c-44a5-b3e3-8e836bd72875",
   "metadata": {},
   "outputs": [],
   "source": [
    "x_dense = np.linspace(0, 10, 100)"
   ]
  },
  {
   "cell_type": "code",
   "execution_count": 28,
   "id": "74d4540f-9d65-413b-96be-0683a39a3dfc",
   "metadata": {},
   "outputs": [],
   "source": [
    "y_dense = f(x_dense)"
   ]
  },
  {
   "cell_type": "code",
   "execution_count": 29,
   "id": "5794febd-9d16-4b10-9bd7-96c29d48a108",
   "metadata": {},
   "outputs": [
    {
     "data": {
      "text/plain": [
       "<matplotlib.collections.PathCollection at 0x7ff720083cd0>"
      ]
     },
     "execution_count": 29,
     "metadata": {},
     "output_type": "execute_result"
    },
    {
     "data": {
      "image/png": "[encoded data removed]",
      "text/plain": [
       "<Figure size 300x200 with 1 Axes>"
      ]
     },
     "metadata": {},
     "output_type": "display_data"
    }
   ],
   "source": [
    "plt.scatter(x_dense, y_dense)"
   ]
  },
  {
   "cell_type": "markdown",
   "id": "859c2dc3-1bf8-4e88-b591-5f850d5e1a96",
   "metadata": {},
   "source": [
    "### Curve Fitting (not complete)"
   ]
  },
  {
   "cell_type": "markdown",
   "id": "4202a300-f5a8-45aa-a2c1-aa3aee7fcc5c",
   "metadata": {},
   "source": [
    "### Special Functions (not complete)"
   ]
  },
  {
   "cell_type": "markdown",
   "id": "6a5b7cb8-dd84-48ff-96d9-ea0856c35cf4",
   "metadata": {},
   "source": [
    "### Differentiations"
   ]
  },
  {
   "cell_type": "markdown",
   "id": "3da3b357-a578-4e56-9ba1-3252c4f60db8",
   "metadata": {},
   "source": [
    "##### Flashcard"
   ]
  },
  {
   "cell_type": "markdown",
   "id": "854c6a93-8847-4489-b5b4-d46b69d6e4c5",
   "metadata": {},
   "source": [
    "Turn this function into code\n",
    "\n",
    "$f(x) = x^2 \\sin (2 x) \\, e^{-x}$"
   ]
  },
  {
   "cell_type": "code",
   "execution_count": 34,
   "id": "a57af7a5-1fc3-40c9-8072-534e601de243",
   "metadata": {},
   "outputs": [],
   "source": [
    "def f(x):\n",
    "    return x**2 * np.sin(2*x) * np.exp(-x)"
   ]
  },
  {
   "cell_type": "code",
   "execution_count": 35,
   "id": "24111bbd-f085-4deb-9956-4213f59fd8d6",
   "metadata": {},
   "outputs": [
    {
     "data": {
      "text/plain": [
       "-0.4096883202266949"
      ]
     },
     "execution_count": 35,
     "metadata": {},
     "output_type": "execute_result"
    }
   ],
   "source": [
    "f(2)"
   ]
  },
  {
   "cell_type": "markdown",
   "id": "7743ea25-d6c1-4b1c-9c05-85d8614449a7",
   "metadata": {},
   "source": [
    "##### Code"
   ]
  },
  {
   "cell_type": "code",
   "execution_count": 30,
   "id": "764d9295-909c-47ec-8700-786eefd54926",
   "metadata": {},
   "outputs": [],
   "source": [
    "from scipy.misc import derivative"
   ]
  },
  {
   "cell_type": "code",
   "execution_count": 87,
   "id": "eaec8b60-2f5a-4e64-9397-6dc23bd05898",
   "metadata": {},
   "outputs": [],
   "source": [
    "def f(x):\n",
    "    return x**2 * np.sin(2*x) * np.exp(-x)"
   ]
  },
  {
   "cell_type": "code",
   "execution_count": 51,
   "id": "dcb451fb-d3e4-4eae-855a-faf1819c3f22",
   "metadata": {},
   "outputs": [],
   "source": [
    "x = np.arange(0, 10)"
   ]
  },
  {
   "cell_type": "code",
   "execution_count": 81,
   "id": "7555e5b5-a798-4fc6-bf76-a011d071f68f",
   "metadata": {},
   "outputs": [],
   "source": [
    "from scipy.misc import derivative"
   ]
  },
  {
   "cell_type": "code",
   "execution_count": 78,
   "id": "8e6d7dcd-cbd2-47c0-b6be-53d6e32e57f1",
   "metadata": {},
   "outputs": [
    {
     "data": {
      "text/plain": [
       "function"
      ]
     },
     "execution_count": 78,
     "metadata": {},
     "output_type": "execute_result"
    }
   ],
   "source": [
    "type(f)"
   ]
  },
  {
   "cell_type": "code",
   "execution_count": 79,
   "id": "b20c99c4-d274-470a-b654-e8bb5ae63ea2",
   "metadata": {},
   "outputs": [
    {
     "data": {
      "text/plain": [
       "array([0, 1, 2, 3, 4, 5, 6, 7, 8, 9])"
      ]
     },
     "execution_count": 79,
     "metadata": {},
     "output_type": "execute_result"
    }
   ],
   "source": [
    "x"
   ]
  },
  {
   "cell_type": "markdown",
   "id": "19004608-3ac9-4f49-b4ec-198ea2042f2a",
   "metadata": {},
   "source": [
    "Compute the first derivative of function `f` at `x` with small change `1e-6` in x"
   ]
  },
  {
   "cell_type": "code",
   "execution_count": 80,
   "id": "864e7b92-9dd0-4a6c-9cd8-e420a1802b3d",
   "metadata": {},
   "outputs": [
    {
     "data": {
      "text/plain": [
       "array([ 2.00000000e-12,  2.83280979e-02, -7.07688357e-01,  9.02206982e-01,\n",
       "       -2.30243462e-01, -2.27697193e-01,  1.82523499e-01, -1.93966505e-02,\n",
       "       -3.64852691e-02,  1.90400969e-02])"
      ]
     },
     "execution_count": 80,
     "metadata": {},
     "output_type": "execute_result"
    }
   ],
   "source": [
    "derivative(f, x, dx=1e-6)"
   ]
  },
  {
   "cell_type": "code",
   "execution_count": 82,
   "id": "8772cb69-8bba-4ee5-a210-0b3372836cb1",
   "metadata": {},
   "outputs": [],
   "source": [
    "from scipy.misc import derivative"
   ]
  },
  {
   "cell_type": "code",
   "execution_count": 83,
   "id": "357d0a3a-a9f7-4a00-9b8c-335d8cf48999",
   "metadata": {},
   "outputs": [
    {
     "data": {
      "text/plain": [
       "function"
      ]
     },
     "execution_count": 83,
     "metadata": {},
     "output_type": "execute_result"
    }
   ],
   "source": [
    "type(f)"
   ]
  },
  {
   "cell_type": "code",
   "execution_count": 84,
   "id": "d9826e98-ccda-4860-b747-0270ceeb019d",
   "metadata": {},
   "outputs": [
    {
     "data": {
      "text/plain": [
       "array([0, 1, 2, 3, 4, 5, 6, 7, 8, 9])"
      ]
     },
     "execution_count": 84,
     "metadata": {},
     "output_type": "execute_result"
    }
   ],
   "source": [
    "x"
   ]
  },
  {
   "cell_type": "markdown",
   "id": "bc195676-0353-4c5d-b435-1b245771904c",
   "metadata": {},
   "source": [
    "Compute the second derivative of function `f` at `x` with small change `1e-6` in x"
   ]
  },
  {
   "cell_type": "code",
   "execution_count": 85,
   "id": "b0745a1c-0b80-4449-a6d3-a6b27bb7baa0",
   "metadata": {},
   "outputs": [
    {
     "data": {
      "text/plain": [
       "array([-4.00000000e-12, -2.28489450e+00,  1.84352533e+00, -5.89250870e-02,\n",
       "       -1.03816955e+00,  6.80122625e-01, -2.78804757e-02, -1.73736026e-01,\n",
       "        8.31574393e-02,  5.13651621e-03])"
      ]
     },
     "execution_count": 85,
     "metadata": {},
     "output_type": "execute_result"
    }
   ],
   "source": [
    "derivative(f, x, dx=1e-6, n=2)"
   ]
  },
  {
   "cell_type": "markdown",
   "id": "6d5f0a3f-1e7f-479a-9b75-615b8af32160",
   "metadata": {},
   "source": [
    "### Integrations"
   ]
  },
  {
   "cell_type": "code",
   "execution_count": 104,
   "id": "19f9b9d6-ae81-487c-840c-4ee656d095fb",
   "metadata": {},
   "outputs": [],
   "source": [
    "def f(x):\n",
    "    return x**2 * np.sin(2*x) * np.exp(-x)"
   ]
  },
  {
   "cell_type": "markdown",
   "id": "9fd0a98c-6599-409e-9f96-a75396122ade",
   "metadata": {},
   "source": [
    "Compute the integral of f(x)"
   ]
  },
  {
   "cell_type": "markdown",
   "id": "5294684e-875b-4d9b-bed6-1aa0d460c5ce",
   "metadata": {},
   "source": [
    "$f(x) = \\int_0^1 x^2 \\sin (2 x) e^{-x} d x$"
   ]
  },
  {
   "cell_type": "code",
   "execution_count": 109,
   "id": "b3369e68-a053-4ea9-b708-46ffde228a0b",
   "metadata": {},
   "outputs": [
    {
     "data": {
      "text/plain": [
       "function"
      ]
     },
     "execution_count": 109,
     "metadata": {},
     "output_type": "execute_result"
    }
   ],
   "source": [
    "type(f)"
   ]
  },
  {
   "cell_type": "code",
   "execution_count": 110,
   "id": "e9f71094-fbad-4b1a-997b-5a76fdc82546",
   "metadata": {},
   "outputs": [],
   "source": [
    "from scipy.integrate import quad"
   ]
  },
  {
   "cell_type": "code",
   "execution_count": 111,
   "id": "459efd2b-2000-4dc1-bff3-4992b082b6ea",
   "metadata": {},
   "outputs": [],
   "source": [
    "integral, integral_error = quad(f, a=0, b=1)"
   ]
  },
  {
   "cell_type": "code",
   "execution_count": 112,
   "id": "9ce8bc68-d3a8-44db-bbc3-1006b0eac993",
   "metadata": {},
   "outputs": [
    {
     "data": {
      "text/plain": [
       "(0.14558175869954834, 1.6162822047366225e-15)"
      ]
     },
     "execution_count": 112,
     "metadata": {},
     "output_type": "execute_result"
    }
   ],
   "source": [
    "integral, integral_error"
   ]
  },
  {
   "cell_type": "markdown",
   "id": "59d7ccf5-7c2e-4091-8992-320c92e33625",
   "metadata": {},
   "source": [
    "Compute the double integral of f(x)"
   ]
  },
  {
   "cell_type": "markdown",
   "id": "e201b309-6f45-4c73-858c-e53988b8d148",
   "metadata": {},
   "source": [
    "##### Flashcard"
   ]
  },
  {
   "cell_type": "markdown",
   "id": "2a780690-6f38-410d-a6d1-995aeebff39b",
   "metadata": {},
   "source": [
    "Turn this function into code"
   ]
  },
  {
   "cell_type": "markdown",
   "id": "a65773bb-d68c-4d4d-bdaa-7a31f3ee3a18",
   "metadata": {},
   "source": [
    "$f(x) = \\sin \\left(x+y^2\\right)$"
   ]
  },
  {
   "cell_type": "code",
   "execution_count": 119,
   "id": "1ebefc50-b917-43f7-a985-df332bb4021f",
   "metadata": {},
   "outputs": [],
   "source": [
    "def f(x, y):\n",
    "    return np.sin(x+y**2)"
   ]
  },
  {
   "cell_type": "code",
   "execution_count": 120,
   "id": "6aa041ea-6217-4a78-a230-f4efadc7c9a8",
   "metadata": {},
   "outputs": [
    {
     "data": {
      "text/plain": [
       "-0.9999902065507035"
      ]
     },
     "execution_count": 120,
     "metadata": {},
     "output_type": "execute_result"
    }
   ],
   "source": [
    "f(2, 3)"
   ]
  },
  {
   "cell_type": "markdown",
   "id": "3c271580-6666-46f8-9a38-7674e4ae8fcc",
   "metadata": {},
   "source": [
    "##### Code"
   ]
  },
  {
   "cell_type": "markdown",
   "id": "662a4251-cc4d-4db3-aaa4-0a2fbf436145",
   "metadata": {},
   "source": [
    "Compute the double integral"
   ]
  },
  {
   "cell_type": "markdown",
   "id": "3d8f3feb-1b5f-45eb-a1c3-df99e742899e",
   "metadata": {},
   "source": [
    "$\\int_0^1 \\int_{-x}^{x^2} \\sin \\left(x+y^2\\right) dy \\, dx$"
   ]
  },
  {
   "cell_type": "code",
   "execution_count": 130,
   "id": "b0cf5dc1-d12b-4bad-a4d4-d8b873da8fbf",
   "metadata": {},
   "outputs": [],
   "source": [
    "from scipy.integrate import dblquad"
   ]
  },
  {
   "cell_type": "code",
   "execution_count": 131,
   "id": "971f7444-7459-4e3a-96ba-24f8e64ef63a",
   "metadata": {},
   "outputs": [
    {
     "data": {
      "text/plain": [
       "<function __main__.f(x, y)>"
      ]
     },
     "execution_count": 131,
     "metadata": {},
     "output_type": "execute_result"
    }
   ],
   "source": [
    "f"
   ]
  },
  {
   "cell_type": "code",
   "execution_count": 132,
   "id": "53289b16-76c3-4c56-80d6-2c3777b1d894",
   "metadata": {},
   "outputs": [],
   "source": [
    "lower_y = lambda x: -x"
   ]
  },
  {
   "cell_type": "code",
   "execution_count": 133,
   "id": "606f0b29-8f28-433b-afdb-f934e1939cc9",
   "metadata": {},
   "outputs": [],
   "source": [
    "upper_y = lambda x: x**2"
   ]
  },
  {
   "cell_type": "code",
   "execution_count": 134,
   "id": "c52f3494-3fc2-4c4f-9264-9c7523fec551",
   "metadata": {},
   "outputs": [],
   "source": [
    "integral, integral_error = dblquad(f, 0, 1, lower_y, upper_y)"
   ]
  },
  {
   "cell_type": "code",
   "execution_count": 136,
   "id": "76ac9899-1047-4b6c-bd66-ad32e399798a",
   "metadata": {},
   "outputs": [
    {
     "data": {
      "text/plain": [
       "(0.315802507240474, 1.5634600713498928e-14)"
      ]
     },
     "execution_count": 136,
     "metadata": {},
     "output_type": "execute_result"
    }
   ],
   "source": [
    "integral, integral_error"
   ]
  },
  {
   "cell_type": "markdown",
   "id": "729061f6-016a-4b79-bfde-cb622c193983",
   "metadata": {},
   "source": [
    "### Differential Equation (not complete)"
   ]
  },
  {
   "cell_type": "markdown",
   "id": "25c38df1-7c88-49e3-861a-64841acf9c8c",
   "metadata": {},
   "source": [
    "### Fourier Transforms (not complete)"
   ]
  },
  {
   "cell_type": "markdown",
   "id": "fee91e36-89dc-4682-89eb-4d101adb999d",
   "metadata": {},
   "source": [
    "### Examples (not complete)"
   ]
  },
  {
   "cell_type": "markdown",
   "id": "fd6c0a76-5e15-42da-92f5-4b4aa1e8c81e",
   "metadata": {},
   "source": [
    "### Linear Algebra (not complete)..."
   ]
  },
  {
   "cell_type": "markdown",
   "id": "ffebfd00-a835-489a-91ef-08b671acc3c9",
   "metadata": {},
   "source": [
    "..."
   ]
  },
  {
   "cell_type": "code",
   "execution_count": null,
   "id": "c4d40d27-84dc-44cb-9282-1e4091c4aae8",
   "metadata": {},
   "outputs": [],
   "source": []
  }
 ],
 "metadata": {
  "kernelspec": {
   "display_name": "Python 3 (ipykernel)",
   "language": "python",
   "name": "python3"
  },
  "language_info": {
   "codemirror_mode": {
    "name": "ipython",
    "version": 3
   },
   "file_extension": ".py",
   "mimetype": "text/x-python",
   "name": "python",
   "nbconvert_exporter": "python",
   "pygments_lexer": "ipython3",
   "version": "3.9.13"
  }
 },
 "nbformat": 4,
 "nbformat_minor": 5
}
