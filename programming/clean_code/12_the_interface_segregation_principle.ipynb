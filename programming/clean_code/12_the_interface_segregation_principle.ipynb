{
 "cells": [
  {
   "cell_type": "markdown",
   "id": "91ff938b-fde1-4d02-85a9-5b7868cbafee",
   "metadata": {},
   "source": [
    "### 12. The Interface Segregation Principle"
   ]
  },
  {
   "cell_type": "markdown",
   "id": "2fd1358e-b2b8-475a-a10c-d076a32716c4",
   "metadata": {},
   "source": [
    "### Example 1"
   ]
  },
  {
   "cell_type": "code",
   "execution_count": null,
   "id": "e1dd7b0a-1ee6-4652-81f7-f3304ac42d44",
   "metadata": {},
   "outputs": [],
   "source": [
    "from abc import ABC, abstractclassmethod"
   ]
  },
  {
   "cell_type": "code",
   "execution_count": null,
   "id": "0ce001af-7cda-4fd8-9620-fce4d4e2681f",
   "metadata": {},
   "outputs": [],
   "source": [
    "class Cashier(ABC):\n",
    "    @abstractclassmethod\n",
    "    def scan_item(self): pass\n",
    "    \n",
    "    @abstractclassmethod\n",
    "    def start_shift(self): pass\n",
    "\n",
    "    @abstractclassmethod\n",
    "    def take_break(self): pass"
   ]
  },
  {
   "cell_type": "code",
   "execution_count": null,
   "id": "8c3a3865-59f5-4cae-9711-ca65ddedbbec",
   "metadata": {},
   "outputs": [],
   "source": [
    "class SelfServeMachine(Cashier): pass"
   ]
  },
  {
   "cell_type": "code",
   "execution_count": null,
   "id": "4e0fca67-6423-466f-96e9-f18afe5d0bfa",
   "metadata": {},
   "outputs": [],
   "source": [
    "class HumanCashier(Cashier): pass"
   ]
  },
  {
   "cell_type": "markdown",
   "id": "40a2df28-c063-4aae-9591-fc637620bd72",
   "metadata": {},
   "source": [
    "- `SelfServeMachine` only use method `scan_item` from `Cashier`\n",
    "- `HumanCasier` only use methods `scan_item`, `start_shift` and `take_break` from `Cashier`\n",
    "\n",
    "Given `HumanCashier` and `SelfServeMachine` is the implement class, not abstract class"
   ]
  },
  {
   "cell_type": "markdown",
   "id": "7c4b63aa-a739-45a0-8495-8df4aa852063",
   "metadata": {},
   "source": [
    "Refactor using Interface Segregation Principle"
   ]
  },
  {
   "cell_type": "code",
   "execution_count": null,
   "id": "7248a80e-66f1-4a1f-b532-82c852910e69",
   "metadata": {},
   "outputs": [],
   "source": [
    "class Cashier(ABC):\n",
    "    @abstractclassmethod\n",
    "    def scan_item(self): pass"
   ]
  },
  {
   "cell_type": "code",
   "execution_count": null,
   "id": "27100548-1758-497f-bfb5-f9dbc2dc11fc",
   "metadata": {},
   "outputs": [],
   "source": [
    "class SelfServeMachine(Cashier): pass"
   ]
  },
  {
   "cell_type": "code",
   "execution_count": null,
   "id": "90e9af1d-feab-4e19-a951-87f93e8e5674",
   "metadata": {},
   "outputs": [],
   "source": [
    "class HumanWorker(ABC):\n",
    "    @abstractclassmethod\n",
    "    def start_shift(self): pass\n",
    "\n",
    "    @abstractclassmethod\n",
    "    def take_break(self): pass"
   ]
  },
  {
   "cell_type": "code",
   "execution_count": null,
   "id": "6d1463f8-60d6-4cb9-a5ba-6221c1de291c",
   "metadata": {},
   "outputs": [],
   "source": [
    "class HumanCashier(Cashier, HumanWorker): pass"
   ]
  },
  {
   "cell_type": "code",
   "execution_count": null,
   "id": "885db431-74fd-4396-af87-3977f6842363",
   "metadata": {},
   "outputs": [],
   "source": []
  },
  {
   "cell_type": "code",
   "execution_count": null,
   "id": "f1ae0864-a270-479f-975b-775e9d9663dc",
   "metadata": {},
   "outputs": [],
   "source": []
  }
 ],
 "metadata": {
  "kernelspec": {
   "display_name": "Python 3 (ipykernel)",
   "language": "python",
   "name": "python3"
  }
 },
 "nbformat": 4,
 "nbformat_minor": 5
}
