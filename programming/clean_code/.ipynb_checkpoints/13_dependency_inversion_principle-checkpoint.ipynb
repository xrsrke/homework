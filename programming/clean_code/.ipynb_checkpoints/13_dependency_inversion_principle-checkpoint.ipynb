{
 "cells": [
  {
   "cell_type": "code",
   "execution_count": null,
   "id": "00a9629a-7a39-4133-b90b-38906adb5c65",
   "metadata": {},
   "outputs": [],
   "source": [
    "class Bookmark:\n",
    "    def __init__(self):\n",
    "        self.books = [1, 2, 3]\n",
    "    \n",
    "    def quick_sort(self):\n",
    "        # imeplement\n",
    "        pass\n",
    "\n",
    "    def sort_bookmarks(self):\n",
    "        self.quick_sort(self.books)"
   ]
  },
  {
   "cell_type": "code",
   "execution_count": null,
   "id": "52775baa-0b27-41f6-a078-bc2259655b9d",
   "metadata": {},
   "outputs": [],
   "source": [
    "from abc import ABC, abstractclassmethod"
   ]
  },
  {
   "cell_type": "code",
   "execution_count": null,
   "id": "617fa9b7-c73d-439f-8cd0-bd3733ec8e49",
   "metadata": {},
   "outputs": [],
   "source": [
    "class Sorting(ABC):\n",
    "    @abstractclassmethod\n",
    "    def sort(self): pass"
   ]
  },
  {
   "cell_type": "code",
   "execution_count": null,
   "id": "bfbd2f50-a219-427f-9e17-657b212b23b7",
   "metadata": {},
   "outputs": [],
   "source": [
    "class QuickSortBookmark(Sorting):\n",
    "    def sort(self):\n",
    "        # implement\n",
    "        pass"
   ]
  },
  {
   "cell_type": "code",
   "execution_count": null,
   "id": "1bd2d9c5-4b43-4523-9230-bc86bbd04ff3",
   "metadata": {},
   "outputs": [],
   "source": [
    "class Bookmark:\n",
    "    def __init__(self):\n",
    "        self.books = [1, 2, 3]\n",
    "    \n",
    "    def sort_bookmarks(self):\n",
    "        pass"
   ]
  },
  {
   "cell_type": "code",
   "execution_count": null,
   "id": "aceddd49-e071-45aa-87b1-fdbcb184782f",
   "metadata": {},
   "outputs": [],
   "source": []
  }
 ],
 "metadata": {
  "kernelspec": {
   "display_name": "Python 3 (ipykernel)",
   "language": "python",
   "name": "python3"
  }
 },
 "nbformat": 4,
 "nbformat_minor": 5
}
