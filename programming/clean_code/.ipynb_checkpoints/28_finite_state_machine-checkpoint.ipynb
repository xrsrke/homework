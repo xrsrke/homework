{
 "cells": [
  {
   "cell_type": "markdown",
   "id": "8cf717c4-9b55-459b-a7c1-6a7703f5d970",
   "metadata": {},
   "source": [
    "### 28. Finite State Machine"
   ]
  },
  {
   "cell_type": "markdown",
   "id": "d14c106a-aa60-469c-a041-c480784e479b",
   "metadata": {},
   "source": [
    "### Finite State Machine"
   ]
  },
  {
   "cell_type": "markdown",
   "id": "1fc679ab-caf4-4e5b-bcb2-e1aa410043d4",
   "metadata": {},
   "source": [
    "##### Example 1"
   ]
  },
  {
   "cell_type": "markdown",
   "id": "1f576c00-3084-4738-8daf-295e1e415c46",
   "metadata": {},
   "source": [
    "Implement a finite state machine design pattern as bellow"
   ]
  },
  {
   "cell_type": "code",
   "execution_count": 33,
   "id": "6692d880-03db-48d3-8dc8-3dac79bf0206",
   "metadata": {},
   "outputs": [],
   "source": [
    "class WashingMachine:\n",
    "    def __init__(self):\n",
    "        self.current_state = \"idle\"\n",
    "\n",
    "    def execute_event(self, event):\n",
    "        if self.current_state == \"idle\":\n",
    "            if event == \"start\":\n",
    "                self.current_state = \"washing\"\n",
    "                print(\"Starting the washing cycle\")\n",
    "            elif event == \"open\":\n",
    "                print(\"The door is already open\")\n",
    "            else:\n",
    "                self.current_state = \"error\"\n",
    "                print(\"Invalid input\")\n",
    "        else:\n",
    "            self.current_state = \"error\"\n",
    "            print(\"Invalid input\")"
   ]
  },
  {
   "cell_type": "code",
   "execution_count": 34,
   "id": "b920eb08-2b5d-44f5-b9f7-20d408a4f4cf",
   "metadata": {},
   "outputs": [
    {
     "name": "stdout",
     "output_type": "stream",
     "text": [
      "Starting the washing cycle\n",
      "Invalid input\n"
     ]
    }
   ],
   "source": [
    "wm = WashingMachine()\n",
    "wm.execute_event(\"start\")\n",
    "wm.execute_event(\"open\")"
   ]
  },
  {
   "cell_type": "code",
   "execution_count": 35,
   "id": "68916ad9-1bd4-47d9-8ec0-7085f3313dc5",
   "metadata": {},
   "outputs": [
    {
     "name": "stdout",
     "output_type": "stream",
     "text": [
      "The door is already open\n"
     ]
    }
   ],
   "source": [
    "wm = WashingMachine()\n",
    "wm.execute_event(\"open\")"
   ]
  },
  {
   "cell_type": "code",
   "execution_count": 36,
   "id": "0e0a276d-b813-4e06-8854-877ead63deca",
   "metadata": {},
   "outputs": [
    {
     "name": "stdout",
     "output_type": "stream",
     "text": [
      "Invalid input\n"
     ]
    }
   ],
   "source": [
    "wm = WashingMachine()\n",
    "wm.execute_event(\"washing\")"
   ]
  },
  {
   "cell_type": "markdown",
   "id": "02782a18-2e29-4725-bb7c-71c587ac1392",
   "metadata": {},
   "source": [
    "##### Example 2"
   ]
  },
  {
   "cell_type": "markdown",
   "id": "2f157342-d0de-497a-b52d-e237fa029750",
   "metadata": {},
   "source": [
    "Implement a finite state machine design pattern as bellow"
   ]
  },
  {
   "cell_type": "code",
   "execution_count": 13,
   "id": "5a94619d-aaea-487f-bf9a-5df480dcd2fd",
   "metadata": {},
   "outputs": [],
   "source": [
    "class StateMachine:\n",
    "    def __init__(self):\n",
    "        self.current_state = \"idle\"\n",
    "\n",
    "    def execute_event(self, event):\n",
    "        if self.current_state == \"idle\":\n",
    "            if event == \"start\":\n",
    "                self.current_state = \"running\"\n",
    "                print(\"Starting the machine\")\n",
    "            else:\n",
    "                self.current_state = \"error\"\n",
    "                print(\"Invalid input\")\n",
    "        elif self.current_state == \"running\":\n",
    "            if event == \"stop\":\n",
    "                self.current_state = \"idle\"\n",
    "                print(\"Stopping the machine\")\n",
    "            else:\n",
    "                self.current_state = \"error\"\n",
    "                print(\"Invalid input\")\n",
    "        else:\n",
    "            self.current_state = \"error\"\n",
    "            print(\"Invalid input\")"
   ]
  },
  {
   "cell_type": "code",
   "execution_count": 14,
   "id": "952e286f-92b0-4402-aa38-c5b931e31dbe",
   "metadata": {},
   "outputs": [
    {
     "name": "stdout",
     "output_type": "stream",
     "text": [
      "Starting the machine\n",
      "Stopping the machine\n",
      "Invalid input\n"
     ]
    }
   ],
   "source": [
    "machine = StateMachine()\n",
    "machine.execute_event(\"start\")\n",
    "machine.execute_event(\"stop\")\n",
    "machine.execute_event(\"stop\")"
   ]
  },
  {
   "cell_type": "code",
   "execution_count": 15,
   "id": "f2977c84-3d9d-4589-a3b2-1b3db2736694",
   "metadata": {},
   "outputs": [
    {
     "name": "stdout",
     "output_type": "stream",
     "text": [
      "Invalid input\n",
      "Invalid input\n"
     ]
    }
   ],
   "source": [
    "machine = StateMachine()\n",
    "machine.execute_event(\"stop\")\n",
    "machine.execute_event(\"start\")"
   ]
  },
  {
   "cell_type": "markdown",
   "id": "8a0ac456-3a84-4d92-9ee5-b492c41844fa",
   "metadata": {},
   "source": [
    "##### Example 2"
   ]
  },
  {
   "cell_type": "code",
   "execution_count": 12,
   "id": "565a7b60-7476-45b7-8f1b-9dfdbd6083f6",
   "metadata": {},
   "outputs": [],
   "source": [
    "class Transition:\n",
    "    def __init__(self, current_state, event, new_state, action):\n",
    "        self.current_state = current_state\n",
    "        self.event = event\n",
    "        self.new_state = new_state\n",
    "        self.action = action"
   ]
  },
  {
   "cell_type": "code",
   "execution_count": null,
   "id": "9e773511-5e70-4be5-8a21-a4b1d49d3c5d",
   "metadata": {},
   "outputs": [],
   "source": [
    "transitions = [\n",
    "    \n",
    "]"
   ]
  }
 ],
 "metadata": {
  "kernelspec": {
   "display_name": "Python 3 (ipykernel)",
   "language": "python",
   "name": "python3"
  },
  "language_info": {
   "codemirror_mode": {
    "name": "ipython",
    "version": 3
   },
   "file_extension": ".py",
   "mimetype": "text/x-python",
   "name": "python",
   "nbconvert_exporter": "python",
   "pygments_lexer": "ipython3",
   "version": "3.8.15"
  }
 },
 "nbformat": 4,
 "nbformat_minor": 5
}
