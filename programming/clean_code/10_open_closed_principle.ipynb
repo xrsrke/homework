{
 "cells": [
  {
   "cell_type": "markdown",
   "id": "c73bfedc-67fd-4e0e-aace-0dcd101c1e47",
   "metadata": {},
   "source": [
    "### 10. Open-Closed Principle"
   ]
  },
  {
   "cell_type": "code",
   "execution_count": null,
   "id": "1aedf3a5-4798-4425-9868-80a340cfde06",
   "metadata": {},
   "outputs": [],
   "source": [
    "def print_report(expenses):\n",
    "    total = 0\n",
    "    meal_expenses = 0\n",
    "    \n",
    "    for expense in expenses:\n",
    "        if expense.type == \"BREAK_FAST\" or expense.type == \"DINNER\":\n",
    "            meal_expenses += expense.amount\n",
    "    \n",
    "        if expense.type == \"DINNER\":\n",
    "            name = \"Dinner\"\n",
    "        elif expense.type == \"CAR_RENTAL\":\n",
    "            name = \"Car Rental\"\n",
    "        elif expense.type == \"BREAKFAST\":\n",
    "            name = \"Breakfast\"\n",
    "        \n",
    "    print(\"Header\")\n",
    "    print(f\"Total: {total}\")\n",
    "    print(f\"Meal's expense: {meal_expenses}\")"
   ]
  },
  {
   "cell_type": "code",
   "execution_count": null,
   "id": "2ccd1b81-de5a-4b61-86cd-1e702e476cca",
   "metadata": {},
   "outputs": [],
   "source": [
    "from abc import ABC, abstractclassmethod"
   ]
  },
  {
   "cell_type": "code",
   "execution_count": null,
   "id": "780c995f-0ff7-45f4-aefd-d420da053ebb",
   "metadata": {},
   "outputs": [],
   "source": [
    "class Expense(ABC):\n",
    "    def __init__(self, amount): self.amount = amount\n",
    "\n",
    "    def get_amount(self): return self.amount\n",
    "    \n",
    "    @abstractclassmethod\n",
    "    def is_meal(self): pass"
   ]
  },
  {
   "cell_type": "code",
   "execution_count": null,
   "id": "7783d693-31f5-4a4e-88bc-60ae7274107a",
   "metadata": {},
   "outputs": [],
   "source": [
    "class DinnerExpense(Expense):    \n",
    "    def is_meal(self): return True"
   ]
  },
  {
   "cell_type": "code",
   "execution_count": null,
   "id": "68f83641-31c3-4b0d-bf72-1c3ba6abcc77",
   "metadata": {},
   "outputs": [],
   "source": [
    "class CarRentalExpense(Expense):    \n",
    "    def is_meal(self): return False"
   ]
  },
  {
   "cell_type": "code",
   "execution_count": null,
   "id": "44c92e2b-5df1-494d-9f3a-8a6264c845a5",
   "metadata": {},
   "outputs": [],
   "source": [
    "class BreakfastExpense(Expense):    \n",
    "    def is_meal(self): return True"
   ]
  },
  {
   "cell_type": "code",
   "execution_count": null,
   "id": "4210782b-f90d-4058-b1bc-d33bf5b5e57f",
   "metadata": {},
   "outputs": [],
   "source": [
    "class ExpenseNamer(ABC):\n",
    "    def __init__(self, expense): self.expense = expense\n",
    "    \n",
    "    @abstractclassmethod\n",
    "    def get_name(self): pass"
   ]
  },
  {
   "cell_type": "code",
   "execution_count": null,
   "id": "19b0d107-e095-4e47-a7cc-f37a259322a3",
   "metadata": {},
   "outputs": [],
   "source": [
    "class ExpenseReportNamer(ExpenseNamer):    \n",
    "    def get_name(self):\n",
    "        if isinstance(self.expense, DinnerExpense):\n",
    "            return \"Dinner\"\n",
    "        elif isinstance(self.expense, CarRentalExpense):\n",
    "            return \"Car Rental\"\n",
    "        elif isinstance(self.expense, BreakfastExpense):\n",
    "            return \"Breakfast\""
   ]
  },
  {
   "cell_type": "code",
   "execution_count": null,
   "id": "bed9520b-e895-439d-8b7c-530e9bff7b1c",
   "metadata": {},
   "outputs": [],
   "source": [
    "class ExpenseReport:\n",
    "    def __init__(self, expenses):\n",
    "        self.expenses = expenses\n",
    "        self.total = 0 \n",
    "        self.meal_expenses = 0\n",
    "        \n",
    "        self.total_up_expenses()\n",
    "\n",
    "    def total_up_expenses(self):\n",
    "        for expense in self.expenses: self.add_to_totals(expense)\n",
    "    \n",
    "    def add_to_totals(self, expense):\n",
    "        if expense.is_meal():\n",
    "            self.meal_expenses += expense.get_amount()\n",
    "        \n",
    "        self.total += expense.get_amount()"
   ]
  },
  {
   "cell_type": "code",
   "execution_count": null,
   "id": "153d4767-0b39-43fa-bad7-a6e9595b3326",
   "metadata": {},
   "outputs": [],
   "source": [
    "class ExpenseReporter:\n",
    "    def __init__(self, report): self.report = report\n",
    "    \n",
    "    def print_report(self):\n",
    "        self.print_header()\n",
    "        self.print_body()\n",
    "    \n",
    "    def print_header(self): print(\"Header\")\n",
    "    \n",
    "    def print_body(self):\n",
    "        print(f\"Total: {report.total}\")\n",
    "        print(f\"Meal's expense: {report.meal_expenses}\")"
   ]
  },
  {
   "cell_type": "code",
   "execution_count": null,
   "id": "87eabf47-f177-4906-a6b5-c37f4ea9a17f",
   "metadata": {},
   "outputs": [],
   "source": [
    "expenses = [\n",
    "    DinnerExpense(10),\n",
    "    CarRentalExpense(20),\n",
    "    BreakfastExpense(30)\n",
    "]"
   ]
  },
  {
   "cell_type": "code",
   "execution_count": null,
   "id": "25d5c11a-9de3-4247-9079-9631cb7bcbfa",
   "metadata": {},
   "outputs": [],
   "source": [
    "report = ExpenseReport(expenses)"
   ]
  },
  {
   "cell_type": "code",
   "execution_count": null,
   "id": "ab983d76-c934-40b0-8971-ed96278bd229",
   "metadata": {},
   "outputs": [],
   "source": [
    "report_printer = ExpenseReporter(report)"
   ]
  },
  {
   "cell_type": "code",
   "execution_count": null,
   "id": "32722cf5-58a4-480d-b711-1f610ba3b3cf",
   "metadata": {},
   "outputs": [
    {
     "name": "stdout",
     "output_type": "stream",
     "text": [
      "Header\n",
      "Total: 60\n",
      "Meal's expense: 40\n"
     ]
    }
   ],
   "source": [
    "report_printer.print_report()"
   ]
  },
  {
   "cell_type": "code",
   "execution_count": null,
   "id": "b768d8a9-8a6f-422d-ba5e-526c7a7d67fe",
   "metadata": {},
   "outputs": [],
   "source": []
  },
  {
   "cell_type": "code",
   "execution_count": null,
   "id": "cf1985fe-afe6-4f3d-9b92-96596bee4720",
   "metadata": {},
   "outputs": [],
   "source": []
  },
  {
   "cell_type": "code",
   "execution_count": null,
   "id": "1e9bc689-1089-4984-b540-08d66dad10a0",
   "metadata": {},
   "outputs": [],
   "source": []
  }
 ],
 "metadata": {
  "kernelspec": {
   "display_name": "Python 3 (ipykernel)",
   "language": "python",
   "name": "python3"
  }
 },
 "nbformat": 4,
 "nbformat_minor": 5
}
