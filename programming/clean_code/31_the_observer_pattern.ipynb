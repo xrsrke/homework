{
 "cells": [
  {
   "cell_type": "markdown",
   "id": "39dc0b8c-9b39-4710-bfe6-ca6b79154ae5",
   "metadata": {},
   "source": [
    "### 31. The Observer Pattern"
   ]
  },
  {
   "cell_type": "markdown",
   "id": "95d2c865-f444-4c92-9c74-32472e0027a3",
   "metadata": {},
   "source": [
    "##### Example 1"
   ]
  },
  {
   "cell_type": "code",
   "execution_count": 1,
   "id": "4736a937-9970-4822-8922-e8fe8d2f4bc7",
   "metadata": {},
   "outputs": [],
   "source": [
    "import datetime\n",
    "import time\n",
    "from abc import ABC, abstractmethod"
   ]
  },
  {
   "cell_type": "code",
   "execution_count": 2,
   "id": "197d241b-e844-49fa-b3a8-6c8af1d1bd8b",
   "metadata": {},
   "outputs": [],
   "source": [
    "class Clock:\n",
    "    def __init__(self): self.time = datetime.datetime.now()\n",
    "\n",
    "    def tick(self): self.time = datetime.datetime.now()"
   ]
  },
  {
   "cell_type": "code",
   "execution_count": 3,
   "id": "ef6cee81-eb0c-4f00-bf62-d7188d934a60",
   "metadata": {},
   "outputs": [],
   "source": [
    "class RealTimeDisplay:\n",
    "    def show_time(self, time): print(\"Time:\", time)"
   ]
  },
  {
   "cell_type": "markdown",
   "id": "e0893999-dcd5-42ff-81de-cf45393e7fd5",
   "metadata": {},
   "source": [
    "Implement **Observer Pattern**"
   ]
  },
  {
   "cell_type": "markdown",
   "id": "c05fa678-1f7f-409b-abd5-a8d57b5dd2fe",
   "metadata": {},
   "source": [
    "**Hints**:\n",
    "- New classes: `ObservableObject`, `Observer`, `ObservableClock`\n",
    "- Modify `RealTimeDisplay`"
   ]
  },
  {
   "cell_type": "code",
   "execution_count": 4,
   "id": "d744d000-22c5-4156-b57e-290850e4f2ba",
   "metadata": {},
   "outputs": [],
   "source": [
    "class ObservableObject:\n",
    "    def __init__(self): self.observers = []\n",
    "\n",
    "    def register(self, observer): self.observers.append(observer)\n",
    "\n",
    "    def notify(self, data):\n",
    "        for observer in self.observers:\n",
    "            observer.update(data)"
   ]
  },
  {
   "cell_type": "code",
   "execution_count": 5,
   "id": "5abf3285-ec3e-4510-a00f-5d8dffbe6c48",
   "metadata": {},
   "outputs": [],
   "source": [
    "class Observer(ABC):\n",
    "    @abstractmethod\n",
    "    def update(self): pass"
   ]
  },
  {
   "cell_type": "code",
   "execution_count": 6,
   "id": "3d846252-6e29-40a7-9c7f-605ecd3f63b8",
   "metadata": {},
   "outputs": [],
   "source": [
    "class ObservableClock(Clock, ObservableObject):\n",
    "    def __init__(self):\n",
    "        Clock.__init__(self)\n",
    "        ObservableObject.__init__(self)\n",
    "    \n",
    "    def tick(self):\n",
    "        super().tick()\n",
    "        self.notify(self.time)"
   ]
  },
  {
   "cell_type": "code",
   "execution_count": 7,
   "id": "488561fc-2b7c-4ad5-92f8-bd9007ca3047",
   "metadata": {},
   "outputs": [],
   "source": [
    "class RealTimeDisplay(Observer):\n",
    "    def update(self, time): self.show_time(time)\n",
    "        \n",
    "    def show_time(self, time): print(\"Time:\", time)"
   ]
  },
  {
   "cell_type": "code",
   "execution_count": 8,
   "id": "0862172c-bc94-498b-bc17-6bceaf0f17d1",
   "metadata": {},
   "outputs": [],
   "source": [
    "clock = ObservableClock()\n",
    "display = RealTimeDisplay()\n",
    "clock.register(display)"
   ]
  },
  {
   "cell_type": "code",
   "execution_count": null,
   "id": "6a02a384-8446-4bea-a349-4b0bf0767885",
   "metadata": {},
   "outputs": [
    {
     "name": "stdout",
     "output_type": "stream",
     "text": [
      "Time: 2022-12-24 08:19:18.932455\n",
      "Time: 2022-12-24 08:19:19.937005\n",
      "Time: 2022-12-24 08:19:20.939761\n",
      "Time: 2022-12-24 08:19:21.941877\n",
      "Time: 2022-12-24 08:19:22.946082\n",
      "Time: 2022-12-24 08:19:23.950063\n"
     ]
    }
   ],
   "source": [
    "while True:\n",
    "    clock.tick()\n",
    "    time.sleep(1)"
   ]
  },
  {
   "cell_type": "markdown",
   "id": "da1f9cd1-ce69-450b-9c60-f99752cebb27",
   "metadata": {},
   "source": [
    "##### Example 2"
   ]
  },
  {
   "cell_type": "code",
   "execution_count": 2,
   "id": "fbbcf620-e22d-4161-a396-5c5967281e31",
   "metadata": {},
   "outputs": [],
   "source": [
    "from abc import ABC, abstractclassmethod"
   ]
  },
  {
   "cell_type": "code",
   "execution_count": 1,
   "id": "27151724-b328-4d27-8988-fd1b1e322d9f",
   "metadata": {
    "tags": []
   },
   "outputs": [],
   "source": [
    "class ObservableObject:\n",
    "    def __init__(self):\n",
    "        self.observers = []\n",
    "    \n",
    "    def register(self, observer):\n",
    "        self.observers.append(observer)\n",
    "    \n",
    "    def notify_observer(self, data):\n",
    "        for observer in self.observers:\n",
    "            observer.update(data)"
   ]
  },
  {
   "cell_type": "code",
   "execution_count": 4,
   "id": "f5d48d13-2a80-4680-929e-c80708963e47",
   "metadata": {},
   "outputs": [],
   "source": [
    "class Observer(ABC):\n",
    "    @abstractclassmethod\n",
    "    def update(self, data): pass"
   ]
  },
  {
   "cell_type": "code",
   "execution_count": null,
   "id": "41713958-1b9d-42bc-935c-c35d34d60f7d",
   "metadata": {},
   "outputs": [],
   "source": []
  }
 ],
 "metadata": {
  "kernelspec": {
   "display_name": "Python 3 (ipykernel)",
   "language": "python",
   "name": "python3"
  },
  "language_info": {
   "codemirror_mode": {
    "name": "ipython",
    "version": 3
   },
   "file_extension": ".py",
   "mimetype": "text/x-python",
   "name": "python",
   "nbconvert_exporter": "python",
   "pygments_lexer": "ipython3",
   "version": "3.8.15"
  }
 },
 "nbformat": 4,
 "nbformat_minor": 5
}
