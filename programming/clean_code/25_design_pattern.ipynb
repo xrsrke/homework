{
 "cells": [
  {
   "cell_type": "markdown",
   "id": "936c1f54-0b2a-4561-a64f-5d61514f766f",
   "metadata": {},
   "source": [
    "Media"
   ]
  },
  {
   "cell_type": "markdown",
   "id": "48071ff6-4d25-48d3-ab0a-62d1e944e9b1",
   "metadata": {},
   "source": [
    "### Command Pattern"
   ]
  },
  {
   "cell_type": "code",
   "execution_count": 5,
   "id": "d4680411-0ec3-412f-a2ee-0a4ce41f9a6f",
   "metadata": {},
   "outputs": [],
   "source": [
    "from abc import ABC, abstractmethod\n",
    "\n",
    "class ChemicalCompound:\n",
    "    def __init__(self, formula):\n",
    "        self.formula = formula\n",
    "\n",
    "class Operation(ABC):\n",
    "    @abstractmethod\n",
    "    def execute(self, compound: ChemicalCompound):\n",
    "        pass\n",
    "\n",
    "class MolecularWeightCalculator(Operation):\n",
    "    def execute(self, compound: ChemicalCompound):\n",
    "        # Calculate and return the molecular weight of the compound\n",
    "        pass\n",
    "\n",
    "class TwoDDepictionGenerator(Operation):\n",
    "    def execute(self, compound: ChemicalCompound):\n",
    "        # Generate and return a 2D depiction of the compound\n",
    "        pass\n",
    "\n",
    "class CommandExecutor:\n",
    "    def execute(self, operation: Operation, compound: ChemicalCompound):\n",
    "        return operation.execute(compound)"
   ]
  },
  {
   "cell_type": "code",
   "execution_count": 4,
   "id": "b3c6ed14-87ec-4c01-b2a4-89e991110657",
   "metadata": {},
   "outputs": [],
   "source": [
    "compound = ChemicalCompound(\"C6H12O6\")\n",
    "operation = MolecularWeightCalculator()\n",
    "executor = CommandExecutor()\n",
    "result = executor.execute(operation, compound)"
   ]
  },
  {
   "cell_type": "code",
   "execution_count": null,
   "id": "8f2a6587-0e1b-4801-894c-8fa16a43daa9",
   "metadata": {},
   "outputs": [],
   "source": []
  }
 ],
 "metadata": {
  "kernelspec": {
   "display_name": "Python 3 (ipykernel)",
   "language": "python",
   "name": "python3"
  },
  "language_info": {
   "codemirror_mode": {
    "name": "ipython",
    "version": 3
   },
   "file_extension": ".py",
   "mimetype": "text/x-python",
   "name": "python",
   "nbconvert_exporter": "python",
   "pygments_lexer": "ipython3",
   "version": "3.8.15"
  }
 },
 "nbformat": 4,
 "nbformat_minor": 5
}
