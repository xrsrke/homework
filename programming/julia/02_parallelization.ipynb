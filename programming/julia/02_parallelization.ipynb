{
 "cells": [
  {
   "cell_type": "markdown",
   "id": "1d468a7c-ee00-47ce-a44a-d1d1b8702902",
   "metadata": {},
   "source": [
    "##### Multithreading\n",
    "\n",
    "##### Multiprocessing\n",
    "\n",
    "##### GPU parallelism"
   ]
  },
  {
   "cell_type": "markdown",
   "id": "23b93dc0-679d-45b9-b4b2-390c4e81f8fc",
   "metadata": {},
   "source": [
    "### CPUs"
   ]
  },
  {
   "cell_type": "markdown",
   "id": "3d0078f8-279c-4e36-8023-0d585c8d09a0",
   "metadata": {},
   "source": [
    "The modern central processing unit and how amazing it is"
   ]
  },
  {
   "cell_type": "code",
   "execution_count": null,
   "id": "201f1ec2-0867-4c1e-b80f-8d7700feed50",
   "metadata": {},
   "outputs": [],
   "source": [
    "using BenchmarkTools"
   ]
  },
  {
   "cell_type": "code",
   "execution_count": null,
   "id": "ae2f3f33-0b70-4869-911d-44697c057dbd",
   "metadata": {},
   "outputs": [
    {
     "data": {
      "text/plain": [
       "BenchmarkTools.Trial: 10000 samples with 792 evaluations.\n",
       " Range \u001b[90m(\u001b[39m\u001b[36m\u001b[1mmin\u001b[22m\u001b[39m … \u001b[35mmax\u001b[39m\u001b[90m):  \u001b[39m\u001b[36m\u001b[1m149.148 ns\u001b[22m\u001b[39m … \u001b[35m  3.511 μs\u001b[39m  \u001b[90m┊\u001b[39m GC \u001b[90m(\u001b[39mmin … max\u001b[90m): \u001b[39m0.00% … 0.00%\n",
       " Time  \u001b[90m(\u001b[39m\u001b[34m\u001b[1mmedian\u001b[22m\u001b[39m\u001b[90m):     \u001b[39m\u001b[34m\u001b[1m254.472 ns               \u001b[22m\u001b[39m\u001b[90m┊\u001b[39m GC \u001b[90m(\u001b[39mmedian\u001b[90m):    \u001b[39m0.00%\n",
       " Time  \u001b[90m(\u001b[39m\u001b[32m\u001b[1mmean\u001b[22m\u001b[39m ± \u001b[32mσ\u001b[39m\u001b[90m):   \u001b[39m\u001b[32m\u001b[1m258.862 ns\u001b[22m\u001b[39m ± \u001b[32m113.454 ns\u001b[39m  \u001b[90m┊\u001b[39m GC \u001b[90m(\u001b[39mmean ± σ\u001b[90m):  \u001b[39m1.06% ± 3.92%\n",
       "\n",
       "  \u001b[39m \u001b[39m \u001b[39m \u001b[39m \u001b[39m \u001b[39m \u001b[39m \u001b[39m \u001b[39m \u001b[39m \u001b[39m \u001b[39m \u001b[39m \u001b[39m \u001b[39m▃\u001b[39m█\u001b[34m█\u001b[39m\u001b[32m▃\u001b[39m\u001b[39m \u001b[39m \u001b[39m \u001b[39m \u001b[39m \u001b[39m \u001b[39m \u001b[39m \u001b[39m \u001b[39m \u001b[39m \u001b[39m \u001b[39m \u001b[39m \u001b[39m \u001b[39m \u001b[39m \u001b[39m \u001b[39m \u001b[39m \u001b[39m \u001b[39m \u001b[39m \u001b[39m \u001b[39m \u001b[39m \u001b[39m \u001b[39m \u001b[39m \u001b[39m \u001b[39m \u001b[39m \u001b[39m \u001b[39m \u001b[39m \u001b[39m \u001b[39m \u001b[39m \u001b[39m \u001b[39m \u001b[39m \u001b[39m \u001b[39m \u001b[39m \u001b[39m \n",
       "  \u001b[39m▂\u001b[39m▂\u001b[39m▃\u001b[39m▄\u001b[39m▄\u001b[39m▃\u001b[39m▃\u001b[39m▄\u001b[39m▃\u001b[39m▃\u001b[39m▂\u001b[39m▂\u001b[39m▂\u001b[39m▄\u001b[39m█\u001b[39m█\u001b[34m█\u001b[39m\u001b[32m█\u001b[39m\u001b[39m▅\u001b[39m▄\u001b[39m▃\u001b[39m▂\u001b[39m▂\u001b[39m▂\u001b[39m▂\u001b[39m▂\u001b[39m▂\u001b[39m▂\u001b[39m▂\u001b[39m▂\u001b[39m▂\u001b[39m▂\u001b[39m▂\u001b[39m▂\u001b[39m▂\u001b[39m▂\u001b[39m▂\u001b[39m▂\u001b[39m▂\u001b[39m▂\u001b[39m▂\u001b[39m▂\u001b[39m▂\u001b[39m▂\u001b[39m▂\u001b[39m▁\u001b[39m▂\u001b[39m▂\u001b[39m▂\u001b[39m▂\u001b[39m▂\u001b[39m▂\u001b[39m▂\u001b[39m▂\u001b[39m▂\u001b[39m▂\u001b[39m▂\u001b[39m▂\u001b[39m▂\u001b[39m▂\u001b[39m▂\u001b[39m \u001b[39m▃\n",
       "  149 ns\u001b[90m           Histogram: frequency by time\u001b[39m          554 ns \u001b[0m\u001b[1m<\u001b[22m\n",
       "\n",
       " Memory estimate\u001b[90m: \u001b[39m\u001b[33m144 bytes\u001b[39m, allocs estimate\u001b[90m: \u001b[39m\u001b[33m1\u001b[39m."
      ]
     },
     "metadata": {},
     "output_type": "display_data"
    }
   ],
   "source": [
    "@benchmark sort(data) setup=(data=rand(10))"
   ]
  },
  {
   "cell_type": "markdown",
   "id": "3bd2f00c-3940-477d-9f37-69558ad1f11f",
   "metadata": {},
   "source": [
    "### Serial Processing"
   ]
  },
  {
   "cell_type": "markdown",
   "id": "2e20c80b-9ef8-410c-a5be-80673bd259bd",
   "metadata": {},
   "source": [
    "##### Example 1 "
   ]
  },
  {
   "cell_type": "code",
   "execution_count": null,
   "id": "e4ad335f-4db6-4d39-8304-9dd754569ad4",
   "metadata": {},
   "outputs": [
    {
     "data": {
      "text/plain": [
       "f (generic function with 1 method)"
      ]
     },
     "metadata": {},
     "output_type": "display_data"
    }
   ],
   "source": [
    "function f(a, b)\n",
    "    x = 0\n",
    "    y = 0\n",
    "    for i in 1:1\n",
    "        x += a *i\n",
    "        y += b*i\n",
    "    end\n",
    "    \n",
    "    return x, y\n",
    "end"
   ]
  },
  {
   "cell_type": "markdown",
   "id": "3681ea5b-e8f0-4016-b519-35149bb163b2",
   "metadata": {},
   "source": [
    "##### Example 2"
   ]
  },
  {
   "cell_type": "code",
   "execution_count": null,
   "id": "c7873d04-df52-4747-9d99-b22822429e61",
   "metadata": {},
   "outputs": [],
   "source": [
    "using LinearAlgebra, BenchmarkTools"
   ]
  },
  {
   "cell_type": "code",
   "execution_count": null,
   "id": "8e5f7ff7-c327-4f49-8aa3-6a5527c897ca",
   "metadata": {},
   "outputs": [
    {
     "data": {
      "text/plain": [
       "expensive (generic function with 1 method)"
      ]
     },
     "metadata": {},
     "output_type": "display_data"
    }
   ],
   "source": [
    "function expensive()\n",
    "    X = randn(10_000, 100)\n",
    "    return inv(X'X)\n",
    "end"
   ]
  },
  {
   "cell_type": "code",
   "execution_count": null,
   "id": "8c402c50-05cf-40fc-9a0e-181fe33d250b",
   "metadata": {},
   "outputs": [
    {
     "data": {
      "text/plain": [
       "go (generic function with 1 method)"
      ]
     },
     "metadata": {},
     "output_type": "display_data"
    }
   ],
   "source": [
    "function go()\n",
    "    A = expensive()\n",
    "    B = expensive()\n",
    "    return A + B\n",
    "end"
   ]
  },
  {
   "cell_type": "code",
   "execution_count": null,
   "id": "afd1f950-aff5-466d-bd72-3d64d0b7057b",
   "metadata": {},
   "outputs": [
    {
     "data": {
      "text/plain": [
       "BenchmarkTools.Trial: 81 samples with 1 evaluation.\n",
       " Range \u001b[90m(\u001b[39m\u001b[36m\u001b[1mmin\u001b[22m\u001b[39m … \u001b[35mmax\u001b[39m\u001b[90m):  \u001b[39m\u001b[36m\u001b[1m26.326 ms\u001b[22m\u001b[39m … \u001b[35m316.604 ms\u001b[39m  \u001b[90m┊\u001b[39m GC \u001b[90m(\u001b[39mmin … max\u001b[90m): \u001b[39m0.00% … 0.00%\n",
       " Time  \u001b[90m(\u001b[39m\u001b[34m\u001b[1mmedian\u001b[22m\u001b[39m\u001b[90m):     \u001b[39m\u001b[34m\u001b[1m44.462 ms               \u001b[22m\u001b[39m\u001b[90m┊\u001b[39m GC \u001b[90m(\u001b[39mmedian\u001b[90m):    \u001b[39m0.00%\n",
       " Time  \u001b[90m(\u001b[39m\u001b[32m\u001b[1mmean\u001b[22m\u001b[39m ± \u001b[32mσ\u001b[39m\u001b[90m):   \u001b[39m\u001b[32m\u001b[1m64.135 ms\u001b[22m\u001b[39m ± \u001b[32m 55.133 ms\u001b[39m  \u001b[90m┊\u001b[39m GC \u001b[90m(\u001b[39mmean ± σ\u001b[90m):  \u001b[39m3.64% ± 7.11%\n",
       "\n",
       "  \u001b[39m▁\u001b[39m▂\u001b[39m█\u001b[39m \u001b[34m \u001b[39m\u001b[39m \u001b[39m \u001b[39m \u001b[39m \u001b[32m \u001b[39m\u001b[39m \u001b[39m \u001b[39m \u001b[39m \u001b[39m \u001b[39m \u001b[39m \u001b[39m \u001b[39m \u001b[39m \u001b[39m \u001b[39m \u001b[39m \u001b[39m \u001b[39m \u001b[39m \u001b[39m \u001b[39m \u001b[39m \u001b[39m \u001b[39m \u001b[39m \u001b[39m \u001b[39m \u001b[39m \u001b[39m \u001b[39m \u001b[39m \u001b[39m \u001b[39m \u001b[39m \u001b[39m \u001b[39m \u001b[39m \u001b[39m \u001b[39m \u001b[39m \u001b[39m \u001b[39m \u001b[39m \u001b[39m \u001b[39m \u001b[39m \u001b[39m \u001b[39m \u001b[39m \u001b[39m \u001b[39m \u001b[39m \u001b[39m \u001b[39m \u001b[39m \n",
       "  \u001b[39m█\u001b[39m█\u001b[39m█\u001b[39m█\u001b[34m▆\u001b[39m\u001b[39m█\u001b[39m▃\u001b[39m▇\u001b[39m▄\u001b[32m▅\u001b[39m\u001b[39m▄\u001b[39m▄\u001b[39m▃\u001b[39m▄\u001b[39m▄\u001b[39m▃\u001b[39m▁\u001b[39m▁\u001b[39m▁\u001b[39m▁\u001b[39m▁\u001b[39m▃\u001b[39m▁\u001b[39m▁\u001b[39m▁\u001b[39m▁\u001b[39m▁\u001b[39m▁\u001b[39m▃\u001b[39m▁\u001b[39m▃\u001b[39m▃\u001b[39m▁\u001b[39m▁\u001b[39m▁\u001b[39m▁\u001b[39m▁\u001b[39m▁\u001b[39m▁\u001b[39m▁\u001b[39m▁\u001b[39m▁\u001b[39m▁\u001b[39m▃\u001b[39m▁\u001b[39m▁\u001b[39m▁\u001b[39m▁\u001b[39m▁\u001b[39m▁\u001b[39m▃\u001b[39m▁\u001b[39m▁\u001b[39m▁\u001b[39m▁\u001b[39m▁\u001b[39m▁\u001b[39m▁\u001b[39m▁\u001b[39m▃\u001b[39m \u001b[39m▁\n",
       "  26.3 ms\u001b[90m         Histogram: frequency by time\u001b[39m          290 ms \u001b[0m\u001b[1m<\u001b[22m\n",
       "\n",
       " Memory estimate\u001b[90m: \u001b[39m\u001b[33m15.74 MiB\u001b[39m, allocs estimate\u001b[90m: \u001b[39m\u001b[33m20\u001b[39m."
      ]
     },
     "metadata": {},
     "output_type": "display_data"
    }
   ],
   "source": [
    "@benchmark go()"
   ]
  },
  {
   "cell_type": "markdown",
   "id": "01a64c71-f4b2-4463-8cb3-6203271adae8",
   "metadata": {},
   "source": [
    "### Multiprocess & multithread parallelism"
   ]
  },
  {
   "cell_type": "code",
   "execution_count": null,
   "id": "415ad08a-251a-468f-b538-d93bdb526b4d",
   "metadata": {},
   "outputs": [
    {
     "ename": "InterruptException",
     "evalue": "InterruptException:",
     "output_type": "error",
     "traceback": [
      "InterruptException:\n",
      "\n",
      "Stacktrace:\n",
      "  [1] _lineartrial(b::BenchmarkTools.Benchmark, p::BenchmarkTools.Parameters; maxevals::Int64, kwargs::Base.Pairs{Symbol, Union{}, Tuple{}, NamedTuple{(), Tuple{}}})\n",
      "    @ BenchmarkTools ~/.julia/packages/BenchmarkTools/0owsb/src/execution.jl:161\n",
      "  [2] _lineartrial(b::BenchmarkTools.Benchmark, p::BenchmarkTools.Parameters)\n",
      "    @ BenchmarkTools ~/.julia/packages/BenchmarkTools/0owsb/src/execution.jl:152\n",
      "  [3] #invokelatest#2\n",
      "    @ ./essentials.jl:729 [inlined]\n",
      "  [4] invokelatest\n",
      "    @ ./essentials.jl:726 [inlined]\n",
      "  [5] #lineartrial#46\n",
      "    @ ~/.julia/packages/BenchmarkTools/0owsb/src/execution.jl:35 [inlined]\n",
      "  [6] lineartrial\n",
      "    @ ~/.julia/packages/BenchmarkTools/0owsb/src/execution.jl:35 [inlined]\n",
      "  [7] tune!(b::BenchmarkTools.Benchmark, p::BenchmarkTools.Parameters; progressid::Nothing, nleaves::Float64, ndone::Float64, verbose::Bool, pad::String, kwargs::Base.Pairs{Symbol, Union{}, Tuple{}, NamedTuple{(), Tuple{}}})\n",
      "    @ BenchmarkTools ~/.julia/packages/BenchmarkTools/0owsb/src/execution.jl:251\n",
      "  [8] tune! (repeats 2 times)\n",
      "    @ ~/.julia/packages/BenchmarkTools/0owsb/src/execution.jl:247 [inlined]\n",
      "  [9] eval\n",
      "    @ ./boot.jl:368 [inlined]\n",
      " [10] include_string(mapexpr::typeof(REPL.softscope), mod::Module, code::String, filename::String)\n",
      "    @ Base ./loading.jl:1428\n",
      " [11] #invokelatest#2\n",
      "    @ ./essentials.jl:729 [inlined]\n",
      " [12] invokelatest\n",
      "    @ ./essentials.jl:726 [inlined]\n",
      " [13] (::VSCodeServer.var\"#198#199\"{VSCodeServer.NotebookRunCellArguments, String})()\n",
      "    @ VSCodeServer ~/.vscode/extensions/julialang.language-julia-1.38.2/scripts/packages/VSCodeServer/src/serve_notebook.jl:19\n",
      " [14] withpath(f::VSCodeServer.var\"#198#199\"{VSCodeServer.NotebookRunCellArguments, String}, path::String)\n",
      "    @ VSCodeServer ~/.vscode/extensions/julialang.language-julia-1.38.2/scripts/packages/VSCodeServer/src/repl.jl:249\n",
      " [15] notebook_runcell_request(conn::VSCodeServer.JSONRPC.JSONRPCEndpoint{Base.PipeEndpoint, Base.PipeEndpoint}, params::VSCodeServer.NotebookRunCellArguments)\n",
      "    @ VSCodeServer ~/.vscode/extensions/julialang.language-julia-1.38.2/scripts/packages/VSCodeServer/src/serve_notebook.jl:13\n",
      " [16] dispatch_msg(x::VSCodeServer.JSONRPC.JSONRPCEndpoint{Base.PipeEndpoint, Base.PipeEndpoint}, dispatcher::VSCodeServer.JSONRPC.MsgDispatcher, msg::Dict{String, Any})\n",
      "    @ VSCodeServer.JSONRPC ~/.vscode/extensions/julialang.language-julia-1.38.2/scripts/packages/JSONRPC/src/typed.jl:67\n",
      " [17] serve_notebook(pipename::String, outputchannel_logger::Base.CoreLogging.SimpleLogger; crashreporting_pipename::String)\n",
      "    @ VSCodeServer ~/.vscode/extensions/julialang.language-julia-1.38.2/scripts/packages/VSCodeServer/src/serve_notebook.jl:139\n",
      " [18] top-level scope\n",
      "    @ ~/.vscode/extensions/julialang.language-julia-1.38.2/scripts/notebook/notebook.jl:32"
     ]
    }
   ],
   "source": [
    "@benchmark randn(10_000, 10000)"
   ]
  },
  {
   "cell_type": "markdown",
   "id": "d1632632-701c-4013-82e0-5f8b67e56e6a",
   "metadata": {},
   "source": [
    "### Starting Julia with threads\n"
   ]
  },
  {
   "cell_type": "code",
   "execution_count": null,
   "id": "32034f3a-4df1-4aee-9477-e3acf28616d0",
   "metadata": {},
   "outputs": [
    {
     "name": "stdout",
     "output_type": "stream",
     "text": [
      "waiting...\n"
     ]
    }
   ],
   "source": [
    "function heavy_shit()\n",
    "    sleep(5)\n",
    "    return dot(randn(3, 4), randn(4, 3))\n",
    "end\n",
    "\n",
    "task = Threads.@spawn heavy_shit()\n",
    "\n",
    "println(\"waiting...\")\n",
    "\n",
    "# println(fetch(task))"
   ]
  },
  {
   "cell_type": "code",
   "execution_count": null,
   "id": "6725b330-644e-4c9b-ac29-65c52500f8ae",
   "metadata": {},
   "outputs": [
    {
     "data": {
      "text/plain": [
       "Task (runnable) @0x00000001520ef6b0"
      ]
     },
     "metadata": {},
     "output_type": "display_data"
    }
   ],
   "source": [
    "task = Threads.@spawn heavy_shit()"
   ]
  },
  {
   "cell_type": "markdown",
   "id": "680b3c6c-3c17-4dfc-8556-270523ed344f",
   "metadata": {},
   "source": [
    "##### Example 1"
   ]
  },
  {
   "cell_type": "code",
   "execution_count": null,
   "id": "10efdc86-81d9-4dea-9245-d4f38669f78d",
   "metadata": {},
   "outputs": [
    {
     "data": {
      "text/plain": [
       "heavy_shit (generic function with 1 method)"
      ]
     },
     "metadata": {},
     "output_type": "display_data"
    }
   ],
   "source": [
    "function heavy_shit()\n",
    "    return 0\n",
    "end"
   ]
  },
  {
   "cell_type": "code",
   "execution_count": null,
   "id": "58bd9f34-4371-42f5-ae82-47f105fc2d89",
   "metadata": {},
   "outputs": [
    {
     "data": {
      "text/plain": [
       "heavy_shit (generic function with 1 method)"
      ]
     },
     "metadata": {},
     "output_type": "display_data"
    }
   ],
   "source": [
    "heavy_shit"
   ]
  },
  {
   "cell_type": "markdown",
   "id": "0f55b1b5-f45c-460d-ba03-3cbccd5fecee",
   "metadata": {},
   "source": [
    "Execute function `heavy_shit` on a thread, and assign to variable named `task`"
   ]
  },
  {
   "cell_type": "code",
   "execution_count": null,
   "id": "d5f8859c-3115-482c-8a85-0feb9c846d83",
   "metadata": {},
   "outputs": [
    {
     "data": {
      "text/plain": [
       "Task (done) @0x0000000155345430"
      ]
     },
     "metadata": {},
     "output_type": "display_data"
    }
   ],
   "source": [
    "task = Threads.@spawn heavy_shit()"
   ]
  },
  {
   "cell_type": "code",
   "execution_count": null,
   "id": "ac450669-f12e-42ee-b5a7-a066543d5fa7",
   "metadata": {},
   "outputs": [
    {
     "data": {
      "text/plain": [
       "Task (done) @0x0000000155345430"
      ]
     },
     "metadata": {},
     "output_type": "display_data"
    }
   ],
   "source": [
    "task"
   ]
  },
  {
   "cell_type": "markdown",
   "id": "a09c088b-b444-437f-b395-bcb390ef4769",
   "metadata": {},
   "source": [
    "##### Example 2"
   ]
  },
  {
   "cell_type": "code",
   "execution_count": null,
   "id": "31632966-66ef-43e8-9d6e-12eccecbeaf0",
   "metadata": {},
   "outputs": [
    {
     "data": {
      "text/plain": [
       "10"
      ]
     },
     "metadata": {},
     "output_type": "display_data"
    }
   ],
   "source": [
    "Threads.nthreads()"
   ]
  },
  {
   "cell_type": "markdown",
   "id": "f656919f-5580-4ab1-97f6-76db62ff873c",
   "metadata": {},
   "source": [
    "##### Example 3"
   ]
  },
  {
   "cell_type": "code",
   "execution_count": null,
   "id": "4c5838d0-a3fa-4a3e-a2b7-7fdbb77bfbac",
   "metadata": {},
   "outputs": [
    {
     "name": "stdout",
     "output_type": "stream",
     "text": [
      "Thread ID: 10 | i: 5\n",
      "Thread ID: 4 | i: 2\n",
      "Thread ID: 3 | i: 3\n",
      "Thread ID: 2 | i: 1\n",
      "Thread ID: 8 | i: 4\n",
      "Thread ID: 9 | i: 6\n"
     ]
    }
   ],
   "source": [
    "function thread_test()\n",
    "    Threads.@threads for i in 1:6\n",
    "        id = Threads.threadid()\n",
    "        println(\"Thread ID: \", id, \" | i: \", i)\n",
    "    end \n",
    "end\n",
    "\n",
    "thread_test()"
   ]
  },
  {
   "cell_type": "code",
   "execution_count": null,
   "id": "9129bbba-b3c7-4d01-b3ee-189f3604a394",
   "metadata": {},
   "outputs": [
    {
     "data": {
      "text/plain": [
       "1"
      ]
     },
     "metadata": {},
     "output_type": "display_data"
    }
   ],
   "source": [
    "Threads.threadid()"
   ]
  },
  {
   "cell_type": "code",
   "execution_count": null,
   "id": "aa2e3426-c691-4c12-9fac-1b9132a3f3c5",
   "metadata": {},
   "outputs": [],
   "source": [
    "function serialsum(xs)\n",
    "    r = 0\n",
    "    for i in xs\n",
    "        r += i\n",
    "    end\n",
    "    return r\n",
    "end\n",
    "\n",
    "function threadsum(xs)\n",
    "    r = zeros(Threads.nthreads())\n",
    "    Threads.@threads for i in xs\n",
    "        # Each thread has it's own \"sum bucket\" to accumulate \n",
    "        # bits and pieces of xs -- we'll add these buckets together\n",
    "        # at the end.\n",
    "        r[Threads.threadid()] += i\n",
    "    end\n",
    "    return sum(r)\n",
    "end\n",
    "\n",
    "values = randn(10_000);"
   ]
  },
  {
   "cell_type": "code",
   "execution_count": null,
   "id": "0495100c-3539-4acd-bbc3-869df4fe56d9",
   "metadata": {},
   "outputs": [
    {
     "data": {
      "text/plain": [
       "BenchmarkTools.Trial: 10000 samples with 1 evaluation.\n",
       " Range \u001b[90m(\u001b[39m\u001b[36m\u001b[1mmin\u001b[22m\u001b[39m … \u001b[35mmax\u001b[39m\u001b[90m):  \u001b[39m\u001b[36m\u001b[1m14.542 μs\u001b[22m\u001b[39m … \u001b[35m 1.190 ms\u001b[39m  \u001b[90m┊\u001b[39m GC \u001b[90m(\u001b[39mmin … max\u001b[90m): \u001b[39m0.00% … 0.00%\n",
       " Time  \u001b[90m(\u001b[39m\u001b[34m\u001b[1mmedian\u001b[22m\u001b[39m\u001b[90m):     \u001b[39m\u001b[34m\u001b[1m28.459 μs              \u001b[22m\u001b[39m\u001b[90m┊\u001b[39m GC \u001b[90m(\u001b[39mmedian\u001b[90m):    \u001b[39m0.00%\n",
       " Time  \u001b[90m(\u001b[39m\u001b[32m\u001b[1mmean\u001b[22m\u001b[39m ± \u001b[32mσ\u001b[39m\u001b[90m):   \u001b[39m\u001b[32m\u001b[1m31.177 μs\u001b[22m\u001b[39m ± \u001b[32m32.621 μs\u001b[39m  \u001b[90m┊\u001b[39m GC \u001b[90m(\u001b[39mmean ± σ\u001b[90m):  \u001b[39m0.00% ± 0.00%\n",
       "\n",
       "  \u001b[39m▆\u001b[39m \u001b[39m \u001b[39m \u001b[39m \u001b[39m█\u001b[39m▄\u001b[39m▁\u001b[39m \u001b[34m▇\u001b[39m\u001b[39m▁\u001b[32m \u001b[39m\u001b[39m \u001b[39m \u001b[39m█\u001b[39m▂\u001b[39m \u001b[39m \u001b[39m \u001b[39m \u001b[39m \u001b[39m \u001b[39m \u001b[39m \u001b[39m \u001b[39m \u001b[39m \u001b[39m \u001b[39m \u001b[39m \u001b[39m \u001b[39m \u001b[39m \u001b[39m \u001b[39m \u001b[39m \u001b[39m \u001b[39m \u001b[39m \u001b[39m \u001b[39m \u001b[39m \u001b[39m \u001b[39m \u001b[39m \u001b[39m \u001b[39m \u001b[39m \u001b[39m \u001b[39m \u001b[39m \u001b[39m \u001b[39m \u001b[39m \u001b[39m \u001b[39m \u001b[39m \u001b[39m \u001b[39m \u001b[39m \u001b[39m▂\n",
       "  \u001b[39m█\u001b[39m▃\u001b[39m▂\u001b[39m▄\u001b[39m▅\u001b[39m█\u001b[39m█\u001b[39m█\u001b[39m▇\u001b[34m█\u001b[39m\u001b[39m█\u001b[32m█\u001b[39m\u001b[39m█\u001b[39m█\u001b[39m█\u001b[39m█\u001b[39m█\u001b[39m█\u001b[39m█\u001b[39m▆\u001b[39m▇\u001b[39m▇\u001b[39m▇\u001b[39m▇\u001b[39m▇\u001b[39m▇\u001b[39m▇\u001b[39m▇\u001b[39m▆\u001b[39m▆\u001b[39m▆\u001b[39m▆\u001b[39m▇\u001b[39m▅\u001b[39m▅\u001b[39m▅\u001b[39m▅\u001b[39m▅\u001b[39m▅\u001b[39m▄\u001b[39m▄\u001b[39m▄\u001b[39m▄\u001b[39m▅\u001b[39m▄\u001b[39m▅\u001b[39m▄\u001b[39m▅\u001b[39m▂\u001b[39m▄\u001b[39m▃\u001b[39m▃\u001b[39m▃\u001b[39m▄\u001b[39m▃\u001b[39m▃\u001b[39m▂\u001b[39m▄\u001b[39m▄\u001b[39m \u001b[39m█\n",
       "  14.5 μs\u001b[90m      \u001b[39m\u001b[90mHistogram: \u001b[39m\u001b[90m\u001b[1mlog(\u001b[22m\u001b[39m\u001b[90mfrequency\u001b[39m\u001b[90m\u001b[1m)\u001b[22m\u001b[39m\u001b[90m by time\u001b[39m       105 μs \u001b[0m\u001b[1m<\u001b[22m\n",
       "\n",
       " Memory estimate\u001b[90m: \u001b[39m\u001b[33m16 bytes\u001b[39m, allocs estimate\u001b[90m: \u001b[39m\u001b[33m1\u001b[39m."
      ]
     },
     "metadata": {},
     "output_type": "display_data"
    }
   ],
   "source": [
    "using BenchmarkTools\n",
    "@benchmark serialsum(values)"
   ]
  },
  {
   "cell_type": "markdown",
   "id": "c3a2a5e2-4b12-43ea-98de-07ebfd6a1c9a",
   "metadata": {},
   "source": [
    "##### Example"
   ]
  },
  {
   "cell_type": "code",
   "execution_count": null,
   "id": "cc25dca1-af72-4240-aa00-631a68972dae",
   "metadata": {},
   "outputs": [
    {
     "data": {
      "text/plain": [
       "Any[]"
      ]
     },
     "metadata": {},
     "output_type": "display_data"
    }
   ],
   "source": [
    "xs = []"
   ]
  },
  {
   "cell_type": "code",
   "execution_count": null,
   "id": "0db48e88-cb05-41d9-8445-11a054df08ec",
   "metadata": {},
   "outputs": [
    {
     "name": "stdout",
     "output_type": "stream",
     "text": [
      "1\n",
      "2\n",
      "3\n",
      "4\n"
     ]
    }
   ],
   "source": [
    "for i in 1:4\n",
    "    println(i)\n",
    "end"
   ]
  },
  {
   "cell_type": "markdown",
   "id": "40a4caa3-5ceb-4858-9e86-3892ae6e619f",
   "metadata": {},
   "source": [
    "Make the loop run in multi-thread"
   ]
  },
  {
   "cell_type": "code",
   "execution_count": null,
   "id": "a9507ede-5b60-467a-9f94-ce4a46a9df1a",
   "metadata": {},
   "outputs": [
    {
     "name": "stdout",
     "output_type": "stream",
     "text": [
      "3\n",
      "4\n",
      "2\n",
      "1\n"
     ]
    }
   ],
   "source": [
    "Threads.@threads for i in 1:4\n",
    "    println(i)\n",
    "end"
   ]
  },
  {
   "cell_type": "markdown",
   "id": "934df00c-eab5-4c6b-9b92-5c214bbdb7fc",
   "metadata": {},
   "source": [
    "### Even more complexity, race conditions!"
   ]
  },
  {
   "cell_type": "markdown",
   "id": "46aba1ad-d162-43ae-a6b6-34ddd5148775",
   "metadata": {},
   "source": [
    "### Locks"
   ]
  },
  {
   "cell_type": "markdown",
   "id": "d7343137-2ee7-470f-94ef-24f0dff9eb53",
   "metadata": {},
   "source": [
    "##### Example 1"
   ]
  },
  {
   "cell_type": "code",
   "execution_count": 21,
   "id": "447cc164-27a2-46ed-9df2-e6e4c3fb5cb8",
   "metadata": {},
   "outputs": [
    {
     "data": {
      "text/plain": [
       "Any[]"
      ]
     },
     "execution_count": 21,
     "metadata": {},
     "output_type": "execute_result"
    }
   ],
   "source": [
    "xs = []"
   ]
  },
  {
   "cell_type": "code",
   "execution_count": 22,
   "id": "7b577edd-1dd1-4a55-8571-12ce97fb3dce",
   "metadata": {},
   "outputs": [
    {
     "data": {
      "text/plain": [
       "1:4"
      ]
     },
     "execution_count": 22,
     "metadata": {},
     "output_type": "execute_result"
    }
   ],
   "source": [
    "numbers = 1:4"
   ]
  },
  {
   "cell_type": "code",
   "execution_count": 23,
   "id": "362792cf-4f64-43eb-87dc-b652db1c4bad",
   "metadata": {},
   "outputs": [
    {
     "data": {
      "text/plain": [
       "(Any[], 1:4)"
      ]
     },
     "execution_count": 23,
     "metadata": {},
     "output_type": "execute_result"
    }
   ],
   "source": [
    "xs, numbers"
   ]
  },
  {
   "cell_type": "markdown",
   "id": "4a0331ab-6d92-4457-b227-d2b32a6e7947",
   "metadata": {},
   "source": [
    "Do a `for loop` through `numbers` and add each number to the end of `xs` using **parallel with a lock**"
   ]
  },
  {
   "cell_type": "code",
   "execution_count": 24,
   "id": "e7cf783e-545e-461b-b30e-1425d627bba4",
   "metadata": {},
   "outputs": [],
   "source": [
    "xslock = Threads.ReentrantLock()\n",
    "\n",
    "Threads.@threads for i in numbers\n",
    "    lock(xslock) do\n",
    "        push!(xs, i) # Add i to the end of xs\n",
    "    end\n",
    "end"
   ]
  },
  {
   "cell_type": "code",
   "execution_count": 25,
   "id": "37bd70e9-f31c-473b-bfd8-375e511ef5e8",
   "metadata": {},
   "outputs": [
    {
     "data": {
      "text/plain": [
       "4-element Vector{Any}:\n",
       " 1\n",
       " 2\n",
       " 3\n",
       " 4"
      ]
     },
     "execution_count": 25,
     "metadata": {},
     "output_type": "execute_result"
    }
   ],
   "source": [
    "xs"
   ]
  },
  {
   "cell_type": "markdown",
   "id": "10ee3308-b96e-4593-82b5-2a7112fad3cf",
   "metadata": {},
   "source": [
    "### Multiprocessing"
   ]
  },
  {
   "cell_type": "code",
   "execution_count": 2,
   "id": "801e282e-72db-4853-a1a0-e5e07cfcb1f5",
   "metadata": {},
   "outputs": [
    {
     "data": {
      "text/plain": [
       "show_n_processor (generic function with 1 method)"
      ]
     },
     "execution_count": 2,
     "metadata": {},
     "output_type": "execute_result"
    }
   ],
   "source": [
    "function show_n_processor()\n",
    "    return Distributed.nprocs()\n",
    "end"
   ]
  },
  {
   "cell_type": "markdown",
   "id": "f4878a71-87c1-48f7-8ff8-687f7e32af0a",
   "metadata": {},
   "source": [
    "##### Example 1"
   ]
  },
  {
   "cell_type": "code",
   "execution_count": 1,
   "id": "32ab016f-9474-4bdd-9cb0-5ceeb372eba2",
   "metadata": {},
   "outputs": [],
   "source": [
    "using Distributed"
   ]
  },
  {
   "cell_type": "code",
   "execution_count": 3,
   "id": "24110297-1c97-48b0-b51a-0029b3c9add2",
   "metadata": {},
   "outputs": [
    {
     "data": {
      "text/plain": [
       "1"
      ]
     },
     "execution_count": 3,
     "metadata": {},
     "output_type": "execute_result"
    }
   ],
   "source": [
    "show_n_processor()"
   ]
  },
  {
   "cell_type": "markdown",
   "id": "faa4bce9-0c99-4f54-817a-b4018011834e",
   "metadata": {},
   "source": [
    "Add for 4 new processors"
   ]
  },
  {
   "cell_type": "code",
   "execution_count": 4,
   "id": "91ea2ac1-a53e-4625-8b42-bc9e3fda77c8",
   "metadata": {},
   "outputs": [
    {
     "data": {
      "text/plain": [
       "4-element Vector{Int64}:\n",
       " 2\n",
       " 3\n",
       " 4\n",
       " 5"
      ]
     },
     "execution_count": 4,
     "metadata": {},
     "output_type": "execute_result"
    }
   ],
   "source": [
    "Distributed.addprocs(4)"
   ]
  },
  {
   "cell_type": "code",
   "execution_count": 5,
   "id": "7a63bae7-6e42-4a90-a0fa-a24c7649b2c8",
   "metadata": {},
   "outputs": [
    {
     "data": {
      "text/plain": [
       "5"
      ]
     },
     "execution_count": 5,
     "metadata": {},
     "output_type": "execute_result"
    }
   ],
   "source": [
    "show_n_processor()"
   ]
  },
  {
   "cell_type": "markdown",
   "id": "897d5048-dfbe-421a-bfde-1a2bd6a0ad3c",
   "metadata": {},
   "source": [
    "##### Example 2"
   ]
  },
  {
   "cell_type": "code",
   "execution_count": 24,
   "id": "56cff1ef-549a-4f94-9bb6-28f13993b8b8",
   "metadata": {},
   "outputs": [],
   "source": [
    "using Distributed"
   ]
  },
  {
   "cell_type": "markdown",
   "id": "9905e823-c1fb-41a7-b54b-2a8b82db5890",
   "metadata": {},
   "source": [
    "Make processor `1` do `1+1` and return the result to variable `result`"
   ]
  },
  {
   "cell_type": "code",
   "execution_count": 25,
   "id": "1ab8564b-c936-41dd-a66f-0caa94bd2e74",
   "metadata": {},
   "outputs": [
    {
     "data": {
      "text/plain": [
       "Future(1, 1, 4, ReentrantLock(nothing, 0x00000000, 0x00, Base.GenericCondition{Base.Threads.SpinLock}(Base.InvasiveLinkedList{Task}(nothing, nothing), Base.Threads.SpinLock(0)), (8, 5293285536, 0)), nothing)"
      ]
     },
     "execution_count": 25,
     "metadata": {},
     "output_type": "execute_result"
    }
   ],
   "source": [
    "task = Distributed.@spawnat 1 1+1"
   ]
  },
  {
   "cell_type": "code",
   "execution_count": 26,
   "id": "63d77c40-f36b-4a3a-8375-fe1ea98f0919",
   "metadata": {},
   "outputs": [
    {
     "data": {
      "text/plain": [
       "2"
      ]
     },
     "execution_count": 26,
     "metadata": {},
     "output_type": "execute_result"
    }
   ],
   "source": [
    "result = fetch(task)"
   ]
  },
  {
   "cell_type": "code",
   "execution_count": 27,
   "id": "5e05f1d7-1158-4566-856f-9b56a59f120f",
   "metadata": {},
   "outputs": [
    {
     "data": {
      "text/plain": [
       "2"
      ]
     },
     "execution_count": 27,
     "metadata": {},
     "output_type": "execute_result"
    }
   ],
   "source": [
    "result"
   ]
  },
  {
   "cell_type": "markdown",
   "id": "622c0826-963a-458a-aacf-c076c43fdcd1",
   "metadata": {},
   "source": [
    "##### Example 3"
   ]
  },
  {
   "cell_type": "code",
   "execution_count": 12,
   "id": "5957a6b6-3f2c-4351-8d20-19c926bbd249",
   "metadata": {},
   "outputs": [],
   "source": [
    "using Distributed"
   ]
  },
  {
   "cell_type": "markdown",
   "id": "6cdd2494-3c06-41ad-bc3c-d8dca6031408",
   "metadata": {},
   "source": [
    "Create a function add two numbers and execute that function to calculate `1 + 2` on processor `1`, stores the result in variable `result`"
   ]
  },
  {
   "cell_type": "code",
   "execution_count": 13,
   "id": "06051d02-02a8-409d-85a3-26abfbe331a2",
   "metadata": {},
   "outputs": [],
   "source": [
    "@everywhere add(x, y) = x + y"
   ]
  },
  {
   "cell_type": "code",
   "execution_count": 14,
   "id": "859e566e-c515-4994-b497-2be03445f3b7",
   "metadata": {},
   "outputs": [
    {
     "data": {
      "text/plain": [
       "Future(1, 1, 2, ReentrantLock(nothing, 0x00000000, 0x00, Base.GenericCondition{Base.Threads.SpinLock}(Base.InvasiveLinkedList{Task}(nothing, nothing), Base.Threads.SpinLock(0)), (0, 4338401288, 21474836481)), nothing)"
      ]
     },
     "execution_count": 14,
     "metadata": {},
     "output_type": "execute_result"
    }
   ],
   "source": [
    "task = Distributed.@spawnat 1 add(1, 2)"
   ]
  },
  {
   "cell_type": "code",
   "execution_count": 15,
   "id": "f5af2642-9ea4-4906-9e71-10faab27703f",
   "metadata": {},
   "outputs": [
    {
     "data": {
      "text/plain": [
       "3"
      ]
     },
     "execution_count": 15,
     "metadata": {},
     "output_type": "execute_result"
    }
   ],
   "source": [
    "result = fetch(task)"
   ]
  },
  {
   "cell_type": "code",
   "execution_count": 16,
   "id": "2a014937-821f-4a1c-bf07-b4e1e84b74c7",
   "metadata": {},
   "outputs": [
    {
     "data": {
      "text/plain": [
       "3"
      ]
     },
     "execution_count": 16,
     "metadata": {},
     "output_type": "execute_result"
    }
   ],
   "source": [
    "result"
   ]
  },
  {
   "cell_type": "markdown",
   "id": "49548a8b-e8af-441d-ae3e-72824689d131",
   "metadata": {},
   "source": [
    "https://youtu.be/trhsvOAH0YI?t=9248"
   ]
  },
  {
   "cell_type": "code",
   "execution_count": null,
   "id": "c40a0cf2-4e4c-4ff6-8660-f63863c755b6",
   "metadata": {},
   "outputs": [],
   "source": []
  }
 ],
 "metadata": {
  "kernelspec": {
   "display_name": "Julia 1.8.3",
   "language": "julia",
   "name": "julia-1.8"
  },
  "language_info": {
   "file_extension": ".jl",
   "mimetype": "application/julia",
   "name": "julia",
   "version": "1.8.3"
  }
 },
 "nbformat": 4,
 "nbformat_minor": 5
}
