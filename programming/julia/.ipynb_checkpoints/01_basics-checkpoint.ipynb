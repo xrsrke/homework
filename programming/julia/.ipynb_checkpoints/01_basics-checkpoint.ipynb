{
 "cells": [
  {
   "cell_type": "markdown",
   "id": "14f79efd",
   "metadata": {},
   "source": [
    "### Hello World"
   ]
  },
  {
   "cell_type": "markdown",
   "id": "e68b80cc",
   "metadata": {},
   "source": [
    "##### Example 1"
   ]
  },
  {
   "cell_type": "markdown",
   "id": "630aaf49",
   "metadata": {},
   "source": [
    "Print the line `Hello world` as bellow"
   ]
  },
  {
   "cell_type": "code",
   "execution_count": null,
   "id": "41253f3c",
   "metadata": {},
   "outputs": [
    {
     "name": "stdout",
     "output_type": "stream",
     "text": [
      "Hello world\n"
     ]
    }
   ],
   "source": [
    "println(\"Hello world\")"
   ]
  },
  {
   "cell_type": "markdown",
   "id": "502c41a9",
   "metadata": {},
   "source": [
    "##### Example 2"
   ]
  },
  {
   "cell_type": "markdown",
   "id": "86a6258c",
   "metadata": {},
   "source": [
    "Run the script `hello.jl` in command line"
   ]
  },
  {
   "cell_type": "code",
   "execution_count": null,
   "id": "b833e4ff",
   "metadata": {},
   "outputs": [
    {
     "ename": "LoadError",
     "evalue": "syntax: extra token \"hello\" after end of expression",
     "output_type": "error",
     "traceback": [
      "syntax: extra token \"hello\" after end of expression",
      "",
      "Stacktrace:",
      " [1] top-level scope",
      "   @ In[5]:1",
      " [2] eval",
      "   @ ./boot.jl:368 [inlined]",
      " [3] include_string(mapexpr::typeof(REPL.softscope), mod::Module, code::String, filename::String)",
      "   @ Base ./loading.jl:1428"
     ]
    }
   ],
   "source": [
    "julia hello.jl"
   ]
  },
  {
   "cell_type": "markdown",
   "id": "b8b3c384",
   "metadata": {},
   "source": [
    "### Variables"
   ]
  },
  {
   "cell_type": "markdown",
   "id": "ae885349",
   "metadata": {},
   "source": [
    "##### Example 1"
   ]
  },
  {
   "cell_type": "code",
   "execution_count": null,
   "id": "02ae6709",
   "metadata": {},
   "outputs": [
    {
     "data": {
      "text/plain": [
       "(2, 3)"
      ]
     },
     "execution_count": null,
     "metadata": {},
     "output_type": "execute_result"
    }
   ],
   "source": [
    "x, y = 2, 3"
   ]
  },
  {
   "cell_type": "markdown",
   "id": "f23244da",
   "metadata": {},
   "source": [
    "Calculate the square of the sum of `x` and `y`"
   ]
  },
  {
   "cell_type": "code",
   "execution_count": null,
   "id": "cf26f5ac",
   "metadata": {},
   "outputs": [
    {
     "data": {
      "text/plain": [
       "25"
      ]
     },
     "execution_count": null,
     "metadata": {},
     "output_type": "execute_result"
    }
   ],
   "source": [
    "(x+y)^2"
   ]
  },
  {
   "cell_type": "markdown",
   "id": "749449d6",
   "metadata": {},
   "source": [
    "##### Example 2"
   ]
  },
  {
   "cell_type": "markdown",
   "id": "c538804a",
   "metadata": {},
   "source": [
    "Define a constant variable valued 5"
   ]
  },
  {
   "cell_type": "code",
   "execution_count": null,
   "id": "7642f7d9",
   "metadata": {},
   "outputs": [
    {
     "data": {
      "text/plain": [
       "5"
      ]
     },
     "execution_count": null,
     "metadata": {},
     "output_type": "execute_result"
    }
   ],
   "source": [
    "const z = 5"
   ]
  },
  {
   "cell_type": "code",
   "execution_count": null,
   "id": "29f8c0c8",
   "metadata": {},
   "outputs": [
    {
     "data": {
      "text/plain": [
       "5"
      ]
     },
     "execution_count": null,
     "metadata": {},
     "output_type": "execute_result"
    }
   ],
   "source": [
    "z"
   ]
  },
  {
   "cell_type": "markdown",
   "id": "d97d067b",
   "metadata": {},
   "source": [
    "##### Example 3"
   ]
  },
  {
   "cell_type": "code",
   "execution_count": null,
   "id": "8c7bd7c4",
   "metadata": {},
   "outputs": [
    {
     "data": {
      "text/plain": [
       "-2"
      ]
     },
     "execution_count": null,
     "metadata": {},
     "output_type": "execute_result"
    }
   ],
   "source": [
    "x = -2"
   ]
  },
  {
   "cell_type": "markdown",
   "id": "a18b3fdc",
   "metadata": {},
   "source": [
    "Check the type of variable `x`"
   ]
  },
  {
   "cell_type": "code",
   "execution_count": null,
   "id": "f3bf77cc",
   "metadata": {},
   "outputs": [
    {
     "data": {
      "text/plain": [
       "Int64"
      ]
     },
     "execution_count": null,
     "metadata": {},
     "output_type": "execute_result"
    }
   ],
   "source": [
    "typeof(x)"
   ]
  },
  {
   "cell_type": "code",
   "execution_count": null,
   "id": "afddd7d6",
   "metadata": {},
   "outputs": [
    {
     "data": {
      "text/plain": [
       "-2"
      ]
     },
     "execution_count": null,
     "metadata": {},
     "output_type": "execute_result"
    }
   ],
   "source": [
    "x"
   ]
  },
  {
   "cell_type": "code",
   "execution_count": null,
   "id": "cbdab73d",
   "metadata": {},
   "outputs": [
    {
     "data": {
      "text/plain": [
       "1"
      ]
     },
     "execution_count": null,
     "metadata": {},
     "output_type": "execute_result"
    }
   ],
   "source": [
    "😃 = 1"
   ]
  },
  {
   "cell_type": "markdown",
   "id": "da8225ea",
   "metadata": {},
   "source": [
    "##### Example 4"
   ]
  },
  {
   "cell_type": "code",
   "execution_count": null,
   "id": "a1f9cb40",
   "metadata": {},
   "outputs": [
    {
     "ename": "LoadError",
     "evalue": "UndefVarError: o not defined",
     "output_type": "error",
     "traceback": [
      "UndefVarError: o not defined",
      "",
      "Stacktrace:",
      " [1] top-level scope",
      "   @ :0",
      " [2] eval",
      "   @ ./boot.jl:368 [inlined]",
      " [3] include_string(mapexpr::typeof(REPL.softscope), mod::Module, code::String, filename::String)",
      "   @ Base ./loading.jl:1428"
     ]
    }
   ],
   "source": [
    "o"
   ]
  },
  {
   "cell_type": "markdown",
   "id": "97d7b939",
   "metadata": {},
   "source": [
    "Create a function that works as bellow"
   ]
  },
  {
   "cell_type": "code",
   "execution_count": null,
   "id": "85bb91d4",
   "metadata": {},
   "outputs": [
    {
     "data": {
      "text/plain": [
       "add_one (generic function with 1 method)"
      ]
     },
     "execution_count": null,
     "metadata": {},
     "output_type": "execute_result"
    }
   ],
   "source": [
    "function add_one(x)\n",
    "    x + 1\n",
    "end"
   ]
  },
  {
   "cell_type": "code",
   "execution_count": null,
   "id": "04ade6b6",
   "metadata": {},
   "outputs": [
    {
     "data": {
      "text/plain": [
       "91"
      ]
     },
     "execution_count": null,
     "metadata": {},
     "output_type": "execute_result"
    }
   ],
   "source": [
    "add_one(90)"
   ]
  },
  {
   "cell_type": "markdown",
   "id": "4ce4f843",
   "metadata": {},
   "source": [
    "##### Example 5"
   ]
  },
  {
   "cell_type": "markdown",
   "id": "3324c177",
   "metadata": {},
   "source": [
    "Create an anonymous function (like lambda in python) that add two to each element in `y`"
   ]
  },
  {
   "cell_type": "code",
   "execution_count": null,
   "id": "1591732e",
   "metadata": {},
   "outputs": [
    {
     "ename": "LoadError",
     "evalue": "invalid redefinition of constant z",
     "output_type": "error",
     "traceback": [
      "invalid redefinition of constant z",
      "",
      "Stacktrace:",
      " [1] top-level scope",
      "   @ In[17]:1",
      " [2] eval",
      "   @ ./boot.jl:368 [inlined]",
      " [3] include_string(mapexpr::typeof(REPL.softscope), mod::Module, code::String, filename::String)",
      "   @ Base ./loading.jl:1428"
     ]
    }
   ],
   "source": [
    "z = x -> x + 2"
   ]
  },
  {
   "cell_type": "code",
   "execution_count": null,
   "id": "54aff0b7",
   "metadata": {},
   "outputs": [
    {
     "data": {
      "text/plain": [
       "3-element Vector{Int64}:\n",
       " 3\n",
       " 4\n",
       " 5"
      ]
     },
     "execution_count": null,
     "metadata": {},
     "output_type": "execute_result"
    }
   ],
   "source": [
    "map(x -> x+2, [1, 2, 3])"
   ]
  },
  {
   "cell_type": "markdown",
   "id": "769fc16c",
   "metadata": {},
   "source": [
    "##### Example 6"
   ]
  },
  {
   "cell_type": "code",
   "execution_count": null,
   "id": "13646492",
   "metadata": {},
   "outputs": [
    {
     "data": {
      "text/plain": [
       "3-element Vector{Int64}:\n",
       " 1\n",
       " 2\n",
       " 3"
      ]
     },
     "execution_count": null,
     "metadata": {},
     "output_type": "execute_result"
    }
   ],
   "source": [
    "p = [1, 2, 3]"
   ]
  },
  {
   "cell_type": "code",
   "execution_count": null,
   "id": "99641b1f",
   "metadata": {},
   "outputs": [
    {
     "data": {
      "text/plain": [
       "3-element Vector{Int64}:\n",
       " 1\n",
       " 2\n",
       " 3"
      ]
     },
     "execution_count": null,
     "metadata": {},
     "output_type": "execute_result"
    }
   ],
   "source": [
    "p"
   ]
  },
  {
   "cell_type": "code",
   "execution_count": null,
   "id": "2ae1b014",
   "metadata": {},
   "outputs": [
    {
     "data": {
      "text/plain": [
       "add_one (generic function with 1 method)"
      ]
     },
     "execution_count": null,
     "metadata": {},
     "output_type": "execute_result"
    }
   ],
   "source": [
    "add_one"
   ]
  },
  {
   "cell_type": "markdown",
   "id": "e141b8a4",
   "metadata": {},
   "source": [
    "Apply function `add_one` to each element in `p`"
   ]
  },
  {
   "cell_type": "code",
   "execution_count": null,
   "id": "9a14edbb",
   "metadata": {},
   "outputs": [],
   "source": [
    "foreach(add_one, p)"
   ]
  },
  {
   "cell_type": "markdown",
   "id": "9b88f6fd",
   "metadata": {},
   "source": [
    "##### Example 7"
   ]
  },
  {
   "cell_type": "code",
   "execution_count": null,
   "id": "d2284fe3",
   "metadata": {},
   "outputs": [
    {
     "data": {
      "text/plain": [
       "17"
      ]
     },
     "execution_count": null,
     "metadata": {},
     "output_type": "execute_result"
    }
   ],
   "source": [
    "some_number = 17"
   ]
  },
  {
   "cell_type": "markdown",
   "id": "9698fcf2",
   "metadata": {},
   "source": [
    "Write an `if` statement that print `Yes` if `some_number` is larger than 6"
   ]
  },
  {
   "cell_type": "code",
   "execution_count": null,
   "id": "e7baaaae",
   "metadata": {},
   "outputs": [
    {
     "name": "stdout",
     "output_type": "stream",
     "text": [
      "Yes\n"
     ]
    }
   ],
   "source": [
    "if some_number > 6\n",
    "    println(\"Yes\")\n",
    "end"
   ]
  },
  {
   "cell_type": "markdown",
   "id": "c9385b0a",
   "metadata": {},
   "source": [
    "##### Example 8"
   ]
  },
  {
   "cell_type": "code",
   "execution_count": null,
   "id": "ed1bc26f",
   "metadata": {},
   "outputs": [
    {
     "data": {
      "text/plain": [
       "(3, 4)"
      ]
     },
     "execution_count": null,
     "metadata": {},
     "output_type": "execute_result"
    }
   ],
   "source": [
    "var_a, var_b = 3, 4"
   ]
  },
  {
   "cell_type": "markdown",
   "id": "c6041ef7",
   "metadata": {},
   "source": [
    "Print out \"It's complicated\" if `var_a` is greater than 1 or `var_b` is not less than 2"
   ]
  },
  {
   "cell_type": "code",
   "execution_count": null,
   "id": "d7f911cb",
   "metadata": {},
   "outputs": [
    {
     "name": "stdout",
     "output_type": "stream",
     "text": [
      "It's complicated"
     ]
    }
   ],
   "source": [
    "if (var_a > 1) || (var_b >= 2)\n",
    "    print(\"It's complicated\")\n",
    "end"
   ]
  },
  {
   "cell_type": "markdown",
   "id": "5d873d7f",
   "metadata": {},
   "source": [
    "##### Example 9"
   ]
  },
  {
   "cell_type": "code",
   "execution_count": null,
   "id": "2d1ceaa1",
   "metadata": {},
   "outputs": [
    {
     "data": {
      "text/plain": [
       "4"
      ]
     },
     "execution_count": null,
     "metadata": {},
     "output_type": "execute_result"
    }
   ],
   "source": [
    "var_b"
   ]
  },
  {
   "cell_type": "markdown",
   "id": "a1aac535",
   "metadata": {},
   "source": [
    "Check whether `var_b` is not less than 2 but not using `>=`"
   ]
  },
  {
   "cell_type": "code",
   "execution_count": null,
   "id": "3c916be4",
   "metadata": {},
   "outputs": [
    {
     "data": {
      "text/plain": [
       "true"
      ]
     },
     "execution_count": null,
     "metadata": {},
     "output_type": "execute_result"
    }
   ],
   "source": [
    "!(var_b < 2)"
   ]
  },
  {
   "cell_type": "markdown",
   "id": "e69afc00",
   "metadata": {},
   "source": [
    "##### Example 10"
   ]
  },
  {
   "cell_type": "code",
   "execution_count": null,
   "id": "8802b982",
   "metadata": {},
   "outputs": [
    {
     "data": {
      "text/plain": [
       "(-2, 3)"
      ]
     },
     "execution_count": null,
     "metadata": {},
     "output_type": "execute_result"
    }
   ],
   "source": [
    "x, y"
   ]
  },
  {
   "cell_type": "markdown",
   "id": "aa2445b4",
   "metadata": {},
   "source": [
    "Create a non-anonymous function that works as bellow in one line"
   ]
  },
  {
   "cell_type": "code",
   "execution_count": null,
   "id": "219a4385",
   "metadata": {},
   "outputs": [
    {
     "data": {
      "text/plain": [
       "f (generic function with 1 method)"
      ]
     },
     "execution_count": null,
     "metadata": {},
     "output_type": "execute_result"
    }
   ],
   "source": [
    "f(x, y) = x + y"
   ]
  },
  {
   "cell_type": "code",
   "execution_count": null,
   "id": "ce14d23a",
   "metadata": {},
   "outputs": [
    {
     "data": {
      "text/plain": [
       "1"
      ]
     },
     "execution_count": null,
     "metadata": {},
     "output_type": "execute_result"
    }
   ],
   "source": [
    "f(x, y)"
   ]
  },
  {
   "cell_type": "markdown",
   "id": "315a683b",
   "metadata": {},
   "source": [
    "##### Example 11"
   ]
  },
  {
   "cell_type": "code",
   "execution_count": null,
   "id": "b6456283",
   "metadata": {},
   "outputs": [
    {
     "data": {
      "text/plain": [
       "(-2, 3)"
      ]
     },
     "execution_count": null,
     "metadata": {},
     "output_type": "execute_result"
    }
   ],
   "source": [
    "x, y"
   ]
  },
  {
   "cell_type": "markdown",
   "id": "1074d1d1",
   "metadata": {},
   "source": [
    "Create a function that calculate $3x^2 + 2y^2 - xy$ as bellow"
   ]
  },
  {
   "cell_type": "code",
   "execution_count": null,
   "id": "0e43ac5e",
   "metadata": {},
   "outputs": [
    {
     "data": {
      "text/plain": [
       "poly (generic function with 1 method)"
      ]
     },
     "execution_count": null,
     "metadata": {},
     "output_type": "execute_result"
    }
   ],
   "source": [
    "function poly(x, y)\n",
    "    return 3x^2 + 2y^2 - x*y\n",
    "end"
   ]
  },
  {
   "cell_type": "code",
   "execution_count": null,
   "id": "19734292",
   "metadata": {},
   "outputs": [
    {
     "data": {
      "text/plain": [
       "36"
      ]
     },
     "execution_count": null,
     "metadata": {},
     "output_type": "execute_result"
    }
   ],
   "source": [
    "poly(x, y)"
   ]
  },
  {
   "cell_type": "markdown",
   "id": "780e3353",
   "metadata": {},
   "source": [
    "##### Example 12"
   ]
  },
  {
   "cell_type": "code",
   "execution_count": null,
   "id": "dbd88ba1",
   "metadata": {},
   "outputs": [
    {
     "ename": "LoadError",
     "evalue": "syntax: \"\\\" is not a unary operator",
     "output_type": "error",
     "traceback": [
      "syntax: \"\\\" is not a unary operator",
      "",
      "Stacktrace:",
      " [1] top-level scope",
      "   @ In[35]:1",
      " [2] eval",
      "   @ ./boot.jl:368 [inlined]",
      " [3] include_string(mapexpr::typeof(REPL.softscope), mod::Module, code::String, filename::String)",
      "   @ Base ./loading.jl:1428"
     ]
    }
   ],
   "source": [
    "\\theta"
   ]
  },
  {
   "cell_type": "code",
   "execution_count": null,
   "id": "7af203aa",
   "metadata": {},
   "outputs": [
    {
     "ename": "LoadError",
     "evalue": "syntax: invalid identifier name \"...\"",
     "output_type": "error",
     "traceback": [
      "syntax: invalid identifier name \"...\"",
      "",
      "Stacktrace:",
      " [1] top-level scope",
      "   @ In[36]:1",
      " [2] eval",
      "   @ ./boot.jl:368 [inlined]",
      " [3] include_string(mapexpr::typeof(REPL.softscope), mod::Module, code::String, filename::String)",
      "   @ Base ./loading.jl:1428"
     ]
    }
   ],
   "source": [
    "function f(x, ..., y):\n",
    "    return nothing\n",
    "end"
   ]
  },
  {
   "cell_type": "markdown",
   "id": "9d1cbecf",
   "metadata": {},
   "source": [
    "### Primitive Types"
   ]
  },
  {
   "cell_type": "markdown",
   "id": "14a56eab",
   "metadata": {},
   "source": [
    "##### Example 1"
   ]
  },
  {
   "cell_type": "markdown",
   "id": "9bc7fa2c",
   "metadata": {},
   "source": [
    "Explain why?"
   ]
  },
  {
   "cell_type": "code",
   "execution_count": null,
   "id": "f4054d5e",
   "metadata": {},
   "outputs": [
    {
     "data": {
      "text/plain": [
       "0.6666666666666666"
      ]
     },
     "execution_count": null,
     "metadata": {},
     "output_type": "execute_result"
    }
   ],
   "source": [
    "2/3"
   ]
  },
  {
   "cell_type": "code",
   "execution_count": null,
   "id": "6ced69a1",
   "metadata": {},
   "outputs": [
    {
     "data": {
      "text/plain": [
       "false"
      ]
     },
     "execution_count": null,
     "metadata": {},
     "output_type": "execute_result"
    }
   ],
   "source": [
    "2//3 == 2/3"
   ]
  },
  {
   "cell_type": "markdown",
   "id": "11354fcb",
   "metadata": {},
   "source": [
    "**Explain** `2//3` is rational number which has infinite decimal points => not equal to 2/3 (rounded)"
   ]
  },
  {
   "cell_type": "markdown",
   "id": "51fab3c6",
   "metadata": {},
   "source": [
    "### Others"
   ]
  },
  {
   "cell_type": "markdown",
   "id": "af9677a5",
   "metadata": {},
   "source": [
    "##### Example 1: Install a package"
   ]
  },
  {
   "cell_type": "markdown",
   "id": "f6f2a13d",
   "metadata": {},
   "source": [
    "Install package `Sympy`"
   ]
  },
  {
   "cell_type": "code",
   "execution_count": null,
   "id": "ad1ef4c6",
   "metadata": {},
   "outputs": [],
   "source": [
    "import Pkg;"
   ]
  },
  {
   "cell_type": "code",
   "execution_count": null,
   "id": "756f4e73",
   "metadata": {},
   "outputs": [
    {
     "name": "stderr",
     "output_type": "stream",
     "text": [
      "\u001b[32m\u001b[1m    Updating\u001b[22m\u001b[39m registry at `~/.julia/registries/General.toml`\n",
      "\u001b[32m\u001b[1m   Resolving\u001b[22m\u001b[39m package versions...\n",
      "\u001b[32m\u001b[1m  No Changes\u001b[22m\u001b[39m to `~/.julia/environments/v1.8/Project.toml`\n",
      "\u001b[32m\u001b[1m  No Changes\u001b[22m\u001b[39m to `~/.julia/environments/v1.8/Manifest.toml`\n"
     ]
    }
   ],
   "source": [
    "Pkg.add(\"SymPy\")"
   ]
  },
  {
   "cell_type": "markdown",
   "id": "482fbfa6",
   "metadata": {},
   "source": [
    "##### Example 2"
   ]
  },
  {
   "cell_type": "markdown",
   "id": "363014f7",
   "metadata": {},
   "source": [
    "Import package Sympy"
   ]
  },
  {
   "cell_type": "code",
   "execution_count": null,
   "id": "8738e8a1",
   "metadata": {},
   "outputs": [],
   "source": [
    "using SymPy"
   ]
  },
  {
   "cell_type": "code",
   "execution_count": null,
   "id": "1dd0468b",
   "metadata": {},
   "outputs": [
    {
     "data": {
      "text/latex": [
       "$x$"
      ],
      "text/plain": [
       "x"
      ]
     },
     "execution_count": null,
     "metadata": {},
     "output_type": "execute_result"
    }
   ],
   "source": [
    "x = Sym(\"x\")"
   ]
  },
  {
   "cell_type": "markdown",
   "id": "646b360a",
   "metadata": {},
   "source": [
    "##### Example 3"
   ]
  },
  {
   "cell_type": "markdown",
   "id": "aaff4adc",
   "metadata": {},
   "source": [
    "Create a function $y$"
   ]
  },
  {
   "cell_type": "code",
   "execution_count": null,
   "id": "f7285ce7",
   "metadata": {},
   "outputs": [],
   "source": [
    "using SymPy"
   ]
  },
  {
   "cell_type": "code",
   "execution_count": null,
   "id": "ceae04af",
   "metadata": {},
   "outputs": [
    {
     "data": {
      "text/latex": [
       "$\\begin{align*}y\\end{align*}$\n"
      ],
      "text/plain": [
       "y"
      ]
     },
     "execution_count": null,
     "metadata": {},
     "output_type": "execute_result"
    }
   ],
   "source": [
    "y = SymFunction(\"y\")"
   ]
  },
  {
   "cell_type": "code",
   "execution_count": null,
   "id": "4c39c6eb",
   "metadata": {},
   "outputs": [
    {
     "data": {
      "text/latex": [
       "$y{\\left(x \\right)}$"
      ],
      "text/plain": [
       "y(x)"
      ]
     },
     "execution_count": null,
     "metadata": {},
     "output_type": "execute_result"
    }
   ],
   "source": [
    "y(x)"
   ]
  },
  {
   "cell_type": "code",
   "execution_count": null,
   "id": "70de59b6",
   "metadata": {},
   "outputs": [
    {
     "data": {
      "text/latex": [
       "$\\frac{d}{d x} y{\\left(x \\right)}$"
      ],
      "text/plain": [
       "d       \n",
       "──(y(x))\n",
       "dx      "
      ]
     },
     "execution_count": null,
     "metadata": {},
     "output_type": "execute_result"
    }
   ],
   "source": [
    "dy = diff(y(x), x)"
   ]
  },
  {
   "cell_type": "code",
   "execution_count": null,
   "id": "d6cca14f",
   "metadata": {},
   "outputs": [
    {
     "data": {
      "text/latex": [
       "$\\frac{d^{2}}{d x^{2}} y{\\left(x \\right)}$"
      ],
      "text/plain": [
       "  2      \n",
       " d       \n",
       "───(y(x))\n",
       "  2      \n",
       "dx       "
      ]
     },
     "execution_count": null,
     "metadata": {},
     "output_type": "execute_result"
    }
   ],
   "source": [
    "diff(dy, x)"
   ]
  },
  {
   "cell_type": "code",
   "execution_count": null,
   "id": "a325b6dd",
   "metadata": {},
   "outputs": [
    {
     "data": {
      "text/plain": [
       "Sym"
      ]
     },
     "execution_count": null,
     "metadata": {},
     "output_type": "execute_result"
    }
   ],
   "source": [
    "typeof(dy)"
   ]
  },
  {
   "cell_type": "code",
   "execution_count": null,
   "id": "80d102fc",
   "metadata": {},
   "outputs": [
    {
     "data": {
      "text/latex": [
       "$x^{2} + y^{2}{\\left(x \\right)} - 1$"
      ],
      "text/plain": [
       " 2    2       \n",
       "x  + y (x) - 1"
      ]
     },
     "execution_count": null,
     "metadata": {},
     "output_type": "execute_result"
    }
   ],
   "source": [
    "c = x^2 + y(x)^2 - 1"
   ]
  },
  {
   "cell_type": "code",
   "execution_count": null,
   "id": "88053780",
   "metadata": {},
   "outputs": [
    {
     "data": {
      "text/latex": [
       "$2 x + 2 y{\\left(x \\right)} \\frac{d}{d x} y{\\left(x \\right)}$"
      ],
      "text/plain": [
       "             d       \n",
       "2⋅x + 2⋅y(x)⋅──(y(x))\n",
       "             dx      "
      ]
     },
     "execution_count": null,
     "metadata": {},
     "output_type": "execute_result"
    }
   ],
   "source": [
    "dc = diff(c, x)"
   ]
  },
  {
   "cell_type": "code",
   "execution_count": null,
   "id": "902e61a8",
   "metadata": {},
   "outputs": [
    {
     "data": {
      "text/latex": [
       "$\\left[ \\begin{array}{r}- \\frac{x}{y{\\left(x \\right)}}\\end{array} \\right]$\n"
      ],
      "text/plain": [
       "1-element Vector{Sym}:\n",
       " -x/y(x)"
      ]
     },
     "execution_count": null,
     "metadata": {},
     "output_type": "execute_result"
    }
   ],
   "source": [
    "dydx = solve(dc, dy)"
   ]
  },
  {
   "cell_type": "code",
   "execution_count": null,
   "id": "949fdd96",
   "metadata": {},
   "outputs": [
    {
     "data": {
      "text/plain": [
       "Vector{Sym}\u001b[90m (alias for \u001b[39m\u001b[90mArray{Sym, 1}\u001b[39m\u001b[90m)\u001b[39m"
      ]
     },
     "execution_count": null,
     "metadata": {},
     "output_type": "execute_result"
    }
   ],
   "source": [
    "typeof(dydx)"
   ]
  },
  {
   "cell_type": "code",
   "execution_count": null,
   "id": "3ca06004",
   "metadata": {},
   "outputs": [
    {
     "data": {
      "text/latex": [
       "$- \\frac{x}{y{\\left(x \\right)}}$"
      ],
      "text/plain": [
       "-x  \n",
       "────\n",
       "y(x)"
      ]
     },
     "execution_count": null,
     "metadata": {},
     "output_type": "execute_result"
    }
   ],
   "source": [
    "dydx[1]"
   ]
  },
  {
   "cell_type": "markdown",
   "id": "b7a983b1",
   "metadata": {},
   "source": [
    "https://youtu.be/BnTYMOOPEzw?t=6357"
   ]
  },
  {
   "cell_type": "markdown",
   "id": "3e900898-745d-46f4-a7b2-4a74a00ade84",
   "metadata": {},
   "source": [
    "### Partial Function"
   ]
  },
  {
   "cell_type": "markdown",
   "id": "3b9cef86-45aa-4f25-9f9e-3ed878ef8c27",
   "metadata": {},
   "source": [
    "##### Example 4"
   ]
  },
  {
   "cell_type": "code",
   "execution_count": null,
   "id": "7c766b85-3cc6-4cdb-b654-41cb8a9da791",
   "metadata": {},
   "outputs": [
    {
     "data": {
      "text/plain": [
       "g (generic function with 1 method)"
      ]
     },
     "execution_count": null,
     "metadata": {},
     "output_type": "execute_result"
    }
   ],
   "source": [
    "function g(a, b, c)\n",
    "    return a + b + c\n",
    "end"
   ]
  },
  {
   "cell_type": "markdown",
   "id": "4080fbbe-2351-428e-be3a-47dec548df85",
   "metadata": {},
   "source": [
    "Define a function `f` that works as bellow"
   ]
  },
  {
   "cell_type": "code",
   "execution_count": null,
   "id": "7b1be20e-5c09-4c81-817e-ab2ec7079347",
   "metadata": {},
   "outputs": [
    {
     "data": {
      "text/plain": [
       "f (generic function with 2 methods)"
      ]
     },
     "execution_count": null,
     "metadata": {},
     "output_type": "execute_result"
    }
   ],
   "source": [
    "f(x) = g(x, 2, 3)"
   ]
  },
  {
   "cell_type": "code",
   "execution_count": null,
   "id": "b563a444-550f-4fa4-a00c-98005b7a7fba",
   "metadata": {},
   "outputs": [
    {
     "data": {
      "text/plain": [
       "6"
      ]
     },
     "execution_count": null,
     "metadata": {},
     "output_type": "execute_result"
    }
   ],
   "source": [
    "f(1)"
   ]
  },
  {
   "cell_type": "markdown",
   "id": "a526d88a-5c9c-4965-87bf-4e4b04aec74d",
   "metadata": {},
   "source": [
    "##### Example"
   ]
  },
  {
   "cell_type": "code",
   "execution_count": null,
   "id": "e4b6ed5b-b375-4b88-9fac-697d3bde98fc",
   "metadata": {},
   "outputs": [
    {
     "data": {
      "text/plain": [
       "5-element Vector{Int64}:\n",
       " 1\n",
       " 2\n",
       " 3\n",
       " 4\n",
       " 5"
      ]
     },
     "execution_count": null,
     "metadata": {},
     "output_type": "execute_result"
    }
   ],
   "source": [
    "list = [1, 2, 3, 4, 5]"
   ]
  },
  {
   "cell_type": "markdown",
   "id": "04b70712-008d-4271-961d-3f10dc85c30c",
   "metadata": {},
   "source": [
    "Assign value from `list` to `a`, `b` as bellow without explicitly define the index "
   ]
  },
  {
   "cell_type": "code",
   "execution_count": null,
   "id": "e7154dcd-5584-45d5-9ec8-986a98b80350",
   "metadata": {},
   "outputs": [
    {
     "data": {
      "text/plain": [
       "5-element Vector{Int64}:\n",
       " 1\n",
       " 2\n",
       " 3\n",
       " 4\n",
       " 5"
      ]
     },
     "execution_count": null,
     "metadata": {},
     "output_type": "execute_result"
    }
   ],
   "source": [
    "a, b... = list"
   ]
  },
  {
   "cell_type": "code",
   "execution_count": null,
   "id": "72518ff0-c8eb-4553-b864-6464dfdd74aa",
   "metadata": {},
   "outputs": [
    {
     "data": {
      "text/plain": [
       "1"
      ]
     },
     "execution_count": null,
     "metadata": {},
     "output_type": "execute_result"
    }
   ],
   "source": [
    "a"
   ]
  },
  {
   "cell_type": "code",
   "execution_count": null,
   "id": "b37ef66d-0e12-43e5-ae58-0a4986580cbf",
   "metadata": {},
   "outputs": [
    {
     "data": {
      "text/plain": [
       "Vector{Int64}\u001b[90m (alias for \u001b[39m\u001b[90mArray{Int64, 1}\u001b[39m\u001b[90m)\u001b[39m"
      ]
     },
     "execution_count": null,
     "metadata": {},
     "output_type": "execute_result"
    }
   ],
   "source": [
    "typeof(b)"
   ]
  },
  {
   "cell_type": "markdown",
   "id": "7a0c9ffe-b4c7-46a9-b1fd-b2e97087aac2",
   "metadata": {},
   "source": [
    "##### Example"
   ]
  },
  {
   "cell_type": "markdown",
   "id": "2cd8494c-adbd-4f37-a7de-06c687adea1d",
   "metadata": {},
   "source": [
    "Create a tuple"
   ]
  },
  {
   "cell_type": "code",
   "execution_count": null,
   "id": "40458926-b7d0-489d-add5-1639ed263167",
   "metadata": {},
   "outputs": [
    {
     "data": {
      "text/plain": [
       "(one = \"falcon 1\", two = \"falcon 9\")"
      ]
     },
     "execution_count": null,
     "metadata": {},
     "output_type": "execute_result"
    }
   ],
   "source": [
    "rockets = (one = \"falcon 1\", two = \"falcon 9\")"
   ]
  },
  {
   "cell_type": "code",
   "execution_count": null,
   "id": "42c5f30d-0e14-49b7-99fe-fa525387a278",
   "metadata": {},
   "outputs": [
    {
     "data": {
      "text/plain": [
       "\"falcon 1\""
      ]
     },
     "execution_count": null,
     "metadata": {},
     "output_type": "execute_result"
    }
   ],
   "source": [
    "rockets.one"
   ]
  },
  {
   "cell_type": "code",
   "execution_count": null,
   "id": "8cf67dd2-94da-48c3-8688-04dde5a8e4d5",
   "metadata": {},
   "outputs": [
    {
     "data": {
      "text/plain": [
       "\"falcon 9\""
      ]
     },
     "execution_count": null,
     "metadata": {},
     "output_type": "execute_result"
    }
   ],
   "source": [
    "rockets.two"
   ]
  },
  {
   "cell_type": "code",
   "execution_count": null,
   "id": "ac516fa4-e9a4-4807-a51c-82d911c7f167",
   "metadata": {},
   "outputs": [
    {
     "data": {
      "text/plain": [
       "\"falcon 9\""
      ]
     },
     "execution_count": null,
     "metadata": {},
     "output_type": "execute_result"
    }
   ],
   "source": [
    "rockets[:two]"
   ]
  },
  {
   "cell_type": "markdown",
   "id": "81287cdb-fa4e-4a5d-8575-764afcba5b70",
   "metadata": {},
   "source": [
    "##### Example"
   ]
  },
  {
   "cell_type": "code",
   "execution_count": null,
   "id": "d1b7b3e0-3cf4-40c2-80ed-48a68c017cdc",
   "metadata": {},
   "outputs": [
    {
     "data": {
      "text/plain": [
       "(one = \"falcon 1\", two = \"falcon 9\")"
      ]
     },
     "execution_count": null,
     "metadata": {},
     "output_type": "execute_result"
    }
   ],
   "source": [
    "rockets = (one = \"falcon 1\", two = \"falcon 9\")"
   ]
  },
  {
   "cell_type": "markdown",
   "id": "c6a97fd3-bb44-4219-ba0d-8a321331cfb7",
   "metadata": {},
   "source": [
    "Access the key `two` of a tuple `rockets` by using bracket"
   ]
  },
  {
   "cell_type": "code",
   "execution_count": null,
   "id": "34cd31f5-d55e-40a3-9610-68235dca0c4e",
   "metadata": {},
   "outputs": [
    {
     "data": {
      "text/plain": [
       "\"falcon 9\""
      ]
     },
     "execution_count": null,
     "metadata": {},
     "output_type": "execute_result"
    }
   ],
   "source": [
    "rockets[:two]"
   ]
  },
  {
   "cell_type": "code",
   "execution_count": null,
   "id": "9fd0d95d-d721-4131-870e-b8c2071f2f4c",
   "metadata": {},
   "outputs": [
    {
     "data": {
      "text/plain": [
       ":thing"
      ]
     },
     "execution_count": null,
     "metadata": {},
     "output_type": "execute_result"
    }
   ],
   "source": [
    ":thing"
   ]
  },
  {
   "cell_type": "code",
   "execution_count": null,
   "id": "4a089de5-82e1-4838-9468-2a86303342d5",
   "metadata": {},
   "outputs": [
    {
     "data": {
      "text/plain": [
       "Symbol"
      ]
     },
     "execution_count": null,
     "metadata": {},
     "output_type": "execute_result"
    }
   ],
   "source": [
    "typeof(:thing)"
   ]
  },
  {
   "cell_type": "markdown",
   "id": "58efbeae-d01b-4b6e-90d3-a042c42e5125",
   "metadata": {},
   "source": [
    "##### Example"
   ]
  },
  {
   "cell_type": "markdown",
   "id": "b6581b93-aeb4-44d7-a569-7a054948289b",
   "metadata": {},
   "source": [
    "Assign a Julia symbol named `brain` to variable `x`"
   ]
  },
  {
   "cell_type": "code",
   "execution_count": null,
   "id": "1bac3ab2-fe17-41c5-abee-641e11a92912",
   "metadata": {},
   "outputs": [
    {
     "data": {
      "text/plain": [
       ":brain"
      ]
     },
     "execution_count": null,
     "metadata": {},
     "output_type": "execute_result"
    }
   ],
   "source": [
    "x = :brain"
   ]
  },
  {
   "cell_type": "markdown",
   "id": "26eae15e-0d89-43e4-a8cf-4a711c132f46",
   "metadata": {},
   "source": [
    "### Keywords Argument"
   ]
  },
  {
   "cell_type": "markdown",
   "id": "259c6fb1-e5a9-4c23-9c2d-3711071d4a75",
   "metadata": {},
   "source": [
    "Create a function takes two numbers and sum it up. As bellow\n",
    "\n",
    "Hint: There's only one func."
   ]
  },
  {
   "cell_type": "code",
   "execution_count": null,
   "id": "c5d4fd18-6c20-43d7-85d1-283b87bc8747",
   "metadata": {},
   "outputs": [
    {
     "data": {
      "text/plain": [
       "add (generic function with 2 methods)"
      ]
     },
     "execution_count": null,
     "metadata": {},
     "output_type": "execute_result"
    }
   ],
   "source": [
    "function add(a, b = 10)\n",
    "    return a + b\n",
    "end"
   ]
  },
  {
   "cell_type": "code",
   "execution_count": null,
   "id": "a1e277fd-4e96-49ae-a7e1-662b91b9fee0",
   "metadata": {},
   "outputs": [
    {
     "data": {
      "text/plain": [
       "11"
      ]
     },
     "execution_count": null,
     "metadata": {},
     "output_type": "execute_result"
    }
   ],
   "source": [
    "add(1)"
   ]
  },
  {
   "cell_type": "code",
   "execution_count": null,
   "id": "d86d2508-aa34-4e22-9a0b-cf2a56e595cb",
   "metadata": {},
   "outputs": [
    {
     "data": {
      "text/plain": [
       "3"
      ]
     },
     "execution_count": null,
     "metadata": {},
     "output_type": "execute_result"
    }
   ],
   "source": [
    "add(1, 2)"
   ]
  },
  {
   "cell_type": "markdown",
   "id": "a6887c2e-075a-4200-9dfe-61210a7c15c5",
   "metadata": {},
   "source": [
    "### Array Types"
   ]
  },
  {
   "cell_type": "markdown",
   "id": "97aa32a8-9bca-437b-9400-ab4de1284944",
   "metadata": {},
   "source": [
    "##### Example 1"
   ]
  },
  {
   "cell_type": "markdown",
   "id": "42264826-0233-4d9b-a5c6-75845ba8f9d7",
   "metadata": {},
   "source": [
    "Create a matrix `A`"
   ]
  },
  {
   "cell_type": "code",
   "execution_count": null,
   "id": "effcb294-8699-42c3-819c-c9cee25fbf61",
   "metadata": {},
   "outputs": [
    {
     "data": {
      "text/plain": [
       "2×3 Matrix{Int64}:\n",
       " 1  2  3\n",
       " 4  5  6"
      ]
     },
     "execution_count": null,
     "metadata": {},
     "output_type": "execute_result"
    }
   ],
   "source": [
    "A = [1 2 3; 4 5 6]"
   ]
  },
  {
   "cell_type": "markdown",
   "id": "1d497e5a-1f94-4d1f-824e-1a2329720289",
   "metadata": {},
   "source": [
    "##### Example"
   ]
  },
  {
   "cell_type": "code",
   "execution_count": null,
   "id": "509e5638-43a0-42bb-93fc-3a5900435296",
   "metadata": {},
   "outputs": [
    {
     "data": {
      "text/plain": [
       "3-element Vector{Int64}:\n",
       " 1\n",
       " 2\n",
       " 3"
      ]
     },
     "execution_count": null,
     "metadata": {},
     "output_type": "execute_result"
    }
   ],
   "source": [
    "v = [1, 2, 3]"
   ]
  },
  {
   "cell_type": "code",
   "execution_count": null,
   "id": "f4339347-9775-42d1-bfbf-d93bee4b24d8",
   "metadata": {},
   "outputs": [
    {
     "data": {
      "text/plain": [
       "3-element Vector{Int64}:\n",
       " 1\n",
       " 2\n",
       " 3"
      ]
     },
     "execution_count": null,
     "metadata": {},
     "output_type": "execute_result"
    }
   ],
   "source": [
    "v"
   ]
  },
  {
   "cell_type": "markdown",
   "id": "0a54a175-d257-42a7-827c-e33103aea4c5",
   "metadata": {},
   "source": [
    "Add a value `10` to vector `v` without specify the index"
   ]
  },
  {
   "cell_type": "code",
   "execution_count": null,
   "id": "0d7b9399-68eb-465d-84e6-703cd012a963",
   "metadata": {},
   "outputs": [
    {
     "data": {
      "text/plain": [
       "4-element Vector{Int64}:\n",
       "  1\n",
       "  2\n",
       "  3\n",
       " 10"
      ]
     },
     "execution_count": null,
     "metadata": {},
     "output_type": "execute_result"
    }
   ],
   "source": [
    "push!(v, 10)"
   ]
  },
  {
   "cell_type": "code",
   "execution_count": null,
   "id": "2aa61df6-afcc-46ce-8411-2e32122efbbb",
   "metadata": {},
   "outputs": [
    {
     "data": {
      "text/plain": [
       "4-element Vector{Int64}:\n",
       "  1\n",
       "  2\n",
       "  3\n",
       " 10"
      ]
     },
     "execution_count": null,
     "metadata": {},
     "output_type": "execute_result"
    }
   ],
   "source": [
    "v"
   ]
  },
  {
   "cell_type": "code",
   "execution_count": null,
   "id": "e8fbede8-836c-4095-814b-14774d09b224",
   "metadata": {},
   "outputs": [
    {
     "data": {
      "text/plain": [
       "4"
      ]
     },
     "execution_count": null,
     "metadata": {},
     "output_type": "execute_result"
    }
   ],
   "source": [
    "length(v)"
   ]
  },
  {
   "cell_type": "code",
   "execution_count": null,
   "id": "feba2395-de48-4ee2-9998-2e7f282a548c",
   "metadata": {},
   "outputs": [
    {
     "data": {
      "text/plain": [
       "1"
      ]
     },
     "execution_count": null,
     "metadata": {},
     "output_type": "execute_result"
    }
   ],
   "source": [
    "x = 1"
   ]
  },
  {
   "cell_type": "code",
   "execution_count": null,
   "id": "e48687bc-1f13-4e3b-a9fb-8b86047ce236",
   "metadata": {},
   "outputs": [
    {
     "data": {
      "text/plain": [
       "1"
      ]
     },
     "execution_count": null,
     "metadata": {},
     "output_type": "execute_result"
    }
   ],
   "source": [
    "length(x)"
   ]
  },
  {
   "cell_type": "code",
   "execution_count": null,
   "id": "533637bd-60e4-4d64-a4e5-5e5638594a4a",
   "metadata": {},
   "outputs": [
    {
     "data": {
      "text/plain": [
       "1×3 Matrix{Float64}:\n",
       " 0.969481  0.971624  0.970286"
      ]
     },
     "execution_count": null,
     "metadata": {},
     "output_type": "execute_result"
    }
   ],
   "source": [
    "rand(1, 3)"
   ]
  },
  {
   "cell_type": "code",
   "execution_count": null,
   "id": "0d742ab0-4d76-4ab5-b857-a1e835a7c2cf",
   "metadata": {},
   "outputs": [
    {
     "data": {
      "text/plain": [
       "2×3 Matrix{Int64}:\n",
       " 1  2  3\n",
       " 4  5  6"
      ]
     },
     "execution_count": null,
     "metadata": {},
     "output_type": "execute_result"
    }
   ],
   "source": [
    "A"
   ]
  },
  {
   "cell_type": "code",
   "execution_count": null,
   "id": "ecdf9d04-e30e-403b-8462-4db867f5f0f6",
   "metadata": {},
   "outputs": [
    {
     "data": {
      "text/plain": [
       "(2, 3)"
      ]
     },
     "execution_count": null,
     "metadata": {},
     "output_type": "execute_result"
    }
   ],
   "source": [
    "size(A)"
   ]
  },
  {
   "cell_type": "code",
   "execution_count": null,
   "id": "3d2bdd99-94fb-4ef1-92af-f3c1ae3f2ff4",
   "metadata": {},
   "outputs": [
    {
     "data": {
      "text/plain": [
       "(4,)"
      ]
     },
     "execution_count": null,
     "metadata": {},
     "output_type": "execute_result"
    }
   ],
   "source": [
    "size(v)"
   ]
  },
  {
   "cell_type": "code",
   "execution_count": null,
   "id": "aca07a57-c938-410d-b83e-ad6b449f6dbd",
   "metadata": {},
   "outputs": [
    {
     "data": {
      "text/plain": [
       "3-element Vector{Float64}:\n",
       " 0.0\n",
       " 0.0\n",
       " 0.0"
      ]
     },
     "execution_count": null,
     "metadata": {},
     "output_type": "execute_result"
    }
   ],
   "source": [
    "zeros(3)"
   ]
  },
  {
   "cell_type": "code",
   "execution_count": null,
   "id": "206cb232-7302-42fd-b1d9-8946d91e3a00",
   "metadata": {},
   "outputs": [
    {
     "data": {
      "text/plain": [
       "10-element Vector{Float64}:\n",
       " -0.401348324088007\n",
       " -0.170080784851108\n",
       "  0.3056391780348198\n",
       " -0.896706843695948\n",
       "  0.12747793701740387\n",
       " -0.8841619916337986\n",
       " -0.2933644982684619\n",
       " -0.6883985281549515\n",
       " -1.1114019235094095\n",
       " -0.6788492322828672"
      ]
     },
     "execution_count": null,
     "metadata": {},
     "output_type": "execute_result"
    }
   ],
   "source": [
    "randn(10)"
   ]
  },
  {
   "cell_type": "code",
   "execution_count": null,
   "id": "1b6f1cf8-602d-4576-b2ea-777c0715e428",
   "metadata": {},
   "outputs": [
    {
     "data": {
      "text/plain": [
       "10-element Vector{Float64}:\n",
       " 0.6656011383750504\n",
       " 0.07089014008818528\n",
       " 0.14339924978480145\n",
       " 0.798141844660147\n",
       " 0.059007762577517275\n",
       " 0.5433776190281081\n",
       " 0.946073715447114\n",
       " 0.23305498367778166\n",
       " 0.13630127784550128\n",
       " 0.8578536015066247"
      ]
     },
     "execution_count": null,
     "metadata": {},
     "output_type": "execute_result"
    }
   ],
   "source": [
    "rand(10)"
   ]
  },
  {
   "cell_type": "code",
   "execution_count": null,
   "id": "481c238e-6bac-4573-bee0-d52ff282d488",
   "metadata": {},
   "outputs": [
    {
     "data": {
      "text/plain": [
       "6"
      ]
     },
     "execution_count": null,
     "metadata": {},
     "output_type": "execute_result"
    }
   ],
   "source": [
    "sum( )"
   ]
  },
  {
   "cell_type": "markdown",
   "id": "468db2da-f67b-48e8-aaf0-9fb57af5c75d",
   "metadata": {},
   "source": [
    "What are the difference between `using Statistics` and `import Statistics`"
   ]
  },
  {
   "cell_type": "markdown",
   "id": "e01acafe-66a5-4507-bd79-d6b4a3306560",
   "metadata": {},
   "source": [
    "**Explain**\n",
    "- `using Statistics`: import all the things that exported in package `Statistics`\n",
    "- `import Statistics`: not import all the things that export"
   ]
  },
  {
   "cell_type": "markdown",
   "id": "307b0d8b-c94b-4088-9ab9-3fc89eed38c1",
   "metadata": {},
   "source": [
    "##### Example "
   ]
  },
  {
   "cell_type": "code",
   "execution_count": null,
   "id": "2f1d6521-3765-4a33-b194-ffef1ec00aa1",
   "metadata": {},
   "outputs": [
    {
     "data": {
      "text/plain": [
       "3×3 Matrix{Int64}:\n",
       " 1  2  3\n",
       " 4  5  6\n",
       " 7  8  9"
      ]
     },
     "execution_count": null,
     "metadata": {},
     "output_type": "execute_result"
    }
   ],
   "source": [
    "xs = [1 2 3;\n",
    "      4 5 6;\n",
    "      7 8 9]"
   ]
  },
  {
   "cell_type": "code",
   "execution_count": null,
   "id": "cee8b808-b106-45fc-96d9-300ece2c033f",
   "metadata": {},
   "outputs": [
    {
     "data": {
      "text/plain": [
       "3×3 Matrix{Int64}:\n",
       " 1  2  3\n",
       " 4  5  6\n",
       " 7  8  9"
      ]
     },
     "execution_count": null,
     "metadata": {},
     "output_type": "execute_result"
    }
   ],
   "source": [
    "xs"
   ]
  },
  {
   "cell_type": "markdown",
   "id": "a5fd0714-c280-43f2-a839-e6160d01161c",
   "metadata": {},
   "source": [
    "Return all values from row `2` to the last row without specify the row"
   ]
  },
  {
   "cell_type": "code",
   "execution_count": null,
   "id": "6a3eefe5-9c29-4252-9634-08d295652e66",
   "metadata": {},
   "outputs": [
    {
     "data": {
      "text/plain": [
       "8-element Vector{Int64}:\n",
       " 4\n",
       " 7\n",
       " 2\n",
       " 5\n",
       " 8\n",
       " 3\n",
       " 6\n",
       " 9"
      ]
     },
     "execution_count": null,
     "metadata": {},
     "output_type": "execute_result"
    }
   ],
   "source": [
    "xs[2:end]"
   ]
  },
  {
   "cell_type": "markdown",
   "id": "3d90d703-35cd-494f-80c6-2b6c8392291a",
   "metadata": {},
   "source": [
    "Return all values of column `1`"
   ]
  },
  {
   "cell_type": "code",
   "execution_count": null,
   "id": "7f2d7405-cb84-4691-845d-6ea9f0f24a26",
   "metadata": {},
   "outputs": [
    {
     "data": {
      "text/plain": [
       "3-element Vector{Int64}:\n",
       " 1\n",
       " 4\n",
       " 7"
      ]
     },
     "execution_count": null,
     "metadata": {},
     "output_type": "execute_result"
    }
   ],
   "source": [
    "xs[:, 1]"
   ]
  },
  {
   "cell_type": "markdown",
   "id": "f560938e-8516-47a5-ab14-f8bd4f9bd8f6",
   "metadata": {},
   "source": [
    "Return all values of row `2`"
   ]
  },
  {
   "cell_type": "code",
   "execution_count": null,
   "id": "93cfcaf0-c41e-4612-8cc9-856c12c5d377",
   "metadata": {},
   "outputs": [
    {
     "data": {
      "text/plain": [
       "3-element Vector{Int64}:\n",
       " 4\n",
       " 5\n",
       " 6"
      ]
     },
     "execution_count": null,
     "metadata": {},
     "output_type": "execute_result"
    }
   ],
   "source": [
    "xs[2, :]"
   ]
  },
  {
   "cell_type": "markdown",
   "id": "72cfbae3-09f4-4133-a7d4-3b696e44fd35",
   "metadata": {},
   "source": [
    "##### Example"
   ]
  },
  {
   "cell_type": "code",
   "execution_count": null,
   "id": "373f6804-3f52-457b-8902-18687efd899e",
   "metadata": {},
   "outputs": [
    {
     "data": {
      "text/plain": [
       "5-element Vector{Float64}:\n",
       " 0.0\n",
       " 0.0\n",
       " 0.0\n",
       " 0.0\n",
       " 0.0"
      ]
     },
     "execution_count": null,
     "metadata": {},
     "output_type": "execute_result"
    }
   ],
   "source": [
    "xs = zeros(5)"
   ]
  },
  {
   "cell_type": "code",
   "execution_count": null,
   "id": "3b39168a-6cc6-4320-bca2-1244e97fbe79",
   "metadata": {},
   "outputs": [
    {
     "data": {
      "text/plain": [
       "5-element Vector{Float64}:\n",
       " 0.0\n",
       " 1.0\n",
       " 2.0\n",
       " 3.0\n",
       " 0.0"
      ]
     },
     "execution_count": null,
     "metadata": {},
     "output_type": "execute_result"
    }
   ],
   "source": [
    "xs"
   ]
  },
  {
   "cell_type": "markdown",
   "id": "7395c87f-ba8e-46fc-81e2-682d91ec3dcf",
   "metadata": {},
   "source": [
    "Set the values of `xs`"
   ]
  },
  {
   "cell_type": "code",
   "execution_count": null,
   "id": "73f88fb4-3962-49da-b5a0-db383e0689da",
   "metadata": {},
   "outputs": [
    {
     "data": {
      "text/plain": [
       "3-element Vector{Int64}:\n",
       " 1\n",
       " 2\n",
       " 3"
      ]
     },
     "execution_count": null,
     "metadata": {},
     "output_type": "execute_result"
    }
   ],
   "source": [
    "xs[2:4] = [1, 2, 3]"
   ]
  },
  {
   "cell_type": "code",
   "execution_count": null,
   "id": "2afb0ec7-1649-4650-8dc2-1958eda0b383",
   "metadata": {},
   "outputs": [
    {
     "data": {
      "text/plain": [
       "5-element Vector{Float64}:\n",
       " 0.0\n",
       " 1.0\n",
       " 2.0\n",
       " 3.0\n",
       " 0.0"
      ]
     },
     "execution_count": null,
     "metadata": {},
     "output_type": "execute_result"
    }
   ],
   "source": [
    "xs"
   ]
  },
  {
   "cell_type": "markdown",
   "id": "d43102a5-0322-45b3-89b3-991ec279a24c",
   "metadata": {},
   "source": [
    "### `map()`"
   ]
  },
  {
   "cell_type": "markdown",
   "id": "dcc74e9e-5b4c-4a0b-83eb-d5639d51dca0",
   "metadata": {},
   "source": [
    "##### Example 1"
   ]
  },
  {
   "cell_type": "code",
   "execution_count": null,
   "id": "ea4efe88-6d15-45ed-9bea-27d57a5bc66c",
   "metadata": {},
   "outputs": [
    {
     "data": {
      "text/plain": [
       "3-element Vector{Int64}:\n",
       " 1\n",
       " 2\n",
       " 3"
      ]
     },
     "execution_count": null,
     "metadata": {},
     "output_type": "execute_result"
    }
   ],
   "source": [
    "xs = [1, 2, 3]"
   ]
  },
  {
   "cell_type": "code",
   "execution_count": null,
   "id": "bec6c5cc-a6b9-4729-ba79-fb1309335878",
   "metadata": {},
   "outputs": [
    {
     "data": {
      "text/plain": [
       "3-element Vector{Int64}:\n",
       " 1\n",
       " 2\n",
       " 3"
      ]
     },
     "execution_count": null,
     "metadata": {},
     "output_type": "execute_result"
    }
   ],
   "source": [
    "xs"
   ]
  },
  {
   "cell_type": "markdown",
   "id": "65dacd7e-cbac-4570-a285-64237ffdfda4",
   "metadata": {},
   "source": [
    "Create an anonymous function that square a number, and apply that function to all elements in `xs` in one line"
   ]
  },
  {
   "cell_type": "code",
   "execution_count": null,
   "id": "d84443ce-d5b1-4479-b3e3-273f34ef21b7",
   "metadata": {},
   "outputs": [
    {
     "data": {
      "text/plain": [
       "3-element Vector{Int64}:\n",
       " 1\n",
       " 4\n",
       " 9"
      ]
     },
     "execution_count": null,
     "metadata": {},
     "output_type": "execute_result"
    }
   ],
   "source": [
    "map(x -> x^2, xs)"
   ]
  },
  {
   "cell_type": "markdown",
   "id": "35bb6797-7565-4c90-ac60-3db9f3e94a13",
   "metadata": {},
   "source": [
    "### Broadcasting"
   ]
  },
  {
   "cell_type": "markdown",
   "id": "0c2adff8-0ffc-4e23-afcc-3384510b31e0",
   "metadata": {},
   "source": [
    "##### Example 2"
   ]
  },
  {
   "cell_type": "code",
   "execution_count": null,
   "id": "cbd21074-a9ee-4b66-a0be-cd50ca338808",
   "metadata": {},
   "outputs": [
    {
     "data": {
      "text/plain": [
       "3-element Vector{Float64}:\n",
       " 0.8414709848078965\n",
       " 0.9092974268256817\n",
       " 0.1411200080598672"
      ]
     },
     "execution_count": null,
     "metadata": {},
     "output_type": "execute_result"
    }
   ],
   "source": [
    "sin.(xs)"
   ]
  },
  {
   "cell_type": "code",
   "execution_count": null,
   "id": "e62cad54-9229-4b57-88a6-accddb598de8",
   "metadata": {},
   "outputs": [
    {
     "data": {
      "text/plain": [
       "3-element Vector{Float64}:\n",
       " 0.8414709848078965\n",
       " 0.9092974268256817\n",
       " 0.1411200080598672"
      ]
     },
     "execution_count": null,
     "metadata": {},
     "output_type": "execute_result"
    }
   ],
   "source": [
    "map(sin, xs)"
   ]
  },
  {
   "cell_type": "markdown",
   "id": "65676cce-a880-4676-b3fa-2afbf5a1e77e",
   "metadata": {},
   "source": [
    "### Conditional Evaluation"
   ]
  },
  {
   "cell_type": "markdown",
   "id": "7f0af768-d30b-4c50-9e89-13256f1666d2",
   "metadata": {},
   "source": [
    "##### Example 1"
   ]
  },
  {
   "cell_type": "code",
   "execution_count": null,
   "id": "beb7a6a9-e744-4771-a797-824c6782dd0e",
   "metadata": {},
   "outputs": [
    {
     "data": {
      "text/plain": [
       "4-element Vector{Int64}:\n",
       " 1\n",
       " 2\n",
       " 3\n",
       " 4"
      ]
     },
     "execution_count": null,
     "metadata": {},
     "output_type": "execute_result"
    }
   ],
   "source": [
    "xs = [1, 2, 3, 4]"
   ]
  },
  {
   "cell_type": "code",
   "execution_count": null,
   "id": "826a51d3-0a79-407b-9a34-da4fe33af873",
   "metadata": {},
   "outputs": [
    {
     "data": {
      "text/plain": [
       "4-element Vector{Int64}:\n",
       " 1\n",
       " 2\n",
       " 3\n",
       " 4"
      ]
     },
     "execution_count": null,
     "metadata": {},
     "output_type": "execute_result"
    }
   ],
   "source": [
    "xs"
   ]
  },
  {
   "cell_type": "markdown",
   "id": "c9ad3164-3a2c-488b-8039-6837818e3c90",
   "metadata": {},
   "source": [
    "Loop through all elements in `xs` and print it"
   ]
  },
  {
   "cell_type": "code",
   "execution_count": null,
   "id": "adf04ea4-8336-4ada-9e89-08c14579c51c",
   "metadata": {},
   "outputs": [
    {
     "name": "stdout",
     "output_type": "stream",
     "text": [
      "1\n",
      "2\n",
      "3\n",
      "4\n"
     ]
    }
   ],
   "source": [
    "for i in xs\n",
    "    println(i)\n",
    "end"
   ]
  },
  {
   "cell_type": "markdown",
   "id": "cc92934a-05f5-47ec-aee8-c3d4a2251a67",
   "metadata": {},
   "source": [
    "##### Example 2"
   ]
  },
  {
   "cell_type": "code",
   "execution_count": null,
   "id": "0b119082-5aa6-4644-a7c8-61cdbf9e3af6",
   "metadata": {},
   "outputs": [
    {
     "data": {
      "text/plain": [
       "1:3"
      ]
     },
     "execution_count": null,
     "metadata": {},
     "output_type": "execute_result"
    }
   ],
   "source": [
    "xs = 1:3"
   ]
  },
  {
   "cell_type": "code",
   "execution_count": null,
   "id": "41bf670e-c03f-44af-acb7-a3847824af8f",
   "metadata": {},
   "outputs": [
    {
     "data": {
      "text/plain": [
       "1:3"
      ]
     },
     "execution_count": null,
     "metadata": {},
     "output_type": "execute_result"
    }
   ],
   "source": [
    "xs"
   ]
  },
  {
   "cell_type": "markdown",
   "id": "ed74ef15-47ee-461f-950a-a6ffbf88617f",
   "metadata": {},
   "source": [
    "Return a vector with given all the elements in `xs`"
   ]
  },
  {
   "cell_type": "code",
   "execution_count": null,
   "id": "2435c0fb-7d05-4ddf-bee1-71439921b51f",
   "metadata": {},
   "outputs": [
    {
     "data": {
      "text/plain": [
       "3-element Vector{Int64}:\n",
       " 1\n",
       " 2\n",
       " 3"
      ]
     },
     "execution_count": null,
     "metadata": {},
     "output_type": "execute_result"
    }
   ],
   "source": [
    "v = collect(xs)"
   ]
  },
  {
   "cell_type": "code",
   "execution_count": null,
   "id": "e30d6a65-9323-4dc4-915a-010d036341ab",
   "metadata": {},
   "outputs": [
    {
     "data": {
      "text/plain": [
       "UnitRange{Int64}"
      ]
     },
     "execution_count": null,
     "metadata": {},
     "output_type": "execute_result"
    }
   ],
   "source": [
    "typeof(xs)"
   ]
  },
  {
   "cell_type": "markdown",
   "id": "35fc52e6-14b1-4713-b52c-ed74867e128a",
   "metadata": {},
   "source": [
    "### Exceptions"
   ]
  },
  {
   "cell_type": "markdown",
   "id": "e5712aeb-9ce8-45c7-8e97-54d72be6aff8",
   "metadata": {},
   "source": [
    "Do `1 / 0` and print the error"
   ]
  },
  {
   "cell_type": "code",
   "execution_count": null,
   "id": "da6b8bfd-bbbf-419c-ab83-334814dc4bea",
   "metadata": {},
   "outputs": [
    {
     "data": {
      "text/plain": [
       "Inf"
      ]
     },
     "execution_count": null,
     "metadata": {},
     "output_type": "execute_result"
    }
   ],
   "source": [
    "try\n",
    "    1 / 0\n",
    "catch e\n",
    "    println(e)\n",
    "end"
   ]
  },
  {
   "cell_type": "markdown",
   "id": "813dd4d2-0448-422b-a4be-a8246c600612",
   "metadata": {},
   "source": [
    "### Linear Algebra"
   ]
  },
  {
   "cell_type": "markdown",
   "id": "159e138b-2ab6-4b88-937c-8414390c8f0a",
   "metadata": {},
   "source": [
    "### Types"
   ]
  },
  {
   "cell_type": "code",
   "execution_count": null,
   "id": "1e7ed9df-cd9b-42b3-867b-a63559895386",
   "metadata": {},
   "outputs": [
    {
     "data": {
      "text/plain": [
       "Int64"
      ]
     },
     "execution_count": null,
     "metadata": {},
     "output_type": "execute_result"
    }
   ],
   "source": [
    "Int64"
   ]
  },
  {
   "cell_type": "code",
   "execution_count": null,
   "id": "c7cddc8f-9773-4439-ac46-f5a8850880d5",
   "metadata": {},
   "outputs": [
    {
     "data": {
      "text/plain": [
       "Number"
      ]
     },
     "execution_count": null,
     "metadata": {},
     "output_type": "execute_result"
    }
   ],
   "source": [
    "Number"
   ]
  },
  {
   "cell_type": "code",
   "execution_count": null,
   "id": "1f9e4613-e2aa-4974-abfc-b40a80daa2f3",
   "metadata": {},
   "outputs": [
    {
     "data": {
      "text/plain": [
       "Int64"
      ]
     },
     "execution_count": null,
     "metadata": {},
     "output_type": "execute_result"
    }
   ],
   "source": [
    "x = Int64"
   ]
  },
  {
   "cell_type": "code",
   "execution_count": null,
   "id": "5abbf0cd-e8ff-4908-a14f-cfee6d950c28",
   "metadata": {},
   "outputs": [
    {
     "data": {
      "text/plain": [
       "Integer"
      ]
     },
     "execution_count": null,
     "metadata": {},
     "output_type": "execute_result"
    }
   ],
   "source": [
    "y = Integer"
   ]
  },
  {
   "cell_type": "markdown",
   "id": "440088a9-829f-4048-8b0d-dde288a9aa77",
   "metadata": {},
   "source": [
    "##### Example 1"
   ]
  },
  {
   "cell_type": "code",
   "execution_count": null,
   "id": "23449154-9354-46d1-b739-71526f638883",
   "metadata": {},
   "outputs": [
    {
     "data": {
      "text/plain": [
       "(Int64, Integer)"
      ]
     },
     "execution_count": null,
     "metadata": {},
     "output_type": "execute_result"
    }
   ],
   "source": [
    "x, y"
   ]
  },
  {
   "cell_type": "markdown",
   "id": "282d434b-6243-46c6-b198-cd03e70918ba",
   "metadata": {},
   "source": [
    "Return `True` if `x` is a subtype of `y`"
   ]
  },
  {
   "cell_type": "code",
   "execution_count": null,
   "id": "d67fa72f-4258-4c98-b9f1-c1979eb37058",
   "metadata": {},
   "outputs": [
    {
     "data": {
      "text/plain": [
       "true"
      ]
     },
     "execution_count": null,
     "metadata": {},
     "output_type": "execute_result"
    }
   ],
   "source": [
    "x <: y"
   ]
  },
  {
   "cell_type": "code",
   "execution_count": null,
   "id": "d215bd35-d662-4384-8ad7-f6794f2dfb10",
   "metadata": {},
   "outputs": [
    {
     "data": {
      "text/plain": [
       "\"hoody\""
      ]
     },
     "execution_count": null,
     "metadata": {},
     "output_type": "execute_result"
    }
   ],
   "source": [
    "\"hoody\"::String"
   ]
  },
  {
   "cell_type": "code",
   "execution_count": null,
   "id": "fc2cc539-0ec0-443a-ab45-432dcf69975a",
   "metadata": {},
   "outputs": [
    {
     "ename": "LoadError",
     "evalue": "error in method definition: function Base.: must be explicitly imported to be extended",
     "output_type": "error",
     "traceback": [
      "error in method definition: function Base.: must be explicitly imported to be extended",
      "",
      "Stacktrace:",
      " [1] top-level scope",
      "   @ none:0",
      " [2] top-level scope",
      "   @ In[127]:1",
      " [3] eval",
      "   @ ./boot.jl:368 [inlined]",
      " [4] include_string(mapexpr::typeof(REPL.softscope), mod::Module, code::String, filename::String)",
      "   @ Base ./loading.jl:1428"
     ]
    }
   ],
   "source": [
    "x::String = \"hello\""
   ]
  },
  {
   "cell_type": "code",
   "execution_count": null,
   "id": "11b756f1-2431-43f2-ae37-abcee937971f",
   "metadata": {},
   "outputs": [
    {
     "data": {
      "text/plain": [
       "100"
      ]
     },
     "execution_count": null,
     "metadata": {},
     "output_type": "execute_result"
    }
   ],
   "source": [
    "n = 100"
   ]
  },
  {
   "cell_type": "code",
   "execution_count": null,
   "id": "a96b4090-8c33-4c27-adaf-6c8f7d31f112",
   "metadata": {},
   "outputs": [
    {
     "ename": "LoadError",
     "evalue": "cannot set type for global n. It already has a value or is already set to a different type.",
     "output_type": "error",
     "traceback": [
      "cannot set type for global n. It already has a value or is already set to a different type.",
      "",
      "Stacktrace:",
      " [1] top-level scope",
      "   @ In[144]:1",
      " [2] eval",
      "   @ ./boot.jl:368 [inlined]",
      " [3] include_string(mapexpr::typeof(REPL.softscope), mod::Module, code::String, filename::String)",
      "   @ Base ./loading.jl:1428"
     ]
    }
   ],
   "source": [
    "n::Int = 100"
   ]
  },
  {
   "cell_type": "code",
   "execution_count": null,
   "id": "7ed03050-2579-42f7-86bf-ac15f92ff9f3",
   "metadata": {},
   "outputs": [
    {
     "data": {
      "text/plain": [
       "1"
      ]
     },
     "execution_count": null,
     "metadata": {},
     "output_type": "execute_result"
    }
   ],
   "source": [
    "xx = 1"
   ]
  },
  {
   "cell_type": "markdown",
   "id": "01920db3-3cae-4ab7-93cf-b24ce61ef1a1",
   "metadata": {},
   "source": [
    "##### Example 2"
   ]
  },
  {
   "cell_type": "code",
   "execution_count": null,
   "id": "1e875f7f-d6d2-4e71-900c-611d87f4e62a",
   "metadata": {},
   "outputs": [
    {
     "data": {
      "text/plain": [
       "add (generic function with 2 methods)"
      ]
     },
     "execution_count": null,
     "metadata": {},
     "output_type": "execute_result"
    }
   ],
   "source": [
    "function add(x, y)\n",
    "    return x + y\n",
    "end"
   ]
  },
  {
   "cell_type": "markdown",
   "id": "9aa354b9-4844-493d-a30e-68015d4bb9f3",
   "metadata": {},
   "source": [
    "Add type annotations to function `add`. It expects all `Int` values."
   ]
  },
  {
   "cell_type": "code",
   "execution_count": null,
   "id": "3e6bda9c-53b6-417b-aebf-888849072380",
   "metadata": {},
   "outputs": [
    {
     "data": {
      "text/plain": [
       "add (generic function with 2 methods)"
      ]
     },
     "execution_count": null,
     "metadata": {},
     "output_type": "execute_result"
    }
   ],
   "source": [
    "function add(x::Int, y::Int)\n",
    "    return x + y\n",
    "end"
   ]
  },
  {
   "cell_type": "code",
   "execution_count": null,
   "id": "4798b8a1-7aae-47c2-bd27-7a3e5867da1b",
   "metadata": {},
   "outputs": [
    {
     "data": {
      "text/plain": [
       "3"
      ]
     },
     "execution_count": null,
     "metadata": {},
     "output_type": "execute_result"
    }
   ],
   "source": [
    "add(1, 2)"
   ]
  },
  {
   "cell_type": "markdown",
   "id": "46be27e7-0d6c-4908-9fe0-dfe0139f5437",
   "metadata": {},
   "source": [
    "### Types"
   ]
  },
  {
   "cell_type": "markdown",
   "id": "caccc8d5-cb50-49f5-9fb8-8c02e558fcd0",
   "metadata": {},
   "source": [
    "##### Example 1 "
   ]
  },
  {
   "cell_type": "markdown",
   "id": "9f728bca-5dc0-421a-8dc0-fb8acd1342c6",
   "metadata": {},
   "source": [
    "`Book` is immutable"
   ]
  },
  {
   "cell_type": "code",
   "execution_count": null,
   "id": "708cb4d9-2893-4917-b13d-c69f21f0bb10",
   "metadata": {},
   "outputs": [],
   "source": [
    "struct Book\n",
    "    name::String\n",
    "end"
   ]
  },
  {
   "cell_type": "code",
   "execution_count": null,
   "id": "4709dfe2-69c7-446e-a0b2-7e2d961e3d75",
   "metadata": {},
   "outputs": [
    {
     "data": {
      "text/plain": [
       "Book(\"Homo Sapien\")"
      ]
     },
     "execution_count": null,
     "metadata": {},
     "output_type": "execute_result"
    }
   ],
   "source": [
    "homo_sapien = Book(\"Homo Sapien\")"
   ]
  },
  {
   "cell_type": "code",
   "execution_count": null,
   "id": "694b73e0-f7fc-40ae-8173-8df51e9f46d7",
   "metadata": {},
   "outputs": [
    {
     "data": {
      "text/plain": [
       "\"Homo Sapien\""
      ]
     },
     "execution_count": null,
     "metadata": {},
     "output_type": "execute_result"
    }
   ],
   "source": [
    "homo_sapien.name"
   ]
  },
  {
   "cell_type": "markdown",
   "id": "b9a85d56-1e3e-4852-8b32-a9e947d31a1d",
   "metadata": {},
   "source": [
    "##### Example 2"
   ]
  },
  {
   "cell_type": "code",
   "execution_count": null,
   "id": "77058a1b-2404-4a2b-b4fa-ef58db070d44",
   "metadata": {},
   "outputs": [],
   "source": [
    "mutable struct Computer\n",
    "    os::String\n",
    "end"
   ]
  },
  {
   "cell_type": "code",
   "execution_count": null,
   "id": "fc278cf2-c6ba-45c8-9c14-782d48143bb1",
   "metadata": {},
   "outputs": [
    {
     "data": {
      "text/plain": [
       "Computer(\"XR\")"
      ]
     },
     "execution_count": null,
     "metadata": {},
     "output_type": "execute_result"
    }
   ],
   "source": [
    "c = Computer(\"XR\")"
   ]
  },
  {
   "cell_type": "code",
   "execution_count": null,
   "id": "aed4a116-a379-4650-a4b8-2e3acf4c7e9d",
   "metadata": {},
   "outputs": [
    {
     "data": {
      "text/plain": [
       "\"XR\""
      ]
     },
     "execution_count": null,
     "metadata": {},
     "output_type": "execute_result"
    }
   ],
   "source": [
    "c.os"
   ]
  },
  {
   "cell_type": "code",
   "execution_count": null,
   "id": "8440cc89-335a-4299-850a-9be9565ec771",
   "metadata": {},
   "outputs": [
    {
     "data": {
      "text/plain": [
       "\"Window\""
      ]
     },
     "execution_count": null,
     "metadata": {},
     "output_type": "execute_result"
    }
   ],
   "source": [
    "c.os = \"Window\""
   ]
  },
  {
   "cell_type": "code",
   "execution_count": null,
   "id": "4134650b-0373-4240-b439-b894145fcb51",
   "metadata": {},
   "outputs": [
    {
     "data": {
      "text/plain": [
       "\"Window\""
      ]
     },
     "execution_count": null,
     "metadata": {},
     "output_type": "execute_result"
    }
   ],
   "source": [
    "c.os"
   ]
  },
  {
   "cell_type": "markdown",
   "id": "b3c3ec4f-7101-4242-872e-0a22a8e46fa3",
   "metadata": {},
   "source": [
    "##### Example 3"
   ]
  },
  {
   "cell_type": "markdown",
   "id": "5b02ceac-5643-4a06-9de3-d2ab8e6e3b26",
   "metadata": {},
   "source": [
    "Create an type that don't have property"
   ]
  },
  {
   "cell_type": "code",
   "execution_count": null,
   "id": "cc60617a-c808-4da4-957b-ced0418b3719",
   "metadata": {},
   "outputs": [],
   "source": [
    "abstract type Vehicle end"
   ]
  },
  {
   "cell_type": "code",
   "execution_count": null,
   "id": "8fbbbb02-5688-4774-b11f-fed7427b2009",
   "metadata": {},
   "outputs": [
    {
     "data": {
      "text/plain": [
       "Vehicle"
      ]
     },
     "execution_count": null,
     "metadata": {},
     "output_type": "execute_result"
    }
   ],
   "source": [
    "Vehicle"
   ]
  },
  {
   "cell_type": "markdown",
   "id": "2b559d12-2a7f-4970-be3b-c83a1c146533",
   "metadata": {},
   "source": [
    "##### Example 4"
   ]
  },
  {
   "cell_type": "code",
   "execution_count": null,
   "id": "2fd59f61-ef22-455c-b024-5c9e5b96c8b6",
   "metadata": {},
   "outputs": [
    {
     "data": {
      "text/plain": [
       "Vehicle"
      ]
     },
     "execution_count": null,
     "metadata": {},
     "output_type": "execute_result"
    }
   ],
   "source": [
    "Vehicle"
   ]
  },
  {
   "cell_type": "markdown",
   "id": "5d49fbd5-c6e3-4013-85bd-1bd295fd98a3",
   "metadata": {},
   "source": [
    "`Vehicle` is an type. Create a type `Starship` which is a subtype of `Vehicle`"
   ]
  },
  {
   "cell_type": "code",
   "execution_count": null,
   "id": "d2a59bb8-1c35-4615-a0d3-746f6592a086",
   "metadata": {},
   "outputs": [],
   "source": [
    "struct Starship <: Vehicle\n",
    "    n_engines::Int\n",
    "end"
   ]
  },
  {
   "cell_type": "code",
   "execution_count": null,
   "id": "4ee99be2-a325-4d51-a717-c6baff8576a5",
   "metadata": {},
   "outputs": [
    {
     "data": {
      "text/plain": [
       "Starship(33)"
      ]
     },
     "execution_count": null,
     "metadata": {},
     "output_type": "execute_result"
    }
   ],
   "source": [
    "starship = Starship(33)"
   ]
  },
  {
   "cell_type": "code",
   "execution_count": null,
   "id": "a253e598-6895-41b2-a742-6aada786cd7e",
   "metadata": {},
   "outputs": [
    {
     "data": {
      "text/plain": [
       "33"
      ]
     },
     "execution_count": null,
     "metadata": {},
     "output_type": "execute_result"
    }
   ],
   "source": [
    "starship.n_engines"
   ]
  },
  {
   "cell_type": "markdown",
   "id": "3a1a9368-6cc5-4919-af8c-7fac978e8116",
   "metadata": {},
   "source": [
    "### Dispatch"
   ]
  },
  {
   "cell_type": "code",
   "execution_count": null,
   "id": "da08c3ce-db19-4ffe-987c-fa0585cbe65d",
   "metadata": {},
   "outputs": [
    {
     "data": {
      "text/plain": [
       "moves (generic function with 1 method)"
      ]
     },
     "execution_count": null,
     "metadata": {},
     "output_type": "execute_result"
    }
   ],
   "source": [
    "moves(thing::Starship) = true"
   ]
  },
  {
   "cell_type": "code",
   "execution_count": null,
   "id": "191882b8-6cb6-43a4-aa96-ef79a2ad6454",
   "metadata": {},
   "outputs": [
    {
     "data": {
      "text/plain": [
       "moves (generic function with 2 methods)"
      ]
     },
     "execution_count": null,
     "metadata": {},
     "output_type": "execute_result"
    }
   ],
   "source": [
    "moves(thing) = false"
   ]
  },
  {
   "cell_type": "code",
   "execution_count": null,
   "id": "eebbfc1c-08cf-43bf-ad31-8817bf2f2799",
   "metadata": {},
   "outputs": [
    {
     "data": {
      "text/plain": [
       "Starship(1)"
      ]
     },
     "execution_count": null,
     "metadata": {},
     "output_type": "execute_result"
    }
   ],
   "source": [
    "x = Starship(1)"
   ]
  },
  {
   "cell_type": "code",
   "execution_count": null,
   "id": "91fcc126-ba1d-4412-acb7-5b13036bf07e",
   "metadata": {},
   "outputs": [
    {
     "data": {
      "text/plain": [
       "false"
      ]
     },
     "execution_count": null,
     "metadata": {},
     "output_type": "execute_result"
    }
   ],
   "source": [
    "moves(2)"
   ]
  },
  {
   "cell_type": "markdown",
   "id": "f5bea8bc-410c-40dd-8f11-d6b337b4d2a2",
   "metadata": {},
   "source": [
    "##### Example 1"
   ]
  },
  {
   "cell_type": "markdown",
   "id": "f1faad32-1df2-40eb-9e63-d1b3a852424a",
   "metadata": {},
   "source": [
    "Create a function `is_string` as bellow. Will return `true` if the argument is a string, otherwise, return `false`, using dispatch"
   ]
  },
  {
   "cell_type": "code",
   "execution_count": null,
   "id": "facdcdd0-14bf-4a97-8109-e89b95185036",
   "metadata": {},
   "outputs": [
    {
     "data": {
      "text/plain": [
       "is_string (generic function with 2 methods)"
      ]
     },
     "execution_count": null,
     "metadata": {},
     "output_type": "execute_result"
    }
   ],
   "source": [
    "is_string(thing::String) = true"
   ]
  },
  {
   "cell_type": "code",
   "execution_count": null,
   "id": "dcff3e59-929a-47c7-b8d8-446c014c789f",
   "metadata": {},
   "outputs": [
    {
     "data": {
      "text/plain": [
       "is_string (generic function with 2 methods)"
      ]
     },
     "execution_count": null,
     "metadata": {},
     "output_type": "execute_result"
    }
   ],
   "source": [
    "is_string(thing) = false"
   ]
  },
  {
   "cell_type": "code",
   "execution_count": null,
   "id": "a39b40ac-8f03-4208-811f-5a0b98e819ae",
   "metadata": {},
   "outputs": [
    {
     "data": {
      "text/plain": [
       "(true, false)"
      ]
     },
     "execution_count": null,
     "metadata": {},
     "output_type": "execute_result"
    }
   ],
   "source": [
    "is_string(\"hello\"), is_string(1)"
   ]
  },
  {
   "cell_type": "code",
   "execution_count": null,
   "id": "57db1ec7-2114-4ee2-87b4-fe23c43aa18d",
   "metadata": {},
   "outputs": [],
   "source": []
  }
 ],
 "metadata": {
  "kernelspec": {
   "display_name": "Julia 1.8.2",
   "language": "julia",
   "name": "julia-1.8"
  }
 },
 "nbformat": 4,
 "nbformat_minor": 5
}
