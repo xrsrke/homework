{
 "cells": [
  {
   "cell_type": "markdown",
   "id": "1d468a7c-ee00-47ce-a44a-d1d1b8702902",
   "metadata": {},
   "source": [
    "##### Multithreading\n",
    "\n",
    "##### Multiprocessing\n",
    "\n",
    "##### GPU parallelism"
   ]
  },
  {
   "cell_type": "markdown",
   "id": "23b93dc0-679d-45b9-b4b2-390c4e81f8fc",
   "metadata": {},
   "source": [
    "### CPUs"
   ]
  },
  {
   "cell_type": "markdown",
   "id": "3d0078f8-279c-4e36-8023-0d585c8d09a0",
   "metadata": {},
   "source": [
    "The modern central processing unit and how amazing it is"
   ]
  },
  {
   "cell_type": "code",
   "execution_count": null,
   "id": "201f1ec2-0867-4c1e-b80f-8d7700feed50",
   "metadata": {},
   "outputs": [],
   "source": [
    "using BenchmarkTools"
   ]
  },
  {
   "cell_type": "code",
   "execution_count": null,
   "id": "ae2f3f33-0b70-4869-911d-44697c057dbd",
   "metadata": {},
   "outputs": [
    {
     "data": {
      "text/plain": [
       "BenchmarkTools.Trial: 10000 samples with 792 evaluations.\n",
       " Range \u001b[90m(\u001b[39m\u001b[36m\u001b[1mmin\u001b[22m\u001b[39m … \u001b[35mmax\u001b[39m\u001b[90m):  \u001b[39m\u001b[36m\u001b[1m149.148 ns\u001b[22m\u001b[39m … \u001b[35m  3.511 μs\u001b[39m  \u001b[90m┊\u001b[39m GC \u001b[90m(\u001b[39mmin … max\u001b[90m): \u001b[39m0.00% … 0.00%\n",
       " Time  \u001b[90m(\u001b[39m\u001b[34m\u001b[1mmedian\u001b[22m\u001b[39m\u001b[90m):     \u001b[39m\u001b[34m\u001b[1m254.472 ns               \u001b[22m\u001b[39m\u001b[90m┊\u001b[39m GC \u001b[90m(\u001b[39mmedian\u001b[90m):    \u001b[39m0.00%\n",
       " Time  \u001b[90m(\u001b[39m\u001b[32m\u001b[1mmean\u001b[22m\u001b[39m ± \u001b[32mσ\u001b[39m\u001b[90m):   \u001b[39m\u001b[32m\u001b[1m258.862 ns\u001b[22m\u001b[39m ± \u001b[32m113.454 ns\u001b[39m  \u001b[90m┊\u001b[39m GC \u001b[90m(\u001b[39mmean ± σ\u001b[90m):  \u001b[39m1.06% ± 3.92%\n",
       "\n",
       "  \u001b[39m \u001b[39m \u001b[39m \u001b[39m \u001b[39m \u001b[39m \u001b[39m \u001b[39m \u001b[39m \u001b[39m \u001b[39m \u001b[39m \u001b[39m \u001b[39m \u001b[39m▃\u001b[39m█\u001b[34m█\u001b[39m\u001b[32m▃\u001b[39m\u001b[39m \u001b[39m \u001b[39m \u001b[39m \u001b[39m \u001b[39m \u001b[39m \u001b[39m \u001b[39m \u001b[39m \u001b[39m \u001b[39m \u001b[39m \u001b[39m \u001b[39m \u001b[39m \u001b[39m \u001b[39m \u001b[39m \u001b[39m \u001b[39m \u001b[39m \u001b[39m \u001b[39m \u001b[39m \u001b[39m \u001b[39m \u001b[39m \u001b[39m \u001b[39m \u001b[39m \u001b[39m \u001b[39m \u001b[39m \u001b[39m \u001b[39m \u001b[39m \u001b[39m \u001b[39m \u001b[39m \u001b[39m \u001b[39m \u001b[39m \u001b[39m \u001b[39m \n",
       "  \u001b[39m▂\u001b[39m▂\u001b[39m▃\u001b[39m▄\u001b[39m▄\u001b[39m▃\u001b[39m▃\u001b[39m▄\u001b[39m▃\u001b[39m▃\u001b[39m▂\u001b[39m▂\u001b[39m▂\u001b[39m▄\u001b[39m█\u001b[39m█\u001b[34m█\u001b[39m\u001b[32m█\u001b[39m\u001b[39m▅\u001b[39m▄\u001b[39m▃\u001b[39m▂\u001b[39m▂\u001b[39m▂\u001b[39m▂\u001b[39m▂\u001b[39m▂\u001b[39m▂\u001b[39m▂\u001b[39m▂\u001b[39m▂\u001b[39m▂\u001b[39m▂\u001b[39m▂\u001b[39m▂\u001b[39m▂\u001b[39m▂\u001b[39m▂\u001b[39m▂\u001b[39m▂\u001b[39m▂\u001b[39m▂\u001b[39m▂\u001b[39m▂\u001b[39m▂\u001b[39m▁\u001b[39m▂\u001b[39m▂\u001b[39m▂\u001b[39m▂\u001b[39m▂\u001b[39m▂\u001b[39m▂\u001b[39m▂\u001b[39m▂\u001b[39m▂\u001b[39m▂\u001b[39m▂\u001b[39m▂\u001b[39m▂\u001b[39m▂\u001b[39m \u001b[39m▃\n",
       "  149 ns\u001b[90m           Histogram: frequency by time\u001b[39m          554 ns \u001b[0m\u001b[1m<\u001b[22m\n",
       "\n",
       " Memory estimate\u001b[90m: \u001b[39m\u001b[33m144 bytes\u001b[39m, allocs estimate\u001b[90m: \u001b[39m\u001b[33m1\u001b[39m."
      ]
     },
     "metadata": {},
     "output_type": "display_data"
    }
   ],
   "source": [
    "@benchmark sort(data) setup=(data=rand(10))"
   ]
  },
  {
   "cell_type": "markdown",
   "id": "3bd2f00c-3940-477d-9f37-69558ad1f11f",
   "metadata": {},
   "source": [
    "### Serial Processing"
   ]
  },
  {
   "cell_type": "markdown",
   "id": "2e20c80b-9ef8-410c-a5be-80673bd259bd",
   "metadata": {},
   "source": [
    "##### Example 1 "
   ]
  },
  {
   "cell_type": "code",
   "execution_count": null,
   "id": "e4ad335f-4db6-4d39-8304-9dd754569ad4",
   "metadata": {},
   "outputs": [
    {
     "data": {
      "text/plain": [
       "f (generic function with 1 method)"
      ]
     },
     "metadata": {},
     "output_type": "display_data"
    }
   ],
   "source": [
    "function f(a, b)\n",
    "    x = 0\n",
    "    y = 0\n",
    "    for i in 1:1\n",
    "        x += a *i\n",
    "        y += b*i\n",
    "    end\n",
    "    \n",
    "    return x, y\n",
    "end"
   ]
  },
  {
   "cell_type": "markdown",
   "id": "3681ea5b-e8f0-4016-b519-35149bb163b2",
   "metadata": {},
   "source": [
    "##### Example 2"
   ]
  },
  {
   "cell_type": "code",
   "execution_count": null,
   "id": "c7873d04-df52-4747-9d99-b22822429e61",
   "metadata": {},
   "outputs": [],
   "source": [
    "using LinearAlgebra, BenchmarkTools"
   ]
  },
  {
   "cell_type": "code",
   "execution_count": null,
   "id": "8e5f7ff7-c327-4f49-8aa3-6a5527c897ca",
   "metadata": {},
   "outputs": [
    {
     "data": {
      "text/plain": [
       "expensive (generic function with 1 method)"
      ]
     },
     "metadata": {},
     "output_type": "display_data"
    }
   ],
   "source": [
    "function expensive()\n",
    "    X = randn(10_000, 100)\n",
    "    return inv(X'X)\n",
    "end"
   ]
  },
  {
   "cell_type": "code",
   "execution_count": null,
   "id": "8c402c50-05cf-40fc-9a0e-181fe33d250b",
   "metadata": {},
   "outputs": [
    {
     "data": {
      "text/plain": [
       "go (generic function with 1 method)"
      ]
     },
     "metadata": {},
     "output_type": "display_data"
    }
   ],
   "source": [
    "function go()\n",
    "    A = expensive()\n",
    "    B = expensive()\n",
    "    return A + B\n",
    "end"
   ]
  },
  {
   "cell_type": "code",
   "execution_count": null,
   "id": "afd1f950-aff5-466d-bd72-3d64d0b7057b",
   "metadata": {},
   "outputs": [
    {
     "data": {
      "text/plain": [
       "BenchmarkTools.Trial: 81 samples with 1 evaluation.\n",
       " Range \u001b[90m(\u001b[39m\u001b[36m\u001b[1mmin\u001b[22m\u001b[39m … \u001b[35mmax\u001b[39m\u001b[90m):  \u001b[39m\u001b[36m\u001b[1m26.326 ms\u001b[22m\u001b[39m … \u001b[35m316.604 ms\u001b[39m  \u001b[90m┊\u001b[39m GC \u001b[90m(\u001b[39mmin … max\u001b[90m): \u001b[39m0.00% … 0.00%\n",
       " Time  \u001b[90m(\u001b[39m\u001b[34m\u001b[1mmedian\u001b[22m\u001b[39m\u001b[90m):     \u001b[39m\u001b[34m\u001b[1m44.462 ms               \u001b[22m\u001b[39m\u001b[90m┊\u001b[39m GC \u001b[90m(\u001b[39mmedian\u001b[90m):    \u001b[39m0.00%\n",
       " Time  \u001b[90m(\u001b[39m\u001b[32m\u001b[1mmean\u001b[22m\u001b[39m ± \u001b[32mσ\u001b[39m\u001b[90m):   \u001b[39m\u001b[32m\u001b[1m64.135 ms\u001b[22m\u001b[39m ± \u001b[32m 55.133 ms\u001b[39m  \u001b[90m┊\u001b[39m GC \u001b[90m(\u001b[39mmean ± σ\u001b[90m):  \u001b[39m3.64% ± 7.11%\n",
       "\n",
       "  \u001b[39m▁\u001b[39m▂\u001b[39m█\u001b[39m \u001b[34m \u001b[39m\u001b[39m \u001b[39m \u001b[39m \u001b[39m \u001b[32m \u001b[39m\u001b[39m \u001b[39m \u001b[39m \u001b[39m \u001b[39m \u001b[39m \u001b[39m \u001b[39m \u001b[39m \u001b[39m \u001b[39m \u001b[39m \u001b[39m \u001b[39m \u001b[39m \u001b[39m \u001b[39m \u001b[39m \u001b[39m \u001b[39m \u001b[39m \u001b[39m \u001b[39m \u001b[39m \u001b[39m \u001b[39m \u001b[39m \u001b[39m \u001b[39m \u001b[39m \u001b[39m \u001b[39m \u001b[39m \u001b[39m \u001b[39m \u001b[39m \u001b[39m \u001b[39m \u001b[39m \u001b[39m \u001b[39m \u001b[39m \u001b[39m \u001b[39m \u001b[39m \u001b[39m \u001b[39m \u001b[39m \u001b[39m \u001b[39m \u001b[39m \u001b[39m \n",
       "  \u001b[39m█\u001b[39m█\u001b[39m█\u001b[39m█\u001b[34m▆\u001b[39m\u001b[39m█\u001b[39m▃\u001b[39m▇\u001b[39m▄\u001b[32m▅\u001b[39m\u001b[39m▄\u001b[39m▄\u001b[39m▃\u001b[39m▄\u001b[39m▄\u001b[39m▃\u001b[39m▁\u001b[39m▁\u001b[39m▁\u001b[39m▁\u001b[39m▁\u001b[39m▃\u001b[39m▁\u001b[39m▁\u001b[39m▁\u001b[39m▁\u001b[39m▁\u001b[39m▁\u001b[39m▃\u001b[39m▁\u001b[39m▃\u001b[39m▃\u001b[39m▁\u001b[39m▁\u001b[39m▁\u001b[39m▁\u001b[39m▁\u001b[39m▁\u001b[39m▁\u001b[39m▁\u001b[39m▁\u001b[39m▁\u001b[39m▁\u001b[39m▃\u001b[39m▁\u001b[39m▁\u001b[39m▁\u001b[39m▁\u001b[39m▁\u001b[39m▁\u001b[39m▃\u001b[39m▁\u001b[39m▁\u001b[39m▁\u001b[39m▁\u001b[39m▁\u001b[39m▁\u001b[39m▁\u001b[39m▁\u001b[39m▃\u001b[39m \u001b[39m▁\n",
       "  26.3 ms\u001b[90m         Histogram: frequency by time\u001b[39m          290 ms \u001b[0m\u001b[1m<\u001b[22m\n",
       "\n",
       " Memory estimate\u001b[90m: \u001b[39m\u001b[33m15.74 MiB\u001b[39m, allocs estimate\u001b[90m: \u001b[39m\u001b[33m20\u001b[39m."
      ]
     },
     "metadata": {},
     "output_type": "display_data"
    }
   ],
   "source": [
    "@benchmark go()"
   ]
  },
  {
   "cell_type": "markdown",
   "id": "01a64c71-f4b2-4463-8cb3-6203271adae8",
   "metadata": {},
   "source": [
    "### Multiprocess & multithread parallelism"
   ]
  },
  {
   "cell_type": "code",
   "execution_count": null,
   "id": "415ad08a-251a-468f-b538-d93bdb526b4d",
   "metadata": {},
   "outputs": [
    {
     "ename": "InterruptException",
     "evalue": "InterruptException:",
     "output_type": "error",
     "traceback": [
      "InterruptException:\n",
      "\n",
      "Stacktrace:\n",
      "  [1] _lineartrial(b::BenchmarkTools.Benchmark, p::BenchmarkTools.Parameters; maxevals::Int64, kwargs::Base.Pairs{Symbol, Union{}, Tuple{}, NamedTuple{(), Tuple{}}})\n",
      "    @ BenchmarkTools ~/.julia/packages/BenchmarkTools/0owsb/src/execution.jl:161\n",
      "  [2] _lineartrial(b::BenchmarkTools.Benchmark, p::BenchmarkTools.Parameters)\n",
      "    @ BenchmarkTools ~/.julia/packages/BenchmarkTools/0owsb/src/execution.jl:152\n",
      "  [3] #invokelatest#2\n",
      "    @ ./essentials.jl:729 [inlined]\n",
      "  [4] invokelatest\n",
      "    @ ./essentials.jl:726 [inlined]\n",
      "  [5] #lineartrial#46\n",
      "    @ ~/.julia/packages/BenchmarkTools/0owsb/src/execution.jl:35 [inlined]\n",
      "  [6] lineartrial\n",
      "    @ ~/.julia/packages/BenchmarkTools/0owsb/src/execution.jl:35 [inlined]\n",
      "  [7] tune!(b::BenchmarkTools.Benchmark, p::BenchmarkTools.Parameters; progressid::Nothing, nleaves::Float64, ndone::Float64, verbose::Bool, pad::String, kwargs::Base.Pairs{Symbol, Union{}, Tuple{}, NamedTuple{(), Tuple{}}})\n",
      "    @ BenchmarkTools ~/.julia/packages/BenchmarkTools/0owsb/src/execution.jl:251\n",
      "  [8] tune! (repeats 2 times)\n",
      "    @ ~/.julia/packages/BenchmarkTools/0owsb/src/execution.jl:247 [inlined]\n",
      "  [9] eval\n",
      "    @ ./boot.jl:368 [inlined]\n",
      " [10] include_string(mapexpr::typeof(REPL.softscope), mod::Module, code::String, filename::String)\n",
      "    @ Base ./loading.jl:1428\n",
      " [11] #invokelatest#2\n",
      "    @ ./essentials.jl:729 [inlined]\n",
      " [12] invokelatest\n",
      "    @ ./essentials.jl:726 [inlined]\n",
      " [13] (::VSCodeServer.var\"#198#199\"{VSCodeServer.NotebookRunCellArguments, String})()\n",
      "    @ VSCodeServer ~/.vscode/extensions/julialang.language-julia-1.38.2/scripts/packages/VSCodeServer/src/serve_notebook.jl:19\n",
      " [14] withpath(f::VSCodeServer.var\"#198#199\"{VSCodeServer.NotebookRunCellArguments, String}, path::String)\n",
      "    @ VSCodeServer ~/.vscode/extensions/julialang.language-julia-1.38.2/scripts/packages/VSCodeServer/src/repl.jl:249\n",
      " [15] notebook_runcell_request(conn::VSCodeServer.JSONRPC.JSONRPCEndpoint{Base.PipeEndpoint, Base.PipeEndpoint}, params::VSCodeServer.NotebookRunCellArguments)\n",
      "    @ VSCodeServer ~/.vscode/extensions/julialang.language-julia-1.38.2/scripts/packages/VSCodeServer/src/serve_notebook.jl:13\n",
      " [16] dispatch_msg(x::VSCodeServer.JSONRPC.JSONRPCEndpoint{Base.PipeEndpoint, Base.PipeEndpoint}, dispatcher::VSCodeServer.JSONRPC.MsgDispatcher, msg::Dict{String, Any})\n",
      "    @ VSCodeServer.JSONRPC ~/.vscode/extensions/julialang.language-julia-1.38.2/scripts/packages/JSONRPC/src/typed.jl:67\n",
      " [17] serve_notebook(pipename::String, outputchannel_logger::Base.CoreLogging.SimpleLogger; crashreporting_pipename::String)\n",
      "    @ VSCodeServer ~/.vscode/extensions/julialang.language-julia-1.38.2/scripts/packages/VSCodeServer/src/serve_notebook.jl:139\n",
      " [18] top-level scope\n",
      "    @ ~/.vscode/extensions/julialang.language-julia-1.38.2/scripts/notebook/notebook.jl:32"
     ]
    }
   ],
   "source": [
    "@benchmark randn(10_000, 10000)"
   ]
  },
  {
   "cell_type": "markdown",
   "id": "d1632632-701c-4013-82e0-5f8b67e56e6a",
   "metadata": {},
   "source": [
    "### Starting Julia with threads\n"
   ]
  },
  {
   "cell_type": "code",
   "execution_count": null,
   "id": "32034f3a-4df1-4aee-9477-e3acf28616d0",
   "metadata": {},
   "outputs": [
    {
     "name": "stdout",
     "output_type": "stream",
     "text": [
      "waiting...\n"
     ]
    }
   ],
   "source": [
    "function heavy_shit()\n",
    "    sleep(5)\n",
    "    return dot(randn(3, 4), randn(4, 3))\n",
    "end\n",
    "\n",
    "task = Threads.@spawn heavy_shit()\n",
    "\n",
    "println(\"waiting...\")\n",
    "\n",
    "# println(fetch(task))"
   ]
  },
  {
   "cell_type": "code",
   "execution_count": null,
   "id": "6725b330-644e-4c9b-ac29-65c52500f8ae",
   "metadata": {},
   "outputs": [
    {
     "data": {
      "text/plain": [
       "Task (runnable) @0x00000001520ef6b0"
      ]
     },
     "metadata": {},
     "output_type": "display_data"
    }
   ],
   "source": [
    "task = Threads.@spawn heavy_shit()"
   ]
  },
  {
   "cell_type": "markdown",
   "id": "680b3c6c-3c17-4dfc-8556-270523ed344f",
   "metadata": {},
   "source": [
    "##### Example 1"
   ]
  },
  {
   "cell_type": "code",
   "execution_count": null,
   "id": "10efdc86-81d9-4dea-9245-d4f38669f78d",
   "metadata": {},
   "outputs": [
    {
     "data": {
      "text/plain": [
       "heavy_shit (generic function with 1 method)"
      ]
     },
     "metadata": {},
     "output_type": "display_data"
    }
   ],
   "source": [
    "function heavy_shit()\n",
    "    return 0\n",
    "end"
   ]
  },
  {
   "cell_type": "code",
   "execution_count": null,
   "id": "58bd9f34-4371-42f5-ae82-47f105fc2d89",
   "metadata": {},
   "outputs": [
    {
     "data": {
      "text/plain": [
       "heavy_shit (generic function with 1 method)"
      ]
     },
     "metadata": {},
     "output_type": "display_data"
    }
   ],
   "source": [
    "heavy_shit"
   ]
  },
  {
   "cell_type": "markdown",
   "id": "0f55b1b5-f45c-460d-ba03-3cbccd5fecee",
   "metadata": {},
   "source": [
    "Execute function `heavy_shit` on a thread, and assign to variable named `task`"
   ]
  },
  {
   "cell_type": "code",
   "execution_count": null,
   "id": "d5f8859c-3115-482c-8a85-0feb9c846d83",
   "metadata": {},
   "outputs": [
    {
     "data": {
      "text/plain": [
       "Task (done) @0x0000000155345430"
      ]
     },
     "metadata": {},
     "output_type": "display_data"
    }
   ],
   "source": [
    "task = Threads.@spawn heavy_shit()"
   ]
  },
  {
   "cell_type": "code",
   "execution_count": null,
   "id": "ac450669-f12e-42ee-b5a7-a066543d5fa7",
   "metadata": {},
   "outputs": [
    {
     "data": {
      "text/plain": [
       "Task (done) @0x0000000155345430"
      ]
     },
     "metadata": {},
     "output_type": "display_data"
    }
   ],
   "source": [
    "task"
   ]
  },
  {
   "cell_type": "markdown",
   "id": "a09c088b-b444-437f-b395-bcb390ef4769",
   "metadata": {},
   "source": [
    "##### Example 2"
   ]
  },
  {
   "cell_type": "code",
   "execution_count": null,
   "id": "31632966-66ef-43e8-9d6e-12eccecbeaf0",
   "metadata": {},
   "outputs": [
    {
     "data": {
      "text/plain": [
       "10"
      ]
     },
     "metadata": {},
     "output_type": "display_data"
    }
   ],
   "source": [
    "Threads.nthreads()"
   ]
  },
  {
   "cell_type": "markdown",
   "id": "f656919f-5580-4ab1-97f6-76db62ff873c",
   "metadata": {},
   "source": [
    "##### Example 3"
   ]
  },
  {
   "cell_type": "code",
   "execution_count": null,
   "id": "4c5838d0-a3fa-4a3e-a2b7-7fdbb77bfbac",
   "metadata": {},
   "outputs": [
    {
     "name": "stdout",
     "output_type": "stream",
     "text": [
      "Thread ID: 10 | i: 5\n",
      "Thread ID: 4 | i: 2\n",
      "Thread ID: 3 | i: 3\n",
      "Thread ID: 2 | i: 1\n",
      "Thread ID: 8 | i: 4\n",
      "Thread ID: 9 | i: 6\n"
     ]
    }
   ],
   "source": [
    "function thread_test()\n",
    "    Threads.@threads for i in 1:6\n",
    "        id = Threads.threadid()\n",
    "        println(\"Thread ID: \", id, \" | i: \", i)\n",
    "    end \n",
    "end\n",
    "\n",
    "thread_test()"
   ]
  },
  {
   "cell_type": "code",
   "execution_count": null,
   "id": "9129bbba-b3c7-4d01-b3ee-189f3604a394",
   "metadata": {},
   "outputs": [
    {
     "data": {
      "text/plain": [
       "1"
      ]
     },
     "metadata": {},
     "output_type": "display_data"
    }
   ],
   "source": [
    "Threads.threadid()"
   ]
  },
  {
   "cell_type": "code",
   "execution_count": null,
   "id": "aa2e3426-c691-4c12-9fac-1b9132a3f3c5",
   "metadata": {},
   "outputs": [],
   "source": [
    "function serialsum(xs)\n",
    "    r = 0\n",
    "    for i in xs\n",
    "        r += i\n",
    "    end\n",
    "    return r\n",
    "end\n",
    "\n",
    "function threadsum(xs)\n",
    "    r = zeros(Threads.nthreads())\n",
    "    Threads.@threads for i in xs\n",
    "        # Each thread has it's own \"sum bucket\" to accumulate \n",
    "        # bits and pieces of xs -- we'll add these buckets together\n",
    "        # at the end.\n",
    "        r[Threads.threadid()] += i\n",
    "    end\n",
    "    return sum(r)\n",
    "end\n",
    "\n",
    "values = randn(10_000);"
   ]
  },
  {
   "cell_type": "code",
   "execution_count": null,
   "id": "0495100c-3539-4acd-bbc3-869df4fe56d9",
   "metadata": {},
   "outputs": [
    {
     "data": {
      "text/plain": [
       "BenchmarkTools.Trial: 10000 samples with 1 evaluation.\n",
       " Range \u001b[90m(\u001b[39m\u001b[36m\u001b[1mmin\u001b[22m\u001b[39m … \u001b[35mmax\u001b[39m\u001b[90m):  \u001b[39m\u001b[36m\u001b[1m14.542 μs\u001b[22m\u001b[39m … \u001b[35m 1.190 ms\u001b[39m  \u001b[90m┊\u001b[39m GC \u001b[90m(\u001b[39mmin … max\u001b[90m): \u001b[39m0.00% … 0.00%\n",
       " Time  \u001b[90m(\u001b[39m\u001b[34m\u001b[1mmedian\u001b[22m\u001b[39m\u001b[90m):     \u001b[39m\u001b[34m\u001b[1m28.459 μs              \u001b[22m\u001b[39m\u001b[90m┊\u001b[39m GC \u001b[90m(\u001b[39mmedian\u001b[90m):    \u001b[39m0.00%\n",
       " Time  \u001b[90m(\u001b[39m\u001b[32m\u001b[1mmean\u001b[22m\u001b[39m ± \u001b[32mσ\u001b[39m\u001b[90m):   \u001b[39m\u001b[32m\u001b[1m31.177 μs\u001b[22m\u001b[39m ± \u001b[32m32.621 μs\u001b[39m  \u001b[90m┊\u001b[39m GC \u001b[90m(\u001b[39mmean ± σ\u001b[90m):  \u001b[39m0.00% ± 0.00%\n",
       "\n",
       "  \u001b[39m▆\u001b[39m \u001b[39m \u001b[39m \u001b[39m \u001b[39m█\u001b[39m▄\u001b[39m▁\u001b[39m \u001b[34m▇\u001b[39m\u001b[39m▁\u001b[32m \u001b[39m\u001b[39m \u001b[39m \u001b[39m█\u001b[39m▂\u001b[39m \u001b[39m \u001b[39m \u001b[39m \u001b[39m \u001b[39m \u001b[39m \u001b[39m \u001b[39m \u001b[39m \u001b[39m \u001b[39m \u001b[39m \u001b[39m \u001b[39m \u001b[39m \u001b[39m \u001b[39m \u001b[39m \u001b[39m \u001b[39m \u001b[39m \u001b[39m \u001b[39m \u001b[39m \u001b[39m \u001b[39m \u001b[39m \u001b[39m \u001b[39m \u001b[39m \u001b[39m \u001b[39m \u001b[39m \u001b[39m \u001b[39m \u001b[39m \u001b[39m \u001b[39m \u001b[39m \u001b[39m \u001b[39m \u001b[39m \u001b[39m \u001b[39m▂\n",
       "  \u001b[39m█\u001b[39m▃\u001b[39m▂\u001b[39m▄\u001b[39m▅\u001b[39m█\u001b[39m█\u001b[39m█\u001b[39m▇\u001b[34m█\u001b[39m\u001b[39m█\u001b[32m█\u001b[39m\u001b[39m█\u001b[39m█\u001b[39m█\u001b[39m█\u001b[39m█\u001b[39m█\u001b[39m█\u001b[39m▆\u001b[39m▇\u001b[39m▇\u001b[39m▇\u001b[39m▇\u001b[39m▇\u001b[39m▇\u001b[39m▇\u001b[39m▇\u001b[39m▆\u001b[39m▆\u001b[39m▆\u001b[39m▆\u001b[39m▇\u001b[39m▅\u001b[39m▅\u001b[39m▅\u001b[39m▅\u001b[39m▅\u001b[39m▅\u001b[39m▄\u001b[39m▄\u001b[39m▄\u001b[39m▄\u001b[39m▅\u001b[39m▄\u001b[39m▅\u001b[39m▄\u001b[39m▅\u001b[39m▂\u001b[39m▄\u001b[39m▃\u001b[39m▃\u001b[39m▃\u001b[39m▄\u001b[39m▃\u001b[39m▃\u001b[39m▂\u001b[39m▄\u001b[39m▄\u001b[39m \u001b[39m█\n",
       "  14.5 μs\u001b[90m      \u001b[39m\u001b[90mHistogram: \u001b[39m\u001b[90m\u001b[1mlog(\u001b[22m\u001b[39m\u001b[90mfrequency\u001b[39m\u001b[90m\u001b[1m)\u001b[22m\u001b[39m\u001b[90m by time\u001b[39m       105 μs \u001b[0m\u001b[1m<\u001b[22m\n",
       "\n",
       " Memory estimate\u001b[90m: \u001b[39m\u001b[33m16 bytes\u001b[39m, allocs estimate\u001b[90m: \u001b[39m\u001b[33m1\u001b[39m."
      ]
     },
     "metadata": {},
     "output_type": "display_data"
    }
   ],
   "source": [
    "using BenchmarkTools\n",
    "@benchmark serialsum(values)"
   ]
  },
  {
   "cell_type": "markdown",
   "id": "c3a2a5e2-4b12-43ea-98de-07ebfd6a1c9a",
   "metadata": {},
   "source": [
    "##### Example"
   ]
  },
  {
   "cell_type": "code",
   "execution_count": null,
   "id": "cc25dca1-af72-4240-aa00-631a68972dae",
   "metadata": {},
   "outputs": [
    {
     "data": {
      "text/plain": [
       "Any[]"
      ]
     },
     "metadata": {},
     "output_type": "display_data"
    }
   ],
   "source": [
    "xs = []"
   ]
  },
  {
   "cell_type": "code",
   "execution_count": null,
   "id": "0db48e88-cb05-41d9-8445-11a054df08ec",
   "metadata": {},
   "outputs": [
    {
     "name": "stdout",
     "output_type": "stream",
     "text": [
      "1\n",
      "2\n",
      "3\n",
      "4\n"
     ]
    }
   ],
   "source": [
    "for i in 1:4\n",
    "    println(i)\n",
    "end"
   ]
  },
  {
   "cell_type": "markdown",
   "id": "40a4caa3-5ceb-4858-9e86-3892ae6e619f",
   "metadata": {},
   "source": [
    "Make the loop run in multi-thread"
   ]
  },
  {
   "cell_type": "code",
   "execution_count": null,
   "id": "a9507ede-5b60-467a-9f94-ce4a46a9df1a",
   "metadata": {},
   "outputs": [
    {
     "name": "stdout",
     "output_type": "stream",
     "text": [
      "3\n",
      "4\n",
      "2\n",
      "1\n"
     ]
    }
   ],
   "source": [
    "Threads.@threads for i in 1:4\n",
    "    println(i)\n",
    "end"
   ]
  },
  {
   "cell_type": "markdown",
   "id": "934df00c-eab5-4c6b-9b92-5c214bbdb7fc",
   "metadata": {},
   "source": [
    "### Even more complexity, race conditions!"
   ]
  },
  {
   "cell_type": "markdown",
   "id": "46aba1ad-d162-43ae-a6b6-34ddd5148775",
   "metadata": {},
   "source": [
    "### Locks"
   ]
  }
 ],
 "metadata": {
  "kernelspec": {
   "display_name": "Julia 1.8.2",
   "language": "julia",
   "name": "julia-1.8"
  }
 },
 "nbformat": 4,
 "nbformat_minor": 5
}
