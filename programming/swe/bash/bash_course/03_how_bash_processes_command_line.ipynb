{
 "cells": [
  {
   "cell_type": "markdown",
   "id": "f50b5c58-40e0-4288-b77f-e5c5b4835a75",
   "metadata": {},
   "source": [
    "### 3. How Bash Processes Command Line"
   ]
  },
  {
   "cell_type": "markdown",
   "id": "6d4076cb-1aba-4843-9a4f-745c42fde316",
   "metadata": {},
   "source": [
    "Step 1: Tokenization\n",
    "\n",
    "Step 2: Command Identification"
   ]
  },
  {
   "cell_type": "markdown",
   "id": "47415cad-c962-41d3-a854-152b34e8a135",
   "metadata": {},
   "source": [
    "##### 3. Quoting"
   ]
  },
  {
   "cell_type": "code",
   "execution_count": null,
   "id": "0fb2baa0-caac-4e67-95ce-f62d6021f205",
   "metadata": {},
   "outputs": [],
   "source": [
    "e"
   ]
  }
 ],
 "metadata": {
  "kernelspec": {
   "display_name": "Python 3 (ipykernel)",
   "language": "python",
   "name": "python3"
  }
 },
 "nbformat": 4,
 "nbformat_minor": 5
}
