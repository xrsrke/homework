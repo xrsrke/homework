{
 "cells": [
  {
   "cell_type": "markdown",
   "id": "3750328c-8baf-4c3c-94e6-18f8b094b682",
   "metadata": {},
   "source": [
    "# 4. Requesting User Input"
   ]
  },
  {
   "cell_type": "markdown",
   "id": "fef140c8-3f44-4231-ae00-bd0630262102",
   "metadata": {},
   "source": [
    "### 2. Postional Parameters"
   ]
  },
  {
   "cell_type": "markdown",
   "id": "07715620-b70f-49ca-b2d3-15396ccf821b",
   "metadata": {},
   "source": [
    "##### Example 1"
   ]
  },
  {
   "cell_type": "code",
   "execution_count": null,
   "id": "4ea06f14-c34a-4d60-96a6-1bb622597605",
   "metadata": {},
   "outputs": [],
   "source": [
    "~/DATA/scripts main*\n",
    "base ❯ ./positional_script.sh shivon neuralink\n",
    "My name is shivon\n",
    "I work at neuralink"
   ]
  },
  {
   "cell_type": "markdown",
   "id": "e579510e-61c5-4108-9f4e-b74c75dc4b7e",
   "metadata": {},
   "source": [
    "Write a bash script that works as above"
   ]
  },
  {
   "cell_type": "code",
   "execution_count": null,
   "id": "7d1e92e5-0442-4d81-a959-b10e4dbc0c6d",
   "metadata": {},
   "outputs": [],
   "source": [
    "#!/bin/bash\n",
    "\n",
    "echo \"My name is $1\"\n",
    "echo \"I work at $2\""
   ]
  }
 ],
 "metadata": {
  "kernelspec": {
   "display_name": "Python 3 (ipykernel)",
   "language": "python",
   "name": "python3"
  }
 },
 "nbformat": 4,
 "nbformat_minor": 5
}
