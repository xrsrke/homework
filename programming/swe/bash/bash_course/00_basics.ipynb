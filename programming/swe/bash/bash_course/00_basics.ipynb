{
 "cells": [
  {
   "cell_type": "markdown",
   "id": "2b0641f6-2bc3-41ac-a8d4-3975d1ced31f",
   "metadata": {},
   "source": [
    "##### Example 1"
   ]
  },
  {
   "cell_type": "code",
   "execution_count": null,
   "id": "bff7cab7-8e86-42df-b19a-0c7a604155fc",
   "metadata": {},
   "outputs": [],
   "source": [
    "~\n",
    "base ❯ conda activate tinypytorch\n",
    "\n",
    "~\n",
    "tinypytorch ❯ python3 --version\n",
    "Python 3.10.8"
   ]
  },
  {
   "cell_type": "markdown",
   "id": "1f4f4f01-5b29-4c04-8c39-5452d01201e1",
   "metadata": {},
   "source": [
    "Write a bash script that execute the two commands above"
   ]
  },
  {
   "cell_type": "code",
   "execution_count": null,
   "id": "77a12143-4a1d-4654-ad7a-ed3ce7424423",
   "metadata": {},
   "outputs": [],
   "source": [
    "#!/bin/bash\n",
    "\n",
    "conda activate tinypytorch\n",
    "python3 --version"
   ]
  },
  {
   "cell_type": "code",
   "execution_count": null,
   "id": "e382f1ac-68a0-498e-873a-612d1e40b3c6",
   "metadata": {},
   "outputs": [],
   "source": []
  }
 ],
 "metadata": {
  "kernelspec": {
   "display_name": "Python 3 (ipykernel)",
   "language": "python",
   "name": "python3"
  }
 },
 "nbformat": 4,
 "nbformat_minor": 5
}
