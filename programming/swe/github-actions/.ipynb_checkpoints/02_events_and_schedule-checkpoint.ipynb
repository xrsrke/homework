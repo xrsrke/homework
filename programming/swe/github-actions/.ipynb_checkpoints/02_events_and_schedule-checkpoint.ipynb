{
 "cells": [
  {
   "cell_type": "markdown",
   "id": "20a1fe63-0cb7-4555-9958-a2dfb7f8bcd2",
   "metadata": {},
   "source": [
    "### 02 - Events, Schedules, External Events _ Filters that can Trigger a Workflow Run"
   ]
  },
  {
   "cell_type": "markdown",
   "id": "0b347eed-7ad4-4767-955c-5202fa0ec40a",
   "metadata": {},
   "source": [
    "##### Example 1"
   ]
  },
  {
   "cell_type": "markdown",
   "id": "9cf32ac6-58c1-4d8c-a73c-b62ea34b1bbb",
   "metadata": {},
   "source": [
    "Create a workflow named `clean cache`, and run it periodically at 5 mins for every hours"
   ]
  },
  {
   "cell_type": "code",
   "execution_count": null,
   "id": "26dc2371-3b0a-4610-8c0f-2f7ffcc6cc58",
   "metadata": {},
   "outputs": [],
   "source": [
    "name: clean cache\n",
    "\n",
    "on:\n",
    "    schedule:\n",
    "        - cron: \"1 * * * *\""
   ]
  },
  {
   "cell_type": "code",
   "execution_count": null,
   "id": "5f91cf3e-ae04-493f-8ae5-621219113661",
   "metadata": {},
   "outputs": [],
   "source": []
  },
  {
   "cell_type": "code",
   "execution_count": null,
   "id": "88d7483f-624c-4a02-b9ac-58c18c664d3a",
   "metadata": {},
   "outputs": [],
   "source": []
  }
 ],
 "metadata": {
  "kernelspec": {
   "display_name": "Python 3 (ipykernel)",
   "language": "python",
   "name": "python3"
  }
 },
 "nbformat": 4,
 "nbformat_minor": 5
}
