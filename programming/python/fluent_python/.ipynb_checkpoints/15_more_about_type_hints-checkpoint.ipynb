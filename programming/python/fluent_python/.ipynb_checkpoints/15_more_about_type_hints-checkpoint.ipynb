{
 "cells": [
  {
   "cell_type": "markdown",
   "id": "1018ffc5-5882-4e2b-9212-22bfd97b4981",
   "metadata": {},
   "source": [
    "# Chapter 15: More About Type Hints"
   ]
  },
  {
   "cell_type": "markdown",
   "id": "180093d0-2d12-4b0a-8184-4c1ec2e73be1",
   "metadata": {},
   "source": [
    "### 1. Overloaded Signature"
   ]
  },
  {
   "cell_type": "markdown",
   "id": "73a41c82-bd38-4d04-b619-2f6fb4eea0f2",
   "metadata": {},
   "source": [
    "##### Example 1"
   ]
  },
  {
   "cell_type": "code",
   "execution_count": null,
   "id": "3a3e94eb-f261-46cf-9717-51eb8f202796",
   "metadata": {},
   "outputs": [],
   "source": [
    "from typing import Union, List"
   ]
  },
  {
   "cell_type": "code",
   "execution_count": null,
   "id": "51ebb474-9ca7-43c4-84ae-2e49ffb15dc4",
   "metadata": {},
   "outputs": [],
   "source": [
    "from typing import overload"
   ]
  },
  {
   "cell_type": "code",
   "execution_count": null,
   "id": "a6a35166-d1da-4263-bf8b-960c5b42df76",
   "metadata": {},
   "outputs": [],
   "source": [
    "@overload\n",
    "def get_item(x: str) -> str: pass"
   ]
  },
  {
   "cell_type": "code",
   "execution_count": null,
   "id": "336ce2d5-bbdc-4021-9a90-245469919c7e",
   "metadata": {},
   "outputs": [],
   "source": [
    "@overload\n",
    "def getitem(x: List[int]) -> int: pass"
   ]
  },
  {
   "cell_type": "markdown",
   "id": "981602d9-22cd-4b17-8ec0-926a9c76648a",
   "metadata": {},
   "source": [
    "Make function `getitem` tell type checker explicitely that if\n",
    "- receive a string -> it will return a str\n",
    "- receive a int -> it will return a int\n",
    "\n",
    "without changing the code of `getitem`"
   ]
  },
  {
   "cell_type": "code",
   "execution_count": null,
   "id": "a36b45d8-7076-4ec0-a897-c9936693fd46",
   "metadata": {},
   "outputs": [],
   "source": [
    "def getitem(x: Union[str, List[int]]) -> Union[str, int]:\n",
    "    return x[1]"
   ]
  },
  {
   "cell_type": "code",
   "execution_count": null,
   "id": "92398bad-cd7a-456d-aa61-0f656677f113",
   "metadata": {},
   "outputs": [
    {
     "data": {
      "text/plain": [
       "('e', 2)"
      ]
     },
     "execution_count": null,
     "metadata": {},
     "output_type": "execute_result"
    }
   ],
   "source": [
    "getitem('hello'), getitem([1, 2, 3])"
   ]
  },
  {
   "cell_type": "markdown",
   "id": "b345d6a0-2d08-42ae-90dc-0a3f9a9d4a90",
   "metadata": {},
   "source": [
    "##### Example 2"
   ]
  },
  {
   "cell_type": "code",
   "execution_count": null,
   "id": "7e07806d-512f-45c2-9f73-09d7d2916de1",
   "metadata": {},
   "outputs": [],
   "source": [
    "MISSING = object()"
   ]
  },
  {
   "cell_type": "code",
   "execution_count": null,
   "id": "a134438d-94cb-4e8d-884b-27819b231516",
   "metadata": {},
   "outputs": [],
   "source": [
    "EMPTY_MSG = 'max() arg is an empty sequence'"
   ]
  },
  {
   "cell_type": "code",
   "execution_count": null,
   "id": "63133b21-78d0-444d-8eee-9f95f5a02701",
   "metadata": {},
   "outputs": [],
   "source": [
    "def max(first, *args, key=None, default=MISSING):\n",
    "    if args:\n",
    "        series = args\n",
    "        candidate = first\n",
    "    else:\n",
    "        series"
   ]
  },
  {
   "cell_type": "code",
   "execution_count": null,
   "id": "701290ac-1b46-4649-9cc1-a82475edf975",
   "metadata": {},
   "outputs": [],
   "source": []
  }
 ],
 "metadata": {
  "kernelspec": {
   "display_name": "Python 3 (ipykernel)",
   "language": "python",
   "name": "python3"
  }
 },
 "nbformat": 4,
 "nbformat_minor": 5
}
