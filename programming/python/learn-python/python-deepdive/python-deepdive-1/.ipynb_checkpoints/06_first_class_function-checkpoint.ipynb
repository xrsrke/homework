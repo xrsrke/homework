{
 "cells": [
  {
   "cell_type": "markdown",
   "id": "5fda8e35-0abd-433a-98e6-6b3994b3a17a",
   "metadata": {},
   "source": [
    "# 6. First-class function"
   ]
  },
  {
   "cell_type": "markdown",
   "id": "d563802d-8cfa-48aa-aed5-893808269ee3",
   "metadata": {
    "tags": []
   },
   "source": [
    "### partial()"
   ]
  },
  {
   "cell_type": "code",
   "execution_count": 1,
   "id": "6dc3ba2e-5a9d-4d53-8758-4cdc57fc9341",
   "metadata": {},
   "outputs": [],
   "source": [
    "from functools import partial"
   ]
  },
  {
   "cell_type": "code",
   "execution_count": 2,
   "id": "693937cc-9c39-4ea9-b492-b7a1cebd45fb",
   "metadata": {},
   "outputs": [],
   "source": [
    "def add(a, b):\n",
    "    return a + b"
   ]
  },
  {
   "cell_type": "code",
   "execution_count": 3,
   "id": "75a0acf4-a770-406d-9b10-190af61b6ad6",
   "metadata": {},
   "outputs": [],
   "source": [
    "f = partial(add, 2)"
   ]
  },
  {
   "cell_type": "markdown",
   "id": "ded28033-a00f-4f60-8640-fe13ecfb4517",
   "metadata": {},
   "source": [
    "Does `f` a function?"
   ]
  },
  {
   "cell_type": "markdown",
   "id": "7d523903-3ea3-498a-bb92-6ce2f75e2303",
   "metadata": {},
   "source": [
    "**Answer**: Yes"
   ]
  },
  {
   "cell_type": "code",
   "execution_count": 4,
   "id": "97e9ab16-ebb6-4443-b65b-ab37c194d1a1",
   "metadata": {},
   "outputs": [
    {
     "data": {
      "text/plain": [
       "5"
      ]
     },
     "execution_count": 4,
     "metadata": {},
     "output_type": "execute_result"
    }
   ],
   "source": [
    "f(3)"
   ]
  },
  {
   "cell_type": "code",
   "execution_count": 5,
   "id": "60d9e461-4bec-441a-b31e-0c89bd570824",
   "metadata": {},
   "outputs": [],
   "source": [
    "from functools import partial"
   ]
  },
  {
   "cell_type": "code",
   "execution_count": 6,
   "id": "e49f4af2-75dd-4686-8a47-ce9f987348cd",
   "metadata": {},
   "outputs": [],
   "source": [
    "def add(a, b):\n",
    "    return a + b"
   ]
  },
  {
   "cell_type": "code",
   "execution_count": 7,
   "id": "6b189272-d833-4cf5-9598-ab74dad05f9a",
   "metadata": {},
   "outputs": [],
   "source": [
    "f = partial(add, 2)"
   ]
  },
  {
   "cell_type": "markdown",
   "id": "aa50ea15-6955-4542-91b8-8e0e89f0d5e2",
   "metadata": {},
   "source": [
    "What parameters `f` takes?"
   ]
  },
  {
   "cell_type": "markdown",
   "id": "c402ad18-bf89-4796-b6fb-755d6a7d127b",
   "metadata": {},
   "source": [
    "**Answer**: the `b` parameter of function `add`"
   ]
  },
  {
   "cell_type": "code",
   "execution_count": 8,
   "id": "090cc20e-57de-4418-b2c7-36f54d01f22a",
   "metadata": {},
   "outputs": [],
   "source": [
    "from functools import partial"
   ]
  },
  {
   "cell_type": "code",
   "execution_count": 9,
   "id": "30eb9cae-a37d-4fa5-9849-2cda6f8332fc",
   "metadata": {},
   "outputs": [],
   "source": [
    "def add(a, b):\n",
    "    return a + b"
   ]
  },
  {
   "cell_type": "code",
   "execution_count": 10,
   "id": "53a6ddda-0569-4193-9ebb-c92a3a4d07d4",
   "metadata": {},
   "outputs": [],
   "source": [
    "f = partial(add, 2)"
   ]
  },
  {
   "cell_type": "markdown",
   "id": "476a767a-383a-409c-9464-020916f4cfd3",
   "metadata": {},
   "source": [
    "What is the output? Explain"
   ]
  },
  {
   "cell_type": "code",
   "execution_count": 11,
   "id": "51273901-e94b-4c19-aee0-c63da6242a87",
   "metadata": {},
   "outputs": [
    {
     "data": {
      "text/plain": [
       "5"
      ]
     },
     "execution_count": 11,
     "metadata": {},
     "output_type": "execute_result"
    }
   ],
   "source": [
    "f(3)"
   ]
  },
  {
   "cell_type": "markdown",
   "id": "9b5fbbf5-3ac4-44e9-8970-54ee75b432b6",
   "metadata": {},
   "source": [
    "**Explain**\n",
    "- `f = partial(add, 2)`: it creates a function named `f` that have parameter `a = 2`, and takes parameter `b`\n",
    "\n",
    "So when you pass `f(3)` => the paramter `b` takes `3` so `return a+b` = `return 2+3` = `5` "
   ]
  }
 ],
 "metadata": {
  "kernelspec": {
   "display_name": "Python 3 (ipykernel)",
   "language": "python",
   "name": "python3"
  },
  "language_info": {
   "codemirror_mode": {
    "name": "ipython",
    "version": 3
   },
   "file_extension": ".py",
   "mimetype": "text/x-python",
   "name": "python",
   "nbconvert_exporter": "python",
   "pygments_lexer": "ipython3",
   "version": "3.9.13"
  }
 },
 "nbformat": 4,
 "nbformat_minor": 5
}
