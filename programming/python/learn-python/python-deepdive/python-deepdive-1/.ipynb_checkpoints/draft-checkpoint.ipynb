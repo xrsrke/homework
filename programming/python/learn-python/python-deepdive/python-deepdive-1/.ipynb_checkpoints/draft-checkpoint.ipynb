{
 "cells": [
  {
   "cell_type": "code",
   "execution_count": 7,
   "id": "4a0e9ad0-e462-4ac1-9a60-b1d19c9a46af",
   "metadata": {},
   "outputs": [],
   "source": [
    "from itertools import permutations"
   ]
  },
  {
   "cell_type": "code",
   "execution_count": 8,
   "id": "db75f42e-ec4a-4fe7-9f42-5190a229ba2a",
   "metadata": {},
   "outputs": [],
   "source": [
    "block = ['hidden', 'true', 'logic']"
   ]
  },
  {
   "cell_type": "code",
   "execution_count": 9,
   "id": "df0ba2c7-f7ac-4230-b7a8-c030636f57a9",
   "metadata": {},
   "outputs": [
    {
     "data": {
      "text/plain": [
       "[('hidden', 'true', 'logic'),\n",
       " ('hidden', 'logic', 'true'),\n",
       " ('true', 'hidden', 'logic'),\n",
       " ('true', 'logic', 'hidden'),\n",
       " ('logic', 'hidden', 'true'),\n",
       " ('logic', 'true', 'hidden')]"
      ]
     },
     "execution_count": 9,
     "metadata": {},
     "output_type": "execute_result"
    }
   ],
   "source": [
    "list(permutations(block, 3))"
   ]
  },
  {
   "cell_type": "code",
   "execution_count": null,
   "id": "a963b630-f3b4-41d0-8c8b-d5a1e7d04488",
   "metadata": {},
   "outputs": [],
   "source": []
  }
 ],
 "metadata": {
  "kernelspec": {
   "display_name": "Python 3 (ipykernel)",
   "language": "python",
   "name": "python3"
  },
  "language_info": {
   "codemirror_mode": {
    "name": "ipython",
    "version": 3
   },
   "file_extension": ".py",
   "mimetype": "text/x-python",
   "name": "python",
   "nbconvert_exporter": "python",
   "pygments_lexer": "ipython3",
   "version": "3.9.13"
  }
 },
 "nbformat": 4,
 "nbformat_minor": 5
}
