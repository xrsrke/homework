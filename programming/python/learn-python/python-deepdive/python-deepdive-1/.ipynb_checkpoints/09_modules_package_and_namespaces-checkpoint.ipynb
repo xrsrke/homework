{
 "cells": [
  {
   "cell_type": "markdown",
   "id": "d8ecf765-255c-445a-b022-0fdb3d542bde",
   "metadata": {},
   "source": [
    "# 9. Modules, Packages and Namespaces"
   ]
  },
  {
   "cell_type": "markdown",
   "id": "447fb0ab-9913-48f4-bfd6-59065dfa2f99",
   "metadata": {
    "jp-MarkdownHeadingCollapsed": true,
    "tags": []
   },
   "source": [
    "### Local and Global Namespaces"
   ]
  },
  {
   "cell_type": "code",
   "execution_count": 1,
   "id": "bf3eb87b-89ce-4f95-bb85-a263fd54736f",
   "metadata": {},
   "outputs": [],
   "source": [
    "def func():\n",
    "    pass"
   ]
  },
  {
   "cell_type": "code",
   "execution_count": 2,
   "id": "0692e6a2-3bcb-4995-a657-22b162e069a9",
   "metadata": {},
   "outputs": [
    {
     "data": {
      "text/plain": [
       "function"
      ]
     },
     "execution_count": 2,
     "metadata": {},
     "output_type": "execute_result"
    }
   ],
   "source": [
    "type(func)"
   ]
  },
  {
   "cell_type": "markdown",
   "id": "1a01bed5-ce3c-4029-85c2-cf7237a1a497",
   "metadata": {},
   "source": [
    "Return the global namespace"
   ]
  },
  {
   "cell_type": "code",
   "execution_count": 15,
   "id": "023cbe66-a1fc-434a-bd46-45cf19437001",
   "metadata": {
    "tags": []
   },
   "outputs": [],
   "source": [
    "def func():\n",
    "    a = 1\n",
    "    return locals()"
   ]
  },
  {
   "cell_type": "markdown",
   "id": "f38a5b60-b71c-4534-9863-721c2f51108f",
   "metadata": {},
   "source": [
    "What is the output? Explain"
   ]
  },
  {
   "cell_type": "code",
   "execution_count": 13,
   "id": "01391be2-3924-4859-910a-f623ca0a80a7",
   "metadata": {},
   "outputs": [
    {
     "data": {
      "text/plain": [
       "{'a': 1}"
      ]
     },
     "execution_count": 13,
     "metadata": {},
     "output_type": "execute_result"
    }
   ],
   "source": [
    "func()"
   ]
  },
  {
   "cell_type": "markdown",
   "id": "ed40b9e2-18df-49be-b835-aeeb1b47d4a7",
   "metadata": {
    "tags": []
   },
   "source": [
    "**Explain**\n",
    "`locals()` return the local namespace of the function `func`.\n",
    "\n",
    "Because in the function `func`, there's only one variable `a`. So it's return `{'a': 1}`"
   ]
  },
  {
   "cell_type": "code",
   "execution_count": 5,
   "id": "72ad9020-2bc8-4fba-832d-eaed08d2548c",
   "metadata": {},
   "outputs": [
    {
     "data": {
      "text/plain": [
       "{'__name__': '__main__',\n",
       " '__doc__': 'Automatically created module for IPython interactive environment',\n",
       " '__package__': None,\n",
       " '__loader__': None,\n",
       " '__spec__': None,\n",
       " '__builtin__': <module 'builtins' (built-in)>,\n",
       " '__builtins__': <module 'builtins' (built-in)>,\n",
       " '_ih': ['',\n",
       "  'def func():\\n    pass',\n",
       "  'type(func)',\n",
       "  'global()',\n",
       "  'globals()',\n",
       "  'globals()'],\n",
       " '_oh': {2: function, 4: {...}},\n",
       " '_dh': [PosixPath('/Users/study/DATA/projects/software-engineering/learn-python/python-deepdive-1')],\n",
       " 'In': ['',\n",
       "  'def func():\\n    pass',\n",
       "  'type(func)',\n",
       "  'global()',\n",
       "  'globals()',\n",
       "  'globals()'],\n",
       " 'Out': {2: function, 4: {...}},\n",
       " 'get_ipython': <bound method InteractiveShell.get_ipython of <ipykernel.zmqshell.ZMQInteractiveShell object at 0x7fa170727220>>,\n",
       " 'exit': <IPython.core.autocall.ZMQExitAutocall at 0x7fa170727eb0>,\n",
       " 'quit': <IPython.core.autocall.ZMQExitAutocall at 0x7fa170727eb0>,\n",
       " '_': {...},\n",
       " '__': function,\n",
       " '___': '',\n",
       " '_i': 'globals()',\n",
       " '_ii': 'global()',\n",
       " '_iii': 'type(func)',\n",
       " '_i1': 'def func():\\n    pass',\n",
       " 'func': <function __main__.func()>,\n",
       " '_i2': 'type(func)',\n",
       " '_2': function,\n",
       " '_i3': 'global()',\n",
       " '_i4': 'globals()',\n",
       " '_4': {...},\n",
       " '_i5': 'globals()'}"
      ]
     },
     "execution_count": 5,
     "metadata": {},
     "output_type": "execute_result"
    }
   ],
   "source": [
    "globals()"
   ]
  },
  {
   "cell_type": "code",
   "execution_count": 36,
   "id": "70d69bab-e07c-4165-b3de-4e0a55b20615",
   "metadata": {},
   "outputs": [],
   "source": [
    "b = 2"
   ]
  },
  {
   "cell_type": "code",
   "execution_count": 37,
   "id": "f25bb0d8-d3a5-4e0b-9313-13035127b24c",
   "metadata": {},
   "outputs": [],
   "source": [
    "def func2():\n",
    "    b = 1"
   ]
  },
  {
   "cell_type": "code",
   "execution_count": 38,
   "id": "39da59b4-4c81-4ac3-b715-41dc9691defa",
   "metadata": {},
   "outputs": [],
   "source": [
    "func2()"
   ]
  },
  {
   "cell_type": "markdown",
   "id": "d94474f0-5b60-4e81-b8eb-c67cec1ea9d8",
   "metadata": {},
   "source": [
    "What is the output? Explain"
   ]
  },
  {
   "cell_type": "code",
   "execution_count": 39,
   "id": "393883e1-43cb-41b0-80b8-ee2b7613ea3a",
   "metadata": {},
   "outputs": [
    {
     "data": {
      "text/plain": [
       "2"
      ]
     },
     "execution_count": 39,
     "metadata": {},
     "output_type": "execute_result"
    }
   ],
   "source": [
    "globals()['b']"
   ]
  },
  {
   "cell_type": "markdown",
   "id": "1102db43-fb69-4208-9ddf-3a4974cf2b61",
   "metadata": {},
   "source": [
    "**Explain**\n",
    "\n",
    "Because at global namespaces, the value of `b` is 2"
   ]
  },
  {
   "cell_type": "markdown",
   "id": "845ff4af-f39e-4453-9ff3-3c964693c6b5",
   "metadata": {
    "jp-MarkdownHeadingCollapsed": true,
    "tags": []
   },
   "source": [
    "### 2. What is a Module?"
   ]
  },
  {
   "cell_type": "code",
   "execution_count": 40,
   "id": "fce21349-dd16-4f62-80c8-38f91e2d4688",
   "metadata": {},
   "outputs": [],
   "source": [
    "import math"
   ]
  },
  {
   "cell_type": "code",
   "execution_count": 41,
   "id": "4bee3413-7537-47dd-aadc-de9a15e934fb",
   "metadata": {},
   "outputs": [
    {
     "data": {
      "text/plain": [
       "<module 'math' from '/opt/anaconda3/envs/tinypytorch/lib/python3.9/lib-dynload/math.cpython-39-darwin.so'>"
      ]
     },
     "execution_count": 41,
     "metadata": {},
     "output_type": "execute_result"
    }
   ],
   "source": [
    "math"
   ]
  },
  {
   "cell_type": "code",
   "execution_count": 42,
   "id": "c1365653-30db-46e8-a2fa-92d6c9c40781",
   "metadata": {},
   "outputs": [],
   "source": [
    "import fractions"
   ]
  },
  {
   "cell_type": "code",
   "execution_count": 43,
   "id": "4381cd4a-4321-4ef2-a7e2-676582864cd9",
   "metadata": {},
   "outputs": [
    {
     "data": {
      "text/plain": [
       "<module 'fractions' from '/opt/anaconda3/envs/tinypytorch/lib/python3.9/fractions.py'>"
      ]
     },
     "execution_count": 43,
     "metadata": {},
     "output_type": "execute_result"
    }
   ],
   "source": [
    "fractions"
   ]
  },
  {
   "cell_type": "code",
   "execution_count": 45,
   "id": "6657568d-3879-482d-875a-5d9bced0f5fd",
   "metadata": {},
   "outputs": [],
   "source": [
    "import sys"
   ]
  },
  {
   "cell_type": "code",
   "execution_count": 47,
   "id": "891fee44-7b41-4372-8edb-36fcb2a29bfa",
   "metadata": {},
   "outputs": [
    {
     "data": {
      "text/plain": [
       "dict"
      ]
     },
     "execution_count": 47,
     "metadata": {},
     "output_type": "execute_result"
    }
   ],
   "source": [
    "type(sys.modules)"
   ]
  },
  {
   "cell_type": "code",
   "execution_count": 48,
   "id": "0a5ea7de-69e1-44e6-a734-92757e84cfa6",
   "metadata": {},
   "outputs": [
    {
     "data": {
      "text/plain": [
       "<module 'math' from '/opt/anaconda3/envs/tinypytorch/lib/python3.9/lib-dynload/math.cpython-39-darwin.so'>"
      ]
     },
     "execution_count": 48,
     "metadata": {},
     "output_type": "execute_result"
    }
   ],
   "source": [
    "sys.modules['math']"
   ]
  },
  {
   "cell_type": "code",
   "execution_count": 61,
   "id": "9d21b2e1-9b18-42a4-ae67-7540504a5316",
   "metadata": {},
   "outputs": [],
   "source": [
    "import types\n",
    "import math"
   ]
  },
  {
   "cell_type": "code",
   "execution_count": 62,
   "id": "3a52ae3c-78e3-4817-92bf-bee4585427bf",
   "metadata": {},
   "outputs": [],
   "source": [
    "value = types.ModuleType"
   ]
  },
  {
   "cell_type": "code",
   "execution_count": 63,
   "id": "bd190a9a-b38a-45ff-9f8e-5366445a3b1d",
   "metadata": {},
   "outputs": [
    {
     "data": {
      "text/plain": [
       "True"
      ]
     },
     "execution_count": 63,
     "metadata": {},
     "output_type": "execute_result"
    }
   ],
   "source": [
    "isinstance(math, value)"
   ]
  },
  {
   "cell_type": "markdown",
   "id": "81f905a1-bd3a-4735-878a-c9f4eaeb7db0",
   "metadata": {},
   "source": [
    "### 3. How does Python import Modules?"
   ]
  },
  {
   "cell_type": "code",
   "execution_count": 64,
   "id": "6721c658-ca0b-483c-81cb-834d899852a6",
   "metadata": {},
   "outputs": [],
   "source": [
    "import sys"
   ]
  },
  {
   "cell_type": "code",
   "execution_count": 65,
   "id": "b9f03835-cd63-449c-bcdd-8e40a68fe0a0",
   "metadata": {},
   "outputs": [
    {
     "data": {
      "text/plain": [
       "'/opt/anaconda3/envs/tinypytorch'"
      ]
     },
     "execution_count": 65,
     "metadata": {},
     "output_type": "execute_result"
    }
   ],
   "source": [
    "sys.prefix"
   ]
  },
  {
   "cell_type": "code",
   "execution_count": 66,
   "id": "669aea22-377e-4b73-95ca-2856ffbc9422",
   "metadata": {},
   "outputs": [
    {
     "data": {
      "text/plain": [
       "'/opt/anaconda3/envs/tinypytorch'"
      ]
     },
     "execution_count": 66,
     "metadata": {},
     "output_type": "execute_result"
    }
   ],
   "source": [
    "sys.exec_prefix"
   ]
  },
  {
   "cell_type": "code",
   "execution_count": 67,
   "id": "12ac8dd5-c752-4752-bc35-76a7919be537",
   "metadata": {},
   "outputs": [
    {
     "data": {
      "text/plain": [
       "['/Users/study/DATA/projects/software-engineering/learn-python/python-deepdive-1',\n",
       " '/opt/anaconda3/envs/tinypytorch/lib/python39.zip',\n",
       " '/opt/anaconda3/envs/tinypytorch/lib/python3.9',\n",
       " '/opt/anaconda3/envs/tinypytorch/lib/python3.9/lib-dynload',\n",
       " '',\n",
       " '/opt/anaconda3/envs/tinypytorch/lib/python3.9/site-packages',\n",
       " '/Users/study/DATA/projects/data-science/deep-learning/tinypytorch-draft']"
      ]
     },
     "execution_count": 67,
     "metadata": {},
     "output_type": "execute_result"
    }
   ],
   "source": [
    "sys.path"
   ]
  },
  {
   "cell_type": "code",
   "execution_count": 80,
   "id": "b4d73fff-89c2-4a99-8461-e9ac092af5a4",
   "metadata": {},
   "outputs": [],
   "source": [
    "name = \"Shivon\""
   ]
  },
  {
   "cell_type": "markdown",
   "id": "4125dcf8-22e4-41b3-af31-de6d3c26d7fa",
   "metadata": {},
   "source": [
    "Print the line bellow using `.format()`"
   ]
  },
  {
   "cell_type": "code",
   "execution_count": 81,
   "id": "bfcb681c-7b53-4fd1-a410-a0ad1729230a",
   "metadata": {},
   "outputs": [
    {
     "name": "stdout",
     "output_type": "stream",
     "text": [
      "Hello Shivon !\n"
     ]
    }
   ],
   "source": [
    "print(\"Hello {0} !\".format(name))"
   ]
  },
  {
   "cell_type": "code",
   "execution_count": 86,
   "id": "54f1ea70-8971-49d6-8bdf-df7f24a43f43",
   "metadata": {},
   "outputs": [],
   "source": [
    "import sys"
   ]
  },
  {
   "cell_type": "markdown",
   "id": "d0d6b441-c4f1-476d-aa35-38b7ccbee602",
   "metadata": {},
   "source": [
    "What does this do?"
   ]
  },
  {
   "cell_type": "code",
   "execution_count": 87,
   "id": "31d9c5ee-67a7-47c5-9e2d-5aed39eb0e0c",
   "metadata": {},
   "outputs": [
    {
     "data": {
      "text/plain": [
       "['/Users/study/DATA/projects/software-engineering/learn-python/python-deepdive-1',\n",
       " '/opt/anaconda3/envs/tinypytorch/lib/python39.zip',\n",
       " '/opt/anaconda3/envs/tinypytorch/lib/python3.9',\n",
       " '/opt/anaconda3/envs/tinypytorch/lib/python3.9/lib-dynload',\n",
       " '',\n",
       " '/opt/anaconda3/envs/tinypytorch/lib/python3.9/site-packages',\n",
       " '/Users/study/DATA/projects/data-science/deep-learning/tinypytorch-draft']"
      ]
     },
     "execution_count": 87,
     "metadata": {},
     "output_type": "execute_result"
    }
   ],
   "source": [
    "sys.path"
   ]
  },
  {
   "cell_type": "markdown",
   "id": "a6baadd1-b59f-4dcf-8c93-cd9d81e60975",
   "metadata": {},
   "source": [
    "**Answer**: Paths that the interpreter will search"
   ]
  },
  {
   "cell_type": "code",
   "execution_count": 83,
   "id": "8ac0664f-94c8-4ebf-832a-e6ddaa8aaf49",
   "metadata": {},
   "outputs": [
    {
     "data": {
      "text/plain": [
       "<module 'math' from '/opt/anaconda3/envs/tinypytorch/lib/python3.9/lib-dynload/math.cpython-39-darwin.so'>"
      ]
     },
     "execution_count": 83,
     "metadata": {},
     "output_type": "execute_result"
    }
   ],
   "source": [
    "sys.modules['math']"
   ]
  },
  {
   "cell_type": "code",
   "execution_count": 94,
   "id": "76d4c5cc-d792-487a-ade2-66d9d4b88563",
   "metadata": {},
   "outputs": [],
   "source": [
    "import math"
   ]
  },
  {
   "cell_type": "code",
   "execution_count": 95,
   "id": "4627fe00-dad9-47c6-ab64-24feaec81d5b",
   "metadata": {},
   "outputs": [
    {
     "data": {
      "text/plain": [
       "2.0"
      ]
     },
     "execution_count": 95,
     "metadata": {},
     "output_type": "execute_result"
    }
   ],
   "source": [
    "math.sqrt(4)"
   ]
  },
  {
   "cell_type": "code",
   "execution_count": 96,
   "id": "b60a8fa6-857f-41e5-a6fb-ae694c752265",
   "metadata": {},
   "outputs": [],
   "source": [
    "del globals()['math']"
   ]
  },
  {
   "cell_type": "markdown",
   "id": "134249ef-65da-4bf7-bf5c-2683f35fe4e8",
   "metadata": {},
   "source": [
    "What is the output? Explain"
   ]
  },
  {
   "cell_type": "code",
   "execution_count": null,
   "id": "add4b958-6aca-4a72-80f6-783d7da3db8f",
   "metadata": {},
   "outputs": [],
   "source": [
    "math.sqrt(4)"
   ]
  },
  {
   "cell_type": "markdown",
   "id": "c830acd3-795b-4cc6-b776-d9fbdc706374",
   "metadata": {},
   "source": [
    "**Output**: name 'math' is not defined\n",
    "\n",
    "**Explain**: Because the math reference was deleted in the global namespace of this file"
   ]
  },
  {
   "cell_type": "code",
   "execution_count": null,
   "id": "91be770e-6b0b-42b1-bd72-4b924718b68f",
   "metadata": {},
   "outputs": [],
   "source": []
  }
 ],
 "metadata": {
  "kernelspec": {
   "display_name": "Python 3 (ipykernel)",
   "language": "python",
   "name": "python3"
  },
  "language_info": {
   "codemirror_mode": {
    "name": "ipython",
    "version": 3
   },
   "file_extension": ".py",
   "mimetype": "text/x-python",
   "name": "python",
   "nbconvert_exporter": "python",
   "pygments_lexer": "ipython3",
   "version": "3.9.13"
  }
 },
 "nbformat": 4,
 "nbformat_minor": 5
}
