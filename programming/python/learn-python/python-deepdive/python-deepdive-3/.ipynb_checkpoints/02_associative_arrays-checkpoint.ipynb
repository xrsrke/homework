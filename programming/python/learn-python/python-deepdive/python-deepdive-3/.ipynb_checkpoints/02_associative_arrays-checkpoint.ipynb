{
 "cells": [
  {
   "cell_type": "markdown",
   "id": "6f45f5a5-1194-4043-948d-31a9fba6a690",
   "metadata": {},
   "source": [
    "# 2. Associative Arrays"
   ]
  },
  {
   "cell_type": "code",
   "execution_count": 1,
   "id": "a9f0e15f-a4da-42ca-9106-6670a270f12d",
   "metadata": {},
   "outputs": [],
   "source": [
    "persons = []"
   ]
  },
  {
   "cell_type": "code",
   "execution_count": 2,
   "id": "dba28545-7083-412d-82f0-cad6a9ba9e74",
   "metadata": {},
   "outputs": [],
   "source": [
    "person = [(\"john\", 2)]"
   ]
  },
  {
   "cell_type": "code",
   "execution_count": 4,
   "id": "b879d8ed-0d9b-4e1e-a973-e330502a9963",
   "metadata": {},
   "outputs": [
    {
     "ename": "TypeError",
     "evalue": "list indices must be integers or slices, not str",
     "output_type": "error",
     "traceback": [
      "\u001b[0;31m---------------------------------------------------------------------------\u001b[0m",
      "\u001b[0;31mTypeError\u001b[0m                                 Traceback (most recent call last)",
      "Input \u001b[0;32mIn [4]\u001b[0m, in \u001b[0;36m<cell line: 1>\u001b[0;34m()\u001b[0m\n\u001b[0;32m----> 1\u001b[0m \u001b[43mperson\u001b[49m\u001b[43m[\u001b[49m\u001b[38;5;124;43m\"\u001b[39;49m\u001b[38;5;124;43mjohn\u001b[39;49m\u001b[38;5;124;43m\"\u001b[39;49m\u001b[43m]\u001b[49m\n",
      "\u001b[0;31mTypeError\u001b[0m: list indices must be integers or slices, not str"
     ]
    }
   ],
   "source": [
    "person[\"john\"]"
   ]
  },
  {
   "cell_type": "markdown",
   "id": "44d44d09-ccc4-46bc-b607-a969533d4af8",
   "metadata": {},
   "source": [
    "### 3. Hash Maps (aka Hash Table)"
   ]
  },
  {
   "cell_type": "code",
   "execution_count": 6,
   "id": "40602364-366d-469c-802f-1044f5f6c8c6",
   "metadata": {},
   "outputs": [],
   "source": [
    "def h(x):\n",
    "    return"
   ]
  },
  {
   "cell_type": "markdown",
   "id": "d1a69523-92c0-461a-a3d9-152fae429145",
   "metadata": {},
   "source": [
    "### 4. Python Dictionaries"
   ]
  },
  {
   "cell_type": "code",
   "execution_count": null,
   "id": "3df5286e-b042-4f2c-888a-90a9e604547e",
   "metadata": {},
   "outputs": [],
   "source": []
  }
 ],
 "metadata": {
  "kernelspec": {
   "display_name": "Python 3 (ipykernel)",
   "language": "python",
   "name": "python3"
  },
  "language_info": {
   "codemirror_mode": {
    "name": "ipython",
    "version": 3
   },
   "file_extension": ".py",
   "mimetype": "text/x-python",
   "name": "python",
   "nbconvert_exporter": "python",
   "pygments_lexer": "ipython3",
   "version": "3.9.13"
  }
 },
 "nbformat": 4,
 "nbformat_minor": 5
}
