{
 "cells": [
  {
   "cell_type": "markdown",
   "id": "16a4dbae-2831-471a-a5e5-61863fdadea2",
   "metadata": {},
   "source": [
    "##### Example 1"
   ]
  },
  {
   "cell_type": "code",
   "execution_count": null,
   "id": "a0204321-f056-4145-95b7-9c94592388fe",
   "metadata": {},
   "outputs": [],
   "source": [
    "class Base:\n",
    "    def f(self, x):\n",
    "        print(\"Base.f\", self, x)"
   ]
  },
  {
   "cell_type": "code",
   "execution_count": null,
   "id": "1d678709-6c8d-4afc-8884-dd64e744396e",
   "metadata": {},
   "outputs": [],
   "source": [
    "class Derived(Base):\n",
    "    def f(self, x):\n",
    "        print(\"Derived.f\", self, x)"
   ]
  },
  {
   "cell_type": "code",
   "execution_count": null,
   "id": "d24ce8b4-a526-44e1-9a99-dcfcfbcec627",
   "metadata": {},
   "outputs": [
    {
     "name": "stdout",
     "output_type": "stream",
     "text": [
      "Derived.f <__main__.Derived object> 37\n"
     ]
    }
   ],
   "source": [
    "d = Derived().f(37)"
   ]
  },
  {
   "cell_type": "markdown",
   "id": "920c3e0a-4d22-40b4-a380-9c965eb6d617",
   "metadata": {},
   "source": [
    "Make class `Derived` call the method `f` from class `Base` as bellow using `super()`"
   ]
  },
  {
   "cell_type": "code",
   "execution_count": null,
   "id": "2fb5edae-73e3-4ead-b303-82d9ada81096",
   "metadata": {},
   "outputs": [],
   "source": [
    "class Derived(Base):\n",
    "    def f(self, x):\n",
    "        print(\"Derived.f\", self, x)\n",
    "        super().f(x)"
   ]
  },
  {
   "cell_type": "code",
   "execution_count": null,
   "id": "51d150f8-bef9-4791-a743-d9435ca2386c",
   "metadata": {},
   "outputs": [
    {
     "name": "stdout",
     "output_type": "stream",
     "text": [
      "Derived.f <__main__.Derived object> 37\n",
      "Base.f <__main__.Derived object> 37\n"
     ]
    }
   ],
   "source": [
    "d = Derived().f(37)"
   ]
  },
  {
   "cell_type": "markdown",
   "id": "5f279c37-e925-413a-9cb4-5f9ca61c6bdf",
   "metadata": {},
   "source": [
    "##### Example 2"
   ]
  },
  {
   "cell_type": "code",
   "execution_count": null,
   "id": "a378ce40-e0b8-4655-b57f-2ff549d7a788",
   "metadata": {},
   "outputs": [],
   "source": [
    "class Callback:\n",
    "    def __init__(self):\n",
    "        print(\"__init__\")\n",
    "        self.x = 1\n",
    "    \n",
    "    def __new__(cls, *args, **kwargs):\n",
    "        print(\"__new__\")\n",
    "        return super().__new__(cls)"
   ]
  },
  {
   "cell_type": "markdown",
   "id": "c4c7ad7a-dd53-4852-bd12-48269bad3325",
   "metadata": {},
   "source": [
    "What is the output?"
   ]
  },
  {
   "cell_type": "code",
   "execution_count": null,
   "id": "f18afe93-7069-4634-a9b2-a7d3fac552e6",
   "metadata": {},
   "outputs": [
    {
     "name": "stdout",
     "output_type": "stream",
     "text": [
      "__new__\n",
      "__init__\n"
     ]
    }
   ],
   "source": [
    "_c = Callback()"
   ]
  },
  {
   "cell_type": "code",
   "execution_count": null,
   "id": "56dc0a29-ee9a-4930-bbe6-2df2f4738633",
   "metadata": {},
   "outputs": [
    {
     "data": {
      "text/plain": [
       "1"
      ]
     },
     "execution_count": null,
     "metadata": {},
     "output_type": "execute_result"
    }
   ],
   "source": [
    "_c.x"
   ]
  },
  {
   "cell_type": "markdown",
   "id": "f6608be2-2cf9-4a9e-9007-7328e0eb0203",
   "metadata": {},
   "source": [
    "##### Example 3"
   ]
  },
  {
   "cell_type": "code",
   "execution_count": null,
   "id": "39e2f1e9-ccf9-431a-bcf9-3c0d2720d309",
   "metadata": {},
   "outputs": [],
   "source": [
    "class Callback:\n",
    "    def __init__(self, *args, **kwargs):\n",
    "        print(\"__init__\", self, args, kwargs)\n",
    "        self.x = 1\n",
    "    \n",
    "    def __new__(cls, *args, **kwargs):\n",
    "        print(\"__new__\", cls, args, kwargs)\n",
    "        return super().__new__(cls)"
   ]
  },
  {
   "cell_type": "markdown",
   "id": "6236d20e-7a69-463d-9d44-db50b8610089",
   "metadata": {},
   "source": [
    "What is the output?"
   ]
  },
  {
   "cell_type": "code",
   "execution_count": null,
   "id": "9c3345ec-ded5-400b-b652-fe72bc1d61aa",
   "metadata": {},
   "outputs": [
    {
     "name": "stdout",
     "output_type": "stream",
     "text": [
      "__new__ <class '__main__.Callback'> () {'x': 1}\n",
      "__init__ <__main__.Callback object> () {'x': 1}\n"
     ]
    }
   ],
   "source": [
    "_c = Callback(x=1)"
   ]
  },
  {
   "cell_type": "code",
   "execution_count": null,
   "id": "41ea6746-c41e-4a6c-b812-c642ad15bd75",
   "metadata": {},
   "outputs": [
    {
     "data": {
      "text/plain": [
       "1"
      ]
     },
     "execution_count": null,
     "metadata": {},
     "output_type": "execute_result"
    }
   ],
   "source": [
    "_c.x"
   ]
  },
  {
   "cell_type": "markdown",
   "id": "63df772c-9e8d-4ab0-936b-a61ea94b8885",
   "metadata": {},
   "source": [
    "##### Example 4"
   ]
  },
  {
   "cell_type": "code",
   "execution_count": null,
   "id": "2a464622-7622-42eb-ba4b-4913d3381d64",
   "metadata": {},
   "outputs": [],
   "source": [
    "class UppercaseTuple(tuple):\n",
    "    def __init__(self, iterable):\n",
    "        for i, arg in enumerate(iterable):\n",
    "            self[i] = arg.upper()"
   ]
  },
  {
   "cell_type": "code",
   "execution_count": null,
   "id": "f14776e0-0cf0-4901-bf50-31cf747de5a6",
   "metadata": {},
   "outputs": [
    {
     "ename": "TypeError",
     "evalue": "'UppercaseTuple' object does not support item assignment",
     "output_type": "error",
     "traceback": [
      "\u001b[0;31m---------------------------------------------------------------------------\u001b[0m",
      "\u001b[0;31mTypeError\u001b[0m                                 Traceback (most recent call last)",
      "Input \u001b[0;32mIn [68]\u001b[0m, in \u001b[0;36m<cell line: 1>\u001b[0;34m()\u001b[0m\n\u001b[0;32m----> 1\u001b[0m \u001b[43mUppercaseTuple\u001b[49m\u001b[43m(\u001b[49m\u001b[43m[\u001b[49m\u001b[38;5;124;43m\"\u001b[39;49m\u001b[38;5;124;43mhello\u001b[39;49m\u001b[38;5;124;43m\"\u001b[39;49m\u001b[43m,\u001b[49m\u001b[43m \u001b[49m\u001b[38;5;124;43m\"\u001b[39;49m\u001b[38;5;124;43msHiVon\u001b[39;49m\u001b[38;5;124;43m\"\u001b[39;49m\u001b[43m]\u001b[49m\u001b[43m)\u001b[49m\n",
      "Input \u001b[0;32mIn [67]\u001b[0m, in \u001b[0;36mUppercaseTuple.__init__\u001b[0;34m(self, iterable)\u001b[0m\n\u001b[1;32m      2\u001b[0m \u001b[38;5;28;01mdef\u001b[39;00m \u001b[38;5;21m__init__\u001b[39m(\u001b[38;5;28mself\u001b[39m, iterable):\n\u001b[1;32m      3\u001b[0m     \u001b[38;5;28;01mfor\u001b[39;00m i, arg \u001b[38;5;129;01min\u001b[39;00m \u001b[38;5;28menumerate\u001b[39m(iterable):\n\u001b[0;32m----> 4\u001b[0m         \u001b[38;5;28mself\u001b[39m[i] \u001b[38;5;241m=\u001b[39m arg\u001b[38;5;241m.\u001b[39mupper()\n",
      "\u001b[0;31mTypeError\u001b[0m: 'UppercaseTuple' object does not support item assignment"
     ]
    }
   ],
   "source": [
    "UppercaseTuple([\"hello\", \"sHiVon\"])"
   ]
  },
  {
   "cell_type": "markdown",
   "id": "9f97392a-33c4-49ca-97a9-0ed49fa7e1ff",
   "metadata": {},
   "source": [
    "So class `UppercaseTuple` is a tuple, so it's immutable. Make all items in argument `iterable` be uppercase by add a magic method"
   ]
  },
  {
   "cell_type": "code",
   "execution_count": null,
   "id": "73fdf992-c520-4b6b-9ad3-f1f5d40fb6f4",
   "metadata": {},
   "outputs": [],
   "source": [
    "class UppercaseTuple(tuple):\n",
    "    \n",
    "    def __new__(cls, iterable):\n",
    "        upper_iterable = (s.upper() for s in iterable)\n",
    "        return super().__new__(cls, upper_iterable)\n",
    "    \n",
    "    def __init__(self, iterable): pass"
   ]
  },
  {
   "cell_type": "code",
   "execution_count": null,
   "id": "e673d7d4-c9cc-4925-8061-fed7db2e8168",
   "metadata": {},
   "outputs": [
    {
     "data": {
      "text/plain": [
       "('HELLO', 'SHIVON')"
      ]
     },
     "execution_count": null,
     "metadata": {},
     "output_type": "execute_result"
    }
   ],
   "source": [
    "UppercaseTuple([\"hello\", \"sHiVon\"])"
   ]
  },
  {
   "cell_type": "code",
   "execution_count": null,
   "id": "db7bb071-8747-471b-baec-a60c07431e95",
   "metadata": {},
   "outputs": [],
   "source": []
  },
  {
   "cell_type": "code",
   "execution_count": null,
   "id": "4a8c90ff-20e6-4727-a926-563516cfd8ae",
   "metadata": {},
   "outputs": [],
   "source": []
  }
 ],
 "metadata": {
  "kernelspec": {
   "display_name": "Python 3 (ipykernel)",
   "language": "python",
   "name": "python3"
  }
 },
 "nbformat": 4,
 "nbformat_minor": 5
}
