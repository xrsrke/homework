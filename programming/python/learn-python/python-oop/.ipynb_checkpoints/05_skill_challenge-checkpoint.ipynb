{
 "cells": [
  {
   "cell_type": "code",
   "execution_count": 4,
   "id": "af9f15f8",
   "metadata": {},
   "outputs": [],
   "source": [
    "class BankAccount:\n",
    "    \n",
    "    LEAST_AMOUNT = 2\n",
    "    TRANSACTION_FEE = 2\n",
    "    TYPE_WITHDRAW = 'withdraw'\n",
    "    TYPE_DEPOSITE = 'deposite'\n",
    "    \n",
    "    def __init__(self, initial_balance = 0):\n",
    "        self.initial_balance = 0\n",
    "        self.deposite = 0\n",
    "    \n",
    "    def check_least_amount(self, amount):\n",
    "        if amount > LEAST_AMOUNT:\n",
    "            return true\n",
    "        else:\n",
    "            return False\n",
    "    \n",
    "    def handle_transaction_fee(self, type, amount):\n",
    "        if type == TYPE_WITHDRAW:\n",
    "            return True, amount + TRANSACTION_FEE \n",
    "        elif type == TYPE_DEPOSITE:\n",
    "            return True, amount - TRANSACTION_FEE\n",
    "        else:\n",
    "            return False\n",
    "    \n",
    "    def deposit(self, amount):\n",
    "        if check_least_amount(amount):\n",
    "            \n",
    "            _, left_amount = handle_transaction_fee(amount)\n",
    "            self.deposite += left_amount\n",
    "        else:\n",
    "            print('The amount needs to be larger than $2')\n",
    "    \n",
    "    def withdraw(self, amount):\n",
    "        if check_least_amount(amount):\n",
    "            \n",
    "            _, left_amount = handle_transaction_fee(amount)\n",
    "            self.deposite -= left_amount\n",
    "        else:\n",
    "            print('The amount needs to be larger than $2')"
   ]
  },
  {
   "cell_type": "code",
   "execution_count": null,
   "id": "e8b1bcc3",
   "metadata": {},
   "outputs": [],
   "source": []
  }
 ],
 "metadata": {
  "kernelspec": {
   "display_name": "Python 3 (ipykernel)",
   "language": "python",
   "name": "python3"
  },
  "language_info": {
   "codemirror_mode": {
    "name": "ipython",
    "version": 3
   },
   "file_extension": ".py",
   "mimetype": "text/x-python",
   "name": "python",
   "nbconvert_exporter": "python",
   "pygments_lexer": "ipython3",
   "version": "3.9.12"
  }
 },
 "nbformat": 4,
 "nbformat_minor": 5
}
