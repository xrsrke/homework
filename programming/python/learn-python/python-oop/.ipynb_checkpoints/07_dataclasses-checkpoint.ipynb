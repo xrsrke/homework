{
 "cells": [
  {
   "cell_type": "code",
   "execution_count": 8,
   "id": "0c2aaac7",
   "metadata": {},
   "outputs": [],
   "source": [
    "# the first column: range = how far the car would go on a single charge\n",
    "# the second column: manufactur\n",
    "# the third column: price\n",
    "\n",
    "bolt = [214, \"Chervrolet\", 42000]\n",
    "model_s = [530, \"Tesla\", 84000]"
   ]
  },
  {
   "cell_type": "markdown",
   "id": "49c891df",
   "metadata": {},
   "source": [
    "Write a object that encapsulate these data"
   ]
  },
  {
   "cell_type": "code",
   "execution_count": 5,
   "id": "d9b1c3a8",
   "metadata": {},
   "outputs": [],
   "source": [
    "class EVs:\n",
    "    def __init__(self, efficient, make, price):\n",
    "        self.efficient = efficient\n",
    "        self.make = make\n",
    "        self.price = price"
   ]
  },
  {
   "cell_type": "code",
   "execution_count": 6,
   "id": "38565e65",
   "metadata": {},
   "outputs": [],
   "source": [
    "s = EVs(530, \"Tesla\", 84000)"
   ]
  },
  {
   "cell_type": "code",
   "execution_count": 7,
   "id": "19c8fcfb",
   "metadata": {},
   "outputs": [
    {
     "data": {
      "text/plain": [
       "530"
      ]
     },
     "execution_count": 7,
     "metadata": {},
     "output_type": "execute_result"
    }
   ],
   "source": [
    "s.efficient"
   ]
  },
  {
   "cell_type": "markdown",
   "id": "02142fc4",
   "metadata": {},
   "source": [
    "### 3. An alternative namedtyple"
   ]
  },
  {
   "cell_type": "code",
   "execution_count": 83,
   "id": "6313722f",
   "metadata": {},
   "outputs": [],
   "source": [
    "from collections import namedtuple"
   ]
  },
  {
   "cell_type": "code",
   "execution_count": 84,
   "id": "cab8d578",
   "metadata": {},
   "outputs": [],
   "source": [
    "class EVs:\n",
    "    def __init__(self, efficient, make, price):\n",
    "        self.efficient = efficient\n",
    "        self.make = make\n",
    "        self.price = price"
   ]
  },
  {
   "cell_type": "markdown",
   "id": "d904652a",
   "metadata": {},
   "source": [
    "Create a `namedtuple` (from module `collections`) similar to class `EVs`"
   ]
  },
  {
   "cell_type": "code",
   "execution_count": 85,
   "id": "8eab53ce",
   "metadata": {},
   "outputs": [],
   "source": [
    "EV = namedtuple(\"ElectricVehicle\", [\"efficient\", \"make\", \"price\"])"
   ]
  },
  {
   "cell_type": "code",
   "execution_count": 86,
   "id": "5ea12317",
   "metadata": {},
   "outputs": [],
   "source": [
    "s = EV(530, \"Tesla\", 84000)"
   ]
  },
  {
   "cell_type": "code",
   "execution_count": 87,
   "id": "9ffd8f9d",
   "metadata": {},
   "outputs": [
    {
     "data": {
      "text/plain": [
       "ElectricVehicle(efficient=530, make='Tesla', price=84000)"
      ]
     },
     "execution_count": 87,
     "metadata": {},
     "output_type": "execute_result"
    }
   ],
   "source": [
    "s"
   ]
  },
  {
   "cell_type": "code",
   "execution_count": 88,
   "id": "606ea2d4",
   "metadata": {},
   "outputs": [
    {
     "data": {
      "text/plain": [
       "530"
      ]
     },
     "execution_count": 88,
     "metadata": {},
     "output_type": "execute_result"
    }
   ],
   "source": [
    "s[0]"
   ]
  },
  {
   "cell_type": "code",
   "execution_count": 27,
   "id": "9c5c71c3",
   "metadata": {},
   "outputs": [
    {
     "data": {
      "text/plain": [
       "530"
      ]
     },
     "execution_count": 27,
     "metadata": {},
     "output_type": "execute_result"
    }
   ],
   "source": [
    "s.efficient"
   ]
  },
  {
   "cell_type": "code",
   "execution_count": 78,
   "id": "994c9f92",
   "metadata": {},
   "outputs": [],
   "source": [
    "from collections import namedtuple"
   ]
  },
  {
   "cell_type": "code",
   "execution_count": 79,
   "id": "c050d155",
   "metadata": {},
   "outputs": [],
   "source": [
    "class EVs:\n",
    "    def __init__(self, efficient, make, price):\n",
    "        self.efficient = efficient\n",
    "        self.make = make\n",
    "        self.price = price"
   ]
  },
  {
   "cell_type": "markdown",
   "id": "676487ff",
   "metadata": {},
   "source": [
    "Create a `namedtuple` (from module `collections`) similar to class `EVs`"
   ]
  },
  {
   "cell_type": "code",
   "execution_count": 80,
   "id": "e351aa4d",
   "metadata": {},
   "outputs": [],
   "source": [
    "EV2 = namedtuple(\"ElectricVehicle\", [\"efficient\", \"make\", \"price\"], defaults=(100, \"Tesla\", 50000))"
   ]
  },
  {
   "cell_type": "code",
   "execution_count": 81,
   "id": "bc07663c",
   "metadata": {},
   "outputs": [],
   "source": [
    "a = EV2(200)"
   ]
  },
  {
   "cell_type": "code",
   "execution_count": 82,
   "id": "75f85480",
   "metadata": {},
   "outputs": [
    {
     "data": {
      "text/plain": [
       "ElectricVehicle(efficient=200, make='Tesla', price=50000)"
      ]
     },
     "execution_count": 82,
     "metadata": {},
     "output_type": "execute_result"
    }
   ],
   "source": [
    "a"
   ]
  },
  {
   "cell_type": "markdown",
   "id": "63c26a64",
   "metadata": {},
   "source": [
    "### 4. A Quick Point On Immutability"
   ]
  },
  {
   "cell_type": "markdown",
   "id": "c405b3b3",
   "metadata": {},
   "source": [
    "### 5. Type NamedTuple"
   ]
  },
  {
   "cell_type": "code",
   "execution_count": 73,
   "id": "b225879f",
   "metadata": {},
   "outputs": [],
   "source": [
    "from typing import NamedTuple"
   ]
  },
  {
   "cell_type": "code",
   "execution_count": 74,
   "id": "f4c09c00",
   "metadata": {},
   "outputs": [],
   "source": [
    "class EVs:\n",
    "    def __init__(self, efficient: int, make: str, price: int):\n",
    "        self.efficient = efficient\n",
    "        self.manufacture = manufacture\n",
    "        self.price = price"
   ]
  },
  {
   "cell_type": "markdown",
   "id": "5645294a",
   "metadata": {},
   "source": [
    "Create a `NamedTuple` (from module `typing`) similar to class `EVs`"
   ]
  },
  {
   "cell_type": "code",
   "execution_count": 75,
   "id": "6ff64e61",
   "metadata": {},
   "outputs": [],
   "source": [
    "class ElectricVehicle(NamedTuple):\n",
    "    efficient: int\n",
    "    make: str\n",
    "    price: int"
   ]
  },
  {
   "cell_type": "code",
   "execution_count": 76,
   "id": "bb4e1ce0",
   "metadata": {},
   "outputs": [],
   "source": [
    "ev = ElectricVehicle(100, \"Tesla\", 120000)"
   ]
  },
  {
   "cell_type": "code",
   "execution_count": 77,
   "id": "4244982f",
   "metadata": {
    "scrolled": true
   },
   "outputs": [
    {
     "data": {
      "text/plain": [
       "ElectricVehicle(efficient=100, make='Tesla', price=120000)"
      ]
     },
     "execution_count": 77,
     "metadata": {},
     "output_type": "execute_result"
    }
   ],
   "source": [
    "ev"
   ]
  },
  {
   "cell_type": "markdown",
   "id": "47d91144",
   "metadata": {},
   "source": [
    "### 6. Dataclasses"
   ]
  },
  {
   "cell_type": "code",
   "execution_count": 21,
   "id": "f3aeaf89",
   "metadata": {},
   "outputs": [],
   "source": [
    "from dataclasses import dataclass"
   ]
  },
  {
   "cell_type": "code",
   "execution_count": 22,
   "id": "f4ae28df",
   "metadata": {},
   "outputs": [],
   "source": [
    "class RegularRobot:\n",
    "    def __init__(self, software: str, weapon: str, color: str):\n",
    "        self.software = software\n",
    "        self.weapon = weapon\n",
    "        self.color = color"
   ]
  },
  {
   "cell_type": "markdown",
   "id": "743e472f",
   "metadata": {},
   "source": [
    "Create a `Robot` dataclass similar to `RegularRobot` class"
   ]
  },
  {
   "cell_type": "code",
   "execution_count": 23,
   "id": "10036bcd",
   "metadata": {},
   "outputs": [],
   "source": [
    "@dataclass\n",
    "class Robot:\n",
    "    software: str\n",
    "    weapon: str\n",
    "    color: str"
   ]
  },
  {
   "cell_type": "code",
   "execution_count": 24,
   "id": "65ec3031",
   "metadata": {},
   "outputs": [],
   "source": [
    "r1 = Robot(\"2.3.31\", 'lazer', 'blue')"
   ]
  },
  {
   "cell_type": "code",
   "execution_count": 25,
   "id": "1532ddce",
   "metadata": {
    "scrolled": false
   },
   "outputs": [
    {
     "data": {
      "text/plain": [
       "'2.3.31'"
      ]
     },
     "execution_count": 25,
     "metadata": {},
     "output_type": "execute_result"
    }
   ],
   "source": [
    "r1.software"
   ]
  },
  {
   "cell_type": "code",
   "execution_count": 28,
   "id": "f4101135",
   "metadata": {},
   "outputs": [
    {
     "data": {
      "text/plain": [
       "Robot(software='2.3.31', weapon='lazer', color='blue')"
      ]
     },
     "execution_count": 28,
     "metadata": {},
     "output_type": "execute_result"
    }
   ],
   "source": [
    "r1"
   ]
  },
  {
   "cell_type": "code",
   "execution_count": null,
   "id": "929d5709",
   "metadata": {},
   "outputs": [],
   "source": [
    "@dataclass\n",
    "class Vehicle:\n",
    "    year: int\n",
    "    price: int\n",
    "    manufacture: str"
   ]
  },
  {
   "cell_type": "markdown",
   "id": "4add57c3",
   "metadata": {},
   "source": [
    "Create a regular class `RegularVehicle` that similar to the dataclass `Vehicle`"
   ]
  },
  {
   "cell_type": "code",
   "execution_count": null,
   "id": "1c424973",
   "metadata": {},
   "outputs": [],
   "source": [
    "class RegularVehicle:\n",
    "    def __init__(self, year, price, manufacture)"
   ]
  },
  {
   "cell_type": "markdown",
   "id": "d8bac144",
   "metadata": {},
   "source": [
    "### 7. Batteries Included"
   ]
  },
  {
   "cell_type": "markdown",
   "id": "e049f113",
   "metadata": {},
   "source": [
    "Dataclass supported:\n",
    "- Representation\n",
    "- Equality (compare instance attribute)\n",
    "- Comparison"
   ]
  },
  {
   "cell_type": "markdown",
   "id": "eca706fc",
   "metadata": {},
   "source": [
    "#### Equality"
   ]
  },
  {
   "cell_type": "markdown",
   "id": "b1e77109",
   "metadata": {},
   "source": [
    "Create a dataclass `Vehicle`"
   ]
  },
  {
   "cell_type": "code",
   "execution_count": 66,
   "id": "de154a52",
   "metadata": {},
   "outputs": [],
   "source": [
    "@dataclass\n",
    "class Vehicle:\n",
    "    year: int\n",
    "    price: int\n",
    "    manufacture: str"
   ]
  },
  {
   "cell_type": "code",
   "execution_count": 67,
   "id": "f59b8a48",
   "metadata": {},
   "outputs": [],
   "source": [
    "v1 = Vehicle(200, 140000, 'Tesla')"
   ]
  },
  {
   "cell_type": "code",
   "execution_count": 68,
   "id": "c8447c9c",
   "metadata": {},
   "outputs": [],
   "source": [
    "v2 = Vehicle(200, 140000, 'Tesla')"
   ]
  },
  {
   "cell_type": "code",
   "execution_count": 69,
   "id": "b436eee9",
   "metadata": {},
   "outputs": [],
   "source": [
    "v3 = Vehicle(200, 30000, 'Tesla')"
   ]
  },
  {
   "cell_type": "code",
   "execution_count": 70,
   "id": "7801b59e",
   "metadata": {},
   "outputs": [
    {
     "data": {
      "text/plain": [
       "Vehicle(year=200, price=140000, manufacture='Tesla')"
      ]
     },
     "execution_count": 70,
     "metadata": {},
     "output_type": "execute_result"
    }
   ],
   "source": [
    "v1"
   ]
  },
  {
   "cell_type": "code",
   "execution_count": 72,
   "id": "46d46a60",
   "metadata": {
    "scrolled": true
   },
   "outputs": [
    {
     "data": {
      "text/plain": [
       "(True, False)"
      ]
     },
     "execution_count": 72,
     "metadata": {},
     "output_type": "execute_result"
    }
   ],
   "source": [
    "v1 == v2, v1 == v3"
   ]
  },
  {
   "cell_type": "markdown",
   "id": "5550108d",
   "metadata": {},
   "source": [
    "#### Comparison"
   ]
  },
  {
   "cell_type": "markdown",
   "id": "8443f86a",
   "metadata": {},
   "source": [
    "Create a dataclass `Vehicle`"
   ]
  },
  {
   "cell_type": "code",
   "execution_count": 53,
   "id": "bbc613d0",
   "metadata": {},
   "outputs": [],
   "source": [
    "@dataclass(order=True)\n",
    "class Vehicle:\n",
    "    year: int\n",
    "    price: int\n",
    "    manufacture: str"
   ]
  },
  {
   "cell_type": "code",
   "execution_count": 54,
   "id": "f30b420b",
   "metadata": {},
   "outputs": [],
   "source": [
    "v1 = Vehicle(200, 140000, 'Tesla')"
   ]
  },
  {
   "cell_type": "code",
   "execution_count": 55,
   "id": "1bbe5cbf",
   "metadata": {},
   "outputs": [],
   "source": [
    "v2 = Vehicle(201, 140000, 'Tesla')"
   ]
  },
  {
   "cell_type": "code",
   "execution_count": 56,
   "id": "8e654f66",
   "metadata": {},
   "outputs": [
    {
     "data": {
      "text/plain": [
       "Vehicle(year=200, price=140000, manufacture='Tesla')"
      ]
     },
     "execution_count": 56,
     "metadata": {},
     "output_type": "execute_result"
    }
   ],
   "source": [
    "v1"
   ]
  },
  {
   "cell_type": "code",
   "execution_count": 57,
   "id": "8b3341ca",
   "metadata": {},
   "outputs": [
    {
     "data": {
      "text/plain": [
       "True"
      ]
     },
     "execution_count": 57,
     "metadata": {},
     "output_type": "execute_result"
    }
   ],
   "source": [
    "v1 < v2"
   ]
  },
  {
   "cell_type": "markdown",
   "id": "1df12341",
   "metadata": {},
   "source": [
    "### 8. Type Hints"
   ]
  },
  {
   "cell_type": "code",
   "execution_count": 102,
   "id": "b96b6442",
   "metadata": {},
   "outputs": [],
   "source": [
    "from typing import Any"
   ]
  },
  {
   "cell_type": "markdown",
   "id": "91471e35",
   "metadata": {},
   "source": [
    "Create a dataclass `Computer` that has three attribute:\n",
    "- nickname: allows anything\n",
    "- price: only allows integer\n",
    "- ram: only allows integer"
   ]
  },
  {
   "cell_type": "code",
   "execution_count": 103,
   "id": "03a90487",
   "metadata": {},
   "outputs": [],
   "source": [
    "@dataclass\n",
    "class Computer:\n",
    "    nickname: Any\n",
    "    price: int\n",
    "    ram: int"
   ]
  },
  {
   "cell_type": "code",
   "execution_count": 104,
   "id": "9ada7798",
   "metadata": {},
   "outputs": [],
   "source": [
    "c1 = Computer(420, 1200, 16)"
   ]
  },
  {
   "cell_type": "code",
   "execution_count": 105,
   "id": "d83485ca",
   "metadata": {},
   "outputs": [],
   "source": [
    "c2 = Computer(\"M1\", 1400, 16)"
   ]
  },
  {
   "cell_type": "code",
   "execution_count": 106,
   "id": "be812885",
   "metadata": {},
   "outputs": [
    {
     "data": {
      "text/plain": [
       "(int, str)"
      ]
     },
     "execution_count": 106,
     "metadata": {},
     "output_type": "execute_result"
    }
   ],
   "source": [
    "type(c1.nickname), type(c2.nickname)"
   ]
  },
  {
   "cell_type": "markdown",
   "id": "528e748b",
   "metadata": {},
   "source": [
    "### 9, 10. Customizing Fields"
   ]
  },
  {
   "cell_type": "markdown",
   "id": "97d38990",
   "metadata": {},
   "source": [
    "Create a dataclass `Universe` that all attributes are integers"
   ]
  },
  {
   "cell_type": "code",
   "execution_count": 120,
   "id": "af7a4273",
   "metadata": {},
   "outputs": [],
   "source": [
    "@dataclass\n",
    "class Universe:\n",
    "    constants: int\n",
    "    initial_energy: int = 41\n",
    "    change_in_energy: int = 0"
   ]
  },
  {
   "cell_type": "code",
   "execution_count": 121,
   "id": "1c67b601",
   "metadata": {},
   "outputs": [],
   "source": [
    "u = Universe(42)"
   ]
  },
  {
   "cell_type": "code",
   "execution_count": 122,
   "id": "91361f6f",
   "metadata": {
    "scrolled": true
   },
   "outputs": [
    {
     "data": {
      "text/plain": [
       "Universe(constants=42, initial_energy=41, change_in_energy=0)"
      ]
     },
     "execution_count": 122,
     "metadata": {},
     "output_type": "execute_result"
    }
   ],
   "source": [
    "u"
   ]
  },
  {
   "cell_type": "markdown",
   "id": "78322ad7",
   "metadata": {},
   "source": [
    "#### Hide field from representation of instance"
   ]
  },
  {
   "cell_type": "code",
   "execution_count": 146,
   "id": "1425db5e",
   "metadata": {},
   "outputs": [],
   "source": [
    "from dataclasses import field"
   ]
  },
  {
   "cell_type": "markdown",
   "id": "5aa9027d",
   "metadata": {},
   "source": [
    "Create a dataclass `Planet` that has three attributes as show below and one `secret_code` that doesn't show in `__repr__`"
   ]
  },
  {
   "cell_type": "code",
   "execution_count": 147,
   "id": "90daa70a",
   "metadata": {},
   "outputs": [],
   "source": [
    "@dataclass\n",
    "class Planet:\n",
    "    name: str\n",
    "    population: int\n",
    "    mass: int\n",
    "    secret_code: str = field(repr=False)"
   ]
  },
  {
   "cell_type": "code",
   "execution_count": 148,
   "id": "9bce9e77",
   "metadata": {},
   "outputs": [],
   "source": [
    "e = Planet(\"Earth\", 7.5, 5.972, \"420\")"
   ]
  },
  {
   "cell_type": "code",
   "execution_count": 149,
   "id": "900dd912",
   "metadata": {},
   "outputs": [
    {
     "data": {
      "text/plain": [
       "Planet(name='Earth', population=7.5, mass=5.972)"
      ]
     },
     "execution_count": 149,
     "metadata": {},
     "output_type": "execute_result"
    }
   ],
   "source": [
    "e"
   ]
  },
  {
   "cell_type": "code",
   "execution_count": 150,
   "id": "73a0d2f3",
   "metadata": {},
   "outputs": [
    {
     "data": {
      "text/plain": [
       "'420'"
      ]
     },
     "execution_count": 150,
     "metadata": {},
     "output_type": "execute_result"
    }
   ],
   "source": [
    "e.secret_code"
   ]
  },
  {
   "cell_type": "markdown",
   "id": "2915daa1",
   "metadata": {},
   "source": [
    "#### Exclude from comparison"
   ]
  },
  {
   "cell_type": "code",
   "execution_count": 177,
   "id": "3af08993",
   "metadata": {},
   "outputs": [],
   "source": [
    "from dataclasses import field"
   ]
  },
  {
   "cell_type": "markdown",
   "id": "4049033b",
   "metadata": {},
   "source": [
    "Create a dataclass `Camera` that only compare the attribute `resolution`"
   ]
  },
  {
   "cell_type": "code",
   "execution_count": 178,
   "id": "280a7ceb",
   "metadata": {},
   "outputs": [],
   "source": [
    "@dataclass(order=True)\n",
    "class Camera:\n",
    "    resolution: int = field(compare=True)\n",
    "    size: int = field(compare=False)\n",
    "    mass: int = field(compare=False)"
   ]
  },
  {
   "cell_type": "code",
   "execution_count": 179,
   "id": "6fd2d338",
   "metadata": {},
   "outputs": [],
   "source": [
    "c1 = Camera(540, 12, 0.3)"
   ]
  },
  {
   "cell_type": "code",
   "execution_count": 180,
   "id": "9d9d052c",
   "metadata": {},
   "outputs": [],
   "source": [
    "c2 = Camera(240, 14, 0.4)"
   ]
  },
  {
   "cell_type": "code",
   "execution_count": 181,
   "id": "8ba8b5ac",
   "metadata": {},
   "outputs": [
    {
     "data": {
      "text/plain": [
       "False"
      ]
     },
     "execution_count": 181,
     "metadata": {},
     "output_type": "execute_result"
    }
   ],
   "source": [
    "c1 < c2"
   ]
  },
  {
   "cell_type": "code",
   "execution_count": 182,
   "id": "47560f4b",
   "metadata": {},
   "outputs": [
    {
     "data": {
      "text/plain": [
       "Camera(resolution=540, size=12, mass=0.3)"
      ]
     },
     "execution_count": 182,
     "metadata": {},
     "output_type": "execute_result"
    }
   ],
   "source": [
    "c1"
   ]
  },
  {
   "cell_type": "markdown",
   "id": "33a9de6d",
   "metadata": {},
   "source": [
    "#### Inverse comparison (lower is True, higher is False)"
   ]
  },
  {
   "cell_type": "code",
   "execution_count": 184,
   "id": "c2a2557d",
   "metadata": {},
   "outputs": [],
   "source": [
    "# TODO: make flashcard for total_ordering"
   ]
  },
  {
   "cell_type": "code",
   "execution_count": null,
   "id": "770b2237",
   "metadata": {},
   "outputs": [],
   "source": [
    "# @dataclass\n",
    "# class RacingCar:\n",
    "#     speed: int\n",
    "    \n",
    "#     def __gt"
   ]
  },
  {
   "cell_type": "markdown",
   "id": "d4b537b1",
   "metadata": {},
   "source": [
    "#### `__post_init__`"
   ]
  },
  {
   "cell_type": "code",
   "execution_count": 230,
   "id": "b3d3df3d",
   "metadata": {},
   "outputs": [],
   "source": [
    "ADVANCE_SUPERVISION = (\"Level 3\", \"Level 4\")"
   ]
  },
  {
   "cell_type": "markdown",
   "id": "7b809ee1",
   "metadata": {},
   "source": [
    "Create a dataclass BrainImplant that the attribute `advance` is auto set to `True` if `the supervision` is in `ADVANCE_SUPERVISION`, otherwise be `False`"
   ]
  },
  {
   "cell_type": "code",
   "execution_count": 231,
   "id": "470681f0",
   "metadata": {},
   "outputs": [],
   "source": [
    "@dataclass\n",
    "class BrainImplant:\n",
    "\n",
    "    ADVANCE_SUPERVISION = (\"Level 3\", \"Level 4\")\n",
    "\n",
    "    supervision: str\n",
    "    price: int\n",
    "    manufacture: str\n",
    "    advance: bool = False\n",
    "        \n",
    "    def __post_init__(self):\n",
    "        self.advance = self.supervision in ADVANCE_SUPERVISION"
   ]
  },
  {
   "cell_type": "code",
   "execution_count": 232,
   "id": "324d98d7",
   "metadata": {},
   "outputs": [],
   "source": [
    "b1 = BrainImplant(\"Level 2\", 500, \"Synchron\")"
   ]
  },
  {
   "cell_type": "code",
   "execution_count": 233,
   "id": "c8e392d7",
   "metadata": {},
   "outputs": [],
   "source": [
    "b2 = BrainImplant(\"Level 4\", 750, \"Neuralink\")"
   ]
  },
  {
   "cell_type": "code",
   "execution_count": 234,
   "id": "4ec93a58",
   "metadata": {},
   "outputs": [
    {
     "data": {
      "text/plain": [
       "(False, True)"
      ]
     },
     "execution_count": 234,
     "metadata": {},
     "output_type": "execute_result"
    }
   ],
   "source": [
    "b1.advance, b2.advance"
   ]
  },
  {
   "cell_type": "code",
   "execution_count": 235,
   "id": "69ea80ca",
   "metadata": {},
   "outputs": [
    {
     "data": {
      "text/plain": [
       "BrainImplant(supervision='Level 4', price=750, manufacture='Neuralink', advance=True)"
      ]
     },
     "execution_count": 235,
     "metadata": {},
     "output_type": "execute_result"
    }
   ],
   "source": [
    "b2"
   ]
  },
  {
   "cell_type": "markdown",
   "id": "ab9b4094",
   "metadata": {},
   "source": [
    "### 11. Immutability"
   ]
  },
  {
   "cell_type": "code",
   "execution_count": 236,
   "id": "364b2692",
   "metadata": {},
   "outputs": [],
   "source": [
    "class Contact:\n",
    "    def __init__(self, name):\n",
    "        self.__name = name"
   ]
  },
  {
   "cell_type": "code",
   "execution_count": 237,
   "id": "4b648ee3",
   "metadata": {},
   "outputs": [],
   "source": [
    "c = Contact(\"Shivon\")"
   ]
  },
  {
   "cell_type": "code",
   "execution_count": 238,
   "id": "d20e12f3",
   "metadata": {},
   "outputs": [
    {
     "data": {
      "text/plain": [
       "{'_Contact__name': 'Shivon'}"
      ]
     },
     "execution_count": 238,
     "metadata": {},
     "output_type": "execute_result"
    }
   ],
   "source": [
    "c.__dict__"
   ]
  },
  {
   "cell_type": "code",
   "execution_count": 241,
   "id": "3e6a0a92",
   "metadata": {},
   "outputs": [
    {
     "data": {
      "text/plain": [
       "'Shivon'"
      ]
     },
     "execution_count": 241,
     "metadata": {},
     "output_type": "execute_result"
    }
   ],
   "source": [
    "c._Contact__name"
   ]
  },
  {
   "cell_type": "markdown",
   "id": "426faac6",
   "metadata": {},
   "source": [
    "Create a dataclass `Pen` that don't allow to edit any attributes"
   ]
  },
  {
   "cell_type": "code",
   "execution_count": 262,
   "id": "1d601922",
   "metadata": {},
   "outputs": [],
   "source": [
    "@dataclass(frozen=True)\n",
    "class Pen:\n",
    "    price: int\n",
    "    color: str"
   ]
  },
  {
   "cell_type": "code",
   "execution_count": 263,
   "id": "4a11c49d",
   "metadata": {},
   "outputs": [],
   "source": [
    "c = Pen(color=\"red\", price=3)"
   ]
  },
  {
   "cell_type": "code",
   "execution_count": 264,
   "id": "248a5829",
   "metadata": {},
   "outputs": [
    {
     "data": {
      "text/plain": [
       "'red'"
      ]
     },
     "execution_count": 264,
     "metadata": {},
     "output_type": "execute_result"
    }
   ],
   "source": [
    "c.color"
   ]
  },
  {
   "cell_type": "code",
   "execution_count": 265,
   "id": "61981478",
   "metadata": {
    "scrolled": true
   },
   "outputs": [
    {
     "ename": "FrozenInstanceError",
     "evalue": "cannot assign to field 'color'",
     "output_type": "error",
     "traceback": [
      "\u001b[0;31m---------------------------------------------------------------------------\u001b[0m",
      "\u001b[0;31mFrozenInstanceError\u001b[0m                       Traceback (most recent call last)",
      "Input \u001b[0;32mIn [265]\u001b[0m, in \u001b[0;36m<cell line: 1>\u001b[0;34m()\u001b[0m\n\u001b[0;32m----> 1\u001b[0m c\u001b[38;5;241m.\u001b[39mcolor \u001b[38;5;241m=\u001b[39m \u001b[38;5;124m\"\u001b[39m\u001b[38;5;124mblue\u001b[39m\u001b[38;5;124m\"\u001b[39m\n",
      "File \u001b[0;32m<string>:4\u001b[0m, in \u001b[0;36m__setattr__\u001b[0;34m(self, name, value)\u001b[0m\n",
      "\u001b[0;31mFrozenInstanceError\u001b[0m: cannot assign to field 'color'"
     ]
    }
   ],
   "source": [
    "c.color = \"blue\""
   ]
  },
  {
   "cell_type": "code",
   "execution_count": 270,
   "id": "d470e480",
   "metadata": {},
   "outputs": [],
   "source": [
    "# TODO: what is hash, and how to use dataclass hash"
   ]
  },
  {
   "cell_type": "markdown",
   "id": "89b60d1b",
   "metadata": {},
   "source": [
    "### 12. Inheritance"
   ]
  },
  {
   "cell_type": "code",
   "execution_count": 299,
   "id": "94484bd2",
   "metadata": {},
   "outputs": [],
   "source": [
    "class Robot:\n",
    "    def __init__(self, operating_system = \"Linux\"):\n",
    "        self.operating_system = operating_system"
   ]
  },
  {
   "cell_type": "code",
   "execution_count": 300,
   "id": "07f2fdb1",
   "metadata": {},
   "outputs": [],
   "source": [
    "class Car(Robot):\n",
    "    def __init__(self, speed = 100):\n",
    "        self.speed = speed"
   ]
  },
  {
   "cell_type": "markdown",
   "id": "7df07f5d",
   "metadata": {},
   "source": [
    "Create two dataclass `Robot` and `Car` that similar to the above"
   ]
  },
  {
   "cell_type": "code",
   "execution_count": 301,
   "id": "091eae27",
   "metadata": {},
   "outputs": [],
   "source": [
    "@dataclass\n",
    "class Robot:\n",
    "    operating_system: str = \"Linux\""
   ]
  },
  {
   "cell_type": "code",
   "execution_count": 302,
   "id": "c78da68a",
   "metadata": {},
   "outputs": [],
   "source": [
    "@dataclass\n",
    "class Car(Robot):\n",
    "    speed: int = 100"
   ]
  },
  {
   "cell_type": "code",
   "execution_count": 303,
   "id": "e144dc49",
   "metadata": {},
   "outputs": [],
   "source": [
    "c = Car(\"Android\", 120)"
   ]
  },
  {
   "cell_type": "code",
   "execution_count": 304,
   "id": "6df5d102",
   "metadata": {},
   "outputs": [
    {
     "data": {
      "text/plain": [
       "('Android', 120)"
      ]
     },
     "execution_count": 304,
     "metadata": {},
     "output_type": "execute_result"
    }
   ],
   "source": [
    "c.operating_system, c.speed"
   ]
  },
  {
   "cell_type": "markdown",
   "id": "ac7c6ed6",
   "metadata": {},
   "source": [
    "### 13. Why Not Just NamedTuple"
   ]
  }
 ],
 "metadata": {
  "kernelspec": {
   "display_name": "Python 3 (ipykernel)",
   "language": "python",
   "name": "python3"
  },
  "language_info": {
   "codemirror_mode": {
    "name": "ipython",
    "version": 3
   },
   "file_extension": ".py",
   "mimetype": "text/x-python",
   "name": "python",
   "nbconvert_exporter": "python",
   "pygments_lexer": "ipython3",
   "version": "3.9.12"
  }
 },
 "nbformat": 4,
 "nbformat_minor": 5
}
