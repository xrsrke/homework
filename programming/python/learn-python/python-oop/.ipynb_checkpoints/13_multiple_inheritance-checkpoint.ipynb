{
 "cells": [
  {
   "cell_type": "markdown",
   "id": "14fa5f98-333d-46f9-b384-eea9b8d06d12",
   "metadata": {},
   "source": [
    "# 13. Multiple Inheritance"
   ]
  },
  {
   "cell_type": "code",
   "execution_count": 4,
   "id": "77c34844-5aa6-45c5-b560-cd05efcf1eb8",
   "metadata": {},
   "outputs": [],
   "source": [
    "class Citizen:\n",
    "    def vote(self):\n",
    "        return \"voting...\""
   ]
  },
  {
   "cell_type": "code",
   "execution_count": 5,
   "id": "37641983-2f5f-4f83-a59d-8553f12e27f8",
   "metadata": {},
   "outputs": [],
   "source": [
    "class Person:\n",
    "    pass"
   ]
  },
  {
   "cell_type": "code",
   "execution_count": 6,
   "id": "d4d03e74-8236-4b49-8134-a53051cdadd0",
   "metadata": {},
   "outputs": [],
   "source": [
    "class Employee(Person, Citizen):\n",
    "    pass"
   ]
  },
  {
   "cell_type": "markdown",
   "id": "40259fad-e1ab-4c01-8ca3-042cf51c2ffc",
   "metadata": {},
   "source": [
    "### 4. Parent `__init__()`"
   ]
  },
  {
   "cell_type": "code",
   "execution_count": 42,
   "id": "13770511-2656-4470-8384-946113b53f05",
   "metadata": {},
   "outputs": [],
   "source": [
    "class Robot:\n",
    "    OPERATING_SYSTEM = [\"Linux\", \"Android\"]"
   ]
  },
  {
   "cell_type": "code",
   "execution_count": 43,
   "id": "b2dbb439-af94-405e-9407-671a99da16eb",
   "metadata": {},
   "outputs": [],
   "source": [
    "class Vehicle:\n",
    "    OPERATING_SYSTEM = [\"Tesla\"]"
   ]
  },
  {
   "cell_type": "code",
   "execution_count": 38,
   "id": "b57ff923-5e42-4e3c-96db-5c6d57cfd12c",
   "metadata": {},
   "outputs": [],
   "source": [
    "class Car(Robot, Vehicle):\n",
    "    pass"
   ]
  },
  {
   "cell_type": "code",
   "execution_count": 39,
   "id": "5930184e-6a62-4c5d-b6bc-9ac5aba4dfe1",
   "metadata": {},
   "outputs": [
    {
     "data": {
      "text/plain": [
       "(__main__.Car, __main__.Robot, __main__.Vehicle, object)"
      ]
     },
     "execution_count": 39,
     "metadata": {},
     "output_type": "execute_result"
    }
   ],
   "source": [
    "Car.__mro__"
   ]
  },
  {
   "cell_type": "code",
   "execution_count": 33,
   "id": "9cb20f4b-053a-427b-b772-526b581f6ae4",
   "metadata": {},
   "outputs": [],
   "source": [
    "c = Car()"
   ]
  },
  {
   "cell_type": "code",
   "execution_count": 34,
   "id": "5a1ec55b-27a7-4ec5-a923-95e70c8306d6",
   "metadata": {},
   "outputs": [
    {
     "data": {
      "text/plain": [
       "['Linux', 'Android']"
      ]
     },
     "execution_count": 34,
     "metadata": {},
     "output_type": "execute_result"
    }
   ],
   "source": [
    "c.OPERATING_SYSTEM"
   ]
  },
  {
   "cell_type": "code",
   "execution_count": 27,
   "id": "818c176f-d355-4a33-8eac-ab0e85c9e46f",
   "metadata": {},
   "outputs": [],
   "source": [
    "class Car(Vehicle, Robot):\n",
    "    pass"
   ]
  },
  {
   "cell_type": "code",
   "execution_count": 52,
   "id": "9a679417-df9f-4275-968f-97302cefdaff",
   "metadata": {},
   "outputs": [],
   "source": [
    "class Robot:    \n",
    "    def __init__(self, weapon):\n",
    "        self.weapon = weapon"
   ]
  },
  {
   "cell_type": "code",
   "execution_count": 53,
   "id": "2e4bd9cf-fa00-429e-98fb-cb141fb79d7f",
   "metadata": {},
   "outputs": [],
   "source": [
    "class Vehicle:\n",
    "    def __init__(self, speed):\n",
    "        self.speed = speed"
   ]
  },
  {
   "cell_type": "code",
   "execution_count": 54,
   "id": "47024f79-e09b-4211-888a-977081488bcc",
   "metadata": {},
   "outputs": [],
   "source": [
    "class Car(Robot, Vehicle):\n",
    "    pass"
   ]
  },
  {
   "cell_type": "code",
   "execution_count": 55,
   "id": "db68f45d-090b-40ad-8f65-856b02b61ebc",
   "metadata": {},
   "outputs": [],
   "source": [
    "c = Car(\"X\")"
   ]
  },
  {
   "cell_type": "code",
   "execution_count": 56,
   "id": "8232d856-daea-4659-8359-90149f087652",
   "metadata": {},
   "outputs": [
    {
     "data": {
      "text/plain": [
       "(True, False)"
      ]
     },
     "execution_count": 56,
     "metadata": {},
     "output_type": "execute_result"
    }
   ],
   "source": [
    "hasattr(c, \"weapon\"), hasattr(c, \"speed\")"
   ]
  },
  {
   "cell_type": "markdown",
   "id": "e134c600-ad98-4f98-927e-221d3470eab4",
   "metadata": {},
   "source": [
    "### 5. Revisiting `super()`"
   ]
  },
  {
   "cell_type": "code",
   "execution_count": 9,
   "id": "a900f7c1-312c-4641-b045-93ff301df26e",
   "metadata": {},
   "outputs": [],
   "source": [
    "class Robot:\n",
    "    OPERATING_SYSTEM = [\"Linux\", \"Android\"]"
   ]
  },
  {
   "cell_type": "code",
   "execution_count": 10,
   "id": "a712b96c-3cd1-47ce-af80-5d095f4f5ee6",
   "metadata": {},
   "outputs": [],
   "source": [
    "class Vehicle:\n",
    "    OPERATING_SYSTEM = [\"Tesla\"]"
   ]
  },
  {
   "cell_type": "code",
   "execution_count": 11,
   "id": "581e4411-1f0f-4b76-ba59-0e60f5cf16de",
   "metadata": {},
   "outputs": [],
   "source": [
    "class Car(Vehicle, Robot):\n",
    "    def __init__(self):\n",
    "        super().OPERATING_SYSTEM"
   ]
  },
  {
   "cell_type": "code",
   "execution_count": 12,
   "id": "d0b276e5-d9e1-439a-9ac1-4a8584dee203",
   "metadata": {},
   "outputs": [],
   "source": [
    "c = Car()"
   ]
  },
  {
   "cell_type": "code",
   "execution_count": 13,
   "id": "b4a1e604-29ba-47f1-8cad-5c99365ae18d",
   "metadata": {},
   "outputs": [
    {
     "data": {
      "text/plain": [
       "['Tesla']"
      ]
     },
     "execution_count": 13,
     "metadata": {},
     "output_type": "execute_result"
    }
   ],
   "source": [
    "c.OPERATING_SYSTEM"
   ]
  },
  {
   "cell_type": "code",
   "execution_count": 22,
   "id": "909fb16c-5fa9-47a9-9428-ca935baefff7",
   "metadata": {},
   "outputs": [],
   "source": [
    "class Robot:\n",
    "    def __init__(self, software):\n",
    "        self.software = software"
   ]
  },
  {
   "cell_type": "code",
   "execution_count": 23,
   "id": "8230180c-c1f3-48fb-8a06-99fab6f4c2ae",
   "metadata": {},
   "outputs": [],
   "source": [
    "class Vehicle:\n",
    "    def __init__(self, speed, software):\n",
    "        self.speed = speed\n",
    "        super().__init__(software)"
   ]
  },
  {
   "cell_type": "code",
   "execution_count": 72,
   "id": "9e8534c0-99b7-4515-b0a2-b515d6f0364c",
   "metadata": {},
   "outputs": [],
   "source": [
    "class Car(Vehicle, Robot):\n",
    "    def __init__(self, speed, software):\n",
    "        super().__init__(speed, software)"
   ]
  },
  {
   "cell_type": "code",
   "execution_count": 25,
   "id": "82648c40-efe4-4870-a6e4-9fb5997eaf80",
   "metadata": {},
   "outputs": [],
   "source": [
    "c = Car(130, 2.3)"
   ]
  },
  {
   "cell_type": "code",
   "execution_count": 26,
   "id": "51935b40-aed0-4787-bf06-27428773f69f",
   "metadata": {},
   "outputs": [
    {
     "data": {
      "text/plain": [
       "{'speed': 130, 'software': 2.3}"
      ]
     },
     "execution_count": 26,
     "metadata": {},
     "output_type": "execute_result"
    }
   ],
   "source": [
    "c.__dict__"
   ]
  },
  {
   "cell_type": "code",
   "execution_count": 27,
   "id": "7a43d013-828e-4f28-80a6-e938c3e05ccb",
   "metadata": {},
   "outputs": [
    {
     "data": {
      "text/plain": [
       "130"
      ]
     },
     "execution_count": 27,
     "metadata": {},
     "output_type": "execute_result"
    }
   ],
   "source": [
    "c.speed"
   ]
  },
  {
   "cell_type": "code",
   "execution_count": 28,
   "id": "4032d412-fa46-48e6-84cb-d3b870062c31",
   "metadata": {},
   "outputs": [
    {
     "data": {
      "text/plain": [
       "2.3"
      ]
     },
     "execution_count": 28,
     "metadata": {},
     "output_type": "execute_result"
    }
   ],
   "source": [
    "c.software"
   ]
  },
  {
   "cell_type": "code",
   "execution_count": 97,
   "id": "2a225052-8a37-43cc-91b0-79fd3307d15b",
   "metadata": {},
   "outputs": [],
   "source": [
    "class Robot:\n",
    "    def charge_battery(self):\n",
    "        print(\"robot charging battery\")"
   ]
  },
  {
   "cell_type": "code",
   "execution_count": 98,
   "id": "a145580b-4701-4cc6-af50-5f438b703d05",
   "metadata": {},
   "outputs": [],
   "source": [
    "class Vehicle:\n",
    "    def charge_battery(self):\n",
    "        print(\"vehicle charging battery\")"
   ]
  },
  {
   "cell_type": "code",
   "execution_count": 99,
   "id": "5c673a54-349f-4577-b9f0-d6228020f4ac",
   "metadata": {},
   "outputs": [],
   "source": [
    "class Car(Vehicle, Robot):\n",
    "    def __init__(self):\n",
    "        super().charge_battery()\n",
    "    \n",
    "    def charge_battery(self):\n",
    "        print(\"car charging battery\")"
   ]
  },
  {
   "cell_type": "code",
   "execution_count": 100,
   "id": "b0592322-3686-4ce0-a09a-45eabc5ee1e5",
   "metadata": {},
   "outputs": [
    {
     "name": "stdout",
     "output_type": "stream",
     "text": [
      "vehicle charging battery\n"
     ]
    },
    {
     "data": {
      "text/plain": [
       "<__main__.Car at 0x7fc7d8032d90>"
      ]
     },
     "execution_count": 100,
     "metadata": {},
     "output_type": "execute_result"
    }
   ],
   "source": [
    "Car()"
   ]
  },
  {
   "cell_type": "code",
   "execution_count": 108,
   "id": "f7efa175-a505-47d0-b4a5-722833c2c025",
   "metadata": {},
   "outputs": [],
   "source": [
    "class Robot:\n",
    "    def fire_weapon(self):\n",
    "        print(\"firing...\")"
   ]
  },
  {
   "cell_type": "code",
   "execution_count": 109,
   "id": "42d7770e-e4e0-4a72-bae9-4750c7361086",
   "metadata": {},
   "outputs": [],
   "source": [
    "class Vehicle:\n",
    "    def speed_up(self):\n",
    "        super().fire_weapon()"
   ]
  },
  {
   "cell_type": "code",
   "execution_count": 110,
   "id": "97a5322c-80a1-45d9-a56c-378bd6b7e961",
   "metadata": {},
   "outputs": [],
   "source": [
    "class Car(Vehicle, Robot):\n",
    "    def __init__(self):\n",
    "        super().speed_up()"
   ]
  },
  {
   "cell_type": "markdown",
   "id": "4d72f28a-a76d-4713-9eeb-94359bcfe772",
   "metadata": {},
   "source": [
    "Does this works? If no, explain"
   ]
  },
  {
   "cell_type": "code",
   "execution_count": 112,
   "id": "f9d85fc4-673d-40e1-b991-f03c69f13751",
   "metadata": {},
   "outputs": [
    {
     "name": "stdout",
     "output_type": "stream",
     "text": [
      "firing...\n"
     ]
    }
   ],
   "source": [
    "Car();"
   ]
  },
  {
   "cell_type": "markdown",
   "id": "e927c96e-09f2-4310-84b2-fd1f45db44d3",
   "metadata": {},
   "source": [
    "**Answer**: Yes"
   ]
  },
  {
   "cell_type": "markdown",
   "id": "358ebe52-c05d-4650-b3d6-5cae9ab17faa",
   "metadata": {
    "tags": []
   },
   "source": [
    "### 7. The Diamon Problem"
   ]
  },
  {
   "cell_type": "code",
   "execution_count": 66,
   "id": "0729a88a-f546-4e26-a9cc-4a06c6fcf704",
   "metadata": {},
   "outputs": [],
   "source": [
    "class Person:\n",
    "    pass"
   ]
  },
  {
   "cell_type": "code",
   "execution_count": 67,
   "id": "f2aa954a-c2be-4185-a446-3f8b48541c2e",
   "metadata": {},
   "outputs": [],
   "source": [
    "class Citizen(Person):\n",
    "    def speak_freely(self):\n",
    "        print(\"citizen speaking freely\")"
   ]
  },
  {
   "cell_type": "code",
   "execution_count": 68,
   "id": "93fba264-e31f-41d1-bb6d-aac6fdb40d2e",
   "metadata": {},
   "outputs": [],
   "source": [
    "class Developer(Person):\n",
    "    def speak_freely(self):\n",
    "        print(\"developer speaking freely\")"
   ]
  },
  {
   "cell_type": "code",
   "execution_count": 69,
   "id": "05a44591-f61a-45d2-9ffd-9b661faab885",
   "metadata": {},
   "outputs": [],
   "source": [
    "class Employee(Developer, Citizen):\n",
    "    pass"
   ]
  },
  {
   "cell_type": "code",
   "execution_count": 70,
   "id": "ce175831-583f-4964-94ff-0ce5a68f308b",
   "metadata": {},
   "outputs": [],
   "source": [
    "e = Employee()"
   ]
  },
  {
   "cell_type": "code",
   "execution_count": 71,
   "id": "38ade0bf-ad01-467b-9215-226037ca890e",
   "metadata": {},
   "outputs": [
    {
     "name": "stdout",
     "output_type": "stream",
     "text": [
      "developer speaking freely\n"
     ]
    }
   ],
   "source": [
    "e.speak_freely()"
   ]
  },
  {
   "cell_type": "code",
   "execution_count": 57,
   "id": "15163bfa-40ac-4328-9f7c-0acb061ad27d",
   "metadata": {},
   "outputs": [],
   "source": [
    "class Employee(Citizen, Developer):\n",
    "    pass"
   ]
  },
  {
   "cell_type": "code",
   "execution_count": 58,
   "id": "234fee71-8e87-4491-a2b1-d8c8172e849e",
   "metadata": {},
   "outputs": [
    {
     "data": {
      "text/plain": [
       "(__main__.Employee,\n",
       " __main__.Citizen,\n",
       " __main__.Developer,\n",
       " __main__.Person,\n",
       " object)"
      ]
     },
     "execution_count": 58,
     "metadata": {},
     "output_type": "execute_result"
    }
   ],
   "source": [
    "Employee.__mro__"
   ]
  },
  {
   "cell_type": "markdown",
   "id": "f0b892c2-d91c-4f4e-931c-f391dcbf0471",
   "metadata": {},
   "source": [
    "### 8. What Drives `__mro__`"
   ]
  },
  {
   "cell_type": "code",
   "execution_count": 166,
   "id": "205007ae-a951-4b7c-b9c7-9fbc5b497167",
   "metadata": {},
   "outputs": [],
   "source": [
    "class System:\n",
    "    pass"
   ]
  },
  {
   "cell_type": "code",
   "execution_count": 167,
   "id": "b7e7b747-79f0-436f-ab63-35a27af84f92",
   "metadata": {},
   "outputs": [],
   "source": [
    "class Computer(System):\n",
    "    pass"
   ]
  },
  {
   "cell_type": "markdown",
   "id": "05636345-d85e-4b3f-8b5c-43f450bf2582",
   "metadata": {},
   "source": [
    "Does this works? If no, why (don't need to explain)"
   ]
  },
  {
   "cell_type": "code",
   "execution_count": null,
   "id": "b638b102-d3fb-47f2-a801-0ce00c800c16",
   "metadata": {},
   "outputs": [],
   "source": [
    "class SmartPhone(System, Computer):\n",
    "    pass"
   ]
  },
  {
   "cell_type": "markdown",
   "id": "e92d3f94-3a15-4bbf-b640-b7859dc9ab49",
   "metadata": {},
   "source": [
    "**Answer**: No. Because it's consistent method resolution"
   ]
  },
  {
   "cell_type": "code",
   "execution_count": 176,
   "id": "b959aa54-4279-462e-a339-5ca6a13d40df",
   "metadata": {},
   "outputs": [],
   "source": [
    "class System:\n",
    "    pass"
   ]
  },
  {
   "cell_type": "code",
   "execution_count": 177,
   "id": "3586e125-9fac-4c0a-864b-608a4755d95f",
   "metadata": {},
   "outputs": [],
   "source": [
    "class Computer(System):\n",
    "    pass"
   ]
  },
  {
   "cell_type": "markdown",
   "id": "f576f934-6b0e-49a1-b80d-32628e3e0d15",
   "metadata": {},
   "source": [
    "Does this works? If no, why (don't need to explain)"
   ]
  },
  {
   "cell_type": "code",
   "execution_count": null,
   "id": "f92a8e32-507e-4603-b13a-99ce7debddca",
   "metadata": {},
   "outputs": [],
   "source": [
    "class SmartPhone(Computer, System):\n",
    "    pass"
   ]
  },
  {
   "cell_type": "markdown",
   "id": "4aac32b1-721d-4c7f-a223-813b19f46fab",
   "metadata": {},
   "source": [
    "**Answer**: Yes"
   ]
  },
  {
   "cell_type": "code",
   "execution_count": 169,
   "id": "910e821a-b133-4e9f-b630-e0a4de5aa95d",
   "metadata": {},
   "outputs": [],
   "source": [
    "class Robot:\n",
    "    pass"
   ]
  },
  {
   "cell_type": "code",
   "execution_count": 170,
   "id": "d9cba450-df2e-4b01-ad0c-c3461ae4e37e",
   "metadata": {},
   "outputs": [],
   "source": [
    "class Vehicle(Robot):\n",
    "    pass"
   ]
  },
  {
   "cell_type": "code",
   "execution_count": 171,
   "id": "013ca71d-f6af-401e-b842-6812460496dd",
   "metadata": {},
   "outputs": [
    {
     "ename": "TypeError",
     "evalue": "Cannot create a consistent method resolution\norder (MRO) for bases Robot, Vehicle",
     "output_type": "error",
     "traceback": [
      "\u001b[0;31m---------------------------------------------------------------------------\u001b[0m",
      "\u001b[0;31mTypeError\u001b[0m                                 Traceback (most recent call last)",
      "Input \u001b[0;32mIn [171]\u001b[0m, in \u001b[0;36m<cell line: 1>\u001b[0;34m()\u001b[0m\n\u001b[0;32m----> 1\u001b[0m \u001b[38;5;28;01mclass\u001b[39;00m \u001b[38;5;21;01mCar\u001b[39;00m(Robot, Vehicle):\n\u001b[1;32m      2\u001b[0m     \u001b[38;5;28;01mpass\u001b[39;00m\n",
      "\u001b[0;31mTypeError\u001b[0m: Cannot create a consistent method resolution\norder (MRO) for bases Robot, Vehicle"
     ]
    }
   ],
   "source": [
    "class Car(Robot, Vehicle):\n",
    "    pass"
   ]
  },
  {
   "cell_type": "markdown",
   "id": "88a05a2f-fe24-4b17-8287-10b261d78a81",
   "metadata": {},
   "source": [
    "**Python inheritance** `__mro__`'s rules\n",
    "\n",
    "- 1. Children must come before parents\n",
    "- 2. Siblings need to be searched per the order defined in the subclass"
   ]
  },
  {
   "cell_type": "markdown",
   "id": "f9075247-fbb7-4aae-829f-fc47b466966f",
   "metadata": {},
   "source": [
    "Does this works? If no, explain"
   ]
  },
  {
   "cell_type": "code",
   "execution_count": 137,
   "id": "fb1ecd0b-7e1d-4ff7-a9d7-3ef41f738535",
   "metadata": {},
   "outputs": [],
   "source": [
    "Car();"
   ]
  },
  {
   "cell_type": "markdown",
   "id": "e957d6b7-5a7c-4289-a7e2-686dcfc8b511",
   "metadata": {},
   "source": [
    "### 10. Mixins"
   ]
  },
  {
   "cell_type": "markdown",
   "id": "b2656f10-c67b-4962-9e72-a89bf651918f",
   "metadata": {},
   "source": [
    "Create a simple mixin class named `Vehicle`"
   ]
  },
  {
   "cell_type": "code",
   "execution_count": 27,
   "id": "43af440f-015c-4b69-be71-c7210133ad1f",
   "metadata": {},
   "outputs": [],
   "source": [
    "class VehicleMixin():\n",
    "    pass"
   ]
  },
  {
   "cell_type": "code",
   "execution_count": 11,
   "id": "f1ed126d-5aee-4fbb-b58e-95d0da68aa7d",
   "metadata": {},
   "outputs": [],
   "source": [
    "class Worker():\n",
    "    def work(self):\n",
    "        return \"working\""
   ]
  },
  {
   "cell_type": "code",
   "execution_count": 24,
   "id": "86c91d01-7443-4fec-a3e9-77bd47fe2387",
   "metadata": {},
   "outputs": [],
   "source": [
    "class OverahieverMixin():\n",
    "    def work(self):\n",
    "        return f\"{super().work()} with huge accountability\"\n",
    "\n",
    "class CriticalMixin():\n",
    "    def work(self):\n",
    "        return f\"{super().work()} on important things\"\n",
    "\n",
    "class PartTimeMixin():\n",
    "    def work(self):\n",
    "        return f\"{super().work()} only part time\""
   ]
  },
  {
   "cell_type": "code",
   "execution_count": 25,
   "id": "8ba4ba2d-74cc-4338-b5b8-890d8f455786",
   "metadata": {},
   "outputs": [],
   "source": [
    "class PartTimeCriticalWorker(PartTimeMixin, CriticalMixin, Worker):\n",
    "    pass"
   ]
  },
  {
   "cell_type": "code",
   "execution_count": 26,
   "id": "a2e38c4d-7175-4d8f-8815-c90e495b5bf6",
   "metadata": {},
   "outputs": [
    {
     "data": {
      "text/plain": [
       "'working on important things only part time'"
      ]
     },
     "execution_count": 26,
     "metadata": {},
     "output_type": "execute_result"
    }
   ],
   "source": [
    "PartTimeCriticalWorker().work()"
   ]
  },
  {
   "cell_type": "code",
   "execution_count": 22,
   "id": "fad89994-8695-498f-a5f3-0cbf825d1f66",
   "metadata": {},
   "outputs": [],
   "source": [
    "class PartTimeCriticalWorker(OverahieverMixin, PartTimeMixin, Worker, CriticalMixin):\n",
    "    pass"
   ]
  },
  {
   "cell_type": "code",
   "execution_count": 23,
   "id": "27042539-85b3-4035-a68d-ec37a8381c38",
   "metadata": {},
   "outputs": [
    {
     "data": {
      "text/plain": [
       "'working only part time with huge accountability'"
      ]
     },
     "execution_count": 23,
     "metadata": {},
     "output_type": "execute_result"
    }
   ],
   "source": [
    "PartTimeCriticalWorker().work()"
   ]
  },
  {
   "cell_type": "markdown",
   "id": "3018fab7-4fdb-43ff-9e6f-771e0fd7656c",
   "metadata": {},
   "source": [
    "### 11. Organizing Interfaces"
   ]
  },
  {
   "cell_type": "code",
   "execution_count": 28,
   "id": "bcd7cb67-91e8-4841-97cc-7cecd89ae3ec",
   "metadata": {},
   "outputs": [],
   "source": [
    "from abc import ABC, abstractmethod"
   ]
  },
  {
   "cell_type": "code",
   "execution_count": 30,
   "id": "868cc11c-f9d5-4004-8461-4f347d051732",
   "metadata": {},
   "outputs": [],
   "source": [
    "class Playable(ABC):\n",
    "    @abstractmethod\n",
    "    def play(self):\n",
    "        pass\n",
    "    \n",
    "    @abstractmethod\n",
    "    def pause(self):\n",
    "        pass\n",
    "    \n",
    "    @abstractmethod\n",
    "    def stop(self):\n",
    "        pass"
   ]
  },
  {
   "cell_type": "code",
   "execution_count": 31,
   "id": "20878d62-30c1-44bb-8fc7-f8d34bc19f5f",
   "metadata": {},
   "outputs": [],
   "source": [
    "class Replicable(ABC):\n",
    "    @abstractmethod\n",
    "    def move(self):\n",
    "        pass"
   ]
  },
  {
   "cell_type": "code",
   "execution_count": 32,
   "id": "21aaece0-54e8-4b1a-acf9-9e6c7785f5d0",
   "metadata": {},
   "outputs": [],
   "source": [
    "class Robot(ABC):\n",
    "    @abstractmethod\n",
    "    def software(self):\n",
    "        pass\n",
    "    \n",
    "    @abstractmethod\n",
    "    def hardware(self):\n",
    "        pass"
   ]
  },
  {
   "cell_type": "code",
   "execution_count": 33,
   "id": "69423618-eed6-4b37-9335-5e238ba0f5e9",
   "metadata": {},
   "outputs": [],
   "source": [
    "class Chargeable(ABC):\n",
    "    @abstractmethod\n",
    "    def charge_battery(self):\n",
    "        pass"
   ]
  },
  {
   "cell_type": "code",
   "execution_count": 34,
   "id": "213d7604-c8eb-4dee-b5a6-b7f37e3693cd",
   "metadata": {},
   "outputs": [],
   "source": [
    "class Vehicle(Robot, Chargeable):\n",
    "    pass"
   ]
  },
  {
   "cell_type": "code",
   "execution_count": 35,
   "id": "df2737cc-d804-4931-b0f2-f7e577a02902",
   "metadata": {},
   "outputs": [],
   "source": [
    "class Car(Vehicle):\n",
    "    pass"
   ]
  },
  {
   "cell_type": "markdown",
   "id": "c0a54e68-d6bc-43cd-bd0c-e7902a870c77",
   "metadata": {},
   "source": [
    "Does this works? If no, explain"
   ]
  },
  {
   "cell_type": "code",
   "execution_count": null,
   "id": "a0db5798-09ab-44c9-b422-7799edab2046",
   "metadata": {},
   "outputs": [],
   "source": [
    "c = Car()"
   ]
  },
  {
   "cell_type": "markdown",
   "id": "4c65362e-678d-4cb0-b9d4-2a09fb879620",
   "metadata": {},
   "source": [
    "**Answer**\n",
    "\n",
    "No. To instantiate class `Car`, class `Car` need method `software`, `hardware` and `charge_battery`"
   ]
  },
  {
   "cell_type": "code",
   "execution_count": 38,
   "id": "68b99e2a-980c-47ca-904d-b1b1eb62bf28",
   "metadata": {},
   "outputs": [
    {
     "ename": "TypeError",
     "evalue": "Can't instantiate abstract class Car with abstract methods charge_battery, hardware, software",
     "output_type": "error",
     "traceback": [
      "\u001b[0;31m---------------------------------------------------------------------------\u001b[0m",
      "\u001b[0;31mTypeError\u001b[0m                                 Traceback (most recent call last)",
      "Input \u001b[0;32mIn [38]\u001b[0m, in \u001b[0;36m<cell line: 1>\u001b[0;34m()\u001b[0m\n\u001b[0;32m----> 1\u001b[0m c \u001b[38;5;241m=\u001b[39m \u001b[43mCar\u001b[49m\u001b[43m(\u001b[49m\u001b[43m)\u001b[49m\n",
      "\u001b[0;31mTypeError\u001b[0m: Can't instantiate abstract class Car with abstract methods charge_battery, hardware, software"
     ]
    }
   ],
   "source": [
    "c = Car()"
   ]
  },
  {
   "cell_type": "code",
   "execution_count": null,
   "id": "637ad731-8f72-45d0-8cba-ba5ba0003ed5",
   "metadata": {},
   "outputs": [],
   "source": []
  }
 ],
 "metadata": {
  "kernelspec": {
   "display_name": "Python 3 (ipykernel)",
   "language": "python",
   "name": "python3"
  },
  "language_info": {
   "codemirror_mode": {
    "name": "ipython",
    "version": 3
   },
   "file_extension": ".py",
   "mimetype": "text/x-python",
   "name": "python",
   "nbconvert_exporter": "python",
   "pygments_lexer": "ipython3",
   "version": "3.9.12"
  }
 },
 "nbformat": 4,
 "nbformat_minor": 5
}
