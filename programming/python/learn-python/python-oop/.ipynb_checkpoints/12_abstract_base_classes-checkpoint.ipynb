{
 "cells": [
  {
   "cell_type": "markdown",
   "id": "9a21443c-d08e-436b-b8d0-bbea08dcdfe9",
   "metadata": {},
   "source": [
    "# 12. Abstract Base Classes"
   ]
  },
  {
   "cell_type": "markdown",
   "id": "31fcfbce-6c6d-4411-b0b4-50d7520dd79d",
   "metadata": {},
   "source": [
    "### 3. Type Checking Refresher"
   ]
  },
  {
   "cell_type": "code",
   "execution_count": 23,
   "id": "6fbf2677-c0c8-409c-9211-a8dc3ab9e2f2",
   "metadata": {},
   "outputs": [],
   "source": [
    "class Vehicle:\n",
    "    pass"
   ]
  },
  {
   "cell_type": "code",
   "execution_count": 24,
   "id": "efe9cfde-c58b-4774-a205-24d1d58dfc2d",
   "metadata": {},
   "outputs": [],
   "source": [
    "v = Vehicle()"
   ]
  },
  {
   "cell_type": "code",
   "execution_count": 25,
   "id": "b815f123-f55e-4496-a47d-c5907219be7a",
   "metadata": {},
   "outputs": [
    {
     "data": {
      "text/plain": [
       "__main__.Vehicle"
      ]
     },
     "execution_count": 25,
     "metadata": {},
     "output_type": "execute_result"
    }
   ],
   "source": [
    "type(v)"
   ]
  },
  {
   "cell_type": "code",
   "execution_count": 26,
   "id": "ee85e312-ae86-48ee-ac3e-a26e4656cecc",
   "metadata": {},
   "outputs": [],
   "source": [
    "class Robot:\n",
    "    pass"
   ]
  },
  {
   "cell_type": "code",
   "execution_count": 27,
   "id": "3c7ebc03-9415-47ae-9d09-d0b73aa79792",
   "metadata": {},
   "outputs": [],
   "source": [
    "class Vehicle(Robot):\n",
    "    pass"
   ]
  },
  {
   "cell_type": "code",
   "execution_count": 28,
   "id": "a7ea6c51-4c89-4570-8489-f4f32c52dc15",
   "metadata": {},
   "outputs": [
    {
     "data": {
      "text/plain": [
       "False"
      ]
     },
     "execution_count": 28,
     "metadata": {},
     "output_type": "execute_result"
    }
   ],
   "source": [
    "isinstance(Vehicle, Robot)"
   ]
  },
  {
   "cell_type": "code",
   "execution_count": 29,
   "id": "24268c34-dea3-48b5-bf8e-d522b25289ad",
   "metadata": {},
   "outputs": [],
   "source": [
    "class Robot:\n",
    "    pass"
   ]
  },
  {
   "cell_type": "code",
   "execution_count": 30,
   "id": "92132e31-5132-4942-8ab9-8f1e7a45042a",
   "metadata": {},
   "outputs": [],
   "source": [
    "class Vehicle(Robot):\n",
    "    pass"
   ]
  },
  {
   "cell_type": "code",
   "execution_count": 31,
   "id": "53dd2889-e187-4f28-b74a-49c8c691d19e",
   "metadata": {},
   "outputs": [
    {
     "data": {
      "text/plain": [
       "False"
      ]
     },
     "execution_count": 31,
     "metadata": {},
     "output_type": "execute_result"
    }
   ],
   "source": [
    "issubclass(Robot, Vehicle)"
   ]
  },
  {
   "cell_type": "code",
   "execution_count": 32,
   "id": "3d2968f8-701b-4de3-a0ee-ed40c298befc",
   "metadata": {},
   "outputs": [
    {
     "data": {
      "text/plain": [
       "True"
      ]
     },
     "execution_count": 32,
     "metadata": {},
     "output_type": "execute_result"
    }
   ],
   "source": [
    "issubclass(Vehicle, Robot)"
   ]
  },
  {
   "cell_type": "markdown",
   "id": "a73b1ecd-1890-46a5-a0ad-75eae583df56",
   "metadata": {},
   "source": [
    "### 4. Abstract Base Classes"
   ]
  },
  {
   "cell_type": "code",
   "execution_count": 96,
   "id": "96d0a8e1-123a-4b10-8e76-b6af02505198",
   "metadata": {},
   "outputs": [],
   "source": [
    "from abc import ABC"
   ]
  },
  {
   "cell_type": "markdown",
   "id": "634949b8-aa0b-4df3-aabf-833377ca70c9",
   "metadata": {},
   "source": [
    "Create an abstract base class `Vehicle`"
   ]
  },
  {
   "cell_type": "code",
   "execution_count": 87,
   "id": "7c2a3484-dab9-4c83-995e-8aaf0123b958",
   "metadata": {},
   "outputs": [],
   "source": [
    "class Vehicle(ABC):\n",
    "    \n",
    "    @abc.abstractmethod\n",
    "    def charge_battery(self):\n",
    "        pass"
   ]
  },
  {
   "cell_type": "code",
   "execution_count": 88,
   "id": "89b60736-58dc-4bb4-b28f-397554c0da5f",
   "metadata": {},
   "outputs": [],
   "source": [
    "class Car(Vehicle):\n",
    "    def charge_battery(self):\n",
    "        print(\"charging\")"
   ]
  },
  {
   "cell_type": "code",
   "execution_count": 89,
   "id": "a76d59f8-1279-4a44-b42d-dfd3d7f40b04",
   "metadata": {},
   "outputs": [],
   "source": [
    "m = Car()"
   ]
  },
  {
   "cell_type": "code",
   "execution_count": 90,
   "id": "a59b6f41-5d96-466b-a4e3-2e94a1485e44",
   "metadata": {},
   "outputs": [
    {
     "name": "stdout",
     "output_type": "stream",
     "text": [
      "charging\n"
     ]
    }
   ],
   "source": [
    "m.charge_battery()"
   ]
  },
  {
   "cell_type": "code",
   "execution_count": 97,
   "id": "93ce4a7e-7438-4f10-9430-2e7d34c0e99e",
   "metadata": {},
   "outputs": [],
   "source": [
    "from abc import ABC"
   ]
  },
  {
   "cell_type": "markdown",
   "id": "321e5127-d513-4304-97ea-d343151d8f85",
   "metadata": {},
   "source": [
    "Create an abstract base class `Vehicle`"
   ]
  },
  {
   "cell_type": "code",
   "execution_count": 98,
   "id": "da5e8e8f-c66d-4ef9-b639-17180359c510",
   "metadata": {},
   "outputs": [],
   "source": [
    "class Vehicle(ABC):\n",
    "    @abc.abstractproperty\n",
    "    def software_version(self):\n",
    "        pass"
   ]
  },
  {
   "cell_type": "code",
   "execution_count": 99,
   "id": "9f1906e4-d982-4de8-b8d6-4ef85f941f11",
   "metadata": {},
   "outputs": [],
   "source": [
    "class Car(Vehicle):\n",
    "    @property\n",
    "    def software_version(self):\n",
    "        return \"Version 2.1.4\""
   ]
  },
  {
   "cell_type": "code",
   "execution_count": 100,
   "id": "e5309524-09b9-4e2e-b6f8-1b79c1cb3181",
   "metadata": {},
   "outputs": [],
   "source": [
    "m = Car()"
   ]
  },
  {
   "cell_type": "code",
   "execution_count": 101,
   "id": "ee9e12e7-5385-4de2-8bac-e6590e6509e0",
   "metadata": {},
   "outputs": [
    {
     "data": {
      "text/plain": [
       "'Version 2.1.4'"
      ]
     },
     "execution_count": 101,
     "metadata": {},
     "output_type": "execute_result"
    }
   ],
   "source": [
    "m.software_version"
   ]
  },
  {
   "cell_type": "code",
   "execution_count": 28,
   "id": "88440ea3-e81f-4a26-881d-eb721b66a6e7",
   "metadata": {},
   "outputs": [],
   "source": [
    "from abc import ABC, abstractmethod"
   ]
  },
  {
   "cell_type": "code",
   "execution_count": 30,
   "id": "6f09184d-da41-424b-ac59-9c1779c5552b",
   "metadata": {},
   "outputs": [],
   "source": [
    "class Playable(ABC):\n",
    "    @abstractmethod\n",
    "    def play(self):\n",
    "        pass\n",
    "    \n",
    "    @abstractmethod\n",
    "    def pause(self):\n",
    "        pass\n",
    "    \n",
    "    @abstractmethod\n",
    "    def stop(self):\n",
    "        pass"
   ]
  },
  {
   "cell_type": "code",
   "execution_count": 31,
   "id": "c128cccc-c151-4369-8202-ac72202c9534",
   "metadata": {},
   "outputs": [],
   "source": [
    "class Replicable(ABC):\n",
    "    @abstractmethod\n",
    "    def move(self):\n",
    "        pass"
   ]
  },
  {
   "cell_type": "code",
   "execution_count": 32,
   "id": "600c8584-e539-465d-ae35-5c36f5d84f08",
   "metadata": {},
   "outputs": [],
   "source": [
    "class Robot(ABC):\n",
    "    @abstractmethod\n",
    "    def software(self):\n",
    "        pass\n",
    "    \n",
    "    @abstractmethod\n",
    "    def hardware(self):\n",
    "        pass"
   ]
  },
  {
   "cell_type": "code",
   "execution_count": 33,
   "id": "c74ee259-ce1b-454e-a255-d424ea9acfc9",
   "metadata": {},
   "outputs": [],
   "source": [
    "class Chargeable(ABC):\n",
    "    @abstractmethod\n",
    "    def charge_battery(self):\n",
    "        pass"
   ]
  },
  {
   "cell_type": "code",
   "execution_count": 34,
   "id": "3928cf36-95d1-415e-a368-b763f5dabe35",
   "metadata": {},
   "outputs": [],
   "source": [
    "class Vehicle(Robot, Chargeable):\n",
    "    pass"
   ]
  },
  {
   "cell_type": "code",
   "execution_count": 35,
   "id": "4df7bbf4-7167-4778-9753-01dc24f4b6c1",
   "metadata": {},
   "outputs": [],
   "source": [
    "class Car(Vehicle):\n",
    "    pass"
   ]
  },
  {
   "cell_type": "markdown",
   "id": "3b931c60-3575-4b9c-a82c-96b90799521a",
   "metadata": {},
   "source": [
    "Does this works? If no, explain"
   ]
  },
  {
   "cell_type": "code",
   "execution_count": null,
   "id": "6482fea8-42a3-4dda-9570-33acf30c4d50",
   "metadata": {},
   "outputs": [],
   "source": [
    "c = Car()"
   ]
  },
  {
   "cell_type": "markdown",
   "id": "83a0f08a-e963-4a14-832e-7f01bf47f16b",
   "metadata": {},
   "source": [
    "**Answer**\n",
    "\n",
    "No. To instantiate class `Car`, class `Car` need method `software`, `hardware` and `charge_battery`"
   ]
  },
  {
   "cell_type": "markdown",
   "id": "77badba9-e9ab-431d-983b-28b05e2bbee2",
   "metadata": {},
   "source": [
    "### 6. Standard Lib ABCs"
   ]
  },
  {
   "cell_type": "code",
   "execution_count": null,
   "id": "64856687-65fb-4412-a183-d13f43499705",
   "metadata": {},
   "outputs": [],
   "source": []
  }
 ],
 "metadata": {
  "kernelspec": {
   "display_name": "Python 3 (ipykernel)",
   "language": "python",
   "name": "python3"
  },
  "language_info": {
   "codemirror_mode": {
    "name": "ipython",
    "version": 3
   },
   "file_extension": ".py",
   "mimetype": "text/x-python",
   "name": "python",
   "nbconvert_exporter": "python",
   "pygments_lexer": "ipython3",
   "version": "3.9.12"
  }
 },
 "nbformat": 4,
 "nbformat_minor": 5
}
