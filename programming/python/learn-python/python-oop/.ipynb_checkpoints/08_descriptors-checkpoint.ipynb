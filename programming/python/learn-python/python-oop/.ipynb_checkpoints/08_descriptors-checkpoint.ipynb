{
 "cells": [
  {
   "cell_type": "markdown",
   "id": "b1c9ff7f-77cf-43c6-91f3-441d47129692",
   "metadata": {},
   "source": [
    "### 8. Descriptors"
   ]
  },
  {
   "cell_type": "markdown",
   "id": "05cfb881-b9f2-4cbb-af0d-b877cf8e969e",
   "metadata": {},
   "source": [
    "### 02. Attribute Lookup Chain Review"
   ]
  },
  {
   "cell_type": "code",
   "execution_count": 54,
   "id": "ac3acb9c-70ef-4d77-917f-4f3a0a5ef1da",
   "metadata": {},
   "outputs": [],
   "source": [
    "class Parent:\n",
    "    name = \"Thunder\""
   ]
  },
  {
   "cell_type": "code",
   "execution_count": 10,
   "id": "dc62e688-76a7-43fa-bb77-ec3974c16e99",
   "metadata": {},
   "outputs": [],
   "source": [
    "class Child:\n",
    "    \n",
    "    name = \"Shivon\"\n",
    "    \n",
    "    def __init__(self, name):\n",
    "        self.name = name"
   ]
  },
  {
   "cell_type": "code",
   "execution_count": 11,
   "id": "49f89aea-dd0b-415f-98b3-a1bea77ef157",
   "metadata": {},
   "outputs": [
    {
     "data": {
      "text/plain": [
       "mappingproxy({'__module__': '__main__',\n",
       "              'name': 'Shivon',\n",
       "              '__init__': <function __main__.Child.__init__(self, name)>,\n",
       "              '__dict__': <attribute '__dict__' of 'Child' objects>,\n",
       "              '__weakref__': <attribute '__weakref__' of 'Child' objects>,\n",
       "              '__doc__': None})"
      ]
     },
     "execution_count": 11,
     "metadata": {},
     "output_type": "execute_result"
    }
   ],
   "source": [
    "Child.__dict__"
   ]
  },
  {
   "cell_type": "markdown",
   "id": "4d231958-8683-452d-bc64-0d3c12c2eb03",
   "metadata": {},
   "source": [
    "### 03. The Descriptor Protocol"
   ]
  },
  {
   "cell_type": "code",
   "execution_count": 52,
   "id": "4add1f15-1a58-4519-a3a8-5f08276007ef",
   "metadata": {},
   "outputs": [],
   "source": [
    "class Box:\n",
    "    pass"
   ]
  },
  {
   "cell_type": "markdown",
   "id": "2e2edc01-5945-43cc-9cfa-bda873fc2db5",
   "metadata": {},
   "source": [
    "Create a simple descriptor `Box`"
   ]
  },
  {
   "cell_type": "code",
   "execution_count": 55,
   "id": "61b415ef-92e2-487e-83bc-e7ffa9f0b9e0",
   "metadata": {},
   "outputs": [],
   "source": [
    "class Box:\n",
    "    \n",
    "    def __get__(self):\n",
    "        return self.value\n",
    "    \n",
    "    def __set__(self):\n",
    "        pass\n",
    "    \n",
    "    def __delete__(self):\n",
    "        pass"
   ]
  },
  {
   "cell_type": "markdown",
   "id": "ae695cc0-71cd-4d27-bd70-2cce873d5fdd",
   "metadata": {},
   "source": [
    "### 04. Using A Descriptor"
   ]
  },
  {
   "cell_type": "code",
   "execution_count": 2,
   "id": "987248b4-66ac-49a7-bbc5-aa01f76c5c9d",
   "metadata": {},
   "outputs": [],
   "source": [
    "class TextField:\n",
    "    def __get__(self, instance, owner):\n",
    "        pass"
   ]
  },
  {
   "cell_type": "code",
   "execution_count": 1,
   "id": "fd72ed62-6c44-46f4-9cf9-6b3022562060",
   "metadata": {},
   "outputs": [],
   "source": [
    "class TextField:\n",
    "    def __set__(self, instance, value):\n",
    "        pass"
   ]
  },
  {
   "cell_type": "code",
   "execution_count": 29,
   "id": "84d190da-2dc1-40dc-b9bf-e4a0287cd3ed",
   "metadata": {},
   "outputs": [],
   "source": [
    "class TextField:\n",
    "    \n",
    "    def __init__(self, length):\n",
    "        self.length = length\n",
    "    \n",
    "    def __get__(self, instance, owner):\n",
    "        return self.value\n",
    "    \n",
    "    def __set__(self, instance, value):\n",
    "        \n",
    "        if len(value) > self.length:\n",
    "            raise ValueError(f\"Value can't exceed {self.length} characters\")\n",
    "        \n",
    "        self.value = value\n",
    "    \n",
    "    # def __delete__(self, instance):\n",
    "    #     pass"
   ]
  },
  {
   "cell_type": "code",
   "execution_count": null,
   "id": "7989490f-569c-4111-b914-b0444b2c95cd",
   "metadata": {},
   "outputs": [],
   "source": []
  },
  {
   "cell_type": "code",
   "execution_count": 23,
   "id": "bbeeedfd-0a5b-47bf-862f-890c1ab5c9cb",
   "metadata": {},
   "outputs": [],
   "source": [
    "class PersonTable:\n",
    "    first_name = TextField(30)"
   ]
  },
  {
   "cell_type": "code",
   "execution_count": 24,
   "id": "bfb42b11-69fe-48ee-a587-c11efbcc511a",
   "metadata": {},
   "outputs": [],
   "source": [
    "p = PersonTable()"
   ]
  },
  {
   "cell_type": "code",
   "execution_count": 25,
   "id": "67e27be2-204f-4754-8ecd-501462dac4cb",
   "metadata": {},
   "outputs": [
    {
     "ename": "ValueError",
     "evalue": "Value can't exceed 30 characters",
     "output_type": "error",
     "traceback": [
      "\u001b[0;31m---------------------------------------------------------------------------\u001b[0m",
      "\u001b[0;31mValueError\u001b[0m                                Traceback (most recent call last)",
      "Input \u001b[0;32mIn [25]\u001b[0m, in \u001b[0;36m<cell line: 1>\u001b[0;34m()\u001b[0m\n\u001b[0;32m----> 1\u001b[0m p\u001b[38;5;241m.\u001b[39mfirst_name \u001b[38;5;241m=\u001b[39m \u001b[38;5;124m'\u001b[39m\u001b[38;5;124mShivon\u001b[39m\u001b[38;5;124m'\u001b[39m \u001b[38;5;241m*\u001b[39m \u001b[38;5;241m10\u001b[39m\n",
      "Input \u001b[0;32mIn [22]\u001b[0m, in \u001b[0;36mTextField.__set__\u001b[0;34m(self, instance, value)\u001b[0m\n\u001b[1;32m      9\u001b[0m \u001b[38;5;28;01mdef\u001b[39;00m \u001b[38;5;21m__set__\u001b[39m(\u001b[38;5;28mself\u001b[39m, instance, value):\n\u001b[1;32m     11\u001b[0m     \u001b[38;5;28;01mif\u001b[39;00m \u001b[38;5;28mlen\u001b[39m(value) \u001b[38;5;241m>\u001b[39m \u001b[38;5;28mself\u001b[39m\u001b[38;5;241m.\u001b[39mlength:\n\u001b[0;32m---> 12\u001b[0m         \u001b[38;5;28;01mraise\u001b[39;00m \u001b[38;5;167;01mValueError\u001b[39;00m(\u001b[38;5;124mf\u001b[39m\u001b[38;5;124m\"\u001b[39m\u001b[38;5;124mValue can\u001b[39m\u001b[38;5;124m'\u001b[39m\u001b[38;5;124mt exceed \u001b[39m\u001b[38;5;132;01m{\u001b[39;00m\u001b[38;5;28mself\u001b[39m\u001b[38;5;241m.\u001b[39mlength\u001b[38;5;132;01m}\u001b[39;00m\u001b[38;5;124m characters\u001b[39m\u001b[38;5;124m\"\u001b[39m)\n\u001b[1;32m     14\u001b[0m     \u001b[38;5;28mself\u001b[39m\u001b[38;5;241m.\u001b[39mvalue \u001b[38;5;241m=\u001b[39m value\n",
      "\u001b[0;31mValueError\u001b[0m: Value can't exceed 30 characters"
     ]
    }
   ],
   "source": [
    "p.first_name = 'Shivon' * 10"
   ]
  },
  {
   "cell_type": "code",
   "execution_count": 26,
   "id": "34084e84-c26f-4974-8621-b79ccbe7a3cc",
   "metadata": {},
   "outputs": [],
   "source": [
    "p.first_name = \"Shivon\""
   ]
  },
  {
   "cell_type": "code",
   "execution_count": 27,
   "id": "d1614b49-916e-498a-a1ea-7d2acc9c8a15",
   "metadata": {},
   "outputs": [
    {
     "data": {
      "text/plain": [
       "'Shivon'"
      ]
     },
     "execution_count": 27,
     "metadata": {},
     "output_type": "execute_result"
    }
   ],
   "source": [
    "p.first_name"
   ]
  },
  {
   "cell_type": "markdown",
   "id": "cfda6981-964b-452f-99fb-cd5d4800d809",
   "metadata": {},
   "source": [
    "Create a descriptor `TextField` that only allow to set value if less than `20` characters."
   ]
  },
  {
   "cell_type": "code",
   "execution_count": 103,
   "id": "d8a5eecc-98fe-426c-9d7b-5ed7016cd955",
   "metadata": {},
   "outputs": [],
   "source": [
    "class TextField:\n",
    "    \n",
    "    def __set__(self, instance, value):\n",
    "        \n",
    "        if len(value) > 20:\n",
    "            raise ValueError(f\"Value can't exceed 20 characters\")\n",
    "        \n",
    "        self.value = value"
   ]
  },
  {
   "cell_type": "code",
   "execution_count": 104,
   "id": "1b13b768-42e1-4771-8655-9efdb672d50a",
   "metadata": {},
   "outputs": [],
   "source": [
    "class Person:\n",
    "    first_name = TextField()"
   ]
  },
  {
   "cell_type": "code",
   "execution_count": 105,
   "id": "7dfdd7d5-b4a9-497a-802f-1f3574342da7",
   "metadata": {},
   "outputs": [],
   "source": [
    "p1 = Person()"
   ]
  },
  {
   "cell_type": "code",
   "execution_count": 106,
   "id": "fe112f07-15a7-4f9c-b7f6-a6b28146d53c",
   "metadata": {},
   "outputs": [
    {
     "ename": "ValueError",
     "evalue": "Value can't exceed 20 characters",
     "output_type": "error",
     "traceback": [
      "\u001b[0;31m---------------------------------------------------------------------------\u001b[0m",
      "\u001b[0;31mValueError\u001b[0m                                Traceback (most recent call last)",
      "Input \u001b[0;32mIn [106]\u001b[0m, in \u001b[0;36m<cell line: 1>\u001b[0;34m()\u001b[0m\n\u001b[0;32m----> 1\u001b[0m p1\u001b[38;5;241m.\u001b[39mfirst_name \u001b[38;5;241m=\u001b[39m \u001b[38;5;124m\"\u001b[39m\u001b[38;5;124mShivon\u001b[39m\u001b[38;5;124m\"\u001b[39m \u001b[38;5;241m*\u001b[39m \u001b[38;5;241m10\u001b[39m\n",
      "Input \u001b[0;32mIn [103]\u001b[0m, in \u001b[0;36mTextField.__set__\u001b[0;34m(self, instance, value)\u001b[0m\n\u001b[1;32m      3\u001b[0m \u001b[38;5;28;01mdef\u001b[39;00m \u001b[38;5;21m__set__\u001b[39m(\u001b[38;5;28mself\u001b[39m, instance, value):\n\u001b[1;32m      5\u001b[0m     \u001b[38;5;28;01mif\u001b[39;00m \u001b[38;5;28mlen\u001b[39m(value) \u001b[38;5;241m>\u001b[39m \u001b[38;5;241m20\u001b[39m:\n\u001b[0;32m----> 6\u001b[0m         \u001b[38;5;28;01mraise\u001b[39;00m \u001b[38;5;167;01mValueError\u001b[39;00m(\u001b[38;5;124mf\u001b[39m\u001b[38;5;124m\"\u001b[39m\u001b[38;5;124mValue can\u001b[39m\u001b[38;5;124m'\u001b[39m\u001b[38;5;124mt exceed 20 characters\u001b[39m\u001b[38;5;124m\"\u001b[39m)\n\u001b[1;32m      8\u001b[0m     \u001b[38;5;28mself\u001b[39m\u001b[38;5;241m.\u001b[39mvalue \u001b[38;5;241m=\u001b[39m value\n",
      "\u001b[0;31mValueError\u001b[0m: Value can't exceed 20 characters"
     ]
    }
   ],
   "source": [
    "p1.first_name = \"Shivon\" * 10"
   ]
  },
  {
   "cell_type": "markdown",
   "id": "ef33bcf9-2083-410d-97b7-d5714c5f29f3",
   "metadata": {},
   "source": [
    "Create a descriptor `PhoneField` that takes any input."
   ]
  },
  {
   "cell_type": "code",
   "execution_count": 131,
   "id": "2ae87591-59eb-40a9-ae3c-551c8f37ab40",
   "metadata": {},
   "outputs": [],
   "source": [
    "class PhoneField:\n",
    "    \n",
    "    def __get__(self, instance, owner):\n",
    "        return self.value\n",
    "    \n",
    "    def __set__(self, instance, value):\n",
    "        self.value = value"
   ]
  },
  {
   "cell_type": "code",
   "execution_count": 132,
   "id": "e7e1b50c-1df3-49f2-9eda-17e1576415ef",
   "metadata": {},
   "outputs": [],
   "source": [
    "class Person:\n",
    "    phone_number = PhoneField()"
   ]
  },
  {
   "cell_type": "code",
   "execution_count": 133,
   "id": "afc69572-c27c-4b3e-922a-3bab900987af",
   "metadata": {},
   "outputs": [],
   "source": [
    "p2 = Person()"
   ]
  },
  {
   "cell_type": "code",
   "execution_count": 134,
   "id": "c452bea9-db21-4d31-af4e-85bd4848b164",
   "metadata": {},
   "outputs": [],
   "source": [
    "p2.phone_number = 123456789"
   ]
  },
  {
   "cell_type": "code",
   "execution_count": 135,
   "id": "eb5d64bb-88bb-4b81-a594-1a779957c10b",
   "metadata": {},
   "outputs": [
    {
     "data": {
      "text/plain": [
       "123456789"
      ]
     },
     "execution_count": 135,
     "metadata": {},
     "output_type": "execute_result"
    }
   ],
   "source": [
    "p2.phone_number"
   ]
  },
  {
   "cell_type": "code",
   "execution_count": 156,
   "id": "8b1962de-f513-4981-acac-b66dfcbd2f89",
   "metadata": {},
   "outputs": [],
   "source": [
    "class TextField:\n",
    "    def __get__(self, instance, owner):\n",
    "        return self.value\n",
    "    \n",
    "    def __set__(self, instance, value):\n",
    "        self.value = value"
   ]
  },
  {
   "cell_type": "code",
   "execution_count": 157,
   "id": "0ebac545-f50c-420d-966e-5447d2c63c28",
   "metadata": {},
   "outputs": [],
   "source": [
    "class PersonTable:\n",
    "    first_name = TextField()\n",
    "    \n",
    "    def __init__(self, first_name):\n",
    "        self.__dict__[\"first_name\"] = first_name"
   ]
  },
  {
   "cell_type": "code",
   "execution_count": 158,
   "id": "251f6d91-47d7-4f57-99f8-4452a5aba753",
   "metadata": {},
   "outputs": [],
   "source": [
    "p3 = PersonTable(\"Shivon\")"
   ]
  },
  {
   "cell_type": "code",
   "execution_count": 159,
   "id": "886507ce-6511-4197-92f5-331999c78bc8",
   "metadata": {},
   "outputs": [],
   "source": [
    "p3.first_name = \"XR5\""
   ]
  },
  {
   "cell_type": "markdown",
   "id": "7597c994-d5b9-413c-8c83-878192da36ac",
   "metadata": {},
   "source": [
    "**Question**: What is the output? Explain why."
   ]
  },
  {
   "cell_type": "code",
   "execution_count": 160,
   "id": "8aa3e654-f6b2-42bf-80c0-962ae2f89ebd",
   "metadata": {},
   "outputs": [
    {
     "data": {
      "text/plain": [
       "'XR5'"
      ]
     },
     "execution_count": 160,
     "metadata": {},
     "output_type": "execute_result"
    }
   ],
   "source": [
    "p3.first_name"
   ]
  },
  {
   "cell_type": "markdown",
   "id": "2f9068e8-c265-42b1-a419-cf16b27268ae",
   "metadata": {},
   "source": [
    "Because here's the python lookup chain:\n",
    "- 1. Call the `__get__` of the descriptor having the same name as the attribute (in this case `first_name`)\n",
    "- 2. Look in the instance attribute\n",
    "- 3. Look in the class attribute\n",
    "- 4. Look in the parent attribute\n",
    "- 5. Look in the `object` attribute\n",
    "\n",
    "So in this case, because there're a descriptor `first_name` so python return it."
   ]
  },
  {
   "cell_type": "markdown",
   "id": "e51ab7a9-955b-4910-9392-a6dbf58bce78",
   "metadata": {},
   "source": [
    "Where should you put the descriptor?"
   ]
  },
  {
   "cell_type": "code",
   "execution_count": 176,
   "id": "99d17e6b-d745-4c1b-8c0b-1197d795ca0f",
   "metadata": {},
   "outputs": [],
   "source": [
    "class PersonTable:\n",
    "    \n",
    "    # location_1\n",
    "    \n",
    "    def __init__(self):\n",
    "        # location_2\n",
    "        pass\n",
    "    \n",
    "    def attribute_name(self):\n",
    "        # location 3\n",
    "        pass"
   ]
  },
  {
   "cell_type": "markdown",
   "id": "b6a93365-24ea-4d56-8472-59b1510e643b",
   "metadata": {},
   "source": [
    "**Answer**: `location_1`"
   ]
  },
  {
   "cell_type": "markdown",
   "id": "76b09576-ab0d-44dc-be4b-c5858fe83dc8",
   "metadata": {},
   "source": [
    "### 5. Descriptor Storage"
   ]
  },
  {
   "cell_type": "code",
   "execution_count": 185,
   "id": "eebe5604-c183-419f-a5e0-13f0a2899bdb",
   "metadata": {},
   "outputs": [],
   "source": [
    "class TextField:\n",
    "    def __get__(self, instance, owner):\n",
    "        return self.value\n",
    "    \n",
    "    def __set__(self, instance, value):\n",
    "        self.value = value"
   ]
  },
  {
   "cell_type": "code",
   "execution_count": 186,
   "id": "af28c2ef-3c52-452b-90a1-b647d25ed17c",
   "metadata": {},
   "outputs": [],
   "source": [
    "class Zoo:\n",
    "    name = TextField()"
   ]
  },
  {
   "cell_type": "code",
   "execution_count": 187,
   "id": "4ad835d2-490f-4fc4-8df9-6d3733240c75",
   "metadata": {},
   "outputs": [],
   "source": [
    "p1 = Zoo()\n",
    "p2 = Zoo()"
   ]
  },
  {
   "cell_type": "code",
   "execution_count": 188,
   "id": "68bdd5a2-9e79-4162-bee0-5788ab4adeaf",
   "metadata": {},
   "outputs": [],
   "source": [
    "p1.name = \"Adventure\""
   ]
  },
  {
   "cell_type": "markdown",
   "id": "dd0bd10f-91c2-4443-a122-8a146762c9bf",
   "metadata": {},
   "source": [
    "What is the output? How to fix it."
   ]
  },
  {
   "cell_type": "code",
   "execution_count": 189,
   "id": "646c5853-83d1-442b-bf50-036e0b399923",
   "metadata": {},
   "outputs": [
    {
     "data": {
      "text/plain": [
       "'Adventure'"
      ]
     },
     "execution_count": 189,
     "metadata": {},
     "output_type": "execute_result"
    }
   ],
   "source": [
    "p2.name"
   ]
  },
  {
   "cell_type": "markdown",
   "id": "612a8e8c-017e-4624-8676-ffc3a8d93582",
   "metadata": {},
   "source": [
    "**Explain**\n",
    "\n",
    "Because all instance of `Zoo` will have access to the class variable `name`, which points to the same instance descriptor `TextField`.\n",
    "\n",
    "So if the instance descriptor `TextField` changes, it will affect all other instances of `Zoo`"
   ]
  },
  {
   "cell_type": "code",
   "execution_count": 273,
   "id": "d159ed78-0f73-4c28-b9a6-17fe3481e57b",
   "metadata": {},
   "outputs": [],
   "source": [
    "class TextField:\n",
    "    def __get__(self, instance, owner):\n",
    "        return self.value\n",
    "    \n",
    "    def __set__(self, instance, value):\n",
    "        self.value = value"
   ]
  },
  {
   "cell_type": "code",
   "execution_count": 274,
   "id": "183da4f1-ae8a-489a-bb5c-4dc8b4edb2e3",
   "metadata": {},
   "outputs": [],
   "source": [
    "class Zoo:\n",
    "    name = TextField()"
   ]
  },
  {
   "cell_type": "code",
   "execution_count": 275,
   "id": "6336d154-0944-4e0d-adab-d8d357d64dd9",
   "metadata": {},
   "outputs": [],
   "source": [
    "p3 = Zoo(); p4 = Zoo()"
   ]
  },
  {
   "cell_type": "markdown",
   "id": "9e50d3a0-8b34-48d2-bcbb-215457ec405d",
   "metadata": {},
   "source": [
    "What is the output? And fix for the value of each instance separate."
   ]
  },
  {
   "cell_type": "code",
   "execution_count": 276,
   "id": "00c0ef5a-3121-4a70-819d-4a78b832c377",
   "metadata": {},
   "outputs": [],
   "source": [
    "p4.name = \"Adventure\""
   ]
  },
  {
   "cell_type": "code",
   "execution_count": 277,
   "id": "f7198880-199e-49d1-84a9-63b1b8b919e0",
   "metadata": {},
   "outputs": [
    {
     "data": {
      "text/plain": [
       "'Adventure'"
      ]
     },
     "execution_count": 277,
     "metadata": {},
     "output_type": "execute_result"
    }
   ],
   "source": [
    "p3.name"
   ]
  },
  {
   "cell_type": "code",
   "execution_count": 278,
   "id": "7f0942eb-cfed-4231-b1eb-63f5af720b05",
   "metadata": {},
   "outputs": [],
   "source": [
    "class TextField:\n",
    "    \n",
    "    def __init__(self):\n",
    "        self._data = {}\n",
    "    \n",
    "    def __get__(self, instance, owner):\n",
    "        return self._data.get(instance)\n",
    "    \n",
    "    def __set__(self, instance, value):\n",
    "        self._data[instance] = value"
   ]
  },
  {
   "cell_type": "code",
   "execution_count": 279,
   "id": "ec7f4c93-0072-4b38-9660-8a5fefcbba07",
   "metadata": {},
   "outputs": [],
   "source": [
    "class Zoo:\n",
    "    name = TextField()"
   ]
  },
  {
   "cell_type": "code",
   "execution_count": 280,
   "id": "305dbba9-53c5-4e03-a158-df75a87baba5",
   "metadata": {},
   "outputs": [],
   "source": [
    "p3 = Zoo(); p4 = Zoo()"
   ]
  },
  {
   "cell_type": "code",
   "execution_count": 281,
   "id": "25db24bc-111d-45bd-a7c5-ab84e5f727a3",
   "metadata": {},
   "outputs": [],
   "source": [
    "p3.name = \"The Lost World\"\n",
    "p4.name = \"Adventure\""
   ]
  },
  {
   "cell_type": "code",
   "execution_count": 282,
   "id": "53aa75ed-de07-4d9d-b99a-2702adfe762d",
   "metadata": {},
   "outputs": [
    {
     "data": {
      "text/plain": [
       "('The Lost World', 'Adventure')"
      ]
     },
     "execution_count": 282,
     "metadata": {},
     "output_type": "execute_result"
    }
   ],
   "source": [
    "p3.name, p4.name"
   ]
  },
  {
   "cell_type": "code",
   "execution_count": 283,
   "id": "a1494587-45eb-484e-8216-0a0309146461",
   "metadata": {},
   "outputs": [],
   "source": [
    "# video 5: 6:44"
   ]
  },
  {
   "cell_type": "markdown",
   "id": "fb2b167a-3cf3-4bda-be20-f650790ee457",
   "metadata": {},
   "source": [
    "### 6. Even Better Instance Storage"
   ]
  },
  {
   "cell_type": "markdown",
   "id": "023c12c7-c5c6-42b3-aec9-9e505886dd85",
   "metadata": {},
   "source": [
    "Create a descriptor `TextField` that store values in the instance dictionary"
   ]
  },
  {
   "cell_type": "code",
   "execution_count": 23,
   "id": "135bc9a0-f660-4126-b761-361b683fb385",
   "metadata": {},
   "outputs": [],
   "source": [
    "class TextField:\n",
    "    def __init__(self, field_name):\n",
    "        self.field_name = field_name\n",
    "    \n",
    "    def __get__(self, instance, owner):\n",
    "        return instance.__dict__.get(self.field_name)\n",
    "    \n",
    "    def __set__(self, instance, value):\n",
    "        instance.__dict__[self.field_name] = value"
   ]
  },
  {
   "cell_type": "code",
   "execution_count": 24,
   "id": "eb68ca34-11b9-4efd-9fb6-eec5bc0a38b7",
   "metadata": {},
   "outputs": [],
   "source": [
    "class Person:\n",
    "    first_name = TextField(\"first_name\")\n",
    "    last_name = TextField(\"last_name\")"
   ]
  },
  {
   "cell_type": "code",
   "execution_count": 25,
   "id": "9a2d9463-06e7-463c-81be-e8bcf1a6b03e",
   "metadata": {},
   "outputs": [],
   "source": [
    "p = Person()"
   ]
  },
  {
   "cell_type": "code",
   "execution_count": 26,
   "id": "1a8171ab-5de3-463c-aa6f-58f27fa78a0b",
   "metadata": {},
   "outputs": [],
   "source": [
    "p.first_name = \"Shivon\"\n",
    "p.last_name = \"XR\""
   ]
  },
  {
   "cell_type": "code",
   "execution_count": 27,
   "id": "e70eea34-1eba-47c7-b2ee-fcefca169181",
   "metadata": {},
   "outputs": [
    {
     "data": {
      "text/plain": [
       "{'first_name': 'Shivon', 'last_name': 'XR'}"
      ]
     },
     "execution_count": 27,
     "metadata": {},
     "output_type": "execute_result"
    }
   ],
   "source": [
    "p.__dict__"
   ]
  },
  {
   "cell_type": "markdown",
   "id": "7b5c805d-b201-4349-a58b-31b12186b376",
   "metadata": {},
   "source": [
    "### 7. Using `__set_name__`"
   ]
  },
  {
   "cell_type": "code",
   "execution_count": 30,
   "id": "52041f72-6b9e-4544-9b3a-475ecb60da51",
   "metadata": {},
   "outputs": [],
   "source": [
    "class NumberField:\n",
    "\n",
    "    def __set_name__(self):\n",
    "        pass\n",
    "    \n",
    "    def __init__(self):\n",
    "        pass\n",
    "    \n",
    "    def func(self):\n",
    "        pass"
   ]
  },
  {
   "cell_type": "markdown",
   "id": "86eaea7a-77d7-419d-8e83-e7f94bbdd05c",
   "metadata": {},
   "source": [
    "What is/are function(s) will be call after initialize the descriptor `NumberField`?"
   ]
  },
  {
   "cell_type": "markdown",
   "id": "31f29cdd-2291-458c-810a-8ab4a9bd82c0",
   "metadata": {},
   "source": [
    "**Answer**: `__init__` and then `__set_name__`"
   ]
  },
  {
   "cell_type": "markdown",
   "id": "883638cd-2c46-4b97-99c1-c8154ea59528",
   "metadata": {},
   "source": [
    "`NumberField` is a descriptor. What are arguments that `__set_name__` have by default?"
   ]
  },
  {
   "cell_type": "markdown",
   "id": "4a9ae98a-9bab-42ff-8ab1-9cfe3f6ba8b3",
   "metadata": {},
   "source": [
    "In `NumberField`, add a method that set `self.name` to the class variable that points to it"
   ]
  },
  {
   "cell_type": "code",
   "execution_count": 78,
   "id": "a1735a4b-5d76-40e4-9743-c920bc1d1a8b",
   "metadata": {},
   "outputs": [],
   "source": [
    "class NumberField:\n",
    "    def __get__(self, instance, owner):\n",
    "        return self.name\n",
    "    \n",
    "    def __set_name__(self, owner, name):\n",
    "        self.name = name"
   ]
  },
  {
   "cell_type": "code",
   "execution_count": 79,
   "id": "548f288f-b1c4-4e08-a5c4-cd021415191d",
   "metadata": {},
   "outputs": [],
   "source": [
    "class Person:\n",
    "    phone = NumberField()"
   ]
  },
  {
   "cell_type": "code",
   "execution_count": 80,
   "id": "25e68f41-d891-420b-b418-1d3109a2a1c6",
   "metadata": {},
   "outputs": [],
   "source": [
    "p = Person()"
   ]
  },
  {
   "cell_type": "code",
   "execution_count": 81,
   "id": "8f77ebbf-2ad7-4a20-9af0-a6ce08f5af20",
   "metadata": {},
   "outputs": [
    {
     "data": {
      "text/plain": [
       "'phone'"
      ]
     },
     "execution_count": 81,
     "metadata": {},
     "output_type": "execute_result"
    }
   ],
   "source": [
    "p.phone"
   ]
  },
  {
   "cell_type": "markdown",
   "id": "85166507-030e-4b51-be68-bb2907060025",
   "metadata": {},
   "source": [
    "**Answer**\n",
    "- `__set_name__` will be call after the `NumberField` intialized. \n",
    "- `__set_name__`'s `name` parameter is the name of the class variable that the descriptor is pointed to.\n",
    "\n",
    "Because, the class variable `phone` pointed to the descriptor, so it returns the name of the class varaible"
   ]
  },
  {
   "cell_type": "markdown",
   "id": "0d0d3ad2-ffd9-402b-90d7-c532a7a3ff92",
   "metadata": {},
   "source": [
    "### 8. Typing Up Loose Ends"
   ]
  },
  {
   "cell_type": "markdown",
   "id": "e85fef90-97d6-42e9-8873-33916a11daea",
   "metadata": {},
   "source": [
    "What is `self` refering to?"
   ]
  },
  {
   "cell_type": "markdown",
   "id": "caaaf232-3ab0-4e2a-acc0-a2d556fe0d2c",
   "metadata": {},
   "source": [
    "**Answer**: `self` refers to the instance of the descriptor"
   ]
  },
  {
   "cell_type": "code",
   "execution_count": 103,
   "id": "47d1908c-7555-4566-8ce4-e027d12a3035",
   "metadata": {},
   "outputs": [],
   "source": [
    "class Software:\n",
    "    def __get__(self, instance, owner):\n",
    "        pass"
   ]
  },
  {
   "cell_type": "markdown",
   "id": "3b50a503-e04e-4646-a112-5e480b01a32c",
   "metadata": {},
   "source": [
    "What is `instance` refering to?"
   ]
  },
  {
   "cell_type": "markdown",
   "id": "809f36fa-376b-4214-995a-056eff08fb62",
   "metadata": {},
   "source": [
    "**Answer**: `instance` refers to the instance from which the descriptor is used"
   ]
  },
  {
   "cell_type": "code",
   "execution_count": 102,
   "id": "ae554226-85a3-4483-90bd-b3a91568eda0",
   "metadata": {},
   "outputs": [],
   "source": [
    "class Software:\n",
    "    def __get__(self, instance, owner):\n",
    "        pass"
   ]
  },
  {
   "cell_type": "markdown",
   "id": "002be339-141c-48b9-a8b0-60ade059e984",
   "metadata": {},
   "source": [
    "What is `owner` refering to?"
   ]
  },
  {
   "cell_type": "markdown",
   "id": "5d5921f9-0829-425b-aa68-2c0f178fb600",
   "metadata": {},
   "source": [
    "**Answer**: `owner` refers to the class in which the descriptor is defined"
   ]
  },
  {
   "cell_type": "code",
   "execution_count": 104,
   "id": "28309e70-30ee-43aa-86e8-accb31139f4b",
   "metadata": {},
   "outputs": [],
   "source": [
    "class Software:\n",
    "    def __get__(self, instance, owner):\n",
    "        pass"
   ]
  },
  {
   "cell_type": "markdown",
   "id": "14c7f2f3-1de0-42a8-bb3c-ad89c31aca21",
   "metadata": {},
   "source": [
    "### 9. Non-data Descriptors"
   ]
  },
  {
   "cell_type": "markdown",
   "id": "5dc82785-3377-4bef-9b18-09c157470038",
   "metadata": {},
   "source": [
    "Create a non-data descriptor `NumberSeven` that always return `7`"
   ]
  },
  {
   "cell_type": "code",
   "execution_count": 9,
   "id": "e391497c-0a66-49ca-a732-befd5fe47e95",
   "metadata": {},
   "outputs": [],
   "source": [
    "class NumberSeven:\n",
    "    def __get__(self, instance, owner):\n",
    "        return 7"
   ]
  },
  {
   "cell_type": "code",
   "execution_count": 10,
   "id": "e6f06101-085f-44f6-9f9a-7fd2a0363228",
   "metadata": {},
   "outputs": [],
   "source": [
    "class Person:\n",
    "    number = NumberSeven()"
   ]
  },
  {
   "cell_type": "code",
   "execution_count": 11,
   "id": "aac1f11d-55e6-45d5-9cc9-04a4f3148932",
   "metadata": {},
   "outputs": [],
   "source": [
    "p = Person()"
   ]
  },
  {
   "cell_type": "code",
   "execution_count": 12,
   "id": "b68fe74b-cdba-41ea-a9ef-97ea30c79344",
   "metadata": {},
   "outputs": [
    {
     "data": {
      "text/plain": [
       "7"
      ]
     },
     "execution_count": 12,
     "metadata": {},
     "output_type": "execute_result"
    }
   ],
   "source": [
    "p.number"
   ]
  },
  {
   "cell_type": "markdown",
   "id": "87ec2fdb-e78b-4c75-9b74-780edc9a7d25",
   "metadata": {},
   "source": [
    "`SoftwareUpdate` is a non-data descriptor"
   ]
  },
  {
   "cell_type": "code",
   "execution_count": 27,
   "id": "b96f5a2d-6e93-432b-adea-77b3772b7c6a",
   "metadata": {},
   "outputs": [],
   "source": [
    "class SoftwareUpdate:\n",
    "    def __get__(self, instance, owner):\n",
    "        return 1.0"
   ]
  },
  {
   "cell_type": "code",
   "execution_count": 28,
   "id": "35861754-eec0-4ff2-a6d3-7c165a04126b",
   "metadata": {},
   "outputs": [],
   "source": [
    "class Car:\n",
    "    software = SoftwareUpdate()\n",
    "    \n",
    "    def __init__(self, software):\n",
    "        self.software = software"
   ]
  },
  {
   "cell_type": "markdown",
   "id": "9f92b141-0869-4318-9b9a-03c1fdc3f863",
   "metadata": {},
   "source": [
    "What is the output? Explain why"
   ]
  },
  {
   "cell_type": "code",
   "execution_count": 29,
   "id": "e0a2abb2-4ccb-4d2e-8134-226691e84a56",
   "metadata": {},
   "outputs": [],
   "source": [
    "c = Car(2.3)"
   ]
  },
  {
   "cell_type": "code",
   "execution_count": 30,
   "id": "e78f6a63-b477-429e-8527-bf7ea41b1c19",
   "metadata": {},
   "outputs": [
    {
     "data": {
      "text/plain": [
       "2.3"
      ]
     },
     "execution_count": 30,
     "metadata": {},
     "output_type": "execute_result"
    }
   ],
   "source": [
    "c.software"
   ]
  },
  {
   "cell_type": "markdown",
   "id": "86d6c199-1686-4261-a063-adb7e2b87184",
   "metadata": {},
   "source": [
    "**Answer**\n",
    "\n",
    "So here's the lookup chain that involve non-data descriptor\n",
    "- 1. Call the `__get__` of **the data descriptor** having the same name as the attribute\n",
    "- 2. Look at instance `__dict__` for a key with the attribute name\n",
    "- 3. Call the `__get__` of **the non-data descriptor** having the same name as the attribute\n",
    "....\n",
    "\n",
    "Because `SoftwareUpdate` is a non-data descriptor, so python return `2` over `3`"
   ]
  },
  {
   "cell_type": "markdown",
   "id": "a4fd9d2a-60b6-47be-a19a-2ed7fb42542d",
   "metadata": {},
   "source": [
    "### 10. Aren't Properties Just Better?"
   ]
  },
  {
   "cell_type": "markdown",
   "id": "27e135e8-39e9-43ac-9010-36a32a4e255d",
   "metadata": {},
   "source": [
    "If `Robot` and `Car` have the same way of `software_update`. Should each class use `property` or `descriptor` for `software_update`? Explain"
   ]
  },
  {
   "cell_type": "code",
   "execution_count": 41,
   "id": "5c9fb2f3-dc27-4065-adb1-28ecb542610e",
   "metadata": {},
   "outputs": [],
   "source": [
    "class Robot:\n",
    "    def software_update(self):\n",
    "        # bunch of code\n",
    "        pass"
   ]
  },
  {
   "cell_type": "code",
   "execution_count": 42,
   "id": "2a909325-8f0c-4a60-a31d-0818639da306",
   "metadata": {},
   "outputs": [],
   "source": [
    "class Car:\n",
    "    def software_update(self):\n",
    "        # bunch of code\n",
    "        pass"
   ]
  },
  {
   "cell_type": "markdown",
   "id": "959f8978-e8c3-4789-89af-d842f15682af",
   "metadata": {},
   "source": [
    "**Answer**: Descriptor. Because `software_update` can be a descriptor that reuse in both classes."
   ]
  },
  {
   "cell_type": "code",
   "execution_count": null,
   "id": "a9620a5e-d5ae-4495-8369-83455a4ec96a",
   "metadata": {},
   "outputs": [],
   "source": []
  }
 ],
 "metadata": {
  "kernelspec": {
   "display_name": "Python 3 (ipykernel)",
   "language": "python",
   "name": "python3"
  },
  "language_info": {
   "codemirror_mode": {
    "name": "ipython",
    "version": 3
   },
   "file_extension": ".py",
   "mimetype": "text/x-python",
   "name": "python",
   "nbconvert_exporter": "python",
   "pygments_lexer": "ipython3",
   "version": "3.9.12"
  }
 },
 "nbformat": 4,
 "nbformat_minor": 5
}
