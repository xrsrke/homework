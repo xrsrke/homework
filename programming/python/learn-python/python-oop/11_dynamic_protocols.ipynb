{
 "cells": [
  {
   "cell_type": "markdown",
   "id": "bd21b63f-f668-400c-a683-6ba36fd820d1",
   "metadata": {},
   "source": [
    "# 11. Dynamic Protocol"
   ]
  },
  {
   "cell_type": "code",
   "execution_count": 6,
   "id": "7e9292ec-1246-4b20-afab-53247f5a0ad0",
   "metadata": {},
   "outputs": [],
   "source": [
    "class Nemo:\n",
    "    def swim(self):\n",
    "        print(\"Nemo swimming fast\")"
   ]
  },
  {
   "cell_type": "code",
   "execution_count": 7,
   "id": "3de49cf6-fb2d-4f4f-942c-5cf5ef9523a0",
   "metadata": {},
   "outputs": [],
   "source": [
    "a = 3"
   ]
  },
  {
   "cell_type": "code",
   "execution_count": 8,
   "id": "4f2f7d26-99ff-426d-a008-48cca8fc98b2",
   "metadata": {},
   "outputs": [
    {
     "name": "stdout",
     "output_type": "stream",
     "text": [
      "4\n"
     ]
    }
   ],
   "source": [
    "if type(a) == str:\n",
    "    print(\"nah, you need enter a number\")\n",
    "elif type(a) == float:\n",
    "    print(\"nah, please an integer\")\n",
    "else:\n",
    "    print(a + 1)"
   ]
  },
  {
   "cell_type": "markdown",
   "id": "50d549c2-0d3d-4850-9d40-1649e34f5180",
   "metadata": {},
   "source": [
    "Is this LBYL (Look Before You Leap) or EAFP (Easier to Ask for Forgiveness than Permission) style of code?"
   ]
  },
  {
   "cell_type": "markdown",
   "id": "b8dc4b5a-c245-4cfa-9647-5d158d6baa3a",
   "metadata": {},
   "source": [
    "**Answer**: LYBL"
   ]
  },
  {
   "cell_type": "code",
   "execution_count": 22,
   "id": "34df226f-9198-43ed-87ad-b33fa44c4cda",
   "metadata": {},
   "outputs": [],
   "source": [
    "a = \"string\""
   ]
  },
  {
   "cell_type": "code",
   "execution_count": 23,
   "id": "4af58427-afd4-43fc-bb28-a8b4610d94fa",
   "metadata": {},
   "outputs": [
    {
     "name": "stdout",
     "output_type": "stream",
     "text": [
      "nah, you need enter a number\n"
     ]
    }
   ],
   "source": [
    "try:\n",
    "    print(a + 1)\n",
    "except TypeError:\n",
    "    print(\"nah, you need enter a number\")"
   ]
  },
  {
   "cell_type": "markdown",
   "id": "b41d51a6-ca8c-40e6-88ea-3a11e037820a",
   "metadata": {},
   "source": [
    "Is this LBYL (Look Before You Leap) or EAFP (Easier to Ask for Forgiveness than Permission) style of code?"
   ]
  },
  {
   "cell_type": "markdown",
   "id": "2c74ae68-4dc1-445d-af0e-055136a1b471",
   "metadata": {},
   "source": [
    "**Answer**: EAFP"
   ]
  },
  {
   "cell_type": "markdown",
   "id": "2636d953-f0ff-4b9d-b853-0b2b6f4c8874",
   "metadata": {},
   "source": [
    "### 4. Protocols"
   ]
  },
  {
   "cell_type": "markdown",
   "id": "a4255514-0208-492c-bbcf-30c79aac8071",
   "metadata": {},
   "source": [
    "Add a protocol that make the code bellow works"
   ]
  },
  {
   "cell_type": "code",
   "execution_count": 47,
   "id": "388ede25-94b9-4f3d-b140-7eb163d4ca2f",
   "metadata": {},
   "outputs": [],
   "source": [
    "class Zoo:\n",
    "    def __init__(self):\n",
    "        self._population = []\n",
    "    \n",
    "    def add_animal(self, animal):\n",
    "        self._population.append(animal)\n",
    "    \n",
    "    # add a method\n",
    "    def __contains__(self, item):\n",
    "        return item in self._population"
   ]
  },
  {
   "cell_type": "code",
   "execution_count": 44,
   "id": "60e657fe-acaa-4ed3-bec8-99e954e6d362",
   "metadata": {},
   "outputs": [],
   "source": [
    "zoo = Zoo()"
   ]
  },
  {
   "cell_type": "code",
   "execution_count": 45,
   "id": "4317c4b3-7358-494d-8a9c-496a7f64e352",
   "metadata": {},
   "outputs": [],
   "source": [
    "zoo.add_animal(\"Fish\"); zoo.add_animal(\"Lion\")"
   ]
  },
  {
   "cell_type": "code",
   "execution_count": 46,
   "id": "005a4cfb-7769-4c98-823a-72e8df771ac9",
   "metadata": {},
   "outputs": [
    {
     "data": {
      "text/plain": [
       "(True, False)"
      ]
     },
     "execution_count": 46,
     "metadata": {},
     "output_type": "execute_result"
    }
   ],
   "source": [
    "\"Fish\" in zoo, \"Monkey\" in zoo"
   ]
  },
  {
   "cell_type": "markdown",
   "id": "d388524d-571f-43f2-8ba0-7c5d25ed0daf",
   "metadata": {},
   "source": [
    "Add a protocol that make the code bellow works"
   ]
  },
  {
   "cell_type": "code",
   "execution_count": 72,
   "id": "100a74bc-9180-4bea-ac93-396b01ebbfdf",
   "metadata": {},
   "outputs": [],
   "source": [
    "class Zoo:\n",
    "    def __init__(self):\n",
    "        self._population = []\n",
    "    \n",
    "    def add_animal(self, animal):\n",
    "        self._population.append(animal)\n",
    "    \n",
    "    # add a protocol\n",
    "    def __len__(self):\n",
    "        return len(self._population)"
   ]
  },
  {
   "cell_type": "code",
   "execution_count": 73,
   "id": "0a19edf1-f75d-419b-b97f-0a8b71e91033",
   "metadata": {},
   "outputs": [],
   "source": [
    "zoo = Zoo()"
   ]
  },
  {
   "cell_type": "code",
   "execution_count": 74,
   "id": "6c57bec9-9501-4ef3-b464-a09eb7b5e6c0",
   "metadata": {},
   "outputs": [],
   "source": [
    "zoo.add_animal(\"Fish\"); zoo.add_animal(\"Lion\")"
   ]
  },
  {
   "cell_type": "code",
   "execution_count": 75,
   "id": "60e69702-25e9-45bb-b79c-8f2943baa222",
   "metadata": {},
   "outputs": [
    {
     "data": {
      "text/plain": [
       "2"
      ]
     },
     "execution_count": 75,
     "metadata": {},
     "output_type": "execute_result"
    }
   ],
   "source": [
    "len(zoo)"
   ]
  },
  {
   "cell_type": "markdown",
   "id": "c9c504b8-7d32-4df6-97fa-28d3f206487f",
   "metadata": {},
   "source": [
    "Reference: https://docs.python.org/3/library/collections.abc.html#collections-abstract-base-classes"
   ]
  },
  {
   "cell_type": "markdown",
   "id": "553d3721-3124-467c-8d2d-8a616ea8d640",
   "metadata": {},
   "source": [
    "### 5. The Making Of A Sequence"
   ]
  },
  {
   "cell_type": "code",
   "execution_count": 6,
   "id": "84a7824a-be03-4168-b3c2-0bd0c846a6bd",
   "metadata": {},
   "outputs": [],
   "source": [
    "numbers = [1, 2, 3, 4, 5]"
   ]
  },
  {
   "cell_type": "code",
   "execution_count": 7,
   "id": "fe074198-0ae3-4efa-a6de-27cfd05307c2",
   "metadata": {},
   "outputs": [
    {
     "data": {
      "text/plain": [
       "[4, 5]"
      ]
     },
     "execution_count": 7,
     "metadata": {},
     "output_type": "execute_result"
    }
   ],
   "source": [
    "numbers[-2:]"
   ]
  },
  {
   "cell_type": "code",
   "execution_count": 8,
   "id": "43668b76-f788-42c1-950b-3d9eff5b577f",
   "metadata": {},
   "outputs": [],
   "source": [
    "class Animal:\n",
    "    def __init__(self, name):\n",
    "        self.name = name\n",
    "    \n",
    "    def __repr__(self):\n",
    "        return f\"{self.name}, {self.__class__.__name__.lower()}\""
   ]
  },
  {
   "cell_type": "code",
   "execution_count": 12,
   "id": "329373b5-9da4-451f-b578-a6151c4a9dd3",
   "metadata": {},
   "outputs": [],
   "source": [
    "class Marlin(Animal):\n",
    "    def swim(self):\n",
    "        return \"swimming\""
   ]
  },
  {
   "cell_type": "code",
   "execution_count": 18,
   "id": "dbab6825-8743-4b93-8336-dbbd9e1b1c0d",
   "metadata": {},
   "outputs": [],
   "source": [
    "class Zoo:\n",
    "    def __init__(self):\n",
    "        self._roster = []\n",
    "    \n",
    "    def add(self, animal):\n",
    "        self._roster.append(animal)\n",
    "    \n",
    "    def insert(self, animal, position):\n",
    "        self._roster.insert(position, animal)\n",
    "    \n",
    "    def __repr__(self):\n",
    "        return \"\\n\".join([f\"#{idx + 1} {a}\" for idx, a in enumerate(self._roster)])\n",
    "    \n",
    "    def __getitem__(self, idx):\n",
    "        return self._roster[idx]"
   ]
  },
  {
   "cell_type": "code",
   "execution_count": 19,
   "id": "d1eb7665-c63c-4d98-9445-a79c1a538ddf",
   "metadata": {},
   "outputs": [],
   "source": [
    "z = Zoo()"
   ]
  },
  {
   "cell_type": "code",
   "execution_count": 20,
   "id": "a5f43e93-0d98-4e17-b276-f87bb6c9879f",
   "metadata": {},
   "outputs": [],
   "source": [
    "m = Marlin(\"marlin\")"
   ]
  },
  {
   "cell_type": "code",
   "execution_count": 21,
   "id": "8c2d6ee3-86db-4a81-83bf-289726af56d5",
   "metadata": {},
   "outputs": [
    {
     "data": {
      "text/plain": [
       "(None, None)"
      ]
     },
     "execution_count": 21,
     "metadata": {},
     "output_type": "execute_result"
    }
   ],
   "source": [
    "z.add(m), z.add(m)"
   ]
  },
  {
   "cell_type": "code",
   "execution_count": 22,
   "id": "c23a7b24-9cbd-4e94-b06e-f7d436f243f8",
   "metadata": {},
   "outputs": [
    {
     "data": {
      "text/plain": [
       "#1 marlin, marlin\n",
       "#2 marlin, marlin"
      ]
     },
     "execution_count": 22,
     "metadata": {},
     "output_type": "execute_result"
    }
   ],
   "source": [
    "z"
   ]
  },
  {
   "cell_type": "code",
   "execution_count": 26,
   "id": "89796a34-9111-4a6b-90fc-bc8743ea275f",
   "metadata": {},
   "outputs": [
    {
     "data": {
      "text/plain": [
       "[marlin, marlin, marlin, marlin]"
      ]
     },
     "execution_count": 26,
     "metadata": {},
     "output_type": "execute_result"
    }
   ],
   "source": [
    "z[0:]"
   ]
  },
  {
   "cell_type": "code",
   "execution_count": 27,
   "id": "da864789-a34b-49db-b056-d9c405dbdce8",
   "metadata": {},
   "outputs": [
    {
     "data": {
      "text/plain": [
       "True"
      ]
     },
     "execution_count": 27,
     "metadata": {},
     "output_type": "execute_result"
    }
   ],
   "source": [
    "m in z"
   ]
  },
  {
   "cell_type": "code",
   "execution_count": 108,
   "id": "9c38211a-c8c7-4c67-b167-41b6ab19592e",
   "metadata": {},
   "outputs": [],
   "source": [
    "class Animal:\n",
    "    def __init__(self, name):\n",
    "        self.name = name\n",
    "    def __repr__(self):\n",
    "        return self.__class__.__name__.lower()\n",
    "\n",
    "class Horse(Animal):\n",
    "    pass\n",
    "\n",
    "class Fish(Animal):\n",
    "    pass"
   ]
  },
  {
   "cell_type": "code",
   "execution_count": 109,
   "id": "ae4bf218-0486-4413-8608-af4b9a65924d",
   "metadata": {},
   "outputs": [],
   "source": [
    "class Zoo:\n",
    "    def __init__(self):\n",
    "        self._roster = []\n",
    "    \n",
    "    def add(self, animal):\n",
    "        self._roster.append(animal)\n",
    "        \n",
    "    # add a method\n",
    "    def __getitem__(self, idx):\n",
    "        return self._roster[idx]"
   ]
  },
  {
   "cell_type": "code",
   "execution_count": 110,
   "id": "17c0fad1-1cc8-43c1-8698-61f85ebf85f2",
   "metadata": {},
   "outputs": [],
   "source": [
    "zoo = Zoo()\n",
    "horse = Horse(\"Polly\")\n",
    "fish = Fish(\"Nemo\")"
   ]
  },
  {
   "cell_type": "code",
   "execution_count": 111,
   "id": "f35633bd-c55a-4b43-a600-8a90ddeefb13",
   "metadata": {},
   "outputs": [
    {
     "data": {
      "text/plain": [
       "(None, None)"
      ]
     },
     "execution_count": 111,
     "metadata": {},
     "output_type": "execute_result"
    }
   ],
   "source": [
    "zoo.add(horse), zoo.add(fish)"
   ]
  },
  {
   "cell_type": "code",
   "execution_count": 113,
   "id": "fba9c366-6baa-44d5-8f5f-cb8e025b6295",
   "metadata": {},
   "outputs": [
    {
     "data": {
      "text/plain": [
       "(True, False)"
      ]
     },
     "execution_count": 113,
     "metadata": {},
     "output_type": "execute_result"
    }
   ],
   "source": [
    "horse in zoo, 22 in zoo"
   ]
  },
  {
   "cell_type": "code",
   "execution_count": 106,
   "id": "8a3179f3-5a1d-4bc1-8a7c-4c4b4fde66d9",
   "metadata": {},
   "outputs": [
    {
     "data": {
      "text/plain": [
       "(fish, [horse, fish])"
      ]
     },
     "execution_count": 106,
     "metadata": {},
     "output_type": "execute_result"
    }
   ],
   "source": [
    "zoo[1], zoo[0:]"
   ]
  },
  {
   "cell_type": "code",
   "execution_count": 130,
   "id": "6e0b791d-5e60-46e8-a8d1-bba77d5adab7",
   "metadata": {},
   "outputs": [],
   "source": [
    "numbers = [0, 1, 2, 3, 4, 5, 6]"
   ]
  },
  {
   "cell_type": "markdown",
   "id": "cac84c00-ec49-47f3-963e-0106613b83d8",
   "metadata": {},
   "source": [
    "Using `slice()` produces the output as bellow"
   ]
  },
  {
   "cell_type": "code",
   "execution_count": 131,
   "id": "61751ba0-8085-42a1-a0a9-dff6255aa969",
   "metadata": {},
   "outputs": [
    {
     "data": {
      "text/plain": [
       "[1, 2, 3, 4, 5]"
      ]
     },
     "execution_count": 131,
     "metadata": {},
     "output_type": "execute_result"
    }
   ],
   "source": [
    "numbers[slice(1, 6)]"
   ]
  },
  {
   "cell_type": "code",
   "execution_count": 132,
   "id": "b56f22d9-b59f-4637-965d-63d3f8f2d870",
   "metadata": {},
   "outputs": [
    {
     "data": {
      "text/plain": [
       "[1, 3, 5]"
      ]
     },
     "execution_count": 132,
     "metadata": {},
     "output_type": "execute_result"
    }
   ],
   "source": [
    "numbers[slice(1, 6, 2)]"
   ]
  },
  {
   "cell_type": "code",
   "execution_count": 133,
   "id": "02e5b2a2-9468-445f-a4b3-9da93671bdac",
   "metadata": {},
   "outputs": [],
   "source": [
    "class A(): pass\n",
    "class B(): pass"
   ]
  },
  {
   "cell_type": "code",
   "execution_count": 162,
   "id": "87046e4d-683e-4263-b05e-8000679dce83",
   "metadata": {},
   "outputs": [],
   "source": [
    "class Zoo:\n",
    "    def __init__(self): self._roster = []\n",
    "    \n",
    "    def add(self, animal): self._roster.append(animal)\n",
    "    \n",
    "    def __repr__(self):\n",
    "        return \"\\n\".join([f\"#{idx + 1} {a}\" for idx, a in enumerate(self._roster)])\n",
    "    \n",
    "    def __getitem__(self, key):\n",
    "        if type(key) == slice:\n",
    "            cls = type(self)\n",
    "            temp = cls()\n",
    "            \n",
    "            for animal in self._roster[key]:\n",
    "                temp.add(animal)\n",
    "            \n",
    "            return temp\n",
    "            # print(f\"slicing {cls}\")\n",
    "        else:\n",
    "            return self._roster[key]"
   ]
  },
  {
   "cell_type": "code",
   "execution_count": 163,
   "id": "02c37f6f-7707-4db1-9e59-6810068d25bb",
   "metadata": {},
   "outputs": [],
   "source": [
    "zoo = Zoo(); a = A(); b = B()"
   ]
  },
  {
   "cell_type": "code",
   "execution_count": 164,
   "id": "577a05c0-2aba-4e6f-b3ed-3d28b959b792",
   "metadata": {},
   "outputs": [],
   "source": [
    "zoo.add(a); zoo.add(b)"
   ]
  },
  {
   "cell_type": "code",
   "execution_count": 193,
   "id": "ddcadd82-f41a-46ea-a6fe-5643cd9029ef",
   "metadata": {},
   "outputs": [
    {
     "data": {
      "text/plain": [
       "#1 <__main__.B object at 0x7ff629b3ce50>"
      ]
     },
     "execution_count": 193,
     "metadata": {},
     "output_type": "execute_result"
    }
   ],
   "source": [
    "zoo[1:2]"
   ]
  },
  {
   "cell_type": "markdown",
   "id": "bdbd1632-eeb3-4ae6-b4b7-5c4c4a86234a",
   "metadata": {},
   "source": [
    "Create a `func` method that create a new instance `Vehicle` based on its class (`self`) and call the method `say_hello` from that instance"
   ]
  },
  {
   "cell_type": "code",
   "execution_count": 248,
   "id": "b7f3b9d3-eca8-41f4-a0a2-1955c91c6f69",
   "metadata": {},
   "outputs": [],
   "source": [
    "class Vehicle:\n",
    "    def say_hello(self): return \"Hello\"\n",
    "    \n",
    "    def func(self):\n",
    "        new_instance = self.__class__()\n",
    "        return f\"new_instance = {new_instance}, say_hello={new_instance.say_hello()}\""
   ]
  },
  {
   "cell_type": "code",
   "execution_count": 249,
   "id": "1e20d199-5f46-4428-b91f-f91930742578",
   "metadata": {},
   "outputs": [
    {
     "data": {
      "text/plain": [
       "<__main__.Vehicle at 0x7ff6183b7b80>"
      ]
     },
     "execution_count": 249,
     "metadata": {},
     "output_type": "execute_result"
    }
   ],
   "source": [
    "v = Vehicle(); v"
   ]
  },
  {
   "cell_type": "code",
   "execution_count": 250,
   "id": "62244577-1dbc-4245-b73b-7dba53828cff",
   "metadata": {},
   "outputs": [
    {
     "data": {
      "text/plain": [
       "'new_instance = <__main__.Vehicle object at 0x7ff6382d0580>, say_hello=Hello'"
      ]
     },
     "execution_count": 250,
     "metadata": {},
     "output_type": "execute_result"
    }
   ],
   "source": [
    "v.func()"
   ]
  },
  {
   "cell_type": "code",
   "execution_count": null,
   "id": "d548cbf0-3b76-4c3b-badb-f586b57e4d5b",
   "metadata": {},
   "outputs": [],
   "source": []
  },
  {
   "cell_type": "code",
   "execution_count": null,
   "id": "b211c733-e26d-4844-b5ca-cb74bcb372c8",
   "metadata": {},
   "outputs": [],
   "source": []
  }
 ],
 "metadata": {
  "kernelspec": {
   "display_name": "Python 3 (ipykernel)",
   "language": "python",
   "name": "python3"
  },
  "language_info": {
   "codemirror_mode": {
    "name": "ipython",
    "version": 3
   },
   "file_extension": ".py",
   "mimetype": "text/x-python",
   "name": "python",
   "nbconvert_exporter": "python",
   "pygments_lexer": "ipython3",
   "version": "3.9.12"
  }
 },
 "nbformat": 4,
 "nbformat_minor": 5
}
