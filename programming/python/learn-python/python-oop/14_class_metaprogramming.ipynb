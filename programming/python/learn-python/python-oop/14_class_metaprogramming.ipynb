{
 "cells": [
  {
   "cell_type": "markdown",
   "id": "a17b37ca-ad8b-4002-9c4c-315dee2bcb82",
   "metadata": {},
   "source": [
    "# 14. Class Metaprogramming"
   ]
  },
  {
   "cell_type": "markdown",
   "id": "1d339529-75fc-4ef9-b19f-4c8b5ba4d96d",
   "metadata": {},
   "source": [
    "### 3. Classes are Object"
   ]
  },
  {
   "cell_type": "code",
   "execution_count": 1,
   "id": "55dcf017-d641-4da6-a2cf-1442ec7e08e5",
   "metadata": {},
   "outputs": [],
   "source": [
    "class School:\n",
    "    def __init__(self, enrollment):\n",
    "        self.enrollment = enrollment\n",
    "    \n",
    "    def enroll_student(self):\n",
    "        self.enrollment += 1\n",
    "    \n",
    "    def graduate_student(self):\n",
    "        self.enrollment -= 1"
   ]
  },
  {
   "cell_type": "code",
   "execution_count": 2,
   "id": "be5d48d9-3e3a-47f4-914e-d70917fb1a91",
   "metadata": {},
   "outputs": [],
   "source": [
    "s1 = School(enrollment=100)"
   ]
  },
  {
   "cell_type": "code",
   "execution_count": 3,
   "id": "c68389e6-84be-439b-8b95-116d0690cf74",
   "metadata": {},
   "outputs": [
    {
     "data": {
      "text/plain": [
       "100"
      ]
     },
     "execution_count": 3,
     "metadata": {},
     "output_type": "execute_result"
    }
   ],
   "source": [
    "s1.enrollment"
   ]
  },
  {
   "cell_type": "code",
   "execution_count": 36,
   "id": "b709c871-320b-42a8-81c1-f3e761309c3d",
   "metadata": {},
   "outputs": [],
   "source": [
    "class System:\n",
    "    pass"
   ]
  },
  {
   "cell_type": "code",
   "execution_count": 37,
   "id": "cd95baa4-09af-4ece-8fe6-5e985b1c2fd4",
   "metadata": {},
   "outputs": [],
   "source": [
    "System.software_update = lambda: \"Updating software\""
   ]
  },
  {
   "cell_type": "code",
   "execution_count": 38,
   "id": "39a14795-8e53-4a2c-8613-2988bd3bd05b",
   "metadata": {},
   "outputs": [],
   "source": [
    "s = System()"
   ]
  },
  {
   "cell_type": "markdown",
   "id": "d601e977-d8e0-4a09-a479-87c6fc96f4f4",
   "metadata": {},
   "source": [
    "Does this work? If no, explain"
   ]
  },
  {
   "cell_type": "code",
   "execution_count": 39,
   "id": "e8f282d6-05c2-4bb4-9082-efa7141297f6",
   "metadata": {},
   "outputs": [
    {
     "data": {
      "text/plain": [
       "True"
      ]
     },
     "execution_count": 39,
     "metadata": {},
     "output_type": "execute_result"
    }
   ],
   "source": [
    "callable(System.software_update)"
   ]
  },
  {
   "cell_type": "markdown",
   "id": "008b23fd-67ac-4f1e-b737-1e1b5593a4f1",
   "metadata": {},
   "source": [
    "**Answer**: Yes"
   ]
  },
  {
   "cell_type": "code",
   "execution_count": 40,
   "id": "32810cf2-4a33-4b1c-a367-7c31240f1d53",
   "metadata": {},
   "outputs": [
    {
     "data": {
      "text/plain": [
       "type"
      ]
     },
     "execution_count": 40,
     "metadata": {},
     "output_type": "execute_result"
    }
   ],
   "source": [
    "type(type)"
   ]
  },
  {
   "cell_type": "markdown",
   "id": "28246e89-7e6d-4ada-986e-65c3940ee45b",
   "metadata": {
    "tags": []
   },
   "source": [
    "### 4. `type()` as class factory"
   ]
  },
  {
   "cell_type": "markdown",
   "id": "740397fd-33b8-4bd6-8ce2-2512417da495",
   "metadata": {},
   "source": [
    "type(name, base, namespace)"
   ]
  },
  {
   "cell_type": "code",
   "execution_count": 101,
   "id": "3c427ee2-3a25-4778-bd5e-fb32bb2049b2",
   "metadata": {},
   "outputs": [],
   "source": [
    "class School:\n",
    "    pass"
   ]
  },
  {
   "cell_type": "markdown",
   "id": "d8801833-ee65-479d-a792-d364ea18dd36",
   "metadata": {},
   "source": [
    "Create a class `MetaSchool` that similar to `School` using metaclass `type`"
   ]
  },
  {
   "cell_type": "code",
   "execution_count": 102,
   "id": "18992f89-ac99-49fb-870d-1366fb727d83",
   "metadata": {},
   "outputs": [],
   "source": [
    "MetaSchool = type(\"School\", (), {})"
   ]
  },
  {
   "cell_type": "code",
   "execution_count": 103,
   "id": "d82511f4-a769-46a5-a294-91da3158d931",
   "metadata": {},
   "outputs": [],
   "source": [
    "m = MetaSchool()"
   ]
  },
  {
   "cell_type": "code",
   "execution_count": 104,
   "id": "9a907d04-b7a7-4299-8456-74aadcd3ea50",
   "metadata": {},
   "outputs": [
    {
     "data": {
      "text/plain": [
       "<__main__.School at 0x7fc820c1c9a0>"
      ]
     },
     "execution_count": 104,
     "metadata": {},
     "output_type": "execute_result"
    }
   ],
   "source": [
    "m"
   ]
  },
  {
   "cell_type": "code",
   "execution_count": 111,
   "id": "6e8015ff-2a49-4975-823b-d413f823246f",
   "metadata": {},
   "outputs": [],
   "source": [
    "class Person:\n",
    "    pass"
   ]
  },
  {
   "cell_type": "code",
   "execution_count": 112,
   "id": "22508172-d9dd-42ed-bdec-67d5a8f85936",
   "metadata": {},
   "outputs": [],
   "source": [
    "MetaStudent = type(\"MetaStudent\", (Person, ), {})"
   ]
  },
  {
   "cell_type": "markdown",
   "id": "669c33d3-7a11-490f-9623-f137e4822ab1",
   "metadata": {},
   "source": [
    "Create a regular class `Student` that similar to the class `MetaStudent` above"
   ]
  },
  {
   "cell_type": "code",
   "execution_count": 113,
   "id": "491aa1f5-df12-4612-8ead-e8fd3d17eb6c",
   "metadata": {},
   "outputs": [],
   "source": [
    "class Student(Person):\n",
    "    pass"
   ]
  },
  {
   "cell_type": "code",
   "execution_count": 114,
   "id": "cebbf839-64e9-4ebf-b6c8-dd64f79b26d7",
   "metadata": {},
   "outputs": [],
   "source": [
    "class Student:\n",
    "    major = \"chem\""
   ]
  },
  {
   "cell_type": "markdown",
   "id": "9e69f265-6c57-4d16-89a3-0cfb67476fd8",
   "metadata": {},
   "source": [
    "Create a class `MetaStudent` that similar to the regular class `Student` above using metaclass `type`"
   ]
  },
  {
   "cell_type": "code",
   "execution_count": 108,
   "id": "5a1a5bd1-323c-4bc5-97b5-984ba095f62f",
   "metadata": {},
   "outputs": [],
   "source": [
    "MetaStudent = type(\"MetaStudent\", (), {\"major\": \"chem\"})"
   ]
  },
  {
   "cell_type": "code",
   "execution_count": 109,
   "id": "4eb9adad-459d-4403-b716-6db27f9fe82e",
   "metadata": {},
   "outputs": [],
   "source": [
    "s = MetaStudent()"
   ]
  },
  {
   "cell_type": "code",
   "execution_count": 110,
   "id": "92de2ceb-b81b-41d2-b365-15fc9a30da0d",
   "metadata": {},
   "outputs": [
    {
     "data": {
      "text/plain": [
       "'chem'"
      ]
     },
     "execution_count": 110,
     "metadata": {},
     "output_type": "execute_result"
    }
   ],
   "source": [
    "s.major"
   ]
  },
  {
   "cell_type": "code",
   "execution_count": 130,
   "id": "02c0e409-bb4c-46dd-b23c-0a62b24798da",
   "metadata": {},
   "outputs": [],
   "source": [
    "MetaStudent = type(\"MetaStudent\", (), {\"greet\": lambda self: \"Hi\"})"
   ]
  },
  {
   "cell_type": "markdown",
   "id": "b50a7855-7e2a-4b76-a38a-38ed7875af9a",
   "metadata": {},
   "source": [
    "Create a regular class `Student` that similar to the class `MetaStudent` above"
   ]
  },
  {
   "cell_type": "code",
   "execution_count": 131,
   "id": "a6090f4e-5f5f-48a0-8900-d2a0b92cad32",
   "metadata": {},
   "outputs": [],
   "source": [
    "class Student:\n",
    "    def greet(self):\n",
    "        return \"Hi\""
   ]
  },
  {
   "cell_type": "markdown",
   "id": "78d3e801-b8ce-40fb-91b7-b766861139d4",
   "metadata": {},
   "source": [
    "### 4. Bonus: More On Dynamics Class Creation"
   ]
  },
  {
   "cell_type": "code",
   "execution_count": 86,
   "id": "74bc7839-7e6c-4304-8f4e-cd4ffbe22e35",
   "metadata": {},
   "outputs": [],
   "source": [
    "status = \"failed\""
   ]
  },
  {
   "cell_type": "code",
   "execution_count": 87,
   "id": "192ffb04-278f-4d8f-a173-4f81556f8662",
   "metadata": {},
   "outputs": [],
   "source": [
    "namespace_bindings = {\n",
    "    \"status\": status\n",
    "}"
   ]
  },
  {
   "cell_type": "code",
   "execution_count": 88,
   "id": "ff870e72-5cf4-4978-a7f7-4d41f0128ff5",
   "metadata": {},
   "outputs": [],
   "source": [
    "Student = type(\"Student\", (), namespace_bindings)"
   ]
  },
  {
   "cell_type": "code",
   "execution_count": 89,
   "id": "e5eceb15-d993-4a38-b76a-5c27d6eb5be4",
   "metadata": {},
   "outputs": [],
   "source": [
    "s = Student()"
   ]
  },
  {
   "cell_type": "code",
   "execution_count": 90,
   "id": "f4dd0d00-111a-476e-923e-e1925201f667",
   "metadata": {},
   "outputs": [
    {
     "data": {
      "text/plain": [
       "'failed'"
      ]
     },
     "execution_count": 90,
     "metadata": {},
     "output_type": "execute_result"
    }
   ],
   "source": [
    "s.status"
   ]
  },
  {
   "cell_type": "code",
   "execution_count": 92,
   "id": "0b226f10-7331-4404-b167-4f6e0b2e262c",
   "metadata": {},
   "outputs": [
    {
     "data": {
      "text/plain": [
       "__main__.Student"
      ]
     },
     "execution_count": 92,
     "metadata": {},
     "output_type": "execute_result"
    }
   ],
   "source": [
    "s.__class__"
   ]
  },
  {
   "cell_type": "markdown",
   "id": "bcbecf06-fe45-4773-bdf2-50a9c5a5ec89",
   "metadata": {},
   "source": [
    "### 6. Defining Our Own Metaclass"
   ]
  },
  {
   "cell_type": "code",
   "execution_count": 120,
   "id": "54c05a1b-25ce-4983-9c8e-e8021a3c6f33",
   "metadata": {},
   "outputs": [],
   "source": [
    "class School:\n",
    "    pass"
   ]
  },
  {
   "cell_type": "markdown",
   "id": "45e1d160-a672-4e77-a992-d546a44d0542",
   "metadata": {},
   "source": [
    "What does the output mean?"
   ]
  },
  {
   "cell_type": "code",
   "execution_count": 121,
   "id": "24bf755b-623a-4520-b3f6-93f64c1123f6",
   "metadata": {},
   "outputs": [
    {
     "data": {
      "text/plain": [
       "type"
      ]
     },
     "execution_count": 121,
     "metadata": {},
     "output_type": "execute_result"
    }
   ],
   "source": [
    "type(School)"
   ]
  },
  {
   "cell_type": "markdown",
   "id": "d1e6caa7-ad6b-4847-a9ba-f924fa8ee865",
   "metadata": {},
   "source": [
    "**Answer**: The class `School` has the metaclass named `type`"
   ]
  },
  {
   "cell_type": "markdown",
   "id": "1350d1bf-c5a2-486b-8be1-77f3a2ba648e",
   "metadata": {},
   "source": [
    "Create a metaclass named `my_metaclass`"
   ]
  },
  {
   "cell_type": "code",
   "execution_count": 137,
   "id": "bc9f26cb-d477-43c6-a5ba-e54aa7dfec3d",
   "metadata": {},
   "outputs": [],
   "source": [
    "class my_metaclass(type):\n",
    "    pass"
   ]
  },
  {
   "cell_type": "code",
   "execution_count": 143,
   "id": "554e2675-47ed-46a8-a1f8-48936b012c6d",
   "metadata": {},
   "outputs": [
    {
     "data": {
      "text/plain": [
       "__main__.my_metaclass"
      ]
     },
     "execution_count": 143,
     "metadata": {},
     "output_type": "execute_result"
    }
   ],
   "source": [
    "my_metaclass"
   ]
  },
  {
   "cell_type": "markdown",
   "id": "6c98b6cc-2631-446d-9408-86d46577ee0b",
   "metadata": {},
   "source": [
    "`my_metaclass` is a metaclass"
   ]
  },
  {
   "cell_type": "code",
   "execution_count": 144,
   "id": "05dc77c3-3c12-4ad0-bde3-9ba8228efd3f",
   "metadata": {},
   "outputs": [
    {
     "data": {
      "text/plain": [
       "__main__.my_metaclass"
      ]
     },
     "execution_count": 144,
     "metadata": {},
     "output_type": "execute_result"
    }
   ],
   "source": [
    "my_metaclass"
   ]
  },
  {
   "cell_type": "markdown",
   "id": "fd3d6ff5-36af-4f2d-a19c-4f0302da6fcd",
   "metadata": {},
   "source": [
    "Create a class `School` that has `my_metaclass` as its metaclass"
   ]
  },
  {
   "cell_type": "code",
   "execution_count": 145,
   "id": "58bb900f-8c39-4392-8dc0-38b5114832da",
   "metadata": {},
   "outputs": [],
   "source": [
    "class School(metaclass=my_metaclass):\n",
    "    pass"
   ]
  },
  {
   "cell_type": "code",
   "execution_count": 146,
   "id": "e92d7a9a-cc9d-4219-b534-a5287405ac01",
   "metadata": {},
   "outputs": [
    {
     "data": {
      "text/plain": [
       "__main__.my_metaclass"
      ]
     },
     "execution_count": 146,
     "metadata": {},
     "output_type": "execute_result"
    }
   ],
   "source": [
    "type(School)"
   ]
  },
  {
   "cell_type": "markdown",
   "id": "7d1e8d83-731a-42c1-b3f7-3b730ab77891",
   "metadata": {},
   "source": [
    "### 7. Inside the Belly of the Monster"
   ]
  },
  {
   "cell_type": "code",
   "execution_count": 150,
   "id": "69dd8cbd-52b1-47bc-8a23-b83a389da3de",
   "metadata": {},
   "outputs": [
    {
     "data": {
      "text/plain": [
       "\u001b[0;31mInit signature:\u001b[0m \u001b[0mtype\u001b[0m\u001b[0;34m(\u001b[0m\u001b[0mself\u001b[0m\u001b[0;34m,\u001b[0m \u001b[0;34m/\u001b[0m\u001b[0;34m,\u001b[0m \u001b[0;34m*\u001b[0m\u001b[0margs\u001b[0m\u001b[0;34m,\u001b[0m \u001b[0;34m**\u001b[0m\u001b[0mkwargs\u001b[0m\u001b[0;34m)\u001b[0m\u001b[0;34m\u001b[0m\u001b[0;34m\u001b[0m\u001b[0m\n",
       "\u001b[0;31mDocstring:\u001b[0m     \n",
       "type(object) -> the object's type\n",
       "type(name, bases, dict, **kwds) -> a new type\n",
       "\u001b[0;31mType:\u001b[0m           type\n",
       "\u001b[0;31mSubclasses:\u001b[0m     ABCMeta, EnumMeta, NamedTupleMeta, _TypedDictMeta, PyCStructType, UnionType, PyCPointerType, PyCArrayType, PyCSimpleType, PyCFuncPtrType, ...\n"
      ]
     },
     "metadata": {},
     "output_type": "display_data"
    }
   ],
   "source": [
    "type??"
   ]
  },
  {
   "cell_type": "code",
   "execution_count": 152,
   "id": "aab2ddb4-f00d-44c3-8548-bf7874a92574",
   "metadata": {},
   "outputs": [
    {
     "data": {
      "text/plain": [
       "\u001b[0;31mInit signature:\u001b[0m \u001b[0mmy_metaclass\u001b[0m\u001b[0;34m(\u001b[0m\u001b[0mself\u001b[0m\u001b[0;34m,\u001b[0m \u001b[0;34m/\u001b[0m\u001b[0;34m,\u001b[0m \u001b[0;34m*\u001b[0m\u001b[0margs\u001b[0m\u001b[0;34m,\u001b[0m \u001b[0;34m**\u001b[0m\u001b[0mkwargs\u001b[0m\u001b[0;34m)\u001b[0m\u001b[0;34m\u001b[0m\u001b[0;34m\u001b[0m\u001b[0m\n",
       "\u001b[0;31mDocstring:\u001b[0m     \n",
       "type(object) -> the object's type\n",
       "type(name, bases, dict, **kwds) -> a new type\n",
       "\u001b[0;31mType:\u001b[0m           type\n",
       "\u001b[0;31mSubclasses:\u001b[0m     \n"
      ]
     },
     "metadata": {},
     "output_type": "display_data"
    }
   ],
   "source": [
    "my_metaclass?"
   ]
  }
 ],
 "metadata": {
  "kernelspec": {
   "display_name": "Python 3 (ipykernel)",
   "language": "python",
   "name": "python3"
  },
  "language_info": {
   "codemirror_mode": {
    "name": "ipython",
    "version": 3
   },
   "file_extension": ".py",
   "mimetype": "text/x-python",
   "name": "python",
   "nbconvert_exporter": "python",
   "pygments_lexer": "ipython3",
   "version": "3.9.12"
  }
 },
 "nbformat": 4,
 "nbformat_minor": 5
}
