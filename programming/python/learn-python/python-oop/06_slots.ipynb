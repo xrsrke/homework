{
 "cells": [
  {
   "cell_type": "markdown",
   "id": "e7e56f16",
   "metadata": {},
   "source": [
    "### 2. Instance Data Storage"
   ]
  },
  {
   "cell_type": "code",
   "execution_count": 1,
   "id": "c975e892",
   "metadata": {},
   "outputs": [],
   "source": [
    "class Employee:\n",
    "    def __init__(self, name, surname, age, status, salary):\n",
    "        self.name = name\n",
    "        self.surname = name\n",
    "        self.age = age\n",
    "        self.status = status\n",
    "        self.salary = salary"
   ]
  },
  {
   "cell_type": "code",
   "execution_count": 2,
   "id": "0e640651",
   "metadata": {},
   "outputs": [],
   "source": [
    "class Robot:\n",
    "    name = \"Humanoid\"\n",
    "    \n",
    "    def __init__(self, name=\"\"):\n",
    "        if name != \"\":\n",
    "            self.name = name"
   ]
  },
  {
   "cell_type": "code",
   "execution_count": 3,
   "id": "2823debb",
   "metadata": {},
   "outputs": [],
   "source": [
    "r1 = Robot()"
   ]
  },
  {
   "cell_type": "code",
   "execution_count": 4,
   "id": "3874cd25",
   "metadata": {},
   "outputs": [
    {
     "data": {
      "text/plain": [
       "'Humanoid'"
      ]
     },
     "execution_count": 4,
     "metadata": {},
     "output_type": "execute_result"
    }
   ],
   "source": [
    "r1.name"
   ]
  },
  {
   "cell_type": "code",
   "execution_count": 5,
   "id": "2c88de8e",
   "metadata": {},
   "outputs": [],
   "source": [
    "r2 = Robot(\"Gisal\")"
   ]
  },
  {
   "cell_type": "code",
   "execution_count": 6,
   "id": "89f5748a",
   "metadata": {},
   "outputs": [
    {
     "data": {
      "text/plain": [
       "'Gisal'"
      ]
     },
     "execution_count": 6,
     "metadata": {},
     "output_type": "execute_result"
    }
   ],
   "source": [
    "r2.name"
   ]
  },
  {
   "cell_type": "markdown",
   "id": "172b482f",
   "metadata": {},
   "source": [
    "Explain why `r1.name` and `r2.name` difference?"
   ]
  },
  {
   "cell_type": "markdown",
   "id": "10403530",
   "metadata": {},
   "source": [
    "**Answer**"
   ]
  },
  {
   "cell_type": "markdown",
   "id": "867907d6",
   "metadata": {},
   "source": [
    "**The lookup order**\n",
    "- First, Python will look in instance attribute and return it.\n",
    "- Then, if not found, it will look in class attribute, parent class, parent parant class... and return the first it found.\n",
    "\n",
    "So\n",
    "- For `r1`, there's no instance attribute => return class attribute\n",
    "- For `r2`, there's instance attribute => return instance attribute"
   ]
  },
  {
   "cell_type": "markdown",
   "id": "f0972e73",
   "metadata": {},
   "source": [
    "### 3. Slots"
   ]
  },
  {
   "cell_type": "code",
   "execution_count": 9,
   "id": "89c7fb2c",
   "metadata": {},
   "outputs": [],
   "source": [
    "class Employee:\n",
    "    \n",
    "    __slots__ = ('name', 'surname', 'age', 'status', 'salary')\n",
    "    \n",
    "    def __init__(self, name, surname, age, status, salary):\n",
    "        self.name = name\n",
    "        self.surname = name\n",
    "        self.age = age\n",
    "        self.status = status\n",
    "        self.salary = salary"
   ]
  },
  {
   "cell_type": "code",
   "execution_count": 10,
   "id": "034828b2",
   "metadata": {},
   "outputs": [],
   "source": [
    "e1 = Employee(\"Shivon\", \"J\", 35, \"FT\", 8491)"
   ]
  },
  {
   "cell_type": "code",
   "execution_count": 11,
   "id": "94ef4243",
   "metadata": {},
   "outputs": [
    {
     "data": {
      "text/plain": [
       "'Shivon'"
      ]
     },
     "execution_count": 11,
     "metadata": {},
     "output_type": "execute_result"
    }
   ],
   "source": [
    "e1.name"
   ]
  },
  {
   "cell_type": "code",
   "execution_count": 12,
   "id": "a6513ec0",
   "metadata": {},
   "outputs": [
    {
     "ename": "AttributeError",
     "evalue": "'Employee' object has no attribute '__dict__'",
     "output_type": "error",
     "traceback": [
      "\u001b[0;31m---------------------------------------------------------------------------\u001b[0m",
      "\u001b[0;31mAttributeError\u001b[0m                            Traceback (most recent call last)",
      "Input \u001b[0;32mIn [12]\u001b[0m, in \u001b[0;36m<cell line: 1>\u001b[0;34m()\u001b[0m\n\u001b[0;32m----> 1\u001b[0m \u001b[43me1\u001b[49m\u001b[38;5;241;43m.\u001b[39;49m\u001b[38;5;18;43m__dict__\u001b[39;49m\n",
      "\u001b[0;31mAttributeError\u001b[0m: 'Employee' object has no attribute '__dict__'"
     ]
    }
   ],
   "source": [
    "e1.__dict__"
   ]
  },
  {
   "cell_type": "markdown",
   "id": "5ad964d9",
   "metadata": {},
   "source": [
    "### 4. Class Resisdents"
   ]
  },
  {
   "cell_type": "code",
   "execution_count": 37,
   "id": "5f7919a2",
   "metadata": {},
   "outputs": [],
   "source": [
    "class Employee:\n",
    "        \n",
    "    def __init__(self, name, surname):\n",
    "        self.name = name\n",
    "        self.surname = surname\n",
    "        self.age = age"
   ]
  },
  {
   "cell_type": "markdown",
   "id": "f9b92d36",
   "metadata": {},
   "source": [
    "Add `slot` to class `Employee`"
   ]
  },
  {
   "cell_type": "code",
   "execution_count": 38,
   "id": "f23fb52d",
   "metadata": {},
   "outputs": [],
   "source": [
    "class Employee:\n",
    "    \n",
    "    __slots__ = ('name', 'surname', 'age')\n",
    "\n",
    "    def __init__(self, name, surname):\n",
    "        self.name = name\n",
    "        self.surname = surname\n",
    "        self.age = age"
   ]
  },
  {
   "cell_type": "code",
   "execution_count": 39,
   "id": "964e232e",
   "metadata": {},
   "outputs": [
    {
     "ename": "TypeError",
     "evalue": "__init__() takes 3 positional arguments but 6 were given",
     "output_type": "error",
     "traceback": [
      "\u001b[0;31m---------------------------------------------------------------------------\u001b[0m",
      "\u001b[0;31mTypeError\u001b[0m                                 Traceback (most recent call last)",
      "Input \u001b[0;32mIn [39]\u001b[0m, in \u001b[0;36m<cell line: 1>\u001b[0;34m()\u001b[0m\n\u001b[0;32m----> 1\u001b[0m e1 \u001b[38;5;241m=\u001b[39m \u001b[43mEmployee\u001b[49m\u001b[43m(\u001b[49m\u001b[38;5;124;43m\"\u001b[39;49m\u001b[38;5;124;43mShivon\u001b[39;49m\u001b[38;5;124;43m\"\u001b[39;49m\u001b[43m,\u001b[49m\u001b[43m \u001b[49m\u001b[38;5;124;43m\"\u001b[39;49m\u001b[38;5;124;43mJ\u001b[39;49m\u001b[38;5;124;43m\"\u001b[39;49m\u001b[43m,\u001b[49m\u001b[43m \u001b[49m\u001b[38;5;241;43m35\u001b[39;49m\u001b[43m,\u001b[49m\u001b[43m \u001b[49m\u001b[38;5;124;43m\"\u001b[39;49m\u001b[38;5;124;43mFT\u001b[39;49m\u001b[38;5;124;43m\"\u001b[39;49m\u001b[43m,\u001b[49m\u001b[43m \u001b[49m\u001b[38;5;241;43m8491\u001b[39;49m\u001b[43m)\u001b[49m\n",
      "\u001b[0;31mTypeError\u001b[0m: __init__() takes 3 positional arguments but 6 were given"
     ]
    }
   ],
   "source": [
    "e1 = Employee(\"Shivon\", \"J\", 35, \"FT\", 8491)"
   ]
  },
  {
   "cell_type": "code",
   "execution_count": 15,
   "id": "20084178",
   "metadata": {},
   "outputs": [
    {
     "data": {
      "text/plain": [
       "mappingproxy({'__module__': '__main__',\n",
       "              '__slots__': ('name', 'surname', 'age', 'status', 'salary'),\n",
       "              '__init__': <function __main__.Employee.__init__(self, name, surname, age, status, salary)>,\n",
       "              'age': <member 'age' of 'Employee' objects>,\n",
       "              'name': <member 'name' of 'Employee' objects>,\n",
       "              'salary': <member 'salary' of 'Employee' objects>,\n",
       "              'status': <member 'status' of 'Employee' objects>,\n",
       "              'surname': <member 'surname' of 'Employee' objects>,\n",
       "              '__doc__': None})"
      ]
     },
     "execution_count": 15,
     "metadata": {},
     "output_type": "execute_result"
    }
   ],
   "source": [
    "Employee.__dict__"
   ]
  },
  {
   "cell_type": "markdown",
   "id": "7ffdf7b6",
   "metadata": {},
   "source": [
    "### Bonus: Demonstrating The Memory Advantage"
   ]
  },
  {
   "cell_type": "markdown",
   "id": "055fd39e",
   "metadata": {},
   "source": [
    "### 6. Inheriting Slots"
   ]
  },
  {
   "cell_type": "markdown",
   "id": "feed3900",
   "metadata": {},
   "source": [
    "#### Regular class inheriting from slotted class"
   ]
  },
  {
   "cell_type": "code",
   "execution_count": 117,
   "id": "fa2bf106",
   "metadata": {},
   "outputs": [],
   "source": [
    "class Employee:\n",
    "    \n",
    "    __slots__ = ('name', 'surname', 'age', 'status', 'salary')\n",
    "    \n",
    "    def __init__(self, name, surname, age, status, salary):\n",
    "        self.name = name\n",
    "        self.surname = surname\n",
    "        self.age = age\n",
    "        self.status = status\n",
    "        self.salary = salary"
   ]
  },
  {
   "cell_type": "code",
   "execution_count": 118,
   "id": "73167672",
   "metadata": {},
   "outputs": [],
   "source": [
    "class Developer(Employee):\n",
    "    pass"
   ]
  },
  {
   "cell_type": "markdown",
   "id": "d7def012",
   "metadata": {},
   "source": [
    "**Question**: Output and explain why"
   ]
  },
  {
   "cell_type": "code",
   "execution_count": 119,
   "id": "3a1b7082",
   "metadata": {},
   "outputs": [],
   "source": [
    "d = Developer(\"Shivon\", \"J\", 35, \"FT\", 8491)"
   ]
  },
  {
   "cell_type": "code",
   "execution_count": 120,
   "id": "cfa592d2",
   "metadata": {},
   "outputs": [
    {
     "data": {
      "text/plain": [
       "True"
      ]
     },
     "execution_count": 120,
     "metadata": {},
     "output_type": "execute_result"
    }
   ],
   "source": [
    "hasattr(d, \"__dict__\")"
   ]
  },
  {
   "cell_type": "markdown",
   "id": "22e6bd1a",
   "metadata": {},
   "source": [
    "**Answer**\n",
    "\n",
    "According to MRO, Python will lookup from `instance attribute` > `class attribute` > `parent class attribute` > `object`\n",
    "\n",
    "- The parent class `Employee` is a slotted class, so it don't has `__dict__`\n",
    "- The child class `Developer` is a regular class, so it has `__dict__`\n",
    "\n",
    "Since the child class `Developer` itself has `__dict__`. So Python will return it."
   ]
  },
  {
   "cell_type": "code",
   "execution_count": 48,
   "id": "a3413552",
   "metadata": {},
   "outputs": [
    {
     "data": {
      "text/plain": [
       "'J'"
      ]
     },
     "execution_count": 48,
     "metadata": {},
     "output_type": "execute_result"
    }
   ],
   "source": [
    "d.surname"
   ]
  },
  {
   "cell_type": "markdown",
   "id": "2ce9878d",
   "metadata": {},
   "source": [
    "#### Slotted class inheriting from slotted class"
   ]
  },
  {
   "cell_type": "code",
   "execution_count": 121,
   "id": "a7a3fb82",
   "metadata": {},
   "outputs": [],
   "source": [
    "class Employee:\n",
    "    \n",
    "    __slots__ = ('name', 'surname', 'age', 'status', 'salary')\n",
    "    \n",
    "    def __init__(self, name, surname, age, status, salary):\n",
    "        self.name = name\n",
    "        self.surname = surname\n",
    "        self.age = age\n",
    "        self.status = status\n",
    "        self.salary = salary"
   ]
  },
  {
   "cell_type": "code",
   "execution_count": 122,
   "id": "2dbf2e4b",
   "metadata": {},
   "outputs": [],
   "source": [
    "class Physicist(Employee):\n",
    "    __slots__ = (\"is_theorical\")"
   ]
  },
  {
   "cell_type": "code",
   "execution_count": 123,
   "id": "e082e9b5",
   "metadata": {},
   "outputs": [],
   "source": [
    "p = Physicist(\"Shivon\", \"J\", 35, \"FT\", 8491)"
   ]
  },
  {
   "cell_type": "markdown",
   "id": "6833de5c",
   "metadata": {},
   "source": [
    "**Question**: Output and Explain why"
   ]
  },
  {
   "cell_type": "code",
   "execution_count": 124,
   "id": "b22c79f7",
   "metadata": {
    "scrolled": true
   },
   "outputs": [
    {
     "data": {
      "text/plain": [
       "False"
      ]
     },
     "execution_count": 124,
     "metadata": {},
     "output_type": "execute_result"
    }
   ],
   "source": [
    "hasattr(p, \"__dict__\")"
   ]
  },
  {
   "cell_type": "markdown",
   "id": "c10dea78",
   "metadata": {},
   "source": [
    "**Answer**\n",
    "\n",
    "According to MRO, Python will lookup from `instance attribute` > `class attribute` > `parent class attribute` > `object`\n",
    "\n",
    "- The parent class `Employee` is a slotted class, so it don't has `__dict__`\n",
    "- The child class `Developer` is a slotted class, so it don't has `__dict__`\n",
    "\n",
    "Since the child class `Developer` and its parent don't have `__dict__`. That's why Python can't find and return error."
   ]
  },
  {
   "cell_type": "markdown",
   "id": "9898ea52",
   "metadata": {},
   "source": [
    "#### Slotted Class inheriting from regular class"
   ]
  },
  {
   "cell_type": "code",
   "execution_count": 125,
   "id": "d4a59f53",
   "metadata": {},
   "outputs": [],
   "source": [
    "class RegularEmployee:\n",
    "        \n",
    "    def __init__(self, name, surname, age, status, salary):\n",
    "        self.name = name\n",
    "        self.surname = surname\n",
    "        self.age = age\n",
    "        self.status = status\n",
    "        self.salary = salary"
   ]
  },
  {
   "cell_type": "code",
   "execution_count": 126,
   "id": "c8161c25",
   "metadata": {},
   "outputs": [],
   "source": [
    "class Chemist(RegularEmployee):\n",
    "    __slots__ = (\"experience\")"
   ]
  },
  {
   "cell_type": "code",
   "execution_count": 127,
   "id": "310b9120",
   "metadata": {},
   "outputs": [],
   "source": [
    "ce = Chemist(\"Shivon\", \"J\", 35, \"FT\", 8491)"
   ]
  },
  {
   "cell_type": "markdown",
   "id": "8d1d7ec7",
   "metadata": {},
   "source": [
    "**Question**: Output and Explain why."
   ]
  },
  {
   "cell_type": "code",
   "execution_count": 128,
   "id": "3d5f4ad4",
   "metadata": {},
   "outputs": [
    {
     "data": {
      "text/plain": [
       "True"
      ]
     },
     "execution_count": 128,
     "metadata": {},
     "output_type": "execute_result"
    }
   ],
   "source": [
    "hasattr(ce, \"__dict__\")"
   ]
  },
  {
   "cell_type": "markdown",
   "id": "2f7f8094",
   "metadata": {},
   "source": [
    "**Answer**\n",
    "\n",
    "According to MRO, Python will lookup from `instance attribute` > `class attribute` > `parent class attribute` > `object`\n",
    "\n",
    "- The parent class `RegularEmployee` is a regular class, so it has `__dict__`\n",
    "- The child class `Chemist` is a slotted class, so it don't has `__dict__`\n",
    "\n",
    "Since the child class `Chemist` inheriting from the parent class => Python will return `__dict__` from parent class `RegularEmployee`"
   ]
  },
  {
   "cell_type": "markdown",
   "id": "bc50abc7",
   "metadata": {},
   "source": [
    "### 7. Something to Avoid"
   ]
  },
  {
   "cell_type": "markdown",
   "id": "69782480",
   "metadata": {},
   "source": [
    "### 8. Should We Always Use Slots?"
   ]
  },
  {
   "cell_type": "code",
   "execution_count": null,
   "id": "d34bbaf9",
   "metadata": {},
   "outputs": [],
   "source": []
  }
 ],
 "metadata": {
  "kernelspec": {
   "display_name": "Python 3 (ipykernel)",
   "language": "python",
   "name": "python3"
  },
  "language_info": {
   "codemirror_mode": {
    "name": "ipython",
    "version": 3
   },
   "file_extension": ".py",
   "mimetype": "text/x-python",
   "name": "python",
   "nbconvert_exporter": "python",
   "pygments_lexer": "ipython3",
   "version": "3.9.12"
  }
 },
 "nbformat": 4,
 "nbformat_minor": 5
}
