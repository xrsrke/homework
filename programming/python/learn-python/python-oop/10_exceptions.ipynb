{
 "cells": [
  {
   "cell_type": "markdown",
   "id": "a4528bd3-7139-4f5a-9afc-eb531ff58718",
   "metadata": {},
   "source": [
    "# 10. Exceptions"
   ]
  },
  {
   "cell_type": "markdown",
   "id": "82eb28e4-32d4-43eb-bbd8-da0b00e3370d",
   "metadata": {},
   "source": [
    "`NameError` is a subclass of `BaseException`"
   ]
  },
  {
   "cell_type": "markdown",
   "id": "a96801db-55c8-41b4-8c12-90a156c6c8a6",
   "metadata": {},
   "source": [
    "### 3. Handling"
   ]
  },
  {
   "cell_type": "markdown",
   "id": "31c3fac8-e9a2-42f1-b9a1-76c6b26371ff",
   "metadata": {},
   "source": [
    "Does the output contains `Did you get here?`? If, no. Explain"
   ]
  },
  {
   "cell_type": "code",
   "execution_count": 1,
   "id": "7fe220f6-74b1-4ad1-90c1-b59c759227b0",
   "metadata": {},
   "outputs": [
    {
     "name": "stdout",
     "output_type": "stream",
     "text": [
      "Got an error\n",
      "Did you get here?\n"
     ]
    }
   ],
   "source": [
    "try:\n",
    "    1/0\n",
    "except ZeroDivisionError:\n",
    "    print(\"Got an error\")\n",
    "\n",
    "print(\"Did you get here?\")"
   ]
  },
  {
   "cell_type": "markdown",
   "id": "9dea4daf-a1a0-4d85-abd3-a5236eaa6731",
   "metadata": {},
   "source": [
    "**Answer**\n",
    "\n",
    "Yes"
   ]
  },
  {
   "cell_type": "markdown",
   "id": "46468a6e-d38f-47a3-8e51-99a05ef81a33",
   "metadata": {},
   "source": [
    "Does the output contains `Did you get here?`? If, no. Explain"
   ]
  },
  {
   "cell_type": "code",
   "execution_count": 2,
   "id": "d29e7392-87ba-4735-8969-6525e8f83c91",
   "metadata": {},
   "outputs": [
    {
     "ename": "NameError",
     "evalue": "name 'undefined' is not defined",
     "output_type": "error",
     "traceback": [
      "\u001b[0;31m---------------------------------------------------------------------------\u001b[0m",
      "\u001b[0;31mNameError\u001b[0m                                 Traceback (most recent call last)",
      "Input \u001b[0;32mIn [2]\u001b[0m, in \u001b[0;36m<cell line: 1>\u001b[0;34m()\u001b[0m\n\u001b[1;32m      1\u001b[0m \u001b[38;5;28;01mtry\u001b[39;00m:\n\u001b[0;32m----> 2\u001b[0m     \u001b[43mundefined\u001b[49m \u001b[38;5;241m/\u001b[39m \u001b[38;5;241m0\u001b[39m \u001b[38;5;66;03m# NameError\u001b[39;00m\n\u001b[1;32m      3\u001b[0m \u001b[38;5;28;01mexcept\u001b[39;00m \u001b[38;5;167;01mZeroDivisionError\u001b[39;00m:\n\u001b[1;32m      4\u001b[0m     \u001b[38;5;28mprint\u001b[39m(\u001b[38;5;124m\"\u001b[39m\u001b[38;5;124mGot an error\u001b[39m\u001b[38;5;124m\"\u001b[39m)\n",
      "\u001b[0;31mNameError\u001b[0m: name 'undefined' is not defined"
     ]
    }
   ],
   "source": [
    "try:\n",
    "    undefined / 0 # NameError\n",
    "except ZeroDivisionError:\n",
    "    print(\"Got an error\")\n",
    "\n",
    "print(\"Did you get here?\")"
   ]
  },
  {
   "cell_type": "markdown",
   "id": "64245894-e446-4951-b442-6529cbe12275",
   "metadata": {},
   "source": [
    "**Answer**\n",
    "\n",
    "No. Because there's no handler for `NameError`, so the program will stop and returns the exception `NameError`"
   ]
  },
  {
   "cell_type": "markdown",
   "id": "dfe3e49a-1c8b-4707-90a6-0c85dbda06b2",
   "metadata": {},
   "source": [
    "Does the output contains `Did you get here?`? If, no. Explain"
   ]
  },
  {
   "cell_type": "code",
   "execution_count": 3,
   "id": "d42878b2-c1a3-4b85-8769-477e47d9873a",
   "metadata": {},
   "outputs": [
    {
     "name": "stdout",
     "output_type": "stream",
     "text": [
      "Got an error\n",
      "Did you get here?\n"
     ]
    }
   ],
   "source": [
    "try:\n",
    "    undefined / 0 # NameError\n",
    "except:\n",
    "    print(\"Got an error\")\n",
    "\n",
    "print(\"Did you get here?\")"
   ]
  },
  {
   "cell_type": "markdown",
   "id": "aa61a70d-2c18-403b-ba12-1a9a3173287c",
   "metadata": {},
   "source": [
    "**Answer**\n",
    "\n",
    "Yes"
   ]
  },
  {
   "cell_type": "markdown",
   "id": "3c8d69f6-5fcb-4904-abf6-f5836fc47557",
   "metadata": {},
   "source": [
    "### 4. Raising"
   ]
  },
  {
   "cell_type": "code",
   "execution_count": 4,
   "id": "4c5afdac-1c9f-48fb-9e90-a78cd2f01427",
   "metadata": {},
   "outputs": [
    {
     "name": "stdout",
     "output_type": "stream",
     "text": [
      "here is the message\n"
     ]
    }
   ],
   "source": [
    "try:\n",
    "    raise ValueError(\"here is the message\")\n",
    "# code catch the error...\n",
    "except ValueError as exp:\n",
    "    print(exp)"
   ]
  },
  {
   "cell_type": "markdown",
   "id": "271cb8cd-dc3f-4e6a-81f6-3c93d9c3ac73",
   "metadata": {},
   "source": [
    "Create a `JustCreatedException` exception"
   ]
  },
  {
   "cell_type": "code",
   "execution_count": 5,
   "id": "b83e11ca-1240-4e06-a2a5-388d6fbdb31e",
   "metadata": {},
   "outputs": [],
   "source": [
    "class JustCreatedException(BaseException):\n",
    "    pass"
   ]
  },
  {
   "cell_type": "code",
   "execution_count": 6,
   "id": "855d3d5d-1a73-48cb-8b7f-4d11851ff6ed",
   "metadata": {},
   "outputs": [
    {
     "ename": "JustCreatedException",
     "evalue": "hello there",
     "output_type": "error",
     "traceback": [
      "\u001b[0;31m---------------------------------------------------------------------------\u001b[0m",
      "\u001b[0;31mJustCreatedException\u001b[0m                      Traceback (most recent call last)",
      "Input \u001b[0;32mIn [6]\u001b[0m, in \u001b[0;36m<cell line: 1>\u001b[0;34m()\u001b[0m\n\u001b[0;32m----> 1\u001b[0m \u001b[38;5;28;01mraise\u001b[39;00m JustCreatedException(\u001b[38;5;124m\"\u001b[39m\u001b[38;5;124mhello there\u001b[39m\u001b[38;5;124m\"\u001b[39m)\n",
      "\u001b[0;31mJustCreatedException\u001b[0m: hello there"
     ]
    }
   ],
   "source": [
    "raise JustCreatedException(\"hello there\")"
   ]
  },
  {
   "cell_type": "markdown",
   "id": "90456f05-ee67-4a5c-8a5f-3841c0e4d9ed",
   "metadata": {},
   "source": [
    "### 6. What's up with SyntaxError"
   ]
  },
  {
   "cell_type": "markdown",
   "id": "248f52ac-83c3-4cd6-bf81-d696cfca2769",
   "metadata": {},
   "source": [
    "Does the output contains `Did you get here?`? If, no. Explain"
   ]
  },
  {
   "cell_type": "code",
   "execution_count": 7,
   "id": "005a9af2-e2e1-42bf-8c00-2c630b120fe5",
   "metadata": {},
   "outputs": [
    {
     "ename": "SyntaxError",
     "evalue": "unexpected character after line continuation character (3192623997.py, line 2)",
     "output_type": "error",
     "traceback": [
      "\u001b[0;36m  Input \u001b[0;32mIn [7]\u001b[0;36m\u001b[0m\n\u001b[0;31m    nike /\\ adias # SyntaxError\u001b[0m\n\u001b[0m           ^\u001b[0m\n\u001b[0;31mSyntaxError\u001b[0m\u001b[0;31m:\u001b[0m unexpected character after line continuation character\n"
     ]
    }
   ],
   "source": [
    "try:\n",
    "    nike /\\ adias # SyntaxError\n",
    "except SyntaxError:\n",
    "    print(\"Got an error\")\n",
    "\n",
    "print(\"Did you get here?\")"
   ]
  },
  {
   "cell_type": "markdown",
   "id": "ec065a1d-f901-436b-ae0c-14e846507fa1",
   "metadata": {},
   "source": [
    "**Answer**\n",
    "\n",
    "No. Because you can't catch exception `SyntaxError`."
   ]
  },
  {
   "cell_type": "markdown",
   "id": "57888fd3-90a6-466b-ad40-104bb285049e",
   "metadata": {},
   "source": [
    "### 7. Exception Hierarchy"
   ]
  },
  {
   "cell_type": "code",
   "execution_count": 8,
   "id": "eb43adf8-bffb-4589-aa9f-3a182a33591e",
   "metadata": {},
   "outputs": [
    {
     "data": {
      "text/plain": [
       "True"
      ]
     },
     "execution_count": 8,
     "metadata": {},
     "output_type": "execute_result"
    }
   ],
   "source": [
    "issubclass(ZeroDivisionError, ArithmeticError)"
   ]
  },
  {
   "cell_type": "code",
   "execution_count": 9,
   "id": "1c8afda0-7305-4939-b48d-fa02c800d30d",
   "metadata": {},
   "outputs": [
    {
     "name": "stdout",
     "output_type": "stream",
     "text": [
      "Catched\n"
     ]
    }
   ],
   "source": [
    "try:\n",
    "    1/0\n",
    "except ZeroDivisionError:\n",
    "    print(\"Catched\")"
   ]
  },
  {
   "cell_type": "code",
   "execution_count": 10,
   "id": "0dbe1294-d3e0-4d78-97f5-c260ce0a47d2",
   "metadata": {},
   "outputs": [
    {
     "data": {
      "text/plain": [
       "True"
      ]
     },
     "execution_count": 10,
     "metadata": {},
     "output_type": "execute_result"
    }
   ],
   "source": [
    "issubclass(ZeroDivisionError, ArithmeticError)"
   ]
  },
  {
   "cell_type": "markdown",
   "id": "a9351bb8-3357-45a7-947f-31be96128a5d",
   "metadata": {},
   "source": [
    "What is the output?"
   ]
  },
  {
   "cell_type": "code",
   "execution_count": 11,
   "id": "cedb6838-96e0-4cfa-b510-ebd6488654eb",
   "metadata": {},
   "outputs": [
    {
     "name": "stdout",
     "output_type": "stream",
     "text": [
      "Catched by ArithmeticError\n"
     ]
    }
   ],
   "source": [
    "try:\n",
    "    1/0\n",
    "except ArithmeticError:\n",
    "    print(\"Catched by ArithmeticError\")\n",
    "except ZeroDivisionError:\n",
    "    print(\"Catched by ZeroDivisionError\")\n",
    "except:\n",
    "    print(\"Catched by something else\")"
   ]
  },
  {
   "cell_type": "markdown",
   "id": "5eb2cb9d-a488-4c19-95f4-49e10ea444d0",
   "metadata": {},
   "source": [
    "### 8. The Else Clause"
   ]
  },
  {
   "cell_type": "code",
   "execution_count": 27,
   "id": "d74353f2-b6b3-47b9-83b5-054214dcbb39",
   "metadata": {},
   "outputs": [],
   "source": [
    "def fn1():\n",
    "    try:\n",
    "        1/0\n",
    "    except ZeroDivisionError:\n",
    "        print(\"Zero Error\")\n",
    "        return\n",
    "    print(\"Here is finally\")"
   ]
  },
  {
   "cell_type": "markdown",
   "id": "66cfb286-5120-4de0-b9eb-8fe1d2f1edf2",
   "metadata": {},
   "source": [
    "Make function `fn1` print `Here is finally` without changing the code in exception `ZeroDivisionError`"
   ]
  },
  {
   "cell_type": "code",
   "execution_count": 34,
   "id": "46d99b3f-2f9a-4ee2-844a-74ae8bc84496",
   "metadata": {},
   "outputs": [
    {
     "name": "stdout",
     "output_type": "stream",
     "text": [
      "Zero Error\n",
      "Here is finally\n"
     ]
    }
   ],
   "source": [
    "fn1()"
   ]
  },
  {
   "cell_type": "code",
   "execution_count": 35,
   "id": "7a4b07c6-61e7-4b82-9c62-82ad1a346e43",
   "metadata": {},
   "outputs": [],
   "source": [
    "def fn1():\n",
    "    try:\n",
    "        1/0\n",
    "    except ZeroDivisionError:\n",
    "        print(\"Zero Error\")\n",
    "        return\n",
    "    finally:\n",
    "        print(\"Here is finally\")"
   ]
  },
  {
   "cell_type": "code",
   "execution_count": 36,
   "id": "951ab33e-89ff-4f3f-9a4c-23ea2f7524c5",
   "metadata": {},
   "outputs": [
    {
     "name": "stdout",
     "output_type": "stream",
     "text": [
      "Zero Error\n",
      "Here is finally\n"
     ]
    }
   ],
   "source": [
    "fn1()"
   ]
  },
  {
   "cell_type": "markdown",
   "id": "bb859b5c-3377-4c47-8286-85cdf6280dba",
   "metadata": {},
   "source": [
    "### 10. Nesting and Bundling"
   ]
  },
  {
   "cell_type": "markdown",
   "id": "770d2d73-ff3d-4b95-9049-9ea6a7104d74",
   "metadata": {},
   "source": [
    "### 11. Rolling Our Onw"
   ]
  },
  {
   "cell_type": "code",
   "execution_count": null,
   "id": "fe0002df-2e7c-4069-bb74-da322caffcb8",
   "metadata": {},
   "outputs": [],
   "source": []
  }
 ],
 "metadata": {
  "kernelspec": {
   "display_name": "Python 3 (ipykernel)",
   "language": "python",
   "name": "python3"
  },
  "language_info": {
   "codemirror_mode": {
    "name": "ipython",
    "version": 3
   },
   "file_extension": ".py",
   "mimetype": "text/x-python",
   "name": "python",
   "nbconvert_exporter": "python",
   "pygments_lexer": "ipython3",
   "version": "3.9.12"
  }
 },
 "nbformat": 4,
 "nbformat_minor": 5
}
