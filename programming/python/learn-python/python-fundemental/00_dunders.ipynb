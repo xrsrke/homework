{
 "cells": [
  {
   "cell_type": "markdown",
   "id": "c1ed3d0e-3e0b-4555-b232-8d3b7c6b84cc",
   "metadata": {},
   "source": [
    "### Class"
   ]
  },
  {
   "cell_type": "markdown",
   "id": "53ece2b6-4ffb-433a-8545-c478a50eabfd",
   "metadata": {},
   "source": [
    "##### `__del__`"
   ]
  },
  {
   "cell_type": "code",
   "execution_count": null,
   "id": "9c39ad85-1c80-4496-a96a-c4e39604fabf",
   "metadata": {},
   "outputs": [],
   "source": [
    "def goodbye_message():\n",
    "    print(\"About to be destroy :'(\")"
   ]
  },
  {
   "cell_type": "code",
   "execution_count": null,
   "id": "98b1c365-8950-490a-8e2a-4f2d9d149a65",
   "metadata": {},
   "outputs": [],
   "source": [
    "class Vehicle:\n",
    "    \n",
    "    # add code\n",
    "    def __del__(self):\n",
    "        return goodbye_message()"
   ]
  },
  {
   "cell_type": "code",
   "execution_count": null,
   "id": "fdd2d4fc-48e3-4c88-8052-593bc1b2beb4",
   "metadata": {},
   "outputs": [],
   "source": [
    "v = Vehicle()"
   ]
  },
  {
   "cell_type": "markdown",
   "id": "ca3c3b46-cad2-4f5f-a81e-210f6f936870",
   "metadata": {},
   "source": [
    "Add a method that when an instance be destroy, call `goodbye_message` function"
   ]
  },
  {
   "cell_type": "code",
   "execution_count": null,
   "id": "353fd44d-59b0-49fb-a811-6c36b50aa19a",
   "metadata": {},
   "outputs": [
    {
     "name": "stdout",
     "output_type": "stream",
     "text": [
      "About to be destroy :'(\n"
     ]
    }
   ],
   "source": [
    "del v"
   ]
  },
  {
   "cell_type": "markdown",
   "id": "d7e7dce8-213c-4bc4-9241-73c222645e4a",
   "metadata": {},
   "source": [
    "##### `__set_name__` "
   ]
  },
  {
   "cell_type": "code",
   "execution_count": null,
   "id": "76cbdb7d-b14a-41d9-850d-f132b8e63b58",
   "metadata": {},
   "outputs": [],
   "source": [
    "class Computer:\n",
    "    def __set_name__(self, owner, name):\n",
    "        print(111)\n",
    "        self.property = name"
   ]
  },
  {
   "cell_type": "code",
   "execution_count": null,
   "id": "8693fd8a-f57a-4fee-b6a8-46d97dd1a289",
   "metadata": {},
   "outputs": [],
   "source": [
    "x = Computer()"
   ]
  },
  {
   "cell_type": "code",
   "execution_count": null,
   "id": "7b0ef2b5-44de-4c72-9616-5b63f1794d6d",
   "metadata": {},
   "outputs": [
    {
     "ename": "AttributeError",
     "evalue": "'Computer' object has no attribute 'property'",
     "output_type": "error",
     "traceback": [
      "\u001b[0;31m---------------------------------------------------------------------------\u001b[0m",
      "\u001b[0;31mAttributeError\u001b[0m                            Traceback (most recent call last)",
      "Input \u001b[0;32mIn [19]\u001b[0m, in \u001b[0;36m<cell line: 1>\u001b[0;34m()\u001b[0m\n\u001b[0;32m----> 1\u001b[0m \u001b[43mx\u001b[49m\u001b[38;5;241;43m.\u001b[39;49m\u001b[43mproperty\u001b[49m\n",
      "\u001b[0;31mAttributeError\u001b[0m: 'Computer' object has no attribute 'property'"
     ]
    }
   ],
   "source": [
    "x.property"
   ]
  },
  {
   "cell_type": "markdown",
   "id": "6978f247-9d7c-43c8-9ee4-3496ad16b9fe",
   "metadata": {},
   "source": [
    "### Attributes"
   ]
  },
  {
   "cell_type": "markdown",
   "id": "3c3795a9-3026-4045-8e74-3986031ed3ce",
   "metadata": {},
   "source": [
    "##### `__getattr__`"
   ]
  },
  {
   "cell_type": "code",
   "execution_count": null,
   "id": "cac72a29-6dcd-4ca6-95dd-b7ea20584445",
   "metadata": {},
   "outputs": [],
   "source": [
    "class House:\n",
    "    def __init__(self, size):\n",
    "        self.size = size\n",
    "\n",
    "    # add code\n",
    "    def __getattr__(self, k):\n",
    "        return \"Not found\""
   ]
  },
  {
   "cell_type": "code",
   "execution_count": null,
   "id": "ba727127-d838-471f-ac15-31ebeb4fb6d4",
   "metadata": {},
   "outputs": [],
   "source": [
    "h = House(23)"
   ]
  },
  {
   "cell_type": "code",
   "execution_count": null,
   "id": "b7fa4a2f-2107-48cb-bf4d-34a8136da696",
   "metadata": {},
   "outputs": [
    {
     "data": {
      "text/plain": [
       "23"
      ]
     },
     "execution_count": null,
     "metadata": {},
     "output_type": "execute_result"
    }
   ],
   "source": [
    "h.size"
   ]
  },
  {
   "cell_type": "markdown",
   "id": "50f96a4f-7733-4238-9d2e-d181f028d3c2",
   "metadata": {},
   "source": [
    "Add a method that if an instance have no attribute, return as bellow"
   ]
  },
  {
   "cell_type": "code",
   "execution_count": null,
   "id": "e5380164-7104-4aeb-b1a4-c71c295bc983",
   "metadata": {},
   "outputs": [
    {
     "data": {
      "text/plain": [
       "'Not found'"
      ]
     },
     "execution_count": null,
     "metadata": {},
     "output_type": "execute_result"
    }
   ],
   "source": [
    "h.color"
   ]
  },
  {
   "cell_type": "markdown",
   "id": "9ba384d4-6d01-4f72-a397-00f7eaf5c987",
   "metadata": {},
   "source": [
    "##### `__setattr__`"
   ]
  },
  {
   "cell_type": "code",
   "execution_count": null,
   "id": "811e17e7-4fb3-4622-8933-af81a98f8538",
   "metadata": {},
   "outputs": [],
   "source": [
    "class House:\n",
    "    def __init__(self):\n",
    "        self._attrs = {}\n",
    "\n",
    "    # add code\n",
    "    def __setattr__(self, k, v):\n",
    "        if not k.startswith('_'): self._attrs[k] = v\n",
    "        super().__setattr__(k, v)"
   ]
  },
  {
   "cell_type": "code",
   "execution_count": null,
   "id": "24d3c248-43dd-4aa2-a31a-3cb85bf22c93",
   "metadata": {},
   "outputs": [],
   "source": [
    "h = House()"
   ]
  },
  {
   "cell_type": "code",
   "execution_count": null,
   "id": "6a064dea-232d-4cc9-95bf-e0eb1d86f193",
   "metadata": {},
   "outputs": [
    {
     "data": {
      "text/plain": [
       "{'_attrs': {}}"
      ]
     },
     "execution_count": null,
     "metadata": {},
     "output_type": "execute_result"
    }
   ],
   "source": [
    "h.__dict__"
   ]
  },
  {
   "cell_type": "code",
   "execution_count": null,
   "id": "09fbb142-15c2-41f8-be87-c48cab880cd6",
   "metadata": {},
   "outputs": [],
   "source": [
    "h.size = 2"
   ]
  },
  {
   "cell_type": "code",
   "execution_count": null,
   "id": "dad1ce10-b237-47c8-9380-ff0bd04d85cc",
   "metadata": {},
   "outputs": [
    {
     "data": {
      "text/plain": [
       "{'_attrs': {'size': 2}, 'size': 2}"
      ]
     },
     "execution_count": null,
     "metadata": {},
     "output_type": "execute_result"
    }
   ],
   "source": [
    "h.__dict__"
   ]
  },
  {
   "cell_type": "code",
   "execution_count": null,
   "id": "b62851c5-9b56-4655-8f3f-2b7c80ffbebc",
   "metadata": {},
   "outputs": [
    {
     "data": {
      "text/plain": [
       "2"
      ]
     },
     "execution_count": null,
     "metadata": {},
     "output_type": "execute_result"
    }
   ],
   "source": [
    "h.size"
   ]
  },
  {
   "cell_type": "code",
   "execution_count": null,
   "id": "5a718760-6a63-4333-b811-176f9712a650",
   "metadata": {},
   "outputs": [
    {
     "ename": "AttributeError",
     "evalue": "'House' object has no attribute 'dasd'",
     "output_type": "error",
     "traceback": [
      "\u001b[0;31m---------------------------------------------------------------------------\u001b[0m",
      "\u001b[0;31mAttributeError\u001b[0m                            Traceback (most recent call last)",
      "Input \u001b[0;32mIn [125]\u001b[0m, in \u001b[0;36m<cell line: 1>\u001b[0;34m()\u001b[0m\n\u001b[0;32m----> 1\u001b[0m \u001b[43mh\u001b[49m\u001b[38;5;241;43m.\u001b[39;49m\u001b[43mdasd\u001b[49m\n",
      "\u001b[0;31mAttributeError\u001b[0m: 'House' object has no attribute 'dasd'"
     ]
    }
   ],
   "source": [
    "h.dasd"
   ]
  },
  {
   "cell_type": "markdown",
   "id": "013860f7-6726-4e9b-aa36-f805e77f8f1d",
   "metadata": {},
   "source": [
    "##### `__delattr__`"
   ]
  },
  {
   "cell_type": "code",
   "execution_count": null,
   "id": "e6a59e3a-0152-43be-a82f-47fc7614b99c",
   "metadata": {},
   "outputs": [],
   "source": [
    "def delete_message(k):\n",
    "    print(f'About to delete {k}')"
   ]
  },
  {
   "cell_type": "code",
   "execution_count": null,
   "id": "02060134-f481-40ee-a2da-1d020dacc267",
   "metadata": {},
   "outputs": [],
   "source": [
    "class Atom:\n",
    "    def __init__(self, n_protons: int):\n",
    "        self.n_protons = n_protons\n",
    "    \n",
    "    # add code\n",
    "    def __delattr__(self, k):\n",
    "        delete_message(k)"
   ]
  },
  {
   "cell_type": "code",
   "execution_count": null,
   "id": "1b2abe59-ae97-409a-b950-f7073a5e8168",
   "metadata": {},
   "outputs": [],
   "source": [
    "x = Atom(13)"
   ]
  },
  {
   "cell_type": "code",
   "execution_count": null,
   "id": "9e3ba30d-3457-4121-93fd-c6c362a5eb4a",
   "metadata": {},
   "outputs": [
    {
     "data": {
      "text/plain": [
       "13"
      ]
     },
     "execution_count": null,
     "metadata": {},
     "output_type": "execute_result"
    }
   ],
   "source": [
    "x.n_protons"
   ]
  },
  {
   "cell_type": "markdown",
   "id": "fee5ac8d-d045-4aaf-94d1-f254145e256f",
   "metadata": {},
   "source": [
    "Add a method that call `delete_message` if an instance delete a attribute"
   ]
  },
  {
   "cell_type": "code",
   "execution_count": null,
   "id": "ebae6001-afd3-4521-8669-e6d11a1645c9",
   "metadata": {},
   "outputs": [
    {
     "name": "stdout",
     "output_type": "stream",
     "text": [
      "About to delete n_protons\n"
     ]
    }
   ],
   "source": [
    "del x.n_protons"
   ]
  },
  {
   "cell_type": "markdown",
   "id": "8191b5ee-8fe6-43ef-a6d0-cd38092e7602",
   "metadata": {},
   "source": [
    "### `with`"
   ]
  },
  {
   "cell_type": "markdown",
   "id": "e336c23c-8d49-4536-9778-90613070b4a6",
   "metadata": {},
   "source": [
    "##### `__enter__`"
   ]
  },
  {
   "cell_type": "code",
   "execution_count": null,
   "id": "a5c90d6b-42b2-4c5b-a2d7-973d0cca77ea",
   "metadata": {},
   "outputs": [],
   "source": [
    "def message_1():\n",
    "    print('just the beginning')"
   ]
  },
  {
   "cell_type": "code",
   "execution_count": null,
   "id": "cb83b8e5-1243-4b4c-a712-8eba71ced83c",
   "metadata": {},
   "outputs": [],
   "source": [
    "def message_2():\n",
    "    print(\"and it's not gonna stop\")"
   ]
  },
  {
   "cell_type": "code",
   "execution_count": null,
   "id": "fe632a56-dc37-491f-aaf4-f42cc552c7f4",
   "metadata": {},
   "outputs": [],
   "source": [
    "class Ball:\n",
    "    def __exit__(self, exc_type, exc_val, exc_tb):\n",
    "        message_2()\n",
    "    \n",
    "    # add code\n",
    "    def __enter__(self):\n",
    "        message_1()"
   ]
  },
  {
   "cell_type": "markdown",
   "id": "b4c606c4-1fb9-4e3d-88d6-48b7f0b1fa76",
   "metadata": {},
   "source": [
    "Add a method that call function `message_1` when `with` is run"
   ]
  },
  {
   "cell_type": "code",
   "execution_count": null,
   "id": "87fb0684-909d-49d1-b916-b4d027e4f176",
   "metadata": {},
   "outputs": [
    {
     "name": "stdout",
     "output_type": "stream",
     "text": [
      "just the beginning\n",
      "and it's not gonna stop\n"
     ]
    }
   ],
   "source": [
    "with Ball() as b:\n",
    "    pass"
   ]
  },
  {
   "cell_type": "markdown",
   "id": "35e55adc-19f6-474d-8b9d-5da3be2b46df",
   "metadata": {},
   "source": [
    "### Items"
   ]
  },
  {
   "cell_type": "markdown",
   "id": "9f33c117-1fbc-451f-961d-b8e5d11dd4fa",
   "metadata": {},
   "source": [
    "##### `__getitem__`"
   ]
  },
  {
   "cell_type": "code",
   "execution_count": null,
   "id": "97bf256b-844d-4881-85c5-1a01f3a8b7f0",
   "metadata": {},
   "outputs": [],
   "source": [
    "class Bookshelf:\n",
    "    \n",
    "    # add code\n",
    "    def __getitem__(self, k):\n",
    "        print(f\"Finding -{k}-\")"
   ]
  },
  {
   "cell_type": "markdown",
   "id": "aa6bd8a9-dc8f-4d25-91b6-081e7a6a2fe2",
   "metadata": {},
   "source": [
    "Add a method that works as bellow"
   ]
  },
  {
   "cell_type": "code",
   "execution_count": null,
   "id": "46c2cdf5-393c-4dec-b223-902670f62c85",
   "metadata": {},
   "outputs": [],
   "source": [
    "b = Bookshelf()"
   ]
  },
  {
   "cell_type": "code",
   "execution_count": null,
   "id": "87112fd8-a00a-421f-9149-a5d67288852d",
   "metadata": {},
   "outputs": [
    {
     "name": "stdout",
     "output_type": "stream",
     "text": [
      "Finding -temperature-\n"
     ]
    }
   ],
   "source": [
    "b['temperature']"
   ]
  },
  {
   "cell_type": "markdown",
   "id": "727fbecb-f84c-4192-b6c1-82dfe71f51aa",
   "metadata": {},
   "source": [
    "##### `__setitem__`"
   ]
  },
  {
   "cell_type": "code",
   "execution_count": null,
   "id": "6471b953-12bb-42bc-8d00-20570e7eb5c7",
   "metadata": {},
   "outputs": [],
   "source": [
    "class Bookshelf:\n",
    "    \n",
    "    # add code\n",
    "    def __setitem__(self, k, v):\n",
    "        print(f'Set item={k} to value={v}')"
   ]
  },
  {
   "cell_type": "code",
   "execution_count": null,
   "id": "7720e13c-2762-4d76-a6c1-a573cbc5aa18",
   "metadata": {},
   "outputs": [],
   "source": [
    "b = Bookshelf()"
   ]
  },
  {
   "cell_type": "markdown",
   "id": "c4d6af8a-ea61-4fcd-99af-e7a204b883fe",
   "metadata": {},
   "source": [
    "Add a method that works as bellow"
   ]
  },
  {
   "cell_type": "code",
   "execution_count": null,
   "id": "34040b18-45a9-464d-964f-14f6313ee38e",
   "metadata": {},
   "outputs": [
    {
     "name": "stdout",
     "output_type": "stream",
     "text": [
      "Set item=sapiens to value=homo deus\n"
     ]
    }
   ],
   "source": [
    "b['sapiens'] = 'homo deus'"
   ]
  },
  {
   "cell_type": "markdown",
   "id": "d82ea4cf-261a-4495-8d86-12bf53175127",
   "metadata": {},
   "source": [
    "##### `__missing__`"
   ]
  },
  {
   "cell_type": "code",
   "execution_count": null,
   "id": "4aa0fdd8-5085-4e79-a4a7-eff11ce2d2ac",
   "metadata": {},
   "outputs": [],
   "source": [
    "def msg():\n",
    "    print(\"can't find\")"
   ]
  },
  {
   "cell_type": "code",
   "execution_count": null,
   "id": "d38d1061-018c-4c8c-bc16-ba25eba31580",
   "metadata": {},
   "outputs": [],
   "source": [
    "class Christmas(dict):\n",
    "    def __init__(self):\n",
    "        self.color = 'red'\n",
    "    \n",
    "    # add code\n",
    "    def __missing__(self, k):\n",
    "        msg()"
   ]
  },
  {
   "cell_type": "code",
   "execution_count": null,
   "id": "1635981e-0d68-4954-bd17-9ede1430766b",
   "metadata": {},
   "outputs": [],
   "source": [
    "c = Christmas()"
   ]
  },
  {
   "cell_type": "code",
   "execution_count": null,
   "id": "211ab461-5666-47cc-b731-ed0dda168fc1",
   "metadata": {},
   "outputs": [],
   "source": [
    "c['color'] = 'red'"
   ]
  },
  {
   "cell_type": "code",
   "execution_count": null,
   "id": "234376ab-57f8-4f88-832a-b4c2ce0d7b94",
   "metadata": {},
   "outputs": [
    {
     "data": {
      "text/plain": [
       "'red'"
      ]
     },
     "execution_count": null,
     "metadata": {},
     "output_type": "execute_result"
    }
   ],
   "source": [
    "c['color']"
   ]
  },
  {
   "cell_type": "markdown",
   "id": "4840eeec-760b-4e68-9105-e6eb3172fa5b",
   "metadata": {},
   "source": [
    "Add a method that only call `msg` function if the key can't find"
   ]
  },
  {
   "cell_type": "code",
   "execution_count": null,
   "id": "ae396f2d-6fb5-4cba-90e5-01575110b352",
   "metadata": {},
   "outputs": [
    {
     "name": "stdout",
     "output_type": "stream",
     "text": [
      "can't find\n"
     ]
    }
   ],
   "source": [
    "c['mood']"
   ]
  },
  {
   "cell_type": "markdown",
   "id": "4b8111d5-f641-4764-9233-12f9b25254df",
   "metadata": {},
   "source": [
    "##### `__iter__`"
   ]
  },
  {
   "cell_type": "code",
   "execution_count": null,
   "id": "1f9c35e8-f4d6-42b2-ae09-3a0f6e90c046",
   "metadata": {},
   "outputs": [],
   "source": [
    "class Book:\n",
    "    def __iter__(self):\n",
    "        self.x = 1\n",
    "        print('looping')\n",
    "        return self.x"
   ]
  },
  {
   "cell_type": "code",
   "execution_count": null,
   "id": "9ec8733c-c079-45cf-8585-61121dd5d6ef",
   "metadata": {},
   "outputs": [
    {
     "name": "stdout",
     "output_type": "stream",
     "text": [
      "looping\n"
     ]
    },
    {
     "ename": "TypeError",
     "evalue": "iter() returned non-iterator of type 'int'",
     "output_type": "error",
     "traceback": [
      "\u001b[0;31m---------------------------------------------------------------------------\u001b[0m",
      "\u001b[0;31mTypeError\u001b[0m                                 Traceback (most recent call last)",
      "Input \u001b[0;32mIn [66]\u001b[0m, in \u001b[0;36m<cell line: 1>\u001b[0;34m()\u001b[0m\n\u001b[0;32m----> 1\u001b[0m \u001b[38;5;28;43mlist\u001b[39;49m\u001b[43m(\u001b[49m\u001b[43mBook\u001b[49m\u001b[43m(\u001b[49m\u001b[43m)\u001b[49m\u001b[43m)\u001b[49m\n",
      "\u001b[0;31mTypeError\u001b[0m: iter() returned non-iterator of type 'int'"
     ]
    }
   ],
   "source": [
    "list(Book())"
   ]
  },
  {
   "cell_type": "code",
   "execution_count": null,
   "id": "97d9fe65-3ef3-4889-9f91-aa711abb6b41",
   "metadata": {},
   "outputs": [],
   "source": []
  },
  {
   "cell_type": "code",
   "execution_count": null,
   "id": "68daf0b4-22e1-441b-9e6d-a993f636a790",
   "metadata": {},
   "outputs": [],
   "source": []
  }
 ],
 "metadata": {
  "kernelspec": {
   "display_name": "Python 3 (ipykernel)",
   "language": "python",
   "name": "python3"
  }
 },
 "nbformat": 4,
 "nbformat_minor": 5
}
