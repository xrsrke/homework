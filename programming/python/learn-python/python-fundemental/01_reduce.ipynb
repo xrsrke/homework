{
 "cells": [
  {
   "cell_type": "code",
   "execution_count": 1,
   "id": "6b095ccd-4a70-46f9-91ea-300a1b938b50",
   "metadata": {},
   "outputs": [],
   "source": [
    "from functools import reduce"
   ]
  },
  {
   "cell_type": "markdown",
   "id": "6376bcd3-9bc7-4586-ac98-51d6ccd436d4",
   "metadata": {},
   "source": [
    "##### Example 1"
   ]
  },
  {
   "cell_type": "code",
   "execution_count": 14,
   "id": "1353a99d-ad58-4c64-91e4-36b451c2926c",
   "metadata": {},
   "outputs": [],
   "source": [
    "from functools import reduce"
   ]
  },
  {
   "cell_type": "code",
   "execution_count": 15,
   "id": "a43b05b9-610a-429d-a47b-66ef8c7064ae",
   "metadata": {},
   "outputs": [],
   "source": [
    "numbers = [1, 2, 3, 4]"
   ]
  },
  {
   "cell_type": "markdown",
   "id": "02276f7c-ff6d-4999-96ac-ea9416b18f9b",
   "metadata": {},
   "source": [
    "Do `1 x 2 x 3 x 4` using `reduce`"
   ]
  },
  {
   "cell_type": "code",
   "execution_count": 16,
   "id": "1324429e-f4d7-47bf-ad29-26195e2b51b3",
   "metadata": {},
   "outputs": [],
   "source": [
    "correct_answer = 1 * 2 * 3 * 4"
   ]
  },
  {
   "cell_type": "code",
   "execution_count": 17,
   "id": "59e7a52d-376b-4f3a-b1da-6bfe0879421f",
   "metadata": {},
   "outputs": [],
   "source": [
    "def multiply(a, b):\n",
    "    return a * b"
   ]
  },
  {
   "cell_type": "code",
   "execution_count": 18,
   "id": "2be2f589-2a86-448d-8ee8-486a2db8f5da",
   "metadata": {},
   "outputs": [],
   "source": [
    "output = reduce(multiply, numbers)"
   ]
  },
  {
   "cell_type": "code",
   "execution_count": 19,
   "id": "4b80cd34-a8ab-4ec2-aaee-23db11d813ed",
   "metadata": {},
   "outputs": [
    {
     "data": {
      "text/plain": [
       "24"
      ]
     },
     "execution_count": 19,
     "metadata": {},
     "output_type": "execute_result"
    }
   ],
   "source": [
    "output"
   ]
  },
  {
   "cell_type": "code",
   "execution_count": 20,
   "id": "4108ee28-d402-4e5d-9f0c-47d525f7d5c8",
   "metadata": {},
   "outputs": [
    {
     "data": {
      "text/plain": [
       "True"
      ]
     },
     "execution_count": 20,
     "metadata": {},
     "output_type": "execute_result"
    }
   ],
   "source": [
    "output == correct_answer"
   ]
  },
  {
   "cell_type": "code",
   "execution_count": null,
   "id": "061198b3-ed88-426c-b228-2d6059bf0f4c",
   "metadata": {},
   "outputs": [],
   "source": []
  }
 ],
 "metadata": {
  "kernelspec": {
   "display_name": "Python 3 (ipykernel)",
   "language": "python",
   "name": "python3"
  },
  "language_info": {
   "codemirror_mode": {
    "name": "ipython",
    "version": 3
   },
   "file_extension": ".py",
   "mimetype": "text/x-python",
   "name": "python",
   "nbconvert_exporter": "python",
   "pygments_lexer": "ipython3",
   "version": "3.8.15"
  }
 },
 "nbformat": 4,
 "nbformat_minor": 5
}
