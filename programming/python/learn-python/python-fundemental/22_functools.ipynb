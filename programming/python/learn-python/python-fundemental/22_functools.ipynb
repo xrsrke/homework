{
 "cells": [
  {
   "cell_type": "markdown",
   "id": "c00ddafb-46e1-4bb2-9929-28860ee1c9e6",
   "metadata": {},
   "source": [
    "### `lru_cache`"
   ]
  },
  {
   "cell_type": "markdown",
   "id": "a0a0a6cb-540b-4eb4-a64d-e8756fbea1e5",
   "metadata": {},
   "source": [
    "##### Example 1"
   ]
  },
  {
   "cell_type": "code",
   "execution_count": null,
   "id": "901817a5-f57f-4b38-a251-9846bfd5c935",
   "metadata": {},
   "outputs": [],
   "source": [
    "import time"
   ]
  },
  {
   "cell_type": "code",
   "execution_count": null,
   "id": "6ba61b55-3150-4865-ad74-338c4d25ce22",
   "metadata": {},
   "outputs": [],
   "source": [
    "def expensive_function(x):\n",
    "    time.sleep(2)\n",
    "    return x * x"
   ]
  },
  {
   "cell_type": "markdown",
   "id": "1a6255c0-6e62-4e22-a140-9de765e1ae4e",
   "metadata": {},
   "source": [
    "Cache the results of the function `expensive_function` and return the cached result when the same inputs occur again, using `functools`"
   ]
  },
  {
   "cell_type": "code",
   "execution_count": null,
   "id": "a0f51cfc-f8f1-4c48-ad3c-b79abcf9a08b",
   "metadata": {},
   "outputs": [],
   "source": [
    "from functools import lru_cache"
   ]
  },
  {
   "cell_type": "code",
   "execution_count": null,
   "id": "0cf10ced-cb2b-4ec4-93e9-6fbb4bc52b4e",
   "metadata": {},
   "outputs": [],
   "source": [
    "@lru_cache\n",
    "def expensive_function(x):\n",
    "    time.sleep(2)\n",
    "    return x * x"
   ]
  },
  {
   "cell_type": "code",
   "execution_count": null,
   "id": "ea713e9b-5d99-40aa-8e11-ab3e6ab2d785",
   "metadata": {},
   "outputs": [
    {
     "data": {
      "text/plain": [
       "4761"
      ]
     },
     "execution_count": null,
     "metadata": {},
     "output_type": "execute_result"
    }
   ],
   "source": [
    "expensive_function(69)"
   ]
  },
  {
   "cell_type": "code",
   "execution_count": null,
   "id": "b52ce3a0-e725-4498-b332-5744e6c1ffb4",
   "metadata": {},
   "outputs": [],
   "source": []
  }
 ],
 "metadata": {
  "kernelspec": {
   "display_name": "Python 3 (ipykernel)",
   "language": "python",
   "name": "python3"
  }
 },
 "nbformat": 4,
 "nbformat_minor": 5
}
