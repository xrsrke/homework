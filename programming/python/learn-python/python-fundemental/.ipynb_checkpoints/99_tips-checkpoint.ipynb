{
 "cells": [
  {
   "cell_type": "markdown",
   "id": "5c5a53a6-8450-444f-9937-8f65c698cafe",
   "metadata": {},
   "source": [
    "#### [1]"
   ]
  },
  {
   "cell_type": "code",
   "execution_count": 2,
   "id": "c5ca613b-97b9-4e69-96c8-f3341a4f6ec8",
   "metadata": {},
   "outputs": [],
   "source": [
    "condition = True"
   ]
  },
  {
   "cell_type": "code",
   "execution_count": 3,
   "id": "6c81bd62-72ab-4dd9-b52a-b4a1bb9d4bba",
   "metadata": {},
   "outputs": [],
   "source": [
    "x, y = (1, 0) if condition else None, None"
   ]
  },
  {
   "cell_type": "code",
   "execution_count": 4,
   "id": "35599ab5-0031-4756-a9f4-c8765cb6a238",
   "metadata": {},
   "outputs": [
    {
     "data": {
      "text/plain": [
       "((1, 0), None)"
      ]
     },
     "execution_count": 4,
     "metadata": {},
     "output_type": "execute_result"
    }
   ],
   "source": [
    "x, y"
   ]
  },
  {
   "cell_type": "code",
   "execution_count": 40,
   "id": "6b8d1917-844a-4f20-95cd-d0f925e7ce42",
   "metadata": {},
   "outputs": [],
   "source": [
    "condition = True"
   ]
  },
  {
   "cell_type": "code",
   "execution_count": 41,
   "id": "427b3cde-99de-4bd0-8d70-df1c1af70e09",
   "metadata": {},
   "outputs": [],
   "source": [
    "x, y = (1, 0) if condition else (None, None)"
   ]
  },
  {
   "cell_type": "code",
   "execution_count": 42,
   "id": "3d434a51-66b0-402f-aa4a-998549069432",
   "metadata": {},
   "outputs": [
    {
     "data": {
      "text/plain": [
       "(1, 0)"
      ]
     },
     "execution_count": 42,
     "metadata": {},
     "output_type": "execute_result"
    }
   ],
   "source": [
    "x, y"
   ]
  },
  {
   "cell_type": "markdown",
   "id": "e1abd2a1-3b69-4705-8f61-faae001a2be2",
   "metadata": {},
   "source": [
    "#### [2]"
   ]
  },
  {
   "cell_type": "code",
   "execution_count": 46,
   "id": "d4b30d4b-7e18-4151-9282-46cf0c8cf3e7",
   "metadata": {},
   "outputs": [],
   "source": [
    "s = (\"one\")"
   ]
  },
  {
   "cell_type": "code",
   "execution_count": 47,
   "id": "26a8c196-5103-4e8d-bdf6-00712161d79f",
   "metadata": {},
   "outputs": [
    {
     "name": "stdout",
     "output_type": "stream",
     "text": [
      "o\n",
      "n\n",
      "e\n"
     ]
    }
   ],
   "source": [
    "for x in s:\n",
    "    print(x)"
   ]
  },
  {
   "cell_type": "code",
   "execution_count": 49,
   "id": "09ae9a96-bffe-436f-87de-8a6898c1efd1",
   "metadata": {},
   "outputs": [],
   "source": [
    "s = (\"one\", )"
   ]
  },
  {
   "cell_type": "code",
   "execution_count": 50,
   "id": "45140bfd-93b0-4182-9758-665650c19fb9",
   "metadata": {},
   "outputs": [
    {
     "name": "stdout",
     "output_type": "stream",
     "text": [
      "one\n"
     ]
    }
   ],
   "source": [
    "for x in s:\n",
    "    print(x)"
   ]
  },
  {
   "cell_type": "code",
   "execution_count": null,
   "id": "5e50c1a8-43d2-4dc4-8481-4098b93ccb12",
   "metadata": {},
   "outputs": [],
   "source": []
  },
  {
   "cell_type": "code",
   "execution_count": null,
   "id": "0e23ac69-5d6e-4806-b748-26037ca14c41",
   "metadata": {},
   "outputs": [],
   "source": []
  },
  {
   "cell_type": "code",
   "execution_count": null,
   "id": "1034265e-854d-465d-bb4c-49057a68dce1",
   "metadata": {},
   "outputs": [],
   "source": []
  },
  {
   "cell_type": "code",
   "execution_count": null,
   "id": "8f6457b2-bf45-4cd0-8611-010c12d02af3",
   "metadata": {},
   "outputs": [],
   "source": []
  }
 ],
 "metadata": {
  "kernelspec": {
   "display_name": "Python 3 (ipykernel)",
   "language": "python",
   "name": "python3"
  },
  "language_info": {
   "codemirror_mode": {
    "name": "ipython",
    "version": 3
   },
   "file_extension": ".py",
   "mimetype": "text/x-python",
   "name": "python",
   "nbconvert_exporter": "python",
   "pygments_lexer": "ipython3",
   "version": "3.9.13"
  }
 },
 "nbformat": 4,
 "nbformat_minor": 5
}
