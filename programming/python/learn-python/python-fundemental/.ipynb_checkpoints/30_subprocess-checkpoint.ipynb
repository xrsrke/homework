{
 "cells": [
  {
   "cell_type": "markdown",
   "id": "7c6c1744-8565-4493-ac1d-8d11cfc7b26c",
   "metadata": {},
   "source": [
    "##### Example 1"
   ]
  },
  {
   "cell_type": "markdown",
   "id": "4db7c0a6-09c6-4890-9133-935bad917d4f",
   "metadata": {},
   "source": [
    "Run the command `echo Hello, World!`"
   ]
  },
  {
   "cell_type": "code",
   "execution_count": null,
   "id": "950e6327-188b-4fe1-b8fd-df67a6f1eac4",
   "metadata": {},
   "outputs": [],
   "source": [
    "import subprocess"
   ]
  },
  {
   "cell_type": "code",
   "execution_count": null,
   "id": "42bcb597-219e-4a0c-a9f9-5dbc606ea733",
   "metadata": {},
   "outputs": [
    {
     "name": "stdout",
     "output_type": "stream",
     "text": [
      "Hello, World!\n"
     ]
    }
   ],
   "source": [
    "result = subprocess.run([\"echo\", \"Hello, World!\"])"
   ]
  },
  {
   "cell_type": "code",
   "execution_count": null,
   "id": "e3f48c8e-2148-465a-ac37-fa3272b14bc4",
   "metadata": {},
   "outputs": [
    {
     "data": {
      "text/plain": [
       "CompletedProcess(args=['echo', 'Hello, World!'], returncode=0)"
      ]
     },
     "execution_count": null,
     "metadata": {},
     "output_type": "execute_result"
    }
   ],
   "source": [
    "result"
   ]
  },
  {
   "cell_type": "code",
   "execution_count": null,
   "id": "4afc8e33-436f-4a4c-8b29-d3128850501a",
   "metadata": {},
   "outputs": [],
   "source": []
  },
  {
   "cell_type": "code",
   "execution_count": null,
   "id": "35989b4e-46e7-4f48-a2e1-e58abf5b61b2",
   "metadata": {},
   "outputs": [],
   "source": []
  }
 ],
 "metadata": {
  "kernelspec": {
   "display_name": "Python 3 (ipykernel)",
   "language": "python",
   "name": "python3"
  }
 },
 "nbformat": 4,
 "nbformat_minor": 5
}
