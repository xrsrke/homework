{
 "cells": [
  {
   "cell_type": "markdown",
   "id": "c00ddafb-46e1-4bb2-9929-28860ee1c9e6",
   "metadata": {},
   "source": [
    "### `lru_cache`"
   ]
  },
  {
   "cell_type": "markdown",
   "id": "a0a0a6cb-540b-4eb4-a64d-e8756fbea1e5",
   "metadata": {},
   "source": [
    "##### Example 1"
   ]
  },
  {
   "cell_type": "code",
   "execution_count": null,
   "id": "901817a5-f57f-4b38-a251-9846bfd5c935",
   "metadata": {},
   "outputs": [],
   "source": [
    "import time"
   ]
  },
  {
   "cell_type": "code",
   "execution_count": null,
   "id": "6ba61b55-3150-4865-ad74-338c4d25ce22",
   "metadata": {},
   "outputs": [],
   "source": [
    "def expensive_function(x):\n",
    "    time.sleep(2)\n",
    "    return x * x"
   ]
  },
  {
   "cell_type": "markdown",
   "id": "1a6255c0-6e62-4e22-a140-9de765e1ae4e",
   "metadata": {},
   "source": [
    "Cache the results of the function `expensive_function` and return the cached result when the same inputs occur again, using `functools`"
   ]
  },
  {
   "cell_type": "code",
   "execution_count": null,
   "id": "a0f51cfc-f8f1-4c48-ad3c-b79abcf9a08b",
   "metadata": {},
   "outputs": [],
   "source": [
    "from functools import lru_cache"
   ]
  },
  {
   "cell_type": "code",
   "execution_count": null,
   "id": "0cf10ced-cb2b-4ec4-93e9-6fbb4bc52b4e",
   "metadata": {},
   "outputs": [],
   "source": [
    "@lru_cache\n",
    "def expensive_function(x):\n",
    "    time.sleep(2)\n",
    "    return x * x"
   ]
  },
  {
   "cell_type": "code",
   "execution_count": null,
   "id": "ea713e9b-5d99-40aa-8e11-ab3e6ab2d785",
   "metadata": {},
   "outputs": [
    {
     "data": {
      "text/plain": [
       "4761"
      ]
     },
     "execution_count": null,
     "metadata": {},
     "output_type": "execute_result"
    }
   ],
   "source": [
    "expensive_function(69)"
   ]
  },
  {
   "cell_type": "markdown",
   "id": "99de78cd-45e1-4799-8257-0ac0281eea6f",
   "metadata": {},
   "source": [
    "### `reduce`"
   ]
  },
  {
   "cell_type": "markdown",
   "id": "ef4b1317-1630-48f8-b7ef-ae9f54b87fd3",
   "metadata": {},
   "source": [
    "##### Example 1"
   ]
  },
  {
   "cell_type": "code",
   "execution_count": null,
   "id": "e97689a9-3f11-435e-87b5-ed6fe7ad62c1",
   "metadata": {},
   "outputs": [],
   "source": [
    "numbers = [1, 2, 3, 4, 5]"
   ]
  },
  {
   "cell_type": "code",
   "execution_count": null,
   "id": "d538c2aa-e3f4-4a0e-9cb2-2a6281076d0d",
   "metadata": {},
   "outputs": [],
   "source": [
    "import functools"
   ]
  },
  {
   "cell_type": "code",
   "execution_count": null,
   "id": "874eddb0-7a78-456e-864d-f18c2a0837a0",
   "metadata": {},
   "outputs": [
    {
     "data": {
      "text/plain": [
       "[1, 2, 3, 4, 5]"
      ]
     },
     "execution_count": null,
     "metadata": {},
     "output_type": "execute_result"
    }
   ],
   "source": [
    "numbers"
   ]
  },
  {
   "cell_type": "markdown",
   "id": "0817b255-97c0-4028-ab69-73ee4f57a80e",
   "metadata": {},
   "source": [
    "Calculate the sum of `numbers` using `functools`. Explain your code"
   ]
  },
  {
   "cell_type": "code",
   "execution_count": null,
   "id": "779dc80f-fd38-469b-9135-3bd013247893",
   "metadata": {},
   "outputs": [],
   "source": [
    "result = functools.reduce(lambda x, y: x + y, numbers, 100)"
   ]
  },
  {
   "cell_type": "markdown",
   "id": "aeaf1acd-70f2-47e8-b70b-d6908548fbfd",
   "metadata": {},
   "source": [
    "It starts with the first number (or a provided initial value), then adds the second number to the result, then adds the third number to the new result, and so on until all numbers have been added."
   ]
  },
  {
   "cell_type": "code",
   "execution_count": null,
   "id": "1cac7ac3-5afc-4527-a8f0-bcf472844c3c",
   "metadata": {},
   "outputs": [
    {
     "data": {
      "text/plain": [
       "115"
      ]
     },
     "execution_count": null,
     "metadata": {},
     "output_type": "execute_result"
    }
   ],
   "source": [
    "result"
   ]
  },
  {
   "cell_type": "code",
   "execution_count": null,
   "id": "fe0cb5e5-0440-4016-aa29-9fa4a1d7895c",
   "metadata": {},
   "outputs": [],
   "source": []
  }
 ],
 "metadata": {
  "kernelspec": {
   "display_name": "Python 3 (ipykernel)",
   "language": "python",
   "name": "python3"
  }
 },
 "nbformat": 4,
 "nbformat_minor": 5
}
