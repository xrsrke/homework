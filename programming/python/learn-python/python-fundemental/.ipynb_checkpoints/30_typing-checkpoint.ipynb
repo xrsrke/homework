{
 "cells": [
  {
   "cell_type": "markdown",
   "id": "82351a3b-f304-40d3-8471-795d928a9b44",
   "metadata": {},
   "source": [
    "### For `variable`"
   ]
  },
  {
   "cell_type": "markdown",
   "id": "526102d8-d20f-46d9-84aa-8ff2489e0adc",
   "metadata": {},
   "source": [
    "##### Example 1"
   ]
  },
  {
   "cell_type": "code",
   "execution_count": null,
   "id": "8d0ed867-8434-4194-92d1-40e1cb01c1ec",
   "metadata": {},
   "outputs": [],
   "source": [
    "age = 1"
   ]
  },
  {
   "cell_type": "code",
   "execution_count": null,
   "id": "222373fa-49c8-4f91-bfb8-9804d6ec0a60",
   "metadata": {},
   "outputs": [],
   "source": [
    "if age < 18:\n",
    "    child = True\n",
    "else:\n",
    "    child = False"
   ]
  },
  {
   "cell_type": "markdown",
   "id": "96648db8-11ff-41fa-867e-bbebd49f876a",
   "metadata": {},
   "source": [
    "Refactor using `Type Hints`"
   ]
  },
  {
   "cell_type": "code",
   "execution_count": null,
   "id": "85c370ec-2155-482d-91e7-53fde67a695f",
   "metadata": {},
   "outputs": [],
   "source": [
    "age: int = 1"
   ]
  },
  {
   "cell_type": "code",
   "execution_count": null,
   "id": "e0922808-e459-4ef4-b902-05e52591983e",
   "metadata": {},
   "outputs": [],
   "source": [
    "child: bool"
   ]
  },
  {
   "cell_type": "code",
   "execution_count": null,
   "id": "164a83a9-f61d-41ce-8177-55706961cdd3",
   "metadata": {},
   "outputs": [],
   "source": [
    "if age < 18:\n",
    "    child = True\n",
    "else:\n",
    "    child = False"
   ]
  },
  {
   "cell_type": "markdown",
   "id": "80663c00-eacf-48d2-bffc-671f322b1a04",
   "metadata": {},
   "source": [
    "##### Example 2"
   ]
  },
  {
   "cell_type": "code",
   "execution_count": null,
   "id": "51cbb886-22c5-4104-9787-1afe729f78b3",
   "metadata": {},
   "outputs": [],
   "source": [
    "def greet(name):\n",
    "    return 'Hello ' + name"
   ]
  },
  {
   "cell_type": "code",
   "execution_count": null,
   "id": "b5c99549-f360-45f2-a244-e312d640a302",
   "metadata": {},
   "outputs": [
    {
     "data": {
      "text/plain": [
       "'Hello Shivon'"
      ]
     },
     "execution_count": null,
     "metadata": {},
     "output_type": "execute_result"
    }
   ],
   "source": [
    "greet('Shivon')"
   ]
  },
  {
   "cell_type": "markdown",
   "id": "a1c7ff5b-6ec4-4c73-923d-fca4f0c48098",
   "metadata": {},
   "source": [
    "Refactor using `Type Hints`"
   ]
  },
  {
   "cell_type": "code",
   "execution_count": null,
   "id": "c7d355db-5d7d-4957-89bd-54a8539dffe5",
   "metadata": {},
   "outputs": [],
   "source": [
    "def greet(name: str) -> str:\n",
    "    return 'Hello ' + name"
   ]
  },
  {
   "cell_type": "markdown",
   "id": "1fde5122-0a11-4ac1-91fc-a78fb688ede0",
   "metadata": {},
   "source": [
    "##### Example 3"
   ]
  },
  {
   "cell_type": "code",
   "execution_count": null,
   "id": "76a09a34-54a7-4c91-9c1a-59dec43c5eaa",
   "metadata": {},
   "outputs": [],
   "source": [
    "text: str = 1"
   ]
  },
  {
   "cell_type": "markdown",
   "id": "3a5333e3-3608-42b5-8ad0-55c4f55fee61",
   "metadata": {},
   "source": [
    "Does this work?"
   ]
  },
  {
   "cell_type": "markdown",
   "id": "084ebada-0889-4fa0-97cf-e5f5b4377b0c",
   "metadata": {},
   "source": [
    "**Answer**: Yes"
   ]
  },
  {
   "cell_type": "markdown",
   "id": "ed69e7c9-f265-4bc4-83e7-dce5dab4f8b0",
   "metadata": {},
   "source": [
    "##### Example 5"
   ]
  },
  {
   "cell_type": "code",
   "execution_count": null,
   "id": "88f9171e-6a5b-4879-b2c2-c0360e87e890",
   "metadata": {},
   "outputs": [],
   "source": [
    "def add_numbers(a, b, c):\n",
    "    print(a + b + c)"
   ]
  },
  {
   "cell_type": "code",
   "execution_count": null,
   "id": "3bdbe8cc-153e-41d5-b799-ba3368eab640",
   "metadata": {},
   "outputs": [
    {
     "name": "stdout",
     "output_type": "stream",
     "text": [
      "3\n"
     ]
    }
   ],
   "source": [
    "add_numbers(1, 1, 1)"
   ]
  },
  {
   "cell_type": "markdown",
   "id": "e18a7447-8347-4fb2-b6dd-9d51f38839ef",
   "metadata": {},
   "source": [
    "Refactor using `Type Hints`"
   ]
  },
  {
   "cell_type": "code",
   "execution_count": null,
   "id": "33035010-c7c1-4219-b03d-de4cb7041b4a",
   "metadata": {},
   "outputs": [],
   "source": [
    "def add_numbers(a: int, b: int, c: int) -> None:\n",
    "    print(a + b + c)"
   ]
  },
  {
   "cell_type": "markdown",
   "id": "58bbdc71-bf50-4202-a002-83dd6d38192a",
   "metadata": {},
   "source": [
    "### List Type"
   ]
  },
  {
   "cell_type": "markdown",
   "id": "1c6a50fc-3bbf-4b1b-898b-ccf9f0d66948",
   "metadata": {},
   "source": [
    "##### Example 1"
   ]
  },
  {
   "cell_type": "code",
   "execution_count": null,
   "id": "47f6ed11-a2cb-4bba-9e71-723100dd36a2",
   "metadata": {},
   "outputs": [],
   "source": [
    "x = [[1, 1, 1], [2, 2, 3]]"
   ]
  },
  {
   "cell_type": "code",
   "execution_count": null,
   "id": "b2be4862-edc7-463a-94d1-9fbb9c1980a2",
   "metadata": {},
   "outputs": [
    {
     "data": {
      "text/plain": [
       "[[1, 1, 1], [2, 2, 3]]"
      ]
     },
     "execution_count": null,
     "metadata": {},
     "output_type": "execute_result"
    }
   ],
   "source": [
    "x"
   ]
  },
  {
   "cell_type": "markdown",
   "id": "4da1c941-3428-4765-9530-438375a311f6",
   "metadata": {},
   "source": [
    "Refactor using `Type Hints`"
   ]
  },
  {
   "cell_type": "code",
   "execution_count": null,
   "id": "f67c5246-2d9d-49f7-8c51-8bc4ea631a36",
   "metadata": {},
   "outputs": [],
   "source": [
    "x: list[list[int]] = [[1, 1, 1], [2, 2, 3]]"
   ]
  },
  {
   "cell_type": "code",
   "execution_count": null,
   "id": "06253156-0f97-411c-a5c9-2dbdf3092026",
   "metadata": {},
   "outputs": [
    {
     "data": {
      "text/plain": [
       "[[1, 1, 1], [2, 2, 3]]"
      ]
     },
     "execution_count": null,
     "metadata": {},
     "output_type": "execute_result"
    }
   ],
   "source": [
    "x"
   ]
  },
  {
   "cell_type": "markdown",
   "id": "5d02fa5b-d48e-4e87-bc72-409e1e6c2ba3",
   "metadata": {},
   "source": [
    "### Dict Type"
   ]
  },
  {
   "cell_type": "markdown",
   "id": "b6084dec-0228-4070-b623-54b0d725fed7",
   "metadata": {},
   "source": [
    "##### Example 1 "
   ]
  },
  {
   "cell_type": "code",
   "execution_count": null,
   "id": "deb0b7a1-a4bb-4cf8-8114-23e5cf86a1f4",
   "metadata": {},
   "outputs": [],
   "source": [
    "x = {\"field\": 2.0}"
   ]
  },
  {
   "cell_type": "code",
   "execution_count": null,
   "id": "aab9d233-b0f6-4ae1-bd41-6622b3fe478b",
   "metadata": {},
   "outputs": [
    {
     "data": {
      "text/plain": [
       "{'field': 2.0}"
      ]
     },
     "execution_count": null,
     "metadata": {},
     "output_type": "execute_result"
    }
   ],
   "source": [
    "x"
   ]
  },
  {
   "cell_type": "markdown",
   "id": "8264f4dd-ed76-4a6e-923f-8c763e7d9e9c",
   "metadata": {},
   "source": [
    "Refactor using `Type Hints`"
   ]
  },
  {
   "cell_type": "code",
   "execution_count": null,
   "id": "a4ea94f8-8694-4291-9bdb-250cc69a9e5c",
   "metadata": {},
   "outputs": [],
   "source": [
    "x: dict[str, float] = {\"field\": 2.0}"
   ]
  },
  {
   "cell_type": "code",
   "execution_count": null,
   "id": "16e91276-fb52-446e-a6be-a75507b6ac60",
   "metadata": {},
   "outputs": [
    {
     "data": {
      "text/plain": [
       "{'field': 2.0}"
      ]
     },
     "execution_count": null,
     "metadata": {},
     "output_type": "execute_result"
    }
   ],
   "source": [
    "x"
   ]
  },
  {
   "cell_type": "markdown",
   "id": "cbbfea39-8fa4-4ce2-b64a-3408dd45332f",
   "metadata": {},
   "source": [
    "### Set"
   ]
  },
  {
   "cell_type": "code",
   "execution_count": null,
   "id": "da8302ee-baf4-417a-86fb-1404d990640f",
   "metadata": {},
   "outputs": [],
   "source": [
    "x = {\"a\", \"b\", \"c\", \"d\"}"
   ]
  },
  {
   "cell_type": "code",
   "execution_count": null,
   "id": "ae763f01-797e-4e96-b0e8-b84b7e1a7401",
   "metadata": {},
   "outputs": [
    {
     "data": {
      "text/plain": [
       "{'a', 'b', 'c', 'd'}"
      ]
     },
     "execution_count": null,
     "metadata": {},
     "output_type": "execute_result"
    }
   ],
   "source": [
    "x"
   ]
  },
  {
   "cell_type": "markdown",
   "id": "1c043767-2cb1-4760-89bc-dacc3f205cf7",
   "metadata": {},
   "source": [
    "Refactor using `Type Hints`"
   ]
  },
  {
   "cell_type": "code",
   "execution_count": null,
   "id": "95c42497-4808-4b8e-ac7a-b4fb377f365e",
   "metadata": {},
   "outputs": [],
   "source": [
    "x: set[str, ...] = {\"a\", \"b\", \"c\", \"d\"}"
   ]
  },
  {
   "cell_type": "code",
   "execution_count": null,
   "id": "a94758b3-2500-447e-b405-4dafa9c10cdc",
   "metadata": {},
   "outputs": [
    {
     "data": {
      "text/plain": [
       "{'a', 'b', 'c', 'd'}"
      ]
     },
     "execution_count": null,
     "metadata": {},
     "output_type": "execute_result"
    }
   ],
   "source": [
    "x"
   ]
  },
  {
   "cell_type": "markdown",
   "id": "db00db49-ba16-4d2d-a150-86d72d2935bc",
   "metadata": {},
   "source": [
    "### Optional Type"
   ]
  },
  {
   "cell_type": "markdown",
   "id": "7c92af98-83b6-490f-88a0-fcbb0f0a9005",
   "metadata": {},
   "source": [
    "##### Example 1"
   ]
  },
  {
   "cell_type": "code",
   "execution_count": null,
   "id": "16a87140-6345-42fa-8c53-e2620b51696d",
   "metadata": {},
   "outputs": [],
   "source": [
    "def is_valid(value=False):\n",
    "    return value"
   ]
  },
  {
   "cell_type": "code",
   "execution_count": null,
   "id": "4f2cee46-76b7-4058-8528-982410a1afb7",
   "metadata": {},
   "outputs": [
    {
     "data": {
      "text/plain": [
       "False"
      ]
     },
     "execution_count": null,
     "metadata": {},
     "output_type": "execute_result"
    }
   ],
   "source": [
    "is_valid()"
   ]
  },
  {
   "cell_type": "code",
   "execution_count": null,
   "id": "571cd5a5-c7cb-44c5-a81f-ef0939686a5c",
   "metadata": {},
   "outputs": [
    {
     "data": {
      "text/plain": [
       "True"
      ]
     },
     "execution_count": null,
     "metadata": {},
     "output_type": "execute_result"
    }
   ],
   "source": [
    "is_valid(True)"
   ]
  },
  {
   "cell_type": "markdown",
   "id": "7cdd2dca-822a-4c5d-83ea-d33d5f4dd0d2",
   "metadata": {},
   "source": [
    "Refactor using `Type Hints`"
   ]
  },
  {
   "cell_type": "code",
   "execution_count": null,
   "id": "6dcb47a7-41ab-45e6-9f51-445fa85971de",
   "metadata": {},
   "outputs": [],
   "source": [
    "from typing import Optional"
   ]
  },
  {
   "cell_type": "code",
   "execution_count": null,
   "id": "29f62027-5e43-4268-8c3e-83c0729950e4",
   "metadata": {},
   "outputs": [],
   "source": [
    "def is_valid(value: Optional[bool]=False) -> bool:\n",
    "    return value"
   ]
  },
  {
   "cell_type": "code",
   "execution_count": null,
   "id": "a8c590ef-c4ad-4272-b1dc-311ee7b8cd5e",
   "metadata": {},
   "outputs": [
    {
     "data": {
      "text/plain": [
       "False"
      ]
     },
     "execution_count": null,
     "metadata": {},
     "output_type": "execute_result"
    }
   ],
   "source": [
    "is_valid()"
   ]
  },
  {
   "cell_type": "code",
   "execution_count": null,
   "id": "9738c176-285c-4dfc-9848-de8eac335453",
   "metadata": {},
   "outputs": [
    {
     "data": {
      "text/plain": [
       "True"
      ]
     },
     "execution_count": null,
     "metadata": {},
     "output_type": "execute_result"
    }
   ],
   "source": [
    "is_valid(True)"
   ]
  },
  {
   "cell_type": "markdown",
   "id": "91c72f20-6b87-4187-baac-56a9aa4dd280",
   "metadata": {},
   "source": [
    "### Custom Types"
   ]
  },
  {
   "cell_type": "markdown",
   "id": "2c9099e5-44f5-4181-ab56-9228ebfe19fd",
   "metadata": {},
   "source": [
    "##### Example 1"
   ]
  },
  {
   "cell_type": "code",
   "execution_count": null,
   "id": "a801123c-7049-4248-aaf0-dde2051ec06e",
   "metadata": {},
   "outputs": [],
   "source": [
    "def coordinate(v):\n",
    "    return v"
   ]
  },
  {
   "cell_type": "code",
   "execution_count": null,
   "id": "a06e1f6a-dac4-4d56-b26b-a3b18db197d4",
   "metadata": {},
   "outputs": [
    {
     "data": {
      "text/plain": [
       "[1.1, 2.2, 3.3]"
      ]
     },
     "execution_count": null,
     "metadata": {},
     "output_type": "execute_result"
    }
   ],
   "source": [
    "coordinate([1.1, 2.2, 3.3])"
   ]
  },
  {
   "cell_type": "markdown",
   "id": "c8638fe3-350f-4508-8928-da32703fb358",
   "metadata": {},
   "source": [
    "Create a custom type hint `Vector` and refactor the code"
   ]
  },
  {
   "cell_type": "code",
   "execution_count": null,
   "id": "b18e35e1-32ad-42d0-8fce-bc8e2c3e3d3c",
   "metadata": {},
   "outputs": [],
   "source": [
    "Vector = list[float]"
   ]
  },
  {
   "cell_type": "code",
   "execution_count": null,
   "id": "6654e4ee-3c40-437f-9133-058272210f14",
   "metadata": {},
   "outputs": [],
   "source": [
    "def coordinate(v: Vector) -> Vector:\n",
    "    return v"
   ]
  },
  {
   "cell_type": "code",
   "execution_count": null,
   "id": "eec753a5-27e6-4b02-8884-fb09c52c414a",
   "metadata": {},
   "outputs": [
    {
     "data": {
      "text/plain": [
       "[1.1, 2.2, 3.3]"
      ]
     },
     "execution_count": null,
     "metadata": {},
     "output_type": "execute_result"
    }
   ],
   "source": [
    "coordinate([1.1, 2.2, 3.3])"
   ]
  },
  {
   "cell_type": "markdown",
   "id": "bf1dc612-38fb-4062-8f4d-fc8e733c2b6a",
   "metadata": {},
   "source": [
    "### Any Type"
   ]
  },
  {
   "cell_type": "code",
   "execution_count": null,
   "id": "e5cda959-411e-4420-92fe-922884a14305",
   "metadata": {},
   "outputs": [],
   "source": [
    "def hello(whatever):\n",
    "    return f\"What's up {whatever}\""
   ]
  },
  {
   "cell_type": "code",
   "execution_count": null,
   "id": "f79053d7-db22-40e0-967a-013c4bbc80d6",
   "metadata": {},
   "outputs": [
    {
     "data": {
      "text/plain": [
       "\"What's up 71\""
      ]
     },
     "execution_count": null,
     "metadata": {},
     "output_type": "execute_result"
    }
   ],
   "source": [
    "hello(71)"
   ]
  },
  {
   "cell_type": "code",
   "execution_count": null,
   "id": "2a36128e-6cbf-4f64-917c-68fbd2ecfe93",
   "metadata": {},
   "outputs": [
    {
     "data": {
      "text/plain": [
       "\"What's up Shivon\""
      ]
     },
     "execution_count": null,
     "metadata": {},
     "output_type": "execute_result"
    }
   ],
   "source": [
    "hello('Shivon')"
   ]
  },
  {
   "cell_type": "markdown",
   "id": "af04b947-31da-42f7-b742-eb483ba231b9",
   "metadata": {},
   "source": [
    "Refactor using `Type Hints`"
   ]
  },
  {
   "cell_type": "code",
   "execution_count": null,
   "id": "1cca93ba-38c9-4151-8f77-584caef112dd",
   "metadata": {},
   "outputs": [],
   "source": [
    "def hello(whatever: any) -> str:\n",
    "    return f\"What's up {whatever}\""
   ]
  },
  {
   "cell_type": "code",
   "execution_count": null,
   "id": "ddaf3d21-87d9-46fd-a88c-9e24983db714",
   "metadata": {},
   "outputs": [
    {
     "data": {
      "text/plain": [
       "\"What's up 71\""
      ]
     },
     "execution_count": null,
     "metadata": {},
     "output_type": "execute_result"
    }
   ],
   "source": [
    "hello(71)"
   ]
  },
  {
   "cell_type": "code",
   "execution_count": null,
   "id": "213fa8ad-4ff1-473a-89a1-947193b58724",
   "metadata": {},
   "outputs": [
    {
     "data": {
      "text/plain": [
       "\"What's up Shivon\""
      ]
     },
     "execution_count": null,
     "metadata": {},
     "output_type": "execute_result"
    }
   ],
   "source": [
    "hello('Shivon')"
   ]
  },
  {
   "cell_type": "markdown",
   "id": "86d55747-c05f-43a1-b575-5dc2a6b8c3f6",
   "metadata": {},
   "source": [
    "### Sequence Type"
   ]
  },
  {
   "cell_type": "code",
   "execution_count": null,
   "id": "642d3840-cd3d-42a7-8b54-ba799ea8d432",
   "metadata": {},
   "outputs": [],
   "source": [
    "from typing import Sequence"
   ]
  },
  {
   "cell_type": "code",
   "execution_count": null,
   "id": "929acec0-e758-4327-82eb-338ab18f74ff",
   "metadata": {},
   "outputs": [],
   "source": [
    "def foo(collections):\n",
    "    pass"
   ]
  },
  {
   "cell_type": "code",
   "execution_count": null,
   "id": "3cad4d95-15f5-4b06-9c51-dc8ea25e3fd5",
   "metadata": {},
   "outputs": [],
   "source": [
    "foo((\"a\", \"b\", \"c\"))"
   ]
  },
  {
   "cell_type": "code",
   "execution_count": null,
   "id": "1a4cc844-2dea-4628-92e7-26df1a5a0e74",
   "metadata": {},
   "outputs": [],
   "source": [
    "foo([\"a\", \"b\", \"c\"])"
   ]
  },
  {
   "cell_type": "markdown",
   "id": "2bc7e0df-c357-4ca5-8165-025a6f4f4c7b",
   "metadata": {},
   "source": [
    "Refactor using `Type Hints`"
   ]
  },
  {
   "cell_type": "code",
   "execution_count": null,
   "id": "badf2c41-c9ae-4e57-a330-a4b8bea20c6a",
   "metadata": {},
   "outputs": [],
   "source": [
    "def foo(collections: Sequence[str]) -> None:\n",
    "    pass"
   ]
  },
  {
   "cell_type": "code",
   "execution_count": null,
   "id": "bd3eb646-f452-45aa-9562-07c08be0e4c3",
   "metadata": {},
   "outputs": [],
   "source": [
    "foo((\"a\", \"b\", \"c\"))"
   ]
  },
  {
   "cell_type": "code",
   "execution_count": null,
   "id": "02e12793-8e8b-4dff-82f2-5a65829c656b",
   "metadata": {},
   "outputs": [],
   "source": [
    "foo([\"a\", \"b\", \"c\"])"
   ]
  },
  {
   "cell_type": "markdown",
   "id": "e062690f-a8a9-4b67-ae5b-be2f707d0869",
   "metadata": {},
   "source": [
    "### Tuple Type"
   ]
  },
  {
   "cell_type": "code",
   "execution_count": null,
   "id": "3995539e-b725-4ff4-8f08-57f20b7fc36d",
   "metadata": {},
   "outputs": [],
   "source": [
    "x = (3, \"yes\", 7.5)"
   ]
  },
  {
   "cell_type": "code",
   "execution_count": null,
   "id": "dca3c542-ce59-411a-8a12-c51e4ab812b6",
   "metadata": {},
   "outputs": [
    {
     "data": {
      "text/plain": [
       "(3, 'yes', 7.5)"
      ]
     },
     "execution_count": null,
     "metadata": {},
     "output_type": "execute_result"
    }
   ],
   "source": [
    "x"
   ]
  },
  {
   "cell_type": "markdown",
   "id": "963b4155-6316-49e7-a195-4b90cac16ed5",
   "metadata": {},
   "source": [
    "Refactor using `Type Hints`"
   ]
  },
  {
   "cell_type": "code",
   "execution_count": null,
   "id": "666c90aa-3190-45c1-ac36-173eef03e353",
   "metadata": {},
   "outputs": [],
   "source": [
    "x: tuple[int, str, float] = (3, \"yes\", 7.5)"
   ]
  },
  {
   "cell_type": "code",
   "execution_count": null,
   "id": "759fe875-afa2-43cc-9b6a-f4d6f60e216d",
   "metadata": {},
   "outputs": [
    {
     "data": {
      "text/plain": [
       "(3, 'yes', 7.5)"
      ]
     },
     "execution_count": null,
     "metadata": {},
     "output_type": "execute_result"
    }
   ],
   "source": [
    "x"
   ]
  },
  {
   "cell_type": "markdown",
   "id": "2b322f40-4957-417a-a625-74946f95fb0f",
   "metadata": {},
   "source": [
    "### Callable Type"
   ]
  },
  {
   "cell_type": "markdown",
   "id": "d3df9993-3e4d-43e9-9156-628eafded7f5",
   "metadata": {},
   "source": [
    "##### Example 1"
   ]
  },
  {
   "cell_type": "code",
   "execution_count": null,
   "id": "89b0be00-68f8-45c0-8f8f-074bae9fa3b0",
   "metadata": {},
   "outputs": [],
   "source": [
    "def add(a, b, c=3):\n",
    "    return f'want to add {a} and {b} and {c}'"
   ]
  },
  {
   "cell_type": "code",
   "execution_count": null,
   "id": "f263aa46-fa89-491c-a526-a014427692a5",
   "metadata": {},
   "outputs": [],
   "source": [
    "def foo(func):\n",
    "    return func(1, 2)"
   ]
  },
  {
   "cell_type": "code",
   "execution_count": null,
   "id": "9984c87c-5c56-4eb9-b8ca-84100cba5093",
   "metadata": {},
   "outputs": [
    {
     "data": {
      "text/plain": [
       "'want to add 1 and 2 and 3'"
      ]
     },
     "execution_count": null,
     "metadata": {},
     "output_type": "execute_result"
    }
   ],
   "source": [
    "foo(add)"
   ]
  },
  {
   "cell_type": "markdown",
   "id": "338f7a66-f4d0-4e24-b74d-ad066d4d0853",
   "metadata": {},
   "source": [
    "Refactor function `foo` using `Type Hints`"
   ]
  },
  {
   "cell_type": "code",
   "execution_count": null,
   "id": "e4ec6d5f-0073-4154-a386-ce6b232f951a",
   "metadata": {},
   "outputs": [],
   "source": [
    "from typing import Callable"
   ]
  },
  {
   "cell_type": "code",
   "execution_count": null,
   "id": "41c9a78f-89b7-461b-b418-5c767824f770",
   "metadata": {},
   "outputs": [],
   "source": [
    "def foo(func: Callable[[int, int], str]) -> str:\n",
    "    return func(1, 2)"
   ]
  },
  {
   "cell_type": "code",
   "execution_count": null,
   "id": "2ad989aa-e146-46ea-a8dc-aa3fa9652804",
   "metadata": {},
   "outputs": [
    {
     "data": {
      "text/plain": [
       "'want to add 1 and 2 and 3'"
      ]
     },
     "execution_count": null,
     "metadata": {},
     "output_type": "execute_result"
    }
   ],
   "source": [
    "foo(add)"
   ]
  },
  {
   "cell_type": "markdown",
   "id": "1db4df5b-1a84-4f5f-ae13-f9329cbc2a25",
   "metadata": {},
   "source": [
    "##### Example 2"
   ]
  },
  {
   "cell_type": "code",
   "execution_count": null,
   "id": "035dd1c2-169b-4c6b-9637-2e37fec05ef3",
   "metadata": {},
   "outputs": [],
   "source": [
    "def foo():\n",
    "    def add(x, y):\n",
    "        return x + y\n",
    "    \n",
    "    return add"
   ]
  },
  {
   "cell_type": "code",
   "execution_count": null,
   "id": "0c846d4f-f8b4-42e2-8c52-c63ca3c9fd41",
   "metadata": {},
   "outputs": [
    {
     "data": {
      "text/plain": [
       "3"
      ]
     },
     "execution_count": null,
     "metadata": {},
     "output_type": "execute_result"
    }
   ],
   "source": [
    "foo()(1, 2)"
   ]
  },
  {
   "cell_type": "markdown",
   "id": "1cc0950e-d6bb-4a1e-976a-127059b21ec9",
   "metadata": {},
   "source": [
    "Refactor using `Type Hints`"
   ]
  },
  {
   "cell_type": "code",
   "execution_count": null,
   "id": "98e6ce6b-68cc-4816-a3c9-225ce4e38faa",
   "metadata": {},
   "outputs": [],
   "source": [
    "def foo() -> Callable[[int, int], int]:\n",
    "    def add(x: int, y: int) -> int:\n",
    "        return x + y\n",
    "    \n",
    "    return add"
   ]
  },
  {
   "cell_type": "code",
   "execution_count": null,
   "id": "9e5b3375-323c-4b2e-a7e5-202efb993ddb",
   "metadata": {},
   "outputs": [
    {
     "data": {
      "text/plain": [
       "3"
      ]
     },
     "execution_count": null,
     "metadata": {},
     "output_type": "execute_result"
    }
   ],
   "source": [
    "foo()(1, 2)"
   ]
  },
  {
   "cell_type": "markdown",
   "id": "8d3d8fc8-2b64-4c90-ab9b-832e3c3eb063",
   "metadata": {},
   "source": [
    "### Generics"
   ]
  },
  {
   "cell_type": "markdown",
   "id": "291a6537-6b34-47d9-b994-796c9dba938a",
   "metadata": {},
   "source": [
    "### Iterator"
   ]
  },
  {
   "cell_type": "markdown",
   "id": "3fdbf599-de5b-46d4-acbb-8783e4717214",
   "metadata": {},
   "source": [
    "##### Example 1"
   ]
  },
  {
   "cell_type": "code",
   "execution_count": null,
   "id": "ea34ae69-4b0d-4d5b-9e2c-7e8a2c6df418",
   "metadata": {},
   "outputs": [],
   "source": [
    "def g(n: int) -> Iterator[int]:\n",
    "    i = 0\n",
    "    while i < n:\n",
    "        yield i\n",
    "        i += 1"
   ]
  },
  {
   "cell_type": "code",
   "execution_count": null,
   "id": "cdf7e415-f063-4dc0-8f56-9e1c92549d94",
   "metadata": {},
   "outputs": [
    {
     "data": {
      "text/plain": [
       "0"
      ]
     },
     "execution_count": null,
     "metadata": {},
     "output_type": "execute_result"
    }
   ],
   "source": [
    "next(g(3))"
   ]
  },
  {
   "cell_type": "code",
   "execution_count": null,
   "id": "9f8f8610-3646-4916-b4c7-9181ffd39993",
   "metadata": {},
   "outputs": [
    {
     "data": {
      "text/plain": [
       "0"
      ]
     },
     "execution_count": null,
     "metadata": {},
     "output_type": "execute_result"
    }
   ],
   "source": [
    "next(g(3))"
   ]
  },
  {
   "cell_type": "markdown",
   "id": "8eab9271-d255-48bf-a894-6dd15ea5461a",
   "metadata": {},
   "source": [
    "### Union Type"
   ]
  },
  {
   "cell_type": "markdown",
   "id": "1c58f1d9-422a-4ea2-8942-fb6cf79b08cb",
   "metadata": {},
   "source": [
    "`x` has a fixed size and has no order type"
   ]
  },
  {
   "cell_type": "code",
   "execution_count": null,
   "id": "4d077d58-9935-46b8-a8fe-eeffff45cbc3",
   "metadata": {},
   "outputs": [],
   "source": [
    "x = [3, 5, \"test\", \"fun\", 41.1, \"hell ya\"]"
   ]
  },
  {
   "cell_type": "markdown",
   "id": "aae57ed8-f2af-4ac6-9fdf-07e186e5a6a7",
   "metadata": {},
   "source": [
    "Refactor using `Type Hints`"
   ]
  },
  {
   "cell_type": "code",
   "execution_count": null,
   "id": "abcd8a8e-a96d-46fd-995a-577207359076",
   "metadata": {},
   "outputs": [],
   "source": [
    "from typing import Union"
   ]
  },
  {
   "cell_type": "code",
   "execution_count": null,
   "id": "f7722aa0-1480-487d-a0ce-e855a6e98067",
   "metadata": {},
   "outputs": [],
   "source": [
    "x: list[Union[int, str]] = [3, 5, \"test\", \"fun\", 41.1, \"hell ya\"]"
   ]
  },
  {
   "cell_type": "code",
   "execution_count": null,
   "id": "98fd7d55-8356-4d7a-886b-c753320255b1",
   "metadata": {},
   "outputs": [
    {
     "data": {
      "text/plain": [
       "[3, 5, 'test', 'fun', 41.1, 'hell ya']"
      ]
     },
     "execution_count": null,
     "metadata": {},
     "output_type": "execute_result"
    }
   ],
   "source": [
    "x"
   ]
  },
  {
   "cell_type": "markdown",
   "id": "87aadeb9-9134-4bda-bba9-36c40c9d68ea",
   "metadata": {},
   "source": [
    "### Class"
   ]
  },
  {
   "cell_type": "markdown",
   "id": "6e3b6815-feb9-4df0-a3b8-1cdc13b54545",
   "metadata": {},
   "source": [
    "##### Example 1"
   ]
  },
  {
   "cell_type": "code",
   "execution_count": null,
   "id": "d7129018-4163-4386-8f42-660721307457",
   "metadata": {},
   "outputs": [],
   "source": [
    "class Atom:\n",
    "    def __init__(self, n_protons):\n",
    "        pass"
   ]
  },
  {
   "cell_type": "code",
   "execution_count": null,
   "id": "b30b422d-a539-47d9-b3d6-d1d9f3eae068",
   "metadata": {},
   "outputs": [
    {
     "data": {
      "text/plain": [
       "<__main__.Atom>"
      ]
     },
     "execution_count": null,
     "metadata": {},
     "output_type": "execute_result"
    }
   ],
   "source": [
    "Atom(1)"
   ]
  },
  {
   "cell_type": "markdown",
   "id": "0c524b18-cec3-4cf9-863d-c93c89e2436a",
   "metadata": {},
   "source": [
    "Refactor using `Type Hints`"
   ]
  },
  {
   "cell_type": "code",
   "execution_count": null,
   "id": "aeaa4a28-572b-467f-a57b-64d0619e3cfa",
   "metadata": {},
   "outputs": [],
   "source": [
    "class Atom:\n",
    "    def __init__(self, n_protons: int) -> None:\n",
    "        pass"
   ]
  },
  {
   "cell_type": "markdown",
   "id": "2169a56d-6938-45a8-ae43-580c71145dec",
   "metadata": {},
   "source": [
    "##### Example 2"
   ]
  },
  {
   "cell_type": "code",
   "execution_count": null,
   "id": "5a862034-4abc-4bca-82c0-6e287152b6ff",
   "metadata": {},
   "outputs": [],
   "source": [
    "class Compound:\n",
    "    pass"
   ]
  },
  {
   "cell_type": "code",
   "execution_count": null,
   "id": "271a2308-3e1c-42f8-8c4f-ce6f0a428a07",
   "metadata": {},
   "outputs": [],
   "source": [
    "H2O = Compound()"
   ]
  },
  {
   "cell_type": "markdown",
   "id": "744dcc8a-7179-4591-bea9-63c64efecd2e",
   "metadata": {},
   "source": [
    "Refactor using `Type Hints`"
   ]
  },
  {
   "cell_type": "code",
   "execution_count": null,
   "id": "61f3ad68-72a7-4c2f-8eaf-186c9260b87c",
   "metadata": {},
   "outputs": [],
   "source": [
    "H2O: Compound = Compound()"
   ]
  },
  {
   "cell_type": "code",
   "execution_count": null,
   "id": "d08a33b7-0a71-44d0-b8b7-9e54519da15d",
   "metadata": {},
   "outputs": [],
   "source": []
  }
 ],
 "metadata": {
  "kernelspec": {
   "display_name": "Python 3 (ipykernel)",
   "language": "python",
   "name": "python3"
  }
 },
 "nbformat": 4,
 "nbformat_minor": 5
}
