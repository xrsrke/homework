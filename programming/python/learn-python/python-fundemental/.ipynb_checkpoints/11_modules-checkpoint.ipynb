{
 "cells": [
  {
   "cell_type": "markdown",
   "id": "2bda1e72-212f-4072-bc6a-dd20b3c14c71",
   "metadata": {},
   "source": [
    "### 11. Modules"
   ]
  },
  {
   "cell_type": "code",
   "execution_count": null,
   "id": "4eb3e269-d1fc-40d1-be4d-3c40d43e4906",
   "metadata": {},
   "outputs": [],
   "source": []
  }
 ],
 "metadata": {
  "kernelspec": {
   "display_name": "Python 3 (ipykernel)",
   "language": "python",
   "name": "python3"
  },
  "language_info": {
   "codemirror_mode": {
    "name": "ipython",
    "version": 3
   },
   "file_extension": ".py",
   "mimetype": "text/x-python",
   "name": "python",
   "nbconvert_exporter": "python",
   "pygments_lexer": "ipython3",
   "version": "3.9.7"
  }
 },
 "nbformat": 4,
 "nbformat_minor": 5
}
