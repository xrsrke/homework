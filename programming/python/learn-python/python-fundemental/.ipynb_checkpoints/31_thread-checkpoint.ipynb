{
 "cells": [
  {
   "cell_type": "markdown",
   "id": "be806bb5-58f3-452c-85d8-6d9e1968f247",
   "metadata": {},
   "source": [
    "### `Lock`"
   ]
  },
  {
   "cell_type": "markdown",
   "id": "9e2c07ac-32e1-4c3f-ab6e-ccf1b863ea6b",
   "metadata": {},
   "source": [
    "##### Example 1"
   ]
  },
  {
   "cell_type": "code",
   "execution_count": null,
   "id": "90213d90-0562-4c10-a1b9-df10a0f6c402",
   "metadata": {},
   "outputs": [],
   "source": [
    "counter = 0"
   ]
  },
  {
   "cell_type": "code",
   "execution_count": null,
   "id": "ed89c3d0-9dc7-4b9f-bcc2-efdac76ac26d",
   "metadata": {},
   "outputs": [],
   "source": [
    "import threading"
   ]
  },
  {
   "cell_type": "code",
   "execution_count": null,
   "id": "f8c678b4-9d69-4a0f-ba29-0176acb6f8c7",
   "metadata": {},
   "outputs": [
    {
     "data": {
      "text/plain": [
       "0"
      ]
     },
     "execution_count": null,
     "metadata": {},
     "output_type": "execute_result"
    }
   ],
   "source": [
    "counter"
   ]
  },
  {
   "cell_type": "code",
   "execution_count": null,
   "id": "4a7c1b10-33a5-41aa-a3e7-b05bd2324930",
   "metadata": {},
   "outputs": [],
   "source": [
    "def increment_counter():\n",
    "    global counter\n",
    "    counter += 1\n",
    "    print(\"Counter:\", counter)"
   ]
  },
  {
   "cell_type": "markdown",
   "id": "6be319ce-495e-4eb0-9d9b-e232dcce0e90",
   "metadata": {},
   "source": [
    "Create `4` threads and execute function `increment_counter`, but only one thread at a time"
   ]
  },
  {
   "cell_type": "code",
   "execution_count": null,
   "id": "777bb83a-2d36-46d1-8404-43ca42636336",
   "metadata": {},
   "outputs": [],
   "source": [
    "lock = threading.Lock()"
   ]
  },
  {
   "cell_type": "code",
   "execution_count": null,
   "id": "2e7fab7e-3d0e-4ee8-91a2-12605adb1e92",
   "metadata": {},
   "outputs": [],
   "source": [
    "def target():\n",
    "    with lock:\n",
    "        increment_counter()"
   ]
  },
  {
   "cell_type": "code",
   "execution_count": null,
   "id": "cad418d6-bf10-43c5-8e88-947ec6c2ff9c",
   "metadata": {},
   "outputs": [
    {
     "name": "stdout",
     "output_type": "stream",
     "text": [
      "Counter: 1\n",
      "Counter: 2\n",
      "Counter: 3\n",
      "Counter: 4\n"
     ]
    }
   ],
   "source": [
    "for _ in range(4):\n",
    "    thread = threading.Thread(target=target)\n",
    "    thread.start()"
   ]
  },
  {
   "cell_type": "code",
   "execution_count": null,
   "id": "5c101df6-2632-412d-b7dc-9f7a63ae02a1",
   "metadata": {},
   "outputs": [],
   "source": []
  },
  {
   "cell_type": "code",
   "execution_count": null,
   "id": "bb305bd7-9f03-4dfd-b475-5645e7a3d5ad",
   "metadata": {},
   "outputs": [],
   "source": []
  }
 ],
 "metadata": {
  "kernelspec": {
   "display_name": "Python 3 (ipykernel)",
   "language": "python",
   "name": "python3"
  }
 },
 "nbformat": 4,
 "nbformat_minor": 5
}
