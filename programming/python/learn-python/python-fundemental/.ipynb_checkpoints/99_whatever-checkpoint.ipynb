{
 "cells": [
  {
   "cell_type": "code",
   "execution_count": null,
   "id": "d710d2a3-c01f-4aa0-aead-1e3633210b06",
   "metadata": {},
   "outputs": [],
   "source": [
    "numbers = [1, 2, 3, 4, 5]"
   ]
  },
  {
   "cell_type": "code",
   "execution_count": null,
   "id": "654f8572-30e6-45ae-bc7e-ed61b78fe121",
   "metadata": {},
   "outputs": [
    {
     "data": {
      "text/plain": [
       "[1, 2, 3, 4, 5]"
      ]
     },
     "execution_count": null,
     "metadata": {},
     "output_type": "execute_result"
    }
   ],
   "source": [
    "numbers"
   ]
  },
  {
   "cell_type": "code",
   "execution_count": null,
   "id": "e8d26757-52ec-46c2-a382-631ef3849ee0",
   "metadata": {},
   "outputs": [],
   "source": [
    "import functools"
   ]
  },
  {
   "cell_type": "markdown",
   "id": "4cb3b5aa-3a0a-47db-a612-d55b38c12a2d",
   "metadata": {},
   "source": [
    "Calculate the sum of `numbers` using `functools`. Explain your code"
   ]
  },
  {
   "cell_type": "code",
   "execution_count": null,
   "id": "3e963c1e-5258-4e87-a512-90f2b2fcc85e",
   "metadata": {},
   "outputs": [],
   "source": [
    "result = functools.reduce(lambda x, y: x + y, numbers)"
   ]
  },
  {
   "cell_type": "markdown",
   "id": "2d1365bb-9b1b-4ed3-b1d0-ffc76c134f4b",
   "metadata": {},
   "source": [
    "**Explain**\n",
    "\n",
    "It starts with the first number (or a provided initial value), then adds the second number to the result, then adds the third number to the new result, and so on until all numbers have been added."
   ]
  },
  {
   "cell_type": "code",
   "execution_count": null,
   "id": "2879e56a-9ed4-400d-9a7e-f9cebb4915d2",
   "metadata": {},
   "outputs": [
    {
     "data": {
      "text/plain": [
       "15"
      ]
     },
     "execution_count": null,
     "metadata": {},
     "output_type": "execute_result"
    }
   ],
   "source": [
    "result"
   ]
  },
  {
   "cell_type": "code",
   "execution_count": null,
   "id": "6a2d9c47-6aad-483c-97ed-882776fbbed3",
   "metadata": {},
   "outputs": [],
   "source": []
  }
 ],
 "metadata": {
  "kernelspec": {
   "display_name": "Python 3 (ipykernel)",
   "language": "python",
   "name": "python3"
  }
 },
 "nbformat": 4,
 "nbformat_minor": 5
}
