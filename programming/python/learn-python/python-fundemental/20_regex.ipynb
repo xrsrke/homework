{
 "cells": [
  {
   "cell_type": "code",
   "execution_count": null,
   "id": "6e8ada38-6eac-4e37-b495-04660ba584ec",
   "metadata": {},
   "outputs": [],
   "source": [
    "import re"
   ]
  },
  {
   "cell_type": "markdown",
   "id": "1913b47d-7a53-4ffd-8f53-605398282792",
   "metadata": {},
   "source": [
    "##### Example 1: raw string"
   ]
  },
  {
   "cell_type": "code",
   "execution_count": null,
   "id": "e755fec6-4935-40eb-835b-0c00cbf421f8",
   "metadata": {},
   "outputs": [],
   "source": [
    "txts = '\\rTab'"
   ]
  },
  {
   "cell_type": "code",
   "execution_count": null,
   "id": "c60f1c2a-89d7-4753-804c-a8ec818fe175",
   "metadata": {},
   "outputs": [
    {
     "name": "stdout",
     "output_type": "stream",
     "text": [
      "Tab\n"
     ]
    }
   ],
   "source": [
    "print(txts)"
   ]
  },
  {
   "cell_type": "markdown",
   "id": "fd7b186c-7256-4efb-b7c6-d5bb90dd3a5f",
   "metadata": {},
   "source": [
    "Modify `txts` to display as raw string"
   ]
  },
  {
   "cell_type": "code",
   "execution_count": null,
   "id": "31048909-07d5-4a92-bf00-3db68fd9ff18",
   "metadata": {},
   "outputs": [],
   "source": [
    "txts = r'\\rTab'"
   ]
  },
  {
   "cell_type": "code",
   "execution_count": null,
   "id": "e30e2843-3ed7-4ea3-84d3-316fb60290b8",
   "metadata": {},
   "outputs": [
    {
     "data": {
      "text/plain": [
       "'\\\\rTab'"
      ]
     },
     "execution_count": null,
     "metadata": {},
     "output_type": "execute_result"
    }
   ],
   "source": [
    "txts"
   ]
  },
  {
   "cell_type": "markdown",
   "id": "da717b60-aeb3-4a68-94de-bc4b54734a77",
   "metadata": {},
   "source": [
    "##### Example 2"
   ]
  },
  {
   "cell_type": "code",
   "execution_count": null,
   "id": "a42a322d-db58-4405-97a3-47f7cbd7b961",
   "metadata": {},
   "outputs": [],
   "source": [
    "import re"
   ]
  },
  {
   "cell_type": "code",
   "execution_count": null,
   "id": "162e1893-726b-4bb6-b137-6cd2c5bf6f60",
   "metadata": {},
   "outputs": [],
   "source": [
    "string1 = '''\n",
    "abcdefghijklmnopqurtuvwxyz\n",
    "ABCDEFGHIJKLMNOPQRSTUVWXYZ\n",
    "1234567890\n",
    "\n",
    "raynext.com\n",
    "abc\n",
    "'''"
   ]
  },
  {
   "cell_type": "markdown",
   "id": "3a87b582-586a-495a-a1df-910735d85e32",
   "metadata": {},
   "source": [
    "Using regex to find all matches for `abc`"
   ]
  },
  {
   "cell_type": "code",
   "execution_count": null,
   "id": "4b866b71-001c-4e0d-86b0-6be4bd008623",
   "metadata": {},
   "outputs": [],
   "source": [
    "pattern = re.compile(r'abc')"
   ]
  },
  {
   "cell_type": "code",
   "execution_count": null,
   "id": "b311e5fa-a4bd-49a5-9b44-7361150ad43c",
   "metadata": {},
   "outputs": [],
   "source": [
    "matches = pattern.finditer(string1)"
   ]
  },
  {
   "cell_type": "code",
   "execution_count": null,
   "id": "e0c8452e-d65d-4ca8-91af-3c8b55e6c2c6",
   "metadata": {},
   "outputs": [
    {
     "name": "stdout",
     "output_type": "stream",
     "text": [
      "<re.Match object; span=(1, 4), match='abc'>\n",
      "<re.Match object; span=(79, 82), match='abc'>\n"
     ]
    }
   ],
   "source": [
    "for match in matches:\n",
    "    print(match)"
   ]
  },
  {
   "cell_type": "code",
   "execution_count": null,
   "id": "f4931365-8ba7-49d2-a757-6a9b7ed562e4",
   "metadata": {},
   "outputs": [
    {
     "data": {
      "text/plain": [
       "'abc'"
      ]
     },
     "execution_count": null,
     "metadata": {},
     "output_type": "execute_result"
    }
   ],
   "source": [
    "string1[1:4]"
   ]
  },
  {
   "cell_type": "markdown",
   "id": "cc25172e-e700-496a-9bd0-dcb98676a7a3",
   "metadata": {},
   "source": [
    "##### Example 2"
   ]
  },
  {
   "cell_type": "code",
   "execution_count": null,
   "id": "de2557df-e0c0-4ca1-81a6-4a877ef8ab13",
   "metadata": {},
   "outputs": [],
   "source": [
    "import re"
   ]
  },
  {
   "cell_type": "code",
   "execution_count": null,
   "id": "5b9f68ba-e78e-472e-aefb-7cfdf4aa77d7",
   "metadata": {},
   "outputs": [],
   "source": [
    "string1 = '''\n",
    "abcdefghijklmnopqurtuvwxyz\n",
    "ABCDEFGHIJKLMNOPQRSTUVWXYZ\n",
    "1234567890\n",
    "\n",
    "raynext.com\n",
    "abc\n",
    "'''"
   ]
  },
  {
   "cell_type": "markdown",
   "id": "b7733393-9321-4bba-923d-e423a362a879",
   "metadata": {},
   "source": [
    "Using regex to find all matches for `raynext.com`"
   ]
  },
  {
   "cell_type": "code",
   "execution_count": null,
   "id": "7f9b2144-d207-4b20-a034-5bb8de5fd839",
   "metadata": {},
   "outputs": [],
   "source": [
    "pattern = re.compile(r'raynext\\.com')"
   ]
  },
  {
   "cell_type": "code",
   "execution_count": null,
   "id": "e1686223-5658-41ab-9e33-488477dc7d17",
   "metadata": {},
   "outputs": [],
   "source": [
    "matches = pattern.finditer(string1)"
   ]
  },
  {
   "cell_type": "code",
   "execution_count": null,
   "id": "0b4b049b-57d2-4081-b56f-01f2bf402eaa",
   "metadata": {},
   "outputs": [
    {
     "name": "stdout",
     "output_type": "stream",
     "text": [
      "<re.Match object; span=(67, 78), match='raynext.com'>\n"
     ]
    }
   ],
   "source": [
    "for match in matches:\n",
    "    print(match)"
   ]
  },
  {
   "cell_type": "markdown",
   "id": "b2c7c37d-c352-4f0e-ad1f-43fc08c3ae23",
   "metadata": {},
   "source": [
    "##### Example 3"
   ]
  },
  {
   "cell_type": "code",
   "execution_count": null,
   "id": "fe2e067b-0347-45be-b2d8-6062a82ab20c",
   "metadata": {},
   "outputs": [],
   "source": [
    "string1 = '''\n",
    "abcdefghijklmnopqurtuvwxyz\n",
    "ABCDEFGHIJKLMNOPQRSTUVWXYZ\n",
    "1234567890\n",
    "\n",
    "raynext.com\n",
    "abc\n",
    "'''"
   ]
  },
  {
   "cell_type": "markdown",
   "id": "0c91e326-a7b1-42fe-8b00-5115fff8a2ce",
   "metadata": {},
   "source": [
    "Using regex to find all matches for `raynext.com`"
   ]
  },
  {
   "cell_type": "code",
   "execution_count": null,
   "id": "65db5626-8686-4de2-bd5b-7b6f037d6705",
   "metadata": {},
   "outputs": [],
   "source": [
    "pattern = re.compile(r'\\s')"
   ]
  },
  {
   "cell_type": "code",
   "execution_count": null,
   "id": "57a0b75f-ac9f-4b7d-a2ca-a700d06fe22e",
   "metadata": {},
   "outputs": [],
   "source": [
    "matches = pattern.finditer(string1)"
   ]
  },
  {
   "cell_type": "code",
   "execution_count": null,
   "id": "3719e427-ecb1-434b-aeda-ef23db59e3e2",
   "metadata": {},
   "outputs": [
    {
     "name": "stdout",
     "output_type": "stream",
     "text": [
      "<re.Match object; span=(0, 1), match='\\n'>\n",
      "<re.Match object; span=(27, 28), match='\\n'>\n",
      "<re.Match object; span=(54, 55), match='\\n'>\n",
      "<re.Match object; span=(65, 66), match='\\n'>\n",
      "<re.Match object; span=(66, 67), match='\\n'>\n",
      "<re.Match object; span=(78, 79), match='\\n'>\n",
      "<re.Match object; span=(82, 83), match='\\n'>\n"
     ]
    }
   ],
   "source": [
    "for match in matches:\n",
    "    print(match)"
   ]
  },
  {
   "cell_type": "markdown",
   "id": "af1377b3-ad5a-4475-bcab-29a508f99f83",
   "metadata": {},
   "source": [
    "##### Example 4"
   ]
  },
  {
   "cell_type": "code",
   "execution_count": null,
   "id": "271c799f-c775-4d32-af62-8768ddebd433",
   "metadata": {},
   "outputs": [],
   "source": [
    "import re"
   ]
  },
  {
   "cell_type": "code",
   "execution_count": null,
   "id": "43c7ca7e-e363-4ea0-b089-7d167d65b9e4",
   "metadata": {},
   "outputs": [],
   "source": [
    "string4 = '''\n",
    "abcdefghijklmnopqurtuvwxyz\n",
    "ABCDEFGHIJKLMNOPQRSTUVWXYZ\n",
    "1234567890\n",
    "\n",
    "321-555-4321\n",
    "123.555.1234\n",
    "abc\n",
    "'''"
   ]
  },
  {
   "cell_type": "markdown",
   "id": "2bb60144-3a65-4690-a5ef-588490693b6a",
   "metadata": {},
   "source": [
    "Using regex to search three digits that appear in a row"
   ]
  },
  {
   "cell_type": "code",
   "execution_count": null,
   "id": "78b38b7f-fa90-4d1e-936a-eb388a5ea397",
   "metadata": {},
   "outputs": [],
   "source": [
    "pattern = re.compile(r'\\d\\d\\d')"
   ]
  },
  {
   "cell_type": "code",
   "execution_count": null,
   "id": "aeca95b2-7929-40df-8b32-5baebda24b41",
   "metadata": {},
   "outputs": [],
   "source": [
    "matches = pattern.finditer(string4)"
   ]
  },
  {
   "cell_type": "code",
   "execution_count": null,
   "id": "4cf647c9-183f-47c5-86a2-7d35728fc85d",
   "metadata": {},
   "outputs": [
    {
     "name": "stdout",
     "output_type": "stream",
     "text": [
      "<re.Match object; span=(55, 58), match='123'>\n",
      "<re.Match object; span=(58, 61), match='456'>\n",
      "<re.Match object; span=(61, 64), match='789'>\n",
      "<re.Match object; span=(67, 70), match='321'>\n",
      "<re.Match object; span=(71, 74), match='555'>\n",
      "<re.Match object; span=(75, 78), match='432'>\n",
      "<re.Match object; span=(80, 83), match='123'>\n",
      "<re.Match object; span=(84, 87), match='555'>\n",
      "<re.Match object; span=(88, 91), match='123'>\n"
     ]
    }
   ],
   "source": [
    "for match in matches:\n",
    "    print(match)"
   ]
  },
  {
   "cell_type": "code",
   "execution_count": null,
   "id": "188d068c-4127-4e1b-8c87-9d05794ceccd",
   "metadata": {},
   "outputs": [],
   "source": []
  },
  {
   "cell_type": "code",
   "execution_count": null,
   "id": "a5ffebeb-3d81-44a5-a057-0218c096dee8",
   "metadata": {},
   "outputs": [],
   "source": []
  }
 ],
 "metadata": {
  "kernelspec": {
   "display_name": "Python 3 (ipykernel)",
   "language": "python",
   "name": "python3"
  }
 },
 "nbformat": 4,
 "nbformat_minor": 5
}
