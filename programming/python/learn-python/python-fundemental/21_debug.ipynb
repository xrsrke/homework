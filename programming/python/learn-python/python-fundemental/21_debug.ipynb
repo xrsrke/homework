{
 "cells": [
  {
   "cell_type": "markdown",
   "id": "4aeb5cc4",
   "metadata": {},
   "source": [
    "# Standard Library"
   ]
  },
  {
   "cell_type": "markdown",
   "id": "d1a660ed",
   "metadata": {},
   "source": [
    "### Logging Basics"
   ]
  },
  {
   "cell_type": "markdown",
   "id": "a3f260d7",
   "metadata": {},
   "source": [
    "##### Example 1"
   ]
  },
  {
   "cell_type": "code",
   "execution_count": null,
   "id": "91e31e62",
   "metadata": {},
   "outputs": [],
   "source": [
    "import logging"
   ]
  },
  {
   "cell_type": "code",
   "execution_count": null,
   "id": "e5f7a899",
   "metadata": {},
   "outputs": [],
   "source": [
    "def add(x, y):\n",
    "    return x + y"
   ]
  },
  {
   "cell_type": "markdown",
   "id": "ca8881d9",
   "metadata": {},
   "source": [
    "Add logging to function `add` works as bellow"
   ]
  },
  {
   "cell_type": "code",
   "execution_count": null,
   "id": "febbee92",
   "metadata": {},
   "outputs": [],
   "source": [
    "def add(x, y):\n",
    "    logging.warning(f\"x={x}, y={y}\")\n",
    "    return x + y"
   ]
  },
  {
   "cell_type": "code",
   "execution_count": null,
   "id": "ea31f7b9",
   "metadata": {},
   "outputs": [
    {
     "name": "stderr",
     "output_type": "stream",
     "text": [
      "WARNING:root:x=2, y=3\n"
     ]
    },
    {
     "data": {
      "text/plain": [
       "5"
      ]
     },
     "execution_count": null,
     "metadata": {},
     "output_type": "execute_result"
    }
   ],
   "source": [
    "add(2, 3)"
   ]
  },
  {
   "cell_type": "markdown",
   "id": "85e52fa2",
   "metadata": {},
   "source": [
    "# Loguru"
   ]
  },
  {
   "cell_type": "markdown",
   "id": "38c1342b",
   "metadata": {},
   "source": [
    "##### Example 1"
   ]
  },
  {
   "cell_type": "code",
   "execution_count": null,
   "id": "bb220cc4",
   "metadata": {},
   "outputs": [],
   "source": [
    "from loguru import logger"
   ]
  },
  {
   "cell_type": "markdown",
   "id": "77f5a6cb",
   "metadata": {},
   "source": [
    "Print a debug log as bellow"
   ]
  },
  {
   "cell_type": "code",
   "execution_count": null,
   "id": "9c28c5d3",
   "metadata": {},
   "outputs": [],
   "source": [
    "import sys"
   ]
  },
  {
   "cell_type": "code",
   "execution_count": null,
   "id": "ee71e8e2",
   "metadata": {},
   "outputs": [
    {
     "data": {
      "text/plain": [
       "1"
      ]
     },
     "execution_count": null,
     "metadata": {},
     "output_type": "execute_result"
    }
   ],
   "source": [
    "logger.add(sys.stderr, format=\"{time} {message}\")"
   ]
  },
  {
   "cell_type": "code",
   "execution_count": null,
   "id": "6eb58857",
   "metadata": {},
   "outputs": [
    {
     "name": "stderr",
     "output_type": "stream",
     "text": [
      "2022-10-27 14:04:01.294 | DEBUG    | __main__:<cell line: 1>:1 - Hello logs\n",
      "2022-10-27T14:04:01.294750+0700 Hello logs\n"
     ]
    }
   ],
   "source": [
    "logger.debug('Hello logs')"
   ]
  },
  {
   "cell_type": "markdown",
   "id": "b0bddd2a",
   "metadata": {},
   "source": [
    "##### Example 2"
   ]
  },
  {
   "cell_type": "code",
   "execution_count": null,
   "id": "449ab4c6",
   "metadata": {},
   "outputs": [
    {
     "data": {
      "text/plain": [
       "4"
      ]
     },
     "execution_count": null,
     "metadata": {},
     "output_type": "execute_result"
    }
   ],
   "source": [
    "logger.add(\"file_{time}.log\")"
   ]
  },
  {
   "cell_type": "code",
   "execution_count": null,
   "id": "bebb9b2e",
   "metadata": {},
   "outputs": [
    {
     "name": "stderr",
     "output_type": "stream",
     "text": [
      "2022-10-27 14:14:29.602 | INFO     | __main__:<cell line: 3>:3 - Contextualize your logger easily\n",
      "2022-10-27T14:14:29.602318+0700 Contextualize your logger easily\n",
      "2022-10-27 14:14:29.609 | INFO     | __main__:<cell line: 4>:4 - Inline binding of extra attribute\n",
      "2022-10-27T14:14:29.609533+0700 Inline binding of extra attribute\n",
      "2022-10-27 14:14:29.612 | INFO     | __main__:<cell line: 5>:5 - Use kwargs to add context during formatting: anybody\n",
      "2022-10-27T14:14:29.612302+0700 Use kwargs to add context during formatting: anybody\n"
     ]
    }
   ],
   "source": [
    "logger.add(\"file.log\", format=\"{extra[ip]} {extra[user]} {message}\")\n",
    "context_logger = logger.bind(ip=\"192.168.0.1\", user=\"someone\")\n",
    "context_logger.info(\"Contextualize your logger easily\")\n",
    "context_logger.bind(user=\"someone_else\").info(\"Inline binding of extra attribute\")\n",
    "context_logger.info(\"Use kwargs to add context during formatting: {user}\", user=\"anybody\")"
   ]
  },
  {
   "cell_type": "code",
   "execution_count": null,
   "id": "e135072b",
   "metadata": {},
   "outputs": [],
   "source": [
    "import sys"
   ]
  },
  {
   "cell_type": "code",
   "execution_count": null,
   "id": "f2221a5f",
   "metadata": {},
   "outputs": [
    {
     "name": "stderr",
     "output_type": "stream",
     "text": [
      "2022-10-27 14:16:35.759 | INFO     | __main__:<cell line: 4>:4 - product page opened\n",
      "October 27, 2022 > 14:16:35 | INFO | product page opened | {'seller_id': '001', 'product_id': '123'}\n",
      "2022-10-27 14:16:35.765 | INFO     | __main__:<cell line: 5>:5 - product updated\n",
      "October 27, 2022 > 14:16:35 | INFO | product updated | {'seller_id': '001', 'product_id': '123'}\n",
      "2022-10-27 14:16:35.769 | INFO     | __main__:<cell line: 6>:6 - product page closed\n",
      "October 27, 2022 > 14:16:35 | INFO | product page closed | {'seller_id': '001', 'product_id': '123'}\n"
     ]
    }
   ],
   "source": [
    "logger.add(sys.stderr, format=\"{time:MMMM D, YYYY > HH:mm:ss} | {level} | {message} | {extra}\")\n",
    "\n",
    "childLogger = logger.bind(seller_id=\"001\", product_id=\"123\")\n",
    "childLogger.info(\"product page opened\")\n",
    "childLogger.info(\"product updated\")\n",
    "childLogger.info(\"product page closed\")"
   ]
  },
  {
   "cell_type": "code",
   "execution_count": null,
   "id": "e6a6c6c1",
   "metadata": {},
   "outputs": [],
   "source": []
  }
 ],
 "metadata": {
  "kernelspec": {
   "display_name": "Python 3 (ipykernel)",
   "language": "python",
   "name": "python3"
  }
 },
 "nbformat": 4,
 "nbformat_minor": 5
}
