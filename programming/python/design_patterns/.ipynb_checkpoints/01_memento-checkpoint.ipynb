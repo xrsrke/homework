{
 "cells": [
  {
   "cell_type": "code",
   "execution_count": 8,
   "id": "39dc16f2-7a4b-4853-aca5-46e5fd45063c",
   "metadata": {
    "tags": []
   },
   "outputs": [],
   "source": [
    "class State:\n",
    "    def __init__(self, state):\n",
    "        self._state = state\n",
    "    \n",
    "    def get_state(self):\n",
    "        return self._state"
   ]
  },
  {
   "cell_type": "code",
   "execution_count": 9,
   "id": "903f92db-1097-4e4b-8e09-4891af256ee3",
   "metadata": {
    "tags": []
   },
   "outputs": [],
   "source": [
    "class ModelState:\n",
    "    def __init__(self):\n",
    "        self.value = value\n",
    "        self._saved_states = []\n",
    "    \n",
    "    def backup(self):\n",
    "        self._saved_states.append(State(self.value))\n",
    "        \n",
    "    def restore(self):\n",
    "        if len(self._saved_states) > 0:\n",
    "            self.value = self._saved_states[-1].get_state()"
   ]
  },
  {
   "cell_type": "code",
   "execution_count": null,
   "id": "bc241dc2-faf5-4656-a265-a140cf602a3b",
   "metadata": {},
   "outputs": [],
   "source": [
    "lru_cache"
   ]
  },
  {
   "cell_type": "code",
   "execution_count": null,
   "id": "e84fb05f-c15c-4417-8ba6-e8bcc8b5a2be",
   "metadata": {},
   "outputs": [],
   "source": []
  },
  {
   "cell_type": "code",
   "execution_count": null,
   "id": "27259d17-01e4-4bd0-b48c-9135f23bdc40",
   "metadata": {},
   "outputs": [],
   "source": [
    "filter()"
   ]
  },
  {
   "cell_type": "code",
   "execution_count": null,
   "id": "3746f072-6448-4a6e-bd15-ebe1674b8727",
   "metadata": {},
   "outputs": [],
   "source": [
    "product()"
   ]
  },
  {
   "cell_type": "code",
   "execution_count": null,
   "id": "c12312f9-3c5c-4499-b1a9-5d9642ed3013",
   "metadata": {},
   "outputs": [],
   "source": [
    "setattr"
   ]
  },
  {
   "cell_type": "code",
   "execution_count": 11,
   "id": "6c18c741-d259-417b-b379-5d81684b649e",
   "metadata": {
    "tags": []
   },
   "outputs": [],
   "source": [
    "from torch.multiprocessing import Process"
   ]
  },
  {
   "cell_type": "code",
   "execution_count": 12,
   "id": "98c766c3-c642-4a37-b562-da1c3e44cf8b",
   "metadata": {
    "tags": []
   },
   "outputs": [],
   "source": [
    "import os"
   ]
  },
  {
   "cell_type": "code",
   "execution_count": 15,
   "id": "caada598-65bd-4bbd-9ab5-623405559795",
   "metadata": {
    "tags": []
   },
   "outputs": [],
   "source": [
    "name = \"agent_{}\""
   ]
  },
  {
   "cell_type": "code",
   "execution_count": null,
   "id": "c15c4800-a8f3-4b2c-a0e3-c6f6061b9e29",
   "metadata": {},
   "outputs": [],
   "source": [
    "def run_func(rank, world_size):\n",
    "    os.environ[\"MASTER_ADDR\"] = \"localhost\"\n",
    "    os.environ[\"MASTER_PORT\"] = \"29500\"\n",
    "    \n",
    "    torch.distributed.init_process_group(\n",
    "        name.format(rank)\n",
    "        rank=rank,\n",
    "        world_size=world_size\n",
    "    )"
   ]
  },
  {
   "cell_type": "code",
   "execution_count": null,
   "id": "465f012c-bdba-406f-a095-8915ecc0add0",
   "metadata": {},
   "outputs": [],
   "source": [
    "processes = []\n",
    "\n",
    "for rank in range(world_size):\n",
    "    p = Process(target=run_func)\n",
    "    p.start()\n",
    "    processes.append(p)\n",
    "    \n",
    "for p in processes:\n",
    "    p.join()"
   ]
  },
  {
   "cell_type": "code",
   "execution_count": null,
   "id": "a232c49a-0689-46ac-823c-9fb95ee24076",
   "metadata": {},
   "outputs": [],
   "source": []
  }
 ],
 "metadata": {
  "kernelspec": {
   "display_name": "Python 3 (ipykernel)",
   "language": "python",
   "name": "python3"
  },
  "language_info": {
   "codemirror_mode": {
    "name": "ipython",
    "version": 3
   },
   "file_extension": ".py",
   "mimetype": "text/x-python",
   "name": "python",
   "nbconvert_exporter": "python",
   "pygments_lexer": "ipython3",
   "version": "3.8.16"
  }
 },
 "nbformat": 4,
 "nbformat_minor": 5
}
