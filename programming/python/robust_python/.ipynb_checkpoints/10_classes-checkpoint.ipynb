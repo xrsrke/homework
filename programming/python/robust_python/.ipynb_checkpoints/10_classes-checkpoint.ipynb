{
 "cells": [
  {
   "cell_type": "markdown",
   "id": "d5169ffa-d0f9-4b82-8747-f9715fdb56d6",
   "metadata": {},
   "source": [
    "# Chapter 10: Classes"
   ]
  },
  {
   "cell_type": "markdown",
   "id": "32028de8-89b4-445d-a23b-5065deecd1a8",
   "metadata": {},
   "source": [
    "### 1. Class Anatomy"
   ]
  },
  {
   "cell_type": "code",
   "execution_count": null,
   "id": "e9a4eb19-d766-47fc-a8d0-66477282af96",
   "metadata": {},
   "outputs": [
    {
     "ename": "AssertionError",
     "evalue": "XX",
     "output_type": "error",
     "traceback": [
      "\u001b[0;31m---------------------------------------------------------------------------\u001b[0m",
      "\u001b[0;31mAssertionError\u001b[0m                            Traceback (most recent call last)",
      "Input \u001b[0;32mIn [4]\u001b[0m, in \u001b[0;36m<cell line: 1>\u001b[0;34m()\u001b[0m\n\u001b[0;32m----> 1\u001b[0m \u001b[38;5;28;01massert\u001b[39;00m \u001b[38;5;241m1\u001b[39m \u001b[38;5;241m>\u001b[39m \u001b[38;5;241m2\u001b[39m, \u001b[38;5;124m'\u001b[39m\u001b[38;5;124mXX\u001b[39m\u001b[38;5;124m'\u001b[39m\n",
      "\u001b[0;31mAssertionError\u001b[0m: XX"
     ]
    }
   ],
   "source": [
    "assert 1 > 2, 'XX'"
   ]
  },
  {
   "cell_type": "code",
   "execution_count": null,
   "id": "a57b8355-79bd-4075-8179-7c15ded41236",
   "metadata": {},
   "outputs": [],
   "source": []
  }
 ],
 "metadata": {
  "kernelspec": {
   "display_name": "Python 3 (ipykernel)",
   "language": "python",
   "name": "python3"
  }
 },
 "nbformat": 4,
 "nbformat_minor": 5
}
