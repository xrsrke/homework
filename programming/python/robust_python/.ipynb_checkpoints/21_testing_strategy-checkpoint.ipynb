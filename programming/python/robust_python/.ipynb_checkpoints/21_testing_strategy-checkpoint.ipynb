{
 "cells": [
  {
   "cell_type": "code",
   "execution_count": null,
   "id": "b254017f-52d8-4fd6-af75-2150036abb43",
   "metadata": {},
   "outputs": [],
   "source": [
    "class A: pass"
   ]
  },
  {
   "cell_type": "code",
   "execution_count": null,
   "id": "8494009e-e997-4c27-b8aa-ed498b8406f2",
   "metadata": {},
   "outputs": [
    {
     "data": {
      "text/plain": [
       "<__main__.A>"
      ]
     },
     "execution_count": null,
     "metadata": {},
     "output_type": "execute_result"
    }
   ],
   "source": [
    "A()"
   ]
  },
  {
   "cell_type": "code",
   "execution_count": null,
   "id": "189fede1-59e0-4ad9-a24e-f0a568fbe87c",
   "metadata": {},
   "outputs": [
    {
     "data": {
      "text/plain": [
       "__main__.A"
      ]
     },
     "execution_count": null,
     "metadata": {},
     "output_type": "execute_result"
    }
   ],
   "source": [
    "type(A()) "
   ]
  },
  {
   "cell_type": "code",
   "execution_count": null,
   "id": "e6ac99c2-dff6-49e8-a4c6-d6531a6d2793",
   "metadata": {},
   "outputs": [
    {
     "data": {
      "text/plain": [
       "True"
      ]
     },
     "execution_count": null,
     "metadata": {},
     "output_type": "execute_result"
    }
   ],
   "source": [
    "A == A"
   ]
  },
  {
   "cell_type": "code",
   "execution_count": null,
   "id": "0e6d1421-e5af-493c-a79f-1a8363e06547",
   "metadata": {},
   "outputs": [],
   "source": []
  },
  {
   "cell_type": "code",
   "execution_count": null,
   "id": "87f6fa5d-330f-4ee3-89d5-ed63d0e57cf0",
   "metadata": {},
   "outputs": [
    {
     "data": {
      "text/plain": [
       "True"
      ]
     },
     "execution_count": null,
     "metadata": {},
     "output_type": "execute_result"
    }
   ],
   "source": [
    "isinstance(A(), A)"
   ]
  },
  {
   "cell_type": "code",
   "execution_count": null,
   "id": "1627c5e7-dcc6-4ae9-99d9-02ca449b3e13",
   "metadata": {},
   "outputs": [
    {
     "data": {
      "text/plain": [
       "False"
      ]
     },
     "execution_count": null,
     "metadata": {},
     "output_type": "execute_result"
    }
   ],
   "source": [
    "isinstance(A, A)"
   ]
  },
  {
   "cell_type": "code",
   "execution_count": null,
   "id": "38a56e73-d8c8-4979-a61d-eecaa9fd25e2",
   "metadata": {},
   "outputs": [],
   "source": [
    "x = A()"
   ]
  },
  {
   "cell_type": "code",
   "execution_count": null,
   "id": "2394fde5-9d9e-4277-be07-e04b17c38059",
   "metadata": {},
   "outputs": [],
   "source": [
    "class B(A): pass"
   ]
  },
  {
   "cell_type": "code",
   "execution_count": null,
   "id": "7bce0dd0-895e-4d68-9863-a1f8036031a0",
   "metadata": {},
   "outputs": [],
   "source": [
    "x = B()"
   ]
  },
  {
   "cell_type": "code",
   "execution_count": null,
   "id": "49c3e3a9-091d-47a7-adf8-f741615314db",
   "metadata": {},
   "outputs": [
    {
     "name": "stdout",
     "output_type": "stream",
     "text": [
      "1\n"
     ]
    }
   ],
   "source": [
    "if (type(x), A):\n",
    "    if isinstance(x, A):\n",
    "        print(1)\n",
    "    else:\n",
    "        print(2)\n",
    "else:\n",
    "    print(3)"
   ]
  },
  {
   "cell_type": "code",
   "execution_count": null,
   "id": "2e6c6622-0a43-4fef-a33b-a8341efff99f",
   "metadata": {},
   "outputs": [],
   "source": []
  }
 ],
 "metadata": {
  "kernelspec": {
   "display_name": "Python 3 (ipykernel)",
   "language": "python",
   "name": "python3"
  }
 },
 "nbformat": 4,
 "nbformat_minor": 5
}
