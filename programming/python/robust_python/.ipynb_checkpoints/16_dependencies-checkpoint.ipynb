{
 "cells": [
  {
   "cell_type": "markdown",
   "id": "55f5334d-0275-43bf-a975-5faa0e0c47f3",
   "metadata": {},
   "source": [
    "# Chapter 16. Dependencies"
   ]
  },
  {
   "cell_type": "code",
   "execution_count": null,
   "id": "d4f40609-4c5e-4e63-83fc-df38172431fc",
   "metadata": {},
   "outputs": [],
   "source": []
  }
 ],
 "metadata": {
  "kernelspec": {
   "display_name": "Python 3 (ipykernel)",
   "language": "python",
   "name": "python3"
  }
 },
 "nbformat": 4,
 "nbformat_minor": 5
}
