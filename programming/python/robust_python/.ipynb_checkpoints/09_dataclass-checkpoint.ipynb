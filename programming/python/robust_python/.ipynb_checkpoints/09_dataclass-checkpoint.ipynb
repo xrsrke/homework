{
 "cells": [
  {
   "cell_type": "markdown",
   "id": "4901f062-a647-44db-a93a-18f8a2f295d6",
   "metadata": {},
   "source": [
    "# Chapter 9: User-Defined Types: Data Classes"
   ]
  },
  {
   "cell_type": "markdown",
   "id": "1c67b96e-9a80-44c4-baf4-f9501d231b08",
   "metadata": {},
   "source": [
    "### 1. Data Classes in Action"
   ]
  },
  {
   "cell_type": "markdown",
   "id": "2dd03f5f-4d3c-4a2d-95e6-d47338078a25",
   "metadata": {},
   "source": [
    "##### Example 1"
   ]
  },
  {
   "cell_type": "code",
   "execution_count": 88,
   "id": "b6fcde95-8c42-45fd-97d7-317808d98e3a",
   "metadata": {},
   "outputs": [],
   "source": [
    "class Soup(Enum):\n",
    "    VEGETABLE = auto()\n",
    "    CHICKEN = auto()\n",
    "    BEEF = auto()\n",
    "    FISH = auto()"
   ]
  },
  {
   "cell_type": "code",
   "execution_count": 101,
   "id": "b6cb074d-e4cd-4a22-b38d-acf8e1c2e3d8",
   "metadata": {},
   "outputs": [],
   "source": [
    "from dataclasses import dataclass\n",
    "from enum import Enum, auto"
   ]
  },
  {
   "cell_type": "code",
   "execution_count": 102,
   "id": "17df88f4-333a-4513-af6e-8d1622b3dc3e",
   "metadata": {},
   "outputs": [],
   "source": [
    "class ImperialMeasure(Enum):\n",
    "    TEASPOON = auto()\n",
    "    CUP = auto()"
   ]
  },
  {
   "cell_type": "code",
   "execution_count": 103,
   "id": "9c790dd0-9329-439f-91a5-68f697d22513",
   "metadata": {},
   "outputs": [],
   "source": [
    "@dataclass(frozen=True) # frozen can be ignore\n",
    "class Ingredient:\n",
    "    name: str\n",
    "    amount: float = 1\n",
    "    units: ImperialMeasure = ImperialMeasure.CUP"
   ]
  },
  {
   "cell_type": "code",
   "execution_count": 104,
   "id": "b236c3db-daf9-4b0e-8f7c-bc2399391361",
   "metadata": {},
   "outputs": [],
   "source": [
    "@dataclass\n",
    "class Recipe:\n",
    "    starches: set[Ingredient]\n",
    "    meats: set[Ingredient]"
   ]
  },
  {
   "cell_type": "markdown",
   "id": "a0c348b9-d2a8-4f05-8150-da3cb2dcbc18",
   "metadata": {},
   "source": [
    "Create an abstraction as bellow using user-defined type"
   ]
  },
  {
   "cell_type": "markdown",
   "id": "a944fa6c-2d0a-4d12-a50d-7ebd41cfc568",
   "metadata": {},
   "source": [
    "`ImperialMeasure` contains a list of constant measurement. `Ingredient` and `Recipe` are not constant"
   ]
  },
  {
   "cell_type": "code",
   "execution_count": 105,
   "id": "064391b1-673b-405d-a880-b5e9f6df3b3e",
   "metadata": {},
   "outputs": [],
   "source": [
    "chicken = Ingredient(name=\"Chicken\", amount=1.3, units=ImperialMeasure.CUP)"
   ]
  },
  {
   "cell_type": "code",
   "execution_count": 106,
   "id": "0cb54320-c480-4ce2-a864-dfcc0b2358e0",
   "metadata": {},
   "outputs": [],
   "source": [
    "noddles = Ingredient(name=\"Noodles\", amount=0.2, units=ImperialMeasure.TEASPOON)"
   ]
  },
  {
   "cell_type": "code",
   "execution_count": 112,
   "id": "b3c251f4-2089-4825-9df2-e80fdb7b022e",
   "metadata": {},
   "outputs": [],
   "source": [
    "chicken_soup = Recipe(\n",
    "    meats = {chicken},\n",
    "    starches = {noddles}\n",
    ")"
   ]
  },
  {
   "cell_type": "code",
   "execution_count": null,
   "id": "dd6e580e-b72a-4ea3-bbeb-3cbe1eefa4b2",
   "metadata": {},
   "outputs": [],
   "source": []
  }
 ],
 "metadata": {
  "kernelspec": {
   "display_name": "Python 3 (ipykernel)",
   "language": "python",
   "name": "python3"
  },
  "language_info": {
   "codemirror_mode": {
    "name": "ipython",
    "version": 3
   },
   "file_extension": ".py",
   "mimetype": "text/x-python",
   "name": "python",
   "nbconvert_exporter": "python",
   "pygments_lexer": "ipython3",
   "version": "3.9.12"
  }
 },
 "nbformat": 4,
 "nbformat_minor": 5
}
