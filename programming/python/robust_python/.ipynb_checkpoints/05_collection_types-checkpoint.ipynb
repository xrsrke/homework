{
 "cells": [
  {
   "cell_type": "markdown",
   "id": "5bbb5c5e-fa11-45d7-b905-64f103616ae7",
   "metadata": {},
   "source": [
    "# 5. Collection Types"
   ]
  },
  {
   "cell_type": "markdown",
   "id": "560738da-e2b1-4b73-bb6f-94ebca03dcc9",
   "metadata": {},
   "source": [
    "### 1. Annotating Collections"
   ]
  },
  {
   "cell_type": "markdown",
   "id": "53caa543-ec0c-4a4a-be8f-d537335fb9c8",
   "metadata": {},
   "source": [
    "##### Example 1"
   ]
  },
  {
   "cell_type": "code",
   "execution_count": 24,
   "id": "bc4c2826-6b10-483e-95e2-d980cbfe2a0a",
   "metadata": {},
   "outputs": [],
   "source": [
    "class Cookbook:\n",
    "    def __init__(self, author):\n",
    "        self.author = author"
   ]
  },
  {
   "cell_type": "code",
   "execution_count": 25,
   "id": "60211c1d-3030-4151-9656-5ac39a881cb8",
   "metadata": {},
   "outputs": [],
   "source": [
    "def create_author_count_mapping(cookbooks):\n",
    "    counter = {}\n",
    "    for cookbook in cookbooks:\n",
    "        if cookbook.author not in counter:\n",
    "            counter[cookbook.author] = 0\n",
    "        counter[cookbook.author] += 1\n",
    "    \n",
    "    return counter"
   ]
  },
  {
   "cell_type": "code",
   "execution_count": 26,
   "id": "0f19dd9d-0786-48f8-ac3a-aa531e8cf465",
   "metadata": {},
   "outputs": [],
   "source": [
    "cb1, cb2, cb3 = Cookbook(\"A\"), Cookbook(\"B\"), Cookbook(\"A\")"
   ]
  },
  {
   "cell_type": "code",
   "execution_count": 27,
   "id": "50d6ab58-fbec-4b2b-a532-946c6c4c0522",
   "metadata": {},
   "outputs": [
    {
     "data": {
      "text/plain": [
       "{'A': 2, 'B': 1}"
      ]
     },
     "execution_count": 27,
     "metadata": {},
     "output_type": "execute_result"
    }
   ],
   "source": [
    "create_author_count_mapping([cb1, cb2, cb3])"
   ]
  },
  {
   "cell_type": "markdown",
   "id": "9ea32307-3be3-4cb6-81c5-36b43591e732",
   "metadata": {},
   "source": [
    "Add collection types to parameters and do type alias for return value"
   ]
  },
  {
   "cell_type": "code",
   "execution_count": 28,
   "id": "566164c3-1b67-4136-a1f1-05a038f64ef6",
   "metadata": {},
   "outputs": [],
   "source": [
    "AuthorToCountMapping = dict[str, int]"
   ]
  },
  {
   "cell_type": "code",
   "execution_count": 29,
   "id": "b81bf282-e11d-4204-9e41-6d4dca93f4ea",
   "metadata": {},
   "outputs": [],
   "source": [
    "def create_author_count_mapping(\n",
    "    cookbooks: list[Cookbook]\n",
    ") -> AuthorToCountMapping:\n",
    "    \n",
    "    counter = {}\n",
    "    for cookbook in cookbooks:\n",
    "        if cookbook.author not in counter:\n",
    "            counter[cookbook.author] = 0\n",
    "        counter[cookbook.author] += 1\n",
    "    \n",
    "    return counter"
   ]
  },
  {
   "cell_type": "code",
   "execution_count": 30,
   "id": "a27f988d-a422-4e90-a334-c5822df7fa43",
   "metadata": {},
   "outputs": [
    {
     "data": {
      "text/plain": [
       "{'A': 2, 'B': 1}"
      ]
     },
     "execution_count": 30,
     "metadata": {},
     "output_type": "execute_result"
    }
   ],
   "source": [
    "create_author_count_mapping([cb1, cb2, cb3])"
   ]
  },
  {
   "cell_type": "markdown",
   "id": "37e1bd49-7212-4d22-ba2e-1117a2e2e7ef",
   "metadata": {},
   "source": [
    "### 2. Homogeneous Versus Heterogeneous Collections"
   ]
  },
  {
   "cell_type": "markdown",
   "id": "038f6ddd-4a4a-49d2-b40e-d44fe2f79436",
   "metadata": {},
   "source": [
    "##### Example 2"
   ]
  },
  {
   "cell_type": "code",
   "execution_count": 31,
   "id": "e3c40974-9ce6-4b1a-b88e-bb2608073e94",
   "metadata": {},
   "outputs": [],
   "source": [
    "from typing import Union"
   ]
  },
  {
   "cell_type": "code",
   "execution_count": 32,
   "id": "fc699604-e3c0-464d-942d-427674800f64",
   "metadata": {},
   "outputs": [],
   "source": [
    "Ingredient = tuple[str, int, str]"
   ]
  },
  {
   "cell_type": "code",
   "execution_count": 33,
   "id": "b98a5917-b855-436d-bfc6-c1a61de0aea2",
   "metadata": {},
   "outputs": [],
   "source": [
    "Recipe = list[Union[int, Ingredient]]"
   ]
  },
  {
   "cell_type": "code",
   "execution_count": 34,
   "id": "63a75223-d8bb-4f3b-b27c-bed972ead33e",
   "metadata": {},
   "outputs": [],
   "source": [
    "def adjust_recipe(recipe, servings):\n",
    "    pass"
   ]
  },
  {
   "cell_type": "markdown",
   "id": "4d0ff46e-a778-43e4-a45d-2e369f14cdca",
   "metadata": {},
   "source": [
    "`recipe`: a list where the first items is the number of servings,  and the last item, "
   ]
  },
  {
   "cell_type": "code",
   "execution_count": 35,
   "id": "a80ad1af-a6c5-47b3-887a-efe88262845d",
   "metadata": {},
   "outputs": [
    {
     "data": {
      "text/plain": [
       "True"
      ]
     },
     "execution_count": 35,
     "metadata": {},
     "output_type": "execute_result"
    }
   ],
   "source": [
    "(\"A\", 2) == (\"A\", 2)"
   ]
  },
  {
   "cell_type": "code",
   "execution_count": 36,
   "id": "de533e38-cd50-407d-a173-d1b9fee00ef7",
   "metadata": {},
   "outputs": [],
   "source": [
    "number_of_serving = 1"
   ]
  },
  {
   "cell_type": "code",
   "execution_count": 37,
   "id": "013da3f7-3aaf-472c-9f74-19af6e712f83",
   "metadata": {},
   "outputs": [],
   "source": [
    "ingredient = (\"Food\", 23, \"USD\")"
   ]
  },
  {
   "cell_type": "code",
   "execution_count": 38,
   "id": "1cf37b01-7348-48dd-a540-b0327bef159a",
   "metadata": {},
   "outputs": [],
   "source": [
    "output_1 = [number_of_serving, number_of_serving]"
   ]
  },
  {
   "cell_type": "code",
   "execution_count": 39,
   "id": "712e3430-b3e1-458e-83bd-ed4af821efa3",
   "metadata": {},
   "outputs": [],
   "source": [
    "output_2 = [ingredient, ingredient]"
   ]
  },
  {
   "cell_type": "markdown",
   "id": "f2c2cbd8-7663-4e0c-a0ad-22ac086beb02",
   "metadata": {},
   "source": [
    "The `output` of an function can either be in format `output_1` or `output_2`. Write a type hint for `output` + make the alias for each type"
   ]
  },
  {
   "cell_type": "code",
   "execution_count": 40,
   "id": "69ae3c7b-e36e-4c9f-9190-68ed01323f00",
   "metadata": {},
   "outputs": [],
   "source": [
    "NumberOfServing = int"
   ]
  },
  {
   "cell_type": "code",
   "execution_count": 41,
   "id": "f9ccba82-202c-49b3-be21-e9ad7b2e74b5",
   "metadata": {},
   "outputs": [],
   "source": [
    "Ingredient = tuple[str, int, str]"
   ]
  },
  {
   "cell_type": "code",
   "execution_count": 42,
   "id": "07d34cb5-e353-49b5-bc87-1e1d08f5e9c7",
   "metadata": {},
   "outputs": [],
   "source": [
    "from typing import Union"
   ]
  },
  {
   "cell_type": "code",
   "execution_count": 43,
   "id": "4e407ac7-8a3a-43b8-8566-856fdc2dbe20",
   "metadata": {},
   "outputs": [],
   "source": [
    "output: list[Union[NumberOfServing, Ingredient]]"
   ]
  },
  {
   "cell_type": "markdown",
   "id": "90ca2bcd-b0a5-4f16-90ff-563cb79fbd03",
   "metadata": {},
   "source": [
    "### 3. TypedDict"
   ]
  },
  {
   "cell_type": "markdown",
   "id": "a4a68541-9140-4ade-b392-710b8074e705",
   "metadata": {},
   "source": [
    "##### Example 1"
   ]
  },
  {
   "cell_type": "code",
   "execution_count": 44,
   "id": "49e9b585-33ce-4101-bbe1-3d5165e39116",
   "metadata": {},
   "outputs": [],
   "source": [
    "def get_nutrition_from_spoonacular(recipe_name): return {\n",
    "    \"fat\": {\n",
    "        \"value\": 31\n",
    "    }\n",
    "}"
   ]
  },
  {
   "cell_type": "code",
   "execution_count": 45,
   "id": "29958912-4b98-4cc6-8abf-2f919341b155",
   "metadata": {},
   "outputs": [
    {
     "data": {
      "text/plain": [
       "<function __main__.get_nutrition_from_spoonacular(recipe_name)>"
      ]
     },
     "execution_count": 45,
     "metadata": {},
     "output_type": "execute_result"
    }
   ],
   "source": [
    "get_nutrition_from_spoonacular"
   ]
  },
  {
   "cell_type": "markdown",
   "id": "589a40d8-623d-45b5-a500-bd01d6ac29f5",
   "metadata": {},
   "source": [
    "Suppose `get_nutrition_from_spoonacular` is a function that receive  json output from some API"
   ]
  },
  {
   "cell_type": "markdown",
   "id": "ed192bc9-63de-4ce6-a7e4-f852c3f9986e",
   "metadata": {},
   "source": [
    "Explain why this piece of code is bad?"
   ]
  },
  {
   "cell_type": "code",
   "execution_count": 46,
   "id": "2c03e0bb-1d2b-4305-9bab-07bbff224d2c",
   "metadata": {},
   "outputs": [],
   "source": [
    "recipe_name = \"ABC\""
   ]
  },
  {
   "cell_type": "code",
   "execution_count": 47,
   "id": "889c4d59-246b-47cf-ae07-b6d41c2f91ab",
   "metadata": {},
   "outputs": [],
   "source": [
    "nutrition_information = get_nutrition_from_spoonacular(recipe_name)"
   ]
  },
  {
   "cell_type": "code",
   "execution_count": 48,
   "id": "4f5e24a6-2604-4d03-8e22-50abeb978350",
   "metadata": {},
   "outputs": [
    {
     "name": "stdout",
     "output_type": "stream",
     "text": [
      "31\n"
     ]
    }
   ],
   "source": [
    "print(nutrition_information[\"fat\"][\"value\"])"
   ]
  },
  {
   "cell_type": "markdown",
   "id": "669e9175-d4b3-4cee-bf32-13380170fd3e",
   "metadata": {},
   "source": [
    "**Explain**: Because for future developers, they don't how what exactly the api returns, so it will takes them more time to dig to it"
   ]
  },
  {
   "cell_type": "markdown",
   "id": "0988ee51-4fe0-4c49-a7f9-cceaeaba48f7",
   "metadata": {},
   "source": [
    "##### Example 2"
   ]
  },
  {
   "cell_type": "code",
   "execution_count": 49,
   "id": "076c8365-ce9d-4322-98ff-6623100ac077",
   "metadata": {},
   "outputs": [],
   "source": [
    "def get_nutrition_from_recipe(recipe_name):\n",
    "    output = {\n",
    "        \"recipes_used\": 23,\n",
    "        \"calories\": {\n",
    "            \"value\": 100,\n",
    "            \"unit\": \"SKM\"\n",
    "        },\n",
    "        \"carbs\": {\n",
    "            \"value\": 231,\n",
    "            \"unit\": \"SOM\"\n",
    "        }\n",
    "    }\n",
    "    \n",
    "    return output"
   ]
  },
  {
   "cell_type": "markdown",
   "id": "059a6487-3b7c-42a8-ad0b-ca9fd5962849",
   "metadata": {},
   "source": [
    "Suppose the output of function `get_nutrition_info` is from an api, add type hint for the output of function `get_nutrition_info`"
   ]
  },
  {
   "cell_type": "markdown",
   "id": "70699284-bfe3-4c23-af8c-dbd1410378f7",
   "metadata": {},
   "source": [
    "Hint: `calories` and `carbs` contains `NutritionInformation`"
   ]
  },
  {
   "cell_type": "code",
   "execution_count": 50,
   "id": "91015015-403d-4cc5-8de1-7d6d87a52aa8",
   "metadata": {},
   "outputs": [],
   "source": [
    "nutrition_information = get_nutrition_from_recipe(\"xr-2\")"
   ]
  },
  {
   "cell_type": "code",
   "execution_count": 51,
   "id": "713a21fa-2da9-45b6-b897-3a0801d7a569",
   "metadata": {},
   "outputs": [
    {
     "data": {
      "text/plain": [
       "{'recipes_used': 23,\n",
       " 'calories': {'value': 100, 'unit': 'SKM'},\n",
       " 'carbs': {'value': 231, 'unit': 'SOM'}}"
      ]
     },
     "execution_count": 51,
     "metadata": {},
     "output_type": "execute_result"
    }
   ],
   "source": [
    "nutrition_information"
   ]
  },
  {
   "cell_type": "code",
   "execution_count": 52,
   "id": "2c905519-b53d-4308-b2b7-00fe797e0ef5",
   "metadata": {},
   "outputs": [
    {
     "data": {
      "text/plain": [
       "100"
      ]
     },
     "execution_count": 52,
     "metadata": {},
     "output_type": "execute_result"
    }
   ],
   "source": [
    "nutrition_information[\"calories\"][\"value\"]"
   ]
  },
  {
   "cell_type": "code",
   "execution_count": 53,
   "id": "1f4c4d00-0b7f-4af8-bd51-eb518d5df93d",
   "metadata": {},
   "outputs": [],
   "source": [
    "from typing import TypedDict"
   ]
  },
  {
   "cell_type": "code",
   "execution_count": 54,
   "id": "2194e9f5-0f59-4f47-9ceb-aba95dbc930d",
   "metadata": {},
   "outputs": [],
   "source": [
    "class NutritionInformation(TypedDict):\n",
    "    value: int\n",
    "    unit: str"
   ]
  },
  {
   "cell_type": "code",
   "execution_count": 55,
   "id": "1dfc47b5-ff49-41a0-9d44-a9e4ece9f647",
   "metadata": {},
   "outputs": [],
   "source": [
    "class RecipeNutritionInformation(TypedDict):\n",
    "    reciples_used: int\n",
    "    calories: NutritionInformation\n",
    "    carbs: NutritionInformation"
   ]
  },
  {
   "cell_type": "code",
   "execution_count": 56,
   "id": "ac9b32d7-0942-4486-9054-4bb5acd0faf5",
   "metadata": {},
   "outputs": [],
   "source": [
    "def get_nutrition_from_recipe(recipe_name) -> RecipeNutritionInformation:\n",
    "    # keep original code\n",
    "    pass"
   ]
  },
  {
   "cell_type": "markdown",
   "id": "6dce553c-f291-49c4-ab03-90acb628da71",
   "metadata": {},
   "source": [
    "### Creating New Collections"
   ]
  },
  {
   "cell_type": "markdown",
   "id": "eee787df-d5f2-419a-bada-723ccfe6e813",
   "metadata": {},
   "source": [
    "#### Generics"
   ]
  },
  {
   "cell_type": "markdown",
   "id": "907e3d73-b38c-4548-bcf8-2227c1ec5ea3",
   "metadata": {},
   "source": [
    "##### Example 1"
   ]
  },
  {
   "cell_type": "markdown",
   "id": "a712b7ce-d4ac-45d8-ae81-56885ce676c0",
   "metadata": {},
   "source": [
    "Function `reverse` accepts any kind of indexable object, and just return the reverse order of that object"
   ]
  },
  {
   "cell_type": "code",
   "execution_count": 18,
   "id": "a858d5c8-b01d-4e03-a60d-2e01025cbfb8",
   "metadata": {},
   "outputs": [],
   "source": [
    "def reverse(coll):\n",
    "    return coll[::-1]"
   ]
  },
  {
   "cell_type": "markdown",
   "id": "6b0280da-04c2-4687-9321-66a0e4536336",
   "metadata": {},
   "source": [
    "Add type hints to parameter and return value. Explain why"
   ]
  },
  {
   "cell_type": "code",
   "execution_count": 19,
   "id": "ffc71a08-a295-4f15-bf5e-0539288e2e34",
   "metadata": {},
   "outputs": [],
   "source": [
    "from typing import TypeVar"
   ]
  },
  {
   "cell_type": "code",
   "execution_count": 20,
   "id": "d24c299f-21d6-42a9-9ee1-3932eb79fa93",
   "metadata": {},
   "outputs": [],
   "source": [
    "Collection = TypeVar('Collection')"
   ]
  },
  {
   "cell_type": "code",
   "execution_count": 21,
   "id": "8002f589-bd6e-4d93-9b2d-d9c9c59f212b",
   "metadata": {},
   "outputs": [],
   "source": [
    "def reverse(coll: list[Collection]) -> list[Collection]:\n",
    "    return coll[::-1]"
   ]
  },
  {
   "cell_type": "markdown",
   "id": "114badb5-8e8e-465f-b613-b93a535b32ed",
   "metadata": {},
   "source": [
    "**Explain**\n",
    "\n",
    "The function `reverse` accepts anything as argument and return exactly that argument => Use `TypeVar`"
   ]
  },
  {
   "cell_type": "markdown",
   "id": "3aa073bf-d2b7-4212-9058-5a66bf7c4137",
   "metadata": {},
   "source": [
    "##### Example 2"
   ]
  },
  {
   "cell_type": "code",
   "execution_count": 23,
   "id": "6dc53739-22bd-40ce-85b9-d6ca9f60d94e",
   "metadata": {},
   "outputs": [],
   "source": [
    "def scale(x):\n",
    "    return x * 2"
   ]
  },
  {
   "cell_type": "code",
   "execution_count": null,
   "id": "6ade5435-1b99-44f0-8e13-09ea470bf869",
   "metadata": {},
   "outputs": [],
   "source": [
    "Create a generic "
   ]
  },
  {
   "cell_type": "markdown",
   "id": "b6d0cafa-5243-437d-aa6e-da1faeafd31e",
   "metadata": {},
   "source": [
    "##### Example 3"
   ]
  },
  {
   "cell_type": "code",
   "execution_count": 67,
   "id": "9de698ff-5e17-4479-837c-b63685fddf3c",
   "metadata": {},
   "outputs": [],
   "source": [
    "NutritionInfo = str"
   ]
  },
  {
   "cell_type": "code",
   "execution_count": 68,
   "id": "503b27e9-ff55-42a8-b1c9-d0ea71fdd3e0",
   "metadata": {},
   "outputs": [],
   "source": [
    "APIError = str"
   ]
  },
  {
   "cell_type": "code",
   "execution_count": 78,
   "id": "7a2f72b5-afd9-4228-845c-e302b68f1855",
   "metadata": {},
   "outputs": [],
   "source": [
    "from typing import Union"
   ]
  },
  {
   "cell_type": "code",
   "execution_count": 79,
   "id": "2463b517-10df-4914-b37f-2cbb523fc7b8",
   "metadata": {},
   "outputs": [],
   "source": [
    "def get_nutrition_info(reciple) -> Union[NutritionInfo, APIError]:\n",
    "    pass"
   ]
  },
  {
   "cell_type": "code",
   "execution_count": 80,
   "id": "a2e1a24c-f3c1-43f1-8fb1-5c74c95bee79",
   "metadata": {},
   "outputs": [],
   "source": [
    "def get_ingredient(reciple) -> Union[Ingredient, APIError]:\n",
    "    pass"
   ]
  },
  {
   "cell_type": "markdown",
   "id": "43a593b1-14de-4e2d-b03e-94eca1b26122",
   "metadata": {},
   "source": [
    "There're duplicated code. Refactor it"
   ]
  },
  {
   "cell_type": "code",
   "execution_count": 86,
   "id": "8956b921-868e-401d-91fc-e5a72313d4c8",
   "metadata": {},
   "outputs": [],
   "source": [
    "from typing import TypeVar"
   ]
  },
  {
   "cell_type": "code",
   "execution_count": 87,
   "id": "ea0c0399-8ac4-4293-8573-6ba6cf88f900",
   "metadata": {},
   "outputs": [],
   "source": [
    "T = TypeVar(\"T\")"
   ]
  },
  {
   "cell_type": "code",
   "execution_count": 88,
   "id": "6fa40606-a507-4645-8881-5c4773bfd659",
   "metadata": {},
   "outputs": [],
   "source": [
    "APIResponse = Union[T, APIError]"
   ]
  },
  {
   "cell_type": "code",
   "execution_count": 89,
   "id": "caef906e-1e98-4fe1-8983-ca561188c14e",
   "metadata": {},
   "outputs": [],
   "source": [
    "def get_nutrition_info(recipe) -> APIResponse[NutritionInfo]:\n",
    "    pass"
   ]
  },
  {
   "cell_type": "code",
   "execution_count": 90,
   "id": "3ca53175-c4ee-4d86-88d8-a473895b5f45",
   "metadata": {},
   "outputs": [],
   "source": [
    "def get_ingredient(recipe) -> APIResponse[list[Ingredient]]:\n",
    "    pass"
   ]
  },
  {
   "cell_type": "code",
   "execution_count": null,
   "id": "5b3e252f-c9ca-4fc8-9898-79e814b21bff",
   "metadata": {},
   "outputs": [],
   "source": []
  },
  {
   "cell_type": "code",
   "execution_count": null,
   "id": "f89115b2-2c10-434e-a385-78016ac61ee6",
   "metadata": {},
   "outputs": [],
   "source": []
  }
 ],
 "metadata": {
  "kernelspec": {
   "display_name": "Python 3 (ipykernel)",
   "language": "python",
   "name": "python3"
  },
  "language_info": {
   "codemirror_mode": {
    "name": "ipython",
    "version": 3
   },
   "file_extension": ".py",
   "mimetype": "text/x-python",
   "name": "python",
   "nbconvert_exporter": "python",
   "pygments_lexer": "ipython3",
   "version": "3.9.13"
  }
 },
 "nbformat": 4,
 "nbformat_minor": 5
}
