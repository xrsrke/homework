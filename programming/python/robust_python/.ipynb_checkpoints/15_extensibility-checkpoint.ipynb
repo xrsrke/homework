{
 "cells": [
  {
   "cell_type": "markdown",
   "id": "32dac82e-4350-4634-bfc0-cac3b9f64c20",
   "metadata": {},
   "source": [
    "# Chapter 15: Extensibility"
   ]
  },
  {
   "cell_type": "markdown",
   "id": "81f6709e-6a02-4f6e-b3e5-376ff58b750f",
   "metadata": {},
   "source": [
    "### 1. What is Extensibility?"
   ]
  },
  {
   "cell_type": "markdown",
   "id": "a3cf1ce0-7dbd-4f02-aa86-f6657a4eebea",
   "metadata": {},
   "source": [
    "##### Example 1"
   ]
  },
  {
   "cell_type": "markdown",
   "id": "23b10870-5de2-4a06-a50d-db69b132a97e",
   "metadata": {},
   "source": [
    "This function send an notification to `email`. Suppose a few months later, you want to option that send to phone. So you add argument `phone` to `declare_special`.\n",
    "\n",
    "Explain why this piece of code is bad?"
   ]
  },
  {
   "cell_type": "code",
   "execution_count": null,
   "id": "a5e9f62d-78e3-4021-b617-af7898152133",
   "metadata": {},
   "outputs": [],
   "source": [
    "def declare_special(notification,\n",
    "                    start_date, end_time,\n",
    "                    email):\n",
    "    pass"
   ]
  },
  {
   "cell_type": "markdown",
   "id": "4ee4cf52-1bf0-40fc-a1a7-a1b20077d5a2",
   "metadata": {},
   "source": [
    "**Explain**\n",
    "\n",
    "Because if you want to extend functionality of `declare_special`, you need to modifies all the new changes across codebase"
   ]
  },
  {
   "cell_type": "markdown",
   "id": "e785ba9d-49d2-440c-879d-bd27097859bb",
   "metadata": {},
   "source": [
    "##### Example 2"
   ]
  },
  {
   "cell_type": "markdown",
   "id": "f4861733-077c-4800-be87-633906d544a4",
   "metadata": {},
   "source": [
    "- `notification` is the type of notification\n",
    "- `email` is the email address"
   ]
  },
  {
   "cell_type": "code",
   "execution_count": null,
   "id": "b04c191c-2498-41a0-9fed-f8877da85827",
   "metadata": {},
   "outputs": [],
   "source": [
    "def declare_special(notification,\n",
    "                    start_date, end_time,\n",
    "                    email):\n",
    "    pass"
   ]
  },
  {
   "cell_type": "markdown",
   "id": "4b7df363-cfae-4fbe-a6a1-5a72b70de8c1",
   "metadata": {},
   "source": [
    "Add\n",
    "- Two new type of notifications: `NewSpecial` and `NewItem`\n",
    "- Two new type of notification methods: `Text` and `Email`"
   ]
  },
  {
   "cell_type": "code",
   "execution_count": null,
   "id": "e5cef450-05a9-42d5-af1f-4254d9a93c6f",
   "metadata": {},
   "outputs": [],
   "source": [
    "from dataclasses import dataclass\n",
    "import datetime\n",
    "from typing import Union"
   ]
  },
  {
   "cell_type": "code",
   "execution_count": null,
   "id": "5acec5b8-7505-45c7-8f86-1a256b55a7a9",
   "metadata": {},
   "outputs": [],
   "source": [
    "class Dish: pass"
   ]
  },
  {
   "cell_type": "code",
   "execution_count": null,
   "id": "55098426-3b6b-41aa-beb7-6f7ca3c45b4c",
   "metadata": {},
   "outputs": [],
   "source": [
    "class Ingredient: pass"
   ]
  },
  {
   "cell_type": "code",
   "execution_count": null,
   "id": "5a19f11d-aa16-4b03-9134-b191335aaf6c",
   "metadata": {},
   "outputs": [],
   "source": [
    "@dataclass\n",
    "class NewSpecial:\n",
    "    dish: Dish\n",
    "    start_date: datetime.datetime\n",
    "    end_date: datetime.datetime"
   ]
  },
  {
   "cell_type": "code",
   "execution_count": null,
   "id": "8600bafa-d3f9-4942-955d-e4f7c14d98b4",
   "metadata": {},
   "outputs": [],
   "source": [
    "@dataclass\n",
    "class NewItem:\n",
    "    ingredients: set[Ingredient]"
   ]
  },
  {
   "cell_type": "code",
   "execution_count": null,
   "id": "6e19dae0-e523-4c65-9daa-ab4e196121d6",
   "metadata": {},
   "outputs": [],
   "source": [
    "Notification = Union[NewSpecial, IngredientsOutOfStock]"
   ]
  },
  {
   "cell_type": "code",
   "execution_count": null,
   "id": "cbf23c6f-9351-4d57-a0b5-edf4483151e3",
   "metadata": {},
   "outputs": [],
   "source": [
    "def send_notification(notification: Notification):\n",
    "    pass"
   ]
  },
  {
   "cell_type": "code",
   "execution_count": null,
   "id": "e3c7b563-281c-454b-9df1-8efcc7ae0104",
   "metadata": {},
   "outputs": [],
   "source": [
    "def declare_special(\n",
    "    dish: Dish,\n",
    "    start_date: datetime.datetime,\n",
    "    end_time: datetime.datetime,\n",
    "):\n",
    "    send_notification(NewSpecial(dish, start_date, end_date))"
   ]
  },
  {
   "cell_type": "code",
   "execution_count": null,
   "id": "0de7287b-844c-4d87-89c3-c8b0061a0f60",
   "metadata": {},
   "outputs": [],
   "source": [
    "@dataclass\n",
    "class Text:\n",
    "    phone_number: str"
   ]
  },
  {
   "cell_type": "code",
   "execution_count": null,
   "id": "996918ac-2188-45fb-9eb7-19073f817adb",
   "metadata": {},
   "outputs": [],
   "source": [
    "@dataclass\n",
    "class Email:\n",
    "    email_address: str"
   ]
  },
  {
   "cell_type": "code",
   "execution_count": null,
   "id": "8d4acc58-16e7-4552-b701-a0261a366290",
   "metadata": {},
   "outputs": [],
   "source": [
    "NotificationMethod = Union[Text, Email]"
   ]
  },
  {
   "cell_type": "code",
   "execution_count": null,
   "id": "a3b9951e-1182-471a-af7c-7f92b36ab069",
   "metadata": {},
   "outputs": [],
   "source": [
    "def notify(notification_method: NotificationMethod,\n",
    "           notification: Notification):\n",
    "    pass"
   ]
  },
  {
   "cell_type": "code",
   "execution_count": null,
   "id": "756b2e65-91a9-4352-be3b-e6779d3a543e",
   "metadata": {},
   "outputs": [],
   "source": []
  }
 ],
 "metadata": {
  "kernelspec": {
   "display_name": "Python 3 (ipykernel)",
   "language": "python",
   "name": "python3"
  },
  "language_info": {
   "codemirror_mode": {
    "name": "ipython",
    "version": 3
   },
   "file_extension": ".py",
   "mimetype": "text/x-python",
   "name": "python",
   "nbconvert_exporter": "python",
   "pygments_lexer": "ipython3",
   "version": "3.9.12"
  }
 },
 "nbformat": 4,
 "nbformat_minor": 5
}
