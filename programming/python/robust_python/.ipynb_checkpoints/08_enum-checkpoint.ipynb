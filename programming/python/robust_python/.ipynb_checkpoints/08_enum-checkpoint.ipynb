{
 "cells": [
  {
   "cell_type": "markdown",
   "id": "4c770d7b-9272-4e3e-81f9-cac553bed500",
   "metadata": {},
   "source": [
    "# Chapter 8: User-Defined Types: Enums"
   ]
  },
  {
   "cell_type": "markdown",
   "id": "aa8a5299-c093-4366-a507-c427d1d79e07",
   "metadata": {},
   "source": [
    "### Enumerations"
   ]
  },
  {
   "cell_type": "markdown",
   "id": "5f88413f-ccb1-42ef-803a-1fa63ba10251",
   "metadata": {},
   "source": [
    "##### Example 1 "
   ]
  },
  {
   "cell_type": "code",
   "execution_count": null,
   "id": "4070918a-2063-45d7-8e04-958397cc6f13",
   "metadata": {},
   "outputs": [],
   "source": [
    "MOTHER_SAUCES = (\"Béchamel\", \"Velouté\", \"Espagnole\", \"Tomato\", \"Hollandaise\")"
   ]
  },
  {
   "cell_type": "code",
   "execution_count": null,
   "id": "97ed1c62-a74f-41c9-a64a-787de74a3588",
   "metadata": {},
   "outputs": [],
   "source": [
    "def create_daughter_sauce(mother_sauce: str):\n",
    "    pass"
   ]
  },
  {
   "cell_type": "markdown",
   "id": "4e7d8037-e0c0-4b96-8811-1f478cb1b4e1",
   "metadata": {},
   "source": [
    "Function `create_daughter_sauce` expects to take an element in `MOTHER_SAUCES`. Add user-defined type to the function"
   ]
  },
  {
   "cell_type": "code",
   "execution_count": null,
   "id": "d5ecb928-b64f-4252-b8f6-ba902b1c7a43",
   "metadata": {},
   "outputs": [],
   "source": [
    "from enum import Enum"
   ]
  },
  {
   "cell_type": "code",
   "execution_count": null,
   "id": "2ccacefe-1bf6-4760-af8e-9cf463ce320f",
   "metadata": {},
   "outputs": [],
   "source": [
    "class MotherSauce(Enum):\n",
    "    BECHAMEL = \"Béchamel\"\n",
    "    VELOUTE = \"Velouté\""
   ]
  },
  {
   "cell_type": "code",
   "execution_count": null,
   "id": "4844ae60-9d5c-4e82-b032-d7859551c4e7",
   "metadata": {},
   "outputs": [],
   "source": [
    "def create_daughter_sauce(mother_sauce: MotherSauce):\n",
    "    pass"
   ]
  },
  {
   "cell_type": "markdown",
   "id": "aff8f315-2d7d-400c-b47f-0db3893df294",
   "metadata": {},
   "source": [
    "##### Example 2"
   ]
  },
  {
   "cell_type": "code",
   "execution_count": null,
   "id": "f60ca64d-d445-4813-a40e-1a10240dc774",
   "metadata": {},
   "outputs": [],
   "source": [
    "from enum import Enum, Flag, auto"
   ]
  },
  {
   "cell_type": "code",
   "execution_count": null,
   "id": "0d4cccd1-2f0d-4da5-b876-9d2fde4a58c9",
   "metadata": {},
   "outputs": [],
   "source": [
    "class Allergen(Flag):\n",
    "    FISH = auto()\n",
    "    SHELLFISH = auto()\n",
    "    SOY = auto()"
   ]
  },
  {
   "cell_type": "code",
   "execution_count": null,
   "id": "b5dfd5bb-dc9c-4302-bfbf-c8a383943391",
   "metadata": {},
   "outputs": [],
   "source": [
    "allergens = Allergen.FISH | Allergen.SHELLFISH"
   ]
  },
  {
   "cell_type": "code",
   "execution_count": null,
   "id": "cbffc5c8-6425-43c3-a919-21e1a6444998",
   "metadata": {},
   "outputs": [
    {
     "data": {
      "text/plain": [
       "<Allergen.SHELLFISH|FISH: 3>"
      ]
     },
     "execution_count": null,
     "metadata": {},
     "output_type": "execute_result"
    }
   ],
   "source": [
    "allergens"
   ]
  },
  {
   "cell_type": "code",
   "execution_count": null,
   "id": "a6777dd4-65db-42b9-a7f7-10e9f1bbf4f5",
   "metadata": {},
   "outputs": [
    {
     "data": {
      "text/plain": [
       "<Allergen.FISH: 1>"
      ]
     },
     "execution_count": null,
     "metadata": {},
     "output_type": "execute_result"
    }
   ],
   "source": [
    "Allergen.FISH"
   ]
  },
  {
   "cell_type": "code",
   "execution_count": null,
   "id": "354f0d23-0964-43e8-8975-81b2d062d852",
   "metadata": {},
   "outputs": [],
   "source": [
    "if allergens & Allergen.FISH:\n",
    "    print(1)"
   ]
  },
  {
   "cell_type": "markdown",
   "id": "d233b1c3-cca4-4da0-9ffd-ea3a8a50a9f9",
   "metadata": {},
   "source": [
    "### 3. Advanced Usage"
   ]
  },
  {
   "cell_type": "markdown",
   "id": "ba650948-b07c-4da2-bb4a-ff02b83b821c",
   "metadata": {},
   "source": [
    "#### Integer Conversion"
   ]
  },
  {
   "cell_type": "code",
   "execution_count": 21,
   "id": "ce574a98-f0da-4bc3-bc19-9b06e955d1ab",
   "metadata": {},
   "outputs": [],
   "source": [
    "from enum import IntEnum"
   ]
  },
  {
   "cell_type": "code",
   "execution_count": 22,
   "id": "ab70f9f2-09a2-4e0d-a01e-5fa79b7c6388",
   "metadata": {},
   "outputs": [],
   "source": [
    "class LiquidMeasure(IntEnum):\n",
    "    CUP = 8"
   ]
  },
  {
   "cell_type": "code",
   "execution_count": 23,
   "id": "496ea745-1745-4118-995c-f08e1cd95503",
   "metadata": {},
   "outputs": [
    {
     "data": {
      "text/plain": [
       "True"
      ]
     },
     "execution_count": 23,
     "metadata": {},
     "output_type": "execute_result"
    }
   ],
   "source": [
    "LiquidMeasure.CUP == LiquidMeasure.CUP"
   ]
  },
  {
   "cell_type": "code",
   "execution_count": 24,
   "id": "4a81cd3d-3a40-4f6e-bffc-e5cc23222d47",
   "metadata": {},
   "outputs": [
    {
     "data": {
      "text/plain": [
       "True"
      ]
     },
     "execution_count": 24,
     "metadata": {},
     "output_type": "execute_result"
    }
   ],
   "source": [
    "LiquidMeasure.CUP == 8"
   ]
  },
  {
   "cell_type": "code",
   "execution_count": null,
   "id": "e78ac9c6-acce-4600-a8b6-bd9c861f5f67",
   "metadata": {},
   "outputs": [],
   "source": []
  }
 ],
 "metadata": {
  "kernelspec": {
   "display_name": "Python 3 (ipykernel)",
   "language": "python",
   "name": "python3"
  },
  "language_info": {
   "codemirror_mode": {
    "name": "ipython",
    "version": 3
   },
   "file_extension": ".py",
   "mimetype": "text/x-python",
   "name": "python",
   "nbconvert_exporter": "python",
   "pygments_lexer": "ipython3",
   "version": "3.9.12"
  }
 },
 "nbformat": 4,
 "nbformat_minor": 5
}
