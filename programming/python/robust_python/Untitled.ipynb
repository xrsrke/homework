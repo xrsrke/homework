{
 "cells": [
  {
   "cell_type": "code",
   "execution_count": null,
   "id": "99168928-45bc-4407-93e8-5266c92c7ce9",
   "metadata": {},
   "outputs": [],
   "source": [
    "from typing import TypedDict"
   ]
  },
  {
   "cell_type": "code",
   "execution_count": null,
   "id": "a56ff9c5-78a7-4955-8c42-6c052ab03128",
   "metadata": {},
   "outputs": [],
   "source": [
    "class NutritionInformation(TypedDict):\n",
    "    value: int\n",
    "    unit: str"
   ]
  },
  {
   "cell_type": "code",
   "execution_count": null,
   "id": "0cd97112-832c-4b86-9919-612ccd048244",
   "metadata": {},
   "outputs": [],
   "source": [
    "class RecipeNutritionInformation(TypedDict):\n",
    "    reciples_used: int\n",
    "    calories: NutritionInformation\n",
    "    carbs: NutritionInformation"
   ]
  },
  {
   "cell_type": "code",
   "execution_count": null,
   "id": "20f8766d-d3a3-439a-8e21-d8d4fafd70c2",
   "metadata": {},
   "outputs": [],
   "source": [
    "def get_nutrition_from_recipe(recipe_name):\n",
    "    output = {\n",
    "        \"recipes_used\": 23,\n",
    "        \"calories\": {\n",
    "            \"value\": 100,\n",
    "            \"unit\": \"SKM\"\n",
    "        },\n",
    "        \"carbs\": {\n",
    "            \"value\": 231,\n",
    "            \"unit\": \"SOM\"\n",
    "        }\n",
    "    }\n",
    "    \n",
    "    return output"
   ]
  },
  {
   "cell_type": "code",
   "execution_count": null,
   "id": "530e6e2a-ca0d-4e89-ba22-d727591d316e",
   "metadata": {},
   "outputs": [],
   "source": [
    "nutrition_information = get_nutrition_from_recipe(\"xr-2\")"
   ]
  },
  {
   "cell_type": "code",
   "execution_count": null,
   "id": "9d28fa52-a12c-428b-b551-606a9a8fe3e4",
   "metadata": {},
   "outputs": [
    {
     "data": {
      "text/plain": [
       "{'recipes_used': 23,\n",
       " 'calories': {'value': 100, 'unit': 'SKM'},\n",
       " 'carbs': {'value': 231, 'unit': 'SOM'}}"
      ]
     },
     "execution_count": null,
     "metadata": {},
     "output_type": "execute_result"
    }
   ],
   "source": [
    "nutrition_information["
   ]
  },
  {
   "cell_type": "code",
   "execution_count": null,
   "id": "dbbf512c-9e26-4691-8cff-ececd5a1670f",
   "metadata": {},
   "outputs": [],
   "source": []
  }
 ],
 "metadata": {
  "kernelspec": {
   "display_name": "Python 3 (ipykernel)",
   "language": "python",
   "name": "python3"
  }
 },
 "nbformat": 4,
 "nbformat_minor": 5
}
