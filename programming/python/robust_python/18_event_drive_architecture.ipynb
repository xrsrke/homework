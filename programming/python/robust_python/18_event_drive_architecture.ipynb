{
 "cells": [
  {
   "cell_type": "markdown",
   "id": "e880025a-a6e7-4bab-87af-82d96925e22d",
   "metadata": {},
   "source": [
    "# Chapter 18: Event-Driven Architecture"
   ]
  },
  {
   "cell_type": "code",
   "execution_count": null,
   "id": "71478fbd-e779-49cf-986b-d9259bda617b",
   "metadata": {},
   "outputs": [
    {
     "name": "stdout",
     "output_type": "stream",
     "text": [
      "Collecting rx\n",
      "  Downloading Rx-3.2.0-py3-none-any.whl (199 kB)\n",
      "\u001b[2K     \u001b[38;2;114;156;31m━━━━━━━━━━━━━━━━━━━━━━━━━━━━━━━━━━━━━━━\u001b[0m \u001b[32m199.2/199.2 kB\u001b[0m \u001b[31m1.6 MB/s\u001b[0m eta \u001b[36m0:00:00\u001b[0m MB/s\u001b[0m eta \u001b[36m0:00:01\u001b[0m\n",
      "\u001b[?25hInstalling collected packages: rx\n",
      "Successfully installed rx-3.2.0\n"
     ]
    }
   ],
   "source": [
    "!pip install rx"
   ]
  },
  {
   "cell_type": "code",
   "execution_count": null,
   "id": "49d92d0b-824c-40f9-a6c0-755bead40eb1",
   "metadata": {},
   "outputs": [],
   "source": [
    "import rx"
   ]
  },
  {
   "cell_type": "code",
   "execution_count": null,
   "id": "4d581443-be16-43e2-8785-b625d8389a73",
   "metadata": {},
   "outputs": [],
   "source": [
    "from dataclasses import dataclass"
   ]
  },
  {
   "cell_type": "code",
   "execution_count": null,
   "id": "7c8998c7-6fde-476f-8abd-01fc4929b884",
   "metadata": {},
   "outputs": [],
   "source": [
    "@dataclass\n",
    "class LocationOfData:\n",
    "    x: int\n",
    "    y: int\n",
    "    z: int"
   ]
  },
  {
   "cell_type": "code",
   "execution_count": null,
   "id": "c0a278e6-1f1c-405b-aebf-50f057b862c5",
   "metadata": {},
   "outputs": [],
   "source": [
    "observable = rx.of(\n",
    "    LocationOfData(x=3, y=12, z=40)\n",
    ")"
   ]
  },
  {
   "cell_type": "code",
   "execution_count": null,
   "id": "f06c3a33-0341-4709-a223-662ce3affbe3",
   "metadata": {},
   "outputs": [],
   "source": [
    "def handle_dron_data(value): print(f'value: {value}')"
   ]
  },
  {
   "cell_type": "code",
   "execution_count": null,
   "id": "11940128-5f87-4506-9174-7ba0f1e5c716",
   "metadata": {},
   "outputs": [
    {
     "name": "stdout",
     "output_type": "stream",
     "text": [
      "value: LocationOfData(x=3, y=12, z=40)\n"
     ]
    },
    {
     "data": {
      "text/plain": [
       "<rx.disposable.disposable.Disposable>"
      ]
     },
     "execution_count": null,
     "metadata": {},
     "output_type": "execute_result"
    }
   ],
   "source": [
    "observable.subscribe(handle_dron_data)"
   ]
  },
  {
   "cell_type": "code",
   "execution_count": null,
   "id": "171f4e15-8786-476b-9751-fe9015e3ecd7",
   "metadata": {},
   "outputs": [],
   "source": [
    "import rx.operators"
   ]
  }
 ],
 "metadata": {
  "kernelspec": {
   "display_name": "Python 3 (ipykernel)",
   "language": "python",
   "name": "python3"
  }
 },
 "nbformat": 4,
 "nbformat_minor": 5
}
