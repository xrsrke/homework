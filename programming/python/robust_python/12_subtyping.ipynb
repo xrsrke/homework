{
 "cells": [
  {
   "cell_type": "markdown",
   "id": "b0fb65e0-ea63-4574-8ae0-ae55e9e7943f",
   "metadata": {},
   "source": [
    "# Chapter 12: Subtyping"
   ]
  },
  {
   "cell_type": "code",
   "execution_count": null,
   "id": "3bb7d667-c884-4bcb-9eed-7dadee601c48",
   "metadata": {},
   "outputs": [],
   "source": []
  }
 ],
 "metadata": {
  "kernelspec": {
   "display_name": "Python 3 (ipykernel)",
   "language": "python",
   "name": "python3"
  }
 },
 "nbformat": 4,
 "nbformat_minor": 5
}
