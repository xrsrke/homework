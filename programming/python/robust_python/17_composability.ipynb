{
 "cells": [
  {
   "cell_type": "markdown",
   "id": "0e3ab456-08d5-493b-8ac4-875f5ae4feef",
   "metadata": {},
   "source": [
    "# Chapter 17: Composability"
   ]
  },
  {
   "cell_type": "markdown",
   "id": "45cabd92-c8cd-4983-a5a3-00ca2ab9a635",
   "metadata": {},
   "source": [
    "### 1. Composability"
   ]
  },
  {
   "cell_type": "code",
   "execution_count": null,
   "id": "42194370-ba7f-4db0-946f-a47a1a539c02",
   "metadata": {},
   "outputs": [],
   "source": []
  }
 ],
 "metadata": {
  "kernelspec": {
   "display_name": "Python 3 (ipykernel)",
   "language": "python",
   "name": "python3"
  }
 },
 "nbformat": 4,
 "nbformat_minor": 5
}
