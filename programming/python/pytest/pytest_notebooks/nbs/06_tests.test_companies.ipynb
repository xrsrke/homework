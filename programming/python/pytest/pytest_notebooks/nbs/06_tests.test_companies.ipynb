{
 "cells": [
  {
   "cell_type": "code",
   "execution_count": null,
   "id": "e247e65d-e0eb-4486-b23a-9ae0423d7afa",
   "metadata": {},
   "outputs": [],
   "source": [
    "#| default_exp tests.test_companies"
   ]
  },
  {
   "cell_type": "code",
   "execution_count": null,
   "id": "ad1a7551-d901-4ffe-bfd7-a9b5a5df519e",
   "metadata": {},
   "outputs": [],
   "source": [
    "#| hide\n",
    "#from pytest_notebooks.core import *"
   ]
  },
  {
   "cell_type": "code",
   "execution_count": null,
   "id": "911841e4-78bb-43bb-9be0-3722c55117bd",
   "metadata": {},
   "outputs": [],
   "source": [
    "#| hide\n",
    "from nbdev.showdoc import *"
   ]
  },
  {
   "cell_type": "code",
   "execution_count": null,
   "id": "36516a41-75d6-440e-9ddc-3e194c190ac4",
   "metadata": {},
   "outputs": [
    {
     "ename": "IndentationError",
     "evalue": "expected an indented block (<unknown>, line 15)",
     "output_type": "error",
     "traceback": [
      "Traceback \u001b[0;36m(most recent call last)\u001b[0m:\n",
      "  File \u001b[1;32m/opt/anaconda3/envs/deeplearning/lib/python3.9/site-packages/IPython/core/interactiveshell.py:3398\u001b[0m in \u001b[1;35mrun_code\u001b[0m\n    exec(code_obj, self.user_global_ns, self.user_ns)\n",
      "  Input \u001b[1;32mIn [4]\u001b[0m in \u001b[1;35m<cell line: 2>\u001b[0m\n    import nbdev; nbdev.nbdev_export()\n",
      "  File \u001b[1;32m/opt/anaconda3/envs/deeplearning/lib/python3.9/site-packages/fastcore/script.py:107\u001b[0m in \u001b[1;35m_f\u001b[0m\n    if not mod: return func(*args, **kwargs)\n",
      "  File \u001b[1;32m/opt/anaconda3/envs/deeplearning/lib/python3.9/site-packages/nbdev/doclinks.py:144\u001b[0m in \u001b[1;35mnbdev_export\u001b[0m\n    build_modidx()\n",
      "  File \u001b[1;32m/opt/anaconda3/envs/deeplearning/lib/python3.9/site-packages/nbdev/doclinks.py:115\u001b[0m in \u001b[1;35mbuild_modidx\u001b[0m\n    if Path(file).name[0]!='_': DocLinks(file, doc_func, _fn).build_index()\n",
      "  File \u001b[1;32m/opt/anaconda3/envs/deeplearning/lib/python3.9/site-packages/nbdev/doclinks.py:94\u001b[0m in \u001b[1;35mbuild_index\u001b[0m\n    self.update_syms()\n",
      "  File \u001b[1;32m/opt/anaconda3/envs/deeplearning/lib/python3.9/site-packages/nbdev/doclinks.py:84\u001b[0m in \u001b[1;35mupdate_syms\u001b[0m\n    exp,trees = _all_or_exports(self.mod_fn)\n",
      "  File \u001b[1;32m/opt/anaconda3/envs/deeplearning/lib/python3.9/site-packages/nbdev/doclinks.py:56\u001b[0m in \u001b[1;35m_all_or_exports\u001b[0m\n    trees = L(ast.parse(code).body)\n",
      "\u001b[0;36m  File \u001b[0;32m/opt/anaconda3/envs/deeplearning/lib/python3.9/ast.py:50\u001b[0;36m in \u001b[0;35mparse\u001b[0;36m\u001b[0m\n\u001b[0;31m    return compile(source, filename, mode, flags,\u001b[0m\n",
      "\u001b[0;36m  File \u001b[0;32m<unknown>:15\u001b[0;36m\u001b[0m\n\u001b[0;31m    \u001b[0m\n\u001b[0m    ^\u001b[0m\n\u001b[0;31mIndentationError\u001b[0m\u001b[0;31m:\u001b[0m expected an indented block\n"
     ]
    }
   ],
   "source": [
    "#| hide\n",
    "import nbdev; nbdev.nbdev_export()"
   ]
  },
  {
   "cell_type": "code",
   "execution_count": null,
   "id": "bf9a3be6-0807-44eb-b522-cb694c8dc913",
   "metadata": {},
   "outputs": [],
   "source": [
    "#| export\n",
    "import pytest\n",
    "from unittest import TestCase"
   ]
  },
  {
   "cell_type": "code",
   "execution_count": null,
   "id": "de5eeb61-80e3-42e4-90a3-5d16bbd2b313",
   "metadata": {},
   "outputs": [],
   "source": [
    "#| export\n",
    "class Company:\n",
    "    def get(self):\n",
    "        return []\n",
    "    \n",
    "    def list(self):\n",
    "        return 1"
   ]
  },
  {
   "cell_type": "code",
   "execution_count": null,
   "id": "98087030-0099-4972-a366-a0b2a14b94ff",
   "metadata": {},
   "outputs": [],
   "source": [
    "#| export\n",
    "class TestGetCompanies(TestCase):\n",
    "    def test_zero_companies_should_return_empty_list(self) -> None:\n",
    "        self.assertEqual(Company().get(), [])\n",
    "    \n",
    "    def test_list_companies_should(self) -> None:\n",
    "        self.assertIn(Company().list(), [4, 2])"
   ]
  },
  {
   "cell_type": "code",
   "execution_count": null,
   "id": "107dd4c6-69f3-41d9-bad3-fd99a3d461ef",
   "metadata": {},
   "outputs": [],
   "source": [
    "#| export\n",
    "class Company:\n",
    "    def list_companies(self):\n",
    "        return 1"
   ]
  },
  {
   "cell_type": "code",
   "execution_count": null,
   "id": "55fa6c79-91fa-42cb-b6f0-5cafe9b919a2",
   "metadata": {},
   "outputs": [],
   "source": [
    "list_companies = [1, 2, 3, 4]"
   ]
  },
  {
   "cell_type": "code",
   "execution_count": null,
   "id": "e35246d3-64d7-4bff-b70b-0bdcbdcba86c",
   "metadata": {},
   "outputs": [],
   "source": [
    "companies = Company().list_companies()"
   ]
  },
  {
   "cell_type": "markdown",
   "id": "cd9c3b9c-f5fe-42b0-bbcd-6bd9beed4ef5",
   "metadata": {},
   "source": [
    "Create a test that check does `list_companies` contains `companies`"
   ]
  },
  {
   "cell_type": "code",
   "execution_count": null,
   "id": "60a94c54-c827-4782-b87c-7b1c08d6b69d",
   "metadata": {},
   "outputs": [],
   "source": [
    "#| export\n",
    "class TestGetCompanies(TestCase):\n",
    "    \n",
    "    @pytest.mark.xfail\n",
    "    def test_list_companies_should_return_one(self):\n",
    "        list_companies = [1, 2, 3, 4]\n",
    "        self.assertIn(Company().list_companies(), list_companies)\n",
    "        self.assertEqual(1, 2)"
   ]
  },
  {
   "cell_type": "code",
   "execution_count": null,
   "id": "8e5b4da5-4d65-49f7-a9e0-b1e98ee2b551",
   "metadata": {},
   "outputs": [],
   "source": []
  },
  {
   "cell_type": "code",
   "execution_count": null,
   "id": "332c93e4-d836-4419-ad09-6cee0511b721",
   "metadata": {},
   "outputs": [],
   "source": [
    "#| export\n",
    "class TestFeature(TestCase):\n",
    "    \n",
    "    @pytest.mark.xfail\n",
    "    def test_feature_one(self):\n",
    "        self.assertEqual(1, 2)"
   ]
  },
  {
   "cell_type": "code",
   "execution_count": null,
   "id": "317da450-a953-4b5c-84fd-7d3691ca1a7a",
   "metadata": {},
   "outputs": [],
   "source": [
    "#| export\n",
    "a, b = 4, 3"
   ]
  },
  {
   "cell_type": "markdown",
   "id": "23c3c8f6-675e-443e-b889-e97c453b28ad",
   "metadata": {},
   "source": [
    "Create a test that\n",
    "- Test: does `a` equals `b`\n",
    "- Expected result: `a` == `b`\n",
    "- Requirements: If `a` != `b`, mark it's pass"
   ]
  },
  {
   "cell_type": "code",
   "execution_count": null,
   "id": "c2021d27-4eaf-4ad8-bb6d-a0cc666cd3c3",
   "metadata": {},
   "outputs": [],
   "source": [
    "#| export\n",
    "class TestFeature(TestCase):\n",
    "    \n",
    "    # @pytest.mark.xfail\n",
    "    @pytest.mark.skip\n",
    "    def test_equal_should_return_true(self):\n",
    "        self.assertEqual(a, b)"
   ]
  },
  {
   "cell_type": "code",
   "execution_count": null,
   "id": "5385e2de-4166-423e-a0e2-54ea2cd5a2d5",
   "metadata": {},
   "outputs": [],
   "source": [
    "#| export\n",
    "def raise_exception():\n",
    "    raise ValueError(\"This is a value error\")"
   ]
  },
  {
   "cell_type": "markdown",
   "id": "9d75a87a-c5d2-439c-a0cf-2f113f9b3a6a",
   "metadata": {},
   "source": [
    "Write a test that test does function `raise_exception` raise the exception `ValueError`"
   ]
  },
  {
   "cell_type": "code",
   "execution_count": null,
   "id": "420b9789-70ff-4100-b6eb-05b98d66066b",
   "metadata": {},
   "outputs": [],
   "source": [
    "#| export\n",
    "def test_raise_exception_should_pass() -> None:\n",
    "    with pytest.raises(ValueError) as e:\n",
    "        raise_exception()"
   ]
  },
  {
   "cell_type": "code",
   "execution_count": null,
   "id": "60eef12d-a504-4ad2-8868-c9cfcad75ca7",
   "metadata": {},
   "outputs": [],
   "source": [
    "#| export\n",
    "import logging"
   ]
  },
  {
   "cell_type": "code",
   "execution_count": null,
   "id": "eb222321-65b6-45e0-b293-6663f5563d08",
   "metadata": {},
   "outputs": [],
   "source": [
    "#| export\n",
    "logger = logging.getLogger(\"MY_LOG\")"
   ]
  },
  {
   "cell_type": "code",
   "execution_count": null,
   "id": "64a9b43c-90bc-4fcd-a6a3-9c5f532fdd99",
   "metadata": {},
   "outputs": [],
   "source": [
    "#| export\n",
    "def function_that_logs_something():\n",
    "    logger.warning(f\"logged message\")"
   ]
  },
  {
   "cell_type": "markdown",
   "id": "af8f43a9-7ef3-4294-b5ef-9e3b468c37ed",
   "metadata": {},
   "source": [
    "Write a test that test whether function `function_that_logs_something` return the expected log message"
   ]
  },
  {
   "cell_type": "code",
   "execution_count": null,
   "id": "e9640e55-d4f1-4b51-bb69-29520c74695f",
   "metadata": {},
   "outputs": [],
   "source": [
    "#| export\n",
    "def test_logged_warning_level(caplog):\n",
    "    \n",
    "    # code\n",
    "    function_that_logs_something()\n",
    "    assert \"logged message\" in caplog.text"
   ]
  },
  {
   "cell_type": "code",
   "execution_count": null,
   "id": "25a97f01-ab61-4cb7-b552-c93cf2dcd0c0",
   "metadata": {},
   "outputs": [],
   "source": []
  },
  {
   "cell_type": "code",
   "execution_count": null,
   "id": "fcd45ee4-66e0-48d1-898b-e078d9772cb3",
   "metadata": {},
   "outputs": [],
   "source": []
  }
 ],
 "metadata": {
  "kernelspec": {
   "display_name": "Python 3 (ipykernel)",
   "language": "python",
   "name": "python3"
  }
 },
 "nbformat": 4,
 "nbformat_minor": 5
}
