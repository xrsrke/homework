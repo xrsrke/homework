{
 "cells": [
  {
   "cell_type": "code",
   "execution_count": null,
   "id": "fbf3061d-102f-4e90-9ea6-d317d6805364",
   "metadata": {},
   "outputs": [],
   "source": [
    "#| default_exp tests.test_parametrize"
   ]
  },
  {
   "cell_type": "code",
   "execution_count": null,
   "id": "3103590a-d0c8-4b31-be34-9306e5b52bc5",
   "metadata": {},
   "outputs": [],
   "source": [
    "#| hide\n",
    "from nbdev.showdoc import *"
   ]
  },
  {
   "cell_type": "code",
   "execution_count": null,
   "id": "af6cbb64-b3a9-4fe4-aef9-799dba8b8332",
   "metadata": {},
   "outputs": [],
   "source": [
    "#| hide\n",
    "import nbdev; nbdev.nbdev_export()"
   ]
  },
  {
   "cell_type": "code",
   "execution_count": null,
   "id": "7a0cf9b6-6c5b-4fa0-95d8-c9c773a6f912",
   "metadata": {},
   "outputs": [],
   "source": [
    "#| export\n",
    "import pytest\n",
    "from unittest import TestCase"
   ]
  },
  {
   "cell_type": "code",
   "execution_count": null,
   "id": "71a9d367-62d2-45a4-8ee0-b0421e0ce113",
   "metadata": {},
   "outputs": [],
   "source": [
    "#| export\n",
    "def square(x):\n",
    "    return x * x"
   ]
  },
  {
   "cell_type": "code",
   "execution_count": null,
   "id": "c956e6d4-ec1c-49ef-96ee-d83ee32c73d0",
   "metadata": {},
   "outputs": [],
   "source": [
    "#| export\n",
    "def test_square_one():\n",
    "    assert square(1) == 1"
   ]
  },
  {
   "cell_type": "code",
   "execution_count": null,
   "id": "98b36057-65ae-47d6-b988-185efe284f9b",
   "metadata": {},
   "outputs": [],
   "source": [
    "#| export\n",
    "def test_square_two():\n",
    "    assert square(2) == 4"
   ]
  },
  {
   "cell_type": "markdown",
   "id": "746f3915-d3d4-4c17-8da7-ccb712833805",
   "metadata": {},
   "source": [
    "Write one test function that equivalent to two tests above"
   ]
  },
  {
   "cell_type": "code",
   "execution_count": null,
   "id": "3a83f1f0-a6c1-4f6f-b351-8d199ad98709",
   "metadata": {},
   "outputs": [],
   "source": [
    "#| export\n",
    "@pytest.mark.parametrize(\n",
    "    (\"test_input\", \"expected\"),\n",
    "    ((1, 1), (2, 4))\n",
    ")\n",
    "def test_square(test_input, expected):\n",
    "    assert square(test_input) == expected"
   ]
  },
  {
   "cell_type": "markdown",
   "id": "46fc1859-64bc-4a56-b228-3e6099049414",
   "metadata": {},
   "source": [
    "#### Name the test"
   ]
  },
  {
   "cell_type": "code",
   "execution_count": null,
   "id": "16e0488b-dc1b-4712-bd63-cc79a57ec432",
   "metadata": {},
   "outputs": [],
   "source": [
    "#| export\n",
    "def power_two(x):\n",
    "    return x ** 2"
   ]
  },
  {
   "cell_type": "code",
   "execution_count": null,
   "id": "e53b6429-5494-427f-9e08-8c7ca2928538",
   "metadata": {},
   "outputs": [],
   "source": [
    "#| export\n",
    "@pytest.mark.parametrize(\n",
    "    (\"test_input\", \"expected\"),\n",
    "    (pytest.param(5, 25, id=\"power_of_5\"),)\n",
    ")\n",
    "def test_power(test_input, expected):\n",
    "    assert power_two(test_input) == expected"
   ]
  },
  {
   "cell_type": "code",
   "execution_count": null,
   "id": "0fa7df5b-7793-4269-9e7d-66d5f148ab22",
   "metadata": {},
   "outputs": [],
   "source": []
  },
  {
   "cell_type": "code",
   "execution_count": null,
   "id": "9cd8af16-8aad-4226-8e26-b11bef63fb65",
   "metadata": {},
   "outputs": [],
   "source": []
  },
  {
   "cell_type": "code",
   "execution_count": null,
   "id": "20f7c1f0-cff2-4a9e-9055-a5ffb24bd5e3",
   "metadata": {},
   "outputs": [],
   "source": []
  },
  {
   "cell_type": "code",
   "execution_count": null,
   "id": "048b14f8-9d6d-4c63-819d-a68be8343fc9",
   "metadata": {},
   "outputs": [],
   "source": []
  }
 ],
 "metadata": {
  "kernelspec": {
   "display_name": "Python 3 (ipykernel)",
   "language": "python",
   "name": "python3"
  },
  "language_info": {
   "codemirror_mode": {
    "name": "ipython",
    "version": 3
   },
   "file_extension": ".py",
   "mimetype": "text/x-python",
   "name": "python",
   "nbconvert_exporter": "python",
   "pygments_lexer": "ipython3",
   "version": "3.9.13"
  }
 },
 "nbformat": 4,
 "nbformat_minor": 5
}
