{
 "cells": [
  {
   "cell_type": "code",
   "execution_count": 13,
   "id": "83fdd94b-8e01-40ad-bace-1bcbd8163e9d",
   "metadata": {},
   "outputs": [],
   "source": [
    "#| default_exp tests.a_02"
   ]
  },
  {
   "cell_type": "code",
   "execution_count": 14,
   "id": "b33dd83d-be8b-4e3c-8fb2-56b80cc109b7",
   "metadata": {},
   "outputs": [],
   "source": [
    "#| hide\n",
    "from nbdev.showdoc import *"
   ]
  },
  {
   "cell_type": "code",
   "execution_count": 15,
   "id": "d8b297ed-6f0c-44d6-b5b1-1d40a4e11a98",
   "metadata": {},
   "outputs": [],
   "source": [
    "#| hide\n",
    "import nbdev; nbdev.nbdev_export()"
   ]
  },
  {
   "cell_type": "code",
   "execution_count": 20,
   "id": "a43a8374-d74e-43f6-ac81-d774ef138500",
   "metadata": {},
   "outputs": [],
   "source": [
    "#| export\n",
    "import pytest"
   ]
  },
  {
   "cell_type": "code",
   "execution_count": 16,
   "id": "5585deb7-cf55-4910-ac76-b65c042200f4",
   "metadata": {},
   "outputs": [],
   "source": [
    "def utility():\n",
    "    pass"
   ]
  },
  {
   "cell_type": "markdown",
   "id": "224587e5-7b29-4fdb-ac1b-661637186d79",
   "metadata": {},
   "source": [
    "How to create a fixture `utility` that can be use in all other tests?"
   ]
  },
  {
   "cell_type": "markdown",
   "id": "53577c56-0ba5-40ac-92dd-ab88edf87bec",
   "metadata": {},
   "source": [
    "**Answer**"
   ]
  },
  {
   "cell_type": "markdown",
   "id": "6c2a84f6-5854-4653-89a7-3c5cb693afa1",
   "metadata": {},
   "source": [
    "Put the fixture `utility` to the file named `conftest.py`"
   ]
  },
  {
   "cell_type": "code",
   "execution_count": 8,
   "id": "59d72805-b5e7-43e0-b76e-51dfab2b5755",
   "metadata": {},
   "outputs": [],
   "source": [
    "@pytest.fixture\n",
    "def utility():\n",
    "    pass"
   ]
  },
  {
   "cell_type": "markdown",
   "id": "3adfeca7-8cac-4016-98ab-907454984174",
   "metadata": {},
   "source": [
    "### Use fixture in class"
   ]
  },
  {
   "cell_type": "code",
   "execution_count": 82,
   "id": "0c33f509-e646-4d51-84f5-1be0fe7b07ac",
   "metadata": {},
   "outputs": [],
   "source": [
    "#| export\n",
    "@pytest.fixture()\n",
    "def return_two():\n",
    "    yield\n",
    "    a = 2"
   ]
  },
  {
   "cell_type": "code",
   "execution_count": 85,
   "id": "88847a1c-c7e6-4528-8d23-d4e41552d157",
   "metadata": {},
   "outputs": [],
   "source": [
    "class TestFunc:\n",
    "    def test_one(self, return_two):\n",
    "        assert return_two == 2"
   ]
  },
  {
   "cell_type": "markdown",
   "id": "09d740e0-f10c-4744-9a76-72bd67196d06",
   "metadata": {},
   "source": [
    "Add fixture `return_two` to function `test_one`"
   ]
  },
  {
   "cell_type": "code",
   "execution_count": 84,
   "id": "c0bbdfb8-3996-484a-9666-c8b9fb949db3",
   "metadata": {},
   "outputs": [],
   "source": [
    "#| export\n",
    "@pytest.mark.usefixtures(\"return_two\")\n",
    "class TestFunc1:\n",
    "    def test_one(self):\n",
    "        assert self.a == 2"
   ]
  },
  {
   "cell_type": "markdown",
   "id": "0623861a-3331-4fa6-86f0-ed2cc19a3053",
   "metadata": {},
   "source": [
    "### Scope"
   ]
  },
  {
   "cell_type": "code",
   "execution_count": 11,
   "id": "61836246-f1bc-4d10-867e-db923e70241a",
   "metadata": {},
   "outputs": [],
   "source": [
    "#| export\n",
    "import random"
   ]
  },
  {
   "cell_type": "code",
   "execution_count": 45,
   "id": "4b276df0-b4fe-41ae-a3ce-89cad03988ad",
   "metadata": {},
   "outputs": [],
   "source": [
    "#| export\n",
    "@pytest.fixture\n",
    "def rand_number(scope=\"module\"):\n",
    "    return random.randint(0, 99)"
   ]
  },
  {
   "cell_type": "code",
   "execution_count": 74,
   "id": "d584bf77-5df7-41c7-8b61-a6877edb7fe6",
   "metadata": {},
   "outputs": [],
   "source": [
    "# #| export\n",
    "\n",
    "# class TestFunc:\n",
    "    \n",
    "#     def test_func_1(rand_number):\n",
    "#         assert rand_number == 2\n",
    "        \n",
    "#     def test_func_2(rand_number):\n",
    "#         assert rand_number == 2"
   ]
  },
  {
   "cell_type": "code",
   "execution_count": 47,
   "id": "8fc103de-2804-45e6-a03b-79ae032effdc",
   "metadata": {},
   "outputs": [],
   "source": [
    "#| export\n",
    "def test_func_1(rand_number):\n",
    "    assert rand_number == 2"
   ]
  },
  {
   "cell_type": "code",
   "execution_count": 48,
   "id": "05d8f7b3-2ac7-416e-816a-a42bd021538f",
   "metadata": {},
   "outputs": [],
   "source": [
    "#| export\n",
    "def test_func_2(rand_number):\n",
    "    assert rand_number == 2"
   ]
  },
  {
   "cell_type": "code",
   "execution_count": null,
   "id": "5e910aae-366f-4a5c-ae97-3e4259786413",
   "metadata": {},
   "outputs": [],
   "source": []
  },
  {
   "cell_type": "code",
   "execution_count": null,
   "id": "407a01c3-5d8d-4d92-96f4-09788eb7d591",
   "metadata": {},
   "outputs": [],
   "source": []
  }
 ],
 "metadata": {
  "kernelspec": {
   "display_name": "Python 3 (ipykernel)",
   "language": "python",
   "name": "python3"
  },
  "language_info": {
   "codemirror_mode": {
    "name": "ipython",
    "version": 3
   },
   "file_extension": ".py",
   "mimetype": "text/x-python",
   "name": "python",
   "nbconvert_exporter": "python",
   "pygments_lexer": "ipython3",
   "version": "3.9.13"
  }
 },
 "nbformat": 4,
 "nbformat_minor": 5
}
