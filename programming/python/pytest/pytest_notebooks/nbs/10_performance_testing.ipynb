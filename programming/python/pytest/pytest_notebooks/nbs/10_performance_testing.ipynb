{
 "cells": [
  {
   "cell_type": "markdown",
   "id": "e067aea5-7aea-4608-919b-3d101f3ccda2",
   "metadata": {},
   "source": [
    "# 10. Performance Testing"
   ]
  },
  {
   "cell_type": "code",
   "execution_count": 2,
   "id": "d9af9b6b-c2c4-4f0c-82bd-45ad04367a76",
   "metadata": {},
   "outputs": [],
   "source": [
    "#| default_exp tests.test_performance_testing"
   ]
  },
  {
   "cell_type": "code",
   "execution_count": 3,
   "id": "24bb8212-77c0-4f36-8fb4-bb4c227262a6",
   "metadata": {},
   "outputs": [],
   "source": [
    "#| hide\n",
    "#from pytest_notebooks.core import *"
   ]
  },
  {
   "cell_type": "code",
   "execution_count": 4,
   "id": "8cdc46bf-9aca-4a38-9927-8131991881b5",
   "metadata": {},
   "outputs": [],
   "source": [
    "#| hide\n",
    "from nbdev.showdoc import *"
   ]
  },
  {
   "cell_type": "code",
   "execution_count": 5,
   "id": "b89a8e7c-3ecd-4c1e-88fc-669dbda59439",
   "metadata": {},
   "outputs": [],
   "source": [
    "#| hide\n",
    "import nbdev; nbdev.nbdev_export()"
   ]
  },
  {
   "cell_type": "code",
   "execution_count": 6,
   "id": "f5dcbce9-6713-4610-9fa7-9bb0ec83f18f",
   "metadata": {},
   "outputs": [],
   "source": [
    "#| export\n",
    "import pytest\n",
    "from unittest import TestCase"
   ]
  },
  {
   "cell_type": "code",
   "execution_count": 7,
   "id": "9510886a-b51d-48f4-b8fb-e2736516108e",
   "metadata": {},
   "outputs": [],
   "source": [
    "#| export\n",
    "import pytest"
   ]
  },
  {
   "cell_type": "code",
   "execution_count": 8,
   "id": "38628ba4-a842-4743-921b-000d652c5e20",
   "metadata": {},
   "outputs": [],
   "source": [
    "#| export\n",
    "def slow_func():\n",
    "    x = 1\n",
    "    for i in range(1, 10):\n",
    "        x += x**i"
   ]
  },
  {
   "cell_type": "code",
   "execution_count": 9,
   "id": "47882100-d8bf-459f-8dbc-5c91de692f44",
   "metadata": {},
   "outputs": [],
   "source": [
    "#| export\n",
    "@pytest.mark.performance\n",
    "def test_slow_func():\n",
    "    slow_func()"
   ]
  },
  {
   "cell_type": "code",
   "execution_count": null,
   "id": "7008b032-029b-4da0-bc92-fa8b446c4c09",
   "metadata": {},
   "outputs": [],
   "source": []
  }
 ],
 "metadata": {
  "kernelspec": {
   "display_name": "Python 3 (ipykernel)",
   "language": "python",
   "name": "python3"
  },
  "language_info": {
   "codemirror_mode": {
    "name": "ipython",
    "version": 3
   },
   "file_extension": ".py",
   "mimetype": "text/x-python",
   "name": "python",
   "nbconvert_exporter": "python",
   "pygments_lexer": "ipython3",
   "version": "3.9.13"
  }
 },
 "nbformat": 4,
 "nbformat_minor": 5
}
