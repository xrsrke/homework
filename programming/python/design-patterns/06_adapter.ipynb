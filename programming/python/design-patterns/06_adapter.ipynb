{
 "cells": [
  {
   "cell_type": "markdown",
   "id": "153e1735-325b-454f-ac6d-e2cc4b45081c",
   "metadata": {},
   "source": [
    "# Apdater Pattern"
   ]
  },
  {
   "cell_type": "markdown",
   "id": "1de14c3c-a5d7-4013-a36d-25517d35be18",
   "metadata": {},
   "source": [
    "##### Example 1: Draw Point"
   ]
  },
  {
   "cell_type": "code",
   "execution_count": null,
   "id": "98375e5b-412d-4140-b403-c6b277753057",
   "metadata": {},
   "outputs": [],
   "source": [
    "class Point:\n",
    "    def __init__(self, x, y):\n",
    "        self.x = x\n",
    "        self.y = y"
   ]
  },
  {
   "cell_type": "code",
   "execution_count": null,
   "id": "1e77b7ad-9e38-4444-b220-24a832a10864",
   "metadata": {},
   "outputs": [],
   "source": [
    "def draw_point(p):\n",
    "    pass"
   ]
  },
  {
   "cell_type": "code",
   "execution_count": null,
   "id": "a70530b5-b926-46b5-ad4f-3a6bd036ed44",
   "metadata": {},
   "outputs": [],
   "source": [
    "class Line:\n",
    "    def __init__(self, start, end):\n",
    "        self.start = start\n",
    "        self.end = end"
   ]
  },
  {
   "cell_type": "code",
   "execution_count": null,
   "id": "89a0d536-9d15-4801-8c0e-ca332fa34d98",
   "metadata": {},
   "outputs": [],
   "source": [
    "class Rectangle:\n",
    "    def __init__(self, x, y, width, height):\n",
    "        pass"
   ]
  },
  {
   "cell_type": "code",
   "execution_count": null,
   "id": "f95a24b2-5874-4342-83e4-0be214fb4ad0",
   "metadata": {},
   "outputs": [],
   "source": [
    "class LineToPointAdapter:\n",
    "    count = 0\n",
    "    \n",
    "    def __init__(self):\n",
    "        self.count += 1\n",
    "        "
   ]
  },
  {
   "cell_type": "markdown",
   "id": "6f8850f5-dbe0-4125-a6e7-acdd5c8d03dc",
   "metadata": {},
   "source": [
    "##### Example 2: Speak different languages"
   ]
  },
  {
   "cell_type": "code",
   "execution_count": null,
   "id": "48e9cbd7-f1c9-4d26-bece-52fc4822a633",
   "metadata": {},
   "outputs": [],
   "source": [
    "class Dog:\n",
    "    def bark_bark(self):\n",
    "        return \"bark bark\""
   ]
  },
  {
   "cell_type": "code",
   "execution_count": null,
   "id": "7ef09edf-ebc3-406f-a73f-f50d46c0587f",
   "metadata": {},
   "outputs": [],
   "source": [
    "class Bird:\n",
    "    def buzz_buzz(self):\n",
    "        return \"buzz buzz\""
   ]
  },
  {
   "cell_type": "markdown",
   "id": "14c05f46-2781-41a1-9f7d-32f0e8a98b8f",
   "metadata": {},
   "source": [
    "Apply the `Adapter Pattern`"
   ]
  },
  {
   "cell_type": "code",
   "execution_count": null,
   "id": "35682b32-b054-4284-8113-b6f0253cc2b9",
   "metadata": {},
   "outputs": [],
   "source": [
    "class DogAdapter:\n",
    "    def __init__(self, dog):\n",
    "        self.dog = dog\n",
    "    \n",
    "    def hello(self):\n",
    "        return self.dog.bark_bark()"
   ]
  },
  {
   "cell_type": "code",
   "execution_count": null,
   "id": "4ccf5512-b0f1-4a82-ac72-01216544976f",
   "metadata": {},
   "outputs": [],
   "source": [
    "class BirdAdapter:\n",
    "    def __init__(self, bird):\n",
    "        self.bird = bird\n",
    "    \n",
    "    def hello(self):\n",
    "        return self.bird.buzz_buzz()"
   ]
  },
  {
   "cell_type": "code",
   "execution_count": null,
   "id": "6c0854b3-2134-4902-86b7-bc6fcaee4ce4",
   "metadata": {},
   "outputs": [
    {
     "data": {
      "text/plain": [
       "'bark bark'"
      ]
     },
     "execution_count": null,
     "metadata": {},
     "output_type": "execute_result"
    }
   ],
   "source": [
    "DogAdapter(Dog()).hello()"
   ]
  },
  {
   "cell_type": "code",
   "execution_count": null,
   "id": "44383514-5f43-42e3-b4b2-ec5294fb4974",
   "metadata": {},
   "outputs": [
    {
     "data": {
      "text/plain": [
       "'buzz buzz'"
      ]
     },
     "execution_count": null,
     "metadata": {},
     "output_type": "execute_result"
    }
   ],
   "source": [
    "BirdAdapter(Bird()).hello()"
   ]
  },
  {
   "cell_type": "code",
   "execution_count": null,
   "id": "ebc7d54f-7b37-473e-bd32-bb6dcea7cfe1",
   "metadata": {},
   "outputs": [],
   "source": []
  }
 ],
 "metadata": {
  "kernelspec": {
   "display_name": "Python 3 (ipykernel)",
   "language": "python",
   "name": "python3"
  }
 },
 "nbformat": 4,
 "nbformat_minor": 5
}
