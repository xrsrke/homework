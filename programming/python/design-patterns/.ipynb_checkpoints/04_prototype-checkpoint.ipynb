{
 "cells": [
  {
   "cell_type": "markdown",
   "id": "00565669-7175-4128-861b-f4d164e59e63",
   "metadata": {},
   "source": [
    "# Prototype Pattern"
   ]
  },
  {
   "cell_type": "markdown",
   "id": "7db71921-12ad-4adf-aebc-2b027ddf7853",
   "metadata": {},
   "source": [
    "##### Example 1: Person Address"
   ]
  },
  {
   "cell_type": "code",
   "execution_count": null,
   "id": "7abd50af-3c5c-41bf-b60c-8831ee1dae03",
   "metadata": {},
   "outputs": [],
   "source": [
    "import copy"
   ]
  },
  {
   "cell_type": "code",
   "execution_count": null,
   "id": "6b514fbf-5f99-4261-8745-cf5e29377dd6",
   "metadata": {},
   "outputs": [],
   "source": [
    "class Address:\n",
    "    def __init__(self, city, country):\n",
    "        self.city = city\n",
    "        self.country = country"
   ]
  },
  {
   "cell_type": "code",
   "execution_count": null,
   "id": "3fe5c43d-4784-4a30-97e7-f2777e541b41",
   "metadata": {},
   "outputs": [],
   "source": [
    "class Person:\n",
    "    def __init__(self, name, address):\n",
    "        self.name = name\n",
    "        self.address = address"
   ]
  },
  {
   "cell_type": "code",
   "execution_count": null,
   "id": "021d9b8f-8b97-4668-a9b6-b149413f27cf",
   "metadata": {},
   "outputs": [],
   "source": [
    "john = Person('John', Address('London', 'UK'))"
   ]
  },
  {
   "cell_type": "markdown",
   "id": "29ae7b24-2c05-4f74-b542-1f459fe0df83",
   "metadata": {},
   "source": [
    "Using the `Prototype Pattern` to create a person named Shivon that have the same address as John"
   ]
  },
  {
   "cell_type": "code",
   "execution_count": null,
   "id": "718ef589-0b7b-486b-99de-286e4d285f3c",
   "metadata": {},
   "outputs": [],
   "source": [
    "shivon = copy.deepcopy(john)"
   ]
  },
  {
   "cell_type": "code",
   "execution_count": null,
   "id": "399413b5-d96f-4047-acfe-288033014bf3",
   "metadata": {},
   "outputs": [],
   "source": [
    "shivon.name = \"Shivon\""
   ]
  },
  {
   "cell_type": "code",
   "execution_count": null,
   "id": "f89f14c5-9ffa-4b02-9c7b-3c5ae52fffe9",
   "metadata": {},
   "outputs": [
    {
     "data": {
      "text/plain": [
       "{'name': 'Shivon', 'address': <__main__.Address>}"
      ]
     },
     "execution_count": null,
     "metadata": {},
     "output_type": "execute_result"
    }
   ],
   "source": [
    "shivon.__dict__"
   ]
  },
  {
   "cell_type": "markdown",
   "id": "91cb252c-bb8d-4417-9ce6-b1b6bb04a8a9",
   "metadata": {},
   "source": [
    "##### Example 2: Employee Address (with Factory)"
   ]
  },
  {
   "cell_type": "code",
   "execution_count": null,
   "id": "cd839386-e942-4774-aa9d-3ed5a752d8ba",
   "metadata": {},
   "outputs": [],
   "source": [
    "class Address:\n",
    "    def __init__(self, city):\n",
    "        self.city = city"
   ]
  },
  {
   "cell_type": "code",
   "execution_count": null,
   "id": "ff1fd53a-158d-4e69-a5a5-6100ab81fc97",
   "metadata": {},
   "outputs": [],
   "source": [
    "class Employee:\n",
    "    def __init__(self, name, address):\n",
    "        self.name = name\n",
    "        self.address = address"
   ]
  },
  {
   "cell_type": "code",
   "execution_count": null,
   "id": "18ebb086-78a6-4ff0-b40b-143be95c7ae6",
   "metadata": {},
   "outputs": [],
   "source": [
    "class EmployeeFactory:\n",
    "    main_office_employee = Employee('', Address('City A'))\n",
    "    east_office_employee = Employee('', Address('City B'))\n",
    "    \n",
    "    @staticmethod\n",
    "    def __new_employee(proto, name):\n",
    "        prototype = copy.deepcopy(proto)\n",
    "        prototype.name = name\n",
    "    \n",
    "    @staticmethod\n",
    "    def new_main_office_employee(name):\n",
    "        return EmployeeFactory.__new_employee(\n",
    "            EmployeeFactory.main_office_employee,\n",
    "            name\n",
    "        )\n",
    "    \n",
    "    @staticmethod\n",
    "    def east_office_employee(name):\n",
    "        return EmployeeFactory.__new_employee(\n",
    "            EmployeeFactory.east_office_employee,\n",
    "            name\n",
    "        )"
   ]
  },
  {
   "cell_type": "code",
   "execution_count": null,
   "id": "7775998c-19c5-4cbe-a4e7-b90946930e23",
   "metadata": {},
   "outputs": [],
   "source": [
    "john = EmployeeFactory.new_main_office_employee('John')"
   ]
  },
  {
   "cell_type": "code",
   "execution_count": null,
   "id": "453767a0-2087-46c6-9669-906adeddb8a1",
   "metadata": {},
   "outputs": [],
   "source": [
    "john"
   ]
  },
  {
   "cell_type": "code",
   "execution_count": null,
   "id": "92239888-b021-47b1-81ad-b7a514b7a2a1",
   "metadata": {},
   "outputs": [
    {
     "ename": "AttributeError",
     "evalue": "'NoneType' object has no attribute '__dict__'",
     "output_type": "error",
     "traceback": [
      "\u001b[0;31m---------------------------------------------------------------------------\u001b[0m",
      "\u001b[0;31mAttributeError\u001b[0m                            Traceback (most recent call last)",
      "Input \u001b[0;32mIn [45]\u001b[0m, in \u001b[0;36m<cell line: 1>\u001b[0;34m()\u001b[0m\n\u001b[0;32m----> 1\u001b[0m \u001b[43mjohn\u001b[49m\u001b[38;5;241;43m.\u001b[39;49m\u001b[38;5;18;43m__dict__\u001b[39;49m\n",
      "\u001b[0;31mAttributeError\u001b[0m: 'NoneType' object has no attribute '__dict__'"
     ]
    }
   ],
   "source": [
    "john.__dict__"
   ]
  },
  {
   "cell_type": "code",
   "execution_count": null,
   "id": "484b1db0-5cc8-417b-b4ac-dbbe9f9544c2",
   "metadata": {},
   "outputs": [],
   "source": []
  }
 ],
 "metadata": {
  "kernelspec": {
   "display_name": "Python 3 (ipykernel)",
   "language": "python",
   "name": "python3"
  }
 },
 "nbformat": 4,
 "nbformat_minor": 5
}
