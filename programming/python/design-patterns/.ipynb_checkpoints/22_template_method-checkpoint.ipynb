{
 "cells": [
  {
   "cell_type": "markdown",
   "id": "1b408486-d65e-4edb-bd92-c7250942834b",
   "metadata": {},
   "source": [
    "# Template Method"
   ]
  },
  {
   "cell_type": "markdown",
   "id": "592c74d7-2153-412d-9fe6-37d8faeb6c37",
   "metadata": {},
   "source": [
    "##### Example"
   ]
  },
  {
   "cell_type": "code",
   "execution_count": null,
   "id": "772ef702-23ed-438a-8163-ef10b9367efc",
   "metadata": {},
   "outputs": [],
   "source": [
    "from abc import ABC, abstractmethod"
   ]
  },
  {
   "cell_type": "code",
   "execution_count": null,
   "id": "467feba7-a1b1-419c-aa2d-abfb25c3ba24",
   "metadata": {},
   "outputs": [],
   "source": [
    "class Game(ABC):\n",
    "    def __init__(self, n_players):\n",
    "        self.n_players = n_players\n",
    "        self.current_player = 0\n",
    "    \n",
    "    def run(self):\n",
    "        self.start()\n",
    "        while not self.have_winner:\n",
    "            self.take_turn()\n",
    "        \n",
    "        print(f'Player {self.winning_player} wins!')\n",
    "    \n",
    "    def start(self): pass\n",
    "    \n",
    "    @property\n",
    "    def have_winner(self): pass\n",
    "    \n",
    "    def take_turn(self): pass\n",
    "\n",
    "    @property\n",
    "    def winning_player(self): pass"
   ]
  },
  {
   "cell_type": "markdown",
   "id": "7ed90cc6-e77e-4888-8129-47ec63ad48d5",
   "metadata": {},
   "source": [
    "##### Example 2"
   ]
  },
  {
   "cell_type": "code",
   "execution_count": null,
   "id": "715addb5-2d07-462e-9000-c9b4167604e1",
   "metadata": {},
   "outputs": [],
   "source": [
    "class SalesReport:\n",
    "    def __init__(self, company, sales):\n",
    "        self.company = company\n",
    "        self.sales = sales\n",
    "    \n",
    "    def make_report(self):\n",
    "        print(f'Company: {self.company}')\n",
    "        print(f'Sales: {self.sales}')"
   ]
  },
  {
   "cell_type": "code",
   "execution_count": null,
   "id": "3a821c4b-f1f9-40cc-ad1d-13f5cb2c3b7e",
   "metadata": {},
   "outputs": [],
   "source": [
    "class CostsReport:\n",
    "    def __init__(self, company, costs):\n",
    "        self.company = company\n",
    "        self.costs = costs\n",
    "    \n",
    "    def make_report(self):\n",
    "        print(f'Company: {self.company}')\n",
    "        print(f'Costs: {self.cost}')"
   ]
  },
  {
   "cell_type": "markdown",
   "id": "97712ac6-0a94-47e9-b6d4-64d40bf5ce04",
   "metadata": {},
   "source": [
    "Refactor using the `Template Method Pattern`"
   ]
  },
  {
   "cell_type": "code",
   "execution_count": null,
   "id": "d7a5a130-ad92-4cd2-82c9-63f3385aa364",
   "metadata": {},
   "outputs": [],
   "source": [
    "from abc import ABC, abstractmethod"
   ]
  },
  {
   "cell_type": "code",
   "execution_count": null,
   "id": "e9e81ded-4492-4ac7-a109-7a27cfc4eac5",
   "metadata": {},
   "outputs": [],
   "source": [
    "class Report(ABC):\n",
    "    @abstractmethod\n",
    "    def make_report_body(self):\n",
    "        pass\n",
    "    \n",
    "    def make_report(self):\n",
    "        print(f'Company: {self.company}')\n",
    "        self.make_report_body()"
   ]
  },
  {
   "cell_type": "code",
   "execution_count": null,
   "id": "c6224754-ef01-4bb7-96d4-7cec407f24b8",
   "metadata": {},
   "outputs": [],
   "source": [
    "class SalesReport(Report):\n",
    "    def __init__(self, company, sales):\n",
    "        self.company = company\n",
    "        self.sales = sales\n",
    "        \n",
    "    def make_report_body(self):\n",
    "        print(f'Sales: {self.sales}')"
   ]
  },
  {
   "cell_type": "code",
   "execution_count": null,
   "id": "2c980534-3aab-469e-8084-1d62717c830c",
   "metadata": {},
   "outputs": [],
   "source": [
    "class CostsReport(Report):\n",
    "    def __init__(self, company, costs):\n",
    "        self.company = company\n",
    "        self.costs = costs\n",
    "    \n",
    "    def make_report_body(self):\n",
    "        print(f'Costs: {self.cost}')"
   ]
  },
  {
   "cell_type": "code",
   "execution_count": null,
   "id": "c4779de7-986b-4267-8384-35a265f529fc",
   "metadata": {},
   "outputs": [],
   "source": [
    "sales = SalesReport('Tesla', 100)"
   ]
  },
  {
   "cell_type": "code",
   "execution_count": null,
   "id": "05e2933e-2ee6-4a38-8399-49e6ea96f282",
   "metadata": {},
   "outputs": [
    {
     "name": "stdout",
     "output_type": "stream",
     "text": [
      "Company: Tesla\n",
      "Sales: 100\n"
     ]
    }
   ],
   "source": [
    "sales.make_report()"
   ]
  }
 ],
 "metadata": {
  "kernelspec": {
   "display_name": "Python 3 (ipykernel)",
   "language": "python",
   "name": "python3"
  }
 },
 "nbformat": 4,
 "nbformat_minor": 5
}
