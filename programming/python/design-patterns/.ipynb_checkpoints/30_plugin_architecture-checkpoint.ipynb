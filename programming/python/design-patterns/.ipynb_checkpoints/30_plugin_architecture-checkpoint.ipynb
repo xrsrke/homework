{
 "cells": [
  {
   "cell_type": "markdown",
   "id": "88eddb12-b612-4c67-8ee2-ae0a1572cebe",
   "metadata": {},
   "source": [
    "# 30. Plugin Architecture"
   ]
  },
  {
   "cell_type": "code",
   "execution_count": null,
   "id": "83c55b6c-175e-4af5-b495-2a1ca1ee5069",
   "metadata": {},
   "outputs": [],
   "source": [
    "class GameCharacter:\n",
    "    def make_a_noise(self):\n",
    "        pass"
   ]
  },
  {
   "cell_type": "code",
   "execution_count": null,
   "id": "c3ade458-cfaa-4f87-a227-3cf8aa1f8c4f",
   "metadata": {},
   "outputs": [],
   "source": [
    "character_creation_func = {}"
   ]
  },
  {
   "cell_type": "code",
   "execution_count": null,
   "id": "4a2b4572-af20-4b66-b346-7cec3a59c415",
   "metadata": {},
   "outputs": [],
   "source": [
    "def register(character_type, creation_func):\n",
    "    character_creation_func[character_type] = creation_func"
   ]
  },
  {
   "cell_type": "code",
   "execution_count": null,
   "id": "7e710e82-6711-4c10-ba5e-eea9bbfd6869",
   "metadata": {},
   "outputs": [],
   "source": [
    "def unregister(character_type):\n",
    "    character_creation_func.pop(character_type, None)"
   ]
  },
  {
   "cell_type": "code",
   "execution_count": null,
   "id": "5da7f3d7-2bd2-4056-848c-c13c92544a6f",
   "metadata": {},
   "outputs": [],
   "source": [
    "def create(args):\n",
    "    character_type = args['type']\n",
    "    creation_func = character_creation_func[character_type]\n",
    "    return creation_func(**args)"
   ]
  },
  {
   "cell_type": "code",
   "execution_count": null,
   "id": "e52041f0-e7b4-4277-8fc8-9866e4a6a18e",
   "metadata": {},
   "outputs": [],
   "source": [
    "from dataclasses import dataclass\n",
    "import json"
   ]
  },
  {
   "cell_type": "code",
   "execution_count": null,
   "id": "a25e7d37-9b87-4601-9e9f-242b5068dd1b",
   "metadata": {},
   "outputs": [],
   "source": [
    "@dataclass\n",
    "class Sorcerer:\n",
    "    name: str\n",
    "    def make_a_noise(self):\n",
    "        print('Aaaarhgh!')"
   ]
  },
  {
   "cell_type": "code",
   "execution_count": null,
   "id": "7fa0b1a2-814b-4896-9b4c-c1306c9bcf37",
   "metadata": {},
   "outputs": [],
   "source": [
    "@dataclass\n",
    "class Wizard:\n",
    "    name: str\n",
    "    def make_a_noise(self):\n",
    "        print('Hmmm!')"
   ]
  },
  {
   "cell_type": "code",
   "execution_count": null,
   "id": "7819f942-f1f5-4e96-9920-05f1b4742722",
   "metadata": {},
   "outputs": [],
   "source": [
    "with open('./game_character.json') as file:\n",
    "    data = json.load(file)\n",
    "    \n",
    "    characters = []\n",
    "    for item in data['characters']:\n",
    "        if item['type'] == 'sorcerer':\n",
    "            characters.append(Sorcerer(item['name']))\n",
    "        elif item['type'] == 'witcher':\n",
    "            characters.append(Wizard(item['name']))"
   ]
  },
  {
   "cell_type": "code",
   "execution_count": null,
   "id": "bfbf836c-5f34-4b18-97bf-c79cb96ed932",
   "metadata": {},
   "outputs": [
    {
     "data": {
      "text/plain": [
       "[Wizard(name='Geralt'), Sorcerer(name='Yennefer')]"
      ]
     },
     "execution_count": null,
     "metadata": {},
     "output_type": "execute_result"
    }
   ],
   "source": [
    "characters"
   ]
  },
  {
   "cell_type": "code",
   "execution_count": null,
   "id": "8a05aa75-7740-4b61-8f44-fa7483d91903",
   "metadata": {},
   "outputs": [],
   "source": []
  }
 ],
 "metadata": {
  "kernelspec": {
   "display_name": "Python 3 (ipykernel)",
   "language": "python",
   "name": "python3"
  }
 },
 "nbformat": 4,
 "nbformat_minor": 5
}
