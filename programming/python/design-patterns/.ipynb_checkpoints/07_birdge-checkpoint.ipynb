{
 "cells": [
  {
   "cell_type": "markdown",
   "id": "de19ee67-0070-4af1-8b60-8197c09677f0",
   "metadata": {},
   "source": [
    "# Bridge"
   ]
  },
  {
   "cell_type": "markdown",
   "id": "3e00aad0-955d-4910-a240-92ee344891c3",
   "metadata": {},
   "source": [
    "##### Example: Draw Circle with difference styles"
   ]
  },
  {
   "cell_type": "code",
   "execution_count": null,
   "id": "a636a05f-8946-4559-ab99-f0d8e80a0cc2",
   "metadata": {},
   "outputs": [],
   "source": [
    "class Renderer(ABC):\n",
    "    def render_circle(self, radius):\n",
    "        pass\n",
    "    \n",
    "    def render_square(self, size):\n",
    "        pass"
   ]
  },
  {
   "cell_type": "code",
   "execution_count": null,
   "id": "6468aed9-e337-44c8-8168-31edd3382c7f",
   "metadata": {},
   "outputs": [],
   "source": [
    "class ColorRender(Renderer):\n",
    "    def render_circle(self, radius):\n",
    "        pass"
   ]
  },
  {
   "cell_type": "code",
   "execution_count": null,
   "id": "ca8a5a1a-3f81-4661-b446-1cf997434074",
   "metadata": {},
   "outputs": [],
   "source": [
    "class GreyRender(Renderer):\n",
    "    def render_circle(self, radius):\n",
    "        pass"
   ]
  },
  {
   "cell_type": "code",
   "execution_count": null,
   "id": "4022e06f-4306-42b0-a829-86d6ecb95dd8",
   "metadata": {},
   "outputs": [],
   "source": [
    "class Shape:\n",
    "    def __init__(self, renderer):\n",
    "        self.renderer = renderer\n",
    "    \n",
    "    def draw(self): pass\n",
    "    \n",
    "    def resize(self): pass"
   ]
  },
  {
   "cell_type": "code",
   "execution_count": null,
   "id": "ab6ac64f-b8d1-4399-9214-3af7ed8ddab2",
   "metadata": {},
   "outputs": [],
   "source": [
    "pass"
   ]
  },
  {
   "cell_type": "markdown",
   "id": "c1c2ba32-1c70-412c-9cd5-47c578f708b9",
   "metadata": {},
   "source": [
    "##### Example 2: Streaming services with difference devices"
   ]
  },
  {
   "cell_type": "code",
   "execution_count": null,
   "id": "affb7fed-0131-4b5d-a88e-2da8aa142d4e",
   "metadata": {},
   "outputs": [],
   "source": [
    "from abc import ABC, abstractclassmethod"
   ]
  },
  {
   "cell_type": "code",
   "execution_count": null,
   "id": "c1932701-7a73-4d80-a688-4e9539de3a7f",
   "metadata": {},
   "outputs": [],
   "source": [
    "class StreamingService(ABC):\n",
    "    @abstractclassmethod\n",
    "    def start_stream():\n",
    "        pass\n",
    "    \n",
    "    @abstractclassmethod\n",
    "    def end_stream():\n",
    "        pass"
   ]
  },
  {
   "cell_type": "code",
   "execution_count": null,
   "id": "2045a6a5-d11f-4004-ae80-54a352fb0c13",
   "metadata": {},
   "outputs": [],
   "source": [
    "class YoutubeStreamingService(StreamingService):\n",
    "    pass"
   ]
  },
  {
   "cell_type": "code",
   "execution_count": null,
   "id": "b0fbbc75-7bce-4c95-9c7d-38746f465397",
   "metadata": {},
   "outputs": [],
   "source": [
    "class TwitchStreamingService(StreamingService):\n",
    "    pass"
   ]
  },
  {
   "cell_type": "markdown",
   "id": "53a43416-a488-409d-b4fc-ff3e26b1cbe1",
   "metadata": {},
   "source": [
    "##### Example 3: Streaming Services"
   ]
  },
  {
   "cell_type": "code",
   "execution_count": null,
   "id": "c9cfa411-1247-4256-80cd-81d61afb5fad",
   "metadata": {},
   "outputs": [],
   "source": [
    "class StreamingService:\n",
    "    def start_stream(self):\n",
    "        pass\n",
    "    \n",
    "    def fill_buffer(self, stream_reference):\n",
    "        pass\n",
    "    \n",
    "    def stop_stream(self, stream_reference):\n",
    "        pass"
   ]
  },
  {
   "cell_type": "code",
   "execution_count": null,
   "id": "d8b16fe1-9f28-460d-a311-9f9bdb26577a",
   "metadata": {},
   "outputs": [],
   "source": [
    "class StreamingDevice:\n",
    "    def get_buffer_data(self):\n",
    "        pass"
   ]
  },
  {
   "cell_type": "code",
   "execution_count": null,
   "id": "c11de5ec-ed6a-45fd-b774-f98e0b7d4e63",
   "metadata": {},
   "outputs": [],
   "source": [
    "class PhoneCamera:\n",
    "    def get_buffer_data(self):\n",
    "        return '### PHONE DATA ###'"
   ]
  },
  {
   "cell_type": "code",
   "execution_count": null,
   "id": "4a211492-2f58-4c5a-ac77-f72c9a34f5c3",
   "metadata": {},
   "outputs": [],
   "source": [
    "class Webcam:\n",
    "    def get_buffer_data(self):\n",
    "        return '### WEBCAM DATA ###'"
   ]
  },
  {
   "cell_type": "code",
   "execution_count": null,
   "id": "995d4a8b-e140-4235-94dc-a3f4c4205e05",
   "metadata": {},
   "outputs": [],
   "source": [
    "from dataclasses import dataclass"
   ]
  },
  {
   "cell_type": "code",
   "execution_count": null,
   "id": "02a36475-75c4-4b3b-bc2d-8ff6e2724a22",
   "metadata": {},
   "outputs": [],
   "source": [
    "@dataclass\n",
    "class YoutubeStreamingService:\n",
    "    device: StreamingDevice\n",
    "    \n",
    "    def start_stream(self):\n",
    "        stream_reference = 123\n",
    "        print(f'Start Youtube stream with reference {stream_reference}')\n",
    "        return stream_reference\n",
    "    \n",
    "    def fill_buffer(self, stream_reference):\n",
    "        buffer_data = self.device.get_buffer_data()\n",
    "        print(f'Receive buffer data {buffer_data}. Sending to Youtube')\n",
    "    \n",
    "    def stop_stream(self, stream_reference):\n",
    "        print(f'Closing Youtube stream with reference {stream_reference}')"
   ]
  },
  {
   "cell_type": "code",
   "execution_count": null,
   "id": "ab06360c-bf05-4cb1-8a88-cf647b12601d",
   "metadata": {},
   "outputs": [],
   "source": [
    "@dataclass\n",
    "class TwitchStreamingService:\n",
    "    device: StreamingDevice\n",
    "    \n",
    "    def start_stream(self):\n",
    "        stream_reference = 123\n",
    "        print(f'Start Twitch stream with reference {stream_reference}')\n",
    "        return stream_reference\n",
    "    \n",
    "    def fill_buffer(self, stream_reference):\n",
    "        buffer_data = self.device.get_buffer_data()\n",
    "        print(f'Receive buffer data {buffer_data}. Sending to Twitch')\n",
    "    \n",
    "    def stop_stream(self, stream_reference):\n",
    "        print(f'Closing Twitch stream with reference {stream_reference}')"
   ]
  },
  {
   "cell_type": "code",
   "execution_count": null,
   "id": "89fdec21-46b7-41cc-b9bb-12600f0e77a5",
   "metadata": {},
   "outputs": [],
   "source": [
    "device_webcam = Webcam()"
   ]
  },
  {
   "cell_type": "code",
   "execution_count": null,
   "id": "5e693402-e24c-4b08-bb6c-c7a7808617a5",
   "metadata": {},
   "outputs": [],
   "source": [
    "youtube_stream = YoutubeStreamingService(device_webcam)"
   ]
  },
  {
   "cell_type": "code",
   "execution_count": null,
   "id": "117540c9-df0c-464c-8e26-30f1c762b6aa",
   "metadata": {},
   "outputs": [
    {
     "name": "stdout",
     "output_type": "stream",
     "text": [
      "Start Youtube stream with reference 123\n"
     ]
    }
   ],
   "source": [
    "reference = youtube_stream.start_stream()"
   ]
  },
  {
   "cell_type": "code",
   "execution_count": null,
   "id": "b353cf87-d631-4f97-9120-9b023c8874a9",
   "metadata": {},
   "outputs": [
    {
     "name": "stdout",
     "output_type": "stream",
     "text": [
      "Receive buffer data ### WEBCAM DATA ###. Sending to Youtube\n"
     ]
    }
   ],
   "source": [
    "youtube_stream.fill_buffer(reference)"
   ]
  },
  {
   "cell_type": "markdown",
   "id": "f7471d09-09a7-4d76-917c-6ad654d76a73",
   "metadata": {},
   "source": [
    "##### Example 4: Operating System"
   ]
  },
  {
   "cell_type": "code",
   "execution_count": null,
   "id": "6767cd16-63e8-4d48-bc40-8812e9e2b9b8",
   "metadata": {},
   "outputs": [],
   "source": [
    "class Linux:\n",
    "    def implement(self):\n",
    "        print('Linux activating...')\n",
    "\n",
    "    def operate(self):\n",
    "        self.implement()"
   ]
  },
  {
   "cell_type": "code",
   "execution_count": null,
   "id": "a8f4294e-34f0-40b0-b180-bc04d6451f6f",
   "metadata": {},
   "outputs": [],
   "source": [
    "linux = Linux()"
   ]
  },
  {
   "cell_type": "code",
   "execution_count": null,
   "id": "4e25339e-9fe0-420c-9030-ba5f35ceb561",
   "metadata": {},
   "outputs": [
    {
     "name": "stdout",
     "output_type": "stream",
     "text": [
      "Linux activating...\n"
     ]
    }
   ],
   "source": [
    "linux.operate()"
   ]
  },
  {
   "cell_type": "markdown",
   "id": "e5e23b6c-b22b-4fc6-b29a-c6fa747b0b1f",
   "metadata": {},
   "source": [
    "Refactor using the `Bridge pattern`"
   ]
  },
  {
   "cell_type": "code",
   "execution_count": null,
   "id": "48a9753d-08ad-478d-911d-49d32e3954dd",
   "metadata": {},
   "outputs": [],
   "source": [
    "from abc import ABC, abstractmethod"
   ]
  },
  {
   "cell_type": "code",
   "execution_count": null,
   "id": "dfb02c64-58c0-4352-8cc2-4d0214a70b98",
   "metadata": {},
   "outputs": [],
   "source": [
    "class OS(ABC):\n",
    "    @abstractmethod\n",
    "    def operate(self):\n",
    "        pass"
   ]
  },
  {
   "cell_type": "code",
   "execution_count": null,
   "id": "ec050b41-b13e-4ce0-a81e-5c45de88433a",
   "metadata": {},
   "outputs": [],
   "source": [
    "class OSImplementer(ABC):\n",
    "    @abstractmethod\n",
    "    def operator_implement():\n",
    "        pass"
   ]
  },
  {
   "cell_type": "code",
   "execution_count": null,
   "id": "b9df417b-f318-48af-929f-9190af6bc607",
   "metadata": {},
   "outputs": [],
   "source": [
    "class LinuxImplementer(OSImplementer):\n",
    "    def operator_implement(self):\n",
    "        print('Linux activating...')"
   ]
  },
  {
   "cell_type": "code",
   "execution_count": null,
   "id": "6fd4d9f4-b498-4256-b6e8-2bee0bcc4228",
   "metadata": {},
   "outputs": [],
   "source": [
    "class Linux(OS):\n",
    "    def __init__(self, implementer: LinuxImplementer):\n",
    "        self.implementer = implementer\n",
    "    \n",
    "    def operate(self):\n",
    "        self.implementer.operator_implement()"
   ]
  },
  {
   "cell_type": "code",
   "execution_count": null,
   "id": "b9a6051a-4e54-482d-aa5e-5d34ec0305f7",
   "metadata": {},
   "outputs": [],
   "source": [
    "linux = Linux(LinuxImplementer())"
   ]
  },
  {
   "cell_type": "code",
   "execution_count": null,
   "id": "70c1d0e4-c833-495b-9505-24da757861af",
   "metadata": {},
   "outputs": [
    {
     "name": "stdout",
     "output_type": "stream",
     "text": [
      "Linux activating...\n"
     ]
    }
   ],
   "source": [
    "linux.operate()"
   ]
  },
  {
   "cell_type": "code",
   "execution_count": null,
   "id": "a28a7711-85d7-43ce-ac45-3e507dc9d923",
   "metadata": {},
   "outputs": [],
   "source": []
  }
 ],
 "metadata": {
  "kernelspec": {
   "display_name": "Python 3 (ipykernel)",
   "language": "python",
   "name": "python3"
  }
 },
 "nbformat": 4,
 "nbformat_minor": 5
}
