{
 "cells": [
  {
   "cell_type": "markdown",
   "id": "ac8107ee-b0ea-44f0-b36e-8fbd80d2401c",
   "metadata": {},
   "source": [
    "# 17. Mediator"
   ]
  },
  {
   "cell_type": "markdown",
   "id": "1bb3cd97-2999-440a-be0e-0402c0ecfdb0",
   "metadata": {},
   "source": [
    "##### Example 1: Chat room"
   ]
  },
  {
   "cell_type": "code",
   "execution_count": null,
   "id": "48e86146-d5b2-4f78-ba1a-0c41f7a023d3",
   "metadata": {},
   "outputs": [],
   "source": [
    "class Person:\n",
    "    def __init__(self, name):\n",
    "        self.name = name\n",
    "        self.chat_log = []\n",
    "        self.room = None\n",
    "    \n",
    "    def receive(self, sender, message):\n",
    "        s = f'{sender}: {message}'\n",
    "        pass"
   ]
  },
  {
   "cell_type": "code",
   "execution_count": null,
   "id": "36ffe432-ab6d-401a-973f-eb53f48c3da8",
   "metadata": {},
   "outputs": [],
   "source": [
    "class ChatRoom:\n",
    "    def __init__(self):\n",
    "        self.people = []\n",
    "    \n",
    "    def join(self, person):\n",
    "        join_msg = f'{person.name} joined the chat'\n",
    "        self.broadcast('room', join_msg)\n",
    "        person.room = self\n",
    "        self.people.append(person)\n",
    "    \n",
    "    def broadcast(self, source, message):\n",
    "        for p in self.people:\n",
    "            if p.name != source:\n",
    "                p.receive(source, message)"
   ]
  },
  {
   "cell_type": "markdown",
   "id": "d39fb215-80e8-4e35-8d9e-1d53cadd4b37",
   "metadata": {},
   "source": [
    "##### Example 1.1"
   ]
  },
  {
   "cell_type": "code",
   "execution_count": null,
   "id": "11b36897-776b-4221-b61e-e569252eb8ed",
   "metadata": {},
   "outputs": [],
   "source": [
    "class Person:\n",
    "    def __init__(self, name):\n",
    "        self.name = name\n",
    "        self.chat_log = []\n",
    "        self.room = None\n",
    "    \n",
    "    def receive(self, sender, message):\n",
    "        s = f'{sender}: {message}'\n",
    "        print(f'[{self.name}]\\'s chat session] {s}')\n",
    "        self.chat_log.append(s)"
   ]
  },
  {
   "cell_type": "code",
   "execution_count": null,
   "id": "64f703eb-5023-4293-a622-2549dd113f3c",
   "metadata": {},
   "outputs": [],
   "source": [
    "class ChatRoom:\n",
    "    def __init__(self):\n",
    "        self.people = []\n",
    "\n",
    "    def join(self, person):\n",
    "        join_msg = f'{person.name} joins the chat'\n",
    "        self.broadcast('room', join_msg)\n",
    "        person.room = self\n",
    "        self.people.append(person)\n",
    "    \n",
    "    def broadcast(self, source, msg):\n",
    "        for p in self.people:\n",
    "            if p.name != source:\n",
    "                p.receive(source, message)"
   ]
  },
  {
   "cell_type": "code",
   "execution_count": null,
   "id": "7ab87ef5-f2e2-4acf-beed-288502a31edc",
   "metadata": {},
   "outputs": [],
   "source": []
  },
  {
   "cell_type": "markdown",
   "id": "6d16d78e-9c66-4713-95bf-03574a4fe334",
   "metadata": {},
   "source": [
    "##### Example 2"
   ]
  },
  {
   "cell_type": "code",
   "execution_count": null,
   "id": "022892eb-0702-4ea9-a694-9f647c3bb6b8",
   "metadata": {},
   "outputs": [],
   "source": [
    "class Event(list):\n",
    "    def __call__(self, *args, **kwargs):\n",
    "        for item in self:\n",
    "            item(*args, **kwargs)"
   ]
  },
  {
   "cell_type": "code",
   "execution_count": null,
   "id": "3b4618de-482d-457e-955a-669083dd5089",
   "metadata": {},
   "outputs": [],
   "source": [
    "class Game:\n",
    "    def __init__(self):\n",
    "        self.events = Event()"
   ]
  },
  {
   "cell_type": "markdown",
   "id": "eae99132-6b44-4a79-9194-955b23b41990",
   "metadata": {},
   "source": [
    "##### Example 3: Mediator with Events"
   ]
  },
  {
   "cell_type": "code",
   "execution_count": null,
   "id": "cb02b12e-7de3-4a9e-b16b-8ecb66e75afa",
   "metadata": {},
   "outputs": [],
   "source": [
    "class Event(list):\n",
    "    def __call__(self, *args, **kwargs):\n",
    "        for item in self:\n",
    "            item(*args, **kwargs)"
   ]
  },
  {
   "cell_type": "code",
   "execution_count": null,
   "id": "dc4ab830-2200-47ca-88c6-89e6bfa29194",
   "metadata": {},
   "outputs": [],
   "source": [
    "def func1(name):\n",
    "    print(f'hello')"
   ]
  },
  {
   "cell_type": "code",
   "execution_count": null,
   "id": "637b5521-112b-489c-8ea8-671526bfa22f",
   "metadata": {},
   "outputs": [
    {
     "data": {
      "text/plain": [
       "[<function __main__.func1(name)>]"
      ]
     },
     "execution_count": null,
     "metadata": {},
     "output_type": "execute_result"
    }
   ],
   "source": [
    "Event([func1])"
   ]
  },
  {
   "cell_type": "code",
   "execution_count": null,
   "id": "513476b4-e4ac-453c-9af5-a2f74976d679",
   "metadata": {},
   "outputs": [
    {
     "data": {
      "text/plain": [
       "[]"
      ]
     },
     "execution_count": null,
     "metadata": {},
     "output_type": "execute_result"
    }
   ],
   "source": [
    "Event[0](name='Shivon')"
   ]
  },
  {
   "cell_type": "code",
   "execution_count": null,
   "id": "dffadbdb-b2fa-47ef-81c3-4b40927a7b73",
   "metadata": {},
   "outputs": [],
   "source": [
    "class Event(list):\n",
    "    def __call__(self, *args, **kwargs):\n",
    "        for item in self:\n",
    "            item(*args, **kwargs)"
   ]
  },
  {
   "cell_type": "code",
   "execution_count": null,
   "id": "d38a23d4-340c-49d3-8ceb-cfc1734ca1b0",
   "metadata": {},
   "outputs": [],
   "source": [
    "class Game:\n",
    "    def __init__(self):\n",
    "        self.events = Event()\n",
    "    \n",
    "    def fire(self, args):\n",
    "        self.events(args)"
   ]
  },
  {
   "cell_type": "code",
   "execution_count": null,
   "id": "6aa4ec26-a352-4205-b4c0-c8f814fdec5a",
   "metadata": {},
   "outputs": [],
   "source": [
    "class GoalScoredInfo:\n",
    "    def __init__(self, who_scored, goals_scored):\n",
    "        self.who_scored = who_scored\n",
    "        self.goals_scored = goals_scored"
   ]
  },
  {
   "cell_type": "code",
   "execution_count": null,
   "id": "0cb1b2a4-b27e-4b2e-8906-290133eef93a",
   "metadata": {},
   "outputs": [],
   "source": [
    "class Player:\n",
    "    def __init__(self, name, game):\n",
    "        self.name = name\n",
    "        self.game = game\n",
    "        self.goals_score = 0\n",
    "    \n",
    "    def score(self):\n",
    "        self.goals_score += 1"
   ]
  },
  {
   "cell_type": "code",
   "execution_count": null,
   "id": "1afa38e0-232d-499a-b9bf-0b2fa6358f12",
   "metadata": {},
   "outputs": [],
   "source": [
    "class Couch:\n",
    "    def __init__(self, game):\n",
    "        games"
   ]
  },
  {
   "cell_type": "markdown",
   "id": "c19b489e-3e75-4bff-b504-12bb4d9e0d78",
   "metadata": {},
   "source": [
    "##### Example 4: Food Store App"
   ]
  },
  {
   "cell_type": "code",
   "execution_count": null,
   "id": "b8d0a346-0943-4805-9c55-176ad280388a",
   "metadata": {},
   "outputs": [],
   "source": [
    "class BasketInfo:\n",
    "    def __init__(self, location, price, address, shop):\n",
    "        self.__location = location\n",
    "        self.__price = price\n",
    "        self.__address = address\n",
    "        self.__shop = shop\n",
    "    \n",
    "    def getLocation(self):\n",
    "        return self.__location\n",
    "\n",
    "    def getAddress(self):\n",
    "        return self.__address\n",
    "\n",
    "    def getShopName(self):\n",
    "        return self.__shop.getName()"
   ]
  },
  {
   "cell_type": "code",
   "execution_count": null,
   "id": "9eaed2fc-7ddf-4d63-80ab-06f4f39267bc",
   "metadata": {},
   "outputs": [],
   "source": [
    "class BasketPlatformApp:\n",
    "    def __init__(self, name):\n",
    "        self.__basket_infos = []\n",
    "        self.name = name\n",
    "    \n",
    "    def getName(self):\n",
    "        return self.__name\n",
    "    \n",
    "    def addBasket(self):\n",
    "        pass"
   ]
  },
  {
   "cell_type": "markdown",
   "id": "b6a87bb8-afb9-4b5b-b1b4-b64681492307",
   "metadata": {},
   "source": [
    "##### Example 5"
   ]
  },
  {
   "cell_type": "code",
   "execution_count": null,
   "id": "52dd6db9-f5b0-4b9e-b422-b5fd617e020f",
   "metadata": {},
   "outputs": [],
   "source": [
    "class Aircraft:\n",
    "    def coordinate(self): return \"(1, 2, 3)\""
   ]
  },
  {
   "cell_type": "code",
   "execution_count": null,
   "id": "889cb323-55ac-45a0-b6a1-6aefd773ba30",
   "metadata": {},
   "outputs": [],
   "source": [
    "class Army:\n",
    "    def command(self): return \"attack\""
   ]
  },
  {
   "cell_type": "markdown",
   "id": "b630eb4b-eb6b-4cf7-b79a-87a9042d6702",
   "metadata": {},
   "source": [
    "Create a ControlTower class that works as bellow using `Mediator Pattern`"
   ]
  },
  {
   "cell_type": "code",
   "execution_count": null,
   "id": "3f63b648-f4ef-4382-9c38-aba4a8308483",
   "metadata": {},
   "outputs": [],
   "source": [
    "class ControlTower:\n",
    "    def __init__(self, aircraft, army):\n",
    "        self.aircraft = aircraft\n",
    "        self.army = army\n",
    "    \n",
    "    def get_coordinate_from_aircraft(self):\n",
    "        return self.aircraft.coordinate()\n",
    "    \n",
    "    def get_command_from_army(self):\n",
    "        return self.army.command()"
   ]
  },
  {
   "cell_type": "code",
   "execution_count": null,
   "id": "e20c112d-3a77-4370-ae87-e911a24b3a9b",
   "metadata": {},
   "outputs": [],
   "source": [
    "aircraft = Aircraft()"
   ]
  },
  {
   "cell_type": "code",
   "execution_count": null,
   "id": "15d68427-2c70-4cb8-9f75-66a9ad9fe5a6",
   "metadata": {},
   "outputs": [],
   "source": [
    "army = Army()"
   ]
  },
  {
   "cell_type": "code",
   "execution_count": null,
   "id": "3a4ba3ea-fd01-4cb0-8a41-5925b8e1b412",
   "metadata": {},
   "outputs": [],
   "source": [
    "tower = ControlTower(aircraft, army)"
   ]
  },
  {
   "cell_type": "code",
   "execution_count": null,
   "id": "0e7d5e9c-9d18-4b56-946d-9009fe06214e",
   "metadata": {},
   "outputs": [
    {
     "data": {
      "text/plain": [
       "'(1, 2, 3)'"
      ]
     },
     "execution_count": null,
     "metadata": {},
     "output_type": "execute_result"
    }
   ],
   "source": [
    "tower.get_coordinate_from_aircraft()"
   ]
  },
  {
   "cell_type": "code",
   "execution_count": null,
   "id": "82c66d8c-e85e-4628-8597-0be280b0359b",
   "metadata": {},
   "outputs": [
    {
     "data": {
      "text/plain": [
       "'attack'"
      ]
     },
     "execution_count": null,
     "metadata": {},
     "output_type": "execute_result"
    }
   ],
   "source": [
    "tower.get_command_from_army()"
   ]
  },
  {
   "cell_type": "code",
   "execution_count": null,
   "id": "d2f1ef02-356c-4b0e-b295-7a5c8a6b326a",
   "metadata": {},
   "outputs": [],
   "source": []
  },
  {
   "cell_type": "code",
   "execution_count": null,
   "id": "d83af2dd-faa2-4603-b751-eb3e3669d266",
   "metadata": {},
   "outputs": [],
   "source": []
  }
 ],
 "metadata": {
  "kernelspec": {
   "display_name": "Python 3 (ipykernel)",
   "language": "python",
   "name": "python3"
  }
 },
 "nbformat": 4,
 "nbformat_minor": 5
}
