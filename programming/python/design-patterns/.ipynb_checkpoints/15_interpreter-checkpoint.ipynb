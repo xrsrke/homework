{
 "cells": [
  {
   "cell_type": "markdown",
   "id": "6cf09f0c-7228-4dc6-9256-77112277cc63",
   "metadata": {},
   "source": [
    "# 15. Interpreter"
   ]
  },
  {
   "cell_type": "markdown",
   "id": "f0fed761-8226-430b-9774-a25d523f5754",
   "metadata": {
    "tags": []
   },
   "source": [
    "##### Example 1"
   ]
  },
  {
   "cell_type": "code",
   "execution_count": 3,
   "id": "021e6b98-3d22-4a60-b73e-f98c6b6b8292",
   "metadata": {},
   "outputs": [],
   "source": [
    "from enum import Enum, auto"
   ]
  },
  {
   "cell_type": "code",
   "execution_count": 14,
   "id": "c0c14d37-fe2b-42de-9dee-de5938351459",
   "metadata": {},
   "outputs": [],
   "source": [
    "class TokenType(Enum):\n",
    "    INTEGER = auto()\n",
    "    PLUS = auto()\n",
    "    MINUS = auto()\n",
    "    LPAREN = auto()\n",
    "    RPAREN = auto()"
   ]
  },
  {
   "cell_type": "code",
   "execution_count": 47,
   "id": "fc2502d4-e15c-4f71-860d-4cd0a2fbba57",
   "metadata": {},
   "outputs": [],
   "source": [
    "class Token:\n",
    "    def __init__(self, type, text):\n",
    "        self.type = type\n",
    "        self.text = text\n",
    "    \n",
    "    def __str__(self):\n",
    "        return f'`{self.type}`'"
   ]
  },
  {
   "cell_type": "code",
   "execution_count": 48,
   "id": "925954e1-7d5e-4bfd-9e04-faf676100fcf",
   "metadata": {},
   "outputs": [],
   "source": [
    "def lex(input):\n",
    "    results = []\n",
    "    \n",
    "    i = 0\n",
    "    while i < len(input):\n",
    "        if input[i] == '+':\n",
    "            results.append(Token(TokenType.PLUS, '+'))\n",
    "        elif input[i] == '-':\n",
    "            results.append(Token(TokenType.MINUS, '-'))\n",
    "        elif input[i] == '(':\n",
    "            results.append(Token(TokenType.LPAREN, '('))\n",
    "        elif input[i] == ')':\n",
    "            results.append(Token(TokenType.RPAREN, ')'))\n",
    "        else:\n",
    "            digits = [input[i]]\n",
    "            for j in range(i+1, len(input)):\n",
    "                if input[j].isdigit():\n",
    "                    digits.append(input[j])\n",
    "                    i += 1\n",
    "                else:\n",
    "                    results.append(Token(TokenType.INTEGER, ''.join(digits)))\n",
    "                    break\n",
    "        i += 1\n",
    "    \n",
    "    return results"
   ]
  },
  {
   "cell_type": "code",
   "execution_count": 49,
   "id": "d2179359-ad60-440e-b283-2d4535bb1c5f",
   "metadata": {},
   "outputs": [],
   "source": [
    "def calc(input):\n",
    "    tokens = lex(input)\n",
    "    print(' '.join(map(str, tokens)))"
   ]
  },
  {
   "cell_type": "code",
   "execution_count": 50,
   "id": "5a92b25c-1c5e-4365-a824-61ded343b688",
   "metadata": {},
   "outputs": [
    {
     "name": "stdout",
     "output_type": "stream",
     "text": [
      "`TokenType.LPAREN` `TokenType.INTEGER` `TokenType.PLUS` `TokenType.INTEGER` `TokenType.RPAREN` `TokenType.MINUS` `TokenType.LPAREN` `TokenType.INTEGER` `TokenType.PLUS` `TokenType.INTEGER` `TokenType.RPAREN`\n"
     ]
    }
   ],
   "source": [
    "calc('(13+4)-(12+1)')"
   ]
  },
  {
   "cell_type": "markdown",
   "id": "90cb9faf-7e9c-475f-b462-3d89d8f523df",
   "metadata": {},
   "source": [
    "##### Example 2"
   ]
  },
  {
   "cell_type": "code",
   "execution_count": 51,
   "id": "82bd3aab-bdf1-4b78-97fa-f42dda8538a5",
   "metadata": {},
   "outputs": [],
   "source": [
    "from enum import Enum, auto"
   ]
  },
  {
   "cell_type": "code",
   "execution_count": 52,
   "id": "e0f66ec9-ae1f-4852-adbb-7fb4d12f6841",
   "metadata": {},
   "outputs": [],
   "source": [
    "class TokenType(Enum):\n",
    "    INTEGER = auto()\n",
    "    PLUS = auto()\n",
    "    MINUS = auto()\n",
    "    LPAREN = auto()\n",
    "    RPAREN = auto()"
   ]
  },
  {
   "cell_type": "code",
   "execution_count": 53,
   "id": "901540f3-9fed-49f8-a216-16c529961fa3",
   "metadata": {},
   "outputs": [],
   "source": [
    "class Token:\n",
    "    def __init__(self, type, text):\n",
    "        self.type = type\n",
    "        self.text = text\n",
    "    \n",
    "    def __str__(self):\n",
    "        return f'`{self.type}`'"
   ]
  },
  {
   "cell_type": "code",
   "execution_count": 54,
   "id": "d1743f98-1715-40c7-a9b2-7f5ba193d077",
   "metadata": {},
   "outputs": [],
   "source": [
    "def lex(input):\n",
    "    results = []\n",
    "    \n",
    "    i = 0\n",
    "    while i < len(input):\n",
    "        if input[i] == '+':\n",
    "            results.append(Token(TokenType.PLUS, '+'))\n",
    "        elif input[i] == '-':\n",
    "            results.append(Token(TokenType.MINUS, '-'))\n",
    "        elif input[i] == '(':\n",
    "            results.append(Token(TokenType.LPAREN, '('))\n",
    "        elif input[i] == ')':\n",
    "            results.append(Token(TokenType.RPAREN, ')'))\n",
    "        else:\n",
    "            digits = [input[i]]\n",
    "            for j in range(i+1, len(input)):\n",
    "                if input[j].isdigit():\n",
    "                    digits.append(input[j])\n",
    "                    i += 1\n",
    "                else:\n",
    "                    results.append(Token(TokenType.INTEGER, ''.join(digits)))\n",
    "                    break\n",
    "        i += 1\n",
    "    \n",
    "    return results"
   ]
  },
  {
   "cell_type": "code",
   "execution_count": 55,
   "id": "e1f6fc6b-0e7c-4879-804b-19d55545fcbb",
   "metadata": {},
   "outputs": [],
   "source": [
    "def calc(input):\n",
    "    tokens = lex(input)\n",
    "    print(' '.join(map(str, tokens)))"
   ]
  },
  {
   "cell_type": "code",
   "execution_count": 57,
   "id": "d3129f94-f05c-465e-b482-7b1e88707f27",
   "metadata": {},
   "outputs": [],
   "source": [
    "class Integer:\n",
    "    def __init__(self, value):\n",
    "        self.value = value"
   ]
  },
  {
   "cell_type": "code",
   "execution_count": 59,
   "id": "504dbd20-90f5-4e9a-a140-b1fffe3d9455",
   "metadata": {},
   "outputs": [],
   "source": [
    "class BinaryExpression:\n",
    "    class Type(Enum):\n",
    "        ADDITION = auto()\n",
    "        SUBSTRACTION = auto()\n",
    "    \n",
    "    def __init__(self):\n",
    "        self.type = None\n",
    "        self.left = None\n",
    "        self.right = None"
   ]
  },
  {
   "cell_type": "code",
   "execution_count": 56,
   "id": "ffd1defe-3da5-41cb-ba56-ac1354b7b100",
   "metadata": {},
   "outputs": [
    {
     "name": "stdout",
     "output_type": "stream",
     "text": [
      "`TokenType.LPAREN` `TokenType.INTEGER` `TokenType.PLUS` `TokenType.INTEGER` `TokenType.RPAREN` `TokenType.MINUS` `TokenType.LPAREN` `TokenType.INTEGER` `TokenType.PLUS` `TokenType.INTEGER` `TokenType.RPAREN`\n"
     ]
    }
   ],
   "source": [
    "calc('(13+4)-(12+1)')"
   ]
  },
  {
   "cell_type": "markdown",
   "id": "32f06060-6101-49db-997b-5dd4ca5f77c8",
   "metadata": {
    "tags": []
   },
   "source": [
    "##### Example 3"
   ]
  },
  {
   "cell_type": "code",
   "execution_count": 40,
   "id": "9f835a49-d256-4d4f-8ba6-f48187fe96c0",
   "metadata": {},
   "outputs": [],
   "source": [
    "class AbstractExpression:\n",
    "    @staticmethod\n",
    "    def interpreter():\n",
    "        pass"
   ]
  },
  {
   "cell_type": "code",
   "execution_count": 42,
   "id": "495e0d62-c446-4c65-a8e0-d3d0ed282386",
   "metadata": {},
   "outputs": [],
   "source": [
    "class Number(AbstractExpression):\n",
    "    def __init__(self, value):\n",
    "        self.value = int(value)\n",
    "    \n",
    "    def interpreter(self):\n",
    "        return self.value\n",
    "\n",
    "    def __repr__(self):\n",
    "        return str(self.value)"
   ]
  },
  {
   "cell_type": "code",
   "execution_count": 44,
   "id": "17d1b772-2e00-484b-9eb7-79a2ec565092",
   "metadata": {},
   "outputs": [],
   "source": [
    "class Add(AbstractExpression):\n",
    "    def __init__(self, left, right):\n",
    "        self.left = left\n",
    "        self.right = right\n",
    "    \n",
    "    def interpreter(self):\n",
    "        return self.left.interpret() + self.right.interpret()\n",
    "\n",
    "    def __repr__(self):\n",
    "        return f'({self.left} Add {self.right})'"
   ]
  },
  {
   "cell_type": "code",
   "execution_count": null,
   "id": "a3bdbaa1-11cd-4b90-97e5-bd9435505e89",
   "metadata": {},
   "outputs": [],
   "source": []
  }
 ],
 "metadata": {
  "kernelspec": {
   "display_name": "Python 3 (ipykernel)",
   "language": "python",
   "name": "python3"
  },
  "language_info": {
   "codemirror_mode": {
    "name": "ipython",
    "version": 3
   },
   "file_extension": ".py",
   "mimetype": "text/x-python",
   "name": "python",
   "nbconvert_exporter": "python",
   "pygments_lexer": "ipython3",
   "version": "3.9.13"
  }
 },
 "nbformat": 4,
 "nbformat_minor": 5
}
