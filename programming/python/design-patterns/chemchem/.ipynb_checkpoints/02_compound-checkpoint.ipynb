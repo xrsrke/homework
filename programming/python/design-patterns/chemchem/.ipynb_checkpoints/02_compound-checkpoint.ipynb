{
 "cells": [
  {
   "cell_type": "code",
   "execution_count": null,
   "id": "0e0716e8-cc09-47dc-bbe7-8fd2d48f0aad",
   "metadata": {},
   "outputs": [],
   "source": [
    "class Temperature(PropertyObservable):\n",
    "    def __init__(self):\n",
    "        pass"
   ]
  },
  {
   "cell_type": "code",
   "execution_count": null,
   "id": "dc0b719d-a767-49ee-9cdc-80818cb571d6",
   "metadata": {},
   "outputs": [],
   "source": [
    "class Gas():\n",
    "    def __init__(self):\n",
    "        self._properties = []"
   ]
  },
  {
   "cell_type": "code",
   "execution_count": null,
   "id": "9a558337-2840-4981-ba8f-afae6f9b64e3",
   "metadata": {},
   "outputs": [],
   "source": []
  }
 ],
 "metadata": {
  "kernelspec": {
   "display_name": "Python 3 (ipykernel)",
   "language": "python",
   "name": "python3"
  }
 },
 "nbformat": 4,
 "nbformat_minor": 5
}
