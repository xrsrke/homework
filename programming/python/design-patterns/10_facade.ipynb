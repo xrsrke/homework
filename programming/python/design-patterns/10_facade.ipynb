{
 "cells": [
  {
   "cell_type": "markdown",
   "id": "22066e93-3e6a-4051-8008-db9fe91fda53",
   "metadata": {},
   "source": [
    "# Facade"
   ]
  },
  {
   "cell_type": "markdown",
   "id": "bf0f1709-5e07-4932-be85-c79c68d4301c",
   "metadata": {
    "jp-MarkdownHeadingCollapsed": true,
    "tags": []
   },
   "source": [
    "##### Example 1:"
   ]
  },
  {
   "cell_type": "code",
   "execution_count": 9,
   "id": "cd73b767-8c09-414e-a189-b787de8fd359",
   "metadata": {},
   "outputs": [],
   "source": [
    "class Buffer:\n",
    "    def __init__(self, width=30, height=20):\n",
    "        self.width = width\n",
    "        self.height = height\n",
    "        self.buffer = [' '] * (width * height)\n",
    "    \n",
    "    def __getitem__(self, item):\n",
    "        return self.buffer.__getitem__(item)\n",
    "    \n",
    "    def write(self, text):\n",
    "        self.buffer += text"
   ]
  },
  {
   "cell_type": "code",
   "execution_count": 12,
   "id": "95235c1e-0686-42e7-b89f-8a560564538a",
   "metadata": {},
   "outputs": [],
   "source": [
    "class Viewport:\n",
    "    def __init__(self, buffer=Buffer()):\n",
    "        self.buffer = buffer\n",
    "        self.offset = 0\n",
    "    \n",
    "    def get_char_at(self, index):\n",
    "        return self.buffer[idex+self.offset]\n",
    "    \n",
    "    def append(self, text):\n",
    "        self.buffer.write(text)"
   ]
  },
  {
   "cell_type": "code",
   "execution_count": 21,
   "id": "3e80e9a4-4b8d-4211-b916-eddc0070d7ca",
   "metadata": {},
   "outputs": [],
   "source": [
    "class Console:\n",
    "    def __init__(self):\n",
    "        b = Buffer()\n",
    "        self.current_viewport = Viewport(b)\n",
    "        self.buffers = [b]\n",
    "        self.viewports = [self.current_viewport]\n",
    "    \n",
    "    def write(self, text):\n",
    "        self.current_viewport.buffer.write(text)\n",
    "    \n",
    "    def get_char_at(self, index):\n",
    "        return self.current_viewport.get_char_at(index)"
   ]
  },
  {
   "cell_type": "code",
   "execution_count": 22,
   "id": "bb331ff0-e4cf-4faa-9011-1150850f4f29",
   "metadata": {},
   "outputs": [],
   "source": [
    "c = Console()"
   ]
  },
  {
   "cell_type": "code",
   "execution_count": 23,
   "id": "2360181a-46e5-43d9-a044-a04d3513db4e",
   "metadata": {},
   "outputs": [],
   "source": [
    "c.write('hello')"
   ]
  },
  {
   "cell_type": "markdown",
   "id": "bb50331c-e455-454b-bac6-f7c6ab9f32c4",
   "metadata": {
    "tags": []
   },
   "source": [
    "##### Example 2: Delivery"
   ]
  },
  {
   "cell_type": "code",
   "execution_count": 107,
   "id": "1044f09b-c801-43ee-882e-5ac10db35b47",
   "metadata": {},
   "outputs": [],
   "source": [
    "class Supplier:\n",
    "    def check_product(self, product):\n",
    "        return f\"Yes. Tomorrow will delivery {product} to the warehouse\""
   ]
  },
  {
   "cell_type": "code",
   "execution_count": 101,
   "id": "c40d06c1-e54d-4285-883f-3fa6e47f5886",
   "metadata": {},
   "outputs": [],
   "source": [
    "class Warehouse:\n",
    "    \n",
    "    def __init__(self, supplier):\n",
    "        self.supplier = supplier\n",
    "    \n",
    "    def check_available_product(self, product):\n",
    "        # for the stake of example, simplified it\n",
    "        print('check available product in the ware house')\n",
    "        return self.supplier.check_product(product)"
   ]
  },
  {
   "cell_type": "code",
   "execution_count": 102,
   "id": "f8eacd89-8089-4ff5-ad23-9b4b1936f99a",
   "metadata": {},
   "outputs": [],
   "source": [
    "w = Warehouse(supplier=Supplier())"
   ]
  },
  {
   "cell_type": "code",
   "execution_count": 103,
   "id": "e05b6f8b-bc48-45f9-ad6d-f5b2ae17110d",
   "metadata": {},
   "outputs": [
    {
     "name": "stdout",
     "output_type": "stream",
     "text": [
      "check available product in the ware house\n"
     ]
    },
    {
     "data": {
      "text/plain": [
       "'Yes. Tomorrow will delivery x to the warehouse'"
      ]
     },
     "execution_count": 103,
     "metadata": {},
     "output_type": "execute_result"
    }
   ],
   "source": [
    "w.check_available_product('x')"
   ]
  },
  {
   "cell_type": "markdown",
   "id": "e62f1c93-d6b6-4cd7-af14-bb38b80f04b2",
   "metadata": {},
   "source": [
    "Write a `CustomerSupport` using `Facade Pattern`"
   ]
  },
  {
   "cell_type": "code",
   "execution_count": 104,
   "id": "c9af49e4-719f-4b8a-8311-7e5d5062da64",
   "metadata": {},
   "outputs": [],
   "source": [
    "class CustomerSupport:\n",
    "    def __init__(self):\n",
    "        supplier = Supplier()\n",
    "        self.warehouse = Warehouse(supplier)\n",
    "\n",
    "    def buy(self, product):\n",
    "        return self.warehouse.check_available_product(product)"
   ]
  },
  {
   "cell_type": "code",
   "execution_count": 105,
   "id": "87b7dd04-390b-4ac0-86cd-010a86e855e6",
   "metadata": {},
   "outputs": [],
   "source": [
    "c = CustomerSupport()"
   ]
  },
  {
   "cell_type": "code",
   "execution_count": 106,
   "id": "143800d8-05e5-4571-9785-ec61b93576e1",
   "metadata": {},
   "outputs": [
    {
     "name": "stdout",
     "output_type": "stream",
     "text": [
      "check available product in the ware house\n"
     ]
    },
    {
     "data": {
      "text/plain": [
       "'Yes. Tomorrow will delivery x to the warehouse'"
      ]
     },
     "execution_count": 106,
     "metadata": {},
     "output_type": "execute_result"
    }
   ],
   "source": [
    "c.buy('x')"
   ]
  },
  {
   "cell_type": "markdown",
   "id": "ba70b13e-64f3-42dd-96e1-a25fde73ff20",
   "metadata": {},
   "source": [
    "##### Example 3:"
   ]
  },
  {
   "cell_type": "code",
   "execution_count": 81,
   "id": "ce33219c-a82c-440e-a73c-29a447f055c2",
   "metadata": {},
   "outputs": [],
   "source": [
    "class Investor:\n",
    "    def invest(self):\n",
    "        print('Investing...')"
   ]
  },
  {
   "cell_type": "code",
   "execution_count": 82,
   "id": "08fd0045-1625-4ad4-816f-a18f2c7d5def",
   "metadata": {},
   "outputs": [],
   "source": [
    "class Vendor:\n",
    "    def give(self):\n",
    "        print('Giving the materials')"
   ]
  },
  {
   "cell_type": "code",
   "execution_count": 83,
   "id": "59227c05-b869-4339-8b86-ee9bf12f1417",
   "metadata": {},
   "outputs": [],
   "source": [
    "class Builder:\n",
    "    def build(self):\n",
    "        print('Building...')"
   ]
  },
  {
   "cell_type": "code",
   "execution_count": 84,
   "id": "e5d154b1-1d16-4650-8997-a53e2581c266",
   "metadata": {},
   "outputs": [],
   "source": [
    "investor = Investor()\n",
    "vendor = Vendor()\n",
    "builder = Builder()"
   ]
  },
  {
   "cell_type": "code",
   "execution_count": null,
   "id": "cf926780-c7dd-4413-8994-866ba1e5aa55",
   "metadata": {},
   "outputs": [],
   "source": []
  }
 ],
 "metadata": {
  "kernelspec": {
   "display_name": "Python 3 (ipykernel)",
   "language": "python",
   "name": "python3"
  },
  "language_info": {
   "codemirror_mode": {
    "name": "ipython",
    "version": 3
   },
   "file_extension": ".py",
   "mimetype": "text/x-python",
   "name": "python",
   "nbconvert_exporter": "python",
   "pygments_lexer": "ipython3",
   "version": "3.9.13"
  }
 },
 "nbformat": 4,
 "nbformat_minor": 5
}
