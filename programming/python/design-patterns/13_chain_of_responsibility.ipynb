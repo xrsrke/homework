{
 "cells": [
  {
   "cell_type": "markdown",
   "id": "b64ab41e-fdc5-43d8-ba95-335a8adfd990",
   "metadata": {},
   "source": [
    "# 13. Chain of Responsibility"
   ]
  },
  {
   "cell_type": "markdown",
   "id": "993dd450-6e6b-4212-b1ba-df13751896d8",
   "metadata": {},
   "source": [
    "##### Example 1: Creature"
   ]
  },
  {
   "cell_type": "code",
   "execution_count": null,
   "id": "2aba1a55-3eeb-43c5-86b8-c500fd84ba8b",
   "metadata": {},
   "outputs": [],
   "source": [
    "class Creature:\n",
    "    def __init__(self, name, attack, defense):\n",
    "        self.name = name\n",
    "        self.attack = attack\n",
    "        self.defense = defense"
   ]
  },
  {
   "cell_type": "markdown",
   "id": "885deda5-a207-4c5e-a8b6-3043ac8749d9",
   "metadata": {},
   "source": [
    "Create a `CreatureModifier` class that take a creature in initialize. Can be add other modifier and run then sequentially"
   ]
  },
  {
   "cell_type": "code",
   "execution_count": null,
   "id": "c6e3725d-992a-4285-b7a7-45c0cafd01cf",
   "metadata": {},
   "outputs": [],
   "source": [
    "class CreatureModifier:\n",
    "    def __init__(self, creature):\n",
    "        self.creature = creature\n",
    "        self.next_modifier = None\n",
    "    \n",
    "    def add_modifier(self, modifier):\n",
    "        if self.next_modifier:\n",
    "            self.next_modifier.add_modifier(modifier)\n",
    "        else:\n",
    "            self.next_modifier = modifier\n",
    "    \n",
    "    def handle(self):\n",
    "        if self.next_modifier:\n",
    "            self.next_modifier.handle()"
   ]
  },
  {
   "cell_type": "code",
   "execution_count": null,
   "id": "21cf23d7-efc4-4305-b644-9a30a99dcb2e",
   "metadata": {},
   "outputs": [],
   "source": [
    "class DoubleAttrackModifier(CreatureModifier):\n",
    "    def handle(self):\n",
    "        print(F'Doubling {self.creature.name}''s attrack')\n",
    "        self.creature.attack *= 2\n",
    "        super().handle()"
   ]
  },
  {
   "cell_type": "code",
   "execution_count": null,
   "id": "38a40094-2e21-482a-8cee-c14636845c56",
   "metadata": {},
   "outputs": [],
   "source": [
    "class IncreaseDefenseModifier(CreatureModifier):\n",
    "    def handle(self):\n",
    "        print(F'Increasing {self.creature.name}''s attrack')\n",
    "        self.creature.defense *= 5\n",
    "        super().handle()"
   ]
  },
  {
   "cell_type": "code",
   "execution_count": null,
   "id": "f1a4e83d-116b-4d95-9553-8d6a5dd43dfd",
   "metadata": {},
   "outputs": [],
   "source": [
    "goblin = Creature('Goblin', attack=1, defense=1)"
   ]
  },
  {
   "cell_type": "code",
   "execution_count": null,
   "id": "c0d3724a-1599-47c8-8951-2786f54b0661",
   "metadata": {},
   "outputs": [],
   "source": [
    "root = CreatureModifier(goblin)"
   ]
  },
  {
   "cell_type": "code",
   "execution_count": null,
   "id": "d2283db8-fc5b-4c98-81eb-8131f228dcd8",
   "metadata": {},
   "outputs": [],
   "source": [
    "root.add_modifier(DoubleAttrackModifier(goblin))\n",
    "root.add_modifier(IncreaseDefenseModifier(goblin))"
   ]
  },
  {
   "cell_type": "code",
   "execution_count": null,
   "id": "8b2a963f-feae-4c61-a5eb-491d096924ef",
   "metadata": {},
   "outputs": [
    {
     "name": "stdout",
     "output_type": "stream",
     "text": [
      "Doubling Goblins attrack\n",
      "Increasing Goblins attrack\n"
     ]
    }
   ],
   "source": [
    "root.handle()"
   ]
  },
  {
   "cell_type": "code",
   "execution_count": null,
   "id": "2cb7c3a7-c43b-4ab1-9bf4-a7d86eb61143",
   "metadata": {},
   "outputs": [
    {
     "data": {
      "text/plain": [
       "{'name': 'Goblin', 'attack': 2, 'defense': 5}"
      ]
     },
     "execution_count": null,
     "metadata": {},
     "output_type": "execute_result"
    }
   ],
   "source": [
    "goblin.__dict__"
   ]
  },
  {
   "cell_type": "markdown",
   "id": "9159f45e-db9d-47cd-9add-794f092ddaca",
   "metadata": {},
   "source": [
    "##### Example 2: Logger"
   ]
  },
  {
   "cell_type": "code",
   "execution_count": null,
   "id": "07acbe67-a9aa-4a2b-a34c-ea63a5c95012",
   "metadata": {},
   "outputs": [],
   "source": [
    "from abc import ABC, abstractmethod"
   ]
  },
  {
   "cell_type": "code",
   "execution_count": null,
   "id": "377378b7-3a08-4e3c-a092-f9bda649e3ea",
   "metadata": {},
   "outputs": [],
   "source": [
    "class Logger(ABC):\n",
    "    def __init__(self, next_logger):\n",
    "        self.__next_logger = next_logger\n",
    "    \n",
    "    @abstractmethod\n",
    "    def make_entry(self, message):\n",
    "        pass\n",
    "\n",
    "    def log(self, message):\n",
    "        self.make_entry(message)\n",
    "        if self.__next_logger is None:\n",
    "            return\n",
    "        else:\n",
    "            self.__next_logger.log(message)"
   ]
  },
  {
   "cell_type": "code",
   "execution_count": null,
   "id": "f0a0cfaa-e4ad-400e-a329-d37e0854dc03",
   "metadata": {},
   "outputs": [],
   "source": [
    "class ConsoleLogger(Logger):\n",
    "    def make_entry(self, message):\n",
    "        print(f'Console: {message}')"
   ]
  },
  {
   "cell_type": "code",
   "execution_count": null,
   "id": "f0edc6c5-952f-4232-a712-670b488565c4",
   "metadata": {},
   "outputs": [],
   "source": [
    "class FileLogger(Logger):\n",
    "    def make_entry(self, message):\n",
    "        print(f'File: {message}')"
   ]
  },
  {
   "cell_type": "code",
   "execution_count": null,
   "id": "3e1156c8-130c-403a-988e-6f22419bee96",
   "metadata": {},
   "outputs": [],
   "source": [
    "class DatabaseLogger(Logger):\n",
    "    def make_entry(self, message):\n",
    "        print(f'Database: {message}')"
   ]
  },
  {
   "cell_type": "code",
   "execution_count": null,
   "id": "c34c2598-eb9e-4f69-95fd-8ce058abec23",
   "metadata": {},
   "outputs": [],
   "source": [
    "console = ConsoleLogger(next_logger=None)"
   ]
  },
  {
   "cell_type": "code",
   "execution_count": null,
   "id": "4a7fcba5-75b2-4b71-8a1a-d82f69cf3d35",
   "metadata": {},
   "outputs": [],
   "source": [
    "file = FileLogger(next_logger=console)"
   ]
  },
  {
   "cell_type": "code",
   "execution_count": null,
   "id": "0e14089d-3091-43d8-b5c0-6b0c989082f3",
   "metadata": {},
   "outputs": [],
   "source": [
    "database = DatabaseLogger(next_logger=file)"
   ]
  },
  {
   "cell_type": "code",
   "execution_count": null,
   "id": "be1b272b-55a7-4528-b475-10952792af5a",
   "metadata": {},
   "outputs": [
    {
     "name": "stdout",
     "output_type": "stream",
     "text": [
      "Database: activated\n",
      "File: activated\n",
      "Console: activated\n"
     ]
    }
   ],
   "source": [
    "database.log(\"activated\")"
   ]
  },
  {
   "cell_type": "markdown",
   "id": "7d1b5be1-24b2-4438-8958-3cbea46aaafe",
   "metadata": {},
   "source": [
    "##### Example 3: Broker Chain"
   ]
  },
  {
   "cell_type": "code",
   "execution_count": null,
   "id": "c9bc204a-01a7-40f5-a364-75275601c10a",
   "metadata": {},
   "outputs": [],
   "source": [
    "class Event(list):\n",
    "    def __call__(self, *args, **kwargs):\n",
    "        for item in self:\n",
    "            item(*args, **kwargs)"
   ]
  },
  {
   "cell_type": "code",
   "execution_count": null,
   "id": "a51e351c-275f-4a62-be50-8b2868beea9f",
   "metadata": {},
   "outputs": [],
   "source": [
    "from enum import Enum"
   ]
  },
  {
   "cell_type": "code",
   "execution_count": null,
   "id": "c7e31013-d89e-46a2-9d97-71c044b80d28",
   "metadata": {},
   "outputs": [],
   "source": [
    "class QueryCommand(Enum):\n",
    "    ATTACK = 1\n",
    "    DEFENSE = 2"
   ]
  },
  {
   "cell_type": "code",
   "execution_count": null,
   "id": "1e7a9107-0e7b-4a82-bd8c-be339216d855",
   "metadata": {},
   "outputs": [],
   "source": [
    "class Query:\n",
    "    def __init__(self, creature_name, query_command, default_value):\n",
    "        self.creature_name = creature_name\n",
    "        self.query_command = query_command\n",
    "        self.value = default_value"
   ]
  },
  {
   "cell_type": "code",
   "execution_count": null,
   "id": "601a3e04-38d5-49cb-9d44-11a22b467d1b",
   "metadata": {},
   "outputs": [],
   "source": [
    "class Game:\n",
    "    def __init__(self):\n",
    "        self.queries = Event()\n",
    "    \n",
    "    def perform_query(self, sender, query):\n",
    "        self.queries(sender, query)"
   ]
  },
  {
   "cell_type": "code",
   "execution_count": null,
   "id": "5eb7bc7e-460c-418e-96f1-c8f1776fe932",
   "metadata": {},
   "outputs": [],
   "source": [
    "class Creature:\n",
    "    def __init__(self, game, name, attack, defense):\n",
    "        self.game = game\n",
    "        self.name = name\n",
    "        self.initial_attack = attack\n",
    "        self.initial_defense = defense\n",
    "    \n",
    "    @property\n",
    "    def attack(self):\n",
    "        q = Query(self.name, QueryCommand.ATTACK, self.initial_attack)\n",
    "        self.game.perform_query(self, q)\n",
    "    \n",
    "    @property\n",
    "    def defense(self):\n",
    "        q = Query(self.name, QueryCommand.DEFENSE, self.initial_defense)\n",
    "        self.game.perform_query(self, q)"
   ]
  },
  {
   "cell_type": "code",
   "execution_count": null,
   "id": "69bfc3a9-917e-44a2-9aca-b1d19cf56931",
   "metadata": {},
   "outputs": [],
   "source": [
    "from abc import ABC, abstractmethod"
   ]
  },
  {
   "cell_type": "code",
   "execution_count": null,
   "id": "60450925-bd78-4a84-ae69-1c79cc54a8b8",
   "metadata": {},
   "outputs": [],
   "source": [
    "class CreatureModifier(ABC):\n",
    "    def __init__(self, game, creature):\n",
    "        self.game = game\n",
    "        self.creature = creature\n",
    "        self.game.queries.append(self.handle)\n",
    "    \n",
    "    def handle(self, sender, query):\n",
    "        pass"
   ]
  },
  {
   "cell_type": "code",
   "execution_count": null,
   "id": "75bef1a9-bbc5-4d3c-9389-2e182c0c8139",
   "metadata": {},
   "outputs": [],
   "source": [
    "class DoubleAttackModifier(CreatureModifier):\n",
    "    def handle(self, sender, query):\n",
    "        if sender.name == self.creature.name and\n",
    "           query."
   ]
  },
  {
   "cell_type": "code",
   "execution_count": null,
   "id": "bcbcafc5-0e1d-45c7-94bc-84b95b4430a4",
   "metadata": {},
   "outputs": [],
   "source": [
    "game = Game()"
   ]
  },
  {
   "cell_type": "code",
   "execution_count": null,
   "id": "148e4139-bb76-47a3-8e01-2d2f07a9a7e1",
   "metadata": {},
   "outputs": [],
   "source": [
    "goblin = Creature(game, 'Super Goblin', 2, 2)"
   ]
  },
  {
   "cell_type": "code",
   "execution_count": null,
   "id": "e3615295-d3b0-485d-ac6d-7094bde2e2e4",
   "metadata": {},
   "outputs": [
    {
     "data": {
      "text/plain": [
       "{'game': <__main__.Game>,\n",
       " 'name': 'Super Goblin',\n",
       " 'initial_attack': 2,\n",
       " 'initial_defense': 2}"
      ]
     },
     "execution_count": null,
     "metadata": {},
     "output_type": "execute_result"
    }
   ],
   "source": [
    "goblin.__dict__"
   ]
  },
  {
   "cell_type": "code",
   "execution_count": null,
   "id": "19acf29f-da81-4dce-b209-2244aab2e01d",
   "metadata": {},
   "outputs": [],
   "source": [
    "goblin.attack"
   ]
  },
  {
   "cell_type": "markdown",
   "id": "17c58d25-4b40-4f92-b8e4-fe424af114d0",
   "metadata": {},
   "source": [
    "##### Example 4"
   ]
  },
  {
   "cell_type": "markdown",
   "id": "ce70c6e1-a932-453d-acd5-1b35ae4f40e1",
   "metadata": {},
   "source": [
    "Create a `Handler` class that works as bellow. Using `Chain of Responsibility Pattern`"
   ]
  },
  {
   "cell_type": "code",
   "execution_count": null,
   "id": "6ba7ca5b-bf9f-4b88-8987-186b148439b4",
   "metadata": {},
   "outputs": [],
   "source": [
    "class Handler:\n",
    "    def __init__(self):\n",
    "        self._next_handler = None\n",
    "    \n",
    "    def set_next(self, handler):\n",
    "        self._next_handler = handler\n",
    "        return handler\n",
    "\n",
    "    def handle(self):\n",
    "        if self._next_handler:\n",
    "            return self._next_handler.handle()\n",
    "    \n",
    "        return None"
   ]
  },
  {
   "cell_type": "code",
   "execution_count": null,
   "id": "c8c58082-550c-4711-8773-14ef6ae5ad63",
   "metadata": {},
   "outputs": [],
   "source": [
    "class MonkeyHandler(Handler):\n",
    "    def handle(self):\n",
    "        print(f\"Monkey said...\")\n",
    "        super().handle()"
   ]
  },
  {
   "cell_type": "code",
   "execution_count": null,
   "id": "4808f1ad-9972-41b7-94ff-3155f735a335",
   "metadata": {},
   "outputs": [],
   "source": [
    "class DogHandler(Handler):\n",
    "    def handle(self):\n",
    "        print(\"Dog handling stuff...\")\n",
    "        super().handle()"
   ]
  },
  {
   "cell_type": "code",
   "execution_count": null,
   "id": "6ecbb889-e7f3-4ba0-b51c-93a24b90078f",
   "metadata": {},
   "outputs": [],
   "source": [
    "class FishHandler(Handler):\n",
    "    def handle(self):\n",
    "        print(\"Fish handling stuff...\")\n",
    "        super().handle()"
   ]
  },
  {
   "cell_type": "code",
   "execution_count": null,
   "id": "891f3e4a-4902-4fef-a0f9-1417f9d03fb9",
   "metadata": {},
   "outputs": [],
   "source": [
    "monkey = MonkeyHandler()"
   ]
  },
  {
   "cell_type": "code",
   "execution_count": null,
   "id": "da508eaf-9d61-4f3a-894b-717b86338bf8",
   "metadata": {},
   "outputs": [],
   "source": [
    "dog = DogHandler()"
   ]
  },
  {
   "cell_type": "code",
   "execution_count": null,
   "id": "d2fca95f-520c-4f14-8376-848cf081b657",
   "metadata": {},
   "outputs": [],
   "source": [
    "fish = FishHandler()"
   ]
  },
  {
   "cell_type": "code",
   "execution_count": null,
   "id": "ac82d168-06ba-4215-9a58-a6e84dcc5ed1",
   "metadata": {},
   "outputs": [
    {
     "data": {
      "text/plain": [
       "<__main__.DogHandler>"
      ]
     },
     "execution_count": null,
     "metadata": {},
     "output_type": "execute_result"
    }
   ],
   "source": [
    "fish.set_next(monkey).set_next(dog)"
   ]
  },
  {
   "cell_type": "code",
   "execution_count": null,
   "id": "22d93a45-69f6-4d92-af56-a6a3c8702837",
   "metadata": {},
   "outputs": [
    {
     "name": "stdout",
     "output_type": "stream",
     "text": [
      "Fish handling stuff...\n",
      "Monkey said...\n",
      "Dog handling stuff...\n"
     ]
    }
   ],
   "source": [
    "fish.handle()"
   ]
  },
  {
   "cell_type": "code",
   "execution_count": null,
   "id": "09460ba8-86f4-4eba-b3a5-65a41759fc18",
   "metadata": {},
   "outputs": [],
   "source": []
  },
  {
   "cell_type": "code",
   "execution_count": null,
   "id": "471ffce1-5850-43f6-a1c5-ee10d284f6d5",
   "metadata": {},
   "outputs": [],
   "source": []
  }
 ],
 "metadata": {
  "kernelspec": {
   "display_name": "Python 3 (ipykernel)",
   "language": "python",
   "name": "python3"
  }
 },
 "nbformat": 4,
 "nbformat_minor": 5
}
