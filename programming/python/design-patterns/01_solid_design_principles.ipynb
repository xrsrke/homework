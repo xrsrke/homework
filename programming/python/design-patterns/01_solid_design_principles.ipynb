{
 "cells": [
  {
   "cell_type": "markdown",
   "id": "f02788da-9c18-41e7-8876-3b21d10d7496",
   "metadata": {},
   "source": [
    "# SOLID Design Principles"
   ]
  },
  {
   "cell_type": "markdown",
   "id": "2a18e9a4-e590-4683-8ada-d75ee2f157a6",
   "metadata": {},
   "source": [
    "### S: Single Responsibility Principle"
   ]
  },
  {
   "cell_type": "markdown",
   "id": "c9775b8e-c2b2-4e90-9006-9cf18d6f479d",
   "metadata": {},
   "source": [
    "##### Example 1: Journal"
   ]
  },
  {
   "cell_type": "code",
   "execution_count": null,
   "id": "ae132438-3026-421f-9c78-f93e936b3d8f",
   "metadata": {},
   "outputs": [],
   "source": [
    "class Journal:\n",
    "    def __init__(self):\n",
    "        self.entries = []\n",
    "        self.count = 0\n",
    "    \n",
    "    def add_entry(self, text):\n",
    "        self.count += 1\n",
    "        self.entries.append(f'{self.count}: {text}')\n",
    "    \n",
    "    def remove_entry(self, pos):\n",
    "        del self.entries[pos]\n",
    "    \n",
    "    def __str__(self):\n",
    "        return '\\n'.join(self.entries)"
   ]
  },
  {
   "cell_type": "code",
   "execution_count": null,
   "id": "e026522c-350b-4535-80dd-48d2d93c0705",
   "metadata": {},
   "outputs": [],
   "source": [
    "class PersistenceManager:\n",
    "    @staticmethod\n",
    "    def save_to_file(journal, filename):\n",
    "        pass"
   ]
  },
  {
   "cell_type": "markdown",
   "id": "5d1ea63e-8adc-4e5e-b612-d8b8accd8f18",
   "metadata": {},
   "source": [
    "##### Example 2: Create a user account"
   ]
  },
  {
   "cell_type": "code",
   "execution_count": null,
   "id": "3e4db854-8530-49aa-9f61-15510fae0485",
   "metadata": {},
   "outputs": [],
   "source": [
    "def validation(x):\n",
    "    return True"
   ]
  },
  {
   "cell_type": "code",
   "execution_count": null,
   "id": "1c17adb9-d349-4a4d-9377-d6de57acffc8",
   "metadata": {},
   "outputs": [],
   "source": [
    "def add_db(x):\n",
    "    return True"
   ]
  },
  {
   "cell_type": "code",
   "execution_count": null,
   "id": "d3698ab7-bca6-45ae-bbce-684e3f3fc8d2",
   "metadata": {},
   "outputs": [],
   "source": [
    "class User:\n",
    "    def signup(self, name, email, password):\n",
    "        \n",
    "        # validate password\n",
    "        \n",
    "        \n",
    "        # add to database\n",
    "        ...\n",
    "        \n",
    "        return True"
   ]
  },
  {
   "cell_type": "markdown",
   "id": "289d6207-0e2c-4221-bbbf-ec10fb51bdfa",
   "metadata": {},
   "source": [
    "##### Example 3: Order"
   ]
  },
  {
   "cell_type": "code",
   "execution_count": null,
   "id": "e38aadd2-2d8e-47ee-ad8b-921224f576c8",
   "metadata": {},
   "outputs": [],
   "source": [
    "class Order:\n",
    "    def add_item(self): pass\n",
    "    \n",
    "    def total_price(self): pass\n",
    "    \n",
    "    def pay(self): pass"
   ]
  },
  {
   "cell_type": "markdown",
   "id": "5f08c6bb-9906-44c1-a841-77d2b650a07c",
   "metadata": {},
   "source": [
    "Why this piece of code bad?"
   ]
  },
  {
   "cell_type": "markdown",
   "id": "ac5db6a7-0750-4e76-aae3-c60604490418",
   "metadata": {},
   "source": [
    "**Explain**\n",
    "\n",
    "Because the method `pay` serve a difference functionality, so it shouldn't be a part of class `Order`"
   ]
  },
  {
   "cell_type": "code",
   "execution_count": null,
   "id": "66c6a377-de29-4256-8b5a-6b06a2d8e04c",
   "metadata": {},
   "outputs": [],
   "source": [
    "class Order:\n",
    "    def add_item(self): pass\n",
    "    \n",
    "    def total_price(self): pass\n",
    "    \n",
    "    def pay(self): pass"
   ]
  },
  {
   "cell_type": "markdown",
   "id": "42469a28-6ade-4463-9e80-81e001b7ebe9",
   "metadata": {},
   "source": [
    "Apply the `Single Reponsibility Principle`"
   ]
  },
  {
   "cell_type": "code",
   "execution_count": null,
   "id": "6f06ef75-9067-4b01-9c54-851a1d70d588",
   "metadata": {},
   "outputs": [],
   "source": [
    "class Order:\n",
    "    def add_item(self): pass\n",
    "    \n",
    "    def total_price(self): pass"
   ]
  },
  {
   "cell_type": "code",
   "execution_count": null,
   "id": "48f8d8ae-8cbc-49a0-8426-d4e3964fd11a",
   "metadata": {},
   "outputs": [],
   "source": [
    "class PaymentProcessor:\n",
    "    def pay(self): pass"
   ]
  },
  {
   "cell_type": "markdown",
   "id": "95209318-7650-474a-af82-823dd55d0dfa",
   "metadata": {},
   "source": [
    "##### Example 4: Payment"
   ]
  },
  {
   "cell_type": "code",
   "execution_count": null,
   "id": "a2c7df4c-1a63-401b-97ad-cd02cb96dbb2",
   "metadata": {},
   "outputs": [],
   "source": [
    "class ChargeEnergy:\n",
    "    def charge(self, type):\n",
    "        if type == \"electric\":\n",
    "            return \"charing electric\"\n",
    "        elif type == \"gasoline\":\n",
    "            return \"charging gasoline\"\n",
    "        else:\n",
    "            raise NotImplementedError"
   ]
  },
  {
   "cell_type": "markdown",
   "id": "4701eb3d-7d04-4692-9a39-aeca9f65c0b0",
   "metadata": {},
   "source": [
    "Apply the `Single Reponsibility Principle`"
   ]
  },
  {
   "cell_type": "code",
   "execution_count": null,
   "id": "4d241bc7-aa5d-4bf4-96af-dd18e0c18a15",
   "metadata": {},
   "outputs": [],
   "source": [
    "class ChargeEnergy:\n",
    "    def charge_electric(self):\n",
    "        return \"charging electric\"\n",
    "    \n",
    "    def charge_gasoline(self):\n",
    "        return \"charging gasoline\""
   ]
  },
  {
   "cell_type": "markdown",
   "id": "409c36d6-b552-45ad-8b8d-5a4611713872",
   "metadata": {},
   "source": [
    "### O: Open-Closed Principle"
   ]
  },
  {
   "cell_type": "markdown",
   "id": "8835a571-8734-4ed2-9224-65695ab8a963",
   "metadata": {},
   "source": [
    "Open for extension, closed for modification\n",
    "- Whenever add new filters, add them through extension, not through modification"
   ]
  },
  {
   "cell_type": "markdown",
   "id": "8c6db57a-3fe1-4c1d-babd-a861552285fc",
   "metadata": {},
   "source": [
    "##### Example 1: Product Filter"
   ]
  },
  {
   "cell_type": "code",
   "execution_count": null,
   "id": "4ba90b09-2ec2-4ded-8f44-8a10944b86f8",
   "metadata": {},
   "outputs": [],
   "source": [
    "from enum import Enum"
   ]
  },
  {
   "cell_type": "code",
   "execution_count": null,
   "id": "d4da974f-f4c8-4022-b03c-e94cd303c2d7",
   "metadata": {},
   "outputs": [],
   "source": [
    "class Color(Enum):\n",
    "    RED = 1\n",
    "    GREEN = 2\n",
    "    BLUE = 3"
   ]
  },
  {
   "cell_type": "code",
   "execution_count": null,
   "id": "b971dc3f-d86e-4daf-9755-fbf2ead9bad7",
   "metadata": {},
   "outputs": [],
   "source": [
    "class Size(Enum):\n",
    "    SMALL = 1\n",
    "    MEDIUM = 2\n",
    "    LARGE = 3"
   ]
  },
  {
   "cell_type": "code",
   "execution_count": null,
   "id": "5ec89d41-66e6-48f7-9719-983d6bcfe406",
   "metadata": {},
   "outputs": [],
   "source": [
    "class Product:\n",
    "    def __init__(self, name, color, size):\n",
    "        self.name = name\n",
    "        self.color = color\n",
    "        self.size = size"
   ]
  },
  {
   "cell_type": "code",
   "execution_count": null,
   "id": "1eb553c6-89ef-42d9-b920-b0fe936559c3",
   "metadata": {},
   "outputs": [],
   "source": [
    "class ProductFilter:\n",
    "    def filter_by_color(self, products, color):\n",
    "        for p in products:\n",
    "            if p.color == color:\n",
    "                yield p\n",
    "        \n",
    "    def filter_by_size(self, products, size):\n",
    "        for p in products:\n",
    "            if p.size == size:\n",
    "                yield p"
   ]
  },
  {
   "cell_type": "code",
   "execution_count": null,
   "id": "6f3ccf1e-2c12-455a-b9e7-74cdbfabaa49",
   "metadata": {},
   "outputs": [],
   "source": [
    "class Specification:\n",
    "    def is_satisfied(self, item):\n",
    "        pass"
   ]
  },
  {
   "cell_type": "code",
   "execution_count": null,
   "id": "8121c89d-bb17-4aea-8387-21d6fc68e64e",
   "metadata": {},
   "outputs": [],
   "source": [
    "class Filter:\n",
    "    def filter(self, items, spec):\n",
    "        pass"
   ]
  },
  {
   "cell_type": "code",
   "execution_count": null,
   "id": "672b0136-10d8-486c-9790-7827a401138a",
   "metadata": {},
   "outputs": [],
   "source": [
    "class ColorSpecification(Specification):\n",
    "    \n",
    "    def __init__(self, color):\n",
    "        self.color = color\n",
    "    \n",
    "    def is_satisfied(self, item):\n",
    "        return item.color == self.color"
   ]
  },
  {
   "cell_type": "code",
   "execution_count": null,
   "id": "226e0fc9-fcdc-4bf1-95f0-936e3dcb16aa",
   "metadata": {},
   "outputs": [],
   "source": [
    "class SizeSpecification(Specification):\n",
    "    \n",
    "    def __init__(self, size):\n",
    "        self.size = size\n",
    "    \n",
    "    def is_satisfied(self, item):\n",
    "        return item.size == self.size"
   ]
  },
  {
   "cell_type": "code",
   "execution_count": null,
   "id": "c128b68c-c062-463a-bebe-8bdc50b483de",
   "metadata": {},
   "outputs": [],
   "source": [
    "class AndSpecification(Specification):\n",
    "    def __init__(self, *args):\n",
    "        self.args = args\n",
    "    \n",
    "    def is_satisfied(self, item):\n",
    "        return all(map(\n",
    "            lambda spec: spec.is_satisfied(item), self.args\n",
    "        ))"
   ]
  },
  {
   "cell_type": "code",
   "execution_count": null,
   "id": "ec7c22d0-e009-4fca-a8d4-fe3cda46961c",
   "metadata": {},
   "outputs": [],
   "source": [
    "class BetterFilter(Filter):\n",
    "    def filter(self, items, spec):\n",
    "        for item in items:\n",
    "            if spec.is_satisfied(item):\n",
    "                yield item"
   ]
  },
  {
   "cell_type": "code",
   "execution_count": null,
   "id": "23315245-585e-480c-adac-798f9a912bac",
   "metadata": {},
   "outputs": [],
   "source": [
    "apple = Product('Apple', Color.GREEN, Size.SMALL)"
   ]
  },
  {
   "cell_type": "code",
   "execution_count": null,
   "id": "f2b2d93e-8e6e-4fc3-a7f5-0fe39166b0e7",
   "metadata": {},
   "outputs": [],
   "source": [
    "tree = Product('Tree', Color.GREEN, Size.LARGE)"
   ]
  },
  {
   "cell_type": "code",
   "execution_count": null,
   "id": "2528a213-a253-4028-8dc9-cf604cb042b7",
   "metadata": {},
   "outputs": [],
   "source": [
    "house = Product('House', Color.GREEN, Size.LARGE)"
   ]
  },
  {
   "cell_type": "code",
   "execution_count": null,
   "id": "27b8ebf5-439d-486c-8e04-31fe5daf5471",
   "metadata": {},
   "outputs": [],
   "source": [
    "products = [apple, tree, house]"
   ]
  },
  {
   "cell_type": "code",
   "execution_count": null,
   "id": "3d258e8d-dafe-4be8-9462-43cda9aa0f93",
   "metadata": {},
   "outputs": [],
   "source": [
    "bf = BetterFilter()"
   ]
  },
  {
   "cell_type": "code",
   "execution_count": null,
   "id": "b0557965-4f75-49ba-979b-89d98f5b1f51",
   "metadata": {},
   "outputs": [],
   "source": [
    "green = ColorSpecification(Color.GREEN)"
   ]
  },
  {
   "cell_type": "code",
   "execution_count": null,
   "id": "bfadb7bc-ebb0-4558-a8d5-ef7c0c55e253",
   "metadata": {},
   "outputs": [],
   "source": [
    "large = SizeSpecification(Size.LARGE)"
   ]
  },
  {
   "cell_type": "code",
   "execution_count": null,
   "id": "9d2dc646-3901-4cee-bce6-2d2ace3f21fc",
   "metadata": {},
   "outputs": [],
   "source": [
    "large_green = AndSpecification(large, green)"
   ]
  },
  {
   "cell_type": "code",
   "execution_count": null,
   "id": "b6510818-b509-4c17-abf8-b78f25b5901b",
   "metadata": {},
   "outputs": [
    {
     "name": "stdout",
     "output_type": "stream",
     "text": [
      "Tree\n",
      "House\n"
     ]
    }
   ],
   "source": [
    "for p in bf.filter(products, large_green):\n",
    "    print(f'{p.name}')"
   ]
  },
  {
   "cell_type": "markdown",
   "id": "a23697e0-f0ea-435a-8f48-1c1bd07760a9",
   "metadata": {},
   "source": [
    "##### Example 2: Charging device"
   ]
  },
  {
   "cell_type": "code",
   "execution_count": null,
   "id": "abf93d3e-3f4f-4197-a7b4-1e8e94462bb0",
   "metadata": {},
   "outputs": [],
   "source": [
    "class ChargeEnergy:\n",
    "    def charge_electric(self):\n",
    "        return \"charging electric\"\n",
    "    \n",
    "    def charge_gasoline(self):\n",
    "        return \"charging gasoline\""
   ]
  },
  {
   "cell_type": "markdown",
   "id": "64c78056-db6d-4156-a86e-8c758307d908",
   "metadata": {},
   "source": [
    "Why this piece of code bad?"
   ]
  },
  {
   "cell_type": "markdown",
   "id": "95bf7957-bba2-4878-a590-31d0ad313c72",
   "metadata": {},
   "source": [
    "**Explain**: Because if you want to add new charging technology, you need to modify the original code"
   ]
  },
  {
   "cell_type": "code",
   "execution_count": null,
   "id": "efb7d788-6e87-4883-9784-fcff72f41444",
   "metadata": {},
   "outputs": [],
   "source": [
    "class ChargeEnergy:\n",
    "    def charge_electric(self):\n",
    "        return \"charging electric\"\n",
    "    \n",
    "    def charge_gasoline(self):\n",
    "        return \"charging gasoline\""
   ]
  },
  {
   "cell_type": "markdown",
   "id": "b3735d15-6de8-4c66-a5f5-2e54bcb79dac",
   "metadata": {},
   "source": [
    "Apply the `Open-Closed Principle`"
   ]
  },
  {
   "cell_type": "code",
   "execution_count": null,
   "id": "66f454df-15bd-4837-9aab-a6c44b67edd8",
   "metadata": {},
   "outputs": [],
   "source": [
    "from abc import ABC, abstractmethod"
   ]
  },
  {
   "cell_type": "code",
   "execution_count": null,
   "id": "044b6b06-24d9-4315-98d4-c343d788fd42",
   "metadata": {},
   "outputs": [],
   "source": [
    "class Charge(ABC):\n",
    "    @abstractmethod\n",
    "    def charge(self):\n",
    "        pass"
   ]
  },
  {
   "cell_type": "code",
   "execution_count": null,
   "id": "47fd4392-fdc2-46bc-9324-f82736a740f1",
   "metadata": {},
   "outputs": [],
   "source": [
    "class ChargeElectric(Charge):\n",
    "    def charge(self):\n",
    "        return \"charging electric\""
   ]
  },
  {
   "cell_type": "code",
   "execution_count": null,
   "id": "2f7eee0a-7b84-404e-84c2-9e4afec662eb",
   "metadata": {},
   "outputs": [],
   "source": [
    "class ChargeGasoline(Charge):\n",
    "    def charge(self):\n",
    "        return \"charging gasoline\""
   ]
  },
  {
   "cell_type": "markdown",
   "id": "5148a2cb-7e69-4244-b9cd-944175a57b50",
   "metadata": {},
   "source": [
    "### L: Liskov Substitution Principle"
   ]
  },
  {
   "cell_type": "markdown",
   "id": "d5ac038c-5111-4e5f-9c3a-186fb01e0a68",
   "metadata": {},
   "source": [
    "##### Example 1: Rectangle"
   ]
  },
  {
   "cell_type": "code",
   "execution_count": null,
   "id": "3147a3b4-ca75-483d-a504-3dc717d8c39c",
   "metadata": {},
   "outputs": [],
   "source": [
    "class Rectangle:\n",
    "    def __init__(self, width, height):\n",
    "        self._width = width\n",
    "        self._height = height\n",
    "    \n",
    "    @property\n",
    "    def width(self):\n",
    "        return self._width\n",
    "    \n",
    "    @width.setter\n",
    "    def width(self, value):\n",
    "        self._width = value\n",
    "    \n",
    "    @property\n",
    "    def height(self):\n",
    "        return self._height\n",
    "    \n",
    "    @height.setter\n",
    "    def height(self, value):\n",
    "        self._height = value\n",
    "    \n",
    "    @property\n",
    "    def area(self):\n",
    "        return self._width * self._height\n",
    "    \n",
    "    def __str__(self):\n",
    "        return f'width: {self._width}, height: {self._height}'"
   ]
  },
  {
   "cell_type": "code",
   "execution_count": null,
   "id": "63e4b1b3-619a-46aa-9f06-ada5875833e8",
   "metadata": {},
   "outputs": [],
   "source": [
    "def use_it(rc):\n",
    "    w = rc.width\n",
    "    rc.height = 10\n",
    "    \n",
    "    expected = int(w*10)\n",
    "    \n",
    "    return f'Expected an area of {expected}, got {rc.area}'"
   ]
  },
  {
   "cell_type": "code",
   "execution_count": null,
   "id": "b578e3fb-1ea5-445a-bbc2-4d38441105c7",
   "metadata": {},
   "outputs": [],
   "source": [
    "rc = Rectangle(2, 3)"
   ]
  },
  {
   "cell_type": "code",
   "execution_count": null,
   "id": "5b30ef85-2e6e-43ac-aa30-36d54c93b781",
   "metadata": {},
   "outputs": [
    {
     "data": {
      "text/plain": [
       "'Expected an area of 20, got 20'"
      ]
     },
     "execution_count": null,
     "metadata": {},
     "output_type": "execute_result"
    }
   ],
   "source": [
    "use_it(rc)"
   ]
  },
  {
   "cell_type": "markdown",
   "id": "b32462d2-76ec-4529-ad01-630dc27ff9c8",
   "metadata": {},
   "source": [
    "##### Example 2"
   ]
  },
  {
   "cell_type": "code",
   "execution_count": null,
   "id": "f0c59ebf-9d56-4f29-9f6e-1e8cc2b57f45",
   "metadata": {},
   "outputs": [],
   "source": [
    "from abc import ABC, abstractclassmethod"
   ]
  },
  {
   "cell_type": "code",
   "execution_count": null,
   "id": "5186855d-fc5f-4de9-970b-a53b748597e4",
   "metadata": {},
   "outputs": [],
   "source": [
    "class PaymentProcessor(ABC):\n",
    "    @abstractmethod\n",
    "    def pay(self, security_code):\n",
    "        pass"
   ]
  },
  {
   "cell_type": "markdown",
   "id": "9b07bfc0-7344-4489-a36f-e8919986c253",
   "metadata": {},
   "source": [
    "If you want to change from `security_code` to `email`"
   ]
  },
  {
   "cell_type": "code",
   "execution_count": null,
   "id": "2ce71c03-e92f-48c1-b147-9def8cb7e74c",
   "metadata": {},
   "outputs": [],
   "source": [
    "class PaypalPaymentProcessor(PaymentProcessor):\n",
    "    def pay(self, email):\n",
    "        pass"
   ]
  },
  {
   "cell_type": "markdown",
   "id": "f117d79f-ec7b-428d-86b9-4f42db514497",
   "metadata": {},
   "source": [
    "##### Example 3: Rectangle"
   ]
  },
  {
   "cell_type": "code",
   "execution_count": null,
   "id": "7378c560-0407-4cc8-ac3a-e0cfa361706e",
   "metadata": {},
   "outputs": [],
   "source": [
    "class Rectangle:\n",
    "    def __init__(self, width, height):\n",
    "        self.width, self.height = width, height\n",
    "    \n",
    "    def area(self):\n",
    "        return self.width * self.height"
   ]
  },
  {
   "cell_type": "code",
   "execution_count": null,
   "id": "c35b1af2-9c59-4fea-a950-e9f8b4ce110a",
   "metadata": {},
   "outputs": [],
   "source": [
    "class Square(Rectangle):\n",
    "    def __init__(self, size):\n",
    "        self.width, self.height = size, size"
   ]
  },
  {
   "cell_type": "code",
   "execution_count": null,
   "id": "25620b45-710d-4f7c-a23b-3c7f876763f5",
   "metadata": {},
   "outputs": [
    {
     "data": {
      "text/plain": [
       "12"
      ]
     },
     "execution_count": null,
     "metadata": {},
     "output_type": "execute_result"
    }
   ],
   "source": [
    "Rectangle(3, 4).area()"
   ]
  },
  {
   "cell_type": "code",
   "execution_count": null,
   "id": "4970cae3-f2ec-496e-a857-3bc030530865",
   "metadata": {},
   "outputs": [
    {
     "ename": "TypeError",
     "evalue": "__init__() takes 2 positional arguments but 3 were given",
     "output_type": "error",
     "traceback": [
      "\u001b[0;31m---------------------------------------------------------------------------\u001b[0m",
      "\u001b[0;31mTypeError\u001b[0m                                 Traceback (most recent call last)",
      "Input \u001b[0;32mIn [167]\u001b[0m, in \u001b[0;36m<cell line: 1>\u001b[0;34m()\u001b[0m\n\u001b[0;32m----> 1\u001b[0m \u001b[43mSquare\u001b[49m\u001b[43m(\u001b[49m\u001b[38;5;241;43m3\u001b[39;49m\u001b[43m,\u001b[49m\u001b[43m \u001b[49m\u001b[38;5;241;43m4\u001b[39;49m\u001b[43m)\u001b[49m\u001b[38;5;241m.\u001b[39marea()\n",
      "\u001b[0;31mTypeError\u001b[0m: __init__() takes 2 positional arguments but 3 were given"
     ]
    }
   ],
   "source": [
    "Square(3, 4).area()"
   ]
  },
  {
   "cell_type": "markdown",
   "id": "45657264-3d72-4da8-86ce-9f5ba5ea137d",
   "metadata": {},
   "source": [
    "Why this piece of code bad?"
   ]
  },
  {
   "cell_type": "markdown",
   "id": "983c6858-2de2-4ef4-a88e-fcbdd2a1fd50",
   "metadata": {},
   "source": [
    "**Explain**\n",
    "\n",
    "The class `Square` should be albe to replace the class `Rectangle` without breaking the code because it inherited from the class `Rectangle`"
   ]
  },
  {
   "cell_type": "markdown",
   "id": "a00b1a23-3c48-4656-a6b8-77cd784e9a2d",
   "metadata": {},
   "source": [
    "##### Example 4: Bird"
   ]
  },
  {
   "cell_type": "code",
   "execution_count": null,
   "id": "17b5e779-c73d-465a-ba50-dc487d99f374",
   "metadata": {},
   "outputs": [],
   "source": [
    "class Bird:\n",
    "    def fly(self):\n",
    "        return \"flying\""
   ]
  },
  {
   "cell_type": "code",
   "execution_count": null,
   "id": "9dfbf82f-74d2-47ea-8991-2e9d742c25ac",
   "metadata": {},
   "outputs": [],
   "source": [
    "class Duck(Bird):\n",
    "    def quack(self):\n",
    "        return \"quack quack\""
   ]
  },
  {
   "cell_type": "markdown",
   "id": "e3e77814-d2f4-404b-aeb2-a5514ec05e29",
   "metadata": {},
   "source": [
    "Because peaguin can't fly, so class `Peaguin` must be return error for the `fly` method"
   ]
  },
  {
   "cell_type": "code",
   "execution_count": null,
   "id": "a94ee848-7114-40c1-83af-fb7ca1c60705",
   "metadata": {},
   "outputs": [],
   "source": [
    "class Peaguin(Bird):\n",
    "    def swim(self):\n",
    "        return \"swimming\""
   ]
  },
  {
   "cell_type": "code",
   "execution_count": null,
   "id": "a8ddc310-6550-424e-9b80-23f05c414314",
   "metadata": {},
   "outputs": [],
   "source": [
    "p = Peaguin()"
   ]
  },
  {
   "cell_type": "code",
   "execution_count": null,
   "id": "eaee3900-20e4-42ba-b487-be5b8e94c83a",
   "metadata": {},
   "outputs": [
    {
     "data": {
      "text/plain": [
       "True"
      ]
     },
     "execution_count": null,
     "metadata": {},
     "output_type": "execute_result"
    }
   ],
   "source": [
    "hasattr(p, 'fly')"
   ]
  },
  {
   "cell_type": "markdown",
   "id": "042c349d-2efc-49e8-a59b-f7d7705f29c4",
   "metadata": {},
   "source": [
    "Apply the `Liskov Substitution Principle` to fix this"
   ]
  },
  {
   "cell_type": "code",
   "execution_count": null,
   "id": "9337e4f2-1ba8-446d-9922-26908bda33a9",
   "metadata": {},
   "outputs": [],
   "source": [
    "class Bird: pass"
   ]
  },
  {
   "cell_type": "code",
   "execution_count": null,
   "id": "27003b75-2f79-42df-a8ea-8a2cadd92491",
   "metadata": {},
   "outputs": [],
   "source": [
    "class FlyingBird(Bird):\n",
    "    def fly(self):\n",
    "        return \"flying\""
   ]
  },
  {
   "cell_type": "code",
   "execution_count": null,
   "id": "6ef0a411-f99c-4d5f-bd06-7bfaa1829b09",
   "metadata": {},
   "outputs": [],
   "source": [
    "class SwimmingBird(Bird):\n",
    "    def swimming(self):\n",
    "        return \"swimming\""
   ]
  },
  {
   "cell_type": "code",
   "execution_count": null,
   "id": "85601a5b-c413-45e6-be1d-315ad6b654e8",
   "metadata": {},
   "outputs": [],
   "source": [
    "class Duck(FlyingBird):\n",
    "    def quack(self):\n",
    "        return \"quack quack\""
   ]
  },
  {
   "cell_type": "code",
   "execution_count": null,
   "id": "dbfe1a3e-7f17-4806-8fe0-8ce3c65cf822",
   "metadata": {},
   "outputs": [],
   "source": [
    "class Peaguin(SwimmingBird):\n",
    "    pass"
   ]
  },
  {
   "cell_type": "code",
   "execution_count": null,
   "id": "cb25868e-3dfd-4e95-8e33-e72da99247d4",
   "metadata": {},
   "outputs": [],
   "source": [
    "p = Peaguin()"
   ]
  },
  {
   "cell_type": "code",
   "execution_count": null,
   "id": "9a53f6c1-d6b1-41a5-9a2b-fff970ab2298",
   "metadata": {},
   "outputs": [
    {
     "data": {
      "text/plain": [
       "False"
      ]
     },
     "execution_count": null,
     "metadata": {},
     "output_type": "execute_result"
    }
   ],
   "source": [
    "hasattr(p, 'fly')"
   ]
  },
  {
   "cell_type": "markdown",
   "id": "c4d1eecb-c713-445c-8ba0-a01ea72945b9",
   "metadata": {},
   "source": [
    "### I: Interface Segregation Principle"
   ]
  },
  {
   "cell_type": "code",
   "execution_count": null,
   "id": "1a952ae3-b73b-4038-aa99-5cd34bdead42",
   "metadata": {},
   "outputs": [],
   "source": [
    "class Machine:\n",
    "    def print(self, document):\n",
    "        raise NotImplementedError\n",
    "    \n",
    "    def scan(self, document):\n",
    "        raise NotImplementedError"
   ]
  },
  {
   "cell_type": "markdown",
   "id": "3b8986a9-6f40-4926-827e-876d1330ab90",
   "metadata": {},
   "source": [
    "`OldFashionedPrinter` only allows method `print`"
   ]
  },
  {
   "cell_type": "code",
   "execution_count": null,
   "id": "ff1173c7-5a35-4939-95cd-7bf3f5938e46",
   "metadata": {},
   "outputs": [],
   "source": [
    "class OldFashionPrinter(Machine):\n",
    "    pass"
   ]
  },
  {
   "cell_type": "markdown",
   "id": "48cf3f6b-128a-4b3d-a707-b01e9a9a7eb6",
   "metadata": {},
   "source": [
    "Why this piece of code bad?"
   ]
  },
  {
   "cell_type": "markdown",
   "id": "1cdfb298-7dce-41aa-89f2-ea2dbdc80553",
   "metadata": {},
   "source": [
    "**Explain**\n",
    "\n",
    "The class `Machine` should be split into smaller classes, because the class `OldFashionPrinter` only use a part of the class `Machine`"
   ]
  },
  {
   "cell_type": "code",
   "execution_count": null,
   "id": "4732d520-ecf4-4852-9bae-df4dc4ef3e1b",
   "metadata": {},
   "outputs": [],
   "source": [
    "class Machine:\n",
    "    def print(self, document):\n",
    "        raise NotImplementedError\n",
    "    \n",
    "    def scan(self, document):\n",
    "        raise NotImplementedError"
   ]
  },
  {
   "cell_type": "markdown",
   "id": "f85ac108-153e-442d-9ab4-54b9dc91bfb8",
   "metadata": {},
   "source": [
    "`OldFashionedPrinter` only allows method `print`"
   ]
  },
  {
   "cell_type": "code",
   "execution_count": null,
   "id": "8fc290e1-7d2a-48eb-b66d-53d4eee85ed4",
   "metadata": {},
   "outputs": [],
   "source": [
    "class OldFashionPrinter(Machine):\n",
    "    pass"
   ]
  },
  {
   "cell_type": "code",
   "execution_count": null,
   "id": "93bff1ae-15ec-4fbf-9ac4-394733e465ee",
   "metadata": {},
   "outputs": [],
   "source": [
    "o = OldFashionedPrinter()"
   ]
  },
  {
   "cell_type": "code",
   "execution_count": null,
   "id": "0ba71e4b-1f5f-434e-88c3-dc55d9ef23ff",
   "metadata": {},
   "outputs": [
    {
     "data": {
      "text/plain": [
       "True"
      ]
     },
     "execution_count": null,
     "metadata": {},
     "output_type": "execute_result"
    }
   ],
   "source": [
    "hasattr(o, \"scan\")"
   ]
  },
  {
   "cell_type": "markdown",
   "id": "0fcaa685-236f-425e-ba3b-a3ebe6cc353f",
   "metadata": {},
   "source": [
    "Apply `Interface Segregation Principle` using `abstractmethod`"
   ]
  },
  {
   "cell_type": "code",
   "execution_count": null,
   "id": "f942d5a7-61b0-4b7d-b6b8-27f8c92a530e",
   "metadata": {},
   "outputs": [],
   "source": [
    "from abc import abstractmethod"
   ]
  },
  {
   "cell_type": "code",
   "execution_count": null,
   "id": "7b0be168-05a1-424a-a9b8-6dee02241af7",
   "metadata": {},
   "outputs": [],
   "source": [
    "class Printer():\n",
    "    @abstractmethod\n",
    "    def print(self, document):\n",
    "        pass"
   ]
  },
  {
   "cell_type": "code",
   "execution_count": null,
   "id": "d7184974-a7fc-42dc-9257-c30c94df5c43",
   "metadata": {},
   "outputs": [],
   "source": [
    "class Scanner():\n",
    "    @abstractmethod\n",
    "    def scan(self, document):\n",
    "        pass"
   ]
  },
  {
   "cell_type": "code",
   "execution_count": null,
   "id": "9ebb95eb-f974-4b91-aef9-d397c5a0718f",
   "metadata": {},
   "outputs": [],
   "source": [
    "class OldFashionPrinter(Printer):\n",
    "    def print(self):\n",
    "        pass"
   ]
  },
  {
   "cell_type": "code",
   "execution_count": null,
   "id": "3eb461dd-0017-4a4d-890f-2d2781a1778d",
   "metadata": {},
   "outputs": [],
   "source": [
    "o = OldFashionPrinter()"
   ]
  },
  {
   "cell_type": "code",
   "execution_count": null,
   "id": "ee2d9fc8-5445-46c8-ac1f-86484b3d5061",
   "metadata": {},
   "outputs": [
    {
     "data": {
      "text/plain": [
       "False"
      ]
     },
     "execution_count": null,
     "metadata": {},
     "output_type": "execute_result"
    }
   ],
   "source": [
    "hasattr(o, \"scan\")"
   ]
  },
  {
   "cell_type": "markdown",
   "id": "94ac4fd8-9b0b-4953-b626-c629c69a7793",
   "metadata": {},
   "source": [
    "### D: Dependence Inversion Principles"
   ]
  },
  {
   "cell_type": "markdown",
   "id": "3162abd0-ee38-405d-bf13-83704ce3bbdc",
   "metadata": {},
   "source": [
    "##### Example 1: Person"
   ]
  },
  {
   "cell_type": "code",
   "execution_count": null,
   "id": "37045957-aa58-4e33-b82f-55893b951eef",
   "metadata": {},
   "outputs": [],
   "source": [
    "from enum import Enum"
   ]
  },
  {
   "cell_type": "code",
   "execution_count": null,
   "id": "7b308c58-af42-46d7-b4bc-e66edbc004c5",
   "metadata": {},
   "outputs": [],
   "source": [
    "class Relationship(Enum):\n",
    "    PARENT = 0\n",
    "    CHILD = 1\n",
    "    SIBLING = 2"
   ]
  },
  {
   "cell_type": "code",
   "execution_count": null,
   "id": "928272fc-e18d-4e88-9bd8-67ba75d6b767",
   "metadata": {},
   "outputs": [],
   "source": [
    "class Person:\n",
    "    def __init__(self, name):\n",
    "        self.name = name"
   ]
  },
  {
   "cell_type": "code",
   "execution_count": null,
   "id": "cbf2d9c7-32bc-4fca-b6d4-2ce3d637527e",
   "metadata": {},
   "outputs": [],
   "source": [
    "class Relationships:\n",
    "    def __init__(self):\n",
    "        self.relations = []\n",
    "    \n",
    "    def add_parent_and_child(self, parent, child):\n",
    "        self.relations.append(\n",
    "            (parent, Relationship.PARENT, child)\n",
    "        )\n",
    "        \n",
    "        self.relations.append(\n",
    "            (child, Relationship.CHILD, parent)\n",
    "        )"
   ]
  },
  {
   "cell_type": "code",
   "execution_count": null,
   "id": "6fc7f8f0-c968-4bfa-8816-a8425d78a715",
   "metadata": {},
   "outputs": [],
   "source": [
    "class Research:\n",
    "    def __init__(self, relationships):\n",
    "        relations = relationships.relations\n",
    "        for r in relations:\n",
    "            if r[0].name == \"John\" and r[1] == Relationship.PARENT:\n",
    "                print(f\"John has a child called {r[2].name}\")"
   ]
  },
  {
   "cell_type": "code",
   "execution_count": null,
   "id": "0731369d-68d4-4279-9f32-1c0641a94c73",
   "metadata": {},
   "outputs": [],
   "source": [
    "parent = Person(\"John\")"
   ]
  },
  {
   "cell_type": "code",
   "execution_count": null,
   "id": "a06e4a0f-d7e0-40b2-a781-8762cd512976",
   "metadata": {},
   "outputs": [],
   "source": [
    "child1 = Person('Christ')"
   ]
  },
  {
   "cell_type": "code",
   "execution_count": null,
   "id": "73a57570-e147-4340-a555-abcbf66713a1",
   "metadata": {},
   "outputs": [],
   "source": [
    "child2 = Person('Matt')"
   ]
  },
  {
   "cell_type": "code",
   "execution_count": null,
   "id": "71ddb841-4580-41a0-a89f-a09e7c5cdbdf",
   "metadata": {},
   "outputs": [],
   "source": [
    "relationships = Relationships()"
   ]
  },
  {
   "cell_type": "code",
   "execution_count": null,
   "id": "a58d73f1-74b4-4f05-858f-d5b1d26bf3e8",
   "metadata": {},
   "outputs": [],
   "source": [
    "relationships.add_parent_and_child(parent, child1)"
   ]
  },
  {
   "cell_type": "code",
   "execution_count": null,
   "id": "a737e841-9841-4c8e-9128-2c75bea5dd9a",
   "metadata": {},
   "outputs": [],
   "source": [
    "relationships.add_parent_and_child(parent, child2)"
   ]
  },
  {
   "cell_type": "code",
   "execution_count": null,
   "id": "20903bb8-72d9-4fcb-ae95-b2c55b403121",
   "metadata": {},
   "outputs": [
    {
     "name": "stdout",
     "output_type": "stream",
     "text": [
      "John has a child called Christ\n",
      "John has a child called Matt\n"
     ]
    },
    {
     "data": {
      "text/plain": [
       "<__main__.Research>"
      ]
     },
     "execution_count": null,
     "metadata": {},
     "output_type": "execute_result"
    }
   ],
   "source": [
    "Research(relationships)"
   ]
  },
  {
   "cell_type": "markdown",
   "id": "cc45ee4e-93b9-414b-935d-f8d7a4d39d9e",
   "metadata": {},
   "source": [
    "##### Example 2: Stripe"
   ]
  },
  {
   "cell_type": "code",
   "execution_count": null,
   "id": "b041a08e-1f6f-4f39-b005-d147a2dcaa3a",
   "metadata": {},
   "outputs": [],
   "source": [
    "class Stripe:\n",
    "    def pay(self):\n",
    "        pass"
   ]
  },
  {
   "cell_type": "code",
   "execution_count": null,
   "id": "d759dfc4-d14f-464f-8608-2ff5095115f1",
   "metadata": {},
   "outputs": [],
   "source": [
    "class Paypal:\n",
    "    def charge(self):\n",
    "        pass"
   ]
  },
  {
   "cell_type": "code",
   "execution_count": null,
   "id": "d1141a70-8cf1-4f11-ab25-ade278415707",
   "metadata": {},
   "outputs": [],
   "source": [
    "class Store:\n",
    "    def payHelmet(self):\n",
    "        Stripe().pay()"
   ]
  },
  {
   "cell_type": "markdown",
   "id": "96040bb9-587b-4429-8312-4bb47caf3715",
   "metadata": {},
   "source": [
    "Suppose two month laters, you want to change the payment service to `PayPal`. Refactor the code using `Dependence Inversion Principles`"
   ]
  },
  {
   "cell_type": "code",
   "execution_count": null,
   "id": "30876ae0-6ed2-43ae-937a-328dd90e3ac7",
   "metadata": {},
   "outputs": [],
   "source": [
    "class PaymentProcessor:\n",
    "    pass"
   ]
  },
  {
   "cell_type": "code",
   "execution_count": null,
   "id": "ff88fd66-8378-4417-ba6b-4d6bfdd0d56a",
   "metadata": {},
   "outputs": [],
   "source": [
    "class StripePaymentProcessor(PaymentProcessor):\n",
    "    def pay(self, type_payment):\n",
    "        return Stripe().pay()"
   ]
  },
  {
   "cell_type": "code",
   "execution_count": null,
   "id": "893a8edb-1ccf-47da-b2fc-5f97cb529d55",
   "metadata": {},
   "outputs": [],
   "source": [
    "class PaypalPaymentProcessor(PaymentProcessor):\n",
    "    def pay(self):\n",
    "        pass"
   ]
  },
  {
   "cell_type": "code",
   "execution_count": null,
   "id": "4acdabc9-c727-4545-941e-05be91cf706f",
   "metadata": {},
   "outputs": [],
   "source": [
    "class Store:\n",
    "    def payHelmet(self):\n",
    "        PaymentProcessor().pay('Paypal')"
   ]
  },
  {
   "cell_type": "markdown",
   "id": "cefcf2e5-e3f7-4219-8c6b-d0e97ddab785",
   "metadata": {},
   "source": [
    "##### Example 3: Lightbulb"
   ]
  },
  {
   "cell_type": "code",
   "execution_count": null,
   "id": "3f0b22d4-6f24-46a5-ac88-a0feb944499c",
   "metadata": {},
   "outputs": [],
   "source": [
    "class LightBulb:\n",
    "    def turn_on(self):\n",
    "        return \"turned on\"\n",
    "    \n",
    "    def turn_off(self):\n",
    "        return \"turned off\""
   ]
  },
  {
   "cell_type": "code",
   "execution_count": null,
   "id": "88cadb5b-c18b-4011-a195-7cdabb3ff301",
   "metadata": {},
   "outputs": [],
   "source": [
    "class ElectricPowerSwitch:\n",
    "    def __init__(self, l: LightBulb):\n",
    "        self.lightbulb = 1\n",
    "        self.on = False\n",
    "    \n",
    "    def press(self):\n",
    "        if self.on:\n",
    "            self.lightbulb.turn_off()\n",
    "            self.on = False\n",
    "        else:\n",
    "            self.lightbulb.turn_on()\n",
    "            self.on = True"
   ]
  },
  {
   "cell_type": "code",
   "execution_count": null,
   "id": "518c56d4-10e1-4cf6-8be1-022698093da7",
   "metadata": {},
   "outputs": [],
   "source": [
    "from abc import ABC, abstractclassmethod"
   ]
  },
  {
   "cell_type": "code",
   "execution_count": null,
   "id": "f6df7306-accb-4d40-a8a9-2d7da625f7f9",
   "metadata": {},
   "outputs": [],
   "source": [
    "class Switchable(ABC):\n",
    "    @abstractclassmethod\n",
    "    def turn_on(self):\n",
    "        pass\n",
    "    \n",
    "    @abstractclassmethod\n",
    "    def turn_off(self):\n",
    "        pass"
   ]
  },
  {
   "cell_type": "code",
   "execution_count": null,
   "id": "1356a211-b73a-41b3-8965-3f9b4f8010fe",
   "metadata": {},
   "outputs": [],
   "source": [
    "class LightBulb(Switchable):\n",
    "    def turn_on(self):\n",
    "        print(\"turned on\")\n",
    "    \n",
    "    def turn_off(self):\n",
    "        print(\"turned off\")"
   ]
  },
  {
   "cell_type": "code",
   "execution_count": null,
   "id": "4ce9a7b5-9594-445e-b979-d8ba91ee24ac",
   "metadata": {},
   "outputs": [],
   "source": [
    "class ElectricPowerSwitch:\n",
    "    def __init__(self, l: Switchable):\n",
    "        self.switch = l\n",
    "        self.on = False\n",
    "    \n",
    "    def press(self):\n",
    "        if self.on:\n",
    "            self.switch.turn_off()\n",
    "            self.on = False\n",
    "        else:\n",
    "            self.switch.turn_on()\n",
    "            self.on = True"
   ]
  },
  {
   "cell_type": "code",
   "execution_count": null,
   "id": "1749253b-77b3-4926-ad97-9203c67c9f6f",
   "metadata": {},
   "outputs": [],
   "source": [
    "l = LightBulb()"
   ]
  },
  {
   "cell_type": "code",
   "execution_count": null,
   "id": "e0b4c0d1-fb8a-4fdd-96ef-289189e1dff9",
   "metadata": {},
   "outputs": [],
   "source": [
    "e = ElectricPowerSwitch(l)"
   ]
  },
  {
   "cell_type": "code",
   "execution_count": null,
   "id": "ce83c183-de05-4ba8-aae4-95d3b87bff17",
   "metadata": {},
   "outputs": [
    {
     "name": "stdout",
     "output_type": "stream",
     "text": [
      "turned on\n"
     ]
    }
   ],
   "source": [
    "e.press()"
   ]
  },
  {
   "cell_type": "markdown",
   "id": "747bc1d0-fb4d-4ff0-a603-6624e0ad5866",
   "metadata": {},
   "source": [
    "##### Example 3.1: Lightbulb (simplified)"
   ]
  },
  {
   "cell_type": "code",
   "execution_count": null,
   "id": "819c716b-a53d-4aa3-835a-d8158aa56c47",
   "metadata": {},
   "outputs": [],
   "source": [
    "class LightBulb:\n",
    "    def turn_on(self):\n",
    "        pass\n",
    "    \n",
    "    def turn_off(self):\n",
    "        pass"
   ]
  },
  {
   "cell_type": "code",
   "execution_count": null,
   "id": "2facc47d-c9d0-479f-b602-717be2891fcc",
   "metadata": {},
   "outputs": [],
   "source": [
    "class ElectricPowerSwitch:\n",
    "    def __init__(self, l: LightBulb):\n",
    "        self.lightbulb = l"
   ]
  },
  {
   "cell_type": "markdown",
   "id": "98b92621-0358-4ddb-afe5-62a9ad1a4efe",
   "metadata": {},
   "source": [
    "Refactor the code using `Dependency Inversion Principle`"
   ]
  },
  {
   "cell_type": "code",
   "execution_count": null,
   "id": "f93d79f5-e10e-4381-9d81-45db8648d724",
   "metadata": {},
   "outputs": [],
   "source": [
    "from abc import ABC, abstractclassmethod"
   ]
  },
  {
   "cell_type": "code",
   "execution_count": null,
   "id": "d49d73b0-f94c-424b-8ec5-547c6a8c85e5",
   "metadata": {},
   "outputs": [],
   "source": [
    "class Switchable(ABC):\n",
    "    @abstractclassmethod\n",
    "    def turn_on(self):\n",
    "        pass\n",
    "    \n",
    "    @abstractclassmethod\n",
    "    def turn_off(self):\n",
    "        pass"
   ]
  },
  {
   "cell_type": "code",
   "execution_count": null,
   "id": "629a732a-54c9-4d0e-860a-646f019cb5c5",
   "metadata": {},
   "outputs": [],
   "source": [
    "class LightBulb(Switchable):\n",
    "    def turn_on(self):\n",
    "        pass\n",
    "    \n",
    "    def turn_off(self):\n",
    "        pass"
   ]
  },
  {
   "cell_type": "code",
   "execution_count": null,
   "id": "8e764062-12c6-4ee5-a896-4d82d2decffc",
   "metadata": {},
   "outputs": [],
   "source": [
    "class ElectricPowerSwitch:\n",
    "    def __init__(self, l: Switchable):\n",
    "        self.switch = l"
   ]
  },
  {
   "cell_type": "code",
   "execution_count": null,
   "id": "4ac67e2b-0de9-40c6-991c-353978f827d8",
   "metadata": {},
   "outputs": [],
   "source": []
  }
 ],
 "metadata": {
  "kernelspec": {
   "display_name": "Python 3 (ipykernel)",
   "language": "python",
   "name": "python3"
  }
 },
 "nbformat": 4,
 "nbformat_minor": 5
}
