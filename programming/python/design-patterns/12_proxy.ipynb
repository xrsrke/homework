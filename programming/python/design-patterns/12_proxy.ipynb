{
 "cells": [
  {
   "cell_type": "markdown",
   "id": "59ef10af-f683-4e64-8084-dfa85c6fb50e",
   "metadata": {},
   "source": [
    "# Proxy"
   ]
  },
  {
   "cell_type": "markdown",
   "id": "eef76c8f-bc29-4bec-bb86-bf23118c5500",
   "metadata": {},
   "source": [
    "##### Example 1: Driver age"
   ]
  },
  {
   "cell_type": "code",
   "execution_count": 81,
   "id": "8feba876-b1b3-45f9-9e5f-8aa26ffa7862",
   "metadata": {},
   "outputs": [],
   "source": [
    "class Driver:\n",
    "    def __init__(self, name, age):\n",
    "        self.name = name\n",
    "        self.age = age"
   ]
  },
  {
   "cell_type": "code",
   "execution_count": 82,
   "id": "275e99ac-8ddf-4df3-bd91-e5bbffb4f73a",
   "metadata": {},
   "outputs": [],
   "source": [
    "class Car:\n",
    "    def __init__(self, driver):\n",
    "        self.driver = driver\n",
    "    \n",
    "    def drive(self):\n",
    "        print(f'Car is being driven by {self.driver.name}')"
   ]
  },
  {
   "cell_type": "code",
   "execution_count": 83,
   "id": "d4534d00-3bcd-4373-aabf-7b828c2d2fdd",
   "metadata": {},
   "outputs": [],
   "source": [
    "s = Driver('Shivon', 36)"
   ]
  },
  {
   "cell_type": "code",
   "execution_count": 84,
   "id": "6d22af35-066f-4f41-a679-94ff162cd480",
   "metadata": {},
   "outputs": [
    {
     "name": "stdout",
     "output_type": "stream",
     "text": [
      "Car is being driven by Shivon\n"
     ]
    }
   ],
   "source": [
    "Car(s).drive()"
   ]
  },
  {
   "cell_type": "markdown",
   "id": "0ff0b09c-61e7-47e0-81d0-7814d8d7178b",
   "metadata": {},
   "source": [
    "Create a `CarProxy` using `Proxy Pattern`, in the `drive` method\n",
    "- If the driver age less than 16, print('Driver too young')\n",
    "- Else, call the `drive` method of the `car`"
   ]
  },
  {
   "cell_type": "code",
   "execution_count": 85,
   "id": "46478cfd-63a8-4a3b-b4c6-9dae8718d341",
   "metadata": {},
   "outputs": [],
   "source": [
    "class CarProxy:\n",
    "    def __init__(self, driver):\n",
    "        self.driver = driver\n",
    "        self._car = Car(driver)\n",
    "    \n",
    "    def drive(self):\n",
    "        if self.driver.age >= 16:\n",
    "            self._car.drive()\n",
    "        else:\n",
    "            print('Driver too young')"
   ]
  },
  {
   "cell_type": "code",
   "execution_count": 86,
   "id": "8c043a82-a1f7-4abb-ae47-fc59359612c2",
   "metadata": {},
   "outputs": [],
   "source": [
    "s = Driver('Shivon', 36)\n",
    "x = Driver('X', 12)"
   ]
  },
  {
   "cell_type": "code",
   "execution_count": 87,
   "id": "6d78b6ac-b4e6-4e8f-bf32-efcb8dfc55b6",
   "metadata": {},
   "outputs": [],
   "source": [
    "car1 = CarProxy(s)\n",
    "car2 = CarProxy(x)"
   ]
  },
  {
   "cell_type": "code",
   "execution_count": 88,
   "id": "bc30c307-5a2d-48bf-82f8-0a59b8af0bd6",
   "metadata": {},
   "outputs": [
    {
     "name": "stdout",
     "output_type": "stream",
     "text": [
      "Car is being driven by Shivon\n"
     ]
    }
   ],
   "source": [
    "car1.drive()"
   ]
  },
  {
   "cell_type": "code",
   "execution_count": 89,
   "id": "0d12e62e-4cdb-4694-9de2-afd316982aed",
   "metadata": {},
   "outputs": [
    {
     "name": "stdout",
     "output_type": "stream",
     "text": [
      "Driver too young\n"
     ]
    }
   ],
   "source": [
    "car2.drive()"
   ]
  },
  {
   "cell_type": "markdown",
   "id": "93deab17-a56b-420a-a523-2b5af703f4a7",
   "metadata": {},
   "source": [
    "##### Example 2:"
   ]
  },
  {
   "cell_type": "code",
   "execution_count": 111,
   "id": "9328c3d6-8a7b-4db7-8180-96eb3d628300",
   "metadata": {},
   "outputs": [],
   "source": [
    "class Bitmap:\n",
    "    def __init__(self, filename):\n",
    "        self.filename = filename\n",
    "        print(f'loading the image from {self.filename}')\n",
    "    \n",
    "    def draw(self):\n",
    "        print(f'drawing image {self.filename}')"
   ]
  },
  {
   "cell_type": "code",
   "execution_count": 112,
   "id": "f33d3334-75f0-44ad-9dd5-c9fca98940c1",
   "metadata": {},
   "outputs": [],
   "source": [
    "def draw_image(image):\n",
    "    print('about to draw image')\n",
    "    image.draw()\n",
    "    print('done drawing image')"
   ]
  },
  {
   "cell_type": "code",
   "execution_count": 113,
   "id": "19d8f85e-3a67-47f7-9ebc-d4ae751cdd0f",
   "metadata": {},
   "outputs": [
    {
     "name": "stdout",
     "output_type": "stream",
     "text": [
      "loading the image from dog.png\n"
     ]
    }
   ],
   "source": [
    "b = Bitmap('dog.png')"
   ]
  },
  {
   "cell_type": "code",
   "execution_count": 114,
   "id": "9047d492-5c45-409a-9c48-f3a5b3fae850",
   "metadata": {},
   "outputs": [
    {
     "name": "stdout",
     "output_type": "stream",
     "text": [
      "about to draw image\n",
      "drawing image dog.png\n",
      "done drawing image\n"
     ]
    }
   ],
   "source": [
    "draw_image(b)"
   ]
  },
  {
   "cell_type": "markdown",
   "id": "2c3634b0-8f9b-4f83-ae6d-054b4499ac79",
   "metadata": {},
   "source": [
    "Create a `LazyBitmap` that only loads the image if about to draw it without changing `Bitmap` class"
   ]
  },
  {
   "cell_type": "code",
   "execution_count": 115,
   "id": "4d746d6c-2514-4165-a0e7-b33016add8eb",
   "metadata": {},
   "outputs": [],
   "source": [
    "class LazyBitmap:\n",
    "    def __init__(self, filename):\n",
    "        self.filename = filename\n",
    "        self._bitmap = None\n",
    "    \n",
    "    def draw(self):\n",
    "        if not self._bitmap:\n",
    "            self._bitmap = Bitmap(self.filename)\n",
    "        self._bitmap.draw()"
   ]
  },
  {
   "cell_type": "code",
   "execution_count": 116,
   "id": "8edbb807-a118-480e-b13d-f7de61824705",
   "metadata": {},
   "outputs": [],
   "source": [
    "lazy = LazyBitmap('dog.png')"
   ]
  },
  {
   "cell_type": "code",
   "execution_count": 117,
   "id": "52181bf0-9931-42ad-9c82-fb86cff4c356",
   "metadata": {},
   "outputs": [
    {
     "name": "stdout",
     "output_type": "stream",
     "text": [
      "loading the image from dog.png\n",
      "drawing image dog.png\n"
     ]
    }
   ],
   "source": [
    "lazy.draw()"
   ]
  },
  {
   "cell_type": "code",
   "execution_count": 118,
   "id": "2dab34d0-aa0a-4234-b2f6-70212df1fa2a",
   "metadata": {},
   "outputs": [
    {
     "name": "stdout",
     "output_type": "stream",
     "text": [
      "drawing image dog.png\n"
     ]
    }
   ],
   "source": [
    "lazy.draw()"
   ]
  },
  {
   "cell_type": "code",
   "execution_count": null,
   "id": "e2ce5f1d-dfe1-40c0-a457-55359a87a41a",
   "metadata": {},
   "outputs": [],
   "source": []
  }
 ],
 "metadata": {
  "kernelspec": {
   "display_name": "Python 3 (ipykernel)",
   "language": "python",
   "name": "python3"
  },
  "language_info": {
   "codemirror_mode": {
    "name": "ipython",
    "version": 3
   },
   "file_extension": ".py",
   "mimetype": "text/x-python",
   "name": "python",
   "nbconvert_exporter": "python",
   "pygments_lexer": "ipython3",
   "version": "3.9.13"
  }
 },
 "nbformat": 4,
 "nbformat_minor": 5
}
