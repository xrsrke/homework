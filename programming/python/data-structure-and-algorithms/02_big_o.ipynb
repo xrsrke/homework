{
 "cells": [
  {
   "cell_type": "markdown",
   "id": "eb4bb32a-b238-4af8-89c0-279c0a6cc7c7",
   "metadata": {},
   "source": [
    "# 1. Big O"
   ]
  },
  {
   "cell_type": "markdown",
   "id": "e0d6dfac-6520-472e-b74a-f8e6335744d3",
   "metadata": {
    "tags": []
   },
   "source": [
    "### 1. $O(n)$"
   ]
  },
  {
   "cell_type": "code",
   "execution_count": 60,
   "id": "ee410e89-584d-41dd-bdb9-0b957bc1adbf",
   "metadata": {},
   "outputs": [],
   "source": [
    "def print_items(n):\n",
    "    for i in range(n):\n",
    "        print(i)"
   ]
  },
  {
   "cell_type": "code",
   "execution_count": 61,
   "id": "4aefb802-50be-437a-84a1-eac08ec84036",
   "metadata": {},
   "outputs": [
    {
     "name": "stdout",
     "output_type": "stream",
     "text": [
      "0\n",
      "1\n",
      "2\n",
      "3\n",
      "4\n"
     ]
    }
   ],
   "source": [
    "print_items(5)"
   ]
  },
  {
   "cell_type": "markdown",
   "id": "51ff55eb-0030-4632-8e26-a38594165923",
   "metadata": {},
   "source": [
    "What is the time complexity of the worst case scenario? Explain how you find it.\n",
    "\n",
    "**Answer**:\n",
    "\n",
    "The `for loop` takes $n$ operations to run.\n",
    "\n",
    "The time complexity for the worst case: $O(n)$"
   ]
  },
  {
   "cell_type": "code",
   "execution_count": 58,
   "id": "b64e13a7-1f98-4b27-b05d-b975e7e93474",
   "metadata": {},
   "outputs": [],
   "source": [
    "def print_items(n):\n",
    "    for i in range(n):\n",
    "        print(i)\n",
    "    \n",
    "    for j in range(n):\n",
    "        print(j)"
   ]
  },
  {
   "cell_type": "code",
   "execution_count": 59,
   "id": "1b9238b4-b2ea-4157-8267-3aa24ee49d8d",
   "metadata": {},
   "outputs": [
    {
     "name": "stdout",
     "output_type": "stream",
     "text": [
      "0\n",
      "1\n",
      "2\n",
      "0\n",
      "1\n",
      "2\n"
     ]
    }
   ],
   "source": [
    "print_items(3)"
   ]
  },
  {
   "cell_type": "markdown",
   "id": "47905e6c-68d2-40d8-8691-d720180f0a48",
   "metadata": {},
   "source": [
    "What is the time complexity of the worst case scenario for function `print_items()`? Explain how you find it.\n",
    "\n",
    "**Answer**\n",
    "\n",
    "There're two `for loop` inside the function. Each `for loop` takes $n$ operations. So two for loop takes $n + n$ operations.\n",
    "\n",
    "The time complexity for the worst case: $O(2n) = O(n)$ (drop the constant)"
   ]
  },
  {
   "cell_type": "markdown",
   "id": "a340c566-0401-4c15-8421-b5c6f43f1cbf",
   "metadata": {},
   "source": [
    "### 2. $O(n^2)$"
   ]
  },
  {
   "cell_type": "code",
   "execution_count": 64,
   "id": "fd17117f-da7a-45c2-a7a6-7baf80d88dc9",
   "metadata": {},
   "outputs": [],
   "source": [
    "def print_items(n):\n",
    "    for i in range(n): # loop_1\n",
    "        for j in range(n): # loop_2\n",
    "            print(i, j)"
   ]
  },
  {
   "cell_type": "code",
   "execution_count": 65,
   "id": "60e181c3-3eba-4f61-a41c-88e22d8fbe4e",
   "metadata": {},
   "outputs": [
    {
     "name": "stdout",
     "output_type": "stream",
     "text": [
      "0 0\n",
      "0 1\n",
      "1 0\n",
      "1 1\n"
     ]
    }
   ],
   "source": [
    "print_items(2)"
   ]
  },
  {
   "cell_type": "markdown",
   "id": "d6941f35-260c-474b-9d3c-acb674f3624f",
   "metadata": {},
   "source": [
    "What is the time complexity of the worst case scenario for function `print_items()`? Explain how you find it.\n",
    "\n",
    "**Answer**:\n",
    "\n",
    "For loop `loop_1` takes $n$ operations to run. But inside the `loop_1`, there's another for loop (`loop_2`) that takes $n$ operations to run. So the total number of operations is $n \\times n = n^2$.\n",
    "\n",
    "The time complexity for the worst case: $O(n^2)$"
   ]
  },
  {
   "cell_type": "code",
   "execution_count": 74,
   "id": "65cdd918-30ca-4edf-b267-b57af9b91e95",
   "metadata": {},
   "outputs": [],
   "source": [
    "def print_items(n):\n",
    "    for i in range(n): # loop_1\n",
    "        for j in range(n): # loop_2\n",
    "            for k in range(n): # loop_3\n",
    "                print(i, j, k)"
   ]
  },
  {
   "cell_type": "code",
   "execution_count": 75,
   "id": "f15587c0-e17f-4715-a4ed-ad7da66b0087",
   "metadata": {},
   "outputs": [
    {
     "name": "stdout",
     "output_type": "stream",
     "text": [
      "0 0 0\n",
      "0 0 1\n",
      "0 1 0\n",
      "0 1 1\n",
      "1 0 0\n",
      "1 0 1\n",
      "1 1 0\n",
      "1 1 1\n"
     ]
    }
   ],
   "source": [
    "print_items(2)"
   ]
  },
  {
   "cell_type": "markdown",
   "id": "b3f7cdb9-e9c1-44a9-bedf-6b147b4fc319",
   "metadata": {},
   "source": [
    "What is the time complexity of this code?\n",
    "\n",
    "**Answer**\n",
    "\n",
    "There're three for loop. Each for loop takes $n$ operations to run. The total of operations is $n \\times n \\times n = n^3$\n",
    "\n",
    "$O(n^3) = O(n^2)$ (no matter $n^{\\text{k}}$, only count $n^2$)"
   ]
  },
  {
   "cell_type": "markdown",
   "id": "a46a3d58-f06a-450a-8d44-f1ea75a5ae9f",
   "metadata": {},
   "source": [
    "What is the time complexity of this code?"
   ]
  },
  {
   "cell_type": "markdown",
   "id": "1a62006b-dbee-4a9c-8b05-09164dd2dc30",
   "metadata": {},
   "source": [
    "**Answer**\n",
    "\n",
    "There're three for loop.\n",
    "- The total number of operations of `loop_1` and `loop_2` is $n^2$\n",
    "- The number of operations of `loop_3` is $n$\n",
    "\n",
    "So the total number of operations is $n^2 + n$\n",
    "\n",
    "The time complexity: $O(n^2 + n) = O(n^2)$ (only count $O(n^2)$)$"
   ]
  },
  {
   "cell_type": "markdown",
   "id": "0a89860c-ffe0-46ae-a77a-dcfd75d37cde",
   "metadata": {},
   "source": [
    "def print_items(n):\n",
    "    for i in range(n): # loop_1\n",
    "        for j in range(n): # loop_2\n",
    "            print(i, j)\n",
    "    \n",
    "    for k in range(n): # loop_3\n",
    "        print(k)"
   ]
  },
  {
   "cell_type": "markdown",
   "id": "2c111fa2-ef6e-4767-ae90-1a4ed3972ebb",
   "metadata": {},
   "source": [
    "What is the time complexity of this code?"
   ]
  },
  {
   "cell_type": "markdown",
   "id": "a99881f1-5105-4e26-9c6d-0fde5adab1fe",
   "metadata": {},
   "source": [
    "**Answer**\n",
    "\n",
    "So numer of operation is `1`\n",
    "\n",
    "The time complexity is $O(1)$"
   ]
  },
  {
   "cell_type": "code",
   "execution_count": 41,
   "id": "c1b39d5b-375f-4a7c-bb94-1e9628aec08b",
   "metadata": {},
   "outputs": [],
   "source": [
    "def print_items(n):\n",
    "    return n + n + n"
   ]
  },
  {
   "cell_type": "markdown",
   "id": "c5fc2ae7-b734-41e2-b16c-044b38189b6d",
   "metadata": {},
   "source": [
    "What is the time complexity of this code?"
   ]
  },
  {
   "cell_type": "markdown",
   "id": "ab265330-8d84-45a8-943d-6f7e406851f9",
   "metadata": {},
   "source": [
    "**Answer**\n",
    "\n",
    "There're two foor loop\n",
    "- `loop_1` takes $a$ operations. Its time complexity is $O(a)$\n",
    "- `loop_2` takes $b$ operations. Its time complexity is $O(b)$\n",
    "\n",
    "The total time complexity is $O(a) + O(b) = O(a+b)$"
   ]
  },
  {
   "cell_type": "code",
   "execution_count": 13,
   "id": "94f26c00-ae0a-4d7b-b7e8-8f542b9ffcbc",
   "metadata": {
    "tags": []
   },
   "outputs": [],
   "source": [
    "def print_items(a, b):\n",
    "    for i in range(a): # loop_1\n",
    "        print(i)\n",
    "        \n",
    "    for j in range(b): # loop_2\n",
    "        print(j)"
   ]
  },
  {
   "cell_type": "markdown",
   "id": "99cf4559-b502-4606-8633-b78c381c4362",
   "metadata": {},
   "source": [
    "What is the time complexity of this code?"
   ]
  },
  {
   "cell_type": "markdown",
   "id": "fe1c3c0b-a23c-4d67-b5ac-8179b612d37b",
   "metadata": {},
   "source": [
    "**Answer**\n",
    "\n",
    "The `loop_1` takes $a$ operations to run. But inside `loop_1`, there's a `loop_2` that takes $b$ operations to run. So the total number of operation is $a*b$.\n",
    "\n",
    "The total time complexity is $O(a*b)$"
   ]
  },
  {
   "cell_type": "code",
   "execution_count": 25,
   "id": "60d9c85f-accd-4acb-926b-3776ee911271",
   "metadata": {},
   "outputs": [],
   "source": [
    "def print_items(a, b):\n",
    "    for i in range(a): # loop_1\n",
    "        for j in range(b): # loop_2\n",
    "            print(i, j)"
   ]
  },
  {
   "cell_type": "code",
   "execution_count": 36,
   "id": "6e73e4fe-ed4d-4689-8dcd-957b401bebaa",
   "metadata": {},
   "outputs": [],
   "source": [
    "my_list = [4, 5, 6, 7]"
   ]
  },
  {
   "cell_type": "markdown",
   "id": "ba0ed5c4-6823-48c5-b0db-9687fda3983d",
   "metadata": {},
   "source": [
    "What is the time complexity of this operation? Why?"
   ]
  },
  {
   "cell_type": "code",
   "execution_count": 34,
   "id": "82559cc2-5779-4326-9393-f16c20a9c4c5",
   "metadata": {},
   "outputs": [],
   "source": [
    "my_list.insert(0, 3)"
   ]
  },
  {
   "cell_type": "code",
   "execution_count": 35,
   "id": "1d899ea3-e925-4e37-96cd-7409664fd03d",
   "metadata": {},
   "outputs": [
    {
     "data": {
      "text/plain": [
       "[3, 4, 5, 6, 7]"
      ]
     },
     "execution_count": 35,
     "metadata": {},
     "output_type": "execute_result"
    }
   ],
   "source": [
    "my_list"
   ]
  },
  {
   "cell_type": "markdown",
   "id": "aba92e93-f225-463f-b1e8-e559fa34e268",
   "metadata": {},
   "source": [
    "**Answer**\n",
    "\n",
    "Because\n",
    "- Add an new item takes 1 operations\n",
    "- And then reindex the other items take $(n-1)$ operations\n",
    "\n",
    "with $n$ is the number of items in the new list.\n",
    "\n",
    "So the total operations is $1 + (n-1) = n$. So the time complexity is $O(n)$"
   ]
  },
  {
   "cell_type": "code",
   "execution_count": 39,
   "id": "b0eaa68c-d4a4-47f4-9d8f-2f6c4374e9ad",
   "metadata": {},
   "outputs": [],
   "source": [
    "my_list = [4, 5, 6, 7]"
   ]
  },
  {
   "cell_type": "markdown",
   "id": "c4eae164-6c1a-458d-8693-45db357ddcfe",
   "metadata": {},
   "source": [
    "What is the time complexity of this operation? Why?"
   ]
  },
  {
   "cell_type": "code",
   "execution_count": 40,
   "id": "93acf22c-4d63-4e88-934f-d9da41715bc5",
   "metadata": {},
   "outputs": [
    {
     "data": {
      "text/plain": [
       "7"
      ]
     },
     "execution_count": 40,
     "metadata": {},
     "output_type": "execute_result"
    }
   ],
   "source": [
    "my_list[3]"
   ]
  },
  {
   "cell_type": "markdown",
   "id": "878f7d67-f1a8-4dde-8f39-4d695340b88f",
   "metadata": {},
   "source": [
    "**Answer**\n",
    "\n",
    "The time complexity is $O(1)$. Because it only takes `1` operation to go directly to that index"
   ]
  },
  {
   "cell_type": "code",
   "execution_count": null,
   "id": "53810108-658d-4afb-ac78-82672dee447a",
   "metadata": {},
   "outputs": [],
   "source": []
  }
 ],
 "metadata": {
  "kernelspec": {
   "display_name": "Python 3 (ipykernel)",
   "language": "python",
   "name": "python3"
  },
  "language_info": {
   "codemirror_mode": {
    "name": "ipython",
    "version": 3
   },
   "file_extension": ".py",
   "mimetype": "text/x-python",
   "name": "python",
   "nbconvert_exporter": "python",
   "pygments_lexer": "ipython3",
   "version": "3.9.12"
  }
 },
 "nbformat": 4,
 "nbformat_minor": 5
}
