{
 "cells": [
  {
   "cell_type": "code",
   "execution_count": 1,
   "id": "c98fff64-c57b-45ee-aa7c-2f7488d5ff71",
   "metadata": {},
   "outputs": [],
   "source": [
    "def upper_name(name):\n",
    "    return name.upper()"
   ]
  },
  {
   "cell_type": "code",
   "execution_count": 2,
   "id": "6bd0b749-d97d-4577-9fa3-4430ac355db6",
   "metadata": {},
   "outputs": [
    {
     "data": {
      "text/plain": [
       "'SHIVON'"
      ]
     },
     "execution_count": 2,
     "metadata": {},
     "output_type": "execute_result"
    }
   ],
   "source": [
    "upper_name(\"Shivon\")"
   ]
  },
  {
   "cell_type": "markdown",
   "id": "8da22f7c-7293-4f41-9209-aaf601ef2ab0",
   "metadata": {},
   "source": [
    "**Automatic testing**: writing code to test other program\n",
    "\n",
    "**Manual testing**: you manual run the program, and eyeball make sure it works as expect"
   ]
  },
  {
   "cell_type": "code",
   "execution_count": 3,
   "id": "9c1e8a29-2a0f-4d1c-99b7-f79910c56cd3",
   "metadata": {},
   "outputs": [],
   "source": [
    "import unittest"
   ]
  },
  {
   "cell_type": "code",
   "execution_count": 7,
   "id": "5d7db4bc-a081-4a49-a146-eef8dca03d23",
   "metadata": {},
   "outputs": [],
   "source": [
    "import coverage"
   ]
  },
  {
   "cell_type": "code",
   "execution_count": null,
   "id": "652c3e9a-d319-43a0-a6ed-5cd3ee83b4f2",
   "metadata": {},
   "outputs": [],
   "source": []
  }
 ],
 "metadata": {
  "kernelspec": {
   "display_name": "Python 3 (ipykernel)",
   "language": "python",
   "name": "python3"
  },
  "language_info": {
   "codemirror_mode": {
    "name": "ipython",
    "version": 3
   },
   "file_extension": ".py",
   "mimetype": "text/x-python",
   "name": "python",
   "nbconvert_exporter": "python",
   "pygments_lexer": "ipython3",
   "version": "3.9.12"
  }
 },
 "nbformat": 4,
 "nbformat_minor": 5
}
