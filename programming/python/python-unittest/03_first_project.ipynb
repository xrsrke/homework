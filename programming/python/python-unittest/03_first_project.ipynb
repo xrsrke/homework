{
 "cells": [
  {
   "cell_type": "code",
   "execution_count": 2,
   "id": "12d29496-7475-444d-8cf1-671da3198b1d",
   "metadata": {},
   "outputs": [],
   "source": [
    "#| default_exp first_project"
   ]
  },
  {
   "cell_type": "code",
   "execution_count": 5,
   "id": "7f0132c8-a1df-4c9d-91b1-f636f0adf4f3",
   "metadata": {},
   "outputs": [],
   "source": [
    "#| export\n",
    "# calculate the average of a list of numbers\n",
    "def avg(*list_numbers):\n",
    "    total = 0\n",
    "    for num in list_numbers:\n",
    "\n",
    "        if isinstance(num, (int, float)):\n",
    "            total += num\n",
    "        else:\n",
    "            raise TypeError(\"Wrong input data\")\n",
    "\n",
    "    return total / len(list_numbers)"
   ]
  },
  {
   "cell_type": "code",
   "execution_count": 7,
   "id": "c16c90be-3a67-423c-ae4e-a6f43554bc93",
   "metadata": {},
   "outputs": [
    {
     "name": "stdout",
     "output_type": "stream",
     "text": [
      "3.0\n"
     ]
    }
   ],
   "source": [
    "print(avg(1, 2, 3, 4, 5))"
   ]
  }
 ],
 "metadata": {
  "kernelspec": {
   "display_name": "Python 3 (ipykernel)",
   "language": "python",
   "name": "python3"
  },
  "language_info": {
   "codemirror_mode": {
    "name": "ipython",
    "version": 3
   },
   "file_extension": ".py",
   "mimetype": "text/x-python",
   "name": "python",
   "nbconvert_exporter": "python",
   "pygments_lexer": "ipython3",
   "version": "3.9.12"
  }
 },
 "nbformat": 4,
 "nbformat_minor": 5
}
