{
 "cells": [
  {
   "cell_type": "code",
   "execution_count": 1,
   "id": "a00ad36f",
   "metadata": {},
   "outputs": [],
   "source": [
    "#| default_exp test"
   ]
  },
  {
   "cell_type": "code",
   "execution_count": 5,
   "id": "f8749c4d-2441-4063-8e5e-11bf4da5ec6e",
   "metadata": {},
   "outputs": [],
   "source": [
    "#| export\n",
    "\n",
    "import unittest\n",
    "from python_unittest.first_project import avg"
   ]
  },
  {
   "cell_type": "code",
   "execution_count": 7,
   "id": "fd6e6db8-76ce-4795-a59e-8759ef5e62b3",
   "metadata": {},
   "outputs": [],
   "source": [
    "#|export\n",
    "class EasyTestCase(unittest.TestCase):\n",
    "\n",
    "    def test_easy_input(self):\n",
    "        self.assertEqual(avg(1, 2, 3), 2)"
   ]
  },
  {
   "cell_type": "code",
   "execution_count": 10,
   "id": "1bcc1b59-7ef6-497c-a05c-18062e280a53",
   "metadata": {},
   "outputs": [],
   "source": [
    "#| export\n",
    "class MediumTestCase(unittest.TestCase):\n",
    "\n",
    "    # use self.assertRaises\n",
    "    def test_medium_input(self):\n",
    "        with self.assertRaises(TypeError):\n",
    "            self.assertEqual(avg(1, 2, 3, \"string\", 5), 2)"
   ]
  },
  {
   "cell_type": "code",
   "execution_count": 13,
   "id": "ba52e573-220a-4abc-9afc-3a42c7e62c86",
   "metadata": {},
   "outputs": [
    {
     "name": "stderr",
     "output_type": "stream",
     "text": [
      "E\n",
      "======================================================================\n",
      "ERROR: /Users/study/Library/Jupyter/runtime/kernel-95c38b45-3b46-44c6-a89e-bae018dccf9f (unittest.loader._FailedTest)\n",
      "----------------------------------------------------------------------\n",
      "AttributeError: module '__main__' has no attribute '/Users/study/Library/Jupyter/runtime/kernel-95c38b45-3b46-44c6-a89e-bae018dccf9f'\n",
      "\n",
      "----------------------------------------------------------------------\n",
      "Ran 1 test in 0.001s\n",
      "\n",
      "FAILED (errors=1)\n"
     ]
    },
    {
     "ename": "SystemExit",
     "evalue": "True",
     "output_type": "error",
     "traceback": [
      "An exception has occurred, use %tb to see the full traceback.\n",
      "\u001b[0;31mSystemExit\u001b[0m\u001b[0;31m:\u001b[0m True\n"
     ]
    },
    {
     "name": "stderr",
     "output_type": "stream",
     "text": [
      "/opt/anaconda3/envs/deeplearning/lib/python3.9/site-packages/IPython/core/interactiveshell.py:3406: UserWarning: To exit: use 'exit', 'quit', or Ctrl-D.\n",
      "  warn(\"To exit: use 'exit', 'quit', or Ctrl-D.\", stacklevel=1)\n"
     ]
    }
   ],
   "source": [
    "# #| export\n",
    "if __name__ == \"__main__\":\n",
    "    unittest.main()"
   ]
  },
  {
   "cell_type": "code",
   "execution_count": 14,
   "id": "8dc01823-a030-4fc1-b1b6-3a65de9d8241",
   "metadata": {},
   "outputs": [
    {
     "name": "stderr",
     "output_type": "stream",
     "text": [
      "E\n",
      "======================================================================\n",
      "ERROR: /Users/study/Library/Jupyter/runtime/kernel-95c38b45-3b46-44c6-a89e-bae018dccf9f (unittest.loader._FailedTest)\n",
      "----------------------------------------------------------------------\n",
      "AttributeError: module '__main__' has no attribute '/Users/study/Library/Jupyter/runtime/kernel-95c38b45-3b46-44c6-a89e-bae018dccf9f'\n",
      "\n",
      "----------------------------------------------------------------------\n",
      "Ran 1 test in 0.001s\n",
      "\n",
      "FAILED (errors=1)\n"
     ]
    },
    {
     "ename": "SystemExit",
     "evalue": "True",
     "output_type": "error",
     "traceback": [
      "An exception has occurred, use %tb to see the full traceback.\n",
      "\u001b[0;31mSystemExit\u001b[0m\u001b[0;31m:\u001b[0m True\n"
     ]
    },
    {
     "name": "stderr",
     "output_type": "stream",
     "text": [
      "/opt/anaconda3/envs/deeplearning/lib/python3.9/site-packages/IPython/core/interactiveshell.py:3406: UserWarning: To exit: use 'exit', 'quit', or Ctrl-D.\n",
      "  warn(\"To exit: use 'exit', 'quit', or Ctrl-D.\", stacklevel=1)\n"
     ]
    }
   ],
   "source": [
    "unittest.main()"
   ]
  },
  {
   "cell_type": "code",
   "execution_count": null,
   "id": "46ceed91-cf47-468b-b618-527c10b1d778",
   "metadata": {},
   "outputs": [],
   "source": [
    "import unittest\n",
    "from second_project import Counter"
   ]
  },
  {
   "cell_type": "code",
   "execution_count": 16,
   "id": "586c9d09-da2b-4d1d-ab43-193674b86a8c",
   "metadata": {},
   "outputs": [],
   "source": [
    "class EasyTestCase(unittest.TestCase):\n",
    "\n",
    "    def setUp(self):\n",
    "        self.counter = Counter()\n",
    "\n",
    "    def test_easy_input(self):\n",
    "        self.assertEqual(self.counter.get_value(), 0)\n",
    "\n",
    "    def test_easy_input_two(self):\n",
    "        self.counter.clear()\n",
    "        self.assertEqual(self.counter.get_value(), 0)\n",
    "\n",
    "    def tearDown(self):\n",
    "        self.counter = None"
   ]
  },
  {
   "cell_type": "markdown",
   "id": "fb0e1a34-92f8-4cc7-952e-101c3029584a",
   "metadata": {},
   "source": [
    "What is the order executation of methods in `EasyTestCase`?"
   ]
  },
  {
   "cell_type": "markdown",
   "id": "f144e47d-f014-4a4f-a31c-067830b33f41",
   "metadata": {},
   "source": [
    "**Answer**\n",
    "\n",
    "1. `setUp()`\n",
    "2. `test_easy_input()`\n",
    "3. `tearDown()`\n",
    "4. `setUp()`\n",
    "5. `test_easy_input_two()`\n",
    "6. `tearDown()`"
   ]
  },
  {
   "cell_type": "code",
   "execution_count": null,
   "id": "d48592cd-65d1-4967-92b6-4da9bcfb5102",
   "metadata": {},
   "outputs": [],
   "source": []
  },
  {
   "cell_type": "code",
   "execution_count": null,
   "id": "b7b6f130-ca02-4ee2-87fa-bef051e78cc1",
   "metadata": {},
   "outputs": [],
   "source": []
  }
 ],
 "metadata": {
  "kernelspec": {
   "display_name": "Python 3 (ipykernel)",
   "language": "python",
   "name": "python3"
  },
  "language_info": {
   "codemirror_mode": {
    "name": "ipython",
    "version": 3
   },
   "file_extension": ".py",
   "mimetype": "text/x-python",
   "name": "python",
   "nbconvert_exporter": "python",
   "pygments_lexer": "ipython3",
   "version": "3.9.12"
  }
 },
 "nbformat": 4,
 "nbformat_minor": 5
}
