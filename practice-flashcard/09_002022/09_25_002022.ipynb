{
 "cells": [
  {
   "cell_type": "markdown",
   "id": "d6d76edd-2dba-4743-bef8-6e38e92f934b",
   "metadata": {},
   "source": [
    "### FastAI"
   ]
  },
  {
   "cell_type": "code",
   "execution_count": null,
   "id": "d701e0c9-802a-4c43-814b-b2013bf302b2",
   "metadata": {},
   "outputs": [],
   "source": [
    "class PrintStepCallback:\n",
    "    def before_calc(self, i):\n",
    "        pass\n",
    "    \n",
    "    def after_calc(self, i):\n",
    "        pass"
   ]
  },
  {
   "cell_type": "markdown",
   "id": "11d4c0ed-c4f7-4b3d-95db-d84885e94cfe",
   "metadata": {},
   "source": [
    "### Design Pattern"
   ]
  },
  {
   "cell_type": "code",
   "execution_count": null,
   "id": "476c0f4d-c553-43b3-a7e3-9d7d3a4d4a26",
   "metadata": {},
   "outputs": [],
   "source": [
    "class Person:\n",
    "    def __init__(self):\n",
    "        \n",
    "        #address\n",
    "        self.postcode = None\n",
    "        self.city = None\n",
    "        \n",
    "        # employment\n",
    "        self.company_name = None\n",
    "        self.annual_income = None"
   ]
  },
  {
   "cell_type": "code",
   "execution_count": null,
   "id": "e321161c-ea97-4fdd-9432-df906f229cb6",
   "metadata": {},
   "outputs": [],
   "source": [
    "class PersonBuilder:\n",
    "    def __init__(self, person=Person()):\n",
    "        self.person = person\n",
    "    \n",
    "    @property\n",
    "    def lives(self):\n",
    "        return PersonAddressBuilder(self.person)\n",
    "    \n",
    "    @property\n",
    "    def works(self):\n",
    "        return PersonEmploymentBuilder(self.person)\n",
    "    \n",
    "    def build(self):\n",
    "        return self.person"
   ]
  },
  {
   "cell_type": "code",
   "execution_count": null,
   "id": "945d7787-4198-4ce7-ada5-d45f309c4fcd",
   "metadata": {},
   "outputs": [],
   "source": [
    "class PersonAddressBuilder(PersonBuilder):\n",
    "    def __init__(self, person):\n",
    "        super().__init__(person)\n",
    "    \n",
    "    def in_city(self, city):\n",
    "        self.person.city = city\n",
    "        return self\n",
    "    \n",
    "    def with_postcode(self, postcode):\n",
    "        self.person.postcode = postcode\n",
    "        return self"
   ]
  },
  {
   "cell_type": "code",
   "execution_count": null,
   "id": "67647f1c-a94e-4200-81aa-1cb69d16592b",
   "metadata": {},
   "outputs": [],
   "source": [
    "class PersonEmploymentBuilder(PersonBuilder):\n",
    "    def __init__(self, person):\n",
    "        super().__init__(person)\n",
    "    \n",
    "    def at(self, company_name):\n",
    "        self.person.company_name = company_name\n",
    "        return self\n",
    "    \n",
    "    def earning(self, annual_income):\n",
    "        self.person.annual_income = annual_income\n",
    "        return self"
   ]
  },
  {
   "cell_type": "code",
   "execution_count": null,
   "id": "f995c0ff-0691-4247-a401-ac5c5f1e2ed0",
   "metadata": {},
   "outputs": [],
   "source": [
    "p = PersonBuilder()"
   ]
  },
  {
   "cell_type": "code",
   "execution_count": null,
   "id": "7267d609-452d-45e5-b1ad-939666d71d68",
   "metadata": {},
   "outputs": [
    {
     "data": {
      "text/plain": [
       "<__main__.PersonAddressBuilder>"
      ]
     },
     "execution_count": null,
     "metadata": {},
     "output_type": "execute_result"
    }
   ],
   "source": [
    "p.lives"
   ]
  },
  {
   "cell_type": "code",
   "execution_count": null,
   "id": "c67d1ec9-598e-4e66-bde9-0c1326333cce",
   "metadata": {},
   "outputs": [
    {
     "data": {
      "text/plain": [
       "{'postcode': 213, 'city': 'ABC', 'company_name': 'DDD', 'annual_income': 12000}"
      ]
     },
     "execution_count": null,
     "metadata": {},
     "output_type": "execute_result"
    }
   ],
   "source": [
    "p.lives.in_city('ABC').with_postcode(213).works.at('DDD').earning(12000).build().__dict__"
   ]
  },
  {
   "cell_type": "markdown",
   "id": "71e3a7d5-4460-4943-81cd-6fb0dcdd60e2",
   "metadata": {},
   "source": [
    "### Python"
   ]
  },
  {
   "cell_type": "code",
   "execution_count": null,
   "id": "d5b028d6-b59c-43d0-babe-1ba569509bab",
   "metadata": {},
   "outputs": [],
   "source": [
    "class HybridBorg(Archer, Wizard):\n",
    "    def __init__(self, name, power, arrows):\n",
    "        Archer.__init__(self, name, arrows)\n",
    "        Wizard.__init__(self, name, power)"
   ]
  }
 ],
 "metadata": {
  "kernelspec": {
   "display_name": "Python 3 (ipykernel)",
   "language": "python",
   "name": "python3"
  }
 },
 "nbformat": 4,
 "nbformat_minor": 5
}
