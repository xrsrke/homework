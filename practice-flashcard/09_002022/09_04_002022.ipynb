{
 "cells": [
  {
   "cell_type": "markdown",
   "id": "05fe1f9f",
   "metadata": {},
   "source": [
    "### Python OOP"
   ]
  },
  {
   "cell_type": "code",
   "execution_count": 1,
   "id": "f99a51d3",
   "metadata": {},
   "outputs": [],
   "source": [
    "# class LinkedList(BaseLinkedList):\n",
    "#     def append(self, value):\n",
    "#         new_node = Node(value)\n",
    "        \n",
    "#         if self.head is None:\n",
    "#             self.head = new_node\n",
    "#             self.tail = new_node\n",
    "#         else:\n",
    "#             self.tail = new_node\n",
    "        \n",
    "#         temp = self.head\n",
    "#         prep = temp\n",
    "#         while temp is not None:"
   ]
  },
  {
   "cell_type": "code",
   "execution_count": 2,
   "id": "a042b0d3",
   "metadata": {},
   "outputs": [],
   "source": [
    "# class LinkedList:\n",
    "#     def __init__(self, value):\n",
    "#         new_node = Node(value)\n",
    "#         self.head = new_node\n",
    "#         self.tail = new_node\n",
    "#         self.length = 1"
   ]
  },
  {
   "cell_type": "code",
   "execution_count": 3,
   "id": "2fee637a",
   "metadata": {},
   "outputs": [],
   "source": [
    "import pytest"
   ]
  },
  {
   "cell_type": "code",
   "execution_count": 4,
   "id": "779385ff",
   "metadata": {},
   "outputs": [],
   "source": [
    "a, b = 10, 1"
   ]
  },
  {
   "cell_type": "code",
   "execution_count": 5,
   "id": "db8d741e",
   "metadata": {},
   "outputs": [],
   "source": [
    "@pytest.mark.skipif(a > b, \"cause if want\")\n",
    "def test_func_3():\n",
    "    pass"
   ]
  },
  {
   "cell_type": "code",
   "execution_count": 6,
   "id": "059cf0a5",
   "metadata": {},
   "outputs": [
    {
     "ename": "NameError",
     "evalue": "name 'Wizard' is not defined",
     "output_type": "error",
     "traceback": [
      "\u001b[0;31m---------------------------------------------------------------------------\u001b[0m",
      "\u001b[0;31mNameError\u001b[0m                                 Traceback (most recent call last)",
      "Input \u001b[0;32mIn [6]\u001b[0m, in \u001b[0;36m<cell line: 1>\u001b[0;34m()\u001b[0m\n\u001b[0;32m----> 1\u001b[0m \u001b[38;5;28;01mclass\u001b[39;00m \u001b[38;5;21;01mHybridBorg\u001b[39;00m(\u001b[43mWizard\u001b[49m, Archer):\n\u001b[1;32m      2\u001b[0m     \u001b[38;5;28;01mdef\u001b[39;00m \u001b[38;5;21m__init__\u001b[39m(\u001b[38;5;28mself\u001b[39m, name, power, arrows):\n\u001b[1;32m      3\u001b[0m         Wizard\u001b[38;5;241m.\u001b[39m\u001b[38;5;21m__init__\u001b[39m(\u001b[38;5;28mself\u001b[39m, name, power)\n",
      "\u001b[0;31mNameError\u001b[0m: name 'Wizard' is not defined"
     ]
    }
   ],
   "source": [
    "class HybridBorg(Wizard, Archer):\n",
    "    def __init__(self, name, power, arrows):\n",
    "        Wizard.__init__(self, name, power)\n",
    "        Archer.__init__(self, name, arrows)"
   ]
  },
  {
   "cell_type": "code",
   "execution_count": null,
   "id": "a1c61fb5",
   "metadata": {},
   "outputs": [],
   "source": []
  },
  {
   "cell_type": "code",
   "execution_count": 22,
   "id": "0e35e964",
   "metadata": {},
   "outputs": [],
   "source": [
    "class A:\n",
    "    def __init__(self, name):\n",
    "        self.name = name"
   ]
  },
  {
   "cell_type": "code",
   "execution_count": 23,
   "id": "fe8618f6",
   "metadata": {},
   "outputs": [],
   "source": [
    "class B:\n",
    "    pass"
   ]
  },
  {
   "cell_type": "markdown",
   "id": "dae6616a",
   "metadata": {},
   "source": [
    "Create class `B` inherit from class `A` and initialize class A init"
   ]
  },
  {
   "cell_type": "code",
   "execution_count": 24,
   "id": "b422776d",
   "metadata": {},
   "outputs": [],
   "source": [
    "class B(A):\n",
    "    def __init__(self, name, power):\n",
    "        A.__init__(self, name)\n",
    "        self.power = power"
   ]
  },
  {
   "cell_type": "code",
   "execution_count": 25,
   "id": "4864c4c1",
   "metadata": {},
   "outputs": [],
   "source": [
    "b = B(\"Shivon\", 23)"
   ]
  },
  {
   "cell_type": "code",
   "execution_count": 26,
   "id": "55c69d7a",
   "metadata": {},
   "outputs": [
    {
     "data": {
      "text/plain": [
       "('Shivon', 23)"
      ]
     },
     "execution_count": 26,
     "metadata": {},
     "output_type": "execute_result"
    }
   ],
   "source": [
    "b.name, b.power"
   ]
  },
  {
   "cell_type": "code",
   "execution_count": 29,
   "id": "462fef9e",
   "metadata": {},
   "outputs": [],
   "source": [
    "from enum import Enum, auto"
   ]
  },
  {
   "cell_type": "code",
   "execution_count": 30,
   "id": "1d602008",
   "metadata": {},
   "outputs": [],
   "source": [
    "c = Enum(\"Colors\", ([\"R\", \"Red\"], [\"B\", \"Blue\"]))"
   ]
  },
  {
   "cell_type": "code",
   "execution_count": 31,
   "id": "d9bac094",
   "metadata": {},
   "outputs": [],
   "source": [
    "class Colors(Enum):\n",
    "    GREEN = auto()\n",
    "    WHITE = auto()"
   ]
  },
  {
   "cell_type": "code",
   "execution_count": 32,
   "id": "c0bb46e3",
   "metadata": {},
   "outputs": [],
   "source": [
    "class Colors(Enum):\n",
    "    RED = \"Red\"\n",
    "    ORANGE = \"Orange\"\n",
    "    BLUE = \"Blue\"\n",
    "    \n",
    "    @property\n",
    "    def is_hot(self):\n",
    "        return self in [Colors.RED, Colors.ORANGE]"
   ]
  },
  {
   "cell_type": "code",
   "execution_count": 33,
   "id": "bce97bd5",
   "metadata": {},
   "outputs": [],
   "source": [
    "from enum import Enum, unique"
   ]
  },
  {
   "cell_type": "code",
   "execution_count": 34,
   "id": "7e84b2c7",
   "metadata": {},
   "outputs": [
    {
     "ename": "ValueError",
     "evalue": "duplicate values found in <enum 'Models'>: X -> MODEL_X",
     "output_type": "error",
     "traceback": [
      "\u001b[0;31m---------------------------------------------------------------------------\u001b[0m",
      "\u001b[0;31mValueError\u001b[0m                                Traceback (most recent call last)",
      "Input \u001b[0;32mIn [34]\u001b[0m, in \u001b[0;36m<cell line: 1>\u001b[0;34m()\u001b[0m\n\u001b[1;32m      1\u001b[0m \u001b[38;5;129;43m@unique\u001b[39;49m\n\u001b[0;32m----> 2\u001b[0m \u001b[38;5;28;43;01mclass\u001b[39;49;00m\u001b[43m \u001b[49m\u001b[38;5;21;43;01mModels\u001b[39;49;00m\u001b[43m(\u001b[49m\u001b[43mEnum\u001b[49m\u001b[43m)\u001b[49m\u001b[43m:\u001b[49m\n\u001b[1;32m      3\u001b[0m \u001b[43m    \u001b[49m\u001b[43mMODEL_S\u001b[49m\u001b[43m \u001b[49m\u001b[38;5;241;43m=\u001b[39;49m\u001b[43m \u001b[49m\u001b[38;5;124;43m\"\u001b[39;49m\u001b[38;5;124;43mModel S\u001b[39;49m\u001b[38;5;124;43m\"\u001b[39;49m\n\u001b[1;32m      4\u001b[0m \u001b[43m    \u001b[49m\u001b[43mMODEL_3\u001b[49m\u001b[43m \u001b[49m\u001b[38;5;241;43m=\u001b[39;49m\u001b[43m \u001b[49m\u001b[38;5;124;43m\"\u001b[39;49m\u001b[38;5;124;43mModel 3\u001b[39;49m\u001b[38;5;124;43m\"\u001b[39;49m\n",
      "File \u001b[0;32m/opt/anaconda3/envs/deeplearning/lib/python3.9/enum.py:1013\u001b[0m, in \u001b[0;36munique\u001b[0;34m(enumeration)\u001b[0m\n\u001b[1;32m   1010\u001b[0m \u001b[38;5;28;01mif\u001b[39;00m duplicates:\n\u001b[1;32m   1011\u001b[0m     alias_details \u001b[38;5;241m=\u001b[39m \u001b[38;5;124m'\u001b[39m\u001b[38;5;124m, \u001b[39m\u001b[38;5;124m'\u001b[39m\u001b[38;5;241m.\u001b[39mjoin(\n\u001b[1;32m   1012\u001b[0m             [\u001b[38;5;124m\"\u001b[39m\u001b[38;5;132;01m%s\u001b[39;00m\u001b[38;5;124m -> \u001b[39m\u001b[38;5;132;01m%s\u001b[39;00m\u001b[38;5;124m\"\u001b[39m \u001b[38;5;241m%\u001b[39m (alias, name) \u001b[38;5;28;01mfor\u001b[39;00m (alias, name) \u001b[38;5;129;01min\u001b[39;00m duplicates])\n\u001b[0;32m-> 1013\u001b[0m     \u001b[38;5;28;01mraise\u001b[39;00m \u001b[38;5;167;01mValueError\u001b[39;00m(\u001b[38;5;124m'\u001b[39m\u001b[38;5;124mduplicate values found in \u001b[39m\u001b[38;5;132;01m%r\u001b[39;00m\u001b[38;5;124m: \u001b[39m\u001b[38;5;132;01m%s\u001b[39;00m\u001b[38;5;124m'\u001b[39m \u001b[38;5;241m%\u001b[39m\n\u001b[1;32m   1014\u001b[0m             (enumeration, alias_details))\n\u001b[1;32m   1015\u001b[0m \u001b[38;5;28;01mreturn\u001b[39;00m enumeration\n",
      "\u001b[0;31mValueError\u001b[0m: duplicate values found in <enum 'Models'>: X -> MODEL_X"
     ]
    }
   ],
   "source": [
    "@unique\n",
    "class Models(Enum):\n",
    "    MODEL_S = \"Model S\"\n",
    "    MODEL_3 = \"Model 3\"\n",
    "    MODEL_X = \"Model X\"\n",
    "    X = \"Model X\""
   ]
  },
  {
   "cell_type": "code",
   "execution_count": null,
   "id": "d936fb14",
   "metadata": {},
   "outputs": [],
   "source": [
    "class TextField:\n",
    "    def __init__(self, name):\n",
    "        self.name = name\n",
    "        \n",
    "    def __set__(self, instance, value):\n",
    "        instance.__dict__[self.name] = value"
   ]
  }
 ],
 "metadata": {
  "kernelspec": {
   "display_name": "Python 3 (ipykernel)",
   "language": "python",
   "name": "python3"
  },
  "language_info": {
   "codemirror_mode": {
    "name": "ipython",
    "version": 3
   },
   "file_extension": ".py",
   "mimetype": "text/x-python",
   "name": "python",
   "nbconvert_exporter": "python",
   "pygments_lexer": "ipython3",
   "version": "3.9.12"
  }
 },
 "nbformat": 4,
 "nbformat_minor": 5
}
