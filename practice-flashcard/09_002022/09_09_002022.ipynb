{
 "cells": [
  {
   "cell_type": "markdown",
   "id": "9274398f",
   "metadata": {},
   "source": [
    "### Python"
   ]
  },
  {
   "cell_type": "code",
   "execution_count": 1,
   "id": "b318688c",
   "metadata": {},
   "outputs": [
    {
     "ename": "NameError",
     "evalue": "name 'Wizard' is not defined",
     "output_type": "error",
     "traceback": [
      "\u001b[0;31m---------------------------------------------------------------------------\u001b[0m",
      "\u001b[0;31mNameError\u001b[0m                                 Traceback (most recent call last)",
      "Input \u001b[0;32mIn [1]\u001b[0m, in \u001b[0;36m<cell line: 1>\u001b[0;34m()\u001b[0m\n\u001b[0;32m----> 1\u001b[0m \u001b[38;5;28;01mclass\u001b[39;00m \u001b[38;5;21;01mHybridBorg\u001b[39;00m(\u001b[43mWizard\u001b[49m, Archer):\n\u001b[1;32m      2\u001b[0m     \u001b[38;5;28;01mdef\u001b[39;00m \u001b[38;5;21m__init__\u001b[39m(\u001b[38;5;28mself\u001b[39m, name, power, arrows):\n\u001b[1;32m      3\u001b[0m         Wizard\u001b[38;5;241m.\u001b[39m\u001b[38;5;21m__init__\u001b[39m(\u001b[38;5;28mself\u001b[39m, name, power)\n",
      "\u001b[0;31mNameError\u001b[0m: name 'Wizard' is not defined"
     ]
    }
   ],
   "source": [
    "class HybridBorg(Wizard, Archer):\n",
    "    def __init__(self, name, power, arrows):\n",
    "        Wizard.__init__(self, name, power)\n",
    "        Archer.__init__(self, name, arrows)"
   ]
  },
  {
   "cell_type": "code",
   "execution_count": 2,
   "id": "c7879aa7",
   "metadata": {},
   "outputs": [],
   "source": [
    "from abc import ABC, abstractmethod"
   ]
  },
  {
   "cell_type": "code",
   "execution_count": 3,
   "id": "a542afb5",
   "metadata": {},
   "outputs": [],
   "source": [
    "class Vehicle(ABC):\n",
    "    @abstractmethod\n",
    "    def charge_battery(self):\n",
    "        pass"
   ]
  },
  {
   "cell_type": "code",
   "execution_count": 4,
   "id": "17de0e7f",
   "metadata": {},
   "outputs": [],
   "source": [
    "import pytest"
   ]
  },
  {
   "cell_type": "code",
   "execution_count": 6,
   "id": "a1e37711",
   "metadata": {},
   "outputs": [],
   "source": [
    "a, b = 3, 4"
   ]
  },
  {
   "cell_type": "code",
   "execution_count": 7,
   "id": "95d90767",
   "metadata": {},
   "outputs": [],
   "source": [
    "@pytest.mark.skipif(a>b, \"cause i want to\")\n",
    "def func():\n",
    "    pass"
   ]
  },
  {
   "cell_type": "code",
   "execution_count": 8,
   "id": "c15874ac",
   "metadata": {},
   "outputs": [
    {
     "ename": "NameError",
     "evalue": "name 'A' is not defined",
     "output_type": "error",
     "traceback": [
      "\u001b[0;31m---------------------------------------------------------------------------\u001b[0m",
      "\u001b[0;31mNameError\u001b[0m                                 Traceback (most recent call last)",
      "Input \u001b[0;32mIn [8]\u001b[0m, in \u001b[0;36m<cell line: 1>\u001b[0;34m()\u001b[0m\n\u001b[0;32m----> 1\u001b[0m \u001b[38;5;28;01mclass\u001b[39;00m \u001b[38;5;21;01mB\u001b[39;00m(\u001b[43mA\u001b[49m):\n\u001b[1;32m      2\u001b[0m     \u001b[38;5;28;01mdef\u001b[39;00m \u001b[38;5;21m__init__\u001b[39m(\u001b[38;5;28mself\u001b[39m, name, age):\n\u001b[1;32m      3\u001b[0m         A\u001b[38;5;241m.\u001b[39m\u001b[38;5;21m__init__\u001b[39m(\u001b[38;5;28mself\u001b[39m, name)\n",
      "\u001b[0;31mNameError\u001b[0m: name 'A' is not defined"
     ]
    }
   ],
   "source": [
    "class B(A):\n",
    "    def __init__(self, name, age):\n",
    "        A.__init__(self, name)\n",
    "        self.age = age"
   ]
  },
  {
   "cell_type": "code",
   "execution_count": 9,
   "id": "5692040d",
   "metadata": {},
   "outputs": [],
   "source": [
    "from enum import Enum, auto"
   ]
  },
  {
   "cell_type": "code",
   "execution_count": 10,
   "id": "9d61b3e7",
   "metadata": {},
   "outputs": [],
   "source": [
    "class Color(Enum):\n",
    "    GREEN = auto()"
   ]
  },
  {
   "cell_type": "code",
   "execution_count": 11,
   "id": "1578b099",
   "metadata": {},
   "outputs": [
    {
     "ename": "NameError",
     "evalue": "name 'dict_x' is not defined",
     "output_type": "error",
     "traceback": [
      "\u001b[0;31m---------------------------------------------------------------------------\u001b[0m",
      "\u001b[0;31mNameError\u001b[0m                                 Traceback (most recent call last)",
      "Input \u001b[0;32mIn [11]\u001b[0m, in \u001b[0;36m<cell line: 1>\u001b[0;34m()\u001b[0m\n\u001b[0;32m----> 1\u001b[0m my_dict \u001b[38;5;241m=\u001b[39m {key: value\u001b[38;5;241m*\u001b[39m\u001b[38;5;241m*\u001b[39m\u001b[38;5;241m2\u001b[39m \u001b[38;5;28;01mfor\u001b[39;00m key, value \u001b[38;5;129;01min\u001b[39;00m \u001b[43mdict_x\u001b[49m\u001b[38;5;241m.\u001b[39mitems()}\n",
      "\u001b[0;31mNameError\u001b[0m: name 'dict_x' is not defined"
     ]
    }
   ],
   "source": [
    "my_dict = {key: value**2 for key, value in dict_x.items()}"
   ]
  },
  {
   "cell_type": "code",
   "execution_count": 13,
   "id": "3edad0b4",
   "metadata": {},
   "outputs": [],
   "source": [
    "from dataclasses import dataclass, field"
   ]
  },
  {
   "cell_type": "code",
   "execution_count": null,
   "id": "e554bbb1",
   "metadata": {},
   "outputs": [],
   "source": [
    "@dataclass\n",
    "class Planet:\n",
    "    name: str\n",
    "    mass: int\n",
    "    population: int\n",
    "    secret_code: int = field(repr=False)"
   ]
  }
 ],
 "metadata": {
  "kernelspec": {
   "display_name": "Python 3 (ipykernel)",
   "language": "python",
   "name": "python3"
  },
  "language_info": {
   "codemirror_mode": {
    "name": "ipython",
    "version": 3
   },
   "file_extension": ".py",
   "mimetype": "text/x-python",
   "name": "python",
   "nbconvert_exporter": "python",
   "pygments_lexer": "ipython3",
   "version": "3.9.12"
  }
 },
 "nbformat": 4,
 "nbformat_minor": 5
}
