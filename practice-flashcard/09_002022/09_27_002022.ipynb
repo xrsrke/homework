{
 "cells": [
  {
   "cell_type": "markdown",
   "id": "23572606-63b0-403a-aa3d-736b209fc49f",
   "metadata": {},
   "source": [
    "### Deep Learning"
   ]
  },
  {
   "cell_type": "code",
   "execution_count": null,
   "id": "2097bf71-dbfa-4f86-9259-9b672b541408",
   "metadata": {},
   "outputs": [],
   "source": [
    "def log_softmax(x):\n",
    "    softmax = np.exp(x) / np.sum(np.exp(x))\n",
    "    return np.log(softmax)"
   ]
  },
  {
   "cell_type": "code",
   "execution_count": null,
   "id": "32d8e33a-6f1d-437c-ae09-654ef379ead1",
   "metadata": {},
   "outputs": [],
   "source": [
    "import numpy as np"
   ]
  },
  {
   "cell_type": "code",
   "execution_count": null,
   "id": "e60bb306-2ef9-4f15-8b26-7667ae683d8b",
   "metadata": {},
   "outputs": [],
   "source": [
    "inputs = np.arange(-5, 11)"
   ]
  },
  {
   "cell_type": "code",
   "execution_count": null,
   "id": "51d1d9fd-9eed-441c-90a9-4addd33550b6",
   "metadata": {},
   "outputs": [
    {
     "data": {
      "text/plain": [
       "array([-5, -4, -3, -2, -1,  0,  1,  2,  3,  4,  5,  6,  7,  8,  9, 10])"
      ]
     },
     "execution_count": null,
     "metadata": {},
     "output_type": "execute_result"
    }
   ],
   "source": [
    "inputs"
   ]
  },
  {
   "cell_type": "code",
   "execution_count": null,
   "id": "1e1c35ad-d21e-4126-9475-4a2d435238ef",
   "metadata": {},
   "outputs": [
    {
     "data": {
      "text/plain": [
       "array([-15.45867503, -14.45867503, -13.45867503, -12.45867503,\n",
       "       -11.45867503, -10.45867503,  -9.45867503,  -8.45867503,\n",
       "        -7.45867503,  -6.45867503,  -5.45867503,  -4.45867503,\n",
       "        -3.45867503,  -2.45867503,  -1.45867503,  -0.45867503])"
      ]
     },
     "execution_count": null,
     "metadata": {},
     "output_type": "execute_result"
    }
   ],
   "source": [
    "log_softmax(inputs)"
   ]
  },
  {
   "cell_type": "code",
   "execution_count": null,
   "id": "8df500f1-7c93-4d9e-b05b-f28f63202b35",
   "metadata": {},
   "outputs": [],
   "source": [
    "def softmax(x):\n",
    "    return np.exp(x)/(np.sum(np.exp(x)))"
   ]
  },
  {
   "cell_type": "code",
   "execution_count": null,
   "id": "1a74f1a4-0651-48d5-8fd6-2bc4f30e8035",
   "metadata": {},
   "outputs": [
    {
     "data": {
      "text/plain": [
       "array([1.93367168e-07, 5.25626458e-07, 1.42880085e-06, 3.88388338e-06,\n",
       "       1.05574896e-05, 2.86982322e-05, 7.80098831e-05, 2.12052848e-04,\n",
       "       5.76419403e-04, 1.56687039e-03, 4.25919530e-03, 1.15776932e-02,\n",
       "       3.14714330e-02, 8.55482245e-02, 2.32544184e-01, 6.32120630e-01])"
      ]
     },
     "execution_count": null,
     "metadata": {},
     "output_type": "execute_result"
    }
   ],
   "source": [
    "softmax(inputs)"
   ]
  },
  {
   "cell_type": "code",
   "execution_count": null,
   "id": "c2cf312a-7d50-4555-acd6-3b0dcef221bf",
   "metadata": {},
   "outputs": [],
   "source": [
    "def mean_square_error(pred, actual):\n",
    "    return ((actual - pred)**2)/pred.shape[0]"
   ]
  },
  {
   "cell_type": "code",
   "execution_count": null,
   "id": "8a3ad018-6089-46b3-9ff7-2758bac60a45",
   "metadata": {},
   "outputs": [],
   "source": [
    "def ReLU(x):\n",
    "    return np.maximum(0, x)"
   ]
  },
  {
   "cell_type": "code",
   "execution_count": null,
   "id": "2bd8a05e-551b-4511-b48f-aaca91c62b65",
   "metadata": {},
   "outputs": [
    {
     "data": {
      "text/plain": [
       "array([ 0,  0,  0,  0,  0,  0,  1,  2,  3,  4,  5,  6,  7,  8,  9, 10])"
      ]
     },
     "execution_count": null,
     "metadata": {},
     "output_type": "execute_result"
    }
   ],
   "source": [
    "ReLU(inputs)"
   ]
  },
  {
   "cell_type": "markdown",
   "id": "2919a868-c213-4ec6-8ee4-ce88dc6a8114",
   "metadata": {},
   "source": [
    "### Python OOP"
   ]
  },
  {
   "cell_type": "code",
   "execution_count": null,
   "id": "d698e2f5-5a28-4d7e-82e2-198b679c0402",
   "metadata": {},
   "outputs": [],
   "source": [
    "class TextField:\n",
    "    def __init__(self, name):\n",
    "        self._name = name\n",
    "    \n",
    "    def __set__(self, instance, value):\n",
    "        instance[self._name] = value"
   ]
  },
  {
   "cell_type": "markdown",
   "id": "5a85b76a-0fd8-4f0a-8fff-8d18cd96e7cd",
   "metadata": {},
   "source": [
    "### Python"
   ]
  },
  {
   "cell_type": "code",
   "execution_count": null,
   "id": "89f36fba-8189-4fce-ae82-d610cf8efab2",
   "metadata": {},
   "outputs": [],
   "source": [
    "def extra_decorator(func):\n",
    "    def wrapper(*args, **kwargs):\n",
    "        ...\n",
    "        func(*args, **kwargs)\n",
    "        ...\n",
    "    return wrapper"
   ]
  },
  {
   "cell_type": "markdown",
   "id": "719e1949-d91a-4c7d-b23c-3bd8176fc877",
   "metadata": {},
   "source": [
    "### PyTest"
   ]
  },
  {
   "cell_type": "code",
   "execution_count": null,
   "id": "70875978-fe8f-4661-a5d1-262c99801e33",
   "metadata": {},
   "outputs": [],
   "source": [
    "import pytest"
   ]
  },
  {
   "cell_type": "code",
   "execution_count": null,
   "id": "8b8c56d1-7312-4384-bc54-99f516cad6b5",
   "metadata": {},
   "outputs": [],
   "source": [
    "@pytest.mark.parametrize(\n",
    "    (\"test_input\", \"expected\"),\n",
    "    ([1, 1], [2, 4])\n",
    ")\n",
    "def test_square(test_input, expected):\n",
    "    assert square(test_input) == expected"
   ]
  },
  {
   "cell_type": "markdown",
   "id": "e6f062c8-8d45-4108-af5a-eecd5dffc390",
   "metadata": {},
   "source": [
    "### Pandas"
   ]
  },
  {
   "cell_type": "code",
   "execution_count": null,
   "id": "6714ceaf-cc62-45c2-9fd8-d0402da0ea13",
   "metadata": {},
   "outputs": [],
   "source": [
    "import pandas as pd"
   ]
  },
  {
   "cell_type": "code",
   "execution_count": null,
   "id": "04cb3e0c-4146-4fdc-8157-47b4b328d647",
   "metadata": {},
   "outputs": [
    {
     "ename": "NameError",
     "evalue": "name 'names' is not defined",
     "output_type": "error",
     "traceback": [
      "\u001b[0;31m---------------------------------------------------------------------------\u001b[0m",
      "\u001b[0;31mNameError\u001b[0m                                 Traceback (most recent call last)",
      "Input \u001b[0;32mIn [20]\u001b[0m, in \u001b[0;36m<cell line: 1>\u001b[0;34m()\u001b[0m\n\u001b[0;32m----> 1\u001b[0m df \u001b[38;5;241m=\u001b[39m pd\u001b[38;5;241m.\u001b[39mDataFrame({\u001b[38;5;124m'\u001b[39m\u001b[38;5;124mname\u001b[39m\u001b[38;5;124m'\u001b[39m: \u001b[43mnames\u001b[49m})\n",
      "\u001b[0;31mNameError\u001b[0m: name 'names' is not defined"
     ]
    }
   ],
   "source": [
    "df = pd.DataFrame({'name': names})"
   ]
  },
  {
   "cell_type": "code",
   "execution_count": null,
   "id": "28ac8786-c115-4c0e-a6f9-0474683f97ea",
   "metadata": {},
   "outputs": [],
   "source": []
  }
 ],
 "metadata": {
  "kernelspec": {
   "display_name": "Python 3 (ipykernel)",
   "language": "python",
   "name": "python3"
  }
 },
 "nbformat": 4,
 "nbformat_minor": 5
}
