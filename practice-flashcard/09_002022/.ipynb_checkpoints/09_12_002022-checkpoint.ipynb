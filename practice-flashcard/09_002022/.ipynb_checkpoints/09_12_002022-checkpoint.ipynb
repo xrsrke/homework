{
 "cells": [
  {
   "cell_type": "markdown",
   "id": "fc3c40a0-0dd5-44d9-aac7-861973660d74",
   "metadata": {},
   "source": [
    "### Python"
   ]
  },
  {
   "cell_type": "code",
   "execution_count": 1,
   "id": "be87b2f1-300a-40ec-82db-f8cd1f30f2a0",
   "metadata": {},
   "outputs": [],
   "source": [
    "class Zoo:\n",
    "    def __contains__(self, item):\n",
    "        return self._population[item]"
   ]
  },
  {
   "cell_type": "code",
   "execution_count": 2,
   "id": "bb0be5de-afe5-4042-9d5e-0d736c333e03",
   "metadata": {},
   "outputs": [],
   "source": [
    "def my_func(*, d):\n",
    "    return d"
   ]
  },
  {
   "cell_type": "code",
   "execution_count": 5,
   "id": "0fcb2d18-6d44-4fd7-a383-4b2945dc108e",
   "metadata": {},
   "outputs": [
    {
     "data": {
      "text/plain": [
       "2"
      ]
     },
     "execution_count": 5,
     "metadata": {},
     "output_type": "execute_result"
    }
   ],
   "source": [
    "my_func(d=2)"
   ]
  },
  {
   "cell_type": "code",
   "execution_count": 6,
   "id": "b21a127a-89d7-405d-af75-9e10fd29ad9c",
   "metadata": {},
   "outputs": [],
   "source": [
    "def my_func(a: 'this is an integer' = 10):\n",
    "    return a*6"
   ]
  },
  {
   "cell_type": "code",
   "execution_count": 9,
   "id": "27cefc75-847b-4492-bfb3-274c24e6b5fe",
   "metadata": {},
   "outputs": [
    {
     "name": "stdout",
     "output_type": "stream",
     "text": [
      "File don't exist\n"
     ]
    }
   ],
   "source": [
    "try:\n",
    "    with open(\"file.txt\") as f:\n",
    "        pass\n",
    "except FileNotFoundError:\n",
    "    print(\"File don't exist\")"
   ]
  },
  {
   "cell_type": "code",
   "execution_count": 13,
   "id": "1792d02f-a2fd-4cae-9908-3d187f214341",
   "metadata": {},
   "outputs": [],
   "source": [
    "from typing import NamedTuple"
   ]
  },
  {
   "cell_type": "code",
   "execution_count": 11,
   "id": "1628225d-1f4a-42a4-b285-7bfd34c6f743",
   "metadata": {},
   "outputs": [],
   "source": [
    "class ElectricVehicle(NamedTuple):\n",
    "    efficient: int\n",
    "    make: int\n",
    "    price: int"
   ]
  },
  {
   "cell_type": "code",
   "execution_count": 14,
   "id": "e8d8d417-f120-4d08-81c9-cb0631ac448b",
   "metadata": {},
   "outputs": [],
   "source": [
    "from collections import namedtuple"
   ]
  },
  {
   "cell_type": "code",
   "execution_count": 15,
   "id": "42ee6b7e-9843-4279-a01e-e6fddcd2bd68",
   "metadata": {},
   "outputs": [],
   "source": [
    "EV = namedtuple(\"ElectricVehicle\", (\"efficient\", \"make\", \"price\"), defaults=([\"\"]))"
   ]
  },
  {
   "cell_type": "code",
   "execution_count": 16,
   "id": "e7a4b5c1-ad57-47ff-8457-4dbe9d7ad506",
   "metadata": {},
   "outputs": [],
   "source": [
    "EV = namedtuple(\"ElectricVehicle\", [\"efficient\", \"make\", \"price\"], defaults=(100, \"Tesla\", 500000))"
   ]
  },
  {
   "cell_type": "code",
   "execution_count": 17,
   "id": "f63b72eb-926c-42bd-ba66-0d82b8d52c78",
   "metadata": {},
   "outputs": [],
   "source": [
    "class Animal:\n",
    "    \n",
    "    def __init__(self, species):\n",
    "        self.species = species\n",
    "    \n",
    "    def __ne__(self, other):\n",
    "        if isinstance(other, Animal) and other.species == self.species:\n",
    "            return False\n",
    "        else:\n",
    "            return True"
   ]
  },
  {
   "cell_type": "code",
   "execution_count": 18,
   "id": "887e0abd-6d9b-4cfa-b4dc-15a0b9389ec9",
   "metadata": {},
   "outputs": [],
   "source": [
    "class Plant:\n",
    "    def __init__(self, name):\n",
    "        self.name = name\n",
    "    \n",
    "    def __format__(self, format_type):\n",
    "        if format_type == \"short\":\n",
    "            return f\"{self.name}\"\n",
    "        return repr(self)"
   ]
  },
  {
   "cell_type": "code",
   "execution_count": 19,
   "id": "0aa7e4df-c9bc-4a5d-bfc2-2289d4f14346",
   "metadata": {},
   "outputs": [],
   "source": [
    "import pytest"
   ]
  },
  {
   "cell_type": "code",
   "execution_count": 20,
   "id": "074479b3-ae6e-4b06-b68e-6aee001ad1e2",
   "metadata": {},
   "outputs": [],
   "source": [
    "@pytest.mark.parametrize(\n",
    "    (\"test_input\", \"expected\"),\n",
    "    ((1, 1), (2, 4))\n",
    ")\n",
    "def test_square(test_input, expected):\n",
    "    assert square(test_input) == expected"
   ]
  },
  {
   "cell_type": "code",
   "execution_count": 21,
   "id": "86ca88d2-3a51-41a6-a429-521bb10a1b0a",
   "metadata": {},
   "outputs": [],
   "source": [
    "a, b = 3, 33"
   ]
  },
  {
   "cell_type": "code",
   "execution_count": 22,
   "id": "cd87ab18-4458-41ae-a413-f7b3a2a96b15",
   "metadata": {},
   "outputs": [],
   "source": [
    "@pytest.mark.skipif(a>b, \"cause in want to\")\n",
    "def test_func_3():\n",
    "    pass"
   ]
  },
  {
   "cell_type": "code",
   "execution_count": null,
   "id": "8146c6b6-c9e2-4ede-b526-76290bf84a5d",
   "metadata": {},
   "outputs": [],
   "source": []
  }
 ],
 "metadata": {
  "kernelspec": {
   "display_name": "Python 3 (ipykernel)",
   "language": "python",
   "name": "python3"
  },
  "language_info": {
   "codemirror_mode": {
    "name": "ipython",
    "version": 3
   },
   "file_extension": ".py",
   "mimetype": "text/x-python",
   "name": "python",
   "nbconvert_exporter": "python",
   "pygments_lexer": "ipython3",
   "version": "3.9.12"
  }
 },
 "nbformat": 4,
 "nbformat_minor": 5
}
