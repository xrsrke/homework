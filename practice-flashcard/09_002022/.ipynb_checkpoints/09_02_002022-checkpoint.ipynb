{
 "cells": [
  {
   "cell_type": "markdown",
   "id": "41936dcf",
   "metadata": {},
   "source": [
    "### Python"
   ]
  },
  {
   "cell_type": "code",
   "execution_count": 4,
   "id": "5ea5b458",
   "metadata": {},
   "outputs": [],
   "source": [
    "from dataclasses import field, dataclass"
   ]
  },
  {
   "cell_type": "code",
   "execution_count": 5,
   "id": "2aa9b996",
   "metadata": {},
   "outputs": [],
   "source": [
    "@dataclass(order=True)\n",
    "class Camera:\n",
    "    resolution: int = field(compare=True)\n",
    "    size: int = field(compare=False)\n",
    "    mass: int = field(compare=False)"
   ]
  },
  {
   "cell_type": "code",
   "execution_count": 6,
   "id": "2fc02072",
   "metadata": {},
   "outputs": [],
   "source": [
    "from typing import NamedTuple"
   ]
  },
  {
   "cell_type": "code",
   "execution_count": 7,
   "id": "820489c4",
   "metadata": {},
   "outputs": [],
   "source": [
    "class ElectricVehicle(NamedTuple):\n",
    "    efficient: int\n",
    "    make: str\n",
    "    price: int"
   ]
  },
  {
   "cell_type": "code",
   "execution_count": 8,
   "id": "6e5e75ef",
   "metadata": {},
   "outputs": [],
   "source": [
    "#color = property(fget=get_color, f_set=set_color)"
   ]
  },
  {
   "cell_type": "code",
   "execution_count": 9,
   "id": "4468d839",
   "metadata": {},
   "outputs": [],
   "source": [
    "class TextField:\n",
    "    \n",
    "    def __init__(self):\n",
    "        self._data = {}\n",
    "    \n",
    "    def __get__(self, instance, owner):\n",
    "        self._data.get(instance)\n",
    "    \n",
    "    def __set__(self, instance, value):\n",
    "        self._data[instance] = value"
   ]
  },
  {
   "cell_type": "code",
   "execution_count": 10,
   "id": "e79261e3",
   "metadata": {},
   "outputs": [],
   "source": [
    "numbers = [1, 2, 3]"
   ]
  },
  {
   "cell_type": "code",
   "execution_count": 12,
   "id": "2828fa99",
   "metadata": {},
   "outputs": [],
   "source": [
    "a, b, c = numbers"
   ]
  },
  {
   "cell_type": "code",
   "execution_count": null,
   "id": "87e6c57c",
   "metadata": {},
   "outputs": [],
   "source": []
  }
 ],
 "metadata": {
  "kernelspec": {
   "display_name": "Python 3 (ipykernel)",
   "language": "python",
   "name": "python3"
  },
  "language_info": {
   "codemirror_mode": {
    "name": "ipython",
    "version": 3
   },
   "file_extension": ".py",
   "mimetype": "text/x-python",
   "name": "python",
   "nbconvert_exporter": "python",
   "pygments_lexer": "ipython3",
   "version": "3.9.12"
  }
 },
 "nbformat": 4,
 "nbformat_minor": 5
}
