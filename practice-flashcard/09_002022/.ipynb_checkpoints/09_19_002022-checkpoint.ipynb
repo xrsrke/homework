{
 "cells": [
  {
   "cell_type": "markdown",
   "id": "3125caa4-5267-43ab-875d-8d5d80bbad80",
   "metadata": {},
   "source": [
    "### SymPy"
   ]
  },
  {
   "cell_type": "code",
   "execution_count": 1,
   "id": "82012f1c-230d-4446-bd1b-1f3cfa57a7ff",
   "metadata": {},
   "outputs": [
    {
     "ename": "ModuleNotFoundError",
     "evalue": "No module named 'sympy'",
     "output_type": "error",
     "traceback": [
      "\u001b[0;31m---------------------------------------------------------------------------\u001b[0m",
      "\u001b[0;31mModuleNotFoundError\u001b[0m                       Traceback (most recent call last)",
      "Input \u001b[0;32mIn [1]\u001b[0m, in \u001b[0;36m<cell line: 1>\u001b[0;34m()\u001b[0m\n\u001b[0;32m----> 1\u001b[0m \u001b[38;5;28;01mimport\u001b[39;00m \u001b[38;5;21;01msympy\u001b[39;00m \u001b[38;5;28;01mas\u001b[39;00m \u001b[38;5;21;01msmp\u001b[39;00m\n",
      "\u001b[0;31mModuleNotFoundError\u001b[0m: No module named 'sympy'"
     ]
    }
   ],
   "source": [
    "import sympy as smp"
   ]
  },
  {
   "cell_type": "code",
   "execution_count": 2,
   "id": "82028f90-3e86-4e41-a556-abc3cf0dd69f",
   "metadata": {},
   "outputs": [],
   "source": [
    "x = smp.symbols('x')"
   ]
  },
  {
   "cell_type": "code",
   "execution_count": 3,
   "id": "bd43b537-77f8-408c-9016-039eda58b824",
   "metadata": {},
   "outputs": [],
   "source": [
    "f, g = smp.symbols('f g', cls=smp.Function)"
   ]
  },
  {
   "cell_type": "code",
   "execution_count": 4,
   "id": "6f3714e6-7065-4e62-a0f5-281e81791069",
   "metadata": {},
   "outputs": [],
   "source": [
    "g = g(x)"
   ]
  },
  {
   "cell_type": "code",
   "execution_count": 5,
   "id": "8ad091c4-3ff7-4e09-b972-23e797e28ba6",
   "metadata": {},
   "outputs": [],
   "source": [
    "f = x + g"
   ]
  },
  {
   "cell_type": "code",
   "execution_count": 6,
   "id": "66d79c85-5314-44d5-bbed-8584b322d789",
   "metadata": {},
   "outputs": [
    {
     "data": {
      "text/latex": [
       "$\\displaystyle x + g{\\left(x \\right)}$"
      ],
      "text/plain": [
       "x + g(x)"
      ]
     },
     "execution_count": 6,
     "metadata": {},
     "output_type": "execute_result"
    }
   ],
   "source": [
    "f"
   ]
  },
  {
   "cell_type": "markdown",
   "id": "bd2554fe-58a8-4a1a-93ff-5504be4a1b35",
   "metadata": {},
   "source": [
    "### SciPy"
   ]
  },
  {
   "cell_type": "code",
   "execution_count": 7,
   "id": "f1fcc498-5037-49c2-b9d0-4643b31b4406",
   "metadata": {},
   "outputs": [],
   "source": [
    "from scipy.integrate import dblquad"
   ]
  },
  {
   "cell_type": "code",
   "execution_count": 8,
   "id": "dca63687-404f-4288-b8a8-f1597c21b744",
   "metadata": {},
   "outputs": [],
   "source": [
    "y_upper = lambda x: x**2"
   ]
  },
  {
   "cell_type": "code",
   "execution_count": 9,
   "id": "4407ea5c-e97e-471d-8275-6861e3b6da32",
   "metadata": {},
   "outputs": [],
   "source": [
    "y_lower = lambda x: -x"
   ]
  },
  {
   "cell_type": "code",
   "execution_count": null,
   "id": "f6833aee-a298-4258-a19b-5912bd357ad3",
   "metadata": {},
   "outputs": [],
   "source": [
    "integral, integral_error = dblquad(f, 0, 1, y_lower, y_upper)"
   ]
  },
  {
   "cell_type": "code",
   "execution_count": 12,
   "id": "e2d5154b-87d4-4753-a59c-24b66d2caec4",
   "metadata": {},
   "outputs": [],
   "source": [
    "cons = (\n",
    "    {\"type\": \"ineq\", \"func\": lambda v: v[0]+2*v[1]+2},\n",
    "    {\"type\": \"ineq\", \"func\": lambda v: -v[0]-2*v[1]+6}\n",
    ")"
   ]
  },
  {
   "cell_type": "markdown",
   "id": "49a01102-9bd7-4a21-a4bd-958405563029",
   "metadata": {},
   "source": [
    "### PyTorch"
   ]
  },
  {
   "cell_type": "code",
   "execution_count": null,
   "id": "8eb79f2a-70b3-4274-a2f4-2d53ad7275b5",
   "metadata": {},
   "outputs": [],
   "source": [
    "class Module:\n",
    "    def __init__(self, layers):\n",
    "        ###...\n",
    "        for l in self.layers():\n",
    "            self.add_module(\"name\": l)"
   ]
  },
  {
   "cell_type": "markdown",
   "id": "a512cc6e-9cd7-45e7-9c0d-8744b43f40df",
   "metadata": {},
   "source": [
    "### Python"
   ]
  },
  {
   "cell_type": "code",
   "execution_count": 2,
   "id": "33535d77-fb3b-4329-a7fa-5b1251b9d873",
   "metadata": {},
   "outputs": [],
   "source": [
    "def distance(point_a, point_b):\n",
    "    \"\"\"\n",
    "    Calculate the distance between point a and point b in 3D space\n",
    "    \n",
    "    :param point_a: the coordinate of point a in 3D space\n",
    "    :param point_b: the coordinate of point b in 3D space\n",
    "    :return: The distance between point a and point b\n",
    "    \"\"\"\n",
    "    pass"
   ]
  },
  {
   "cell_type": "code",
   "execution_count": 3,
   "id": "1f6d9152-55ee-4948-9755-a9b44692c6c1",
   "metadata": {},
   "outputs": [],
   "source": [
    "name = \"Shivon\""
   ]
  },
  {
   "cell_type": "code",
   "execution_count": 4,
   "id": "05ab9500-c453-4485-98d4-2cca06e37abc",
   "metadata": {},
   "outputs": [
    {
     "name": "stdout",
     "output_type": "stream",
     "text": [
      "Hello Shivon\n"
     ]
    }
   ],
   "source": [
    "print(\"Hello {0}\".format(name))"
   ]
  },
  {
   "cell_type": "markdown",
   "id": "242bc52d-17db-422d-92c2-1be14521a46d",
   "metadata": {},
   "source": [
    "### Matplotlib"
   ]
  },
  {
   "cell_type": "code",
   "execution_count": 5,
   "id": "c7d1723c-59d8-476e-9ed8-c2e787001bee",
   "metadata": {},
   "outputs": [],
   "source": [
    "from matplotlib import pyplot as plt"
   ]
  },
  {
   "cell_type": "code",
   "execution_count": null,
   "id": "34542a00-b4a2-4f27-be54-5a79ffad1fbe",
   "metadata": {},
   "outputs": [],
   "source": [
    ",plt.plot(dev_x, dev_y, label=\"Developer\", color=\"blue\")"
   ]
  },
  {
   "cell_type": "code",
   "execution_count": null,
   "id": "fe5c6457-a6df-4d3b-b8b0-6acc60181b89",
   "metadata": {},
   "outputs": [],
   "source": [
    "plt.plot(py_dev_x, py_dev_y, label=\"Python\", color=\"orange\")"
   ]
  }
 ],
 "metadata": {
  "kernelspec": {
   "display_name": "Python 3 (ipykernel)",
   "language": "python",
   "name": "python3"
  },
  "language_info": {
   "codemirror_mode": {
    "name": "ipython",
    "version": 3
   },
   "file_extension": ".py",
   "mimetype": "text/x-python",
   "name": "python",
   "nbconvert_exporter": "python",
   "pygments_lexer": "ipython3",
   "version": "3.10.4"
  }
 },
 "nbformat": 4,
 "nbformat_minor": 5
}
