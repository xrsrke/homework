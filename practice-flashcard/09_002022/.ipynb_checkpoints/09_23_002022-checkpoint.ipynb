{
 "cells": [
  {
   "cell_type": "markdown",
   "id": "fda7e1fb-5071-46b8-ac1c-5ead43e46a0d",
   "metadata": {},
   "source": [
    "### Design Pattern"
   ]
  },
  {
   "cell_type": "code",
   "execution_count": null,
   "id": "e9aac44d-973e-471c-b68a-8ac646594094",
   "metadata": {},
   "outputs": [],
   "source": [
    "class Point:\n",
    "    pass"
   ]
  },
  {
   "cell_type": "markdown",
   "id": "e752e6bb-6a6f-443e-b98c-043ee661a8bf",
   "metadata": {},
   "source": [
    "##### Person Builder"
   ]
  },
  {
   "cell_type": "code",
   "execution_count": null,
   "id": "ad215f8b-3367-48e8-a24a-2388aec4d2db",
   "metadata": {},
   "outputs": [],
   "source": [
    "class Person:\n",
    "    def __init__(self):\n",
    "        self.postcode = None\n",
    "        self.city = None\n",
    "        \n",
    "        self.company_name = None\n",
    "        self.annual_income = None"
   ]
  },
  {
   "cell_type": "code",
   "execution_count": null,
   "id": "40925dc7-6dad-431f-ba1f-f0c079e8b213",
   "metadata": {},
   "outputs": [],
   "source": [
    "class PersonBuilder:\n",
    "    \n",
    "    def __init__(self, person=Person()):\n",
    "        self.person = person\n",
    "    \n",
    "    @staticmethod\n",
    "    def lives():\n",
    "        return PersonAddressBuilder(self.person)\n",
    "    \n",
    "    @staticmethod\n",
    "    def works():\n",
    "        return PersonEmploymentBuilder(self.person)\n",
    "    \n",
    "    def build():\n",
    "        return self.person"
   ]
  },
  {
   "cell_type": "code",
   "execution_count": null,
   "id": "dc7f03bd-797c-415d-a924-d0d0f702cab2",
   "metadata": {},
   "outputs": [],
   "source": [
    "class PersonAddressBuilder(PersonBuilder):\n",
    "    def __init__(self, person):\n",
    "        super().__init__(person)\n",
    "    \n",
    "    def in_city(self, city):\n",
    "        self.person.city = city\n",
    "        return self\n",
    "    \n",
    "    def with_postcode(self, postcode):\n",
    "        self.person.postcode = postcode\n",
    "        return self"
   ]
  },
  {
   "cell_type": "code",
   "execution_count": null,
   "id": "0f75fb75-0901-4835-bee0-9ca86de4e492",
   "metadata": {},
   "outputs": [],
   "source": [
    "class PersonEmploymentBuilder(PersonBuilder):\n",
    "    def __init__(self, person):\n",
    "        super().__init__(person)\n",
    "    \n",
    "    def at(self, company_name):\n",
    "        self.person.company_name = company_name\n",
    "        return self\n",
    "    \n",
    "    def earning(self, annual_income):\n",
    "        self.person.annual_income = annual_income\n",
    "        return self"
   ]
  },
  {
   "cell_type": "markdown",
   "id": "0d6b4f92-919b-4b75-93f5-3cc3bca01282",
   "metadata": {},
   "source": [
    "##### User Builder"
   ]
  },
  {
   "cell_type": "code",
   "execution_count": null,
   "id": "284a4cd6-8b7b-43c5-8962-51fbefca53e2",
   "metadata": {},
   "outputs": [],
   "source": [
    "class User:\n",
    "    def __init__(self, name):\n",
    "        self.name = name\n",
    "        self.gender = None\n",
    "        self.address = None"
   ]
  },
  {
   "cell_type": "code",
   "execution_count": null,
   "id": "c18cc093-11c0-4402-9d1f-e3a0ce272320",
   "metadata": {},
   "outputs": [],
   "source": [
    "class UserBuilder:\n",
    "    def __init__(self, name):\n",
    "        self.user = User(name)\n",
    "    \n",
    "    def setGender(self, gender):\n",
    "        self.user.gender = gender\n",
    "        return self\n",
    "    \n",
    "    def setAddress(self, address):\n",
    "        self.user.address = address\n",
    "        return self\n",
    "    \n",
    "    def build():\n",
    "        return self.user"
   ]
  },
  {
   "cell_type": "markdown",
   "id": "71fcb03e-9d98-4793-b882-17cd186efbb3",
   "metadata": {},
   "source": [
    "##### PointFactory"
   ]
  },
  {
   "cell_type": "code",
   "execution_count": null,
   "id": "d2a8146c-7ed5-4442-965f-2a726e00db6e",
   "metadata": {},
   "outputs": [],
   "source": [
    "class Point:\n",
    "    def __init__(self, x, y):\n",
    "        self.x = x\n",
    "        self.y"
   ]
  },
  {
   "cell_type": "code",
   "execution_count": null,
   "id": "906c0d84-8c1b-4b0f-8195-e8eeb3358592",
   "metadata": {},
   "outputs": [],
   "source": [
    "class PointBuilder:\n",
    "    def new_cartesian_point(self, x, y):\n",
    "        return Point(x, y)\n",
    "    \n",
    "    def new_polar_point(self, x, y):\n",
    "        return Point()"
   ]
  },
  {
   "cell_type": "code",
   "execution_count": null,
   "id": "038f7707-23cc-4b6e-b570-70f5bd9ecd85",
   "metadata": {},
   "outputs": [],
   "source": []
  }
 ],
 "metadata": {
  "kernelspec": {
   "display_name": "Python 3 (ipykernel)",
   "language": "python",
   "name": "python3"
  }
 },
 "nbformat": 4,
 "nbformat_minor": 5
}
