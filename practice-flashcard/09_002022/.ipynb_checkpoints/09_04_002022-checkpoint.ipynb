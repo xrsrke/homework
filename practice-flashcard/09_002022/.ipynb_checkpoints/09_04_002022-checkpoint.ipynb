{
 "cells": [
  {
   "cell_type": "markdown",
   "id": "06a0a2a3",
   "metadata": {},
   "source": [
    "### Python OOP"
   ]
  },
  {
   "cell_type": "code",
   "execution_count": 1,
   "id": "a90228ad",
   "metadata": {},
   "outputs": [],
   "source": [
    "# class LinkedList(BaseLinkedList):\n",
    "#     def append(self, value):\n",
    "#         new_node = Node(value)\n",
    "        \n",
    "#         if self.head is None:\n",
    "#             self.head = new_node\n",
    "#             self.tail = new_node\n",
    "#         else:\n",
    "#             self.tail = new_node\n",
    "        \n",
    "#         temp = self.head\n",
    "#         prep = temp\n",
    "#         while temp is not None:"
   ]
  },
  {
   "cell_type": "code",
   "execution_count": 2,
   "id": "89bc944b",
   "metadata": {},
   "outputs": [],
   "source": [
    "# class LinkedList:\n",
    "#     def __init__(self, value):\n",
    "#         new_node = Node(value)\n",
    "#         self.head = new_node\n",
    "#         self.tail = new_node\n",
    "#         self.length = 1"
   ]
  },
  {
   "cell_type": "code",
   "execution_count": 3,
   "id": "773d450e",
   "metadata": {},
   "outputs": [],
   "source": [
    "import pytest"
   ]
  },
  {
   "cell_type": "code",
   "execution_count": 4,
   "id": "e6837bdb",
   "metadata": {},
   "outputs": [],
   "source": [
    "a, b = 10, 1"
   ]
  },
  {
   "cell_type": "code",
   "execution_count": 5,
   "id": "10b4a2a6",
   "metadata": {},
   "outputs": [],
   "source": [
    "@pytest.mark.skipif(a > b, \"cause if want\")\n",
    "def test_func_3():\n",
    "    pass"
   ]
  },
  {
   "cell_type": "code",
   "execution_count": 6,
   "id": "c483c60a",
   "metadata": {},
   "outputs": [
    {
     "ename": "NameError",
     "evalue": "name 'Wizard' is not defined",
     "output_type": "error",
     "traceback": [
      "\u001b[0;31m---------------------------------------------------------------------------\u001b[0m",
      "\u001b[0;31mNameError\u001b[0m                                 Traceback (most recent call last)",
      "Input \u001b[0;32mIn [6]\u001b[0m, in \u001b[0;36m<cell line: 1>\u001b[0;34m()\u001b[0m\n\u001b[0;32m----> 1\u001b[0m \u001b[38;5;28;01mclass\u001b[39;00m \u001b[38;5;21;01mHybridBorg\u001b[39;00m(\u001b[43mWizard\u001b[49m, Archer):\n\u001b[1;32m      2\u001b[0m     \u001b[38;5;28;01mdef\u001b[39;00m \u001b[38;5;21m__init__\u001b[39m(\u001b[38;5;28mself\u001b[39m, name, power, arrows):\n\u001b[1;32m      3\u001b[0m         Wizard\u001b[38;5;241m.\u001b[39m\u001b[38;5;21m__init__\u001b[39m(\u001b[38;5;28mself\u001b[39m, name, power)\n",
      "\u001b[0;31mNameError\u001b[0m: name 'Wizard' is not defined"
     ]
    }
   ],
   "source": [
    "class HybridBorg(Wizard, Archer):\n",
    "    def __init__(self, name, power, arrows):\n",
    "        Wizard.__init__(self, name, power)\n",
    "        Archer.__init__(self, name, arrows)"
   ]
  },
  {
   "cell_type": "code",
   "execution_count": null,
   "id": "14163079",
   "metadata": {},
   "outputs": [],
   "source": []
  },
  {
   "cell_type": "code",
   "execution_count": 22,
   "id": "91f5c1d7",
   "metadata": {},
   "outputs": [],
   "source": [
    "class A:\n",
    "    def __init__(self, name):\n",
    "        self.name = name"
   ]
  },
  {
   "cell_type": "code",
   "execution_count": 23,
   "id": "42d63dab",
   "metadata": {},
   "outputs": [],
   "source": [
    "class B:\n",
    "    pass"
   ]
  },
  {
   "cell_type": "markdown",
   "id": "4b4e828f",
   "metadata": {},
   "source": [
    "Create class `B` inherit from class `A` and initialize class A init"
   ]
  },
  {
   "cell_type": "code",
   "execution_count": 24,
   "id": "49d5ff04",
   "metadata": {},
   "outputs": [],
   "source": [
    "class B(A):\n",
    "    def __init__(self, name, power):\n",
    "        A.__init__(self, name)\n",
    "        self.power = power"
   ]
  },
  {
   "cell_type": "code",
   "execution_count": 25,
   "id": "cbc57be5",
   "metadata": {},
   "outputs": [],
   "source": [
    "b = B(\"Shivon\", 23)"
   ]
  },
  {
   "cell_type": "code",
   "execution_count": 26,
   "id": "d0d2d7cb",
   "metadata": {},
   "outputs": [
    {
     "data": {
      "text/plain": [
       "('Shivon', 23)"
      ]
     },
     "execution_count": 26,
     "metadata": {},
     "output_type": "execute_result"
    }
   ],
   "source": [
    "b.name, b.power"
   ]
  },
  {
   "cell_type": "code",
   "execution_count": 29,
   "id": "6c3cbc2a",
   "metadata": {},
   "outputs": [],
   "source": [
    "from enum import Enum, auto"
   ]
  },
  {
   "cell_type": "code",
   "execution_count": 30,
   "id": "561b692e",
   "metadata": {},
   "outputs": [],
   "source": [
    "c = Enum(\"Colors\", ([\"R\", \"Red\"], [\"B\", \"Blue\"]))"
   ]
  },
  {
   "cell_type": "code",
   "execution_count": 31,
   "id": "2cfb87ad",
   "metadata": {},
   "outputs": [],
   "source": [
    "class Colors(Enum):\n",
    "    GREEN = auto()\n",
    "    WHITE = auto()"
   ]
  },
  {
   "cell_type": "code",
   "execution_count": null,
   "id": "153f8f9f",
   "metadata": {},
   "outputs": [],
   "source": []
  }
 ],
 "metadata": {
  "kernelspec": {
   "display_name": "Python 3 (ipykernel)",
   "language": "python",
   "name": "python3"
  },
  "language_info": {
   "codemirror_mode": {
    "name": "ipython",
    "version": 3
   },
   "file_extension": ".py",
   "mimetype": "text/x-python",
   "name": "python",
   "nbconvert_exporter": "python",
   "pygments_lexer": "ipython3",
   "version": "3.9.12"
  }
 },
 "nbformat": 4,
 "nbformat_minor": 5
}
