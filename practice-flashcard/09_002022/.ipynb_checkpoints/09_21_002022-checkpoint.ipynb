{
 "cells": [
  {
   "cell_type": "markdown",
   "id": "aa010b46-ea0f-4405-ab5f-63813a84742e",
   "metadata": {},
   "source": [
    "### NumPy"
   ]
  },
  {
   "cell_type": "code",
   "execution_count": null,
   "id": "ddf9ad76-dabc-4554-b756-98b26e41cbc8",
   "metadata": {},
   "outputs": [],
   "source": [
    "import numpy as np"
   ]
  },
  {
   "cell_type": "markdown",
   "id": "7682c7b7-2cf9-4d56-af1a-319281f6f246",
   "metadata": {},
   "source": [
    "### SymPy"
   ]
  },
  {
   "cell_type": "code",
   "execution_count": null,
   "id": "261f1db5-4003-4bcc-84ff-320eda12d449",
   "metadata": {},
   "outputs": [],
   "source": [
    "import sympy as smp"
   ]
  },
  {
   "cell_type": "code",
   "execution_count": null,
   "id": "06f2b915-cf4b-48d4-95f5-2a64c19bb74d",
   "metadata": {},
   "outputs": [],
   "source": [
    "x = smp.symbols('x')"
   ]
  },
  {
   "cell_type": "code",
   "execution_count": null,
   "id": "3f26b7e1-ad9e-4132-9c0d-ca008577d561",
   "metadata": {},
   "outputs": [],
   "source": [
    "f = smp.symbols('f', cls=smp.Function)"
   ]
  },
  {
   "cell_type": "code",
   "execution_count": null,
   "id": "201b8d98-594b-41bd-8296-b4a4d80a4b4a",
   "metadata": {},
   "outputs": [],
   "source": [
    "f = f(x)"
   ]
  },
  {
   "cell_type": "code",
   "execution_count": null,
   "id": "851259c8-fb06-4e66-b47e-2c773f1e2955",
   "metadata": {},
   "outputs": [
    {
     "data": {
      "text/latex": [
       "$\\displaystyle f{\\left(x \\right)}$"
      ],
      "text/plain": [
       "f(x)"
      ]
     },
     "execution_count": null,
     "metadata": {},
     "output_type": "execute_result"
    }
   ],
   "source": [
    "f"
   ]
  },
  {
   "cell_type": "code",
   "execution_count": null,
   "id": "137fbc83-2c4c-4858-92fa-e881a0a4b0d8",
   "metadata": {},
   "outputs": [
    {
     "data": {
      "text/latex": [
       "$\\displaystyle x^{\\frac{3}{2}}$"
      ],
      "text/plain": [
       "x**(3/2)"
      ]
     },
     "execution_count": null,
     "metadata": {},
     "output_type": "execute_result"
    }
   ],
   "source": [
    "x**smp.Rational(3/2)"
   ]
  },
  {
   "cell_type": "markdown",
   "id": "42f1b77f-1001-4fa9-9837-affd00cc4834",
   "metadata": {},
   "source": [
    "### SciPy"
   ]
  },
  {
   "cell_type": "code",
   "execution_count": null,
   "id": "761db708-e2ff-48a3-aa2f-65505905e5b1",
   "metadata": {},
   "outputs": [],
   "source": [
    "def f(x):\n",
    "    return (x-3)**2"
   ]
  },
  {
   "cell_type": "code",
   "execution_count": null,
   "id": "7153dc87-fc5c-470b-8478-b584f3fbc9c7",
   "metadata": {},
   "outputs": [],
   "source": [
    "from scipy.optimize import minimize"
   ]
  },
  {
   "cell_type": "code",
   "execution_count": null,
   "id": "92060bba-549c-4397-9a69-c59220b8ad70",
   "metadata": {},
   "outputs": [],
   "source": [
    "res = minimize(f, 3)"
   ]
  },
  {
   "cell_type": "code",
   "execution_count": null,
   "id": "e3af0119-5086-405d-af81-472dc084f5f5",
   "metadata": {},
   "outputs": [
    {
     "data": {
      "text/plain": [
       "      fun: 0.0\n",
       " hess_inv: array([[1]])\n",
       "      jac: array([1.49011612e-08])\n",
       "  message: 'Optimization terminated successfully.'\n",
       "     nfev: 2\n",
       "      nit: 0\n",
       "     njev: 1\n",
       "   status: 0\n",
       "  success: True\n",
       "        x: array([3.])"
      ]
     },
     "execution_count": null,
     "metadata": {},
     "output_type": "execute_result"
    }
   ],
   "source": [
    "res"
   ]
  },
  {
   "cell_type": "markdown",
   "id": "ff204f40-a0dd-47a4-b162-04bc7ef3aa7c",
   "metadata": {},
   "source": [
    "### Deep Learning"
   ]
  },
  {
   "cell_type": "code",
   "execution_count": null,
   "id": "62c3b648-a0cb-4677-98dd-c3e3ef7cd019",
   "metadata": {},
   "outputs": [],
   "source": [
    "class PrintStepCallback:\n",
    "    def before_calc(self, i):\n",
    "        print(f\"About to start i={i}\")\n",
    "    \n",
    "    def after_calc(self, i):\n",
    "        print(f\"Done step i={i}\")"
   ]
  },
  {
   "cell_type": "markdown",
   "id": "134bd3a5-b62f-40b5-a719-31042e7baa7c",
   "metadata": {},
   "source": [
    "### Python"
   ]
  },
  {
   "cell_type": "code",
   "execution_count": null,
   "id": "e2585d30-5331-4009-90db-b07b78f79384",
   "metadata": {},
   "outputs": [],
   "source": [
    "class Vehicle:\n",
    "    def say_hello(self):\n",
    "        return \"Hello\"\n",
    "    \n",
    "    def func(self):\n",
    "        new_instance = self.__class__()\n",
    "        return new_instance.say_hello()"
   ]
  },
  {
   "cell_type": "code",
   "execution_count": null,
   "id": "9cc42798-eb7c-430e-a653-8fe7a4f52aac",
   "metadata": {},
   "outputs": [],
   "source": [
    "v = Vehicle()"
   ]
  },
  {
   "cell_type": "code",
   "execution_count": null,
   "id": "cb30aef4-e9c6-46f4-ab64-5a32af73c147",
   "metadata": {},
   "outputs": [
    {
     "data": {
      "text/plain": [
       "'Hello'"
      ]
     },
     "execution_count": null,
     "metadata": {},
     "output_type": "execute_result"
    }
   ],
   "source": [
    "v.func()"
   ]
  },
  {
   "cell_type": "code",
   "execution_count": null,
   "id": "c4092a16-5545-4189-93f8-8644a5137cd6",
   "metadata": {},
   "outputs": [],
   "source": [
    "from enum import Enum"
   ]
  },
  {
   "cell_type": "code",
   "execution_count": null,
   "id": "2daa9361-d3f3-4a62-8873-dfe1d6e7cd40",
   "metadata": {},
   "outputs": [],
   "source": [
    "c = Enum(\"Colors\", [(\"R\", \"Red\"), (\"B\", \"Blue\")])"
   ]
  },
  {
   "cell_type": "code",
   "execution_count": null,
   "id": "436d9b9c-ae7e-4829-8d72-d0c04df26fde",
   "metadata": {},
   "outputs": [
    {
     "data": {
      "text/plain": [
       "mappingproxy({'_generate_next_value_': <function enum.Enum._generate_next_value_(name, start, count, last_values)>,\n",
       "              '__doc__': 'An enumeration.',\n",
       "              '__module__': '__main__',\n",
       "              '_member_names_': ['R', 'B'],\n",
       "              '_member_map_': {'R': <Colors.R: 'Red'>,\n",
       "               'B': <Colors.B: 'Blue'>},\n",
       "              '_member_type_': object,\n",
       "              '_value2member_map_': {'Red': <Colors.R: 'Red'>,\n",
       "               'Blue': <Colors.B: 'Blue'>},\n",
       "              'R': <Colors.R: 'Red'>,\n",
       "              'B': <Colors.B: 'Blue'>,\n",
       "              '__new__': <function enum.Enum.__new__(cls, value)>})"
      ]
     },
     "execution_count": null,
     "metadata": {},
     "output_type": "execute_result"
    }
   ],
   "source": [
    "c.__dict__"
   ]
  },
  {
   "cell_type": "code",
   "execution_count": null,
   "id": "45aa34f8-aef9-46b8-80bc-3839f040699b",
   "metadata": {},
   "outputs": [],
   "source": [
    "MetaStudent = type(\"MetaStudent\", (), {\"major\": \"chem\"})"
   ]
  },
  {
   "cell_type": "code",
   "execution_count": null,
   "id": "74ebc7ad-ee69-41ef-b154-d16216a26971",
   "metadata": {},
   "outputs": [
    {
     "data": {
      "text/plain": [
       "'chem'"
      ]
     },
     "execution_count": null,
     "metadata": {},
     "output_type": "execute_result"
    }
   ],
   "source": [
    "MetaStudent.major"
   ]
  },
  {
   "cell_type": "code",
   "execution_count": null,
   "id": "09df8192-dd29-4361-9725-3af9cc1ee32f",
   "metadata": {},
   "outputs": [],
   "source": [
    "class Student:\n",
    "    def greet(self):\n",
    "        return \"Hi\""
   ]
  },
  {
   "cell_type": "code",
   "execution_count": null,
   "id": "d4b2ebd6-8b4c-4488-bc8e-57bd03818dac",
   "metadata": {},
   "outputs": [],
   "source": [
    "class Classroom:\n",
    "    def __init__(self):\n",
    "        self._students = {}\n",
    "    \n",
    "    def __setattr__(self, k, v):\n",
    "        if not k.startswith(\"_\"): self._students[k] = v\n",
    "        super().__setattr__(k, v)"
   ]
  },
  {
   "cell_type": "code",
   "execution_count": null,
   "id": "fda789fc-ba02-40a8-82bd-ec4f53194462",
   "metadata": {},
   "outputs": [],
   "source": [
    "class Colors(Enum):\n",
    "    RED = \"Red\"\n",
    "    BLUE = \"Blue\"\n",
    "    ORANGE = \"Orange\"\n",
    "    \n",
    "    @property\n",
    "    def is_hot(self):\n",
    "        return self in [Colors.RED, Colors.ORANGE]"
   ]
  },
  {
   "cell_type": "code",
   "execution_count": null,
   "id": "07a5b75c-8e51-40c2-9543-24eb0eeb6df9",
   "metadata": {},
   "outputs": [],
   "source": [
    "def extra_second(func):\n",
    "    def wrapper(*args, **kwargs):\n",
    "        ...\n",
    "        func(*args, **kwargs)\n",
    "        ...\n",
    "    return wrapper"
   ]
  }
 ],
 "metadata": {
  "kernelspec": {
   "display_name": "Python 3 (ipykernel)",
   "language": "python",
   "name": "python3"
  }
 },
 "nbformat": 4,
 "nbformat_minor": 5
}
