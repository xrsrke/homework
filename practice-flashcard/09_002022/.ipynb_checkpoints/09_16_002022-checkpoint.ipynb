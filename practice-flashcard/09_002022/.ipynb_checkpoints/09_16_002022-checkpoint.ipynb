{
 "cells": [
  {
   "cell_type": "markdown",
   "id": "5f2f120f-13bf-47a8-bfbb-f5b6e5951150",
   "metadata": {
    "jp-MarkdownHeadingCollapsed": true,
    "tags": []
   },
   "source": [
    "### SymPy"
   ]
  },
  {
   "cell_type": "code",
   "execution_count": 1,
   "id": "7a661ec8-f569-4b1e-875a-68716cfdd2c7",
   "metadata": {},
   "outputs": [],
   "source": [
    "import sympy as smp"
   ]
  },
  {
   "cell_type": "code",
   "execution_count": 2,
   "id": "1fb2a395-18fb-4aa2-bc05-9617e9706925",
   "metadata": {},
   "outputs": [
    {
     "ename": "NameError",
     "evalue": "name 'expr' is not defined",
     "output_type": "error",
     "traceback": [
      "\u001b[0;31m---------------------------------------------------------------------------\u001b[0m",
      "\u001b[0;31mNameError\u001b[0m                                 Traceback (most recent call last)",
      "Input \u001b[0;32mIn [2]\u001b[0m, in \u001b[0;36m<cell line: 1>\u001b[0;34m()\u001b[0m\n\u001b[0;32m----> 1\u001b[0m \u001b[43mexpr\u001b[49m\u001b[38;5;241m.\u001b[39msubs([(x, \u001b[38;5;241m3\u001b[39m), (y, \u001b[38;5;241m3\u001b[39m)])\n",
      "\u001b[0;31mNameError\u001b[0m: name 'expr' is not defined"
     ]
    }
   ],
   "source": [
    "expr.subs([(x, 3), (y, 3)])"
   ]
  },
  {
   "cell_type": "markdown",
   "id": "6b844095-c1d4-4953-9b63-d57c720875af",
   "metadata": {},
   "source": [
    "smp.solve()"
   ]
  },
  {
   "cell_type": "code",
   "execution_count": 3,
   "id": "43cdb596-f2ec-4200-a37e-830c4858450e",
   "metadata": {},
   "outputs": [
    {
     "ename": "NameError",
     "evalue": "name 'y' is not defined",
     "output_type": "error",
     "traceback": [
      "\u001b[0;31m---------------------------------------------------------------------------\u001b[0m",
      "\u001b[0;31mNameError\u001b[0m                                 Traceback (most recent call last)",
      "Input \u001b[0;32mIn [3]\u001b[0m, in \u001b[0;36m<cell line: 1>\u001b[0;34m()\u001b[0m\n\u001b[0;32m----> 1\u001b[0m smp\u001b[38;5;241m.\u001b[39mintegrate(\u001b[43my\u001b[49m, (x, \u001b[38;5;241m0\u001b[39m, \u001b[38;5;241m3\u001b[39m))\n",
      "\u001b[0;31mNameError\u001b[0m: name 'y' is not defined"
     ]
    }
   ],
   "source": [
    "smp.integrate(y, (x, 0, 3))"
   ]
  },
  {
   "cell_type": "code",
   "execution_count": 5,
   "id": "1b4e0ff1-f227-4473-b63e-1c4220c5409b",
   "metadata": {},
   "outputs": [],
   "source": [
    "x = smp.symbols('x', positive=True)"
   ]
  },
  {
   "cell_type": "code",
   "execution_count": 6,
   "id": "a315cb0e-063b-488e-993b-2c7376d461cf",
   "metadata": {},
   "outputs": [
    {
     "data": {
      "text/latex": [
       "$\\displaystyle x$"
      ],
      "text/plain": [
       "x"
      ]
     },
     "execution_count": 6,
     "metadata": {},
     "output_type": "execute_result"
    }
   ],
   "source": [
    "x"
   ]
  },
  {
   "cell_type": "code",
   "execution_count": 7,
   "id": "12e66681-6384-44fe-b16f-b6f57735f317",
   "metadata": {},
   "outputs": [],
   "source": [
    "from scipy.misc import derivative"
   ]
  },
  {
   "cell_type": "code",
   "execution_count": 8,
   "id": "af3e1f45-8702-4a82-96fc-ee93bb8f9465",
   "metadata": {},
   "outputs": [
    {
     "ename": "NameError",
     "evalue": "name 'f' is not defined",
     "output_type": "error",
     "traceback": [
      "\u001b[0;31m---------------------------------------------------------------------------\u001b[0m",
      "\u001b[0;31mNameError\u001b[0m                                 Traceback (most recent call last)",
      "Input \u001b[0;32mIn [8]\u001b[0m, in \u001b[0;36m<cell line: 1>\u001b[0;34m()\u001b[0m\n\u001b[0;32m----> 1\u001b[0m derivative(\u001b[43mf\u001b[49m, x, dx\u001b[38;5;241m=\u001b[39m\u001b[38;5;241m1e-6\u001b[39m, n\u001b[38;5;241m=\u001b[39m\u001b[38;5;241m2\u001b[39m)\n",
      "\u001b[0;31mNameError\u001b[0m: name 'f' is not defined"
     ]
    }
   ],
   "source": [
    "derivative(f, x, dx=1e-6, n=2)"
   ]
  },
  {
   "cell_type": "code",
   "execution_count": 9,
   "id": "b118d0a5-5385-456a-9f32-45f80397e621",
   "metadata": {},
   "outputs": [],
   "source": [
    "def f(x):\n",
    "    return x**2 * smp.sin(2*x) * smp.exp(-x)"
   ]
  },
  {
   "cell_type": "code",
   "execution_count": 10,
   "id": "712f2fee-11b8-4fff-99f3-82f52fe3d6ef",
   "metadata": {},
   "outputs": [],
   "source": [
    "f = smp.symbols('f', cls=smp.Function)"
   ]
  },
  {
   "cell_type": "code",
   "execution_count": 12,
   "id": "f0043dcb-5b4a-4fd6-a2f4-8af1c1334d42",
   "metadata": {},
   "outputs": [],
   "source": [
    "f = f(x)"
   ]
  },
  {
   "cell_type": "code",
   "execution_count": 13,
   "id": "9bfcd862-6eca-41f0-a46f-0cb4ae23c220",
   "metadata": {},
   "outputs": [
    {
     "data": {
      "text/latex": [
       "$\\displaystyle f{\\left(x \\right)}$"
      ],
      "text/plain": [
       "f(x)"
      ]
     },
     "execution_count": 13,
     "metadata": {},
     "output_type": "execute_result"
    }
   ],
   "source": [
    "f"
   ]
  },
  {
   "cell_type": "code",
   "execution_count": 14,
   "id": "3ce2ab6e-a506-4831-8e9c-e57c0465f5d4",
   "metadata": {},
   "outputs": [],
   "source": [
    "x = smp.symbols('x', real=True)"
   ]
  },
  {
   "cell_type": "code",
   "execution_count": 15,
   "id": "00d36d36-cc3d-427b-b1fa-46800fc52b65",
   "metadata": {},
   "outputs": [
    {
     "ename": "NameError",
     "evalue": "name 'y' is not defined",
     "output_type": "error",
     "traceback": [
      "\u001b[0;31m---------------------------------------------------------------------------\u001b[0m",
      "\u001b[0;31mNameError\u001b[0m                                 Traceback (most recent call last)",
      "Input \u001b[0;32mIn [15]\u001b[0m, in \u001b[0;36m<cell line: 1>\u001b[0;34m()\u001b[0m\n\u001b[0;32m----> 1\u001b[0m smp\u001b[38;5;241m.\u001b[39mSum(\u001b[43my\u001b[49m, (n, \u001b[38;5;241m1\u001b[39m, \u001b[38;5;241m4\u001b[39m))\u001b[38;5;241m.\u001b[39mn()\n",
      "\u001b[0;31mNameError\u001b[0m: name 'y' is not defined"
     ]
    }
   ],
   "source": [
    "smp.Sum(y, (n, 1, 4)).n()"
   ]
  },
  {
   "cell_type": "code",
   "execution_count": 16,
   "id": "a5084502-f30e-4cc5-a836-ab70be9450b4",
   "metadata": {},
   "outputs": [
    {
     "ename": "AttributeError",
     "evalue": "module 'sympy' has no attribute 'lim'",
     "output_type": "error",
     "traceback": [
      "\u001b[0;31m---------------------------------------------------------------------------\u001b[0m",
      "\u001b[0;31mAttributeError\u001b[0m                            Traceback (most recent call last)",
      "Input \u001b[0;32mIn [16]\u001b[0m, in \u001b[0;36m<cell line: 1>\u001b[0;34m()\u001b[0m\n\u001b[0;32m----> 1\u001b[0m \u001b[43msmp\u001b[49m\u001b[38;5;241;43m.\u001b[39;49m\u001b[43mlim\u001b[49m(y, x, smp\u001b[38;5;241m.\u001b[39mpi)\n",
      "\u001b[0;31mAttributeError\u001b[0m: module 'sympy' has no attribute 'lim'"
     ]
    }
   ],
   "source": [
    "smp.lim(y, x, smp.pi)"
   ]
  },
  {
   "cell_type": "code",
   "execution_count": 17,
   "id": "f51a1d91-161d-4380-8bb7-414c64ceb8aa",
   "metadata": {},
   "outputs": [],
   "source": [
    "f, g = smp.symbols('f g', cls=smp.Function)"
   ]
  },
  {
   "cell_type": "code",
   "execution_count": 18,
   "id": "8e31bc00-8d17-4197-8a8a-bee1c2c74060",
   "metadata": {},
   "outputs": [
    {
     "data": {
      "text/plain": [
       "f"
      ]
     },
     "execution_count": 18,
     "metadata": {},
     "output_type": "execute_result"
    }
   ],
   "source": [
    "f"
   ]
  },
  {
   "cell_type": "code",
   "execution_count": 20,
   "id": "b7235a08-ec16-43e9-ada8-ecf77d5e8e5a",
   "metadata": {},
   "outputs": [],
   "source": [
    "g = g(x)"
   ]
  },
  {
   "cell_type": "code",
   "execution_count": 21,
   "id": "907b1b3b-e12f-4729-9c7c-cac3fd4ee130",
   "metadata": {},
   "outputs": [],
   "source": [
    "f = f(x+g)"
   ]
  },
  {
   "cell_type": "code",
   "execution_count": 22,
   "id": "47053f1e-7079-4f8a-9dff-cbacb89144b9",
   "metadata": {},
   "outputs": [
    {
     "data": {
      "text/latex": [
       "$\\displaystyle f{\\left(x + g{\\left(x \\right)} \\right)}$"
      ],
      "text/plain": [
       "f(x + g(x))"
      ]
     },
     "execution_count": 22,
     "metadata": {},
     "output_type": "execute_result"
    }
   ],
   "source": [
    "f"
   ]
  },
  {
   "cell_type": "code",
   "execution_count": 23,
   "id": "e6eec78b-34d1-43de-9d8e-4b30881fe899",
   "metadata": {},
   "outputs": [
    {
     "ename": "AttributeError",
     "evalue": "module 'sympy' has no attribute 'lamdify'",
     "output_type": "error",
     "traceback": [
      "\u001b[0;31m---------------------------------------------------------------------------\u001b[0m",
      "\u001b[0;31mAttributeError\u001b[0m                            Traceback (most recent call last)",
      "Input \u001b[0;32mIn [23]\u001b[0m, in \u001b[0;36m<cell line: 1>\u001b[0;34m()\u001b[0m\n\u001b[0;32m----> 1\u001b[0m \u001b[43msmp\u001b[49m\u001b[38;5;241;43m.\u001b[39;49m\u001b[43mlamdify\u001b[49m([x, y], fnc)\n",
      "\u001b[0;31mAttributeError\u001b[0m: module 'sympy' has no attribute 'lamdify'"
     ]
    }
   ],
   "source": [
    "smp.lamdify([x, y], fnc)"
   ]
  },
  {
   "cell_type": "code",
   "execution_count": 24,
   "id": "620d1b12-db6b-4d0a-b9dd-af09d738ebe0",
   "metadata": {},
   "outputs": [
    {
     "ename": "NameError",
     "evalue": "name 'y' is not defined",
     "output_type": "error",
     "traceback": [
      "\u001b[0;31m---------------------------------------------------------------------------\u001b[0m",
      "\u001b[0;31mNameError\u001b[0m                                 Traceback (most recent call last)",
      "Input \u001b[0;32mIn [24]\u001b[0m, in \u001b[0;36m<cell line: 1>\u001b[0;34m()\u001b[0m\n\u001b[0;32m----> 1\u001b[0m f\u001b[38;5;241m.\u001b[39msubs([(x, \u001b[38;5;241m3\u001b[39m), (\u001b[43my\u001b[49m, \u001b[38;5;241m2\u001b[39m\u001b[38;5;241m*\u001b[39mz)])\n",
      "\u001b[0;31mNameError\u001b[0m: name 'y' is not defined"
     ]
    }
   ],
   "source": [
    "f.subs([(x, 3), (y, 2*z)])"
   ]
  },
  {
   "cell_type": "code",
   "execution_count": 25,
   "id": "77acab8c-0b06-4ac4-9c91-2f2ca09056bc",
   "metadata": {},
   "outputs": [
    {
     "ename": "NameError",
     "evalue": "name 'eq1' is not defined",
     "output_type": "error",
     "traceback": [
      "\u001b[0;31m---------------------------------------------------------------------------\u001b[0m",
      "\u001b[0;31mNameError\u001b[0m                                 Traceback (most recent call last)",
      "Input \u001b[0;32mIn [25]\u001b[0m, in \u001b[0;36m<cell line: 1>\u001b[0;34m()\u001b[0m\n\u001b[0;32m----> 1\u001b[0m smp\u001b[38;5;241m.\u001b[39msolve([\u001b[43meq1\u001b[49m, eq2], [x, y])\n",
      "\u001b[0;31mNameError\u001b[0m: name 'eq1' is not defined"
     ]
    }
   ],
   "source": [
    "smp.solve([eq1, eq2], [x, y])"
   ]
  },
  {
   "cell_type": "code",
   "execution_count": 26,
   "id": "ad7b308d-9f94-4893-b7b4-8223a909be76",
   "metadata": {},
   "outputs": [
    {
     "ename": "AttributeError",
     "evalue": "'f' object has no attribute 'evals'",
     "output_type": "error",
     "traceback": [
      "\u001b[0;31m---------------------------------------------------------------------------\u001b[0m",
      "\u001b[0;31mAttributeError\u001b[0m                            Traceback (most recent call last)",
      "Input \u001b[0;32mIn [26]\u001b[0m, in \u001b[0;36m<cell line: 1>\u001b[0;34m()\u001b[0m\n\u001b[0;32m----> 1\u001b[0m \u001b[43mf\u001b[49m\u001b[38;5;241;43m.\u001b[39;49m\u001b[43msubs\u001b[49m\u001b[43m(\u001b[49m\u001b[43mx\u001b[49m\u001b[43m,\u001b[49m\u001b[43m \u001b[49m\u001b[38;5;241;43m2\u001b[39;49m\u001b[43m)\u001b[49m\u001b[38;5;241;43m.\u001b[39;49m\u001b[43mevals\u001b[49m()\n",
      "\u001b[0;31mAttributeError\u001b[0m: 'f' object has no attribute 'evals'"
     ]
    }
   ],
   "source": [
    "f.subs(x, 2).evals()"
   ]
  },
  {
   "cell_type": "markdown",
   "id": "30430e9a-e948-4d46-b16a-694e63200527",
   "metadata": {},
   "source": [
    "### Python"
   ]
  },
  {
   "cell_type": "code",
   "execution_count": null,
   "id": "a512a57c-91bc-4ceb-86cd-e585fa9fed31",
   "metadata": {},
   "outputs": [],
   "source": [
    "class Classroom:\n",
    "    def __init__(self):\n",
    "        self._students = {}\n",
    "    \n",
    "    def __setattr__(self, k, v):\n",
    "        if not k.startswith('_'): self._students[k] = v\n",
    "        super().__setattr__(k, v)"
   ]
  },
  {
   "cell_type": "code",
   "execution_count": 28,
   "id": "2d03c299-8639-4cb9-8e75-6ad0fddbdc03",
   "metadata": {},
   "outputs": [
    {
     "ename": "ModuleNotFoundError",
     "evalue": "No module named 'torch'",
     "output_type": "error",
     "traceback": [
      "\u001b[0;31m---------------------------------------------------------------------------\u001b[0m",
      "\u001b[0;31mModuleNotFoundError\u001b[0m                       Traceback (most recent call last)",
      "Input \u001b[0;32mIn [28]\u001b[0m, in \u001b[0;36m<cell line: 1>\u001b[0;34m()\u001b[0m\n\u001b[0;32m----> 1\u001b[0m \u001b[38;5;28;01mimport\u001b[39;00m \u001b[38;5;21;01mtorch\u001b[39;00m\n",
      "\u001b[0;31mModuleNotFoundError\u001b[0m: No module named 'torch'"
     ]
    }
   ],
   "source": [
    "import torch"
   ]
  },
  {
   "cell_type": "code",
   "execution_count": 29,
   "id": "dcb30d81-3d16-439d-ae57-04e591b53313",
   "metadata": {},
   "outputs": [
    {
     "ename": "NameError",
     "evalue": "name 'torch' is not defined",
     "output_type": "error",
     "traceback": [
      "\u001b[0;31m---------------------------------------------------------------------------\u001b[0m",
      "\u001b[0;31mNameError\u001b[0m                                 Traceback (most recent call last)",
      "Input \u001b[0;32mIn [29]\u001b[0m, in \u001b[0;36m<cell line: 1>\u001b[0;34m()\u001b[0m\n\u001b[0;32m----> 1\u001b[0m rand \u001b[38;5;241m=\u001b[39m \u001b[43mtorch\u001b[49m\u001b[38;5;241m.\u001b[39mrandperm()\n",
      "\u001b[0;31mNameError\u001b[0m: name 'torch' is not defined"
     ]
    }
   ],
   "source": [
    "rand = torch.randperm()"
   ]
  },
  {
   "cell_type": "code",
   "execution_count": 32,
   "id": "2fa0ec55-0f37-4a76-b52f-53857516e24e",
   "metadata": {},
   "outputs": [],
   "source": [
    "class Animal:\n",
    "    def __init__(self, species):\n",
    "        self.species = species\n",
    "    \n",
    "    def __ne__(self, other):\n",
    "        if isinstance(other, Animal) and self.species == other.species:\n",
    "            return False\n",
    "        else:\n",
    "            return True"
   ]
  },
  {
   "cell_type": "markdown",
   "id": "856a50fd-f050-4cdf-a15e-bde04920f9e9",
   "metadata": {},
   "source": [
    "### PyTorch"
   ]
  },
  {
   "cell_type": "code",
   "execution_count": null,
   "id": "97266f3a-9d49-462c-88e4-9c4c7a1e595f",
   "metadata": {},
   "outputs": [],
   "source": [
    "class SamplerDemo:\n",
    "    def __init__(self, ds, bs, shuffle):\n",
    "        self.ds = len(ds)\n",
    "        self.bs = bs\n",
    "        self.shuffle = shuffle\n",
    "    \n",
    "    def __iter__(self):\n",
    "        idxs = torch.randperm(ds) if self.shuffle = True else torch.arange(0, ds)"
   ]
  },
  {
   "cell_type": "code",
   "execution_count": 30,
   "id": "6fd1a047-3cfd-4d1f-8c9c-e5e982d5ef4e",
   "metadata": {},
   "outputs": [],
   "source": [
    "class DataLoader:\n",
    "    def __init__(self, ds, bs):\n",
    "        self.ds = ds\n",
    "        self.bs = bs\n",
    "    \n",
    "    def __iter__(self):\n",
    "        pass"
   ]
  },
  {
   "cell_type": "code",
   "execution_count": 31,
   "id": "451b047d-f5d2-4ca7-988c-87f457bcad77",
   "metadata": {},
   "outputs": [],
   "source": [
    "class Dataset:\n",
    "    def __init__(self, x, y):\n",
    "        self.x = x\n",
    "        self.y = y\n",
    "    \n",
    "    def __getitem__(self, idx):\n",
    "        return self.x[idx], self.y[idx]"
   ]
  },
  {
   "cell_type": "markdown",
   "id": "d4798f10-f5be-4b64-bc1f-589354d89274",
   "metadata": {},
   "source": [
    "### PyTest"
   ]
  },
  {
   "cell_type": "code",
   "execution_count": 33,
   "id": "ac9d7ee8-b398-445a-95eb-5e141a84f3b8",
   "metadata": {},
   "outputs": [
    {
     "ename": "ModuleNotFoundError",
     "evalue": "No module named 'pytest'",
     "output_type": "error",
     "traceback": [
      "\u001b[0;31m---------------------------------------------------------------------------\u001b[0m",
      "\u001b[0;31mModuleNotFoundError\u001b[0m                       Traceback (most recent call last)",
      "Input \u001b[0;32mIn [33]\u001b[0m, in \u001b[0;36m<cell line: 1>\u001b[0;34m()\u001b[0m\n\u001b[0;32m----> 1\u001b[0m \u001b[38;5;28;01mimport\u001b[39;00m \u001b[38;5;21;01mpytest\u001b[39;00m\n",
      "\u001b[0;31mModuleNotFoundError\u001b[0m: No module named 'pytest'"
     ]
    }
   ],
   "source": [
    "import pytest"
   ]
  },
  {
   "cell_type": "code",
   "execution_count": 34,
   "id": "3bd77320-3e9b-442b-9141-b0da7e17b37a",
   "metadata": {},
   "outputs": [
    {
     "ename": "NameError",
     "evalue": "name 'pytest' is not defined",
     "output_type": "error",
     "traceback": [
      "\u001b[0;31m---------------------------------------------------------------------------\u001b[0m",
      "\u001b[0;31mNameError\u001b[0m                                 Traceback (most recent call last)",
      "Input \u001b[0;32mIn [34]\u001b[0m, in \u001b[0;36m<cell line: 1>\u001b[0;34m()\u001b[0m\n\u001b[0;32m----> 1\u001b[0m \u001b[38;5;129m@pytest\u001b[39m\u001b[38;5;241m.\u001b[39mmark\u001b[38;5;241m.\u001b[39mparametrize(\n\u001b[1;32m      2\u001b[0m     (\u001b[38;5;124m\"\u001b[39m\u001b[38;5;124mtest_input\u001b[39m\u001b[38;5;124m\"\u001b[39m, \u001b[38;5;124m\"\u001b[39m\u001b[38;5;124mexpected\u001b[39m\u001b[38;5;124m\"\u001b[39m),\n\u001b[1;32m      3\u001b[0m     ([\u001b[38;5;241m1\u001b[39m, \u001b[38;5;241m1\u001b[39m], (\u001b[38;5;241m2\u001b[39m, \u001b[38;5;241m4\u001b[39m))\n\u001b[1;32m      4\u001b[0m )\n\u001b[1;32m      5\u001b[0m \u001b[38;5;28;01mdef\u001b[39;00m \u001b[38;5;21mtest_square\u001b[39m(test_input, expected):\n\u001b[1;32m      6\u001b[0m     \u001b[38;5;28;01massert\u001b[39;00m square(test_input) \u001b[38;5;241m==\u001b[39m expected\n",
      "\u001b[0;31mNameError\u001b[0m: name 'pytest' is not defined"
     ]
    }
   ],
   "source": [
    "@pytest.mark.parametrize(\n",
    "    (\"test_input\", \"expected\"),\n",
    "    ([1, 1], (2, 4))\n",
    ")\n",
    "def test_square(test_input, expected):\n",
    "    assert square(test_input) == expected"
   ]
  },
  {
   "cell_type": "code",
   "execution_count": 35,
   "id": "31e9a6bb-6934-4ed1-b4c6-79fe6b81c7a4",
   "metadata": {},
   "outputs": [
    {
     "ename": "NameError",
     "evalue": "name 'dic' is not defined",
     "output_type": "error",
     "traceback": [
      "\u001b[0;31m---------------------------------------------------------------------------\u001b[0m",
      "\u001b[0;31mNameError\u001b[0m                                 Traceback (most recent call last)",
      "Input \u001b[0;32mIn [35]\u001b[0m, in \u001b[0;36m<cell line: 1>\u001b[0;34m()\u001b[0m\n\u001b[0;32m----> 1\u001b[0m d \u001b[38;5;241m=\u001b[39m {k:v\u001b[38;5;241m*\u001b[39m\u001b[38;5;241m*\u001b[39m\u001b[38;5;241m2\u001b[39m \u001b[38;5;28;01mfor\u001b[39;00m k, v \u001b[38;5;129;01min\u001b[39;00m \u001b[43mdic\u001b[49m\u001b[38;5;241m.\u001b[39mitems()}\n",
      "\u001b[0;31mNameError\u001b[0m: name 'dic' is not defined"
     ]
    }
   ],
   "source": [
    "d = {k:v**2 for k, v in dic.items()}"
   ]
  },
  {
   "cell_type": "code",
   "execution_count": null,
   "id": "0a5e70fe-b6fc-4cad-9735-bf4a03da92b1",
   "metadata": {},
   "outputs": [],
   "source": [
    "def extra_second(func):\n",
    "    def wrapper(*args, **kwargs):\n",
    "        ...\n",
    "        func(*args, **kwargs)\n",
    "        ...\n",
    "    return wrapper"
   ]
  }
 ],
 "metadata": {
  "kernelspec": {
   "display_name": "Python 3 (ipykernel)",
   "language": "python",
   "name": "python3"
  },
  "language_info": {
   "codemirror_mode": {
    "name": "ipython",
    "version": 3
   },
   "file_extension": ".py",
   "mimetype": "text/x-python",
   "name": "python",
   "nbconvert_exporter": "python",
   "pygments_lexer": "ipython3",
   "version": "3.9.13"
  }
 },
 "nbformat": 4,
 "nbformat_minor": 5
}
