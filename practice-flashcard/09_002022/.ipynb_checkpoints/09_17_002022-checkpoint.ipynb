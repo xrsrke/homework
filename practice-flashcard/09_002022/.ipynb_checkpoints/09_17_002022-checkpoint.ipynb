{
 "cells": [
  {
   "cell_type": "markdown",
   "id": "f1d6bde2-ae49-454a-87e2-e17b09fdc11c",
   "metadata": {},
   "source": [
    "### Python"
   ]
  },
  {
   "cell_type": "code",
   "execution_count": null,
   "id": "f2aaebe3-494b-4d55-9d43-f149641f5916",
   "metadata": {},
   "outputs": [],
   "source": [
    "from enum import Enum"
   ]
  },
  {
   "cell_type": "code",
   "execution_count": null,
   "id": "091ce469-f08b-4f20-8499-bd9097005e57",
   "metadata": {},
   "outputs": [],
   "source": [
    "class Classrom:\n",
    "    def __init__(self):\n",
    "        self._students = {}\n",
    "    \n",
    "    def __setattr__(self, k, v):\n",
    "        if not k.startwiths('_'): self._students[k] = v\n",
    "        super().__setattr__(k, v)"
   ]
  },
  {
   "cell_type": "code",
   "execution_count": null,
   "id": "1554156e-606d-4093-8041-8b09c21d7641",
   "metadata": {},
   "outputs": [],
   "source": [
    "class Vehicle:\n",
    "    def say_hello(self): pass\n",
    "    \n",
    "    def func(self):\n",
    "        new_instance = self.__class__()\n",
    "        return new_instance.say_hello()"
   ]
  },
  {
   "cell_type": "code",
   "execution_count": null,
   "id": "b194fb30-9149-471a-981f-7e95c30afe7d",
   "metadata": {},
   "outputs": [],
   "source": [
    "from dataclasses import dataclass, field"
   ]
  },
  {
   "cell_type": "code",
   "execution_count": null,
   "id": "35c47675-6d77-47bb-bef1-84f8cd9fcace",
   "metadata": {},
   "outputs": [],
   "source": [
    "@dataclass(order=True)\n",
    "class Camera:\n",
    "    resolution: int = field(compare=True)\n",
    "    size: int = field(compare=False)\n",
    "    mass: int = field(compare=False)"
   ]
  },
  {
   "cell_type": "code",
   "execution_count": null,
   "id": "e7a72395-6207-44f8-8c2d-6751cf69234e",
   "metadata": {},
   "outputs": [
    {
     "ename": "SyntaxError",
     "evalue": "invalid syntax (3292705982.py, line 2)",
     "output_type": "error",
     "traceback": [
      "\u001b[0;36m  Input \u001b[0;32mIn [17]\u001b[0;36m\u001b[0m\n\u001b[0;31m    def wrapper(*args, *kwargs):\u001b[0m\n\u001b[0m                       ^\u001b[0m\n\u001b[0;31mSyntaxError\u001b[0m\u001b[0;31m:\u001b[0m invalid syntax\n"
     ]
    }
   ],
   "source": [
    "def extra_second(func):\n",
    "    def wrapper(*args, *kwargs):\n",
    "        ...\n",
    "        func(*args, *kwargs)\n",
    "        ...\n",
    "    return wrapper()"
   ]
  },
  {
   "cell_type": "code",
   "execution_count": null,
   "id": "3d07a402-0b61-4828-bad8-d8bec90e9f01",
   "metadata": {},
   "outputs": [
    {
     "ename": "ModuleNotFoundError",
     "evalue": "No module named 'pytest'",
     "output_type": "error",
     "traceback": [
      "\u001b[0;31m---------------------------------------------------------------------------\u001b[0m",
      "\u001b[0;31mModuleNotFoundError\u001b[0m                       Traceback (most recent call last)",
      "Input \u001b[0;32mIn [18]\u001b[0m, in \u001b[0;36m<cell line: 1>\u001b[0;34m()\u001b[0m\n\u001b[0;32m----> 1\u001b[0m \u001b[38;5;28;01mimport\u001b[39;00m \u001b[38;5;21;01mpytest\u001b[39;00m\n",
      "\u001b[0;31mModuleNotFoundError\u001b[0m: No module named 'pytest'"
     ]
    }
   ],
   "source": [
    "import pytest"
   ]
  },
  {
   "cell_type": "code",
   "execution_count": null,
   "id": "55994e66-188d-4789-abb5-319baa6ea192",
   "metadata": {},
   "outputs": [],
   "source": [
    "class Book:\n",
    "    def __init__(self, name): self.name = name"
   ]
  },
  {
   "cell_type": "code",
   "execution_count": null,
   "id": "4a240124-e346-4875-8e8f-11851412f7b0",
   "metadata": {},
   "outputs": [],
   "source": [
    "def book():\n",
    "    return Book(\"AV\")"
   ]
  },
  {
   "cell_type": "code",
   "execution_count": null,
   "id": "b74ca97a-c19a-46b2-91ab-2fe763d07061",
   "metadata": {},
   "outputs": [],
   "source": [
    "# def test_book(book):\n",
    "#     assert book.name == \"\""
   ]
  },
  {
   "cell_type": "code",
   "execution_count": null,
   "id": "9e7b097c-3536-4b62-843e-9fe5af76af1e",
   "metadata": {},
   "outputs": [],
   "source": [
    "class LinkedList:\n",
    "    def __init__(self, value):\n",
    "        node = Node(value)\n",
    "        self.node = node\n",
    "        self.tail = node\n",
    "        self.length = 1\n",
    "    \n",
    "    def append(self, value):\n",
    "        node = Node(value)\n",
    "        if self.head == None:\n",
    "            self.head = node\n",
    "            self.tail = node\n",
    "        else:\n",
    "            self.tail = node\n",
    "        \n",
    "        self.length += 1"
   ]
  },
  {
   "cell_type": "markdown",
   "id": "15b3c609-5fdd-4f9a-aea8-a689939ba554",
   "metadata": {},
   "source": [
    "### FastAI Part 2"
   ]
  },
  {
   "cell_type": "code",
   "execution_count": null,
   "id": "d30f710b-fe05-406e-bf6c-62cccde4aa1c",
   "metadata": {},
   "outputs": [],
   "source": [
    "class Dataset:\n",
    "    def __init__(self, x, y):\n",
    "        self.x = x\n",
    "        self.y = y\n",
    "    \n",
    "    def __getitem__(self, idx):\n",
    "        return self.x[idx], self.y[idx]"
   ]
  },
  {
   "cell_type": "markdown",
   "id": "b65524f0-12de-4891-8492-2a1e4cec0a9c",
   "metadata": {},
   "source": [
    "### SymPy"
   ]
  },
  {
   "cell_type": "code",
   "execution_count": null,
   "id": "8c79eade-7a4a-45a3-9845-409139e2690d",
   "metadata": {},
   "outputs": [],
   "source": []
  },
  {
   "cell_type": "code",
   "execution_count": null,
   "id": "927c7dde-e461-403f-a735-bffd95c49c77",
   "metadata": {},
   "outputs": [],
   "source": [
    "f.subs([(x, 2)]).evalf()"
   ]
  },
  {
   "cell_type": "code",
   "execution_count": null,
   "id": "d329e133-0c43-4537-b463-a7fc0119e32b",
   "metadata": {},
   "outputs": [],
   "source": [
    "expr.subs([(x, 3), (y, -2)])"
   ]
  },
  {
   "cell_type": "code",
   "execution_count": null,
   "id": "01987529-1416-4266-b54f-afb608d3ca63",
   "metadata": {},
   "outputs": [],
   "source": [
    "smp.solve([eq1, eq2], (x, y))"
   ]
  },
  {
   "cell_type": "code",
   "execution_count": null,
   "id": "7f3c41a7-688d-4e93-b141-46ae9684e168",
   "metadata": {},
   "outputs": [],
   "source": [
    "import sympy as smp"
   ]
  },
  {
   "cell_type": "code",
   "execution_count": null,
   "id": "9541e0cf-67c3-4e3a-aacd-b8dde5d6d633",
   "metadata": {},
   "outputs": [],
   "source": [
    "x = smp.symbols('x')"
   ]
  },
  {
   "cell_type": "code",
   "execution_count": null,
   "id": "414879cd-3311-4a21-bf4e-82c952f691d0",
   "metadata": {},
   "outputs": [],
   "source": [
    "f, g = smp.symbols('f g', cls=smp.Function)"
   ]
  },
  {
   "cell_type": "code",
   "execution_count": null,
   "id": "95bd2663-bbc3-4113-aca7-603fe9f88098",
   "metadata": {},
   "outputs": [],
   "source": [
    "g = g(x)"
   ]
  },
  {
   "cell_type": "code",
   "execution_count": null,
   "id": "ec2f9460-7003-4407-b2b1-0617d112f248",
   "metadata": {},
   "outputs": [
    {
     "data": {
      "text/latex": [
       "$\\displaystyle g{\\left(x \\right)}$"
      ],
      "text/plain": [
       "g(x)"
      ]
     },
     "execution_count": null,
     "metadata": {},
     "output_type": "execute_result"
    }
   ],
   "source": [
    "g"
   ]
  },
  {
   "cell_type": "code",
   "execution_count": null,
   "id": "32b834eb-d75c-41c0-b2a3-cba7c2c2e118",
   "metadata": {},
   "outputs": [],
   "source": [
    "f = x + g"
   ]
  },
  {
   "cell_type": "code",
   "execution_count": null,
   "id": "a86c8495-b9bb-4eee-a64b-e218c4035234",
   "metadata": {},
   "outputs": [
    {
     "data": {
      "text/latex": [
       "$\\displaystyle x + g{\\left(x \\right)}$"
      ],
      "text/plain": [
       "x + g(x)"
      ]
     },
     "execution_count": null,
     "metadata": {},
     "output_type": "execute_result"
    }
   ],
   "source": [
    "f"
   ]
  },
  {
   "cell_type": "code",
   "execution_count": null,
   "id": "ef501247-65c3-4bc0-ac69-90029deb0dff",
   "metadata": {},
   "outputs": [],
   "source": [
    "f.subs([(x, 3), (y, 2*z)])"
   ]
  },
  {
   "cell_type": "code",
   "execution_count": null,
   "id": "aae2114b-7db0-4f60-a5ea-0a0c6c219f5d",
   "metadata": {},
   "outputs": [],
   "source": [
    "x, y = smp.symbols('x y')"
   ]
  },
  {
   "cell_type": "code",
   "execution_count": null,
   "id": "857c82d4-4bc3-44de-bdf0-e973879ef590",
   "metadata": {},
   "outputs": [],
   "source": [
    "y = smp.sin(x)"
   ]
  },
  {
   "cell_type": "code",
   "execution_count": null,
   "id": "d2a0f4af-8d8f-4aa5-9b71-e90e4b80cf3f",
   "metadata": {},
   "outputs": [
    {
     "data": {
      "text/latex": [
       "$\\displaystyle \\sin{\\left(x \\right)}$"
      ],
      "text/plain": [
       "sin(x)"
      ]
     },
     "execution_count": null,
     "metadata": {},
     "output_type": "execute_result"
    }
   ],
   "source": [
    "y"
   ]
  },
  {
   "cell_type": "code",
   "execution_count": null,
   "id": "c366cb43-f132-4631-a431-e968494d9a59",
   "metadata": {},
   "outputs": [],
   "source": [
    "x, y = smp.symbols('x y')"
   ]
  },
  {
   "cell_type": "code",
   "execution_count": null,
   "id": "b081fb3d-2cda-493d-b70a-bd98ebdef70e",
   "metadata": {},
   "outputs": [
    {
     "data": {
      "text/latex": [
       "$\\displaystyle x = y$"
      ],
      "text/plain": [
       "Eq(x, y)"
      ]
     },
     "execution_count": null,
     "metadata": {},
     "output_type": "execute_result"
    }
   ],
   "source": [
    "smp.Eq(x, y)"
   ]
  },
  {
   "cell_type": "code",
   "execution_count": null,
   "id": "c66be794-83a1-4308-b5ad-0501b079a9ed",
   "metadata": {},
   "outputs": [
    {
     "data": {
      "text/latex": [
       "$\\displaystyle x^{\\frac{3}{2}}$"
      ],
      "text/plain": [
       "x**(3/2)"
      ]
     },
     "execution_count": null,
     "metadata": {},
     "output_type": "execute_result"
    }
   ],
   "source": [
    "x**smp.Rational(3, 2)"
   ]
  },
  {
   "cell_type": "code",
   "execution_count": null,
   "id": "722af4d9-5710-4c83-951f-2f81287027a7",
   "metadata": {},
   "outputs": [],
   "source": [
    "smp.lamdify([x, y], expr)"
   ]
  },
  {
   "cell_type": "code",
   "execution_count": null,
   "id": "e5539b63-391d-42e7-8064-ecd8fa40c4b3",
   "metadata": {},
   "outputs": [],
   "source": [
    "smp.solve(f, x )"
   ]
  },
  {
   "cell_type": "code",
   "execution_count": null,
   "id": "8fb93fc8-2981-4a6e-ab90-216d78564cd9",
   "metadata": {},
   "outputs": [],
   "source": [
    "x = smp.symbols('x')"
   ]
  },
  {
   "cell_type": "code",
   "execution_count": null,
   "id": "33e51147-cce3-44f6-af6c-57ccea768429",
   "metadata": {},
   "outputs": [],
   "source": [
    "f, g = smp.symbols('f g', cls=smp.Function)"
   ]
  },
  {
   "cell_type": "code",
   "execution_count": null,
   "id": "c846704a-a684-42ab-b280-163bb567c7e9",
   "metadata": {},
   "outputs": [],
   "source": [
    "g = g(x)"
   ]
  },
  {
   "cell_type": "code",
   "execution_count": null,
   "id": "c510e453-3f03-4b86-b2af-5a1f8cf14e24",
   "metadata": {},
   "outputs": [],
   "source": [
    "f = x + g"
   ]
  },
  {
   "cell_type": "code",
   "execution_count": null,
   "id": "44e5a45f-eb77-4fae-b5ba-4fb4e1f32f57",
   "metadata": {},
   "outputs": [
    {
     "data": {
      "text/latex": [
       "$\\displaystyle x + g{\\left(x \\right)}$"
      ],
      "text/plain": [
       "x + g(x)"
      ]
     },
     "execution_count": null,
     "metadata": {},
     "output_type": "execute_result"
    }
   ],
   "source": [
    "f"
   ]
  },
  {
   "cell_type": "markdown",
   "id": "5906d36e-0499-4e64-add0-17d2d9dd2ea0",
   "metadata": {},
   "source": [
    "### Numpy"
   ]
  },
  {
   "cell_type": "code",
   "execution_count": null,
   "id": "21c7604a-3e6a-4b9f-8734-80bf0275c0f7",
   "metadata": {},
   "outputs": [],
   "source": [
    "import numpy as np"
   ]
  },
  {
   "cell_type": "code",
   "execution_count": null,
   "id": "20a56bb0-b547-481e-8b64-1ababd8112dd",
   "metadata": {},
   "outputs": [],
   "source": [
    "a = np.arange(0, 8)"
   ]
  },
  {
   "cell_type": "code",
   "execution_count": null,
   "id": "b99e24ee-fa51-49f5-9463-4c8485be9c02",
   "metadata": {},
   "outputs": [
    {
     "data": {
      "text/plain": [
       "array([0, 1, 2, 3, 4, 5, 6, 7])"
      ]
     },
     "execution_count": null,
     "metadata": {},
     "output_type": "execute_result"
    }
   ],
   "source": [
    "a"
   ]
  },
  {
   "cell_type": "code",
   "execution_count": null,
   "id": "d4d62cc9-a96c-46ad-9381-ca45564aa8b7",
   "metadata": {},
   "outputs": [],
   "source": [
    "idx = (a >= 1) * (a <= 4)"
   ]
  },
  {
   "cell_type": "code",
   "execution_count": null,
   "id": "4c9fe8c1-78d3-4811-8894-37b87c66944f",
   "metadata": {},
   "outputs": [
    {
     "data": {
      "text/plain": [
       "array([1, 2, 3, 4])"
      ]
     },
     "execution_count": null,
     "metadata": {},
     "output_type": "execute_result"
    }
   ],
   "source": [
    "a[idx]"
   ]
  },
  {
   "cell_type": "markdown",
   "id": "158bfa08-f588-44d3-9542-80f1510d3d2f",
   "metadata": {},
   "source": [
    "### SciPy"
   ]
  },
  {
   "cell_type": "code",
   "execution_count": null,
   "id": "a373de51-b1af-4f52-8e5d-7cd30da37c94",
   "metadata": {},
   "outputs": [],
   "source": [
    "from scipy.integrate import dblquad"
   ]
  },
  {
   "cell_type": "code",
   "execution_count": null,
   "id": "837b3350-390d-46a0-8657-b4b5614b15bc",
   "metadata": {},
   "outputs": [],
   "source": [
    "y_upper = lambda x: x**2"
   ]
  },
  {
   "cell_type": "code",
   "execution_count": null,
   "id": "57aecbc7-351c-4082-9641-ecfb405671d4",
   "metadata": {},
   "outputs": [],
   "source": [
    "y_lower = lambda x: -x"
   ]
  },
  {
   "cell_type": "code",
   "execution_count": null,
   "id": "8eafc3d4-99b1-4299-814f-366f620b45ce",
   "metadata": {},
   "outputs": [],
   "source": [
    "#dblquad(f, (x, 0, 1), (y, y_lower, y_upper))"
   ]
  },
  {
   "cell_type": "code",
   "execution_count": null,
   "id": "70acaad5-dcc9-43ad-8aeb-177422aa2616",
   "metadata": {},
   "outputs": [],
   "source": [
    "#dblquad(f, 0, 1, y_lower, y_upper)"
   ]
  },
  {
   "cell_type": "code",
   "execution_count": null,
   "id": "65d2e092-dbc1-455e-83d5-2a2dd8397c1d",
   "metadata": {},
   "outputs": [],
   "source": [
    "def f(x):\n",
    "    return np.sin(x + y**2)"
   ]
  },
  {
   "cell_type": "code",
   "execution_count": null,
   "id": "e9b955cf-85b1-450e-bb52-6d64bf62c1cd",
   "metadata": {},
   "outputs": [],
   "source": [
    "def f(x):\n",
    "    return x**2 * np.sin(2*x) * np.exp(-x)"
   ]
  },
  {
   "cell_type": "code",
   "execution_count": null,
   "id": "696a7b5b-4642-45dc-b36d-58608cc1f237",
   "metadata": {},
   "outputs": [],
   "source": [
    "diff(f, x, dx=1e)"
   ]
  },
  {
   "cell_type": "markdown",
   "id": "2819dc19-f9ea-40de-b6bf-e8579f74a824",
   "metadata": {},
   "source": [
    "### PyTorch"
   ]
  },
  {
   "cell_type": "markdown",
   "id": "4536973b-7740-43cb-98cf-a5eaf9bbd631",
   "metadata": {},
   "source": [
    "##### Relu"
   ]
  },
  {
   "cell_type": "code",
   "execution_count": null,
   "id": "73a96434-d18e-4695-ad13-760df18233b1",
   "metadata": {},
   "outputs": [],
   "source": [
    "import torch\n",
    "import torch.nn as nn"
   ]
  },
  {
   "cell_type": "code",
   "execution_count": null,
   "id": "fd848e83-4b17-40cd-a9c0-f47023ea93ae",
   "metadata": {},
   "outputs": [],
   "source": [
    "ReLU = torch.nn.ReLU()"
   ]
  },
  {
   "cell_type": "markdown",
   "id": "e09063b1-bf7c-4dcd-b592-a364ecb61552",
   "metadata": {},
   "source": [
    "##### Cross-entropy loss"
   ]
  },
  {
   "cell_type": "code",
   "execution_count": null,
   "id": "f5c915e5-f0c5-494e-8efe-2b2cf9566419",
   "metadata": {},
   "outputs": [],
   "source": [
    "loss = nn.CrossEntropyLoss()"
   ]
  },
  {
   "cell_type": "markdown",
   "id": "9f774e16-50d5-4ef2-930d-ed10e3321e87",
   "metadata": {},
   "source": [
    "##### Negative Log-Likelihood"
   ]
  },
  {
   "cell_type": "code",
   "execution_count": null,
   "id": "e61f4b17-5656-4420-967d-26ded1290027",
   "metadata": {},
   "outputs": [],
   "source": [
    "loss = nn.NLLLoss()"
   ]
  },
  {
   "cell_type": "markdown",
   "id": "6fea77dc-b3b5-4961-a2e9-55163423c9fd",
   "metadata": {},
   "source": [
    "##### Softmax"
   ]
  },
  {
   "cell_type": "code",
   "execution_count": null,
   "id": "8a059541-d480-46f2-8884-1caff2a44888",
   "metadata": {},
   "outputs": [],
   "source": [
    "loss = nn.Softmax()"
   ]
  },
  {
   "cell_type": "markdown",
   "id": "f8b133fc-cfdf-4918-8d5b-befbd4423e0a",
   "metadata": {},
   "source": [
    "##### MSE Loss"
   ]
  },
  {
   "cell_type": "code",
   "execution_count": null,
   "id": "919876ae-7b7a-4ac5-a59d-4f2c7279131d",
   "metadata": {},
   "outputs": [],
   "source": [
    "loss = nn.MSELoss()"
   ]
  },
  {
   "cell_type": "markdown",
   "id": "01f123e9-1b48-45b1-970d-44379fbcf056",
   "metadata": {},
   "source": [
    "##### Signmoid"
   ]
  },
  {
   "cell_type": "code",
   "execution_count": null,
   "id": "69245725-ddf6-4ae5-af77-60171ff6c6ca",
   "metadata": {},
   "outputs": [],
   "source": [
    "signmoid = nn.Sigmoid()"
   ]
  },
  {
   "cell_type": "code",
   "execution_count": null,
   "id": "01557a57-7016-4fb5-951e-966c044cfd91",
   "metadata": {},
   "outputs": [],
   "source": []
  }
 ],
 "metadata": {
  "kernelspec": {
   "display_name": "Python 3 (ipykernel)",
   "language": "python",
   "name": "python3"
  }
 },
 "nbformat": 4,
 "nbformat_minor": 5
}
