{
 "cells": [
  {
   "cell_type": "markdown",
   "id": "0eb9ea9e-c29e-4701-b6fa-cc7ba7b52956",
   "metadata": {},
   "source": [
    "### Deep Learning"
   ]
  },
  {
   "cell_type": "code",
   "execution_count": 1,
   "id": "33cb40b8-aafc-4585-a678-b8dcadcfda46",
   "metadata": {},
   "outputs": [],
   "source": [
    "import numpy as np"
   ]
  },
  {
   "cell_type": "code",
   "execution_count": 2,
   "id": "3cd0a80c-a666-423d-8072-d7308ac934e2",
   "metadata": {},
   "outputs": [],
   "source": [
    "def softmax(x):\n",
    "    return np.exp(x)/np.sum(np.exp(x))"
   ]
  },
  {
   "cell_type": "code",
   "execution_count": 3,
   "id": "ae4b1531-4e0a-4c61-8058-75441e9847c7",
   "metadata": {},
   "outputs": [],
   "source": [
    "def sigmoid(x):\n",
    "    return 1 / 1 + np.exp(-x)"
   ]
  },
  {
   "cell_type": "code",
   "execution_count": 16,
   "id": "26d5e777-445c-43eb-b8b2-80ece8f06f74",
   "metadata": {},
   "outputs": [],
   "source": [
    "def relu(x):\n",
    "    return np.max(0, x)"
   ]
  },
  {
   "cell_type": "code",
   "execution_count": 20,
   "id": "565724b8-dafd-4b5d-ba29-3d694eec94ef",
   "metadata": {},
   "outputs": [],
   "source": [
    "inputs = np.arange(-5, 5, dtype=float)"
   ]
  },
  {
   "cell_type": "code",
   "execution_count": 21,
   "id": "b1b78554-bf50-4c3e-8cb4-e8e6ed07788c",
   "metadata": {},
   "outputs": [
    {
     "data": {
      "text/plain": [
       "array([-5., -4., -3., -2., -1.,  0.,  1.,  2.,  3.,  4.])"
      ]
     },
     "execution_count": 21,
     "metadata": {},
     "output_type": "execute_result"
    }
   ],
   "source": [
    "inputs"
   ]
  },
  {
   "cell_type": "code",
   "execution_count": 22,
   "id": "2bae92dd-2c06-48dc-9694-7703a3fec33e",
   "metadata": {},
   "outputs": [
    {
     "ename": "TypeError",
     "evalue": "only integer scalar arrays can be converted to a scalar index",
     "output_type": "error",
     "traceback": [
      "\u001b[0;31m---------------------------------------------------------------------------\u001b[0m",
      "\u001b[0;31mTypeError\u001b[0m                                 Traceback (most recent call last)",
      "Input \u001b[0;32mIn [22]\u001b[0m, in \u001b[0;36m<cell line: 1>\u001b[0;34m()\u001b[0m\n\u001b[0;32m----> 1\u001b[0m \u001b[43mrelu\u001b[49m\u001b[43m(\u001b[49m\u001b[43minputs\u001b[49m\u001b[43m)\u001b[49m\n",
      "Input \u001b[0;32mIn [16]\u001b[0m, in \u001b[0;36mrelu\u001b[0;34m(x)\u001b[0m\n\u001b[1;32m      1\u001b[0m \u001b[38;5;28;01mdef\u001b[39;00m \u001b[38;5;21mrelu\u001b[39m(x):\n\u001b[0;32m----> 2\u001b[0m     \u001b[38;5;28;01mreturn\u001b[39;00m \u001b[43mnp\u001b[49m\u001b[38;5;241;43m.\u001b[39;49m\u001b[43mmax\u001b[49m\u001b[43m(\u001b[49m\u001b[38;5;241;43m0\u001b[39;49m\u001b[43m,\u001b[49m\u001b[43m \u001b[49m\u001b[43mx\u001b[49m\u001b[43m)\u001b[49m\n",
      "File \u001b[0;32m<__array_function__ internals>:180\u001b[0m, in \u001b[0;36mamax\u001b[0;34m(*args, **kwargs)\u001b[0m\n",
      "File \u001b[0;32m/opt/anaconda3/envs/tinypytorch/lib/python3.9/site-packages/numpy/core/fromnumeric.py:2793\u001b[0m, in \u001b[0;36mamax\u001b[0;34m(a, axis, out, keepdims, initial, where)\u001b[0m\n\u001b[1;32m   2677\u001b[0m \u001b[38;5;129m@array_function_dispatch\u001b[39m(_amax_dispatcher)\n\u001b[1;32m   2678\u001b[0m \u001b[38;5;28;01mdef\u001b[39;00m \u001b[38;5;21mamax\u001b[39m(a, axis\u001b[38;5;241m=\u001b[39m\u001b[38;5;28;01mNone\u001b[39;00m, out\u001b[38;5;241m=\u001b[39m\u001b[38;5;28;01mNone\u001b[39;00m, keepdims\u001b[38;5;241m=\u001b[39mnp\u001b[38;5;241m.\u001b[39m_NoValue, initial\u001b[38;5;241m=\u001b[39mnp\u001b[38;5;241m.\u001b[39m_NoValue,\n\u001b[1;32m   2679\u001b[0m          where\u001b[38;5;241m=\u001b[39mnp\u001b[38;5;241m.\u001b[39m_NoValue):\n\u001b[1;32m   2680\u001b[0m     \u001b[38;5;124;03m\"\"\"\u001b[39;00m\n\u001b[1;32m   2681\u001b[0m \u001b[38;5;124;03m    Return the maximum of an array or maximum along an axis.\u001b[39;00m\n\u001b[1;32m   2682\u001b[0m \n\u001b[0;32m   (...)\u001b[0m\n\u001b[1;32m   2791\u001b[0m \u001b[38;5;124;03m    5\u001b[39;00m\n\u001b[1;32m   2792\u001b[0m \u001b[38;5;124;03m    \"\"\"\u001b[39;00m\n\u001b[0;32m-> 2793\u001b[0m     \u001b[38;5;28;01mreturn\u001b[39;00m \u001b[43m_wrapreduction\u001b[49m\u001b[43m(\u001b[49m\u001b[43ma\u001b[49m\u001b[43m,\u001b[49m\u001b[43m \u001b[49m\u001b[43mnp\u001b[49m\u001b[38;5;241;43m.\u001b[39;49m\u001b[43mmaximum\u001b[49m\u001b[43m,\u001b[49m\u001b[43m \u001b[49m\u001b[38;5;124;43m'\u001b[39;49m\u001b[38;5;124;43mmax\u001b[39;49m\u001b[38;5;124;43m'\u001b[39;49m\u001b[43m,\u001b[49m\u001b[43m \u001b[49m\u001b[43maxis\u001b[49m\u001b[43m,\u001b[49m\u001b[43m \u001b[49m\u001b[38;5;28;43;01mNone\u001b[39;49;00m\u001b[43m,\u001b[49m\u001b[43m \u001b[49m\u001b[43mout\u001b[49m\u001b[43m,\u001b[49m\n\u001b[1;32m   2794\u001b[0m \u001b[43m                          \u001b[49m\u001b[43mkeepdims\u001b[49m\u001b[38;5;241;43m=\u001b[39;49m\u001b[43mkeepdims\u001b[49m\u001b[43m,\u001b[49m\u001b[43m \u001b[49m\u001b[43minitial\u001b[49m\u001b[38;5;241;43m=\u001b[39;49m\u001b[43minitial\u001b[49m\u001b[43m,\u001b[49m\u001b[43m \u001b[49m\u001b[43mwhere\u001b[49m\u001b[38;5;241;43m=\u001b[39;49m\u001b[43mwhere\u001b[49m\u001b[43m)\u001b[49m\n",
      "File \u001b[0;32m/opt/anaconda3/envs/tinypytorch/lib/python3.9/site-packages/numpy/core/fromnumeric.py:86\u001b[0m, in \u001b[0;36m_wrapreduction\u001b[0;34m(obj, ufunc, method, axis, dtype, out, **kwargs)\u001b[0m\n\u001b[1;32m     83\u001b[0m         \u001b[38;5;28;01melse\u001b[39;00m:\n\u001b[1;32m     84\u001b[0m             \u001b[38;5;28;01mreturn\u001b[39;00m reduction(axis\u001b[38;5;241m=\u001b[39maxis, out\u001b[38;5;241m=\u001b[39mout, \u001b[38;5;241m*\u001b[39m\u001b[38;5;241m*\u001b[39mpasskwargs)\n\u001b[0;32m---> 86\u001b[0m \u001b[38;5;28;01mreturn\u001b[39;00m \u001b[43mufunc\u001b[49m\u001b[38;5;241;43m.\u001b[39;49m\u001b[43mreduce\u001b[49m\u001b[43m(\u001b[49m\u001b[43mobj\u001b[49m\u001b[43m,\u001b[49m\u001b[43m \u001b[49m\u001b[43maxis\u001b[49m\u001b[43m,\u001b[49m\u001b[43m \u001b[49m\u001b[43mdtype\u001b[49m\u001b[43m,\u001b[49m\u001b[43m \u001b[49m\u001b[43mout\u001b[49m\u001b[43m,\u001b[49m\u001b[43m \u001b[49m\u001b[38;5;241;43m*\u001b[39;49m\u001b[38;5;241;43m*\u001b[39;49m\u001b[43mpasskwargs\u001b[49m\u001b[43m)\u001b[49m\n",
      "\u001b[0;31mTypeError\u001b[0m: only integer scalar arrays can be converted to a scalar index"
     ]
    }
   ],
   "source": [
    "relu(inputs)"
   ]
  },
  {
   "cell_type": "markdown",
   "id": "a69b3051-c357-4345-b5b5-ed1b34654b9d",
   "metadata": {},
   "source": [
    "### Matplotlib"
   ]
  },
  {
   "cell_type": "code",
   "execution_count": 23,
   "id": "4e1d945a-fac6-4ed7-a9af-664c83383e8e",
   "metadata": {},
   "outputs": [],
   "source": [
    "from matplotlib import pyplot as plt"
   ]
  },
  {
   "cell_type": "code",
   "execution_count": 24,
   "id": "5d02169e-9048-4e25-8413-4cd0601d6e99",
   "metadata": {},
   "outputs": [
    {
     "ename": "NameError",
     "evalue": "name 'dev_x' is not defined",
     "output_type": "error",
     "traceback": [
      "\u001b[0;31m---------------------------------------------------------------------------\u001b[0m",
      "\u001b[0;31mNameError\u001b[0m                                 Traceback (most recent call last)",
      "Input \u001b[0;32mIn [24]\u001b[0m, in \u001b[0;36m<cell line: 1>\u001b[0;34m()\u001b[0m\n\u001b[0;32m----> 1\u001b[0m plt\u001b[38;5;241m.\u001b[39mplot(\u001b[43mdev_x\u001b[49m, dev_y, label\u001b[38;5;241m=\u001b[39m\u001b[38;5;124m'\u001b[39m\u001b[38;5;124mx\u001b[39m\u001b[38;5;124m'\u001b[39m)\n",
      "\u001b[0;31mNameError\u001b[0m: name 'dev_x' is not defined"
     ]
    }
   ],
   "source": [
    "plt.plot(dev_x, dev_y, label='x')"
   ]
  },
  {
   "cell_type": "markdown",
   "id": "e66e27ec-1375-4e1e-af91-7b5fc4af8ad6",
   "metadata": {},
   "source": [
    "### Scipy"
   ]
  },
  {
   "cell_type": "code",
   "execution_count": 1,
   "id": "de5df594-9052-403b-a8c4-e351b5712cee",
   "metadata": {},
   "outputs": [],
   "source": [
    "from scipy.optimize import minimize"
   ]
  },
  {
   "cell_type": "code",
   "execution_count": 2,
   "id": "4d4af1b0-1dd9-479d-93c2-ddb675a01510",
   "metadata": {},
   "outputs": [],
   "source": [
    "def f(x):\n",
    "    return (x-3)**2"
   ]
  },
  {
   "cell_type": "code",
   "execution_count": 3,
   "id": "df0b3c02-aba7-400a-aac9-2da49dce52f5",
   "metadata": {},
   "outputs": [],
   "source": [
    "res = minimize(f, 2)"
   ]
  },
  {
   "cell_type": "code",
   "execution_count": 4,
   "id": "8e68de1c-e1e9-443f-96d9-4ac1b4072c7c",
   "metadata": {},
   "outputs": [
    {
     "data": {
      "text/plain": [
       "      fun: 5.551437397369767e-17\n",
       " hess_inv: array([[0.5]])\n",
       "      jac: array([-4.3254289e-13])\n",
       "  message: 'Optimization terminated successfully.'\n",
       "     nfev: 6\n",
       "      nit: 2\n",
       "     njev: 3\n",
       "   status: 0\n",
       "  success: True\n",
       "        x: array([2.99999999])"
      ]
     },
     "execution_count": 4,
     "metadata": {},
     "output_type": "execute_result"
    }
   ],
   "source": [
    "res"
   ]
  },
  {
   "cell_type": "markdown",
   "id": "6a1cc99e-d703-4e1f-af44-9fe81abf3505",
   "metadata": {},
   "source": [
    "### Python"
   ]
  },
  {
   "cell_type": "code",
   "execution_count": 7,
   "id": "f5b003da-8477-4db5-915c-f14ba22d1e9d",
   "metadata": {},
   "outputs": [],
   "source": [
    "def extra_decorator(fn):\n",
    "    def wrapper(*args, **kwargs):\n",
    "        ...\n",
    "        fn(*args, **kwargs)\n",
    "        ...\n",
    "    return wrapper"
   ]
  },
  {
   "cell_type": "code",
   "execution_count": 8,
   "id": "98e16bc4-5a32-4179-ad47-a0af1ab2ba71",
   "metadata": {},
   "outputs": [],
   "source": [
    "import pytest"
   ]
  },
  {
   "cell_type": "code",
   "execution_count": 10,
   "id": "4f7fb9ee-ca63-41b8-a577-0284ccbf9708",
   "metadata": {},
   "outputs": [],
   "source": [
    "@pytest.fixture\n",
    "def book():\n",
    "    return Book('x')"
   ]
  },
  {
   "cell_type": "code",
   "execution_count": null,
   "id": "e4f7af32-1f47-434b-be77-0f2f41ddd295",
   "metadata": {},
   "outputs": [],
   "source": [
    "def test_book(book):\n",
    "    assert book...."
   ]
  },
  {
   "cell_type": "code",
   "execution_count": 19,
   "id": "1478dbcf-067b-4056-81cd-e6de86487098",
   "metadata": {},
   "outputs": [],
   "source": [
    "class PhoneField:\n",
    "    def __get__(self, instance, owner):\n",
    "        return self.value\n",
    "    \n",
    "    def __set__(self, instance, value):\n",
    "        self.value = value"
   ]
  },
  {
   "cell_type": "code",
   "execution_count": 20,
   "id": "54a633be-b7fa-4e8b-a9df-6b980b3a4fc3",
   "metadata": {},
   "outputs": [],
   "source": [
    "class Vehicle:\n",
    "    def say_hello(self): return 'hello'\n",
    "\n",
    "    def func(self):\n",
    "        instance = self.__class__()\n",
    "        return instance.say_hello()"
   ]
  },
  {
   "cell_type": "code",
   "execution_count": 21,
   "id": "0a640df3-5cb6-450c-94ba-24fc8f41e1ad",
   "metadata": {},
   "outputs": [],
   "source": [
    "from enum import Enum"
   ]
  },
  {
   "cell_type": "code",
   "execution_count": 22,
   "id": "86f3a837-0d14-4036-a522-4d184fe594de",
   "metadata": {},
   "outputs": [],
   "source": [
    "class Colors(Enum):\n",
    "    RED = 'Red'\n",
    "    ORANGE = 'Orange'\n",
    "    BLUE = 'Blue'\n",
    "    \n",
    "    @property\n",
    "    def is_hot(self):\n",
    "        return self in [Colors.RED, Colors.ORANGE]"
   ]
  },
  {
   "cell_type": "code",
   "execution_count": 25,
   "id": "f0edf364-930f-4f91-ba3a-6ed2b5a743c1",
   "metadata": {},
   "outputs": [],
   "source": [
    "from dataclasses import dataclass"
   ]
  },
  {
   "cell_type": "code",
   "execution_count": 27,
   "id": "ef18e2e4-f50f-499f-bb9b-7c4a69daf2fa",
   "metadata": {},
   "outputs": [],
   "source": [
    "@dataclass\n",
    "class Universe:\n",
    "    constants: int\n",
    "    initial_energy: int = 41\n",
    "    change_in_energy: int = 0"
   ]
  },
  {
   "cell_type": "code",
   "execution_count": 28,
   "id": "9f07871f-6ebf-400c-9247-af8e68ae90ef",
   "metadata": {},
   "outputs": [],
   "source": [
    "class Virus:\n",
    "    KNOWN_VARIANTS = []\n",
    "    def set_variant(self, variant):\n",
    "        pass"
   ]
  },
  {
   "cell_type": "markdown",
   "id": "5874befe-3197-4bfb-97af-eab3ead9e82e",
   "metadata": {},
   "source": [
    "### Design Patterns"
   ]
  },
  {
   "cell_type": "code",
   "execution_count": 17,
   "id": "946f76f3-4e0a-4798-9db5-b4d7b176edcd",
   "metadata": {},
   "outputs": [],
   "source": [
    "class User:\n",
    "    def __init__(self, name):\n",
    "        self.name = name\n",
    "        self.gender = None\n",
    "        self.street = None"
   ]
  },
  {
   "cell_type": "code",
   "execution_count": 18,
   "id": "c9c6b44c-fd5c-4c78-afd8-eaff10be6fdd",
   "metadata": {},
   "outputs": [],
   "source": [
    "class UserBuilder:\n",
    "    def __init__(self, name):\n",
    "        self.user = User(name)\n",
    "    \n",
    "    def setGender(self, gender):\n",
    "        self.user.gender = gender\n",
    "        return self\n",
    "    \n",
    "    def setAddress(self, street):\n",
    "        self.user.street = street\n",
    "        return self\n",
    "    \n",
    "    def build(self):\n",
    "        return self.user"
   ]
  },
  {
   "cell_type": "code",
   "execution_count": 29,
   "id": "2d60d0b2-0a16-4495-bdb1-12af4f239be5",
   "metadata": {},
   "outputs": [],
   "source": [
    "class Creature:\n",
    "    def __init__(self, name, attack, defense):\n",
    "        self.name = name\n",
    "        self.attack = attack\n",
    "        self.defense = defense"
   ]
  },
  {
   "cell_type": "code",
   "execution_count": 32,
   "id": "0705ddd4-f9e0-4690-a8da-add21b0d7595",
   "metadata": {},
   "outputs": [],
   "source": [
    "class CreatureModifier:\n",
    "    def __init__(self, creature):\n",
    "        self.creature = creature\n",
    "    \n",
    "    def add_modifier(self, modifier):\n",
    "        pass"
   ]
  },
  {
   "cell_type": "code",
   "execution_count": 34,
   "id": "32ccdf7d-d393-4f70-83bf-57f0ca7fce8a",
   "metadata": {},
   "outputs": [],
   "source": [
    "class DoubleAttackModifier(CreatureModifier):\n",
    "    pass"
   ]
  },
  {
   "cell_type": "code",
   "execution_count": 35,
   "id": "eac28f2b-0398-4332-b585-2e6a4d737a99",
   "metadata": {},
   "outputs": [
    {
     "ename": "NameError",
     "evalue": "name 'Command' is not defined",
     "output_type": "error",
     "traceback": [
      "\u001b[0;31m---------------------------------------------------------------------------\u001b[0m",
      "\u001b[0;31mNameError\u001b[0m                                 Traceback (most recent call last)",
      "Input \u001b[0;32mIn [35]\u001b[0m, in \u001b[0;36m<cell line: 1>\u001b[0;34m()\u001b[0m\n\u001b[0;32m----> 1\u001b[0m \u001b[38;5;28;01mclass\u001b[39;00m \u001b[38;5;21;01mBankAccountDepositeCommand\u001b[39;00m(\u001b[43mCommand\u001b[49m):\n\u001b[1;32m      2\u001b[0m     \u001b[38;5;28;01mdef\u001b[39;00m \u001b[38;5;21m__init__\u001b[39m(\u001b[38;5;28mself\u001b[39m, account, amount):\n\u001b[1;32m      3\u001b[0m         \u001b[38;5;28mself\u001b[39m\u001b[38;5;241m.\u001b[39maccount \u001b[38;5;241m=\u001b[39m account\n",
      "\u001b[0;31mNameError\u001b[0m: name 'Command' is not defined"
     ]
    }
   ],
   "source": [
    "class BankAccountDepositeCommand(Command):\n",
    "    def __init__(self, account, amount):\n",
    "        self.account = account\n",
    "        self.amount = amount\n",
    "    \n",
    "    def invoke(self):\n",
    "        self.account.deposite(amount)\n",
    "    \n",
    "    def undo(self):\n",
    "        self.account.withdraw(amount)"
   ]
  },
  {
   "cell_type": "code",
   "execution_count": 36,
   "id": "31b536f0-4585-48a2-80d6-c50dad0f6789",
   "metadata": {},
   "outputs": [],
   "source": [
    "def outer():\n",
    "    x = 2\n",
    "    def inner():\n",
    "        global x\n",
    "        x = 3\n",
    "    inner()\n",
    "    print(x)"
   ]
  },
  {
   "cell_type": "code",
   "execution_count": 37,
   "id": "76d14bde-a5b4-48af-bc86-734d82e20fc6",
   "metadata": {},
   "outputs": [
    {
     "name": "stdout",
     "output_type": "stream",
     "text": [
      "2\n"
     ]
    }
   ],
   "source": [
    "outer()"
   ]
  },
  {
   "cell_type": "code",
   "execution_count": null,
   "id": "3ea5118d-5746-4d3a-a712-a16a6de07d16",
   "metadata": {},
   "outputs": [],
   "source": []
  }
 ],
 "metadata": {
  "kernelspec": {
   "display_name": "Python 3 (ipykernel)",
   "language": "python",
   "name": "python3"
  },
  "language_info": {
   "codemirror_mode": {
    "name": "ipython",
    "version": 3
   },
   "file_extension": ".py",
   "mimetype": "text/x-python",
   "name": "python",
   "nbconvert_exporter": "python",
   "pygments_lexer": "ipython3",
   "version": "3.9.13"
  }
 },
 "nbformat": 4,
 "nbformat_minor": 5
}
