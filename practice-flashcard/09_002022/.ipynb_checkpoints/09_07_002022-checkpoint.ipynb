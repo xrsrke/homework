{
 "cells": [
  {
   "cell_type": "markdown",
   "id": "2a61f4ec",
   "metadata": {},
   "source": [
    "### Python OOP"
   ]
  },
  {
   "cell_type": "code",
   "execution_count": null,
   "id": "8d23397c",
   "metadata": {},
   "outputs": [],
   "source": [
    "from typing import Any"
   ]
  },
  {
   "cell_type": "code",
   "execution_count": null,
   "id": "f3289320",
   "metadata": {},
   "outputs": [],
   "source": [
    "from enum import Enum"
   ]
  },
  {
   "cell_type": "code",
   "execution_count": null,
   "id": "aff30648",
   "metadata": {},
   "outputs": [],
   "source": [
    "class Colors(Enum):\n",
    "    RED = \"Red\"\n",
    "    ORANGE = \"Orange\"\n",
    "    BLUE = \"Blue\"\n",
    "    \n",
    "    @property\n",
    "    def is_hot(self):\n",
    "        return self in [Colors.RED, Colors.ORANGE]"
   ]
  },
  {
   "cell_type": "code",
   "execution_count": null,
   "id": "f8c708cc",
   "metadata": {},
   "outputs": [],
   "source": [
    "c = Enum(\"Colors\", ([\"R\", \"Red\"], [\"B\", \"Blue\"]))"
   ]
  },
  {
   "cell_type": "code",
   "execution_count": null,
   "id": "83dafcef",
   "metadata": {},
   "outputs": [
    {
     "data": {
      "text/plain": [
       "<Colors.R: 'Red'>"
      ]
     },
     "execution_count": null,
     "metadata": {},
     "output_type": "execute_result"
    }
   ],
   "source": [
    "c.R"
   ]
  },
  {
   "cell_type": "code",
   "execution_count": null,
   "id": "8f9643ed",
   "metadata": {},
   "outputs": [],
   "source": []
  }
 ],
 "metadata": {
  "kernelspec": {
   "display_name": "Python 3 (ipykernel)",
   "language": "python",
   "name": "python3"
  }
 },
 "nbformat": 4,
 "nbformat_minor": 5
}
