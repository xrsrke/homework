{
 "cells": [
  {
   "cell_type": "markdown",
   "id": "e3fee9fc-c9e7-46a7-924a-4984d0d8b02a",
   "metadata": {},
   "source": [
    "### Deep Learning"
   ]
  },
  {
   "cell_type": "code",
   "execution_count": null,
   "id": "01f19e6f-380a-439f-8a04-df496b1f9812",
   "metadata": {},
   "outputs": [],
   "source": [
    "import torch\n",
    "import numpy as np"
   ]
  },
  {
   "cell_type": "code",
   "execution_count": null,
   "id": "260ecd40-d09f-4e63-93b8-f8419ecefda2",
   "metadata": {},
   "outputs": [],
   "source": [
    "user_factors = torch.randn(11, 5)\n",
    "movie_factors = torch.randn(11, 5)"
   ]
  },
  {
   "cell_type": "code",
   "execution_count": null,
   "id": "f9b619c5-50c5-4ca2-b8ef-99717cfd6b04",
   "metadata": {},
   "outputs": [
    {
     "data": {
      "text/plain": [
       "tensor([[ 0.1390,  2.1344, -0.4938,  1.1083, -0.4719],\n",
       "        [-0.5707,  1.8642, -0.5559,  1.5345,  1.4549],\n",
       "        [-2.1719, -0.3815, -2.1656, -2.5118,  1.4044],\n",
       "        [ 1.7589,  0.1751, -0.0481,  0.0097,  0.9410],\n",
       "        [-0.6414, -0.1194,  0.4067, -2.0773,  0.7806],\n",
       "        [ 1.1599,  0.4827,  0.1033, -0.6552,  0.6947],\n",
       "        [-0.6147, -1.1599,  0.9728,  1.3596, -0.0136],\n",
       "        [-0.1701,  1.8981,  0.3721, -1.2529, -0.7951],\n",
       "        [-1.0356, -0.6380, -1.0123,  1.0288,  0.2602],\n",
       "        [ 1.3280,  0.4802, -0.3065,  1.4053, -1.1957],\n",
       "        [-0.4558, -0.3244,  1.2628, -1.5213, -1.9601]])"
      ]
     },
     "execution_count": null,
     "metadata": {},
     "output_type": "execute_result"
    }
   ],
   "source": [
    "user_factors"
   ]
  },
  {
   "cell_type": "code",
   "execution_count": null,
   "id": "9d167b2e-1ded-4220-a2d4-a579163d9b89",
   "metadata": {},
   "outputs": [],
   "source": [
    "def relu(x):\n",
    "    return np.max(0, x)"
   ]
  },
  {
   "cell_type": "code",
   "execution_count": null,
   "id": "5d924c54-63bd-47ec-aed1-3285f04c843e",
   "metadata": {},
   "outputs": [],
   "source": [
    "loss = torch.nn.BCELoss()"
   ]
  },
  {
   "cell_type": "code",
   "execution_count": null,
   "id": "457d3af5-f494-461d-8f47-b51548dd7a3b",
   "metadata": {},
   "outputs": [],
   "source": [
    "class Dataset:\n",
    "    def __init__(self, x, y):\n",
    "        self.x = x\n",
    "        self.y = y\n",
    "    \n",
    "    def __get_item__(self, idx):\n",
    "        return self.x[idx], self.y[idx]"
   ]
  },
  {
   "cell_type": "markdown",
   "id": "f9411ee7-f565-4d5f-bb87-476f742c5aeb",
   "metadata": {},
   "source": [
    "### Matplotlib"
   ]
  },
  {
   "cell_type": "code",
   "execution_count": null,
   "id": "34040fe5-b6eb-4c08-a452-e825b5186c2a",
   "metadata": {},
   "outputs": [],
   "source": [
    "from matplotlib import pyplot as plt"
   ]
  },
  {
   "cell_type": "code",
   "execution_count": null,
   "id": "6d427eb1-8b10-4b1e-873f-f08bc885a2f2",
   "metadata": {},
   "outputs": [],
   "source": [
    "plt.plot(x, y)\n",
    "plt.xlabel\n",
    "plt.ylabel\n",
    "plt.title"
   ]
  },
  {
   "cell_type": "code",
   "execution_count": null,
   "id": "0ef2670d-01c2-472e-a6df-a4e5059d4a35",
   "metadata": {},
   "outputs": [],
   "source": [
    "np.vectorize()"
   ]
  },
  {
   "cell_type": "markdown",
   "id": "a7522e4c-f914-4325-9128-c4871ee4386d",
   "metadata": {},
   "source": [
    "### Python"
   ]
  },
  {
   "cell_type": "code",
   "execution_count": null,
   "id": "81178ecf-654a-4df6-84a7-c221a8105b17",
   "metadata": {},
   "outputs": [],
   "source": [
    "def outer():\n",
    "    x = 'hello'\n",
    "    def inner():\n",
    "        nonlocal x\n",
    "        x = 'shivon'\n",
    "    inner()\n",
    "    print(x)"
   ]
  },
  {
   "cell_type": "code",
   "execution_count": null,
   "id": "2e712639-b424-4d7f-b75d-0fc5c87ad6c4",
   "metadata": {},
   "outputs": [
    {
     "name": "stdout",
     "output_type": "stream",
     "text": [
      "shivon\n"
     ]
    }
   ],
   "source": [
    "outer()"
   ]
  },
  {
   "cell_type": "code",
   "execution_count": null,
   "id": "4866a76b-e139-4d9d-8f7f-45f43cd9cf93",
   "metadata": {},
   "outputs": [],
   "source": [
    "from dataclasses import dataclass, field"
   ]
  },
  {
   "cell_type": "code",
   "execution_count": null,
   "id": "0a41445c-5c98-48c9-b5a5-e9c57405984f",
   "metadata": {},
   "outputs": [],
   "source": [
    "@dataclass\n",
    "class Planet:\n",
    "    name: str\n",
    "    population: int\n",
    "    mass: int\n",
    "    secret_code: int = field(repr=False)"
   ]
  },
  {
   "cell_type": "markdown",
   "id": "f5671097-57a1-4061-adaf-2ee5e977fe28",
   "metadata": {},
   "source": [
    "### Design Patterns"
   ]
  },
  {
   "cell_type": "markdown",
   "id": "2ec51a83-3dd6-4699-beb0-be3faa21cbfb",
   "metadata": {},
   "source": [
    "##### Momenta"
   ]
  },
  {
   "cell_type": "code",
   "execution_count": null,
   "id": "aec0765e-9601-4758-bb8b-5f9c568d82de",
   "metadata": {},
   "outputs": [],
   "source": [
    "class Momenta:\n",
    "    def __init__(self, balance):\n",
    "        self.balance = balance"
   ]
  },
  {
   "cell_type": "code",
   "execution_count": null,
   "id": "f16c63b2-1694-4a06-b4a7-c6574d5e4cd8",
   "metadata": {},
   "outputs": [],
   "source": [
    "class BankAccount:\n",
    "    def __init__(self, balance):\n",
    "        self.balance = balance\n",
    "    \n",
    "    def deposite(self, amount):\n",
    "        self.balance += amount\n",
    "        return Momenta(self.balance)\n",
    "    \n",
    "    def restore(self, momenta):\n",
    "        self.balance = momenta.balance"
   ]
  },
  {
   "cell_type": "markdown",
   "id": "3bced1f8-5bb7-4808-9e50-132015d926a7",
   "metadata": {},
   "source": [
    "##### Builder"
   ]
  },
  {
   "cell_type": "code",
   "execution_count": null,
   "id": "a86fc348-5743-45c6-8aab-de533f94c74f",
   "metadata": {},
   "outputs": [],
   "source": [
    "class Person:\n",
    "    def __init__(self):\n",
    "        self.postcode = None\n",
    "        self.city = None\n",
    "        self.company_info = None\n",
    "        self.annual_income = None"
   ]
  },
  {
   "cell_type": "code",
   "execution_count": null,
   "id": "7fbb2e01-b289-4baf-aba7-f4efcb350e4f",
   "metadata": {},
   "outputs": [],
   "source": [
    "class PersonBuilder:\n",
    "    def __init__(self, person=Person()):\n",
    "        self.person = person\n",
    "    \n",
    "    @property\n",
    "    def lives(self):\n",
    "        return PersonAddressBuilder(self.person)\n",
    "    \n",
    "    @property\n",
    "    def works(self):\n",
    "        return PersonEmployementBuilder(self.person)\n",
    "    \n",
    "    def build(self):\n",
    "        return self.person"
   ]
  },
  {
   "cell_type": "code",
   "execution_count": null,
   "id": "3dfa6e1b-69ed-48b5-9df6-a23f1706b1bf",
   "metadata": {},
   "outputs": [],
   "source": [
    "class PersonAddressBuilder(PersonBuilder):\n",
    "    def __init__(self, person):\n",
    "        self.person = person\n",
    "    \n",
    "    def with_postcode(self, postcode):\n",
    "        self.person.postcode = postcode\n",
    "        return self\n",
    "    \n",
    "    def in_city(self, city):\n",
    "        self.person.city = city\n",
    "        return self"
   ]
  },
  {
   "cell_type": "code",
   "execution_count": null,
   "id": "991e1c4c-7f6b-4f02-a06d-b71694934c64",
   "metadata": {},
   "outputs": [],
   "source": [
    "class PersonEmployementBuilder(PersonBuilder):\n",
    "    def __init__(self, person):\n",
    "        self.person = person\n",
    "    \n",
    "    def at(self, company_name):\n",
    "        self.person.company_name = company_name\n",
    "        return self.person\n",
    "    \n",
    "    def earning(self, annual_income):\n",
    "        self.person.annual_income = annual_income\n",
    "        return self.person"
   ]
  },
  {
   "cell_type": "code",
   "execution_count": null,
   "id": "f32e09a9-2c6c-4812-9c09-199288eca9ef",
   "metadata": {},
   "outputs": [],
   "source": []
  }
 ],
 "metadata": {
  "kernelspec": {
   "display_name": "Python 3 (ipykernel)",
   "language": "python",
   "name": "python3"
  }
 },
 "nbformat": 4,
 "nbformat_minor": 5
}
