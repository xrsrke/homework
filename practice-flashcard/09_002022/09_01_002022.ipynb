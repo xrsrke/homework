{
 "cells": [
  {
   "cell_type": "markdown",
   "id": "32803806",
   "metadata": {},
   "source": [
    "### Python"
   ]
  },
  {
   "cell_type": "code",
   "execution_count": 2,
   "id": "3e877b0c",
   "metadata": {},
   "outputs": [],
   "source": [
    "class NumberField:\n",
    "    def __set_name__(self, owner, name):\n",
    "        self.name = name"
   ]
  },
  {
   "cell_type": "code",
   "execution_count": 3,
   "id": "20dc2c13",
   "metadata": {},
   "outputs": [],
   "source": [
    "class PhoneField:\n",
    "    def __get__(self, instance, owner):\n",
    "        return self.value\n",
    "    \n",
    "    def __set__(self, instance, value):\n",
    "        self.value = value"
   ]
  },
  {
   "cell_type": "code",
   "execution_count": 4,
   "id": "5b42e73c",
   "metadata": {},
   "outputs": [],
   "source": [
    "#a = re.search(\"please\", list)"
   ]
  },
  {
   "cell_type": "code",
   "execution_count": 7,
   "id": "211c2398",
   "metadata": {},
   "outputs": [],
   "source": [
    "# pattern = re.compile(\"merry\")\n",
    "# c = pattern.findall(b)"
   ]
  },
  {
   "cell_type": "code",
   "execution_count": 8,
   "id": "f0e01f11",
   "metadata": {},
   "outputs": [],
   "source": [
    "class TextField:\n",
    "    \n",
    "    def __init__(self):\n",
    "        self._data = {}\n",
    "    \n",
    "    def __get__(self, instance, owner):\n",
    "        self._data.get(instance)\n",
    "    \n",
    "    def __set__(self, instance, value):\n",
    "        self._data[instance] = value"
   ]
  },
  {
   "cell_type": "markdown",
   "id": "90a04b5f",
   "metadata": {},
   "source": [
    "`TextField` is a descriptor"
   ]
  },
  {
   "cell_type": "code",
   "execution_count": 9,
   "id": "e0c9a926",
   "metadata": {},
   "outputs": [],
   "source": [
    "class TextField:\n",
    "    \n",
    "    # code...\n",
    "    \n",
    "    # __init__ method\n",
    "    def __init__(self):\n",
    "        pass\n",
    "    \n",
    "    # code..."
   ]
  },
  {
   "cell_type": "markdown",
   "id": "d67aeb2b",
   "metadata": {},
   "source": [
    "### Deep Learning"
   ]
  },
  {
   "cell_type": "code",
   "execution_count": null,
   "id": "04f14aa3",
   "metadata": {},
   "outputs": [],
   "source": [
    "def func(a, b):\n",
    "    return zip(a, b)"
   ]
  }
 ],
 "metadata": {
  "kernelspec": {
   "display_name": "Python 3 (ipykernel)",
   "language": "python",
   "name": "python3"
  },
  "language_info": {
   "codemirror_mode": {
    "name": "ipython",
    "version": 3
   },
   "file_extension": ".py",
   "mimetype": "text/x-python",
   "name": "python",
   "nbconvert_exporter": "python",
   "pygments_lexer": "ipython3",
   "version": "3.9.12"
  }
 },
 "nbformat": 4,
 "nbformat_minor": 5
}
