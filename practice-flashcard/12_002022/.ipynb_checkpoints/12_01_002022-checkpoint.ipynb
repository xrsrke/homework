{
 "cells": [
  {
   "cell_type": "markdown",
   "id": "6312db10-f525-4fb5-90a6-91283429e43d",
   "metadata": {},
   "source": [
    "### Deep Learning"
   ]
  },
  {
   "cell_type": "markdown",
   "id": "80e17834-40ff-4248-a6bc-d3fd38b6b053",
   "metadata": {},
   "source": [
    "maximize likelihood = maximize log likelihood = minilize negative log likelihood"
   ]
  },
  {
   "cell_type": "code",
   "execution_count": null,
   "id": "0279b644-52b9-4897-b4a9-20db1742e737",
   "metadata": {},
   "outputs": [],
   "source": [
    "sharing gpu, quantization, "
   ]
  },
  {
   "cell_type": "code",
   "execution_count": null,
   "id": "9a636401-3a62-4c2d-9504-90ac31d1d19a",
   "metadata": {},
   "outputs": [],
   "source": [
    "import torchvision.transforms as tfms"
   ]
  },
  {
   "cell_type": "code",
   "execution_count": null,
   "id": "18179464-29e5-4f9a-96a0-11f712095235",
   "metadata": {},
   "outputs": [],
   "source": [
    "transform = tfms.Compose([\n",
    "    tfms.ToTensor(),\n",
    "    tfms.Normalize(0.3, 0.9)\n",
    "])"
   ]
  },
  {
   "cell_type": "code",
   "execution_count": null,
   "id": "965bb2d0-0b3e-4dab-b210-f51fc1404bef",
   "metadata": {},
   "outputs": [],
   "source": [
    "def linear_interpolation(old, new, momentum):\n",
    "    return old * (1 - momentum) + new * momentum"
   ]
  },
  {
   "cell_type": "code",
   "execution_count": null,
   "id": "25f068d4-bf56-4d17-89ef-2c9415d22f22",
   "metadata": {},
   "outputs": [],
   "source": [
    "def covariance(x, y):\n",
    "    prod = (x - x.mean())*(y-y.mean())\n",
    "    return prod.mean()"
   ]
  },
  {
   "cell_type": "code",
   "execution_count": null,
   "id": "ef93ad77-808b-42b4-865d-400fa79c9307",
   "metadata": {},
   "outputs": [],
   "source": [
    "def minus_one(x):\n",
    "    return x.sub(1)"
   ]
  },
  {
   "cell_type": "code",
   "execution_count": null,
   "id": "517c0f17-1fbd-4102-914f-a1afe74673ca",
   "metadata": {},
   "outputs": [],
   "source": [
    "def zero_weight(layer):\n",
    "    return layer.weight.data.zero_()"
   ]
  },
  {
   "cell_type": "code",
   "execution_count": null,
   "id": "a7910dc9-3f2f-4010-b9b1-b0e1c3604e12",
   "metadata": {},
   "outputs": [],
   "source": [
    "class ListContainer:\n",
    "    def __init__(self, items):\n",
    "        self.items = items\n",
    "    \n",
    "    def __getitem__(self, idxs):\n",
    "        if isinstance(idxs[0], bool):\n",
    "            return [item for idx, item in zip(idxs, self.items) if idx is True]"
   ]
  },
  {
   "cell_type": "code",
   "execution_count": null,
   "id": "8e004150-cc5b-41c9-875d-d21bd912ca2e",
   "metadata": {},
   "outputs": [],
   "source": [
    "from torch import nn"
   ]
  },
  {
   "cell_type": "code",
   "execution_count": null,
   "id": "af30112d-4487-45f3-8474-cab87bf68d48",
   "metadata": {},
   "outputs": [],
   "source": [
    "class BottleneckResidualBlock(nn.Module):\n",
    "    def __init__(\n",
    "        self,\n",
    "        in_channels, bottleneck_channels, out_channels,\n",
    "        stride\n",
    "    ):\n",
    "        super().__init__()\n",
    "        self.conv1 = nn.Conv2d(\n",
    "            in_channels, bottleneck_channels,\n",
    "            kernel_size=1, stride=1\n",
    "        )\n",
    "        self.bn1 = nn.BatchNorm2d(bottleneck_channels)\n",
    "        self.act1 = nn.ReLU()\n",
    "        self.conv2 = nn.Conv2d(\n",
    "            bottleneck_channels, bottleneck_channels,\n",
    "            kernel_size=3, stride=stride, padding=1\n",
    "        )\n",
    "        self.bn2 = nn.BatchNorm2d(bottleneck_channels)\n",
    "        self.act2 = nn.ReLU()\n",
    "        self.conv3 = nn.Conv2d(\n",
    "            bottleneck_channels, out_channels,\n",
    "            kernel_size=1, stride=1\n",
    "        )\n",
    "        self.bn3 = nn.BatchNorm2d(out_channels)\n",
    "        \n",
    "        if stride != 1 or in_channels != out_channels:\n",
    "            self.downsample = ShorcutProjection(\n",
    "                in_channels, out_channels, stride\n",
    "            )\n",
    "        else:\n",
    "            self.downsample = nn.Identity()\n",
    "            \n",
    "        self.act3 = nn.ReLU()\n",
    "    \n",
    "    def forward(self, x):\n",
    "        residual = self.downsample(x)\n",
    "        \n",
    "        out = self.act1(self.bn1(self.conv1(x)))\n",
    "        out = self.act2(self.bn2(self.conv2(out)))\n",
    "        out = self.bn3(self.conv3(out))\n",
    "        \n",
    "        out += residual\n",
    "        return self.act3(out)"
   ]
  },
  {
   "cell_type": "code",
   "execution_count": null,
   "id": "6ade59cf-9102-456e-bbf0-0bad522e66ea",
   "metadata": {},
   "outputs": [],
   "source": [
    "5, 27, 27"
   ]
  },
  {
   "cell_type": "code",
   "execution_count": null,
   "id": "1ed8bb2b-5f1c-4936-869f-3bf3b0fec5ad",
   "metadata": {},
   "outputs": [],
   "source": [
    "7, 3, 4, 4"
   ]
  },
  {
   "cell_type": "code",
   "execution_count": null,
   "id": "79bdc112-4442-45a5-b68a-4f344762e761",
   "metadata": {},
   "outputs": [],
   "source": [
    "import torch"
   ]
  },
  {
   "cell_type": "code",
   "execution_count": null,
   "id": "9ca0db61-6b73-43f2-aefa-76ec11af3054",
   "metadata": {},
   "outputs": [],
   "source": [
    "x = torch.randn(50, 3, 64, 64)"
   ]
  },
  {
   "cell_type": "code",
   "execution_count": null,
   "id": "3fbce1f3-6e59-40a8-9969-04b6889bb825",
   "metadata": {},
   "outputs": [],
   "source": [
    "from fastai.vision.all import *"
   ]
  },
  {
   "cell_type": "code",
   "execution_count": null,
   "id": "c8a4ff10-312f-4081-bb49-66fb703dbcbe",
   "metadata": {},
   "outputs": [],
   "source": [
    "dblock = DataBlock(blocks=[ImageBlock, CategoryBlock])"
   ]
  },
  {
   "cell_type": "code",
   "execution_count": null,
   "id": "229e3000-f88b-49f9-92a7-b0ed0ca34cac",
   "metadata": {},
   "outputs": [],
   "source": [
    "dblock = DataBlock(get_x=lambda r: r['fname'],\n",
    "                   get_y=lambda r: r['label'])"
   ]
  },
  {
   "cell_type": "code",
   "execution_count": null,
   "id": "afdc0f3e-75b8-43de-b416-195cf5f70ccb",
   "metadata": {},
   "outputs": [],
   "source": [
    "datasets = dblock.datasets(df)"
   ]
  },
  {
   "cell_type": "code",
   "execution_count": null,
   "id": "b07b9f12-adae-4e2d-b0c5-91d86ec27856",
   "metadata": {},
   "outputs": [],
   "source": [
    "q, k, v, word embedding"
   ]
  },
  {
   "cell_type": "markdown",
   "id": "fb4f14f3-68f7-4e89-84d8-28c3b4011fc0",
   "metadata": {},
   "source": [
    "positional embedding, multi-head attention, mask multi-head attention, layer norm, linear layer, skip connection"
   ]
  },
  {
   "cell_type": "markdown",
   "id": "f884eca4-70a6-44a9-9ada-d46d9f74c2f0",
   "metadata": {},
   "source": [
    "positional encoding, multi-head attention, mask multi-head attention, layer norm, linear, skip connection"
   ]
  },
  {
   "cell_type": "markdown",
   "id": "f55210da-51ea-4e5a-a6c4-84b797c238d7",
   "metadata": {},
   "source": [
    "### Python"
   ]
  },
  {
   "cell_type": "code",
   "execution_count": null,
   "id": "79e38b13-0023-413d-8f1f-100502abb33c",
   "metadata": {},
   "outputs": [],
   "source": [
    "from typing import Union, TypeVar"
   ]
  },
  {
   "cell_type": "code",
   "execution_count": null,
   "id": "3e187042-69a0-4ff5-b44f-d0ce817aab9b",
   "metadata": {},
   "outputs": [],
   "source": [
    "T = TypeVar(\"T\")"
   ]
  },
  {
   "cell_type": "code",
   "execution_count": null,
   "id": "f797091d-36c3-4ab8-bfe9-bdb95a922899",
   "metadata": {},
   "outputs": [],
   "source": [
    "APIResponse = Union[T, APIError]"
   ]
  },
  {
   "cell_type": "code",
   "execution_count": null,
   "id": "aa1d35cd-42aa-4dbf-83e9-f5549528c032",
   "metadata": {},
   "outputs": [],
   "source": [
    "x = "
   ]
  },
  {
   "cell_type": "code",
   "execution_count": null,
   "id": "ebe0917a-0144-45e8-9191-848808cc4663",
   "metadata": {},
   "outputs": [],
   "source": [
    "def create_author_count_mapping(cookbooks: List[Cookbook]) -> Dict[x, int]"
   ]
  },
  {
   "cell_type": "code",
   "execution_count": null,
   "id": "0bfe8783-28fe-4dc8-a28f-0426df9c01c3",
   "metadata": {},
   "outputs": [],
   "source": [
    "import torch"
   ]
  },
  {
   "cell_type": "code",
   "execution_count": null,
   "id": "8c9bcc82-d408-4018-8918-9ef02d9bab37",
   "metadata": {},
   "outputs": [],
   "source": [
    "from torch import nn"
   ]
  },
  {
   "cell_type": "code",
   "execution_count": null,
   "id": "9a17c9b2-cac0-4f0d-9163-181ecebde132",
   "metadata": {},
   "outputs": [
    {
     "data": {
      "text/plain": [
       "<generator object Module.modules>"
      ]
     },
     "execution_count": null,
     "metadata": {},
     "output_type": "execute_result"
    }
   ],
   "source": [
    "nn.ModuleList([nn.Linear(1, 1)]).modules()"
   ]
  },
  {
   "cell_type": "code",
   "execution_count": null,
   "id": "63d8e3eb-c9ca-4a8a-8e38-4423e5a50f0c",
   "metadata": {},
   "outputs": [],
   "source": [
    "def func(**kwargs):\n",
    "    thisdict = {'a': 1}\n",
    "    thisdict.update(**kwargs)\n",
    "    return thisdict"
   ]
  },
  {
   "cell_type": "code",
   "execution_count": null,
   "id": "ff133af4-b2e4-4e82-898d-9a1c051e1773",
   "metadata": {},
   "outputs": [
    {
     "data": {
      "text/plain": [
       "{'a': 1, 'b': 1, 'c': 2}"
      ]
     },
     "execution_count": null,
     "metadata": {},
     "output_type": "execute_result"
    }
   ],
   "source": [
    "func(b=1, c=2)"
   ]
  },
  {
   "cell_type": "code",
   "execution_count": null,
   "id": "67950e15-87a5-4181-9ffd-d8d859a15164",
   "metadata": {},
   "outputs": [],
   "source": []
  }
 ],
 "metadata": {
  "kernelspec": {
   "display_name": "Python 3 (ipykernel)",
   "language": "python",
   "name": "python3"
  }
 },
 "nbformat": 4,
 "nbformat_minor": 5
}
