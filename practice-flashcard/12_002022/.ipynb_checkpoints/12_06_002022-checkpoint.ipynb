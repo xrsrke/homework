{
 "cells": [
  {
   "cell_type": "code",
   "execution_count": null,
   "id": "cda27e45-0663-4188-9f98-3bce8d563433",
   "metadata": {},
   "outputs": [],
   "source": [
    "synthesis, perturbation, label-preserving"
   ]
  },
  {
   "cell_type": "markdown",
   "id": "2832d6af-d98f-49d7-9b33-b29640d3c395",
   "metadata": {},
   "source": [
    "### Deep Learning"
   ]
  },
  {
   "cell_type": "code",
   "execution_count": null,
   "id": "2e16b841-c9cb-4da1-9c2f-d37b8fc2acc5",
   "metadata": {},
   "outputs": [],
   "source": [
    "reward, action, agent, policy, env, state"
   ]
  },
  {
   "cell_type": "code",
   "execution_count": null,
   "id": "3b45eb83-cddb-48c3-aeb8-5c8edb579bb6",
   "metadata": {},
   "outputs": [],
   "source": [
    "empty_prompt => empty_token => prompt + empty token => concat"
   ]
  },
  {
   "cell_type": "code",
   "execution_count": null,
   "id": "0c0a1c55-6ff9-4c1c-9aa8-2905af1e66de",
   "metadata": {},
   "outputs": [],
   "source": [
    "import torch\n",
    "from torch import nn\n",
    "import torch.nn.functional as F"
   ]
  },
  {
   "cell_type": "code",
   "execution_count": null,
   "id": "7a17c450-8ab5-4cf7-b0ce-a9ebfd85f53d",
   "metadata": {},
   "outputs": [],
   "source": [
    "class LMModel1(nn.Module):\n",
    "    def __init__(self, vocab_sz, n_hidden):\n",
    "        super().__init__()\n",
    "        self.i_h = nn.Embedding(vocab_sz, n_hidden)\n",
    "        self.h_h = nn.Linear(64, 64)\n",
    "        self.h_o = nn.linear(64, 30)\n",
    "    \n",
    "    def forward(self, x):\n",
    "        out = F.relu(self.i_h([x[:, 0]]))\n",
    "        out = F.relu(self.i_h([x[:, 1]])) + F.relu(self.h_h([out]))\n",
    "        out = F.relu(self.i_h([x[:, 2]])) + F.relu(self.h_h([out]))\n",
    "        \n",
    "        return F.relu(self.h_o(out))"
   ]
  },
  {
   "cell_type": "code",
   "execution_count": null,
   "id": "5429689a-150b-451a-9935-9512047cf023",
   "metadata": {},
   "outputs": [],
   "source": [
    "class LMModel3(nn.Module):\n",
    "    def __init__(self, vocab_sz, n_hidden):\n",
    "        super().__init__()\n",
    "        self.i_h = nn.Embedding(vocab_sz, n_hidden)\n",
    "        self.h_h = nn.Linear(n_hidden, n_hidden)\n",
    "        self.h_o = nn.Linear(n_hidden, vocab_sz)\n",
    "        self.h = 0.\n",
    "    \n",
    "    def forward(self, x):\n",
    "        for i in range(len(x)):\n",
    "            self.h = F.relu(self.i_h(x[: i])) + F.relu(self.h_h(self.h))\n",
    "        \n",
    "        return F.relu(self.h_o(self.h))"
   ]
  },
  {
   "cell_type": "code",
   "execution_count": null,
   "id": "c4b9f31a-8e60-4131-9dfb-0e6845f7c6ea",
   "metadata": {},
   "outputs": [],
   "source": [
    "def average_pool(x):\n",
    "    return x.mean()"
   ]
  },
  {
   "cell_type": "code",
   "execution_count": null,
   "id": "976847bc-f27d-4026-9b3b-2d43891e8fd5",
   "metadata": {},
   "outputs": [],
   "source": [
    "[9, 9, 5]\n",
    "[9, 9, 5]\n",
    "[8, 6, 9]"
   ]
  },
  {
   "cell_type": "code",
   "execution_count": null,
   "id": "0306f981-8b4c-441a-87a1-c69420b2b017",
   "metadata": {},
   "outputs": [],
   "source": [
    "class DotProduct(nn.Module):\n",
    "    def __init__(self, n_users, n_movies, n_factors):\n",
    "        super().__init__()\n",
    "        self.user_factors = nn.Embedding(n_users, n_factors)\n",
    "        self.movie_factors = nn.Embedding(n_movies, n_factors)\n",
    "    \n",
    "    def forward(self, x):\n",
    "        users = self.user_factors(x[:, 0])\n",
    "        movies = self.movie_factors(x[:, 1])\n",
    "        \n",
    "        return (users*movies).sum(dim=1)"
   ]
  },
  {
   "cell_type": "code",
   "execution_count": null,
   "id": "462cbdda-8e63-4bb5-b80c-d9dcbc6b431c",
   "metadata": {},
   "outputs": [],
   "source": [
    "import math"
   ]
  },
  {
   "cell_type": "code",
   "execution_count": null,
   "id": "af238ac4-8385-496b-b652-2edb35dacf77",
   "metadata": {},
   "outputs": [],
   "source": [
    "def scaled_dot_product_attention(Q, K, V, d_k):\n",
    "    QK_matmul = torch.matmul(Q, K.T)\n",
    "    scaled_QK = QK_matmul / math.sqrt(d_k)\n",
    "    attention_weights = F.softmax(scaled_QK, dim=-1)\n",
    "    output = torch.matmul(attention_weights, V)\n",
    "    \n",
    "    return output, attention_weights"
   ]
  },
  {
   "cell_type": "code",
   "execution_count": null,
   "id": "9adff737-615a-41c5-8199-41647344f97d",
   "metadata": {},
   "outputs": [],
   "source": [
    "1, 2, 3, 3"
   ]
  },
  {
   "cell_type": "code",
   "execution_count": null,
   "id": "e44ce283-d6cb-4546-9df7-9d72f4bd603a",
   "metadata": {},
   "outputs": [],
   "source": [
    "y = F.pad(x, (1, 1, 1, 1))"
   ]
  },
  {
   "cell_type": "code",
   "execution_count": null,
   "id": "349fee1f-36ef-4c3a-a2e7-09baaebb5287",
   "metadata": {},
   "outputs": [],
   "source": [
    "multi-head, mask multihead, layer norm, linear, positional encoding, skip connection"
   ]
  },
  {
   "cell_type": "code",
   "execution_count": null,
   "id": "4414d430-26b0-45e4-9f5c-2fd3144de5ab",
   "metadata": {},
   "outputs": [],
   "source": [
    "def func(layer, inp, out):\n",
    "    add_log(layer, out)"
   ]
  },
  {
   "cell_type": "code",
   "execution_count": null,
   "id": "1930ea7e-5c1b-4611-a330-27a9a42e933b",
   "metadata": {},
   "outputs": [],
   "source": [
    "def add_hook(model):\n",
    "    for layer in model.layers:\n",
    "        layer.register_foward_hook(func)"
   ]
  },
  {
   "cell_type": "code",
   "execution_count": null,
   "id": "57099e86-578c-4348-a8ba-2b78af47742e",
   "metadata": {},
   "outputs": [],
   "source": [
    "class LayerNorm(nn.Module):\n",
    "    def __init__(self):\n",
    "        super().__init__()\n",
    "        self.eps = eps\n",
    "        self.adds = nn.Parameter(torch.zeros(features))\n",
    "        self.mults = nn.Parameter(torch.ones(features))\n",
    "    \n",
    "    def forward(self, x):\n",
    "        mean, var = x.mean(dim=-1, keepdim=True), x.var()\n",
    "        \n",
    "        x = (x-mean()) / (var + self.eps).sqrt()\n",
    "        \n",
    "        return x * self.mults + self.adds"
   ]
  },
  {
   "cell_type": "code",
   "execution_count": null,
   "id": "92ca0152-8d53-4065-beda-07d9dbb7ed11",
   "metadata": {},
   "outputs": [],
   "source": []
  }
 ],
 "metadata": {
  "kernelspec": {
   "display_name": "Python 3 (ipykernel)",
   "language": "python",
   "name": "python3"
  }
 },
 "nbformat": 4,
 "nbformat_minor": 5
}
