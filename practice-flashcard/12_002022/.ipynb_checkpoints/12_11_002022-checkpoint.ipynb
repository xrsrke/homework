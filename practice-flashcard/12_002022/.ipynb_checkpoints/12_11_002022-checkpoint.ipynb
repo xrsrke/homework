{
 "cells": [
  {
   "cell_type": "markdown",
   "id": "582ceb95-8d0a-4dbc-8457-d473ac5973cf",
   "metadata": {},
   "source": [
    "### Deep Learning"
   ]
  },
  {
   "cell_type": "code",
   "execution_count": null,
   "id": "671cba28-0183-4b1a-ade9-7529a240cb46",
   "metadata": {},
   "outputs": [],
   "source": [
    "import torch\n",
    "from torch import nn\n",
    "import torch.nn.functional as F"
   ]
  },
  {
   "cell_type": "code",
   "execution_count": null,
   "id": "ba4730b8-8119-4b97-844d-fe3b9aa7b41a",
   "metadata": {},
   "outputs": [],
   "source": [
    "5, 27"
   ]
  },
  {
   "cell_type": "code",
   "execution_count": null,
   "id": "9c937fdf-d6fc-4f27-a976-2d0f2bc5011a",
   "metadata": {},
   "outputs": [],
   "source": [
    "d_model, n, i, p"
   ]
  },
  {
   "cell_type": "code",
   "execution_count": null,
   "id": "8e134146-187a-4928-acd6-9b38c0a63c75",
   "metadata": {},
   "outputs": [],
   "source": [
    "class PositionalEncoding:\n",
    "    def __init__(self, n, d):\n",
    "        self.n = n\n",
    "        self.d = d\n",
    "    \n",
    "    def forward(self, x):\n",
    "        pass"
   ]
  },
  {
   "cell_type": "code",
   "execution_count": null,
   "id": "e31daf88-aaab-4767-95d6-cd8557dffe17",
   "metadata": {},
   "outputs": [],
   "source": []
  }
 ],
 "metadata": {
  "kernelspec": {
   "display_name": "Python 3 (ipykernel)",
   "language": "python",
   "name": "python3"
  }
 },
 "nbformat": 4,
 "nbformat_minor": 5
}
