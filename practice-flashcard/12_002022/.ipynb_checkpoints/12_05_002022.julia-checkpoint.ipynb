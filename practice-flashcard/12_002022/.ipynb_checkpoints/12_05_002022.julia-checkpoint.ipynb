{
 "cells": [
  {
   "cell_type": "code",
   "execution_count": null,
   "id": "b35173c1-dc74-43ab-b170-423990e325fe",
   "metadata": {},
   "outputs": [],
   "source": [
    "struct Computer\n",
    "    os::String\n",
    "end"
   ]
  },
  {
   "cell_type": "code",
   "execution_count": null,
   "id": "7e3dc2f0-ad6c-42b8-a396-e6a454d3940b",
   "metadata": {},
   "outputs": [],
   "source": [
    "Threads.@spawn heavy_shit()"
   ]
  }
 ],
 "metadata": {
  "kernelspec": {
   "display_name": "Julia 1.8.2",
   "language": "julia",
   "name": "julia-1.8"
  }
 },
 "nbformat": 4,
 "nbformat_minor": 5
}
