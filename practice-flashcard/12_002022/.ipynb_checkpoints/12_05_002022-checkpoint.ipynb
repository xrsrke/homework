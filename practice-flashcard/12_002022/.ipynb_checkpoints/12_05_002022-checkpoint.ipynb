{
 "cells": [
  {
   "cell_type": "markdown",
   "id": "b017d635-6154-4a71-a90a-a462c6c5e6cf",
   "metadata": {},
   "source": [
    "### Deep Learning"
   ]
  },
  {
   "cell_type": "code",
   "execution_count": null,
   "id": "dc3d3cb0-8ecd-4bfa-8b5f-60a52193ba96",
   "metadata": {},
   "outputs": [],
   "source": [
    "import torch\n",
    "from torch import nn\n",
    "import torch.nn.functional as F\n",
    "import math"
   ]
  },
  {
   "cell_type": "code",
   "execution_count": null,
   "id": "58f00048-ef48-4df3-92e0-5aae897800d5",
   "metadata": {},
   "outputs": [],
   "source": [
    "q = [0, 10, 0]\n",
    "\n",
    "search q in key => temp_k[1] similar most => dot product => take key temp_v[1]"
   ]
  },
  {
   "cell_type": "code",
   "execution_count": null,
   "id": "7d728259-274f-49f1-8776-8ea8c09536ca",
   "metadata": {},
   "outputs": [],
   "source": [
    "def scaled_dot_product_attention(Q, K, V, d_k):\n",
    "    similarity = torch.matmul(Q, K.T)\n",
    "    scaled = similarity / math.sqrt(d_k)\n",
    "    attention_weights = F.softmax(scaled, dim=-1)\n",
    "    output = torch.matmul(output, V)\n",
    "    \n",
    "    return output, attention_weights"
   ]
  },
  {
   "cell_type": "code",
   "execution_count": null,
   "id": "b0e9ee42-54b4-4fb3-a926-166667bc0df0",
   "metadata": {},
   "outputs": [],
   "source": [
    "env, agent, reward, state, policty, action"
   ]
  },
  {
   "cell_type": "code",
   "execution_count": null,
   "id": "06a9d607-3bfa-4f09-bdfa-0d942b64bf03",
   "metadata": {},
   "outputs": [],
   "source": [
    "batching, caching, cocurrency"
   ]
  },
  {
   "cell_type": "code",
   "execution_count": null,
   "id": "e31ded71-4287-4506-811c-cbea4f00ef40",
   "metadata": {},
   "outputs": [],
   "source": [
    "sharing gpu, quantization, inference cpu"
   ]
  },
  {
   "cell_type": "code",
   "execution_count": null,
   "id": "de9f1de9-5d67-4dcf-bc52-13b4e43e1427",
   "metadata": {},
   "outputs": [],
   "source": [
    "code, weight, lib dependencies"
   ]
  },
  {
   "cell_type": "code",
   "execution_count": null,
   "id": "7f2aca22-4fed-4a62-851d-6ceda07867ce",
   "metadata": {},
   "outputs": [],
   "source": [
    "class LayerNorm(nn.Module):\n",
    "    def __init__(self, features, eps):\n",
    "        super().__init__()\n",
    "        self.eps = eps\n",
    "        self.mults = nn.Parameter(torch.ones(features))\n",
    "        self.adds = nn.Parameter(torch.zeros(features))\n",
    "    \n",
    "    def forward(self, x):\n",
    "        mean = x.mean(dim=-1, keepdim=True)\n",
    "        var = x.var(dim=-1, keepdim=True)\n",
    "        \n",
    "        normalized = (x - x.mean()) / (x.var() + self.eps).sqrt()\n",
    "        \n",
    "        return normalized * self.mults + self.adds"
   ]
  },
  {
   "cell_type": "code",
   "execution_count": null,
   "id": "d1264e67-8db9-444d-892e-1ae07adf5ea2",
   "metadata": {},
   "outputs": [
    {
     "ename": "NameError",
     "evalue": "name 'x' is not defined",
     "output_type": "error",
     "traceback": [
      "\u001b[0;31m---------------------------------------------------------------------------\u001b[0m",
      "\u001b[0;31mNameError\u001b[0m                                 Traceback (most recent call last)",
      "Cell \u001b[0;32mIn [14], line 1\u001b[0m\n\u001b[0;32m----> 1\u001b[0m torch\u001b[38;5;241m.\u001b[39mmean(\u001b[43mx\u001b[49m, dim\u001b[38;5;241m=\u001b[39m\u001b[38;5;241m-\u001b[39m\u001b[38;5;241m1\u001b[39m)\n",
      "\u001b[0;31mNameError\u001b[0m: name 'x' is not defined"
     ]
    }
   ],
   "source": [
    "torch.mean(x, dim=-1)"
   ]
  },
  {
   "cell_type": "code",
   "execution_count": null,
   "id": "5d306992-3c18-4699-ba7e-ba990c88180e",
   "metadata": {},
   "outputs": [],
   "source": [
    "class _Model(nn.Module):\n",
    "    def __init__(self):\n",
    "        super().__init__()\n",
    "        self.register_buffer('means', _one_vectors)"
   ]
  },
  {
   "cell_type": "code",
   "execution_count": null,
   "id": "2b771115-049c-486f-8439-3c24f896d5b4",
   "metadata": {},
   "outputs": [],
   "source": [
    "def mae(x):\n",
    "    return (x - x.mean()).abs().mean()"
   ]
  },
  {
   "cell_type": "code",
   "execution_count": null,
   "id": "ae155e23-a9e8-4737-ab12-3e416ab11cf4",
   "metadata": {},
   "outputs": [],
   "source": [
    "class ResidualBlock(nn.Module):\n",
    "    def __init__(self, in_channels, out_channels, stride, downsample):\n",
    "        self.conv1 = nn.Conv2d(\n",
    "            in_channels, out_channels,\n",
    "            kernel_size=3, stride=stride, padding=1\n",
    "        )\n",
    "        self.bn1 = nn.BatchNorm2d(out_channels)\n",
    "        self.act1 = nn.ReLU()\n",
    "        self.conv2 = nn.Conv2d(\n",
    "            out_channels, out_channels,\n",
    "            kernel_size=3, stride=stride, padding=1\n",
    "        )\n",
    "        self.bn2 = nn.BatchNorm2d(out_channels)\n",
    "        self.act2 = nn.ReLU()\n",
    "        self.downsample = downsample\n",
    "    \n",
    "    def forward(self, x):\n",
    "        residual = self.downsample(x)\n",
    "        \n",
    "        out = self.act1(self.bn1(self.conv1(x)))\n",
    "        out = self.bn2(self.conv2(out))\n",
    "        \n",
    "        out += residual\n",
    "        \n",
    "        return self.act2(out)"
   ]
  },
  {
   "cell_type": "code",
   "execution_count": null,
   "id": "cef6a22b-8531-43a2-bd85-b963b6a112ce",
   "metadata": {},
   "outputs": [],
   "source": [
    "nn.Flatten(start_dim=2, end_dim=3)"
   ]
  },
  {
   "cell_type": "code",
   "execution_count": null,
   "id": "e9fcd1ed-2f19-4086-9672-0c0b0f5e1b72",
   "metadata": {},
   "outputs": [],
   "source": [
    "class ConvNet(nn.Module):\n",
    "    def __init__(self):\n",
    "        super().__init__()\n",
    "        self.model = nn.Sequential(\n",
    "            nn.Conv2d(\n",
    "                in_channels=3, out_channels=6,\n",
    "                kernel_size=5\n",
    "            ),\n",
    "            nn.MaxPool2d(kernel_size=2),\n",
    "            nn.ReLU(),\n",
    "            nn.Conv2d(\n",
    "                in_channels=6, out_channels=16,\n",
    "                kernel_size=5\n",
    "            ),\n",
    "            nn.MaxPool2d(kernel_size=2),\n",
    "            nn.ReLU(),\n",
    "            nn.Flatten(start_dim=1, end_dim=3),\n",
    "            nn.Linear(400, 120),\n",
    "            nn.ReLU(),\n",
    "            nn.Linear(120, 84),\n",
    "            nn.ReLU(),\n",
    "            nn.Linear(84, 10),\n",
    "            nn.Softmax(dim=-1)\n",
    "        )\n",
    "    \n",
    "    def forward(self, x):\n",
    "        return self.model(x)"
   ]
  },
  {
   "cell_type": "code",
   "execution_count": null,
   "id": "45e900d5-48c3-4eef-85df-83b2b5577d45",
   "metadata": {},
   "outputs": [],
   "source": [
    "(small_part * filter1).sum() + "
   ]
  },
  {
   "cell_type": "code",
   "execution_count": null,
   "id": "058727f7-ab15-4a6e-9f4a-ab8a67c0a50e",
   "metadata": {},
   "outputs": [],
   "source": [
    "nn.Conv2d(in_channels=3, out_channels=5, kernel_size=3, stride=1, padding=1)"
   ]
  },
  {
   "cell_type": "code",
   "execution_count": null,
   "id": "71d9a15f-a9b1-433e-bd8f-c45653136c11",
   "metadata": {},
   "outputs": [],
   "source": [
    "class DotProduct(nn.Module):\n",
    "    def forward(self, x):\n",
    "        users = self.user_factors(x[:, 0])\n",
    "        movies = self.movie_factors(x[:, 1])\n",
    "        \n",
    "        return (users * movies).sum(dim=1)"
   ]
  },
  {
   "cell_type": "code",
   "execution_count": null,
   "id": "f5e06f6a-a3d1-44a7-aed0-aeebb5a05074",
   "metadata": {},
   "outputs": [],
   "source": [
    "batch, 32, height, width"
   ]
  },
  {
   "cell_type": "code",
   "execution_count": null,
   "id": "c55560c5-e875-484c-a43e-552eeb999b22",
   "metadata": {},
   "outputs": [],
   "source": [
    "in service, in db, in server, edge"
   ]
  },
  {
   "cell_type": "code",
   "execution_count": null,
   "id": "e8b7eb9f-c40a-4608-becf-0a61697352fb",
   "metadata": {},
   "outputs": [],
   "source": [
    "class DotProduct(nn.Module):\n",
    "    def forward(self, x):\n",
    "        users = self.user_factors(x[:, 0])\n",
    "        movies = self.user_factors(x[:, 1])\n",
    "        return (users * movies).sum(dim=1)"
   ]
  },
  {
   "cell_type": "code",
   "execution_count": null,
   "id": "a11910ca-f335-4a5e-81a6-1c600d600c1b",
   "metadata": {},
   "outputs": [],
   "source": [
    "fro"
   ]
  }
 ],
 "metadata": {
  "kernelspec": {
   "display_name": "Python 3 (ipykernel)",
   "language": "python",
   "name": "python3"
  }
 },
 "nbformat": 4,
 "nbformat_minor": 5
}
