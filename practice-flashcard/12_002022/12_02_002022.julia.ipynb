{
 "cells": [
  {
   "cell_type": "code",
   "execution_count": null,
   "id": "bc163079-78dd-4d13-9ff1-97d2a8a6d34b",
   "metadata": {},
   "outputs": [
    {
     "data": {
      "text/plain": [
       "3-element Vector{Int64}:\n",
       " 1\n",
       " 2\n",
       " 3"
      ]
     },
     "execution_count": null,
     "metadata": {},
     "output_type": "execute_result"
    }
   ],
   "source": [
    "v = [1, 2, 3]"
   ]
  },
  {
   "cell_type": "code",
   "execution_count": null,
   "id": "9b77419b-98b7-419a-b1d5-c7746dab6d11",
   "metadata": {},
   "outputs": [
    {
     "data": {
      "text/plain": [
       "4-element Vector{Int64}:\n",
       "  1\n",
       "  2\n",
       "  3\n",
       " 10"
      ]
     },
     "execution_count": null,
     "metadata": {},
     "output_type": "execute_result"
    }
   ],
   "source": [
    "push!(v, 10)"
   ]
  },
  {
   "cell_type": "code",
   "execution_count": null,
   "id": "575f8733-3dbb-45ea-8eb7-aea11b90b7b0",
   "metadata": {},
   "outputs": [
    {
     "name": "stdout",
     "output_type": "stream",
     "text": [
      "1\n",
      "2\n",
      "3\n",
      "10\n"
     ]
    }
   ],
   "source": [
    "for x in v\n",
    "    println(x)\n",
    "end"
   ]
  },
  {
   "cell_type": "code",
   "execution_count": null,
   "id": "760390f0-6c0f-4ad5-84fc-2b1167e662b7",
   "metadata": {},
   "outputs": [
    {
     "data": {
      "text/plain": [
       "4-element Vector{Int64}:\n",
       "   1\n",
       "   4\n",
       "   9\n",
       " 100"
      ]
     },
     "execution_count": null,
     "metadata": {},
     "output_type": "execute_result"
    }
   ],
   "source": [
    "map(x -> x^2, v)"
   ]
  },
  {
   "cell_type": "code",
   "execution_count": null,
   "id": "2362350b-fcbe-41fc-9bc7-c884f3248d52",
   "metadata": {},
   "outputs": [
    {
     "data": {
      "text/plain": [
       "1:3"
      ]
     },
     "execution_count": null,
     "metadata": {},
     "output_type": "execute_result"
    }
   ],
   "source": [
    "xs = 1:3"
   ]
  },
  {
   "cell_type": "code",
   "execution_count": null,
   "id": "b4160204-e0cb-4688-90d7-7de70fa142b0",
   "metadata": {},
   "outputs": [
    {
     "data": {
      "text/plain": [
       "3-element Vector{Int64}:\n",
       " 1\n",
       " 2\n",
       " 3"
      ]
     },
     "execution_count": null,
     "metadata": {},
     "output_type": "execute_result"
    }
   ],
   "source": [
    "collect(xs)"
   ]
  },
  {
   "cell_type": "code",
   "execution_count": null,
   "id": "6c51ec09-0429-437f-bba1-2534fa364f15",
   "metadata": {},
   "outputs": [
    {
     "data": {
      "text/plain": [
       "heavy_shit (generic function with 1 method)"
      ]
     },
     "execution_count": null,
     "metadata": {},
     "output_type": "execute_result"
    }
   ],
   "source": [
    "function heavy_shit()\n",
    "    return 0\n",
    "end"
   ]
  },
  {
   "cell_type": "code",
   "execution_count": null,
   "id": "84db1878-f3b8-43cc-9d36-70ac3f700d7f",
   "metadata": {},
   "outputs": [
    {
     "data": {
      "text/plain": [
       "Task (done) @0x000000010a7c3990"
      ]
     },
     "execution_count": null,
     "metadata": {},
     "output_type": "execute_result"
    }
   ],
   "source": [
    "Threads.@spawn heavy_shit()"
   ]
  },
  {
   "cell_type": "code",
   "execution_count": null,
   "id": "606786d7-0acb-46a5-8e00-3105b244ccef",
   "metadata": {},
   "outputs": [
    {
     "name": "stdout",
     "output_type": "stream",
     "text": [
      "1\n",
      "2\n",
      "3\n"
     ]
    }
   ],
   "source": [
    "Threads.@threads for i in 1:3\n",
    "    println(i)\n",
    "end"
   ]
  }
 ],
 "metadata": {
  "kernelspec": {
   "display_name": "Julia 1.8.2",
   "language": "julia",
   "name": "julia-1.8"
  }
 },
 "nbformat": 4,
 "nbformat_minor": 5
}
