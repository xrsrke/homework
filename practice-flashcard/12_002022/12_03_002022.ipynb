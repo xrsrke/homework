{
 "cells": [
  {
   "cell_type": "markdown",
   "id": "19cfc3fa-b1c7-457b-9a41-98083c924303",
   "metadata": {},
   "source": [
    "### Deep Learning"
   ]
  },
  {
   "cell_type": "markdown",
   "id": "bb5417fc-91e0-4980-a4af-0e938a82accd",
   "metadata": {},
   "source": [
    "### SymPy"
   ]
  },
  {
   "cell_type": "code",
   "execution_count": null,
   "id": "501948af-4720-40bd-bf7c-eace4360f7e4",
   "metadata": {},
   "outputs": [],
   "source": [
    "import sympy as smp"
   ]
  },
  {
   "cell_type": "code",
   "execution_count": null,
   "id": "d7334f24-4496-43a1-9867-b756d7e6fa17",
   "metadata": {},
   "outputs": [
    {
     "ename": "NameError",
     "evalue": "name 'f' is not defined",
     "output_type": "error",
     "traceback": [
      "\u001b[0;31m---------------------------------------------------------------------------\u001b[0m",
      "\u001b[0;31mNameError\u001b[0m                                 Traceback (most recent call last)",
      "Cell \u001b[0;32mIn [2], line 1\u001b[0m\n\u001b[0;32m----> 1\u001b[0m smp\u001b[38;5;241m.\u001b[39msolve(\u001b[43mf\u001b[49m, x)\n",
      "\u001b[0;31mNameError\u001b[0m: name 'f' is not defined"
     ]
    }
   ],
   "source": [
    "smp.solve(f, x)"
   ]
  },
  {
   "cell_type": "markdown",
   "id": "5c885a71-14fc-47f5-b205-bd6845d38509",
   "metadata": {},
   "source": [
    "### Docker"
   ]
  },
  {
   "cell_type": "code",
   "execution_count": null,
   "id": "4349c151-a547-4db0-8264-858ed36aaa9e",
   "metadata": {},
   "outputs": [],
   "source": [
    "version: \"0.01"
   ]
  },
  {
   "cell_type": "code",
   "execution_count": null,
   "id": "1418579e-f979-42ca-b769-6bb23def28e9",
   "metadata": {},
   "outputs": [],
   "source": [
    "#!/bin/bash\n",
    "\n",
    "student=\"Shivon\"\n",
    "echo \"Hello ${student}\""
   ]
  },
  {
   "cell_type": "code",
   "execution_count": null,
   "id": "071f4c92-ab7b-4061-9ef4-c9ad5d92f5f0",
   "metadata": {},
   "outputs": [],
   "source": [
    "name: machine info\n",
    "\n",
    "on: [push]\n",
    "\n",
    "jobs:\n",
    "    check-version:\n",
    "        runs-on: ubuntu\n",
    "        steps\n",
    "            - name\n",
    "            import platform\n",
    "            print(platform.processor())\n",
    "        "
   ]
  },
  {
   "cell_type": "code",
   "execution_count": null,
   "id": "5d3c660a-1422-4cfe-9683-afcac153d67f",
   "metadata": {},
   "outputs": [],
   "source": [
    "name: integration test\n",
    "\n",
    "on: [push]\n",
    "\n",
    "jobs:\n",
    "    check-version:\n",
    "        runs-on: ubuntu-latest\n",
    "        steps:\n",
    "            - name: echo a string\n",
    "              run: echo \"hello world\"\n",
    "            - name: check python version\n",
    "              run: python3 --version"
   ]
  },
  {
   "cell_type": "code",
   "execution_count": null,
   "id": "f14f51b5-0c94-4934-b0a6-b18798981f41",
   "metadata": {},
   "outputs": [],
   "source": [
    "name: hello"
   ]
  },
  {
   "cell_type": "code",
   "execution_count": null,
   "id": "7ca58344-7e29-4afb-97e6-d233b53ab61f",
   "metadata": {},
   "outputs": [],
   "source": [
    "stable_diffusion:\n",
    "    - text_to_image: clip\n",
    "      parameters: latent space\n",
    "image_multiclass: None"
   ]
  },
  {
   "cell_type": "code",
   "execution_count": null,
   "id": "17b0e4ab-e919-4f9e-ac80-146dfe02df44",
   "metadata": {},
   "outputs": [],
   "source": [
    "Docker"
   ]
  },
  {
   "cell_type": "code",
   "execution_count": null,
   "id": "788ddcac-ece8-41db-8f3c-16725c40bf55",
   "metadata": {},
   "outputs": [],
   "source": [
    "docker build -t myapp:0.01 ./home"
   ]
  },
  {
   "cell_type": "code",
   "execution_count": null,
   "id": "9dd89662-3f6f-4a3f-9a2c-7da5bf8fcd1f",
   "metadata": {},
   "outputs": [],
   "source": [
    "docker exec -it 12a /bin/bash"
   ]
  },
  {
   "cell_type": "code",
   "execution_count": null,
   "id": "32223914-e19b-458e-ae55-29416e189ef4",
   "metadata": {},
   "outputs": [],
   "source": [
    "version: 0.01\n",
    "\n",
    "services:\n",
    "    mongodb:\n",
    "        image: mongo"
   ]
  },
  {
   "cell_type": "markdown",
   "id": "03c203cd-0a6d-49ad-bda4-b9ca44472889",
   "metadata": {},
   "source": [
    "### Git"
   ]
  },
  {
   "cell_type": "code",
   "execution_count": null,
   "id": "b26407ca-14e8-4d77-80e9-221b74058ab9",
   "metadata": {},
   "outputs": [],
   "source": [
    "git restore --staged file_name"
   ]
  },
  {
   "cell_type": "markdown",
   "id": "ce513f74-4609-4d07-829e-5f42c6ac634c",
   "metadata": {},
   "source": [
    "### Python"
   ]
  },
  {
   "cell_type": "code",
   "execution_count": null,
   "id": "c3fba7d4-7116-4ae6-b254-7a6b6a31ded1",
   "metadata": {},
   "outputs": [],
   "source": [
    "class UppercaseTuple(dict):\n",
    "    def __new__(self, items):\n",
    "        for i, item in list(enumerate(items)):\n",
    "            items[i] = item.upper()\n",
    "        \n",
    "        return super().__new__(items)\n",
    "        \n",
    "    def __init__(self, items):\n",
    "        self.items = items"
   ]
  },
  {
   "cell_type": "code",
   "execution_count": null,
   "id": "4276d3d7-fd92-4272-82fb-c69258fd07fb",
   "metadata": {},
   "outputs": [
    {
     "ename": "TypeError",
     "evalue": "dict.__new__(X): X is not a type object (list)",
     "output_type": "error",
     "traceback": [
      "\u001b[0;31m---------------------------------------------------------------------------\u001b[0m",
      "\u001b[0;31mTypeError\u001b[0m                                 Traceback (most recent call last)",
      "Cell \u001b[0;32mIn [9], line 1\u001b[0m\n\u001b[0;32m----> 1\u001b[0m u \u001b[38;5;241m=\u001b[39m \u001b[43mUppercaseTuple\u001b[49m\u001b[43m(\u001b[49m\u001b[43m[\u001b[49m\u001b[38;5;124;43m\"\u001b[39;49m\u001b[38;5;124;43mhello\u001b[39;49m\u001b[38;5;124;43m\"\u001b[39;49m\u001b[43m,\u001b[49m\u001b[43m \u001b[49m\u001b[38;5;124;43m\"\u001b[39;49m\u001b[38;5;124;43ms\u001b[39;49m\u001b[38;5;124;43m\"\u001b[39;49m\u001b[43m]\u001b[49m\u001b[43m)\u001b[49m\n",
      "Cell \u001b[0;32mIn [8], line 6\u001b[0m, in \u001b[0;36mUppercaseTuple.__new__\u001b[0;34m(self, items)\u001b[0m\n\u001b[1;32m      3\u001b[0m \u001b[38;5;28;01mfor\u001b[39;00m i, item \u001b[38;5;129;01min\u001b[39;00m \u001b[38;5;28mlist\u001b[39m(\u001b[38;5;28menumerate\u001b[39m(items)):\n\u001b[1;32m      4\u001b[0m     items[i] \u001b[38;5;241m=\u001b[39m item\u001b[38;5;241m.\u001b[39mupper()\n\u001b[0;32m----> 6\u001b[0m \u001b[38;5;28;01mreturn\u001b[39;00m \u001b[38;5;28;43msuper\u001b[39;49m\u001b[43m(\u001b[49m\u001b[43m)\u001b[49m\u001b[38;5;241;43m.\u001b[39;49m\u001b[38;5;21;43m__new__\u001b[39;49m\u001b[43m(\u001b[49m\u001b[43mitems\u001b[49m\u001b[43m)\u001b[49m\n",
      "\u001b[0;31mTypeError\u001b[0m: dict.__new__(X): X is not a type object (list)"
     ]
    }
   ],
   "source": [
    "u = UppercaseTuple([\"hello\", \"s\"])"
   ]
  },
  {
   "cell_type": "code",
   "execution_count": null,
   "id": "d92c5b8e-b0b6-433b-9ff0-a85b7378f1eb",
   "metadata": {},
   "outputs": [
    {
     "data": {
      "text/plain": [
       "[(0, 'x'), (1, 'y')]"
      ]
     },
     "execution_count": null,
     "metadata": {},
     "output_type": "execute_result"
    }
   ],
   "source": [
    "list(enumerate([\"x\", \"y\"]))"
   ]
  },
  {
   "cell_type": "code",
   "execution_count": null,
   "id": "960b3c8e-36a9-40da-b486-316b9b7087d5",
   "metadata": {},
   "outputs": [],
   "source": [
    "class PhoneField:\n",
    "    def __get__(self, instance, owner):\n",
    "        return self.value\n",
    "    \n",
    "    def __set__(self, instance, value):\n",
    "        self.value = value"
   ]
  },
  {
   "cell_type": "code",
   "execution_count": null,
   "id": "7ada7769-38de-45fc-a56d-12e8360c6746",
   "metadata": {},
   "outputs": [],
   "source": [
    "class Person:\n",
    "    phone_number = "
   ]
  },
  {
   "cell_type": "markdown",
   "id": "06ca4aeb-dc74-40f1-925e-18800153acd0",
   "metadata": {},
   "source": [
    "### SQL"
   ]
  },
  {
   "cell_type": "code",
   "execution_count": null,
   "id": "6703654f-4a31-444e-aa31-b90bf460f4c8",
   "metadata": {},
   "outputs": [],
   "source": [
    "SELECT * FROM files WHERE NOT size"
   ]
  },
  {
   "cell_type": "markdown",
   "id": "e4f2ad6f-6456-48d7-9c64-c17043c1f11d",
   "metadata": {},
   "source": [
    "### fastcore"
   ]
  },
  {
   "cell_type": "code",
   "execution_count": null,
   "id": "c6bdfae6-f1a0-47e1-a5e7-6a24d45c548a",
   "metadata": {},
   "outputs": [],
   "source": [
    "from fastcore.basics import *"
   ]
  },
  {
   "cell_type": "code",
   "execution_count": null,
   "id": "fd7ba478-5c7e-45d6-b79f-df618fab2acf",
   "metadata": {},
   "outputs": [],
   "source": [
    "class _T(Stateful):\n",
    "    def __init__(self):\n",
    "        super().__init__()\n",
    "        self.a = 1\n",
    "        self._state['test'] = 2"
   ]
  },
  {
   "cell_type": "markdown",
   "id": "1edb4ced-de62-434f-9c57-22c965a45a6c",
   "metadata": {},
   "source": [
    "### SciPy"
   ]
  },
  {
   "cell_type": "markdown",
   "id": "87ce3d1e-ad9b-4a8d-ab8b-ff561357156b",
   "metadata": {},
   "source": [
    "### Deep Learning"
   ]
  },
  {
   "cell_type": "code",
   "execution_count": null,
   "id": "61b18d10-5458-4de6-bad0-7cf7b7b0ef18",
   "metadata": {},
   "outputs": [],
   "source": [
    "residual block, skip-connection, conv, norm, linear"
   ]
  },
  {
   "cell_type": "code",
   "execution_count": null,
   "id": "c0b5f824-69e4-4645-9262-414f33c53f7a",
   "metadata": {},
   "outputs": [],
   "source": [
    "def softmax(x):\n",
    "    "
   ]
  },
  {
   "cell_type": "code",
   "execution_count": null,
   "id": "e9e1417a-ce47-4a80-a96a-17f6a9d2621d",
   "metadata": {},
   "outputs": [],
   "source": [
    "import torch.nn as nn\n",
    "import torch.nn.functional as F"
   ]
  },
  {
   "cell_type": "code",
   "execution_count": null,
   "id": "42f8576a-138c-4885-b0a5-a86b3d247305",
   "metadata": {},
   "outputs": [],
   "source": [
    "class ResidualBlock(nn.Module):\n",
    "    def __init__(self, in_channels, out_channels, stride, downsample):\n",
    "        self.conv1 = nn.Conv2d(\n",
    "            in_channels, out_channels,\n",
    "            kernel_size=3,\n",
    "            stride=1, padding=1\n",
    "        )\n",
    "        self.bn1 = nn.BatchNorm2d(out_channels)\n",
    "        self.act1 = nn.ReLU()\n",
    "        self.conv2 = nn.Conv2d(\n",
    "            out_channels, out_channels,\n",
    "            kernel_size=3,\n",
    "            stride=stride, padding=1\n",
    "        )\n",
    "        self.bn2 = nn.BatchNorm2d(out_channels)\n",
    "        self.act2 = nn.ReLU()\n",
    "    \n",
    "    def forward(self, x):\n",
    "        residual = x\n",
    "        out = self.act1(self.bn1(self.conv1(x)))\n",
    "        out = self.bn2(self.conv2(out))\n",
    "        \n",
    "        out += residual\n",
    "        return self.act2(out)"
   ]
  },
  {
   "cell_type": "code",
   "execution_count": null,
   "id": "7730506b-59e2-443e-819b-e25f695b62a1",
   "metadata": {},
   "outputs": [],
   "source": [
    "import torch"
   ]
  },
  {
   "cell_type": "code",
   "execution_count": null,
   "id": "e0c42887-d7fe-4616-95a4-aaa70e040293",
   "metadata": {},
   "outputs": [],
   "source": [
    "class LSTMCell(nn.Module):\n",
    "    def __init__(self, n_input, n_hidden):\n",
    "        super().__init__()\n",
    "        self.forget_gate = nn.Linear(n_hidden + n_hidden, n_hidden)\n",
    "        self.input_gate = nn.Linear(n_hidden + n_hidden, n_hidden)\n",
    "        self.cell_gate = nn.Linear(n_hidden + n_hidden, n_hidden)\n",
    "        self.output_gate = nn.Linear(n_hidden + n_hidden, n_hidden)\n",
    "    \n",
    "    def forward(self, inp, states):\n",
    "        prev_c, prev_h = states\n",
    "        \n",
    "        stacked_h = torch.stack([prev_h, inp])\n",
    "        \n",
    "        out_of_forget_gate = F.sigmoid(self.forget_gate(stacked_h))\n",
    "        out_of_input_gate = F.sigmoid(self.input_gate(stacked_h))\n",
    "        out_of_cell_gate = F.tanh(self.cell_gate(stacked_h))\n",
    "        out_of_output_gate = F.sigmoid(self.output_gate(stacked_h))\n",
    "        \n",
    "        new_c = prev_c * out_of_forget_gate + out_of_input_gate * out_of_cell_gate\n",
    "        new_h = F.tanh(new_c) * out_of_output_gate\n",
    "        \n",
    "        return new_h"
   ]
  },
  {
   "cell_type": "code",
   "execution_count": null,
   "id": "e7ec23c2-e0d9-4385-bc85-f9279b8a0bab",
   "metadata": {},
   "outputs": [],
   "source": [
    "class Optimizer:\n",
    "    def __init__(self, params, lr):\n",
    "        self.params = params\n",
    "        self.lr = lr\n",
    "    \n",
    "    def step(self):\n",
    "        for param in self.params:\n",
    "            param -= param.grad * self.lr"
   ]
  },
  {
   "cell_type": "code",
   "execution_count": null,
   "id": "51b04536-0054-4627-91e7-6282247a843f",
   "metadata": {},
   "outputs": [],
   "source": [
    "act - mean / var + self.eps"
   ]
  },
  {
   "cell_type": "code",
   "execution_count": null,
   "id": "942efa82-62dc-4c6f-9831-124df985da2c",
   "metadata": {},
   "outputs": [],
   "source": [
    "def sgd_step(params, step):\n",
    "    with torch.no_grad():\n",
    "        for param in params:\n",
    "            param -= param.grad * lr"
   ]
  },
  {
   "cell_type": "code",
   "execution_count": null,
   "id": "173b4937-6761-47ac-a88f-d67e40020b39",
   "metadata": {},
   "outputs": [],
   "source": [
    "def frobenius_norm(x):\n",
    "    return (x*x).sum().sqrt()"
   ]
  },
  {
   "cell_type": "code",
   "execution_count": null,
   "id": "ec4b4c3f-3df8-49bc-8a6a-46c68c945162",
   "metadata": {},
   "outputs": [],
   "source": [
    "def loss_of_fake(loss_func, evaluated):\n",
    "    target_evaluated = torch.zeros_like(evaluated)\n",
    "    return loss_func(evaluated, target_evaluated)"
   ]
  },
  {
   "cell_type": "code",
   "execution_count": null,
   "id": "2033e1a4-4f66-4541-9e7c-ac17f697abb7",
   "metadata": {},
   "outputs": [],
   "source": [
    "empty => empty token => empty and prompt embedding => concat"
   ]
  },
  {
   "cell_type": "code",
   "execution_count": null,
   "id": "46033c48-b6ac-44d9-8e00-1d8bdcb9751b",
   "metadata": {},
   "outputs": [],
   "source": []
  }
 ],
 "metadata": {
  "kernelspec": {
   "display_name": "Python 3 (ipykernel)",
   "language": "python",
   "name": "python3"
  }
 },
 "nbformat": 4,
 "nbformat_minor": 5
}
