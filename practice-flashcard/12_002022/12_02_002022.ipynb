{
 "cells": [
  {
   "cell_type": "markdown",
   "id": "714b9aad-de7b-46f1-b58f-ddadbc0d284a",
   "metadata": {},
   "source": [
    "### Python"
   ]
  },
  {
   "cell_type": "code",
   "execution_count": null,
   "id": "174f0ad1-f622-4cc7-95bc-157229e7074e",
   "metadata": {},
   "outputs": [],
   "source": [
    "age: bool = 1"
   ]
  },
  {
   "cell_type": "code",
   "execution_count": null,
   "id": "a2999651-f5f8-4bea-8f72-8d028e33cb3e",
   "metadata": {},
   "outputs": [],
   "source": [
    "def my_func(a: 'this is integer' = 10):\n",
    "    pass"
   ]
  },
  {
   "cell_type": "code",
   "execution_count": null,
   "id": "6ef1c6b6-f53f-4ff1-9722-d72d220a2b76",
   "metadata": {},
   "outputs": [],
   "source": [
    "from scipy.optimize import minimize"
   ]
  },
  {
   "cell_type": "code",
   "execution_count": null,
   "id": "89bbac3c-efda-4cf6-b83c-7d668db2d8ac",
   "metadata": {},
   "outputs": [],
   "source": [
    "minimize(f)"
   ]
  },
  {
   "cell_type": "code",
   "execution_count": null,
   "id": "ab0c075d-a840-4c4b-95ff-fe635200bf9a",
   "metadata": {},
   "outputs": [],
   "source": [
    "class Animal:\n",
    "    def __init__(self, species):\n",
    "        self.species = species\n",
    "    \n",
    "    def __ne__(self, other):\n",
    "        if isinstance(other, Animal) and self.species == other.species:\n",
    "            return False\n",
    "        else:\n",
    "            return True"
   ]
  },
  {
   "cell_type": "code",
   "execution_count": null,
   "id": "e94a4f69-94cb-44f1-a2da-8010e10f96b0",
   "metadata": {},
   "outputs": [],
   "source": [
    "from dataclasses import dataclass"
   ]
  },
  {
   "cell_type": "code",
   "execution_count": null,
   "id": "93d878a1-5211-481a-857d-db6e307ec71c",
   "metadata": {},
   "outputs": [],
   "source": [
    "@dataclass\n",
    "class BrainImplant:\n",
    "    supervision: str\n",
    "    price: int\n",
    "    manufacture: str\n",
    "    advance: bool = False\n",
    "    \n",
    "    def __post_init__(self):\n",
    "        self.advance = self.supervision in ADVANCE_SUPERVISION"
   ]
  },
  {
   "cell_type": "code",
   "execution_count": null,
   "id": "c724260c-4379-496f-920e-df52518666cf",
   "metadata": {},
   "outputs": [],
   "source": [
    "@dataclass\n",
    "class Universe:\n",
    "    constant: int\n",
    "    initial_energy: int = 41\n",
    "    change_in_energy: int = 0"
   ]
  },
  {
   "cell_type": "code",
   "execution_count": null,
   "id": "9cdfff0a-8d73-417f-8330-80d98f81bf5b",
   "metadata": {},
   "outputs": [],
   "source": [
    "# @dataclass\n",
    "# class Robot:"
   ]
  },
  {
   "cell_type": "markdown",
   "id": "29d0f9c4-09bc-4a24-a416-19f0b085112e",
   "metadata": {},
   "source": [
    "Hint\n",
    "- The first method takes `instance` and `owner`\n",
    "- The second method takes `instance` and `value`"
   ]
  },
  {
   "cell_type": "code",
   "execution_count": null,
   "id": "1c408e4f-5c19-4372-b7f2-18b28e91b678",
   "metadata": {},
   "outputs": [],
   "source": [
    "class PhoneField:\n",
    "    def __get__(self, instance, owner):\n",
    "        return self.value\n",
    "\n",
    "    def __set__(self, instance, value):\n",
    "        self.value = value"
   ]
  },
  {
   "cell_type": "markdown",
   "id": "9ddff696-7fc9-4480-b07b-c76be0c4d8c6",
   "metadata": {},
   "source": [
    "Create a descriptor `PhoneField` that takes any input"
   ]
  },
  {
   "cell_type": "code",
   "execution_count": null,
   "id": "870a02cf-dbb3-44d3-8693-e6c59f966597",
   "metadata": {},
   "outputs": [],
   "source": [
    "class Person:\n",
    "    phone_number = PhoneField()"
   ]
  },
  {
   "cell_type": "code",
   "execution_count": null,
   "id": "f8ec4509-ddfc-4069-91b6-1855364e47af",
   "metadata": {},
   "outputs": [],
   "source": [
    "p = Person()"
   ]
  },
  {
   "cell_type": "code",
   "execution_count": null,
   "id": "7c64f2ca-c7ad-4bcb-94e0-ba7b676fe8b7",
   "metadata": {},
   "outputs": [],
   "source": [
    "p.phone_number = 1234"
   ]
  },
  {
   "cell_type": "code",
   "execution_count": null,
   "id": "e23bf6b0-173a-47f2-98a9-b3c9b15ffa78",
   "metadata": {},
   "outputs": [
    {
     "data": {
      "text/plain": [
       "1234"
      ]
     },
     "execution_count": null,
     "metadata": {},
     "output_type": "execute_result"
    }
   ],
   "source": [
    "p.phone_number"
   ]
  },
  {
   "cell_type": "code",
   "execution_count": null,
   "id": "1d646e57-bd89-4917-bafb-b1918aed5421",
   "metadata": {},
   "outputs": [],
   "source": [
    "class FunnyDict(dict):\n",
    "    def __getitem__(self, k):\n",
    "        if k not in self:\n",
    "            return \"Not found\"\n",
    "        \n",
    "        super().__getitem__(k)"
   ]
  },
  {
   "cell_type": "code",
   "execution_count": null,
   "id": "0943cfb2-bd13-4155-ad34-1a99d3433690",
   "metadata": {},
   "outputs": [],
   "source": [
    "from typing import Callable"
   ]
  },
  {
   "cell_type": "code",
   "execution_count": null,
   "id": "e4120d86-42eb-4866-9177-d39985b34c76",
   "metadata": {},
   "outputs": [],
   "source": [
    "def foo() -> Callable[[int, int], int]:\n",
    "    def add(x: int, y: int) -> int:\n",
    "        return x + y\n",
    "\n",
    "    return add"
   ]
  },
  {
   "cell_type": "code",
   "execution_count": null,
   "id": "28b96e43-8c8e-4b03-84cb-6e5217364068",
   "metadata": {},
   "outputs": [],
   "source": [
    "import re"
   ]
  },
  {
   "cell_type": "code",
   "execution_count": null,
   "id": "d0784f2f-b554-4fe9-bd12-0a4bdc4874cb",
   "metadata": {},
   "outputs": [],
   "source": [
    "patterns = re.compile(f'abc')"
   ]
  },
  {
   "cell_type": "code",
   "execution_count": null,
   "id": "e8ede13a-9301-4df1-9d87-cde3edab25de",
   "metadata": {},
   "outputs": [],
   "source": [
    "matches = patterns.finditer(string1)"
   ]
  },
  {
   "cell_type": "code",
   "execution_count": null,
   "id": "ebf2c572-e968-4221-af2d-8a52aedb8f4b",
   "metadata": {},
   "outputs": [],
   "source": [
    "import unittest"
   ]
  },
  {
   "cell_type": "code",
   "execution_count": null,
   "id": "f94db2e1-327d-45ac-a852-8c9b29bd4429",
   "metadata": {},
   "outputs": [],
   "source": [
    "class MediumTestCase(unittest.TestCase):\n",
    "    def test_avg(self):\n",
    "        \n",
    "        self.assertRaises()"
   ]
  },
  {
   "cell_type": "markdown",
   "id": "7c23f2e8-ceea-41a9-bcbe-638694d8ac2d",
   "metadata": {},
   "source": [
    "### Deep Learning"
   ]
  },
  {
   "cell_type": "code",
   "execution_count": null,
   "id": "c3234e5e-dfb5-4756-9cad-a19c6b978ae9",
   "metadata": {},
   "outputs": [],
   "source": [
    "k, w, q, embedding"
   ]
  },
  {
   "cell_type": "markdown",
   "id": "81b63107-dcd2-434c-b0d5-ff98e5eda4e7",
   "metadata": {},
   "source": [
    "positional embedding, multi-head attention, masked multi-head attention, layer norm, linear layer, skip connection "
   ]
  },
  {
   "cell_type": "code",
   "execution_count": null,
   "id": "0f713a15-9264-4c50-8413-4e8d131be884",
   "metadata": {},
   "outputs": [],
   "source": [
    "cpu infernece, quantization, sharing gpu"
   ]
  },
  {
   "cell_type": "markdown",
   "id": "85ee5b77-f012-4e6a-8072-8c4e1a77a93e",
   "metadata": {},
   "source": [
    "### fastcore"
   ]
  },
  {
   "cell_type": "code",
   "execution_count": null,
   "id": "1466fb63-7297-4b6e-89b2-5ec0b03ee0a0",
   "metadata": {},
   "outputs": [],
   "source": [
    "from fastcore.meta import *"
   ]
  },
  {
   "cell_type": "code",
   "execution_count": null,
   "id": "4b81592f-8b9d-42a9-b4e6-1596f84729de",
   "metadata": {},
   "outputs": [],
   "source": [
    "@delegates"
   ]
  }
 ],
 "metadata": {
  "kernelspec": {
   "display_name": "Python 3 (ipykernel)",
   "language": "python",
   "name": "python3"
  }
 },
 "nbformat": 4,
 "nbformat_minor": 5
}
