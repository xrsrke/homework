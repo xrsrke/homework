{
 "cells": [
  {
   "cell_type": "markdown",
   "id": "ced2bf04-7fab-4e41-acaa-0a9f5c571d30",
   "metadata": {},
   "source": [
    "### Maintainable and Scalable"
   ]
  },
  {
   "cell_type": "code",
   "execution_count": null,
   "id": "20695efe-292f-4467-b21c-409c0c1f5597",
   "metadata": {},
   "outputs": [],
   "source": [
    "class CreatureModifier:\n",
    "    def __init__(self, creature):\n",
    "        self.creature = creature\n",
    "    \n",
    "    def add_modifier(self, modifier):\n",
    "        self.\n",
    "    \n",
    "    def handle(self):\n",
    "        pass"
   ]
  },
  {
   "cell_type": "code",
   "execution_count": null,
   "id": "db74705a-f3e1-4eba-909b-5f32d8513f34",
   "metadata": {},
   "outputs": [],
   "source": [
    "param, init"
   ]
  },
  {
   "cell_type": "code",
   "execution_count": null,
   "id": "8bba5d55-b116-4547-ae3e-37ccd55090e2",
   "metadata": {},
   "outputs": [],
   "source": [
    "from typing import TypedDict"
   ]
  },
  {
   "cell_type": "code",
   "execution_count": null,
   "id": "763d51eb-2db1-41b8-998c-4f86b3507a1e",
   "metadata": {},
   "outputs": [],
   "source": [
    "class NutritionInformation(TypedDict):\n",
    "    value: int\n",
    "    unit: str"
   ]
  },
  {
   "cell_type": "code",
   "execution_count": null,
   "id": "9743fbd9-38c6-4d25-a27a-3dd38e7f87b4",
   "metadata": {},
   "outputs": [],
   "source": [
    "class RecipeNutritionInformation(TypedDict):\n",
    "    recipes_used: int\n",
    "    calories: NutritionInformation\n",
    "    carbs: NutritionInformation"
   ]
  },
  {
   "cell_type": "code",
   "execution_count": null,
   "id": "44cc0768-9f33-4fd6-8a65-e235f15dc341",
   "metadata": {},
   "outputs": [],
   "source": [
    "from abc import ABC, abstractclassmethod"
   ]
  },
  {
   "cell_type": "code",
   "execution_count": null,
   "id": "33916a92-6e58-481f-a787-fa5e43bf7dd2",
   "metadata": {},
   "outputs": [],
   "source": [
    "class Expense(ABC):\n",
    "    def __init__(self, amount):\n",
    "        self.amount = amount\n",
    "    \n",
    "    @abstractclassmethod\n",
    "    def is_meal(cls): pass"
   ]
  },
  {
   "cell_type": "code",
   "execution_count": null,
   "id": "9c84f8d1-98b1-42da-ba17-a23b43597b0a",
   "metadata": {},
   "outputs": [],
   "source": [
    "class DinnerExpense(Expense):\n",
    "    def is_meal(self): return True"
   ]
  },
  {
   "cell_type": "code",
   "execution_count": null,
   "id": "b29fa9e6-fe9e-43a0-9374-2859ca263d20",
   "metadata": {},
   "outputs": [],
   "source": [
    "class CarRentalExpense(Expense):\n",
    "    def is_meal(self): return False"
   ]
  },
  {
   "cell_type": "code",
   "execution_count": null,
   "id": "cada844c-a66c-4791-bf5d-6502978d5f35",
   "metadata": {},
   "outputs": [],
   "source": [
    "class BreakfastExpense(Expense):\n",
    "    def is_meal(self): return True"
   ]
  },
  {
   "cell_type": "code",
   "execution_count": null,
   "id": "6c9c3b32-dccf-48f0-b861-982624dc87b7",
   "metadata": {},
   "outputs": [],
   "source": [
    "class ExpenseNamer:\n",
    "    def name(self, expense):\n",
    "        if isinstance(expense, DinnerExpense):\n",
    "            return \"Dinner\"\n",
    "        elif isinstance(expense, CarRentalExpense):\n",
    "            return \"Car Rental\"\n",
    "        elif isinstance(expense, BreakfastExpense):\n",
    "            return \"Breakfast\""
   ]
  },
  {
   "cell_type": "code",
   "execution_count": null,
   "id": "7160cf71-919a-4c97-941e-cbfd58c97698",
   "metadata": {},
   "outputs": [],
   "source": [
    "class ExpenseReport:\n",
    "    def __init__(self, expenses):\n",
    "        self.expenses = expenses\n",
    "        self.total_expenses = 0\n",
    "        self.meal_expenses = 0\n",
    "    \n",
    "    def calcuate_total(self):\n",
    "        for expense in self.expenses:\n",
    "            self.total_expenses += expense.amount\n",
    "            self.add_to_meal_expense(expense)\n",
    "    \n",
    "    def add_to_meal_expense(self, expense):\n",
    "        if expense.is_meal() is True:\n",
    "            self.meal_expense += expense.amount"
   ]
  },
  {
   "cell_type": "code",
   "execution_count": null,
   "id": "ac20ab31-4c8c-49bd-b6b6-a7f61e9262e8",
   "metadata": {},
   "outputs": [],
   "source": [
    "cation + anion - ide"
   ]
  },
  {
   "cell_type": "markdown",
   "id": "9611c7bd-34b9-4f4e-85cd-68e05382e258",
   "metadata": {},
   "source": [
    "### Deep Learning"
   ]
  },
  {
   "cell_type": "code",
   "execution_count": null,
   "id": "b35a2ece-63f2-4c4c-be41-b5258eb75c3b",
   "metadata": {},
   "outputs": [],
   "source": [
    "import torch\n",
    "from torch import nn\n",
    "import torch.nn.functional as F\n",
    "import math"
   ]
  },
  {
   "cell_type": "code",
   "execution_count": null,
   "id": "dc982e5b-d10e-4532-b3f3-8485ffef2f88",
   "metadata": {},
   "outputs": [],
   "source": [
    "def scaled_dot_product_attention(Q, K, V, d_k):\n",
    "    QK_matmul = torch.matmul(Q, K.T)\n",
    "    scaled_QK_matmul = QK_matmul / math.sqrt(d_k)\n",
    "    attention_weights = F.softmax(scaled_QK_matmul, dim=-1)\n",
    "    output = torch.matmul(attention_weights, V)\n",
    "    \n",
    "    return output, attention_weights"
   ]
  },
  {
   "cell_type": "code",
   "execution_count": null,
   "id": "cd23cae6-e48c-4b44-9b56-2b30f046b507",
   "metadata": {},
   "outputs": [],
   "source": [
    "class Model:\n",
    "    def __init__(self, w1, b1, w2, b2):\n",
    "        self.layers = [\n",
    "            Lin(w1, b1),\n",
    "            ReLU(),\n",
    "            Lin(w2, b2)\n",
    "        ]\n",
    "        self.loss = Mse()\n",
    "    \n",
    "    def forward(self, x, y):\n",
    "        for l in self.layers:\n",
    "            x = l(x)\n",
    "        \n",
    "        loss = self.loss(x, y)\n",
    "        return loss"
   ]
  },
  {
   "cell_type": "code",
   "execution_count": null,
   "id": "7b970866-152e-4e62-ba7d-33cb48f43f3c",
   "metadata": {},
   "outputs": [],
   "source": [
    "def frobenius_norm(x):\n",
    "    return (x*x).sum().sqrt()"
   ]
  },
  {
   "cell_type": "code",
   "execution_count": null,
   "id": "1de63a11-6a54-4490-b3db-6cfd663e4811",
   "metadata": {},
   "outputs": [],
   "source": [
    "forget, input, output, cell"
   ]
  },
  {
   "cell_type": "code",
   "execution_count": null,
   "id": "eec99405-22ef-4f82-aaeb-a207e43ae0c5",
   "metadata": {},
   "outputs": [],
   "source": [
    "from torch.utils.data import DataLoader"
   ]
  },
  {
   "cell_type": "code",
   "execution_count": null,
   "id": "1a649a7a-1f83-4b78-a973-ceeca633e7b6",
   "metadata": {},
   "outputs": [],
   "source": [
    "train_dl = DataLoader(train_ds, batch_size=64)"
   ]
  },
  {
   "cell_type": "code",
   "execution_count": null,
   "id": "cc84ff06-835a-4a6d-b083-d4ea20503700",
   "metadata": {},
   "outputs": [],
   "source": [
    "def one_hot(idx, n_elements):\n",
    "    zeros = torch.zeros(n_elements)\n",
    "    zeros[idx] = 1\n",
    "    \n",
    "    return zeros"
   ]
  },
  {
   "cell_type": "code",
   "execution_count": null,
   "id": "0c56386c-f57d-44ea-9ce2-97ddd471583c",
   "metadata": {},
   "outputs": [
    {
     "data": {
      "text/plain": [
       "tensor([0., 0., 1., 0., 0.])"
      ]
     },
     "execution_count": null,
     "metadata": {},
     "output_type": "execute_result"
    }
   ],
   "source": [
    "one_hot(2, 5)"
   ]
  },
  {
   "cell_type": "code",
   "execution_count": null,
   "id": "f33d5305-b833-4dc6-b37e-f42804711493",
   "metadata": {},
   "outputs": [],
   "source": [
    "class DotProduct(nn.Module):\n",
    "    def forward(self, x):\n",
    "        users = self.user_factors(x[:, 0])\n",
    "        movies = self.movie_factors(x[:, 1])\n",
    "        \n",
    "        return (users*movies).sum(dim=-1)\n",
    "   "
   ]
  },
  {
   "cell_type": "code",
   "execution_count": null,
   "id": "52687388-758f-4aa9-bed6-4ec974752433",
   "metadata": {},
   "outputs": [],
   "source": [
    "kernel1 = 2 x 2\n",
    "kernel1 = 2 x 2"
   ]
  },
  {
   "cell_type": "code",
   "execution_count": null,
   "id": "1e188fca-4845-4f7a-9f55-550a143e2ecf",
   "metadata": {},
   "outputs": [],
   "source": [
    "current_state = torch.zeros([0, 0, 1])"
   ]
  },
  {
   "cell_type": "code",
   "execution_count": null,
   "id": "354c4544-4ead-4388-8700-52b502e38ffc",
   "metadata": {},
   "outputs": [],
   "source": [
    "prob_next_state = current_state @ transition_"
   ]
  },
  {
   "cell_type": "code",
   "execution_count": null,
   "id": "647d4056-a047-4d1b-9739-5f81a1d1c3fc",
   "metadata": {},
   "outputs": [],
   "source": [
    "reward, env, agent, policy, observation/state, action "
   ]
  },
  {
   "cell_type": "code",
   "execution_count": null,
   "id": "6a3a3620-67d1-4c8a-9bb6-7adff5765f5d",
   "metadata": {},
   "outputs": [],
   "source": [
    "model, policy, value function"
   ]
  },
  {
   "cell_type": "code",
   "execution_count": null,
   "id": "66494304-59bb-4a24-86d9-dc2a8f48854f",
   "metadata": {},
   "outputs": [],
   "source": [
    "future state only depends on current state, not past states"
   ]
  },
  {
   "cell_type": "code",
   "execution_count": null,
   "id": "e3dc8afe-6c9b-432c-bc01-bdcda8358216",
   "metadata": {},
   "outputs": [],
   "source": [
    "use both policy and value function"
   ]
  },
  {
   "cell_type": "code",
   "execution_count": null,
   "id": "f95ef974-de47-438f-981c-96deaa6ae90f",
   "metadata": {},
   "outputs": [],
   "source": [
    "use a model to predict env, policy and value function are optional"
   ]
  },
  {
   "cell_type": "code",
   "execution_count": null,
   "id": "3471a6c2-ba5b-493b-a658-0af8427ab17b",
   "metadata": {},
   "outputs": [],
   "source": [
    "2 x 2\n",
    "2 x 2\n",
    "2 x 2 x2"
   ]
  },
  {
   "cell_type": "code",
   "execution_count": null,
   "id": "2a966987-6a35-43f1-bec1-f6ede940d8c0",
   "metadata": {},
   "outputs": [],
   "source": [
    "rewards = torch.tensor([10, 20, 30, 40, 50])"
   ]
  },
  {
   "cell_type": "code",
   "execution_count": null,
   "id": "758d423c-9497-4126-871c-c616c0853973",
   "metadata": {},
   "outputs": [
    {
     "data": {
      "text/plain": [
       "<enumerate>"
      ]
     },
     "execution_count": null,
     "metadata": {},
     "output_type": "execute_result"
    }
   ],
   "source": [
    "enumerate(rewards)"
   ]
  },
  {
   "cell_type": "code",
   "execution_count": null,
   "id": "1a92a87c-b16a-4eb9-b93d-f8a33ba70699",
   "metadata": {},
   "outputs": [],
   "source": [
    "def calculate_return(rewards, discount_factor):\n",
    "    total_return = 0.\n",
    "    \n",
    "    for i, reward in enumerate(rewards):\n",
    "        total_return += reward * (discount_factor**i)\n",
    "    \n",
    "    return total_return"
   ]
  },
  {
   "cell_type": "code",
   "execution_count": null,
   "id": "c983e8b1-0229-4e54-b313-249d2b2cf653",
   "metadata": {},
   "outputs": [
    {
     "data": {
      "text/plain": [
       "tensor([114.2650])"
      ]
     },
     "execution_count": null,
     "metadata": {},
     "output_type": "execute_result"
    }
   ],
   "source": [
    "calculate_return(rewards, torch.tensor([0.9]))"
   ]
  },
  {
   "cell_type": "code",
   "execution_count": null,
   "id": "542b80fc-f6f0-4c30-a7ae-2e93a3f01af2",
   "metadata": {},
   "outputs": [],
   "source": [
    "have/has subject past"
   ]
  }
 ],
 "metadata": {
  "kernelspec": {
   "display_name": "Python 3 (ipykernel)",
   "language": "python",
   "name": "python3"
  }
 },
 "nbformat": 4,
 "nbformat_minor": 5
}
