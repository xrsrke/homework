{
 "cells": [
  {
   "cell_type": "markdown",
   "id": "b7f0cd78",
   "metadata": {},
   "source": [
    "### AI"
   ]
  },
  {
   "cell_type": "code",
   "execution_count": 1,
   "id": "02018d14",
   "metadata": {},
   "outputs": [],
   "source": [
    "import torch\n",
    "import torch.nn.functional as F\n",
    "from torch import nn"
   ]
  },
  {
   "cell_type": "code",
   "execution_count": 2,
   "id": "ba4d5770",
   "metadata": {},
   "outputs": [],
   "source": [
    "class ShortcutProjection(nn.Module):\n",
    "    def __init__(self, in_channels, out_channels, stride):\n",
    "        super().__init__()\n",
    "        self.net = nn.Sequential(\n",
    "            nn.Conv2d(\n",
    "                in_channels, out_channels,\n",
    "                kernel_size=1, stride=stride\n",
    "            ),\n",
    "            nn.BatchNorm2d(out_channels)\n",
    "        )\n",
    "    \n",
    "    def forward(self, x):\n",
    "        return self.net(x)"
   ]
  },
  {
   "cell_type": "code",
   "execution_count": null,
   "id": "50c912bd",
   "metadata": {},
   "outputs": [],
   "source": [
    "last_hidden_state.hidden_states[-1]"
   ]
  },
  {
   "cell_type": "code",
   "execution_count": null,
   "id": "83d3d7e8",
   "metadata": {},
   "outputs": [],
   "source": [
    "1, 2, 3, 3"
   ]
  },
  {
   "cell_type": "code",
   "execution_count": 3,
   "id": "9010785b",
   "metadata": {},
   "outputs": [],
   "source": [
    "from einops import reduce"
   ]
  },
  {
   "cell_type": "code",
   "execution_count": null,
   "id": "5407371f",
   "metadata": {},
   "outputs": [],
   "source": [
    "output = reduce('b c h w -> b h w', reduction='mean')"
   ]
  },
  {
   "cell_type": "code",
   "execution_count": null,
   "id": "a7d99752",
   "metadata": {},
   "outputs": [],
   "source": [
    "mass, energy, space, time"
   ]
  },
  {
   "cell_type": "code",
   "execution_count": null,
   "id": "2a32950b",
   "metadata": {},
   "outputs": [],
   "source": [
    "minimize the ratio -> the smaller, the larger the objective"
   ]
  },
  {
   "cell_type": "code",
   "execution_count": null,
   "id": "62ca1ac4",
   "metadata": {},
   "outputs": [],
   "source": [
    "text_targets = text_embeddings @ text_embeddings.T\n",
    "image_targets = image_embeddings @ image_embeddings.T\n",
    "\n",
    "target = F.softmax(\n",
    "    (text_targets + image_targets) / (2*temperature), dim=-1\n",
    ")"
   ]
  },
  {
   "cell_type": "code",
   "execution_count": 4,
   "id": "406bc0f7",
   "metadata": {},
   "outputs": [],
   "source": [
    "import math"
   ]
  },
  {
   "cell_type": "code",
   "execution_count": 5,
   "id": "b5c45fa9",
   "metadata": {},
   "outputs": [],
   "source": [
    "class SelfAttention(nn.Module):\n",
    "    def __init__(self, d_head):\n",
    "        super().__init__()\n",
    "        self.d_head = d_head\n",
    "    \n",
    "    def forward(self, q, k, v):\n",
    "        qk_matmul = torch.matmul(q, k.transpose(-2, -1))\n",
    "        scores = qk_matmul / math.sqrt(self.d_head)\n",
    "        \n",
    "        attention_weights = F.softmax(scores, dim=-1)\n",
    "        output = torch.matmul(attention_weights, v)\n",
    "        \n",
    "        return output, attention_weights"
   ]
  },
  {
   "cell_type": "code",
   "execution_count": null,
   "id": "34de9661",
   "metadata": {},
   "outputs": [],
   "source": [
    "def compute_ratio(current, prev):\n",
    "    return (current - prev).exp()"
   ]
  },
  {
   "cell_type": "code",
   "execution_count": null,
   "id": "dfdfb877",
   "metadata": {},
   "outputs": [],
   "source": [
    "conv = nn.Conv2d(\n",
    "    in_channels=3, out_channels=64,\n",
    "    kernel_size=3, stride=1, padding=1\n",
    ")"
   ]
  },
  {
   "cell_type": "code",
   "execution_count": null,
   "id": "e1e83e2b",
   "metadata": {},
   "outputs": [],
   "source": []
  }
 ],
 "metadata": {
  "kernelspec": {
   "display_name": "Python 3 (ipykernel)",
   "language": "python",
   "name": "python3"
  },
  "language_info": {
   "codemirror_mode": {
    "name": "ipython",
    "version": 3
   },
   "file_extension": ".py",
   "mimetype": "text/x-python",
   "name": "python",
   "nbconvert_exporter": "python",
   "pygments_lexer": "ipython3",
   "version": "3.8.15"
  }
 },
 "nbformat": 4,
 "nbformat_minor": 5
}
