{
 "cells": [
  {
   "cell_type": "markdown",
   "id": "e65a482a-855f-4a3e-bcfa-453b9b3a2d04",
   "metadata": {},
   "source": [
    "### Python"
   ]
  },
  {
   "cell_type": "code",
   "execution_count": 1,
   "id": "b7f1b113-f172-4ee9-9378-bd220cc68403",
   "metadata": {},
   "outputs": [],
   "source": [
    "from fastcore.meta import *"
   ]
  },
  {
   "cell_type": "code",
   "execution_count": null,
   "id": "e9af4a8c-063a-4e69-8655-fb73db091dea",
   "metadata": {},
   "outputs": [],
   "source": [
    "@funcs_kwargs\n",
    "class DataLoader:\n",
    "    _methods = ['before_batch', 'after_batch']\n",
    "    def __init__(self): pass"
   ]
  },
  {
   "cell_type": "code",
   "execution_count": null,
   "id": "0eec2978-82be-4782-9bcb-edbab212fa0e",
   "metadata": {},
   "outputs": [],
   "source": [
    "x[1::2]"
   ]
  },
  {
   "cell_type": "code",
   "execution_count": 4,
   "id": "9ff6ff96-6f27-4223-999e-519ad7d677b7",
   "metadata": {},
   "outputs": [],
   "source": [
    "from typing import overload, List"
   ]
  },
  {
   "cell_type": "code",
   "execution_count": 3,
   "id": "8a9398ac-19e4-4dcd-979a-15745ffd2b5e",
   "metadata": {},
   "outputs": [],
   "source": [
    "@overload\n",
    "def getitem(x: str) -> str:\n",
    "    pass"
   ]
  },
  {
   "cell_type": "code",
   "execution_count": 6,
   "id": "84efab54-d432-44b4-a12e-ce34699bac6c",
   "metadata": {},
   "outputs": [],
   "source": [
    "@overload\n",
    "def getitem(x: List[int]) -> int:\n",
    "    pass"
   ]
  },
  {
   "cell_type": "code",
   "execution_count": 7,
   "id": "949ea867-404a-44ad-85b9-abde5147624e",
   "metadata": {},
   "outputs": [],
   "source": [
    "from typing import Protocol"
   ]
  },
  {
   "cell_type": "code",
   "execution_count": 8,
   "id": "2280fd33-3502-4f89-8ff8-0ef772ce39f6",
   "metadata": {},
   "outputs": [],
   "source": [
    "class Splitable(Protocol):\n",
    "    def split_in_half(self):\n",
    "        pass"
   ]
  },
  {
   "cell_type": "code",
   "execution_count": 9,
   "id": "ba3b42e7-5699-46e1-9dfc-11c5c284adb3",
   "metadata": {},
   "outputs": [],
   "source": [
    "def split(food: Splitable):\n",
    "    pass"
   ]
  },
  {
   "cell_type": "markdown",
   "id": "15503e60-6354-4acd-b725-0b9836ddb7b2",
   "metadata": {},
   "source": [
    "### Deep Learning"
   ]
  },
  {
   "cell_type": "code",
   "execution_count": null,
   "id": "fada03f3-7eb5-4a79-aa3e-7136dd496a64",
   "metadata": {},
   "outputs": [],
   "source": [
    "version: 0.01\n",
    "\n",
    "services:\n",
    "    mongodb:\n",
    "        image: mongo\n",
    "        ports:\n",
    "            - 27017:27017"
   ]
  },
  {
   "cell_type": "code",
   "execution_count": null,
   "id": "b9f218e5-f186-4a01-9763-d2439c4d6e3d",
   "metadata": {},
   "outputs": [],
   "source": [
    "28 + 30 + 70 + 32"
   ]
  },
  {
   "cell_type": "code",
   "execution_count": null,
   "id": "d3f928cf-e822-412e-82f0-84dde9679a44",
   "metadata": {},
   "outputs": [],
   "source": [
    "docker log monitor_app"
   ]
  },
  {
   "cell_type": "code",
   "execution_count": null,
   "id": "06cc9f2a-fdb8-4203-a2b4-4b368ffa7ce0",
   "metadata": {},
   "outputs": [],
   "source": [
    "docker run -d redis"
   ]
  },
  {
   "cell_type": "code",
   "execution_count": null,
   "id": "40f13f64-655e-4f23-8f06-c469d80ea504",
   "metadata": {},
   "outputs": [],
   "source": [
    "cat < h1.txt > h2.txtb"
   ]
  },
  {
   "cell_type": "code",
   "execution_count": null,
   "id": "854bbccf-9912-469e-bb4d-877192ab85df",
   "metadata": {
    "tags": []
   },
   "outputs": [],
   "source": [
    "docker rm 23a"
   ]
  },
  {
   "cell_type": "code",
   "execution_count": null,
   "id": "0a9987bf-3a3b-4680-aaa2-c7860f390bf9",
   "metadata": {},
   "outputs": [],
   "source": [
    "docker exec -it 12a /bin/bash"
   ]
  },
  {
   "cell_type": "code",
   "execution_count": null,
   "id": "eaf70960-5157-450b-8f19-4dbd6d412c8e",
   "metadata": {},
   "outputs": [],
   "source": [
    "docker-compose -f mongo-yaml up"
   ]
  },
  {
   "cell_type": "code",
   "execution_count": null,
   "id": "3be60aad-1074-476b-983c-c855878677f5",
   "metadata": {},
   "outputs": [],
   "source": [
    "x -ne y"
   ]
  },
  {
   "cell_type": "code",
   "execution_count": null,
   "id": "9ab3a48f-f48b-4f59-86ca-16b6818196cf",
   "metadata": {},
   "outputs": [],
   "source": [
    "cat foo{,1,2,3}"
   ]
  },
  {
   "cell_type": "code",
   "execution_count": null,
   "id": "1ab14275-cba7-4cd8-b2ad-44c46a1eaa0d",
   "metadata": {},
   "outputs": [],
   "source": [
    "name: integration test\n",
    "\n",
    "on: [push]\n",
    "\n",
    "jobs:\n",
    "    check-version:\n",
    "        runs-on: "
   ]
  },
  {
   "cell_type": "code",
   "execution_count": null,
   "id": "a8ab22ea-299f-4608-812b-b0068b8835fc",
   "metadata": {},
   "outputs": [],
   "source": [
    "docker-compose -f mongo-yaml down"
   ]
  },
  {
   "cell_type": "code",
   "execution_count": null,
   "id": "b7bffef2-f5f3-4246-aadf-ce0910f16b4e",
   "metadata": {},
   "outputs": [],
   "source": [
    "grep hello x.txt"
   ]
  },
  {
   "cell_type": "markdown",
   "id": "dbcce39b-0efd-44ad-a31b-c01527423a00",
   "metadata": {},
   "source": [
    "SELECT a.name, b.name FROM members as a INNER JOIN members as b ON a.supervisor_id = b.id"
   ]
  },
  {
   "cell_type": "markdown",
   "id": "52ceb2d9-58f4-44e3-9c05-85286845a5fd",
   "metadata": {},
   "source": [
    "### Deep Learning"
   ]
  },
  {
   "cell_type": "code",
   "execution_count": 10,
   "id": "c4fa595d-3e55-4102-9bb6-4258cb4f99d1",
   "metadata": {},
   "outputs": [],
   "source": [
    "import torch\n",
    "from torch import nn\n",
    "import torch.nn.functional as F"
   ]
  },
  {
   "cell_type": "code",
   "execution_count": null,
   "id": "992eea8d-7ce8-4b26-a6fb-fba6bcb737d6",
   "metadata": {},
   "outputs": [],
   "source": [
    "three neural networks, replay buffer, MCTS"
   ]
  },
  {
   "cell_type": "code",
   "execution_count": 11,
   "id": "8c47ad23-fd44-4520-9298-104fb4337622",
   "metadata": {},
   "outputs": [],
   "source": [
    "def compute_clipped_surrogate_objective(ratio, advantage_estimate, epsilon):\n",
    "    x = ratio * advantage_estimate\n",
    "    clipped_ratio = torch.clamp(ratio, min=1-epsilon, max=1+epsilon)\n",
    "    y = clipped_ratio * advantage_estimate\n",
    "    \n",
    "    return torch.min(x, y).mean()"
   ]
  },
  {
   "cell_type": "code",
   "execution_count": 12,
   "id": "491814ad-b74e-4981-8bf0-f56d67778007",
   "metadata": {},
   "outputs": [],
   "source": [
    "from einops import rearrange"
   ]
  },
  {
   "cell_type": "code",
   "execution_count": null,
   "id": "845b9674-58a8-4b73-a4f7-107783d79d44",
   "metadata": {},
   "outputs": [],
   "source": [
    "rearrange(images, '... 1 -> ...')"
   ]
  },
  {
   "cell_type": "code",
   "execution_count": 13,
   "id": "3fa2a3d5-d74b-4a98-8736-85122aa5b12e",
   "metadata": {},
   "outputs": [],
   "source": [
    "from torch.distributions import Categorical"
   ]
  },
  {
   "cell_type": "code",
   "execution_count": 14,
   "id": "3b5210ab-eb49-4cf7-93e7-fc53a5ed737c",
   "metadata": {},
   "outputs": [],
   "source": [
    "class Agent(nn.Module):\n",
    "    def __init__(self, n_observations, n_actions, n_hidden):\n",
    "        super().__init__()\n",
    "        self.actor = nn.Sequential(\n",
    "            nn.Linear(n_observations, n_hidden),\n",
    "            nn.Tanh(),\n",
    "            nn.Linear(n_hidden, n_hidden),\n",
    "            nn.Tanh(),\n",
    "            nn.Linear(n_hidden, n_actions),\n",
    "            nn.Softmax(dim=-1)\n",
    "        )\n",
    "        \n",
    "        self.critic = nn.Sequential(\n",
    "            nn.Linear(n_observations, n_hidden),\n",
    "            nn.Tanh(),\n",
    "            nn.Linear(n_hidden, n_hidden),\n",
    "            nn.Tanh(),\n",
    "            nn.Linear(n_hidden, 1)\n",
    "        )\n",
    "    \n",
    "    def get_critic_value(self, state):\n",
    "        return self.critic(state)\n",
    "    \n",
    "    def get_action_and_value(self, state):\n",
    "        probs = self.actor(state)\n",
    "        \n",
    "        dist = Categorical(probs)\n",
    "        action = dist.sample()\n",
    "        log_prob = dist.log_prob(action)\n",
    "        entropy = dist.entropy()\n",
    "        critic_value = self.get_critic_value(state)\n",
    "        \n",
    "        return action, log_prob, entropy, critic_value"
   ]
  },
  {
   "cell_type": "code",
   "execution_count": null,
   "id": "e59b8946-9b56-491b-86f8-ae9917a73d7a",
   "metadata": {},
   "outputs": [],
   "source": [
    "start_logit = outputs.start_logits\n",
    "end_logit = outputs.end_logits"
   ]
  },
  {
   "cell_type": "code",
   "execution_count": null,
   "id": "b03045d0-5c97-450a-a72d-dbe1637dcd3e",
   "metadata": {},
   "outputs": [],
   "source": [
    "start_idx = torch.argmax(start_logit)\n",
    "end_idx = torch.argmax(end_logit) + 1"
   ]
  },
  {
   "cell_type": "code",
   "execution_count": null,
   "id": "0dee14f9-ed01-4c10-a1ca-d42f41ff5a9a",
   "metadata": {},
   "outputs": [],
   "source": [
    "tokenizer.decode(input[0][start_idx:end_idx])"
   ]
  },
  {
   "cell_type": "code",
   "execution_count": null,
   "id": "44d6839c-14ee-4e7c-a62c-248a9e97be32",
   "metadata": {},
   "outputs": [],
   "source": [
    "what problem the system can solve, how it build"
   ]
  },
  {
   "cell_type": "code",
   "execution_count": null,
   "id": "442b1127-4c2a-4e55-a6d3-ef7413bda694",
   "metadata": {},
   "outputs": [],
   "source": [
    "x.clamp_min(2)"
   ]
  },
  {
   "cell_type": "code",
   "execution_count": null,
   "id": "2c2710ff-62e3-4493-9eb2-9ceab763c88e",
   "metadata": {},
   "outputs": [],
   "source": [
    "entropy_loss -> want to maximize -> minus, then larger value, lower loss\n",
    "value_loss -> want to minimize -> plus, then smaller value, smaller loss "
   ]
  },
  {
   "cell_type": "code",
   "execution_count": 15,
   "id": "76a38a81-1daf-4b13-a02d-1da8be90055d",
   "metadata": {},
   "outputs": [],
   "source": [
    "from einops import reduce"
   ]
  },
  {
   "cell_type": "code",
   "execution_count": null,
   "id": "b3b7e7bd-4ac1-4ffa-b608-060784f92ed8",
   "metadata": {},
   "outputs": [],
   "source": [
    "reduce(images, 'b c h w -> b h w', reduction=\"mean\")"
   ]
  },
  {
   "cell_type": "code",
   "execution_count": null,
   "id": "e29a93ec-6caf-49d8-b056-52137a83b574",
   "metadata": {},
   "outputs": [],
   "source": [
    "1, 2, 3, 3"
   ]
  },
  {
   "cell_type": "code",
   "execution_count": null,
   "id": "61e3e2c7-6fe3-4f8b-a87a-08c5357a99bf",
   "metadata": {},
   "outputs": [],
   "source": [
    "1, 3, 4"
   ]
  },
  {
   "cell_type": "code",
   "execution_count": 16,
   "id": "da8efd47-ce4d-4a7d-a184-f75578d8017b",
   "metadata": {},
   "outputs": [],
   "source": [
    "def compute_ratio(current, prev):\n",
    "    return (current - prev).exp()"
   ]
  },
  {
   "cell_type": "code",
   "execution_count": 17,
   "id": "2abe86ba-f6b1-47ae-ac84-03306ceab32c",
   "metadata": {},
   "outputs": [],
   "source": [
    "import gymnasium as gym"
   ]
  },
  {
   "cell_type": "code",
   "execution_count": null,
   "id": "2376343f-8807-44a2-b194-4d798ef62b26",
   "metadata": {},
   "outputs": [],
   "source": [
    "gym.vector.sync_vector_env([\n",
    "    lambda: gym.make(\"CartPole-v1\"),\n",
    "    lambda: gym.make(\"CartPole-v1\"),\n",
    "    lambda: gym.make(\"CartPole-v1\")\n",
    "])"
   ]
  },
  {
   "cell_type": "code",
   "execution_count": null,
   "id": "2b3f7a52-104f-4d32-8a63-1959acceeabc",
   "metadata": {},
   "outputs": [],
   "source": [
    "dynamics, represetantion, prediction"
   ]
  },
  {
   "cell_type": "code",
   "execution_count": null,
   "id": "b1511341-6b36-4c84-b8a4-3161c3df99d9",
   "metadata": {},
   "outputs": [],
   "source": [
    "not divide by zero"
   ]
  },
  {
   "cell_type": "code",
   "execution_count": 20,
   "id": "4570e58a-2d29-49f6-90af-05c421536cdc",
   "metadata": {},
   "outputs": [],
   "source": [
    "class PostionalWiseFeedForward(nn.Module):\n",
    "    def __init__(self, d_model, d_ff, dropout):\n",
    "        super().__init__()\n",
    "        self.layers = nn.Sequential(\n",
    "            nn.Linear(d_model, d_ff),\n",
    "            nn.ReLU(),\n",
    "            nn.Dropout(dropout),\n",
    "            nn.Linear(d_ff, d_model)\n",
    "        )\n",
    "    \n",
    "    def forward(self, x):\n",
    "        return self.layers(x)"
   ]
  },
  {
   "cell_type": "code",
   "execution_count": null,
   "id": "37e71b2f-d93b-45ba-b23d-6ce18cbfccce",
   "metadata": {},
   "outputs": [],
   "source": [
    "x.mean(dim=(0, 2))"
   ]
  },
  {
   "cell_type": "code",
   "execution_count": null,
   "id": "167a30d7-9218-4feb-adbc-2330f60f75ec",
   "metadata": {},
   "outputs": [],
   "source": [
    "weight, depend, code"
   ]
  },
  {
   "cell_type": "code",
   "execution_count": null,
   "id": "5f908601-f036-4f9d-b736-61e393969630",
   "metadata": {},
   "outputs": [],
   "source": [
    "backup with model, move to gpu"
   ]
  },
  {
   "cell_type": "code",
   "execution_count": 21,
   "id": "9306952e-e6d1-4cbf-aa5b-4d1ffd4f7b4e",
   "metadata": {},
   "outputs": [],
   "source": [
    "def covariance(x, y):\n",
    "    prod = (x-x.mean())*(y-y.mean())\n",
    "    \n",
    "    return prod.mean()"
   ]
  },
  {
   "cell_type": "code",
   "execution_count": 22,
   "id": "ea8e6727-e89c-40f8-87ab-9bf247bd8f9e",
   "metadata": {},
   "outputs": [],
   "source": [
    "class ListContainer(list):\n",
    "    def __init__(self, items):\n",
    "        self.items = items\n",
    "    \n",
    "    def __getitem__(self, idxes):\n",
    "        if isinstance(idx[0], bool):\n",
    "            return [item for idx, item in zip(idxes, items) if idx]"
   ]
  },
  {
   "cell_type": "code",
   "execution_count": null,
   "id": "d367b824-6012-4d5f-aa68-c6a0b66b36ea",
   "metadata": {},
   "outputs": [],
   "source": [
    "class LMModel()"
   ]
  },
  {
   "cell_type": "code",
   "execution_count": null,
   "id": "5116cae5-3880-4e6e-96c4-2015647f11d1",
   "metadata": {},
   "outputs": [],
   "source": [
    "do n steps\n",
    "make decision based on n-steps\n",
    "minimize the loss "
   ]
  },
  {
   "cell_type": "code",
   "execution_count": null,
   "id": "3216ad88-6f98-492d-a774-fd4ffc98f617",
   "metadata": {},
   "outputs": [],
   "source": [
    "torch.stack([x, x, x, x], dim=0)"
   ]
  },
  {
   "cell_type": "code",
   "execution_count": 24,
   "id": "316eb73e-39df-4f0c-8905-d80372926843",
   "metadata": {},
   "outputs": [],
   "source": [
    "def generate_transitions(model, env):\n",
    "    state, _ = env.reset()\n",
    "    \n",
    "    states = []\n",
    "    actions = []\n",
    "    next_states = []\n",
    "    rewards = []\n",
    "    dones = []\n",
    "    \n",
    "    while True:\n",
    "        action = model(state)\n",
    "        next_state, reward, done, truncated, info = env.step(action)\n",
    "        \n",
    "        states.append(state)\n",
    "        acitons.append(action)\n",
    "        next_states.append(next_state)\n",
    "        rewards.append(reward)\n",
    "        dones.append(done)\n",
    "        \n",
    "        if done: break\n",
    "        \n",
    "        state = next_state\n",
    "    \n",
    "    return states, actions, next_states, rewards, dones"
   ]
  },
  {
   "cell_type": "code",
   "execution_count": 25,
   "id": "a931508b-c88b-4e3d-99f0-6f578c0b10f0",
   "metadata": {},
   "outputs": [],
   "source": [
    "import torch"
   ]
  },
  {
   "cell_type": "code",
   "execution_count": 26,
   "id": "a5a6165f-3761-48f5-bc32-f6a73ec547f3",
   "metadata": {},
   "outputs": [
    {
     "ename": "NameError",
     "evalue": "name 'x' is not defined",
     "output_type": "error",
     "traceback": [
      "\u001b[0;31m---------------------------------------------------------------------------\u001b[0m",
      "\u001b[0;31mNameError\u001b[0m                                 Traceback (most recent call last)",
      "Cell \u001b[0;32mIn[26], line 1\u001b[0m\n\u001b[0;32m----> 1\u001b[0m \u001b[43mx\u001b[49m\u001b[38;5;241m.\u001b[39mmean(dim\u001b[38;5;241m=\u001b[39m\u001b[38;5;241m-\u001b[39m\u001b[38;5;241m1\u001b[39m, keepdim\u001b[38;5;241m=\u001b[39m\u001b[38;5;28;01mTrue\u001b[39;00m)\n",
      "\u001b[0;31mNameError\u001b[0m: name 'x' is not defined"
     ]
    }
   ],
   "source": [
    "x.mean(dim=-1, keepdim=True)"
   ]
  },
  {
   "cell_type": "code",
   "execution_count": 27,
   "id": "91af29c6-cdd6-460b-840b-835e9e1b0c5a",
   "metadata": {},
   "outputs": [],
   "source": [
    "from fastai.vision.all import *"
   ]
  },
  {
   "cell_type": "code",
   "execution_count": null,
   "id": "98d60b93-3599-415e-b320-8b74ae146778",
   "metadata": {},
   "outputs": [],
   "source": [
    "dblock = DataBlock(blocks=[ImageBlock, MultiCategoryBlock],\n",
    "                   get_x = get_x,\n",
    "                   get_y = get_y)"
   ]
  },
  {
   "cell_type": "code",
   "execution_count": null,
   "id": "4b057864-590a-4ff3-8a24-e21978320a5f",
   "metadata": {},
   "outputs": [],
   "source": [
    "dset = dblock.datasets()"
   ]
  },
  {
   "cell_type": "code",
   "execution_count": null,
   "id": "d9b97abd-1ba6-4318-9cf7-07104f8a4778",
   "metadata": {},
   "outputs": [],
   "source": [
    "did subject "
   ]
  }
 ],
 "metadata": {
  "kernelspec": {
   "display_name": "Python 3 (ipykernel)",
   "language": "python",
   "name": "python3"
  },
  "language_info": {
   "codemirror_mode": {
    "name": "ipython",
    "version": 3
   },
   "file_extension": ".py",
   "mimetype": "text/x-python",
   "name": "python",
   "nbconvert_exporter": "python",
   "pygments_lexer": "ipython3",
   "version": "3.8.15"
  }
 },
 "nbformat": 4,
 "nbformat_minor": 5
}
