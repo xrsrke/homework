{
 "cells": [
  {
   "cell_type": "code",
   "execution_count": 1,
   "id": "d5127aae-a5dc-4d1a-9d4e-fb25afbbe766",
   "metadata": {},
   "outputs": [
    {
     "data": {
      "text/plain": [
       "Any[]"
      ]
     },
     "execution_count": 1,
     "metadata": {},
     "output_type": "execute_result"
    }
   ],
   "source": [
    "xs = []"
   ]
  },
  {
   "cell_type": "code",
   "execution_count": 3,
   "id": "a4f27aa7-03a6-4531-adbd-c2763c99d7f2",
   "metadata": {},
   "outputs": [],
   "source": [
    "Threads.@threads for i in 1:4\n",
    "    push!(xs, i)\n",
    "end"
   ]
  }
 ],
 "metadata": {
  "kernelspec": {
   "display_name": "Julia 1.8.3",
   "language": "julia",
   "name": "julia-1.8"
  },
  "language_info": {
   "file_extension": ".jl",
   "mimetype": "application/julia",
   "name": "julia",
   "version": "1.8.3"
  }
 },
 "nbformat": 4,
 "nbformat_minor": 5
}
