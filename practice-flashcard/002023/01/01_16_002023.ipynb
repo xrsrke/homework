{
 "cells": [
  {
   "cell_type": "markdown",
   "id": "c3d0f87b",
   "metadata": {},
   "source": [
    "### Python"
   ]
  },
  {
   "cell_type": "code",
   "execution_count": 1,
   "id": "4b9e1fe5",
   "metadata": {},
   "outputs": [],
   "source": [
    "from unittest import TestCase"
   ]
  },
  {
   "cell_type": "code",
   "execution_count": null,
   "id": "94131c72",
   "metadata": {},
   "outputs": [],
   "source": [
    "class TestGetCompanies(TestCase):\n",
    "    def test_list_companies(self):\n",
    "        companies = Company().list_companies()\n",
    "        self.assertEqual(companies, 1)"
   ]
  },
  {
   "cell_type": "code",
   "execution_count": 2,
   "id": "9a8f7f47",
   "metadata": {},
   "outputs": [],
   "source": [
    "from typing import Union, List"
   ]
  },
  {
   "cell_type": "code",
   "execution_count": 3,
   "id": "4ea54cc9",
   "metadata": {},
   "outputs": [],
   "source": [
    "from typing import overload"
   ]
  },
  {
   "cell_type": "code",
   "execution_count": 4,
   "id": "0edb4124",
   "metadata": {},
   "outputs": [],
   "source": [
    "@overload\n",
    "def getitem(x: str) -> str:\n",
    "    pass"
   ]
  },
  {
   "cell_type": "code",
   "execution_count": 5,
   "id": "c7bca23f",
   "metadata": {},
   "outputs": [],
   "source": [
    "@overload\n",
    "def getitem(x: List[int]) -> int:\n",
    "    pass"
   ]
  },
  {
   "cell_type": "code",
   "execution_count": 6,
   "id": "5bb7372b",
   "metadata": {},
   "outputs": [],
   "source": [
    "from fastcore.meta import *"
   ]
  },
  {
   "cell_type": "code",
   "execution_count": 7,
   "id": "b27ba4d9",
   "metadata": {},
   "outputs": [
    {
     "ename": "NameError",
     "evalue": "name 'bar' is not defined",
     "output_type": "error",
     "traceback": [
      "\u001b[0;31m---------------------------------------------------------------------------\u001b[0m",
      "\u001b[0;31mNameError\u001b[0m                                 Traceback (most recent call last)",
      "Cell \u001b[0;32mIn[7], line 1\u001b[0m\n\u001b[0;32m----> 1\u001b[0m \u001b[38;5;129m@delegates\u001b[39m(\u001b[43mbar\u001b[49m)\n\u001b[1;32m      2\u001b[0m \u001b[38;5;28;01mdef\u001b[39;00m \u001b[38;5;21mfoo\u001b[39m():\n\u001b[1;32m      3\u001b[0m     \u001b[38;5;28;01mpass\u001b[39;00m\n",
      "\u001b[0;31mNameError\u001b[0m: name 'bar' is not defined"
     ]
    }
   ],
   "source": [
    "@delegates(bar)\n",
    "def foo():\n",
    "    pass"
   ]
  },
  {
   "cell_type": "code",
   "execution_count": null,
   "id": "b4c31519",
   "metadata": {},
   "outputs": [],
   "source": [
    "class Rectangle:\n",
    "    def __repr__(self):\n",
    "        return f\"Rectangle {self.width}, {self.height}\""
   ]
  },
  {
   "cell_type": "markdown",
   "id": "a96a5e16",
   "metadata": {},
   "source": [
    "### X"
   ]
  },
  {
   "cell_type": "markdown",
   "id": "785d5cb8",
   "metadata": {},
   "source": [
    "### SQL"
   ]
  },
  {
   "cell_type": "markdown",
   "id": "4de60d82",
   "metadata": {},
   "source": [
    "SELECT a.name, b.name FROM members as a INNER JOIN members as b ON a.supervisor_id = b.id"
   ]
  },
  {
   "cell_type": "code",
   "execution_count": null,
   "id": "db1f000b",
   "metadata": {},
   "outputs": [],
   "source": [
    "foo=$(pwd)"
   ]
  },
  {
   "cell_type": "code",
   "execution_count": null,
   "id": "3fa585d2",
   "metadata": {},
   "outputs": [],
   "source": [
    "name: integration test\n",
    "\n",
    "on: [push]\n",
    "    \n",
    "jobs:\n",
    "    check-version:\n",
    "        runs-on: ubuntu-latest\n",
    "        x:\n",
    "            - name: echo a string\n",
    "              run: echo \"hello world\"\n",
    "            - name: check python version\n",
    "              run: python3 --version"
   ]
  },
  {
   "cell_type": "code",
   "execution_count": null,
   "id": "28982d59",
   "metadata": {},
   "outputs": [],
   "source": [
    "from typing import "
   ]
  },
  {
   "cell_type": "code",
   "execution_count": 8,
   "id": "ad8be59c",
   "metadata": {},
   "outputs": [],
   "source": [
    "from enum import Enum"
   ]
  },
  {
   "cell_type": "code",
   "execution_count": 9,
   "id": "7927b5c6",
   "metadata": {},
   "outputs": [],
   "source": [
    "class MotherSauces(Enum):\n",
    "    BECHAMEL = \"Bechamel\"\n",
    "    VELOUTE = \"Veloute\""
   ]
  },
  {
   "cell_type": "code",
   "execution_count": 10,
   "id": "a4804bac",
   "metadata": {},
   "outputs": [
    {
     "ename": "NameError",
     "evalue": "name 'MotherSauce' is not defined",
     "output_type": "error",
     "traceback": [
      "\u001b[0;31m---------------------------------------------------------------------------\u001b[0m",
      "\u001b[0;31mNameError\u001b[0m                                 Traceback (most recent call last)",
      "Cell \u001b[0;32mIn[10], line 1\u001b[0m\n\u001b[0;32m----> 1\u001b[0m \u001b[38;5;28;01mdef\u001b[39;00m \u001b[38;5;21mcreate_sauce\u001b[39m(mother_sauce: \u001b[43mMotherSauce\u001b[49m):\n\u001b[1;32m      2\u001b[0m     \u001b[38;5;28;01mpass\u001b[39;00m\n",
      "\u001b[0;31mNameError\u001b[0m: name 'MotherSauce' is not defined"
     ]
    }
   ],
   "source": [
    "def create_sauce(mother_sauce: MotherSauce):\n",
    "    pass"
   ]
  },
  {
   "cell_type": "code",
   "execution_count": 15,
   "id": "482d9775",
   "metadata": {},
   "outputs": [],
   "source": [
    "from typing import List, Tuple"
   ]
  },
  {
   "cell_type": "code",
   "execution_count": 14,
   "id": "054f9c0f",
   "metadata": {},
   "outputs": [],
   "source": [
    "output1 = List[int]"
   ]
  },
  {
   "cell_type": "code",
   "execution_count": 16,
   "id": "4c9f4097",
   "metadata": {},
   "outputs": [],
   "source": [
    "output2 = List[Tuple[str, int, str]]"
   ]
  },
  {
   "cell_type": "code",
   "execution_count": null,
   "id": "d3273233",
   "metadata": {},
   "outputs": [],
   "source": [
    "docker networt create mongo-network"
   ]
  },
  {
   "cell_type": "markdown",
   "id": "da35a8d5",
   "metadata": {},
   "source": [
    "### Fucking AI"
   ]
  },
  {
   "cell_type": "code",
   "execution_count": 17,
   "id": "d6043d0d",
   "metadata": {},
   "outputs": [],
   "source": [
    "import torch\n",
    "from torch import nn\n",
    "import torch.nn.functional as F"
   ]
  },
  {
   "cell_type": "code",
   "execution_count": null,
   "id": "ef2207ff",
   "metadata": {},
   "outputs": [],
   "source": [
    "env.reset()"
   ]
  },
  {
   "cell_type": "code",
   "execution_count": null,
   "id": "605d30bb",
   "metadata": {},
   "outputs": [],
   "source": [
    "mass, space, symmetry, energy"
   ]
  },
  {
   "cell_type": "code",
   "execution_count": null,
   "id": "2a6814d5",
   "metadata": {},
   "outputs": [],
   "source": [
    "output = tokenizer(sentence)"
   ]
  },
  {
   "cell_type": "code",
   "execution_count": 18,
   "id": "bacc450a",
   "metadata": {},
   "outputs": [],
   "source": [
    "def to_uppercase(examples):\n",
    "    return {\n",
    "        \"summary\": examples[\"summary\"].upper()\n",
    "    }"
   ]
  },
  {
   "cell_type": "code",
   "execution_count": null,
   "id": "055e5e03",
   "metadata": {},
   "outputs": [],
   "source": [
    "dataset_samsum.map(to_uppercase)"
   ]
  },
  {
   "cell_type": "code",
   "execution_count": null,
   "id": "3d5cebf5",
   "metadata": {},
   "outputs": [],
   "source": [
    "1, 3, 3"
   ]
  },
  {
   "cell_type": "code",
   "execution_count": null,
   "id": "fbbc83a5",
   "metadata": {},
   "outputs": [],
   "source": [
    "Normalization > Pretokenize > Tokenize > Post-tokenize"
   ]
  },
  {
   "cell_type": "code",
   "execution_count": null,
   "id": "de65a4bd",
   "metadata": {},
   "outputs": [],
   "source": [
    "def summary_batch(article_batches, max_context_length):\n",
    "    \n",
    "    arr_summary = []\n",
    "    for article_batch in article_batches:\n",
    "        tokenized_article = tokenizer(\n",
    "            article_batch,\n",
    "            max_length=max_context_length,\n",
    "            truncation=True,\n",
    "            return_tensors=\"pt\",\n",
    "            **tokenizer_params\n",
    "        )\n",
    "        \n",
    "        summaries = model.generate(\n",
    "            input_ids = tokenized_article[\"input_ids\"],\n",
    "            attention_mask = tokenized_article[\"attention_mask\"],\n",
    "            **model_params\n",
    "        )\n",
    "        \n",
    "        decoded_summaries = tokenizer.decode(\n",
    "            summaries\n",
    "        )\n",
    "        \n",
    "        arr_summary.append(decoded_summaries)\n",
    "    \n",
    "    return arr_summary"
   ]
  },
  {
   "cell_type": "code",
   "execution_count": 19,
   "id": "f1200100",
   "metadata": {},
   "outputs": [],
   "source": [
    "from transformers import Trainer"
   ]
  },
  {
   "cell_type": "code",
   "execution_count": null,
   "id": "bd2d6363",
   "metadata": {},
   "outputs": [],
   "source": [
    "class DistillationTrainer(Trainer):\n",
    "    def __init__(self, *args, teacher_model, **kwargs):\n",
    "        super().__init__(*args, **kwargs)\n",
    "        self.teacher_model = teacher_model\n",
    "        self.loss_func = nn.KLDivLoss()\n",
    "    \n",
    "    def compute_loss(self, model, inputs, return_outputs):\n",
    "        output_student = model(**inputs)\n",
    "        logits_student = output.logits\n",
    "        loss_ce = output_student.loss\n",
    "        \n",
    "        with torch.no_grad():\n",
    "            output_teacher = self.teacher_model(**inputs)\n",
    "            logits_teacher = output_teacher.logits\n",
    "        \n",
    "        alpha = self.args.alpha\n",
    "        temperature = self.args.temperature\n",
    "        \n",
    "        loss_kl = temperature**2 * self.loss_func(\n",
    "            F.log_softmax(logits_student),\n",
    "            F.softmax(logits_teacher)\n",
    "        )\n",
    "        \n",
    "        loss = alpha*loss_ce + (1-alpha)*loss_kl\n",
    "        \n",
    "        return loss"
   ]
  },
  {
   "cell_type": "code",
   "execution_count": null,
   "id": "78c59388",
   "metadata": {},
   "outputs": [],
   "source": [
    "torch.multinomial(preds, num_samples=1)"
   ]
  },
  {
   "cell_type": "code",
   "execution_count": 20,
   "id": "4cda3423",
   "metadata": {},
   "outputs": [],
   "source": [
    "def compute_ratio(current, prev):\n",
    "    return current.log() - prev.log()"
   ]
  },
  {
   "cell_type": "code",
   "execution_count": 21,
   "id": "4ef70a28",
   "metadata": {},
   "outputs": [],
   "source": [
    "from fastai.text.all import *"
   ]
  },
  {
   "cell_type": "code",
   "execution_count": null,
   "id": "cb42ac30",
   "metadata": {},
   "outputs": [],
   "source": [
    "tfms = [neg_tfm, int2f_tfm]"
   ]
  },
  {
   "cell_type": "code",
   "execution_count": 22,
   "id": "98df9135",
   "metadata": {},
   "outputs": [],
   "source": [
    "from einops import rearrange"
   ]
  },
  {
   "cell_type": "code",
   "execution_count": null,
   "id": "ebe3eadf",
   "metadata": {},
   "outputs": [],
   "source": [
    "result = rearranger(images, 'b c (h w) -> b c h w')"
   ]
  },
  {
   "cell_type": "code",
   "execution_count": null,
   "id": "dcc281ca",
   "metadata": {},
   "outputs": [],
   "source": [
    "mass, energy, space, symmetry"
   ]
  },
  {
   "cell_type": "code",
   "execution_count": 23,
   "id": "1c633b9b",
   "metadata": {},
   "outputs": [],
   "source": [
    "def accuracy(sm_pred, targ):\n",
    "    pred_idx = torch.argmax(sm_pred, dim=-1)\n",
    "    return (pred_idx == targ).float().mean()"
   ]
  },
  {
   "cell_type": "code",
   "execution_count": 24,
   "id": "7da952c2",
   "metadata": {},
   "outputs": [],
   "source": [
    "def calculate_discounted_return_an_episode(rewards, discount_factors):\n",
    "    total_returns = 0.\n",
    "    for k, reward in enumerate(rewards):\n",
    "        total_returns += discount_factors**k * reward\n",
    "    \n",
    "    return total_returns"
   ]
  },
  {
   "cell_type": "code",
   "execution_count": 31,
   "id": "efe6c100",
   "metadata": {},
   "outputs": [],
   "source": [
    "def discount_reward(rewards, discount_factor):\n",
    "    discounted_rewards = []\n",
    "    \n",
    "    for k, reward in enumerate(rewards):\n",
    "        discounted_rewards.append(discount_factor**k * reward)\n",
    "    \n",
    "    return discounted_rewards"
   ]
  },
  {
   "cell_type": "code",
   "execution_count": 32,
   "id": "51023858",
   "metadata": {},
   "outputs": [],
   "source": [
    "rewards = torch.tensor([1, 2, 3, 4])"
   ]
  },
  {
   "cell_type": "code",
   "execution_count": 33,
   "id": "4a0f94d7",
   "metadata": {},
   "outputs": [
    {
     "data": {
      "text/plain": [
       "[tensor(1.), tensor(1.9800), tensor(2.9403), tensor(3.8812)]"
      ]
     },
     "execution_count": 33,
     "metadata": {},
     "output_type": "execute_result"
    }
   ],
   "source": [
    "discount_reward(rewards, 0.99)"
   ]
  },
  {
   "cell_type": "code",
   "execution_count": null,
   "id": "e10dda4c",
   "metadata": {},
   "outputs": [],
   "source": [
    "space, time, mass, energy, symmtry"
   ]
  }
 ],
 "metadata": {
  "kernelspec": {
   "display_name": "Python 3 (ipykernel)",
   "language": "python",
   "name": "python3"
  },
  "language_info": {
   "codemirror_mode": {
    "name": "ipython",
    "version": 3
   },
   "file_extension": ".py",
   "mimetype": "text/x-python",
   "name": "python",
   "nbconvert_exporter": "python",
   "pygments_lexer": "ipython3",
   "version": "3.8.15"
  }
 },
 "nbformat": 4,
 "nbformat_minor": 5
}
