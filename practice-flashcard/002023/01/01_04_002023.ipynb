{
 "cells": [
  {
   "cell_type": "markdown",
   "id": "f3fd2c6a-5ac8-4b14-ba26-597697d65c29",
   "metadata": {},
   "source": [
    "### Python"
   ]
  },
  {
   "cell_type": "code",
   "execution_count": 1,
   "id": "1a92a0e4-55b7-46e9-8dcb-1fed83aaee68",
   "metadata": {},
   "outputs": [],
   "source": [
    "class Bookshelf:\n",
    "    def __getitem__(self, k, v):\n",
    "        pass"
   ]
  },
  {
   "cell_type": "markdown",
   "id": "d183fdba-ae2a-4a43-bd2b-3be0cb6f6ccb",
   "metadata": {},
   "source": [
    "### NLP"
   ]
  },
  {
   "cell_type": "code",
   "execution_count": 3,
   "id": "fcc2d3af-3c19-4702-8b2d-c48e8fdf046b",
   "metadata": {},
   "outputs": [],
   "source": [
    "import torch\n",
    "from torch import nn\n",
    "import torch.nn.functional as F"
   ]
  },
  {
   "cell_type": "code",
   "execution_count": null,
   "id": "6c73d3e0-57fa-4575-97b5-5691c25b8391",
   "metadata": {},
   "outputs": [],
   "source": [
    "torch.gather(x, dim=1, index=indices)"
   ]
  },
  {
   "cell_type": "code",
   "execution_count": null,
   "id": "8da6f252-251e-4b4f-9b4d-d128ed230859",
   "metadata": {},
   "outputs": [],
   "source": [
    "predict -> append -> predict"
   ]
  },
  {
   "cell_type": "code",
   "execution_count": null,
   "id": "525636aa-a35a-4059-a0e5-4cad55e45157",
   "metadata": {},
   "outputs": [],
   "source": [
    "next_token = output[0, -1, :]"
   ]
  },
  {
   "cell_type": "code",
   "execution_count": null,
   "id": "91916ac7-91cc-401e-b1e3-267cdf1045e4",
   "metadata": {},
   "outputs": [],
   "source": [
    "next_token_probs = F.softmax(next_token, dim=-1)"
   ]
  },
  {
   "cell_type": "code",
   "execution_count": null,
   "id": "37997881-bb91-42c6-a335-6b97aea6fce8",
   "metadata": {},
   "outputs": [],
   "source": [
    "sorted_ids = torch.argmax(next_token_probs, dim=-1)"
   ]
  },
  {
   "cell_type": "code",
   "execution_count": null,
   "id": "0800c28f-56bf-4a1a-a40e-ec3a4574b09f",
   "metadata": {},
   "outputs": [],
   "source": [
    "increase -> flatten -> low = high => less precise\n",
    "\n",
    "decrease -> peak -> high = higher => precise"
   ]
  },
  {
   "cell_type": "code",
   "execution_count": null,
   "id": "678fb911-05fd-4698-8cf4-3e67bc84ab64",
   "metadata": {},
   "outputs": [],
   "source": [
    "split difference patterns"
   ]
  },
  {
   "cell_type": "code",
   "execution_count": null,
   "id": "21a5a880-947d-4eaf-a8d6-b13bb4f93c81",
   "metadata": {},
   "outputs": [],
   "source": [
    "predict k most liklihtoken"
   ]
  },
  {
   "cell_type": "code",
   "execution_count": null,
   "id": "84546f57-ebd5-46fa-9959-d8d87d538cbc",
   "metadata": {},
   "outputs": [],
   "source": [
    "output = model.generate(input_ids)"
   ]
  },
  {
   "cell_type": "code",
   "execution_count": null,
   "id": "e727fc5a-5a2f-4b2c-8a9e-6d0d8be76d9f",
   "metadata": {},
   "outputs": [],
   "source": [
    "decoded_text = tokenizer.decode(output)"
   ]
  },
  {
   "cell_type": "code",
   "execution_count": 4,
   "id": "f6ae175a-c314-489b-8a7b-e18ea8db4a32",
   "metadata": {},
   "outputs": [],
   "source": [
    "from einops import rearrange"
   ]
  },
  {
   "cell_type": "code",
   "execution_count": null,
   "id": "31de2e01-2606-4742-9e15-46ea9a512ed4",
   "metadata": {},
   "outputs": [],
   "source": [
    "result = rearrange(images, 'b c h w -> b c w h')"
   ]
  },
  {
   "cell_type": "code",
   "execution_count": 5,
   "id": "d71194d2-7a71-40cc-b2ba-94912113b0eb",
   "metadata": {},
   "outputs": [],
   "source": [
    "from torch.utils.data import random_split, DataLoader"
   ]
  },
  {
   "cell_type": "code",
   "execution_count": null,
   "id": "b93367d7-1eab-4722-bbfb-8b0140242a07",
   "metadata": {},
   "outputs": [],
   "source": [
    "dset_train, dset_valid = random_split(dataset)"
   ]
  },
  {
   "cell_type": "code",
   "execution_count": null,
   "id": "ebcd7ff4-a92f-4df2-8c10-85dea64f10dc",
   "metadata": {},
   "outputs": [],
   "source": [
    "train_loader = DataLoader(dset_train)"
   ]
  },
  {
   "cell_type": "code",
   "execution_count": null,
   "id": "a032aa57-3a4f-4f23-b81a-2e8c5f6ce343",
   "metadata": {},
   "outputs": [],
   "source": [
    "valid_loader = DataLoader(dset_valid)"
   ]
  },
  {
   "cell_type": "code",
   "execution_count": 6,
   "id": "965bab74-9759-40cc-b48a-a1bc7affeca2",
   "metadata": {},
   "outputs": [],
   "source": [
    "from torch.distributions import Categorical"
   ]
  },
  {
   "cell_type": "code",
   "execution_count": null,
   "id": "f238f0a4-6a7c-4ca9-aa8c-6db55bb2d677",
   "metadata": {},
   "outputs": [],
   "source": [
    "dist = Categorical(probs)"
   ]
  },
  {
   "cell_type": "code",
   "execution_count": null,
   "id": "ff2596e2-af07-4fd1-93ab-4cfbc6c2b507",
   "metadata": {},
   "outputs": [],
   "source": [
    "action = dist.sample()"
   ]
  },
  {
   "cell_type": "code",
   "execution_count": null,
   "id": "f94c820e-21e3-4875-811d-3eeeec677204",
   "metadata": {},
   "outputs": [],
   "source": [
    "log_prob = dist.log_prob(action)"
   ]
  },
  {
   "cell_type": "code",
   "execution_count": null,
   "id": "b71a2b77-2900-4600-bd18-a802f6f4caba",
   "metadata": {},
   "outputs": [],
   "source": [
    "next_token_logit = output.logits[0, -1, :][4]"
   ]
  },
  {
   "cell_type": "code",
   "execution_count": null,
   "id": "70169361-63a8-4ebf-8735-2e6af24de81d",
   "metadata": {},
   "outputs": [],
   "source": [
    "output = model.generate(input_ids, max_new_tokens=10)"
   ]
  },
  {
   "cell_type": "code",
   "execution_count": null,
   "id": "1cdc805c-fe03-4cc5-b935-750eff44ad12",
   "metadata": {},
   "outputs": [],
   "source": [
    "decoded_Text = tokenizer.decode(output[0])"
   ]
  },
  {
   "cell_type": "code",
   "execution_count": null,
   "id": "8fdf5578-d947-431c-b8ec-bd977202ab1f",
   "metadata": {},
   "outputs": [],
   "source": [
    "tokens = tokenizer.convert_ids_tokens(input_ids)"
   ]
  },
  {
   "cell_type": "code",
   "execution_count": null,
   "id": "da4e56e3-b7bc-4706-8d2d-54e141775315",
   "metadata": {},
   "outputs": [],
   "source": [
    "text = tokenizer.convert_tokens_to_str(tokens)"
   ]
  },
  {
   "cell_type": "code",
   "execution_count": null,
   "id": "9bf8ca6f-77d8-46f8-aadf-d498ea721b35",
   "metadata": {},
   "outputs": [],
   "source": [
    "from transformers import AutoTokenizer"
   ]
  },
  {
   "cell_type": "code",
   "execution_count": null,
   "id": "20ffbe14-54c7-486b-b258-27295f67ff06",
   "metadata": {},
   "outputs": [],
   "source": [
    "tokenizer = AutoTokenizer.from_pretrained('gpt2')"
   ]
  },
  {
   "cell_type": "code",
   "execution_count": null,
   "id": "a1b1280d-5c6d-4a1b-9926-88d47d48f944",
   "metadata": {},
   "outputs": [],
   "source": [
    "output = tokenizer(\"Persistence\")"
   ]
  },
  {
   "cell_type": "code",
   "execution_count": null,
   "id": "6dcc16a4-3ea4-45e7-83ef-ac98b77a95dd",
   "metadata": {},
   "outputs": [],
   "source": [
    "q_values = q_network(states, action)"
   ]
  },
  {
   "cell_type": "code",
   "execution_count": null,
   "id": "bd0e0463-c6f7-4962-915f-900d6b0cad84",
   "metadata": {},
   "outputs": [],
   "source": [
    "target_q = get_reward(states, actions) + gamma * value_network(states + 1).mean()"
   ]
  },
  {
   "cell_type": "code",
   "execution_count": null,
   "id": "77565c3b-a684-409a-9674-74d6eb9b7576",
   "metadata": {},
   "outputs": [],
   "source": [
    "error = (q_values - target_q).pow(2) * 0.5"
   ]
  },
  {
   "cell_type": "code",
   "execution_count": null,
   "id": "7a4c37ef-b120-4b7d-b061-f57dff08ff5e",
   "metadata": {},
   "outputs": [],
   "source": [
    "loss = error.mean()"
   ]
  },
  {
   "cell_type": "code",
   "execution_count": 7,
   "id": "42d7260e-97e2-44a3-960d-99034cead70c",
   "metadata": {},
   "outputs": [],
   "source": [
    "import multiprocessing"
   ]
  },
  {
   "cell_type": "code",
   "execution_count": null,
   "id": "45e0e73b-785a-4e55-b5a3-1ec62dc0cb70",
   "metadata": {},
   "outputs": [],
   "source": [
    "with multiprocessing.Pool(4) with pool:\n",
    "    result = pool.map(sum, numbers )"
   ]
  },
  {
   "cell_type": "code",
   "execution_count": null,
   "id": "c7253b93-498a-4af9-9a85-fcf756e7d4fc",
   "metadata": {},
   "outputs": [],
   "source": [
    "discounted_returns = compute_discounted_returns(rewards)"
   ]
  },
  {
   "cell_type": "code",
   "execution_count": null,
   "id": "8f0691f6-2d6a-460d-ab5e-70684bfde23a",
   "metadata": {},
   "outputs": [],
   "source": [
    "total_loss = 0"
   ]
  },
  {
   "cell_type": "code",
   "execution_count": null,
   "id": "e1737682-b33b-48e1-9f65-1a5d0b6f6169",
   "metadata": {},
   "outputs": [],
   "source": [
    "for discounted_return, prob in zip(discounted_returns, selected_action_probs):\n",
    "    total_loss += discounted_returns * -prob.log()"
   ]
  },
  {
   "cell_type": "code",
   "execution_count": null,
   "id": "4f092133-84af-4198-8028-4a3e6e0cf809",
   "metadata": {},
   "outputs": [],
   "source": [
    "loss = total_loss / len(rewards)"
   ]
  },
  {
   "cell_type": "code",
   "execution_count": null,
   "id": "79b1f198-e96c-4385-9fbc-e68a47e88a5b",
   "metadata": {},
   "outputs": [],
   "source": [
    "for t in range(n_steps):\n",
    "    q[t] = get_reward(states[t], actions[t]) + gamma * value(states[t+1]).mean()"
   ]
  },
  {
   "cell_type": "code",
   "execution_count": null,
   "id": "763a0019-1dd8-4069-b34a-43115b23cbf3",
   "metadata": {},
   "outputs": [],
   "source": [
    "dim / n_heads"
   ]
  },
  {
   "cell_type": "code",
   "execution_count": null,
   "id": "4f50cd07-0e96-4705-8889-58f53ab1f2d3",
   "metadata": {},
   "outputs": [],
   "source": [
    "text encoder, iamage encoder, projection head"
   ]
  },
  {
   "cell_type": "code",
   "execution_count": 8,
   "id": "0ccc5fd5-9acf-447d-a4b9-25578ec99fa1",
   "metadata": {},
   "outputs": [],
   "source": [
    "from einops import pack"
   ]
  },
  {
   "cell_type": "code",
   "execution_count": null,
   "id": "c1aff33a-debf-4a25-9c21-154b6dfbfc2f",
   "metadata": {},
   "outputs": [],
   "source": [
    "stacked_images = pack([image_rgb, image_depth], 'h w *')"
   ]
  },
  {
   "cell_type": "code",
   "execution_count": 9,
   "id": "48a7ebe3-44fb-4ab4-ad0b-8460fece1f48",
   "metadata": {},
   "outputs": [],
   "source": [
    "from einops import repeat"
   ]
  },
  {
   "cell_type": "code",
   "execution_count": null,
   "id": "283ecdf3-b6d8-4eaf-a761-70abbee03f24",
   "metadata": {},
   "outputs": [],
   "source": [
    "repeat(x, 'h w -> h w n', n=2)"
   ]
  },
  {
   "cell_type": "code",
   "execution_count": null,
   "id": "95635a60-0d82-4315-9329-52478c130cf8",
   "metadata": {},
   "outputs": [],
   "source": [
    "rearrange(images, 'b c h w -> (b c h w)')"
   ]
  },
  {
   "cell_type": "code",
   "execution_count": 10,
   "id": "441c9903-3b4c-49a9-aca1-d6084e6aaf53",
   "metadata": {},
   "outputs": [],
   "source": [
    "def create_mask(size):\n",
    "    return torch.ones((1, size, size)).triu()"
   ]
  },
  {
   "cell_type": "code",
   "execution_count": null,
   "id": "20580791-a337-4b49-8a6a-8b3e35173325",
   "metadata": {},
   "outputs": [],
   "source": [
    "class SelfAttention(nn.Module):\n",
    "    def __init__(self, )"
   ]
  },
  {
   "cell_type": "code",
   "execution_count": 11,
   "id": "7929b31d-53ec-4912-943f-eb04530ee883",
   "metadata": {},
   "outputs": [],
   "source": [
    "class MultiHeadAttention(nn.Module):\n",
    "    def __init__(self, attention, d_model, n_heads):\n",
    "        super().__init__()\n",
    "        \n",
    "        self.n_heads = n_heads\n",
    "        self.d_head = d_model // n_heads\n",
    "        self.attention = attention\n",
    "        \n",
    "        self.to_q = nn.Linear(d_model, n_heads * self.d_head)\n",
    "        self.to_k = nn.Linear(d_model, n_heads * self.d_head)\n",
    "        self.to_v = nn.Linear(d_model, n_heads * self.d_head)\n",
    "        \n",
    "        self.linear = nn.Linear(n_heads * self.d_head, d_model)\n",
    "    \n",
    "    def split_heads(self, x):\n",
    "        batch_size, seq_len, d_model = x.size()\n",
    "        return x.view(batch_size, self.n_heads, seq_len, self.d_head)\n",
    "\n",
    "    def concat(self, x):\n",
    "        batch_size, n_heads, seq_len, d_head = x.size()\n",
    "        return x.view(batch_size, seq_len, n_heads * d_head)\n",
    "    \n",
    "    def forward(self, pre_q, pre_k, pre_v):\n",
    "        q = self.to_q(pre_q)\n",
    "        k = self.to_k(pre_k)\n",
    "        v = self.to_v(pre_v)\n",
    "        \n",
    "        # split heads\n",
    "        q = self.split_heads(q)\n",
    "        k = self.split_heads(k)\n",
    "        v = self.split_heads(v)\n",
    "        \n",
    "        output, output_attention_weights = self.attention(q, k, v)\n",
    "        \n",
    "        # concat\n",
    "        output = self.concat(output)\n",
    "        \n",
    "        logits = self.linear(output)\n",
    "        \n",
    "        return logist, output_attention_weights"
   ]
  },
  {
   "cell_type": "code",
   "execution_count": 12,
   "id": "b7db9ff3-8471-4cc3-bd08-041a2181b72e",
   "metadata": {},
   "outputs": [],
   "source": [
    "from einops import rearrange"
   ]
  },
  {
   "cell_type": "code",
   "execution_count": null,
   "id": "fc8c2b17-a7d9-4acb-822d-6c616742155b",
   "metadata": {},
   "outputs": [],
   "source": [
    "rearrange(images, 'b c h w -> b c (h w)')"
   ]
  },
  {
   "cell_type": "code",
   "execution_count": null,
   "id": "cd592d6c-6653-47cf-808b-95594e6f948e",
   "metadata": {},
   "outputs": [],
   "source": [
    "output of encoder, target sentence"
   ]
  },
  {
   "cell_type": "code",
   "execution_count": 14,
   "id": "91e8d642-c4d4-4caf-86b6-2adffba7bc1f",
   "metadata": {},
   "outputs": [],
   "source": [
    "class BottleneckResidualBlock(nn.Module):\n",
    "    def __init__(self, in_channels, bottleneck_channels, out_channels, stride):\n",
    "        super().__init__()\n",
    "        \n",
    "        self.conv1 = nn.Conv2d(\n",
    "            in_channels, bottleneck_channels,\n",
    "            kernel_size=1, stride=1\n",
    "        )\n",
    "        self.norm1 = nn.BatchNorm2d(bottleneck_channels)\n",
    "        self.act1 = nn.ReLU()\n",
    "        self.conv2 = nn.Conv2d(\n",
    "            bottleneck_channels, bottleneck_channels,\n",
    "            kernel_size=3, stride=stride, padding=1\n",
    "        )\n",
    "        self.norm2 = nn.BatchNorm2d(bottleneck_channels)\n",
    "        self.act2 = nn.ReLU()\n",
    "        self.conv3 = nn.Conv2d(\n",
    "            bottleneck_channels, out_channels,\n",
    "            kernel_size=1, stride=1\n",
    "        )\n",
    "        self.norm3 = nn.BatchNorm2d(out_channels)\n",
    "        self.act3 = nn.ReLU()\n",
    "        \n",
    "        if stride != 1 or in_channels != out_channels:\n",
    "            self.downsample = ShortcutProjection(\n",
    "                in_channels, out_channels, stride\n",
    "            )\n",
    "        else:\n",
    "            self.downsample = nn.Identity\n",
    "    \n",
    "    def forward(self, x, residual):\n",
    "        out = self.act1(self.norm1(self.conv1(x)))\n",
    "        out = self.act2(self.norm2(self.conv2(out)))\n",
    "        out = self.norm3(self.conv3(out))\n",
    "        \n",
    "        out = out + residual\n",
    "        \n",
    "        out = self.act3(out)\n",
    "        \n",
    "        return out"
   ]
  },
  {
   "cell_type": "code",
   "execution_count": null,
   "id": "a5b74e7e-be66-4051-884d-5242d25e0626",
   "metadata": {
    "tags": []
   },
   "outputs": [],
   "source": [
    "def variance(x):\n",
    "    return x.pow(2).mean() - x.mean().pow(2)"
   ]
  },
  {
   "cell_type": "code",
   "execution_count": 15,
   "id": "f664695c-9004-4b07-b3f2-852d0973a582",
   "metadata": {},
   "outputs": [],
   "source": [
    "class ListContainer(list):\n",
    "    def __init__(self, items):\n",
    "        self.items = items\n",
    "    \n",
    "    def __getitem__(self, ks):\n",
    "        if isinstance(ks[0], bool):\n",
    "            return [item for k, item in zip(ks, items) if z]"
   ]
  },
  {
   "cell_type": "code",
   "execution_count": null,
   "id": "1ecb71f4-3370-4a85-91bb-45c9936d3c18",
   "metadata": {},
   "outputs": [],
   "source": []
  }
 ],
 "metadata": {
  "kernelspec": {
   "display_name": "Python 3 (ipykernel)",
   "language": "python",
   "name": "python3"
  },
  "language_info": {
   "codemirror_mode": {
    "name": "ipython",
    "version": 3
   },
   "file_extension": ".py",
   "mimetype": "text/x-python",
   "name": "python",
   "nbconvert_exporter": "python",
   "pygments_lexer": "ipython3",
   "version": "3.8.15"
  }
 },
 "nbformat": 4,
 "nbformat_minor": 5
}
