{
 "cells": [
  {
   "cell_type": "markdown",
   "id": "4003d5db-71e8-49c4-b268-ba10225d4145",
   "metadata": {},
   "source": [
    "### Python"
   ]
  },
  {
   "cell_type": "code",
   "execution_count": 1,
   "id": "137bd9d9-0559-4538-bda1-74d775c121fe",
   "metadata": {},
   "outputs": [],
   "source": [
    "import pytest"
   ]
  },
  {
   "cell_type": "code",
   "execution_count": 2,
   "id": "faf1e037-e9d9-4961-a2ae-44729e88eb61",
   "metadata": {},
   "outputs": [],
   "source": [
    "def test_raise_exception():\n",
    "    with pytest.raises(ValueError) as err:\n",
    "        pass"
   ]
  },
  {
   "cell_type": "code",
   "execution_count": null,
   "id": "d845d1ce-a2ba-4c2b-8ce4-60c9b63ca2cb",
   "metadata": {},
   "outputs": [],
   "source": [
    "ratings.groupby('title')['rating'].mean()"
   ]
  },
  {
   "cell_type": "code",
   "execution_count": null,
   "id": "8c073c3c-933d-40ec-93cd-b9e524ebc93d",
   "metadata": {},
   "outputs": [],
   "source": [
    "np.where(x > 1, \"GOOD\", \"BAD\")"
   ]
  },
  {
   "cell_type": "markdown",
   "id": "0eaeaf75-6517-43c3-acff-800dc6aa6111",
   "metadata": {},
   "source": [
    "### Deep Learning"
   ]
  },
  {
   "cell_type": "code",
   "execution_count": 3,
   "id": "87174728-8488-4325-b847-edb93c7efded",
   "metadata": {},
   "outputs": [],
   "source": [
    "from torch import nn"
   ]
  },
  {
   "cell_type": "code",
   "execution_count": null,
   "id": "bab7071f-dac9-4d62-baeb-537a6ae1fa80",
   "metadata": {},
   "outputs": [],
   "source": [
    "class BottleneckResidualBlock(nn.Module):\n",
    "    def __init__(self, in_channels, bottleneck_channels,)"
   ]
  },
  {
   "cell_type": "markdown",
   "id": "19ec7c27-9109-4826-82e9-a8d865bc82bb",
   "metadata": {},
   "source": [
    "### Reinforcement Learning"
   ]
  },
  {
   "cell_type": "code",
   "execution_count": 5,
   "id": "10299740-b778-411a-92cb-12feb5569448",
   "metadata": {},
   "outputs": [],
   "source": [
    "def compute_clipped_surrogate_objective(ratio, advantage_estimate, epsilon):\n",
    "    x = ratio * advantage_estimate\n",
    "    y = torch.clamp(r, 1-epsilon, 1+epsilon) * advantage_estimate\n",
    "    return torch.min(x, y).mean()"
   ]
  },
  {
   "cell_type": "code",
   "execution_count": 6,
   "id": "3ed4ed0b-514c-4658-a9a0-3c77647da01c",
   "metadata": {},
   "outputs": [
    {
     "ename": "NameError",
     "evalue": "name 'n_steps' is not defined",
     "output_type": "error",
     "traceback": [
      "\u001b[0;31m---------------------------------------------------------------------------\u001b[0m",
      "\u001b[0;31mNameError\u001b[0m                                 Traceback (most recent call last)",
      "Cell \u001b[0;32mIn[6], line 1\u001b[0m\n\u001b[0;32m----> 1\u001b[0m \u001b[38;5;28;01mfor\u001b[39;00m t \u001b[38;5;129;01min\u001b[39;00m \u001b[38;5;28mrange\u001b[39m(\u001b[43mn_steps\u001b[49m):\n\u001b[1;32m      2\u001b[0m     reward \u001b[38;5;241m=\u001b[39m get_reward(state[t], action[t])\n\u001b[1;32m      3\u001b[0m     next_v \u001b[38;5;241m=\u001b[39m v_function(state[t] \u001b[38;5;241m+\u001b[39m \u001b[38;5;241m1\u001b[39m)\u001b[38;5;241m.\u001b[39mmean()\n",
      "\u001b[0;31mNameError\u001b[0m: name 'n_steps' is not defined"
     ]
    }
   ],
   "source": [
    "for t in range(n_steps):\n",
    "    reward = get_reward(state[t], action[t])\n",
    "    next_v = v_function(state[t] + 1).mean()\n",
    "    \n",
    "    q[t] = reward + gamma * next_v"
   ]
  },
  {
   "cell_type": "code",
   "execution_count": null,
   "id": "c607b233-97bd-44e8-ae35-3270d500898a",
   "metadata": {},
   "outputs": [],
   "source": [
    "for _ in range(n_steps):\n",
    "    state = env.reset()\n",
    "    \n",
    "    while True:\n",
    "        action = policy_network(state)\n",
    "        \n",
    "        next_state, reward, done = env.step(action)\n",
    "        \n",
    "        replay_buffer.append(state, action, next_state, reward, done)\n",
    "        \n",
    "        if done:\n",
    "            break\n",
    "        \n",
    "        state = next_state\n",
    "    \n",
    "    policy_network.update_parameters(replay_buffer)\n",
    "    value_network.update_parameters(replay_buffer)\n",
    "    critic_network.update_parameters(replay_buffer)"
   ]
  },
  {
   "cell_type": "code",
   "execution_count": 7,
   "id": "48aa0704-6857-482a-a36a-e5f9660c8586",
   "metadata": {},
   "outputs": [],
   "source": [
    "from torch import nn\n",
    "import gym"
   ]
  },
  {
   "cell_type": "code",
   "execution_count": 10,
   "id": "81fb1261-9f9c-40a7-8f2c-7352dff996b6",
   "metadata": {},
   "outputs": [],
   "source": [
    "env = gym.make(\"CartPole-v1\")"
   ]
  },
  {
   "cell_type": "code",
   "execution_count": 8,
   "id": "0fdfd237-f205-447b-913c-355b57f32fa6",
   "metadata": {},
   "outputs": [],
   "source": [
    "class DeepQNetwork(nn.Module):\n",
    "    def __init__(self, n_observations, n_actions):\n",
    "        super().__init__()\n",
    "        self.model = nn.Sequential(\n",
    "            nn.Linear(n_observations, 128),\n",
    "            nn.ReLU(),\n",
    "            nn.Linear(128, 128),\n",
    "            nn.ReLU(),\n",
    "            nn.Linear(128, n_actions)\n",
    "        )\n",
    "    \n",
    "    def forward(self, x):\n",
    "        return self.model(x)"
   ]
  },
  {
   "cell_type": "code",
   "execution_count": 11,
   "id": "2ce17c55-e3c2-43e1-ab7c-3470eb210609",
   "metadata": {},
   "outputs": [],
   "source": [
    "n_observations = env.observation_space.shape[0]"
   ]
  },
  {
   "cell_type": "code",
   "execution_count": 12,
   "id": "6c00534f-fbe3-41c7-8971-fa406eeac1b9",
   "metadata": {},
   "outputs": [
    {
     "data": {
      "text/plain": [
       "4"
      ]
     },
     "execution_count": 12,
     "metadata": {},
     "output_type": "execute_result"
    }
   ],
   "source": [
    "n_observations"
   ]
  },
  {
   "cell_type": "code",
   "execution_count": 13,
   "id": "5ff867cc-b58a-4a46-b640-de95094b57f8",
   "metadata": {},
   "outputs": [],
   "source": [
    "n_actions = env.action_space.n"
   ]
  },
  {
   "cell_type": "code",
   "execution_count": 14,
   "id": "4a64f116-364b-4700-9335-6d7b66b56ea8",
   "metadata": {},
   "outputs": [
    {
     "data": {
      "text/plain": [
       "2"
      ]
     },
     "execution_count": 14,
     "metadata": {},
     "output_type": "execute_result"
    }
   ],
   "source": [
    "n_actions"
   ]
  },
  {
   "cell_type": "code",
   "execution_count": null,
   "id": "7f3d88a8-2cb9-4d6d-8092-22d671ff01df",
   "metadata": {},
   "outputs": [],
   "source": [
    "discounted_returns = compute_discounted_returns(rewards)"
   ]
  },
  {
   "cell_type": "code",
   "execution_count": null,
   "id": "e77923fd-762b-4e9b-951e-70a6cfd06d8b",
   "metadata": {},
   "outputs": [],
   "source": [
    "total_loss = 0"
   ]
  },
  {
   "cell_type": "code",
   "execution_count": null,
   "id": "ee4e149f-04d2-4ec6-ace9-44a9241b67f4",
   "metadata": {},
   "outputs": [],
   "source": [
    "for discounted_return, prob in zip(discounted_returns, selected_action_probs):\n",
    "    total_loss = discounted_return * -prob.log()"
   ]
  },
  {
   "cell_type": "code",
   "execution_count": null,
   "id": "22337662-9261-4a82-ac66-91651c3892f3",
   "metadata": {},
   "outputs": [],
   "source": [
    "loss = total_loss / len(rewards)"
   ]
  },
  {
   "cell_type": "code",
   "execution_count": 15,
   "id": "12047298-4071-4fd7-8e74-869d78d39bda",
   "metadata": {},
   "outputs": [],
   "source": [
    "def calculate_discounted_return_an_episode(rewards, discounted_factor):\n",
    "    n_rewards = len(rewards)\n",
    "    \n",
    "    total_return = 0\n",
    "    for k, reward in enumerate(k, reward):\n",
    "        total_return += (discounted_factor**k) * reward\n",
    "    \n",
    "    return total_return"
   ]
  },
  {
   "cell_type": "code",
   "execution_count": null,
   "id": "ff86d1f1-ff5b-4257-b8ab-77fd96eb7182",
   "metadata": {},
   "outputs": [],
   "source": [
    "def calculate_loss_of_soft_v(states, actions, action_probs):\n",
    "    v_values = v_function(states)\n",
    "    \n",
    "    q_values = q_fuction(states, actions)\n",
    "    log_probs = aciton_probs.log()\n",
    "    \n",
    "    v_targets = q_values - log_probs\n",
    "    \n",
    "    return ((v_values - v_targets).pow(2) * 0.5).mean()"
   ]
  },
  {
   "cell_type": "code",
   "execution_count": null,
   "id": "493c7e04-25d8-401e-b470-aa3120dabb68",
   "metadata": {},
   "outputs": [],
   "source": [
    "q_predicted = q_network(states, actions)"
   ]
  },
  {
   "cell_type": "code",
   "execution_count": 16,
   "id": "5888f109-4024-4b81-9623-9134eb1bceb0",
   "metadata": {},
   "outputs": [
    {
     "ename": "NameError",
     "evalue": "name 'get_reward' is not defined",
     "output_type": "error",
     "traceback": [
      "\u001b[0;31m---------------------------------------------------------------------------\u001b[0m",
      "\u001b[0;31mNameError\u001b[0m                                 Traceback (most recent call last)",
      "Cell \u001b[0;32mIn[16], line 1\u001b[0m\n\u001b[0;32m----> 1\u001b[0m q_target \u001b[38;5;241m=\u001b[39m \u001b[43mget_reward\u001b[49m(states, actions) \u001b[38;5;241m+\u001b[39m gamma \u001b[38;5;241m*\u001b[39m v_network(states \u001b[38;5;241m+\u001b[39m \u001b[38;5;241m1\u001b[39m)\u001b[38;5;241m.\u001b[39mmean()\n",
      "\u001b[0;31mNameError\u001b[0m: name 'get_reward' is not defined"
     ]
    }
   ],
   "source": [
    "q_target = get_reward(states, actions) + gamma * v_network(states + 1).mean()"
   ]
  },
  {
   "cell_type": "code",
   "execution_count": null,
   "id": "74071efb-3585-4a5d-840d-fdcb69c943ad",
   "metadata": {},
   "outputs": [],
   "source": [
    "loss = (q_predicted - q_target).pow(2) * 0.5"
   ]
  },
  {
   "cell_type": "markdown",
   "id": "25c2a7db-d068-4999-9086-173f3e740c3d",
   "metadata": {},
   "source": [
    "### NLP"
   ]
  },
  {
   "cell_type": "code",
   "execution_count": 17,
   "id": "570a2a58-e297-4d5b-bd8f-d02674c3d05c",
   "metadata": {},
   "outputs": [],
   "source": [
    "from transformers import AutoTokenizer"
   ]
  },
  {
   "cell_type": "code",
   "execution_count": 18,
   "id": "bd1c3e3f-df52-46f6-a616-c57d86779c60",
   "metadata": {},
   "outputs": [
    {
     "data": {
      "application/vnd.jupyter.widget-view+json": {
       "model_id": "62267cefedf745a88fc5b2a5ba48a04a",
       "version_major": 2,
       "version_minor": 0
      },
      "text/plain": [
       "Downloading:   0%|          | 0.00/665 [00:00<?, ?B/s]"
      ]
     },
     "metadata": {},
     "output_type": "display_data"
    },
    {
     "data": {
      "application/vnd.jupyter.widget-view+json": {
       "model_id": "713ddf4a23744992988f4b6105229811",
       "version_major": 2,
       "version_minor": 0
      },
      "text/plain": [
       "Downloading:   0%|          | 0.00/1.04M [00:00<?, ?B/s]"
      ]
     },
     "metadata": {},
     "output_type": "display_data"
    },
    {
     "data": {
      "application/vnd.jupyter.widget-view+json": {
       "model_id": "917a4aee755f4b2188d4fee0fd39e720",
       "version_major": 2,
       "version_minor": 0
      },
      "text/plain": [
       "Downloading:   0%|          | 0.00/456k [00:00<?, ?B/s]"
      ]
     },
     "metadata": {},
     "output_type": "display_data"
    },
    {
     "data": {
      "application/vnd.jupyter.widget-view+json": {
       "model_id": "83ffaa74b5f649a994168be0e1a06cb9",
       "version_major": 2,
       "version_minor": 0
      },
      "text/plain": [
       "Downloading:   0%|          | 0.00/1.36M [00:00<?, ?B/s]"
      ]
     },
     "metadata": {},
     "output_type": "display_data"
    }
   ],
   "source": [
    "tokenizer = AutoTokenizer.from_pretrained(\"gpt2\")"
   ]
  },
  {
   "cell_type": "code",
   "execution_count": 19,
   "id": "99193470-61ef-4654-ade8-88cebfbd2556",
   "metadata": {},
   "outputs": [],
   "source": [
    "output = tokenizer(\"persistence is all you need\")"
   ]
  },
  {
   "cell_type": "code",
   "execution_count": 20,
   "id": "9f807810-f0d4-442c-941d-6eb67053c90a",
   "metadata": {},
   "outputs": [
    {
     "data": {
      "text/plain": [
       "{'input_ids': [19276, 13274, 318, 477, 345, 761], 'attention_mask': [1, 1, 1, 1, 1, 1]}"
      ]
     },
     "execution_count": 20,
     "metadata": {},
     "output_type": "execute_result"
    }
   ],
   "source": [
    "output"
   ]
  },
  {
   "cell_type": "code",
   "execution_count": null,
   "id": "d1c3ae3e-9b0e-4c09-989b-89110b77215d",
   "metadata": {},
   "outputs": [],
   "source": [
    "tokens = tokenizer.convert_ids_to_tokens(input_ids)"
   ]
  },
  {
   "cell_type": "code",
   "execution_count": null,
   "id": "b7846734-b9bc-49ae-acfd-4b397684b2fe",
   "metadata": {},
   "outputs": [],
   "source": [
    "text = tokenizer.convert_tokens_to_string(tokens)"
   ]
  },
  {
   "cell_type": "code",
   "execution_count": null,
   "id": "53a3bc26-e522-413f-a924-595554b707bb",
   "metadata": {},
   "outputs": [],
   "source": [
    "def tokenizer(batch):\n",
    "    return tokenizer(batch, )"
   ]
  },
  {
   "cell_type": "code",
   "execution_count": null,
   "id": "146fabe3-cb14-4e42-95b4-38607221c4f1",
   "metadata": {},
   "outputs": [],
   "source": [
    "def variance(x):\n",
    "    return x.pow(2).mean() - x.mean().pow(2)"
   ]
  },
  {
   "cell_type": "code",
   "execution_count": 21,
   "id": "dacfb01b-9d41-4357-a398-3ecfc7ce4954",
   "metadata": {},
   "outputs": [],
   "source": [
    "from fastai.text.all import *"
   ]
  },
  {
   "cell_type": "code",
   "execution_count": 22,
   "id": "71dab64a-7dcc-4ee6-8f8a-90ac3cdd2150",
   "metadata": {},
   "outputs": [],
   "source": [
    "class TransformTokenizer(Transform):\n",
    "    def encodes(self, x):\n",
    "        return encode_text(x)\n",
    "\n",
    "    def decodes(self, x):\n",
    "        return decode_text(x)"
   ]
  },
  {
   "cell_type": "code",
   "execution_count": null,
   "id": "a0b34be4-4c4d-4d2c-8484-df660428111f",
   "metadata": {},
   "outputs": [],
   "source": [
    "model.l1.weight.data.zero_"
   ]
  },
  {
   "cell_type": "code",
   "execution_count": null,
   "id": "125d766a-28c6-4dc2-a054-8d770e6eef9c",
   "metadata": {},
   "outputs": [],
   "source": [
    "encoded_text = tokenizer(sentence)"
   ]
  },
  {
   "cell_type": "code",
   "execution_count": null,
   "id": "f6ca248f-fbec-42cd-aa43-aafbac0c10d3",
   "metadata": {},
   "outputs": [],
   "source": [
    "model.generate(en)"
   ]
  },
  {
   "cell_type": "code",
   "execution_count": null,
   "id": "c8de1755-3246-41dc-8bf1-b46ac6684afa",
   "metadata": {},
   "outputs": [],
   "source": [
    "def tokenize(batch):\n",
    "    return tokenizer(batch[\"text\"], padding=True)"
   ]
  },
  {
   "cell_type": "code",
   "execution_count": 23,
   "id": "ed22d06f-44a7-423a-87d6-2871ff199b37",
   "metadata": {},
   "outputs": [],
   "source": [
    "import gymnasium as gym"
   ]
  },
  {
   "cell_type": "code",
   "execution_count": null,
   "id": "26e33915-5ff7-4a1e-8a14-8c67fd37cee6",
   "metadata": {},
   "outputs": [],
   "source": [
    "envs = gym.vector.SyncVectorEnv([\n",
    "    lambda\n",
    "])"
   ]
  },
  {
   "cell_type": "code",
   "execution_count": 24,
   "id": "d3377464-874f-494d-a05d-2e52f9bacbae",
   "metadata": {},
   "outputs": [],
   "source": [
    "from einops import reduce"
   ]
  },
  {
   "cell_type": "code",
   "execution_count": null,
   "id": "678eb5e6-b1f0-474e-9199-e7c7c5749cac",
   "metadata": {},
   "outputs": [],
   "source": [
    "reduce(images, 'b c h w -> b h w', reduction=\"mean\")"
   ]
  },
  {
   "cell_type": "code",
   "execution_count": 25,
   "id": "966ebb6d-1697-49c4-8d11-a207225918a3",
   "metadata": {},
   "outputs": [],
   "source": [
    "from einops import rearrange"
   ]
  },
  {
   "cell_type": "code",
   "execution_count": null,
   "id": "bd4dc969-6d17-4b67-aa1e-0501656664a8",
   "metadata": {},
   "outputs": [],
   "source": [
    "rearrange(images, 'b c (h w) -> b c h w', h=64)"
   ]
  },
  {
   "cell_type": "code",
   "execution_count": null,
   "id": "1cefe034-273b-4574-9d9d-7ae3f453f5d3",
   "metadata": {},
   "outputs": [],
   "source": [
    "rearrange(images, 'b c h w -> b c w h')"
   ]
  },
  {
   "cell_type": "code",
   "execution_count": null,
   "id": "75de0b10-649f-458b-9674-4ab24a98540f",
   "metadata": {},
   "outputs": [],
   "source": [
    "rearrange(images, 'b c h w -> (b c h w)')"
   ]
  },
  {
   "cell_type": "code",
   "execution_count": null,
   "id": "3fe9fedd-14b0-4c88-824c-a73a512cc1a9",
   "metadata": {},
   "outputs": [],
   "source": [
    "rearrange(images, '... 1 -> ...')"
   ]
  },
  {
   "cell_type": "code",
   "execution_count": 26,
   "id": "823f68f1-8f21-4941-889e-07c4045cd1fc",
   "metadata": {},
   "outputs": [],
   "source": [
    "from einops import repeat"
   ]
  },
  {
   "cell_type": "code",
   "execution_count": null,
   "id": "40c3758a-9b3f-4101-b9aa-dda1bf6bfedd",
   "metadata": {},
   "outputs": [],
   "source": [
    "repeat(x, 'h w -> h w n', n=2)"
   ]
  },
  {
   "cell_type": "code",
   "execution_count": null,
   "id": "02fd859c-0758-476a-a30c-3697bfe44448",
   "metadata": {},
   "outputs": [],
   "source": [
    "rearrange(images, 'b c h w -> b c (h w)')"
   ]
  }
 ],
 "metadata": {
  "kernelspec": {
   "display_name": "Python 3 (ipykernel)",
   "language": "python",
   "name": "python3"
  },
  "language_info": {
   "codemirror_mode": {
    "name": "ipython",
    "version": 3
   },
   "file_extension": ".py",
   "mimetype": "text/x-python",
   "name": "python",
   "nbconvert_exporter": "python",
   "pygments_lexer": "ipython3",
   "version": "3.8.15"
  }
 },
 "nbformat": 4,
 "nbformat_minor": 5
}
