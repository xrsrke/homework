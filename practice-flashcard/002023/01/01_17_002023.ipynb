{
 "cells": [
  {
   "cell_type": "markdown",
   "id": "eb5e999f-3095-42bc-a717-b8ce01f71dcd",
   "metadata": {},
   "source": [
    "### Sci"
   ]
  },
  {
   "cell_type": "code",
   "execution_count": null,
   "id": "ddb4aeb0-df52-47cd-b0bc-153dec736faa",
   "metadata": {},
   "outputs": [],
   "source": [
    "a function that describe a probability distribution of location of qts"
   ]
  },
  {
   "cell_type": "code",
   "execution_count": null,
   "id": "edd0789c-2985-4b90-ae23-6ac64feb5f56",
   "metadata": {},
   "outputs": [],
   "source": [
    "space, time, matter, energy"
   ]
  },
  {
   "cell_type": "markdown",
   "id": "6bbb0913-84fe-4915-8464-4d07543e8c76",
   "metadata": {},
   "source": [
    "Step 1: computer emits electromagnetic radiation\n",
    "Step 2: EMR enters human eye\n",
    "Step 3: Human eye converts EMR to electrical signals and send it to the brain\n",
    "Step 4: The brain uses the electrical signals to reconstruct the image"
   ]
  },
  {
   "cell_type": "code",
   "execution_count": null,
   "id": "a39438ae-a5cb-4081-9606-a2ef261c18a4",
   "metadata": {},
   "outputs": [],
   "source": [
    "Quantum object can exists multiple states at once. "
   ]
  },
  {
   "cell_type": "code",
   "execution_count": null,
   "id": "ead9b398-56f4-4b39-ae72-d4b679182b23",
   "metadata": {},
   "outputs": [],
   "source": [
    "Space, time, matter, energy and symmetry"
   ]
  },
  {
   "cell_type": "code",
   "execution_count": null,
   "id": "74411285-b889-4b14-a04d-a98f54d45a6e",
   "metadata": {},
   "outputs": [],
   "source": [
    "the total energy of a quantum system"
   ]
  },
  {
   "cell_type": "markdown",
   "id": "4448af58-82b4-4863-8e62-c5f9f6551594",
   "metadata": {},
   "source": [
    "### Python"
   ]
  },
  {
   "cell_type": "code",
   "execution_count": 2,
   "id": "8a7feab6-2958-4612-9201-fcd22996a87c",
   "metadata": {},
   "outputs": [],
   "source": [
    "from enum import Enum"
   ]
  },
  {
   "cell_type": "code",
   "execution_count": 3,
   "id": "c44f6f65-2831-4633-890b-d2a2b34ede82",
   "metadata": {},
   "outputs": [],
   "source": [
    "class MotherSauce(Enum):\n",
    "    BECHAMEL = \"Bechamel\"\n",
    "    VELOUTE = \"Veloute\""
   ]
  },
  {
   "cell_type": "code",
   "execution_count": 4,
   "id": "9d998495-0f29-4b8c-8d35-4917e3ae7eb4",
   "metadata": {},
   "outputs": [],
   "source": [
    "def create_daughter_sauce(sauce: MotherSauce):\n",
    "    pass"
   ]
  },
  {
   "cell_type": "code",
   "execution_count": null,
   "id": "1dcb1ee4-66dc-45b9-911e-0d668058cfde",
   "metadata": {},
   "outputs": [],
   "source": [
    "add new type of notification => modify the existing code"
   ]
  },
  {
   "cell_type": "code",
   "execution_count": null,
   "id": "20537dbf-179e-482a-8df1-e944955a8027",
   "metadata": {},
   "outputs": [],
   "source": [
    "class Plant:\n",
    "    def __init__(self, age):\n",
    "        self.age = age\n",
    "    \n",
    "    def __bool__(self):\n",
    "        return True if self.age > 5 else False"
   ]
  },
  {
   "cell_type": "code",
   "execution_count": 5,
   "id": "f128cae1-28f8-4a3c-8606-f8c8d6329c47",
   "metadata": {},
   "outputs": [],
   "source": [
    "from fastcore.meta import *"
   ]
  },
  {
   "cell_type": "code",
   "execution_count": null,
   "id": "80f7136b-3dcd-4b5b-839f-6a1812e7d3c8",
   "metadata": {},
   "outputs": [],
   "source": [
    "@funcs_kwargs\n",
    "class DataBlock:\n",
    "    _methods = [\"loss_func\"]"
   ]
  },
  {
   "cell_type": "code",
   "execution_count": 12,
   "id": "20d7a0c5-12ee-4e82-9158-37dc4d77ae4a",
   "metadata": {},
   "outputs": [],
   "source": [
    "from typing import Tuple, List, Union"
   ]
  },
  {
   "cell_type": "code",
   "execution_count": 6,
   "id": "f0e4b6c0-f1db-4dcd-8436-9729a01177c9",
   "metadata": {},
   "outputs": [],
   "source": [
    "NumerOfServing = int"
   ]
  },
  {
   "cell_type": "code",
   "execution_count": 8,
   "id": "49195ef0-0899-4a1f-89a3-2146dac5feb9",
   "metadata": {},
   "outputs": [],
   "source": [
    "Ingredient = Tuple[str, int, str]"
   ]
  },
  {
   "cell_type": "code",
   "execution_count": 10,
   "id": "e1d72838-f9ea-4eb8-9c8d-fefa448c7101",
   "metadata": {},
   "outputs": [],
   "source": [
    "output1 = List[NumerOfServing]"
   ]
  },
  {
   "cell_type": "code",
   "execution_count": 11,
   "id": "c15c62e5-53e0-4df4-92c3-bafe8fbd923e",
   "metadata": {},
   "outputs": [],
   "source": [
    "output2 = List[Ingredient]"
   ]
  },
  {
   "cell_type": "code",
   "execution_count": 13,
   "id": "c890bb63-7bef-4d3d-b6c7-5622aeddac04",
   "metadata": {},
   "outputs": [],
   "source": [
    "output = Union[output1, output2]"
   ]
  },
  {
   "cell_type": "markdown",
   "id": "8564c0db-a417-4f03-8268-2a87954e16bc",
   "metadata": {},
   "source": [
    "### EN"
   ]
  },
  {
   "cell_type": "code",
   "execution_count": null,
   "id": "e9edaedd-b324-4acf-923c-2fcf00cae23a",
   "metadata": {},
   "outputs": [],
   "source": [
    "happened in the past and continue at the present"
   ]
  },
  {
   "cell_type": "code",
   "execution_count": null,
   "id": "2ed75d89-1946-4619-9867-cf542655d75f",
   "metadata": {},
   "outputs": [],
   "source": [
    "will have past-participle"
   ]
  },
  {
   "cell_type": "code",
   "execution_count": null,
   "id": "69bc61f8-2f91-4181-90cc-fb5bb36557de",
   "metadata": {},
   "outputs": [],
   "source": [
    "will subject have past-participle"
   ]
  },
  {
   "cell_type": "code",
   "execution_count": null,
   "id": "d3cea4b5-e1fc-4416-b266-daabad2f0b55",
   "metadata": {},
   "outputs": [],
   "source": [
    "have subject been v_ing"
   ]
  },
  {
   "cell_type": "code",
   "execution_count": null,
   "id": "8feb9109-a835-4593-81d4-458a51a7945e",
   "metadata": {},
   "outputs": [],
   "source": [
    "will not have past_"
   ]
  },
  {
   "cell_type": "code",
   "execution_count": null,
   "id": "3aa35a17-c5ed-4f36-9426-93edee2d0d89",
   "metadata": {},
   "outputs": [],
   "source": [
    "had past_participle"
   ]
  },
  {
   "cell_type": "code",
   "execution_count": null,
   "id": "d5dbbbd5-572c-460b-8db9-68a937ead693",
   "metadata": {},
   "outputs": [],
   "source": [
    "things that happned before another thing in the future"
   ]
  },
  {
   "cell_type": "code",
   "execution_count": null,
   "id": "55b4c94c-d654-47d7-b249-9e1d96d9710f",
   "metadata": {},
   "outputs": [],
   "source": [
    "had subject past_"
   ]
  },
  {
   "cell_type": "code",
   "execution_count": null,
   "id": "d6a577eb-a3f5-4a83-96d3-b875dd8306b1",
   "metadata": {},
   "outputs": [],
   "source": [
    "didn't v_root"
   ]
  },
  {
   "cell_type": "markdown",
   "id": "9cd91977-d922-406f-a579-7dda6564aee2",
   "metadata": {},
   "source": [
    "### AI"
   ]
  },
  {
   "cell_type": "code",
   "execution_count": 14,
   "id": "652e6f14-e35a-4505-8cc8-6968e0aae2bb",
   "metadata": {},
   "outputs": [],
   "source": [
    "import torch\n",
    "from torch import nn\n",
    "import torch.nn.functional as F"
   ]
  },
  {
   "cell_type": "code",
   "execution_count": 15,
   "id": "053a10c6-3984-439e-b1a5-5aef9fdb8301",
   "metadata": {},
   "outputs": [],
   "source": [
    "from fastai.vision.all import *"
   ]
  },
  {
   "cell_type": "code",
   "execution_count": null,
   "id": "58376df4-19f3-4086-91d7-9fc27eb59d4f",
   "metadata": {},
   "outputs": [],
   "source": [
    "dblock = DataBlock(blocks=[ImageBlock, CategoryBlock],\n",
    "                   get_x = lambda x: x[\"fname\"],\n",
    "                   get_y = lambda x: x[\"labels\"])"
   ]
  },
  {
   "cell_type": "code",
   "execution_count": null,
   "id": "f2a2da7b-b854-4ed8-81b1-02858a8125ac",
   "metadata": {},
   "outputs": [],
   "source": [
    "datasets = dblock.datasets(df)"
   ]
  },
  {
   "cell_type": "code",
   "execution_count": null,
   "id": "7d4460a7-4ca7-4ba3-b3ab-51300c49b237",
   "metadata": {},
   "outputs": [],
   "source": [
    "def ratio(current, prev):\n",
    "    return (current - prev).exp()"
   ]
  },
  {
   "cell_type": "code",
   "execution_count": 16,
   "id": "8c7af227-c750-489d-b97a-56025bf32033",
   "metadata": {},
   "outputs": [],
   "source": [
    "from transformers import RobertaModel"
   ]
  },
  {
   "cell_type": "code",
   "execution_count": null,
   "id": "f825ca5a-d2f4-4989-8d03-547dafa5d547",
   "metadata": {},
   "outputs": [],
   "source": [
    "model = RobertaModel.from_pretrained(\"roberta-base\")"
   ]
  },
  {
   "cell_type": "code",
   "execution_count": null,
   "id": "755afb2a-c597-4ab5-b2f2-ce4c577b6c85",
   "metadata": {},
   "outputs": [],
   "source": [
    "1, 2, 3, 3"
   ]
  },
  {
   "cell_type": "code",
   "execution_count": 17,
   "id": "6d47c258-2a7f-46cf-8aad-55add5231d43",
   "metadata": {},
   "outputs": [],
   "source": [
    "from einops import pack"
   ]
  },
  {
   "cell_type": "code",
   "execution_count": null,
   "id": "10e48034-5a35-444b-bf61-9c129c1bf85e",
   "metadata": {},
   "outputs": [],
   "source": [
    "pack([image_rgb, image_depth], 'b c *')"
   ]
  },
  {
   "cell_type": "code",
   "execution_count": 18,
   "id": "74d986c0-df41-49a1-b781-2c42d198f680",
   "metadata": {},
   "outputs": [],
   "source": [
    "from einops import repeat"
   ]
  },
  {
   "cell_type": "code",
   "execution_count": null,
   "id": "ae5fb1c2-a1fa-4df4-9fe9-d90de5caa61a",
   "metadata": {},
   "outputs": [],
   "source": [
    "output = repeat(x, 'h w -> h w n', n=2)"
   ]
  },
  {
   "cell_type": "code",
   "execution_count": 20,
   "id": "e61ab2c1-07bd-4abe-934a-52fdfacac6aa",
   "metadata": {},
   "outputs": [],
   "source": [
    "from transformers import RobertaConfig, RobertaModel"
   ]
  },
  {
   "cell_type": "code",
   "execution_count": 21,
   "id": "c154a803-3bb2-4ae4-9804-82b588198d72",
   "metadata": {},
   "outputs": [],
   "source": [
    "config = RobertaConfig()"
   ]
  },
  {
   "cell_type": "code",
   "execution_count": null,
   "id": "9230f977-3ee4-40e1-ab96-54c1ff150394",
   "metadata": {},
   "outputs": [],
   "source": [
    "model = RobertaModel(config)"
   ]
  },
  {
   "cell_type": "code",
   "execution_count": 22,
   "id": "b3a7c493-2a8b-4a34-bd09-74289c3665f5",
   "metadata": {},
   "outputs": [],
   "source": [
    "from torch.distributions import Categorical"
   ]
  },
  {
   "cell_type": "code",
   "execution_count": 23,
   "id": "d0169443-7614-4c56-a45b-bcf0cf95db23",
   "metadata": {},
   "outputs": [],
   "source": [
    "class Agent(nn.Module):\n",
    "    def __init__(self, n_observations, n_actions, n_hidden):\n",
    "        super().__init__()\n",
    "        self.actor = nn.Sequential(\n",
    "            nn.Linear(n_observations, n_hidden),\n",
    "            nn.Tanh(),\n",
    "            nn.Linear(n_hidden, n_hidden),\n",
    "            nn.Tanh(),\n",
    "            nn.Linear(n_hidden, n_actions),\n",
    "            nn.Softmax(dim=-1)\n",
    "        )\n",
    "        \n",
    "        self.critic = nn.Sequential(\n",
    "            nn.Linear(n_observations, n_hidden),\n",
    "            nn.Tanh(),\n",
    "            nn.Linear(n_hidden, n_hidden),\n",
    "            nn.Tanh(),\n",
    "            nn.Linear(n_hidden, 1)\n",
    "        )\n",
    "    \n",
    "    def get_action_and_value(self, state):\n",
    "        action_probs = self.actor(state)\n",
    "        \n",
    "        dist = Categorical(action_probs)\n",
    "        action = dist.sample()\n",
    "        log_prob = dist.log_prob(action)\n",
    "        entropy = dist.entropy()\n",
    "        \n",
    "        value = self.critic(state)\n",
    "        \n",
    "        return action, log_prob, entropy, value"
   ]
  },
  {
   "cell_type": "code",
   "execution_count": null,
   "id": "f638faf7-614e-492b-a8bb-9783e2ceccc4",
   "metadata": {},
   "outputs": [],
   "source": [
    "next_state, reward, done, t..."
   ]
  },
  {
   "cell_type": "code",
   "execution_count": null,
   "id": "250ef701-80db-4b4c-b488-fc35c281aaae",
   "metadata": {},
   "outputs": [],
   "source": [
    "def accuracy(sm_pred, targ):\n",
    "    pred_idx = torch.argmax(sm_pred, dim=-1)\n",
    "    return (pred_idx == targ).mean().float()"
   ]
  },
  {
   "cell_type": "code",
   "execution_count": 24,
   "id": "722bd0ba-b8ca-4168-8a87-36e29b7ebcd6",
   "metadata": {},
   "outputs": [],
   "source": [
    "class PositionWiseFeedForward(nn.Module):\n",
    "    def __init__(self, d_model, d_ff, dropout):\n",
    "        super().__init__()\n",
    "        self.layers = nn.Sequential(\n",
    "            nn.Linear(d_model, d_ff),\n",
    "            nn.ReLU(),\n",
    "            nn.Dropout(dropout),\n",
    "            nn.Linear(d_ff, d_model)\n",
    "        )\n",
    "    \n",
    "    def forward(self, x):\n",
    "        return self.layers(x)"
   ]
  },
  {
   "cell_type": "code",
   "execution_count": null,
   "id": "b7a5072d-4c97-4719-9d7e-e2712093e025",
   "metadata": {},
   "outputs": [],
   "source": [
    "image encoder, text encoder, constrative, pro"
   ]
  },
  {
   "cell_type": "code",
   "execution_count": 25,
   "id": "e13a3b18-05d0-4d4d-899c-9045f3542907",
   "metadata": {},
   "outputs": [],
   "source": [
    "def covariance(x, y):\n",
    "    prod = (x-x.mean())(y-y.mean())\n",
    "    return prod.mean()"
   ]
  },
  {
   "cell_type": "code",
   "execution_count": null,
   "id": "29b10fd8-93ab-4091-86ea-05bbf07330ad",
   "metadata": {},
   "outputs": [],
   "source": [
    "class Agent(nn.Module):\n",
    "    def __init__(self, n_observations, n_actions, n_hidden):\n",
    "        super().__init__()\n",
    "        self.actor = nn.Sequential(\n",
    "            nn.Linear(n_observations, n_hidden),\n",
    "            nn.Tanh(),\n",
    "            nn.Linear(n_hidden, n_hidden),\n",
    "            nn.Tanh(),\n",
    "            nn.Linear(n_hidden, n_actions)\n",
    "        )\n",
    "        \n",
    "        self.critic = nn.Sequential(\n",
    "            nn.Linear(n_observations, n_hidden),\n",
    "            nn.Tanh(),\n",
    "            nn.Linear(n_hidden, n_hidden),\n",
    "            nn.Tanh(),\n",
    "            nn.Linear(n_hidden, 1)\n",
    "        )\n",
    "    \n",
    "    def get_action_and_value(self, state):\n",
    "        logits = self.actor(state)\n",
    "        \n",
    "        dist = Categorical(logits)\n",
    "        action = dist.sample()\n",
    "        log_prob = dist.log_prob(action)\n",
    "        \n",
    "        value = self.critic(state)\n",
    "        \n",
    "        return action, log_prob, dist.entropy(), value"
   ]
  },
  {
   "cell_type": "code",
   "execution_count": 26,
   "id": "37dd0830-2092-469c-8643-83428e72fb07",
   "metadata": {},
   "outputs": [],
   "source": [
    "def calculate_loss_of_soft_v(states, actions, action_probs):\n",
    "    q_values = q_function(states, actions)\n",
    "    v_target = (q_values - action_probs.log()).mean()\n",
    "    \n",
    "    v_values = v_funciton(states)\n",
    "    \n",
    "    error = (v_values - v_target).pow(2) * 0.5\n",
    "    return error.mean()"
   ]
  },
  {
   "cell_type": "code",
   "execution_count": null,
   "id": "4ee64656-febc-478c-8011-a7b1e398866f",
   "metadata": {},
   "outputs": [],
   "source": [
    "class LMModel1(nn.Module):\n",
    "    def __init__(self, vocab_sz, n_hidden):\n",
    "        self.i_h = nn.Embedding(vocab_sz, n_hidden)\n",
    "        self.h_h = nn.Linear(n_hidden, n_hidden)\n",
    "        self.h_o = nn.Linear(n_hidden, vocab_sz)\n",
    "    \n",
    "    def forward(self, x):\n",
    "        h = F.relu(self.i_h(x[0, :]))\n",
    "        h = F.relu(self.i_h(x[1, :])) + F.relu(self.h_h(h))\n",
    "        h = F.relu(self.i_h(x[2, :])) + F.relu(self.h_h(h))\n",
    "        \n",
    "        return self.h_o(h)"
   ]
  }
 ],
 "metadata": {
  "kernelspec": {
   "display_name": "Python 3 (ipykernel)",
   "language": "python",
   "name": "python3"
  },
  "language_info": {
   "codemirror_mode": {
    "name": "ipython",
    "version": 3
   },
   "file_extension": ".py",
   "mimetype": "text/x-python",
   "name": "python",
   "nbconvert_exporter": "python",
   "pygments_lexer": "ipython3",
   "version": "3.8.15"
  }
 },
 "nbformat": 4,
 "nbformat_minor": 5
}
