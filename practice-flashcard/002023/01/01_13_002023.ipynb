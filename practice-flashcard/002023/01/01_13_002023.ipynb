{
 "cells": [
  {
   "cell_type": "markdown",
   "id": "7b91c777-0b23-4fdd-a1e3-e4087b37b2aa",
   "metadata": {},
   "source": [
    "### Python"
   ]
  },
  {
   "cell_type": "code",
   "execution_count": null,
   "id": "ef376b06-4787-4a3e-b64e-b2d5942498c5",
   "metadata": {},
   "outputs": [],
   "source": [
    "a, b, c = numbers"
   ]
  },
  {
   "cell_type": "code",
   "execution_count": 1,
   "id": "7016c631-3565-4e1a-8fdb-d6f1e67f5676",
   "metadata": {},
   "outputs": [],
   "source": [
    "from fastcore.meta import *"
   ]
  },
  {
   "cell_type": "code",
   "execution_count": null,
   "id": "e80ea2ea-18ba-42ce-9d01-f3e03ccb8e4a",
   "metadata": {},
   "outputs": [],
   "source": [
    "@\n",
    "class DataLoader:\n",
    "    _methods = ['before_batch', 'after_batch']"
   ]
  },
  {
   "cell_type": "code",
   "execution_count": 2,
   "id": "e7dd4e14-00a0-40d9-bf71-6769166e6d67",
   "metadata": {},
   "outputs": [
    {
     "data": {
      "text/plain": [
       "{'e', 'h', 'l', 'o'}"
      ]
     },
     "execution_count": 2,
     "metadata": {},
     "output_type": "execute_result"
    }
   ],
   "source": [
    "{c for c in \"hello\"}"
   ]
  },
  {
   "cell_type": "code",
   "execution_count": 3,
   "id": "0b46a3b8-1f18-49c2-b37d-892989e1c094",
   "metadata": {},
   "outputs": [],
   "source": [
    "import pytest"
   ]
  },
  {
   "cell_type": "code",
   "execution_count": 4,
   "id": "b6557cb1-ae22-4d03-b878-210ab16977ab",
   "metadata": {},
   "outputs": [],
   "source": [
    "def test_raise_exception_should_pass():\n",
    "    with pytest.raises(ValueError):\n",
    "        pass"
   ]
  },
  {
   "cell_type": "code",
   "execution_count": 5,
   "id": "134c7a8b-e1b0-43c0-9e03-5fcea06d0a76",
   "metadata": {},
   "outputs": [],
   "source": [
    "def square_generator(nums):\n",
    "    for num in nums:\n",
    "        yield num"
   ]
  },
  {
   "cell_type": "code",
   "execution_count": 7,
   "id": "d424dda6-f00d-4876-9e4e-ff4cc6cce189",
   "metadata": {},
   "outputs": [],
   "source": [
    "z = square_generator([1, 2, 3])"
   ]
  },
  {
   "cell_type": "code",
   "execution_count": 8,
   "id": "05a956f8-6508-403c-8453-35f7fc307eb5",
   "metadata": {},
   "outputs": [
    {
     "data": {
      "text/plain": [
       "1"
      ]
     },
     "execution_count": 8,
     "metadata": {},
     "output_type": "execute_result"
    }
   ],
   "source": [
    "next(z)"
   ]
  },
  {
   "cell_type": "code",
   "execution_count": 9,
   "id": "605650fd-2dc6-402c-ab0a-e046d902fef9",
   "metadata": {},
   "outputs": [
    {
     "data": {
      "text/plain": [
       "2"
      ]
     },
     "execution_count": 9,
     "metadata": {},
     "output_type": "execute_result"
    }
   ],
   "source": [
    "next(z)"
   ]
  },
  {
   "cell_type": "code",
   "execution_count": 10,
   "id": "be550b57-4b8c-451e-90ea-9ad110c7650d",
   "metadata": {},
   "outputs": [
    {
     "ename": "NameError",
     "evalue": "name 'Wizard' is not defined",
     "output_type": "error",
     "traceback": [
      "\u001b[0;31m---------------------------------------------------------------------------\u001b[0m",
      "\u001b[0;31mNameError\u001b[0m                                 Traceback (most recent call last)",
      "Cell \u001b[0;32mIn[10], line 1\u001b[0m\n\u001b[0;32m----> 1\u001b[0m \u001b[38;5;28;01mclass\u001b[39;00m \u001b[38;5;21;01mHybridBorg\u001b[39;00m(\u001b[43mWizard\u001b[49m, Archer):\n\u001b[1;32m      2\u001b[0m     \u001b[38;5;28;01mdef\u001b[39;00m \u001b[38;5;21m__init__\u001b[39m(\u001b[38;5;28mself\u001b[39m, name, power, arrows):\n\u001b[1;32m      3\u001b[0m         Wizard()\u001b[38;5;241m.\u001b[39m\u001b[38;5;21m__init__\u001b[39m(name, power)\n",
      "\u001b[0;31mNameError\u001b[0m: name 'Wizard' is not defined"
     ]
    }
   ],
   "source": [
    "class HybridBorg(Wizard, Archer):\n",
    "    def __init__(self, name, power, arrows):\n",
    "        Wizard().__init__(name, power)\n",
    "        Archer().__init__(name, arrows)"
   ]
  },
  {
   "cell_type": "code",
   "execution_count": 12,
   "id": "ce91e992-537a-4be8-8eb3-2417e4658f43",
   "metadata": {},
   "outputs": [],
   "source": [
    "from functools import partial"
   ]
  },
  {
   "cell_type": "code",
   "execution_count": null,
   "id": "b83c6fbd-ff96-4af2-b5e9-fced69015203",
   "metadata": {},
   "outputs": [],
   "source": [
    "partial(my_func(10), 20, 30)"
   ]
  },
  {
   "cell_type": "code",
   "execution_count": null,
   "id": "e01af0cb-ba6b-4e42-baf9-571bb821a6e6",
   "metadata": {},
   "outputs": [],
   "source": [
    "red = [:, 1:3:2]"
   ]
  },
  {
   "cell_type": "code",
   "execution_count": 13,
   "id": "ae7403b4-e9bc-4a65-9d32-2dd839db5a84",
   "metadata": {},
   "outputs": [],
   "source": [
    "class Rectangle:\n",
    "    def __init__(self, width, height):\n",
    "        self._width = width\n",
    "        self._height = height\n",
    "    \n",
    "    @property\n",
    "    def width(self):\n",
    "        return self._width\n",
    "    \n",
    "    @width.setter\n",
    "    def width(self, value):\n",
    "        self._width = value"
   ]
  },
  {
   "cell_type": "code",
   "execution_count": null,
   "id": "4ea7407e-e407-4be6-9069-b97bf7ba372a",
   "metadata": {},
   "outputs": [],
   "source": [
    "3 neural networks, mcts, replay buffer"
   ]
  },
  {
   "cell_type": "code",
   "execution_count": 14,
   "id": "8a2c74bf-e445-46e3-9287-114c495f8ffd",
   "metadata": {},
   "outputs": [],
   "source": [
    "from datasets import load_metric"
   ]
  },
  {
   "cell_type": "code",
   "execution_count": null,
   "id": "24333143-ee7d-48e5-8b15-183006552a15",
   "metadata": {},
   "outputs": [],
   "source": [
    "bleu = load_metric(\"bleu\")"
   ]
  },
  {
   "cell_type": "code",
   "execution_count": null,
   "id": "1a210d17-7729-41ec-81c3-c2f686198341",
   "metadata": {},
   "outputs": [],
   "source": [
    "bleu.compute(\n",
    "    predictions,\n",
    "    references\n",
    ")"
   ]
  },
  {
   "cell_type": "code",
   "execution_count": null,
   "id": "5e9fc222-3438-457d-9da7-4c13d6e4f929",
   "metadata": {},
   "outputs": [],
   "source": [
    "logits = output.logits"
   ]
  },
  {
   "cell_type": "code",
   "execution_count": null,
   "id": "983b4879-5fd2-4bb6-9f06-d0871e9f1ad0",
   "metadata": {},
   "outputs": [],
   "source": [
    "start_logits = logits.start_logits"
   ]
  },
  {
   "cell_type": "code",
   "execution_count": null,
   "id": "ae3ce3a7-5459-430a-a8dc-2645c82e59c7",
   "metadata": {},
   "outputs": [],
   "source": [
    "end_logits = logits.end_logits"
   ]
  },
  {
   "cell_type": "code",
   "execution_count": null,
   "id": "00418254-c11d-4bd8-9e9f-325a9569f2a6",
   "metadata": {},
   "outputs": [],
   "source": [
    "start_idx = torch.argmax(start_logits, dim=-1)"
   ]
  },
  {
   "cell_type": "code",
   "execution_count": null,
   "id": "e36da884-7224-4333-a4bf-6dde250c3ffc",
   "metadata": {},
   "outputs": [],
   "source": [
    "end_idx = torch.argmax(end_logits, dim=-1)"
   ]
  },
  {
   "cell_type": "code",
   "execution_count": null,
   "id": "301af9b0-f969-412b-a0f4-16589d0ea086",
   "metadata": {},
   "outputs": [],
   "source": [
    "tokenizer.decode(inputs.input_ids[start_idx:end_idx])"
   ]
  },
  {
   "cell_type": "code",
   "execution_count": 15,
   "id": "b1819927-c617-4bb8-b8dd-7d1094c5396d",
   "metadata": {},
   "outputs": [],
   "source": [
    "from transformers import RobertaConfig, RobertaModel"
   ]
  },
  {
   "cell_type": "code",
   "execution_count": 16,
   "id": "85222ac8-8788-4691-8651-fd6a3114858c",
   "metadata": {},
   "outputs": [],
   "source": [
    "config = RobertaConfig()"
   ]
  },
  {
   "cell_type": "code",
   "execution_count": null,
   "id": "593d6de1-ab0e-4472-ad93-a9a5966594e0",
   "metadata": {},
   "outputs": [],
   "source": [
    "model = RobertaModel(config)"
   ]
  },
  {
   "cell_type": "code",
   "execution_count": null,
   "id": "3968fb00-dd28-4be1-a09a-496c880329ef",
   "metadata": {},
   "outputs": [],
   "source": [
    "reach limit length, or the end token"
   ]
  },
  {
   "cell_type": "code",
   "execution_count": null,
   "id": "644f41d9-8b07-4bf3-b921-bbb305319956",
   "metadata": {},
   "outputs": [],
   "source": [
    "state, action, next_state, reward"
   ]
  },
  {
   "cell_type": "code",
   "execution_count": 17,
   "id": "8f43bf3a-095c-411b-ae51-04843a69a60c",
   "metadata": {},
   "outputs": [],
   "source": [
    "from transformers import RobertaModel"
   ]
  },
  {
   "cell_type": "code",
   "execution_count": null,
   "id": "f6f6a62b-47cd-4457-aeb2-162b6ce36760",
   "metadata": {},
   "outputs": [],
   "source": [
    "model = RobertaModel.from_pretrained(\"roberta-base\")"
   ]
  },
  {
   "cell_type": "code",
   "execution_count": null,
   "id": "bd4e3839-efe4-437c-97d9-c88c3247a95c",
   "metadata": {},
   "outputs": [],
   "source": [
    "def summary_batch(article_batches, max_context_length=1024):\n",
    "    arr_summaries = []\n",
    "    \n",
    "    for article_batch in article_batches:\n",
    "        inputs = tokenizer(\n",
    "            article_batch,\n",
    "            truncation=True,\n",
    "            return_tensors=\"pt\",\n",
    "            padding=True,\n",
    "            **tokenizer_params\n",
    "        )\n",
    "        \n",
    "        summaries = model.generate(\n",
    "            input_ids=inputs[\"input_ids\"],\n",
    "            attention_mask=inputs[\"attention_mask\"],\n",
    "            **model_params\n",
    "        )\n",
    "        \n",
    "        decoded_summaries = [x for tokenizer.decode(\n",
    "            summaries\n",
    "        ) in summaries]\n",
    "        \n",
    "        arr_summaries.append(decoded_summaries)\n",
    "    \n",
    "    return arr_summaries"
   ]
  },
  {
   "cell_type": "code",
   "execution_count": 18,
   "id": "205ddd47-5e6b-4e94-95f3-1ad2c7163797",
   "metadata": {},
   "outputs": [],
   "source": [
    "import gymnasium as gym"
   ]
  },
  {
   "cell_type": "code",
   "execution_count": null,
   "id": "fa1cd77f-5833-4009-b26a-751123c89db8",
   "metadata": {},
   "outputs": [],
   "source": [
    "envs = gym.vector.SyncVectorEnv([\n",
    "    lambda: gym.make(\"CartPole-v1\"),\n",
    "    lambda: gym.make(\"CartPole-v1\"),\n",
    "    lambda: gym.make(\"CartPole-v1\")\n",
    "])"
   ]
  },
  {
   "cell_type": "code",
   "execution_count": 19,
   "id": "fb63086e-9cf9-48f2-9b3d-f2b69b432a1f",
   "metadata": {},
   "outputs": [],
   "source": [
    "def to_uppercase(example):\n",
    "    return {\n",
    "        \"summary\": example[\"summary\"].upper()\n",
    "    }"
   ]
  },
  {
   "cell_type": "code",
   "execution_count": null,
   "id": "108bde6e-9f81-46d0-a6e2-46f1e9178c6c",
   "metadata": {},
   "outputs": [],
   "source": [
    "_new_dataset = dataset_samsum.map(to_uppercase)"
   ]
  },
  {
   "cell_type": "code",
   "execution_count": 20,
   "id": "5c75c4fd-0ba6-48c2-bb17-ad1a1b4df678",
   "metadata": {},
   "outputs": [],
   "source": [
    "from einops import repeat"
   ]
  },
  {
   "cell_type": "code",
   "execution_count": null,
   "id": "32d4787b-d089-4000-97b4-6418a67512cd",
   "metadata": {},
   "outputs": [],
   "source": [
    "repeat(x, 'h w -> h w n', n=2)"
   ]
  },
  {
   "cell_type": "code",
   "execution_count": null,
   "id": "9dc11045-69eb-4052-9f3f-e2cb169d2617",
   "metadata": {},
   "outputs": [],
   "source": [
    "model = RobertaModel.from_pretrained(\"roberta-base\")"
   ]
  },
  {
   "cell_type": "code",
   "execution_count": 21,
   "id": "90f903dd-8b8c-4d51-bbda-8d5c390a5e80",
   "metadata": {},
   "outputs": [],
   "source": [
    "from einops import reduce"
   ]
  },
  {
   "cell_type": "code",
   "execution_count": null,
   "id": "e721e4d6-b51e-491f-8652-d5438561d8af",
   "metadata": {},
   "outputs": [],
   "source": [
    "reduce(images, 'b c h w -> b h w', reduction=\"mean\")"
   ]
  },
  {
   "cell_type": "code",
   "execution_count": null,
   "id": "6cae3ee9-3ec7-4c89-b53d-e879b72f09f4",
   "metadata": {},
   "outputs": [],
   "source": [
    "out of vocabulary, too much vocab"
   ]
  },
  {
   "cell_type": "code",
   "execution_count": 22,
   "id": "1cbfda2e-4768-4569-9842-a7b9b2f0aa1e",
   "metadata": {},
   "outputs": [],
   "source": [
    "import torch\n",
    "from torch import nn\n",
    "import torch.nn.functional as F"
   ]
  },
  {
   "cell_type": "code",
   "execution_count": null,
   "id": "e6919d1a-725c-49c5-a49b-859cc2c202be",
   "metadata": {},
   "outputs": [],
   "source": [
    "action = torch.multinomial(preds, num_samples=1)"
   ]
  },
  {
   "cell_type": "code",
   "execution_count": null,
   "id": "7fec1ed5-6fdf-483b-8dcd-80c3db1ef0f6",
   "metadata": {},
   "outputs": [],
   "source": [
    "def compute_clipped_surrogate_objective(ratio, advantage_estimate, epsilon):\n",
    "    unclipped = ratio * advantage_estimate\n",
    "    clipped_policy = torch.clamp(ratio, min=1-epsilon, max=1+epsilon)\n",
    "    clipped = clipped_policy * advantage_estimate\n",
    "    \n",
    "    return torch.min(unclipped, clipped).mean()"
   ]
  },
  {
   "cell_type": "code",
   "execution_count": null,
   "id": "2692ad3c-c91a-46fb-a809-8e33483fc10c",
   "metadata": {},
   "outputs": [],
   "source": [
    "normalization -> pre -> token -> post"
   ]
  },
  {
   "cell_type": "code",
   "execution_count": null,
   "id": "9ea3bfd8-3510-4c2b-b6de-4cb447cdfc35",
   "metadata": {},
   "outputs": [],
   "source": [
    "class SelfAttention(nn.Module):\n",
    "    def __init__(self, d_head):\n",
    "        super().__init__()\n",
    "        self.d_head = d_head\n",
    "    \n",
    "    def forward(self, q, k, v):\n",
    "        k_tranposed = k.transpose(3, 2)\n",
    "        qk_matmul = torch.matmul(q, k)\n",
    "        scores = qk_matmul / self.d_head\n",
    "        attention_weights = F.softmax(scores, dim=-1)\n",
    "        output = torch.matmul(attention_weights, v)\n",
    "        \n",
    "        return output, attention_weights"
   ]
  },
  {
   "cell_type": "code",
   "execution_count": 23,
   "id": "5ca71c8e-b56a-4f13-b62b-67f00adc53fe",
   "metadata": {},
   "outputs": [],
   "source": [
    "from einops import rearrange"
   ]
  },
  {
   "cell_type": "code",
   "execution_count": null,
   "id": "757ed1b0-bf56-41a2-b06b-b4e04877236d",
   "metadata": {},
   "outputs": [],
   "source": [
    "output = rearrange(images, '... 1 -> ...')"
   ]
  },
  {
   "cell_type": "code",
   "execution_count": null,
   "id": "e3d003bc-1889-4cd0-8638-cb9b92277278",
   "metadata": {},
   "outputs": [],
   "source": [
    "class EncoderLayer(nn.Module):\n",
    "    def __init__(self, d_model, n_heads, d_ff, dropout):\n",
    "        super().__init__()\n",
    "        \n",
    "        self.attention = MultiHeadAttention(d_model, n_heads)\n",
    "        self.position_wise = PositionWiseFeedForward(d_model, d_ff, dropout)\n",
    "        self.norm_1 = ResidualLayerNorm(d_model, dropout)\n",
    "        self.norm_2 = ResidualLayerNorm(d_model, dropout)\n",
    "    \n",
    "    def forward(self, embeddings):\n",
    "        attn_output, attn_weight = self.attention(embeddings, embeddings, embeddings)\n",
    "        \n",
    "        out_norm_1 = self.norm_1(attn_output, embeddings)\n",
    "        \n",
    "        out_position = self.position_wise(out_norm_1)\n",
    "        \n",
    "        out_norm_2 = self.norm_2(out_position, out_norm_1)\n",
    "        \n",
    "        return "
   ]
  },
  {
   "cell_type": "code",
   "execution_count": null,
   "id": "d0cabbb2-7a84-4bfb-a0a7-bed30b9a5f68",
   "metadata": {},
   "outputs": [],
   "source": [
    "layer_norm = nn.LayerNorm(5)"
   ]
  },
  {
   "cell_type": "code",
   "execution_count": null,
   "id": "4f4981cb-104c-4742-a99d-70b04dab6cf5",
   "metadata": {},
   "outputs": [],
   "source": [
    "class Encoder(nn.Module):\n",
    "    def __init__(self, d_model, n_heads, n_layers, d_ff, dropout):\n",
    "        super().__init__"
   ]
  }
 ],
 "metadata": {
  "kernelspec": {
   "display_name": "Python 3 (ipykernel)",
   "language": "python",
   "name": "python3"
  },
  "language_info": {
   "codemirror_mode": {
    "name": "ipython",
    "version": 3
   },
   "file_extension": ".py",
   "mimetype": "text/x-python",
   "name": "python",
   "nbconvert_exporter": "python",
   "pygments_lexer": "ipython3",
   "version": "3.8.15"
  }
 },
 "nbformat": 4,
 "nbformat_minor": 5
}
