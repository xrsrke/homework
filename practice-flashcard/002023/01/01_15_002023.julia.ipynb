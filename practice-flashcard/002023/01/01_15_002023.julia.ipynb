{
 "cells": [
  {
   "cell_type": "code",
   "execution_count": 6,
   "id": "7286234c-f916-4798-8f66-e79aacfc4247",
   "metadata": {},
   "outputs": [
    {
     "data": {
      "text/plain": [
       "is_string (generic function with 2 methods)"
      ]
     },
     "execution_count": 6,
     "metadata": {},
     "output_type": "execute_result"
    }
   ],
   "source": [
    "is_string(x::String) = true"
   ]
  },
  {
   "cell_type": "code",
   "execution_count": 7,
   "id": "acb2a048-a2e0-4569-ba93-7215def7f41f",
   "metadata": {},
   "outputs": [
    {
     "data": {
      "text/plain": [
       "is_string (generic function with 2 methods)"
      ]
     },
     "execution_count": 7,
     "metadata": {},
     "output_type": "execute_result"
    }
   ],
   "source": [
    "is_string(x) = false"
   ]
  },
  {
   "cell_type": "code",
   "execution_count": 8,
   "id": "634a908f-4af7-4c31-8676-ad723bd629f2",
   "metadata": {},
   "outputs": [
    {
     "data": {
      "text/plain": [
       "true"
      ]
     },
     "execution_count": 8,
     "metadata": {},
     "output_type": "execute_result"
    }
   ],
   "source": [
    "is_string(\"heee\")"
   ]
  },
  {
   "cell_type": "code",
   "execution_count": null,
   "id": "9f45f186-004a-4090-be52-f8cdbc589779",
   "metadata": {},
   "outputs": [],
   "source": [
    "task = Threads.@spawn heavy_shit()"
   ]
  },
  {
   "cell_type": "code",
   "execution_count": null,
   "id": "551c57ff-c30d-4ca0-945f-a8fbc00196f2",
   "metadata": {},
   "outputs": [],
   "source": [
    "fetch(task)"
   ]
  }
 ],
 "metadata": {
  "kernelspec": {
   "display_name": "Julia 1.8.3",
   "language": "julia",
   "name": "julia-1.8"
  },
  "language_info": {
   "file_extension": ".jl",
   "mimetype": "application/julia",
   "name": "julia",
   "version": "1.8.3"
  }
 },
 "nbformat": 4,
 "nbformat_minor": 5
}
