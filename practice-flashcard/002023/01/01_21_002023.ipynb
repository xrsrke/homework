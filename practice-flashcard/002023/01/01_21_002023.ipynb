{
 "cells": [
  {
   "cell_type": "markdown",
   "id": "bb7f7b23-6c1d-4b0e-ba38-06e3c9d55e23",
   "metadata": {},
   "source": [
    "### SWE"
   ]
  },
  {
   "cell_type": "code",
   "execution_count": 2,
   "id": "71986ecf-168b-4cc4-88b7-79a0b14348f9",
   "metadata": {},
   "outputs": [],
   "source": [
    "def my_func(a, b) -> 'return the product of a and b':\n",
    "    pass"
   ]
  },
  {
   "cell_type": "code",
   "execution_count": 3,
   "id": "d4fc2fad-7e34-4760-8114-3d2b7bda10b8",
   "metadata": {},
   "outputs": [],
   "source": [
    "from abc import ABC, abstractclassmethod"
   ]
  },
  {
   "cell_type": "code",
   "execution_count": null,
   "id": "afad6632-cd8b-4099-88fd-634e9cc9d590",
   "metadata": {},
   "outputs": [],
   "source": [
    "class OldFashionPrinter:\n",
    "    def "
   ]
  },
  {
   "cell_type": "code",
   "execution_count": null,
   "id": "945afbe9-d1f4-497d-90c0-6a7c8b3edd3d",
   "metadata": {},
   "outputs": [],
   "source": [
    "version: 0.01\n",
    "\n",
    "services:\n",
    "    mongodb:\n",
    "        image: mongo"
   ]
  },
  {
   "cell_type": "code",
   "execution_count": 4,
   "id": "c6e6252b-692a-47d5-82b3-b8bbaadd655e",
   "metadata": {},
   "outputs": [],
   "source": [
    "import unittest"
   ]
  },
  {
   "cell_type": "code",
   "execution_count": null,
   "id": "4ad47d07-63a7-4702-a2d4-2929098e0153",
   "metadata": {},
   "outputs": [],
   "source": [
    "class TestX(unittest.TestCase):\n",
    "    def test_do_stuff(self):\n",
    "        output = do_stuff(2)\n",
    "\n",
    "        self.assertEqual(output, 7)"
   ]
  },
  {
   "cell_type": "code",
   "execution_count": null,
   "id": "a28ba49d-f781-43f6-84fb-f25099635301",
   "metadata": {},
   "outputs": [],
   "source": [
    "import shopping.shopping_car as sp"
   ]
  },
  {
   "cell_type": "code",
   "execution_count": 8,
   "id": "0c8c25dc-2aed-4825-b027-f0cc7111b357",
   "metadata": {},
   "outputs": [],
   "source": [
    "from typing import List, Union, Tuple"
   ]
  },
  {
   "cell_type": "code",
   "execution_count": 7,
   "id": "fdfd3c5d-6223-43d6-be9b-f872160648a6",
   "metadata": {},
   "outputs": [],
   "source": [
    "NumberOfServing = int"
   ]
  },
  {
   "cell_type": "code",
   "execution_count": 9,
   "id": "89e79880-7a87-4bcc-b6d7-1b3fe45a056f",
   "metadata": {},
   "outputs": [],
   "source": [
    "Ingredient = Tuple[str, int, str]"
   ]
  },
  {
   "cell_type": "code",
   "execution_count": 10,
   "id": "6c0c2a64-7170-4229-ae02-0a062720a199",
   "metadata": {},
   "outputs": [],
   "source": [
    "output_1 = List[NumberOfServing]\n",
    "output_2 = List[Ingredient]"
   ]
  },
  {
   "cell_type": "code",
   "execution_count": 11,
   "id": "7d46d8b0-b184-4179-a109-9c13e170970c",
   "metadata": {},
   "outputs": [],
   "source": [
    "output = Union[output_1, output_2]"
   ]
  },
  {
   "cell_type": "markdown",
   "id": "7553e2a5-325b-4816-b398-7c5f97e7da3b",
   "metadata": {},
   "source": [
    "### Physics"
   ]
  },
  {
   "cell_type": "code",
   "execution_count": 12,
   "id": "066efe52-7bbc-4d27-9cec-ea7d28d8e4c0",
   "metadata": {},
   "outputs": [],
   "source": [
    "import pint\n",
    "ureg = pint.UnitRegistry()"
   ]
  },
  {
   "cell_type": "code",
   "execution_count": 14,
   "id": "7423700b-8d58-4a17-a4c7-c51b40d636f3",
   "metadata": {},
   "outputs": [],
   "source": [
    "q1 = 25*1e-9*ureg.coulomb"
   ]
  },
  {
   "cell_type": "code",
   "execution_count": 15,
   "id": "713dec2e-249e-44fa-9bfe-9bea5b90a41c",
   "metadata": {},
   "outputs": [],
   "source": [
    "q2 = -75*1e-9*ureg.coulomb"
   ]
  },
  {
   "cell_type": "code",
   "execution_count": null,
   "id": "6d665b9e-2848-4ca3-a680-93c72dafe472",
   "metadata": {},
   "outputs": [],
   "source": [
    "r = 3*ureg.centimeter"
   ]
  },
  {
   "cell_type": "code",
   "execution_count": null,
   "id": "f6427bfc-774e-402d-b9ee-896350c50666",
   "metadata": {},
   "outputs": [],
   "source": [
    "f = k * (abs(q1*q2)/(r**2))"
   ]
  },
  {
   "cell_type": "code",
   "execution_count": 17,
   "id": "a3541b66-aae3-40b0-82a0-0dbbfea8fe30",
   "metadata": {},
   "outputs": [],
   "source": [
    "J = 20*ureg.newton"
   ]
  },
  {
   "cell_type": "code",
   "execution_count": 18,
   "id": "5451f3fb-003a-455d-bed9-e54da1895450",
   "metadata": {},
   "outputs": [],
   "source": [
    "delta_t = 0.01 * ureg.second"
   ]
  },
  {
   "cell_type": "code",
   "execution_count": 19,
   "id": "342ba612-d415-40f0-964f-be0b07b85793",
   "metadata": {},
   "outputs": [],
   "source": [
    "import sympy as sym"
   ]
  },
  {
   "cell_type": "code",
   "execution_count": 20,
   "id": "607e76a6-7a29-45f3-8f2a-1f7a9ca43330",
   "metadata": {},
   "outputs": [],
   "source": [
    "m, v, g, h = sym.symbols('m, v, g, h')"
   ]
  },
  {
   "cell_type": "code",
   "execution_count": 21,
   "id": "515eb575-738f-47c7-a986-3709f05f3ccb",
   "metadata": {},
   "outputs": [],
   "source": [
    "k1 = 0.5 * m *v**2"
   ]
  },
  {
   "cell_type": "code",
   "execution_count": 22,
   "id": "78492c24-9392-417c-80dc-f3c92fb63b59",
   "metadata": {},
   "outputs": [
    {
     "data": {
      "text/latex": [
       "$\\displaystyle 0.5 m v^{2}$"
      ],
      "text/plain": [
       "0.5*m*v**2"
      ]
     },
     "execution_count": 22,
     "metadata": {},
     "output_type": "execute_result"
    }
   ],
   "source": [
    "k1"
   ]
  },
  {
   "cell_type": "code",
   "execution_count": 23,
   "id": "aaa73ea8-0863-4260-8cab-839768044571",
   "metadata": {},
   "outputs": [],
   "source": [
    "u2 = m*g*h"
   ]
  },
  {
   "cell_type": "code",
   "execution_count": 24,
   "id": "db5b3fbb-4c83-42b3-9f56-3c3d5df1162b",
   "metadata": {},
   "outputs": [],
   "source": [
    "eq = sym.Eq(k1, u2)"
   ]
  },
  {
   "cell_type": "code",
   "execution_count": 25,
   "id": "b49bf6c9-22fc-44cd-b82d-125c637cab1b",
   "metadata": {},
   "outputs": [
    {
     "data": {
      "text/latex": [
       "$\\displaystyle 0.5 m v^{2} = g h m$"
      ],
      "text/plain": [
       "Eq(0.5*m*v**2, g*h*m)"
      ]
     },
     "execution_count": 25,
     "metadata": {},
     "output_type": "execute_result"
    }
   ],
   "source": [
    "eq"
   ]
  },
  {
   "cell_type": "code",
   "execution_count": 28,
   "id": "7b449c93-2dc4-4e6d-a947-c97c8f9a3b1a",
   "metadata": {},
   "outputs": [],
   "source": [
    "h_val = sym.solve(eq, h)[0]"
   ]
  },
  {
   "cell_type": "code",
   "execution_count": 29,
   "id": "682fb626-c642-4dd4-a629-95273725cf49",
   "metadata": {},
   "outputs": [
    {
     "data": {
      "text/latex": [
       "$\\displaystyle \\frac{0.5 v^{2}}{g}$"
      ],
      "text/plain": [
       "0.5*v**2/g"
      ]
     },
     "execution_count": 29,
     "metadata": {},
     "output_type": "execute_result"
    }
   ],
   "source": [
    "h_val"
   ]
  },
  {
   "cell_type": "code",
   "execution_count": 31,
   "id": "0d5a1035-0dfb-4902-ba94-510e43d52fff",
   "metadata": {},
   "outputs": [],
   "source": [
    "import sympy.physics.units as u"
   ]
  },
  {
   "cell_type": "code",
   "execution_count": null,
   "id": "6133faab-11eb-4dc4-ab01-957b329b5db5",
   "metadata": {},
   "outputs": [],
   "source": [
    "h_val.subs({\n",
    "    v: 20 * u.meter/u.second,\n",
    "    g: 9.8 * u\n",
    "})"
   ]
  },
  {
   "cell_type": "code",
   "execution_count": 32,
   "id": "c5b13e4c-d423-4ccf-9765-e8b2034d7bf0",
   "metadata": {},
   "outputs": [],
   "source": [
    "m, v_1, v_2 = sym.symbols('m, v_1, v_2')"
   ]
  },
  {
   "cell_type": "code",
   "execution_count": 34,
   "id": "3bf97560-f365-4c0d-a582-5ca99290eeb1",
   "metadata": {},
   "outputs": [],
   "source": [
    "p_1 = 0.5*m*v_1**2"
   ]
  },
  {
   "cell_type": "code",
   "execution_count": 36,
   "id": "9abbb53a-2ebd-46e2-9f20-a6658352325e",
   "metadata": {},
   "outputs": [
    {
     "data": {
      "text/latex": [
       "$\\displaystyle 0.5 m v_{1}^{2}$"
      ],
      "text/plain": [
       "0.5*m*v_1**2"
      ]
     },
     "execution_count": 36,
     "metadata": {},
     "output_type": "execute_result"
    }
   ],
   "source": [
    "p_1"
   ]
  },
  {
   "cell_type": "code",
   "execution_count": 37,
   "id": "cf7b1bae-beea-46ec-9b27-50ef64c2c8a0",
   "metadata": {},
   "outputs": [],
   "source": [
    "p_2 = 0.5*m*v_2**2"
   ]
  },
  {
   "cell_type": "code",
   "execution_count": 38,
   "id": "7f950bf2-7653-4702-8e19-d1e3ad434737",
   "metadata": {},
   "outputs": [
    {
     "data": {
      "text/latex": [
       "$\\displaystyle 0.5 m v_{2}^{2}$"
      ],
      "text/plain": [
       "0.5*m*v_2**2"
      ]
     },
     "execution_count": 38,
     "metadata": {},
     "output_type": "execute_result"
    }
   ],
   "source": [
    "p_2"
   ]
  },
  {
   "cell_type": "code",
   "execution_count": 39,
   "id": "09136ce2-51a8-41e1-9e3b-17c1186ddb71",
   "metadata": {},
   "outputs": [],
   "source": [
    "eq = p_1 - p_2"
   ]
  },
  {
   "cell_type": "code",
   "execution_count": 40,
   "id": "fee857ec-6d01-491f-b4e6-2c426f7d5ace",
   "metadata": {},
   "outputs": [
    {
     "data": {
      "text/latex": [
       "$\\displaystyle 0.5 m v_{1}^{2} - 0.5 m v_{2}^{2}$"
      ],
      "text/plain": [
       "0.5*m*v_1**2 - 0.5*m*v_2**2"
      ]
     },
     "execution_count": 40,
     "metadata": {},
     "output_type": "execute_result"
    }
   ],
   "source": [
    "eq"
   ]
  },
  {
   "cell_type": "code",
   "execution_count": null,
   "id": "43573dc1-be81-407b-9a3d-4e5a0f611d8e",
   "metadata": {},
   "outputs": [],
   "source": [
    "u.k"
   ]
  },
  {
   "cell_type": "code",
   "execution_count": 41,
   "id": "b94ded83-90ef-4070-b245-f3cc87ec2d29",
   "metadata": {},
   "outputs": [
    {
     "data": {
      "text/latex": [
       "$\\displaystyle \\frac{100.0 \\text{kg} \\text{m}^{2}}{\\text{s}^{2}}$"
      ],
      "text/plain": [
       "100.0*kilogram*meter**2/second**2"
      ]
     },
     "execution_count": 41,
     "metadata": {},
     "output_type": "execute_result"
    }
   ],
   "source": [
    "eq.subs({\n",
    "    m: 0.4 * u.kilogram,\n",
    "    v_1: -30 *u.meter/u.second,\n",
    "    v_2: 20*u.meter/u.second\n",
    "})"
   ]
  },
  {
   "cell_type": "markdown",
   "id": "1fb854d6-5034-4911-9019-ff06c62914e9",
   "metadata": {},
   "source": [
    "### AI"
   ]
  },
  {
   "cell_type": "code",
   "execution_count": 42,
   "id": "de12813a-ad34-4d3f-aaf6-6574fa1f00db",
   "metadata": {},
   "outputs": [],
   "source": [
    "import torch\n",
    "from torch import nn\n",
    "import torch.nn.functional as F"
   ]
  },
  {
   "cell_type": "code",
   "execution_count": 43,
   "id": "7dacbbed-705f-4186-a2e1-4d565d720347",
   "metadata": {},
   "outputs": [],
   "source": [
    "from torch.distributions import Categorical"
   ]
  },
  {
   "cell_type": "code",
   "execution_count": 44,
   "id": "169555d7-62b4-41db-ace0-9755f2795d8e",
   "metadata": {},
   "outputs": [],
   "source": [
    "class ActorCritic(nn.Module):\n",
    "    def __init__(self, n_observations, n_actions, n_hidden):\n",
    "        super().__init__()\n",
    "        self.actor = nn.Sequential(\n",
    "            nn.Linear(n_observations, n_hidden),\n",
    "            nn.Tanh(),\n",
    "            nn.Linear(n_hidden, n_hidden),\n",
    "            nn.Tanh(),\n",
    "            nn.Linear(n_hidden, n_actions),\n",
    "            nn.Softmax(dim=-1)\n",
    "        )\n",
    "        \n",
    "        self.critic = nn.Sequential(\n",
    "            nn.Linear(n_observations, n_hidden),\n",
    "            nn.Tanh(),\n",
    "            nn.Linear(n_hidden, n_hidden),\n",
    "            nn.Tanh(),\n",
    "            nn.Linear(n_hidden, 1)\n",
    "        )\n",
    "    \n",
    "    def get_action_and_value(self, x):\n",
    "        probs = self.actor(x)\n",
    "        \n",
    "        dist = Categorical(probs=probs)\n",
    "        action = dist.sample()\n",
    "        log_prob = dist.log_prob(action)\n",
    "        entropy = dist.entropy()\n",
    "        \n",
    "        critic_value = self.critic(x)\n",
    "        \n",
    "        return action, log_prob, entropy, critic_value"
   ]
  },
  {
   "cell_type": "code",
   "execution_count": null,
   "id": "368c5b8f-9526-4591-a537-edf87c89d2a1",
   "metadata": {},
   "outputs": [],
   "source": [
    "latency, memory, accuracy"
   ]
  },
  {
   "cell_type": "code",
   "execution_count": null,
   "id": "cd74553f-0ebe-467a-88da-870d884b5117",
   "metadata": {},
   "outputs": [],
   "source": [
    "def tokenize(batch):\n",
    "    return tokenizer(\n",
    "        batch[\"text\"],\n",
    "        truncation=True,\n",
    "        padding=True\n",
    "    )"
   ]
  },
  {
   "cell_type": "code",
   "execution_count": 46,
   "id": "dd9fddc4-1513-4a49-9986-f72dff920f0e",
   "metadata": {},
   "outputs": [],
   "source": [
    "class PerformanceBenchmark:\n",
    "    def __init__(self, pipeline, dataset):\n",
    "        self.pipeline = pipeline\n",
    "        self.dataset = dataset\n",
    "    \n",
    "    def compute_latency(self): pass\n",
    "\n",
    "    def compute_memory(self): pass\n",
    "\n",
    "    def compute_accuracy(self): pass\n",
    "\n",
    "    def run_benchmark(self):\n",
    "        metrics = {}\n",
    "        metrics[\"latency\"] = self.compute_latency()\n",
    "        \n",
    "        return metrics"
   ]
  },
  {
   "cell_type": "code",
   "execution_count": 47,
   "id": "276fd09a-6e91-409a-98d0-a32574ecb019",
   "metadata": {},
   "outputs": [],
   "source": [
    "kl_divergence = nn.KLDivLoss()"
   ]
  },
  {
   "cell_type": "code",
   "execution_count": null,
   "id": "b92663bc-df84-4f47-9129-5ab541ff46cf",
   "metadata": {},
   "outputs": [],
   "source": [
    "loss = kl_divergence(\n",
    "    input=F.log_softmax(student_logits),\n",
    "    target=F.softmax(teacher_logits)\n",
    ")"
   ]
  },
  {
   "cell_type": "code",
   "execution_count": 48,
   "id": "25a2397f-a9c0-44dc-a530-a6bebadd7911",
   "metadata": {},
   "outputs": [],
   "source": [
    "from transformers import AutoTokenizer"
   ]
  },
  {
   "cell_type": "code",
   "execution_count": null,
   "id": "98e76682-02f8-4a4a-be4d-0b606eda49f7",
   "metadata": {},
   "outputs": [],
   "source": []
  }
 ],
 "metadata": {
  "kernelspec": {
   "display_name": "Python 3 (ipykernel)",
   "language": "python",
   "name": "python3"
  },
  "language_info": {
   "codemirror_mode": {
    "name": "ipython",
    "version": 3
   },
   "file_extension": ".py",
   "mimetype": "text/x-python",
   "name": "python",
   "nbconvert_exporter": "python",
   "pygments_lexer": "ipython3",
   "version": "3.8.15"
  }
 },
 "nbformat": 4,
 "nbformat_minor": 5
}
