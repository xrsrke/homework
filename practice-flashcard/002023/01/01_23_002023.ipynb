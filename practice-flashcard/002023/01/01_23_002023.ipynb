{
 "cells": [
  {
   "cell_type": "markdown",
   "id": "aa341105-f3af-4450-8241-15508f147e35",
   "metadata": {},
   "source": [
    "### SW"
   ]
  },
  {
   "cell_type": "code",
   "execution_count": null,
   "id": "f286dbb2-1f3c-4cc3-a1da-d554a6466e5d",
   "metadata": {},
   "outputs": [],
   "source": [
    "try:\n",
    "    pass\n",
    "except ZeroDivisionError as err:\n",
    "    print(err)"
   ]
  },
  {
   "cell_type": "code",
   "execution_count": null,
   "id": "1a3e2adf-000c-47cb-889f-95dec35160e0",
   "metadata": {},
   "outputs": [],
   "source": [
    "cat < h1.txt > h2.txt"
   ]
  },
  {
   "cell_type": "markdown",
   "id": "945299d2-0154-49d2-8f4e-65cc7ff87b91",
   "metadata": {},
   "source": [
    "### Phys"
   ]
  },
  {
   "cell_type": "code",
   "execution_count": null,
   "id": "d765b9e1-653b-4591-b761-4b834ae444f7",
   "metadata": {},
   "outputs": [],
   "source": [
    "electric field and magnetic field"
   ]
  },
  {
   "cell_type": "code",
   "execution_count": 1,
   "id": "628acc82-7c99-4d0e-8b18-94a16cef3ea3",
   "metadata": {},
   "outputs": [],
   "source": [
    "import sympy as sym\n",
    "import sympy.physics.units as units\n",
    "import pint\n",
    "ureg = pint.UnitRegistry()"
   ]
  },
  {
   "cell_type": "code",
   "execution_count": 5,
   "id": "57cbaad5-1604-42d0-860f-bff17a47c157",
   "metadata": {},
   "outputs": [],
   "source": [
    "m, v_1, g, h_2 = sym.symbols('m, v_1, g, h_2')"
   ]
  },
  {
   "cell_type": "code",
   "execution_count": 4,
   "id": "1e2ffca3-9594-4777-ba53-f8b68b013645",
   "metadata": {},
   "outputs": [],
   "source": [
    "k_1 = 0.5*m*v_1**2"
   ]
  },
  {
   "cell_type": "code",
   "execution_count": 6,
   "id": "45423356-a45b-4be7-b97b-db9a59c5e2ee",
   "metadata": {},
   "outputs": [],
   "source": [
    "u_2 = m*g*h_2"
   ]
  },
  {
   "cell_type": "code",
   "execution_count": 7,
   "id": "904dc2eb-1fb5-4d13-a0db-3f682afcf1b1",
   "metadata": {},
   "outputs": [
    {
     "data": {
      "text/latex": [
       "$\\displaystyle g h_{2} m$"
      ],
      "text/plain": [
       "g*h_2*m"
      ]
     },
     "execution_count": 7,
     "metadata": {},
     "output_type": "execute_result"
    }
   ],
   "source": [
    "u_2"
   ]
  },
  {
   "cell_type": "code",
   "execution_count": 9,
   "id": "4c75cd02-3ec9-4c17-9b19-b70873266956",
   "metadata": {},
   "outputs": [],
   "source": [
    "eq = sym.Eq(k_1, u_2)"
   ]
  },
  {
   "cell_type": "code",
   "execution_count": 10,
   "id": "73207deb-2f7f-4fbf-884e-25d65fecbfcb",
   "metadata": {},
   "outputs": [
    {
     "data": {
      "text/latex": [
       "$\\displaystyle 0.5 m v_{1}^{2} = g h_{2} m$"
      ],
      "text/plain": [
       "Eq(0.5*m*v_1**2, g*h_2*m)"
      ]
     },
     "execution_count": 10,
     "metadata": {},
     "output_type": "execute_result"
    }
   ],
   "source": [
    "eq"
   ]
  },
  {
   "cell_type": "code",
   "execution_count": 13,
   "id": "84c66285-e719-4098-a7ba-fb7f90a562e7",
   "metadata": {},
   "outputs": [],
   "source": [
    "h_2_val = sym.solve(eq, h_2)"
   ]
  },
  {
   "cell_type": "code",
   "execution_count": 14,
   "id": "c7c20414-0bae-4b98-a010-7b63d7340f8b",
   "metadata": {},
   "outputs": [
    {
     "data": {
      "text/plain": [
       "[0.5*v_1**2/g]"
      ]
     },
     "execution_count": 14,
     "metadata": {},
     "output_type": "execute_result"
    }
   ],
   "source": [
    "h_2_val"
   ]
  },
  {
   "cell_type": "code",
   "execution_count": 17,
   "id": "4b2614b9-ea49-4efa-b653-f237195a205f",
   "metadata": {},
   "outputs": [
    {
     "data": {
      "text/latex": [
       "$\\displaystyle \\frac{0.5 v_{1}^{2}}{g}$"
      ],
      "text/plain": [
       "0.5*v_1**2/g"
      ]
     },
     "execution_count": 17,
     "metadata": {},
     "output_type": "execute_result"
    }
   ],
   "source": [
    "h_2_val[0]"
   ]
  },
  {
   "cell_type": "code",
   "execution_count": 18,
   "id": "9365ddd1-7003-4d51-af2d-8f34f71235c0",
   "metadata": {},
   "outputs": [
    {
     "data": {
      "text/latex": [
       "$\\displaystyle 20.4081632653061 \\text{m}$"
      ],
      "text/plain": [
       "20.4081632653061*meter"
      ]
     },
     "execution_count": 18,
     "metadata": {},
     "output_type": "execute_result"
    }
   ],
   "source": [
    "h_2_val[0].subs({\n",
    "    v_1: 20*units.meter/units.second,\n",
    "    g: 9.8*units.meter/units.second**2\n",
    "})"
   ]
  },
  {
   "cell_type": "code",
   "execution_count": null,
   "id": "dd63ef5f-368b-4416-9827-6c6c8937c930",
   "metadata": {},
   "outputs": [],
   "source": []
  },
  {
   "cell_type": "code",
   "execution_count": null,
   "id": "aca21003-9f6d-4809-a059-def0e8da0208",
   "metadata": {},
   "outputs": [],
   "source": []
  },
  {
   "cell_type": "code",
   "execution_count": 19,
   "id": "3261640d-6ac3-45e1-865c-ba113e8c3af5",
   "metadata": {},
   "outputs": [],
   "source": [
    "m, v_1, v_2 = sym.symbols('m, v_1, v_2')"
   ]
  },
  {
   "cell_type": "code",
   "execution_count": 21,
   "id": "a97e66c5-b363-40d1-a40a-da1606763f5d",
   "metadata": {},
   "outputs": [],
   "source": [
    "p_1 = m*v_1"
   ]
  },
  {
   "cell_type": "code",
   "execution_count": 22,
   "id": "e919a087-3dbf-4d37-8508-d3868d7d28aa",
   "metadata": {},
   "outputs": [
    {
     "data": {
      "text/latex": [
       "$\\displaystyle m v_{1}$"
      ],
      "text/plain": [
       "m*v_1"
      ]
     },
     "execution_count": 22,
     "metadata": {},
     "output_type": "execute_result"
    }
   ],
   "source": [
    "p_1"
   ]
  },
  {
   "cell_type": "code",
   "execution_count": 23,
   "id": "4185a46f-684c-4502-b4d9-3b96cd16e8a5",
   "metadata": {},
   "outputs": [],
   "source": [
    "p_2 = m*v_2"
   ]
  },
  {
   "cell_type": "code",
   "execution_count": 24,
   "id": "4d836f73-7d66-4bf2-a911-7e6de869a1b3",
   "metadata": {},
   "outputs": [
    {
     "data": {
      "text/latex": [
       "$\\displaystyle m v_{2}$"
      ],
      "text/plain": [
       "m*v_2"
      ]
     },
     "execution_count": 24,
     "metadata": {},
     "output_type": "execute_result"
    }
   ],
   "source": [
    "p_2"
   ]
  },
  {
   "cell_type": "code",
   "execution_count": 31,
   "id": "c9e0af9f-aca1-4c9f-b755-8ee5011c26cd",
   "metadata": {},
   "outputs": [],
   "source": [
    "J = p_2 - p_1"
   ]
  },
  {
   "cell_type": "code",
   "execution_count": 32,
   "id": "67f52d50-acb7-4e6e-ba2d-3ff7dc670132",
   "metadata": {},
   "outputs": [
    {
     "data": {
      "text/latex": [
       "$\\displaystyle - m v_{1} + m v_{2}$"
      ],
      "text/plain": [
       "-m*v_1 + m*v_2"
      ]
     },
     "execution_count": 32,
     "metadata": {},
     "output_type": "execute_result"
    }
   ],
   "source": [
    "J"
   ]
  },
  {
   "cell_type": "code",
   "execution_count": 33,
   "id": "49cd0637-e5d4-4b09-a1bd-8cc43045c6e9",
   "metadata": {},
   "outputs": [
    {
     "data": {
      "text/latex": [
       "$\\displaystyle \\frac{20.0 \\text{kg} \\text{m}}{\\text{s}}$"
      ],
      "text/plain": [
       "20.0*kilogram*meter/second"
      ]
     },
     "execution_count": 33,
     "metadata": {},
     "output_type": "execute_result"
    }
   ],
   "source": [
    "J.subs({\n",
    "    m: 0.4*units.kilogram,\n",
    "    v_1: -30*units.meter/units.second,\n",
    "    v_2: 20*units.meter/units.second\n",
    "})"
   ]
  },
  {
   "cell_type": "markdown",
   "id": "97257838-3981-4a2e-90d7-db8b1cc4656f",
   "metadata": {},
   "source": [
    "- normal force: the surface of the table exerts a normal force on the apple\n",
    "- applied force: the hand\n",
    "- friciton force\n",
    "- air resistance\n",
    "- gravity"
   ]
  },
  {
   "cell_type": "markdown",
   "id": "7734b6d0-f801-4bd2-93b0-a4d48ccaad1f",
   "metadata": {},
   "source": [
    "### AI"
   ]
  },
  {
   "cell_type": "code",
   "execution_count": 35,
   "id": "e7af689f-3443-447e-b2c9-24712508504c",
   "metadata": {},
   "outputs": [],
   "source": [
    "import torch\n",
    "from torch import nn\n",
    "import torch.nn.functional as F"
   ]
  },
  {
   "cell_type": "code",
   "execution_count": null,
   "id": "18273037-d9b6-4828-8c8b-a41805b1444b",
   "metadata": {},
   "outputs": [],
   "source": [
    "inputs = tokenizer(sentence)"
   ]
  },
  {
   "cell_type": "code",
   "execution_count": null,
   "id": "938e6098-2e37-474d-bc59-832bd17f467b",
   "metadata": {},
   "outputs": [],
   "source": [
    "inputs = torch.unsqueeze(inputs, dim=0)"
   ]
  },
  {
   "cell_type": "code",
   "execution_count": null,
   "id": "5ce2bdd4-6830-456c-ad9e-4f84e2b215f0",
   "metadata": {},
   "outputs": [],
   "source": [
    "preds = output.generate(\n",
    "    input_ids=inputs[\"input_ids\"],\n",
    "    attention_mask=inputs[\"attention_mask\"]\n",
    ")"
   ]
  },
  {
   "cell_type": "code",
   "execution_count": null,
   "id": "ea482c42-b574-4bfc-a645-043b7d2ab37e",
   "metadata": {},
   "outputs": [],
   "source": [
    "output[\"hidden_states\"][-1]"
   ]
  },
  {
   "cell_type": "code",
   "execution_count": 36,
   "id": "ebff848c-a12d-4a82-b658-c953e41ca035",
   "metadata": {},
   "outputs": [],
   "source": [
    "from datasets import load_metric"
   ]
  },
  {
   "cell_type": "code",
   "execution_count": 39,
   "id": "75346780-d3ae-4a94-80c3-aee7202bb166",
   "metadata": {},
   "outputs": [],
   "source": [
    "bleu = load_metric(\"bleu\")"
   ]
  },
  {
   "cell_type": "code",
   "execution_count": null,
   "id": "134d60ff-5d0f-4980-a5d3-953aa625641c",
   "metadata": {},
   "outputs": [],
   "source": [
    "output = bleu.compute(\n",
    "    predictions=predictions,\n",
    "    references=references\n",
    ")"
   ]
  },
  {
   "cell_type": "code",
   "execution_count": null,
   "id": "fd8e3cea-234c-4d41-b01b-27019aea6aef",
   "metadata": {},
   "outputs": [],
   "source": [
    "def summary_batch(article_batches, max_context_length):\n",
    "    summary_arr = []\n",
    "    for article_batch in article_batches:\n",
    "        inputs = tokenizer(\n",
    "            article_batch,\n",
    "            context_length=max_context_length,\n",
    "            truncation=True,\n",
    "            padding=True\n",
    "        )\n",
    "        \n",
    "        summaries = model.generate(\n",
    "            input_ids=inputs[\"input_ids\"],\n",
    "            attention_mask=inputs[\"attention_mask\"]\n",
    "        )\n",
    "        \n",
    "        decoded_summaries = tokenizer.decode(summaries)\n",
    "        summary_arr.append(decoded_summaries)\n",
    "    \n",
    "    return summary_arr"
   ]
  },
  {
   "cell_type": "code",
   "execution_count": null,
   "id": "ed06b1f5-4fc5-4f0d-8a19-1eca2d2246d8",
   "metadata": {},
   "outputs": [],
   "source": [
    "normalization -> preprocessing -> tokenize -> post-processing"
   ]
  },
  {
   "cell_type": "code",
   "execution_count": 41,
   "id": "04234cd6-dd57-4ba7-b0cd-1bc7c13a0d65",
   "metadata": {},
   "outputs": [],
   "source": [
    "from einops import rearrange"
   ]
  },
  {
   "cell_type": "code",
   "execution_count": null,
   "id": "e7b758fd-6514-44e9-944e-50e544d6194c",
   "metadata": {},
   "outputs": [],
   "source": [
    "def compute_loss(model, xb, yb):\n",
    "    pred = model(xb)\n",
    "    \n",
    "    pred = rearrange(pred, 'batch_size seq_len n_embd -> (batch_size seq_len) n_embd')\n",
    "    yb = rearrange(pred, 'batch_size seq_len -> (batch_size seq_len)')\n",
    "    \n",
    "    loss = F.cross_entropy(pred, yb)\n",
    "    \n",
    "    return loss"
   ]
  },
  {
   "cell_type": "code",
   "execution_count": null,
   "id": "1dca76f5-b1b9-4af9-a74c-2cf08e24f47f",
   "metadata": {},
   "outputs": [],
   "source": [
    "def compute_cross_entropy(logits, targets):\n",
    "    log_probs = F.log_softmax(logits)\n",
    "    \n",
    "    loss = -log_probs[range(targets.shape[-1]), targets].mean()\n",
    "    \n",
    "    return loss"
   ]
  },
  {
   "cell_type": "code",
   "execution_count": null,
   "id": "a8791530-bbec-4768-8878-3dd8c022a0ec",
   "metadata": {},
   "outputs": [],
   "source": [
    "prediction network, value network, dynamics network"
   ]
  },
  {
   "cell_type": "code",
   "execution_count": null,
   "id": "28700516-4c3a-4711-987a-d270a849b0d4",
   "metadata": {},
   "outputs": [],
   "source": [
    "action = torch.multinomial(preds, num_samples=1)"
   ]
  },
  {
   "cell_type": "code",
   "execution_count": null,
   "id": "f6748b97-4344-433a-8af5-d31b3e7fa3ad",
   "metadata": {},
   "outputs": [],
   "source": [
    "residual connection, conv, batch norm, linear"
   ]
  },
  {
   "cell_type": "code",
   "execution_count": 42,
   "id": "185f5353-4a90-4336-b42c-2253bbc2e2cc",
   "metadata": {},
   "outputs": [],
   "source": [
    "def accuracy(probs, targs):\n",
    "    idx_preds = torch.argmax(probs, dim=-1)\n",
    "    \n",
    "    return (idx_pred == targs).float().mean()"
   ]
  },
  {
   "cell_type": "code",
   "execution_count": null,
   "id": "98c59423-7a24-4ce2-9c91-e72acefd08f5",
   "metadata": {},
   "outputs": [],
   "source": [
    "7, 3, 4, 4"
   ]
  },
  {
   "cell_type": "code",
   "execution_count": null,
   "id": "81377629-9102-4423-861f-b82dc9f63e4d",
   "metadata": {},
   "outputs": [],
   "source": [
    "def nll(sm_pred, y_train):\n",
    "    return -sm_pred[range(y_train.shape[-1]), y_train].mean()"
   ]
  },
  {
   "cell_type": "code",
   "execution_count": 43,
   "id": "e50189d0-57b3-4559-9b69-7b051a3303fa",
   "metadata": {},
   "outputs": [],
   "source": [
    "def frobenius_norm(x):\n",
    "    return x.pow(2).sum().sqrt()"
   ]
  },
  {
   "cell_type": "code",
   "execution_count": null,
   "id": "eb370e6c-2e85-41d2-811b-7ca88e14ddf1",
   "metadata": {},
   "outputs": [],
   "source": []
  }
 ],
 "metadata": {
  "kernelspec": {
   "display_name": "Python 3 (ipykernel)",
   "language": "python",
   "name": "python3"
  },
  "language_info": {
   "codemirror_mode": {
    "name": "ipython",
    "version": 3
   },
   "file_extension": ".py",
   "mimetype": "text/x-python",
   "name": "python",
   "nbconvert_exporter": "python",
   "pygments_lexer": "ipython3",
   "version": "3.8.15"
  }
 },
 "nbformat": 4,
 "nbformat_minor": 5
}
