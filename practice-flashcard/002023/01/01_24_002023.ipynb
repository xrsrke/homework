{
 "cells": [
  {
   "cell_type": "markdown",
   "id": "a56611ac",
   "metadata": {},
   "source": [
    "### SW"
   ]
  },
  {
   "cell_type": "code",
   "execution_count": null,
   "id": "d6eb222f",
   "metadata": {},
   "outputs": [],
   "source": [
    "class Wizard(User):\n",
    "    def __init__(self, name, power, email):\n",
    "        super().__init__(email)\n",
    "        self.name = name\n",
    "        self.power = power"
   ]
  },
  {
   "cell_type": "code",
   "execution_count": 1,
   "id": "4932a352",
   "metadata": {},
   "outputs": [],
   "source": [
    "from typing import Callable"
   ]
  },
  {
   "cell_type": "code",
   "execution_count": 2,
   "id": "c7296b8f",
   "metadata": {},
   "outputs": [],
   "source": [
    "def foo(func: Callable[[int, int], str]) -> str:\n",
    "    pass"
   ]
  },
  {
   "cell_type": "code",
   "execution_count": null,
   "id": "4e436041",
   "metadata": {},
   "outputs": [],
   "source": [
    "np.where(x > 1, \"GOOD\", \"BAD\")"
   ]
  },
  {
   "cell_type": "code",
   "execution_count": 3,
   "id": "4183e62d",
   "metadata": {},
   "outputs": [],
   "source": [
    "from typing import Union"
   ]
  },
  {
   "cell_type": "code",
   "execution_count": null,
   "id": "773dae37",
   "metadata": {},
   "outputs": [],
   "source": [
    "x = []"
   ]
  },
  {
   "cell_type": "markdown",
   "id": "7435d67d",
   "metadata": {},
   "source": [
    "### AI"
   ]
  },
  {
   "cell_type": "code",
   "execution_count": 5,
   "id": "48ddb88e",
   "metadata": {},
   "outputs": [],
   "source": [
    "import torch\n",
    "from torch import nn\n",
    "import torch.nn.functional as F"
   ]
  },
  {
   "cell_type": "code",
   "execution_count": null,
   "id": "211807ea",
   "metadata": {},
   "outputs": [],
   "source": [
    "Truncation, sequence spliting, sliding window"
   ]
  },
  {
   "cell_type": "code",
   "execution_count": 4,
   "id": "a25e2145",
   "metadata": {},
   "outputs": [],
   "source": [
    "from torchvision import transforms as tfms"
   ]
  },
  {
   "cell_type": "code",
   "execution_count": null,
   "id": "7ceb22df",
   "metadata": {},
   "outputs": [],
   "source": [
    "transform = tfms.Compose([\n",
    "    tfms.ToTensor(),\n",
    "    tfms.Normalize(0.3, 0.9)\n",
    "])"
   ]
  },
  {
   "cell_type": "code",
   "execution_count": null,
   "id": "ad9557d6",
   "metadata": {},
   "outputs": [],
   "source": [
    "def compute_cross_entropy(logits, targets):\n",
    "    log_probs = F.log_softmax(logits)\n",
    "    \n",
    "    return F.cross_entropy(input=log_probs, target=targets)"
   ]
  },
  {
   "cell_type": "code",
   "execution_count": 6,
   "id": "1a1eb680",
   "metadata": {},
   "outputs": [],
   "source": [
    "from transformers import RobertaConfig, RobertaModel"
   ]
  },
  {
   "cell_type": "code",
   "execution_count": null,
   "id": "c291a102",
   "metadata": {},
   "outputs": [],
   "source": [
    "config = RobertaConfig()"
   ]
  },
  {
   "cell_type": "code",
   "execution_count": null,
   "id": "b4306629",
   "metadata": {},
   "outputs": [],
   "source": [
    "model = RobertaModel(config)"
   ]
  },
  {
   "cell_type": "code",
   "execution_count": 14,
   "id": "c162a3d4",
   "metadata": {},
   "outputs": [],
   "source": [
    "def create_mask(size):\n",
    "    return torch.ones((1, size, size)).triu(1)"
   ]
  },
  {
   "cell_type": "code",
   "execution_count": 15,
   "id": "b5f2c044",
   "metadata": {},
   "outputs": [
    {
     "data": {
      "text/plain": [
       "tensor([[[0., 1., 1., 1.],\n",
       "         [0., 0., 1., 1.],\n",
       "         [0., 0., 0., 1.],\n",
       "         [0., 0., 0., 0.]]])"
      ]
     },
     "execution_count": 15,
     "metadata": {},
     "output_type": "execute_result"
    }
   ],
   "source": [
    "create_mask(4)"
   ]
  },
  {
   "cell_type": "code",
   "execution_count": null,
   "id": "c04dbfef",
   "metadata": {},
   "outputs": [],
   "source": [
    "target_text_embeddings = text_embeddings @ text_embeddings.T\n",
    "target_image_embeddings = image_embeddings @ image_embeddings.T"
   ]
  },
  {
   "cell_type": "code",
   "execution_count": null,
   "id": "f8b668ff",
   "metadata": {},
   "outputs": [],
   "source": [
    "target = F.softmax(\n",
    "    (target_text_embeddings + target_image_embeddings) / 2*temperature\n",
    ")"
   ]
  },
  {
   "cell_type": "code",
   "execution_count": 16,
   "id": "f0f0b4ed",
   "metadata": {},
   "outputs": [],
   "source": [
    "from torchvision import transforms as tfms"
   ]
  },
  {
   "cell_type": "code",
   "execution_count": 17,
   "id": "1460cf24",
   "metadata": {},
   "outputs": [],
   "source": [
    "transform = tfms.Compose([\n",
    "    tfms.ToTensor(),\n",
    "    tfms.Normalize(mean=0.3, std=0.9)\n",
    "])"
   ]
  },
  {
   "cell_type": "code",
   "execution_count": 18,
   "id": "6f13deb3",
   "metadata": {},
   "outputs": [],
   "source": [
    "def compute_cross_entropy(logits, targets):\n",
    "    log_probs = F.log_softmax(logits)\n",
    "    loss = -log_probs(range(targets.shape[-1]), targets).mean()\n",
    "    return loss"
   ]
  },
  {
   "cell_type": "code",
   "execution_count": 19,
   "id": "e0631834",
   "metadata": {},
   "outputs": [],
   "source": [
    "class ResidualLayerNorm(nn.Module):\n",
    "    def __init__(self, d_model, dropout):\n",
    "        super().__init__()\n",
    "        self.norm = nn.LayerNorm(d_model)\n",
    "        self.dropout = nn.Dropout(dropout)\n",
    "    \n",
    "    def forward(self, x, residual):\n",
    "        out = self.dropout(x) + residual\n",
    "        out = self.norm(out)\n",
    "        return out"
   ]
  },
  {
   "cell_type": "code",
   "execution_count": null,
   "id": "f4454e0d",
   "metadata": {},
   "outputs": [],
   "source": [
    "class ShortcutProjection(nn.Module):\n",
    "    def __init__(self, in_channels, out_channels, stride):\n",
    "        super().__init__()\n",
    "        self.conv = nn.Conv2d(\n",
    "            in_channels, out_channels, kernel_size=1, stride=stride\n",
    "        )"
   ]
  },
  {
   "cell_type": "code",
   "execution_count": null,
   "id": "6461dbcf",
   "metadata": {},
   "outputs": [],
   "source": []
  },
  {
   "cell_type": "code",
   "execution_count": null,
   "id": "7e334a3f",
   "metadata": {},
   "outputs": [],
   "source": [
    "a fixed window across the text => compute the output\n",
    "\n",
    "..."
   ]
  },
  {
   "cell_type": "code",
   "execution_count": null,
   "id": "0f934061",
   "metadata": {},
   "outputs": [],
   "source": []
  },
  {
   "cell_type": "code",
   "execution_count": null,
   "id": "f6a8da2d",
   "metadata": {},
   "outputs": [],
   "source": []
  },
  {
   "cell_type": "code",
   "execution_count": null,
   "id": "b2bba5ce",
   "metadata": {},
   "outputs": [],
   "source": []
  },
  {
   "cell_type": "code",
   "execution_count": 21,
   "id": "2bfb3c97",
   "metadata": {},
   "outputs": [],
   "source": [
    "def create_mask(size):\n",
    "    return torch.ones(size, size).triu(1)"
   ]
  },
  {
   "cell_type": "code",
   "execution_count": 22,
   "id": "b3de4e00",
   "metadata": {},
   "outputs": [
    {
     "data": {
      "text/plain": [
       "tensor([[0., 1., 1., 1.],\n",
       "        [0., 0., 1., 1.],\n",
       "        [0., 0., 0., 1.],\n",
       "        [0., 0., 0., 0.]])"
      ]
     },
     "execution_count": 22,
     "metadata": {},
     "output_type": "execute_result"
    }
   ],
   "source": [
    "create_mask(4)"
   ]
  },
  {
   "cell_type": "code",
   "execution_count": null,
   "id": "4ba8aa54",
   "metadata": {},
   "outputs": [],
   "source": [
    "class LMModel1(nn.Module):\n",
    "    def __init__(self, vocab_size, n_hidden):\n",
    "        super().__init__()\n",
    "        self.i_h = nn.Embedding(vocab_size, n_hidden)\n",
    "        self.h_h = nn.Embedding(n_hidden, n_hidden)\n",
    "        self.h_o = nn.Embedding(n_hidden, vocab_size)\n",
    "    \n",
    "    def forward(self, x):\n",
    "        h = F.relu(self.i_h(x[0, :]))\n",
    "        h = F.relu(self.h_h(h)) + F.relu(self.i_h(x[1, :]))\n",
    "        h = F.relu(self.h_h(h)) + F.relu(self.i_h(x[2, :]))\n",
    "        return self.h_o(h)"
   ]
  },
  {
   "cell_type": "code",
   "execution_count": 23,
   "id": "3075b230",
   "metadata": {},
   "outputs": [],
   "source": [
    "def frobenius_norm(x):\n",
    "    return x.pow(2).sum().sprt()"
   ]
  },
  {
   "cell_type": "code",
   "execution_count": null,
   "id": "9c0276ce",
   "metadata": {},
   "outputs": [],
   "source": [
    "noise = torch.randn(3, 3, latent_height, latent_width)"
   ]
  },
  {
   "cell_type": "code",
   "execution_count": null,
   "id": "881a959e",
   "metadata": {},
   "outputs": [],
   "source": []
  }
 ],
 "metadata": {
  "kernelspec": {
   "display_name": "Python 3 (ipykernel)",
   "language": "python",
   "name": "python3"
  },
  "language_info": {
   "codemirror_mode": {
    "name": "ipython",
    "version": 3
   },
   "file_extension": ".py",
   "mimetype": "text/x-python",
   "name": "python",
   "nbconvert_exporter": "python",
   "pygments_lexer": "ipython3",
   "version": "3.8.15"
  }
 },
 "nbformat": 4,
 "nbformat_minor": 5
}
