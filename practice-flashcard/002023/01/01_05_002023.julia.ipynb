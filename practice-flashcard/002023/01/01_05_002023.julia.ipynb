{
 "cells": [
  {
   "cell_type": "code",
   "execution_count": 1,
   "id": "9c1f36fa-99b0-412a-aabd-44e47a623845",
   "metadata": {},
   "outputs": [
    {
     "data": {
      "text/plain": [
       "is_string (generic function with 1 method)"
      ]
     },
     "execution_count": 1,
     "metadata": {},
     "output_type": "execute_result"
    }
   ],
   "source": [
    "is_string(x::String) = true"
   ]
  },
  {
   "cell_type": "code",
   "execution_count": 2,
   "id": "f193a30f-a393-488d-ac68-902fc6489bc1",
   "metadata": {},
   "outputs": [
    {
     "data": {
      "text/plain": [
       "is_string (generic function with 2 methods)"
      ]
     },
     "execution_count": 2,
     "metadata": {},
     "output_type": "execute_result"
    }
   ],
   "source": [
    "is_string(x) = false"
   ]
  }
 ],
 "metadata": {
  "kernelspec": {
   "display_name": "Julia 1.8.3",
   "language": "julia",
   "name": "julia-1.8"
  },
  "language_info": {
   "file_extension": ".jl",
   "mimetype": "application/julia",
   "name": "julia",
   "version": "1.8.3"
  }
 },
 "nbformat": 4,
 "nbformat_minor": 5
}
