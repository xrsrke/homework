{
 "cells": [
  {
   "cell_type": "markdown",
   "id": "f6c9ed2d",
   "metadata": {},
   "source": [
    "### Science"
   ]
  },
  {
   "cell_type": "markdown",
   "id": "4692b245",
   "metadata": {},
   "source": [
    "Elastic, "
   ]
  },
  {
   "cell_type": "code",
   "execution_count": 2,
   "id": "ebf2b11c",
   "metadata": {},
   "outputs": [],
   "source": [
    "import sympy as sym\n",
    "import sympy.physics.units as units"
   ]
  },
  {
   "cell_type": "code",
   "execution_count": 3,
   "id": "71fe537d",
   "metadata": {},
   "outputs": [],
   "source": [
    "m, v_1, v_2 = sym.symbols('m, v_1, v_2')"
   ]
  },
  {
   "cell_type": "code",
   "execution_count": 4,
   "id": "7c35d971",
   "metadata": {},
   "outputs": [
    {
     "data": {
      "text/latex": [
       "$\\displaystyle m$"
      ],
      "text/plain": [
       "m"
      ]
     },
     "execution_count": 4,
     "metadata": {},
     "output_type": "execute_result"
    }
   ],
   "source": [
    "m"
   ]
  },
  {
   "cell_type": "code",
   "execution_count": 5,
   "id": "c61dc3b0",
   "metadata": {},
   "outputs": [
    {
     "data": {
      "text/latex": [
       "$\\displaystyle v_{1}$"
      ],
      "text/plain": [
       "v_1"
      ]
     },
     "execution_count": 5,
     "metadata": {},
     "output_type": "execute_result"
    }
   ],
   "source": [
    "v_1"
   ]
  },
  {
   "cell_type": "code",
   "execution_count": 8,
   "id": "a3ff3db1",
   "metadata": {},
   "outputs": [],
   "source": [
    "p_1 = m*v_1"
   ]
  },
  {
   "cell_type": "code",
   "execution_count": 9,
   "id": "2109c773",
   "metadata": {},
   "outputs": [],
   "source": [
    "p_2 = m*v_2"
   ]
  },
  {
   "cell_type": "code",
   "execution_count": 12,
   "id": "351c5383",
   "metadata": {},
   "outputs": [],
   "source": [
    "I = p_2 - p_1"
   ]
  },
  {
   "cell_type": "code",
   "execution_count": 13,
   "id": "9f81cf18",
   "metadata": {},
   "outputs": [
    {
     "data": {
      "text/latex": [
       "$\\displaystyle - m v_{1} + m v_{2}$"
      ],
      "text/plain": [
       "-m*v_1 + m*v_2"
      ]
     },
     "execution_count": 13,
     "metadata": {},
     "output_type": "execute_result"
    }
   ],
   "source": [
    "I"
   ]
  },
  {
   "cell_type": "code",
   "execution_count": 14,
   "id": "370156f0",
   "metadata": {},
   "outputs": [
    {
     "data": {
      "text/latex": [
       "$\\displaystyle \\frac{20.0 \\text{kg} \\text{m}}{\\text{s}}$"
      ],
      "text/plain": [
       "20.0*kilogram*meter/second"
      ]
     },
     "execution_count": 14,
     "metadata": {},
     "output_type": "execute_result"
    }
   ],
   "source": [
    "I.subs({\n",
    "    m: 0.40*units.kilogram,\n",
    "    v_1: -30*units.meter/units.second,\n",
    "    v_2: 20*units.meter/units.second\n",
    "})"
   ]
  },
  {
   "cell_type": "code",
   "execution_count": 15,
   "id": "b387af80",
   "metadata": {},
   "outputs": [],
   "source": [
    "m, v_1, g, h_2 = sym.symbols('m, v_1, g, h_2')"
   ]
  },
  {
   "cell_type": "code",
   "execution_count": 19,
   "id": "a7f1b5cd",
   "metadata": {},
   "outputs": [],
   "source": [
    "k_1 = 0.5*m*v_1**2"
   ]
  },
  {
   "cell_type": "code",
   "execution_count": 20,
   "id": "bdcac2ca",
   "metadata": {},
   "outputs": [
    {
     "data": {
      "text/latex": [
       "$\\displaystyle 0.5 m v_{1}^{2}$"
      ],
      "text/plain": [
       "0.5*m*v_1**2"
      ]
     },
     "execution_count": 20,
     "metadata": {},
     "output_type": "execute_result"
    }
   ],
   "source": [
    "k_1"
   ]
  },
  {
   "cell_type": "code",
   "execution_count": 21,
   "id": "fbb6e279",
   "metadata": {},
   "outputs": [],
   "source": [
    "u_2 = m*g*h_2"
   ]
  },
  {
   "cell_type": "code",
   "execution_count": 22,
   "id": "74de6a7f",
   "metadata": {},
   "outputs": [],
   "source": [
    "eq = sym.Eq(k_1, u_2)"
   ]
  },
  {
   "cell_type": "code",
   "execution_count": 23,
   "id": "14ab7629",
   "metadata": {},
   "outputs": [
    {
     "data": {
      "text/latex": [
       "$\\displaystyle 0.5 m v_{1}^{2} = g h_{2} m$"
      ],
      "text/plain": [
       "Eq(0.5*m*v_1**2, g*h_2*m)"
      ]
     },
     "execution_count": 23,
     "metadata": {},
     "output_type": "execute_result"
    }
   ],
   "source": [
    "eq"
   ]
  },
  {
   "cell_type": "code",
   "execution_count": 24,
   "id": "849631cb",
   "metadata": {},
   "outputs": [],
   "source": [
    "h_2_val = sym.solve(eq, h_2)"
   ]
  },
  {
   "cell_type": "code",
   "execution_count": 26,
   "id": "0bfcdab6",
   "metadata": {},
   "outputs": [
    {
     "data": {
      "text/latex": [
       "$\\displaystyle \\frac{0.5 v_{1}^{2}}{g}$"
      ],
      "text/plain": [
       "0.5*v_1**2/g"
      ]
     },
     "execution_count": 26,
     "metadata": {},
     "output_type": "execute_result"
    }
   ],
   "source": [
    "h_2_val[0]"
   ]
  },
  {
   "cell_type": "code",
   "execution_count": null,
   "id": "74b0edf9",
   "metadata": {},
   "outputs": [],
   "source": [
    "h_2_val[0].subs({\n",
    "    g: \n",
    "})"
   ]
  },
  {
   "cell_type": "markdown",
   "id": "2d8570da",
   "metadata": {},
   "source": [
    "### AI"
   ]
  },
  {
   "cell_type": "code",
   "execution_count": 27,
   "id": "9f85f243",
   "metadata": {},
   "outputs": [],
   "source": [
    "import torch\n",
    "from torch import nn\n",
    "import torch.nn.functional as F"
   ]
  },
  {
   "cell_type": "code",
   "execution_count": 28,
   "id": "60dde8e1",
   "metadata": {},
   "outputs": [],
   "source": [
    "import numpy as np\n",
    "from gym import Env\n",
    "from gym.spaces import Discrete, Box"
   ]
  },
  {
   "cell_type": "code",
   "execution_count": 29,
   "id": "5760ca10",
   "metadata": {},
   "outputs": [],
   "source": [
    "class ShowerEnv(Env):\n",
    "    def __init__(self):\n",
    "        super().__init__()\n",
    "        self.action_space = Discrete(3)\n",
    "        self.observation_space = Box(\n",
    "            low=np.array([0]),\n",
    "            high=np.array([100])\n",
    "        )\n",
    "    \n",
    "    def step(self, action):\n",
    "        pass\n",
    "    \n",
    "    def reset(self):\n",
    "        pass"
   ]
  },
  {
   "cell_type": "code",
   "execution_count": 30,
   "id": "1613231e",
   "metadata": {},
   "outputs": [],
   "source": [
    "def nll(probs, targs):\n",
    "    idx_preds = torch.argmax(probs, dim=-1)\n",
    "    return -(idx_preds[]).float().mean()"
   ]
  },
  {
   "cell_type": "code",
   "execution_count": 31,
   "id": "5835a17f",
   "metadata": {},
   "outputs": [],
   "source": [
    "from einops import rearrange"
   ]
  },
  {
   "cell_type": "code",
   "execution_count": null,
   "id": "d8af67a7",
   "metadata": {},
   "outputs": [],
   "source": [
    "result = rearrange(images, 'b c h w -> b c w h')"
   ]
  },
  {
   "cell_type": "code",
   "execution_count": null,
   "id": "7e7fa1b8",
   "metadata": {},
   "outputs": [],
   "source": [
    "def compute_loss(model, xb, yb):\n",
    "    logits = model(xb)\n",
    "    \n",
    "    logits = rearrange(logits, 'batch_size seq_len n_embd -> (batch_size seq_len) n_embd')\n",
    "    yb = rearrange(yb, 'batch_size seq_len -> (batch_size seq_len)')\n",
    "    \n",
    "    loss = F.cross_entropy(\n",
    "        input=F.log_softmax(logits),\n",
    "        target=F.softmax(yb)\n",
    "    )\n",
    "    \n",
    "    return loss"
   ]
  },
  {
   "cell_type": "code",
   "execution_count": null,
   "id": "b0852dd2",
   "metadata": {},
   "outputs": [],
   "source": [
    "class ShowerEnv(Env):\n",
    "    def __init__(self):\n",
    "        super().__init__()\n",
    "        self.action_space = Discrete(3)\n",
    "        self.observation_space = Box(\n",
    "            low=np.array([0]),\n",
    "            high=np.array([100])\n",
    "        )\n",
    "    \n",
    "    def step(self, action):\n",
    "        self.state = self.state - action\n",
    "        self.shower_length -= 1\n",
    "        \n",
    "        reward = 1 if self.state >= 37 and self.state <= 39 else 0\n",
    "        done = True if self.shower_length == 0 else False\n",
    "        info = {}\n",
    "\n",
    "        return self.state, reward, done, info\n",
    "    \n",
    "    def reset(self):\n",
    "        self.state = 20\n",
    "        self.shower_length = 60\n",
    "        \n",
    "        return self.state"
   ]
  },
  {
   "cell_type": "code",
   "execution_count": null,
   "id": "e3e8bd9e",
   "metadata": {},
   "outputs": [],
   "source": [
    "from transformers import AutoModel"
   ]
  },
  {
   "cell_type": "code",
   "execution_count": 32,
   "id": "fc9a8684",
   "metadata": {},
   "outputs": [],
   "source": [
    "class MultiHeadAttention(nn.Module):\n",
    "    def __init__(self, attention, d_model, n_head):\n",
    "        super().__init__()\n",
    "        \n",
    "        self.d_head = d_model // n_head\n",
    "        self.attention = attention\n",
    "        \n",
    "        self.n_head, d_model = n_head, d_model\n",
    "        \n",
    "        self.to_q = nn.Linear(d_model, self.d_head * n_head)\n",
    "        self.to_k = nn.Linear(d_model, self.d_head * n_head)\n",
    "        self.to_v = nn.Linear(d_model, self.d_head * n_head)\n",
    "        \n",
    "        self.mh_linear = nn.Linear(self.d_head * n_head, d_model)\n",
    "    \n",
    "    def split_heads(self, x):\n",
    "        batch_size, seq_len, d_model = x.size()\n",
    "        \n",
    "        return x.view(batch_size, self.n_head, seq_len, self.d_head)\n",
    "    \n",
    "    def concat(self, x):\n",
    "        batch_size, n_head, seq_len, d_head = x.size()\n",
    "        \n",
    "        return x.view(batch_size, seq_len, self.d_model)\n",
    "    \n",
    "    def forward(self, pre_q, pre_k, pre_v):\n",
    "        q, k, v = self.to_q(pre_q), self.to_k(pre_k), self.to_v(pre_v)\n",
    "        \n",
    "        # split heads\n",
    "        q, k, v = self.split_heads(q), self.split_heads(k), self.split_heads(v)\n",
    "        \n",
    "        attention_output, attention_weights = self.attention(q, k, v)\n",
    "        \n",
    "        # concat\n",
    "        output = self.concat(attention_outpute)\n",
    "        output = self.mh_linear(output)\n",
    "        \n",
    "        return output, attention_weights"
   ]
  },
  {
   "cell_type": "code",
   "execution_count": 33,
   "id": "27f98180",
   "metadata": {},
   "outputs": [],
   "source": [
    "def nll(probs, targs):\n",
    "    return -probs[targ.shape(-1), targs].mean()"
   ]
  },
  {
   "cell_type": "code",
   "execution_count": null,
   "id": "289460b2",
   "metadata": {},
   "outputs": [],
   "source": [
    "def accuracy(probs, targs):\n",
    "    idx_preds = torch.argmax(probs, dim=-1)\n",
    "    return (idx_preds == targs).mean()"
   ]
  },
  {
   "cell_type": "code",
   "execution_count": null,
   "id": "8a98e340",
   "metadata": {},
   "outputs": [],
   "source": [
    "discounted_returns = discounted_return_at_each_time_step(rewards)"
   ]
  },
  {
   "cell_type": "code",
   "execution_count": null,
   "id": "e21c998e",
   "metadata": {},
   "outputs": [],
   "source": [
    "total_loss = 0\n",
    "\n",
    "for discount_return, prob in zip(discount_returns, )"
   ]
  },
  {
   "cell_type": "code",
   "execution_count": null,
   "id": "e0521092",
   "metadata": {},
   "outputs": [],
   "source": [
    "in!= out, stride!=1"
   ]
  },
  {
   "cell_type": "code",
   "execution_count": null,
   "id": "cc1dc8d2",
   "metadata": {},
   "outputs": [],
   "source": [
    "idx = torch.where(dsets.train[0][1], 1.)[0]"
   ]
  },
  {
   "cell_type": "code",
   "execution_count": null,
   "id": "a22cb044",
   "metadata": {},
   "outputs": [],
   "source": [
    "label = vocabs[idx]"
   ]
  },
  {
   "cell_type": "code",
   "execution_count": null,
   "id": "f8431149",
   "metadata": {},
   "outputs": [],
   "source": [
    "returns = calculate_the_discounted_return_at_each_timestep(rewards)"
   ]
  },
  {
   "cell_type": "code",
   "execution_count": null,
   "id": "e33f5b4a",
   "metadata": {},
   "outputs": [],
   "source": [
    "total_loss = 0"
   ]
  },
  {
   "cell_type": "code",
   "execution_count": null,
   "id": "2336a15b",
   "metadata": {},
   "outputs": [],
   "source": [
    "for discounted_return, prob in zip(returns, selected_action_probs):\n",
    "    total_loss += discounted_return*-prob.log()"
   ]
  },
  {
   "cell_type": "code",
   "execution_count": null,
   "id": "0842efe6",
   "metadata": {},
   "outputs": [],
   "source": [
    "loss = total_loss / len(rewards)"
   ]
  },
  {
   "cell_type": "markdown",
   "id": "8b376e08",
   "metadata": {},
   "source": [
    "### SW"
   ]
  },
  {
   "cell_type": "code",
   "execution_count": 34,
   "id": "bcc0b1e2",
   "metadata": {},
   "outputs": [],
   "source": [
    "from fastcore.meta import *"
   ]
  },
  {
   "cell_type": "code",
   "execution_count": 35,
   "id": "531f0555",
   "metadata": {},
   "outputs": [],
   "source": [
    "class DataLoader:\n",
    "    pass"
   ]
  },
  {
   "cell_type": "code",
   "execution_count": 36,
   "id": "a70ffd35",
   "metadata": {},
   "outputs": [],
   "source": [
    "@funcs_kwargs\n",
    "class DataLoader:\n",
    "    _methods = ['before_batch', 'after_batch']"
   ]
  },
  {
   "cell_type": "code",
   "execution_count": 37,
   "id": "4504e77a",
   "metadata": {},
   "outputs": [],
   "source": [
    "class Vehicle:\n",
    "    def __init__(self):\n",
    "        self._color = None\n",
    "    \n",
    "    @property\n",
    "    def color(self):\n",
    "        return self._color\n",
    "    \n",
    "    @color.setter\n",
    "    def color(self, value):\n",
    "        self._color = value"
   ]
  },
  {
   "cell_type": "code",
   "execution_count": null,
   "id": "05687944",
   "metadata": {},
   "outputs": [],
   "source": [
    "def performance(func):\n",
    "    time = 0\n",
    "    \n",
    "    time = end"
   ]
  },
  {
   "cell_type": "code",
   "execution_count": 38,
   "id": "08e451dc",
   "metadata": {},
   "outputs": [],
   "source": [
    "from functools import reduce"
   ]
  },
  {
   "cell_type": "code",
   "execution_count": null,
   "id": "5a7fc3fe",
   "metadata": {},
   "outputs": [],
   "source": [
    "def multiply(a, b): return a*b"
   ]
  },
  {
   "cell_type": "code",
   "execution_count": null,
   "id": "8ca0737d",
   "metadata": {},
   "outputs": [],
   "source": [
    "reduce(multiply, numbers)"
   ]
  },
  {
   "cell_type": "code",
   "execution_count": null,
   "id": "72919a63",
   "metadata": {},
   "outputs": [],
   "source": [
    "A = [1 2 3; 4 5 6]"
   ]
  }
 ],
 "metadata": {
  "kernelspec": {
   "display_name": "Python 3 (ipykernel)",
   "language": "python",
   "name": "python3"
  },
  "language_info": {
   "codemirror_mode": {
    "name": "ipython",
    "version": 3
   },
   "file_extension": ".py",
   "mimetype": "text/x-python",
   "name": "python",
   "nbconvert_exporter": "python",
   "pygments_lexer": "ipython3",
   "version": "3.8.15"
  }
 },
 "nbformat": 4,
 "nbformat_minor": 5
}
