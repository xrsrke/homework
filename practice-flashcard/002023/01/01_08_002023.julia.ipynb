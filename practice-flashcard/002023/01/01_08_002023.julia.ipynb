{
 "cells": [
  {
   "cell_type": "code",
   "execution_count": 3,
   "id": "6683f3be-eefa-4809-af99-fcc29cf38906",
   "metadata": {},
   "outputs": [
    {
     "data": {
      "text/plain": [
       "2×3 Matrix{Int64}:\n",
       " 1  2  3\n",
       " 4  5  6"
      ]
     },
     "execution_count": 3,
     "metadata": {},
     "output_type": "execute_result"
    }
   ],
   "source": [
    "A = [1 2 3; 4 5 6]"
   ]
  },
  {
   "cell_type": "code",
   "execution_count": 4,
   "id": "c1eeb880-d384-4030-a1ad-f769b2c20900",
   "metadata": {},
   "outputs": [
    {
     "data": {
      "text/plain": [
       "2×3 Matrix{Int64}:\n",
       " 1  2  3\n",
       " 4  5  6"
      ]
     },
     "execution_count": 4,
     "metadata": {},
     "output_type": "execute_result"
    }
   ],
   "source": [
    "A"
   ]
  },
  {
   "cell_type": "code",
   "execution_count": 5,
   "id": "3776031b-5d8f-482d-8cb1-f3a63c331d93",
   "metadata": {},
   "outputs": [
    {
     "data": {
      "text/plain": [
       "is_string (generic function with 1 method)"
      ]
     },
     "execution_count": 5,
     "metadata": {},
     "output_type": "execute_result"
    }
   ],
   "source": [
    "is_string(x::String) = true"
   ]
  },
  {
   "cell_type": "code",
   "execution_count": 6,
   "id": "b2eeddfc-5313-4bc8-ae32-ee39d34f18db",
   "metadata": {},
   "outputs": [
    {
     "data": {
      "text/plain": [
       "is_string (generic function with 2 methods)"
      ]
     },
     "execution_count": 6,
     "metadata": {},
     "output_type": "execute_result"
    }
   ],
   "source": [
    "is_string(x) = false"
   ]
  },
  {
   "cell_type": "markdown",
   "id": "74f0509d-e31e-4dbf-b2bf-ac27184dc604",
   "metadata": {},
   "source": [
    "a function that use to describes the probability an observe will observing a system at particular location"
   ]
  },
  {
   "cell_type": "code",
   "execution_count": null,
   "id": "1fd2d1c8-23eb-48c3-86db-7d6554d4a79f",
   "metadata": {},
   "outputs": [],
   "source": [
    "physical properties of a system at quantum scale"
   ]
  },
  {
   "cell_type": "code",
   "execution_count": null,
   "id": "4ab20663-ec73-4f4e-a6b7-d3946a3472ce",
   "metadata": {},
   "outputs": [],
   "source": []
  },
  {
   "cell_type": "code",
   "execution_count": null,
   "id": "ca0c583e-576f-41d0-bd25-517b318f999e",
   "metadata": {},
   "outputs": [],
   "source": []
  },
  {
   "cell_type": "code",
   "execution_count": null,
   "id": "f5f056eb-7cfb-45d7-98bf-036706e337da",
   "metadata": {},
   "outputs": [],
   "source": []
  }
 ],
 "metadata": {
  "kernelspec": {
   "display_name": "Julia 1.8.3",
   "language": "julia",
   "name": "julia-1.8"
  },
  "language_info": {
   "file_extension": ".jl",
   "mimetype": "application/julia",
   "name": "julia",
   "version": "1.8.3"
  }
 },
 "nbformat": 4,
 "nbformat_minor": 5
}
