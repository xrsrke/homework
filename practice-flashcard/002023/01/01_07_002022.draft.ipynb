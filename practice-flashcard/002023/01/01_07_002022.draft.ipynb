{
 "cells": [
  {
   "cell_type": "code",
   "execution_count": 6,
   "id": "5d1d6868-3981-4df8-8c0b-175b5d51bab2",
   "metadata": {},
   "outputs": [],
   "source": [
    "import torch\n",
    "import torch.nn.functional as F"
   ]
  },
  {
   "cell_type": "code",
   "execution_count": 4,
   "id": "0c46e9b5-c907-49a5-8c31-37bc840a64df",
   "metadata": {},
   "outputs": [],
   "source": [
    "reward_0 = torch.tensor(3)"
   ]
  },
  {
   "cell_type": "code",
   "execution_count": 5,
   "id": "d81b50fb-9175-431f-907d-29d22d5f8f3c",
   "metadata": {},
   "outputs": [],
   "source": [
    "reward_1 = torch.tensor(1)"
   ]
  },
  {
   "cell_type": "code",
   "execution_count": 7,
   "id": "e3fac45a-93eb-4d62-afdd-a2bd6c80d50a",
   "metadata": {},
   "outputs": [
    {
     "name": "stderr",
     "output_type": "stream",
     "text": [
      "/Users/education/miniforge3/envs/gym/lib/python3.8/site-packages/torch/nn/functional.py:1967: UserWarning: nn.functional.sigmoid is deprecated. Use torch.sigmoid instead.\n",
      "  warnings.warn(\"nn.functional.sigmoid is deprecated. Use torch.sigmoid instead.\")\n"
     ]
    },
    {
     "data": {
      "text/plain": [
       "tensor(0.8808)"
      ]
     },
     "execution_count": 7,
     "metadata": {},
     "output_type": "execute_result"
    }
   ],
   "source": [
    "F.sigmoid(reward_0 - reward_1)"
   ]
  },
  {
   "cell_type": "code",
   "execution_count": 8,
   "id": "bcb3fc81-d6e4-4089-a7d3-8a9c63ccf741",
   "metadata": {},
   "outputs": [
    {
     "data": {
      "text/plain": [
       "tensor(0.1192)"
      ]
     },
     "execution_count": 8,
     "metadata": {},
     "output_type": "execute_result"
    }
   ],
   "source": [
    "F.sigmoid(reward_1 - reward_0)"
   ]
  },
  {
   "cell_type": "code",
   "execution_count": null,
   "id": "c621015e-6061-40cf-9045-ae8b6f2da854",
   "metadata": {},
   "outputs": [],
   "source": []
  }
 ],
 "metadata": {
  "kernelspec": {
   "display_name": "Python 3 (ipykernel)",
   "language": "python",
   "name": "python3"
  },
  "language_info": {
   "codemirror_mode": {
    "name": "ipython",
    "version": 3
   },
   "file_extension": ".py",
   "mimetype": "text/x-python",
   "name": "python",
   "nbconvert_exporter": "python",
   "pygments_lexer": "ipython3",
   "version": "3.8.16"
  }
 },
 "nbformat": 4,
 "nbformat_minor": 5
}
