{
 "cells": [
  {
   "cell_type": "code",
   "execution_count": 1,
   "id": "00986e2a",
   "metadata": {},
   "outputs": [],
   "source": [
    "from fastcore.meta import *"
   ]
  },
  {
   "cell_type": "code",
   "execution_count": null,
   "id": "d0761e3c",
   "metadata": {},
   "outputs": [],
   "source": [
    "@use_kwargs_dict(y=1, z=None)\n",
    "def foo():\n",
    "    pass"
   ]
  },
  {
   "cell_type": "code",
   "execution_count": 2,
   "id": "388b181b",
   "metadata": {},
   "outputs": [],
   "source": [
    "from functools import partial"
   ]
  },
  {
   "cell_type": "code",
   "execution_count": null,
   "id": "4b7548df",
   "metadata": {},
   "outputs": [],
   "source": [
    "f = partial(my_func, k2='b', k3='c')"
   ]
  },
  {
   "cell_type": "code",
   "execution_count": null,
   "id": "e7be2f24",
   "metadata": {},
   "outputs": [],
   "source": [
    "def outer_func():\n",
    "    x = 'hello'\n",
    "    \n",
    "    def inner_func(name):\n",
    "        return name"
   ]
  },
  {
   "cell_type": "code",
   "execution_count": 3,
   "id": "f8353e2e",
   "metadata": {},
   "outputs": [],
   "source": [
    "from typing import Callable"
   ]
  },
  {
   "cell_type": "code",
   "execution_count": null,
   "id": "9a8bd9b6",
   "metadata": {},
   "outputs": [],
   "source": [
    "def foo(func: Callable[[int, int, int], str])"
   ]
  },
  {
   "cell_type": "code",
   "execution_count": null,
   "id": "7f72877d",
   "metadata": {},
   "outputs": [],
   "source": [
    "image_featuers = model.encode_image(image_batch)\n",
    "text_features = model.encode_txt(sequence)"
   ]
  },
  {
   "cell_type": "code",
   "execution_count": null,
   "id": "00916fc8",
   "metadata": {},
   "outputs": [],
   "source": [
    "model.hidden_states[-1]"
   ]
  },
  {
   "cell_type": "code",
   "execution_count": null,
   "id": "9e5643fc",
   "metadata": {},
   "outputs": [],
   "source": [
    "a quantum object exists multiple states, collapses to one state if observed"
   ]
  },
  {
   "cell_type": "code",
   "execution_count": null,
   "id": "a1f34596",
   "metadata": {},
   "outputs": [],
   "source": [
    "x[0, :, "
   ]
  },
  {
   "cell_type": "code",
   "execution_count": 4,
   "id": "cffb8d13",
   "metadata": {},
   "outputs": [],
   "source": [
    "from torch.distributions import Categorical"
   ]
  },
  {
   "cell_type": "code",
   "execution_count": null,
   "id": "dd282a62",
   "metadata": {},
   "outputs": [],
   "source": [
    "dist = Categorical(logits=raw_logits)"
   ]
  },
  {
   "cell_type": "code",
   "execution_count": null,
   "id": "9644464c",
   "metadata": {},
   "outputs": [],
   "source": [
    "action = dist.sample()"
   ]
  },
  {
   "cell_type": "code",
   "execution_count": null,
   "id": "776bc84a",
   "metadata": {},
   "outputs": [],
   "source": [
    "desired reward, past states, past actions, past rewards"
   ]
  },
  {
   "cell_type": "code",
   "execution_count": null,
   "id": "3ef6dc59",
   "metadata": {},
   "outputs": [],
   "source": [
    "value, policy, "
   ]
  },
  {
   "cell_type": "code",
   "execution_count": null,
   "id": "8390473f",
   "metadata": {},
   "outputs": [],
   "source": [
    "text_targets = text_embeddings @ text_embeddings.T"
   ]
  },
  {
   "cell_type": "code",
   "execution_count": null,
   "id": "5f0290fc",
   "metadata": {},
   "outputs": [],
   "source": [
    "image_targets = image_embedding @ image_embedding.T"
   ]
  },
  {
   "cell_type": "code",
   "execution_count": null,
   "id": "3e5a421a",
   "metadata": {},
   "outputs": [],
   "source": [
    "targets = F.softmax(\n",
    "    (text_targets + image_targets) / (2 * temperature), dim=-1\n",
    ")"
   ]
  },
  {
   "cell_type": "code",
   "execution_count": 5,
   "id": "3b8690dc",
   "metadata": {},
   "outputs": [],
   "source": [
    "import torch\n",
    "from torch import nn\n",
    "import torch.nn.functional as F"
   ]
  },
  {
   "cell_type": "code",
   "execution_count": 6,
   "id": "655c5496",
   "metadata": {},
   "outputs": [],
   "source": [
    "class ShortcutProjection(nn.Module):\n",
    "    def __init__(self, in_channels, out_channels, stride):\n",
    "        super().__init__()\n",
    "        self.layers = nn.Sequential(\n",
    "            nn.Conv2d(in_channels, out_channels),\n",
    "            nn.BatchNorm2d(out_channels)\n",
    "        )\n",
    "    \n",
    "    def forward(self, x):\n",
    "        return self.layers(x)"
   ]
  },
  {
   "cell_type": "code",
   "execution_count": null,
   "id": "e3e14118",
   "metadata": {},
   "outputs": [],
   "source": [
    "image encoder, text encoder, projection head"
   ]
  },
  {
   "cell_type": "code",
   "execution_count": null,
   "id": "6268a86d",
   "metadata": {},
   "outputs": [],
   "source": [
    "def validation_loop(model, x, y):\n",
    "    \n",
    "    with torch.no_grad():\n",
    "        pred = model(x)\n",
    "        \n",
    "    loss = loss_func(pred, y)\n",
    "    accuracy = accuracy(pred, y)"
   ]
  },
  {
   "cell_type": "code",
   "execution_count": 7,
   "id": "1809c6ce",
   "metadata": {},
   "outputs": [],
   "source": [
    "import math"
   ]
  },
  {
   "cell_type": "code",
   "execution_count": 8,
   "id": "a8250599",
   "metadata": {},
   "outputs": [],
   "source": [
    "class SelfAttention(nn.Module):\n",
    "    def __init__(self, d_head):\n",
    "        super().__init__()\n",
    "        self.d_head = d_head\n",
    "    \n",
    "    def forward(self, q, k, v, mask = None):\n",
    "        wei = torch.matmul(q, k.transpose(-2, -1))\n",
    "        wei = wei / math.sqrt(self.d_head)\n",
    "        \n",
    "        if mask is None:\n",
    "            wei = wei.masked_fill(mask == 0, -1e9)\n",
    "        \n",
    "        attention_weights = F.softmax(wei, dim=-1)\n",
    "        \n",
    "        output = torch.matmul(attention_weights, v)\n",
    "        \n",
    "        return output, attention_weights"
   ]
  },
  {
   "cell_type": "code",
   "execution_count": 9,
   "id": "c43e5c49",
   "metadata": {},
   "outputs": [
    {
     "ename": "TypeError",
     "evalue": "__init__() got an unexpected keyword argument 'out_channel'",
     "output_type": "error",
     "traceback": [
      "\u001b[0;31m---------------------------------------------------------------------------\u001b[0m",
      "\u001b[0;31mTypeError\u001b[0m                                 Traceback (most recent call last)",
      "Cell \u001b[0;32mIn[9], line 1\u001b[0m\n\u001b[0;32m----> 1\u001b[0m conv \u001b[38;5;241m=\u001b[39m \u001b[43mnn\u001b[49m\u001b[38;5;241;43m.\u001b[39;49m\u001b[43mConv2d\u001b[49m\u001b[43m(\u001b[49m\u001b[43min_channels\u001b[49m\u001b[38;5;241;43m=\u001b[39;49m\u001b[38;5;241;43m3\u001b[39;49m\u001b[43m,\u001b[49m\u001b[43m \u001b[49m\u001b[43mout_channel\u001b[49m\u001b[38;5;241;43m=\u001b[39;49m\u001b[38;5;241;43m5\u001b[39;49m\u001b[43m)\u001b[49m\n",
      "\u001b[0;31mTypeError\u001b[0m: __init__() got an unexpected keyword argument 'out_channel'"
     ]
    }
   ],
   "source": [
    "conv = nn.Conv2d(in_channels=3, out_channel=5)"
   ]
  },
  {
   "cell_type": "code",
   "execution_count": null,
   "id": "7322ec6a",
   "metadata": {},
   "outputs": [],
   "source": []
  }
 ],
 "metadata": {
  "kernelspec": {
   "display_name": "Python 3 (ipykernel)",
   "language": "python",
   "name": "python3"
  },
  "language_info": {
   "codemirror_mode": {
    "name": "ipython",
    "version": 3
   },
   "file_extension": ".py",
   "mimetype": "text/x-python",
   "name": "python",
   "nbconvert_exporter": "python",
   "pygments_lexer": "ipython3",
   "version": "3.8.15"
  }
 },
 "nbformat": 4,
 "nbformat_minor": 5
}
