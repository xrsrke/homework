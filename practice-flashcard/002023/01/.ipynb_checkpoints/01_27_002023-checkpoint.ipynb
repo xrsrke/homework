{
 "cells": [
  {
   "cell_type": "markdown",
   "id": "26c97872-ea9d-45ec-ad45-be07d5ff97cf",
   "metadata": {
    "tags": []
   },
   "source": [
    "### Science"
   ]
  },
  {
   "cell_type": "code",
   "execution_count": null,
   "id": "71f2138a-8abb-464d-b176-6496d3978415",
   "metadata": {},
   "outputs": [],
   "source": [
    "conservation of energy\n",
    "conservation of linear momentum\n",
    "conservation of angular momentum\n",
    "conservation of charge"
   ]
  },
  {
   "cell_type": "code",
   "execution_count": null,
   "id": "ec051914-4105-47ef-abd5-8a2c6aadbed3",
   "metadata": {},
   "outputs": [],
   "source": [
    "friciton\n",
    "normal\n",
    "gravity\n",
    "air\n",
    "applied"
   ]
  },
  {
   "cell_type": "code",
   "execution_count": null,
   "id": "9c5bff04-5a90-4a99-93fa-d5a485d1eeb7",
   "metadata": {},
   "outputs": [],
   "source": [
    "strong, weak, gravity, electromagnetic"
   ]
  },
  {
   "cell_type": "code",
   "execution_count": null,
   "id": "371b4835-1fee-48e6-bfbf-0e9a97a4fe66",
   "metadata": {},
   "outputs": [],
   "source": [
    "mass, energy, time, symmetry"
   ]
  },
  {
   "cell_type": "markdown",
   "id": "8f957ed6-fd5e-46f5-b549-e7f2fd396fae",
   "metadata": {},
   "source": [
    "### SW"
   ]
  },
  {
   "cell_type": "code",
   "execution_count": null,
   "id": "db69df28-eb22-4752-9ca3-a104a8e3dd07",
   "metadata": {},
   "outputs": [],
   "source": [
    "from torch import nn"
   ]
  },
  {
   "cell_type": "code",
   "execution_count": null,
   "id": "12bc4e7d-859c-48b8-8df9-4083abf9333e",
   "metadata": {},
   "outputs": [],
   "source": [
    "from functools import"
   ]
  },
  {
   "cell_type": "code",
   "execution_count": null,
   "id": "6691294a-a2ce-4d54-92d3-370a2d490be3",
   "metadata": {},
   "outputs": [],
   "source": [
    "def performance(func):\n",
    "    def inner():\n",
    "        start_t = 0\n",
    "        \n",
    "        func()\n",
    "        \n",
    "        end_time = 1\n",
    "        \n",
    "        # calculate time\n",
    "    \n",
    "    return func"
   ]
  },
  {
   "cell_type": "code",
   "execution_count": null,
   "id": "6b669424-806d-490d-913e-f13e71b2a47d",
   "metadata": {},
   "outputs": [],
   "source": [
    "#/bin/bash\n",
    "conda activate tinypytorch\n",
    "python3 --version"
   ]
  },
  {
   "cell_type": "markdown",
   "id": "8f78e474-5d0c-455a-8003-d1036ca2ccee",
   "metadata": {},
   "source": [
    "### AI"
   ]
  },
  {
   "cell_type": "code",
   "execution_count": 1,
   "id": "5f8bd1d6-d6d4-44bb-8c65-e7c3ae392d86",
   "metadata": {},
   "outputs": [],
   "source": [
    "import torch\n",
    "from torch import nn\n",
    "import torch.nn.functional as F"
   ]
  },
  {
   "cell_type": "code",
   "execution_count": 2,
   "id": "697214ba-1234-4bc1-b890-2da36c1c38ad",
   "metadata": {},
   "outputs": [],
   "source": [
    "def probability_scores(image_embedding, text_embedding):\n",
    "    image_embedding_norm = image_embedding.norm()\n",
    "    text_embedding_norm = text_embedding.norm()\n",
    "    \n",
    "    image_embedding = image_embedding / image_embedding_norm\n",
    "    text_embedding = text_embedding / text_embedding_norm\n",
    "    \n",
    "    scores = torch.matmul(image_embedding, text_embedding.T)\n",
    "    \n",
    "    probs = F.softmax(scores, dim=-1)\n",
    "    \n",
    "    return probs"
   ]
  },
  {
   "cell_type": "code",
   "execution_count": null,
   "id": "9e3ce034-8771-4d4d-bc4f-308061bce7d3",
   "metadata": {},
   "outputs": [],
   "source": [
    "x.clamp(min=-3, max=4)"
   ]
  },
  {
   "cell_type": "code",
   "execution_count": 3,
   "id": "edeebb19-6c19-4ba4-b873-888f9068fd80",
   "metadata": {},
   "outputs": [],
   "source": [
    "import numpy as np\n",
    "from gym import Env\n",
    "from gym.spaces import Discrete, Box"
   ]
  },
  {
   "cell_type": "code",
   "execution_count": 4,
   "id": "ba96754d-b328-43db-a6e6-77396c696f78",
   "metadata": {},
   "outputs": [],
   "source": [
    "import numpy as np"
   ]
  },
  {
   "cell_type": "code",
   "execution_count": 5,
   "id": "3a223225-46a6-49a5-8dad-bd8d30908967",
   "metadata": {},
   "outputs": [],
   "source": [
    "class ShowerEnv(Env):\n",
    "    def __init__(self):\n",
    "        super().__init__()\n",
    "        \n",
    "        self.action_space = Discrete(3)\n",
    "        self.observation_space = Box(\n",
    "            low=np.array(0),\n",
    "            high=np.array(100)\n",
    "        )\n",
    "    \n",
    "    def step(self, action):\n",
    "        \n",
    "        self.state -= action\n",
    "        self.shower_length -= 1\n",
    "        info = {}\n",
    "        \n",
    "        reward = 1 if self.state >= 37 and self.state <= 39 else 0\n",
    "        done = True if self.shower_length == 0 else False\n",
    "        \n",
    "        return self.state, reward, done, info\n",
    "    \n",
    "    def reset(self, action):\n",
    "        self.state = 20\n",
    "        self.shower_length = 60\n",
    "        \n",
    "        return self.state"
   ]
  },
  {
   "cell_type": "code",
   "execution_count": null,
   "id": "bb372911-e9e7-4e98-8652-53358594f7d7",
   "metadata": {},
   "outputs": [],
   "source": [
    "def mean_absolute_error(preds, targs):\n",
    "    return (preds-targs).abs().mean()"
   ]
  },
  {
   "cell_type": "code",
   "execution_count": null,
   "id": "a16a076d-e4a2-4b26-ab15-58ca0fae71ce",
   "metadata": {},
   "outputs": [],
   "source": [
    "def compute_ratio(current, prev):\n",
    "    return (current-prev).exp()"
   ]
  },
  {
   "cell_type": "code",
   "execution_count": null,
   "id": "d8e6a0b2-568f-413a-ae24-2261acd34bbc",
   "metadata": {},
   "outputs": [],
   "source": [
    "tokens = tokenizer.convert_ids_to_tokens(input_ids)"
   ]
  },
  {
   "cell_type": "code",
   "execution_count": null,
   "id": "5fb2a1d7-58f6-4b0b-88dc-d15a41327f6d",
   "metadata": {},
   "outputs": [],
   "source": [
    "text = tokenizer.convert_tokens_to_str(tokens)"
   ]
  },
  {
   "cell_type": "code",
   "execution_count": null,
   "id": "fb4db3ae-c13e-4df5-8ad8-229c0685a05e",
   "metadata": {},
   "outputs": [],
   "source": [
    "output = tokenizer.encode"
   ]
  },
  {
   "cell_type": "code",
   "execution_count": 6,
   "id": "67a7d2c1-0c69-4668-89c4-cab1c94737d2",
   "metadata": {},
   "outputs": [],
   "source": [
    "from einops import repeat"
   ]
  },
  {
   "cell_type": "code",
   "execution_count": null,
   "id": "7db5eed9-7a28-4630-b63a-08b513681ec7",
   "metadata": {},
   "outputs": [],
   "source": [
    "output = repeat(x, 'h w -> h w n', n=2)"
   ]
  },
  {
   "cell_type": "code",
   "execution_count": null,
   "id": "bb79f879-b84f-4000-9f8d-55191fca1f8e",
   "metadata": {},
   "outputs": [],
   "source": [
    "three neural networks, replay buffer and MCTS"
   ]
  },
  {
   "cell_type": "code",
   "execution_count": 7,
   "id": "95aac629-57a3-45ec-aff1-a8211850a764",
   "metadata": {},
   "outputs": [],
   "source": [
    "from einops import rearrange"
   ]
  },
  {
   "cell_type": "code",
   "execution_count": null,
   "id": "a6a0eda3-559f-422f-93f7-6bb398f5cc8a",
   "metadata": {},
   "outputs": [],
   "source": [
    "rearrange(images, 'b c h w -> (b c h w)')"
   ]
  },
  {
   "cell_type": "code",
   "execution_count": null,
   "id": "e9c3fb26-7951-443b-ab78-6c2fd5268e59",
   "metadata": {},
   "outputs": [],
   "source": [
    "rearrange(images, 'b c (h w) -> b c h w')"
   ]
  },
  {
   "cell_type": "code",
   "execution_count": 8,
   "id": "2bc563e8-3597-4d6c-92d1-c6575c7c07cf",
   "metadata": {},
   "outputs": [],
   "source": [
    "class MultiHeadAttention(nn.Module):\n",
    "    def __init__(self, attention, d_model, n_head):\n",
    "        super().__init__()\n",
    "        self.attention = attention\n",
    "        \n",
    "        self.d_head = d_model // n_head\n",
    "        self.d_model, self.n_head = d_model, n_head\n",
    "        \n",
    "        self.to_q = nn.Linear(d_model, d_model)\n",
    "        self.to_k = nn.Linear(d_model, d_model)\n",
    "        self.to_v = nn.Linear(d_model, d_model)\n",
    "        \n",
    "        self.mha_linear = nn.Linear(d_model, d_model)\n",
    "    \n",
    "    def split_heads(self, x):\n",
    "        batch_size, seq_len, d_model = x.size()\n",
    "        return x.view(batch_size, self.n_head, seq_len, self.d_head)\n",
    "    \n",
    "    def concat(self, x):\n",
    "        \n",
    "        batch_size, n_head, seq_len, d_head = x.size()\n",
    "        return x.view(batch_size, seq_len, n_head*d_head)\n",
    "    \n",
    "    def forward(self, pre_q, pre_k, pre_v):\n",
    "        q, k, v = self.to_q(pre_q), self.to_k(pre_k), self.to_v(pre_v)\n",
    "        \n",
    "        q, k, v = self.split_heads(q), self.split_heads(k), self.split_heads(v)\n",
    "        \n",
    "        attn_output, attn_weight = self.attention(q, k, v)\n",
    "        \n",
    "        output = self.mha_linear(attn_output)\n",
    "        return output, attn_weight"
   ]
  },
  {
   "cell_type": "code",
   "execution_count": null,
   "id": "9f71b783-69af-4669-a3e8-c8e88620c163",
   "metadata": {},
   "outputs": [],
   "source": [
    "nn.AvgPool2d()"
   ]
  },
  {
   "cell_type": "code",
   "execution_count": null,
   "id": "eb39f534-cc2e-456a-9d9c-f7d134dd7385",
   "metadata": {},
   "outputs": [],
   "source": [
    "target_q = get_reward(states, action) + gamma*v_network(states+1).mean()"
   ]
  },
  {
   "cell_type": "code",
   "execution_count": null,
   "id": "5b2e0c72-4cea-467c-ab10-cbcb40755297",
   "metadata": {},
   "outputs": [],
   "source": [
    "q_values = q_network(states, actions)"
   ]
  },
  {
   "cell_type": "code",
   "execution_count": 10,
   "id": "9ae61db5-669f-431f-8a8d-e8fffdf004d7",
   "metadata": {},
   "outputs": [],
   "source": [
    "def frobenius_norm(x):\n",
    "    return x.pow(2).sum().sqrt()"
   ]
  },
  {
   "cell_type": "code",
   "execution_count": null,
   "id": "bea0ef11-8e33-42b1-9d63-646378fce2cb",
   "metadata": {},
   "outputs": [],
   "source": [
    "returns = get_returns_time_step(rewards)"
   ]
  },
  {
   "cell_type": "code",
   "execution_count": 11,
   "id": "b8b18572-9384-45b6-945b-cf2968286867",
   "metadata": {},
   "outputs": [],
   "source": [
    "total_loss = 0"
   ]
  },
  {
   "cell_type": "code",
   "execution_count": null,
   "id": "cc35e86e-de46-4522-b359-71525e6782c2",
   "metadata": {},
   "outputs": [],
   "source": [
    "for return_, prob in zip(returns, selected_action_prob):\n",
    "    total_loss += return_*-prob.log()"
   ]
  },
  {
   "cell_type": "code",
   "execution_count": null,
   "id": "81eb68fd-b8b8-4f2e-b3f0-cf7f1f845fc5",
   "metadata": {},
   "outputs": [],
   "source": [
    "loss = total_loss / len(return_)"
   ]
  },
  {
   "cell_type": "code",
   "execution_count": null,
   "id": "52ab4b33-7a4d-42e4-b861-96c910b157b1",
   "metadata": {},
   "outputs": [],
   "source": [
    "def nll(preds, targs):\n",
    "    return -preds[targs.shape[-1], targs].mean()"
   ]
  },
  {
   "cell_type": "code",
   "execution_count": null,
   "id": "32bae6d6-7fd6-4781-9a83-700d24db174d",
   "metadata": {},
   "outputs": [],
   "source": [
    "def relu(x):\n",
    "    return x.clamp_min(0)"
   ]
  }
 ],
 "metadata": {
  "kernelspec": {
   "display_name": "Python 3 (ipykernel)",
   "language": "python",
   "name": "python3"
  },
  "language_info": {
   "codemirror_mode": {
    "name": "ipython",
    "version": 3
   },
   "file_extension": ".py",
   "mimetype": "text/x-python",
   "name": "python",
   "nbconvert_exporter": "python",
   "pygments_lexer": "ipython3",
   "version": "3.8.15"
  }
 },
 "nbformat": 4,
 "nbformat_minor": 5
}
