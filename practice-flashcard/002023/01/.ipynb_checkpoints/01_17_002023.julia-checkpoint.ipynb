{
 "cells": [
  {
   "cell_type": "code",
   "execution_count": null,
   "id": "43bcf7fe-c4e7-46be-9301-04d862e350ce",
   "metadata": {},
   "outputs": [],
   "source": [
    "struct Rocket\n",
    "    on"
   ]
  }
 ],
 "metadata": {
  "kernelspec": {
   "display_name": "Julia 1.8.3",
   "language": "julia",
   "name": "julia-1.8"
  },
  "language_info": {
   "file_extension": ".jl",
   "mimetype": "application/julia",
   "name": "julia",
   "version": "1.8.3"
  }
 },
 "nbformat": 4,
 "nbformat_minor": 5
}
