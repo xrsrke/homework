{
 "cells": [
  {
   "cell_type": "code",
   "execution_count": 1,
   "id": "8ed0e799",
   "metadata": {},
   "outputs": [],
   "source": [
    "from fastcore.meta import *"
   ]
  },
  {
   "cell_type": "code",
   "execution_count": null,
   "id": "5dbee0f5",
   "metadata": {},
   "outputs": [],
   "source": [
    "@use_kwargs_dict(y=1, z=None)\n",
    "def foo():\n",
    "    pass"
   ]
  },
  {
   "cell_type": "code",
   "execution_count": 2,
   "id": "d5311e6f",
   "metadata": {},
   "outputs": [],
   "source": [
    "from functools import partial"
   ]
  },
  {
   "cell_type": "code",
   "execution_count": null,
   "id": "45cc228c",
   "metadata": {},
   "outputs": [],
   "source": [
    "f = partial(my_func, k2='b', k3='c')"
   ]
  },
  {
   "cell_type": "code",
   "execution_count": null,
   "id": "0e95989a",
   "metadata": {},
   "outputs": [],
   "source": [
    "def outer_func():\n",
    "    x = 'hello'\n",
    "    \n",
    "    def inner_func(name):\n",
    "        return name"
   ]
  },
  {
   "cell_type": "code",
   "execution_count": 3,
   "id": "2b0c2740",
   "metadata": {},
   "outputs": [],
   "source": [
    "from typing import Callable"
   ]
  },
  {
   "cell_type": "code",
   "execution_count": null,
   "id": "56fe7a45",
   "metadata": {},
   "outputs": [],
   "source": [
    "def foo(func: Callable[[int, int, int], str])"
   ]
  },
  {
   "cell_type": "code",
   "execution_count": null,
   "id": "f781fc09",
   "metadata": {},
   "outputs": [],
   "source": [
    "image_featuers = model.encode_image(image_batch)\n",
    "text_features = model.encode_txt(sequence)"
   ]
  },
  {
   "cell_type": "code",
   "execution_count": null,
   "id": "deb9f087",
   "metadata": {},
   "outputs": [],
   "source": [
    "model.hidden_states[-1]"
   ]
  },
  {
   "cell_type": "code",
   "execution_count": null,
   "id": "f12cbdaa",
   "metadata": {},
   "outputs": [],
   "source": [
    "a quantum object exists multiple states, collapses to one state if observed"
   ]
  },
  {
   "cell_type": "code",
   "execution_count": null,
   "id": "eee07279",
   "metadata": {},
   "outputs": [],
   "source": [
    "x[0, :, "
   ]
  },
  {
   "cell_type": "code",
   "execution_count": 4,
   "id": "c58ed32d",
   "metadata": {},
   "outputs": [],
   "source": [
    "from torch.distributions import Categorical"
   ]
  },
  {
   "cell_type": "code",
   "execution_count": null,
   "id": "3666d0cd",
   "metadata": {},
   "outputs": [],
   "source": [
    "dist = Categorical(logits=raw_logits)"
   ]
  },
  {
   "cell_type": "code",
   "execution_count": null,
   "id": "e761a423",
   "metadata": {},
   "outputs": [],
   "source": [
    "action = dist.sample()"
   ]
  },
  {
   "cell_type": "code",
   "execution_count": null,
   "id": "46c1f8f6",
   "metadata": {},
   "outputs": [],
   "source": [
    "desired reward, past states, past actions, past rewards"
   ]
  },
  {
   "cell_type": "code",
   "execution_count": null,
   "id": "bf02b0cc",
   "metadata": {},
   "outputs": [],
   "source": [
    "value, policy, "
   ]
  },
  {
   "cell_type": "code",
   "execution_count": null,
   "id": "d1eeda9f",
   "metadata": {},
   "outputs": [],
   "source": [
    "text_targets = text_embeddings @ text_embeddings.T"
   ]
  },
  {
   "cell_type": "code",
   "execution_count": null,
   "id": "8956c022",
   "metadata": {},
   "outputs": [],
   "source": [
    "image_targets = image_embedding @ image_embedding.T"
   ]
  },
  {
   "cell_type": "code",
   "execution_count": null,
   "id": "eca79416",
   "metadata": {},
   "outputs": [],
   "source": [
    "targets = F.softmax(\n",
    "    (text_targets + image_targets) / (2 * temperature), dim=-1\n",
    ")"
   ]
  },
  {
   "cell_type": "code",
   "execution_count": 5,
   "id": "b2dfd739",
   "metadata": {},
   "outputs": [],
   "source": [
    "import torch\n",
    "from torch import nn\n",
    "import torch.nn.functional as F"
   ]
  },
  {
   "cell_type": "code",
   "execution_count": 6,
   "id": "e85f63cb",
   "metadata": {},
   "outputs": [],
   "source": [
    "class ShortcutProjection(nn.Module):\n",
    "    def __init__(self, in_channels, out_channels, stride):\n",
    "        super().__init__()\n",
    "        self.layers = nn.Sequential(\n",
    "            nn.Conv2d(in_channels, out_channels),\n",
    "            nn.BatchNorm2d(out_channels)\n",
    "        )\n",
    "    \n",
    "    def forward(self, x):\n",
    "        return self.layers(x)"
   ]
  },
  {
   "cell_type": "code",
   "execution_count": null,
   "id": "df80ddd5",
   "metadata": {},
   "outputs": [],
   "source": [
    "image encoder, text encoder, projection head"
   ]
  },
  {
   "cell_type": "code",
   "execution_count": null,
   "id": "c4e6c710",
   "metadata": {},
   "outputs": [],
   "source": [
    "def validation_loop(model, x, y):\n",
    "    \n",
    "    with torch.no_grad():\n",
    "        pred = model(x)\n",
    "        \n",
    "    loss = loss_func(pred, y)\n",
    "    accuracy = accuracy(pred, y)"
   ]
  },
  {
   "cell_type": "code",
   "execution_count": 7,
   "id": "bf3bbd66",
   "metadata": {},
   "outputs": [],
   "source": [
    "import math"
   ]
  },
  {
   "cell_type": "code",
   "execution_count": 8,
   "id": "82e44fee",
   "metadata": {},
   "outputs": [],
   "source": [
    "class SelfAttention(nn.Module):\n",
    "    def __init__(self, d_head):\n",
    "        super().__init__()\n",
    "        self.d_head = d_head\n",
    "    \n",
    "    def forward(self, q, k, v, mask = None):\n",
    "        wei = torch.matmul(q, k.transpose(-2, -1))\n",
    "        wei = wei / math.sqrt(self.d_head)\n",
    "        \n",
    "        if mask is None:\n",
    "            wei = wei.masked_fill(mask == 0, -1e9)\n",
    "        \n",
    "        attention_weights = F.softmax(wei, dim=-1)\n",
    "        \n",
    "        output = torch.matmul(attention_weights, v)\n",
    "        \n",
    "        return output, attention_weights"
   ]
  },
  {
   "cell_type": "code",
   "execution_count": null,
   "id": "137d3d81",
   "metadata": {},
   "outputs": [],
   "source": []
  }
 ],
 "metadata": {
  "kernelspec": {
   "display_name": "Python 3 (ipykernel)",
   "language": "python",
   "name": "python3"
  },
  "language_info": {
   "codemirror_mode": {
    "name": "ipython",
    "version": 3
   },
   "file_extension": ".py",
   "mimetype": "text/x-python",
   "name": "python",
   "nbconvert_exporter": "python",
   "pygments_lexer": "ipython3",
   "version": "3.8.15"
  }
 },
 "nbformat": 4,
 "nbformat_minor": 5
}
