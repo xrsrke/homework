{
 "cells": [
  {
   "cell_type": "markdown",
   "id": "59e9c6ea-4d67-45c1-82b1-b1e0829bc0a7",
   "metadata": {},
   "source": [
    "### Python"
   ]
  },
  {
   "cell_type": "code",
   "execution_count": 1,
   "id": "f09248f5-ccbe-479e-8fab-7b1634d8e0ea",
   "metadata": {},
   "outputs": [],
   "source": [
    "from typing import Optional"
   ]
  },
  {
   "cell_type": "code",
   "execution_count": null,
   "id": "b6616e39-d346-4eb3-a3d1-3084cc4b59f5",
   "metadata": {},
   "outputs": [],
   "source": [
    "def dispense_bun() -> Optional[Bun]:\n",
    "    pass"
   ]
  },
  {
   "cell_type": "code",
   "execution_count": 3,
   "id": "ff03d3a0-114e-4f85-aa47-bd35027ecadb",
   "metadata": {},
   "outputs": [],
   "source": [
    "from abc import ABC, abstractclassmethod"
   ]
  },
  {
   "cell_type": "code",
   "execution_count": 6,
   "id": "d5dcc372-3bda-466d-908b-07d465cc0618",
   "metadata": {},
   "outputs": [],
   "source": [
    "class Handler(ABC):\n",
    "    def __init__(self):\n",
    "        self.next_handler = None\n",
    "    \n",
    "    def set_next(self, handler):\n",
    "        if self.next_handler is None:\n",
    "            self.next_handler = handler\n",
    "        else:\n",
    "            self.next_handler.set_next(handler)\n",
    "\n",
    "    @abstractclassmethod\n",
    "    def handle(self):\n",
    "        if self.next_handler is None: return\n",
    "        return self.next_handler.handle()"
   ]
  },
  {
   "cell_type": "code",
   "execution_count": null,
   "id": "267e6703-7195-48c9-92d0-726d66e72f64",
   "metadata": {},
   "outputs": [],
   "source": [
    "class MoneyHandler(Handler):\n",
    "    def "
   ]
  },
  {
   "cell_type": "code",
   "execution_count": 7,
   "id": "45067ac6-905b-4fc7-ad2c-59babc8cdc37",
   "metadata": {},
   "outputs": [],
   "source": [
    "class WashingMachine:\n",
    "    def __init__(self):\n",
    "        self.current_status = \"idle\"\n",
    "    \n",
    "    def execute_event(self, event):\n",
    "        if self.current_status == \"idle\":\n",
    "            if status == \"x\":\n",
    "                pass"
   ]
  },
  {
   "cell_type": "code",
   "execution_count": 8,
   "id": "51681cef-1655-431a-9b43-87f11d876961",
   "metadata": {},
   "outputs": [],
   "source": [
    "from functools import reduce"
   ]
  },
  {
   "cell_type": "code",
   "execution_count": 9,
   "id": "97b18f35-2005-41b3-9732-18af15fbb84d",
   "metadata": {},
   "outputs": [],
   "source": [
    "def multiply(a, b):\n",
    "    return a * b"
   ]
  },
  {
   "cell_type": "code",
   "execution_count": 10,
   "id": "d68246bd-f142-4276-937f-3f188aa79c8c",
   "metadata": {},
   "outputs": [
    {
     "data": {
      "text/plain": [
       "24"
      ]
     },
     "execution_count": 10,
     "metadata": {},
     "output_type": "execute_result"
    }
   ],
   "source": [
    "reduce(multiply, [1, 2, 3, 4])"
   ]
  },
  {
   "cell_type": "code",
   "execution_count": 11,
   "id": "a2cf5a19-46d8-49c4-ad49-8aaa1e0f9796",
   "metadata": {},
   "outputs": [],
   "source": [
    "from fastcore.all import *"
   ]
  },
  {
   "cell_type": "code",
   "execution_count": null,
   "id": "cb936f2c-c34b-4ed3-b683-5850dfa7ace4",
   "metadata": {},
   "outputs": [],
   "source": [
    "@patch\n",
    "def num_items(self: Learner):\n",
    "    return \"Works\""
   ]
  },
  {
   "cell_type": "code",
   "execution_count": null,
   "id": "87f5111a-6b0c-4301-ab49-d77d0082a03a",
   "metadata": {},
   "outputs": [],
   "source": [
    "interpreter look.... saw it defined local => local\n",
    "runtime -> not local -> error"
   ]
  },
  {
   "cell_type": "code",
   "execution_count": 12,
   "id": "d307eb13-7bf0-4b82-8ecc-ae5f7f963ea2",
   "metadata": {},
   "outputs": [],
   "source": [
    "import numpy as np"
   ]
  },
  {
   "cell_type": "code",
   "execution_count": null,
   "id": "e8e9e985-3c77-4d09-a0f1-b0d52f43982b",
   "metadata": {},
   "outputs": [],
   "source": [
    "get_the_first_letter = np.vectorize(f)"
   ]
  },
  {
   "cell_type": "code",
   "execution_count": null,
   "id": "ba60f931-8af1-44ea-92e5-8dd4dba946e6",
   "metadata": {},
   "outputs": [],
   "source": [
    "from typing import NewType"
   ]
  },
  {
   "cell_type": "code",
   "execution_count": null,
   "id": "a6b38e62-fe3e-4c7a-b203-0f64a716f598",
   "metadata": {},
   "outputs": [],
   "source": [
    "class PersonBuilder:\n",
    "    def __init__(self):\n",
    "        pass\n",
    "    \n",
    "    def lives"
   ]
  },
  {
   "cell_type": "markdown",
   "id": "069ef919-5d6c-4630-a3a6-f2746ca741ab",
   "metadata": {},
   "source": [
    "### NLP"
   ]
  },
  {
   "cell_type": "code",
   "execution_count": 15,
   "id": "b4eec1b7-13a9-47d6-b773-7d67055f8902",
   "metadata": {},
   "outputs": [],
   "source": [
    "from torch import nn\n",
    "import torch.nn.functional as F"
   ]
  },
  {
   "cell_type": "code",
   "execution_count": 13,
   "id": "b7fbdab8-5afa-4a18-98e5-11712da518ac",
   "metadata": {},
   "outputs": [],
   "source": [
    "def tokenize(batch):\n",
    "    return tokenizer(batch[\"text\"], padding=True)"
   ]
  },
  {
   "cell_type": "code",
   "execution_count": null,
   "id": "38e21e92-5dcd-4a4e-afc4-db186bf36677",
   "metadata": {},
   "outputs": [],
   "source": [
    "output = model.generate(input_ids)"
   ]
  },
  {
   "cell_type": "code",
   "execution_count": null,
   "id": "dbf5c46a-fc4a-4545-acd8-e780822febe6",
   "metadata": {},
   "outputs": [],
   "source": [
    "next_token = output.logits[0, -1, :]"
   ]
  },
  {
   "cell_type": "code",
   "execution_count": null,
   "id": "b240b73c-0848-4a12-a6eb-0d0953103a1e",
   "metadata": {},
   "outputs": [],
   "source": [
    "next_token_prob = F.softmax(next_token, dim=-1)"
   ]
  },
  {
   "cell_type": "code",
   "execution_count": null,
   "id": "462ab54f-fd63-4193-b16b-2e95ab19465c",
   "metadata": {},
   "outputs": [],
   "source": [
    "sorted_ids = torch.argmax(next_token_prob)"
   ]
  },
  {
   "cell_type": "code",
   "execution_count": 16,
   "id": "4afd1212-b5a8-425d-ad37-08fefdb27441",
   "metadata": {},
   "outputs": [],
   "source": [
    "from fastai.vision.all import *"
   ]
  },
  {
   "cell_type": "code",
   "execution_count": null,
   "id": "c47052ba-989f-49fd-be21-3ea8940f4c4e",
   "metadata": {},
   "outputs": [],
   "source": [
    "dblock = DataBlock(blocks=[ImageBlock, MultiCategoryBlock],\n",
    "                   get_x = get_x,)"
   ]
  },
  {
   "cell_type": "code",
   "execution_count": null,
   "id": "1fc7fa71-3651-4fad-9ceb-963558af337d",
   "metadata": {},
   "outputs": [],
   "source": [
    "def fill_bernoulli(x, p):\n",
    "    return x.fill_bernoulli_(p)"
   ]
  },
  {
   "cell_type": "code",
   "execution_count": 17,
   "id": "62281c2c-ab42-46b1-aa94-da6c6ff2f26c",
   "metadata": {},
   "outputs": [],
   "source": [
    "import pytorch_lightning as pl"
   ]
  },
  {
   "cell_type": "code",
   "execution_count": 18,
   "id": "9eac4007-540c-48cc-ad2b-0e9bc919a0c2",
   "metadata": {},
   "outputs": [],
   "source": [
    "class LitResNet(pl.LightningModule):\n",
    "    def __init__(self):\n",
    "        super().__init__()\n",
    "        self.model = _model1\n",
    "        self.loss = nn.CrossEntropyLoss()\n",
    "    \n",
    "    def training_step(self, batch, batch_idx):\n",
    "        x, y = batch\n",
    "        \n",
    "        pred = self.model(x)\n",
    "        \n",
    "        loss = self.loss(pred, y)\n",
    "        return loss"
   ]
  },
  {
   "cell_type": "code",
   "execution_count": null,
   "id": "9507c466-a2d1-4a95-8077-fef0bb92ad00",
   "metadata": {
    "tags": []
   },
   "outputs": [],
   "source": [
    "model.named_children()"
   ]
  },
  {
   "cell_type": "code",
   "execution_count": 19,
   "id": "45c2735c-160d-4f5d-9449-f3368fd69998",
   "metadata": {},
   "outputs": [],
   "source": [
    "from einops import repeat"
   ]
  },
  {
   "cell_type": "code",
   "execution_count": null,
   "id": "13165017-0a3a-42f2-b0c3-3ef2bcdb0a80",
   "metadata": {},
   "outputs": [],
   "source": [
    "output = repeat(x, 'h w -> h w n', n=2)"
   ]
  },
  {
   "cell_type": "code",
   "execution_count": null,
   "id": "9b2969fb-4470-48b2-9dfa-be351a522f1e",
   "metadata": {},
   "outputs": [],
   "source": [
    "torch.lerp(a, b, m)"
   ]
  },
  {
   "cell_type": "code",
   "execution_count": 20,
   "id": "50c8c102-f905-4204-9653-a9b8e7531e8b",
   "metadata": {},
   "outputs": [],
   "source": [
    "import gymnasium as gym"
   ]
  },
  {
   "cell_type": "code",
   "execution_count": null,
   "id": "d54544e5-33e2-4cc1-8572-592856af06d4",
   "metadata": {},
   "outputs": [],
   "source": [
    "envs = gym.vector.SyncVectorEnv([\n",
    "    lambda: gym.make(\"CartPole-v1\"),\n",
    "    lambda: gym.make(\"CartPole-v1\"),\n",
    "    lambda: gym.make(\"CartPole-v1\"),\n",
    "])"
   ]
  },
  {
   "cell_type": "code",
   "execution_count": 21,
   "id": "96500ba7-a227-4528-ab27-667227fe9d58",
   "metadata": {},
   "outputs": [],
   "source": [
    "def compute_clipped_surrogate_objective(ratio, advantage_estimation, epsilon):\n",
    "    unclipped_policy = ratio * advantage_estimation\n",
    "    clipped_policy = torch.clamp(ratio, min=1-epsilon, max=1+epsilon) * advantage_estimation\n",
    "    \n",
    "    return torch.min(unclipped_policy, clipped_policy).mean()"
   ]
  },
  {
   "cell_type": "code",
   "execution_count": null,
   "id": "ddeb55c1-0075-4924-bebc-d6c63aa5b347",
   "metadata": {},
   "outputs": [],
   "source": [
    "algorithm, resample, metrics"
   ]
  },
  {
   "cell_type": "code",
   "execution_count": 22,
   "id": "d7829bfe-ae3b-47e9-b195-db7b0ff5ff9e",
   "metadata": {},
   "outputs": [],
   "source": [
    "from einops import reduce"
   ]
  },
  {
   "cell_type": "code",
   "execution_count": null,
   "id": "a8402f53-58ed-46f6-a2c7-0ce4bbd15ff5",
   "metadata": {},
   "outputs": [],
   "source": [
    "reduce(images, 'b c h w -> b h w', reduction=\"mean\")"
   ]
  },
  {
   "cell_type": "code",
   "execution_count": 23,
   "id": "426a8ff0-b8d2-42d3-b007-ee11835e04fe",
   "metadata": {},
   "outputs": [
    {
     "ename": "NameError",
     "evalue": "name 'get_x' is not defined",
     "output_type": "error",
     "traceback": [
      "\u001b[0;31m---------------------------------------------------------------------------\u001b[0m",
      "\u001b[0;31mNameError\u001b[0m                                 Traceback (most recent call last)",
      "Cell \u001b[0;32mIn[23], line 2\u001b[0m\n\u001b[1;32m      1\u001b[0m dblock \u001b[38;5;241m=\u001b[39m DataBlock(blocks\u001b[38;5;241m=\u001b[39m[ImageBlock, MultiCategoryBlock],\n\u001b[0;32m----> 2\u001b[0m                    get_x \u001b[38;5;241m=\u001b[39m \u001b[43mget_x\u001b[49m,\n\u001b[1;32m      3\u001b[0m                    get_y \u001b[38;5;241m=\u001b[39m get_y)\n",
      "\u001b[0;31mNameError\u001b[0m: name 'get_x' is not defined"
     ]
    }
   ],
   "source": [
    "dblock = DataBlock(blocks=[ImageBlock, MultiCategoryBlock],\n",
    "                   get_x = get_x,\n",
    "                   get_y = get_y)"
   ]
  },
  {
   "cell_type": "code",
   "execution_count": null,
   "id": "27d6b3bd-db86-4c91-a07f-3d751db74f96",
   "metadata": {},
   "outputs": [],
   "source": [
    "F.pad(x, pad=(1, 1, 1, 1))"
   ]
  },
  {
   "cell_type": "code",
   "execution_count": 24,
   "id": "77303752-4b46-4c2b-8bd1-944b1800b1c2",
   "metadata": {},
   "outputs": [],
   "source": [
    "from einops import rearrange"
   ]
  },
  {
   "cell_type": "code",
   "execution_count": null,
   "id": "16a396d0-3db6-4711-abd8-aa0192209b1c",
   "metadata": {},
   "outputs": [],
   "source": [
    "result = rearrange(images, 'b c (h w) -> b c h w')"
   ]
  },
  {
   "cell_type": "code",
   "execution_count": 25,
   "id": "14c97cf8-74c4-4039-9e45-9d8d30d81cf7",
   "metadata": {},
   "outputs": [],
   "source": [
    "from fastai.text.all import *"
   ]
  },
  {
   "cell_type": "code",
   "execution_count": 26,
   "id": "d800dea3-dc72-45f0-b975-9110f63c347e",
   "metadata": {},
   "outputs": [
    {
     "ename": "TypeError",
     "evalue": "__init__() missing 1 required positional argument: 'tfms'",
     "output_type": "error",
     "traceback": [
      "\u001b[0;31m---------------------------------------------------------------------------\u001b[0m",
      "\u001b[0;31mTypeError\u001b[0m                                 Traceback (most recent call last)",
      "Cell \u001b[0;32mIn[26], line 1\u001b[0m\n\u001b[0;32m----> 1\u001b[0m tl \u001b[38;5;241m=\u001b[39m \u001b[43mTfmdLists\u001b[49m\u001b[43m(\u001b[49m\u001b[43m)\u001b[49m\n",
      "File \u001b[0;32m~/miniforge3/envs/gym/lib/python3.8/site-packages/fastcore/foundation.py:98\u001b[0m, in \u001b[0;36m_L_Meta.__call__\u001b[0;34m(cls, x, *args, **kwargs)\u001b[0m\n\u001b[1;32m     96\u001b[0m \u001b[38;5;28;01mdef\u001b[39;00m \u001b[38;5;21m__call__\u001b[39m(\u001b[38;5;28mcls\u001b[39m, x\u001b[38;5;241m=\u001b[39m\u001b[38;5;28;01mNone\u001b[39;00m, \u001b[38;5;241m*\u001b[39margs, \u001b[38;5;241m*\u001b[39m\u001b[38;5;241m*\u001b[39mkwargs):\n\u001b[1;32m     97\u001b[0m     \u001b[38;5;28;01mif\u001b[39;00m \u001b[38;5;129;01mnot\u001b[39;00m args \u001b[38;5;129;01mand\u001b[39;00m \u001b[38;5;129;01mnot\u001b[39;00m kwargs \u001b[38;5;129;01mand\u001b[39;00m x \u001b[38;5;129;01mis\u001b[39;00m \u001b[38;5;129;01mnot\u001b[39;00m \u001b[38;5;28;01mNone\u001b[39;00m \u001b[38;5;129;01mand\u001b[39;00m \u001b[38;5;28misinstance\u001b[39m(x,\u001b[38;5;28mcls\u001b[39m): \u001b[38;5;28;01mreturn\u001b[39;00m x\n\u001b[0;32m---> 98\u001b[0m     \u001b[38;5;28;01mreturn\u001b[39;00m \u001b[38;5;28;43msuper\u001b[39;49m\u001b[43m(\u001b[49m\u001b[43m)\u001b[49m\u001b[38;5;241;43m.\u001b[39;49m\u001b[38;5;21;43m__call__\u001b[39;49m\u001b[43m(\u001b[49m\u001b[43mx\u001b[49m\u001b[43m,\u001b[49m\u001b[43m \u001b[49m\u001b[38;5;241;43m*\u001b[39;49m\u001b[43margs\u001b[49m\u001b[43m,\u001b[49m\u001b[43m \u001b[49m\u001b[38;5;241;43m*\u001b[39;49m\u001b[38;5;241;43m*\u001b[39;49m\u001b[43mkwargs\u001b[49m\u001b[43m)\u001b[49m\n",
      "\u001b[0;31mTypeError\u001b[0m: __init__() missing 1 required positional argument: 'tfms'"
     ]
    }
   ],
   "source": [
    "tl = TfmdLists(items, [neg_tmf, int2f_tfm] )"
   ]
  },
  {
   "cell_type": "code",
   "execution_count": 27,
   "id": "8e12bfba-d660-4d81-9459-b4c0514ffb50",
   "metadata": {},
   "outputs": [],
   "source": [
    "import torch"
   ]
  },
  {
   "cell_type": "code",
   "execution_count": null,
   "id": "39a9f1b4-9cb7-4ad4-9c63-24646b9025b9",
   "metadata": {},
   "outputs": [],
   "source": [
    "for episode in range(N_EPISODE):\n",
    "    state, _ = env.reset()\n",
    "    state = torch.from_numpy(state)\n",
    "    \n",
    "    while True:\n",
    "        predicted_reward = model(state)\n",
    "        action = torch.argmax(predicted_reward, dim=-1).item()\n",
    "        \n",
    "        next_state, reward, done, truncated, info = env.step(action)\n",
    "        next_state = torch.from_numpy(next_state)\n",
    "        \n",
    "        if done:\n",
    "            target_reward = reward\n",
    "        else:\n",
    "            next_predicted_reward = model(next_state)\n",
    "            max_next_predicted_reward = torch.max(next_predicted_reward, dim=-1)\n",
    "            \n",
    "            target_reward = reward + gamma * max_next_predicted_reward\n",
    "        \n",
    "        loss = loss_func(predicted_reward[action], target_reward)\n",
    "        optim.zero_grad()\n",
    "        loss.backward()\n",
    "        optim.step()\n",
    "        \n",
    "        if done: break\n",
    "        \n",
    "        state = next_state"
   ]
  },
  {
   "cell_type": "code",
   "execution_count": null,
   "id": "21242a9c-8580-4a9a-b8cf-de4468867c3a",
   "metadata": {},
   "outputs": [],
   "source": [
    "def zero_grad(model):\n",
    "    for layer in model.children():\n",
    "        layer.grad.data.zero_()"
   ]
  },
  {
   "cell_type": "code",
   "execution_count": null,
   "id": "85b56d30-8331-402c-aa67-d64c62585715",
   "metadata": {},
   "outputs": [],
   "source": [
    "(seq_len) / n_head"
   ]
  },
  {
   "cell_type": "code",
   "execution_count": null,
   "id": "23dc60f8-e222-4a08-ac00-168d5e64ed56",
   "metadata": {},
   "outputs": [],
   "source": [
    "- policy shift\n",
    "- reward score"
   ]
  },
  {
   "cell_type": "code",
   "execution_count": null,
   "id": "0525f68f-f5cd-44cd-8194-9bd5c979185a",
   "metadata": {},
   "outputs": [],
   "source": [
    "representation, dynamic, prediction"
   ]
  },
  {
   "cell_type": "code",
   "execution_count": null,
   "id": "f119c8e5-9491-45ad-9dfc-ab39463a3755",
   "metadata": {},
   "outputs": [],
   "source": [
    "output = rearrange(images, \"... 1 -> ...\")"
   ]
  },
  {
   "cell_type": "code",
   "execution_count": 34,
   "id": "364e4eaf-7ff7-48c3-b9c2-8c3a75dffe9d",
   "metadata": {},
   "outputs": [],
   "source": [
    "def create_mask(size):\n",
    "    return torch.ones((1, size, size)).triu(1)"
   ]
  },
  {
   "cell_type": "code",
   "execution_count": 35,
   "id": "cf593dba-6ee8-429b-bd26-d428f1a48ad5",
   "metadata": {},
   "outputs": [
    {
     "data": {
      "text/plain": [
       "tensor([[[0., 1., 1., 1.],\n",
       "         [0., 0., 1., 1.],\n",
       "         [0., 0., 0., 1.],\n",
       "         [0., 0., 0., 0.]]])"
      ]
     },
     "execution_count": 35,
     "metadata": {},
     "output_type": "execute_result"
    }
   ],
   "source": [
    "create_mask(4)"
   ]
  },
  {
   "cell_type": "code",
   "execution_count": 37,
   "id": "e009b9e4-ff16-4277-b8f9-39f7d1229048",
   "metadata": {},
   "outputs": [],
   "source": [
    "def calculate_discounted_return_each_timestep(rewards, discounted_factor):\n",
    "    n_rewards = len(rewards)\n",
    "    discounted_returns = torch.zeros(n_rewards)\n",
    "    \n",
    "    for i in range(n_rewards):\n",
    "        discounted = 0\n",
    "        \n",
    "        for k, reward in enumerate(rewards[i:]):\n",
    "            discounted += (discounted_factor**k) * reward\n",
    "        \n",
    "        discounted_returns[i] = discounted\n",
    "    \n",
    "    return discounted_returns"
   ]
  },
  {
   "cell_type": "code",
   "execution_count": 38,
   "id": "925b6f6d-2de2-450a-9942-de2ae1c3e095",
   "metadata": {},
   "outputs": [],
   "source": [
    "rewards = torch.tensor([1, 2, 3, 4, 5])"
   ]
  },
  {
   "cell_type": "code",
   "execution_count": 39,
   "id": "dac85776-9eda-44a6-99b9-7e0f82686222",
   "metadata": {},
   "outputs": [
    {
     "data": {
      "text/plain": [
       "tensor([14.6045, 13.7419, 11.8605,  8.9500,  5.0000])"
      ]
     },
     "execution_count": 39,
     "metadata": {},
     "output_type": "execute_result"
    }
   ],
   "source": [
    "calculate_discounted_return_each_timestep(rewards, 0.99)"
   ]
  },
  {
   "cell_type": "code",
   "execution_count": null,
   "id": "b77c7a13-9908-491f-8375-afa3d83cba85",
   "metadata": {},
   "outputs": [],
   "source": [
    "' . '.word for word.strip() in lines"
   ]
  },
  {
   "cell_type": "code",
   "execution_count": 40,
   "id": "04153320-5409-40d2-a8ba-16e7ff935604",
   "metadata": {},
   "outputs": [],
   "source": [
    "class ResidualLayerNorm(nn.Module):\n",
    "    def __init__(self, d_model, dropout):\n",
    "        super().__init__()\n",
    "        \n",
    "        self.norm = nn.LayerNorm(d_model)\n",
    "        self.dropout = nn.Dropout(dropout)\n",
    "    \n",
    "    def forward(self, x, residual):\n",
    "        output = self.dropout(x) + residual\n",
    "        output = self.norm(output)\n",
    "        \n",
    "        return output"
   ]
  },
  {
   "cell_type": "code",
   "execution_count": 41,
   "id": "eb6b60c1-3cee-44b4-9488-b8b2f47dc803",
   "metadata": {},
   "outputs": [],
   "source": [
    "embedding = nn.Embedding(num_embeddings=1000, embedding_dim=5, padding_idx=5)"
   ]
  },
  {
   "cell_type": "code",
   "execution_count": 42,
   "id": "41bc2d82-9601-4c2d-b83f-75385390ba3e",
   "metadata": {},
   "outputs": [],
   "source": [
    "import math"
   ]
  },
  {
   "cell_type": "code",
   "execution_count": 43,
   "id": "8f2036c2-8c06-448e-a299-8f4a629fc3d0",
   "metadata": {},
   "outputs": [],
   "source": [
    "class TextEmbedding(nn.Module):\n",
    "    def __init__(self, vocab_size, padding_idx, d_model):\n",
    "        super().__init__()\n",
    "        self.d_model\n",
    "        self.embed = nn.Embedding(vocab_size, d_model, padding_idx)\n",
    "    \n",
    "    def forward(self, x):\n",
    "        embeddings = self.embed(x)\n",
    "        \n",
    "        return embedding / math.sqrt(self.d_model)"
   ]
  },
  {
   "cell_type": "code",
   "execution_count": null,
   "id": "6a3e4323-e839-41f6-a0ab-1d91741e2d89",
   "metadata": {},
   "outputs": [],
   "source": [
    "three neural networks, search, replay buffer"
   ]
  }
 ],
 "metadata": {
  "kernelspec": {
   "display_name": "Python 3 (ipykernel)",
   "language": "python",
   "name": "python3"
  },
  "language_info": {
   "codemirror_mode": {
    "name": "ipython",
    "version": 3
   },
   "file_extension": ".py",
   "mimetype": "text/x-python",
   "name": "python",
   "nbconvert_exporter": "python",
   "pygments_lexer": "ipython3",
   "version": "3.8.15"
  }
 },
 "nbformat": 4,
 "nbformat_minor": 5
}
