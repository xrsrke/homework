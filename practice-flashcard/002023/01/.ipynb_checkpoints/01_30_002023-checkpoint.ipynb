{
 "cells": [
  {
   "cell_type": "markdown",
   "id": "dd1dc9c1-f3e7-44ba-ad6d-3f36f23ebc6a",
   "metadata": {},
   "source": [
    "### Sci"
   ]
  },
  {
   "cell_type": "code",
   "execution_count": null,
   "id": "76a67b53-d881-4080-ac71-3d220975a070",
   "metadata": {},
   "outputs": [],
   "source": [
    "Find the normalizing constant by integrate from -inf to inf\n",
    "Divide by the normalizing constant"
   ]
  },
  {
   "cell_type": "code",
   "execution_count": null,
   "id": "716330eb-6da9-435c-b8b3-5c8bd1606fb7",
   "metadata": {},
   "outputs": [],
   "source": [
    "integrate from a to b |wave|^2"
   ]
  },
  {
   "cell_type": "markdown",
   "id": "4c8759b0-d886-43bb-8177-8f34c304e701",
   "metadata": {},
   "source": [
    "solve the scho equation, find the operator of the quantity, find the expected value of that quantity"
   ]
  },
  {
   "cell_type": "code",
   "execution_count": null,
   "id": "24b8fe42-8c58-402b-9f4d-156b1be0739d",
   "metadata": {},
   "outputs": [],
   "source": [
    "two uncertainty principles\n",
    "quantization of angular momentum\n",
    "quantization of action"
   ]
  },
  {
   "cell_type": "code",
   "execution_count": null,
   "id": "803a1e07-a5c5-4fb9-889d-46362a2b0e8a",
   "metadata": {},
   "outputs": [],
   "source": [
    "valid probability distribution\n",
    "- continous differentiable"
   ]
  },
  {
   "cell_type": "markdown",
   "id": "5847cfa9-28be-4bd7-a287-49d98b6db192",
   "metadata": {},
   "source": [
    "### SW"
   ]
  },
  {
   "cell_type": "code",
   "execution_count": null,
   "id": "a88f538a-c270-4fef-a70b-54f2f1673238",
   "metadata": {},
   "outputs": [],
   "source": [
    "SELECT users.name, likes.like FROM users LEFT JOIN likes ON users.id = likes.user_id "
   ]
  },
  {
   "cell_type": "code",
   "execution_count": null,
   "id": "17a7e2af-3c2f-45ed-8f99-4740a4e07d0a",
   "metadata": {},
   "outputs": [],
   "source": [
    "SELECT users.name, likes.like FROM users OUTER JOIN likes on "
   ]
  },
  {
   "cell_type": "code",
   "execution_count": 1,
   "id": "968d29c2-7089-42bb-a314-d2a1a9415ac5",
   "metadata": {},
   "outputs": [],
   "source": [
    "from fastcore.foundation import *"
   ]
  },
  {
   "cell_type": "code",
   "execution_count": 4,
   "id": "dbfcb4c0-b7e5-4d3e-b392-2fc231489b77",
   "metadata": {},
   "outputs": [],
   "source": [
    "from typing import overload, List"
   ]
  },
  {
   "cell_type": "code",
   "execution_count": 3,
   "id": "b109d445-48e4-47ec-9ddc-c59d144f0d90",
   "metadata": {},
   "outputs": [],
   "source": [
    "@overload\n",
    "def getitem(x: str) -> str: pass"
   ]
  },
  {
   "cell_type": "code",
   "execution_count": 5,
   "id": "92e3eb6d-5c33-4019-962e-aa54cd4c91f4",
   "metadata": {},
   "outputs": [],
   "source": [
    "@overload\n",
    "def getitem(x: List[int]) -> int:\n",
    "    pass"
   ]
  },
  {
   "cell_type": "markdown",
   "id": "465a2674-d9a0-41dc-9eeb-bc3d195bdc7a",
   "metadata": {},
   "source": [
    "### Sci"
   ]
  },
  {
   "cell_type": "code",
   "execution_count": null,
   "id": "368fd451-b9ef-40d5-83a0-0fd1f2dbbcf2",
   "metadata": {},
   "outputs": [],
   "source": [
    "a system that don't exchange energy and matter with its surrounding"
   ]
  },
  {
   "cell_type": "code",
   "execution_count": null,
   "id": "95a5c247-3b3f-4cb9-b990-9604bbae29ef",
   "metadata": {},
   "outputs": [],
   "source": [
    "gravitational potential energy, elastic potential energy"
   ]
  },
  {
   "cell_type": "code",
   "execution_count": null,
   "id": "07232e22-5f68-43ff-8f5f-cc1784e3a945",
   "metadata": {},
   "outputs": [],
   "source": [
    "because it's only exits in another state or another, no between"
   ]
  },
  {
   "cell_type": "code",
   "execution_count": null,
   "id": "f8b1877b-53d6-4ebb-866d-9dc5a566621f",
   "metadata": {},
   "outputs": [],
   "source": [
    "constant velocity or at rest"
   ]
  },
  {
   "cell_type": "code",
   "execution_count": null,
   "id": "da302687-61e5-4610-b018-ed6c7d3d1723",
   "metadata": {},
   "outputs": [],
   "source": [
    "strong nuclear force, weak nuclear force, gravity, electromagtic radi"
   ]
  },
  {
   "cell_type": "code",
   "execution_count": null,
   "id": "d427a241-9a5c-4b73-8c57-a2117eae0c16",
   "metadata": {},
   "outputs": [],
   "source": [
    "conservatio \n",
    "conservation of linear moentum\n",
    "conservationof angular momentum"
   ]
  },
  {
   "cell_type": "markdown",
   "id": "f88f342e-74a4-4568-bf05-89e3d89abd5b",
   "metadata": {},
   "source": [
    "### AI"
   ]
  },
  {
   "cell_type": "code",
   "execution_count": 6,
   "id": "04246415-8121-4536-b69f-3eb7d813eede",
   "metadata": {},
   "outputs": [],
   "source": [
    "import torch\n",
    "from torch import nn\n",
    "import torch.nn.functional as F"
   ]
  },
  {
   "cell_type": "code",
   "execution_count": 7,
   "id": "a1614c2b-f8c6-48cf-b35e-ce9717d3c03b",
   "metadata": {},
   "outputs": [],
   "source": [
    "from fastai.vision.all import *"
   ]
  },
  {
   "cell_type": "code",
   "execution_count": null,
   "id": "db750e98-6ff2-4ead-a042-9302e67fae42",
   "metadata": {},
   "outputs": [],
   "source": [
    "dblock = DataBlock(\n",
    "    blocks=[ImageBlock, MultiCategoryBlock],\n",
    "    get_x=get_x,\n",
    "    get_y=get_y\n",
    ")"
   ]
  },
  {
   "cell_type": "code",
   "execution_count": null,
   "id": "679a22e1-8497-43e3-ad08-ec1244cf8957",
   "metadata": {},
   "outputs": [],
   "source": [
    "dsets = dblock.datasets(df)"
   ]
  },
  {
   "cell_type": "code",
   "execution_count": null,
   "id": "605b684a-6f8f-4e28-8a8e-282f141f90f4",
   "metadata": {},
   "outputs": [],
   "source": [
    "torch.bmm()"
   ]
  },
  {
   "cell_type": "code",
   "execution_count": null,
   "id": "dd6d7e16-ddd1-48d7-b6f5-8599decc63b3",
   "metadata": {},
   "outputs": [],
   "source": [
    "class DataLoader:\n",
    "    def __init__(self, dataset, bs):\n",
    "        super().__init__()\n",
    "        self.dataset = dataset\n",
    "        self.bs = bs\n",
    "    \n",
    "    def __iter__(self):\n",
    "        for i in range(0, self.bs, )"
   ]
  },
  {
   "cell_type": "code",
   "execution_count": 8,
   "id": "e9368d33-8ba6-4595-b946-d5879907fc9a",
   "metadata": {},
   "outputs": [],
   "source": [
    "from torch.utils.data import Dataset"
   ]
  },
  {
   "cell_type": "code",
   "execution_count": 9,
   "id": "a5335aa1-c09b-44a6-9c10-a8a93f6ed445",
   "metadata": {},
   "outputs": [],
   "source": [
    "class PetDataset(Dataset):\n",
    "    def __init__(self, data):\n",
    "        self.data = data\n",
    "    \n",
    "    def __len__(self): return len(self.data)\n",
    "\n",
    "    def __getitem__(self, idx):\n",
    "        title = self.data[idx][\"title\"]\n",
    "        year_published = self.data[idx][\"year_published\"]\n",
    "        \n",
    "        return title, year_published"
   ]
  },
  {
   "cell_type": "code",
   "execution_count": 10,
   "id": "7096524f-3a6c-4383-a6f1-91691c76dfa5",
   "metadata": {},
   "outputs": [],
   "source": [
    "from torch.nn.utils.rnn import pad_sequence"
   ]
  },
  {
   "cell_type": "code",
   "execution_count": null,
   "id": "9d5d4675-6437-422a-924b-1d64041a1473",
   "metadata": {},
   "outputs": [],
   "source": [
    "padded_batch = pad_sequence(batch, batch_first=True, padding_value=0)"
   ]
  },
  {
   "cell_type": "code",
   "execution_count": null,
   "id": "d7284c1c-efe7-4c1d-828c-27d0cc39d190",
   "metadata": {},
   "outputs": [],
   "source": [
    "output.hidden_states[-1]"
   ]
  },
  {
   "cell_type": "code",
   "execution_count": null,
   "id": "e7aae8e4-e7ed-47eb-a07e-ba3e839e24d7",
   "metadata": {},
   "outputs": [],
   "source": [
    "token_logits = output.logits[]"
   ]
  },
  {
   "cell_type": "code",
   "execution_count": null,
   "id": "ee7a8509-ed63-4338-9b30-73d032eee9cf",
   "metadata": {},
   "outputs": [],
   "source": [
    "torch.bmm(inp1, inp2)"
   ]
  },
  {
   "cell_type": "code",
   "execution_count": null,
   "id": "38af1002-2a4e-40a1-a15f-06f2d612582b",
   "metadata": {},
   "outputs": [],
   "source": [
    "torch.gather(x, dim=1, index=indicies)"
   ]
  },
  {
   "cell_type": "code",
   "execution_count": 11,
   "id": "f67684e8-5378-47cb-a96a-5f83047566e3",
   "metadata": {},
   "outputs": [],
   "source": [
    "from einops import rearrange"
   ]
  },
  {
   "cell_type": "code",
   "execution_count": null,
   "id": "93d1bba8-ae85-4ac5-b975-6d0d3b488de9",
   "metadata": {},
   "outputs": [],
   "source": [
    "def compute_loss(model, xb, yb):\n",
    "    pred = model(xb)\n",
    "    \n",
    "    pred = rearrange('batch_size seq_len n_embd -> (batch_size seq_len) n_embd')\n",
    "    yb = rearrange('batch_size seq_len -> (batch_size seq_len)')\n",
    "    \n",
    "    loss = F.cross_entropy(\n",
    "        input=pred,\n",
    "        target=yb\n",
    "    )\n",
    "    \n",
    "    return loss"
   ]
  },
  {
   "cell_type": "code",
   "execution_count": null,
   "id": "e99cabbc-a4e0-4423-842e-be61883426dc",
   "metadata": {},
   "outputs": [],
   "source": [
    "_model = nn.Sequential(\n",
    "    nn.Linear(784, 50),\n",
    "    nn.ReLU(),\n",
    "    nn.Linear(50, 10)\n",
    ")"
   ]
  },
  {
   "cell_type": "code",
   "execution_count": null,
   "id": "adf1f815-4439-4fcf-a6e2-b267f02f7cd0",
   "metadata": {},
   "outputs": [],
   "source": [
    "output = model.generate(input_ids=input_ids, max_new_tokens=10)"
   ]
  },
  {
   "cell_type": "code",
   "execution_count": null,
   "id": "7cd8df04-f19d-44da-9e83-9a6b59414bb3",
   "metadata": {
    "tags": []
   },
   "outputs": [],
   "source": [
    "def generate_transitions(model, env):\n",
    "    state = env.reset()\n",
    "    done = False\n",
    "    \n",
    "    states = []\n",
    "    \n",
    "    while done:\n",
    "        pred_rewards = model(state)\n",
    "        action = torch.argmax(pred_rewards, dim=-1)\n",
    "        \n",
    "        next_state, reward, done, truncated, info = env.step(action)\n",
    "        \n",
    "        if done is True:\n",
    "            break\n",
    "        else:\n",
    "            state = next_state\n",
    "            states.append(next_state)"
   ]
  },
  {
   "cell_type": "code",
   "execution_count": null,
   "id": "01cfe907-b41e-4877-97d0-597ec7fe2664",
   "metadata": {},
   "outputs": [],
   "source": [
    "logit_last_token = output.logits[0, -1, :]"
   ]
  },
  {
   "cell_type": "code",
   "execution_count": null,
   "id": "2863acb1-7c65-437a-82bf-0481b7c5a88c",
   "metadata": {},
   "outputs": [],
   "source": [
    ": all w"
   ]
  },
  {
   "cell_type": "code",
   "execution_count": null,
   "id": "c29b66df-aa1e-46a0-8bb8-0bc666eaed36",
   "metadata": {},
   "outputs": [],
   "source": [
    "state, action, reward, desired reward"
   ]
  },
  {
   "cell_type": "code",
   "execution_count": null,
   "id": "6a8250b8-070e-4b67-8387-4d656626d00c",
   "metadata": {},
   "outputs": [],
   "source": [
    "find the action that maximizes the return and entropy"
   ]
  },
  {
   "cell_type": "code",
   "execution_count": null,
   "id": "e861e29d-4fe5-4de8-9671-301ca19c8bb5",
   "metadata": {},
   "outputs": [],
   "source": [
    "complex conjugate of wave function x q operator x wave function"
   ]
  },
  {
   "cell_type": "markdown",
   "id": "d213cf18-31ad-4193-a7af-a1dd12fdfb82",
   "metadata": {},
   "source": [
    "the goal is maximize the objective\n",
    "\n",
    "minimize the ratio, minus it => smaller ratio => larger objective => aligns with the goal"
   ]
  },
  {
   "cell_type": "code",
   "execution_count": null,
   "id": "85533410-e2b0-4cbf-a9d9-06f99d8ccf0a",
   "metadata": {},
   "outputs": [],
   "source": [
    "returns_step = compute_return_steps(rewards)"
   ]
  },
  {
   "cell_type": "code",
   "execution_count": null,
   "id": "c7d96256-fa9f-4b28-9196-45582cda0fa3",
   "metadata": {},
   "outputs": [],
   "source": [
    "total_loss = 0\n",
    "\n",
    "for return_, prob in zip(returns_step, selected_action_probs):\n",
    "    total_loss += return_ * -prob.log()"
   ]
  },
  {
   "cell_type": "code",
   "execution_count": null,
   "id": "86d9b79f-73ba-43db-b2f4-bc4564ab1717",
   "metadata": {},
   "outputs": [],
   "source": [
    "loss = total_loss / len(rewards)"
   ]
  },
  {
   "cell_type": "code",
   "execution_count": null,
   "id": "2ed1f49d-efcf-43e0-801b-a63ac85bce85",
   "metadata": {},
   "outputs": [],
   "source": [
    "def nll(probs, targ):\n",
    "    return -probs[range(targ.shape[-1]), targ].mean()"
   ]
  },
  {
   "cell_type": "code",
   "execution_count": null,
   "id": "1c2de8ee-2a7d-4991-b396-338c8e9971ed",
   "metadata": {},
   "outputs": [],
   "source": [
    "def dropout_layer(x, dropout):\n",
    "    assert 0 <= dropout <= 1\n",
    "    \n",
    "    mask = torch.randn(x.shape) > dropout\n",
    "    \n",
    "    return x * mask"
   ]
  },
  {
   "cell_type": "markdown",
   "id": "1218357b-110a-45c1-9ef5-0744e8f984fb",
   "metadata": {},
   "source": [
    "nope, the wave function tells the probability distribution of finding the particle in a particular location"
   ]
  },
  {
   "cell_type": "code",
   "execution_count": null,
   "id": "48e95da4-57e9-4432-9240-95b532817829",
   "metadata": {},
   "outputs": [],
   "source": [
    "logit_last_token = output.logits[0, -1, :]"
   ]
  }
 ],
 "metadata": {
  "kernelspec": {
   "display_name": "Python 3 (ipykernel)",
   "language": "python",
   "name": "python3"
  },
  "language_info": {
   "codemirror_mode": {
    "name": "ipython",
    "version": 3
   },
   "file_extension": ".py",
   "mimetype": "text/x-python",
   "name": "python",
   "nbconvert_exporter": "python",
   "pygments_lexer": "ipython3",
   "version": "3.8.15"
  }
 },
 "nbformat": 4,
 "nbformat_minor": 5
}
