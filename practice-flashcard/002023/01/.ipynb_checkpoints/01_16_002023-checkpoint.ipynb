{
 "cells": [
  {
   "cell_type": "markdown",
   "id": "a4fa9c49",
   "metadata": {},
   "source": [
    "### Python"
   ]
  },
  {
   "cell_type": "code",
   "execution_count": 1,
   "id": "bc3ff18f",
   "metadata": {},
   "outputs": [],
   "source": [
    "from unittest import TestCase"
   ]
  },
  {
   "cell_type": "code",
   "execution_count": null,
   "id": "28527f9f",
   "metadata": {},
   "outputs": [],
   "source": [
    "class TestGetCompanies(TestCase):\n",
    "    def test_list_companies(self):\n",
    "        companies = Company().list_companies()\n",
    "        self.assertEqual(companies, 1)"
   ]
  },
  {
   "cell_type": "code",
   "execution_count": 2,
   "id": "abcc23db",
   "metadata": {},
   "outputs": [],
   "source": [
    "from typing import Union, List"
   ]
  },
  {
   "cell_type": "code",
   "execution_count": 3,
   "id": "6a9cb13c",
   "metadata": {},
   "outputs": [],
   "source": [
    "from typing import overload"
   ]
  },
  {
   "cell_type": "code",
   "execution_count": 4,
   "id": "c406b7b2",
   "metadata": {},
   "outputs": [],
   "source": [
    "@overload\n",
    "def getitem(x: str) -> str:\n",
    "    pass"
   ]
  },
  {
   "cell_type": "code",
   "execution_count": 5,
   "id": "c7f75396",
   "metadata": {},
   "outputs": [],
   "source": [
    "@overload\n",
    "def getitem(x: List[int]) -> int:\n",
    "    pass"
   ]
  },
  {
   "cell_type": "code",
   "execution_count": 6,
   "id": "3fa5ebbd",
   "metadata": {},
   "outputs": [],
   "source": [
    "from fastcore.meta import *"
   ]
  },
  {
   "cell_type": "code",
   "execution_count": 7,
   "id": "d606677f",
   "metadata": {},
   "outputs": [
    {
     "ename": "NameError",
     "evalue": "name 'bar' is not defined",
     "output_type": "error",
     "traceback": [
      "\u001b[0;31m---------------------------------------------------------------------------\u001b[0m",
      "\u001b[0;31mNameError\u001b[0m                                 Traceback (most recent call last)",
      "Cell \u001b[0;32mIn[7], line 1\u001b[0m\n\u001b[0;32m----> 1\u001b[0m \u001b[38;5;129m@delegates\u001b[39m(\u001b[43mbar\u001b[49m)\n\u001b[1;32m      2\u001b[0m \u001b[38;5;28;01mdef\u001b[39;00m \u001b[38;5;21mfoo\u001b[39m():\n\u001b[1;32m      3\u001b[0m     \u001b[38;5;28;01mpass\u001b[39;00m\n",
      "\u001b[0;31mNameError\u001b[0m: name 'bar' is not defined"
     ]
    }
   ],
   "source": [
    "@delegates(bar)\n",
    "def foo():\n",
    "    pass"
   ]
  },
  {
   "cell_type": "code",
   "execution_count": null,
   "id": "aa26efc6",
   "metadata": {},
   "outputs": [],
   "source": [
    "class Rectangle:\n",
    "    def __repr__(self):\n",
    "        return f\"Rectangle {self.width}, {self.height}\""
   ]
  },
  {
   "cell_type": "markdown",
   "id": "18033107",
   "metadata": {},
   "source": [
    "### X"
   ]
  },
  {
   "cell_type": "markdown",
   "id": "d260e7d8",
   "metadata": {},
   "source": [
    "### SQL"
   ]
  },
  {
   "cell_type": "markdown",
   "id": "7316d026",
   "metadata": {},
   "source": [
    "SELECT a.name, b.name FROM members as a INNER JOIN members as b ON a.supervisor_id = b.id"
   ]
  },
  {
   "cell_type": "code",
   "execution_count": null,
   "id": "e11af7cb",
   "metadata": {},
   "outputs": [],
   "source": [
    "foo=$(pwd)"
   ]
  },
  {
   "cell_type": "code",
   "execution_count": null,
   "id": "d8e71909",
   "metadata": {},
   "outputs": [],
   "source": [
    "name: integration test\n",
    "\n",
    "on: [push]\n",
    "    \n",
    "jobs:\n",
    "    check-version:\n",
    "        runs-on: ubuntu-latest\n",
    "        x:\n",
    "            - name: echo a string\n",
    "              run: echo \"hello world\"\n",
    "            - name: check python version\n",
    "              run: python3 --version"
   ]
  },
  {
   "cell_type": "code",
   "execution_count": null,
   "id": "c4fb5b11",
   "metadata": {},
   "outputs": [],
   "source": [
    "from typing import "
   ]
  },
  {
   "cell_type": "code",
   "execution_count": 8,
   "id": "02bd9aec",
   "metadata": {},
   "outputs": [],
   "source": [
    "from enum import Enum"
   ]
  },
  {
   "cell_type": "code",
   "execution_count": 9,
   "id": "6e8d9221",
   "metadata": {},
   "outputs": [],
   "source": [
    "class MotherSauces(Enum):\n",
    "    BECHAMEL = \"Bechamel\"\n",
    "    VELOUTE = \"Veloute\""
   ]
  },
  {
   "cell_type": "code",
   "execution_count": 10,
   "id": "240e93e6",
   "metadata": {},
   "outputs": [
    {
     "ename": "NameError",
     "evalue": "name 'MotherSauce' is not defined",
     "output_type": "error",
     "traceback": [
      "\u001b[0;31m---------------------------------------------------------------------------\u001b[0m",
      "\u001b[0;31mNameError\u001b[0m                                 Traceback (most recent call last)",
      "Cell \u001b[0;32mIn[10], line 1\u001b[0m\n\u001b[0;32m----> 1\u001b[0m \u001b[38;5;28;01mdef\u001b[39;00m \u001b[38;5;21mcreate_sauce\u001b[39m(mother_sauce: \u001b[43mMotherSauce\u001b[49m):\n\u001b[1;32m      2\u001b[0m     \u001b[38;5;28;01mpass\u001b[39;00m\n",
      "\u001b[0;31mNameError\u001b[0m: name 'MotherSauce' is not defined"
     ]
    }
   ],
   "source": [
    "def create_sauce(mother_sauce: MotherSauce):\n",
    "    pass"
   ]
  },
  {
   "cell_type": "code",
   "execution_count": 15,
   "id": "7c9d08a1",
   "metadata": {},
   "outputs": [],
   "source": [
    "from typing import List, Tuple"
   ]
  },
  {
   "cell_type": "code",
   "execution_count": 14,
   "id": "eaf17f6c",
   "metadata": {},
   "outputs": [],
   "source": [
    "output1 = List[int]"
   ]
  },
  {
   "cell_type": "code",
   "execution_count": 16,
   "id": "ecb7d0ac",
   "metadata": {},
   "outputs": [],
   "source": [
    "output2 = List[Tuple[str, int, str]]"
   ]
  },
  {
   "cell_type": "code",
   "execution_count": null,
   "id": "2adb109b",
   "metadata": {},
   "outputs": [],
   "source": [
    "docker networt create mongo-network"
   ]
  },
  {
   "cell_type": "markdown",
   "id": "5582ffcf",
   "metadata": {},
   "source": [
    "### Fucking AI"
   ]
  },
  {
   "cell_type": "code",
   "execution_count": 17,
   "id": "e6bd71c0",
   "metadata": {},
   "outputs": [],
   "source": [
    "import torch\n",
    "from torch import nn\n",
    "import torch.nn.functional as F"
   ]
  },
  {
   "cell_type": "code",
   "execution_count": null,
   "id": "94a00e53",
   "metadata": {},
   "outputs": [],
   "source": [
    "env.reset()"
   ]
  },
  {
   "cell_type": "code",
   "execution_count": null,
   "id": "6ed2a351",
   "metadata": {},
   "outputs": [],
   "source": [
    "mass, space, symmetry, energy"
   ]
  },
  {
   "cell_type": "code",
   "execution_count": null,
   "id": "6c8c5440",
   "metadata": {},
   "outputs": [],
   "source": [
    "output = tokenizer(sentence)"
   ]
  },
  {
   "cell_type": "code",
   "execution_count": 18,
   "id": "87e255ae",
   "metadata": {},
   "outputs": [],
   "source": [
    "def to_uppercase(examples):\n",
    "    return {\n",
    "        \"summary\": examples[\"summary\"].upper()\n",
    "    }"
   ]
  },
  {
   "cell_type": "code",
   "execution_count": null,
   "id": "0668a45e",
   "metadata": {},
   "outputs": [],
   "source": [
    "dataset_samsum.map(to_uppercase)"
   ]
  },
  {
   "cell_type": "code",
   "execution_count": null,
   "id": "ed4f9faf",
   "metadata": {},
   "outputs": [],
   "source": [
    "1, 3, 3"
   ]
  },
  {
   "cell_type": "code",
   "execution_count": null,
   "id": "9fa44d5f",
   "metadata": {},
   "outputs": [],
   "source": [
    "Normalization > Pretokenize > Tokenize > Post-tokenize"
   ]
  },
  {
   "cell_type": "code",
   "execution_count": null,
   "id": "c5e4d3b6",
   "metadata": {},
   "outputs": [],
   "source": [
    "def summary_batch(article_batches, max_context_length):\n",
    "    \n",
    "    arr_summary = []\n",
    "    for article_batch in article_batches:\n",
    "        tokenized_article = tokenizer(\n",
    "            article_batch,\n",
    "            max_length=max_context_length,\n",
    "            truncation=True,\n",
    "            return_tensors=\"pt\",\n",
    "            **tokenizer_params\n",
    "        )\n",
    "        \n",
    "        summaries = model.generate(\n",
    "            input_ids = tokenized_article[\"input_ids\"],\n",
    "            attention_mask = tokenized_article[\"attention_mask\"],\n",
    "            **model_params\n",
    "        )\n",
    "        \n",
    "        decoded_summaries = tokenizer.decode(\n",
    "            summaries\n",
    "        )\n",
    "        \n",
    "        arr_summary.append(decoded_summaries)\n",
    "    \n",
    "    return arr_summary"
   ]
  },
  {
   "cell_type": "code",
   "execution_count": 19,
   "id": "dc8a6948",
   "metadata": {},
   "outputs": [],
   "source": [
    "from transformers import Trainer"
   ]
  },
  {
   "cell_type": "code",
   "execution_count": null,
   "id": "52888e42",
   "metadata": {},
   "outputs": [],
   "source": [
    "class DistillationTrainer(Trainer):\n",
    "    def __init__(self, *args, teacher_model, **kwargs):\n",
    "        super().__init__(*args, **kwargs)\n",
    "        self.teacher_model = teacher_model\n",
    "        self.loss_func = nn.KLDivLoss()\n",
    "    \n",
    "    def compute_loss(self, model, inputs, return_outputs):\n",
    "        output_student = model(**inputs)\n",
    "        logits_student = output.logits\n",
    "        loss_ce = output_student.loss\n",
    "        \n",
    "        with torch.no_grad():\n",
    "            output_teacher = self.teacher_model(**inputs)\n",
    "            logits_teacher = output_teacher.logits\n",
    "        \n",
    "        alpha = self.args.alpha\n",
    "        temperature = self.args.temperature\n",
    "        \n",
    "        loss_kl = temperature**2 * self.loss_func(\n",
    "            F.log_softmax(logits_student),\n",
    "            F.softmax(logits_teacher)\n",
    "        )\n",
    "        \n",
    "        loss = alpha*loss_ce + (1-alpha)*loss_kl\n",
    "        \n",
    "        return loss"
   ]
  },
  {
   "cell_type": "code",
   "execution_count": null,
   "id": "6a54fd3b",
   "metadata": {},
   "outputs": [],
   "source": [
    "torch.multinomial(preds, num_samples=1)"
   ]
  },
  {
   "cell_type": "code",
   "execution_count": 20,
   "id": "d008be2f",
   "metadata": {},
   "outputs": [],
   "source": [
    "def compute_ratio(current, prev):\n",
    "    return current.log() - prev.log()"
   ]
  },
  {
   "cell_type": "code",
   "execution_count": 21,
   "id": "b2211709",
   "metadata": {},
   "outputs": [],
   "source": [
    "from fastai.text.all import *"
   ]
  },
  {
   "cell_type": "code",
   "execution_count": null,
   "id": "631fb228",
   "metadata": {},
   "outputs": [],
   "source": [
    "tfms = [neg_tfm, int2f_tfm]"
   ]
  },
  {
   "cell_type": "code",
   "execution_count": 22,
   "id": "16cb5af1",
   "metadata": {},
   "outputs": [],
   "source": [
    "from einops import rearrange"
   ]
  },
  {
   "cell_type": "code",
   "execution_count": null,
   "id": "e69fdeb3",
   "metadata": {},
   "outputs": [],
   "source": [
    "result = rearranger(images, 'b c (h w) -> b c h w')"
   ]
  },
  {
   "cell_type": "code",
   "execution_count": null,
   "id": "d5adfd41",
   "metadata": {},
   "outputs": [],
   "source": [
    "mass, energy, space, symmetry"
   ]
  },
  {
   "cell_type": "code",
   "execution_count": 23,
   "id": "d081dac5",
   "metadata": {},
   "outputs": [],
   "source": [
    "def accuracy(sm_pred, targ):\n",
    "    pred_idx = torch.argmax(sm_pred, dim=-1)\n",
    "    return (pred_idx == targ).float().mean()"
   ]
  },
  {
   "cell_type": "code",
   "execution_count": 24,
   "id": "72f64d92",
   "metadata": {},
   "outputs": [],
   "source": [
    "def calculate_discounted_return_an_episode(rewards, discount_factors):\n",
    "    total_returns = 0.\n",
    "    for k, reward in enumerate(rewards):\n",
    "        total_returns += discount_factors**k * reward\n",
    "    \n",
    "    return total_returns"
   ]
  },
  {
   "cell_type": "code",
   "execution_count": 31,
   "id": "7e34915e",
   "metadata": {},
   "outputs": [],
   "source": [
    "def discount_reward(rewards, discount_factor):\n",
    "    discounted_rewards = []\n",
    "    \n",
    "    for k, reward in enumerate(rewards):\n",
    "        discounted_rewards.append(discount_factor**k * reward)\n",
    "    \n",
    "    return discounted_rewards"
   ]
  },
  {
   "cell_type": "code",
   "execution_count": 32,
   "id": "5dcc93de",
   "metadata": {},
   "outputs": [],
   "source": [
    "rewards = torch.tensor([1, 2, 3, 4])"
   ]
  },
  {
   "cell_type": "code",
   "execution_count": 33,
   "id": "641a8801",
   "metadata": {},
   "outputs": [
    {
     "data": {
      "text/plain": [
       "[tensor(1.), tensor(1.9800), tensor(2.9403), tensor(3.8812)]"
      ]
     },
     "execution_count": 33,
     "metadata": {},
     "output_type": "execute_result"
    }
   ],
   "source": [
    "discount_reward(rewards, 0.99)"
   ]
  },
  {
   "cell_type": "code",
   "execution_count": null,
   "id": "be42af4e",
   "metadata": {},
   "outputs": [],
   "source": []
  }
 ],
 "metadata": {
  "kernelspec": {
   "display_name": "Python 3 (ipykernel)",
   "language": "python",
   "name": "python3"
  },
  "language_info": {
   "codemirror_mode": {
    "name": "ipython",
    "version": 3
   },
   "file_extension": ".py",
   "mimetype": "text/x-python",
   "name": "python",
   "nbconvert_exporter": "python",
   "pygments_lexer": "ipython3",
   "version": "3.8.15"
  }
 },
 "nbformat": 4,
 "nbformat_minor": 5
}
