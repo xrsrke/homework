{
 "cells": [
  {
   "cell_type": "markdown",
   "id": "a56cf398-533d-4116-8dd3-778c372cf0a2",
   "metadata": {},
   "source": [
    "### Sci"
   ]
  },
  {
   "cell_type": "code",
   "execution_count": null,
   "id": "4070aa97-8549-4a98-9563-81fb31a9981e",
   "metadata": {},
   "outputs": [],
   "source": [
    "integrate -inf to inf (or allowed range), to find the normalizing constant\n",
    "divide by the normalizing constant"
   ]
  },
  {
   "cell_type": "code",
   "execution_count": null,
   "id": "79667795-454a-4bab-9992-fde590b66aeb",
   "metadata": {},
   "outputs": [],
   "source": [
    "space, time, matter, energy"
   ]
  },
  {
   "cell_type": "code",
   "execution_count": null,
   "id": "9cf496ba-98de-478e-9281-c3bc088ae06a",
   "metadata": {},
   "outputs": [],
   "source": [
    "velocity, the magnitdude "
   ]
  },
  {
   "cell_type": "code",
   "execution_count": null,
   "id": "10c06b87-f272-417f-9487-471eb416a4d4",
   "metadata": {},
   "outputs": [],
   "source": [
    "solve the wave function in sch equation\n",
    "find the operator corresponds to the physical quantity"
   ]
  },
  {
   "cell_type": "markdown",
   "id": "e26d4ce9-9e6a-484e-be11-7b6cf563e93c",
   "metadata": {},
   "source": [
    "### AI"
   ]
  },
  {
   "cell_type": "code",
   "execution_count": 1,
   "id": "45a25be8-cb2d-4606-8efa-acc69d9494f5",
   "metadata": {},
   "outputs": [],
   "source": [
    "import torch\n",
    "from torch import nn\n",
    "import torch.nn.functional as F"
   ]
  },
  {
   "cell_type": "code",
   "execution_count": null,
   "id": "1334f3c6-bda0-465a-9016-ae2e34772543",
   "metadata": {},
   "outputs": [],
   "source": [
    "inputs = tokenizer(\"the world is going to\", return_tensors=\"pt\")"
   ]
  },
  {
   "cell_type": "code",
   "execution_count": null,
   "id": "cc5b92ad-f035-4e28-80a5-e6579f36260f",
   "metadata": {},
   "outputs": [],
   "source": [
    "output = model.generate(\n",
    "    input_ids=inputs[\"input_ids\"],\n",
    "    attention_mask=inputs[\"attention_mask\"],\n",
    "    max_new_tokens=10\n",
    ")"
   ]
  },
  {
   "cell_type": "code",
   "execution_count": null,
   "id": "6c295948-1a19-4359-88a0-4bcbef749d3e",
   "metadata": {},
   "outputs": [],
   "source": [
    "decoded_text = tokenizer.decode(output)"
   ]
  },
  {
   "cell_type": "code",
   "execution_count": null,
   "id": "b6f9c1b7-38ce-4a6e-bf29-4bd65014bf78",
   "metadata": {},
   "outputs": [],
   "source": [
    "logit_last_token = output.logits[0, -1, :][4]"
   ]
  },
  {
   "cell_type": "code",
   "execution_count": 2,
   "id": "c07a92a3-61e7-45eb-8971-7e67dad6744d",
   "metadata": {},
   "outputs": [],
   "source": [
    "from torch.nn.utils.rnn import pad_sequence"
   ]
  },
  {
   "cell_type": "code",
   "execution_count": null,
   "id": "1b0b5f92-9244-447e-aed2-253697e9c9e4",
   "metadata": {},
   "outputs": [],
   "source": [
    "padded_batch = pad_sequence(batch, batch_first=True, padding_value=0)"
   ]
  },
  {
   "cell_type": "code",
   "execution_count": 3,
   "id": "89b317aa-d7e8-4d77-9511-cebf22193a04",
   "metadata": {},
   "outputs": [],
   "source": [
    "import numpy as np\n",
    "from gym import Env\n",
    "from gym.spaces import Discrete, Box"
   ]
  },
  {
   "cell_type": "code",
   "execution_count": 4,
   "id": "713f9590-1ffe-483a-8ff0-456f90d2231d",
   "metadata": {},
   "outputs": [],
   "source": [
    "class ShowerEnv(Env):\n",
    "    def __init__(self):\n",
    "        super().__init__()\n",
    "        self.action_space = Discrete(3)\n",
    "        self.observation_space = Box(\n",
    "            min=np.array([0]),\n",
    "            max=np.array([100])\n",
    "        )\n",
    "    \n",
    "    def step(self, action):\n",
    "        self.state -= action\n",
    "        \n",
    "        reward = 1 if self.state >= 37 and self.state <= 39 else 0\n",
    "        done = True if self.shower_length == 0 else False\n",
    "        info = {}\n",
    "        \n",
    "        return self.state, reward, done, info\n",
    "    \n",
    "    def reset(self):\n",
    "        self.state = 20\n",
    "        self.shower_length = 60"
   ]
  },
  {
   "cell_type": "code",
   "execution_count": null,
   "id": "c6a43a82-2659-4a58-b856-6ff0bf57481a",
   "metadata": {},
   "outputs": [],
   "source": [
    "l1.bias.grad.zero_"
   ]
  },
  {
   "cell_type": "code",
   "execution_count": null,
   "id": "4cee3cca-80af-4e46-9e64-42c47bd3634d",
   "metadata": {},
   "outputs": [],
   "source": [
    "not to much vocab, model learns combination"
   ]
  },
  {
   "cell_type": "code",
   "execution_count": null,
   "id": "8a192151-4762-4e8a-a6a3-85992c1b6b27",
   "metadata": {},
   "outputs": [],
   "source": [
    "maximize likelihood -> maximize log likelihood -> minimize negative log lieklihoodb"
   ]
  },
  {
   "cell_type": "code",
   "execution_count": 5,
   "id": "9ae3f033-05cb-4a8e-8204-dd9c2ef28bb2",
   "metadata": {},
   "outputs": [],
   "source": [
    "from torch.distributions import Categorical"
   ]
  },
  {
   "cell_type": "code",
   "execution_count": null,
   "id": "c8df5973-ee49-4968-836e-0fe4ac70f825",
   "metadata": {},
   "outputs": [],
   "source": [
    "dist = Categorical(probs=probs)"
   ]
  },
  {
   "cell_type": "code",
   "execution_count": null,
   "id": "0ec03c1e-1be5-4c39-b633-5044e90ee719",
   "metadata": {},
   "outputs": [],
   "source": [
    "action = dist.sample()"
   ]
  },
  {
   "cell_type": "code",
   "execution_count": null,
   "id": "579a912e-8493-41ca-b4c4-b53a746fdd4d",
   "metadata": {},
   "outputs": [],
   "source": [
    "log_prob = dist.log_prob(action)"
   ]
  },
  {
   "cell_type": "code",
   "execution_count": 7,
   "id": "d40e411c-36b7-4bf0-8129-dc2c3ccaf32d",
   "metadata": {},
   "outputs": [],
   "source": [
    "from einops import pack"
   ]
  },
  {
   "cell_type": "code",
   "execution_count": null,
   "id": "58ba1979-747d-4ded-a0ad-3310f4ff57be",
   "metadata": {},
   "outputs": [],
   "source": [
    "stacked_images = pack([image_rgb, image_depth], 'h w *')"
   ]
  },
  {
   "cell_type": "markdown",
   "id": "a9f4f61c-7e30-44fe-a4a4-70b32b46a82a",
   "metadata": {},
   "source": [
    "### SW"
   ]
  },
  {
   "cell_type": "code",
   "execution_count": 8,
   "id": "b5345361-4f76-48ff-9ca7-823a484e11f5",
   "metadata": {},
   "outputs": [],
   "source": [
    "def performance(func):\n",
    "    def wrapper():\n",
    "        # time\n",
    "        func()\n",
    "        # time\n",
    "    \n",
    "    return wrapper"
   ]
  },
  {
   "cell_type": "code",
   "execution_count": null,
   "id": "1b835963-47f0-46cd-b44f-1838b51ce4de",
   "metadata": {},
   "outputs": [],
   "source": [
    "def add(a: int, b: int, c: int=3) -> str:\n",
    "    pass"
   ]
  },
  {
   "cell_type": "code",
   "execution_count": 9,
   "id": "99d73226-3cfa-46ac-84b2-d3439f6734b0",
   "metadata": {},
   "outputs": [],
   "source": [
    "from typing import Callable"
   ]
  },
  {
   "cell_type": "code",
   "execution_count": null,
   "id": "5f5392e0-0c5c-4770-b6ad-8de41ec9853b",
   "metadata": {},
   "outputs": [],
   "source": [
    "def foo(func: Callable[[int, int], str]) -> str:\n",
    "    pass"
   ]
  },
  {
   "cell_type": "code",
   "execution_count": 10,
   "id": "20291ac8-8f5c-463e-8e38-10afdeb42cef",
   "metadata": {},
   "outputs": [],
   "source": [
    "from fastcore.all import *"
   ]
  },
  {
   "cell_type": "code",
   "execution_count": null,
   "id": "cb575780-576e-4ff1-a79a-8332454c2af2",
   "metadata": {},
   "outputs": [],
   "source": [
    "@patch\n",
    "def num_items(self: Learner):\n",
    "    pass"
   ]
  },
  {
   "cell_type": "code",
   "execution_count": null,
   "id": "b3c370ad-446f-4ebc-9f1f-db366bc6172f",
   "metadata": {},
   "outputs": [],
   "source": [
    "docker-compose -f mongo.yaml up"
   ]
  },
  {
   "cell_type": "code",
   "execution_count": 11,
   "id": "32cae748-2eea-4839-97b8-ea97d9a3096d",
   "metadata": {},
   "outputs": [],
   "source": [
    "from enum import Enum, unique"
   ]
  },
  {
   "cell_type": "code",
   "execution_count": null,
   "id": "70041a97-6039-4b7d-bd92-1adb701a04ac",
   "metadata": {},
   "outputs": [],
   "source": [
    "class Model(Enum):\n",
    "    MODEL_S = \"Model S\"\n",
    "    MODEL_3 = \"Model 3\"\n",
    "    MODLE_X = \"Model X\""
   ]
  },
  {
   "cell_type": "code",
   "execution_count": null,
   "id": "068913c2-6948-454d-9829-5b3f246e0da5",
   "metadata": {},
   "outputs": [],
   "source": [
    "class MercedezBenz:\n",
    "    @staticmethod"
   ]
  },
  {
   "cell_type": "code",
   "execution_count": 12,
   "id": "3e82375f-fbbf-4b2b-bc7c-22f0f7bd5dab",
   "metadata": {},
   "outputs": [],
   "source": [
    "from fastcore.foundation import *"
   ]
  },
  {
   "cell_type": "code",
   "execution_count": null,
   "id": "b566110e-64b5-4169-ab7d-11753c06856c",
   "metadata": {},
   "outputs": [],
   "source": [
    "@docs\n",
    "class DataBlock:\n",
    "    __docs__ = "
   ]
  },
  {
   "cell_type": "code",
   "execution_count": 14,
   "id": "d2b950ac-8963-4b56-a88d-11d9312029c9",
   "metadata": {},
   "outputs": [],
   "source": [
    "from typing import Union, TypeVar"
   ]
  },
  {
   "cell_type": "code",
   "execution_count": 15,
   "id": "0263300a-6666-4f32-9c70-994d8958f55f",
   "metadata": {},
   "outputs": [],
   "source": [
    "T = TypeVar(\"T\")"
   ]
  },
  {
   "cell_type": "code",
   "execution_count": 16,
   "id": "0e2e9b1b-20c0-4a18-a113-7d48930bd31a",
   "metadata": {},
   "outputs": [],
   "source": [
    "from torch.distributions import Categorical"
   ]
  },
  {
   "cell_type": "code",
   "execution_count": null,
   "id": "413edf0d-83fc-414d-8263-f83b3b52beb4",
   "metadata": {},
   "outputs": [],
   "source": [
    "dist = Categorical(logits=raw_logits)"
   ]
  },
  {
   "cell_type": "code",
   "execution_count": null,
   "id": "0193396d-165d-448e-8ee6-f3ef41fd8203",
   "metadata": {},
   "outputs": [],
   "source": [
    "action = dist.sample()"
   ]
  },
  {
   "cell_type": "code",
   "execution_count": 17,
   "id": "5ae82cec-3437-4111-8e9e-0c77165008f8",
   "metadata": {},
   "outputs": [],
   "source": [
    "from einops import pack"
   ]
  },
  {
   "cell_type": "code",
   "execution_count": null,
   "id": "c9bd2ebe-b445-4b68-9ed7-47e262999693",
   "metadata": {},
   "outputs": [],
   "source": [
    "stacked_images = pack([image_rgb, image_depth], 'h w *')"
   ]
  },
  {
   "cell_type": "code",
   "execution_count": 18,
   "id": "092fa4e2-1473-451e-80d0-5ce9fce0fe24",
   "metadata": {},
   "outputs": [],
   "source": [
    "class Agent(nn.Module):\n",
    "    def __init__(self, n_observations, n_actions, n_hidden):\n",
    "        super().__init__()\n",
    "        self.actor_network = nn.Sequential(\n",
    "            nn.Linear(n_observations, n_hidden),\n",
    "            nn.Tanh(),\n",
    "            nn.Linear(n_hidden, n_hidden),\n",
    "            nn.Tanh(),\n",
    "            nn.Linear(n_hidden, n_actions),\n",
    "            nn.Softmax(dim=-1)\n",
    "        )\n",
    "        \n",
    "        self.critic_network = nn.Sequential(\n",
    "            nn.Linear(n_observations, n_hidden),\n",
    "            nn.Tanh(),\n",
    "            nn.Linear(n_hidden, n_hidden),\n",
    "            nn.Tanh(),\n",
    "            nn.Linear(n_hidden, 1)\n",
    "        )\n",
    "    \n",
    "    def get_action_and_value(self, x):\n",
    "        probs = self.actor_network(x)\n",
    "        \n",
    "        dist = Categorical(probs=probs)\n",
    "        action = dist.sample()\n",
    "        log_prob = dist.log_prob(action)\n",
    "        entropy = dist.entropy()\n",
    "        critic_value = self.critic_network(x)\n",
    "        \n",
    "        return action, log_prob, entropy, critic_value"
   ]
  },
  {
   "cell_type": "code",
   "execution_count": 19,
   "id": "97766da9-9289-4358-9231-ba1da52aab6c",
   "metadata": {},
   "outputs": [],
   "source": [
    "TENSOR = torch.arange(start=0, end=100, step=15)"
   ]
  },
  {
   "cell_type": "code",
   "execution_count": 20,
   "id": "d33786dc-cf27-4295-b9de-e9ab5f2714b3",
   "metadata": {},
   "outputs": [
    {
     "data": {
      "text/plain": [
       "tensor([ 0, 15, 30, 45, 60, 75, 90])"
      ]
     },
     "execution_count": 20,
     "metadata": {},
     "output_type": "execute_result"
    }
   ],
   "source": [
    "TENSOR"
   ]
  },
  {
   "cell_type": "code",
   "execution_count": 21,
   "id": "9c3957b0-ae8f-4d9b-9cae-c491d5ffe8a3",
   "metadata": {},
   "outputs": [],
   "source": [
    "def clip(ratio, epsilon):\n",
    "    return torch.clamp(ratio, min=1-epsilon, max=1+epsilon)"
   ]
  },
  {
   "cell_type": "code",
   "execution_count": null,
   "id": "c3d333c1-6d68-4fb1-bf4b-9bb1383608a3",
   "metadata": {},
   "outputs": [],
   "source": [
    "pick k highest "
   ]
  },
  {
   "cell_type": "code",
   "execution_count": null,
   "id": "8d956a56-7b72-4b82-81ee-3b53e4850037",
   "metadata": {},
   "outputs": [],
   "source": [
    "solve the wave function in sch equation\n",
    "find the correspond operator\n",
    "find the exepcted "
   ]
  },
  {
   "cell_type": "code",
   "execution_count": null,
   "id": "23a59ae8-617f-4052-8a6e-cac55c2a0da4",
   "metadata": {},
   "outputs": [],
   "source": [
    "class ShortcutProjection(nn.Module):\n",
    "    def __init__(self, in_channels, out_channels, stride):\n",
    "        super().__init__()\n",
    "        self.net = nn.Sequential(\n",
    "            nn.Conv2d(in_channels, )\n",
    "        )"
   ]
  },
  {
   "cell_type": "code",
   "execution_count": null,
   "id": "04198a1c-6314-4ebb-b479-c527d77d3060",
   "metadata": {},
   "outputs": [],
   "source": []
  }
 ],
 "metadata": {
  "kernelspec": {
   "display_name": "Python 3 (ipykernel)",
   "language": "python",
   "name": "python3"
  },
  "language_info": {
   "codemirror_mode": {
    "name": "ipython",
    "version": 3
   },
   "file_extension": ".py",
   "mimetype": "text/x-python",
   "name": "python",
   "nbconvert_exporter": "python",
   "pygments_lexer": "ipython3",
   "version": "3.8.15"
  }
 },
 "nbformat": 4,
 "nbformat_minor": 5
}
