{
 "cells": [
  {
   "cell_type": "code",
   "execution_count": 1,
   "id": "1c125002-3bc2-4a93-ba37-d8f3683c5668",
   "metadata": {},
   "outputs": [
    {
     "data": {
      "text/plain": [
       "is_string (generic function with 1 method)"
      ]
     },
     "execution_count": 1,
     "metadata": {},
     "output_type": "execute_result"
    }
   ],
   "source": [
    "is_string(x::String) = true"
   ]
  },
  {
   "cell_type": "code",
   "execution_count": 2,
   "id": "4a0856d1-605e-4a9d-b6f3-21d24aae5c87",
   "metadata": {},
   "outputs": [
    {
     "data": {
      "text/plain": [
       "is_string (generic function with 2 methods)"
      ]
     },
     "execution_count": 2,
     "metadata": {},
     "output_type": "execute_result"
    }
   ],
   "source": [
    "is_string(x) = false"
   ]
  },
  {
   "cell_type": "code",
   "execution_count": null,
   "id": "657ac9a2-913a-49da-a606-a3e60f6d3ffa",
   "metadata": {},
   "outputs": [],
   "source": [
    "clas"
   ]
  },
  {
   "cell_type": "code",
   "execution_count": 3,
   "id": "fd6525c6-9e14-4057-ae6e-664e05713fb0",
   "metadata": {},
   "outputs": [
    {
     "data": {
      "text/plain": [
       "Any[]"
      ]
     },
     "execution_count": 3,
     "metadata": {},
     "output_type": "execute_result"
    }
   ],
   "source": [
    "xs = []"
   ]
  },
  {
   "cell_type": "code",
   "execution_count": 4,
   "id": "945428ea-6025-4a7b-97bd-50213034550d",
   "metadata": {},
   "outputs": [
    {
     "data": {
      "text/plain": [
       "ReentrantLock(nothing, 0x00000000, 0x00, Base.GenericCondition{Base.Threads.SpinLock}(Base.InvasiveLinkedList{Task}(nothing, nothing), Base.Threads.SpinLock(0)), (2, 0, 4294967297))"
      ]
     },
     "execution_count": 4,
     "metadata": {},
     "output_type": "execute_result"
    }
   ],
   "source": [
    "xslock = Threads.ReentrantLock()"
   ]
  },
  {
   "cell_type": "code",
   "execution_count": 5,
   "id": "1efff458-13bd-4900-8f5b-012f16268f9b",
   "metadata": {},
   "outputs": [],
   "source": [
    "Threads.@threads for i in 1:4\n",
    "    lock(xslock) do\n",
    "        push!(xs, i)\n",
    "    end\n",
    "end"
   ]
  },
  {
   "cell_type": "code",
   "execution_count": 6,
   "id": "0b03cef2-b661-4a1c-91f3-1651e64cbe88",
   "metadata": {},
   "outputs": [
    {
     "data": {
      "text/plain": [
       "4-element Vector{Any}:\n",
       " 1\n",
       " 2\n",
       " 3\n",
       " 4"
      ]
     },
     "execution_count": 6,
     "metadata": {},
     "output_type": "execute_result"
    }
   ],
   "source": [
    "xs"
   ]
  },
  {
   "cell_type": "markdown",
   "id": "f8c94064-9645-429f-a7fc-438f67ab123e",
   "metadata": {},
   "source": [
    "### NLP"
   ]
  },
  {
   "cell_type": "code",
   "execution_count": null,
   "id": "91ca5983-aa64-40aa-bf32-5238459c33a8",
   "metadata": {},
   "outputs": [],
   "source": [
    "next_tokens = output.logits[0, -1, :][4]"
   ]
  },
  {
   "cell_type": "code",
   "execution_count": null,
   "id": "e5d428a1-69b1-4227-9e4a-b40abbb966d5",
   "metadata": {},
   "outputs": [],
   "source": [
    "difference pattern, "
   ]
  },
  {
   "cell_type": "code",
   "execution_count": 7,
   "id": "052e718a-d7a5-48d2-9d9d-afd0c9d71bb5",
   "metadata": {},
   "outputs": [
    {
     "ename": "LoadError",
     "evalue": "ArgumentError: Package torch not found in current path.\n- Run `import Pkg; Pkg.add(\"torch\")` to install the torch package.",
     "output_type": "error",
     "traceback": [
      "ArgumentError: Package torch not found in current path.\n- Run `import Pkg; Pkg.add(\"torch\")` to install the torch package.",
      "",
      "Stacktrace:",
      " [1] macro expansion",
      "   @ ./loading.jl:1163 [inlined]",
      " [2] macro expansion",
      "   @ ./lock.jl:223 [inlined]",
      " [3] require(into::Module, mod::Symbol)",
      "   @ Base ./loading.jl:1144",
      " [4] eval",
      "   @ ./boot.jl:368 [inlined]",
      " [5] include_string(mapexpr::typeof(REPL.softscope), mod::Module, code::String, filename::String)",
      "   @ Base ./loading.jl:1428"
     ]
    }
   ],
   "source": []
  },
  {
   "cell_type": "code",
   "execution_count": null,
   "id": "16ec618a-feef-46fb-b53c-80874e45b443",
   "metadata": {},
   "outputs": [],
   "source": []
  }
 ],
 "metadata": {
  "kernelspec": {
   "display_name": "Julia 1.8.3",
   "language": "julia",
   "name": "julia-1.8"
  },
  "language_info": {
   "file_extension": ".jl",
   "mimetype": "application/julia",
   "name": "julia",
   "version": "1.8.3"
  }
 },
 "nbformat": 4,
 "nbformat_minor": 5
}
