{
 "cells": [
  {
   "cell_type": "markdown",
   "id": "b8c3f409-6521-453e-a288-556afaf6453c",
   "metadata": {},
   "source": [
    "### Software"
   ]
  },
  {
   "cell_type": "code",
   "execution_count": null,
   "id": "14f497e9-5ab2-4ba5-bca7-acc4d1139501",
   "metadata": {},
   "outputs": [],
   "source": [
    "name: integratiion test\n",
    "\n",
    "on: [push]\n",
    "\n",
    "jobs:\n",
    "    check-version:\n",
    "        runs-on: ubuntu\n",
    "        steps:\n",
    "            - name: echo a string\n",
    "              run: echo \"hello world\"\n",
    "            - name: check python version\n",
    "              run: python3 --version"
   ]
  },
  {
   "cell_type": "code",
   "execution_count": 1,
   "id": "2e88d95d-8385-43c2-9072-f791814bf8a7",
   "metadata": {},
   "outputs": [],
   "source": [
    "from fastcore.meta import *"
   ]
  },
  {
   "cell_type": "code",
   "execution_count": null,
   "id": "0b085307-9adf-4479-8320-cfb878fcd319",
   "metadata": {},
   "outputs": [],
   "source": [
    "@use_kwargs_dict"
   ]
  },
  {
   "cell_type": "code",
   "execution_count": 4,
   "id": "b83b881d-360d-43f1-82da-a834ad9b752e",
   "metadata": {},
   "outputs": [],
   "source": [
    "from typing import overload, List"
   ]
  },
  {
   "cell_type": "code",
   "execution_count": 3,
   "id": "469bf264-bed8-451d-9bb4-6b692780e783",
   "metadata": {},
   "outputs": [],
   "source": [
    "@overload\n",
    "def getitem(x: str) -> str:\n",
    "    pass"
   ]
  },
  {
   "cell_type": "code",
   "execution_count": 5,
   "id": "bf91d946-498c-4738-a395-cc644f9b75d2",
   "metadata": {},
   "outputs": [],
   "source": [
    "@overload\n",
    "def getitem(x: List[int]) -> int:\n",
    "    pass"
   ]
  },
  {
   "cell_type": "code",
   "execution_count": null,
   "id": "504e529f-2880-4aa6-b407-41c04b57b604",
   "metadata": {},
   "outputs": [],
   "source": [
    "rm -rm datablock"
   ]
  },
  {
   "cell_type": "code",
   "execution_count": 6,
   "id": "b81de0e0-4f24-4fe1-abf6-823132904a8f",
   "metadata": {},
   "outputs": [],
   "source": [
    "def my_func(*, d):\n",
    "    pass"
   ]
  },
  {
   "cell_type": "code",
   "execution_count": null,
   "id": "19dbc321-a473-4be0-8760-9b760ef44a49",
   "metadata": {},
   "outputs": [],
   "source": [
    "the product of the probability of each token at each time step"
   ]
  },
  {
   "cell_type": "code",
   "execution_count": null,
   "id": "88d1fae6-fe2c-47ff-b1a0-9e15cc77eed5",
   "metadata": {},
   "outputs": [],
   "source": [
    "1, 2, 3, 3"
   ]
  },
  {
   "cell_type": "code",
   "execution_count": null,
   "id": "2e70aff2-0b77-49f7-8243-cef6a5c97db2",
   "metadata": {},
   "outputs": [],
   "source": [
    "def summary_batch(article_batches, max_context_length):\n",
    "    tokenized = tokenizer."
   ]
  },
  {
   "cell_type": "code",
   "execution_count": null,
   "id": "8ef2982c-a825-46a3-8566-d4e26fa1ae71",
   "metadata": {
    "tags": []
   },
   "outputs": [],
   "source": [
    "from datasets import load_metric"
   ]
  },
  {
   "cell_type": "code",
   "execution_count": null,
   "id": "8fb0d04b-a02b-44a1-b720-b6e37b1ec5c1",
   "metadata": {},
   "outputs": [],
   "source": [
    "bleu = load_metric(\"bleu\")"
   ]
  },
  {
   "cell_type": "code",
   "execution_count": null,
   "id": "a932bb47-5909-4b8c-b921-55907a0d5245",
   "metadata": {},
   "outputs": [],
   "source": [
    "output = bleu.compute(\n",
    "    predictions,\n",
    "    references\n",
    ")"
   ]
  },
  {
   "cell_type": "code",
   "execution_count": 7,
   "id": "cd09e906-ad95-45d4-8e4b-15234a5f64f9",
   "metadata": {},
   "outputs": [],
   "source": [
    "import torch\n",
    "from torch import nn\n",
    "import torch.nn.functional as F"
   ]
  },
  {
   "cell_type": "code",
   "execution_count": null,
   "id": "8cd60848-9e69-40ba-ad06-6da80eb2b360",
   "metadata": {
    "tags": []
   },
   "outputs": [],
   "source": [
    "start_logit = outputs.start_logit\n",
    "end_logit = outputs.end_logit"
   ]
  },
  {
   "cell_type": "code",
   "execution_count": null,
   "id": "401066fd-6d42-40ed-a2e2-185d232928f5",
   "metadata": {},
   "outputs": [],
   "source": [
    "start_idx = torch.argmax(start_logit, dim=-1)"
   ]
  },
  {
   "cell_type": "code",
   "execution_count": null,
   "id": "7e23e9cb-3d1b-4bd7-adbe-c3b33365942f",
   "metadata": {},
   "outputs": [],
   "source": [
    "end_idx = torch.argmax(end_logit, dim=-1)"
   ]
  },
  {
   "cell_type": "code",
   "execution_count": 8,
   "id": "6ff68fd8-805a-41bb-b726-ecf6479a6491",
   "metadata": {},
   "outputs": [],
   "source": [
    "from einops import reduce"
   ]
  },
  {
   "cell_type": "code",
   "execution_count": 9,
   "id": "c5a3dada-b84f-4eb8-a3d4-c86605d7ff47",
   "metadata": {},
   "outputs": [
    {
     "ename": "NameError",
     "evalue": "name 'images' is not defined",
     "output_type": "error",
     "traceback": [
      "\u001b[0;31m---------------------------------------------------------------------------\u001b[0m",
      "\u001b[0;31mNameError\u001b[0m                                 Traceback (most recent call last)",
      "Cell \u001b[0;32mIn[9], line 1\u001b[0m\n\u001b[0;32m----> 1\u001b[0m output \u001b[38;5;241m=\u001b[39m reduce(\u001b[43mimages\u001b[49m, )\n",
      "\u001b[0;31mNameError\u001b[0m: name 'images' is not defined"
     ]
    }
   ],
   "source": [
    "output = reduce(images, \"b c h w -> b h w\", reduction=\"mean\")"
   ]
  },
  {
   "cell_type": "code",
   "execution_count": 10,
   "id": "f0e78de8-6dd9-4a8c-ab90-4b56477098be",
   "metadata": {},
   "outputs": [],
   "source": [
    "from einops import repeat"
   ]
  },
  {
   "cell_type": "code",
   "execution_count": null,
   "id": "73693c20-840b-41fc-9715-04a70649cfd2",
   "metadata": {},
   "outputs": [],
   "source": [
    "output = repeat(\"h w -> h w n\", n=2)"
   ]
  },
  {
   "cell_type": "code",
   "execution_count": 11,
   "id": "45620045-e11b-4a41-9d2f-c8bc48abe16f",
   "metadata": {},
   "outputs": [],
   "source": [
    "from einops import rearrange"
   ]
  },
  {
   "cell_type": "code",
   "execution_count": null,
   "id": "6a10cb04-684a-4f55-a084-90ccffd21513",
   "metadata": {},
   "outputs": [],
   "source": [
    "result = rearrange(images, 'b c (h w ) -> b c h w')"
   ]
  },
  {
   "cell_type": "code",
   "execution_count": null,
   "id": "f8115c03-658c-4c60-aada-d43be606c33b",
   "metadata": {},
   "outputs": [],
   "source": [
    "reward + gamma * max_next_reward"
   ]
  },
  {
   "cell_type": "code",
   "execution_count": null,
   "id": "ca5eecae-07d9-4c3f-bac8-71d22e6bcecc",
   "metadata": {},
   "outputs": [],
   "source": [
    "class SelfAttention(nn.Module):\n",
    "    def __init__(self, d_head):\n",
    "        super().__init__()\n",
    "        self.d_head = d_head\n",
    "    \n",
    "    def forward(self, q, k, v):\n",
    "        k_permuted = k.permute(3, 2)\n",
    "        qk_matmul = torch.matmul(q, k_permuted) / math.sqrt(self.d_head)\n",
    "        scores = F.softmax(qk_matmul)"
   ]
  },
  {
   "cell_type": "code",
   "execution_count": 12,
   "id": "6e039d6e-f753-4ef7-9c05-60fd03fe89e1",
   "metadata": {},
   "outputs": [],
   "source": [
    "def clip(ratio, epsilon):\n",
    "    return torch.clamp(ratio, 1-epsilon, 1+epsilon)"
   ]
  },
  {
   "cell_type": "code",
   "execution_count": null,
   "id": "8306cceb-918a-40f0-a993-cfb293d47ac8",
   "metadata": {},
   "outputs": [],
   "source": [
    "take in account future "
   ]
  },
  {
   "cell_type": "code",
   "execution_count": null,
   "id": "0c384ebb-4d7d-4147-9890-5485f7027004",
   "metadata": {
    "tags": []
   },
   "outputs": [],
   "source": [
    "reduce(images, 'b c h w -> b h w', reduction=\"mean\")"
   ]
  },
  {
   "cell_type": "code",
   "execution_count": 13,
   "id": "8d17b768-3245-4194-85c3-205f3827040c",
   "metadata": {},
   "outputs": [],
   "source": [
    "class PostionalWiseFeedForward(nn.Module):\n",
    "    def __init__(self, d_model, d_ff, dropout):\n",
    "        super().__init__()\n",
    "        self.layers = nn.Sequential(\n",
    "            nn.Linear(d_model, d_ff),\n",
    "            nn.ReLU(),\n",
    "            nn.Dropout(dropout),\n",
    "            nn.Linear(d_ff, d_model)\n",
    "        )\n",
    "    \n",
    "    def forward(self, x):\n",
    "        return self.layers(x)"
   ]
  },
  {
   "cell_type": "code",
   "execution_count": null,
   "id": "052d59a5-5358-4ddd-9fa6-f73415d3bc02",
   "metadata": {},
   "outputs": [],
   "source": [
    "k words, k sentences, highest log prob"
   ]
  },
  {
   "cell_type": "code",
   "execution_count": 14,
   "id": "4d1c5001-569a-4557-84d2-6c2e2c78750d",
   "metadata": {},
   "outputs": [],
   "source": [
    "import math"
   ]
  },
  {
   "cell_type": "code",
   "execution_count": 15,
   "id": "aaa5ef01-be45-47fe-aad2-7586e3bb7559",
   "metadata": {},
   "outputs": [],
   "source": [
    "class SelfAttention(nn.Module):\n",
    "    def __init__(self, d_head):\n",
    "        super().__init__()\n",
    "        self.d_head = d_head\n",
    "    \n",
    "    def forward(self, q, k, v):\n",
    "        k_permuted = k.permute(3, 2)\n",
    "        qk_matmul = torch.matmul(q, k_permuted)\n",
    "        scores = qk_matmul / math.sqrt(self.d_head)\n",
    "        \n",
    "        attention_weights = F.softmax(scores, dim=-1)\n",
    "        output = torch.matmul(attention_weights, v)\n",
    "        \n",
    "        return output, attention_weights"
   ]
  },
  {
   "cell_type": "code",
   "execution_count": null,
   "id": "9da5cd10-0479-471c-98f3-f02f22dc5cf3",
   "metadata": {},
   "outputs": [],
   "source": [
    "class ResidualBlock(nn.Module):\n",
    "    def __init__(self, in_channels, out_channels, stride, downsample):\n",
    "        super().__init__()\n",
    "        self.conv1 = nn.Conv2d(in_channels, out_channels)\n",
    "        self.bn1 = nn.BatchNorm2d(out_channels)\n",
    "        self.act1 = nn.ReLU()\n",
    "        self.conv2 = nn.Conv2d(out_channels, in_channels)\n",
    "        self.bn2 = nn.BatchNorm2d(in_channels)\n",
    "        self.act2 = nn.ReLU()\n",
    "        \n",
    "        if downsample:\n",
    "            self.downsample = downsample\n",
    "        else:\n",
    "            self.downsample = nn.Identity()\n",
    "    \n",
    "    def forward(self, x):\n",
    "        residual = x\n",
    "        out = self.act1(self.bn1(self.conv1(x)))\n",
    "        \n",
    "        out = self.bn2(self.conv2(out))\n",
    "        \n",
    "        residual = self.downsample(residual)\n",
    "        \n",
    "        out = self.act2(out + residual)"
   ]
  },
  {
   "cell_type": "code",
   "execution_count": 17,
   "id": "2526648f-1366-466c-b8ce-88b71e5b24bd",
   "metadata": {},
   "outputs": [],
   "source": [
    "def covariance(x, y):\n",
    "    prod = (x-x.mean())(y-y.mean())\n",
    "    return prod.mean()"
   ]
  },
  {
   "cell_type": "code",
   "execution_count": 18,
   "id": "42ceb3c7-f6b4-4c64-8f13-6ca32e2f6d0b",
   "metadata": {},
   "outputs": [],
   "source": [
    "def mae(x):\n",
    "    return (x-x.mean()).abs().mean()"
   ]
  },
  {
   "cell_type": "code",
   "execution_count": null,
   "id": "1144a654-e582-4fbe-913a-31a9972c19dc",
   "metadata": {},
   "outputs": [],
   "source": [
    "5, 27, 27"
   ]
  },
  {
   "cell_type": "code",
   "execution_count": null,
   "id": "57342eea-daa7-4ca9-a664-395039ceeeed",
   "metadata": {},
   "outputs": [],
   "source": [
    "def std(x):\n",
    "    var = (x-x.mean()).pow(2).mean()\n",
    "    return var.sqrt()"
   ]
  },
  {
   "cell_type": "code",
   "execution_count": 19,
   "id": "af9319d0-d4bb-4ab8-9821-84c7fad173b7",
   "metadata": {},
   "outputs": [],
   "source": [
    "def convert_to_distribution(states):\n",
    "    q_values = q_function(states)\n",
    "    q_values = q_values.exp()\n",
    "    \n",
    "    z = q_values.sum(dim=-1)\n",
    "    \n",
    "    return q_values / z"
   ]
  },
  {
   "cell_type": "code",
   "execution_count": null,
   "id": "8ec0783b-baad-4217-8be2-1bbe92b9a0aa",
   "metadata": {},
   "outputs": [],
   "source": [
    "x.mean(dim=-1, keepdim=True)"
   ]
  },
  {
   "cell_type": "code",
   "execution_count": null,
   "id": "f5746cc3-dec1-44fb-bb8c-ce799b12575b",
   "metadata": {},
   "outputs": [],
   "source": [
    "first > 0, sigmoid -> high\n",
    "second < 2, sigmid -> low "
   ]
  }
 ],
 "metadata": {
  "kernelspec": {
   "display_name": "Python 3 (ipykernel)",
   "language": "python",
   "name": "python3"
  },
  "language_info": {
   "codemirror_mode": {
    "name": "ipython",
    "version": 3
   },
   "file_extension": ".py",
   "mimetype": "text/x-python",
   "name": "python",
   "nbconvert_exporter": "python",
   "pygments_lexer": "ipython3",
   "version": "3.8.15"
  }
 },
 "nbformat": 4,
 "nbformat_minor": 5
}
