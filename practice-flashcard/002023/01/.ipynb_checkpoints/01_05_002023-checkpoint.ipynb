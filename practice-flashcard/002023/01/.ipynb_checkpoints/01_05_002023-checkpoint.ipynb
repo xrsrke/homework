{
 "cells": [
  {
   "cell_type": "markdown",
   "id": "1f917dbf-4e0e-4212-a007-391024ed3791",
   "metadata": {},
   "source": [
    "### Python"
   ]
  },
  {
   "cell_type": "code",
   "execution_count": 1,
   "id": "56475d51-6984-442c-9d03-9e3853d4d883",
   "metadata": {},
   "outputs": [],
   "source": [
    "import pytest"
   ]
  },
  {
   "cell_type": "code",
   "execution_count": null,
   "id": "d6640819-e1ad-4bac-a11f-e8c92dd504bf",
   "metadata": {},
   "outputs": [],
   "source": [
    "with pytest.raise(ValueError):\n",
    "    raise_exception()"
   ]
  },
  {
   "cell_type": "code",
   "execution_count": 2,
   "id": "e9802deb-3cb3-4b01-b9ff-7cc80706e3c4",
   "metadata": {},
   "outputs": [],
   "source": [
    "from fastcore.all import *"
   ]
  },
  {
   "cell_type": "code",
   "execution_count": null,
   "id": "d57e5ce2-3fba-4dd7-9067-f722f469763f",
   "metadata": {},
   "outputs": [],
   "source": [
    "@patch\n",
    "def num_items(self: Learner):\n",
    "    return \"Works\""
   ]
  },
  {
   "cell_type": "code",
   "execution_count": 4,
   "id": "78b46c76-8d95-4a68-bef2-332ae2455c77",
   "metadata": {},
   "outputs": [],
   "source": [
    "from typing import overload"
   ]
  },
  {
   "cell_type": "code",
   "execution_count": 5,
   "id": "0f395141-3ae1-40a4-9f96-0f75dba93079",
   "metadata": {},
   "outputs": [],
   "source": [
    "@overload\n",
    "def get_item(x:str) -> str: pass"
   ]
  },
  {
   "cell_type": "code",
   "execution_count": null,
   "id": "e334acd4-e85e-457a-a3d6-741b46cb1fb0",
   "metadata": {},
   "outputs": [],
   "source": [
    "@overload\n",
    "def getitem(x)"
   ]
  },
  {
   "cell_type": "code",
   "execution_count": null,
   "id": "08fb9327-213f-416d-a9cc-59c0c815eddd",
   "metadata": {},
   "outputs": [],
   "source": [
    "ratings.groupby('title')['rating'].mean()"
   ]
  },
  {
   "cell_type": "code",
   "execution_count": 7,
   "id": "02394db7-6f62-4918-8a73-b23239093a10",
   "metadata": {},
   "outputs": [],
   "source": [
    "import datetime\n",
    "import time\n",
    "from abc import ABC, abstractclassmethod"
   ]
  },
  {
   "cell_type": "code",
   "execution_count": 8,
   "id": "9e85998a-1dfa-4066-b4ee-63c46c2e1e08",
   "metadata": {},
   "outputs": [],
   "source": [
    "class Observer(ABC):\n",
    "    pass"
   ]
  },
  {
   "cell_type": "code",
   "execution_count": 10,
   "id": "9aa71c26-ae8e-4a77-9662-ff9f05fc53de",
   "metadata": {},
   "outputs": [],
   "source": [
    "class ObservableObject(ABC):\n",
    "    def __init__(self):\n",
    "        self.observers = []\n",
    "    \n",
    "    def register(self, observer):\n",
    "        self.observers.append(observer)"
   ]
  },
  {
   "cell_type": "code",
   "execution_count": 9,
   "id": "2e717213-85af-464a-a54e-2a22d5fb9c63",
   "metadata": {},
   "outputs": [],
   "source": [
    "class ObservableClock(ABC):\n",
    "    pass"
   ]
  },
  {
   "cell_type": "code",
   "execution_count": 11,
   "id": "98d5eedf-a518-4da0-a353-8e937f936005",
   "metadata": {},
   "outputs": [],
   "source": [
    "from typing import overload"
   ]
  },
  {
   "cell_type": "code",
   "execution_count": 13,
   "id": "342622fd-62cd-47e2-b4e2-4f11c79c93af",
   "metadata": {},
   "outputs": [],
   "source": [
    "@overload\n",
    "def getitem(x: str) -> str:\n",
    "    pass"
   ]
  },
  {
   "cell_type": "code",
   "execution_count": 14,
   "id": "65a8b701-50d5-4659-a1e8-1301974e2707",
   "metadata": {},
   "outputs": [],
   "source": [
    "@overload\n",
    "def getitem(x: int) -> int:\n",
    "    pass"
   ]
  },
  {
   "cell_type": "markdown",
   "id": "0001affd-83ac-42a4-88d5-c3bfd193a666",
   "metadata": {},
   "source": [
    "### Deep Learning"
   ]
  },
  {
   "cell_type": "code",
   "execution_count": 17,
   "id": "2d996c2c-dd92-4eca-b809-b7e5ad0923fa",
   "metadata": {},
   "outputs": [],
   "source": [
    "import torch\n",
    "from torch import nn\n",
    "from torch.distributions import Categorical\n",
    "import torch.nn.functional as F"
   ]
  },
  {
   "cell_type": "code",
   "execution_count": null,
   "id": "b5f46f70-97bb-4e49-845a-4db8982ad998",
   "metadata": {},
   "outputs": [],
   "source": [
    "dist = Categorical(probs)"
   ]
  },
  {
   "cell_type": "code",
   "execution_count": null,
   "id": "545181be-5e2a-4c9e-b4f4-eaf8ee5cda06",
   "metadata": {},
   "outputs": [],
   "source": [
    "action = dist.sample()"
   ]
  },
  {
   "cell_type": "code",
   "execution_count": null,
   "id": "407492d6-28f4-4d95-a408-9d6ae9048ae9",
   "metadata": {},
   "outputs": [],
   "source": [
    "log_prob = dist.log_prob(action)"
   ]
  },
  {
   "cell_type": "code",
   "execution_count": null,
   "id": "0813a111-a328-402e-a57e-12b77a963bb4",
   "metadata": {},
   "outputs": [],
   "source": [
    "1, 2, 3, 3"
   ]
  },
  {
   "cell_type": "code",
   "execution_count": 16,
   "id": "61ab898e-4f42-4ad4-9faf-c47a878af6a6",
   "metadata": {},
   "outputs": [],
   "source": [
    "from einops import reduce"
   ]
  },
  {
   "cell_type": "code",
   "execution_count": null,
   "id": "f4cb8bf2-94e0-44fa-80e3-623fb209ec2d",
   "metadata": {},
   "outputs": [],
   "source": [
    "output = reduce(images, \"b c h w -> \")"
   ]
  },
  {
   "cell_type": "code",
   "execution_count": null,
   "id": "ccc183c1-f329-4d06-b041-d410db8ef27c",
   "metadata": {},
   "outputs": [],
   "source": [
    "space, precediing"
   ]
  },
  {
   "cell_type": "code",
   "execution_count": null,
   "id": "eeab70fb-3b98-4901-8a89-68a8aaefdc29",
   "metadata": {},
   "outputs": [],
   "source": [
    "output = model.generate(input_ids, max_new_tokens=10)"
   ]
  },
  {
   "cell_type": "code",
   "execution_count": null,
   "id": "a976ce6c-0376-46d4-b7ed-ab29c80eec68",
   "metadata": {},
   "outputs": [],
   "source": [
    "decoded_text = tokenizer.decode(output[0])"
   ]
  },
  {
   "cell_type": "code",
   "execution_count": null,
   "id": "f0170aba-f902-412a-a5c4-55a256553865",
   "metadata": {},
   "outputs": [],
   "source": [
    "k, k sequences, log prob"
   ]
  },
  {
   "cell_type": "code",
   "execution_count": null,
   "id": "485c5d70-eb78-4aa8-ac01-a50f923dfd73",
   "metadata": {},
   "outputs": [],
   "source": [
    "logits for each token"
   ]
  },
  {
   "cell_type": "code",
   "execution_count": null,
   "id": "d3d3b43c-2a48-402d-a542-d41156ec6c15",
   "metadata": {},
   "outputs": [],
   "source": [
    "start_ids = output.start_id"
   ]
  },
  {
   "cell_type": "code",
   "execution_count": null,
   "id": "51a282dd-d7e2-47c5-a14b-1118bd43893e",
   "metadata": {},
   "outputs": [],
   "source": [
    "end_ids = output.end_ids"
   ]
  },
  {
   "cell_type": "code",
   "execution_count": null,
   "id": "8b751d3f-7f51-4fea-8532-bdfd357f623c",
   "metadata": {},
   "outputs": [],
   "source": [
    "def tokenize(batch):\n",
    "    return tokenizer(batch[\"text\"], padding=True)"
   ]
  },
  {
   "cell_type": "code",
   "execution_count": 18,
   "id": "42810b5b-7476-4288-83b6-fda3c16576ec",
   "metadata": {},
   "outputs": [],
   "source": [
    "from einops import rearrange"
   ]
  },
  {
   "cell_type": "code",
   "execution_count": null,
   "id": "c4bf7ae1-954b-4fb2-ada2-68efac4e3bc8",
   "metadata": {},
   "outputs": [],
   "source": [
    "result = rearrange(images, 'b c (h w) -> b c h w', h=4)"
   ]
  },
  {
   "cell_type": "code",
   "execution_count": null,
   "id": "0881e2c0-e5e5-49b3-b9b8-1dc2993ac35a",
   "metadata": {},
   "outputs": [],
   "source": [
    "reduce(images, 'b c h w -> b h w', reduction=\"mean\")"
   ]
  },
  {
   "cell_type": "code",
   "execution_count": null,
   "id": "bfacfd3f-9857-4b50-be78-d02136c4bf74",
   "metadata": {
    "tags": []
   },
   "outputs": [],
   "source": [
    "class PositionWiseFeedForward(nn.Module):\n",
    "    def __init__(self, d_model, d_ff, dropout):\n",
    "        super().__init__()\n",
    "        self.layers = nn.Sequential(\n",
    "            nn.Linear\n",
    "        )"
   ]
  },
  {
   "cell_type": "code",
   "execution_count": null,
   "id": "96d7eb31-49cb-47cd-9893-1ed9f9383b5f",
   "metadata": {},
   "outputs": [],
   "source": [
    "start_logits = output.start_logits\n",
    "end_logits = output.end_logits"
   ]
  },
  {
   "cell_type": "code",
   "execution_count": null,
   "id": "113889a4-5fb6-4776-b3bd-272277d707b3",
   "metadata": {},
   "outputs": [],
   "source": [
    "start_idx = torch.argmax(start_logits, dim=-1)\n",
    "end_idx = torch.argmax(end_logits, dim=-1)"
   ]
  },
  {
   "cell_type": "code",
   "execution_count": null,
   "id": "3ecc7a92-28b7-4d44-b9c8-e4604b3a393f",
   "metadata": {},
   "outputs": [],
   "source": [
    "tokenizer.decode(input.input_ids[start_idx:end_idx+1])"
   ]
  },
  {
   "cell_type": "code",
   "execution_count": null,
   "id": "5c9a9975-2489-4cd2-b663-2535f70abef0",
   "metadata": {},
   "outputs": [],
   "source": [
    "class LMModel1(nn.Module):\n",
    "    def __init__(self, vocab_size, n_hidden):\n",
    "        self.i_h = nn.Embedding(vocab_size, n_hidden)\n",
    "    \n",
    "    def forward(self, x):\n",
    "        out = x[0, :]"
   ]
  },
  {
   "cell_type": "code",
   "execution_count": null,
   "id": "d830689e-13fc-4fda-8e29-b9840d3e8217",
   "metadata": {},
   "outputs": [],
   "source": [
    "torch.mean(x, dim=-1, keepdim=True)"
   ]
  },
  {
   "cell_type": "code",
   "execution_count": null,
   "id": "67dce395-0851-4a44-a6e6-c9078a0ac468",
   "metadata": {},
   "outputs": [],
   "source": [
    "def covariance(x, y):\n",
    "    return (x-x.mean())(y-y.mean()).mean()"
   ]
  },
  {
   "cell_type": "code",
   "execution_count": 19,
   "id": "c2a6e9bf-aed3-448b-8f66-485bc6596a46",
   "metadata": {},
   "outputs": [],
   "source": [
    "from PIL import Image"
   ]
  },
  {
   "cell_type": "code",
   "execution_count": null,
   "id": "c5f0364f-eaff-43c7-8ee5-b5a94e746fa3",
   "metadata": {},
   "outputs": [],
   "source": [
    "def load_and_resize(path, size):\n",
    "    return Image.open(path).resize(size)"
   ]
  },
  {
   "cell_type": "code",
   "execution_count": null,
   "id": "74ab16d9-13b8-4e3a-a494-11618a95008b",
   "metadata": {},
   "outputs": [],
   "source": [
    "policy shift, reward model"
   ]
  },
  {
   "cell_type": "code",
   "execution_count": 20,
   "id": "f7f174c6-f734-4a62-bc54-42a3ff3f671c",
   "metadata": {},
   "outputs": [],
   "source": [
    "class PositionWiseFeedForward(nn.Module):\n",
    "    def __init__(self, d_model, d_ff, dropout):\n",
    "        self.layers = nn.Sequential(\n",
    "            nn.Linear(d_model, d_ff),\n",
    "            nn.ReLU(),\n",
    "            nn.Dropout(dropout),\n",
    "            nn.Linear(d_ff, d_model)\n",
    "        )\n",
    "    \n",
    "    def forward(self, x):\n",
    "        return self.layers(x)"
   ]
  },
  {
   "cell_type": "code",
   "execution_count": null,
   "id": "65077db9-7bf2-485c-9038-8bb6c3118e64",
   "metadata": {},
   "outputs": [],
   "source": [
    "class LMModel(nn.Module):\n",
    "    def __init__(self, vocab_size, n_hidden):\n",
    "        super().__init__()\n",
    "        self.i_h = nn.Embedding(vocab_size, n_hidden)\n",
    "        self.h_h = nn.Linear(n_hidden, n_hidden)\n",
    "        self.h_o = nn.Linear(n_hidden, vocab_size)\n",
    "        self.h = 0.\n",
    "    \n",
    "    def forward(self, x):\n",
    "        for i in range(3):\n",
    "            self.h = self.h + self.i_h(x[:, i])\n",
    "            self.h = F.relu(self.h_h(self.h))"
   ]
  },
  {
   "cell_type": "code",
   "execution_count": null,
   "id": "3ab26d03-02f8-4dc3-9e55-f5ce73664d8a",
   "metadata": {},
   "outputs": [],
   "source": [
    "prefix > 2 + name prefix ide"
   ]
  },
  {
   "cell_type": "code",
   "execution_count": null,
   "id": "4a83ce89-3591-469b-99ab-988c93e90dfe",
   "metadata": {},
   "outputs": [],
   "source": [
    "name: integration test\n",
    "\n",
    "on: [push]\n",
    "\n",
    "jobs:\n",
    "    "
   ]
  }
 ],
 "metadata": {
  "kernelspec": {
   "display_name": "Python 3 (ipykernel)",
   "language": "python",
   "name": "python3"
  },
  "language_info": {
   "codemirror_mode": {
    "name": "ipython",
    "version": 3
   },
   "file_extension": ".py",
   "mimetype": "text/x-python",
   "name": "python",
   "nbconvert_exporter": "python",
   "pygments_lexer": "ipython3",
   "version": "3.8.15"
  }
 },
 "nbformat": 4,
 "nbformat_minor": 5
}
