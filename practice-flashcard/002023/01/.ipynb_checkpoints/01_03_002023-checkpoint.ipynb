{
 "cells": [
  {
   "cell_type": "markdown",
   "id": "c93f2b11-1f32-49e1-9080-ac6f2fae5821",
   "metadata": {},
   "source": [
    "### Python"
   ]
  },
  {
   "cell_type": "code",
   "execution_count": 1,
   "id": "e86912a0-ec83-44f4-8a00-11d0afafff96",
   "metadata": {},
   "outputs": [],
   "source": [
    "from typing import Literal"
   ]
  },
  {
   "cell_type": "code",
   "execution_count": 2,
   "id": "e59d09b3-9f98-4bef-94ba-8ae510a85a64",
   "metadata": {},
   "outputs": [],
   "source": [
    "class Eyelink:\n",
    "    def __init__(self, level: Literal[\"one\", \"two\", \"three\"]):\n",
    "        pass"
   ]
  },
  {
   "cell_type": "code",
   "execution_count": null,
   "id": "a090334f-3a8f-4df5-99e7-df02ebf766b7",
   "metadata": {},
   "outputs": [],
   "source": [
    "sympy.solve"
   ]
  },
  {
   "cell_type": "code",
   "execution_count": null,
   "id": "bd9cc127-5e6b-4a14-af64-0cfacb237c52",
   "metadata": {},
   "outputs": [],
   "source": [
    "class Rectangle:\n",
    "    def __init__(self, width, height):\n",
    "        self.width = width\n",
    "        self.height = height\n",
    "    \n",
    "    def __eq__(self):\n",
    "        pass"
   ]
  },
  {
   "cell_type": "code",
   "execution_count": 3,
   "id": "90d4daa1-79e0-4553-bb77-d693a8d4c2eb",
   "metadata": {},
   "outputs": [],
   "source": [
    "from typing import Optional"
   ]
  },
  {
   "cell_type": "code",
   "execution_count": 4,
   "id": "21c77fa0-349d-4d79-a4e5-87798658ef45",
   "metadata": {},
   "outputs": [],
   "source": [
    "def create_a_paper(color: Optional[str]) -> Optional[str]:\n",
    "    pass"
   ]
  },
  {
   "cell_type": "code",
   "execution_count": 5,
   "id": "47891e73-aeca-4bfc-a83d-5bf520217362",
   "metadata": {},
   "outputs": [],
   "source": [
    "import torch\n",
    "from torch import nn\n",
    "import torch.nn.functional as F"
   ]
  },
  {
   "cell_type": "code",
   "execution_count": null,
   "id": "2f173868-11ab-4e53-b2f7-afabd64a85ad",
   "metadata": {},
   "outputs": [],
   "source": [
    "torch.gather(x, dim=1, indices)"
   ]
  },
  {
   "cell_type": "code",
   "execution_count": null,
   "id": "33b460da-cff5-4993-b5e2-4284c82d0475",
   "metadata": {},
   "outputs": [],
   "source": [
    "output = model.generate(input_ids)"
   ]
  },
  {
   "cell_type": "code",
   "execution_count": null,
   "id": "ff1eb572-4b8e-4fe6-a4a0-a1093e316ddd",
   "metadata": {},
   "outputs": [],
   "source": [
    "decoded_text = tokenizer.decode(output)"
   ]
  },
  {
   "cell_type": "code",
   "execution_count": null,
   "id": "34406067-f8a9-4f2d-99ac-4153817e5fb5",
   "metadata": {},
   "outputs": [],
   "source": [
    "next_tokens = output[0, -1, :]"
   ]
  },
  {
   "cell_type": "code",
   "execution_count": null,
   "id": "1f8a0a3c-e3fc-4f81-884c-cd2b8010d9b3",
   "metadata": {},
   "outputs": [],
   "source": [
    "next_token_probs = F.softmax(next_tokens, dim=-1)"
   ]
  },
  {
   "cell_type": "code",
   "execution_count": null,
   "id": "b57929af-8760-423e-a1e3-e934c109aca1",
   "metadata": {},
   "outputs": [],
   "source": [
    "sorted_ids = torch.argmax(next_token_probs, dim=-1)"
   ]
  },
  {
   "cell_type": "code",
   "execution_count": null,
   "id": "dfc8312d-9d00-4b79-af5f-629b82138151",
   "metadata": {},
   "outputs": [],
   "source": [
    "increase -> flatten -> low same as high -> low precise"
   ]
  },
  {
   "cell_type": "markdown",
   "id": "e8d4a125-aa82-455b-a84a-9cfaf5941d1b",
   "metadata": {},
   "source": [
    "select the token with highest probability -> append it to the end -> repeat the process"
   ]
  },
  {
   "cell_type": "code",
   "execution_count": null,
   "id": "249a8257-a0ca-4757-9d60-074b53d59b4d",
   "metadata": {},
   "outputs": [],
   "source": [
    "reach max length or end token"
   ]
  },
  {
   "cell_type": "code",
   "execution_count": null,
   "id": "4b0e9d5c-296b-4886-8c8d-e846d666380b",
   "metadata": {},
   "outputs": [],
   "source": [
    "guide context for what to generate"
   ]
  },
  {
   "cell_type": "code",
   "execution_count": null,
   "id": "d074c5df-e571-48c5-83a4-c0d2383bcb1b",
   "metadata": {},
   "outputs": [],
   "source": [
    "output = model.generate(input_ids, max_new_token=20)"
   ]
  },
  {
   "cell_type": "code",
   "execution_count": null,
   "id": "f1642bdc-a03b-46e6-9636-7c9d1c2d27db",
   "metadata": {},
   "outputs": [],
   "source": [
    "decoded_text = tokenizer.decode(output)"
   ]
  },
  {
   "cell_type": "code",
   "execution_count": null,
   "id": "7cc0a675-94e2-4047-96ed-fd60abfa126b",
   "metadata": {},
   "outputs": [],
   "source": [
    "select first token -> append -> repeat the process"
   ]
  },
  {
   "cell_type": "code",
   "execution_count": null,
   "id": "a8a58e4e-84d0-4fe4-b297-d9a7d7822306",
   "metadata": {},
   "outputs": [],
   "source": [
    "the difference between predicted return and (target return)"
   ]
  },
  {
   "cell_type": "code",
   "execution_count": null,
   "id": "3672ba73-8632-45b3-a48a-1e7850a9cd49",
   "metadata": {},
   "outputs": [],
   "source": [
    "s3 = torch.tensor([0, 0, 1])"
   ]
  },
  {
   "cell_type": "code",
   "execution_count": null,
   "id": "3671450e-79e3-4e24-ac40-3f21ecb3bca4",
   "metadata": {},
   "outputs": [],
   "source": [
    "3,3 x 3, 1"
   ]
  },
  {
   "cell_type": "code",
   "execution_count": null,
   "id": "1b5708b3-6f2d-418e-9268-7ae036d41e6a",
   "metadata": {},
   "outputs": [],
   "source": [
    "probs = transition_matrix @ s3"
   ]
  },
  {
   "cell_type": "code",
   "execution_count": null,
   "id": "9d47966d-7eff-4048-b205-2e7b56a456f4",
   "metadata": {},
   "outputs": [],
   "source": [
    "for step in range(10):\n",
    "    next_state, reward, truncated, done = env.step(env.action_space.sample())"
   ]
  },
  {
   "cell_type": "code",
   "execution_count": null,
   "id": "2cd32dfe-063b-431e-93f9-33c0beb18c50",
   "metadata": {},
   "outputs": [],
   "source": [
    "env.action_space.sample()"
   ]
  },
  {
   "cell_type": "code",
   "execution_count": null,
   "id": "2e176370-339d-4634-866e-ce31cee2b450",
   "metadata": {},
   "outputs": [],
   "source": [
    "ration_function = current_policy_probs / prev_policy_probs"
   ]
  },
  {
   "cell_type": "code",
   "execution_count": 6,
   "id": "c67f96b1-8e9f-4c28-aedb-c4ca3ee04561",
   "metadata": {},
   "outputs": [],
   "source": [
    "def clip(ratio, epsilon):\n",
    "    return torch.clamp(ratio, min=1-epsilon, max=1+epsilon)"
   ]
  },
  {
   "cell_type": "code",
   "execution_count": 7,
   "id": "ffd388a8-1940-4191-90e5-e9dc1538c2a9",
   "metadata": {},
   "outputs": [],
   "source": [
    "import gymnasium as gym"
   ]
  },
  {
   "cell_type": "code",
   "execution_count": null,
   "id": "49256f66-c506-451f-adb4-c55d3b94ec50",
   "metadata": {},
   "outputs": [],
   "source": [
    "envs = gym.vector.SyncVectorEnv([\n",
    "    lambda: gym.make(\"CartPole-v1\"),\n",
    "    lambda: gym.make(\"CartPole-v1\"),\n",
    "    lambda: gym.make(\"CartPole-v1\")\n",
    "])"
   ]
  },
  {
   "cell_type": "code",
   "execution_count": null,
   "id": "740e0207-7b45-4829-943a-d769caef8d23",
   "metadata": {},
   "outputs": [],
   "source": [
    "def compute_clipped_surrogate_objective(ratio, advantage_estimate, epsilon):\n",
    "    clipped_ratio = torch.clamp(ratio, min=1-epsilon, max=1+epsilon)\n",
    "    \n",
    "    x = ratio * advantage_estimate\n",
    "    y = clipped_ratio * advantage_estimate\n",
    "    \n",
    "    return torch.min(x, y).mean()"
   ]
  },
  {
   "cell_type": "code",
   "execution_count": null,
   "id": "8802ce86-9a43-4954-8ba9-b21c3dbe6ad9",
   "metadata": {},
   "outputs": [],
   "source": [
    "- make n steps prediction\n",
    "- make decision\n",
    "- minimize the loss"
   ]
  },
  {
   "cell_type": "code",
   "execution_count": 8,
   "id": "e3312558-5f61-48cb-851e-5faad0191aa1",
   "metadata": {},
   "outputs": [],
   "source": [
    "from torch.distributions import Categorical"
   ]
  },
  {
   "cell_type": "code",
   "execution_count": null,
   "id": "bf7aa706-6908-41b7-9ab3-ef6473705d33",
   "metadata": {},
   "outputs": [],
   "source": [
    "cat = Categorical(pmf)"
   ]
  },
  {
   "cell_type": "code",
   "execution_count": null,
   "id": "40b82161-4a7f-42b4-a41f-4b23bf44060e",
   "metadata": {},
   "outputs": [],
   "source": [
    "samples = cat.sample(10)"
   ]
  },
  {
   "cell_type": "code",
   "execution_count": 9,
   "id": "b752156d-74f6-461d-b4ef-a96439f9a344",
   "metadata": {},
   "outputs": [],
   "source": [
    "import multiprocessing"
   ]
  },
  {
   "cell_type": "code",
   "execution_count": null,
   "id": "3a272730-298d-4828-845f-99c8b2b1f29a",
   "metadata": {},
   "outputs": [],
   "source": [
    "with multiprocessing.Pool(4) as pool:\n",
    "    result = pool.map(sum, numbers)"
   ]
  },
  {
   "cell_type": "markdown",
   "id": "d347e0bf-fca0-4984-9e40-da0b8c829025",
   "metadata": {},
   "source": [
    "encourate exploration -> increase entropy -> minus entropy -> larger entropy smaller loss"
   ]
  },
  {
   "cell_type": "code",
   "execution_count": 10,
   "id": "c1b7cfa6-bbef-427e-9a49-1deffff8ffda",
   "metadata": {},
   "outputs": [],
   "source": [
    "def convert_to_distribution(states):\n",
    "    q_values = q_function(states)\n",
    "    q_values = q_values.exp()\n",
    "    \n",
    "    z = q_values.sum()\n",
    "    \n",
    "    return q_values / z"
   ]
  },
  {
   "cell_type": "code",
   "execution_count": null,
   "id": "a544487f-a619-43a7-9237-bc3a44e358bd",
   "metadata": {},
   "outputs": [],
   "source": [
    "env.observation_space"
   ]
  },
  {
   "cell_type": "code",
   "execution_count": 11,
   "id": "5b517dbd-4074-4913-a2ed-de58ade9627e",
   "metadata": {},
   "outputs": [],
   "source": [
    "def calculate_loss_of_soft_v(states, action, action_probs):\n",
    "    predicted_v = v_function(states)\n",
    "    \n",
    "    predicted_q = q_function(states, actions)\n",
    "    entropy = action_probs.log()\n",
    "    \n",
    "    v_target = (predicted_q - entropy).mean()\n",
    "    \n",
    "    mean_squared_error = ((predicted_v - v_target)**2) * 0.5\n",
    "    \n",
    "    return mean_squared_error.mean()"
   ]
  },
  {
   "cell_type": "code",
   "execution_count": null,
   "id": "e250b4a1-d0e9-43c9-b356-958b3e8722dd",
   "metadata": {},
   "outputs": [],
   "source": [
    "three neural networks, replay buffer, mcts"
   ]
  },
  {
   "cell_type": "code",
   "execution_count": null,
   "id": "8a97f1ce-7fe6-42a0-b1b3-e0f341d9c982",
   "metadata": {},
   "outputs": [],
   "source": [
    "update new policy to much different from the old policy"
   ]
  },
  {
   "cell_type": "code",
   "execution_count": null,
   "id": "10f88722-ce84-4463-b102-13967ba22ddd",
   "metadata": {},
   "outputs": [],
   "source": [
    "representation, dynamics, prediction"
   ]
  },
  {
   "cell_type": "code",
   "execution_count": null,
   "id": "e48eabaa-b524-4c79-b89b-f2ee4c5e9eda",
   "metadata": {},
   "outputs": [],
   "source": [
    "with multiprocessing.Pool(4) as pool:\n",
    "    result = pool.map(sum, numbers)"
   ]
  },
  {
   "cell_type": "code",
   "execution_count": null,
   "id": "21efbc6f-3128-4c4e-a7eb-e4af87b8b2e9",
   "metadata": {},
   "outputs": [],
   "source": [
    "tanh, sigmoid"
   ]
  },
  {
   "cell_type": "code",
   "execution_count": null,
   "id": "565d9430-bde8-4b21-983e-4364fa288a3e",
   "metadata": {},
   "outputs": [],
   "source": [
    "training -> pass benchmarks -> deploy"
   ]
  },
  {
   "cell_type": "code",
   "execution_count": null,
   "id": "61affab1-9122-4872-8045-e12442c1aa47",
   "metadata": {},
   "outputs": [],
   "source": [
    "nn.Parameter()"
   ]
  },
  {
   "cell_type": "code",
   "execution_count": null,
   "id": "418d7730-e999-477a-83f6-2360206dcc19",
   "metadata": {},
   "outputs": [],
   "source": [
    "z_mean, z_log_var"
   ]
  },
  {
   "cell_type": "code",
   "execution_count": null,
   "id": "934665ff-c0ba-4ea5-8824-a5d62003a226",
   "metadata": {},
   "outputs": [],
   "source": [
    "convert two embeddings to a common dim space"
   ]
  },
  {
   "cell_type": "code",
   "execution_count": 12,
   "id": "1c3bdc66-04e0-4068-9835-6878633598b0",
   "metadata": {},
   "outputs": [],
   "source": [
    "from einops import pack"
   ]
  },
  {
   "cell_type": "code",
   "execution_count": null,
   "id": "608005b8-5735-407a-ae5e-e64308addffe",
   "metadata": {},
   "outputs": [],
   "source": [
    "stacked_images = pack([image_rgb, image_depth], 'h w -> h w *')"
   ]
  },
  {
   "cell_type": "code",
   "execution_count": null,
   "id": "ffbd5e71-d16a-4a87-8761-4bc8c6598d84",
   "metadata": {},
   "outputs": [],
   "source": [
    "def mean_absolute_error(preds, targs):\n",
    "    return (preds-targs).abs().mean()"
   ]
  },
  {
   "cell_type": "code",
   "execution_count": null,
   "id": "f3d091c8-179f-4db1-aaed-36c1252fccdb",
   "metadata": {},
   "outputs": [],
   "source": [
    "def sigmoid(x):\n",
    "    return 1 / 1 + -x.exp()"
   ]
  },
  {
   "cell_type": "code",
   "execution_count": null,
   "id": "dc27f5fc-c53b-40d6-9403-0b3cc63991e1",
   "metadata": {},
   "outputs": [],
   "source": [
    "class BatchNorm(nn.Module):\n",
    "    def __init__(self, mom, eps):\n",
    "        super().__init__()\n",
    "        self.eps = eps\n",
    "        self.mom = mom\n",
    "        \n",
    "        self.adds = nn.Parameter(torch.zeros(1))\n",
    "        self.mults = nn.Parameter(torch.ones(1))\n",
    "        \n",
    "        self.register_buffer('means', torch.zeros(1))\n",
    "        self.register_buffer('vars', torch.ones(1))\n",
    "    \n",
    "    def update_stats(x):\n",
    "        mean, var = x.mean(dim=-1), x.var(dim=-1)\n",
    "        \n",
    "        self.means.lerp_(mean, self.mom)\n",
    "        self.vars.lerp_(var, self.mom)\n",
    "        \n",
    "        return mean, var\n",
    "    \n",
    "    def forward(self, x):\n",
    "        with torch.no_grad():\n",
    "            mean, var = self.update_stats(x)\n",
    "        \n",
    "        # normalized\n",
    "        x = x-mean / (var + self.eps).sqrt()\n",
    "        \n",
    "        # scacled and shift\n",
    "        x = self.mults * x + self.adds\n",
    "        \n",
    "        return x"
   ]
  },
  {
   "cell_type": "code",
   "execution_count": null,
   "id": "2a08a717-d08e-4a5b-bbc7-05307c44f5e8",
   "metadata": {},
   "outputs": [],
   "source": [
    "l1.weight"
   ]
  },
  {
   "cell_type": "code",
   "execution_count": null,
   "id": "5d006e22-75a6-4872-a6e2-b133405a8f78",
   "metadata": {},
   "outputs": [],
   "source": [
    "stack attention weights from all heads"
   ]
  },
  {
   "cell_type": "code",
   "execution_count": null,
   "id": "afb22029-222a-4687-a626-fe522d83023a",
   "metadata": {},
   "outputs": [],
   "source": [
    "stacked_images = pack([image_rgb, image_depth], 'h w *')"
   ]
  },
  {
   "cell_type": "code",
   "execution_count": 13,
   "id": "cb76bdf2-f454-498e-80d6-e460d6a426a7",
   "metadata": {},
   "outputs": [],
   "source": [
    "from einops import repeat"
   ]
  },
  {
   "cell_type": "code",
   "execution_count": null,
   "id": "dc396fc6-22d2-496b-9fe7-9da7ec214cc3",
   "metadata": {},
   "outputs": [],
   "source": [
    "repeat(x, 'h w -> h w n', n=2)"
   ]
  },
  {
   "cell_type": "code",
   "execution_count": 14,
   "id": "97304bf3-59ea-4283-8f10-fbf2c6311175",
   "metadata": {},
   "outputs": [],
   "source": [
    "def create_mask(size):\n",
    "    return torch.ones((1, size, size)).triu()"
   ]
  },
  {
   "cell_type": "code",
   "execution_count": 15,
   "id": "9aa9effb-df2f-4f8b-bc5d-40dff0f844ab",
   "metadata": {},
   "outputs": [
    {
     "data": {
      "text/plain": [
       "tensor([[[1., 1., 1., 1.],\n",
       "         [0., 1., 1., 1.],\n",
       "         [0., 0., 1., 1.],\n",
       "         [0., 0., 0., 1.]]])"
      ]
     },
     "execution_count": 15,
     "metadata": {},
     "output_type": "execute_result"
    }
   ],
   "source": [
    "create_mask(4)"
   ]
  },
  {
   "cell_type": "code",
   "execution_count": 16,
   "id": "fa8fca01-6d6a-4601-9301-d4adff7b2f8c",
   "metadata": {},
   "outputs": [],
   "source": [
    "from einops import rearrange"
   ]
  },
  {
   "cell_type": "code",
   "execution_count": null,
   "id": "0cfef317-aa2e-4c2f-b387-dba7ed47f9a2",
   "metadata": {},
   "outputs": [],
   "source": [
    "rearrange(images, '... 1 -> ...')"
   ]
  },
  {
   "cell_type": "code",
   "execution_count": null,
   "id": "5b3d4b75-96f1-456a-8d89-8993f0b731f3",
   "metadata": {},
   "outputs": [],
   "source": [
    "there are 77 ids, each ids corresponds to an vector 768-dim"
   ]
  },
  {
   "cell_type": "code",
   "execution_count": 17,
   "id": "96623053-d3f6-430f-bb0f-cd6bbcbe2da0",
   "metadata": {},
   "outputs": [],
   "source": [
    "def std(x):\n",
    "    variance = (x-x.mean()).pow(2)\n",
    "    return variance.sqrt()"
   ]
  },
  {
   "cell_type": "code",
   "execution_count": null,
   "id": "17341426-7f96-4c9c-8d6f-c7030695a3c1",
   "metadata": {},
   "outputs": [],
   "source": [
    "x-mean / var + eps"
   ]
  },
  {
   "cell_type": "code",
   "execution_count": null,
   "id": "5a964f3e-7bbe-4dc3-8f00-939fc16521dd",
   "metadata": {},
   "outputs": [],
   "source": [
    "l1.weight.grad"
   ]
  },
  {
   "cell_type": "code",
   "execution_count": 18,
   "id": "974490d2-3122-4856-81d2-7123e6c21489",
   "metadata": {},
   "outputs": [],
   "source": [
    "from einops import repeat"
   ]
  },
  {
   "cell_type": "code",
   "execution_count": null,
   "id": "2c398058-c62f-4dce-b026-d651351dff39",
   "metadata": {},
   "outputs": [],
   "source": [
    "repeat(x, 'h w -> h w n', n=2)"
   ]
  },
  {
   "cell_type": "code",
   "execution_count": null,
   "id": "c6dde853-a774-4e74-b56e-f3b94188b69f",
   "metadata": {},
   "outputs": [],
   "source": [
    "dim / n_head"
   ]
  },
  {
   "cell_type": "code",
   "execution_count": null,
   "id": "41a1f417-b7ad-4f15-9176-6a7750231d48",
   "metadata": {},
   "outputs": [],
   "source": [
    "noise = torch.randn(1, 3, latent_height, latent_width)"
   ]
  },
  {
   "cell_type": "code",
   "execution_count": 19,
   "id": "9621ff9a-1fdf-4780-99e5-c822c7ea7c36",
   "metadata": {},
   "outputs": [],
   "source": [
    "class SelfAttention(nn.Module):\n",
    "    def __init__(self, d_head):\n",
    "        super().__init__()\n",
    "        self.d_head = d_head\n",
    "    \n",
    "    def forward(self, q, k, v, mask=None):\n",
    "        k_permuted = k.permute(3, 2)\n",
    "        scores = torch.matmul(q, k_permuted)\n",
    "        \n",
    "        if mask is not None:\n",
    "            scores.masked_fill(mask == 0, -1e9)\n",
    "        \n",
    "        attention_weights = F.softmax(scores, dim=-1)\n",
    "        output = torch.matmul(attention_weights, v)\n",
    "        \n",
    "        return output, attention_weights"
   ]
  },
  {
   "cell_type": "code",
   "execution_count": null,
   "id": "c10871a9-0b78-465c-9e71-745fa3c5c428",
   "metadata": {},
   "outputs": [],
   "source": [
    "def mae(x):\n",
    "    return (x-x.mean()).abs().mean()"
   ]
  },
  {
   "cell_type": "code",
   "execution_count": 20,
   "id": "76a7a5d9-5dad-4800-a148-2e3192c5dcee",
   "metadata": {},
   "outputs": [],
   "source": [
    "class LayerNorm(nn.Module):\n",
    "    def __init__(self, features, eps):\n",
    "        super().__init__()\n",
    "        self.eps = eps\n",
    "        self.adds = nn.Parameter(torch.zeros(features))\n",
    "        self.mults = nn.Parameter(torch.ones(features))\n",
    "    \n",
    "    def forward(self, x):\n",
    "        mean = x.mean(dim=-1, keepdim=True)\n",
    "        var = x.var(dim=-1, keepdim=True)\n",
    "        \n",
    "        x = x-mean / (var + self.eps).sqrt()\n",
    "        \n",
    "        x = self.mults * x + self.adds\n",
    "        \n",
    "        return x"
   ]
  },
  {
   "cell_type": "code",
   "execution_count": 21,
   "id": "011fa673-8456-482a-9e70-a7cbbc0dbd8f",
   "metadata": {},
   "outputs": [],
   "source": [
    "from PIL import Image"
   ]
  },
  {
   "cell_type": "code",
   "execution_count": null,
   "id": "5d942026-b0a7-44b1-98aa-e2915fafac22",
   "metadata": {},
   "outputs": [],
   "source": [
    "seven_tensors = [tensor(Image.open(x)) for x in seven_tensors]"
   ]
  },
  {
   "cell_type": "code",
   "execution_count": 25,
   "id": "1fba0f9c-fe51-4fde-810a-970e27e9c305",
   "metadata": {},
   "outputs": [],
   "source": [
    "class ListContainer(list):\n",
    "    def __init__(self, items):\n",
    "        self.items = items\n",
    "    \n",
    "    def __getitem__(self, ids):\n",
    "        if isinstance(ids[0], bool):\n",
    "            return self.items[ids]"
   ]
  },
  {
   "cell_type": "code",
   "execution_count": 26,
   "id": "c5cafbb2-d447-47b6-af58-949ce0db667f",
   "metadata": {},
   "outputs": [],
   "source": [
    "l = ListContainer([1, 2, 3, 4])"
   ]
  },
  {
   "cell_type": "code",
   "execution_count": 27,
   "id": "876831ba-121f-48ed-ab23-dfd1fdf4c1e8",
   "metadata": {},
   "outputs": [
    {
     "ename": "TypeError",
     "evalue": "list indices must be integers or slices, not list",
     "output_type": "error",
     "traceback": [
      "\u001b[0;31m---------------------------------------------------------------------------\u001b[0m",
      "\u001b[0;31mTypeError\u001b[0m                                 Traceback (most recent call last)",
      "Cell \u001b[0;32mIn[27], line 1\u001b[0m\n\u001b[0;32m----> 1\u001b[0m \u001b[43ml\u001b[49m\u001b[43m[\u001b[49m\u001b[43m[\u001b[49m\u001b[38;5;28;43;01mTrue\u001b[39;49;00m\u001b[43m,\u001b[49m\u001b[43m \u001b[49m\u001b[38;5;28;43;01mFalse\u001b[39;49;00m\u001b[43m,\u001b[49m\u001b[43m \u001b[49m\u001b[38;5;28;43;01mTrue\u001b[39;49;00m\u001b[43m,\u001b[49m\u001b[43m \u001b[49m\u001b[38;5;28;43;01mFalse\u001b[39;49;00m\u001b[43m]\u001b[49m\u001b[43m]\u001b[49m\n",
      "Cell \u001b[0;32mIn[25], line 7\u001b[0m, in \u001b[0;36mListContainer.__getitem__\u001b[0;34m(self, ids)\u001b[0m\n\u001b[1;32m      5\u001b[0m \u001b[38;5;28;01mdef\u001b[39;00m \u001b[38;5;21m__getitem__\u001b[39m(\u001b[38;5;28mself\u001b[39m, ids):\n\u001b[1;32m      6\u001b[0m     \u001b[38;5;28;01mif\u001b[39;00m \u001b[38;5;28misinstance\u001b[39m(ids[\u001b[38;5;241m0\u001b[39m], \u001b[38;5;28mbool\u001b[39m):\n\u001b[0;32m----> 7\u001b[0m         \u001b[38;5;28;01mreturn\u001b[39;00m \u001b[38;5;28;43mself\u001b[39;49m\u001b[38;5;241;43m.\u001b[39;49m\u001b[43mitems\u001b[49m\u001b[43m[\u001b[49m\u001b[43mids\u001b[49m\u001b[43m]\u001b[49m\n",
      "\u001b[0;31mTypeError\u001b[0m: list indices must be integers or slices, not list"
     ]
    }
   ],
   "source": [
    "l[[True, False, True, False]]"
   ]
  },
  {
   "cell_type": "code",
   "execution_count": null,
   "id": "f1bec217-d414-4709-a268-9b28894a6493",
   "metadata": {},
   "outputs": [],
   "source": [
    "class DotProduct(nn.Module):\n",
    "    def __init__(self):\n",
    "        pass\n",
    "    \n",
    "    def forward(self, x):\n",
    "        users = self.user_factors(x[0, :])\n",
    "        movies = self.movie_factors(x[1, :])\n",
    "        \n",
    "        return (users*movies).sum(dim=-1)"
   ]
  },
  {
   "cell_type": "code",
   "execution_count": 30,
   "id": "cf85dfb5-2578-438e-aca2-e8c4b1d48abf",
   "metadata": {},
   "outputs": [],
   "source": [
    "from fastai.vision.all import *"
   ]
  },
  {
   "cell_type": "code",
   "execution_count": 31,
   "id": "d3258f64-6d80-4b1f-a9a0-57342a7825a6",
   "metadata": {},
   "outputs": [
    {
     "ename": "NameError",
     "evalue": "name 'get_x' is not defined",
     "output_type": "error",
     "traceback": [
      "\u001b[0;31m---------------------------------------------------------------------------\u001b[0m",
      "\u001b[0;31mNameError\u001b[0m                                 Traceback (most recent call last)",
      "Cell \u001b[0;32mIn[31], line 2\u001b[0m\n\u001b[1;32m      1\u001b[0m dblock \u001b[38;5;241m=\u001b[39m DataBlock(blocks\u001b[38;5;241m=\u001b[39m[ImageBlock, MultiCategoryBlock],\n\u001b[0;32m----> 2\u001b[0m                    get_x \u001b[38;5;241m=\u001b[39m \u001b[43mget_x\u001b[49m,\n\u001b[1;32m      3\u001b[0m                    get_y \u001b[38;5;241m=\u001b[39m get_y)\n",
      "\u001b[0;31mNameError\u001b[0m: name 'get_x' is not defined"
     ]
    }
   ],
   "source": [
    "dblock = DataBlock(blocks=[ImageBlock, MultiCategoryBlock],\n",
    "                   get_x = get_x,\n",
    "                   get_y = get_y)"
   ]
  },
  {
   "cell_type": "code",
   "execution_count": null,
   "id": "be2ffb48-78d2-4124-99d3-a9e44b2ec4de",
   "metadata": {},
   "outputs": [],
   "source": [
    "def frobenius_norm(x):\n",
    "    return x.pow(2).sum().sqrt()"
   ]
  },
  {
   "cell_type": "code",
   "execution_count": null,
   "id": "ef11fa7c-83bd-43b5-8d1b-f03705ceb34e",
   "metadata": {},
   "outputs": [],
   "source": [
    "didn't v"
   ]
  },
  {
   "cell_type": "code",
   "execution_count": null,
   "id": "f701f2d2-3552-4dde-9160-fd4264120bc5",
   "metadata": {},
   "outputs": [],
   "source": [
    "will not have past"
   ]
  }
 ],
 "metadata": {
  "kernelspec": {
   "display_name": "Python 3 (ipykernel)",
   "language": "python",
   "name": "python3"
  },
  "language_info": {
   "codemirror_mode": {
    "name": "ipython",
    "version": 3
   },
   "file_extension": ".py",
   "mimetype": "text/x-python",
   "name": "python",
   "nbconvert_exporter": "python",
   "pygments_lexer": "ipython3",
   "version": "3.8.15"
  }
 },
 "nbformat": 4,
 "nbformat_minor": 5
}
