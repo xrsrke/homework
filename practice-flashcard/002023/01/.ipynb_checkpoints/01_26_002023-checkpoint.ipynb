{
 "cells": [
  {
   "cell_type": "markdown",
   "id": "ff5c2892",
   "metadata": {},
   "source": [
    "### Science"
   ]
  },
  {
   "cell_type": "markdown",
   "id": "a87a34b4",
   "metadata": {},
   "source": [
    "Elastic, "
   ]
  },
  {
   "cell_type": "code",
   "execution_count": 2,
   "id": "2cb38305",
   "metadata": {},
   "outputs": [],
   "source": [
    "import sympy as sym\n",
    "import sympy.physics.units as units"
   ]
  },
  {
   "cell_type": "code",
   "execution_count": 3,
   "id": "defd213a",
   "metadata": {},
   "outputs": [],
   "source": [
    "m, v_1, v_2 = sym.symbols('m, v_1, v_2')"
   ]
  },
  {
   "cell_type": "code",
   "execution_count": 4,
   "id": "26c57c9e",
   "metadata": {},
   "outputs": [
    {
     "data": {
      "text/latex": [
       "$\\displaystyle m$"
      ],
      "text/plain": [
       "m"
      ]
     },
     "execution_count": 4,
     "metadata": {},
     "output_type": "execute_result"
    }
   ],
   "source": [
    "m"
   ]
  },
  {
   "cell_type": "code",
   "execution_count": 5,
   "id": "1a4fcd1a",
   "metadata": {},
   "outputs": [
    {
     "data": {
      "text/latex": [
       "$\\displaystyle v_{1}$"
      ],
      "text/plain": [
       "v_1"
      ]
     },
     "execution_count": 5,
     "metadata": {},
     "output_type": "execute_result"
    }
   ],
   "source": [
    "v_1"
   ]
  },
  {
   "cell_type": "code",
   "execution_count": 8,
   "id": "17082fdf",
   "metadata": {},
   "outputs": [],
   "source": [
    "p_1 = m*v_1"
   ]
  },
  {
   "cell_type": "code",
   "execution_count": 9,
   "id": "8f81d352",
   "metadata": {},
   "outputs": [],
   "source": [
    "p_2 = m*v_2"
   ]
  },
  {
   "cell_type": "code",
   "execution_count": 12,
   "id": "b0f46bce",
   "metadata": {},
   "outputs": [],
   "source": [
    "I = p_2 - p_1"
   ]
  },
  {
   "cell_type": "code",
   "execution_count": 13,
   "id": "09608be1",
   "metadata": {},
   "outputs": [
    {
     "data": {
      "text/latex": [
       "$\\displaystyle - m v_{1} + m v_{2}$"
      ],
      "text/plain": [
       "-m*v_1 + m*v_2"
      ]
     },
     "execution_count": 13,
     "metadata": {},
     "output_type": "execute_result"
    }
   ],
   "source": [
    "I"
   ]
  },
  {
   "cell_type": "code",
   "execution_count": 14,
   "id": "94bd56ae",
   "metadata": {},
   "outputs": [
    {
     "data": {
      "text/latex": [
       "$\\displaystyle \\frac{20.0 \\text{kg} \\text{m}}{\\text{s}}$"
      ],
      "text/plain": [
       "20.0*kilogram*meter/second"
      ]
     },
     "execution_count": 14,
     "metadata": {},
     "output_type": "execute_result"
    }
   ],
   "source": [
    "I.subs({\n",
    "    m: 0.40*units.kilogram,\n",
    "    v_1: -30*units.meter/units.second,\n",
    "    v_2: 20*units.meter/units.second\n",
    "})"
   ]
  },
  {
   "cell_type": "code",
   "execution_count": 15,
   "id": "e0deff77",
   "metadata": {},
   "outputs": [],
   "source": [
    "m, v_1, g, h_2 = sym.symbols('m, v_1, g, h_2')"
   ]
  },
  {
   "cell_type": "code",
   "execution_count": 19,
   "id": "3e1e85fc",
   "metadata": {},
   "outputs": [],
   "source": [
    "k_1 = 0.5*m*v_1**2"
   ]
  },
  {
   "cell_type": "code",
   "execution_count": 20,
   "id": "4fc436d7",
   "metadata": {},
   "outputs": [
    {
     "data": {
      "text/latex": [
       "$\\displaystyle 0.5 m v_{1}^{2}$"
      ],
      "text/plain": [
       "0.5*m*v_1**2"
      ]
     },
     "execution_count": 20,
     "metadata": {},
     "output_type": "execute_result"
    }
   ],
   "source": [
    "k_1"
   ]
  },
  {
   "cell_type": "code",
   "execution_count": 21,
   "id": "5a0ef3b4",
   "metadata": {},
   "outputs": [],
   "source": [
    "u_2 = m*g*h_2"
   ]
  },
  {
   "cell_type": "code",
   "execution_count": 22,
   "id": "bfa6d50d",
   "metadata": {},
   "outputs": [],
   "source": [
    "eq = sym.Eq(k_1, u_2)"
   ]
  },
  {
   "cell_type": "code",
   "execution_count": 23,
   "id": "f99c8513",
   "metadata": {},
   "outputs": [
    {
     "data": {
      "text/latex": [
       "$\\displaystyle 0.5 m v_{1}^{2} = g h_{2} m$"
      ],
      "text/plain": [
       "Eq(0.5*m*v_1**2, g*h_2*m)"
      ]
     },
     "execution_count": 23,
     "metadata": {},
     "output_type": "execute_result"
    }
   ],
   "source": [
    "eq"
   ]
  },
  {
   "cell_type": "code",
   "execution_count": 24,
   "id": "822d2ecf",
   "metadata": {},
   "outputs": [],
   "source": [
    "h_2_val = sym.solve(eq, h_2)"
   ]
  },
  {
   "cell_type": "code",
   "execution_count": 26,
   "id": "692a4bd7",
   "metadata": {},
   "outputs": [
    {
     "data": {
      "text/latex": [
       "$\\displaystyle \\frac{0.5 v_{1}^{2}}{g}$"
      ],
      "text/plain": [
       "0.5*v_1**2/g"
      ]
     },
     "execution_count": 26,
     "metadata": {},
     "output_type": "execute_result"
    }
   ],
   "source": [
    "h_2_val[0]"
   ]
  },
  {
   "cell_type": "code",
   "execution_count": null,
   "id": "39fd0f6d",
   "metadata": {},
   "outputs": [],
   "source": [
    "h_2_val[0].subs({\n",
    "    g: \n",
    "})"
   ]
  },
  {
   "cell_type": "markdown",
   "id": "508831ed",
   "metadata": {},
   "source": [
    "### AI"
   ]
  },
  {
   "cell_type": "code",
   "execution_count": 27,
   "id": "a76365a1",
   "metadata": {},
   "outputs": [],
   "source": [
    "import torch\n",
    "from torch import nn\n",
    "import torch.nn.functional as F"
   ]
  },
  {
   "cell_type": "code",
   "execution_count": 28,
   "id": "c2decf97",
   "metadata": {},
   "outputs": [],
   "source": [
    "import numpy as np\n",
    "from gym import Env\n",
    "from gym.spaces import Discrete, Box"
   ]
  },
  {
   "cell_type": "code",
   "execution_count": 29,
   "id": "4e1e30fc",
   "metadata": {},
   "outputs": [],
   "source": [
    "class ShowerEnv(Env):\n",
    "    def __init__(self):\n",
    "        super().__init__()\n",
    "        self.action_space = Discrete(3)\n",
    "        self.observation_space = Box(\n",
    "            low=np.array([0]),\n",
    "            high=np.array([100])\n",
    "        )\n",
    "    \n",
    "    def step(self, action):\n",
    "        pass\n",
    "    \n",
    "    def reset(self):\n",
    "        pass"
   ]
  },
  {
   "cell_type": "code",
   "execution_count": 30,
   "id": "bc1603ec",
   "metadata": {},
   "outputs": [],
   "source": [
    "def nll(probs, targs):\n",
    "    idx_preds = torch.argmax(probs, dim=-1)\n",
    "    return -(idx_preds[]).float().mean()"
   ]
  },
  {
   "cell_type": "code",
   "execution_count": 31,
   "id": "99c52b87",
   "metadata": {},
   "outputs": [],
   "source": [
    "from einops import rearrange"
   ]
  },
  {
   "cell_type": "code",
   "execution_count": null,
   "id": "ec47f34f",
   "metadata": {},
   "outputs": [],
   "source": [
    "result = rearrange(images, 'b c h w -> b c w h')"
   ]
  },
  {
   "cell_type": "code",
   "execution_count": null,
   "id": "6016befb",
   "metadata": {},
   "outputs": [],
   "source": [
    "def compute_loss(model, xb, yb):\n",
    "    logits = model(xb)\n",
    "    \n",
    "    logits = rearrange(logits, 'batch_size seq_len n_embd -> (batch_size seq_len) n_embd')\n",
    "    yb = rearrange(yb, 'batch_size seq_len -> (batch_size seq_len)')\n",
    "    \n",
    "    loss = F.cross_entropy(\n",
    "        input=F.log_softmax(logits),\n",
    "        target=F.softmax(yb)\n",
    "    )\n",
    "    \n",
    "    return loss"
   ]
  },
  {
   "cell_type": "code",
   "execution_count": null,
   "id": "0149ce84",
   "metadata": {},
   "outputs": [],
   "source": [
    "class ShowerEnv(Env):\n",
    "    def __init__(self):\n",
    "        super().__init__()\n",
    "        self.action_space = Discrete(3)\n",
    "        self.observation_space = Box(\n",
    "            low=np.array([0]),\n",
    "            high=np.array([100])\n",
    "        )\n",
    "    \n",
    "    def step(self, action):\n",
    "        self.state = self.state - action\n",
    "        self.shower_length -= 1\n",
    "        \n",
    "        reward = 1 if self.state >= 37 and self.state <= 39 else 0\n",
    "        done = True if self.shower_length == 0 else False\n",
    "        info = {}\n",
    "\n",
    "        return self.state, reward, done, info\n",
    "    \n",
    "    def reset(self):\n",
    "        self.state = 20\n",
    "        self.shower_length = 60\n",
    "        \n",
    "        return self.state"
   ]
  },
  {
   "cell_type": "code",
   "execution_count": null,
   "id": "18e56e08",
   "metadata": {},
   "outputs": [],
   "source": [
    "from transformers import AutoModel"
   ]
  },
  {
   "cell_type": "code",
   "execution_count": 32,
   "id": "e2b8e9d4",
   "metadata": {},
   "outputs": [],
   "source": [
    "class MultiHeadAttention(nn.Module):\n",
    "    def __init__(self, attention, d_model, n_head):\n",
    "        super().__init__()\n",
    "        \n",
    "        self.d_head = d_model // n_head\n",
    "        self.attention = attention\n",
    "        \n",
    "        self.n_head, d_model = n_head, d_model\n",
    "        \n",
    "        self.to_q = nn.Linear(d_model, self.d_head * n_head)\n",
    "        self.to_k = nn.Linear(d_model, self.d_head * n_head)\n",
    "        self.to_v = nn.Linear(d_model, self.d_head * n_head)\n",
    "        \n",
    "        self.mh_linear = nn.Linear(self.d_head * n_head, d_model)\n",
    "    \n",
    "    def split_heads(self, x):\n",
    "        batch_size, seq_len, d_model = x.size()\n",
    "        \n",
    "        return x.view(batch_size, self.n_head, seq_len, self.d_head)\n",
    "    \n",
    "    def concat(self, x):\n",
    "        batch_size, n_head, seq_len, d_head = x.size()\n",
    "        \n",
    "        return x.view(batch_size, seq_len, self.d_model)\n",
    "    \n",
    "    def forward(self, pre_q, pre_k, pre_v):\n",
    "        q, k, v = self.to_q(pre_q), self.to_k(pre_k), self.to_v(pre_v)\n",
    "        \n",
    "        # split heads\n",
    "        q, k, v = self.split_heads(q), self.split_heads(k), self.split_heads(v)\n",
    "        \n",
    "        attention_output, attention_weights = self.attention(q, k, v)\n",
    "        \n",
    "        # concat\n",
    "        output = self.concat(attention_outpute)\n",
    "        output = self.mh_linear(output)\n",
    "        \n",
    "        return output, attention_weights"
   ]
  },
  {
   "cell_type": "code",
   "execution_count": 33,
   "id": "eb5f888d",
   "metadata": {},
   "outputs": [],
   "source": [
    "def nll(probs, targs):\n",
    "    return -probs[targ.shape(-1), targs].mean()"
   ]
  },
  {
   "cell_type": "code",
   "execution_count": null,
   "id": "a5f0ad54",
   "metadata": {},
   "outputs": [],
   "source": [
    "def accuracy(probs, targs):\n",
    "    idx_preds = torch.argmax(probs, dim=-1)\n",
    "    return (idx_preds == targs).mean()"
   ]
  },
  {
   "cell_type": "code",
   "execution_count": null,
   "id": "3d52c8e2",
   "metadata": {},
   "outputs": [],
   "source": [
    "discounted_returns = discounted_return_at_each_time_step(rewards)"
   ]
  },
  {
   "cell_type": "code",
   "execution_count": null,
   "id": "ea57acee",
   "metadata": {},
   "outputs": [],
   "source": [
    "total_loss = 0\n",
    "\n",
    "for discount_return, prob in zip(discount_returns, )"
   ]
  },
  {
   "cell_type": "code",
   "execution_count": null,
   "id": "641ca509",
   "metadata": {},
   "outputs": [],
   "source": [
    "in!= out, stride!=1"
   ]
  },
  {
   "cell_type": "code",
   "execution_count": null,
   "id": "73a681d8",
   "metadata": {},
   "outputs": [],
   "source": [
    "idx = torch.where(dsets.train[0][1], 1.)[0]"
   ]
  },
  {
   "cell_type": "code",
   "execution_count": null,
   "id": "e1ec056f",
   "metadata": {},
   "outputs": [],
   "source": [
    "label = vocabs[idx]"
   ]
  },
  {
   "cell_type": "code",
   "execution_count": null,
   "id": "4912c3bc",
   "metadata": {},
   "outputs": [],
   "source": [
    "returns = calculate_the_discounted_return_at_each_timestep(rewards)"
   ]
  },
  {
   "cell_type": "code",
   "execution_count": null,
   "id": "c2a86313",
   "metadata": {},
   "outputs": [],
   "source": [
    "total_loss = 0"
   ]
  },
  {
   "cell_type": "code",
   "execution_count": null,
   "id": "664d5b97",
   "metadata": {},
   "outputs": [],
   "source": [
    "for discounted_return, prob in zip(returns, selected_action_probs):\n",
    "    total_loss += discounted_return*-prob.log()"
   ]
  },
  {
   "cell_type": "code",
   "execution_count": null,
   "id": "b925a928",
   "metadata": {},
   "outputs": [],
   "source": [
    "loss = total_loss / len(rewards)"
   ]
  },
  {
   "cell_type": "markdown",
   "id": "25468140",
   "metadata": {},
   "source": [
    "### SW"
   ]
  },
  {
   "cell_type": "code",
   "execution_count": 34,
   "id": "32c1ec80",
   "metadata": {},
   "outputs": [],
   "source": [
    "from fastcore.meta import *"
   ]
  },
  {
   "cell_type": "code",
   "execution_count": 35,
   "id": "70dda31c",
   "metadata": {},
   "outputs": [],
   "source": [
    "class DataLoader:\n",
    "    pass"
   ]
  },
  {
   "cell_type": "code",
   "execution_count": 36,
   "id": "c26ddf4c",
   "metadata": {},
   "outputs": [],
   "source": [
    "@funcs_kwargs\n",
    "class DataLoader:\n",
    "    _methods = ['before_batch', 'after_batch']"
   ]
  },
  {
   "cell_type": "code",
   "execution_count": 37,
   "id": "53b0bf72",
   "metadata": {},
   "outputs": [],
   "source": [
    "class Vehicle:\n",
    "    def __init__(self):\n",
    "        self._color = None\n",
    "    \n",
    "    @property\n",
    "    def color(self):\n",
    "        return self._color\n",
    "    \n",
    "    @color.setter\n",
    "    def color(self, value):\n",
    "        self._color = value"
   ]
  },
  {
   "cell_type": "code",
   "execution_count": null,
   "id": "d5b0efee",
   "metadata": {},
   "outputs": [],
   "source": [
    "def performance(func):\n",
    "    time = 0\n",
    "    \n",
    "    time = end"
   ]
  },
  {
   "cell_type": "code",
   "execution_count": 38,
   "id": "d99552b3",
   "metadata": {},
   "outputs": [],
   "source": [
    "from functools import reduce"
   ]
  },
  {
   "cell_type": "code",
   "execution_count": null,
   "id": "3b7d839d",
   "metadata": {},
   "outputs": [],
   "source": [
    "def multiply(a, b): return a*b"
   ]
  },
  {
   "cell_type": "code",
   "execution_count": null,
   "id": "1006ade9",
   "metadata": {},
   "outputs": [],
   "source": [
    "reduce(multiply, numbers)"
   ]
  }
 ],
 "metadata": {
  "kernelspec": {
   "display_name": "Python 3 (ipykernel)",
   "language": "python",
   "name": "python3"
  },
  "language_info": {
   "codemirror_mode": {
    "name": "ipython",
    "version": 3
   },
   "file_extension": ".py",
   "mimetype": "text/x-python",
   "name": "python",
   "nbconvert_exporter": "python",
   "pygments_lexer": "ipython3",
   "version": "3.8.15"
  }
 },
 "nbformat": 4,
 "nbformat_minor": 5
}
