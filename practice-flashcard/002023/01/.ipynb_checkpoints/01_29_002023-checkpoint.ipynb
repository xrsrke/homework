{
 "cells": [
  {
   "cell_type": "markdown",
   "id": "9abfd34c-afe4-403c-aa4e-ef7f87899371",
   "metadata": {},
   "source": [
    "### Sci"
   ]
  },
  {
   "cell_type": "code",
   "execution_count": null,
   "id": "305d9e5a-f736-4c68-9f13-d8bd956e3f60",
   "metadata": {},
   "outputs": [],
   "source": [
    "- two uncertainty principles\n",
    "- quantization of angular momentum\n",
    "- quantization of action"
   ]
  },
  {
   "cell_type": "code",
   "execution_count": null,
   "id": "c5153a14-033b-4823-872d-4ff02285ef17",
   "metadata": {},
   "outputs": [],
   "source": [
    "prefix-1 prefix-2-ide "
   ]
  },
  {
   "cell_type": "markdown",
   "id": "549908b9-fe22-4147-8a93-367f56d037c4",
   "metadata": {},
   "source": [
    "### SW"
   ]
  },
  {
   "cell_type": "code",
   "execution_count": 1,
   "id": "bff33fbc-b52e-4bb4-837e-25a2ca618850",
   "metadata": {},
   "outputs": [],
   "source": [
    "def extra_second(func):\n",
    "    def wrapper(greeting):\n",
    "        print(\"******\")\n",
    "        func(greeting)\n",
    "        print(\"******\")\n",
    "    \n",
    "    return wrapper"
   ]
  },
  {
   "cell_type": "markdown",
   "id": "e9747197-5f6a-4c0e-ad5b-aa0e8472d727",
   "metadata": {},
   "source": [
    "### AI"
   ]
  },
  {
   "cell_type": "code",
   "execution_count": 2,
   "id": "678c3fc5-5034-4003-977d-0cc6509e383b",
   "metadata": {},
   "outputs": [],
   "source": [
    "import torch\n",
    "from torch import nn\n",
    "import torch.nn.functional as F"
   ]
  },
  {
   "cell_type": "code",
   "execution_count": null,
   "id": "b0083d67-3354-4ed9-818f-3afb5b53c940",
   "metadata": {},
   "outputs": [],
   "source": [
    "def generate_transitions(model, env):\n",
    "    states = []\n",
    "    \n",
    "    state = env.reset()\n",
    "    done = False\n",
    "    \n",
    "    while done:\n",
    "        action = model(state)\n",
    "        state, reward, done, truncated, info = env.step(action)\n",
    "        \n",
    "        if done: break\n",
    "    \n",
    "    return states"
   ]
  },
  {
   "cell_type": "code",
   "execution_count": null,
   "id": "f8a30c40-64eb-465e-b1ba-64d1747f3545",
   "metadata": {},
   "outputs": [],
   "source": [
    "6, 3, 60, 60"
   ]
  },
  {
   "cell_type": "code",
   "execution_count": null,
   "id": "8ca799ba-58bb-4ac6-896c-42ea51e23c56",
   "metadata": {},
   "outputs": [],
   "source": [
    "truncation, spliding window, splitting sequences"
   ]
  },
  {
   "cell_type": "code",
   "execution_count": null,
   "id": "6a97af2d-71e3-4335-8578-db0c0ccc370f",
   "metadata": {},
   "outputs": [],
   "source": []
  },
  {
   "cell_type": "code",
   "execution_count": null,
   "id": "950dcc4a-ba01-4977-a9bf-23372243db4b",
   "metadata": {},
   "outputs": [],
   "source": [
    "output = model(input_ids=input_ids)"
   ]
  },
  {
   "cell_type": "code",
   "execution_count": null,
   "id": "571eb506-ca98-4f14-b4a0-0b82adbc5848",
   "metadata": {},
   "outputs": [],
   "source": [
    "logits = output.logits"
   ]
  },
  {
   "cell_type": "code",
   "execution_count": null,
   "id": "2b089fb4-a723-42dc-8e9d-863f9ab80514",
   "metadata": {},
   "outputs": [],
   "source": [
    "probs = F.softmax(logits, dim=-1)"
   ]
  },
  {
   "cell_type": "code",
   "execution_count": null,
   "id": "12ac4728-58b3-415e-a674-2605ec963ac3",
   "metadata": {},
   "outputs": [],
   "source": [
    "idx_prob = pro"
   ]
  },
  {
   "cell_type": "code",
   "execution_count": null,
   "id": "41eb4568-6a27-44cd-8946-ed5eda8ccbf6",
   "metadata": {},
   "outputs": [],
   "source": [
    "output = model.generate(input_ids, max_new_tokens=20)"
   ]
  },
  {
   "cell_type": "code",
   "execution_count": null,
   "id": "362bae3b-5387-4faa-9625-e63b45bf7bc6",
   "metadata": {},
   "outputs": [],
   "source": [
    "decoded_text = tokenizer.decode(output[0])"
   ]
  },
  {
   "cell_type": "code",
   "execution_count": null,
   "id": "7284f1f2-65d1-4203-9dab-8dbabafd171a",
   "metadata": {},
   "outputs": [],
   "source": [
    "out of vocab, "
   ]
  },
  {
   "cell_type": "code",
   "execution_count": null,
   "id": "858aec03-6808-46c2-aca5-3eba2d849ccf",
   "metadata": {
    "tags": []
   },
   "outputs": [],
   "source": [
    "def generate_transition(model, env):\n",
    "    state = env.reset()\n",
    "    states = []\n",
    "    \n",
    "    done = False\n",
    "    while done:\n",
    "        pred_rewards = model(state)\n",
    "        action_idx = torch.argmax(pred_rewards)\n",
    "        \n",
    "        state, reward, done, truncated, info = env.step(action_idx)\n",
    "        \n",
    "        if done:\n",
    "            break\n",
    "        else:\n",
    "            states.append(state)"
   ]
  },
  {
   "cell_type": "code",
   "execution_count": 3,
   "id": "93d284a2-3707-471a-adaa-d315e500c792",
   "metadata": {},
   "outputs": [],
   "source": [
    "import gymnasium as gym"
   ]
  },
  {
   "cell_type": "code",
   "execution_count": null,
   "id": "52a4517d-3ed5-4a6d-8bf7-247e548a5399",
   "metadata": {},
   "outputs": [],
   "source": [
    "envs = gym.vector.AsyncVectorEnv([\n",
    "    lambda: gym.make(\"Cartpole-v1\"),\n",
    "    lambda: gym.make(\"Cartpole-v1\"),\n",
    "    lambda: gym.make(\"Cartpole-v1\"),\n",
    "])"
   ]
  },
  {
   "cell_type": "code",
   "execution_count": null,
   "id": "5c9debcd-8a9c-4e63-9840-6fba99016e54",
   "metadata": {},
   "outputs": [],
   "source": [
    "model(output_hidden_states=True)"
   ]
  },
  {
   "cell_type": "code",
   "execution_count": 4,
   "id": "ff07b09d-2cee-4c66-9252-14ae2cc01cce",
   "metadata": {},
   "outputs": [],
   "source": [
    "from torch.utils.data import DataLoader"
   ]
  },
  {
   "cell_type": "code",
   "execution_count": null,
   "id": "185fb11d-1200-4063-9ba1-e85a5cd086a1",
   "metadata": {},
   "outputs": [],
   "source": [
    "class DataLoader:\n",
    "    def __init__(self, dataset, bs):\n",
    "        self.dataset = dataset\n",
    "        self.bs = bs\n",
    "    \n",
    "    def __iter__(self):\n",
    "        for xx in self.d"
   ]
  }
 ],
 "metadata": {
  "kernelspec": {
   "display_name": "Python 3 (ipykernel)",
   "language": "python",
   "name": "python3"
  },
  "language_info": {
   "codemirror_mode": {
    "name": "ipython",
    "version": 3
   },
   "file_extension": ".py",
   "mimetype": "text/x-python",
   "name": "python",
   "nbconvert_exporter": "python",
   "pygments_lexer": "ipython3",
   "version": "3.8.15"
  }
 },
 "nbformat": 4,
 "nbformat_minor": 5
}
