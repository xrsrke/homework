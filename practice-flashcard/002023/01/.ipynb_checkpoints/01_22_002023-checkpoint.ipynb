{
 "cells": [
  {
   "cell_type": "markdown",
   "id": "bc7cb716",
   "metadata": {},
   "source": [
    "### Physics"
   ]
  },
  {
   "cell_type": "code",
   "execution_count": 59,
   "id": "4875f178",
   "metadata": {},
   "outputs": [],
   "source": [
    "import sympy as sym\n",
    "import sympy.physics.units as units"
   ]
  },
  {
   "cell_type": "code",
   "execution_count": 2,
   "id": "96999983",
   "metadata": {},
   "outputs": [],
   "source": [
    "import pint\n",
    "ureg = pint.UnitRegistry()"
   ]
  },
  {
   "cell_type": "code",
   "execution_count": 14,
   "id": "8734b302",
   "metadata": {},
   "outputs": [],
   "source": [
    "m, v_1, g, h_2 = sym.symbols('m, v_1, g, h_2')"
   ]
  },
  {
   "cell_type": "code",
   "execution_count": 15,
   "id": "41e3b279",
   "metadata": {},
   "outputs": [
    {
     "data": {
      "text/latex": [
       "$\\displaystyle m$"
      ],
      "text/plain": [
       "m"
      ]
     },
     "execution_count": 15,
     "metadata": {},
     "output_type": "execute_result"
    }
   ],
   "source": [
    "m"
   ]
  },
  {
   "cell_type": "code",
   "execution_count": 16,
   "id": "a0d7e7dd",
   "metadata": {},
   "outputs": [],
   "source": [
    "k_1 = 0.5*m*v_1**2"
   ]
  },
  {
   "cell_type": "code",
   "execution_count": 17,
   "id": "67ccb199",
   "metadata": {},
   "outputs": [
    {
     "data": {
      "text/latex": [
       "$\\displaystyle 0.5 m v_{1}^{2}$"
      ],
      "text/plain": [
       "0.5*m*v_1**2"
      ]
     },
     "execution_count": 17,
     "metadata": {},
     "output_type": "execute_result"
    }
   ],
   "source": [
    "k_1"
   ]
  },
  {
   "cell_type": "code",
   "execution_count": 18,
   "id": "eb8db0a6",
   "metadata": {},
   "outputs": [],
   "source": [
    "u_2 = m*g*h_2"
   ]
  },
  {
   "cell_type": "code",
   "execution_count": 19,
   "id": "25a66ebc",
   "metadata": {},
   "outputs": [
    {
     "data": {
      "text/latex": [
       "$\\displaystyle g h_{2} m$"
      ],
      "text/plain": [
       "g*h_2*m"
      ]
     },
     "execution_count": 19,
     "metadata": {},
     "output_type": "execute_result"
    }
   ],
   "source": [
    "u_2"
   ]
  },
  {
   "cell_type": "code",
   "execution_count": 21,
   "id": "41fa2009",
   "metadata": {},
   "outputs": [],
   "source": [
    "eq = sym.Eq(k_1, u_2)"
   ]
  },
  {
   "cell_type": "code",
   "execution_count": 22,
   "id": "2b9c9f23",
   "metadata": {},
   "outputs": [
    {
     "data": {
      "text/latex": [
       "$\\displaystyle 0.5 m v_{1}^{2} = g h_{2} m$"
      ],
      "text/plain": [
       "Eq(0.5*m*v_1**2, g*h_2*m)"
      ]
     },
     "execution_count": 22,
     "metadata": {},
     "output_type": "execute_result"
    }
   ],
   "source": [
    "eq"
   ]
  },
  {
   "cell_type": "code",
   "execution_count": 23,
   "id": "75ea4c91",
   "metadata": {},
   "outputs": [],
   "source": [
    "h_2_val = sym.solve(eq, h_2)"
   ]
  },
  {
   "cell_type": "code",
   "execution_count": 31,
   "id": "1179798d",
   "metadata": {},
   "outputs": [
    {
     "data": {
      "text/latex": [
       "$\\displaystyle \\frac{0.5 v_{1}^{2}}{g}$"
      ],
      "text/plain": [
       "0.5*v_1**2/g"
      ]
     },
     "execution_count": 31,
     "metadata": {},
     "output_type": "execute_result"
    }
   ],
   "source": [
    "h_2_val[0]"
   ]
  },
  {
   "cell_type": "code",
   "execution_count": 35,
   "id": "adc853f7",
   "metadata": {},
   "outputs": [
    {
     "data": {
      "text/latex": [
       "$\\displaystyle 20.4081632653061 \\text{m}$"
      ],
      "text/plain": [
       "20.4081632653061*meter"
      ]
     },
     "execution_count": 35,
     "metadata": {},
     "output_type": "execute_result"
    }
   ],
   "source": [
    "h_2_val[0].subs({\n",
    "    v_1: 20 * u.meter / u.second,\n",
    "    g: 9.8 * u.meter / u.second**2\n",
    "})"
   ]
  },
  {
   "cell_type": "code",
   "execution_count": 37,
   "id": "0ff6cbfc",
   "metadata": {},
   "outputs": [],
   "source": [
    "q_1, q_2, r, k = sym.symbols('q_1, q_2, r, k')"
   ]
  },
  {
   "cell_type": "code",
   "execution_count": 38,
   "id": "1d712281",
   "metadata": {},
   "outputs": [],
   "source": [
    "eq = k * (abs(q_1 * q_2) / r**2)"
   ]
  },
  {
   "cell_type": "code",
   "execution_count": 39,
   "id": "227ea882",
   "metadata": {},
   "outputs": [
    {
     "data": {
      "text/latex": [
       "$\\displaystyle \\frac{k \\left|{q_{1} q_{2}}\\right|}{r^{2}}$"
      ],
      "text/plain": [
       "k*Abs(q_1*q_2)/r**2"
      ]
     },
     "execution_count": 39,
     "metadata": {},
     "output_type": "execute_result"
    }
   ],
   "source": [
    "eq"
   ]
  },
  {
   "cell_type": "code",
   "execution_count": 42,
   "id": "1057d686",
   "metadata": {},
   "outputs": [
    {
     "data": {
      "text/latex": [
       "$\\displaystyle \\frac{2.08333333333333 \\cdot 10^{-16} k \\text{C}^{2}}{\\text{cm}^{2}}$"
      ],
      "text/plain": [
       "2.08333333333333e-16*coulomb**2*k/centimeter**2"
      ]
     },
     "execution_count": 42,
     "metadata": {},
     "output_type": "execute_result"
    }
   ],
   "source": [
    "eq.subs({\n",
    "    q_1: 25*1e-9*u.coulomb,\n",
    "    q_2: -75*1e-9*u.coulomb,\n",
    "    r: 3.0*u.centimeter,\n",
    "})"
   ]
  },
  {
   "cell_type": "code",
   "execution_count": 43,
   "id": "cc4da516",
   "metadata": {},
   "outputs": [],
   "source": [
    "m, v_1, g, h_2 = sym.symbols('m, v_1, g, h_2')"
   ]
  },
  {
   "cell_type": "code",
   "execution_count": 45,
   "id": "ae045376",
   "metadata": {},
   "outputs": [],
   "source": [
    "k_1 = 0.5*m*v_1**2"
   ]
  },
  {
   "cell_type": "code",
   "execution_count": 46,
   "id": "08881048",
   "metadata": {},
   "outputs": [
    {
     "data": {
      "text/latex": [
       "$\\displaystyle 0.5 m v_{1}^{2}$"
      ],
      "text/plain": [
       "0.5*m*v_1**2"
      ]
     },
     "execution_count": 46,
     "metadata": {},
     "output_type": "execute_result"
    }
   ],
   "source": [
    "k_1"
   ]
  },
  {
   "cell_type": "code",
   "execution_count": 50,
   "id": "35cdd5bc",
   "metadata": {},
   "outputs": [],
   "source": [
    "u_2 = m*g*h_2"
   ]
  },
  {
   "cell_type": "code",
   "execution_count": 51,
   "id": "db4d491d",
   "metadata": {},
   "outputs": [
    {
     "data": {
      "text/latex": [
       "$\\displaystyle g h_{2} m$"
      ],
      "text/plain": [
       "g*h_2*m"
      ]
     },
     "execution_count": 51,
     "metadata": {},
     "output_type": "execute_result"
    }
   ],
   "source": [
    "u_2"
   ]
  },
  {
   "cell_type": "code",
   "execution_count": 52,
   "id": "d01372a9",
   "metadata": {},
   "outputs": [],
   "source": [
    "eq = sym.Eq(k_1, u_2)"
   ]
  },
  {
   "cell_type": "code",
   "execution_count": 53,
   "id": "e757dffa",
   "metadata": {
    "scrolled": true
   },
   "outputs": [
    {
     "data": {
      "text/latex": [
       "$\\displaystyle 0.5 m v_{1}^{2} = g h_{2} m$"
      ],
      "text/plain": [
       "Eq(0.5*m*v_1**2, g*h_2*m)"
      ]
     },
     "execution_count": 53,
     "metadata": {},
     "output_type": "execute_result"
    }
   ],
   "source": [
    "eq"
   ]
  },
  {
   "cell_type": "code",
   "execution_count": 54,
   "id": "6eab3952",
   "metadata": {},
   "outputs": [],
   "source": [
    "h_2_val = sym.solve(eq, h_2)"
   ]
  },
  {
   "cell_type": "code",
   "execution_count": 56,
   "id": "e8d71f52",
   "metadata": {},
   "outputs": [
    {
     "data": {
      "text/latex": [
       "$\\displaystyle \\frac{0.5 v_{1}^{2}}{g}$"
      ],
      "text/plain": [
       "0.5*v_1**2/g"
      ]
     },
     "execution_count": 56,
     "metadata": {},
     "output_type": "execute_result"
    }
   ],
   "source": [
    "h_2_val[0]"
   ]
  },
  {
   "cell_type": "code",
   "execution_count": 61,
   "id": "62f717c9",
   "metadata": {},
   "outputs": [
    {
     "data": {
      "text/latex": [
       "$\\displaystyle 20.4081632653061 \\text{m}$"
      ],
      "text/plain": [
       "20.4081632653061*meter"
      ]
     },
     "execution_count": 61,
     "metadata": {},
     "output_type": "execute_result"
    }
   ],
   "source": [
    "h_2_val[0].subs({\n",
    "    v_1: 20*units.meter/units.second,\n",
    "    g: 9.8*units.meter/units.second**2\n",
    "})"
   ]
  },
  {
   "cell_type": "code",
   "execution_count": null,
   "id": "0a6bff80",
   "metadata": {},
   "outputs": [],
   "source": [
    "u.me"
   ]
  },
  {
   "cell_type": "markdown",
   "id": "da10def7",
   "metadata": {},
   "source": [
    "- normal force: the table exerts on the apple\n",
    "- friction force: the table surface oppose an opposite force to the direcion of the apple\n",
    "- gravity: the apple on earth, under earth's gravitational field\n",
    "- applied force: the force your hand applied to the apple\n",
    "- air resistance:"
   ]
  },
  {
   "cell_type": "markdown",
   "id": "d2c19ad7",
   "metadata": {},
   "source": [
    "### SW"
   ]
  },
  {
   "cell_type": "code",
   "execution_count": null,
   "id": "732c988c",
   "metadata": {},
   "outputs": [],
   "source": [
    "version: 0.01\n",
    "\n",
    "services:\n",
    "    mongodb:\n",
    "        image: mongo\n",
    "        port:\n",
    "            - 27017:27017"
   ]
  },
  {
   "cell_type": "code",
   "execution_count": null,
   "id": "46177889",
   "metadata": {},
   "outputs": [],
   "source": [
    "name: integration test\n",
    "    \n",
    "on: [push]\n",
    "    \n",
    "jobs:\n",
    "    check-version:\n",
    "        xx:\n",
    "            - name: echo a string\n",
    "              run: echo \"hello world\"\n",
    "            - name: check python version\n",
    "              run: python3 --version"
   ]
  },
  {
   "cell_type": "markdown",
   "id": "47d9536b",
   "metadata": {},
   "source": [
    "### NN"
   ]
  },
  {
   "cell_type": "code",
   "execution_count": 62,
   "id": "63750037",
   "metadata": {},
   "outputs": [],
   "source": [
    "import torch\n",
    "from torch import nn\n",
    "import torch.nn.functional as F"
   ]
  },
  {
   "cell_type": "code",
   "execution_count": 63,
   "id": "593c8191",
   "metadata": {},
   "outputs": [],
   "source": [
    "from torch.distributions import Categorical"
   ]
  },
  {
   "cell_type": "code",
   "execution_count": null,
   "id": "766133e7",
   "metadata": {},
   "outputs": [],
   "source": [
    "dist = Categorical(logits=raw_logits)"
   ]
  },
  {
   "cell_type": "code",
   "execution_count": null,
   "id": "992d07d5",
   "metadata": {},
   "outputs": [],
   "source": [
    "action = dist.sample()"
   ]
  },
  {
   "cell_type": "code",
   "execution_count": null,
   "id": "1d8a74c3",
   "metadata": {},
   "outputs": [],
   "source": [
    "def accuracy(sm_pred, y_train):\n",
    "    idx_pred = torch.argmax"
   ]
  },
  {
   "cell_type": "code",
   "execution_count": 64,
   "id": "6bbc977f",
   "metadata": {},
   "outputs": [],
   "source": [
    "from einops import rearrange"
   ]
  },
  {
   "cell_type": "code",
   "execution_count": null,
   "id": "592e7221",
   "metadata": {},
   "outputs": [],
   "source": [
    "def compute_loss(model, xb, yb):\n",
    "    pred = model(xb)\n",
    "    \n",
    "    pred = rearrange(pred, '')"
   ]
  },
  {
   "cell_type": "code",
   "execution_count": 65,
   "id": "f5e18bab",
   "metadata": {},
   "outputs": [],
   "source": [
    "import math"
   ]
  },
  {
   "cell_type": "code",
   "execution_count": 66,
   "id": "c81736ba",
   "metadata": {},
   "outputs": [],
   "source": [
    "class SelfAttention(nn.Module):\n",
    "    def __init__(self, d_head):\n",
    "        super().__init__()\n",
    "        self.d_head = d_head\n",
    "    \n",
    "    def forward(self, q, k, v, mask = None):\n",
    "        k_transposed = k.transpose(-2, -1)\n",
    "        qk_matmul = torch.matmul(q, k_transposed)\n",
    "        \n",
    "        if mask is not None:\n",
    "            qk_matmul = qk_matmul.mask_fill(mask==0, -1e9)\n",
    "        \n",
    "        scores = qk_matmul / math.sqrt(self.d_head)\n",
    "        attention_weights = F.softmax(scores, dim=-1)\n",
    "        output = torch.matmul(attention_weights, v)\n",
    "        \n",
    "        return output, attention_weights"
   ]
  },
  {
   "cell_type": "code",
   "execution_count": 67,
   "id": "de332938",
   "metadata": {},
   "outputs": [],
   "source": [
    "def to_uppercase(example):\n",
    "    return {\n",
    "        \"summary\": example[\"summary\"].upper()\n",
    "    }"
   ]
  },
  {
   "cell_type": "code",
   "execution_count": null,
   "id": "764993ae",
   "metadata": {},
   "outputs": [],
   "source": [
    "dataset_samsum.map(to_uppercase)"
   ]
  },
  {
   "cell_type": "code",
   "execution_count": 69,
   "id": "c618f3e3",
   "metadata": {},
   "outputs": [],
   "source": [
    "def compute_cross_entropy(logits, tagets):\n",
    "    log_probs = F.log_probs(logits, dim=-1)\n",
    "    \n",
    "    return -log_probs[range(tagets.shape[-1]), targets].float().mean()"
   ]
  },
  {
   "cell_type": "markdown",
   "id": "a71efb51",
   "metadata": {},
   "source": [
    "### Physics"
   ]
  },
  {
   "cell_type": "code",
   "execution_count": 81,
   "id": "a262e750",
   "metadata": {},
   "outputs": [],
   "source": [
    "m, v_1, v_2 = sym.symbols('m, v_1, v_2')"
   ]
  },
  {
   "cell_type": "code",
   "execution_count": 82,
   "id": "a03b1029",
   "metadata": {},
   "outputs": [
    {
     "data": {
      "text/latex": [
       "$\\displaystyle m$"
      ],
      "text/plain": [
       "m"
      ]
     },
     "execution_count": 82,
     "metadata": {},
     "output_type": "execute_result"
    }
   ],
   "source": [
    "m"
   ]
  },
  {
   "cell_type": "code",
   "execution_count": 83,
   "id": "267df0cb",
   "metadata": {},
   "outputs": [],
   "source": [
    "J = m*v_2 - m*v_1"
   ]
  },
  {
   "cell_type": "code",
   "execution_count": 84,
   "id": "9fbcd2d6",
   "metadata": {},
   "outputs": [
    {
     "data": {
      "text/latex": [
       "$\\displaystyle - m v_{1} + m v_{2}$"
      ],
      "text/plain": [
       "-m*v_1 + m*v_2"
      ]
     },
     "execution_count": 84,
     "metadata": {},
     "output_type": "execute_result"
    }
   ],
   "source": [
    "J"
   ]
  },
  {
   "cell_type": "code",
   "execution_count": 89,
   "id": "80a24d8c",
   "metadata": {},
   "outputs": [
    {
     "data": {
      "text/latex": [
       "$\\displaystyle - m v_{1} + m v_{2}$"
      ],
      "text/plain": [
       "-m*v_1 + m*v_2"
      ]
     },
     "execution_count": 89,
     "metadata": {},
     "output_type": "execute_result"
    }
   ],
   "source": [
    "J.subs({\n",
    "    v_1: -30*ureg.meter_per_second,\n",
    "    v_2: 20*ureg.meter_per_second,    \n",
    "})"
   ]
  },
  {
   "cell_type": "code",
   "execution_count": 90,
   "id": "0a1af814",
   "metadata": {},
   "outputs": [
    {
     "data": {
      "text/latex": [
       "$\\displaystyle \\frac{50 m \\text{m}}{\\text{s}}$"
      ],
      "text/plain": [
       "50*meter*m/second"
      ]
     },
     "execution_count": 90,
     "metadata": {},
     "output_type": "execute_result"
    }
   ],
   "source": [
    "J.subs({\n",
    "    v_1: -30*units.meter/units.second,\n",
    "    v_2: 20*units.meter/units.second,\n",
    "})"
   ]
  },
  {
   "cell_type": "markdown",
   "id": "0c22fd7c",
   "metadata": {},
   "source": [
    "### NN"
   ]
  },
  {
   "cell_type": "code",
   "execution_count": 91,
   "id": "757f0759",
   "metadata": {},
   "outputs": [],
   "source": [
    "def compute_loss(model, xb, yb):\n",
    "    pred = model(x)\n",
    "    \n",
    "    pred = rearrange(pred, 'batch_size seq_len n_embd -> (batch_size seq_len) n_embd')\n",
    "    yb = rearrange(yb, 'batch_size seq_len -> (batch_size seq_len)')\n",
    "    \n",
    "    loss = F.cross_entropy(pred, yb)\n",
    "    \n",
    "    return loss"
   ]
  },
  {
   "cell_type": "code",
   "execution_count": null,
   "id": "2d71b0da",
   "metadata": {},
   "outputs": [],
   "source": [
    "conv, pool, linear"
   ]
  },
  {
   "cell_type": "code",
   "execution_count": 92,
   "id": "692a90b0",
   "metadata": {},
   "outputs": [],
   "source": [
    "class DeepQNetwork(nn.Module):\n",
    "    def __init__(self, n_observations, n_actions):\n",
    "        super().__init__()\n",
    "        self.layers = nn.Sequential(\n",
    "            nn.Linear(n_observations, 128),\n",
    "            nn.ReLU(),\n",
    "            nn.Linear(128, 128),\n",
    "            nn.ReLU(),\n",
    "            nn.Linear(128, n_actions)\n",
    "        )\n",
    "    \n",
    "    def forward(self, state):\n",
    "        return self.layers(state)"
   ]
  },
  {
   "cell_type": "code",
   "execution_count": null,
   "id": "77760e46",
   "metadata": {},
   "outputs": [],
   "source": [
    "larger the loss -> smaller"
   ]
  },
  {
   "cell_type": "code",
   "execution_count": null,
   "id": "86fed5e9",
   "metadata": {},
   "outputs": [],
   "source": [
    "smaller the loss -> larger the objective"
   ]
  },
  {
   "cell_type": "code",
   "execution_count": null,
   "id": "ca717cd9",
   "metadata": {},
   "outputs": [],
   "source": [
    "normal force: the force that the table exerts on the apple\n",
    "friction force\n",
    "air resistance\n",
    "gravity\n",
    "applied force"
   ]
  },
  {
   "cell_type": "code",
   "execution_count": 93,
   "id": "00aedb0f",
   "metadata": {},
   "outputs": [],
   "source": [
    "def accuracy(probs, targs):\n",
    "    idx_probs = torch.argmax(probs, dim=-1)\n",
    "    return (idx_probs == targs).float().mean()"
   ]
  },
  {
   "cell_type": "code",
   "execution_count": 94,
   "id": "197f1b8d",
   "metadata": {},
   "outputs": [],
   "source": [
    "class TextEmbedding(nn.Module):\n",
    "    def __init__(self, vocab_size, padding_idx, d_model):\n",
    "        self.embedding = nn.Embedding(vocab_size, d_model, padding_idx)\n",
    "    \n",
    "    def forward(self, tokens):\n",
    "        return self.embedding(tokens)"
   ]
  },
  {
   "cell_type": "code",
   "execution_count": 95,
   "id": "93325f2f",
   "metadata": {},
   "outputs": [],
   "source": [
    "con = nn.Conv2d(\n",
    "    in_channels=3, out_channels=5,\n",
    "    kernel_size=3, stride=1, padding=1\n",
    ")"
   ]
  },
  {
   "cell_type": "code",
   "execution_count": null,
   "id": "eb86438e",
   "metadata": {},
   "outputs": [],
   "source": [
    "class LMModel(nn.Module):\n",
    "    def __init__(self, vocab_sz, n_hidden):\n",
    "        super().__init__()\n",
    "        self.i_h = nn.Embedding(vocab_sz, n_hidden)\n",
    "        self.h_h = nn.Linear(n_hidden, n_hidden)\n",
    "        self.h_o = nn.Linear(n_hidden, vocab_sz)\n",
    "        self.h = 0.\n",
    "    \n",
    "    def forward(self, x):\n",
    "        for i in range(3):\n",
    "            self.h = self.h + F.relu(self.i_h(x[i, :]))\n",
    "            sefl.h = F.relu(self.h_h(x[i, :]))\n",
    "        \n",
    "        return self.h_o(self.h)"
   ]
  },
  {
   "cell_type": "code",
   "execution_count": null,
   "id": "1ccba5c8",
   "metadata": {},
   "outputs": [],
   "source": [
    "def nll(probs, targs):\n",
    "    return probs[range(targs.shape[-1]), targs].float().mean()"
   ]
  },
  {
   "cell_type": "code",
   "execution_count": 96,
   "id": "8b8d2569",
   "metadata": {},
   "outputs": [],
   "source": [
    "def frobenius_norm(x):\n",
    "    return x.pow(2).mean()"
   ]
  },
  {
   "cell_type": "code",
   "execution_count": null,
   "id": "57c8bd60",
   "metadata": {},
   "outputs": [],
   "source": []
  }
 ],
 "metadata": {
  "kernelspec": {
   "display_name": "Python 3 (ipykernel)",
   "language": "python",
   "name": "python3"
  },
  "language_info": {
   "codemirror_mode": {
    "name": "ipython",
    "version": 3
   },
   "file_extension": ".py",
   "mimetype": "text/x-python",
   "name": "python",
   "nbconvert_exporter": "python",
   "pygments_lexer": "ipython3",
   "version": "3.8.15"
  }
 },
 "nbformat": 4,
 "nbformat_minor": 5
}
