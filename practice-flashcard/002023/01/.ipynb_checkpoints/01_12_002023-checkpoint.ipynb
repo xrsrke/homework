{
 "cells": [
  {
   "cell_type": "markdown",
   "id": "0c7b4671-58e7-4998-ba7d-5fb522483be4",
   "metadata": {},
   "source": [
    "### SWE"
   ]
  },
  {
   "cell_type": "code",
   "execution_count": 1,
   "id": "aad91800-008f-404b-8240-95d389e8b092",
   "metadata": {},
   "outputs": [],
   "source": [
    "from abc import ABC, abstractclassmethod"
   ]
  },
  {
   "cell_type": "code",
   "execution_count": 3,
   "id": "c5bd587a-3571-4bed-af8e-1367456d725b",
   "metadata": {},
   "outputs": [],
   "source": [
    "class Status:\n",
    "    def __init__(self, order):\n",
    "        self.order = order\n",
    "    \n",
    "    @abstractclassmethod\n",
    "    def receive_payment(self):\n",
    "        pass\n",
    "    \n",
    "    @abstractclassmethod\n",
    "    def ship(self):\n",
    "        pass"
   ]
  },
  {
   "cell_type": "code",
   "execution_count": 4,
   "id": "75de7337-ce7e-48e5-a236-557035f378d1",
   "metadata": {},
   "outputs": [],
   "source": [
    "class UnpaidStatus(Status):\n",
    "    def receive_payment(self):\n",
    "        self.order.set_status(order.paid_status)\n",
    "        print(\"Your payment has been accepeted\")"
   ]
  },
  {
   "cell_type": "code",
   "execution_count": null,
   "id": "249911d7-b908-42d2-bef5-de52418def51",
   "metadata": {},
   "outputs": [],
   "source": [
    "class Order:\n",
    "    def __init__(self):\n",
    "        self.unpaid_status = UnpaidStatus(order=self)\n",
    "        \n",
    "        self.status = self.unpaid_status\n",
    "    \n",
    "    def set_status(self, order):\n",
    "        self.status = order\n",
    "    \n",
    "    def receive_payment(self):\n",
    "        return self.status.receive_payment()\n",
    "\n",
    "    def ship(self):\n",
    "        return self.status.ship()"
   ]
  },
  {
   "cell_type": "markdown",
   "id": "3c8baad6-dce2-4537-91a7-5e8dfb5b7b1c",
   "metadata": {},
   "source": [
    "### Deep Learning"
   ]
  },
  {
   "cell_type": "code",
   "execution_count": 5,
   "id": "edcb11e4-a3d7-4413-8b5b-8e0b9a6b2feb",
   "metadata": {},
   "outputs": [],
   "source": [
    "import pytorch_lightning as pl"
   ]
  },
  {
   "cell_type": "code",
   "execution_count": 6,
   "id": "7f01e0b5-eb35-451a-bb77-eb6a44f1d49d",
   "metadata": {},
   "outputs": [],
   "source": [
    "import torch\n",
    "from torch import nn\n",
    "import torch.nn.functional as F"
   ]
  },
  {
   "cell_type": "code",
   "execution_count": null,
   "id": "3393b800-a7c1-433e-a72c-5ae4779d9372",
   "metadata": {},
   "outputs": [],
   "source": [
    "class LitResnet(pl.LightningModule):\n",
    "    def __init__(self):\n",
    "        self.model = _model1\n",
    "        self.loss_func = nn.CrossEntropyLoss()\n",
    "    \n",
    "    def training_step(self, batch, batch_idx):\n",
    "        x, y = batch\n",
    "        pred = self.model(x)\n",
    "        \n",
    "        loss = self.loss_func(y, pred)\n",
    "        \n",
    "        return loss"
   ]
  },
  {
   "cell_type": "code",
   "execution_count": 7,
   "id": "30311e67-51b3-42a9-8a4a-748c01a81d3d",
   "metadata": {},
   "outputs": [],
   "source": [
    "from torch import einsum"
   ]
  },
  {
   "cell_type": "code",
   "execution_count": 8,
   "id": "3dfbd2b8-aabd-4699-a5ee-7ac245447903",
   "metadata": {},
   "outputs": [],
   "source": [
    "x = torch.randn(2, 3)"
   ]
  },
  {
   "cell_type": "code",
   "execution_count": 12,
   "id": "ab2ca75d-7ee0-4651-9516-36578752f660",
   "metadata": {},
   "outputs": [
    {
     "data": {
      "text/plain": [
       "torch.Size([3, 2])"
      ]
     },
     "execution_count": 12,
     "metadata": {},
     "output_type": "execute_result"
    }
   ],
   "source": [
    "einsum('i j -> j i', x).shape"
   ]
  },
  {
   "cell_type": "markdown",
   "id": "10c6fb25-17f8-4369-bac4-59cfe652bc56",
   "metadata": {},
   "source": [
    "### NLP"
   ]
  },
  {
   "cell_type": "code",
   "execution_count": null,
   "id": "3e9aefb1-3daa-44d9-97f7-1c6e8f5a398d",
   "metadata": {},
   "outputs": [],
   "source": [
    "AutoConfig"
   ]
  },
  {
   "cell_type": "code",
   "execution_count": null,
   "id": "d2923a09-9c4a-4c36-b908-f61984d16a9c",
   "metadata": {},
   "outputs": [],
   "source": [
    "(small_part * filter_1).sum() + (small_part * filter_2).sum()"
   ]
  },
  {
   "cell_type": "code",
   "execution_count": null,
   "id": "b7b4ef56-c6c0-4cd0-a0ca-85ec81897dd8",
   "metadata": {},
   "outputs": [],
   "source": [
    "from transformers import AutoModel"
   ]
  },
  {
   "cell_type": "code",
   "execution_count": 13,
   "id": "a106124c-1014-4410-9554-107c50290a21",
   "metadata": {},
   "outputs": [],
   "source": [
    "from transformers import Trainer"
   ]
  },
  {
   "cell_type": "code",
   "execution_count": 14,
   "id": "454f3db5-0a63-40f8-950f-32052aec78b4",
   "metadata": {},
   "outputs": [],
   "source": [
    "class DistillationTrainer(Trainer):\n",
    "    def __init__(self, *args, teacher_model, **kwargs):\n",
    "        super().__init__(*args, **kwargs)\n",
    "        self.teacher_model = teacher_model\n",
    "        self.loss_func = nn.KLDivLoss()\n",
    "    \n",
    "    def compute_loss(self, model, inputs, return_outputs):\n",
    "        output_student = model(**inputs)\n",
    "        logits_student = output_student.logits\n",
    "        loss_ce = output_student.loss\n",
    "        \n",
    "        with torch.no_grad():\n",
    "            output_teacher = self.teacher_model(**inputs)\n",
    "            logits_teacher = output_teacher.logits\n",
    "        \n",
    "        temperature = self.args.temperature\n",
    "        alpha = self.args.alpha\n",
    "        \n",
    "        loss_kd = temperature**2 * self.loss_func(\n",
    "            F.log_softmax(logits_student),\n",
    "            F.softmax(logits_teacher)\n",
    "        )\n",
    "        \n",
    "        loss = alpha * loss_ce + (1-alpha) * loss_kd\n",
    "        \n",
    "        return (loss, output_student) if return_outputs else loss"
   ]
  },
  {
   "cell_type": "code",
   "execution_count": null,
   "id": "2cec79c8-8c66-4f4e-a783-016521072d9a",
   "metadata": {},
   "outputs": [],
   "source": [
    "def to_uppercase(example):\n",
    "    return {\n",
    "        \"summary\": example[\"summary\"].upper()\n",
    "    }"
   ]
  },
  {
   "cell_type": "code",
   "execution_count": null,
   "id": "dcaddd57-2ae9-4a4c-97da-f39b90fcf314",
   "metadata": {},
   "outputs": [],
   "source": [
    "_new_dataset = dataset_samsum.map(to_uppercase)"
   ]
  },
  {
   "cell_type": "code",
   "execution_count": 15,
   "id": "43a0af74-58de-4410-ab6f-83c64e68d515",
   "metadata": {},
   "outputs": [],
   "source": [
    "import torch"
   ]
  },
  {
   "cell_type": "code",
   "execution_count": null,
   "id": "6cf5811c-134f-4649-aa53-ad8d4c029d4a",
   "metadata": {},
   "outputs": [],
   "source": [
    "torch.multinomial"
   ]
  },
  {
   "cell_type": "code",
   "execution_count": null,
   "id": "aa816d88-523e-4ad2-94b7-20e6e3b09626",
   "metadata": {},
   "outputs": [],
   "source": [
    "tokenize the target summary in the decoder block"
   ]
  },
  {
   "cell_type": "code",
   "execution_count": null,
   "id": "c6fa89af-3b1b-4bfc-a794-e1d4e9583f9b",
   "metadata": {},
   "outputs": [],
   "source": [
    "normalization > pretoken > token > posttoken"
   ]
  },
  {
   "cell_type": "code",
   "execution_count": null,
   "id": "841d7adb-195b-4af6-bf2f-abd9560bd6af",
   "metadata": {},
   "outputs": [],
   "source": [
    "def tokenize(example):\n",
    "    return tokenizer(batch[\"text\"])"
   ]
  },
  {
   "cell_type": "code",
   "execution_count": 16,
   "id": "61a82cdb-aaf6-41a0-ad91-29baf9f96f19",
   "metadata": {},
   "outputs": [],
   "source": [
    "from einops import repeat"
   ]
  },
  {
   "cell_type": "code",
   "execution_count": null,
   "id": "4782ed4c-4e62-4acc-a000-9d0c30a33a47",
   "metadata": {},
   "outputs": [],
   "source": [
    "output = repeat(x, 'h w -> h w n', n=2)"
   ]
  },
  {
   "cell_type": "code",
   "execution_count": 17,
   "id": "22f9f805-2025-41bf-b64f-2a0ded508a60",
   "metadata": {},
   "outputs": [],
   "source": [
    "def summary_batch(article_batches, max_context_length):\n",
    "    \n",
    "    arr_summaries = []\n",
    "    for article in article_batches:\n",
    "        inputs = tokenizer(\n",
    "            article,\n",
    "            max_length=max_context_length,\n",
    "            pad=True,\n",
    "            truncation=True,\n",
    "            return_tensors=\"pt\",\n",
    "            **tokenizer_params\n",
    "        )\n",
    "        \n",
    "        summaries = model.generate(\n",
    "            inputs[\"input_ids\"],\n",
    "            attention_mask=inputs[\"attention_mask\"],\n",
    "            **model_params\n",
    "        )\n",
    "        \n",
    "        decoded_summaries = [\n",
    "            tokenizer.decode(text) for text in summaries\n",
    "        ]\n",
    "        \n",
    "        arr_summaries.append(decoded_summaries)\n",
    "    \n",
    "    return arr_summaries"
   ]
  },
  {
   "cell_type": "code",
   "execution_count": null,
   "id": "883a6f03-52d1-4814-83e5-8f4458a79577",
   "metadata": {},
   "outputs": [],
   "source": [
    "n tokens -> n setences -> highest log prob"
   ]
  },
  {
   "cell_type": "code",
   "execution_count": null,
   "id": "9befbfb3-31cb-473f-af12-19bc1313d201",
   "metadata": {},
   "outputs": [],
   "source": [
    "state, action, next state, reward, done"
   ]
  },
  {
   "cell_type": "code",
   "execution_count": null,
   "id": "a6f63012-4673-47b1-b4ec-0c21076b31fc",
   "metadata": {},
   "outputs": [],
   "source": [
    "policy, value, model"
   ]
  },
  {
   "cell_type": "code",
   "execution_count": null,
   "id": "5aab695f-f165-471f-b150-eac423c2f76e",
   "metadata": {},
   "outputs": [],
   "source": [
    "out-of-vocab\n",
    "decrease number of vocab"
   ]
  },
  {
   "cell_type": "code",
   "execution_count": null,
   "id": "33a191b1-ef34-4d21-a508-faea3e5f329d",
   "metadata": {},
   "outputs": [],
   "source": [
    "for i in range(n_steps):\n",
    "    \n",
    "    state = env.reset()\n",
    "    \n",
    "    while True:\n",
    "        action = actor.predict(state)\n",
    "        \n",
    "        new_state, reward, done = env.step(action)\n",
    "        \n",
    "        replay_buffer.add(state, action, new_state, reward, done)\n",
    "    \n",
    "    data = replay_buffer.sample()\n",
    "    actor.optimize(data)\n",
    "    critic.optimize(data)"
   ]
  },
  {
   "cell_type": "code",
   "execution_count": null,
   "id": "b3d279dd-17cc-4ec9-b674-e4817ba129b2",
   "metadata": {},
   "outputs": [],
   "source": [
    "class Model(nn.Module):\n",
    "    def __init__(self):\n",
    "        self."
   ]
  },
  {
   "cell_type": "code",
   "execution_count": null,
   "id": "fbc2b55c-c86a-4c32-bb39-a642eb4d414b",
   "metadata": {},
   "outputs": [],
   "source": [
    "model = nn.Sequential(\n",
    "    nn.Linear(2, 4),\n",
    "    nn.ReLU(),\n",
    "    nn.Linear(4, 3)\n",
    ")"
   ]
  },
  {
   "cell_type": "code",
   "execution_count": 18,
   "id": "ece2200a-e1a2-4f38-b291-2853117f99ed",
   "metadata": {},
   "outputs": [],
   "source": [
    "def compute_ratio(current, prev):\n",
    "    return (current - prev).exp()"
   ]
  },
  {
   "cell_type": "code",
   "execution_count": null,
   "id": "97dbca49-a389-4277-86f0-77efff7cf586",
   "metadata": {},
   "outputs": [],
   "source": []
  }
 ],
 "metadata": {
  "kernelspec": {
   "display_name": "Python 3 (ipykernel)",
   "language": "python",
   "name": "python3"
  },
  "language_info": {
   "codemirror_mode": {
    "name": "ipython",
    "version": 3
   },
   "file_extension": ".py",
   "mimetype": "text/x-python",
   "name": "python",
   "nbconvert_exporter": "python",
   "pygments_lexer": "ipython3",
   "version": "3.8.15"
  }
 },
 "nbformat": 4,
 "nbformat_minor": 5
}
