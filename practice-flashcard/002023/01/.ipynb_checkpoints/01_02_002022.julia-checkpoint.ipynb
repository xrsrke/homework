{
 "cells": [
  {
   "cell_type": "code",
   "execution_count": 1,
   "id": "75dc7a81-487f-49b9-a2a2-ac5a7583dbef",
   "metadata": {},
   "outputs": [],
   "source": [
    "using Distributed"
   ]
  },
  {
   "cell_type": "code",
   "execution_count": 2,
   "id": "91fc7e65-97e5-4235-8147-24d317b7b4cf",
   "metadata": {},
   "outputs": [],
   "source": [
    "@everywhere add(x, y) = x + y"
   ]
  },
  {
   "cell_type": "code",
   "execution_count": 5,
   "id": "492304be-2a2b-47d6-a368-4d95a2a625cb",
   "metadata": {},
   "outputs": [
    {
     "data": {
      "text/plain": [
       "Future(1, 1, 3, ReentrantLock(nothing, 0x00000000, 0x00, Base.GenericCondition{Base.Threads.SpinLock}(Base.InvasiveLinkedList{Task}(nothing, nothing), Base.Threads.SpinLock(0)), (0, 5175845024, 0)), nothing)"
      ]
     },
     "execution_count": 5,
     "metadata": {},
     "output_type": "execute_result"
    }
   ],
   "source": [
    "task = Distributed.@spawnat 1 add(1, 2)"
   ]
  },
  {
   "cell_type": "code",
   "execution_count": 6,
   "id": "8bed7930-3eda-4167-804b-e9535328ce7f",
   "metadata": {},
   "outputs": [
    {
     "data": {
      "text/plain": [
       "3"
      ]
     },
     "execution_count": 6,
     "metadata": {},
     "output_type": "execute_result"
    }
   ],
   "source": [
    "result = fetch(task)"
   ]
  },
  {
   "cell_type": "code",
   "execution_count": 13,
   "id": "5a4b74cd-0976-4450-84db-9f09b0c1d3f0",
   "metadata": {},
   "outputs": [
    {
     "data": {
      "text/plain": [
       "is_string (generic function with 2 methods)"
      ]
     },
     "execution_count": 13,
     "metadata": {},
     "output_type": "execute_result"
    }
   ],
   "source": [
    "function is_string(thing::String)\n",
    "    return true\n",
    "end"
   ]
  },
  {
   "cell_type": "code",
   "execution_count": 14,
   "id": "c2d8d122-206f-4ff9-aceb-928849c07164",
   "metadata": {},
   "outputs": [
    {
     "data": {
      "text/plain": [
       "is_string (generic function with 2 methods)"
      ]
     },
     "execution_count": 14,
     "metadata": {},
     "output_type": "execute_result"
    }
   ],
   "source": [
    "function is_string(thing)\n",
    "    return false\n",
    "end"
   ]
  },
  {
   "cell_type": "code",
   "execution_count": 15,
   "id": "78f54391-9993-43d1-8282-ff780f6768a0",
   "metadata": {},
   "outputs": [
    {
     "data": {
      "text/plain": [
       "false"
      ]
     },
     "execution_count": 15,
     "metadata": {},
     "output_type": "execute_result"
    }
   ],
   "source": [
    "is_string(3)"
   ]
  },
  {
   "cell_type": "code",
   "execution_count": 16,
   "id": "f1fcfc70-b177-45fb-8cff-b4da2cd6df32",
   "metadata": {},
   "outputs": [
    {
     "data": {
      "text/plain": [
       "true"
      ]
     },
     "execution_count": 16,
     "metadata": {},
     "output_type": "execute_result"
    }
   ],
   "source": [
    "is_string(\"x\")"
   ]
  }
 ],
 "metadata": {
  "kernelspec": {
   "display_name": "Julia 1.8.3",
   "language": "julia",
   "name": "julia-1.8"
  },
  "language_info": {
   "file_extension": ".jl",
   "mimetype": "application/julia",
   "name": "julia",
   "version": "1.8.3"
  }
 },
 "nbformat": 4,
 "nbformat_minor": 5
}
