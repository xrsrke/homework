{
 "cells": [
  {
   "cell_type": "markdown",
   "id": "f741aed8-5f13-4285-942a-3308ca20d307",
   "metadata": {},
   "source": [
    "### swe"
   ]
  },
  {
   "cell_type": "code",
   "execution_count": null,
   "id": "feaff0ae-4a3e-4f24-a0fb-65c9114819cd",
   "metadata": {},
   "outputs": [],
   "source": [
    "ls *.sh"
   ]
  },
  {
   "cell_type": "code",
   "execution_count": 1,
   "id": "f89154fd-27dd-4a9f-8762-0021cdb96201",
   "metadata": {},
   "outputs": [],
   "source": [
    "class Rectangle:\n",
    "    def __repr__(self):\n",
    "        return f\"Rectangle (width={self.width})\""
   ]
  },
  {
   "cell_type": "code",
   "execution_count": 3,
   "id": "1d885c62-5146-46c1-ba9c-1b80de33bdd6",
   "metadata": {},
   "outputs": [],
   "source": [
    "from fastcore.meta import *"
   ]
  },
  {
   "cell_type": "code",
   "execution_count": null,
   "id": "3aa50286-a7ad-409f-984a-cbdcff00c490",
   "metadata": {},
   "outputs": [],
   "source": [
    "@funcs_kwargs"
   ]
  },
  {
   "cell_type": "code",
   "execution_count": 4,
   "id": "3522d354-5664-4ec7-b284-d67398597f4a",
   "metadata": {},
   "outputs": [],
   "source": [
    "import pytest"
   ]
  },
  {
   "cell_type": "code",
   "execution_count": null,
   "id": "c3857e01-f00e-430b-8f01-a0ed3599333e",
   "metadata": {},
   "outputs": [],
   "source": [
    "@pytest.mark.skipif(a>b, \"cause i want\")\n",
    "def test_func_3():\n",
    "    pass"
   ]
  },
  {
   "cell_type": "code",
   "execution_count": null,
   "id": "d8d7a2af-2cc1-4ec8-9424-6348a9bb2e7e",
   "metadata": {},
   "outputs": [],
   "source": [
    "docker rmi redis:22.2"
   ]
  },
  {
   "cell_type": "code",
   "execution_count": null,
   "id": "d24cc532-1c10-4c39-9fd7-9a7e52c5e648",
   "metadata": {},
   "outputs": [],
   "source": [
    "grep hello "
   ]
  },
  {
   "cell_type": "code",
   "execution_count": 5,
   "id": "245c391a-7f06-4cd9-9643-59596bdd629d",
   "metadata": {},
   "outputs": [],
   "source": [
    "import pytest"
   ]
  },
  {
   "cell_type": "code",
   "execution_count": null,
   "id": "732f32a1-0b31-41ed-8f75-ec157946a4d3",
   "metadata": {},
   "outputs": [],
   "source": [
    "@pytest.mark.parametrize(\n",
    "    \"test_input, expected\",\n",
    "    (\n",
    "        [1, 1],\n",
    "        [2, 4]\n",
    "    )\n",
    ")\n",
    "def test_square(test_input, expected):\n",
    "    assert square(test_input) == expected"
   ]
  },
  {
   "cell_type": "code",
   "execution_count": 6,
   "id": "4ab3e49a-54d7-43a1-9916-9231878e95b9",
   "metadata": {},
   "outputs": [],
   "source": [
    "import unittest"
   ]
  },
  {
   "cell_type": "code",
   "execution_count": null,
   "id": "753f8984-9908-4e1f-9dff-10f15cd1a465",
   "metadata": {},
   "outputs": [],
   "source": [
    "class MediumTestCase(unittest.TestCase):\n",
    "    def test_avg(self):\n",
    "        with self.assertRaises(TypeError):\n",
    "            avg()"
   ]
  },
  {
   "cell_type": "code",
   "execution_count": null,
   "id": "75708f0c-2000-4da0-bf6e-6319bd7307f2",
   "metadata": {},
   "outputs": [],
   "source": [
    ".__mro__"
   ]
  },
  {
   "cell_type": "code",
   "execution_count": null,
   "id": "d8998ffb-42db-4fcd-8f8f-7a758cfba839",
   "metadata": {},
   "outputs": [],
   "source": [
    "#!/bin/bash\n",
    "\n",
    "var = $(date)"
   ]
  },
  {
   "cell_type": "code",
   "execution_count": null,
   "id": "7491188e-fa78-4cc2-81d5-f2679df4f3bf",
   "metadata": {},
   "outputs": [],
   "source": [
    "open: extend for new features\n",
    "closed: if add new features, no need to edit exisitng code"
   ]
  },
  {
   "cell_type": "code",
   "execution_count": 7,
   "id": "613fd1c1-973f-409a-9bcf-dd1918ad7e73",
   "metadata": {},
   "outputs": [],
   "source": [
    "import numpy as np"
   ]
  },
  {
   "cell_type": "code",
   "execution_count": null,
   "id": "f5508687-1c59-4a93-80a0-e3bbefe3e636",
   "metadata": {},
   "outputs": [],
   "source": [
    "np.where(x > 1, \"GOOD\", \"BAD\")"
   ]
  },
  {
   "cell_type": "code",
   "execution_count": null,
   "id": "6457c014-ecb5-4abd-bcf1-aa87be9ef896",
   "metadata": {},
   "outputs": [],
   "source": [
    "m1.__dict__[\"horse_power\"] = 290"
   ]
  },
  {
   "cell_type": "code",
   "execution_count": null,
   "id": "13897095-50f8-40ed-aa3c-6abb956935a4",
   "metadata": {},
   "outputs": [],
   "source": [
    "only interact with variables, classes in close circle"
   ]
  },
  {
   "cell_type": "code",
   "execution_count": 8,
   "id": "95b96bc1-c037-49ea-9d3d-c0d06959d615",
   "metadata": {},
   "outputs": [],
   "source": [
    "from typing import Optional"
   ]
  },
  {
   "cell_type": "code",
   "execution_count": 9,
   "id": "d22cbfbf-9d28-4b4d-8072-73ad4dc23950",
   "metadata": {},
   "outputs": [],
   "source": [
    "def is_valid(value: bool = False) -> bool:\n",
    "    pass"
   ]
  },
  {
   "cell_type": "code",
   "execution_count": 11,
   "id": "1b151db3-6456-4ad2-8b45-344eb66d2521",
   "metadata": {},
   "outputs": [],
   "source": [
    "class Classroom:\n",
    "    def __init__(self):\n",
    "        self._students = {}\n",
    "    \n",
    "    def __setattr__(self, k, v):\n",
    "        if not k.startswith(\"_\"):\n",
    "            self._students[k] = v\n",
    "        \n",
    "        return super().__setattr__(k, v)"
   ]
  },
  {
   "cell_type": "code",
   "execution_count": null,
   "id": "ad61c396-1722-4a75-bfea-6e62d9bf1ff0",
   "metadata": {},
   "outputs": [],
   "source": [
    "name: integration-test\n",
    "\n",
    "on: [\"push\"]\n",
    "\n",
    "jobs:\n",
    "    check-version:\n",
    "        runs-on: latest-ubuntu\n",
    "        jobs:\n",
    "            - name: echo a string\n",
    "              run: echo \"hello world\"\n",
    "            - name: check python version\n",
    "              run: python3 --version"
   ]
  },
  {
   "cell_type": "code",
   "execution_count": 12,
   "id": "a823d6cb-fe4b-437f-bd53-df20552eb994",
   "metadata": {},
   "outputs": [],
   "source": [
    "class Database:\n",
    "    _instance = None\n",
    "    \n",
    "    def __new__(cls):\n",
    "        if not cls._instance:\n",
    "            cls._instance = super().__init__()\n",
    "        \n",
    "        return cls._instance"
   ]
  },
  {
   "cell_type": "code",
   "execution_count": 16,
   "id": "b45fa828-2f6b-4621-a7a1-ab985960f03f",
   "metadata": {},
   "outputs": [],
   "source": [
    "import datetime\n",
    "import time"
   ]
  },
  {
   "cell_type": "code",
   "execution_count": 20,
   "id": "1736c8da-208e-4c25-946e-cc646f3a4deb",
   "metadata": {},
   "outputs": [],
   "source": [
    "from abc import ABC, abstractclassmethod"
   ]
  },
  {
   "cell_type": "code",
   "execution_count": 21,
   "id": "da04443d-a19d-4c09-9a95-12b594c00f89",
   "metadata": {
    "tags": []
   },
   "outputs": [],
   "source": [
    "class ObservableObject:\n",
    "    @abstractclassmethod\n",
    "    def activate(self): pass"
   ]
  },
  {
   "cell_type": "code",
   "execution_count": 24,
   "id": "5fed7e6b-872d-48ad-a553-a58b895d7c5e",
   "metadata": {},
   "outputs": [],
   "source": [
    "class Observer:\n",
    "    def __init__(self):\n",
    "        pass"
   ]
  },
  {
   "cell_type": "code",
   "execution_count": 22,
   "id": "5540a7c4-6fcb-4596-86b0-b944efe3baa6",
   "metadata": {},
   "outputs": [],
   "source": [
    "class Clock:\n",
    "    def __init__(self):\n",
    "        self.time = datetime.datetime.now()\n",
    "    \n",
    "    def tick(self):\n",
    "        self.time = datetime.datetime.now()"
   ]
  },
  {
   "cell_type": "code",
   "execution_count": 23,
   "id": "19a07a89-463b-4fc7-b013-a331f919857a",
   "metadata": {},
   "outputs": [],
   "source": [
    "class ObservableClock(Clock, ObservableObject):\n",
    "    def activate(self, data):\n",
    "        self.tick()"
   ]
  },
  {
   "cell_type": "code",
   "execution_count": 25,
   "id": "50a2d53c-303b-46d0-8484-81292c442050",
   "metadata": {},
   "outputs": [],
   "source": [
    "class RealTimeDisplay:\n",
    "    def show_time(self, time):\n",
    "        print(f\"Time: {time}\")"
   ]
  },
  {
   "cell_type": "code",
   "execution_count": null,
   "id": "063e5536-107e-4bb5-a8cd-171301c8835c",
   "metadata": {},
   "outputs": [],
   "source": [
    "x**2 for x in l if x**2 < 25"
   ]
  },
  {
   "cell_type": "code",
   "execution_count": null,
   "id": "760dcd9d-a638-48c6-ab9f-5cc2e35e41b7",
   "metadata": {},
   "outputs": [],
   "source": [
    "pre-conditions, post-conditions"
   ]
  },
  {
   "cell_type": "code",
   "execution_count": 26,
   "id": "5b3050ec-0371-41bb-9083-ac90f488ee29",
   "metadata": {},
   "outputs": [],
   "source": [
    "@funcs_kwargs\n",
    "class DataLoader:\n",
    "    _methods = [\"before_batch\", \"after_batch\"]"
   ]
  },
  {
   "cell_type": "code",
   "execution_count": null,
   "id": "a1c9b0cf-b593-4d4d-9ef9-771f1f747a24",
   "metadata": {},
   "outputs": [],
   "source": [
    "class UppercaseTuple(tuple):\n",
    "    def __new__(cls, items):\n",
    "        items = items.upper()\n",
    "        \n",
    "        return super().__init__(items. )"
   ]
  },
  {
   "cell_type": "markdown",
   "id": "b8d3e6a7-c05d-4a0e-ac75-2bffa3550751",
   "metadata": {},
   "source": [
    "### NLP"
   ]
  },
  {
   "cell_type": "code",
   "execution_count": null,
   "id": "93de9cc9-006d-44e2-a32a-c71f95f1e95a",
   "metadata": {},
   "outputs": [],
   "source": [
    "max_new_tokens = 10"
   ]
  },
  {
   "cell_type": "code",
   "execution_count": null,
   "id": "923861a5-647c-4b33-88ea-bee02dde42ce",
   "metadata": {},
   "outputs": [],
   "source": [
    "output = model.generate(input_ids, max_new_tokens=max_new_tokens)"
   ]
  },
  {
   "cell_type": "code",
   "execution_count": null,
   "id": "1bd1f88e-695c-4ed9-84ea-9e024b2f7961",
   "metadata": {},
   "outputs": [],
   "source": [
    "decoded_text = tokenizer.decode(output)"
   ]
  },
  {
   "cell_type": "code",
   "execution_count": 27,
   "id": "de4c990f-946a-4a79-96c3-f18e00504bbf",
   "metadata": {},
   "outputs": [],
   "source": [
    "from einops import repeat"
   ]
  },
  {
   "cell_type": "code",
   "execution_count": null,
   "id": "d1cfd005-adfc-4d48-b8a7-ef32e03014f4",
   "metadata": {},
   "outputs": [],
   "source": [
    "repeat(x, \"h w -> h w n\", n=2)"
   ]
  },
  {
   "cell_type": "code",
   "execution_count": 28,
   "id": "637a6634-361e-4c34-bd3a-b49099749140",
   "metadata": {},
   "outputs": [],
   "source": [
    "from torch.utils.data import Dataset"
   ]
  },
  {
   "cell_type": "code",
   "execution_count": 29,
   "id": "715f4872-f89e-4acb-91cd-96834a37fb96",
   "metadata": {},
   "outputs": [],
   "source": [
    "class PetDataset(Dataset):\n",
    "    def __init__(self, data):\n",
    "        self.data = data\n",
    "    \n",
    "    def __getitem__(self, idx):\n",
    "        title = self.data[idx][\"title\"]\n",
    "        year_published = self.data[idx][\"year_published\"]\n",
    "        \n",
    "        return (title, year_published)"
   ]
  },
  {
   "cell_type": "code",
   "execution_count": null,
   "id": "0fa9db8d-04e0-406a-8989-f67b42d353a6",
   "metadata": {},
   "outputs": [],
   "source": [
    "gym.make(\"Mars\")"
   ]
  },
  {
   "cell_type": "code",
   "execution_count": null,
   "id": "6e17722c-6a2c-496d-9d83-e0a81f58addd",
   "metadata": {},
   "outputs": [],
   "source": [
    "tokenized_input = tokenizer(sentence)"
   ]
  },
  {
   "cell_type": "code",
   "execution_count": null,
   "id": "eea2a715-1282-4761-ad2d-4a02bad8ac13",
   "metadata": {},
   "outputs": [],
   "source": [
    "output = model.generate(tokenized_input.input_ids)"
   ]
  },
  {
   "cell_type": "code",
   "execution_count": null,
   "id": "28cbb873-d3e2-48a2-99a8-2e6489d2b407",
   "metadata": {},
   "outputs": [],
   "source": [
    "output"
   ]
  },
  {
   "cell_type": "code",
   "execution_count": null,
   "id": "e0490105-278d-4660-9235-031e2a7f634d",
   "metadata": {},
   "outputs": [],
   "source": [
    "loss.backward()"
   ]
  },
  {
   "cell_type": "code",
   "execution_count": 30,
   "id": "af25754c-c4e9-4a89-9c8c-c6783b9849fd",
   "metadata": {},
   "outputs": [],
   "source": [
    "from einops import pack"
   ]
  },
  {
   "cell_type": "code",
   "execution_count": null,
   "id": "19804c67-60bc-4060-aa2c-c11d01f4f097",
   "metadata": {},
   "outputs": [],
   "source": [
    "pack([image_rgb, image_depth], \"h w *\")"
   ]
  },
  {
   "cell_type": "code",
   "execution_count": 31,
   "id": "7c1249b8-54d3-4adc-bf01-7738e85da9cf",
   "metadata": {},
   "outputs": [],
   "source": [
    "from torch.distributions import Categorical"
   ]
  },
  {
   "cell_type": "code",
   "execution_count": null,
   "id": "dcb6a64d-5a8a-45bf-92a3-7e0923137237",
   "metadata": {},
   "outputs": [],
   "source": [
    "dist = Categorical(probs)"
   ]
  },
  {
   "cell_type": "code",
   "execution_count": null,
   "id": "ce5a8dd9-7422-4633-8aa4-0f3a835138e6",
   "metadata": {},
   "outputs": [],
   "source": [
    "action = dist.sample()"
   ]
  },
  {
   "cell_type": "code",
   "execution_count": null,
   "id": "89eb6d1d-ca18-45ed-a951-54b9a9a4ad71",
   "metadata": {},
   "outputs": [],
   "source": [
    "log_prob = dist.log_prob(action)"
   ]
  },
  {
   "cell_type": "code",
   "execution_count": null,
   "id": "9f32ab70-62bc-4720-8495-3e6800952b7a",
   "metadata": {},
   "outputs": [],
   "source": [
    "dataset[\"train\"][\"article\"]"
   ]
  },
  {
   "cell_type": "code",
   "execution_count": 32,
   "id": "e4a43623-0d67-4cdf-8bfb-1d469fa7c463",
   "metadata": {},
   "outputs": [],
   "source": [
    "from datasets import load_metric"
   ]
  },
  {
   "cell_type": "code",
   "execution_count": 33,
   "id": "01308563-a11e-4a67-beb1-f3cda3b95426",
   "metadata": {},
   "outputs": [
    {
     "name": "stderr",
     "output_type": "stream",
     "text": [
      "/var/folders/pf/g3nr86yn4j71vzzmv6knwdhr0000gp/T/ipykernel_43267/1963947385.py:1: FutureWarning: load_metric is deprecated and will be removed in the next major version of datasets. Use 'evaluate.load' instead, from the new library 🤗 Evaluate: https://huggingface.co/docs/evaluate\n",
      "  bleu = load_metric(\"bleu\")\n"
     ]
    }
   ],
   "source": [
    "bleu = load_metric(\"bleu\")"
   ]
  },
  {
   "cell_type": "code",
   "execution_count": null,
   "id": "606006d2-100e-406c-b8b0-d60d5b0f4567",
   "metadata": {},
   "outputs": [],
   "source": [
    "output = bleu.compute(\n",
    "    predictions, references \n",
    ")"
   ]
  },
  {
   "cell_type": "code",
   "execution_count": null,
   "id": "598219d7-4878-4853-b57d-200d4b478bb0",
   "metadata": {},
   "outputs": [],
   "source": [
    "def summary_batch(article_batches, max_context_length=1024):\n",
    "    tokenized_inputs = tokenizer.encode(\n",
    "        article_batches,\n",
    "        truncation=True\n",
    "        return_tensors=\"pt\"\n",
    "    )"
   ]
  },
  {
   "cell_type": "code",
   "execution_count": null,
   "id": "305caa26-ebd5-45b9-a8ae-34c34b24212f",
   "metadata": {},
   "outputs": [],
   "source": [
    "rouge"
   ]
  },
  {
   "cell_type": "code",
   "execution_count": 34,
   "id": "78ab7ff5-8dd3-4aca-8cc3-21f6d29be46f",
   "metadata": {},
   "outputs": [],
   "source": [
    "from torch import nn"
   ]
  },
  {
   "cell_type": "code",
   "execution_count": 35,
   "id": "a541a283-db28-4e0e-b61d-a45425b5ac49",
   "metadata": {},
   "outputs": [],
   "source": [
    "import torch.nn.functional as F"
   ]
  },
  {
   "cell_type": "code",
   "execution_count": null,
   "id": "26753017-5757-4092-bd15-75135a1cc8ff",
   "metadata": {},
   "outputs": [],
   "source": [
    "class LMMOdel1(nn.Module):\n",
    "    def __init__(self, vocab_sz, n_hidden):\n",
    "        super().__init__()\n",
    "        self.i_h = nn.Embedding(vocab_sz, n_hidden)\n",
    "        self.h_h = nn.Linear(vocab_sz, n_hidden)\n",
    "        self.h_o = nn.Linear(vocab_sz, n_hidden)\n",
    "        # self.h = 0.\n",
    "    \n",
    "    def forward(self, x):\n",
    "        h1 = F.relu(self.h_h(F.relu(self.i_h(x[0, :]))))\n",
    "        h2 = F.relu(self.i_h(x[1, :])) + h1\n",
    "        h3 = F.relu(self.i_h(x[2, :])) + h2\n",
    "        \n",
    "        return F.relu(self.h_o(h3))"
   ]
  },
  {
   "cell_type": "code",
   "execution_count": null,
   "id": "84e58f18-bd04-4aa5-9c94-8bed14ed6fff",
   "metadata": {},
   "outputs": [],
   "source": [
    "repeat(x, 'h w -> h w n', n=2)"
   ]
  },
  {
   "cell_type": "code",
   "execution_count": null,
   "id": "ddebeeb2-6d5a-4909-ab06-0da0a01ab6f5",
   "metadata": {},
   "outputs": [],
   "source": [
    "substract => smaller vf => larger loss"
   ]
  },
  {
   "cell_type": "code",
   "execution_count": 36,
   "id": "046996af-2d55-4dcc-a24c-a77ad4bf7dd8",
   "metadata": {},
   "outputs": [],
   "source": [
    "def mse(preds, targs):\n",
    "    return (preds-targs).pow(2).mean()"
   ]
  },
  {
   "cell_type": "code",
   "execution_count": null,
   "id": "88b722ee-fba1-46a9-a68c-10e8e39c7c86",
   "metadata": {},
   "outputs": [],
   "source": [
    "past states, actions, desired reward"
   ]
  },
  {
   "cell_type": "code",
   "execution_count": null,
   "id": "b4d668d2-7280-44da-8d95-ebf9ac67d601",
   "metadata": {},
   "outputs": [],
   "source": []
  },
  {
   "cell_type": "code",
   "execution_count": null,
   "id": "ac224ce9-5ce1-4bfb-b35d-ad45b632076e",
   "metadata": {},
   "outputs": [],
   "source": []
  },
  {
   "cell_type": "code",
   "execution_count": 38,
   "id": "cfb309b8-fefd-4d20-b6d4-994b9130d406",
   "metadata": {},
   "outputs": [],
   "source": [
    "import torch"
   ]
  },
  {
   "cell_type": "code",
   "execution_count": 43,
   "id": "ca618434-c927-4c29-b456-aa95a7f3ca57",
   "metadata": {},
   "outputs": [
    {
     "data": {
      "text/plain": [
       "tensor(-1.6094)"
      ]
     },
     "execution_count": 43,
     "metadata": {},
     "output_type": "execute_result"
    }
   ],
   "source": [
    "torch.tensor(0.2).log()"
   ]
  },
  {
   "cell_type": "code",
   "execution_count": 44,
   "id": "b0449df8-8f37-4bd8-bcd1-bc764992dc58",
   "metadata": {},
   "outputs": [],
   "source": [
    "outputs = torch.tensor([1, 2, 3, 4])"
   ]
  },
  {
   "cell_type": "code",
   "execution_count": 46,
   "id": "e9caa625-1a3a-400d-a0ec-e371cb15b81b",
   "metadata": {},
   "outputs": [],
   "source": [
    "pairs = torch.combinations(outputs, r=2)"
   ]
  },
  {
   "cell_type": "code",
   "execution_count": 47,
   "id": "6a0b7232-6c95-472a-b10c-b0a49a84b3df",
   "metadata": {},
   "outputs": [
    {
     "data": {
      "text/plain": [
       "tensor([[1, 2],\n",
       "        [1, 3],\n",
       "        [1, 4],\n",
       "        [2, 3],\n",
       "        [2, 4],\n",
       "        [3, 4]])"
      ]
     },
     "execution_count": 47,
     "metadata": {},
     "output_type": "execute_result"
    }
   ],
   "source": [
    "pairs"
   ]
  },
  {
   "cell_type": "code",
   "execution_count": 48,
   "id": "3022af96-4731-4bdf-b7ec-38e8c872b251",
   "metadata": {},
   "outputs": [
    {
     "data": {
      "text/plain": [
       "6"
      ]
     },
     "execution_count": 48,
     "metadata": {},
     "output_type": "execute_result"
    }
   ],
   "source": [
    "len(pairs)"
   ]
  },
  {
   "cell_type": "code",
   "execution_count": 67,
   "id": "89d05f27-3921-442b-9491-b2410a6bedcb",
   "metadata": {},
   "outputs": [],
   "source": [
    "losses = torch.randn(6)"
   ]
  },
  {
   "cell_type": "code",
   "execution_count": 68,
   "id": "2a7856c8-0d6a-4c13-a99b-687b707ff0d0",
   "metadata": {},
   "outputs": [
    {
     "data": {
      "text/plain": [
       "tensor(0.4983)"
      ]
     },
     "execution_count": 68,
     "metadata": {},
     "output_type": "execute_result"
    }
   ],
   "source": [
    "losses.mean()"
   ]
  },
  {
   "cell_type": "code",
   "execution_count": 62,
   "id": "0f572d40-b5c1-4b7d-970d-b7d0270cf78e",
   "metadata": {},
   "outputs": [],
   "source": [
    "losses = torch.randn(100)"
   ]
  },
  {
   "cell_type": "code",
   "execution_count": 63,
   "id": "c0ad488a-ad19-4c22-a25f-51f1aaaef457",
   "metadata": {},
   "outputs": [
    {
     "data": {
      "text/plain": [
       "tensor(-0.1198)"
      ]
     },
     "execution_count": 63,
     "metadata": {},
     "output_type": "execute_result"
    }
   ],
   "source": [
    "losses.mean() "
   ]
  },
  {
   "cell_type": "code",
   "execution_count": null,
   "id": "7f82bcd5-a41a-4846-bbe6-5f799e8aa871",
   "metadata": {},
   "outputs": [],
   "source": []
  }
 ],
 "metadata": {
  "kernelspec": {
   "display_name": "Python 3 (ipykernel)",
   "language": "python",
   "name": "python3"
  },
  "language_info": {
   "codemirror_mode": {
    "name": "ipython",
    "version": 3
   },
   "file_extension": ".py",
   "mimetype": "text/x-python",
   "name": "python",
   "nbconvert_exporter": "python",
   "pygments_lexer": "ipython3",
   "version": "3.8.15"
  }
 },
 "nbformat": 4,
 "nbformat_minor": 5
}
