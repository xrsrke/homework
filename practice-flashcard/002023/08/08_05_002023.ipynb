{
 "cells": [
  {
   "cell_type": "markdown",
   "id": "5c4b8975-40a7-4622-81e8-1c987ed4d326",
   "metadata": {},
   "source": [
    "### MechInterp"
   ]
  },
  {
   "cell_type": "code",
   "execution_count": 1,
   "id": "9e32213f-b36f-4a3c-955c-afe3320ef906",
   "metadata": {
    "tags": []
   },
   "outputs": [],
   "source": [
    "import torch\n",
    "from torch import nn\n",
    "import torch.nn.functional as F"
   ]
  },
  {
   "cell_type": "code",
   "execution_count": null,
   "id": "70579f72-0bbc-437b-9c48-2d6427c22af0",
   "metadata": {},
   "outputs": [],
   "source": [
    "logits = model(past_moves)"
   ]
  },
  {
   "cell_type": "code",
   "execution_count": null,
   "id": "69703e21-8f39-4c0e-b3e1-2d154ae3f538",
   "metadata": {},
   "outputs": [],
   "source": [
    "log_probs = F.softmax(logits[0, -1], dim=-1)"
   ]
  },
  {
   "cell_type": "code",
   "execution_count": null,
   "id": "729c2b41-de0c-4597-a773-66e992aa0865",
   "metadata": {},
   "outputs": [],
   "source": [
    "board_state = torch.zeros(board_size*board_size)"
   ]
  },
  {
   "cell_type": "code",
   "execution_count": null,
   "id": "3aabac6f-5f69-4bfa-adc0-1a5e91f83ee5",
   "metadata": {},
   "outputs": [],
   "source": [
    "board_state[next_possible_moves] = log_probs"
   ]
  },
  {
   "cell_type": "code",
   "execution_count": 2,
   "id": "89f287dc-ebba-43f9-a708-066820aebb44",
   "metadata": {
    "tags": []
   },
   "outputs": [],
   "source": [
    "from transformer_lens.utils import get_act_name"
   ]
  },
  {
   "cell_type": "code",
   "execution_count": null,
   "id": "3a09689d-9288-4c07-b646-f1bca03e6797",
   "metadata": {},
   "outputs": [],
   "source": [
    "tokens = model.to_tokens(text)"
   ]
  },
  {
   "cell_type": "code",
   "execution_count": null,
   "id": "34297283-a8a5-403a-8818-13c9b1059d8b",
   "metadata": {},
   "outputs": [],
   "source": [
    "hook_name = f\"blocks.{layer_idx}.mlp.hook_post\""
   ]
  },
  {
   "cell_type": "code",
   "execution_count": null,
   "id": "d44fd247-3c1c-41a8-b0d6-02da6547fbab",
   "metadata": {},
   "outputs": [],
   "source": [
    "_, cache = model.run_with_cache(\n",
    "    tokens\n",
    ")"
   ]
  },
  {
   "cell_type": "code",
   "execution_count": null,
   "id": "aa04bcf9-b219-4a4e-a563-6643de9e1bcf",
   "metadata": {},
   "outputs": [],
   "source": [
    "x = torch.argmax(cache[hook_name][0, :, 69], dim=-1)"
   ]
  },
  {
   "cell_type": "code",
   "execution_count": null,
   "id": "f4a2e552-c0a4-475e-beef-e75812404ff0",
   "metadata": {},
   "outputs": [],
   "source": [
    "step 1: rewrite probs as logit diff\n",
    "step 2: approximate layer norm\n",
    "step 3: inreverse transformation\n",
    "step 4: project pre_ln_final to W_U"
   ]
  },
  {
   "cell_type": "code",
   "execution_count": null,
   "id": "5645240d-0010-4d4e-8cdf-81dca4e2745b",
   "metadata": {},
   "outputs": [],
   "source": [
    "_, cache = model.run_with_cache(\n",
    "    past_moves\n",
    ")"
   ]
  },
  {
   "cell_type": "code",
   "execution_count": 3,
   "id": "0fea0f0e-b65d-455a-a3b7-5fcf6817bc7e",
   "metadata": {
    "tags": []
   },
   "outputs": [],
   "source": [
    "hook_name = get_act_name(\"out\", 3)"
   ]
  },
  {
   "cell_type": "code",
   "execution_count": 4,
   "id": "491671fc-9bc3-4f08-84f3-e00a39ff14e8",
   "metadata": {
    "tags": []
   },
   "outputs": [
    {
     "data": {
      "text/plain": [
       "'blocks.3.hook_out'"
      ]
     },
     "execution_count": 4,
     "metadata": {},
     "output_type": "execute_result"
    }
   ],
   "source": [
    "hook_name"
   ]
  },
  {
   "cell_type": "code",
   "execution_count": null,
   "id": "e5060478-405a-4bd6-bd45-52a6d174515a",
   "metadata": {},
   "outputs": [],
   "source": [
    "top_neurons = cache[hook_name].std(dim=[0, 1]).argsort(descending=True)"
   ]
  },
  {
   "cell_type": "code",
   "execution_count": 5,
   "id": "d0b251dc-ebac-4a19-92e2-95f9fbf4b3a2",
   "metadata": {
    "tags": []
   },
   "outputs": [],
   "source": [
    "from einops import einsum"
   ]
  },
  {
   "cell_type": "code",
   "execution_count": null,
   "id": "d0f06fa4-44df-4ad8-b51e-c70cdd27542d",
   "metadata": {},
   "outputs": [],
   "source": [
    "step 1: resid[0]\n",
    "step 2: memory coefficients = ReLU(resid[0] @ k_i)\n",
    "step 3: memory = memory coefficients @ v_i"
   ]
  },
  {
   "cell_type": "code",
   "execution_count": 7,
   "id": "8fc0c727-250e-4bfa-bd9f-8b61b34a7416",
   "metadata": {
    "tags": []
   },
   "outputs": [],
   "source": [
    "def intervene_resid(resid, hook, feature, scale):\n",
    "    feature /= feature.norm()\n",
    "    projection = resid[0][position] @ feature\n",
    "    resid[0][position] -= scale * projection * feature\n",
    "    return resid"
   ]
  },
  {
   "cell_type": "code",
   "execution_count": 6,
   "id": "93f874ce-46c6-4384-9228-c5f3b4f18c4f",
   "metadata": {
    "tags": []
   },
   "outputs": [],
   "source": [
    "from functools import partial"
   ]
  },
  {
   "cell_type": "code",
   "execution_count": null,
   "id": "7661da46-7629-46f7-bd7f-8a684fe0cf06",
   "metadata": {},
   "outputs": [],
   "source": [
    "hook_func = partial(\n",
    "    intervene_resid,\n",
    "    feature=target_feature,\n",
    "    scale=scale_factor\n",
    ")"
   ]
  },
  {
   "cell_type": "code",
   "execution_count": null,
   "id": "ac509c53-6127-4c48-981b-11b5b46c631b",
   "metadata": {},
   "outputs": [],
   "source": [
    "hook_name = get_act_name(\"resid_post\", layer_idx)"
   ]
  },
  {
   "cell_type": "code",
   "execution_count": null,
   "id": "364d317b-3af7-4019-8b3e-86d2b9f8bad0",
   "metadata": {},
   "outputs": [],
   "source": [
    "_, intervened_logits = model.run_with_hooks(\n",
    "    past_moves,\n",
    "    fwd_hooks=[(hook_name, hook_func)]\n",
    ")"
   ]
  },
  {
   "cell_type": "code",
   "execution_count": null,
   "id": "1ae8c5f1-bf21-4cbb-ae2e-183e0a36ba85",
   "metadata": {},
   "outputs": [],
   "source": [
    "log_probs = F.log_softmax(intervened_logits[0, position], dim=-1)"
   ]
  },
  {
   "cell_type": "code",
   "execution_count": null,
   "id": "4a547e7b-16b5-4201-9cef-d486139058ac",
   "metadata": {},
   "outputs": [],
   "source": [
    "mine = linear_probe[..., 2]\n",
    "theirs = linear_probe[..., 1]"
   ]
  },
  {
   "cell_type": "code",
   "execution_count": null,
   "id": "ab91b985-47c5-4729-8cc5-2843c6d01aaf",
   "metadata": {},
   "outputs": [],
   "source": [
    "mine_vs_theirs = mine - theirs"
   ]
  },
  {
   "cell_type": "code",
   "execution_count": null,
   "id": "c077d9e6-1651-4d1f-9518-c8a82e0d87be",
   "metadata": {},
   "outputs": [],
   "source": [
    "mine_vs_theirs[5, 4]"
   ]
  },
  {
   "cell_type": "code",
   "execution_count": null,
   "id": "4a36a751-a4db-493f-ba75-72dc13551fff",
   "metadata": {},
   "outputs": [],
   "source": [
    "layer_idx = 5\n",
    "neuron_idx = 1393"
   ]
  },
  {
   "cell_type": "code",
   "execution_count": null,
   "id": "53e69528-abfc-4bba-90c2-856a860bb98c",
   "metadata": {},
   "outputs": [],
   "source": [
    "W_in = model.W_in\n",
    "w_in = W_in[layer_idx, neuron_idx]"
   ]
  },
  {
   "cell_type": "code",
   "execution_count": null,
   "id": "f32754cb-7581-4101-8091-cb5769559bc9",
   "metadata": {},
   "outputs": [],
   "source": [
    "def project(weight, feature):\n",
    "    pass"
   ]
  },
  {
   "cell_type": "code",
   "execution_count": 8,
   "id": "01ff75cd-fae6-4630-8bfc-ac2a78d5d184",
   "metadata": {
    "tags": []
   },
   "outputs": [],
   "source": [
    "import torch.distributed as dist"
   ]
  },
  {
   "cell_type": "code",
   "execution_count": null,
   "id": "35ffd23d-ad31-4c7b-8deb-133da5619c70",
   "metadata": {},
   "outputs": [],
   "source": [
    "class TensorParallelGroupInitializer(ProcessGroupInitializer):\n",
    "    def init_process_group(self):\n",
    "        self.num_tensor_parallel_groups = self.world_size // self.tensor_parallel_size\n",
    "        \n",
    "        for i in range(self.num_tensor_parallel_groups):\n",
    "            ranks = list(range(\n",
    "                i*tensor_parallel_size,\n",
    "                (i+1)*tensor_parallel_size\n",
    "            ))\n",
    "            process_group = dist.process_group()\n",
    "            \n",
    "            if self.rank in ranks:\n",
    "                local_rank = ranks.index(self.rank)\n",
    "                local_world_size = len(ranks)"
   ]
  },
  {
   "cell_type": "code",
   "execution_count": null,
   "id": "a146bf3d-c118-4bd5-9b3e-25c8c25ebe22",
   "metadata": {},
   "outputs": [],
   "source": [
    "void plus_one(int number) {\n",
    "    return number + 1;\n",
    "}"
   ]
  },
  {
   "cell_type": "code",
   "execution_count": null,
   "id": "418d53ad-6286-470e-a27f-ddd92f7c3b6c",
   "metadata": {},
   "outputs": [],
   "source": [
    "#include <iostream>\n",
    "using namespace std;"
   ]
  },
  {
   "cell_type": "code",
   "execution_count": null,
   "id": "590de768-fd9f-4b49-963e-d77caba3ecdd",
   "metadata": {},
   "outputs": [],
   "source": [
    "int main() {\n",
    "    cout << \"hello\";\n",
    "    return 0;\n",
    "}"
   ]
  },
  {
   "cell_type": "code",
   "execution_count": 9,
   "id": "747c9342-25f0-4266-9a9f-8b84318c5fc9",
   "metadata": {
    "tags": []
   },
   "outputs": [],
   "source": [
    "from transformer_lens.utils import get_act_name"
   ]
  },
  {
   "cell_type": "code",
   "execution_count": 10,
   "id": "7446e96b-1a72-4dc3-9608-aaf86b2c38e4",
   "metadata": {
    "tags": []
   },
   "outputs": [],
   "source": [
    "layer_idx = 3"
   ]
  },
  {
   "cell_type": "code",
   "execution_count": 11,
   "id": "d7963954-f346-428d-9679-169408450cf3",
   "metadata": {
    "tags": []
   },
   "outputs": [],
   "source": [
    "hook_name = get_act_name(\"post\", layer_idx)"
   ]
  },
  {
   "cell_type": "code",
   "execution_count": 12,
   "id": "540ed785-b473-40e9-a5e1-40b874056a27",
   "metadata": {
    "tags": []
   },
   "outputs": [
    {
     "data": {
      "text/plain": [
       "'blocks.3.mlp.hook_post'"
      ]
     },
     "execution_count": 12,
     "metadata": {},
     "output_type": "execute_result"
    }
   ],
   "source": [
    "hook_name"
   ]
  },
  {
   "cell_type": "code",
   "execution_count": null,
   "id": "06203e4a-b1cc-477a-b136-bf9fd06f5c6d",
   "metadata": {},
   "outputs": [],
   "source": [
    "_, cache = model.run_with_cache(past_moves)"
   ]
  },
  {
   "cell_type": "code",
   "execution_count": null,
   "id": "61232fdc-08bc-4034-92e3-a28001e54afd",
   "metadata": {},
   "outputs": [],
   "source": [
    "top_neurons = cache[hook_name].std(dim=[0, 1]).argsort(descending=True)[:3]"
   ]
  },
  {
   "cell_type": "code",
   "execution_count": 13,
   "id": "e1080051-666f-479f-8811-d1415ffa208f",
   "metadata": {
    "tags": []
   },
   "outputs": [],
   "source": [
    "outputs = []"
   ]
  },
  {
   "cell_type": "code",
   "execution_count": 14,
   "id": "bd539496-2db5-47f0-8bc4-f8bcd78f37aa",
   "metadata": {
    "tags": []
   },
   "outputs": [],
   "source": [
    "def calculate_contribution(neuron_idx, feature):\n",
    "    w_out = model.W_out[layer_idx, neuron_idx, :]\n",
    "    w_out /= w_out.norm()\n",
    "    feature /= feature.norm()\n",
    "    return einsum(\n",
    "        w_out, featuer,\n",
    "        \"\"\n",
    "    )"
   ]
  },
  {
   "cell_type": "code",
   "execution_count": null,
   "id": "52c2b442-df99-4f48-83e0-90fac53c2bc8",
   "metadata": {},
   "outputs": [],
   "source": [
    "for neuron in top_neurons:\n",
    "    outputs"
   ]
  },
  {
   "cell_type": "code",
   "execution_count": null,
   "id": "0051a4d8-babb-40fa-a6f1-4e4687430cda",
   "metadata": {},
   "outputs": [],
   "source": [
    "model.W_E"
   ]
  },
  {
   "cell_type": "code",
   "execution_count": null,
   "id": "ca0d0525-328e-4e37-a4e5-b137198ba278",
   "metadata": {},
   "outputs": [],
   "source": [
    "input_embedding > weights > neurons > activations"
   ]
  },
  {
   "cell_type": "code",
   "execution_count": null,
   "id": "2607abb3-4bb5-4a02-b56a-f0a9f777ae0d",
   "metadata": {},
   "outputs": [],
   "source": [
    "W_O = model.W_O[layer_idx, head_idx]\n",
    "W_V = model.W_V[layer_idx, head_idx]\n",
    "W_E = model.W_E\n",
    "W_U = model.W_U"
   ]
  },
  {
   "cell_type": "code",
   "execution_count": 15,
   "id": "b13404d3-61b5-4f70-9899-483b5491f73e",
   "metadata": {
    "tags": []
   },
   "outputs": [],
   "source": [
    "from transformer_lens import FactoredMatrix"
   ]
  },
  {
   "cell_type": "code",
   "execution_count": null,
   "id": "f45d3665-2cb6-4daa-af1d-d8921b649986",
   "metadata": {},
   "outputs": [],
   "source": [
    "OV_circuit = FactoredMatrix(W_V, W_O)"
   ]
  },
  {
   "cell_type": "code",
   "execution_count": null,
   "id": "715b22cc-9c93-4ef8-883d-19a379333b3a",
   "metadata": {},
   "outputs": [],
   "source": [
    "full_OV_circuit = W_E @ OV_circuit @ W_U"
   ]
  },
  {
   "cell_type": "code",
   "execution_count": null,
   "id": "a07778e8-d869-42c2-bdd8-94cefeb445f5",
   "metadata": {},
   "outputs": [],
   "source": [
    "tokens = model.to_tokens(text)"
   ]
  },
  {
   "cell_type": "code",
   "execution_count": null,
   "id": "d6bdf784-4724-4c4f-afa3-a012ab4b44db",
   "metadata": {},
   "outputs": [],
   "source": [
    "_, cache = model.run_with_cache(tokens)"
   ]
  },
  {
   "cell_type": "code",
   "execution_count": 16,
   "id": "157b9f58-695e-467f-9c3d-ebaf4441158e",
   "metadata": {
    "tags": []
   },
   "outputs": [],
   "source": [
    "inputs = []"
   ]
  },
  {
   "cell_type": "code",
   "execution_count": null,
   "id": "52ca27bd-318f-45ec-8a39-63df0ccdc934",
   "metadata": {},
   "outputs": [],
   "source": [
    "inputs.append(cache[\"embed\"])\n",
    "inputs.append(cache[\"pos\"])\n",
    "inputs.append(cache[\"result\", prev_layer_idx])"
   ]
  },
  {
   "cell_type": "code",
   "execution_count": null,
   "id": "b448f66d-cc07-49eb-b2ad-75505f0b24e4",
   "metadata": {},
   "outputs": [],
   "source": [
    "W_Q = model.W_Q[next_layer_idx, head_idx]"
   ]
  },
  {
   "cell_type": "code",
   "execution_count": 17,
   "id": "8155206f-1f72-477d-b4a3-f924948ea72e",
   "metadata": {
    "tags": []
   },
   "outputs": [],
   "source": [
    "query_contributions = []"
   ]
  },
  {
   "cell_type": "code",
   "execution_count": null,
   "id": "e815333b-e5d6-45e1-8a7c-9d58fb96e6de",
   "metadata": {},
   "outputs": [],
   "source": [
    "for input in inputs:\n",
    "    query_contributions.append(einsum(\n",
    "        input,\n",
    "        W_Q,\n",
    "        \"\"\n",
    "    ))"
   ]
  },
  {
   "cell_type": "code",
   "execution_count": null,
   "id": "27334042-4b2f-450f-88ed-012fbfe0d619",
   "metadata": {},
   "outputs": [],
   "source": [
    "target_tokens = tokens[1:]"
   ]
  },
  {
   "cell_type": "code",
   "execution_count": null,
   "id": "d01942c4-651c-4f92-846e-64b051b6fa4a",
   "metadata": {},
   "outputs": [],
   "source": [
    "_, cache = model.run_with_cache(tokens)"
   ]
  },
  {
   "cell_type": "code",
   "execution_count": null,
   "id": "6d8f3c6b-a84d-474e-9bb8-6eb4b58293bd",
   "metadata": {},
   "outputs": [],
   "source": [
    "embed = cache[hook_name]"
   ]
  },
  {
   "cell_type": "code",
   "execution_count": null,
   "id": "37db7cda-1aee-488f-9597-049cf18ec810",
   "metadata": {},
   "outputs": [],
   "source": [
    "W_U = model.W_U"
   ]
  },
  {
   "cell_type": "code",
   "execution_count": null,
   "id": "c5e7c3ac-d8dd-42a8-8b0f-976fa30efd8d",
   "metadata": {},
   "outputs": [],
   "source": [
    "einsum(\n",
    "    W_U[:, target_tokens],\n",
    "    embed[:-1]\n",
    ")"
   ]
  },
  {
   "cell_type": "code",
   "execution_count": null,
   "id": "50fce639-9b13-4dc6-a100-97b351baaf4e",
   "metadata": {},
   "outputs": [],
   "source": [
    "einsum(\n",
    "    W_U[:, target_tokens],\n",
    "    embed[:-1]\n",
    ")"
   ]
  },
  {
   "cell_type": "code",
   "execution_count": 19,
   "id": "84a2c831-062e-4b27-b026-00c8576462ab",
   "metadata": {
    "tags": []
   },
   "outputs": [],
   "source": [
    "n_layers = 6"
   ]
  },
  {
   "cell_type": "code",
   "execution_count": null,
   "id": "3eecfbd2-cf2c-4225-a24d-0161452b89c8",
   "metadata": {},
   "outputs": [],
   "source": [
    "_, cache = model.run_with_cache(board_history)"
   ]
  },
  {
   "cell_type": "code",
   "execution_count": null,
   "id": "520a406f-cf62-40d9-8fb6-16ce61ac011b",
   "metadata": {},
   "outputs": [],
   "source": [
    "mine = linear_probe[..., 2]\n",
    "theirs = linear_probe[..., 1]"
   ]
  },
  {
   "cell_type": "code",
   "execution_count": null,
   "id": "4a814ce7-1169-4362-afe9-6faf37d5921e",
   "metadata": {},
   "outputs": [],
   "source": [
    "mine_vs_theirs = mine - theirs"
   ]
  },
  {
   "cell_type": "code",
   "execution_count": 18,
   "id": "975aee59-5b4f-45e6-a7b7-da176c9bafdd",
   "metadata": {
    "tags": []
   },
   "outputs": [],
   "source": [
    "attn_contributions = []"
   ]
  },
  {
   "cell_type": "code",
   "execution_count": null,
   "id": "77a45026-dfc2-4d7b-bfe7-47bb39714d91",
   "metadata": {},
   "outputs": [],
   "source": [
    "def calculate_contribution(attn_out, feature):\n",
    "    return einsum(\n",
    "        attn_out,\n",
    "        feature,\n",
    "        \"\"\n",
    "    )"
   ]
  },
  {
   "cell_type": "code",
   "execution_count": null,
   "id": "8cca753a-c6ef-4a2a-a517-46fcdaa06e93",
   "metadata": {},
   "outputs": [],
   "source": [
    "for layer_idx in range(n_layers):\n",
    "    hook_name = get_act_name(\"attn_out\", layer_idx)\n",
    "    att_out = cache[hook_name]\n",
    "    attn_contributions.append(calculate_contribution(attn_out, feature))"
   ]
  },
  {
   "cell_type": "code",
   "execution_count": null,
   "id": "89be102f-5ef9-4965-9062-b9740d457b9c",
   "metadata": {},
   "outputs": [],
   "source": [
    "repeated_tokens = model.to_tokens(repeated_text, prepend_bos=True)"
   ]
  },
  {
   "cell_type": "code",
   "execution_count": null,
   "id": "e451bb78-1c6e-4a2f-87a4-e8eaa9b3e3fd",
   "metadata": {},
   "outputs": [],
   "source": [
    "target_heads = [(6, 9), (4, 2)]"
   ]
  },
  {
   "cell_type": "code",
   "execution_count": 20,
   "id": "1ddc3524-3b32-4892-b42f-a5af84d45360",
   "metadata": {
    "tags": []
   },
   "outputs": [],
   "source": [
    "attn_patterns = []"
   ]
  },
  {
   "cell_type": "code",
   "execution_count": null,
   "id": "439ab07e-d9be-4353-8c00-20f2b6723dc6",
   "metadata": {},
   "outputs": [],
   "source": [
    "for head_idx, layer_idx in target_heads:\n",
    "    hook_name = get_act_name(\"pattern\", layer_idx)\n",
    "    attn_pattern.append(cache[hook_name][:, head_idx])"
   ]
  },
  {
   "cell_type": "code",
   "execution_count": null,
   "id": "f9c8cf3a-1102-4066-80d5-2cb2aacf1d76",
   "metadata": {},
   "outputs": [],
   "source": [
    "W_E = model.W_E\n",
    "W_Q = model.W_Q[1, 4]\n",
    "W_K = model.W_K[1, 4]\n",
    "W_O = model.W_O[0, 7]\n",
    "W_V = model.W_V[0, 7]"
   ]
  },
  {
   "cell_type": "code",
   "execution_count": null,
   "id": "18602058-fd02-4cd8-83c1-1b5b5ee44d18",
   "metadata": {},
   "outputs": [],
   "source": [
    "K = W_E @ W_V @ W_O @ @ W_K\n",
    "Q = W_E @ W_Q"
   ]
  },
  {
   "cell_type": "code",
   "execution_count": null,
   "id": "eb3d2dc5-51b0-45e3-831f-346e90f9a3f5",
   "metadata": {},
   "outputs": [],
   "source": [
    "ReLU(x @ W_in) @ W_out\n",
    "\n",
    "\n",
    "sum over n neurons ReLU(x @ W_in[: i]) @ W_out[i, :]"
   ]
  },
  {
   "cell_type": "code",
   "execution_count": null,
   "id": "7ce6a2ce-42e8-478f-9401-1dc82d4fcdf9",
   "metadata": {},
   "outputs": [],
   "source": [
    "step 1: determine the position: resid[0]\n",
    "step 2: memory coefficients: ReLU(resid[0] @ k_i)\n",
    "step 3: values: memory_coefficient_i @ v_i\n",
    "step 4: aggregate memory: sum"
   ]
  },
  {
   "cell_type": "code",
   "execution_count": null,
   "id": "4184402a-ce98-4c4b-816f-d0d4ebb276c5",
   "metadata": {},
   "outputs": [],
   "source": [
    "_, cache = model.run_with_cache(past_moves)"
   ]
  },
  {
   "cell_type": "code",
   "execution_count": null,
   "id": "b6172b16-709b-44f0-a760-69eb96975772",
   "metadata": {},
   "outputs": [],
   "source": [
    "top_neurons = cache[\"out\", 4].std(dim=[0, 1]).argsort(descending=True)[:-4]"
   ]
  },
  {
   "cell_type": "code",
   "execution_count": null,
   "id": "e8c7dffc-de42-4853-aeac-191c73b0ae98",
   "metadata": {},
   "outputs": [],
   "source": [
    "W_out = model.W_out[4]"
   ]
  },
  {
   "cell_type": "code",
   "execution_count": null,
   "id": "3faa835e-2168-4823-b217-9c879aecc8a1",
   "metadata": {},
   "outputs": [],
   "source": [
    "def calculate_contribution(weight, feature):\n",
    "    weight /= weight.norm()\n",
    "    feature /= feature.norm()\n",
    "    return einsum(\n",
    "        weight, feature,\n",
    "        \"\"\n",
    "    )"
   ]
  },
  {
   "cell_type": "code",
   "execution_count": 21,
   "id": "258964bc-fcf0-49e4-bc48-4807c855beca",
   "metadata": {
    "tags": []
   },
   "outputs": [],
   "source": [
    "headmap_blank = []"
   ]
  },
  {
   "cell_type": "code",
   "execution_count": null,
   "id": "880cbcf5-28da-4598-8024-be0c5b1bc5f4",
   "metadata": {},
   "outputs": [],
   "source": [
    "for neuron_idx in top_neurons:\n",
    "    headmap_blank.append(calculate_contribution(\n",
    "        W_out[neuron_idx],\n",
    "        blank_dir\n",
    "    ))"
   ]
  },
  {
   "cell_type": "code",
   "execution_count": null,
   "id": "d0a460a3-83a9-4f19-aee6-e0b193b254d1",
   "metadata": {},
   "outputs": [],
   "source": [
    "_, cache = model.run_with_cache(tokens)"
   ]
  },
  {
   "cell_type": "code",
   "execution_count": null,
   "id": "5081a801-3f0b-4805-af3c-9e83be7031ad",
   "metadata": {},
   "outputs": [],
   "source": [
    "target_tokens = tokens[1:]"
   ]
  },
  {
   "cell_type": "code",
   "execution_count": null,
   "id": "c918e230-9587-497a-bc8e-ef11fdb87445",
   "metadata": {},
   "outputs": [],
   "source": [
    "W_U = model.W_U"
   ]
  },
  {
   "cell_type": "code",
   "execution_count": null,
   "id": "15a4e362-214b-4dd4-aa28-224f683ef94c",
   "metadata": {},
   "outputs": [],
   "source": [
    "embed = cache[hook_name][:-1]"
   ]
  },
  {
   "cell_type": "code",
   "execution_count": null,
   "id": "9ba2ffaf-60e4-4888-aeca-6c32b54547bf",
   "metadata": {},
   "outputs": [],
   "source": [
    "embed_attributions = einsum(\n",
    "    W_U[target_tokens],\n",
    "    embed,\n",
    ")"
   ]
  },
  {
   "cell_type": "code",
   "execution_count": null,
   "id": "d8566c51-f7c5-4dca-ad05-c41c395852cc",
   "metadata": {},
   "outputs": [],
   "source": [
    "step 1: prob(0) = sigmoid(logit0 - logit1)\n",
    "step 2: logits[0] = resid2 @ W_U[0]\n",
    "logits[1] = resid2 @ W_U[1]\n",
    "step 3: logits[0] - logits[1]\n",
    "= resid2 @ W_U[0] - resid2 @ W_U[1]\n",
    "= resid2 @ (W_U[0] - W_U[1])\n",
    "step 4: resid2 = resid1 @ ln2 @ W_OV^{2, 0}\n",
    "step 5: "
   ]
  },
  {
   "cell_type": "code",
   "execution_count": null,
   "id": "1485d1ab-bcaa-4a38-b8cf-73d39b209c19",
   "metadata": {},
   "outputs": [],
   "source": [
    "step 1: partitioning\n",
    "step 2: gather, do forward, release\n",
    "step 3: gather, do backward, release\n",
    "step 4: reduce scatter\n",
    "step 5: update "
   ]
  },
  {
   "cell_type": "code",
   "execution_count": 22,
   "id": "71b9d9ce-9972-426b-8428-e7db8b54a1b1",
   "metadata": {
    "tags": []
   },
   "outputs": [],
   "source": [
    "def compute_total_memory(model):\n",
    "    total_memory = 0\n",
    "    \n",
    "    for param in model.parameters():\n",
    "        total_memory += param.storage().size() "
   ]
  },
  {
   "cell_type": "code",
   "execution_count": 31,
   "id": "06613086-2bdc-4b2c-b977-980700d757db",
   "metadata": {
    "tags": []
   },
   "outputs": [
    {
     "data": {
      "text/plain": [
       "4"
      ]
     },
     "execution_count": 31,
     "metadata": {},
     "output_type": "execute_result"
    }
   ],
   "source": [
    "list(nn.Linear(1, 2).parameters())[0].element_size()"
   ]
  },
  {
   "cell_type": "code",
   "execution_count": null,
   "id": "ee2d5ba5-3ad0-47d7-a9ae-80a5f368b231",
   "metadata": {},
   "outputs": [],
   "source": [
    "step 1: prob[0] = sigmoid(logit0 - logit1)\n",
    "step 2:\n",
    "+ logit0 = resid2 @ W_U[0]\n",
    "+ logit1 = resid2 @ W_U[1]\n",
    "step 3: logit0 - logit1 = resid2 @ (W_U[0] - W_U[1])\n",
    "step 4: resid2 = resid1 @ ln2 @ W_OV^{2, 0}\n",
    "step 5: resid1 @ ln2 @ W_OV^{2, 0} @ (W_U[0] - W_U[1])"
   ]
  },
  {
   "cell_type": "code",
   "execution_count": null,
   "id": "ffca4633-f8bf-4dad-a3cd-33531f5764d5",
   "metadata": {},
   "outputs": [],
   "source": [
    "hook_name = get_act_name(\"out\", 5)"
   ]
  },
  {
   "cell_type": "code",
   "execution_count": null,
   "id": "7a3eb10c-8122-4d0b-b6ab-a1ccdc7b8303",
   "metadata": {},
   "outputs": [],
   "source": [
    "input_direction = model.W_in[5, :, 1393]"
   ]
  },
  {
   "cell_type": "code",
   "execution_count": null,
   "id": "ca382d82-d595-46c4-b2ab-fa5f816eef97",
   "metadata": {},
   "outputs": [],
   "source": [
    "def calculate_similarity(weight, feature):\n",
    "    weight \\= weight.norm()\n",
    "    feature \\= feature.norm()\n",
    "    return einsum(\n",
    "        weight, feature,\n",
    "        \"\"\n",
    "    )"
   ]
  },
  {
   "cell_type": "code",
   "execution_count": null,
   "id": "c75c5c5a-59f3-4ed5-8609-bb87f592b63f",
   "metadata": {},
   "outputs": [],
   "source": [
    "W_pos = model.W_pos"
   ]
  },
  {
   "cell_type": "code",
   "execution_count": null,
   "id": "561f5c0f-a0cf-41d5-89bf-4eb4cce10724",
   "metadata": {},
   "outputs": [],
   "source": [
    "W_Q = model.W_Q[layer_idx, head_idx]\n",
    "W_K = model.W_K[layer_idx, head_idx]"
   ]
  },
  {
   "cell_type": "code",
   "execution_count": null,
   "id": "41295ded-50b3-4205-abf3-df67a8fca2f5",
   "metadata": {},
   "outputs": [],
   "source": [
    "def mask_scores(scores):\n",
    "    masks = torch.triu(torch.ones_like(score)).bool()\n",
    "    return torch.where(masks, scores, -1e9)"
   ]
  },
  {
   "cell_type": "code",
   "execution_count": null,
   "id": "f5fb66e2-fff0-4175-8cc1-4ac0f533a76d",
   "metadata": {},
   "outputs": [],
   "source": [
    "d_head = model.cfg.d_head"
   ]
  },
  {
   "cell_type": "code",
   "execution_count": null,
   "id": "b5343e53-37fb-4278-9749-fb30d1fa9f59",
   "metadata": {},
   "outputs": [],
   "source": [
    "scores = W_pos @ W_Q @ W_K @ W_pos.T\n",
    "masked_scores = mask_score(scores * (d_head * 0.5))\n",
    "pos_by_pos_pattern = F.softmax(mask_scores)"
   ]
  },
  {
   "cell_type": "code",
   "execution_count": null,
   "id": "f71de5cd-e6ed-4d19-b6aa-5755f1ccb6ab",
   "metadata": {},
   "outputs": [],
   "source": [
    "neural plasticity, reliable recording, biocompatible"
   ]
  },
  {
   "cell_type": "code",
   "execution_count": null,
   "id": "89fc747b-0b09-4d37-aed4-51183e4f7561",
   "metadata": {},
   "outputs": [],
   "source": [
    "step 1: detetermine a list of global ranks in the parallel group\n",
    "step 2: "
   ]
  },
  {
   "cell_type": "code",
   "execution_count": null,
   "id": "a5d1600b-4faf-496b-80e3-cfbd575f06e1",
   "metadata": {},
   "outputs": [],
   "source": [
    "def compute_total_memory(model):\n",
    "    total_memory = 0\n",
    "    \n",
    "    for p in model.parameters():\n",
    "        total_memory += p.numel() * p.element_size()"
   ]
  },
  {
   "cell_type": "code",
   "execution_count": 32,
   "id": "a8698232-a9da-4903-b653-f0a315c18fc5",
   "metadata": {
    "tags": []
   },
   "outputs": [],
   "source": [
    "from torch.multiprocessing import Process"
   ]
  },
  {
   "cell_type": "code",
   "execution_count": 33,
   "id": "f85e6ac8-b42a-4d43-ba77-ec21f51141c6",
   "metadata": {
    "tags": []
   },
   "outputs": [],
   "source": [
    "world_size = 4"
   ]
  },
  {
   "cell_type": "code",
   "execution_count": 34,
   "id": "05202c67-2de8-4e7a-acb4-12a0076e4c1c",
   "metadata": {
    "tags": []
   },
   "outputs": [],
   "source": [
    "import torch.distributed.rpc as rpc"
   ]
  },
  {
   "cell_type": "code",
   "execution_count": 35,
   "id": "cbe76eff-8ebc-46f9-b581-4a79c511eb73",
   "metadata": {
    "tags": []
   },
   "outputs": [],
   "source": [
    "import os"
   ]
  },
  {
   "cell_type": "code",
   "execution_count": null,
   "id": "ba726f9c-303f-4e28-a7f6-3faf2b75ae34",
   "metadata": {},
   "outputs": [],
   "source": [
    "def run_worker(rank, world_size):\n",
    "    os.environ[\"MASTER_ADDR\"] = \"localhost\"\n",
    "    os.environ[\"MASTER_PORT\"] = 29500\n",
    "    \n",
    "    rpc.init_rpc(\n",
    "        name=AGENT_NAME.format(rank),\n",
    "        backend=\"gloo\",\n",
    "        rank=rank,\n",
    "        world_size=world_size\n",
    "    )"
   ]
  },
  {
   "cell_type": "code",
   "execution_count": 36,
   "id": "35598ac6-0e61-4f81-bc71-b2acce8e7496",
   "metadata": {
    "tags": []
   },
   "outputs": [],
   "source": [
    "processes = []"
   ]
  },
  {
   "cell_type": "code",
   "execution_count": null,
   "id": "12855245-664f-4444-8e4e-a54852853644",
   "metadata": {},
   "outputs": [],
   "source": [
    "for rank in range(world_size):\n",
    "    p = Process(target=run_worker, args=(rank, world_size))\n",
    "    p.start()\n",
    "    p.append(p)"
   ]
  },
  {
   "cell_type": "code",
   "execution_count": null,
   "id": "23c2cc8d-5a9f-4483-91f5-e8098b3dffb5",
   "metadata": {},
   "outputs": [],
   "source": [
    "for p in process:\n",
    "    p.join()"
   ]
  },
  {
   "cell_type": "code",
   "execution_count": null,
   "id": "f27e82be-24e2-4204-9f0b-38f175a086ac",
   "metadata": {},
   "outputs": [],
   "source": [
    "class Observer:\n",
    "    def __init__(self, env):\n",
    "        self.id = rpc.get_worker_info()\n",
    "        self.env = env\n",
    "    \n",
    "    def run_episode(agent_rref):\n",
    "        state, _ = self.env.reset()\n",
    "        \n",
    "        for _ in range(69):\n",
    "            action = rpc.rpc_sync(\n",
    "                to=rpc.get_worker_info(agent_rref).owner(),\n",
    "                func=agent_rref.rpc_sync().select_action(self.id, state)\n",
    "            )\n",
    "            \n",
    "            state, reward, done, _ = env.step(action)\n",
    "            \n",
    "            if done:\n",
    "                break"
   ]
  },
  {
   "cell_type": "code",
   "execution_count": 37,
   "id": "0d8d124d-7f40-48e7-8da0-f413e9f69b2a",
   "metadata": {
    "tags": []
   },
   "outputs": [],
   "source": [
    "handlers = []"
   ]
  },
  {
   "cell_type": "code",
   "execution_count": null,
   "id": "1cc04c38-5d58-4896-a87c-69133d4cdd66",
   "metadata": {},
   "outputs": [],
   "source": [
    "for ob_rref in ob_rrefs:\n",
    "    handlers.append(rpc.rpc_async(\n",
    "        to=ob_rref.owner(),\n",
    "        func=ob_rref.rpc_sync().run()\n",
    "    ))"
   ]
  },
  {
   "cell_type": "code",
   "execution_count": null,
   "id": "85826336-4698-40a4-8a45-781e2be128bf",
   "metadata": {},
   "outputs": [],
   "source": [
    "for handler in handlers:\n",
    "    handler.wait()"
   ]
  },
  {
   "cell_type": "code",
   "execution_count": null,
   "id": "26e0269c-da0c-4bdc-9254-d6c7c9c83eaa",
   "metadata": {},
   "outputs": [],
   "source": [
    "step 1: "
   ]
  },
  {
   "cell_type": "code",
   "execution_count": null,
   "id": "1b7d601c-c4e5-4315-bf3f-7f46a768812a",
   "metadata": {},
   "outputs": [],
   "source": [
    "(im3_t[0:3, 0:3] @ top_edge).sum()"
   ]
  },
  {
   "cell_type": "code",
   "execution_count": 38,
   "id": "7a8ef8da-f8e9-4912-92d6-b6196b836add",
   "metadata": {
    "tags": []
   },
   "outputs": [],
   "source": [
    "def mean_absolute_error(preds, targs):\n",
    "    return (preds-targs).abs().mea()"
   ]
  },
  {
   "cell_type": "code",
   "execution_count": null,
   "id": "3a545f32-3334-4bd0-a90d-571be903b5b0",
   "metadata": {},
   "outputs": [],
   "source": []
  }
 ],
 "metadata": {
  "kernelspec": {
   "display_name": "Python 3 (ipykernel)",
   "language": "python",
   "name": "python3"
  },
  "language_info": {
   "codemirror_mode": {
    "name": "ipython",
    "version": 3
   },
   "file_extension": ".py",
   "mimetype": "text/x-python",
   "name": "python",
   "nbconvert_exporter": "python",
   "pygments_lexer": "ipython3",
   "version": "3.8.16"
  }
 },
 "nbformat": 4,
 "nbformat_minor": 5
}
