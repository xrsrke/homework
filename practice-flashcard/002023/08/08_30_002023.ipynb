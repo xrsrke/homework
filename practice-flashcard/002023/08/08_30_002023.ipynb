{
 "cells": [
  {
   "cell_type": "markdown",
   "id": "17e85b46-4f2b-43b6-bc0c-7bc90e5f22bd",
   "metadata": {},
   "source": [
    "### Engineering "
   ]
  },
  {
   "cell_type": "code",
   "execution_count": 1,
   "id": "55294597-76a6-4f25-b86c-0e1a68f35e46",
   "metadata": {
    "tags": []
   },
   "outputs": [],
   "source": [
    "import torch\n",
    "from torch import nn\n",
    "import torch.nn.functional as F"
   ]
  },
  {
   "cell_type": "code",
   "execution_count": null,
   "id": "bcbb7a6b-e6cd-4221-9200-00c98c369b3d",
   "metadata": {},
   "outputs": [],
   "source": [
    "step 1: package\n",
    "step 2: invoke rpc call\n",
    "step 3: "
   ]
  },
  {
   "cell_type": "code",
   "execution_count": null,
   "id": "841895a3-d099-49ab-bfbb-81fccc545ec0",
   "metadata": {},
   "outputs": [],
   "source": [
    "broadcast > gather > scatter > all-reduce"
   ]
  },
  {
   "cell_type": "code",
   "execution_count": 4,
   "id": "f4ae76b9-e048-48d4-939f-2ef42fc457a1",
   "metadata": {
    "tags": []
   },
   "outputs": [],
   "source": [
    "import torch.distributed as dist\n",
    "import torch.distributed.rpc as rpc"
   ]
  },
  {
   "cell_type": "code",
   "execution_count": 6,
   "id": "ce77118b-3d23-4490-b201-5b08323b794e",
   "metadata": {
    "tags": []
   },
   "outputs": [],
   "source": [
    "class _P2P:\n",
    "    def _send_metadata(self, data, dst_rank, parallel_context, parallel_mode):\n",
    "        group = parallel_context.get_group(parallel_mode)\n",
    "        \n",
    "        dtype = torch.tensor(DTYPE_TO_ID[data.dtype])\n",
    "        dist.send(dtype, dst_rank, group=group)\n",
    "        \n",
    "        shape = torch.tensor(list(data.shape))\n",
    "        dist.send(shape, dst_rank, group=group)\n",
    "        \n",
    "        requires_grad = torch.tensor(1 if data.requires_grad == True else 0)\n",
    "        dist.send(requires_grad, dst_rank, group=group)\n",
    "    \n",
    "    def send(self, data, dst_rank, parallel_context, parallel_mode):\n",
    "        group = parallel_context.get_group(parallel_mode)\n",
    "        \n",
    "        self._send_metadata(data, dst_rank, parallel_context, parallel_mode)\n",
    "        dist.send(data, dst_rank, group=group)"
   ]
  },
  {
   "cell_type": "code",
   "execution_count": null,
   "id": "fb3bf1fa-1b0e-448a-9988-5d821d05a20d",
   "metadata": {},
   "outputs": [],
   "source": [
    "def send(data, src_rank, dst_rank, parallel_context, parallel_mode = ParallelMode.PIPELINE):\n",
    "    rank = parallel_context.get_local_rank(parallel_mode)\n",
    "    if rank == src_rank:\n",
    "        _P2P().send(data, dst_rank, parallel_context, parallel_mode)"
   ]
  },
  {
   "cell_type": "code",
   "execution_count": null,
   "id": "3176bc55-4cbf-4ff0-aafa-0ee945214ebb",
   "metadata": {},
   "outputs": [],
   "source": [
    "class ParameterPartioning:\n",
    "    pass"
   ]
  },
  {
   "cell_type": "code",
   "execution_count": null,
   "id": "8c8d6a4c-c4d1-4bec-b2ef-c55669d2f36f",
   "metadata": {},
   "outputs": [],
   "source": [
    "query, key, value, head projection"
   ]
  },
  {
   "cell_type": "code",
   "execution_count": null,
   "id": "92769d16-9030-4bb2-a53e-63837cef3c26",
   "metadata": {},
   "outputs": [],
   "source": [
    "scatter > all-reduce > identity > gather"
   ]
  },
  {
   "cell_type": "code",
   "execution_count": null,
   "id": "befccfee-f4e8-4001-9d37-d726bfa2fc85",
   "metadata": {},
   "outputs": [],
   "source": [
    "scatter, all-reudce"
   ]
  },
  {
   "cell_type": "code",
   "execution_count": null,
   "id": "e02a5ecb-0049-4006-a469-d5d4beca2826",
   "metadata": {},
   "outputs": [],
   "source": [
    "local_max = torch.max(xs, dim=-1)[0]\n",
    "global_max = dist.all_reduce(\n",
    "    local_max,\n",
    "    op=dist.ReduceOp.MAX,\n",
    ")"
   ]
  },
  {
   "cell_type": "code",
   "execution_count": null,
   "id": "1290c462-5fa6-4072-b535-4d8e9d97ae89",
   "metadata": {},
   "outputs": [],
   "source": [
    "step 1: acts\n",
    "step 2: split\n",
    "step 3: self-attention\n",
    "step 4: pass "
   ]
  },
  {
   "cell_type": "code",
   "execution_count": null,
   "id": "7d8b729d-f9d6-4033-b432-c7acb457b310",
   "metadata": {},
   "outputs": [],
   "source": []
  },
  {
   "cell_type": "code",
   "execution_count": null,
   "id": "56d546cf-24bc-4339-8bf3-a4716dd13ae7",
   "metadata": {},
   "outputs": [],
   "source": [
    "x @ L @ W_OV"
   ]
  },
  {
   "cell_type": "code",
   "execution_count": 8,
   "id": "d0135cce-c6fa-426e-9056-625f5a7fbf9d",
   "metadata": {
    "tags": []
   },
   "outputs": [],
   "source": [
    "d_model, d_head = 16, 4"
   ]
  },
  {
   "cell_type": "code",
   "execution_count": 14,
   "id": "e40e5e41-a9bf-4cc2-b46b-8bf13a7560c2",
   "metadata": {
    "tags": []
   },
   "outputs": [],
   "source": [
    "W_V = torch.zeros(d_head, d_model)\n",
    "W_V[torch.arange(4), torch.arange(4)] = 1."
   ]
  },
  {
   "cell_type": "code",
   "execution_count": 15,
   "id": "2835da02-371b-4b4d-aa8f-966fb79f665c",
   "metadata": {
    "tags": []
   },
   "outputs": [
    {
     "data": {
      "text/plain": [
       "tensor([[1., 0., 0., 0., 0., 0., 0., 0., 0., 0., 0., 0., 0., 0., 0., 0.],\n",
       "        [0., 1., 0., 0., 0., 0., 0., 0., 0., 0., 0., 0., 0., 0., 0., 0.],\n",
       "        [0., 0., 1., 0., 0., 0., 0., 0., 0., 0., 0., 0., 0., 0., 0., 0.],\n",
       "        [0., 0., 0., 1., 0., 0., 0., 0., 0., 0., 0., 0., 0., 0., 0., 0.]])"
      ]
     },
     "execution_count": 15,
     "metadata": {},
     "output_type": "execute_result"
    }
   ],
   "source": [
    "W_V"
   ]
  },
  {
   "cell_type": "code",
   "execution_count": 11,
   "id": "836ab500-0ce3-4d51-817a-d15d3d3b76da",
   "metadata": {
    "tags": []
   },
   "outputs": [
    {
     "data": {
      "text/plain": [
       "torch.Size([4, 16])"
      ]
     },
     "execution_count": 11,
     "metadata": {},
     "output_type": "execute_result"
    }
   ],
   "source": [
    "W_V.shape"
   ]
  },
  {
   "cell_type": "code",
   "execution_count": 12,
   "id": "c163832c-0295-4bda-af18-909bddec2ee6",
   "metadata": {
    "tags": []
   },
   "outputs": [],
   "source": [
    "W_O = torch.zeros(d_model, d_head)"
   ]
  },
  {
   "cell_type": "code",
   "execution_count": 13,
   "id": "d6259f50-7719-4a54-a9cd-d6a81132fb3a",
   "metadata": {
    "tags": []
   },
   "outputs": [
    {
     "data": {
      "text/plain": [
       "torch.Size([16, 4])"
      ]
     },
     "execution_count": 13,
     "metadata": {},
     "output_type": "execute_result"
    }
   ],
   "source": [
    "W_O.shape"
   ]
  },
  {
   "cell_type": "code",
   "execution_count": 20,
   "id": "dcdbeefe-9a5e-4dd0-a288-dd571c0352bf",
   "metadata": {
    "tags": []
   },
   "outputs": [],
   "source": [
    "W_O[8:12, :] = torch.eye(4, 4)"
   ]
  },
  {
   "cell_type": "code",
   "execution_count": 21,
   "id": "18769a91-033a-4ea4-8f2e-f09dd83945d8",
   "metadata": {
    "tags": []
   },
   "outputs": [
    {
     "data": {
      "text/plain": [
       "tensor([[0., 0., 0., 0.],\n",
       "        [0., 0., 0., 0.],\n",
       "        [0., 0., 0., 0.],\n",
       "        [0., 0., 0., 0.],\n",
       "        [0., 0., 0., 0.],\n",
       "        [0., 0., 0., 0.],\n",
       "        [0., 0., 0., 0.],\n",
       "        [0., 0., 0., 0.],\n",
       "        [1., 0., 0., 0.],\n",
       "        [0., 1., 0., 0.],\n",
       "        [0., 0., 1., 0.],\n",
       "        [0., 0., 0., 1.],\n",
       "        [0., 0., 0., 0.],\n",
       "        [0., 0., 0., 0.],\n",
       "        [0., 0., 0., 0.],\n",
       "        [0., 0., 0., 0.]])"
      ]
     },
     "execution_count": 21,
     "metadata": {},
     "output_type": "execute_result"
    }
   ],
   "source": [
    "W_O"
   ]
  },
  {
   "cell_type": "code",
   "execution_count": 22,
   "id": "760bb826-94a3-43d0-adc4-012c0b7576c8",
   "metadata": {
    "tags": []
   },
   "outputs": [],
   "source": [
    "from transformer_lens.hook_points import HookedRootModule, HookPoint"
   ]
  },
  {
   "cell_type": "code",
   "execution_count": 23,
   "id": "c73651d2-495d-477a-a772-cd2bf3d4b2c5",
   "metadata": {
    "tags": []
   },
   "outputs": [],
   "source": [
    "class Model(HookedRootModule):\n",
    "    def __init__(self):\n",
    "        super().__init__()\n",
    "        self.model = nn.Sequential(\n",
    "            nn.Linear(42, 69),\n",
    "            HookPoint(),\n",
    "            nn.ReLU(),\n",
    "            HookPoint(),\n",
    "            nn.Linear(69, 42),\n",
    "            HookPoint(),\n",
    "        )"
   ]
  },
  {
   "cell_type": "code",
   "execution_count": 24,
   "id": "63bd4366-31ce-44cb-a52f-7f871f30864a",
   "metadata": {
    "tags": []
   },
   "outputs": [],
   "source": [
    "def compute_overlapse(W_A, W_B):\n",
    "    W_AB_norm = (W_A * W_B).pow(2).sum()\n",
    "    W_A_norm = W_A.pow(2).sum()\n",
    "    W_B_norm = W_B.pow(2).sum()\n",
    "    return W_AB_norm / (W_A_norm * W_B_norm)"
   ]
  },
  {
   "cell_type": "code",
   "execution_count": null,
   "id": "f2499945-2d7e-4640-b82b-4e51fdd57f32",
   "metadata": {},
   "outputs": [],
   "source": [
    "scores = {\n",
    "    \"Q\": torch.zeros(n_heads, n_heads),\n",
    "    \"K\": torch.zeros(n_heads, n_heads),\n",
    "    \"V\": torch.zeros(n_heads, n_heads)\n",
    "}"
   ]
  },
  {
   "cell_type": "code",
   "execution_count": 25,
   "id": "d88cbe22-ea04-4985-a4c0-81ac8895f0d2",
   "metadata": {
    "tags": []
   },
   "outputs": [],
   "source": [
    "from einops import rearrange"
   ]
  },
  {
   "cell_type": "code",
   "execution_count": null,
   "id": "3d17c42e-f180-4790-8212-59d713f56a17",
   "metadata": {},
   "outputs": [],
   "source": [
    "W_QK = model.W_Q @ rearrange(\n",
    "    model.W_K,\n",
    "    \"... d_model d_head -> ... d_head d_model\"\n",
    ")\n",
    "\n",
    "W_OV = model.W_V @ model.W_O"
   ]
  },
  {
   "cell_type": "code",
   "execution_count": null,
   "id": "e82f8501-37a1-4b40-b87b-f85533dab10e",
   "metadata": {},
   "outputs": [],
   "source": [
    "for sender_idx in range(n_heads):\n",
    "    for receiver_idx in range(n_heads):\n",
    "        scores[\"Q\"] = compute_overlapse(W_OV[0, sender_idx], model.W_Q[1, receiver_head])\n",
    "        scores[\"K\"] = compute_overlapse(\n",
    "            W_OV[0, sender_idx],\n",
    "            rearrange(model.W_V[1, receiver_idx], \"... d_model d_head -> ... d_head d_model\")\n",
    "        )\n",
    "        scores[\"V\"] = compute_overlapse(W_OV[0, sender_idx], W_OV[1, receiver_head])"
   ]
  },
  {
   "cell_type": "code",
   "execution_count": null,
   "id": "3464c319-aea0-489e-a6b5-601152c19cf1",
   "metadata": {},
   "outputs": [],
   "source": [
    "step 1: logit_diff = logit0 - logit1\n",
    "step 2: logit0 = final_resid @ W_U[0], logit1 = final_resid @ W_U[1]\n",
    "step 3: logit0 - logit1 = final_resid @ (W_U[0] - W_U[1])"
   ]
  },
  {
   "cell_type": "code",
   "execution_count": null,
   "id": "6eb1a83e-5e9e-4ab0-beef-4e7b6d904293",
   "metadata": {},
   "outputs": [],
   "source": [
    "W_OV = model.W_V[0, 1] @ model.W_O[0, 1]\n",
    "W_Q = model.W_Q[1, 2]"
   ]
  },
  {
   "cell_type": "code",
   "execution_count": null,
   "id": "618ea323-4fa5-4b5d-ab6d-ca14d9a2a3a2",
   "metadata": {},
   "outputs": [],
   "source": [
    "virtual_weight = W_OV @ W_Q"
   ]
  },
  {
   "cell_type": "code",
   "execution_count": null,
   "id": "0b6d32e0-fda5-4c8d-84e9-6129385112e1",
   "metadata": {},
   "outputs": [],
   "source": [
    "W_U = model.W_U\n",
    "W_OV = model.W_V[0, 0] @ model.W_O[0, 0]"
   ]
  },
  {
   "cell_type": "code",
   "execution_count": null,
   "id": "539dee3d-4018-4638-8ba0-097946a3aa8f",
   "metadata": {},
   "outputs": [],
   "source": [
    "open_embedding = W_U[open_idx] @ layer0_ln_coefs.T @ W_OV\n",
    "close_embedding = W_U[close_idx] @ layer0_ln_coefs.T @ W_OV"
   ]
  },
  {
   "cell_type": "code",
   "execution_count": null,
   "id": "1394b614-7e41-420c-8870-e202221ce71f",
   "metadata": {},
   "outputs": [],
   "source": [
    "similarity = torch.cosine_similarity(open_embedding, close_embedding, dim=-1)"
   ]
  },
  {
   "cell_type": "code",
   "execution_count": null,
   "id": "48b5f802-238c-4b7b-bca2-f379ef94891c",
   "metadata": {},
   "outputs": [],
   "source": [
    "embed(\"(\") @ fitted"
   ]
  },
  {
   "cell_type": "code",
   "execution_count": null,
   "id": "0ccf8458-5c3b-42fd-aab3-4ba4738ffea0",
   "metadata": {},
   "outputs": [],
   "source": [
    "from typing import "
   ]
  },
  {
   "cell_type": "code",
   "execution_count": 26,
   "id": "a34337e1-7ab9-4499-ac34-9852048831a4",
   "metadata": {
    "tags": []
   },
   "outputs": [],
   "source": [
    "import threading"
   ]
  },
  {
   "cell_type": "code",
   "execution_count": 27,
   "id": "6bd1c4e0-b6f5-4f29-a6b0-71f08adf8a54",
   "metadata": {
    "tags": []
   },
   "outputs": [],
   "source": [
    "lock = threading.Lock()"
   ]
  },
  {
   "cell_type": "code",
   "execution_count": null,
   "id": "37ca4e5c-5ada-4a04-a0bc-433d3f88b51c",
   "metadata": {},
   "outputs": [],
   "source": [
    "def run():\n",
    "    with lock():\n",
    "        print_numbers()"
   ]
  },
  {
   "cell_type": "code",
   "execution_count": null,
   "id": "2f9c8805-1aea-413d-9b90-0da85391ed36",
   "metadata": {},
   "outputs": [],
   "source": [
    "t1 = threading.Thread(target=run)"
   ]
  },
  {
   "cell_type": "code",
   "execution_count": null,
   "id": "50d0d7c4-1bd9-4d98-a9df-298d19d2013c",
   "metadata": {},
   "outputs": [],
   "source": [
    "torch.roll(x, shifts=1, dim=0 )"
   ]
  },
  {
   "cell_type": "code",
   "execution_count": null,
   "id": "d315ce7e-f53c-4b51-9607-f3febde59a1b",
   "metadata": {},
   "outputs": [],
   "source": [
    "W_OV = model.W_V[0, 1] @ model.W_O[0, 1]\n",
    "W_QK = model.W_Q[1, 2] @ rearrange(\n",
    "    model.W_K[1, 2],\n",
    "    \"... d_model d_head -> ... d_head d_model\"\n",
    ")"
   ]
  },
  {
   "cell_type": "code",
   "execution_count": null,
   "id": "34ba5c62-52ab-40d9-9be2-066797e19717",
   "metadata": {},
   "outputs": [],
   "source": [
    "virtual_weight = W_OV @ W_QK "
   ]
  },
  {
   "cell_type": "code",
   "execution_count": 29,
   "id": "4fe17ed3-f239-4e8e-ad92-56e6c2a6b7a1",
   "metadata": {
    "tags": []
   },
   "outputs": [],
   "source": [
    "from transformer_lens.utils import get_act_name"
   ]
  },
  {
   "cell_type": "code",
   "execution_count": null,
   "id": "f1c57523-69c7-49b1-962f-8e1ffd61be69",
   "metadata": {},
   "outputs": [],
   "source": [
    "mlp_names = [get_act_name(\"mlp_out\", layer_idx) for layer_idx in range(n_heads)]\n",
    "head_names = [get_act_name(\"attn_out\", layer_idx) for layer_idx in range(n_heads)]"
   ]
  },
  {
   "cell_type": "code",
   "execution_count": null,
   "id": "ac8394c3-ecdf-4726-8b2e-9540514e2046",
   "metadata": {},
   "outputs": [],
   "source": [
    "hook_names = [\"embed\", \"pos_embed\"] + mlp_names + head_names"
   ]
  },
  {
   "cell_type": "code",
   "execution_count": null,
   "id": "53f5c648-5726-46f1-abf5-975f7f1a8f94",
   "metadata": {},
   "outputs": [],
   "source": [
    "_, cache = model.run_with_cache(tokens)"
   ]
  },
  {
   "cell_type": "code",
   "execution_count": null,
   "id": "fe65ce0e-e40b-4811-82e6-500ea77d6c35",
   "metadata": {},
   "outputs": [],
   "source": [
    "pre_ln = cache[\"final_ln\"] @ final_ln_coeffs.T\n",
    "pre_ln_dir = pre_ln @ (W_U[0] - W_U[1])"
   ]
  },
  {
   "cell_type": "code",
   "execution_count": null,
   "id": "730571f6-a9f9-47c2-97ef-27ca0a6747f3",
   "metadata": {},
   "outputs": [],
   "source": [
    "step 1: logit_df"
   ]
  },
  {
   "cell_type": "code",
   "execution_count": 30,
   "id": "c35b3777-fd78-472a-88d3-79f9909d9535",
   "metadata": {},
   "outputs": [],
   "source": [
    "import torch\n",
    "from torch import nn\n",
    "import torch.nn.functional as F"
   ]
  },
  {
   "cell_type": "code",
   "execution_count": null,
   "id": "5bfd394e-2ee5-4926-a422-878db6a41297",
   "metadata": {},
   "outputs": [],
   "source": []
  },
  {
   "cell_type": "code",
   "execution_count": 31,
   "id": "2f9229bd-aff5-4e12-a8b1-d33b11e0f0a5",
   "metadata": {
    "tags": []
   },
   "outputs": [],
   "source": [
    "from typing import TypeVar"
   ]
  },
  {
   "cell_type": "code",
   "execution_count": null,
   "id": "549f0426-f086-47a9-881e-f110b6e793a4",
   "metadata": {},
   "outputs": [],
   "source": [
    "APIResponse = Union[]"
   ]
  },
  {
   "cell_type": "code",
   "execution_count": null,
   "id": "76a87273-ebee-4fcf-9a33-ea18d05bd591",
   "metadata": {},
   "outputs": [],
   "source": [
    "step 1: send ready\n",
    "step 2: "
   ]
  },
  {
   "cell_type": "code",
   "execution_count": null,
   "id": "5456d7ed-4e77-4ff0-ad02-8f06fa02043d",
   "metadata": {},
   "outputs": [],
   "source": [
    "class ParameterSharding"
   ]
  },
  {
   "cell_type": "code",
   "execution_count": 32,
   "id": "eb85fdbb-361e-4639-ab9e-8c63120e3a89",
   "metadata": {
    "tags": []
   },
   "outputs": [],
   "source": [
    "import hmac"
   ]
  },
  {
   "cell_type": "code",
   "execution_count": null,
   "id": "8e25bc39-4dda-4a33-80c8-86fbe8d32555",
   "metadata": {},
   "outputs": [],
   "source": [
    "rank, world size, master addr, master port"
   ]
  },
  {
   "cell_type": "code",
   "execution_count": null,
   "id": "00b904fb-0739-4550-a792-7e8d0263e95d",
   "metadata": {},
   "outputs": [],
   "source": [
    "pool, job selector, worker thread"
   ]
  },
  {
   "cell_type": "code",
   "execution_count": null,
   "id": "ccf12545-2321-4004-b09f-5d48b396c4b8",
   "metadata": {},
   "outputs": [],
   "source": [
    "step 1: send ready\n",
    "step 2: re"
   ]
  },
  {
   "cell_type": "code",
   "execution_count": null,
   "id": "fb682fbe-0d9d-4e2b-b64d-5f55fcddfc0c",
   "metadata": {},
   "outputs": [],
   "source": [
    "file system, shared memory, messaage passing"
   ]
  },
  {
   "cell_type": "code",
   "execution_count": 33,
   "id": "c74ae702-3cf9-4738-9c37-bafd747aee38",
   "metadata": {
    "tags": []
   },
   "outputs": [],
   "source": [
    "from functools import lru_cache"
   ]
  },
  {
   "cell_type": "code",
   "execution_count": null,
   "id": "dd8de4c2-7e74-4a0d-a95e-e1316396da42",
   "metadata": {},
   "outputs": [],
   "source": [
    "@lru_cache\n",
    "def expensive_function(x):\n",
    "    pass"
   ]
  },
  {
   "cell_type": "code",
   "execution_count": null,
   "id": "88db3da8-d465-40ea-af86-50e544845248",
   "metadata": {},
   "outputs": [],
   "source": [
    "for i in range(x.shape[0]):\n",
    "    for j in range(y.shape[1]):\n",
    "        total_sum = 0\n",
    "        \n",
    "        for k in range(3):\n",
    "            total_sum += x[i, k] * x[k, j]\n"
   ]
  },
  {
   "cell_type": "code",
   "execution_count": null,
   "id": "2aaf1084-67d1-41b1-a77e-5c3ceb4f7e19",
   "metadata": {},
   "outputs": [],
   "source": [
    "had sub past"
   ]
  },
  {
   "cell_type": "code",
   "execution_count": null,
   "id": "2285a3cc-207b-4a9c-b108-f7823d1b07da",
   "metadata": {},
   "outputs": [],
   "source": [
    "will have"
   ]
  },
  {
   "cell_type": "code",
   "execution_count": null,
   "id": "4a3c284c-79d5-47a4-ad0d-512124bdea12",
   "metadata": {},
   "outputs": [],
   "source": [
    "service health\n",
    "model performance\n",
    "data quality\n",
    "distribution drift"
   ]
  },
  {
   "cell_type": "code",
   "execution_count": null,
   "id": "193046d1-7963-4d33-8dce-c6a380af73c0",
   "metadata": {},
   "outputs": [],
   "source": [
    "for _ in range(n_episodes):\n",
    "    state, _ = env.reset()\n",
    "    done = False\n",
    "    \n",
    "    while not done:\n",
    "        predicted_rewards = model(state)\n",
    "        action = torch.argmax(predicted_rewards, dim=-1)\n",
    "        "
   ]
  }
 ],
 "metadata": {
  "kernelspec": {
   "display_name": "Python 3 (ipykernel)",
   "language": "python",
   "name": "python3"
  },
  "language_info": {
   "codemirror_mode": {
    "name": "ipython",
    "version": 3
   },
   "file_extension": ".py",
   "mimetype": "text/x-python",
   "name": "python",
   "nbconvert_exporter": "python",
   "pygments_lexer": "ipython3",
   "version": "3.8.16"
  }
 },
 "nbformat": 4,
 "nbformat_minor": 5
}
