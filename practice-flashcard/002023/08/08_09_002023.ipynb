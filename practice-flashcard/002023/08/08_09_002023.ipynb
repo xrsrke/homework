{
 "cells": [
  {
   "cell_type": "markdown",
   "id": "039ebf0e-3cca-449f-984b-06a02024d373",
   "metadata": {},
   "source": [
    "### MechInterp"
   ]
  },
  {
   "cell_type": "code",
   "execution_count": 1,
   "id": "6deefbda-de3c-46d7-aa26-64376fdd3fb0",
   "metadata": {
    "tags": []
   },
   "outputs": [],
   "source": [
    "import torch\n",
    "from torch import nn\n",
    "import torch.nn.functional as F"
   ]
  },
  {
   "cell_type": "code",
   "execution_count": null,
   "id": "fcae56d4-7e21-4d8f-8aeb-a01549ffc434",
   "metadata": {},
   "outputs": [],
   "source": [
    "W /= W.norm(dim=0)"
   ]
  },
  {
   "cell_type": "code",
   "execution_count": 2,
   "id": "ebdd4c92-fcae-473e-b7ad-7e11135ca3f6",
   "metadata": {
    "tags": []
   },
   "outputs": [],
   "source": [
    "from einops import einsum"
   ]
  },
  {
   "cell_type": "code",
   "execution_count": null,
   "id": "bc819cfd-696a-47f9-8a48-f42da7e7145a",
   "metadata": {},
   "outputs": [],
   "source": [
    "similarity = einsum(\n",
    "    W, W\n",
    "    \"n_features d_model, n_features d_model -> n_features\"\n",
    ")"
   ]
  },
  {
   "cell_type": "code",
   "execution_count": null,
   "id": "fe1eea7e-3052-429b-8970-adb498e758cb",
   "metadata": {},
   "outputs": [],
   "source": [
    "do logit lens, attn heads"
   ]
  },
  {
   "cell_type": "markdown",
   "id": "e64c2b61-821e-4555-b9d1-b99f0398ca91",
   "metadata": {},
   "source": [
    "step 1: logit lens across accumulated residual streams\n",
    "step 2: they identified that later layers... do logit lens across decomposed residual streams\n",
    "step 3: do logit lens across all decomposed headsb"
   ]
  },
  {
   "cell_type": "code",
   "execution_count": null,
   "id": "d6f529cd-07a1-4992-ae01-be88a6708013",
   "metadata": {},
   "outputs": [],
   "source": [
    "W_O"
   ]
  },
  {
   "cell_type": "code",
   "execution_count": null,
   "id": "4c00e5cf-beb5-457d-91f3-b8e314b0bdff",
   "metadata": {},
   "outputs": [],
   "source": [
    "activations[1, 2]"
   ]
  },
  {
   "cell_type": "code",
   "execution_count": null,
   "id": "fa660a60-bf69-46bf-bc0a-0ef267d6b716",
   "metadata": {},
   "outputs": [],
   "source": [
    "tokens = model.to_tokens(text)"
   ]
  },
  {
   "cell_type": "code",
   "execution_count": null,
   "id": "3b413e40-86fc-452c-a315-8aa8732ff5b8",
   "metadata": {},
   "outputs": [],
   "source": [
    "n_tokens = tokens.shape[-1]"
   ]
  },
  {
   "cell_type": "code",
   "execution_count": 3,
   "id": "f878aab5-a41b-46f3-9514-d6c468ce910b",
   "metadata": {
    "tags": []
   },
   "outputs": [],
   "source": [
    "n_tokens = 4"
   ]
  },
  {
   "cell_type": "code",
   "execution_count": 4,
   "id": "1ff0f576-7ff0-46a9-9069-05185e97e984",
   "metadata": {
    "tags": []
   },
   "outputs": [],
   "source": [
    "target_pattern = torch.zeros(n_tokens, n_tokens)\n",
    "target_pattern[torch.arange(n_tokens), torch.arange(n_tokens)-1] = 1."
   ]
  },
  {
   "cell_type": "code",
   "execution_count": 6,
   "id": "eb9862ff-8c7b-4454-90d8-56351b0467d0",
   "metadata": {
    "tags": []
   },
   "outputs": [],
   "source": [
    "target_pattern[0] = torch.zeros_like(target_pattern[0])"
   ]
  },
  {
   "cell_type": "code",
   "execution_count": 7,
   "id": "2e560886-0a31-4e36-b417-9b5f8405b621",
   "metadata": {
    "tags": []
   },
   "outputs": [
    {
     "data": {
      "text/plain": [
       "tensor([[0., 0., 0., 0.],\n",
       "        [1., 0., 0., 0.],\n",
       "        [0., 1., 0., 0.],\n",
       "        [0., 0., 1., 0.]])"
      ]
     },
     "execution_count": 7,
     "metadata": {},
     "output_type": "execute_result"
    }
   ],
   "source": [
    "target_pattern"
   ]
  },
  {
   "cell_type": "code",
   "execution_count": null,
   "id": "1164ebf0-3ff8-4b97-8d38-88f7807b7053",
   "metadata": {},
   "outputs": [],
   "source": []
  },
  {
   "cell_type": "code",
   "execution_count": null,
   "id": "d89e70bb-301e-41c5-9a69-0d0189f003af",
   "metadata": {},
   "outputs": [],
   "source": [
    "step 1: prob[0] = sigmoid(logit0 - logit1)\n",
    "step 2: logit0 = resid @ W_U[0], logit1 = resid @ W_U[1]\n",
    "step 3: logit0 - logit1 = resid @ (W_U[0] - W_U[1])\n",
    "step 4: t"
   ]
  },
  {
   "cell_type": "code",
   "execution_count": null,
   "id": "cc0c0cf9-6bbf-41d2-9fa0-1aa19e1beb0d",
   "metadata": {},
   "outputs": [],
   "source": [
    "_, cache = model.run_with_cache(board_history)"
   ]
  },
  {
   "cell_type": "code",
   "execution_count": 8,
   "id": "c416a9a1-5502-46cd-8966-3c68910ef537",
   "metadata": {
    "tags": []
   },
   "outputs": [],
   "source": [
    "layer_idx, neuron_idx = 5, 1393"
   ]
  },
  {
   "cell_type": "code",
   "execution_count": 9,
   "id": "d0094889-e0f3-4ea1-b189-dc79b04354b5",
   "metadata": {
    "tags": []
   },
   "outputs": [],
   "source": [
    "hook_name = f\"blocks.{layer_idx}.mlp.hook_post\""
   ]
  },
  {
   "cell_type": "code",
   "execution_count": 10,
   "id": "40899fc2-1b7c-4d2e-b238-0c5a4f5e25b3",
   "metadata": {
    "tags": []
   },
   "outputs": [
    {
     "data": {
      "text/plain": [
       "'blocks.5.mlp.hook_post'"
      ]
     },
     "execution_count": 10,
     "metadata": {},
     "output_type": "execute_result"
    }
   ],
   "source": [
    "hook_name"
   ]
  },
  {
   "cell_type": "code",
   "execution_count": null,
   "id": "8913adc2-e611-4c4d-88ca-2b6aa76f05d1",
   "metadata": {},
   "outputs": [],
   "source": [
    "mlp_activations = cache[hook_name]\n",
    "neuron_activations = mlp_activations[:, :, neuron_idx]"
   ]
  },
  {
   "cell_type": "code",
   "execution_count": null,
   "id": "13b7acd3-dd5d-4fad-828a-ee7082a5124e",
   "metadata": {},
   "outputs": [],
   "source": []
  },
  {
   "cell_type": "code",
   "execution_count": null,
   "id": "d27feafb-20c9-4d41-90c5-f21d8bba9773",
   "metadata": {},
   "outputs": [],
   "source": [
    "mdoel.blocks[1]"
   ]
  },
  {
   "cell_type": "code",
   "execution_count": null,
   "id": "8ba5f22c-3b01-429d-928a-6a90f2608d9a",
   "metadata": {},
   "outputs": [],
   "source": [
    "target_tokens = tokens[1:]"
   ]
  },
  {
   "cell_type": "code",
   "execution_count": null,
   "id": "320baedf-910b-4bcc-b168-3f2e31a13a85",
   "metadata": {},
   "outputs": [],
   "source": [
    "W_U = model.W_U"
   ]
  },
  {
   "cell_type": "code",
   "execution_count": null,
   "id": "076fe103-a4f6-46cb-b492-df7dde35ebd6",
   "metadata": {},
   "outputs": [],
   "source": [
    ", cache = model.run_with_cache(tokens)"
   ]
  },
  {
   "cell_type": "code",
   "execution_count": null,
   "id": "0a20e458-cc2f-436c-b49b-9541e5eace15",
   "metadata": {},
   "outputs": [],
   "source": [
    "embed_attributions = einsum(\n",
    "    cache[\"embed\"],\n",
    "    W_U[:, target_tokens]\n",
    ")"
   ]
  },
  {
   "cell_type": "code",
   "execution_count": null,
   "id": "e4c6c106-fc21-40ab-8eea-3ffeb2f305d8",
   "metadata": {},
   "outputs": [],
   "source": [
    "_, cache = model.run_with_cache(past_moves)"
   ]
  },
  {
   "cell_type": "code",
   "execution_count": null,
   "id": "0d7c7b55-8e5b-4797-b063-a052d3b60a10",
   "metadata": {},
   "outputs": [],
   "source": [
    "top_neurons = cache[\"out\", 4].std(dim=[0, 1]).argsort(descending=True)"
   ]
  },
  {
   "cell_type": "code",
   "execution_count": null,
   "id": "514f6a7c-5b06-45af-9680-9f0e24183430",
   "metadata": {},
   "outputs": [],
   "source": [
    "scheduler, ectd, control manager, api server"
   ]
  },
  {
   "cell_type": "code",
   "execution_count": 12,
   "id": "c208ae96-b0b4-410b-ac9c-2b891e21be4f",
   "metadata": {
    "tags": []
   },
   "outputs": [],
   "source": [
    "import socketserver"
   ]
  },
  {
   "cell_type": "code",
   "execution_count": null,
   "id": "1eb47169-f004-4fa3-84e6-d83de0018da1",
   "metadata": {},
   "outputs": [],
   "source": [
    "def find_port(server_factor):\n",
    "    "
   ]
  },
  {
   "cell_type": "code",
   "execution_count": null,
   "id": "deb1a83a-f449-4a56-84b1-5202a0906763",
   "metadata": {},
   "outputs": [],
   "source": [
    "optimizer.state[p]"
   ]
  },
  {
   "cell_type": "code",
   "execution_count": null,
   "id": "83ccfe1f-afef-489a-871c-b8be9405f945",
   "metadata": {},
   "outputs": [],
   "source": [
    "stream\n",
    "vectorization\n",
    "thread\n",
    "process"
   ]
  },
  {
   "cell_type": "code",
   "execution_count": null,
   "id": "5fdb4e14-0ffe-4d10-a092-2b354abd44fe",
   "metadata": {},
   "outputs": [],
   "source": [
    "step 1: determine a list of global ranks in that parallel group\n",
    "step 2: check if the process's global rank in that list\n",
    "step 3: if yes, initialize a parallel group\n",
    "step 4: determine its local rank\n",
    "step 5: save "
   ]
  },
  {
   "cell_type": "code",
   "execution_count": null,
   "id": "f97b760b-6a1c-4625-ad03-b207f9fbf1d2",
   "metadata": {},
   "outputs": [],
   "source": [
    "def compute_total_memory(model):\n",
    "    total_memory = 0\n",
    "    for p in model.parameters():\n",
    "        total_memory += p.element_size() * p.numel()\n",
    "    \n",
    "    return total_memory"
   ]
  },
  {
   "cell_type": "code",
   "execution_count": 13,
   "id": "8aa6597b-8435-494e-a556-9fda036dd1e3",
   "metadata": {
    "tags": []
   },
   "outputs": [],
   "source": [
    "import torch.distributed as dist"
   ]
  },
  {
   "cell_type": "code",
   "execution_count": 14,
   "id": "144d70d3-7abd-4422-b802-cbfdec181507",
   "metadata": {
    "tags": []
   },
   "outputs": [],
   "source": [
    "import os"
   ]
  },
  {
   "cell_type": "code",
   "execution_count": null,
   "id": "bcdf34b3-ccdc-47e1-a2c5-144b9d1e142d",
   "metadata": {},
   "outputs": [],
   "source": [
    "class MPU:\n",
    "    def __init__(self, master_addr, master_port, backend):\n",
    "        if not dist.is_initialized():\n",
    "            rank = os.getenv(\"RANK\")\n",
    "            world_size = os.getenv(\"WORLD_SIZE\")\n",
    "            os.environ[\"MASTER_ADDR\"] = str(master_addr)\n",
    "            os.environ[\"MASTER_PORT\"] = str(master_port)\n",
    "            \n",
    "            self.set_device(rank)\n",
    "            \n",
    "            dist.init_process_group(\n",
    "                backend,\n",
    "                rank=rank,\n",
    "                world_size\n",
    "            )\n",
    "        \n",
    "    def set_device(self, rank):\n",
    "        n_gpus = torch.cuda.device_count()\n",
    "        if n_gpus > 0:\n",
    "            torch.cuda.set_device(n_gpus % rank)"
   ]
  },
  {
   "cell_type": "code",
   "execution_count": null,
   "id": "f4258ed2-5241-48d3-8617-9a9cbfc38246",
   "metadata": {},
   "outputs": [],
   "source": [
    "model.to_single_token"
   ]
  },
  {
   "cell_type": "code",
   "execution_count": null,
   "id": "b4e1750c-3d05-4e8c-8e20-90e011f79814",
   "metadata": {},
   "outputs": [],
   "source": [
    "step 1: early heads detect duplicate token S2, then write back to S2 that it's a duplicate token"
   ]
  },
  {
   "cell_type": "code",
   "execution_count": null,
   "id": "4ff38986-d18f-45db-80df-73617def1e1b",
   "metadata": {},
   "outputs": [],
   "source": [
    "step 2: middle head move that information to END\n",
    "step 3: END uses the information from step 2, attend to IO"
   ]
  },
  {
   "cell_type": "code",
   "execution_count": null,
   "id": "b435fd98-e1e9-4970-9c15-34254f6dd451",
   "metadata": {},
   "outputs": [],
   "source": [
    "step 1: failure cases..\n",
    "step 2: r"
   ]
  },
  {
   "cell_type": "code",
   "execution_count": null,
   "id": "fd010736-7130-4b0a-ae24-f518255b3692",
   "metadata": {},
   "outputs": [],
   "source": [
    "w_in = model.W_in[5, 1393]\n",
    "w_out = model.W_out[5, 1393]"
   ]
  },
  {
   "cell_type": "code",
   "execution_count": null,
   "id": "d3640847-91c7-442a-994b-8239e1b23aba",
   "metadata": {},
   "outputs": [],
   "source": [
    "def compute_consine_similarity(weight, feature):\n",
    "    weight /= weight.norm(dim=-1)\n",
    "    feature /= feature.norm(dim=-1)\n",
    "    \n",
    "    return einsum(\n",
    "        weight,\n",
    "        feature,\n",
    "        \"\"\n",
    "    )"
   ]
  },
  {
   "cell_type": "code",
   "execution_count": null,
   "id": "76bfd126-2f94-4669-acfb-18e7ededd1f0",
   "metadata": {},
   "outputs": [],
   "source": [
    "w_in_blank = compute_consine_similarity(w_in, blank_dir)"
   ]
  },
  {
   "cell_type": "code",
   "execution_count": null,
   "id": "fbd0245b-1f70-4097-86a3-7be9b275eb12",
   "metadata": {},
   "outputs": [],
   "source": [
    "q, k"
   ]
  },
  {
   "cell_type": "code",
   "execution_count": null,
   "id": "e820623c-0dea-4f2b-9b9f-7a54648faa87",
   "metadata": {},
   "outputs": [],
   "source": [
    "W_U = model.W_U"
   ]
  },
  {
   "cell_type": "code",
   "execution_count": null,
   "id": "2d37913c-e745-4300-ab3e-4e683366b10e",
   "metadata": {},
   "outputs": [],
   "source": [
    "_, cache = model.run_with_cache(tokens)"
   ]
  },
  {
   "cell_type": "code",
   "execution_count": null,
   "id": "f6ef2dcf-4eca-445b-a318-4dbccfa187fc",
   "metadata": {},
   "outputs": [],
   "source": [
    "einsum(\n",
    "    cache[hook_name][:, -1],\n",
    "    W_U[tokens[1:]]\n",
    ")"
   ]
  },
  {
   "cell_type": "code",
   "execution_count": null,
   "id": "40fa25b4-5c64-4c33-ab0d-b1f59bb5252b",
   "metadata": {},
   "outputs": [],
   "source": [
    "softmax(x@W_Q@x@W_K)@x@W_V@W_O"
   ]
  },
  {
   "cell_type": "code",
   "execution_count": null,
   "id": "3b53ed65-6cd5-4f86-b6c0-0398fdeef608",
   "metadata": {},
   "outputs": [],
   "source": []
  },
  {
   "cell_type": "code",
   "execution_count": null,
   "id": "586c78f8-1173-4519-9d5f-5f96fd49772b",
   "metadata": {},
   "outputs": [],
   "source": [
    "unembedding[:, correct_token] - unembedding[:, incorrect_token]"
   ]
  },
  {
   "cell_type": "code",
   "execution_count": null,
   "id": "f94c6060-31a5-468a-a787-3b3ada9a62fd",
   "metadata": {},
   "outputs": [],
   "source": [
    "W_E = model.W_E\n",
    "W_U = model.W_U\n",
    "\n",
    "W_O = model.W_O[layer_idx, head_idx]\n",
    "W_V = model.W_V[layer_idx, head_idx]"
   ]
  },
  {
   "cell_type": "code",
   "execution_count": null,
   "id": "9feb8bd2-e5aa-4db8-9d85-d9fdfbc200ae",
   "metadata": {},
   "outputs": [],
   "source": [
    "full_OV_circuit = W_E @ W_V @ W_O @ W_U"
   ]
  },
  {
   "cell_type": "code",
   "execution_count": 15,
   "id": "c7be9033-b1e6-41c8-abb0-3e3782ac04b6",
   "metadata": {
    "tags": []
   },
   "outputs": [],
   "source": [
    "import torch.distributed.rpc as rpc"
   ]
  },
  {
   "cell_type": "code",
   "execution_count": null,
   "id": "5e653915-5812-4d2a-a20a-43ce1f47cf02",
   "metadata": {},
   "outputs": [],
   "source": [
    "rpc.get_worker_info(worker_name)"
   ]
  },
  {
   "cell_type": "code",
   "execution_count": null,
   "id": "fa449391-0c0d-4662-a8bd-c97068b381d2",
   "metadata": {},
   "outputs": [],
   "source": [
    "global, tensor, pipeline, data"
   ]
  },
  {
   "cell_type": "code",
   "execution_count": null,
   "id": "12747227-625c-4c3d-96de-e59f1871de3c",
   "metadata": {},
   "outputs": [],
   "source": [
    "x[:, 1:]"
   ]
  },
  {
   "cell_type": "code",
   "execution_count": null,
   "id": "2c81ea6b-250d-416e-be6f-837f7a9e6da1",
   "metadata": {},
   "outputs": [],
   "source": [
    "weights = attn_weights.diagonal(dim1=-2, dim2=-1, offset=-1)"
   ]
  },
  {
   "cell_type": "code",
   "execution_count": null,
   "id": "f300e22f-0ae8-4ab2-89db-4b78cace826c",
   "metadata": {},
   "outputs": [],
   "source": [
    "load\n",
    "idxs\n",
    "size(idxs)\n",
    "allocate\n"
   ]
  },
  {
   "cell_type": "code",
   "execution_count": null,
   "id": "7afb4aec-39a4-40ce-ad39-d96ea0c79a08",
   "metadata": {},
   "outputs": [],
   "source": [
    "step 1: initialize global group\n",
    "step 2: initialize parallel groups\n",
    "step 3: set device\n",
    "step 4: seed"
   ]
  },
  {
   "cell_type": "code",
   "execution_count": null,
   "id": "406b12aa-7570-42b7-8543-5f94133b4eb0",
   "metadata": {},
   "outputs": [],
   "source": [
    "step 1: initialize global group\n",
    "step 2: initializ"
   ]
  },
  {
   "cell_type": "code",
   "execution_count": 16,
   "id": "b141b1b9-ddf2-4737-9eca-167fda4216f3",
   "metadata": {
    "tags": []
   },
   "outputs": [],
   "source": [
    "from transformers import AutoModel"
   ]
  },
  {
   "cell_type": "code",
   "execution_count": null,
   "id": "e4710603-32da-40e7-9dc7-89772bd3b1b3",
   "metadata": {},
   "outputs": [],
   "source": [
    "class CustomTokenClassifier(nn.Module):\n",
    "    def __init__(self, checkpoint, n_labels, dropout):\n",
    "        super().__init__()\n",
    "        self.model = AutoModel.from_pretrained(checkpoint)\n",
    "        self.lm_head = nn.Linear(768, n_labels)\n",
    "        self.dropout = nn.Dropout(dropout)\n",
    "    \n",
    "    def forward(self, input_ids, attention_mask):\n",
    "        logits = model(input_ids, attention_mask)\n",
    "        hidden_states = logits.last_hidden_states\n",
    "        \n",
    "        return self.lm_head(self.dropout(hidden_states))"
   ]
  },
  {
   "cell_type": "code",
   "execution_count": null,
   "id": "35ec79b6-1e79-4a45-bb33-463344973565",
   "metadata": {},
   "outputs": [],
   "source": [
    "training task: training distribution, objective function\n",
    "base optimizer: architecture, sgd"
   ]
  },
  {
   "cell_type": "code",
   "execution_count": 18,
   "id": "965a9a23-1de9-431a-9ee1-d822bec316c0",
   "metadata": {
    "tags": []
   },
   "outputs": [
    {
     "name": "stdout",
     "output_type": "stream",
     "text": [
      "0\n",
      "1\n",
      "2\n"
     ]
    }
   ],
   "source": [
    "for i, x in enumerate([2, 3, 4]):\n",
    "    print(i)"
   ]
  },
  {
   "cell_type": "code",
   "execution_count": null,
   "id": "29759771-918a-4a27-8be8-07f390e72968",
   "metadata": {},
   "outputs": [],
   "source": []
  }
 ],
 "metadata": {
  "kernelspec": {
   "display_name": "Python 3 (ipykernel)",
   "language": "python",
   "name": "python3"
  },
  "language_info": {
   "codemirror_mode": {
    "name": "ipython",
    "version": 3
   },
   "file_extension": ".py",
   "mimetype": "text/x-python",
   "name": "python",
   "nbconvert_exporter": "python",
   "pygments_lexer": "ipython3",
   "version": "3.8.16"
  }
 },
 "nbformat": 4,
 "nbformat_minor": 5
}
