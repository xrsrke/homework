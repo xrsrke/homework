{
 "cells": [
  {
   "cell_type": "markdown",
   "id": "2da8aa04-e0a0-49f3-b207-93de72272efa",
   "metadata": {},
   "source": [
    "### MechInterp"
   ]
  },
  {
   "cell_type": "code",
   "execution_count": null,
   "id": "3522a25b-adb2-4e01-b28b-4ce29eca371d",
   "metadata": {},
   "outputs": [],
   "source": [
    "nothing between, map current tokens, to the next token"
   ]
  },
  {
   "cell_type": "code",
   "execution_count": null,
   "id": "4cf7cbfd-562a-4d3a-9054-4aa8f587c7ba",
   "metadata": {},
   "outputs": [],
   "source": [
    "Q, K"
   ]
  },
  {
   "cell_type": "code",
   "execution_count": null,
   "id": "4f2fa589-7a01-4e32-8f51-6be2e3657062",
   "metadata": {},
   "outputs": [],
   "source": [
    "step 1: diverse data\n",
    "step 2: record the activation of the target neurons\n",
    "step 3: plot the spectrum of activation magnitude\n",
    "step 4: human elavator"
   ]
  },
  {
   "cell_type": "code",
   "execution_count": null,
   "id": "20a11470-d316-4e3b-a6fd-6efb3b37f36a",
   "metadata": {},
   "outputs": [],
   "source": [
    "step 1: logit_diff_dir = W_U[0] - W_U[1]\n",
    "step 2: approximate layer norm\n",
    "step 3: inverse transformation\n",
    "step 4: project pre layer norm to logit_diff_dir"
   ]
  },
  {
   "cell_type": "code",
   "execution_count": 1,
   "id": "116d3569-3223-4dfe-b975-6d153be4f845",
   "metadata": {
    "tags": []
   },
   "outputs": [],
   "source": [
    "from contextlib import contextmanager"
   ]
  },
  {
   "cell_type": "code",
   "execution_count": 2,
   "id": "4f14366c-ae9e-4c72-8894-789760e176d1",
   "metadata": {
    "tags": []
   },
   "outputs": [],
   "source": [
    "@contextmanager\n",
    "def use_hooks(model, hooks):\n",
    "    try:\n",
    "        handles = []\n",
    "        for hook in hooks:\n",
    "            model.transformer.h[1].register_forward_pre_hook(hook)\n",
    "        yield model\n",
    "    finally:\n",
    "        for handle in handles:\n",
    "            handle.remove()"
   ]
  },
  {
   "cell_type": "code",
   "execution_count": null,
   "id": "e7bc7672-e51d-4187-b207-4889b5b0399b",
   "metadata": {},
   "outputs": [],
   "source": [
    "act_head = activations[1, 2]"
   ]
  },
  {
   "cell_type": "code",
   "execution_count": null,
   "id": "1c29df17-cb45-43d3-8c1d-cf7fc17c7f74",
   "metadata": {},
   "outputs": [],
   "source": [
    "hook_name = f\"blocks.{layer_idx}.mlp.hook_post\""
   ]
  },
  {
   "cell_type": "code",
   "execution_count": null,
   "id": "358f4a99-8b35-4728-a36a-5355319cae8a",
   "metadata": {},
   "outputs": [],
   "source": [
    "tokens = model.to_tokens(text)"
   ]
  },
  {
   "cell_type": "code",
   "execution_count": null,
   "id": "3e203159-f3a1-49e0-8a59-392c806dd229",
   "metadata": {},
   "outputs": [],
   "source": [
    "_, cache = model.run_with_cache(tokens)"
   ]
  },
  {
   "cell_type": "code",
   "execution_count": null,
   "id": "74152e6a-17c4-4ec6-9a84-da2ea55f8d93",
   "metadata": {},
   "outputs": [],
   "source": [
    "torch.argmax(cache[hook_name][:, :, neuron_idx], dim=-1)"
   ]
  },
  {
   "cell_type": "code",
   "execution_count": 3,
   "id": "11ec88dc-d4c7-46e4-b30d-5b78ea9b15df",
   "metadata": {
    "tags": []
   },
   "outputs": [],
   "source": [
    "def free_storage(x):\n",
    "    if x.storage().size() > 0:\n",
    "        assert x.storage().offset_size() == 0\n",
    "        x.storage().resize_(0)"
   ]
  },
  {
   "cell_type": "code",
   "execution_count": null,
   "id": "e717a799-5632-418d-99cf-cd7787b88bc5",
   "metadata": {},
   "outputs": [],
   "source": [
    "void getMax(int x, int y) {\n",
    "    if (x > y) {\n",
    "        return x;\n",
    "    } else {\n",
    "        return y;\n",
    "    }\n",
    "}"
   ]
  },
  {
   "cell_type": "code",
   "execution_count": null,
   "id": "378017c1-9d8a-43d4-9f69-baf948e280e4",
   "metadata": {},
   "outputs": [],
   "source": [
    "container runtime, kublet, kube-proxy"
   ]
  },
  {
   "cell_type": "code",
   "execution_count": null,
   "id": "6094bf0a-511e-413f-80d8-d073b463dfb6",
   "metadata": {},
   "outputs": [],
   "source": [
    "void addVectors(int* a, int* b, int* c, int total_elements) {\n",
    "    int gid = (blockDim.x + blockIdx.x) + threadIdx.x\n",
    "    \n",
    "    if (gid < total_elements) {\n",
    "        c[gid] = a[gid] + b[gid]\n",
    "    }\n",
    "}"
   ]
  },
  {
   "cell_type": "code",
   "execution_count": 4,
   "id": "338ecb58-cd13-4ac4-b68e-518e7725f6f3",
   "metadata": {
    "tags": []
   },
   "outputs": [],
   "source": [
    "import socketserver"
   ]
  },
  {
   "cell_type": "code",
   "execution_count": null,
   "id": "07b7b731-02a4-42bc-9ebd-9c28efc64acb",
   "metadata": {},
   "outputs": [],
   "source": [
    "class EchoRequestHandler(socketserver.StreamRequestHandler):\n",
    "    def handle(self):\n",
    "        self.rfile"
   ]
  },
  {
   "cell_type": "code",
   "execution_count": 7,
   "id": "502e6f63-2282-4f45-85b8-10c3a8757861",
   "metadata": {
    "tags": []
   },
   "outputs": [],
   "source": [
    "import torch\n",
    "from torch import nn\n",
    "import torch.nn.functional as F"
   ]
  },
  {
   "cell_type": "code",
   "execution_count": 9,
   "id": "7eacfe36-7893-4ccf-95ee-ba04a75ee44c",
   "metadata": {
    "tags": []
   },
   "outputs": [],
   "source": [
    "class GreedySharding:\n",
    "    def __init__(self, module, parallel_context):\n",
    "        self.module = module\n",
    "        self.parallel_context = parallel_context\n",
    "    \n",
    "    def shard(self):\n",
    "        self._shard_params()\n",
    "    \n",
    "    def _shard_params(self):\n",
    "        world_size = self.parallel_context.get_world_size()\n",
    "        module = self.module\n",
    "        \n",
    "        for param in module.parameters():\n",
    "            assert not hasattr(param, \"_is_sharded\")\n",
    "            orig_data = param.data\n",
    "            param.data = self._get_shard(param)\n",
    "            free_storage(orig_data)\n",
    "            \n",
    "            param._is_shared = True\n",
    "    \n",
    "    def _get_shard(self, param):\n",
    "        world_size = self.parallel_context.get_world_size()\n",
    "        rank = self.parallel_context.get_rank()\n",
    "        chunks = param.flatten().chunks(world_size)\n",
    "        \n",
    "        while len(chunks) < world_size:\n",
    "            chunks.append(torch.empty(1))\n",
    "        \n",
    "        shard = chunks[rank]\n",
    "        num_to_pad = shard.numel() - chunks[0].numel()\n",
    "        \n",
    "        if num_to_pad > 0:\n",
    "            F.pad(shard, pad=num_to_pad)\n",
    "        \n",
    "        return shard"
   ]
  },
  {
   "cell_type": "code",
   "execution_count": null,
   "id": "9e473de4-607d-42c4-9c2f-2b50e81159cc",
   "metadata": {},
   "outputs": [],
   "source": [
    "clock cycle 1: backward(4, 3), recompute(3, 3)\n",
    "clock cycle 2: backward(3, 3), recompute(2, 3)\n",
    "clock cycle 3: backward(2, 3), recompute(1, 3)"
   ]
  },
  {
   "cell_type": "code",
   "execution_count": null,
   "id": "a0b1596a-d054-483e-a90f-edcbd9f13458",
   "metadata": {},
   "outputs": [],
   "source": [
    "x1 - x2"
   ]
  },
  {
   "cell_type": "code",
   "execution_count": null,
   "id": "4c181201-bc05-472d-819f-23aaa055a99b",
   "metadata": {},
   "outputs": [],
   "source": [
    "A^T@W_E + A^T@W_E@W_OV"
   ]
  },
  {
   "cell_type": "code",
   "execution_count": null,
   "id": "fcb40d53-8e82-477a-88f7-6d6a782213fe",
   "metadata": {},
   "outputs": [],
   "source": [
    "hook"
   ]
  },
  {
   "cell_type": "code",
   "execution_count": null,
   "id": "37fd225c-3622-4d05-bc02-08475e4f6aa3",
   "metadata": {},
   "outputs": [],
   "source": [
    "pos_embed + embed + sum(12 heads)"
   ]
  },
  {
   "cell_type": "code",
   "execution_count": 10,
   "id": "dcd76383-3903-4196-bed8-fec1d752a92c",
   "metadata": {
    "tags": []
   },
   "outputs": [],
   "source": [
    "from einops import einsum"
   ]
  },
  {
   "cell_type": "code",
   "execution_count": null,
   "id": "168a47da-18d8-4b50-b2d5-c665faaea66a",
   "metadata": {},
   "outputs": [],
   "source": [
    "induction_stripe = attn_weights.diagonal(dim1=-2, dim2=-1, offset=1-4)"
   ]
  },
  {
   "cell_type": "code",
   "execution_count": 11,
   "id": "c20a5261-5552-4311-94ce-ab823c67be44",
   "metadata": {
    "tags": []
   },
   "outputs": [],
   "source": [
    "def intervene_resid(resid, hook, feature, scale_factor):\n",
    "    feature = feature / feature.norm()\n",
    "    projection = resid[0, position] @ feature\n",
    "    resid[0, position] -= scale_factor*projection*feature\n",
    "    return resid"
   ]
  },
  {
   "cell_type": "code",
   "execution_count": 12,
   "id": "ab5f2209-649f-44f6-9cbf-9373df3df8c5",
   "metadata": {
    "tags": []
   },
   "outputs": [],
   "source": [
    "from functools import partial"
   ]
  },
  {
   "cell_type": "code",
   "execution_count": null,
   "id": "bac1e685-0592-425b-9a75-20e3f5e14ded",
   "metadata": {},
   "outputs": [],
   "source": [
    "hook_func = partial(intervene_resid, feature=target_feature, scale_factor=scale_factor)"
   ]
  },
  {
   "cell_type": "code",
   "execution_count": 14,
   "id": "9311eb5e-c861-459e-8758-c69c318dfee5",
   "metadata": {
    "tags": []
   },
   "outputs": [],
   "source": [
    "from einops import einops\n",
    "from transformer_lens.utils import get_act_name"
   ]
  },
  {
   "cell_type": "code",
   "execution_count": 15,
   "id": "62306752-8e30-49be-b114-b42134d0f215",
   "metadata": {
    "tags": []
   },
   "outputs": [],
   "source": [
    "hook_name = get_act_name(\"resid_post\", -1)"
   ]
  },
  {
   "cell_type": "code",
   "execution_count": null,
   "id": "05becc73-87b9-4457-9054-847845366448",
   "metadata": {
    "tags": []
   },
   "outputs": [],
   "source": [
    "intervened_logits = model.run_with_hooks(\n",
    "    past_moves,\n",
    "    fwd_hooks=[(hook_name, hook_func)]\n",
    ")"
   ]
  },
  {
   "cell_type": "code",
   "execution_count": null,
   "id": "d7deb70f-de2a-4520-9bd2-b9ca8d5de3be",
   "metadata": {},
   "outputs": [],
   "source": [
    "log_probs = F.log_softmax(intervened_logits[0, position], dim=-1)"
   ]
  },
  {
   "cell_type": "code",
   "execution_count": 16,
   "id": "0cc34ef1-587d-4090-b8dc-ebb82eec703d",
   "metadata": {
    "tags": []
   },
   "outputs": [],
   "source": [
    "layer_idx = 2"
   ]
  },
  {
   "cell_type": "code",
   "execution_count": 17,
   "id": "582dcbbb-2e87-471b-b725-dcfa9bf5700c",
   "metadata": {
    "tags": []
   },
   "outputs": [],
   "source": [
    "hook_name = get_act_name(\"out\", layer_idx)\n",
    "W_out = model.W_out[layer_idx]"
   ]
  },
  {
   "cell_type": "code",
   "execution_count": null,
   "id": "54b36838-f50d-4872-81c0-1cafa398b730",
   "metadata": {},
   "outputs": [],
   "source": [
    "_, cache = model.run_with_cache(tokens)"
   ]
  },
  {
   "cell_type": "code",
   "execution_count": null,
   "id": "5f0e61ec-f297-4c06-9224-912cba838bef",
   "metadata": {},
   "outputs": [],
   "source": [
    "output_W_in = cache[hook_name]"
   ]
  },
  {
   "cell_type": "code",
   "execution_count": null,
   "id": "f774e099-a9f5-430b-914d-7c52820e8776",
   "metadata": {},
   "outputs": [],
   "source": [
    "output = output_W_in @ W_out"
   ]
  },
  {
   "cell_type": "code",
   "execution_count": null,
   "id": "bc681d49-56a4-4f1d-b0e3-fd0aa4d197bd",
   "metadata": {},
   "outputs": [],
   "source": [
    "softmax(x@W_Q@x@W_K) @ x@ W_V @ W_O"
   ]
  },
  {
   "cell_type": "code",
   "execution_count": null,
   "id": "1041c29b-9b1a-4d25-9dae-cd47827555b8",
   "metadata": {},
   "outputs": [],
   "source": [
    "W_pos = model.W_pos"
   ]
  },
  {
   "cell_type": "code",
   "execution_count": null,
   "id": "2c381a77-c428-43a9-a032-a35d2b6a86ce",
   "metadata": {},
   "outputs": [],
   "source": [
    "W_pos_x, W_pos, W_pos_ = W_pos"
   ]
  },
  {
   "cell_type": "code",
   "execution_count": null,
   "id": "ff2d9f91-36d2-411f-b11b-9effd4fc0ddc",
   "metadata": {},
   "outputs": [],
   "source": [
    "similarity = torch.cos_(W_pox_x, W_pos_y, dim=0)"
   ]
  },
  {
   "cell_type": "markdown",
   "id": "09ccf603-5f3a-45e1-baee-9dbca2929906",
   "metadata": {},
   "source": [
    "- step 1: extract the \"this cell is mine\" direction for F1 from black's perspective\n",
    "- "
   ]
  },
  {
   "cell_type": "code",
   "execution_count": null,
   "id": "fb885707-7c5e-438c-b49b-0a21fea78f23",
   "metadata": {},
   "outputs": [],
   "source": [
    "step 1: "
   ]
  },
  {
   "cell_type": "code",
   "execution_count": null,
   "id": "f079463e-f518-4cbe-ab8e-69db671b9c93",
   "metadata": {},
   "outputs": [],
   "source": [
    "metallic, ionic, covalent, waal"
   ]
  },
  {
   "cell_type": "markdown",
   "id": "0a6cbf38-3f0b-4fc7-99be-6780e0ad6233",
   "metadata": {},
   "source": [
    "step 1: elasticdriver spots a change in the worker nodes\n",
    "step 2: it sends a hostupdated to the notification service of coordinating worker"
   ]
  },
  {
   "cell_type": "code",
   "execution_count": null,
   "id": "afe3dbb9-623c-4304-b79a-d656ae074b7e",
   "metadata": {},
   "outputs": [],
   "source": [
    "step 1: F1\n",
    "step 2: target position in residual stream\n",
    "step 3: feed\n",
    "step 4: intervene\n",
    "step 5: continue"
   ]
  },
  {
   "cell_type": "code",
   "execution_count": null,
   "id": "ab59862d-789f-404c-b892-34c09f9d8b55",
   "metadata": {},
   "outputs": [],
   "source": [
    "worker id, worker name, WorkerInfo"
   ]
  },
  {
   "cell_type": "code",
   "execution_count": null,
   "id": "9499dece-f4e1-45eb-80ee-36e867d7e975",
   "metadata": {},
   "outputs": [],
   "source": [
    "torch.tensor([0, 0, 1]) @ transition_matrix"
   ]
  },
  {
   "cell_type": "code",
   "execution_count": null,
   "id": "e38507d5-ea03-4180-ae0d-1fbc3d1a13cc",
   "metadata": {},
   "outputs": [],
   "source": [
    "normalization > pre > tokenize > post"
   ]
  },
  {
   "cell_type": "code",
   "execution_count": null,
   "id": "c4b9a3a7-95c1-4312-8bef-2151ff3150d7",
   "metadata": {},
   "outputs": [],
   "source": [
    "loss = F.kl_div(\n",
    "    input=F.log_softmax(student_logits, dim=-1),\n",
    "    target=F.softmax(teacher_logits, dim=-1)\n",
    ")"
   ]
  },
  {
   "cell_type": "code",
   "execution_count": 18,
   "id": "0f4a4453-30b6-4375-a06f-6919e5634dce",
   "metadata": {
    "tags": []
   },
   "outputs": [],
   "source": [
    "def compute_ratio(current, prev):\n",
    "    return (current-prev).exp()"
   ]
  },
  {
   "cell_type": "code",
   "execution_count": null,
   "id": "8e2fff4b-d4c0-42e2-a853-032bfcd888ba",
   "metadata": {},
   "outputs": [],
   "source": []
  },
  {
   "cell_type": "code",
   "execution_count": null,
   "id": "823a0d6f-4268-42df-81dd-84db9a073b34",
   "metadata": {},
   "outputs": [],
   "source": []
  }
 ],
 "metadata": {
  "kernelspec": {
   "display_name": "Python 3 (ipykernel)",
   "language": "python",
   "name": "python3"
  },
  "language_info": {
   "codemirror_mode": {
    "name": "ipython",
    "version": 3
   },
   "file_extension": ".py",
   "mimetype": "text/x-python",
   "name": "python",
   "nbconvert_exporter": "python",
   "pygments_lexer": "ipython3",
   "version": "3.8.16"
  }
 },
 "nbformat": 4,
 "nbformat_minor": 5
}
