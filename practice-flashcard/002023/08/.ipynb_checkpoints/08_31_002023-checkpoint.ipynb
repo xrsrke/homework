{
 "cells": [
  {
   "cell_type": "markdown",
   "id": "df6c2706-1c31-4a2d-9041-62615aab9d9d",
   "metadata": {},
   "source": [
    "### Engineering"
   ]
  },
  {
   "cell_type": "code",
   "execution_count": 1,
   "id": "9c048fb8-0724-40c6-bf13-b74fa2e67f99",
   "metadata": {
    "tags": []
   },
   "outputs": [],
   "source": [
    "import torch\n",
    "from torch import nn\n",
    "import torch.nn.functional as F"
   ]
  },
  {
   "cell_type": "code",
   "execution_count": 2,
   "id": "b8081aac-7584-4d76-b882-9ad54839eaac",
   "metadata": {
    "tags": []
   },
   "outputs": [],
   "source": [
    "import torch.distributed as dist\n",
    "import torch.distributed.rpc as rpc"
   ]
  },
  {
   "cell_type": "code",
   "execution_count": null,
   "id": "8024f2bc-7c83-421a-a2f0-337e6a155c76",
   "metadata": {},
   "outputs": [],
   "source": [
    "local_max = torch.max(xs, dim=-1)[0]\n",
    "\n",
    "global_max = dist.all_reduce(\n",
    "    local_max,\n",
    "    op=dist.ReduceOp.MAX\n",
    ")"
   ]
  },
  {
   "cell_type": "code",
   "execution_count": null,
   "id": "e1c466c6-79ff-4f96-a399-df26a10d6c02",
   "metadata": {},
   "outputs": [],
   "source": [
    "normalized_xs = xs - global_max"
   ]
  },
  {
   "cell_type": "code",
   "execution_count": 3,
   "id": "2ae9e2f4-cc68-41e5-ae41-6594e8a24a2d",
   "metadata": {
    "tags": []
   },
   "outputs": [],
   "source": [
    "import socketserver"
   ]
  },
  {
   "cell_type": "code",
   "execution_count": null,
   "id": "737ca201-82c2-48d1-ac6b-7a50d5d19e0a",
   "metadata": {},
   "outputs": [],
   "source": [
    "class EchoRequestHandler(socketserver. )"
   ]
  },
  {
   "cell_type": "code",
   "execution_count": 5,
   "id": "b6c7c104-7cb7-4bf2-9299-6c6cdad15d0f",
   "metadata": {
    "tags": []
   },
   "outputs": [],
   "source": [
    "import hashlib\n",
    "import hmac"
   ]
  },
  {
   "cell_type": "code",
   "execution_count": null,
   "id": "d4ea6aa2-de92-4e69-a510-e18840d9e2e9",
   "metadata": {},
   "outputs": [],
   "source": [
    "def compute_digest(key, serialized_message):\n",
    "    return hmac.new(key, serialized_message, digestmod=hashlib.sha256).digest()"
   ]
  },
  {
   "cell_type": "code",
   "execution_count": null,
   "id": "f4efd715-9cd4-4fdd-8e3d-d24dabad6a3e",
   "metadata": {},
   "outputs": [],
   "source": [
    "dist.broadcast(x)"
   ]
  },
  {
   "cell_type": "code",
   "execution_count": null,
   "id": "562795d9-eff0-4f2b-bc14-2a0f06840553",
   "metadata": {},
   "outputs": [],
   "source": [
    "dist.broadcast(x, src=0, async_op=True)"
   ]
  },
  {
   "cell_type": "code",
   "execution_count": null,
   "id": "01fcb383-4b48-4996-ad8c-2d33e465e101",
   "metadata": {},
   "outputs": [],
   "source": [
    "new > ready > running > blocked > terminated "
   ]
  },
  {
   "cell_type": "code",
   "execution_count": null,
   "id": "880bb14c-e308-448b-9bb6-431c185552c4",
   "metadata": {},
   "outputs": [],
   "source": [
    "embed(\"(\") @ ln @ W_OV"
   ]
  },
  {
   "cell_type": "code",
   "execution_count": null,
   "id": "cbecb9b2-e341-41ec-955d-2589e88e1ee2",
   "metadata": {},
   "outputs": [],
   "source": [
    "relu, correlated, sparity, impo"
   ]
  },
  {
   "cell_type": "code",
   "execution_count": null,
   "id": "0018a453-be6d-412d-887a-165664c2b973",
   "metadata": {},
   "outputs": [],
   "source": [
    "tokens = model.to_tokens(text)"
   ]
  },
  {
   "cell_type": "code",
   "execution_count": null,
   "id": "cecd2fae-76b3-4030-9489-2c8fc93bbe56",
   "metadata": {},
   "outputs": [],
   "source": [
    "_, cache = model.run_with_cache(tokens)"
   ]
  },
  {
   "cell_type": "code",
   "execution_count": null,
   "id": "2cdabfe6-8cd9-455c-abf2-663423d9864b",
   "metadata": {},
   "outputs": [],
   "source": [
    "embed = cache[\"embed\"]\n",
    "pos_embed = cache[\"pos_embed\"]\n",
    "head_outputs = cache[\"result\", layer_idx-1]\n",
    "\n",
    "inputs = torch.cat([embed, pos_embed, head_outputs])"
   ]
  },
  {
   "cell_type": "code",
   "execution_count": 6,
   "id": "bf1258a0-b577-4850-8ffd-51896a766cf2",
   "metadata": {
    "tags": []
   },
   "outputs": [],
   "source": [
    "from einops import einsum"
   ]
  },
  {
   "cell_type": "code",
   "execution_count": null,
   "id": "aa042639-de32-4b02-a8e0-1dd9e7bbc611",
   "metadata": {},
   "outputs": [],
   "source": [
    "W_Q = model.W_Q[layer_idx, head_idx]\n",
    "decomposed_q = einsum(\n",
    "    inputs, W_Q\n",
    ")"
   ]
  },
  {
   "cell_type": "code",
   "execution_count": null,
   "id": "ea4683c4-7284-4242-a17f-248ec3cbd646",
   "metadata": {},
   "outputs": [],
   "source": [
    "W_K = model.W_K[layer_idx, head_idx]\n",
    "decomposed_k = einsum(\n",
    "    inputs, W_K\n",
    ")"
   ]
  },
  {
   "cell_type": "code",
   "execution_count": null,
   "id": "34c4f881-ad11-4d49-b6c2-2b6a01480e51",
   "metadata": {},
   "outputs": [],
   "source": [
    "decomposed_scores = einsum(\n",
    "    decomposed_q, decomposed_k,\n",
    ")"
   ]
  },
  {
   "cell_type": "code",
   "execution_count": 7,
   "id": "a04c8711-1f8d-4261-96ba-f5cca4d81b94",
   "metadata": {
    "tags": []
   },
   "outputs": [],
   "source": [
    "from einops import rearrange"
   ]
  },
  {
   "cell_type": "code",
   "execution_count": null,
   "id": "2ae1721c-3f65-4fd1-aaca-506f80f88fbe",
   "metadata": {},
   "outputs": [],
   "source": [
    "W_OV = model.W_V[0, 1] @ model.W_O[0, 1]\n",
    "W_QK = model.W_Q[1, 2] @ rearrange(\n",
    "    model.W_K[1, 2],\n",
    "    \"... d_model d_head -> ... d_head d_model\"\n",
    ")"
   ]
  },
  {
   "cell_type": "code",
   "execution_count": null,
   "id": "78eb0c22-d10e-4ad4-a475-f41273a7b6ae",
   "metadata": {},
   "outputs": [],
   "source": [
    "virtual_weight = W_OV @ W_QK"
   ]
  },
  {
   "cell_type": "code",
   "execution_count": null,
   "id": "177924e0-ef46-4590-bbca-fde1637a5e61",
   "metadata": {},
   "outputs": [],
   "source": [
    "open_embedding = model.W_E[:, open_idx]\n",
    "close_embedding = model.W_E[:, close_idx]"
   ]
  },
  {
   "cell_type": "code",
   "execution_count": null,
   "id": "addbb3d2-1939-420e-98b1-ce825ae03edc",
   "metadata": {},
   "outputs": [],
   "source": [
    "W_OV = model.W_V[0, 0] @ model.W_O[0, 0]"
   ]
  },
  {
   "cell_type": "code",
   "execution_count": null,
   "id": "d8c96e31-de54-49a1-b14d-fa2f0c5c88de",
   "metadata": {},
   "outputs": [],
   "source": [
    "open_embedding = open_embedding @ layer0_ln_coefs.T @ W_OV"
   ]
  },
  {
   "cell_type": "code",
   "execution_count": null,
   "id": "95f0981d-cc68-4277-b312-dd3fa4dc962a",
   "metadata": {},
   "outputs": [],
   "source": [
    "clean_tokens = model.to_tokens(clean_prompt)\n",
    "corrupted_tokens = model.to_tokens(corrupted_prompt)"
   ]
  },
  {
   "cell_type": "code",
   "execution_count": null,
   "id": "6828cb89-314f-4b52-83c6-bec7ffa691f2",
   "metadata": {},
   "outputs": [],
   "source": [
    "_, corrupted_cache = model.run_with_cache(corrupted_tokens)"
   ]
  },
  {
   "cell_type": "code",
   "execution_count": 10,
   "id": "defcabbe-6a6f-4196-94f3-5dae0c1549d5",
   "metadata": {
    "tags": []
   },
   "outputs": [],
   "source": [
    "def patch_acts(acts, hook, corrupted_cache, position_idx):\n",
    "    acts[:, position_idx, :] = corrupted_cache[hook.name][:, position_idx, :]\n",
    "    return acts"
   ]
  },
  {
   "cell_type": "code",
   "execution_count": 9,
   "id": "f4814b72-bab2-4062-9300-16cea2f594cb",
   "metadata": {
    "tags": []
   },
   "outputs": [],
   "source": [
    "from functools import partial\n",
    "from transformer_lens.utils import get_act_name"
   ]
  },
  {
   "cell_type": "code",
   "execution_count": null,
   "id": "a77ad86a-14c1-46aa-b0c5-a4b76954e189",
   "metadata": {},
   "outputs": [],
   "source": [
    "seq_len = clean_tokens.shape[-1]"
   ]
  },
  {
   "cell_type": "code",
   "execution_count": null,
   "id": "1682cd1a-0932-4695-b33a-2e42e0c253d4",
   "metadata": {},
   "outputs": [],
   "source": [
    "correct_token = model.to_single_token(\"John\")\n",
    "incorrect_token = model.to_single_token(\"Mary\")"
   ]
  },
  {
   "cell_type": "code",
   "execution_count": null,
   "id": "04b2e54a-79b9-46c9-a80c-39a2f4bef589",
   "metadata": {},
   "outputs": [],
   "source": [
    "clean_logits, _ = model.run_with_cache(clean_tokens)\n",
    "corrupted_logits, _ = model.run_with_cache(corrupted_tokens)"
   ]
  },
  {
   "cell_type": "code",
   "execution_count": null,
   "id": "8e664352-1e9f-4ffc-bbaa-774fb0f734d9",
   "metadata": {},
   "outputs": [],
   "source": [
    "def compute_logit_diff(logits, correct_token, incorrect_token):\n",
    "    final_logits = logits[:, -1, :]\n",
    "    return final_logits[:, correct_token] - final_logits[incorrect_token]"
   ]
  },
  {
   "cell_type": "code",
   "execution_count": null,
   "id": "272f0c86-39d7-4da6-9366-2de8c63ffcfa",
   "metadata": {},
   "outputs": [],
   "source": [
    "clean_logit_diff = compute_logit_diff(clean_logits, correct_token, incorrect_token)\n",
    "corrupted_logit_diff = compute_logit_diff(corrupted_logits, correct_token, incorrect_token)"
   ]
  },
  {
   "cell_type": "code",
   "execution_count": null,
   "id": "4e5ba346-2e30-448e-9c0b-13741b1da2e2",
   "metadata": {},
   "outputs": [],
   "source": []
  },
  {
   "cell_type": "code",
   "execution_count": null,
   "id": "1e2e6d55-e35c-4b83-8ea1-fac7159d1d2a",
   "metadata": {},
   "outputs": [],
   "source": [
    "for layer_idx in range(n_layers):\n",
    "    hook_name = get_act_name(\"resid_pre\", layer_idx)\n",
    "    for position_idx in range(seq_len):\n",
    "        hook_func = partial(\n",
    "            patch_acts,\n",
    "            corrupted_cache=corrupted_cache,\n",
    "            position_idx=position_idx\n",
    "        )\n",
    "        \n",
    "        patched_logits = model.run_with_hooks(\n",
    "            clean_tokens,\n",
    "            fwd_hooks=[(hook_name, hook_func)]\n",
    "        )"
   ]
  },
  {
   "cell_type": "code",
   "execution_count": null,
   "id": "1c46ba92-cad1-4081-b181-74e772c1d369",
   "metadata": {},
   "outputs": [],
   "source": [
    "pre_final_ln_name = get_act_name(\"resid_post\", 2)\n",
    "\n",
    "pre_head20_ln_name = get_act_name(\"resid_post\", 1)\n",
    "post_head_20_ln_name = get_act_name(\"normalized\", layer_idx, \"ln1\")"
   ]
  },
  {
   "cell_type": "code",
   "execution_count": null,
   "id": "40c091e8-66b5-4f87-88c6-811c855bcd4e",
   "metadata": {},
   "outputs": [],
   "source": [
    "_, cache = model.run_with_cache(tokens)"
   ]
  },
  {
   "cell_type": "code",
   "execution_count": null,
   "id": "863b0b99-a002-4a9e-992f-fc2cef971062",
   "metadata": {},
   "outputs": [],
   "source": [
    "pre_final_ln_acts = cache[pre_final_ln_name]\n",
    "post_final_ln_acts = cache[post_final_ln_name]\n",
    "\n",
    "pre_final_ln_acts = pre_final_ln_acts[:, 0]\n",
    "post_final_ln_acts = post_final_ln_acts[:, 0]\n",
    "\n",
    "pre_head20_ln_acts = cache[pre_head20_ln_name][:, 1]\n",
    "post_head20_ln_acts = cache[post_head20_ln_name][:, 1]"
   ]
  },
  {
   "cell_type": "code",
   "execution_count": null,
   "id": "5bb24c48-a8e8-4d48-9e03-9c946c4d1df0",
   "metadata": {},
   "outputs": [],
   "source": [
    "final_ln_coeffs = fit_ln(pre_final_ln_acts, post_final_ln_acts)\n",
    "head20_ln_coeffs = fit_ln(pre_head20_ln_acts, post_head20_ln_acts)"
   ]
  },
  {
   "cell_type": "code",
   "execution_count": null,
   "id": "195e06d0-47c0-4b0f-b293-1713afd31340",
   "metadata": {},
   "outputs": [],
   "source": [
    "W_U = model.W_U\n",
    "logit_diff_direction = W_U[:, 0] - W_U[:, 1]\n",
    "\n",
    "final_ln_dir = final_ln_coeffs @ logit_diff_direction"
   ]
  },
  {
   "cell_type": "code",
   "execution_count": null,
   "id": "032a1b05-37a2-451f-b37c-27ef93a8187f",
   "metadata": {},
   "outputs": [],
   "source": [
    "W_OV = model.W_V[2, 0] @ model.W_O[2, 0]"
   ]
  },
  {
   "cell_type": "code",
   "execution_count": null,
   "id": "5efb527c-a4cc-42fc-8f89-ae56c23fd0a5",
   "metadata": {},
   "outputs": [],
   "source": [
    "pre_head20_ln_dir = head20_ln_coeffs.T @ W_OV @ final_ln_dir"
   ]
  },
  {
   "cell_type": "code",
   "execution_count": null,
   "id": "7572c733-3efe-487e-8e36-5a0966f45915",
   "metadata": {},
   "outputs": [],
   "source": [
    "new > ready > running > blocked > terminated"
   ]
  },
  {
   "cell_type": "code",
   "execution_count": null,
   "id": "9426988e-d4d6-4c43-ad8a-377b158c4794",
   "metadata": {},
   "outputs": [],
   "source": [
    "shape, dtype, requires_grad"
   ]
  },
  {
   "cell_type": "code",
   "execution_count": null,
   "id": "eebde5c6-dcc0-4650-baa7-468dc2d4e3c4",
   "metadata": {},
   "outputs": [],
   "source": [
    "before\n",
    "start\n",
    "finish\n",
    "finish\n",
    "end"
   ]
  },
  {
   "cell_type": "code",
   "execution_count": 11,
   "id": "5ab01519-f8bd-457c-8688-b15b35e654d2",
   "metadata": {
    "tags": []
   },
   "outputs": [],
   "source": [
    "n_microbatches = 4\n",
    "n_partitions = 3"
   ]
  },
  {
   "cell_type": "code",
   "execution_count": 12,
   "id": "7b9753a8-ff8f-429d-a394-435c4ef9a0ae",
   "metadata": {
    "tags": []
   },
   "outputs": [],
   "source": [
    "n_clock_cycles = n_microbatches+n_partitions-1"
   ]
  },
  {
   "cell_type": "code",
   "execution_count": 13,
   "id": "ac06ba6c-04fd-4d1f-b4f7-0ef852c3f8c2",
   "metadata": {
    "tags": []
   },
   "outputs": [
    {
     "name": "stdout",
     "output_type": "stream",
     "text": [
      "[(0, 0)]\n",
      "[(1, 0), (0, 1)]\n",
      "[(2, 0), (1, 1), (0, 2)]\n",
      "[(3, 0), (2, 1), (1, 2)]\n",
      "[(3, 1), (2, 2)]\n",
      "[(3, 2)]\n"
     ]
    }
   ],
   "source": [
    "for clock_idx in range(n_clock_cycles):\n",
    "    start_partition_idx = max(clock_idx+1-n_microbatches, 0)\n",
    "    end_partition_idx = min(clock_idx+1, n_partitions)\n",
    "    \n",
    "    xs = []\n",
    "    for partition_idx in range(start_partition_idx, end_partition_idx):\n",
    "        microbatch_idx = clock_idx - partition_idx\n",
    "        xs.append((microbatch_idx, partition_idx))\n",
    "    \n",
    "    print(xs)"
   ]
  },
  {
   "cell_type": "code",
   "execution_count": null,
   "id": "fb45561f-ec04-4bdd-b8e8-703d69a993d0",
   "metadata": {},
   "outputs": [],
   "source": []
  },
  {
   "cell_type": "code",
   "execution_count": 14,
   "id": "de6b19b7-3bfc-4bf2-ab17-7ae7e3c2f5c8",
   "metadata": {
    "tags": []
   },
   "outputs": [],
   "source": [
    "class Checkpoint(torch.autograd.Function):\n",
    "    @staticmethod\n",
    "    def forward(ctx, phony, recomputed, function, input):\n",
    "        ctx.recomputed = recomputed\n",
    "        \n",
    "        with torch.no_grad():\n",
    "            output = function(input)\n",
    "        \n",
    "        return output\n",
    "    \n",
    "    @staticmethod\n",
    "    def backward(ctx, grad_input):\n",
    "        output, input_leaf = ctx.recompute.pop()\n",
    "        \n",
    "        with torch.enable_grad():\n",
    "            torch.autograd.backward(output, grad_input)\n",
    "        \n",
    "        return tuple([None, None, None, input_leaf.grad])"
   ]
  },
  {
   "cell_type": "code",
   "execution_count": null,
   "id": "6c3e7cac-a035-4055-828c-9f0267419297",
   "metadata": {},
   "outputs": [],
   "source": [
    "job selector > initial workers >  pool > "
   ]
  },
  {
   "cell_type": "code",
   "execution_count": null,
   "id": "018bcaca-fb0e-4b5e-a11f-6874b29feb4f",
   "metadata": {},
   "outputs": [],
   "source": [
    "tokens = model.to_tokens(text)"
   ]
  },
  {
   "cell_type": "code",
   "execution_count": null,
   "id": "ba8b09b2-8bb4-40ac-bf0d-4c31d0ee3336",
   "metadata": {},
   "outputs": [],
   "source": [
    "_, cache = model.run_with_cache(tokens)"
   ]
  },
  {
   "cell_type": "code",
   "execution_count": null,
   "id": "2d414249-e5f4-41d1-9860-45c341d48779",
   "metadata": {},
   "outputs": [],
   "source": [
    "input_components = torch.tensor([\n",
    "    cache[\"embed\"],\n",
    "    cache[\"pos_embed\"],\n",
    "    cache[\"result\", layer_idx-1]\n",
    "])"
   ]
  },
  {
   "cell_type": "code",
   "execution_count": null,
   "id": "9dcc8ddb-c7a6-4e8b-af1a-5f5e22f4875a",
   "metadata": {},
   "outputs": [],
   "source": [
    "W_Q = model.W_Q[layer_idx, head_idx]\n",
    "decomposed_q = einsum(\n",
    "    input_components,\n",
    "    W_Q\n",
    ")"
   ]
  },
  {
   "cell_type": "code",
   "execution_count": null,
   "id": "c7f49422-85b8-487d-bec2-cbc4b81e84c5",
   "metadata": {},
   "outputs": [],
   "source": [
    "W_K = model.W_K[layer_idx, head_idx]\n",
    "decomposed_k = einsum(\n",
    "    input_components,\n",
    "    W_K\n",
    ")"
   ]
  },
  {
   "cell_type": "code",
   "execution_count": null,
   "id": "2cf1fd51-7e21-4e3d-bba1-e7640207a4d3",
   "metadata": {},
   "outputs": [],
   "source": [
    "decomposed_scores = einsum(\n",
    "    decomposed_q, decomposed_k\n",
    ")"
   ]
  },
  {
   "cell_type": "code",
   "execution_count": null,
   "id": "c63d42d4-f8b3-48f2-a794-f969548c4f26",
   "metadata": {},
   "outputs": [],
   "source": [
    "step 1: prob[0] = sigmoid(logit0 - logit1)\n",
    "step 2: logit0 = resid2[0] @ W_U[0], logit1 = resid2[0] @ W_U[1]\n",
    "step 3: logit0 - logit1 = resid2[0] @ (W_U[0] - W_U[1])\n",
    "step 4: resid2 = resid1[1] @ ln1 @ W_OV^{2, 0}\n",
    "step 5: logit0 - logit1 = resid1[1] @ ln1 @ W_OV^{2, 0} @ (W_U[0] - W_U[1])"
   ]
  },
  {
   "cell_type": "code",
   "execution_count": 16,
   "id": "5ef20cd8-a078-4c8f-b388-cfd0bb5444a8",
   "metadata": {
    "tags": []
   },
   "outputs": [],
   "source": [
    "def intervene_resid(resid, hook, scale, feature):\n",
    "    pass"
   ]
  },
  {
   "cell_type": "code",
   "execution_count": null,
   "id": "82c5ca69-c9a4-4b66-8815-aab8f3d2cea4",
   "metadata": {},
   "outputs": [],
   "source": [
    "W_pos = model.W_pos"
   ]
  },
  {
   "cell_type": "code",
   "execution_count": null,
   "id": "dd33c089-9b19-4c1e-aa97-d8f7047a5f6d",
   "metadata": {},
   "outputs": [],
   "source": [
    "W_QK = model.W_Q[layer_idx, head_idx] @ rearrange(\n",
    "    model.W_K[layer_idx, head_idx],\n",
    "    \"... d_model d_head -> ... d_head d_model\"\n",
    ")"
   ]
  },
  {
   "cell_type": "code",
   "execution_count": null,
   "id": "905be656-4f29-448d-8d72-b3443ffc8f11",
   "metadata": {},
   "outputs": [],
   "source": [
    "pos_by_pos = W_pos @ W_QK @ W_pos.T"
   ]
  },
  {
   "cell_type": "code",
   "execution_count": null,
   "id": "0d50cc80-4541-4e08-84f1-3be3053186ce",
   "metadata": {},
   "outputs": [],
   "source": [
    "def mask_scores():\n",
    "    pass"
   ]
  },
  {
   "cell_type": "code",
   "execution_count": null,
   "id": "47e2d3de-b9ed-4304-b41e-46d5ffddf4b5",
   "metadata": {},
   "outputs": [],
   "source": []
  },
  {
   "cell_type": "code",
   "execution_count": null,
   "id": "e2312ea0-f059-4399-b11e-bedd19c4119e",
   "metadata": {},
   "outputs": [],
   "source": [
    "_, cache = model.run_with_cache(board_history)"
   ]
  },
  {
   "cell_type": "code",
   "execution_count": null,
   "id": "2bc0604a-0ef0-4db1-93e5-9cd5b9481d2c",
   "metadata": {},
   "outputs": [],
   "source": [
    "neuron_activations = cache[\"mlp_post\"]"
   ]
  },
  {
   "cell_type": "code",
   "execution_count": 17,
   "id": "055f44e4-0c7d-4ec4-86a4-40e2c7c05d15",
   "metadata": {},
   "outputs": [],
   "source": [
    "import torch\n",
    "from torch import nn\n",
    "import torch.nn.functional as F"
   ]
  },
  {
   "cell_type": "code",
   "execution_count": 18,
   "id": "2e9edf9f-c955-4b67-b0ad-26418c238fdc",
   "metadata": {
    "tags": []
   },
   "outputs": [],
   "source": [
    "def intervene_resid(resid, hook, feature, scale):\n",
    "    feature /= feature.norm(dim=-1)\n",
    "    feature_projection = resid[:, 0] @ feature\n",
    "    resid[:, 0] -= feature_projection * feature * scale"
   ]
  },
  {
   "cell_type": "code",
   "execution_count": null,
   "id": "9fdd3bc4-a3d8-4f4a-baf7-0a9082b8c1d6",
   "metadata": {},
   "outputs": [],
   "source": [
    "hook_name = get_act_name(\"resid_pre\", layer_idx)"
   ]
  },
  {
   "cell_type": "code",
   "execution_count": 19,
   "id": "b0f98ea4-bb2d-4a3c-92aa-a31211cc03b2",
   "metadata": {
    "tags": []
   },
   "outputs": [],
   "source": [
    "from functools import partial"
   ]
  },
  {
   "cell_type": "code",
   "execution_count": null,
   "id": "ba09ef73-a93c-411e-9b2f-2831942a056a",
   "metadata": {},
   "outputs": [],
   "source": [
    "hook_func = partial(intervene_resid, feature=target_feature, scale=scale)"
   ]
  },
  {
   "cell_type": "code",
   "execution_count": null,
   "id": "20f59501-e943-44e2-9ce2-990c59bc9a03",
   "metadata": {},
   "outputs": [],
   "source": [
    "_, cache = model.run_with_cache(\n",
    "    past_moves,\n",
    "    fwd_hooks=[(hook_name, hook_func)]\n",
    ")"
   ]
  },
  {
   "cell_type": "code",
   "execution_count": null,
   "id": "4cd9f5f6-ee5c-4fa0-8dd3-b2bf8b74df62",
   "metadata": {},
   "outputs": [],
   "source": [
    "class ResidualLayerNorm(nn.Module):\n",
    "    def __init__(self, d_model, dropout):\n",
    "        super().__init__()\n",
    "        self.layer_norm = nn.LayerNorm(d_model)\n",
    "        self.dropout = nn.Dropout(dropout)\n",
    "    \n",
    "    def forward(self, x, residual):\n",
    "        return self.dropout(x)"
   ]
  },
  {
   "cell_type": "code",
   "execution_count": null,
   "id": "89306356-102d-490e-8bf1-20aadc79e788",
   "metadata": {},
   "outputs": [],
   "source": [
    "from gymnasium"
   ]
  },
  {
   "cell_type": "code",
   "execution_count": null,
   "id": "301e1564-f485-4167-9598-17e46e7584c2",
   "metadata": {},
   "outputs": [],
   "source": [
    "class ShowerEnv(Env)"
   ]
  },
  {
   "cell_type": "code",
   "execution_count": 1,
   "id": "82181a06-030a-4cd0-883a-016924ee8d35",
   "metadata": {
    "tags": []
   },
   "outputs": [],
   "source": [
    "from transformers import AutoModel, AutoTokenizer"
   ]
  },
  {
   "cell_type": "code",
   "execution_count": 33,
   "id": "b6021c86-889f-469c-a748-5d2bc6ae23fd",
   "metadata": {
    "tags": []
   },
   "outputs": [],
   "source": [
    "model = AutoModel.from_pretrained(\"bigscience/bloom-560m\")"
   ]
  },
  {
   "cell_type": "code",
   "execution_count": 34,
   "id": "6b0879b8-7f79-4f69-8351-92a1fafcfc3e",
   "metadata": {
    "tags": []
   },
   "outputs": [],
   "source": [
    "tokenizer = AutoTokenizer.from_pretrained(\"bigscience/bloom-560m\")"
   ]
  },
  {
   "cell_type": "code",
   "execution_count": 35,
   "id": "9284bdb4-4f99-45e4-bb40-5737402cd1d7",
   "metadata": {
    "tags": []
   },
   "outputs": [
    {
     "data": {
      "text/plain": [
       "Embedding(250880, 1024)"
      ]
     },
     "execution_count": 35,
     "metadata": {},
     "output_type": "execute_result"
    }
   ],
   "source": [
    "model.get_input_embeddings()"
   ]
  },
  {
   "cell_type": "code",
   "execution_count": 41,
   "id": "1d19912c-36f3-48c8-9580-2cca39a9ab75",
   "metadata": {
    "tags": []
   },
   "outputs": [
    {
     "data": {
      "text/plain": [
       "torch.Size([4096, 1024])"
      ]
     },
     "execution_count": 41,
     "metadata": {},
     "output_type": "execute_result"
    }
   ],
   "source": [
    "model.h[0].mlp.dense_h_to_4h.weight.size()"
   ]
  },
  {
   "cell_type": "code",
   "execution_count": null,
   "id": "b6e4fe0c-404b-472f-95aa-8e133510ce71",
   "metadata": {},
   "outputs": [],
   "source": []
  },
  {
   "cell_type": "code",
   "execution_count": 4,
   "id": "55649d4f-af6b-423f-9ed8-6eec2c25a24f",
   "metadata": {
    "tags": []
   },
   "outputs": [],
   "source": [
    "module = model.get_input_embeddings()"
   ]
  },
  {
   "cell_type": "code",
   "execution_count": 9,
   "id": "ea257d28-cf0a-4b95-a427-3fdc68aa2cc4",
   "metadata": {
    "tags": []
   },
   "outputs": [],
   "source": [
    "tokens = tokenizer(\"Persistence is all you need\", return_tensors=\"pt\")"
   ]
  },
  {
   "cell_type": "code",
   "execution_count": 10,
   "id": "0068f733-04d1-4d8c-b4a8-39df88bce37b",
   "metadata": {
    "tags": []
   },
   "outputs": [
    {
     "data": {
      "text/plain": [
       "{'input_ids': tensor([[30946, 13274,   318,   477,   345,   761]]), 'attention_mask': tensor([[1, 1, 1, 1, 1, 1]])}"
      ]
     },
     "execution_count": 10,
     "metadata": {},
     "output_type": "execute_result"
    }
   ],
   "source": [
    "tokens"
   ]
  },
  {
   "cell_type": "code",
   "execution_count": 12,
   "id": "25ccd7f8-29c8-4293-a996-792cb893daf5",
   "metadata": {
    "tags": []
   },
   "outputs": [],
   "source": [
    "import torch"
   ]
  },
  {
   "cell_type": "code",
   "execution_count": 14,
   "id": "7a3a1194-e0cc-4197-a054-aff8e590a4ab",
   "metadata": {
    "tags": []
   },
   "outputs": [
    {
     "data": {
      "text/plain": [
       "tensor([0, 1, 2, 3, 4, 5, 6, 7, 8, 9])"
      ]
     },
     "execution_count": 14,
     "metadata": {},
     "output_type": "execute_result"
    }
   ],
   "source": [
    "torch.arange(0, 10)"
   ]
  },
  {
   "cell_type": "code",
   "execution_count": 15,
   "id": "8a8fd2e2-adbe-49e8-9519-6647ed1a6737",
   "metadata": {
    "tags": []
   },
   "outputs": [
    {
     "data": {
      "text/plain": [
       "tensor([[-0.1101, -0.0393,  0.0331,  ..., -0.1364,  0.0151,  0.0453],\n",
       "        [ 0.0403, -0.0486,  0.0462,  ...,  0.0861,  0.0025,  0.0432],\n",
       "        [-0.1275,  0.0479,  0.1841,  ...,  0.0899, -0.1297, -0.0879],\n",
       "        ...,\n",
       "        [-0.1300, -0.2115,  0.1315,  ..., -0.0846, -0.2080, -0.0746],\n",
       "        [-0.0797, -0.1248,  0.0563,  ...,  0.0053, -0.0880,  0.1316],\n",
       "        [-0.0401,  0.0523,  0.1221,  ...,  0.0295, -0.0433,  0.0227]],\n",
       "       grad_fn=<EmbeddingBackward0>)"
      ]
     },
     "execution_count": 15,
     "metadata": {},
     "output_type": "execute_result"
    }
   ],
   "source": [
    "module(torch.arange(0, 10))"
   ]
  },
  {
   "cell_type": "code",
   "execution_count": 26,
   "id": "a651102e-4f7f-4bbe-9b02-5cb114a7a80a",
   "metadata": {
    "tags": []
   },
   "outputs": [],
   "source": [
    "vocab_size, embedding_dim = module.weight.size()"
   ]
  },
  {
   "cell_type": "code",
   "execution_count": 28,
   "id": "c73f5d30-1527-413e-9c28-96135ff1832e",
   "metadata": {
    "tags": []
   },
   "outputs": [
    {
     "data": {
      "text/plain": [
       "(50257, 768)"
      ]
     },
     "execution_count": 28,
     "metadata": {},
     "output_type": "execute_result"
    }
   ],
   "source": [
    "vocab_size, embedding_dim"
   ]
  },
  {
   "cell_type": "code",
   "execution_count": 30,
   "id": "f04a6d3a-d541-4624-accf-5d4c06675a99",
   "metadata": {
    "tags": []
   },
   "outputs": [],
   "source": [
    "new_vocab_size = vocab_size"
   ]
  },
  {
   "cell_type": "code",
   "execution_count": 31,
   "id": "77dcadef-3617-4903-8510-648e3949cc51",
   "metadata": {
    "tags": []
   },
   "outputs": [],
   "source": [
    "divisible_by = 4\n",
    "while new_vocab_size % divisible_by != 0:\n",
    "    new_vocab_size += 1"
   ]
  },
  {
   "cell_type": "code",
   "execution_count": 32,
   "id": "cab3beec-934a-4db0-a51c-1628c0e19212",
   "metadata": {
    "tags": []
   },
   "outputs": [
    {
     "data": {
      "text/plain": [
       "50260"
      ]
     },
     "execution_count": 32,
     "metadata": {},
     "output_type": "execute_result"
    }
   ],
   "source": [
    "new_vocab_size"
   ]
  },
  {
   "cell_type": "code",
   "execution_count": 37,
   "id": "81a366a8-48bc-4907-a96a-4900f53c8c96",
   "metadata": {
    "tags": []
   },
   "outputs": [],
   "source": [
    "from torch import nn"
   ]
  },
  {
   "cell_type": "code",
   "execution_count": 38,
   "id": "90b0e9e1-2ebd-458f-aa64-b12e5e40d786",
   "metadata": {
    "tags": []
   },
   "outputs": [
    {
     "name": "stdout",
     "output_type": "stream",
     "text": [
      "wte\n",
      "wpe\n"
     ]
    }
   ],
   "source": [
    "for name, module in model.named_children():\n",
    "    if isinstance(module, nn.Embedding):\n",
    "        print(name)"
   ]
  },
  {
   "cell_type": "code",
   "execution_count": null,
   "id": "eb13a836-50a3-4e3f-9dc7-c72dbe41565f",
   "metadata": {},
   "outputs": [],
   "source": []
  }
 ],
 "metadata": {
  "kernelspec": {
   "display_name": "Python 3 (ipykernel)",
   "language": "python",
   "name": "python3"
  },
  "language_info": {
   "codemirror_mode": {
    "name": "ipython",
    "version": 3
   },
   "file_extension": ".py",
   "mimetype": "text/x-python",
   "name": "python",
   "nbconvert_exporter": "python",
   "pygments_lexer": "ipython3",
   "version": "3.8.16"
  }
 },
 "nbformat": 4,
 "nbformat_minor": 5
}
