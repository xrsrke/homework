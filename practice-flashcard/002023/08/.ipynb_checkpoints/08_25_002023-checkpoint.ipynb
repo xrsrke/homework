{
 "cells": [
  {
   "cell_type": "markdown",
   "id": "46400c73-349b-438a-a904-9163fd72ea7e",
   "metadata": {},
   "source": [
    "### Engineering"
   ]
  },
  {
   "cell_type": "code",
   "execution_count": 1,
   "id": "f3550966-e735-46ae-9b7d-30572dead508",
   "metadata": {
    "tags": []
   },
   "outputs": [],
   "source": [
    "import torch\n",
    "from torch import nn\n",
    "import torch.nn.functional as F"
   ]
  },
  {
   "cell_type": "code",
   "execution_count": null,
   "id": "e8eb492d-a74e-47fc-bd65-20f13a10a259",
   "metadata": {},
   "outputs": [],
   "source": [
    "step 1: partition the weights\n",
    "step 2: "
   ]
  },
  {
   "cell_type": "code",
   "execution_count": null,
   "id": "c36abad4-93d2-4b03-b54f-c267608d2b47",
   "metadata": {},
   "outputs": [],
   "source": [
    "scatter, reduce"
   ]
  },
  {
   "cell_type": "code",
   "execution_count": 2,
   "id": "139ae053-f76b-4684-9089-257347e8bd10",
   "metadata": {
    "tags": []
   },
   "outputs": [],
   "source": [
    "import torch.distributed as dist"
   ]
  },
  {
   "cell_type": "code",
   "execution_count": null,
   "id": "fdf5109f-c1fe-4ed3-a735-de19a991f05b",
   "metadata": {},
   "outputs": [],
   "source": [
    "dist.get_rank()"
   ]
  },
  {
   "cell_type": "markdown",
   "id": "d063e54c-848f-4799-9457-76ca94e3c6d2",
   "metadata": {},
   "source": [
    "step 1: determine local rank in parallel group\n",
    "step 2: if local rank is zero, then it is the fist"
   ]
  },
  {
   "cell_type": "code",
   "execution_count": null,
   "id": "bcfc5912-df4f-4812-9660-a3163db690d4",
   "metadata": {},
   "outputs": [],
   "source": [
    "partition(input)"
   ]
  },
  {
   "cell_type": "code",
   "execution_count": null,
   "id": "a12afbd5-8167-4726-b8b5-9d5fd8625266",
   "metadata": {},
   "outputs": [],
   "source": [
    "clock cycle 1: F(0, 0)\n",
    "clock cycle 2: F(1, 0), F(0, 1)\n",
    "clock cycle 3: F(2, 0), F(1, 1)\n",
    "clock cycle 4: F(2, 1)"
   ]
  },
  {
   "cell_type": "code",
   "execution_count": null,
   "id": "0677e161-754d-47bf-9eb5-9b0201d70001",
   "metadata": {},
   "outputs": [],
   "source": [
    "step 1: determine the partition size\n",
    "step 2: split weight\n",
    "step 3: calculate the local output\n",
    "step 4: calculate the global output"
   ]
  },
  {
   "cell_type": "code",
   "execution_count": null,
   "id": "41aca1c4-2289-40ac-9101-7d49c9e78217",
   "metadata": {},
   "outputs": [],
   "source": [
    "scatter, reduceb"
   ]
  },
  {
   "cell_type": "code",
   "execution_count": null,
   "id": "057710bb-a5ea-4833-8e86-9a9cd5b23c61",
   "metadata": {},
   "outputs": [],
   "source": [
    "tensor.unbind(dim=0)"
   ]
  },
  {
   "cell_type": "code",
   "execution_count": null,
   "id": "ef944623-98b6-435b-8efe-a5ac39b1ae5d",
   "metadata": {},
   "outputs": [],
   "source": [
    "with torch.cuda.device(device):\n",
    "    total = x.sum()"
   ]
  },
  {
   "cell_type": "code",
   "execution_count": 4,
   "id": "dd751c15-eb9f-4928-ac4f-8a88baff81d3",
   "metadata": {
    "tags": []
   },
   "outputs": [],
   "source": [
    "class Recompute(torch.autograd.Function):\n",
    "    @staticmethod\n",
    "    def forward(ctx, phony, recomputed, function, input):\n",
    "        ctx.recomputed = recomputed\n",
    "        ctx.function = function\n",
    "        ctx.input = input\n",
    "        \n",
    "        return phony\n",
    "\n",
    "    @staticmethod\n",
    "    def backward(ctx, grad_input):\n",
    "        function = ctx.function\n",
    "        input = ctx.input\n",
    "        input_leaf = input.detach().requires_grad(\n",
    "            input.requires_grad\n",
    "        )\n",
    "        \n",
    "        with torch.enable_grad():\n",
    "            output = function(input_leaf)\n",
    "        \n",
    "        ctx.recomputed.append((output, input_leaf))\n",
    "        return tuple([None, None, None, input_leaf.grad])"
   ]
  },
  {
   "cell_type": "code",
   "execution_count": null,
   "id": "3e0146f8-966a-46da-b504-a96499abce2e",
   "metadata": {},
   "outputs": [],
   "source": [
    "step 1: fp16, fp32 of the weights\n",
    "step 2: do forward pass and backward pass using fp16\n",
    "step 3: cast the gradients from fp16 to fp32\n",
    "step 4: update"
   ]
  },
  {
   "cell_type": "code",
   "execution_count": null,
   "id": "9d2cecef-d14b-4456-b363-54830a1cfedc",
   "metadata": {},
   "outputs": [],
   "source": [
    "step 1: send metadata\n",
    "step 2: send raw data\n",
    "step 3: receive metadata, and construct a placeholder tensor\n",
    "step 4: fill raw data"
   ]
  },
  {
   "cell_type": "code",
   "execution_count": null,
   "id": "377bcf4a-e743-4f54-aba3-41ce6477aefa",
   "metadata": {},
   "outputs": [],
   "source": [
    "step 1: mask targets\n",
    "step 2: calcualte local predicted logits\n",
    "step 3: calculate the global predicted logits\n",
    "step 4: log(...)\n",
    "step 5: calculate the loss log(...) - global_predicted_logitsbb"
   ]
  },
  {
   "cell_type": "code",
   "execution_count": 5,
   "id": "b2a7f79b-7e67-4ce8-b76a-ebccfdd31d94",
   "metadata": {
    "tags": []
   },
   "outputs": [],
   "source": [
    "def gather_tensor(x):\n",
    "    world_size = dist.get_world_size()\n",
    "    \n",
    "    if world_size == 1:\n",
    "        return x\n",
    "    \n",
    "    xs = [torch.zeros_like(x) for _ in range(world_size)]\n",
    "    dist.all_gather(xs, x)\n",
    "    xs = torch.cat(xs)\n",
    "    \n",
    "    return xs"
   ]
  },
  {
   "cell_type": "code",
   "execution_count": 6,
   "id": "00976099-624f-4b6e-ae42-fb15b1aadb34",
   "metadata": {
    "tags": []
   },
   "outputs": [],
   "source": [
    "from contextlib import contextmanager"
   ]
  },
  {
   "cell_type": "code",
   "execution_count": 7,
   "id": "ba057917-f86e-4696-ac3e-1e7951734f91",
   "metadata": {
    "tags": []
   },
   "outputs": [],
   "source": [
    "@contextmanager\n",
    "def use_stream(stream):\n",
    "    if not isinstance(stream, torch.cuda.Stream):\n",
    "        yield\n",
    "        return\n",
    "    \n",
    "    with torch.cuda.stream(stream):\n",
    "        yield"
   ]
  },
  {
   "cell_type": "code",
   "execution_count": null,
   "id": "17e5b72e-9bd5-44eb-9b7c-ec2ecd97ef06",
   "metadata": {},
   "outputs": [],
   "source": []
  },
  {
   "cell_type": "code",
   "execution_count": 9,
   "id": "61939879-c57b-4391-a7a0-891fd3261a0e",
   "metadata": {
    "tags": []
   },
   "outputs": [],
   "source": [
    "class Checkpoint(torch.autograd.Function):\n",
    "    @staticmethod\n",
    "    def forward(ctx, phony, recomputed, function, input):\n",
    "        ctx.recompute = recompute\n",
    "        with torch.no_grad():\n",
    "            output = function(input)\n",
    "        return output, phony\n",
    "\n",
    "    @staticmethod\n",
    "    def backward(ctx, grad_input):\n",
    "        output, input_leaf = ctx.recompute.pop()\n",
    "        \n",
    "        with torch.enable_grad():\n",
    "            torch.autograd.backward(output, grad_input)\n",
    "        \n",
    "        return tuple([None, None, None, input_leaf.grad])"
   ]
  },
  {
   "cell_type": "code",
   "execution_count": null,
   "id": "e55590ca-b2a0-43e1-8809-d43ea6cfada0",
   "metadata": {},
   "outputs": [],
   "source": [
    "shared memory, file system, message"
   ]
  },
  {
   "cell_type": "code",
   "execution_count": null,
   "id": "340feb45-f938-4a54-b521-64c51a4c99f9",
   "metadata": {},
   "outputs": [],
   "source": [
    "step 1: send ready\n",
    "step "
   ]
  },
  {
   "cell_type": "code",
   "execution_count": 11,
   "id": "bc2e5994-404f-47a6-a629-7995d9cfe642",
   "metadata": {
    "tags": []
   },
   "outputs": [],
   "source": [
    "import threading"
   ]
  },
  {
   "cell_type": "code",
   "execution_count": null,
   "id": "35965416-6788-479b-b827-a348a92e7fb4",
   "metadata": {},
   "outputs": [],
   "source": [
    "thread = threading.Thread(target=print_numbers)"
   ]
  },
  {
   "cell_type": "code",
   "execution_count": null,
   "id": "75f38940-300b-4c21-b2dd-f6d355744fc9",
   "metadata": {},
   "outputs": [],
   "source": [
    "thread.start()"
   ]
  },
  {
   "cell_type": "code",
   "execution_count": 12,
   "id": "9a662993-64ad-4349-9692-3c7b7c210e04",
   "metadata": {
    "tags": []
   },
   "outputs": [],
   "source": [
    "def run_worker():\n",
    "    pass"
   ]
  },
  {
   "cell_type": "code",
   "execution_count": null,
   "id": "8638c799-e027-42df-8c6a-203b07382c21",
   "metadata": {},
   "outputs": [],
   "source": [
    "thread = threading.Thread(target=run_worker)"
   ]
  },
  {
   "cell_type": "code",
   "execution_count": null,
   "id": "6ea21c6f-c35e-419a-9023-718501b7b63b",
   "metadata": {},
   "outputs": [],
   "source": [
    "(n-1)*m"
   ]
  },
  {
   "cell_type": "code",
   "execution_count": 13,
   "id": "702a9b66-ebeb-42dd-b392-8fbccbd44859",
   "metadata": {
    "tags": []
   },
   "outputs": [],
   "source": [
    "import torch.distributed.rpc as rpc\n",
    "from torch.distributed.rpc import RRef"
   ]
  },
  {
   "cell_type": "code",
   "execution_count": null,
   "id": "5e47f5e7-4166-41a2-94c0-b7a337f158ae",
   "metadata": {},
   "outputs": [],
   "source": [
    "class Agent:\n",
    "    def __init__(self):\n",
    "        self.id = RRef(self)"
   ]
  },
  {
   "cell_type": "code",
   "execution_count": null,
   "id": "5d49c903-2393-4a42-b9bf-e9e7a893af67",
   "metadata": {},
   "outputs": [],
   "source": [
    "step 1: logit lens across accumulated residual stream\n",
    "step 2: logit lens across decompsoed residual stream\n",
    "step 3: logit less across "
   ]
  },
  {
   "cell_type": "code",
   "execution_count": null,
   "id": "806f83c3-3630-403b-b6f9-e0bda71ef0c8",
   "metadata": {},
   "outputs": [],
   "source": []
  },
  {
   "cell_type": "code",
   "execution_count": null,
   "id": "5e06a190-1ccc-437a-8d65-688a25ce8f61",
   "metadata": {},
   "outputs": [],
   "source": [
    "_, cache = model.run_with_cache(tokens)"
   ]
  },
  {
   "cell_type": "code",
   "execution_count": 14,
   "id": "0730fc54-ecd3-45fb-be36-1293702c34bc",
   "metadata": {
    "tags": []
   },
   "outputs": [],
   "source": [
    "from transformer_lens.utils import get_act_name"
   ]
  },
  {
   "cell_type": "code",
   "execution_count": 15,
   "id": "41e94491-0d0e-47bb-9d6f-1ae918b57a82",
   "metadata": {
    "tags": []
   },
   "outputs": [],
   "source": [
    "hook_name = get_act_name(\"pattern\", 0, \"attn\")"
   ]
  },
  {
   "cell_type": "code",
   "execution_count": 16,
   "id": "4f494af5-b40c-4ca2-bd9d-05428048d9b3",
   "metadata": {
    "tags": []
   },
   "outputs": [
    {
     "data": {
      "text/plain": [
       "'blocks.0.attn.hook_pattern'"
      ]
     },
     "execution_count": 16,
     "metadata": {},
     "output_type": "execute_result"
    }
   ],
   "source": [
    "hook_name"
   ]
  },
  {
   "cell_type": "code",
   "execution_count": null,
   "id": "c077c207-e4d8-4108-896c-2160aadd9796",
   "metadata": {},
   "outputs": [],
   "source": [
    "attn_pattern = cache[hook_name]"
   ]
  },
  {
   "cell_type": "code",
   "execution_count": null,
   "id": "8292cc4f-e55d-4336-9921-78ff7579efd9",
   "metadata": {},
   "outputs": [],
   "source": [
    "str_tokens = model.to_str_tokens(tokens)"
   ]
  },
  {
   "cell_type": "code",
   "execution_count": null,
   "id": "31e56b62-00f4-4c4a-8f2a-f8324711f2e4",
   "metadata": {},
   "outputs": [],
   "source": [
    "mlp_names = [get_act_name(\"mlp_out\", layer_idx) for layer_idx in range(n_layers)]\n",
    "attn_names = [get_act_name(\"attn_out\", layer_idx) for layer_idx in range(n_heads)]\n",
    "\n",
    "input_components = [\"embed\", \"pos_embed\"]\n",
    "\n",
    "for mlp_name, attn_name in zip(mlp_names, attn_names):\n",
    "    input_components.append([mlp_name, attn_name])"
   ]
  },
  {
   "cell_type": "code",
   "execution_count": null,
   "id": "4ba9bb94-6ca8-4185-9600-7fa5421675a7",
   "metadata": {},
   "outputs": [],
   "source": [
    "_, cache = model.run_with_cache(tokens)"
   ]
  },
  {
   "cell_type": "code",
   "execution_count": null,
   "id": "2be8b628-6ef4-4173-8d61-0225a9625fce",
   "metadata": {},
   "outputs": [],
   "source": [
    "pre_ln = cache[\"ln_final\"] @ final_ln_coeffs.T"
   ]
  },
  {
   "cell_type": "code",
   "execution_count": null,
   "id": "52f789da-2838-4c9c-9094-0a976a67205b",
   "metadata": {},
   "outputs": [],
   "source": [
    "step 1: get input\n",
    "step 2: construct task\n",
    "step 3: put the task into queue\n",
    "step 4: wait output\n",
    "step 5: put out"
   ]
  },
  {
   "cell_type": "code",
   "execution_count": null,
   "id": "0804a6fe-9402-43e4-8beb-187a2290ff16",
   "metadata": {},
   "outputs": [],
   "source": [
    "step 1: raw_data + meta_data = package\n",
    "step 2: invoke rpc along with the package\n",
    "step 3: "
   ]
  },
  {
   "cell_type": "code",
   "execution_count": 17,
   "id": "a28afe58-19de-4a0e-8c8e-8865b0e2a0b2",
   "metadata": {
    "tags": []
   },
   "outputs": [],
   "source": [
    "import threading"
   ]
  },
  {
   "cell_type": "code",
   "execution_count": 18,
   "id": "10fd0050-8e46-467f-bfaa-b6cd30c55fc6",
   "metadata": {
    "tags": []
   },
   "outputs": [],
   "source": [
    "event = threading.Event()"
   ]
  },
  {
   "cell_type": "code",
   "execution_count": 19,
   "id": "9b082619-f2fb-4290-95e9-6bcc73662620",
   "metadata": {
    "tags": []
   },
   "outputs": [],
   "source": [
    "def run_worker():\n",
    "    print(\"waiting\")\n",
    "    event.wait()\n",
    "    print(\"received\")"
   ]
  },
  {
   "cell_type": "code",
   "execution_count": null,
   "id": "f1f4838d-baa0-44aa-9a3a-144869be3d45",
   "metadata": {},
   "outputs": [],
   "source": [
    "thread = threading.Thread(target=run_worker)"
   ]
  },
  {
   "cell_type": "code",
   "execution_count": null,
   "id": "30ec5519-3b00-457d-8aa9-3cf0b5a60b31",
   "metadata": {},
   "outputs": [],
   "source": [
    "pool watcher, worker thread, jobselection"
   ]
  },
  {
   "cell_type": "code",
   "execution_count": null,
   "id": "e18e7ae4-6d6c-486b-be59-758bc05ac825",
   "metadata": {},
   "outputs": [],
   "source": [
    "step 1: attn = l0h00(resid)\n",
    "step 2: resid2 = resid + atn"
   ]
  },
  {
   "cell_type": "code",
   "execution_count": null,
   "id": "7ba3c3cb-c7db-465a-b9ad-532826f63fd1",
   "metadata": {},
   "outputs": [],
   "source": [
    "mlp_names = [get_act_name(\"mlp_out\", layer_idx) for layer_idx in range(n_layers)]\n",
    "attn_names = [get_act_name(\"attn_out\", layer_idx) for layer_idx in range(n_heads)]"
   ]
  },
  {
   "cell_type": "code",
   "execution_count": null,
   "id": "81e0381b-175d-4d7b-b364-e7364052a12c",
   "metadata": {},
   "outputs": [],
   "source": [
    "hook_names = [\"embed\", \"pos_embed\"]"
   ]
  },
  {
   "cell_type": "code",
   "execution_count": null,
   "id": "1e863acd-2f50-4e06-9677-f4db10367c3d",
   "metadata": {},
   "outputs": [],
   "source": [
    "for mlp_name, attn_name in zip(mlp_names, attn_names):\n",
    "    hook_names.append([attn_name, mlp_name])"
   ]
  },
  {
   "cell_type": "code",
   "execution_count": null,
   "id": "bec8190b-2484-4f74-a88c-376c5c403adc",
   "metadata": {},
   "outputs": [],
   "source": [
    "_, cache = model.run_with_cache(tokens)"
   ]
  },
  {
   "cell_type": "code",
   "execution_count": null,
   "id": "62486690-7f07-47cf-ae38-11f981b73069",
   "metadata": {},
   "outputs": [],
   "source": [
    "final_ln = cache[\"ln_final\"]\n",
    "pre_final_ln = final_ln @ final_ln_coeffs.T"
   ]
  },
  {
   "cell_type": "code",
   "execution_count": null,
   "id": "f4e99efe-e1c5-46fc-95ad-94dae7bf0e4d",
   "metadata": {},
   "outputs": [],
   "source": [
    "W_U = model.W_U\n",
    "target_dir = pre_ln_final @ (W_U[:, 0] - W_U[:, 1])"
   ]
  },
  {
   "cell_type": "code",
   "execution_count": null,
   "id": "c1cc85be-a6e6-4862-b7dc-c157500f34b3",
   "metadata": {},
   "outputs": [],
   "source": [
    "for name in"
   ]
  },
  {
   "cell_type": "code",
   "execution_count": null,
   "id": "2df776a9-543d-4440-8e6b-81e2051dd1f0",
   "metadata": {},
   "outputs": [],
   "source": [
    "W_E = model.W_E\n",
    "W_Q = model.W_Q[1, 4]\n",
    "W_K = model.W_K[1, 4]\n",
    "W_O = model.W_O[0, 7]\n",
    "W_V = model.W_V[0, 7]"
   ]
  },
  {
   "cell_type": "code",
   "execution_count": null,
   "id": "c4c8608b-c44b-4f9c-9ccf-d40aa5c34866",
   "metadata": {},
   "outputs": [],
   "source": [
    "K = W_E W_V @ W_O @ W_K"
   ]
  },
  {
   "cell_type": "code",
   "execution_count": null,
   "id": "02d301ea-2f03-4a4d-8dd9-37bec42d8b3c",
   "metadata": {},
   "outputs": [],
   "source": [
    "step 1: logits = final_resid @ W_U\n",
    "step 2: final_resid = embed + pos_embed + sum(12 heads)"
   ]
  },
  {
   "cell_type": "code",
   "execution_count": null,
   "id": "e7910bef-d232-4571-b1b5-890bda7af439",
   "metadata": {},
   "outputs": [],
   "source": [
    "W_E = model.W_E\n",
    "W_Q = model.W_Q[1, 4]\n",
    "W_K = model.W_K[1, 4]\n",
    "W_O = model.W_O[0, 7]\n",
    "W_V = model.W_V[0, 7]"
   ]
  },
  {
   "cell_type": "code",
   "execution_count": null,
   "id": "f3f869f3-8c86-40c8-8e74-2e1d63571962",
   "metadata": {},
   "outputs": [],
   "source": [
    "K = W_E @ W_V @ W_O @ W_K\n",
    "Q = W_E @ W_Q"
   ]
  },
  {
   "cell_type": "code",
   "execution_count": null,
   "id": "79fbae6a-7d2b-474a-a82f-8d542e883d6d",
   "metadata": {},
   "outputs": [],
   "source": [
    "embed = model.embed\n",
    "mlp0 = model.blocks[0].mlp\n",
    "ln01 = model.blocks[1].ln2\n",
    "unembed = model.unembed\n",
    "ln_final = model.ln_final"
   ]
  },
  {
   "cell_type": "code",
   "execution_count": null,
   "id": "1a709856-1e06-4c2a-879e-3924c8e31a33",
   "metadata": {},
   "outputs": [],
   "source": [
    "name_tokens = model.to_tokens(names)\n",
    "text_embeddings = model.embed(name_tokens)"
   ]
  },
  {
   "cell_type": "code",
   "execution_count": null,
   "id": "eb5b3823-cd75-4c93-8a87-8021f31886b6",
   "metadata": {},
   "outputs": [],
   "source": [
    "resid_after_mlp0 = text_embeddings + mlp0(ln01(text_embeddings))"
   ]
  },
  {
   "cell_type": "code",
   "execution_count": null,
   "id": "09eebb8f-42a9-4072-a08a-f53c3bcf8418",
   "metadata": {},
   "outputs": [],
   "source": [
    "def resid_to_logits(resid):\n",
    "    return unembed(ln_final())"
   ]
  },
  {
   "cell_type": "code",
   "execution_count": null,
   "id": "4cedf9d6-9b52-4322-b959-ed8d55c30370",
   "metadata": {},
   "outputs": [],
   "source": [
    "tokens = model.to_tokens(text)"
   ]
  },
  {
   "cell_type": "code",
   "execution_count": null,
   "id": "2b745230-a496-4e20-a66c-ddf7586787cf",
   "metadata": {},
   "outputs": [],
   "source": [
    "_, cache = model.run_with_cache(tokens)"
   ]
  },
  {
   "cell_type": "code",
   "execution_count": 20,
   "id": "4b4c9a7c-70b3-4e69-86d1-f5e2ff5fb8f2",
   "metadata": {
    "tags": []
   },
   "outputs": [],
   "source": [
    "layer_idx, head_idx = 9, 9"
   ]
  },
  {
   "cell_type": "code",
   "execution_count": null,
   "id": "ec405fb2-62f1-4e44-9693-8762f09aab01",
   "metadata": {},
   "outputs": [],
   "source": [
    "attn_probs = cache[\"attn\", layer_idx][:, head_idx]"
   ]
  },
  {
   "cell_type": "code",
   "execution_count": null,
   "id": "c9421899-2393-42c0-b022-336b8c81fbf6",
   "metadata": {},
   "outputs": [],
   "source": [
    "attn_prob[:, 0, -1]"
   ]
  },
  {
   "cell_type": "code",
   "execution_count": null,
   "id": "a4cacff9-2dd8-4b94-bd24-517334977c87",
   "metadata": {},
   "outputs": [],
   "source": [
    "step 1: attn_out0 = L0H00(pre_resid)\n",
    "step 2: mid_resid = attn_out0 + pre_resid\n",
    "step 3: mlp0 = MLP0(mid_resid)\n",
    "step 4: resid1 = mid_resid + mlp0\n",
    "step 5: mlp1 = MLP1(resid1)\n",
    "step 6: resid2 = resid1 + mlp1"
   ]
  },
  {
   "cell_type": "code",
   "execution_count": null,
   "id": "b3ed675d-be06-4dc6-9d6a-7e62718ab961",
   "metadata": {},
   "outputs": [],
   "source": [
    "A @ x @ W_OV @ W_OV"
   ]
  },
  {
   "cell_type": "code",
   "execution_count": null,
   "id": "b993a10e-c53e-4833-a9f9-7894ae52770b",
   "metadata": {},
   "outputs": [],
   "source": [
    "W_in = model.W_in[5, 1393]"
   ]
  },
  {
   "cell_type": "code",
   "execution_count": 21,
   "id": "9afa8cc7-8bd2-47f9-bf2a-b0b3c205379d",
   "metadata": {
    "tags": []
   },
   "outputs": [],
   "source": [
    "from einops import einsum, rearrange"
   ]
  },
  {
   "cell_type": "code",
   "execution_count": null,
   "id": "87fede61-820c-4d86-8b9e-0c73894dce58",
   "metadata": {},
   "outputs": [],
   "source": [
    "def compute_consine_similarity(weight, feature):\n",
    "    weight /= weight.norm(dim=-1)\n",
    "    feature /= feature.norm(dim=-1)\n",
    "    \n",
    "    return einsum(weight, feature, \"\")"
   ]
  },
  {
   "cell_type": "code",
   "execution_count": null,
   "id": "c6069476-0db2-41fc-92f8-b3a8c08113b9",
   "metadata": {},
   "outputs": [],
   "source": [
    "w_in_blank = compute_cosine_similarity(W_in, )"
   ]
  },
  {
   "cell_type": "code",
   "execution_count": null,
   "id": "39b26240-9341-4edc-9687-c55ac2d8e555",
   "metadata": {},
   "outputs": [],
   "source": [
    "embed = model.embed\n",
    "mlp0 = model.blocks[0].mlp0\n",
    "ln01 = model.blocks[0].ln2\n",
    "unembed = model.unembed\n",
    "ln_final = model.ln_final"
   ]
  },
  {
   "cell_type": "code",
   "execution_count": 22,
   "id": "6633c61d-8433-47d4-b42b-0689ebdd22cf",
   "metadata": {
    "tags": []
   },
   "outputs": [],
   "source": [
    "def resid2logits(resid):\n",
    "    return unembed(ln_final(resid))"
   ]
  },
  {
   "cell_type": "code",
   "execution_count": null,
   "id": "e96e9773-5768-4050-8926-b29092855a2b",
   "metadata": {},
   "outputs": [],
   "source": [
    "name_tokens = model.to_tokens(text)\n",
    "text_embeddings = embed(name_tokens)"
   ]
  },
  {
   "cell_type": "code",
   "execution_count": null,
   "id": "266dd98a-9566-4313-bda4-08d4a30825a0",
   "metadata": {},
   "outputs": [],
   "source": [
    "resid_after_mlp0 = text_embeddings + mlp0(ln01(text_embeddings))"
   ]
  },
  {
   "cell_type": "code",
   "execution_count": null,
   "id": "73cc8941-0f35-4c4f-b32a-996df0f7f536",
   "metadata": {},
   "outputs": [],
   "source": [
    "for layer_idx in range(n_layers):\n",
    "    for head_idx in range(n_heads):\n",
    "        W_OV = model.W_V[layer_idx, head_idx] @ model.W_O[layer_idx, head_idx]\n",
    "        output = resid_after_mlp0 @ W_OV\n",
    "        logits = resid2logits(output)\n",
    "        \n",
    "        top_predictions = torch.topk(logits, dim=-1, k=5)\n",
    "        percentage = (top_predictions == name_tokens).any(dim=-1).float().mean()"
   ]
  },
  {
   "cell_type": "code",
   "execution_count": null,
   "id": "ec091dd9-b438-4ed2-a3ce-58aa213227fa",
   "metadata": {},
   "outputs": [],
   "source": []
  },
  {
   "cell_type": "code",
   "execution_count": null,
   "id": "f7f9c14c-2668-41dc-af14-3ac948efc20e",
   "metadata": {},
   "outputs": [],
   "source": [
    "L00, MLP0, MLP1, L2H20 "
   ]
  },
  {
   "cell_type": "code",
   "execution_count": null,
   "id": "20792672-0e9c-4e68-9d83-3b03e60090c5",
   "metadata": {},
   "outputs": [],
   "source": []
  },
  {
   "cell_type": "code",
   "execution_count": null,
   "id": "732677d1-1079-48ae-b8e7-30c301426174",
   "metadata": {},
   "outputs": [],
   "source": [
    "MLP(Attn(x@W_E))@W_U"
   ]
  },
  {
   "cell_type": "code",
   "execution_count": null,
   "id": "71027195-fc84-4370-bdee-af45d1de11c2",
   "metadata": {},
   "outputs": [],
   "source": [
    "step 1: logits = resid @ unembed\n",
    "step 2: resid = embed + pos_embed + layer0 + layer1\n",
    "step 3: logits = [embed + pos_embed + layer0 + layer1] @ unembed\n",
    "step 4: logits = embed @ unembed + pos_embed @ unembed + layer0 @ unembed + layer1 @ unembed"
   ]
  },
  {
   "cell_type": "code",
   "execution_count": null,
   "id": "e5cf1db7-c3b9-4e4b-9d77-3a9f18b6183a",
   "metadata": {},
   "outputs": [],
   "source": [
    "0.42 - 0.69, 2%, met"
   ]
  },
  {
   "cell_type": "code",
   "execution_count": null,
   "id": "9129aa2a-9f0c-4399-96c3-b25ba60ab6af",
   "metadata": {},
   "outputs": [],
   "source": [
    "text_similarities = text_embeddings @ text_embeddings.T\n",
    "image_similarities = image_embeddings @ image_embeddings.T"
   ]
  },
  {
   "cell_type": "code",
   "execution_count": null,
   "id": "7ee90333-198a-4610-80b0-4afecc030cec",
   "metadata": {},
   "outputs": [],
   "source": [
    "targets = F.softmax(\n",
    "    (text_similarities + image_similarities) / (2*temperature)\n",
    ")"
   ]
  },
  {
   "cell_type": "code",
   "execution_count": null,
   "id": "bd566ca6-84a8-4d29-b2e2-8ccf21cf9af4",
   "metadata": {},
   "outputs": [],
   "source": [
    "retina "
   ]
  },
  {
   "cell_type": "code",
   "execution_count": null,
   "id": "212fa787-bc7f-4ff4-b0ed-79379d0ff95c",
   "metadata": {},
   "outputs": [],
   "source": [
    "training task: loss, objective func\n",
    "base optimizer: sgd, architecture"
   ]
  },
  {
   "cell_type": "code",
   "execution_count": null,
   "id": "be7a93bb-eca4-4fd5-8de2-facd842777d4",
   "metadata": {},
   "outputs": [],
   "source": [
    "def convert_to_distribution(states):\n",
    "    q_values = q_function(states)\n",
    "    return q_values.exp() / q_values.sum(dim=-1)"
   ]
  },
  {
   "cell_type": "code",
   "execution_count": 31,
   "id": "0fe80ca3-acd3-4125-8458-cc463b6dc970",
   "metadata": {
    "tags": []
   },
   "outputs": [],
   "source": [
    "min_workers = 7\n",
    "max_workers = 10"
   ]
  },
  {
   "cell_type": "code",
   "execution_count": 32,
   "id": "19ae2372-20c6-45f5-86b1-e229738d76d2",
   "metadata": {
    "tags": []
   },
   "outputs": [],
   "source": [
    "num_working = 8"
   ]
  },
  {
   "cell_type": "code",
   "execution_count": 37,
   "id": "1a8bb726-37af-446a-915a-97d0673b0d73",
   "metadata": {
    "tags": []
   },
   "outputs": [],
   "source": [
    "def is_new_needed():\n",
    "    return min_workers > num_working and max_workers "
   ]
  },
  {
   "cell_type": "code",
   "execution_count": 38,
   "id": "ff812862-5846-4799-910c-001fc73ef366",
   "metadata": {
    "tags": []
   },
   "outputs": [
    {
     "data": {
      "text/plain": [
       "False"
      ]
     },
     "execution_count": 38,
     "metadata": {},
     "output_type": "execute_result"
    }
   ],
   "source": [
    "is_new_needed()"
   ]
  },
  {
   "cell_type": "code",
   "execution_count": null,
   "id": "86e9b7c1-53cb-46aa-a075-916d9437a8f4",
   "metadata": {},
   "outputs": [],
   "source": []
  }
 ],
 "metadata": {
  "kernelspec": {
   "display_name": "Python 3 (ipykernel)",
   "language": "python",
   "name": "python3"
  },
  "language_info": {
   "codemirror_mode": {
    "name": "ipython",
    "version": 3
   },
   "file_extension": ".py",
   "mimetype": "text/x-python",
   "name": "python",
   "nbconvert_exporter": "python",
   "pygments_lexer": "ipython3",
   "version": "3.8.16"
  }
 },
 "nbformat": 4,
 "nbformat_minor": 5
}
