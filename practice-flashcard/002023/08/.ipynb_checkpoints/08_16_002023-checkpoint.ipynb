{
 "cells": [
  {
   "cell_type": "markdown",
   "id": "3e9ab84c-2b15-404e-85b0-e31ddac9d12a",
   "metadata": {},
   "source": [
    "#### MechInterp"
   ]
  },
  {
   "cell_type": "code",
   "execution_count": null,
   "id": "87be0080-dd30-420a-815a-b8b85c4fcfc9",
   "metadata": {},
   "outputs": [],
   "source": [
    "step 1: residual = embed(tokens) + pos_embed(tokens)\n",
    "step 2: residual = blocks(residual)\n",
    "step 3: residual = ln_final(residual)\n",
    "step 4: logits = unembed(residual)"
   ]
  },
  {
   "cell_type": "code",
   "execution_count": null,
   "id": "131b1d35-bf20-447d-a754-75987404afce",
   "metadata": {},
   "outputs": [],
   "source": [
    "_, cache = model.run_with_cache(clean_tokens)"
   ]
  },
  {
   "cell_type": "code",
   "execution_count": 1,
   "id": "1552c98f-934e-4ab3-90ba-a69cc0fce654",
   "metadata": {
    "tags": []
   },
   "outputs": [],
   "source": [
    "layer_idx, head_idx = 9, 9"
   ]
  },
  {
   "cell_type": "code",
   "execution_count": null,
   "id": "11dd908f-f9f4-418c-b06c-5086d17d4952",
   "metadata": {},
   "outputs": [],
   "source": [
    "head_output = cache[\"result\", layer_idx][:, :, head_idx]"
   ]
  },
  {
   "cell_type": "code",
   "execution_count": null,
   "id": "5e72fe2f-2297-46e4-80ba-fdef3f0c8191",
   "metadata": {},
   "outputs": [],
   "source": [
    "output = head_output @ model.W_O[layer_idx, head_idx]"
   ]
  },
  {
   "cell_type": "code",
   "execution_count": null,
   "id": "3a3588ba-1dea-4726-a9f6-b29eeea07d00",
   "metadata": {},
   "outputs": [],
   "source": [
    "W_U = model.W_U\n",
    "io_dir = W_U[:, io_tokens]\n",
    "s_dir = W_U[:, s_tokens]"
   ]
  },
  {
   "cell_type": "code",
   "execution_count": null,
   "id": "15b9e4a6-79a3-4824-869d-c73a45189700",
   "metadata": {},
   "outputs": [],
   "source": [
    "projection_in_io_dir = (output * io_dir).sum()\n",
    "projection_in_s_dir = (output * s_dir).sum()"
   ]
  },
  {
   "cell_type": "code",
   "execution_count": null,
   "id": "45311903-5246-42e8-9388-66f015720faf",
   "metadata": {},
   "outputs": [],
   "source": [
    "attn_probs = cache[\"pattern\", layer_idx][:, head_idx]"
   ]
  },
  {
   "cell_type": "code",
   "execution_count": null,
   "id": "28127870-3c1d-4e12-a485-f50df5804d57",
   "metadata": {},
   "outputs": [],
   "source": [
    "attn_from_end_to_io = attn_probs[:, -1, io_idxs]\n",
    "attn_from_end_to_s = attn_probs[:, -1, io_idxs]"
   ]
  },
  {
   "cell_type": "code",
   "execution_count": null,
   "id": "3286dc8b-715c-427f-9ad2-41b4c5617691",
   "metadata": {},
   "outputs": [],
   "source": []
  },
  {
   "cell_type": "code",
   "execution_count": null,
   "id": "30921677-2ced-4f3c-8aac-037dafc83824",
   "metadata": {},
   "outputs": [],
   "source": []
  },
  {
   "cell_type": "code",
   "execution_count": 3,
   "id": "a0e88dae-2778-40d7-8b7f-7f0e16e7e66f",
   "metadata": {
    "tags": []
   },
   "outputs": [],
   "source": [
    "d_model, seq_len = 16, 4"
   ]
  },
  {
   "cell_type": "code",
   "execution_count": 19,
   "id": "844ff7fe-704f-4000-8e91-3f4de3bdd91e",
   "metadata": {
    "tags": []
   },
   "outputs": [],
   "source": [
    "import torch"
   ]
  },
  {
   "cell_type": "code",
   "execution_count": 20,
   "id": "b61a9824-aa9f-453a-86af-d6a8513d705c",
   "metadata": {
    "tags": []
   },
   "outputs": [
    {
     "data": {
      "text/plain": [
       "(16, 4)"
      ]
     },
     "execution_count": 20,
     "metadata": {},
     "output_type": "execute_result"
    }
   ],
   "source": [
    "d_model, seq_len"
   ]
  },
  {
   "cell_type": "markdown",
   "id": "1f0a584e-fde7-47b4-a874-153860f7cfe6",
   "metadata": {},
   "source": [
    "Write down $W_V^1$ and $W_{\\text {out }}^1$ for head 1 , such that the head copies dimensions 0-3 of its input to 8-11 in its output + there are four input tokens"
   ]
  },
  {
   "cell_type": "code",
   "execution_count": 21,
   "id": "7e8c4d4b-1de2-4fc3-9b86-bbffea6ba812",
   "metadata": {
    "tags": []
   },
   "outputs": [],
   "source": [
    "W_V = torch.zeros(seq_len, d_model)\n",
    "W_V[torch.arange(4), torch.arange(4)] = 1."
   ]
  },
  {
   "cell_type": "code",
   "execution_count": 22,
   "id": "0ce2533f-cd12-471b-aebe-d6f748509dbd",
   "metadata": {
    "tags": []
   },
   "outputs": [],
   "source": [
    "W_O = torch.zeros(d_model, seq_len)\n",
    "W_O[7:11, :] = 1."
   ]
  },
  {
   "cell_type": "code",
   "execution_count": 23,
   "id": "cc53b8bd-f4c5-40ef-a942-0241264e38fd",
   "metadata": {
    "tags": []
   },
   "outputs": [
    {
     "data": {
      "text/plain": [
       "tensor([[1., 0., 0., 0., 0., 0., 0., 0., 0., 0., 0., 0., 0., 0., 0., 0.],\n",
       "        [0., 1., 0., 0., 0., 0., 0., 0., 0., 0., 0., 0., 0., 0., 0., 0.],\n",
       "        [0., 0., 1., 0., 0., 0., 0., 0., 0., 0., 0., 0., 0., 0., 0., 0.],\n",
       "        [0., 0., 0., 1., 0., 0., 0., 0., 0., 0., 0., 0., 0., 0., 0., 0.]])"
      ]
     },
     "execution_count": 23,
     "metadata": {},
     "output_type": "execute_result"
    }
   ],
   "source": [
    "W_V"
   ]
  },
  {
   "cell_type": "code",
   "execution_count": 24,
   "id": "8ca7cf78-6a92-4a01-8ac6-7908efcdb3a0",
   "metadata": {
    "tags": []
   },
   "outputs": [
    {
     "data": {
      "text/plain": [
       "tensor([[0., 0., 0., 0.],\n",
       "        [0., 0., 0., 0.],\n",
       "        [0., 0., 0., 0.],\n",
       "        [0., 0., 0., 0.],\n",
       "        [0., 0., 0., 0.],\n",
       "        [0., 0., 0., 0.],\n",
       "        [0., 0., 0., 0.],\n",
       "        [1., 1., 1., 1.],\n",
       "        [1., 1., 1., 1.],\n",
       "        [1., 1., 1., 1.],\n",
       "        [1., 1., 1., 1.],\n",
       "        [0., 0., 0., 0.],\n",
       "        [0., 0., 0., 0.],\n",
       "        [0., 0., 0., 0.],\n",
       "        [0., 0., 0., 0.],\n",
       "        [0., 0., 0., 0.]])"
      ]
     },
     "execution_count": 24,
     "metadata": {},
     "output_type": "execute_result"
    }
   ],
   "source": [
    "W_O"
   ]
  },
  {
   "cell_type": "code",
   "execution_count": 25,
   "id": "959c9357-88ab-434f-b6a3-b6da35bab703",
   "metadata": {
    "tags": []
   },
   "outputs": [
    {
     "data": {
      "text/plain": [
       "(torch.Size([4, 16]), torch.Size([16, 4]))"
      ]
     },
     "execution_count": 25,
     "metadata": {},
     "output_type": "execute_result"
    }
   ],
   "source": [
    "W_V.shape, W_O.shape"
   ]
  },
  {
   "cell_type": "code",
   "execution_count": null,
   "id": "7daaec75-4c1e-4099-b1cf-7e6f38c436f3",
   "metadata": {},
   "outputs": [],
   "source": [
    "step 1: record all interdimate activations\n",
    "step 2: analyze attention patterns\n",
    "step 3: spot induction head, \n",
    "step 4: decompose the attn scores of the induction heads\n",
    "step 5: identify which qk pair contribute to the induction charactersitics\n",
    "step 6: trace back\n",
    "step 7: construct circuit"
   ]
  },
  {
   "cell_type": "code",
   "execution_count": null,
   "id": "2c79d568-dd95-420e-8e66-08485f0df661",
   "metadata": {},
   "outputs": [],
   "source": [
    "_, cache = model.run_with_cache(clean_tokens)"
   ]
  },
  {
   "cell_type": "code",
   "execution_count": null,
   "id": "c987bf4a-4d62-446f-882a-3fe0f4df76de",
   "metadata": {},
   "outputs": [],
   "source": [
    "head_output = cache[\"z\", 0][:, 2]\n",
    "output = head_output @ model.W_O[0, 2]"
   ]
  },
  {
   "cell_type": "code",
   "execution_count": null,
   "id": "7efb4ec0-e67c-4559-890c-9d6876414036",
   "metadata": {},
   "outputs": [],
   "source": [
    "tokens = model.to_tokens(text)"
   ]
  },
  {
   "cell_type": "code",
   "execution_count": null,
   "id": "f1daafa4-1cc7-47a1-b45a-ef40161709b1",
   "metadata": {},
   "outputs": [],
   "source": [
    "_, cache = model.run_with_cache(tokens)"
   ]
  },
  {
   "cell_type": "code",
   "execution_count": null,
   "id": "975a3fd7-34fd-42c9-b021-7377d6c6734f",
   "metadata": {},
   "outputs": [],
   "source": [
    "cache[\"attn\", 9][:, :, 9][:, -1, 0]"
   ]
  },
  {
   "cell_type": "code",
   "execution_count": 30,
   "id": "0d9f78a8-b155-492d-b1cf-9bca188df5ac",
   "metadata": {
    "tags": []
   },
   "outputs": [],
   "source": [
    "W_V = torch.zeros(seq_len, d_model)\n",
    "W_V[torch.arange(4), torch.arange(4)] = 1."
   ]
  },
  {
   "cell_type": "code",
   "execution_count": 31,
   "id": "4145b703-95b0-4e6c-a429-012934f10932",
   "metadata": {
    "tags": []
   },
   "outputs": [
    {
     "data": {
      "text/plain": [
       "tensor([[1., 0., 0., 0., 0., 0., 0., 0., 0., 0., 0., 0., 0., 0., 0., 0.],\n",
       "        [0., 1., 0., 0., 0., 0., 0., 0., 0., 0., 0., 0., 0., 0., 0., 0.],\n",
       "        [0., 0., 1., 0., 0., 0., 0., 0., 0., 0., 0., 0., 0., 0., 0., 0.],\n",
       "        [0., 0., 0., 1., 0., 0., 0., 0., 0., 0., 0., 0., 0., 0., 0., 0.]])"
      ]
     },
     "execution_count": 31,
     "metadata": {},
     "output_type": "execute_result"
    }
   ],
   "source": [
    "W_V"
   ]
  },
  {
   "cell_type": "code",
   "execution_count": 34,
   "id": "57ba1f30-7b54-422b-b0ee-35a9ab6826b4",
   "metadata": {
    "tags": []
   },
   "outputs": [],
   "source": [
    "W_O = torch.zeros(d_model, seq_len)\n",
    "W_O[7:11, :] = 1."
   ]
  },
  {
   "cell_type": "code",
   "execution_count": 35,
   "id": "550e1775-e17f-4b06-9032-57f00751acaa",
   "metadata": {
    "tags": []
   },
   "outputs": [
    {
     "data": {
      "text/plain": [
       "tensor([[0., 0., 0., 0.],\n",
       "        [0., 0., 0., 0.],\n",
       "        [0., 0., 0., 0.],\n",
       "        [0., 0., 0., 0.],\n",
       "        [0., 0., 0., 0.],\n",
       "        [0., 0., 0., 0.],\n",
       "        [0., 0., 0., 0.],\n",
       "        [1., 1., 1., 1.],\n",
       "        [1., 1., 1., 1.],\n",
       "        [1., 1., 1., 1.],\n",
       "        [1., 1., 1., 1.],\n",
       "        [0., 0., 0., 0.],\n",
       "        [0., 0., 0., 0.],\n",
       "        [0., 0., 0., 0.],\n",
       "        [0., 0., 0., 0.],\n",
       "        [0., 0., 0., 0.]])"
      ]
     },
     "execution_count": 35,
     "metadata": {},
     "output_type": "execute_result"
    }
   ],
   "source": [
    "W_O"
   ]
  },
  {
   "cell_type": "code",
   "execution_count": null,
   "id": "a82e301c-6d52-48b8-a60d-5e8b539afa5a",
   "metadata": {},
   "outputs": [],
   "source": [
    "n_features = interference.shape[-1]"
   ]
  },
  {
   "cell_type": "code",
   "execution_count": null,
   "id": "2d48a756-d1de-475d-9661-878b6a049a74",
   "metadata": {},
   "outputs": [],
   "source": [
    "interference[torch.arange(n_features), torch.arange(n_features)] = 0."
   ]
  },
  {
   "cell_type": "code",
   "execution_count": null,
   "id": "888b010b-e432-41b6-b473-aea08a473931",
   "metadata": {},
   "outputs": [],
   "source": [
    "interference.pow(2).sum(dim=-1).sqrt()"
   ]
  },
  {
   "cell_type": "code",
   "execution_count": null,
   "id": "b41a1d45-a31b-4b6d-b2ad-df1027e81f4c",
   "metadata": {},
   "outputs": [],
   "source": [
    "W_E = model.W_E\n",
    "W_Q = model.W_Q[1, 4]\n",
    "W_K = model.W_K[1, 4]\n",
    "W_O = model.W_O[0, 7]\n",
    "W_V = model.W_V[0, 7]"
   ]
  },
  {
   "cell_type": "code",
   "execution_count": null,
   "id": "21fbff6f-390b-466f-b887-0e0fa025297b",
   "metadata": {},
   "outputs": [],
   "source": [
    "Q = W_E @ W_Q\n",
    "K = W_E @ W_V @ W_O @ W_K"
   ]
  },
  {
   "cell_type": "code",
   "execution_count": null,
   "id": "b98f1771-4f2d-4145-a7de-b756fb9dcc64",
   "metadata": {},
   "outputs": [],
   "source": [
    "input embedding -> weight > neurons > activations"
   ]
  },
  {
   "cell_type": "code",
   "execution_count": null,
   "id": "1f6fd254-9898-488f-9118-788febc36093",
   "metadata": {},
   "outputs": [],
   "source": [
    "broadcast, gather"
   ]
  },
  {
   "cell_type": "code",
   "execution_count": null,
   "id": "76d6be09-282b-40c1-bd55-c192f926a1f2",
   "metadata": {},
   "outputs": [],
   "source": [
    "step 1: scale the loss using a scaling factor\n",
    "step 2: calculate the gradients of the scaled loss\n",
    "step 3: unscale the gradients\n",
    "step 4: update "
   ]
  },
  {
   "cell_type": "code",
   "execution_count": null,
   "id": "d881568a-d130-4fb8-a5cb-ea422c59ced4",
   "metadata": {},
   "outputs": [],
   "source": []
  },
  {
   "cell_type": "code",
   "execution_count": null,
   "id": "8f213aa0-fbad-43c1-afa0-c9d442f33624",
   "metadata": {},
   "outputs": [],
   "source": [
    "embedding, linear, attn, layer norm"
   ]
  },
  {
   "cell_type": "code",
   "execution_count": null,
   "id": "0351fe55-4b9a-43d0-b8d7-f16b0c3990a9",
   "metadata": {},
   "outputs": [],
   "source": [
    "def compute_total_memory(model):\n",
    "    total_memory = 0\n",
    "    \n",
    "    for p in model.parameters():\n",
    "        total_memory += p.numel() * p.element_size()"
   ]
  },
  {
   "cell_type": "code",
   "execution_count": 40,
   "id": "2df86ace-a919-4b1a-8a3c-7ab97a7119bd",
   "metadata": {
    "tags": []
   },
   "outputs": [],
   "source": [
    "import torch\n",
    "from torch import nn\n",
    "import torch.nn.functional as F\n",
    "import torch.distributed as dist"
   ]
  },
  {
   "cell_type": "code",
   "execution_count": 44,
   "id": "465e684b-43c0-4f60-b3be-62c72ebff0c2",
   "metadata": {
    "tags": []
   },
   "outputs": [],
   "source": [
    "class Broadcast(torch.autograd.Function):\n",
    "    @staticmethod\n",
    "    def forward(ctx, input):\n",
    "        return input\n",
    "    \n",
    "    @staticmethod\n",
    "    def backward(ctx, grad_input):\n",
    "        dist.all_reduce(grad_input)\n",
    "        return grad_input"
   ]
  },
  {
   "cell_type": "code",
   "execution_count": 43,
   "id": "ed3443ea-9baf-4c7d-9d6b-4368bce6f45e",
   "metadata": {
    "tags": []
   },
   "outputs": [],
   "source": [
    "class Gather(torch.autograd.Function):\n",
    "    @staticmethod\n",
    "    def forward(ctx, input):\n",
    "        world_size = dist.get_world_size()\n",
    "        inputs = [torch.zeros_like(input) for _ in range(world_size)]\n",
    "        dist.all_gather(inputs, input)\n",
    "        inputs = torch.cat(inputs)\n",
    "        return inputs\n",
    "    \n",
    "    @staticmethod\n",
    "    def backward(ctx, grad_input):\n",
    "        world_size = dist.get_world_size()\n",
    "        rank = dist.get_rank()\n",
    "        out_per_partition = grad_input.shape[-1] // world_size\n",
    "        chunks = torch.split(grad_input, split_size_or_sections=out_per_partition)\n",
    "        return chunks[rank]"
   ]
  },
  {
   "cell_type": "code",
   "execution_count": 41,
   "id": "6fd268a1-939d-49aa-846e-6d03d1879a84",
   "metadata": {
    "tags": []
   },
   "outputs": [],
   "source": [
    "class ColumnParallelLinear(nn.Module):\n",
    "    def __init__(self, input_size, output_size):\n",
    "        super().__init__()\n",
    "        world_size = dist.get_world_size()\n",
    "        \n",
    "        out_per_partition = output_size // world_size\n",
    "        self.weight = nn.Parameter(torch.randn(\n",
    "            out_per_partition,\n",
    "            input_size\n",
    "        ))\n",
    "        self.bias = nn.Parameter(torch.randn(\n",
    "            out_per_partition\n",
    "        ))\n",
    "    \n",
    "    def forward(self, input):\n",
    "        input_parallel = Broadcast.apply(input)\n",
    "        output_parallel = F.linear(input, self.weight, self.bias)\n",
    "        outputs = Gather.apply(output_parallel)\n",
    "        return outputs"
   ]
  },
  {
   "cell_type": "code",
   "execution_count": 45,
   "id": "a6297b8d-c2d3-410c-a1db-47fd80c8da73",
   "metadata": {
    "tags": []
   },
   "outputs": [],
   "source": [
    "class ParallelMLP(nn.Module):\n",
    "    def __init__(self, input_size, output_size):\n",
    "        super().__init__()\n",
    "        \n",
    "        hidden_size = output_size * 4\n",
    "        self.dense_h_to_4h = ColumnParallelLinear(\n",
    "            input_size=input_size,\n",
    "            output_size=hidden_size\n",
    "        )\n",
    "        \n",
    "        self.dense_4h_to_h = RowParallelLinear(\n",
    "            input_size=hidden_size,\n",
    "            output_size=output_size\n",
    "        )\n",
    "    \n",
    "    def forward(self, x):\n",
    "        out = self.dense_h_to_4h(x)\n",
    "        return self.dense_4h_to_h(F.gelu(x))"
   ]
  },
  {
   "cell_type": "code",
   "execution_count": null,
   "id": "75319dec-1899-4b67-b502-dab806944955",
   "metadata": {},
   "outputs": [],
   "source": [
    "F.layer_norm(input, normalized_shape=(5, ), weight=weight)"
   ]
  },
  {
   "cell_type": "code",
   "execution_count": null,
   "id": "bf95d8b3-7da4-4fc6-b130-8a15289c0a86",
   "metadata": {},
   "outputs": [],
   "source": [
    "step 1: normalize: grad / (current_epoch/n_epoch)\n",
    "step 2: sum\n",
    "step 3: "
   ]
  },
  {
   "cell_type": "code",
   "execution_count": null,
   "id": "31e2dcef-aa59-460b-96b5-1001f6d06063",
   "metadata": {},
   "outputs": [],
   "source": [
    "step 1: init global dist group\n",
    "step 2: initalize parallel groups\n",
    "step 3: local rank\n",
    "step 4: save"
   ]
  },
  {
   "cell_type": "code",
   "execution_count": null,
   "id": "c4fca429-debd-44be-8c9c-d45c394604b5",
   "metadata": {},
   "outputs": [],
   "source": [
    "blank-(theirs+mine)/2"
   ]
  },
  {
   "cell_type": "code",
   "execution_count": null,
   "id": "29e46935-c16e-4e54-9cf1-08996b551df5",
   "metadata": {},
   "outputs": [],
   "source": [
    "W_E@W_OV(0, 7)@W_K @ W_E @ W_Q"
   ]
  },
  {
   "cell_type": "code",
   "execution_count": null,
   "id": "d3dd8003-39c4-4aab-bd99-66cf2d7f9e6e",
   "metadata": {},
   "outputs": [],
   "source": [
    "q = x @ W_Q\n",
    "x = embed + pos_embed + sum(12 heads)\n",
    "\n",
    "\n"
   ]
  },
  {
   "cell_type": "code",
   "execution_count": null,
   "id": "82fc8ed7-d80e-40e5-a5d2-4f4ac970e75b",
   "metadata": {},
   "outputs": [],
   "source": [
    "scatter > all-reduce > identity -> all-gather"
   ]
  },
  {
   "cell_type": "code",
   "execution_count": null,
   "id": "44408f64-5057-4ea9-91ca-d6d34edb9d2c",
   "metadata": {},
   "outputs": [],
   "source": [
    "broadcast > gather > scatter > ao"
   ]
  },
  {
   "cell_type": "code",
   "execution_count": null,
   "id": "b3d53531-d45f-4f6c-ae70-b0cf9f61bcc1",
   "metadata": {},
   "outputs": [],
   "source": [
    "scatter > reduce > identity -> all-gather"
   ]
  },
  {
   "cell_type": "code",
   "execution_count": null,
   "id": "e05b0d0d-ee55-4395-8d63-ea9484a0c040",
   "metadata": {},
   "outputs": [],
   "source": [
    "fric, normal, air, applied, gra"
   ]
  },
  {
   "cell_type": "code",
   "execution_count": 46,
   "id": "144e642d-266d-4ca3-92a5-52711b0ff867",
   "metadata": {
    "tags": []
   },
   "outputs": [],
   "source": [
    "def probability_scores(image_embedding, text_embedding):\n",
    "    image_norm = image_embedding.norm(dim=-1, keepdim=True)\n",
    "    image_embedding = image_embedding / image_norm\n",
    "    \n",
    "    text_norm = text_embedding.norm(dim=-1, keepdim=True)\n",
    "    text_embedding = text_embedding / text_norm\n",
    "    \n",
    "    similarities = image_embedding @ text_embedding.T\n",
    "    probs = F.softmax(similarities, dim=-1)\n",
    "    return probs"
   ]
  },
  {
   "cell_type": "code",
   "execution_count": null,
   "id": "55084a93-798d-4a25-b53f-0ea8aa508be2",
   "metadata": {},
   "outputs": [],
   "source": [
    "name, id, workerinfo"
   ]
  },
  {
   "cell_type": "code",
   "execution_count": null,
   "id": "f34560ee-d445-4772-ac05-b9b3029dd09c",
   "metadata": {},
   "outputs": [],
   "source": [
    "def calculate_return(rewards, discount_factor):\n",
    "    total_return = 0\n",
    "    \n",
    "    for k, reward in enumerate(rewards):\n",
    "        total_return += reward * (discount_factor*k)"
   ]
  },
  {
   "cell_type": "code",
   "execution_count": 69,
   "id": "7d38a024-874f-40c9-8583-f78c85495f98",
   "metadata": {},
   "outputs": [],
   "source": [
    "world_size = 4"
   ]
  },
  {
   "cell_type": "code",
   "execution_count": 70,
   "id": "46ea3bbf-949b-41f4-9cee-e81c34df13c4",
   "metadata": {
    "tags": []
   },
   "outputs": [
    {
     "data": {
      "text/plain": [
       "3"
      ]
     },
     "execution_count": 70,
     "metadata": {},
     "output_type": "execute_result"
    }
   ],
   "source": [
    "(0-1)%world_size"
   ]
  },
  {
   "cell_type": "code",
   "execution_count": 59,
   "id": "33a2c62c-8ddc-4d7d-bf5a-2957e8da70a0",
   "metadata": {
    "tags": []
   },
   "outputs": [
    {
     "data": {
      "text/plain": [
       "0"
      ]
     },
     "execution_count": 59,
     "metadata": {},
     "output_type": "execute_result"
    }
   ],
   "source": [
    "0+1%1"
   ]
  },
  {
   "cell_type": "code",
   "execution_count": null,
   "id": "1d89a5d8-21f8-43da-be8a-dbf460919c17",
   "metadata": {},
   "outputs": [],
   "source": []
  }
 ],
 "metadata": {
  "kernelspec": {
   "display_name": "Python 3 (ipykernel)",
   "language": "python",
   "name": "python3"
  },
  "language_info": {
   "codemirror_mode": {
    "name": "ipython",
    "version": 3
   },
   "file_extension": ".py",
   "mimetype": "text/x-python",
   "name": "python",
   "nbconvert_exporter": "python",
   "pygments_lexer": "ipython3",
   "version": "3.8.16"
  }
 },
 "nbformat": 4,
 "nbformat_minor": 5
}
