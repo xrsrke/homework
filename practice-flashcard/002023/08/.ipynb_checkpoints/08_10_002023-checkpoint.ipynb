{
 "cells": [
  {
   "cell_type": "markdown",
   "id": "d9a46e8a-13c0-4a5e-9f80-3e97a56cfa0b",
   "metadata": {},
   "source": [
    "### Engineering"
   ]
  },
  {
   "cell_type": "code",
   "execution_count": 1,
   "id": "7ea2b5a4-fcc6-4355-add4-30f7a17cfdb8",
   "metadata": {
    "tags": []
   },
   "outputs": [],
   "source": [
    "import torch\n",
    "from torch import nn\n",
    "import torch.nn.functional as F"
   ]
  },
  {
   "cell_type": "code",
   "execution_count": null,
   "id": "fbf3bc98-84d8-42a3-a83d-162a08447456",
   "metadata": {},
   "outputs": [],
   "source": [
    "_, cache = model.run_with_cache(tokens)"
   ]
  },
  {
   "cell_type": "code",
   "execution_count": null,
   "id": "72b7b323-b519-4adc-8538-599a8c0c7ee6",
   "metadata": {},
   "outputs": [],
   "source": [
    "resid = cache[final_residual_name]\n",
    "final_resid = resid[:, -1, :]\n",
    "scaled_final_resid = model.apply_ln_to_stack(\n",
    "    final_resid,\n",
    "    layer=-1,\n",
    "    pos_slice=-1\n",
    ")"
   ]
  },
  {
   "cell_type": "code",
   "execution_count": null,
   "id": "cfb7c2c5-424e-40bf-9c8c-785600a23507",
   "metadata": {},
   "outputs": [],
   "source": [
    "logit_difference = scaled_final_resid[:, correct_token] - scaled_final_resid[:, incorrect_token]"
   ]
  },
  {
   "cell_type": "code",
   "execution_count": null,
   "id": "2cdf3727-9b2c-48f3-9360-a9bc04b0e266",
   "metadata": {},
   "outputs": [],
   "source": [
    "layer_idx, neuronidx = 5, 1393"
   ]
  },
  {
   "cell_type": "code",
   "execution_count": null,
   "id": "1537cb83-0bb0-4af3-a3ff-8d7941608dbf",
   "metadata": {},
   "outputs": [],
   "source": [
    "_, cache = model.run_with_cache(board_history)"
   ]
  },
  {
   "cell_type": "code",
   "execution_count": null,
   "id": "64dd53a7-0a71-4da6-add2-fec434dd1464",
   "metadata": {},
   "outputs": [],
   "source": [
    "mlp_acts = cache[hook_name]\n",
    "neuron_acts = mlp_acts[:, neuron_idx]"
   ]
  },
  {
   "cell_type": "code",
   "execution_count": null,
   "id": "a1442a5b-d31e-4dbd-adeb-1529275dda61",
   "metadata": {},
   "outputs": [],
   "source": [
    "move_idxs = neuron_acts > neuron_acts.quantile(0.99)"
   ]
  },
  {
   "cell_type": "code",
   "execution_count": null,
   "id": "852176bb-48e2-49ba-b282-ec259333439c",
   "metadata": {},
   "outputs": [],
   "source": [
    "(board_states == 2)[:, :-1][move_idxs]"
   ]
  },
  {
   "cell_type": "code",
   "execution_count": null,
   "id": "cbc1128c-e557-4d5f-a9f4-0c1212c06582",
   "metadata": {},
   "outputs": [],
   "source": [
    "GPU > CPU > PCI-E"
   ]
  },
  {
   "cell_type": "code",
   "execution_count": 2,
   "id": "e9a75180-f129-4700-a142-1c7631f334a8",
   "metadata": {
    "tags": []
   },
   "outputs": [],
   "source": [
    "def print_shape(act, hook):\n",
    "    print(act.shape)"
   ]
  },
  {
   "cell_type": "code",
   "execution_count": null,
   "id": "70a34811-2a33-4c67-ae4f-69d5812a082c",
   "metadata": {},
   "outputs": [],
   "source": [
    "model.run_with_cache(tokens, fwd_hooks=[(hook_name, print_shapeb)])"
   ]
  },
  {
   "cell_type": "code",
   "execution_count": null,
   "id": "f2cceae1-95e9-4c5e-a273-d82259ed4961",
   "metadata": {},
   "outputs": [],
   "source": [
    "n_layers = 3"
   ]
  },
  {
   "cell_type": "code",
   "execution_count": null,
   "id": "8e76b878-08c7-4b82-8805-995f1d31633e",
   "metadata": {},
   "outputs": [],
   "source": [
    "_, cache = model.run_with_cache(tokens)"
   ]
  },
  {
   "cell_type": "code",
   "execution_count": null,
   "id": "c7e4e583-b7bb-430a-b233-ea44698cd5b2",
   "metadata": {},
   "outputs": [],
   "source": [
    "head_names = [get_act_name(\"result\", layer_idx) for layer_idx in range(n_layers)]\n",
    "mlp_names = [get_act_name(\"mlp_out\", layer_idx) for layer_idx in range(n_layers)]"
   ]
  },
  {
   "cell_type": "code",
   "execution_count": 3,
   "id": "71293b8b-1f61-4b85-afc5-d4706c77146a",
   "metadata": {
    "tags": []
   },
   "outputs": [],
   "source": [
    "input_components = torch.tensor([\n",
    "    cache[\"embed\"] + cache[\"pos_embed\"]\n",
    "])"
   ]
  },
  {
   "cell_type": "code",
   "execution_count": null,
   "id": "99c1ac8b-5e3e-4ab3-97fb-64049b2c3084",
   "metadata": {
    "tags": []
   },
   "outputs": [],
   "source": [
    "for head_name, mlp_name in zip(head_names, mlp_names):\n",
    "    input_components = torch.cat([\n",
    "        input_components,\n",
    "        cache[head_name],cache[mlp_name]\n",
    "    ], dim=0)"
   ]
  },
  {
   "cell_type": "code",
   "execution_count": null,
   "id": "3404e401-93fc-4051-a3ee-e9179eb477a7",
   "metadata": {},
   "outputs": [],
   "source": [
    "pre_ln = final_ln_coeffs.T @ cache[\"ln_final\"]"
   ]
  },
  {
   "cell_type": "code",
   "execution_count": null,
   "id": "15645082-4038-4842-803a-74d47aafe02e",
   "metadata": {},
   "outputs": [],
   "source": [
    "W_U = model.W_U"
   ]
  },
  {
   "cell_type": "code",
   "execution_count": null,
   "id": "236ad713-f3f6-42b7-bdef-fb6fe4c7ebea",
   "metadata": {},
   "outputs": [],
   "source": [
    "pre_ln_dir = pre_ln @ (W_U[0] - W_U[1])"
   ]
  },
  {
   "cell_type": "code",
   "execution_count": null,
   "id": "4388493c-a9c5-49da-97dc-532a990887b8",
   "metadata": {},
   "outputs": [],
   "source": [
    "step 1: prob[0] = sigmoid(logi0 - logit1)\n",
    "step 2: logit0 = final_ln @ W_U[0], logit1 = final_ln @ W_U[1]\n",
    "step 3: logit0 - logit1 = final_ln @ (W_U[0] - W_U[1])\n",
    "step 4:  "
   ]
  },
  {
   "cell_type": "code",
   "execution_count": null,
   "id": "0f0b1d5e-88c4-48a9-982d-597543698c68",
   "metadata": {},
   "outputs": [],
   "source": [
    "step 1: record the activation of 8 heads\n",
    "step 2: spot induction head in the second layer\n",
    "step 5: "
   ]
  },
  {
   "cell_type": "code",
   "execution_count": null,
   "id": "a5389ae6-5f11-4d0f-8f3d-78a780253476",
   "metadata": {},
   "outputs": [],
   "source": [
    "step 1: diverse data\n",
    "step 2: record the activation of the target neuron\n",
    "step 3: plot scale\n",
    "step 4: b"
   ]
  },
  {
   "cell_type": "code",
   "execution_count": null,
   "id": "107980ad-ea18-4cd4-aabd-e0dae0e5fe0d",
   "metadata": {},
   "outputs": [],
   "source": [
    "_, cache = model.run_with_cache(tokens)"
   ]
  },
  {
   "cell_type": "code",
   "execution_count": null,
   "id": "66897b8f-8aac-44e3-8d86-388c5536ab89",
   "metadata": {},
   "outputs": [],
   "source": [
    "resid = cache[final_residual_name]\n",
    "final_resid = resid[:, -1, :]"
   ]
  },
  {
   "cell_type": "code",
   "execution_count": null,
   "id": "9128b4dd-f471-48b6-a7e9-e34b71baf976",
   "metadata": {},
   "outputs": [],
   "source": [
    "scaled_final_resid = model.apply_ln_to_stack(\n",
    "    final_resid,\n",
    "    layer=-1,\n",
    "    pos_slice=-1\n",
    ")"
   ]
  },
  {
   "cell_type": "code",
   "execution_count": null,
   "id": "c1e90d3c-55c6-4954-9322-854269bd6301",
   "metadata": {},
   "outputs": [],
   "source": [
    "W_U = model.W_U\n",
    "logit_difference_direction = W_U[0] - W_U[1]"
   ]
  },
  {
   "cell_type": "code",
   "execution_count": null,
   "id": "c0b46e06-bc2a-427f-b8da-245e4876c336",
   "metadata": {},
   "outputs": [],
   "source": [
    "logit_difference = scaled_final_resid @ logit_difference_direction"
   ]
  },
  {
   "cell_type": "code",
   "execution_count": null,
   "id": "d034a28b-421d-4472-b1b0-68a507a27c5a",
   "metadata": {},
   "outputs": [],
   "source": [
    "step 1: prob[0] = sigmoid(logit0 - logit1)\n",
    "step 2: logit0 = resid @ W_U[0], logit1 = resid @ W_U[1]\n",
    "step 3: logit0 - logit1 = resid2 @ (W_U[0] - W_U[1])\n",
    "step 4: resid2 = resid1 @ ln @ W_OV^{2, 0}\n",
    "step 5: "
   ]
  },
  {
   "cell_type": "code",
   "execution_count": null,
   "id": "275aead6-b0ff-4ff9-a14e-22800250e01a",
   "metadata": {},
   "outputs": [],
   "source": [
    "target_tokens = tokens[1:]"
   ]
  },
  {
   "cell_type": "code",
   "execution_count": null,
   "id": "2983e7e4-c344-43d9-b68c-cae45592edeb",
   "metadata": {},
   "outputs": [],
   "source": [
    "_, cache = model.run_with_cache(tokens)"
   ]
  },
  {
   "cell_type": "code",
   "execution_count": null,
   "id": "1424566d-2b02-440b-9c67-55f0f488db1b",
   "metadata": {},
   "outputs": [],
   "source": [
    "embed = cache[\"embed\"]"
   ]
  },
  {
   "cell_type": "code",
   "execution_count": 4,
   "id": "19b5a9b1-baf5-430b-838f-14342d567891",
   "metadata": {
    "tags": []
   },
   "outputs": [],
   "source": [
    "from einops import einsum"
   ]
  },
  {
   "cell_type": "code",
   "execution_count": null,
   "id": "9c41490b-fa1f-4dac-8607-81b56b196500",
   "metadata": {},
   "outputs": [],
   "source": [
    "embed_attributions = einsum(\n",
    "    embed[:, -1],\n",
    "    model.W_U[:, target_tokens]\n",
    ")"
   ]
  },
  {
   "cell_type": "code",
   "execution_count": 5,
   "id": "d0edae59-ec4a-4fdb-9272-b5772a598934",
   "metadata": {
    "tags": []
   },
   "outputs": [],
   "source": [
    "import hmac\n",
    "import hashlib"
   ]
  },
  {
   "cell_type": "code",
   "execution_count": 6,
   "id": "5e117be5-4ec5-4517-a69d-69dd6738af68",
   "metadata": {
    "tags": []
   },
   "outputs": [],
   "source": [
    "def compute_digest(key, serialized_message):\n",
    "    return hmac.new(key, msg=serialized_message, digestmod=hashlib.sha256).digest()"
   ]
  },
  {
   "cell_type": "code",
   "execution_count": null,
   "id": "fe44db61-1507-4a38-b5c7-e373233cb6c7",
   "metadata": {},
   "outputs": [],
   "source": [
    " "
   ]
  },
  {
   "cell_type": "code",
   "execution_count": null,
   "id": "25064f97-565e-4d73-9ac2-ee71e3e65285",
   "metadata": {},
   "outputs": [],
   "source": [
    "step 1: wait data\n",
    "step 2: construct a task\n",
    "step 3: put the task into the correspond worker's in_queue\n",
    "step 4: wait and get the output\n",
    "step 5: put the output into the correspond worker's out_queue"
   ]
  },
  {
   "cell_type": "code",
   "execution_count": null,
   "id": "326d7654-9a27-4aa8-bdbe-71727c93579a",
   "metadata": {},
   "outputs": [],
   "source": [
    "step 1: resize embedding\n",
    "step 2: parallel embedding, linear, "
   ]
  },
  {
   "cell_type": "code",
   "execution_count": null,
   "id": "226d3cc1-cef0-4d44-91c0-94d9ba953663",
   "metadata": {},
   "outputs": [],
   "source": [
    "register < cache < ram < disk < "
   ]
  },
  {
   "cell_type": "code",
   "execution_count": 7,
   "id": "d8afeb8f-a255-4620-b86a-508b8f2e9967",
   "metadata": {
    "tags": []
   },
   "outputs": [],
   "source": [
    "tensor_model_parallel_size = 2\n",
    "pipeline_model_parallel_size = 4"
   ]
  },
  {
   "cell_type": "code",
   "execution_count": 8,
   "id": "2fc15f8e-acce-45a7-b3f5-a41860e90b21",
   "metadata": {
    "tags": []
   },
   "outputs": [],
   "source": [
    "world_size = 16"
   ]
  },
  {
   "cell_type": "code",
   "execution_count": 9,
   "id": "a44a95a3-7d20-4407-942b-1b0bfd9b204f",
   "metadata": {
    "tags": []
   },
   "outputs": [],
   "source": [
    "data_parallel_groups = []"
   ]
  },
  {
   "cell_type": "code",
   "execution_count": 10,
   "id": "a7d68e61-bba4-4d9c-b7cb-01878f9fa4d5",
   "metadata": {
    "tags": []
   },
   "outputs": [],
   "source": [
    "num_pipeline_model_parallel_groups = 4"
   ]
  },
  {
   "cell_type": "code",
   "execution_count": 12,
   "id": "150835fa-b8da-4c92-87f0-1fa0cb5b5f84",
   "metadata": {
    "tags": []
   },
   "outputs": [
    {
     "name": "stdout",
     "output_type": "stream",
     "text": [
      "[0, 2]\n",
      "[1, 3]\n",
      "[4, 6]\n",
      "[5, 7]\n",
      "[8, 10]\n",
      "[9, 11]\n",
      "[12, 14]\n",
      "[13, 15]\n"
     ]
    }
   ],
   "source": [
    "for i in range(pipeline_model_parallel_size):\n",
    "    start_rank = i*num_pipeline_model_parallel_groups\n",
    "    end_rank = (i+1)*num_pipeline_model_parallel_groups\n",
    "    \n",
    "    for j in range(tensor_model_parallel_size):\n",
    "        ranks = list(range(\n",
    "            start_rank+j,\n",
    "            end_rank,\n",
    "            tensor_model_parallel_size\n",
    "        ))\n",
    "        \n",
    "        print(ranks)"
   ]
  },
  {
   "cell_type": "code",
   "execution_count": null,
   "id": "fdba1d15-b0c9-4ab0-aa9d-1079acc8c622",
   "metadata": {},
   "outputs": [],
   "source": [
    "step 1: U.shape = [5, 3], x @ U = y\n",
    "step 2: V.shape[3, 5], y @ V = z\n",
    "step 3: x @ U @ V = z"
   ]
  },
  {
   "cell_type": "code",
   "execution_count": null,
   "id": "b39110e7-ab7f-43dd-b54c-ea0885f86e88",
   "metadata": {},
   "outputs": [],
   "source": [
    "ReLU(x @ W_in[:, i]) @ W_out[i, :]"
   ]
  },
  {
   "cell_type": "code",
   "execution_count": null,
   "id": "9e5c314b-c95c-416e-b8a4-066e925b2a22",
   "metadata": {},
   "outputs": [],
   "source": []
  },
  {
   "cell_type": "code",
   "execution_count": null,
   "id": "406bc36d-8c6a-438c-9ef6-b5b86f2699d7",
   "metadata": {},
   "outputs": [],
   "source": [
    "logit[0] = sigmoid(logit0 - logit1)"
   ]
  },
  {
   "cell_type": "code",
   "execution_count": null,
   "id": "183b8813-3933-4e07-997d-0ca0c1997107",
   "metadata": {},
   "outputs": [],
   "source": [
    "step 1: determine the global rank\n",
    "step 2: resize embedding\n",
    "step 3: parallelize embedding, linear, attention, layer norm\n",
    "step 4: resize lm_head"
   ]
  },
  {
   "cell_type": "code",
   "execution_count": null,
   "id": "83c845aa-9b76-4cf9-9554-c72a23538f83",
   "metadata": {},
   "outputs": [],
   "source": [
    "step 1: set epoch, number of processed data\n",
    "step 2: extract the unprocessed data\n",
    "step 3: number of workers\n",
    "step 4: partitioning"
   ]
  },
  {
   "cell_type": "code",
   "execution_count": null,
   "id": "93e2b89a-5681-4975-b1a2-73b994731658",
   "metadata": {},
   "outputs": [],
   "source": [
    "lazy loading\n",
    "data prefetching\n",
    "memory mapping"
   ]
  },
  {
   "cell_type": "code",
   "execution_count": null,
   "id": "9d31d382-3825-4631-92c6-6b1e0d17b1dc",
   "metadata": {},
   "outputs": [],
   "source": [
    "&x"
   ]
  },
  {
   "cell_type": "code",
   "execution_count": null,
   "id": "77d7862b-cf06-4382-aa51-ae08087b5ff1",
   "metadata": {},
   "outputs": [],
   "source": [
    "weak and strong nuclear force, electromagnetic, gravity"
   ]
  },
  {
   "cell_type": "code",
   "execution_count": 13,
   "id": "2f717dd9-d0fd-489d-99cf-97827532a105",
   "metadata": {
    "tags": []
   },
   "outputs": [],
   "source": [
    "layer_idx, head_idx = 5, 1393"
   ]
  },
  {
   "cell_type": "code",
   "execution_count": 14,
   "id": "77d684bf-e59e-40bc-9c34-437eeb7f32b8",
   "metadata": {
    "tags": []
   },
   "outputs": [],
   "source": [
    "hook_name = f\"blocks.{layer_idx}.mlp.hook_post\""
   ]
  },
  {
   "cell_type": "code",
   "execution_count": 15,
   "id": "5f0405a5-ecf5-40b6-94eb-b050e30ebffb",
   "metadata": {
    "tags": []
   },
   "outputs": [
    {
     "data": {
      "text/plain": [
       "'blocks.5.mlp.hook_post'"
      ]
     },
     "execution_count": 15,
     "metadata": {},
     "output_type": "execute_result"
    }
   ],
   "source": [
    "hook_name"
   ]
  },
  {
   "cell_type": "code",
   "execution_count": null,
   "id": "ffb65f89-8d0b-4708-a449-bc1fbf54ca04",
   "metadata": {},
   "outputs": [],
   "source": [
    "_, cache = model.run_with_cache(board_history)"
   ]
  },
  {
   "cell_type": "code",
   "execution_count": null,
   "id": "e0dd8517-8f0d-4c94-9281-b09898cd24d8",
   "metadata": {},
   "outputs": [],
   "source": [
    "mlp_activations = cache[hook_name]"
   ]
  },
  {
   "cell_type": "code",
   "execution_count": null,
   "id": "601c7100-b3ec-416e-9dd7-8df2496acff8",
   "metadata": {},
   "outputs": [],
   "source": [
    "neuron_activations = mlp_activations[:, neuron_idx]"
   ]
  },
  {
   "cell_type": "code",
   "execution_count": null,
   "id": "1eaaa6b4-3eb4-4a8f-9ed2-19e50654caaa",
   "metadata": {},
   "outputs": [],
   "source": [
    "_, cache = model.run_with_cache(board_history)"
   ]
  },
  {
   "cell_type": "code",
   "execution_count": null,
   "id": "c2ccfa79-d6fc-40e1-bc08-edb9d5ef10b7",
   "metadata": {},
   "outputs": [],
   "source": [
    "mlp_activations = cache[hook_name]"
   ]
  },
  {
   "cell_type": "code",
   "execution_count": 16,
   "id": "4efa108b-67cf-4cac-92c5-0cac0cb43e09",
   "metadata": {
    "tags": []
   },
   "outputs": [],
   "source": [
    "layer_idx, neuron_idx = 5, 1393"
   ]
  },
  {
   "cell_type": "code",
   "execution_count": null,
   "id": "f9fe85a1-d67c-4f42-8406-4607178ca2f8",
   "metadata": {},
   "outputs": [],
   "source": [
    "neuron_activations = mlp_activations[:, neuron_idx]"
   ]
  },
  {
   "cell_type": "code",
   "execution_count": null,
   "id": "4c0b590a-16d8-4131-b86f-38fbd4366da8",
   "metadata": {},
   "outputs": [],
   "source": [
    "move_idxs = neuron_activations > neuron_activations.quantile(0.99)"
   ]
  },
  {
   "cell_type": "code",
   "execution_count": null,
   "id": "617d27cb-f876-48b9-8f07-a3bdbc65ea96",
   "metadata": {},
   "outputs": [],
   "source": [
    "(board_states == 2)[move_idxs].float().mean(dim=0)"
   ]
  },
  {
   "cell_type": "code",
   "execution_count": 17,
   "id": "846511b1-e926-4f2a-8f49-5d541907d44d",
   "metadata": {
    "tags": []
   },
   "outputs": [],
   "source": [
    "layer_idx = 4"
   ]
  },
  {
   "cell_type": "code",
   "execution_count": null,
   "id": "bb1ba4f5-3446-4da5-8e26-7e1453bbaf59",
   "metadata": {},
   "outputs": [],
   "source": [
    "_, cache = model.run_with_cache(past_moves)"
   ]
  },
  {
   "cell_type": "code",
   "execution_count": null,
   "id": "4ad7b9fb-4481-4b18-94a4-bb51fb1d5efc",
   "metadata": {},
   "outputs": [],
   "source": [
    "top_neurons = cache[hook_name].std(dim=[0, 1]).argsort(descending=True)[:10]"
   ]
  },
  {
   "cell_type": "code",
   "execution_count": null,
   "id": "ea6e6d27-066b-4eee-b66e-21fcf3b313aa",
   "metadata": {},
   "outputs": [],
   "source": [
    "def calculate_consine_similarity(neuron_idx, feature):\n",
    "    W_out = model.W_out\n",
    "    weight = W_out[layer_idx, neuron_idx, :]\n",
    "    weight /= weight.norm(dim=-1)\n",
    "    feature /= feature.norm(dim=-1)\n",
    "    return einsum(\n",
    "        weight,\n",
    "        feature\n",
    "    )"
   ]
  },
  {
   "cell_type": "code",
   "execution_count": 18,
   "id": "fd74f71b-9a10-4318-b08c-cddb879ffbcd",
   "metadata": {
    "tags": []
   },
   "outputs": [],
   "source": [
    "heatmap_blank = []"
   ]
  },
  {
   "cell_type": "code",
   "execution_count": null,
   "id": "a41daf0e-23aa-4446-ab4b-7b06c655b833",
   "metadata": {},
   "outputs": [],
   "source": [
    "for neuron_idx in top_neurons:\n",
    "    heatmap_blank.append(calculate_consine_similarity(\n",
    "        neuron_idx,\n",
    "        blank_dir\n",
    "    ))"
   ]
  },
  {
   "cell_type": "code",
   "execution_count": null,
   "id": "5cbfddd3-5c71-4975-9bf1-4df7b4c165bc",
   "metadata": {},
   "outputs": [],
   "source": [
    "interference = einsum(\n",
    "    W, W,\n",
    "    \"bs n_feature1 dim, bs n_feature2 dim -> bs n_feature1 n_feature2\"\n",
    ")"
   ]
  },
  {
   "cell_type": "code",
   "execution_count": null,
   "id": "29cf08b2-c658-4750-a582-56a15a31c804",
   "metadata": {},
   "outputs": [],
   "source": [
    "clean_tokens = model.to_tokens(clean_prompt)\n",
    "corrupted_tokens = model.to_tokens(corrupted_prompt)\n",
    "\n",
    "correct_token = model.to_single_token(\" John\")\n",
    "incorrect_token = model.to_single_token(\" Mary\")"
   ]
  },
  {
   "cell_type": "code",
   "execution_count": null,
   "id": "83111aab-a1fc-40d7-8bb3-ae96faf11959",
   "metadata": {},
   "outputs": [],
   "source": [
    "clean_activations = model.run_with_cache(clean_tokens)\n",
    "corrupted_activations = model.run_with_cache(corrupted_prompt)"
   ]
  },
  {
   "cell_type": "code",
   "execution_count": 19,
   "id": "0c61d80b-0788-4b7b-955a-29ad94d8af84",
   "metadata": {
    "tags": []
   },
   "outputs": [],
   "source": [
    "def patch_resid(resid, hook, clean_activations, position_idx):\n",
    "    final_resid = resid[:, -1, :]\n",
    "    final_resid[:, position] = clean_activations[hook.name][:, -1, position]\n",
    "    return final_resid"
   ]
  },
  {
   "cell_type": "code",
   "execution_count": null,
   "id": "56ec0435-2c4a-40cc-ac7c-3069587cfd07",
   "metadata": {},
   "outputs": [],
   "source": [
    "seq_len = clean_tokens.shape[-1]"
   ]
  },
  {
   "cell_type": "code",
   "execution_count": null,
   "id": "ff36d16d-170e-40ab-b3ee-2549cb174e69",
   "metadata": {},
   "outputs": [],
   "source": [
    "def compute_logit_difference(logits, correct_token, incorrect_token):\n",
    "    final_logits = logits[:, -1, :]\n",
    "    return final_logits[:, correct_token] - final_logits[:, incorrect_token]"
   ]
  },
  {
   "cell_type": "code",
   "execution_count": 20,
   "id": "2b726ef8-1a03-4b2c-8923-330c80babe65",
   "metadata": {
    "tags": []
   },
   "outputs": [],
   "source": [
    "patched_residual_stream_diff = [[] for _ in range(n_layers)]"
   ]
  },
  {
   "cell_type": "code",
   "execution_count": 21,
   "id": "6f2951ea-c6a6-43f6-82e6-7c0f83e7464f",
   "metadata": {
    "tags": []
   },
   "outputs": [],
   "source": [
    "from functools import partial"
   ]
  },
  {
   "cell_type": "code",
   "execution_count": 22,
   "id": "554b66ad-3c08-49dd-873a-d29255e922d4",
   "metadata": {
    "tags": []
   },
   "outputs": [],
   "source": [
    "from transformer_lens.utils import get_act_name"
   ]
  },
  {
   "cell_type": "code",
   "execution_count": null,
   "id": "9d82b557-7a95-4705-a827-e5eb69957705",
   "metadata": {},
   "outputs": [],
   "source": [
    "for layer_idx in range(n_layers):\n",
    "    hook_name = get_act_name(\"resid_pre\", layer_idx)\n",
    "    for position_idx in range(seq_len):\n",
    "        hook_func = partial(\n",
    "            patch_resid,\n",
    "            position_idx=position_idx,\n",
    "            clean_activations=clean_activations\n",
    "        )\n",
    "        patched_logits = model.run_with_hooks(\n",
    "            corrupted_activations,\n",
    "            fwd_hooks=[(hook_name, hook_func)]\n",
    "        )\n",
    "        logit_diff = compute_logit_difference(logits, correct_token, incorrect_token)\n",
    "        patched_residual_stream_diff[layer_idx].append(logit_diff)"
   ]
  },
  {
   "cell_type": "code",
   "execution_count": null,
   "id": "3fa35d82-21df-49cf-92b2-ebb475ea1081",
   "metadata": {},
   "outputs": [],
   "source": [
    "step 1: prob[0] = sigmoid(logit0 - logit1)\n",
    "step 2: logit0 = final_resid @ W_U[0], logit1 = final_resid @ W_U[1]\n",
    "step 3: logit0 - logit1 = final_resid @ (W_U[0] - W_U[1])\n",
    "step 4: final_resid = resid1 @ ln1 @ W_OV^{2, 0}\n",
    "step 5: resid1 @ ln1 @ W_OV^{2, 0} @ (W_U[0] - W_U[1])"
   ]
  },
  {
   "cell_type": "code",
   "execution_count": null,
   "id": "24c777e6-e4d4-4b5c-98cc-f69deb1b3f2e",
   "metadata": {},
   "outputs": [],
   "source": [
    "W_U = model.W_U"
   ]
  },
  {
   "cell_type": "code",
   "execution_count": null,
   "id": "748f9f1e-e132-4527-85bd-3e6b5dbe46bd",
   "metadata": {},
   "outputs": [],
   "source": [
    "target_tokens = tokens[1:]"
   ]
  },
  {
   "cell_type": "code",
   "execution_count": null,
   "id": "b95137ea-7c01-4626-9e38-eda2560a65b2",
   "metadata": {},
   "outputs": [],
   "source": [
    "_, cache = model.run_with_cache(tokens)"
   ]
  },
  {
   "cell_type": "code",
   "execution_count": null,
   "id": "ea0c3aed-cb61-4c5f-825c-301f82972143",
   "metadata": {},
   "outputs": [],
   "source": [
    "embed_attributions = einsum(\n",
    "    W_U[target_tokens], cache[hook_name][:-1]\n",
    ")"
   ]
  },
  {
   "cell_type": "code",
   "execution_count": null,
   "id": "15ca1132-3188-42fb-9ce8-5b5f95ea998c",
   "metadata": {},
   "outputs": [],
   "source": [
    "duplication head, s-inhibition head, name mover head"
   ]
  },
  {
   "cell_type": "code",
   "execution_count": null,
   "id": "07ca5620-889a-45c7-b451-5931efda7af8",
   "metadata": {},
   "outputs": [],
   "source": [
    "mine = linear_probe[..., 2]\n",
    "theirs = linear_probe[..., 1]"
   ]
  },
  {
   "cell_type": "code",
   "execution_count": null,
   "id": "c7105608-1401-4a88-ac58-e70d690190f5",
   "metadata": {},
   "outputs": [],
   "source": [
    "mine_vs_theirs = mine - theirs"
   ]
  },
  {
   "cell_type": "code",
   "execution_count": null,
   "id": "db89c779-9b9c-4a7e-8997-35d8bd39951e",
   "metadata": {},
   "outputs": [],
   "source": [
    "_, cache = model.run_with_cache(board_history)"
   ]
  },
  {
   "cell_type": "code",
   "execution_count": 23,
   "id": "bd466f4c-c328-444f-a672-2a828ab09c1f",
   "metadata": {
    "tags": []
   },
   "outputs": [],
   "source": [
    "attn_contributions = []"
   ]
  },
  {
   "cell_type": "code",
   "execution_count": null,
   "id": "cfc111fa-a6df-4e3d-a477-bf8eca2e11de",
   "metadata": {},
   "outputs": [],
   "source": [
    "for layer_idx in range(7):\n",
    "    hook_name = get_act_name(\"attn_out\", layer_idx)\n",
    "    attn_out = cache[hook_name]\n",
    "    attn_contributions.append(einsum(\n",
    "        attn_out,\n",
    "        mine_vs_theirs\n",
    "    ))"
   ]
  },
  {
   "cell_type": "markdown",
   "id": "1562a4f3-4b18-4083-94e3-a008597e9df3",
   "metadata": {},
   "source": [
    "step 1: record all the interdimate activations\n",
    "step 2: analyze the attention pattern of 8 heads\n",
    "step 3: spot induction heads\n",
    "step 4: if spotted, decompose the attention scores of the induction heads\n",
    "step 5: identify which pair qk product the induction characteristic\n",
    "step 6: trace back\n",
    "step 7: construct the full circuit"
   ]
  },
  {
   "cell_type": "code",
   "execution_count": 24,
   "id": "72614337-6b75-40c1-b1ba-f154ea53b2bd",
   "metadata": {
    "tags": []
   },
   "outputs": [],
   "source": [
    "class MultiplyConstant(torch.autograd.Function):\n",
    "    @staticmethod\n",
    "    def forward(ctx, input):\n",
    "        ctx.input = input\n",
    "        return input\n",
    "    \n",
    "    @staticmethod\n",
    "    def backward(ctx, grad_input):\n",
    "        return ctx.input + 1"
   ]
  },
  {
   "cell_type": "code",
   "execution_count": null,
   "id": "4eebb305-fa52-4aeb-b4f6-89f0efd8334d",
   "metadata": {},
   "outputs": [],
   "source": []
  },
  {
   "cell_type": "code",
   "execution_count": null,
   "id": "0e13006d-8582-41ba-b385-6a99c96a1118",
   "metadata": {},
   "outputs": [],
   "source": []
  }
 ],
 "metadata": {
  "kernelspec": {
   "display_name": "Python 3 (ipykernel)",
   "language": "python",
   "name": "python3"
  },
  "language_info": {
   "codemirror_mode": {
    "name": "ipython",
    "version": 3
   },
   "file_extension": ".py",
   "mimetype": "text/x-python",
   "name": "python",
   "nbconvert_exporter": "python",
   "pygments_lexer": "ipython3",
   "version": "3.8.16"
  }
 },
 "nbformat": 4,
 "nbformat_minor": 5
}
