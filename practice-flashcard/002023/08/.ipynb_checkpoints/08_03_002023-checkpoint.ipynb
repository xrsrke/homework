{
 "cells": [
  {
   "cell_type": "markdown",
   "id": "594ace83-6112-4da1-b8d4-a1a868c0e4a0",
   "metadata": {},
   "source": [
    "### MechInterp"
   ]
  },
  {
   "cell_type": "code",
   "execution_count": 1,
   "id": "51478378-b9db-4ab9-9786-cd7b849b10b0",
   "metadata": {
    "tags": []
   },
   "outputs": [],
   "source": [
    "import torch\n",
    "from torch import nn\n",
    "import torch.nn.functional as F"
   ]
  },
  {
   "cell_type": "code",
   "execution_count": null,
   "id": "f773373c-5486-453f-bbe0-5fe3422abcc9",
   "metadata": {},
   "outputs": [],
   "source": [
    "input embedding > parameters > feature/neurons > activations"
   ]
  },
  {
   "cell_type": "code",
   "execution_count": null,
   "id": "63ef269c-f8b3-4379-bdce-bd95cd41c995",
   "metadata": {},
   "outputs": [],
   "source": [
    "step 1: ln1 = ln1 @ resid_pre\n",
    "step 2: head_outputs = head1(ln1) + head2(ln1) + ... + head3(ln1)\n",
    "step 3: mid_resid = resid_pre + head_outputs\n",
    "step 4: ln2 = ln2 @ mid_resid\n",
    "step 5: mlp = mlp @ ln2\n",
    "step 6: final_resid = mid_resid + mlp"
   ]
  },
  {
   "cell_type": "code",
   "execution_count": null,
   "id": "756853b3-c0c3-4816-9252-abec4d39b969",
   "metadata": {},
   "outputs": [],
   "source": []
  },
  {
   "cell_type": "code",
   "execution_count": null,
   "id": "ce3de259-47a4-491b-be46-8db662ce7680",
   "metadata": {},
   "outputs": [],
   "source": [
    "_, cache = model.run_with_cache(\n",
    "    board_history\n",
    ")"
   ]
  },
  {
   "cell_type": "code",
   "execution_count": null,
   "id": "3d33fcb4-70a2-4d7e-a3ef-14511f3d5c15",
   "metadata": {},
   "outputs": [],
   "source": [
    "mine_dir = linear_probe[..., 2]\n",
    "theirs_dir = linear_probe[..., 1]"
   ]
  },
  {
   "cell_type": "code",
   "execution_count": null,
   "id": "790281f2-d7f5-45d7-8500-cb5aeab48b3f",
   "metadata": {},
   "outputs": [],
   "source": [
    "mine_vs_theirs_dir = mine_dir - theirs_dir"
   ]
  },
  {
   "cell_type": "code",
   "execution_count": 2,
   "id": "1a2b708a-d454-4044-93f9-15f1f4e6bcde",
   "metadata": {
    "tags": []
   },
   "outputs": [],
   "source": [
    "contributions = torch.tensor([])"
   ]
  },
  {
   "cell_type": "code",
   "execution_count": null,
   "id": "ed71e1e5-c4e2-4c33-9616-c03e5cbe0a28",
   "metadata": {},
   "outputs": [],
   "source": [
    "for idx in range(7):\n",
    "    contributions = torch.cat([\n",
    "        contributions,\n",
    "        cache[\"attn\", idx] @ mine_vs_their_dir\n",
    "    ])"
   ]
  },
  {
   "cell_type": "code",
   "execution_count": null,
   "id": "b0150876-0d14-49b6-8434-6148f390cee9",
   "metadata": {},
   "outputs": [],
   "source": [
    "blank_dir = blank_dir / blank_dir.norm()\n",
    "mine_dir = mine_dir / mine_dir.norm()"
   ]
  },
  {
   "cell_type": "code",
   "execution_count": null,
   "id": "5182dd40-6e19-46ff-b887-cad5ee42af4d",
   "metadata": {},
   "outputs": [],
   "source": [
    "class Number() {\n",
    "    public:\n",
    "        int value;\n",
    "        \n",
    "        int isLargerThanZero() {\n",
    "            \n",
    "        }\n",
    "}"
   ]
  },
  {
   "cell_type": "code",
   "execution_count": null,
   "id": "ef83184f-15d8-44b5-801e-ccce8c91221f",
   "metadata": {},
   "outputs": [],
   "source": [
    "step 1: global rank\n",
    "step 2: resize embedding size\n",
    "step 3: parallelize embedding, linear, attn, layer norm\n",
    "step 4: resize lm_head"
   ]
  },
  {
   "cell_type": "code",
   "execution_count": 3,
   "id": "fa28dab8-aac8-4630-a090-83452dc5cd8d",
   "metadata": {
    "tags": []
   },
   "outputs": [],
   "source": [
    "import torch.distributed as dist"
   ]
  },
  {
   "cell_type": "code",
   "execution_count": 4,
   "id": "c73e606b-5427-4771-bc2a-f48c7a7ee13a",
   "metadata": {
    "tags": []
   },
   "outputs": [],
   "source": [
    "from torch.multiprocessing import Process"
   ]
  },
  {
   "cell_type": "code",
   "execution_count": 5,
   "id": "dced48d3-2102-4768-9e47-ae44bb313bae",
   "metadata": {
    "tags": []
   },
   "outputs": [],
   "source": [
    "processes = []"
   ]
  },
  {
   "cell_type": "code",
   "execution_count": null,
   "id": "37cd890f-0651-4a68-8ad4-b38ffd32fc89",
   "metadata": {},
   "outputs": [],
   "source": [
    "def run_worker():\n",
    "    torch.distributed.init_process_group(**config)"
   ]
  },
  {
   "cell_type": "code",
   "execution_count": null,
   "id": "c3d8348f-b80b-4785-ba29-38f0bf787faf",
   "metadata": {},
   "outputs": [],
   "source": []
  },
  {
   "cell_type": "code",
   "execution_count": null,
   "id": "e10f5981-f6a7-4b75-ae52-f1105659d5c7",
   "metadata": {},
   "outputs": [],
   "source": [
    "for rank in range(world_size):\n",
    "    p = Process(\n",
    "        target=run_worker\n",
    "    )\n",
    "    p.start()\n",
    "    processes.append(p)"
   ]
  },
  {
   "cell_type": "code",
   "execution_count": null,
   "id": "ba4569b4-e9d2-484b-ad45-6d7113b68a02",
   "metadata": {},
   "outputs": [],
   "source": [
    "message passing, collective communication, p2p"
   ]
  },
  {
   "cell_type": "code",
   "execution_count": null,
   "id": "446d086f-e7b3-440f-8449-65360e2b9257",
   "metadata": {},
   "outputs": [],
   "source": [
    "for group in groups:\n",
    "    dist.barrier()\n",
    "    dist.destroy_process_group(group)"
   ]
  },
  {
   "cell_type": "code",
   "execution_count": null,
   "id": "86c61455-78f9-45c2-9331-66513a4e78dc",
   "metadata": {},
   "outputs": [],
   "source": [
    "ready, running, succeed, failed, cooldown, blacklisted"
   ]
  },
  {
   "cell_type": "code",
   "execution_count": null,
   "id": "372fc883-6c36-4b9b-a110-97683b6c9dac",
   "metadata": {},
   "outputs": [],
   "source": [
    "step 1: ln1 = ln1@resid_pre\n",
    "step 2: attn_outputs = head1(ln1) + ... + head2(ln1)\n",
    "step 3: mid_resid = resid_pre + attn_outputs\n",
    "step 4: ln2 = ln2 @ mid_resid\n",
    "step 5: mlp = mlp @ ln2\n",
    "step 6: final_resid = mlp + mid_resid"
   ]
  },
  {
   "cell_type": "code",
   "execution_count": null,
   "id": "1cd16563-d8f2-449c-9476-0283e9f7ecd9",
   "metadata": {},
   "outputs": [],
   "source": [
    "W_in = model.W_in\n",
    "w_in = W_in[5, 1383]\n",
    "w_in /= w_in.norm()"
   ]
  },
  {
   "cell_type": "code",
   "execution_count": null,
   "id": "b4d0d071-085c-4593-982b-065fa831828e",
   "metadata": {},
   "outputs": [],
   "source": [
    "mine_dir /= mine_dir.norm()\n",
    "blank_dir /= blank_dir.norm()"
   ]
  },
  {
   "cell_type": "code",
   "execution_count": 6,
   "id": "f67b4518-aaa8-4553-8af8-0ef7c440e56d",
   "metadata": {
    "tags": []
   },
   "outputs": [],
   "source": [
    "from einops import einsum"
   ]
  },
  {
   "cell_type": "code",
   "execution_count": null,
   "id": "07ca6da7-9f15-44a1-a30b-246b470264e4",
   "metadata": {},
   "outputs": [],
   "source": [
    "def x(w_in, feature):\n",
    "    return einsum(\n",
    "        \"\"\n",
    "    )"
   ]
  },
  {
   "cell_type": "code",
   "execution_count": 7,
   "id": "0016eb20-2507-46b6-9db9-6447e1fe250d",
   "metadata": {
    "tags": []
   },
   "outputs": [],
   "source": [
    "from einops import einsum"
   ]
  },
  {
   "cell_type": "code",
   "execution_count": null,
   "id": "056105d1-69ed-4aa8-b780-b958fc2ea963",
   "metadata": {},
   "outputs": [],
   "source": [
    "interference = einsum(\n",
    "    W, W,\n",
    "    \"instances f1 dim, instances f2 dim -> instances f1 f2\"\n",
    ")"
   ]
  },
  {
   "cell_type": "code",
   "execution_count": null,
   "id": "ef92306e-efa8-434c-8338-27ccef7d4e75",
   "metadata": {},
   "outputs": [],
   "source": [
    "step 1: board history\n",
    "step 2: f1\n",
    "step 3: feed\n",
    "step 4: intervene\n",
    "step 5: continue"
   ]
  },
  {
   "cell_type": "code",
   "execution_count": 8,
   "id": "25892360-4124-4f06-a3ec-dc22b68d8e75",
   "metadata": {
    "tags": []
   },
   "outputs": [],
   "source": [
    "from transformer_lens import FactoredMatrix"
   ]
  },
  {
   "cell_type": "code",
   "execution_count": null,
   "id": "043887c9-6769-4a32-bd08-8efb4457ef71",
   "metadata": {},
   "outputs": [],
   "source": [
    "AB = FactoredMatrix(A, B)"
   ]
  },
  {
   "cell_type": "code",
   "execution_count": null,
   "id": "fcb691d3-539e-4cb0-b4a7-d838fbb237aa",
   "metadata": {},
   "outputs": [],
   "source": [
    "eigenvalues = AB.eigenvalues"
   ]
  },
  {
   "cell_type": "code",
   "execution_count": null,
   "id": "a034bcb5-baa9-4848-83e8-ef00a64ebeab",
   "metadata": {},
   "outputs": [],
   "source": [
    "W_U = model.W_U"
   ]
  },
  {
   "cell_type": "code",
   "execution_count": null,
   "id": "3d993d5f-b222-46e5-a502-2038065b22b0",
   "metadata": {},
   "outputs": [],
   "source": [
    "torch.cosine_similarity(W_U[:, 0], W_U[:, 1])"
   ]
  },
  {
   "cell_type": "code",
   "execution_count": null,
   "id": "387ab147-f262-47af-8aa9-d01558aff55e",
   "metadata": {},
   "outputs": [],
   "source": [
    "_, cache = model.run_with_cache(\n",
    "    tokens\n",
    ")"
   ]
  },
  {
   "cell_type": "code",
   "execution_count": null,
   "id": "3e32bb86-b45c-4caf-a55a-0ba6e915c51e",
   "metadata": {},
   "outputs": [],
   "source": [
    "W_in = model.W_in[layer_idx]"
   ]
  },
  {
   "cell_type": "code",
   "execution_count": null,
   "id": "203c7f6d-bac9-48dd-8428-29c722e3e4b4",
   "metadata": {},
   "outputs": [],
   "source": [
    "W_in = model.W_in[layer_idx, neuron_idx ]"
   ]
  },
  {
   "cell_type": "code",
   "execution_count": null,
   "id": "6f232c8f-d4db-441c-905b-81718f0b5f4b",
   "metadata": {},
   "outputs": [],
   "source": [
    "W_O = model.W_O[layer_idx, head_idx]\n",
    "W_V = model.W_V[layher_idx, head_idx]"
   ]
  },
  {
   "cell_type": "code",
   "execution_count": null,
   "id": "f48d78cd-8f16-462a-9913-50dabd5eec6a",
   "metadata": {},
   "outputs": [],
   "source": [
    "W_E = model.W_E\n",
    "W_U = model.W_U"
   ]
  },
  {
   "cell_type": "code",
   "execution_count": null,
   "id": "5fa92ca2-bbfa-4a8a-bd87-3020b50de4df",
   "metadata": {},
   "outputs": [],
   "source": [
    "OV"
   ]
  },
  {
   "cell_type": "code",
   "execution_count": null,
   "id": "772c0314-0365-47ec-893c-70e3a507b3b2",
   "metadata": {},
   "outputs": [],
   "source": [
    "W_E = model.W_E\n",
    "W_U = model.W_U"
   ]
  },
  {
   "cell_type": "code",
   "execution_count": null,
   "id": "a0c57e6d-bcac-4ba4-ad28-3407130760ad",
   "metadata": {},
   "outputs": [],
   "source": [
    "W_O = model.W_O[layer_idx, head_idx]\n",
    "W_V = model.W_V[layer_idx, head_idx]"
   ]
  },
  {
   "cell_type": "code",
   "execution_count": null,
   "id": "d285989c-d0ff-4006-bc21-24e9fe72b2bd",
   "metadata": {},
   "outputs": [],
   "source": [
    "OV_circuit = FactoredMatrix(W_V, W_O)"
   ]
  },
  {
   "cell_type": "code",
   "execution_count": null,
   "id": "8f2f0242-039a-4b4f-bc1f-3c11abb890a2",
   "metadata": {},
   "outputs": [],
   "source": [
    "W_E @ OV_circuit @ W_U"
   ]
  },
  {
   "cell_type": "code",
   "execution_count": null,
   "id": "fc4d6b80-f2ba-4be3-a942-3af1f15f1c8c",
   "metadata": {},
   "outputs": [],
   "source": [
    "input_direction = model.W_in[layer_idx, :, neuron_idx]"
   ]
  },
  {
   "cell_type": "code",
   "execution_count": 9,
   "id": "1db593e7-5c93-443f-999e-b0269cb75ad3",
   "metadata": {
    "tags": []
   },
   "outputs": [],
   "source": [
    "from torch.optim import Optimizer"
   ]
  },
  {
   "cell_type": "code",
   "execution_count": null,
   "id": "e52c2c4f-48c8-44ae-bf9a-bf51d3b3f55f",
   "metadata": {},
   "outputs": [],
   "source": [
    "class CustomOptimizer(Optimizer):\n",
    "    def __init__(self, params):\n",
    "        defaults = {}\n",
    "        super().__init__(params, defaults)\n",
    "    \n",
    "    def step(self):\n",
    "        for param_group in self.param_groups:\n",
    "            for p in param_group:\n",
    "                p.data = p.data * 6.9"
   ]
  }
 ],
 "metadata": {
  "kernelspec": {
   "display_name": "Python 3 (ipykernel)",
   "language": "python",
   "name": "python3"
  },
  "language_info": {
   "codemirror_mode": {
    "name": "ipython",
    "version": 3
   },
   "file_extension": ".py",
   "mimetype": "text/x-python",
   "name": "python",
   "nbconvert_exporter": "python",
   "pygments_lexer": "ipython3",
   "version": "3.8.16"
  }
 },
 "nbformat": 4,
 "nbformat_minor": 5
}
