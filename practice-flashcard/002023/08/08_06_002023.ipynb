{
 "cells": [
  {
   "cell_type": "markdown",
   "id": "9240dfdc-fe4b-4b66-a4a7-301fda44f919",
   "metadata": {},
   "source": [
    "### MechInterp"
   ]
  },
  {
   "cell_type": "code",
   "execution_count": null,
   "id": "d38e0d3f-6e36-4e36-8f6c-5b54a24076ad",
   "metadata": {},
   "outputs": [],
   "source": [
    "query, key, value, attn, output"
   ]
  },
  {
   "cell_type": "code",
   "execution_count": null,
   "id": "ad6bd908-ec5c-4d97-8647-b488ea9f4914",
   "metadata": {},
   "outputs": [],
   "source": [
    "[2, 5] x [5, 3] = [2, 3]\n",
    "\n",
    "[2, 3] x [3, 5]"
   ]
  },
  {
   "cell_type": "code",
   "execution_count": null,
   "id": "09fce8b1-b55a-4203-bd86-ba07c62f1bda",
   "metadata": {},
   "outputs": [],
   "source": [
    "model.W_E"
   ]
  },
  {
   "cell_type": "code",
   "execution_count": null,
   "id": "a0273389-af4e-45ef-98b6-ad6cc18e38db",
   "metadata": {},
   "outputs": [],
   "source": [
    "blank = linear_probe[..., 0]"
   ]
  },
  {
   "cell_type": "code",
   "execution_count": null,
   "id": "5c17f501-a61d-4588-9e24-84af3b4b83ac",
   "metadata": {},
   "outputs": [],
   "source": [
    "not_empty = (linear_probe[..., 1] + linear_probe[..., 2])/2"
   ]
  },
  {
   "cell_type": "code",
   "execution_count": null,
   "id": "c810b71e-0c55-475d-a757-b7d85c1af06e",
   "metadata": {},
   "outputs": [],
   "source": [
    "empty_vs_not_empty = blank - not_empty"
   ]
  },
  {
   "cell_type": "code",
   "execution_count": 1,
   "id": "325046fe-4540-49c0-8a56-9f8d789315c8",
   "metadata": {
    "tags": []
   },
   "outputs": [],
   "source": [
    "from einops import einsum"
   ]
  },
  {
   "cell_type": "code",
   "execution_count": null,
   "id": "ef26f6fc-1bb3-4e39-b42a-f47cf22cc2cd",
   "metadata": {},
   "outputs": [],
   "source": [
    "def calculate_similarity(weight, feature):\n",
    "    weight /= weight.norm()\n",
    "    feature /= feature.norm()\n",
    "    \n",
    "    return einsum(\n",
    "        weight, feature,\n",
    "        \"\"\n",
    "    )"
   ]
  },
  {
   "cell_type": "code",
   "execution_count": null,
   "id": "52527991-bad2-4ec9-bd43-3ff018e938c9",
   "metadata": {},
   "outputs": [],
   "source": [
    "_, cache = model.run_with_cache(past_moves)"
   ]
  },
  {
   "cell_type": "code",
   "execution_count": 2,
   "id": "e089805a-c979-40d5-9d0e-d2a103987b9e",
   "metadata": {
    "tags": []
   },
   "outputs": [],
   "source": [
    "from transformer_lens.utils import get_act_name"
   ]
  },
  {
   "cell_type": "code",
   "execution_count": 3,
   "id": "be465f02-45fa-4859-afa4-b110de224367",
   "metadata": {
    "tags": []
   },
   "outputs": [],
   "source": [
    "hook_name = get_act_name(\"out\", 4)"
   ]
  },
  {
   "cell_type": "code",
   "execution_count": null,
   "id": "0f3b13a1-3cd6-4052-ab50-9481d03bf5f6",
   "metadata": {},
   "outputs": [],
   "source": [
    "top_neurons = cache[hook_name].std(dim=[0, 1]).argsort(descending=True)[:10]"
   ]
  },
  {
   "cell_type": "code",
   "execution_count": 4,
   "id": "af437de0-db88-4bc0-a424-ad182c069db0",
   "metadata": {
    "tags": []
   },
   "outputs": [],
   "source": [
    "heatmap_blanks = []"
   ]
  },
  {
   "cell_type": "code",
   "execution_count": null,
   "id": "70ac01a3-86ee-4d37-b683-f04f46c68007",
   "metadata": {},
   "outputs": [],
   "source": [
    "for neuron_idx in top_neurons:\n",
    "    heatmap_blanks.append(calculate_similiarty(\n",
    "        model.W_out[4, neuron_idx, :],\n",
    "        blank_dir\n",
    "    ))"
   ]
  },
  {
   "cell_type": "code",
   "execution_count": null,
   "id": "fc727a0b-7d63-41cb-8ce1-f37c021b2dfb",
   "metadata": {},
   "outputs": [],
   "source": [
    "step 1: diverse set of data\n",
    "step 2: record the activation of the target neuron\n",
    "step 3: plot\n",
    "step 4: "
   ]
  },
  {
   "cell_type": "code",
   "execution_count": null,
   "id": "c9850a3f-73ed-4238-9eb5-960931abdbbe",
   "metadata": {},
   "outputs": [],
   "source": [
    "W_pos = model.W_pos"
   ]
  },
  {
   "cell_type": "code",
   "execution_count": null,
   "id": "7e02c7a1-7880-43e8-8891-d7696503e10d",
   "metadata": {},
   "outputs": [],
   "source": [
    "one = W_pos[:, 0]\n",
    "one /= one.norm()\n",
    "\n",
    "two = W_pos[:, 1]\n",
    "two /= two"
   ]
  },
  {
   "cell_type": "code",
   "execution_count": null,
   "id": "39f2c6af-c4a9-4a29-80a4-2d1c47d22eb5",
   "metadata": {},
   "outputs": [],
   "source": [
    "similarity = einsum(\n",
    "    one, two,\n",
    "    \"\"\n",
    ")"
   ]
  },
  {
   "cell_type": "code",
   "execution_count": null,
   "id": "95300903-e236-484e-b625-a2c7844c7177",
   "metadata": {},
   "outputs": [],
   "source": [
    "mine = linear_probe[..., 2]\n",
    "theirs = linear_probe[..., 1]"
   ]
  },
  {
   "cell_type": "code",
   "execution_count": null,
   "id": "d9cf6fc3-a4d2-4893-8e0f-fff158726de0",
   "metadata": {},
   "outputs": [],
   "source": [
    "mine_vs_theirs = mine - theirs"
   ]
  },
  {
   "cell_type": "code",
   "execution_count": null,
   "id": "6aa7581d-4e66-4844-8e10-f30115f453c9",
   "metadata": {},
   "outputs": [],
   "source": [
    "_, cache = model.run_with_cache(\n",
    "    board_history\n",
    ")"
   ]
  },
  {
   "cell_type": "code",
   "execution_count": 6,
   "id": "75505a22-aa21-4b3e-893b-f1fbcd107956",
   "metadata": {
    "tags": []
   },
   "outputs": [],
   "source": [
    "attn_contributions = []"
   ]
  },
  {
   "cell_type": "code",
   "execution_count": null,
   "id": "92f41219-9856-4e63-88fc-60a6f8d92d61",
   "metadata": {},
   "outputs": [],
   "source": [
    "for layer_idx in range(6):\n",
    "    hook_name = get_act_name(\"attn_out\", layer_idx)\n",
    "    attn_out = cache[hook_name]\n",
    "    attn_contributions.append(einsum(\n",
    "        attn_out,\n",
    "        mine_vs_theirs\n",
    "    ))"
   ]
  },
  {
   "cell_type": "code",
   "execution_count": 7,
   "id": "fe379971-f366-4ca8-a109-2c5eabca5188",
   "metadata": {
    "tags": []
   },
   "outputs": [],
   "source": [
    "import torch\n",
    "from torch import nn\n",
    "import torch.nn.functional as F"
   ]
  },
  {
   "cell_type": "code",
   "execution_count": 8,
   "id": "60b36ee6-6d63-4893-b8f9-62525f3ba106",
   "metadata": {
    "tags": []
   },
   "outputs": [],
   "source": [
    "class Checkpoint(torch.autograd.Function):\n",
    "    @staticmethod\n",
    "    def forward(ctx, phony, recomputed, function, input):\n",
    "        ctx.recomputed = recomputed\n",
    "        with torch.no_grad():\n",
    "            output = function(input)\n",
    "        \n",
    "        return output\n",
    "    \n",
    "    @staticmethod\n",
    "    def backward(ctx, grad):\n",
    "        output, input_leaf = ctx.recomputed.pop()\n",
    "        \n",
    "        with torch.enable_grad():\n",
    "            torch.autograd.backward(output, input_leaf)\n",
    "        \n",
    "        return (None, None, None, input_leaf.grad)"
   ]
  },
  {
   "cell_type": "code",
   "execution_count": null,
   "id": "0e689f72-90a3-473c-a777-bb8b02f6c213",
   "metadata": {},
   "outputs": [],
   "source": [
    "step 1: initialize global dist group\n",
    "step 2: "
   ]
  },
  {
   "cell_type": "code",
   "execution_count": null,
   "id": "2d604c5b-e016-4dca-ab00-18e72d34f115",
   "metadata": {},
   "outputs": [],
   "source": [
    "step 1: cpu memory\n",
    "step 2: gpu memory\n",
    "step 3: move to gpu memory\n",
    "step 4: launch kernel and do\n",
    "step 5: move the result back to cpu\n",
    "step 6: free gpu memory"
   ]
  },
  {
   "cell_type": "code",
   "execution_count": null,
   "id": "bae76408-9eb5-4a59-b1f4-8c05b5f5066b",
   "metadata": {},
   "outputs": [],
   "source": [
    "main thread > worker thread > task > cuda stream"
   ]
  },
  {
   "cell_type": "code",
   "execution_count": null,
   "id": "0b0f5a0f-9bf9-4685-8cc6-a9c43fc3e630",
   "metadata": {},
   "outputs": [],
   "source": [
    "global dist, tensor, data, pipeline "
   ]
  },
  {
   "cell_type": "code",
   "execution_count": null,
   "id": "630bb792-ba68-4df5-86fd-6bade0dee81d",
   "metadata": {},
   "outputs": [],
   "source": [
    "def get_handlers(states):\n",
    "    handlers, regulars = {}, {}\n",
    "    \n",
    "    for "
   ]
  },
  {
   "cell_type": "code",
   "execution_count": null,
   "id": "2c3fbeb3-63c2-4c6b-abec-dbef98856ace",
   "metadata": {},
   "outputs": [],
   "source": [
    "class ModelStateHandler:\n",
    "    def __init__(self, model):\n",
    "        pass"
   ]
  },
  {
   "cell_type": "code",
   "execution_count": null,
   "id": "b5d9dc42-0c49-41a8-afde-3463d8c765d3",
   "metadata": {},
   "outputs": [],
   "source": [
    "global dist\n",
    "parallel group\n",
    "set gpu\n",
    "random seed"
   ]
  },
  {
   "cell_type": "code",
   "execution_count": null,
   "id": "42328742-87cd-4f73-8db3-a19662d781c9",
   "metadata": {},
   "outputs": [],
   "source": [
    "register > cache > main memory > hard disk"
   ]
  },
  {
   "cell_type": "code",
   "execution_count": null,
   "id": "7d4ceef4-5330-42fe-a5d1-65d7a3843303",
   "metadata": {},
   "outputs": [],
   "source": [
    "adding relu\n",
    "sparity\n",
    "importance\n",
    "correlated vs anti-correlated features"
   ]
  },
  {
   "cell_type": "code",
   "execution_count": null,
   "id": "3c0736e2-0865-4827-a8cc-1ee6910b74c4",
   "metadata": {},
   "outputs": [],
   "source": [
    "_, cache = model.run_with_cache(board_history)"
   ]
  },
  {
   "cell_type": "code",
   "execution_count": null,
   "id": "21111452-3407-49f0-98be-58a1e1f4a5c3",
   "metadata": {},
   "outputs": [],
   "source": [
    "mine = linear_probe[..., 2]\n",
    "theirs = linear_probe[..., 1]\n",
    "mine_vs_theirs = mine - theirs"
   ]
  },
  {
   "cell_type": "code",
   "execution_count": 9,
   "id": "4314d141-7377-461f-af6c-7950ff3171a6",
   "metadata": {
    "tags": []
   },
   "outputs": [],
   "source": [
    "n_layers = 6"
   ]
  },
  {
   "cell_type": "code",
   "execution_count": 10,
   "id": "fa17d1e4-7092-49b1-8a43-a3d4ced53a32",
   "metadata": {
    "tags": []
   },
   "outputs": [],
   "source": [
    "attn_contributions = []"
   ]
  },
  {
   "cell_type": "code",
   "execution_count": null,
   "id": "65af45e5-668e-4412-b363-6b849cfe1300",
   "metadata": {},
   "outputs": [],
   "source": [
    "for layer_idx in range(n_layers):\n",
    "    hook_name = get_act_name(\"attn_out\", layer_idx)\n",
    "    attn_out = cache[hook_name][2, 20]\n",
    "    contribution = einsum(\n",
    "        attn_out,\n",
    "        mine_vs_theirs,\n",
    "        \"\"\n",
    "    )\n",
    "    attn_contributions.append(contribution)"
   ]
  },
  {
   "cell_type": "code",
   "execution_count": null,
   "id": "0dbeef38-3ac4-4509-99a9-047eb3f6ef32",
   "metadata": {},
   "outputs": [],
   "source": [
    "step 1: prob[0] = sigmoid(logit0 - logit1)\n",
    "step 2: logit0 = resid2 @ W_U[0], resid2 @ W[1]\n",
    "step 3: logit0 - logit1 = resid2 @ (W_U[0] - W_U[1])\n",
    "step 4: resid2 = resid1 @ ln2 @ W_OV^{2, 0}\n",
    "step 5: resid1 @ ln2 @ W_OV^{2, 0} @ (W_U[0] - W_U[1])\n",
    "\n",
    "ln2 @ W_OV^{2, 0} @ (W_U[0] - W_U[1])"
   ]
  },
  {
   "cell_type": "code",
   "execution_count": null,
   "id": "977375ff-79ee-4741-845d-a83d2f6db72f",
   "metadata": {},
   "outputs": [],
   "source": [
    "_, cache = model.run_with_cache(past_moves)"
   ]
  },
  {
   "cell_type": "code",
   "execution_count": 11,
   "id": "1ea3aa65-01b9-48c2-82e1-26b7ed72646b",
   "metadata": {
    "tags": []
   },
   "outputs": [],
   "source": [
    "layer_idx = 3"
   ]
  },
  {
   "cell_type": "code",
   "execution_count": 12,
   "id": "16a798d3-dc27-4c6d-903c-25ab10286369",
   "metadata": {
    "tags": []
   },
   "outputs": [],
   "source": [
    "hook_name = get_act_name(\"out\", layer_idx)"
   ]
  },
  {
   "cell_type": "code",
   "execution_count": null,
   "id": "b14c16ef-b7e7-4aac-9b8a-7a2b58836221",
   "metadata": {},
   "outputs": [],
   "source": [
    "top_neurons = cache[hook_name].std"
   ]
  },
  {
   "cell_type": "code",
   "execution_count": null,
   "id": "6dc37334-51b3-4030-ae0b-e6c6dba22744",
   "metadata": {},
   "outputs": [],
   "source": [
    "step 1: "
   ]
  },
  {
   "cell_type": "code",
   "execution_count": null,
   "id": "2d4feb64-3d01-48a5-925e-ecf702a7d5e5",
   "metadata": {},
   "outputs": [],
   "source": [
    "_, cache = model.run"
   ]
  },
  {
   "cell_type": "code",
   "execution_count": null,
   "id": "b93862c3-0c7a-4ec5-9bac-44427b69e6fc",
   "metadata": {},
   "outputs": [],
   "source": [
    "conditioned response, stimulus-evoked, population decoding, motor"
   ]
  },
  {
   "cell_type": "code",
   "execution_count": 14,
   "id": "5b69ee47-21bc-4363-b28a-99c4703f0cf2",
   "metadata": {
    "tags": []
   },
   "outputs": [],
   "source": [
    "def compute_total_memory(model):\n",
    "    total_memory = 0    \n",
    "    for p in model.parameters():\n",
    "        total_memory += p.element_size() * p.numel()\n",
    "    return total_memory"
   ]
  },
  {
   "cell_type": "code",
   "execution_count": 15,
   "id": "f8ba92cc-1dca-4a6e-b8d0-086071ac221f",
   "metadata": {
    "tags": []
   },
   "outputs": [],
   "source": [
    "def get_handler(v):\n",
    "    for handler_type, handler_cls in handler_registry:\n",
    "        if isinstance(v, handler_type):\n",
    "            return handler_cls(v)\n",
    "    return None"
   ]
  },
  {
   "cell_type": "code",
   "execution_count": null,
   "id": "fba1db66-6ca6-4dad-aa94-4fcf12f62306",
   "metadata": {},
   "outputs": [],
   "source": [
    "def get_handlers(states):\n",
    "    handlers = {}\n",
    "    remainders = {}\n",
    "    \n",
    "    for name, value in states:\n",
    "        "
   ]
  },
  {
   "cell_type": "code",
   "execution_count": null,
   "id": "b7323947-a715-4155-930e-d3ffbef1c0a6",
   "metadata": {},
   "outputs": [],
   "source": [
    "register > cache > dram > hard drisk"
   ]
  },
  {
   "cell_type": "code",
   "execution_count": null,
   "id": "be1178d0-5db9-41c4-8ce1-b6b488d9ec6e",
   "metadata": {},
   "outputs": [],
   "source": [
    "int x{y}"
   ]
  },
  {
   "cell_type": "code",
   "execution_count": 16,
   "id": "884aaae3-c378-442f-a539-b60e0bf625f5",
   "metadata": {
    "tags": []
   },
   "outputs": [],
   "source": [
    "world_size = 16"
   ]
  },
  {
   "cell_type": "code",
   "execution_count": 17,
   "id": "34524edb-87fd-4012-a5aa-7f9f71e7ab85",
   "metadata": {
    "tags": []
   },
   "outputs": [],
   "source": [
    "data_parallel_groups = []"
   ]
  },
  {
   "cell_type": "code",
   "execution_count": 18,
   "id": "97963b13-d59d-4e4e-a261-02574dc09668",
   "metadata": {
    "tags": []
   },
   "outputs": [],
   "source": [
    "num_pipeline_model_parallel_groups = 4"
   ]
  },
  {
   "cell_type": "code",
   "execution_count": null,
   "id": "9f4ff2e2-8631-4624-9b24-6f473a9e10d9",
   "metadata": {},
   "outputs": [],
   "source": [
    "for i in range(num_pipeline_model_parallel_groups):\n",
    "    start_rank = i*"
   ]
  },
  {
   "cell_type": "code",
   "execution_count": null,
   "id": "868ad31b-6daa-4b64-ba06-32fc04a19032",
   "metadata": {},
   "outputs": [],
   "source": [
    "rank, world_size, tensor_mod"
   ]
  },
  {
   "cell_type": "code",
   "execution_count": null,
   "id": "d5c5e42f-5406-492d-94ab-ed5de060945b",
   "metadata": {},
   "outputs": [],
   "source": [
    "n_observations = env.action_space."
   ]
  },
  {
   "cell_type": "code",
   "execution_count": 19,
   "id": "9cb6c43a-0c2a-42cf-bedb-cdb9384a0e43",
   "metadata": {
    "tags": []
   },
   "outputs": [],
   "source": [
    "class DeepQNetwork(nn.Module):\n",
    "    def __init__(self, n_observations, n_actions):\n",
    "        super().__init__()\n",
    "        self.net = nn.Sequential(\n",
    "            nn.Linear(n_observations, 128),\n",
    "            nn.ReLU(),\n",
    "            nn.Linear(128, 128),\n",
    "            nn.Linear(128, n_actions)\n",
    "        )\n",
    "    \n",
    "    def forward(self, x):\n",
    "        return self.net(x)"
   ]
  },
  {
   "cell_type": "code",
   "execution_count": 20,
   "id": "199ed1dc-8bda-4796-b498-35d14b35fb9e",
   "metadata": {
    "tags": []
   },
   "outputs": [],
   "source": [
    "from torch.distributions import Categorical"
   ]
  },
  {
   "cell_type": "code",
   "execution_count": null,
   "id": "2984cadc-df58-4822-8c53-e4381ab7d234",
   "metadata": {},
   "outputs": [],
   "source": [
    "class Agent(nn.Module):\n",
    "    def __init__(self, n_observations, n_actions, n_hidden):\n",
    "        super().__init__()\n",
    "        self.actor_net = nn.Sequential(\n",
    "            nn.Linear(n_observations, n_hidden)\n",
    "            nn.Tanh(),\n",
    "            nn.Linear(n_hidden, n_hidden),\n",
    "            nn.Tanh(),\n",
    "            nn.Linear(n_hidden, n_actions)\n",
    "        )\n",
    "        \n",
    "        self.critic_net = nn.Sequential(\n",
    "            nn.Linear(n_observations, n_hidden),\n",
    "            nn.Tanh(),\n",
    "            nn.Linear(n_hidden, n_hidden),\n",
    "            nn.Tanh(),\n",
    "            nn.Linear(n_hidden, 1),\n",
    "            nn.Sigmoid()\n",
    "        )\n",
    "    \n",
    "    def forward(self, x):\n",
    "        logits = self.actor_net(x)\n",
    "        dist = Categorical(logits=logits)\n",
    "        action = dist.sample()\n",
    "        log_prob = dist.log_prob(action)\n",
    "        entropy = dist.entropy()\n",
    "        value = self.critic_net(x)\n",
    "        return"
   ]
  },
  {
   "cell_type": "code",
   "execution_count": null,
   "id": "b8402d8f-0f61-4fbe-a798-02f89dffd52f",
   "metadata": {},
   "outputs": [],
   "source": [
    "for i in range(tensor_model_parallel_size):\n",
    "    start_rank = i*num_tensor_model_parallel_size\n",
    "    end_rank = (i+1)*num_tensor_model_parallel_size\n",
    "    \n",
    "    for j in range(tensor_model_parallel_size):\n",
    "        ranks = list(range(start_rank+j, end_rank, tensor_model_parallel+size ))"
   ]
  },
  {
   "cell_type": "code",
   "execution_count": null,
   "id": "c460af41-c89d-4164-b207-139c7c374fef",
   "metadata": {},
   "outputs": [],
   "source": [
    "w_in = model.W_in[5, : 1393]\n",
    "w_out = model.W_out[5, 1393, :]"
   ]
  },
  {
   "cell_type": "code",
   "execution_count": null,
   "id": "7a17f3de-50a3-46ff-b989-0102e9ceedc2",
   "metadata": {},
   "outputs": [],
   "source": [
    "def compute_consine_similarity(weight, feature):\n",
    "    weight /= weight.norm()\n",
    "    feature /= feature.norm()\n",
    "    \n",
    "    return einsum(\n",
    "        weight, feature,\n",
    "        \"\"\n",
    "    )"
   ]
  },
  {
   "cell_type": "code",
   "execution_count": null,
   "id": "3f542703-f419-4695-a8c2-14f32aac9ccf",
   "metadata": {},
   "outputs": [],
   "source": [
    "_, cache = model.run_with_cache(past_moves)"
   ]
  },
  {
   "cell_type": "code",
   "execution_count": 21,
   "id": "18787e1c-8be4-43fb-8e19-711161d1e921",
   "metadata": {
    "tags": []
   },
   "outputs": [],
   "source": [
    "hook_name = get_act_name(\"out\", 3)"
   ]
  },
  {
   "cell_type": "code",
   "execution_count": 22,
   "id": "b86acc1f-551a-4fc4-a52b-c972acb3b1ed",
   "metadata": {
    "tags": []
   },
   "outputs": [
    {
     "data": {
      "text/plain": [
       "'blocks.3.hook_out'"
      ]
     },
     "execution_count": 22,
     "metadata": {},
     "output_type": "execute_result"
    }
   ],
   "source": [
    "hook_name"
   ]
  },
  {
   "cell_type": "code",
   "execution_count": null,
   "id": "1e173f82-95f8-42b1-805c-11a6d546d0c7",
   "metadata": {},
   "outputs": [],
   "source": [
    "top_neurons = cache[hook_name].std(dim=[0, 1]).argsort(descending=True)[:10]"
   ]
  },
  {
   "cell_type": "code",
   "execution_count": 23,
   "id": "194088e0-e936-4a42-9b97-7427ac3fb85f",
   "metadata": {
    "tags": []
   },
   "outputs": [],
   "source": [
    "heatmap_blanks = []"
   ]
  },
  {
   "cell_type": "code",
   "execution_count": null,
   "id": "ae565244-669f-4b5f-b009-f76f39a88848",
   "metadata": {},
   "outputs": [],
   "source": [
    "for neuron_idx in top_neurons:\n",
    "    w_out = model.W_out[3, neuron_idx, :]\n",
    "    w_out /= w_out.norm()\n",
    "    \n",
    "    blank_dir /= blank_dir.norm()\n",
    "    \n",
    "    heatmap_blanks.append(einsum(\n",
    "        w_out,\n",
    "        blank_dir\n",
    "    ))"
   ]
  },
  {
   "cell_type": "code",
   "execution_count": null,
   "id": "3171c858-eae0-46d4-9b2e-280ee697d7aa",
   "metadata": {},
   "outputs": [],
   "source": [
    "target_tokens = tokens[1:]"
   ]
  },
  {
   "cell_type": "code",
   "execution_count": null,
   "id": "3a125031-6bd1-4f59-acf0-c46dbc47b15c",
   "metadata": {},
   "outputs": [],
   "source": [
    "embed = cache[\"embed\"]"
   ]
  },
  {
   "cell_type": "code",
   "execution_count": null,
   "id": "c846fcaf-4a2c-439d-af68-934c468822c7",
   "metadata": {},
   "outputs": [],
   "source": [
    "embed_attributions = einsum(\n",
    "    embed[:, -1],\n",
    "    model.W_U[:, target_tokens]\n",
    ")"
   ]
  },
  {
   "cell_type": "code",
   "execution_count": null,
   "id": "35a8f744-df1f-47ee-bba8-5528ed31f150",
   "metadata": {},
   "outputs": [],
   "source": [
    "memory coefficients = ReLU(resid[0] @ k_i)\n",
    "\n",
    "\n",
    "values = memory_coefficient_i @ v_i\n",
    "\n",
    "recalled_memory = sum(values) + bias"
   ]
  }
 ],
 "metadata": {
  "kernelspec": {
   "display_name": "Python 3 (ipykernel)",
   "language": "python",
   "name": "python3"
  },
  "language_info": {
   "codemirror_mode": {
    "name": "ipython",
    "version": 3
   },
   "file_extension": ".py",
   "mimetype": "text/x-python",
   "name": "python",
   "nbconvert_exporter": "python",
   "pygments_lexer": "ipython3",
   "version": "3.8.16"
  }
 },
 "nbformat": 4,
 "nbformat_minor": 5
}
