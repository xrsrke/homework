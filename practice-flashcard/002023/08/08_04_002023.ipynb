{
 "cells": [
  {
   "cell_type": "markdown",
   "id": "378026be-c5dc-406c-b213-4437f2678f20",
   "metadata": {},
   "source": [
    "### Engineering"
   ]
  },
  {
   "cell_type": "markdown",
   "id": "bdf110cf-4719-4d33-98b8-7857ef49120a",
   "metadata": {},
   "source": [
    "step 1: start epoch, processed\n",
    "step 2: get unprocessed\n",
    "step 3: num of workers\n",
    "step 4: partitioning"
   ]
  },
  {
   "cell_type": "code",
   "execution_count": null,
   "id": "e73d8754-85b3-41a8-8a32-32535f67ddbb",
   "metadata": {},
   "outputs": [],
   "source": [
    "#include <iostream>"
   ]
  },
  {
   "cell_type": "code",
   "execution_count": null,
   "id": "028d7e5f-bc83-405b-bab1-3915a616c662",
   "metadata": {},
   "outputs": [],
   "source": [
    "int main() {\n",
    "    int x = 1;\n",
    "    return &x;\n",
    "}"
   ]
  },
  {
   "cell_type": "code",
   "execution_count": null,
   "id": "6bc11326-6408-4d44-9ca3-e3aa23cf5d33",
   "metadata": {},
   "outputs": [],
   "source": [
    "#using namespace std;"
   ]
  },
  {
   "cell_type": "code",
   "execution_count": null,
   "id": "df8e78b2-1d41-472f-b985-20655f2c7337",
   "metadata": {},
   "outputs": [],
   "source": [
    "class Monster() {\n",
    "    public:\n",
    "        string Monster() {\n",
    "            std::cout << \"creating a monster!!\"\n",
    "        }\n",
    "}"
   ]
  },
  {
   "cell_type": "code",
   "execution_count": null,
   "id": "3c65b986-986d-44d0-b443-85e605d88c2b",
   "metadata": {},
   "outputs": [],
   "source": [
    "scheduler, control manager, ectd, "
   ]
  },
  {
   "cell_type": "code",
   "execution_count": null,
   "id": "a0a84bdc-90c8-426c-ae97-45ccdcad7b08",
   "metadata": {},
   "outputs": [],
   "source": [
    "step 1: gather\n",
    "step 2: register hooks that execute after the backward pass\n",
    "step 3: carires "
   ]
  },
  {
   "cell_type": "code",
   "execution_count": null,
   "id": "3e0edc95-cfb1-428f-8df0-4f727efa87b9",
   "metadata": {},
   "outputs": [],
   "source": [
    "parameters, grad, optimizer-states"
   ]
  },
  {
   "cell_type": "code",
   "execution_count": 1,
   "id": "db7b8c92-6ade-4a84-a726-2a788bfa86fa",
   "metadata": {
    "tags": []
   },
   "outputs": [],
   "source": [
    "import torch\n",
    "from torch import nn\n",
    "import torch.nn.functional as F"
   ]
  },
  {
   "cell_type": "code",
   "execution_count": 2,
   "id": "9a2c87f5-a1b5-4469-940e-2474e1aa1935",
   "metadata": {
    "tags": []
   },
   "outputs": [],
   "source": [
    "import torch.distributed as dist"
   ]
  },
  {
   "cell_type": "code",
   "execution_count": null,
   "id": "16be59b2-0c60-4073-a4dd-f3ccc26e62e0",
   "metadata": {},
   "outputs": [],
   "source": [
    "for group in groups:\n",
    "    dist.barrier()\n",
    "    dist.destroy_process_group(group)"
   ]
  },
  {
   "cell_type": "code",
   "execution_count": null,
   "id": "9a297e7d-6616-4d4e-86d0-1c81df0a4057",
   "metadata": {},
   "outputs": [],
   "source": [
    "class TensorParallelGroupInitializer(ProcessGroupInitializer):\n",
    "    def init_process_group(self):\n",
    "        self.num_tensor_parallel_groups = self.world_size // self.tensor_parallel_size\n",
    "        \n",
    "        for i in range(num_tensor_parallel_groups):\n",
    "            ranks = list(range(\n",
    "                i*self.tensor_parallel_size,\n",
    "                (i+1)*self.tensor_parallel_size\n",
    "            ))\n",
    "            process_group = dist.new_group(ranks)\n",
    "                         \n",
    "            if self.rank in ranks:\n",
    "                local_rank = ranks.index(self.ranjk)\n",
    "                local_world_size = len(ranks)"
   ]
  },
  {
   "cell_type": "code",
   "execution_count": null,
   "id": "e304dbaf-0309-4a33-8a82-398e57106c17",
   "metadata": {},
   "outputs": [],
   "source": [
    "W_in[:, i]"
   ]
  },
  {
   "cell_type": "code",
   "execution_count": null,
   "id": "c1d252e8-56f6-4602-bb60-ca48b007c04d",
   "metadata": {},
   "outputs": [],
   "source": [
    "x = torch.tensor(0, device=device)"
   ]
  },
  {
   "cell_type": "code",
   "execution_count": null,
   "id": "d74ff622-633b-421e-98d4-93d4f76d8218",
   "metadata": {},
   "outputs": [],
   "source": [
    "step 1: gather\n",
    "step 2: register pre backward hook\n",
    "step 3: do\n",
    "step 4: register post backward hook\n",
    "step 5: release the weights"
   ]
  },
  {
   "cell_type": "code",
   "execution_count": null,
   "id": "51ba1c97-bb1e-4fb6-81ca-6dc76fd061d0",
   "metadata": {},
   "outputs": [],
   "source": [
    "tokens = model.to_tokens(text)"
   ]
  },
  {
   "cell_type": "code",
   "execution_count": null,
   "id": "4de74270-3707-4f5c-8c52-b2bf449a79a8",
   "metadata": {},
   "outputs": [],
   "source": [
    "_, cache = model.run_with_cache(tokens, remove_batch_dim=True)"
   ]
  },
  {
   "cell_type": "code",
   "execution_count": 3,
   "id": "50421308-8d50-401e-bb9b-abca9b83d98b",
   "metadata": {
    "tags": []
   },
   "outputs": [],
   "source": [
    "from einops import einsum, rearrange"
   ]
  },
  {
   "cell_type": "code",
   "execution_count": null,
   "id": "3f27454d-f718-42e4-8e3e-f9c40cf1acf1",
   "metadata": {},
   "outputs": [],
   "source": [
    "inputs = torch.cat([\n",
    "    cache[\"embed\", prev_layer_idx],\n",
    "    cache[\"pos_ebed\", prev_layer_idx],\n",
    "    cache[\"result\", prev_layer_idx]\n",
    "], dim=0)"
   ]
  },
  {
   "cell_type": "code",
   "execution_count": null,
   "id": "d4c28d8f-7476-44e0-8ada-1edcfff1ca4b",
   "metadata": {},
   "outputs": [],
   "source": [
    "W_Q = model.W_Q[layer_idx, next_layer_idx]"
   ]
  },
  {
   "cell_type": "code",
   "execution_count": null,
   "id": "3c60464a-ab5e-4020-a45d-89c3a627d60b",
   "metadata": {},
   "outputs": [],
   "source": [
    "query_components = "
   ]
  },
  {
   "cell_type": "code",
   "execution_count": null,
   "id": "674f291f-2a09-46a8-a7cd-ef658969911e",
   "metadata": {},
   "outputs": [],
   "source": [
    "step 1: ln1 = ln1 @ resid_pre\n",
    "step 2: head_outputs = head1(ln1) + head2(ln1) + ... + headn(ln1)\n",
    "step 3: mid_resid = resid_pre + head_outputs\n",
    "step 4: ln2 = ln2 @ mid_resid\n",
    "step 5: mlp = mlp @ ln2\n",
    "step 6: final_resid = mlp + mid_resid"
   ]
  },
  {
   "cell_type": "code",
   "execution_count": null,
   "id": "b3ddedb6-1cb7-409d-a52a-dd638aa1eb6d",
   "metadata": {},
   "outputs": [],
   "source": [
    "input embedding > weight > neuron/feature > activations"
   ]
  },
  {
   "cell_type": "code",
   "execution_count": null,
   "id": "91db9b78-192a-46b9-8a1b-c6225d51403e",
   "metadata": {},
   "outputs": [],
   "source": [
    "streamlit.header."
   ]
  },
  {
   "cell_type": "code",
   "execution_count": null,
   "id": "9e9bfab9-6edb-4b30-bc4b-df8cc68aa3ed",
   "metadata": {},
   "outputs": [],
   "source": [
    "post_resid = mid_resid + mlp"
   ]
  },
  {
   "cell_type": "code",
   "execution_count": null,
   "id": "9092b26b-f1d6-4a9b-8150-5fe423a6b1f0",
   "metadata": {},
   "outputs": [],
   "source": [
    "W_pos = model.W_pos\n",
    "W_Q = model.W_Q[layer_idx, head_idx]\n",
    "W_K = model.W_K[layer_idx, head_idx]"
   ]
  },
  {
   "cell_type": "code",
   "execution_count": null,
   "id": "220422ba-b6a4-4b4e-8e9d-fd62a67c3c46",
   "metadata": {},
   "outputs": [],
   "source": [
    "W_QK = W_Q @ W_K"
   ]
  },
  {
   "cell_type": "code",
   "execution_count": null,
   "id": "04b5003b-3230-431a-b2ba-0b4d7e393129",
   "metadata": {},
   "outputs": [],
   "source": [
    "def mask_scores(attn_scores):\n",
    "    mask = torch.trib"
   ]
  },
  {
   "cell_type": "code",
   "execution_count": null,
   "id": "799703a5-05d3-419d-90c1-cc5ef2f6ff78",
   "metadata": {},
   "outputs": [],
   "source": [
    "pos_by_pos_scores = W_pos @ W_QK @ W_pos.T"
   ]
  },
  {
   "cell_type": "code",
   "execution_count": null,
   "id": "859f0867-cdcb-416b-a8c5-f9639891f808",
   "metadata": {},
   "outputs": [],
   "source": [
    "masked_scaled = mask_scores(pos_by_pos_scores / model.cfg)"
   ]
  },
  {
   "cell_type": "code",
   "execution_count": null,
   "id": "1375b85f-e295-4be4-b74b-91920a014763",
   "metadata": {},
   "outputs": [],
   "source": [
    "tokens = model.to_tokens(text)"
   ]
  },
  {
   "cell_type": "code",
   "execution_count": null,
   "id": "8d5fadba-7797-4e29-a8fc-62ab8823650f",
   "metadata": {},
   "outputs": [],
   "source": [
    "_, cache = model.run_with_cache(tokens)"
   ]
  },
  {
   "cell_type": "code",
   "execution_count": null,
   "id": "58f68bcd-7efd-4378-9740-ba76273a5f66",
   "metadata": {},
   "outputs": [],
   "source": [
    "inputs = torch.cat([\n",
    "    cache[\"embed\"], cache[\"pos\"],\n",
    "    cache[\"result\", prev_layer_idx]\n",
    "])"
   ]
  },
  {
   "cell_type": "code",
   "execution_count": null,
   "id": "d499ca68-c168-496d-92f5-3aae9f704f6a",
   "metadata": {},
   "outputs": [],
   "source": [
    "W_Q = model.W_Q[next_layer_idx, head_idx]"
   ]
  },
  {
   "cell_type": "code",
   "execution_count": null,
   "id": "23696584-707f-42c8-a7a9-e403992f3fb2",
   "metadata": {},
   "outputs": [],
   "source": [
    "query_components = einsum(\n",
    "    inputs,\n",
    "    W_Q,\n",
    "    \"\"\n",
    ")"
   ]
  },
  {
   "cell_type": "code",
   "execution_count": null,
   "id": "558231ae-83f9-44c4-bd99-2c137937d2d8",
   "metadata": {},
   "outputs": [],
   "source": [
    "query_contributions = query_components."
   ]
  },
  {
   "cell_type": "code",
   "execution_count": 4,
   "id": "d392ffa1-6c51-453a-91ab-3e7dedcc3eec",
   "metadata": {
    "tags": []
   },
   "outputs": [],
   "source": [
    "from einops import einsum"
   ]
  },
  {
   "cell_type": "code",
   "execution_count": null,
   "id": "12c4befa-893e-43be-af04-2b59d4c9b02a",
   "metadata": {},
   "outputs": [],
   "source": [
    "_, cache = model.run_with_cache(tokens)\n",
    "W_U = model.W_U"
   ]
  },
  {
   "cell_type": "code",
   "execution_count": null,
   "id": "db15d643-0e53-4a64-ba0a-5ba1a832682f",
   "metadata": {},
   "outputs": [],
   "source": [
    "embed_activations = cache[hook_name]"
   ]
  },
  {
   "cell_type": "code",
   "execution_count": null,
   "id": "b61dcc87-7d8d-4d4b-a7ae-302ff1bc1f58",
   "metadata": {},
   "outputs": [],
   "source": [
    "target_tokens = tokens[1:]\n"
   ]
  },
  {
   "cell_type": "code",
   "execution_count": 2,
   "id": "de8da730-4177-4b8c-8e20-c9cfb6232344",
   "metadata": {
    "tags": []
   },
   "outputs": [],
   "source": [
    "import torch.distributed as dist"
   ]
  },
  {
   "cell_type": "code",
   "execution_count": null,
   "id": "00d3987c-7224-4792-b723-32ccad8c1651",
   "metadata": {},
   "outputs": [],
   "source": [
    "class TensorParallelGroupInitializer:\n",
    "    def init_parallel_group(self):\n",
    "        num_tensor_parallel_groups = self.world_size // self.tensor_parallel_size\n",
    "        \n",
    "        for i in range(num_tensor_parallel_groups):\n",
    "            ranks = list(range(i*self.tensor_parallel_size, (i+1)*self.tensor_parallel_size))\n",
    "            process_group = dist.new_group(ranks)\n",
    "            \n",
    "            if self.rank in ranks:\n",
    "                local_rank = ranks.index(self.rank)\n",
    "                local_world_size = len(ranks)\n",
    "                ranks_in_group = ranks"
   ]
  },
  {
   "cell_type": "code",
   "execution_count": null,
   "id": "b59d39e9-9733-43b7-bc03-145abd0b0aa6",
   "metadata": {},
   "outputs": [],
   "source": [
    "deployment, configmap, service"
   ]
  },
  {
   "cell_type": "code",
   "execution_count": null,
   "id": "4a85e40d-1af4-46d7-bd42-751872ad69bd",
   "metadata": {},
   "outputs": [],
   "source": [
    "step 1: num workers\n",
    "step 2: flatten\n",
    "step 3: chunks\n",
    "step 4: append\n",
    "step 5: extract\n",
    "step 6: pad"
   ]
  },
  {
   "cell_type": "code",
   "execution_count": 4,
   "id": "000fd78a-da91-450f-b0aa-49fa859116d1",
   "metadata": {
    "tags": []
   },
   "outputs": [],
   "source": [
    "n_layers = 2"
   ]
  },
  {
   "cell_type": "code",
   "execution_count": 7,
   "id": "76cf7b9a-41a5-4aed-8c20-3beee0ba33b2",
   "metadata": {
    "tags": []
   },
   "outputs": [],
   "source": [
    "import torch\n",
    "from torch import nn\n",
    "import torch.nn.functional as F"
   ]
  },
  {
   "cell_type": "code",
   "execution_count": 8,
   "id": "45efceb1-a60b-4080-b1a0-7451c883f54d",
   "metadata": {
    "tags": []
   },
   "outputs": [],
   "source": [
    "outputs = torch.tensor([])"
   ]
  },
  {
   "cell_type": "code",
   "execution_count": 9,
   "id": "8a529a26-71aa-411d-b9af-0109a038cf77",
   "metadata": {
    "tags": []
   },
   "outputs": [],
   "source": [
    "from transformer_lens.utils import get_act_name"
   ]
  },
  {
   "cell_type": "code",
   "execution_count": null,
   "id": "69178f3f-b5ca-4f76-acd3-9e30f4d767b3",
   "metadata": {},
   "outputs": [],
   "source": [
    "for layer_idx in range(n_layers):\n",
    "    hook_name\n",
    "    outputs = torch.cat([\n",
    "        outputs,\n",
    "        get_act_name(\"result\", layer_idx)\n",
    "    ])"
   ]
  },
  {
   "cell_type": "code",
   "execution_count": null,
   "id": "30010ca8-a890-4845-9cac-29fb038c2512",
   "metadata": {},
   "outputs": [],
   "source": [
    "W_out[i, :]"
   ]
  },
  {
   "cell_type": "code",
   "execution_count": 11,
   "id": "b25ff9c6-a97b-4923-872b-3479730e4d38",
   "metadata": {
    "tags": []
   },
   "outputs": [],
   "source": [
    "from transformer_lens import FactoredMatrix"
   ]
  },
  {
   "cell_type": "code",
   "execution_count": null,
   "id": "e0863341-eaba-48ee-997a-357f7318c51a",
   "metadata": {},
   "outputs": [],
   "source": [
    "W_E = model.W_E\n",
    "W_Q = model.W_Q[1, 4]\n",
    "W_K = model.W_K[1, 4]\n",
    "W_O = model.W_O[0, 7]\n",
    "W_V = model.W_V[0, 7]"
   ]
  },
  {
   "cell_type": "code",
   "execution_count": null,
   "id": "4ceda373-1376-469a-9b48-3432622d2ba2",
   "metadata": {},
   "outputs": [],
   "source": [
    "K = W_E @ W_V @ W_O @ W_K\n",
    "Q = W_E @ W_Q"
   ]
  },
  {
   "cell_type": "code",
   "execution_count": null,
   "id": "72a7660b-bf94-4c59-81e6-f7f1e58410cc",
   "metadata": {},
   "outputs": [],
   "source": [
    "W_pos = model.W_pos\n",
    "W_Q = model.W_Q[layer_idx, head_idx]\n",
    "W_K = model.W_K[layer_idx, head_idx]"
   ]
  },
  {
   "cell_type": "code",
   "execution_count": null,
   "id": "fe14b5a7-0ee7-4012-a4c7-eed69576a93d",
   "metadata": {},
   "outputs": [],
   "source": [
    "pos_by_pos_scores = W_pos @ W_Q @ W_K @ W_pos.T"
   ]
  },
  {
   "cell_type": "code",
   "execution_count": null,
   "id": "c925e94c-0ee2-409a-a7c5-52ad34058efe",
   "metadata": {},
   "outputs": [],
   "source": [
    "d_head = model.cfg.d_head"
   ]
  },
  {
   "cell_type": "code",
   "execution_count": null,
   "id": "40e26653-d84e-499c-8643-aa9baba2bef1",
   "metadata": {},
   "outputs": [],
   "source": [
    "def mask_scores(scores):\n",
    "    masks = torch.triu(torch.ones_like(zeros))\n",
    "    return torch.where(mask == False, scores, -1e9)"
   ]
  },
  {
   "cell_type": "code",
   "execution_count": null,
   "id": "a6ac1001-b2c5-402c-9d47-a09fe26b8a6a",
   "metadata": {},
   "outputs": [],
   "source": [
    "masked_scale = pos_by_pos_scores / (d_head*0.5)"
   ]
  },
  {
   "cell_type": "code",
   "execution_count": null,
   "id": "9b1c4a01-e9f3-4779-b5a2-77c3e12108a0",
   "metadata": {},
   "outputs": [],
   "source": [
    "pos_by_pos_pattern = F.softmax(masked_scale, dim=-1)"
   ]
  },
  {
   "cell_type": "code",
   "execution_count": null,
   "id": "f3f56c29-134e-4906-8823-47a59cda1f5b",
   "metadata": {},
   "outputs": [],
   "source": [
    "x @ W_Q\n",
    "x = embed + pos_embed + sum(12 heads)"
   ]
  },
  {
   "cell_type": "code",
   "execution_count": null,
   "id": "6287fce3-1d26-47d3-b53c-ef02ecac081d",
   "metadata": {},
   "outputs": [],
   "source": []
  },
  {
   "cell_type": "code",
   "execution_count": 13,
   "id": "8ff1bfe6-f4c9-4a47-9b58-9dc2a76e1c35",
   "metadata": {
    "tags": []
   },
   "outputs": [],
   "source": [
    "from einops import reduce"
   ]
  },
  {
   "cell_type": "code",
   "execution_count": null,
   "id": "cece00b1-6a4c-4335-8bd4-be5b60fb8ae1",
   "metadata": {},
   "outputs": [],
   "source": [
    "induction_score = reduce(\n",
    "    induction_stripe,\n",
    "    \"n_heads seq_len -> n_heads\",\n",
    "    reduction=\"mean\"\n",
    ")"
   ]
  },
  {
   "cell_type": "code",
   "execution_count": null,
   "id": "16bf4d2d-76c0-4531-9884-dc1b5633e3c3",
   "metadata": {},
   "outputs": [],
   "source": [
    "W_E = model.W_E\n",
    "W_O = model.W_O[layer_idx, head_idx]\n",
    "W_V = model.W_V[layer_idx, head_idx]\n",
    "W_U = model.W_U"
   ]
  },
  {
   "cell_type": "code",
   "execution_count": null,
   "id": "c6c07cee-fe10-4fcd-bcec-7101a00fe027",
   "metadata": {},
   "outputs": [],
   "source": [
    "full_OV_circuit = W_E @ W_V @ W_O @ W_U"
   ]
  },
  {
   "cell_type": "code",
   "execution_count": null,
   "id": "b3b155c5-afe5-4c93-9003-277b1816e45f",
   "metadata": {},
   "outputs": [],
   "source": [
    "_, cache = model.run_with_cache(tokens)"
   ]
  },
  {
   "cell_type": "code",
   "execution_count": null,
   "id": "8e64ad0f-18ad-46ed-8297-99bcd91e4c17",
   "metadata": {},
   "outputs": [],
   "source": [
    "embed = cache[\"embed\"]"
   ]
  },
  {
   "cell_type": "code",
   "execution_count": null,
   "id": "98074cfa-e644-4017-afa7-4ffb862b8ff6",
   "metadata": {},
   "outputs": [],
   "source": [
    "W_U = model.W_U"
   ]
  },
  {
   "cell_type": "code",
   "execution_count": null,
   "id": "2e5961f3-6d84-45f2-a3c4-672e54d86ae4",
   "metadata": {},
   "outputs": [],
   "source": [
    "target_tokens = tokens[:1]"
   ]
  },
  {
   "cell_type": "code",
   "execution_count": null,
   "id": "0f7b3f53-483f-4b0a-98fc-b5dcbd20b90f",
   "metadata": {},
   "outputs": [],
   "source": [
    "embed_attributions = einsum(\n",
    "    embed,\n",
    "    W_U[:, target_tokens]\n",
    ")"
   ]
  },
  {
   "cell_type": "code",
   "execution_count": null,
   "id": "0e8d6d28-a1cc-4d4a-b070-eaa1f2a07613",
   "metadata": {},
   "outputs": [],
   "source": [
    "W_in = model.W_in"
   ]
  },
  {
   "cell_type": "code",
   "execution_count": null,
   "id": "40a5bbd1-06ed-4219-99e8-8548918af700",
   "metadata": {},
   "outputs": [],
   "source": [
    "input_direction = W_in[layer_idx, neuron_idx]"
   ]
  },
  {
   "cell_type": "code",
   "execution_count": null,
   "id": "f29b2d8f-2e88-40ad-ae18-f2e886464d50",
   "metadata": {},
   "outputs": [],
   "source": []
  },
  {
   "cell_type": "code",
   "execution_count": null,
   "id": "700928f9-f8aa-4036-a95d-25a921811393",
   "metadata": {},
   "outputs": [],
   "source": [
    "W_E = model.W_E\n",
    "W_Q = model.W_Q[1, 4]\n",
    "W_K = model.W_K[1, 4]\n",
    "W_O = model.W_O[0, 7]\n",
    "W_V = model.W_V[0, 7]"
   ]
  },
  {
   "cell_type": "code",
   "execution_count": null,
   "id": "0db0c5e3-3c86-4b0f-bf8c-7c5243df5b98",
   "metadata": {},
   "outputs": [],
   "source": [
    "Q = W_E @ W_Q\n",
    "K = W_E @ W_V @ W_O @ W_K"
   ]
  }
 ],
 "metadata": {
  "kernelspec": {
   "display_name": "Python 3 (ipykernel)",
   "language": "python",
   "name": "python3"
  },
  "language_info": {
   "codemirror_mode": {
    "name": "ipython",
    "version": 3
   },
   "file_extension": ".py",
   "mimetype": "text/x-python",
   "name": "python",
   "nbconvert_exporter": "python",
   "pygments_lexer": "ipython3",
   "version": "3.8.16"
  }
 },
 "nbformat": 4,
 "nbformat_minor": 5
}
