{
 "cells": [
  {
   "cell_type": "markdown",
   "id": "2c93acfd-8f96-4bb5-b6d1-04d9e8654762",
   "metadata": {},
   "source": [
    "### MechInterp"
   ]
  },
  {
   "cell_type": "code",
   "execution_count": 1,
   "id": "ac70a419-a377-4ab1-899a-307157d4b404",
   "metadata": {
    "tags": []
   },
   "outputs": [],
   "source": [
    "import torch\n",
    "from torch import nn\n",
    "import torch.nn.functional as F"
   ]
  },
  {
   "cell_type": "code",
   "execution_count": null,
   "id": "2be47a4f-86c6-4d4a-a583-73ae2eff9f84",
   "metadata": {},
   "outputs": [],
   "source": [
    "step 1: prob(0) = sigmoid(logit0 - logit1)\n",
    "step 2: logit0 = final_ln @ W_U[0], logit1 = final_ln @ W_U[1]\n",
    "step 3: logit0 - logit1 = final_ln @ W_U[0] - final_ln @ W_U[1]\n",
    "= final_ln @ (W_U[0] - W_U[1])\n",
    "step 4: decompose "
   ]
  },
  {
   "cell_type": "code",
   "execution_count": 2,
   "id": "72129569-ed26-423e-9998-4cff9c5ac1ab",
   "metadata": {
    "tags": []
   },
   "outputs": [],
   "source": [
    "from einops import einsum"
   ]
  },
  {
   "cell_type": "code",
   "execution_count": null,
   "id": "eb699866-3458-4630-8146-d5e897fd708d",
   "metadata": {},
   "outputs": [],
   "source": [
    "interference = einsum(\n",
    "    W, W,\n",
    "    \"instances feature1 dim, instances feature2 dim -> \\\n",
    "    instances feature1 feature2\"\n",
    ")"
   ]
  },
  {
   "cell_type": "code",
   "execution_count": null,
   "id": "86fb836a-ed35-48dc-ae8d-8fa2ac95df94",
   "metadata": {},
   "outputs": [],
   "source": [
    "(attn1 + attn2 + attn3) + bias"
   ]
  },
  {
   "cell_type": "code",
   "execution_count": null,
   "id": "f455c4fa-1483-4e31-85e5-ade48b01ac92",
   "metadata": {},
   "outputs": [],
   "source": [
    "more sparity, less occurence in training, pack more features"
   ]
  },
  {
   "cell_type": "code",
   "execution_count": null,
   "id": "d8b0b5ae-c9f6-4f7d-93fc-0555fddcf988",
   "metadata": {},
   "outputs": [],
   "source": [
    "(seq_len, vocab_size)"
   ]
  },
  {
   "cell_type": "code",
   "execution_count": null,
   "id": "bac21532-045c-4596-8f44-33dcd610e7e9",
   "metadata": {},
   "outputs": [],
   "source": [
    "W_in[:, i]"
   ]
  },
  {
   "cell_type": "code",
   "execution_count": null,
   "id": "3c0f93fb-bff2-4c4b-b638-8a1f19b261ab",
   "metadata": {},
   "outputs": [],
   "source": [
    "high sparity"
   ]
  },
  {
   "cell_type": "code",
   "execution_count": null,
   "id": "3794321c-c670-40d4-8b9c-13fddfe96653",
   "metadata": {},
   "outputs": [],
   "source": [
    "_, cache = model.run_with_cache(tokens)"
   ]
  },
  {
   "cell_type": "code",
   "execution_count": 3,
   "id": "066c3074-61d8-4625-879e-c616f71ffea4",
   "metadata": {
    "tags": []
   },
   "outputs": [],
   "source": [
    "from transformer_lens.utils import get_act_name"
   ]
  },
  {
   "cell_type": "code",
   "execution_count": null,
   "id": "5fb51f0f-d4ff-46e6-952d-293e4d4da714",
   "metadata": {},
   "outputs": [],
   "source": [
    "pos_embed = cache[\"pos_embed\"]\n",
    "embed = cache[\"embed\"]"
   ]
  },
  {
   "cell_type": "code",
   "execution_count": null,
   "id": "802ddef6-af82-44c5-8a69-9d69560b44e4",
   "metadata": {},
   "outputs": [],
   "source": [
    "head_names = [get_act_name(\"mlp_out\", layer_idx) for layer_idx in range(n_layers)]\n",
    "mlp_names = [get_act_name(\"result\", layer_idx) for layer_idx in range(n_layers)]"
   ]
  },
  {
   "cell_type": "code",
   "execution_count": null,
   "id": "3830793b-1005-4186-8a19-3d41458a8de0",
   "metadata": {},
   "outputs": [],
   "source": [
    "components = torch.cat([\n",
    "    components,\n",
    "    pos_embed, embed\n",
    "], dim=0)"
   ]
  },
  {
   "cell_type": "code",
   "execution_count": null,
   "id": "67bcefd5-019d-4813-a885-1d2eeaac32c1",
   "metadata": {},
   "outputs": [],
   "source": [
    "for head_name, mlp_name in zip(head_names, mlp_names):\n",
    "    components = torch.cat([\n",
    "        components, \n",
    "        cache[head_name],\n",
    "        cache[mlp_name]\n",
    "    ], dim=0)"
   ]
  },
  {
   "cell_type": "code",
   "execution_count": null,
   "id": "6ae73ccc-de91-47a1-89dc-b0bdd548ac34",
   "metadata": {},
   "outputs": [],
   "source": [
    "pre_ln_dir = final_ln_coefs.T @ cache[\"final_ln\"]"
   ]
  },
  {
   "cell_type": "code",
   "execution_count": 4,
   "id": "824e66ed-d240-4eb6-9b8d-80f3e9473554",
   "metadata": {
    "tags": []
   },
   "outputs": [],
   "source": [
    "from einops import einsum"
   ]
  },
  {
   "cell_type": "code",
   "execution_count": null,
   "id": "8d8aa3db-6603-4d25-b235-284e96d592a3",
   "metadata": {},
   "outputs": [],
   "source": [
    "contributions = einsum(\n",
    "    components,\n",
    "    pre_ln_dir,\n",
    "    \"\"\n",
    ")"
   ]
  },
  {
   "cell_type": "code",
   "execution_count": null,
   "id": "f99f1088-b8a3-4bf7-aca8-909419f3a0cf",
   "metadata": {},
   "outputs": [],
   "source": [
    "ReLU(x@W_in)@W_out\n",
    "\n",
    "\n",
    "sum over d_mlp neurons(ReLU(x@W_in[:, i])@W_out[i, :])"
   ]
  },
  {
   "cell_type": "code",
   "execution_count": null,
   "id": "46b6b160-7639-449e-8283-707dea4ebb06",
   "metadata": {},
   "outputs": [],
   "source": [
    "W_out[i, :]"
   ]
  },
  {
   "cell_type": "code",
   "execution_count": null,
   "id": "5498033e-7754-4836-bd26-31b53bd6e0da",
   "metadata": {},
   "outputs": [],
   "source": [
    "cache[\"attn\", 1]"
   ]
  },
  {
   "cell_type": "code",
   "execution_count": null,
   "id": "79104722-3f7c-4ecc-aa2e-7b979bbb8a24",
   "metadata": {},
   "outputs": [],
   "source": [
    "W_normalized = W / W.norm(dim=-1, keepdim=True)"
   ]
  },
  {
   "cell_type": "code",
   "execution_count": null,
   "id": "837a04aa-4260-4384-b0ca-6349e011488c",
   "metadata": {},
   "outputs": [],
   "source": [
    "W_normalize @ W_normalized.T"
   ]
  },
  {
   "cell_type": "code",
   "execution_count": null,
   "id": "8abb3f62-8f07-4a33-a3b8-c640de059c58",
   "metadata": {},
   "outputs": [],
   "source": [
    "local_rank, local_world_size, ProcessGroup, ranks in a group"
   ]
  },
  {
   "cell_type": "code",
   "execution_count": null,
   "id": "f8a49a57-a6d5-4846-a5e2-8172741f263b",
   "metadata": {},
   "outputs": [],
   "source": [
    "scheduler, control manager, api server, ectd"
   ]
  },
  {
   "cell_type": "code",
   "execution_count": null,
   "id": "d061a174-4ab7-4fb4-bdd9-a2f96c933e17",
   "metadata": {},
   "outputs": [],
   "source": [
    "int main() {\n",
    "    return 0;\n",
    "}"
   ]
  },
  {
   "cell_type": "code",
   "execution_count": null,
   "id": "e47a2e15-6ffa-4a0d-8493-0119f7394182",
   "metadata": {},
   "outputs": [],
   "source": [
    "def wait_stream(source_stream, target_stream):\n",
    "    if isinstance(target_stream, torch.cuda.Stream):\n",
    "        if isinstance(source_stream, torch.cuda.Stream):\n",
    "            # GPU waits for GPU\n",
    "            target_stream.wait_stream(source_stream)\n",
    "        else:\n",
    "            # CPU waits for GPU\n",
    "            target_stream.syncronous()\n",
    "            "
   ]
  },
  {
   "cell_type": "code",
   "execution_count": 5,
   "id": "78c613ba-0e7f-4207-9e32-1205ee6e8eef",
   "metadata": {
    "tags": []
   },
   "outputs": [],
   "source": [
    "class Wait(torch.autograd.Function):\n",
    "    @staticmethod\n",
    "    def forward(ctx, prev_stream, next_stream, input):\n",
    "        ctx.prev_stream = prev_stream\n",
    "        ctx.next_stream = next_stream\n",
    "        \n",
    "        next_stream.wait_stream(prev_stream)\n",
    "        \n",
    "        return input\n",
    "\n",
    "    @staticmethod\n",
    "    def backward(ctx, grad_input):\n",
    "        prev_stream = ctx.prev_stream\n",
    "        next_stream = ctx.next_stream\n",
    "        \n",
    "        prev_stream.wait_stream(next_stream)\n",
    "        \n",
    "        return None, None, grad_input"
   ]
  },
  {
   "cell_type": "code",
   "execution_count": null,
   "id": "4c44d7c8-7361-4a2c-804b-79eab992a98e",
   "metadata": {},
   "outputs": [],
   "source": [
    "max(clock_idx+1-n_microbatches, 0)"
   ]
  },
  {
   "cell_type": "code",
   "execution_count": null,
   "id": "046600e6-dc01-45c0-a8be-2cf24d4c7d40",
   "metadata": {},
   "outputs": [],
   "source": [
    "step 1: partitioning\n",
    "step 2: mini-batch -> microbatches\n",
    "step 3: cuda stream\n",
    "step 4: run\n",
    "step 5: gather the output of microbatches"
   ]
  },
  {
   "cell_type": "code",
   "execution_count": null,
   "id": "ccd7ef29-13ea-4c5b-ba83-7b049ba055d2",
   "metadata": {},
   "outputs": [],
   "source": [
    "step 1: global rank\n",
    "step 2: resize embedding size\n",
    "step 3: parallelize embedding, linear, attn, layer norm\n",
    "step 4: resize lm_head"
   ]
  },
  {
   "cell_type": "code",
   "execution_count": null,
   "id": "35142357-cf3a-4159-b557-13058eb33ef0",
   "metadata": {},
   "outputs": [],
   "source": [
    "message passing, p2p, collective"
   ]
  },
  {
   "cell_type": "code",
   "execution_count": null,
   "id": "942212af-d4be-4d8e-99d8-8ef0a68d283d",
   "metadata": {},
   "outputs": [],
   "source": [
    "logits = model(past_moves)"
   ]
  },
  {
   "cell_type": "code",
   "execution_count": null,
   "id": "bf056695-75d5-411c-8424-9f6df6d1c228",
   "metadata": {},
   "outputs": [],
   "source": [
    "log_probs = F.log_softmax(logits[0], dim=-1)"
   ]
  },
  {
   "cell_type": "code",
   "execution_count": null,
   "id": "ffda2052-3c4e-4880-8548-0475e28b5713",
   "metadata": {},
   "outputs": [],
   "source": [
    "board_states = torch.zeros(board_size*board_size)"
   ]
  },
  {
   "cell_type": "code",
   "execution_count": null,
   "id": "f9a44a90-144c-46ee-b09f-c5943cbab37d",
   "metadata": {},
   "outputs": [],
   "source": [
    "board_states[next_possible_moves] = log_probs"
   ]
  },
  {
   "cell_type": "code",
   "execution_count": 7,
   "id": "8ead5bd9-b598-40bf-8ac6-bf4efafee23d",
   "metadata": {
    "tags": []
   },
   "outputs": [],
   "source": [
    "class Function(torch.autograd.Function):\n",
    "    @staticmethod\n",
    "    def forward(ctx, input):\n",
    "        ctx.input = input\n",
    "        return input\n",
    "    \n",
    "    @staticmethod\n",
    "    def backward(ctx, grad_input):\n",
    "        return ctx.input"
   ]
  },
  {
   "cell_type": "code",
   "execution_count": 8,
   "id": "a193a62e-cc3d-4885-a286-48070dff4180",
   "metadata": {
    "tags": []
   },
   "outputs": [],
   "source": [
    "from einops import einsum"
   ]
  },
  {
   "cell_type": "code",
   "execution_count": null,
   "id": "d25aed9a-8306-4d94-90bc-77da6136c2bf",
   "metadata": {},
   "outputs": [],
   "source": [
    "einops_output = einsum(\n",
    "    x, y,\n",
    "    \"b c, b c\"\n",
    ")"
   ]
  },
  {
   "cell_type": "code",
   "execution_count": 10,
   "id": "37a8da9f-ee66-400c-911f-ef484b479317",
   "metadata": {
    "tags": []
   },
   "outputs": [],
   "source": [
    "def patch_resid(resid, feature, scale):\n",
    "    feature = feature / feature.norm(dim=-1)\n",
    "    projection = resid[0, position] @ feature\n",
    "    resid[0, position] -= scale * projection * feature\n",
    "    return resid"
   ]
  },
  {
   "cell_type": "code",
   "execution_count": null,
   "id": "0c3dfa0c-5d87-49fd-8773-2183fb0a559b",
   "metadata": {},
   "outputs": [],
   "source": [
    "hook_name = get_act_name(\"resid_post\", layer_idx)"
   ]
  },
  {
   "cell_type": "code",
   "execution_count": null,
   "id": "211e54ca-6385-4445-baf1-40f2c2219aac",
   "metadata": {},
   "outputs": [],
   "source": [
    "_, patched_logits = model.run_with_hooks(\n",
    "    past_moves,\n",
    "    fwd_hooks=[(hook_name, patch_resid)]\n",
    ")"
   ]
  },
  {
   "cell_type": "code",
   "execution_count": null,
   "id": "a725219b-e13f-4114-b6c9-5413e169b626",
   "metadata": {},
   "outputs": [],
   "source": [
    "log_probs = F.log_softmax(patched_logits[0, -1], dim=-1)"
   ]
  },
  {
   "cell_type": "code",
   "execution_count": null,
   "id": "a2d4c98b-d0ef-4667-8e2c-b49bafc8e937",
   "metadata": {},
   "outputs": [],
   "source": [
    "step 1: history\n",
    "step 2: "
   ]
  },
  {
   "cell_type": "code",
   "execution_count": null,
   "id": "7fd287b3-5ba1-4943-9985-095f33ef2302",
   "metadata": {},
   "outputs": [],
   "source": [
    "induction_stripe = "
   ]
  },
  {
   "cell_type": "code",
   "execution_count": null,
   "id": "487a0487-f043-4917-9d75-3784603778e2",
   "metadata": {},
   "outputs": [],
   "source": [
    "text_similarities = text_embeddings @ text_embeddings.T\n",
    "image_similarities = image_embeddings @ image_embeddings.T"
   ]
  },
  {
   "cell_type": "code",
   "execution_count": null,
   "id": "4852feaf-72c1-4ce9-842e-e34c802a7e89",
   "metadata": {},
   "outputs": [],
   "source": [
    "target = F.softmax(\n",
    "    (text_similarities + image_similarities) / (tempearture*2),\n",
    "    dim=-1b\n",
    ")"
   ]
  },
  {
   "cell_type": "code",
   "execution_count": 11,
   "id": "9ad373a4-f5bb-41b2-9d47-ff401be543e9",
   "metadata": {
    "tags": []
   },
   "outputs": [],
   "source": [
    "from torch.nn.utils import clip_grad_norm_"
   ]
  },
  {
   "cell_type": "code",
   "execution_count": null,
   "id": "c5e4a048-1cdf-4e9a-8ed9-2a9b7f8b94dd",
   "metadata": {},
   "outputs": [],
   "source": [
    "policy, value, q"
   ]
  }
 ],
 "metadata": {
  "kernelspec": {
   "display_name": "Python 3 (ipykernel)",
   "language": "python",
   "name": "python3"
  },
  "language_info": {
   "codemirror_mode": {
    "name": "ipython",
    "version": 3
   },
   "file_extension": ".py",
   "mimetype": "text/x-python",
   "name": "python",
   "nbconvert_exporter": "python",
   "pygments_lexer": "ipython3",
   "version": "3.8.16"
  }
 },
 "nbformat": 4,
 "nbformat_minor": 5
}
