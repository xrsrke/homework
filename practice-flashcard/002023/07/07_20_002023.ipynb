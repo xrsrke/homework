{
 "cells": [
  {
   "cell_type": "markdown",
   "id": "36bfa41e-7054-4d3a-a3da-7cf2ca7b5763",
   "metadata": {},
   "source": [
    "### MechInterp"
   ]
  },
  {
   "cell_type": "code",
   "execution_count": 1,
   "id": "bfc6bab3-3f62-4fa5-b097-f0acd74d8258",
   "metadata": {
    "tags": []
   },
   "outputs": [],
   "source": [
    "import torch\n",
    "from torch import nn\n",
    "import torch.nn.functional as F"
   ]
  },
  {
   "cell_type": "code",
   "execution_count": null,
   "id": "3b1d8f4f-c87b-40a9-8626-1993bba370c9",
   "metadata": {},
   "outputs": [],
   "source": [
    "clean_tokens = model.to_tokens(prompt)"
   ]
  },
  {
   "cell_type": "code",
   "execution_count": null,
   "id": "2d9793ba-9bea-4882-8f0d-b74bdd5ab250",
   "metadata": {},
   "outputs": [],
   "source": [
    "corrupted_prompt = \"A told B: 'Persistence is all you need.' C replied back to\""
   ]
  },
  {
   "cell_type": "code",
   "execution_count": null,
   "id": "952a898b-d3d0-4c03-a83f-4585c9ee1b77",
   "metadata": {},
   "outputs": [],
   "source": [
    "corrupted_tokens = model.to_tokens(corrupted_prompt)"
   ]
  },
  {
   "cell_type": "code",
   "execution_count": null,
   "id": "5a37c5b8-68d6-42d1-aa85-89410c89c641",
   "metadata": {},
   "outputs": [],
   "source": [
    "correct_token = model.to_single_token(\" John\")\n",
    "incorrect_token = model.to_single_token(\" Mary\")"
   ]
  },
  {
   "cell_type": "code",
   "execution_count": 2,
   "id": "0a5c041d-fab7-465d-b087-3496a5609b5e",
   "metadata": {
    "tags": []
   },
   "outputs": [],
   "source": [
    "from transformer_lens.utils import get_act_name"
   ]
  },
  {
   "cell_type": "code",
   "execution_count": null,
   "id": "a35ebe61-a68f-483e-a56e-7ad642de6d20",
   "metadata": {},
   "outputs": [],
   "source": [
    "hook_name = get_act_name(\"result\", 9)"
   ]
  },
  {
   "cell_type": "code",
   "execution_count": null,
   "id": "d048a669-f900-4f1c-af2e-a735260e45e7",
   "metadata": {},
   "outputs": [],
   "source": [
    "_, corrupted_activations = model.run_with_cache(\n",
    "    corrupted_tokens\n",
    ")"
   ]
  },
  {
   "cell_type": "code",
   "execution_count": null,
   "id": "e4e45e23-fce1-4308-8890-c0835fc7ccf2",
   "metadata": {},
   "outputs": [],
   "source": [
    "def patch_head(activations, hook):\n",
    "    activations[:, 6, :, :] = corrupted_activations[hook.name][:, 6, :, :]\n",
    "    return activations"
   ]
  },
  {
   "cell_type": "code",
   "execution_count": null,
   "id": "75a4e1bb-3c46-45d8-a523-74aeeac6c714",
   "metadata": {},
   "outputs": [],
   "source": [
    "_, patched_head_cache = model.run_with_cache(\n",
    "    tokens,\n",
    "    fwd_hooks=[(hook_name, patch_head)]\n",
    ")"
   ]
  },
  {
   "cell_type": "code",
   "execution_count": 3,
   "id": "2f9926cb-fd67-4446-970c-3e917e7b7dbc",
   "metadata": {
    "tags": []
   },
   "outputs": [],
   "source": [
    "def patch_receiver(activations, hook):\n",
    "    return patched_head_cache[hook.name]"
   ]
  },
  {
   "cell_type": "code",
   "execution_count": null,
   "id": "9d96aaee-0182-4b50-9556-c1f2f72d6b63",
   "metadata": {},
   "outputs": [],
   "source": [
    "patched_receiver_logits = model.run_with_hooks(\n",
    "    tokens,\n",
    "    fwd_hooks=[(receiver_hook_name, patch_receiver)]\n",
    ")"
   ]
  },
  {
   "cell_type": "code",
   "execution_count": 4,
   "id": "d1830a24-05d5-4601-ab88-e2b92a587ae3",
   "metadata": {
    "tags": []
   },
   "outputs": [],
   "source": [
    "def compute_logit_difference(logits, correct_token, incorrect_token):\n",
    "    last_token_logit = logits[:, -1, :]\n",
    "    return last_token_logit[correct_token] - last_token_logit[incorrect_token]"
   ]
  },
  {
   "cell_type": "code",
   "execution_count": null,
   "id": "5745aa9f-2b18-443a-a217-5bf96a17d749",
   "metadata": {},
   "outputs": [],
   "source": [
    "logit_diffence = compute_logit_difference(patched_receiver_logits, correct_token, incorrect_token)"
   ]
  },
  {
   "cell_type": "code",
   "execution_count": null,
   "id": "e5f3d48a-78d1-4fc3-841b-ea7ce1998893",
   "metadata": {},
   "outputs": [],
   "source": [
    "v_2@W_E@W_Q@[v_0, v_1]@W_K"
   ]
  },
  {
   "cell_type": "code",
   "execution_count": null,
   "id": "c660863f-7050-46ab-b66e-7a1506b619e7",
   "metadata": {},
   "outputs": [],
   "source": [
    "cache[\"hook_embed\"]"
   ]
  },
  {
   "cell_type": "code",
   "execution_count": 5,
   "id": "609f8cb6-6894-4d67-a9db-eb58aab5c42d",
   "metadata": {
    "tags": []
   },
   "outputs": [],
   "source": [
    "import plotly.graph_objects as go"
   ]
  },
  {
   "cell_type": "code",
   "execution_count": 6,
   "id": "8d2ce088-07ed-43f3-b5b3-98d28099d8d4",
   "metadata": {
    "tags": []
   },
   "outputs": [],
   "source": [
    "fig = go.Figure()"
   ]
  },
  {
   "cell_type": "code",
   "execution_count": null,
   "id": "b5232dab-601f-43a1-a2f1-8c9a1f70a0e5",
   "metadata": {},
   "outputs": [],
   "source": [
    "fig.add_trace(go.Scatter(x=df_stocks.date, y=df_stocks.AAPL))"
   ]
  },
  {
   "cell_type": "code",
   "execution_count": null,
   "id": "ebe61717-ab81-4462-8fff-c4cb0dd15753",
   "metadata": {},
   "outputs": [],
   "source": [
    "step 1:\n",
    "step 2: approximate "
   ]
  },
  {
   "cell_type": "code",
   "execution_count": null,
   "id": "6787d211-3c60-42c1-857c-ebb501544b2b",
   "metadata": {},
   "outputs": [],
   "source": [
    "step 1: rewrite the probs as logit difference\n",
    "step 2: decompose the logits\n",
    "step 3: calculate "
   ]
  },
  {
   "cell_type": "code",
   "execution_count": null,
   "id": "c0e2aeb6-e785-469e-a3a6-8ef7d7b1507b",
   "metadata": {},
   "outputs": [],
   "source": [
    "logits = model(past_moves)\n",
    "log_probs = F.log_probs(logits[:, -1, :], dim=-1)"
   ]
  },
  {
   "cell_type": "code",
   "execution_count": null,
   "id": "09f7f014-959d-4597-a349-9a9733b4d7b2",
   "metadata": {},
   "outputs": [],
   "source": [
    "board_state = torch.zeros(board_size*board_size)"
   ]
  },
  {
   "cell_type": "markdown",
   "id": "a22cbd38-fea3-4e4a-956a-23e216fe4b6f",
   "metadata": {},
   "source": [
    "step 1: 2 prompt, choose a component\n",
    "step 2: record all the interdimate activations\n",
    "step 3: patch the activations of the component\n",
    "step 4: compute the logit difference\n",
    "\n",
    "if the logit diff is low, it suggest the component encoded the similar thing, or model ___"
   ]
  },
  {
   "cell_type": "code",
   "execution_count": null,
   "id": "72175ce2-5482-4da2-bb04-78ee1e19fee3",
   "metadata": {},
   "outputs": [],
   "source": []
  },
  {
   "cell_type": "code",
   "execution_count": null,
   "id": "243ee1c7-c206-4fd3-be7f-9c53ce6f066f",
   "metadata": {},
   "outputs": [],
   "source": [
    "head_names = [get_act_name(\"result\", layer_idx) for layer_idx in range(n_layers)]\n",
    "mlp_names = [get_act_name(\"mlp_out\", layer_idx) for layer_idx in range(n_layers)]"
   ]
  },
  {
   "cell_type": "code",
   "execution_count": null,
   "id": "531f1f40-c825-43b7-a5ac-9e9dbd8acec6",
   "metadata": {},
   "outputs": [],
   "source": [
    "all_hook_names = [\"embed\", \"pos_embed\"] + head_names + mlp_names"
   ]
  },
  {
   "cell_type": "code",
   "execution_count": null,
   "id": "104f419d-d04a-4e77-8684-70a4c69be7b0",
   "metadata": {},
   "outputs": [],
   "source": [
    "_, cache = model.run_with_cache(\n",
    "    tokens,\n",
    "    names_filter=lambda x: x in all_hook_names\n",
    ")"
   ]
  },
  {
   "cell_type": "code",
   "execution_count": null,
   "id": "9686c283-64c7-4cdf-a6de-06b1aae58ac8",
   "metadata": {},
   "outputs": [],
   "source": [
    "input_components = torch.tensor([cache[\"embed\"] + cache[\"pos_embed\"]]).unsqueeze(0)"
   ]
  },
  {
   "cell_type": "code",
   "execution_count": null,
   "id": "06284e8c-af0c-4b69-a509-3163f1e32f30",
   "metadata": {},
   "outputs": [],
   "source": [
    "for head_name, mlp_name in zip(head_names, mlp_names):\n",
    "    input_components = torch.cat([\n",
    "        input_components,\n",
    "        cache[head_name],\n",
    "        cache[mlp_name]\n",
    "    ])"
   ]
  },
  {
   "cell_type": "code",
   "execution_count": null,
   "id": "1bd53710-fd23-4a07-a37f-dea362510453",
   "metadata": {},
   "outputs": [],
   "source": [
    "W_U = model.W_U\n",
    "logit_difference_direction = W_U[:, 0] - W_U[:, 1]"
   ]
  },
  {
   "cell_type": "code",
   "execution_count": null,
   "id": "5a1bf0f0-4267-4caf-a9e2-1d94d3b04bea",
   "metadata": {},
   "outputs": [],
   "source": [
    "pre_ln_direction = final_ln_coeffs.T @ logit_difference_direction"
   ]
  },
  {
   "cell_type": "code",
   "execution_count": 9,
   "id": "909ef70f-a6f6-46e3-9802-b4f774a37977",
   "metadata": {
    "tags": []
   },
   "outputs": [],
   "source": [
    "from einops import einsum"
   ]
  },
  {
   "cell_type": "code",
   "execution_count": null,
   "id": "06ab3e62-ab13-4d2a-9881-55bd06ccc3cb",
   "metadata": {},
   "outputs": [],
   "source": [
    "contributions = einsum(\n",
    "    input_components,\n",
    "    pre_ln_direction,\n",
    "    \"\"\n",
    ")"
   ]
  },
  {
   "cell_type": "markdown",
   "id": "c61766e9-28a7-414e-b828-582e797ea4e3",
   "metadata": {},
   "source": [
    "### Engineering"
   ]
  },
  {
   "cell_type": "code",
   "execution_count": null,
   "id": "bcb02a24-d349-4404-82b2-1bb5060dbfc5",
   "metadata": {},
   "outputs": [],
   "source": [
    "step 1: divide the loss with the number "
   ]
  },
  {
   "cell_type": "code",
   "execution_count": null,
   "id": "d170fc75-3394-45b6-9745-97e93352b27c",
   "metadata": {},
   "outputs": [],
   "source": [
    "ptr = (int*)malloc(69)"
   ]
  },
  {
   "cell_type": "markdown",
   "id": "61335f1b-ddb5-4e58-bd7c-ae583c32323c",
   "metadata": {},
   "source": [
    "step 1: replicate model\n",
    "step 2: split a mini-batch into micro-batches\n",
    "step 3: forward and backward pass\n",
    "step 4: average the gradients\n",
    "step 5: update all replicas's parameters with respect to the averaged gradient"
   ]
  },
  {
   "cell_type": "code",
   "execution_count": null,
   "id": "2f1316b0-0266-48e9-b2fa-225de05c89f1",
   "metadata": {},
   "outputs": [],
   "source": [
    "class Model(nn.Module):\n",
    "    def forward(self, x, labels):\n",
    "        preds = self.net(x)\n",
    "        loss = self.loss_func(preds, labels)\n",
    "        return loss"
   ]
  },
  {
   "cell_type": "code",
   "execution_count": 10,
   "id": "97061ad4-8d35-41d8-88b0-010e0f2d3a6e",
   "metadata": {
    "tags": []
   },
   "outputs": [],
   "source": [
    "import hmac\n",
    "import hashlib"
   ]
  },
  {
   "cell_type": "code",
   "execution_count": 11,
   "id": "2378141c-b829-4dbf-88c9-4164cff56360",
   "metadata": {
    "tags": []
   },
   "outputs": [],
   "source": [
    "def compute_digest(key, serialized_message):\n",
    "    return hmac.new(key, serialized_message, hashlib.sha256).digest()"
   ]
  },
  {
   "cell_type": "code",
   "execution_count": 12,
   "id": "375f3e91-3e00-4aeb-a66b-8c8cb28d2d2a",
   "metadata": {
    "tags": []
   },
   "outputs": [],
   "source": [
    "from torch.utils.data import Sampler"
   ]
  },
  {
   "cell_type": "code",
   "execution_count": null,
   "id": "ca3c1490-9b46-4174-80ad-32db162daf12",
   "metadata": {},
   "outputs": [],
   "source": [
    "class EvenSampler(Sampler):\n",
    "    def __init__(self, data):\n",
    "        super().__init__()\n",
    "        self.data = data\n",
    "    \n",
    "    def __iter__(self):\n",
    "        return iter([x for x in range(0, len(self.data), 2)])"
   ]
  },
  {
   "cell_type": "code",
   "execution_count": 13,
   "id": "5c5347fb-f8f6-4cc9-83e3-99e28562b7e7",
   "metadata": {
    "tags": []
   },
   "outputs": [],
   "source": [
    "import socketserver"
   ]
  },
  {
   "cell_type": "code",
   "execution_count": null,
   "id": "a316776e-352d-4bf4-97a0-5795c533cc91",
   "metadata": {},
   "outputs": [],
   "source": [
    "with socketserver.ThreadingTCPServer(\n",
    "    (MASTER_HOST, MASTER_PORT),\n",
    "    EchoRequestHandler\n",
    ") as server:\n",
    "    server.serve_forever()"
   ]
  },
  {
   "cell_type": "code",
   "execution_count": null,
   "id": "98b55b64-097f-4cfc-a7f8-940bf43ca9e9",
   "metadata": {},
   "outputs": [],
   "source": [
    "max(clock_idx+1, 0)"
   ]
  },
  {
   "cell_type": "code",
   "execution_count": null,
   "id": "9cd932cd-ab40-4757-9e87-32e818418afe",
   "metadata": {},
   "outputs": [],
   "source": [
    "step 1: approximate layer norm\n",
    "step 2: reverse transformation to obtain pre-layer norm\n",
    "step 3: preln @ W_U[0] - W_U[1]"
   ]
  },
  {
   "cell_type": "code",
   "execution_count": null,
   "id": "ba1a5ad8-f81d-4ed6-bf40-6a5491ed3487",
   "metadata": {},
   "outputs": [],
   "source": [
    "cache[\"hook_embed\"]"
   ]
  },
  {
   "cell_type": "code",
   "execution_count": null,
   "id": "655d5694-7a32-4ae5-b48a-8397413286e7",
   "metadata": {},
   "outputs": [],
   "source": [
    "W_normalized = W_ W.norm(keepdim=True)"
   ]
  },
  {
   "cell_type": "code",
   "execution_count": null,
   "id": "fad06a56-3a17-40f3-9938-eb47918f6ece",
   "metadata": {},
   "outputs": [],
   "source": [
    "similarities = W_normalized @ W_normalized.T"
   ]
  },
  {
   "cell_type": "code",
   "execution_count": null,
   "id": "bafe6910-42af-45e4-9e90-0575ddeb7341",
   "metadata": {},
   "outputs": [],
   "source": [
    "step 1: prob as logit diff\n",
    "step 2: decompose logit\n",
    "step 3: logit diff direction\n",
    "step 4: project each component to logit diff direction"
   ]
  },
  {
   "cell_type": "code",
   "execution_count": null,
   "id": "77f84edd-a146-45e8-aa34-b5039488e435",
   "metadata": {},
   "outputs": [],
   "source": [
    "W_QK^{1, 4}@W_OV_{0, 7}"
   ]
  },
  {
   "cell_type": "code",
   "execution_count": null,
   "id": "f76f2656-79de-41aa-8042-661bb6080757",
   "metadata": {},
   "outputs": [],
   "source": []
  },
  {
   "cell_type": "markdown",
   "id": "4c4d8868-622f-465c-b00b-e4a20a3a98e4",
   "metadata": {},
   "source": [
    "embed + pos_embed + attn00 + attn01 + mlp0 + \n",
    "\n",
    "+ attn10 + attn11 + mlp1"
   ]
  },
  {
   "cell_type": "code",
   "execution_count": null,
   "id": "c9d48ab0-00b1-43da-96cb-b3ef8f944c67",
   "metadata": {},
   "outputs": [],
   "source": [
    "tokens = model.to_tokens(text)"
   ]
  },
  {
   "cell_type": "code",
   "execution_count": null,
   "id": "77db9be5-a68c-4798-b3f5-49df1be6c721",
   "metadata": {},
   "outputs": [],
   "source": [
    "_, cache = model.run_with_cache(tokens)"
   ]
  },
  {
   "cell_type": "code",
   "execution_count": null,
   "id": "1be15516-be54-492c-85db-e9ec3f85d2fb",
   "metadata": {},
   "outputs": [],
   "source": [
    "embed = cache[\"embed\"]\n",
    "pos_embed = cache[\"pos_embed\"]\n",
    "heads = cache[\"result\", layer_idx-1]"
   ]
  },
  {
   "cell_type": "code",
   "execution_count": null,
   "id": "ac3f1e31-46f0-4451-94d0-70b039b64b0e",
   "metadata": {},
   "outputs": [],
   "source": [
    "input_components = torch.cat([\n",
    "    embed, \n",
    "    pos_embed,\n",
    "    heads\n",
    "], dim=0)"
   ]
  },
  {
   "cell_type": "code",
   "execution_count": null,
   "id": "32fe6259-17a6-44b6-95e1-ac641aff84dc",
   "metadata": {},
   "outputs": [],
   "source": [
    "W_Q = model.W_Q[layer_idx, head_idx]\n",
    "query_components = einsum(\n",
    "    input_components,\n",
    "    W_Q,\n",
    "    \"\"\n",
    ")"
   ]
  },
  {
   "cell_type": "code",
   "execution_count": null,
   "id": "781f563c-dd3f-49d9-b09f-1a2880c7946f",
   "metadata": {},
   "outputs": [],
   "source": [
    "W_K = model.W_K[layer_idx, head_idx]\n",
    "key_components = einsum(\n",
    "    input_components,\n",
    "    W_K\n",
    ")"
   ]
  },
  {
   "cell_type": "code",
   "execution_count": null,
   "id": "e3f57b2c-d635-4ddc-bdf9-0349343cdefb",
   "metadata": {},
   "outputs": [],
   "source": [
    "decomposed_scores = einsum(\n",
    "    query_components,\n",
    "    key_components,\n",
    "      \n",
    ")"
   ]
  },
  {
   "cell_type": "code",
   "execution_count": 14,
   "id": "d3887d07-ca47-4aa1-972f-8b1169466284",
   "metadata": {
    "tags": []
   },
   "outputs": [],
   "source": [
    "from einops import reduce"
   ]
  },
  {
   "cell_type": "code",
   "execution_count": null,
   "id": "33ce82f2-751c-42b0-b768-7976f99a13d3",
   "metadata": {},
   "outputs": [],
   "source": [
    "induction_score = reduce(\n",
    "    induction_stripe,\n",
    "    \"head_idx seq_len -> head_idx\",\n",
    "    reduction=\"mean\"\n",
    ")"
   ]
  },
  {
   "cell_type": "code",
   "execution_count": null,
   "id": "527b3e32-45af-45de-af72-2ca31c87ec5c",
   "metadata": {},
   "outputs": [],
   "source": [
    "correct_token = model.to_single_token(correct_token)\n",
    "incorrect_token = model.to_single_token(incorrect_token)"
   ]
  },
  {
   "cell_type": "code",
   "execution_count": null,
   "id": "b70b2614-6d28-409e-ae57-6d921176570c",
   "metadata": {},
   "outputs": [],
   "source": [
    "tokens = model.to_tokens(prompt)"
   ]
  },
  {
   "cell_type": "code",
   "execution_count": null,
   "id": "2d4267bc-d2e0-4a5d-8eb2-f05d578cb6d9",
   "metadata": {},
   "outputs": [],
   "source": [
    "logits = model(tokens)\n",
    "logits = logits[:, -1, :]"
   ]
  },
  {
   "cell_type": "code",
   "execution_count": null,
   "id": "029c6c2a-8057-4070-92bc-d9109cd9d1a3",
   "metadata": {},
   "outputs": [],
   "source": [
    "diff = logits[:, correct_token] - logits[:, incorrect_token]"
   ]
  },
  {
   "cell_type": "code",
   "execution_count": null,
   "id": "a7054e13-fa04-490d-98a7-56f52ba163f9",
   "metadata": {},
   "outputs": [],
   "source": [
    "step 1: x = embed + pos_embed + sum(12 heads)\n",
    "step 2: query=x@W_Q, key=x@W_K\n",
    "step 3: query = [embed + pos_embed + sum(12 heads)]@W_Q\n",
    "step 4: 14 x 14"
   ]
  },
  {
   "cell_type": "code",
   "execution_count": null,
   "id": "4a1014fe-7774-45d0-bf7b-20494049b10d",
   "metadata": {},
   "outputs": [],
   "source": [
    "step 1: prob(0) = logit0 - logit1\n",
    "step 2: logit0 = final_ln @ W_U[0], logit1 = final_ln @ W_U[1]\n",
    "step 3: logit0 - logit1 = final_ln @ W_U[0] - final_ln @ W_U[1]\n",
    "\n",
    "final_ln @ (W_U[0] - W_U[1])"
   ]
  },
  {
   "cell_type": "markdown",
   "id": "c31714ad-ca71-45e9-9368-ef62d00e9f2d",
   "metadata": {},
   "source": [
    "### Engineering"
   ]
  },
  {
   "cell_type": "code",
   "execution_count": null,
   "id": "6bb26a1f-8262-4cb0-af72-e16e79c948aa",
   "metadata": {},
   "outputs": [],
   "source": [
    "max(clock_idx+1-n_microbatches, 0)"
   ]
  },
  {
   "cell_type": "code",
   "execution_count": null,
   "id": "714f0cb4-bc12-4ec6-84f2-2832048d1574",
   "metadata": {},
   "outputs": [],
   "source": [
    "hash function, key, data "
   ]
  },
  {
   "cell_type": "code",
   "execution_count": null,
   "id": "ea7457c6-b385-41b2-8193-60e76bad2d1e",
   "metadata": {},
   "outputs": [],
   "source": [
    "step 1: normalize the loss based on the n_epoch\n",
    "step 2: calculate the gradients with respect to the normalized loss\n",
    "step 3: sum of the gradient\n",
    "step 4: if the current epoch == , then update, if not, repeat step 1"
   ]
  },
  {
   "cell_type": "code",
   "execution_count": null,
   "id": "87b2360b-f478-4e04-a0be-bf288ea63a1d",
   "metadata": {},
   "outputs": [],
   "source": []
  },
  {
   "cell_type": "code",
   "execution_count": null,
   "id": "5b39e8fa-f76f-452e-8d85-4f928101a90b",
   "metadata": {},
   "outputs": [],
   "source": [
    "class JustCreatedException(Exception):\n",
    "    def __init__(self, message):\n",
    "        pass"
   ]
  },
  {
   "cell_type": "code",
   "execution_count": null,
   "id": "6a25d02d-4ea9-4d26-b959-f0560128e391",
   "metadata": {},
   "outputs": [],
   "source": [
    "filter()"
   ]
  },
  {
   "cell_type": "code",
   "execution_count": null,
   "id": "c81c2ecc-866c-4ddd-adab-08858776e28e",
   "metadata": {},
   "outputs": [],
   "source": [
    "docker run postgres:4.3"
   ]
  },
  {
   "cell_type": "code",
   "execution_count": null,
   "id": "b355de7f-4222-4aa7-8daf-8a0f2e5d9bac",
   "metadata": {},
   "outputs": [],
   "source": [
    "a, b, c = numbers"
   ]
  },
  {
   "cell_type": "markdown",
   "id": "56d3f6c9-a84c-424d-b4c8-6df227caf1c2",
   "metadata": {},
   "source": [
    "### x"
   ]
  },
  {
   "cell_type": "code",
   "execution_count": 16,
   "id": "951b91fc-094f-4d12-8b7c-6067bfc0d2b5",
   "metadata": {
    "tags": []
   },
   "outputs": [],
   "source": [
    "def probability_scores(image_embedding, text_embedding):\n",
    "    image_norm = image_embedding.norm(dim=0, keepdim=True)\n",
    "    text_norm = text_embedding.norm(dim=0, keepdim=True)\n",
    "    \n",
    "    image_embedding = image_embedding / image_norm\n",
    "    text_embedding = text_embedding / text_norm\n",
    "    \n",
    "    probs = F.softmax(\n",
    "        image_embedding @ text_embedding.T,\n",
    "        dim=-1\n",
    "    )\n",
    "    \n",
    "    return probs"
   ]
  },
  {
   "cell_type": "code",
   "execution_count": null,
   "id": "8805d994-6f94-488b-8764-76aa7ab02eb1",
   "metadata": {},
   "outputs": [],
   "source": [
    "target = F.softmax(\n",
    "    (text_embedding + image_embedding) / (2*temperature),\n",
    "    dim=-1\n",
    ")"
   ]
  },
  {
   "cell_type": "code",
   "execution_count": 17,
   "id": "ff1f3a93-8de2-4f33-b933-498ecb370240",
   "metadata": {
    "tags": []
   },
   "outputs": [],
   "source": [
    "from einops import rearrange"
   ]
  },
  {
   "cell_type": "code",
   "execution_count": 18,
   "id": "94a9473d-516c-4b20-b355-8a1a5fc9aa74",
   "metadata": {
    "tags": []
   },
   "outputs": [],
   "source": [
    "def compute_loss(model, xb, yb):\n",
    "    preds = model(xb)\n",
    "    \n",
    "    preds = rearrange(preds, \"bs seq_len d_model -> (bs seq_len) d_model\")\n",
    "    yb = rearrange(yb, \"bs seq_len -> (bs seq_len)\")\n",
    "    \n",
    "    loss = F.cross_entropy(preds, yb)\n",
    "    return loss"
   ]
  },
  {
   "cell_type": "code",
   "execution_count": 19,
   "id": "09db892e-405c-4640-bfd7-ac7781368175",
   "metadata": {
    "tags": []
   },
   "outputs": [],
   "source": [
    "class ShortcutProject(nn.Module):\n",
    "    def __init__(self, in_channels, out_channels, stride):\n",
    "        super().__init__()\n",
    "        self.net = nn.Sequential(\n",
    "            nn.Conv2d(\n",
    "                in_channels, out_channels,\n",
    "                kernel_size=1, stride=stride\n",
    "            ),\n",
    "            nn.BatchNorm2d(out_channels)\n",
    "        )\n",
    "    \n",
    "    def forward(self, x):\n",
    "        return self.net(x)"
   ]
  },
  {
   "cell_type": "code",
   "execution_count": 21,
   "id": "c8971eb0-6c90-4fd4-800d-6054e5fe18f6",
   "metadata": {
    "tags": []
   },
   "outputs": [],
   "source": [
    "class SelfAttention(nn.Module):\n",
    "    def __init__(self, d_head):\n",
    "        super().__init__()\n",
    "        self.d_head = d_head\n",
    "    \n",
    "    def forward(self, q, k, v, mask=None):\n",
    "        k = k.permute(-2, -1)\n",
    "        scores = torch.matmul(q, k) / (self.d_head**0.5)\n",
    "        \n",
    "        if mask is not None:\n",
    "            scores = scores.masked_fill(mask==True, -1e9)\n",
    "        \n",
    "        attn_pattern = F.softmax(scores, dim=-1)\n",
    "        output = torch.matmul(attn_patterns, v)\n",
    "        return output, attn_pattern"
   ]
  },
  {
   "cell_type": "code",
   "execution_count": null,
   "id": "7d743b50-4824-402f-a98e-d6924d91d340",
   "metadata": {},
   "outputs": [],
   "source": []
  },
  {
   "cell_type": "code",
   "execution_count": 22,
   "id": "e9f6e5bf-a896-4276-bb48-b31da6fc63ac",
   "metadata": {
    "tags": []
   },
   "outputs": [],
   "source": [
    "class BatchNorm(nn.Module):\n",
    "    def __init__(self, mom, eps):\n",
    "        super().__init__()\n",
    "        self.mom, self.eps = mom, eps\n",
    "        self.adds = nn.Parameter(torch.zeros(1))\n",
    "        self.mults = nn.Parameter(torch.ones(1))\n",
    "        self.register_buffer(\"mean\", torch.zeros(1))\n",
    "        self.register_buffer(\"var\", torch.ones(1))\n",
    "    \n",
    "    def update_stats(self, x):\n",
    "        mean = x.mean(keepdim=True)\n",
    "        var = x.var(keepdim=True)\n",
    "        \n",
    "        self.mean.lerp_(mean, self.mom)\n",
    "        self.var.lerp_(var, self.mom)\n",
    "        \n",
    "        return mean, var\n",
    "\n",
    "    def forward(self, x):\n",
    "        with torch.no_grad():\n",
    "            mean, var = self.update_stats(x)\n",
    "        \n",
    "        x = (x-mean)/(var+self.eps)\n",
    "        x = self.adds + self.mults*x\n",
    "        return x"
   ]
  },
  {
   "cell_type": "code",
   "execution_count": null,
   "id": "be059c11-21aa-470d-b611-c9e0f792406a",
   "metadata": {},
   "outputs": [],
   "source": [
    "(first_part @ filter1).sum() + (first_part @ filter2).sum()"
   ]
  },
  {
   "cell_type": "code",
   "execution_count": null,
   "id": "4844f019-353d-4c64-9ffe-d7b4dec9cac6",
   "metadata": {},
   "outputs": [],
   "source": [
    "image_similarity = image_embedding @ image_embedding.T\n",
    "text_similartity = text_embedding @ text_embedding.T"
   ]
  },
  {
   "cell_type": "code",
   "execution_count": null,
   "id": "37ec4720-3270-481f-ba15-2992688893f8",
   "metadata": {},
   "outputs": [],
   "source": [
    "targets = F.softmax(\n",
    "    (image_similarity + text_similarity) / (temperature*2),\n",
    "    dim=-1\n",
    ")"
   ]
  },
  {
   "cell_type": "code",
   "execution_count": 23,
   "id": "da18b46d-94cd-4067-9a38-13a2ed53f2b6",
   "metadata": {
    "tags": []
   },
   "outputs": [],
   "source": [
    "from torch.nn.utils import clip_grad_norm_"
   ]
  },
  {
   "cell_type": "code",
   "execution_count": null,
   "id": "9a5c6053-c577-4450-8641-41a529c70c23",
   "metadata": {},
   "outputs": [],
   "source": []
  },
  {
   "cell_type": "code",
   "execution_count": null,
   "id": "9620da19-a043-49ed-81e7-de6f37d41282",
   "metadata": {},
   "outputs": [],
   "source": [
    "hidden_states = output[\"hidden_states\"][-1]"
   ]
  },
  {
   "cell_type": "code",
   "execution_count": null,
   "id": "523c91a3-fa25-4dab-b1d2-771270b0c707",
   "metadata": {},
   "outputs": [],
   "source": [
    "state, _ = env.reset()\n",
    "\n",
    "for _ in range(10):\n",
    "    action = env.action_space.sample()\n",
    "    "
   ]
  },
  {
   "cell_type": "code",
   "execution_count": 24,
   "id": "0cb37fef-970d-4d1b-9a2f-14285e011346",
   "metadata": {
    "tags": []
   },
   "outputs": [],
   "source": [
    "from einops import rearrange"
   ]
  },
  {
   "cell_type": "code",
   "execution_count": null,
   "id": "601f066c-f115-43a3-a7d3-605afeb37806",
   "metadata": {},
   "outputs": [],
   "source": [
    "output = rearrange(\n",
    "    images,\n",
    "    \"b c (n_height p_height) (n_width p_width) ->\\\n",
    "    b (n_height n_width) (p_height p_width c)\n",
    "    \"\n",
    ")"
   ]
  },
  {
   "cell_type": "code",
   "execution_count": null,
   "id": "27b0bb78-cad4-4293-9ffd-9d387dc0fb3c",
   "metadata": {},
   "outputs": [],
   "source": []
  },
  {
   "cell_type": "code",
   "execution_count": null,
   "id": "568a87af-f2fb-4f95-b3f2-4ab9ad37eb0f",
   "metadata": {},
   "outputs": [],
   "source": [
    "log_prob = dist.log_prob(action)"
   ]
  },
  {
   "cell_type": "code",
   "execution_count": 25,
   "id": "1c40ee84-fa05-43e0-91a2-52223c43b1ef",
   "metadata": {
    "tags": []
   },
   "outputs": [],
   "source": [
    "from transformers import AutoTokenizer"
   ]
  },
  {
   "cell_type": "code",
   "execution_count": null,
   "id": "af5b5e1c-ebb2-4c3c-b088-5506b98c4882",
   "metadata": {},
   "outputs": [],
   "source": [
    "desired reward, past states, actions"
   ]
  },
  {
   "cell_type": "code",
   "execution_count": 26,
   "id": "43ff23fa-cda4-4be7-802d-f8586c21d8e4",
   "metadata": {
    "tags": []
   },
   "outputs": [],
   "source": [
    "from torch.nn.utils import clip_grad_norm_"
   ]
  },
  {
   "cell_type": "code",
   "execution_count": null,
   "id": "4058a770-128a-4df7-affe-dc66744f4c06",
   "metadata": {},
   "outputs": [],
   "source": [
    "clip_grad_norm_(param_1, max_norm=GRAD_CLIP_NORM)"
   ]
  },
  {
   "cell_type": "code",
   "execution_count": null,
   "id": "273be80a-f26c-4f84-98e0-0a429d4c996c",
   "metadata": {},
   "outputs": [],
   "source": [
    "policy network, value, q- funciton"
   ]
  },
  {
   "cell_type": "code",
   "execution_count": null,
   "id": "4620ee17-daab-48d6-b898-5fcecf796c01",
   "metadata": {},
   "outputs": [],
   "source": [
    "for _ in range(10):\n",
    "    action = env.action_space.sample()\n",
    "    env.step(action)"
   ]
  },
  {
   "cell_type": "code",
   "execution_count": null,
   "id": "f75bd1b1-f05e-47cb-828f-acfb646fcbcc",
   "metadata": {},
   "outputs": [],
   "source": [
    "x.repeat((2, 2))"
   ]
  },
  {
   "cell_type": "code",
   "execution_count": null,
   "id": "89ff4ed1-e763-4701-89e6-893e0da89bcf",
   "metadata": {},
   "outputs": [],
   "source": [
    "stream = torch.cuda.Stream(device)"
   ]
  },
  {
   "cell_type": "code",
   "execution_count": null,
   "id": "3c31dccf-8804-4fa7-b366-6cd008d5c9ec",
   "metadata": {},
   "outputs": [],
   "source": [
    "with torch.cuda.device(device):\n",
    "    with torch.cuda.stream(stream):\n",
    "        mean = xs.mean()"
   ]
  },
  {
   "cell_type": "code",
   "execution_count": 27,
   "id": "d4fa05e7-5a20-4f68-a7d7-6e1d5a40b1b7",
   "metadata": {
    "tags": []
   },
   "outputs": [],
   "source": [
    "from torch.utils.data import DataLoader, random_split"
   ]
  },
  {
   "cell_type": "code",
   "execution_count": null,
   "id": "88c8abb8-8118-4d5b-b304-20ac0221c6a6",
   "metadata": {},
   "outputs": [],
   "source": [
    "train_set"
   ]
  },
  {
   "cell_type": "code",
   "execution_count": null,
   "id": "828101ee-da07-4194-b8ec-1bc2d1a640db",
   "metadata": {},
   "outputs": [],
   "source": []
  },
  {
   "cell_type": "code",
   "execution_count": 29,
   "id": "b9627cdd-3300-4758-909b-cf7ae33b9305",
   "metadata": {
    "tags": []
   },
   "outputs": [],
   "source": [
    "from torch.utils.data import DataLoader, random_split"
   ]
  },
  {
   "cell_type": "code",
   "execution_count": null,
   "id": "a3d4195d-229c-4001-acfd-ff68b965ab00",
   "metadata": {},
   "outputs": [],
   "source": [
    "train_data, valid_data = random_split(dataset, lengths=[(6, 4)])"
   ]
  },
  {
   "cell_type": "code",
   "execution_count": null,
   "id": "5b832fa5-20d5-4362-9e57-b46a4bb3defa",
   "metadata": {},
   "outputs": [],
   "source": [
    "train_loader = DataLoader(train_data, batch_size=2)\n",
    "valid_loader = DataLoader(valid_data, batch_size=2)"
   ]
  },
  {
   "cell_type": "code",
   "execution_count": null,
   "id": "15d0d7a7-ba43-46b3-a90e-6ed10c1d257f",
   "metadata": {},
   "outputs": [],
   "source": [
    "x[:, s:, 2]"
   ]
  },
  {
   "cell_type": "code",
   "execution_count": 30,
   "id": "a03f5061-7118-4588-b536-8158a6085359",
   "metadata": {
    "tags": []
   },
   "outputs": [],
   "source": [
    "from einops import repeat"
   ]
  },
  {
   "cell_type": "code",
   "execution_count": null,
   "id": "da4ea76e-e14a-49a3-adad-ff55d420e56f",
   "metadata": {},
   "outputs": [],
   "source": [
    "output = repeat(output, \"h w -> h w n\", n=2)"
   ]
  },
  {
   "cell_type": "code",
   "execution_count": null,
   "id": "e84f163e-e9ab-4732-aefb-a0f905099837",
   "metadata": {},
   "outputs": [],
   "source": [
    "def by_row_parallelism(inputs, weights):\n",
    "    inp_size = inputs.shape[-1] // 2\n",
    "    weight_size = weights.shape[0] // 2\n",
    "    inp1, inp2 = inputs[:, :inp_size], inputs[:, inp_size:]\n",
    "    w1, w2 = weights[:weight_size, :], weights[weight_size:, :]\n",
    "    \n",
    "    out1 = torch.matmul(inp1, w1)\n",
    "    out2 = torch.matmul(inp2, w2)\n",
    "    \n",
    "    return out1 + out2"
   ]
  },
  {
   "cell_type": "code",
   "execution_count": 31,
   "id": "3cd1e1b2-b113-470e-b1fc-59954f8a1136",
   "metadata": {
    "tags": []
   },
   "outputs": [],
   "source": [
    "import torch.distributed.rpc as rpc"
   ]
  },
  {
   "cell_type": "code",
   "execution_count": null,
   "id": "a5feb959-e3ad-4033-b871-6ca89e37f2e5",
   "metadata": {},
   "outputs": [],
   "source": [
    "rpc.rpc_sync(\n",
    "    to=agent_rref.owner(),\n",
    "    func=agent_rref.rpc_sync().init,\n",
    "    args=(\"hello\",)\n",
    ")"
   ]
  },
  {
   "cell_type": "code",
   "execution_count": 32,
   "id": "082e8b24-dc85-4cc5-b304-cc0645b60f84",
   "metadata": {
    "tags": []
   },
   "outputs": [],
   "source": [
    "from torch.distributed.rpc import RRef"
   ]
  },
  {
   "cell_type": "code",
   "execution_count": 33,
   "id": "59362f94-2f5e-4c4f-af5c-cbc51437aa80",
   "metadata": {
    "tags": []
   },
   "outputs": [],
   "source": [
    "class Agent:\n",
    "    def __init__(self):\n",
    "        self.id = RRef(self)"
   ]
  },
  {
   "cell_type": "code",
   "execution_count": null,
   "id": "620e4183-b9e0-4d97-ae05-22964f4f9afd",
   "metadata": {},
   "outputs": [],
   "source": [
    "class Observer(env):\n",
    "    def __init__(self):\n",
    "        self.id = rpc.\n",
    "    \n",
    "    def run_episode(self, agent_rref):\n",
    "        for _ in range(69):\n",
    "            rpc.rpc_sync(\n",
    "                to=agent_rref.owner(),\n",
    "                func=agent_rref.rpc_sync().select_action,\n",
    "                args=(self.id, state)\n",
    "            )"
   ]
  }
 ],
 "metadata": {
  "kernelspec": {
   "display_name": "Python 3 (ipykernel)",
   "language": "python",
   "name": "python3"
  },
  "language_info": {
   "codemirror_mode": {
    "name": "ipython",
    "version": 3
   },
   "file_extension": ".py",
   "mimetype": "text/x-python",
   "name": "python",
   "nbconvert_exporter": "python",
   "pygments_lexer": "ipython3",
   "version": "3.8.16"
  }
 },
 "nbformat": 4,
 "nbformat_minor": 5
}
