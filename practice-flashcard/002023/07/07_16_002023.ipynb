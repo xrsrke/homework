{
 "cells": [
  {
   "cell_type": "markdown",
   "id": "71fdd488-26cb-4a8e-a0bd-48d3f2dc1a49",
   "metadata": {},
   "source": [
    "### Engineering"
   ]
  },
  {
   "cell_type": "code",
   "execution_count": 1,
   "id": "72028895-16b2-43df-836a-bcf17489e2c7",
   "metadata": {
    "tags": []
   },
   "outputs": [],
   "source": [
    "from functools import wraps"
   ]
  },
  {
   "cell_type": "code",
   "execution_count": 3,
   "id": "23346292-3d92-4e7c-a26d-c0c8e136e0c2",
   "metadata": {
    "tags": []
   },
   "outputs": [],
   "source": [
    "def my_decorator(func):\n",
    "    @wraps\n",
    "    def wrapper():\n",
    "        return func()\n",
    "    return wrapper"
   ]
  },
  {
   "cell_type": "code",
   "execution_count": null,
   "id": "d09c086d-c242-433e-a83a-1263ca04fb39",
   "metadata": {},
   "outputs": [],
   "source": [
    "typedef int age_type; "
   ]
  },
  {
   "cell_type": "code",
   "execution_count": 4,
   "id": "3b986eab-00b8-415a-87b5-07f9abe66a21",
   "metadata": {
    "tags": []
   },
   "outputs": [],
   "source": [
    "from torch.utils.data import Sampler"
   ]
  },
  {
   "cell_type": "code",
   "execution_count": 5,
   "id": "af3f0877-8880-4ef2-8166-d74cb2165676",
   "metadata": {
    "tags": []
   },
   "outputs": [],
   "source": [
    "class EventSampler(Sampler):\n",
    "    def __init__(self, data):\n",
    "        super().__init__()\n",
    "        self.data = data\n",
    "    \n",
    "    def __iter__(self):\n",
    "        return [x for x in range(0, len(self.data), 2)]"
   ]
  },
  {
   "cell_type": "code",
   "execution_count": 6,
   "id": "d8e58222-c9aa-47d8-934c-0ba65ec63ff0",
   "metadata": {
    "tags": []
   },
   "outputs": [],
   "source": [
    "tensor_model_parallel_size = 2"
   ]
  },
  {
   "cell_type": "code",
   "execution_count": 10,
   "id": "8f9e0154-2238-468d-a7c8-a1297d774f5d",
   "metadata": {
    "tags": []
   },
   "outputs": [],
   "source": [
    "num_tensor_model_parallel_groups = 8"
   ]
  },
  {
   "cell_type": "code",
   "execution_count": 11,
   "id": "5345c2bc-7e3c-4312-8a92-7e58dfbcaebb",
   "metadata": {
    "tags": []
   },
   "outputs": [
    {
     "ename": "NameError",
     "evalue": "name 'torch' is not defined",
     "output_type": "error",
     "traceback": [
      "\u001b[0;31m---------------------------------------------------------------------------\u001b[0m",
      "\u001b[0;31mNameError\u001b[0m                                 Traceback (most recent call last)",
      "Cell \u001b[0;32mIn[11], line 1\u001b[0m\n\u001b[0;32m----> 1\u001b[0m rank \u001b[38;5;241m=\u001b[39m \u001b[43mtorch\u001b[49m\u001b[38;5;241m.\u001b[39mdistributed\u001b[38;5;241m.\u001b[39mget_rank()\n",
      "\u001b[0;31mNameError\u001b[0m: name 'torch' is not defined"
     ]
    }
   ],
   "source": [
    "rank = torch.distributed.get_rank()"
   ]
  },
  {
   "cell_type": "code",
   "execution_count": 13,
   "id": "9841d0d3-0266-47fd-b541-3de6cc272cc9",
   "metadata": {
    "tags": []
   },
   "outputs": [
    {
     "name": "stdout",
     "output_type": "stream",
     "text": [
      "[0, 1]\n",
      "[2, 3]\n",
      "[4, 5]\n",
      "[6, 7]\n",
      "[8, 9]\n",
      "[10, 11]\n",
      "[12, 13]\n",
      "[14, 15]\n"
     ]
    }
   ],
   "source": [
    "for i in range(num_tensor_model_parallel_groups):\n",
    "    ranks = list(range(\n",
    "        i*tensor_model_parallel_size,\n",
    "        (i+1)*tensor_model_parallel_size\n",
    "    ))\n",
    "    \n",
    "    print(ranks)"
   ]
  },
  {
   "cell_type": "code",
   "execution_count": null,
   "id": "fd3d287d-2294-4eaf-806f-4a4f552be51d",
   "metadata": {},
   "outputs": [],
   "source": [
    "int* h_a, int* h_b, int* h_c;"
   ]
  },
  {
   "cell_type": "code",
   "execution_count": null,
   "id": "4ca9bf83-6c5a-4635-8f1a-cf1c1badfea9",
   "metadata": {},
   "outputs": [],
   "source": [
    "size_t bytes = sizeof(int)*n;"
   ]
  },
  {
   "cell_type": "code",
   "execution_count": null,
   "id": "abf7f8fa-9639-436b-9160-d32873292dc8",
   "metadata": {},
   "outputs": [],
   "source": [
    "h_a = (int*)malloc(bytes)\n",
    "h_b = (int*)malloc(bytes)\n",
    "h_c = (int*)malloc(bytes)"
   ]
  },
  {
   "cell_type": "code",
   "execution_count": 15,
   "id": "5ff1b23a-c7d1-44a8-903e-15a1557fcdcb",
   "metadata": {
    "tags": []
   },
   "outputs": [],
   "source": [
    "import copy"
   ]
  },
  {
   "cell_type": "code",
   "execution_count": null,
   "id": "dab7e8a7-dedb-46bf-af03-66c0bb32c66f",
   "metadata": {},
   "outputs": [],
   "source": [
    "class ModelStateHandler:\n",
    "    def __init__(self, model):\n",
    "        self.value = model\n",
    "        self._model_state_dict = copy.deepcopy(\n",
    "            model.state_dict()\n",
    "        )\n",
    "        \n",
    "    def commit(self):\n",
    "        self._model_state_dict = copy.deepcopy(\n",
    "            model.state_dict()\n",
    "        )\n",
    "    \n",
    "    def restore(self):\n",
    "        self.value.load_state_dict(self._model_state_dict)\n",
    "    \n",
    "    def set_value(self, value):\n",
    "        self.value = value"
   ]
  },
  {
   "cell_type": "code",
   "execution_count": 14,
   "id": "aa52df0d-2558-42b1-8062-8387ed3a29c2",
   "metadata": {
    "tags": []
   },
   "outputs": [],
   "source": [
    "def get_handler(v):\n",
    "    for handler_type, handler_cls in handler_registry:\n",
    "        if isinstance(v, handler_cls):\n",
    "            return handler_cls(v)\n",
    "    return None"
   ]
  },
  {
   "cell_type": "code",
   "execution_count": null,
   "id": "1c1b9af2-3218-4bb3-827d-a08890a6afe2",
   "metadata": {},
   "outputs": [],
   "source": [
    "def get_handlers(states):\n",
    "    handlers = {}\n",
    "    remainders = {}\n",
    "    \n",
    "    for k, v in states:\n",
    "        handler = get_handler(v)\n",
    "        if handler is None:\n",
    "            remainders[k] = v\n",
    "        else:\n",
    "            handlers[k] = handler\n",
    "    return handlers, remainders"
   ]
  },
  {
   "cell_type": "code",
   "execution_count": null,
   "id": "1016efc1-62a3-4b70-900b-89f8ef57914d",
   "metadata": {},
   "outputs": [],
   "source": [
    "step 1: elastic driver spots a change in worker nodes\n",
    "step 2: then"
   ]
  },
  {
   "cell_type": "code",
   "execution_count": null,
   "id": "aa25e42d-a17a-4aa9-946a-7ea9053697fc",
   "metadata": {},
   "outputs": [],
   "source": [
    "new > ready > running > blocked > terminated"
   ]
  },
  {
   "cell_type": "code",
   "execution_count": null,
   "id": "65f36f1e-edff-41f7-b988-27acd04cf63c",
   "metadata": {},
   "outputs": [],
   "source": [
    "step 1: "
   ]
  },
  {
   "cell_type": "code",
   "execution_count": null,
   "id": "a53c6114-5192-4eaa-b337-6b0334cc5665",
   "metadata": {},
   "outputs": [],
   "source": [
    "step 1: allocate a chunk of continous memory\n",
    "step 2: load\n",
    "step 3: read/write\n",
    "step 4: "
   ]
  },
  {
   "cell_type": "code",
   "execution_count": 16,
   "id": "fa4e67e2-e700-4232-8a9e-0fc77de19aac",
   "metadata": {
    "tags": []
   },
   "outputs": [],
   "source": [
    "import copy"
   ]
  },
  {
   "cell_type": "code",
   "execution_count": 17,
   "id": "ce13e855-5898-4d0c-a46b-0fb653cbb61d",
   "metadata": {
    "tags": []
   },
   "outputs": [],
   "source": [
    "class RegularState:\n",
    "    def __init__(self, states):\n",
    "        self.states = states\n",
    "        for name, value in states:\n",
    "            setattr(self, name, value)\n",
    "        self._saved_states = copy.deepcopy(states)\n",
    "    \n",
    "    def commit(self):\n",
    "        new_states = {}\n",
    "        \n",
    "        for name in self._saved_states.key():\n",
    "            new_states[name] = getattr(self, name)\n",
    "        self._saved_states = new_states\n",
    "    \n",
    "    def restore(self):\n",
    "        for name, value in self._saved_states:\n",
    "            setattr(self, name, value)"
   ]
  },
  {
   "cell_type": "code",
   "execution_count": null,
   "id": "cd454f35-26ef-42ab-98d2-794a83b0e545",
   "metadata": {},
   "outputs": [],
   "source": [
    "class State(RegularState):\n",
    "    def __init__(self, model, optim, **kwargs):\n",
    "        kwargs.update({\n",
    "            \"model\": model,\n",
    "            \"optim\": optim\n",
    "        })\n",
    "        handlers, remainders = get_handlers(kwargs)\n",
    "        \n",
    "        RegularState.__init__(self, remainders)\n",
    "        \n",
    "        self._handlers = handlers\n",
    "        for name, handler in handlers:\n",
    "            setattr(self, name, handler)\n",
    "    \n",
    "    def commit(self):\n",
    "        for handler in self._handlers:\n",
    "            handler.commit()\n",
    "        RegularState.commit(self)\n",
    "    \n",
    "    def restore(self):\n",
    "        for handler in self._handlers:\n",
    "            handler.restore()\n",
    "        RegularState().restore(self)"
   ]
  },
  {
   "cell_type": "code",
   "execution_count": 18,
   "id": "32da374c-56d4-4c11-bcdf-f567763c73a1",
   "metadata": {
    "tags": []
   },
   "outputs": [],
   "source": [
    "import torch\n",
    "from torch import nn\n",
    "import torch.nn.functional as F"
   ]
  },
  {
   "cell_type": "code",
   "execution_count": null,
   "id": "b04d26a6-2c9d-44bc-b05e-8e3be3bdc143",
   "metadata": {},
   "outputs": [],
   "source": [
    "def split_modules(model, balances, devices):\n",
    "    layers = {}\n",
    "    partrition_idx = 0\n",
    "    partritions = []\n",
    "    \n",
    "    for name, layer in model.named_children():\n",
    "        layers[name] = layer\n",
    "        \n",
    "        if len(layers) == balances[partrition_idx]:\n",
    "            partrition = nn.Sequential(**layers)\n",
    "            partrition.to(devices[partrition_idx])\n",
    "            partritions.append(partrition)\n",
    "            layers.clear()\n",
    "    \n",
    "    return partritions"
   ]
  },
  {
   "cell_type": "code",
   "execution_count": 19,
   "id": "12a984d5-1add-45cb-aa2d-7812e60fd09e",
   "metadata": {
    "tags": []
   },
   "outputs": [],
   "source": [
    "def create_continuous_memory(memory_size):\n",
    "    n_numbers = memory_size // 4\n",
    "    return torch.randn(n_numbers, dtype=torch.float32)"
   ]
  },
  {
   "cell_type": "code",
   "execution_count": null,
   "id": "a8ce9649-d822-4a60-b602-66f64b5f0510",
   "metadata": {},
   "outputs": [],
   "source": [
    "between micro-batches in the same partrition\n",
    "checkpoint"
   ]
  },
  {
   "cell_type": "code",
   "execution_count": null,
   "id": "d2e44ca6-4844-41d9-9b49-fa7f781d0026",
   "metadata": {},
   "outputs": [],
   "source": [
    "record_stream: no perform any new opera"
   ]
  },
  {
   "cell_type": "code",
   "execution_count": null,
   "id": "f4eb4e0a-9cf8-4989-8e0c-cc616731a9d0",
   "metadata": {},
   "outputs": [],
   "source": [
    "new > ready > running > blocked > terminated"
   ]
  },
  {
   "cell_type": "markdown",
   "id": "6d00a8c8-355a-4478-8705-099b29288c8e",
   "metadata": {},
   "source": [
    "### MechInterp"
   ]
  },
  {
   "cell_type": "code",
   "execution_count": null,
   "id": "e2943e0e-4546-4668-99ea-3f731b996c54",
   "metadata": {},
   "outputs": [],
   "source": [
    "logits = model(past_moves)\n",
    "log_probs = torch.log_softmax(logits[:, -1, :], dim=-1)"
   ]
  },
  {
   "cell_type": "code",
   "execution_count": null,
   "id": "2a308934-5901-468d-93c1-64c43904ec8e",
   "metadata": {},
   "outputs": [],
   "source": [
    "board_states = torch.zeros(board_size*board_size)"
   ]
  },
  {
   "cell_type": "code",
   "execution_count": null,
   "id": "0ce06dd0-7976-4904-a974-35ebcc1abeaf",
   "metadata": {},
   "outputs": [],
   "source": [
    "board_states[next_possible_moves] = log_probs"
   ]
  },
  {
   "cell_type": "code",
   "execution_count": null,
   "id": "c69e3f74-e057-45ac-81d3-175e70f8ad19",
   "metadata": {},
   "outputs": [],
   "source": []
  },
  {
   "cell_type": "code",
   "execution_count": null,
   "id": "41d49c10-d115-4d6c-8ad5-6394c7286579",
   "metadata": {},
   "outputs": [],
   "source": [
    "step 1: resid = embed(tokens) + pos_embed(tokens)\n",
    "step 2: resid = blocks(resid)\n",
    "step 3: resid = final_ln(resid)\n",
    "step 4: logits = unembed(resid)"
   ]
  },
  {
   "cell_type": "code",
   "execution_count": null,
   "id": "27f1b241-55c3-4f09-a46f-4f9c32e9eb0e",
   "metadata": {},
   "outputs": [],
   "source": [
    "handlers = []\n",
    "\n",
    "for hook in hooks:\n",
    "    handlers = model.fn_ln.register_forward_pre_hooks(hook)"
   ]
  },
  {
   "cell_type": "code",
   "execution_count": null,
   "id": "2b0cc7fc-9d02-4926-b925-395bbc1035fc",
   "metadata": {},
   "outputs": [],
   "source": [
    "handler[1].remove()"
   ]
  },
  {
   "cell_type": "code",
   "execution_count": null,
   "id": "00fb2f85-fd2a-421c-89f2-de07baedcc8e",
   "metadata": {},
   "outputs": [],
   "source": [
    "prob0 = sigmoid(logit0 - logit1)\n",
    "\n",
    "logit0 >\n",
    "\n",
    "logit  "
   ]
  },
  {
   "cell_type": "code",
   "execution_count": null,
   "id": "4de7f645-2b20-4c25-b4dc-6a377eee2320",
   "metadata": {},
   "outputs": [],
   "source": [
    "attn_pattern @ W_V @ W_O "
   ]
  },
  {
   "cell_type": "code",
   "execution_count": null,
   "id": "e7919a59-e2dc-48fc-8c4e-b90dd131f437",
   "metadata": {},
   "outputs": [],
   "source": [
    "query=persistence, key=padding\n",
    "\n",
    "mask anything else"
   ]
  },
  {
   "cell_type": "code",
   "execution_count": null,
   "id": "5ce31ab4-982e-4262-9b48-f86d95a80f8e",
   "metadata": {},
   "outputs": [],
   "source": [
    "W_in @ W_out"
   ]
  },
  {
   "cell_type": "markdown",
   "id": "f82fc892-a81c-4a87-aeb9-b8985afb9e1d",
   "metadata": {},
   "source": [
    "step 1: approximate non-linear parts if possible\n",
    "step 2: probs -> logit difference\n",
    "step 3: decompose logits\n",
    "step 4: project the output of individual components to unembed"
   ]
  },
  {
   "cell_type": "code",
   "execution_count": 20,
   "id": "33298b9b-0d20-4e2e-84f2-610f0bf73ca4",
   "metadata": {
    "tags": []
   },
   "outputs": [],
   "source": [
    "from einops import reduce"
   ]
  },
  {
   "cell_type": "code",
   "execution_count": null,
   "id": "6952e49d-6297-4e88-b367-a530201b2456",
   "metadata": {},
   "outputs": [],
   "source": [
    "induction_score = reduce(\n",
    "    induction_stripe,\n",
    "    \"head_idx seq_len -> head_idx\",\n",
    "    reduction=\"mean\"\n",
    ")"
   ]
  },
  {
   "cell_type": "code",
   "execution_count": null,
   "id": "c1ce0936-aa59-46e3-8c8c-94d6ee2a6a8c",
   "metadata": {},
   "outputs": [],
   "source": [
    "MLP(Attn(x@W_E))@W_U"
   ]
  },
  {
   "cell_type": "markdown",
   "id": "48b13ed3-a6b1-4f76-afa9-99305af40ee5",
   "metadata": {},
   "source": [
    "output = embed + pos_embed + layer1 + layer2\n",
    "layer1 = attn00 + attn01 + mlp0\n",
    "\n",
    "output = embed + pos_embed + attn00 + attn01 + mlp0 + att10 + attn11 + mlp1"
   ]
  },
  {
   "cell_type": "code",
   "execution_count": null,
   "id": "6181615d-c4d3-47ae-80e9-3e6e37433f61",
   "metadata": {},
   "outputs": [],
   "source": [
    "logits = model(past_moves)"
   ]
  },
  {
   "cell_type": "code",
   "execution_count": null,
   "id": "40e7f4df-0425-417c-9043-3e64bd4a5f4e",
   "metadata": {},
   "outputs": [],
   "source": [
    "log_probs = torch.log_softmax(logits[:, -1, :], dim=-1)"
   ]
  },
  {
   "cell_type": "code",
   "execution_count": null,
   "id": "3c0c9fda-8f76-4c2e-a095-b6b03f62aa58",
   "metadata": {},
   "outputs": [],
   "source": [
    "board_state = torch.zeros(board_size*board_size)\n",
    "board_state[next_possibe_moves] = log_probs"
   ]
  },
  {
   "cell_type": "code",
   "execution_count": null,
   "id": "30707fed-1a14-498a-aa0a-b6b3ffd6c323",
   "metadata": {},
   "outputs": [],
   "source": [
    "_, cache = model.to_tokens(tokens)"
   ]
  },
  {
   "cell_type": "code",
   "execution_count": null,
   "id": "ac00f018-0813-40c8-91df-bbbbd89fe2b7",
   "metadata": {},
   "outputs": [],
   "source": [
    "embed = cache[\"embed\"]\n",
    "pos_embed = cache[\"pos_embed\"]\n",
    "head_outputs = cache[\"result\", layer_idx-1]"
   ]
  },
  {
   "cell_type": "code",
   "execution_count": null,
   "id": "96218087-3688-4438-88c2-b0b77b229c8d",
   "metadata": {},
   "outputs": [],
   "source": [
    "input_components = torch.cat([\n",
    "    embed, pos_embed, head_outputs\n",
    "], dim=0)"
   ]
  },
  {
   "cell_type": "code",
   "execution_count": 21,
   "id": "3d615ac6-89fe-4dba-bd4d-5b8cb1561c10",
   "metadata": {
    "tags": []
   },
   "outputs": [],
   "source": [
    "from einops import einsum"
   ]
  },
  {
   "cell_type": "code",
   "execution_count": null,
   "id": "bc60073c-5171-4681-9f1a-6106213c085c",
   "metadata": {},
   "outputs": [],
   "source": [
    "W_Q = model.W_Q\n",
    "query_components = einsum(\n",
    "    input_components,\n",
    "    W_Q,\n",
    "    \"\"\n",
    ")"
   ]
  },
  {
   "cell_type": "code",
   "execution_count": null,
   "id": "1c4e2180-d9c9-4248-94c5-89726ba2ad74",
   "metadata": {},
   "outputs": [],
   "source": [
    "W_K = model.W_K\n",
    "key_components = einsum(\n",
    "    input_components,\n",
    "    W_K,\n",
    "    \"\"\n",
    ")"
   ]
  },
  {
   "cell_type": "code",
   "execution_count": null,
   "id": "b673311b-1b38-4a1e-99c5-cb2075f054fe",
   "metadata": {},
   "outputs": [],
   "source": [
    "decomposed_attention_scores = einsum(\n",
    "    query_components,\n",
    "    key_components,\n",
    "    \"\"\n",
    ")"
   ]
  },
  {
   "cell_type": "code",
   "execution_count": null,
   "id": "e0f57a41-7985-47a1-a6c2-40d1b337d2d1",
   "metadata": {},
   "outputs": [],
   "source": [
    "W_E@W_QK^{1, 4}@W_OV^{0, 7}@W_E.T"
   ]
  },
  {
   "cell_type": "code",
   "execution_count": 22,
   "id": "0762de79-0765-4225-9cd8-5b9c75597d7b",
   "metadata": {
    "tags": []
   },
   "outputs": [],
   "source": [
    "tensor_model_parallel_size = 2"
   ]
  },
  {
   "cell_type": "code",
   "execution_count": 23,
   "id": "cb127653-26e9-4c68-903c-6c84e9e251f2",
   "metadata": {
    "tags": []
   },
   "outputs": [],
   "source": [
    "num_tensor_model_parallel_groups = 8"
   ]
  },
  {
   "cell_type": "code",
   "execution_count": null,
   "id": "1ab7e799-7397-4078-b4ce-ab74629d54f2",
   "metadata": {},
   "outputs": [],
   "source": [
    "for i in range(num_tensor_model_parallel_groups):\n",
    "    ranks = "
   ]
  },
  {
   "cell_type": "code",
   "execution_count": 24,
   "id": "5136ede9-a398-4af5-be22-8835ebc3c2ef",
   "metadata": {
    "tags": []
   },
   "outputs": [],
   "source": [
    "def create_one_hot(idx, length):\n",
    "    x = torch.zeros(length)\n",
    "    x[idx] = 1.\n",
    "    return x"
   ]
  },
  {
   "cell_type": "code",
   "execution_count": null,
   "id": "7e47ebb5-fba5-40eb-af8b-87fbf1d3f6e8",
   "metadata": {},
   "outputs": [],
   "source": [
    "target = create_one_hot(3, 5)"
   ]
  },
  {
   "cell_type": "code",
   "execution_count": null,
   "id": "3555d42d-1df9-457a-b4a9-fa7388603a29",
   "metadata": {},
   "outputs": [],
   "source": [
    "target @ latent_factors.T"
   ]
  },
  {
   "cell_type": "code",
   "execution_count": 26,
   "id": "2a96c055-8b1e-4101-ad1d-6ae3b15b00fa",
   "metadata": {
    "tags": []
   },
   "outputs": [],
   "source": [
    "class BatchNorm(nn.Module):\n",
    "    def __init__(self, mom, eps):\n",
    "        super().__init__()\n",
    "        self.mom = mom\n",
    "        self.eps = eps\n",
    "        self.adds = nn.Parameter(torch.zeros(1))\n",
    "        self.mults = nn.Parameter(torch.ones(1))\n",
    "        self.register_buffer(\"mean\", torch.zeros(1))\n",
    "        self.register_buffer(\"var\", torch.ones(1))\n",
    "    \n",
    "    def update_stats(self, x):\n",
    "        mean = x.mean(dim=0)\n",
    "        var = x.var()\n",
    "        \n",
    "        self.mean.lerp_(mean, self.mom)\n",
    "        self.var.lerp_(var, self.mom)\n",
    "        return mean, var\n",
    "    \n",
    "    def forward(self, x):\n",
    "        with torch.no_grad():\n",
    "            mean, var = self.update_stats(x)\n",
    "        \n",
    "        x = (x-mean)/(var+self.eps).sqrt()\n",
    "        x = self.adds + self.mults*x\n",
    "        return x"
   ]
  },
  {
   "cell_type": "code",
   "execution_count": null,
   "id": "1d7c2c29-0232-4487-9e7c-deaaa27308e1",
   "metadata": {},
   "outputs": [],
   "source": [
    "text encoder, image, encoder, projection head"
   ]
  },
  {
   "cell_type": "code",
   "execution_count": null,
   "id": "68c98323-5e61-429e-9d5f-62ea6bad1bf7",
   "metadata": {},
   "outputs": [],
   "source": [
    "for param in model.parameters():\n",
    "    param.requires_grad = False"
   ]
  },
  {
   "cell_type": "code",
   "execution_count": null,
   "id": "8b96c4f9-07bf-42cc-a56e-609925ade9b1",
   "metadata": {},
   "outputs": [],
   "source": [
    "model.classifier[6] = nn.Linear(4096, 10)"
   ]
  },
  {
   "cell_type": "code",
   "execution_count": null,
   "id": "4e531305-c3e3-4cdd-9a6f-f754d39465fa",
   "metadata": {},
   "outputs": [],
   "source": [
    "for param model.classfier[6].parameters():\n",
    "    param.requires_grad = True"
   ]
  },
  {
   "cell_type": "code",
   "execution_count": null,
   "id": "f5854b77-c96d-4ec3-b9af-217a164364f3",
   "metadata": {},
   "outputs": [],
   "source": [
    "def probability_scores(image_embedding, text_embedding):\n",
    "    image_norm = image_embedding.norm()\n",
    "    image_embedding = image_embedding / image_norm\n",
    "    \n",
    "    text_norm = text_embedding.norm()\n",
    "    text_embedding = text_embedding / text_norm\n",
    "    \n",
    "    similarities = image_embedding @ text_embedding.T\n",
    "    probs = torch.softmax(\n",
    "        similarities, dim=-1\n",
    "    )\n",
    "    return probs"
   ]
  },
  {
   "cell_type": "code",
   "execution_count": null,
   "id": "d75a955b-65d0-45f2-b6fa-ac4e2036928e",
   "metadata": {},
   "outputs": [],
   "source": [
    "p, d, i, n"
   ]
  },
  {
   "cell_type": "code",
   "execution_count": 27,
   "id": "ab2468c8-e708-4b7a-9abc-a1d055035c34",
   "metadata": {
    "tags": []
   },
   "outputs": [],
   "source": [
    "class PositionalEncoding(nn.Module):\n",
    "    def __init__(self, n, d_model):\n",
    "        super().__init__()\n",
    "        self.n = n\n",
    "        self.d_model = d_model\n",
    "    \n",
    "    def forward(self, tokens):\n",
    "        n = self.n\n",
    "        d_model = self.d.model\n",
    "        \n",
    "        seq_len = len(tokens)\n",
    "        embeddings = torch.zeros(seq_len, d_model)\n",
    "        \n",
    "        for p in range(seq_len):\n",
    "            for i in range(d_model):\n",
    "                denominator = torch.pow(\n",
    "                    n, (2*i)/d_model\n",
    "                )\n",
    "                embeddings[p][i] = torch.sin(p/denominator) if i%2==0 else torch.cos(p/denominator)\n",
    "        return embeddings"
   ]
  },
  {
   "cell_type": "code",
   "execution_count": null,
   "id": "8438b302-0a2e-4c09-8eca-5995b47594c4",
   "metadata": {},
   "outputs": [],
   "source": [
    "class BottleneckResdualBlock"
   ]
  },
  {
   "cell_type": "code",
   "execution_count": 28,
   "id": "323d3b6d-6c8a-4db5-83f1-3b8b39e7e7a2",
   "metadata": {
    "tags": []
   },
   "outputs": [],
   "source": [
    "class ShortcutProjection(nn.Module):\n",
    "    def __init__(self, in_channels, out_channels, stride):\n",
    "        super().__init__()\n",
    "        self.net = nn.Sequential(\n",
    "            nn.Conv2d(in_channels, out_channels, stride),\n",
    "            nn.BatchNorm2d(out_channels)\n",
    "        )\n",
    "    \n",
    "    def forward(self, x):\n",
    "        return self.net(x)"
   ]
  },
  {
   "cell_type": "code",
   "execution_count": null,
   "id": "2fa44f72-ddaf-416d-9514-412bf9eca73a",
   "metadata": {},
   "outputs": [],
   "source": []
  },
  {
   "cell_type": "code",
   "execution_count": null,
   "id": "fcf00742-c3b6-4f9a-8796-1e233b22ba84",
   "metadata": {},
   "outputs": [],
   "source": [
    "first_part"
   ]
  },
  {
   "cell_type": "code",
   "execution_count": null,
   "id": "160ec089-9e06-41d5-917c-e5d2aae8206f",
   "metadata": {},
   "outputs": [],
   "source": [
    "step 1: \n",
    "step 2: query=(embed+pos_embed+12heads)@W_Q"
   ]
  },
  {
   "cell_type": "code",
   "execution_count": null,
   "id": "e8e77949-bd3c-41df-9986-5205b671ba68",
   "metadata": {},
   "outputs": [],
   "source": [
    "n_features = 5"
   ]
  },
  {
   "cell_type": "code",
   "execution_count": null,
   "id": "05fe3595-a952-46d7-ad74-365989eac523",
   "metadata": {},
   "outputs": [],
   "source": [
    "interference[\n",
    "    torch.arange(n_features),\n",
    "    torch.arange(n_features)\n",
    "] = 0"
   ]
  },
  {
   "cell_type": "code",
   "execution_count": null,
   "id": "8d3def04-7a53-46a2-b972-1fc495d8850d",
   "metadata": {},
   "outputs": [],
   "source": [
    "induction_heads = [(6, 9), (4, 2)]"
   ]
  },
  {
   "cell_type": "code",
   "execution_count": null,
   "id": "ef5d3912-14ef-477d-9c55-bf6d5928f7ea",
   "metadata": {},
   "outputs": [],
   "source": [
    "tokens = model.to_tokens(repeated_text)\n",
    "_, cache = model.run_with_cache(tokens)"
   ]
  },
  {
   "cell_type": "code",
   "execution_count": 29,
   "id": "aa2766a4-a0a7-4f93-aefd-de74b4e8bdf1",
   "metadata": {
    "tags": []
   },
   "outputs": [],
   "source": [
    "from transformer_lens.utils import get_act_name"
   ]
  },
  {
   "cell_type": "code",
   "execution_count": 30,
   "id": "f31415a2-5a93-4688-b6b9-566ef5fa5e67",
   "metadata": {
    "tags": []
   },
   "outputs": [],
   "source": [
    "attn_patterns = []"
   ]
  },
  {
   "cell_type": "code",
   "execution_count": null,
   "id": "be3effc0-63e2-4b8b-aa45-14cde683f578",
   "metadata": {},
   "outputs": [],
   "source": [
    "for head_idx, layer_idx in induction_heads:\n",
    "    pattern = cache[\"attn\", layer_idx][:, head_idx]\n",
    "    attn_patterns.append(pattern)"
   ]
  },
  {
   "cell_type": "code",
   "execution_count": null,
   "id": "b07ae8d8-7109-4c78-81e3-1a8025553d90",
   "metadata": {},
   "outputs": [],
   "source": [
    "W_E@W_QK^{1, 4}@W_OV{0, 7}@W_E.T"
   ]
  },
  {
   "cell_type": "code",
   "execution_count": null,
   "id": "8034ac09-c9c3-4136-b2ae-1623cc982413",
   "metadata": {},
   "outputs": [],
   "source": [
    "model.accumuated_resid(layer=layer_idx, pos_slice=target_positions)"
   ]
  },
  {
   "cell_type": "code",
   "execution_count": null,
   "id": "075823b2-2325-44be-b508-0b42658eaafe",
   "metadata": {},
   "outputs": [],
   "source": [
    "class SelfAttention(nn.Module):\n",
    "    def __init__(self, d_head):\n",
    "        super().__init__()\n",
    "        self.d_head = d_head\n",
    "    \n",
    "    def forward(self, q, k, v, mask):\n",
    "        k = k.permute(-2, -1)\n",
    "        scores = torch.matmul(q, k)\n",
    "        \n",
    "        if mask is not None:\n",
    "            scores = torch.masked_fill(scores==0, -1e9)\n",
    "        \n",
    "        scores = scores / self.d_head**0.5\n",
    "        attn_pattern = F.softmax(scores, dim=-1)\n",
    "        output = torch.matmul(attn_pattern, v)\n",
    "        return output, attn_pattern"
   ]
  },
  {
   "cell_type": "code",
   "execution_count": null,
   "id": "d92da902-fbae-474a-b2c0-b958df5cdc2c",
   "metadata": {},
   "outputs": [],
   "source": [
    "(first_part @ filter1).sum() + (first_part @ filter2).sum()"
   ]
  },
  {
   "cell_type": "code",
   "execution_count": null,
   "id": "6152e757-0663-43e4-87d0-ed09bd90f915",
   "metadata": {},
   "outputs": [],
   "source": [
    "class SelfAttention"
   ]
  },
  {
   "cell_type": "code",
   "execution_count": null,
   "id": "7d578130-3da4-4e94-9885-0670df949e65",
   "metadata": {},
   "outputs": [],
   "source": [
    "past states, desired return, "
   ]
  },
  {
   "cell_type": "code",
   "execution_count": null,
   "id": "fc479161-c065-4da9-9632-3554f8324183",
   "metadata": {},
   "outputs": [],
   "source": [
    "def calculate_loss_of_soft_v(states, actions, action_probs):\n",
    "    q_preds = q_network(states, actions)\n",
    "    entropy = -action_probs.log()\n",
    "    return (v_func(states)-(q_preds+entropy)).pow(2).mean()"
   ]
  },
  {
   "cell_type": "code",
   "execution_count": 31,
   "id": "823b8faf-10b0-491a-b8a2-f01253ba04f7",
   "metadata": {
    "tags": []
   },
   "outputs": [],
   "source": [
    "from einops import rearrange"
   ]
  },
  {
   "cell_type": "code",
   "execution_count": null,
   "id": "03fff668-35db-40d1-b856-9db49484568e",
   "metadata": {},
   "outputs": [],
   "source": [
    "output = rearrange(\n",
    "    images,\n",
    "    \"b c (n_height p_height) (n_width p_width) -> b (n_height n_width) (p_height p_width c)\"\n",
    ")"
   ]
  }
 ],
 "metadata": {
  "kernelspec": {
   "display_name": "Python 3 (ipykernel)",
   "language": "python",
   "name": "python3"
  },
  "language_info": {
   "codemirror_mode": {
    "name": "ipython",
    "version": 3
   },
   "file_extension": ".py",
   "mimetype": "text/x-python",
   "name": "python",
   "nbconvert_exporter": "python",
   "pygments_lexer": "ipython3",
   "version": "3.8.16"
  }
 },
 "nbformat": 4,
 "nbformat_minor": 5
}
