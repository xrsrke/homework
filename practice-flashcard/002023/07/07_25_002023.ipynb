{
 "cells": [
  {
   "cell_type": "markdown",
   "id": "715df9b0-a401-4731-9412-c43201b029e3",
   "metadata": {},
   "source": [
    "### Neuronscience"
   ]
  },
  {
   "cell_type": "markdown",
   "id": "4a732c47-eebf-4fd8-9de9-d535a2890645",
   "metadata": {},
   "source": [
    "population activity, conditioned response, motor imagery, stimulus-evoked activity"
   ]
  },
  {
   "cell_type": "code",
   "execution_count": null,
   "id": "6d7e416c-0210-41e1-9791-aae08863966f",
   "metadata": {},
   "outputs": [],
   "source": [
    "photoreceptor > bipolar > ganglion"
   ]
  },
  {
   "cell_type": "code",
   "execution_count": null,
   "id": "6fe2e8fd-533d-4a40-83bb-1ae703566997",
   "metadata": {},
   "outputs": [],
   "source": [
    "biocompatible, reliable, neural plasticity"
   ]
  },
  {
   "cell_type": "code",
   "execution_count": null,
   "id": "7f04589f-942f-4c72-9302-af773b782f8f",
   "metadata": {},
   "outputs": [],
   "source": []
  },
  {
   "cell_type": "markdown",
   "id": "97092176-77d8-45ab-bb0e-c7d847b222b1",
   "metadata": {},
   "source": [
    "motor imagery, conditioned response, population activity, stimulus-evoke"
   ]
  },
  {
   "cell_type": "code",
   "execution_count": null,
   "id": "68b56562-f70b-4973-a9dd-bffce5d35b08",
   "metadata": {},
   "outputs": [],
   "source": [
    "record, logic, stimulus, memory"
   ]
  },
  {
   "cell_type": "markdown",
   "id": "45f78cf6-1ab7-48f3-aede-69ebf3144b7b",
   "metadata": {},
   "source": [
    "conditioned-response, stimulus-evoked, population decoding, motor imagery"
   ]
  },
  {
   "cell_type": "raw",
   "id": "1cc111bc-0397-4546-afe7-d0224c617d3d",
   "metadata": {},
   "source": [
    "retina > optic nerve > thalamus > visual cortex"
   ]
  },
  {
   "cell_type": "code",
   "execution_count": null,
   "id": "d06d69ae-6d7c-4a8b-81c0-afe78ef8955c",
   "metadata": {},
   "outputs": [],
   "source": [
    "neuron 1 > axon > synapse > dendrite > neuron 2"
   ]
  },
  {
   "cell_type": "markdown",
   "id": "72cb09fb-f101-4a50-a752-19febf22c669",
   "metadata": {},
   "source": [
    "### Engineering"
   ]
  },
  {
   "cell_type": "code",
   "execution_count": 1,
   "id": "0178f94a-da73-4778-9a68-d6cae024ee8f",
   "metadata": {
    "tags": []
   },
   "outputs": [],
   "source": [
    "import torch\n",
    "from torch import nn\n",
    "import torch.nn.functional as F"
   ]
  },
  {
   "cell_type": "code",
   "execution_count": null,
   "id": "03a5b670-f465-420d-b35b-a522ff526353",
   "metadata": {},
   "outputs": [],
   "source": [
    "deployment, configmap, service"
   ]
  },
  {
   "cell_type": "code",
   "execution_count": null,
   "id": "32a5e448-84f7-45c2-8af1-b896874a0ba9",
   "metadata": {},
   "outputs": [],
   "source": [
    "step 1: launch 100 threads\n",
    "step 2: each thread calculates its global thread id\n",
    "step 3: each thread adds correspond"
   ]
  },
  {
   "cell_type": "code",
   "execution_count": 2,
   "id": "0b9a8bc7-54db-4bc0-9742-89a71c1ab7e1",
   "metadata": {
    "tags": []
   },
   "outputs": [],
   "source": [
    "import threading"
   ]
  },
  {
   "cell_type": "code",
   "execution_count": null,
   "id": "fdfabae3-ff82-41c5-8b34-fca386729c78",
   "metadata": {},
   "outputs": [],
   "source": [
    "step 1: normalize the loss by dividing it with the number of steps\n",
    "step 2: calculate the gradient with respect to the normalized loss\n",
    "step 3: acc\n",
    "step 4: if epoch = step, update, step 1"
   ]
  },
  {
   "cell_type": "code",
   "execution_count": null,
   "id": "0d71bffc-e372-41b7-8d85-ab4b89d8777e",
   "metadata": {},
   "outputs": [],
   "source": [
    "dtype, requires_grad, shape"
   ]
  },
  {
   "cell_type": "code",
   "execution_count": null,
   "id": "5460a185-b4ee-4b49-b37e-cf4957ca78f1",
   "metadata": {},
   "outputs": [],
   "source": [
    "step 1: gather\n",
    "step 2: \n",
    "step 3: release\n",
    "step 4: reduce-scatter"
   ]
  },
  {
   "cell_type": "code",
   "execution_count": 3,
   "id": "d9c8cb14-f023-4ce8-b808-ab8b44bad256",
   "metadata": {
    "tags": []
   },
   "outputs": [],
   "source": [
    "import torch"
   ]
  },
  {
   "cell_type": "code",
   "execution_count": null,
   "id": "f1404e15-200d-4cb8-805d-9a7a9078a92f",
   "metadata": {},
   "outputs": [],
   "source": [
    "def free_storage(data):\n",
    "    if data.storage().size() > 1:\n",
    "        assert data.storage_offset() == 0\n",
    "        x.storage().resize_(0)"
   ]
  },
  {
   "cell_type": "code",
   "execution_count": 4,
   "id": "e0dc42d4-29c1-4525-9257-3d3d844fca0d",
   "metadata": {
    "tags": []
   },
   "outputs": [],
   "source": [
    "import os"
   ]
  },
  {
   "cell_type": "code",
   "execution_count": null,
   "id": "908c2e4a-5121-421c-b5fb-62f4477faf02",
   "metadata": {},
   "outputs": [],
   "source": [
    "class MPU:\n",
    "    def __init__(self, master_addr, master_port, backend):\n",
    "        if not torch.distributed.is_initialized():\n",
    "            rank = os.getenv(\"RANK\")\n",
    "            world_size = os.getenv(\"WORLD_SIZE\")\n",
    "            \n",
    "            os.environ[\"MASTER_ADDR\"] = master_addr\n",
    "            os.environ[\"MASTER_PORT\"] = master_port\n",
    "            \n",
    "            torch.distributed.init_process_group(\n",
    "                rank=rank,\n",
    "                world_size=world_size,\n",
    "                backend=backend\n",
    "            )\n",
    "        \n",
    "            device_count = torch.cuda.device_count()\n",
    "            if device_count > 0:\n",
    "                torch.cuda.set_device(rank % device_count)"
   ]
  },
  {
   "cell_type": "code",
   "execution_count": 5,
   "id": "49404198-33d5-4fac-b138-1d8584f012ec",
   "metadata": {
    "tags": []
   },
   "outputs": [],
   "source": [
    "import threading"
   ]
  },
  {
   "cell_type": "code",
   "execution_count": 6,
   "id": "b20c2d43-7b7e-401a-8e07-ad5262ad890e",
   "metadata": {
    "tags": []
   },
   "outputs": [],
   "source": [
    "data = threading.local()"
   ]
  },
  {
   "cell_type": "code",
   "execution_count": 7,
   "id": "269c7704-81d4-4ca3-8b5e-d9aaba69e501",
   "metadata": {
    "tags": []
   },
   "outputs": [],
   "source": [
    "def run_worker():\n",
    "    print_and_modify(data)"
   ]
  },
  {
   "cell_type": "code",
   "execution_count": null,
   "id": "6a4ed7a5-d9d0-47bb-ac97-985cc6abf5f7",
   "metadata": {},
   "outputs": [],
   "source": [
    "thread = threading.Thread(target=run_worker)"
   ]
  },
  {
   "cell_type": "code",
   "execution_count": null,
   "id": "e3d39f92-2278-4dcd-a7c4-5ceb82456180",
   "metadata": {},
   "outputs": [],
   "source": [
    "thread.start()"
   ]
  },
  {
   "cell_type": "code",
   "execution_count": null,
   "id": "11976f0d-af39-48f8-84c0-d35486e3daf0",
   "metadata": {},
   "outputs": [],
   "source": [
    "idxs\n",
    "size(idxs)\n",
    "create a chunk\n",
    "load"
   ]
  },
  {
   "cell_type": "code",
   "execution_count": null,
   "id": "c11b0b8f-8b85-49a1-80de-2353346d4ae9",
   "metadata": {},
   "outputs": [],
   "source": [
    "theirs = linear_probe[..., 1]\n",
    "mine = linear_probe[..., 2]"
   ]
  },
  {
   "cell_type": "code",
   "execution_count": null,
   "id": "fc0c6d11-41c9-4dd9-8f1e-6d53fd4433dd",
   "metadata": {},
   "outputs": [],
   "source": [
    "mine - theirs"
   ]
  },
  {
   "cell_type": "code",
   "execution_count": null,
   "id": "f054f18e-2804-4cd5-aa7d-0519329f1372",
   "metadata": {},
   "outputs": [],
   "source": [
    "_, cache = model.run_with_cache(tokens)"
   ]
  },
  {
   "cell_type": "code",
   "execution_count": null,
   "id": "8022f3a6-deac-495d-a81a-459362887ca6",
   "metadata": {},
   "outputs": [],
   "source": [
    "final_resid = cache[final_residual_name]\n",
    "last_token_final_resid = final_resid[:, -1, :]"
   ]
  },
  {
   "cell_type": "code",
   "execution_count": null,
   "id": "4cfe3ae1-9fff-4da9-8231-51aed787078c",
   "metadata": {},
   "outputs": [],
   "source": [
    "W_U = model.W_U\n",
    "logit_difference_direction = W_U[:, correct_token] - W_U[:, incorrect_token]"
   ]
  },
  {
   "cell_type": "code",
   "execution_count": 8,
   "id": "a1c7a545-e0c2-400b-87ef-f5a23b12c7e9",
   "metadata": {
    "tags": []
   },
   "outputs": [],
   "source": [
    "from einops import einsum"
   ]
  },
  {
   "cell_type": "code",
   "execution_count": null,
   "id": "43c52bea-2230-4119-8f50-cc969b8c1b0b",
   "metadata": {},
   "outputs": [],
   "source": [
    "logit_difference = einsum(\n",
    "    last_token_final_resid,\n",
    "    logit_difference_direction\n",
    ")"
   ]
  },
  {
   "cell_type": "code",
   "execution_count": 10,
   "id": "0e4fcf83-5b0f-43c7-9f22-d062d0d19bbb",
   "metadata": {
    "tags": []
   },
   "outputs": [],
   "source": [
    "from typing import List, Union"
   ]
  },
  {
   "cell_type": "code",
   "execution_count": null,
   "id": "0200a2a9-7382-4587-b33c-655ab5c65813",
   "metadata": {},
   "outputs": [],
   "source": [
    "x: List[Union[str, int, float]]"
   ]
  },
  {
   "cell_type": "code",
   "execution_count": 11,
   "id": "89e6d20e-f3e9-468e-83e5-b190951c12f5",
   "metadata": {
    "tags": []
   },
   "outputs": [],
   "source": [
    "from dataclasses import dataclass"
   ]
  },
  {
   "cell_type": "code",
   "execution_count": 12,
   "id": "8311dc1f-2422-4c83-aa02-03a362d1e7ec",
   "metadata": {
    "tags": []
   },
   "outputs": [],
   "source": [
    "@dataclass\n",
    "class Vehicle:\n",
    "    year: int\n",
    "    price: int\n",
    "    manufacture: str"
   ]
  },
  {
   "cell_type": "code",
   "execution_count": 13,
   "id": "33c105cf-c6e6-48cc-8da1-910b4ce16ad2",
   "metadata": {
    "tags": []
   },
   "outputs": [],
   "source": [
    "import pytest"
   ]
  },
  {
   "cell_type": "code",
   "execution_count": 14,
   "id": "14f4b5b5-85b5-4525-a395-4242b9518297",
   "metadata": {
    "tags": []
   },
   "outputs": [],
   "source": [
    "@pytest.mark.parametrize(\n",
    "    \"input, output\",\n",
    "    [(1, 1), (2, 4)]\n",
    ")\n",
    "def test_square(input, output):\n",
    "    assert square(input) == output"
   ]
  },
  {
   "cell_type": "code",
   "execution_count": 15,
   "id": "110ea883-b821-46b3-b4a0-2ff773f9cc2f",
   "metadata": {
    "tags": []
   },
   "outputs": [],
   "source": [
    "import threading"
   ]
  },
  {
   "cell_type": "code",
   "execution_count": 16,
   "id": "ecb13982-f9e9-4a35-9313-373a2164ce59",
   "metadata": {
    "tags": []
   },
   "outputs": [],
   "source": [
    "event = threading.Event()"
   ]
  },
  {
   "cell_type": "code",
   "execution_count": 17,
   "id": "77875549-cfbc-4aff-aec4-86c8858b0cf2",
   "metadata": {
    "tags": []
   },
   "outputs": [],
   "source": [
    "def run_worker():\n",
    "    print(\"worker is waiting\")\n",
    "    event.wait()\n",
    "    print(\"received event\")"
   ]
  },
  {
   "cell_type": "code",
   "execution_count": null,
   "id": "36dda931-ed02-4c23-a6ce-ef3d6c84bcd9",
   "metadata": {},
   "outputs": [],
   "source": [
    "thread = threading.Thread(target=run_worker)"
   ]
  },
  {
   "cell_type": "code",
   "execution_count": 18,
   "id": "b93de38b-0cb8-4635-aced-f95097aae32a",
   "metadata": {
    "tags": []
   },
   "outputs": [],
   "source": [
    "def outer_func():\n",
    "    x = \"hello\"\n",
    "    \n",
    "    def inner_func():\n",
    "        nonlocal x\n",
    "        x = \"shivon\"\n",
    "    \n",
    "    inner_func()\n",
    "    print(x)"
   ]
  },
  {
   "cell_type": "code",
   "execution_count": 19,
   "id": "e3ff351d-3dcc-4593-8571-f0e1a26b7496",
   "metadata": {
    "tags": []
   },
   "outputs": [
    {
     "name": "stdout",
     "output_type": "stream",
     "text": [
      "shivon\n"
     ]
    }
   ],
   "source": [
    "outer_func()"
   ]
  },
  {
   "cell_type": "code",
   "execution_count": null,
   "id": "bca9909a-3b2b-476b-a400-13e15973acd0",
   "metadata": {},
   "outputs": [],
   "source": [
    "yello = x[-1, :]"
   ]
  },
  {
   "cell_type": "code",
   "execution_count": null,
   "id": "990b45e2-0743-428d-897f-cd20dcae950f",
   "metadata": {},
   "outputs": [],
   "source": [
    "step 1: gather\n",
    "step 2: "
   ]
  },
  {
   "cell_type": "code",
   "execution_count": null,
   "id": "ba0df269-dc73-4cd6-a65e-5bb0bab5839b",
   "metadata": {},
   "outputs": [],
   "source": [
    "def free_storage(x):\n",
    "    if x.storage().size() > 0:\n",
    "        assert x.storage_offset() == 0\n",
    "        x.storage().resize_size_(0)"
   ]
  },
  {
   "cell_type": "code",
   "execution_count": null,
   "id": "ee7c94be-b869-48cd-96a1-055cf0ec438a",
   "metadata": {},
   "outputs": [],
   "source": [
    "step 1: partitioning\n",
    "step 2: forward\n",
    "step 3: backward\n",
    "step 4: reduce-scatter\n",
    "step 5: update"
   ]
  },
  {
   "cell_type": "code",
   "execution_count": null,
   "id": "7a0810db-ef07-4555-ab35-a51a5a35ba68",
   "metadata": {},
   "outputs": [],
   "source": [
    "number of chunks = number of worker nodes\n",
    "elements\n",
    "reconstruct"
   ]
  },
  {
   "cell_type": "code",
   "execution_count": null,
   "id": "15b9c490-7e66-424a-a53f-a5d0c7c9c12b",
   "metadata": {},
   "outputs": [],
   "source": [
    "elastic driver, torchstate, 3 notifications, host discovery"
   ]
  },
  {
   "cell_type": "code",
   "execution_count": null,
   "id": "735120c3-d561-4643-b694-6f199039ae80",
   "metadata": {},
   "outputs": [],
   "source": [
    "tensor.storage().resize_(0)"
   ]
  },
  {
   "cell_type": "code",
   "execution_count": null,
   "id": "8e46481a-9ea3-40e2-a18c-7f674b05c90d",
   "metadata": {},
   "outputs": [],
   "source": [
    "model parameters, gradients, optimizer's states"
   ]
  },
  {
   "cell_type": "code",
   "execution_count": null,
   "id": "7ad5af87-9cbd-47e8-9c3d-8d894ad6e64a",
   "metadata": {},
   "outputs": [],
   "source": [
    "step 1: determine the number of workers\n",
    "step 2: flatten 10*4=40\n",
    "step 3: chunk\n",
    "step 4: append empty chunk\n",
    "step 5: extract\n",
    "step 6: pad"
   ]
  },
  {
   "cell_type": "code",
   "execution_count": null,
   "id": "56cc96e7-2199-473e-a74a-8b1b672ec283",
   "metadata": {},
   "outputs": [],
   "source": [
    "mine_direction = linear_probe[..., 2]\n",
    "theirs_direction = linear_probe[..., 1]"
   ]
  },
  {
   "cell_type": "code",
   "execution_count": null,
   "id": "d3e22ead-ac83-45e3-b377-7ce3ff114582",
   "metadata": {},
   "outputs": [],
   "source": [
    "mine_vs_theirs_direction = mine_direction - theirs_direction"
   ]
  },
  {
   "cell_type": "code",
   "execution_count": null,
   "id": "1b41bf91-71aa-4657-a940-9e00ef318f5c",
   "metadata": {},
   "outputs": [],
   "source": [
    "extracted_direction = mine_vs_theirs_direction[:, 5, 4]"
   ]
  },
  {
   "cell_type": "markdown",
   "id": "0388269d-57b6-48a8-a87e-b1a14d91c71c",
   "metadata": {},
   "source": [
    "step 1: approximate layer norm using logistic regression (or something else)\n",
    "step 2: reverse transformation\n",
    "step 3: calculate logit difference direction: W_U[0] - W_U[1]\n",
    "step 4: pre_final_ln @ logit_diff_direction"
   ]
  },
  {
   "cell_type": "code",
   "execution_count": 20,
   "id": "34863af2-9b66-4e25-8f3d-2f71600cc231",
   "metadata": {
    "tags": []
   },
   "outputs": [],
   "source": [
    "import plotly.express as px"
   ]
  },
  {
   "cell_type": "code",
   "execution_count": null,
   "id": "fb33f8e9-d69d-457d-b902-f55e6d700a95",
   "metadata": {},
   "outputs": [],
   "source": [
    "empty_direction = linear_probe[..., 0]"
   ]
  },
  {
   "cell_type": "code",
   "execution_count": null,
   "id": "8c33e631-4774-40ec-8b56-57d7ff04771f",
   "metadata": {},
   "outputs": [],
   "source": [
    "theirs_direction = linear_probe[..., 1]\n",
    "mine_direction = linear_probe[..., 2]"
   ]
  },
  {
   "cell_type": "code",
   "execution_count": null,
   "id": "4d4f8dce-ecda-43d1-aa22-b6b6d4a0bb30",
   "metadata": {},
   "outputs": [],
   "source": [
    "not_empty_direction = (theirs_direction + mine_direction)/2"
   ]
  },
  {
   "cell_type": "code",
   "execution_count": null,
   "id": "4b091801-e671-4c96-8617-72abbd4a2010",
   "metadata": {},
   "outputs": [],
   "source": [
    "empty_direction - not_empty_direction"
   ]
  },
  {
   "cell_type": "markdown",
   "id": "e19991f8-6bf8-44bb-8fd7-53edc1811b86",
   "metadata": {},
   "source": [
    "step 1: record all interdimate activations\n",
    "step 2: analyze attention pattern, spot induction heads, if yes, dig further\n",
    "step 3: decompose attention scores of the induction heads\n",
    "step 4: trace which component\n",
    "step 5: const"
   ]
  },
  {
   "cell_type": "code",
   "execution_count": null,
   "id": "a9bdb30d-0b25-4b2d-9416-ebe7c174ef98",
   "metadata": {},
   "outputs": [],
   "source": [
    "clean_tokens = model.to_tokens(clean_prompt)\n",
    "corrupted_tokens = model.to_tokens(corrupted_prompt)"
   ]
  },
  {
   "cell_type": "code",
   "execution_count": null,
   "id": "ba283fa8-5392-4fd5-82ac-1142a5d5f6dc",
   "metadata": {},
   "outputs": [],
   "source": [
    "_, clean_cache = model.run_with_cache(clean_tokens)"
   ]
  },
  {
   "cell_type": "code",
   "execution_count": null,
   "id": "69ed2a9f-face-4ae5-a9ad-b6ee5c77a7f8",
   "metadata": {},
   "outputs": [],
   "source": [
    "seq_len = len(clean_tokens)"
   ]
  },
  {
   "cell_type": "code",
   "execution_count": null,
   "id": "e52a2ceb-656c-472b-87fd-10173131eaac",
   "metadata": {},
   "outputs": [],
   "source": [
    "def patch_pre_resid(activations, hook, position_idx):\n",
    "    activations[:, position_idx, :] = clean_cache[hook.name][:, -1, :]\n",
    "    return activations"
   ]
  },
  {
   "cell_type": "code",
   "execution_count": 21,
   "id": "87aa2ac0-bba5-4f85-a788-716942d8f82e",
   "metadata": {
    "tags": []
   },
   "outputs": [],
   "source": [
    "from functools import partial"
   ]
  },
  {
   "cell_type": "code",
   "execution_count": 22,
   "id": "5b6508d5-c8de-46af-b165-1254a170c6ad",
   "metadata": {
    "tags": []
   },
   "outputs": [],
   "source": [
    "from transformer_lens.utils import get_act_name"
   ]
  },
  {
   "cell_type": "code",
   "execution_count": null,
   "id": "c2149236-a1da-4af5-b1ba-a9b2edfa2fc7",
   "metadata": {},
   "outputs": [],
   "source": [
    "correct_token = model.to_single_token(\" John\")\n",
    "incorrect_token = model.to_single_token(\" Mary\")"
   ]
  },
  {
   "cell_type": "code",
   "execution_count": null,
   "id": "d0d39116-b403-4e3b-a5f0-94af01fe1315",
   "metadata": {},
   "outputs": [],
   "source": [
    "def compute_logit_difference(logits, correct_token, incorrect_token):\n",
    "    logits = logits[:, -1, :]\n",
    "    return logits[correct_token] - logits[incorrect_token]"
   ]
  },
  {
   "cell_type": "code",
   "execution_count": null,
   "id": "0c649d08-e144-4359-b880-4b9e0bc719fb",
   "metadata": {},
   "outputs": [],
   "source": [
    "results = torch.zeros(n_layers, seq_len)"
   ]
  },
  {
   "cell_type": "code",
   "execution_count": null,
   "id": "9101cabe-4f51-4430-9d5d-f34202ac9219",
   "metadata": {
    "tags": []
   },
   "outputs": [],
   "source": [
    "for layer_idx in range(n_layers):\n",
    "    hook_name = get_act_name(\"resid_pre\", layer_idx)\n",
    "    for position_idx in range(seq_len):\n",
    "        hook_func = partial(patch_pre_resid, position_idx=position_idx)\n",
    "        patched_logits = model.run_with_hooks(\n",
    "            corrupted_tokens,\n",
    "            fwd_hooks=[(hook_name, hook_func)]\n",
    "        )\n",
    "        logit_diff = compute_logit_difference(logits, correct_token, incorrect_token)\n",
    "        results[layer_idx][position_idx] = logit_diff"
   ]
  },
  {
   "cell_type": "code",
   "execution_count": null,
   "id": "591ae4fe-9d9f-446e-976a-2e4ead70fc2b",
   "metadata": {},
   "outputs": [],
   "source": [
    "n_features = 5"
   ]
  },
  {
   "cell_type": "code",
   "execution_count": null,
   "id": "c6bccd8d-f685-47a0-90e2-c4026c7e3102",
   "metadata": {},
   "outputs": [],
   "source": [
    "interference[torch.arange(n_features), torch.arange(n_features)] = 0."
   ]
  },
  {
   "cell_type": "code",
   "execution_count": null,
   "id": "85aa0195-43ec-4039-bc3e-c9264178fa09",
   "metadata": {},
   "outputs": [],
   "source": [
    "polysemanticity = interference.pow(2).sum(dim=-1).sqrt()"
   ]
  },
  {
   "cell_type": "code",
   "execution_count": null,
   "id": "5c73ae84-4739-43e2-b235-4e51b3c9a4e2",
   "metadata": {},
   "outputs": [],
   "source": [
    "def dropout_layer(x, dropout):\n",
    "    assert 0 <= dropout <= 1\n",
    "    if dropout == 1:\n",
    "        return torch.zeros_like(x)\n",
    "    \n",
    "    mask = (torch.randn_like(x) > dropout).float()\n",
    "    return torch.where(mask, x, 0.)"
   ]
  },
  {
   "cell_type": "markdown",
   "id": "8c73b89a-6457-44a1-b99a-b2909efce6a6",
   "metadata": {},
   "source": [
    "To understand the multiplication of two matrices $W_1W_2$ as a projection to a lower-dimensional subspace, we first need to define what we mean by \"projection\" and \"subspace\".\n",
    "\n",
    "In linear algebra, a projection of a vector onto a subspace is a linear transformation that maps the vector to the closest point in the subspace.\n",
    "\n",
    "A subspace is a subset of a vector space that is also a vector space, i.e., it is closed under vector addition and scalar multiplication.\n",
    "\n",
    "In the context of matrix multiplication, if the matrices $W_1$ and $W_2$ are suitably defined, we can interpret their multiplication as a projection onto a lower-dimensional subspace.\n",
    "\n",
    "Let's consider that $W_1 \\in \\mathbb{R}^{n \\times m}$ and $W_2 \\in \\mathbb{R}^{m \\times p}$, where $n > m > p$. If we multiply a vector $x \\in \\mathbb{R}^n$ by $W_1$, we have $W_1x \\in \\mathbb{R}^m$, i.e., the vector has been mapped to an $m$-dimensional subspace of $\\mathbb{R}^n$. Similarly, if we then multiply this result by $W_2$, we get $W_2W_1x \\in \\mathbb{R}^p$, i.e., the vector has been further mapped to a $p$-dimensional subspace of $\\mathbb{R}^m$.\n",
    "\n",
    "Therefore, if $p < m < n$, the multiplication $W_2W_1x$ can be interpreted as a projection of $x$ onto a lower-dimensional subspace of the original space. However, it's important to note that not all matrix multiplications can be interpreted as projections. This interpretation only applies when the matrices $W_1$ and $W_2$ are designed or learned in such a way that the multiplication reduces the dimensionality of the input."
   ]
  },
  {
   "cell_type": "code",
   "execution_count": 24,
   "id": "94a6ad02-c30a-48f8-bfe7-b8f21d776998",
   "metadata": {
    "tags": []
   },
   "outputs": [
    {
     "data": {
      "text/plain": [
       "2.0"
      ]
     },
     "execution_count": 24,
     "metadata": {},
     "output_type": "execute_result"
    }
   ],
   "source": [
    "4/2"
   ]
  },
  {
   "cell_type": "code",
   "execution_count": null,
   "id": "235f70be-0a1e-4a1f-aaed-128cf64751ee",
   "metadata": {},
   "outputs": [],
   "source": []
  }
 ],
 "metadata": {
  "kernelspec": {
   "display_name": "Python 3 (ipykernel)",
   "language": "python",
   "name": "python3"
  },
  "language_info": {
   "codemirror_mode": {
    "name": "ipython",
    "version": 3
   },
   "file_extension": ".py",
   "mimetype": "text/x-python",
   "name": "python",
   "nbconvert_exporter": "python",
   "pygments_lexer": "ipython3",
   "version": "3.8.16"
  }
 },
 "nbformat": 4,
 "nbformat_minor": 5
}
