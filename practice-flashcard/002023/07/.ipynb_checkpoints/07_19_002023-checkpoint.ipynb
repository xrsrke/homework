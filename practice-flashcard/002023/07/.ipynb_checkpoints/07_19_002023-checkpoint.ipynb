{
 "cells": [
  {
   "cell_type": "markdown",
   "id": "f5abd73b-ca15-4087-82d5-c4a975e752d7",
   "metadata": {},
   "source": [
    "### MechInterp"
   ]
  },
  {
   "cell_type": "code",
   "execution_count": 1,
   "id": "9af339a3-7ca4-4440-bc0f-d8c3c14fabfe",
   "metadata": {
    "tags": []
   },
   "outputs": [],
   "source": [
    "import torch\n",
    "from torch import nn\n",
    "import torch.nn.functional as F"
   ]
  },
  {
   "cell_type": "code",
   "execution_count": 2,
   "id": "18e5b0b2-c72e-433e-a9c3-92b817bdee32",
   "metadata": {
    "tags": []
   },
   "outputs": [],
   "source": [
    "import streamlit as st"
   ]
  },
  {
   "cell_type": "code",
   "execution_count": null,
   "id": "145041a4-0290-4159-a055-8051c2e13b22",
   "metadata": {},
   "outputs": [],
   "source": [
    "st.sidebar.header()\n",
    "st.sidebar.slider()"
   ]
  },
  {
   "cell_type": "code",
   "execution_count": null,
   "id": "a6cf20e9-cdd3-436f-bdc1-37961600166a",
   "metadata": {},
   "outputs": [],
   "source": [
    "softmax(x@W_Q@W_K@x.T)@ x@W_V@W_O"
   ]
  },
  {
   "cell_type": "code",
   "execution_count": 3,
   "id": "4c0599be-5402-42f8-836c-6676293306ab",
   "metadata": {
    "tags": []
   },
   "outputs": [],
   "source": [
    "from transformer_lens.utils import get_act_name"
   ]
  },
  {
   "cell_type": "code",
   "execution_count": 4,
   "id": "24089d11-e210-41b5-b276-a9d879284c40",
   "metadata": {
    "tags": []
   },
   "outputs": [],
   "source": [
    "input_name = get_act_name(\"resid_post\", 2)"
   ]
  },
  {
   "cell_type": "code",
   "execution_count": 5,
   "id": "33a239d7-7bd3-46c1-99ea-709da53e749c",
   "metadata": {
    "tags": []
   },
   "outputs": [],
   "source": [
    "output_name = get_act_name(\"normalized\")"
   ]
  },
  {
   "cell_type": "code",
   "execution_count": 6,
   "id": "55aec251-c5c1-4e98-9f10-ed71debb78af",
   "metadata": {
    "tags": []
   },
   "outputs": [
    {
     "data": {
      "text/plain": [
       "'ln_final.hook_normalized'"
      ]
     },
     "execution_count": 6,
     "metadata": {},
     "output_type": "execute_result"
    }
   ],
   "source": [
    "output_name"
   ]
  },
  {
   "cell_type": "code",
   "execution_count": null,
   "id": "89282652-a711-4bd1-bcf3-8cfc1ffabb0b",
   "metadata": {},
   "outputs": [],
   "source": [
    "_, cache = model.run_with_cache(\n",
    "    tokens,\n",
    "    names_filter=lambda x: x in [input_name, output_name]\n",
    ")"
   ]
  },
  {
   "cell_type": "code",
   "execution_count": null,
   "id": "e3eaad8f-d0c4-4e49-9f16-60ffabdff708",
   "metadata": {},
   "outputs": [],
   "source": [
    "input = cache[input_name]\n",
    "output = cache[output_name]"
   ]
  },
  {
   "cell_type": "code",
   "execution_count": 7,
   "id": "ec228390-f89c-405a-a06e-3f3f9304cec5",
   "metadata": {
    "tags": []
   },
   "outputs": [],
   "source": [
    "from einops import rearrange"
   ]
  },
  {
   "cell_type": "code",
   "execution_count": null,
   "id": "93caaad9-6106-425a-84dd-ae862404a602",
   "metadata": {},
   "outputs": [],
   "source": [
    "input = rearrange(input, \"batch seq_len d_model - > (batch seq_len) d_model\")\n",
    "output = rearrange(output, \"batch seq_len d_model - > (batch seq_len) d_model\")"
   ]
  },
  {
   "cell_type": "code",
   "execution_count": 8,
   "id": "2dceb27f-4528-4d97-b487-f4ae2b9e4abf",
   "metadata": {
    "tags": []
   },
   "outputs": [],
   "source": [
    "from sklearn.linear_model import LinearRegression"
   ]
  },
  {
   "cell_type": "code",
   "execution_count": null,
   "id": "d41d86b4-f1b7-45d9-953c-25370ca07107",
   "metadata": {},
   "outputs": [],
   "source": [
    "fn_ln_fit = "
   ]
  },
  {
   "cell_type": "code",
   "execution_count": null,
   "id": "b62de7e4-4d6f-4dd8-86fc-2bb863116fbc",
   "metadata": {},
   "outputs": [],
   "source": [
    "query=persistence\n",
    "key=padding\n",
    "\n",
    "no mask"
   ]
  },
  {
   "cell_type": "code",
   "execution_count": 9,
   "id": "11f4fee4-a150-4cd2-b102-da5dc3cfeea2",
   "metadata": {
    "tags": []
   },
   "outputs": [],
   "source": [
    "from transformer_lens.utils import get_act_name"
   ]
  },
  {
   "cell_type": "code",
   "execution_count": null,
   "id": "73bd1f1d-80c6-4d3a-920d-068d5d042767",
   "metadata": {},
   "outputs": [],
   "source": [
    "head_names = [get_act_name(\"result\", layer_idx) for layer_idx in range(n_layers)]\n",
    "mlp_names = [get_act_name(\"mlp_out\", layer_idx) for layer_idx in range(n_layers)]"
   ]
  },
  {
   "cell_type": "code",
   "execution_count": null,
   "id": "43d9c204-30ad-4b1f-b101-322f767e1195",
   "metadata": {},
   "outputs": [],
   "source": [
    "all_hook_names = [\"hook_embed\", \"hook_pos_embed\"] + head_names + mlp_names"
   ]
  },
  {
   "cell_type": "code",
   "execution_count": null,
   "id": "01407c63-1121-43ee-8ecd-fd323704b6ff",
   "metadata": {},
   "outputs": [],
   "source": [
    "_, cache = model.run_with_cache(\n",
    "    tokens,\n",
    "    names_filter=lambda x: x in all_hook_names\n",
    ")"
   ]
  },
  {
   "cell_type": "code",
   "execution_count": null,
   "id": "99dbf49d-7169-4bd4-b490-ffea8e6b6245",
   "metadata": {},
   "outputs": [],
   "source": [
    "input_components = torch.tensor([cache[\"embed\"] + cache[\"pos_embed\"]])"
   ]
  },
  {
   "cell_type": "code",
   "execution_count": null,
   "id": "dbc6b2f4-e9f1-4afb-9bbf-e8ea36e40180",
   "metadata": {},
   "outputs": [],
   "source": [
    "for head_name, mlp_name in zip(head_names, mlp_names):\n",
    "    input_components = torch.cat([\n",
    "        input_components,\n",
    "        cache[head_name],\n",
    "        cache[mlp_name]\n",
    "    ])"
   ]
  },
  {
   "cell_type": "code",
   "execution_count": null,
   "id": "055f1449-96fb-471d-b30e-213b2d020f27",
   "metadata": {},
   "outputs": [],
   "source": [
    "input = final_ln_coeffs.T @ cache[\"\"]"
   ]
  },
  {
   "cell_type": "code",
   "execution_count": null,
   "id": "eceb28ac-c858-4ce5-9ef4-dbb6acff36f8",
   "metadata": {},
   "outputs": [],
   "source": [
    "_, cache = model.run_with_cache(\n",
    "    tokens,\n",
    "    names_filter=lambda x: x.endswith(\"mlp_out\")\n",
    ")"
   ]
  },
  {
   "cell_type": "code",
   "execution_count": null,
   "id": "c2aa5455-208d-438a-b97e-593d65b099b0",
   "metadata": {},
   "outputs": [],
   "source": [
    "model.to_tokens(text, prepend_bos=True)"
   ]
  },
  {
   "cell_type": "code",
   "execution_count": null,
   "id": "4d75ab36-6a28-43ea-9722-40874114b752",
   "metadata": {},
   "outputs": [],
   "source": [
    "v_2@W_Q@W_K.T@[v_0, v_1]"
   ]
  },
  {
   "cell_type": "code",
   "execution_count": null,
   "id": "cc2dc3af-b4f0-4946-849f-7c91b428784d",
   "metadata": {},
   "outputs": [],
   "source": [
    "not =, sum up to 1"
   ]
  },
  {
   "cell_type": "code",
   "execution_count": null,
   "id": "b847cc8a-9d7d-41f3-99b0-82275601aac2",
   "metadata": {},
   "outputs": [],
   "source": [
    "mid_resid = pre_resid + attn_output"
   ]
  },
  {
   "cell_type": "code",
   "execution_count": 10,
   "id": "b56e7f5a-7857-4666-948a-8ff6ce2ebb20",
   "metadata": {
    "tags": []
   },
   "outputs": [],
   "source": [
    "from transformer_lens import FactoredMatrix"
   ]
  },
  {
   "cell_type": "code",
   "execution_count": null,
   "id": "adc6ea08-7f30-4ce7-befa-84997e282848",
   "metadata": {},
   "outputs": [],
   "source": [
    "W_E = model.W_E\n",
    "W_U = model.W_U\n",
    "W_O = model.W_O[layer_idx, head_idx]\n",
    "W_V = model.W_V[layer_idx, head_idx]"
   ]
  },
  {
   "cell_type": "code",
   "execution_count": null,
   "id": "4c2c4e41-26b9-4429-abe2-063f64f832c0",
   "metadata": {},
   "outputs": [],
   "source": [
    "OV_circuit = FactoredMatrix(W_V, W_O)"
   ]
  },
  {
   "cell_type": "code",
   "execution_count": null,
   "id": "c5a69bbe-a2bd-4a9f-9703-71fcc32a64e8",
   "metadata": {},
   "outputs": [],
   "source": [
    "full_OV_circuit = W_E @ OV_circuit @ W_U"
   ]
  },
  {
   "cell_type": "code",
   "execution_count": null,
   "id": "e49b747b-ad9a-4813-a451-88b8b0f06995",
   "metadata": {},
   "outputs": [],
   "source": [
    "record all the interdimate actiavtions\n",
    "break "
   ]
  },
  {
   "cell_type": "code",
   "execution_count": null,
   "id": "c23c7618-a089-404d-9a7c-80f209440325",
   "metadata": {},
   "outputs": [],
   "source": [
    "x = embed + pos_embed + sum(12 heads)"
   ]
  },
  {
   "cell_type": "code",
   "execution_count": null,
   "id": "f8d9c265-5f13-4314-b5df-ea38b789b71b",
   "metadata": {},
   "outputs": [],
   "source": [
    "query = x @ W_Q\n",
    "value = x @ W_V"
   ]
  },
  {
   "cell_type": "code",
   "execution_count": null,
   "id": "2298f567-3f97-49f4-bb50-0319d57660b6",
   "metadata": {},
   "outputs": [],
   "source": [
    "query = [embed + pos_embed + sum(12heads)] @ W_Q\n",
    "value = [embed + pos_embed + ]"
   ]
  },
  {
   "cell_type": "code",
   "execution_count": null,
   "id": "bbbd4f98-fe4c-4edb-a18c-2c943cccfa4c",
   "metadata": {},
   "outputs": [],
   "source": [
    "step 1: replicate the model\n",
    "step 2: mini batches\n",
    "step 3: forward and backward\n",
    "step 4: average "
   ]
  },
  {
   "cell_type": "code",
   "execution_count": null,
   "id": "5e1060bb-5c6f-4c83-8407-a566c2245021",
   "metadata": {},
   "outputs": [],
   "source": [
    "step 1: send\n",
    "step 2: continue\n",
    "step 3: wait, and receive\n",
    "step 4: "
   ]
  },
  {
   "cell_type": "code",
   "execution_count": null,
   "id": "fdd07021-d88c-4af7-9079-878e87f338b0",
   "metadata": {},
   "outputs": [],
   "source": [
    "app > comp > os > hardware"
   ]
  },
  {
   "cell_type": "code",
   "execution_count": null,
   "id": "0c69f95d-dfb6-4101-b4bd-d830582b704e",
   "metadata": {},
   "outputs": [],
   "source": [
    "step 1: replicate\n",
    "step 2: micro-batches\n",
    "step 3: forward pass and backward pass\n",
    "step 4: average the gradient\n",
    "step 5: update"
   ]
  },
  {
   "cell_type": "code",
   "execution_count": 11,
   "id": "5ca1ff89-3017-4ce2-bdbf-ba55ba91f681",
   "metadata": {
    "tags": []
   },
   "outputs": [],
   "source": [
    "import socketserver"
   ]
  },
  {
   "cell_type": "code",
   "execution_count": null,
   "id": "1aef84ce-6d25-4942-b207-70ea8e57ce5a",
   "metadata": {},
   "outputs": [],
   "source": [
    "def find_port(server_factory):\n",
    "    min_port = 1024\n",
    "    max_port = 65536\n",
    "    \n",
    "    for port in range(min_port, max_port):\n",
    "        try:\n",
    "            addr = (\"\", port)\n",
    "            server = server_factory(addr)\n",
    "            return server, addr\n",
    "        except Exception:\n",
    "            continue"
   ]
  },
  {
   "cell_type": "code",
   "execution_count": null,
   "id": "8ec5811c-8dad-456e-a04f-3a601d061562",
   "metadata": {},
   "outputs": [],
   "source": [
    "class Copy(torch.autograd.Function):\n",
    "    @staticmethod\n",
    "    def forward(ctx, prev_stream, next_stream, input):\n",
    "        ctx.prev_stream = prev_stream\n",
    "        ctx.next_stream = next_stream\n",
    "        \n",
    "        compute_stream = torch.cuda.default_stream(next_stream.device)\n",
    "        \n",
    "        with torch.cuda.stream(prev_stream), torch.cuda.stream(next_stream):\n",
    "            moved_input = input.to(next_stream.device)\n",
    "            \n",
    "            input.record_stream(prev_stream)\n",
    "            moved_input.record_stream(next_stream)\n",
    "        \n",
    "        return moved_input\n",
    "\n",
    "    @staticmethod\n",
    "    def backward(ctx, grad_input):\n",
    "        prev_stream = ctx.prev_stream\n",
    "        next_stream = ctx.next_stream\n",
    "        \n",
    "        compute_stream = torch.cuda.default_stream(prev_stream.device)\n",
    "        \n",
    "        with torch.cuda.stream(prev_stream), torch.cuda.stream(next_stream):\n",
    "            moved_grad_input = grad_input.to(prev_stream.device)\n",
    "            \n",
    "            grad_input.record_stream(next_stream)\n",
    "            moved_grad_input.record_stream(compute_stream)\n",
    "        \n",
    "        return None, None, grad_input"
   ]
  },
  {
   "cell_type": "code",
   "execution_count": null,
   "id": "afe88a53-8ae8-4772-aaca-b4b02f38d0c4",
   "metadata": {},
   "outputs": [],
   "source": [
    "step 1: get data\n",
    "step 2: construct a task\n",
    "step 3: put the task into the correspond worker's in_queues\n",
    "step 4: wait and get the output\n",
    "step 5: put the output to"
   ]
  },
  {
   "cell_type": "code",
   "execution_count": 12,
   "id": "20b65070-fa1a-461e-8624-1daef2f73b03",
   "metadata": {
    "tags": []
   },
   "outputs": [],
   "source": [
    "import socketserver"
   ]
  },
  {
   "cell_type": "code",
   "execution_count": null,
   "id": "d0e78e77-6cab-4c06-9a84-a68d9442f0b1",
   "metadata": {},
   "outputs": [],
   "source": [
    "class EchoRequestHandler(socketserver.StreamRequestHandler):\n",
    "    def handle(self):\n",
    "        print(self.rfile)"
   ]
  },
  {
   "cell_type": "code",
   "execution_count": null,
   "id": "7fa3a2cd-7e5c-4481-b508-d57b7b57f260",
   "metadata": {},
   "outputs": [],
   "source": [
    "message passing , file system, shared memory"
   ]
  },
  {
   "cell_type": "code",
   "execution_count": 13,
   "id": "bb375d43-bd92-412b-87c4-cd44d6d3b73e",
   "metadata": {
    "tags": []
   },
   "outputs": [],
   "source": [
    "import hmac"
   ]
  },
  {
   "cell_type": "code",
   "execution_count": null,
   "id": "8ac36881-661e-48b6-83fb-440b4f8f7328",
   "metadata": {},
   "outputs": [],
   "source": [
    "def compute_digest(key, serialized_message):\n",
    "    return hmac.new(key, serialized_message).digest() "
   ]
  },
  {
   "cell_type": "code",
   "execution_count": 14,
   "id": "f69673ff-4cf0-41fa-a40e-cf6025f9faed",
   "metadata": {
    "tags": []
   },
   "outputs": [],
   "source": [
    "import hmac\n",
    "import hashlib"
   ]
  },
  {
   "cell_type": "code",
   "execution_count": 17,
   "id": "64693ef7-212f-47dd-8405-69f5236d43bb",
   "metadata": {
    "tags": []
   },
   "outputs": [],
   "source": [
    "def compute_digest(key, serialized_message):\n",
    "    return hmac.new(key, serialized_message, digestmod=hashlib.sha256).digest()"
   ]
  },
  {
   "cell_type": "code",
   "execution_count": null,
   "id": "118ab063-7384-42f4-9dd2-3b7698e0f5f6",
   "metadata": {},
   "outputs": [],
   "source": [
    "rank = torch.distributed.get_rank()"
   ]
  },
  {
   "cell_type": "code",
   "execution_count": null,
   "id": "6d5d2a62-6e31-47d6-b62e-e89eecf3fd7a",
   "metadata": {},
   "outputs": [],
   "source": [
    "if rank == 69:\n",
    "    torch.distributed.isend(x, dest=42)\n",
    "elif rank == 42:\n",
    "    torch.distributed.irecv(tensor_will_be_received_data, src=69)"
   ]
  },
  {
   "cell_type": "markdown",
   "id": "ebf1df74-1ff3-4a18-84f0-a2a00bd6907a",
   "metadata": {},
   "source": [
    "step 1: fp16, fp32 of the weight\n",
    "step 2: do forward pass and backward pass using fp16\n",
    "step 3: cast \n",
    "step 4: update"
   ]
  },
  {
   "cell_type": "code",
   "execution_count": null,
   "id": "ddb17aed-d233-41ca-afda-5f9c3744d9c4",
   "metadata": {},
   "outputs": [],
   "source": [
    "step 1: scale the loss\n",
    "step 2: calculate grad with respect to the scaled loss\n",
    "step 3: unscale the scaled grad\n",
    "step 4: update params with respect to the unscaled grad"
   ]
  },
  {
   "cell_type": "code",
   "execution_count": null,
   "id": "620d7efa-8313-40cd-8ba5-26c6002c8567",
   "metadata": {},
   "outputs": [],
   "source": [
    "clock cycle 1: backward(4, 3), recompute(3, 3)\n",
    "clock cycle 3: backward(3, 3), recompute(2, 3)\n",
    "clock cycle 3: backward(2, 3), recompute(1, 3)"
   ]
  },
  {
   "cell_type": "markdown",
   "id": "a52838d9-a9f5-4f92-9b37-5ab9c551bbaf",
   "metadata": {},
   "source": [
    "### MechInterp"
   ]
  },
  {
   "cell_type": "code",
   "execution_count": null,
   "id": "90e1e3f4-b809-4e89-a6af-15a192b8745f",
   "metadata": {},
   "outputs": [],
   "source": [
    "components = []"
   ]
  },
  {
   "cell_type": "code",
   "execution_count": null,
   "id": "fbbf65de-5ecd-45a9-90a5-aa328c41b510",
   "metadata": {},
   "outputs": [],
   "source": [
    "components.append(cache[\"embed\"])\n",
    "components.append(cache[\"pos_embed\"])"
   ]
  },
  {
   "cell_type": "code",
   "execution_count": 18,
   "id": "6dd84cc3-f9ce-4d18-81e6-ab5ad4c900da",
   "metadata": {
    "tags": []
   },
   "outputs": [],
   "source": [
    "from transformer_lens.utils import get_act_name"
   ]
  },
  {
   "cell_type": "code",
   "execution_count": null,
   "id": "175e1e1e-6eb2-4083-b261-631c524225ae",
   "metadata": {},
   "outputs": [],
   "source": [
    "for layer_idx in range(3):\n",
    "    head_name = get_act_name(\"attn_out\", layer_idx)\n",
    "    mlp_name = get_act_name(\"mlp_out\", layer_idx)\n",
    "    \n",
    "    components.append(cache[head_name])\n",
    "    components.append(cache[mlp_name])"
   ]
  },
  {
   "cell_type": "code",
   "execution_count": null,
   "id": "a60d0d9a-c00e-4a1a-baf3-30cf76f76145",
   "metadata": {},
   "outputs": [],
   "source": [
    "step 1: prob to logit difference\n",
    "step 2: break down the logits into individual components\n",
    "step 3: calculate the logit difference direction\n",
    "step 4: project each component into the logit diff direc "
   ]
  },
  {
   "cell_type": "code",
   "execution_count": null,
   "id": "46ca8908-77fc-45ec-94a8-5f5e87b29356",
   "metadata": {},
   "outputs": [],
   "source": [
    "head_names = [get_act_name(\"result\", layer_idx) for layer_idx in range(n_layers)]\n",
    "mlp_names = [get_act_name(\"mlp_out\", layer_idx) for layer_idx in range(n_layers)]"
   ]
  },
  {
   "cell_type": "code",
   "execution_count": null,
   "id": "e5ef5e08-8da9-44c9-a069-353cddc8b485",
   "metadata": {},
   "outputs": [],
   "source": [
    "all_hook_names = [\"hook_embed\", \"hook_pos_embed\"]"
   ]
  },
  {
   "cell_type": "code",
   "execution_count": null,
   "id": "c6bfd1a4-9239-4986-ab07-2ce52a5615b5",
   "metadata": {},
   "outputs": [],
   "source": [
    "_, cache = model.run_with_cache(\n",
    "    tokens,\n",
    "    names_filter=lambda x: x in all_hook_names\n",
    ")"
   ]
  },
  {
   "cell_type": "code",
   "execution_count": null,
   "id": "0f7d5250-5c3a-4e11-aeff-b0a113dd1506",
   "metadata": {},
   "outputs": [],
   "source": [
    "input_components = torch.cat([cache[\"hook_embed\"] + cache[\"pos_embed\"]]).unsqueeze(0)"
   ]
  },
  {
   "cell_type": "code",
   "execution_count": null,
   "id": "0ca42aaa-1035-43ea-be52-ae180009649e",
   "metadata": {},
   "outputs": [],
   "source": [
    "for head_name, mlp_name in zip(head_names, mlp_names):\n",
    "    input_components = torch.cat([\n",
    "        input_components,\n",
    "        cache[head_name],\n",
    "        cache[mlp_name]\n",
    "    ])"
   ]
  },
  {
   "cell_type": "code",
   "execution_count": null,
   "id": "158e4b7c-26c0-42c9-b1c4-a0a03e298567",
   "metadata": {},
   "outputs": [],
   "source": [
    "W_U = model.W_U\n",
    "logit_difference_direction = W_U[:, 0] - W_U[:, 1]\n",
    "\n",
    "\n",
    "pre_ln_direction = final_ln_coeffs.T @ logit_difference_direction"
   ]
  },
  {
   "cell_type": "code",
   "execution_count": 19,
   "id": "3dd06da6-967a-4751-962a-39e470f93c13",
   "metadata": {
    "tags": []
   },
   "outputs": [],
   "source": [
    "from einops import einsum"
   ]
  },
  {
   "cell_type": "code",
   "execution_count": null,
   "id": "0905bcc8-ea5a-4e8a-a482-a4798f8d799d",
   "metadata": {},
   "outputs": [],
   "source": [
    "contributions = einsum(\n",
    "    input_components,\n",
    "    pre_ln_direction,\n",
    "    \"\"\n",
    ")"
   ]
  },
  {
   "cell_type": "code",
   "execution_count": null,
   "id": "94daa39b-002e-4e51-8644-995e91c71db8",
   "metadata": {},
   "outputs": [],
   "source": [
    "embed + pos_embed + attn00 + attn01 + mlp0 + attn10 + attn11 + mlp1"
   ]
  },
  {
   "cell_type": "code",
   "execution_count": null,
   "id": "2cb5bc96-1018-4998-85b0-b803820d6cdb",
   "metadata": {},
   "outputs": [],
   "source": [
    "W_pos = model.W_pos\n",
    "W_Q = model.W_Q[layer_idx, head_idx]\n",
    "W_K = model.W_K[layer_idx, head_idx]"
   ]
  },
  {
   "cell_type": "code",
   "execution_count": null,
   "id": "a39e0289-ce0c-4828-9c0b-f61e9662f0fb",
   "metadata": {},
   "outputs": [],
   "source": [
    "pos_by_pos_scores = W_pos @ W_Q @ Q_K @ W_pos.T"
   ]
  },
  {
   "cell_type": "code",
   "execution_count": 20,
   "id": "8c84f7de-2a63-4d53-a4bf-6099287f7f3b",
   "metadata": {
    "tags": []
   },
   "outputs": [],
   "source": [
    "def mask_scores(scores):\n",
    "    masks = torch.triu(torch.zeros_like(scores)).bool()\n",
    "    inf_neg = torch.float(-1e9)\n",
    "    return torch.where(masks, scores, inf_neg)"
   ]
  },
  {
   "cell_type": "code",
   "execution_count": null,
   "id": "0f4de672-a788-4a0a-a08a-76ccb343fdb6",
   "metadata": {},
   "outputs": [],
   "source": [
    "masked_pos_by_pos_scores = mask_scores(pos_by_pos_scores/(0.5**d_head))"
   ]
  },
  {
   "cell_type": "code",
   "execution_count": null,
   "id": "43254a78-e01a-4cb4-8be9-6c902a68a1c2",
   "metadata": {},
   "outputs": [],
   "source": [
    "pos_by_pos_pattern = F.softmax(masked_pos_by_pos_scores, dim=-1)"
   ]
  },
  {
   "cell_type": "code",
   "execution_count": 21,
   "id": "7d3afffd-6ccd-435b-9701-7c86a1b065d7",
   "metadata": {
    "tags": []
   },
   "outputs": [],
   "source": [
    "from einops import reduce"
   ]
  },
  {
   "cell_type": "code",
   "execution_count": null,
   "id": "ed3cedc9-7e12-488a-8661-f52d2ba73b05",
   "metadata": {},
   "outputs": [],
   "source": [
    "seq_len = 4"
   ]
  },
  {
   "cell_type": "code",
   "execution_count": null,
   "id": "b1d62439-bd47-4ae5-bf33-c6c42eccd2d3",
   "metadata": {},
   "outputs": [],
   "source": [
    "induction_stripe = attn_weights.diagonal(dim1=-2, dim2=-1, offset=seq_len-1)"
   ]
  },
  {
   "cell_type": "code",
   "execution_count": null,
   "id": "51a5f89a-ae79-4e11-8251-8118d9c65830",
   "metadata": {},
   "outputs": [],
   "source": [
    "step 1: x = embed + pos_embed + sum(12 heads)\n",
    "step 2: query = x@W_Q, key=x@W_K\n",
    "step 3: query= [embed + pos_embed + sum(12 heads)]@W_Q\n",
    "step 4: embed@W_Q + pos_embed@W_Q + head0O@W_Q + ..."
   ]
  },
  {
   "cell_type": "code",
   "execution_count": null,
   "id": "332aed67-1217-4b35-8e92-eb63dab4647c",
   "metadata": {},
   "outputs": [],
   "source": [
    "tokens = model.to_tokens(text)"
   ]
  },
  {
   "cell_type": "code",
   "execution_count": null,
   "id": "482ed55b-0450-4dfa-bd8b-27b3ea718a3e",
   "metadata": {},
   "outputs": [],
   "source": [
    "_, cache = model.run_with_cache(tokens)"
   ]
  },
  {
   "cell_type": "code",
   "execution_count": null,
   "id": "2f2b46b2-16cd-4bc6-9572-b2f6dd3053bc",
   "metadata": {},
   "outputs": [],
   "source": [
    "embed = cache[\"hook_embed\"]\n",
    "pos_embed = cache[\"hook_pos_embed\"]\n",
    "heads = cache[\"result\", prev_layer_idx]"
   ]
  },
  {
   "cell_type": "code",
   "execution_count": null,
   "id": "65a628c6-82ca-45a0-8c36-207323f1777c",
   "metadata": {},
   "outputs": [],
   "source": [
    "input_components = torch.cat([\n",
    "    embed, pos_embed, heads\n",
    "], dim=0)"
   ]
  },
  {
   "cell_type": "code",
   "execution_count": null,
   "id": "e7901004-c43a-42eb-b27c-fdb7cfd832ee",
   "metadata": {},
   "outputs": [],
   "source": [
    "W_Q = model.W_Q"
   ]
  },
  {
   "cell_type": "code",
   "execution_count": null,
   "id": "01ba7b59-894f-47dd-84c0-abba3c9aaa95",
   "metadata": {},
   "outputs": [],
   "source": [
    "query_components = torch.tensor([])\n",
    "\n",
    "for component in input_components:\n",
    "    query_components = torch.cat([\n",
    "        query_components,\n",
    "        einsum(component, W_Q, \"\")\n",
    "    ])"
   ]
  },
  {
   "cell_type": "code",
   "execution_count": null,
   "id": "d5c93887-77b5-4509-900e-e948891edaf8",
   "metadata": {},
   "outputs": [],
   "source": [
    "query_contributions = query_components.pow(2).sum(dim=-1)"
   ]
  },
  {
   "cell_type": "markdown",
   "id": "29b3c6d3-0884-4672-a462-f5fb1ce03bbe",
   "metadata": {},
   "source": [
    "no superposition: if activation's dimension = n, => n features because in a n-dimensional space, there're only n independent basis vectors, by definition, in a non-superposition neural network, all features are linearly independent"
   ]
  },
  {
   "cell_type": "code",
   "execution_count": null,
   "id": "c1e337f6-df52-48cb-9389-849ca3049312",
   "metadata": {},
   "outputs": [],
   "source": [
    "W_E = model.W_E\n",
    "\n",
    "W_E[:, tokens]"
   ]
  },
  {
   "cell_type": "code",
   "execution_count": null,
   "id": "d07446e9-e17e-4bf6-a9c1-4ab2d7449362",
   "metadata": {},
   "outputs": [],
   "source": [
    "step 1: prob(0) = logit0 - logit1\n",
    "\n",
    "\n",
    "logit0 = final_ln @ W_U[0]\n",
    "logit1 = final_ln @ W_U[1]\n",
    "\n",
    "prob(0) = final_ln @ W_U[0] - final_ln @ W_U[1]\n",
    "prob(0) = final_ln @ (W_U[0] - W_U[1]"
   ]
  },
  {
   "cell_type": "code",
   "execution_count": null,
   "id": "f3aa02e0-1f33-4c41-868f-04a837547dae",
   "metadata": {},
   "outputs": [],
   "source": [
    "step 1: record\n",
    "step 2: \n",
    "step 3:"
   ]
  },
  {
   "cell_type": "code",
   "execution_count": null,
   "id": "8f56a8d7-6769-496c-8f53-0379f53e3a87",
   "metadata": {},
   "outputs": [],
   "source": [
    "logits = MLP(Attn(x@W_E))@W_U"
   ]
  },
  {
   "cell_type": "code",
   "execution_count": null,
   "id": "c5f4708b-eb7e-4037-ac72-6963cf4414d8",
   "metadata": {},
   "outputs": [],
   "source": [
    "step 1: record all the interdimate activations\n",
    "step 2: decompose the logits\n",
    "step 3: calculate the logit difference direction\n",
    "step 4: project"
   ]
  },
  {
   "cell_type": "code",
   "execution_count": null,
   "id": "7f9b7017-5b46-44e7-943c-29c6f215ea03",
   "metadata": {},
   "outputs": [],
   "source": [
    "A.T@W_E + A.T@W_E@W_OV"
   ]
  },
  {
   "cell_type": "code",
   "execution_count": null,
   "id": "1a742e73-4338-4089-8fa3-6d7c2ebe074a",
   "metadata": {},
   "outputs": [],
   "source": [
    "v_2@W_Q @ [v_0, v_1] @ W_K"
   ]
  },
  {
   "cell_type": "code",
   "execution_count": null,
   "id": "5c97e850-09f2-4f39-bde0-81a0c563dacd",
   "metadata": {},
   "outputs": [],
   "source": [
    "weight @ input = output\n",
    "weight.T @ weight @ input = weight.T @ output\n",
    "input = weight.T @ output"
   ]
  },
  {
   "cell_type": "code",
   "execution_count": 22,
   "id": "67b7895b-d69e-464d-bc70-9443347fd85e",
   "metadata": {
    "tags": []
   },
   "outputs": [],
   "source": [
    "from einops import rearrange"
   ]
  },
  {
   "cell_type": "code",
   "execution_count": null,
   "id": "1e94df25-85a8-4447-b938-a0889b9f6cc4",
   "metadata": {},
   "outputs": [],
   "source": [
    "def compute_logits(model, xb, yb):\n",
    "    preds = model(xb)\n",
    "    \n",
    "    preds = rearrange(preds, \"bs seq_len d_model -> (bs seq_len) d_model\")"
   ]
  },
  {
   "cell_type": "code",
   "execution_count": null,
   "id": "76cdb8f9-579f-4f04-b58d-e63062c19269",
   "metadata": {},
   "outputs": [],
   "source": [
    "class Bottle"
   ]
  },
  {
   "cell_type": "code",
   "execution_count": 24,
   "id": "c8cbfe20-c125-4b34-b308-3323932dc28a",
   "metadata": {
    "tags": []
   },
   "outputs": [],
   "source": [
    "def compute_loss(model, xb, yb):\n",
    "    preds = model(xb)\n",
    "    preds = rearrange(preds, \"bs seq_len d_model -> (bs seq_len) d_model\")\n",
    "    yb = rearrange(yb, \"bs seq_len -> (bs seq_len)\")\n",
    "    loss = F.cross_entropy(preds, yb)\n",
    "    return loss"
   ]
  },
  {
   "cell_type": "code",
   "execution_count": null,
   "id": "80a94bbe-0311-47b0-8b1f-2e015d9ee2b6",
   "metadata": {},
   "outputs": [],
   "source": [
    "class Model(nn.Module):\n",
    "    def __init__(self):\n",
    "        self.register_buffer(\"means\", _one_vectors)"
   ]
  },
  {
   "cell_type": "code",
   "execution_count": 25,
   "id": "bd05fb71-f75c-4910-8328-ddcc95d7f956",
   "metadata": {
    "tags": []
   },
   "outputs": [],
   "source": [
    "class BottleneckResidualBlock(nn.Module):\n",
    "    def __init__(self, in_channels, bottleneck_channels, out_channels, stride):\n",
    "        super().__init__()\n",
    "        pass"
   ]
  },
  {
   "cell_type": "code",
   "execution_count": null,
   "id": "8cf45576-0a7c-41f0-b7f9-cc911eff65e5",
   "metadata": {},
   "outputs": [],
   "source": []
  }
 ],
 "metadata": {
  "kernelspec": {
   "display_name": "Python 3 (ipykernel)",
   "language": "python",
   "name": "python3"
  },
  "language_info": {
   "codemirror_mode": {
    "name": "ipython",
    "version": 3
   },
   "file_extension": ".py",
   "mimetype": "text/x-python",
   "name": "python",
   "nbconvert_exporter": "python",
   "pygments_lexer": "ipython3",
   "version": "3.8.16"
  }
 },
 "nbformat": 4,
 "nbformat_minor": 5
}
