{
 "cells": [
  {
   "cell_type": "markdown",
   "id": "2a0f21a5-4c42-4198-9fde-ddd7448adba5",
   "metadata": {},
   "source": [
    "### Engineering"
   ]
  },
  {
   "cell_type": "code",
   "execution_count": null,
   "id": "90085759-0de4-4926-831d-c275b9c75b51",
   "metadata": {},
   "outputs": [],
   "source": [
    "container runtime, kubelet, kube-proxy"
   ]
  },
  {
   "cell_type": "code",
   "execution_count": null,
   "id": "4a43aca6-947f-45f2-9c01-c846a72764cc",
   "metadata": {},
   "outputs": [],
   "source": [
    "clock cycle 1: F_{1, 1}\n",
    "clock cycle 2: F_{1, 2}, F_{2, 1}\n",
    "clock cycle 3: F_{1, 3}, F_{2, 2}, F_{3, 1}"
   ]
  },
  {
   "cell_type": "code",
   "execution_count": null,
   "id": "f4fece87-b5ad-40e2-94ab-344383394df3",
   "metadata": {},
   "outputs": [],
   "source": [
    "shared memory, file system, "
   ]
  },
  {
   "cell_type": "code",
   "execution_count": 4,
   "id": "e88769a0-b8f7-467f-8365-df44ca4d6c6b",
   "metadata": {
    "tags": []
   },
   "outputs": [],
   "source": [
    "import copy"
   ]
  },
  {
   "cell_type": "code",
   "execution_count": null,
   "id": "4bf1f617-3d7c-4969-99d8-050475981aa9",
   "metadata": {},
   "outputs": [],
   "source": [
    "class ModelStateHandler:\n",
    "    def __init__(self, model):\n",
    "        self.set_value(model)\n",
    "    \n",
    "    def save(self):\n",
    "        self._model_state_dict = copy.deepcopy(\n",
    "            self.value.state_dict()\n",
    "        )\n",
    "    \n",
    "    def restore(self):\n",
    "        self.value.load_state_dict(self._model_state_dict)\n",
    "        \n",
    "    def sync(self):\n",
    "        broadcast_parameters(self.value)\n",
    "    \n",
    "    def set_value(self, value):\n",
    "        self.value = value\n",
    "        self.save()"
   ]
  },
  {
   "cell_type": "code",
   "execution_count": 1,
   "id": "924fb799-340b-4396-bb62-d08244284001",
   "metadata": {
    "tags": []
   },
   "outputs": [],
   "source": [
    "def get_handler(v):\n",
    "    for handler_type, handler_cls in handler_registry:\n",
    "        if isinstance(v, handler_cls):\n",
    "            return handler_cls(v)\n",
    "    \n",
    "    return None"
   ]
  },
  {
   "cell_type": "code",
   "execution_count": 3,
   "id": "3f7633b1-c28b-4aa6-969f-0a00f1f4e64f",
   "metadata": {
    "tags": []
   },
   "outputs": [],
   "source": [
    "def get_handlers(states):\n",
    "    handlers = {}\n",
    "    remainders = {}\n",
    "    \n",
    "    for k, v in states:\n",
    "        handler = get_handler(v)\n",
    "        \n",
    "        if handler is None:\n",
    "            remainders[k] = v\n",
    "        else:\n",
    "            handlers[k] = v\n",
    "    return handlers, remainders"
   ]
  },
  {
   "cell_type": "code",
   "execution_count": 5,
   "id": "df0ab73d-3dff-47f1-be40-0b88784d5364",
   "metadata": {
    "tags": []
   },
   "outputs": [],
   "source": [
    "class HostsUpdatedInterrupt(Exception):\n",
    "    def __init__(self, skip_sync):\n",
    "        self.skip_sync = skip_sync"
   ]
  },
  {
   "cell_type": "code",
   "execution_count": null,
   "id": "5783881f-ecca-41b6-8b2a-3a625f40fb0f",
   "metadata": {},
   "outputs": [],
   "source": [
    "reason 1: node changes\n",
    "reason 2: no retrain the processed data"
   ]
  },
  {
   "cell_type": "code",
   "execution_count": null,
   "id": "c80541ee-2001-4888-829c-a7d6b955c636",
   "metadata": {},
   "outputs": [],
   "source": [
    "step 1: elastic driver notify notification service\n",
    "step 2: notification service > notification manager\n",
    "step 3: notification manager trigger on_host_update"
   ]
  },
  {
   "cell_type": "code",
   "execution_count": 6,
   "id": "3a11efcd-30a8-487f-80a1-a2b7e15bf02b",
   "metadata": {
    "tags": []
   },
   "outputs": [],
   "source": [
    "import torch\n",
    "from torch import nn\n",
    "import torch.nn.functional as F"
   ]
  },
  {
   "cell_type": "code",
   "execution_count": 7,
   "id": "f448f397-4286-45a0-a0d9-07de325d46d5",
   "metadata": {
    "tags": []
   },
   "outputs": [],
   "source": [
    "ranks = [0, 1, 3, 6]\n",
    "group = None\n",
    "rank = torch.distributed.get_rank()"
   ]
  },
  {
   "cell_type": "code",
   "execution_count": null,
   "id": "7b52cf9a-b681-4111-93af-93b7acb473e1",
   "metadata": {},
   "outputs": [],
   "source": [
    "if rank in ranks:\n",
    "    group = torch.distributed.new_group(ranks)"
   ]
  },
  {
   "cell_type": "code",
   "execution_count": null,
   "id": "0b6458ab-54d3-434f-8c07-feb4906f33f4",
   "metadata": {},
   "outputs": [],
   "source": [
    "if group is not None:\n",
    "    torch.distributed.broadcast(x, src=0, group=group)"
   ]
  },
  {
   "cell_type": "code",
   "execution_count": 8,
   "id": "a895b2e8-4899-4c2a-a818-f9886a1b3744",
   "metadata": {
    "tags": []
   },
   "outputs": [],
   "source": [
    "world_size = 16\n",
    "tensor_model_parallel_size = 2\n",
    "pipeline_model_paralell_size = 4"
   ]
  },
  {
   "cell_type": "code",
   "execution_count": 9,
   "id": "1b1ee459-3cdf-40a1-9a20-0170e403a6de",
   "metadata": {
    "tags": []
   },
   "outputs": [],
   "source": [
    "num_pipeline_model_parallel_groups = 4"
   ]
  },
  {
   "cell_type": "code",
   "execution_count": 12,
   "id": "ad7ff421-dfed-44ab-8053-97dba51d92d5",
   "metadata": {
    "tags": []
   },
   "outputs": [
    {
     "name": "stdout",
     "output_type": "stream",
     "text": [
      "[0, 2]\n",
      "[1, 3]\n",
      "[4, 6]\n",
      "[5, 7]\n",
      "[8, 10]\n",
      "[9, 11]\n",
      "[12, 14]\n",
      "[13, 15]\n"
     ]
    }
   ],
   "source": [
    "for i in range(pipeline_model_paralell_size):\n",
    "    start_rank = i*num_pipeline_model_parallel_groups\n",
    "    end_rank = (i+1)*num_pipeline_model_parallel_groups\n",
    "    \n",
    "    for j in range(tensor_model_parallel_size):\n",
    "        ranks = list(range(\n",
    "            start_rank+j,\n",
    "            end_rank,\n",
    "            tensor_model_parallel_size\n",
    "        ))\n",
    "        \n",
    "        print(ranks)"
   ]
  },
  {
   "cell_type": "code",
   "execution_count": null,
   "id": "5e670aed-c924-4c19-8624-819fdf00cf89",
   "metadata": {},
   "outputs": [],
   "source": [
    "host discovery script, elastic driver, "
   ]
  },
  {
   "cell_type": "markdown",
   "id": "ce07b904-a06b-4e77-9d1e-b21891730c76",
   "metadata": {},
   "source": [
    "### MechInterp"
   ]
  },
  {
   "cell_type": "code",
   "execution_count": null,
   "id": "a0f0a914-46cf-492f-b462-f3a3b3b65951",
   "metadata": {},
   "outputs": [],
   "source": [
    "q, k, v, attern pattern, output"
   ]
  },
  {
   "cell_type": "code",
   "execution_count": null,
   "id": "f9136bb0-a1a6-4131-8355-8440c16e789d",
   "metadata": {},
   "outputs": [],
   "source": [
    "model.W_E"
   ]
  },
  {
   "cell_type": "code",
   "execution_count": null,
   "id": "b322730f-433a-465c-9873-e6d9a7d38e25",
   "metadata": {},
   "outputs": [],
   "source": [
    "x@W_Q \n",
    "\n",
    "\n",
    "x = embed + pos_embed + 12 heads"
   ]
  },
  {
   "cell_type": "code",
   "execution_count": 13,
   "id": "8899d3b6-c1bb-4125-a532-0e83a717ec62",
   "metadata": {
    "tags": []
   },
   "outputs": [],
   "source": [
    "from transformer_lens import FactoredMatrix"
   ]
  },
  {
   "cell_type": "code",
   "execution_count": null,
   "id": "49a72971-13c0-471f-a667-0ae9f786177c",
   "metadata": {},
   "outputs": [],
   "source": [
    "W_O = model.W_O[layer_idx, head_idx]\n",
    "W_V = model.W_V[layer_idx, head_idx]\n",
    "\n",
    "W_E = model.W_E\n",
    "W_U = model.W_U"
   ]
  },
  {
   "cell_type": "code",
   "execution_count": null,
   "id": "ff194ece-0dc3-44be-a697-ee665f93414a",
   "metadata": {},
   "outputs": [],
   "source": [
    "OV_circuit = FactoredMatrix(A=W_V, B=W_O)"
   ]
  },
  {
   "cell_type": "code",
   "execution_count": null,
   "id": "bf850b60-37a2-4175-b1aa-695ba2a42f05",
   "metadata": {},
   "outputs": [],
   "source": [
    "full_OV_circuit = W_E @ OV_circuit @ W_U"
   ]
  },
  {
   "cell_type": "code",
   "execution_count": null,
   "id": "be3b7074-06cc-4c49-b944-0bc296449c7e",
   "metadata": {},
   "outputs": [],
   "source": [
    "tokens = model.to_tokens(text)"
   ]
  },
  {
   "cell_type": "code",
   "execution_count": null,
   "id": "69a10176-4882-454e-b942-81fb00d1a6fd",
   "metadata": {},
   "outputs": [],
   "source": [
    "_, cache = model.run_with_cache(tokens)"
   ]
  },
  {
   "cell_type": "code",
   "execution_count": null,
   "id": "1472599f-3fd4-4d5b-8f87-729afe1e5fd9",
   "metadata": {},
   "outputs": [],
   "source": [
    "embed = cache[\"hook_embed\"]\n",
    "unembed = cache[\"hook_unembed\"]\n",
    "head_outputs = cache[\"result\", layer_idx]"
   ]
  },
  {
   "cell_type": "code",
   "execution_count": 14,
   "id": "72b6495b-b3ee-4128-a866-ad210e79d963",
   "metadata": {
    "tags": []
   },
   "outputs": [],
   "source": [
    "from einops import einsum"
   ]
  },
  {
   "cell_type": "code",
   "execution_count": null,
   "id": "b3a99e91-425c-474e-a5e2-9d2fc8d3e051",
   "metadata": {},
   "outputs": [],
   "source": [
    "input_components = torch.cat([\n",
    "    embed, unembed, head_outputs\n",
    "], dim=0)"
   ]
  },
  {
   "cell_type": "code",
   "execution_count": null,
   "id": "31729f82-88ab-4105-b944-4b4d3120d16a",
   "metadata": {},
   "outputs": [],
   "source": [
    "W_Q = model.W_Q[layer_idx]\n",
    "query_components = input_components @ W_Q"
   ]
  },
  {
   "cell_type": "code",
   "execution_count": null,
   "id": "d15a1946-7358-4a31-a4f1-8534e2574947",
   "metadata": {},
   "outputs": [],
   "source": [
    "W_K = model.W_K[layer_idx]\n",
    "key_components = input_components @ W_K"
   ]
  },
  {
   "cell_type": "code",
   "execution_count": null,
   "id": "bcae8187-a56f-43e0-aa9b-f0096e5e1e4f",
   "metadata": {},
   "outputs": [],
   "source": [
    "decomposed_scores = einsum(\n",
    "    \n",
    ")"
   ]
  },
  {
   "cell_type": "code",
   "execution_count": 15,
   "id": "2214ffde-1dac-4e40-aaf4-790a2835b8c4",
   "metadata": {
    "tags": []
   },
   "outputs": [],
   "source": [
    "from transformer_lens import FactoredMatrix"
   ]
  },
  {
   "cell_type": "code",
   "execution_count": null,
   "id": "bb87794c-6b75-4d62-9fe7-29ee756d0f8f",
   "metadata": {},
   "outputs": [],
   "source": [
    "AB = FactoredMatrix(A=A, B=B)"
   ]
  },
  {
   "cell_type": "code",
   "execution_count": null,
   "id": "e04eb8d0-2a57-4c3f-99cf-663dad7cfac4",
   "metadata": {},
   "outputs": [],
   "source": [
    "eigenvalues = AB.eigenvalues"
   ]
  },
  {
   "cell_type": "code",
   "execution_count": null,
   "id": "194f93f5-36ce-4ad1-9286-bac0f55e6378",
   "metadata": {},
   "outputs": [],
   "source": [
    "embed = cache[\"hook_embed\"]\n",
    "unembed = cache[\"hook_unembed\"]"
   ]
  },
  {
   "cell_type": "code",
   "execution_count": 16,
   "id": "5179e509-5f90-4699-a274-29ae71b96b43",
   "metadata": {
    "tags": []
   },
   "outputs": [],
   "source": [
    "components = []"
   ]
  },
  {
   "cell_type": "code",
   "execution_count": null,
   "id": "3c4f0906-af5e-4db6-ba02-8425cd87afd7",
   "metadata": {},
   "outputs": [],
   "source": [
    "components.append(embed)\n",
    "components.append(unembed)"
   ]
  },
  {
   "cell_type": "code",
   "execution_count": null,
   "id": "b50ee202-354b-4c88-9b0b-d9e80fe71c1c",
   "metadata": {},
   "outputs": [],
   "source": [
    "for layer_idx in range(3):\n",
    "    mlp_out = cache[\"mlp_out\", layer_idx]\n",
    "    attn_out = cache[\"attn_out\", layer_idx]\n",
    "    components.append(mlp_out)\n",
    "    components.append(attn_out)"
   ]
  },
  {
   "cell_type": "code",
   "execution_count": null,
   "id": "707411d1-0fb4-4f89-8578-47f4d2436ec4",
   "metadata": {},
   "outputs": [],
   "source": [
    "cache[\"block.1.attn.pattern\"]"
   ]
  },
  {
   "cell_type": "code",
   "execution_count": null,
   "id": "ce3328a4-a715-4a32-ac21-452239db0178",
   "metadata": {},
   "outputs": [],
   "source": [
    "mlp(attn(t@W_E))@W_U"
   ]
  },
  {
   "cell_type": "markdown",
   "id": "b4d65d79-44c3-4fd1-a073-ca3bdac3dcb8",
   "metadata": {},
   "source": [
    "### MLE"
   ]
  },
  {
   "cell_type": "code",
   "execution_count": 17,
   "id": "9fc51532-b094-43b7-8f86-a930f7c5a5ab",
   "metadata": {
    "tags": []
   },
   "outputs": [],
   "source": [
    "from typing import Sequence"
   ]
  },
  {
   "cell_type": "code",
   "execution_count": null,
   "id": "930302cb-1159-4dee-b440-463579325220",
   "metadata": {},
   "outputs": [],
   "source": [
    "def foo(collections: Sequence[str]):\n",
    "    pass"
   ]
  },
  {
   "cell_type": "markdown",
   "id": "1ba5f752-fdd2-4d83-8d12-37ab4d5dddab",
   "metadata": {},
   "source": [
    "### AI"
   ]
  },
  {
   "cell_type": "code",
   "execution_count": 18,
   "id": "4622db17-0234-4e81-a316-c10b21b059c7",
   "metadata": {
    "tags": []
   },
   "outputs": [],
   "source": [
    "import torch\n",
    "from torch import nn\n",
    "import torch.nn.functional as F"
   ]
  },
  {
   "cell_type": "code",
   "execution_count": 19,
   "id": "105d97b8-bb47-468b-8e9a-029e23a39d37",
   "metadata": {
    "tags": []
   },
   "outputs": [
    {
     "name": "stdout",
     "output_type": "stream",
     "text": [
      "[0, 2]\n",
      "[1, 3]\n",
      "[4, 6]\n",
      "[5, 7]\n",
      "[8, 10]\n",
      "[9, 11]\n",
      "[12, 14]\n",
      "[13, 15]\n"
     ]
    }
   ],
   "source": [
    "for i in range(pipeline_model_paralell_size):\n",
    "    start_rank = i*num_pipeline_model_parallel_groups\n",
    "    end_rank = (i+1)*num_pipeline_model_parallel_groups\n",
    "    \n",
    "    for j in range(tensor_model_parallel_size):\n",
    "        ranks = list(range(\n",
    "            start_rank+j,\n",
    "            end_rank,\n",
    "            tensor_model_parallel_size\n",
    "        ))\n",
    "        \n",
    "        print(ranks)"
   ]
  },
  {
   "cell_type": "code",
   "execution_count": null,
   "id": "3d0c448e-4686-4e97-b2fe-0f34b7b2d15d",
   "metadata": {},
   "outputs": [],
   "source": [
    "MLP(Attn(t@W_E))@W_U"
   ]
  },
  {
   "cell_type": "code",
   "execution_count": 20,
   "id": "f77e99eb-4567-42e6-87b3-50ff27083c70",
   "metadata": {
    "tags": []
   },
   "outputs": [],
   "source": [
    "from einops import rearrange"
   ]
  },
  {
   "cell_type": "code",
   "execution_count": null,
   "id": "8d5b1c13-76c7-400a-8e1f-1a3f3b72fa15",
   "metadata": {},
   "outputs": [],
   "source": [
    "output = einsum(\n",
    "    images,\n",
    "    \"\"\n",
    ")"
   ]
  }
 ],
 "metadata": {
  "kernelspec": {
   "display_name": "Python 3 (ipykernel)",
   "language": "python",
   "name": "python3"
  },
  "language_info": {
   "codemirror_mode": {
    "name": "ipython",
    "version": 3
   },
   "file_extension": ".py",
   "mimetype": "text/x-python",
   "name": "python",
   "nbconvert_exporter": "python",
   "pygments_lexer": "ipython3",
   "version": "3.8.16"
  }
 },
 "nbformat": 4,
 "nbformat_minor": 5
}
