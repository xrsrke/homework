{
 "cells": [
  {
   "cell_type": "markdown",
   "id": "3b0da630-4c6e-4e9e-bbb3-27a44afc8f29",
   "metadata": {},
   "source": [
    "### Engineering"
   ]
  },
  {
   "cell_type": "code",
   "execution_count": 1,
   "id": "1d605149-b729-42fa-bc83-cc8f15efe7fa",
   "metadata": {
    "tags": []
   },
   "outputs": [],
   "source": [
    "import torch\n",
    "from torch import nn\n",
    "import torch.nn.functional as F"
   ]
  },
  {
   "cell_type": "code",
   "execution_count": null,
   "id": "424579e8-3fc5-42bb-8770-c82e8b6bc193",
   "metadata": {},
   "outputs": [],
   "source": [
    "int x{y};"
   ]
  },
  {
   "cell_type": "code",
   "execution_count": null,
   "id": "9a84ede8-23ca-46df-9643-cb0e6698a740",
   "metadata": {},
   "outputs": [],
   "source": [
    "step 1: init epoch, num of processed data\n",
    "step 2: get unprocessed data\n",
    "step 3: number of workers\n",
    "step 4: partrition"
   ]
  },
  {
   "cell_type": "code",
   "execution_count": null,
   "id": "54b9ea4b-80ac-46ed-b452-d85a51248e5a",
   "metadata": {},
   "outputs": [],
   "source": [
    "#include <iostream>"
   ]
  },
  {
   "cell_type": "code",
   "execution_count": null,
   "id": "bc4eb6fc-f91f-4951-9bf1-ff1ff2119cd4",
   "metadata": {},
   "outputs": [],
   "source": [
    "int main() {\n",
    "    int numbers[] = {1, 2, 3, 4, 5};\n",
    "    \n",
    "    for (int i; i <= 3; i++) {\n",
    "        std::cout << numbers[i];\n",
    "    }\n",
    "    \n",
    "    return 0;\n",
    "}"
   ]
  },
  {
   "cell_type": "code",
   "execution_count": null,
   "id": "cba47fea-6243-41a1-b23d-441dd2311e27",
   "metadata": {},
   "outputs": [],
   "source": [
    "kublet, container runtime"
   ]
  },
  {
   "cell_type": "code",
   "execution_count": 2,
   "id": "fff03a75-7b8f-43f0-9ab9-ed741cabfc0b",
   "metadata": {
    "tags": []
   },
   "outputs": [],
   "source": [
    "n_cycles = 1_000_000"
   ]
  },
  {
   "cell_type": "code",
   "execution_count": null,
   "id": "15d4c6ae-7808-49ab-91b2-0f5cc11ed347",
   "metadata": {},
   "outputs": [],
   "source": [
    "start = torch.cuda.Event(enable_timing=True)\n",
    "torch.cuda._sleep(n_cycles)\n",
    "end = torch.cuda.Event(enable_timing=True)\n",
    "\n",
    "torch.cuda.synchronize()\n",
    "elapsed_time = end.elapsed_time(start)"
   ]
  },
  {
   "cell_type": "code",
   "execution_count": null,
   "id": "96bf803b-367d-449c-8b20-6062642ff0f4",
   "metadata": {},
   "outputs": [],
   "source": [
    "cycle_per_ms = n_cycles / elapsed_time"
   ]
  },
  {
   "cell_type": "code",
   "execution_count": null,
   "id": "00e8190f-f0fe-48bd-bdb9-9f492f2109c3",
   "metadata": {},
   "outputs": [],
   "source": [
    "def cuda_sleep(seconds):\n",
    "    ms = seconds * 1000\n",
    "    n_cycles = cycle_per_ms * ms\n",
    "    torch.cuda._sleep(int(n_cycles))"
   ]
  },
  {
   "cell_type": "code",
   "execution_count": null,
   "id": "fa8ddd7d-4e86-44ed-a16e-bbd464e6433d",
   "metadata": {},
   "outputs": [],
   "source": [
    "j partrition in j device\n",
    "\n",
    "forward j-1 is executed before j\n",
    "backward j is executed before j-1"
   ]
  },
  {
   "cell_type": "markdown",
   "id": "fb71aeb3-e976-40d1-bdeb-f72501f1e542",
   "metadata": {},
   "source": [
    "- monitor at run-time\n",
    "- if there're nodes leaved the cluster, reassign tasks\n",
    "- if there're new nodes entered the cluster, reconfigure communication ring"
   ]
  },
  {
   "cell_type": "code",
   "execution_count": null,
   "id": "78e6be93-2d2b-465a-b144-4ee4f38afc4f",
   "metadata": {},
   "outputs": [],
   "source": [
    "start = torch.cuda.Event(enable_timing=True)\n",
    "end = torch.cuda.Event(enable_timing=True)\n",
    "\n",
    "start.record()\n",
    "hardshit()\n",
    "end.record()\n",
    "\n",
    "elapsed_time = end.elapsed_time(start)"
   ]
  },
  {
   "cell_type": "code",
   "execution_count": null,
   "id": "79ed347d-ae14-4936-a959-6dfe74c12b0e",
   "metadata": {},
   "outputs": [],
   "source": [
    "int* p_x = &y;"
   ]
  },
  {
   "cell_type": "code",
   "execution_count": 3,
   "id": "c7ae1322-8e5a-42e7-8f0c-60cc179efa89",
   "metadata": {
    "tags": []
   },
   "outputs": [],
   "source": [
    "world_size = 16"
   ]
  },
  {
   "cell_type": "code",
   "execution_count": 4,
   "id": "e966f22f-22bc-457b-ba71-9e82765c2635",
   "metadata": {
    "tags": []
   },
   "outputs": [],
   "source": [
    "tensor_model_parallel_size = 2\n",
    "pipeline_model_parallel_size = 4"
   ]
  },
  {
   "cell_type": "code",
   "execution_count": 5,
   "id": "7320debc-77e5-413e-bb79-2345131141ae",
   "metadata": {
    "tags": []
   },
   "outputs": [],
   "source": [
    "num_pipeline_model_parallel_groups = 4"
   ]
  },
  {
   "cell_type": "code",
   "execution_count": 7,
   "id": "257cecd8-374b-493f-8b0a-7b48ae7997fe",
   "metadata": {
    "tags": []
   },
   "outputs": [
    {
     "name": "stdout",
     "output_type": "stream",
     "text": [
      "[0, 2]\n",
      "[1, 3]\n",
      "[4, 6]\n",
      "[5, 7]\n",
      "[8, 10]\n",
      "[9, 11]\n",
      "[12, 14]\n",
      "[13, 15]\n"
     ]
    }
   ],
   "source": [
    "for i in range(pipeline_model_parallel_size):\n",
    "    start_rank = i*num_pipeline_model_parallel_groups\n",
    "    end_rank = (i+1)*num_pipeline_model_parallel_groups\n",
    "    \n",
    "    for j in range(tensor_model_parallel_size):\n",
    "        ranks = list(range(\n",
    "            start_rank+j,\n",
    "            end_rank,\n",
    "            tensor_model_parallel_size\n",
    "        ))\n",
    "        \n",
    "        print(ranks)"
   ]
  },
  {
   "cell_type": "code",
   "execution_count": 8,
   "id": "9225e27d-71dd-44c5-8e85-42293aa8c4c2",
   "metadata": {
    "tags": []
   },
   "outputs": [],
   "source": [
    "from transformer_lens import FactoredMatrix"
   ]
  },
  {
   "cell_type": "code",
   "execution_count": null,
   "id": "ef53c4a6-b9b4-4729-a14d-0b0476962957",
   "metadata": {},
   "outputs": [],
   "source": [
    "W_E = model.W_E\n",
    "W_U = model.W_U"
   ]
  },
  {
   "cell_type": "code",
   "execution_count": null,
   "id": "037099cd-1149-4df0-be73-ae8a1e1f301f",
   "metadata": {},
   "outputs": [],
   "source": [
    "W_O = model.W_O[layer_idx, head_idx]\n",
    "W_V = model.W_V[layer_idx, head_idx]"
   ]
  },
  {
   "cell_type": "code",
   "execution_count": null,
   "id": "d83e4120-1791-456b-9cb8-34945615aa54",
   "metadata": {},
   "outputs": [],
   "source": [
    "OV_circuit = FactoredMatrix(A=W_V, B=W_O)"
   ]
  },
  {
   "cell_type": "code",
   "execution_count": null,
   "id": "78f15311-c20a-4978-889f-244ab8bd2c68",
   "metadata": {},
   "outputs": [],
   "source": [
    "W_E @ OV_circuit @ W_E.T"
   ]
  },
  {
   "cell_type": "code",
   "execution_count": null,
   "id": "41390be5-4da0-4f35-acbb-9781247369d3",
   "metadata": {},
   "outputs": [],
   "source": []
  },
  {
   "cell_type": "code",
   "execution_count": null,
   "id": "961f934f-37c3-4c06-83e6-39e2a02428d9",
   "metadata": {},
   "outputs": [],
   "source": [
    "def print_shape(module, inp):\n",
    "    print(inp.shape)"
   ]
  },
  {
   "cell_type": "code",
   "execution_count": null,
   "id": "7e9e1ca7-b31e-40cb-b791-6ede4fd88992",
   "metadata": {},
   "outputs": [],
   "source": [
    "model.blocks[1].register_forward_pre_hook(print_shape)"
   ]
  },
  {
   "cell_type": "code",
   "execution_count": null,
   "id": "e9047b21-185a-4dc1-8ede-1d38f4021dc9",
   "metadata": {},
   "outputs": [],
   "source": [
    "_, cache = model.run_with_cache(tokens)"
   ]
  },
  {
   "cell_type": "code",
   "execution_count": null,
   "id": "07782759-003a-4352-9e95-21b49fc8d496",
   "metadata": {},
   "outputs": [],
   "source": [
    "residual_directions = model.tokens_to_residual_directions(answer_tokens)\n",
    "correct_residual_direction, incorrect_residual_direction = residual_directions.unbind(dim=0)"
   ]
  },
  {
   "cell_type": "code",
   "execution_count": null,
   "id": "1bdff780-d20d-4427-8a2a-89ec0d3f7ef9",
   "metadata": {},
   "outputs": [],
   "source": [
    "logit_difference_direction = correct_residual_direction - incorrect_residual_direction"
   ]
  },
  {
   "cell_type": "code",
   "execution_count": null,
   "id": "a99a9700-69b8-43bc-9f9c-24a1913a0abd",
   "metadata": {},
   "outputs": [],
   "source": [
    "accumulated_residual_streams = cache.accumulated_residual(layer=layer_idx, pos_slice=-1)"
   ]
  },
  {
   "cell_type": "code",
   "execution_count": null,
   "id": "2b273a51-a2a7-4207-9713-ebfd237ab205",
   "metadata": {},
   "outputs": [],
   "source": [
    "scaled_accumulated_residual_streams = model.apply_ln_to_stack(\n",
    "    accumulated_residual_streams,\n",
    "    layer=layer_idx,\n",
    "    pos_slice=-1\n",
    ")"
   ]
  },
  {
   "cell_type": "code",
   "execution_count": 9,
   "id": "e71c7be8-1105-47fe-9b94-2eda808886fc",
   "metadata": {
    "tags": []
   },
   "outputs": [],
   "source": [
    "from einops import einsum"
   ]
  },
  {
   "cell_type": "code",
   "execution_count": null,
   "id": "a349234d-cee5-441a-95ca-4034f3e56df8",
   "metadata": {},
   "outputs": [],
   "source": [
    "logit_difference = einsum(\n",
    "    scaled_accumulated_residual_streams,\n",
    "    logit_difference_direction,\n",
    "    \"\"\n",
    ")"
   ]
  },
  {
   "cell_type": "code",
   "execution_count": 10,
   "id": "7513398a-2c03-4b92-80c6-6c4d3d30bc98",
   "metadata": {
    "tags": []
   },
   "outputs": [
    {
     "name": "stdout",
     "output_type": "stream",
     "text": [
      "[0, 2]\n",
      "[1, 3]\n",
      "[4, 6]\n",
      "[5, 7]\n",
      "[8, 10]\n",
      "[9, 11]\n",
      "[12, 14]\n",
      "[13, 15]\n"
     ]
    }
   ],
   "source": [
    "for i in range(pipeline_model_parallel_size):\n",
    "    start_rank = i*num_pipeline_model_parallel_groups\n",
    "    end_rank = (i+1)*num_pipeline_model_parallel_groups\n",
    "    \n",
    "    for j in range(tensor_model_parallel_size):\n",
    "        ranks = list(range(\n",
    "            start_rank+j,\n",
    "            end_rank,\n",
    "            tensor_model_parallel_size\n",
    "        ))\n",
    "        \n",
    "        print(ranks)"
   ]
  },
  {
   "cell_type": "code",
   "execution_count": null,
   "id": "851251ca-e71e-45dc-b57f-c4d6f249ec9c",
   "metadata": {},
   "outputs": [],
   "source": [
    "embed = model.embed(tokens)\n",
    "pos_embed = model.pos_embed(tokens)"
   ]
  },
  {
   "cell_type": "code",
   "execution_count": null,
   "id": "f9d08bad-b23d-46d1-ae4e-3cb567dd9f7f",
   "metadata": {},
   "outputs": [],
   "source": [
    "residual = embed + pos_embed"
   ]
  },
  {
   "cell_type": "code",
   "execution_count": null,
   "id": "e2e02d6e-bd60-49f5-84dc-91b30b7ba02e",
   "metadata": {},
   "outputs": [],
   "source": [
    "for block in model.blocks:\n",
    "    residual = block(residual)"
   ]
  },
  {
   "cell_type": "code",
   "execution_count": null,
   "id": "caa21af6-2e9c-4f13-8624-793f6022dd10",
   "metadata": {},
   "outputs": [],
   "source": [
    "residual = model.final_ln(residual)\n",
    "logits = model.unembed(residual)"
   ]
  },
  {
   "cell_type": "code",
   "execution_count": 11,
   "id": "c6e23d0b-6005-4c31-8052-fb624d17b51a",
   "metadata": {
    "tags": []
   },
   "outputs": [],
   "source": [
    "from transformer_lens import FactoredMatrix"
   ]
  },
  {
   "cell_type": "code",
   "execution_count": null,
   "id": "c757c3f1-ac8e-41fe-a42e-08cb1eae7c56",
   "metadata": {},
   "outputs": [],
   "source": [
    "AB = FactoredMatrix(A=A, B=B)"
   ]
  },
  {
   "cell_type": "code",
   "execution_count": null,
   "id": "9081e3e7-7d1b-4a21-a71e-14750a68cd33",
   "metadata": {},
   "outputs": [],
   "source": [
    "AB.eigenvalues"
   ]
  },
  {
   "cell_type": "code",
   "execution_count": null,
   "id": "66264ebb-a2b8-49b0-87e3-0c3b33ca6602",
   "metadata": {},
   "outputs": [],
   "source": [
    "tokens = model.to_tokens(text)"
   ]
  },
  {
   "cell_type": "code",
   "execution_count": null,
   "id": "1cca0a89-7586-4538-9b02-00d44576b659",
   "metadata": {},
   "outputs": [],
   "source": [
    "target_tokens = tokens[1:]"
   ]
  },
  {
   "cell_type": "code",
   "execution_count": null,
   "id": "320dbde8-6f3d-4727-8c7e-3a3550ecbf72",
   "metadata": {},
   "outputs": [],
   "source": [
    "logits = model(tokens)"
   ]
  },
  {
   "cell_type": "code",
   "execution_count": null,
   "id": "4d7dd3de-eb8d-472f-a493-528c5b6aefb6",
   "metadata": {},
   "outputs": [],
   "source": [
    "log_probs = F.softmax(logits[:, -1, :])"
   ]
  },
  {
   "cell_type": "code",
   "execution_count": null,
   "id": "3d44921b-5315-47f9-af70-9514e438e21d",
   "metadata": {},
   "outputs": [],
   "source": [
    "-log_probs[target_tokens].mean()"
   ]
  },
  {
   "cell_type": "code",
   "execution_count": null,
   "id": "42fb031b-cfaf-4001-940f-3993793fadbf",
   "metadata": {},
   "outputs": [],
   "source": [
    "W_O = model.W_O[layer_idx, head_idx]"
   ]
  },
  {
   "cell_type": "markdown",
   "id": "3a460dc4-0cc6-4d27-bf75-4d7fd7373b29",
   "metadata": {},
   "source": [
    "step 1: two prompts\n",
    "step 2: choose a start compnent, end component\n",
    "step 3: record the interdimate activations of the corrupted prompt\n",
    "step 4: run the clean prompt, patch the activation of the start component in the corrupted prompt\n",
    "step 5: record the activation of the end component in step 4\n",
    "step 6: rerun the clean prompt, this time, patch the activations of the end component from step 5"
   ]
  },
  {
   "cell_type": "code",
   "execution_count": null,
   "id": "0ef84f2e-bbc9-40d9-b260-11ea4708bae9",
   "metadata": {},
   "outputs": [],
   "source": [
    "W_O = model.W_O[layer_idx, head_idx]\n",
    "W_V = model.W_V[layer_idx, head_idx]"
   ]
  },
  {
   "cell_type": "code",
   "execution_count": null,
   "id": "156779d0-bb8e-409c-a7cd-e8ca049584c2",
   "metadata": {},
   "outputs": [],
   "source": [
    "W_E = model.W_E\n",
    "W_U = model.W_U"
   ]
  },
  {
   "cell_type": "code",
   "execution_count": null,
   "id": "f7a97e7c-283e-478b-b872-d721da712c1d",
   "metadata": {},
   "outputs": [],
   "source": [
    "full_OV_circuit = W_E @ W_V @ W_O @ W_U"
   ]
  },
  {
   "cell_type": "code",
   "execution_count": null,
   "id": "0e1a5b36-1e8f-4a14-b548-f2bf5040da1e",
   "metadata": {},
   "outputs": [],
   "source": [
    "embedding = nn.Embedding(num_embeddings=100, embedding_dim=5, padding_idx=5)"
   ]
  },
  {
   "cell_type": "code",
   "execution_count": null,
   "id": "fa994518-d267-45a8-9dc1-7abdb1619384",
   "metadata": {},
   "outputs": [],
   "source": [
    "logits = final_residual_stream @ unembed"
   ]
  },
  {
   "cell_type": "code",
   "execution_count": null,
   "id": "8e5a77be-6430-495c-9363-331d98b8cb97",
   "metadata": {},
   "outputs": [],
   "source": [
    "W_pos = model.W_pos"
   ]
  },
  {
   "cell_type": "code",
   "execution_count": null,
   "id": "cadff0de-14e5-437a-8924-965b10ad896f",
   "metadata": {},
   "outputs": [],
   "source": [
    "W_Q = model.W_Q[layer_idx, head_idx]\n",
    "W_K = model.W_K[layer_idx, head_idx]\n",
    "\n",
    "QK_circuit = W_K @ W_Q"
   ]
  },
  {
   "cell_type": "code",
   "execution_count": null,
   "id": "5f1f3755-340b-4ae4-bacf-5a58b5023a02",
   "metadata": {},
   "outputs": [],
   "source": [
    "pos_by_pos_scores = W_pos @ QK_circuit @ W_pos.T"
   ]
  },
  {
   "cell_type": "code",
   "execution_count": null,
   "id": "7f6f1ea3-1a10-4210-951e-d5930ce75465",
   "metadata": {},
   "outputs": [],
   "source": [
    "def mask(scores):\n",
    "    mask = torch.triu(torch.ones_like(attn_scores)).bool()\n",
    "    neg_inf = torch.tensor(-1e6)\n",
    "    "
   ]
  },
  {
   "cell_type": "code",
   "execution_count": null,
   "id": "18cf549e-37e6-4952-84a0-4b7432c1be72",
   "metadata": {},
   "outputs": [],
   "source": []
  },
  {
   "cell_type": "code",
   "execution_count": null,
   "id": "24593eb6-49f5-4604-874e-a8727ad57851",
   "metadata": {},
   "outputs": [],
   "source": [
    "W_pos = model.W_pos\n",
    "W_O = model.W_O[layer_idx, head_idx]\n",
    "W_V = model.W_V[layer_idx, head_idx]\n",
    "\n",
    "OV_circuit = W_V @ W_O\n",
    "pos_by_pos_scores = W_pos @ OV_circuit @ W_pos.T"
   ]
  },
  {
   "cell_type": "code",
   "execution_count": null,
   "id": "23edf4e8-6dc1-4429-94da-067a945eea68",
   "metadata": {},
   "outputs": [],
   "source": [
    "def mask(scores):\n",
    "    mask = torch.triu(torch.ones_like(scores)).bool()\n",
    "    neg_inf = torch.tensor(-1e9)\n",
    "    return torch.where(mask, scores, neg_inf)"
   ]
  },
  {
   "cell_type": "code",
   "execution_count": null,
   "id": "56de44fe-6183-4b0f-8ab8-4aedc503fdc6",
   "metadata": {},
   "outputs": [],
   "source": [
    "pos_by_pos_pattern = F.softmax(\n",
    "    mask(pos_by_pos_scores/(d_head**0.5)),\n",
    "    dim=-1\n",
    ")"
   ]
  }
 ],
 "metadata": {
  "kernelspec": {
   "display_name": "Python 3 (ipykernel)",
   "language": "python",
   "name": "python3"
  },
  "language_info": {
   "codemirror_mode": {
    "name": "ipython",
    "version": 3
   },
   "file_extension": ".py",
   "mimetype": "text/x-python",
   "name": "python",
   "nbconvert_exporter": "python",
   "pygments_lexer": "ipython3",
   "version": "3.8.16"
  }
 },
 "nbformat": 4,
 "nbformat_minor": 5
}
