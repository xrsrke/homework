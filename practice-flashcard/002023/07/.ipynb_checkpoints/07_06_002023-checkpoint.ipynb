{
 "cells": [
  {
   "cell_type": "markdown",
   "id": "e09d7f75-10d5-489b-b890-d918414c82f0",
   "metadata": {},
   "source": [
    "### Engineering"
   ]
  },
  {
   "cell_type": "code",
   "execution_count": 1,
   "id": "d95f5bb3-b191-4217-b5a0-dfc3b5b205cd",
   "metadata": {
    "tags": []
   },
   "outputs": [],
   "source": [
    "import torch\n",
    "from torch import nn\n",
    "import torch.nn.functional as F"
   ]
  },
  {
   "cell_type": "code",
   "execution_count": null,
   "id": "de6c49b8-fef2-4fda-a6bc-5b4cad4c4120",
   "metadata": {},
   "outputs": [],
   "source": [
    "start_time = torch.cuda.Event()\n",
    "end_time = torch.cuda.Event()"
   ]
  },
  {
   "cell_type": "code",
   "execution_count": null,
   "id": "5eb98d67-ca79-47a7-bd15-2375870b9eb3",
   "metadata": {},
   "outputs": [],
   "source": [
    "start_time.record()\n",
    "end_time.record()"
   ]
  },
  {
   "cell_type": "code",
   "execution_count": null,
   "id": "f64c67d4-e267-43e1-a929-1e6de42589a2",
   "metadata": {},
   "outputs": [],
   "source": [
    "total_time = end_time - start_time"
   ]
  },
  {
   "cell_type": "code",
   "execution_count": null,
   "id": "dc989c7b-2a57-4e2e-bc7b-33a0bd9493c8",
   "metadata": {},
   "outputs": [],
   "source": [
    "#include <iostream>\n",
    "using namespace std;"
   ]
  },
  {
   "cell_type": "code",
   "execution_count": null,
   "id": "f4ec9ad1-5ab2-42a0-82c3-967949e81e62",
   "metadata": {},
   "outputs": [],
   "source": [
    "class numberToColor() {\n",
    "    public:\n",
    "        string numberToColor(int number) {\n",
    "            switch(number) {\n",
    "                case 1:\n",
    "                    return \"red\";\n",
    "                    break;\n",
    "                case 2:\n",
    "                    return \"green\";\n",
    "                    break;\n",
    "            }\n",
    "        }\n",
    "}"
   ]
  },
  {
   "cell_type": "code",
   "execution_count": null,
   "id": "f6aac74d-0b9a-4786-b6e5-e5fb20180f10",
   "metadata": {},
   "outputs": [],
   "source": [
    "service, manager, client"
   ]
  },
  {
   "cell_type": "code",
   "execution_count": null,
   "id": "71385f58-2e92-4de0-8fb1-798f501e84e0",
   "metadata": {},
   "outputs": [],
   "source": [
    "max(clock_idx+1-n_microbatches, 0)"
   ]
  },
  {
   "cell_type": "code",
   "execution_count": null,
   "id": "98a3bb6b-6857-4881-8b05-33bad2454467",
   "metadata": {},
   "outputs": [],
   "source": [
    "(int*)hello()"
   ]
  },
  {
   "cell_type": "code",
   "execution_count": null,
   "id": "88232f27-c534-4140-ab8b-8536c34bad3b",
   "metadata": {},
   "outputs": [],
   "source": [
    "step 1: init epoch, processed data samples = 0"
   ]
  },
  {
   "cell_type": "code",
   "execution_count": 4,
   "id": "1cefc93a-b60c-46f6-b8b3-79a354706b39",
   "metadata": {
    "tags": []
   },
   "outputs": [],
   "source": [
    "class Recomputed(torch.autograd.Function):\n",
    "    @staticmethod\n",
    "    def forward(ctx, phony, recomputed, function, input):\n",
    "        ctx.recomputed = recomputed\n",
    "        ctx.function = function\n",
    "        ctx.input = input\n",
    "        \n",
    "        return phony\n",
    "    \n",
    "    @staticmethod\n",
    "    def backward(ctx, grad_input):\n",
    "        function = ctx.function\n",
    "        input = ctx.input\n",
    "        input_leaf = input.detach().requires_grad_(\n",
    "            input.requires_grad\n",
    "        )\n",
    "        \n",
    "        with torch.grad_enabled():\n",
    "            output = function(input)\n",
    "        \n",
    "        ctx.recomputed.append((output, input_leaf))\n",
    "        \n",
    "        grads = [None, None, None]\n",
    "        if input_leaf.requires_grad:\n",
    "            grads.extend([input_leaf.requires_grad])\n",
    "        else:\n",
    "            grads.extend([None])\n",
    "        \n",
    "        return tuple(grads)"
   ]
  },
  {
   "cell_type": "code",
   "execution_count": null,
   "id": "ec34918e-3161-47f0-a522-e7e2c81ae613",
   "metadata": {},
   "outputs": [],
   "source": [
    "forward"
   ]
  },
  {
   "cell_type": "code",
   "execution_count": null,
   "id": "c583a003-fd2f-411e-8404-47b84f23fd25",
   "metadata": {},
   "outputs": [],
   "source": [
    "int* p_number;"
   ]
  },
  {
   "cell_type": "code",
   "execution_count": null,
   "id": "ed0010d7-3c5c-44d5-9be1-dfc1878e5ac9",
   "metadata": {},
   "outputs": [],
   "source": [
    "step 1: launch process\n",
    "step 2: local env\n",
    "step 3: init distributed\n",
    "step 4: parallel groups"
   ]
  },
  {
   "cell_type": "code",
   "execution_count": 5,
   "id": "bc68a040-d5c7-47a1-9cf5-b87575da97b4",
   "metadata": {
    "tags": []
   },
   "outputs": [],
   "source": [
    "from contextlib import contextmanager"
   ]
  },
  {
   "cell_type": "code",
   "execution_count": 6,
   "id": "ec9fbac2-3260-4bc9-a732-b64315aeca03",
   "metadata": {
    "tags": []
   },
   "outputs": [],
   "source": [
    "import functools"
   ]
  },
  {
   "cell_type": "code",
   "execution_count": 7,
   "id": "eda6f5f5-5894-4c45-8dc6-f61cf04a1a1f",
   "metadata": {
    "tags": []
   },
   "outputs": [],
   "source": [
    "def my_decorator(func):\n",
    "    @functools.wraps(func)\n",
    "    def wrapper(*args, **kwargs):\n",
    "        return func(*args, **kwargs)\n",
    "    \n",
    "    return wrapper"
   ]
  },
  {
   "cell_type": "code",
   "execution_count": null,
   "id": "c9907c79-98d2-4019-905e-6e8e7b830070",
   "metadata": {},
   "outputs": [],
   "source": [
    "tensor parallelism, pipeline paralleism"
   ]
  },
  {
   "cell_type": "code",
   "execution_count": null,
   "id": "64194ae9-f23b-44d6-8449-a8038b39dc50",
   "metadata": {},
   "outputs": [],
   "source": [
    "int* h_a, int* h_b, int* h_c;"
   ]
  },
  {
   "cell_type": "code",
   "execution_count": null,
   "id": "9a62b770-d297-478f-add5-b9114bb2e620",
   "metadata": {},
   "outputs": [],
   "source": [
    "size_t bytes = sizeof(int) * n;"
   ]
  },
  {
   "cell_type": "code",
   "execution_count": null,
   "id": "603de1a9-1535-421c-a487-5e472a7e173c",
   "metadata": {},
   "outputs": [],
   "source": [
    "h_a = (int*)malloc(bytes)\n",
    "h_b = (int*)malloc(bytes)\n",
    "h_c = (int*)malloc(bytes)"
   ]
  },
  {
   "cell_type": "code",
   "execution_count": 8,
   "id": "bb599cd8-e791-41af-bcdd-5ba4ad22f71b",
   "metadata": {
    "tags": []
   },
   "outputs": [],
   "source": [
    "import time"
   ]
  },
  {
   "cell_type": "code",
   "execution_count": null,
   "id": "eeafbfc3-d4d4-4b15-ba8e-0da1eab489c9",
   "metadata": {},
   "outputs": [],
   "source": [
    "start_event = torch.cuda.Event()\n",
    "end_event = torch.cuda.Event()"
   ]
  },
  {
   "cell_type": "code",
   "execution_count": null,
   "id": "f0685ee6-6556-4eb3-9d9c-a8252d44e6f7",
   "metadata": {},
   "outputs": [],
   "source": [
    "stream1 = torch.cuda.Stream()\n",
    "stream2 = torch.cuda.Stream()"
   ]
  },
  {
   "cell_type": "code",
   "execution_count": null,
   "id": "cc131064-97da-42a4-9fc1-7363654127ca",
   "metadata": {},
   "outputs": [],
   "source": [
    "start_event.record()\n",
    "\n",
    "with torch.cuda.stream(stream1):\n",
    "    opeartion_a()\n",
    "    \n",
    "with torch.cuda.stream(stream2):\n",
    "    opeartion_b()\n",
    "    \n",
    "torch.cuda.syncronous()\n",
    "\n",
    "end_event.record()"
   ]
  },
  {
   "cell_type": "code",
   "execution_count": null,
   "id": "e74386ae-f56a-4522-b59f-f35019883aec",
   "metadata": {},
   "outputs": [],
   "source": [
    "total_time = end_event.elapsed_time(start_event)"
   ]
  },
  {
   "cell_type": "code",
   "execution_count": 9,
   "id": "025ffa0b-8978-4245-bbd4-bea4b48b1e51",
   "metadata": {
    "tags": []
   },
   "outputs": [],
   "source": [
    "from torch.utils.data import Sampler"
   ]
  },
  {
   "cell_type": "code",
   "execution_count": null,
   "id": "4f193005-efc1-4d7f-bf14-83c19d09254d",
   "metadata": {},
   "outputs": [],
   "source": [
    "class EvenSampler(Sampler):\n",
    "    def __init__(self, data):\n",
    "        super().__init__()\n",
    "        self.data = data\n",
    "    \n",
    "    def __iter__(self):\n",
    "        return iter([i for i in range(0, len(self.data))])"
   ]
  },
  {
   "cell_type": "code",
   "execution_count": 10,
   "id": "6cf08091-5629-429d-b18b-2d6426518496",
   "metadata": {
    "tags": []
   },
   "outputs": [],
   "source": [
    "from torch.utils.data import Dataset"
   ]
  },
  {
   "cell_type": "code",
   "execution_count": null,
   "id": "89e66930-a9a8-4bdd-8fdb-1c80b4031d02",
   "metadata": {},
   "outputs": [],
   "source": [
    "class CachedDataset(Dataset):\n",
    "    def __init__(self, filename):\n",
    "        super().__init__()\n",
    "        self.filename = filename\n",
    "        self.cached_idxs = {}\n",
    "        self.data = None\n",
    "        self.cache = None\n",
    "    \n",
    "    def prefetch(self, idxs):\n",
    "        if all([i in self.cached_idxs for i in idxs]):\n",
    "            return\n",
    "        \n",
    "        if self.data is None:\n",
    "            self.data = torch.load(self.filename)\n",
    "        \n",
    "        total_elements = sum([self.data[i].numel() for i in idxs])\n",
    "        self.cache = torch.zeros(total_elements, dtype=self.data.dtype)\n",
    "        self.cached_idxs.clear()\n",
    "        \n",
    "        offset = 0\n",
    "        for i in idxs:\n",
    "            n_elements = self.data[i].numel()\n",
    "            self.cache[offset:offset+n_elements] = self.data[i].view(-1)\n",
    "            offset += n_elements"
   ]
  },
  {
   "cell_type": "code",
   "execution_count": null,
   "id": "eae469f7-6141-44a0-9fe1-e13fae824a60",
   "metadata": {},
   "outputs": [],
   "source": [
    "step 1: init epoch, num of processed data\n",
    "step 2: get unprocessed data\n",
    "step 3: "
   ]
  },
  {
   "cell_type": "code",
   "execution_count": null,
   "id": "88d58e03-28e2-40cc-ac21-a5f0d9501003",
   "metadata": {},
   "outputs": [],
   "source": [
    "step 1: correct residual direction, incorrect residual direction\n",
    "step 2: logit difference direction\n",
    "step 3: accumu\n",
    "step 4: einops"
   ]
  },
  {
   "cell_type": "code",
   "execution_count": 11,
   "id": "7893920d-0e89-4195-95a1-0b8751341ceb",
   "metadata": {
    "tags": []
   },
   "outputs": [],
   "source": [
    "data = None"
   ]
  },
  {
   "cell_type": "code",
   "execution_count": 12,
   "id": "15542cad-1222-4094-b664-58296ed1b400",
   "metadata": {
    "tags": []
   },
   "outputs": [],
   "source": [
    "def extract_activation(activations, hook):\n",
    "    data = activations[:, :, 3]"
   ]
  },
  {
   "cell_type": "code",
   "execution_count": null,
   "id": "14e52dd4-05c8-4190-a05f-a7e53b0ce771",
   "metadata": {},
   "outputs": [],
   "source": [
    "tokens = model.to_tokens(text)"
   ]
  },
  {
   "cell_type": "code",
   "execution_count": null,
   "id": "6ea52834-1cbc-411e-90c7-9f3d8df7a265",
   "metadata": {},
   "outputs": [],
   "source": [
    "hook_name = f\"blocks.{layer_idx}.mlp.hook_post\""
   ]
  },
  {
   "cell_type": "code",
   "execution_count": null,
   "id": "212e9355-a781-4321-b4e6-89d38bbd9fee",
   "metadata": {},
   "outputs": [],
   "source": [
    "model.run_with_cache(\n",
    "    tokens,\n",
    "    fwd_hooks=[(extract_activation, hook_name)]\n",
    ")"
   ]
  },
  {
   "cell_type": "code",
   "execution_count": null,
   "id": "b428e150-36c3-476d-b21c-1cccbfc82b08",
   "metadata": {},
   "outputs": [],
   "source": [
    "__call__"
   ]
  },
  {
   "cell_type": "code",
   "execution_count": 15,
   "id": "5b2a7b6c-4530-455d-9f82-a37c77305381",
   "metadata": {
    "tags": []
   },
   "outputs": [],
   "source": [
    "from pydantic import BaseModel, validator"
   ]
  },
  {
   "cell_type": "code",
   "execution_count": null,
   "id": "db05d13e-0301-484b-aee9-31aa4183fd61",
   "metadata": {},
   "outputs": [],
   "source": [
    "class User(BaseModel):\n",
    "    user_id: int\n",
    "    username: str\n",
    "    \n",
    "    @validator(\"username\")\n",
    "    def capitalize_username(self, value):\n",
    "        return value.upper()"
   ]
  },
  {
   "cell_type": "code",
   "execution_count": 19,
   "id": "32d35d69-01bb-4940-95f0-9b23f6b8a212",
   "metadata": {
    "tags": []
   },
   "outputs": [],
   "source": [
    "from metaflow import FlowSpec, step, conda"
   ]
  },
  {
   "cell_type": "code",
   "execution_count": 20,
   "id": "b7b26511-0b09-47c0-abbb-6379082b08d8",
   "metadata": {
    "tags": []
   },
   "outputs": [],
   "source": [
    "class TrainingFlow(FlowSpec):\n",
    "    @step\n",
    "    def start(self):\n",
    "        self.next(self.train)\n",
    "    \n",
    "    @conda(python=\"3.11.0\", libraries={\"pytorch\": \"2.0.0\"})\n",
    "    @step\n",
    "    def train(self):\n",
    "        train()\n",
    "        self.next(self.end)\n",
    "    \n",
    "    @step\n",
    "    def end(self):\n",
    "        pass"
   ]
  },
  {
   "cell_type": "code",
   "execution_count": 21,
   "id": "9e172b9d-28d3-49c4-ae3e-680bd36f47c5",
   "metadata": {
    "tags": []
   },
   "outputs": [],
   "source": [
    "from metaflow import FlowSpec, schedule"
   ]
  },
  {
   "cell_type": "code",
   "execution_count": 22,
   "id": "5015aee4-0853-4ba4-a0e5-46f0269edf60",
   "metadata": {
    "tags": []
   },
   "outputs": [],
   "source": [
    "@schedule(daily=True)\n",
    "class HelloFlow(FlowSpec):\n",
    "    @step\n",
    "    def start(self):\n",
    "        self.next(self.print)\n",
    "    \n",
    "    @step\n",
    "    def print(self):\n",
    "        print(69)\n",
    "        self.next(self.end)\n",
    "    \n",
    "    @step\n",
    "    def end(self):\n",
    "        pass"
   ]
  },
  {
   "cell_type": "code",
   "execution_count": null,
   "id": "0863c40e-a720-4ce7-a195-74c8d377e2a4",
   "metadata": {},
   "outputs": [],
   "source": [
    "__contains__"
   ]
  },
  {
   "cell_type": "code",
   "execution_count": 23,
   "id": "bea2d06f-746c-43b5-bcef-5e743039ac6f",
   "metadata": {
    "tags": []
   },
   "outputs": [],
   "source": [
    "from functools import lru_cache"
   ]
  },
  {
   "cell_type": "code",
   "execution_count": null,
   "id": "75692135-56ee-4433-8634-2cd9b7b33db9",
   "metadata": {},
   "outputs": [],
   "source": [
    "@lru_cache\n",
    "def expensive_function():\n",
    "    pass"
   ]
  },
  {
   "cell_type": "code",
   "execution_count": 24,
   "id": "2ad11dcb-a6cd-4dba-97d0-33bc913c2b21",
   "metadata": {
    "tags": []
   },
   "outputs": [],
   "source": [
    "import threading"
   ]
  },
  {
   "cell_type": "code",
   "execution_count": 26,
   "id": "72dcaa62-d593-47a6-a25a-e98f00e89e8f",
   "metadata": {
    "tags": []
   },
   "outputs": [],
   "source": [
    "lock = threading.Lock()"
   ]
  },
  {
   "cell_type": "code",
   "execution_count": 27,
   "id": "36a86bc0-0af8-4236-bc0b-17a947f675c0",
   "metadata": {
    "tags": []
   },
   "outputs": [],
   "source": [
    "def run_worker():\n",
    "    with lock:\n",
    "        increment_counter()"
   ]
  },
  {
   "cell_type": "code",
   "execution_count": null,
   "id": "3ee6f619-ed4e-4b08-8565-e0c6be8c520b",
   "metadata": {},
   "outputs": [],
   "source": [
    "for _ in range(4):\n",
    "    thread = threading.Thread(target=run_worker)\n",
    "    thread.start()"
   ]
  },
  {
   "cell_type": "code",
   "execution_count": 28,
   "id": "e0e2da87-eccf-48af-b4c7-5faaea338aac",
   "metadata": {
    "tags": []
   },
   "outputs": [],
   "source": [
    "from typing import NoReturn"
   ]
  },
  {
   "cell_type": "code",
   "execution_count": 29,
   "id": "5080117d-b671-4a76-bce4-e9bd318fa040",
   "metadata": {
    "tags": []
   },
   "outputs": [],
   "source": [
    "def add_numbers(a: int, b: int, c: int):\n",
    "    print(a+b+c)"
   ]
  },
  {
   "cell_type": "markdown",
   "id": "6e28156b-5b47-49b1-a63a-428ee72f075f",
   "metadata": {},
   "source": [
    "### MechInterp"
   ]
  },
  {
   "cell_type": "code",
   "execution_count": null,
   "id": "1f064a3b-9560-42b3-9c8c-ab4aa591defc",
   "metadata": {},
   "outputs": [],
   "source": [
    "xW_OV"
   ]
  },
  {
   "cell_type": "code",
   "execution_count": 30,
   "id": "3bc7e56d-a805-4cfa-9af9-53523b918a43",
   "metadata": {
    "tags": []
   },
   "outputs": [],
   "source": [
    "def print_shape(module, input):\n",
    "    print(input.shape)"
   ]
  },
  {
   "cell_type": "code",
   "execution_count": null,
   "id": "2b672644-516f-4ff8-8637-e4ada400f2ce",
   "metadata": {},
   "outputs": [],
   "source": [
    "model.blocks[1].register_pre_forward_hook(print_shape)"
   ]
  },
  {
   "cell_type": "code",
   "execution_count": null,
   "id": "ab420876-0c62-427c-ba4b-ba54da09476f",
   "metadata": {},
   "outputs": [],
   "source": [
    "step 1: project\n",
    "step 2: do\n",
    "step 3: expand"
   ]
  },
  {
   "cell_type": "code",
   "execution_count": 31,
   "id": "ac273422-0f61-4fa0-8b82-5b9e0a75f399",
   "metadata": {
    "tags": []
   },
   "outputs": [],
   "source": [
    "def print_shape(module, input):\n",
    "    print(input[0].shape)"
   ]
  },
  {
   "cell_type": "code",
   "execution_count": null,
   "id": "7671a5af-57fc-47f9-89f6-6dab4f281ec1",
   "metadata": {},
   "outputs": [],
   "source": [
    "model.blocks[1].register_forward_pre_hook(print_shape)"
   ]
  },
  {
   "cell_type": "code",
   "execution_count": null,
   "id": "04e30563-d5f8-40fc-ab9d-e6684dab6601",
   "metadata": {},
   "outputs": [],
   "source": [
    "step 1: logit diff\n",
    "step 2: extract activations\n",
    "step 3: einops\n",
    "step 4: plogt"
   ]
  },
  {
   "cell_type": "code",
   "execution_count": null,
   "id": "145f50df-a4a1-42cb-8c6b-f987f968f730",
   "metadata": {},
   "outputs": [],
   "source": [
    "logit_difference = logit_1 - logit_2\n",
    "\n",
    "residual_stream @ unembed_1"
   ]
  },
  {
   "cell_type": "code",
   "execution_count": null,
   "id": "f2e5945d-f436-499f-9c09-7c501550d9f3",
   "metadata": {},
   "outputs": [],
   "source": [
    "tokens = model.to_tokens(text)"
   ]
  },
  {
   "cell_type": "code",
   "execution_count": null,
   "id": "2c604b48-0c78-47f8-b46e-b3a8d632cd10",
   "metadata": {},
   "outputs": [],
   "source": [
    "correct_tokens = tokens[1:]"
   ]
  },
  {
   "cell_type": "code",
   "execution_count": null,
   "id": "226d7792-c708-45df-ae74-d05600657280",
   "metadata": {},
   "outputs": [],
   "source": [
    "W_U = model.W_U"
   ]
  },
  {
   "cell_type": "code",
   "execution_count": null,
   "id": "8fc26a99-f68b-4df7-8830-0e76b578dac7",
   "metadata": {},
   "outputs": [],
   "source": [
    "W_U_correct_tokens = W_U[: correct_tokens]"
   ]
  },
  {
   "cell_type": "code",
   "execution_count": null,
   "id": "8b1f04a3-0c0a-4d17-b2b8-790660a11a38",
   "metadata": {},
   "outputs": [],
   "source": [
    "outputs = cache.accumulated_resid(layer=layer_idx, )"
   ]
  },
  {
   "cell_type": "code",
   "execution_count": 34,
   "id": "faa7f097-9229-4008-b028-362e9ac80e87",
   "metadata": {
    "tags": []
   },
   "outputs": [],
   "source": [
    "import torchvision.transforms as tfms"
   ]
  },
  {
   "cell_type": "code",
   "execution_count": 35,
   "id": "9784fbd6-2e4f-45ac-8169-4366705d3626",
   "metadata": {
    "tags": []
   },
   "outputs": [],
   "source": [
    "transform = tfms.Compose([\n",
    "    tfms.ToTensor(),\n",
    "    tfms.Normalize(0.3, 0.9)\n",
    "])"
   ]
  },
  {
   "cell_type": "code",
   "execution_count": null,
   "id": "fab5e1ab-a4ff-4842-8e8f-a5dd40e1face",
   "metadata": {},
   "outputs": [],
   "source": [
    "stream1 = torch.cuda.Stream()\n",
    "stream2 = torch.cuda.Stream()"
   ]
  },
  {
   "cell_type": "code",
   "execution_count": null,
   "id": "423f1aad-e72b-4c3c-872e-9cb73dd4a9dc",
   "metadata": {},
   "outputs": [],
   "source": [
    "with torch.cuda.stream(stream1):\n",
    "    x_mean = x.mean(dim=-1)\n",
    "\n",
    "with torch.cuda.stream(stream2):\n",
    "    y_mean = y.mean(dim=-1)"
   ]
  },
  {
   "cell_type": "code",
   "execution_count": null,
   "id": "56ba365f-1b8a-4a7d-be94-1449655edd84",
   "metadata": {},
   "outputs": [],
   "source": [
    "step 1: epoch, num processed data\n",
    "step 2: get unprocessed data\n",
    "step 3: worker\n",
    "step 4: partritioning"
   ]
  },
  {
   "cell_type": "code",
   "execution_count": null,
   "id": "5ec4d2c6-35ad-48fa-b0d5-1981ae9bb608",
   "metadata": {},
   "outputs": [],
   "source": [
    "- end at batch\n",
    "- start a batch"
   ]
  },
  {
   "cell_type": "code",
   "execution_count": null,
   "id": "bbbe78ae-95d2-44e4-9262-879bb5dc679f",
   "metadata": {},
   "outputs": [],
   "source": [
    "step 1: two prompts\n",
    "step 2: record the interdimate activations of the two prompts\n",
    "step 3: iteratively\n",
    "step 4: logit diff\n",
    "step 5:"
   ]
  }
 ],
 "metadata": {
  "kernelspec": {
   "display_name": "Python 3 (ipykernel)",
   "language": "python",
   "name": "python3"
  },
  "language_info": {
   "codemirror_mode": {
    "name": "ipython",
    "version": 3
   },
   "file_extension": ".py",
   "mimetype": "text/x-python",
   "name": "python",
   "nbconvert_exporter": "python",
   "pygments_lexer": "ipython3",
   "version": "3.8.16"
  }
 },
 "nbformat": 4,
 "nbformat_minor": 5
}
