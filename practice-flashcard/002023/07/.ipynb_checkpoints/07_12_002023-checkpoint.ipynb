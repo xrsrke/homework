{
 "cells": [
  {
   "cell_type": "markdown",
   "id": "c7c4322a-7cbe-4f35-bf74-332ae9919d83",
   "metadata": {},
   "source": [
    "Recall that the transpose of a product of matrices is equal to the product of their transposes in reverse order, i.e., $(AB)^T = B^T A^T$.\n",
    "\n",
    "The transpose of a matrix product of more than two matrices can be written similarly. For instance, consider three matrices $A$, $B$, and $C$, then $(ABC)^T = C^T B^T A^T$.\n",
    "\n",
    "Now, let's apply these properties to $W_{Q K}^{1.4} W_{O V}^{0.7} W_E^T A$:\n",
    "\n",
    "$(W_{Q K}^{1.4} W_{O V}^{0.7} W_E^T A)^T = (A^T) (W_E)^T (W_{O V}^{0.7})^T (W_{Q K}^{1.4})^T $\n",
    "\n",
    "However, the weights $W_{Q K}^{1.4}$, $W_{O V}^{0.7}$, and $W_E$ do not change when transposed because they are the parameters of the neural network and remain constant.\n",
    "\n",
    "So, we have:\n",
    "\n",
    "$(W_{Q K}^{1.4} W_{O V}^{0.7} W_E^T A)^T = A^T W_E W_{O V}^{0.7} W_{Q K}^{1.4}$\n",
    "\n",
    "I hope this helps! Let me know if you have any further questions."
   ]
  },
  {
   "cell_type": "code",
   "execution_count": null,
   "id": "6aa53793-0f61-4075-80ac-21aabe5744c6",
   "metadata": {},
   "outputs": [],
   "source": []
  },
  {
   "cell_type": "code",
   "execution_count": null,
   "id": "a3930702-2bbf-4c36-bb47-b5c8e9c6aa0f",
   "metadata": {},
   "outputs": [],
   "source": []
  },
  {
   "cell_type": "markdown",
   "id": "cee1240c-17b0-4e36-8076-46471392e209",
   "metadata": {},
   "source": [
    "We can rearrange the terms in the matrix product like this:\n",
    "\n",
    "\\begin{align*}\n",
    "W_{QK}^{1.4} W_{OV}^{0.7} W_E^T A &= \\left(W_{QK}^{1.4} W_{OV}^{0.7}\\right) \\left(W_E^T A\\right) \\\n",
    "&= \\left(A^T W_E W_{OV}^{0.7}\\right) \\left(W_K^{1.4}\\right)^T \\\n",
    "&= \\underbrace{\\left(A^T W_E W_{OV}^{0.7} W_K^{1.4}\\right)^T}_{\\text{rearranged terms}}\n",
    "\\end{align*}\n",
    "\n",
    "The key steps are:\n",
    "\n",
    "Break apart the matrix product into two matrix products using associativity of matrix multiplication.\n",
    "\n",
    "Since matrix multiplication is not commutative in general, we swap the order of the two matrix factors in the second product.\n",
    "\n",
    "We then recognize that $\\left(W_K^{1.4}\\right)^T = \\left(W_{QK}^{1.4}\\right)^T$ since $W_K$ and $W_Q$ are transposes of each other.\n",
    "\n",
    "Finally, we rearrange the terms again into the desired form.\n",
    "\n",
    "So by repeatedly using the associative property and transpose identities, we can rearrange the product into the desired form. The key is recognizing that we can rearrange matrices in a product however we want, as long as we maintain the same order of multiplications."
   ]
  },
  {
   "cell_type": "markdown",
   "id": "942f2ee3-db21-4b0d-a041-78fd2ae7e009",
   "metadata": {},
   "source": [
    "### Engineering"
   ]
  },
  {
   "cell_type": "code",
   "execution_count": 1,
   "id": "39daeea7-d056-4ff7-8921-307e67cb7da5",
   "metadata": {
    "tags": []
   },
   "outputs": [],
   "source": [
    "import torch\n",
    "from torch import nn\n",
    "import torch.nn.functional as F"
   ]
  },
  {
   "cell_type": "code",
   "execution_count": 2,
   "id": "53dbcf37-c250-43f3-a709-d53c0075ca58",
   "metadata": {
    "tags": []
   },
   "outputs": [],
   "source": [
    "num_gpus = 4\n",
    "world_size = 16"
   ]
  },
  {
   "cell_type": "code",
   "execution_count": 7,
   "id": "90c2b00d-4330-47de-a871-dfe445b3e5a3",
   "metadata": {
    "tags": []
   },
   "outputs": [
    {
     "name": "stdout",
     "output_type": "stream",
     "text": [
      "rank: 0 > gpu: 0\n",
      "rank: 1 > gpu: 1\n",
      "rank: 2 > gpu: 2\n",
      "rank: 3 > gpu: 3\n",
      "rank: 4 > gpu: 0\n",
      "rank: 5 > gpu: 1\n",
      "rank: 6 > gpu: 2\n",
      "rank: 7 > gpu: 3\n",
      "rank: 8 > gpu: 0\n",
      "rank: 9 > gpu: 1\n",
      "rank: 10 > gpu: 2\n",
      "rank: 11 > gpu: 3\n",
      "rank: 12 > gpu: 0\n",
      "rank: 13 > gpu: 1\n",
      "rank: 14 > gpu: 2\n",
      "rank: 15 > gpu: 3\n"
     ]
    }
   ],
   "source": [
    "for rank in range(world_size):\n",
    "    print(f\"rank: {rank} > gpu: {rank % num_gpus}\")"
   ]
  },
  {
   "cell_type": "code",
   "execution_count": null,
   "id": "bd423b34-1139-4657-bc88-6aa09bcb04ce",
   "metadata": {},
   "outputs": [],
   "source": [
    "container runtime, kubelet, kube-proxy"
   ]
  },
  {
   "cell_type": "code",
   "execution_count": 8,
   "id": "2baa8a78-100f-436c-b3e2-842d8f24a132",
   "metadata": {
    "tags": []
   },
   "outputs": [],
   "source": [
    "import socketserver"
   ]
  },
  {
   "cell_type": "code",
   "execution_count": null,
   "id": "10c19d9a-5d07-4eef-94b3-318a16dde8ff",
   "metadata": {},
   "outputs": [],
   "source": [
    "class EchoRequestHandler(socketserver.StreamRequestHandler):\n",
    "    def handle(self):\n",
    "        print(self.rread)"
   ]
  },
  {
   "cell_type": "code",
   "execution_count": 9,
   "id": "c7384c09-fbff-4647-a09d-b9435b9359dc",
   "metadata": {
    "tags": []
   },
   "outputs": [],
   "source": [
    "class RegularState:\n",
    "    def __init__(self, states):\n",
    "        self._saved_state = states\n",
    "        \n",
    "        for k, v in states:\n",
    "            setattr(self, k, v)\n",
    "        \n",
    "    def restore(self):\n",
    "        for k, v in self._saved_state:\n",
    "            setattr(self, k, v)\n",
    "    \n",
    "    def commit(self):\n",
    "        pass"
   ]
  },
  {
   "cell_type": "code",
   "execution_count": 10,
   "id": "7a09b9be-fa75-49c7-b307-afe44ab72687",
   "metadata": {
    "tags": []
   },
   "outputs": [],
   "source": [
    "class State(RegularState):\n",
    "    def __init__(self, model, optim, **kwargs):\n",
    "        kwargs.update({\"model\": model, \"optim\": optim})\n",
    "        handlers, regular_states = get_handlers(kwargs)\n",
    "        super.__init__(self, regular_states)\n",
    "        self._handlers = handlers\n",
    "    \n",
    "    def commit(self):\n",
    "        for handler in self._handlers:\n",
    "            handler.commit()\n",
    "        RegularState.commit(self)\n",
    "    \n",
    "    def restore(self):\n",
    "        for handler in self._handlers:\n",
    "            handler.restore()\n",
    "        RegularState.commit(self)"
   ]
  },
  {
   "cell_type": "code",
   "execution_count": null,
   "id": "7306ff0c-cd5d-4234-9f38-98a77f662efb",
   "metadata": {},
   "outputs": [],
   "source": [
    "message passing, file system, shared mmeory"
   ]
  },
  {
   "cell_type": "code",
   "execution_count": null,
   "id": "3233c4e9-0b1e-43cc-998e-28bc70d94bae",
   "metadata": {},
   "outputs": [],
   "source": [
    "__global__ void add(int* a, int* b, int* c, int total_elements) {\n",
    "    int tid = (blockIdx.x * blockDim.x) + threadIdx.x\n",
    "    \n",
    "    if (tid < total_elements) {\n",
    "        c[tid] = a[tid] + b[tid]\n",
    "    }\n",
    "}"
   ]
  },
  {
   "cell_type": "code",
   "execution_count": 13,
   "id": "20b856d9-47bc-4d23-935b-b65376729f33",
   "metadata": {
    "tags": []
   },
   "outputs": [],
   "source": [
    "import copy"
   ]
  },
  {
   "cell_type": "code",
   "execution_count": null,
   "id": "1e69de64-faa6-4903-868f-5d7e6fee6c33",
   "metadata": {},
   "outputs": [],
   "source": [
    "class ModelStateHandler:\n",
    "    def __init__(self, model):\n",
    "        self.value = model\n",
    "        self._saved_model_state = model.state_dict()\n",
    "    \n",
    "    def commit(self):\n",
    "        self._saved_model_state = copy.deepcopy(model.state_dict())\n",
    "    \n",
    "    def restore(self):\n",
    "        self.value.load_state_dict(self._saved_model_state)\n",
    "    \n",
    "    def sync(self):\n",
    "        broadcast_parameters(self.value)"
   ]
  },
  {
   "cell_type": "code",
   "execution_count": 12,
   "id": "5a99a1c5-a40c-4fdf-b48c-04b9c48b5084",
   "metadata": {
    "tags": []
   },
   "outputs": [],
   "source": [
    "def get_handler(v):\n",
    "    for handler_type, handler_cls in handler_registry:\n",
    "        if isinstance(v, handler_cls):\n",
    "            return handler_cls(v)\n",
    "    return None"
   ]
  },
  {
   "cell_type": "code",
   "execution_count": 11,
   "id": "36cd7261-b138-4694-8a85-9b20a5168389",
   "metadata": {
    "tags": []
   },
   "outputs": [],
   "source": [
    "def get_handlers(states):\n",
    "    handlers = {}\n",
    "    remainders = {}\n",
    "    \n",
    "    for k, v in states:\n",
    "        handler = get_handler(v)\n",
    "        if handler is None:\n",
    "            remainders[k] = v\n",
    "        else:\n",
    "            handlers[k] = v\n",
    "    return handlers, remainders"
   ]
  },
  {
   "cell_type": "code",
   "execution_count": null,
   "id": "420a48fe-0637-409b-973f-fdbb5355c96c",
   "metadata": {},
   "outputs": [],
   "source": [
    "scheduler, api server, control manager, ectd"
   ]
  },
  {
   "cell_type": "code",
   "execution_count": 15,
   "id": "efc1eedb-1dc2-4e0d-b038-6b57668707a0",
   "metadata": {
    "tags": []
   },
   "outputs": [],
   "source": [
    "class RegularState:\n",
    "    def __init__(self, states):\n",
    "        self._saved_states = states\n",
    "    \n",
    "    def restore(self):\n",
    "        for k, v in self._saved_states:\n",
    "            setattr(self, k, v)\n",
    "    \n",
    "    def commit(self):\n",
    "        new_states = {}\n",
    "        for k in self._saved_states.keys():\n",
    "            new_states[k] = getattr(self, k)\n",
    "        self._saved_states = new_states"
   ]
  },
  {
   "cell_type": "code",
   "execution_count": 16,
   "id": "32cad427-38ab-4222-bab3-a891ab61e9ef",
   "metadata": {
    "tags": []
   },
   "outputs": [],
   "source": [
    "class State(RegularState):\n",
    "    def __init__(self, model, optim, kwargs):\n",
    "        kwargs.update({\"model\": model, \"optim\": optim})\n",
    "        handlers, regular_states = get_handlers(kwargs)\n",
    "        self._handlers = handlers\n",
    "        \n",
    "        for k, v in self.handlers:\n",
    "            setattr(self, k, v)\n",
    "        \n",
    "        RegularState.__init__(self, states=regular_states)\n",
    "    \n",
    "    def restore(self):\n",
    "        for handler in self._handlers.value():\n",
    "            handler.restore()\n",
    "        RegularState.restore(self)\n",
    "    \n",
    "    def commit(self):\n",
    "        for handler in self._handlers.values():\n",
    "            handler.commit()\n",
    "        RegularState.commit(self)"
   ]
  },
  {
   "cell_type": "code",
   "execution_count": 21,
   "id": "b35b5fb2-ecb1-4653-aad1-366f027fb677",
   "metadata": {
    "tags": []
   },
   "outputs": [],
   "source": [
    "import copy"
   ]
  },
  {
   "cell_type": "code",
   "execution_count": 22,
   "id": "14e3221b-a7ab-4c5c-8f0a-51f3ed2c4257",
   "metadata": {
    "tags": []
   },
   "outputs": [],
   "source": [
    "class ModelStateHandler:\n",
    "    def __init__(self, model):\n",
    "        self.set_value(model)\n",
    "        self._saved_model_state = copy.deepcopy(\n",
    "            model.state_dict()\n",
    "        )\n",
    "    \n",
    "    def restore(self):\n",
    "        self.value.load_state_dict(self._saved_model_state)\n",
    "    \n",
    "    def commit(self):\n",
    "        self._saved_model_state = copy.deepcopy(self.value.state_dict())"
   ]
  },
  {
   "cell_type": "code",
   "execution_count": 20,
   "id": "ff5e4ab5-e21a-4a8e-b100-0daa3327c152",
   "metadata": {
    "tags": []
   },
   "outputs": [],
   "source": [
    "def get_handler(v):\n",
    "    for handler_type, handler_cls in handler_registry:\n",
    "        if isinstance(v, handler_cls):\n",
    "            return handler_cls(v)\n",
    "    \n",
    "    return None"
   ]
  },
  {
   "cell_type": "code",
   "execution_count": 17,
   "id": "ad9772e3-7fab-41c5-a968-22598b52d874",
   "metadata": {
    "tags": []
   },
   "outputs": [],
   "source": [
    "def get_handlers(states):\n",
    "    handlers = {}\n",
    "    remainders = {}\n",
    "    \n",
    "    for k, v in states:\n",
    "        handler = get_handler(k)\n",
    "        if handler is None:\n",
    "            remainders[k] = v\n",
    "        else:\n",
    "            handlers[k] = handler\n",
    "    return handlers, remainders"
   ]
  },
  {
   "cell_type": "code",
   "execution_count": null,
   "id": "ef3f5c6e-3f36-4ea8-9289-b92f9073b055",
   "metadata": {},
   "outputs": [],
   "source": [
    "container runtime, sheduler, ktcd, api server"
   ]
  },
  {
   "cell_type": "code",
   "execution_count": 23,
   "id": "efc4278e-8084-442d-bc79-f10bcebabd54",
   "metadata": {
    "tags": []
   },
   "outputs": [],
   "source": [
    "world_size = 16\n",
    "tensor_model_parallel_size = 2\n",
    "pipeline_model_parallel_size = 4"
   ]
  },
  {
   "cell_type": "code",
   "execution_count": 24,
   "id": "31c9a28a-1b45-42cc-808c-e42a1e2652f8",
   "metadata": {
    "tags": []
   },
   "outputs": [],
   "source": [
    "num_pipeline_model_parallel_groups = 4"
   ]
  },
  {
   "cell_type": "code",
   "execution_count": 26,
   "id": "92f2b4a1-c82d-44c3-b88e-22ae5c899966",
   "metadata": {
    "tags": []
   },
   "outputs": [
    {
     "name": "stdout",
     "output_type": "stream",
     "text": [
      "[0, 2]\n",
      "[1, 3]\n",
      "[4, 6]\n",
      "[5, 7]\n",
      "[8, 10]\n",
      "[9, 11]\n",
      "[12, 14]\n",
      "[13, 15]\n"
     ]
    }
   ],
   "source": [
    "for i in range(pipeline_model_parallel_size):\n",
    "    start_rank = i*num_pipeline_model_parallel_groups\n",
    "    end_rank = (i+1)*num_pipeline_model_parallel_groups\n",
    "    \n",
    "    for j in range(tensor_model_parallel_size):\n",
    "        ranks = list(range(\n",
    "            start_rank+j,\n",
    "            end_rank,\n",
    "            tensor_model_parallel_size\n",
    "        ))\n",
    "        print(ranks)"
   ]
  },
  {
   "cell_type": "code",
   "execution_count": null,
   "id": "8058f6f4-711b-49fa-8126-f6bc2d85f863",
   "metadata": {},
   "outputs": [],
   "source": [
    "clock cycle 1: backward(4, 3), recompute(3, 3)\n",
    "clock cycle 2: backward(3, 3), recompute(2, 3)\n",
    "clock cycle 3: backward(2, 3), recompute(1, 3)"
   ]
  },
  {
   "cell_type": "code",
   "execution_count": null,
   "id": "35e17d90-a1e7-4e33-abb3-59bd43e310d2",
   "metadata": {},
   "outputs": [],
   "source": [
    "hostdiscovery, 3 notifications, elastic driver, torchstate"
   ]
  },
  {
   "cell_type": "code",
   "execution_count": null,
   "id": "b25abb5b-226d-4ed2-a1fa-5187f1987554",
   "metadata": {},
   "outputs": [],
   "source": [
    "elastic driver, 3 notifs, torchstate, host discovery"
   ]
  },
  {
   "cell_type": "markdown",
   "id": "be2248b8-365c-4131-b8ef-07306a042a0f",
   "metadata": {},
   "source": [
    "### MechInterp"
   ]
  },
  {
   "cell_type": "code",
   "execution_count": 27,
   "id": "d65b5b54-16d6-4cec-ad65-06e283dc0aeb",
   "metadata": {
    "tags": []
   },
   "outputs": [],
   "source": [
    "from itertools import product"
   ]
  },
  {
   "cell_type": "code",
   "execution_count": null,
   "id": "a42a9717-4ed1-47c5-89b6-0a19c1cb13f2",
   "metadata": {},
   "outputs": [],
   "source": [
    "combinations = product(range(n_heads), range(n_layers))"
   ]
  },
  {
   "cell_type": "code",
   "execution_count": null,
   "id": "05ae0fd5-9a7a-4d7a-aaf9-160c318fba2d",
   "metadata": {},
   "outputs": [],
   "source": [
    "tokens = model.to_tokens(text)"
   ]
  },
  {
   "cell_type": "code",
   "execution_count": null,
   "id": "3cf9760a-13ca-4136-9dda-bd026735f0cf",
   "metadata": {},
   "outputs": [],
   "source": [
    "_, cache = model.run_with_cache(tokens)"
   ]
  },
  {
   "cell_type": "code",
   "execution_count": null,
   "id": "177fac98-4f0a-430e-82c1-9302bc462dc1",
   "metadata": {},
   "outputs": [],
   "source": [
    "def compute_score():\n",
    "    pass"
   ]
  },
  {
   "cell_type": "code",
   "execution_count": null,
   "id": "88306bfc-de41-40a3-9bfc-f0e33e669931",
   "metadata": {},
   "outputs": [],
   "source": [
    "results = torch.zeros(n_layers, n_heads)"
   ]
  },
  {
   "cell_type": "code",
   "execution_count": null,
   "id": "3a581c84-fb67-4b6d-9214-5b1bb9e875bf",
   "metadata": {},
   "outputs": [],
   "source": [
    "for layer_idx in range(n_layers):\n",
    "    hook_name = f\"blocks.{layer_idx}.attn.hook_pattern\"\n",
    "    layer_attn_pattern = cache[hook_name]\n",
    "    for head_idx in range(n_heads):\n",
    "        attn_pattern = layer_attn_pattern[:, head_idx, :, :]\n",
    "        score = compute_score(attn_pattern, target_pattern)\n",
    "        results[layer_idx][head_idx] = score"
   ]
  },
  {
   "cell_type": "code",
   "execution_count": 28,
   "id": "2ca607ea-46b5-4ffe-b91b-46abff610b22",
   "metadata": {
    "tags": []
   },
   "outputs": [],
   "source": [
    "from contextlib import contextmanager"
   ]
  },
  {
   "cell_type": "code",
   "execution_count": 29,
   "id": "dd514e71-5753-48e7-b9a5-172d68add6c8",
   "metadata": {
    "tags": []
   },
   "outputs": [],
   "source": [
    "@contextmanager\n",
    "def use_hooks(model, hooks):\n",
    "    try:\n",
    "        handlers = []\n",
    "        for hook in hooks:\n",
    "            model.transformer.h[1].register_forward_pre_hook(hook)\n",
    "        yield handlers\n",
    "    finally:\n",
    "        for handler in handlers:\n",
    "            handler.remove()"
   ]
  },
  {
   "cell_type": "code",
   "execution_count": null,
   "id": "ee2feab4-5fdb-4892-8fd2-012ad5c0c9df",
   "metadata": {},
   "outputs": [],
   "source": [
    "step 1: residual = embed(tokens) + pos_embed(tokens)\n",
    "step 2: residual = blocks(residual)\n",
    "step 3: residual = ln_final(residual)\n",
    "step 4: logits = unembed(residual)"
   ]
  },
  {
   "cell_type": "code",
   "execution_count": null,
   "id": "37cbffeb-a897-47b6-96e0-5647c24fb650",
   "metadata": {},
   "outputs": [],
   "source": [
    "mlp + mid_resid"
   ]
  },
  {
   "cell_type": "code",
   "execution_count": null,
   "id": "e4b42707-713b-4f7f-8909-7e9ef4935e8b",
   "metadata": {},
   "outputs": [],
   "source": [
    "step 1: ln1 = ln1(resid_pre)\n",
    "step 2: attn_out = head1(ln1) + head2(ln2)\n",
    "step 3: mid_resid = resid_pre + attn_out\n",
    "step 4: ln2 = ln2(mid_resid)\n",
    "step 5: mlp = mlp(ln2)\n",
    "step 6: post_resid = mlp + mid_resid"
   ]
  },
  {
   "cell_type": "code",
   "execution_count": 30,
   "id": "82511cd5-26d3-45fb-972c-2914cca5ff35",
   "metadata": {
    "tags": []
   },
   "outputs": [],
   "source": [
    "import streamlit as st"
   ]
  },
  {
   "cell_type": "code",
   "execution_count": null,
   "id": "9bed6e81-9ef6-4046-881e-5147c13195f0",
   "metadata": {},
   "outputs": [],
   "source": [
    "st.sidebar."
   ]
  },
  {
   "cell_type": "code",
   "execution_count": null,
   "id": "2e585b20-055c-47ce-9cd7-7d5daa2f2fde",
   "metadata": {},
   "outputs": [],
   "source": [
    "mid_resid = pre_sid + attnout"
   ]
  },
  {
   "cell_type": "code",
   "execution_count": null,
   "id": "9726b1fc-93b9-4b30-b26d-15d916210370",
   "metadata": {},
   "outputs": [],
   "source": [
    "MLP(Attn(t@W_E^T))@W_U^T"
   ]
  },
  {
   "cell_type": "code",
   "execution_count": null,
   "id": "2acb8ea8-040e-443e-81e1-041411136329",
   "metadata": {},
   "outputs": [],
   "source": [
    "tokens = model.to_tokens(text)"
   ]
  },
  {
   "cell_type": "code",
   "execution_count": null,
   "id": "4b79f77d-1959-4df4-997a-d23293c80032",
   "metadata": {},
   "outputs": [],
   "source": [
    "_, cache = model.run_with_cache(tokens)"
   ]
  },
  {
   "cell_type": "code",
   "execution_count": null,
   "id": "6601617d-4521-4840-8c32-3be2325acf03",
   "metadata": {},
   "outputs": [],
   "source": [
    "embed = cache[\"hook_embed\"]\n",
    "pos_embed = cache[\"hook_pos_embed\"]\n",
    "head_outputs = cache[\"result\", prev_layer_idx]"
   ]
  },
  {
   "cell_type": "code",
   "execution_count": null,
   "id": "82722043-b91f-4669-8968-573f4b7c89b5",
   "metadata": {},
   "outputs": [],
   "source": [
    "input_components = torch.cat(\n",
    "    [embed, pos_embed, head_outputs],\n",
    "    dim=-1\n",
    ")"
   ]
  },
  {
   "cell_type": "code",
   "execution_count": 31,
   "id": "3654246e-9bfc-4906-a7c7-59a83830ba53",
   "metadata": {
    "tags": []
   },
   "outputs": [],
   "source": [
    "from einops import einsum"
   ]
  },
  {
   "cell_type": "code",
   "execution_count": null,
   "id": "c1a51ae7-adf4-4cae-88e0-275eb01581ff",
   "metadata": {},
   "outputs": [],
   "source": [
    "W_Q = model.W_Q[layer_idx]\n",
    "query_components = einsum(\n",
    "    input_components, W_Q,\n",
    "    \"\"\n",
    ")"
   ]
  },
  {
   "cell_type": "code",
   "execution_count": null,
   "id": "ddc80847-8fcb-4591-8976-7373f25e2583",
   "metadata": {},
   "outputs": [],
   "source": [
    "query_contributions = query_components.pow(2).sum(dim=-1)"
   ]
  },
  {
   "cell_type": "code",
   "execution_count": null,
   "id": "a3a7e9b7-5c17-49a9-b5be-cb27e47e24fd",
   "metadata": {},
   "outputs": [],
   "source": [
    "W_pos = model.W_pos\n",
    "W_Q = model.W_Q[layer_idx, head_idx]\n",
    "W_K = model.W_K[layer_idx, head_idx]"
   ]
  },
  {
   "cell_type": "code",
   "execution_count": null,
   "id": "4c38a558-2bc6-4712-9806-ce07ef72868a",
   "metadata": {},
   "outputs": [],
   "source": [
    "QK_circuit = W_K @ W_Q"
   ]
  },
  {
   "cell_type": "code",
   "execution_count": null,
   "id": "edff8f87-fca6-44e1-a05d-487a8eef3372",
   "metadata": {},
   "outputs": [],
   "source": [
    "pos_by_pos_scores = W_pos @ QK_circuit @ W_pos.T"
   ]
  },
  {
   "cell_type": "code",
   "execution_count": null,
   "id": "80120c5d-e35a-447b-bbdf-bf4e3f49df4c",
   "metadata": {},
   "outputs": [],
   "source": [
    "def mask_scores(scores):\n",
    "    masks = torch.triu(torch.ones_like(scores)).bool()\n",
    "    neg_inf = torch.tensor(-1e9)\n",
    "    return torch.where(masks, scores, neg_inf)"
   ]
  },
  {
   "cell_type": "code",
   "execution_count": null,
   "id": "76e23dcf-4469-4835-9e13-f643a32201bd",
   "metadata": {},
   "outputs": [],
   "source": [
    "masked_pos_by_pos = masked_scores(\n",
    "    pos_by_pos_scores/(d_head**0.5)\n",
    ")"
   ]
  },
  {
   "cell_type": "code",
   "execution_count": null,
   "id": "2fa23215-5590-4bf9-ab71-48fa1353c23d",
   "metadata": {},
   "outputs": [],
   "source": [
    "pos_by_pos_pattern = F.softmax(mask_pos_by_pos, dim=-1)"
   ]
  },
  {
   "cell_type": "code",
   "execution_count": null,
   "id": "c2919694-15e0-450a-99a6-75806531329c",
   "metadata": {},
   "outputs": [],
   "source": [
    "tokens = model.to_tokens(text)"
   ]
  },
  {
   "cell_type": "code",
   "execution_count": null,
   "id": "eb21334e-287b-4eef-9601-190eba2f7e96",
   "metadata": {},
   "outputs": [],
   "source": [
    "_, cache = model.run_with_cache(tokens)"
   ]
  },
  {
   "cell_type": "code",
   "execution_count": null,
   "id": "426b6925-6200-4ff2-a8d4-6970cc53eb47",
   "metadata": {},
   "outputs": [],
   "source": [
    "embed = cache[\"hook_embed\"]\n",
    "pos_embed = cache[\"hook_pos_embed\"]\n",
    "head_outputs = cache[\"result\", layer_idx-1]"
   ]
  },
  {
   "cell_type": "code",
   "execution_count": null,
   "id": "74e84e4e-16ea-4bf4-9cd5-8a75ff758934",
   "metadata": {},
   "outputs": [],
   "source": [
    "input_components = torch.cat([\n",
    "    embed, pos_embed, head_outputs\n",
    "], dim=-1)"
   ]
  },
  {
   "cell_type": "code",
   "execution_count": null,
   "id": "da480654-2c84-4273-be7b-97ba46401ba9",
   "metadata": {},
   "outputs": [],
   "source": [
    "W_Q = model.W_Q[layer_idx, head_idx]\n",
    "query_components = einsum(\n",
    "    input_components,\n",
    "    W_Q,\n",
    "    \"\"\n",
    ")"
   ]
  },
  {
   "cell_type": "code",
   "execution_count": null,
   "id": "ec28a66d-bd54-4b91-b78d-0f029160824c",
   "metadata": {},
   "outputs": [],
   "source": [
    "W_K = model.W_K[layer_idx, head_idx]\n",
    "key_components = einsum(\n",
    "    input_components,\n",
    "    W_K,\n",
    "    \"\"\n",
    ")"
   ]
  },
  {
   "cell_type": "code",
   "execution_count": null,
   "id": "d4484ee1-cabf-45ca-ba09-dedb774b48f4",
   "metadata": {},
   "outputs": [],
   "source": [
    "decomposed_scores = einsum(\n",
    "    query_components,\n",
    "    key_components,\n",
    "    \"\"\n",
    ")"
   ]
  },
  {
   "cell_type": "code",
   "execution_count": null,
   "id": "66ad4cf1-c436-4e8c-9024-9f9993bdbc60",
   "metadata": {},
   "outputs": [],
   "source": [
    "W_E = model.W_E\n",
    "\n",
    "W_Q = model.W_Q[1, 4]\n",
    "W_K = model.W_K[1, 4]\n",
    "\n",
    "W_O = model.W_O[0, 7]\n",
    "W_V = model.W_V[0, 7]"
   ]
  },
  {
   "cell_type": "code",
   "execution_count": null,
   "id": "d4fde338-ad72-4803-aca6-ca209fe304c0",
   "metadata": {},
   "outputs": [],
   "source": [
    "Q = W_E @ W_Q"
   ]
  },
  {
   "cell_type": "code",
   "execution_count": null,
   "id": "32b68a13-0ee2-4c9c-bcda-8dd836d92d3d",
   "metadata": {},
   "outputs": [],
   "source": [
    "model.resid_accumte"
   ]
  },
  {
   "cell_type": "code",
   "execution_count": null,
   "id": "809964ce-5e66-42c7-8f37-11505527f36f",
   "metadata": {},
   "outputs": [],
   "source": [
    "v@W_E^T@W_QK@[v1, v2]"
   ]
  },
  {
   "cell_type": "code",
   "execution_count": null,
   "id": "9b359957-6f54-45bc-8a8c-f7d5c1407007",
   "metadata": {},
   "outputs": [],
   "source": [
    "probs @ W_O + bias"
   ]
  },
  {
   "cell_type": "markdown",
   "id": "4dea616e-8a02-4315-bf9e-45f02cdec230",
   "metadata": {},
   "source": [
    "### Persissstence"
   ]
  },
  {
   "cell_type": "code",
   "execution_count": 32,
   "id": "a2357d60-23f6-401a-878b-e70be4d0cd27",
   "metadata": {
    "tags": []
   },
   "outputs": [],
   "source": [
    "import torch\n",
    "from torch import nn\n",
    "import torch.nn.functional as F"
   ]
  },
  {
   "cell_type": "code",
   "execution_count": 45,
   "id": "fcc0a07e-e54a-45e3-a3af-fef08af1bd6f",
   "metadata": {
    "tags": []
   },
   "outputs": [],
   "source": [
    "a = 10\n",
    "a1 = hex(id(a))"
   ]
  },
  {
   "cell_type": "code",
   "execution_count": 46,
   "id": "95a2b932-b826-40c0-805c-3ea8fea1a59e",
   "metadata": {
    "tags": []
   },
   "outputs": [],
   "source": [
    "a = 15\n",
    "a2 = hex(id(a))"
   ]
  },
  {
   "cell_type": "markdown",
   "id": "8ac40c18-1454-4a39-9748-dc24fdb4443f",
   "metadata": {},
   "source": [
    "What is the `output`? Explain"
   ]
  },
  {
   "cell_type": "code",
   "execution_count": 47,
   "id": "3ec3bf01-da01-493f-a27b-3d8fb28d8ee1",
   "metadata": {
    "tags": []
   },
   "outputs": [],
   "source": [
    "output = a1 == a2"
   ]
  },
  {
   "cell_type": "code",
   "execution_count": 48,
   "id": "02c99dfb-743c-4ffc-92fc-6d0932c51538",
   "metadata": {
    "tags": []
   },
   "outputs": [
    {
     "data": {
      "text/plain": [
       "False"
      ]
     },
     "execution_count": 48,
     "metadata": {},
     "output_type": "execute_result"
    }
   ],
   "source": [
    "output"
   ]
  },
  {
   "cell_type": "markdown",
   "id": "a43df39b-591d-4068-9961-8636c1401b1a",
   "metadata": {},
   "source": [
    "**Explain**\n",
    "\n",
    "The `id()` function in Python returns the memory address of an object. When you do `a = 10`, Python creates an integer object with the value of `10` and assigns the variable `a` to point to that object. When you call `id(a)`, it returns the memory address of the object `10`.\n",
    "\n",
    "Now, when you later reassign `a = 15`, Python creates a new integer object with the value of `15` and changes the variable a to point to this new object. So, the memory address returned by `id(a)` after the reassignment is the address of the new object `15`, which is different from the previous object `10`.\n",
    "\n",
    "Hence, `a1` and `a2` hold the memory addresses of two different objects (`10` and `15`, respectively), so `a1 == a2` is `False`."
   ]
  },
  {
   "cell_type": "code",
   "execution_count": null,
   "id": "3d5ba653-d2dd-4806-8386-620be293c513",
   "metadata": {},
   "outputs": [],
   "source": [
    "step 1: download the parqet file from s3\n",
    "step 2: load the parqet fule using apache arrow\n",
    "step 3: extract the schema\n"
   ]
  },
  {
   "cell_type": "code",
   "execution_count": 50,
   "id": "711c003e-3f3f-408e-9c4c-50849f5bf2a1",
   "metadata": {
    "tags": []
   },
   "outputs": [],
   "source": [
    "from sqlalchemy.orm import sessionmaker"
   ]
  },
  {
   "cell_type": "code",
   "execution_count": null,
   "id": "de77a52a-f434-40b5-8677-95905d284014",
   "metadata": {},
   "outputs": [],
   "source": [
    "Session = sessionmaker(bind=engie)"
   ]
  },
  {
   "cell_type": "code",
   "execution_count": 51,
   "id": "dc8ddc97-e201-4716-bcec-f8f9a0579061",
   "metadata": {
    "tags": []
   },
   "outputs": [],
   "source": [
    "import pytest"
   ]
  },
  {
   "cell_type": "code",
   "execution_count": null,
   "id": "271efe4d-c997-4ef2-8b17-b383ba89f046",
   "metadata": {},
   "outputs": [],
   "source": [
    "@pytest.mark.parametrize(\n",
    "    (\"input\", \"expected\"),\n",
    "    [(1, 1), (2, 4)]\n",
    ")\n",
    "def test_square(input, expected):\n",
    "    assert square(input) == expected"
   ]
  },
  {
   "cell_type": "code",
   "execution_count": 52,
   "id": "3cb91431-8fb7-4460-8624-d56b80d906ec",
   "metadata": {
    "tags": []
   },
   "outputs": [],
   "source": [
    "from typing import TypedDict"
   ]
  },
  {
   "cell_type": "code",
   "execution_count": 53,
   "id": "e199c615-7dab-4f5b-9ea2-e84eaae9f7b3",
   "metadata": {
    "tags": []
   },
   "outputs": [],
   "source": [
    "class NutritionInformation(TypedDict):\n",
    "    value: int\n",
    "    unit: str"
   ]
  },
  {
   "cell_type": "code",
   "execution_count": 56,
   "id": "4fbbe2be-e2ca-402a-bdc0-399e935afbf1",
   "metadata": {
    "tags": []
   },
   "outputs": [],
   "source": [
    "class RecipeNutritionInformation(TypedDict):\n",
    "    recipes_used: int\n",
    "    calories: NutritionInformation\n",
    "    carbs: NutritionInformation"
   ]
  },
  {
   "cell_type": "code",
   "execution_count": null,
   "id": "5651baaf-99a7-4a2f-b036-4ce25b22e829",
   "metadata": {},
   "outputs": [],
   "source": [
    "class Model(nn.Module):\n",
    "    def __init__(self):\n",
    "        super().__init__()\n",
    "        self.register_buffer(\"means\", _one_vector)"
   ]
  },
  {
   "cell_type": "code",
   "execution_count": null,
   "id": "455efd8c-a22e-44af-98e4-73820a536ba2",
   "metadata": {},
   "outputs": [],
   "source": [
    "torch.cuda.current_device()"
   ]
  },
  {
   "cell_type": "code",
   "execution_count": 57,
   "id": "8a653ac3-4c09-469a-8320-f9b29081dfc7",
   "metadata": {
    "tags": []
   },
   "outputs": [],
   "source": [
    "def mse(preds, targs):\n",
    "    return (preds-targs).pow(2).mean()"
   ]
  },
  {
   "cell_type": "code",
   "execution_count": 58,
   "id": "56e122ca-a632-4dd0-8670-8c84be0762f9",
   "metadata": {
    "tags": []
   },
   "outputs": [],
   "source": [
    "def split_dataset(dataset, percent):\n",
    "    split = int(len(dataset)*percent)\n",
    "    return dataset[:split], dataset[split:]"
   ]
  },
  {
   "cell_type": "code",
   "execution_count": null,
   "id": "2a57e86d-fa3f-4aaf-a9a5-422c0b7cf73e",
   "metadata": {},
   "outputs": [],
   "source": [
    "class BatchNorm(nn.Module):\n",
    "    def __init__(self, mom, eps):\n",
    "        super().__init__()\n",
    "        self.mom = mom\n",
    "        self.eps = eps\n",
    "        self.mean = self.register_buffer(torch.zeros(1))\n",
    "        self.var = self.register_buffer(torch.ones(1))\n",
    "    \n",
    "    def scale(self, mean, var, x):\n",
    "        self.mean.lerp_(mean, self.mom)\n",
    "        self.var.lerp_(var, self.mom)\n",
    "    \n",
    "    def forward(self, x):\n",
    "        with torch.no_grad():\n",
    "            mean, var = x.mean(), x.var()\n",
    "        \n",
    "        self.scale(mean, var, x)"
   ]
  },
  {
   "cell_type": "code",
   "execution_count": null,
   "id": "f663393a-2ad9-4a87-8efe-b6780ac2ffa7",
   "metadata": {},
   "outputs": [],
   "source": [
    "class BatchNorm(nn.Module):\n",
    "    def __init__(self, mom, eps):\n",
    "        super().__init__()\n",
    "        self.mom = mom\n",
    "        self.eps = eps\n",
    "        self.mults = nn\n",
    "        self.register_buffer(\"mean\", torch.zeros(1))\n",
    "        self.register_buffer(\"var\", torch.ones(1))\n",
    "    \n",
    "    def update_stats(self, x):\n",
    "        mean = x.mean(dim=0)\n",
    "        var = x.mean(dim=0)\n",
    "        self.mean.lerp_(mean, self.mom)\n",
    "        self.var.lerp_(var, self.mom)\n",
    "        return mean, var\n",
    "    \n",
    "    def forward(self, x):\n",
    "        with torch.no_grad():\n",
    "            mean, var = self.update_stats(x)\n",
    "        \n",
    "        x = (x-mean)/(var+self.eps)\n",
    "        return x"
   ]
  }
 ],
 "metadata": {
  "kernelspec": {
   "display_name": "Python 3 (ipykernel)",
   "language": "python",
   "name": "python3"
  },
  "language_info": {
   "codemirror_mode": {
    "name": "ipython",
    "version": 3
   },
   "file_extension": ".py",
   "mimetype": "text/x-python",
   "name": "python",
   "nbconvert_exporter": "python",
   "pygments_lexer": "ipython3",
   "version": "3.8.16"
  }
 },
 "nbformat": 4,
 "nbformat_minor": 5
}
