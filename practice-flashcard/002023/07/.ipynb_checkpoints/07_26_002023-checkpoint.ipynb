{
 "cells": [
  {
   "cell_type": "markdown",
   "id": "0d3b06ae-e8fd-433a-af3d-1ee634352aa4",
   "metadata": {},
   "source": [
    "### Engineering"
   ]
  },
  {
   "cell_type": "code",
   "execution_count": null,
   "id": "dd2c5dd9-787e-44fa-aa9b-adb1397024a0",
   "metadata": {},
   "outputs": [],
   "source": [
    "step 1: the server creates a socket server\n",
    "step 2: "
   ]
  },
  {
   "cell_type": "code",
   "execution_count": 1,
   "id": "279385f9-9194-41d1-a9dd-2982309ca142",
   "metadata": {
    "tags": []
   },
   "outputs": [],
   "source": [
    "import torch\n",
    "from torch import nn\n",
    "import torch.nn.functional as F"
   ]
  },
  {
   "cell_type": "code",
   "execution_count": null,
   "id": "b3e92329-701b-4810-8ac6-32ac335a69c2",
   "metadata": {},
   "outputs": [],
   "source": [
    "def free_storage(x):\n",
    "    if x.storage().size() > 0:\n",
    "        assert x.storage_offset() == 0\n",
    "        \n",
    "        x.storage().resize_(0)"
   ]
  },
  {
   "cell_type": "code",
   "execution_count": null,
   "id": "0c4c16d3-2b86-47df-85d8-16a381feb859",
   "metadata": {},
   "outputs": [],
   "source": [
    "container runtime, kubelet, kube-proxy"
   ]
  },
  {
   "cell_type": "code",
   "execution_count": null,
   "id": "36d77d19-1234-49b1-9c5c-08ac7976f258",
   "metadata": {},
   "outputs": [],
   "source": [
    "typedef int age;"
   ]
  },
  {
   "cell_type": "code",
   "execution_count": null,
   "id": "be5254a1-a4c8-41a1-a034-da40c362b0ee",
   "metadata": {},
   "outputs": [],
   "source": [
    "spot the exception, rollback across all workers node"
   ]
  },
  {
   "cell_type": "code",
   "execution_count": null,
   "id": "358cd279-7451-4142-a920-97ac28108f13",
   "metadata": {},
   "outputs": [],
   "source": [
    "step 1: "
   ]
  },
  {
   "cell_type": "markdown",
   "id": "2a3769f1-6d82-43b9-8526-227491d8ed1c",
   "metadata": {},
   "source": [
    "step 1: wait for data\n",
    "step 2: retrieve data for the current F(microbatch_idx, partition_idx)\n",
    "step 3: construct a task\n",
    "step 4: put the task into the correspond worker's in_queues\n",
    "step 5: wait\n",
    "step 6: retrieve the output\n",
    "step 7: "
   ]
  },
  {
   "cell_type": "code",
   "execution_count": null,
   "id": "8666aea3-9585-4321-8fb2-afaa31c98c9a",
   "metadata": {},
   "outputs": [],
   "source": [
    "no. del = python's garbage collector\n",
    "\n",
    "if other tensors still reference "
   ]
  },
  {
   "cell_type": "code",
   "execution_count": null,
   "id": "4bfc98ba-ec9f-4ba7-8633-a792d78aefdd",
   "metadata": {},
   "outputs": [],
   "source": [
    "step 1: launch 100 threads\n",
    "step 2: retreive\n",
    "step 3: do computation\n",
    "step 4: write the output"
   ]
  },
  {
   "cell_type": "code",
   "execution_count": null,
   "id": "b3e81a9d-fe8e-43ab-8603-6ed4a2172f55",
   "metadata": {},
   "outputs": [],
   "source": [
    "global distributed group, tensor, pipeline, data parallel groups "
   ]
  },
  {
   "cell_type": "code",
   "execution_count": null,
   "id": "03f5b936-6a39-463e-808b-2b1ec98e2933",
   "metadata": {},
   "outputs": [],
   "source": [
    "local_rank, local_world_size, ranks_in_a_group, ProcessGroup"
   ]
  },
  {
   "cell_type": "code",
   "execution_count": null,
   "id": "b9617764-8891-4bdc-bf39-cc54c2ef50f8",
   "metadata": {},
   "outputs": [],
   "source": [
    "step 1: c\n",
    "step 2: b\n",
    "step 3: a\n",
    "step 4: "
   ]
  },
  {
   "cell_type": "code",
   "execution_count": 2,
   "id": "f71fda16-93f3-449e-a936-94f60a632f70",
   "metadata": {
    "tags": []
   },
   "outputs": [],
   "source": [
    "from functools import wraps"
   ]
  },
  {
   "cell_type": "code",
   "execution_count": 3,
   "id": "22ae5af9-55d6-43f3-852e-a4073d798c6a",
   "metadata": {
    "tags": []
   },
   "outputs": [],
   "source": [
    "def my_decorator(func):\n",
    "    @wraps(func)\n",
    "    def wrapper(*args, **kwargs):\n",
    "        return func(*args, **kwargs)\n",
    "    return wrapper"
   ]
  },
  {
   "cell_type": "code",
   "execution_count": 4,
   "id": "21be1c82-2179-48a3-98cf-7dfd778a513a",
   "metadata": {
    "tags": []
   },
   "outputs": [],
   "source": [
    "# class Checkpoint(torch.autograd.Function):\n",
    "#     @staticmethod\n",
    "#     def forward(ctx, phony, recomputed, function, input):\n",
    "#         ctx.recomputed = recomputed\n",
    "#         ctx.function = function\n",
    "#         ctx.input = input\n",
    "#         return input, phony\n",
    "    \n",
    "#     @staticmethod\n",
    "#     def backward(ctx, grad_input):\n",
    "#         function = ctx.function\n",
    "#         input = ctx.input\n",
    "#         recomputed = ctx.recomputed\n",
    "        \n",
    "#         input_leaf = input.detach().requires_grad_(\n",
    "#             input.requires_grad\n",
    "#         )\n",
    "        \n",
    "#         with torch.enable_grad():\n",
    "#             output = function(input_leaf)\n",
    "        \n",
    "#         recomputed.put([output, input_leaf])\n",
    "#         return None, None, None, grad_input"
   ]
  },
  {
   "cell_type": "code",
   "execution_count": null,
   "id": "763ab578-b9df-49b0-b615-15e01f0e973c",
   "metadata": {},
   "outputs": [],
   "source": [
    "typedef int age;"
   ]
  },
  {
   "cell_type": "code",
   "execution_count": null,
   "id": "a4ae2962-e2ac-4384-8932-f47d52c3ef20",
   "metadata": {},
   "outputs": [],
   "source": [
    "step 1: "
   ]
  },
  {
   "cell_type": "code",
   "execution_count": null,
   "id": "3e5e423c-7cac-42de-8eb9-3b1beb77e833",
   "metadata": {},
   "outputs": [],
   "source": [
    "minimize FLOPs\n",
    "maximize memory storage\n",
    "minimize communication"
   ]
  },
  {
   "cell_type": "code",
   "execution_count": null,
   "id": "a38f6770-3bde-4168-a0b2-66748be31b46",
   "metadata": {},
   "outputs": [],
   "source": [
    "local_rank, local_world_size, ProcessGroup, ranks_in_a_group"
   ]
  },
  {
   "cell_type": "code",
   "execution_count": null,
   "id": "92f1df38-0129-494d-8787-a6bf0ac69830",
   "metadata": {},
   "outputs": [],
   "source": [
    "rank, world size, tensor parallelsize"
   ]
  },
  {
   "cell_type": "code",
   "execution_count": null,
   "id": "f2bae0d8-7fec-4968-b2ac-ecb87d6e9b5d",
   "metadata": {},
   "outputs": [],
   "source": [
    "tensor.storage().resize_(0)"
   ]
  },
  {
   "cell_type": "code",
   "execution_count": null,
   "id": "62b9f740-5d56-4351-b6e4-bab17f191764",
   "metadata": {},
   "outputs": [],
   "source": [
    "step 1: create a socket server\n",
    "step 2: .bind()\n",
    "step 3: .accept()\n",
    "step 4: communicate\n",
    "step 5: close the connection"
   ]
  },
  {
   "cell_type": "code",
   "execution_count": null,
   "id": "b7a12c88-bebf-46ca-862f-f992243669c6",
   "metadata": {},
   "outputs": [],
   "source": [
    "memory vs communication, and FLOPs"
   ]
  },
  {
   "cell_type": "code",
   "execution_count": null,
   "id": "c18d3e40-9c51-4f4d-9176-6e105e87f04b",
   "metadata": {},
   "outputs": [],
   "source": [
    "# step 1: init a global distributed group\n",
    "# step 2: init parallel groups\n",
    "# step 3: set device\n",
    "# step 5: save"
   ]
  },
  {
   "cell_type": "code",
   "execution_count": null,
   "id": "f2fa1311-d907-4d52-be37-b500d2ed889b",
   "metadata": {},
   "outputs": [],
   "source": [
    "step 1: determine the list of global ranks in the parallel group\n",
    "step 2: check if global rank of the current process is in that list"
   ]
  },
  {
   "cell_type": "code",
   "execution_count": null,
   "id": "51ec2cda-12f7-4968-b69b-5e99c56732f8",
   "metadata": {},
   "outputs": [],
   "source": [
    "MLP(Attn(t@W_E))@W_U"
   ]
  },
  {
   "cell_type": "code",
   "execution_count": null,
   "id": "08adb9c5-2fb8-4036-9d29-8e20fcfc0925",
   "metadata": {},
   "outputs": [],
   "source": [
    "step 1: presence = theirs + mine\n",
    "step 2: presence/2\n",
    "step 3: blank - (presence/2 )"
   ]
  },
  {
   "cell_type": "code",
   "execution_count": null,
   "id": "7470f54f-dd54-4544-ae98-4bdd2d22d145",
   "metadata": {},
   "outputs": [],
   "source": [
    "mine = linear_probe[..., 2]\n",
    "theirs = linear_probe[..., 1]"
   ]
  },
  {
   "cell_type": "code",
   "execution_count": null,
   "id": "2c526f99-c55d-471d-bfd6-11f0e172358b",
   "metadata": {},
   "outputs": [],
   "source": [
    "mine_vs_theirs = mine - theirs\n",
    "extracted_direction = mine_vs_theirs[:, 5, 4]"
   ]
  },
  {
   "cell_type": "code",
   "execution_count": null,
   "id": "c4905095-6394-4402-b45d-6367fdfe5939",
   "metadata": {},
   "outputs": [],
   "source": [
    "empty = linear_probe[..., 0]"
   ]
  },
  {
   "cell_type": "code",
   "execution_count": null,
   "id": "9ecfa4e2-520e-4211-bbd6-49165358411d",
   "metadata": {},
   "outputs": [],
   "source": [
    "theirs = linear_probe[..., 1]\n",
    "mine = linear_probe[..., 2]"
   ]
  },
  {
   "cell_type": "code",
   "execution_count": null,
   "id": "eafa62aa-c176-499c-838b-a99e0a524d95",
   "metadata": {},
   "outputs": [],
   "source": [
    "not_empty = (theirs + mine) / 2"
   ]
  },
  {
   "cell_type": "code",
   "execution_count": null,
   "id": "4085670d-c76c-4fdc-adcf-82a0fb4f5d09",
   "metadata": {},
   "outputs": [],
   "source": [
    "empty_vs_not_empty = empty - not_empty"
   ]
  },
  {
   "cell_type": "code",
   "execution_count": null,
   "id": "45a7f4d8-3b95-4cc3-a8d8-92cb4b4c6a5b",
   "metadata": {},
   "outputs": [],
   "source": [
    "x1 - x2"
   ]
  },
  {
   "cell_type": "code",
   "execution_count": null,
   "id": "7e1f109a-16d8-4d86-b9fb-f8c085799552",
   "metadata": {},
   "outputs": [],
   "source": [
    "step 1: resid = embed(tokens) + pos_embed(tokens)\n",
    "step 2: resid = blocks(resid)\n",
    "step 3: resid = final_ln(resid)\n",
    "step 4: logits = unembed(resid)"
   ]
  },
  {
   "cell_type": "code",
   "execution_count": null,
   "id": "0b96bd98-fbea-4189-8569-2f15e5db596b",
   "metadata": {},
   "outputs": [],
   "source": [
    "ReLU(x@W_in)@W_out"
   ]
  },
  {
   "cell_type": "code",
   "execution_count": null,
   "id": "1f0eb405-bfa3-4ac3-87c4-8450c312c70d",
   "metadata": {},
   "outputs": [],
   "source": [
    "W_in@W_out"
   ]
  },
  {
   "cell_type": "code",
   "execution_count": null,
   "id": "2ec89387-2e6d-4489-b130-0b1fc69ae267",
   "metadata": {},
   "outputs": [],
   "source": [
    "step 1: z1 = W1@x\n",
    "step 2: z2 = W2@z1\n",
    "step 3: z2 = W2@(W1@x)"
   ]
  },
  {
   "cell_type": "code",
   "execution_count": null,
   "id": "095f86ee-5dce-4da9-9eef-8e3c4a30e3bd",
   "metadata": {},
   "outputs": [],
   "source": [
    "sparity, importance, relu, correlatedvs anti"
   ]
  },
  {
   "cell_type": "code",
   "execution_count": null,
   "id": "8e58ed5a-a8f1-420b-8ba6-ae11cb932537",
   "metadata": {},
   "outputs": [],
   "source": [
    "low sparity = dense = interference\n",
    "high"
   ]
  },
  {
   "cell_type": "code",
   "execution_count": null,
   "id": "6a526e3b-d55e-4341-a671-fec66f2400b1",
   "metadata": {},
   "outputs": [],
   "source": [
    "class Optimizer:\n",
    "    def __init__(self, params, lr):\n",
    "        self.params = params\n",
    "        self.lr = lr\n",
    "    \n",
    "    def step(self):\n",
    "        with torch.no_grad():\n",
    "            for p in self.params:\n",
    "                p.data -= p.grad * self.lr"
   ]
  },
  {
   "cell_type": "code",
   "execution_count": null,
   "id": "7de0da26-245f-412a-8145-2ba3acc8e2cd",
   "metadata": {},
   "outputs": [],
   "source": [
    "step 1: tokenize prompt\n",
    "step 2: tokenize observation, append prompt\n",
    "step 3: pred\n",
    "step 4: take action if needed\n",
    "step 5: repeat step 1"
   ]
  },
  {
   "cell_type": "code",
   "execution_count": null,
   "id": "0925306b-6392-4376-b750-32f7b4a897e2",
   "metadata": {},
   "outputs": [],
   "source": [
    "adding relu\n",
    "correlated vs non-correlated features\n",
    "sparity\n",
    "importances"
   ]
  },
  {
   "cell_type": "markdown",
   "id": "bd5d4731-024b-4f48-8d1a-4d7498226b06",
   "metadata": {},
   "source": [
    "ionic, metallic, covalent, waal"
   ]
  },
  {
   "cell_type": "markdown",
   "id": "68f89473-ec21-4991-9a1a-1e55a5b5d4ea",
   "metadata": {},
   "source": [
    "population activity, conditioned response, motor imagery, stimulus-evoked"
   ]
  },
  {
   "cell_type": "code",
   "execution_count": null,
   "id": "b405425a-82c6-4925-b846-30c36addf333",
   "metadata": {},
   "outputs": [],
   "source": [
    "step 1: record\n",
    "step 2: map the monkey's neural activity into \n",
    "step 3: reward\n"
   ]
  },
  {
   "cell_type": "markdown",
   "id": "8e73c23b-c5ff-4946-8032-7050aa1bf08d",
   "metadata": {},
   "source": [
    "population activity, conditioned, stimulus-evoked, motor-imagery"
   ]
  },
  {
   "cell_type": "code",
   "execution_count": null,
   "id": "c535a183-3868-4a31-a58a-48b22c3cca36",
   "metadata": {},
   "outputs": [],
   "source": [
    "biocompatible, reliable recording, neural plasticity"
   ]
  },
  {
   "cell_type": "code",
   "execution_count": null,
   "id": "8f2b98ab-7952-448e-b8ce-80bde349200f",
   "metadata": {},
   "outputs": [],
   "source": [
    "> optic nerve > visual cortex"
   ]
  },
  {
   "cell_type": "code",
   "execution_count": 5,
   "id": "997f5357-e3ce-4451-b609-52d3c91c8e03",
   "metadata": {
    "tags": []
   },
   "outputs": [],
   "source": [
    "import torch"
   ]
  },
  {
   "cell_type": "code",
   "execution_count": null,
   "id": "c9a3cb72-9cd1-416e-bfc5-036b4679b027",
   "metadata": {},
   "outputs": [],
   "source": [
    "class Checkpoint(torch.autograd.Function):\n",
    "    @staticmethod\n",
    "    def forward(ctx, phony, recomputed, function, input):\n",
    "        ctx.recomputed = recomputed\n",
    "        \n",
    "        with torch.no_grad():\n",
    "            output = function(input)\n",
    "        \n",
    "        return None, None, None, output\n",
    "\n",
    "    @staticmethod\n",
    "    def backward(ctx, grad_input):\n",
    "        recomputed = ctx.recomputed\n",
    "        \n",
    "        output, input_leaf = recomputed.pop()\n",
    "        \n",
    "        with torch.enable_grad():\n",
    "            torch.autograd.backward(output, input_leaf)\n",
    "        \n",
    "        return None, None, None, input_leaf.grad"
   ]
  },
  {
   "cell_type": "code",
   "execution_count": null,
   "id": "7cd116a8-d3b7-4d2d-9e38-357f12211d1b",
   "metadata": {},
   "outputs": [],
   "source": [
    "step 1: init global dist\n",
    "step 2: parallel groups\n",
    "step 3: set device\n",
    "step 4: set seed"
   ]
  },
  {
   "cell_type": "code",
   "execution_count": null,
   "id": "a747f8df-42c5-4e31-9685-3a2537ae5960",
   "metadata": {},
   "outputs": [],
   "source": [
    "step 1: determine a list of global ranks in that parallel group\n",
    "step 2: check whether the global rank in that list\n",
    "step 3: if yes, create a paralell griu"
   ]
  },
  {
   "cell_type": "code",
   "execution_count": 6,
   "id": "9f909f5e-578b-4b63-b7aa-6bebe081cfc9",
   "metadata": {
    "tags": []
   },
   "outputs": [],
   "source": [
    "import torch.distributed.rpc as rpc"
   ]
  },
  {
   "cell_type": "code",
   "execution_count": null,
   "id": "a2c87099-fe6d-4203-9a2e-5a9608c5698b",
   "metadata": {},
   "outputs": [],
   "source": [
    "class Observer:\n",
    "    def __init__(self, env):\n",
    "        self.id = rpc.get_worker_info().id\n",
    "        self.env = env\n",
    "    \n",
    "    def run_episode(self, agent_rref):\n",
    "        env = self.env\n",
    "        state, _ = env.reset()\n",
    "        \n",
    "        for i in range(69):\n",
    "            action = rpc.rpc_sync(\n",
    "                to=agent_rref.owner(),\n",
    "                func=agent_rref.rpc_sync().select_action,\n",
    "                args=(self.id, state)\n",
    "            )\n",
    "            state_, reward, done, _ = env.step(state)\n",
    "            if done:\n",
    "                break"
   ]
  },
  {
   "cell_type": "code",
   "execution_count": 9,
   "id": "6f0182e5-3f54-41a8-a45a-804150a035fa",
   "metadata": {
    "tags": []
   },
   "outputs": [],
   "source": [
    "from abc import ABC, abstractmethod"
   ]
  },
  {
   "cell_type": "code",
   "execution_count": 10,
   "id": "872f914e-680f-4953-9088-8b74a94eea71",
   "metadata": {
    "tags": []
   },
   "outputs": [],
   "source": [
    "class Component(ABC):\n",
    "    @abstractmethod\n",
    "    def activate(self): raise NotImplementedError"
   ]
  },
  {
   "cell_type": "code",
   "execution_count": 11,
   "id": "717dc5ca-e419-45a8-887d-339031c725a8",
   "metadata": {
    "tags": []
   },
   "outputs": [],
   "source": [
    "class Screen(Component):\n",
    "    def activate(self):\n",
    "        print(\"xx\")"
   ]
  },
  {
   "cell_type": "code",
   "execution_count": null,
   "id": "ea423d08-3563-4f35-a75d-c6ebdd1437f9",
   "metadata": {},
   "outputs": [],
   "source": [
    "class Computer:\n",
    "    def __init__(self, components):\n",
    "        self._components = components\n",
    "    \n",
    "    def activate(self):\n",
    "        for component self._components:\n",
    "            component"
   ]
  },
  {
   "cell_type": "code",
   "execution_count": null,
   "id": "bd822fe1-447b-4d9a-ad66-3da587e94645",
   "metadata": {},
   "outputs": [],
   "source": []
  }
 ],
 "metadata": {
  "kernelspec": {
   "display_name": "Python 3 (ipykernel)",
   "language": "python",
   "name": "python3"
  },
  "language_info": {
   "codemirror_mode": {
    "name": "ipython",
    "version": 3
   },
   "file_extension": ".py",
   "mimetype": "text/x-python",
   "name": "python",
   "nbconvert_exporter": "python",
   "pygments_lexer": "ipython3",
   "version": "3.8.16"
  }
 },
 "nbformat": 4,
 "nbformat_minor": 5
}
