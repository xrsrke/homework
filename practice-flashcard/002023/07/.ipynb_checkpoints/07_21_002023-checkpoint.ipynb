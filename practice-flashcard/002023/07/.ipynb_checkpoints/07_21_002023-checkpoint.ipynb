{
 "cells": [
  {
   "cell_type": "markdown",
   "id": "7c417fe3-8d1a-4943-9029-13154d0f6061",
   "metadata": {},
   "source": [
    "Here is a mathematical explanation for why representing latent features as orthogonal vectors makes reconstruction easier in an autoencoder:\n",
    "\n",
    "Let's say our autoencoder has an encoder function $f$ that maps the input $x$ to a latent representation $z = f(x)$, and a decoder $g$ that reconstructs the input as $\\hat{x} = g(z)$.\n",
    "\n",
    "If the dimensions of $z$ are orthogonal unit vectors $z_1, z_2, ..., z_n$, then we can write:\n",
    "\n",
    "$z = a_1 z_1 + a_2 z_2 + ... + a_n z_n$\n",
    "\n",
    "where $a_i$ are scalar coefficients that indicate the strength of each latent feature $z_i$ in the representation of $x$.\n",
    "\n",
    "Since the $z_i$ vectors are orthogonal (dot product is 0), we have:\n",
    "\n",
    "$z_i^\\top z_j = 0$ for $i \\neq j$\n",
    "\n",
    "and because they are unit vectors:\n",
    "\n",
    "$z_i^\\top z_i = 1$\n",
    "\n",
    "This allows us to easily \"decode\" the contribution of each latent feature via:\n",
    "\n",
    "$a_i = z_i^\\top z$\n",
    "\n",
    "So the decoder can reconstruct $x$ as:\n",
    "\n",
    "$\\hat{x} = g(z) = g(a_1 z_1 + ... + a_n z_n)$\n",
    "\n",
    "$= a_1 g(z_1) + ... + a_n g(z_n)$\n",
    "\n",
    "Where $g(z_i)$ represents the contribution of the $i$-th latent feature to the reconstruction.\n",
    "\n",
    "The orthogonality allows the decoder to cleanly disentangle and decode the contribution of each latent dimension, making reconstruction simpler. If the latent features overlapped, it would be harder to isolate each one's individual contribution to the input."
   ]
  },
  {
   "cell_type": "markdown",
   "id": "566b5259-6c43-4288-901b-eb533e01251a",
   "metadata": {},
   "source": [
    "### Engineering"
   ]
  },
  {
   "cell_type": "code",
   "execution_count": 1,
   "id": "829288e1-5b83-4175-8ecb-e19cf6707634",
   "metadata": {
    "tags": []
   },
   "outputs": [],
   "source": [
    "import torch\n",
    "from torch import nn\n",
    "import torch.nn.functional as F"
   ]
  },
  {
   "cell_type": "code",
   "execution_count": null,
   "id": "f501aad7-cafd-4fde-adc0-ff88a9969e24",
   "metadata": {},
   "outputs": [],
   "source": [
    "step 1: partrition\n",
    "step 2: forward: gather, do the forward, discard\n",
    "step 3: backward: gather, do the backward, disard\n",
    "step 4: "
   ]
  },
  {
   "cell_type": "code",
   "execution_count": null,
   "id": "8d6307e7-63ab-41d4-b14f-42623b07ce76",
   "metadata": {},
   "outputs": [],
   "source": [
    "api server, scheduler, control manager, ectd"
   ]
  },
  {
   "cell_type": "code",
   "execution_count": null,
   "id": "69410058-c9dd-47ce-a614-d1d3c6c8d46b",
   "metadata": {},
   "outputs": [],
   "source": [
    "grd"
   ]
  },
  {
   "cell_type": "markdown",
   "id": "1bd5ea44-18f2-4242-b56e-8a0645db5996",
   "metadata": {},
   "source": [
    "step 1: init batch, processed data\n",
    "step 2: unprocessed data\n",
    "step 3: num of workers\n",
    "step 4: partritioning"
   ]
  },
  {
   "cell_type": "code",
   "execution_count": null,
   "id": "852988b3-cf71-4ada-9e6a-7bb8f7f8bb34",
   "metadata": {},
   "outputs": [],
   "source": [
    "step 1: F(0, 0)\n",
    "step 2: F(0, 1), F(1, 0)\n",
    "step 3: F(1, 1), F(2, 0)\n",
    "step 4: F(2, 1)"
   ]
  },
  {
   "cell_type": "code",
   "execution_count": 3,
   "id": "9c449bd2-1385-4ae3-bcbc-05d6e9c0eee1",
   "metadata": {
    "tags": []
   },
   "outputs": [],
   "source": [
    "def compute_total_memory(model):\n",
    "    total_memory = 0\n",
    "    \n",
    "    for param in model.parameters():\n",
    "        total_memory += param.storage.size() * param.numel()\n",
    "    \n",
    "    return total_memory"
   ]
  },
  {
   "cell_type": "code",
   "execution_count": 4,
   "id": "2baa9053-6f78-4ea4-8ab1-298e2fafe0be",
   "metadata": {
    "tags": []
   },
   "outputs": [],
   "source": [
    "class HostUpdatedInterrupt(RuntimeError):\n",
    "    def __init__(self, skip_sync):\n",
    "        self.skip_sync = skip_sync"
   ]
  },
  {
   "cell_type": "code",
   "execution_count": null,
   "id": "9fd40581-3181-495d-b604-5233680c32df",
   "metadata": {},
   "outputs": [],
   "source": [
    "clock_idx+1-n_microbatches"
   ]
  },
  {
   "cell_type": "code",
   "execution_count": null,
   "id": "f064a6ff-0f4a-4194-977b-8ba612e6f044",
   "metadata": {},
   "outputs": [],
   "source": [
    "step 1: normalize the loss based on n/n_epochs\n",
    "step 2: calculate the gradient with respect to the normalized loss\n",
    "step 3: sum the gradient\n",
    "step 4: if n =, update, if not, repeat step 1"
   ]
  },
  {
   "cell_type": "code",
   "execution_count": null,
   "id": "baf3ac2d-40e9-4895-a92a-c389d689ab65",
   "metadata": {},
   "outputs": [],
   "source": [
    "grid > thread block > thread"
   ]
  },
  {
   "cell_type": "code",
   "execution_count": null,
   "id": "2a96a22e-0429-4425-97f9-1e1323f82015",
   "metadata": {},
   "outputs": [],
   "source": []
  },
  {
   "cell_type": "code",
   "execution_count": null,
   "id": "ad5ff1c3-8739-4fe5-9c83-232e4d14df80",
   "metadata": {},
   "outputs": [],
   "source": [
    "class Pipeline:\n",
    "    def __init__(\n",
    "        self,\n",
    "        batches, partritions, devices,\n",
    "        scheduler=DetermisticScheduler()\n",
    "    ):\n",
    "        self.batches = batches\n",
    "        self.partritions = partritions\n",
    "        self.devices = devices\n",
    "        self.scheduler = scheduler\n",
    "    \n",
    "    def fit(self):\n",
    "        batches = self.batches\n",
    "        partritions = self.partritions\n",
    "        devices = self.devices\n",
    "        scheduler = self.scheduler\n",
    "        \n",
    "        n_batches = len(batches)\n",
    "        n_partritions = len(partritions)\n",
    "        \n",
    "        with spawk_worker(devices) as (in_queues, out_queues):\n",
    "            for schedule in scheduler.generate(n_batches, n_partritions):\n",
    "                self.compute(schedule, in_queues, out_queues)\n",
    "    \n",
    "    def compute(self, schedule, in_queues, out_queues):\n",
    "        batches = self.batches\n",
    "        for microbatch_idx, partrition_idx in schedule:\n",
    "            batch = batches[microbatch_idx].get()\n",
    "            \n",
    "            def compute_func(batch, partrition):\n",
    "                def wrapper():\n",
    "                    return partrition(batch)\n",
    "                return wrapper\n",
    "            \n",
    "            task = Task(compute=compute_func)\n",
    "            out_queues[partrition_idx].put(task)\n",
    "        \n",
    "        for microbatch_idx, partrition_idx in schedule:\n",
    "            output_task = in_queues[microbatch_idx].get()\n",
    "            batches[microbatch_idx] = output_task.output"
   ]
  },
  {
   "cell_type": "code",
   "execution_count": null,
   "id": "13ce27ff-b144-47c9-b2f7-d1b43425ae65",
   "metadata": {},
   "outputs": [],
   "source": [
    "next_stream.record_event(event)"
   ]
  },
  {
   "cell_type": "code",
   "execution_count": null,
   "id": "58cd3279-1d3a-4ff1-8fef-d342f203e14e",
   "metadata": {},
   "outputs": [],
   "source": [
    "forward, backward, optimizer-state"
   ]
  },
  {
   "cell_type": "code",
   "execution_count": null,
   "id": "428bbfd8-ccac-4df7-a886-dda313030af3",
   "metadata": {},
   "outputs": [],
   "source": [
    "grid > thread block > thread"
   ]
  },
  {
   "cell_type": "code",
   "execution_count": null,
   "id": "e7de8a98-5e83-48f9-a7a4-5101ad34fec5",
   "metadata": {},
   "outputs": [],
   "source": [
    "m+n-1"
   ]
  },
  {
   "cell_type": "code",
   "execution_count": null,
   "id": "23d43d62-f796-48ba-ad68-587f15e423ca",
   "metadata": {},
   "outputs": [],
   "source": [
    "model parameters, optimizer paramaters, gradients"
   ]
  },
  {
   "cell_type": "code",
   "execution_count": 5,
   "id": "e82c8835-1e39-4eb3-8631-910fbece1cb4",
   "metadata": {
    "tags": []
   },
   "outputs": [],
   "source": [
    "tensor_model_parallel_size = 2\n",
    "num_tensor_model_parallel_groups = 8"
   ]
  },
  {
   "cell_type": "code",
   "execution_count": 6,
   "id": "5ee1ff19-0df9-48f7-8ded-82a2bf044c2c",
   "metadata": {
    "tags": []
   },
   "outputs": [
    {
     "name": "stdout",
     "output_type": "stream",
     "text": [
      "[0, 1]\n",
      "[2, 3]\n",
      "[4, 5]\n",
      "[6, 7]\n",
      "[8, 9]\n",
      "[10, 11]\n",
      "[12, 13]\n",
      "[14, 15]\n"
     ]
    }
   ],
   "source": [
    "for i in range(num_tensor_model_parallel_groups):\n",
    "    ranks = list(range(\n",
    "        i*tensor_model_parallel_size,\n",
    "        (i+1)*tensor_model_parallel_size\n",
    "    ))\n",
    "    \n",
    "    print(ranks)"
   ]
  },
  {
   "cell_type": "code",
   "execution_count": 7,
   "id": "28e7a985-2187-4930-8fad-4f1b2f5520a6",
   "metadata": {
    "tags": []
   },
   "outputs": [],
   "source": [
    "def by_column_parallel(inputs, weights):\n",
    "    partrition_size = weights.shape[-1] // 2\n",
    "    w1 = weights[:, :partrition_size]\n",
    "    w2 = weights[:, partrition_size:]\n",
    "    \n",
    "    out1 = torch.matmul(inputs, w1)\n",
    "    out2 = torch.matmul(inputs, w2)\n",
    "    \n",
    "    return torch.cat([out1, out2])"
   ]
  },
  {
   "cell_type": "code",
   "execution_count": null,
   "id": "0dda60cc-d884-464c-8ee7-40523a54104c",
   "metadata": {},
   "outputs": [],
   "source": [
    "forward(x) > out = forward(x) > backward(out)"
   ]
  },
  {
   "cell_type": "code",
   "execution_count": null,
   "id": "35590796-17e3-48e6-ade4-f98d323f7a38",
   "metadata": {},
   "outputs": [],
   "source": [
    "loss = loss_func(output, labels)"
   ]
  },
  {
   "cell_type": "code",
   "execution_count": null,
   "id": "3c119e0a-abe1-4392-82ff-69d493f42740",
   "metadata": {},
   "outputs": [],
   "source": [
    "step 1: gather\n",
    "step 2: do backward\n",
    "step 3: discard\n",
    "step 4: average "
   ]
  },
  {
   "cell_type": "code",
   "execution_count": null,
   "id": "0e997f66-7961-4e95-8005-30a81135260f",
   "metadata": {},
   "outputs": [],
   "source": [
    "x.record_stream(prev_stream)\n",
    "x.record_stream(default_stream)"
   ]
  },
  {
   "cell_type": "code",
   "execution_count": null,
   "id": "153de322-ae88-4cbd-aaf4-a2f006703c03",
   "metadata": {},
   "outputs": [],
   "source": [
    "step 1: record the elapsed time\n",
    "step 2: determine the number of layers in each partrition\n",
    "step 3: "
   ]
  },
  {
   "cell_type": "markdown",
   "id": "1c75eb42-8933-4682-b343-221d36d9ec6b",
   "metadata": {},
   "source": [
    "### MechInterp"
   ]
  },
  {
   "cell_type": "code",
   "execution_count": 8,
   "id": "69785c94-d216-490a-83ca-9107d4f36411",
   "metadata": {
    "tags": []
   },
   "outputs": [],
   "source": [
    "from transformer_lens.utils import get_act_name"
   ]
  },
  {
   "cell_type": "code",
   "execution_count": null,
   "id": "12017b64-3154-4372-8fd2-9b289653cceb",
   "metadata": {},
   "outputs": [],
   "source": [
    "head_names = [get_act_name(\"result\", layer_idx) for layer_idx in range(n_layers)]\n",
    "mlp_names = [get_act_name(\"mlp_out\", layer_idx) for layer_idx in range(n_layers)]"
   ]
  },
  {
   "cell_type": "code",
   "execution_count": null,
   "id": "be956a48-f503-433a-9f9c-ae0dd1a8e6aa",
   "metadata": {},
   "outputs": [],
   "source": [
    "all_hook_names = [\"hook_embed\", \"hook_pos_embed\"] + head_names, mlp_names"
   ]
  },
  {
   "cell_type": "code",
   "execution_count": null,
   "id": "ec66fa35-f61a-4f3f-94f5-2b3f1e823b86",
   "metadata": {},
   "outputs": [],
   "source": [
    "_, cache = model.run_with_cache(\n",
    "    tokens,\n",
    "    names_filter=lambda x: x in all_hook_names\n",
    ")"
   ]
  },
  {
   "cell_type": "code",
   "execution_count": null,
   "id": "f61ffea3-9daa-46a9-99b1-5a77e3ad7daf",
   "metadata": {},
   "outputs": [],
   "source": [
    "input_components = torch.tensor([cache[\"embed\"] + cache[\"pos_embed\"]]).unsqueeze(0)"
   ]
  },
  {
   "cell_type": "code",
   "execution_count": null,
   "id": "7f334240-d1f8-4a4d-902f-521b04dbee9d",
   "metadata": {},
   "outputs": [],
   "source": [
    "for head_name, mlp_name in zip(head_names, mlp_names):\n",
    "    input_components = torch.cat([\n",
    "        input_components,\n",
    "        cache[head_name],\n",
    "        cache[mlp_name]\n",
    "    ])"
   ]
  },
  {
   "cell_type": "code",
   "execution_count": null,
   "id": "cb9341bf-94bd-4af8-8c97-e218e64620ac",
   "metadata": {},
   "outputs": [],
   "source": [
    "W_U = model.W_U\n",
    "logit_diff_direction = W_U[:, 0] - W_U[:, 1]"
   ]
  },
  {
   "cell_type": "code",
   "execution_count": null,
   "id": "1c5f6ea3-4c51-4a62-8e5f-29f8f2c7a119",
   "metadata": {},
   "outputs": [],
   "source": [
    "pre_final_ln_direction = coeff.T @ logit_diff_direction"
   ]
  },
  {
   "cell_type": "code",
   "execution_count": 9,
   "id": "b874a9fb-b3b1-4e3e-8371-54fcdc0f02ff",
   "metadata": {
    "tags": []
   },
   "outputs": [],
   "source": [
    "from einops import einsum"
   ]
  },
  {
   "cell_type": "code",
   "execution_count": null,
   "id": "d869a5ca-2a5c-4f08-b3a4-055fa247dac3",
   "metadata": {},
   "outputs": [],
   "source": [
    "contributions = einsum(\n",
    "    input_components,\n",
    "    pre_final_ln_direction,\n",
    "    \"\"\n",
    ")"
   ]
  },
  {
   "cell_type": "code",
   "execution_count": null,
   "id": "81971861-97da-4df4-9305-e1a08cbf2469",
   "metadata": {},
   "outputs": [],
   "source": [
    "W_normalized = W / W.norm(keepdim=True)"
   ]
  },
  {
   "cell_type": "code",
   "execution_count": null,
   "id": "807d3856-ef16-4748-8388-215766aeda4c",
   "metadata": {},
   "outputs": [],
   "source": [
    "similarities = W_normalized @ W_normalized.T"
   ]
  },
  {
   "cell_type": "code",
   "execution_count": null,
   "id": "cdba81f9-fcbb-456f-b4eb-67450dd75147",
   "metadata": {},
   "outputs": [],
   "source": [
    "fig.add_trace()"
   ]
  },
  {
   "cell_type": "code",
   "execution_count": null,
   "id": "75bcfc98-98ef-47fd-9aaa-a052e0313c26",
   "metadata": {},
   "outputs": [],
   "source": [
    "features are linear representations\n",
    "feautres are represented as directions"
   ]
  },
  {
   "cell_type": "code",
   "execution_count": null,
   "id": "07b4f671-8a02-4b8d-8d95-ddaaa468eb08",
   "metadata": {},
   "outputs": [],
   "source": [
    "fig = go.Figure()\n",
    "\n",
    "fig.add_trace(go.Scatter(x=df_stocks.date, y=df_stocks.AAPL))"
   ]
  },
  {
   "cell_type": "code",
   "execution_count": null,
   "id": "b9ff9cfc-2605-421b-b3a1-c7fc2cebbc67",
   "metadata": {},
   "outputs": [],
   "source": [
    "step 1: logit_diff_direction = W_U[0] - W_U[1]\n",
    "step 2: approximate layer norm\n",
    "step 3: backward transformation\n",
    "step 4: project the pre layer norm to logit_diff_direction"
   ]
  },
  {
   "cell_type": "code",
   "execution_count": null,
   "id": "ad25f234-8bfd-4ed7-84fb-7b0a6a133e69",
   "metadata": {},
   "outputs": [],
   "source": []
  },
  {
   "cell_type": "code",
   "execution_count": 11,
   "id": "46b8cb4a-9590-4183-9489-ff0e4c5e450a",
   "metadata": {
    "tags": []
   },
   "outputs": [],
   "source": [
    "from transformer_lens import HookedTransformerConfig, HookedTransformer"
   ]
  },
  {
   "cell_type": "code",
   "execution_count": null,
   "id": "2ae7436d-1162-4486-b41d-9bf0e0e42a62",
   "metadata": {},
   "outputs": [],
   "source": [
    "config = HookedTransformerConfig(**params)"
   ]
  },
  {
   "cell_type": "code",
   "execution_count": null,
   "id": "b27e85d6-9312-49ac-8e5a-a9f1e6865e43",
   "metadata": {},
   "outputs": [],
   "source": [
    "model = HookedTransformer(cfg=config)"
   ]
  },
  {
   "cell_type": "code",
   "execution_count": null,
   "id": "43e4a44a-629b-42ab-b73e-8a6db82c9573",
   "metadata": {},
   "outputs": [],
   "source": [
    "q, k, v, pattern, output"
   ]
  },
  {
   "cell_type": "code",
   "execution_count": null,
   "id": "a218ee06-eda2-4b5b-9075-088a3807d13d",
   "metadata": {},
   "outputs": [],
   "source": [
    "import "
   ]
  },
  {
   "cell_type": "markdown",
   "id": "24072fd4-7620-4610-8ac2-246bbd38b579",
   "metadata": {},
   "source": [
    "step 1: rewrite probs as logit differnece\n",
    "step 2: decompose the logits\n",
    "step 3: calcualte the logit difference direction\n",
    "step 4: project the output of each input components to the logit diff direction"
   ]
  },
  {
   "cell_type": "code",
   "execution_count": null,
   "id": "828ebc23-507b-4aef-ba0d-27227396225e",
   "metadata": {},
   "outputs": [],
   "source": [
    "W_OV"
   ]
  },
  {
   "cell_type": "code",
   "execution_count": 12,
   "id": "b8ffa566-cc97-47b5-9637-55059c0f4ac4",
   "metadata": {
    "tags": []
   },
   "outputs": [],
   "source": [
    "n_features = 5"
   ]
  },
  {
   "cell_type": "code",
   "execution_count": null,
   "id": "b4b65e99-b467-4e6d-81ae-8f32a72f1f72",
   "metadata": {},
   "outputs": [],
   "source": [
    "interference[\n",
    "    torch.arange(n_features),\n",
    "    torch.arange(n_features)\n",
    "] = 0."
   ]
  },
  {
   "cell_type": "code",
   "execution_count": null,
   "id": "183c5daa-7b9c-4e9a-917a-681c236f7781",
   "metadata": {},
   "outputs": [],
   "source": [
    "polysemanticity = interference.pow(2).sum(-1).sqrt()"
   ]
  },
  {
   "cell_type": "code",
   "execution_count": null,
   "id": "092b5b9c-10ad-4e15-babf-88d4af893671",
   "metadata": {},
   "outputs": [],
   "source": [
    "step 1: x = embed + pos_embed + sum(12 heads)\n",
    "step 2: x@W_Q\n",
    "step 3: [embed + pos_embed + sum(12 hedas)]@W_Q\n",
    "step 4..."
   ]
  },
  {
   "cell_type": "code",
   "execution_count": null,
   "id": "17ff88ce-8677-455d-8663-8c6b797dd2c1",
   "metadata": {},
   "outputs": [],
   "source": [
    "model.W_E"
   ]
  },
  {
   "cell_type": "code",
   "execution_count": null,
   "id": "79707144-3fb7-4389-9e87-1b0d96d5d0b5",
   "metadata": {},
   "outputs": [],
   "source": [
    "(their + mine)/2: "
   ]
  },
  {
   "cell_type": "code",
   "execution_count": 13,
   "id": "31214341-2a7c-4909-b868-0351646b4845",
   "metadata": {
    "tags": []
   },
   "outputs": [],
   "source": [
    "import plotly.express as px"
   ]
  },
  {
   "cell_type": "code",
   "execution_count": null,
   "id": "a7567ba3-3dd0-463e-8fb9-d88b45624f89",
   "metadata": {},
   "outputs": [],
   "source": [
    "px.line(x=df_stocks.date, y=[])"
   ]
  },
  {
   "cell_type": "code",
   "execution_count": null,
   "id": "43ac2d73-4707-4f80-b3a1-65307db8a771",
   "metadata": {},
   "outputs": [],
   "source": [
    "model.embed(tokens)"
   ]
  },
  {
   "cell_type": "code",
   "execution_count": null,
   "id": "306ce3cb-3ef6-4ab7-9163-7be458e1f452",
   "metadata": {},
   "outputs": [],
   "source": [
    "step 1: logit_diff_direction = W_U[0] - W_U[1]\n",
    "step 2: approximate layer norm\n",
    "step 3: inverse transformation\n",
    "step 4: project pre ln to logit_diff"
   ]
  },
  {
   "cell_type": "code",
   "execution_count": null,
   "id": "927c2e28-3377-4552-b8aa-73b77ba82ce2",
   "metadata": {},
   "outputs": [],
   "source": [
    "cache.accumulated_resid(layer=layer_idx, pos_slice=target_positions)"
   ]
  },
  {
   "cell_type": "code",
   "execution_count": 14,
   "id": "7da7e71a-24dc-4324-a240-73ee8ccd863c",
   "metadata": {
    "tags": []
   },
   "outputs": [],
   "source": [
    "from typing import List"
   ]
  },
  {
   "cell_type": "code",
   "execution_count": null,
   "id": "92455d8a-4e9f-46e6-b1a1-375c86c9115e",
   "metadata": {},
   "outputs": [],
   "source": [
    "numbers: List[int] = [1, 2, 3, 4, 5]"
   ]
  },
  {
   "cell_type": "code",
   "execution_count": null,
   "id": "bcfc56ed-5c94-4a30-b6d6-bf0a545f26ab",
   "metadata": {},
   "outputs": [],
   "source": [
    "public, private, elastic"
   ]
  },
  {
   "cell_type": "code",
   "execution_count": 15,
   "id": "67c8939f-4b6e-4a68-b4cc-aad907460c5a",
   "metadata": {
    "tags": []
   },
   "outputs": [],
   "source": [
    "class Christmas:\n",
    "    def __init__(self):\n",
    "        self.color = \"red\"\n",
    "    \n",
    "    def __missing__(self):\n",
    "        print(\"can't find\")"
   ]
  },
  {
   "cell_type": "code",
   "execution_count": 25,
   "id": "73366b6e-6d1d-4b9c-ad19-cf743aee62fd",
   "metadata": {
    "tags": []
   },
   "outputs": [],
   "source": [
    "from typing import Sequence"
   ]
  },
  {
   "cell_type": "markdown",
   "id": "be16f43c-170d-4a8f-8cb2-1923b983be1d",
   "metadata": {},
   "source": [
    "`x` has a fixed size and has no order type"
   ]
  },
  {
   "cell_type": "code",
   "execution_count": 30,
   "id": "abb605e6-5c4f-4424-8aef-6231e9579d5e",
   "metadata": {
    "tags": []
   },
   "outputs": [],
   "source": [
    "x = [3, 5, \"persistence\", 41.1, \"fuck ya\"]"
   ]
  },
  {
   "cell_type": "markdown",
   "id": "5351d186-ca38-460e-9524-68aa0425d5bd",
   "metadata": {},
   "source": [
    "Add type hints to `x`"
   ]
  },
  {
   "cell_type": "code",
   "execution_count": 31,
   "id": "64123ba4-e7b7-4984-8ea6-2b098f39d7ca",
   "metadata": {
    "tags": []
   },
   "outputs": [],
   "source": [
    "from typing import Union, List"
   ]
  },
  {
   "cell_type": "code",
   "execution_count": 32,
   "id": "079f2f18-3626-4239-9f15-bd1720735e26",
   "metadata": {
    "tags": []
   },
   "outputs": [],
   "source": [
    "x: List[Union[str, int, float]] = [3, 5, \"persistence\", 41.1, \"fuck ya\"]"
   ]
  },
  {
   "cell_type": "code",
   "execution_count": 33,
   "id": "5de95a63-330e-443a-a106-555f3ef3dd0b",
   "metadata": {
    "tags": []
   },
   "outputs": [
    {
     "data": {
      "text/plain": [
       "[3, 5, 'persistence', 41.1, 'fuck ya']"
      ]
     },
     "execution_count": 33,
     "metadata": {},
     "output_type": "execute_result"
    }
   ],
   "source": [
    "x"
   ]
  },
  {
   "cell_type": "code",
   "execution_count": 34,
   "id": "fdcc73dd-2ec0-417c-a11f-8b566af50e03",
   "metadata": {
    "tags": []
   },
   "outputs": [],
   "source": [
    "import torch.distributed.rpc as rpc"
   ]
  },
  {
   "cell_type": "code",
   "execution_count": 35,
   "id": "921ae670-cd9d-48e7-9748-64efc5c34d26",
   "metadata": {
    "tags": []
   },
   "outputs": [],
   "source": [
    "class Observer:\n",
    "    def __init__(self, env):\n",
    "        self.id = rpc.get_worker_info().id\n",
    "        self.env = env\n",
    "    \n",
    "    def run_episode(self, agent_rref):\n",
    "        state, _ = self.env.reset()\n",
    "        \n",
    "        for _ in range(69):\n",
    "            action = rpc.rpc_sync(\n",
    "                to=agent_rref.owner(),\n",
    "                func=agent_rref.rpc_sync().select_action,\n",
    "                args=(self.id, state)\n",
    "            )\n",
    "            \n",
    "            state, reward, done, _ = env.step(action)\n",
    "            \n",
    "            if done: break"
   ]
  },
  {
   "cell_type": "code",
   "execution_count": null,
   "id": "00fc33a7-9e24-43e6-8954-3e39fad309f3",
   "metadata": {},
   "outputs": [],
   "source": [
    "text_target = text_embedding @ text_embedding.T\n",
    "image_target = image_embedding @ image_embedding.T\n",
    "\n",
    "target = F.softmax(\n",
    "    (text_target+image_target)/(2*temperature),\n",
    "    dim=-1\n",
    ")"
   ]
  },
  {
   "cell_type": "code",
   "execution_count": null,
   "id": "e2c75ee6-7564-48ed-9447-3f9535345547",
   "metadata": {},
   "outputs": [],
   "source": [
    "x.repeat((2, 2))"
   ]
  },
  {
   "cell_type": "code",
   "execution_count": 36,
   "id": "f2227f28-f74a-4b72-b024-8d19cd5b616e",
   "metadata": {
    "tags": []
   },
   "outputs": [],
   "source": [
    "from torch.utils.data import DataLoader, random_split"
   ]
  },
  {
   "cell_type": "code",
   "execution_count": null,
   "id": "c5aa7724-39f8-4d7b-8c14-97a24bb01ee5",
   "metadata": {},
   "outputs": [],
   "source": [
    "train_set, test_set = random_split(dataset, lengths=[6, 4])"
   ]
  },
  {
   "cell_type": "code",
   "execution_count": null,
   "id": "0caf9543-729d-44ae-8622-559349a4cfb9",
   "metadata": {},
   "outputs": [],
   "source": [
    "train_loader = DataLoader(train_set, batch_size=2)\n",
    "test_loader = DataLoader(test_set, batch_size=2)"
   ]
  },
  {
   "cell_type": "code",
   "execution_count": 37,
   "id": "c57babe7-7b36-4f1a-a474-edc87b943867",
   "metadata": {
    "tags": []
   },
   "outputs": [],
   "source": [
    "import torch.distributed as dist"
   ]
  },
  {
   "cell_type": "code",
   "execution_count": null,
   "id": "2a0f5a74-1723-41fb-a677-a801c6f06e78",
   "metadata": {},
   "outputs": [],
   "source": [
    "dist.broadcast(x, src=0, async_op=True)"
   ]
  },
  {
   "cell_type": "code",
   "execution_count": null,
   "id": "67e22d15-91df-4fcc-a0e5-d817270e22f7",
   "metadata": {},
   "outputs": [],
   "source": [
    "step 1: partritioning\n",
    "step 2: gather, do forward pass, discard\n",
    "step 3: gather, do backward pass, discard\n",
    "step 4: grad\n",
    "step 5: update "
   ]
  },
  {
   "cell_type": "code",
   "execution_count": null,
   "id": "768ebc8e-46a6-47a5-8a75-d03ef8790a80",
   "metadata": {},
   "outputs": [],
   "source": [
    "owner, id, name"
   ]
  },
  {
   "cell_type": "code",
   "execution_count": 38,
   "id": "1ad600ed-dfd9-4ece-a360-73e77dc58b2f",
   "metadata": {
    "tags": []
   },
   "outputs": [],
   "source": [
    "from typing import List, Union"
   ]
  },
  {
   "cell_type": "code",
   "execution_count": 39,
   "id": "a5be89e7-ecd2-4b79-871d-f68325492099",
   "metadata": {
    "tags": []
   },
   "outputs": [],
   "source": [
    "x: List[Union[str, int, float]] = []"
   ]
  },
  {
   "cell_type": "code",
   "execution_count": null,
   "id": "20cbfb1e-1825-4c43-884c-8ee09f0519ec",
   "metadata": {},
   "outputs": [],
   "source": []
  },
  {
   "cell_type": "code",
   "execution_count": null,
   "id": "72053851-e94d-4f00-9114-22cc18e7e27b",
   "metadata": {},
   "outputs": [],
   "source": [
    "x.repeat((3, 2))"
   ]
  },
  {
   "cell_type": "code",
   "execution_count": 40,
   "id": "6673de28-018d-4eed-8f7b-1a6ad485285e",
   "metadata": {
    "tags": []
   },
   "outputs": [],
   "source": [
    "from torch.nn.utils import clip_grad_norm_"
   ]
  },
  {
   "cell_type": "code",
   "execution_count": null,
   "id": "7166e6ff-c600-4940-a686-4914b8c3610d",
   "metadata": {},
   "outputs": [],
   "source": [
    "clip_grad_norm_(param_1, max_norm=GRAD_CLIP_NORM)"
   ]
  },
  {
   "cell_type": "code",
   "execution_count": null,
   "id": "38d408c2-3e6a-466a-8d1f-a4757a26eda0",
   "metadata": {},
   "outputs": [],
   "source": [
    "def func(x):\n",
    "    return tokenize(x[\"sentence1\"])"
   ]
  },
  {
   "cell_type": "code",
   "execution_count": null,
   "id": "4ab31b5f-b477-451d-81af-140a97356e7f",
   "metadata": {},
   "outputs": [],
   "source": [
    "small_dataset.map(func)"
   ]
  },
  {
   "cell_type": "code",
   "execution_count": null,
   "id": "42a11f06-f3e4-4596-987b-78975331fd22",
   "metadata": {},
   "outputs": [],
   "source": [
    "from "
   ]
  },
  {
   "cell_type": "code",
   "execution_count": 41,
   "id": "4d5416b4-d9ed-4c38-bbb0-faff4c297cfd",
   "metadata": {
    "tags": []
   },
   "outputs": [],
   "source": [
    "import torch"
   ]
  },
  {
   "cell_type": "code",
   "execution_count": 42,
   "id": "986e7acc-1d23-48b4-8047-300afe0c7c85",
   "metadata": {
    "tags": []
   },
   "outputs": [],
   "source": [
    "x = torch.randn(1, requires_grad=True)"
   ]
  },
  {
   "cell_type": "code",
   "execution_count": 43,
   "id": "2e82b70d-cbab-41fc-b27c-5ddb2ab83e2c",
   "metadata": {
    "tags": []
   },
   "outputs": [],
   "source": [
    "y = torch.randn(1, requires_grad=True)"
   ]
  },
  {
   "cell_type": "code",
   "execution_count": 45,
   "id": "b104ac4e-dd52-43f1-9dfd-b38d617414ba",
   "metadata": {
    "tags": []
   },
   "outputs": [],
   "source": [
    "(x+y).mean().backward()"
   ]
  },
  {
   "cell_type": "code",
   "execution_count": 46,
   "id": "eec2b76b-d4e2-41a9-b08b-9458e984323d",
   "metadata": {
    "tags": []
   },
   "outputs": [
    {
     "data": {
      "text/plain": [
       "tensor([1.])"
      ]
     },
     "execution_count": 46,
     "metadata": {},
     "output_type": "execute_result"
    }
   ],
   "source": [
    "x.grad"
   ]
  },
  {
   "cell_type": "code",
   "execution_count": null,
   "id": "878a91bf-809b-410a-9296-9527cde42061",
   "metadata": {},
   "outputs": [],
   "source": []
  }
 ],
 "metadata": {
  "kernelspec": {
   "display_name": "Python 3 (ipykernel)",
   "language": "python",
   "name": "python3"
  },
  "language_info": {
   "codemirror_mode": {
    "name": "ipython",
    "version": 3
   },
   "file_extension": ".py",
   "mimetype": "text/x-python",
   "name": "python",
   "nbconvert_exporter": "python",
   "pygments_lexer": "ipython3",
   "version": "3.8.16"
  }
 },
 "nbformat": 4,
 "nbformat_minor": 5
}
