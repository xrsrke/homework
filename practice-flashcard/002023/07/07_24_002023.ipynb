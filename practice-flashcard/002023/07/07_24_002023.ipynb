{
 "cells": [
  {
   "cell_type": "markdown",
   "id": "b3ddfb60-6d40-47d5-8530-f8d8259a4939",
   "metadata": {},
   "source": [
    "### Engineering"
   ]
  },
  {
   "cell_type": "code",
   "execution_count": 1,
   "id": "4e9e2981-6ff8-4a8f-863a-237401376419",
   "metadata": {
    "tags": []
   },
   "outputs": [],
   "source": [
    "import torch\n",
    "from torch import nn\n",
    "import torch.nn.functional as F"
   ]
  },
  {
   "cell_type": "markdown",
   "id": "f928e2b0-2c55-49c3-aa51-3093ae25dfe8",
   "metadata": {},
   "source": [
    "step 1: compute the normalized loss by dividing the loss with the number of steps\n",
    "step 2: compute the gradients with respect to the normalized loss\n",
    "step 3: compute the acumulative gradient by ...\n",
    "step 4: "
   ]
  },
  {
   "cell_type": "code",
   "execution_count": null,
   "id": "2d5e30d0-ae50-4879-934e-074ce0af5052",
   "metadata": {},
   "outputs": [],
   "source": [
    "node > pod > container"
   ]
  },
  {
   "cell_type": "code",
   "execution_count": null,
   "id": "172f5038-0e99-4fdb-9499-31ba1532deaf",
   "metadata": {},
   "outputs": [],
   "source": [
    "Layer 1: gathered, computed, released\n",
    "Layer 2: gathered, computed, released\n",
    "Layer 3: gathering...\n",
    "Layer 4, 5: Empty"
   ]
  },
  {
   "cell_type": "code",
   "execution_count": null,
   "id": "e18668f9-c965-43c2-96f7-b01db39dc6ae",
   "metadata": {},
   "outputs": [],
   "source": [
    "global memory > shared memory > register memory"
   ]
  },
  {
   "cell_type": "code",
   "execution_count": null,
   "id": "3aab5871-117c-4fc1-8bb3-3380326d0dad",
   "metadata": {},
   "outputs": [],
   "source": [
    "number of chunks"
   ]
  },
  {
   "cell_type": "code",
   "execution_count": null,
   "id": "f4b8ba66-d9c9-4082-88e9-d8def4853b5a",
   "metadata": {
    "tags": []
   },
   "outputs": [],
   "source": [
    "step 1: normalize the loss\n",
    "step 2: calculate the grads with respect to the normalized loss\n",
    "step 3: sum the grads\n",
    "step 4: if current epoch = number of acc steps, update, otherwise, step 1"
   ]
  },
  {
   "cell_type": "code",
   "execution_count": null,
   "id": "54b7878c-97a9-4840-85eb-ad0bd5526860",
   "metadata": {},
   "outputs": [],
   "source": [
    "class VocabParallelEmbedding(nn.Module):\n",
    "    def __init__(self, num_embeddings, embedding_dim):\n",
    "        super().__init__()\n",
    "        \n",
    "        world_size = torch.distributed.get_world_size()\n",
    "        self.num_embeddings_per_partrition = num_embeddings // world_size\n",
    "        self.embedding_dim = embedding_dim\n",
    "        \n",
    "        self.weight = nn.Parameter(torch.randn(\n",
    "            self.num_embeddings_per_partrition,\n",
    "            self.embedding_dim\n",
    "        ))\n",
    "        \n",
    "        self.vocab_start_idx, self.vocab_end_idx = self.get_vocab_range(\n",
    "            self.num_embeddings_per_partrition\n",
    "        )\n",
    "        \n",
    "    def get_vocab_range(self, num_embeddings_per_partrition):\n",
    "        rank = torch.distributed.get_rank()\n",
    "        start_idx = rank*num_embeddings_per_partrition\n",
    "        end_idx = start_idx + num_embeddings_per_partrition\n",
    "        return start_idx, end_idx\n",
    "    \n",
    "    def forward(self, tokens):\n",
    "        masks = (tokens < self.vocab_start_idx) | (tokens > self.vocab_end_idx)\n",
    "        masked_tokens = tokens.clone() - self.vocab_start_idx\n",
    "        masked_tokens[masks] = 0.\n",
    "        \n",
    "        embeddings = F.embedding(masked_tokens, weight=self.weight)\n",
    "        mask_idxs = torch.where(masks==True)[1]\n",
    "        embeddings[mask_idxs] = 0.\n",
    "        \n",
    "        torch.distributed.all_reduce(embeddings)\n",
    "        \n",
    "        return embeddings"
   ]
  },
  {
   "cell_type": "code",
   "execution_count": null,
   "id": "2e7855a3-518c-40d8-afe8-6a1404d6b498",
   "metadata": {},
   "outputs": [],
   "source": [
    "W_normalized = W / W.norm(dim=-1)"
   ]
  },
  {
   "cell_type": "code",
   "execution_count": null,
   "id": "bae806f5-3269-4d89-9a48-c61e461f3cfd",
   "metadata": {},
   "outputs": [],
   "source": [
    "similarities = W_normalized @ W_normalized.T"
   ]
  },
  {
   "cell_type": "code",
   "execution_count": 3,
   "id": "a5b56b56-07d2-466d-9328-0c1ebaeaeafe",
   "metadata": {
    "tags": []
   },
   "outputs": [],
   "source": [
    "from transformer_lens.utils import get_act_name"
   ]
  },
  {
   "cell_type": "code",
   "execution_count": null,
   "id": "c1414821-b4d8-434f-a9fc-9a9fd2033f48",
   "metadata": {},
   "outputs": [],
   "source": [
    "n_layers = 3"
   ]
  },
  {
   "cell_type": "code",
   "execution_count": null,
   "id": "cf0dc2ba-00bc-4b53-bacf-00ac92fffd5d",
   "metadata": {},
   "outputs": [],
   "source": [
    "head_names = [get_act_name(\"result\", layer_idx) for layer_idx in range(n_layers)]\n",
    "mlp_names = [get_act_name(\"mlp_out\", layer_idx) for layer_idx in range(n_layers)]"
   ]
  },
  {
   "cell_type": "code",
   "execution_count": null,
   "id": "8e6119ed-38f0-406d-ab12-7390bc89855c",
   "metadata": {},
   "outputs": [],
   "source": [
    "hook_names = [\"embed\", \"pos_embed\"] + head_names + mlp_names"
   ]
  },
  {
   "cell_type": "code",
   "execution_count": null,
   "id": "2c816d41-e3e5-4995-beff-3dbb086b2f82",
   "metadata": {},
   "outputs": [],
   "source": [
    "_, cache = model.run_with_cache(\n",
    "    tokens,\n",
    "    names_filter=lambda x: x in hook_names\n",
    ")"
   ]
  },
  {
   "cell_type": "code",
   "execution_count": null,
   "id": "eaf01d76-63a9-4924-9597-3692e15551d2",
   "metadata": {},
   "outputs": [],
   "source": [
    "input_components = torch.cat([cache[\"embed\"] + cache[\"pos_embed\"]]).unsqueeze(0)"
   ]
  },
  {
   "cell_type": "code",
   "execution_count": null,
   "id": "fdfe8875-5c66-46c8-9e14-11e6f22f169d",
   "metadata": {},
   "outputs": [],
   "source": [
    "for head_name, mlp_name in zip(head_names, mlp_names):\n",
    "    input_components = torch.cat([\n",
    "        input_components,\n",
    "        cache[head_name],\n",
    "        cache[mlp_name]\n",
    "    ])"
   ]
  },
  {
   "cell_type": "code",
   "execution_count": null,
   "id": "0c2956ad-cb6d-420c-a486-9cd04c6c8f88",
   "metadata": {},
   "outputs": [],
   "source": [
    "W_U = model.W_U\n",
    "logit_diff_direction = W_U[:, 0] - W_U[:, 1]"
   ]
  },
  {
   "cell_type": "code",
   "execution_count": null,
   "id": "af15db00-b6bb-4935-862d-8e2fc2da1dca",
   "metadata": {},
   "outputs": [],
   "source": [
    "pre_ln_dir = coeffs.T @ logit_diff_direction"
   ]
  },
  {
   "cell_type": "code",
   "execution_count": 4,
   "id": "23899c00-df10-44a4-a579-f28329aacf38",
   "metadata": {
    "tags": []
   },
   "outputs": [],
   "source": [
    "from einops import einsum"
   ]
  },
  {
   "cell_type": "code",
   "execution_count": null,
   "id": "d1792db4-55d4-41e5-99ac-7c471e23013d",
   "metadata": {},
   "outputs": [],
   "source": [
    "contributions = einsum(\n",
    "    input_components,\n",
    "    pre_ln_dir\n",
    ")"
   ]
  },
  {
   "cell_type": "code",
   "execution_count": null,
   "id": "959717fc-8121-4302-87fe-8ce054be34ab",
   "metadata": {},
   "outputs": [],
   "source": [
    "step 1: rewrite probs as logit difference\n",
    "step 2: calculate the logit difference direction\n",
    "step 3: decompose the logits\n",
    "step 4: project each component to "
   ]
  },
  {
   "cell_type": "code",
   "execution_count": 5,
   "id": "830caf4f-92c8-429f-9344-5ba76c88ec2e",
   "metadata": {
    "tags": []
   },
   "outputs": [],
   "source": [
    "from circuitsvis.attention import attention_patterns"
   ]
  },
  {
   "cell_type": "code",
   "execution_count": null,
   "id": "01861275-8b35-4a56-8636-323427a34dfb",
   "metadata": {},
   "outputs": [],
   "source": [
    "_, cache = model.run_with_cache(tokens)"
   ]
  },
  {
   "cell_type": "code",
   "execution_count": null,
   "id": "df99d11c-97e5-4bbb-b669-bd08c789cd9d",
   "metadata": {},
   "outputs": [],
   "source": [
    "attn_pattern = cache[\"pattern\", 0, \"attn\"]"
   ]
  },
  {
   "cell_type": "code",
   "execution_count": null,
   "id": "f804e51a-428c-4183-991c-a614884de54a",
   "metadata": {},
   "outputs": [],
   "source": [
    "str_tokens = model.to_str_tokens(tokens)"
   ]
  },
  {
   "cell_type": "code",
   "execution_count": null,
   "id": "1eefa221-7f0c-4d6b-b868-986c9f020864",
   "metadata": {},
   "outputs": [],
   "source": [
    "attention_patterns(\n",
    "    tokens=str_tokens,\n",
    "    attention=attn_pattern\n",
    ")"
   ]
  },
  {
   "cell_type": "code",
   "execution_count": null,
   "id": "a70c25af-ca51-42d0-917a-30603b1a3347",
   "metadata": {},
   "outputs": [],
   "source": [
    "logits = model(past_moves)"
   ]
  },
  {
   "cell_type": "code",
   "execution_count": null,
   "id": "b73c8c32-7d8d-4a4f-88d7-7379796807c6",
   "metadata": {},
   "outputs": [],
   "source": [
    "log_probs = F.log_softmax(logits[:, -1, :], dim=-1)"
   ]
  },
  {
   "cell_type": "code",
   "execution_count": null,
   "id": "167d12c5-fd1a-4761-9abf-317d05a8b881",
   "metadata": {},
   "outputs": [],
   "source": [
    "board_state = torch.zeros(board_size, board_size)\n",
    "board_state[]"
   ]
  },
  {
   "cell_type": "code",
   "execution_count": null,
   "id": "67e485d8-950d-4705-abea-6710c348a652",
   "metadata": {},
   "outputs": [],
   "source": [
    "W_in = model.W_in\n",
    "input_direction = W_in[layer_idx, :, neuron_idx]"
   ]
  },
  {
   "cell_type": "code",
   "execution_count": null,
   "id": "5a25f2c7-9d88-48ae-a7e8-24ef775ddfd1",
   "metadata": {},
   "outputs": [],
   "source": [
    "W_E = model.W_E\n",
    "W_Q = model.W_Q[1, 4]\n",
    "W_K = model.W_K[1, 4]\n",
    "W_O = model.W_O[0, 7]\n",
    "W_V = model.W_V[0, 7]"
   ]
  },
  {
   "cell_type": "code",
   "execution_count": null,
   "id": "71fe2202-18d8-43be-92de-d4bbbe5f4aad",
   "metadata": {},
   "outputs": [],
   "source": [
    "Q = W_E @ W_Q\n",
    "K = W_E @ W_V @ W_O @ W_K "
   ]
  },
  {
   "cell_type": "code",
   "execution_count": null,
   "id": "79297003-9c61-4e0d-a127-efab74305175",
   "metadata": {},
   "outputs": [],
   "source": [
    "import os"
   ]
  },
  {
   "cell_type": "code",
   "execution_count": null,
   "id": "ead69283-5c0e-401d-a23e-06eb28a274ee",
   "metadata": {},
   "outputs": [],
   "source": [
    "step 1: determine number of workers\n",
    "step 2: flatten the weight\n",
    "step 3: chunking\n",
    "step 4: append empty chunk if necessary\n",
    "step 5: extract shjard\n",
    "step 5: "
   ]
  },
  {
   "cell_type": "code",
   "execution_count": 6,
   "id": "8e051c98-9ea5-4199-9545-1d9f1913e230",
   "metadata": {
    "tags": []
   },
   "outputs": [],
   "source": [
    "ranks = [0, 1, 3, 6]"
   ]
  },
  {
   "cell_type": "code",
   "execution_count": 7,
   "id": "179d5bc9-a793-4435-92b5-33c4089fa8b8",
   "metadata": {
    "tags": []
   },
   "outputs": [],
   "source": [
    "group = None"
   ]
  },
  {
   "cell_type": "code",
   "execution_count": null,
   "id": "323b6d4a-7bdb-4736-b95c-ad9f74a44d85",
   "metadata": {},
   "outputs": [],
   "source": [
    "rank = torch.distributed.get_rank()"
   ]
  },
  {
   "cell_type": "code",
   "execution_count": null,
   "id": "0d60160f-d5b2-4715-a067-441fabf8eff4",
   "metadata": {},
   "outputs": [],
   "source": [
    "if rank in ranks:\n",
    "    group = torch.distributed.new_group(ranks=ranks)"
   ]
  },
  {
   "cell_type": "code",
   "execution_count": null,
   "id": "5391329f-2f39-47d9-b319-23b77e6c3c19",
   "metadata": {},
   "outputs": [],
   "source": [
    "if group is not None:\n",
    "    torch.distributed.broadcast(x, src=0, group=group)"
   ]
  },
  {
   "cell_type": "code",
   "execution_count": null,
   "id": "52b56a46-4481-44f0-826b-3f67c2f029a7",
   "metadata": {},
   "outputs": [],
   "source": [
    "max(clock_idx+1-n_microbatches, 0)"
   ]
  },
  {
   "cell_type": "code",
   "execution_count": null,
   "id": "933abea6-1581-4b49-b02f-627040e24bb3",
   "metadata": {},
   "outputs": [],
   "source": [
    "step 1: gather\n",
    "step 2: "
   ]
  },
  {
   "cell_type": "code",
   "execution_count": null,
   "id": "2d8aad09-33c8-4c7b-9098-0e5d3126d6be",
   "metadata": {},
   "outputs": [],
   "source": []
  },
  {
   "cell_type": "code",
   "execution_count": null,
   "id": "7b6a9408-5ccc-4994-a0f1-1bbbabf6802b",
   "metadata": {},
   "outputs": [],
   "source": [
    "elastic driver, host discovery, 3 notification, torchstate"
   ]
  },
  {
   "cell_type": "code",
   "execution_count": null,
   "id": "49583b10-a0a3-4380-8353-1695eab87be4",
   "metadata": {},
   "outputs": [],
   "source": [
    "step 1: partition\n",
    "step 2: forward pass, gather, do the work, release\n",
    "step 3:  backward\n",
    "step 4: reduce-scatter\n",
    "step 5: update"
   ]
  },
  {
   "cell_type": "code",
   "execution_count": null,
   "id": "e0bab8e0-4691-4756-97ee-9a1450a63436",
   "metadata": {},
   "outputs": [],
   "source": [
    "ready, running, suceed, failed, cooldown, blacklisted"
   ]
  },
  {
   "cell_type": "code",
   "execution_count": 8,
   "id": "03208025-26a0-4d54-b1ff-886719076565",
   "metadata": {
    "tags": []
   },
   "outputs": [],
   "source": [
    "import threading"
   ]
  },
  {
   "cell_type": "code",
   "execution_count": null,
   "id": "4402bc77-bae1-434b-aecd-f44f1db0bc9a",
   "metadata": {},
   "outputs": [],
   "source": [
    "t1 = threading.Thread(target=)"
   ]
  },
  {
   "cell_type": "code",
   "execution_count": 9,
   "id": "7cfd8c5d-92a3-46bf-a764-53132f9ad1be",
   "metadata": {
    "tags": []
   },
   "outputs": [
    {
     "data": {
      "text/plain": [
       "{'e', 'h', 'l', 'o'}"
      ]
     },
     "execution_count": 9,
     "metadata": {},
     "output_type": "execute_result"
    }
   ],
   "source": [
    "{x for x in \"hello\"}"
   ]
  },
  {
   "cell_type": "code",
   "execution_count": 10,
   "id": "49bae903-9f79-42ec-887f-ff04975653fa",
   "metadata": {
    "tags": []
   },
   "outputs": [],
   "source": [
    "import threading"
   ]
  },
  {
   "cell_type": "code",
   "execution_count": null,
   "id": "6048674e-faa4-4d99-b355-6ade848d2a8e",
   "metadata": {},
   "outputs": [],
   "source": [
    "lock = threading.Lock()"
   ]
  },
  {
   "cell_type": "code",
   "execution_count": null,
   "id": "74a9ddbb-fe63-43ad-80ea-b2ce28884c23",
   "metadata": {},
   "outputs": [],
   "source": [
    "t1 = threading.Thread(target=print_numbers)"
   ]
  },
  {
   "cell_type": "code",
   "execution_count": null,
   "id": "c682ff2f-a2f4-4f62-b95e-e9917eb73ca1",
   "metadata": {},
   "outputs": [],
   "source": [
    "with lock:\n",
    "    t1.start()"
   ]
  },
  {
   "cell_type": "code",
   "execution_count": 11,
   "id": "f333e03a-e3e8-4a62-ad65-733ac1c67138",
   "metadata": {
    "tags": []
   },
   "outputs": [],
   "source": [
    "from torch.utils.data import DataLoader, random_split"
   ]
  },
  {
   "cell_type": "code",
   "execution_count": null,
   "id": "c0c4125d-3c63-4f29-937f-e9ffa0846985",
   "metadata": {},
   "outputs": [],
   "source": [
    "train_set, valid_set = random_split(dataset)"
   ]
  },
  {
   "cell_type": "code",
   "execution_count": null,
   "id": "7b5284ec-43ef-44e9-9061-4b3522142d01",
   "metadata": {},
   "outputs": [],
   "source": [
    "train_loader = DataLoader(train_set, batch_size=2)\n",
    "valid_loader = DataLoader(valid_set, batch_size=2)"
   ]
  },
  {
   "cell_type": "code",
   "execution_count": null,
   "id": "aa49d17b-c1f8-4691-82ba-df5dbcabc505",
   "metadata": {},
   "outputs": [],
   "source": [
    "W_out[i, :]"
   ]
  },
  {
   "cell_type": "code",
   "execution_count": null,
   "id": "1866b94e-ed9b-4e1c-8c76-50538bbf240c",
   "metadata": {},
   "outputs": [],
   "source": [
    "step 1: two prompts\n",
    "step 2: record the interdimate activations\n",
    "step 3: iteratively patch\n",
    "step 4: compute the logit difference"
   ]
  },
  {
   "cell_type": "code",
   "execution_count": null,
   "id": "864f16ad-e3fa-4526-ac15-a0b8c739bfd3",
   "metadata": {},
   "outputs": [],
   "source": [
    "W_E@W_Q^{1, 4}@W_K^{1, 4}@W_OV^{0, 7}@W_E"
   ]
  },
  {
   "cell_type": "code",
   "execution_count": null,
   "id": "d6a859fa-c5cc-4ea7-bd51-7cbc2c6d4dc9",
   "metadata": {},
   "outputs": [],
   "source": [
    "ReLU(x@W_in)@W_out\n",
    "\n",
    "sum of d_mlp neurons(ReLU(x@W_in[:, i]))@W_out[i, :]"
   ]
  },
  {
   "cell_type": "code",
   "execution_count": null,
   "id": "2d525cdc-621c-45a6-bf89-4d06d7725cc6",
   "metadata": {},
   "outputs": [],
   "source": [
    "W_in[:, i]"
   ]
  },
  {
   "cell_type": "code",
   "execution_count": null,
   "id": "c6a8c6e5-fbe3-4b17-9eed-d3798f419ada",
   "metadata": {},
   "outputs": [],
   "source": [
    "nn.Flatten(start_dim=2, end_dim=3)"
   ]
  },
  {
   "cell_type": "code",
   "execution_count": null,
   "id": "d08881ee-5aa5-4351-abd3-668714910f7d",
   "metadata": {},
   "outputs": [],
   "source": [
    "host discovery, 3 notif, torchstate, elastic driver"
   ]
  },
  {
   "cell_type": "code",
   "execution_count": null,
   "id": "422bdc2f-6389-4417-9a1c-910de6931517",
   "metadata": {},
   "outputs": [],
   "source": [
    "elastic driver, torchstate, 3 notif, script"
   ]
  },
  {
   "cell_type": "code",
   "execution_count": null,
   "id": "bea3595b-df5b-413c-8fd2-7084de1cbcff",
   "metadata": {},
   "outputs": [],
   "source": [
    "text_similarities = text_embeddings @ text_embedding.T\n",
    "image_similarities = image_embedding @ image_embedding.T"
   ]
  },
  {
   "cell_type": "code",
   "execution_count": null,
   "id": "5868d98a-d237-4484-8e20-5348d6fc8461",
   "metadata": {},
   "outputs": [],
   "source": [
    "targets = F.softmax(\n",
    "    (text_similarities + image_similarities) / 2,\n",
    "    dim=-1\n",
    ")"
   ]
  },
  {
   "cell_type": "code",
   "execution_count": null,
   "id": "a2f96b2d-8c9c-4b49-8adf-caaae98496da",
   "metadata": {},
   "outputs": [],
   "source": [
    "step 1: number of worker nodes\n",
    "step 2: flatten 10 * 4 = 40\n",
    "step 3: chunk\n",
    "step 4: add empty\n",
    "step 5: shard\n",
    "step 6: padd"
   ]
  },
  {
   "cell_type": "code",
   "execution_count": null,
   "id": "4a1f6ac4-78ea-48da-b0d8-1c0cbad9d950",
   "metadata": {},
   "outputs": [],
   "source": [
    "for _ in range(10):\n",
    "    action = env.action.sample()\n",
    "    env.step(action)"
   ]
  },
  {
   "cell_type": "code",
   "execution_count": 12,
   "id": "33ad48ad-9e69-4452-9359-44330ce7a916",
   "metadata": {
    "tags": []
   },
   "outputs": [],
   "source": [
    "from torch.nn.utils import clip_grad_norm_"
   ]
  },
  {
   "cell_type": "code",
   "execution_count": null,
   "id": "80205e0a-bbaa-440c-ae78-d31294119239",
   "metadata": {},
   "outputs": [],
   "source": [
    "clip_grad_norm_(param_1, max_norm=GRAD)"
   ]
  },
  {
   "cell_type": "code",
   "execution_count": null,
   "id": "1dacdaac-93e9-496e-bfcd-0b1d1e5148da",
   "metadata": {},
   "outputs": [],
   "source": [
    "loss = F.kl_div(\n",
    "    input=F.log_softmax(student_logits),\n",
    "    target=F.softmax(teacher_logits)\n",
    ")"
   ]
  }
 ],
 "metadata": {
  "kernelspec": {
   "display_name": "Python 3 (ipykernel)",
   "language": "python",
   "name": "python3"
  },
  "language_info": {
   "codemirror_mode": {
    "name": "ipython",
    "version": 3
   },
   "file_extension": ".py",
   "mimetype": "text/x-python",
   "name": "python",
   "nbconvert_exporter": "python",
   "pygments_lexer": "ipython3",
   "version": "3.8.16"
  }
 },
 "nbformat": 4,
 "nbformat_minor": 5
}
