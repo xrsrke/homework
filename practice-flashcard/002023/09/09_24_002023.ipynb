{
 "cells": [
  {
   "cell_type": "markdown",
   "id": "30b43ac3-6ef0-4e66-bde3-4f50423c2814",
   "metadata": {},
   "source": [
    "### Engineering"
   ]
  },
  {
   "cell_type": "code",
   "execution_count": 1,
   "id": "3486af4a-55a6-4362-a3e7-5c5dca0c5127",
   "metadata": {
    "tags": []
   },
   "outputs": [],
   "source": [
    "n_microbatches = 4"
   ]
  },
  {
   "cell_type": "code",
   "execution_count": 2,
   "id": "a2c5043b-b9aa-45a7-bba9-fec5113d37f9",
   "metadata": {
    "tags": []
   },
   "outputs": [],
   "source": [
    "n_partitions = 3"
   ]
  },
  {
   "cell_type": "code",
   "execution_count": 4,
   "id": "35288ba3-172d-4be9-ae1a-9baf3123191f",
   "metadata": {
    "tags": []
   },
   "outputs": [],
   "source": [
    "n_clock_cycles = n_microbatches + n_partitions - 1"
   ]
  },
  {
   "cell_type": "code",
   "execution_count": 6,
   "id": "2a6a8040-17e9-48cc-8fff-4d1cef48d437",
   "metadata": {
    "tags": []
   },
   "outputs": [
    {
     "name": "stdout",
     "output_type": "stream",
     "text": [
      "[(0, 0)]\n",
      "[(1, 0), (0, 1)]\n",
      "[(2, 0), (1, 1), (0, 2)]\n",
      "[(3, 0), (2, 1), (1, 2)]\n",
      "[(3, 1), (2, 2)]\n",
      "[(3, 2)]\n"
     ]
    }
   ],
   "source": [
    "for clock_idx in range(n_clock_cycles):\n",
    "    start_partition = max(clock_idx+1-n_microbatches, 0)\n",
    "    end_partition = min(clock_idx+1, n_partitions)\n",
    "    \n",
    "    tasks = []\n",
    "    for partition_idx in range(start_partition, end_partition):\n",
    "        microbatch_idx = clock_idx-partition_idx\n",
    "        tasks.append((microbatch_idx, partition_idx))\n",
    "    print(tasks)"
   ]
  },
  {
   "cell_type": "code",
   "execution_count": null,
   "id": "a90b3ccd-9622-42fa-be3a-c1bc4a767ff2",
   "metadata": {},
   "outputs": [],
   "source": [
    "clean_tokens = model.to_tokens(clean_prompts)"
   ]
  },
  {
   "cell_type": "code",
   "execution_count": null,
   "id": "2941690f-9802-49ef-9066-8350234d3711",
   "metadata": {},
   "outputs": [],
   "source": [
    "corrupted_cache"
   ]
  },
  {
   "cell_type": "code",
   "execution_count": null,
   "id": "640db76f-396a-45eb-b42d-cae7e1d74ae6",
   "metadata": {},
   "outputs": [],
   "source": [
    "for group in optimizer.param_groups:\n",
    "    for p in groups[\"params\"]:\n",
    "        print(p.shape)"
   ]
  },
  {
   "cell_type": "code",
   "execution_count": null,
   "id": "8f120cd0-c53f-467d-8a21-ef87977c8a57",
   "metadata": {},
   "outputs": [],
   "source": [
    "W_U = model.W_U"
   ]
  },
  {
   "cell_type": "code",
   "execution_count": null,
   "id": "194a8707-76d5-46e1-b815-d7dd5407bbf0",
   "metadata": {},
   "outputs": [],
   "source": [
    "logit_diff_dir = W_U[:, 0] - W_U[:, 1]"
   ]
  },
  {
   "cell_type": "code",
   "execution_count": null,
   "id": "2c8e2b62-80bf-49e3-b001-bb668cfe0b35",
   "metadata": {},
   "outputs": [],
   "source": [
    "clean_tokens = model.to_tokens(clean_prompt)\n",
    "corrupted_tokens = model.to_tokens(corrupted_prompt)"
   ]
  },
  {
   "cell_type": "code",
   "execution_count": null,
   "id": "242a5e4d-e6d3-4cce-bb40-9d1fa6e28980",
   "metadata": {},
   "outputs": [],
   "source": [
    "correct_token = model.to_tokens(\"John\", prepend_bos=False)\n",
    "incorrect_token = model.to_tokens(\"Mary\", prepend_bos=False)"
   ]
  },
  {
   "cell_type": "code",
   "execution_count": null,
   "id": "e14e14d3-6213-4f0d-8b05-e5048ff58a4c",
   "metadata": {},
   "outputs": [],
   "source": [
    "seq_len = clean_tokens.shape[-1]"
   ]
  },
  {
   "cell_type": "code",
   "execution_count": null,
   "id": "c996c222-f888-47c8-b7d1-8c7c1495a117",
   "metadata": {},
   "outputs": [],
   "source": [
    "_, clean_cache = model.run_with_cache(clean_tokens)\n",
    "_, corrupted_cache = model.run_with_cache(corrupted_tokens)"
   ]
  },
  {
   "cell_type": "code",
   "execution_count": 7,
   "id": "698c3a41-1056-48a4-8d91-ab53411bfe05",
   "metadata": {
    "tags": []
   },
   "outputs": [],
   "source": [
    "def patch_resid_pre(resid, hook, corrupted_cache, position_idx):\n",
    "    resid[:, position_idx] = corrupted_cache[hook.name][:, position]\n",
    "    return resid"
   ]
  },
  {
   "cell_type": "code",
   "execution_count": 8,
   "id": "5f7c43b2-5a19-4cf0-8cfb-c5904d719ce5",
   "metadata": {
    "tags": []
   },
   "outputs": [],
   "source": [
    "def compute_logit_diff(logits, correct_token, incorrect_token):\n",
    "    final_logit = logits[:, -1, :]\n",
    "    return final_logits[:, correct_token] - final_logits[:, incorrect_token]"
   ]
  },
  {
   "cell_type": "code",
   "execution_count": null,
   "id": "e3c497af-a826-45a1-a78f-45bedac49062",
   "metadata": {},
   "outputs": [],
   "source": [
    "for layer_idx in range(n_layers):\n",
    "    for position_idx in range(seq_len):\n",
    "        _, cache = model.run_with_cache(clean_tokens, position)"
   ]
  },
  {
   "cell_type": "code",
   "execution_count": 9,
   "id": "5fc09a8c-4f37-4d68-90dc-26280be6b957",
   "metadata": {
    "tags": []
   },
   "outputs": [
    {
     "name": "stdout",
     "output_type": "stream",
     "text": [
      "{(0, 0): False, (0, 1): False, (0, 2): False}\n"
     ]
    }
   ],
   "source": [
    "n_ranks = 3\n",
    "d = {}\n",
    "for i in range(n_ranks):\n",
    "    d[(0, i)] = False\n",
    "\n",
    "print(d)"
   ]
  },
  {
   "cell_type": "code",
   "execution_count": 1,
   "id": "c8532966-30bb-4e1b-964b-d77682dd807a",
   "metadata": {},
   "outputs": [],
   "source": [
    "import torch"
   ]
  },
  {
   "cell_type": "code",
   "execution_count": 4,
   "id": "82d38a0f-3316-44e2-94ae-76b4c5916298",
   "metadata": {
    "tags": []
   },
   "outputs": [],
   "source": [
    "x = torch.tensor([2, 3])"
   ]
  },
  {
   "cell_type": "code",
   "execution_count": 5,
   "id": "77674068-705e-4ff8-8b0c-f514ebba81f4",
   "metadata": {
    "tags": []
   },
   "outputs": [
    {
     "data": {
      "text/plain": [
       "(tensor(2), tensor(3))"
      ]
     },
     "execution_count": 5,
     "metadata": {},
     "output_type": "execute_result"
    }
   ],
   "source": [
    "torch.unbind(x)"
   ]
  },
  {
   "cell_type": "code",
   "execution_count": 7,
   "id": "7bfca2e6-1237-49f6-84e8-95b3fc6a016e",
   "metadata": {
    "tags": []
   },
   "outputs": [
    {
     "data": {
      "text/plain": [
       "1"
      ]
     },
     "execution_count": 7,
     "metadata": {},
     "output_type": "execute_result"
    }
   ],
   "source": [
    "torch.tensor(1).item()"
   ]
  },
  {
   "cell_type": "code",
   "execution_count": 8,
   "id": "dd3c2b77-21bc-4952-a68d-11d295d4fa60",
   "metadata": {},
   "outputs": [],
   "source": [
    "import torch\n",
    "from torch import nn\n",
    "import torch.distributed as dist\n",
    "import torch.distributed.rpc as rpc"
   ]
  },
  {
   "cell_type": "code",
   "execution_count": 9,
   "id": "a988c413-69a9-451c-ad91-34803fb1a654",
   "metadata": {
    "tags": []
   },
   "outputs": [],
   "source": [
    "fut = torch.futures.Future()"
   ]
  },
  {
   "cell_type": "code",
   "execution_count": 11,
   "id": "e8927061-a042-4ea4-96e5-b958920723cd",
   "metadata": {
    "tags": []
   },
   "outputs": [],
   "source": [
    "def print_x(x):\n",
    "    print(69420)"
   ]
  },
  {
   "cell_type": "code",
   "execution_count": 12,
   "id": "603b327d-75df-4fad-a288-5030a946e490",
   "metadata": {
    "tags": []
   },
   "outputs": [],
   "source": [
    "fut.add_done_callback(print_x)"
   ]
  },
  {
   "cell_type": "code",
   "execution_count": 13,
   "id": "9980b3ca-b98d-43b8-8182-b6b25ff5126b",
   "metadata": {
    "tags": []
   },
   "outputs": [
    {
     "name": "stdout",
     "output_type": "stream",
     "text": [
      "69420\n"
     ]
    }
   ],
   "source": [
    "fut.set_result(69)"
   ]
  },
  {
   "cell_type": "code",
   "execution_count": null,
   "id": "9fb65367-a022-4d74-a2a2-fe85b2b2e6c2",
   "metadata": {},
   "outputs": [],
   "source": [
    "int *h_a, *h_b, *h_c;"
   ]
  },
  {
   "cell_type": "code",
   "execution_count": null,
   "id": "24e5e648-ec16-4005-877f-8977cbedfd27",
   "metadata": {},
   "outputs": [],
   "source": [
    "size_t bytes = sizeof(int)*n;"
   ]
  },
  {
   "cell_type": "code",
   "execution_count": null,
   "id": "f59d9993-045d-4dc3-b765-f61bba65c0e8",
   "metadata": {},
   "outputs": [],
   "source": [
    "h_a = (int*)malloc(bytes);\n",
    "h_b = (int*)malloc(bytes);\n",
    "h_c = (int*)malloc(bytes);"
   ]
  },
  {
   "cell_type": "code",
   "execution_count": 18,
   "id": "ddcce5e7-3610-47d0-a5b4-33a53dac235d",
   "metadata": {
    "tags": []
   },
   "outputs": [],
   "source": [
    "def send_package(package, src, dst, parallel_context):\n",
    "    rank = parallel_context.get_global_rank()\n",
    "    if rank == src:\n",
    "        worker_name = parallel_context.get_worker_name(dst)\n",
    "        rpc.rpc_sync(\n",
    "            to=worker_name,\n",
    "            func=_recv_package,\n",
    "            args=(package,)\n",
    "        )"
   ]
  },
  {
   "cell_type": "code",
   "execution_count": 17,
   "id": "d572ec1f-f2f2-40bf-a452-d0bf8c9f1ed6",
   "metadata": {
    "tags": []
   },
   "outputs": [],
   "source": [
    "def _recv_package(package):\n",
    "    RECV_QUEUE.put(package)"
   ]
  },
  {
   "cell_type": "code",
   "execution_count": null,
   "id": "61ce2fd8-826c-483d-af7c-8bc09f566969",
   "metadata": {},
   "outputs": [],
   "source": [
    "start = torch.cuda.Event()\n",
    "end = torch.cuda.Event()"
   ]
  },
  {
   "cell_type": "code",
   "execution_count": null,
   "id": "bd99d728-b673-4f0a-9170-b0af6fd90f67",
   "metadata": {},
   "outputs": [],
   "source": [
    "start.record()\n",
    "\n",
    "hardshit()\n",
    "\n",
    "end.record()"
   ]
  },
  {
   "cell_type": "code",
   "execution_count": null,
   "id": "4bffcb37-cff1-4650-a465-d0529981685d",
   "metadata": {},
   "outputs": [],
   "source": [
    "message passing, collective communication, p2p"
   ]
  },
  {
   "cell_type": "code",
   "execution_count": null,
   "id": "233621c9-a0a9-4b71-8902-9ccd30891a55",
   "metadata": {},
   "outputs": [],
   "source": [
    "work_handle = dist.broadcast(x, src=0, async_op=True)"
   ]
  },
  {
   "cell_type": "code",
   "execution_count": null,
   "id": "3e4eda62-39d2-47b4-a9c6-d1dbc5c7c670",
   "metadata": {},
   "outputs": [],
   "source": [
    "work_handle.wait()"
   ]
  },
  {
   "cell_type": "code",
   "execution_count": null,
   "id": "7dee7ff3-a9ff-41a1-a0aa-d316e24192c2",
   "metadata": {},
   "outputs": [],
   "source": [
    "host discovery, elastic driver, n3 notification, torchstate"
   ]
  },
  {
   "cell_type": "code",
   "execution_count": 21,
   "id": "996116cb-f5ed-4ad8-a49b-f25dee7cabdc",
   "metadata": {
    "tags": []
   },
   "outputs": [],
   "source": [
    "n_microbatches = 4\n",
    "n_partitions = 3"
   ]
  },
  {
   "cell_type": "code",
   "execution_count": 22,
   "id": "8e92d6a5-f3bd-449a-99a5-5e6bc62483df",
   "metadata": {
    "tags": []
   },
   "outputs": [],
   "source": [
    "n_clock_cycles = n_microbatches + n_partitions - 1"
   ]
  },
  {
   "cell_type": "code",
   "execution_count": 24,
   "id": "68c4760f-0c3f-41d6-8b46-a34ffec75b75",
   "metadata": {
    "tags": []
   },
   "outputs": [
    {
     "name": "stdout",
     "output_type": "stream",
     "text": [
      "[(0, 0)]\n",
      "[(1, 0), (0, 1)]\n",
      "[(2, 0), (1, 1), (0, 2)]\n",
      "[(3, 0), (2, 1), (1, 2)]\n",
      "[(3, 1), (2, 2)]\n",
      "[(3, 2)]\n"
     ]
    }
   ],
   "source": [
    "for clock_idx in range(n_clock_cycles):\n",
    "    start_partition = max(clock_idx+1-n_microbatches, 0)\n",
    "    end_partition = min(clock_idx+1, n_partitions)\n",
    "    \n",
    "    tasks = []\n",
    "    for partition_idx in range(start_partition, end_partition):\n",
    "        microbatch_idx = clock_idx-partition_idx\n",
    "        tasks.append((microbatch_idx, partition_idx))\n",
    "    print(tasks)"
   ]
  },
  {
   "cell_type": "code",
   "execution_count": null,
   "id": "6f584216-f4a2-4a0c-a564-ed384c697331",
   "metadata": {},
   "outputs": [],
   "source": [
    "class TensorParallelGroupInitializer(ProcessGroupInitializer):\n",
    "    def init_dist_group(self):\n",
    "        num_tensor_parallel_groups = self.world_size // self.tensor_parallel_size\n",
    "        local_rank = None\n",
    "        process_group = None\n",
    "        local_world_size = None\n",
    "        \n",
    "        for i in range(num_tensor_parallel_groups):\n",
    "            ranks = list(range(\n",
    "                i*tensor_parallel_size,\n",
    "                (i+1)*tensor_parallel_size,\n",
    "                tensor_parallel_size\n",
    "            ))\n",
    "            process_group = dist.new_group(ranks=ranks)\n",
    "            \n",
    "            if self.rank in ranks:\n",
    "                local_rank = ranks.index(self.rank)\n",
    "                local_world_size = len(ranks)"
   ]
  },
  {
   "cell_type": "code",
   "execution_count": null,
   "id": "5ed79b66-ae1c-437f-a46e-f35e0e98d11f",
   "metadata": {},
   "outputs": [],
   "source": [
    "step 1: mask\n",
    "step 2: local embedding\n",
    "step 3: reduce"
   ]
  },
  {
   "cell_type": "code",
   "execution_count": null,
   "id": "21ebb6e3-62ac-4cd0-a240-4fc2dc4d6fde",
   "metadata": {},
   "outputs": [],
   "source": [
    "mine_dir = linear_probe[:, 5, 4, 1]\n",
    "theirs_dir = linear_probe[:, 5, 4, 2]"
   ]
  },
  {
   "cell_type": "code",
   "execution_count": null,
   "id": "a72903a8-d7b4-45b8-904f-e2ef93452dfe",
   "metadata": {},
   "outputs": [],
   "source": [
    "mine_vs_theirs_dir = mine_dir - theirs_dir"
   ]
  },
  {
   "cell_type": "code",
   "execution_count": null,
   "id": "5bdb9aac-8ca7-46d4-9de9-7c796c052e8a",
   "metadata": {},
   "outputs": [],
   "source": [
    "step 1: prob[0] = sigmoid(logit0 - logit1)\n",
    "step 2: logit0 = resid2[0] @ W_U[0], logit1 = resid2[0] @ W_U[1]\n",
    "step 3: logit0 - logit1 = resid2[0] @ (W_U[0] - W_U[1])\n",
    "step 4: resid2[0] = resid1[1] @ ln2 @ W_OV^{2, 0}"
   ]
  },
  {
   "cell_type": "code",
   "execution_count": null,
   "id": "a138f8c8-0a1d-434a-b10b-37fda19c73fe",
   "metadata": {},
   "outputs": [],
   "source": [
    "elastic driver, host discovery, 3 notification, "
   ]
  },
  {
   "cell_type": "code",
   "execution_count": null,
   "id": "c1239b60-f1ba-4d90-8181-a0ff884790a1",
   "metadata": {},
   "outputs": [],
   "source": [
    "work_handler = dist.broadcast(x, src=0, async_op=True)"
   ]
  },
  {
   "cell_type": "code",
   "execution_count": null,
   "id": "61408858-81b8-4cc3-a730-4b96573185cb",
   "metadata": {},
   "outputs": [],
   "source": [
    "work_handler.wait()"
   ]
  },
  {
   "cell_type": "code",
   "execution_count": 11,
   "id": "5ace18a7-c2b4-45d7-8c56-c779898d2e87",
   "metadata": {
    "tags": []
   },
   "outputs": [],
   "source": [
    "data_parallel_size = 2\n",
    "tensor_parallel_size = 2\n",
    "pipeline_parallel_size = 4"
   ]
  },
  {
   "cell_type": "code",
   "execution_count": 12,
   "id": "22ebc30b-273a-4f37-8dc2-03330591f5dc",
   "metadata": {
    "tags": []
   },
   "outputs": [],
   "source": [
    "world_size = tensor_parallel_size * pipeline_parallel_size * data_parallel_size"
   ]
  },
  {
   "cell_type": "code",
   "execution_count": 13,
   "id": "667edfb7-d898-42c1-8d23-cfb332153fbe",
   "metadata": {
    "tags": []
   },
   "outputs": [],
   "source": [
    "num_tensor_parallel_groups = world_size // tensor_parallel_size"
   ]
  },
  {
   "cell_type": "code",
   "execution_count": 14,
   "id": "4959a3ac-c075-4919-995e-b47ba8abdcfa",
   "metadata": {
    "tags": []
   },
   "outputs": [
    {
     "name": "stdout",
     "output_type": "stream",
     "text": [
      "[0, 1]\n",
      "[2, 3]\n",
      "[4, 5]\n",
      "[6, 7]\n",
      "[8, 9]\n",
      "[10, 11]\n",
      "[12, 13]\n",
      "[14, 15]\n"
     ]
    }
   ],
   "source": [
    "for i in range(num_tensor_parallel_groups):\n",
    "    ranks = list(range(i * tensor_parallel_size, (i + 1) * tensor_parallel_size))\n",
    "    print(ranks)"
   ]
  },
  {
   "cell_type": "code",
   "execution_count": 15,
   "id": "da5909b0-daa5-4ef8-b785-ec831e847170",
   "metadata": {
    "tags": []
   },
   "outputs": [],
   "source": [
    "num_pipeline_parallel_groups = world_size // pipeline_parallel_size"
   ]
  },
  {
   "cell_type": "code",
   "execution_count": 16,
   "id": "cee73390-5f35-430a-83fe-a9697f67f854",
   "metadata": {
    "tags": []
   },
   "outputs": [
    {
     "name": "stdout",
     "output_type": "stream",
     "text": [
      "[0, 4, 8, 12]\n",
      "[1, 5, 9, 13]\n",
      "[2, 6, 10, 14]\n",
      "[3, 7, 11, 15]\n"
     ]
    }
   ],
   "source": [
    "for i in range(num_pipeline_parallel_groups):\n",
    "    ranks = list(range(i, world_size, num_pipeline_parallel_groups))\n",
    "    print(ranks)"
   ]
  },
  {
   "cell_type": "code",
   "execution_count": 17,
   "id": "dfff8331-7e4a-4044-a8fa-702b702459c6",
   "metadata": {
    "tags": []
   },
   "outputs": [],
   "source": [
    "n_partitions = 3\n",
    "n_microbatches = 4"
   ]
  },
  {
   "cell_type": "code",
   "execution_count": 19,
   "id": "1a8aadfc-bcfd-4848-8e85-083fd882b53d",
   "metadata": {
    "tags": []
   },
   "outputs": [],
   "source": [
    "n_clock_cycles = n_partitions + n_microbatches - 1\n",
    "\n",
    "schedules = []\n",
    "for clock_idx in range(n_clock_cycles):\n",
    "    start_partrition = max(clock_idx + 1 - n_microbatches, 0)\n",
    "    end_partition = min(clock_idx + 1, n_partitions)\n",
    "\n",
    "    tasks = []\n",
    "    for partition_idx in range(start_partrition, end_partition):\n",
    "        microbatch_idx = clock_idx - partition_idx\n",
    "        tasks.append((microbatch_idx, partition_idx))\n",
    "\n",
    "    schedules.append(tasks)"
   ]
  },
  {
   "cell_type": "code",
   "execution_count": 32,
   "id": "62d18747-3113-4b0e-9ad9-fe569b2e6aae",
   "metadata": {
    "tags": []
   },
   "outputs": [
    {
     "data": {
      "text/plain": [
       "[[(0, 0)],\n",
       " [(1, 0), (0, 1)],\n",
       " [(2, 0), (1, 1), (0, 2)],\n",
       " [(3, 0), (2, 1), (1, 2)],\n",
       " [(3, 1), (2, 2)],\n",
       " [(3, 2)]]"
      ]
     },
     "execution_count": 32,
     "metadata": {},
     "output_type": "execute_result"
    }
   ],
   "source": [
    "schedules"
   ]
  },
  {
   "cell_type": "code",
   "execution_count": 33,
   "id": "008dc080-6294-4e0f-8061-88857867d53b",
   "metadata": {
    "tags": []
   },
   "outputs": [],
   "source": [
    "def array_to_dict(array):\n",
    "    return [[{tuple_item: False} for tuple_item in list_item] for list_item in array]"
   ]
  },
  {
   "cell_type": "code",
   "execution_count": 34,
   "id": "2b3d97a5-db1f-48bb-bb65-496b6895142d",
   "metadata": {
    "tags": []
   },
   "outputs": [],
   "source": [
    "progress = array_to_dict(schedules)"
   ]
  },
  {
   "cell_type": "code",
   "execution_count": 36,
   "id": "eb8450af-65d5-4c67-9c95-c615dd125547",
   "metadata": {
    "tags": []
   },
   "outputs": [
    {
     "data": {
      "text/plain": [
       "[[{(0, 0): False}],\n",
       " [{(1, 0): False}, {(0, 1): False}],\n",
       " [{(2, 0): False}, {(1, 1): False}, {(0, 2): False}],\n",
       " [{(3, 0): False}, {(2, 1): False}, {(1, 2): False}],\n",
       " [{(3, 1): False}, {(2, 2): False}],\n",
       " [{(3, 2): False}]]"
      ]
     },
     "execution_count": 36,
     "metadata": {},
     "output_type": "execute_result"
    }
   ],
   "source": [
    "progress"
   ]
  },
  {
   "cell_type": "code",
   "execution_count": 35,
   "id": "15525893-23fa-4eb0-b7b9-b52b529ba37e",
   "metadata": {
    "tags": []
   },
   "outputs": [
    {
     "data": {
      "text/plain": [
       "[{(1, 0): False}, {(0, 1): False}]"
      ]
     },
     "execution_count": 35,
     "metadata": {},
     "output_type": "execute_result"
    }
   ],
   "source": [
    "progress[1]"
   ]
  },
  {
   "cell_type": "code",
   "execution_count": 37,
   "id": "bf486bff-a990-4cf5-8a58-f7ce312d5171",
   "metadata": {
    "tags": []
   },
   "outputs": [],
   "source": [
    "def array_to_dict(array):\n",
    "    return {i: {item: False for item in sublist} for i, sublist in enumerate(array)}"
   ]
  },
  {
   "cell_type": "code",
   "execution_count": 42,
   "id": "de46ab01-1681-4a24-b0eb-570388bc4fb3",
   "metadata": {
    "tags": []
   },
   "outputs": [],
   "source": [
    "progress = array_to_dict(schedules)"
   ]
  },
  {
   "cell_type": "code",
   "execution_count": 48,
   "id": "c81c60f0-031d-4e27-9c84-76b237305500",
   "metadata": {
    "tags": []
   },
   "outputs": [
    {
     "data": {
      "text/plain": [
       "False"
      ]
     },
     "execution_count": 48,
     "metadata": {},
     "output_type": "execute_result"
    }
   ],
   "source": [
    "progress[2][(1, 1)]"
   ]
  },
  {
   "cell_type": "code",
   "execution_count": null,
   "id": "13be451c-194b-42d8-b554-d2993c7fbbf8",
   "metadata": {},
   "outputs": [],
   "source": [
    "torchstate, host discovery, elastic driver, 3 notification"
   ]
  },
  {
   "cell_type": "code",
   "execution_count": null,
   "id": "10c6370a-3efe-4647-af68-ee1836fa7798",
   "metadata": {},
   "outputs": [],
   "source": [
    "_, cache = model.run_with_cache(tokens)"
   ]
  },
  {
   "cell_type": "code",
   "execution_count": null,
   "id": "f88c34ea-583e-44d5-8880-74178310641b",
   "metadata": {},
   "outputs": [],
   "source": [
    "_, cache = model.run_with_cache(\n",
    "    tokens,\n",
    "    names_filter=lambda x: x in all_hook_names\n",
    ")"
   ]
  },
  {
   "cell_type": "code",
   "execution_count": null,
   "id": "a6a36f50-da01-491e-86dd-008bb4f4e37a",
   "metadata": {},
   "outputs": [],
   "source": [
    "W_U = model.W_U\n",
    "ln_dir = W_U[:, 0] - W_U[:, 1]\n",
    "pre_final_ln_dir = "
   ]
  },
  {
   "cell_type": "code",
   "execution_count": null,
   "id": "7c30f7e7-ea9f-4403-9e50-8d327ddd8bd3",
   "metadata": {},
   "outputs": [],
   "source": [
    "database, edge, service, architecture"
   ]
  },
  {
   "cell_type": "code",
   "execution_count": null,
   "id": "712c6a0f-7e0c-4c71-ad1d-a1ec74a288d1",
   "metadata": {},
   "outputs": [],
   "source": []
  }
 ],
 "metadata": {
  "kernelspec": {
   "display_name": "Python 3 (ipykernel)",
   "language": "python",
   "name": "python3"
  },
  "language_info": {
   "codemirror_mode": {
    "name": "ipython",
    "version": 3
   },
   "file_extension": ".py",
   "mimetype": "text/x-python",
   "name": "python",
   "nbconvert_exporter": "python",
   "pygments_lexer": "ipython3",
   "version": "3.8.16"
  }
 },
 "nbformat": 4,
 "nbformat_minor": 5
}
