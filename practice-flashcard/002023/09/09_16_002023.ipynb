{
 "cells": [
  {
   "cell_type": "markdown",
   "id": "575731ec-0f27-4150-a49c-d2595ac4e28a",
   "metadata": {},
   "source": [
    "### Engineering"
   ]
  },
  {
   "cell_type": "code",
   "execution_count": 1,
   "id": "b4564b05-fac0-42fd-89c2-20f643f69167",
   "metadata": {
    "tags": []
   },
   "outputs": [],
   "source": [
    "import torch\n",
    "from torch import nn\n",
    "import torch.nn.functional as F"
   ]
  },
  {
   "cell_type": "code",
   "execution_count": 2,
   "id": "bae1b2bf-851e-4ea5-87a5-778fac231503",
   "metadata": {
    "tags": []
   },
   "outputs": [],
   "source": [
    "import torch.distributed as dist\n",
    "import torch.distributed.rpc as rpc"
   ]
  },
  {
   "cell_type": "code",
   "execution_count": 3,
   "id": "a53e3b1a-d18b-4335-b7e8-dc08b551c455",
   "metadata": {
    "tags": []
   },
   "outputs": [],
   "source": [
    "class ParallelContext:\n",
    "    def init_rpc_worker(self, host, port):\n",
    "        if self.pipeline_parallel_size > 1:\n",
    "            rank = self.get_local_rank(ParallelMode.GLOBAL)\n",
    "            world_size = self.get_world_size(ParallelMode.GLOBAL)\n",
    "            \n",
    "            init_method = f\"rpc://{host}:{port}\"\n",
    "            options = rpc.RpcBackendOptions(\n",
    "                init_method=init_method\n",
    "            )\n",
    "            \n",
    "            if torch.cuda.is_available():\n",
    "                ranks = self.get_ranks_in_group(ParallelMode.GLOBAL)\n",
    "                \n",
    "                worker_mapping = {\n",
    "                    rank: WORKER_NAME.format(rank)\n",
    "                    for rank in ranks\n",
    "                }\n",
    "                \n",
    "                for other in ranks:\n",
    "                    if rank == other:\n",
    "                        continue\n",
    "                    options.set_device_map(worker_mapping[other], {rank: other})\n",
    "            \n",
    "            rpc.init_rpc_worker(\n",
    "                name=WORKER_NAME.format(rank),\n",
    "                rank=rank,\n",
    "                world_size=world_size,\n",
    "                options=options\n",
    "            )"
   ]
  },
  {
   "cell_type": "code",
   "execution_count": null,
   "id": "78e38ecd-d063-475e-93f8-2a68d253d02b",
   "metadata": {},
   "outputs": [],
   "source": [
    "for group in groups:\n",
    "    dist.barrier()\n",
    "    dist.destroy_process_group(group=group)"
   ]
  },
  {
   "cell_type": "code",
   "execution_count": null,
   "id": "7ead4f24-ce1b-4322-afa5-f92f566a03aa",
   "metadata": {},
   "outputs": [],
   "source": [
    "mine_dir = linear_probe[.., 2]\n",
    "theirs_dir = linear_probe[..., 1]"
   ]
  },
  {
   "cell_type": "code",
   "execution_count": null,
   "id": "70bb2532-575c-47a3-8a21-57b0cf163f04",
   "metadata": {},
   "outputs": [],
   "source": [
    "mine_vs_theirs = mine_dir - theirs_dir"
   ]
  },
  {
   "cell_type": "code",
   "execution_count": null,
   "id": "bdd5ca37-12d8-48f6-b138-7516f617bf11",
   "metadata": {},
   "outputs": [],
   "source": [
    "_, cache = model.run_with_cache(board_history)"
   ]
  },
  {
   "cell_type": "code",
   "execution_count": 4,
   "id": "20fa14a2-2139-4870-8d8b-e4ad647ee0d5",
   "metadata": {
    "tags": []
   },
   "outputs": [],
   "source": [
    "from transformer_lens.utils import get_act_name"
   ]
  },
  {
   "cell_type": "code",
   "execution_count": 6,
   "id": "aadf1987-7d4c-4b42-ac27-03a5309287c9",
   "metadata": {
    "tags": []
   },
   "outputs": [],
   "source": [
    "hook_name = get_act_name(\"attn_out\", 6)"
   ]
  },
  {
   "cell_type": "code",
   "execution_count": null,
   "id": "43191267-09e7-4a02-9ec3-6fc83d0393aa",
   "metadata": {},
   "outputs": [],
   "source": [
    "pattern = cache[hook_name][2, 20, :]"
   ]
  },
  {
   "cell_type": "code",
   "execution_count": 7,
   "id": "3c9180c2-fb33-4e91-b79e-4292994cb51f",
   "metadata": {
    "tags": []
   },
   "outputs": [],
   "source": [
    "from einops import einsum"
   ]
  },
  {
   "cell_type": "code",
   "execution_count": null,
   "id": "1075db41-05e1-49e2-a0a0-e39f925fdee5",
   "metadata": {},
   "outputs": [],
   "source": [
    "einsum(pattern, mine_vs_theirs)"
   ]
  },
  {
   "cell_type": "code",
   "execution_count": null,
   "id": "10d7357b-a603-4105-9c7b-7a838273c91f",
   "metadata": {},
   "outputs": [],
   "source": [
    "step 1: prediction position\n",
    "step 2: head\n",
    "step 3: attn pattern\n",
    "step 4: important component\n",
    "step 5: path patching\n",
    "step 6: repeat"
   ]
  },
  {
   "cell_type": "code",
   "execution_count": null,
   "id": "0c733dba-2d13-4865-b78e-1a7098bc091b",
   "metadata": {},
   "outputs": [],
   "source": [
    "monitor\n",
    "reassign worker\n"
   ]
  },
  {
   "cell_type": "code",
   "execution_count": 8,
   "id": "f59812eb-aa10-4670-9960-67083d28418f",
   "metadata": {
    "tags": []
   },
   "outputs": [],
   "source": [
    "from torch.distributed.rpc import RRef"
   ]
  },
  {
   "cell_type": "code",
   "execution_count": null,
   "id": "e00f9c9b-8dca-4a0d-a207-54e48df8bc68",
   "metadata": {},
   "outputs": [],
   "source": [
    "class Agent:\n",
    "    def __init__(self):\n",
    "        self.id = RRef(self)"
   ]
  },
  {
   "cell_type": "code",
   "execution_count": 9,
   "id": "4ee0790f-16f2-43ce-abaf-d6fa609f53a2",
   "metadata": {
    "tags": []
   },
   "outputs": [],
   "source": [
    "from einops import rearrange"
   ]
  },
  {
   "cell_type": "code",
   "execution_count": null,
   "id": "2d59a05c-d772-4f35-a1b6-abf559a96a40",
   "metadata": {},
   "outputs": [],
   "source": [
    "def compute_loss(model, xb, yb):\n",
    "    logits = model(xb)\n",
    "    logits = rearrange(\n",
    "        logits,\n",
    "        \"batch_size seq_len vocab_size -> (batch_size seq_len) vocab_size\"\n",
    "    )\n",
    "    yb = rearrange(\n",
    "        yb,\n",
    "        \"batch_size seq_len -> (batch_size seq_len)\"\n",
    "    )\n",
    "    loss = F.cross_entropy(logits, yb)"
   ]
  },
  {
   "cell_type": "code",
   "execution_count": 10,
   "id": "e2a42f9c-8351-433d-b46f-dda1634ef2b6",
   "metadata": {
    "tags": []
   },
   "outputs": [],
   "source": [
    "def calculate_discounted_return_each_timestep(rewards, discount_factor):\n",
    "    discounted_returns = []\n",
    "    \n",
    "    for i in range(len(rewards)):\n",
    "        discounted_return = 0\n",
    "        \n",
    "        for k, reward in enumerate(rewards[i:]):\n",
    "            discounted_return += (discount_factor**k)*reward\n",
    "        \n",
    "        discounted_returns.append(discounted_return)\n",
    "    \n",
    "    return discounted_returns"
   ]
  },
  {
   "cell_type": "code",
   "execution_count": 11,
   "id": "7b99e351-06b1-461e-9cbe-7c015b538911",
   "metadata": {
    "tags": []
   },
   "outputs": [],
   "source": [
    "rewards = torch.tensor([1, 2, 3, 4, 5])"
   ]
  },
  {
   "cell_type": "code",
   "execution_count": 12,
   "id": "b5a17128-8bb3-46b2-876c-ff93fa5f9a43",
   "metadata": {
    "tags": []
   },
   "outputs": [
    {
     "data": {
      "text/plain": [
       "[tensor(14.6045), tensor(13.7419), tensor(11.8605), tensor(8.9500), tensor(5.)]"
      ]
     },
     "execution_count": 12,
     "metadata": {},
     "output_type": "execute_result"
    }
   ],
   "source": [
    "calculate_discounted_return_each_timestep(rewards, discount_factor=0.99)"
   ]
  },
  {
   "cell_type": "code",
   "execution_count": 13,
   "id": "e0cc60a3-57b2-4f4d-b52a-408ad648f95b",
   "metadata": {
    "tags": []
   },
   "outputs": [],
   "source": [
    "from torch.distributions import Categorical"
   ]
  },
  {
   "cell_type": "code",
   "execution_count": 14,
   "id": "43c6d801-cd87-4e4f-8775-c1086d508ce9",
   "metadata": {
    "tags": []
   },
   "outputs": [],
   "source": [
    "class Agent(nn.Module):\n",
    "    def __init__(self, n_observations, n_actions, n_hidden):\n",
    "        self.actor = nn.Sequential([\n",
    "            nn.Linear(n_observations, n_hidden),\n",
    "            nn.Tanh(),\n",
    "            nn.Linear(n_hidden, n_hidden),\n",
    "            nn.Tanh(),\n",
    "            nn.Linear(n_hidden, n_actions)\n",
    "        ])\n",
    "        self.critic = nn.Sequential([\n",
    "            nn.Linear(n_observations, n_hidden),\n",
    "            nn.Tanh(),\n",
    "            nn.Linear(n_hidden, n_hidden),\n",
    "            nn.Tanh(),\n",
    "            nn.Linear(n_hidden, 1),\n",
    "            nn.Sigmoid()\n",
    "        ])\n",
    "    \n",
    "    def get_action_and_value(self, observations):\n",
    "        logits = self.actor(observations)\n",
    "        dist = Categorical(logits=logits)\n",
    "        action = dist.sample()\n",
    "        log_prob = dist.log_prob()\n",
    "        entropy = dist.entropy()\n",
    "        critic_value = self.critic(observations)\n",
    "        return action, log_prob, entropy, critic_value"
   ]
  },
  {
   "cell_type": "code",
   "execution_count": 15,
   "id": "0bb523b9-e8a4-404f-b625-1e022680d2d5",
   "metadata": {},
   "outputs": [
    {
     "data": {
      "text/plain": [
       "0"
      ]
     },
     "execution_count": 15,
     "metadata": {},
     "output_type": "execute_result"
    }
   ],
   "source": [
    "3 // 5"
   ]
  },
  {
   "cell_type": "code",
   "execution_count": 16,
   "id": "ff8f0a46-3cc1-495a-abca-4566c67c9c75",
   "metadata": {
    "tags": []
   },
   "outputs": [
    {
     "data": {
      "text/plain": [
       "1"
      ]
     },
     "execution_count": 16,
     "metadata": {},
     "output_type": "execute_result"
    }
   ],
   "source": [
    "8 // 5"
   ]
  },
  {
   "cell_type": "code",
   "execution_count": 4,
   "id": "ee7fd7c7-02c1-4aca-9858-1611f2d5f2d6",
   "metadata": {},
   "outputs": [],
   "source": [
    "import torch\n",
    "from torch import nn"
   ]
  },
  {
   "cell_type": "code",
   "execution_count": 5,
   "id": "bc414ccf-3921-443a-802e-25c84c5df912",
   "metadata": {
    "tags": []
   },
   "outputs": [],
   "source": [
    "shape = (2, 4,)"
   ]
  },
  {
   "cell_type": "code",
   "execution_count": 7,
   "id": "2d8317c4-6e3f-458f-862f-cc27e012b9f3",
   "metadata": {
    "tags": []
   },
   "outputs": [
    {
     "data": {
      "text/plain": [
       "Linear(in_features=2, out_features=4, bias=True)"
      ]
     },
     "execution_count": 7,
     "metadata": {},
     "output_type": "execute_result"
    }
   ],
   "source": [
    "nn.Linear(*shape)"
   ]
  },
  {
   "cell_type": "code",
   "execution_count": 79,
   "id": "9ef6f255-e68f-4486-a266-0882ba442412",
   "metadata": {
    "tags": []
   },
   "outputs": [],
   "source": [
    "QUEUE = []"
   ]
  },
  {
   "cell_type": "code",
   "execution_count": 89,
   "id": "52dd2abb-d10a-4fed-9675-2624387577aa",
   "metadata": {
    "tags": []
   },
   "outputs": [],
   "source": [
    "import time"
   ]
  },
  {
   "cell_type": "code",
   "execution_count": 90,
   "id": "1e9e3aa1-2ab5-4896-a437-4160890282cc",
   "metadata": {
    "tags": []
   },
   "outputs": [],
   "source": [
    "class TriggerBackward2(torch.autograd.Function):\n",
    "    @staticmethod\n",
    "    def forward(ctx, key, input):\n",
    "        ctx.key = key\n",
    "        return input\n",
    "    \n",
    "    @staticmethod\n",
    "    def backward(ctx, grad_input):\n",
    "        time.sleep(2)\n",
    "        QUEUE.append(ctx.key)\n",
    "        return (None, grad_input)"
   ]
  },
  {
   "cell_type": "code",
   "execution_count": 91,
   "id": "81821a51-4fed-4504-b5a3-c91ed118e5a1",
   "metadata": {
    "tags": []
   },
   "outputs": [],
   "source": [
    "class TriggerBackward(torch.autograd.Function):\n",
    "    @staticmethod\n",
    "    def forward(ctx, key, input):\n",
    "        ctx.key = key\n",
    "        return input\n",
    "    \n",
    "    @staticmethod\n",
    "    def backward(ctx, grad_input):\n",
    "        time.sleep(3)\n",
    "        QUEUE.append(ctx.key)\n",
    "        return (None, grad_input)"
   ]
  },
  {
   "cell_type": "code",
   "execution_count": 92,
   "id": "f618f541-ae2e-4a9b-bb1d-e8adaad38140",
   "metadata": {
    "tags": []
   },
   "outputs": [],
   "source": [
    "f1 = nn.Linear(2, 4)"
   ]
  },
  {
   "cell_type": "code",
   "execution_count": 93,
   "id": "b8b00856-9477-43ab-8e2f-2e93ada8834d",
   "metadata": {
    "tags": []
   },
   "outputs": [],
   "source": [
    "x = torch.randn(4, 2, requires_grad=True)"
   ]
  },
  {
   "cell_type": "code",
   "execution_count": 94,
   "id": "b547f27b-b326-424a-a11f-55aa9eac07ef",
   "metadata": {
    "tags": []
   },
   "outputs": [],
   "source": [
    "output = f1(TriggerBackward.apply(1, x))"
   ]
  },
  {
   "cell_type": "code",
   "execution_count": 95,
   "id": "3e8ff91d-1449-498a-b8c8-8c9fe5ebd2a6",
   "metadata": {
    "tags": []
   },
   "outputs": [],
   "source": [
    "output = TriggerBackward2.apply(2, output)"
   ]
  },
  {
   "cell_type": "code",
   "execution_count": 96,
   "id": "e7f08e9b-bcff-4fa8-bafa-cb450460977c",
   "metadata": {
    "tags": []
   },
   "outputs": [],
   "source": [
    "output.sum().backward()"
   ]
  },
  {
   "cell_type": "code",
   "execution_count": 97,
   "id": "ada83cf2-f8dc-4c41-a192-ae2358e6f3a6",
   "metadata": {
    "tags": []
   },
   "outputs": [
    {
     "data": {
      "text/plain": [
       "[2, 1, 2, 1]"
      ]
     },
     "execution_count": 97,
     "metadata": {},
     "output_type": "execute_result"
    }
   ],
   "source": [
    "QUEUE"
   ]
  },
  {
   "cell_type": "code",
   "execution_count": null,
   "id": "ec94e5e3-4e76-4bf5-8e80-ba1e38e40fae",
   "metadata": {},
   "outputs": [],
   "source": []
  }
 ],
 "metadata": {
  "kernelspec": {
   "display_name": "Python 3 (ipykernel)",
   "language": "python",
   "name": "python3"
  },
  "language_info": {
   "codemirror_mode": {
    "name": "ipython",
    "version": 3
   },
   "file_extension": ".py",
   "mimetype": "text/x-python",
   "name": "python",
   "nbconvert_exporter": "python",
   "pygments_lexer": "ipython3",
   "version": "3.8.16"
  }
 },
 "nbformat": 4,
 "nbformat_minor": 5
}
