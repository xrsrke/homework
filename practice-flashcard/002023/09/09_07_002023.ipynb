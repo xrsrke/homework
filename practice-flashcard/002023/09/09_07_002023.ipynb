{
 "cells": [
  {
   "cell_type": "markdown",
   "id": "b47d8cdd-584c-41a5-ada2-4e99e86316eb",
   "metadata": {},
   "source": [
    "### Engineering"
   ]
  },
  {
   "cell_type": "code",
   "execution_count": 1,
   "id": "a16c2074-e3c1-489a-abee-e40649298e10",
   "metadata": {
    "tags": []
   },
   "outputs": [],
   "source": [
    "import torch\n",
    "from torch import nn\n",
    "import torch.nn.functional as F"
   ]
  },
  {
   "cell_type": "code",
   "execution_count": null,
   "id": "8b2cc8fd-09a9-4345-90d4-115938d986ea",
   "metadata": {},
   "outputs": [],
   "source": [
    "int zero() {\n",
    "    return 0;\n",
    "}"
   ]
  },
  {
   "cell_type": "markdown",
   "id": "17fb763e-2afc-45be-9980-60b76a6d8f09",
   "metadata": {},
   "source": [
    "step 1: package\n",
    "step 2: invoke rpc call along with the package\n",
    "step 3: received the rpc call, execute based on the pre-defined logic\n",
    "step 4: "
   ]
  },
  {
   "cell_type": "code",
   "execution_count": 3,
   "id": "5fe08521-f004-4295-894b-87c514fafdc5",
   "metadata": {
    "tags": []
   },
   "outputs": [],
   "source": [
    "n_microbatches, n_partitions = 4, 3"
   ]
  },
  {
   "cell_type": "code",
   "execution_count": 5,
   "id": "88de585f-d7c2-4662-a9ed-ddd2542eb037",
   "metadata": {
    "tags": []
   },
   "outputs": [],
   "source": [
    "num_clock_idxs = n_microbatches + n_partitions - 1"
   ]
  },
  {
   "cell_type": "code",
   "execution_count": 6,
   "id": "1f30ee0c-406c-43ac-b88e-89139668f1c3",
   "metadata": {
    "tags": []
   },
   "outputs": [
    {
     "data": {
      "text/plain": [
       "6"
      ]
     },
     "execution_count": 6,
     "metadata": {},
     "output_type": "execute_result"
    }
   ],
   "source": [
    "num_clock_idxs"
   ]
  },
  {
   "cell_type": "code",
   "execution_count": 8,
   "id": "b179bd02-c555-4860-a09f-1a7ebc851a79",
   "metadata": {
    "tags": []
   },
   "outputs": [
    {
     "name": "stdout",
     "output_type": "stream",
     "text": [
      "[(0, 0)]\n",
      "[(1, 0), (0, 1)]\n",
      "[(2, 0), (1, 1), (0, 2)]\n",
      "[(3, 0), (2, 1), (1, 2)]\n",
      "[(3, 1), (2, 2)]\n",
      "[(3, 2)]\n"
     ]
    }
   ],
   "source": [
    "for clock_idx in range(num_clock_idxs):\n",
    "    start_partition = max(clock_idx+1-n_microbatches, 0)\n",
    "    end_partition = min(clock_idx+1, n_partitions)\n",
    "    \n",
    "    tasks = []\n",
    "    for partition_idx in range(start_partition, end_partition):\n",
    "        microbatch_idx = clock_idx - partition_idx\n",
    "        tasks.append((microbatch_idx, partition_idx))\n",
    "    \n",
    "    print(tasks)"
   ]
  },
  {
   "cell_type": "code",
   "execution_count": 9,
   "id": "2e3e7c31-4f62-4cea-905d-4418adece14e",
   "metadata": {
    "tags": []
   },
   "outputs": [],
   "source": [
    "import socketserver"
   ]
  },
  {
   "cell_type": "code",
   "execution_count": 10,
   "id": "5dfddce5-021f-462b-ae1b-b84dfae18252",
   "metadata": {
    "tags": []
   },
   "outputs": [],
   "source": [
    "class EchoRequestHandler(socketserver.StreamRequestHandler):\n",
    "    def handle(self):\n",
    "        pass"
   ]
  },
  {
   "cell_type": "code",
   "execution_count": null,
   "id": "4a8965f9-6bf9-4d0e-8567-cb05d764e9d7",
   "metadata": {},
   "outputs": [],
   "source": [
    "with socketserver.ThreadingTCPServer(\n",
    "    (MASTER_HOST, MASTER_PORT), EchoRequestHandler) as server:\n",
    "    pass"
   ]
  },
  {
   "cell_type": "code",
   "execution_count": null,
   "id": "45c73b6a-2efb-42fc-b2ef-6b26dbe089a7",
   "metadata": {},
   "outputs": [],
   "source": [
    "no dynamic change the number of nodes\n",
    "no "
   ]
  },
  {
   "cell_type": "code",
   "execution_count": 12,
   "id": "35c71d78-b8ce-4d24-b5f5-919a1e74caa5",
   "metadata": {
    "tags": []
   },
   "outputs": [],
   "source": [
    "from copy import deepcopy"
   ]
  },
  {
   "cell_type": "code",
   "execution_count": 11,
   "id": "7986424f-2be8-40dd-8371-18573d5c0300",
   "metadata": {
    "tags": []
   },
   "outputs": [],
   "source": [
    "class ModelStateHandler:\n",
    "    def __init__(self, model):\n",
    "        self.model = model\n",
    "        self.set_value()\n",
    "    \n",
    "    def set_value(self):\n",
    "        self._saved_model_state = deepcopy(self.model.state_dict())\n",
    "    \n",
    "    def restore(self):\n",
    "        self.model.load_state_dict(\n",
    "            self._saved_model_state\n",
    "        )\n",
    "    \n",
    "    def commit(self):\n",
    "        pass"
   ]
  },
  {
   "cell_type": "code",
   "execution_count": null,
   "id": "3720bf8b-ac78-4c63-aa1d-6d9c1e766dcb",
   "metadata": {},
   "outputs": [],
   "source": [
    "step 1: qkv\n",
    "step 2: spkit\n",
    "step 3: do self attention\n",
    "step 4: pass"
   ]
  },
  {
   "cell_type": "code",
   "execution_count": null,
   "id": "eef1caa5-4894-4cd0-b040-09a454f42966",
   "metadata": {},
   "outputs": [],
   "source": [
    "global memory > shared memory > register"
   ]
  },
  {
   "cell_type": "code",
   "execution_count": null,
   "id": "248612b2-c838-492f-aac0-d2183d2f3666",
   "metadata": {},
   "outputs": [],
   "source": [
    "handshake, queue, job"
   ]
  },
  {
   "cell_type": "code",
   "execution_count": null,
   "id": "10e05e8b-6d44-45d9-843a-2f912459008f",
   "metadata": {},
   "outputs": [],
   "source": [
    "class State():\n",
    "    def __init__(self, model, state, epoch, batch)"
   ]
  },
  {
   "cell_type": "code",
   "execution_count": null,
   "id": "d5f8724b-cbb9-4d13-9c56-42c0e272b378",
   "metadata": {},
   "outputs": [],
   "source": [
    "step 1: gather\n",
    "step 2: execute\n",
    "step 3: release\n",
    "step 4: "
   ]
  },
  {
   "cell_type": "code",
   "execution_count": 13,
   "id": "f04d1cc3-f8b1-4523-a106-8988266e95ae",
   "metadata": {
    "tags": []
   },
   "outputs": [],
   "source": [
    "tensor_parallel_size = 2\n",
    "pipeline_parallel_size = 4"
   ]
  },
  {
   "cell_type": "code",
   "execution_count": 14,
   "id": "d0dafdbc-1b59-45f1-92a9-52dce355b497",
   "metadata": {
    "tags": []
   },
   "outputs": [],
   "source": [
    "world_size = 16"
   ]
  },
  {
   "cell_type": "code",
   "execution_count": 15,
   "id": "9f457b39-f544-4728-a205-c0a8762f06a5",
   "metadata": {
    "tags": []
   },
   "outputs": [],
   "source": [
    "num_pipeline_parallel_groups = world_size // pipeline_parallel_size"
   ]
  },
  {
   "cell_type": "code",
   "execution_count": 16,
   "id": "8b65758d-2f15-40ae-b710-95e8312e7303",
   "metadata": {
    "tags": []
   },
   "outputs": [
    {
     "data": {
      "text/plain": [
       "4"
      ]
     },
     "execution_count": 16,
     "metadata": {},
     "output_type": "execute_result"
    }
   ],
   "source": [
    "num_pipeline_parallel_groups"
   ]
  },
  {
   "cell_type": "code",
   "execution_count": 17,
   "id": "60d3487e-ab3c-4e5a-9be2-7e64206b1a00",
   "metadata": {
    "tags": []
   },
   "outputs": [],
   "source": [
    "data_parallel_groups = []"
   ]
  },
  {
   "cell_type": "code",
   "execution_count": 18,
   "id": "5556138e-d918-4900-9dc1-643f322425cd",
   "metadata": {
    "tags": []
   },
   "outputs": [
    {
     "name": "stdout",
     "output_type": "stream",
     "text": [
      "[0, 2]\n",
      "[1, 3]\n",
      "[4, 6]\n",
      "[5, 7]\n",
      "[8, 10]\n",
      "[9, 11]\n",
      "[12, 14]\n",
      "[13, 15]\n"
     ]
    }
   ],
   "source": [
    "for i in range(pipeline_parallel_size):\n",
    "    start_rank = i*num_pipeline_parallel_groups\n",
    "    end_rank = (i+1)*num_pipeline_parallel_groups\n",
    "    \n",
    "    for j in range(tensor_parallel_size):\n",
    "        ranks = list(range(\n",
    "            start_rank+j,\n",
    "            end_rank,\n",
    "            tensor_parallel_size\n",
    "        ))\n",
    "        \n",
    "        print(ranks)"
   ]
  },
  {
   "cell_type": "code",
   "execution_count": 19,
   "id": "0c8fa7b4-45b4-4206-8103-39f007a7a350",
   "metadata": {
    "tags": []
   },
   "outputs": [],
   "source": [
    "import threading"
   ]
  },
  {
   "cell_type": "code",
   "execution_count": 20,
   "id": "9852800b-ebbd-49c7-b403-d86ce3673c79",
   "metadata": {
    "tags": []
   },
   "outputs": [],
   "source": [
    "data = threading.local()"
   ]
  },
  {
   "cell_type": "code",
   "execution_count": 21,
   "id": "19e29db2-7f6b-4a41-86ba-fe4ff0845630",
   "metadata": {
    "tags": []
   },
   "outputs": [],
   "source": [
    "def run():\n",
    "    print_and_modify(data)"
   ]
  },
  {
   "cell_type": "code",
   "execution_count": null,
   "id": "95fc1532-30b3-4c0c-b5f5-994b344fbff8",
   "metadata": {},
   "outputs": [],
   "source": [
    "thread = threading.Thread(target=run)"
   ]
  },
  {
   "cell_type": "code",
   "execution_count": 23,
   "id": "6704d2ae-29ef-4f68-b6ff-e168c587f85d",
   "metadata": {
    "tags": []
   },
   "outputs": [],
   "source": [
    "from transformer_lens.utils import get_act_name"
   ]
  },
  {
   "cell_type": "code",
   "execution_count": 26,
   "id": "917c188e-3d3d-45ad-a2da-ce0ed704c3d2",
   "metadata": {
    "tags": []
   },
   "outputs": [],
   "source": [
    "def get_k(tokens, layer_idx, head_idx):\n",
    "    hook_name = get_act_name(\"k\", layer_idx)\n",
    "    _, cache = model.run_with_cache(tokens)\n",
    "    return cache[hook_name][:, :, head_idx]"
   ]
  },
  {
   "cell_type": "code",
   "execution_count": 27,
   "id": "77c10d42-a5af-4a2f-b17b-f6748c0fc3ef",
   "metadata": {
    "tags": []
   },
   "outputs": [],
   "source": [
    "layer_idx = 0\n",
    "head_idx = 0"
   ]
  },
  {
   "cell_type": "code",
   "execution_count": null,
   "id": "fab81620-0c97-4728-9102-3fa1caefd794",
   "metadata": {},
   "outputs": [],
   "source": [
    "k_open = get_k(all_open_tokens, layer_idx, head_idx)\n",
    "k_close = get_k(all_close_tokens, layer_idx, head_idx)"
   ]
  },
  {
   "cell_type": "code",
   "execution_count": null,
   "id": "7e3309e9-a985-4402-9fea-e678abe67ad9",
   "metadata": {},
   "outputs": [],
   "source": [
    "k_avg = (k_open + k_close) / 2"
   ]
  },
  {
   "cell_type": "code",
   "execution_count": 29,
   "id": "6bc5f6a5-4533-4159-8fbb-981a85722300",
   "metadata": {
    "tags": []
   },
   "outputs": [],
   "source": [
    "def patch_k(acts, hook, new_k, head_idx):\n",
    "    acts[:, :, head_idx] = new_k\n",
    "    return acts"
   ]
  },
  {
   "cell_type": "code",
   "execution_count": null,
   "id": "996574ce-c256-49ba-8b55-046670735687",
   "metadata": {},
   "outputs": [],
   "source": [
    "hook_name = get_act_name(\"k\", layer_idx)"
   ]
  },
  {
   "cell_type": "code",
   "execution_count": 28,
   "id": "85d7daa6-4f86-4ee1-a4e3-e5c07a8f870c",
   "metadata": {
    "tags": []
   },
   "outputs": [],
   "source": [
    "from functools import partial"
   ]
  },
  {
   "cell_type": "code",
   "execution_count": null,
   "id": "dd47e751-0478-4c7d-8909-fdc9eec22698",
   "metadata": {},
   "outputs": [],
   "source": [
    "hook_func = partial(patch_k, new_k=k_avg, head_idx=head_idx)"
   ]
  },
  {
   "cell_type": "code",
   "execution_count": null,
   "id": "304ffbd4-0e98-406a-b23e-9532f8de7456",
   "metadata": {},
   "outputs": [],
   "source": [
    "model.add_hook(hook_name, hook_func)\n",
    "\n",
    "_, patched_cache = model.run_with_cache(clean_tokens)"
   ]
  },
  {
   "cell_type": "code",
   "execution_count": null,
   "id": "dd23193b-fa9f-4444-bc55-efa81da68805",
   "metadata": {},
   "outputs": [],
   "source": [
    "mlp_names = [get_act_name(\"mlp_out\", layer_idx) in range(n_layers)]\n",
    "head_names = [get_act_name(\"result\", layer_idx) in range(n_heads)]"
   ]
  },
  {
   "cell_type": "code",
   "execution_count": null,
   "id": "df277d61-9923-4ed0-a4e7-573dfc1fc4b7",
   "metadata": {},
   "outputs": [],
   "source": [
    "hook_names = [\"embed\", \"pos_embed\"] + mlp_names + head_names"
   ]
  },
  {
   "cell_type": "code",
   "execution_count": 30,
   "id": "61cb488c-13ca-4e1b-986c-e4d85031ec89",
   "metadata": {
    "tags": []
   },
   "outputs": [],
   "source": [
    "input_components = torch.tensor([])"
   ]
  },
  {
   "cell_type": "code",
   "execution_count": null,
   "id": "68740b01-fd5e-499f-bcb7-c4171a7e31f9",
   "metadata": {},
   "outputs": [],
   "source": [
    "for hook_name in hook_names:\n",
    "    input_components = torch.tensor([input_components, cache[hook_name]], dim=0)"
   ]
  },
  {
   "cell_type": "code",
   "execution_count": null,
   "id": "f27e257a-bebb-4721-b673-247f5024016e",
   "metadata": {},
   "outputs": [],
   "source": [
    "W_U = model.W_U\n",
    "logit_diff_dir = W_U[:, 0] - W_U[:, 1]"
   ]
  },
  {
   "cell_type": "code",
   "execution_count": 31,
   "id": "7f4a694e-c772-461b-8fb5-a748922589df",
   "metadata": {
    "tags": []
   },
   "outputs": [],
   "source": [
    "contributions = torch.tensor([])"
   ]
  },
  {
   "cell_type": "code",
   "execution_count": null,
   "id": "cc0f6b09-8fe6-44d2-aad7-41adcb02eadd",
   "metadata": {},
   "outputs": [],
   "source": [
    "for input in input_components:\n",
    "    contributions = t"
   ]
  },
  {
   "cell_type": "code",
   "execution_count": null,
   "id": "147976c7-9f54-4f23-88ac-8b61626b95f4",
   "metadata": {},
   "outputs": [],
   "source": [
    "nn.Conv2d(in_channels=3, )"
   ]
  },
  {
   "cell_type": "code",
   "execution_count": null,
   "id": "013a3968-6044-401e-a8fa-ef8da8679193",
   "metadata": {},
   "outputs": [],
   "source": [
    "class State:\n",
    "    def __init__(self, model, optim, **kwargs):\n",
    "        kwargs"
   ]
  },
  {
   "cell_type": "code",
   "execution_count": 32,
   "id": "2a448edc-be04-42e0-8a23-627fc36491d3",
   "metadata": {
    "tags": []
   },
   "outputs": [],
   "source": [
    "from typing import TypedDict"
   ]
  },
  {
   "cell_type": "code",
   "execution_count": 33,
   "id": "4e7c7d39-2db9-4d84-b58d-481c99d2ab27",
   "metadata": {
    "tags": []
   },
   "outputs": [],
   "source": [
    "class NutritionInformation(TypedDict):\n",
    "    value: int\n",
    "    unit: str"
   ]
  },
  {
   "cell_type": "code",
   "execution_count": 34,
   "id": "c03613e2-7100-43a4-8cb2-9908856f9dd9",
   "metadata": {
    "tags": []
   },
   "outputs": [],
   "source": [
    "class RecipeNutritionInformation(TypedDict):\n",
    "    reciped_used: int\n",
    "    calories: NutritionInformation\n",
    "    carbs: NutritionInformation"
   ]
  },
  {
   "cell_type": "code",
   "execution_count": 35,
   "id": "5c2c49e5-390f-4847-901c-b1b13f196229",
   "metadata": {
    "tags": []
   },
   "outputs": [],
   "source": [
    "class CachedDataset:\n",
    "    def __init__(self, filename):\n",
    "        self.filename = filename\n",
    "        self.cache = None\n",
    "    \n",
    "    def prefetch(self, idxs):\n",
    "        data = torch.load(self.filename)\n",
    "        total_elements = sum([data[i].numel() for i in idxs])\n",
    "        self.cache = torch.zeros(total_elements, dtype=data.dtype)\n",
    "        offset = 0\n",
    "        for i in idxs:\n",
    "            n = data[i].numel()\n",
    "            self.cache[offset:offset+n] = data[i].view(dim=-1)\n",
    "            offset += n"
   ]
  },
  {
   "cell_type": "code",
   "execution_count": null,
   "id": "0cec610d-10fd-45a5-8c60-dc6bf650da93",
   "metadata": {},
   "outputs": [],
   "source": [
    "x.record_stream(prev_stream)\n",
    "new_x.record_stream(default_stream)"
   ]
  },
  {
   "cell_type": "code",
   "execution_count": null,
   "id": "f88fa01c-4801-46ea-a0cb-f9561a2aad18",
   "metadata": {},
   "outputs": [],
   "source": [
    "job selector > initial workers > pool monitor"
   ]
  },
  {
   "cell_type": "code",
   "execution_count": null,
   "id": "6206ca70-8df2-401b-99ac-0984aae5ee0f",
   "metadata": {},
   "outputs": [],
   "source": [
    "batch_size, seq_len = corrupted_tokens.size()"
   ]
  },
  {
   "cell_type": "code",
   "execution_count": null,
   "id": "8a8c83b7-7e1c-4b56-a57d-0e8c1efa55f5",
   "metadata": {},
   "outputs": [],
   "source": [
    "means = torch.zeros(n_layers, batch_size, seq_len, n_heads, d_head)"
   ]
  },
  {
   "cell_type": "code",
   "execution_count": null,
   "id": "6bb0aa4c-aaf2-4e1f-b772-a7797a3c9e4d",
   "metadata": {},
   "outputs": [],
   "source": [
    "_, cache = model.run_with_cache(corrupted_tokens)"
   ]
  },
  {
   "cell_type": "code",
   "execution_count": 37,
   "id": "4775efb0-67c2-4369-87a8-5c3fb9ef5c5b",
   "metadata": {
    "tags": []
   },
   "outputs": [],
   "source": [
    "from einops import rearrange, reduce"
   ]
  },
  {
   "cell_type": "code",
   "execution_count": null,
   "id": "dd55466b-50fb-4144-b721-8b640b83f2f4",
   "metadata": {},
   "outputs": [],
   "source": [
    "for layer_idx in range(n_layers):\n",
    "    hook_name = get_act_name(\"z\", layer_idx)\n",
    "    z = cache[hook_name]\n",
    "    \n",
    "    for sample_idxs in corrupted_groups:\n",
    "        z_template z[sample_idxs]\n",
    "        mean_z = reduce(\n",
    "            z_template,\n",
    "            \"batch_size seq_len n_heads d_head -> batch_size n_heads d_head\",\n",
    "            reduction=\"mean\"\n",
    "        )\n",
    "        means[layer_idx, sample_idxs] = mean_z"
   ]
  },
  {
   "cell_type": "code",
   "execution_count": null,
   "id": "86f34026-0036-4e43-9cd3-49c04161ce64",
   "metadata": {},
   "outputs": [],
   "source": [
    "_, cache = model.run_with_cache(past_moves)"
   ]
  },
  {
   "cell_type": "code",
   "execution_count": 38,
   "id": "9fb61c3a-3db6-4b6f-93a2-47af8a144e1c",
   "metadata": {
    "tags": []
   },
   "outputs": [],
   "source": [
    "layer_idx = 3"
   ]
  },
  {
   "cell_type": "code",
   "execution_count": null,
   "id": "edc92439-3188-454d-abb3-e94b16494717",
   "metadata": {},
   "outputs": [],
   "source": [
    "top_neurons = cache[\"mlp_out\", layer_idx].std(dim=[0, 1]).argsort(descending=True)"
   ]
  },
  {
   "cell_type": "code",
   "execution_count": 40,
   "id": "bd53eb32-9384-41ef-ba24-72c6fc9fcfb9",
   "metadata": {
    "tags": []
   },
   "outputs": [],
   "source": [
    "def compute_consine_similarity(neuron_idx, feature):\n",
    "    W_out = model.W_out[layer_idx, neuron_idx]\n",
    "    W_out /= W_out.norm(dim=-1)\n",
    "    \n",
    "    feature /= feature.norm(dim=-1)\n",
    "    \n",
    "    return einsum(\n",
    "        W_out,\n",
    "        feature,\n",
    "        \"\"\n",
    "    )"
   ]
  },
  {
   "cell_type": "code",
   "execution_count": 39,
   "id": "1b52c4d7-cdc1-4e8c-b586-804fc62161d5",
   "metadata": {
    "tags": []
   },
   "outputs": [],
   "source": [
    "heatmaps = []"
   ]
  },
  {
   "cell_type": "code",
   "execution_count": null,
   "id": "eac40292-1866-4297-8c5f-f2d285b381d4",
   "metadata": {},
   "outputs": [],
   "source": [
    "for neuron_idx in top_neurons:\n",
    "    heatmaps.append(compute_consine_similarity(\n",
    "        neuron_idx, blank_dir\n",
    "    ))"
   ]
  },
  {
   "cell_type": "code",
   "execution_count": null,
   "id": "4f2bcb76-be26-4fff-bc06-8a66052b6ff5",
   "metadata": {},
   "outputs": [],
   "source": [
    "W_OV = model.W_V[0, 1] @ model.W_O[0, 1]"
   ]
  },
  {
   "cell_type": "code",
   "execution_count": null,
   "id": "0a6d82fb-0617-4ccd-b4df-5137e61a49b3",
   "metadata": {},
   "outputs": [],
   "source": [
    "W_QK = model.W_Q[1, 2] @ model.W_K[1, 2]"
   ]
  },
  {
   "cell_type": "code",
   "execution_count": null,
   "id": "e2b6c0b3-57d1-4e09-9f14-2073806767d6",
   "metadata": {},
   "outputs": [],
   "source": [
    "virtual_weights = W_OV @ W_QK"
   ]
  },
  {
   "cell_type": "code",
   "execution_count": null,
   "id": "46fce784-bc65-410d-a178-d3289e626fe9",
   "metadata": {},
   "outputs": [],
   "source": [
    "_, clean_cache = model.run_with_cache(\n",
    "    clean_tokens\n",
    ")\n",
    "\n",
    "_, corrupted_cache = model.run_with_cache(\n",
    "    corrupted_tokens\n",
    ")"
   ]
  },
  {
   "cell_type": "code",
   "execution_count": 45,
   "id": "7f08ac02-e012-476e-917e-dcc2509e308d",
   "metadata": {
    "tags": []
   },
   "outputs": [],
   "source": [
    "def patch_sender_head(acts, hook, clean_cache, corrupted_cache, target_head):\n",
    "    trg_layer_idx, trg_head_idx = target_head\n",
    "    if hook.layer() == trg_layer_idx:\n",
    "        acts[:, :, trg_head_idx] = corrupted_cache[hook.name][:, :, trg_head_idx]\n",
    "    else:\n",
    "        acts = clean_cache[hook.name]\n",
    "    return acts"
   ]
  },
  {
   "cell_type": "code",
   "execution_count": 43,
   "id": "6b5627d3-347d-4c65-b67c-e8f3f7069705",
   "metadata": {
    "tags": []
   },
   "outputs": [],
   "source": [
    "from functools import partial"
   ]
  },
  {
   "cell_type": "code",
   "execution_count": null,
   "id": "b7856dde-5ef7-4ed5-9781-ec5756c1e722",
   "metadata": {
    "tags": []
   },
   "outputs": [],
   "source": [
    "results = torch.zeros(n_layers, n_heads)\n",
    "\n",
    "for layer_idx in range(n_layers):\n",
    "    hook_name = get_act_name(\"z\", layer_idx)\n",
    "    for head_idx in range(n_heads):\n",
    "        hook_func = partial(\n",
    "            patch_sender_head,\n",
    "            clean_cache=clean_cache,\n",
    "            corrupted_cache=corrupted_cache,\n",
    "            target_head=(layer_idx, head_idx)\n",
    "        )\n",
    "\n",
    "        corrupted_logits = model.run_with_hooks(\n",
    "            clean_tokens,\n",
    "            fwd_hooks=[(hook_name, hook_name)]\n",
    "        )\n",
    "        results[layer_idx, head_idx] = compute_ioi_metric(corrupted_logits)"
   ]
  },
  {
   "cell_type": "code",
   "execution_count": 46,
   "id": "d5510f86-7726-4b30-926c-c2d315eea95a",
   "metadata": {
    "tags": []
   },
   "outputs": [],
   "source": [
    "import torch.distributed as dist\n",
    "import torch.distributed.rpc as rpc"
   ]
  },
  {
   "cell_type": "code",
   "execution_count": null,
   "id": "6ac6e89b-12b8-493e-b0d6-024d26cfa0fa",
   "metadata": {},
   "outputs": [],
   "source": [
    "handles = []\n",
    "for ob_rref in ob_rrefs:\n",
    "    handles.append(rpc.rpc_async(\n",
    "        to=ob_rref,\n",
    "        func=ob_rref.rpc_sync().run\n",
    "    ))\n",
    "\n",
    "for handle in handles:\n",
    "    handle.wait()"
   ]
  },
  {
   "cell_type": "code",
   "execution_count": 47,
   "id": "11d0bfc0-ae38-4ae0-a876-8f43b28d29b8",
   "metadata": {
    "tags": []
   },
   "outputs": [],
   "source": [
    "from contextlib import contextmanager"
   ]
  },
  {
   "cell_type": "code",
   "execution_count": 48,
   "id": "970f17e6-f83e-4166-9bd7-38e81ba3acba",
   "metadata": {
    "tags": []
   },
   "outputs": [],
   "source": [
    "@contextmanager\n",
    "def use_stream(stream):\n",
    "    if not isinstance(stream, torch.cuda.Stream):\n",
    "        yield\n",
    "        return\n",
    "    \n",
    "    with torch.cuda.stream(stream):\n",
    "        yield"
   ]
  },
  {
   "cell_type": "code",
   "execution_count": 49,
   "id": "dbe477db-024a-438f-900f-f8928e129a32",
   "metadata": {
    "tags": []
   },
   "outputs": [],
   "source": [
    "import os"
   ]
  },
  {
   "cell_type": "code",
   "execution_count": null,
   "id": "f2da1490-4e05-49b5-8e24-9081ee21bf79",
   "metadata": {},
   "outputs": [],
   "source": [
    "class MPU:\n",
    "    def __init__(self, master_addr, master_port, backend):\n",
    "        if not dist.is_initialized():\n",
    "            init_method = f\"tcp://{master_addr}:{master_port}\"\n",
    "            rank = os.getenv(\"RANK\")\n",
    "            world_size = os.getenv(\"WORLD_SIZE\")\n",
    "            \n",
    "            self.set_device(rank)\n",
    "            \n",
    "            dist.init_process_group(\n",
    "                rank=rank,\n",
    "                world_size=world_size\n",
    "                init_method=init_method,\n",
    "                backend=backend,\n",
    "            )\n",
    "    \n",
    "    def set_device(self, rank):\n",
    "        n_devices = torch.cuda.device_count()\n",
    "        if n_devices > 1:\n",
    "            device = n_devices % rank\n",
    "            torch.cuda.set_device(device)"
   ]
  },
  {
   "cell_type": "code",
   "execution_count": null,
   "id": "95c190d0-05f2-4a4c-9ab5-992cee15d537",
   "metadata": {},
   "outputs": [],
   "source": [
    "future = rpc.remote(to=\"worker_1\", func=create_tensor)"
   ]
  },
  {
   "cell_type": "code",
   "execution_count": 50,
   "id": "86c96edc-61df-42f8-af66-fc4b8d726651",
   "metadata": {
    "tags": []
   },
   "outputs": [],
   "source": [
    "class TestFruit:\n",
    "    def setup_method(self):\n",
    "        self.fruit = Fruit(\"x\")\n",
    "    \n",
    "    def test_fruit(self):\n",
    "        assert self.fruit.name == \"x\"\n",
    "    \n",
    "    def teardown_method(self):\n",
    "        del self.fruit"
   ]
  },
  {
   "cell_type": "code",
   "execution_count": 51,
   "id": "36f1017d-6de3-4236-8ed2-4448265ab86c",
   "metadata": {
    "tags": []
   },
   "outputs": [],
   "source": [
    "from einops import reduce"
   ]
  },
  {
   "cell_type": "code",
   "execution_count": null,
   "id": "cc636177-ec9e-4ecc-8b68-6b9dd53b68c9",
   "metadata": {},
   "outputs": [],
   "source": [
    "output = reduce(\n",
    "    images,\n",
    "    \"batch_size channels height width -> batch_size height width\"\n",
    ")"
   ]
  },
  {
   "cell_type": "code",
   "execution_count": null,
   "id": "8bd63dea-7220-43aa-981d-16f01b685590",
   "metadata": {},
   "outputs": [],
   "source": [
    "job selector > initial worker threads > pool monitor"
   ]
  },
  {
   "cell_type": "code",
   "execution_count": 52,
   "id": "a7939ca6-240c-4a0e-9846-1eb6358963aa",
   "metadata": {},
   "outputs": [],
   "source": [
    "import torch\n",
    "from torch import nn\n",
    "import torch.nn.functional as F\n",
    "import torch.distributed as dist\n",
    "import torch.distributed.rpc as rpc"
   ]
  },
  {
   "cell_type": "code",
   "execution_count": null,
   "id": "cccc7266-5d87-479f-8d66-c82357b87683",
   "metadata": {},
   "outputs": [],
   "source": [
    "gravity, strong weak nuclear force, electromagnetic radiation"
   ]
  },
  {
   "cell_type": "code",
   "execution_count": null,
   "id": "c1fe6661-5b79-4512-a091-e7a44faa9aaa",
   "metadata": {},
   "outputs": [],
   "source": [
    "two uncertainty principles\n",
    "quantization of angular momentum\n",
    "quantization of action"
   ]
  },
  {
   "cell_type": "code",
   "execution_count": null,
   "id": "d7419c7e-3383-40e8-ba29-e86c099817a9",
   "metadata": {},
   "outputs": [],
   "source": [
    "ganglion > "
   ]
  },
  {
   "cell_type": "code",
   "execution_count": null,
   "id": "7c831a29-14c1-472c-a426-9fb8cdc6fb31",
   "metadata": {},
   "outputs": [],
   "source": [
    "conditioned response, motor imagery, stimulus evoked, "
   ]
  },
  {
   "cell_type": "code",
   "execution_count": null,
   "id": "695336b9-e202-41b0-b5cf-5628a8fe1728",
   "metadata": {},
   "outputs": [],
   "source": [
    "for param in model.parameters():\n",
    "    param.requires_grad = False"
   ]
  },
  {
   "cell_type": "code",
   "execution_count": null,
   "id": "251dbcff-2783-4f65-80cc-1afaa7530ddf",
   "metadata": {},
   "outputs": [],
   "source": [
    "for i, block in model.transformer:\n",
    "    if i >= 6:\n",
    "        for param in block.parameters():\n",
    "            param.requires_grad = True"
   ]
  },
  {
   "cell_type": "code",
   "execution_count": 1,
   "id": "a8921f01-2318-4278-8f41-1bf8b52ccfd5",
   "metadata": {
    "tags": []
   },
   "outputs": [],
   "source": [
    "import torch\n",
    "from torch import nn\n",
    "import torch.nn.functional as F"
   ]
  },
  {
   "cell_type": "code",
   "execution_count": 2,
   "id": "2b27caf1-ef2a-4f40-8824-ad9fe137767f",
   "metadata": {
    "tags": []
   },
   "outputs": [],
   "source": [
    "import torch.distributed as dist\n",
    "import torch.distributed.rpc as rpc"
   ]
  },
  {
   "cell_type": "code",
   "execution_count": 4,
   "id": "5dd29ddf-c836-4350-ad1d-fe97ece506f5",
   "metadata": {
    "tags": []
   },
   "outputs": [],
   "source": [
    "def variance(x):\n",
    "    return (x-x.mean()).pow(2).mean()"
   ]
  },
  {
   "cell_type": "code",
   "execution_count": null,
   "id": "6e80e9e2-aa1a-4081-8a67-37bc3d7c19c6",
   "metadata": {},
   "outputs": [],
   "source": [
    "reward, state, next_state, action"
   ]
  },
  {
   "cell_type": "code",
   "execution_count": 5,
   "id": "4bcdd2a3-f368-4875-b92d-6f2f3f814b65",
   "metadata": {
    "tags": []
   },
   "outputs": [],
   "source": [
    "def convert_to_distribution(states):\n",
    "    q_values = q_function(states)\n",
    "    return q_values.exp() / q_values.sum()"
   ]
  },
  {
   "cell_type": "code",
   "execution_count": null,
   "id": "982eaf01-f35e-44da-b17b-e1de392d7943",
   "metadata": {},
   "outputs": [],
   "source": []
  }
 ],
 "metadata": {
  "kernelspec": {
   "display_name": "Python 3 (ipykernel)",
   "language": "python",
   "name": "python3"
  },
  "language_info": {
   "codemirror_mode": {
    "name": "ipython",
    "version": 3
   },
   "file_extension": ".py",
   "mimetype": "text/x-python",
   "name": "python",
   "nbconvert_exporter": "python",
   "pygments_lexer": "ipython3",
   "version": "3.8.16"
  }
 },
 "nbformat": 4,
 "nbformat_minor": 5
}
