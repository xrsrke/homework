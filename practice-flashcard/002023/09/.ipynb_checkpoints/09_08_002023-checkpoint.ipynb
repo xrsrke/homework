{
 "cells": [
  {
   "cell_type": "markdown",
   "id": "fb4b0646-e25c-4c4b-a22e-95c0186e05dd",
   "metadata": {},
   "source": [
    "### Engineering"
   ]
  },
  {
   "cell_type": "code",
   "execution_count": 1,
   "id": "9b27a27f-f26c-4471-9ad6-f84f86dd4151",
   "metadata": {
    "tags": []
   },
   "outputs": [],
   "source": [
    "import torch\n",
    "from torch import nn\n",
    "import torch.nn.functional as F"
   ]
  },
  {
   "cell_type": "code",
   "execution_count": 2,
   "id": "855fd412-f6af-4458-b9df-f497671aa75c",
   "metadata": {
    "tags": []
   },
   "outputs": [],
   "source": [
    "import torch.distributed as dist\n",
    "import torch.distributed.rpc as rpc"
   ]
  },
  {
   "cell_type": "code",
   "execution_count": null,
   "id": "64d565f9-41c3-4739-b456-8a53947deabe",
   "metadata": {},
   "outputs": [],
   "source": [
    "class TensorParallelGroupInitializer(ProcessGroupInitializer):\n",
    "    def init_dist_group(self):\n",
    "        process_group = None\n",
    "        local_rank = None\n",
    "        local_world_size = None\n",
    "        \n",
    "        num_tensor_parallel_groups = self.world_size // self.tensor_parallel_size\n",
    "        \n",
    "        for i in range(num_tensor_parallel_groups):\n",
    "            ranks = list(range(\n",
    "                i*tensor_parallel_size,\n",
    "                (i+1)*tensor_parallel_size\n",
    "            ))\n",
    "            process_group = dist.init_dist_group(ranks=ranks)\n",
    "            \n",
    "            if self.rank in ranks:\n",
    "                local_rank = ranks.index(self.rank)\n",
    "                local_world_size = len(ranks)\n",
    "        \n",
    "        return {\n",
    "            \"\"\n",
    "        }"
   ]
  },
  {
   "cell_type": "code",
   "execution_count": null,
   "id": "6a606641-2139-43b7-8c74-c3d5c59afebf",
   "metadata": {},
   "outputs": [],
   "source": [
    "reassign works\n",
    "monitor\n"
   ]
  },
  {
   "cell_type": "code",
   "execution_count": null,
   "id": "afc681d4-0b73-41e4-aa93-39e771344471",
   "metadata": {},
   "outputs": [],
   "source": [
    "start = torch.cuda.Event(enable_timing=True)\n",
    "end = torch.cuda.Event(enable_timing=True)"
   ]
  },
  {
   "cell_type": "code",
   "execution_count": null,
   "id": "39565eae-5127-4860-be17-a0c365bfb0a2",
   "metadata": {},
   "outputs": [],
   "source": [
    "start.record()\n",
    "hardshit()\n",
    "end.record()\n",
    "\n",
    "torch.cuda.syncronous()"
   ]
  },
  {
   "cell_type": "code",
   "execution_count": null,
   "id": "dd553128-6ea6-4f5a-81c0-8325a6fa8551",
   "metadata": {},
   "outputs": [],
   "source": [
    "elapsed_time_ms = end.elapsed_time()"
   ]
  },
  {
   "cell_type": "code",
   "execution_count": null,
   "id": "77a04027-87b0-47c6-b7f8-88246c2c146c",
   "metadata": {},
   "outputs": [],
   "source": [
    "(current_rank+1)%local_world_size"
   ]
  },
  {
   "cell_type": "code",
   "execution_count": null,
   "id": "96f99c87-bd4b-468b-91ef-1f2a18862b2d",
   "metadata": {},
   "outputs": [],
   "source": [
    "int"
   ]
  },
  {
   "cell_type": "code",
   "execution_count": null,
   "id": "ddc08795-27cb-4b88-9ccc-5fc0761dc0f9",
   "metadata": {},
   "outputs": [],
   "source": [
    "all busy, < maximum"
   ]
  },
  {
   "cell_type": "code",
   "execution_count": 3,
   "id": "71a2bb10-4d7a-422e-8616-84d54d441d39",
   "metadata": {
    "tags": []
   },
   "outputs": [],
   "source": [
    "import os"
   ]
  },
  {
   "cell_type": "code",
   "execution_count": null,
   "id": "a61961a9-1cde-4108-a317-5acb99b3ca90",
   "metadata": {},
   "outputs": [],
   "source": [
    "class MPU:\n",
    "    def __init__(self, master_addr, master_port, backend):\n",
    "        if not dist.is_initialized():\n",
    "            rank = os.getenv(\"RANK\")\n",
    "            world_size = os.getenv(\"WORLD_SIZE\")\n",
    "            \n",
    "            init_method = f\"tcp://{master_addr}:{master_port}\"\n",
    "            \n",
    "            self.set_device(rank)\n",
    "            \n",
    "            dist.init_process_group(\n",
    "                init_method=init_method,\n",
    "                rank=rank,\n",
    "                world_size=world_size\n",
    "            )\n",
    "    \n",
    "    def set_device(self, rank):\n",
    "        n_devices = torch.cuda.device_count()\n",
    "        if n_devices > 0: \n",
    "            torch.cuda.set_device(rank%n_devices)"
   ]
  },
  {
   "cell_type": "code",
   "execution_count": null,
   "id": "69fe0f2c-444f-4788-a507-bc92caabf760",
   "metadata": {},
   "outputs": [],
   "source": []
  },
  {
   "cell_type": "code",
   "execution_count": null,
   "id": "5aefe199-beb6-4211-861b-975dff6e909f",
   "metadata": {},
   "outputs": [],
   "source": [
    "step 1:\n",
    "step 2: initialize global distributed group\n",
    "step 3: initialize parallel groups\n",
    "step 4: seed"
   ]
  },
  {
   "cell_type": "code",
   "execution_count": null,
   "id": "6a214c42-5f0f-4f1c-9b19-3d61a040084b",
   "metadata": {},
   "outputs": [],
   "source": [
    "x@W_Q@W_K.T@x.T"
   ]
  },
  {
   "cell_type": "code",
   "execution_count": 4,
   "id": "1db12740-32b8-4f5a-bf66-b1ae033b873b",
   "metadata": {
    "tags": []
   },
   "outputs": [],
   "source": [
    "def compute_score(pattern, target_pattern):\n",
    "    return (pattern*target_pattern).sum() / pattern.sum()"
   ]
  },
  {
   "cell_type": "code",
   "execution_count": null,
   "id": "9c568f18-ba03-457b-a014-7f41802c32be",
   "metadata": {},
   "outputs": [],
   "source": [
    "tokens = model.to_tokens(text)"
   ]
  },
  {
   "cell_type": "code",
   "execution_count": null,
   "id": "972455aa-cdd1-4314-8a25-553779fec322",
   "metadata": {},
   "outputs": [],
   "source": [
    "_, cache = model.run_with_cache(tokens)"
   ]
  },
  {
   "cell_type": "code",
   "execution_count": 5,
   "id": "f141f566-4c30-41d0-9cdf-8168996f9733",
   "metadata": {
    "tags": []
   },
   "outputs": [],
   "source": [
    "from transformer_lens.utils import get_act_name"
   ]
  },
  {
   "cell_type": "code",
   "execution_count": null,
   "id": "71df3f7a-6026-45c4-bf57-54b2222ac09d",
   "metadata": {},
   "outputs": [],
   "source": [
    "data = torch.zeros(n_layers, n_heads)\n",
    "\n",
    "for layer_idx in range(n_layers):\n",
    "    for head_idx in range(n_heads):\n",
    "        hook_name = get_act_name(\"pattern\", layer_idx)\n",
    "        pattern = cache[hook_name][:, :, head_idx]\n",
    "        data[layer_idx, head_idx] = compute_score(\n",
    "            pattern, target_pattern\n",
    "        )"
   ]
  },
  {
   "cell_type": "code",
   "execution_count": null,
   "id": "a48b7722-bfd4-4b3b-962a-591a8de25369",
   "metadata": {},
   "outputs": [],
   "source": [
    "step 1: prob[0] = sigmoid(logit0 - logit1)\n",
    "step 2: logit0 = final_resid @ W_U[0], final_resid @ W_U[1]\n",
    "step 3: logit0 - logit1 = final_resid @ (W_U[0] - W_U[1])\n"
   ]
  },
  {
   "cell_type": "code",
   "execution_count": null,
   "id": "3befbeda-2fa0-4adc-b531-fc60bf94ebc7",
   "metadata": {},
   "outputs": [],
   "source": [
    "W_V @ W_O"
   ]
  },
  {
   "cell_type": "code",
   "execution_count": null,
   "id": "f0b1cd9b-ff5e-4bc0-850b-5464d9c86c0e",
   "metadata": {},
   "outputs": [],
   "source": [
    "step 1: new prompt\n",
    "step 2: record the interdimate activations\n",
    "step 3: patch\n",
    "step 4: "
   ]
  },
  {
   "cell_type": "code",
   "execution_count": null,
   "id": "f8f0b698-2f4a-46c9-8acf-fff68d5d0279",
   "metadata": {},
   "outputs": [],
   "source": [
    "reassign work\n",
    "spawn new workers\n",
    "monitor"
   ]
  },
  {
   "cell_type": "code",
   "execution_count": null,
   "id": "95ee63ea-2025-455f-977f-58ac8f9ac1f4",
   "metadata": {},
   "outputs": [],
   "source": [
    "int *h_a, *h_b, *h_c;"
   ]
  },
  {
   "cell_type": "code",
   "execution_count": null,
   "id": "a4514805-4699-4617-912a-999399fcb259",
   "metadata": {},
   "outputs": [],
   "source": [
    "size_t bytes = sizeof(int) * n;"
   ]
  },
  {
   "cell_type": "code",
   "execution_count": null,
   "id": "10c413d2-0816-4256-94f9-3407b56dcdb0",
   "metadata": {},
   "outputs": [],
   "source": [
    "h_a = (int*)malloc(bytes)\n",
    "h_b = (int*)malloc(bytes)\n",
    "h_c = (int*)malloc(bytes)"
   ]
  },
  {
   "cell_type": "code",
   "execution_count": null,
   "id": "60481c83-f13d-4139-8180-ff841b1a1b84",
   "metadata": {},
   "outputs": [],
   "source": [
    "positional signals: keep, invert\n",
    "token signals: random, invert, keep"
   ]
  },
  {
   "cell_type": "code",
   "execution_count": null,
   "id": "5e4bd58c-4e21-40c6-8972-25ec4b12f951",
   "metadata": {},
   "outputs": [],
   "source": [
    "step 1: job selector pick jobs from queue to selected job queue\n",
    "step 2: worker threads pick jobs, and execute them "
   ]
  },
  {
   "cell_type": "code",
   "execution_count": null,
   "id": "95e00360-c0a5-45ca-82d2-900098505b34",
   "metadata": {},
   "outputs": [],
   "source": [
    "step 1: env variables\n",
    "step 2: initialize global distributed group\n",
    "step 3: initialize parallel groups\n",
    "step 4: seed\n",
    "step 5: device"
   ]
  },
  {
   "cell_type": "code",
   "execution_count": 6,
   "id": "f5eed050-e0af-49c6-b73b-f7e13716098a",
   "metadata": {
    "tags": []
   },
   "outputs": [],
   "source": [
    "class Model(nn.Module):\n",
    "    def __init__(self):\n",
    "        self.net1 = nn.Sequential(\n",
    "            nn.Linear(69, 420),\n",
    "            nn.ReLU()\n",
    "        ).to(torch.device(\"cuda:0\"))\n",
    "        self.net2 = nn.Sequential(\n",
    "            nn.Linear(420, 69)\n",
    "        )\n",
    "    \n",
    "    def forward(self, x):\n",
    "        x = x.to(torch.device(\"cuda:0\"))\n",
    "        out = self.net1(x).to(torch.device(\"cuda:1\"))\n",
    "        out = self.net2(out)\n",
    "        return out"
   ]
  },
  {
   "cell_type": "code",
   "execution_count": null,
   "id": "95684034-1e80-4125-b9f7-0150bd3aea59",
   "metadata": {},
   "outputs": [],
   "source": [
    "def split_devices"
   ]
  },
  {
   "cell_type": "code",
   "execution_count": 7,
   "id": "227ca4f3-c069-4a04-9108-6cf5246199c0",
   "metadata": {
    "tags": []
   },
   "outputs": [],
   "source": [
    "from einops import rearrange"
   ]
  },
  {
   "cell_type": "code",
   "execution_count": null,
   "id": "d29435b8-fecc-4cf5-8137-3e304c461011",
   "metadata": {},
   "outputs": [],
   "source": [
    "result = rearrange(images, \"b c h w -> b c (h w)\")"
   ]
  },
  {
   "cell_type": "code",
   "execution_count": 8,
   "id": "cf0264a5-b74b-4d58-8e3a-c34111ee74bd",
   "metadata": {
    "tags": []
   },
   "outputs": [],
   "source": [
    "layer_idx, head_idx = 6, 9"
   ]
  },
  {
   "cell_type": "code",
   "execution_count": null,
   "id": "1dc62173-9c73-4cf5-b340-14b51ed671fe",
   "metadata": {},
   "outputs": [],
   "source": [
    "W_E = model.W_E\n",
    "W_U = model.W_U\n",
    "\n",
    "W_OV = model.W_V[layer_idx, head_idx] @ model.W_O[layer_idx, head_idx]\n",
    "full_OV_circuit = W_E @ W_OV @ W_U"
   ]
  },
  {
   "cell_type": "code",
   "execution_count": null,
   "id": "142edc56-83a1-41b8-9318-9157023bb4c7",
   "metadata": {},
   "outputs": [],
   "source": [
    "_, cache = model.run_with_cache(board_history)"
   ]
  },
  {
   "cell_type": "code",
   "execution_count": 9,
   "id": "f916df4b-7006-44b4-b68e-e3d0d5fc180b",
   "metadata": {
    "tags": []
   },
   "outputs": [],
   "source": [
    "layer_idx, head_idx = 5, 1393"
   ]
  },
  {
   "cell_type": "code",
   "execution_count": null,
   "id": "e505c50a-c82e-47a7-af34-42cac7d26b09",
   "metadata": {},
   "outputs": [],
   "source": [
    "hook_name = get_act_name(\"mlp_out\", layer_idx)\n",
    "mlp_neurons = cache[hook_name][:, :, neuron_idx]\n",
    "threshold = mlp_neurons.quantile(0.99)\n",
    "top_neurons = mlp_neurons > threshold"
   ]
  },
  {
   "cell_type": "code",
   "execution_count": null,
   "id": "5fb52733-916c-4d6b-bc8e-bb1a0bbd4e33",
   "metadata": {},
   "outputs": [],
   "source": []
  }
 ],
 "metadata": {
  "kernelspec": {
   "display_name": "Python 3 (ipykernel)",
   "language": "python",
   "name": "python3"
  },
  "language_info": {
   "codemirror_mode": {
    "name": "ipython",
    "version": 3
   },
   "file_extension": ".py",
   "mimetype": "text/x-python",
   "name": "python",
   "nbconvert_exporter": "python",
   "pygments_lexer": "ipython3",
   "version": "3.8.16"
  }
 },
 "nbformat": 4,
 "nbformat_minor": 5
}
