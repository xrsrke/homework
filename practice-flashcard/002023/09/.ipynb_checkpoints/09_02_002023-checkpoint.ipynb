{
 "cells": [
  {
   "cell_type": "markdown",
   "id": "2a9bbde1-78cf-4950-b674-04940168835e",
   "metadata": {},
   "source": [
    "### Engineering"
   ]
  },
  {
   "cell_type": "code",
   "execution_count": 1,
   "id": "6f0e53ab-d0ed-4b8b-81e9-52a71c3221a5",
   "metadata": {
    "tags": []
   },
   "outputs": [],
   "source": [
    "import torch\n",
    "from torch import nn\n",
    "import torch.nn.functional as F"
   ]
  },
  {
   "cell_type": "code",
   "execution_count": null,
   "id": "0ed1c395-b765-4175-8065-86879b7852c8",
   "metadata": {},
   "outputs": [],
   "source": [
    "class CacheDataset:\n",
    "    def __init__(self, filename):\n",
    "        self.filename = filename\n",
    "        self.data = None\n",
    "    \n",
    "    def prefetch(self, idxs):\n",
    "        self.data = torch.load(self.filename)\n",
    "        total_elements = sum([self.data[i].numel() for i in idxs])\n",
    "        offset = 0\n",
    "        for i in idxs:\n",
    "            n_elements = data[i].numel()"
   ]
  },
  {
   "cell_type": "code",
   "execution_count": null,
   "id": "df977b20-4b75-43cc-b6bc-9a5e1c8d0d68",
   "metadata": {},
   "outputs": [],
   "source": [
    "agent_rref.rpc_sync().your_mom(69)"
   ]
  },
  {
   "cell_type": "code",
   "execution_count": null,
   "id": "98c95135-ae89-4e4f-bb0a-8461dc8e4f6e",
   "metadata": {},
   "outputs": [],
   "source": [
    "step 1: determine a list of global ranks in that group\n",
    "step 2: if the process's global rank in that list\n",
    "step 3: then initialize process group\n",
    "step 4: local rank\n",
    "step 5: save"
   ]
  },
  {
   "cell_type": "code",
   "execution_count": null,
   "id": "a17546bf-354e-4381-a0e7-e5214d9d71f0",
   "metadata": {},
   "outputs": [],
   "source": [
    "message passing, shared memory, file system  "
   ]
  },
  {
   "cell_type": "code",
   "execution_count": 1,
   "id": "1209b159-c85b-42ef-b851-eaad903289b3",
   "metadata": {
    "tags": []
   },
   "outputs": [],
   "source": [
    "import torch\n",
    "from torch import nn\n",
    "import torch.nn.functional as F"
   ]
  },
  {
   "cell_type": "code",
   "execution_count": 2,
   "id": "6a44a7a9-c0fa-4d24-8992-a70055e89c2a",
   "metadata": {
    "tags": []
   },
   "outputs": [],
   "source": [
    "class Recompute(torch.autograd.Function):\n",
    "    @staticmethod\n",
    "    def forward(ctx, phony, recomputed, function, input):\n",
    "        ctx.recomputed = recomputed\n",
    "        ctx.function = function\n",
    "        ctx.input = input\n",
    "        return phony\n",
    "    \n",
    "    @staticmethod\n",
    "    def backward(ctx, grad_input):\n",
    "        input = ctx.input\n",
    "        input_leaf = input.detach().requires_grad_(\n",
    "            input.requires_grad\n",
    "        )\n",
    "        \n",
    "        with torch.enable_grad():\n",
    "            output = ctx.function(input_leaf)\n",
    "        \n",
    "        ctx.recomputed.append((output, input_leaf))\n",
    "        return "
   ]
  },
  {
   "cell_type": "code",
   "execution_count": 3,
   "id": "53decb4e-478d-4885-a016-2377578efe69",
   "metadata": {
    "tags": []
   },
   "outputs": [],
   "source": [
    "class HostUpdatedInterrupt(Exception):\n",
    "    def __init__(self, skip_sync):\n",
    "        self.skip_sync = skip_sync"
   ]
  },
  {
   "cell_type": "code",
   "execution_count": 4,
   "id": "5e6eb603-6a18-4485-9736-b98035349911",
   "metadata": {
    "tags": []
   },
   "outputs": [],
   "source": [
    "WORKER_MAP = \"WORKER_{}\""
   ]
  },
  {
   "cell_type": "code",
   "execution_count": null,
   "id": "1a3184fa-3b2a-407d-b114-29b8aacb5b3c",
   "metadata": {},
   "outputs": [],
   "source": [
    "class ParallelContext:\n",
    "    def init_rpc_workers(self, host, port):\n",
    "        if self.pipeline_parallel_size > 1:\n",
    "            init_method = f\"tcp://{host}:{port}\"\n",
    "        \n",
    "        rpc_worker_map = { \n",
    "            rank: WORKER_MAP.format(rank)\n",
    "            for rank in \n",
    "        }"
   ]
  },
  {
   "cell_type": "code",
   "execution_count": null,
   "id": "518e45c6-2222-4050-b70a-a26dd79155a7",
   "metadata": {},
   "outputs": [],
   "source": [
    "step 1: prob[0] = sigmoid(logit0 - logit1)\n",
    "step 2: logit0 = resid2[0] @ W_U[0], logit1 = resid[0] @ W_U[1]\n",
    "step 3: logit0 - logit1 = resid2[0] @ (W_U[0] - W_U[1])\n",
    "step 4: resid[2] = resid1[1] @ ln1 @ W_OV^{2, 0}\n",
    "step 5: logit0 - logit1 = resid[1] @ ln1 @ W_OV^{2, 0} @ (W_U[0] - W_U[1])"
   ]
  },
  {
   "cell_type": "code",
   "execution_count": null,
   "id": "ffe1fa59-5c17-4040-946b-2dce5eba333c",
   "metadata": {},
   "outputs": [],
   "source": [
    "weight @ input = output\n",
    "input = weight.T @ output"
   ]
  },
  {
   "cell_type": "code",
   "execution_count": null,
   "id": "13e64d36-38e2-46e6-8b0c-3ae5b98daf08",
   "metadata": {},
   "outputs": [],
   "source": [
    "cache[act_name]"
   ]
  },
  {
   "cell_type": "code",
   "execution_count": null,
   "id": "e1d7d599-ade5-429b-9495-238c19387af1",
   "metadata": {},
   "outputs": [],
   "source": [
    "model.W_E"
   ]
  },
  {
   "cell_type": "code",
   "execution_count": null,
   "id": "583743af-9fdd-486d-a70e-e52717fc4e38",
   "metadata": {},
   "outputs": [],
   "source": [
    "def patch_sender_head_output(orig_acts, hook, clean_cache, )"
   ]
  },
  {
   "cell_type": "code",
   "execution_count": null,
   "id": "094813cd-4c00-4932-8628-4275208a83f2",
   "metadata": {},
   "outputs": [],
   "source": [
    "_, clean_cache = model.run_with_cache(clean_tokens)\n",
    "_, corrupted_cache = model.run_with_cache(corrupted_tokens)"
   ]
  },
  {
   "cell_type": "code",
   "execution_count": 5,
   "id": "dcdd1627-ee67-4b33-b1e9-a670eceb01cc",
   "metadata": {
    "tags": []
   },
   "outputs": [],
   "source": [
    "from transformer_lens.utils import get_act_name"
   ]
  },
  {
   "cell_type": "code",
   "execution_count": 6,
   "id": "51914ed5-fe51-41e8-bb6b-1d0cc574d497",
   "metadata": {
    "tags": []
   },
   "outputs": [],
   "source": [
    "receiver_names = [get_act_name(\"v\", layer_idx) for layer_idx in [7, 8]]\n",
    "filter_receiver_name = lambda x: x in receiver_names"
   ]
  },
  {
   "cell_type": "code",
   "execution_count": 7,
   "id": "eb2544a9-6159-420e-a341-77d3a291d9e3",
   "metadata": {
    "tags": []
   },
   "outputs": [],
   "source": [
    "receiver_heads = [(7, 3), (7, 9), (8, 6), (8, 10)]\n",
    "receiver_layers = [7, 8]"
   ]
  },
  {
   "cell_type": "code",
   "execution_count": null,
   "id": "c8f2753b-52c2-42e3-8a14-bcc64a8d8561",
   "metadata": {},
   "outputs": [],
   "source": [
    "_, cache = model.run_with_cache(past_moves)"
   ]
  },
  {
   "cell_type": "code",
   "execution_count": null,
   "id": "da60487a-77bc-4339-ace4-613acf99c683",
   "metadata": {},
   "outputs": [],
   "source": [
    "top_neurons = cache[hook_name].std(dim=[0, 1]).argsort(descending=True)[:10]"
   ]
  },
  {
   "cell_type": "code",
   "execution_count": 8,
   "id": "4dc0c2e1-3e73-44be-9c44-a6bedb8a3408",
   "metadata": {
    "tags": []
   },
   "outputs": [],
   "source": [
    "layer_idx = 4"
   ]
  },
  {
   "cell_type": "code",
   "execution_count": 9,
   "id": "41da4222-6272-44bd-b22e-49f8837fbb09",
   "metadata": {
    "tags": []
   },
   "outputs": [],
   "source": [
    "from einops import einsum"
   ]
  },
  {
   "cell_type": "code",
   "execution_count": null,
   "id": "2a992167-1f7d-4646-ab46-a9d540312ad3",
   "metadata": {},
   "outputs": [],
   "source": [
    "def compute_consine_similairity(neuron_idx, feature):\n",
    "    W_in = model.W_in[layer_idx, neuron_idx]\n",
    "    W_in /= W_in.norm(dim=-1)\n",
    "    \n",
    "    feature /= feature.norm(dim=-1)\n",
    "    \n",
    "    return einsum(W_in, feature)"
   ]
  },
  {
   "cell_type": "code",
   "execution_count": null,
   "id": "8fa56736-ca9d-4df7-880a-2102bcc52a91",
   "metadata": {},
   "outputs": [],
   "source": [
    "step 1:"
   ]
  },
  {
   "cell_type": "code",
   "execution_count": null,
   "id": "c9574ab2-522d-4ea6-95ca-601c06e49a35",
   "metadata": {},
   "outputs": [],
   "source": [
    "tokens = model.to_tokens(text)"
   ]
  },
  {
   "cell_type": "code",
   "execution_count": null,
   "id": "17a4dcae-b2d5-4cef-8644-3bab22cd8347",
   "metadata": {},
   "outputs": [],
   "source": [
    "_, cache = model.run_with_cache(tokens)"
   ]
  },
  {
   "cell_type": "code",
   "execution_count": null,
   "id": "b2200ae3-badf-4ad9-b59c-8cb9d5d0260f",
   "metadata": {},
   "outputs": [],
   "source": [
    "input_components = torch.tensor([\n",
    "    cache[\"embed\"],\n",
    "    cache[\"pos_emed\"],\n",
    "    cache[\"result\", layer_idx]\n",
    "])"
   ]
  },
  {
   "cell_type": "code",
   "execution_count": null,
   "id": "d1373565-dbe7-4ed7-bf45-e42144bfae9a",
   "metadata": {},
   "outputs": [],
   "source": [
    "W_Q = model.W_Q[layer_idx, head_idx]\n",
    "decomposed_queries = einsum(\n",
    "    input_components,\n",
    "    W_Q\n",
    ")\n",
    "\n",
    "W_K = model.W_K[layer_idx, head_idx]\n",
    "decomposed_keys = einsum(\n",
    "    input_components,\n",
    "    W_K\n",
    ")"
   ]
  },
  {
   "cell_type": "code",
   "execution_count": null,
   "id": "3b1f292d-4b5a-4113-a5d2-53bfbf1d2695",
   "metadata": {},
   "outputs": [],
   "source": [
    "decomposed_scores = einsum(\n",
    "    decomposed_queries, decomposed_keys\n",
    ")"
   ]
  },
  {
   "cell_type": "code",
   "execution_count": null,
   "id": "f6070042-10e8-4728-a772-af9235e99ecc",
   "metadata": {},
   "outputs": [],
   "source": [
    "softmax(x @ W_Q @ W_K.T @ x.T) @ x @ W_V @ W_O"
   ]
  },
  {
   "cell_type": "code",
   "execution_count": null,
   "id": "203a44e2-8dd0-426c-93cd-b29ccddbaf4f",
   "metadata": {},
   "outputs": [],
   "source": [
    "def by_row_parallelism(inputs, weights):\n",
    "    inp_per_partition = inputs.shape[-1] // 2\n",
    "    w_per_partition = weights.shape[0] // 2\n",
    "    \n",
    "    inp1, inp2 = inputs[:, :inp_per_partition], inputs[:, inp_per_partition:]\n",
    "    w1, w2 = weights[:w_per_partition, :], weights[w_per_partition:, :]\n",
    "    \n",
    "    out1 = inp1 @ w1\n",
    "    out2 = inp2 @ w2\n",
    "    \n",
    "    return out1 + out2"
   ]
  },
  {
   "cell_type": "code",
   "execution_count": null,
   "id": "2801546b-2a2b-41f9-936a-1816568d9b7b",
   "metadata": {},
   "outputs": [],
   "source": []
  }
 ],
 "metadata": {
  "kernelspec": {
   "display_name": "Python 3 (ipykernel)",
   "language": "python",
   "name": "python3"
  },
  "language_info": {
   "codemirror_mode": {
    "name": "ipython",
    "version": 3
   },
   "file_extension": ".py",
   "mimetype": "text/x-python",
   "name": "python",
   "nbconvert_exporter": "python",
   "pygments_lexer": "ipython3",
   "version": "3.8.16"
  }
 },
 "nbformat": 4,
 "nbformat_minor": 5
}
