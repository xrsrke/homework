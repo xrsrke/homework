{
 "cells": [
  {
   "cell_type": "markdown",
   "id": "1c6f2863-35e4-4ca3-8d20-a212fc86ec25",
   "metadata": {},
   "source": [
    "### Engineering"
   ]
  },
  {
   "cell_type": "code",
   "execution_count": 1,
   "id": "b398842e-7b5f-4e2b-b9d4-040d4f18f7ae",
   "metadata": {
    "tags": []
   },
   "outputs": [],
   "source": [
    "import torch\n",
    "from torch import nn\n",
    "import torch.nn.functional as F"
   ]
  },
  {
   "cell_type": "code",
   "execution_count": 3,
   "id": "29f59f78-905c-46fe-9bdc-7205f0223df2",
   "metadata": {
    "tags": []
   },
   "outputs": [],
   "source": [
    "import torch.distributed as dist\n",
    "import torch.distributed.rpc as rpc"
   ]
  },
  {
   "cell_type": "code",
   "execution_count": 5,
   "id": "3bdf6c88-e1fd-4e1b-b29b-b74d766c1cb7",
   "metadata": {
    "tags": []
   },
   "outputs": [],
   "source": [
    "class DataParallelGroup:\n",
    "    def __init__(self, module, parallel_context):\n",
    "        self.module = module\n",
    "        self.parallel_context = parallel_context\n",
    "    \n",
    "    def parallelize(self):\n",
    "        module = self.module\n",
    "        \n",
    "        if self.data_parallel_size > 1:\n",
    "            for p in module.paramaters():\n",
    "                if p.requires_grad:\n",
    "                    p.register_hook(_avg_grad_hook)\n",
    "        \n",
    "        return module\n",
    "    \n",
    "    def _avg_grad_hook(self, grad):\n",
    "        data_parallel_size = self.parallel_context.data_parallel_size\n",
    "        process_group = self.parallel_context.get_group(ParallelMode.DATA)\n",
    "        grad /= data_parallel_size\n",
    "        \n",
    "        dist.all_reduce(grad, op=dist.ReduceOp.SUM, group=process_group)\n",
    "        \n",
    "        return grad"
   ]
  },
  {
   "cell_type": "code",
   "execution_count": null,
   "id": "d150f8a8-cb6b-44ab-b282-f06e9df7b0b5",
   "metadata": {},
   "outputs": [],
   "source": [
    "class Checkpoint(torch.autograd.Function):\n",
    "    @staticmethod\n",
    "    def forward(ctx, phony, recomputed, function, input):\n",
    "        ctx.recomputed = recomputed\n",
    "        ctx.function = function\n",
    "        \n",
    "        with torch.no_grad():\n",
    "            output = function(input)\n",
    "        return output\n",
    "    \n",
    "    @staticmethod\n",
    "    def backward(ctx, grad_input):\n",
    "        output, input_leaf = ctx.recomputed.pop()\n",
    "        \n",
    "        with torch.enable_grad():\n",
    "            torch.autograd.backward(output, grad_input)\n",
    "        \n",
    "        return "
   ]
  },
  {
   "cell_type": "code",
   "execution_count": null,
   "id": "36981561-f663-449d-900b-1314cf982c3c",
   "metadata": {},
   "outputs": [],
   "source": [
    "step 1: register\n",
    "step 2: user\n",
    "step 3: pytorch trigger\n",
    "step 4: run"
   ]
  },
  {
   "cell_type": "code",
   "execution_count": 6,
   "id": "89e444e1-24c1-44f7-8731-79b3c3b80f1e",
   "metadata": {
    "tags": []
   },
   "outputs": [],
   "source": [
    "world_size = 16"
   ]
  },
  {
   "cell_type": "code",
   "execution_count": 7,
   "id": "47c647f9-da40-4750-b40a-b77d5a1cfa8c",
   "metadata": {
    "tags": []
   },
   "outputs": [],
   "source": [
    "tensor_model_parallel_size = 2\n",
    "pipeline_model_parallel_size = 4"
   ]
  },
  {
   "cell_type": "code",
   "execution_count": 8,
   "id": "b9c3434b-7c30-4352-91f8-f99fa0c86edd",
   "metadata": {
    "tags": []
   },
   "outputs": [],
   "source": [
    "num_pipeline_model_parallel_groups = world_size // pipeline_model_parallel_size"
   ]
  },
  {
   "cell_type": "code",
   "execution_count": 9,
   "id": "b9a3e017-db31-4836-a5c8-0b0e8cfdca77",
   "metadata": {
    "tags": []
   },
   "outputs": [],
   "source": [
    "data_parallel_groups = []"
   ]
  },
  {
   "cell_type": "code",
   "execution_count": 10,
   "id": "93f9ff12-cc29-4387-8ba4-3e502d661e5e",
   "metadata": {
    "tags": []
   },
   "outputs": [
    {
     "name": "stdout",
     "output_type": "stream",
     "text": [
      "[0, 2]\n",
      "[1, 3]\n",
      "[4, 6]\n",
      "[5, 7]\n",
      "[8, 10]\n",
      "[9, 11]\n",
      "[12, 14]\n",
      "[13, 15]\n"
     ]
    }
   ],
   "source": [
    "for i in range(pipeline_model_parallel_size):\n",
    "    start_rank = i*num_pipeline_model_parallel_groups\n",
    "    end_rank = (i+1)*num_pipeline_model_parallel_groups\n",
    "    \n",
    "    for j in range(tensor_model_parallel_size):\n",
    "        ranks = list(range(\n",
    "            start_rank+j,\n",
    "            end_rank,\n",
    "            tensor_model_parallel_size\n",
    "        ))\n",
    "        print(ranks)"
   ]
  },
  {
   "cell_type": "code",
   "execution_count": null,
   "id": "5d9e48ed-fac3-45ac-91ce-10fbaf2f7f08",
   "metadata": {},
   "outputs": [],
   "source": []
  },
  {
   "cell_type": "code",
   "execution_count": null,
   "id": "d0aac43d-718b-4730-8d40-1cc9f34457c4",
   "metadata": {},
   "outputs": [],
   "source": [
    "W_E = model.W_E\n",
    "W_Q = model.W_Q[1, 4]\n",
    "W_K = model.W_K[1, 4]\n",
    "W_O = model.W_O[0, 7]\n",
    "W_V = model.W_V[0, 7]"
   ]
  },
  {
   "cell_type": "code",
   "execution_count": null,
   "id": "e339755b-e8d1-4869-a48d-a7e226813b1c",
   "metadata": {},
   "outputs": [],
   "source": [
    "K = W_E @ W_V @ W_O @ W_K"
   ]
  },
  {
   "cell_type": "code",
   "execution_count": null,
   "id": "6dacf535-56fa-4ab3-b251-58cb5fc71e41",
   "metadata": {},
   "outputs": [],
   "source": [
    "Q = W_E @ W_Q"
   ]
  },
  {
   "cell_type": "code",
   "execution_count": null,
   "id": "da0dcd62-7c1d-49aa-b431-332f9bb1ef5a",
   "metadata": {},
   "outputs": [],
   "source": [
    "tokens = model.to_tokens(text)"
   ]
  },
  {
   "cell_type": "code",
   "execution_count": null,
   "id": "a8e439ba-d97d-465d-98b9-cf92f882a81c",
   "metadata": {},
   "outputs": [],
   "source": [
    "_, cache = model.run_with_cache(\n",
    "    tokens\n",
    ")"
   ]
  },
  {
   "cell_type": "code",
   "execution_count": null,
   "id": "fd7af86d-8f7c-4b0d-a75c-cac4876d6150",
   "metadata": {},
   "outputs": [],
   "source": [
    "W_Q = model.W_Q[layer_idx, head_idx]\n",
    "W_K = model.W_K[layer_idx, head_idx]"
   ]
  },
  {
   "cell_type": "code",
   "execution_count": null,
   "id": "8603e11a-babc-4448-9cd5-f57bc8e3e7bc",
   "metadata": {},
   "outputs": [],
   "source": [
    "components = torch.tensor([\n",
    "    cache[\"embed\"],\n",
    "    cache[\"pos_embed\"],\n",
    "    cache[\"result\", layer_idx-1]\n",
    "])"
   ]
  },
  {
   "cell_type": "code",
   "execution_count": null,
   "id": "40a7b140-6f92-4c1b-a5d5-f146ed34424f",
   "metadata": {},
   "outputs": [],
   "source": [
    "from einops"
   ]
  },
  {
   "cell_type": "code",
   "execution_count": null,
   "id": "95b59743-0cca-4d7e-a1cf-78628c383bad",
   "metadata": {},
   "outputs": [],
   "source": [
    "decomposed_Q = "
   ]
  },
  {
   "cell_type": "code",
   "execution_count": 11,
   "id": "32d11170-fd58-4cac-be2e-f4ccaf4be487",
   "metadata": {
    "tags": []
   },
   "outputs": [],
   "source": [
    "import torch\n",
    "from torch import nn\n",
    "import torch.nn.functional as F"
   ]
  },
  {
   "cell_type": "code",
   "execution_count": 12,
   "id": "59938e28-5979-4c3a-8d46-4aa708651b11",
   "metadata": {
    "tags": []
   },
   "outputs": [],
   "source": [
    "import torch.distributed as dist\n",
    "import torch.distributed.rpc as rpc"
   ]
  },
  {
   "cell_type": "code",
   "execution_count": null,
   "id": "50ada306-5ff3-4d14-8273-d4e9c718ce5a",
   "metadata": {},
   "outputs": [],
   "source": [
    "class Number() {\n",
    "    public:\n",
    "        int value;\n",
    "    \n",
    "        isLargerThanZero() {\n",
    "            \n",
    "        }\n",
    "}"
   ]
  },
  {
   "cell_type": "code",
   "execution_count": null,
   "id": "52b8d95a-776a-4742-9b76-936ba96aa841",
   "metadata": {},
   "outputs": [],
   "source": [
    "mine_dir = linear_probe[..., 2]\n",
    "their_dir = linear_probe[..., 1]"
   ]
  },
  {
   "cell_type": "code",
   "execution_count": null,
   "id": "5ad86786-2f81-4f26-ac5a-df7b45e5a2e5",
   "metadata": {},
   "outputs": [],
   "source": [
    "step 1: wrap\n",
    "step 2: user\n",
    "step 3: pytorch trigger\n",
    "step 4: create job\n",
    "step 5: execute"
   ]
  },
  {
   "cell_type": "code",
   "execution_count": 16,
   "id": "66aa666d-a9ba-44dd-b5e9-f163c3aca31f",
   "metadata": {
    "tags": []
   },
   "outputs": [],
   "source": [
    "n_partitions = 5\n",
    "n_microbatches = 3"
   ]
  },
  {
   "cell_type": "code",
   "execution_count": 17,
   "id": "db80b8ee-9e06-4aa7-90f9-d1d339915f9b",
   "metadata": {
    "tags": []
   },
   "outputs": [],
   "source": [
    "n_clock_cycles = n_partitions + n_microbatches - 1\n",
    "\n",
    "schedules = []\n",
    "for clock_idx in range(n_clock_cycles):\n",
    "    start_partrition = max(clock_idx + 1 - n_microbatches, 0)\n",
    "    end_partition = min(clock_idx + 1, n_partitions)\n",
    "\n",
    "    tasks = []\n",
    "    for partition_idx in range(start_partrition, end_partition):\n",
    "        microbatch_idx = clock_idx - partition_idx\n",
    "        tasks.append((microbatch_idx, partition_idx))\n",
    "\n",
    "    schedules.append(tasks)"
   ]
  },
  {
   "cell_type": "code",
   "execution_count": 18,
   "id": "642beef6-95a4-42cb-81cf-8e6aca0f4302",
   "metadata": {
    "tags": []
   },
   "outputs": [
    {
     "data": {
      "text/plain": [
       "[[(0, 0)],\n",
       " [(1, 0), (0, 1)],\n",
       " [(2, 0), (1, 1), (0, 2)],\n",
       " [(2, 1), (1, 2), (0, 3)],\n",
       " [(2, 2), (1, 3), (0, 4)],\n",
       " [(2, 3), (1, 4)],\n",
       " [(2, 4)]]"
      ]
     },
     "execution_count": 18,
     "metadata": {},
     "output_type": "execute_result"
    }
   ],
   "source": [
    "schedules"
   ]
  },
  {
   "cell_type": "code",
   "execution_count": 20,
   "id": "b2f9d2a1-e8a7-44a9-a0a8-56ce9073f93c",
   "metadata": {
    "tags": []
   },
   "outputs": [],
   "source": [
    "OUTPUT_METADATA = {\n",
    "    (0, 0): (0, 1),\n",
    "    (0, 1): (0, 2),\n",
    "    \n",
    "    (1, 0): (1, 1),\n",
    "    (1, 1): (1, 2),\n",
    "    \n",
    "    (2, 0): (2, 1),\n",
    "    (2, 1): (2, 2),\n",
    "    \n",
    "    \n",
    "    (3, 0): (3, 1),\n",
    "    (3, 1): (3, 2),\n",
    "    \n",
    "    (4, 0): (4, 1),\n",
    "    (4, 1): (4, 2),\n",
    "}"
   ]
  },
  {
   "cell_type": "code",
   "execution_count": 21,
   "id": "7593aff2-e26f-4691-b7f5-09d9337749eb",
   "metadata": {
    "tags": []
   },
   "outputs": [
    {
     "data": {
      "text/plain": [
       "(2, 1)"
      ]
     },
     "execution_count": 21,
     "metadata": {},
     "output_type": "execute_result"
    }
   ],
   "source": [
    "OUTPUT_METADATA[(2, 0)]"
   ]
  },
  {
   "cell_type": "code",
   "execution_count": 23,
   "id": "d65022d0-3a42-48e8-ba63-4935ce40f2ca",
   "metadata": {
    "tags": []
   },
   "outputs": [],
   "source": [
    "world_size = 8"
   ]
  },
  {
   "cell_type": "code",
   "execution_count": 24,
   "id": "421b908c-f457-41be-b56b-173b908c8796",
   "metadata": {
    "tags": []
   },
   "outputs": [],
   "source": [
    "pipeline_parallel_size = 2"
   ]
  },
  {
   "cell_type": "code",
   "execution_count": 25,
   "id": "0a7c6aed-9754-4dff-80cf-8d3ea8150235",
   "metadata": {
    "tags": []
   },
   "outputs": [],
   "source": [
    "num_pipeline_parallel_groups = world_size // pipeline_parallel_size"
   ]
  },
  {
   "cell_type": "code",
   "execution_count": 26,
   "id": "0da8d3ba-6726-4c2a-a27f-a5ac20257e58",
   "metadata": {
    "tags": []
   },
   "outputs": [
    {
     "data": {
      "text/plain": [
       "4"
      ]
     },
     "execution_count": 26,
     "metadata": {},
     "output_type": "execute_result"
    }
   ],
   "source": [
    "num_pipeline_parallel_groups"
   ]
  },
  {
   "cell_type": "code",
   "execution_count": 31,
   "id": "9c20994f-13a6-4f06-bf28-0d6547a70bce",
   "metadata": {
    "tags": []
   },
   "outputs": [],
   "source": [
    "groups = []\n",
    "\n",
    "for i in range(num_pipeline_parallel_groups):\n",
    "    ranks = list(range(i, world_size, num_pipeline_parallel_groups))\n",
    "    groups.append(ranks)"
   ]
  },
  {
   "cell_type": "code",
   "execution_count": 33,
   "id": "62d91dea-f9ed-42b8-9336-e1d4e8078f17",
   "metadata": {
    "tags": []
   },
   "outputs": [
    {
     "data": {
      "text/plain": [
       "[[0, 4], [1, 5], [2, 6], [3, 7]]"
      ]
     },
     "execution_count": 33,
     "metadata": {},
     "output_type": "execute_result"
    }
   ],
   "source": [
    "groups"
   ]
  },
  {
   "cell_type": "code",
   "execution_count": 36,
   "id": "091739f9-a07f-4a67-a6da-98220959d7db",
   "metadata": {
    "tags": []
   },
   "outputs": [],
   "source": [
    "def find_index(number, lst):\n",
    "    return next((i for i, sublist in enumerate(lst) if number in sublist), None)"
   ]
  },
  {
   "cell_type": "code",
   "execution_count": 38,
   "id": "ab30cae4-7f0b-47df-89ba-2b559e095cd3",
   "metadata": {
    "tags": []
   },
   "outputs": [
    {
     "data": {
      "text/plain": [
       "1"
      ]
     },
     "execution_count": 38,
     "metadata": {},
     "output_type": "execute_result"
    }
   ],
   "source": [
    "find_index(5, groups)"
   ]
  },
  {
   "cell_type": "code",
   "execution_count": null,
   "id": "f85dede5-de2e-4e3a-919e-86c26063fd69",
   "metadata": {},
   "outputs": [],
   "source": []
  }
 ],
 "metadata": {
  "kernelspec": {
   "display_name": "Python 3 (ipykernel)",
   "language": "python",
   "name": "python3"
  },
  "language_info": {
   "codemirror_mode": {
    "name": "ipython",
    "version": 3
   },
   "file_extension": ".py",
   "mimetype": "text/x-python",
   "name": "python",
   "nbconvert_exporter": "python",
   "pygments_lexer": "ipython3",
   "version": "3.8.16"
  }
 },
 "nbformat": 4,
 "nbformat_minor": 5
}
