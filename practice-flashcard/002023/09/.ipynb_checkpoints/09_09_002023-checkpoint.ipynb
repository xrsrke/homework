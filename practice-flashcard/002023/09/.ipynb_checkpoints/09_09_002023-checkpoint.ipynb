{
 "cells": [
  {
   "cell_type": "markdown",
   "id": "cf32c5f3-c25b-4f11-ba68-0e116c8445ae",
   "metadata": {},
   "source": [
    "### Engineering"
   ]
  },
  {
   "cell_type": "code",
   "execution_count": 1,
   "id": "6d45c318-83a5-41f2-82ae-4e31be12fa29",
   "metadata": {
    "tags": []
   },
   "outputs": [],
   "source": [
    "import torch\n",
    "from torch import torch\n",
    "import torch.nn.functional as F"
   ]
  },
  {
   "cell_type": "code",
   "execution_count": 2,
   "id": "c237de9d-9926-486d-a46d-8027fddabb09",
   "metadata": {
    "tags": []
   },
   "outputs": [],
   "source": [
    "import torch.distributed as dist\n",
    "import torch.distributed.rpc as rpc"
   ]
  },
  {
   "cell_type": "code",
   "execution_count": null,
   "id": "fcecb39f-a651-499b-a7d2-2792ed019525",
   "metadata": {},
   "outputs": [],
   "source": [
    "set_device_map(\"worker1\", {\"cuda:0\": \"cuda:1\"})"
   ]
  },
  {
   "cell_type": "code",
   "execution_count": null,
   "id": "ba6888f7-60e7-4116-b9c3-8214901908e1",
   "metadata": {},
   "outputs": [],
   "source": [
    "class ParallelContext:\n",
    "    def init_rpc_workers(self, host, port):\n",
    "        if self.pipeline_parallel_size > 1:\n",
    "            rank = self.get_local_rank(ParallelMode.GLOBAL)\n",
    "            world_size = self.get_world_size(ParallelMode.GLOBAL)\n",
    "            \n",
    "            init_method = f\"tcp://{host}:{port}\"\n",
    "            options = rpc.RpcBackendOptions(\n",
    "                init_method=init_method\n",
    "            )\n",
    "            \n",
    "            if torch.cuda.is_available():\n",
    "                ranks = self.get_ranks_in_group(ParallelMode.GLOBAL)\n",
    "                for other_rank in ranks:\n",
    "                    if other_rank == rank:\n",
    "                        continue\n",
    "                    options.set_device_map(\n",
    "                        WORKER_NAME.format(other_rank),\n",
    "                        {rank: other_rank}\n",
    "                    )\n",
    "            \n",
    "            rpc.init_rpc(\n",
    "                name=WORKER_NAME,\n",
    "                rank=rank,\n",
    "                world_size=world_size,\n",
    "                rpc_backend_options=options\n",
    "            )"
   ]
  },
  {
   "cell_type": "code",
   "execution_count": null,
   "id": "89601bda-b8f5-4932-bccc-8c92c81891cf",
   "metadata": {},
   "outputs": [],
   "source": [
    "int *h_a, *h_b, *h_c;"
   ]
  },
  {
   "cell_type": "code",
   "execution_count": null,
   "id": "d02297f2-c2ee-4657-a2c9-00224a9d951d",
   "metadata": {},
   "outputs": [],
   "source": [
    "size_t bytes = sizeof(int)*n;"
   ]
  },
  {
   "cell_type": "code",
   "execution_count": null,
   "id": "09b47c1e-53b4-4129-97ab-153991846099",
   "metadata": {},
   "outputs": [],
   "source": [
    "h_a = (int*)malloc(bytes)\n",
    "h_b = (int*)malloc(bytes)\n",
    "h_c = (int*)malloc(bytes)"
   ]
  },
  {
   "cell_type": "code",
   "execution_count": null,
   "id": "e000e2de-edf1-4379-bfb9-c1214bbbf4df",
   "metadata": {},
   "outputs": [],
   "source": [
    "message passing, collective communication, p2p communication"
   ]
  },
  {
   "cell_type": "code",
   "execution_count": null,
   "id": "38425128-71e5-427a-8502-21a0fa185caf",
   "metadata": {},
   "outputs": [],
   "source": [
    "prob[0] = sigmoid(logit0 - logit1)"
   ]
  },
  {
   "cell_type": "code",
   "execution_count": 4,
   "id": "183a3063-decb-44ab-a26e-117477201b55",
   "metadata": {
    "tags": []
   },
   "outputs": [],
   "source": [
    "receiver_heads = [(7, 3), (7, 9), (8, 6), (8, 10)]\n",
    "receiver_layers = [7, 8]"
   ]
  },
  {
   "cell_type": "code",
   "execution_count": null,
   "id": "4f0dca95-ed12-402c-bd68-5be9fe004dfb",
   "metadata": {},
   "outputs": [],
   "source": [
    "_, clean_cache = model.run_with_cache(clean_tokens)\n",
    "_, corrupted_cache = model.run_with_cache(corrupted_tokens)"
   ]
  },
  {
   "cell_type": "code",
   "execution_count": 5,
   "id": "91de4f5d-a1ad-42e4-aacc-8280d8f20a1c",
   "metadata": {
    "tags": []
   },
   "outputs": [],
   "source": [
    "from itertools import product\n",
    "from functools import partial"
   ]
  },
  {
   "cell_type": "code",
   "execution_count": 6,
   "id": "bbaf112d-89fc-4f67-8dc0-d9e0fc0204f6",
   "metadata": {
    "tags": []
   },
   "outputs": [],
   "source": [
    "n_heads = 12"
   ]
  },
  {
   "cell_type": "code",
   "execution_count": 7,
   "id": "f7560e2e-a24b-4d80-95bc-b61b832d666c",
   "metadata": {
    "tags": []
   },
   "outputs": [],
   "source": [
    "sender_heads = list(product(range(max(receiver_layers)), range(n_heads)))"
   ]
  },
  {
   "cell_type": "code",
   "execution_count": 11,
   "id": "427b940f-5d2a-4ecd-9d50-15207c2a5adc",
   "metadata": {
    "tags": []
   },
   "outputs": [],
   "source": [
    "def patch_sender_head_output(acts, hook, clean_cache, corrupted_cache, trg_head):\n",
    "    trg_layer_idx, trg_head_idx = trg_head\n",
    "    if hook.layer() == trg_layer_idx:\n",
    "        acts[:, :, trg_head_idx] = corrupted_cache[hook.name][:, :, trg_head_idx]\n",
    "    else:\n",
    "        acts = corrupted_cache[hook.name]\n",
    "    \n",
    "    return acts"
   ]
  },
  {
   "cell_type": "code",
   "execution_count": 13,
   "id": "0ac2c0bb-e3f9-457a-9769-2d2338b67dc3",
   "metadata": {
    "tags": []
   },
   "outputs": [],
   "source": [
    "def patch_receiver_head_input(acts, hook, patched_cache, receiver_heads):\n",
    "    head_idxs = [head_idx for layer_idx, head_idx in receiver_heads if layer_idx == hook.layer()]\n",
    "    acts[:, :, head_idxs] = patched_cache[hook.name][:, :, head_idxs]\n",
    "    return acts"
   ]
  },
  {
   "cell_type": "code",
   "execution_count": 12,
   "id": "b7a7587d-5681-4cba-90d3-72f0a5366715",
   "metadata": {
    "tags": []
   },
   "outputs": [],
   "source": [
    "from transformer_lens.utils import get_act_name"
   ]
  },
  {
   "cell_type": "code",
   "execution_count": null,
   "id": "60f00674-2f8d-4983-963d-9ed6326d590f",
   "metadata": {},
   "outputs": [],
   "source": [
    "for layer_idx, head_idx in range(sender_heads):\n",
    "    model.reset_hooks()\n",
    "    hook_name = get_act_name(\"z\", layer_idx)\n",
    "    hook_func = partial(\n",
    "        patch_sender_head_output,\n",
    "        clean_cache=clean_cache,\n",
    "        corrupted_cache=corrupted_cache,\n",
    "        trg_head=(layer_idx, head_idx)\n",
    "    )\n",
    "    model.add_hook(hook_name, hook_func)\n",
    "    _, patched_cache = model.run_with_cache(clean_tokens)\n",
    "    \n",
    "    hook_name = get_act_name(\"v\", layer_idx)\n",
    "    hook_func = partial(\n",
    "        patch_receiver_head_input\n",
    "    )\n",
    "    patched_logits = model.run_with_hooks(\n",
    "        clean_tokens,\n",
    "        fwd_hooks=[hook_name]\n",
    "    )"
   ]
  },
  {
   "cell_type": "code",
   "execution_count": null,
   "id": "2216dd37-5c74-45f8-b3ab-a0a5ce04242e",
   "metadata": {},
   "outputs": [],
   "source": [
    "W_E = model.W_E\n",
    "W_U = model.W_U\n",
    "\n",
    "OV_circuit = model.W_V[layer_idx, head_idx] @ model.W_O[layer_idx, head_idx]"
   ]
  },
  {
   "cell_type": "code",
   "execution_count": null,
   "id": "f63c5eea-d353-4d9c-9cf1-17ca993bec7c",
   "metadata": {},
   "outputs": [],
   "source": [
    "full_OV_circuit = W_E @ OV_circuit @ W_U"
   ]
  },
  {
   "cell_type": "code",
   "execution_count": null,
   "id": "d8443b8b-30b4-4c1c-ac34-aedb5181113b",
   "metadata": {},
   "outputs": [],
   "source": [
    "step 1: logit_diff = W_U[:, 0] - W_U[:, 1]\n",
    "step 2: approximate layer norm\n",
    "step 3: inverse transformation\n",
    "step 4: coeff.T @ logit_diff"
   ]
  },
  {
   "cell_type": "code",
   "execution_count": null,
   "id": "a0c26b92-2cbb-494f-8696-33062fe44d82",
   "metadata": {},
   "outputs": [],
   "source": []
  },
  {
   "cell_type": "code",
   "execution_count": null,
   "id": "d6d56587-bb4b-422d-adfc-e97acf92fd98",
   "metadata": {},
   "outputs": [],
   "source": [
    "- clock cycle 1: F_{i, j}\n",
    "- clock cycle 2: F_{i+1, j}, F_{i, j+1}\n",
    "- clock cycle 3: F_{i+2, j}, F_{i+1, j+1}, F_{i, j+2} "
   ]
  },
  {
   "cell_type": "code",
   "execution_count": null,
   "id": "793d228d-2547-4c86-8709-28701dbed3b6",
   "metadata": {},
   "outputs": [],
   "source": [
    "- clock cycle 1: F_{0, 0}\n",
    "- clock cycle 2: F_{1, 0}, F_{0, 1}\n",
    "- clock cycle 3: F_{2, 0}, F_{1, 1}\n",
    "- clock cycle 4: F_{2, 1}"
   ]
  },
  {
   "cell_type": "code",
   "execution_count": null,
   "id": "a2efb46e-7af4-4791-b4d0-75745cc67e91",
   "metadata": {},
   "outputs": [],
   "source": []
  },
  {
   "cell_type": "code",
   "execution_count": null,
   "id": "72239daa-8dc0-41ad-9c39-f1509bb2f63d",
   "metadata": {},
   "outputs": [],
   "source": [
    "tokens = model.to_tokens(text)"
   ]
  },
  {
   "cell_type": "code",
   "execution_count": null,
   "id": "07ff493c-c89a-4e18-8264-0b1abece7b71",
   "metadata": {},
   "outputs": [],
   "source": [
    "_, cache = model.run_with_cache(tokens)"
   ]
  },
  {
   "cell_type": "code",
   "execution_count": null,
   "id": "51fba6b9-4ceb-4ee3-8a36-adfbaa474ee7",
   "metadata": {},
   "outputs": [],
   "source": [
    "cache[\"pattern\", layer_idx][:, head_idx][:, -1, 0]"
   ]
  },
  {
   "cell_type": "code",
   "execution_count": null,
   "id": "0de60735-99e9-45dc-af08-f35ba3ed77d4",
   "metadata": {},
   "outputs": [],
   "source": [
    "- step 1: head_out = L0H00(pre_resid)\n",
    "- step 2: resid0 = pre_resid + head_out\n",
    "- step 3: mlp1_out = MLP1(resid0)\n",
    "- step 4: resid1 = resid0 + mlp1_out\n",
    "- step 5: mlp2_out = MLP2(resid1)\n",
    "- step 6: resid2 = resid1 + mlp2_out"
   ]
  },
  {
   "cell_type": "code",
   "execution_count": 14,
   "id": "d28159a5-33a4-48ce-9f39-d9960e061a16",
   "metadata": {
    "tags": []
   },
   "outputs": [],
   "source": [
    "layer_idx, head_idx = 0, 0"
   ]
  },
  {
   "cell_type": "code",
   "execution_count": null,
   "id": "a0bdc872-6d7e-45da-b74a-f9eb279626a8",
   "metadata": {},
   "outputs": [],
   "source": [
    "W_OV = model.W_V[layer_idx, head_idx] @ model.W_O[layer_idx, head_idx]"
   ]
  },
  {
   "cell_type": "code",
   "execution_count": null,
   "id": "33509580-43ad-4cf5-95c7-3ccc26166ee2",
   "metadata": {},
   "outputs": [],
   "source": [
    "W_E = model.W_E\n",
    "open_embeddings = W_E[:, open_idx]\n",
    "close_embeddings = W_E[:, close_idx]"
   ]
  },
  {
   "cell_type": "code",
   "execution_count": null,
   "id": "0eccd24e-e626-46fa-bc47-02f0dd181fa0",
   "metadata": {},
   "outputs": [],
   "source": [
    "open_resid = open_embeddings + open_embeddings @ W_OV\n",
    "close_resid = close_embeddings + close_embeddings @ W_OV"
   ]
  },
  {
   "cell_type": "code",
   "execution_count": null,
   "id": "9b181715-0963-43fb-998e-49cba3a7591f",
   "metadata": {},
   "outputs": [],
   "source": [
    "similarity = torch.cosine_similarity(open_resid, close_resid)"
   ]
  },
  {
   "cell_type": "code",
   "execution_count": null,
   "id": "eb421b33-cba7-403c-8290-f4b706a39a4d",
   "metadata": {},
   "outputs": [],
   "source": []
  },
  {
   "cell_type": "code",
   "execution_count": 1,
   "id": "ceb0242e-b143-498a-ad3b-ce61fcdcbf3f",
   "metadata": {
    "tags": []
   },
   "outputs": [],
   "source": [
    "import torch\n",
    "import torch.nn as nn\n",
    "import torch.optim as optim\n",
    "\n",
    "# Define the model\n",
    "model = nn.Linear(5, 1)\n",
    "\n",
    "# Initialize the optimizer\n",
    "optimizer = optim.Adam(model.parameters(), lr=0.001)\n",
    "\n",
    "# Dummy data\n",
    "input_tensor = torch.randn(10, 5)\n",
    "target_tensor = torch.randn(10, 1)\n",
    "\n",
    "# Forward pass\n",
    "output = model(input_tensor)\n",
    "\n",
    "# Loss calculation\n",
    "loss_function = nn.MSELoss()\n",
    "loss = loss_function(output, target_tensor)\n",
    "\n",
    "# Backward pass\n",
    "loss.backward()\n",
    "\n",
    "# Optimizer step\n",
    "optimizer.step()\n"
   ]
  },
  {
   "cell_type": "code",
   "execution_count": 2,
   "id": "9dd7cb17-be21-4905-b602-884165fcec37",
   "metadata": {
    "tags": []
   },
   "outputs": [
    {
     "name": "stdout",
     "output_type": "stream",
     "text": [
      "weight: tensor([[-0.3182,  0.2353, -0.1796, -0.0823, -0.4102]])\n",
      "bias: tensor([-0.3449])\n",
      "weight gradient: tensor([[ 0.1302,  0.5341, -0.2746, -0.0766, -0.8658]])\n",
      "bias gradient: tensor([0.5989])\n",
      "Optimizer states: {0: {'step': tensor(1.), 'exp_avg': tensor([[ 0.0130,  0.0534, -0.0275, -0.0077, -0.0866]]), 'exp_avg_sq': tensor([[1.6940e-05, 2.8530e-04, 7.5381e-05, 5.8721e-06, 7.4961e-04]])}, 1: {'step': tensor(1.), 'exp_avg': tensor([0.0599]), 'exp_avg_sq': tensor([0.0004])}}\n"
     ]
    }
   ],
   "source": [
    "# Model Parameters\n",
    "for name, param in model.named_parameters():\n",
    "    print(f\"{name}: {param.data}\")\n",
    "\n",
    "# Gradients\n",
    "for name, param in model.named_parameters():\n",
    "    print(f\"{name} gradient: {param.grad}\")\n",
    "\n",
    "# Optimizer States\n",
    "print(\"Optimizer states:\", optimizer.state_dict()['state'])\n"
   ]
  },
  {
   "cell_type": "code",
   "execution_count": 3,
   "id": "293d8df2-1386-42f9-a06d-c03f9461ba45",
   "metadata": {},
   "outputs": [],
   "source": [
    "import torch\n",
    "from torch import nn\n",
    "import torch.nn.functional as F"
   ]
  },
  {
   "cell_type": "code",
   "execution_count": null,
   "id": "2180fd5c-143c-4d84-b1f4-4de5656ff0bb",
   "metadata": {},
   "outputs": [],
   "source": [
    "mlp > residual stream > attention head"
   ]
  },
  {
   "cell_type": "code",
   "execution_count": null,
   "id": "325d4e4b-6ddb-45e7-8954-ef8b5804037a",
   "metadata": {},
   "outputs": [],
   "source": [
    "accuracy, latency, data quality, distribution shift"
   ]
  },
  {
   "cell_type": "code",
   "execution_count": 4,
   "id": "b6ef93bf-a685-48ea-9eb4-7dfb20af0f1e",
   "metadata": {
    "tags": []
   },
   "outputs": [],
   "source": [
    "layer_idx, head_idx = 9, 9"
   ]
  },
  {
   "cell_type": "code",
   "execution_count": null,
   "id": "69a32d9a-2f36-42dd-b7f7-07d2d16ac39f",
   "metadata": {},
   "outputs": [],
   "source": [
    "W_OV = model.W_V[layer_idx, head_idx] @ model.W_O[layer_idx, head_idx]"
   ]
  },
  {
   "cell_type": "code",
   "execution_count": null,
   "id": "510f935c-ca53-4806-9960-97feaa694422",
   "metadata": {},
   "outputs": [],
   "source": [
    "_, cache = model.run_with_cache(clean_tokens)"
   ]
  },
  {
   "cell_type": "code",
   "execution_count": null,
   "id": "4037f345-53b9-400d-95b9-ad60fc7d0891",
   "metadata": {},
   "outputs": [],
   "source": [
    "W_E = model.W_E\n",
    "io_embeddings = model.W_E"
   ]
  },
  {
   "cell_type": "code",
   "execution_count": null,
   "id": "6df977b8-1a96-45a3-9983-479568bf1a8c",
   "metadata": {},
   "outputs": [],
   "source": [
    "text_similarity = text_embedding @ text_embedding.T\n",
    "image_similairty = image_embedding @ image_embedding.T"
   ]
  },
  {
   "cell_type": "code",
   "execution_count": null,
   "id": "db0b6ff8-7bbd-42b3-ac30-3614c9bd052a",
   "metadata": {},
   "outputs": [],
   "source": [
    "target = F.softmax(\n",
    "    (text_similarity + image_similarity)/2,\n",
    "    dim=-1\n",
    ")"
   ]
  },
  {
   "cell_type": "code",
   "execution_count": null,
   "id": "cfe2978c-df0b-4e87-85a7-643e3640fa28",
   "metadata": {},
   "outputs": [],
   "source": [
    "_, cache = model.run_with_cache(clean_tokens)"
   ]
  },
  {
   "cell_type": "code",
   "execution_count": 5,
   "id": "285a0362-5e22-4c5d-9ed0-b2ae075cca66",
   "metadata": {
    "tags": []
   },
   "outputs": [],
   "source": [
    "from transformer_lens.utils import get_act_name"
   ]
  },
  {
   "cell_type": "code",
   "execution_count": 6,
   "id": "e3fdc1d0-39c6-4b0c-87cb-0ad07be0fcdd",
   "metadata": {
    "tags": []
   },
   "outputs": [],
   "source": [
    "layer_idx, head_idx = 9, 9"
   ]
  },
  {
   "cell_type": "code",
   "execution_count": 7,
   "id": "91dbb4ae-209d-4863-b164-072e759f3bdd",
   "metadata": {
    "tags": []
   },
   "outputs": [],
   "source": [
    "hook_name = get_act_name(\"z\", layer_idx)"
   ]
  },
  {
   "cell_type": "code",
   "execution_count": 8,
   "id": "8d814c86-aea6-4e79-bcad-a3b2a974c265",
   "metadata": {
    "tags": []
   },
   "outputs": [
    {
     "data": {
      "text/plain": [
       "'blocks.9.attn.hook_z'"
      ]
     },
     "execution_count": 8,
     "metadata": {},
     "output_type": "execute_result"
    }
   ],
   "source": [
    "hook_name"
   ]
  },
  {
   "cell_type": "code",
   "execution_count": null,
   "id": "16905370-6aaa-448f-897f-f754fcf6b147",
   "metadata": {},
   "outputs": [],
   "source": [
    "output = cache[hook_name][:, head_idx] @ model.W_O[layer_idx, head_idx]"
   ]
  },
  {
   "cell_type": "code",
   "execution_count": null,
   "id": "93b39fe9-674c-487d-aa1e-e6bc67b612a2",
   "metadata": {},
   "outputs": [],
   "source": [
    "io_dirs = model.W_U[:, io_idxs]\n",
    "s_dirs = model.W_U[:, s_idxs]"
   ]
  },
  {
   "cell_type": "code",
   "execution_count": null,
   "id": "79d89b1a-2e50-438f-be37-a2df61a31709",
   "metadata": {},
   "outputs": [],
   "source": [
    "projection_in_io_dirs = output @ io_dirs\n",
    "projection_in_s_dirs = output @ s_dirs"
   ]
  },
  {
   "cell_type": "code",
   "execution_count": null,
   "id": "58c4c397-97b4-45c0-a912-936d505ad51a",
   "metadata": {},
   "outputs": [],
   "source": [
    "pattern = cache[\"pattern\", layer_idx][:, head_idx]"
   ]
  },
  {
   "cell_type": "code",
   "execution_count": null,
   "id": "15ef0666-8a32-490c-a7de-023d720bd7b3",
   "metadata": {},
   "outputs": [],
   "source": [
    "attn_from_end_to_io = pattern[:, -1, io_tokens]\n",
    "attn_from_end_to_s = pattern[:, -1, s_tokens]"
   ]
  },
  {
   "cell_type": "code",
   "execution_count": null,
   "id": "742c9ac7-bc2b-49cf-a627-9f0f99d19786",
   "metadata": {},
   "outputs": [],
   "source": [
    "class ResidualLayerNorm(nn.Module):\n",
    "    def __init__(self, d_model, dropout):\n",
    "        super().__init__()\n",
    "        self.ln = nn.LayerNorm(d_model)\n",
    "        self.dropout = nn.Dropout(dropout)\n",
    "    \n",
    "    def forward(self, x, residual):\n",
    "        return self.dropout(x) + residual"
   ]
  },
  {
   "cell_type": "code",
   "execution_count": null,
   "id": "1daaa903-cff5-4280-83f6-0208694640ea",
   "metadata": {},
   "outputs": [],
   "source": [
    "def func()"
   ]
  },
  {
   "cell_type": "code",
   "execution_count": null,
   "id": "7d448dbc-6dca-405b-aa20-ca54540078b5",
   "metadata": {},
   "outputs": [],
   "source": [
    "def add_hook(model):\n",
    "    for layer in model.layers:\n",
    "        layer.register_forward_hook(add)"
   ]
  },
  {
   "cell_type": "code",
   "execution_count": 9,
   "id": "db736ea5-a49e-4512-ad59-dcaff5e9ad48",
   "metadata": {
    "tags": []
   },
   "outputs": [],
   "source": [
    "class Optimizer:\n",
    "    def __init__(self, params, lr):\n",
    "        self.params = params\n",
    "        self.lr = lr\n",
    "    \n",
    "    def zero_grad(self):\n",
    "        for p in params:\n",
    "            p.grad = 0"
   ]
  },
  {
   "cell_type": "code",
   "execution_count": 10,
   "id": "5945457a-cac3-4e10-8fe1-1f229f340c97",
   "metadata": {},
   "outputs": [],
   "source": [
    "import uuid"
   ]
  },
  {
   "cell_type": "code",
   "execution_count": 11,
   "id": "a8cb20e4-c813-4830-958d-5434fb9a7716",
   "metadata": {
    "tags": []
   },
   "outputs": [
    {
     "data": {
      "text/plain": [
       "283543319665403365987628748860915578569"
      ]
     },
     "execution_count": 11,
     "metadata": {},
     "output_type": "execute_result"
    }
   ],
   "source": [
    "int(uuid.uuid4())"
   ]
  },
  {
   "cell_type": "code",
   "execution_count": 21,
   "id": "13f8eca5-8269-4dec-91f9-4e2f0cd46c66",
   "metadata": {
    "tags": []
   },
   "outputs": [
    {
     "data": {
      "text/plain": [
       "2246"
      ]
     },
     "execution_count": 21,
     "metadata": {},
     "output_type": "execute_result"
    }
   ],
   "source": [
    "int(uuid.uuid4()) % 10000 "
   ]
  },
  {
   "cell_type": "code",
   "execution_count": 23,
   "id": "4b051a1d-b7fc-40c6-a998-aca15c0d4ee7",
   "metadata": {
    "tags": []
   },
   "outputs": [
    {
     "data": {
      "text/plain": [
       "9865"
      ]
     },
     "execution_count": 23,
     "metadata": {},
     "output_type": "execute_result"
    }
   ],
   "source": [
    "import random\n",
    "random.randint(0, 9999)"
   ]
  },
  {
   "cell_type": "code",
   "execution_count": 24,
   "id": "7c0cbf06-1a38-47a9-a42b-613ac3e032f0",
   "metadata": {
    "tags": []
   },
   "outputs": [],
   "source": [
    "from enum import Enum, auto"
   ]
  },
  {
   "cell_type": "code",
   "execution_count": 25,
   "id": "19fa3689-b204-471c-b540-7ee62c038b1d",
   "metadata": {},
   "outputs": [],
   "source": [
    "class JobType(Enum):\n",
    "    FORWARD = auto()\n",
    "    BACKWARD = auto()"
   ]
  },
  {
   "cell_type": "code",
   "execution_count": 26,
   "id": "5238ffb6-4dbf-4cb5-a25a-b5640ce1bf27",
   "metadata": {
    "tags": []
   },
   "outputs": [
    {
     "data": {
      "text/plain": [
       "<JobType.FORWARD: 1>"
      ]
     },
     "execution_count": 26,
     "metadata": {},
     "output_type": "execute_result"
    }
   ],
   "source": [
    "JobType.FORWARD"
   ]
  },
  {
   "cell_type": "code",
   "execution_count": null,
   "id": "ea7608f2-3b59-436e-8e0d-12389512c610",
   "metadata": {},
   "outputs": [],
   "source": []
  }
 ],
 "metadata": {
  "kernelspec": {
   "display_name": "Python 3 (ipykernel)",
   "language": "python",
   "name": "python3"
  },
  "language_info": {
   "codemirror_mode": {
    "name": "ipython",
    "version": 3
   },
   "file_extension": ".py",
   "mimetype": "text/x-python",
   "name": "python",
   "nbconvert_exporter": "python",
   "pygments_lexer": "ipython3",
   "version": "3.8.16"
  }
 },
 "nbformat": 4,
 "nbformat_minor": 5
}
