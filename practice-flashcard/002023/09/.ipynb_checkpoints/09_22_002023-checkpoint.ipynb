{
 "cells": [
  {
   "cell_type": "markdown",
   "id": "fd8c0037-bb1a-4ff1-8845-13cbda7c3e00",
   "metadata": {},
   "source": [
    "### Engineering"
   ]
  },
  {
   "cell_type": "code",
   "execution_count": 1,
   "id": "14a8054a-fb69-4775-8aa6-9694b896634f",
   "metadata": {
    "tags": []
   },
   "outputs": [],
   "source": [
    "import torch"
   ]
  },
  {
   "cell_type": "code",
   "execution_count": 2,
   "id": "0f204587-a1ae-463b-8352-cf35abb69096",
   "metadata": {
    "tags": []
   },
   "outputs": [],
   "source": [
    "from torch import nn\n",
    "import torch.nn.functional as F"
   ]
  },
  {
   "cell_type": "code",
   "execution_count": null,
   "id": "c2381a87-d0f6-4fad-8269-9dba9512dec6",
   "metadata": {},
   "outputs": [],
   "source": [
    "job queue\n",
    "syncronization queue\n",
    "handshake queue"
   ]
  },
  {
   "cell_type": "code",
   "execution_count": null,
   "id": "f71d0a69-f9f5-4275-8168-d7d397967be3",
   "metadata": {},
   "outputs": [],
   "source": [
    "kubeproxy, kubelet, "
   ]
  },
  {
   "cell_type": "code",
   "execution_count": null,
   "id": "c54b1e82-ac0d-4d38-856e-d3f7b888ca37",
   "metadata": {},
   "outputs": [],
   "source": [
    "(current_local + 1) % local_world_size"
   ]
  },
  {
   "cell_type": "code",
   "execution_count": null,
   "id": "3995aac6-7124-4bb9-bc73-aaea3531798e",
   "metadata": {},
   "outputs": [],
   "source": [
    "mine_dir = linear_probe[..., 2]\n",
    "theirs_dir = linear_probe[..., 1]"
   ]
  },
  {
   "cell_type": "code",
   "execution_count": null,
   "id": "f546f958-db17-4ae4-b891-ac78881ab632",
   "metadata": {},
   "outputs": [],
   "source": [
    "mine_vs_theirs_dir = mine_dir - theirs_dir"
   ]
  },
  {
   "cell_type": "code",
   "execution_count": null,
   "id": "58017001-01f2-4efc-a9d9-b64a8ad6077c",
   "metadata": {},
   "outputs": [],
   "source": [
    "_, cache = model.run_with_cache(board_history)"
   ]
  },
  {
   "cell_type": "code",
   "execution_count": 3,
   "id": "f6062a64-af0e-41dc-b058-45203a3904c1",
   "metadata": {
    "tags": []
   },
   "outputs": [],
   "source": [
    "from transformer_lens.utils import get_act_name"
   ]
  },
  {
   "cell_type": "code",
   "execution_count": null,
   "id": "7b8efc2d-94f8-4253-bd71-72f28813a7b9",
   "metadata": {},
   "outputs": [],
   "source": []
  },
  {
   "cell_type": "code",
   "execution_count": null,
   "id": "f3c02498-c5b7-4cd1-bc3a-21dd7ed078e0",
   "metadata": {},
   "outputs": [],
   "source": [
    "mlp0 = model.blocks[0].mlp\n",
    "ln0 = model.blocks[0].ln1"
   ]
  },
  {
   "cell_type": "code",
   "execution_count": null,
   "id": "a7263dfa-8c9a-40fb-a3c3-68f8722292fc",
   "metadata": {},
   "outputs": [],
   "source": [
    "name_tokens = model.to_tokens(names)"
   ]
  },
  {
   "cell_type": "code",
   "execution_count": null,
   "id": "0d792204-a78e-4248-b40b-0dfc708add28",
   "metadata": {},
   "outputs": [],
   "source": [
    "embeddings = model.W_U[:, name_tokens]"
   ]
  },
  {
   "cell_type": "code",
   "execution_count": null,
   "id": "c3dba59a-6189-43e8-ad59-42e0033cf1e6",
   "metadata": {},
   "outputs": [],
   "source": [
    "resid_after_mlp0 = embeddings + mlp0(ln0(embeddings))"
   ]
  },
  {
   "cell_type": "code",
   "execution_count": null,
   "id": "4290394b-baab-4b09-a30c-5306937a756c",
   "metadata": {},
   "outputs": [],
   "source": [
    "for layer_idx in range(n_layers):\n",
    "    for head_idx in range(n_heads):\n",
    "        W_OV = model.W_O[layer_idx, head_idx] @ model.W_O[layer_idx, head_idx]\n",
    "        output = resid_after_mlp0 @ W_OV\n",
    "        logits = model.unembed(model.ln_final(output))"
   ]
  },
  {
   "cell_type": "code",
   "execution_count": 4,
   "id": "28752b88-4af0-4b9c-a952-8ac41ab5c817",
   "metadata": {
    "tags": []
   },
   "outputs": [],
   "source": [
    "import torch.distributed.rpc as rpc\n",
    "import torch.distributed as dist"
   ]
  },
  {
   "cell_type": "code",
   "execution_count": 5,
   "id": "cb560c03-315e-4454-a188-ec8a22d86742",
   "metadata": {
    "tags": []
   },
   "outputs": [],
   "source": [
    "import torch.multiprocessing as mp"
   ]
  },
  {
   "cell_type": "code",
   "execution_count": 6,
   "id": "ef358e42-8767-47d3-9edd-2c27f58755f7",
   "metadata": {
    "tags": []
   },
   "outputs": [],
   "source": [
    "import os"
   ]
  },
  {
   "cell_type": "code",
   "execution_count": null,
   "id": "3759f29c-f54c-4c61-8e08-479e89a5d92d",
   "metadata": {},
   "outputs": [],
   "source": [
    "def init_dist(rank, world_size):\n",
    "    addr = os.getenv(\"MASTER_ADDR\")\n",
    "    port = os.getenv(\"MASTER_PORT\")\n",
    "    \n",
    "    init_method = f\"tcp://{addr}:{port}\"\n",
    "    \n",
    "    rpc.init_rpc(\n",
    "        name=AGENT_NAME.format(rank),\n",
    "        rank=rank,\n",
    "        world_size=world_size,\n",
    "        init_method=init_method,\n",
    "    )"
   ]
  },
  {
   "cell_type": "code",
   "execution_count": null,
   "id": "43636f1f-9223-414d-b1ea-26bc48c27b44",
   "metadata": {},
   "outputs": [],
   "source": [
    "for rank in range(world_size):\n",
    "    p = mp.Process(\n",
    "        target=init_dist,\n",
    "        args=(rank, world_size)\n",
    "    )"
   ]
  },
  {
   "cell_type": "code",
   "execution_count": 7,
   "id": "0dc15b2a-224a-4fe4-995f-a3f6c29f986a",
   "metadata": {
    "tags": []
   },
   "outputs": [],
   "source": [
    "from typing import overload"
   ]
  },
  {
   "cell_type": "code",
   "execution_count": 9,
   "id": "4b3b7990-4399-4c5e-8ffb-7aea178f5962",
   "metadata": {
    "tags": []
   },
   "outputs": [],
   "source": [
    "from typing import List"
   ]
  },
  {
   "cell_type": "code",
   "execution_count": 8,
   "id": "ea7298ed-fb56-404c-a068-6fd47a338c64",
   "metadata": {
    "tags": []
   },
   "outputs": [],
   "source": [
    "@overload\n",
    "def getitem(x: str) -> str:\n",
    "    pass"
   ]
  },
  {
   "cell_type": "code",
   "execution_count": 10,
   "id": "7341a1fa-f37e-47f0-b4d5-7b04c4528120",
   "metadata": {
    "tags": []
   },
   "outputs": [],
   "source": [
    "@overload\n",
    "def getitem(x: List[int]) -> int:\n",
    "    pass"
   ]
  },
  {
   "cell_type": "code",
   "execution_count": null,
   "id": "8936a494-fb18-47e6-8394-767e1ea5bf23",
   "metadata": {},
   "outputs": [],
   "source": [
    "name_tokens = model.to_tokens(names)"
   ]
  },
  {
   "cell_type": "code",
   "execution_count": null,
   "id": "e56fd9fc-9dc6-4776-9536-9ad25f9041f4",
   "metadata": {},
   "outputs": [],
   "source": [
    "mlp0 = model.blocks[0].mlp0\n",
    "ln1 = model.blocks[0].ln1"
   ]
  },
  {
   "cell_type": "code",
   "execution_count": null,
   "id": "c6964845-225a-4bb8-b0d9-b767b2230fcf",
   "metadata": {},
   "outputs": [],
   "source": [
    "embeddings = model.embed(name_tokens)\n",
    "resid_after_mlp0 = embeddings + mlp0(ln1(embeddings))"
   ]
  },
  {
   "cell_type": "code",
   "execution_count": null,
   "id": "1e14ad9c-13fa-4d2f-bdd1-b3b3a43726f7",
   "metadata": {},
   "outputs": [],
   "source": [
    "for layer_idx in range(n_layers):\n",
    "    for head_idx in range(n_heads):\n",
    "        W_OV = model.W_O[layer_idx, head_idx] @ model.W_V[layer_idx, head_idx]\n",
    "        output = resid_after_mlp0 @ W_OV\n",
    "        logits = model.unembed(model.ln_final(output))\n",
    "        \n",
    "        top_tokens = torch.argmax(logits, dim=-1)"
   ]
  },
  {
   "cell_type": "code",
   "execution_count": null,
   "id": "b4aa80b7-85d1-4d7f-a3ca-5dd3de77458f",
   "metadata": {},
   "outputs": [],
   "source": [
    "clean_tokens = model.to_tokens(clean_prompt)\n",
    "corrupted_tokens = model.to_tokens(corrupted_prompt)"
   ]
  },
  {
   "cell_type": "code",
   "execution_count": null,
   "id": "e9650938-413e-4d16-bacb-a9daadc16ac0",
   "metadata": {},
   "outputs": [],
   "source": [
    "_, clean_cache = model.run_with_cache(clean_tokens)\n",
    "_, corrupted_cache = model.run_with_cache(corrupted_tokens)"
   ]
  },
  {
   "cell_type": "code",
   "execution_count": null,
   "id": "b0a95793-78dc-48d1-a5c8-400c4c05dbf4",
   "metadata": {},
   "outputs": [],
   "source": [
    "seq_len = clean_tokens.shape[-1]"
   ]
  },
  {
   "cell_type": "code",
   "execution_count": 11,
   "id": "cab0f77a-9eda-49d6-b287-5b2c5fd58169",
   "metadata": {
    "tags": []
   },
   "outputs": [],
   "source": [
    "def corrupt_activations(resid, hook, corrupted_cache, position_idx):\n",
    "    resid[:, position_idx] = corrupted_cache[hook.name][:, position_idx]\n",
    "    return resid"
   ]
  },
  {
   "cell_type": "code",
   "execution_count": 12,
   "id": "270e86fc-bd7b-41e8-842c-17bcf6df7580",
   "metadata": {
    "tags": []
   },
   "outputs": [],
   "source": [
    "from functools import partial"
   ]
  },
  {
   "cell_type": "code",
   "execution_count": null,
   "id": "94df9b9e-2c3f-4acc-97c7-640b0e1c2a43",
   "metadata": {},
   "outputs": [],
   "source": [
    "def compute_logit_diff(resid, correct_token, incorrect_token):\n",
    "    final_resid = resid[:, -1, :]\n",
    "    return final_resid[:, correct_token] - final_resid[:, incorrect_token]"
   ]
  },
  {
   "cell_type": "code",
   "execution_count": null,
   "id": "f7bc9b54-f176-4d61-8e80-75f276f6cd00",
   "metadata": {},
   "outputs": [],
   "source": []
  },
  {
   "cell_type": "code",
   "execution_count": null,
   "id": "7b5c2432-bc88-4772-8208-2f73abb0570f",
   "metadata": {},
   "outputs": [],
   "source": [
    "for layer_idx in range(n_layers):\n",
    "    for position_idx in range(seq_len):\n",
    "        hook_name = get_act_name(\"resid_pre\", layer_idx)\n",
    "        hook_func = partial(\n",
    "            corrupt_activations,\n",
    "            corrupted_cache=corrupted_cache,\n",
    "            position_idx=position_idx\n",
    "        )\n",
    "        \n",
    "        patched_logits = model.run_with_hooks(\n",
    "            clean_tokens,\n",
    "            fwd_hooks=[(hook_name, hook_func)]\n",
    "        )"
   ]
  }
 ],
 "metadata": {
  "kernelspec": {
   "display_name": "Python 3 (ipykernel)",
   "language": "python",
   "name": "python3"
  },
  "language_info": {
   "codemirror_mode": {
    "name": "ipython",
    "version": 3
   },
   "file_extension": ".py",
   "mimetype": "text/x-python",
   "name": "python",
   "nbconvert_exporter": "python",
   "pygments_lexer": "ipython3",
   "version": "3.8.16"
  }
 },
 "nbformat": 4,
 "nbformat_minor": 5
}
