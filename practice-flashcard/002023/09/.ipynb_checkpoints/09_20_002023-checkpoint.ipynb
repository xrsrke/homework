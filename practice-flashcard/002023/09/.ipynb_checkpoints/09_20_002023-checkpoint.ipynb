{
 "cells": [
  {
   "cell_type": "markdown",
   "id": "e49762bb-79d1-4c30-8d56-bfaa01d95dc1",
   "metadata": {},
   "source": [
    "### Engineering"
   ]
  },
  {
   "cell_type": "code",
   "execution_count": 2,
   "id": "cbd410c2-3d73-4567-a8f5-7d1466b09adf",
   "metadata": {
    "tags": []
   },
   "outputs": [],
   "source": [
    "import torch\n",
    "from torch import nn\n",
    "import torch.nn.functional as F"
   ]
  },
  {
   "cell_type": "code",
   "execution_count": 4,
   "id": "1dfb8725-379b-41ab-83cd-2c941e8f22e4",
   "metadata": {
    "tags": []
   },
   "outputs": [],
   "source": [
    "import torch.distributed as dist\n",
    "import torch.distributed.rpc as rpc"
   ]
  },
  {
   "cell_type": "code",
   "execution_count": 5,
   "id": "ffff6c84-a2db-462e-9aa3-95a165bae9b2",
   "metadata": {
    "tags": []
   },
   "outputs": [],
   "source": [
    "from einops import rearrange"
   ]
  },
  {
   "cell_type": "code",
   "execution_count": null,
   "id": "681431e8-a8a4-49a4-b514-3bbd02e40443",
   "metadata": {},
   "outputs": [],
   "source": [
    "inputs = rearrange(\n",
    "    inputs,\n",
    "    \"batch_size seq_len hidden_size -> (batch_size seq_len) hidden_size\"\n",
    ")"
   ]
  },
  {
   "cell_type": "code",
   "execution_count": null,
   "id": "42e143f6-3ad1-43cb-bb6a-fc1a2f048578",
   "metadata": {},
   "outputs": [],
   "source": [
    "probs = F.softmax(inputs, dim=-1)"
   ]
  },
  {
   "cell_type": "code",
   "execution_count": null,
   "id": "cab47347-12e6-436f-8e26-61c7ba6e5aec",
   "metadata": {},
   "outputs": [],
   "source": [
    "_, idxs = torch.max(probs, dim=-1)"
   ]
  },
  {
   "cell_type": "code",
   "execution_count": null,
   "id": "253a6ecb-0ed2-43c5-bb20-3f71ee6490ea",
   "metadata": {},
   "outputs": [],
   "source": [
    "class P2P:\n",
    "    def _send_metadata(self, data, dst_rank, parallel_context, parallel_mode):\n",
    "        process_group = parallel_context.get_group(parallel_mode)\n",
    "        \n",
    "        dtype = torch.tensor(DTYPE_TO_ID[data.dtype])\n",
    "        dist.send(dtype, dst=dst_rank, group=process_group)\n",
    "        \n",
    "        requires_grad = torch.tensor(1 if data.requires_grad else 0)\n",
    "        dist.send(requires_grad, dst=dst_rank, group=process_group)\n",
    "        \n",
    "        shape = torch.tensor\n",
    "    \n",
    "    def send(self, data, dst_rank, parallel_context, parallel_mode):\n",
    "        process_group = parallel_context.get_group(parallel_mode)\n",
    "        self._send_metadata(data, dst_rank, parallel_context, parallel_mode)\n",
    "        dist.send(data, dst=dst_rank, group=process_group)"
   ]
  },
  {
   "cell_type": "code",
   "execution_count": null,
   "id": "a672492d-05d3-4c57-84e3-fa775d834904",
   "metadata": {},
   "outputs": [],
   "source": [
    "def send(data, src_rank, dst_rank, parallel_context, parallel_mode = ParallelMode.PIPELINE):\n",
    "    rank = parallel_context.get_local_rank(parallel_mode)\n",
    "    if rank == src_rank:\n",
    "        P2P().send(data, dst_rank, parallel_context, parallel_mode)"
   ]
  },
  {
   "cell_type": "code",
   "execution_count": null,
   "id": "d4c86131-2338-4246-90aa-88965f43862e",
   "metadata": {},
   "outputs": [],
   "source": [
    "running, ready, failed, succeed, cooldown, block"
   ]
  },
  {
   "cell_type": "code",
   "execution_count": null,
   "id": "8651c88e-f5bd-43ff-8261-6a413da20085",
   "metadata": {},
   "outputs": [],
   "source": []
  }
 ],
 "metadata": {
  "kernelspec": {
   "display_name": "Python 3 (ipykernel)",
   "language": "python",
   "name": "python3"
  },
  "language_info": {
   "codemirror_mode": {
    "name": "ipython",
    "version": 3
   },
   "file_extension": ".py",
   "mimetype": "text/x-python",
   "name": "python",
   "nbconvert_exporter": "python",
   "pygments_lexer": "ipython3",
   "version": "3.8.16"
  }
 },
 "nbformat": 4,
 "nbformat_minor": 5
}
