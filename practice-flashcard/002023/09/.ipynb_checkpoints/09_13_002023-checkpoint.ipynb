{
 "cells": [
  {
   "cell_type": "markdown",
   "id": "f041d6f6-8a87-4bd2-a0b5-84f7a6b41ded",
   "metadata": {},
   "source": [
    "### Engineering"
   ]
  },
  {
   "cell_type": "code",
   "execution_count": 1,
   "id": "7b59b8ae-a3ee-4577-8a71-6d8514462de8",
   "metadata": {
    "tags": []
   },
   "outputs": [],
   "source": [
    "import torch\n",
    "from torch import nn\n",
    "import torch.nn.functional as F"
   ]
  },
  {
   "cell_type": "code",
   "execution_count": null,
   "id": "a2deafb4-e641-4ff6-8134-4572847d2e09",
   "metadata": {},
   "outputs": [],
   "source": [
    "torch.nn.functional"
   ]
  },
  {
   "cell_type": "code",
   "execution_count": 19,
   "id": "ad538297-e18f-4e9e-924a-00d09722649d",
   "metadata": {
    "tags": []
   },
   "outputs": [],
   "source": [
    "fut = torch.futures.Future"
   ]
  },
  {
   "cell_type": "code",
   "execution_count": null,
   "id": "72fabbc9-4da1-42da-b60f-c8c0e3803c26",
   "metadata": {},
   "outputs": [],
   "source": [
    "int *h_a, *h_b, *h_c;"
   ]
  },
  {
   "cell_type": "code",
   "execution_count": null,
   "id": "c3cf31b3-eafc-4d4a-a66d-7c41efaa249b",
   "metadata": {},
   "outputs": [],
   "source": [
    "elastic driver, 3 notifications, hostdiscovery, "
   ]
  },
  {
   "cell_type": "code",
   "execution_count": 22,
   "id": "2d3e31e5-ff0b-4321-bea6-9787ff360dd0",
   "metadata": {
    "tags": []
   },
   "outputs": [],
   "source": [
    "import torch.distributed.rpc as rpc"
   ]
  },
  {
   "cell_type": "code",
   "execution_count": null,
   "id": "39d90d41-d11b-4b46-9976-4e616a3726af",
   "metadata": {},
   "outputs": [],
   "source": [
    "def send_package(package, src, dst, parallel_context):\n",
    "    dst_worker_name = parallel_context.get_worker_name(dst)\n",
    "    rpc.rpc_sync(\n",
    "        dst_worker_name,\n",
    "        func=receive_package,\n",
    "        args=(package, src, dst)\n",
    "    )"
   ]
  },
  {
   "cell_type": "code",
   "execution_count": 23,
   "id": "9ac55ae8-b959-4fa8-9ea1-9ee620c5939b",
   "metadata": {
    "tags": []
   },
   "outputs": [],
   "source": [
    "def receive_package(package, src, dst):\n",
    "    RECV_QUEUE.put(package)"
   ]
  },
  {
   "cell_type": "code",
   "execution_count": null,
   "id": "0edb6845-37ab-4365-9071-24d83b7adb61",
   "metadata": {},
   "outputs": [],
   "source": []
  },
  {
   "cell_type": "code",
   "execution_count": null,
   "id": "414273a8-66b8-4a32-a533-aba1aeffc435",
   "metadata": {},
   "outputs": [],
   "source": [
    "embedding, linear, layer norm, attention"
   ]
  },
  {
   "cell_type": "code",
   "execution_count": null,
   "id": "ec256af7-a242-4799-874f-26a65d95ba68",
   "metadata": {},
   "outputs": [],
   "source": [
    "step 1: logit_diff = resid2[0] @ (W_U[0] - W_U[1])\n",
    "step 2: resid[2] = resid1[1] @ ln2 @ W_OV^{2, 0}"
   ]
  },
  {
   "cell_type": "code",
   "execution_count": 24,
   "id": "2c527214-4670-4ef5-b834-623c0e6d03f2",
   "metadata": {
    "tags": []
   },
   "outputs": [],
   "source": [
    "d_model = 16\n",
    "d_head = 4"
   ]
  },
  {
   "cell_type": "code",
   "execution_count": 25,
   "id": "b0ba2cb1-f1cf-47a1-92c2-3d88e8841fa3",
   "metadata": {
    "tags": []
   },
   "outputs": [],
   "source": [
    "W_V = torch.zeros(d_head, d_model)"
   ]
  },
  {
   "cell_type": "code",
   "execution_count": 26,
   "id": "5bfb5bd0-21ee-4581-8c44-105c391ac45c",
   "metadata": {
    "tags": []
   },
   "outputs": [
    {
     "data": {
      "text/plain": [
       "tensor([[0., 0., 0., 0., 0., 0., 0., 0., 0., 0., 0., 0., 0., 0., 0., 0.],\n",
       "        [0., 0., 0., 0., 0., 0., 0., 0., 0., 0., 0., 0., 0., 0., 0., 0.],\n",
       "        [0., 0., 0., 0., 0., 0., 0., 0., 0., 0., 0., 0., 0., 0., 0., 0.],\n",
       "        [0., 0., 0., 0., 0., 0., 0., 0., 0., 0., 0., 0., 0., 0., 0., 0.]])"
      ]
     },
     "execution_count": 26,
     "metadata": {},
     "output_type": "execute_result"
    }
   ],
   "source": [
    "W_V"
   ]
  },
  {
   "cell_type": "code",
   "execution_count": null,
   "id": "e63947ae-0357-452a-9da0-164851083e3a",
   "metadata": {},
   "outputs": [],
   "source": [
    "W_V[:3, ]"
   ]
  },
  {
   "cell_type": "code",
   "execution_count": 27,
   "id": "40958d88-2eb9-4493-8f69-e44946106087",
   "metadata": {
    "tags": []
   },
   "outputs": [],
   "source": [
    "W_O = torch.zeros(d_model, d_head)"
   ]
  },
  {
   "cell_type": "code",
   "execution_count": 28,
   "id": "f5cdcde4-a5a3-4f14-a2df-b4b84a901e63",
   "metadata": {
    "tags": []
   },
   "outputs": [
    {
     "data": {
      "text/plain": [
       "tensor([[0., 0., 0., 0.],\n",
       "        [0., 0., 0., 0.],\n",
       "        [0., 0., 0., 0.],\n",
       "        [0., 0., 0., 0.],\n",
       "        [0., 0., 0., 0.],\n",
       "        [0., 0., 0., 0.],\n",
       "        [0., 0., 0., 0.],\n",
       "        [0., 0., 0., 0.],\n",
       "        [0., 0., 0., 0.],\n",
       "        [0., 0., 0., 0.],\n",
       "        [0., 0., 0., 0.],\n",
       "        [0., 0., 0., 0.],\n",
       "        [0., 0., 0., 0.],\n",
       "        [0., 0., 0., 0.],\n",
       "        [0., 0., 0., 0.],\n",
       "        [0., 0., 0., 0.]])"
      ]
     },
     "execution_count": 28,
     "metadata": {},
     "output_type": "execute_result"
    }
   ],
   "source": [
    "W_O"
   ]
  },
  {
   "cell_type": "code",
   "execution_count": 30,
   "id": "d14d005a-8704-41b7-915f-ee54b07cf33b",
   "metadata": {
    "tags": []
   },
   "outputs": [],
   "source": [
    "receiver_heads = [(7, 3), (7, 9), (8, 6), (8, 10)]\n",
    "receiver_layers = [7, 8]"
   ]
  },
  {
   "cell_type": "code",
   "execution_count": 31,
   "id": "044af715-cd40-4a4b-99c5-5ce3f5a2ce67",
   "metadata": {
    "tags": []
   },
   "outputs": [],
   "source": [
    "from itertools import product"
   ]
  },
  {
   "cell_type": "code",
   "execution_count": 32,
   "id": "4534d9b7-8369-4691-a3e4-a870283ca64b",
   "metadata": {
    "tags": []
   },
   "outputs": [],
   "source": [
    "n_heads = 12"
   ]
  },
  {
   "cell_type": "code",
   "execution_count": 33,
   "id": "b205d507-7139-4664-8ddc-755641ba389f",
   "metadata": {
    "tags": []
   },
   "outputs": [],
   "source": [
    "sender_heads = list(product(range(max(receiver_layers)), range(n_heads)))"
   ]
  },
  {
   "cell_type": "code",
   "execution_count": 35,
   "id": "08b5e939-164b-4903-be58-678a17450856",
   "metadata": {
    "tags": []
   },
   "outputs": [],
   "source": [
    "from transformer_lens.utils import get_act_name"
   ]
  },
  {
   "cell_type": "code",
   "execution_count": 39,
   "id": "967d8ad0-61b8-43a1-9e92-150731f026e9",
   "metadata": {
    "tags": []
   },
   "outputs": [],
   "source": [
    "def patch_sender_output(acts, hook, clean_cache, corrupted_cache, target_head):\n",
    "    trg_layer_idx, trg_head_idx = target_head\n",
    "    \n",
    "    if trg_layer_idx == hook.layer():\n",
    "        acts[:, :, trg_head_idx] = corrupted_cache[hook.name][:, :, trg_head_idx]\n",
    "    else:\n",
    "        acts = clean_cache[hook.name]\n",
    "    \n",
    "    return acts"
   ]
  },
  {
   "cell_type": "code",
   "execution_count": 40,
   "id": "3938f4fd-6c89-418e-901e-97c40e41c4ea",
   "metadata": {
    "tags": []
   },
   "outputs": [],
   "source": [
    "def patch_receiver_input(acts, hook, patched_cache, receiver_heads):\n",
    "    head_idxs = [head_idx for layer_idx, head_idx in receiver_heads if layer_idx == hook.layer()]\n",
    "    acts[:, :, head_idxs] = patched_cache[hook.name][:, :, head_idxs]\n",
    "    return acts"
   ]
  },
  {
   "cell_type": "code",
   "execution_count": null,
   "id": "5f3094eb-fc2d-4de9-9606-07cfdc210f9d",
   "metadata": {},
   "outputs": [],
   "source": [
    "_, clean_cache = model.run_with_cache(clean_tokens)\n",
    "_, corrupted_cache = model.run_with_cache(corrupted_tokens)"
   ]
  },
  {
   "cell_type": "code",
   "execution_count": 37,
   "id": "24204974-97eb-4de4-8fe6-4594aa60a2c6",
   "metadata": {
    "tags": []
   },
   "outputs": [],
   "source": [
    "from functools import partial"
   ]
  },
  {
   "cell_type": "code",
   "execution_count": null,
   "id": "37d95e58-bb83-43e2-8e94-184fbaf403d2",
   "metadata": {
    "tags": []
   },
   "outputs": [],
   "source": [
    "results = torch.zeros(max(receiver_layers), n_heads)\n",
    "\n",
    "for layer_idx, head_idx in range(sender_heads):\n",
    "    model.reset_hook()\n",
    "    hook_name = get_act_name(\"z\", layer_idx)\n",
    "    hook_func = partial(\n",
    "        patch_sender_output,\n",
    "        clean_cache=clean_cache,\n",
    "        corrupted_cache=corrupted_cache,\n",
    "        target_head=(layer_idx, head_idx)\n",
    "    )\n",
    "    model.add_hook(hook_name, hook_func)\n",
    "    _, patched_cache = model.run_with_cache(clean_tokens)\n",
    "    \n",
    "    hook_name = get_act_name(\"v\", layer_idx)\n",
    "    hook_func = partial(\n",
    "        patch_receiver_input,\n",
    "        patched_cache=patched_cache,\n",
    "        receiver_heads=receiver_heads\n",
    "    )\n",
    "    patched_logits = model.run_with_hooks(\n",
    "        clean_tokens,\n",
    "        fwd_hooks=[(hook_name, hook_func)]\n",
    "    )\n",
    "    results[layer_idx, head_idx] = compute_ioi_metric(patched_logits)"
   ]
  },
  {
   "cell_type": "code",
   "execution_count": null,
   "id": "cb6987ed-fe6b-4f1f-889e-fb877d06b06b",
   "metadata": {},
   "outputs": [],
   "source": [
    "hostdiscover, torchstate, elasticdriver"
   ]
  },
  {
   "cell_type": "code",
   "execution_count": 41,
   "id": "dfcccd84-a8c6-4174-aa4d-b6e25eb02fa1",
   "metadata": {
    "tags": []
   },
   "outputs": [],
   "source": [
    "from typing import Callable"
   ]
  },
  {
   "cell_type": "code",
   "execution_count": null,
   "id": "9a728470-e829-44f7-bee4-0147a382e57c",
   "metadata": {},
   "outputs": [],
   "source": [
    "def foo(func: Callable[[int, int], str]) -> str:\n",
    "    pass"
   ]
  },
  {
   "cell_type": "code",
   "execution_count": null,
   "id": "58bc2e98-011f-4f25-8d8c-1806c31ebedc",
   "metadata": {},
   "outputs": [],
   "source": [
    "step 1: "
   ]
  },
  {
   "cell_type": "code",
   "execution_count": null,
   "id": "64fefd7a-956a-4627-97a3-78214967d0d2",
   "metadata": {},
   "outputs": [],
   "source": [
    "step 1: prob[0] = sigmoid(logit0 - logit1)\n",
    "step 2: logit0 = resid2[0] @ W_U[0], logit1 = resid2[0] @ W_U[1]\n",
    "step 3: logit0 - logit1 = resid2[0] @ (W_U[0] - W_U[1])\n",
    "step 4: resid2[0] = resid1[1] @ ln2 @ W_OV^{2, 0}\n",
    "step 5: logit0 - logit1 = resid1[1] @ ln2 @ W_OV^{2, 0} @ (W_U[0] - W_U[1])"
   ]
  },
  {
   "cell_type": "code",
   "execution_count": null,
   "id": "e4cadffc-45f9-49b8-8ca4-9b4ef81c21ab",
   "metadata": {},
   "outputs": [],
   "source": [
    "_, cache = model.run_with_cache(clean_tokens)"
   ]
  },
  {
   "cell_type": "code",
   "execution_count": 42,
   "id": "9ff9c8bf-9f9e-4f78-8d06-66e66a605faf",
   "metadata": {
    "tags": []
   },
   "outputs": [],
   "source": [
    "layer_idx, head_idx = 9, 9"
   ]
  },
  {
   "cell_type": "code",
   "execution_count": null,
   "id": "7b4f5efb-feaa-476e-b894-cfa6efc92ca7",
   "metadata": {},
   "outputs": [],
   "source": [
    "hook_name = get_act_name(\"pattern\", layer_idx)\n",
    "pattern = cache[hook_name][:, head_idx]"
   ]
  },
  {
   "cell_type": "code",
   "execution_count": null,
   "id": "ca3c080d-33cd-4584-9451-e0f2a27c79cf",
   "metadata": {},
   "outputs": [],
   "source": [
    "attn_from_end_to_io = pattern[:, end_idxs, io_idxs]\n",
    "attn_from_end_to_s = pattern[:, end_idxs, s_idxs]"
   ]
  },
  {
   "cell_type": "code",
   "execution_count": null,
   "id": "dd062720-3215-4e44-a693-af9b1b4d2383",
   "metadata": {},
   "outputs": [],
   "source": [
    "output = cache[\"z\", layer_idx] @ model.W_O[layer_idx, head_idx]"
   ]
  },
  {
   "cell_type": "code",
   "execution_count": null,
   "id": "9883c414-f759-4e22-9d67-9ddc55064111",
   "metadata": {},
   "outputs": [],
   "source": [
    "projection_in_io_dir = output @ model.W_U[:, io_idxs]\n",
    "projection_in_s_dir = output @ model.W_U[:, s_idxs]"
   ]
  },
  {
   "cell_type": "code",
   "execution_count": 3,
   "id": "060c71c4-4319-4506-9f89-87e2162295ef",
   "metadata": {
    "tags": []
   },
   "outputs": [],
   "source": [
    "from torch import nn\n",
    "import torch\n",
    "import torch.nn.functional as F"
   ]
  },
  {
   "cell_type": "code",
   "execution_count": null,
   "id": "e90ed59a-c7f2-4fda-960f-93365c54711e",
   "metadata": {},
   "outputs": [],
   "source": [
    "class _Model(nn.Module):\n",
    "    def __"
   ]
  },
  {
   "cell_type": "code",
   "execution_count": null,
   "id": "3f72a728-76fa-4ac8-a69d-62a9952170dc",
   "metadata": {},
   "outputs": [],
   "source": []
  }
 ],
 "metadata": {
  "kernelspec": {
   "display_name": "Python 3 (ipykernel)",
   "language": "python",
   "name": "python3"
  },
  "language_info": {
   "codemirror_mode": {
    "name": "ipython",
    "version": 3
   },
   "file_extension": ".py",
   "mimetype": "text/x-python",
   "name": "python",
   "nbconvert_exporter": "python",
   "pygments_lexer": "ipython3",
   "version": "3.8.16"
  }
 },
 "nbformat": 4,
 "nbformat_minor": 5
}
