{
 "cells": [
  {
   "cell_type": "markdown",
   "id": "7129679d-36ea-48b7-b4a5-bff594d895fa",
   "metadata": {},
   "source": [
    "### Engineering"
   ]
  },
  {
   "cell_type": "code",
   "execution_count": 1,
   "id": "4fcecc4a-9023-44d4-9fbf-eb37a6a1b5b7",
   "metadata": {
    "tags": []
   },
   "outputs": [],
   "source": [
    "import torch\n",
    "from torch import nn\n",
    "import torch.nn.functional as F"
   ]
  },
  {
   "cell_type": "code",
   "execution_count": null,
   "id": "9273e43a-7c8c-43be-8780-d220f39a6a5f",
   "metadata": {},
   "outputs": [],
   "source": [
    "#include <iostream>"
   ]
  },
  {
   "cell_type": "code",
   "execution_count": null,
   "id": "a3cc2f54-2970-4c64-882e-2e976ab14d57",
   "metadata": {},
   "outputs": [],
   "source": [
    "int main() {\n",
    "    int x = 1;\n",
    "    std::cout << &x;\n",
    "    return 0;\n",
    "}"
   ]
  },
  {
   "cell_type": "code",
   "execution_count": 2,
   "id": "a7537946-6636-403f-80e2-44cf75ae72c3",
   "metadata": {
    "tags": []
   },
   "outputs": [],
   "source": [
    "fut = torch.futures.Future()"
   ]
  },
  {
   "cell_type": "code",
   "execution_count": 3,
   "id": "b450c230-b1ac-476a-803b-75710291ba07",
   "metadata": {
    "tags": []
   },
   "outputs": [],
   "source": [
    "def callback(fut):\n",
    "    print(1234)"
   ]
  },
  {
   "cell_type": "code",
   "execution_count": 4,
   "id": "6d1a5f12-80b7-4e49-bb99-d41a55bd3db6",
   "metadata": {
    "tags": []
   },
   "outputs": [],
   "source": [
    "fut.add_done_callback(callback)"
   ]
  },
  {
   "cell_type": "code",
   "execution_count": 6,
   "id": "1c76c244-8cf8-4f49-b7c9-8f442ec18b6c",
   "metadata": {
    "tags": []
   },
   "outputs": [],
   "source": [
    "VALUE = 1"
   ]
  },
  {
   "cell_type": "code",
   "execution_count": 7,
   "id": "51a6b777-6a98-4494-9a51-83effd8e506b",
   "metadata": {
    "tags": []
   },
   "outputs": [
    {
     "name": "stdout",
     "output_type": "stream",
     "text": [
      "1234\n"
     ]
    }
   ],
   "source": [
    "fut.set_result(VALUE)"
   ]
  },
  {
   "cell_type": "code",
   "execution_count": 8,
   "id": "98747ad5-814e-4e3f-a05d-76dcbc138df1",
   "metadata": {
    "tags": []
   },
   "outputs": [],
   "source": [
    "import torch.distributed as dist\n",
    "import torch.distributed.rpc as rpc"
   ]
  },
  {
   "cell_type": "code",
   "execution_count": 9,
   "id": "827028f6-99b0-4872-aace-33fed08c4bfe",
   "metadata": {
    "tags": []
   },
   "outputs": [],
   "source": [
    "class Reduce(torch.autograd.Function):\n",
    "    @staticmethod\n",
    "    def forward(ctx, input, parallel_context):\n",
    "        group = parallel_context.get_group(ParallelMode.TENSOR)\n",
    "        dist.all_reduce(input, group=group)\n",
    "        return input"
   ]
  },
  {
   "cell_type": "code",
   "execution_count": 10,
   "id": "669300fb-8177-4d20-beed-15f8a87500e8",
   "metadata": {
    "tags": []
   },
   "outputs": [],
   "source": [
    "class ParallelEmbedding(nn.Module):\n",
    "    def __init__(self, num_embeddings, embedding_dim, parallel_context):\n",
    "        super().__init__()\n",
    "        world_size = parallel_context.get_world_size(ParallelMode.TENSOR)\n",
    "        per_partition = num_embeddings // world_size\n",
    "        self.weight = nn.Parameter(torch.randn(\n",
    "            per_partition, embedding_dim\n",
    "        ))\n",
    "        rank = parallel_context.get_local_rank(ParallelMode.TENSOR)\n",
    "        self.vocab_start_idx, self.vocab_end_idx = self._get_vocab_range(\n",
    "            per_partition, rank\n",
    "        )\n",
    "    \n",
    "    def _get_vocab_range(self, partition_size, rank):\n",
    "        start_idx = partition_size*rank\n",
    "        end_idx = start_idx+partition_size\n",
    "        return start_idx, end_idx\n",
    "    \n",
    "    def forward(self, inputs):\n",
    "        masks = (inputs < self.vocab_start_idx) | (inputs >= self.vocab_end_idx)\n",
    "        masked_inputs = inputs.clone() - self.vocab_start_idx\n",
    "        masked_inputs[masks] = 0\n",
    "        \n",
    "        parallel_embeddings = F.embedding(masked_inputs, weight=self.weight)\n",
    "        parallel_embeddings[masks] = 0.\n",
    "        \n",
    "        embeddings = Reduce.apply(parallel_embeddings, parallel_context)\n",
    "        \n",
    "        return embeddings"
   ]
  },
  {
   "cell_type": "code",
   "execution_count": null,
   "id": "2836c08d-4184-49df-a809-0341ee0aecc0",
   "metadata": {},
   "outputs": [],
   "source": [
    "elastic driver, torchstate, host discovery script, "
   ]
  },
  {
   "cell_type": "code",
   "execution_count": 13,
   "id": "afe2a155-95e2-4620-86be-6659ed007511",
   "metadata": {
    "tags": []
   },
   "outputs": [],
   "source": [
    "def send_package(package, src, dst, parallel_context):\n",
    "    rank = parallel_context.get_local_rank(ParallelMode.PIPELINE)\n",
    "    \n",
    "    if rank == src:\n",
    "        dst_name = parallel_context.get_worker_name(dst)\n",
    "        rpc.rpc_sync(\n",
    "            to=dst_name,\n",
    "            func=recv_package,\n",
    "            args=(package, src, dst)\n",
    "        )"
   ]
  },
  {
   "cell_type": "code",
   "execution_count": 14,
   "id": "26798454-d65a-41da-a053-7a5acfb7307d",
   "metadata": {
    "tags": []
   },
   "outputs": [],
   "source": [
    "from queue import Queue"
   ]
  },
  {
   "cell_type": "code",
   "execution_count": 15,
   "id": "b3e8192c-3036-4d3f-b3a0-a6f45ae82cc5",
   "metadata": {
    "tags": []
   },
   "outputs": [],
   "source": [
    "RECV_QUEUE = Queue()"
   ]
  },
  {
   "cell_type": "code",
   "execution_count": 16,
   "id": "02295a1b-0450-4e54-aa3f-ae811f220f5f",
   "metadata": {
    "tags": []
   },
   "outputs": [],
   "source": [
    "def recv_package(package, src, dst):\n",
    "    RECV_QUEUE.put(package)"
   ]
  },
  {
   "cell_type": "code",
   "execution_count": null,
   "id": "296778d9-afe5-478b-8c78-07dd85f7e85e",
   "metadata": {},
   "outputs": [],
   "source": [
    "def by_row_parallelism(inputs, weights):\n",
    "    inp_partition_size = inputs.shape[0] // 2\n",
    "    w_partition_size = weights.shape[1] // 2\n",
    "    \n",
    "    inp1, inp2 = inputs[]"
   ]
  },
  {
   "cell_type": "code",
   "execution_count": null,
   "id": "20c7fdc5-caea-46cc-97d1-56839de137bc",
   "metadata": {},
   "outputs": [],
   "source": [
    "step 1: prob[0] = sigmoid(logit0 - logit1)\n",
    "step 2: logit0 = resid2[0] @ W_U[0], logit1 = resid2[0] @ W_U[1]\n",
    "step 3: logit0 - logit1 = resid2[0] @ (W_U[0] - W_U[1])\n",
    "step 4: resid2[0] = resid1[1] @ ln2 @ W_OV^{2, 0}\n",
    "step 5: "
   ]
  },
  {
   "cell_type": "code",
   "execution_count": null,
   "id": "0ba4d9e6-8a9d-4f9a-adb7-3f9858639bbd",
   "metadata": {},
   "outputs": [],
   "source": [
    "W_OV = model.W_V[0, 1] @ model.W_O[0, 1]\n",
    "\n",
    "Q = W_OV @ model.Q[1, 2]"
   ]
  },
  {
   "cell_type": "code",
   "execution_count": null,
   "id": "c0d0fd89-4aa9-45cd-913e-dd1c96346d95",
   "metadata": {},
   "outputs": [],
   "source": [
    "_, cache = model.run_with_cache(clean_tokens)"
   ]
  },
  {
   "cell_type": "code",
   "execution_count": 17,
   "id": "9b9ac060-4eea-4813-89e6-25aaf01a8152",
   "metadata": {
    "tags": []
   },
   "outputs": [],
   "source": [
    "from transformer_lens.utils import get_act_name"
   ]
  },
  {
   "cell_type": "code",
   "execution_count": 19,
   "id": "02ca0d51-5bc8-4bdb-b4fc-47171522e6c0",
   "metadata": {
    "tags": []
   },
   "outputs": [],
   "source": [
    "layer_idx, head_idx = 9, 9"
   ]
  },
  {
   "cell_type": "code",
   "execution_count": 20,
   "id": "ed69dbf4-6d08-436b-83a9-4e1b1bdabfcd",
   "metadata": {
    "tags": []
   },
   "outputs": [],
   "source": [
    "hook_name = get_act_name(\"z\", layer_idx)"
   ]
  },
  {
   "cell_type": "code",
   "execution_count": 21,
   "id": "33b53a3c-155f-4496-8eed-c606f667da4b",
   "metadata": {
    "tags": []
   },
   "outputs": [
    {
     "data": {
      "text/plain": [
       "'blocks.9.attn.hook_z'"
      ]
     },
     "execution_count": 21,
     "metadata": {},
     "output_type": "execute_result"
    }
   ],
   "source": [
    "hook_name"
   ]
  },
  {
   "cell_type": "code",
   "execution_count": null,
   "id": "ac334185-85de-44ae-9575-00fced06ec9c",
   "metadata": {},
   "outputs": [],
   "source": [
    "output = cache[hook_name] @ model.W_O[layer_idx, head_idx]"
   ]
  },
  {
   "cell_type": "code",
   "execution_count": null,
   "id": "c82b5f17-f511-45ad-ae1b-16f70b55f4b7",
   "metadata": {},
   "outputs": [],
   "source": [
    "io_dir = model.W_U[io_tokens]\n",
    "s_dir = model.W_U[s_tokens]"
   ]
  },
  {
   "cell_type": "code",
   "execution_count": null,
   "id": "e6b4dc6a-118b-46c8-b7a6-c2c12095cbd9",
   "metadata": {},
   "outputs": [],
   "source": [
    "contribution_in_io_dir = (output @ io_dir).sum(dim=-1)\n",
    "contribution_in_s_dir = (output @ s_dir).sum(dim=-1)"
   ]
  },
  {
   "cell_type": "code",
   "execution_count": null,
   "id": "ada7674d-ca21-424a-bb6c-9c6ad4b8efc7",
   "metadata": {},
   "outputs": [],
   "source": [
    "pattern = cache[\"pattern\", layer_idx][:, :, head_idx]"
   ]
  },
  {
   "cell_type": "code",
   "execution_count": null,
   "id": "50d08abd-348c-49d1-9dc2-e4afa8a78441",
   "metadata": {},
   "outputs": [],
   "source": [
    "attn_from_end_to_io = pattern[:, end_idxs, io_idxs]\n",
    "attn_from_end_to_s = pattern[:, end_idxs, s_idxs]"
   ]
  },
  {
   "cell_type": "code",
   "execution_count": null,
   "id": "820a3306-7572-4aa8-a1bc-e61f92e86945",
   "metadata": {},
   "outputs": [],
   "source": [
    "def by_row_parallelism(inputs, weights):\n",
    "    inp_per_partition = inputs.shape[-1] // 2\n",
    "    w_per_partition = weights.shape[0] // 2\n",
    "    \n",
    "    inp1 = inputs[:, :inp_per_partition]\n",
    "    inp2 = inputs[:, inp_per_partition:]\n",
    "    \n",
    "    w1 = weights[:w_per_partition, :]\n",
    "    w2 = weights[w_per_partition:, :]\n",
    "    \n",
    "    out1 = inp1 @ w1\n",
    "    out2 = inp2 @ w2\n",
    "    \n",
    "    return out1 + out2"
   ]
  },
  {
   "cell_type": "code",
   "execution_count": 1,
   "id": "9cb403e9-e9a2-4b7a-a0ee-59dc87ed458a",
   "metadata": {
    "tags": []
   },
   "outputs": [],
   "source": [
    "import torch\n",
    "from torch import nn\n",
    "import torch.nn.functional as F"
   ]
  },
  {
   "cell_type": "code",
   "execution_count": 2,
   "id": "a1f35c2d-7986-47d4-b67f-11b273c2aa56",
   "metadata": {
    "tags": []
   },
   "outputs": [],
   "source": [
    "import torch.distributed as dist\n",
    "import torch.distributed.rpc as rpc"
   ]
  },
  {
   "cell_type": "code",
   "execution_count": null,
   "id": "ff9cdd30-6741-446b-874d-2ec9848fd096",
   "metadata": {},
   "outputs": [],
   "source": [
    "using namespace std;"
   ]
  },
  {
   "cell_type": "code",
   "execution_count": null,
   "id": "08cb744d-d3ba-4b4a-bc25-62030c4badcf",
   "metadata": {},
   "outputs": [],
   "source": [
    "int main() {\n",
    "    int x = 1;\n",
    "    std::cout << &x;\n",
    "}"
   ]
  },
  {
   "cell_type": "code",
   "execution_count": null,
   "id": "cdb6ed52-f8b8-4300-b18a-07c6e743ce33",
   "metadata": {},
   "outputs": [],
   "source": []
  },
  {
   "cell_type": "code",
   "execution_count": null,
   "id": "98f74ea0-14e4-41d6-8ac2-ed267e0fb069",
   "metadata": {},
   "outputs": [],
   "source": [
    "class Optimizer:\n",
    "    def __init__(self, params, lr):\n",
    "        self.params = params\n",
    "        self.lr = lr\n",
    "    \n",
    "    def step(self):\n",
    "        with torch.no_grad():\n",
    "            for p in model.parameters():\n",
    "                if p.requires_grad:\n",
    "                    p.data -= p.grad * self.lr"
   ]
  },
  {
   "cell_type": "code",
   "execution_count": 42,
   "id": "11809e4d-9662-433d-8ac6-481a996c5ca2",
   "metadata": {
    "tags": []
   },
   "outputs": [],
   "source": [
    "import torch"
   ]
  },
  {
   "cell_type": "code",
   "execution_count": 43,
   "id": "bf5101b4-dc40-4cc4-86a9-06769e1a5628",
   "metadata": {
    "tags": []
   },
   "outputs": [],
   "source": [
    "class Backward(torch.autograd.Function):\n",
    "    @staticmethod\n",
    "    def forward(ctx, x):\n",
    "        ctx.x = x\n",
    "        return x\n",
    "    \n",
    "    @staticmethod\n",
    "    def backward(ctx, grad_output):\n",
    "        return grad_output"
   ]
  },
  {
   "cell_type": "code",
   "execution_count": 44,
   "id": "f1ce0859-5a1a-4c63-bc3b-02cb9bd39e79",
   "metadata": {
    "tags": []
   },
   "outputs": [],
   "source": [
    "tensor = torch.randn(2, 4, requires_grad=True)"
   ]
  },
  {
   "cell_type": "code",
   "execution_count": 45,
   "id": "62043f30-cab7-4314-b612-ae9f1e4ed037",
   "metadata": {
    "tags": []
   },
   "outputs": [],
   "source": [
    "output = Backward.apply(tensor)"
   ]
  },
  {
   "cell_type": "code",
   "execution_count": 46,
   "id": "47a2afff-58ff-4ec0-a73c-7f0f96d75781",
   "metadata": {
    "tags": []
   },
   "outputs": [],
   "source": [
    "grads = output.pow(2).sum().backward()"
   ]
  },
  {
   "cell_type": "code",
   "execution_count": 47,
   "id": "ecd1a09c-9c11-4f5f-9386-ab4b631b2bed",
   "metadata": {
    "tags": []
   },
   "outputs": [],
   "source": [
    "grads"
   ]
  },
  {
   "cell_type": "code",
   "execution_count": null,
   "id": "338ce2a1-cf12-408c-a037-20db0ae62206",
   "metadata": {},
   "outputs": [],
   "source": []
  },
  {
   "cell_type": "code",
   "execution_count": null,
   "id": "7cca67dc-03ef-4f3f-a788-81ccb128ebbd",
   "metadata": {},
   "outputs": [],
   "source": []
  }
 ],
 "metadata": {
  "kernelspec": {
   "display_name": "Python 3 (ipykernel)",
   "language": "python",
   "name": "python3"
  },
  "language_info": {
   "codemirror_mode": {
    "name": "ipython",
    "version": 3
   },
   "file_extension": ".py",
   "mimetype": "text/x-python",
   "name": "python",
   "nbconvert_exporter": "python",
   "pygments_lexer": "ipython3",
   "version": "3.8.16"
  }
 },
 "nbformat": 4,
 "nbformat_minor": 5
}
