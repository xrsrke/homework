{
 "cells": [
  {
   "cell_type": "markdown",
   "id": "375d464c-8bca-4bad-bf37-d1c6855d4de0",
   "metadata": {},
   "source": [
    "### Science"
   ]
  },
  {
   "cell_type": "code",
   "execution_count": null,
   "id": "65eac01a-5e29-44d3-88f6-2029f658eb89",
   "metadata": {},
   "outputs": [],
   "source": [
    "Step 1: recording neural activity while performs different actions\n",
    "Step 2: record neural activty while performs the target action\n",
    "step 3: reward if performs the target action\n",
    "step 4: repeat step 3. animal learn "
   ]
  },
  {
   "cell_type": "code",
   "execution_count": null,
   "id": "63dfe343-fb6b-4a08-b812-f3627e0e4771",
   "metadata": {},
   "outputs": [],
   "source": [
    "step 1: a device detects electromagnetic radiation\n",
    "step 2: map the EMR to electrical signsl\n",
    "step 3: send it to the implanted device in the eye\n",
    "step 4: the device stimulate healthy cells using the received electrical signals\n",
    "step 5: the healthy cell send ES to the brain"
   ]
  },
  {
   "cell_type": "code",
   "execution_count": null,
   "id": "b63e560d-72d1-4b26-a087-db8d8abe18f1",
   "metadata": {},
   "outputs": [],
   "source": [
    "temperature, concentration, physical state"
   ]
  },
  {
   "cell_type": "markdown",
   "id": "7ce8236b-0842-41a5-acc8-70dca59e5ad2",
   "metadata": {},
   "source": [
    "### Software"
   ]
  },
  {
   "cell_type": "code",
   "execution_count": null,
   "id": "65108189-7303-49fe-968d-1d4f8719732b",
   "metadata": {},
   "outputs": [],
   "source": [
    "from typing import TypedDict"
   ]
  },
  {
   "cell_type": "code",
   "execution_count": null,
   "id": "31d935d0-64cc-4d5a-85e1-6b83d7674693",
   "metadata": {},
   "outputs": [],
   "source": [
    "class NutritionInformation(TypedDict):\n",
    "    value: int\n",
    "    unit: str"
   ]
  },
  {
   "cell_type": "code",
   "execution_count": null,
   "id": "74487626-0750-4a65-8061-330263fc7c61",
   "metadata": {},
   "outputs": [],
   "source": [
    "class Recipe(TypedDict):\n",
    "    recpies_used: int\n",
    "    calories: NutritionInformation\n",
    "    carbs: NutritionInformation"
   ]
  },
  {
   "cell_type": "markdown",
   "id": "dcf2fcc2-9e4f-4fab-bd2c-63cf28b3e85f",
   "metadata": {},
   "source": [
    "### AI"
   ]
  },
  {
   "cell_type": "code",
   "execution_count": null,
   "id": "c652406f-d93c-44c9-b20d-e80844c0822a",
   "metadata": {},
   "outputs": [],
   "source": [
    "import torch\n",
    "from torch import nn\n",
    "import torch.nn.functional as F"
   ]
  },
  {
   "cell_type": "code",
   "execution_count": null,
   "id": "a77b3bef-494d-499d-9b8e-68fdf0357f6d",
   "metadata": {},
   "outputs": [],
   "source": [
    "from einops import repeat"
   ]
  },
  {
   "cell_type": "code",
   "execution_count": null,
   "id": "4cd7091d-8d99-4cf1-adec-e56142eb1f23",
   "metadata": {},
   "outputs": [],
   "source": [
    "output = repeat(x, 'h w -> h w new_axis', new_axis=2)"
   ]
  },
  {
   "cell_type": "code",
   "execution_count": null,
   "id": "d090253f-9c6b-4555-9c97-a344ab19a642",
   "metadata": {},
   "outputs": [],
   "source": [
    "encoded_text = tokenizer(batch[\"text\"], padding=True)"
   ]
  },
  {
   "cell_type": "code",
   "execution_count": null,
   "id": "c4d00442-220d-4e72-8ac1-447f71d06012",
   "metadata": {},
   "outputs": [],
   "source": [
    "encoded.mask_fill(mask=False, -1)"
   ]
  },
  {
   "cell_type": "code",
   "execution_count": null,
   "id": "62e54d62-09e0-444e-8b75-285dea7fa1f7",
   "metadata": {},
   "outputs": [],
   "source": [
    "from torch.distributions import Categorical"
   ]
  },
  {
   "cell_type": "code",
   "execution_count": null,
   "id": "1e7da601-928a-4d28-bdb7-58ecb1fa1869",
   "metadata": {},
   "outputs": [],
   "source": [
    "dist = Categorical(logits=raw_logits)"
   ]
  },
  {
   "cell_type": "code",
   "execution_count": null,
   "id": "25810168-aaa7-4d64-a4e2-713eb358e003",
   "metadata": {},
   "outputs": [],
   "source": [
    "action = dist.sample()"
   ]
  }
 ],
 "metadata": {
  "kernelspec": {
   "display_name": "Python 3 (ipykernel)",
   "language": "python",
   "name": "python3"
  }
 },
 "nbformat": 4,
 "nbformat_minor": 5
}
