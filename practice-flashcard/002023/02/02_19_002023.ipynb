{
 "cells": [
  {
   "cell_type": "markdown",
   "id": "64c7ba6d-0284-4543-b92f-e7158f7e13bd",
   "metadata": {},
   "source": [
    "### Science"
   ]
  },
  {
   "cell_type": "code",
   "execution_count": null,
   "id": "0a0cf109-a1ce-4b15-954a-d50b247025e5",
   "metadata": {},
   "outputs": [],
   "source": [
    "will subject be v_ing?"
   ]
  },
  {
   "cell_type": "code",
   "execution_count": null,
   "id": "76c4b6c9-6a18-483d-965a-bc9b7c386fe4",
   "metadata": {},
   "outputs": [],
   "source": [
    "from "
   ]
  },
  {
   "cell_type": "code",
   "execution_count": null,
   "id": "622e5a24-48f7-4e01-aaf3-41b996352002",
   "metadata": {},
   "outputs": [],
   "source": [
    "from typing import TypeVar, Generic, List\n",
    "\n",
    "T = TypeVar('T')\n",
    "\n",
    "class Stack(Generic[T]):\n",
    "    def __init__(self):\n",
    "        self.items: List[T] = []\n",
    "\n",
    "    def push(self, item: T) -> None:\n",
    "        self.items.append(item)\n",
    "\n",
    "    def pop(self) -> T:\n",
    "        return self.items.pop()\n",
    "\n",
    "string_stack = Stack[str]()"
   ]
  },
  {
   "cell_type": "code",
   "execution_count": null,
   "id": "7d102d36-f2af-4e46-afab-265de381bc04",
   "metadata": {},
   "outputs": [
    {
     "data": {
      "text/plain": [
       "[]"
      ]
     },
     "execution_count": null,
     "metadata": {},
     "output_type": "execute_result"
    }
   ],
   "source": [
    "string_stack.items"
   ]
  },
  {
   "cell_type": "code",
   "execution_count": null,
   "id": "db007f1a-2165-4b42-81b1-74c4da25495b",
   "metadata": {},
   "outputs": [],
   "source": []
  },
  {
   "cell_type": "code",
   "execution_count": null,
   "id": "61048d27-1001-4e92-a348-1a458592f878",
   "metadata": {},
   "outputs": [],
   "source": [
    "from typing import TypedDict"
   ]
  },
  {
   "cell_type": "code",
   "execution_count": null,
   "id": "d62faaf9-0359-4995-adc5-049643c872b2",
   "metadata": {},
   "outputs": [],
   "source": [
    "class NutritionInformation(TypedDict):\n",
    "    value: int\n",
    "    unit: str"
   ]
  },
  {
   "cell_type": "code",
   "execution_count": null,
   "id": "2bab6f58-262e-4210-a224-3faf8bae9d6c",
   "metadata": {},
   "outputs": [],
   "source": [
    "class RecipeNutritionInformation(TypedDict):\n",
    "    recipes_used: int\n",
    "    calories: NutritionInformation\n",
    "    carbs: NutritionInformation"
   ]
  },
  {
   "cell_type": "markdown",
   "id": "bd02a48d-cb80-499e-b495-0aa50b1d7370",
   "metadata": {},
   "source": [
    "### AI"
   ]
  },
  {
   "cell_type": "code",
   "execution_count": null,
   "id": "3d67b956-7df6-4354-89cc-573ace49a7d0",
   "metadata": {},
   "outputs": [],
   "source": [
    "import torch\n",
    "from torch import nn\n",
    "import torch.nn.functional as F"
   ]
  },
  {
   "cell_type": "code",
   "execution_count": null,
   "id": "dee79f63-e0fc-49ba-8d62-8d385e5cca3b",
   "metadata": {},
   "outputs": [],
   "source": [
    "from fastai.text.all import *"
   ]
  },
  {
   "cell_type": "code",
   "execution_count": null,
   "id": "4e8390ed-7092-41c7-8a2c-cf6083c11447",
   "metadata": {},
   "outputs": [],
   "source": [
    "class TransformersTokenizer(Transform):\n",
    "    def encode(self, x):\n",
    "        return encode_text(x)\n",
    "\n",
    "    def decode(self, x):\n",
    "        return decode_text(x)"
   ]
  },
  {
   "cell_type": "code",
   "execution_count": null,
   "id": "e7ff9778-84b0-4b9a-9d6f-da169efec3ed",
   "metadata": {},
   "outputs": [],
   "source": [
    "from langchain import PromptTemplate"
   ]
  },
  {
   "cell_type": "code",
   "execution_count": null,
   "id": "79d7aecd-3b46-4966-80cf-03f5c65964e8",
   "metadata": {},
   "outputs": [],
   "source": [
    "template = \"\"\"\n",
    "This is a conversation between a user and AI\n",
    "{history}\n",
    "User: {input}\n",
    "AI:\n",
    "\"\"\""
   ]
  },
  {
   "cell_type": "code",
   "execution_count": null,
   "id": "f05f748a-7695-4d98-86db-020c587d866d",
   "metadata": {},
   "outputs": [],
   "source": [
    "prompt = PromptTemplate(\n",
    "    input_variables=[\"history\", \"input\"],\n",
    "    template=template\n",
    ")"
   ]
  },
  {
   "cell_type": "code",
   "execution_count": null,
   "id": "fe1c6586-9e06-4235-8525-497a6684e87f",
   "metadata": {},
   "outputs": [],
   "source": [
    "y = F.pad(x, pad=)"
   ]
  },
  {
   "cell_type": "code",
   "execution_count": null,
   "id": "fce39c4e-eff5-430f-9ab1-23cf124f018a",
   "metadata": {},
   "outputs": [],
   "source": [
    "from einops import repeat"
   ]
  },
  {
   "cell_type": "code",
   "execution_count": null,
   "id": "d1e785ae-de6e-4a8b-9a7e-733476f2ad5e",
   "metadata": {},
   "outputs": [],
   "source": [
    "output = repeat(x, 'h w -> h w new_axis', new_axis=2)"
   ]
  },
  {
   "cell_type": "code",
   "execution_count": null,
   "id": "f35abd5b-7930-43a9-9270-a33da51e387c",
   "metadata": {},
   "outputs": [],
   "source": [
    "from torch.distributions import Categorical"
   ]
  },
  {
   "cell_type": "code",
   "execution_count": null,
   "id": "d6414a26-5979-4477-b4d4-6b4276e1b202",
   "metadata": {},
   "outputs": [],
   "source": [
    "class ActorCritic(nn.Module):\n",
    "    def __init__(self, n_observations, n_actions, n_hidden):\n",
    "        super().__init__()\n",
    "        self.actor = nn.Sequential(\n",
    "            nn.Linear(n_observations, n_hidden),\n",
    "            nn.ReLU(),\n",
    "            nn.Linear(n_hidden, n_hidden),\n",
    "            nn.ReLU(),\n",
    "            nn.Linear(n_hidden, n_actions),\n",
    "            nn.Softmax(dim=-1)\n",
    "        )\n",
    "        \n",
    "        self.critic = nn.Sequential(\n",
    "            nn.Linear(n_observations, n_hidden),\n",
    "            nn.ReLU(),\n",
    "            nn.Linear(n_hidden, n_hidden),\n",
    "            nn.ReLU(),\n",
    "            nn.Linear(n_hidden, 1),\n",
    "            nn.Sigmoid()\n",
    "        )\n",
    "    \n",
    "    def get_action_and_value(self, x):\n",
    "        probs = self.actor(x)\n",
    "        value = self.critic(x)\n",
    "        \n",
    "        dist = Categorical(probs=probs)\n",
    "        action = dist.sample()\n",
    "        log_prob = dist.log_prob(action)\n",
    "        entropy = dist.entropy()\n",
    "        \n",
    "        return action, log_prob, entropy, value"
   ]
  },
  {
   "cell_type": "code",
   "execution_count": null,
   "id": "2eb4e7c4-de94-4c5b-bea8-88aa00d57dd7",
   "metadata": {},
   "outputs": [],
   "source": [
    "def create_mask(size):\n",
    "    return torch.ones((size, size)).triu(1)"
   ]
  },
  {
   "cell_type": "code",
   "execution_count": null,
   "id": "51712c4d-9e4c-4f4c-ad35-bf6a366ebd23",
   "metadata": {},
   "outputs": [
    {
     "data": {
      "text/plain": [
       "tensor([[0., 1., 1., 1.],\n",
       "        [0., 0., 1., 1.],\n",
       "        [0., 0., 0., 1.],\n",
       "        [0., 0., 0., 0.]])"
      ]
     },
     "execution_count": null,
     "metadata": {},
     "output_type": "execute_result"
    }
   ],
   "source": [
    "create_mask(4)"
   ]
  },
  {
   "cell_type": "code",
   "execution_count": null,
   "id": "e9feb38e-079f-47c6-b2b8-c99f07d3cfe7",
   "metadata": {},
   "outputs": [],
   "source": [
    "past state, action, desired reward"
   ]
  },
  {
   "cell_type": "code",
   "execution_count": null,
   "id": "07b3606a-100e-4cc6-a847-27df17dab290",
   "metadata": {},
   "outputs": [],
   "source": [
    "class ResidualBlock(nn.Module):\n",
    "    def __init__(self, in_channels, out_channels, stride, downsample):\n",
    "        super().__init__()\n",
    "        self.conv1 = nn.Conv2d(\n",
    "            in_channels=in_channels, out_channels=100,\n",
    "            padding=1, kernel_size=3\n",
    "        )\n",
    "        self.bn1 = nn.BatchNorm2d(100)\n",
    "        self.act1 = nn.ReLU()\n",
    "        self.conv2 = nn.Conv2d(\n",
    "            in_channels=100, out_channels=out_channels,\n",
    "            kernel_size=3, stride=stride, padding=1\n",
    "        )\n",
    "        self.act2 = nn.BatchNorm2d(out_channels)\n",
    "        self.act3 = nn.ReLU()\n",
    "    \n",
    "    def forward(self, x):\n",
    "        residual = x\n",
    "        output = self.act1(self.bn1(self.conv1(x)))\n",
    "        output = self.bn2(self.conv2(x))\n",
    "        \n",
    "        output += x\n",
    "        \n",
    "        return self.act2(output)"
   ]
  },
  {
   "cell_type": "code",
   "execution_count": null,
   "id": "16d9f159-30ae-4dcc-8e25-2b8c9c8066bc",
   "metadata": {},
   "outputs": [],
   "source": [
    "from einops import repeat"
   ]
  },
  {
   "cell_type": "code",
   "execution_count": null,
   "id": "13b12fab-2adb-4ab2-a6c8-efcccc1f4b94",
   "metadata": {},
   "outputs": [],
   "source": [
    "output = repeat(x, 'h w -> h w new_axis', new_axis=2)"
   ]
  },
  {
   "cell_type": "code",
   "execution_count": null,
   "id": "a412ce10-10a3-4223-a1d3-e6cd75cfdc96",
   "metadata": {},
   "outputs": [],
   "source": [
    "embedding = nn.Embedding(num_embeddings=1000, embedding_dim=5, padding_idx=5)"
   ]
  },
  {
   "cell_type": "code",
   "execution_count": null,
   "id": "e1f1323c-fb0f-4e23-86f2-6db2ca287666",
   "metadata": {},
   "outputs": [],
   "source": [
    "def train(x, y, epochs):\n",
    "    \n",
    "    for _ in range(epochs):\n",
    "        \n",
    "        pred = model(x)\n",
    "        loss = loss_func(pred, y)\n",
    "        \n",
    "        loss.backward()\n",
    "        optim.zero_grad()\n",
    "        optim.step()"
   ]
  }
 ],
 "metadata": {
  "kernelspec": {
   "display_name": "Python 3 (ipykernel)",
   "language": "python",
   "name": "python3"
  }
 },
 "nbformat": 4,
 "nbformat_minor": 5
}
