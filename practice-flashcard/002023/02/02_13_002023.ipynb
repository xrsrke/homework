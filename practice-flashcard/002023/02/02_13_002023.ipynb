{
 "cells": [
  {
   "cell_type": "markdown",
   "id": "7877e4eb-5db1-4ed0-8aaa-732dba72b32c",
   "metadata": {},
   "source": [
    "### Science"
   ]
  },
  {
   "cell_type": "code",
   "execution_count": null,
   "id": "cd414997-6d43-44a3-b750-9737f60a1417",
   "metadata": {},
   "outputs": [],
   "source": [
    "make the protein of the disease innormal function"
   ]
  },
  {
   "cell_type": "code",
   "execution_count": null,
   "id": "237e68c3-a1cc-4d47-aeec-b1806ff55ec8",
   "metadata": {},
   "outputs": [],
   "source": [
    "space, time, mass, energy, symmetry"
   ]
  },
  {
   "cell_type": "markdown",
   "id": "861498ed-2f51-4f7f-a7b7-d521b73d4118",
   "metadata": {},
   "source": [
    "the brain learn to activate the pattern of neural activity associate with a good reward"
   ]
  },
  {
   "cell_type": "markdown",
   "id": "4ce89481-3598-426d-a722-26325762a178",
   "metadata": {},
   "source": [
    "step 1: a camera detects electromagnetic radiation\n",
    "step 2: convert electromagnetic radiations to corresponds electrical signals\n",
    "step 3: send the EM to a small device that implant in the eye\n",
    "step 4: the device send the EM to healthy cells in retina\n",
    "step 5: the healthy cells send E to the brain"
   ]
  },
  {
   "cell_type": "code",
   "execution_count": null,
   "id": "f396d904-bbe0-4a53-a1b7-23d22d443c39",
   "metadata": {},
   "outputs": [],
   "source": [
    "conditioned response, imagery motor, stimulus-evoked, population activity"
   ]
  },
  {
   "cell_type": "code",
   "execution_count": null,
   "id": "eea60d74-6c4e-4d37-b218-a44068b28c43",
   "metadata": {},
   "outputs": [],
   "source": [
    "step 1: solve the scholdering equation\n",
    "step "
   ]
  },
  {
   "cell_type": "markdown",
   "id": "91e1030b-f086-4993-bec9-976ffe75ad4b",
   "metadata": {},
   "source": [
    "### Software"
   ]
  },
  {
   "cell_type": "code",
   "execution_count": null,
   "id": "a43740bc-327c-4cbd-9c3c-7b480bf8bad4",
   "metadata": {},
   "outputs": [],
   "source": [
    "for a, b in list:\n",
    "    print(a, b)"
   ]
  },
  {
   "cell_type": "code",
   "execution_count": null,
   "id": "82d5086f-3140-4935-b619-fb5f13b70947",
   "metadata": {},
   "outputs": [],
   "source": [
    "from enum import Enum"
   ]
  },
  {
   "cell_type": "code",
   "execution_count": null,
   "id": "fd5970c5-e850-4aa3-9880-e3417cf952fa",
   "metadata": {},
   "outputs": [],
   "source": [
    "class Sauces(Enum):\n",
    "    BECHAMEL = \"Bechamel\"\n",
    "    VELOUTE = \"Veloute\""
   ]
  },
  {
   "cell_type": "code",
   "execution_count": null,
   "id": "2f0a65b3-34df-4527-bff5-b09d27b79b9e",
   "metadata": {},
   "outputs": [],
   "source": [
    "def create_sauce(sauce: Sauces):\n",
    "    pass"
   ]
  },
  {
   "cell_type": "code",
   "execution_count": null,
   "id": "3da15da4-5a8a-45d8-9fe7-8447ab47aad0",
   "metadata": {},
   "outputs": [],
   "source": [
    "cp foo.js ./new/hello.js"
   ]
  },
  {
   "cell_type": "markdown",
   "id": "dd836353-6661-431d-8800-1d69d0d0367d",
   "metadata": {},
   "source": [
    "### AI"
   ]
  },
  {
   "cell_type": "code",
   "execution_count": null,
   "id": "4e28854e-4e98-44ae-a83e-7e1627d423f4",
   "metadata": {},
   "outputs": [],
   "source": [
    "import torch\n",
    "from torch import nn\n",
    "import torch.nn.functional as F"
   ]
  },
  {
   "cell_type": "code",
   "execution_count": null,
   "id": "d3d4d8cf-89c5-4487-a566-bd769ff0dbe6",
   "metadata": {},
   "outputs": [],
   "source": [
    "turn all the logits of the last token into probabilities\n",
    "and sample a sample from the distribution"
   ]
  },
  {
   "cell_type": "code",
   "execution_count": null,
   "id": "62e87991-2e2a-4cc1-954e-152b3146295a",
   "metadata": {},
   "outputs": [],
   "source": [
    "from torch.nn.utils.rnn import pad_sequence"
   ]
  },
  {
   "cell_type": "code",
   "execution_count": null,
   "id": "65b86d84-376d-4de3-baff-7260de5da67b",
   "metadata": {},
   "outputs": [],
   "source": [
    "padded_batch = pad_sequence(sequences=batch, batch_first=True, padding_value=0)"
   ]
  },
  {
   "cell_type": "code",
   "execution_count": null,
   "id": "8ab62041-281e-4890-94e4-3e00486c83da",
   "metadata": {},
   "outputs": [],
   "source": [
    "def tokenize(batch):\n",
    "    return tokenizer(batch[\"text\"], padding=True)"
   ]
  },
  {
   "cell_type": "code",
   "execution_count": null,
   "id": "0eeb5025-9c09-47c0-98b8-fd90a1c23e82",
   "metadata": {},
   "outputs": [],
   "source": [
    "class Model:\n",
    "    def __init__(self, w1, b1, w2, b2):\n",
    "        self.l1 = Lin(w1, b1)\n",
    "        self.act1 = ReLU()\n",
    "        self.l2 = Lin(w2, b2)\n",
    "        self.act2 = ReLU()\n",
    "        self.loss = Mse()\n",
    "    \n",
    "    def __call__(self, x, y):\n",
    "        pred = self.act2(self.l2(self.act1(self.l1(x))))\n",
    "        loss = self.loss(y, pred)\n",
    "        \n",
    "        return loss"
   ]
  },
  {
   "cell_type": "code",
   "execution_count": null,
   "id": "ab0aee79-9425-414e-afe2-8c92833c42f2",
   "metadata": {},
   "outputs": [],
   "source": [
    "def compute_cross_entropy(logits, targets):\n",
    "    log_softmax = torch.log_softmax(logits, dim=-1)\n",
    "    loss = -log_softmax[range(targets.shape[-1]), targets].mean()\n",
    "    return loss"
   ]
  },
  {
   "cell_type": "code",
   "execution_count": null,
   "id": "a54cbb09-395b-4e5f-a2c4-3d3c58405a43",
   "metadata": {},
   "outputs": [],
   "source": [
    "encoded_text = tokenizer(batch[\"text\"], padding=True)"
   ]
  },
  {
   "cell_type": "code",
   "execution_count": null,
   "id": "3277a832-62d5-4858-9258-de4e1b0521e4",
   "metadata": {},
   "outputs": [],
   "source": [
    "from datasets import load_metric"
   ]
  },
  {
   "cell_type": "code",
   "execution_count": null,
   "id": "51be4afe-be37-4945-9187-7f6fd1174d46",
   "metadata": {},
   "outputs": [
    {
     "name": "stderr",
     "output_type": "stream",
     "text": [
      "/var/folders/pf/g3nr86yn4j71vzzmv6knwdhr0000gp/T/ipykernel_32687/1963947385.py:1: FutureWarning: load_metric is deprecated and will be removed in the next major version of datasets. Use 'evaluate.load' instead, from the new library 🤗 Evaluate: https://huggingface.co/docs/evaluate\n",
      "  bleu = load_metric(\"bleu\")\n"
     ]
    }
   ],
   "source": [
    "bleu = load_metric(\"bleu\")"
   ]
  },
  {
   "cell_type": "code",
   "execution_count": null,
   "id": "383c8a86-7f99-40b9-902a-50a99a5216b2",
   "metadata": {},
   "outputs": [],
   "source": [
    "masked_encoding = encodings.mask_fill(mask==False, -1)"
   ]
  },
  {
   "cell_type": "code",
   "execution_count": null,
   "id": "5f179309-1d22-45e6-be7e-f93a20c8519b",
   "metadata": {},
   "outputs": [],
   "source": [
    "for param in model.parameters():\n",
    "    param.requires_grad = False"
   ]
  },
  {
   "cell_type": "code",
   "execution_count": null,
   "id": "1eed8c0e-d6d7-44bb-955f-818e82b24aa6",
   "metadata": {},
   "outputs": [],
   "source": [
    "model.classifier[0].requires_grad = True\n",
    "model.classifier[3].requires_grad = True"
   ]
  },
  {
   "cell_type": "code",
   "execution_count": null,
   "id": "795b87c3-03f7-4ccb-acea-9586e555640a",
   "metadata": {},
   "outputs": [],
   "source": [
    "model.classifier[6] = nn.Linear(4096, 10)"
   ]
  },
  {
   "cell_type": "code",
   "execution_count": null,
   "id": "446d86f0-5633-40e3-8a8a-264613e95082",
   "metadata": {},
   "outputs": [],
   "source": [
    "import math"
   ]
  },
  {
   "cell_type": "code",
   "execution_count": null,
   "id": "458c3ba5-ddf1-4e69-bfe3-a4bc4b15a1cf",
   "metadata": {},
   "outputs": [],
   "source": [
    "class SelfAttention(nn.Module):\n",
    "    def __init__(self, d_head):\n",
    "        super().__init__()\n",
    "        self.d_head = d_head\n",
    "    \n",
    "    def forward(self, q, k, v, mask=None):\n",
    "        qk_matmul = torch.matmul(q, k.permute(3, 2))\n",
    "        scores = qk_matmul / math.sqrt(self.d_head)\n",
    "        \n",
    "        if mask is not None:\n",
    "            scores = scores.mask_fill(mask == False, -1e9)\n",
    "        \n",
    "        attention_weights = F.softmax(scores, dim=-1)\n",
    "        output = torch.matmul(attention_weights, v)\n",
    "        \n",
    "        return output, attention_weights"
   ]
  },
  {
   "cell_type": "code",
   "execution_count": null,
   "id": "f88ba99a-0b96-44c9-8979-8790d10c02cb",
   "metadata": {},
   "outputs": [],
   "source": [
    "def calculate_loss_soft_of_v(states, actions, action_probs):\n",
    "    v_values = v_network(states)\n",
    "    \n",
    "    q_values = q_network(states, actions)\n",
    "    entropy = -action_probs.log()\n",
    "    \n",
    "    v_targets = (q_values + entropy).mean()\n",
    "    \n",
    "    loss = (v_values - v_targets).pow(2)**0.5\n",
    "    \n",
    "    return loss.mean()"
   ]
  },
  {
   "cell_type": "code",
   "execution_count": null,
   "id": "57bf554b-28a6-4a07-b9e6-9d129c3efea7",
   "metadata": {},
   "outputs": [],
   "source": [
    "def nll(sm_pred, target):\n",
    "    return -sm_pred[range(target.shape[-1]), target].mean()"
   ]
  },
  {
   "cell_type": "code",
   "execution_count": null,
   "id": "8e077369-086f-440b-8e46-81ef5591463c",
   "metadata": {},
   "outputs": [],
   "source": [
    "sm_pred[range(y_train.shape[-1]), y_train]"
   ]
  },
  {
   "cell_type": "code",
   "execution_count": null,
   "id": "2c20602f-3b73-4833-9b6a-4561f661d693",
   "metadata": {},
   "outputs": [],
   "source": [
    "(small_part @ filter_1).sum() + (small_part @ filter_2).sum()"
   ]
  },
  {
   "cell_type": "code",
   "execution_count": null,
   "id": "29d95d96-50e1-4aaf-9442-0d5970081680",
   "metadata": {},
   "outputs": [],
   "source": [
    "from datasets import load_metric"
   ]
  },
  {
   "cell_type": "code",
   "execution_count": null,
   "id": "09f4f304-58dd-4a8d-bee2-e3a5b1b3025b",
   "metadata": {},
   "outputs": [],
   "source": [
    "bleu = load_metric(\"bleu\")"
   ]
  },
  {
   "cell_type": "code",
   "execution_count": null,
   "id": "ffff201b-86ea-47a2-a458-6e84b9522288",
   "metadata": {},
   "outputs": [],
   "source": [
    "output = bleu.compute(predictions=predictions, references=references)"
   ]
  },
  {
   "cell_type": "code",
   "execution_count": null,
   "id": "338849d1-538b-445e-83b8-588d45cd0b28",
   "metadata": {},
   "outputs": [],
   "source": []
  }
 ],
 "metadata": {
  "kernelspec": {
   "display_name": "Python 3 (ipykernel)",
   "language": "python",
   "name": "python3"
  }
 },
 "nbformat": 4,
 "nbformat_minor": 5
}
