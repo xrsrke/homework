{
 "cells": [
  {
   "cell_type": "markdown",
   "id": "50590f20-6513-43d8-8b3f-7f97c55f8406",
   "metadata": {},
   "source": [
    "### Science"
   ]
  },
  {
   "cell_type": "code",
   "execution_count": null,
   "id": "abbcaa37-22d3-45e0-9d50-dcecbfbee747",
   "metadata": {},
   "outputs": [],
   "source": [
    "cell body, dendrite, synapse, axon"
   ]
  },
  {
   "cell_type": "code",
   "execution_count": null,
   "id": "97478b12-3b2e-47ff-9beb-b58888e785c2",
   "metadata": {},
   "outputs": [],
   "source": [
    "recording, stimulating, signal processing, memory"
   ]
  },
  {
   "cell_type": "code",
   "execution_count": null,
   "id": "53d85bf5-a750-48fb-b973-a732eab1c134",
   "metadata": {},
   "outputs": [],
   "source": [
    "had sub v_ed"
   ]
  },
  {
   "cell_type": "markdown",
   "id": "da63b11c-44f3-4ef8-923a-90fd1c40b31b",
   "metadata": {},
   "source": [
    "### SW"
   ]
  },
  {
   "cell_type": "code",
   "execution_count": null,
   "id": "32fb4448-1248-4d24-9936-96bf65a60162",
   "metadata": {},
   "outputs": [],
   "source": [
    "class UppercaseTuple:\n",
    "    def __new__(self, data):\n",
    "        data = upper"
   ]
  },
  {
   "cell_type": "code",
   "execution_count": null,
   "id": "de56d2be-d37c-4d29-a0ac-d23295fde9da",
   "metadata": {},
   "outputs": [],
   "source": [
    "from typing import Protocol"
   ]
  },
  {
   "cell_type": "code",
   "execution_count": null,
   "id": "3f3addad-1221-48a1-b428-6c218657f518",
   "metadata": {},
   "outputs": [],
   "source": [
    "class Splitable(Protocol):\n",
    "    def split_in_half(self): pass"
   ]
  },
  {
   "cell_type": "markdown",
   "id": "1b3b6d62-b37f-49da-918f-68d06310125e",
   "metadata": {},
   "source": [
    "### AI"
   ]
  },
  {
   "cell_type": "code",
   "execution_count": null,
   "id": "aaa4175d-2b09-4ceb-b631-a83f835a6537",
   "metadata": {},
   "outputs": [],
   "source": [
    "import torch\n",
    "from torch import nn\n",
    "import torch.nn.functional as F"
   ]
  },
  {
   "cell_type": "code",
   "execution_count": null,
   "id": "11546e79-4d24-4f5a-9bac-d7d4cf4f3a67",
   "metadata": {},
   "outputs": [],
   "source": [
    "from langchain import PromptTemplate"
   ]
  },
  {
   "cell_type": "code",
   "execution_count": null,
   "id": "a4fa2e96-a7d2-4bd4-975c-cf1bc1371bc5",
   "metadata": {},
   "outputs": [],
   "source": [
    "template = \"\"\"\n",
    "Predict the capital of a country.\n",
    "Country: {country}\n",
    "Capital:\n",
    "\"\"\""
   ]
  },
  {
   "cell_type": "code",
   "execution_count": null,
   "id": "fc1cf77e-55a5-4097-92a7-123d3bbda16f",
   "metadata": {},
   "outputs": [],
   "source": [
    "prompt = PromptTemplate(template=template, input_variables=[\"country\"])"
   ]
  },
  {
   "cell_type": "code",
   "execution_count": null,
   "id": "087a72f8-7baa-49aa-915c-445f24326743",
   "metadata": {},
   "outputs": [],
   "source": [
    "def frobenius_norm()"
   ]
  },
  {
   "cell_type": "code",
   "execution_count": null,
   "id": "5b32fd18-ca22-486f-aeef-ecb7f1b9f7a1",
   "metadata": {},
   "outputs": [],
   "source": [
    "from langchain import LLMChain"
   ]
  },
  {
   "cell_type": "code",
   "execution_count": null,
   "id": "054d4094-291d-4b14-98b2-3f1c87039792",
   "metadata": {},
   "outputs": [],
   "source": [
    "chatgpt_chain = LLMChain(llm=model, prompt=prompt)"
   ]
  },
  {
   "cell_type": "code",
   "execution_count": null,
   "id": "441b5865-7bb0-4d5c-b23a-e15f001e72f9",
   "metadata": {},
   "outputs": [],
   "source": [
    "from einops import repeat"
   ]
  },
  {
   "cell_type": "code",
   "execution_count": null,
   "id": "4f7607fb-4863-4075-bc56-c504d2f0808f",
   "metadata": {},
   "outputs": [],
   "source": [
    "output = repeat(x, \"h w -> h \")"
   ]
  },
  {
   "cell_type": "code",
   "execution_count": null,
   "id": "77af7b60-09eb-4731-a686-4c3d86f84afa",
   "metadata": {},
   "outputs": [],
   "source": [
    "from einops import rearrange"
   ]
  },
  {
   "cell_type": "code",
   "execution_count": null,
   "id": "ce07e1d9-4d1e-4bef-8ac1-27648d813549",
   "metadata": {},
   "outputs": [],
   "source": [
    "output = rearrange(images, '... 1 > ...')"
   ]
  },
  {
   "cell_type": "code",
   "execution_count": null,
   "id": "e9f406fc-640e-4ebc-9ab2-67089be4d072",
   "metadata": {},
   "outputs": [],
   "source": [
    "from PIL import Image"
   ]
  },
  {
   "cell_type": "code",
   "execution_count": null,
   "id": "042a1c92-47d9-4d3d-8752-310caaa5858b",
   "metadata": {},
   "outputs": [],
   "source": [
    "def load_and_resize(path, size):\n",
    "    return Image.open(path).resize(size)"
   ]
  },
  {
   "cell_type": "code",
   "execution_count": null,
   "id": "0e05592e-288d-44f9-b2f3-e69da038951e",
   "metadata": {},
   "outputs": [],
   "source": [
    "def accuracy(probs, targs):\n",
    "    idx_preds = torch.argmax(probs, dim=-1)\n",
    "    return (idx_preds == targs).float().mean()"
   ]
  },
  {
   "cell_type": "code",
   "execution_count": null,
   "id": "8841e1a1-22a0-497e-83de-02246b35de9b",
   "metadata": {},
   "outputs": [],
   "source": [
    "embedding = nn.Embedding(num_embeddings=1000, embedding_dim=5, padding_idx=5)"
   ]
  },
  {
   "cell_type": "code",
   "execution_count": null,
   "id": "48e824fb-5dda-4a6e-9bd8-50a670e1bee1",
   "metadata": {},
   "outputs": [],
   "source": [
    "class Dataset:\n",
    "    def __init__(self, x_train, y_train):\n",
    "        self.xs = x_train\n",
    "        self.ys = y_train\n",
    "    \n",
    "    def __getitem__(self, idx):\n",
    "        return self.xs[idx], self.ys[idx]"
   ]
  },
  {
   "cell_type": "code",
   "execution_count": null,
   "id": "95b17d35-aec5-4e4a-8b5c-90da72219864",
   "metadata": {},
   "outputs": [],
   "source": []
  }
 ],
 "metadata": {
  "kernelspec": {
   "display_name": "Python 3 (ipykernel)",
   "language": "python",
   "name": "python3"
  }
 },
 "nbformat": 4,
 "nbformat_minor": 5
}
