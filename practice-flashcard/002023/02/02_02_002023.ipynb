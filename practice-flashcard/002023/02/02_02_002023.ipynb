{
 "cells": [
  {
   "cell_type": "markdown",
   "id": "a1048348-7493-497a-b1e6-009fa04ee745",
   "metadata": {},
   "source": [
    "### Sci"
   ]
  },
  {
   "cell_type": "code",
   "execution_count": null,
   "id": "ff814f0a-75c9-48d3-b93a-b049883fe20c",
   "metadata": {},
   "outputs": [],
   "source": [
    "- two uncertainty principles\n",
    "- quantization of angular momentum\n",
    "- quantization of action"
   ]
  },
  {
   "cell_type": "code",
   "execution_count": null,
   "id": "e520be74-e4b8-4c28-a81a-eaf0fabf612a",
   "metadata": {},
   "outputs": [],
   "source": [
    "v_1, v_2, m = "
   ]
  },
  {
   "cell_type": "code",
   "execution_count": 1,
   "id": "b69d98a8-96b4-4d8e-a055-5c646fb1300e",
   "metadata": {},
   "outputs": [],
   "source": [
    "import sympy as smp\n",
    "import sympy.physics.units as units"
   ]
  },
  {
   "cell_type": "code",
   "execution_count": 2,
   "id": "8247d08f-da16-4a90-aef8-87b581fbf5c6",
   "metadata": {},
   "outputs": [],
   "source": [
    "m, v_1, m, h_2, g = smp.symbols('m, v_1, m, h_2, g')"
   ]
  },
  {
   "cell_type": "code",
   "execution_count": 3,
   "id": "875ba82c-788c-4129-8962-aa54a99c1b62",
   "metadata": {},
   "outputs": [],
   "source": [
    "k_1 = 0.5*m*v_1**2"
   ]
  },
  {
   "cell_type": "code",
   "execution_count": 5,
   "id": "ad9fbff3-99de-4bb5-bad5-fe2b359ed4a0",
   "metadata": {},
   "outputs": [
    {
     "data": {
      "text/latex": [
       "$\\displaystyle 0.5 m v_{1}^{2}$"
      ],
      "text/plain": [
       "0.5*m*v_1**2"
      ]
     },
     "execution_count": 5,
     "metadata": {},
     "output_type": "execute_result"
    }
   ],
   "source": [
    "k_1"
   ]
  },
  {
   "cell_type": "code",
   "execution_count": 6,
   "id": "7ce0b416-1e2a-4922-8165-fd20aed79f3b",
   "metadata": {},
   "outputs": [],
   "source": [
    "u_2 = m*h_2*g"
   ]
  },
  {
   "cell_type": "code",
   "execution_count": 7,
   "id": "87ac7216-7a75-4f51-8cdc-d5bb0bf01a80",
   "metadata": {},
   "outputs": [
    {
     "data": {
      "text/latex": [
       "$\\displaystyle g h_{2} m$"
      ],
      "text/plain": [
       "g*h_2*m"
      ]
     },
     "execution_count": 7,
     "metadata": {},
     "output_type": "execute_result"
    }
   ],
   "source": [
    "u_2"
   ]
  },
  {
   "cell_type": "code",
   "execution_count": 9,
   "id": "a3438264-98e1-46d2-97b2-cedc91f8c762",
   "metadata": {},
   "outputs": [],
   "source": [
    "eq = smp.Eq(k_1, u_2)"
   ]
  },
  {
   "cell_type": "code",
   "execution_count": 11,
   "id": "af77a716-7e11-4c29-b456-93ee904ff513",
   "metadata": {},
   "outputs": [
    {
     "data": {
      "text/latex": [
       "$\\displaystyle 0.5 m v_{1}^{2} = g h_{2} m$"
      ],
      "text/plain": [
       "Eq(0.5*m*v_1**2, g*h_2*m)"
      ]
     },
     "execution_count": 11,
     "metadata": {},
     "output_type": "execute_result"
    }
   ],
   "source": [
    "eq"
   ]
  },
  {
   "cell_type": "code",
   "execution_count": 13,
   "id": "bbfda4a0-2bdc-45dd-8d45-fb2658521248",
   "metadata": {},
   "outputs": [],
   "source": [
    "h_2_val = smp.solve(eq, h_2)"
   ]
  },
  {
   "cell_type": "code",
   "execution_count": 14,
   "id": "d0b4e92e-f6d6-4abf-bbda-ac061654e8d5",
   "metadata": {},
   "outputs": [
    {
     "data": {
      "text/latex": [
       "$\\displaystyle \\frac{0.5 v_{1}^{2}}{g}$"
      ],
      "text/plain": [
       "0.5*v_1**2/g"
      ]
     },
     "execution_count": 14,
     "metadata": {},
     "output_type": "execute_result"
    }
   ],
   "source": [
    "h_2_val[0].subs({\n",
    "})"
   ]
  },
  {
   "cell_type": "code",
   "execution_count": null,
   "id": "f64289ed-c35c-4f00-b89a-be5d5db2a9cf",
   "metadata": {},
   "outputs": [],
   "source": [
    "dendrite, axon, cell body, synapse"
   ]
  },
  {
   "cell_type": "code",
   "execution_count": null,
   "id": "605c4e4f-cceb-46dc-bf60-dd161e0df616",
   "metadata": {},
   "outputs": [],
   "source": [
    "neuron 1 > axon > synapse > dendrite > neuron 2"
   ]
  },
  {
   "cell_type": "code",
   "execution_count": null,
   "id": "32fc68bc-5a5d-42e6-ad2b-694e09f4d06a",
   "metadata": {},
   "outputs": [],
   "source": [
    "axon, dendrite, cell body, synapse"
   ]
  },
  {
   "cell_type": "code",
   "execution_count": null,
   "id": "d37f8ac6-f07c-480a-9dc2-714f90d55714",
   "metadata": {},
   "outputs": [],
   "source": [
    "solve the wave function\n",
    "find the operator\n",
    "find the expected value of the operator"
   ]
  },
  {
   "cell_type": "markdown",
   "id": "6d657e43-93cb-43f7-81fb-b63f94bef67c",
   "metadata": {},
   "source": [
    "### SW"
   ]
  },
  {
   "cell_type": "markdown",
   "id": "405e9384-0e57-4bfd-bbf2-031b97ca2bb1",
   "metadata": {},
   "source": [
    "### AI"
   ]
  },
  {
   "cell_type": "code",
   "execution_count": 15,
   "id": "44c6490e-5c9f-4bcc-8852-1ab7cb280612",
   "metadata": {},
   "outputs": [],
   "source": [
    "import torch\n",
    "from torch import nn\n",
    "import torch.nn.functional as F"
   ]
  },
  {
   "cell_type": "code",
   "execution_count": 16,
   "id": "cbe31da1-30b8-40cf-b076-df45499071c1",
   "metadata": {},
   "outputs": [],
   "source": [
    "from einops import pack"
   ]
  },
  {
   "cell_type": "code",
   "execution_count": null,
   "id": "b0d8e60e-b8ae-4d03-bbf9-06a5186b1883",
   "metadata": {},
   "outputs": [],
   "source": [
    "stacked_images = pack([image_rgb, image_depth], 'h w *')"
   ]
  },
  {
   "cell_type": "code",
   "execution_count": null,
   "id": "bf9296a0-22dc-401b-b500-a4c98572ffb4",
   "metadata": {},
   "outputs": [],
   "source": [
    "def summary_batch(article_batches, max_context_length=1024):\n",
    "    arr_summary = []\n",
    "    \n",
    "    for article_batch in article_batch:\n",
    "        inputs = tokenizer(\n",
    "            article_batch,\n",
    "            truncation=True,\n",
    "            padding=True,\n",
    "            return_tensors=\"pt\",\n",
    "            context_length=1024,\n",
    "            **tokenizer_param\n",
    "        )\n",
    "        \n",
    "        summary_ids = model.generate(\n",
    "            input_ids=inputs[\"input_ids\"],\n",
    "            attention_mask=inputs[\"attention_mask\"],\n",
    "            **model_param\n",
    "        )\n",
    "        \n",
    "        decoded_summaries = [\n",
    "            tokenizer.decode(x) for x in summary_ids\n",
    "        ]\n",
    "        \n",
    "        arr_summary.append(decoded_summaries)\n",
    "    \n",
    "    return arr_summary"
   ]
  },
  {
   "cell_type": "code",
   "execution_count": null,
   "id": "5a3e521b-005a-4c68-8e2c-79b4e4ca0b8e",
   "metadata": {},
   "outputs": [],
   "source": [
    "output = x.mean(dim=-1, keepdim=True)"
   ]
  },
  {
   "cell_type": "code",
   "execution_count": null,
   "id": "980d9d6a-5c08-4e74-a624-766bf4325709",
   "metadata": {},
   "outputs": [],
   "source": [
    "def generate_transitions(model, env):\n",
    "    state = env.reset()\n",
    "    done = False\n",
    "    \n",
    "    states = []\n",
    "    \n",
    "    while done is not False:\n",
    "        pred_rewards = model(state)\n",
    "        action = torch.argmax(pred_rewards, dim=-1)\n",
    "        \n",
    "        next_state, reward, done, truncated, info = env.step(action)\n",
    "        \n",
    "        if done:\n",
    "            break\n",
    "        else:\n",
    "            states.append(state)\n",
    "            state = next_state\n",
    "    \n",
    "    return states"
   ]
  },
  {
   "cell_type": "code",
   "execution_count": null,
   "id": "6829550f-2d54-4fc0-9733-72545681dc40",
   "metadata": {},
   "outputs": [],
   "source": [
    "def accuracy(probs, targs):\n",
    "    pred_idxs = torch.argmax(probs, dim=-1)\n",
    "    \n",
    "    return (pred_idxs == targs).float().mean()"
   ]
  }
 ],
 "metadata": {
  "kernelspec": {
   "display_name": "Python 3 (ipykernel)",
   "language": "python",
   "name": "python3"
  },
  "language_info": {
   "codemirror_mode": {
    "name": "ipython",
    "version": 3
   },
   "file_extension": ".py",
   "mimetype": "text/x-python",
   "name": "python",
   "nbconvert_exporter": "python",
   "pygments_lexer": "ipython3",
   "version": "3.8.15"
  }
 },
 "nbformat": 4,
 "nbformat_minor": 5
}
