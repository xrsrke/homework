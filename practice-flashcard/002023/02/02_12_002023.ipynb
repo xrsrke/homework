{
 "cells": [
  {
   "cell_type": "markdown",
   "id": "065069be-efcb-41f0-a185-131dc93e4f3a",
   "metadata": {},
   "source": [
    "### Science"
   ]
  },
  {
   "cell_type": "code",
   "execution_count": null,
   "id": "d714bee9-4e42-4b74-9ecb-967a0a9a9ec2",
   "metadata": {},
   "outputs": [],
   "source": [
    "mass, energy, space, time"
   ]
  },
  {
   "cell_type": "markdown",
   "id": "415d6b05-0f53-411e-b787-ada5916d403d",
   "metadata": {},
   "source": [
    "step 1: record neural activity of the monkey when it performs differnet actions\n",
    "step 2: identify the unique pattern of neuron activity while the monkey performs the target action\n",
    "step 3: reward the monkey when it performn"
   ]
  },
  {
   "cell_type": "code",
   "execution_count": null,
   "id": "135dc930-f99d-4871-b75b-b1e68cddd4ab",
   "metadata": {},
   "outputs": [],
   "source": [
    "step 1: a device detects ultrasound\n",
    "step 2: convert "
   ]
  },
  {
   "cell_type": "code",
   "execution_count": null,
   "id": "cc04a098-a9d2-4493-9d95-41ccfe566c19",
   "metadata": {},
   "outputs": [],
   "source": [
    "conditioned response, motor imagery, stimulus-evoke, population activity"
   ]
  },
  {
   "cell_type": "code",
   "execution_count": null,
   "id": "fda7eff7-9a13-41dd-ae02-bb002d08f348",
   "metadata": {},
   "outputs": [],
   "source": [
    "hydratecarbon, proteins, nucleic, lipid"
   ]
  },
  {
   "cell_type": "code",
   "execution_count": null,
   "id": "367631e5-c634-4410-8031-6b3d6ba31940",
   "metadata": {},
   "outputs": [],
   "source": [
    "two uncertainty principle\n",
    "quantization of angular momentum\n",
    "quantization of action"
   ]
  },
  {
   "cell_type": "code",
   "execution_count": null,
   "id": "d780ba74-c4d4-47d6-84f0-4b4447c29803",
   "metadata": {},
   "outputs": [],
   "source": []
  },
  {
   "cell_type": "markdown",
   "id": "91add5fa-5cef-49bb-94e2-6e2b11340508",
   "metadata": {},
   "source": [
    "### AI"
   ]
  },
  {
   "cell_type": "code",
   "execution_count": null,
   "id": "5dd5e310-ee01-4b8e-9926-161235f7bf51",
   "metadata": {},
   "outputs": [],
   "source": [
    "import torch\n",
    "from torch import nn\n",
    "import torch.nn.functional as F"
   ]
  },
  {
   "cell_type": "code",
   "execution_count": null,
   "id": "e60cfbc3-68b1-4a16-8c60-1378d9db900b",
   "metadata": {},
   "outputs": [],
   "source": [
    "from langchain import PromptTemplate"
   ]
  },
  {
   "cell_type": "code",
   "execution_count": null,
   "id": "73bfa187-d69b-44a3-828e-d37beffa098d",
   "metadata": {},
   "outputs": [],
   "source": [
    "template = \"\"\"\n",
    "This is a conversation between a user and an AI\n",
    "{history}\n",
    "User: {input}\n",
    "AI:\n",
    "\"\"\""
   ]
  },
  {
   "cell_type": "code",
   "execution_count": null,
   "id": "c471794c-30e5-446b-987a-600b366d7949",
   "metadata": {},
   "outputs": [],
   "source": [
    "prompt = PromptTemplate(\n",
    "    input_variables=[\"history\", \"input\"],\n",
    "    template=template\n",
    ")"
   ]
  },
  {
   "cell_type": "code",
   "execution_count": null,
   "id": "fc9221a0-c139-4a20-ad39-b4513f824610",
   "metadata": {},
   "outputs": [],
   "source": [
    "from torch.nn.utils.rnn import pad_sequence"
   ]
  },
  {
   "cell_type": "code",
   "execution_count": null,
   "id": "34cf8aaf-bdec-4ae6-8ba2-74932dd6b702",
   "metadata": {},
   "outputs": [],
   "source": [
    "padded_batch = pad_sequence(sequences=batch, batch_first=True, padding_value=0)"
   ]
  },
  {
   "cell_type": "code",
   "execution_count": null,
   "id": "207f19bb-1fc6-4c9b-8eca-60fc44158a5e",
   "metadata": {},
   "outputs": [],
   "source": [
    "from einops import einsum"
   ]
  },
  {
   "cell_type": "code",
   "execution_count": null,
   "id": "334b1525-bac3-48cf-8311-dbcef86ebb2c",
   "metadata": {},
   "outputs": [],
   "source": [
    "output = einsum(a, 'h w -> w h')"
   ]
  },
  {
   "cell_type": "code",
   "execution_count": null,
   "id": "926b05a7-b29c-4c29-bff9-1df141405f5e",
   "metadata": {},
   "outputs": [],
   "source": [
    "from einops import rearrange"
   ]
  },
  {
   "cell_type": "code",
   "execution_count": null,
   "id": "f39c4d3d-5c62-4db5-9a18-13ef3f3b07a6",
   "metadata": {},
   "outputs": [],
   "source": [
    "result = rearrange(images, 'b c (h w) -> b c h w')"
   ]
  },
  {
   "cell_type": "code",
   "execution_count": null,
   "id": "d818b6d9-2534-4f18-9b9f-04bd8df60dd0",
   "metadata": {},
   "outputs": [],
   "source": [
    "state, action, next_state, reward"
   ]
  },
  {
   "cell_type": "markdown",
   "id": "a67a7311-af8a-429c-a7f6-d4e686e2f562",
   "metadata": {},
   "source": [
    "### SW"
   ]
  },
  {
   "cell_type": "code",
   "execution_count": null,
   "id": "ef32e480-b9b1-4f1d-be32-928a13feb8ef",
   "metadata": {},
   "outputs": [],
   "source": [
    "my_dict = {c:v**2 for c, v in simple_dict.items()}"
   ]
  }
 ],
 "metadata": {
  "kernelspec": {
   "display_name": "Python 3 (ipykernel)",
   "language": "python",
   "name": "python3"
  }
 },
 "nbformat": 4,
 "nbformat_minor": 5
}
