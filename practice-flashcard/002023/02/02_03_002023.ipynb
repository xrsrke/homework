{
 "cells": [
  {
   "cell_type": "markdown",
   "id": "0107f52e-7651-40cc-8b07-26f454418ece",
   "metadata": {},
   "source": [
    "### Sci"
   ]
  },
  {
   "cell_type": "code",
   "execution_count": null,
   "id": "c1904413-0a7a-49ec-8278-5af9234abadb",
   "metadata": {},
   "outputs": [],
   "source": [
    "cell body, dendrite, axon, synapse"
   ]
  },
  {
   "cell_type": "code",
   "execution_count": null,
   "id": "8abec914-f8d7-47d1-bdcf-5cfac38e288c",
   "metadata": {},
   "outputs": [],
   "source": [
    "phase 1: reaches a threshold, => fire action potential\n",
    "phase 2: go down"
   ]
  },
  {
   "cell_type": "markdown",
   "id": "929e24d9-6058-4ee5-9afc-5f72ab3b9d06",
   "metadata": {},
   "source": [
    "### SW"
   ]
  },
  {
   "cell_type": "code",
   "execution_count": null,
   "id": "64b8280c-ff7f-4d6c-b016-d6ad733ac052",
   "metadata": {},
   "outputs": [],
   "source": [
    "class JustCreatedException(Exception):\n",
    "    pass"
   ]
  },
  {
   "cell_type": "markdown",
   "id": "9acdab24-6e7d-4cec-844c-40a98b5e9027",
   "metadata": {},
   "source": [
    "### AI"
   ]
  },
  {
   "cell_type": "code",
   "execution_count": null,
   "id": "80281fe7-5d51-49a2-ae06-6fa4bcb89553",
   "metadata": {},
   "outputs": [],
   "source": [
    "import torch\n",
    "from torch import nn\n",
    "import torch.nn.functional as F"
   ]
  },
  {
   "cell_type": "code",
   "execution_count": null,
   "id": "6a819937-6e16-4359-86c2-d1b9d888315e",
   "metadata": {},
   "outputs": [],
   "source": [
    "for i in range(10):\n",
    "    env.step()"
   ]
  },
  {
   "cell_type": "code",
   "execution_count": null,
   "id": "e3c5ac6f-9bf9-46a6-8a77-399d0ca122f0",
   "metadata": {},
   "outputs": [],
   "source": [
    "from torch.nn.utils.rnn import pad_sequence"
   ]
  },
  {
   "cell_type": "code",
   "execution_count": null,
   "id": "3afc96d7-1510-46cd-881c-4892a193b3d3",
   "metadata": {},
   "outputs": [],
   "source": [
    "padded_batch = pad_sequence(batch, batch_first=True, paddng_value=0)"
   ]
  },
  {
   "cell_type": "code",
   "execution_count": null,
   "id": "1a5bcaf7-1f32-4fc4-a11a-b5c4c6687b88",
   "metadata": {},
   "outputs": [],
   "source": [
    "torch.bmm(inp1, inp2)"
   ]
  },
  {
   "cell_type": "code",
   "execution_count": null,
   "id": "a435efae-0f93-4c3b-8d42-edd69ae0e874",
   "metadata": {},
   "outputs": [],
   "source": [
    "output = model.generate(\n",
    "    input_ids=input_ids,\n",
    "    max_new_tokens=10\n",
    ")"
   ]
  },
  {
   "cell_type": "code",
   "execution_count": null,
   "id": "b2758b08-736d-44e3-9ddb-9d33bd1054bc",
   "metadata": {},
   "outputs": [],
   "source": [
    "decoded_text = tokenizer.decode(output[0])"
   ]
  },
  {
   "cell_type": "code",
   "execution_count": null,
   "id": "cd66d894-6caf-4708-9589-75f129d28103",
   "metadata": {},
   "outputs": [],
   "source": [
    "logits = output.logits"
   ]
  },
  {
   "cell_type": "code",
   "execution_count": null,
   "id": "f73df480-99d0-4b29-a04d-fa6678904c8f",
   "metadata": {},
   "outputs": [],
   "source": [
    "logits[0, -1, :][4]"
   ]
  },
  {
   "cell_type": "code",
   "execution_count": null,
   "id": "b183f1fd-c209-4a1f-80b0-0d9061eaf51e",
   "metadata": {},
   "outputs": [],
   "source": [
    "electric potential energy,"
   ]
  },
  {
   "cell_type": "code",
   "execution_count": null,
   "id": "f04b275e-0290-424e-91a7-0f71c860c72b",
   "metadata": {},
   "outputs": [],
   "source": [
    "from einops import rearrange"
   ]
  },
  {
   "cell_type": "code",
   "execution_count": null,
   "id": "08d3ce5d-628b-4363-b262-f5449d0edd33",
   "metadata": {},
   "outputs": [],
   "source": [
    "def compute_cross_entropy(logits, targets):\n",
    "    probs = F.softmax(logits, dim=-1)\n",
    "        \n",
    "    loss = probs[ta]"
   ]
  },
  {
   "cell_type": "code",
   "execution_count": null,
   "id": "55abd2d3-545a-49c9-bddd-789c49bd8a2f",
   "metadata": {},
   "outputs": [],
   "source": [
    "def compute_cross_entropy(logits, targets):\n",
    "    log_probs = F.log_probs(logits, dim=-1)\n",
    "    \n",
    "    loss = -log_probs[range(targets.shape[-1]), targets].mean()\n",
    "    \n",
    "    return loss"
   ]
  },
  {
   "cell_type": "code",
   "execution_count": null,
   "id": "44d44685-cf62-4827-8889-64d19ebe7139",
   "metadata": {},
   "outputs": [],
   "source": [
    "from einops import reduce"
   ]
  },
  {
   "cell_type": "code",
   "execution_count": null,
   "id": "71874a72-81d5-4607-9a4f-3d260e75edd6",
   "metadata": {},
   "outputs": [],
   "source": [
    "output = reduce(images, 'b c h w -> b h w')"
   ]
  },
  {
   "cell_type": "code",
   "execution_count": null,
   "id": "10747dff-d427-4001-8971-705227bb0ad6",
   "metadata": {},
   "outputs": [],
   "source": [
    "net = nn.Sequential(\n",
    "    nn.Linear(2, 2),\n",
    "    nn.ReLU(),\n",
    "    nn.Linear(2, 2),\n",
    "    nn.ReLU(),\n",
    "    nn.Linear(2, 3)\n",
    ")"
   ]
  },
  {
   "cell_type": "code",
   "execution_count": null,
   "id": "b4fe03cb-d8dd-4f0d-a456-0e0521a25bd6",
   "metadata": {},
   "outputs": [],
   "source": [
    "class SelfAttention(nn.Module):\n",
    "    def __init__(self, d_head):\n",
    "        super().__init__()\n",
    "        self.d_head = d_head\n",
    "        self.to_q =  \n",
    "    \n",
    "    def forward(self, q, k, v):"
   ]
  },
  {
   "cell_type": "code",
   "execution_count": null,
   "id": "6834f7b3-0ce6-4d2d-b77c-6e3177513d94",
   "metadata": {},
   "outputs": [],
   "source": [
    "def compute_cross_entropy(logits, targets):\n",
    "    log_probs = F.log_probs(logits, dim=-1)\n",
    "    loss = -log_probs[range(targets.shape[-1]), targets].mean()\n",
    "    return loss"
   ]
  },
  {
   "cell_type": "code",
   "execution_count": null,
   "id": "61e94dd9-af60-4c56-9ba8-6dd9bb1569ad",
   "metadata": {},
   "outputs": [],
   "source": [
    "class LayerNorm(nn.Module):\n",
    "    def __init__(self, features, eps):\n",
    "        super().__init__()\n",
    "        self.features, self.eps = features, eps\n",
    "        self.mult = nn.Parameter(torch.ones(features))\n",
    "        self.add = nn.Parameter(torch.zeros(features))\n",
    "    \n",
    "    def forward(self, x):\n",
    "        mean, var = x.mean(dim=-1, keepdim=True), x.var(dim=-1, keepdim=True)\n",
    "        x = (x - mean) / (var + self.eps).sqrt()\n",
    "        x = self.mult*x + self.add\n",
    "        return x"
   ]
  },
  {
   "cell_type": "code",
   "execution_count": null,
   "id": "44b9a96c-ca4a-43aa-863c-0ebcbd1a19e6",
   "metadata": {},
   "outputs": [],
   "source": [
    "def nll(probs, targs):\n",
    "    return -probs[range(targs.shape[-1]), targs].mean()"
   ]
  },
  {
   "cell_type": "code",
   "execution_count": null,
   "id": "b1048030-17a5-4106-ab50-c13604f562fc",
   "metadata": {},
   "outputs": [],
   "source": [
    "def frobenius_norm(x):\n",
    "    return x.pow(2).sum().sqrt()"
   ]
  },
  {
   "cell_type": "code",
   "execution_count": null,
   "id": "8044f954-8ae5-4835-8860-123ac68b4d0b",
   "metadata": {},
   "outputs": [],
   "source": [
    "import math"
   ]
  },
  {
   "cell_type": "code",
   "execution_count": null,
   "id": "ed1d0d6a-384c-4060-9f14-053b683a8208",
   "metadata": {},
   "outputs": [],
   "source": [
    "class SelfAttention(nn.Module):\n",
    "    def __init__(self, d_head):\n",
    "        super().__init__()\n",
    "        self.d_head = d_head\n",
    "    \n",
    "    def forward(self, q, k, v):\n",
    "        qk_matmul = torch.matmul(q, k.T)\n",
    "        qk_matmul = qk_matmul / math.sqrt(self.d_head)\n",
    "        attention_weights = F.softmax(qk_matmul, dim=-1)\n",
    "        output = torch.matmul(attention_weights, v)\n",
    "        return output, attention_weights"
   ]
  },
  {
   "cell_type": "code",
   "execution_count": null,
   "id": "e2f80602-0131-404f-bbc5-f3b156267c77",
   "metadata": {},
   "outputs": [],
   "source": []
  }
 ],
 "metadata": {
  "kernelspec": {
   "display_name": "Python 3 (ipykernel)",
   "language": "python",
   "name": "python3"
  }
 },
 "nbformat": 4,
 "nbformat_minor": 5
}
