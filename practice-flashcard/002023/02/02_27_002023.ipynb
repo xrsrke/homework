{
 "cells": [
  {
   "cell_type": "markdown",
   "id": "ffb2ac7c-3f6b-4bc3-b570-d37e007982b9",
   "metadata": {},
   "source": [
    "### Science"
   ]
  },
  {
   "cell_type": "code",
   "execution_count": null,
   "id": "623500f9-24be-4a15-8cf2-30188a184b8a",
   "metadata": {},
   "outputs": [],
   "source": [
    "import sympy as smp\n",
    "import sympy.physics.units as u"
   ]
  },
  {
   "cell_type": "code",
   "execution_count": null,
   "id": "fb6a007b-d1c3-4e4d-bc15-2d203d93be42",
   "metadata": {},
   "outputs": [],
   "source": [
    "std_delta_G = smp.Symbol(\"\\Delta G^{\\circ}\")"
   ]
  },
  {
   "cell_type": "code",
   "execution_count": null,
   "id": "a6e4e60b-0b8c-4bea-b277-ef08f406b2bb",
   "metadata": {},
   "outputs": [
    {
     "data": {
      "text/latex": [
       "$\\displaystyle \\Delta G^{\\circ}$"
      ],
      "text/plain": [
       "\\Delta G^{\\circ}"
      ]
     },
     "execution_count": null,
     "metadata": {},
     "output_type": "execute_result"
    }
   ],
   "source": [
    "std_delta_G"
   ]
  },
  {
   "cell_type": "code",
   "execution_count": null,
   "id": "115c3b74-3548-427f-aa7a-5faffd619cb7",
   "metadata": {},
   "outputs": [],
   "source": [
    "R, T, K = smp.symbols(\"R, T, K\")"
   ]
  },
  {
   "cell_type": "code",
   "execution_count": null,
   "id": "502ea422-f08a-490d-90f0-0ea154e9d249",
   "metadata": {},
   "outputs": [],
   "source": [
    "eq = smp.Eq(std_delta_G, -R*T*smp.log(K))"
   ]
  },
  {
   "cell_type": "code",
   "execution_count": null,
   "id": "b2363d8d-9120-4f43-b441-69ed5277d9a7",
   "metadata": {},
   "outputs": [
    {
     "data": {
      "text/latex": [
       "$\\displaystyle \\Delta G^{\\circ} = - R T \\log{\\left(K \\right)}$"
      ],
      "text/plain": [
       "Eq(\\Delta G^{\\circ}, -R*T*log(K))"
      ]
     },
     "execution_count": null,
     "metadata": {},
     "output_type": "execute_result"
    }
   ],
   "source": [
    "eq"
   ]
  },
  {
   "cell_type": "markdown",
   "id": "1b4e540f-8f70-45a9-aeb8-12b61c63b2fb",
   "metadata": {},
   "source": [
    "### AI"
   ]
  },
  {
   "cell_type": "code",
   "execution_count": null,
   "id": "b1c2e6df-913b-4a51-b752-cf0a10d6efb8",
   "metadata": {},
   "outputs": [],
   "source": [
    "import torch\n",
    "from torch import nn\n",
    "import torch.nn.functional as F"
   ]
  },
  {
   "cell_type": "code",
   "execution_count": null,
   "id": "868950f9-ba82-49be-9107-e666603a01c2",
   "metadata": {},
   "outputs": [],
   "source": [
    "def one_hot(idx, n_elements):\n",
    "    x = torch.zeros(n_elements)\n",
    "    x[idx] = 1\n",
    "    return x"
   ]
  },
  {
   "cell_type": "code",
   "execution_count": null,
   "id": "99120c1d-be9b-46c3-8353-79c3b8a19422",
   "metadata": {},
   "outputs": [
    {
     "data": {
      "text/plain": [
       "tensor([0., 0., 1., 0., 0.])"
      ]
     },
     "execution_count": null,
     "metadata": {},
     "output_type": "execute_result"
    }
   ],
   "source": [
    "one_hot(2, 5)"
   ]
  },
  {
   "cell_type": "code",
   "execution_count": null,
   "id": "46773bdd-2b68-43af-a8f3-a0bfb7bf7fc1",
   "metadata": {},
   "outputs": [],
   "source": [
    "output = torch.mean(x, keepdim=True, dim=-1)"
   ]
  },
  {
   "cell_type": "code",
   "execution_count": null,
   "id": "184a18e4-3c91-4235-a395-e3f56f782d85",
   "metadata": {},
   "outputs": [],
   "source": [
    "l1.weight.grad"
   ]
  },
  {
   "cell_type": "code",
   "execution_count": null,
   "id": "fdbfb84c-9ae4-44e0-96c3-916cbe192b3a",
   "metadata": {},
   "outputs": [],
   "source": [
    "import math"
   ]
  },
  {
   "cell_type": "code",
   "execution_count": null,
   "id": "a7863356-e3aa-4230-89b4-b394acac194c",
   "metadata": {},
   "outputs": [],
   "source": [
    "def scaled_dot_product_attention(q, k, v, d_k):\n",
    "    scores = torch.matmul(q, k.T)\n",
    "    scores = scores / math.sqrt(d_k)\n",
    "    attention_weights = F.softmax(scores, dim=-1)\n",
    "    output = torch.matmul(attention_weights, v)\n",
    "    return output, attention_weights"
   ]
  },
  {
   "cell_type": "code",
   "execution_count": null,
   "id": "f4a92d27-d990-4bdd-a0a4-a4d9d109a769",
   "metadata": {},
   "outputs": [],
   "source": [
    "from einops import rearrange"
   ]
  },
  {
   "cell_type": "code",
   "execution_count": null,
   "id": "93e4e428-f179-4d43-b2b4-d64663068925",
   "metadata": {},
   "outputs": [],
   "source": [
    "result = rearrange(images, 'b c h w -> (b c h w )')"
   ]
  },
  {
   "cell_type": "code",
   "execution_count": null,
   "id": "8033564a-97a4-4d86-a8d8-0d42fb0dc733",
   "metadata": {},
   "outputs": [],
   "source": [
    "def std(x):\n",
    "    return (x-x.mean()).pow(2).sqrt()"
   ]
  }
 ],
 "metadata": {
  "kernelspec": {
   "display_name": "Python 3 (ipykernel)",
   "language": "python",
   "name": "python3"
  }
 },
 "nbformat": 4,
 "nbformat_minor": 5
}
