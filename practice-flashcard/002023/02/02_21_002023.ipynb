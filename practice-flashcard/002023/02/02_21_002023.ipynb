{
 "cells": [
  {
   "cell_type": "markdown",
   "id": "a2f11f81-83cc-4ba3-90ef-2d7ba7aee851",
   "metadata": {},
   "source": [
    "### Science"
   ]
  },
  {
   "cell_type": "code",
   "execution_count": null,
   "id": "b83afdc0-41a5-4ee2-8d9e-b10629a5e59d",
   "metadata": {},
   "outputs": [],
   "source": [
    "quantization of action, angular momentum\n",
    "two uncertainty principles"
   ]
  },
  {
   "cell_type": "code",
   "execution_count": null,
   "id": "e1fad1fc-263a-4e26-9d51-4c83789cd12c",
   "metadata": {},
   "outputs": [],
   "source": [
    "ionic, metallic, covalent, waals"
   ]
  },
  {
   "cell_type": "code",
   "execution_count": null,
   "id": "be1d35ed-d848-4dbb-b795-27fdbc9e5205",
   "metadata": {},
   "outputs": [],
   "source": [
    "recording, signal processing, stimulating, memory"
   ]
  },
  {
   "cell_type": "code",
   "execution_count": null,
   "id": "c845e0de-7d95-4d31-ba87-3444fca3ed75",
   "metadata": {},
   "outputs": [],
   "source": [
    "phospholipid, cholesterol, protein"
   ]
  },
  {
   "cell_type": "markdown",
   "id": "096edb81-f61c-49d3-bc54-2712cecaa954",
   "metadata": {},
   "source": [
    "### Software"
   ]
  },
  {
   "cell_type": "code",
   "execution_count": null,
   "id": "920f4fc4-dfca-49df-8245-005a72b78005",
   "metadata": {},
   "outputs": [],
   "source": [
    "import pytest"
   ]
  },
  {
   "cell_type": "code",
   "execution_count": null,
   "id": "895b7ab0-43da-435d-8a89-68aba59132b7",
   "metadata": {},
   "outputs": [],
   "source": [
    "@pytest.mark.parametrize(\n",
    "    'x, output',\n",
    "    (\n",
    "        [1, 1],\n",
    "        [2, 4]\n",
    "    )\n",
    ")\n",
    "def test_square(x, output):\n",
    "    assert square(x) == output"
   ]
  },
  {
   "cell_type": "markdown",
   "id": "d440e69d-98ac-4a8e-b6a1-feb5def9b1f4",
   "metadata": {},
   "source": [
    "### AI"
   ]
  },
  {
   "cell_type": "code",
   "execution_count": null,
   "id": "fdb0fcd1-a1c0-4506-80f3-35063b1ad857",
   "metadata": {},
   "outputs": [],
   "source": [
    "import torch\n",
    "from torch import nn\n",
    "import torch.nn.functional as F"
   ]
  },
  {
   "cell_type": "code",
   "execution_count": null,
   "id": "8d7bfba5-f234-4040-9083-d9b586cbb12e",
   "metadata": {},
   "outputs": [],
   "source": [
    "from einops import rearrange"
   ]
  },
  {
   "cell_type": "code",
   "execution_count": null,
   "id": "742e43e6-9b55-43cc-81b9-735757948e90",
   "metadata": {},
   "outputs": [],
   "source": [
    "def compute_loss(model, xb, yb):\n",
    "    logits = model(xb)\n",
    "    \n",
    "    logits = rearrange(pred, 'b s n > (b s) n')\n",
    "    yb = rearrange(yb, 'b s -> (b s)')\n",
    "    \n",
    "    loss = F.cross_entropy(logits, yb)"
   ]
  },
  {
   "cell_type": "code",
   "execution_count": null,
   "id": "9357df4d-f9ce-4717-af9a-dfd739553df3",
   "metadata": {},
   "outputs": [],
   "source": [
    "import math"
   ]
  },
  {
   "cell_type": "code",
   "execution_count": null,
   "id": "d405e185-3fc9-4a9c-ade3-0b95183cfbc4",
   "metadata": {},
   "outputs": [],
   "source": [
    "class TextEmbedding(nn.ModuleList):\n",
    "    def __init__(self, vocab_size, padding_idx, d_model):\n",
    "        super().__init__()\n",
    "        self.embedding = nn.Embedding(\n",
    "            num_embeddings=vocab_size,\n",
    "            embedding_dim=d_model,\n",
    "            padding_idx=padding_idx\n",
    "        )\n",
    "        self.d_model = d_model\n",
    "    \n",
    "    def forward(self, x):\n",
    "        embeddings = self.embedding(x) * math.sqrt(self.dm_model)\n",
    "        \n",
    "        return embeddings"
   ]
  },
  {
   "cell_type": "code",
   "execution_count": null,
   "id": "0d1dce59-3755-4ff7-b230-00f52eb0f114",
   "metadata": {},
   "outputs": [],
   "source": [
    "class PositionWiseFeedForward(nn.Module):\n",
    "    def __init__(self, d_model, d_ff, dropout):\n",
    "        super().__init__()\n",
    "        self.net = nn.Sequential(\n",
    "            nn.Linear(d_model, d_ff),\n",
    "            nn.ReLU(),\n",
    "            nn.Linear(d_ff, d_model),\n",
    "            nn.Dropout(dropout),\n",
    "            nn.ReLU()\n",
    "        )\n",
    "\n",
    "    def forward(self, x):\n",
    "        return self.net(x)"
   ]
  },
  {
   "cell_type": "code",
   "execution_count": null,
   "id": "bcef8e18-b804-4702-8e8a-2cc2beeb5883",
   "metadata": {},
   "outputs": [],
   "source": [
    "linear, batch norm, residual"
   ]
  },
  {
   "cell_type": "code",
   "execution_count": null,
   "id": "c1205bf7-6022-4e79-9b56-a1b740c8f34c",
   "metadata": {},
   "outputs": [],
   "source": [
    "def xx(layer, inp, out):\n",
    "    add_log(layer, out)"
   ]
  },
  {
   "cell_type": "code",
   "execution_count": null,
   "id": "1d18fdaa-bc6d-4ca2-80fe-4497aacfc2c0",
   "metadata": {},
   "outputs": [],
   "source": [
    "def add_hook(model):\n",
    "    for layer in model.layers:\n",
    "        layer.register_forward_hook(xx)"
   ]
  }
 ],
 "metadata": {
  "kernelspec": {
   "display_name": "Python 3 (ipykernel)",
   "language": "python",
   "name": "python3"
  }
 },
 "nbformat": 4,
 "nbformat_minor": 5
}
