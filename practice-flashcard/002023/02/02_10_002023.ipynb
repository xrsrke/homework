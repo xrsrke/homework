{
 "cells": [
  {
   "cell_type": "markdown",
   "id": "c877378c-ef7b-4eda-a40a-e1fb31faa338",
   "metadata": {},
   "source": [
    "### Science"
   ]
  },
  {
   "cell_type": "code",
   "execution_count": null,
   "id": "b7ab562c-021a-4d7f-877d-4153d2555f3d",
   "metadata": {},
   "outputs": [],
   "source": [
    "hydrate, lipid, protein and "
   ]
  },
  {
   "cell_type": "markdown",
   "id": "49c5df3d-0612-4ba2-a396-5e318e30cef1",
   "metadata": {},
   "source": [
    "conditioned response, population activity, motor imagery, stimulus-evoke activity"
   ]
  },
  {
   "cell_type": "code",
   "execution_count": null,
   "id": "3625f571-60fd-4da5-b752-7f4bb27a4aff",
   "metadata": {},
   "outputs": [],
   "source": [
    "blue = x[1:4:2, :3:2]"
   ]
  },
  {
   "cell_type": "markdown",
   "id": "b3aa748d-02c2-4558-99c2-18e07213fd88",
   "metadata": {},
   "source": [
    "### AI"
   ]
  },
  {
   "cell_type": "code",
   "execution_count": null,
   "id": "b577b187-291c-4a40-9ad1-beafac196451",
   "metadata": {},
   "outputs": [],
   "source": [
    "import torch\n",
    "from torch import nn\n",
    "import torch.nn.functional as F"
   ]
  },
  {
   "cell_type": "code",
   "execution_count": null,
   "id": "127b4f98-1c5f-4b95-9a22-db5dbb37fe22",
   "metadata": {},
   "outputs": [],
   "source": [
    "1, 2, 3, 3"
   ]
  },
  {
   "cell_type": "code",
   "execution_count": null,
   "id": "c0f8a5ec-4527-4529-bdb5-2be022d84d95",
   "metadata": {},
   "outputs": [],
   "source": [
    "class AutoEncoder(nn.Module):\n",
    "    def __init__(self):\n",
    "        super().__init__()\n",
    "        self.encoder = nn.Sequential(\n",
    "            nn.Linear(28*28, 128),\n",
    "            nn.ReLU(),\n",
    "            nn.Linear(128, 64),\n",
    "            nn.ReLU(),\n",
    "            nn.Linear(64, 12),\n",
    "            nn.ReLU(),\n",
    "            nn.Linear(12, 3)\n",
    "        )\n",
    "        \n",
    "        self.decoder = nn.Sequential(\n",
    "            nn.Linear(3, 12),\n",
    "            nn.ReLU(),\n",
    "            nn.Linear(12, 64),\n",
    "            nn.ReLU(),\n",
    "            nn.Linear(64, 128),\n",
    "            nn.ReLU(),\n",
    "            nn.Linear(128, 28*28)\n",
    "        )\n",
    "    \n",
    "    def forward(self, x):\n",
    "        encoded = self.encoder(x)\n",
    "        decoded = self.decoder(encoded)\n",
    "        \n",
    "        return decoded"
   ]
  },
  {
   "cell_type": "code",
   "execution_count": null,
   "id": "be3e0178-29de-4556-8707-8ad56e8a7295",
   "metadata": {},
   "outputs": [],
   "source": [
    "l1.bias.data.zero_()"
   ]
  },
  {
   "cell_type": "code",
   "execution_count": null,
   "id": "88fd6611-ac33-4dab-a110-9afa0655a564",
   "metadata": {},
   "outputs": [],
   "source": [
    "torch.bmm(inp1, inp2)"
   ]
  },
  {
   "cell_type": "code",
   "execution_count": null,
   "id": "e23d50cd-d384-4da7-8e8d-980a17b298ec",
   "metadata": {},
   "outputs": [],
   "source": [
    "output = model.generate(\n",
    "    input_ids=input_ids,\n",
    "    max_new_tokens=10\n",
    ")"
   ]
  },
  {
   "cell_type": "code",
   "execution_count": null,
   "id": "c3bd3a3d-99cd-4bf3-94b3-745b3ff45a14",
   "metadata": {},
   "outputs": [],
   "source": [
    "decoded_text = tokenizer.decode(output[0])"
   ]
  },
  {
   "cell_type": "code",
   "execution_count": null,
   "id": "de39ce78-6d28-4b12-8e96-756d05d02069",
   "metadata": {},
   "outputs": [],
   "source": [
    "def tokenize(batch):\n",
    "    return tokenizer(batch[\"text\"], padding=True)"
   ]
  },
  {
   "cell_type": "code",
   "execution_count": null,
   "id": "9f7c5b0d-dd73-4640-9795-44f10e12a377",
   "metadata": {},
   "outputs": [],
   "source": [
    "logit_tokens = output.logits[0, -1, :][4]"
   ]
  },
  {
   "cell_type": "code",
   "execution_count": null,
   "id": "6e76e201-1b9d-4116-851c-b00eaf3d7115",
   "metadata": {},
   "outputs": [],
   "source": [
    "def generate_transitions(model, env):\n",
    "    \n",
    "    state = env.reset()\n",
    "    transitions = []\n",
    "    \n",
    "    while True:\n",
    "        pred_rewards = model(state)\n",
    "        action = torch.argmax(pred_rewards)\n",
    "        \n",
    "        next_state, reward, done, truncated, info = env.step(action)\n",
    "        \n",
    "        transitions.append([state, action, next_state, reward, done])\n",
    "        \n",
    "        if done:\n",
    "            break\n",
    "        else:\n",
    "            state = next_state\n",
    "     \n",
    "    return transitions"
   ]
  },
  {
   "cell_type": "code",
   "execution_count": null,
   "id": "f00ba0d9-100c-455a-b88f-c4037907b7bb",
   "metadata": {},
   "outputs": [],
   "source": [
    "def word2idx(vocabs):\n",
    "    "
   ]
  },
  {
   "cell_type": "code",
   "execution_count": null,
   "id": "ec144241-c005-4909-962e-a9b0e233f3c7",
   "metadata": {},
   "outputs": [],
   "source": [
    "def xx(layer, inp, out):\n",
    "    "
   ]
  },
  {
   "cell_type": "code",
   "execution_count": null,
   "id": "30a6c74c-b1ab-45c1-b058-a686d448a6dd",
   "metadata": {},
   "outputs": [],
   "source": [
    "def add_hook(model):\n",
    "    for layer in model.layers:\n",
    "        layer.register_forward_hook(xx)"
   ]
  }
 ],
 "metadata": {
  "kernelspec": {
   "display_name": "Python 3 (ipykernel)",
   "language": "python",
   "name": "python3"
  }
 },
 "nbformat": 4,
 "nbformat_minor": 5
}
