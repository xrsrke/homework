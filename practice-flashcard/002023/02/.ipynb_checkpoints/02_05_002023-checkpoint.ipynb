{
 "cells": [
  {
   "cell_type": "markdown",
   "id": "45e2fc6e-901a-465e-a7bc-5896884485bc",
   "metadata": {},
   "source": [
    "### Sci"
   ]
  },
  {
   "cell_type": "code",
   "execution_count": null,
   "id": "23554b8c-377b-4040-ba0a-affe3f472629",
   "metadata": {},
   "outputs": [],
   "source": [
    "carbohydrate, liquids, protein"
   ]
  },
  {
   "cell_type": "code",
   "execution_count": null,
   "id": "1ec15e10-8289-4fd2-9550-3c24abbba01f",
   "metadata": {},
   "outputs": [],
   "source": [
    "carbonhydrate, liquid, protein,  "
   ]
  },
  {
   "cell_type": "code",
   "execution_count": null,
   "id": "687bccb0-8316-4006-a51e-f7a11d834eed",
   "metadata": {},
   "outputs": [],
   "source": [
    "neuron1 > axon > synapse > dendrite > neuron 2"
   ]
  },
  {
   "cell_type": "code",
   "execution_count": null,
   "id": "d095fd78-e0d4-49c9-a243-b9a5c5da4214",
   "metadata": {},
   "outputs": [],
   "source": [
    "valid prob distribution\n",
    "continuous differentiable"
   ]
  },
  {
   "cell_type": "code",
   "execution_count": null,
   "id": "ad133d5a-c565-4024-8f64-dca595b3ae6c",
   "metadata": {},
   "outputs": [],
   "source": []
  },
  {
   "cell_type": "code",
   "execution_count": null,
   "id": "5ac60682-9183-4168-a9c5-3bb972f05986",
   "metadata": {},
   "outputs": [],
   "source": [
    "carbonhydrate, protein, nucleic acid,  "
   ]
  },
  {
   "cell_type": "markdown",
   "id": "19ef4c7d-842e-4c71-b17e-345785ef301e",
   "metadata": {},
   "source": [
    "### SW"
   ]
  },
  {
   "cell_type": "code",
   "execution_count": null,
   "id": "e42ae6a6-c285-4893-bec3-6fabc870cc8d",
   "metadata": {},
   "outputs": [],
   "source": [
    "SELECT a.name, b.name FROM members as a INNER JOIN members as b ON a.supervisor_id = b.id"
   ]
  },
  {
   "cell_type": "markdown",
   "id": "3208bb82-5ca5-4a4f-9f1f-da8440cc1bed",
   "metadata": {},
   "source": [
    "### AI"
   ]
  },
  {
   "cell_type": "code",
   "execution_count": null,
   "id": "e3fe5302-f0aa-4d97-aab9-c2a0beac1d56",
   "metadata": {},
   "outputs": [],
   "source": [
    "import torch\n",
    "from torch import nn\n",
    "import torch.nn.functional as F"
   ]
  },
  {
   "cell_type": "code",
   "execution_count": null,
   "id": "0f1b4c8b-c473-4a26-82ea-150f067677d4",
   "metadata": {},
   "outputs": [],
   "source": [
    "from transformers import RobertaModel"
   ]
  },
  {
   "cell_type": "code",
   "execution_count": null,
   "id": "26afa72e-2da6-4661-8093-401e883f2287",
   "metadata": {},
   "outputs": [
    {
     "data": {
      "application/vnd.jupyter.widget-view+json": {
       "model_id": "29df80d0fa014d13b24b48f159469d96",
       "version_major": 2,
       "version_minor": 0
      },
      "text/plain": [
       "Downloading:   0%|          | 0.00/481 [00:00<?, ?B/s]"
      ]
     },
     "metadata": {},
     "output_type": "display_data"
    },
    {
     "data": {
      "application/vnd.jupyter.widget-view+json": {
       "model_id": "8534f08a9eeb4e358bf74729d9b84a5b",
       "version_major": 2,
       "version_minor": 0
      },
      "text/plain": [
       "Downloading:   0%|          | 0.00/501M [00:00<?, ?B/s]"
      ]
     },
     "metadata": {},
     "output_type": "display_data"
    },
    {
     "name": "stderr",
     "output_type": "stream",
     "text": [
      "Some weights of the model checkpoint at roberta-base were not used when initializing RobertaModel: ['lm_head.layer_norm.bias', 'lm_head.decoder.weight', 'lm_head.dense.weight', 'lm_head.bias', 'lm_head.dense.bias', 'lm_head.layer_norm.weight']\n",
      "- This IS expected if you are initializing RobertaModel from the checkpoint of a model trained on another task or with another architecture (e.g. initializing a BertForSequenceClassification model from a BertForPreTraining model).\n",
      "- This IS NOT expected if you are initializing RobertaModel from the checkpoint of a model that you expect to be exactly identical (initializing a BertForSequenceClassification model from a BertForSequenceClassification model).\n"
     ]
    }
   ],
   "source": [
    "model = RobertaModel.from_pretrained(\"roberta-base\")"
   ]
  },
  {
   "cell_type": "code",
   "execution_count": null,
   "id": "be859939-a33e-4f48-beab-090c38e1b5d5",
   "metadata": {},
   "outputs": [],
   "source": [
    "target_text = torch.matmul(text_embeddings, text_embeddings.T)\n",
    "target_image = torch.matmul(image_embeddings, image_embeddings.T)"
   ]
  },
  {
   "cell_type": "code",
   "execution_count": null,
   "id": "ee43feea-e5f0-4027-9971-1343115d0c02",
   "metadata": {},
   "outputs": [],
   "source": [
    "target = F.softmax(\n",
    "    (target_text + target_image) / 2*temperature, dim=-1\n",
    ")"
   ]
  },
  {
   "cell_type": "code",
   "execution_count": null,
   "id": "0429ce5b-286a-463b-b91c-fb2e1fed5a24",
   "metadata": {},
   "outputs": [],
   "source": [
    "from fastai.vision.all import *"
   ]
  },
  {
   "cell_type": "code",
   "execution_count": null,
   "id": "66fbaa8d-d387-4427-b257-4a30554de4fd",
   "metadata": {},
   "outputs": [],
   "source": [
    "class _TestCallback(Callback):\n",
    "    def __init__(self):\n",
    "        super().__init__()\n",
    "        self.acts = []\n",
    "    \n",
    "    def batch_end(self):\n",
    "        self.acts.append(self.)"
   ]
  },
  {
   "cell_type": "code",
   "execution_count": null,
   "id": "a0ed432d-e313-4693-bfcf-3091dd8731cd",
   "metadata": {},
   "outputs": [],
   "source": [
    "from torchvision import transforms as tfms"
   ]
  },
  {
   "cell_type": "code",
   "execution_count": null,
   "id": "69f4183a-3cad-4842-82e6-e8ba93d35c52",
   "metadata": {},
   "outputs": [],
   "source": [
    "transform = tfms.Compose([\n",
    "    tfms.ToTensor(),\n",
    "    tfms.Normalize(0.3, 0.9)\n",
    "])"
   ]
  },
  {
   "cell_type": "code",
   "execution_count": null,
   "id": "1917e050-5493-4b63-b5ba-97223fe8f23c",
   "metadata": {},
   "outputs": [],
   "source": [
    "def to_uppercase(x):\n",
    "    return {\n",
    "        \"summary\": x.upper()\n",
    "    }"
   ]
  },
  {
   "cell_type": "code",
   "execution_count": null,
   "id": "eded5cb2-3670-4556-97ad-b721b743805d",
   "metadata": {},
   "outputs": [],
   "source": [
    "_new_dataset = dataset_samsum.map(to_uppercase)"
   ]
  },
  {
   "cell_type": "code",
   "execution_count": null,
   "id": "fb8baa64-4e7d-4b14-917a-68d15a68885c",
   "metadata": {},
   "outputs": [],
   "source": [
    "loss_func = nn.KLDivLoss()"
   ]
  },
  {
   "cell_type": "code",
   "execution_count": null,
   "id": "9fc44b44-5265-4b05-a78e-0f53a9bb6320",
   "metadata": {},
   "outputs": [],
   "source": []
  },
  {
   "cell_type": "code",
   "execution_count": null,
   "id": "e5de2ca0-5886-4830-bfe1-790f1a920e25",
   "metadata": {},
   "outputs": [],
   "source": [
    "loss = loss_func(\n",
    "    input=F.log_softmax(student_logits, dim=-1),\n",
    "    target=F.softmax(teacher_logits, dim=-1)\n",
    ")"
   ]
  },
  {
   "cell_type": "code",
   "execution_count": null,
   "id": "ee48c6a3-fa41-45a7-82eb-c2551a5fe13e",
   "metadata": {},
   "outputs": [],
   "source": [
    "RobertaModel.from_pretrained(\"roberta-model\")"
   ]
  },
  {
   "cell_type": "code",
   "execution_count": null,
   "id": "67b0d7e0-1df9-4516-b402-bc334d00da85",
   "metadata": {},
   "outputs": [],
   "source": [
    "embedding = nn.Embedding(num_embedding=10, embedding_dim=5, padding_idx=0)"
   ]
  },
  {
   "cell_type": "code",
   "execution_count": null,
   "id": "de3c1507-47f1-42d4-9aea-77ff85c1405a",
   "metadata": {},
   "outputs": [],
   "source": [
    "class DotProduct(nn.Module):\n",
    "    def forward(self, x):\n",
    "        users = self.user_factors[x]\n",
    "        movies = self.movie_factors[x]\n",
    "        \n",
    "        return users * movie_factors"
   ]
  },
  {
   "cell_type": "code",
   "execution_count": null,
   "id": "cf1bab4f-5fed-442c-af65-a1cfcff994fd",
   "metadata": {},
   "outputs": [],
   "source": [
    "output = torch.mean(x, dim=-1, keepdim=True)"
   ]
  },
  {
   "cell_type": "code",
   "execution_count": null,
   "id": "bd84e133-d9c7-443d-ad99-d6d8e0a8dd13",
   "metadata": {},
   "outputs": [],
   "source": [
    "loss_func = nn.KLDivLoss()"
   ]
  },
  {
   "cell_type": "code",
   "execution_count": null,
   "id": "0784d7c4-c432-4e59-a086-6f46aa5bcf8b",
   "metadata": {},
   "outputs": [],
   "source": [
    "loss = loss_func(\n",
    "    input=F.log_softmax(student_logits, dim=-1),\n",
    "    target=F.softmax(teacher_logits, dim=-1)\n",
    ")"
   ]
  }
 ],
 "metadata": {
  "kernelspec": {
   "display_name": "Python 3 (ipykernel)",
   "language": "python",
   "name": "python3"
  }
 },
 "nbformat": 4,
 "nbformat_minor": 5
}
