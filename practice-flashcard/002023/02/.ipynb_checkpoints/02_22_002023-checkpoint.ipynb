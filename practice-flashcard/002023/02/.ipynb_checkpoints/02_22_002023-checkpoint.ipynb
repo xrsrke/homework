{
 "cells": [
  {
   "cell_type": "markdown",
   "id": "214df89b-357d-497b-a9fd-6731e2a77808",
   "metadata": {},
   "source": [
    "### Science"
   ]
  },
  {
   "cell_type": "code",
   "execution_count": null,
   "id": "15142140-8645-4d92-be03-2df759b7a6ec",
   "metadata": {},
   "outputs": [],
   "source": [
    "concentration of reactant, temperature, physical state, "
   ]
  },
  {
   "cell_type": "markdown",
   "id": "4131abb8-698a-44b9-b50f-545d780a164c",
   "metadata": {},
   "source": [
    "### Software"
   ]
  },
  {
   "cell_type": "code",
   "execution_count": null,
   "id": "2a6496b4-8530-4e0f-8e4e-e1bbd3828da9",
   "metadata": {},
   "outputs": [],
   "source": [
    "from typing import NewType"
   ]
  },
  {
   "cell_type": "code",
   "execution_count": null,
   "id": "aefa16c2-0ff2-4a48-ac30-da92c88cb00b",
   "metadata": {},
   "outputs": [],
   "source": [
    "PackageID = NewType(\"PackageID\", int)"
   ]
  },
  {
   "cell_type": "code",
   "execution_count": null,
   "id": "a9a5c6ca-18c4-4001-86dd-dbc8cca0b78b",
   "metadata": {},
   "outputs": [],
   "source": [
    "PackageColor = NewType(\"PackageColor\", str)"
   ]
  },
  {
   "cell_type": "code",
   "execution_count": null,
   "id": "6a03630c-5748-4961-9858-79b3359fa74e",
   "metadata": {},
   "outputs": [],
   "source": [
    "class Batch:\n",
    "    def __init__(self, package_id: PackageID, package_color: PackageColor):\n",
    "        pass"
   ]
  },
  {
   "cell_type": "code",
   "execution_count": null,
   "id": "d96cc5b4-d154-44e4-84ba-fce7adff594b",
   "metadata": {},
   "outputs": [],
   "source": [
    "try:\n",
    "    age = int()\n",
    "    print\n",
    "except:"
   ]
  },
  {
   "cell_type": "code",
   "execution_count": null,
   "id": "d8d94bb2-b5ad-4247-80fe-fa7a4f5f7388",
   "metadata": {},
   "outputs": [],
   "source": [
    "from typing import Protocol"
   ]
  },
  {
   "cell_type": "code",
   "execution_count": null,
   "id": "787cb240-97cc-4c7e-a1f8-5407bbf7df3b",
   "metadata": {},
   "outputs": [],
   "source": [
    "class SupportLessThan(Protocol):\n",
    "    def __lt__(self): pass"
   ]
  },
  {
   "cell_type": "markdown",
   "id": "7a20a5d4-5d8e-4c17-b15a-84b599ae1589",
   "metadata": {},
   "source": [
    "### AI"
   ]
  },
  {
   "cell_type": "code",
   "execution_count": null,
   "id": "9dedbf4f-e22a-468e-8b06-67acab773496",
   "metadata": {},
   "outputs": [],
   "source": [
    "import torch\n",
    "from torch import nn\n",
    "import torch.nn.functional as F"
   ]
  },
  {
   "cell_type": "code",
   "execution_count": null,
   "id": "d55f88c3-7c77-4bcd-8ebf-abdab85c337b",
   "metadata": {},
   "outputs": [],
   "source": [
    "will sub have past_"
   ]
  },
  {
   "cell_type": "code",
   "execution_count": null,
   "id": "456ab985-dd02-4615-bd19-ff3017c871d1",
   "metadata": {},
   "outputs": [],
   "source": [
    "encoded_sentence = tokenizer(sentence, return_tensors=\"pt\")"
   ]
  },
  {
   "cell_type": "code",
   "execution_count": null,
   "id": "075b86ca-deb6-4bd8-8dfb-1498627ca708",
   "metadata": {},
   "outputs": [],
   "source": [
    "output = model.generate(\n",
    "    input_ids=encoded_sentence[\"input_ids\"],\n",
    "    attention_mask=encoded_sentence[\"attention_mask\"]\n",
    ")"
   ]
  },
  {
   "cell_type": "code",
   "execution_count": null,
   "id": "f62db474-c4e5-4e09-967c-416c4b2ecfaa",
   "metadata": {},
   "outputs": [],
   "source": [
    "from einops import reduce"
   ]
  },
  {
   "cell_type": "code",
   "execution_count": null,
   "id": "10a7a3b5-93a9-47b9-a0fb-a9acfd45c39e",
   "metadata": {},
   "outputs": [],
   "source": [
    "output = reduce(images, 'b c h w -> b h w', reduction=\"mean\")"
   ]
  },
  {
   "cell_type": "code",
   "execution_count": null,
   "id": "43b2a3b3-73d0-49fb-9e8f-2271e1128c2f",
   "metadata": {},
   "outputs": [],
   "source": [
    "embedding = nn.Embedding(num_embeddings=1000, embedding_dim=5, padding_idx=5)"
   ]
  },
  {
   "cell_type": "code",
   "execution_count": null,
   "id": "b56cf235-ca5a-4dd6-a29f-b15ecd5d44db",
   "metadata": {},
   "outputs": [],
   "source": [
    "class LMModel3(nn.Module):\n",
    "    def __init__(self, vocab_sz, n_hidden):\n",
    "        super().__init__()\n",
    "        self.i_h = nn.Embedding(vocab_sz, embedding_dim=n_hidden)\n",
    "        self.h_h = nn.Linear(n_hidden, n_hidden)\n",
    "        self.h_o = nn.Linear(n_hidden, vocab_sz)\n",
    "        self.h = 0.\n",
    "    \n",
    "    def forward(self, x):\n",
    "        for i in range(3):\n",
    "            self.h += F.relu(self.i_h(x[i, :]))\n",
    "            "
   ]
  }
 ],
 "metadata": {
  "kernelspec": {
   "display_name": "Python 3 (ipykernel)",
   "language": "python",
   "name": "python3"
  }
 },
 "nbformat": 4,
 "nbformat_minor": 5
}
