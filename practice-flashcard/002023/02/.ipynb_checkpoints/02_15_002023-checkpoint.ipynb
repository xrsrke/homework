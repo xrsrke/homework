{
 "cells": [
  {
   "cell_type": "markdown",
   "id": "df58286a-3073-491a-8183-249f5ac7a0c8",
   "metadata": {},
   "source": [
    "### Science"
   ]
  },
  {
   "cell_type": "code",
   "execution_count": null,
   "id": "ace94cb2-c0e5-4b18-9ed8-5eb6cd6a3f9c",
   "metadata": {},
   "outputs": [
    {
     "ename": "SyntaxError",
     "evalue": "invalid syntax (3828449490.py, line 1)",
     "output_type": "error",
     "traceback": [
      "\u001b[0;36m  Cell \u001b[0;32mIn[1], line 1\u001b[0;36m\u001b[0m\n\u001b[0;31m    Step 1: a device captures ultrasound\u001b[0m\n\u001b[0m         ^\u001b[0m\n\u001b[0;31mSyntaxError\u001b[0m\u001b[0;31m:\u001b[0m invalid syntax\n"
     ]
    }
   ],
   "source": [
    "Step 1: a device captures ultrasound\n",
    "Step 2: Turn to electrical signal\n",
    "Step 3: Send to the brain"
   ]
  },
  {
   "cell_type": "code",
   "execution_count": null,
   "id": "068096f9-43f6-4540-a1c2-703af65eabb2",
   "metadata": {},
   "outputs": [],
   "source": [
    "neuron 1 > axon > synapse > dendrite > neuron2"
   ]
  },
  {
   "cell_type": "markdown",
   "id": "9bf65ece-7afb-4756-bce9-370e5dc48658",
   "metadata": {},
   "source": [
    "conditioned response, motor imagery, stimulus-evoked activity, population activity"
   ]
  },
  {
   "cell_type": "code",
   "execution_count": null,
   "id": "d330532b-6117-4d43-9e4f-a8ee8941eb0a",
   "metadata": {},
   "outputs": [],
   "source": [
    "- biocompatible\n",
    "- reliable\n",
    "- neural representation change over time"
   ]
  },
  {
   "cell_type": "code",
   "execution_count": null,
   "id": "5f70df40-ddf3-4913-b095-82539cf5ab45",
   "metadata": {},
   "outputs": [],
   "source": [
    "step 1: record while performs different actions\n",
    "step 2: record the target action and give a reward"
   ]
  },
  {
   "cell_type": "code",
   "execution_count": null,
   "id": "9151eef0-aa2b-4ad6-8639-ef98e9c83c21",
   "metadata": {},
   "outputs": [],
   "source": [
    "step 1: record while performs different actions\n",
    "step 2: record performs the target action\n",
    "step 3: reward if performs the target action\n",
    "step 4: "
   ]
  },
  {
   "cell_type": "code",
   "execution_count": null,
   "id": "5f70a392-1699-4431-b0be-1832d95a01bc",
   "metadata": {},
   "outputs": [],
   "source": [
    "out of vocab, learn to handle comb"
   ]
  },
  {
   "cell_type": "markdown",
   "id": "1ee2d52e-bd79-4e48-8ba5-03a714d8019e",
   "metadata": {},
   "source": [
    "### AI"
   ]
  },
  {
   "cell_type": "code",
   "execution_count": null,
   "id": "3e704542-602f-49ee-b23e-a1f6c07b36bd",
   "metadata": {},
   "outputs": [],
   "source": [
    "import torch\n",
    "from torch import nn\n",
    "import torch.nn.functional as F"
   ]
  },
  {
   "cell_type": "code",
   "execution_count": null,
   "id": "a2e108b7-09fc-4aff-963a-1b99cd235cb7",
   "metadata": {},
   "outputs": [],
   "source": [
    "def normalize(x):\n",
    "    return (x-x.mean())/x.std()"
   ]
  },
  {
   "cell_type": "code",
   "execution_count": null,
   "id": "50019c8d-9aed-4073-a953-b789a8aa4f56",
   "metadata": {},
   "outputs": [],
   "source": [
    "env.observation_space"
   ]
  },
  {
   "cell_type": "code",
   "execution_count": null,
   "id": "5658ff40-9a82-4d57-92a4-e30688ac469b",
   "metadata": {},
   "outputs": [],
   "source": [
    "was/were sub v_ing"
   ]
  },
  {
   "cell_type": "code",
   "execution_count": null,
   "id": "fd2ada11-12bd-4d50-98cd-50523610985b",
   "metadata": {},
   "outputs": [],
   "source": [
    "will sub have past"
   ]
  },
  {
   "cell_type": "code",
   "execution_count": null,
   "id": "8c5751a5-c81f-4519-94ca-6caf015dbc1d",
   "metadata": {},
   "outputs": [],
   "source": [
    "x.clamp(min=-2, max=4)"
   ]
  },
  {
   "cell_type": "code",
   "execution_count": null,
   "id": "ce90f714-d68a-4645-b718-7e87a5fc3d0f",
   "metadata": {},
   "outputs": [],
   "source": [
    "prediction, representation, dynamics "
   ]
  },
  {
   "cell_type": "code",
   "execution_count": null,
   "id": "a3565f8c-e995-4573-bbf1-b62efecdb4c1",
   "metadata": {},
   "outputs": [],
   "source": [
    "had sub past"
   ]
  },
  {
   "cell_type": "code",
   "execution_count": null,
   "id": "e27cb37d-3c48-4228-9c1e-a8eeacc00609",
   "metadata": {},
   "outputs": [],
   "source": [
    "from einops import pack"
   ]
  },
  {
   "cell_type": "code",
   "execution_count": null,
   "id": "2f0005bc-6aec-4e5d-aeab-0255b80558c1",
   "metadata": {},
   "outputs": [],
   "source": [
    "stacked_images = pack([image_rgb, image_depth], 'h w *')"
   ]
  },
  {
   "cell_type": "code",
   "execution_count": null,
   "id": "51e50443-f1f1-4ec6-8d67-49f542dd9cc8",
   "metadata": {},
   "outputs": [],
   "source": [
    "x.normal_()"
   ]
  },
  {
   "cell_type": "code",
   "execution_count": null,
   "id": "20130d82-dc02-4fa9-8894-08e1ec37297b",
   "metadata": {},
   "outputs": [],
   "source": [
    "env.action_space"
   ]
  },
  {
   "cell_type": "code",
   "execution_count": null,
   "id": "cd3b1fd0-8f56-448b-bca6-8174a33236e0",
   "metadata": {},
   "outputs": [],
   "source": [
    "will have past"
   ]
  },
  {
   "cell_type": "code",
   "execution_count": null,
   "id": "e8a8d3b0-a12b-499d-a06c-7b5262746ba4",
   "metadata": {},
   "outputs": [],
   "source": [
    "from transformers import AutoModel"
   ]
  },
  {
   "cell_type": "code",
   "execution_count": null,
   "id": "399feff6-2d06-4b6f-8645-bdf022c8d198",
   "metadata": {},
   "outputs": [],
   "source": [
    "x_stacked = torch.stack([x, x, x, x], dim=0)"
   ]
  },
  {
   "cell_type": "code",
   "execution_count": null,
   "id": "9833c3b3-cd30-49b7-9061-8ec31a0745a0",
   "metadata": {},
   "outputs": [],
   "source": [
    "def calculate_discounted_return_an_episode(rewards, discount_factor):\n",
    "    discounted_return = torch.tensor(0).float()\n",
    "    \n",
    "    for k, reward in enumerate(rewards):\n",
    "        discounted_return += reward*discount_factor**k\n",
    "    \n",
    "    return discounted_return"
   ]
  },
  {
   "cell_type": "code",
   "execution_count": null,
   "id": "cf687da5-096f-4d27-9665-01ef30ba2dc1",
   "metadata": {},
   "outputs": [],
   "source": [
    "rewards = torch.tensor([1, 2, 3, 4, 5])"
   ]
  },
  {
   "cell_type": "code",
   "execution_count": null,
   "id": "0efad94d-9ffc-4a9c-91d5-874d65f81dba",
   "metadata": {},
   "outputs": [
    {
     "data": {
      "text/plain": [
       "tensor(14.6045)"
      ]
     },
     "execution_count": null,
     "metadata": {},
     "output_type": "execute_result"
    }
   ],
   "source": [
    "calculate_discounted_return_an_episode(rewards, 0.99)"
   ]
  },
  {
   "cell_type": "code",
   "execution_count": null,
   "id": "7439ee5c-69b5-4c1b-878f-56d76319c790",
   "metadata": {},
   "outputs": [],
   "source": [
    "def discount_reward(rewards, discount_factor):\n",
    "    discounted_rewards = []\n",
    "    \n",
    "    for k, reward in enumerate(rewards):\n",
    "        discounted_rewards.append(reward*discount_factor**k)\n",
    "    \n",
    "    return discounted_rewards"
   ]
  },
  {
   "cell_type": "code",
   "execution_count": null,
   "id": "28bc4580-4e08-4f46-bad4-609fde8e7174",
   "metadata": {},
   "outputs": [
    {
     "data": {
      "text/plain": [
       "[tensor(1.), tensor(1.9800), tensor(2.9403), tensor(3.8812), tensor(4.8030)]"
      ]
     },
     "execution_count": null,
     "metadata": {},
     "output_type": "execute_result"
    }
   ],
   "source": [
    "discount_reward(rewards, 0.99)"
   ]
  },
  {
   "cell_type": "code",
   "execution_count": null,
   "id": "6b253247-5a05-4ae2-997b-afd378ad39d1",
   "metadata": {},
   "outputs": [],
   "source": []
  }
 ],
 "metadata": {
  "kernelspec": {
   "display_name": "Python 3 (ipykernel)",
   "language": "python",
   "name": "python3"
  }
 },
 "nbformat": 4,
 "nbformat_minor": 5
}
