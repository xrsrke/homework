{
 "cells": [
  {
   "cell_type": "markdown",
   "id": "c7d3b673-a2b6-480e-864f-229ea359c229",
   "metadata": {},
   "source": [
    "### Science"
   ]
  },
  {
   "cell_type": "code",
   "execution_count": null,
   "id": "5a572a23-05de-43ef-919b-93b368e098cc",
   "metadata": {},
   "outputs": [],
   "source": [
    "Step 1: Device detects light\n",
    "Step 2: Convert it into corresponds electrical signals\n",
    "Step 3: Send it into the implanted device in the eye\n",
    "Step 4: The device send ES to the healthy cell\n",
    "Step 5: The cell send to the brain"
   ]
  },
  {
   "cell_type": "code",
   "execution_count": null,
   "id": "e286ee68-1ee2-4dc0-a92f-b4994c149fec",
   "metadata": {},
   "outputs": [],
   "source": [
    "conservation of mass, energy, l "
   ]
  },
  {
   "cell_type": "code",
   "execution_count": null,
   "id": "d66fd6b0-aeae-43cc-a23d-14419ab5cd39",
   "metadata": {},
   "outputs": [],
   "source": [
    "step 1: record all\n",
    "step 2: pattern\n",
    "step 3: reward if right pattern\n",
    "step 4: repeat step 3 "
   ]
  },
  {
   "cell_type": "code",
   "execution_count": null,
   "id": "b6e36759-dd45-4d1f-bd8e-cb9ff075b88a",
   "metadata": {},
   "outputs": [],
   "source": [
    "conditioned response, population decoding, motor imagery, stimulus-evoke"
   ]
  },
  {
   "cell_type": "code",
   "execution_count": null,
   "id": "40871eba-b35e-4e05-adb2-aad56ebe3606",
   "metadata": {},
   "outputs": [],
   "source": [
    "will subject be v_ing"
   ]
  },
  {
   "cell_type": "code",
   "execution_count": null,
   "id": "0cc18895-6487-447d-966a-2450ef264337",
   "metadata": {},
   "outputs": [],
   "source": [
    "willn't have v_ed"
   ]
  },
  {
   "cell_type": "markdown",
   "id": "a83d0a8f-d5b3-4b59-af49-3cb2eab09f60",
   "metadata": {},
   "source": [
    "### SW"
   ]
  },
  {
   "cell_type": "code",
   "execution_count": null,
   "id": "17202cee-8472-4e52-b33a-6035c80caa27",
   "metadata": {},
   "outputs": [],
   "source": [
    "from typing import Callable"
   ]
  },
  {
   "cell_type": "code",
   "execution_count": null,
   "id": "b3d31ee6-9b89-4d01-b6f0-7730fb54bbfa",
   "metadata": {},
   "outputs": [],
   "source": [
    "def foo(func: Callable[[str, str], str]):\n",
    "    return func(1, 2)"
   ]
  },
  {
   "cell_type": "code",
   "execution_count": null,
   "id": "08ebf394-b52b-4ff2-8b63-d73dbdbafb63",
   "metadata": {},
   "outputs": [],
   "source": [
    "from typing import TypeVar, Union"
   ]
  },
  {
   "cell_type": "code",
   "execution_count": null,
   "id": "66b88519-b7a4-44ea-ad81-c6156847f88e",
   "metadata": {},
   "outputs": [],
   "source": [
    "T = TypeVar(\"T\")"
   ]
  },
  {
   "cell_type": "code",
   "execution_count": null,
   "id": "6a0489f0-8a18-4155-ac2e-4feae8b58671",
   "metadata": {},
   "outputs": [],
   "source": [
    "APIResponse = Union[T, APIError]"
   ]
  },
  {
   "cell_type": "markdown",
   "id": "226017d7-d3f2-442e-b01d-0311e4ff4f95",
   "metadata": {},
   "source": [
    "### AI"
   ]
  },
  {
   "cell_type": "code",
   "execution_count": null,
   "id": "d31ad1cd-8d4b-4368-8bad-68a0912b4b88",
   "metadata": {},
   "outputs": [],
   "source": [
    "import torch\n",
    "from torch import nn\n",
    "import torch.nn.functional as F"
   ]
  },
  {
   "cell_type": "code",
   "execution_count": null,
   "id": "29290bea-9e8a-44c4-942c-a0de5bc14ea9",
   "metadata": {},
   "outputs": [],
   "source": [
    "split sequence, truncation, sliding window"
   ]
  },
  {
   "cell_type": "code",
   "execution_count": null,
   "id": "196dcfb1-a3c7-47f5-b1ce-9decce6563d6",
   "metadata": {},
   "outputs": [],
   "source": [
    "loss_func = nn.KLDivLoss()"
   ]
  },
  {
   "cell_type": "code",
   "execution_count": null,
   "id": "3ff7b76e-f374-4cb1-9861-3c6b537b1637",
   "metadata": {},
   "outputs": [],
   "source": [
    "loss = loss_func(\n",
    "    input=F.log_softmax(student_logits),\n",
    "    target=F.softmax(teacher_logits)\n",
    ")"
   ]
  },
  {
   "cell_type": "code",
   "execution_count": null,
   "id": "5ca9981a-bdae-4235-b283-e2de20f44679",
   "metadata": {},
   "outputs": [],
   "source": [
    "masked_encoding = encodings.mask_fill(mask==False, -1)"
   ]
  },
  {
   "cell_type": "code",
   "execution_count": null,
   "id": "f39a5e27-a0e8-44c8-b066-16ea71b5b0fd",
   "metadata": {},
   "outputs": [],
   "source": [
    "def normalize(x):\n",
    "    return (x-x.mean())/(x.std())"
   ]
  },
  {
   "cell_type": "code",
   "execution_count": null,
   "id": "a49e81e9-718b-4215-81d2-396a72170ce3",
   "metadata": {},
   "outputs": [],
   "source": [
    "target_text = torch.matmul(text_embeddings, text_embeddings.T)\n",
    "target_image = torch.matmul(image_embeddings, image_embeddings.T)"
   ]
  },
  {
   "cell_type": "code",
   "execution_count": null,
   "id": "1dee14bb-4051-44c1-aee0-5de88e2dbb42",
   "metadata": {},
   "outputs": [],
   "source": [
    "target = F.softmax((target_text+target_image)/2*temperature, dim=-1)"
   ]
  },
  {
   "cell_type": "code",
   "execution_count": null,
   "id": "742a4ca3-87ac-43b7-9b73-89485ba1cf02",
   "metadata": {},
   "outputs": [],
   "source": [
    "def calculate_discounted_return_each_step(rewards, discount_factor):\n",
    "    discounted_returns = []\n",
    "    \n",
    "    for i in range(len(rewards)):\n",
    "        total_return = 0\n",
    "        for k, reward in enumerate(rewards[i:]):\n",
    "            total_return += reward*discount_factor**k\n",
    "        \n",
    "        discounted_returns.append(total_return)\n",
    "    \n",
    "    return discounted_returns"
   ]
  },
  {
   "cell_type": "code",
   "execution_count": null,
   "id": "ccec61e0-408e-48cb-86fe-ee1c8d723924",
   "metadata": {},
   "outputs": [],
   "source": [
    "rewards = torch.tensor([1, 2, 3, 4, 5])"
   ]
  },
  {
   "cell_type": "code",
   "execution_count": null,
   "id": "7be5f44c-a4e3-45db-b2fd-2b8e3a024424",
   "metadata": {},
   "outputs": [
    {
     "data": {
      "text/plain": [
       "[tensor(14.6045), tensor(13.7419), tensor(11.8605), tensor(8.9500), tensor(5.)]"
      ]
     },
     "execution_count": null,
     "metadata": {},
     "output_type": "execute_result"
    }
   ],
   "source": [
    "calculate_discounted_return_each_step(rewards, 0.99)"
   ]
  },
  {
   "cell_type": "code",
   "execution_count": null,
   "id": "673cddfb-915b-4b28-9ae1-7070ee1fa6ba",
   "metadata": {},
   "outputs": [],
   "source": [
    "def cross_entropy_loss(pred, y_train):\n",
    "    return nll_loss(log_softmax(pred))"
   ]
  },
  {
   "cell_type": "code",
   "execution_count": null,
   "id": "19b16573-c118-439f-9190-9ced1bbfd74f",
   "metadata": {},
   "outputs": [],
   "source": [
    "sliding window, splitting sequence, truncation"
   ]
  }
 ],
 "metadata": {
  "kernelspec": {
   "display_name": "Python 3 (ipykernel)",
   "language": "python",
   "name": "python3"
  }
 },
 "nbformat": 4,
 "nbformat_minor": 5
}
