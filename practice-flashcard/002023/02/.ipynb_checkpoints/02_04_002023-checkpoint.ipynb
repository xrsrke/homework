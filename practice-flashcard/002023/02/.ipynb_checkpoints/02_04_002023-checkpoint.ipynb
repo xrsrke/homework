{
 "cells": [
  {
   "cell_type": "markdown",
   "id": "db27b76d-db8b-46ba-a6f6-0e0d4e80e2a2",
   "metadata": {},
   "source": [
    "### SW"
   ]
  },
  {
   "cell_type": "code",
   "execution_count": null,
   "id": "c8fb51e7-7aa5-4147-89b7-2e138643513e",
   "metadata": {},
   "outputs": [],
   "source": [
    "import pytest"
   ]
  },
  {
   "cell_type": "code",
   "execution_count": null,
   "id": "aa96cba8-c841-4ff8-aec8-430fe785cb41",
   "metadata": {},
   "outputs": [],
   "source": [
    "def test_raise_exception_should_pass() -> None:\n",
    "    with pytest.raises(ValueError):\n",
    "        raise_exception()"
   ]
  },
  {
   "cell_type": "code",
   "execution_count": null,
   "id": "61f6b703-e5b4-4af6-9a5f-c5e103cc1dd9",
   "metadata": {},
   "outputs": [],
   "source": [
    "class MercedezBenz:\n",
    "    @staticmethod\n",
    "    def auto_drive():\n",
    "        pass"
   ]
  },
  {
   "cell_type": "markdown",
   "id": "7ca06b02-2e28-44f0-a9f0-db2880fc5e87",
   "metadata": {},
   "source": [
    "### Sci"
   ]
  },
  {
   "cell_type": "code",
   "execution_count": null,
   "id": "b2ae37b2-5061-420e-a982-98dbfe2fc478",
   "metadata": {},
   "outputs": [],
   "source": [
    "import torch\n",
    "from torch import nn\n",
    "import torch.nn.functional as F"
   ]
  },
  {
   "cell_type": "code",
   "execution_count": null,
   "id": "3a215500-3955-47ff-a20e-d0e910896494",
   "metadata": {},
   "outputs": [],
   "source": [
    "def compute_cross_entropy(logits, targs):\n",
    "    log_probs = F.log_probs(logits, dim=-1)\n",
    "    loss = -log_probs[range(targs.shape[-1]), targs].mean()\n",
    "    return loss"
   ]
  },
  {
   "cell_type": "code",
   "execution_count": null,
   "id": "2f7a39e7-d9f7-4cab-a1ad-19bf54593ed7",
   "metadata": {},
   "outputs": [],
   "source": [
    "import pytorch_lightning as pl"
   ]
  },
  {
   "cell_type": "code",
   "execution_count": null,
   "id": "76b7e9da-c9d3-486f-95bf-4541e71f704d",
   "metadata": {},
   "outputs": [],
   "source": [
    "loss = nn.CrossEntropyLoss()"
   ]
  },
  {
   "cell_type": "code",
   "execution_count": null,
   "id": "03b601cd-10a6-4fa5-8ca1-d6010e4ce614",
   "metadata": {},
   "outputs": [],
   "source": [
    "class LitResNet(pl.LightningModule):\n",
    "    def __init__(self):\n",
    "        super().__init__()\n",
    "        self.model = _model1\n",
    "        self.loss = loss\n",
    "    \n",
    "    def trainin_step(self, batch, batch_idx):\n",
    "        x, y = batch\n",
    "        pred = self.model(x)\n",
    "        loss = self.loss(pred, y)\n",
    "        return loss"
   ]
  },
  {
   "cell_type": "code",
   "execution_count": null,
   "id": "c28df10b-54e1-4124-94f6-b01659824a3b",
   "metadata": {},
   "outputs": [],
   "source": [
    "from torch.utils.data import DataLoader, random_split"
   ]
  },
  {
   "cell_type": "code",
   "execution_count": null,
   "id": "fa3a6d04-7cc0-4fb0-9cbd-eed0adb673a9",
   "metadata": {},
   "outputs": [],
   "source": [
    "train_dataset, valid_dataset = random_split(dataset, lengths=[6, 4])"
   ]
  },
  {
   "cell_type": "code",
   "execution_count": null,
   "id": "5a8f9ee1-d258-413e-ba1b-fcd531b93db0",
   "metadata": {},
   "outputs": [],
   "source": [
    "train_loader = DataLoader(train_dataset, batch_size=2)\n",
    "valid_loader = DataLoader(valid_dataset, batch_size=2)"
   ]
  },
  {
   "cell_type": "code",
   "execution_count": null,
   "id": "a47bc891-a8a5-4ab6-8bd6-fb40a2737543",
   "metadata": {},
   "outputs": [],
   "source": [
    "env.ob"
   ]
  },
  {
   "cell_type": "code",
   "execution_count": null,
   "id": "4913b6f7-f284-4b68-bdb3-d70ebf263ad8",
   "metadata": {},
   "outputs": [],
   "source": [
    "x.clamp_min_(2)"
   ]
  },
  {
   "cell_type": "code",
   "execution_count": null,
   "id": "ff20fb4e-c39b-4a66-a839-1312520d3bf6",
   "metadata": {},
   "outputs": [],
   "source": [
    "class PerformanceBenchmark:\n",
    "    def __init__(self, pipeline, dataset):\n",
    "        self.pipeline = pipeline\n",
    "        self.dataset = dataset\n",
    "    \n",
    "    def latency(self):\n",
    "        pass\n",
    "    \n",
    "    def memory(self):\n",
    "        pass\n",
    "    \n",
    "    def accuracy(self):\n",
    "        pass\n",
    "    \n",
    "    def run_benchmark(self):\n",
    "        pass"
   ]
  },
  {
   "cell_type": "code",
   "execution_count": null,
   "id": "1b086bb3-1f1c-467f-8294-b0a569d28b57",
   "metadata": {},
   "outputs": [],
   "source": [
    "class BottleneckResidualBlock(nn.Module):\n",
    "    def __init__(self, in_channels, bottleneck_channels, out_channels, stride):\n",
    "        super().__init__()\n",
    "        self.net = nn.Sequential(\n",
    "            nn.Conv2d(\n",
    "                in_channels=in_channels, out_channels=bottleneck_channels,\n",
    "                kernel_size=1, stride=1\n",
    "            ),\n",
    "            nn.BatchNorm2d(bottleneck_channels),\n",
    "            nn.ReLU(),\n",
    "            nn.Conv2d(\n",
    "                in_channels=bottleneck_channels, out_channels=bottleneck_channels,\n",
    "                kernel_size=3, stride=stride, padding=1\n",
    "            ),\n",
    "            nn.BatchNorm2d(bottleneck_channels),\n",
    "            nn.ReLU(),\n",
    "            nn.Conv2d(\n",
    "                in_channels=bottleneck_channels, out_channels=out_channels,\n",
    "                kernel_size=1, stride=1\n",
    "            ),\n",
    "            nn.BatchNorm2d(out_channels)\n",
    "        )\n",
    "        \n",
    "        self.act_3 = nn.ReLU()\n",
    "    \n",
    "    def forward(self, x):\n",
    "        residual = x\n",
    "        out = self.net(x)\n",
    "        \n",
    "        out += residual\n",
    "        \n",
    "        return self.act_3(out)"
   ]
  },
  {
   "cell_type": "code",
   "execution_count": null,
   "id": "d90151c6-7a03-4d3c-9ac9-c519746de370",
   "metadata": {},
   "outputs": [],
   "source": [
    "target_text = torch.matmul(text_embeddings, text_embeddings.T)\n",
    "target_image = torch.matmul(image_embeddings, image_embeddings.T)"
   ]
  },
  {
   "cell_type": "code",
   "execution_count": null,
   "id": "be6bc01b-43cb-48c2-907e-05b491349d96",
   "metadata": {},
   "outputs": [],
   "source": [
    "target = F.softmax(\n",
    "    target_text + target_text\n",
    ")"
   ]
  },
  {
   "cell_type": "code",
   "execution_count": null,
   "id": "f5bde0b4-d4ea-4540-a958-e00bc27745f7",
   "metadata": {},
   "outputs": [],
   "source": [
    "class SelfAttention(nn.Module):\n",
    "    def __init__(self, d_head):\n",
    "        super().__init__()\n",
    "        self.d_head = d_head\n",
    "    \n",
    "    def forward(self, q, k, v):\n",
    "        qk_matmul = torch.matmul(q, k)\n",
    "        qk_matmul = qk_matmul / math.sqrt(self.d_head)\n",
    "        \n",
    "        attention_weights = F.softmax(qk_matmul, dim=-1)\n",
    "        output = torch.matmul(attention_weights, v)\n",
    "        \n",
    "        return output, attention_weights"
   ]
  },
  {
   "cell_type": "code",
   "execution_count": null,
   "id": "977c9f46-17a9-4e11-8bc6-2d482763bab6",
   "metadata": {},
   "outputs": [],
   "source": [
    "def create_mask(size):\n",
    "    return torch.ones((size, size)).triu(1)"
   ]
  },
  {
   "cell_type": "code",
   "execution_count": null,
   "id": "3256f98d-8e14-4c0a-8291-c88a34122557",
   "metadata": {},
   "outputs": [
    {
     "data": {
      "text/plain": [
       "tensor([[0., 1., 1., 1.],\n",
       "        [0., 0., 1., 1.],\n",
       "        [0., 0., 0., 1.],\n",
       "        [0., 0., 0., 0.]])"
      ]
     },
     "execution_count": null,
     "metadata": {},
     "output_type": "execute_result"
    }
   ],
   "source": [
    "create_mask(4)"
   ]
  },
  {
   "cell_type": "code",
   "execution_count": null,
   "id": "0a0854ba-cac4-40f5-883a-bf927ab1de79",
   "metadata": {},
   "outputs": [],
   "source": [
    "target_text = torch.matmul(text_embedding, text_embedding.T)\n",
    "target_image = torch.matmul(image_embedding, image_embedding.T)"
   ]
  },
  {
   "cell_type": "code",
   "execution_count": null,
   "id": "1b3b0365-90cc-4df6-9b67-06d63a448ff2",
   "metadata": {},
   "outputs": [],
   "source": [
    "target = F.softmax((target_text + target_image) / 2*temperature, dim=-1 )"
   ]
  }
 ],
 "metadata": {
  "kernelspec": {
   "display_name": "Python 3 (ipykernel)",
   "language": "python",
   "name": "python3"
  }
 },
 "nbformat": 4,
 "nbformat_minor": 5
}
