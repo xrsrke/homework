{
 "cells": [
  {
   "cell_type": "markdown",
   "id": "4eaf42b4-50f0-4512-a5fe-28f946d03f27",
   "metadata": {},
   "source": [
    "### Science"
   ]
  },
  {
   "cell_type": "code",
   "execution_count": null,
   "id": "e9d7cffb-6fb0-4f9b-8238-30255edc6286",
   "metadata": {},
   "outputs": [],
   "source": [
    "covalent bond, ionic bond, walls, metallic"
   ]
  },
  {
   "cell_type": "markdown",
   "id": "b7953531-6700-4965-922a-ba278688ea15",
   "metadata": {},
   "source": [
    "conditioned response, stimulus-evoke, motor imagery, population activity"
   ]
  },
  {
   "cell_type": "markdown",
   "id": "b53fa358-1314-472f-8ee8-39408f8112d8",
   "metadata": {},
   "source": [
    "step 1: record while perform different actions\n",
    "step 2: record perform the target action\n",
    "step 3: reward if perform the target action => learn associate the reward with the target action\n",
    "step 4: "
   ]
  },
  {
   "cell_type": "code",
   "execution_count": null,
   "id": "4d6068ad-d52c-4ed7-b006-21d83a1aca67",
   "metadata": {},
   "outputs": [],
   "source": [
    "two uncertainty principles\n",
    "quantization of angular momentum\n",
    "quatization of action"
   ]
  },
  {
   "cell_type": "code",
   "execution_count": null,
   "id": "7056fa1e-24c2-4cf9-a192-be6efc22e987",
   "metadata": {},
   "outputs": [],
   "source": [
    "dipole-dipole force\n",
    "dipile-induced-diple force\n",
    "dispersion force"
   ]
  },
  {
   "cell_type": "code",
   "execution_count": null,
   "id": "aa2bb5fb-2833-4f1c-9e02-7cbd8e240975",
   "metadata": {},
   "outputs": [],
   "source": [
    "covalent, ionic, metallic, walsl"
   ]
  },
  {
   "cell_type": "code",
   "execution_count": null,
   "id": "b09f212b-780b-4f98-936c-6a1f71fd5f52",
   "metadata": {},
   "outputs": [],
   "source": [
    "quantization of action, angular momentum\n",
    "two uncertainty principles"
   ]
  },
  {
   "cell_type": "markdown",
   "id": "42996c13-3429-4681-83f4-48d12b665fdb",
   "metadata": {},
   "source": [
    "### SW"
   ]
  },
  {
   "cell_type": "code",
   "execution_count": null,
   "id": "00d8a4a7-fcc1-49d7-9480-48577f381cad",
   "metadata": {},
   "outputs": [],
   "source": [
    "class Bookshelf:\n",
    "    def __setitem__(self, k, v):\n",
    "        print(\"xx\", k, v)"
   ]
  },
  {
   "cell_type": "code",
   "execution_count": null,
   "id": "55773d4c-61f4-4299-bc90-c0a6c82a5587",
   "metadata": {},
   "outputs": [],
   "source": [
    "result = [x for x in l if x % 2 ==0]"
   ]
  },
  {
   "cell_type": "code",
   "execution_count": null,
   "id": "69d90a97-c917-4ee4-90a9-1505e55f08e0",
   "metadata": {},
   "outputs": [],
   "source": [
    "from typing import TypedDict"
   ]
  },
  {
   "cell_type": "code",
   "execution_count": null,
   "id": "9b0ac4f9-13ec-407a-806c-fb5ec8d0e6d4",
   "metadata": {},
   "outputs": [],
   "source": [
    "class NutritionInformation(TypedDict):\n",
    "    value: int\n",
    "    unit: str"
   ]
  },
  {
   "cell_type": "code",
   "execution_count": null,
   "id": "3b05eb56-0e11-4b3d-83c8-f2102abe2d8a",
   "metadata": {},
   "outputs": [],
   "source": [
    "class Recipe:\n",
    "    recipes_used: int\n",
    "    calories: NutritionInformation\n",
    "    carbs: NutritionInformation"
   ]
  },
  {
   "cell_type": "code",
   "execution_count": null,
   "id": "4172daf0-a9fb-4ddd-b913-98b90e3cf808",
   "metadata": {},
   "outputs": [],
   "source": [
    "from typing import TypeVar, Union"
   ]
  },
  {
   "cell_type": "code",
   "execution_count": null,
   "id": "d5a085ee-b43b-4c6e-813c-586a9bfe0f61",
   "metadata": {},
   "outputs": [],
   "source": [
    "T = TypeVar(\"T\")"
   ]
  },
  {
   "cell_type": "code",
   "execution_count": null,
   "id": "15d8863f-5ab9-45f6-bc23-af8c27d4ce20",
   "metadata": {},
   "outputs": [],
   "source": [
    "APIResponse = Union[T, APIError]"
   ]
  },
  {
   "cell_type": "markdown",
   "id": "3ca4bb09-c4d8-4380-bb0e-f4af3763f8f9",
   "metadata": {},
   "source": [
    "### X"
   ]
  },
  {
   "cell_type": "code",
   "execution_count": null,
   "id": "c52fb69f-2175-4aa6-8357-6095e3ef2050",
   "metadata": {},
   "outputs": [],
   "source": [
    "willn't have v_ed"
   ]
  },
  {
   "cell_type": "markdown",
   "id": "7e317d67-db73-4d81-9a69-e08aa37a4741",
   "metadata": {},
   "source": [
    "### AI"
   ]
  },
  {
   "cell_type": "code",
   "execution_count": null,
   "id": "43494753-b3e4-45f0-b27a-a2c9b04e3870",
   "metadata": {},
   "outputs": [],
   "source": [
    "import torch\n",
    "from torch import nn\n",
    "import torch.nn.functional as F"
   ]
  },
  {
   "cell_type": "code",
   "execution_count": null,
   "id": "28d845ca-4e4c-4725-abfb-b8d87a247155",
   "metadata": {},
   "outputs": [],
   "source": [
    "from torch.nn.init import kaiming_normal_"
   ]
  },
  {
   "cell_type": "code",
   "execution_count": null,
   "id": "0da12fe7-6962-4183-9923-4bae0b3370f4",
   "metadata": {},
   "outputs": [],
   "source": [
    "kaiming_normal_(layer1.weight.data)"
   ]
  },
  {
   "cell_type": "code",
   "execution_count": null,
   "id": "47844624-d878-4b1e-9d30-c6783bac2d5b",
   "metadata": {},
   "outputs": [],
   "source": [
    "import torchvision.transforms as tfms"
   ]
  },
  {
   "cell_type": "code",
   "execution_count": null,
   "id": "6e8ea66c-60ee-4332-bbd3-0e0268528918",
   "metadata": {},
   "outputs": [],
   "source": [
    "transform = tfms.Compose([\n",
    "    tfms.ToTensor(),\n",
    "    tfms.Normalize(mean=0.3, std=0.9)\n",
    "])"
   ]
  },
  {
   "cell_type": "code",
   "execution_count": null,
   "id": "e748faa8-6e83-40d8-861b-024b174788d0",
   "metadata": {},
   "outputs": [],
   "source": [
    "splitting sentence, sliding window, truncation "
   ]
  },
  {
   "cell_type": "code",
   "execution_count": null,
   "id": "d5f89be4-28d9-4817-9f5d-1db238af1a0f",
   "metadata": {},
   "outputs": [],
   "source": [
    "import numpy as np\n",
    "from gym import Env\n",
    "from gym.spaces import Discrete, Box"
   ]
  },
  {
   "cell_type": "code",
   "execution_count": null,
   "id": "5d90b489-a296-4595-bc68-808ec75eb6d9",
   "metadata": {},
   "outputs": [],
   "source": [
    "class ShowerEnv(Env):\n",
    "    def __init__(self):\n",
    "        super().__init__()\n",
    "        self.action_space = Discrete(3)\n",
    "        self.observation_space = Box(\n",
    "            low=np.array(0),\n",
    "            high=np.array(100)\n",
    "        )\n",
    "    \n",
    "    def step(self, action):\n",
    "        self.temperature -= action\n",
    "        self.time -= 1\n",
    "        reward = True if self.temperature >= 37 and self.temperature <= 39 else False\n",
    "        done = True if self.time == 0 else False\n",
    "        info = {}\n",
    "        \n",
    "        return self.temperature, reward, done, info\n",
    "    \n",
    "    def reset(self):\n",
    "        self.time = 0\n",
    "        self.temperature = 20"
   ]
  },
  {
   "cell_type": "code",
   "execution_count": null,
   "id": "650c30dc-43fb-46d5-8075-08ece553f9b7",
   "metadata": {},
   "outputs": [],
   "source": [
    "from einops import repeat"
   ]
  },
  {
   "cell_type": "code",
   "execution_count": null,
   "id": "135dfc97-4008-4f79-b6bb-9eaba4e90a66",
   "metadata": {},
   "outputs": [],
   "source": [
    "output = repeat(x, 'h w -> h w new_axis', new_axis=2)"
   ]
  },
  {
   "cell_type": "code",
   "execution_count": null,
   "id": "92df7f63-e88a-46bc-b640-43b43550e862",
   "metadata": {},
   "outputs": [],
   "source": [
    "too much vocabs, new words"
   ]
  },
  {
   "cell_type": "code",
   "execution_count": null,
   "id": "5e744003-8959-44e1-83ed-3c1c5318e0da",
   "metadata": {},
   "outputs": [],
   "source": [
    "def normalize(x):\n",
    "    return (x-x.mean())/(x.std())"
   ]
  },
  {
   "cell_type": "code",
   "execution_count": null,
   "id": "20b71f75-89af-4ea5-9b0a-720355ffde97",
   "metadata": {},
   "outputs": [],
   "source": [
    "for _ range(N_EPISODE):\n",
    "    state = env.reset()\n",
    "    done = False\n",
    "    \n",
    "    while done:\n",
    "        preds = model(state)\n",
    "        action = torch.argmax(preds, dim=-1)\n",
    "\n",
    "        new_state, reward, done, truncated, info = env.step(action)\n",
    "\n",
    "        if done:\n",
    "            target_reward = reward\n",
    "        else:\n",
    "            next_preds = model(new_state)\n",
    "            max_next_pred = torch.max(next_preds, dim=-1)\n",
    "            target_reward = reward + GAMMA*max_next_pred\n",
    "        \n",
    "        loss = loss_func(reward, target_reward)\n",
    "        loss.backward()\n",
    "        optimizer.zero_grad()\n",
    "        optimizer.step()"
   ]
  },
  {
   "cell_type": "code",
   "execution_count": null,
   "id": "4665acf1-11dc-4d37-b704-954a6136b067",
   "metadata": {},
   "outputs": [],
   "source": [
    "discounted_rewards = get_discounted_reward(rewards)"
   ]
  },
  {
   "cell_type": "code",
   "execution_count": null,
   "id": "9530b3c6-660b-4f4f-b949-8bcda7bcf812",
   "metadata": {},
   "outputs": [],
   "source": [
    "total_loss = 0\n",
    "\n",
    "for discounted_reward, prob in zip(discounted_reward, selected_action_prob):\n",
    "    total_loss += discounted_reward*-prob.log()"
   ]
  },
  {
   "cell_type": "code",
   "execution_count": null,
   "id": "7182c0e3-2c2d-468e-848c-c6efaf482cd1",
   "metadata": {},
   "outputs": [],
   "source": [
    "loss = total_loss / len(rewards)"
   ]
  },
  {
   "cell_type": "code",
   "execution_count": null,
   "id": "e6a91013-0bb1-4dbd-b114-e7cb5e97ad4e",
   "metadata": {},
   "outputs": [],
   "source": [
    "class DummyModule:\n",
    "    def __init__(self, n_in, nh, n_out):\n",
    "        self._modules = {}\n",
    "        self.l1 = Linear(n_in, nh)\n",
    "        self.l2 = Linear(nh, n_out)\n",
    "    \n",
    "    def __setitem__(self, k, v):\n",
    "        if not k.startswith('_'):\n",
    "            self._modules[k] = v\n",
    "        \n",
    "        return super().__setitem__(k, v)"
   ]
  },
  {
   "cell_type": "code",
   "execution_count": null,
   "id": "504dd81a-daa4-496d-9f6b-ff2614d8921e",
   "metadata": {},
   "outputs": [],
   "source": [
    "class Optimizer:\n",
    "    def __init__(self, params, lr):\n",
    "        self.params = params\n",
    "        self.lr = lr\n",
    "    \n",
    "    def zero_grad(self):\n",
    "        for param in self.params:\n",
    "            param.grad.data.zero_()"
   ]
  },
  {
   "cell_type": "code",
   "execution_count": null,
   "id": "cd39e761-fa18-44c6-ad44-40117008e865",
   "metadata": {},
   "outputs": [],
   "source": [
    "class DotProduct(nn.Module):\n",
    "    def __init__(self, n_users, n_movies, n_factors):\n",
    "        super().__init__()\n",
    "        self.users = nn.Embedding(n_users, n_factors)\n",
    "        self.movies = nn.Embedding(n_movies, n_factors)"
   ]
  }
 ],
 "metadata": {
  "kernelspec": {
   "display_name": "Python 3 (ipykernel)",
   "language": "python",
   "name": "python3"
  }
 },
 "nbformat": 4,
 "nbformat_minor": 5
}
