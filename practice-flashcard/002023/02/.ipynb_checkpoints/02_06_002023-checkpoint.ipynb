{
 "cells": [
  {
   "cell_type": "markdown",
   "id": "8f230860-ecab-44e6-89f5-16e5f8ce277a",
   "metadata": {},
   "source": [
    "### Science"
   ]
  },
  {
   "cell_type": "code",
   "execution_count": null,
   "id": "349a8db2-1e52-4ea0-8421-4071173d48a8",
   "metadata": {},
   "outputs": [],
   "source": [
    "strong strength connection between neurons\n",
    "weak strength connection between neurons\n",
    "strength connection between neurons, but last not long"
   ]
  },
  {
   "cell_type": "code",
   "execution_count": null,
   "id": "bdb7f6d1-c2eb-43f4-8f27-886bbf6caa82",
   "metadata": {},
   "outputs": [],
   "source": [
    "cell body, axon, dendrite, synapse"
   ]
  },
  {
   "cell_type": "code",
   "execution_count": null,
   "id": "2c33340c-4415-4065-88f6-7fc540745417",
   "metadata": {},
   "outputs": [],
   "source": [
    "neuron 1 > axon > syanpse > dendrite > neuron 2"
   ]
  },
  {
   "cell_type": "code",
   "execution_count": null,
   "id": "a4a8f387-bf26-4949-9f79-a01b84b4ba69",
   "metadata": {},
   "outputs": [],
   "source": [
    "friction force, normal force, applied force, gravitational force, air"
   ]
  },
  {
   "cell_type": "code",
   "execution_count": null,
   "id": "bfef16ff-67d9-47b4-8435-4c2d78d4f3da",
   "metadata": {},
   "outputs": [
    {
     "name": "stdout",
     "output_type": "stream",
     "text": [
      "Requirement already satisfied: deepchem[torch] in /Users/education/miniforge3/envs/gym/lib/python3.8/site-packages (2.7.1)\n",
      "Requirement already satisfied: scipy<1.9 in /Users/education/miniforge3/envs/gym/lib/python3.8/site-packages (from deepchem[torch]) (1.8.1)\n",
      "Requirement already satisfied: rdkit in /Users/education/miniforge3/envs/gym/lib/python3.8/site-packages (from deepchem[torch]) (2022.9.4)\n",
      "Requirement already satisfied: scikit-learn in /Users/education/miniforge3/envs/gym/lib/python3.8/site-packages (from deepchem[torch]) (1.2.0)\n",
      "Requirement already satisfied: pandas in /Users/education/miniforge3/envs/gym/lib/python3.8/site-packages (from deepchem[torch]) (1.5.2)\n",
      "Requirement already satisfied: numpy>=1.21 in /Users/education/miniforge3/envs/gym/lib/python3.8/site-packages (from deepchem[torch]) (1.23.5)\n",
      "Requirement already satisfied: joblib in /Users/education/miniforge3/envs/gym/lib/python3.8/site-packages (from deepchem[torch]) (1.2.0)\n",
      "Collecting dgllife\n",
      "  Using cached dgllife-0.3.1-py3-none-any.whl (226 kB)\n",
      "Collecting dgl\n",
      "  Downloading dgl-0.9.1-cp38-cp38-macosx_11_0_arm64.whl (3.0 MB)\n",
      "\u001b[2K     \u001b[38;2;114;156;31m━━━━━━━━━━━━━━━━━━━━━━━━━━━━━━━━━━━━━━━━\u001b[0m \u001b[32m3.0/3.0 MB\u001b[0m \u001b[31m2.5 MB/s\u001b[0m eta \u001b[36m0:00:00\u001b[0mm eta \u001b[36m0:00:01\u001b[0m0:01\u001b[0m:01\u001b[0m\n",
      "\u001b[?25hRequirement already satisfied: torchvision in /Users/education/miniforge3/envs/gym/lib/python3.8/site-packages (from deepchem[torch]) (0.14.0)\n",
      "Requirement already satisfied: pytorch-lightning in /Users/education/miniforge3/envs/gym/lib/python3.8/site-packages (from deepchem[torch]) (1.8.6)\n",
      "Requirement already satisfied: torch in /Users/education/miniforge3/envs/gym/lib/python3.8/site-packages (from deepchem[torch]) (1.13.1)\n",
      "Collecting networkx>=2.1\n",
      "  Using cached networkx-3.0-py3-none-any.whl (2.0 MB)\n",
      "Requirement already satisfied: tqdm in /Users/education/miniforge3/envs/gym/lib/python3.8/site-packages (from dgl->deepchem[torch]) (4.64.1)\n",
      "Requirement already satisfied: requests>=2.19.0 in /Users/education/miniforge3/envs/gym/lib/python3.8/site-packages (from dgl->deepchem[torch]) (2.28.1)\n",
      "Requirement already satisfied: psutil>=5.8.0 in /Users/education/miniforge3/envs/gym/lib/python3.8/site-packages (from dgl->deepchem[torch]) (5.9.4)\n",
      "Collecting hyperopt\n",
      "  Using cached hyperopt-0.2.7-py2.py3-none-any.whl (1.6 MB)\n",
      "Requirement already satisfied: threadpoolctl>=2.0.0 in /Users/education/miniforge3/envs/gym/lib/python3.8/site-packages (from scikit-learn->deepchem[torch]) (3.1.0)\n",
      "Requirement already satisfied: python-dateutil>=2.8.1 in /Users/education/miniforge3/envs/gym/lib/python3.8/site-packages (from pandas->deepchem[torch]) (2.8.2)\n",
      "Requirement already satisfied: pytz>=2020.1 in /Users/education/miniforge3/envs/gym/lib/python3.8/site-packages (from pandas->deepchem[torch]) (2022.6)\n",
      "Requirement already satisfied: torchmetrics>=0.7.0 in /Users/education/miniforge3/envs/gym/lib/python3.8/site-packages (from pytorch-lightning->deepchem[torch]) (0.11.0)\n",
      "Requirement already satisfied: tensorboardX>=2.2 in /Users/education/miniforge3/envs/gym/lib/python3.8/site-packages (from pytorch-lightning->deepchem[torch]) (2.5.1)\n",
      "Requirement already satisfied: packaging>=17.0 in /Users/education/miniforge3/envs/gym/lib/python3.8/site-packages (from pytorch-lightning->deepchem[torch]) (22.0)\n",
      "Requirement already satisfied: PyYAML>=5.4 in /Users/education/miniforge3/envs/gym/lib/python3.8/site-packages (from pytorch-lightning->deepchem[torch]) (6.0)\n",
      "Requirement already satisfied: typing-extensions>=4.0.0 in /Users/education/miniforge3/envs/gym/lib/python3.8/site-packages (from pytorch-lightning->deepchem[torch]) (4.4.0)\n",
      "Requirement already satisfied: lightning-utilities!=0.4.0,>=0.3.0 in /Users/education/miniforge3/envs/gym/lib/python3.8/site-packages (from pytorch-lightning->deepchem[torch]) (0.5.0)\n",
      "Requirement already satisfied: fsspec[http]>2021.06.0 in /Users/education/miniforge3/envs/gym/lib/python3.8/site-packages (from pytorch-lightning->deepchem[torch]) (2022.11.0)\n",
      "Requirement already satisfied: Pillow in /Users/education/miniforge3/envs/gym/lib/python3.8/site-packages (from rdkit->deepchem[torch]) (9.3.0)\n",
      "Requirement already satisfied: aiohttp!=4.0.0a0,!=4.0.0a1 in /Users/education/miniforge3/envs/gym/lib/python3.8/site-packages (from fsspec[http]>2021.06.0->pytorch-lightning->deepchem[torch]) (3.8.3)\n",
      "Requirement already satisfied: six>=1.5 in /Users/education/miniforge3/envs/gym/lib/python3.8/site-packages (from python-dateutil>=2.8.1->pandas->deepchem[torch]) (1.16.0)\n",
      "Requirement already satisfied: idna<4,>=2.5 in /Users/education/miniforge3/envs/gym/lib/python3.8/site-packages (from requests>=2.19.0->dgl->deepchem[torch]) (3.4)\n",
      "Requirement already satisfied: charset-normalizer<3,>=2 in /Users/education/miniforge3/envs/gym/lib/python3.8/site-packages (from requests>=2.19.0->dgl->deepchem[torch]) (2.1.1)\n",
      "Requirement already satisfied: urllib3<1.27,>=1.21.1 in /Users/education/miniforge3/envs/gym/lib/python3.8/site-packages (from requests>=2.19.0->dgl->deepchem[torch]) (1.26.13)\n",
      "Requirement already satisfied: certifi>=2017.4.17 in /Users/education/miniforge3/envs/gym/lib/python3.8/site-packages (from requests>=2.19.0->dgl->deepchem[torch]) (2022.12.7)\n",
      "Requirement already satisfied: protobuf<=3.20.1,>=3.8.0 in /Users/education/miniforge3/envs/gym/lib/python3.8/site-packages (from tensorboardX>=2.2->pytorch-lightning->deepchem[torch]) (3.20.1)\n",
      "Requirement already satisfied: cloudpickle in /Users/education/miniforge3/envs/gym/lib/python3.8/site-packages (from hyperopt->dgllife->deepchem[torch]) (2.2.0)\n",
      "Collecting future\n",
      "  Using cached future-0.18.3.tar.gz (840 kB)\n",
      "  Preparing metadata (setup.py) ... \u001b[?25ldone\n",
      "\u001b[?25hCollecting py4j\n",
      "  Using cached py4j-0.10.9.7-py2.py3-none-any.whl (200 kB)\n",
      "Requirement already satisfied: frozenlist>=1.1.1 in /Users/education/miniforge3/envs/gym/lib/python3.8/site-packages (from aiohttp!=4.0.0a0,!=4.0.0a1->fsspec[http]>2021.06.0->pytorch-lightning->deepchem[torch]) (1.3.3)\n",
      "Requirement already satisfied: yarl<2.0,>=1.0 in /Users/education/miniforge3/envs/gym/lib/python3.8/site-packages (from aiohttp!=4.0.0a0,!=4.0.0a1->fsspec[http]>2021.06.0->pytorch-lightning->deepchem[torch]) (1.8.2)\n",
      "Requirement already satisfied: async-timeout<5.0,>=4.0.0a3 in /Users/education/miniforge3/envs/gym/lib/python3.8/site-packages (from aiohttp!=4.0.0a0,!=4.0.0a1->fsspec[http]>2021.06.0->pytorch-lightning->deepchem[torch]) (4.0.2)\n",
      "Requirement already satisfied: multidict<7.0,>=4.5 in /Users/education/miniforge3/envs/gym/lib/python3.8/site-packages (from aiohttp!=4.0.0a0,!=4.0.0a1->fsspec[http]>2021.06.0->pytorch-lightning->deepchem[torch]) (6.0.4)\n",
      "Requirement already satisfied: aiosignal>=1.1.2 in /Users/education/miniforge3/envs/gym/lib/python3.8/site-packages (from aiohttp!=4.0.0a0,!=4.0.0a1->fsspec[http]>2021.06.0->pytorch-lightning->deepchem[torch]) (1.3.1)\n",
      "Requirement already satisfied: attrs>=17.3.0 in /Users/education/miniforge3/envs/gym/lib/python3.8/site-packages (from aiohttp!=4.0.0a0,!=4.0.0a1->fsspec[http]>2021.06.0->pytorch-lightning->deepchem[torch]) (22.1.0)\n",
      "Building wheels for collected packages: future\n",
      "  Building wheel for future (setup.py) ... \u001b[?25ldone\n",
      "\u001b[?25h  Created wheel for future: filename=future-0.18.3-py3-none-any.whl size=492025 sha256=399d00cbaf16be5581f846e095ccff1068c451f362410a529b13f487785acca3\n",
      "  Stored in directory: /Users/education/Library/Caches/pip/wheels/a6/db/41/71a0e5d071a14e716cc11bb021a9caa8f76ec337eca071487e\n",
      "Successfully built future\n",
      "Installing collected packages: py4j, networkx, future, hyperopt, dgl, dgllife\n",
      "Successfully installed dgl-0.9.1 dgllife-0.3.1 future-0.18.3 hyperopt-0.2.7 networkx-3.0 py4j-0.10.9.7\n"
     ]
    }
   ],
   "source": [
    "!pip install \"deepchem[torch]\""
   ]
  },
  {
   "cell_type": "code",
   "execution_count": null,
   "id": "533a6c41-fd2c-4442-8a2d-e3fd9fe42842",
   "metadata": {},
   "outputs": [],
   "source": [
    "from deepchem.models import M"
   ]
  },
  {
   "cell_type": "code",
   "execution_count": null,
   "id": "3b38f77c-5bb6-4374-a0a6-447cb824334f",
   "metadata": {},
   "outputs": [],
   "source": [
    "hydrate, lipid, protein, nucleic acid"
   ]
  },
  {
   "cell_type": "code",
   "execution_count": null,
   "id": "96ad5cf5-8f00-4ccf-8159-103cde477d25",
   "metadata": {},
   "outputs": [],
   "source": [
    "from deepchem.models import MultitaskClassifier"
   ]
  },
  {
   "cell_type": "code",
   "execution_count": null,
   "id": "754146a5-4864-4592-8976-1f803e8504c8",
   "metadata": {},
   "outputs": [],
   "source": [
    "model = MultitaskClassifier(\n",
    "    n_tasks=12,\n",
    "    n_features=1024\n",
    ")"
   ]
  },
  {
   "cell_type": "markdown",
   "id": "56dd40db-a0d7-4c93-a282-d2cd8b623578",
   "metadata": {},
   "source": [
    "### AI"
   ]
  },
  {
   "cell_type": "code",
   "execution_count": null,
   "id": "d543224a-60d9-4092-a4c2-3742b4b60ef7",
   "metadata": {},
   "outputs": [],
   "source": [
    "import torch\n",
    "from torch import nn\n",
    "import torch.nn.functional as F"
   ]
  },
  {
   "cell_type": "code",
   "execution_count": null,
   "id": "773446ea-3cd0-4d69-b671-4793562cff97",
   "metadata": {},
   "outputs": [],
   "source": [
    "from einops import rearrange"
   ]
  },
  {
   "cell_type": "code",
   "execution_count": null,
   "id": "1c62996b-7167-4196-bcf2-30b8036ee240",
   "metadata": {},
   "outputs": [],
   "source": [
    "def compute_loss(model, xb, yb):\n",
    "    pred = model(xb)\n",
    "    \n",
    "    pred = rearrange(pred, 'b s n -> (b s) n')\n",
    "    yb = rearrange(yb, 'b s -> (b s)')\n",
    "    \n",
    "    loss = F.cross_entropy(\n",
    "        input=pred,\n",
    "        target=yb\n",
    "    )\n",
    "    \n",
    "    return loss"
   ]
  },
  {
   "cell_type": "code",
   "execution_count": null,
   "id": "94856302-536e-4e6c-8764-9d14ae830f17",
   "metadata": {},
   "outputs": [],
   "source": [
    "x.clamp_max_(3)"
   ]
  },
  {
   "cell_type": "code",
   "execution_count": null,
   "id": "5bc70edf-d403-4ddf-8818-b56611521731",
   "metadata": {},
   "outputs": [],
   "source": [
    "import numpy as np\n",
    "from gym import Env\n",
    "from gym.spaces import Discrete, Box"
   ]
  },
  {
   "cell_type": "code",
   "execution_count": null,
   "id": "1ea6a2c8-7590-4bea-a98d-33565be98054",
   "metadata": {},
   "outputs": [],
   "source": [
    "class ShowerEnv(Env):\n",
    "    def __init__(self):\n",
    "        super().__init__()\n",
    "        self.action_space = Discrete(3)\n",
    "        self.observation_space = Box(\n",
    "            low=np.array([0]),\n",
    "            high=np.array([100])\n",
    "        )\n",
    "        \n",
    "    def step(self, action):\n",
    "        self.state -= action\n",
    "        self.time -= 1\n",
    "        \n",
    "        reward = 1 if self.state >= 37 and self.state <= 39 or 0\n",
    "        done = True if self.time == 0 else False\n",
    "        info = {}\n",
    "        \n",
    "        return self.state, reward, done, info\n",
    "    \n",
    "    def reset(self):\n",
    "        self.state = 20\n",
    "        self.time = 60"
   ]
  },
  {
   "cell_type": "code",
   "execution_count": null,
   "id": "96ae081e-1d09-4ff0-b57b-80079b537e4d",
   "metadata": {},
   "outputs": [],
   "source": [
    "from transformers import RobertaModel"
   ]
  },
  {
   "cell_type": "code",
   "execution_count": null,
   "id": "9b0c5997-de96-4f1e-8535-5d66261cad4b",
   "metadata": {},
   "outputs": [],
   "source": [
    "model = RobertaModel.from_pretrained(\"roberta-base\")"
   ]
  },
  {
   "cell_type": "code",
   "execution_count": null,
   "id": "c3ed5b02-339c-4589-aad2-5d1d6d722201",
   "metadata": {},
   "outputs": [],
   "source": [
    "loss_func = nn.KLDivLoss()"
   ]
  },
  {
   "cell_type": "code",
   "execution_count": null,
   "id": "f6fc6430-f9ff-4db1-8be4-63dff4647ddc",
   "metadata": {},
   "outputs": [],
   "source": [
    "loss = loss_func(\n",
    "    input=F.log_softmax(student_logits),\n",
    "    target=F.softmax(teacher_logits)\n",
    ")"
   ]
  },
  {
   "cell_type": "code",
   "execution_count": null,
   "id": "a097043d-318b-4986-bd91-93b88d501c24",
   "metadata": {},
   "outputs": [],
   "source": [
    "from einops import pack"
   ]
  },
  {
   "cell_type": "code",
   "execution_count": null,
   "id": "2ccf09a6-87e1-4dcc-8eee-7cdfd28bc014",
   "metadata": {},
   "outputs": [],
   "source": [
    "stacked_images = pack([image_rb, image_depth], 'h w *')"
   ]
  },
  {
   "cell_type": "code",
   "execution_count": null,
   "id": "04b8329b-2c92-4f06-994a-379f9e614b2f",
   "metadata": {},
   "outputs": [],
   "source": [
    "returns = get_returns(rewards)"
   ]
  },
  {
   "cell_type": "code",
   "execution_count": null,
   "id": "463e5e78-3f8b-4202-a183-b40958ca67c9",
   "metadata": {},
   "outputs": [],
   "source": [
    "total_loss\n",
    "\n",
    "for return_, prob in zip(returns, selected_action_probs):\n",
    "    total_loss += return_*-prob.log()"
   ]
  },
  {
   "cell_type": "code",
   "execution_count": null,
   "id": "b39ddf3d-802e-4ae3-a7de-35e3508d0efc",
   "metadata": {},
   "outputs": [],
   "source": [
    "loss = total_loss / len(rewards)"
   ]
  }
 ],
 "metadata": {
  "kernelspec": {
   "display_name": "Python 3 (ipykernel)",
   "language": "python",
   "name": "python3"
  }
 },
 "nbformat": 4,
 "nbformat_minor": 5
}
