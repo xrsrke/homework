{
 "cells": [
  {
   "cell_type": "markdown",
   "id": "675ea736-4259-45f9-9716-ec9973ba3b13",
   "metadata": {},
   "source": [
    "### Sci"
   ]
  },
  {
   "cell_type": "code",
   "execution_count": 1,
   "id": "d4bf81c5-68d9-4d11-9550-94ff1056c505",
   "metadata": {},
   "outputs": [],
   "source": [
    "import sympy as smp\n",
    "import sympy.physics.units as units"
   ]
  },
  {
   "cell_type": "code",
   "execution_count": 4,
   "id": "6e377cc2-6859-4766-b4f8-34726132f783",
   "metadata": {},
   "outputs": [],
   "source": [
    "k, q_1, q_2, r = smp.symbols('k, q_1, q_2, r')"
   ]
  },
  {
   "cell_type": "code",
   "execution_count": 6,
   "id": "4cfef901-1c06-442d-8875-a46ed5cd6e58",
   "metadata": {},
   "outputs": [],
   "source": [
    "f = k * (abs(q_1*q_2) / r**2)"
   ]
  },
  {
   "cell_type": "code",
   "execution_count": 7,
   "id": "12f6247d-ed1e-465e-bbc1-e8776ffa06f1",
   "metadata": {},
   "outputs": [
    {
     "data": {
      "text/latex": [
       "$\\displaystyle \\frac{k \\left|{q_{1} q_{2}}\\right|}{r^{2}}$"
      ],
      "text/plain": [
       "k*Abs(q_1*q_2)/r**2"
      ]
     },
     "execution_count": 7,
     "metadata": {},
     "output_type": "execute_result"
    }
   ],
   "source": [
    "f"
   ]
  },
  {
   "cell_type": "code",
   "execution_count": 8,
   "id": "b51c8e10-7f0c-43f3-ba85-b9112430934f",
   "metadata": {},
   "outputs": [
    {
     "data": {
      "text/latex": [
       "$\\displaystyle \\frac{2.08333333333333 \\cdot 10^{-16} k \\text{C}^{2}}{\\text{cm}^{2}}$"
      ],
      "text/plain": [
       "2.08333333333333e-16*coulomb**2*k/centimeter**2"
      ]
     },
     "execution_count": 8,
     "metadata": {},
     "output_type": "execute_result"
    }
   ],
   "source": [
    "f.subs({\n",
    "    q_1: 25*1e-9*units.coulomb,\n",
    "    q_2: -75*1e-9*units.coulomb,\n",
    "    r: 3*units.centimeter\n",
    "})"
   ]
  },
  {
   "cell_type": "code",
   "execution_count": null,
   "id": "3a215582-3108-4a54-8c5e-14ab1a822b93",
   "metadata": {},
   "outputs": [],
   "source": [
    "solve the wave function\n",
    "find the co"
   ]
  },
  {
   "cell_type": "markdown",
   "id": "bf143044-4259-42f0-98d5-7724aae1f133",
   "metadata": {},
   "source": [
    "### SW"
   ]
  },
  {
   "cell_type": "code",
   "execution_count": 9,
   "id": "5e23c385-0fcf-419e-afa5-200c9ba16ece",
   "metadata": {},
   "outputs": [],
   "source": [
    "from typing import Union"
   ]
  },
  {
   "cell_type": "code",
   "execution_count": null,
   "id": "b838c3cd-7295-417d-be15-fe3563c5ad7f",
   "metadata": {},
   "outputs": [],
   "source": [
    "x: List[Union[int, str, float]] = []"
   ]
  },
  {
   "cell_type": "code",
   "execution_count": null,
   "id": "f3a76a3e-56aa-4f34-a331-26a8deb0e973",
   "metadata": {},
   "outputs": [],
   "source": [
    "from typing\n",
    "\n",
    "import numpy\n",
    "import torch\n",
    "\n",
    "import lib."
   ]
  },
  {
   "cell_type": "code",
   "execution_count": 10,
   "id": "ec445b74-df29-451e-81ef-e681c3e454ae",
   "metadata": {},
   "outputs": [],
   "source": [
    "from typing import Literal"
   ]
  },
  {
   "cell_type": "code",
   "execution_count": null,
   "id": "439a0dec-985c-4ef1-ad59-db4d5509ff0b",
   "metadata": {},
   "outputs": [],
   "source": []
  },
  {
   "cell_type": "code",
   "execution_count": 11,
   "id": "e8f3bdfd-8507-4513-941b-7723516b91ae",
   "metadata": {},
   "outputs": [],
   "source": [
    "class Eyelink:\n",
    "    def __init__(self, level: Literal[\"one\", \"two\", \"three\"]):\n",
    "        self.level = level"
   ]
  },
  {
   "cell_type": "code",
   "execution_count": 12,
   "id": "d6033c2c-8c89-47f5-8807-6568e17461d8",
   "metadata": {},
   "outputs": [],
   "source": [
    "from typing import NewType"
   ]
  },
  {
   "cell_type": "markdown",
   "id": "0ef001e3-cf1f-4016-81ba-afdee4e8ab30",
   "metadata": {},
   "source": [
    "### AI"
   ]
  },
  {
   "cell_type": "code",
   "execution_count": 13,
   "id": "79906219-cafa-41c6-a2f1-fd294c110099",
   "metadata": {},
   "outputs": [],
   "source": [
    "import torch\n",
    "from torch import nn\n",
    "import torch.nn.functional as F"
   ]
  },
  {
   "cell_type": "code",
   "execution_count": null,
   "id": "fc8f76d4-9bb1-4804-9c50-92ab99c302b5",
   "metadata": {},
   "outputs": [],
   "source": [
    "class PositionWiseFeedForward(nn.Module):\n",
    "    def __init__(self, d_model, d_ff, dropout):\n",
    "        super().__init__()\n",
    "        \n",
    "        self.net = nn.Sequential(\n",
    "            nn.Linear(d_model, d_ff),\n",
    "            nn.ReLU(),\n",
    "            nn.Linear(d_ff, d_ff),\n",
    "            nn.ReLU(),\n",
    "            nn.Dropout(dropout)\n",
    "            nn.Linear(d_ff, d_model),\n",
    "        )\n",
    "    \n",
    "    def forward(self, x):\n",
    "        return self.net(x)"
   ]
  },
  {
   "cell_type": "code",
   "execution_count": null,
   "id": "9cfc438a-bc0e-4380-8e27-03c897ee4462",
   "metadata": {},
   "outputs": [],
   "source": [
    "env.action_space.sample()"
   ]
  },
  {
   "cell_type": "code",
   "execution_count": null,
   "id": "1ce8e92d-f89e-4a2a-ae2c-d4d79a889afe",
   "metadata": {},
   "outputs": [],
   "source": [
    "truncation, sliding window, "
   ]
  },
  {
   "cell_type": "code",
   "execution_count": null,
   "id": "6500e0e6-fb46-4018-9a08-eb28ce83cd7c",
   "metadata": {},
   "outputs": [],
   "source": [
    "embedding = nn.Embedding(num_embeddings)"
   ]
  },
  {
   "cell_type": "code",
   "execution_count": null,
   "id": "cea6c1c1-3592-4272-bae7-e8e45b8fe8b5",
   "metadata": {},
   "outputs": [],
   "source": [
    "class LMModel3(nn.Module):\n",
    "    def __init__(self, vocab_sz, n_hidden):\n",
    "        super().__init__()\n",
    "        self.i_h = nn.Embedding(vocab_sz=vocab_sz, embedding_dim=n_hidden)\n",
    "        self.h_h = nn.Linear(n_hidden, n_hidden)\n",
    "        self.h_o = nn.Linear(n_hidden, vocab_sz)\n",
    "        self.h = 0.\n",
    "    \n",
    "    def forward(self, x):\n",
    "        for i in range(3):\n",
    "            self.h = self.h + F.relu(self.i_h(x[i, :]))\n",
    "            self.h = F.relu(self.h_h(x[i, :]))\n",
    "        \n",
    "        return self.h_o(self.h)"
   ]
  },
  {
   "cell_type": "code",
   "execution_count": null,
   "id": "032938e4-acf2-4860-94b4-3703bc6edb6c",
   "metadata": {},
   "outputs": [],
   "source": [
    "conv = nn.Conv2d(\n",
    "    in_channels=3, out_channels=5,\n",
    "    kernel_size=3, stride=1, padding=1\n",
    ")"
   ]
  },
  {
   "cell_type": "code",
   "execution_count": 14,
   "id": "fb2108a2-76f2-474c-9583-ce3eb175c4a5",
   "metadata": {},
   "outputs": [],
   "source": [
    "current_state = torch.tensor([0, 0, 1])"
   ]
  },
  {
   "cell_type": "code",
   "execution_count": null,
   "id": "ef4a90f7-fdcc-4c29-ad5c-8c4bd8ad7b1b",
   "metadata": {},
   "outputs": [],
   "source": [
    "maximumb likelihood estimation "
   ]
  },
  {
   "cell_type": "code",
   "execution_count": 15,
   "id": "b135ceaf-05c7-4db9-b73b-1833b5ff4ede",
   "metadata": {},
   "outputs": [],
   "source": [
    "from einops import pack"
   ]
  },
  {
   "cell_type": "code",
   "execution_count": null,
   "id": "35b86e6d-5cf5-4673-ab53-dc2c89229bfd",
   "metadata": {},
   "outputs": [],
   "source": [
    "stacked_images = pack([image_rgb, image_depth], 'b h w *')"
   ]
  },
  {
   "cell_type": "code",
   "execution_count": null,
   "id": "e598fbef-b418-4e9e-9edc-a445aab093c3",
   "metadata": {},
   "outputs": [],
   "source": [
    "the expected value of function f(x) where x is a continuous random variable"
   ]
  },
  {
   "cell_type": "code",
   "execution_count": null,
   "id": "aa216e5d-0881-4436-8ca3-785d124a4463",
   "metadata": {},
   "outputs": [],
   "source": [
    "1, 2, 3, 3"
   ]
  },
  {
   "cell_type": "code",
   "execution_count": null,
   "id": "48bb2f28-c585-49ed-a784-2a916608ebb0",
   "metadata": {},
   "outputs": [],
   "source": [
    "output = x.mean(dim=-1, keepdim=True)"
   ]
  },
  {
   "cell_type": "code",
   "execution_count": 17,
   "id": "2a145c6c-0ad6-4aed-8af2-0bcefb9d3865",
   "metadata": {},
   "outputs": [],
   "source": [
    "class MultiHeadAttention(nn.Module):\n",
    "    def __init__(self, attention, d_model, n_head):\n",
    "        super().__init__()\n",
    "        self.attention = attention\n",
    "        \n",
    "        self.d_head = d_model // n_head\n",
    "        self.n_head, self.d_model = n_head, d_model\n",
    "        \n",
    "        self.to_q = nn.Linear(d_model, d_model)\n",
    "        self.to_k = nn.Linear(d_model, d_model)\n",
    "        self.to_v = nn.Linear(d_model, d_model)\n",
    "        self.mha_linear = nn.Linear(d_model, d_model)\n",
    "    \n",
    "    def split_heads(self, x):\n",
    "        batch_size, seq_len, d_model = x.size()\n",
    "        return x.view(batch_size, self.n_head, seq_len, self.d_head)\n",
    "    \n",
    "    def concat(self, x):\n",
    "        batch_size, n_head, seq_len, d_head = x.size()\n",
    "        return x.view(batch_size, seq_len, self.d_model)\n",
    "    \n",
    "    def forward(self, pre_q, pre_k, pre_v):\n",
    "        q, k, v = self.to_q(pre_q), self.to_k(pre_k), self.to_v(pre_v)\n",
    "        q, k, v = self.split_heads(q), self.split_heads(k), self.split_heads(v)\n",
    "        \n",
    "        attn_output, attn_weights = self.attention(q, k, v)\n",
    "        \n",
    "        output = self.concat(attn_output)\n",
    "        output = self.mha_linear(output)\n",
    "        return output"
   ]
  },
  {
   "cell_type": "code",
   "execution_count": null,
   "id": "402dc125-6913-4015-b86c-cdd99810aa0b",
   "metadata": {},
   "outputs": [],
   "source": []
  }
 ],
 "metadata": {
  "kernelspec": {
   "display_name": "Python 3 (ipykernel)",
   "language": "python",
   "name": "python3"
  },
  "language_info": {
   "codemirror_mode": {
    "name": "ipython",
    "version": 3
   },
   "file_extension": ".py",
   "mimetype": "text/x-python",
   "name": "python",
   "nbconvert_exporter": "python",
   "pygments_lexer": "ipython3",
   "version": "3.8.15"
  }
 },
 "nbformat": 4,
 "nbformat_minor": 5
}
