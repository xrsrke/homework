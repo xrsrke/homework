{
 "cells": [
  {
   "cell_type": "markdown",
   "id": "6dfc7933-e351-426d-8bb1-4617fc8fe93f",
   "metadata": {},
   "source": [
    "### Science"
   ]
  },
  {
   "cell_type": "code",
   "execution_count": null,
   "id": "0289ff10-0fe6-4fa8-9b97-3a9e24459fc7",
   "metadata": {},
   "outputs": [],
   "source": [
    "carbohydrate, protein, lipid"
   ]
  },
  {
   "cell_type": "code",
   "execution_count": null,
   "id": "3a309a06-689c-4326-883a-3b78b4d9378c",
   "metadata": {},
   "outputs": [],
   "source": [
    "TCCAG"
   ]
  },
  {
   "cell_type": "code",
   "execution_count": null,
   "id": "4cec4d6d-063b-47f8-b433-a855e9273205",
   "metadata": {},
   "outputs": [],
   "source": [
    "conditioned response, stimulus-evoked, population activity, motor imagery"
   ]
  },
  {
   "cell_type": "code",
   "execution_count": null,
   "id": "f8e3090b-b8de-4e27-add1-8c66e8bd7228",
   "metadata": {},
   "outputs": [],
   "source": [
    "population activity, conditioned response, stiumus-evoke, motor imagery"
   ]
  },
  {
   "cell_type": "code",
   "execution_count": null,
   "id": "b3f1d317-2f60-44bb-a3a6-a86fc23bcfd5",
   "metadata": {},
   "outputs": [],
   "source": [
    "- two uncertainty principles\n",
    "- conservation of angular momentum\n",
    "- conservaion of action"
   ]
  },
  {
   "cell_type": "markdown",
   "id": "a8ce728e-392e-4f10-81d8-807b18e200f1",
   "metadata": {},
   "source": [
    "### SW"
   ]
  },
  {
   "cell_type": "code",
   "execution_count": null,
   "id": "3b85037e-e302-4b66-bfb3-69831592177d",
   "metadata": {},
   "outputs": [],
   "source": [
    "[sum(a, b) for a, b in zip(l1, l2)]"
   ]
  },
  {
   "cell_type": "code",
   "execution_count": null,
   "id": "44649cb1-2d70-4052-8be3-9b8c71868a51",
   "metadata": {},
   "outputs": [],
   "source": [
    "x -> x**2"
   ]
  },
  {
   "cell_type": "code",
   "execution_count": null,
   "id": "a5be9998-6841-4365-82d9-6bc5cbce2cb3",
   "metadata": {},
   "outputs": [],
   "source": [
    "cat < h1.txt > h2.txt"
   ]
  },
  {
   "cell_type": "code",
   "execution_count": null,
   "id": "e84148d3-8b03-4114-a1e9-b0e2aa1010d5",
   "metadata": {},
   "outputs": [],
   "source": [
    "import pytest"
   ]
  },
  {
   "cell_type": "code",
   "execution_count": null,
   "id": "41c5894b-9dc7-4b3d-b51b-a5b448d884d4",
   "metadata": {},
   "outputs": [],
   "source": [
    "@pytest.mark.skip\n",
    "def test_func_2():\n",
    "    pass"
   ]
  },
  {
   "cell_type": "code",
   "execution_count": null,
   "id": "69bc83a5-ea8e-4c57-a27e-ea5882450e63",
   "metadata": {},
   "outputs": [],
   "source": [
    "name: integration test\n",
    "\n",
    "on: [push]\n",
    "\n",
    "jobs:\n",
    "    - name: check-version\n",
    "      steps:\n",
    "            - name: echo a string\n",
    "              run: echo \"hello world\"\n",
    "            - name: check python version\n",
    "              run: python3 --version"
   ]
  },
  {
   "cell_type": "code",
   "execution_count": null,
   "id": "4b981201-232d-4ea1-ae4b-4a03ee08fce1",
   "metadata": {},
   "outputs": [],
   "source": [
    "name: integration test\n",
    "\n",
    "on: [push]\n",
    "\n",
    "jobs:\n",
    "    - name: test-app"
   ]
  },
  {
   "cell_type": "markdown",
   "id": "8a557df4-c6ca-40b2-b819-da4c1314227a",
   "metadata": {},
   "source": [
    "### AI"
   ]
  },
  {
   "cell_type": "code",
   "execution_count": null,
   "id": "f18bf0e5-c97c-4023-b8f8-1bfeecf2ca73",
   "metadata": {},
   "outputs": [],
   "source": [
    "import torch\n",
    "from torch import nn\n",
    "import torch.nn.functional as F"
   ]
  },
  {
   "cell_type": "code",
   "execution_count": null,
   "id": "af0bebdb-070e-40b2-aff2-b94d71394617",
   "metadata": {},
   "outputs": [],
   "source": [
    "dataset[\"train\"][\"article\"]"
   ]
  },
  {
   "cell_type": "code",
   "execution_count": null,
   "id": "3dc244c2-70dd-460f-b79c-0f7a646a1c4a",
   "metadata": {},
   "outputs": [],
   "source": [
    "16, 3, 26, 26"
   ]
  },
  {
   "cell_type": "code",
   "execution_count": null,
   "id": "f61153dc-8dad-41f9-9c83-f514c78cb562",
   "metadata": {},
   "outputs": [],
   "source": [
    "from langchain import PromptTemplate"
   ]
  },
  {
   "cell_type": "code",
   "execution_count": null,
   "id": "9ba3a8a0-1363-4de7-aa81-7b19111bffb4",
   "metadata": {},
   "outputs": [],
   "source": [
    "template = \"\"\"\n",
    "This is a conversation between a user and an AI\n",
    "\n",
    "{history}\n",
    "User: {input}\n",
    "AI:\n",
    "\"\"\""
   ]
  },
  {
   "cell_type": "code",
   "execution_count": null,
   "id": "9ed2726e-7f80-4727-9f8d-4857033ebf26",
   "metadata": {},
   "outputs": [],
   "source": [
    "prompt = PromptTemplate(\n",
    "    input_variables=[\"history\", \"input\"],\n",
    "    template=template\n",
    ")"
   ]
  },
  {
   "cell_type": "code",
   "execution_count": null,
   "id": "a9fc30ff-886b-4e9f-819a-7e793349b5b4",
   "metadata": {},
   "outputs": [],
   "source": [
    "loss_func = nn.KLDivLoss()"
   ]
  },
  {
   "cell_type": "code",
   "execution_count": null,
   "id": "28cf6d22-882e-4d7d-b0a1-54502bdb440d",
   "metadata": {},
   "outputs": [],
   "source": [
    "loss = loss_func(\n",
    "    input=F.log_softmax(student_logits),\n",
    "    target=F.softmax(teacher_logits)\n",
    ")"
   ]
  },
  {
   "cell_type": "code",
   "execution_count": null,
   "id": "ef40b555-f3ed-4412-81f3-c900927cfc97",
   "metadata": {},
   "outputs": [],
   "source": [
    "last_token = output.logits[0, -1, :]"
   ]
  },
  {
   "cell_type": "code",
   "execution_count": null,
   "id": "86bbd0d6-1666-4acb-9cd5-83409f82ca0b",
   "metadata": {},
   "outputs": [],
   "source": [
    "prob_last_token = F.softmax(last_token)"
   ]
  },
  {
   "cell_type": "code",
   "execution_count": null,
   "id": "b0e6ed7e-bafc-4dcc-aa85-f9f2b043f900",
   "metadata": {},
   "outputs": [],
   "source": [
    "sorted_last_token = torch.argmax(prob_last_token, dim=-1)"
   ]
  },
  {
   "cell_type": "code",
   "execution_count": null,
   "id": "9c3edff0-c522-4762-bdf6-f584dbd92a95",
   "metadata": {},
   "outputs": [],
   "source": [
    "from transformers import Trainer"
   ]
  },
  {
   "cell_type": "code",
   "execution_count": null,
   "id": "59053d93-7596-4318-b952-849d406251fc",
   "metadata": {},
   "outputs": [],
   "source": [
    "class DistillationTrainer(Trainer):\n",
    "    def __init__(self, teacher_model):\n",
    "        super().__init__()\n",
    "        self.teacher_model = teacher_model\n",
    "        self.loss_func = nn.KLDivLoss()\n",
    "    \n",
    "    def compute_loss(self, model, inputs, return_outputs = None):\n",
    "        student_logits = model(inputs)\n",
    "        loss_ce = student_logits.loss\n",
    "        \n",
    "        \n",
    "        with torch.no_grad():\n",
    "            teacher_logits = self.teacher_model(**inputs)\n",
    "        \n",
    "        temperature = self.args.temperature\n",
    "        alpha = self.args.alpha\n",
    "        \n",
    "        loss_kd = (temperature**2)*self.loss_func(\n",
    "            input=F.log_softmax(student_logits),\n",
    "            target=F.softmax(teacher_logits)\n",
    "        )\n",
    "        \n",
    "        loss = alpha*loss_ce + (1-alpha)*loss_kd\n",
    "        \n",
    "        return loss"
   ]
  },
  {
   "cell_type": "code",
   "execution_count": null,
   "id": "b9c6d1bb-80ca-4fb6-b664-b715432dc437",
   "metadata": {},
   "outputs": [],
   "source": [
    "class LMModel1(nn.Module):\n",
    "    def __init__(self, vocab_sz, n_hidden):\n",
    "        super().__init__()\n",
    "        self.i_h = nn.Embedding(vocab_sz, n_hidden)\n",
    "        self.h_h = nn.Linear(n_hidden, n_hidden)\n",
    "        self.h_o = nn.Linear(n_hidden, vocab_sz)\n",
    "    \n",
    "    def forward(self, x):\n",
    "        \n",
    "        out = F.relu(self.i_h(x[0, :]))\n",
    "        out = F.relu(self.i_h(x[1, :])) + F.relu(self.h_h(out))\n",
    "        out = F.relu(self.i_h(x[2, :])) + F.relu(self.h_h(out))\n",
    "        \n",
    "        return F.relu(self.h_o(out))"
   ]
  },
  {
   "cell_type": "code",
   "execution_count": null,
   "id": "9331fbf6-30dc-47d1-be4e-0aa696a4a6ba",
   "metadata": {},
   "outputs": [],
   "source": [
    "from transformers import AutoModel"
   ]
  },
  {
   "cell_type": "code",
   "execution_count": null,
   "id": "577df3c0-103c-4733-a1de-bd07d5ed906e",
   "metadata": {},
   "outputs": [],
   "source": [
    "class CustomTokenClassifier(nn.Module):\n",
    "    def __init__(self, checkpoint, n_labels, dropout):\n",
    "        super().__init__()\n",
    "        self.model = AutoModel.from_pretrained(checkpoint)\n",
    "        \n",
    "        # custom head classifier\n",
    "        self.linear = nn.Linear(768, n_labels)\n",
    "        self.dropout = nn.Dropout(dropout)\n",
    "    \n",
    "    def forward(self, input_ids, attention_mask):\n",
    "        output = self.model(\n",
    "            input_ids=input_ids,\n",
    "            attention_mask=attention_mask\n",
    "        )\n",
    "        logits = output.last_hidden_state\n",
    "        output = self.linear(logits)\n",
    "        output = self.dropout(output)\n",
    "        \n",
    "        return output"
   ]
  },
  {
   "cell_type": "code",
   "execution_count": null,
   "id": "405f3a96-c429-4c17-809c-d0816225a924",
   "metadata": {},
   "outputs": [],
   "source": [
    "def tokenize(example):\n",
    "    return tokenizer(batch[\"\"])"
   ]
  },
  {
   "cell_type": "code",
   "execution_count": null,
   "id": "9bd80222-bde4-43b4-8d5d-b07cff002dc4",
   "metadata": {},
   "outputs": [],
   "source": [
    "mean, log_var, "
   ]
  },
  {
   "cell_type": "code",
   "execution_count": null,
   "id": "9312688c-6372-4af6-8b3d-fc5341345998",
   "metadata": {},
   "outputs": [],
   "source": [
    "def loss_of_fake(loss_func, evaluated):\n",
    "    return loss_func(evaluate, torch.zeros(evaluated.shape))"
   ]
  },
  {
   "cell_type": "code",
   "execution_count": null,
   "id": "6a2fde91-1f00-4f60-bcf8-1f25af57d25a",
   "metadata": {},
   "outputs": [],
   "source": [
    "embedding = nn.Embedding(num_embeddings=100, embedding_dim=5, padding_idx=5)"
   ]
  },
  {
   "cell_type": "code",
   "execution_count": null,
   "id": "6e66b29a-dcc9-4b2a-8ac2-04747b9c012c",
   "metadata": {},
   "outputs": [],
   "source": []
  },
  {
   "cell_type": "code",
   "execution_count": null,
   "id": "a2d0fae8-4cba-457b-aca8-d18ffecf087f",
   "metadata": {},
   "outputs": [],
   "source": [
    "value = v_network(states)"
   ]
  },
  {
   "cell_type": "code",
   "execution_count": null,
   "id": "d5996f56-d13d-4a6d-b515-c5a58cc2df0a",
   "metadata": {},
   "outputs": [],
   "source": [
    "def add_hook(model):\n",
    "    for param "
   ]
  }
 ],
 "metadata": {
  "kernelspec": {
   "display_name": "Python 3 (ipykernel)",
   "language": "python",
   "name": "python3"
  }
 },
 "nbformat": 4,
 "nbformat_minor": 5
}
