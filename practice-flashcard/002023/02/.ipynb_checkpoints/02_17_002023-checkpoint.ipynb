{
 "cells": [
  {
   "cell_type": "markdown",
   "id": "9f09b2c9-90cd-4da2-8db1-bf8866ac9b3d",
   "metadata": {},
   "source": [
    "### Science"
   ]
  },
  {
   "cell_type": "code",
   "execution_count": null,
   "id": "21ca79aa-cf5e-42b6-98b9-f7679bdfc50f",
   "metadata": {},
   "outputs": [],
   "source": [
    "from deepchem.models import MultitaskClassifier"
   ]
  },
  {
   "cell_type": "code",
   "execution_count": null,
   "id": "940134e9-c9c5-46f7-800a-f1680fb214b6",
   "metadata": {},
   "outputs": [],
   "source": [
    "model = MultitaskClassifier(n_tasks=12, n_features=1024, layer_sizes=[1000])"
   ]
  },
  {
   "cell_type": "code",
   "execution_count": null,
   "id": "bd952d78-3666-4cde-85cd-8835e875549a",
   "metadata": {},
   "outputs": [],
   "source": [
    "cholerrol, phospholipid"
   ]
  },
  {
   "cell_type": "code",
   "execution_count": null,
   "id": "6441a305-87e8-4499-86aa-585e5c833875",
   "metadata": {},
   "outputs": [],
   "source": [
    "step 1: record neural activity while performs different task\n",
    "step 2: record neural activity while performs the target\n",
    "step 3: reward if perform the target\n",
    "step 4: repeat step 3 => learn associate the reward with the target pattern"
   ]
  },
  {
   "cell_type": "code",
   "execution_count": null,
   "id": "db900757-0dce-4786-8c08-7be5c9a8e38f",
   "metadata": {},
   "outputs": [],
   "source": [
    "dendrite, cell body, synapse, axon"
   ]
  },
  {
   "cell_type": "code",
   "execution_count": null,
   "id": "03660fd4-3d29-47ae-8069-a85d4293084b",
   "metadata": {},
   "outputs": [],
   "source": [
    "from rdkit import Chem"
   ]
  },
  {
   "cell_type": "code",
   "execution_count": null,
   "id": "9261b0d9-ffea-4135-a569-31381ecd59a4",
   "metadata": {},
   "outputs": [],
   "source": [
    "smile = Chem.MolFromSmiles(smile)"
   ]
  },
  {
   "cell_type": "code",
   "execution_count": null,
   "id": "dc4e6e67-b97b-4270-ad12-ecac72c0e6d2",
   "metadata": {},
   "outputs": [],
   "source": [
    "record, stimulating, memory, logic"
   ]
  },
  {
   "cell_type": "code",
   "execution_count": null,
   "id": "5dfecfc0-3881-4144-8124-78f7ad3f2929",
   "metadata": {},
   "outputs": [],
   "source": [
    "phospholipid, proteins, cholesterol"
   ]
  },
  {
   "cell_type": "markdown",
   "id": "52391100-c1e3-4f2a-8102-4bb27fd95324",
   "metadata": {},
   "source": [
    "### Software Engineering"
   ]
  },
  {
   "cell_type": "code",
   "execution_count": null,
   "id": "d55a3914-1eff-4aab-8173-ff4a80d4e9d3",
   "metadata": {},
   "outputs": [],
   "source": [
    "from typing import TypeVar, Union"
   ]
  },
  {
   "cell_type": "code",
   "execution_count": null,
   "id": "6a675809-0bb3-4b61-874a-139d963c347e",
   "metadata": {},
   "outputs": [],
   "source": [
    "T = TypeVar(\"T\")"
   ]
  },
  {
   "cell_type": "code",
   "execution_count": null,
   "id": "33ac7d1a-56d8-495f-a50d-cb70efc419b2",
   "metadata": {},
   "outputs": [],
   "source": [
    "APIResponse = Union[T, APIError]"
   ]
  },
  {
   "cell_type": "markdown",
   "id": "9d795a3d-de3a-4e45-b2c1-733e23753ada",
   "metadata": {},
   "source": [
    "### AI"
   ]
  },
  {
   "cell_type": "code",
   "execution_count": null,
   "id": "349da99f-b729-440c-bfde-4224e9770f35",
   "metadata": {},
   "outputs": [],
   "source": [
    "import torch\n",
    "from torch import nn\n",
    "import torch.nn.functional as F"
   ]
  },
  {
   "cell_type": "code",
   "execution_count": null,
   "id": "8f98912f-9909-4f1d-857b-01029742fa50",
   "metadata": {},
   "outputs": [],
   "source": [
    "conv = nn.Conv2d(in_channels=3, out_channels=5, stride=1, padding=1)"
   ]
  },
  {
   "cell_type": "code",
   "execution_count": null,
   "id": "d159ecfc-e3ab-4066-af28-789cdf2fb2e4",
   "metadata": {},
   "outputs": [],
   "source": [
    "step 1: cut window, feed to the model\n",
    "step 2: ob"
   ]
  },
  {
   "cell_type": "code",
   "execution_count": null,
   "id": "c546b8ff-3b3f-4dc1-9878-c64fca659f5f",
   "metadata": {},
   "outputs": [],
   "source": [
    "from torch.nn.utils.rnn import pad_sequence"
   ]
  },
  {
   "cell_type": "code",
   "execution_count": null,
   "id": "1729b040-e9e4-4fd6-bfde-feadc65eb0d6",
   "metadata": {},
   "outputs": [],
   "source": [
    "padded_batch = pad_sequence(batch, batch_first=True, padding_value=0)"
   ]
  },
  {
   "cell_type": "code",
   "execution_count": null,
   "id": "a3fef6d2-4416-44c6-9c7e-95949c3eab92",
   "metadata": {},
   "outputs": [],
   "source": [
    "from datasets import load_metric"
   ]
  },
  {
   "cell_type": "code",
   "execution_count": null,
   "id": "4e628f76-79df-49b0-9266-b4d6ea30e15a",
   "metadata": {},
   "outputs": [
    {
     "name": "stderr",
     "output_type": "stream",
     "text": [
      "/var/folders/pf/g3nr86yn4j71vzzmv6knwdhr0000gp/T/ipykernel_1182/1963947385.py:1: FutureWarning: load_metric is deprecated and will be removed in the next major version of datasets. Use 'evaluate.load' instead, from the new library 🤗 Evaluate: https://huggingface.co/docs/evaluate\n",
      "  bleu = load_metric(\"bleu\")\n"
     ]
    }
   ],
   "source": [
    "bleu = load_metric(\"bleu\")"
   ]
  },
  {
   "cell_type": "code",
   "execution_count": null,
   "id": "7a2b4e0a-ef22-438d-b7d4-206638505c9c",
   "metadata": {},
   "outputs": [],
   "source": [
    "output = bleu.compute(predictions=predictions, references=references)"
   ]
  },
  {
   "cell_type": "code",
   "execution_count": null,
   "id": "8ac108a7-4ab3-4289-be4b-7adb4c8cc511",
   "metadata": {},
   "outputs": [],
   "source": [
    "from transformers import RobertaModel"
   ]
  },
  {
   "cell_type": "code",
   "execution_count": null,
   "id": "6bd75ab8-9640-4067-a228-d8f53df1b8a3",
   "metadata": {},
   "outputs": [],
   "source": [
    "model = RobertaModel.from_pretrained(\"roberta-model\")"
   ]
  },
  {
   "cell_type": "code",
   "execution_count": null,
   "id": "0a60db2c-6b97-477e-a2c9-d24fe7426b51",
   "metadata": {},
   "outputs": [],
   "source": [
    "encoded_text = tokenizer(batch[\"text\"], padding=True)"
   ]
  },
  {
   "cell_type": "code",
   "execution_count": null,
   "id": "bd32cfe9-54a6-4d3b-9afb-4de4edb97f56",
   "metadata": {},
   "outputs": [],
   "source": [
    "prediction, represetation, dynamics"
   ]
  },
  {
   "cell_type": "code",
   "execution_count": null,
   "id": "8b76ac63-4258-40cd-8ea2-0364158ca947",
   "metadata": {},
   "outputs": [],
   "source": [
    "new_image_tensors = torch.permute(image_tensor, (2, 0))"
   ]
  },
  {
   "cell_type": "code",
   "execution_count": null,
   "id": "9dc47e42-6fd1-40e4-8d7a-a1afa46120d0",
   "metadata": {},
   "outputs": [],
   "source": [
    "class BatchNorm(nn.Module):\n",
    "    def __init__(self):\n",
    "        super().__init__()\n",
    "        self.mom, self.eps = mom, eps\n",
    "        self.add = nn.Parameter(torch.zeros(1))\n",
    "        self.mult = nn.Parameter(torch.ones(1))\n",
    "        self.register_buffer(\"mean\", torch.zeros(1))\n",
    "        self.register_buffer(\"var\", torch.ones(1))\n",
    "    \n",
    "    def compute_stats(self, x):\n",
    "        mean, var = x.mean(), mean.var()\n",
    "        self.mean.lerp_(mean, self.mom)\n",
    "        self.var.lerp_(var, self.mom)\n",
    "        \n",
    "        return mean, var\n",
    "    \n",
    "    def forward(self, x):\n",
    "        mean, var = self.compute_stats(x)\n",
    "        \n",
    "        # normalize\n",
    "        x = (x-mean)/var\n",
    "        \n",
    "        # shift\n",
    "        x = self.mult*x + self.add\n",
    "        \n",
    "        return x"
   ]
  },
  {
   "cell_type": "code",
   "execution_count": null,
   "id": "8d77b26e-6298-495d-93ef-d4f040c9d813",
   "metadata": {},
   "outputs": [],
   "source": [
    "def fill_normal(x):\n",
    "    return x.normal_(mean=0, std=0.01)"
   ]
  },
  {
   "cell_type": "code",
   "execution_count": null,
   "id": "e87bbc84-b51d-4c75-916c-da151faf31ab",
   "metadata": {},
   "outputs": [],
   "source": [
    "sliding window, truncation, "
   ]
  }
 ],
 "metadata": {
  "kernelspec": {
   "display_name": "Python 3 (ipykernel)",
   "language": "python",
   "name": "python3"
  }
 },
 "nbformat": 4,
 "nbformat_minor": 5
}
