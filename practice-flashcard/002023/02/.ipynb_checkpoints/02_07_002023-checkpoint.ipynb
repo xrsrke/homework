{
 "cells": [
  {
   "cell_type": "markdown",
   "id": "4acbdd82-a260-4fc5-9b47-d21277f5ad80",
   "metadata": {},
   "source": [
    "### Sci"
   ]
  },
  {
   "cell_type": "code",
   "execution_count": null,
   "id": "233e6355-864f-43d7-b945-cd6065602def",
   "metadata": {},
   "outputs": [],
   "source": [
    "neuron 1 > axon > synapse > dendrite > neuron 2"
   ]
  },
  {
   "cell_type": "code",
   "execution_count": null,
   "id": "abc142ae-c1fa-4fcc-b150-380aac92fd65",
   "metadata": {},
   "outputs": [],
   "source": []
  },
  {
   "cell_type": "code",
   "execution_count": null,
   "id": "7197e4d9-0079-4de5-9995-5cf4178ebb91",
   "metadata": {},
   "outputs": [],
   "source": [
    "cell body, dendrite, axon, synapse"
   ]
  },
  {
   "cell_type": "code",
   "execution_count": null,
   "id": "ce371a3b-200e-41a5-93aa-f952666deddf",
   "metadata": {},
   "outputs": [],
   "source": [
    "from deepchem.models import MultitaskClassifier"
   ]
  },
  {
   "cell_type": "code",
   "execution_count": null,
   "id": "46e706ff-f5b0-4d98-a72b-a42dc61734bb",
   "metadata": {},
   "outputs": [],
   "source": [
    "model = MultitaskClassifier(\n",
    "    n_tasks=12,\n",
    "    n_features=1024,\n",
    "    layer_sizes=[1000]\n",
    ")"
   ]
  },
  {
   "cell_type": "code",
   "execution_count": null,
   "id": "62fe3989-3392-4ed4-b062-56bc5dc1f4f3",
   "metadata": {},
   "outputs": [],
   "source": []
  },
  {
   "cell_type": "code",
   "execution_count": null,
   "id": "b1689eba-4b6d-4fdf-859b-046814261aea",
   "metadata": {},
   "outputs": [],
   "source": [
    "from deepchem.models import MultitaskClassifier"
   ]
  },
  {
   "cell_type": "code",
   "execution_count": null,
   "id": "dae16330-ef29-485b-8aad-4b3da5c93d4b",
   "metadata": {},
   "outputs": [],
   "source": [
    "model = MultitaskClassifier(\n",
    "    n_tasks=12,\n",
    "    n_features=1024,\n",
    "    layer_sizes=[1000]\n",
    ")"
   ]
  },
  {
   "cell_type": "code",
   "execution_count": null,
   "id": "6f0bb2bd-abe0-4665-a55e-40c214beac52",
   "metadata": {},
   "outputs": [],
   "source": [
    "from deepchem.feat import *"
   ]
  },
  {
   "cell_type": "code",
   "execution_count": null,
   "id": "20b55124-9946-4f0e-8ef7-47af674ebc11",
   "metadata": {},
   "outputs": [],
   "source": [
    "feat = RDKitDescriptors"
   ]
  },
  {
   "cell_type": "code",
   "execution_count": null,
   "id": "4d86925c-67b5-4212-b5d8-cc5ca1927165",
   "metadata": {},
   "outputs": [],
   "source": [
    "from rdkit import Chem"
   ]
  },
  {
   "cell_type": "code",
   "execution_count": null,
   "id": "a54532d4-b452-47aa-8f04-698bd021f629",
   "metadata": {},
   "outputs": [],
   "source": [
    "mol = Chem.MolFromSmiles(smile)"
   ]
  },
  {
   "cell_type": "code",
   "execution_count": null,
   "id": "73555ca8-ee17-455d-b314-06694f36ed39",
   "metadata": {},
   "outputs": [],
   "source": [
    "from deepchem.feat import RDKitDescriptors"
   ]
  },
  {
   "cell_type": "code",
   "execution_count": null,
   "id": "fe611305-3c3c-4755-b99e-fb5ba7c2f66f",
   "metadata": {},
   "outputs": [],
   "source": [
    "feat = RDKitDescriptors()"
   ]
  },
  {
   "cell_type": "code",
   "execution_count": null,
   "id": "6fe9629c-e36a-4167-8a1d-000865b10f3f",
   "metadata": {},
   "outputs": [],
   "source": [
    "feat.featurize(mol)"
   ]
  },
  {
   "cell_type": "markdown",
   "id": "b8fd39ac-465c-448a-a5c2-6c66ae10e9b8",
   "metadata": {},
   "source": [
    "### AI"
   ]
  },
  {
   "cell_type": "code",
   "execution_count": null,
   "id": "b4a67c0b-e855-4766-9570-6d850003359b",
   "metadata": {},
   "outputs": [],
   "source": [
    "import torch\n",
    "from torch import nn\n",
    "import torch.nn.functional as F"
   ]
  },
  {
   "cell_type": "code",
   "execution_count": null,
   "id": "5aac8ed7-c689-4732-9535-fcb6b96c56ef",
   "metadata": {},
   "outputs": [],
   "source": [
    "from langchain import PromptTemplate"
   ]
  },
  {
   "cell_type": "code",
   "execution_count": null,
   "id": "6fd0ea5f-1614-4985-bb5b-723d204edda3",
   "metadata": {},
   "outputs": [],
   "source": [
    "template = \"\"\"\n",
    "Predict the capital of a country\n",
    "Country: {country}\n",
    "Capital:\n",
    "\"\"\""
   ]
  },
  {
   "cell_type": "code",
   "execution_count": null,
   "id": "d6e09506-43f0-42c0-94b2-e8afe0928adf",
   "metadata": {},
   "outputs": [],
   "source": [
    "prompt = PromptTemplate(\n",
    "    input_variables=[\"country\"],\n",
    "    template=template\n",
    ")"
   ]
  },
  {
   "cell_type": "code",
   "execution_count": null,
   "id": "d78f36a7-c570-4b0c-a5dc-416c66b7d35c",
   "metadata": {},
   "outputs": [],
   "source": [
    "from langchain import LLMChain"
   ]
  },
  {
   "cell_type": "code",
   "execution_count": null,
   "id": "8868cd36-23ca-45a7-9729-c86e80b059c7",
   "metadata": {},
   "outputs": [],
   "source": [
    "chatgpt_chain = LLMChain(\n",
    "    llm=model,\n",
    "    prompt=prompt\n",
    ")"
   ]
  },
  {
   "cell_type": "code",
   "execution_count": null,
   "id": "831382cf-e6cc-4773-a6ca-728f7d47737a",
   "metadata": {},
   "outputs": [],
   "source": [
    "from langchain import PromptTemplate"
   ]
  },
  {
   "cell_type": "code",
   "execution_count": null,
   "id": "297d2171-067c-4c77-ad45-4e4133313ba3",
   "metadata": {},
   "outputs": [],
   "source": [
    "template = \"\"\"\n",
    "This is a conversation between a user and an AI\n",
    "\n",
    "{history}\n",
    "User: {input}\n",
    "AI:\n",
    "\"\"\""
   ]
  },
  {
   "cell_type": "code",
   "execution_count": null,
   "id": "2760776f-60ef-469a-b966-2667a3153d3b",
   "metadata": {},
   "outputs": [],
   "source": [
    "prompt = PromptTemplate(\n",
    "    input_variables=[\"history\", \"input\"],\n",
    "    template=template\n",
    ")"
   ]
  },
  {
   "cell_type": "code",
   "execution_count": null,
   "id": "06c2d7ca-7008-40c3-b8a1-c02d658feb0d",
   "metadata": {},
   "outputs": [],
   "source": [
    "from transformers import RobertaConfig, RobertaModel"
   ]
  },
  {
   "cell_type": "code",
   "execution_count": null,
   "id": "0ad70d70-51dd-4a63-940e-a257bf6ee9ca",
   "metadata": {},
   "outputs": [],
   "source": [
    "config = RobertaConfig()"
   ]
  },
  {
   "cell_type": "code",
   "execution_count": null,
   "id": "fa95c244-eb26-49c6-8996-ef7ff8561d6a",
   "metadata": {},
   "outputs": [],
   "source": [
    "model = RobertaModel(config=config)"
   ]
  },
  {
   "cell_type": "code",
   "execution_count": null,
   "id": "44392312-76d0-4e97-8752-89194c0a43f9",
   "metadata": {},
   "outputs": [],
   "source": []
  },
  {
   "cell_type": "markdown",
   "id": "16552b8c-42a4-4081-ada2-6847ef199088",
   "metadata": {},
   "source": [
    "maximize the likelihood -> maximize the log likelihood -> minimize the negative log likelihood"
   ]
  },
  {
   "cell_type": "code",
   "execution_count": null,
   "id": "f9d2c678-0106-4ba7-9fcb-b4f63fe89a27",
   "metadata": {},
   "outputs": [],
   "source": [
    "def compute_cross_entropy(logits, targets):\n",
    "    log_prob = F.log_prob(logits, dim=-1)\n",
    "    loss = -log_prob[range(targets.shape[-1]), targets].mean()\n",
    "    return loss"
   ]
  },
  {
   "cell_type": "code",
   "execution_count": null,
   "id": "28bfc2cb-087a-4c48-adc1-fc3db77d0463",
   "metadata": {},
   "outputs": [],
   "source": [
    "1, 2, 3, 3"
   ]
  },
  {
   "cell_type": "code",
   "execution_count": null,
   "id": "ec6e060a-3c45-47b0-99fa-94afbcb953d3",
   "metadata": {},
   "outputs": [],
   "source": [
    "import math"
   ]
  },
  {
   "cell_type": "code",
   "execution_count": null,
   "id": "88914789-4bc3-4f39-b783-eb6e0875cd7e",
   "metadata": {},
   "outputs": [],
   "source": [
    "class SelfAttention(nn.Module):\n",
    "    def __init__(self, d_head):\n",
    "        super().__init__()\n",
    "        self.d_head = d_head\n",
    "    \n",
    "    def forward(self, q, k, v):\n",
    "        # k permute\n",
    "        \n",
    "        qk_matmul = torch.matmul(q, k.permute(-2, -1))\n",
    "        scores = qk_matmul / math.sqrt(self.d_head)\n",
    "        \n",
    "        attention_weights = F.softmax(scores, dim=-1)\n",
    "        output = torch.matmul(attention_weights, v)\n",
    "        \n",
    "        return output, attention_weights"
   ]
  },
  {
   "cell_type": "code",
   "execution_count": null,
   "id": "158c3c8a-78bc-4bdf-9af5-cbf785d38153",
   "metadata": {},
   "outputs": [
    {
     "data": {
      "text/plain": [
       "tensor([ 0, 15, 30, 45, 60, 75, 90])"
      ]
     },
     "execution_count": null,
     "metadata": {},
     "output_type": "execute_result"
    }
   ],
   "source": [
    "torch.arange(start=0, end=100, step=15)"
   ]
  },
  {
   "cell_type": "code",
   "execution_count": null,
   "id": "d44e63a7-2669-4d62-bf7a-b8b60ca37611",
   "metadata": {},
   "outputs": [],
   "source": [
    "from torch import optim"
   ]
  },
  {
   "cell_type": "code",
   "execution_count": null,
   "id": "f2f3d875-9bcb-4608-8544-2d6d682b63c0",
   "metadata": {},
   "outputs": [],
   "source": [
    "optimizer = optim.SGD(model.parameters(), lr=0.01)"
   ]
  },
  {
   "cell_type": "code",
   "execution_count": null,
   "id": "129d711c-e8ee-478e-b89a-9711e849723b",
   "metadata": {},
   "outputs": [],
   "source": [
    "def activation_hook(layer, inp, out):\n",
    "    add_log(layer, out)"
   ]
  },
  {
   "cell_type": "code",
   "execution_count": null,
   "id": "201f46ef-e141-41cb-8814-c74a8545ea53",
   "metadata": {},
   "outputs": [],
   "source": [
    "def add_hook(model):\n",
    "    for l in model.layers:\n",
    "        l.register_forward_hook(activation_hook)"
   ]
  },
  {
   "cell_type": "code",
   "execution_count": null,
   "id": "66139cad-6cd0-422f-a5ff-99eb75b1e8c9",
   "metadata": {},
   "outputs": [],
   "source": [
    "class Optimizer:\n",
    "    def __init__(self, params, lr):\n",
    "        self.params = params\n",
    "        self.lr = lr\n",
    "    \n",
    "    def step(self):\n",
    "        for p in self.params:\n",
    "            p -= p.grad*self.lr"
   ]
  },
  {
   "cell_type": "code",
   "execution_count": null,
   "id": "02e0038b-32c2-40b8-90dc-1c66cadcd1ce",
   "metadata": {},
   "outputs": [],
   "source": [
    "def embedding_matrix(n_items, n_factors):\n",
    "    return torch.randn(n_items, n_factors)"
   ]
  },
  {
   "cell_type": "code",
   "execution_count": null,
   "id": "f2fb5325-95b4-48d3-a67a-feb9682c4600",
   "metadata": {},
   "outputs": [],
   "source": [
    "from dataclasses import dataclass"
   ]
  },
  {
   "cell_type": "code",
   "execution_count": null,
   "id": "3f1f3400-697f-4e90-aca9-a1d52d4f7c6a",
   "metadata": {},
   "outputs": [],
   "source": [
    "from enum import Enum, auto"
   ]
  },
  {
   "cell_type": "code",
   "execution_count": null,
   "id": "33229055-1fe9-4b39-8a48-3047ec535f3a",
   "metadata": {},
   "outputs": [],
   "source": [
    "class ImperialMeasure(Enum):\n",
    "    CUP = auto()\n",
    "    TEASPOON = auto()"
   ]
  },
  {
   "cell_type": "code",
   "execution_count": null,
   "id": "314bb04d-2fe8-468e-9a58-fc414ede574e",
   "metadata": {},
   "outputs": [],
   "source": [
    "@dataclass\n",
    "class Ingredient:\n",
    "    name: str\n",
    "    amount: float\n",
    "    unit: ImperialMeasure"
   ]
  },
  {
   "cell_type": "code",
   "execution_count": null,
   "id": "bb226b8a-8d4d-4424-9e06-b96b233ad73d",
   "metadata": {},
   "outputs": [],
   "source": []
  }
 ],
 "metadata": {
  "kernelspec": {
   "display_name": "Python 3 (ipykernel)",
   "language": "python",
   "name": "python3"
  }
 },
 "nbformat": 4,
 "nbformat_minor": 5
}
