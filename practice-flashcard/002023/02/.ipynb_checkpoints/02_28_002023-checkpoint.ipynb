{
 "cells": [
  {
   "cell_type": "markdown",
   "id": "9cdebd1c-1aa2-4c11-a3a5-507376a9115c",
   "metadata": {},
   "source": [
    "### Science"
   ]
  },
  {
   "cell_type": "code",
   "execution_count": null,
   "id": "9a5d4466-4f5f-4dcb-a911-1c6ee38fa6a0",
   "metadata": {},
   "outputs": [],
   "source": [
    "conditioned response, motor imaginery, stimulus-evoke, population activity"
   ]
  },
  {
   "cell_type": "code",
   "execution_count": null,
   "id": "3d10ae2a-11aa-44a2-a0e4-9203df302a8f",
   "metadata": {},
   "outputs": [],
   "source": [
    "friction force, gravitional force, applied force, normal force, air"
   ]
  },
  {
   "cell_type": "code",
   "execution_count": null,
   "id": "45ddf985-63a5-4384-a7de-3e8ec93f62c0",
   "metadata": {},
   "outputs": [],
   "source": [
    "conditioned, population activityt, motor, evoke"
   ]
  },
  {
   "cell_type": "markdown",
   "id": "6171142a-0ff0-4222-a33f-644ca8a13ca4",
   "metadata": {},
   "source": [
    "### SW"
   ]
  },
  {
   "cell_type": "code",
   "execution_count": null,
   "id": "66076b01-d518-43a3-9a70-03618a7dee81",
   "metadata": {},
   "outputs": [],
   "source": [
    "from dataclasses import dataclass"
   ]
  },
  {
   "cell_type": "code",
   "execution_count": null,
   "id": "e6217c41-6882-4c27-b47c-31c23e191eb7",
   "metadata": {},
   "outputs": [],
   "source": [
    "@dataclass\n",
    "class BrainImplant:\n",
    "    supervision: str\n",
    "    price: int\n",
    "    manufacture: str\n",
    "    advance: bool"
   ]
  },
  {
   "cell_type": "code",
   "execution_count": null,
   "id": "71fa8e80-d3b6-468b-b5ab-1357bf8d7176",
   "metadata": {},
   "outputs": [],
   "source": [
    "class FunnyDict(dict):\n",
    "    def __getitem__(self, idx):\n",
    "        return self"
   ]
  },
  {
   "cell_type": "code",
   "execution_count": null,
   "id": "bcac92e7-ca8d-4402-b7af-487947965960",
   "metadata": {},
   "outputs": [],
   "source": [
    "will have v_ed"
   ]
  },
  {
   "cell_type": "code",
   "execution_count": null,
   "id": "40babe10-b93a-4fce-a332-76b9d8866bc7",
   "metadata": {},
   "outputs": [],
   "source": [
    "had v_Ed"
   ]
  },
  {
   "cell_type": "code",
   "execution_count": null,
   "id": "4aecf1bb-266a-43e5-bc95-cb4ce349604f",
   "metadata": {},
   "outputs": [],
   "source": [
    "def summary_batch(article_batches, max_context_length):\n",
    "    results = []\n",
    "    for batch in article_batches:\n",
    "        \n",
    "        tokenized_input = tokenizer(\n",
    "            batch,\n",
    "            truncation=True,\n",
    "            padding=True,\n",
    "            return_tensors=\"pt\",\n",
    "            context_length=max_context_length\n",
    "        )\n",
    "        \n",
    "        output = model.generate(\n",
    "            input_ids=tokenized_input[\"input_ids\"],\n",
    "            attention_mask=tokenized_input[\"attention_mask\"]\n",
    "        )\n",
    "        \n",
    "        decoded_summaries = [tokenizer.decode(summary) for summary in output]\n",
    "        results.append(decoded_summaries)\n",
    "    \n",
    "    return results"
   ]
  },
  {
   "cell_type": "code",
   "execution_count": null,
   "id": "8d54f635-1cdb-49c0-bfcf-0414c89c2acc",
   "metadata": {},
   "outputs": [],
   "source": [
    "from torch.nn.utils.rnn import pad_sequence"
   ]
  },
  {
   "cell_type": "code",
   "execution_count": null,
   "id": "c4a47896-62b9-4103-8e81-e3aa3487639b",
   "metadata": {},
   "outputs": [],
   "source": [
    "padded_batch = pad_sequence(batch, batch_first, padding_value=0)"
   ]
  },
  {
   "cell_type": "code",
   "execution_count": null,
   "id": "d73c1943-6b7e-49a6-9ab0-d7ab29d3911e",
   "metadata": {},
   "outputs": [],
   "source": [
    "import pytorch_lightning as pl"
   ]
  },
  {
   "cell_type": "code",
   "execution_count": null,
   "id": "69ccd6af-9451-4836-b0e9-183c385f11be",
   "metadata": {},
   "outputs": [],
   "source": [
    "from torch import optim"
   ]
  },
  {
   "cell_type": "code",
   "execution_count": null,
   "id": "0237fadb-8a5c-4a25-b5ca-bda04bac31db",
   "metadata": {},
   "outputs": [],
   "source": [
    "class LitResNet(pl.LightningModule):\n",
    "    def __init__(self):\n",
    "        self.model = _model1\n",
    "    \n",
    "    def configure_optimizers(self):\n",
    "        optimizer = optim.SGD(self.model.parameters(), lr=1e-3)\n",
    "        return optimizer"
   ]
  },
  {
   "cell_type": "code",
   "execution_count": null,
   "id": "c1548ee1-d35f-46af-bda9-7a91e7f24358",
   "metadata": {},
   "outputs": [],
   "source": [
    "import torch\n",
    "from torch import nn\n",
    "import torch.nn.functional as F"
   ]
  },
  {
   "cell_type": "code",
   "execution_count": null,
   "id": "12384aa2-c381-4b37-b295-cd40434b55fd",
   "metadata": {},
   "outputs": [],
   "source": [
    "a_tensor = torch.randperm(10)"
   ]
  },
  {
   "cell_type": "code",
   "execution_count": null,
   "id": "8b204a36-2d97-4563-9d26-e82291a65492",
   "metadata": {},
   "outputs": [
    {
     "data": {
      "text/plain": [
       "tensor([6, 9, 7, 5, 3, 2, 1, 0, 4, 8])"
      ]
     },
     "execution_count": null,
     "metadata": {},
     "output_type": "execute_result"
    }
   ],
   "source": [
    "a_tensor"
   ]
  },
  {
   "cell_type": "code",
   "execution_count": null,
   "id": "ad55a22e-921b-4d1d-98c5-b180321d8f1c",
   "metadata": {},
   "outputs": [],
   "source": [
    "def compute_cross_entropy(logits, targs):\n",
    "    log_probs = F.log_probs(logits, dim=-1)\n",
    "    return -log_probs[range(targs.shape[-1]), targs].mean()"
   ]
  },
  {
   "cell_type": "code",
   "execution_count": null,
   "id": "9917f96d-5fdd-4b5a-88d1-68c0086bb566",
   "metadata": {},
   "outputs": [],
   "source": [
    "import gymnasium as gym"
   ]
  },
  {
   "cell_type": "code",
   "execution_count": null,
   "id": "6c9eab6f-f883-4fe5-8e87-9c6e2427798b",
   "metadata": {},
   "outputs": [],
   "source": [
    "envs = gym.vector.SyncVectorEnv([\n",
    "    lambda: gym.make(\"CartPole-v1\"),\n",
    "    lambda: gym.make(\"CartPole-v1\"),\n",
    "    lambda: gym.make(\"CartPole-v1\"),\n",
    "])"
   ]
  },
  {
   "cell_type": "code",
   "execution_count": null,
   "id": "6499a6bb-0789-4eaa-9b56-aeaa6f4aec20",
   "metadata": {},
   "outputs": [],
   "source": [
    "def compute_clipped_surrogate_object(ratio, advantage_estimate, epsilon):\n",
    "    clipped_ratio = torch.clamp(ratio, 1-epsilon, 1+epsilon)\n",
    "    prod = ratio*advantage_estimate\n",
    "    clipped_prod = clipped_ratio*advantage_estimate\n",
    "    return torch.min(prod, clipped_prod).mean()"
   ]
  },
  {
   "cell_type": "code",
   "execution_count": null,
   "id": "008e629b-3990-4a16-a1e9-2333233a75f9",
   "metadata": {},
   "outputs": [],
   "source": [
    "from fastai.vision.all import *"
   ]
  },
  {
   "cell_type": "code",
   "execution_count": null,
   "id": "97a9b388-33e3-4332-ba99-0641b64f69c3",
   "metadata": {},
   "outputs": [],
   "source": [
    "dblock = DataBlock(blocks=[ImageBlock, CategoryBlock])"
   ]
  },
  {
   "cell_type": "code",
   "execution_count": null,
   "id": "5937001c-2648-48c1-95b9-7ac7817c08ea",
   "metadata": {},
   "outputs": [],
   "source": [
    "envs = gym.vector.SyncVectorEnv([\n",
    "    lambda: gym.make(\"CartPole-v1\"),\n",
    "    lambda: gym.make(\"CartPole-v1\"),\n",
    "    lambda: gym.make(\"CartPole-v1\"),\n",
    "])"
   ]
  },
  {
   "cell_type": "code",
   "execution_count": null,
   "id": "345e85fe-1017-442d-9d38-679dcc1f5cd5",
   "metadata": {},
   "outputs": [],
   "source": [
    "def log_softmax(x):\n",
    "    return x - torch.log(torch.mean(x.exp()))"
   ]
  },
  {
   "cell_type": "code",
   "execution_count": null,
   "id": "2c890099-3283-453e-aad8-b52a81882e05",
   "metadata": {},
   "outputs": [],
   "source": [
    "dsets = DataBlock(blocks=[ImageBlock, MultiCategoryBlock],\n",
    "                  get_x=get_x, get_y=get_y)"
   ]
  },
  {
   "cell_type": "code",
   "execution_count": null,
   "id": "f6e4a90d-b007-4662-913c-7d240fd78573",
   "metadata": {},
   "outputs": [],
   "source": [
    "in, out, cell, forget"
   ]
  },
  {
   "cell_type": "code",
   "execution_count": null,
   "id": "d08ae2c4-cf9a-4c59-8490-5d4632b8bf3a",
   "metadata": {},
   "outputs": [],
   "source": [
    "f(x, y) = x + y"
   ]
  },
  {
   "cell_type": "code",
   "execution_count": null,
   "id": "80954521-4e6a-4294-b340-e2bdf49ce276",
   "metadata": {},
   "outputs": [],
   "source": [
    "for x in xs\n",
    "    print(x)\n",
    "end"
   ]
  },
  {
   "cell_type": "code",
   "execution_count": null,
   "id": "cb6667b9-7f65-4352-91b2-392f4d921ebe",
   "metadata": {},
   "outputs": [],
   "source": [
    "np.where(x>1, \"GOOD\", \"BAD\")"
   ]
  },
  {
   "cell_type": "code",
   "execution_count": null,
   "id": "a197087c-c2d6-44cb-899b-b84f9bd24f00",
   "metadata": {},
   "outputs": [],
   "source": [
    "class Atom:\n",
    "    def __init__(self, n_protons: int):\n",
    "        pass"
   ]
  },
  {
   "cell_type": "code",
   "execution_count": null,
   "id": "cb512aa8-765d-4ce5-828a-54703d2d9817",
   "metadata": {},
   "outputs": [],
   "source": [
    "2:9:2 "
   ]
  },
  {
   "cell_type": "code",
   "execution_count": null,
   "id": "f898eece-d958-4307-b62f-e7728e128b50",
   "metadata": {},
   "outputs": [],
   "source": [
    "from typing import NewType"
   ]
  },
  {
   "cell_type": "code",
   "execution_count": null,
   "id": "46153de4-cb0b-4e36-9a28-6460b6c33a69",
   "metadata": {},
   "outputs": [],
   "source": [
    "PackageID = NewType(\"PackageID\", int)"
   ]
  },
  {
   "cell_type": "code",
   "execution_count": null,
   "id": "67e35c02-fee3-4ae9-8493-f6390c5ea7a3",
   "metadata": {},
   "outputs": [],
   "source": [
    "Color = NewType(\"Color\", str)"
   ]
  },
  {
   "cell_type": "code",
   "execution_count": null,
   "id": "7ee6ecbe-9737-492f-a1af-85bef2b18511",
   "metadata": {},
   "outputs": [],
   "source": [
    "class Batch:\n",
    "    def __init__(self, package_id: PackageID, pac)"
   ]
  },
  {
   "cell_type": "code",
   "execution_count": null,
   "id": "44d7a5de-3da3-4e13-8c60-84d8b6d66674",
   "metadata": {},
   "outputs": [],
   "source": [
    "from typing import NewType"
   ]
  },
  {
   "cell_type": "code",
   "execution_count": null,
   "id": "ed32afee-23e9-4457-aeb6-4b9cd1479e9c",
   "metadata": {},
   "outputs": [],
   "source": [
    "ID = NewType(\"ID\", int)"
   ]
  },
  {
   "cell_type": "code",
   "execution_count": null,
   "id": "311d7730-b49b-4ecc-a198-628ea6ca65bb",
   "metadata": {},
   "outputs": [],
   "source": [
    "Color = NewType(\"Color\", str)"
   ]
  },
  {
   "cell_type": "code",
   "execution_count": null,
   "id": "94e27f93-4fcb-4062-bca8-255b0115752f",
   "metadata": {},
   "outputs": [],
   "source": [
    "class Batch:\n",
    "    def __init__(self, package_id: ID, package_color: Color):\n",
    "        pass"
   ]
  },
  {
   "cell_type": "code",
   "execution_count": null,
   "id": "a8c79e84-c6e0-48a8-bceb-255ab326a279",
   "metadata": {},
   "outputs": [],
   "source": []
  }
 ],
 "metadata": {
  "kernelspec": {
   "display_name": "Python 3 (ipykernel)",
   "language": "python",
   "name": "python3"
  }
 },
 "nbformat": 4,
 "nbformat_minor": 5
}
