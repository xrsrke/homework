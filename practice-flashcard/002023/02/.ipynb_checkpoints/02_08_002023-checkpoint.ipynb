{
 "cells": [
  {
   "cell_type": "markdown",
   "id": "7b654302-c7fd-47c0-908d-5d9bae876731",
   "metadata": {},
   "source": [
    "### Sci"
   ]
  },
  {
   "cell_type": "code",
   "execution_count": null,
   "id": "45c81e3e-75f8-44a7-af5d-f57ca9f0e654",
   "metadata": {},
   "outputs": [],
   "source": [
    "axon, dendrite, cell body, synapse"
   ]
  },
  {
   "cell_type": "markdown",
   "id": "003dd629-7f30-4dc3-aa84-27d6ef4ea9aa",
   "metadata": {},
   "source": [
    "measure the changes in magnetic field around the skull and in blood flow in the brain"
   ]
  },
  {
   "cell_type": "code",
   "execution_count": null,
   "id": "f7967ed1-5f7e-48ce-9ae7-ce8781e846db",
   "metadata": {},
   "outputs": [],
   "source": [
    "strong connection\n",
    "weak connection\n",
    "strength in short term"
   ]
  },
  {
   "cell_type": "code",
   "execution_count": null,
   "id": "3a05f92a-1f78-45de-9d32-135234da5d42",
   "metadata": {},
   "outputs": [],
   "source": [
    "the ability for neural change the strength connection between themselve"
   ]
  },
  {
   "cell_type": "code",
   "execution_count": null,
   "id": "0c8772a4-e03a-48b2-88a0-0e05f041f8d6",
   "metadata": {},
   "outputs": [],
   "source": [
    "from deepchem.models import MultitaskClassifier"
   ]
  },
  {
   "cell_type": "code",
   "execution_count": null,
   "id": "83d81c41-1410-40a6-916f-ba81acf538be",
   "metadata": {},
   "outputs": [],
   "source": [
    "modle = MultitaskClassifier(\n",
    "    n_tasks=12,\n",
    "    n_features=1024,\n",
    "    layer_sizes=[1000]\n",
    ")"
   ]
  },
  {
   "cell_type": "code",
   "execution_count": null,
   "id": "aa439539-d957-4db1-86b8-448ad167fadf",
   "metadata": {},
   "outputs": [],
   "source": [
    "sum up potential and kinetic energy of all particles in the system"
   ]
  },
  {
   "cell_type": "code",
   "execution_count": null,
   "id": "5e6da037-0f0f-4b77-925e-2296a23da957",
   "metadata": {},
   "outputs": [],
   "source": [
    "molecular, structural, empirical"
   ]
  },
  {
   "cell_type": "code",
   "execution_count": null,
   "id": "33a4ca7b-9fd9-474d-a1a1-51241a541e72",
   "metadata": {},
   "outputs": [],
   "source": [
    "from rdkit import Chem"
   ]
  },
  {
   "cell_type": "code",
   "execution_count": null,
   "id": "76fb333b-c797-4def-80c7-fe9472eee325",
   "metadata": {},
   "outputs": [],
   "source": [
    "mol = Chem.MolFromSmiles(smile)"
   ]
  },
  {
   "cell_type": "code",
   "execution_count": null,
   "id": "280ca428-ef5c-4b95-868e-4c526c446505",
   "metadata": {},
   "outputs": [],
   "source": [
    "from deepchem.feat import RDKitDescriptors"
   ]
  },
  {
   "cell_type": "code",
   "execution_count": null,
   "id": "4418de4f-273b-4995-8d45-35c50bd6dd3e",
   "metadata": {},
   "outputs": [],
   "source": [
    "feat = RDKitDescriptors()"
   ]
  },
  {
   "cell_type": "code",
   "execution_count": null,
   "id": "18e00440-04eb-47df-b137-ff1755f142d1",
   "metadata": {},
   "outputs": [],
   "source": [
    "feat.featurize(mol)"
   ]
  },
  {
   "cell_type": "markdown",
   "id": "3cd8d343-342e-40ac-91cc-ec38a28d858b",
   "metadata": {},
   "source": [
    "### SW"
   ]
  },
  {
   "cell_type": "code",
   "execution_count": null,
   "id": "655ea102-c599-44b8-bfc4-30e4c5a6fb77",
   "metadata": {},
   "outputs": [],
   "source": [
    "import unittest"
   ]
  },
  {
   "cell_type": "code",
   "execution_count": null,
   "id": "9e748248-7cf5-4030-9596-359e1f527fe1",
   "metadata": {},
   "outputs": [],
   "source": [
    "class EasyTestCase(unittest.TestCase):\n",
    "    def test_avg(self):\n",
    "        self.assertEqual(avg, 111)"
   ]
  },
  {
   "cell_type": "code",
   "execution_count": null,
   "id": "ae6790c2-09c6-42de-bf2b-9114a759a5fc",
   "metadata": {},
   "outputs": [],
   "source": [
    "def performance(func):\n",
    "    def wrapper(*args, **kwargs):\n",
    "        # time\n",
    "        out = func()\n",
    "        # time\n",
    "        return out\n",
    "    \n",
    "    return wrapper"
   ]
  },
  {
   "cell_type": "markdown",
   "id": "3a5509a2-4c4d-4b52-9b18-0085bf8d7d24",
   "metadata": {},
   "source": [
    "### AI"
   ]
  },
  {
   "cell_type": "code",
   "execution_count": null,
   "id": "9d93691f-6496-4aeb-a27e-4d576b253912",
   "metadata": {},
   "outputs": [],
   "source": [
    "import torch\n",
    "from torch import nn\n",
    "import torch.nn.functional as F"
   ]
  },
  {
   "cell_type": "code",
   "execution_count": null,
   "id": "78bdf1b2-04eb-433f-93b5-6a401710ca08",
   "metadata": {},
   "outputs": [],
   "source": [
    "class Encoder(nn.Module):\n",
    "    def __init__(self, d_model, n_heads, n_layers, d_ff, dropout):\n",
    "        super().__init__()\n",
    "        self.d_model, self.n_heads = d_model, n_heads\n",
    "        self.d_head = d_model // n_heads\n",
    "        \n",
    "        self.text_embedding = TextEmbedding(vocab_size=100, d_model=d_model, padding_idx=0)\n",
    "        self.positional_encoding = PositionalEncoding(d_model)\n",
    "        \n",
    "        self.layers = nn.ModuleList([\n",
    "            EncoderLayer(d_model, n_heads, d_ff, dropout) for _ in range(n_layers)\n",
    "        ])\n",
    "    \n",
    "    def forward(self, tokens):\n",
    "        embeddings = self.text_embedding(tokens)\n",
    "        embeddings = self.positional_encoding(embeddings)\n",
    "        \n",
    "        output = embeddings\n",
    "        \n",
    "        for layer in self.layers:\n",
    "            output, output_attn = layer(output, output_attn)\n",
    "        \n",
    "        return output, output_attn"
   ]
  },
  {
   "cell_type": "code",
   "execution_count": null,
   "id": "edfa8ce8-ffba-4f4b-8299-c300a51864d2",
   "metadata": {},
   "outputs": [],
   "source": [
    "from langchain import PromptTemplate"
   ]
  },
  {
   "cell_type": "code",
   "execution_count": null,
   "id": "db5b0fba-7521-4904-a5a1-c9a05180c984",
   "metadata": {},
   "outputs": [],
   "source": [
    "template = \"\"\"\n",
    "\n",
    "User: {input}\n",
    "AI:\n",
    "\"\"\""
   ]
  },
  {
   "cell_type": "code",
   "execution_count": null,
   "id": "8a364462-572d-46b9-9d00-bb0f75100415",
   "metadata": {},
   "outputs": [],
   "source": [
    "prompt = PromptTemplate(\n",
    "    input_variables=[\"input\"],\n",
    "    template=template\n",
    ")"
   ]
  },
  {
   "cell_type": "code",
   "execution_count": null,
   "id": "b8eca633-f9be-437e-a104-9eef566ab278",
   "metadata": {},
   "outputs": [],
   "source": [
    "from langchain import LLMChain"
   ]
  },
  {
   "cell_type": "code",
   "execution_count": null,
   "id": "e16156ff-8e7e-49e2-93b3-91c22cc42c6d",
   "metadata": {},
   "outputs": [
    {
     "ename": "NameError",
     "evalue": "name 'promt' is not defined",
     "output_type": "error",
     "traceback": [
      "\u001b[0;31m---------------------------------------------------------------------------\u001b[0m",
      "\u001b[0;31mNameError\u001b[0m                                 Traceback (most recent call last)",
      "Cell \u001b[0;32mIn[14], line 1\u001b[0m\n\u001b[0;32m----> 1\u001b[0m chatgpt_chain \u001b[38;5;241m=\u001b[39m LLMChain(prompt\u001b[38;5;241m=\u001b[39m\u001b[43mpromt\u001b[49m, llm\u001b[38;5;241m=\u001b[39mmodel)\n",
      "\u001b[0;31mNameError\u001b[0m: name 'promt' is not defined"
     ]
    }
   ],
   "source": [
    "chatgpt_chain = LLMChain(prompt=promt, llm=model)"
   ]
  },
  {
   "cell_type": "code",
   "execution_count": null,
   "id": "586d894e-aeb9-425d-b96e-9a4c4c961dc4",
   "metadata": {},
   "outputs": [],
   "source": []
  },
  {
   "cell_type": "code",
   "execution_count": null,
   "id": "e007036f-13d1-4202-9e50-6e21e1e1f127",
   "metadata": {},
   "outputs": [],
   "source": [
    "from langchain import PromptTemplate"
   ]
  },
  {
   "cell_type": "code",
   "execution_count": null,
   "id": "69e7c0e4-72ae-405d-8479-10cfc32d278a",
   "metadata": {},
   "outputs": [],
   "source": [
    "template = \"\"\"\n",
    "User: {input}\n",
    "AI:\n",
    "\"\"\""
   ]
  },
  {
   "cell_type": "code",
   "execution_count": null,
   "id": "e397230a-09f7-484d-9c1c-0d142e306acd",
   "metadata": {},
   "outputs": [],
   "source": [
    "prompt = PromptTemplate(input_variables=[\"input\"], template=template)"
   ]
  },
  {
   "cell_type": "code",
   "execution_count": null,
   "id": "04763b2b-79ae-4ea8-8a52-9d83656e9bc4",
   "metadata": {},
   "outputs": [],
   "source": []
  },
  {
   "cell_type": "code",
   "execution_count": null,
   "id": "4e592f50-7334-4c87-9f01-e00fd35a01d4",
   "metadata": {},
   "outputs": [],
   "source": [
    "template = \"\"\"\n",
    "{history}\n",
    "User: {input}\n",
    "AI:\n",
    "\"\"\""
   ]
  },
  {
   "cell_type": "code",
   "execution_count": null,
   "id": "a3a83476-3c39-4c55-b259-9434515fcc35",
   "metadata": {},
   "outputs": [],
   "source": [
    "prompt = PromptTemplate(input_variables=[\"history\", \"input\"], template=template)"
   ]
  },
  {
   "cell_type": "code",
   "execution_count": null,
   "id": "082f56cd-7ec6-4f5d-8839-a0bf80d1d6de",
   "metadata": {},
   "outputs": [],
   "source": [
    "target_text = torch.matmul(text_embeddings, text_embeddings.T)"
   ]
  },
  {
   "cell_type": "code",
   "execution_count": null,
   "id": "935a9b31-3045-4c60-92a8-bd2ea74e3e52",
   "metadata": {},
   "outputs": [],
   "source": [
    "target_image = torch.matmul(image_embeddings, image_embeddings.T)"
   ]
  },
  {
   "cell_type": "code",
   "execution_count": null,
   "id": "9eb47e00-c69a-48ee-8b88-cf48a2691c42",
   "metadata": {},
   "outputs": [],
   "source": [
    "target = F.softmax(\n",
    "    (target_text + target_image) / 2*temperature, dim=-1\n",
    ")"
   ]
  },
  {
   "cell_type": "code",
   "execution_count": null,
   "id": "5883b34c-0a76-4b2d-8639-6a4a65185c1c",
   "metadata": {},
   "outputs": [],
   "source": [
    "def add_hook(model):\n",
    "    model.re"
   ]
  },
  {
   "cell_type": "code",
   "execution_count": null,
   "id": "3bb5616d-4fbd-4354-9b4f-fec4338cbef8",
   "metadata": {},
   "outputs": [],
   "source": []
  }
 ],
 "metadata": {
  "kernelspec": {
   "display_name": "Python 3 (ipykernel)",
   "language": "python",
   "name": "python3"
  }
 },
 "nbformat": 4,
 "nbformat_minor": 5
}
