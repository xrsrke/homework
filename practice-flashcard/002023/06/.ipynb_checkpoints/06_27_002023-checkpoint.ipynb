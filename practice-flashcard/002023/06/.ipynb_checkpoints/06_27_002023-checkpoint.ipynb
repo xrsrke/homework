{
 "cells": [
  {
   "cell_type": "markdown",
   "id": "a15bc329-e837-4ed8-a05f-4df9ac0ee993",
   "metadata": {},
   "source": [
    "### Sci"
   ]
  },
  {
   "cell_type": "markdown",
   "id": "19fb82cb-d529-44ec-9d7c-e62b2cbcc292",
   "metadata": {},
   "source": [
    "### Engineering"
   ]
  },
  {
   "cell_type": "code",
   "execution_count": 1,
   "id": "398cf6f3-d311-414c-ae3e-e0422a712967",
   "metadata": {
    "tags": []
   },
   "outputs": [],
   "source": [
    "import torch\n",
    "from torch import nn\n",
    "import torch.nn.functional as F"
   ]
  },
  {
   "cell_type": "code",
   "execution_count": 3,
   "id": "0ff7806a-ba2c-4d71-afd8-b0bbfd9172df",
   "metadata": {
    "tags": []
   },
   "outputs": [],
   "source": [
    "def gather_tensors(x):\n",
    "    world_size = torch.distributed.get_world_size()\n",
    "    xs = [torch.empty_like(x) for _ in range(world_size)]\n",
    "    torch.distributed.all_gather(xs, x)\n",
    "    xs = torch.cat(xs, dim=-1)\n",
    "    return xs"
   ]
  },
  {
   "cell_type": "code",
   "execution_count": 4,
   "id": "e9ff7efc-d99f-4162-ba45-a471672c93b2",
   "metadata": {
    "tags": []
   },
   "outputs": [],
   "source": [
    "import torch.multiprocessing as mp"
   ]
  },
  {
   "cell_type": "code",
   "execution_count": null,
   "id": "c85541d2-4b4c-42b6-b850-3854bfc1f865",
   "metadata": {},
   "outputs": [],
   "source": [
    "for rank in range(world_size):\n",
    "    process = mp.Process(target=say_hello, args=(rank,))\n",
    "    process.start()"
   ]
  },
  {
   "cell_type": "code",
   "execution_count": null,
   "id": "4056f342-06eb-40ce-b0d9-f7b2d489341e",
   "metadata": {},
   "outputs": [],
   "source": [
    "start = torch.cuda.Event(enable_timing=True)\n",
    "end = torch.cuda.Event(enable_timing=True)"
   ]
  },
  {
   "cell_type": "code",
   "execution_count": null,
   "id": "b68fe596-e449-4241-ae6f-371abd2d22ef",
   "metadata": {},
   "outputs": [],
   "source": [
    "start.record()\n",
    "hardshit()\n",
    "end.record()"
   ]
  },
  {
   "cell_type": "code",
   "execution_count": null,
   "id": "0a19ef73-955f-4174-bc64-4c4d35291530",
   "metadata": {},
   "outputs": [],
   "source": [
    "torch.cuda.syncronous()"
   ]
  },
  {
   "cell_type": "code",
   "execution_count": null,
   "id": "e7cdddbf-f2f0-40d0-b0d5-9719afb8af33",
   "metadata": {},
   "outputs": [],
   "source": [
    "elapsed_time_ms = end.elapsed_time(start)"
   ]
  },
  {
   "cell_type": "code",
   "execution_count": 6,
   "id": "88611237-4e95-4ec3-ac1a-c9ac6bade4a4",
   "metadata": {
    "tags": []
   },
   "outputs": [],
   "source": [
    "class RowParallelLinear(nn.Module):\n",
    "    def __init__(self, input_size, output_size):\n",
    "        super().__init__()\n",
    "        world_size = torch.distributed.get_world_size()\n",
    "        self.input_size_per_partrition = input_size // world_size\n",
    "        self.output_size = output_size\n",
    "        \n",
    "        self.weight = nn.Parameter(torch.empty(\n",
    "            self.output_size,\n",
    "            self.input_size_per_partrition\n",
    "        ))\n",
    "        self.bias = nn.Parameter(torch.empty(\n",
    "            self.output_size\n",
    "        ))\n",
    "    \n",
    "    def forward(self, input):\n",
    "        rank = torch.distributed.get_rank()\n",
    "        world_size = torch.distributed.get_world_size()\n",
    "        \n",
    "        dim_size = input.shape[-1]\n",
    "        partrition_size = dim_size // world_size\n",
    "        input_chunks = torch.split(input, partrition_size, dim=-1)\n",
    "        input_parallel = input_chunks[rank]\n",
    "        output_parallel = F.linear(input_parallel, self.weight, self.bias)\n",
    "        \n",
    "        torch.distributed.all_reduce(output_parallel)\n",
    "        \n",
    "        return output_parallel"
   ]
  },
  {
   "cell_type": "code",
   "execution_count": 11,
   "id": "1156d0bc-6f7c-470a-a207-159c0c824f8b",
   "metadata": {
    "tags": []
   },
   "outputs": [],
   "source": [
    "import threading\n",
    "import time"
   ]
  },
  {
   "cell_type": "code",
   "execution_count": 8,
   "id": "6caf4722-39a6-4c63-9cde-0623a61bf5e4",
   "metadata": {
    "tags": []
   },
   "outputs": [],
   "source": [
    "event = threading.Event()"
   ]
  },
  {
   "cell_type": "code",
   "execution_count": 9,
   "id": "f84290b4-aa2c-48eb-aa04-c1b35ffa80d9",
   "metadata": {
    "tags": []
   },
   "outputs": [],
   "source": [
    "def run_worker():\n",
    "    print(\"worker is waiting for the event\")\n",
    "    event.wait()\n",
    "    print(\"received the event\")"
   ]
  },
  {
   "cell_type": "code",
   "execution_count": 10,
   "id": "951c5700-b50e-4957-852f-20c7bb63c17e",
   "metadata": {
    "tags": []
   },
   "outputs": [],
   "source": [
    "thread = threading.Thread(target=run_worker)"
   ]
  },
  {
   "cell_type": "code",
   "execution_count": 12,
   "id": "f04d13c2-462c-4432-a09a-5edf6a7d3cce",
   "metadata": {
    "tags": []
   },
   "outputs": [
    {
     "name": "stdout",
     "output_type": "stream",
     "text": [
      "worker is waiting for the event\n",
      "received the event\n"
     ]
    }
   ],
   "source": [
    "thread.start()\n",
    "\n",
    "time.sleep(3)\n",
    "\n",
    "event.set()"
   ]
  },
  {
   "cell_type": "code",
   "execution_count": null,
   "id": "a9cc3d07-a59e-4b55-aa5c-28e5e91c369b",
   "metadata": {},
   "outputs": [],
   "source": [
    "max(clock_idx+1-n_microbatches, 0)"
   ]
  },
  {
   "cell_type": "code",
   "execution_count": null,
   "id": "7532e7d0-77b3-45d6-946f-06d9f9623ed8",
   "metadata": {},
   "outputs": [],
   "source": [
    "start = torch.cuda.Event(enable_timing=True)\n",
    "end = torch.cuda.Event(enable_timing=True)"
   ]
  },
  {
   "cell_type": "code",
   "execution_count": 14,
   "id": "3b654ad8-8db7-46c6-b289-55a6b7244c0a",
   "metadata": {
    "tags": []
   },
   "outputs": [],
   "source": [
    "n_cycles = 1_000_000"
   ]
  },
  {
   "cell_type": "code",
   "execution_count": null,
   "id": "71a9a292-d4be-4da5-a918-2ab074e95e68",
   "metadata": {},
   "outputs": [],
   "source": [
    "start.record()\n",
    "torch.cuda._sleep(n_cycles)\n",
    "end.record()"
   ]
  },
  {
   "cell_type": "code",
   "execution_count": null,
   "id": "fa58fa36-f43a-48a6-b3e2-dd4247c72023",
   "metadata": {},
   "outputs": [],
   "source": [
    "elapsed_time = end.elapsed_time(start)"
   ]
  },
  {
   "cell_type": "code",
   "execution_count": null,
   "id": "2c88ce2d-f8dc-40d0-b0b0-0b35c0b18841",
   "metadata": {},
   "outputs": [],
   "source": [
    "cycle_per_ms = n_cycles / elapsed_time"
   ]
  },
  {
   "cell_type": "code",
   "execution_count": null,
   "id": "74f5b092-bdf0-4e69-b0d6-075daecbf917",
   "metadata": {},
   "outputs": [],
   "source": [
    "def cuda_sleep(seconds):\n",
    "    ms = seconds * 1_000\n",
    "    torch.cuda._sleep(cycles=int(cycle_per_ms*ms))"
   ]
  },
  {
   "cell_type": "code",
   "execution_count": 15,
   "id": "251e1861-346b-4339-8432-10431339a2c2",
   "metadata": {
    "tags": []
   },
   "outputs": [],
   "source": [
    "world_size = 16"
   ]
  },
  {
   "cell_type": "code",
   "execution_count": 16,
   "id": "c77d5f20-a6cf-4e20-a793-299609394b81",
   "metadata": {
    "tags": []
   },
   "outputs": [],
   "source": [
    "tensor_model_parallel_size = 2"
   ]
  },
  {
   "cell_type": "code",
   "execution_count": 20,
   "id": "de1fe8e7-6ff9-4202-9039-f628d6f4098f",
   "metadata": {
    "tags": []
   },
   "outputs": [],
   "source": [
    "pipeline_model_parallel_size = 4"
   ]
  },
  {
   "cell_type": "code",
   "execution_count": 18,
   "id": "8f0deb9d-3852-404d-974b-f94fb6a1ea0d",
   "metadata": {
    "tags": []
   },
   "outputs": [],
   "source": [
    "num_pipeline_model_parallel_groups = 4"
   ]
  },
  {
   "cell_type": "code",
   "execution_count": 19,
   "id": "f2317f25-b2d1-4804-a38a-57143ecf5523",
   "metadata": {
    "tags": []
   },
   "outputs": [],
   "source": [
    "data_paralell_groups = []"
   ]
  },
  {
   "cell_type": "code",
   "execution_count": 21,
   "id": "910a8387-8323-4fbb-a94f-56db97a3c49b",
   "metadata": {
    "tags": []
   },
   "outputs": [
    {
     "name": "stdout",
     "output_type": "stream",
     "text": [
      "[0, 2]\n",
      "[1, 3]\n",
      "[4, 6]\n",
      "[5, 7]\n",
      "[8, 10]\n",
      "[9, 11]\n",
      "[12, 14]\n",
      "[13, 15]\n"
     ]
    }
   ],
   "source": [
    "for i in range(pipeline_model_parallel_size):\n",
    "    start_rank = i*num_pipeline_model_parallel_groups\n",
    "    end_rank = (i+1)*num_pipeline_model_parallel_groups\n",
    "    \n",
    "    for j in range(tensor_model_parallel_size):\n",
    "        ranks = list(range(\n",
    "            start_rank+j,\n",
    "            end_rank,\n",
    "            tensor_model_parallel_size\n",
    "        ))\n",
    "        \n",
    "        print(ranks)"
   ]
  },
  {
   "cell_type": "code",
   "execution_count": null,
   "id": "03866fbf-d898-4f7e-8007-02afe5c84f9d",
   "metadata": {},
   "outputs": [],
   "source": [
    "def gather_tensors(x):\n",
    "    world_size = torch.distributed.get_world_size()\n",
    "    \n",
    "    xs = [torch.empty_like(x) for _ in range(world_size)]\n",
    "    torch.distributed.all_gather(xs, x)\n",
    "    xs = torch.cat(xs, dim=-1)\n",
    "    \n",
    "    return xs"
   ]
  },
  {
   "cell_type": "code",
   "execution_count": null,
   "id": "fdd02ba5-3c6b-4ca7-97d6-5b6e455e3a60",
   "metadata": {},
   "outputs": [],
   "source": [
    "rank, world_size, master_addr, master_port"
   ]
  },
  {
   "cell_type": "code",
   "execution_count": null,
   "id": "e90fa71f-56ac-4ef8-b0c3-ad24efb8c81f",
   "metadata": {},
   "outputs": [],
   "source": [
    "m+n-1"
   ]
  },
  {
   "cell_type": "markdown",
   "id": "2ea6b59d-f144-449f-8a72-4c64a9423ae7",
   "metadata": {},
   "source": [
    "### MLE"
   ]
  },
  {
   "cell_type": "code",
   "execution_count": 22,
   "id": "b942c616-5fa8-4b6f-b009-f57585f4f166",
   "metadata": {
    "tags": []
   },
   "outputs": [],
   "source": [
    "from pydantic import BaseModel"
   ]
  },
  {
   "cell_type": "code",
   "execution_count": 24,
   "id": "da91b051-0fb9-42fa-aedc-b0a26eb955cd",
   "metadata": {
    "tags": []
   },
   "outputs": [],
   "source": [
    "class Blog(BaseModel):\n",
    "    title: str\n",
    "    desc: str"
   ]
  },
  {
   "cell_type": "code",
   "execution_count": null,
   "id": "ae2fbe50-8d9f-4bda-9ee9-004737945c2f",
   "metadata": {},
   "outputs": [],
   "source": [
    "@app.post(\"/blog\")\n",
    "def create_blog(blog: Blog):\n",
    "    return blog"
   ]
  },
  {
   "cell_type": "code",
   "execution_count": 26,
   "id": "a4f70524-fc8a-430c-83ce-a75c8e0f8cae",
   "metadata": {
    "tags": []
   },
   "outputs": [],
   "source": [
    "import threading"
   ]
  },
  {
   "cell_type": "code",
   "execution_count": null,
   "id": "e6ef5de8-b017-45db-a80d-e9deb0e31f7f",
   "metadata": {},
   "outputs": [],
   "source": [
    "thread = threading.Thread(target=print_numbers)"
   ]
  },
  {
   "cell_type": "code",
   "execution_count": null,
   "id": "16d71c24-b1f0-420d-a385-7424a6ac98d2",
   "metadata": {},
   "outputs": [],
   "source": [
    "[task_3, task_2] >> task_1"
   ]
  },
  {
   "cell_type": "code",
   "execution_count": 27,
   "id": "aff1a411-af6a-464d-bd32-238cd0ad40e3",
   "metadata": {
    "tags": []
   },
   "outputs": [],
   "source": [
    "from fastapi import status"
   ]
  },
  {
   "cell_type": "code",
   "execution_count": null,
   "id": "6c1f0bea-ae7e-4b6f-baef-1f057b5f8e17",
   "metadata": {},
   "outputs": [],
   "source": [
    "@app.get(\"/items\", status=status.HTTP_201_CREATED)\n",
    "def get_items():\n",
    "    pass"
   ]
  },
  {
   "cell_type": "code",
   "execution_count": null,
   "id": "4d94352a-4355-4f1b-839e-46e895594f0a",
   "metadata": {},
   "outputs": [],
   "source": [
    "@app.get(\"/movies/{name}\")\n",
    "def get_movie(name: str):\n",
    "    pass"
   ]
  },
  {
   "cell_type": "code",
   "execution_count": null,
   "id": "df65b33d-0460-4014-8c93-30bf37836dc8",
   "metadata": {},
   "outputs": [],
   "source": [
    "edge \n",
    "service\n",
    "in-server\n",
    "database"
   ]
  },
  {
   "cell_type": "code",
   "execution_count": 29,
   "id": "6c2381ee-e9db-40a1-9e09-8aac324f9e98",
   "metadata": {
    "tags": []
   },
   "outputs": [],
   "source": [
    "import subprocess"
   ]
  },
  {
   "cell_type": "code",
   "execution_count": null,
   "id": "f92b0a86-1f63-4b20-aeb2-c3898510bf9d",
   "metadata": {},
   "outputs": [],
   "source": [
    "subprocess.run()"
   ]
  },
  {
   "cell_type": "code",
   "execution_count": 30,
   "id": "5da033c3-411b-44c1-87a6-e9682cd1415a",
   "metadata": {
    "tags": []
   },
   "outputs": [],
   "source": [
    "import pytest"
   ]
  },
  {
   "cell_type": "code",
   "execution_count": null,
   "id": "a24b1f01-f38d-4522-abe8-dbcc2a1347c0",
   "metadata": {},
   "outputs": [],
   "source": [
    "def test_raise():\n",
    "    with pytest.raises(ValueError):\n",
    "        pass"
   ]
  },
  {
   "cell_type": "code",
   "execution_count": 31,
   "id": "9e780a7f-c2aa-4176-a188-b42ff42ee1e4",
   "metadata": {
    "tags": []
   },
   "outputs": [],
   "source": [
    "from fastapi import status"
   ]
  },
  {
   "cell_type": "code",
   "execution_count": null,
   "id": "32a2bdc0-49a4-4dbf-8f2d-3379f676d112",
   "metadata": {},
   "outputs": [],
   "source": [
    "@app.get(\"/items\", status=status.HTTP_201_CREATED)\n",
    "def get_items():\n",
    "    pass"
   ]
  },
  {
   "cell_type": "markdown",
   "id": "4a5cba7d-4c4e-4dce-a1a6-dec18e47f5cb",
   "metadata": {},
   "source": [
    "### AI"
   ]
  },
  {
   "cell_type": "code",
   "execution_count": 32,
   "id": "62e07622-c39c-400b-8dc4-807dcba8a46e",
   "metadata": {
    "tags": []
   },
   "outputs": [],
   "source": [
    "import torch\n",
    "from torch import nn\n",
    "import torch.nn.functional as F"
   ]
  },
  {
   "cell_type": "code",
   "execution_count": null,
   "id": "f04b07b4-ff14-4e00-9170-759c4ebab017",
   "metadata": {},
   "outputs": [],
   "source": [
    "min(clock_idx+1, n_partritions)"
   ]
  },
  {
   "cell_type": "code",
   "execution_count": null,
   "id": "16b02860-d5a0-4985-abb5-5bf4c98cb75b",
   "metadata": {},
   "outputs": [],
   "source": [
    "logit = unembed + final_residual_stream\n",
    "\n",
    "= unembed @ (embed + layer_1 + layer_2)\n",
    "= unembed @ embed + unembed @ layer_1 + unembed @ layer_2"
   ]
  },
  {
   "cell_type": "code",
   "execution_count": 33,
   "id": "b1fd1f0a-b185-4e12-a394-a692c9514d5d",
   "metadata": {
    "tags": []
   },
   "outputs": [],
   "source": [
    "class Recompute(torch.autograd.Function):\n",
    "    @staticmethod\n",
    "    def forward(ctx, phony, recomputed, function, input):\n",
    "        ctx.recomputed = recomputed\n",
    "        ctx.function = function\n",
    "        ctx.input = input    \n",
    "        return phony\n",
    "    \n",
    "    @staticmethod\n",
    "    def backward(ctx, grad_input):\n",
    "        recomputed = ctx.recomputed\n",
    "        function = ctx.function\n",
    "        input = ctx.input\n",
    "        \n",
    "        input = input.detach().requires_grad_(input.requires_grad)\n",
    "        \n",
    "        with torch.grad_enabled():\n",
    "            output = function(input)\n",
    "        \n",
    "        recomputed.append((output, input))\n",
    "        \n",
    "        grad = [None, None, None]\n",
    "        \n",
    "        if input.grad is not None:\n",
    "            grad.extend(input.grad)\n",
    "        else:\n",
    "            grad.extend(None)\n",
    "        \n",
    "        return grad"
   ]
  },
  {
   "cell_type": "code",
   "execution_count": null,
   "id": "20e06cd8-098a-4bf5-aae3-a93e0bf056d4",
   "metadata": {},
   "outputs": [],
   "source": [
    "_, cache = model.run_with_cache(\n",
    "    names_filter=lambda x.endwith(\"mlp_out\")\n",
    ")"
   ]
  },
  {
   "cell_type": "code",
   "execution_count": 34,
   "id": "a1fcaf16-5a8d-4def-b0e0-15bb9f321914",
   "metadata": {
    "tags": []
   },
   "outputs": [],
   "source": [
    "import torch.distributed.rpc as rpc"
   ]
  },
  {
   "cell_type": "code",
   "execution_count": null,
   "id": "751f7695-d786-42ea-98c0-01468eb22c3d",
   "metadata": {},
   "outputs": [],
   "source": [
    "rpc.get_worker_info(worker_name)"
   ]
  },
  {
   "cell_type": "code",
   "execution_count": null,
   "id": "7c2a91bd-52c2-49fd-a752-904d82579f46",
   "metadata": {},
   "outputs": [],
   "source": [
    "slices = tensor.unbind(dim=9)"
   ]
  },
  {
   "cell_type": "code",
   "execution_count": 36,
   "id": "fef61946-0ae0-4eaf-9561-19714b3e0579",
   "metadata": {
    "tags": []
   },
   "outputs": [],
   "source": [
    "from itertools import product"
   ]
  },
  {
   "cell_type": "code",
   "execution_count": null,
   "id": "0b3e8141-032b-4f06-9cb7-421252bf99fe",
   "metadata": {},
   "outputs": [],
   "source": [
    "combinations = list(product(range(n_heads), range(n_layers)))"
   ]
  },
  {
   "cell_type": "code",
   "execution_count": 37,
   "id": "9522b4dc-0c65-42a1-8e18-3d74d86769a5",
   "metadata": {
    "tags": []
   },
   "outputs": [],
   "source": [
    "import threading"
   ]
  },
  {
   "cell_type": "code",
   "execution_count": 38,
   "id": "1062650f-421b-4b17-a9b0-7ae18132f233",
   "metadata": {
    "tags": []
   },
   "outputs": [],
   "source": [
    "lock = threading.Lock()"
   ]
  },
  {
   "cell_type": "code",
   "execution_count": 40,
   "id": "91b4ad93-fcac-4d2f-849e-a62432447e73",
   "metadata": {
    "tags": []
   },
   "outputs": [],
   "source": [
    "def run_worker():\n",
    "    with lock:\n",
    "        print_numbers()"
   ]
  },
  {
   "cell_type": "code",
   "execution_count": null,
   "id": "60a6efdd-82db-409b-ab13-0305eff68a1e",
   "metadata": {},
   "outputs": [],
   "source": [
    "thread = threading.Thread(target=run_worker)"
   ]
  },
  {
   "cell_type": "code",
   "execution_count": 41,
   "id": "73b75e2e-88ad-41e2-8723-a5146983ced7",
   "metadata": {
    "tags": []
   },
   "outputs": [],
   "source": [
    "from einops import einsum"
   ]
  },
  {
   "cell_type": "code",
   "execution_count": null,
   "id": "6b4a924d-4a95-4136-aac9-bd12751054e5",
   "metadata": {},
   "outputs": [],
   "source": [
    "interfence = einsum(\n",
    "    W, W,\n",
    "    \"f1 d, f2 d -> f1 f2\"\n",
    ")"
   ]
  },
  {
   "cell_type": "code",
   "execution_count": null,
   "id": "6b553cf7-5fbe-4b42-bdcc-6d453d7d40ae",
   "metadata": {},
   "outputs": [],
   "source": [
    "target_tokens = tokens[1:]"
   ]
  },
  {
   "cell_type": "code",
   "execution_count": null,
   "id": "6e13ea87-41f8-40bc-a49a-a7957d4d2f1a",
   "metadata": {},
   "outputs": [],
   "source": [
    "W_U = model.W_U"
   ]
  },
  {
   "cell_type": "code",
   "execution_count": null,
   "id": "347af897-abe0-4c8d-bafd-22ef4b520046",
   "metadata": {},
   "outputs": [],
   "source": [
    "W_U_correct_tokens = W_U[:, target_tokens]"
   ]
  },
  {
   "cell_type": "code",
   "execution_count": null,
   "id": "14702f34-f05c-4ec1-9f1c-b5e9f466b9d3",
   "metadata": {},
   "outputs": [],
   "source": [
    "_, cache = model.run_with_cache(tokens)"
   ]
  },
  {
   "cell_type": "code",
   "execution_count": null,
   "id": "13c3ea7d-728b-40f4-98de-942d06395dc7",
   "metadata": {},
   "outputs": [],
   "source": [
    "embed = cache[\"hook_embed\"]"
   ]
  },
  {
   "cell_type": "code",
   "execution_count": null,
   "id": "43059a44-bb73-47b4-a7eb-383933fb5a0d",
   "metadata": {},
   "outputs": [],
   "source": [
    "embed_attributions = einsum(\n",
    "    W_U_correct_tokens, embed,\n",
    "    \"embed seq, seq embed -> seq\"\n",
    ")"
   ]
  },
  {
   "cell_type": "code",
   "execution_count": null,
   "id": "d9483a24-e373-42bd-a4a0-a5d398c6675f",
   "metadata": {},
   "outputs": [],
   "source": [
    "xs = WA[:, :, 0]\n",
    "ys = WA[:, :, 1]"
   ]
  },
  {
   "cell_type": "code",
   "execution_count": 42,
   "id": "a7317a87-a45c-42e0-8621-f0461d3d4f6e",
   "metadata": {
    "tags": []
   },
   "outputs": [],
   "source": [
    "import os"
   ]
  },
  {
   "cell_type": "code",
   "execution_count": null,
   "id": "18ad210d-16bf-4957-956b-3a0a966c319d",
   "metadata": {},
   "outputs": [],
   "source": [
    "def run_worker(rank, world_size):\n",
    "    os.environ[\"MASTER_ADDR\"] = \"localhost\"\n",
    "    os.environ[\"MASTER_PORT\"] = \"29500\"\n",
    "    \n",
    "    rpc.init_rpc(rank=rank, world_size=world_size)"
   ]
  },
  {
   "cell_type": "code",
   "execution_count": null,
   "id": "432807e1-7fa6-45df-95f0-7b8ecced9d0b",
   "metadata": {},
   "outputs": [],
   "source": [
    "for rank in range(world_size):\n",
    "    process = mp.Process(\n",
    "        target=run_worker,\n",
    "        args=(rank, world_size)\n",
    "    )\n",
    "    process.start()"
   ]
  },
  {
   "cell_type": "code",
   "execution_count": null,
   "id": "b8c73ffa-87fd-4748-834d-9162adaec793",
   "metadata": {},
   "outputs": [],
   "source": [
    "p, n, i, d"
   ]
  },
  {
   "cell_type": "code",
   "execution_count": 43,
   "id": "fb6a77d1-d7d2-407f-b07b-8eafc1dade01",
   "metadata": {
    "tags": []
   },
   "outputs": [],
   "source": [
    "lock = threading.Lock()"
   ]
  },
  {
   "cell_type": "code",
   "execution_count": 44,
   "id": "521ad13b-f83c-4df2-94a0-469244a21c6b",
   "metadata": {
    "tags": []
   },
   "outputs": [],
   "source": [
    "def run_worker():\n",
    "    with lock:\n",
    "        print_numbers()"
   ]
  },
  {
   "cell_type": "code",
   "execution_count": null,
   "id": "fde26a49-f3b8-48d7-bd78-c11ff76e1f4f",
   "metadata": {},
   "outputs": [],
   "source": [
    "t1 = threading.Thread(target=run_worker)"
   ]
  },
  {
   "cell_type": "code",
   "execution_count": 45,
   "id": "5fd76097-da80-4ca4-883e-de441953dd45",
   "metadata": {
    "tags": []
   },
   "outputs": [],
   "source": [
    "from itertools import product"
   ]
  },
  {
   "cell_type": "code",
   "execution_count": null,
   "id": "af4a4127-1718-4d0c-901e-abda2f608340",
   "metadata": {},
   "outputs": [],
   "source": [
    "combinations = list(product(range(n_heads), range(n_layers)))"
   ]
  },
  {
   "cell_type": "code",
   "execution_count": null,
   "id": "07f507e2-24fd-4a80-b57f-ce628539cdf4",
   "metadata": {},
   "outputs": [],
   "source": [
    "slices = tensor.unbind(dim=0)"
   ]
  },
  {
   "cell_type": "code",
   "execution_count": null,
   "id": "0fa0f655-99c2-4798-afa2-9297ea4b1c69",
   "metadata": {},
   "outputs": [],
   "source": [
    "reset\n",
    "restore\n",
    "commit\n",
    "save"
   ]
  },
  {
   "cell_type": "code",
   "execution_count": null,
   "id": "b1617c57-81fa-463e-aa23-1a521a6d97fc",
   "metadata": {},
   "outputs": [],
   "source": [
    "for _ in range(10):\n",
    "    action = env.action_space.sample()\n",
    "    state, reward, info, _ = env.step(action)"
   ]
  },
  {
   "cell_type": "code",
   "execution_count": 47,
   "id": "b62f0a0f-aca3-4baa-a35c-c39b679909ce",
   "metadata": {
    "tags": []
   },
   "outputs": [],
   "source": [
    "from einops import rearrange"
   ]
  },
  {
   "cell_type": "code",
   "execution_count": null,
   "id": "da7a2817-7769-49f8-8855-0792afb8c2c3",
   "metadata": {},
   "outputs": [],
   "source": [
    "output = rearrange(\n",
    "    images,\n",
    "    \"bs c (n_h h_w, )\"\n",
    ")"
   ]
  }
 ],
 "metadata": {
  "kernelspec": {
   "display_name": "Python 3 (ipykernel)",
   "language": "python",
   "name": "python3"
  },
  "language_info": {
   "codemirror_mode": {
    "name": "ipython",
    "version": 3
   },
   "file_extension": ".py",
   "mimetype": "text/x-python",
   "name": "python",
   "nbconvert_exporter": "python",
   "pygments_lexer": "ipython3",
   "version": "3.8.16"
  }
 },
 "nbformat": 4,
 "nbformat_minor": 5
}
