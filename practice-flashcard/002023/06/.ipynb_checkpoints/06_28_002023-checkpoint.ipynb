{
 "cells": [
  {
   "cell_type": "markdown",
   "id": "05814016-e5dd-4a43-80d7-4f5a2a9c18a6",
   "metadata": {},
   "source": [
    "### Engineering"
   ]
  },
  {
   "cell_type": "code",
   "execution_count": 1,
   "id": "def693d2-e5e3-4063-858a-ef8a4bdb11e2",
   "metadata": {
    "tags": []
   },
   "outputs": [],
   "source": [
    "import torch\n",
    "from torch import nn\n",
    "import torch.nn.functional as F"
   ]
  },
  {
   "cell_type": "code",
   "execution_count": null,
   "id": "3e0aeaca-60aa-4c94-ac6a-2ae486147f27",
   "metadata": {},
   "outputs": [],
   "source": [
    "broadcast, gather, reduce, scatter"
   ]
  },
  {
   "cell_type": "code",
   "execution_count": 2,
   "id": "1844d4ee-fe02-400a-b592-b3911d2bb289",
   "metadata": {
    "tags": []
   },
   "outputs": [],
   "source": [
    "import threading"
   ]
  },
  {
   "cell_type": "code",
   "execution_count": 3,
   "id": "32b8027c-88ad-43e4-ba64-3aa6a5b72df8",
   "metadata": {
    "tags": []
   },
   "outputs": [],
   "source": [
    "event = threading.Event()"
   ]
  },
  {
   "cell_type": "code",
   "execution_count": null,
   "id": "bc7b5919-585a-41c4-9a09-06efbbb10236",
   "metadata": {},
   "outputs": [],
   "source": [
    "def run_worker():\n",
    "    event.wait()"
   ]
  },
  {
   "cell_type": "code",
   "execution_count": null,
   "id": "824f0c6d-4e4a-4dcd-98df-c5a0b6ae3f27",
   "metadata": {},
   "outputs": [],
   "source": [
    "worker_thread = threading.Thread(\n",
    "    target=run_worker\n",
    ")"
   ]
  },
  {
   "cell_type": "code",
   "execution_count": null,
   "id": "a62740dd-8472-49a8-b501-54a1c6b9b6a3",
   "metadata": {},
   "outputs": [],
   "source": [
    "#include <iostream>"
   ]
  },
  {
   "cell_type": "code",
   "execution_count": null,
   "id": "7fa1465a-55a5-4c1b-a0b8-63a0f2b6ddc6",
   "metadata": {},
   "outputs": [],
   "source": [
    "using namespace std;"
   ]
  },
  {
   "cell_type": "code",
   "execution_count": null,
   "id": "e73287fb-611c-47c2-86a5-2dacf307f7d2",
   "metadata": {},
   "outputs": [],
   "source": [
    "class Book() {\n",
    "    public:\n",
    "        string title;\n",
    "    \n",
    "        Book(aTitle) {\n",
    "            title = aTitle;\n",
    "        }\n",
    "}"
   ]
  },
  {
   "cell_type": "code",
   "execution_count": null,
   "id": "18ab5707-e8be-4439-93f6-9898b185027d",
   "metadata": {},
   "outputs": [],
   "source": [
    "int* ptr = (int*)malloc(69)"
   ]
  },
  {
   "cell_type": "code",
   "execution_count": null,
   "id": "e0d65640-7fc5-4113-ae92-caad186093a9",
   "metadata": {},
   "outputs": [],
   "source": [
    "def gather_tensors(x):\n",
    "    world_size = torch.distributed.get_world_size()\n",
    "    xs = [torch.empty_like(x) for _ in range(world_size)]\n",
    "    torch.distributed.all_gather(xs, x)\n",
    "    xs = torch.cat(xs, dim=-1)\n",
    "    return xs"
   ]
  },
  {
   "cell_type": "code",
   "execution_count": 4,
   "id": "a65d5b45-5b55-4fbb-b81f-efd2ea621549",
   "metadata": {
    "tags": []
   },
   "outputs": [],
   "source": [
    "import socketserver"
   ]
  },
  {
   "cell_type": "code",
   "execution_count": null,
   "id": "6a46480a-df9a-437c-9913-41459a4cfd0a",
   "metadata": {},
   "outputs": [],
   "source": [
    "class EchoRequestHandler(socketserver.StreamRequestHandler):\n",
    "    def handle(self):\n",
    "        print(self.rfile.readline())"
   ]
  },
  {
   "cell_type": "code",
   "execution_count": 5,
   "id": "eb3c3946-19f7-4669-9923-693208a379d1",
   "metadata": {
    "tags": []
   },
   "outputs": [],
   "source": [
    "lock = threading.Lock()"
   ]
  },
  {
   "cell_type": "code",
   "execution_count": null,
   "id": "747e4d4a-79ea-4a24-a2c4-076970d9c1c2",
   "metadata": {},
   "outputs": [],
   "source": [
    "def run_worker():\n",
    "    with lock:\n",
    "        print_numbers()"
   ]
  },
  {
   "cell_type": "code",
   "execution_count": null,
   "id": "38c9cf35-3117-42a8-b580-2b109c9b3bf5",
   "metadata": {},
   "outputs": [],
   "source": [
    "t1 = threading.Thread(target=run_worker)"
   ]
  },
  {
   "cell_type": "code",
   "execution_count": 8,
   "id": "6bea6479-fce6-45bf-8411-a18214b68753",
   "metadata": {
    "tags": []
   },
   "outputs": [],
   "source": [
    "def wait_stream(source_stream, target_stream):\n",
    "    if isinstance(target_stream, torch.cuda.Stream):\n",
    "        if isinstance(source_stream, torch.cuda.Stream):\n",
    "            # GPU waits for GPU\n",
    "            source_stream.wait_stream(target_stream)\n",
    "        else:\n",
    "            # GPU waits for CPU\n",
    "            target_stream.syncronous()"
   ]
  },
  {
   "cell_type": "code",
   "execution_count": 9,
   "id": "6018a378-984a-4ee9-96c7-2c0bce82ae81",
   "metadata": {
    "tags": []
   },
   "outputs": [],
   "source": [
    "class Wait(torch.autograd.Function):\n",
    "    @staticmethod\n",
    "    def forward(ctx, prev_stream, next_stream, input):\n",
    "        ctx.prev_stream = prev_stream\n",
    "        ctx.next_stream = next_stream\n",
    "        \n",
    "        wait_stream(\n",
    "            source_stream=next_stream,\n",
    "            target_stream=prev_stream\n",
    "        )\n",
    "        return input\n",
    "    \n",
    "    @staticmethod\n",
    "    def backward(ctx, grad_output):\n",
    "        prev_stream = ctx.prev_stream\n",
    "        next_stream = ctx.next_stream\n",
    "        \n",
    "        wait_stream(\n",
    "            source_stream=prev_stream,\n",
    "            target_stream=next_stream\n",
    "        )\n",
    "        \n",
    "        return input"
   ]
  },
  {
   "cell_type": "code",
   "execution_count": 10,
   "id": "fa4d3bdd-b07a-446e-ae24-02f9701afa43",
   "metadata": {
    "tags": []
   },
   "outputs": [],
   "source": [
    "from functools import wraps"
   ]
  },
  {
   "cell_type": "code",
   "execution_count": 11,
   "id": "a8970c49-b9e8-4631-a956-fdf07ad6d8ce",
   "metadata": {
    "tags": []
   },
   "outputs": [],
   "source": [
    "def my_decorator(func):\n",
    "    @wraps(func)\n",
    "    def wrapper(*args, **kwargs):\n",
    "        return func()\n",
    "    \n",
    "    return wrapper"
   ]
  },
  {
   "cell_type": "code",
   "execution_count": 12,
   "id": "813a37f5-d5ec-432d-954a-573c40593a21",
   "metadata": {
    "tags": []
   },
   "outputs": [],
   "source": [
    "import socketserver"
   ]
  },
  {
   "cell_type": "code",
   "execution_count": null,
   "id": "56b98c28-bda9-4a80-bcb3-3eeb63dabc5a",
   "metadata": {},
   "outputs": [],
   "source": [
    "with socketserver.ThreadingTCPServer((MASTER_HOST, MASTER_ADDR), EchoHanderl) as server:\n",
    "    server.server_forever()"
   ]
  },
  {
   "cell_type": "code",
   "execution_count": null,
   "id": "a0c1e062-3d22-4c63-8a11-afd464d5565c",
   "metadata": {},
   "outputs": [],
   "source": [
    "client: send\n",
    "manager: handle\n",
    "service: receive"
   ]
  },
  {
   "cell_type": "code",
   "execution_count": 13,
   "id": "272b07dd-b417-4a7d-9198-6a711832c39e",
   "metadata": {
    "tags": []
   },
   "outputs": [],
   "source": [
    "import socketserver"
   ]
  },
  {
   "cell_type": "code",
   "execution_count": 14,
   "id": "c4888aac-3b15-4e61-a0ad-0f0fbe2a32d6",
   "metadata": {
    "tags": []
   },
   "outputs": [],
   "source": [
    "class EchoRequestHandler(socketserver.StreamRequestHandler):\n",
    "    def handle(self):\n",
    "        pass"
   ]
  },
  {
   "cell_type": "code",
   "execution_count": 15,
   "id": "49096047-c44d-4fbc-b915-f3cb414d9c31",
   "metadata": {
    "tags": []
   },
   "outputs": [],
   "source": [
    "n_microbatches, n_partritions = 4, 3"
   ]
  },
  {
   "cell_type": "code",
   "execution_count": 16,
   "id": "c030048f-b520-4f09-be9e-004148354d0a",
   "metadata": {
    "tags": []
   },
   "outputs": [],
   "source": [
    "n_clock_cycles = n_microbatches+n_partritions-1"
   ]
  },
  {
   "cell_type": "code",
   "execution_count": 17,
   "id": "37e4d2e7-230d-42f5-8de5-b25229fa1a15",
   "metadata": {
    "tags": []
   },
   "outputs": [
    {
     "data": {
      "text/plain": [
       "6"
      ]
     },
     "execution_count": 17,
     "metadata": {},
     "output_type": "execute_result"
    }
   ],
   "source": [
    "n_clock_cycles"
   ]
  },
  {
   "cell_type": "code",
   "execution_count": 20,
   "id": "e423fa2d-8fa9-4ad5-b7ca-acf7cc20bae2",
   "metadata": {
    "tags": []
   },
   "outputs": [
    {
     "name": "stdout",
     "output_type": "stream",
     "text": [
      "[(0, 0)]\n",
      "[(1, 0), (0, 1)]\n",
      "[(2, 0), (1, 1), (0, 2)]\n",
      "[(3, 0), (2, 1), (1, 2)]\n",
      "[(3, 1), (2, 2)]\n",
      "[(3, 2)]\n"
     ]
    }
   ],
   "source": [
    "for clock_idx in range(n_clock_cycles):\n",
    "    start_partrition = max(clock_idx+1-n_microbatches, 0)\n",
    "    end_partrition = min(clock_idx+1, n_partritions)\n",
    "    \n",
    "    tasks = []\n",
    "    for partrition_idx in range(start_partrition, end_partrition):\n",
    "        microbatch_idx = clock_idx - partrition_idx\n",
    "        tasks.append((microbatch_idx, partrition_idx))\n",
    "    \n",
    "    print(tasks)"
   ]
  },
  {
   "cell_type": "code",
   "execution_count": null,
   "id": "8bbba031-df5c-4c87-ac9e-f84f2b8f499a",
   "metadata": {},
   "outputs": [],
   "source": [
    "class Recompute(torch.autograd.Function):\n",
    "    @staticmethod\n",
    "    def forward(ctx, phony, recomputed, function, input):\n",
    "        ctx.recomputed = recomputed\n",
    "        ctx.function = function\n",
    "        ctx.input = input\n",
    "        \n",
    "        return phony\n",
    "    \n",
    "    @staticmethod\n",
    "    def backward(ctx, grad_input):\n",
    "        function = ctx.function\n",
    "        input = ctx.input\n",
    "        input_leaf = input.detach().requires_grad_(input.requires_grad)\n",
    "        \n",
    "        with torch.grad_enabled():\n",
    "            output = function(input_leaf)\n",
    "        \n",
    "        ctx.recomputed.append((output, input_leaf))\n",
    "        \n",
    "        grad = [None, None, None]\n",
    "        \n",
    "        if input_leaf.requires_grad:\n",
    "            grad.extend([input_leaf])"
   ]
  },
  {
   "cell_type": "code",
   "execution_count": null,
   "id": "d54c2f34-76b9-41bb-9d8d-399466a857ec",
   "metadata": {},
   "outputs": [],
   "source": [
    "int* h_a, h_b, h_c;"
   ]
  },
  {
   "cell_type": "code",
   "execution_count": null,
   "id": "32b3f179-ae6e-466a-82ec-9a117bc983ad",
   "metadata": {},
   "outputs": [],
   "source": [
    "size_t size = sizeof(int)*n"
   ]
  },
  {
   "cell_type": "code",
   "execution_count": null,
   "id": "abbc4c0a-a1e6-4ca7-8622-7b7976e56614",
   "metadata": {},
   "outputs": [],
   "source": [
    "h_a = (int*)malloc(size)\n",
    "h_b = (int*)malloc(size)\n",
    "h_c = (int*)malloc(size)"
   ]
  },
  {
   "cell_type": "code",
   "execution_count": null,
   "id": "c40565da-dc56-49aa-9cbf-32093eaf8889",
   "metadata": {},
   "outputs": [],
   "source": [
    "main worker > worker > task > cuda stream"
   ]
  },
  {
   "cell_type": "code",
   "execution_count": null,
   "id": "f76c0b48-9bcf-4a0a-8a73-fc5c9c3e5717",
   "metadata": {},
   "outputs": [],
   "source": [
    "event = threading.Event()"
   ]
  },
  {
   "cell_type": "code",
   "execution_count": null,
   "id": "aab607b5-f2d7-4bc5-90bc-665a1e412508",
   "metadata": {},
   "outputs": [],
   "source": [
    "def run_worker():\n",
    "    event.wait()"
   ]
  },
  {
   "cell_type": "code",
   "execution_count": null,
   "id": "3c17e775-daed-4bc2-972f-a79f45186e8c",
   "metadata": {},
   "outputs": [],
   "source": [
    "worker_thread = threading.Thread(target=run_worker)"
   ]
  },
  {
   "cell_type": "code",
   "execution_count": 21,
   "id": "d4ef3676-e53b-4cb7-8f68-8c3c9d428c3b",
   "metadata": {
    "tags": []
   },
   "outputs": [],
   "source": [
    "class Checkpoint(torch.autograd.Function):\n",
    "    @staticmethod\n",
    "    def forward(ctx, phony, recomputed, function, input):\n",
    "        ctx.recomputed = recomputed\n",
    "        ctx.function = function\n",
    "        ctx.input = input\n",
    "        \n",
    "        with torch.no_grad():\n",
    "            output = function(input)\n",
    "        \n",
    "        return input\n",
    "    \n",
    "    @staticmethod\n",
    "    def backward(ctx, grad_output):\n",
    "        output, input_leaf = ctx.recomputed.pop()\n",
    "        \n",
    "        if input_leaf.requires_grad:\n",
    "            torch.autograd.backward(output, grad_output)\n",
    "        \n",
    "        grad = [None, None, None]\n",
    "        \n",
    "        if input_leaf.requires_grad:\n",
    "            grad.extend([input_leaf.grad])\n",
    "        else:\n",
    "            grad.extend([None])\n",
    "            \n",
    "        return tuple(grad)"
   ]
  },
  {
   "cell_type": "code",
   "execution_count": null,
   "id": "dbd162b8-71f2-489a-bd2c-2ad599ac0043",
   "metadata": {},
   "outputs": [],
   "source": [
    "def by_row_parallelism(inputs, weights):\n",
    "    inp_partrition_size = input.shape[-1] // 2\n",
    "    w_partrition_size = weights.shape[0] // 2\n",
    "    \n",
    "    inp1 = inputs[:, :inp_partrition_size]\n",
    "    inp2 = inputs[:, inp_partrition_size:]\n",
    "    \n",
    "    w1 = weights[:w_partrition_size, :]\n",
    "    w2 = weights[w_partrition_size:, :]\n",
    "    \n",
    "    out1 = inp1 @ w1\n",
    "    out2 = inp2 @ w2\n",
    "    \n",
    "    return out1 + out2"
   ]
  },
  {
   "cell_type": "code",
   "execution_count": null,
   "id": "59d03aeb-320e-4e56-96e5-d339d0948477",
   "metadata": {},
   "outputs": [],
   "source": [
    "criteria 1:\n",
    "criteria 2: "
   ]
  },
  {
   "cell_type": "code",
   "execution_count": null,
   "id": "979c4161-88ba-4c9a-b2a3-95af7798dcf4",
   "metadata": {},
   "outputs": [],
   "source": [
    "with socketserver.ThreadingTCPServer(\n",
    "    (MASTER_HOST, MASTER_PORT),\n",
    "    EchoRequestHandler\n",
    ") as server:\n",
    "    server.serve_forever()"
   ]
  },
  {
   "cell_type": "code",
   "execution_count": null,
   "id": "52ac1c50-d921-424f-a928-f553b0faa321",
   "metadata": {},
   "outputs": [],
   "source": [
    "def by_column_parallelism(inputs, weights):\n",
    "    partrition_size = weights.shape[-1] // 2\n",
    "    \n",
    "    w1, w2 = weights[:, :partrition_size], weights[:, partrition_size:]\n",
    "    out1 = inputs @ w1\n",
    "    out2 = inputs @ w2\n",
    "    \n",
    "    return torch.cat([out1, out2], dim=-1)"
   ]
  },
  {
   "cell_type": "code",
   "execution_count": null,
   "id": "849afc29-51be-44ca-bd81-3489353e3f1e",
   "metadata": {},
   "outputs": [],
   "source": [
    "client, manager, service"
   ]
  },
  {
   "cell_type": "code",
   "execution_count": 22,
   "id": "2e220055-5707-4f9f-8b63-e4144b2d735a",
   "metadata": {
    "tags": []
   },
   "outputs": [],
   "source": [
    "n_microbatches = 4\n",
    "n_partritions = 3"
   ]
  },
  {
   "cell_type": "code",
   "execution_count": 24,
   "id": "a815f64a-15c4-4ee5-b8fe-051116701224",
   "metadata": {
    "tags": []
   },
   "outputs": [],
   "source": [
    "n_clock_cycles = n_microbatches + n_partritions - 1"
   ]
  },
  {
   "cell_type": "code",
   "execution_count": 25,
   "id": "a633de16-63c4-49a7-b1c6-c1caee838449",
   "metadata": {
    "tags": []
   },
   "outputs": [
    {
     "name": "stdout",
     "output_type": "stream",
     "text": [
      "[(0, 0)]\n",
      "[(1, 0), (0, 1)]\n",
      "[(2, 0), (1, 1), (0, 2)]\n",
      "[(3, 0), (2, 1), (1, 2)]\n",
      "[(3, 1), (2, 2)]\n",
      "[(3, 2)]\n"
     ]
    }
   ],
   "source": [
    "for clock_idx in range(n_clock_cycles):\n",
    "    start_partrition = max(clock_idx+1-n_microbatches, 0)\n",
    "    end_partrition = min(clock_idx+1, n_partritions)\n",
    "    \n",
    "    tasks = []\n",
    "    for partrition_idx in range(start_partrition, end_partrition):\n",
    "        microbatch_idx = clock_idx - partrition_idx\n",
    "        tasks.append((microbatch_idx, partrition_idx))\n",
    "        \n",
    "    print(tasks)"
   ]
  },
  {
   "cell_type": "code",
   "execution_count": null,
   "id": "fcf8cbcd-8cbb-46ca-a023-ea6d776ba188",
   "metadata": {},
   "outputs": [],
   "source": [
    "Checkpoint.forward() > Recompute.forward() > Recompute.backward() > Checkpoint.backward()"
   ]
  },
  {
   "cell_type": "markdown",
   "id": "85eb815b-3773-427c-b1ac-45d204f5d95a",
   "metadata": {},
   "source": [
    "### MLE"
   ]
  },
  {
   "cell_type": "code",
   "execution_count": null,
   "id": "39d59535-4c89-4e1a-9eb1-04bb157740f7",
   "metadata": {},
   "outputs": [],
   "source": [
    "@app.get(\"/users/{uid}\")\n",
    "def get_user(uid: int):\n",
    "    pass"
   ]
  },
  {
   "cell_type": "code",
   "execution_count": 26,
   "id": "16658b17-f99b-45ea-be59-0082280708e4",
   "metadata": {
    "tags": []
   },
   "outputs": [],
   "source": [
    "from typing import Optional"
   ]
  },
  {
   "cell_type": "code",
   "execution_count": null,
   "id": "21bbbd65-5d08-4fe8-b74a-01e5d6891fa6",
   "metadata": {},
   "outputs": [],
   "source": [
    "@app.get(\"/files\")\n",
    "def files(is_deleted: Optional):\n",
    "    pass"
   ]
  },
  {
   "cell_type": "code",
   "execution_count": 27,
   "id": "82b70b0d-3c51-41f8-9da6-9660385652f7",
   "metadata": {
    "tags": []
   },
   "outputs": [],
   "source": [
    "from airflow.decorators import dag\n",
    "from airflow.operators.python import PythonOperator"
   ]
  },
  {
   "cell_type": "code",
   "execution_count": null,
   "id": "9a1a01d8-223b-4d74-a8eb-47613a261c3b",
   "metadata": {},
   "outputs": [],
   "source": [
    "@dag(dag_id=dag_id)\n",
    "def dag():\n",
    "    task_1 = PythonOperator(\n",
    "        python_callable=say_hello,\n",
    "        task_id=\"tasl_1 \"\n",
    "    )"
   ]
  },
  {
   "cell_type": "code",
   "execution_count": 28,
   "id": "2475feae-db17-40cf-83ce-b6b26fcbe13b",
   "metadata": {
    "tags": []
   },
   "outputs": [],
   "source": [
    "from fastapi import status"
   ]
  },
  {
   "cell_type": "code",
   "execution_count": null,
   "id": "82678a4a-2959-4608-91ae-2d3403af2923",
   "metadata": {},
   "outputs": [],
   "source": [
    "@app.get(\"/blog\", status=status.HTTP_404_NOT_FOUND)\n",
    "def blog():\n",
    "    pass"
   ]
  },
  {
   "cell_type": "markdown",
   "id": "fcfebfbf-8340-4b6e-9afd-8796d78a9907",
   "metadata": {},
   "source": [
    "### Engineering"
   ]
  },
  {
   "cell_type": "code",
   "execution_count": null,
   "id": "b559da83-953f-4037-b74b-8a99395f7509",
   "metadata": {},
   "outputs": [],
   "source": [
    "target_tokens = tokens[1:]"
   ]
  },
  {
   "cell_type": "code",
   "execution_count": null,
   "id": "a461dda0-d997-4b27-9367-dbbdc1db827b",
   "metadata": {},
   "outputs": [],
   "source": [
    "W_U = model.W_U\n",
    "W_U_correct_tokens = W_U[:, target_tokens]"
   ]
  },
  {
   "cell_type": "code",
   "execution_count": null,
   "id": "ddb99313-e67e-4fdf-979a-6ca4a08c6a7b",
   "metadata": {},
   "outputs": [],
   "source": [
    "_, cache = model.run_with_cache(tokens)"
   ]
  },
  {
   "cell_type": "code",
   "execution_count": null,
   "id": "eba1ec56-6f7d-4915-8635-fbb95baf004c",
   "metadata": {},
   "outputs": [],
   "source": [
    "embed = cache[hook_name]"
   ]
  },
  {
   "cell_type": "code",
   "execution_count": 30,
   "id": "7aad5ce4-7204-48be-8f58-9eda8a413603",
   "metadata": {
    "tags": []
   },
   "outputs": [],
   "source": [
    "from einops import einsum"
   ]
  },
  {
   "cell_type": "code",
   "execution_count": null,
   "id": "b3317b55-83eb-4439-b572-bdac88684609",
   "metadata": {},
   "outputs": [],
   "source": [
    "embed_attributions = einsum(\n",
    "    W_U_correct_tokens,\n",
    "    embed[:-1]\n",
    ")"
   ]
  },
  {
   "cell_type": "code",
   "execution_count": null,
   "id": "35d9dfd1-6fe1-4c0b-a28b-8608ba1e8c04",
   "metadata": {},
   "outputs": [],
   "source": [
    "tokens = model.to_tokens(repeated_text)"
   ]
  },
  {
   "cell_type": "code",
   "execution_count": null,
   "id": "3c6dcfbc-75b3-49f8-a0a5-98e25677c36f",
   "metadata": {},
   "outputs": [],
   "source": [
    "_, cache = model.to_tokens(tokens)"
   ]
  },
  {
   "cell_type": "code",
   "execution_count": null,
   "id": "b7656810-8894-4942-b413-a23471705e8a",
   "metadata": {},
   "outputs": [],
   "source": [
    "induction_heads = [(6, 9), (4, 2)]"
   ]
  },
  {
   "cell_type": "code",
   "execution_count": null,
   "id": "b8482d51-7d29-4368-88cc-bd7744cde4c9",
   "metadata": {},
   "outputs": [],
   "source": [
    "attention_patterns = []"
   ]
  },
  {
   "cell_type": "code",
   "execution_count": 31,
   "id": "c835887d-2731-4f7b-ac8c-2b21a8be24fb",
   "metadata": {
    "tags": []
   },
   "outputs": [],
   "source": [
    "from transformer_lens.utils import get_act_name"
   ]
  },
  {
   "cell_type": "code",
   "execution_count": null,
   "id": "f1f91334-715b-4e41-8436-cd623339db25",
   "metadata": {},
   "outputs": [],
   "source": [
    "for head_idx, layer_idx in range(induction_heads):\n",
    "    hook_name = get_act_name(\"attn\", layer_idx)\n",
    "    attention_patterns.append(cache[hook_name][0, head_idx])"
   ]
  },
  {
   "cell_type": "code",
   "execution_count": 32,
   "id": "10ffbca7-8c24-440a-bb7b-a3f35252862c",
   "metadata": {
    "tags": []
   },
   "outputs": [],
   "source": [
    "from transformer_lens import HookedTransformer, HookedTransformerConfig"
   ]
  },
  {
   "cell_type": "code",
   "execution_count": null,
   "id": "dd93055d-a3d1-495d-bca4-5f0f48450fd7",
   "metadata": {},
   "outputs": [],
   "source": [
    "config = HookedTransformerConfig(**params)"
   ]
  },
  {
   "cell_type": "code",
   "execution_count": null,
   "id": "5cbadc0f-125e-4904-b529-1668fbba6f8d",
   "metadata": {},
   "outputs": [],
   "source": [
    "model = HookedTransformer(cfg=config)"
   ]
  },
  {
   "cell_type": "code",
   "execution_count": null,
   "id": "17a011a1-b6d3-4732-a282-ef7e616565d1",
   "metadata": {},
   "outputs": [],
   "source": []
  },
  {
   "cell_type": "code",
   "execution_count": null,
   "id": "71729744-f4d7-4ede-9204-6e140beb8975",
   "metadata": {},
   "outputs": [],
   "source": [
    "slices = tensor.unbind(dim=0)"
   ]
  },
  {
   "cell_type": "code",
   "execution_count": null,
   "id": "f55c64eb-7655-478c-bb7b-72eb4d7ce81a",
   "metadata": {},
   "outputs": [],
   "source": [
    "step 1: prompt yes and no\n",
    "step 2:"
   ]
  },
  {
   "cell_type": "code",
   "execution_count": null,
   "id": "15e721c0-71b8-45af-97c2-1b347ca15675",
   "metadata": {},
   "outputs": [],
   "source": [
    "unemed(ln_final(final_residual_stream))"
   ]
  },
  {
   "cell_type": "code",
   "execution_count": null,
   "id": "78d5437f-32b4-4d7b-85b4-34c1c3698161",
   "metadata": {},
   "outputs": [],
   "source": [
    "model.run_with_cache(\n",
    "    names_filter=lambda x: x.endswith(\"mlp_out\")\n",
    ")"
   ]
  },
  {
   "cell_type": "code",
   "execution_count": null,
   "id": "52bdef90-5515-4591-97ec-3b9160c51b9c",
   "metadata": {},
   "outputs": [],
   "source": [
    "_, cache = model.run_with_cache(\n",
    "    tokens\n",
    ")"
   ]
  },
  {
   "cell_type": "code",
   "execution_count": 33,
   "id": "21a48427-48a6-407e-802c-dc2e042ada95",
   "metadata": {
    "tags": []
   },
   "outputs": [],
   "source": [
    "from transformer_lens.utils import get_act_name"
   ]
  },
  {
   "cell_type": "code",
   "execution_count": 34,
   "id": "57a8d269-2027-4ada-b0c0-aef58ddd2584",
   "metadata": {
    "tags": []
   },
   "outputs": [],
   "source": [
    "hook_name = get_act_name(\"pattern\", 0, \"attn\")"
   ]
  },
  {
   "cell_type": "code",
   "execution_count": 35,
   "id": "5b70f649-8999-4529-ab06-b7fe25c07562",
   "metadata": {
    "tags": []
   },
   "outputs": [
    {
     "data": {
      "text/plain": [
       "'blocks.0.attn.hook_pattern'"
      ]
     },
     "execution_count": 35,
     "metadata": {},
     "output_type": "execute_result"
    }
   ],
   "source": [
    "hook_name"
   ]
  },
  {
   "cell_type": "code",
   "execution_count": null,
   "id": "a34fc404-97d2-4c2c-87fb-436907cb6fb7",
   "metadata": {},
   "outputs": [],
   "source": []
  },
  {
   "cell_type": "code",
   "execution_count": null,
   "id": "0055d7ff-c965-4218-ae4c-77d2703830a0",
   "metadata": {},
   "outputs": [],
   "source": [
    "def patch(activations, hook):\n",
    "    return activations[:, 1, :] = clean_acts[hook.name][:, 1, :]"
   ]
  },
  {
   "cell_type": "code",
   "execution_count": null,
   "id": "931e3bbf-89ce-41f1-9194-b3b2fe50fee5",
   "metadata": {},
   "outputs": [],
   "source": [
    "patched_logits = model.run_with_cache(\n",
    "    clean_tokens,\n",
    "    fwd_hooks=[(hook_name, patch)]\n",
    ")"
   ]
  },
  {
   "cell_type": "code",
   "execution_count": 36,
   "id": "f3b56fda-a9fc-4c21-be90-9ca0e8d425b8",
   "metadata": {
    "tags": []
   },
   "outputs": [],
   "source": [
    "from itertools import product"
   ]
  },
  {
   "cell_type": "code",
   "execution_count": null,
   "id": "67bcd707-33ff-496e-a758-40dffc0dc2f4",
   "metadata": {},
   "outputs": [],
   "source": [
    "combinations = list(product(range(n_heads), range(n_layers)))"
   ]
  },
  {
   "cell_type": "code",
   "execution_count": null,
   "id": "f45524f1-79fa-49e7-a70f-458d00b9f920",
   "metadata": {},
   "outputs": [],
   "source": [
    "corrupted_prompt = \"John told Mary: 'Persistence is all you need.' Mary replied back to \""
   ]
  },
  {
   "cell_type": "code",
   "execution_count": null,
   "id": "8a908758-7a74-4cb1-8ee8-58e71e1394e5",
   "metadata": {},
   "outputs": [],
   "source": [
    "clean_tokens = model.to_tokens(prompt)"
   ]
  },
  {
   "cell_type": "code",
   "execution_count": null,
   "id": "a8f871fc-523b-4fc3-ad15-b738bddc63f0",
   "metadata": {},
   "outputs": [],
   "source": [
    "corrupted_tokens = model.to_tokens(corrupted_prompt)"
   ]
  },
  {
   "cell_type": "code",
   "execution_count": null,
   "id": "ccd3d5a6-d560-4c2e-98d0-28637268de3b",
   "metadata": {},
   "outputs": [],
   "source": [
    ", corrupted_activations = model.run_with_cache(\n",
    "    corrupted_tokens\n",
    ")"
   ]
  },
  {
   "cell_type": "code",
   "execution_count": 37,
   "id": "b42037eb-d265-4ba0-80fe-d7df91f1b49b",
   "metadata": {
    "tags": []
   },
   "outputs": [],
   "source": [
    "head_idx, layer_idx = 6, 9"
   ]
  },
  {
   "cell_type": "code",
   "execution_count": null,
   "id": "a2d1815e-6ed9-4435-b86c-1a3c7651f32c",
   "metadata": {},
   "outputs": [],
   "source": [
    "hook_name = get_act_name(\"attn\", layer_idx)"
   ]
  },
  {
   "cell_type": "code",
   "execution_count": null,
   "id": "7b5b976a-9c23-4377-8dd7-9789b6aafceb",
   "metadata": {},
   "outputs": [],
   "source": [
    "corrupted_head = corrupted_activations[hook_name][0, head_idx, :, :]"
   ]
  },
  {
   "cell_type": "code",
   "execution_count": 38,
   "id": "a51c2924-9347-4f2c-bfae-3f60e8aafac7",
   "metadata": {
    "tags": []
   },
   "outputs": [],
   "source": [
    "def patch_corrupted_head(activations, hook):\n",
    "    activations[hook_name][0, head_idx, :, :] = corrupted_head\n",
    "    return activations"
   ]
  },
  {
   "cell_type": "code",
   "execution_count": null,
   "id": "66e4198b-c40d-41bd-a23c-40e33d26d4ea",
   "metadata": {},
   "outputs": [],
   "source": [
    "_, patched_activations = model.run_with_cache(\n",
    "    clean_tokens,\n",
    "    fwd_hooks=[(hook_name, patch_corrupted_activations)]\n",
    ")"
   ]
  },
  {
   "cell_type": "code",
   "execution_count": null,
   "id": "f4c5cff8-ddf0-4751-af81-d1340ae86aa0",
   "metadata": {},
   "outputs": [],
   "source": [
    "corrupted_receiver = patched_activations[receiver_hook_name]"
   ]
  },
  {
   "cell_type": "code",
   "execution_count": null,
   "id": "117a87f6-ed33-4ded-accc-2c50691f3aca",
   "metadata": {},
   "outputs": [],
   "source": [
    "def patch_corrupted_receiver(activations, hook):\n",
    "    return corrupted_receiver"
   ]
  },
  {
   "cell_type": "code",
   "execution_count": null,
   "id": "8930ee90-448c-4f86-9035-c9c799c9b5cf",
   "metadata": {},
   "outputs": [],
   "source": [
    "logits, _ = model.run_with_cache(\n",
    "    clean_tokens,\n",
    "    fwd_hooks=[(receiver_hook_name, patch_corrupted_receiver)]\n",
    ")"
   ]
  },
  {
   "cell_type": "code",
   "execution_count": null,
   "id": "8f95c826-b293-4a5c-9a75-15ecfc7afe0b",
   "metadata": {},
   "outputs": [],
   "source": [
    "target_token = model.to_single_token(\" John\")"
   ]
  },
  {
   "cell_type": "code",
   "execution_count": null,
   "id": "a65bb60c-17d0-4016-8841-fe43bcc34c93",
   "metadata": {},
   "outputs": [],
   "source": [
    "def compute_logit_diff(clean_logits, corrupted_logits, target_token):\n",
    "    return clean_logits[:, -1, :][target_token] - corrupted_logits[:, -1, :][target_token]"
   ]
  },
  {
   "cell_type": "code",
   "execution_count": null,
   "id": "e8485220-a455-49d0-a814-ab8bb91972c4",
   "metadata": {},
   "outputs": [],
   "source": [
    "logits = unembed @ final_residual_stream\n",
    "\n",
    "final_residual = embed + layer_1 + layer_2\n",
    "\n",
    "logits = unembed @ (embed + layer_1 + layer_2)\n",
    "= unembed @ embed + unembed @ layer_1 + unembed @ layer_2"
   ]
  },
  {
   "cell_type": "code",
   "execution_count": 41,
   "id": "dd3fd56f-8d2d-4e1c-a7d0-4b8d47f8383c",
   "metadata": {
    "tags": []
   },
   "outputs": [],
   "source": [
    "import torch.distributed.rpc as rpc\n",
    "from torch.distributed.rpc import RRef"
   ]
  },
  {
   "cell_type": "code",
   "execution_count": 42,
   "id": "c8550e14-a042-490c-9a40-1508fa267cb2",
   "metadata": {
    "tags": []
   },
   "outputs": [],
   "source": [
    "class Agent:\n",
    "    def __init__(self):\n",
    "        self.id = RRef(self)"
   ]
  },
  {
   "cell_type": "code",
   "execution_count": 44,
   "id": "ce9ab812-29a8-43fb-85f5-932023454ed9",
   "metadata": {
    "tags": []
   },
   "outputs": [],
   "source": [
    "from einops import einsum"
   ]
  },
  {
   "cell_type": "code",
   "execution_count": null,
   "id": "6fe267d5-4e4a-4cfa-a658-b279d9948c09",
   "metadata": {},
   "outputs": [],
   "source": [
    "output = einsum(\n",
    "    x, y, \"b d, b d ->\"\n",
    ")"
   ]
  },
  {
   "cell_type": "code",
   "execution_count": null,
   "id": "7b8b6c62-a352-4571-80c6-7cc7f1b730b9",
   "metadata": {},
   "outputs": [],
   "source": [
    "rpc.get_worker_info(worker_id)"
   ]
  },
  {
   "cell_type": "code",
   "execution_count": null,
   "id": "d45bb213-90ae-4e5a-9a43-99812fce89d9",
   "metadata": {},
   "outputs": [],
   "source": [
    "agent_rref.rpc_rpc_sync().init(\"heloo\")"
   ]
  },
  {
   "cell_type": "code",
   "execution_count": null,
   "id": "472bb4ce-e711-4c64-b6c9-90a18f1a50d0",
   "metadata": {},
   "outputs": [],
   "source": [
    "class Observer:\n",
    "    def __init__(self, env):\n",
    "        self.env = env\n",
    "        self.id = RRef(self)\n",
    "    \n",
    "    def run_episode(self, agent_rref):\n",
    "        state, _ = env.reset()\n",
    "        \n",
    "        for _ in range(69):\n",
    "            action = agent_rref.rpc_sync().select_action(\n",
    "                observer_id=self.id,\n",
    "                state=state\n",
    "            )\n",
    "            \n",
    "            state, reward, done, _ = env.step()\n",
    "            \n",
    "            if done: break"
   ]
  },
  {
   "cell_type": "code",
   "execution_count": 46,
   "id": "8e6acf70-deba-4ce7-bc26-2e78be8c4e3c",
   "metadata": {
    "tags": []
   },
   "outputs": [],
   "source": [
    "import torch\n",
    "from torch import nn\n",
    "import torch.nn.functional as F"
   ]
  },
  {
   "cell_type": "code",
   "execution_count": null,
   "id": "224112f4-0a31-4dce-951c-862b8507f34a",
   "metadata": {},
   "outputs": [],
   "source": [
    "text_similarities = text_embeddings @ text_embeddings.T\n",
    "image_similarities = image_embeddings @ image_embeddings.T"
   ]
  },
  {
   "cell_type": "code",
   "execution_count": null,
   "id": "93e1abf9-eaf0-4333-90b2-bc97f4cd7624",
   "metadata": {},
   "outputs": [],
   "source": [
    "target = F.softmax(\n",
    "    (text_similarities + image_similarities) / (2*temperature),\n",
    "    dim=-1\n",
    ")"
   ]
  },
  {
   "cell_type": "code",
   "execution_count": null,
   "id": "915311dd-fa98-458d-a667-77195f7d04cf",
   "metadata": {},
   "outputs": [],
   "source": [
    "image encoder, text encoder, project"
   ]
  },
  {
   "cell_type": "code",
   "execution_count": null,
   "id": "48754bb5-f0b1-445b-9c26-f2b215abdfaa",
   "metadata": {},
   "outputs": [],
   "source": [
    "class DotProduct(nn.Module):\n",
    "    def forward(self, x):\n",
    "        users = self.user_factors[:, x[0]]\n",
    "        movies = self.movie_factors[:, x[1]]\n",
    "        return users*movies"
   ]
  },
  {
   "cell_type": "code",
   "execution_count": null,
   "id": "48078e48-c667-4665-9b66-a6f6e004ecc8",
   "metadata": {},
   "outputs": [],
   "source": [
    "image > image encoder > embedding"
   ]
  },
  {
   "cell_type": "code",
   "execution_count": null,
   "id": "e564d850-5d9e-48d0-930c-7928439d8d55",
   "metadata": {},
   "outputs": [],
   "source": [
    "RUN mkdir /home/app"
   ]
  },
  {
   "cell_type": "code",
   "execution_count": null,
   "id": "ad6158d5-41b6-48f5-a72f-5c58d2755749",
   "metadata": {},
   "outputs": [],
   "source": [
    "image encoder, text encoder, projection, constrative loss"
   ]
  },
  {
   "cell_type": "code",
   "execution_count": null,
   "id": "838c1c22-3b54-41ce-9a75-c846e73f4db7",
   "metadata": {},
   "outputs": [],
   "source": [
    "cell, forgate, output, input"
   ]
  },
  {
   "cell_type": "code",
   "execution_count": null,
   "id": "e245e399-a5f7-437f-8c33-398d2314b16e",
   "metadata": {},
   "outputs": [],
   "source": [
    "import jax"
   ]
  },
  {
   "cell_type": "code",
   "execution_count": null,
   "id": "e6151d40-7f39-4eda-a5a9-f791c75dfc51",
   "metadata": {},
   "outputs": [],
   "source": [
    "vmapped_multiply = jax.vmap(multiply)"
   ]
  },
  {
   "cell_type": "code",
   "execution_count": null,
   "id": "e4a01a70-3ca5-47f2-9f7d-4e45fee78173",
   "metadata": {},
   "outputs": [],
   "source": [
    "results = vmapped_multipl"
   ]
  },
  {
   "cell_type": "code",
   "execution_count": 48,
   "id": "b05726ce-d635-4887-a0f5-6070da9b5dbd",
   "metadata": {
    "tags": []
   },
   "outputs": [],
   "source": [
    "from einops import rearrange"
   ]
  },
  {
   "cell_type": "code",
   "execution_count": null,
   "id": "60e73026-0a79-4db1-91d8-84c419270643",
   "metadata": {},
   "outputs": [],
   "source": [
    "output = rearrange(\n",
    "    images,\n",
    "    \"bs c (n_h p_h) (n_w p_w) -> bs n_h n_w (p_h p_w c)\"\n",
    ")"
   ]
  }
 ],
 "metadata": {
  "kernelspec": {
   "display_name": "Python 3 (ipykernel)",
   "language": "python",
   "name": "python3"
  },
  "language_info": {
   "codemirror_mode": {
    "name": "ipython",
    "version": 3
   },
   "file_extension": ".py",
   "mimetype": "text/x-python",
   "name": "python",
   "nbconvert_exporter": "python",
   "pygments_lexer": "ipython3",
   "version": "3.8.16"
  }
 },
 "nbformat": 4,
 "nbformat_minor": 5
}
