{
 "cells": [
  {
   "cell_type": "code",
   "execution_count": null,
   "id": "933b9c84-83bf-412a-bd19-ecefd2a1e2a5",
   "metadata": {},
   "outputs": [],
   "source": [
    "from sqlalchemy import Column, String, Integer"
   ]
  },
  {
   "cell_type": "code",
   "execution_count": null,
   "id": "4171a246-d4eb-4e9c-a3e0-fb851dcf7716",
   "metadata": {},
   "outputs": [],
   "source": [
    "class User(Base):\n",
    "    __table_name__ = \"users\"\n",
    "    \n",
    "    id = Column(\"id\", Integer, primary_key=True)\n",
    "    username = Column(\"username\", String)"
   ]
  },
  {
   "cell_type": "code",
   "execution_count": 1,
   "id": "d5d9e722-4e38-4c5f-b534-3c1d0e7dc08f",
   "metadata": {},
   "outputs": [],
   "source": [
    "from airflow.decorators import dag"
   ]
  },
  {
   "cell_type": "code",
   "execution_count": null,
   "id": "3c4e29ef-5b2b-461b-b9fd-5baf06047767",
   "metadata": {},
   "outputs": [],
   "source": [
    "@dag(dag_id=dag_id, start_date=start_date)\n",
    "def example():\n",
    "    pass "
   ]
  },
  {
   "cell_type": "code",
   "execution_count": null,
   "id": "95640322-197b-4740-9d1d-423591be9b06",
   "metadata": {},
   "outputs": [],
   "source": [
    "@app.get(\"users/{uid}\")\n",
    "def get_user(uid):\n",
    "    pass"
   ]
  },
  {
   "cell_type": "code",
   "execution_count": null,
   "id": "757ad3c9-abf7-4b9e-8203-5b1787df9464",
   "metadata": {},
   "outputs": [],
   "source": [
    "task2 >> task_1"
   ]
  },
  {
   "cell_type": "code",
   "execution_count": 2,
   "id": "395e90f6-b561-488d-aa5f-7527773b8056",
   "metadata": {
    "tags": []
   },
   "outputs": [],
   "source": [
    "from fastapi import status, HTTPException"
   ]
  },
  {
   "cell_type": "code",
   "execution_count": null,
   "id": "eef03eb9-0e61-42ce-b8cd-1c0f3912ace2",
   "metadata": {},
   "outputs": [],
   "source": [
    "@app.get(\"/blog\")\n",
    "def blog():\n",
    "    raise HTTPException(\n",
    "        status_code=status.HTTP_404_NOT_FOUND,\n",
    "        detail=\"x\"\n",
    "    )"
   ]
  },
  {
   "cell_type": "code",
   "execution_count": 4,
   "id": "ee09417e-2166-42b3-ad95-eb57024b8bc7",
   "metadata": {
    "tags": []
   },
   "outputs": [],
   "source": [
    "from airflow import DAG\n",
    "from airflow.operators.bash import BashOperator"
   ]
  },
  {
   "cell_type": "code",
   "execution_count": null,
   "id": "8312a9e8-10f8-4362-8358-59c9d7fdb32c",
   "metadata": {},
   "outputs": [],
   "source": [
    "with DAG(dag_id=\"x\") as dag:\n",
    "    task = BashOperator(\n",
    "        task_id=\"hello_world\",\n",
    "        bash_command=\"echo hello world\"\n",
    "    )\n",
    "    \n",
    "    task"
   ]
  },
  {
   "cell_type": "code",
   "execution_count": 6,
   "id": "ed9a118f-fa21-4ae1-bfa9-d46de38deba6",
   "metadata": {
    "tags": []
   },
   "outputs": [],
   "source": [
    "def task_1(ti):\n",
    "    ti.xcom_push(\"x\", 2)"
   ]
  },
  {
   "cell_type": "code",
   "execution_count": 7,
   "id": "b35f9493-0e63-434c-9302-64d4ff8eb021",
   "metadata": {
    "tags": []
   },
   "outputs": [],
   "source": [
    "def task_2(yi):\n",
    "    x = ti.xcom_pull(\"x\", task=[\"task_1\"])\n",
    "    y = x + 3\n",
    "    ti.com_push(\"y\", y)"
   ]
  },
  {
   "cell_type": "code",
   "execution_count": 8,
   "id": "63b647b7-cfd9-438b-93d8-851b349c6416",
   "metadata": {
    "tags": []
   },
   "outputs": [],
   "source": [
    "from airflow.operators.python import PythonOperator"
   ]
  },
  {
   "cell_type": "code",
   "execution_count": null,
   "id": "12453114-360a-4c9b-848e-0430415d5556",
   "metadata": {},
   "outputs": [],
   "source": [
    "with DAG(dag_id=dag_id, start_date=start_date) as dag:\n",
    "    task_1 = PythonOperator(\n",
    "        task_id=\"task_1\"\n",
    "        python_callable=task_1,\n",
    "    )\n",
    "    task_2 = PythonOperator(\n",
    "        task_id=\"task_2\",\n",
    "        python_callable=task_2\n",
    "    )\n",
    "    \n",
    "    task"
   ]
  },
  {
   "cell_type": "code",
   "execution_count": null,
   "id": "052997fd-d86f-4a52-a170-2d1922f5e40f",
   "metadata": {},
   "outputs": [],
   "source": [
    "@app.get(\"/items\", status=status.HTTP_201_CREATED)\n",
    "def get_items():\n",
    "    pass"
   ]
  },
  {
   "cell_type": "code",
   "execution_count": null,
   "id": "1c49687f-e5ad-482d-859f-eecc41257bb0",
   "metadata": {},
   "outputs": [],
   "source": [
    "@app.get(\"/movies/{name}\")\n",
    "def get_movie(name: str):\n",
    "    pass"
   ]
  },
  {
   "cell_type": "code",
   "execution_count": 11,
   "id": "eb508bc3-9de2-4a54-a810-a7d248aa90d5",
   "metadata": {
    "tags": []
   },
   "outputs": [],
   "source": [
    "from pydantic import BaseModel"
   ]
  },
  {
   "cell_type": "code",
   "execution_count": 12,
   "id": "3b5608fa-2f56-4403-aba2-04c9819cad62",
   "metadata": {
    "tags": []
   },
   "outputs": [],
   "source": [
    "class Blog:\n",
    "    title: str\n",
    "    desc: str"
   ]
  },
  {
   "cell_type": "code",
   "execution_count": null,
   "id": "eb401714-212d-474e-8a10-bb73a3b4b6c0",
   "metadata": {},
   "outputs": [],
   "source": [
    "@app.post(\"/blog\")\n",
    "def create_blog(request: Blog):\n",
    "    pass"
   ]
  },
  {
   "cell_type": "code",
   "execution_count": 14,
   "id": "47272008-eb33-412d-a769-9cb7dcfabda1",
   "metadata": {
    "tags": []
   },
   "outputs": [],
   "source": [
    "from datetime import datetime"
   ]
  },
  {
   "cell_type": "code",
   "execution_count": null,
   "id": "713f572f-6445-40f1-abc9-1a5bdc3413a1",
   "metadata": {},
   "outputs": [],
   "source": [
    "with DAG(dag_id=dag_id, start_date=datetime(2023, 5, 31)) as dag:\n",
    "    task = PythonOperator(\n",
    "        task_id=\"x\",\n",
    "        python_callable=say_hello\n",
    "    )\n",
    "    \n",
    "    task"
   ]
  },
  {
   "cell_type": "code",
   "execution_count": 15,
   "id": "81c4211b-93c7-4857-b867-9bbb1f1395f4",
   "metadata": {
    "tags": []
   },
   "outputs": [],
   "source": [
    "from airflow.decorators import task"
   ]
  },
  {
   "cell_type": "code",
   "execution_count": null,
   "id": "4cb2ebcc-28d9-41a4-b73f-794550872ac1",
   "metadata": {},
   "outputs": [],
   "source": [
    "@dag(dag_id=dag_id, start_date=start_date)\n",
    "def example():\n",
    "    @task\n",
    "    def get_name(): pass\n",
    "\n",
    "    @task\n",
    "    def get_age(): pass\n",
    "\n",
    "    @task\n",
    "    def greet(name, age): pass\n",
    "\n",
    "    name = get_name()\n",
    "    age = get_age()\n",
    "    greet(name, age)"
   ]
  },
  {
   "cell_type": "code",
   "execution_count": 16,
   "id": "da34144c-52cd-436c-896e-d860dade2b5e",
   "metadata": {
    "tags": []
   },
   "outputs": [],
   "source": [
    "from typing import Optional"
   ]
  },
  {
   "cell_type": "code",
   "execution_count": null,
   "id": "d8ae6b54-184a-408e-976f-d9266e4d9bd3",
   "metadata": {},
   "outputs": [],
   "source": [
    "@app.get(\"/files\")\n",
    "def files(is_deleted: Optional[bool]=False):\n",
    "    pass"
   ]
  },
  {
   "cell_type": "code",
   "execution_count": null,
   "id": "512d0a3f-e460-4cba-853b-3c7a08543436",
   "metadata": {},
   "outputs": [],
   "source": [
    "@app.get(\"/blog\")\n",
    "def blog(page, published):\n",
    "    return {\"page\": page, \"published\": published}"
   ]
  },
  {
   "cell_type": "code",
   "execution_count": 18,
   "id": "2fcb7da0-b7ce-40ba-b372-cb0eca5acc7b",
   "metadata": {
    "tags": []
   },
   "outputs": [],
   "source": [
    "from fastapi import Response"
   ]
  },
  {
   "cell_type": "code",
   "execution_count": null,
   "id": "895b8804-3557-4ee5-b632-1d5b67c93652",
   "metadata": {},
   "outputs": [],
   "source": [
    "@app.get(\"/tasks\")\n",
    "def get_tasks(id, response: Response):\n",
    "    if id == 0:\n",
    "        response.status_code = status.HTTP_404_NOT_FOUND\n",
    "    else:\n",
    "        response.status_code = status.HTTP_200_OK"
   ]
  },
  {
   "cell_type": "code",
   "execution_count": 20,
   "id": "8d38a67a-c1ad-4359-a385-9266dc4954ea",
   "metadata": {
    "tags": []
   },
   "outputs": [],
   "source": [
    "from evidently.report import Report\n",
    "from evidently.metric_preset import DataDriftPreset"
   ]
  },
  {
   "cell_type": "code",
   "execution_count": 21,
   "id": "a8c7df52-f113-4633-9366-db268f11f6e9",
   "metadata": {
    "tags": []
   },
   "outputs": [],
   "source": [
    "report = Report(metrics=[\n",
    "    DataDriftPreset()\n",
    "])"
   ]
  },
  {
   "cell_type": "markdown",
   "id": "7e32b82d-bf27-4cf6-8136-53c8a043c31a",
   "metadata": {},
   "source": [
    "### Engineering"
   ]
  },
  {
   "cell_type": "code",
   "execution_count": 22,
   "id": "269f0f20-891a-433e-abc0-956796af638e",
   "metadata": {},
   "outputs": [],
   "source": [
    "import torch\n",
    "from torch import nn\n",
    "import torch.nn.functional as F"
   ]
  },
  {
   "cell_type": "code",
   "execution_count": null,
   "id": "d6215eb1-572c-4ced-9418-42d2c1b9337e",
   "metadata": {},
   "outputs": [],
   "source": [
    "register > cache > main mmeory"
   ]
  },
  {
   "cell_type": "code",
   "execution_count": null,
   "id": "268cffda-471b-4628-a176-88cd6b2e392e",
   "metadata": {},
   "outputs": [],
   "source": [
    "step 1: partrition parameters\n",
    "step 2: move to rank\n",
    "step 3: init local optimizer\n",
    "step 4: "
   ]
  },
  {
   "cell_type": "code",
   "execution_count": null,
   "id": "ee94809e-1fbd-4153-b5a1-4b5ce5ac9c79",
   "metadata": {},
   "outputs": [],
   "source": [
    "step 1: fp16, and fp32 of the weight\n",
    "step 2: forward and backward pass\n",
    "step 3: cast the grad to fp32\n",
    "step 4: update using fp32 to all"
   ]
  },
  {
   "cell_type": "code",
   "execution_count": null,
   "id": "d1f4522b-a79d-4236-acfe-5cd8296e277e",
   "metadata": {},
   "outputs": [],
   "source": [
    "class RowParallelLinear(nn.Module):\n",
    "    def __init__(self, input_size, output_size):\n",
    "        super().__init__()\n",
    "        world_size = torch.distributed.get_world_size()\n",
    "        self.input_size = self.input_size\n",
    "        self.output_size_per_partrition = output_size // world_size\n",
    "        \n",
    "        self.weight = nn.Parameter(torch.empty(\n",
    "            self.input_size,\n",
    "            self.output_size_per_partrition\n",
    "        ))\n",
    "        self.bias = nn.Parameter(torch.empty(\n",
    "            self.input_size\n",
    "        ))\n",
    "    \n",
    "    def forward(self, input):\n",
    "        world_size = torch.distributed.get_world_size()\n",
    "        rank = torch.distributed.get_rank()\n",
    "        dim_size = input.shape[-1]\n",
    "        dim_size_per_partrition = dim_size // world_size\n",
    "        input_chunks = torch.split(input, dim_size_per_partrition)\n",
    "        input_parallel = input_chunks[rank]\n",
    "        \n",
    "        output_parallel = F.linear(input_parallel, self.weight, self.bias)\n",
    "        \n",
    "        torch.distributed.all_reduce(output_parallel)\n",
    "        return output_parallel"
   ]
  },
  {
   "cell_type": "code",
   "execution_count": null,
   "id": "7c1e559f-5b6f-4461-bcbb-ab8b1bc528c9",
   "metadata": {},
   "outputs": [],
   "source": [
    "send sync, receive sync\n",
    "send sync, receive async\n",
    "\n",
    "send async, receive sync\n",
    "send async, receive async"
   ]
  },
  {
   "cell_type": "code",
   "execution_count": 23,
   "id": "f2ce02b3-2786-4936-98cf-1950c3d540d1",
   "metadata": {
    "tags": []
   },
   "outputs": [],
   "source": [
    "tensor_model_parallel_size = 2\n",
    "pipeline_model_parallel_size = 4"
   ]
  },
  {
   "cell_type": "code",
   "execution_count": 24,
   "id": "f1c8e0fe-2cc4-4309-ba0f-565658c18e57",
   "metadata": {
    "tags": []
   },
   "outputs": [],
   "source": [
    "num_pipeline_model_parallel_groups = 4"
   ]
  },
  {
   "cell_type": "code",
   "execution_count": 25,
   "id": "62ad3a11-6785-474b-89c8-eaaf84f1c649",
   "metadata": {
    "tags": []
   },
   "outputs": [
    {
     "name": "stdout",
     "output_type": "stream",
     "text": [
      "[0, 2]\n",
      "[1, 3]\n",
      "[4, 6]\n",
      "[5, 7]\n",
      "[8, 10]\n",
      "[9, 11]\n",
      "[12, 14]\n",
      "[13, 15]\n"
     ]
    }
   ],
   "source": [
    "for i in range(pipeline_model_parallel_size):\n",
    "    start_rank = i*num_pipeline_model_parallel_groups\n",
    "    end_rank = (i+1)*num_pipeline_model_parallel_groups\n",
    "    \n",
    "    for j in range(tensor_model_parallel_size):\n",
    "        ranks = list(range(\n",
    "            start_rank+j,\n",
    "            end_rank,\n",
    "            tensor_model_parallel_size\n",
    "        ))\n",
    "        \n",
    "        print(ranks)"
   ]
  },
  {
   "cell_type": "code",
   "execution_count": null,
   "id": "150bada5-bf1b-4b05-89ae-faa7e5a50984",
   "metadata": {},
   "outputs": [],
   "source": [
    "step 1: "
   ]
  },
  {
   "cell_type": "code",
   "execution_count": null,
   "id": "c5016480-8fdf-4cb8-9dda-adc2568ffe83",
   "metadata": {},
   "outputs": [],
   "source": [
    "step 1: yes no question\n",
    "step 2: 2 prompt2\n",
    "step 3: hidden state\n",
    "step 4: normalize\n",
    "step 5: probe"
   ]
  },
  {
   "cell_type": "code",
   "execution_count": null,
   "id": "a48ec559-d968-4c4d-a406-fd7a56b35374",
   "metadata": {},
   "outputs": [],
   "source": [
    "def compute_cross_entropy(logits, targets):\n",
    "    log_probs = F.log_probs(logits, dim=-1)\n",
    "    return -log_probs[torch.arange(targets.shape[-1]), targets].mean()"
   ]
  },
  {
   "cell_type": "code",
   "execution_count": null,
   "id": "e1a85e68-c9ef-45c8-be54-413c6a588450",
   "metadata": {},
   "outputs": [],
   "source": [
    "from transformers import Coll"
   ]
  },
  {
   "cell_type": "code",
   "execution_count": null,
   "id": "15c107ec-3efa-48a7-96e0-c1c70a122cfc",
   "metadata": {},
   "outputs": [],
   "source": [
    "class MultiHeadAttention(nn.Module):\n",
    "    def __init__(self, attention, d_model, n_heads):\n",
    "        super().__init__()\n",
    "        self.attention = attention\n",
    "        self.d_model, self.n_heads = d_model, n_heads\n",
    "        self.d_head = d_model // n_heads\n",
    "        \n",
    "        self.to_q = nn.Linear(d_model, d_model)\n",
    "        self.to_k = nn.Linear(d_model, d_model)\n",
    "        self.to_v = nn.Linear(d_model, d_model)\n",
    "    \n",
    "    def split_heads(self, x):\n",
    "        batch_size, seq_len, d_model = x.size()\n",
    "        return x.view(batch_size, self.n_heads, seq_len, self.d_head)\n",
    "    \n",
    "    def forward(self, pre_q, pre_k, pre_v):\n",
    "        q = self.to_q(pre_q)\n",
    "        k = self.to_v(pre_k)\n",
    "        v = self.to_v(pre_v)\n",
    "        \n",
    "        q = self.split_heads(q)\n",
    "        k = self.split_heads(k)\n",
    "        v = self.split_heads(v)\n",
    "        \n",
    "        output, attn_weights = self.attention(q, k, v)\n",
    "        "
   ]
  },
  {
   "cell_type": "code",
   "execution_count": null,
   "id": "711d31ca-d83e-4ea8-843f-20e793a5acb3",
   "metadata": {},
   "outputs": [],
   "source": []
  }
 ],
 "metadata": {
  "kernelspec": {
   "display_name": "Python 3 (ipykernel)",
   "language": "python",
   "name": "python3"
  },
  "language_info": {
   "codemirror_mode": {
    "name": "ipython",
    "version": 3
   },
   "file_extension": ".py",
   "mimetype": "text/x-python",
   "name": "python",
   "nbconvert_exporter": "python",
   "pygments_lexer": "ipython3",
   "version": "3.8.16"
  }
 },
 "nbformat": 4,
 "nbformat_minor": 5
}
