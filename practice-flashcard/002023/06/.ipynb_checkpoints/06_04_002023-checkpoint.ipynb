{
 "cells": [
  {
   "cell_type": "markdown",
   "id": "e133c06d-8f33-4429-ace7-d5d13bfcc9e9",
   "metadata": {},
   "source": [
    "### Engineering"
   ]
  },
  {
   "cell_type": "code",
   "execution_count": null,
   "id": "9d8e43a4-0d85-40da-8dbc-39bbf06c5a2c",
   "metadata": {},
   "outputs": [],
   "source": [
    "step 1: partrition parameters\n",
    "step 2: params to ranks\n",
    "step 3: init local optimizer\n",
    "step 4: sync optimizer-related variables\n",
    "step 5: "
   ]
  },
  {
   "cell_type": "code",
   "execution_count": null,
   "id": "c3954029-b17d-4bde-87bd-ba5def9b3084",
   "metadata": {},
   "outputs": [],
   "source": [
    "step 1: create on cpu\n",
    "step 2: gpu memory\n",
    "step 3: move to gpu\n",
    "step 4: params\n",
    "step 5: launch kernel\n",
    "step 6: execute\n",
    "step 7: copy result to cpu\n",
    "step 8: memory dellocation"
   ]
  },
  {
   "cell_type": "code",
   "execution_count": null,
   "id": "db079fb3-3ef4-45f8-a112-0152b119de81",
   "metadata": {},
   "outputs": [],
   "source": [
    "from einops import einsum"
   ]
  },
  {
   "cell_type": "code",
   "execution_count": null,
   "id": "48b8ec97-dce0-40d9-8424-0071d0033dcf",
   "metadata": {},
   "outputs": [],
   "source": [
    "einsum(x, y, \"batch dim, batch dim ->\")"
   ]
  },
  {
   "cell_type": "code",
   "execution_count": null,
   "id": "e5f85dba-1b50-4d7f-b0e2-ff04369b7cae",
   "metadata": {},
   "outputs": [],
   "source": [
    "from einops import repeat"
   ]
  },
  {
   "cell_type": "code",
   "execution_count": null,
   "id": "8b848762-35ec-4f16-ab98-c1439c99a063",
   "metadata": {},
   "outputs": [],
   "source": [
    "repeat(x, \"h w -> h w n\", n=2)"
   ]
  },
  {
   "cell_type": "code",
   "execution_count": null,
   "id": "c31955f0-3497-45b7-a2e3-550663df8e6d",
   "metadata": {},
   "outputs": [],
   "source": [
    "import torch\n",
    "from torch import nn\n",
    "import torch.nn.functional as F"
   ]
  },
  {
   "cell_type": "code",
   "execution_count": null,
   "id": "1b3e5d81-256d-4bbf-9bc0-2b928fa97c89",
   "metadata": {},
   "outputs": [],
   "source": [
    "class LayerNorm(nn.Module):\n",
    "    def __init__(self, features, eps):\n",
    "        super().__init__()\n",
    "        self.adds = nn.Parameter(torch.zeros(\n",
    "            features\n",
    "        ))\n",
    "        self.mults = nn.Parameter(torch.ones(\n",
    "            features\n",
    "        ))\n",
    "        self.eps = eps\n",
    "    \n",
    "    def forward(self, x):\n",
    "        "
   ]
  }
 ],
 "metadata": {
  "kernelspec": {
   "display_name": "Python 3 (ipykernel)",
   "language": "python",
   "name": "python3"
  },
  "language_info": {
   "codemirror_mode": {
    "name": "ipython",
    "version": 3
   },
   "file_extension": ".py",
   "mimetype": "text/x-python",
   "name": "python",
   "nbconvert_exporter": "python",
   "pygments_lexer": "ipython3",
   "version": "3.8.16"
  }
 },
 "nbformat": 4,
 "nbformat_minor": 5
}
