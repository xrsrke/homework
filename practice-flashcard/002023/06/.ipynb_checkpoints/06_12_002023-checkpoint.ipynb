{
 "cells": [
  {
   "cell_type": "markdown",
   "id": "e9cad95b-f523-41b0-accd-fcec6e4b5a86",
   "metadata": {},
   "source": [
    "### ML Engineering"
   ]
  },
  {
   "cell_type": "code",
   "execution_count": 2,
   "id": "f8a2ea63-b6ae-4cad-858d-2803e1be5cd3",
   "metadata": {
    "tags": []
   },
   "outputs": [],
   "source": [
    "from airflow import DAG\n",
    "from airflow.operators.python import PythonOperator"
   ]
  },
  {
   "cell_type": "code",
   "execution_count": 5,
   "id": "1887a7f1-5337-4e10-a922-fa2220549442",
   "metadata": {
    "tags": []
   },
   "outputs": [],
   "source": [
    "def func_1(re):\n",
    "    re.push(\"x\", 2)"
   ]
  },
  {
   "cell_type": "code",
   "execution_count": 6,
   "id": "8d99b8e7-e437-4aa1-8154-f135dbf7046e",
   "metadata": {
    "tags": []
   },
   "outputs": [],
   "source": [
    "def func_2(re):\n",
    "    x = re.pull(\"x\", tasks=[\"task_1\"])\n",
    "    y = x + 3\n",
    "    re.push(\"y\", t)"
   ]
  },
  {
   "cell_type": "code",
   "execution_count": null,
   "id": "73a7564c-d68d-401f-bf93-fd02b4a04136",
   "metadata": {},
   "outputs": [],
   "source": [
    "with DAG(dag_id=dag_id, start_date=start_date) as dag:\n",
    "    task_1 = PythonOperator(\n",
    "        task_id=\"task_1\",\n",
    "        python_callable=func_1\n",
    "    )\n",
    "    task_2 = PythonOperator(\n",
    "        task_id=\"task_2\",\n",
    "        python_callable=func_2\n",
    "    )\n",
    "    \n",
    "    task_1 >> task_2"
   ]
  },
  {
   "cell_type": "code",
   "execution_count": 7,
   "id": "dcb2b206-e6c2-4c64-9b6f-ce2efed4ad4d",
   "metadata": {
    "tags": []
   },
   "outputs": [],
   "source": [
    "import great_expectations as ge"
   ]
  },
  {
   "cell_type": "code",
   "execution_count": null,
   "id": "6d4f6dd7-5773-4390-aa65-70d9ea06b079",
   "metadata": {},
   "outputs": [],
   "source": [
    "df = ge.dataset.PandasDataset(data)"
   ]
  },
  {
   "cell_type": "code",
   "execution_count": null,
   "id": "8075a40b-3afd-451c-96e4-04c51279d7f9",
   "metadata": {},
   "outputs": [],
   "source": [
    "df.expect_column_values_to_be_unique(\"id\")"
   ]
  },
  {
   "cell_type": "code",
   "execution_count": null,
   "id": "e27571cc-ebd0-4072-b043-3d12fc0d2b5f",
   "metadata": {},
   "outputs": [],
   "source": [
    "@app.get(\"/blog\")\n",
    "def blog(page, published):\n",
    "    pass"
   ]
  },
  {
   "cell_type": "code",
   "execution_count": null,
   "id": "c7130cc9-cd78-4a7a-ae08-60be94134c45",
   "metadata": {},
   "outputs": [],
   "source": [
    "[task_3, task_2] >> task_1"
   ]
  },
  {
   "cell_type": "code",
   "execution_count": 8,
   "id": "7abed00a-ea8e-462c-bbf6-2255a4d0f706",
   "metadata": {
    "tags": []
   },
   "outputs": [],
   "source": [
    "from airflow.operators.bash import BashOperator"
   ]
  },
  {
   "cell_type": "code",
   "execution_count": null,
   "id": "28b87b48-c234-4512-b332-b0fd77d2a546",
   "metadata": {},
   "outputs": [],
   "source": [
    "task_1 = BashOperator(\n",
    "    task_id=\"task_1\",\n",
    "    bash_command=\"echo hello world\"\n",
    ")"
   ]
  },
  {
   "cell_type": "code",
   "execution_count": 9,
   "id": "e4ec7661-658d-49b1-9f54-dcd3889e2b74",
   "metadata": {
    "tags": []
   },
   "outputs": [],
   "source": [
    "from pydantic import BaseModel"
   ]
  },
  {
   "cell_type": "code",
   "execution_count": 10,
   "id": "597fabb4-e6f9-4c9d-9cd5-9dc3e26f823c",
   "metadata": {
    "tags": []
   },
   "outputs": [],
   "source": [
    "class Blog(BaseModel):\n",
    "    title: str\n",
    "    desc: str"
   ]
  },
  {
   "cell_type": "code",
   "execution_count": null,
   "id": "d158a6f4-e459-4e42-95ee-e325d81bcf69",
   "metadata": {},
   "outputs": [],
   "source": [
    "@app.post(\"/blog\")\n",
    "def create_blog(blog: Blog):\n",
    "    pass"
   ]
  },
  {
   "cell_type": "code",
   "execution_count": 12,
   "id": "bcdbe8c6-3df5-4222-9941-c939e4b87519",
   "metadata": {
    "tags": []
   },
   "outputs": [],
   "source": [
    "from airflow.decorators import dag"
   ]
  },
  {
   "cell_type": "code",
   "execution_count": null,
   "id": "c9a532e5-84ea-4257-925c-7cddd85715da",
   "metadata": {},
   "outputs": [],
   "source": [
    "@dag(dag_id=dag_id, start_date=start_date)\n",
    "def example():\n",
    "    pass"
   ]
  },
  {
   "cell_type": "code",
   "execution_count": 13,
   "id": "54e9bbb3-0635-4881-a209-6f815034a10a",
   "metadata": {
    "tags": []
   },
   "outputs": [],
   "source": [
    "from datetime import datetime"
   ]
  },
  {
   "cell_type": "code",
   "execution_count": null,
   "id": "48020b45-a6b4-4514-a22f-e34f2173f88b",
   "metadata": {},
   "outputs": [],
   "source": [
    "with DAG(\n",
    "    dag_id=dag_id,\n",
    "    start_date=datetime(2023, 5, 31)\n",
    ") as dag:\n",
    "    task = PythonOperator(\n",
    "        task_id=\"fuck_you\",\n",
    "        python_callable=say_hello\n",
    "    )\n",
    "    task "
   ]
  },
  {
   "cell_type": "code",
   "execution_count": 15,
   "id": "5488d531-3560-4602-807b-a9cfa4d752a5",
   "metadata": {
    "tags": []
   },
   "outputs": [],
   "source": [
    "from metaflow import FlowSpec, step, project"
   ]
  },
  {
   "cell_type": "code",
   "execution_count": null,
   "id": "250cd55e-7b76-4dd5-998c-2f089839ab9c",
   "metadata": {},
   "outputs": [],
   "source": [
    "@project(name=\"project_69\")\n",
    "class TrainFlow(FlowSpec):\n",
    "    @step\n",
    "    def start(self):\n",
    "        self.next(self.train)\n",
    "    \n",
    "    @step\n",
    "    def train(self):\n",
    "        train()\n",
    "        self.next(self.end)\n",
    "    \n",
    "    @step\n",
    "    def end(self): pass"
   ]
  },
  {
   "cell_type": "code",
   "execution_count": null,
   "id": "127bb80c-55f6-4f00-ad96-b12ae79a5a81",
   "metadata": {},
   "outputs": [],
   "source": [
    "@project(name=\"project_69\")\n",
    "class EvaluateFlow(FlowSpec):\n",
    "    @step\n",
    "    def start(self):\n",
    "        self.next(self.evaluate)\n",
    "    \n",
    "    @step\n",
    "    def evaluate(self):\n",
    "        evaluate()\n",
    "        self.next(self.end)\n",
    "    \n",
    "    @step\n",
    "    def end(self): pass"
   ]
  },
  {
   "cell_type": "code",
   "execution_count": null,
   "id": "3f8c451f-aae2-48fc-af9d-ae28fb340c31",
   "metadata": {},
   "outputs": [],
   "source": [
    "class TestFruit:\n",
    "    def setup_method(self):\n",
    "        self.fruit = Fruit(\"fuck_you\")\n",
    "    \n",
    "    def test_fruit(self):\n",
    "        assert self.fruit.name = \"fuck_you\"\n",
    "    \n",
    "    def teardown_method(self):\n",
    "        del self.fruit"
   ]
  },
  {
   "cell_type": "code",
   "execution_count": 16,
   "id": "f49feba4-0b3f-45ba-b783-2649e59145a1",
   "metadata": {
    "tags": []
   },
   "outputs": [],
   "source": [
    "import functools"
   ]
  },
  {
   "cell_type": "code",
   "execution_count": null,
   "id": "d42bee43-942a-425a-ac9a-dd0b935dac0f",
   "metadata": {},
   "outputs": [],
   "source": [
    "result = functools.reduce(lambda x, y: x + y, numbers)"
   ]
  },
  {
   "cell_type": "code",
   "execution_count": 17,
   "id": "8ca38617-5f33-4510-8aeb-e20fa9e0121c",
   "metadata": {
    "tags": []
   },
   "outputs": [],
   "source": [
    "import time"
   ]
  },
  {
   "cell_type": "code",
   "execution_count": null,
   "id": "99ec0a14-9fef-48cc-af4e-4a10e7cf0c1d",
   "metadata": {},
   "outputs": [],
   "source": [
    "def performance(func):\n",
    "    def inner_func():\n",
    "        start_time = time.time()\n",
    "        func()\n",
    "        end_time = time.time()\n",
    "    \n",
    "    return inner_func"
   ]
  },
  {
   "cell_type": "code",
   "execution_count": 18,
   "id": "44380450-e73f-4b8b-a7fb-7e77b45bde53",
   "metadata": {
    "tags": []
   },
   "outputs": [],
   "source": [
    "import pytest"
   ]
  },
  {
   "cell_type": "code",
   "execution_count": null,
   "id": "fae4e33a-ab51-4ce5-bcb3-8d929d602f5b",
   "metadata": {},
   "outputs": [],
   "source": [
    "@pytest.mark.parametrize(\n",
    "    [\"input\", \"output\"],\n",
    "    ([1, 1], [2, 4])\n",
    ")\n",
    "def test_square(input, output):\n",
    "    assert square(input) == output"
   ]
  },
  {
   "cell_type": "code",
   "execution_count": null,
   "id": "72eee933-38e4-47c7-ac33-052bead49ccf",
   "metadata": {},
   "outputs": [],
   "source": [
    "if some_number > 6\n",
    "    print \"yes\"\n",
    "end"
   ]
  },
  {
   "cell_type": "markdown",
   "id": "c9253aa7-31d9-439c-8799-0ca838e966ac",
   "metadata": {},
   "source": [
    "### Engineering"
   ]
  },
  {
   "cell_type": "code",
   "execution_count": null,
   "id": "17edec9b-9030-4a5d-a9c2-b9ca1d0ccb1e",
   "metadata": {},
   "outputs": [],
   "source": [
    "max(clock_idx + 1, n_microbatches)"
   ]
  },
  {
   "cell_type": "code",
   "execution_count": null,
   "id": "1cf8d6e1-7d8c-46f7-a793-7681a4329110",
   "metadata": {},
   "outputs": [],
   "source": [
    "int* p_number{};"
   ]
  },
  {
   "cell_type": "code",
   "execution_count": null,
   "id": "5d7290ba-13aa-476b-b622-2f967f9ceeb5",
   "metadata": {},
   "outputs": [],
   "source": [
    "&x;"
   ]
  },
  {
   "cell_type": "code",
   "execution_count": null,
   "id": "e4beaf24-8b39-4df2-95ef-1f107db8c895",
   "metadata": {},
   "outputs": [],
   "source": [
    "#include <iostream>"
   ]
  },
  {
   "cell_type": "code",
   "execution_count": null,
   "id": "03c8c039-83a7-4845-9a20-7b6f50f19c66",
   "metadata": {},
   "outputs": [],
   "source": [
    "class Book() {\n",
    "    public:\n",
    "        std::string title;\n",
    "    \n",
    "        Book(std::string aTitle) {\n",
    "            title = aTitle;\n",
    "        }\n",
    "}"
   ]
  },
  {
   "cell_type": "code",
   "execution_count": null,
   "id": "686d9b57-2406-496a-a6c8-c7fff58edfff",
   "metadata": {},
   "outputs": [],
   "source": [
    "api server, scheduler, control manager, ectd"
   ]
  },
  {
   "cell_type": "code",
   "execution_count": null,
   "id": "62be0c3e-28ff-44ca-a8e9-2cee1c839c41",
   "metadata": {},
   "outputs": [],
   "source": [
    "#include <iostream>\n",
    "using namespace std;"
   ]
  },
  {
   "cell_type": "code",
   "execution_count": null,
   "id": "0210e924-7ab2-46a5-a68e-cb87a5d47d31",
   "metadata": {},
   "outputs": [],
   "source": [
    "string numberToColor(int number) {\n",
    "    string color;\n",
    "    \n",
    "    switch (number) {\n",
    "        case 1:\n",
    "            color = \"red\";\n",
    "            break;\n",
    "        case 2:\n",
    "            color = \"blue\";\n",
    "            break;\n",
    "    }\n",
    "    \n",
    "    return color;\n",
    "}"
   ]
  },
  {
   "cell_type": "code",
   "execution_count": null,
   "id": "8ebcd77c-4abd-4cb6-92d6-f4302ad62a62",
   "metadata": {},
   "outputs": [],
   "source": [
    "int main() {\n",
    "    int numbers[] = {1, 2, 3, 4, 5};\n",
    "    \n",
    "    for (int i = 0; i < 3; i++) {\n",
    "        std::cout << numbers[i];\n",
    "    }\n",
    "    \n",
    "    return 0;\n",
    "}"
   ]
  },
  {
   "cell_type": "code",
   "execution_count": null,
   "id": "1c86e260-457e-4fc8-85bf-86ca4534d0f0",
   "metadata": {},
   "outputs": [],
   "source": [
    "class Book() {\n",
    "    string title;\n",
    "    string author;\n",
    "}"
   ]
  },
  {
   "cell_type": "code",
   "execution_count": null,
   "id": "77d1a19b-6dc1-41e8-b9ec-c19bfc3e85a3",
   "metadata": {},
   "outputs": [],
   "source": [
    "int main() {\n",
    "    int a = 69;\n",
    "    int* p = &a;\n",
    "    \n",
    "    std::cout << *p;\n",
    "    \n",
    "    return 0;\n",
    "}"
   ]
  },
  {
   "cell_type": "code",
   "execution_count": null,
   "id": "e5b80408-b137-4023-9540-083276d1c821",
   "metadata": {},
   "outputs": [],
   "source": []
  },
  {
   "cell_type": "code",
   "execution_count": 19,
   "id": "3fa050a6-e8bf-4c99-bc9a-87280d56d398",
   "metadata": {
    "tags": []
   },
   "outputs": [],
   "source": [
    "num_gpus = 4"
   ]
  },
  {
   "cell_type": "code",
   "execution_count": 20,
   "id": "2006fdc5-9aa8-4523-837a-a0ee5c3660fd",
   "metadata": {
    "tags": []
   },
   "outputs": [],
   "source": [
    "world_size = 16"
   ]
  },
  {
   "cell_type": "code",
   "execution_count": 21,
   "id": "3712eaf6-eb49-4f96-81f6-11065f062210",
   "metadata": {
    "tags": []
   },
   "outputs": [],
   "source": [
    "process_to_gpu = []"
   ]
  },
  {
   "cell_type": "code",
   "execution_count": 23,
   "id": "32bfeae1-99ea-414e-b345-8051726a14fe",
   "metadata": {
    "tags": []
   },
   "outputs": [],
   "source": [
    "for rank in range(world_size):\n",
    "    gpu = rank % num_gpus\n",
    "    process_to_gpu.append([rank, gpu])"
   ]
  },
  {
   "cell_type": "code",
   "execution_count": 24,
   "id": "d0dd5fe0-e9e5-488d-b8d3-d7dada80963a",
   "metadata": {
    "tags": []
   },
   "outputs": [
    {
     "data": {
      "text/plain": [
       "[[0, 0],\n",
       " [1, 1],\n",
       " [2, 2],\n",
       " [3, 3],\n",
       " [4, 0],\n",
       " [5, 1],\n",
       " [6, 2],\n",
       " [7, 3],\n",
       " [8, 0],\n",
       " [9, 1],\n",
       " [10, 2],\n",
       " [11, 3],\n",
       " [12, 0],\n",
       " [13, 1],\n",
       " [14, 2],\n",
       " [15, 3]]"
      ]
     },
     "execution_count": 24,
     "metadata": {},
     "output_type": "execute_result"
    }
   ],
   "source": [
    "process_to_gpu"
   ]
  },
  {
   "cell_type": "code",
   "execution_count": null,
   "id": "b88f074d-9034-4c1e-ad33-c88890105670",
   "metadata": {},
   "outputs": [],
   "source": [
    "step 1: partrition params\n",
    "step 2: move to rank\n",
    "step 3: init local optiim\n",
    "step 4: sync optimizer-related variables\n",
    "step 5: move to bucket"
   ]
  },
  {
   "cell_type": "code",
   "execution_count": null,
   "id": "30d9d69b-b411-4fe8-ac5c-06e165275280",
   "metadata": {},
   "outputs": [],
   "source": [
    "step 1: fp16 and fp32 copy of the weight\n",
    "step 2: forward and backward pass using fp16\n",
    "step 3: cast weight to fp32\n",
    "step 4: update using fp32"
   ]
  },
  {
   "cell_type": "code",
   "execution_count": null,
   "id": "07233cdd-5820-4405-acef-b40b6a25d6fc",
   "metadata": {},
   "outputs": [],
   "source": [
    "clock_idx + 1 - "
   ]
  },
  {
   "cell_type": "code",
   "execution_count": 25,
   "id": "04b824ee-afec-4942-a9b0-e942740f213d",
   "metadata": {
    "tags": []
   },
   "outputs": [],
   "source": [
    "import torch\n",
    "from torch import nn\n",
    "import torch.nn.functional as F"
   ]
  },
  {
   "cell_type": "code",
   "execution_count": 26,
   "id": "b71f5bbe-ef0f-46af-9ab9-2e45cff5e824",
   "metadata": {
    "tags": []
   },
   "outputs": [],
   "source": [
    "def wait_stream(source_stream, target_stream):\n",
    "    # so source_stream will wait target_stream\n",
    "    if isinstance(target_stream, torch.cuda.Stream):\n",
    "        if isinstance(source_stream, torch.cuda.Stream):\n",
    "            # GPU waits for GPU\n",
    "            source_stream.wait_stream(target_stream)\n",
    "        else:\n",
    "            # CPU waits for GPU\n",
    "            target_stream.syncrous()"
   ]
  },
  {
   "cell_type": "code",
   "execution_count": null,
   "id": "6e86ba6b-d41d-4f4d-9e25-b7fb5d269613",
   "metadata": {},
   "outputs": [],
   "source": [
    "class Wait(torch.autograd.Function):\n",
    "    @staticmethod\n",
    "    def forward(ctx, prev_stream, next_stream, input):\n",
    "        ctx.prev_stream = prev_stream\n",
    "        ctx.next_stream = next_stream\n",
    "        \n",
    "        wait_stream(\n",
    "            source_stream=next_stream,\n",
    "            target_stream=prev_stream\n",
    "        )\n",
    "        \n",
    "        return input\n",
    "\n",
    "    @staticmethod\n",
    "    def backward(ctx, grad_input):\n",
    "        prev_stream = ctx.prev_stream\n",
    "        next_stream = ctx.next_stream\n",
    "        \n",
    "        wait_stream(\n",
    "            source_stream=prev_stream,\n",
    "            target_stream=next_stream\n",
    "        )\n",
    "        \n",
    "        grad_stream = (None, None)\n",
    "        \n",
    "        return grad_stream + grad_input"
   ]
  },
  {
   "cell_type": "code",
   "execution_count": 27,
   "id": "b94c8075-e8d7-4b0a-a69d-beb8fc2f0e68",
   "metadata": {
    "tags": []
   },
   "outputs": [],
   "source": [
    "n_microbatches = 4"
   ]
  },
  {
   "cell_type": "code",
   "execution_count": 28,
   "id": "18f647af-e9cd-4cb0-8f5a-30c5ffbd4429",
   "metadata": {
    "tags": []
   },
   "outputs": [],
   "source": [
    "n_partritions = 3"
   ]
  },
  {
   "cell_type": "code",
   "execution_count": 35,
   "id": "497b151c-f1a0-431a-ac80-b5b3ffe6f5ce",
   "metadata": {
    "tags": []
   },
   "outputs": [],
   "source": [
    "for clock_idx in range(n_microbatches+n_partritions-1):\n",
    "    start_partrition = max(clock_idx+1-n_microbatches, 0)\n",
    "    end_partrition = min(clock_idx+1, n_partritions)\n",
    "    \n",
    "    for x in range(start_partrition, end_partrition):\n",
    "        pass"
   ]
  },
  {
   "cell_type": "code",
   "execution_count": null,
   "id": "00d2fec8-50de-49bf-82a1-dfae7bc76940",
   "metadata": {},
   "outputs": [],
   "source": [
    "clock cycle 1: F_{1, 1}\n",
    "clock cycle 2: F_{2, 1}, F_{1, 2}\n",
    "clock cycle 3: F_{3, 1}, F_{2, 2}, F_{1, 3}"
   ]
  },
  {
   "cell_type": "code",
   "execution_count": null,
   "id": "36f939d7-0cb6-4571-b149-53740f848c53",
   "metadata": {},
   "outputs": [],
   "source": [
    "CPU to GPU, CPU to CPU\n",
    "GPU to GPU, GPU to CPU"
   ]
  },
  {
   "cell_type": "code",
   "execution_count": null,
   "id": "8871fe63-c582-4633-b607-c08d9aefb4bb",
   "metadata": {},
   "outputs": [],
   "source": [
    "max(clock_idx + 1 - n_microbatches, 0)"
   ]
  },
  {
   "cell_type": "code",
   "execution_count": null,
   "id": "2bcbdaad-3ab8-47cd-8f67-cd2082782d7a",
   "metadata": {},
   "outputs": [],
   "source": [
    "global memory > shared memory > thread"
   ]
  },
  {
   "cell_type": "code",
   "execution_count": 36,
   "id": "a49fd61b-ce31-4cd3-9950-9981ea56124c",
   "metadata": {
    "tags": []
   },
   "outputs": [],
   "source": [
    "n_microbatches = 4\n",
    "n_partritions = 3"
   ]
  },
  {
   "cell_type": "code",
   "execution_count": 37,
   "id": "60dfaf2b-0e74-4bc5-8423-8d7af6017899",
   "metadata": {
    "tags": []
   },
   "outputs": [],
   "source": [
    "n_clock_cycles = n_microbatches + 1 - n_partritions"
   ]
  },
  {
   "cell_type": "code",
   "execution_count": null,
   "id": "2ba9b2e8-9a65-4a7f-9162-67b948bd4efd",
   "metadata": {},
   "outputs": [],
   "source": [
    "for clock_idx in range(n_clock_cycles):\n",
    "    start_partrition = max(clock_idx + 1 - n_microbatches, 0)\n",
    "    end_partrition = min(clock_idx + 1, n_partritions)\n",
    "    \n",
    "    for partrition_idx in range(start_partrition, end_partrition):\n",
    "        microbatch_idx = \n",
    "        print(())"
   ]
  },
  {
   "cell_type": "code",
   "execution_count": null,
   "id": "26fb78df-0b30-4245-b307-f9c24b409779",
   "metadata": {},
   "outputs": [],
   "source": [
    "(clock_idx+1, n_partritions)"
   ]
  },
  {
   "cell_type": "code",
   "execution_count": null,
   "id": "ee84c4c9-6be1-41df-8b76-1f9106f0001e",
   "metadata": {},
   "outputs": [],
   "source": [
    "step 1: cpu memory\n",
    "step 2: gpu memory\n",
    "step 3: cpu to gpu\n",
    "step 4: computation\n",
    "step 5: gpu to cpu\n",
    "step 6: gpu memory dellocation"
   ]
  },
  {
   "cell_type": "code",
   "execution_count": null,
   "id": "14b1c834-9aa6-4fed-b8f8-0688022c1fce",
   "metadata": {},
   "outputs": [],
   "source": [
    "F_{i, j} completed before F_{i, j+1}\n",
    "B_{i, j} completed before B_{i, j-1}"
   ]
  },
  {
   "cell_type": "markdown",
   "id": "0f45eee5-570f-4a2d-9556-9471dae6fedf",
   "metadata": {},
   "source": [
    "### AI"
   ]
  },
  {
   "cell_type": "code",
   "execution_count": null,
   "id": "93f01ebb-0e16-4769-95e4-0b7e702232e0",
   "metadata": {},
   "outputs": [],
   "source": [
    "class MultiplyConstant(torch.autograd.Function):\n",
    "    @staticmethod\n",
    "    def forward(ctx, input):\n",
    "        ctx.input = input\n",
    "        return input\n",
    "    \n",
    "    @staticmethod\n",
    "    def backward(ctx, grad_input):\n",
    "        return ctx.input + 1"
   ]
  },
  {
   "cell_type": "code",
   "execution_count": null,
   "id": "070e4d94-64b1-40b3-b120-110ae9aa5af3",
   "metadata": {},
   "outputs": [],
   "source": [
    "tokens = model.to_tokens(text)"
   ]
  },
  {
   "cell_type": "code",
   "execution_count": null,
   "id": "a16d3bba-1daa-411f-96f7-395a691e9f16",
   "metadata": {},
   "outputs": [],
   "source": [
    "logits = model(tokens)"
   ]
  },
  {
   "cell_type": "code",
   "execution_count": null,
   "id": "8373dda2-ba79-4bb2-81bc-1b2cc8fb0271",
   "metadata": {},
   "outputs": [],
   "source": [
    "log_probs = F.log_softmax(logits, dim=-1)"
   ]
  },
  {
   "cell_type": "code",
   "execution_count": null,
   "id": "377a5e75-a50f-427d-a315-57f61983ffa4",
   "metadata": {},
   "outputs": [],
   "source": [
    "target_tokens = tokens[:, 1:]"
   ]
  },
  {
   "cell_type": "code",
   "execution_count": null,
   "id": "e5d6c8eb-2654-4074-9805-e73f4cb942b8",
   "metadata": {},
   "outputs": [],
   "source": [
    "predicted_log_probs = -log_probs.gather(target_tokens, dim=-1)"
   ]
  },
  {
   "cell_type": "code",
   "execution_count": null,
   "id": "f841fcf2-00f3-4009-825a-3db279d870cb",
   "metadata": {},
   "outputs": [],
   "source": []
  },
  {
   "cell_type": "code",
   "execution_count": null,
   "id": "297e6234-f512-460f-88e1-35ccd1af35c0",
   "metadata": {},
   "outputs": [],
   "source": []
  },
  {
   "cell_type": "code",
   "execution_count": null,
   "id": "84d2240e-9f69-4e33-be02-629bc925f17a",
   "metadata": {},
   "outputs": [],
   "source": []
  },
  {
   "cell_type": "code",
   "execution_count": 40,
   "id": "1fe6bf72-7aec-4cdf-9218-81886f23b93d",
   "metadata": {
    "tags": []
   },
   "outputs": [],
   "source": [
    "x = torch.tensor([1., 2., 3.], requires_grad=True)"
   ]
  },
  {
   "cell_type": "code",
   "execution_count": 49,
   "id": "39dfad5f-4cb6-4b8a-98b1-538ff4b6ab0a",
   "metadata": {
    "tags": []
   },
   "outputs": [],
   "source": [
    "import torch"
   ]
  },
  {
   "cell_type": "code",
   "execution_count": 50,
   "id": "7fa8f890-9b3c-4ac5-966e-771c09cef4f6",
   "metadata": {
    "tags": []
   },
   "outputs": [
    {
     "data": {
      "text/plain": [
       "tensor([1., 2., 3.], requires_grad=True)"
      ]
     },
     "execution_count": 50,
     "metadata": {},
     "output_type": "execute_result"
    }
   ],
   "source": [
    "x"
   ]
  },
  {
   "cell_type": "markdown",
   "id": "cd0182f7-20e8-4179-8cea-6810defc173e",
   "metadata": {},
   "source": [
    "Write a custom autograd function that returns the `input` in the forward pass and returns the gradient as `input + 1` in the backward pass."
   ]
  },
  {
   "cell_type": "code",
   "execution_count": 51,
   "id": "92cfeb6c-b13a-437d-8263-fcdc73ed3128",
   "metadata": {
    "tags": []
   },
   "outputs": [],
   "source": [
    "class MultiplyConstant(torch.autograd.Function):\n",
    "    @staticmethod\n",
    "    def forward(ctx, input):\n",
    "        ctx.input = input\n",
    "        return input\n",
    "\n",
    "    @staticmethod\n",
    "    def backward(ctx, grad_input):\n",
    "        return ctx.input + 1"
   ]
  },
  {
   "cell_type": "code",
   "execution_count": 52,
   "id": "acdb0b8f-24ff-459a-ab0a-28a3f24b7a6f",
   "metadata": {
    "tags": []
   },
   "outputs": [],
   "source": [
    "output = MultiplyConstant.apply(x)"
   ]
  },
  {
   "cell_type": "code",
   "execution_count": 53,
   "id": "1e3ad81b-b9a3-4c91-b90d-c3d1a1b42fff",
   "metadata": {
    "tags": []
   },
   "outputs": [
    {
     "data": {
      "text/plain": [
       "tensor([1., 2., 3.], grad_fn=<MultiplyConstantBackward>)"
      ]
     },
     "execution_count": 53,
     "metadata": {},
     "output_type": "execute_result"
    }
   ],
   "source": [
    "output"
   ]
  },
  {
   "cell_type": "code",
   "execution_count": 54,
   "id": "34d75f86-80ed-4f8d-b859-2d6f5206235a",
   "metadata": {
    "tags": []
   },
   "outputs": [],
   "source": [
    "output.backward(output)"
   ]
  },
  {
   "cell_type": "code",
   "execution_count": 55,
   "id": "4b89f086-933a-4061-8fe2-c473ab543923",
   "metadata": {
    "tags": []
   },
   "outputs": [
    {
     "data": {
      "text/plain": [
       "tensor([4., 6., 8.])"
      ]
     },
     "execution_count": 55,
     "metadata": {},
     "output_type": "execute_result"
    }
   ],
   "source": [
    "x.grad"
   ]
  },
  {
   "cell_type": "code",
   "execution_count": null,
   "id": "454a6dd8-1f83-4dcd-9160-4a1fa8ad2717",
   "metadata": {},
   "outputs": [],
   "source": []
  },
  {
   "cell_type": "code",
   "execution_count": null,
   "id": "c1c562ba-66d6-4463-bd28-53a30289960f",
   "metadata": {},
   "outputs": [],
   "source": [
    "def probability_scores(image_embedding, text_embedding):\n",
    "    image_norm = image_embedding.norm(dim=-1)\n",
    "    image_embedding = image_embedding / image_norm\n",
    "    \n",
    "    text_norm = text_embedding.norm(dim=-1)\n",
    "    text_embedding = text_embedding / text_norm\n",
    "    \n",
    "    similarities = torch.matmul(image_embedding, text_embedding.T)\n",
    "    probs = F.softmax(similarities, dim=-1)\n",
    "    \n",
    "    return probs"
   ]
  },
  {
   "cell_type": "code",
   "execution_count": 57,
   "id": "0e721047-2c48-4f53-8bbf-63a3fe269889",
   "metadata": {
    "tags": []
   },
   "outputs": [],
   "source": [
    "import numpy as np\n",
    "\n",
    "from gymnasium import Env\n",
    "from gymnasium.spaces import Discrete, Box"
   ]
  },
  {
   "cell_type": "code",
   "execution_count": null,
   "id": "d948411a-101c-4c26-9f9d-8c8b29ce3e1b",
   "metadata": {},
   "outputs": [],
   "source": [
    "class ShowerEnv(Env):\n",
    "    def __init__(self):\n",
    "        super().__init__()\n",
    "        self.action_space = Discrete(3)\n",
    "        self.observation_space = Box(\n",
    "            low=np.array([0]),\n",
    "            high=np.array([100])\n",
    "        )\n",
    "    \n",
    "    def reset(self):\n",
    "        self.shower_length = 60\n",
    "        self.temperature = 20\n",
    "        return self.shower_length, self.temperature"
   ]
  },
  {
   "cell_type": "code",
   "execution_count": null,
   "id": "f6b3b599-66f3-40d2-bb42-3f44770dc4a7",
   "metadata": {},
   "outputs": [],
   "source": [
    "p, d, n, "
   ]
  },
  {
   "cell_type": "code",
   "execution_count": null,
   "id": "997a1214-45a9-4d77-a548-b7ca4d758db5",
   "metadata": {},
   "outputs": [],
   "source": [
    "class EncoderLayer(nn.Module):\n",
    "    def __init__(self, d_model, n_heads, d_ff, dropout):\n",
    "        super().__init__()\n",
    "        self.mha = MultiHeadAttention(\n",
    "            d_model=d_model,\n",
    "            n_heads=n_heads\n",
    "        )\n",
    "        self.norm_1 = ResidualLayerNorm(\n",
    "            d_model=d_model,\n",
    "            dropout=dropout\n",
    "        )"
   ]
  }
 ],
 "metadata": {
  "kernelspec": {
   "display_name": "Python 3 (ipykernel)",
   "language": "python",
   "name": "python3"
  },
  "language_info": {
   "codemirror_mode": {
    "name": "ipython",
    "version": 3
   },
   "file_extension": ".py",
   "mimetype": "text/x-python",
   "name": "python",
   "nbconvert_exporter": "python",
   "pygments_lexer": "ipython3",
   "version": "3.8.16"
  }
 },
 "nbformat": 4,
 "nbformat_minor": 5
}
