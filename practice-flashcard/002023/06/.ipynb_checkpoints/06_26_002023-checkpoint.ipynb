{
 "cells": [
  {
   "cell_type": "markdown",
   "id": "26a417c9-9f4b-4647-b264-08759da8414c",
   "metadata": {},
   "source": [
    "### Engineering"
   ]
  },
  {
   "cell_type": "code",
   "execution_count": 1,
   "id": "20273344-f168-49ba-af58-f89ca404fb2e",
   "metadata": {
    "tags": []
   },
   "outputs": [],
   "source": [
    "import torch\n",
    "from torch import nn\n",
    "import torch.nn.functional as F"
   ]
  },
  {
   "cell_type": "code",
   "execution_count": null,
   "id": "2586c51c-dd0c-4ee3-a2f4-075386c8fee9",
   "metadata": {},
   "outputs": [],
   "source": [
    "api server, scheduler, control manager, ectd"
   ]
  },
  {
   "cell_type": "code",
   "execution_count": null,
   "id": "235fec2a-4912-4d7b-ad32-18c5dd3ba4ca",
   "metadata": {},
   "outputs": [],
   "source": [
    "#include <iostream>"
   ]
  },
  {
   "cell_type": "code",
   "execution_count": null,
   "id": "66893752-db46-40bb-9d1e-2e19af766cc7",
   "metadata": {},
   "outputs": [],
   "source": [
    "using namespace std;"
   ]
  },
  {
   "cell_type": "code",
   "execution_count": null,
   "id": "f92c2c60-8711-4031-937e-c48c9517209f",
   "metadata": {},
   "outputs": [],
   "source": [
    "class Book() {\n",
    "    public:\n",
    "        string title;\n",
    "        string author;\n",
    "}"
   ]
  },
  {
   "cell_type": "code",
   "execution_count": null,
   "id": "5e13e271-d261-4db1-b858-280b794e6bbe",
   "metadata": {},
   "outputs": [],
   "source": [
    "monitor\n",
    "if a node failed, reassign tasks for surviving nodes\n",
    "if a new node enters the cluster, adjust communication ring"
   ]
  },
  {
   "cell_type": "code",
   "execution_count": null,
   "id": "8ca7b5a8-173a-4d69-a457-da89f0510e9b",
   "metadata": {},
   "outputs": [],
   "source": [
    "step 1: scale the loss using a scaling factor\n",
    "step 2: compute the gradient with respect to the scaled loss\n",
    "step 3: unscale the scaled gradient using the scaling factor\n",
    "step 4: update model's parameters uisng the unscaled gradient"
   ]
  },
  {
   "cell_type": "code",
   "execution_count": null,
   "id": "cbd06052-9a50-4d2d-8588-96aa134d79df",
   "metadata": {},
   "outputs": [],
   "source": [
    "step 1: partritioning\n",
    "step 2: move to rank\n",
    "step 3: move to device\n",
    "step 4: ini local\n",
    "step 5: step\n",
    "step 6: broadcast\n",
    "step 7: sync"
   ]
  },
  {
   "cell_type": "code",
   "execution_count": null,
   "id": "b469e00f-4db1-4663-8c44-1a07d7a55122",
   "metadata": {},
   "outputs": [],
   "source": [
    "main worker > worker > task > cuda stream"
   ]
  },
  {
   "cell_type": "code",
   "execution_count": null,
   "id": "fb6be90f-ef39-4643-830e-9f9a1b2c9a26",
   "metadata": {},
   "outputs": [],
   "source": [
    "microbatch_idx, partrition_idx"
   ]
  },
  {
   "cell_type": "markdown",
   "id": "5ac89306-1e47-4978-be87-7f5892dd6aa2",
   "metadata": {},
   "source": [
    "kubernetes can't restore the last state of a failed node. it can only restart a pod with its initial configuration"
   ]
  },
  {
   "cell_type": "code",
   "execution_count": null,
   "id": "466577ff-79ae-43f9-9b4e-bbff31abbfae",
   "metadata": {},
   "outputs": [],
   "source": [
    "m+n-1"
   ]
  },
  {
   "cell_type": "code",
   "execution_count": null,
   "id": "b9aaa662-7397-4baf-95e5-6da66f8a5a37",
   "metadata": {},
   "outputs": [],
   "source": [
    "start = torch.cuda.Event(enable_timing=True)\n",
    "end = torch.cuda.Event(enable_timing=True)"
   ]
  },
  {
   "cell_type": "code",
   "execution_count": 2,
   "id": "265feab8-dddd-4064-85db-a27969ad4b1a",
   "metadata": {
    "tags": []
   },
   "outputs": [],
   "source": [
    "n_cycles = 1_000_000"
   ]
  },
  {
   "cell_type": "code",
   "execution_count": null,
   "id": "efaa343b-8d07-4b02-9616-4cf271b885d1",
   "metadata": {},
   "outputs": [],
   "source": [
    "start.record()\n",
    "torch.cuda._sleep(n_cycles)\n",
    "end.record()"
   ]
  },
  {
   "cell_type": "code",
   "execution_count": null,
   "id": "1452a591-8eb7-41c1-93d3-86159360c58c",
   "metadata": {},
   "outputs": [],
   "source": [
    "cycle_per_ms = n_cycles / end.elapsed_time(start)"
   ]
  },
  {
   "cell_type": "code",
   "execution_count": null,
   "id": "d4266f40-1576-4435-b9bd-dd67f9f38ea2",
   "metadata": {},
   "outputs": [],
   "source": [
    "def cuda_sleep(seconds):\n",
    "    ms = seconds * 1_000\n",
    "    n_cycles = cycle_per_ms * ms\n",
    "    torch.cuda._sleep(n_cycles)"
   ]
  },
  {
   "cell_type": "code",
   "execution_count": 7,
   "id": "3f0d2e28-fba5-46c3-93ba-dc85e4a018b3",
   "metadata": {
    "tags": []
   },
   "outputs": [],
   "source": [
    "class f(torch.autograd.Function):\n",
    "    @staticmethod\n",
    "    def forward(ctx, input):\n",
    "        return input\n",
    "    \n",
    "    @staticmethod\n",
    "    def backward(ctx, grad_input):\n",
    "        torch.distributed.all_reduce(grad_input)\n",
    "        return grad_input"
   ]
  },
  {
   "cell_type": "code",
   "execution_count": 6,
   "id": "f1b157f2-dfe7-4ea4-a44e-c642187e67c8",
   "metadata": {
    "tags": []
   },
   "outputs": [],
   "source": [
    "class g(torch.autograd.Function):\n",
    "    @staticmethod\n",
    "    def forward(ctx, input):\n",
    "        world_size = torch.distributed.get_world_size()\n",
    "        inputs = [torch.empty(input) for _ in range(world_size)]\n",
    "        torch.distributed.all_gather(inputs, input)\n",
    "        inputs = torch.cat(inputs, dim=-1)\n",
    "        return inputs\n",
    "    \n",
    "    @staticmethod\n",
    "    def backward(ctx, grad_input):\n",
    "        rank = torch.distributed.get_rank()\n",
    "        world_size = torch.distributed.get_world_size()\n",
    "        dim_size = grad_input.shape[-1]\n",
    "        dim_size_per_partrition = dim_size // world_size\n",
    "        grad_chunks = torch.split(grad_input, dim_size_per_partrition, dim=-1)\n",
    "        return grad_chunks[rank]"
   ]
  },
  {
   "cell_type": "code",
   "execution_count": 3,
   "id": "64b8e297-deb0-4e44-a95a-07e61cbc8690",
   "metadata": {
    "tags": []
   },
   "outputs": [],
   "source": [
    "class ColumnParallelLinear(nn.Module):\n",
    "    def __init__(self, input_size, output_size, world_size):\n",
    "        super().__init__()\n",
    "        self.input_size = input_size\n",
    "        self.output_size_per_partrition = output_size // world_size\n",
    "        \n",
    "        self.weight = nn.Parameter(torch.empty(\n",
    "            self.output_size_per_partrition,\n",
    "            self.input_size\n",
    "        ))\n",
    "        self.bias = nn.Parameter(torch.empty(\n",
    "            self.output_size_per_partrition\n",
    "        ))\n",
    "    \n",
    "    def forward(self, input):\n",
    "        input_parallel = f.apply(input)\n",
    "        output_paralell = F.linear(input_parallel, self.weight, self.bias)\n",
    "        output = g.apply(output_paralell)\n",
    "        return output"
   ]
  },
  {
   "cell_type": "code",
   "execution_count": null,
   "id": "85c55fd2-aff2-432b-be70-7f0449a62795",
   "metadata": {},
   "outputs": [],
   "source": [
    "step 1: fp32 and fp16 of the weight\n",
    "step 2: forward and backward pass using fp16\n",
    "step 3: cast the fp16 grad to fp32\n",
    "step 4: "
   ]
  },
  {
   "cell_type": "code",
   "execution_count": null,
   "id": "6dde1cb1-6654-4830-96ae-10ed2ca99400",
   "metadata": {},
   "outputs": [],
   "source": [
    "min(clock_idx+1, n_partritions)"
   ]
  },
  {
   "cell_type": "code",
   "execution_count": null,
   "id": "77cdaeb4-c467-4f6b-a5f9-71417c564ebe",
   "metadata": {},
   "outputs": [],
   "source": [
    "rank = torch.distributed.get_rank()"
   ]
  },
  {
   "cell_type": "code",
   "execution_count": null,
   "id": "c5259756-8910-499e-9679-d8a9e568e8d6",
   "metadata": {},
   "outputs": [],
   "source": [
    "if rank == 69:\n",
    "    torch.distributed.isend(x, dest=42)\n",
    "elif rank == 42:\n",
    "    torch.distributed.irecv(\n",
    "        tensor_will_be_received_data,\n",
    "        src=69\n",
    "    )"
   ]
  },
  {
   "cell_type": "code",
   "execution_count": null,
   "id": "dae2b1b9-507c-4647-8ebf-9bdb7854a4c5",
   "metadata": {},
   "outputs": [],
   "source": [
    "clock_idx+1-n_microbatches"
   ]
  },
  {
   "cell_type": "markdown",
   "id": "6a6d4e73-a86b-48ad-ae52-ef417f841be2",
   "metadata": {},
   "source": [
    "### MLE"
   ]
  },
  {
   "cell_type": "code",
   "execution_count": null,
   "id": "26fa0e58-c483-47c1-b4b5-b80d1e5f3578",
   "metadata": {},
   "outputs": [],
   "source": [
    "docker images"
   ]
  },
  {
   "cell_type": "code",
   "execution_count": 8,
   "id": "e05d55d0-dc56-4f9f-919f-74c01ab19945",
   "metadata": {
    "tags": []
   },
   "outputs": [],
   "source": [
    "from typing import TypedDict"
   ]
  },
  {
   "cell_type": "code",
   "execution_count": 9,
   "id": "faa987b6-b449-405f-a649-76a80986f38d",
   "metadata": {
    "tags": []
   },
   "outputs": [],
   "source": [
    "class NutritionInformation(TypedDict):\n",
    "    value: int\n",
    "    unit: str"
   ]
  },
  {
   "cell_type": "code",
   "execution_count": 10,
   "id": "9c7efcae-dbce-42c8-8bba-3b1b0bbfb9d4",
   "metadata": {
    "tags": []
   },
   "outputs": [],
   "source": [
    "class RecipeNutritionInformation(TypedDict):\n",
    "    recipes_used: int\n",
    "    calories: NutritionInformation\n",
    "    carbs: NutritionInformation"
   ]
  },
  {
   "cell_type": "code",
   "execution_count": 13,
   "id": "87a17780-51a7-47ea-a4ee-a31877549ab3",
   "metadata": {
    "tags": []
   },
   "outputs": [],
   "source": [
    "from evidently.metric_preset import DataDriftPreset\n",
    "from evidently.report import Report"
   ]
  },
  {
   "cell_type": "code",
   "execution_count": 14,
   "id": "978b353c-1095-40c9-8f85-908ca2fd7573",
   "metadata": {
    "tags": []
   },
   "outputs": [],
   "source": [
    "report = Report(metrics=[\n",
    "    DataDriftPreset()\n",
    "])"
   ]
  },
  {
   "cell_type": "code",
   "execution_count": null,
   "id": "65dc6c74-08e5-4b0d-ac5f-3da08886d82d",
   "metadata": {},
   "outputs": [],
   "source": [
    "report.run(reference_data=reference, current_data=current)"
   ]
  },
  {
   "cell_type": "code",
   "execution_count": 15,
   "id": "068811e9-b7d1-4598-8d41-c9a37db7d350",
   "metadata": {
    "tags": []
   },
   "outputs": [],
   "source": [
    "from airflow.decorators import dag, task"
   ]
  },
  {
   "cell_type": "code",
   "execution_count": null,
   "id": "dd5ecd0d-5895-49fe-9d23-e387430b4d2c",
   "metadata": {},
   "outputs": [],
   "source": [
    "@dag(dag_id=dag_id, start_date=start_date)\n",
    "def new_example():\n",
    "    @task\n",
    "    def get_name():\n",
    "        pass\n",
    "    \n",
    "    @task\n",
    "    def get_age():\n",
    "        pass\n",
    "    \n",
    "    @task\n",
    "    def greet(name, age):\n",
    "        pass\n",
    "    \n",
    "    name = get_name()\n",
    "    age = get_age()\n",
    "    greet(name, age)"
   ]
  },
  {
   "cell_type": "code",
   "execution_count": 16,
   "id": "ed53b0a9-23cf-4078-9c3d-a1c3ab34a860",
   "metadata": {
    "tags": []
   },
   "outputs": [],
   "source": [
    "from sqlalchemy.orm import sessionmaker"
   ]
  },
  {
   "cell_type": "code",
   "execution_count": null,
   "id": "140e7132-95cd-42dc-b284-b86916db1ab0",
   "metadata": {},
   "outputs": [],
   "source": [
    "Session = sessionmaker(bind=bind)"
   ]
  },
  {
   "cell_type": "code",
   "execution_count": null,
   "id": "b46e5ec6-cd74-410e-9f6f-4371e25c6fb0",
   "metadata": {},
   "outputs": [],
   "source": [
    "session = Session()"
   ]
  },
  {
   "cell_type": "code",
   "execution_count": null,
   "id": "0628e224-1a7b-4126-a74f-283a3beb7905",
   "metadata": {},
   "outputs": [],
   "source": [
    "session.add(user)"
   ]
  },
  {
   "cell_type": "code",
   "execution_count": null,
   "id": "b3d6e4cd-12a7-4d73-88c3-a9cf01e57c1b",
   "metadata": {},
   "outputs": [],
   "source": [
    "session.commit()"
   ]
  },
  {
   "cell_type": "code",
   "execution_count": null,
   "id": "dd367282-b261-4860-b782-fb5d036c5307",
   "metadata": {},
   "outputs": [],
   "source": [
    "step 1: dvc add\n",
    "step 2: dvc push\n",
    "step 3: git add\n",
    "s"
   ]
  },
  {
   "cell_type": "markdown",
   "id": "a57fe8b8-d1e0-4d30-a5a6-5f9fa7c46ce7",
   "metadata": {},
   "source": [
    "### Engineering"
   ]
  },
  {
   "cell_type": "code",
   "execution_count": 17,
   "id": "5a1c92dd-a8a4-4932-8ceb-f7fad4c0231e",
   "metadata": {
    "tags": []
   },
   "outputs": [],
   "source": [
    "import torch"
   ]
  },
  {
   "cell_type": "markdown",
   "id": "34f0ace5-0f6d-47df-81af-a011a7e2c94f",
   "metadata": {},
   "source": [
    "### MechInterp"
   ]
  },
  {
   "cell_type": "code",
   "execution_count": null,
   "id": "47a6c109-7f08-483e-962f-47ea0aa063a0",
   "metadata": {},
   "outputs": [],
   "source": [
    "tokens = model.to_tokens(text, prepend_bos=True)"
   ]
  },
  {
   "cell_type": "code",
   "execution_count": null,
   "id": "4b8ec430-4115-4b14-a198-6f4f73ea954f",
   "metadata": {},
   "outputs": [],
   "source": [
    "target_tokens = tokens[1:]"
   ]
  },
  {
   "cell_type": "code",
   "execution_count": null,
   "id": "b464bc47-6c1e-4b6d-8a25-c1bfa8b4cd70",
   "metadata": {},
   "outputs": [],
   "source": [
    "_, cache = model.run_with_cache(tokens)"
   ]
  },
  {
   "cell_type": "code",
   "execution_count": null,
   "id": "718ba888-8069-4d73-adde-da9d0dd38a0a",
   "metadata": {},
   "outputs": [],
   "source": [
    "W_U_target_tokens = model.W_U[:, target_tokens]"
   ]
  },
  {
   "cell_type": "code",
   "execution_count": 18,
   "id": "fe380351-8912-4edc-a68b-269eadfbd5ba",
   "metadata": {
    "tags": []
   },
   "outputs": [],
   "source": [
    "from einops import einsum"
   ]
  },
  {
   "cell_type": "code",
   "execution_count": null,
   "id": "d5892a3e-ba6b-42ef-8483-9c2a1283ac8b",
   "metadata": {},
   "outputs": [],
   "source": [
    "embed = cache[\"hook_embed\"]"
   ]
  },
  {
   "cell_type": "code",
   "execution_count": null,
   "id": "563771f8-9e16-44b0-b0c3-f8c37b2276e2",
   "metadata": {},
   "outputs": [],
   "source": [
    "embed_attributions = einsum(\n",
    "    W_U_target_tokens,\n",
    "    embed[:-1],\n",
    "    \"dim seq, seq dim -> sq\"\n",
    ")"
   ]
  },
  {
   "cell_type": "code",
   "execution_count": 19,
   "id": "a6f0441e-1101-4b6e-b0dd-ca6b642e4bb6",
   "metadata": {
    "tags": []
   },
   "outputs": [],
   "source": [
    "def print_shape(module, input):\n",
    "    print(input.shape)"
   ]
  },
  {
   "cell_type": "code",
   "execution_count": null,
   "id": "e0e8c615-8bc5-4319-8eb0-95b960ebc9e8",
   "metadata": {},
   "outputs": [],
   "source": [
    "model.blocks[1].register_forward_pre_hook(print_shape)"
   ]
  },
  {
   "cell_type": "code",
   "execution_count": null,
   "id": "ed67f06f-45ed-4bd5-9aa2-6d1e8885dc51",
   "metadata": {},
   "outputs": [],
   "source": [
    "tokens = model.to_tokens(text)"
   ]
  },
  {
   "cell_type": "code",
   "execution_count": null,
   "id": "d0b28ed7-8b3d-4000-b255-102d249fd91f",
   "metadata": {},
   "outputs": [],
   "source": [
    "W_U = model.W_U"
   ]
  },
  {
   "cell_type": "code",
   "execution_count": null,
   "id": "93c096c5-cb14-4731-8426-2a9a6933779c",
   "metadata": {},
   "outputs": [],
   "source": [
    "target_tokens = tokens[1:]"
   ]
  },
  {
   "cell_type": "code",
   "execution_count": null,
   "id": "2c0bbb0a-2afa-4537-8f82-3cd95c0f3c97",
   "metadata": {},
   "outputs": [],
   "source": [
    "W_U_correct_tokens = W_U[:, target_tokens ]"
   ]
  },
  {
   "cell_type": "code",
   "execution_count": null,
   "id": "991c038a-7655-4d69-adbe-39522667f408",
   "metadata": {},
   "outputs": [],
   "source": [
    "step 1: extract the correspond residual stream\n",
    "step 2: unembedb\n",
    "step 3: einsum"
   ]
  },
  {
   "cell_type": "code",
   "execution_count": null,
   "id": "423f7850-b755-47cb-965b-3e2a24a2f649",
   "metadata": {},
   "outputs": [],
   "source": [
    "unembed @ final_residual_stream\n",
    "= unembed @ (embed + layer_1 + layer_2)\n",
    "= unembed @ embed + unembed @ layer_1 + unembed @ layer_2"
   ]
  },
  {
   "cell_type": "code",
   "execution_count": null,
   "id": "5d278558-7ea2-4d5d-bb3e-e12e5fabc1b9",
   "metadata": {},
   "outputs": [],
   "source": [
    "step 1: the activation of embed\n",
    "step 2: target tokens\n",
    "step 3: "
   ]
  },
  {
   "cell_type": "code",
   "execution_count": 20,
   "id": "07c3224c-fd37-4a0f-a332-9cdcf259c94d",
   "metadata": {
    "tags": []
   },
   "outputs": [],
   "source": [
    "import torch.distributed.rpc as rpc"
   ]
  },
  {
   "cell_type": "code",
   "execution_count": 21,
   "id": "5ba6a915-325e-44f6-9050-ecf3c20ab35d",
   "metadata": {
    "tags": []
   },
   "outputs": [],
   "source": [
    "futs = []"
   ]
  },
  {
   "cell_type": "code",
   "execution_count": null,
   "id": "095c1988-44ec-4725-a85c-cdcf0b1249d2",
   "metadata": {},
   "outputs": [],
   "source": [
    "for ob_rref in ob_rrefs:\n",
    "    futs.append(rpc.rpc_async(\n",
    "        to=ob_rref.owner(),\n",
    "        func=ob_rref.rpc_sync().run\n",
    "    ))"
   ]
  },
  {
   "cell_type": "code",
   "execution_count": null,
   "id": "055a3b98-75ee-4e89-8fc0-1695d3734cbc",
   "metadata": {},
   "outputs": [],
   "source": [
    "for fut in futs:\n",
    "    fut.append()"
   ]
  },
  {
   "cell_type": "code",
   "execution_count": null,
   "id": "09074c3e-d0fa-4647-905a-feb6d903a3bb",
   "metadata": {},
   "outputs": [],
   "source": [
    "def compute_cross_entropy(logits, targets):\n",
    "    log_probs = F.log_softmax(logits, dim=-1)\n",
    "    return -log_probs[torch.arange(target.shape[-1]), targets].mean()"
   ]
  },
  {
   "cell_type": "code",
   "execution_count": null,
   "id": "91da7a47-aaab-4469-b41c-62c8455085f3",
   "metadata": {},
   "outputs": [],
   "source": [
    "_, cache = model.run_with_cache(tokens)"
   ]
  },
  {
   "cell_type": "code",
   "execution_count": null,
   "id": "0d28c775-90e1-4a86-9b38-660b0a15ba54",
   "metadata": {},
   "outputs": [],
   "source": [
    "W_U = model.W_U"
   ]
  },
  {
   "cell_type": "code",
   "execution_count": null,
   "id": "3bd79c88-97ac-462b-80ee-462fff02dfec",
   "metadata": {},
   "outputs": [],
   "source": [
    "embed = cache[\"hook_embed\"]"
   ]
  },
  {
   "cell_type": "code",
   "execution_count": null,
   "id": "e2ff082e-297c-47cc-99c4-900da43c1d69",
   "metadata": {},
   "outputs": [],
   "source": [
    "target_tokens = tokens[1:]"
   ]
  },
  {
   "cell_type": "code",
   "execution_count": null,
   "id": "cdfc5063-07dc-4acf-93bb-c268a844dbb7",
   "metadata": {},
   "outputs": [],
   "source": [
    "W_U_target_tokens = W_U[:, target_tokens]"
   ]
  },
  {
   "cell_type": "code",
   "execution_count": 22,
   "id": "9b030fe5-1e62-4f8b-adeb-a33eb43ec06e",
   "metadata": {
    "tags": []
   },
   "outputs": [],
   "source": [
    "from einops import einsum"
   ]
  },
  {
   "cell_type": "code",
   "execution_count": null,
   "id": "8293c0f3-7cc2-468d-9e1b-3405dbfaf755",
   "metadata": {},
   "outputs": [],
   "source": [
    "embed_attributions = einsum(\n",
    "    W_U_target_tokens,\n",
    "    embed[:-1],\n",
    "    \"embed seq, seq embed -> seq\"\n",
    ")"
   ]
  },
  {
   "cell_type": "code",
   "execution_count": null,
   "id": "33e0e240-b22e-4ecc-9224-ba649ee71a57",
   "metadata": {},
   "outputs": [],
   "source": [
    "step 1: extract the correspond residual stream\n",
    "step 2: "
   ]
  },
  {
   "cell_type": "code",
   "execution_count": null,
   "id": "c86f3dce-26da-465c-86a4-b23b8eb72826",
   "metadata": {},
   "outputs": [],
   "source": [
    "worker's id\n",
    "worker's name\n",
    "worker info"
   ]
  },
  {
   "cell_type": "code",
   "execution_count": 23,
   "id": "09b58bed-dac0-497a-8db0-07e52c43c450",
   "metadata": {
    "tags": []
   },
   "outputs": [],
   "source": [
    "import pytest"
   ]
  },
  {
   "cell_type": "code",
   "execution_count": null,
   "id": "064cf174-5160-4401-b911-23b828ccea8e",
   "metadata": {},
   "outputs": [],
   "source": [
    "@pytest.fixture\n",
    "def book():\n",
    "    return Book(\"zoo\")"
   ]
  },
  {
   "cell_type": "code",
   "execution_count": null,
   "id": "7f2f4a29-ff8d-4d18-8964-4ac7df836e0a",
   "metadata": {},
   "outputs": [],
   "source": [
    "def test_book(book):\n",
    "    assert book.name = \"zoo\""
   ]
  },
  {
   "cell_type": "code",
   "execution_count": null,
   "id": "0df2bc5e-02ea-4889-ab3b-d5aaf98b3ba0",
   "metadata": {},
   "outputs": [],
   "source": [
    "logits = unembed @ final_residual_stream\n",
    "= unembed @ (embed + layer_1 + layer_2) \n",
    "= unembed @ embed + unembed @ layer_1 + unembed @ layer_2"
   ]
  },
  {
   "cell_type": "code",
   "execution_count": null,
   "id": "98787340-34eb-4bdc-9c07-36a9ac3f8196",
   "metadata": {},
   "outputs": [],
   "source": [
    "ob_rref.owner()"
   ]
  },
  {
   "cell_type": "code",
   "execution_count": 24,
   "id": "5e4a2829-2b88-4209-8364-f9fcc8d082a9",
   "metadata": {
    "tags": []
   },
   "outputs": [],
   "source": [
    "import torch.multiprocessing as mp"
   ]
  },
  {
   "cell_type": "code",
   "execution_count": 25,
   "id": "03f24f01-42c3-432a-bd6c-0066c7386fa3",
   "metadata": {
    "tags": []
   },
   "outputs": [],
   "source": [
    "import os"
   ]
  },
  {
   "cell_type": "code",
   "execution_count": 27,
   "id": "2a02db5e-22de-4def-a307-294a51892761",
   "metadata": {
    "tags": []
   },
   "outputs": [],
   "source": [
    "def run_worker(rank, world_size):\n",
    "    os.environ[\"MASTER_ADDR\"] = \"localhost\"\n",
    "    os.environ[\"MASTER_PORT\"] = \"29500\"\n",
    "    \n",
    "    rpc.init_rpc(\n",
    "        rank=rank,\n",
    "        world_size=world_Size\n",
    "    )"
   ]
  },
  {
   "cell_type": "code",
   "execution_count": null,
   "id": "460a8aa4-f096-4213-9b1a-5f62ab878aae",
   "metadata": {},
   "outputs": [],
   "source": [
    "for rank in range(world_size):\n",
    "    process = mp.Process(\n",
    "        target=run_worker,\n",
    "        args=(rank, world_size)\n",
    "    )\n",
    "    process.start()"
   ]
  },
  {
   "cell_type": "code",
   "execution_count": null,
   "id": "b6f55cfb-ef12-4b62-9fbf-2f0f153df03d",
   "metadata": {},
   "outputs": [],
   "source": [
    "x[:, [1, 3]]"
   ]
  },
  {
   "cell_type": "code",
   "execution_count": null,
   "id": "c9fb485f-108d-4746-af69-d9dc2bf070b9",
   "metadata": {},
   "outputs": [],
   "source": [
    "step 1: the output of the head\n",
    "step 2: the unembed of the target tokens\n",
    "step 3: @"
   ]
  },
  {
   "cell_type": "code",
   "execution_count": null,
   "id": "eb2866d8-f947-43f3-b65e-127277b373ff",
   "metadata": {},
   "outputs": [],
   "source": [
    "step 1: unembed[correct_tokens]\n",
    "step 2: target residual stream\n",
    "step 3: @"
   ]
  },
  {
   "cell_type": "code",
   "execution_count": null,
   "id": "22e56a49-171a-4b22-8bcd-ce880ab218bc",
   "metadata": {},
   "outputs": [],
   "source": [
    "def calculate_loss_of_soft_v(states, actions, action_probs):\n",
    "    entropy = -action_probs.log()\n",
    "    q_preds = q_function(states, actions)\n",
    "    v_target = v_function(states)\n",
    "    v_pred = (q_preds + entropy).mean()\n",
    "    return (v_target - v_pred).pow(2).mean()"
   ]
  }
 ],
 "metadata": {
  "kernelspec": {
   "display_name": "Python 3 (ipykernel)",
   "language": "python",
   "name": "python3"
  },
  "language_info": {
   "codemirror_mode": {
    "name": "ipython",
    "version": 3
   },
   "file_extension": ".py",
   "mimetype": "text/x-python",
   "name": "python",
   "nbconvert_exporter": "python",
   "pygments_lexer": "ipython3",
   "version": "3.8.16"
  }
 },
 "nbformat": 4,
 "nbformat_minor": 5
}
