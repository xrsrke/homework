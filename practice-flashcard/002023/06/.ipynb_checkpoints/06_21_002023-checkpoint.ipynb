{
 "cells": [
  {
   "cell_type": "markdown",
   "id": "ec71385b-2027-4a05-bd93-719599814e37",
   "metadata": {},
   "source": [
    "### Engineering"
   ]
  },
  {
   "cell_type": "code",
   "execution_count": 1,
   "id": "9f2a2386-9a26-4ef4-9d39-b27df2009800",
   "metadata": {
    "tags": []
   },
   "outputs": [],
   "source": [
    "import torch\n",
    "from torch import nn\n",
    "import torch.nn.functional as F"
   ]
  },
  {
   "cell_type": "code",
   "execution_count": null,
   "id": "e91742f2-c5e9-46e9-9ee3-8037a7a4b2a1",
   "metadata": {},
   "outputs": [],
   "source": [
    "handles = [model.ln_final.register_forward_pre_hook(hook) for hook in hooks]"
   ]
  },
  {
   "cell_type": "code",
   "execution_count": null,
   "id": "881d364d-5759-4b45-bbb6-0a5c7ced286f",
   "metadata": {},
   "outputs": [],
   "source": [
    "handles[1].remove()"
   ]
  },
  {
   "cell_type": "code",
   "execution_count": null,
   "id": "30cb9367-ec06-467b-939e-9b79df530ea6",
   "metadata": {},
   "outputs": [],
   "source": []
  },
  {
   "cell_type": "code",
   "execution_count": null,
   "id": "4bc4b296-3930-4eec-899b-af6441a0cc5e",
   "metadata": {},
   "outputs": [],
   "source": [
    "text_embeddings = model.embed(tokens)\n",
    "positional_embeddings = model.pos_embed(tokens)"
   ]
  },
  {
   "cell_type": "code",
   "execution_count": null,
   "id": "985a4557-b2f0-4c09-9e4e-55c33555affb",
   "metadata": {},
   "outputs": [],
   "source": [
    "embeddings = text_embeddings + positional_embeddings"
   ]
  },
  {
   "cell_type": "code",
   "execution_count": null,
   "id": "d8fd21bf-fe38-4f05-b69b-b97b430996d9",
   "metadata": {},
   "outputs": [],
   "source": [
    "residual = embeddings"
   ]
  },
  {
   "cell_type": "code",
   "execution_count": null,
   "id": "c80a89f2-9964-474e-8d73-1445eb46110b",
   "metadata": {},
   "outputs": [],
   "source": [
    "for block in model.blocks:\n",
    "    residual = block(residual)"
   ]
  },
  {
   "cell_type": "code",
   "execution_count": null,
   "id": "fc45f5c0-a29d-4f5b-ad50-369d5500d242",
   "metadata": {},
   "outputs": [],
   "source": [
    "residual = model.ln_final(residual)\n",
    "logits = model.unembed(residual)"
   ]
  },
  {
   "cell_type": "code",
   "execution_count": null,
   "id": "2881b1e5-9f1a-4cc3-9d6e-ab898df5b0b0",
   "metadata": {},
   "outputs": [],
   "source": [
    "clean_tokens = model.to_tokens(clean_prompt)\n",
    "corrupted_tokens = model.to_tokens(corrupted_prompt)"
   ]
  },
  {
   "cell_type": "code",
   "execution_count": null,
   "id": "e27b532f-f8ee-4c63-adc2-a3e6f1fb3f2d",
   "metadata": {},
   "outputs": [],
   "source": [
    ", corrupted_activations = model.run_with_cache(corrupted_tokens)"
   ]
  },
  {
   "cell_type": "code",
   "execution_count": 2,
   "id": "ecdcab72-ff26-43dd-b929-30a00f02af95",
   "metadata": {
    "tags": []
   },
   "outputs": [],
   "source": [
    "from transformer_lens.utils import get_act_name"
   ]
  },
  {
   "cell_type": "code",
   "execution_count": null,
   "id": "f7c327d9-936f-4313-bccb-93b1f92f7ba8",
   "metadata": {},
   "outputs": [],
   "source": [
    "n_tokens = clean_tokens.shape[-1]"
   ]
  },
  {
   "cell_type": "code",
   "execution_count": 3,
   "id": "c4a2a5a9-8c36-4439-a0bd-448a28cb9545",
   "metadata": {
    "tags": []
   },
   "outputs": [],
   "source": [
    "from functools import partial"
   ]
  },
  {
   "cell_type": "code",
   "execution_count": 4,
   "id": "41127ca4-029e-42b8-9880-774cfde23c64",
   "metadata": {
    "tags": []
   },
   "outputs": [],
   "source": [
    "def patch_activation(activations, hook, position_idx, corrupted_activations):\n",
    "    target_activations = corrupted_activations[hook.name][:, position_idx, :]\n",
    "    activations[:, position_idx, :] = target_activations\n",
    "    return activations"
   ]
  },
  {
   "cell_type": "code",
   "execution_count": null,
   "id": "db8833ab-2fe4-4525-a43f-c4eef4184ca0",
   "metadata": {},
   "outputs": [],
   "source": [
    "clean_logits = model(clean_tokens)"
   ]
  },
  {
   "cell_type": "code",
   "execution_count": 6,
   "id": "16c76c12-c240-4c98-ad00-d4be47bbf27f",
   "metadata": {
    "tags": []
   },
   "outputs": [],
   "source": [
    "def compute_logit_difference(clean_logits, corrupted_logits, target_token):\n",
    "    return clean_logits[:, target_token, :] - corrupted_logits[:, target_token, :]"
   ]
  },
  {
   "cell_type": "code",
   "execution_count": null,
   "id": "1f46061a-c401-4a18-80f4-55770a714380",
   "metadata": {},
   "outputs": [],
   "source": [
    "for layer_idx in range(n_layers):\n",
    "    hook_name = get_act_name(\"resid_pre\", layer_idx)\n",
    "    for position_idx in range(n_tokens):\n",
    "        hook_func = partial(\n",
    "            patch_activation,\n",
    "            position_idx=position_idx,\n",
    "            corrupted_activations=corrupted_activations\n",
    "        )\n",
    "        \n",
    "        patched_logits = model.run_with_hooks(\n",
    "            clean_tokens,\n",
    "            fwd_hooks=[(hook_name), hook_func]\n",
    "        )\n",
    "        \n",
    "        logit_difference = compute_logit_difference(clean_logits, patched_logits)\n",
    "    "
   ]
  },
  {
   "cell_type": "code",
   "execution_count": null,
   "id": "4fc7198f-cf9c-4785-a6e6-8584d2b8f376",
   "metadata": {},
   "outputs": [],
   "source": [
    "def print_shape(module, input):\n",
    "    print(input.shape)"
   ]
  },
  {
   "cell_type": "code",
   "execution_count": null,
   "id": "a1bcb1f4-7c26-4aeb-992c-994e5fd6cde6",
   "metadata": {},
   "outputs": [],
   "source": [
    "model.h[1].register_forward_pre_hook(print_shape)"
   ]
  },
  {
   "cell_type": "code",
   "execution_count": 7,
   "id": "58a3f81b-9ae6-4ee8-862b-dcbad355a6c1",
   "metadata": {
    "tags": []
   },
   "outputs": [],
   "source": [
    "from contextlib import contextmanager"
   ]
  },
  {
   "cell_type": "code",
   "execution_count": null,
   "id": "f34cf1e0-4586-4fef-9f5f-47db5e12d9c6",
   "metadata": {},
   "outputs": [],
   "source": [
    "@contextmanager\n",
    "def use_hooks(model, hooks):\n",
    "    try:\n",
    "        module = model.transformer.h[1]\n",
    "        handles = [module.register_forward_pre_hooks(hook) for hook in hooks]\n",
    "    finally:\n",
    "        for handle in handles:\n",
    "            handle.remove()"
   ]
  },
  {
   "cell_type": "code",
   "execution_count": null,
   "id": "2d923883-4876-4557-bcf2-bbe4646284c8",
   "metadata": {},
   "outputs": [],
   "source": [
    "step 1: target component\n",
    "step 2: two prompts\n",
    "step 3: record the activations of the two prompts\n",
    "step 4: patch the activations of the target component from the corrupted prompt to the clean prompt\n",
    "step 5: record the activations of the target receiver nodes\n",
    "step 6: run again with patch the receiver nodes, clean prompt"
   ]
  },
  {
   "cell_type": "code",
   "execution_count": 8,
   "id": "89de40ed-4771-448f-b7ba-014203799368",
   "metadata": {
    "tags": []
   },
   "outputs": [],
   "source": [
    "import torch.distributed as dist"
   ]
  },
  {
   "cell_type": "code",
   "execution_count": null,
   "id": "259b365b-f50e-48cc-8cef-d7ac2480e4a8",
   "metadata": {},
   "outputs": [],
   "source": [
    "if dist.get_rank() == 59"
   ]
  },
  {
   "cell_type": "code",
   "execution_count": null,
   "id": "f33a9559-5641-4c2a-8378-a5557603b9d2",
   "metadata": {},
   "outputs": [],
   "source": [
    "#include <iostream>\n",
    "using namespace std;"
   ]
  },
  {
   "cell_type": "code",
   "execution_count": null,
   "id": "0b71b920-2397-442e-80fc-6f78c51ee867",
   "metadata": {},
   "outputs": [],
   "source": [
    "class Book() {\n",
    "    public:\n",
    "        string title;\n",
    "    \n",
    "        Book(aTitle) {\n",
    "            title = aTitle;\n",
    "        }\n",
    "}"
   ]
  },
  {
   "cell_type": "code",
   "execution_count": 9,
   "id": "d1067f0c-dd9d-4026-827a-e9bc31af269b",
   "metadata": {
    "tags": []
   },
   "outputs": [],
   "source": [
    "n_microbatches = 4"
   ]
  },
  {
   "cell_type": "code",
   "execution_count": 12,
   "id": "1ab14142-f967-44b6-b2af-0e3e16ff9547",
   "metadata": {
    "tags": []
   },
   "outputs": [],
   "source": [
    "n_partritions = 3"
   ]
  },
  {
   "cell_type": "code",
   "execution_count": 21,
   "id": "9472b1be-c8b5-4eb0-b3f1-e5c60912c9d9",
   "metadata": {
    "tags": []
   },
   "outputs": [],
   "source": [
    "n_clock_cycles = n_microbatches + n_partritions - 1"
   ]
  },
  {
   "cell_type": "code",
   "execution_count": 22,
   "id": "78cadfdc-4f3f-470b-9a46-ecc466ff264d",
   "metadata": {
    "tags": []
   },
   "outputs": [
    {
     "data": {
      "text/plain": [
       "6"
      ]
     },
     "execution_count": 22,
     "metadata": {},
     "output_type": "execute_result"
    }
   ],
   "source": [
    "n_clock_cycles"
   ]
  },
  {
   "cell_type": "code",
   "execution_count": 32,
   "id": "f0d5d30c-38a0-4243-9807-6310d2e38b5b",
   "metadata": {
    "tags": []
   },
   "outputs": [
    {
     "name": "stdout",
     "output_type": "stream",
     "text": [
      "[(0, 0)]\n",
      "[(1, 0), (0, 1)]\n",
      "[(2, 0), (1, 1), (0, 2)]\n",
      "[(3, 0), (2, 1), (1, 2)]\n",
      "[(3, 1), (2, 2)]\n",
      "[(3, 2)]\n"
     ]
    }
   ],
   "source": [
    "for clock_idx in range(n_clock_cycles):\n",
    "    start_partrition = max(clock_idx+1-n_microbatches, 0)\n",
    "    end_partrition = min(clock_idx+1, n_partritions)\n",
    "    \n",
    "    tasks = []\n",
    "    for partrition_idx in range(start_partrition, end_partrition):\n",
    "        microbatch_idx = clock_idx - partrition_idx\n",
    "        tasks.append((microbatch_idx, partrition_idx))\n",
    "    \n",
    "    print(tasks)"
   ]
  },
  {
   "cell_type": "code",
   "execution_count": 29,
   "id": "e8d8d053-3623-4d02-8184-7d7fbc7e2fd1",
   "metadata": {
    "tags": []
   },
   "outputs": [
    {
     "data": {
      "text/plain": [
       "0"
      ]
     },
     "execution_count": 29,
     "metadata": {},
     "output_type": "execute_result"
    }
   ],
   "source": [
    "start_partrition"
   ]
  },
  {
   "cell_type": "code",
   "execution_count": 30,
   "id": "b49d4811-8608-4996-a69f-350e1f9b7266",
   "metadata": {
    "tags": []
   },
   "outputs": [
    {
     "data": {
      "text/plain": [
       "1"
      ]
     },
     "execution_count": 30,
     "metadata": {},
     "output_type": "execute_result"
    }
   ],
   "source": [
    "end_partrition"
   ]
  },
  {
   "cell_type": "code",
   "execution_count": null,
   "id": "323bbe4e-96ac-42d1-a6f3-b5d619a11de5",
   "metadata": {},
   "outputs": [],
   "source": [
    "register memory > cache > main memory > disk > external disk"
   ]
  },
  {
   "cell_type": "code",
   "execution_count": 33,
   "id": "8ef4b440-8d04-45e1-9777-cabaee486ad0",
   "metadata": {
    "tags": []
   },
   "outputs": [],
   "source": [
    "from torch.utils.data import Dataset"
   ]
  },
  {
   "cell_type": "code",
   "execution_count": 34,
   "id": "c72fc5cd-f644-44b7-aba6-634c947e397e",
   "metadata": {
    "tags": []
   },
   "outputs": [],
   "source": [
    "class CachedDataset(Dataset):\n",
    "    def __init__(self, filename):\n",
    "        self.filename = filename\n",
    "        self.data = None\n",
    "        self.cached_idxs = {}\n",
    "        self.cache = []\n",
    "    \n",
    "    def prefetch(self, idxs):\n",
    "        if all([x in self.cached_idxs for i in idxs]):\n",
    "            return\n",
    "        \n",
    "        if not self.data:\n",
    "            self.data = torch.load(self.filename)\n",
    "        \n",
    "        n_elements = sum([self.data[i].numel() for i in idxs])\n",
    "        self.data = torch.zeros(n_elements, dtype=self.data.dtype)\n",
    "        offset = 0\n",
    "        for i in idxs:\n",
    "            n_elements = self.data[i].numel()\n",
    "            self.cache[offset:offset+n_elements] = self.data[i].view(-1)\n",
    "            offset += n_elements"
   ]
  },
  {
   "cell_type": "code",
   "execution_count": null,
   "id": "177b6e12-0809-4c29-add3-5d233a6c4fbe",
   "metadata": {},
   "outputs": [],
   "source": [
    "container runtime, kublet, kube proxy"
   ]
  },
  {
   "cell_type": "code",
   "execution_count": 35,
   "id": "0e221415-432e-45fc-8d37-970f6bf87df2",
   "metadata": {
    "tags": []
   },
   "outputs": [],
   "source": [
    "tensor_model_parallel_size = 2"
   ]
  },
  {
   "cell_type": "code",
   "execution_count": 36,
   "id": "d8722817-2a14-4db7-910c-ee876ba987c2",
   "metadata": {
    "tags": []
   },
   "outputs": [],
   "source": [
    "num_tensor_model_parallel_groups = 8"
   ]
  },
  {
   "cell_type": "code",
   "execution_count": 37,
   "id": "066f8b71-ea6e-45ba-b892-58a41d66eafc",
   "metadata": {
    "tags": []
   },
   "outputs": [
    {
     "name": "stdout",
     "output_type": "stream",
     "text": [
      "[0, 1]\n",
      "[2, 3]\n",
      "[4, 5]\n",
      "[6, 7]\n",
      "[8, 9]\n",
      "[10, 11]\n",
      "[12, 13]\n",
      "[14, 15]\n"
     ]
    }
   ],
   "source": [
    "for i in range(num_tensor_model_parallel_groups):\n",
    "    ranks = list(range(\n",
    "        i*tensor_model_parallel_size,\n",
    "        (i+1)*tensor_model_parallel_size\n",
    "    ))\n",
    "    \n",
    "    print(ranks)"
   ]
  },
  {
   "cell_type": "code",
   "execution_count": 38,
   "id": "94b27f20-2e28-4402-86f3-2611dc557090",
   "metadata": {
    "tags": []
   },
   "outputs": [],
   "source": [
    "world_size = 16"
   ]
  },
  {
   "cell_type": "code",
   "execution_count": 39,
   "id": "08a84f8e-04cb-4c9c-8942-f2bc3e7829dd",
   "metadata": {
    "tags": []
   },
   "outputs": [],
   "source": [
    "tensor_model_paralell_size = 2"
   ]
  },
  {
   "cell_type": "code",
   "execution_count": 40,
   "id": "9285de72-f38b-489a-b843-20db4b6ee2af",
   "metadata": {
    "tags": []
   },
   "outputs": [],
   "source": [
    "pipeline_model_paralell_size = 4"
   ]
  },
  {
   "cell_type": "code",
   "execution_count": 41,
   "id": "37de74e5-d51d-408b-99ea-8f5c285b7ca4",
   "metadata": {
    "tags": []
   },
   "outputs": [],
   "source": [
    "num_pipeline_model_parallel_groups = world_size // pipeline_model_paralell_size"
   ]
  },
  {
   "cell_type": "code",
   "execution_count": 42,
   "id": "157bd29d-de58-4823-b0e0-440302a51d36",
   "metadata": {
    "tags": []
   },
   "outputs": [
    {
     "data": {
      "text/plain": [
       "4"
      ]
     },
     "execution_count": 42,
     "metadata": {},
     "output_type": "execute_result"
    }
   ],
   "source": [
    "num_pipeline_model_parallel_groups"
   ]
  },
  {
   "cell_type": "code",
   "execution_count": null,
   "id": "df47baae-940c-43c2-89d4-ee9e33c394d1",
   "metadata": {},
   "outputs": [],
   "source": [
    "for i in range(num_pipeline_model_parallel_groups):\n",
    "    start_rank = i*num_pipeline_model_parallel_groups\n",
    "    end_rank = (i+1)*num_pipeline_model_parallel_groups\n",
    "    \n",
    "    for j in range(tensor_model_paralell_size):\n",
    "        ranks = list(range(\n",
    "            \n",
    "        ))"
   ]
  },
  {
   "cell_type": "code",
   "execution_count": null,
   "id": "c0b1c8ad-7884-4dc8-ba92-be05949ecbe0",
   "metadata": {},
   "outputs": [],
   "source": []
  },
  {
   "cell_type": "code",
   "execution_count": null,
   "id": "b806efd3-37c4-4884-9fc4-2678ffba675c",
   "metadata": {},
   "outputs": [],
   "source": []
  },
  {
   "cell_type": "code",
   "execution_count": 43,
   "id": "823d0afb-0476-48f9-a84d-d0a6699aa511",
   "metadata": {
    "tags": []
   },
   "outputs": [
    {
     "name": "stdout",
     "output_type": "stream",
     "text": [
      "[0, 2]\n",
      "[1, 3]\n",
      "[4, 6]\n",
      "[5, 7]\n",
      "[8, 10]\n",
      "[9, 11]\n",
      "[12, 14]\n",
      "[13, 15]\n"
     ]
    }
   ],
   "source": [
    "for i in range(pipeline_model_paralell_size):\n",
    "    start_rank = i*num_pipeline_model_parallel_groups\n",
    "    end_rank = (i+1)*num_pipeline_model_parallel_groups\n",
    "    \n",
    "    for j in range(tensor_model_paralell_size):\n",
    "        ranks = list(range(\n",
    "            start_rank+j,\n",
    "            end_rank,\n",
    "            tensor_model_paralell_size\n",
    "        ))\n",
    "        \n",
    "        print(ranks)"
   ]
  },
  {
   "cell_type": "code",
   "execution_count": null,
   "id": "599aecd7-8491-4be1-b55a-5522bd809039",
   "metadata": {},
   "outputs": [],
   "source": [
    "broadcast, reduce, scatter, gather"
   ]
  },
  {
   "cell_type": "code",
   "execution_count": null,
   "id": "e86f85db-96cf-4466-a69e-810ef4fe5a66",
   "metadata": {},
   "outputs": [],
   "source": [
    "rank = torch.distributed.get_rank()\n",
    "\n",
    "if rank == 69:\n",
    "    torch.distributed.isend(tensor, dst=42)\n",
    "elif rank == 42:\n",
    "    torch.distributed.irecv(tensor_will_be_received_data, src=69)"
   ]
  },
  {
   "cell_type": "code",
   "execution_count": 45,
   "id": "b2a18a21-7ccf-4a4e-9691-fd08618b8ead",
   "metadata": {
    "tags": []
   },
   "outputs": [],
   "source": [
    "from airflow.decorators import dag, task"
   ]
  },
  {
   "cell_type": "code",
   "execution_count": null,
   "id": "359189c2-47ed-4b01-8b44-52720a1498c9",
   "metadata": {},
   "outputs": [],
   "source": [
    "@dag(dag_id=dag_id, start_date=start_date)\n",
    "def workflow():\n",
    "    @task\n",
    "    def task_1(ti):\n",
    "        ti.push(\"x\", 2)\n",
    "    \n",
    "    @task\n",
    "    def task_2(ti):\n",
    "        x = ti.get(\"x\")\n",
    "        y = x + 3\n",
    "        ti.push(\"y\", y)"
   ]
  },
  {
   "cell_type": "code",
   "execution_count": 47,
   "id": "894b0864-a7ee-4d60-a5c6-a190cb4a79b0",
   "metadata": {
    "tags": []
   },
   "outputs": [],
   "source": [
    "from airflow.decorators import dag\n",
    "from airflow.decorators.python import PythonOperator"
   ]
  },
  {
   "cell_type": "code",
   "execution_count": null,
   "id": "cac64b56-3448-45a0-9029-67729e0a74e7",
   "metadata": {},
   "outputs": [],
   "source": [
    "@dag(dag_id=dag_id, start_date=start_date)\n",
    "def xx():\n",
    "    task_1 = PythonOperator"
   ]
  },
  {
   "cell_type": "code",
   "execution_count": 48,
   "id": "e78061a2-5651-428b-ae75-b86c4d7cfcde",
   "metadata": {
    "tags": []
   },
   "outputs": [],
   "source": [
    "from torch.optim import Optimizer"
   ]
  },
  {
   "cell_type": "code",
   "execution_count": 50,
   "id": "498de44f-a9cf-41f4-8934-cec2aedcb7ae",
   "metadata": {
    "tags": []
   },
   "outputs": [],
   "source": [
    "# class CustomOptimizer(Optimizer):\n",
    "#     def __init__(self, params):\n",
    "#         defaults = dict()\n",
    "#         super().__init__(self, params, defaults)\n",
    "    \n",
    "#     def step(self):\n",
    "#         for param_group in self.param_groups:\n",
    "#             for param in param_group:\n",
    "#                 if param.requires_grad:\n",
    "#                     param = param"
   ]
  },
  {
   "cell_type": "code",
   "execution_count": 51,
   "id": "320adc4e-f637-4c03-8c5f-ed2117bc04a0",
   "metadata": {
    "tags": []
   },
   "outputs": [],
   "source": [
    "from torch.profiler import profiler, ProfilerActivity"
   ]
  },
  {
   "cell_type": "code",
   "execution_count": null,
   "id": "7a362361-023d-4c23-bf24-505e89c57d31",
   "metadata": {},
   "outputs": [],
   "source": [
    "with profiler(activities=[ProfilerActivity.CPU], schedule=pro)"
   ]
  },
  {
   "cell_type": "code",
   "execution_count": null,
   "id": "bb3aec42-e468-4b7e-8b2d-dc86355c78d8",
   "metadata": {},
   "outputs": [],
   "source": [
    "x.repeat((2, 2))"
   ]
  },
  {
   "cell_type": "code",
   "execution_count": null,
   "id": "ea95b15e-b0f8-4dc9-bcbb-7b8e86ddb170",
   "metadata": {},
   "outputs": [],
   "source": [
    "task = torch.distributed.broadcast(x, src=0, async_op=True)"
   ]
  },
  {
   "cell_type": "code",
   "execution_count": null,
   "id": "d5b66da2-3f29-47be-8b3a-9b1296937b33",
   "metadata": {},
   "outputs": [],
   "source": [
    "task.wait()"
   ]
  },
  {
   "cell_type": "code",
   "execution_count": null,
   "id": "5ce29c4f-4357-4894-9e85-b5cf91cc3b30",
   "metadata": {},
   "outputs": [],
   "source": [
    "p, i, d, n"
   ]
  }
 ],
 "metadata": {
  "kernelspec": {
   "display_name": "Python 3 (ipykernel)",
   "language": "python",
   "name": "python3"
  },
  "language_info": {
   "codemirror_mode": {
    "name": "ipython",
    "version": 3
   },
   "file_extension": ".py",
   "mimetype": "text/x-python",
   "name": "python",
   "nbconvert_exporter": "python",
   "pygments_lexer": "ipython3",
   "version": "3.8.16"
  }
 },
 "nbformat": 4,
 "nbformat_minor": 5
}
