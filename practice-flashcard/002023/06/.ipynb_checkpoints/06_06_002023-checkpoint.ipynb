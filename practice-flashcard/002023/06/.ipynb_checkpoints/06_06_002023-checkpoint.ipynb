{
 "cells": [
  {
   "cell_type": "markdown",
   "id": "06a2712f-4f71-4aa3-a901-35381bae2c48",
   "metadata": {},
   "source": [
    "### ML Engineering"
   ]
  },
  {
   "cell_type": "code",
   "execution_count": null,
   "id": "6e35f03c-e245-400f-b1cc-f1768ef009bf",
   "metadata": {},
   "outputs": [],
   "source": [
    "step 1: create a docker network\n",
    "step 2: attach docker network\n",
    "step 3: receive ips\n",
    "step 4: communicate through the ips"
   ]
  },
  {
   "cell_type": "code",
   "execution_count": null,
   "id": "c576c7a8-2009-41ef-8ec1-e7c6fbb75948",
   "metadata": {},
   "outputs": [],
   "source": [
    "docker rm 23a"
   ]
  },
  {
   "cell_type": "code",
   "execution_count": null,
   "id": "d7ef495d-cb2d-4609-a158-d0f84c8c58a5",
   "metadata": {},
   "outputs": [],
   "source": [
    "docker rmi redis:22.2"
   ]
  },
  {
   "cell_type": "code",
   "execution_count": 2,
   "id": "7d508a70-d795-4a7d-a511-0ffe9b473aeb",
   "metadata": {
    "tags": []
   },
   "outputs": [],
   "source": [
    "from pydantic import BaseModel, validator"
   ]
  },
  {
   "cell_type": "code",
   "execution_count": 3,
   "id": "09544269-3a81-4896-9a97-ccbf5efb6c86",
   "metadata": {
    "tags": []
   },
   "outputs": [],
   "source": [
    "class User(BaseModel):\n",
    "    user_id: int\n",
    "    username: str\n",
    "    \n",
    "    @validator(\"username\")\n",
    "    def capitalize(value):\n",
    "        return value.upper()"
   ]
  },
  {
   "cell_type": "code",
   "execution_count": 4,
   "id": "fed24657-7cea-4161-a3c6-6eeaaa9e92f2",
   "metadata": {
    "tags": []
   },
   "outputs": [
    {
     "data": {
      "text/plain": [
       "User(user_id=42, username='XO')"
      ]
     },
     "execution_count": 4,
     "metadata": {},
     "output_type": "execute_result"
    }
   ],
   "source": [
    "User(user_id=42, username=\"xo\")"
   ]
  },
  {
   "cell_type": "code",
   "execution_count": null,
   "id": "0cb574ea-f2b9-4d5e-9b15-543601171105",
   "metadata": {},
   "outputs": [],
   "source": [
    "@app.get(\"/users/{uid}\")\n",
    "def get_user(uid):\n",
    "    return uid"
   ]
  },
  {
   "cell_type": "code",
   "execution_count": 6,
   "id": "d1fb544d-6ced-4b01-974f-73b68a85ff64",
   "metadata": {
    "tags": []
   },
   "outputs": [],
   "source": [
    "from fastapi import HTTPException, status"
   ]
  },
  {
   "cell_type": "code",
   "execution_count": null,
   "id": "f3cc4f89-79e1-425d-b435-1483bd59b5fa",
   "metadata": {},
   "outputs": [],
   "source": [
    "@app.get(\"/blog\")\n",
    "def blog():\n",
    "    yield HTTPException(\n",
    "        status_code=status.HTTP_404_NOT_FOUND,\n",
    "        detail=\"Blog not found\"\n",
    "    )"
   ]
  },
  {
   "cell_type": "code",
   "execution_count": null,
   "id": "c853624c-cbe3-4ccf-9b82-1f78cceeae8d",
   "metadata": {},
   "outputs": [],
   "source": [
    "@app.get(\"/items\", status_code=status.HTTP_201_CREATED)\n",
    "def get_items():\n",
    "    pass"
   ]
  },
  {
   "cell_type": "code",
   "execution_count": 7,
   "id": "a93f55d5-001e-4bbd-9226-d87a5ac8502d",
   "metadata": {
    "tags": []
   },
   "outputs": [],
   "source": [
    "class Blog(BaseModel):\n",
    "    title: str\n",
    "    desc: str"
   ]
  },
  {
   "cell_type": "code",
   "execution_count": null,
   "id": "77585e33-6c2c-4923-a5fe-64f89229deaf",
   "metadata": {},
   "outputs": [],
   "source": [
    "@app.post(\"/blog\")\n",
    "def create_blog(request: Blog):\n",
    "    return request"
   ]
  },
  {
   "cell_type": "code",
   "execution_count": 8,
   "id": "42b5f238-ad7f-4108-a6e9-4290b58960bb",
   "metadata": {
    "tags": []
   },
   "outputs": [],
   "source": [
    "from typing import Optional"
   ]
  },
  {
   "cell_type": "code",
   "execution_count": null,
   "id": "e8f71ae2-6128-47d5-baf6-d67ca7dac158",
   "metadata": {},
   "outputs": [],
   "source": [
    "@app.get(\"/files\")\n",
    "def files(is_deleted: Optional[bool]=False):\n",
    "    pass"
   ]
  },
  {
   "cell_type": "code",
   "execution_count": null,
   "id": "e7a1a87f-c883-4195-9353-300c2249caec",
   "metadata": {},
   "outputs": [],
   "source": [
    "@app.get(\"/blog\")\n",
    "def blog(page: int, published: int):\n",
    "    return {\"page\": page, \"published\": published}"
   ]
  },
  {
   "cell_type": "code",
   "execution_count": 9,
   "id": "50bfeb86-2bbb-40fa-8b72-df52ffc1c3ae",
   "metadata": {
    "tags": []
   },
   "outputs": [],
   "source": [
    "from fastapi import Response"
   ]
  },
  {
   "cell_type": "code",
   "execution_count": null,
   "id": "9a536ae5-b489-41ed-b234-6c0a1d758e44",
   "metadata": {},
   "outputs": [],
   "source": [
    "@app.get(\"/tasks\", reponse: Response)\n",
    "def get_tasks(id):\n",
    "    if id == 0:\n",
    "        response.status_code = status.HTTP_404_NOT_FOUND\n",
    "    else:\n",
    "        response.status_code = status.HTTP_200_OK"
   ]
  },
  {
   "cell_type": "code",
   "execution_count": null,
   "id": "3db65f88-fb0c-4e89-8804-996c0b00749d",
   "metadata": {},
   "outputs": [],
   "source": [
    "@app.get(\"/movies/{name}\")\n",
    "def get_movie(name: str):\n",
    "    return name"
   ]
  },
  {
   "cell_type": "code",
   "execution_count": 11,
   "id": "7a0b332e-74b6-487c-b302-5443d70d5622",
   "metadata": {
    "tags": []
   },
   "outputs": [],
   "source": [
    "from typing import TypeVar, Union"
   ]
  },
  {
   "cell_type": "code",
   "execution_count": 12,
   "id": "412efe66-03a2-4172-864d-a5f419a021db",
   "metadata": {
    "tags": []
   },
   "outputs": [],
   "source": [
    "T = TypeVar(\"T\")"
   ]
  },
  {
   "cell_type": "code",
   "execution_count": null,
   "id": "b7cd4405-1280-466e-9252-7dd59c15df56",
   "metadata": {},
   "outputs": [],
   "source": [
    "APIResponse = Union[T, APIError]"
   ]
  },
  {
   "cell_type": "markdown",
   "id": "11646a30-ecbf-46b4-b5a3-9e9d2697e214",
   "metadata": {},
   "source": [
    "### C++"
   ]
  },
  {
   "cell_type": "code",
   "execution_count": null,
   "id": "ac4eccee-7edf-42fc-889a-96b24fbfdbf0",
   "metadata": {},
   "outputs": [],
   "source": [
    "#include <iostream>\n",
    "\n",
    "int main() {\n",
    "    std::cout << \"hello world\";\n",
    "    return 0;\n",
    "}"
   ]
  },
  {
   "cell_type": "code",
   "execution_count": null,
   "id": "9e8a6170-4b88-416a-b74b-b150ff6d078f",
   "metadata": {},
   "outputs": [],
   "source": [
    "int main() {\n",
    "    const float pi = 3.15;\n",
    "    return 0;\n",
    "}"
   ]
  },
  {
   "cell_type": "code",
   "execution_count": null,
   "id": "c9e5db05-e05d-45bb-ac15-6c5db7ae747a",
   "metadata": {},
   "outputs": [],
   "source": [
    "#include <iostream>"
   ]
  },
  {
   "cell_type": "code",
   "execution_count": null,
   "id": "2e701b94-6d4c-49ea-a2d3-bf40bf0cef61",
   "metadata": {},
   "outputs": [],
   "source": [
    "int main() {\n",
    "    int file_size = 100;\n",
    "    return 0;\n",
    "}"
   ]
  },
  {
   "cell_type": "code",
   "execution_count": null,
   "id": "88ab6ecd-685d-4ea7-8c38-cc1dc8574adc",
   "metadata": {},
   "outputs": [],
   "source": [
    "int main() {\n",
    "    return 0;\n",
    "}"
   ]
  },
  {
   "cell_type": "code",
   "execution_count": null,
   "id": "1c25f3f4-8a96-472d-8ef5-3871ac4a9d08",
   "metadata": {},
   "outputs": [],
   "source": [
    "def compute_total_memory(model):\n",
    "    total_memory = 0.\n",
    "    \n",
    "    for param in model.parameters():\n",
    "        n_elements = param.numel()\n",
    "        size = params.storage.size()\n",
    "        total_memory += n_elements*size\n",
    "    \n",
    "    return total_memory"
   ]
  },
  {
   "cell_type": "code",
   "execution_count": null,
   "id": "7458989a-db83-47d5-b257-bd93d624d241",
   "metadata": {},
   "outputs": [],
   "source": [
    "step 1: scale the loss using scaling factor\n",
    "step 2: calculate the gradient with respect to the scaled loss\n",
    "step 3: accumulate the gradient across all devices (or batch)\n",
    "step 4: update if "
   ]
  },
  {
   "cell_type": "code",
   "execution_count": null,
   "id": "fdeea247-6b94-45e2-a06a-d770b39269a1",
   "metadata": {},
   "outputs": [],
   "source": [
    "clock cycle 1: B_{n, m}\n",
    "clock cycle 2: B_{n, m-1}, B_{n-1, m}\n",
    "clock cycle 3: B_{n, m-2}, B_{n-1, m-1}, B_{n-2, m}"
   ]
  },
  {
   "cell_type": "code",
   "execution_count": null,
   "id": "eb19a654-755d-4dfb-9468-726cb41ced42",
   "metadata": {},
   "outputs": [],
   "source": [
    "#include <iostream>\n",
    "\n",
    "int main() {\n",
    "    std::cout << \"hello world\";\n",
    "    return 0;\n",
    "}"
   ]
  },
  {
   "cell_type": "code",
   "execution_count": null,
   "id": "9510838f-bd50-4655-a549-9c76caa8c2f9",
   "metadata": {
    "jupyter": {
     "source_hidden": true
    }
   },
   "outputs": [],
   "source": []
  },
  {
   "cell_type": "code",
   "execution_count": null,
   "id": "1998907b-d0fc-47e5-9bf0-7d1a5b7a4b47",
   "metadata": {},
   "outputs": [],
   "source": [
    "step 1: choose a component\n",
    "step 2: record the activations of prompt 1\n",
    "step 3: activation patching\n",
    "step 4: logit difference"
   ]
  },
  {
   "cell_type": "code",
   "execution_count": null,
   "id": "08b341d0-a8bd-480a-939d-0bd4761f4035",
   "metadata": {},
   "outputs": [],
   "source": [
    "import torch\n",
    "from torch import nn\n",
    "import torch.nn.functional as F"
   ]
  },
  {
   "cell_type": "code",
   "execution_count": null,
   "id": "54036f81-b68e-4b0d-a980-613ab490f21e",
   "metadata": {},
   "outputs": [],
   "source": [
    "import torch"
   ]
  },
  {
   "cell_type": "code",
   "execution_count": 1,
   "id": "e9d73ae9-cd3a-4b9c-b646-3de913c50ecd",
   "metadata": {},
   "outputs": [
    {
     "name": "stdout",
     "output_type": "stream",
     "text": [
      "Requirement already satisfied: torch in /Users/education/opt/anaconda3/envs/pytorch/lib/python3.8/site-packages (2.0.1)\n",
      "Requirement already satisfied: filelock in /Users/education/opt/anaconda3/envs/pytorch/lib/python3.8/site-packages (from torch) (3.12.0)\n",
      "Requirement already satisfied: typing-extensions in /Users/education/opt/anaconda3/envs/pytorch/lib/python3.8/site-packages (from torch) (4.6.3)\n",
      "Requirement already satisfied: sympy in /Users/education/opt/anaconda3/envs/pytorch/lib/python3.8/site-packages (from torch) (1.12)\n",
      "Requirement already satisfied: networkx in /Users/education/opt/anaconda3/envs/pytorch/lib/python3.8/site-packages (from torch) (3.1)\n",
      "Requirement already satisfied: jinja2 in /Users/education/opt/anaconda3/envs/pytorch/lib/python3.8/site-packages (from torch) (3.1.2)\n",
      "Requirement already satisfied: MarkupSafe>=2.0 in /Users/education/opt/anaconda3/envs/pytorch/lib/python3.8/site-packages (from jinja2->torch) (2.1.3)\n",
      "Requirement already satisfied: mpmath>=0.19 in /Users/education/opt/anaconda3/envs/pytorch/lib/python3.8/site-packages (from sympy->torch) (1.3.0)\n",
      "Note: you may need to restart the kernel to use updated packages.\n"
     ]
    }
   ],
   "source": [
    "pip install torch"
   ]
  },
  {
   "cell_type": "code",
   "execution_count": null,
   "id": "6df149ad-3f59-4716-91fe-a8edbc083fda",
   "metadata": {},
   "outputs": [],
   "source": [
    "step 1: create a clean prompt and corrupted prompt\n",
    "step 2: record all intermediate activations of the clean prompt\n",
    "step 3: "
   ]
  },
  {
   "cell_type": "markdown",
   "id": "eab5f61a-5a85-47b5-aaa2-1fe979213dd0",
   "metadata": {},
   "source": [
    "### AI"
   ]
  },
  {
   "cell_type": "code",
   "execution_count": 2,
   "id": "d8e95289-b754-4023-af11-f88b1800dcfc",
   "metadata": {},
   "outputs": [],
   "source": [
    "import torch\n",
    "from torch import nn\n",
    "import torch.nn.functional as F"
   ]
  },
  {
   "cell_type": "code",
   "execution_count": null,
   "id": "28dea528-8e76-47a3-a528-bfe71976f9f1",
   "metadata": {},
   "outputs": [],
   "source": [
    "stream1 = torch.cuda.Stream()\n",
    "stream2 = torch.cuda.Stream()"
   ]
  },
  {
   "cell_type": "code",
   "execution_count": null,
   "id": "f4e11243-abec-450d-9f23-da3cb6e17a94",
   "metadata": {},
   "outputs": [],
   "source": [
    "with torch.cuda.stream(stream1):\n",
    "    x_mean = x.mean(dim=-1)\n",
    "    \n",
    "with torch.cuda.stream(stream2):\n",
    "    y_mean = y.mean(dim=-1)"
   ]
  },
  {
   "cell_type": "code",
   "execution_count": null,
   "id": "d884aec1-7591-4d89-b88b-c3a1270b9ca4",
   "metadata": {},
   "outputs": [],
   "source": [
    "class Function(torch.autograd.Function):\n",
    "    @staticmethod\n",
    "    def forward(ctx, input):\n",
    "        ctx.input = input\n",
    "        return input\n",
    "    \n",
    "    @staticmethod\n",
    "    def backward(ctx, grad_output):\n",
    "        return ctx.input"
   ]
  },
  {
   "cell_type": "code",
   "execution_count": null,
   "id": "e4a0ed38-2499-4aa7-9bd4-2be11f71acf4",
   "metadata": {},
   "outputs": [],
   "source": [
    "task = torch.distributed.broadcast(x, src=0, async_op=True)"
   ]
  },
  {
   "cell_type": "code",
   "execution_count": null,
   "id": "c55f724e-6911-4eb3-a3ae-0f23e159bfa0",
   "metadata": {},
   "outputs": [],
   "source": [
    "task.wait()"
   ]
  },
  {
   "cell_type": "code",
   "execution_count": null,
   "id": "9686e11e-045e-4249-8c9b-13c9b8cb38d0",
   "metadata": {},
   "outputs": [],
   "source": [
    "diagonal = x.diagonal(dim1=-2, dim2=-1)"
   ]
  },
  {
   "cell_type": "code",
   "execution_count": null,
   "id": "06111afc-8d6f-4f1a-aeb7-731590189c82",
   "metadata": {},
   "outputs": [],
   "source": [
    "dist.recev()"
   ]
  },
  {
   "cell_type": "code",
   "execution_count": null,
   "id": "1b33a8c4-de95-400b-872f-954f95299137",
   "metadata": {},
   "outputs": [],
   "source": [
    "step 1: create a clean prompt and corrupted prompt\n",
    "step 2: record the interdimate activations of the clean prompt\n",
    "step 3: activation patching\n",
    "step 4: logit difference"
   ]
  },
  {
   "cell_type": "code",
   "execution_count": null,
   "id": "07e9f0dd-7236-4c32-8dfd-fa3b38f1dd59",
   "metadata": {},
   "outputs": [],
   "source": [
    "class Function(torch.autograd.Function):\n",
    "    @staticmethod\n",
    "    def forward(ctx, input):\n",
    "        ctx.input = input\n",
    "        return input\n",
    "    \n",
    "    @staticmethod\n",
    "    def backward(ctx, grad_output):\n",
    "        return ctx.input"
   ]
  },
  {
   "cell_type": "code",
   "execution_count": null,
   "id": "0f5c7be3-4926-46b2-ad67-58345e35e5fa",
   "metadata": {},
   "outputs": [],
   "source": [
    "ganglia bioplar"
   ]
  },
  {
   "cell_type": "code",
   "execution_count": null,
   "id": "0e3fbcfe-7dad-445b-a2e3-331dd00764a7",
   "metadata": {},
   "outputs": [],
   "source": [
    "two uncertainty principles\n",
    "quantization of angular momentum\n",
    "quantization of action"
   ]
  },
  {
   "cell_type": "code",
   "execution_count": 4,
   "id": "97f6210d-2f4c-4916-aff9-756ddc11757c",
   "metadata": {
    "tags": []
   },
   "outputs": [],
   "source": [
    "from torch_geometric.data import Data"
   ]
  },
  {
   "cell_type": "code",
   "execution_count": 5,
   "id": "577a666a-3ce8-4dc0-809a-ce071dbbb5ed",
   "metadata": {
    "tags": []
   },
   "outputs": [],
   "source": [
    "x = torch.tensor([-1, 0, 1])"
   ]
  },
  {
   "cell_type": "code",
   "execution_count": 6,
   "id": "30de46b0-0f43-4da2-9b99-ee29aad2bc40",
   "metadata": {
    "tags": []
   },
   "outputs": [],
   "source": [
    "edges = torch.tensor([\n",
    "    [0, 1, 2, 1],\n",
    "    [1, 0, 1, 2]\n",
    "])"
   ]
  },
  {
   "cell_type": "code",
   "execution_count": 7,
   "id": "2263c3e4-e85b-4bf1-9fda-06822ff3ca94",
   "metadata": {
    "tags": []
   },
   "outputs": [
    {
     "data": {
      "text/plain": [
       "Data(x=[3], edge_index=[2, 4])"
      ]
     },
     "execution_count": 7,
     "metadata": {},
     "output_type": "execute_result"
    }
   ],
   "source": [
    "Data(x=x, edge_index=edges)"
   ]
  },
  {
   "cell_type": "code",
   "execution_count": null,
   "id": "cf7d3748-8857-4091-8b51-4f32fa5ab955",
   "metadata": {},
   "outputs": [],
   "source": [
    "class MultiHeadAttention(nn.Module):\n",
    "    def __init__(self, attention, d_model, n_heads):\n",
    "        super().__init__()\n",
    "        self.d_model, self.n_heads = d_model, n_heads\n",
    "        self.d_head = d_model // n_heads\n",
    "        self.attention = attention\n",
    "        \n",
    "        self.to_q = nn.Linear(d_model, d_model)\n",
    "        self.to_k = nn.Linear(d_model, d_model)\n",
    "        self.to_v = nn.Linear(d_model, d_model)\n",
    "        \n",
    "        self.proj = nn.Linear(d_model, d_model)\n",
    "    \n",
    "    def split_heads(self, x):\n",
    "        batch_size, seq_len, d_model = x.size()\n",
    "        return x.view(batch_size, self.n_heads, seq_len, self.d_head)\n",
    "    \n",
    "    def forward(self, pre_q, pre_k, pre_v):\n",
    "        q = self.to_q(pre_q)\n",
    "        k = self.to_k(pre_k)\n",
    "        v = self.to_v(pre_v)\n",
    "        \n",
    "        q = self.split_heads(q)\n",
    "        k = self.split_heads(k)\n",
    "        v = self.split_heads(v)\n",
    "        \n",
    "        attn_out, attn_weights = self.attention(\n",
    "            q=q, k=k, v=v\n",
    "        )\n",
    "        \n",
    "        q = self.concat(q)"
   ]
  },
  {
   "cell_type": "code",
   "execution_count": null,
   "id": "915c4cb7-f034-49f2-8082-c0efae2b34ad",
   "metadata": {},
   "outputs": [],
   "source": [
    "def nll(sm_pred, target):\n",
    "    return -sm_pred[torch.arange(target.shape[-1]), target].mean()"
   ]
  }
 ],
 "metadata": {
  "kernelspec": {
   "display_name": "Python 3 (ipykernel)",
   "language": "python",
   "name": "python3"
  },
  "language_info": {
   "codemirror_mode": {
    "name": "ipython",
    "version": 3
   },
   "file_extension": ".py",
   "mimetype": "text/x-python",
   "name": "python",
   "nbconvert_exporter": "python",
   "pygments_lexer": "ipython3",
   "version": "3.8.16"
  }
 },
 "nbformat": 4,
 "nbformat_minor": 5
}
