{
 "cells": [
  {
   "cell_type": "markdown",
   "id": "5f1a5fbd-f3a9-4ddb-8812-7163620feed6",
   "metadata": {},
   "source": [
    "### Engineering"
   ]
  },
  {
   "cell_type": "code",
   "execution_count": 1,
   "id": "2e75b82a-adc7-4500-bf3b-13b78c544e1c",
   "metadata": {
    "tags": []
   },
   "outputs": [],
   "source": [
    "import torch\n",
    "from torch import nn\n",
    "import torch.nn.functional as F"
   ]
  },
  {
   "cell_type": "code",
   "execution_count": null,
   "id": "739e668d-d31c-4a28-8b4a-a8552ca00545",
   "metadata": {},
   "outputs": [],
   "source": [
    "int main() {\n",
    "    int tensors[3][2] = {\n",
    "        {1, 2},\n",
    "        {3, 4},\n",
    "        {5, 6}\n",
    "    };\n",
    "    \n",
    "    return 0;\n",
    "}"
   ]
  },
  {
   "cell_type": "code",
   "execution_count": null,
   "id": "218ed879-53f6-4c77-9e47-bdd0667d57bc",
   "metadata": {},
   "outputs": [],
   "source": [
    "#include <iostream>"
   ]
  },
  {
   "cell_type": "code",
   "execution_count": null,
   "id": "190e594d-78df-484f-baec-ade85d7bc838",
   "metadata": {},
   "outputs": [],
   "source": [
    "int main() {\n",
    "    int i = 0;\n",
    "    \n",
    "    while (i <= 5) {\n",
    "        std::cout << i;\n",
    "        i++;\n",
    "    }\n",
    "    \n",
    "    return 0;\n",
    "}"
   ]
  },
  {
   "cell_type": "code",
   "execution_count": null,
   "id": "5c27c155-7c1d-42cb-b4ac-b79767385f87",
   "metadata": {},
   "outputs": [],
   "source": [
    "int* ptr = (int*)malloc(69)"
   ]
  },
  {
   "cell_type": "code",
   "execution_count": null,
   "id": "a6b13315-564a-49df-9667-5f2c26bfd71c",
   "metadata": {},
   "outputs": [],
   "source": [
    "int main() {\n",
    "    int numbers[] = {1, 2, 3, 4};\n",
    "    \n",
    "    std::cout << numbers[0];\n",
    "    return 0;\n",
    "}"
   ]
  },
  {
   "cell_type": "code",
   "execution_count": null,
   "id": "47d11c86-779b-4473-8ef6-0e454272c1bf",
   "metadata": {},
   "outputs": [],
   "source": [
    "using namespace std;"
   ]
  },
  {
   "cell_type": "code",
   "execution_count": null,
   "id": "f1197f01-d007-4382-987a-ddd243eb1e3c",
   "metadata": {},
   "outputs": [],
   "source": [
    "class Book() {\n",
    "    public:\n",
    "        string title;\n",
    "    \n",
    "        Book(string aTitle) {\n",
    "            title = aTitle;\n",
    "        }\n",
    "}"
   ]
  },
  {
   "cell_type": "code",
   "execution_count": 3,
   "id": "08e2eb8a-12c4-4def-bb74-4f9b0efb9111",
   "metadata": {
    "tags": []
   },
   "outputs": [],
   "source": [
    "def wait_stream(source_stream, target_stream):\n",
    "    if isinstance(target_stream, torch.cuda.Stream):\n",
    "        if isinstance(source_stream, torch.cuda.Stream):\n",
    "            # GPU waits for GPU\n",
    "            source_stream.wait_stream(target_stream)\n",
    "        else:\n",
    "            target_stream.syncronous()"
   ]
  },
  {
   "cell_type": "code",
   "execution_count": 4,
   "id": "6027bb9a-ec4b-4d0b-b95a-ad490252e510",
   "metadata": {
    "tags": []
   },
   "outputs": [],
   "source": [
    "class Wait(torch.autograd.Function):\n",
    "    @staticmethod\n",
    "    def forward(ctx, prev_stream, next_stream, input):\n",
    "        ctx.prev_stream = prev_stream\n",
    "        ctx.next_stream = next_stream\n",
    "        \n",
    "        wait_stream(\n",
    "            source_stream=next_stream,\n",
    "            target_stream=prev_stream\n",
    "        )\n",
    "        \n",
    "        return input\n",
    "    \n",
    "    @staticmethod\n",
    "    def backward(ctx, grad_input):\n",
    "        prev_stream = ctx.prev_stream\n",
    "        next_stream = ctx.next_stream\n",
    "        \n",
    "        wait_stream(\n",
    "            source_stream=prev_stream,\n",
    "            target_stream=next_stream\n",
    "        )\n",
    "        \n",
    "        grad_stream = [None, None]\n",
    "        return grad_stream + grad_input"
   ]
  },
  {
   "cell_type": "code",
   "execution_count": null,
   "id": "45545918-f16e-4bba-9a93-cfe529e9dec6",
   "metadata": {},
   "outputs": [],
   "source": [
    "step 1: compute x1\n",
    "step 2: "
   ]
  },
  {
   "cell_type": "code",
   "execution_count": null,
   "id": "e84dda3b-f5ad-4b5c-af9c-7de4ff0500fe",
   "metadata": {},
   "outputs": [],
   "source": [
    "flops\n",
    "memory bandwidth\n",
    "power"
   ]
  },
  {
   "cell_type": "code",
   "execution_count": null,
   "id": "e4fbaeca-a69f-4fab-9e6e-c6a82276abaa",
   "metadata": {},
   "outputs": [],
   "source": [
    "size_t"
   ]
  },
  {
   "cell_type": "code",
   "execution_count": null,
   "id": "a29467e0-552c-4d03-89f6-f20ab3702500",
   "metadata": {},
   "outputs": [],
   "source": [
    "class RowParallelLinear(nn.Module):\n",
    "    def __init__(self, input_size, output_size):\n",
    "        super().__init__()\n",
    "        world_size = torch.distributed.get_world_size()\n",
    "        self.input_size_per_partrition = input_size // world_size\n",
    "        self.output_size = output_size\n",
    "        \n",
    "        self.weight = nn.Parameter(torch.empty(\n",
    "            self.output_size,\n",
    "            self.input_size_per_partrition\n",
    "        ))\n",
    "        self.bias = nn.Parameter(torch.empty(\n",
    "            self.output_size\n",
    "        ))\n",
    "    \n",
    "    def forward(self, input):\n",
    "        world_size = torch.distributed.get_world_size()\n",
    "        rank = torch.distributed.get_rank()\n",
    "        \n",
    "        dim_size = input.shape[-1]\n",
    "        dim_size_per_partrition = dim_size // world_size\n",
    "        input_chunks = torch.split(input, dim_size_per_partrition, dim=-1)\n",
    "        input_parallel = input_chunks[rank]\n",
    "        output_parallel = F.linear(input_parallel, self.weight, self.bias)\n",
    "        \n",
    "        torch.distributed.all_reduce(output_parallel)\n",
    "        \n",
    "        return output_parallel"
   ]
  },
  {
   "cell_type": "code",
   "execution_count": null,
   "id": "57845fa8-5312-4281-aa54-56f3daf9308c",
   "metadata": {},
   "outputs": [],
   "source": [
    "int *h_a, *h_b, *h_c;"
   ]
  },
  {
   "cell_type": "code",
   "execution_count": null,
   "id": "afd13224-2627-49f8-8650-e4eff796a4d4",
   "metadata": {},
   "outputs": [],
   "source": [
    "size_t bytes = sizeof(int) *n"
   ]
  },
  {
   "cell_type": "code",
   "execution_count": null,
   "id": "b41ce4f0-b34b-47b5-806b-8f2eb34116c6",
   "metadata": {},
   "outputs": [],
   "source": [
    "thread\n",
    "process\n",
    "vectorization\n",
    "streaming"
   ]
  },
  {
   "cell_type": "code",
   "execution_count": 6,
   "id": "2ce8b0e3-17d2-42d6-afed-a2be549adfc2",
   "metadata": {
    "tags": []
   },
   "outputs": [],
   "source": [
    "import functools"
   ]
  },
  {
   "cell_type": "code",
   "execution_count": null,
   "id": "0ed8e53c-59fd-4b26-8a7b-329add57b8c6",
   "metadata": {},
   "outputs": [],
   "source": [
    "def my_decorator(func):\n",
    "    @functools.wraps(func)\n",
    "    def wrapper():\n",
    "        "
   ]
  },
  {
   "cell_type": "code",
   "execution_count": 7,
   "id": "2799e9c7-79f7-4398-8236-fdb9ef270916",
   "metadata": {
    "tags": []
   },
   "outputs": [],
   "source": [
    "tensor_model_parallel_size = 2"
   ]
  },
  {
   "cell_type": "code",
   "execution_count": 8,
   "id": "b32a2a7c-f1e5-4bda-b498-3ae7dcc1a3fe",
   "metadata": {
    "tags": []
   },
   "outputs": [],
   "source": [
    "num_tensor_model_parallel_groups = 8"
   ]
  },
  {
   "cell_type": "code",
   "execution_count": 9,
   "id": "7f320288-cc47-46ce-a21e-7ee5f9c7cf6b",
   "metadata": {
    "tags": []
   },
   "outputs": [],
   "source": [
    "list_ranks = []"
   ]
  },
  {
   "cell_type": "code",
   "execution_count": 10,
   "id": "dcc8fdf8-b188-44d8-93ae-e10a689a74aa",
   "metadata": {
    "tags": []
   },
   "outputs": [
    {
     "name": "stdout",
     "output_type": "stream",
     "text": [
      "[0, 1]\n",
      "[2, 3]\n",
      "[4, 5]\n",
      "[6, 7]\n",
      "[8, 9]\n",
      "[10, 11]\n",
      "[12, 13]\n",
      "[14, 15]\n"
     ]
    }
   ],
   "source": [
    "for i in range(num_tensor_model_parallel_groups):\n",
    "    ranks = list(range(\n",
    "        i*tensor_model_parallel_size,\n",
    "        (i+1)*tensor_model_parallel_size\n",
    "    ))\n",
    "    \n",
    "    print(ranks)"
   ]
  },
  {
   "cell_type": "code",
   "execution_count": null,
   "id": "0254d7c8-ad78-46d2-ab24-c7d1751763aa",
   "metadata": {},
   "outputs": [],
   "source": [
    "def by_column_parallelism(inputs, weights):\n",
    "    dim_size = weights.shape[-1]\n",
    "    dim_size_per_partrition = dim_size // 2\n",
    "    w1, w2 = weights[:, :dim_size_per_partrition], weights[:, dim_size_per_partrition:]\n",
    "    out1 = torch.matmul(inputs @ w1)\n",
    "    out2 = torch.matmul(inputs @ w2)\n",
    "    return torch.cat([out1, out2], dim=-1)"
   ]
  },
  {
   "cell_type": "code",
   "execution_count": null,
   "id": "8e8e86b5-1803-4a38-873e-fd4bd2e8b483",
   "metadata": {},
   "outputs": [],
   "source": [
    "idxs\n",
    "size(idxs)\n",
    "allocate\n",
    "load"
   ]
  },
  {
   "cell_type": "code",
   "execution_count": null,
   "id": "9dbbae42-3543-4158-b06e-36f4c1ea23ec",
   "metadata": {},
   "outputs": [],
   "source": [
    "int* h_a, h_b, h_c;"
   ]
  },
  {
   "cell_type": "code",
   "execution_count": null,
   "id": "92f6304a-d64b-49cd-a5a3-8b3802eefdb8",
   "metadata": {},
   "outputs": [],
   "source": [
    "size_t bytes = sizeof(int) * n"
   ]
  },
  {
   "cell_type": "code",
   "execution_count": null,
   "id": "784da38e-0281-46e4-aa4d-5ff2dbaa4b71",
   "metadata": {},
   "outputs": [],
   "source": [
    "h_a = (int*)malloc(bytes)\n",
    "h_b = (int*)malloc(bytes)\n",
    "h_c = (int*)malloc(bytes)"
   ]
  },
  {
   "cell_type": "code",
   "execution_count": 11,
   "id": "cf5c208d-f9f9-440b-8bc8-04f09395e2f5",
   "metadata": {
    "tags": []
   },
   "outputs": [],
   "source": [
    "import functools"
   ]
  },
  {
   "cell_type": "code",
   "execution_count": 12,
   "id": "23594c52-ff9c-4346-ac18-36b7aff6a296",
   "metadata": {
    "tags": []
   },
   "outputs": [],
   "source": [
    "def my_decorator(func):\n",
    "    @functools.wraps(func)\n",
    "    def wrapper():\n",
    "        print(\"before\")\n",
    "        output = func()\n",
    "        print(\"after\")\n",
    "        return output\n",
    "    \n",
    "    return wrapper"
   ]
  },
  {
   "cell_type": "code",
   "execution_count": null,
   "id": "4f639aef-c813-44d0-899f-0f879af22f78",
   "metadata": {},
   "outputs": [],
   "source": [
    "def by_row_parallelism(inputs, weights):\n",
    "    inp1 = inputs[:, inputs.shape[-1]//2:]\n",
    "    inp1 = inputs[:, :inputs.shape[-1]//2]\n",
    "    w1 = weights[:weights.shape[-1]//2, :]\n",
    "    w2 = weights[weights.shape[-1]//2:, :]\n",
    "    \n",
    "    out1 = inp1 @ w1\n",
    "    out2 = inp2 @ w2\n",
    "    \n",
    "    return out1 + out2"
   ]
  },
  {
   "cell_type": "code",
   "execution_count": null,
   "id": "2e4632f9-e81d-46f6-8a44-760d6708d1ac",
   "metadata": {},
   "outputs": [],
   "source": [
    "monitor\n",
    "if a node failed, reassign tasks for suriving nodes\n",
    "if a new node joined, create new workers, and join a new communication ring"
   ]
  },
  {
   "cell_type": "code",
   "execution_count": null,
   "id": "5e121648-34eb-4d9d-921b-a3a22ed8182c",
   "metadata": {},
   "outputs": [],
   "source": [
    "clock cycle 1: backward(4, 3), backward(3, 3)\n",
    "clock cycle 2: backward(3, 3), backward(2, 3)\n",
    "clock cycle 3: backward(2, 3), backward(1, 3)"
   ]
  },
  {
   "cell_type": "markdown",
   "id": "dd3132be-24bd-4aef-a001-060c525c013a",
   "metadata": {},
   "source": [
    "### ML Engineering"
   ]
  },
  {
   "cell_type": "code",
   "execution_count": 13,
   "id": "c0d2e11b-4f6f-4558-9a82-eb8d94566cf4",
   "metadata": {
    "tags": []
   },
   "outputs": [],
   "source": [
    "from functools import reduce"
   ]
  },
  {
   "cell_type": "code",
   "execution_count": null,
   "id": "66508832-ecd9-4095-b987-7fa370853a9e",
   "metadata": {},
   "outputs": [],
   "source": [
    "result = reduce(lambda x, y: x+y, numbers)"
   ]
  },
  {
   "cell_type": "markdown",
   "id": "e1360165-ba44-47c9-8ad7-d2e66b048a59",
   "metadata": {},
   "source": [
    "### AI"
   ]
  },
  {
   "cell_type": "code",
   "execution_count": null,
   "id": "ffc85fe6-996b-419a-a37a-247d322bba43",
   "metadata": {},
   "outputs": [],
   "source": [
    "image_similarities = image_embeddings @ image_embeddings.T\n",
    "text_similarities = text_embeddings @ text_embeddings.T"
   ]
  },
  {
   "cell_type": "code",
   "execution_count": null,
   "id": "404487e5-9cf4-420d-b239-450c2838a454",
   "metadata": {},
   "outputs": [],
   "source": [
    "target = F.softmax(\n",
    "    (image_similarities+text_similarities) / (2 *)\n",
    ")"
   ]
  },
  {
   "cell_type": "code",
   "execution_count": 15,
   "id": "a5e86149-1ff7-422b-9d2c-42281736a225",
   "metadata": {
    "tags": []
   },
   "outputs": [],
   "source": [
    "from torch.profiler import profile, ProfilerActivity"
   ]
  },
  {
   "cell_type": "code",
   "execution_count": null,
   "id": "330a39bf-a718-4941-9932-48a337bbcde1",
   "metadata": {},
   "outputs": [],
   "source": [
    "with profile(\n",
    "    activities=[ProfilerActivity.CPU],\n",
    "    schedule=profile.schedule(**scheduler_params)\n",
    ") as prof:\n",
    "    for idx in range(8):\n",
    "        model(inputs)\n",
    "        prof.step()"
   ]
  },
  {
   "cell_type": "code",
   "execution_count": 17,
   "id": "28e86bf0-dcc3-4da3-ad99-692b965ab3d7",
   "metadata": {
    "tags": []
   },
   "outputs": [],
   "source": [
    "import circuitsvis as cv\n",
    "from transformer_lens.utils import get_act_name"
   ]
  },
  {
   "cell_type": "code",
   "execution_count": null,
   "id": "28e6f7d8-74db-4e83-b777-d6eb87a57787",
   "metadata": {},
   "outputs": [],
   "source": [
    "_, cache = model.run_with_cache(tokens)"
   ]
  },
  {
   "cell_type": "code",
   "execution_count": 18,
   "id": "9fe7b145-39ba-4687-9dfc-d33d9994be27",
   "metadata": {
    "tags": []
   },
   "outputs": [],
   "source": [
    "hook_name = get_act_name(\"pattern\", 0, \"attn\")"
   ]
  },
  {
   "cell_type": "code",
   "execution_count": 19,
   "id": "4f6b2c71-bc19-4c45-922a-fb79324d24f3",
   "metadata": {
    "tags": []
   },
   "outputs": [
    {
     "data": {
      "text/plain": [
       "'blocks.0.attn.hook_pattern'"
      ]
     },
     "execution_count": 19,
     "metadata": {},
     "output_type": "execute_result"
    }
   ],
   "source": [
    "hook_name"
   ]
  },
  {
   "cell_type": "code",
   "execution_count": null,
   "id": "d21f6734-b3f7-4497-8132-103a83a23d36",
   "metadata": {},
   "outputs": [],
   "source": [
    "attention_pattern = cache[hook_name]"
   ]
  },
  {
   "cell_type": "code",
   "execution_count": null,
   "id": "9decf99a-0680-430e-af0b-ac684540e4de",
   "metadata": {},
   "outputs": [],
   "source": [
    "str_tokens = model.to_str_tokens(text)"
   ]
  },
  {
   "cell_type": "code",
   "execution_count": null,
   "id": "50043af0-bb27-4e73-b34c-8b3a0570f0bd",
   "metadata": {},
   "outputs": [],
   "source": [
    "cv.attention.attention_pattern()"
   ]
  },
  {
   "cell_type": "code",
   "execution_count": 21,
   "id": "7f4c4b86-e953-4d17-a9d9-60617c99ce26",
   "metadata": {
    "tags": []
   },
   "outputs": [],
   "source": [
    "from transformer_lens import HookedTransformer, HookedTransformerConfig"
   ]
  },
  {
   "cell_type": "code",
   "execution_count": null,
   "id": "414cc4e9-ba4b-4499-a9ec-2a24d55da1c1",
   "metadata": {},
   "outputs": [],
   "source": [
    "config = HookedTransformerConfig(**params)"
   ]
  },
  {
   "cell_type": "code",
   "execution_count": null,
   "id": "63df398a-d298-47dc-ac0e-26a3ae24e3d3",
   "metadata": {},
   "outputs": [],
   "source": [
    "model = HookedTransformer(cfg=config)"
   ]
  },
  {
   "cell_type": "code",
   "execution_count": null,
   "id": "0d4f9827-461e-4cbb-b997-e72002e9df52",
   "metadata": {},
   "outputs": [],
   "source": [
    "dist.isend()"
   ]
  },
  {
   "cell_type": "code",
   "execution_count": null,
   "id": "74e43d89-852f-4122-8462-3ff0049aaf43",
   "metadata": {},
   "outputs": [],
   "source": [
    "tokens = model.to_tokens(repeated_text, prepend_bos=True)"
   ]
  },
  {
   "cell_type": "code",
   "execution_count": null,
   "id": "0b487ff9-a9e9-4508-be07-5f50bbd43a5d",
   "metadata": {},
   "outputs": [],
   "source": [
    "_, cache = model.run_with_cache(tokens)"
   ]
  },
  {
   "cell_type": "code",
   "execution_count": 22,
   "id": "34b2eac4-60ed-403a-80d1-e5a468a03d66",
   "metadata": {
    "tags": []
   },
   "outputs": [],
   "source": [
    "induction_heads = [(6, 9), (4, 2)]"
   ]
  },
  {
   "cell_type": "code",
   "execution_count": 23,
   "id": "9be89507-76db-4beb-a94e-40f444ad377b",
   "metadata": {
    "tags": []
   },
   "outputs": [],
   "source": [
    "attn_patterns = []"
   ]
  },
  {
   "cell_type": "code",
   "execution_count": null,
   "id": "4eec38ff-e29b-452a-ad45-3821ed3eaeee",
   "metadata": {},
   "outputs": [],
   "source": [
    "for head_idx, layer_idx in induction_heads:\n",
    "    hook_name = get_act_name(\"attn\", layer_idx)\n",
    "    attn_patterns.append(cache[hook_name][:, head_idx])"
   ]
  },
  {
   "cell_type": "code",
   "execution_count": null,
   "id": "53dd92e7-fcca-4125-920f-bd7d64f1ce50",
   "metadata": {},
   "outputs": [],
   "source": [
    "_, cache = model.run_with_cache(tokens)"
   ]
  },
  {
   "cell_type": "code",
   "execution_count": 25,
   "id": "0a1d1acf-523a-46aa-9bd9-a6c9d34f70e7",
   "metadata": {
    "tags": []
   },
   "outputs": [],
   "source": [
    "hook_name = get_act_name(\"pattern\", 0, \"attn\")"
   ]
  },
  {
   "cell_type": "code",
   "execution_count": 26,
   "id": "529fed91-49d6-4a7c-a045-aa49da00d6bb",
   "metadata": {
    "tags": []
   },
   "outputs": [
    {
     "data": {
      "text/plain": [
       "'blocks.0.attn.hook_pattern'"
      ]
     },
     "execution_count": 26,
     "metadata": {},
     "output_type": "execute_result"
    }
   ],
   "source": [
    "hook_name"
   ]
  },
  {
   "cell_type": "code",
   "execution_count": null,
   "id": "7de2d02e-1932-45b2-affe-23876877455d",
   "metadata": {},
   "outputs": [],
   "source": [
    "attention_patterns = cache[hook_name]"
   ]
  },
  {
   "cell_type": "code",
   "execution_count": null,
   "id": "7182797e-8944-4af8-b04d-84d9b5925030",
   "metadata": {},
   "outputs": [],
   "source": [
    "str_tokens = model.to_str_tokens(tokens)"
   ]
  },
  {
   "cell_type": "code",
   "execution_count": 27,
   "id": "ce723802-36b7-44a0-8426-7a0d1805f499",
   "metadata": {
    "tags": []
   },
   "outputs": [],
   "source": [
    "import circuitsvis as cv"
   ]
  },
  {
   "cell_type": "code",
   "execution_count": null,
   "id": "04145d81-a1d9-4854-aecd-0fb879288bbb",
   "metadata": {},
   "outputs": [],
   "source": [
    "cv.attention.attention_pattern(\n",
    "    tokens=str_tokens,\n",
    "    attention=attention_pattern\n",
    ")"
   ]
  },
  {
   "cell_type": "code",
   "execution_count": 28,
   "id": "e720f43c-08aa-46b8-830a-f880d531651c",
   "metadata": {
    "tags": []
   },
   "outputs": [],
   "source": [
    "def by_row_parallelism(inputs, weights):\n",
    "    inp_dim_partrition = inputs.shape[-1] // 2\n",
    "    w_dim_partrition = weights.shape[0] // 2\n",
    "    \n",
    "    inp1 = inputs[:, :inp_dim_partrition]\n",
    "    inp2 = inputs[:, inp_dim_partrition:]\n",
    "    w1 = weights[:w_dim_partrition, :]\n",
    "    w2 = weights[w_dim_partrition:, :]\n",
    "    \n",
    "    out1 = inp1 @ w1\n",
    "    out2 = inp2 @ w2\n",
    "    \n",
    "    return out1 + out2"
   ]
  },
  {
   "cell_type": "code",
   "execution_count": null,
   "id": "d879689b-3333-4c77-b3b5-9be6e7d012cb",
   "metadata": {},
   "outputs": [],
   "source": [
    "induction_heads = [(6, 9), (4, 2)]"
   ]
  },
  {
   "cell_type": "code",
   "execution_count": null,
   "id": "0193119b-8146-4713-8f8b-0f09cbac83f2",
   "metadata": {},
   "outputs": [],
   "source": [
    "tokens = model.to_tokens(repeated_text, prepend_bos=True)"
   ]
  },
  {
   "cell_type": "code",
   "execution_count": null,
   "id": "d79a06e7-d94b-4dce-8590-4079a02bf2eb",
   "metadata": {},
   "outputs": [],
   "source": [
    "_, cache = model.run_with_cache(tokens)"
   ]
  },
  {
   "cell_type": "code",
   "execution_count": null,
   "id": "c61cc6fa-7f7e-4ed0-88c5-2c0e0774bab3",
   "metadata": {},
   "outputs": [],
   "source": [
    "attn_patterns = []"
   ]
  },
  {
   "cell_type": "code",
   "execution_count": null,
   "id": "e6d858dd-f882-43e9-ba14-e2ceb62c9b85",
   "metadata": {},
   "outputs": [],
   "source": [
    "for head_idx, layer_idx in induction_heads:\n",
    "    hook_name = get_act_name(\"attn\", layer_idx)\n",
    "    attn_patterns.append(\n",
    "        cache[hook_name][:, head_idx]\n",
    "    )"
   ]
  },
  {
   "cell_type": "code",
   "execution_count": null,
   "id": "b712d238-544d-490b-954e-362ace9068cb",
   "metadata": {},
   "outputs": [],
   "source": [
    "agent_rref.rpc_sync().init(\"hello\")"
   ]
  },
  {
   "cell_type": "code",
   "execution_count": 30,
   "id": "f06c2f61-e683-416e-b732-a1e06dbe855a",
   "metadata": {
    "tags": []
   },
   "outputs": [],
   "source": [
    "import torch.distributed.rpc as rpc\n",
    "from torch.distributed.rpc import RRef"
   ]
  },
  {
   "cell_type": "code",
   "execution_count": 31,
   "id": "6525082c-4b52-4b20-a5cc-8f6b2a378459",
   "metadata": {
    "tags": []
   },
   "outputs": [],
   "source": [
    "class Agent:\n",
    "    def __init__(self):\n",
    "        self.id = RRef(self)"
   ]
  },
  {
   "cell_type": "code",
   "execution_count": null,
   "id": "f5255d16-131a-4fa5-b9c3-ab5dea5d784f",
   "metadata": {},
   "outputs": [],
   "source": [
    "text_similarities = text_embeddings @ text_embeddings.T\n",
    "image_similarities = image_embeddings @ image_embeddings.T"
   ]
  },
  {
   "cell_type": "code",
   "execution_count": null,
   "id": "3972c6ab-a7ec-46c2-ad83-a997ec18c041",
   "metadata": {},
   "outputs": [],
   "source": [
    "target = F.softmax(\n",
    "    (text_similarities+image_similarities)/(2*temperature), dim=-1\n",
    ")"
   ]
  },
  {
   "cell_type": "code",
   "execution_count": null,
   "id": "24585c69-8798-47ed-8401-42590c559af3",
   "metadata": {},
   "outputs": [],
   "source": [
    "class Observer:\n",
    "    def __init__(env):\n",
    "        self.id = rpc.get_worker_info().id\n",
    "    \n",
    "    def run_episode(self, agent_rref):\n",
    "        state, _ = env.reset()\n",
    "        \n",
    "        while i <= 69:\n",
    "            action = agent_rref.rpc_sync().select_action(self.id, state)\n",
    "            state, reward, done, _ = env.step(action)\n",
    "            \n",
    "            if done is True: break"
   ]
  },
  {
   "cell_type": "code",
   "execution_count": null,
   "id": "55c1e07c-14b6-4db1-9fcc-05bb48cd854a",
   "metadata": {},
   "outputs": [],
   "source": [
    "agent_rref.rpc_sync().init(\"hello\")"
   ]
  },
  {
   "cell_type": "code",
   "execution_count": null,
   "id": "ee48d1ec-fcaf-4959-92b6-2efd329ed684",
   "metadata": {},
   "outputs": [],
   "source": [
    "class Agent:\n",
    "    def __init__(self):\n",
    "        self.id = RRef(self)"
   ]
  },
  {
   "cell_type": "code",
   "execution_count": null,
   "id": "383b0db3-edda-4804-9ca0-f750410aac70",
   "metadata": {},
   "outputs": [],
   "source": [
    "def by_column_parallelism(inputs, weights):\n",
    "    dim_size_per_partrition = weights.shape[-1] // 2\n",
    "    \n",
    "    w1 = weights[:, :dim_size_per_partrition]\n",
    "    w2 = weights[:, dim_size_per_partrition:]\n",
    "    \n",
    "    out1 = inputs @ w1\n",
    "    out2 = inputs @ w2\n",
    "    \n",
    "    return torch.cat([out1, out2], dim=-1)"
   ]
  },
  {
   "cell_type": "code",
   "execution_count": 34,
   "id": "693652c4-2b7c-4b98-8e0f-82d31ec02dc2",
   "metadata": {
    "tags": []
   },
   "outputs": [],
   "source": [
    "from gymnasium import Env\n",
    "from gymnasium.spaces import Discrete, Box\n",
    "import numpy as np"
   ]
  },
  {
   "cell_type": "code",
   "execution_count": null,
   "id": "bf13a187-3874-4225-8bfc-8e09553bfde3",
   "metadata": {},
   "outputs": [],
   "source": [
    "class ShowerEnv(Env):\n",
    "    def __init__(self):\n",
    "        super().__init__()\n",
    "        self.action_space = Discrete(3)\n",
    "        self.observation_space = Box(\n",
    "            low=np.array([0]),\n",
    "            high=np.array([100])\n",
    "        )\n",
    "        \n",
    "    def step(self, action):\n",
    "        \n",
    "    \n",
    "    def reset(self):\n",
    "        self.shower_length = 60\n",
    "        self.temperature = 20\n",
    "        return shower_length, temperature"
   ]
  }
 ],
 "metadata": {
  "kernelspec": {
   "display_name": "Python 3 (ipykernel)",
   "language": "python",
   "name": "python3"
  },
  "language_info": {
   "codemirror_mode": {
    "name": "ipython",
    "version": 3
   },
   "file_extension": ".py",
   "mimetype": "text/x-python",
   "name": "python",
   "nbconvert_exporter": "python",
   "pygments_lexer": "ipython3",
   "version": "3.8.16"
  }
 },
 "nbformat": 4,
 "nbformat_minor": 5
}
