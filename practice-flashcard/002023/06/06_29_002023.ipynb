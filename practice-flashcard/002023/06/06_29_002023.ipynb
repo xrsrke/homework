{
 "cells": [
  {
   "cell_type": "markdown",
   "id": "1b5d4503-cf62-4913-bf8b-4a8653bea926",
   "metadata": {},
   "source": [
    "### Engineering"
   ]
  },
  {
   "cell_type": "code",
   "execution_count": 1,
   "id": "fc65203a-7100-46b4-9767-b04846848592",
   "metadata": {
    "tags": []
   },
   "outputs": [],
   "source": [
    "import socketserver"
   ]
  },
  {
   "cell_type": "code",
   "execution_count": null,
   "id": "e196bf41-e23a-46da-a5ed-0b5d5c015599",
   "metadata": {},
   "outputs": [],
   "source": [
    "with socketserver.ThreadingTCPServer(\n",
    "    (MASTER_HOST, MASTER_PORT),\n",
    "    EchoRequestHandler\n",
    ") as server:\n",
    "    server.server_forever()"
   ]
  },
  {
   "cell_type": "code",
   "execution_count": 2,
   "id": "c92470bf-dba7-45f6-8bf0-ef50da7276ba",
   "metadata": {
    "tags": []
   },
   "outputs": [],
   "source": [
    "import threading"
   ]
  },
  {
   "cell_type": "code",
   "execution_count": 3,
   "id": "7669ab24-6247-455b-adbf-37a06ff3b672",
   "metadata": {
    "tags": []
   },
   "outputs": [],
   "source": [
    "event = threading.Event()"
   ]
  },
  {
   "cell_type": "code",
   "execution_count": null,
   "id": "ac808930-1ec4-4c9a-b0bd-210e521e5f38",
   "metadata": {},
   "outputs": [],
   "source": [
    "def run_worker():\n",
    "    print(\"waiting\")\n",
    "    event.wait()\n",
    "    print(\"received\")"
   ]
  },
  {
   "cell_type": "code",
   "execution_count": null,
   "id": "15f03048-6507-42f8-be98-d3be55e8782e",
   "metadata": {},
   "outputs": [],
   "source": [
    "worker_thread = threading.Thread(\n",
    "    target=run_worker\n",
    ")"
   ]
  },
  {
   "cell_type": "code",
   "execution_count": null,
   "id": "7b5ae6f0-27db-4683-8a6e-5cb4eddfd6c8",
   "metadata": {},
   "outputs": [],
   "source": [
    "detach input\n",
    "enable\n",
    "save"
   ]
  },
  {
   "cell_type": "code",
   "execution_count": 5,
   "id": "2fe35b0a-3fe1-4bb6-9c21-a7880fc3c85b",
   "metadata": {
    "tags": []
   },
   "outputs": [],
   "source": [
    "from socketserver import StreamRequestHandler"
   ]
  },
  {
   "cell_type": "code",
   "execution_count": null,
   "id": "24935124-a6a2-4fc3-b1d4-bbf173f4a039",
   "metadata": {},
   "outputs": [],
   "source": [
    "class EchoRequestHandler(StreamRequestHandler):\n",
    "    def handle(self):\n",
    "        print(self.rfile().readline())"
   ]
  },
  {
   "cell_type": "code",
   "execution_count": 6,
   "id": "cea958cd-4014-4f18-a647-90de764c41ad",
   "metadata": {
    "tags": []
   },
   "outputs": [],
   "source": [
    "import torch\n",
    "from torch import nn\n",
    "import torch.nn.functional as F"
   ]
  },
  {
   "cell_type": "code",
   "execution_count": 7,
   "id": "34d2a8e2-3be2-4ebc-917f-1c301561ce64",
   "metadata": {
    "tags": []
   },
   "outputs": [],
   "source": [
    "class Checkpoint(torch.autograd.Function):\n",
    "    @staticmethod\n",
    "    def forward(ctx, phony, recomputed, function, input):\n",
    "        ctx.recomputed = recomputed\n",
    "        ctx.function = function\n",
    "        ctx.input = input\n",
    "        \n",
    "        with torch.no_grad():\n",
    "            output = function(input)\n",
    "        \n",
    "        return output\n",
    "    \n",
    "    @staticmethod\n",
    "    def backward(ctx, grad_input):\n",
    "        output, input = ctx.recomputed.pop()\n",
    "        input_leaf = input.detach().requires_grad_(\n",
    "            input.requires_grad\n",
    "        )\n",
    "        \n",
    "        with torch.grad_enabled():\n",
    "            torch.autograd.backward(output, grad_input)\n",
    "        \n",
    "        grad = [None, None, None]\n",
    "        \n",
    "        if input_leaf.requires_grad:\n",
    "            grad.extend([input_leaf.grad])\n",
    "        else:\n",
    "            grad.extend([None])\n",
    "        \n",
    "        return grad"
   ]
  },
  {
   "cell_type": "code",
   "execution_count": null,
   "id": "14597a4c-65a2-4132-a307-3820f04c82de",
   "metadata": {},
   "outputs": [],
   "source": [
    "save\n",
    "sync\n",
    "restore\n",
    "reset"
   ]
  },
  {
   "cell_type": "code",
   "execution_count": 8,
   "id": "1df79878-6237-4cea-8e61-537028ed3ead",
   "metadata": {
    "tags": []
   },
   "outputs": [],
   "source": [
    "from torch.multiprocessing import Process"
   ]
  },
  {
   "cell_type": "code",
   "execution_count": null,
   "id": "6b315c2c-fa14-4634-b5d6-2c180fde01de",
   "metadata": {},
   "outputs": [],
   "source": [
    "for _ in range(world_size):\n",
    "    process = Process(target=say_hello)\n",
    "    process.start()"
   ]
  },
  {
   "cell_type": "code",
   "execution_count": null,
   "id": "a9c4f9d7-39e5-4e74-bfbc-bed3bbb78817",
   "metadata": {},
   "outputs": [],
   "source": [
    "class Recompute(torch.autograd.Function):\n",
    "    @staticmethod\n",
    "    def forward(ctx, phony, recomputed, function, input):\n",
    "        ctx.recomputed = recomputed\n",
    "        ctx.function = function\n",
    "        ctx.input = input\n",
    "        \n",
    "        return phony\n",
    "    \n",
    "    @staticmethod\n",
    "    def backward(grad_output):\n",
    "        function = ctx.function\n",
    "        input = ctx.input # detach\n",
    "        \n",
    "        with torch.grad_enabled():\n",
    "            output = function(input)\n",
    "        \n",
    "        ctx.recomputed.append((output, input_leaf))\n",
    "        \n",
    "        grad = [None, None, None, None]\n",
    "        return  "
   ]
  },
  {
   "cell_type": "code",
   "execution_count": 9,
   "id": "1738f47b-7fb3-419f-8419-66b104eb9623",
   "metadata": {
    "tags": []
   },
   "outputs": [],
   "source": [
    "class VocabParallelEmbedding(nn.Module):\n",
    "    def __init__(self, num_embeddings, embedding_dim):\n",
    "        super().__init__()\n",
    "        world_size = torch.distributed.get_world_size()\n",
    "        \n",
    "        self.num_embeddings_per_partrition = num_embeddings // world_size\n",
    "        self.embedding_dim = embedding_dim\n",
    "        \n",
    "        self.weight = nn.Parameter(torch.randn(\n",
    "            self.num_embeddings_per_partrition,\n",
    "            self.embedding_dim\n",
    "        ))\n",
    "        \n",
    "        self.vocab_start_idx, self.vocab_end_idx = self.get_vocab_range(\n",
    "            self.num_embeddings_per_partrition\n",
    "        )\n",
    "    \n",
    "    def get_vocab_range(self, num_embeddings_per_partrition):\n",
    "        rank = torch.distributed.get_rank()\n",
    "        start_idx = rank*num_embeddings_per_partrition\n",
    "        end_idx = start_idx + num_embeddings_per_partrition\n",
    "        return start_idx\n",
    "    \n",
    "    def forward(self, tokens):\n",
    "        masked = (tokens < self.vocab_start_idx) | (tokens > self.vocab_end_idx)\n",
    "        tokens = tokens - self.vocab_start_idx\n",
    "        tokens[masked] = 0.\n",
    "        \n",
    "        embeddings = F.embedding(tokens, self.weight)\n",
    "        mask_idxs = torch.where(masked == False)[1]\n",
    "        embeddings[mask_idxs] = 0.\n",
    "        \n",
    "        torch.distributed.all_reduce(embeddings)\n",
    "        \n",
    "        return embeddings"
   ]
  },
  {
   "cell_type": "code",
   "execution_count": 10,
   "id": "1e84fbe7-3d52-4ea0-9d1e-38b946e9c94c",
   "metadata": {
    "tags": []
   },
   "outputs": [],
   "source": [
    "from socketserver import StreamRequestHandler"
   ]
  },
  {
   "cell_type": "code",
   "execution_count": 11,
   "id": "6e8ec910-35ef-4bd9-9d5a-938cfce8f34e",
   "metadata": {
    "tags": []
   },
   "outputs": [],
   "source": [
    "class EchoRequestHandler(StreamRequestHandler):\n",
    "    def handle(self):\n",
    "        pass"
   ]
  },
  {
   "cell_type": "code",
   "execution_count": null,
   "id": "b1b46260-14af-41a6-8df8-99e1b86e142f",
   "metadata": {},
   "outputs": [],
   "source": [
    "monitor\n",
    "if a node failed, reassign\n",
    "if a new node entered, form a new communication ring"
   ]
  },
  {
   "cell_type": "code",
   "execution_count": 12,
   "id": "06a5e0c5-ac86-4e6e-8674-58c642d8730f",
   "metadata": {
    "tags": []
   },
   "outputs": [],
   "source": [
    "import threading"
   ]
  },
  {
   "cell_type": "code",
   "execution_count": 13,
   "id": "624e25c5-8117-4450-b00a-6d0190ab9e15",
   "metadata": {
    "tags": []
   },
   "outputs": [],
   "source": [
    "data = threading.local()"
   ]
  },
  {
   "cell_type": "code",
   "execution_count": null,
   "id": "23fe5831-77f2-4f38-a6a5-8999736dccd6",
   "metadata": {},
   "outputs": [],
   "source": [
    "thread = threading.Thread(\n",
    "    target=print_and_modify,\n",
    "    args=(data,)\n",
    ")"
   ]
  },
  {
   "cell_type": "code",
   "execution_count": 17,
   "id": "25437a24-008c-40e9-9aae-b34e275f08e2",
   "metadata": {
    "tags": []
   },
   "outputs": [],
   "source": [
    "class StartBatch(torch.autograd.Function):\n",
    "    @staticmethod\n",
    "    def forward(ctx, input):\n",
    "        phony = torch.empty(0, requires_grad=False, device=input.device)\n",
    "        return input, phony\n",
    "    \n",
    "    @staticmethod\n",
    "    def backward(ctx, grad_input, grad_phony):\n",
    "        return grad_input"
   ]
  },
  {
   "cell_type": "code",
   "execution_count": 18,
   "id": "c333850f-18f2-4711-9457-2e3239e97ae7",
   "metadata": {
    "tags": []
   },
   "outputs": [],
   "source": [
    "class EndDependency(torch.autograd.Function):\n",
    "    @staticmethod\n",
    "    def forward(ctx, input, phony):\n",
    "        return input\n",
    "    \n",
    "    @staticmethod\n",
    "    def backward(ctx, grad_input):\n",
    "        return grad_input, None"
   ]
  },
  {
   "cell_type": "code",
   "execution_count": 14,
   "id": "f779d121-e140-407e-b17b-c61142adb591",
   "metadata": {
    "tags": []
   },
   "outputs": [],
   "source": [
    "def create_dependency(start_batch, end_batch):\n",
    "    start_batch, phony = StartDependency.apply(start_batch)\n",
    "    end_batch = EndDependency.apply(end_batch, phony)\n",
    "    return start_batch, end_batch"
   ]
  },
  {
   "cell_type": "code",
   "execution_count": 19,
   "id": "f151e78b-d3ab-42f1-97be-02f8f3055e8c",
   "metadata": {
    "tags": []
   },
   "outputs": [],
   "source": [
    "n_microbatches = 4"
   ]
  },
  {
   "cell_type": "code",
   "execution_count": 20,
   "id": "03ab23c7-d65b-4ab0-9b30-8d884d89da22",
   "metadata": {
    "tags": []
   },
   "outputs": [],
   "source": [
    "n_partritions = 3"
   ]
  },
  {
   "cell_type": "code",
   "execution_count": 21,
   "id": "25f4fa36-7d4e-43d9-842d-1c0ac5205afa",
   "metadata": {
    "tags": []
   },
   "outputs": [],
   "source": [
    "n_clock_cycles = n_microbatches+n_partritions-1"
   ]
  },
  {
   "cell_type": "code",
   "execution_count": 22,
   "id": "c50171be-b1b2-4630-947d-517550227d82",
   "metadata": {
    "tags": []
   },
   "outputs": [
    {
     "data": {
      "text/plain": [
       "6"
      ]
     },
     "execution_count": 22,
     "metadata": {},
     "output_type": "execute_result"
    }
   ],
   "source": [
    "n_clock_cycles"
   ]
  },
  {
   "cell_type": "code",
   "execution_count": 23,
   "id": "b9fc598b-891e-456c-ad2b-42fa1bdc2238",
   "metadata": {
    "tags": []
   },
   "outputs": [
    {
     "name": "stdout",
     "output_type": "stream",
     "text": [
      "[(0, 0)]\n",
      "[(1, 0), (0, 1)]\n",
      "[(2, 0), (1, 1), (0, 2)]\n",
      "[(3, 0), (2, 1), (1, 2)]\n",
      "[(3, 1), (2, 2)]\n",
      "[(3, 2)]\n"
     ]
    }
   ],
   "source": [
    "for clock_idx in range(n_clock_cycles):\n",
    "    start_partrition = max(clock_idx+1-n_microbatches, 0)\n",
    "    end_partrition = min(clock_idx+1, n_partritions)\n",
    "    \n",
    "    tasks = []\n",
    "    for partrition_idx in range(start_partrition, end_partrition):\n",
    "        microbatch_idx = clock_idx - partrition_idx\n",
    "        tasks.append((microbatch_idx, partrition_idx))\n",
    "    \n",
    "    print(tasks)"
   ]
  },
  {
   "cell_type": "code",
   "execution_count": null,
   "id": "36da1adf-1e6e-41bd-842f-da1fce0c4502",
   "metadata": {},
   "outputs": [],
   "source": [
    "load, save, move"
   ]
  },
  {
   "cell_type": "code",
   "execution_count": null,
   "id": "4babe219-19be-4f10-8f28-5d0b2f8274a0",
   "metadata": {},
   "outputs": [],
   "source": [
    "main thread > worker thread > task > cuda stream"
   ]
  },
  {
   "cell_type": "code",
   "execution_count": null,
   "id": "b398301c-598d-48f7-aec9-6639ac5f52c8",
   "metadata": {},
   "outputs": [],
   "source": [
    "service: receive\n",
    "manager: handle\n",
    "client: send"
   ]
  },
  {
   "cell_type": "code",
   "execution_count": null,
   "id": "af800571-6a6f-447b-b343-d0d5a798a22c",
   "metadata": {},
   "outputs": [],
   "source": []
  },
  {
   "cell_type": "code",
   "execution_count": null,
   "id": "ae04fc56-9492-4075-971f-915a180409d7",
   "metadata": {},
   "outputs": [],
   "source": [
    "service, manager, client"
   ]
  },
  {
   "cell_type": "code",
   "execution_count": null,
   "id": "caead130-ba09-43bf-b276-cf14556afc20",
   "metadata": {},
   "outputs": [],
   "source": [
    "load, save, move"
   ]
  },
  {
   "cell_type": "code",
   "execution_count": null,
   "id": "1f3e4a51-237c-4603-967e-ccd7d93825aa",
   "metadata": {},
   "outputs": [],
   "source": [
    "tokens = model.to_tokens(text)"
   ]
  },
  {
   "cell_type": "code",
   "execution_count": null,
   "id": "2a8e1e80-84af-4a6e-b3dc-941015da63ca",
   "metadata": {},
   "outputs": [],
   "source": [
    "seq_len = tokens.shape[-1]"
   ]
  },
  {
   "cell_type": "code",
   "execution_count": null,
   "id": "2a0cd687-6dbc-46ab-8016-f27c359ae9e0",
   "metadata": {},
   "outputs": [],
   "source": [
    "target_pattern = torch.zeros(seq_len, seq_len)"
   ]
  },
  {
   "cell_type": "code",
   "execution_count": null,
   "id": "aaecc0d2-9c7c-41b8-84d6-a83671507a50",
   "metadata": {},
   "outputs": [],
   "source": [
    "target_pattern[torch.arange(seq_len), torch.arange(seq_len)-1] = 1"
   ]
  },
  {
   "cell_type": "code",
   "execution_count": null,
   "id": "e560a9c9-1198-4cc6-99b4-8d9f8b155d07",
   "metadata": {},
   "outputs": [],
   "source": [
    "target_pattern[0] = torch.zeros_like(target_pattern[0])"
   ]
  },
  {
   "cell_type": "code",
   "execution_count": null,
   "id": "dfbfff1d-a76f-43a3-8892-5a4a724ee498",
   "metadata": {},
   "outputs": [],
   "source": [
    "step 1: create a socket server\n",
    "step 2: socket client requests a connection\n",
    "step 3: accept\n",
    "step 3: "
   ]
  },
  {
   "cell_type": "code",
   "execution_count": null,
   "id": "6af27826-93a8-4257-9bba-580e440ca16c",
   "metadata": {},
   "outputs": [],
   "source": [
    "checkpoint.forward() > recomputed.forward() > recomputed.backward() > checkpoint().backward()"
   ]
  },
  {
   "cell_type": "code",
   "execution_count": null,
   "id": "c6d00f07-fa29-4892-a167-b1515814bf43",
   "metadata": {},
   "outputs": [],
   "source": [
    "step 1: bind\n",
    "step 2: connect\n",
    "step 3: accept\n",
    "step 4: xx\n",
    "step 5: close"
   ]
  },
  {
   "cell_type": "markdown",
   "id": "8fc20c04-6005-4bf3-8c82-6b269e8e424d",
   "metadata": {},
   "source": [
    "### MLE"
   ]
  },
  {
   "cell_type": "code",
   "execution_count": 24,
   "id": "aed6dcb9-9cf2-4122-9dc0-9daab8f4f2a8",
   "metadata": {
    "tags": []
   },
   "outputs": [],
   "source": [
    "import great_expectations as ge"
   ]
  },
  {
   "cell_type": "code",
   "execution_count": null,
   "id": "a3d5e42d-7faf-486f-9f5c-48976cb11a16",
   "metadata": {},
   "outputs": [],
   "source": [
    "ge.dataset.PandasDataset"
   ]
  },
  {
   "cell_type": "code",
   "execution_count": 25,
   "id": "8277be52-b0e0-4e83-a067-19361e1c5263",
   "metadata": {
    "tags": []
   },
   "outputs": [],
   "source": [
    "from evidently.metric_preset import DataDriftPreset"
   ]
  },
  {
   "cell_type": "code",
   "execution_count": 26,
   "id": "2bc7c10f-e65f-438d-a9bb-6cb9ed8b2570",
   "metadata": {
    "tags": []
   },
   "outputs": [],
   "source": [
    "from evidently.report import Report"
   ]
  },
  {
   "cell_type": "code",
   "execution_count": null,
   "id": "66a2536c-d0aa-4420-98b7-883a312fa149",
   "metadata": {},
   "outputs": [],
   "source": [
    "report = Report(metrics=[\n",
    "    DataDriftPreset()\n",
    "])"
   ]
  },
  {
   "cell_type": "code",
   "execution_count": 28,
   "id": "4a99ff5c-d251-4a5e-815e-0935b4ccb69f",
   "metadata": {
    "tags": []
   },
   "outputs": [],
   "source": [
    "from pydantic import BaseModel\n",
    "from pydantic import root_validator"
   ]
  },
  {
   "cell_type": "code",
   "execution_count": null,
   "id": "b9e69d43-efb8-47b9-a2d5-fb1881396313",
   "metadata": {},
   "outputs": [],
   "source": [
    "class User(BaseModel):\n",
    "    password1: int\n",
    "    password2: int\n",
    "    \n",
    "    @root_validator()\n",
    "    def validate_password(values):\n",
    "        "
   ]
  },
  {
   "cell_type": "code",
   "execution_count": null,
   "id": "5f2785e2-71ed-4b8b-a459-aea8d59e8f97",
   "metadata": {},
   "outputs": [],
   "source": [
    "tokens = tokenizer(text, return_tensors=\"pt\")"
   ]
  },
  {
   "cell_type": "code",
   "execution_count": 29,
   "id": "1dba376c-4ad9-4eee-8ba5-aa4e8ed6ecb6",
   "metadata": {
    "tags": []
   },
   "outputs": [],
   "source": [
    "def print_shape(module, input):\n",
    "    print(input.shape)"
   ]
  },
  {
   "cell_type": "code",
   "execution_count": null,
   "id": "2566e9ae-57a7-4fed-8dc2-2bcc589b1192",
   "metadata": {},
   "outputs": [],
   "source": [
    "model.blocks[1].register_forward_pre_hook(print_shape)"
   ]
  },
  {
   "cell_type": "code",
   "execution_count": null,
   "id": "24340690-faf6-4951-8005-7359c5db1850",
   "metadata": {},
   "outputs": [],
   "source": [
    "step 1: two prompts\n",
    "step 2: record the activations\n",
    "step 3: iteratively replace the activations from the clean prompt to the corrupted prompt\n",
    "step 4"
   ]
  },
  {
   "cell_type": "code",
   "execution_count": null,
   "id": "1b23afc3-24a8-4d14-8ea1-369f62bbc1c6",
   "metadata": {},
   "outputs": [],
   "source": [
    "_, cache = model.run_with_cache(tokens)"
   ]
  },
  {
   "cell_type": "code",
   "execution_count": 30,
   "id": "42b05e0c-862c-4f45-ab5d-fd413e5c2ac4",
   "metadata": {
    "tags": []
   },
   "outputs": [],
   "source": [
    "from transformer_lens.utils import get_act_name"
   ]
  },
  {
   "cell_type": "code",
   "execution_count": 31,
   "id": "da4f1fa5-6b96-4e9b-8895-5f53f831a465",
   "metadata": {
    "tags": []
   },
   "outputs": [],
   "source": [
    "hook_name = get_act_name(\"pattern\", 0, \"attn\")"
   ]
  },
  {
   "cell_type": "code",
   "execution_count": null,
   "id": "428711a4-dd50-4b17-b393-8e097fcb30b6",
   "metadata": {},
   "outputs": [],
   "source": [
    "attention_patterns = cache[hook_name]"
   ]
  },
  {
   "cell_type": "code",
   "execution_count": null,
   "id": "c8d33c28-ca50-4f19-a8f9-62db56706cd6",
   "metadata": {},
   "outputs": [],
   "source": [
    "str_tokens = model.to_str_tokens(tokens)"
   ]
  },
  {
   "cell_type": "code",
   "execution_count": 32,
   "id": "ae381c05-dba7-4584-a06e-17ac09574b2e",
   "metadata": {
    "tags": []
   },
   "outputs": [],
   "source": [
    "import circuitsvis as cv"
   ]
  },
  {
   "cell_type": "code",
   "execution_count": null,
   "id": "c56436bf-9636-4e2c-a73b-6a5af1605ec2",
   "metadata": {},
   "outputs": [],
   "source": [
    "cv.attention.attention_pattern(\n",
    "    tokens=str_tokens,\n",
    "    attention=attention_patterns\n",
    ")"
   ]
  },
  {
   "cell_type": "code",
   "execution_count": null,
   "id": "21b7c0eb-dbbf-44dc-be82-a4f63f15aa20",
   "metadata": {},
   "outputs": [],
   "source": [
    "tokens = model.to_tokens(text)"
   ]
  },
  {
   "cell_type": "code",
   "execution_count": null,
   "id": "3a542041-ff3d-437a-9c01-3688dfeada5a",
   "metadata": {},
   "outputs": [],
   "source": [
    "target_tokens = tokens[1:]"
   ]
  },
  {
   "cell_type": "code",
   "execution_count": null,
   "id": "ef8cea36-ad84-4240-addf-aadd81d43ca2",
   "metadata": {},
   "outputs": [],
   "source": [
    "_, cache = model.run_with_cache(tokens)"
   ]
  },
  {
   "cell_type": "code",
   "execution_count": null,
   "id": "e04b7a32-862d-4a94-a53c-c9ab059b1cda",
   "metadata": {},
   "outputs": [],
   "source": [
    "W_U = cache[\"W_U\"]"
   ]
  },
  {
   "cell_type": "code",
   "execution_count": null,
   "id": "92727a30-9552-4ecb-9b0c-3be0b18b8814",
   "metadata": {},
   "outputs": [],
   "source": [
    "W_U_correct_tokens = W_U[:, target_tokens]"
   ]
  },
  {
   "cell_type": "code",
   "execution_count": null,
   "id": "8dda50d9-8c5a-4b07-9ed2-860c2acc6855",
   "metadata": {},
   "outputs": [],
   "source": [
    "logits = unembed @ final_residual_stream\n"
   ]
  },
  {
   "cell_type": "code",
   "execution_count": null,
   "id": "49539dc0-9586-4d0e-aa16-fd82d1831772",
   "metadata": {},
   "outputs": [],
   "source": [
    "query, key, value, atten pattern, output"
   ]
  },
  {
   "cell_type": "code",
   "execution_count": null,
   "id": "afc3a4e0-fdee-4327-bd81-0747bc436138",
   "metadata": {},
   "outputs": [],
   "source": [
    "torch.roll(x, shifts=1, dims=0)"
   ]
  },
  {
   "cell_type": "code",
   "execution_count": 33,
   "id": "fc8fd5d7-c87a-4f08-bfdd-b39e1340fa25",
   "metadata": {
    "tags": []
   },
   "outputs": [],
   "source": [
    "from einops import einsum"
   ]
  },
  {
   "cell_type": "code",
   "execution_count": null,
   "id": "837fda07-453d-46ac-aca4-84a349d1aa5d",
   "metadata": {},
   "outputs": [],
   "source": [
    "output = einsum(a, \"h w -> w hb\")"
   ]
  },
  {
   "cell_type": "code",
   "execution_count": null,
   "id": "3590f7bc-6f34-4471-bda0-d733199ec8ae",
   "metadata": {},
   "outputs": [],
   "source": [
    "text encoder, image encoder, projection head, constrative loss"
   ]
  },
  {
   "cell_type": "code",
   "execution_count": 34,
   "id": "f40681ae-3759-4a3e-9802-1a4ba2cd13bf",
   "metadata": {
    "tags": []
   },
   "outputs": [],
   "source": [
    "futs = []"
   ]
  },
  {
   "cell_type": "code",
   "execution_count": 35,
   "id": "293758a1-0530-4bd5-a1dc-4659ebbf0d35",
   "metadata": {
    "tags": []
   },
   "outputs": [],
   "source": [
    "import torch.distributed.rpc as rpc"
   ]
  },
  {
   "cell_type": "code",
   "execution_count": null,
   "id": "f1dc91bb-df61-47f2-a7e7-58090546383f",
   "metadata": {},
   "outputs": [],
   "source": [
    "for ob_rref in obj_rrefs:\n",
    "    futs.append(rpc.rpc_async(\n",
    "        to=ob_rref.owner(),\n",
    "        func=ob_rref.rpc_sync().run\n",
    "    ))"
   ]
  },
  {
   "cell_type": "code",
   "execution_count": null,
   "id": "da8402e9-d7dc-45bc-b0d0-df81ec37ae39",
   "metadata": {},
   "outputs": [],
   "source": [
    "for fut in futs:\n",
    "    fut.wait()"
   ]
  },
  {
   "cell_type": "code",
   "execution_count": null,
   "id": "b13d38da-25e9-404d-9484-b0446b426ea9",
   "metadata": {},
   "outputs": [],
   "source": [
    "name, id, WorkerInfo"
   ]
  },
  {
   "cell_type": "code",
   "execution_count": null,
   "id": "54c65c4a-d01a-4ad8-8405-55478e2f6eaf",
   "metadata": {},
   "outputs": [],
   "source": [
    "nn.Flatten(start_dim=2, end_dim=-1)"
   ]
  },
  {
   "cell_type": "code",
   "execution_count": null,
   "id": "ec597ca7-ab60-4f87-b184-cfd6e8576e2a",
   "metadata": {},
   "outputs": [],
   "source": [
    "ob_rref.owner()"
   ]
  },
  {
   "cell_type": "code",
   "execution_count": null,
   "id": "1e495fb6-4799-43ed-8d40-76215adc0d73",
   "metadata": {},
   "outputs": [],
   "source": [
    "torch.roll(x, shifts=1, dim=0)"
   ]
  },
  {
   "cell_type": "code",
   "execution_count": null,
   "id": "875a0ab7-094d-4d9e-b274-c5dc0521f65c",
   "metadata": {},
   "outputs": [],
   "source": [
    "func = nn.Flatten(start_dim=2, end_dim=3)"
   ]
  },
  {
   "cell_type": "code",
   "execution_count": null,
   "id": "2f973040-6ace-4d2f-991c-5aeb158a4eb2",
   "metadata": {},
   "outputs": [],
   "source": [
    "func(batch)"
   ]
  },
  {
   "cell_type": "code",
   "execution_count": null,
   "id": "9e793ef9-edd2-47af-9985-fab17edf9889",
   "metadata": {},
   "outputs": [],
   "source": [
    "population activity, motor imagery, stimulus, conditioned"
   ]
  },
  {
   "cell_type": "code",
   "execution_count": null,
   "id": "3aa05833-874f-49a3-be69-8ed2b536f439",
   "metadata": {},
   "outputs": [],
   "source": [
    "stimulate, record, memory, process"
   ]
  },
  {
   "cell_type": "code",
   "execution_count": null,
   "id": "911566bb-722e-480c-8bdf-a273f59f7b3c",
   "metadata": {},
   "outputs": [],
   "source": [
    "import jax"
   ]
  },
  {
   "cell_type": "code",
   "execution_count": null,
   "id": "844ac22a-e7cb-42e7-82af-fa485db12551",
   "metadata": {},
   "outputs": [],
   "source": [
    "vmapped_func = jax.vmap(multiply)"
   ]
  },
  {
   "cell_type": "code",
   "execution_count": null,
   "id": "12dde49b-54be-44f2-9645-deffec8f6bd0",
   "metadata": {},
   "outputs": [],
   "source": []
  },
  {
   "cell_type": "code",
   "execution_count": null,
   "id": "2272daef-97ef-4722-9579-a98aa7c24dc4",
   "metadata": {},
   "outputs": [],
   "source": [
    "def summary_batch(article_batches, max_context_length):\n",
    "    x = []\n",
    "    \n",
    "    for batch in article_batches:\n",
    "        tokens = tokenizer(article_batch)"
   ]
  },
  {
   "cell_type": "code",
   "execution_count": null,
   "id": "2012b226-058c-4339-9264-1174843c76a7",
   "metadata": {},
   "outputs": [],
   "source": [
    "class Agent(nn.Module):\n",
    "    def __init__(self, n_observations, n_actions, n_hidden):\n",
    "        super().__init__()\n",
    "        self.actor_network = nn.Sequential(\n",
    "            nn.Linear(n_observations, n_hidden),\n",
    "            nn.Tanh(),\n",
    "            nn.Linear(n_hidden, n_hidden),\n",
    "            nn.Tanh(),\n",
    "            nn.Linear(n_hidden, n_actions)\n",
    "        )\n",
    "        \n",
    "        self.critic_network = nn.Sequential(\n",
    "            nn.Linear(n_observations, n_hidden),\n",
    "            nn.Tanh(),\n",
    "            nn.Linear(n_hidden, n_hidden),\n",
    "            nn.Tanh(),\n",
    "            nn.Linear(n_hidden, 1),\n",
    "            nn.Sigmoid(dim=-1)\n",
    "        )\n",
    "    \n",
    "    def get_action_and_value(self, observations):\n",
    "        logits = self.actor_network(observations)\n",
    "        probs = F.softmax(logits, dim=-1)\n",
    "        action = torch.argmax(probs, dim=-1)\n",
    "        critic_value = self.critic_network(observations)\n",
    "        \n",
    "        return action, probs.log(), probs.entropy(), critic_value"
   ]
  }
 ],
 "metadata": {
  "kernelspec": {
   "display_name": "Python 3 (ipykernel)",
   "language": "python",
   "name": "python3"
  },
  "language_info": {
   "codemirror_mode": {
    "name": "ipython",
    "version": 3
   },
   "file_extension": ".py",
   "mimetype": "text/x-python",
   "name": "python",
   "nbconvert_exporter": "python",
   "pygments_lexer": "ipython3",
   "version": "3.8.16"
  }
 },
 "nbformat": 4,
 "nbformat_minor": 5
}
