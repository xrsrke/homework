{
 "cells": [
  {
   "cell_type": "markdown",
   "id": "eefca899-bd67-4a53-b099-5a5144090808",
   "metadata": {},
   "source": [
    "### Engineering"
   ]
  },
  {
   "cell_type": "code",
   "execution_count": 1,
   "id": "535f0e29-dca8-4052-9db9-c7584df0bdae",
   "metadata": {
    "tags": []
   },
   "outputs": [],
   "source": [
    "import torch\n",
    "from torch import nn\n",
    "import torch.nn.functional as F"
   ]
  },
  {
   "cell_type": "code",
   "execution_count": null,
   "id": "16a8f0fd-de6a-44fe-a301-cc40c2202fa9",
   "metadata": {},
   "outputs": [],
   "source": [
    "lazy loading\n",
    "memory mapping\n",
    "data prefetching"
   ]
  },
  {
   "cell_type": "code",
   "execution_count": null,
   "id": "85b327d4-cb35-478d-a3e2-7b795449a434",
   "metadata": {},
   "outputs": [],
   "source": [
    "#include <iostream>"
   ]
  },
  {
   "cell_type": "code",
   "execution_count": null,
   "id": "c08fca9d-f944-4a41-be49-fc9fef15925e",
   "metadata": {},
   "outputs": [],
   "source": [
    "for (; i <= 9; i++) {\n",
    "    std::cout << \"i = \" << i << std::endl;\n",
    "}"
   ]
  },
  {
   "cell_type": "code",
   "execution_count": null,
   "id": "c5079eda-b8da-4c16-b589-8513e8646aa3",
   "metadata": {},
   "outputs": [],
   "source": [
    "typedef int age_type;"
   ]
  },
  {
   "cell_type": "code",
   "execution_count": null,
   "id": "7a9c2099-5e2e-4848-a350-b849c4716568",
   "metadata": {},
   "outputs": [],
   "source": [
    "int* ptr = (int*)malloc(69)"
   ]
  },
  {
   "cell_type": "code",
   "execution_count": null,
   "id": "9608f362-adf8-4a2c-9b2e-adf4c7c5e525",
   "metadata": {},
   "outputs": [],
   "source": [
    "for (int x: xs) {\n",
    "    std::cout << \"value: \" << x << std::endl;\n",
    "}"
   ]
  },
  {
   "cell_type": "code",
   "execution_count": null,
   "id": "26a76580-04bc-475d-a0c3-76c71180ee63",
   "metadata": {},
   "outputs": [],
   "source": [
    "def compute_forward_pass_using_data_parallelism(\n",
    "    model, input,\n",
    "    decide_ids, output_id\n",
    "):\n",
    "    models = nn.parallel.replicate(model, device_ids)\n",
    "    inputs = nn.parallel.scatter(input, device_ids)\n",
    "    \n",
    "    logit = nn.parallel.parallel_apply(models, inputs)\n",
    "    logits = nn.parallel.gather(logit, output_id)\n",
    "    \n",
    "    return logits"
   ]
  },
  {
   "cell_type": "code",
   "execution_count": 6,
   "id": "dee92f97-8548-47fc-93e5-d7a5e89871d6",
   "metadata": {
    "tags": []
   },
   "outputs": [],
   "source": [
    "class f(torch.autograd.Function):\n",
    "    @staticmethod\n",
    "    def forward(ctx, input):\n",
    "        return input.clone()\n",
    "    \n",
    "    @staticmethod\n",
    "    def backward(ctx, grad_input):\n",
    "        torch.distributed.all_reduce(grad_input)\n",
    "        return grad_input"
   ]
  },
  {
   "cell_type": "code",
   "execution_count": 5,
   "id": "8465d1d9-c877-4764-9a89-36484857050b",
   "metadata": {
    "tags": []
   },
   "outputs": [],
   "source": [
    "class g(torch.autograd.Function):\n",
    "    @staticmethod\n",
    "    def forward(ctx, input):\n",
    "        world_size = torch.distributed.get_world_size()\n",
    "        inputs = [torch.empty_like(input) for _ in range(world_size)]\n",
    "        torch.distributed.all_gather(inputs, input)\n",
    "        inputs = torch.cat(inputs, dim=-1)\n",
    "        return inputs\n",
    "    \n",
    "    @staticmethod\n",
    "    def backward(ctx, grad_input):\n",
    "        rank = torch.distributed.get_rank()\n",
    "        world_size = torch.distributed.get_world_size()\n",
    "        dim_size = grad_input.shape[-1]\n",
    "        dim_size_per_partrition = dim_size // world_size\n",
    "        grad_chunks = torch.split(grad_input, dim_size_per_partrition, dim=-1)\n",
    "        return grad_chunks[rank]"
   ]
  },
  {
   "cell_type": "code",
   "execution_count": 4,
   "id": "c082c848-a60b-4a54-a892-62140525edd1",
   "metadata": {
    "tags": []
   },
   "outputs": [],
   "source": [
    "class ColumnParallelLinear(nn.Module):\n",
    "    def __init__(self, input_size, output_size, world_size):\n",
    "        super().__init__()\n",
    "        self.input_size = input_size\n",
    "        self.output_size_per_partrition = output_size // world_size\n",
    "        self.weight = nn.Parameter(torch.empty(\n",
    "            self.output_size_per_partrition,\n",
    "            self.input_size\n",
    "        ))\n",
    "        self.bias = nn.Parameter(torch.empty(\n",
    "            self.output_size_per_partrition\n",
    "        ))\n",
    "    \n",
    "    def forward(self, input):\n",
    "        input_parallel = f.apply(input)\n",
    "        output_parallel = F.linear(\n",
    "            input_parallel,\n",
    "            self.weight,\n",
    "            self.bias\n",
    "        )\n",
    "        output = g.apply(output_parallel)\n",
    "        return output"
   ]
  },
  {
   "cell_type": "code",
   "execution_count": null,
   "id": "b026f365-fd97-4448-88b8-eb102dcc165d",
   "metadata": {},
   "outputs": [],
   "source": [
    "int* h_a, h_b, h_c;"
   ]
  },
  {
   "cell_type": "code",
   "execution_count": null,
   "id": "66d86761-9514-4377-a02a-c7664f5f7bc3",
   "metadata": {},
   "outputs": [],
   "source": [
    "size_t bytes = sizeof(int)*n;"
   ]
  },
  {
   "cell_type": "code",
   "execution_count": null,
   "id": "d527d4eb-4788-44af-9060-963a7e485959",
   "metadata": {},
   "outputs": [],
   "source": [
    "h_a = (int*)malloc(bytes)\n",
    "h_b = (int*)malloc(bytes)\n",
    "h_c = (int*)malloc(bytes)"
   ]
  },
  {
   "cell_type": "code",
   "execution_count": 7,
   "id": "83237b77-63ed-4f9e-ae46-3a5890a9d9cd",
   "metadata": {
    "tags": []
   },
   "outputs": [],
   "source": [
    "import functools"
   ]
  },
  {
   "cell_type": "code",
   "execution_count": 8,
   "id": "28d78270-50eb-4df5-aead-91e4689b4085",
   "metadata": {
    "tags": []
   },
   "outputs": [],
   "source": [
    "def my_decorator(func):\n",
    "    @functools.wraps(func)\n",
    "    def wrapper():\n",
    "        print(\"before\")\n",
    "        func()\n",
    "        print(\"fater\")\n",
    "    \n",
    "    return wrapper"
   ]
  },
  {
   "cell_type": "code",
   "execution_count": 9,
   "id": "5bb7eff2-c3af-4b11-857a-31e6ededf80c",
   "metadata": {
    "tags": []
   },
   "outputs": [],
   "source": [
    "def by_row_parallelism(inputs, weights):\n",
    "    inp_dim_partrition = inputs.shape[-1] // 2\n",
    "    w_dim_partrition = weights.shape[0] // 2\n",
    "    \n",
    "    inp1 = inputs[:, :inp_dim_partrition]\n",
    "    inp2 = inputs[:, inp_dim_partrition:]\n",
    "    \n",
    "    w1 = weights[:w_dim_partrition, :]\n",
    "    w2 = weights[w_dim_partrition:, :]\n",
    "    \n",
    "    out1 = inp1 @ w1\n",
    "    out2 = inp2 @ w2\n",
    "    \n",
    "    out = out1 + out2\n",
    "    \n",
    "    return out"
   ]
  },
  {
   "cell_type": "code",
   "execution_count": 15,
   "id": "78e6b597-69ed-4f99-b14a-eabb34e72762",
   "metadata": {
    "tags": []
   },
   "outputs": [],
   "source": [
    "class f(torch.autograd.Function):\n",
    "    @staticmethod\n",
    "    def forward(ctx, input):\n",
    "        return input.clone()\n",
    "    \n",
    "    @staticmethod\n",
    "    def backward(ctx, grad_input):\n",
    "        torch.distributed.all_reduce(grad_input)\n",
    "        return grad_input"
   ]
  },
  {
   "cell_type": "code",
   "execution_count": 14,
   "id": "5b0474ee-dc10-44cf-8106-51ba38e8c8e9",
   "metadata": {
    "tags": []
   },
   "outputs": [],
   "source": [
    "class g(torch.autograd.Function):\n",
    "    @staticmethod\n",
    "    def forward(ctx, input):\n",
    "        world_size = torch.distributed.get_world_size()\n",
    "        inputs = [torch.empty_like(input) for _ in range(world_size)]\n",
    "        torch.distributed.all_gather(inputs, input)\n",
    "        inputs = torch.cat(inputs, dim=-1)\n",
    "        return inputs\n",
    "    \n",
    "    @staticmethod\n",
    "    def backward(ctx, grad_input):\n",
    "        rank = torch.distributed.get_rank()\n",
    "        world_size = torch.distributed.get_world_size()\n",
    "        dim_size = grad_input.shape[-1]\n",
    "        dim_size_per_partrition = dim_size // world_size\n",
    "        grad_chunks = torch.split(grad_input, dim_size_per_partrition, dim=-1)\n",
    "        return grad_chunks[rank]"
   ]
  },
  {
   "cell_type": "code",
   "execution_count": 11,
   "id": "41fe7d58-ca19-4d94-a217-706754df53e3",
   "metadata": {
    "tags": []
   },
   "outputs": [],
   "source": [
    "class ColumnParallelLinear(nn.Module):\n",
    "    def __init__(self, input_size, output_size, world_size):\n",
    "        super().__init__()\n",
    "        self.input_size = input_size\n",
    "        self.output_size_per_partrition = output_size // world_size\n",
    "        \n",
    "        self.weight = nn.Parameter(torch.empty(\n",
    "            self.output_size_per_partrition,\n",
    "            self.input_size\n",
    "        ))\n",
    "        self.bias = nn.Parameter(torch.empty(\n",
    "            self.output_size_per_partrition\n",
    "        ))\n",
    "    \n",
    "    def forward(self, input):\n",
    "        input_parallel = f.apply(input)\n",
    "        output_parallel = F.linear(\n",
    "            input_parallel,\n",
    "            self.weight,\n",
    "            self.bias\n",
    "        )\n",
    "        outputs = g.apply(output_parallel)\n",
    "        return outputs"
   ]
  },
  {
   "cell_type": "code",
   "execution_count": null,
   "id": "f236322a-5429-4297-8c40-a6fdc979d9a8",
   "metadata": {},
   "outputs": [],
   "source": [
    "def by_column_parallelism(inputs, weights):\n",
    "    dim_size = weights.shape[-1]\n",
    "    dim_size_per_partrition = dim_size // 2\n",
    "    \n",
    "    w1 = weights[:, :dim_size_per_partrition]\n",
    "    w2 = weights[:, dim_size_per_partrition:]\n",
    "    \n",
    "    out1 = inputs @ w1\n",
    "    out2 = inputs @ w2\n",
    "    \n",
    "    return torch.cat([out1, out2], dim=-1)"
   ]
  },
  {
   "cell_type": "code",
   "execution_count": 16,
   "id": "ab99fa27-bd10-49e9-b523-d3fd7da0a64d",
   "metadata": {
    "tags": []
   },
   "outputs": [],
   "source": [
    "from torch.utils.data import Dataset"
   ]
  },
  {
   "cell_type": "code",
   "execution_count": 17,
   "id": "fea76acf-31a3-40ab-85d8-62da384a73b1",
   "metadata": {
    "tags": []
   },
   "outputs": [],
   "source": [
    "class CachedDataset(Dataset):\n",
    "    def __init__(self, filename):\n",
    "        super().__init__()\n",
    "        self.filename = filename\n",
    "        self.data = None\n",
    "        self.cached_idxs = []\n",
    "        self.cache = None\n",
    "    \n",
    "    def prefetch(self, idxs):\n",
    "        if all([i in self.cached_idxs for i in idxs]):\n",
    "            return\n",
    "        \n",
    "        if not self.data:\n",
    "            self.data = torch.load(self.filename)\n",
    "        \n",
    "        total_elements = sum([self.data[i].numel() for i in idxs])\n",
    "        self.cache = torch.zeros(total_elements, dtype=self.data.dtype)\n",
    "        self.cached_idxs.clear()\n",
    "        \n",
    "        offset = 0\n",
    "        for i in idxs:\n",
    "            n_elements = self.data[i].numel()\n",
    "            self.cache[offset:offset+n_elements] = self.data[i].view(-1)\n",
    "            self.cached_idxs.append(i)\n",
    "            offset += n_elements"
   ]
  },
  {
   "cell_type": "code",
   "execution_count": null,
   "id": "a01607d7-4666-4db1-9723-30c0d0cd5875",
   "metadata": {},
   "outputs": [],
   "source": [
    "forward and backward pass, model parameters, optimizer"
   ]
  },
  {
   "cell_type": "code",
   "execution_count": null,
   "id": "32a762d8-5197-4fe8-ad67-60bf2b8bcd7a",
   "metadata": {},
   "outputs": [],
   "source": [
    "from t"
   ]
  },
  {
   "cell_type": "code",
   "execution_count": 18,
   "id": "e35b8aae-d9e9-4cd7-923a-9a5a82890189",
   "metadata": {
    "tags": []
   },
   "outputs": [],
   "source": [
    "import evidently"
   ]
  },
  {
   "cell_type": "code",
   "execution_count": 22,
   "id": "3b047cde-13a0-4eb3-8577-cf06b86c6c87",
   "metadata": {
    "tags": []
   },
   "outputs": [],
   "source": [
    "from evidently.report import Report\n",
    "from evidently.metric_preset import DataDriftPreset"
   ]
  },
  {
   "cell_type": "code",
   "execution_count": 23,
   "id": "2756fa5d-9d6c-4cce-9ab9-7c8fa41066db",
   "metadata": {
    "tags": []
   },
   "outputs": [],
   "source": [
    "report = Report(metrics=[DataDriftPreset()])"
   ]
  },
  {
   "cell_type": "code",
   "execution_count": null,
   "id": "80d7f69f-7c59-4334-8206-595859b661af",
   "metadata": {},
   "outputs": [],
   "source": [
    "report.run(reference_data=reference_data, current_data=current)"
   ]
  },
  {
   "cell_type": "code",
   "execution_count": 24,
   "id": "6aafbdaa-a79d-4956-8682-e9b2e1e2369f",
   "metadata": {
    "tags": []
   },
   "outputs": [],
   "source": [
    "from airflow.decorators import dag\n",
    "from airflow.operators.python import PythonOperator"
   ]
  },
  {
   "cell_type": "code",
   "execution_count": 25,
   "id": "6aded856-a483-43c0-8f6a-e890be6949cf",
   "metadata": {
    "tags": []
   },
   "outputs": [],
   "source": [
    "def task_1(ti):\n",
    "    ti.push(\"x\", 1)"
   ]
  },
  {
   "cell_type": "code",
   "execution_count": 26,
   "id": "bd187f48-dcd7-4917-8141-d295d098939d",
   "metadata": {
    "tags": []
   },
   "outputs": [],
   "source": [
    "def task_2(ti):\n",
    "    x = ti.get(\"x\")\n",
    "    y = x + 1\n",
    "    ti.push(\"y\", y)"
   ]
  },
  {
   "cell_type": "code",
   "execution_count": null,
   "id": "a2a13754-31bb-42f8-95c3-fed28b08c0bd",
   "metadata": {},
   "outputs": [],
   "source": [
    "@dag(dag_id=dag_id, start_date=start_date)\n",
    "def workflow():\n",
    "    task_1 = PythonOperator(python_callable=task_1, task_id=\"task_1\")\n",
    "    task_2 = PythonOperator(python_callable=task_2, task_id=\"task_2\")\n",
    "    \n",
    "    task_1 >> task_2"
   ]
  },
  {
   "cell_type": "code",
   "execution_count": null,
   "id": "ff81d7f4-bf78-40fd-a3f7-d3f4e47381e8",
   "metadata": {},
   "outputs": [],
   "source": [
    "import pyspark.sql.functions as F"
   ]
  },
  {
   "cell_type": "code",
   "execution_count": null,
   "id": "3a89cd90-7fc3-496a-8615-51465f7e944d",
   "metadata": {},
   "outputs": [],
   "source": [
    "new_df = df.withColumn(\"date\", F.to_date(df.date))"
   ]
  },
  {
   "cell_type": "code",
   "execution_count": 28,
   "id": "56301100-456f-4a40-9ed8-b0dc6846250e",
   "metadata": {
    "tags": []
   },
   "outputs": [],
   "source": [
    "import torch\n",
    "from torch import nn\n",
    "import torch.nn.functional as F"
   ]
  },
  {
   "cell_type": "code",
   "execution_count": null,
   "id": "2a639c58-5e58-405b-b747-741beb75c771",
   "metadata": {},
   "outputs": [],
   "source": [
    "torch.roll(x, shifs=1, dim=1)"
   ]
  },
  {
   "cell_type": "code",
   "execution_count": null,
   "id": "df0815b3-d890-4656-b723-1bbf6fe84585",
   "metadata": {},
   "outputs": [],
   "source": []
  },
  {
   "cell_type": "code",
   "execution_count": null,
   "id": "7f7abba4-cae6-4a2b-8c05-9699fedc39e5",
   "metadata": {},
   "outputs": [],
   "source": [
    "handles = [model.ln_final.register_forward_pre_hook(hook) for hook in hooks]"
   ]
  },
  {
   "cell_type": "code",
   "execution_count": null,
   "id": "f32b55a7-b236-461a-bf3b-d999b825ea75",
   "metadata": {},
   "outputs": [],
   "source": [
    "handles[1].remove()"
   ]
  },
  {
   "cell_type": "code",
   "execution_count": 29,
   "id": "282f4308-7036-4e33-a798-c774bef86019",
   "metadata": {
    "tags": []
   },
   "outputs": [],
   "source": [
    "from transformer_lens import HookedTransformerConfig, HookedTransformer"
   ]
  },
  {
   "cell_type": "code",
   "execution_count": null,
   "id": "78f3ee5e-2170-4e9e-95f6-32311d2ab508",
   "metadata": {},
   "outputs": [],
   "source": [
    "cfg = HookedTransformerConfig(**params)\n",
    "model = HookedTransformer(cfg=cfg)"
   ]
  },
  {
   "cell_type": "code",
   "execution_count": null,
   "id": "a8b02ad5-975e-4d70-850a-5c6e441096ff",
   "metadata": {},
   "outputs": [],
   "source": [
    "step 1: two prompt\n",
    "step 2: choose a component\n",
    "step 3: record all the interdimate activations\n",
    "step 4:"
   ]
  },
  {
   "cell_type": "code",
   "execution_count": 30,
   "id": "9559b062-c499-4fb9-8baf-bd1141c895fc",
   "metadata": {
    "tags": []
   },
   "outputs": [],
   "source": [
    "from contextlib import contextmanager"
   ]
  },
  {
   "cell_type": "code",
   "execution_count": null,
   "id": "1df1252a-50ee-402b-a95d-1464b17d0d3c",
   "metadata": {},
   "outputs": [],
   "source": [
    "@contextmanager\n",
    "def use_hooks(model, hooks):\n",
    "    try:\n",
    "        module = model.blocks[1]\n",
    "        handles = [module.register_forward_pre_hook(hook) for hook in hooks]\n",
    "    finally:\n",
    "        for handle in handles:\n",
    "            handle.remove()"
   ]
  },
  {
   "cell_type": "code",
   "execution_count": null,
   "id": "0b71b925-52db-418b-b7c9-6c50eeab96e4",
   "metadata": {},
   "outputs": [],
   "source": [
    "_, cache = model.run_with_cache(tokens)"
   ]
  },
  {
   "cell_type": "code",
   "execution_count": 31,
   "id": "b65149c9-39d0-4675-83a5-0a9dcbaf3342",
   "metadata": {
    "tags": []
   },
   "outputs": [],
   "source": [
    "from transformer_lens.utils import get_act_name"
   ]
  },
  {
   "cell_type": "code",
   "execution_count": 32,
   "id": "6335ee76-e685-491f-83e8-bd0ba50745f8",
   "metadata": {
    "tags": []
   },
   "outputs": [],
   "source": [
    "hook_name = get_act_name(\"pattern\", 0, \"attn\")"
   ]
  },
  {
   "cell_type": "code",
   "execution_count": 33,
   "id": "015dd926-f9b5-4509-88e6-2313597aacfa",
   "metadata": {
    "tags": []
   },
   "outputs": [
    {
     "data": {
      "text/plain": [
       "'blocks.0.attn.hook_pattern'"
      ]
     },
     "execution_count": 33,
     "metadata": {},
     "output_type": "execute_result"
    }
   ],
   "source": [
    "hook_name"
   ]
  },
  {
   "cell_type": "code",
   "execution_count": null,
   "id": "107c8e1f-f304-4c08-abae-e42cddbd7160",
   "metadata": {},
   "outputs": [],
   "source": [
    "attention_pattern = cache[hook_name]"
   ]
  },
  {
   "cell_type": "code",
   "execution_count": 34,
   "id": "6e42f6b1-9b95-4f90-9d31-59b8ab31cba9",
   "metadata": {
    "tags": []
   },
   "outputs": [],
   "source": [
    "import circuitsvis as cv"
   ]
  },
  {
   "cell_type": "code",
   "execution_count": null,
   "id": "58ee3ff2-b96a-4909-a005-b361502ccbd8",
   "metadata": {},
   "outputs": [],
   "source": [
    "str_tokens = model.to_str_tokens(tokens)"
   ]
  },
  {
   "cell_type": "code",
   "execution_count": null,
   "id": "b138f37e-8835-42b0-ba18-41364220f237",
   "metadata": {},
   "outputs": [],
   "source": [
    "cv.attention.attention_pattern(\n",
    "    tokens=str_tokens,\n",
    "    attention=attention_pattern\n",
    ")"
   ]
  },
  {
   "cell_type": "code",
   "execution_count": null,
   "id": "4bf2523f-9876-4c10-b38b-a8467449701d",
   "metadata": {},
   "outputs": [],
   "source": [
    "def print_shape(module, input):\n",
    "    print(input.shape)"
   ]
  },
  {
   "cell_type": "code",
   "execution_count": null,
   "id": "2de83731-be01-4c21-87d2-c1873167eac7",
   "metadata": {},
   "outputs": [],
   "source": [
    "model.blocks[1].register_forward_pre_hook(print_shape)"
   ]
  },
  {
   "cell_type": "code",
   "execution_count": 36,
   "id": "c36d5085-46e7-422a-9d59-18b42a0111ad",
   "metadata": {
    "tags": []
   },
   "outputs": [],
   "source": [
    "from evidently.metric_preset import DataDriftPreset\n",
    "from evidently.report import Report"
   ]
  },
  {
   "cell_type": "code",
   "execution_count": 37,
   "id": "0ba9f6f8-e687-481b-8031-1fddfa4cfb57",
   "metadata": {
    "tags": []
   },
   "outputs": [],
   "source": [
    "report = Report(\n",
    "    metrics=[DataDriftPreset()]\n",
    ")"
   ]
  },
  {
   "cell_type": "code",
   "execution_count": null,
   "id": "e54866d4-60a5-438e-b8ca-5eda96dbf311",
   "metadata": {},
   "outputs": [],
   "source": [
    "report.run(reference_data)"
   ]
  },
  {
   "cell_type": "code",
   "execution_count": null,
   "id": "049d14f4-994e-48bd-922c-11a79949f436",
   "metadata": {},
   "outputs": [],
   "source": [
    "W_U = model.W_U"
   ]
  },
  {
   "cell_type": "code",
   "execution_count": null,
   "id": "53918e30-9b75-4576-8804-700aadcbbbfc",
   "metadata": {},
   "outputs": [],
   "source": [
    "tokens = model.to_tokens(text)\n",
    "tokens = tokens[0]"
   ]
  },
  {
   "cell_type": "code",
   "execution_count": null,
   "id": "1df0f8f8-d9f7-43af-8580-2d5f6ad5458a",
   "metadata": {},
   "outputs": [],
   "source": [
    "target_tokens = tokens[1:]"
   ]
  },
  {
   "cell_type": "code",
   "execution_count": null,
   "id": "af5212b2-54b5-4c39-9891-3daea51ba805",
   "metadata": {},
   "outputs": [],
   "source": [
    "W_U_correct_tokens = W_U[:, target_tokens]"
   ]
  },
  {
   "cell_type": "code",
   "execution_count": 38,
   "id": "3e81ea8b-641d-421a-a3c9-6470c2939c28",
   "metadata": {
    "tags": []
   },
   "outputs": [],
   "source": [
    "import torch.distributed.rpc as rpc"
   ]
  },
  {
   "cell_type": "code",
   "execution_count": null,
   "id": "1f690024-5ff6-4c98-ab9c-79c0d38f8a17",
   "metadata": {},
   "outputs": [],
   "source": [
    "rpc.rpc_sync()"
   ]
  },
  {
   "cell_type": "code",
   "execution_count": null,
   "id": "42f4f0bf-8ff9-4342-93c8-7a99ff824591",
   "metadata": {},
   "outputs": [],
   "source": [
    "tokens = model.to_tokens(repeated_text)"
   ]
  },
  {
   "cell_type": "code",
   "execution_count": null,
   "id": "ac3f5ed3-4d23-4d3b-9d54-ad3b7a1a5e29",
   "metadata": {},
   "outputs": [],
   "source": [
    "induction_heads = [(6, 9), (4, 2)]"
   ]
  },
  {
   "cell_type": "code",
   "execution_count": 39,
   "id": "469ff838-5422-4ab4-91f2-c4ebdae5fa08",
   "metadata": {
    "tags": []
   },
   "outputs": [],
   "source": [
    "attention_patterns = []"
   ]
  },
  {
   "cell_type": "code",
   "execution_count": null,
   "id": "f16ba451-c041-4dd2-83c0-c1342c466bde",
   "metadata": {},
   "outputs": [],
   "source": [
    "_, cache = model.run_with_cache(tokens)"
   ]
  },
  {
   "cell_type": "code",
   "execution_count": null,
   "id": "cd0f1bb3-6bf5-4640-8857-a425f629d22a",
   "metadata": {},
   "outputs": [],
   "source": [
    "for head_idx, layer_idx in induction_heads:\n",
    "    hook_name = get_act_name(\"attn\", layer_idx)\n",
    "    attention_patterns.append(\n",
    "        cache[hook_name][0, head_idx]\n",
    "    )"
   ]
  },
  {
   "cell_type": "code",
   "execution_count": 41,
   "id": "4078b6c7-93b8-4dc6-bfa0-190f6df24006",
   "metadata": {
    "tags": []
   },
   "outputs": [],
   "source": [
    "import os\n",
    "import torch.multiprocessing as mp"
   ]
  },
  {
   "cell_type": "code",
   "execution_count": 42,
   "id": "1c67dafb-f8e3-4a8a-a07d-942c2f8432b3",
   "metadata": {
    "tags": []
   },
   "outputs": [],
   "source": [
    "AGENT_NAME = \"agent_{}\""
   ]
  },
  {
   "cell_type": "code",
   "execution_count": null,
   "id": "ce5c14d0-c5db-42ec-9475-5ac3323f6c57",
   "metadata": {},
   "outputs": [],
   "source": [
    "def run_worker(rank, world_size):\n",
    "    os.environ[\"MASTER_ADDR\"] = \"localhost\"\n",
    "    os.environ[\"MASTER_PORT\"] = \"29500\"\n",
    "    \n",
    "    torch.distributed.rpc.init_rpc(\n",
    "        AGENT_NAME.format(rank)\n",
    "        rank=rank,\n",
    "        world_size=world_size\n",
    "    )"
   ]
  },
  {
   "cell_type": "code",
   "execution_count": null,
   "id": "0a5804e0-b645-40b0-84a4-4cd4a06e04fe",
   "metadata": {},
   "outputs": [],
   "source": []
  },
  {
   "cell_type": "code",
   "execution_count": null,
   "id": "77a5049b-1129-4a76-a559-0b0d69c7e641",
   "metadata": {},
   "outputs": [],
   "source": [
    "for rank in range(world_size):\n",
    "    process = mp.Process(\n",
    "        target=run_worker,\n",
    "        args=(rank, world_size)\n",
    "    )"
   ]
  },
  {
   "cell_type": "code",
   "execution_count": null,
   "id": "c5f6efbb-3d9d-4197-85f7-3b47521c733a",
   "metadata": {},
   "outputs": [],
   "source": [
    "agent_rref.rpc_sync().init(\"hello\")"
   ]
  },
  {
   "cell_type": "code",
   "execution_count": 43,
   "id": "53f032a2-82de-4df3-9159-3441e5d33dcd",
   "metadata": {
    "tags": []
   },
   "outputs": [],
   "source": [
    "from torch.distributed.rpc import RRef"
   ]
  },
  {
   "cell_type": "code",
   "execution_count": 44,
   "id": "147affe4-09ca-4c0c-a888-06c326067dd0",
   "metadata": {
    "tags": []
   },
   "outputs": [],
   "source": [
    "class Agent:\n",
    "    def __init__(self):\n",
    "        self.id = RRef(self)"
   ]
  },
  {
   "cell_type": "code",
   "execution_count": 45,
   "id": "eac8d823-3d60-43a7-8011-5aef6388933c",
   "metadata": {
    "tags": []
   },
   "outputs": [],
   "source": [
    "futs = []"
   ]
  },
  {
   "cell_type": "code",
   "execution_count": null,
   "id": "fc2ea4c8-c5ff-4619-bfe6-53b942e79d13",
   "metadata": {},
   "outputs": [],
   "source": [
    "for ob_rref in ob_rrefs:\n",
    "    futs.append(ob_rref.rpc_async().run())"
   ]
  },
  {
   "cell_type": "code",
   "execution_count": null,
   "id": "3e6abc50-1e1d-4791-826f-139c06158cc3",
   "metadata": {},
   "outputs": [],
   "source": [
    "for fut in futs:\n",
    "    fut.wait()"
   ]
  },
  {
   "cell_type": "code",
   "execution_count": null,
   "id": "095ae778-298a-4d0d-8d45-5e735bb3d6e9",
   "metadata": {},
   "outputs": [],
   "source": [
    "class Observer:\n",
    "    def __init__(self, env):\n",
    "        self.id = rpc.get_worker_info().id\n",
    "        self.env = env\n",
    "    \n",
    "    def run_episode(self, agent_rref):\n",
    "        state, _ = self.env.reset()\n",
    "        \n",
    "        for _ in range(69):\n",
    "            action = agent_rref.rpc_sync().select_action(self.id, state)\n",
    "            state, reward, done, _ = env.step(action)\n",
    "            \n",
    "            if done: break"
   ]
  },
  {
   "cell_type": "code",
   "execution_count": null,
   "id": "77c0841f-8df6-430b-967c-3827b531901a",
   "metadata": {},
   "outputs": [],
   "source": [
    "rpc.get_worker_info(worker_id).name "
   ]
  },
  {
   "cell_type": "code",
   "execution_count": 46,
   "id": "a3430e0a-3bd5-44e4-8715-bc876fc573ed",
   "metadata": {
    "tags": []
   },
   "outputs": [],
   "source": [
    "futs = []"
   ]
  },
  {
   "cell_type": "code",
   "execution_count": null,
   "id": "87f704b7-bab5-4e27-ad64-a4ceafc4accc",
   "metadata": {},
   "outputs": [],
   "source": [
    "for ob_rref in ob_rrefs:\n",
    "    futs.append(rpc.async)"
   ]
  },
  {
   "cell_type": "code",
   "execution_count": 47,
   "id": "5d5d96df-93fe-4aaf-a333-ed5f41ca1873",
   "metadata": {
    "tags": []
   },
   "outputs": [],
   "source": [
    "class LayerNorm(nn.Module):\n",
    "    def __init__(self, features, eps):\n",
    "        super().__init__()\n",
    "        self.adds = nn.Parameter(torch.zeros(features))\n",
    "        self.mults = nn.Parameter(torch.ones(features))\n",
    "        self.eps = eps\n",
    "    \n",
    "    def forward(self, x):\n",
    "        mean, var = x.mean(), x.var()\n",
    "        x = (x-mean)/(self.eps+var).sqrt()\n",
    "        x = self.mults*x + self.adds\n",
    "        return x"
   ]
  },
  {
   "cell_type": "code",
   "execution_count": null,
   "id": "dd035dab-4939-443c-bfc0-dd169076e1e6",
   "metadata": {},
   "outputs": [],
   "source": [
    "image_similarities = image_embeddings @ image_embeddings.T"
   ]
  },
  {
   "cell_type": "code",
   "execution_count": null,
   "id": "0cb1afb5-8382-4c30-a550-20a0403e294f",
   "metadata": {},
   "outputs": [],
   "source": [
    "text_similarities = text_embeddings @ text_embeddings.T"
   ]
  },
  {
   "cell_type": "code",
   "execution_count": null,
   "id": "460e4df0-9f91-4b9b-aa14-3f51b0e230fb",
   "metadata": {},
   "outputs": [],
   "source": [
    "target = F.softmax(\n",
    "    (image_similarities + text_similarities) / (2*temperature)\n",
    ")"
   ]
  },
  {
   "cell_type": "code",
   "execution_count": 48,
   "id": "726b2c64-159e-48e8-8150-6f7d7b5d390f",
   "metadata": {
    "tags": []
   },
   "outputs": [],
   "source": [
    "AGENT_NAME = \"agent_{}\""
   ]
  },
  {
   "cell_type": "code",
   "execution_count": null,
   "id": "2dbac884-5a09-4fe7-b6d6-f158aa36a48b",
   "metadata": {},
   "outputs": [],
   "source": [
    "def run_worker(rank, world_size):\n",
    "    os.environ[\"MASTER_ADDR\"] = \"localhost\"\n",
    "    os.environ[\"MASTER_PORT\"] = \"29500\"\n",
    "    \n",
    "    rpc.init_rpc(\n",
    "        AGENT_NAME.format(rank),\n",
    "        rank=rank,\n",
    "        world_size=world_size\n",
    "    )"
   ]
  },
  {
   "cell_type": "code",
   "execution_count": null,
   "id": "27ca88d4-6eca-4fd7-889d-11124d2b7703",
   "metadata": {},
   "outputs": [],
   "source": [
    "for rank in range(world_size):\n",
    "    process = mp.Process(\n",
    "        target=run_worker,\n",
    "        args=(rank, world_size)\n",
    "    )\n",
    "    process.start()"
   ]
  },
  {
   "cell_type": "code",
   "execution_count": 49,
   "id": "801c26b9-3a09-42fb-a913-b37bd179ec21",
   "metadata": {
    "tags": []
   },
   "outputs": [],
   "source": [
    "futs = []"
   ]
  },
  {
   "cell_type": "code",
   "execution_count": null,
   "id": "ee6c6177-c7b9-48f0-8842-5cbc8c249fd1",
   "metadata": {},
   "outputs": [],
   "source": [
    "for ob_rref in ob_rrefs:\n",
    "    futs.append(rpc.rpc_async(\n",
    "        to=ob_rref.owner(),\n",
    "        func=ob_rref.rpc_sync().run\n",
    "    ))"
   ]
  },
  {
   "cell_type": "code",
   "execution_count": null,
   "id": "916d6cdb-8693-425a-82b6-f685828950ce",
   "metadata": {},
   "outputs": [],
   "source": [
    "for fut in futs:\n",
    "    fut.wait()"
   ]
  }
 ],
 "metadata": {
  "kernelspec": {
   "display_name": "Python 3 (ipykernel)",
   "language": "python",
   "name": "python3"
  },
  "language_info": {
   "codemirror_mode": {
    "name": "ipython",
    "version": 3
   },
   "file_extension": ".py",
   "mimetype": "text/x-python",
   "name": "python",
   "nbconvert_exporter": "python",
   "pygments_lexer": "ipython3",
   "version": "3.8.16"
  }
 },
 "nbformat": 4,
 "nbformat_minor": 5
}
