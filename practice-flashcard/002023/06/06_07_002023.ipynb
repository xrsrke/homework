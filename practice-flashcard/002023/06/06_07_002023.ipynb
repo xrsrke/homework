{
 "cells": [
  {
   "cell_type": "markdown",
   "id": "6bcc345a-0321-4d36-8e01-9a5085fe1ebd",
   "metadata": {},
   "source": [
    "### ML Engineering"
   ]
  },
  {
   "cell_type": "markdown",
   "id": "bfac6f3f-624a-440e-87f0-9f66053ac398",
   "metadata": {},
   "source": [
    "### Engineering"
   ]
  },
  {
   "cell_type": "code",
   "execution_count": null,
   "id": "ae253a7f-171d-4c04-add7-039130330dbe",
   "metadata": {},
   "outputs": [],
   "source": [
    "#include <iostream>"
   ]
  },
  {
   "cell_type": "code",
   "execution_count": null,
   "id": "92982c3a-3610-4730-a244-34524e7b67f3",
   "metadata": {},
   "outputs": [],
   "source": [
    "int main() {\n",
    "    for (int i = 0; i <= 5; i++) {\n",
    "        std::cout << i;\n",
    "    }\n",
    "\n",
    "    return 0;\n",
    "}"
   ]
  },
  {
   "cell_type": "code",
   "execution_count": null,
   "id": "74feca7e-f789-40ff-9992-d58fc8becf9b",
   "metadata": {},
   "outputs": [],
   "source": [
    "int main() {\n",
    "    int numbers[] = {1, 2, 3, 4, 5};\n",
    "\n",
    "    for (int i = 0; i <= 2; i++) {\n",
    "        std::cout << numbers[i];\n",
    "    }\n",
    "\n",
    "    return 0;\n",
    "}"
   ]
  },
  {
   "cell_type": "code",
   "execution_count": null,
   "id": "18d8070e-f6f2-4fa8-9514-9d2610f7f097",
   "metadata": {},
   "outputs": [],
   "source": [
    "void say_hello() {\n",
    "    std::cout << \"hello\";\n",
    "}"
   ]
  },
  {
   "cell_type": "code",
   "execution_count": null,
   "id": "cab696a4-5f86-4f5e-9b1e-52a326499942",
   "metadata": {},
   "outputs": [],
   "source": [
    "int main() {\n",
    "    int x = 1;\n",
    "    std::cout << &id;\n",
    "}"
   ]
  },
  {
   "cell_type": "code",
   "execution_count": null,
   "id": "2d8347c6-7754-4296-b873-2735afb94ca8",
   "metadata": {},
   "outputs": [],
   "source": [
    "int main() {\n",
    "    std::cout << \"hello\" << std::endl;\n",
    "    std::cout << \"world\";\n",
    "    return 0;\n",
    "}"
   ]
  },
  {
   "cell_type": "code",
   "execution_count": null,
   "id": "15f73f7e-a26d-4414-a418-54a5e13da486",
   "metadata": {},
   "outputs": [],
   "source": [
    "int main() {\n",
    "    int numbers[] = {1, 2, 3, 4};\n",
    "    std::cout << numbers[0];\n",
    "    return 0;\n",
    "}"
   ]
  },
  {
   "cell_type": "code",
   "execution_count": null,
   "id": "40129e23-23cd-496c-95e9-517a63b36d28",
   "metadata": {},
   "outputs": [],
   "source": [
    "#include <iostream>\n",
    "using namespace std;"
   ]
  },
  {
   "cell_type": "code",
   "execution_count": null,
   "id": "b537d910-44a2-4cf7-b5c3-e78740a20584",
   "metadata": {},
   "outputs": [],
   "source": [
    "int main() {\n",
    "    cout << \"hello\";\n",
    "    return 0;\n",
    "}"
   ]
  },
  {
   "cell_type": "code",
   "execution_count": null,
   "id": "6f705e15-4af9-46d1-9e90-e6881efc2ce6",
   "metadata": {},
   "outputs": [],
   "source": [
    "void say_hello(std::string name) {\n",
    "    return name;\n",
    "}"
   ]
  },
  {
   "cell_type": "code",
   "execution_count": null,
   "id": "add03fa3-5972-4cfc-ae0f-bf4459b86879",
   "metadata": {},
   "outputs": [],
   "source": [
    "int zero() {\n",
    "    return 0;\n",
    "}"
   ]
  },
  {
   "cell_type": "code",
   "execution_count": null,
   "id": "d242f278-bac1-497e-ae90-2d9ae390ac89",
   "metadata": {},
   "outputs": [],
   "source": [
    "int main() {\n",
    "    int file_size = 100;\n",
    "    return 0;\n",
    "}"
   ]
  },
  {
   "cell_type": "code",
   "execution_count": null,
   "id": "748d4b0e-bc74-4d3f-85d5-0e847c581719",
   "metadata": {},
   "outputs": [],
   "source": [
    "int main() {\n",
    "    const float pi = 3.14;\n",
    "    return 0;\n",
    "}"
   ]
  },
  {
   "cell_type": "code",
   "execution_count": null,
   "id": "9e66195c-1c39-4d30-b33e-3619205d9748",
   "metadata": {},
   "outputs": [],
   "source": [
    "int main() {\n",
    "    int number;\n",
    "    std::cout << \"enter a number\";\n",
    "    std::cin >> number\n",
    "    std::cout << \"\";\n",
    "    return 0;\n",
    "}"
   ]
  },
  {
   "cell_type": "code",
   "execution_count": null,
   "id": "52435f0d-eaf7-44b3-999f-a85bbccc54d8",
   "metadata": {},
   "outputs": [],
   "source": [
    "int main() {\n",
    "    int tensors[3, 2] = {\n",
    "        {1, 2},\n",
    "        {3, 4},\n",
    "        {5, 6}\n",
    "    };\n",
    "    return 0;\n",
    "}"
   ]
  },
  {
   "cell_type": "code",
   "execution_count": null,
   "id": "7c122d68-b3a6-44c6-86aa-6e2f9f081660",
   "metadata": {},
   "outputs": [],
   "source": [
    "void say_name(std::string name) {\n",
    "    std::cout << name;\n",
    "}"
   ]
  },
  {
   "cell_type": "code",
   "execution_count": null,
   "id": "91c7242e-6c88-4c9e-822b-6a6ee8afc088",
   "metadata": {},
   "outputs": [],
   "source": [
    "int plus_one(int number) {\n",
    "    int result;\n",
    "    result = number + 1;\n",
    "    return result;\n",
    "}"
   ]
  },
  {
   "cell_type": "code",
   "execution_count": null,
   "id": "81856e18-6209-4518-8478-8be87a061428",
   "metadata": {},
   "outputs": [],
   "source": [
    "int getMax(int x1, int x2) {\n",
    "    if (x1 > x2) {\n",
    "        return x1;\n",
    "    }\n",
    "}"
   ]
  },
  {
   "cell_type": "code",
   "execution_count": null,
   "id": "6d4e7554-e8e2-461b-9d40-66b75efc4aa7",
   "metadata": {},
   "outputs": [],
   "source": [
    "string numberToColor(int number) {\n",
    "    string color;\n",
    "    switch (number) {\n",
    "        case 1:\n",
    "            color = \"red\";\n",
    "            break;\n",
    "        case 2:\n",
    "            color = \"blue\";\n",
    "            break;\n",
    "    }\n",
    "    return color;\n",
    "}"
   ]
  },
  {
   "cell_type": "code",
   "execution_count": 1,
   "id": "e4745043-4b27-466b-8f61-5d028981bbfb",
   "metadata": {},
   "outputs": [],
   "source": [
    "import torch\n",
    "from torch import nn\n",
    "import torch.nn.functional as F"
   ]
  },
  {
   "cell_type": "code",
   "execution_count": null,
   "id": "9126450d-4e0b-4693-856d-801849ea4c0a",
   "metadata": {},
   "outputs": [],
   "source": [
    "class ColumnLinearParallel(nn.Module):\n",
    "    def __init__(self, input_size, output_size, world_size):\n",
    "        super().__init__()\n",
    "        self.input_size = input_size\n",
    "        self.output_size_per_partrition = output_size // world_size\n",
    "        self.weight = nn.Parameter(torch.empty(\n",
    "            self.output_size_per_partrition,\n",
    "            self.input_size\n",
    "        ))\n",
    "        self.bias = nn.Parameter(torch.empty(\n",
    "            self.output_size_per_partrition\n",
    "        ))\n",
    "    \n",
    "    def forward(self, input):\n",
    "        output_parallel = F.linear(input, self.weight, self.bias)\n",
    "        world_size = torch.distributed.get_world_size()\n",
    "        outputs = [torch.empty_like(output_parallel) for _ in range(world_size)]\n",
    "        torch.distributed.all_gather(outputs, output_parallel)\n",
    "        outputs = torch.cat(outputs, dim=-1)\n",
    "        return outputs"
   ]
  },
  {
   "cell_type": "code",
   "execution_count": null,
   "id": "d0f451e9-af70-4b4a-b666-a3ac4ea3072c",
   "metadata": {},
   "outputs": [],
   "source": [
    "int main() {\n",
    "    int i = 0;\n",
    "    while (i <= 5) {\n",
    "        std::cout << i;\n",
    "        i++;\n",
    "    }\n",
    "    return 0;\n",
    "}"
   ]
  },
  {
   "cell_type": "code",
   "execution_count": null,
   "id": "e10ba6c6-9ef7-425b-b76e-a8c4242048c7",
   "metadata": {},
   "outputs": [],
   "source": [
    "rank = torch.distributed.get_rank()\n",
    "\n",
    "if rank == 0:\n",
    "    torch.distributed.broadcast(x, src=0)"
   ]
  },
  {
   "cell_type": "markdown",
   "id": "8820cc35-11d6-4c35-a39e-d498d212cd11",
   "metadata": {},
   "source": [
    "### AI"
   ]
  },
  {
   "cell_type": "code",
   "execution_count": null,
   "id": "591ece03-059e-4774-b81e-39b539f99c6b",
   "metadata": {},
   "outputs": [],
   "source": [
    "torch.distributed.broadcast(x, src=0, async_op=True)"
   ]
  },
  {
   "cell_type": "code",
   "execution_count": null,
   "id": "e798e206-d16b-4cbc-be3d-a57da56db41c",
   "metadata": {},
   "outputs": [],
   "source": [
    "torch.tensor(0, device=device)"
   ]
  },
  {
   "cell_type": "code",
   "execution_count": null,
   "id": "32cabfc7-fb19-4cf5-984e-abaa6133f9be",
   "metadata": {},
   "outputs": [],
   "source": [
    "class Function(torch.autograd.Function):\n",
    "    @staticmethod\n",
    "    def forward(ctx, input):\n",
    "        ctx.input = input\n",
    "        return input\n",
    "    \n",
    "    @staticmethod\n",
    "    def backward(ctx, grad_output):\n",
    "        return ctx.input"
   ]
  },
  {
   "cell_type": "code",
   "execution_count": null,
   "id": "52474680-daf9-485d-b2f5-f425e98130a1",
   "metadata": {},
   "outputs": [],
   "source": [
    "step 1: create a clean prompt and a corrupted prompt\n",
    "step 2: clean activations\n",
    "step 3: run\n",
    "step 4: patch the activation\n",
    "step 5: logit diff"
   ]
  },
  {
   "cell_type": "code",
   "execution_count": null,
   "id": "77fd78e4-e7a3-41b0-b78a-486f3881e58d",
   "metadata": {},
   "outputs": [],
   "source": [
    "for param in model.parameters():\n",
    "    param.requires_grad = False"
   ]
  },
  {
   "cell_type": "code",
   "execution_count": null,
   "id": "289fdd58-b88a-4304-a9c7-aeb7fca66ad9",
   "metadata": {},
   "outputs": [],
   "source": [
    "for i, block in enumerate(model.blocks):\n",
    "    if i > 5:\n",
    "        for param in block.parameters():\n",
    "            param.requires_grad = True"
   ]
  },
  {
   "cell_type": "code",
   "execution_count": null,
   "id": "efc595b8-25ac-4118-82f6-24525679e06c",
   "metadata": {},
   "outputs": [],
   "source": [
    "for param in model.lm_head.parameters():\n",
    "    param.requires_grad = True"
   ]
  },
  {
   "cell_type": "code",
   "execution_count": null,
   "id": "b8991ba5-fd76-4444-a109-d358f53d1694",
   "metadata": {},
   "outputs": [],
   "source": [
    "for param in model.ln_final.parameters():\n",
    "    param.requires_grad = True"
   ]
  }
 ],
 "metadata": {
  "kernelspec": {
   "display_name": "Python 3 (ipykernel)",
   "language": "python",
   "name": "python3"
  },
  "language_info": {
   "codemirror_mode": {
    "name": "ipython",
    "version": 3
   },
   "file_extension": ".py",
   "mimetype": "text/x-python",
   "name": "python",
   "nbconvert_exporter": "python",
   "pygments_lexer": "ipython3",
   "version": "3.8.16"
  }
 },
 "nbformat": 4,
 "nbformat_minor": 5
}
