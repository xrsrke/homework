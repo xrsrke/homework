{
 "cells": [
  {
   "cell_type": "markdown",
   "id": "3d93fff2-e90d-4271-802c-1f28e9093d8b",
   "metadata": {},
   "source": [
    "### ML Engineering"
   ]
  },
  {
   "cell_type": "code",
   "execution_count": null,
   "id": "2163df6c-2aaf-46e4-95c4-f03cc238da8c",
   "metadata": {},
   "outputs": [],
   "source": [
    "@app.get(\"/users/{uid}\")\n",
    "def get_user(uid):\n",
    "    return uid"
   ]
  },
  {
   "cell_type": "code",
   "execution_count": null,
   "id": "7f032393-e949-4e75-a79e-18f4d125f798",
   "metadata": {},
   "outputs": [],
   "source": [
    "@app.get(\"/blog\")\n",
    "def blog(page, published):\n",
    "    return {\"page\": page, \"published\": published}"
   ]
  },
  {
   "cell_type": "code",
   "execution_count": null,
   "id": "eda8175f-b64d-4f66-9629-004492474623",
   "metadata": {},
   "outputs": [],
   "source": [
    "from fastapi import status"
   ]
  },
  {
   "cell_type": "code",
   "execution_count": null,
   "id": "01f4025e-b77d-4571-90a1-ff673e8cf69c",
   "metadata": {},
   "outputs": [],
   "source": [
    "@app.get(\"/items\", status_code=status.HTTP_201_CREATED)\n",
    "def get_items():\n",
    "    pass"
   ]
  },
  {
   "cell_type": "code",
   "execution_count": null,
   "id": "0b699fb5-e5e8-492d-bcc0-55a103e0960b",
   "metadata": {},
   "outputs": [],
   "source": [
    "from typing import Optional"
   ]
  },
  {
   "cell_type": "code",
   "execution_count": null,
   "id": "7744ff67-59e7-4ac1-bf8c-fd10cfb6f9bc",
   "metadata": {},
   "outputs": [],
   "source": [
    "@app.get(\"/files\")\n",
    "def files(is_deleted: Optional[bool]=False):\n",
    "    pass"
   ]
  },
  {
   "cell_type": "code",
   "execution_count": null,
   "id": "c6f86a78-da3b-4797-b074-54a2ffe29e8a",
   "metadata": {},
   "outputs": [],
   "source": [
    "import hydra"
   ]
  },
  {
   "cell_type": "code",
   "execution_count": null,
   "id": "1bc5745f-a20e-435f-abb6-a10a8e1db6ea",
   "metadata": {},
   "outputs": [],
   "source": [
    "@hydra.main(\n",
    "    config_path=\"./\",\n",
    "    config_name=\"config.yaml\"\n",
    ")\n",
    "def config():\n",
    "    pass"
   ]
  },
  {
   "cell_type": "code",
   "execution_count": null,
   "id": "9d4fd326-80f6-48fd-9395-654aac723055",
   "metadata": {},
   "outputs": [],
   "source": [
    "@app.get(\"/movies/{name}\")\n",
    "def get_movie(name: str):\n",
    "    return name"
   ]
  },
  {
   "cell_type": "code",
   "execution_count": null,
   "id": "01009bf6-8a63-4d04-8a0d-70efc7678c79",
   "metadata": {},
   "outputs": [],
   "source": [
    "from fastapi import HTTPException"
   ]
  },
  {
   "cell_type": "code",
   "execution_count": null,
   "id": "9841efa2-55b0-4a59-9c8b-f1cc64d4a9cf",
   "metadata": {},
   "outputs": [],
   "source": [
    "@app.get(\"/blog\")\n",
    "def blog():\n",
    "    raise HTTPException(\n",
    "        status_code=status.HTTP_404_NOT_FOUND,\n",
    "        detail=\"x\"\n",
    "    )"
   ]
  },
  {
   "cell_type": "code",
   "execution_count": null,
   "id": "2a1c4e4d-a84a-4b91-b7f1-c578ef26b6ed",
   "metadata": {},
   "outputs": [],
   "source": [
    "from pydantic import BaseModel"
   ]
  },
  {
   "cell_type": "code",
   "execution_count": null,
   "id": "90469702-3f95-445f-aba2-9bacfd1c51e1",
   "metadata": {},
   "outputs": [],
   "source": [
    "class Blog(BaseModel):\n",
    "    title: str\n",
    "    desc: str"
   ]
  },
  {
   "cell_type": "code",
   "execution_count": null,
   "id": "322ec0a4-cf75-4844-9046-d3ba1b61739a",
   "metadata": {},
   "outputs": [],
   "source": [
    "@app.post(\"/blog\")\n",
    "def create_blog(request: Blog):\n",
    "    pass"
   ]
  },
  {
   "cell_type": "code",
   "execution_count": null,
   "id": "3faf3a36-cf0e-4624-9fea-0374bd1bad95",
   "metadata": {},
   "outputs": [],
   "source": [
    "from fastapi import Response"
   ]
  },
  {
   "cell_type": "code",
   "execution_count": null,
   "id": "bafd1357-2ffc-4edf-bbd2-4b45298d487c",
   "metadata": {},
   "outputs": [],
   "source": [
    "@app.get(\"/tasks\")\n",
    "def get_tasks(id, response: Response):\n",
    "    if id == 0:\n",
    "        response.status_code = status.HTTP_404_NOT_FOUND\n",
    "    else:\n",
    "        response.status_code = status.HTTP_200_OK"
   ]
  },
  {
   "cell_type": "code",
   "execution_count": null,
   "id": "ccac2930-4f11-4b40-9e9c-43a776b07c2d",
   "metadata": {},
   "outputs": [],
   "source": [
    "from prefect.deployments"
   ]
  },
  {
   "cell_type": "markdown",
   "id": "6f4912cc-64be-4918-bbe6-3d81ba89d613",
   "metadata": {},
   "source": [
    "### Engineering"
   ]
  },
  {
   "cell_type": "code",
   "execution_count": null,
   "id": "a0faafd1-ebdf-46a9-8ed3-bb404144f149",
   "metadata": {},
   "outputs": [],
   "source": [
    "step 1: partrition parameters\n",
    "step 2: move params to rank\n",
    "step 3: init local optimizer\n",
    "step 4: sync optimizer-related variables\n",
    "step 5: "
   ]
  },
  {
   "cell_type": "code",
   "execution_count": null,
   "id": "ae066fd2-963c-4826-ac6a-5a5e71952d78",
   "metadata": {},
   "outputs": [],
   "source": [
    "step 1: i"
   ]
  },
  {
   "cell_type": "code",
   "execution_count": null,
   "id": "2d7118b2-3767-4fd7-81a3-63f298ab4d02",
   "metadata": {},
   "outputs": [],
   "source": [
    "step 1: prompt\n",
    "step 2: yes and no\n",
    "step 3: extract hidden states\n",
    "step 4: normalize\n",
    "step 5: prob "
   ]
  },
  {
   "cell_type": "code",
   "execution_count": null,
   "id": "842c10d1-4b11-4fb6-8b82-7639597e2ccf",
   "metadata": {},
   "outputs": [],
   "source": [
    "from einops import einsum"
   ]
  },
  {
   "cell_type": "code",
   "execution_count": null,
   "id": "575368e5-cab5-4c52-86f4-7a730bda2f53",
   "metadata": {},
   "outputs": [],
   "source": [
    "einsum(\n",
    "    W, W,\n",
    "    \"b f1 d, b f2 d -> b f1 f2\"\n",
    ")"
   ]
  },
  {
   "cell_type": "code",
   "execution_count": null,
   "id": "ee242371-b727-48b8-9a30-d3faab8cf800",
   "metadata": {},
   "outputs": [],
   "source": [
    "import torch\n",
    "from torch import nn\n",
    "import torch.nn.functional as F"
   ]
  },
  {
   "cell_type": "code",
   "execution_count": null,
   "id": "b7843bd4-ec42-47a9-8a7d-f89bc61bae7b",
   "metadata": {},
   "outputs": [],
   "source": [
    "import numpy as np\n",
    "from gym import Env\n",
    "from gym.spaces import Discrete, Box"
   ]
  },
  {
   "cell_type": "code",
   "execution_count": null,
   "id": "31ee1cc4-fd5c-48b6-9962-6a18735d4e7d",
   "metadata": {},
   "outputs": [],
   "source": [
    "class ShowerEnv(Env):\n",
    "    def __init__(self):\n",
    "        self.observation_space = Box(\n",
    "            low=np.array([0]),\n",
    "            high=np.array([100])\n",
    "        )\n",
    "        self.action_space = Discrete(3)\n",
    "    \n",
    "    def \n",
    "    \n",
    "    def reset(self):\n",
    "        self.shower_length = 60\n",
    "        self.temperature = 20\n",
    "        return self.temperature"
   ]
  },
  {
   "cell_type": "code",
   "execution_count": null,
   "id": "6ecc27a5-97cb-46a6-adbb-8495e3c1dc7c",
   "metadata": {},
   "outputs": [],
   "source": [
    "class MultiHeadAttention(nn.Module):\n",
    "    def __init__(self, attention, d_model, n_heads):\n",
    "        super().__init__()\n",
    "        self.attention = attention\n",
    "        self.d_model, self.n_heads = d_model, n_heads\n",
    "        self.d_head = d_model // n_heads\n",
    "        \n",
    "        self.to_q = nn.Linear(d_model, d_model)\n",
    "        self.to_k = nn.Linear(d_model, d_model)\n",
    "        self.to_v = nn.Linear(d_model, d_model)\n",
    "        \n",
    "        self.proj = nn.Linear(d_model, d_model)\n",
    "    \n",
    "    def split_heads(self, x):\n",
    "        batch_size, seq_len, d_model = x.size()\n",
    "        return x.view(batch_size, self.n_heads, seq_len, self.d_head)\n",
    "    \n",
    "    def concat_heads(self, x):\n",
    "        batch_size, n_heads, seq_len, d_head = x.size()\n",
    "        return x.view(batch_size, seq_len, self.d_model)\n",
    "    \n",
    "    def forward(self, pre_q, pre_k, pre_v):\n",
    "        q = self.to_q(pre_q)\n",
    "        k = self.to_k(pre_k)\n",
    "        v = self.to_v(pre_v)\n",
    "        \n",
    "        q = self.split_heads(q)\n",
    "        k = self.split_heads(k)\n",
    "        v = self.split_heads(v)\n",
    "        \n",
    "        attn_output, attn_weights = self.attention(q, k, v)\n",
    "        \n",
    "        q = self.concat_heads(q)"
   ]
  }
 ],
 "metadata": {
  "kernelspec": {
   "display_name": "Python 3 (ipykernel)",
   "language": "python",
   "name": "python3"
  },
  "language_info": {
   "codemirror_mode": {
    "name": "ipython",
    "version": 3
   },
   "file_extension": ".py",
   "mimetype": "text/x-python",
   "name": "python",
   "nbconvert_exporter": "python",
   "pygments_lexer": "ipython3",
   "version": "3.8.16"
  }
 },
 "nbformat": 4,
 "nbformat_minor": 5
}
