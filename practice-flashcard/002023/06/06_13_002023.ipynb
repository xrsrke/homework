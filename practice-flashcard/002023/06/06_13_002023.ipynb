{
 "cells": [
  {
   "cell_type": "markdown",
   "id": "342f31b9-ae99-4228-9c7b-df7ad411064f",
   "metadata": {},
   "source": [
    "### Engineering"
   ]
  },
  {
   "cell_type": "code",
   "execution_count": null,
   "id": "c6520144-277e-4e22-ace3-3ea633777996",
   "metadata": {},
   "outputs": [],
   "source": [
    "#include <iostream>"
   ]
  },
  {
   "cell_type": "code",
   "execution_count": null,
   "id": "609d1896-91e9-442b-9932-d9c353a693ac",
   "metadata": {},
   "outputs": [],
   "source": [
    "int main() {\n",
    "    int numbers[] = {1, 2, 3, 4};\n",
    "    \n",
    "    std::cout << numbers[0];\n",
    "    \n",
    "    return 0;\n",
    "}"
   ]
  },
  {
   "cell_type": "code",
   "execution_count": null,
   "id": "ce8df629-5969-46c7-a96e-c8eed4b1f605",
   "metadata": {},
   "outputs": [],
   "source": [
    "int main() {\n",
    "    int tensor[3][2] = {\n",
    "        {1, 2},\n",
    "        {3, 4},\n",
    "        {5, 6}\n",
    "    }\n",
    "    \n",
    "    return 0;\n",
    "}"
   ]
  },
  {
   "cell_type": "code",
   "execution_count": null,
   "id": "795df118-fd33-4ae0-aa9a-9f9dc4cabdb1",
   "metadata": {},
   "outputs": [],
   "source": [
    "thread\n",
    "process\n",
    "vector\n",
    "stream processing"
   ]
  },
  {
   "cell_type": "code",
   "execution_count": 1,
   "id": "83f58634-4887-479e-a114-b68254667f72",
   "metadata": {
    "tags": []
   },
   "outputs": [],
   "source": [
    "n_microbatches = 4"
   ]
  },
  {
   "cell_type": "code",
   "execution_count": 2,
   "id": "95dfe698-6459-4e23-988b-bb99b2024f81",
   "metadata": {
    "tags": []
   },
   "outputs": [],
   "source": [
    "n_partritions = 3"
   ]
  },
  {
   "cell_type": "code",
   "execution_count": 3,
   "id": "f5fa7b7a-fcd9-439e-8b28-6eb3f3a9b0ba",
   "metadata": {
    "tags": []
   },
   "outputs": [],
   "source": [
    "n_clock_cycles = n_microbatches+n_partritions-1"
   ]
  },
  {
   "cell_type": "code",
   "execution_count": 5,
   "id": "c62bb8a1-65b0-4b3e-bdd9-211c337362a5",
   "metadata": {
    "tags": []
   },
   "outputs": [],
   "source": [
    "for clock_idx in range(n_clock_cycles):\n",
    "    start_partrition = max(clock_idx+1-n_microbatches, 0)\n",
    "    end_partrition = min(clock_idx+1, n_partritions)\n",
    "    \n",
    "    for partrition_idx in range(start_partrition, end_partrition):\n",
    "        microbatch_idx = clock_idx - partrition_idx "
   ]
  },
  {
   "cell_type": "code",
   "execution_count": null,
   "id": "318111ea-05fa-4310-8522-589ef79c4882",
   "metadata": {},
   "outputs": [],
   "source": [
    "step 1: split a mini-batch into micro-batches\n",
    "step 2: create a new cuda stream for each micro-batches in a device\n",
    "step 3: pipeline\n",
    "step 4: comebne"
   ]
  },
  {
   "cell_type": "code",
   "execution_count": null,
   "id": "db0eb5e0-8630-451e-ae10-7a5a5a7404a0",
   "metadata": {},
   "outputs": [],
   "source": [
    "service, configmap, deployment"
   ]
  },
  {
   "cell_type": "code",
   "execution_count": null,
   "id": "82b90ca2-45cd-4d7b-b754-f41e1e2a8663",
   "metadata": {},
   "outputs": [],
   "source": [
    "min(clock_idx+1, n_partritions)"
   ]
  },
  {
   "cell_type": "code",
   "execution_count": null,
   "id": "e5e16f6f-acca-488a-b29f-a93375a52b8f",
   "metadata": {},
   "outputs": [],
   "source": [
    "step 1: backward(4, 3), recompute(3, 3)\n",
    "step 2: backward(3, 3), recompute(2, 3)\n",
    "step 3: backward(2, 3), recompute(1, 3)"
   ]
  },
  {
   "cell_type": "code",
   "execution_count": null,
   "id": "51e9b2dd-e8a1-41ab-8d0c-8df68946fbf9",
   "metadata": {},
   "outputs": [],
   "source": [
    "stream processing\n",
    "thread-based\n",
    "process-based\n",
    "vector"
   ]
  },
  {
   "cell_type": "code",
   "execution_count": 6,
   "id": "606dbb22-fe42-498f-a223-3abe5ba87df2",
   "metadata": {
    "tags": []
   },
   "outputs": [],
   "source": [
    "world_size = 16"
   ]
  },
  {
   "cell_type": "code",
   "execution_count": 7,
   "id": "1d8a2613-6895-4b6e-a3a6-2cd632f47ae5",
   "metadata": {
    "tags": []
   },
   "outputs": [],
   "source": [
    "tensor_model_parallel_size = 2"
   ]
  },
  {
   "cell_type": "code",
   "execution_count": 8,
   "id": "9802497d-e5f3-4b23-a9d5-d7ab0e3c2e2b",
   "metadata": {
    "tags": []
   },
   "outputs": [],
   "source": [
    "pipeline_model_parallel_size = 4"
   ]
  },
  {
   "cell_type": "code",
   "execution_count": 9,
   "id": "2dcefe63-6118-44ac-bedd-728c6873e7dd",
   "metadata": {
    "tags": []
   },
   "outputs": [],
   "source": [
    "num_pipeline_model_paralell_groups = world_size // pipeline_model_parallel_size"
   ]
  },
  {
   "cell_type": "code",
   "execution_count": 10,
   "id": "0d4b9fab-4f21-4236-81f7-dc3520678986",
   "metadata": {
    "tags": []
   },
   "outputs": [
    {
     "data": {
      "text/plain": [
       "4"
      ]
     },
     "execution_count": 10,
     "metadata": {},
     "output_type": "execute_result"
    }
   ],
   "source": [
    "num_pipeline_model_paralell_groups"
   ]
  },
  {
   "cell_type": "code",
   "execution_count": 11,
   "id": "f86d90ca-bcad-4572-af95-bab1977f6fe8",
   "metadata": {
    "tags": []
   },
   "outputs": [],
   "source": [
    "data_parallel_groups = []"
   ]
  },
  {
   "cell_type": "code",
   "execution_count": 12,
   "id": "b3df09c8-26df-42a0-b161-fa5323d876c8",
   "metadata": {
    "tags": []
   },
   "outputs": [
    {
     "name": "stdout",
     "output_type": "stream",
     "text": [
      "[0, 2]\n",
      "[1, 3]\n",
      "[4, 6]\n",
      "[5, 7]\n",
      "[8, 10]\n",
      "[9, 11]\n",
      "[12, 14]\n",
      "[13, 15]\n"
     ]
    }
   ],
   "source": [
    "for i in range(pipeline_model_parallel_size):\n",
    "    start_rank = i*num_pipeline_model_paralell_groups\n",
    "    end_rank = (i+1)*num_pipeline_model_paralell_groups\n",
    "    \n",
    "    for j in range(tensor_model_parallel_size):\n",
    "        ranks = list(range(\n",
    "            start_rank+j,\n",
    "            end_rank,\n",
    "            tensor_model_parallel_size\n",
    "        ))\n",
    "        \n",
    "        print(ranks)"
   ]
  },
  {
   "cell_type": "code",
   "execution_count": null,
   "id": "4c5a3868-5903-461b-ba3f-528af4450688",
   "metadata": {},
   "outputs": [],
   "source": [
    "broadcast, reduce, scatter, gather"
   ]
  },
  {
   "cell_type": "code",
   "execution_count": null,
   "id": "1d1893e2-7652-4517-bfe7-ae3ff6b5db43",
   "metadata": {},
   "outputs": [],
   "source": [
    "step 1: load full training data to disk\n",
    "step 2: specify a list of items\n",
    "step 3: size\n",
    "step 4: allocate\n",
    "step 5: load"
   ]
  },
  {
   "cell_type": "code",
   "execution_count": null,
   "id": "8367a13b-5272-413c-a471-d2c7cd9bce95",
   "metadata": {},
   "outputs": [],
   "source": [
    "F_{i, j} completed before F_{i+1, j}\n",
    "B_{i, j} completed before B_{i-1, j}"
   ]
  },
  {
   "cell_type": "code",
   "execution_count": null,
   "id": "310b5507-5ecb-45d6-8e95-bd3f1c8294c7",
   "metadata": {},
   "outputs": [],
   "source": []
  },
  {
   "cell_type": "code",
   "execution_count": null,
   "id": "1c68ee85-e2fa-47d1-97bd-5dc5a7f87bac",
   "metadata": {},
   "outputs": [],
   "source": [
    "max(clock_idx+1-n_microbatches, 0)"
   ]
  },
  {
   "cell_type": "code",
   "execution_count": null,
   "id": "21a84365-c619-42cd-b16c-cf528d3c4a17",
   "metadata": {},
   "outputs": [],
   "source": [
    "container runtime, kubelet, kube-proxy"
   ]
  },
  {
   "cell_type": "code",
   "execution_count": null,
   "id": "00402c61-e046-420d-a73d-ea208ede42dc",
   "metadata": {},
   "outputs": [],
   "source": [
    "broadcast, scatter, reduce, gather"
   ]
  },
  {
   "cell_type": "code",
   "execution_count": null,
   "id": "e85b73a6-acb6-4a5b-a46f-204aca5f39de",
   "metadata": {},
   "outputs": [],
   "source": [
    "loading training data into memory\n",
    "idxs\n",
    "size(idxs)\n",
    "allocate\n",
    "load"
   ]
  },
  {
   "cell_type": "markdown",
   "id": "6755f520-83f2-410e-ac35-b1e6eb250389",
   "metadata": {},
   "source": [
    "### MechInterp"
   ]
  },
  {
   "cell_type": "code",
   "execution_count": null,
   "id": "67d7ecc5-9988-4e55-8116-ae13f7eaf589",
   "metadata": {},
   "outputs": [],
   "source": [
    "act_head = activations[1, 2, :, :]"
   ]
  },
  {
   "cell_type": "code",
   "execution_count": null,
   "id": "6df1c057-d148-4fa8-9c9c-b220e385492c",
   "metadata": {},
   "outputs": [],
   "source": [
    "step 1: yes and no prompt\n",
    "step 2: record all the activations of the two prompts\n",
    "step 3: extract the hidden states\n",
    "step 4: normalize the hidden states\n",
    "step 5: convert to probs using the probe"
   ]
  },
  {
   "cell_type": "code",
   "execution_count": null,
   "id": "167bfa3a-8208-4352-8fbd-b3a6e6dd1e91",
   "metadata": {},
   "outputs": [],
   "source": [
    "cache[\"attn\", 2]"
   ]
  },
  {
   "cell_type": "code",
   "execution_count": null,
   "id": "11b89d5d-1fa6-4640-a727-436a8aa33ab8",
   "metadata": {},
   "outputs": [],
   "source": [
    "tokens = model.to_tokens(text)"
   ]
  },
  {
   "cell_type": "code",
   "execution_count": null,
   "id": "ebd31346-20c3-4139-b1d5-6c731f24196f",
   "metadata": {},
   "outputs": [],
   "source": [
    "_, cache = model.run_with_cache(tokens)"
   ]
  },
  {
   "cell_type": "code",
   "execution_count": 13,
   "id": "952885dc-c929-4a10-9324-73500566fade",
   "metadata": {
    "tags": []
   },
   "outputs": [],
   "source": [
    "def compute_score(pattern, target_pattern):\n",
    "    score = pattern * target_pattern\n",
    "    return score.sum(dim=-1) / pattern.sum(dim=-1)"
   ]
  },
  {
   "cell_type": "code",
   "execution_count": null,
   "id": "635aad3d-c7d6-472b-bd96-dba3f9208bb7",
   "metadata": {},
   "outputs": [],
   "source": [
    "data = torch.zeros(n_layers, n_heads)"
   ]
  },
  {
   "cell_type": "code",
   "execution_count": null,
   "id": "f193aa3c-9b96-4a4b-956f-61fb175f451e",
   "metadata": {},
   "outputs": [],
   "source": [
    "for layer_idx in range(n_layers):\n",
    "    hook_name = f\"blocks.{layer_idx}.attn.hook_pattern\"\n",
    "    attention_patterns = cache[hook_name]\n",
    "    \n",
    "    for head_idx in range(n_heads):\n",
    "        head_attn_pattern = attention_patterns[0, head_idx, :, :]\n",
    "        score = compute_score(head_attn_pattern, target_pattern)\n",
    "        data[layer_idx, head_idx] = score"
   ]
  },
  {
   "cell_type": "code",
   "execution_count": null,
   "id": "b62361ef-144d-48d1-a0cd-75be9e2f452e",
   "metadata": {},
   "outputs": [],
   "source": [
    "step 1: choose a component\n",
    "step 2: a clean prompt and a corrupted prompt\n",
    "step 3: record all activations of the clean prompt and corrupted prompt\n",
    "step 4: patch the activation of the componnet from the corrupted to the clean\n",
    "step 5: rerun the clean with patched component\n",
    "step 6: extract the activations of receivers\n",
    "step 7: rerun the clean prompt and patch the receiver"
   ]
  },
  {
   "cell_type": "code",
   "execution_count": null,
   "id": "7c025714-da1e-4ffc-b01d-e66e22e0e7b0",
   "metadata": {},
   "outputs": [],
   "source": [
    "text_embeddings = model.embed(tokens)\n",
    "positional_embeddings = model.pos_embed(tokens)"
   ]
  },
  {
   "cell_type": "code",
   "execution_count": null,
   "id": "977a70d9-64b8-4065-83fe-6b329a8a62e5",
   "metadata": {},
   "outputs": [],
   "source": [
    "residual = text_embeddings + positional_embeddings"
   ]
  },
  {
   "cell_type": "code",
   "execution_count": null,
   "id": "62568685-ab49-4504-9dc8-6cd85141a639",
   "metadata": {},
   "outputs": [],
   "source": [
    "for block in model.blocks:\n",
    "    residual = block(residual)"
   ]
  },
  {
   "cell_type": "code",
   "execution_count": null,
   "id": "3071ea91-6b6e-4cff-962e-e98ae50ccb57",
   "metadata": {},
   "outputs": [],
   "source": [
    "residual = model.ln_final(residual)"
   ]
  },
  {
   "cell_type": "code",
   "execution_count": null,
   "id": "a5b8a486-b0cd-41ec-a14d-4c0a2e6cf9c3",
   "metadata": {},
   "outputs": [],
   "source": [
    "logits = model.unembed(residual)"
   ]
  },
  {
   "cell_type": "code",
   "execution_count": null,
   "id": "908261a8-b293-4ab0-93a0-06cf2afdd86d",
   "metadata": {},
   "outputs": [],
   "source": [
    "corrupted_prompt = \"A told B: 'Persistence is all you need.' C replied back to \""
   ]
  },
  {
   "cell_type": "code",
   "execution_count": null,
   "id": "cd3cf6dd-6c1c-44a6-97ff-662f6930c588",
   "metadata": {},
   "outputs": [],
   "source": [
    "tokens = model.to_tokens(prompt)"
   ]
  },
  {
   "cell_type": "code",
   "execution_count": null,
   "id": "662705a1-e5f1-4362-bf75-6431cc1fe75d",
   "metadata": {},
   "outputs": [],
   "source": [
    "corrupted_tokens = model.to_tokens(corrupted_prompt)"
   ]
  },
  {
   "cell_type": "code",
   "execution_count": null,
   "id": "d3e2e1b5-66f9-492c-ba4b-9c5db2cc47b5",
   "metadata": {},
   "outputs": [],
   "source": [
    "_, clean_activations = model.run_with_cache(tokens)\n",
    "_, corrupted_activations = model.run_with_cache(corrupted_tokens)"
   ]
  },
  {
   "cell_type": "code",
   "execution_count": 14,
   "id": "87e07686-1d4f-42ba-8b02-f75c96634790",
   "metadata": {
    "tags": []
   },
   "outputs": [],
   "source": [
    "from transformer_lens import utils"
   ]
  },
  {
   "cell_type": "code",
   "execution_count": 15,
   "id": "6b868150-7e7e-4945-ab4a-d40ee1d6b1b3",
   "metadata": {
    "tags": []
   },
   "outputs": [],
   "source": [
    "head_idx, layer_idx = 6, 9"
   ]
  },
  {
   "cell_type": "code",
   "execution_count": 16,
   "id": "71d33870-e90f-4993-ba35-bf84f937bae3",
   "metadata": {
    "tags": []
   },
   "outputs": [],
   "source": [
    "hook_name = utils.get_act_name(\"attn\", layer_idx)"
   ]
  },
  {
   "cell_type": "code",
   "execution_count": null,
   "id": "e6831c01-7255-47ef-8dcc-ac6ea81c0fae",
   "metadata": {},
   "outputs": [],
   "source": [
    "corrupted_head_activations = corrupted_activations[hook_name][0, head_idx, :, :]"
   ]
  },
  {
   "cell_type": "code",
   "execution_count": null,
   "id": "01fd2680-55f9-42ed-b622-3e37078496df",
   "metadata": {},
   "outputs": [],
   "source": [
    "def patch_head_activations(activations, hook):\n",
    "    activations[0, head_idx, :, :] = corrupted_head_activations\n",
    "    return activations"
   ]
  },
  {
   "cell_type": "code",
   "execution_count": null,
   "id": "bf3b30c8-0e01-439c-a8ea-75788141d905",
   "metadata": {},
   "outputs": [],
   "source": [
    "corrupted_activations = model.run_with_hooks(\n",
    "    tokens,\n",
    "    fwd_hooks=[(hook_name, patch_head_activations)]\n",
    ")"
   ]
  },
  {
   "cell_type": "code",
   "execution_count": null,
   "id": "8fb08c26-60bd-4399-9b12-ed6577591f3d",
   "metadata": {},
   "outputs": [],
   "source": [
    "corrupted_receiver_activations = corrupted_activations[receiver_hook_name]"
   ]
  },
  {
   "cell_type": "code",
   "execution_count": null,
   "id": "a2d766bf-b1d7-48cf-86dc-1249f8c4e129",
   "metadata": {},
   "outputs": [],
   "source": [
    "def patch_receiver_activations(activations, hook):\n",
    "    activations = corrupted_receiver_activations\n",
    "    return activations"
   ]
  },
  {
   "cell_type": "code",
   "execution_count": null,
   "id": "6d62d828-c34f-43bd-9ad8-a82d17dcecc1",
   "metadata": {},
   "outputs": [],
   "source": [
    "model.add_hook(receiver_hook_name, patch_receiver_activations)"
   ]
  },
  {
   "cell_type": "code",
   "execution_count": null,
   "id": "31372015-0c13-4cc8-9ddc-583eaba961d4",
   "metadata": {},
   "outputs": [],
   "source": [
    "corrupted_logits = model(tokens)"
   ]
  },
  {
   "cell_type": "code",
   "execution_count": null,
   "id": "2d6428ac-d7f8-4ddf-8c32-da51dd3fe485",
   "metadata": {},
   "outputs": [],
   "source": [
    "clean_logits = model(tokens)"
   ]
  },
  {
   "cell_type": "code",
   "execution_count": null,
   "id": "68ecab18-fcdf-499c-865d-00589933fba2",
   "metadata": {},
   "outputs": [],
   "source": [
    "def compute_logit_difference(clean_logits, corrupted_logits, target_token):\n",
    "    return clean_logits[:, -1, :][target_token, :] - corrupted_logits[:, -1, :][target_token, :]"
   ]
  },
  {
   "cell_type": "code",
   "execution_count": 17,
   "id": "63492e94-9410-4c9a-bd2b-546142c8fb45",
   "metadata": {
    "tags": []
   },
   "outputs": [],
   "source": [
    "from fastapi import status"
   ]
  },
  {
   "cell_type": "code",
   "execution_count": null,
   "id": "0fd92dee-f66a-4c03-84c7-0a47befc750d",
   "metadata": {},
   "outputs": [],
   "source": [
    "@app.get(\"/items\", status_code=status.HTTP_201_CREATED)\n",
    "def get_items():\n",
    "    pass"
   ]
  },
  {
   "cell_type": "code",
   "execution_count": 18,
   "id": "94da65d7-264e-4a78-8570-36c1b9a87a26",
   "metadata": {
    "tags": []
   },
   "outputs": [],
   "source": [
    "from typing import Optional"
   ]
  },
  {
   "cell_type": "code",
   "execution_count": null,
   "id": "a7183ef0-5591-400c-90f9-e1a8a27d8def",
   "metadata": {},
   "outputs": [],
   "source": [
    "@app.get(\"/files\")\n",
    "def files(is_deleted: Optional[bool] = False):\n",
    "    pass"
   ]
  },
  {
   "cell_type": "code",
   "execution_count": 19,
   "id": "68efefd7-462c-4296-b7a9-82296100a55c",
   "metadata": {
    "tags": []
   },
   "outputs": [],
   "source": [
    "import torch\n",
    "from torch import nn\n",
    "import torch.nn.functional as F"
   ]
  },
  {
   "cell_type": "code",
   "execution_count": null,
   "id": "11814126-c3e5-466d-bed9-5c857acc0c48",
   "metadata": {},
   "outputs": [],
   "source": [
    "class MultiplyConstant(torch.autograd.Function):\n",
    "    @staticmethod\n",
    "    def forward(ctx, input):\n",
    "        ctx.input = input\n",
    "        return input\n",
    "    \n",
    "    @staticmethod\n",
    "    def backward(ctx, grad_input):\n",
    "        return ctx.input + 1"
   ]
  },
  {
   "cell_type": "code",
   "execution_count": 20,
   "id": "e2407354-acab-4cfc-a863-3fa81cda8868",
   "metadata": {
    "tags": []
   },
   "outputs": [],
   "source": [
    "from fastapi import HTTPException"
   ]
  },
  {
   "cell_type": "code",
   "execution_count": null,
   "id": "a03a9b80-dbfd-4811-b0e9-591066b6d698",
   "metadata": {},
   "outputs": [],
   "source": [
    "@app.get(\"/blog\")\n",
    "def blog():\n",
    "    raise HTTPException(\n",
    "        status_code=status.HTTP_404_NOT_FOUND,\n",
    "        detail=\"Blog not found\"\n",
    "    )"
   ]
  },
  {
   "cell_type": "code",
   "execution_count": null,
   "id": "b84ed746-5b44-422a-8375-bb000773f589",
   "metadata": {},
   "outputs": [],
   "source": [
    "@app.get(\"/movies/{name}\")\n",
    "def get_movies(name):\n",
    "    return name"
   ]
  },
  {
   "cell_type": "code",
   "execution_count": 21,
   "id": "9ab8a683-5059-4687-814c-b5b1c04bd167",
   "metadata": {
    "tags": []
   },
   "outputs": [
    {
     "data": {
      "text/plain": [
       "4"
      ]
     },
     "execution_count": 21,
     "metadata": {},
     "output_type": "execute_result"
    }
   ],
   "source": [
    "n_microbatches"
   ]
  },
  {
   "cell_type": "code",
   "execution_count": 22,
   "id": "2b06b996-5e94-46a5-9bf4-c35b17872460",
   "metadata": {
    "tags": []
   },
   "outputs": [
    {
     "data": {
      "text/plain": [
       "3"
      ]
     },
     "execution_count": 22,
     "metadata": {},
     "output_type": "execute_result"
    }
   ],
   "source": [
    "n_partritions"
   ]
  },
  {
   "cell_type": "code",
   "execution_count": 29,
   "id": "38c7e857-6637-4abb-98d7-4bb0a778ed42",
   "metadata": {
    "tags": []
   },
   "outputs": [],
   "source": [
    "n_clock_cycles = n_microbatches + n_partritions - 1"
   ]
  },
  {
   "cell_type": "code",
   "execution_count": 42,
   "id": "4aff661b-a01a-47c0-96af-37ac223e963a",
   "metadata": {
    "tags": []
   },
   "outputs": [
    {
     "data": {
      "text/plain": [
       "6"
      ]
     },
     "execution_count": 42,
     "metadata": {},
     "output_type": "execute_result"
    }
   ],
   "source": [
    "n_clock_cycles"
   ]
  },
  {
   "cell_type": "code",
   "execution_count": 48,
   "id": "c8315cbe-ad6e-49bc-9202-5d5456200b17",
   "metadata": {
    "tags": []
   },
   "outputs": [
    {
     "name": "stdout",
     "output_type": "stream",
     "text": [
      "[(0, 0)]\n",
      "[(1, 0), (0, 1)]\n",
      "[(2, 0), (1, 1), (0, 2)]\n",
      "[(3, 0), (2, 1), (1, 2)]\n",
      "[(3, 1), (2, 2)]\n",
      "[(3, 2)]\n"
     ]
    }
   ],
   "source": [
    "for clock_idx in range(n_clock_cycles):\n",
    "    start_partrition = max(clock_idx+1-n_microbatches, 0)\n",
    "    end_partrition = min(clock_idx+1, n_partritions)\n",
    "    \n",
    "    # print(start_partrition, end_partrition)\n",
    "    \n",
    "    tasks = []\n",
    "    for partrition_idx in range(start_partrition, end_partrition):\n",
    "        microbatch_idx = clock_idx - partrition_idx\n",
    "        tasks.append((microbatch_idx, partrition_idx))\n",
    "    \n",
    "    print(tasks)"
   ]
  },
  {
   "cell_type": "code",
   "execution_count": 39,
   "id": "9b4de39f-abca-4363-ab67-958b2cb25d81",
   "metadata": {
    "tags": []
   },
   "outputs": [
    {
     "data": {
      "text/plain": [
       "[(5, 0), (4, 1), (3, 2), (2, 3), (1, 4), (0, 5)]"
      ]
     },
     "execution_count": 39,
     "metadata": {},
     "output_type": "execute_result"
    }
   ],
   "source": [
    "tasks"
   ]
  },
  {
   "cell_type": "code",
   "execution_count": null,
   "id": "7b324cfc-7129-44cb-be4f-71fa83477506",
   "metadata": {},
   "outputs": [],
   "source": [
    "population, conditioned, motor"
   ]
  }
 ],
 "metadata": {
  "kernelspec": {
   "display_name": "Python 3 (ipykernel)",
   "language": "python",
   "name": "python3"
  },
  "language_info": {
   "codemirror_mode": {
    "name": "ipython",
    "version": 3
   },
   "file_extension": ".py",
   "mimetype": "text/x-python",
   "name": "python",
   "nbconvert_exporter": "python",
   "pygments_lexer": "ipython3",
   "version": "3.8.16"
  }
 },
 "nbformat": 4,
 "nbformat_minor": 5
}
