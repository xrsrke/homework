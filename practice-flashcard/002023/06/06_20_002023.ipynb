{
 "cells": [
  {
   "cell_type": "markdown",
   "id": "0ec3cbe2-45ad-4939-b113-71f9c58e612c",
   "metadata": {},
   "source": [
    "### Engineering"
   ]
  },
  {
   "cell_type": "code",
   "execution_count": null,
   "id": "8e49b066-e39c-4b3a-91f6-0a2a106c67f5",
   "metadata": {},
   "outputs": [],
   "source": [
    "#include <iostream>"
   ]
  },
  {
   "cell_type": "code",
   "execution_count": null,
   "id": "23daaaec-6900-4356-ad50-aa61feacf286",
   "metadata": {},
   "outputs": [],
   "source": [
    "class Book() {\n",
    "    public:\n",
    "        std::string title;\n",
    "}"
   ]
  },
  {
   "cell_type": "code",
   "execution_count": null,
   "id": "1beecab6-3a75-4ea9-8186-bdc4cfb2ce7d",
   "metadata": {},
   "outputs": [],
   "source": [
    "int main() {\n",
    "    int i = 0;\n",
    "    \n",
    "    while (i <= 5) {\n",
    "        std::cout << i;\n",
    "        i++;\n",
    "    }\n",
    "    \n",
    "    return 0;\n",
    "}"
   ]
  },
  {
   "cell_type": "code",
   "execution_count": null,
   "id": "89a1dd3a-41d0-41b5-a0f7-4d2cf82ac2c0",
   "metadata": {},
   "outputs": [],
   "source": [
    "using namespace std;"
   ]
  },
  {
   "cell_type": "code",
   "execution_count": null,
   "id": "c210d98f-9b65-4ad6-9b4b-f8baca2e9cc3",
   "metadata": {},
   "outputs": [],
   "source": [
    "string numberToColor(int number) {\n",
    "    string color;\n",
    "    \n",
    "    switch(number) {\n",
    "        case 1:\n",
    "            color = \"red\";\n",
    "            break;\n",
    "        case 2:\n",
    "            color = \"blue\";\n",
    "            break;\n",
    "    }\n",
    "    \n",
    "    return color;\n",
    "}"
   ]
  },
  {
   "cell_type": "code",
   "execution_count": null,
   "id": "cff15e64-6d10-4c06-8692-d29f77d912a6",
   "metadata": {},
   "outputs": [],
   "source": [
    "step 1: partrition\n",
    "step 2: to rank\n",
    "step 3: init local\n",
    "step 4: sync optimizer's related variables\n",
    "step 5: move to buckets"
   ]
  },
  {
   "cell_type": "code",
   "execution_count": 2,
   "id": "46fe43e5-d501-45de-a740-ac3db13fd773",
   "metadata": {
    "tags": []
   },
   "outputs": [],
   "source": [
    "import torch\n",
    "from torch import nn\n",
    "import torch.nn.functional as F"
   ]
  },
  {
   "cell_type": "code",
   "execution_count": null,
   "id": "4654f718-f776-4782-8a5a-977d8c88a9ab",
   "metadata": {},
   "outputs": [],
   "source": [
    "start = torch.cuda.Event(enable_timing=True)\n",
    "end = torch.cuda.Event(enable_timing=True)"
   ]
  },
  {
   "cell_type": "code",
   "execution_count": null,
   "id": "95a7b66d-19c5-40c1-b505-b9b361874cc6",
   "metadata": {},
   "outputs": [],
   "source": [
    "start.record()\n",
    "hardsit()\n",
    "end.record()"
   ]
  },
  {
   "cell_type": "code",
   "execution_count": null,
   "id": "7b88ba53-d9b8-44f9-a630-8bb6a9ea9739",
   "metadata": {},
   "outputs": [],
   "source": [
    "elapsed_time_ms = start.elapsed_time(end)"
   ]
  },
  {
   "cell_type": "code",
   "execution_count": null,
   "id": "412bc3c8-daa2-42eb-928b-cf559b547241",
   "metadata": {},
   "outputs": [],
   "source": [
    "main thread > worker thread > task > cuda stream"
   ]
  },
  {
   "cell_type": "code",
   "execution_count": null,
   "id": "d8a9473a-fd23-470d-b2b3-3670e169e5cc",
   "metadata": {},
   "outputs": [],
   "source": [
    "class Book() {\n",
    "    string title;\n",
    "    \n",
    "    public:\n",
    "        Book(aTitle) {\n",
    "            title = aTitle;\n",
    "        }\n",
    "}"
   ]
  },
  {
   "cell_type": "code",
   "execution_count": 3,
   "id": "83b605b5-7019-470a-8bd0-fb33a4d42ab1",
   "metadata": {
    "tags": []
   },
   "outputs": [],
   "source": [
    "tensor_model_parallel_size = 2"
   ]
  },
  {
   "cell_type": "code",
   "execution_count": 4,
   "id": "fa7ee0da-f98e-4b0e-b3ec-9ccf1e83cf0a",
   "metadata": {
    "tags": []
   },
   "outputs": [],
   "source": [
    "num_tensor_model_parallel_groups = 8"
   ]
  },
  {
   "cell_type": "code",
   "execution_count": 5,
   "id": "51dec869-4d8b-4a7b-b9f8-cd61226ec3c0",
   "metadata": {
    "tags": []
   },
   "outputs": [],
   "source": [
    "link_ranks = []"
   ]
  },
  {
   "cell_type": "code",
   "execution_count": 6,
   "id": "043eb2f3-3ec4-4d62-8baf-c7c61977785d",
   "metadata": {
    "tags": []
   },
   "outputs": [
    {
     "name": "stdout",
     "output_type": "stream",
     "text": [
      "range(0, 2)\n",
      "range(2, 4)\n",
      "range(4, 6)\n",
      "range(6, 8)\n",
      "range(8, 10)\n",
      "range(10, 12)\n",
      "range(12, 14)\n",
      "range(14, 16)\n"
     ]
    }
   ],
   "source": [
    "for i in range(num_tensor_model_parallel_groups):\n",
    "    ranks = range(\n",
    "        i*tensor_model_parallel_size,\n",
    "        (i+1)*tensor_model_parallel_size\n",
    "    )\n",
    "    \n",
    "    print(ranks)"
   ]
  },
  {
   "cell_type": "code",
   "execution_count": 7,
   "id": "cf8d230f-01f1-4fd1-a954-bcd0f812b962",
   "metadata": {
    "tags": []
   },
   "outputs": [],
   "source": [
    "world_size = 16\n",
    "tensor_model_parallel_size = 2\n",
    "pipeline_model_paralell_size = 4"
   ]
  },
  {
   "cell_type": "code",
   "execution_count": 8,
   "id": "741a6ed5-f412-48e7-adf1-1e278e95c3bb",
   "metadata": {
    "tags": []
   },
   "outputs": [],
   "source": [
    "num_pipeline_model_parallel_groups = world_size // pipeline_model_paralell_size"
   ]
  },
  {
   "cell_type": "code",
   "execution_count": 9,
   "id": "e5087679-948c-4add-acd7-1579fa02a34b",
   "metadata": {
    "tags": []
   },
   "outputs": [
    {
     "data": {
      "text/plain": [
       "4"
      ]
     },
     "execution_count": 9,
     "metadata": {},
     "output_type": "execute_result"
    }
   ],
   "source": [
    "num_pipeline_model_parallel_groups"
   ]
  },
  {
   "cell_type": "code",
   "execution_count": 10,
   "id": "e2ce70ae-a89b-4c9f-a70d-a5c199005567",
   "metadata": {
    "tags": []
   },
   "outputs": [],
   "source": [
    "data_parallel_groups = []"
   ]
  },
  {
   "cell_type": "code",
   "execution_count": 11,
   "id": "1f812cbd-f674-40fb-a3c5-1cbf5b9c15e1",
   "metadata": {
    "tags": []
   },
   "outputs": [
    {
     "name": "stdout",
     "output_type": "stream",
     "text": [
      "[0, 2]\n",
      "[1, 3]\n",
      "[4, 6]\n",
      "[5, 7]\n",
      "[8, 10]\n",
      "[9, 11]\n",
      "[12, 14]\n",
      "[13, 15]\n"
     ]
    }
   ],
   "source": [
    "for i in range(pipeline_model_paralell_size):\n",
    "    start_rank = i*num_pipeline_model_parallel_groups\n",
    "    end_rank = (i+1)*num_pipeline_model_parallel_groups\n",
    "    \n",
    "    for j in range(tensor_model_parallel_size):\n",
    "        ranks = list(range(\n",
    "            start_rank+j,\n",
    "            end_rank,\n",
    "            tensor_model_parallel_size\n",
    "        ))\n",
    "        \n",
    "        print(ranks)"
   ]
  },
  {
   "cell_type": "code",
   "execution_count": null,
   "id": "a10300ae-7bf9-4076-91ad-79c06eec29f2",
   "metadata": {},
   "outputs": [],
   "source": [
    "tenso"
   ]
  },
  {
   "cell_type": "code",
   "execution_count": null,
   "id": "1a1d3b19-8b01-48bd-937b-c5c25b6ec9b7",
   "metadata": {},
   "outputs": [],
   "source": [
    "clock cycle 1: backward(m, n)\n",
    "clock cycle 2: backward(m, n-1), backward(m-1, n)\n",
    "clock cycle 3: backward(m, n-2), backward(m-1, n-1), backward(m-2, n)"
   ]
  },
  {
   "cell_type": "markdown",
   "id": "68c96633-e809-42dd-9681-e58989d866bc",
   "metadata": {},
   "source": [
    "### AI"
   ]
  },
  {
   "cell_type": "code",
   "execution_count": 13,
   "id": "b8390337-2cce-4e96-a92c-3e442b8ca0fc",
   "metadata": {
    "tags": []
   },
   "outputs": [],
   "source": [
    "from torch.profiler import profile, ProfilerActivity"
   ]
  },
  {
   "cell_type": "code",
   "execution_count": null,
   "id": "55b30248-9cb5-4b91-95b8-48fdff282fc7",
   "metadata": {},
   "outputs": [],
   "source": [
    "@app.get(\"/tasks\", respo)\n",
    "def get_tasks(id):\n",
    "    if id == 0:\n",
    "        pass"
   ]
  },
  {
   "cell_type": "code",
   "execution_count": 14,
   "id": "6194ac86-7216-4469-83a0-698319e5790b",
   "metadata": {
    "tags": []
   },
   "outputs": [],
   "source": [
    "from torch.profiler import profile, ProfilerActivity"
   ]
  },
  {
   "cell_type": "code",
   "execution_count": null,
   "id": "b7c2e51d-30f6-4683-85f6-f0230af2d61c",
   "metadata": {},
   "outputs": [],
   "source": [
    "with profile(\n",
    "    activities=[ProfilerActivity.CPU],\n",
    "    schedule=profile.schedule(**scheduler_params)\n",
    ") as prof:\n",
    "    for idx in range(8):\n",
    "        model(inputs)\n",
    "        prof.step()"
   ]
  },
  {
   "cell_type": "code",
   "execution_count": 15,
   "id": "e173c157-2cc0-4c66-84b6-3e408bb60901",
   "metadata": {
    "tags": []
   },
   "outputs": [],
   "source": [
    "tensor_model_parallel_size = 2\n",
    "pipeline_model_parallel_size = 4"
   ]
  },
  {
   "cell_type": "code",
   "execution_count": 16,
   "id": "590eded3-63cc-4d40-9215-ac674f3ef831",
   "metadata": {
    "tags": []
   },
   "outputs": [],
   "source": [
    "world_size = 16"
   ]
  },
  {
   "cell_type": "code",
   "execution_count": 17,
   "id": "721af562-fee1-40d1-9044-eb65e0a9a5cf",
   "metadata": {
    "tags": []
   },
   "outputs": [],
   "source": [
    "num_pipeline_model_parallel_groups = 4"
   ]
  },
  {
   "cell_type": "code",
   "execution_count": 18,
   "id": "3f3938b5-b6f2-4656-bd49-f0c644c6a31b",
   "metadata": {
    "tags": []
   },
   "outputs": [],
   "source": [
    "data_parallel_groups = []"
   ]
  },
  {
   "cell_type": "code",
   "execution_count": 19,
   "id": "69ad38e1-3674-4415-8f15-02ae538d6d97",
   "metadata": {
    "tags": []
   },
   "outputs": [
    {
     "name": "stdout",
     "output_type": "stream",
     "text": [
      "[0, 2]\n",
      "[1, 3]\n",
      "[4, 6]\n",
      "[5, 7]\n",
      "[8, 10]\n",
      "[9, 11]\n",
      "[12, 14]\n",
      "[13, 15]\n"
     ]
    }
   ],
   "source": [
    "for i in range(pipeline_model_paralell_size):\n",
    "    start_rank = i*pipeline_model_paralell_size\n",
    "    end_rank = (i+1)*pipeline_model_paralell_size\n",
    "    \n",
    "    for j in range(tensor_model_parallel_size):\n",
    "        ranks = list(range(\n",
    "            start_rank+j,\n",
    "            end_rank,\n",
    "            tensor_model_parallel_size\n",
    "        ))\n",
    "        \n",
    "        print(ranks)"
   ]
  },
  {
   "cell_type": "code",
   "execution_count": 26,
   "id": "5d598809-7494-4d21-ae6b-4d60399961e6",
   "metadata": {
    "tags": []
   },
   "outputs": [],
   "source": [
    "tensor_model_parallel_size = 2"
   ]
  },
  {
   "cell_type": "code",
   "execution_count": 27,
   "id": "086cb611-e535-4d18-bf8e-9254d6bfb2ad",
   "metadata": {
    "tags": []
   },
   "outputs": [],
   "source": [
    "num_tensor_model_parallel_groups = 8"
   ]
  },
  {
   "cell_type": "code",
   "execution_count": 29,
   "id": "3aa2bfd1-fdae-4636-9119-994f1d500f2e",
   "metadata": {
    "tags": []
   },
   "outputs": [
    {
     "name": "stdout",
     "output_type": "stream",
     "text": [
      "[0, 1]\n",
      "[2, 3]\n",
      "[4, 5]\n",
      "[6, 7]\n",
      "[8, 9]\n",
      "[10, 11]\n",
      "[12, 13]\n",
      "[14, 15]\n"
     ]
    }
   ],
   "source": [
    "for i in range(num_tensor_model_parallel_groups):\n",
    "    ranks = list(range(\n",
    "        i*tensor_model_parallel_size,\n",
    "        (i+1)*tensor_model_parallel_size,\n",
    "        # tensor_model_parallel_size\n",
    "    ))\n",
    "    \n",
    "    print(ranks)"
   ]
  },
  {
   "cell_type": "code",
   "execution_count": null,
   "id": "f5870f5b-dcdc-4069-a3ec-101ad0fe26d9",
   "metadata": {},
   "outputs": [],
   "source": [
    "n_features = interference.shape[-1]"
   ]
  },
  {
   "cell_type": "code",
   "execution_count": null,
   "id": "7e3fe5ee-b555-441c-9611-0a697422103a",
   "metadata": {},
   "outputs": [],
   "source": [
    "interference[torch.arange(n_features), torch.arange(n_features)] = 0."
   ]
  },
  {
   "cell_type": "code",
   "execution_count": null,
   "id": "82ebbdcf-7cf9-49e3-aab0-14ecc8f6ed7c",
   "metadata": {},
   "outputs": [],
   "source": [
    "polysemanticity = interference.pow(2).sqrt().sum(dim=-1)"
   ]
  },
  {
   "cell_type": "code",
   "execution_count": 30,
   "id": "c71c663e-6e07-47da-9e04-5dcf0fb072a5",
   "metadata": {
    "tags": []
   },
   "outputs": [],
   "source": [
    "class PositionalEncoding(nn.Module):\n",
    "    def __init__(self, n, d_model):\n",
    "        super().__init__()\n",
    "        self.n, self.d_model = n, d_model\n",
    "    \n",
    "    def forward(self, tokens):\n",
    "        seq_len = len(tokens)\n",
    "        embeddings = torch.zeros(\n",
    "            seq_len,\n",
    "            self.d_model\n",
    "        )\n",
    "        \n",
    "        for p in range(seq_len):\n",
    "            for i in range(self.d_model):\n",
    "                denominator = torch.pow(n, 2*i/self.d_model)\n",
    "                embeddings[p][i] = torch.cos(p/denominator) if i%2==0 else torch.sin(p/denominator)\n",
    "        \n",
    "        return embeddings"
   ]
  },
  {
   "cell_type": "code",
   "execution_count": 31,
   "id": "47d1897d-6c9d-4a49-81f4-299bab141dc5",
   "metadata": {
    "tags": []
   },
   "outputs": [],
   "source": [
    "def your_mom(layer, inp, out):\n",
    "    add_log(layer, out)"
   ]
  },
  {
   "cell_type": "code",
   "execution_count": 32,
   "id": "a2fe9c8a-2382-45b8-8fc3-595e67cdb269",
   "metadata": {
    "tags": []
   },
   "outputs": [],
   "source": [
    "def add_hook(model):\n",
    "    for layer in model:\n",
    "        layer.register_forward_hook(your_mom)"
   ]
  },
  {
   "cell_type": "code",
   "execution_count": 33,
   "id": "d11a76c7-55bf-4219-b76b-6771b3d2b774",
   "metadata": {
    "tags": []
   },
   "outputs": [],
   "source": [
    "def clip(ratio, epsilon):\n",
    "    return torch.clamp(ratio, max=1+epsilon, min=1-epsilon)"
   ]
  },
  {
   "cell_type": "code",
   "execution_count": null,
   "id": "ec6b8783-21e8-4984-aa16-0a27e154bb27",
   "metadata": {},
   "outputs": [],
   "source": []
  }
 ],
 "metadata": {
  "kernelspec": {
   "display_name": "Python 3 (ipykernel)",
   "language": "python",
   "name": "python3"
  },
  "language_info": {
   "codemirror_mode": {
    "name": "ipython",
    "version": 3
   },
   "file_extension": ".py",
   "mimetype": "text/x-python",
   "name": "python",
   "nbconvert_exporter": "python",
   "pygments_lexer": "ipython3",
   "version": "3.8.16"
  }
 },
 "nbformat": 4,
 "nbformat_minor": 5
}
