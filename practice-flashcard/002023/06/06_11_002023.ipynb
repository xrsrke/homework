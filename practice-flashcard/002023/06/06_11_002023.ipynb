{
 "cells": [
  {
   "cell_type": "markdown",
   "id": "a76969e6-b69d-4d20-8397-8e2720afa680",
   "metadata": {},
   "source": [
    "### ML Engineering"
   ]
  },
  {
   "cell_type": "code",
   "execution_count": 1,
   "id": "8b63c255-8074-42aa-84c5-44912c7a6f6e",
   "metadata": {
    "tags": []
   },
   "outputs": [],
   "source": [
    "from pymongo import MongoClient"
   ]
  },
  {
   "cell_type": "code",
   "execution_count": null,
   "id": "07f01c9a-ffb6-415d-b1fb-7bc962b12ec1",
   "metadata": {},
   "outputs": [],
   "source": [
    "client = MongoClient(URL)"
   ]
  },
  {
   "cell_type": "code",
   "execution_count": null,
   "id": "f3490edc-219f-496e-9b82-4f1f07c0f473",
   "metadata": {},
   "outputs": [],
   "source": [
    "df.expect_table_columns_to_match_ordered_list(ordered_columns)"
   ]
  },
  {
   "cell_type": "code",
   "execution_count": 2,
   "id": "6e8732ae-960f-486a-a25e-9ccd2af6744a",
   "metadata": {
    "tags": []
   },
   "outputs": [],
   "source": [
    "import great_expectations as ge"
   ]
  },
  {
   "cell_type": "code",
   "execution_count": null,
   "id": "239ac344-b9da-4aae-916e-31851641c677",
   "metadata": {},
   "outputs": [],
   "source": [
    "df = ge.dataset.PandasDataset(data)"
   ]
  },
  {
   "cell_type": "code",
   "execution_count": null,
   "id": "fb12dd55-63e2-4ac1-bba2-5ea89a9a11c5",
   "metadata": {},
   "outputs": [],
   "source": [
    "session.query(users).all()"
   ]
  },
  {
   "cell_type": "code",
   "execution_count": 4,
   "id": "aa758dfc-732e-4ec9-8302-13825314995a",
   "metadata": {
    "tags": []
   },
   "outputs": [],
   "source": [
    "from airflow.decorators import dag, task"
   ]
  },
  {
   "cell_type": "code",
   "execution_count": null,
   "id": "754b86e5-d813-4e8b-95a2-22e73a9f7e60",
   "metadata": {},
   "outputs": [],
   "source": [
    "@dag(dag_id=dag_id, start_date=start_date)\n",
    "def example():\n",
    "    @task\n",
    "    def get_name(): pass\n",
    "\n",
    "    @task\n",
    "    def get_age(): pass\n",
    "\n",
    "    @task\n",
    "    def greet(name, age): pass\n",
    "\n",
    "    name = get_name()\n",
    "    age = get_age()\n",
    "    greet = greet(name, age)"
   ]
  },
  {
   "cell_type": "markdown",
   "id": "2169c69f-947e-4375-9018-676acfd5cb82",
   "metadata": {},
   "source": [
    "### Engineering"
   ]
  },
  {
   "cell_type": "code",
   "execution_count": null,
   "id": "1a721255-fb53-4a82-b1c4-8039d91630f1",
   "metadata": {},
   "outputs": [],
   "source": [
    "API server, scheduler, ectd, control manager"
   ]
  },
  {
   "cell_type": "code",
   "execution_count": null,
   "id": "ecce65f5-09ab-4196-80d5-5d7e1ea44345",
   "metadata": {},
   "outputs": [],
   "source": [
    "API server\n",
    "service\n",
    "configmap"
   ]
  },
  {
   "cell_type": "code",
   "execution_count": null,
   "id": "936bac9b-cc02-4ac4-9a51-60b5bbfad3c0",
   "metadata": {},
   "outputs": [],
   "source": [
    "int getMax(int x1, int x2) {\n",
    "    int result;\n",
    "    \n",
    "    if (x1 > x2) {\n",
    "        result = x1;\n",
    "    } else {\n",
    "        result = x2;\n",
    "    }\n",
    "    \n",
    "    return result;\n",
    "}"
   ]
  },
  {
   "cell_type": "code",
   "execution_count": null,
   "id": "efad4fb3-00b4-4f35-b8e8-ad829363cd5d",
   "metadata": {},
   "outputs": [],
   "source": [
    "#include <iostream>"
   ]
  },
  {
   "cell_type": "code",
   "execution_count": null,
   "id": "e015187c-0d6e-4d8c-ac58-3aaed0112e4f",
   "metadata": {},
   "outputs": [],
   "source": [
    "int main() {\n",
    "    std::cout << \"hello\" << std::endl;\n",
    "    std::cout << \"world\";\n",
    "    return 0; \n",
    "}"
   ]
  },
  {
   "cell_type": "code",
   "execution_count": null,
   "id": "9cf2e424-4f2d-48f0-b20b-8a673736fa86",
   "metadata": {},
   "outputs": [],
   "source": [
    "using namespace std;"
   ]
  },
  {
   "cell_type": "code",
   "execution_count": null,
   "id": "c5d1200b-6a57-422e-8fe1-53df2b18687c",
   "metadata": {},
   "outputs": [],
   "source": [
    "int main() {\n",
    "    cout << \"hello\";\n",
    "    return 0;\n",
    "}"
   ]
  },
  {
   "cell_type": "code",
   "execution_count": null,
   "id": "d3b19334-d348-4155-b5fb-5e2654d8b99a",
   "metadata": {},
   "outputs": [],
   "source": [
    "int plus_one(int number) {\n",
    "    return number + 1;\n",
    "}"
   ]
  },
  {
   "cell_type": "code",
   "execution_count": null,
   "id": "5dc1fd51-4c3f-43a0-84dc-02412297bf26",
   "metadata": {},
   "outputs": [],
   "source": [
    "class Number() {\n",
    "    public:\n",
    "        int value;\n",
    "    \n",
    "        int isLargerThanZero() {\n",
    "            if (value > 0) {\n",
    "                return 1;\n",
    "            } else {\n",
    "                return 0;\n",
    "            }\n",
    "        }\n",
    "}"
   ]
  },
  {
   "cell_type": "code",
   "execution_count": null,
   "id": "6bb268be-369f-4301-a05a-9c67835906fe",
   "metadata": {},
   "outputs": [],
   "source": [
    "int main() {\n",
    "    int i = 0;\n",
    "    \n",
    "    while (i <= 5) {\n",
    "        std::cout << i;\n",
    "        i++;\n",
    "    }\n",
    "    return 0;\n",
    "}"
   ]
  },
  {
   "cell_type": "code",
   "execution_count": null,
   "id": "470aa8e9-cd20-4591-883f-4b66958a2c7f",
   "metadata": {},
   "outputs": [],
   "source": [
    "int main() {\n",
    "    int a = 1;\n",
    "    int* p = &a;\n",
    "    \n",
    "    std::cout << p;\n",
    "    \n",
    "    return 0;\n",
    "}"
   ]
  },
  {
   "cell_type": "code",
   "execution_count": null,
   "id": "982b59c2-e34d-45f1-9e63-2b86d50969c5",
   "metadata": {},
   "outputs": [],
   "source": [
    "int main() {\n",
    "    int numbers[] = {1, 2, 3, 4, 5};\n",
    "    \n",
    "    for (int i = 0; i < 3; i++) {\n",
    "        std::cout << numbers[i];\n",
    "    }\n",
    "    \n",
    "    return 0;\n",
    "}"
   ]
  },
  {
   "cell_type": "code",
   "execution_count": null,
   "id": "2f20cfee-1355-4db1-865b-748482be593c",
   "metadata": {},
   "outputs": [],
   "source": [
    "void say_name(std::string name) {\n",
    "    std::cout << name;\n",
    "}"
   ]
  },
  {
   "cell_type": "code",
   "execution_count": null,
   "id": "cd55c09b-5c5b-441a-8f6c-301ec597a669",
   "metadata": {},
   "outputs": [],
   "source": [
    "void say_hello() {\n",
    "    std::cout << \"hello\";\n",
    "}"
   ]
  },
  {
   "cell_type": "code",
   "execution_count": null,
   "id": "0a6724c7-f457-4e81-b61b-4f4d2f5959b6",
   "metadata": {},
   "outputs": [],
   "source": [
    "int main() {\n",
    "    for (int i = 1; i <= 5; i++) {\n",
    "        std::cout << i;\n",
    "    }\n",
    "    \n",
    "    return 0;\n",
    "}"
   ]
  },
  {
   "cell_type": "code",
   "execution_count": null,
   "id": "b742cb93-d078-4b3e-a84f-6649f61a5f4d",
   "metadata": {},
   "outputs": [],
   "source": [
    "class Monster() {\n",
    "    public:\n",
    "        Monster() {\n",
    "            std::cout << \"creating\";\n",
    "        }\n",
    "}"
   ]
  },
  {
   "cell_type": "raw",
   "id": "58675334-0b2d-4ec0-977b-a9b1ef79c487",
   "metadata": {},
   "source": [
    "register < sram < dram < hard drive < external hardrive"
   ]
  },
  {
   "cell_type": "code",
   "execution_count": null,
   "id": "16f30d49-a07c-4b49-9540-662bdb9c2930",
   "metadata": {},
   "outputs": [],
   "source": [
    "udp, "
   ]
  },
  {
   "cell_type": "code",
   "execution_count": null,
   "id": "d8716dd8-bbc6-4843-b737-380ba86f1dfc",
   "metadata": {},
   "outputs": [],
   "source": [
    "control manager, api server, scheduler, ectd"
   ]
  },
  {
   "cell_type": "code",
   "execution_count": null,
   "id": "8b465032-5db2-436c-b732-322f9b9c1523",
   "metadata": {},
   "outputs": [],
   "source": [
    "int main() {\n",
    "    int number;\n",
    "    \n",
    "    std::cout << \"enter a number\";\n",
    "    std::cin >> number;\n",
    "    std::cout << \"you entered: \" << number;\n",
    "    \n",
    "    return 0;\n",
    "}"
   ]
  },
  {
   "cell_type": "code",
   "execution_count": null,
   "id": "b9d20eee-86a6-45e2-acff-2eb596804406",
   "metadata": {},
   "outputs": [],
   "source": [
    "set env \n",
    "launch process\n",
    "set cuda device\n",
    "init process group"
   ]
  },
  {
   "cell_type": "code",
   "execution_count": 5,
   "id": "9798009b-8ed7-4888-b26d-20bb5e12e0fb",
   "metadata": {
    "tags": []
   },
   "outputs": [],
   "source": [
    "import torch\n",
    "from torch import nn\n",
    "import torch.nn.functional as F"
   ]
  },
  {
   "cell_type": "code",
   "execution_count": 7,
   "id": "ec9794b8-b12e-429a-bbd9-017190d1ec7b",
   "metadata": {
    "tags": []
   },
   "outputs": [],
   "source": [
    "def wait_stream(source_stream, target_stream):\n",
    "    if isinstance(target_stream, torch.cuda.Stream):\n",
    "        if isinstance(source_stream, torch.cuda.Stream):\n",
    "            # GPU waits for GPU\n",
    "            source_stream.wait_stream(target_stream)\n",
    "        else:\n",
    "            # CPU waits for GPU\n",
    "            target_stream.syncronous()"
   ]
  },
  {
   "cell_type": "code",
   "execution_count": 8,
   "id": "29f5ad14-0c1f-4105-8829-cf2dfc8ed2dd",
   "metadata": {
    "tags": []
   },
   "outputs": [],
   "source": [
    "class Wait(torch.autograd.Function):\n",
    "    @staticmethod\n",
    "    def forward(ctx, prev_stream, next_stream, input):\n",
    "        ctx.prev_stream = prev_stream\n",
    "        ctx.next_stream = next_stream\n",
    "        \n",
    "        wait_stream(\n",
    "            source_stream=next_stream,\n",
    "            target_stream=prev_stream\n",
    "        )\n",
    "        \n",
    "        return input\n",
    "    \n",
    "    @staticmethod\n",
    "    def backward(ctx, grad_input):\n",
    "        prev_stream = ctx.prev_stream\n",
    "        next_stream = ctx.next_stream\n",
    "        \n",
    "        wait_stream(\n",
    "            source_stream=prev_stream,\n",
    "            target_stream=next_stream\n",
    "        )\n",
    "        \n",
    "        grad_stream = (None, None)\n",
    "        return grad_stream + grad_input"
   ]
  },
  {
   "cell_type": "code",
   "execution_count": null,
   "id": "700f2edf-710a-4804-9afb-bbbd46bc1aa5",
   "metadata": {},
   "outputs": [],
   "source": [
    "int x{y};"
   ]
  },
  {
   "cell_type": "code",
   "execution_count": null,
   "id": "8f34c1e7-2323-4cb1-9da6-f0b9b6f63522",
   "metadata": {},
   "outputs": [],
   "source": [
    "int main() {\n",
    "    int numbers[] = {1, 2, 3, 4, 5};\n",
    "    \n",
    "    for (int i=1; i<=5; i++) {\n",
    "        std::cout << i;\n",
    "    }\n",
    "    return 0;\n",
    "}"
   ]
  },
  {
   "cell_type": "code",
   "execution_count": null,
   "id": "f8b59815-9698-4894-9c4f-a8e9a2972a1d",
   "metadata": {},
   "outputs": [],
   "source": [
    "int* p_number{};"
   ]
  },
  {
   "cell_type": "code",
   "execution_count": null,
   "id": "2de41950-94e3-4f7e-9a44-e6f9c0480175",
   "metadata": {},
   "outputs": [],
   "source": [
    "step 1: create varibles on CPUs\n",
    "step 2: determine the size\n",
    "step 3: create a chunk in memory\n",
    "step 4: move to gpu\n",
    "step 5: x\n",
    "step 6: lau"
   ]
  },
  {
   "cell_type": "code",
   "execution_count": null,
   "id": "d8f5ea0d-4736-437a-a815-33483de1cac3",
   "metadata": {},
   "outputs": [],
   "source": [
    "auto x;"
   ]
  },
  {
   "cell_type": "code",
   "execution_count": 10,
   "id": "d662a243-fbe0-4442-b68c-13353c7a3add",
   "metadata": {
    "tags": []
   },
   "outputs": [],
   "source": [
    "import torch\n",
    "from torch import nn\n",
    "import torch.nn.functional as F"
   ]
  },
  {
   "cell_type": "code",
   "execution_count": null,
   "id": "0f51c32d-b935-4be1-ba66-f017e8c6d668",
   "metadata": {},
   "outputs": [],
   "source": [
    "dist.init_process_group()"
   ]
  },
  {
   "cell_type": "code",
   "execution_count": null,
   "id": "7fc67a03-a351-4f90-bd0a-94d2c7adb27e",
   "metadata": {},
   "outputs": [],
   "source": [
    "int* p_x = &y;"
   ]
  },
  {
   "cell_type": "code",
   "execution_count": null,
   "id": "062e7771-ca25-4548-96b3-54bd33ffd1fb",
   "metadata": {},
   "outputs": [],
   "source": [
    "tokens = model.to_tokens(text)"
   ]
  },
  {
   "cell_type": "code",
   "execution_count": null,
   "id": "9ec5059e-8fd2-47f0-a0ae-80858db6c7ee",
   "metadata": {},
   "outputs": [],
   "source": [
    "logits = model(tokens)"
   ]
  },
  {
   "cell_type": "code",
   "execution_count": null,
   "id": "a07286c5-4262-4925-90fe-bc266fbef705",
   "metadata": {},
   "outputs": [],
   "source": [
    "last_token_logits = logits[0, -1, :]"
   ]
  },
  {
   "cell_type": "code",
   "execution_count": null,
   "id": "cfddd98c-6382-4ebb-98da-dc59c6dfde9b",
   "metadata": {},
   "outputs": [],
   "source": [
    "log_probs = F.log_probs(last_token_logits, dim=-1)"
   ]
  },
  {
   "cell_type": "code",
   "execution_count": 15,
   "id": "08d4febd-816e-4cd0-a688-6987acaeeca1",
   "metadata": {
    "tags": []
   },
   "outputs": [],
   "source": [
    "from einops import einsum"
   ]
  },
  {
   "cell_type": "code",
   "execution_count": null,
   "id": "afa9fcf9-ef02-4339-bb0c-ed1fc00dff32",
   "metadata": {},
   "outputs": [],
   "source": [
    "interference = einsum(\n",
    "    W, W,\n",
    "    \"b f1 d, b f2 d -> b f1 f2\"\n",
    ")"
   ]
  },
  {
   "cell_type": "code",
   "execution_count": null,
   "id": "dd9cbdce-8860-4822-8c8d-f2d8e5ed811e",
   "metadata": {},
   "outputs": [],
   "source": [
    "CPU -> CPU, CPU -> GPU, GPU -> CPU, GPU -> GPU"
   ]
  },
  {
   "cell_type": "code",
   "execution_count": null,
   "id": "07e8bc3c-fbb9-4eab-9c26-c5a273df43c8",
   "metadata": {},
   "outputs": [],
   "source": [
    "grid > thread block > thread"
   ]
  },
  {
   "cell_type": "code",
   "execution_count": null,
   "id": "e440974a-c961-4fcc-8ecc-1dfca25e6c30",
   "metadata": {},
   "outputs": [],
   "source": [
    "global memory > shared memory > register memory"
   ]
  },
  {
   "cell_type": "code",
   "execution_count": null,
   "id": "2856a65a-3f49-4788-8bba-389b087c5184",
   "metadata": {},
   "outputs": [],
   "source": [
    "tokens = model.to_tokens(text)"
   ]
  },
  {
   "cell_type": "code",
   "execution_count": null,
   "id": "39b3e746-bd16-4d84-87a8-36a2380eb059",
   "metadata": {},
   "outputs": [],
   "source": [
    "logits = model(tokens)"
   ]
  },
  {
   "cell_type": "code",
   "execution_count": null,
   "id": "7894c19b-32bb-4ad1-bac1-28b55b4adc20",
   "metadata": {},
   "outputs": [],
   "source": [
    "log_probs = F.log_softmax(logits, dim=-1)"
   ]
  },
  {
   "cell_type": "code",
   "execution_count": null,
   "id": "e77e33ae-0765-4e09-a137-1871bb97c8dc",
   "metadata": {},
   "outputs": [],
   "source": [
    "n_tokens = tokens.shape[-1]"
   ]
  },
  {
   "cell_type": "code",
   "execution_count": null,
   "id": "444e2276-3299-4cf9-a936-58c1a10aec09",
   "metadata": {},
   "outputs": [],
   "source": [
    "target_tokens = tokens[:, 1:]"
   ]
  },
  {
   "cell_type": "code",
   "execution_count": null,
   "id": "b18e78a3-9f75-4d47-8a7c-ab50c75f220e",
   "metadata": {},
   "outputs": [],
   "source": [
    "x == nullptr"
   ]
  },
  {
   "cell_type": "code",
   "execution_count": null,
   "id": "e67ec4b9-7b7a-4f7d-a5f2-e8894965c4d5",
   "metadata": {},
   "outputs": [],
   "source": [
    "step 1: memory CPU\n",
    "step 2: memory GPU\n",
    "step 3: move to GPU\n",
    "step 4: compute\n",
    "step 5: copy the results back to CPU\n",
    "step 6: memory dellocation"
   ]
  },
  {
   "cell_type": "code",
   "execution_count": null,
   "id": "7e5ebb5b-a879-4d0f-9e0a-5a209a2a72f4",
   "metadata": {},
   "outputs": [],
   "source": [
    "tokens = model.to_tokens(text)"
   ]
  },
  {
   "cell_type": "code",
   "execution_count": null,
   "id": "627a63a5-e63b-4bae-bf4f-10151f4693e7",
   "metadata": {},
   "outputs": [],
   "source": [
    "target_tokens = tokens[:, 1:]"
   ]
  },
  {
   "cell_type": "code",
   "execution_count": null,
   "id": "8c0a7830-d132-4d69-b86b-c002dba863b3",
   "metadata": {},
   "outputs": [],
   "source": [
    "logits = model(tokens)"
   ]
  },
  {
   "cell_type": "code",
   "execution_count": null,
   "id": "f648122e-f75d-422a-ba3d-f410404c4126",
   "metadata": {},
   "outputs": [],
   "source": [
    "log_probs = F.log_softmax(logits)"
   ]
  },
  {
   "cell_type": "code",
   "execution_count": null,
   "id": "047c438e-0a4e-4903-a3be-df05f9aff0a0",
   "metadata": {},
   "outputs": [],
   "source": [
    "predicted_log_probs = -log_probs.gather()"
   ]
  },
  {
   "cell_type": "code",
   "execution_count": null,
   "id": "c7172a70-c6db-4bed-8b8c-f6d1199aa71d",
   "metadata": {},
   "outputs": [],
   "source": [
    "retina > optic nerve > thalamus > visual cortex"
   ]
  },
  {
   "cell_type": "code",
   "execution_count": 20,
   "id": "1fb00cbf-c338-496d-8bf5-c768c55c5bdd",
   "metadata": {
    "tags": []
   },
   "outputs": [],
   "source": [
    "loss_func = nn.KLDivLoss()"
   ]
  },
  {
   "cell_type": "code",
   "execution_count": null,
   "id": "ec9f6654-d5fd-4a61-b40a-049015a2f5e1",
   "metadata": {},
   "outputs": [],
   "source": [
    "loss_func(\n",
    "    input=F.log_softmax(student_logits),\n",
    "    target=F.softmax(teacher_logits)\n",
    ")"
   ]
  },
  {
   "cell_type": "code",
   "execution_count": null,
   "id": "a2c63731-9e95-42fd-bd13-2201cead09e6",
   "metadata": {},
   "outputs": [],
   "source": [
    "def calculate_loss_of_soft_v(states, actions, action_probs):\n",
    "    entropy = -action_probs.log()\n",
    "    q_preds = q_network(states,a ctions)\n",
    "    v_targets = v_network(states)\n",
    "    \n",
    "    return 0.5*(v_targets-(q_preds+entropy).mean())"
   ]
  },
  {
   "cell_type": "code",
   "execution_count": 22,
   "id": "09b8b085-ade6-4e13-819a-391b86daacb4",
   "metadata": {
    "tags": []
   },
   "outputs": [],
   "source": [
    "import ray"
   ]
  },
  {
   "cell_type": "code",
   "execution_count": 25,
   "id": "03f62b52-4e59-438b-9f18-a8d7c0cebd91",
   "metadata": {
    "tags": []
   },
   "outputs": [
    {
     "ename": "ModuleNotFoundError",
     "evalue": "Either scikit-image or opencv is required",
     "output_type": "error",
     "traceback": [
      "\u001b[0;31m---------------------------------------------------------------------------\u001b[0m",
      "\u001b[0;31mModuleNotFoundError\u001b[0m                       Traceback (most recent call last)",
      "File \u001b[0;32m~/opt/anaconda3/envs/ml_engineering/lib/python3.8/site-packages/ray/rllib/utils/images.py:20\u001b[0m\n\u001b[1;32m     19\u001b[0m \u001b[38;5;28;01mtry\u001b[39;00m:\n\u001b[0;32m---> 20\u001b[0m     \u001b[38;5;28;01mfrom\u001b[39;00m \u001b[38;5;21;01mskimage\u001b[39;00m \u001b[38;5;28;01mimport\u001b[39;00m color, io, transform\n\u001b[1;32m     22\u001b[0m     logger\u001b[38;5;241m.\u001b[39mdebug(\u001b[38;5;124m\"\u001b[39m\u001b[38;5;124mCV2 not found for image processing, using Skimage.\u001b[39m\u001b[38;5;124m\"\u001b[39m)\n",
      "\u001b[0;31mModuleNotFoundError\u001b[0m: No module named 'skimage'",
      "\nDuring handling of the above exception, another exception occurred:\n",
      "\u001b[0;31mModuleNotFoundError\u001b[0m                       Traceback (most recent call last)",
      "Cell \u001b[0;32mIn[25], line 1\u001b[0m\n\u001b[0;32m----> 1\u001b[0m \u001b[38;5;28;01mfrom\u001b[39;00m \u001b[38;5;21;01mray\u001b[39;00m\u001b[38;5;21;01m.\u001b[39;00m\u001b[38;5;21;01mtrain\u001b[39;00m\u001b[38;5;21;01m.\u001b[39;00m\u001b[38;5;21;01mrl\u001b[39;00m\u001b[38;5;21;01m.\u001b[39;00m\u001b[38;5;21;01mrl_trainer\u001b[39;00m \u001b[38;5;28;01mimport\u001b[39;00m RLTrainer\n",
      "File \u001b[0;32m~/opt/anaconda3/envs/ml_engineering/lib/python3.8/site-packages/ray/train/rl/__init__.py:1\u001b[0m\n\u001b[0;32m----> 1\u001b[0m \u001b[38;5;28;01mfrom\u001b[39;00m \u001b[38;5;21;01mray\u001b[39;00m\u001b[38;5;21;01m.\u001b[39;00m\u001b[38;5;21;01mtrain\u001b[39;00m\u001b[38;5;21;01m.\u001b[39;00m\u001b[38;5;21;01mrl\u001b[39;00m\u001b[38;5;21;01m.\u001b[39;00m\u001b[38;5;21;01mrl_checkpoint\u001b[39;00m \u001b[38;5;28;01mimport\u001b[39;00m RLCheckpoint\n\u001b[1;32m      2\u001b[0m \u001b[38;5;28;01mfrom\u001b[39;00m \u001b[38;5;21;01mray\u001b[39;00m\u001b[38;5;21;01m.\u001b[39;00m\u001b[38;5;21;01mtrain\u001b[39;00m\u001b[38;5;21;01m.\u001b[39;00m\u001b[38;5;21;01mrl\u001b[39;00m\u001b[38;5;21;01m.\u001b[39;00m\u001b[38;5;21;01mrl_predictor\u001b[39;00m \u001b[38;5;28;01mimport\u001b[39;00m RLPredictor\n\u001b[1;32m      3\u001b[0m \u001b[38;5;28;01mfrom\u001b[39;00m \u001b[38;5;21;01mray\u001b[39;00m\u001b[38;5;21;01m.\u001b[39;00m\u001b[38;5;21;01mtrain\u001b[39;00m\u001b[38;5;21;01m.\u001b[39;00m\u001b[38;5;21;01mrl\u001b[39;00m\u001b[38;5;21;01m.\u001b[39;00m\u001b[38;5;21;01mrl_trainer\u001b[39;00m \u001b[38;5;28;01mimport\u001b[39;00m RLTrainer\n",
      "File \u001b[0;32m~/opt/anaconda3/envs/ml_engineering/lib/python3.8/site-packages/ray/train/rl/rl_checkpoint.py:7\u001b[0m\n\u001b[1;32m      5\u001b[0m \u001b[38;5;28;01mfrom\u001b[39;00m \u001b[38;5;21;01mray\u001b[39;00m\u001b[38;5;21;01m.\u001b[39;00m\u001b[38;5;21;01mair\u001b[39;00m\u001b[38;5;21;01m.\u001b[39;00m\u001b[38;5;21;01mcheckpoint\u001b[39;00m \u001b[38;5;28;01mimport\u001b[39;00m Checkpoint\n\u001b[1;32m      6\u001b[0m \u001b[38;5;28;01mimport\u001b[39;00m \u001b[38;5;21;01mray\u001b[39;00m\u001b[38;5;21;01m.\u001b[39;00m\u001b[38;5;21;01mcloudpickle\u001b[39;00m \u001b[38;5;28;01mas\u001b[39;00m \u001b[38;5;21;01mcpickle\u001b[39;00m\n\u001b[0;32m----> 7\u001b[0m \u001b[38;5;28;01mfrom\u001b[39;00m \u001b[38;5;21;01mray\u001b[39;00m\u001b[38;5;21;01m.\u001b[39;00m\u001b[38;5;21;01mrllib\u001b[39;00m\u001b[38;5;21;01m.\u001b[39;00m\u001b[38;5;21;01mpolicy\u001b[39;00m\u001b[38;5;21;01m.\u001b[39;00m\u001b[38;5;21;01mpolicy\u001b[39;00m \u001b[38;5;28;01mimport\u001b[39;00m Policy\n\u001b[1;32m      8\u001b[0m \u001b[38;5;28;01mfrom\u001b[39;00m \u001b[38;5;21;01mray\u001b[39;00m\u001b[38;5;21;01m.\u001b[39;00m\u001b[38;5;21;01mrllib\u001b[39;00m\u001b[38;5;21;01m.\u001b[39;00m\u001b[38;5;21;01mutils\u001b[39;00m\u001b[38;5;21;01m.\u001b[39;00m\u001b[38;5;21;01mcheckpoints\u001b[39;00m \u001b[38;5;28;01mimport\u001b[39;00m get_checkpoint_info\n\u001b[1;32m      9\u001b[0m \u001b[38;5;28;01mfrom\u001b[39;00m \u001b[38;5;21;01mray\u001b[39;00m\u001b[38;5;21;01m.\u001b[39;00m\u001b[38;5;21;01mrllib\u001b[39;00m\u001b[38;5;21;01m.\u001b[39;00m\u001b[38;5;21;01mutils\u001b[39;00m\u001b[38;5;21;01m.\u001b[39;00m\u001b[38;5;21;01mtyping\u001b[39;00m \u001b[38;5;28;01mimport\u001b[39;00m EnvType\n",
      "File \u001b[0;32m~/opt/anaconda3/envs/ml_engineering/lib/python3.8/site-packages/ray/rllib/__init__.py:7\u001b[0m\n\u001b[1;32m      3\u001b[0m \u001b[38;5;28;01mfrom\u001b[39;00m \u001b[38;5;21;01mray\u001b[39;00m\u001b[38;5;21;01m.\u001b[39;00m\u001b[38;5;21;01m_private\u001b[39;00m\u001b[38;5;21;01m.\u001b[39;00m\u001b[38;5;21;01musage\u001b[39;00m \u001b[38;5;28;01mimport\u001b[39;00m usage_lib\n\u001b[1;32m      5\u001b[0m \u001b[38;5;66;03m# Note: do not introduce unnecessary library dependencies here, e.g. gym.\u001b[39;00m\n\u001b[1;32m      6\u001b[0m \u001b[38;5;66;03m# This file is imported from the tune module in order to register RLlib agents.\u001b[39;00m\n\u001b[0;32m----> 7\u001b[0m \u001b[38;5;28;01mfrom\u001b[39;00m \u001b[38;5;21;01mray\u001b[39;00m\u001b[38;5;21;01m.\u001b[39;00m\u001b[38;5;21;01mrllib\u001b[39;00m\u001b[38;5;21;01m.\u001b[39;00m\u001b[38;5;21;01menv\u001b[39;00m\u001b[38;5;21;01m.\u001b[39;00m\u001b[38;5;21;01mbase_env\u001b[39;00m \u001b[38;5;28;01mimport\u001b[39;00m BaseEnv\n\u001b[1;32m      8\u001b[0m \u001b[38;5;28;01mfrom\u001b[39;00m \u001b[38;5;21;01mray\u001b[39;00m\u001b[38;5;21;01m.\u001b[39;00m\u001b[38;5;21;01mrllib\u001b[39;00m\u001b[38;5;21;01m.\u001b[39;00m\u001b[38;5;21;01menv\u001b[39;00m\u001b[38;5;21;01m.\u001b[39;00m\u001b[38;5;21;01mexternal_env\u001b[39;00m \u001b[38;5;28;01mimport\u001b[39;00m ExternalEnv\n\u001b[1;32m      9\u001b[0m \u001b[38;5;28;01mfrom\u001b[39;00m \u001b[38;5;21;01mray\u001b[39;00m\u001b[38;5;21;01m.\u001b[39;00m\u001b[38;5;21;01mrllib\u001b[39;00m\u001b[38;5;21;01m.\u001b[39;00m\u001b[38;5;21;01menv\u001b[39;00m\u001b[38;5;21;01m.\u001b[39;00m\u001b[38;5;21;01mmulti_agent_env\u001b[39;00m \u001b[38;5;28;01mimport\u001b[39;00m MultiAgentEnv\n",
      "File \u001b[0;32m~/opt/anaconda3/envs/ml_engineering/lib/python3.8/site-packages/ray/rllib/env/__init__.py:1\u001b[0m\n\u001b[0;32m----> 1\u001b[0m \u001b[38;5;28;01mfrom\u001b[39;00m \u001b[38;5;21;01mray\u001b[39;00m\u001b[38;5;21;01m.\u001b[39;00m\u001b[38;5;21;01mrllib\u001b[39;00m\u001b[38;5;21;01m.\u001b[39;00m\u001b[38;5;21;01menv\u001b[39;00m\u001b[38;5;21;01m.\u001b[39;00m\u001b[38;5;21;01mbase_env\u001b[39;00m \u001b[38;5;28;01mimport\u001b[39;00m BaseEnv\n\u001b[1;32m      2\u001b[0m \u001b[38;5;28;01mfrom\u001b[39;00m \u001b[38;5;21;01mray\u001b[39;00m\u001b[38;5;21;01m.\u001b[39;00m\u001b[38;5;21;01mrllib\u001b[39;00m\u001b[38;5;21;01m.\u001b[39;00m\u001b[38;5;21;01menv\u001b[39;00m\u001b[38;5;21;01m.\u001b[39;00m\u001b[38;5;21;01menv_context\u001b[39;00m \u001b[38;5;28;01mimport\u001b[39;00m EnvContext\n\u001b[1;32m      3\u001b[0m \u001b[38;5;28;01mfrom\u001b[39;00m \u001b[38;5;21;01mray\u001b[39;00m\u001b[38;5;21;01m.\u001b[39;00m\u001b[38;5;21;01mrllib\u001b[39;00m\u001b[38;5;21;01m.\u001b[39;00m\u001b[38;5;21;01menv\u001b[39;00m\u001b[38;5;21;01m.\u001b[39;00m\u001b[38;5;21;01mexternal_env\u001b[39;00m \u001b[38;5;28;01mimport\u001b[39;00m ExternalEnv\n",
      "File \u001b[0;32m~/opt/anaconda3/envs/ml_engineering/lib/python3.8/site-packages/ray/rllib/env/base_env.py:7\u001b[0m\n\u001b[1;32m      5\u001b[0m \u001b[38;5;28;01mimport\u001b[39;00m \u001b[38;5;21;01mray\u001b[39;00m\n\u001b[1;32m      6\u001b[0m \u001b[38;5;28;01mfrom\u001b[39;00m \u001b[38;5;21;01mray\u001b[39;00m\u001b[38;5;21;01m.\u001b[39;00m\u001b[38;5;21;01mrllib\u001b[39;00m\u001b[38;5;21;01m.\u001b[39;00m\u001b[38;5;21;01mutils\u001b[39;00m\u001b[38;5;21;01m.\u001b[39;00m\u001b[38;5;21;01mannotations\u001b[39;00m \u001b[38;5;28;01mimport\u001b[39;00m Deprecated, DeveloperAPI, PublicAPI\n\u001b[0;32m----> 7\u001b[0m \u001b[38;5;28;01mfrom\u001b[39;00m \u001b[38;5;21;01mray\u001b[39;00m\u001b[38;5;21;01m.\u001b[39;00m\u001b[38;5;21;01mrllib\u001b[39;00m\u001b[38;5;21;01m.\u001b[39;00m\u001b[38;5;21;01mutils\u001b[39;00m\u001b[38;5;21;01m.\u001b[39;00m\u001b[38;5;21;01mtyping\u001b[39;00m \u001b[38;5;28;01mimport\u001b[39;00m AgentID, EnvID, EnvType, MultiEnvDict\n\u001b[1;32m      9\u001b[0m \u001b[38;5;28;01mif\u001b[39;00m TYPE_CHECKING:\n\u001b[1;32m     10\u001b[0m     \u001b[38;5;28;01mfrom\u001b[39;00m \u001b[38;5;21;01mray\u001b[39;00m\u001b[38;5;21;01m.\u001b[39;00m\u001b[38;5;21;01mrllib\u001b[39;00m\u001b[38;5;21;01m.\u001b[39;00m\u001b[38;5;21;01mevaluation\u001b[39;00m\u001b[38;5;21;01m.\u001b[39;00m\u001b[38;5;21;01mrollout_worker\u001b[39;00m \u001b[38;5;28;01mimport\u001b[39;00m RolloutWorker\n",
      "File \u001b[0;32m~/opt/anaconda3/envs/ml_engineering/lib/python3.8/site-packages/ray/rllib/utils/__init__.py:34\u001b[0m\n\u001b[1;32m     26\u001b[0m \u001b[38;5;28;01mfrom\u001b[39;00m \u001b[38;5;21;01mray\u001b[39;00m\u001b[38;5;21;01m.\u001b[39;00m\u001b[38;5;21;01mrllib\u001b[39;00m\u001b[38;5;21;01m.\u001b[39;00m\u001b[38;5;21;01mutils\u001b[39;00m\u001b[38;5;21;01m.\u001b[39;00m\u001b[38;5;21;01mpre_checks\u001b[39;00m\u001b[38;5;21;01m.\u001b[39;00m\u001b[38;5;21;01menv\u001b[39;00m \u001b[38;5;28;01mimport\u001b[39;00m check_env\n\u001b[1;32m     27\u001b[0m \u001b[38;5;28;01mfrom\u001b[39;00m \u001b[38;5;21;01mray\u001b[39;00m\u001b[38;5;21;01m.\u001b[39;00m\u001b[38;5;21;01mrllib\u001b[39;00m\u001b[38;5;21;01m.\u001b[39;00m\u001b[38;5;21;01mutils\u001b[39;00m\u001b[38;5;21;01m.\u001b[39;00m\u001b[38;5;21;01mschedules\u001b[39;00m \u001b[38;5;28;01mimport\u001b[39;00m (\n\u001b[1;32m     28\u001b[0m     LinearSchedule,\n\u001b[1;32m     29\u001b[0m     PiecewiseSchedule,\n\u001b[0;32m   (...)\u001b[0m\n\u001b[1;32m     32\u001b[0m     ConstantSchedule,\n\u001b[1;32m     33\u001b[0m )\n\u001b[0;32m---> 34\u001b[0m \u001b[38;5;28;01mfrom\u001b[39;00m \u001b[38;5;21;01mray\u001b[39;00m\u001b[38;5;21;01m.\u001b[39;00m\u001b[38;5;21;01mrllib\u001b[39;00m\u001b[38;5;21;01m.\u001b[39;00m\u001b[38;5;21;01mutils\u001b[39;00m\u001b[38;5;21;01m.\u001b[39;00m\u001b[38;5;21;01mtest_utils\u001b[39;00m \u001b[38;5;28;01mimport\u001b[39;00m (\n\u001b[1;32m     35\u001b[0m     check,\n\u001b[1;32m     36\u001b[0m     check_compute_single_action,\n\u001b[1;32m     37\u001b[0m     check_train_results,\n\u001b[1;32m     38\u001b[0m     framework_iterator,\n\u001b[1;32m     39\u001b[0m )\n\u001b[1;32m     40\u001b[0m \u001b[38;5;28;01mfrom\u001b[39;00m \u001b[38;5;21;01mray\u001b[39;00m\u001b[38;5;21;01m.\u001b[39;00m\u001b[38;5;21;01mtune\u001b[39;00m\u001b[38;5;21;01m.\u001b[39;00m\u001b[38;5;21;01mutils\u001b[39;00m \u001b[38;5;28;01mimport\u001b[39;00m merge_dicts, deep_update\n\u001b[1;32m     43\u001b[0m \u001b[38;5;129m@DeveloperAPI\u001b[39m\n\u001b[1;32m     44\u001b[0m \u001b[38;5;28;01mdef\u001b[39;00m \u001b[38;5;21madd_mixins\u001b[39m(base, mixins, \u001b[38;5;28mreversed\u001b[39m\u001b[38;5;241m=\u001b[39m\u001b[38;5;28;01mFalse\u001b[39;00m):\n",
      "File \u001b[0;32m~/opt/anaconda3/envs/ml_engineering/lib/python3.8/site-packages/ray/rllib/utils/test_utils.py:30\u001b[0m\n\u001b[1;32m     28\u001b[0m \u001b[38;5;28;01mimport\u001b[39;00m \u001b[38;5;21;01mray\u001b[39;00m\n\u001b[1;32m     29\u001b[0m \u001b[38;5;28;01mfrom\u001b[39;00m \u001b[38;5;21;01mray\u001b[39;00m \u001b[38;5;28;01mimport\u001b[39;00m air, tune\n\u001b[0;32m---> 30\u001b[0m \u001b[38;5;28;01mfrom\u001b[39;00m \u001b[38;5;21;01mray\u001b[39;00m\u001b[38;5;21;01m.\u001b[39;00m\u001b[38;5;21;01mrllib\u001b[39;00m\u001b[38;5;21;01m.\u001b[39;00m\u001b[38;5;21;01menv\u001b[39;00m\u001b[38;5;21;01m.\u001b[39;00m\u001b[38;5;21;01mwrappers\u001b[39;00m\u001b[38;5;21;01m.\u001b[39;00m\u001b[38;5;21;01matari_wrappers\u001b[39;00m \u001b[38;5;28;01mimport\u001b[39;00m is_atari, wrap_deepmind\n\u001b[1;32m     31\u001b[0m \u001b[38;5;28;01mfrom\u001b[39;00m \u001b[38;5;21;01mray\u001b[39;00m\u001b[38;5;21;01m.\u001b[39;00m\u001b[38;5;21;01mrllib\u001b[39;00m\u001b[38;5;21;01m.\u001b[39;00m\u001b[38;5;21;01mutils\u001b[39;00m\u001b[38;5;21;01m.\u001b[39;00m\u001b[38;5;21;01mframework\u001b[39;00m \u001b[38;5;28;01mimport\u001b[39;00m try_import_jax, try_import_tf, try_import_torch\n\u001b[1;32m     32\u001b[0m \u001b[38;5;28;01mfrom\u001b[39;00m \u001b[38;5;21;01mray\u001b[39;00m\u001b[38;5;21;01m.\u001b[39;00m\u001b[38;5;21;01mrllib\u001b[39;00m\u001b[38;5;21;01m.\u001b[39;00m\u001b[38;5;21;01mutils\u001b[39;00m\u001b[38;5;21;01m.\u001b[39;00m\u001b[38;5;21;01mmetrics\u001b[39;00m \u001b[38;5;28;01mimport\u001b[39;00m (\n\u001b[1;32m     33\u001b[0m     DIFF_NUM_GRAD_UPDATES_VS_SAMPLER_POLICY,\n\u001b[1;32m     34\u001b[0m     NUM_ENV_STEPS_SAMPLED,\n\u001b[1;32m     35\u001b[0m     NUM_ENV_STEPS_TRAINED,\n\u001b[1;32m     36\u001b[0m )\n",
      "File \u001b[0;32m~/opt/anaconda3/envs/ml_engineering/lib/python3.8/site-packages/ray/rllib/env/wrappers/atari_wrappers.py:8\u001b[0m\n\u001b[1;32m      5\u001b[0m \u001b[38;5;28;01mfrom\u001b[39;00m \u001b[38;5;21;01mtyping\u001b[39;00m \u001b[38;5;28;01mimport\u001b[39;00m Union\n\u001b[1;32m      7\u001b[0m \u001b[38;5;28;01mfrom\u001b[39;00m \u001b[38;5;21;01mray\u001b[39;00m\u001b[38;5;21;01m.\u001b[39;00m\u001b[38;5;21;01mrllib\u001b[39;00m\u001b[38;5;21;01m.\u001b[39;00m\u001b[38;5;21;01mutils\u001b[39;00m\u001b[38;5;21;01m.\u001b[39;00m\u001b[38;5;21;01mannotations\u001b[39;00m \u001b[38;5;28;01mimport\u001b[39;00m Deprecated, PublicAPI\n\u001b[0;32m----> 8\u001b[0m \u001b[38;5;28;01mfrom\u001b[39;00m \u001b[38;5;21;01mray\u001b[39;00m\u001b[38;5;21;01m.\u001b[39;00m\u001b[38;5;21;01mrllib\u001b[39;00m\u001b[38;5;21;01m.\u001b[39;00m\u001b[38;5;21;01mutils\u001b[39;00m\u001b[38;5;21;01m.\u001b[39;00m\u001b[38;5;21;01mimages\u001b[39;00m \u001b[38;5;28;01mimport\u001b[39;00m rgb2gray, resize\n\u001b[1;32m     11\u001b[0m \u001b[38;5;129m@PublicAPI\u001b[39m\n\u001b[1;32m     12\u001b[0m \u001b[38;5;28;01mdef\u001b[39;00m \u001b[38;5;21mis_atari\u001b[39m(env: Union[gym\u001b[38;5;241m.\u001b[39mEnv, \u001b[38;5;28mstr\u001b[39m]) \u001b[38;5;241m-\u001b[39m\u001b[38;5;241m>\u001b[39m \u001b[38;5;28mbool\u001b[39m:\n\u001b[1;32m     13\u001b[0m \u001b[38;5;250m    \u001b[39m\u001b[38;5;124;03m\"\"\"Returns, whether a given env object or env descriptor (str) is an Atari env.\u001b[39;00m\n\u001b[1;32m     14\u001b[0m \n\u001b[1;32m     15\u001b[0m \u001b[38;5;124;03m    Args:\u001b[39;00m\n\u001b[0;32m   (...)\u001b[0m\n\u001b[1;32m     19\u001b[0m \u001b[38;5;124;03m        Whether `env` is an Atari environment.\u001b[39;00m\n\u001b[1;32m     20\u001b[0m \u001b[38;5;124;03m    \"\"\"\u001b[39;00m\n",
      "File \u001b[0;32m~/opt/anaconda3/envs/ml_engineering/lib/python3.8/site-packages/ray/rllib/utils/images.py:24\u001b[0m\n\u001b[1;32m     22\u001b[0m         logger\u001b[38;5;241m.\u001b[39mdebug(\u001b[38;5;124m\"\u001b[39m\u001b[38;5;124mCV2 not found for image processing, using Skimage.\u001b[39m\u001b[38;5;124m\"\u001b[39m)\n\u001b[1;32m     23\u001b[0m     \u001b[38;5;28;01mexcept\u001b[39;00m \u001b[38;5;167;01mImportError\u001b[39;00m:\n\u001b[0;32m---> 24\u001b[0m         \u001b[38;5;28;01mraise\u001b[39;00m \u001b[38;5;167;01mModuleNotFoundError\u001b[39;00m(\u001b[38;5;124m\"\u001b[39m\u001b[38;5;124mEither scikit-image or opencv is required\u001b[39m\u001b[38;5;124m\"\u001b[39m)\n\u001b[1;32m     27\u001b[0m \u001b[38;5;129m@DeveloperAPI\u001b[39m\n\u001b[1;32m     28\u001b[0m \u001b[38;5;28;01mdef\u001b[39;00m \u001b[38;5;21mresize\u001b[39m(img: np\u001b[38;5;241m.\u001b[39mndarray, height: \u001b[38;5;28mint\u001b[39m, width: \u001b[38;5;28mint\u001b[39m) \u001b[38;5;241m-\u001b[39m\u001b[38;5;241m>\u001b[39m np\u001b[38;5;241m.\u001b[39mndarray:\n\u001b[1;32m     29\u001b[0m     \u001b[38;5;28;01mif\u001b[39;00m cv2:\n",
      "\u001b[0;31mModuleNotFoundError\u001b[0m: Either scikit-image or opencv is required"
     ]
    }
   ],
   "source": [
    "from ray.train.rl.rl_trainer import RLTrainer"
   ]
  },
  {
   "cell_type": "code",
   "execution_count": null,
   "id": "f522ee3e-713e-4637-bcb6-5ef887f69d79",
   "metadata": {},
   "outputs": [],
   "source": [
    "fro"
   ]
  }
 ],
 "metadata": {
  "kernelspec": {
   "display_name": "Python 3 (ipykernel)",
   "language": "python",
   "name": "python3"
  },
  "language_info": {
   "codemirror_mode": {
    "name": "ipython",
    "version": 3
   },
   "file_extension": ".py",
   "mimetype": "text/x-python",
   "name": "python",
   "nbconvert_exporter": "python",
   "pygments_lexer": "ipython3",
   "version": "3.8.16"
  }
 },
 "nbformat": 4,
 "nbformat_minor": 5
}
