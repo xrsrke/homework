{
 "cells": [
  {
   "cell_type": "markdown",
   "id": "e126692a-348c-466b-804f-b32da7dc17a0",
   "metadata": {},
   "source": [
    "### ML Engineering"
   ]
  },
  {
   "cell_type": "code",
   "execution_count": 37,
   "id": "89db444b-b71b-4a73-8a33-0add394e863e",
   "metadata": {
    "tags": []
   },
   "outputs": [],
   "source": [
    "from metaflow import FlowSpec, step"
   ]
  },
  {
   "cell_type": "code",
   "execution_count": 38,
   "id": "3c7ee565-faa6-4041-afb9-7ed8a4301fae",
   "metadata": {},
   "outputs": [],
   "source": [
    "class Training(FlowSpec):\n",
    "    @step\n",
    "    def start(self):\n",
    "        self.next(self.train)\n",
    "    \n",
    "    @step\n",
    "    def train(self):\n",
    "        train()\n",
    "    \n",
    "    @step\n",
    "    def end(self): pass"
   ]
  },
  {
   "cell_type": "code",
   "execution_count": 39,
   "id": "7dba0a11-0b74-4217-8726-b58ff226f41e",
   "metadata": {
    "tags": []
   },
   "outputs": [],
   "source": [
    "import great_expectations as ge"
   ]
  },
  {
   "cell_type": "code",
   "execution_count": 40,
   "id": "5bfbc0fb-229e-489d-9365-f213890ed583",
   "metadata": {},
   "outputs": [],
   "source": [
    "df = ge.dataset.PandasDataset(data)"
   ]
  },
  {
   "cell_type": "code",
   "execution_count": null,
   "id": "3b9a136a-39a2-4e5e-8f6d-22e3a986e514",
   "metadata": {},
   "outputs": [],
   "source": [
    "result = df.expect_column_value_to_be_unique(\"id\")"
   ]
  },
  {
   "cell_type": "code",
   "execution_count": 4,
   "id": "5d1045c3-26d0-4f8f-9ae2-e561bdd26bd5",
   "metadata": {
    "tags": []
   },
   "outputs": [],
   "source": [
    "from prefect import flow"
   ]
  },
  {
   "cell_type": "code",
   "execution_count": null,
   "id": "1ea79ad3-2466-4408-9651-dee37e453c0e",
   "metadata": {},
   "outputs": [],
   "source": [
    "@flow(flow_id=\"my_flow\")\n",
    "def my_flow():\n",
    "    print_values(111)\n",
    "    print_values(222)"
   ]
  },
  {
   "cell_type": "code",
   "execution_count": null,
   "id": "0caaeb54-a2a8-4bb9-8c51-b8d1e1fcbd81",
   "metadata": {},
   "outputs": [],
   "source": [
    "step 1: data source\n",
    "step 2: suite\n",
    "step 3: add expectations to the suite\n",
    "step 4: create checkpoint"
   ]
  },
  {
   "cell_type": "code",
   "execution_count": 5,
   "id": "c26feb82-7c9e-46da-958a-5394365ce530",
   "metadata": {
    "tags": []
   },
   "outputs": [],
   "source": [
    "from metaflow import FlowSpec, step, batch"
   ]
  },
  {
   "cell_type": "code",
   "execution_count": null,
   "id": "9613a073-c37a-472c-89f8-1a0423cf2b34",
   "metadata": {},
   "outputs": [],
   "source": [
    "class Flow(FlowSpec):\n",
    "    @step\n",
    "    def start(self):\n",
    "        self.next(self.train)\n",
    "    \n",
    "    @batch(memory=\"10000\")\n",
    "    @step\n",
    "    def train(self):\n",
    "        train()\n",
    "        self.next(self.end)\n",
    "    \n",
    "    @step\n",
    "    def end(self): pass"
   ]
  },
  {
   "cell_type": "code",
   "execution_count": 8,
   "id": "722a6f67-5db1-45a4-8ca3-32c384f12f4f",
   "metadata": {
    "tags": []
   },
   "outputs": [],
   "source": [
    "from evidently.report import Report\n",
    "from evidently.metric_preset import DataDriftPreset"
   ]
  },
  {
   "cell_type": "code",
   "execution_count": 9,
   "id": "1bce4980-52b3-4000-b632-56b59105beb6",
   "metadata": {
    "tags": []
   },
   "outputs": [],
   "source": [
    "report = Report(metrics=[DataDriftPreset()])"
   ]
  },
  {
   "cell_type": "code",
   "execution_count": null,
   "id": "cd90ec42-24b8-41b7-b6b9-b711579844f5",
   "metadata": {},
   "outputs": [],
   "source": [
    "report.run(\n",
    "    reference_data=reference,\n",
    "    current_data=current\n",
    ")"
   ]
  },
  {
   "cell_type": "code",
   "execution_count": null,
   "id": "e59ef9d1-59da-4f53-bdd0-dc899778ecfc",
   "metadata": {},
   "outputs": [],
   "source": [
    "class TestFruit:\n",
    "    def setup_method(self):\n",
    "        self.fruit = Fruit(\"x\")\n",
    "    \n",
    "    def test_init(self):\n",
    "        assert self.fruit.name == \"x\"\n",
    "    \n",
    "    def teardown_method(self):\n",
    "        del self.fruit"
   ]
  },
  {
   "cell_type": "code",
   "execution_count": null,
   "id": "a3477262-13e7-4ab3-83d9-6268ddd2ccc1",
   "metadata": {},
   "outputs": [],
   "source": [
    "step 1: create a network\n",
    "step 2: attach the network\n",
    "step 3: receive IPs\n",
    "step 4: communicate through the IPsb"
   ]
  },
  {
   "cell_type": "code",
   "execution_count": null,
   "id": "22145268-fe27-42f3-9c10-fbd2903d421a",
   "metadata": {},
   "outputs": [],
   "source": [
    "def outer_func():\n",
    "    x = \"hello\"\n",
    "    \n",
    "    def inner_func():\n",
    "        nonlocal x\n",
    "        x = \"shivon\"\n",
    "    \n",
    "    inner_func()\n",
    "    print(x)"
   ]
  },
  {
   "cell_type": "markdown",
   "id": "accf0eec-d781-47d4-bf4d-c017a71474a6",
   "metadata": {},
   "source": [
    "### Engineering"
   ]
  },
  {
   "cell_type": "code",
   "execution_count": null,
   "id": "9f57fdf8-044c-4a30-bf52-62d647838acd",
   "metadata": {},
   "outputs": [],
   "source": [
    "node > pod > container"
   ]
  },
  {
   "cell_type": "code",
   "execution_count": null,
   "id": "504d65c3-7f51-4d3b-aa58-8f44521b51a5",
   "metadata": {},
   "outputs": [],
   "source": [
    "#include <iostream>"
   ]
  },
  {
   "cell_type": "code",
   "execution_count": null,
   "id": "029f8180-4275-4c00-94d3-b6514d498829",
   "metadata": {},
   "outputs": [],
   "source": [
    "int main() {\n",
    "    int numbers[] = {1, 2, 3, 4};\n",
    "    std::cout << numbers[0];\n",
    "    return 0;\n",
    "}"
   ]
  },
  {
   "cell_type": "code",
   "execution_count": null,
   "id": "13a84c99-2503-4b5c-b181-717dc995aaef",
   "metadata": {},
   "outputs": [],
   "source": [
    "class Book() {\n",
    "    std::string title;\n",
    "    public:\n",
    "        Book(std::string aTitle) {\n",
    "            title = aTitle;\n",
    "        }\n",
    "}"
   ]
  },
  {
   "cell_type": "code",
   "execution_count": null,
   "id": "dbf58d3e-681d-41e3-8641-ab4f4cb184d2",
   "metadata": {},
   "outputs": [],
   "source": [
    "int main() {\n",
    "    int tensors[3][2] = {\n",
    "        {1, 2},\n",
    "        {3, 4},\n",
    "        {4, 5}\n",
    "    };\n",
    "    return 0;\n",
    "}"
   ]
  },
  {
   "cell_type": "code",
   "execution_count": null,
   "id": "658c143c-7d6c-43c4-bda3-ca7e06291b9d",
   "metadata": {},
   "outputs": [],
   "source": [
    "class Book() {\n",
    "    std::string title;\n",
    "    std::string author;\n",
    "}"
   ]
  },
  {
   "cell_type": "code",
   "execution_count": null,
   "id": "216b45ad-357c-4e3f-835f-f8c3b8ea2ac9",
   "metadata": {},
   "outputs": [],
   "source": [
    "int main() {\n",
    "    int a = 69;\n",
    "    int* p = &a;\n",
    "    \n",
    "    return 0;\n",
    "}"
   ]
  },
  {
   "cell_type": "code",
   "execution_count": null,
   "id": "4b3d62c4-7b79-465d-9021-9ce1746bbf1c",
   "metadata": {},
   "outputs": [],
   "source": [
    "using namespace std;"
   ]
  },
  {
   "cell_type": "code",
   "execution_count": null,
   "id": "5ae63150-35d3-464f-b9ba-6e2ad67df20f",
   "metadata": {},
   "outputs": [],
   "source": [
    "string numberToColor(int number) {\n",
    "    string color;\n",
    "    \n",
    "    switch (number) {\n",
    "        case 1:\n",
    "            color = \"red\";\n",
    "            break;\n",
    "        case 2:\n",
    "            color = \"blue\";\n",
    "            break;\n",
    "    }\n",
    "    \n",
    "    return color;\n",
    "}"
   ]
  },
  {
   "cell_type": "code",
   "execution_count": null,
   "id": "e88560ac-1468-4243-a821-1f5135577e16",
   "metadata": {},
   "outputs": [],
   "source": [
    "step 1: partrition params\n",
    "step 1.1: \n",
    "step 2: init local\n",
    "step 3: sync optimizer-related variables\n",
    "step 4: move"
   ]
  },
  {
   "cell_type": "code",
   "execution_count": null,
   "id": "771c8f8a-e00b-4f63-83a3-77dc07ecddd0",
   "metadata": {},
   "outputs": [],
   "source": [
    "step 1: compute the activations of part 1\n",
    "step 2: compute the activations of part 2 using part 1\n",
    "step 3: delete the activations of part 1\n",
    "step 4: compute the gradient of part 2\n",
    "step 5: recompute the activations of part 1\n",
    "step 6: compute the grad"
   ]
  },
  {
   "cell_type": "code",
   "execution_count": null,
   "id": "0c3a2b5e-c1f0-4df6-b927-b431bac964ba",
   "metadata": {},
   "outputs": [],
   "source": [
    "step 1: allocate a chunk of memory\n",
    "step 2: part of the file is loaded into that allocated memory\n",
    "step 3: read and write data directly from this portion of m"
   ]
  },
  {
   "cell_type": "code",
   "execution_count": null,
   "id": "bf6435e5-26b4-4142-af03-001564dcf370",
   "metadata": {},
   "outputs": [],
   "source": [
    "step 1: split mini-batch into mirco-batches\n",
    "step 2: create a new cuda stream for each micro-batch in each device\n",
    "step 3: create pipeline and run\n",
    "step 4: gather micro-batches into a mini-batch"
   ]
  },
  {
   "cell_type": "code",
   "execution_count": 10,
   "id": "21c812fd-c553-466b-859e-de0da4262b61",
   "metadata": {
    "tags": []
   },
   "outputs": [],
   "source": [
    "world_size = 16"
   ]
  },
  {
   "cell_type": "code",
   "execution_count": 11,
   "id": "8539aa02-a48c-4580-b62b-3d5984c97051",
   "metadata": {
    "tags": []
   },
   "outputs": [],
   "source": [
    "tensor_model_parallel_size = 2"
   ]
  },
  {
   "cell_type": "code",
   "execution_count": 12,
   "id": "98c11ef8-2cec-4480-947f-37255975d24a",
   "metadata": {
    "tags": []
   },
   "outputs": [],
   "source": [
    "pipeline_model_parallel_size = 4"
   ]
  },
  {
   "cell_type": "code",
   "execution_count": 13,
   "id": "f0767693-d570-425a-bac9-40c7becfe83a",
   "metadata": {
    "tags": []
   },
   "outputs": [],
   "source": [
    "num_pipeline_model_parallel_groups = 4"
   ]
  },
  {
   "cell_type": "code",
   "execution_count": 16,
   "id": "14250d94-b9b5-4c7d-8263-b55fe088bea8",
   "metadata": {
    "tags": []
   },
   "outputs": [
    {
     "name": "stdout",
     "output_type": "stream",
     "text": [
      "[0, 2]\n",
      "[1, 3]\n",
      "[4, 6]\n",
      "[5, 7]\n",
      "[8, 10]\n",
      "[9, 11]\n",
      "[12, 14]\n",
      "[13, 15]\n"
     ]
    }
   ],
   "source": [
    "for i in range(pipeline_model_parallel_size):\n",
    "    start_rank = i*num_pipeline_model_parallel_groups\n",
    "    end_rank = (i+1)*num_pipeline_model_parallel_groups\n",
    "    \n",
    "    for j in range(tensor_model_parallel_size):\n",
    "        ranks = list(range(\n",
    "            start_rank+j,\n",
    "            end_rank,\n",
    "            tensor_model_parallel_size\n",
    "        ))\n",
    "        \n",
    "        print(ranks)"
   ]
  },
  {
   "cell_type": "code",
   "execution_count": null,
   "id": "2a110cd9-4c68-44da-b38f-c4290f710c75",
   "metadata": {},
   "outputs": [],
   "source": [
    "step 1: load the training data into memory\n",
    "step 2: idxs\n",
    "step 3: size of idxs\n",
    "step 4: create a chunk of memory\n",
    "step 4: load idxs into that chunk of memory"
   ]
  },
  {
   "cell_type": "code",
   "execution_count": null,
   "id": "c68c48ae-d88d-4d2b-b792-a0ddd962ce6b",
   "metadata": {},
   "outputs": [],
   "source": [
    "step 1: record the elapsed time for each layer\n",
    "step 2: determine the number of layers per partrition\n",
    "step 3: move the patrition to rank\n",
    "step 4: device"
   ]
  },
  {
   "cell_type": "code",
   "execution_count": null,
   "id": "ef485176-b393-45b4-88a7-4c6d64c590c7",
   "metadata": {},
   "outputs": [],
   "source": [
    "API server, scheduler, control manager, etcd"
   ]
  },
  {
   "cell_type": "code",
   "execution_count": null,
   "id": "433ea3b8-ba48-4031-9484-84f92cf957e9",
   "metadata": {},
   "outputs": [],
   "source": [
    "kubelet, kube-proxy, container runtime"
   ]
  },
  {
   "cell_type": "code",
   "execution_count": null,
   "id": "2b940cba-6311-45f7-ac1f-4e2e1145f000",
   "metadata": {},
   "outputs": [],
   "source": [
    "step 1: create a "
   ]
  },
  {
   "cell_type": "code",
   "execution_count": 17,
   "id": "f8f20993-d001-4247-9ee7-34e35ced12cf",
   "metadata": {
    "tags": []
   },
   "outputs": [],
   "source": [
    "world_size = 16"
   ]
  },
  {
   "cell_type": "code",
   "execution_count": 18,
   "id": "085f8777-4e0c-49ff-9fcc-dfba1665870a",
   "metadata": {
    "tags": []
   },
   "outputs": [],
   "source": [
    "tensor_model_parallel_size = 2"
   ]
  },
  {
   "cell_type": "code",
   "execution_count": 19,
   "id": "1e15d7e8-4d0a-44f1-b1cb-e6558588a1e3",
   "metadata": {
    "tags": []
   },
   "outputs": [],
   "source": [
    "pipeline_model_parallel_size = 4"
   ]
  },
  {
   "cell_type": "code",
   "execution_count": 20,
   "id": "d9d42606-70a1-4915-9e89-edcd676a174a",
   "metadata": {
    "tags": []
   },
   "outputs": [],
   "source": [
    "num_pipeline_model_parallel_groups = 4"
   ]
  },
  {
   "cell_type": "code",
   "execution_count": 21,
   "id": "9d0d7670-a6e3-46e1-8ff0-7d4d0e5b4600",
   "metadata": {
    "tags": []
   },
   "outputs": [
    {
     "name": "stdout",
     "output_type": "stream",
     "text": [
      "[0, 2]\n",
      "[1, 3]\n",
      "[4, 6]\n",
      "[5, 7]\n",
      "[8, 10]\n",
      "[9, 11]\n",
      "[12, 14]\n",
      "[13, 15]\n"
     ]
    }
   ],
   "source": [
    "for i in range(pipeline_model_parallel_size):\n",
    "    start_rank = i*num_pipeline_model_parallel_groups\n",
    "    end_rank = (i+1)*num_pipeline_model_parallel_groups\n",
    "    \n",
    "    for j in range(tensor_model_parallel_size):\n",
    "        ranks = list(range(\n",
    "            start_rank+j,\n",
    "            end_rank,\n",
    "            tensor_model_parallel_size\n",
    "        ))\n",
    "        \n",
    "        print(ranks)"
   ]
  },
  {
   "cell_type": "code",
   "execution_count": null,
   "id": "93c0ed1e-3680-47a2-9b43-3fdd883a0c4d",
   "metadata": {},
   "outputs": [],
   "source": [
    "api server, control manager, scheduler, ectd"
   ]
  },
  {
   "cell_type": "code",
   "execution_count": null,
   "id": "928a4123-37b3-4e3c-80ca-3da2a280bad8",
   "metadata": {},
   "outputs": [],
   "source": [
    "kubelet, container runtime, kube-proxy"
   ]
  },
  {
   "cell_type": "code",
   "execution_count": null,
   "id": "a76906c7-d28d-4277-aef5-3e2447929f11",
   "metadata": {},
   "outputs": [],
   "source": [
    "weights = attn_weights.diagonal(dim1=-2, dim2=-1, offset=-1)"
   ]
  },
  {
   "cell_type": "code",
   "execution_count": 22,
   "id": "3cfdeec8-c577-42fd-8d27-222eae4213c6",
   "metadata": {
    "tags": []
   },
   "outputs": [],
   "source": [
    "import torch\n",
    "from torch import nn\n",
    "import torch.nn.functional as F"
   ]
  },
  {
   "cell_type": "code",
   "execution_count": null,
   "id": "9514f41d-ac3e-4772-8f55-0baa3f6b7d91",
   "metadata": {},
   "outputs": [],
   "source": [
    "tokens = model.to_tokens(text)"
   ]
  },
  {
   "cell_type": "code",
   "execution_count": null,
   "id": "a6a6c911-2a2a-440c-a8ce-f7e3dae9ec10",
   "metadata": {},
   "outputs": [],
   "source": [
    "n_tokens = tokens.shape[-1]"
   ]
  },
  {
   "cell_type": "code",
   "execution_count": null,
   "id": "00e676bd-7821-4105-a7d6-8b58ac986762",
   "metadata": {},
   "outputs": [],
   "source": [
    "target_pattern = torch.zeros(n_tokens, n_tokens)"
   ]
  },
  {
   "cell_type": "code",
   "execution_count": null,
   "id": "5c43ea7a-3ad6-4990-aef8-40b2958cd383",
   "metadata": {},
   "outputs": [],
   "source": [
    "target_pattern[torch.arange(n_tokens), torch.arange(n_tokens)-1] = 1."
   ]
  },
  {
   "cell_type": "code",
   "execution_count": null,
   "id": "8ffdd4a2-9127-4391-8d4f-2e7c8b87eed8",
   "metadata": {},
   "outputs": [],
   "source": [
    "target_pattern[0] = torch.zeros_like(target_pattern[0])"
   ]
  },
  {
   "cell_type": "code",
   "execution_count": null,
   "id": "095e91a1-60d2-4679-93cb-8fa919f23912",
   "metadata": {},
   "outputs": [],
   "source": [
    "tokens = model.to_tokens(text)"
   ]
  },
  {
   "cell_type": "code",
   "execution_count": null,
   "id": "e2304612-7b20-4cbe-954b-f91d35c9d2a4",
   "metadata": {},
   "outputs": [],
   "source": [
    "_, cache = model.run_with_cache(tokens)"
   ]
  },
  {
   "cell_type": "code",
   "execution_count": null,
   "id": "dde980b8-11cc-4a69-ae8a-8d3c4c278f4d",
   "metadata": {},
   "outputs": [],
   "source": [
    "hook_name = f\"blocks.{layer_idx}.mlp.hook_post\""
   ]
  },
  {
   "cell_type": "code",
   "execution_count": null,
   "id": "44ed3007-1ded-4f9c-86a9-1beee253bd6d",
   "metadata": {},
   "outputs": [],
   "source": [
    "activations = cache[hook_name][0, :, neuron_idx]"
   ]
  },
  {
   "cell_type": "code",
   "execution_count": 23,
   "id": "d5fb3316-6acd-406c-b1ce-5098636a6062",
   "metadata": {
    "tags": []
   },
   "outputs": [],
   "source": [
    "components = []"
   ]
  },
  {
   "cell_type": "code",
   "execution_count": null,
   "id": "56cda548-6c88-4234-8a2e-23fab3033bb9",
   "metadata": {},
   "outputs": [],
   "source": [
    "text_embedding = cahce[\"embed\"]\n",
    "pos_embedding = cache[\"pos_embed\"]"
   ]
  },
  {
   "cell_type": "code",
   "execution_count": null,
   "id": "b691de7a-5d6e-4da7-a768-ee053e52494c",
   "metadata": {},
   "outputs": [],
   "source": [
    "components.append(text_embedding)\n",
    "components.append(pos_embedding)"
   ]
  },
  {
   "cell_type": "code",
   "execution_count": 24,
   "id": "2a8fb358-819c-487a-bea4-733d220634ac",
   "metadata": {
    "tags": []
   },
   "outputs": [],
   "source": [
    "from transformer_lens import utils"
   ]
  },
  {
   "cell_type": "code",
   "execution_count": null,
   "id": "915d9232-0f84-40be-88d9-d6c8b8abc3c4",
   "metadata": {},
   "outputs": [],
   "source": [
    "for layer_idx in range(4):\n",
    "    attn_hook_name = utils.get_act_name(\"attn\", layer_idx)\n",
    "    mlp_hook_name = utils.get_act_name(\"mlp\", layer_idx)\n",
    "    \n",
    "    components.append(attn_hook_name)\n",
    "    components.append(mlp_hook_name)"
   ]
  },
  {
   "cell_type": "code",
   "execution_count": null,
   "id": "3f4fab8b-99e8-4f2f-a8d9-c20e8081cbb2",
   "metadata": {},
   "outputs": [],
   "source": [
    "corrupted_prompt = \"A told B: 'Persistence is all you need.' C replied back to \""
   ]
  },
  {
   "cell_type": "code",
   "execution_count": null,
   "id": "f4a92b55-c986-4659-8a33-1e6c08cb2369",
   "metadata": {},
   "outputs": [],
   "source": [
    "clean_tokens = model.to_tokens(prompt)\n",
    "corrupted_tokens = model.to_tokens(corrupted_prompt)"
   ]
  },
  {
   "cell_type": "code",
   "execution_count": null,
   "id": "05d48a1b-5108-41b7-9ba5-a3ec4b401ce3",
   "metadata": {},
   "outputs": [],
   "source": [
    "target_token =  model.to_single_token(\"John\")"
   ]
  },
  {
   "cell_type": "code",
   "execution_count": null,
   "id": "6e273583-73d3-490b-b2cb-7487e5082f10",
   "metadata": {},
   "outputs": [],
   "source": [
    "_, clean_activations = model.run_with_cache(clean_tokens)\n",
    "_, corrupted_activations = model.run_with_cache(corrupted_tokens)"
   ]
  },
  {
   "cell_type": "code",
   "execution_count": null,
   "id": "e9872364-1ba3-4ab2-98c2-035abfb12e24",
   "metadata": {},
   "outputs": [],
   "source": [
    "head_idx, layer_idx = 6, 9"
   ]
  },
  {
   "cell_type": "code",
   "execution_count": null,
   "id": "394fec1a-5142-4278-b808-562a4aa3cffa",
   "metadata": {},
   "outputs": [],
   "source": [
    "hook_name = utils.get_act_name(\"attn\", layer_idx)"
   ]
  },
  {
   "cell_type": "code",
   "execution_count": null,
   "id": "f0e0341c-9db1-47d1-9d4c-9f163d7521ac",
   "metadata": {},
   "outputs": [],
   "source": [
    "corrupted_head_activations = corrupted_activations[hook_name][0, head_idx, :]"
   ]
  },
  {
   "cell_type": "code",
   "execution_count": null,
   "id": "c9dda679-35b8-4ea3-9381-cad219975cf1",
   "metadata": {},
   "outputs": [],
   "source": [
    "def patch_head_activations(activations, hook):\n",
    "    activations[0, head_idx, :, :] = corrupted_head_activations\n",
    "    return activations"
   ]
  },
  {
   "cell_type": "code",
   "execution_count": null,
   "id": "7d3f2acf-c1df-4582-96cd-3ce0dc380b85",
   "metadata": {},
   "outputs": [],
   "source": [
    "model.add_hook(hook_name, patch_head_activation)"
   ]
  },
  {
   "cell_type": "code",
   "execution_count": null,
   "id": "ab28ecbd-7591-4def-ae9b-9da9d46e418e",
   "metadata": {},
   "outputs": [],
   "source": [
    "_, patched_activations = model.run_with_cache(clean_tokens)"
   ]
  },
  {
   "cell_type": "code",
   "execution_count": null,
   "id": "f11d4590-81e7-4af4-be63-089dd55aad6b",
   "metadata": {},
   "outputs": [],
   "source": [
    "def extract_receiver_activations(activations, hook_name):\n",
    "    return activations[hook_name]"
   ]
  },
  {
   "cell_type": "code",
   "execution_count": null,
   "id": "73dc6ef6-ed12-4262-9a49-a8c3cf8fc1cb",
   "metadata": {},
   "outputs": [],
   "source": [
    "receiver_activations = patched_activations[receiver_hook_name]"
   ]
  },
  {
   "cell_type": "code",
   "execution_count": null,
   "id": "3fa72abb-3af5-4725-b5be-9fa3672353cb",
   "metadata": {},
   "outputs": [],
   "source": [
    "def patch_receiver_activations(activations, hook):\n",
    "    activations = receiver_activations\n",
    "    return activations"
   ]
  },
  {
   "cell_type": "code",
   "execution_count": null,
   "id": "b082db0f-475f-437f-a5af-238646919d5b",
   "metadata": {},
   "outputs": [],
   "source": [
    "text_embedding = model.embed(tokens)\n",
    "positional_embedding = model.embed(tokens)"
   ]
  },
  {
   "cell_type": "code",
   "execution_count": null,
   "id": "f5851c8a-76b7-4555-9c5c-dcd5eda907ea",
   "metadata": {},
   "outputs": [],
   "source": [
    "embedding = text_embedding + positional_embedding"
   ]
  },
  {
   "cell_type": "code",
   "execution_count": null,
   "id": "1b491b6d-7c26-431f-9862-5b3648c261d0",
   "metadata": {},
   "outputs": [],
   "source": [
    "residual = embedding"
   ]
  },
  {
   "cell_type": "code",
   "execution_count": null,
   "id": "7b7bbd10-25a3-4071-b283-c6ffa83573fb",
   "metadata": {},
   "outputs": [],
   "source": [
    "for block in model.blocks:\n",
    "    residual = block(residual)"
   ]
  },
  {
   "cell_type": "code",
   "execution_count": null,
   "id": "e118fe63-3f4f-4474-b5e0-e9975f1c9281",
   "metadata": {},
   "outputs": [],
   "source": [
    "residual = model.ln_final(residual)"
   ]
  },
  {
   "cell_type": "code",
   "execution_count": null,
   "id": "7a63e117-6092-44fa-b730-8b275e87d940",
   "metadata": {},
   "outputs": [],
   "source": [
    "logit = model.unembed(residual)"
   ]
  },
  {
   "cell_type": "code",
   "execution_count": null,
   "id": "68a2a198-6895-4399-bbb6-55937453e10b",
   "metadata": {},
   "outputs": [],
   "source": [
    "corrupted_prompt = \"A told B: 'Persistence is all you need.' C replied back to \""
   ]
  },
  {
   "cell_type": "code",
   "execution_count": null,
   "id": "7368f3d3-cc1b-4ce3-ac2d-d244f1c8cb42",
   "metadata": {},
   "outputs": [],
   "source": [
    "clean_tokens = model.to_tokens(prompt)\n",
    "corrupted_tokens = model.to_tokens(corrupted_tokens)"
   ]
  },
  {
   "cell_type": "code",
   "execution_count": null,
   "id": "090ebf2c-fb6c-4a51-b521-b49a124a452d",
   "metadata": {},
   "outputs": [],
   "source": [
    "_, clean_activations = model.run_with_cache(clean_tokens)\n",
    "_, corrupted_activations = model.run_with_cache(corrupted_tokens)"
   ]
  },
  {
   "cell_type": "code",
   "execution_count": null,
   "id": "27a87ea5-de26-4e39-90bf-d449874258c4",
   "metadata": {},
   "outputs": [],
   "source": [
    "head_idx, layer_idx = 9"
   ]
  },
  {
   "cell_type": "code",
   "execution_count": null,
   "id": "8d1ffae4-41d1-4233-b5de-43a3eb6ff592",
   "metadata": {},
   "outputs": [],
   "source": [
    "hook_name = utils.get_act_name(\"attn\", layer_idx)"
   ]
  },
  {
   "cell_type": "code",
   "execution_count": null,
   "id": "5cddd34a-bf6a-4c1a-a604-504b2899876e",
   "metadata": {},
   "outputs": [],
   "source": [
    "corrupted_head_activations = corrupted_head_activations[hook_name][0, head_idx, :, :]"
   ]
  },
  {
   "cell_type": "code",
   "execution_count": null,
   "id": "61f4da57-c04d-4108-9654-00eb0e685cd4",
   "metadata": {},
   "outputs": [],
   "source": [
    "def patch_head_activation(activation, hook):\n",
    "    activation[0, head_idx, :, :] = corrupted_head_activations\n",
    "    return activation"
   ]
  },
  {
   "cell_type": "code",
   "execution_count": null,
   "id": "e714df61-4abb-4252-ba9a-56fa44c6eb64",
   "metadata": {},
   "outputs": [],
   "source": [
    "_, patched_activations = model.run_with_hook(\n",
    "    clean_tokens,\n",
    "    fwd_hooks=[(hook_name, patch_head_activation)]\n",
    ")"
   ]
  },
  {
   "cell_type": "code",
   "execution_count": null,
   "id": "b6440482-970b-4bb1-94d0-d9395f43d4f3",
   "metadata": {},
   "outputs": [],
   "source": [
    "corrupted_receiver_activations = patched_activations[receiver_hook_name]"
   ]
  },
  {
   "cell_type": "code",
   "execution_count": 25,
   "id": "c511a093-bd7b-42b4-b055-4b73e7556936",
   "metadata": {
    "tags": []
   },
   "outputs": [],
   "source": [
    "def patch_receiver_activations(activation, hook):\n",
    "    activation = corrupted_receiver_activations\n",
    "    return activation"
   ]
  },
  {
   "cell_type": "code",
   "execution_count": null,
   "id": "b17e43f7-6608-4c6d-845b-418967fe0447",
   "metadata": {},
   "outputs": [],
   "source": [
    "_, patched_logits = model.run_with_hook(\n",
    "    clean_tokens,\n",
    "    fwd_hooks=[(receiver_hook_name, patch_receiver_activations)]\n",
    ")"
   ]
  },
  {
   "cell_type": "code",
   "execution_count": null,
   "id": "6cd037ce-bd5b-4c01-b62b-cadbe0ed7d16",
   "metadata": {},
   "outputs": [],
   "source": [
    "clean_logits = model()"
   ]
  },
  {
   "cell_type": "code",
   "execution_count": 26,
   "id": "97672261-5e5a-44b8-b7cc-b737e3dc135e",
   "metadata": {
    "tags": []
   },
   "outputs": [],
   "source": [
    "components = []"
   ]
  },
  {
   "cell_type": "code",
   "execution_count": null,
   "id": "cd218fd6-6721-42c8-a72c-31fb3a67fd77",
   "metadata": {},
   "outputs": [],
   "source": [
    "text_embedding = cache[\"embed\"]"
   ]
  },
  {
   "cell_type": "code",
   "execution_count": null,
   "id": "5c9eea0e-8b2b-4b35-b2ef-bd2019fb7d2b",
   "metadata": {},
   "outputs": [],
   "source": [
    "positional_embedding = cache[\"pos_embed\"]"
   ]
  },
  {
   "cell_type": "code",
   "execution_count": null,
   "id": "3ceda8e8-07a2-4546-b833-b6bfee733252",
   "metadata": {},
   "outputs": [],
   "source": [
    "components.append(text_embedding)\n",
    "components.append(positional_embedding)"
   ]
  },
  {
   "cell_type": "code",
   "execution_count": null,
   "id": "4ff15d85-5361-4362-a4b3-36ee60c791ce",
   "metadata": {},
   "outputs": [],
   "source": [
    "for layer_idx in range(3):\n",
    "    attn_hook_name = utils.get_act_name(\"attn\", layer_idx)\n",
    "    mlp_hook_name = utils.get_act_name(\"mlp\", layer_idx)\n",
    "    components.append(attn_hook_name)\n",
    "    components.append(mlp_hook_name)"
   ]
  },
  {
   "cell_type": "code",
   "execution_count": 27,
   "id": "0fef1029-f82d-4466-a7c5-3e75bdd0c675",
   "metadata": {
    "tags": []
   },
   "outputs": [],
   "source": [
    "class Model(nn.Module):\n",
    "    def __init__(self):\n",
    "        super().__init__()\n",
    "        self.net1 = nn.Sequential(\n",
    "            nn.Linear(69, 420),\n",
    "            nn.ReLU()\n",
    "        ).to(torch.device(\"cuda:0\"))\n",
    "        self.net2 = nn.Linear(420, 69).to(torch.device(\"cuda:1\"))\n",
    "    \n",
    "    def forward(self, x):\n",
    "        x = x.to(torch.device(\"cuda:0\"))\n",
    "        out = self.net1(x)\n",
    "        out = out.to(torch.device(\"cuda:1\"))\n",
    "        out = self.net(out)\n",
    "        return out"
   ]
  },
  {
   "cell_type": "markdown",
   "id": "04c1d465-13f9-4f99-9242-2afcd73b19c1",
   "metadata": {},
   "source": [
    "step 1: choose a component\n",
    "step 2: two prompts\n",
    "step 3: record all the intermediate activations of the clean prompt and corrupted prompt\n",
    "step 4: extract the activations of the target component in the corrupted_prompt\n",
    "step 5: patch the activation to clean prompt, and rerun\n",
    "step 6: extract receiver\n",
    "step 7: rerun with the re"
   ]
  },
  {
   "cell_type": "code",
   "execution_count": 28,
   "id": "c919648b-6cfa-44ec-897b-4a60259915b8",
   "metadata": {
    "tags": []
   },
   "outputs": [],
   "source": [
    "from transformers import DataCollatorForLanguageModeling"
   ]
  },
  {
   "cell_type": "code",
   "execution_count": null,
   "id": "9b4725b2-9cc6-4c4d-9131-200b9e46e38f",
   "metadata": {},
   "outputs": [],
   "source": [
    "data_collator = DataCollatorForLanguageModeling(tokenizer, mlm=False)"
   ]
  },
  {
   "cell_type": "code",
   "execution_count": 29,
   "id": "0cae9269-c01c-44cf-8c0c-fbf7b14bab40",
   "metadata": {
    "tags": []
   },
   "outputs": [],
   "source": [
    "from torch_geometric.data import Data"
   ]
  },
  {
   "cell_type": "code",
   "execution_count": 30,
   "id": "73d59147-8e66-401e-b373-644ca1f4357b",
   "metadata": {
    "tags": []
   },
   "outputs": [],
   "source": [
    "x = torch.tensor([-1, 0, 1])"
   ]
  },
  {
   "cell_type": "code",
   "execution_count": 31,
   "id": "92301be7-26af-451b-99ad-63256354dd53",
   "metadata": {
    "tags": []
   },
   "outputs": [],
   "source": [
    "edge_index = torch.tensor([\n",
    "    [0, 1, 2, 1],\n",
    "    [1, 0, 1, 2]\n",
    "])"
   ]
  },
  {
   "cell_type": "code",
   "execution_count": 32,
   "id": "25a4b511-545f-470d-83d3-e38118246d45",
   "metadata": {
    "tags": []
   },
   "outputs": [],
   "source": [
    "data = Data(x, edge_index)"
   ]
  },
  {
   "cell_type": "code",
   "execution_count": 33,
   "id": "c07394d3-b69e-4057-a3ac-eb5e3f017b14",
   "metadata": {
    "tags": []
   },
   "outputs": [
    {
     "data": {
      "text/plain": [
       "Data(x=[3], edge_index=[2, 4])"
      ]
     },
     "execution_count": 33,
     "metadata": {},
     "output_type": "execute_result"
    }
   ],
   "source": [
    "data"
   ]
  },
  {
   "cell_type": "code",
   "execution_count": 34,
   "id": "b6841f9c-5dfd-41c2-89d2-5ff9a7fc505b",
   "metadata": {
    "tags": []
   },
   "outputs": [],
   "source": [
    "from transformers import AutoTokenizer, AutoModel"
   ]
  },
  {
   "cell_type": "code",
   "execution_count": null,
   "id": "4f47a010-97bc-4afc-a6c5-408acf376efa",
   "metadata": {},
   "outputs": [],
   "source": [
    "class CustomTokenClassifer(nn.Module):\n",
    "    def __init__(self, checkpoint, n_labels, dropout):\n",
    "        super().__init__()\n",
    "        self.model = AutoModel.from_pretrained(checkpoint)\n",
    "        self.dropout = nn.Dropout(dropout)\n",
    "        self.lm_head = nn.Linear(\n",
    "            768,\n",
    "            n_labels\n",
    "        )\n",
    "        \n",
    "    def forward(self, input_ids, attention_mask):\n",
    "        output = self.model(\n",
    "            input_ids=input_ids,\n",
    "            attention_mask=attention_mask,\n",
    "            output_hidden_states=True\n",
    "        )\n",
    "        \n",
    "        hidden_states = model.last_hidden_states\n",
    "        output = self.lm_head(self.dropout(hidden_states))\n",
    "        return output"
   ]
  },
  {
   "cell_type": "code",
   "execution_count": 35,
   "id": "d90d82ae-afc5-4046-afe6-4459836c7177",
   "metadata": {
    "tags": []
   },
   "outputs": [],
   "source": [
    "import math"
   ]
  },
  {
   "cell_type": "code",
   "execution_count": 36,
   "id": "77c0fd48-5f0c-479a-a571-e396d4eb52da",
   "metadata": {
    "tags": []
   },
   "outputs": [],
   "source": [
    "class SelfAttention(nn.Module):\n",
    "    def __init__(self, d_head):\n",
    "        super().__init__()\n",
    "        self.d_head = d_head\n",
    "    \n",
    "    def forward(self, q, k, v):\n",
    "        k = k.transpose(3, 2)\n",
    "        qk = torch.matmul(q, k)\n",
    "        attn_weights = F.softmax(qk) / math.sqrt(self.d_head)\n",
    "        output = torch.matmul(attn_weights, v)\n",
    "        return output, attn_weights"
   ]
  },
  {
   "cell_type": "code",
   "execution_count": null,
   "id": "a55c966f-95a0-4126-ac38-a25dab75396c",
   "metadata": {},
   "outputs": [],
   "source": [
    "def dropout_layer(activations, dropout):\n",
    "    assert 0 <= dropout <= 1\n",
    "    \n",
    "    if dropout == 1:\n",
    "        return torch.zeros_like(activations)\n",
    "    \n",
    "    mask = (torch.randn_like(activations) > dropout).float()\n",
    "    return activations[mask] / (1-dropout)"
   ]
  }
 ],
 "metadata": {
  "kernelspec": {
   "display_name": "Python 3 (ipykernel)",
   "language": "python",
   "name": "python3"
  },
  "language_info": {
   "codemirror_mode": {
    "name": "ipython",
    "version": 3
   },
   "file_extension": ".py",
   "mimetype": "text/x-python",
   "name": "python",
   "nbconvert_exporter": "python",
   "pygments_lexer": "ipython3",
   "version": "3.8.16"
  }
 },
 "nbformat": 4,
 "nbformat_minor": 5
}
