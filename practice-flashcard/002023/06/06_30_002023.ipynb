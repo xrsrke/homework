{
 "cells": [
  {
   "cell_type": "markdown",
   "id": "03eccccc-ad37-4030-b097-14fc72cf72bb",
   "metadata": {},
   "source": [
    "### Engineering"
   ]
  },
  {
   "cell_type": "code",
   "execution_count": 1,
   "id": "5dcbd161-b288-4f2a-999b-af296e705c7b",
   "metadata": {
    "tags": []
   },
   "outputs": [],
   "source": [
    "import torch\n",
    "from torch import nn\n",
    "import torch.nn.functional as F"
   ]
  },
  {
   "cell_type": "markdown",
   "id": "cc3c9432-da67-44e5-8be1-58ec69326c3c",
   "metadata": {},
   "source": [
    "step 1: launch 100 threads\n",
    "step 2: each thread calculates its global thread id\n",
    "step 3: each thread performs the computation based on its global thread id\n",
    "step 4: write to output variable based on its global thread id"
   ]
  },
  {
   "cell_type": "code",
   "execution_count": null,
   "id": "f3a7853c-d2e2-442f-ba7b-ea3f58d87b47",
   "metadata": {},
   "outputs": [],
   "source": [
    "step 1: sk"
   ]
  },
  {
   "cell_type": "code",
   "execution_count": null,
   "id": "7e4847c9-a6b5-4b8d-8e9b-6985c586e33c",
   "metadata": {},
   "outputs": [],
   "source": [
    "rank = torch.distributed.get_rank()"
   ]
  },
  {
   "cell_type": "code",
   "execution_count": null,
   "id": "ba5e7ded-bf01-4d26-aee1-424bacba7954",
   "metadata": {},
   "outputs": [],
   "source": [
    "if rank == 0:\n",
    "    torch.distributed.send(x, dest=1)\n",
    "elif rank == 1:\n",
    "    torch.distributed.recv(tensor_will_be_received_data, src=0)"
   ]
  },
  {
   "cell_type": "code",
   "execution_count": null,
   "id": "24b09a8a-b4a4-46c9-9eea-cbbfd243db6d",
   "metadata": {},
   "outputs": [],
   "source": [
    "int zero() {\n",
    "    return 0;\n",
    "}"
   ]
  },
  {
   "cell_type": "code",
   "execution_count": null,
   "id": "2429e560-ec6b-494e-8288-988f7071e115",
   "metadata": {},
   "outputs": [],
   "source": [
    "grid > thread block > thread"
   ]
  },
  {
   "cell_type": "code",
   "execution_count": null,
   "id": "d794836a-0fd6-448e-a706-a30997f3e2ab",
   "metadata": {},
   "outputs": [],
   "source": [
    "step 1: bind ip\n",
    "step 2: connect\n",
    "step 3: accept\n",
    "step 4: commmunicate\n",
    "step 5: close the connection"
   ]
  },
  {
   "cell_type": "code",
   "execution_count": null,
   "id": "99645040-b45b-4e40-96c8-8d81489d2c7b",
   "metadata": {},
   "outputs": [],
   "source": [
    "__global__ void vectorAdd(int* a, int* b, int* c, int total_elements) {\n",
    "    tid = (blockIdx.x * blockDim.x) + threadIdx.x\n",
    "    \n",
    "    if (tid < total_elements) {\n",
    "        c[tid] = a[tid] + b[tid]\n",
    "    }\n",
    "}"
   ]
  },
  {
   "cell_type": "code",
   "execution_count": null,
   "id": "c82774e6-78d7-4fa9-a604-7a49173671e4",
   "metadata": {},
   "outputs": [],
   "source": [
    "start = torch.cuda.Event(enable_timing=True)\n",
    "end = torch.cuda.Event(enable_timing=True)"
   ]
  },
  {
   "cell_type": "code",
   "execution_count": null,
   "id": "ce88d985-692d-48f5-b502-ed6320b3b1aa",
   "metadata": {},
   "outputs": [],
   "source": [
    "n_cycles = 1_000_000"
   ]
  },
  {
   "cell_type": "code",
   "execution_count": null,
   "id": "99342b67-794a-4737-926a-771281491ca3",
   "metadata": {},
   "outputs": [],
   "source": [
    "start.record()\n",
    "\n",
    "torch.cuda._sleep(n_cycles)\n",
    "\n",
    "end.record()"
   ]
  },
  {
   "cell_type": "code",
   "execution_count": null,
   "id": "1c9fc187-2e41-4819-831f-5ec6920eab9d",
   "metadata": {},
   "outputs": [],
   "source": [
    "cycles_per_ms = n_cycles / end.elapsed_time(start)"
   ]
  },
  {
   "cell_type": "code",
   "execution_count": null,
   "id": "e8cea574-9d7e-4528-bbab-6f7957c688ca",
   "metadata": {},
   "outputs": [],
   "source": [
    "def cuda_sleep(seconds):\n",
    "    ms = seconds * 1_000\n",
    "    cycles = cycles_per_ms * ms\n",
    "    torch.cuda._sleep(int(cyclces))"
   ]
  },
  {
   "cell_type": "code",
   "execution_count": null,
   "id": "f82abb5a-0be4-4308-a6a5-b0c4877697d2",
   "metadata": {},
   "outputs": [],
   "source": [
    "save, sync, restore, reset"
   ]
  },
  {
   "cell_type": "code",
   "execution_count": null,
   "id": "72f276e8-82e6-47f2-b3a6-405ffaad1539",
   "metadata": {},
   "outputs": [],
   "source": [
    "step 1: parameter partritioning\n",
    "step 2: rank\n",
    "step 3: local optimzier\n",
    "step 4: syncb\n",
    "step 5: bucket"
   ]
  },
  {
   "cell_type": "code",
   "execution_count": 2,
   "id": "7a65a381-0734-4c59-81ba-612f12be0f4f",
   "metadata": {
    "tags": []
   },
   "outputs": [],
   "source": [
    "import threading"
   ]
  },
  {
   "cell_type": "code",
   "execution_count": 3,
   "id": "ceef15ec-b623-48cf-ab2a-d252855db181",
   "metadata": {
    "tags": []
   },
   "outputs": [],
   "source": [
    "data = threading.local()"
   ]
  },
  {
   "cell_type": "code",
   "execution_count": null,
   "id": "0093dfcc-db64-4379-952d-ec90695719d2",
   "metadata": {},
   "outputs": [],
   "source": [
    "thread = threading.Thread(\n",
    "    target=print_and_modify,\n",
    "    args=(data,)\n",
    ")"
   ]
  },
  {
   "cell_type": "code",
   "execution_count": 4,
   "id": "21fa0493-73e0-49a1-9e33-3332d7013333",
   "metadata": {
    "tags": []
   },
   "outputs": [],
   "source": [
    "class ParallelMLP(torch.nn.Module):\n",
    "    def __init__(self, hidden_size):\n",
    "        super().__init__()\n",
    "        self.dense_h_to_4h = ColumnParallelLinear(\n",
    "            input_size=hidden_size,\n",
    "            output_size=hidden_size*4\n",
    "        )\n",
    "        self.dense_4h_to_h = RowParallelLinear(\n",
    "            input_size=hidden_size*4,\n",
    "            output_size=hidden_size\n",
    "        )\n",
    "        self.gelu = nn.GeLU()\n",
    "    \n",
    "    def forward(self, input):\n",
    "        output = self.dense_h_to_4h(input)\n",
    "        output = self.gelu(output)\n",
    "        output = self.dense_4h_to_h(output)\n",
    "        return output"
   ]
  },
  {
   "cell_type": "code",
   "execution_count": null,
   "id": "076c5d90-a2f6-4023-97ef-72bfd00ebf06",
   "metadata": {},
   "outputs": [],
   "source": [
    "max(clock_idx+1-n_microbatches, 0)"
   ]
  },
  {
   "cell_type": "code",
   "execution_count": null,
   "id": "49180ec3-db02-469d-989e-d91d7389858b",
   "metadata": {},
   "outputs": [],
   "source": [
    "step 1: bind\n",
    "step 2: connect\n",
    "step 3: accept\n",
    "step 4: communicate\n",
    "step 5: close the connection"
   ]
  },
  {
   "cell_type": "code",
   "execution_count": null,
   "id": "d16ee77a-8ea6-4564-81df-a2167bb7acbb",
   "metadata": {},
   "outputs": [],
   "source": [
    "min(clock_idx+1, n_partritions)"
   ]
  },
  {
   "cell_type": "code",
   "execution_count": null,
   "id": "7b352e14-6c7c-4e51-baf6-da87189b2361",
   "metadata": {},
   "outputs": [],
   "source": [
    "(current_block_id * threads_per_block) + current_thread_id"
   ]
  },
  {
   "cell_type": "code",
   "execution_count": null,
   "id": "6242abd0-4e85-4bbe-a7e5-de302c6509af",
   "metadata": {},
   "outputs": [],
   "source": [
    "save, load, move"
   ]
  },
  {
   "cell_type": "code",
   "execution_count": null,
   "id": "fa976ad2-918b-4476-8869-c9a59bf52501",
   "metadata": {},
   "outputs": [],
   "source": [
    "n_microbatches+n_partritions-1"
   ]
  },
  {
   "cell_type": "markdown",
   "id": "14a6ee5e-312a-4294-aec4-028fade6f802",
   "metadata": {},
   "source": [
    "### MechInterp"
   ]
  },
  {
   "cell_type": "code",
   "execution_count": null,
   "id": "0665fb4e-eb39-46d5-8aaf-63e4d39f2278",
   "metadata": {},
   "outputs": [],
   "source": [
    "_, cache = model.run_with_cache(tokens)"
   ]
  },
  {
   "cell_type": "code",
   "execution_count": null,
   "id": "33e3ed37-1557-4415-95ea-956fa1d93684",
   "metadata": {},
   "outputs": [],
   "source": [
    "final_residual_stream = cache[final_residual_name]"
   ]
  },
  {
   "cell_type": "code",
   "execution_count": null,
   "id": "c3de6206-0044-4d8d-b4db-69525d738f6c",
   "metadata": {},
   "outputs": [],
   "source": [
    "last_token_final_residual_stream = final_residual_stream[:, -1, :]"
   ]
  },
  {
   "cell_type": "code",
   "execution_count": null,
   "id": "da2fdebd-e5f9-4c89-8217-fb613baac48e",
   "metadata": {},
   "outputs": [],
   "source": [
    "W_U = model.W_U"
   ]
  },
  {
   "cell_type": "code",
   "execution_count": null,
   "id": "42e00ff5-eee7-4ce7-88ba-0cfef0735b32",
   "metadata": {},
   "outputs": [],
   "source": [
    "correct_embedding = W_U[:, correct_token]"
   ]
  },
  {
   "cell_type": "code",
   "execution_count": null,
   "id": "d517da06-b0f5-4e0f-b4ed-f2e5a1261e69",
   "metadata": {},
   "outputs": [],
   "source": [
    "incorrect_embedding = W_U[:, incorrect_token]"
   ]
  },
  {
   "cell_type": "code",
   "execution_count": null,
   "id": "cc6815d2-ea3c-491a-be26-317e26c9c798",
   "metadata": {},
   "outputs": [],
   "source": [
    "diff = correct_embedding - incorrect_embedding"
   ]
  },
  {
   "cell_type": "code",
   "execution_count": 5,
   "id": "ea3e258c-4d78-4501-a5ed-0e5dc5ffabaa",
   "metadata": {
    "tags": []
   },
   "outputs": [],
   "source": [
    "from einops import einsum"
   ]
  },
  {
   "cell_type": "code",
   "execution_count": null,
   "id": "213eb34a-1b53-47eb-a790-44b6e3028b41",
   "metadata": {},
   "outputs": [],
   "source": [
    "output = einsum(\n",
    "    last_token_final_residual_stream,\n",
    "    diff,\n",
    "    \"b dim, b dim ->\"\n",
    ")"
   ]
  },
  {
   "cell_type": "code",
   "execution_count": null,
   "id": "b1b0d647-a609-46c6-bc67-52c08b1d2ca3",
   "metadata": {},
   "outputs": [],
   "source": [
    "n_features = inteference.shape[-1]"
   ]
  },
  {
   "cell_type": "code",
   "execution_count": null,
   "id": "2ca42244-f8cb-4e97-898d-3a6d2d78f0b0",
   "metadata": {},
   "outputs": [],
   "source": [
    "interference[torch.arange(n_features), torch.arange(n_features)] = 0."
   ]
  },
  {
   "cell_type": "code",
   "execution_count": null,
   "id": "6bdc247b-c677-4325-9468-4b7747496800",
   "metadata": {},
   "outputs": [],
   "source": [
    "polysemanticity = interference.pow(2).sum(dim=-1).sqrt()"
   ]
  },
  {
   "cell_type": "code",
   "execution_count": 6,
   "id": "d7113d20-04ea-4358-bd73-8b7b6d9af892",
   "metadata": {
    "tags": []
   },
   "outputs": [],
   "source": [
    "class PositionalEncoding(nn.Module):\n",
    "    def __init__(self, n, d_model):\n",
    "        super().__init__()\n",
    "        self.n, self.d_model = n, d_model\n",
    "    \n",
    "    def forward(self, tokens):\n",
    "        seq_len = len(tokens)\n",
    "        embeddings = torch.zeros(seq_len, self.d_model)\n",
    "        \n",
    "        for p in range(seq_len):\n",
    "            for i in range(self.d_model):\n",
    "                denominator = torch.pow(self.n, 2*i*self.d_model)\n",
    "                embeddings[p][i] = torch.cos(p/denominator) if i%2==0 else torch.sin(p/denominator)\n",
    "        \n",
    "        return embeddings"
   ]
  },
  {
   "cell_type": "code",
   "execution_count": null,
   "id": "d93b20f2-807f-435c-a0fd-dadc1832b5be",
   "metadata": {},
   "outputs": [],
   "source": [
    "torch.roll(x, shifts=1, dims=0)"
   ]
  },
  {
   "cell_type": "code",
   "execution_count": null,
   "id": "dfd718e1-9d90-4610-aae4-6651c1c95528",
   "metadata": {},
   "outputs": [],
   "source": [
    "text encoder, image encoder, projection head"
   ]
  },
  {
   "cell_type": "code",
   "execution_count": null,
   "id": "89ae3b00-3846-4fac-8ef0-fe51b8af044d",
   "metadata": {},
   "outputs": [],
   "source": [
    "def train(x, y, epochs):\n",
    "    for _ in range(epochs):\n",
    "        pred = model(x)\n",
    "        loss = self.loss_func(pred, y)\n",
    "        loss.backward()\n",
    "        optim.zero_grad()\n",
    "        optim.step()"
   ]
  },
  {
   "cell_type": "code",
   "execution_count": null,
   "id": "63eee738-5352-4226-b460-06651596c170",
   "metadata": {},
   "outputs": [],
   "source": [
    "import great_expectations"
   ]
  },
  {
   "cell_type": "code",
   "execution_count": 7,
   "id": "e862bb3f-ee0d-4078-9c8e-dbbdfd3bce94",
   "metadata": {
    "tags": []
   },
   "outputs": [],
   "source": [
    "from einops import rearrange"
   ]
  },
  {
   "cell_type": "code",
   "execution_count": null,
   "id": "13fe92a5-fe87-4de2-b9f4-9bb7b2927a3e",
   "metadata": {},
   "outputs": [],
   "source": [
    "output = rearrange(images, \"... 1 -> ...\")"
   ]
  },
  {
   "cell_type": "code",
   "execution_count": null,
   "id": "bac5d52f-cb39-4554-b345-4d3710880eeb",
   "metadata": {},
   "outputs": [],
   "source": [
    "def x(module, input):\n",
    "    "
   ]
  },
  {
   "cell_type": "code",
   "execution_count": null,
   "id": "81fa0df6-f673-4232-beb4-1a88628d51fe",
   "metadata": {},
   "outputs": [],
   "source": [
    "def add_hook(model):\n",
    "    for l in model:\n",
    "        l.register_forward_hook(x)"
   ]
  },
  {
   "cell_type": "code",
   "execution_count": null,
   "id": "472ffd73-2f53-4471-9be5-bb5e76b54e93",
   "metadata": {},
   "outputs": [],
   "source": [
    "q, k, v, attention pattern, output"
   ]
  },
  {
   "cell_type": "code",
   "execution_count": 8,
   "id": "150078ef-b08c-41bf-9584-7f8d6bd65061",
   "metadata": {
    "tags": []
   },
   "outputs": [],
   "source": [
    "from torch.multiprocessing import Process"
   ]
  },
  {
   "cell_type": "code",
   "execution_count": 9,
   "id": "89c5f2cd-09aa-4c55-9f30-5e684e566a54",
   "metadata": {
    "tags": []
   },
   "outputs": [],
   "source": [
    "import os"
   ]
  },
  {
   "cell_type": "code",
   "execution_count": null,
   "id": "3dd10d9a-d4b3-4a7a-95ae-882f6b2a7fad",
   "metadata": {},
   "outputs": [],
   "source": [
    "def init_rpc(rank, world_size):\n",
    "    os.environ[\"MASTER_ADDR\"] = \"localhost\"\n",
    "    os.environ[\"MASTER_PORT\"] = \"29500\"\n",
    "    \n",
    "    torch.distributed.rpc.init_rpc(\n",
    "        \n",
    "        rank=rank,\n",
    "        world_size=world_size\n",
    "    )"
   ]
  },
  {
   "cell_type": "code",
   "execution_count": null,
   "id": "4dc7b7a9-6394-44f0-8ce5-99ae0f5e1807",
   "metadata": {},
   "outputs": [],
   "source": [
    "for rank in range(world_size):\n",
    "    p = Process(\n",
    "        target=init_rpc,\n",
    "        args=(rank, world_size)\n",
    "    )\n",
    "    p.start()"
   ]
  },
  {
   "cell_type": "code",
   "execution_count": null,
   "id": "06f16e35-1b02-49c7-b910-774379848318",
   "metadata": {},
   "outputs": [],
   "source": [
    "nn.Flatten(start_dim=2, end_dim=3)"
   ]
  },
  {
   "cell_type": "code",
   "execution_count": null,
   "id": "13a1d1fe-1e3d-4e52-90f2-9aea371ddf93",
   "metadata": {},
   "outputs": [],
   "source": [
    "def zero_weight(x):\n",
    "    return x.data.zero_()"
   ]
  },
  {
   "cell_type": "code",
   "execution_count": 11,
   "id": "3e29097d-2096-494d-8d52-74d271368102",
   "metadata": {
    "tags": []
   },
   "outputs": [
    {
     "data": {
      "text/plain": [
       "tensor([2, 6, 8, 1, 3, 5, 0, 4, 7])"
      ]
     },
     "execution_count": 11,
     "metadata": {},
     "output_type": "execute_result"
    }
   ],
   "source": [
    "torch.randperm(9)"
   ]
  },
  {
   "cell_type": "code",
   "execution_count": null,
   "id": "9f4f819a-1750-4883-a486-45ee1a8595d2",
   "metadata": {},
   "outputs": [],
   "source": [
    "(final_residual @ W_U_1) - "
   ]
  },
  {
   "cell_type": "code",
   "execution_count": null,
   "id": "2719d551-64de-413d-a9fc-42f933d27d82",
   "metadata": {},
   "outputs": [],
   "source": [
    "class ActorCritic(nn.Module):\n",
    "    def __init__(self, n_observations, n_actions, n_hidden):\n",
    "        self.actor_network = nn.Sequential(\n",
    "            nn.Linear(n_observations, n_hidden),\n",
    "            nn.Tanh(),\n",
    "            nn.Linear(n_hidden, n_hidden),\n",
    "            nn.Tanh(),\n",
    "            nn.Linear(n_hidden, n_actions),\n",
    "            nn.Softmax(dim=-1)\n",
    "        )\n",
    "        \n",
    "        self.critic_network = nn.Sequential(\n",
    "            nn.Linear(n_observations, n_hidden),\n",
    "            nn.Tanh(),\n",
    "            nn.Linear(n_hidden, n_hidden),\n",
    "            nn.Tanh(),\n",
    "            nn.Linear(n_hidden, n_actions),\n",
    "            nn.Sigmoid()\n",
    "        )\n",
    "        \n",
    "    def forward(self, observations):\n",
    "        probs = setl.actor_network(observations)\n",
    "        dist\n",
    "        action = torch.argmax(probs, dim=-1)\n",
    "        entropy = probs.\n",
    "        critic_value = self.critic_network(observations)"
   ]
  }
 ],
 "metadata": {
  "kernelspec": {
   "display_name": "Python 3 (ipykernel)",
   "language": "python",
   "name": "python3"
  },
  "language_info": {
   "codemirror_mode": {
    "name": "ipython",
    "version": 3
   },
   "file_extension": ".py",
   "mimetype": "text/x-python",
   "name": "python",
   "nbconvert_exporter": "python",
   "pygments_lexer": "ipython3",
   "version": "3.8.16"
  }
 },
 "nbformat": 4,
 "nbformat_minor": 5
}
