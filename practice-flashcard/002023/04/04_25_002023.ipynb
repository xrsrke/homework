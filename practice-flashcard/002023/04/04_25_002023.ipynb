{
 "cells": [
  {
   "cell_type": "markdown",
   "id": "63d1863e-5bb0-483f-bc2e-8cb2631755a0",
   "metadata": {},
   "source": [
    "### Science"
   ]
  },
  {
   "cell_type": "code",
   "execution_count": null,
   "id": "878cd934-f262-402e-b6ca-cd8a9f34b970",
   "metadata": {},
   "outputs": [],
   "source": [
    "retina "
   ]
  },
  {
   "cell_type": "code",
   "execution_count": null,
   "id": "b0160938-0969-4254-8ab1-674a471f80f7",
   "metadata": {},
   "outputs": [],
   "source": [
    "retina > optic nerve > thalamus > visual coretex"
   ]
  },
  {
   "cell_type": "markdown",
   "id": "e35dc96b-7662-4345-8817-8ed9fb9503ea",
   "metadata": {},
   "source": [
    "### ML Engineering"
   ]
  },
  {
   "cell_type": "code",
   "execution_count": null,
   "id": "46b39929-5bff-4295-91d2-6a922f0b08bb",
   "metadata": {},
   "outputs": [],
   "source": [
    "from metaflow import batch"
   ]
  },
  {
   "cell_type": "code",
   "execution_count": null,
   "id": "32044d80-0e85-4f37-8282-fae06796c56b",
   "metadata": {},
   "outputs": [],
   "source": [
    "from prefect import task"
   ]
  },
  {
   "cell_type": "code",
   "execution_count": null,
   "id": "9a70c889-d02b-4545-acf8-e2c6d9cef4c6",
   "metadata": {},
   "outputs": [],
   "source": [
    "@task\n",
    "def hello():\n",
    "    print(42)"
   ]
  },
  {
   "cell_type": "code",
   "execution_count": null,
   "id": "6d616982-1278-416f-8898-4e48326d8056",
   "metadata": {},
   "outputs": [],
   "source": [
    "from metaflow import FlowSpec, step, batch"
   ]
  },
  {
   "cell_type": "code",
   "execution_count": null,
   "id": "5187dbe0-48d8-4d37-bf77-e5e685e35ea1",
   "metadata": {},
   "outputs": [],
   "source": [
    "class Flow(FlowSpec):\n",
    "    @step\n",
    "    def start(self): self.next(self.train)\n",
    "    \n",
    "    @batch(memory=10000)\n",
    "    @step\n",
    "    def train(self):\n",
    "        train()\n",
    "        self.next(self.end)\n",
    "    \n",
    "    @step\n",
    "    def end(self):\n",
    "        pass"
   ]
  },
  {
   "cell_type": "code",
   "execution_count": null,
   "id": "3c614134-a796-4029-9cfd-b6385dec1d30",
   "metadata": {},
   "outputs": [],
   "source": [
    "class CountFlow(FlowSpec):\n",
    "    @step\n",
    "    def start(self):\n",
    "        self.words = words\n",
    "        self.next(self.count, foreach=\"words\")\n",
    "    \n",
    "    @step\n",
    "    def count(self):\n",
    "        self.word = self.input\n",
    "        self.length = len(self.input)\n",
    "        self.next(self.join)\n",
    "    \n",
    "    @step\n",
    "    def join(self, inputs):\n",
    "        self.longest = max(inputs, key=lambda x: x.length).word\n",
    "        self.next(self.end)\n",
    "    \n",
    "    @step\n",
    "    def end(self): pass"
   ]
  },
  {
   "cell_type": "code",
   "execution_count": null,
   "id": "35f873c9-0420-4aed-815c-481e3739a9f5",
   "metadata": {},
   "outputs": [],
   "source": [
    "from metaflow import Flow"
   ]
  },
  {
   "cell_type": "code",
   "execution_count": null,
   "id": "cf58ec43-30d6-4ca7-9f17-6999d8323c5f",
   "metadata": {},
   "outputs": [],
   "source": [
    "run = Flow(\"CountFlow\").latest_run"
   ]
  },
  {
   "cell_type": "markdown",
   "id": "096aad18-d224-4173-aa35-df5992b34e6c",
   "metadata": {},
   "source": [
    "### AI"
   ]
  },
  {
   "cell_type": "code",
   "execution_count": null,
   "id": "52949884-1f60-4772-8cc7-12d5100e140a",
   "metadata": {},
   "outputs": [],
   "source": [
    "import torch\n",
    "from torch import nn\n",
    "import torch.nn.functional as F"
   ]
  },
  {
   "cell_type": "code",
   "execution_count": null,
   "id": "93a05faf-886c-4e75-95d4-d3b3c368a714",
   "metadata": {},
   "outputs": [],
   "source": [
    "import torch.distributed as dist"
   ]
  },
  {
   "cell_type": "code",
   "execution_count": null,
   "id": "498aa362-e5c6-4afb-875d-80dc3c06bd19",
   "metadata": {},
   "outputs": [],
   "source": [
    "def compute_forward_pass_using_data_parallelism(\n",
    "    model, input, device_ids, output_id\n",
    "):\n",
    "    inputs = nn.parallel.scatter(input)\n",
    "    models = nn.parallel.replicate(model)\n",
    "    \n",
    "    logit = nn.parallel.parallel_apply(models, inputs)\n",
    "    \n",
    "    logits = nn.parallel.gather(logit)\n",
    "    \n",
    "    return logits"
   ]
  },
  {
   "cell_type": "code",
   "execution_count": null,
   "id": "3a39dda3-8bd5-471a-9c2b-465fc8c963d5",
   "metadata": {},
   "outputs": [],
   "source": [
    "step 1: a fp16 and fp32 copy of the weight\n",
    "step 2: compute forward and backward pass using fp16\n",
    "step 3: cast fp16 of the grad to fp32\n",
    "step 4: update the model params using fp32 of grad and weight\n",
    "step 5: repeat step 1"
   ]
  },
  {
   "cell_type": "code",
   "execution_count": null,
   "id": "5ed10cb8-9b68-4d0f-8014-da21e6011029",
   "metadata": {},
   "outputs": [],
   "source": [
    "def by_row_parallel(x, y):\n",
    "    n_cols = y.shape[-1]\n",
    "    \n",
    "    x1, x2 = x[:, :n_cols//2], x[:, n_cols//2:]\n",
    "    y1, y2 = y[:n_cols//2, :], y[n_cols//2:, :]\n",
    "    \n",
    "    out1 = x1 @ y1\n",
    "    out2 = x2 @ y2\n",
    "    \n",
    "    return out1 + out2"
   ]
  },
  {
   "cell_type": "code",
   "execution_count": null,
   "id": "e02e3bfe-2622-4b45-9652-28cb6de2b7d9",
   "metadata": {},
   "outputs": [],
   "source": [
    "import torch.distributed as dist"
   ]
  },
  {
   "cell_type": "code",
   "execution_count": null,
   "id": "9de9be2b-c66a-45ae-9b00-22bc0765962b",
   "metadata": {},
   "outputs": [],
   "source": [
    "if dist.get_rank() == 0:\n",
    "    dist.send(x, dst=1)\n",
    "elif dist.get_rank() == 1:\n",
    "    dist.recv(tensor_will_received_data, src=0)"
   ]
  },
  {
   "cell_type": "code",
   "execution_count": null,
   "id": "2a9307c7-ac86-45ff-b58d-ad5831f1464b",
   "metadata": {},
   "outputs": [],
   "source": [
    "def by_column_parallelism(x, y):\n",
    "    n_cols = y.shape[-1]\n",
    "    \n",
    "    y1, y2 = "
   ]
  },
  {
   "cell_type": "code",
   "execution_count": null,
   "id": "a2f9ebb0-7ebd-4ad1-bbdd-c476c291b4ce",
   "metadata": {},
   "outputs": [],
   "source": [
    "import torch.distributed as dist"
   ]
  },
  {
   "cell_type": "code",
   "execution_count": null,
   "id": "a1a6cc57-a61f-4736-b2ce-67bad8061f44",
   "metadata": {},
   "outputs": [],
   "source": [
    "if dist.get_rank() == 69:\n",
    "    request = dist.isend(x, dst=42)\n",
    "elif dist.getrank() == 42:\n",
    "    request = dist.irecv(tensor_will_be_received_data, src=69)"
   ]
  },
  {
   "cell_type": "code",
   "execution_count": null,
   "id": "2d9062f2-c9cf-45c8-b68a-631b65967f42",
   "metadata": {},
   "outputs": [],
   "source": [
    "message passing, p2p, collective communication"
   ]
  },
  {
   "cell_type": "code",
   "execution_count": null,
   "id": "cdfdde6e-8902-43a0-8e84-a9859025de37",
   "metadata": {},
   "outputs": [],
   "source": [
    "broadcast, scatter, reduce, gather"
   ]
  },
  {
   "cell_type": "code",
   "execution_count": null,
   "id": "8efefce9-ea9c-41d6-9e0b-84279b5a71ec",
   "metadata": {},
   "outputs": [],
   "source": [
    "def by_row_parallelism(inputs, weights):\n",
    "    n_cols = weight.shape[-1]\n",
    "    \n",
    "    x1, x2 = inputs[:, :n_cols//2], inputs[:, n_cols//2:]\n",
    "    y1, y2 = weights[:n_cols//2, :], weights[n_cols//2:, :]\n",
    "    \n",
    "    out1 = x1 @ y1\n",
    "    out2 = x2 @ y2\n",
    "    \n",
    "    return out1 + out2"
   ]
  },
  {
   "cell_type": "code",
   "execution_count": null,
   "id": "678e0612-16d3-48cc-825d-1dee8f6d2682",
   "metadata": {},
   "outputs": [],
   "source": [
    "class Model(nn.Module):\n",
    "    def forward(self, x, labels):\n",
    "        outputs = self.net(x)\n",
    "        loss = loss_func(outputs, labels)\n",
    "        return outputs, loss"
   ]
  },
  {
   "cell_type": "code",
   "execution_count": null,
   "id": "229e0c79-6cd2-4cb7-9291-4a40253c57e5",
   "metadata": {},
   "outputs": [],
   "source": [
    "import torch.distributed as dist"
   ]
  },
  {
   "cell_type": "code",
   "execution_count": null,
   "id": "69a43380-a1fa-47df-b902-9ca1b2e9de7d",
   "metadata": {},
   "outputs": [],
   "source": [
    "dist.broadcast(x, src=0)"
   ]
  },
  {
   "cell_type": "markdown",
   "id": "8e1c1080-4fdc-43eb-ba9e-7d2f97737fda",
   "metadata": {},
   "source": [
    "### AI"
   ]
  },
  {
   "cell_type": "code",
   "execution_count": null,
   "id": "b2321b40-e3d4-4c02-b519-0fd7e266aad2",
   "metadata": {},
   "outputs": [],
   "source": [
    "import torch\n",
    "from torch import nn\n",
    "import torch.nn.functional as F"
   ]
  },
  {
   "cell_type": "code",
   "execution_count": null,
   "id": "fb0d58c2-e3ea-41f4-b612-943db29c5aaa",
   "metadata": {},
   "outputs": [],
   "source": [
    "dist.send()"
   ]
  },
  {
   "cell_type": "code",
   "execution_count": null,
   "id": "ddf7e30a-895e-4962-86f5-f801989013c1",
   "metadata": {},
   "outputs": [],
   "source": [
    "dist.init_process_group()"
   ]
  },
  {
   "cell_type": "code",
   "execution_count": null,
   "id": "f2cebd7c-bdba-4622-b006-117649ff5c30",
   "metadata": {},
   "outputs": [],
   "source": [
    "dist.isend()"
   ]
  },
  {
   "cell_type": "code",
   "execution_count": null,
   "id": "e9138f18-9e6d-4a01-ba6a-33473b502d3c",
   "metadata": {},
   "outputs": [],
   "source": [
    "dist.broadcast()"
   ]
  },
  {
   "cell_type": "code",
   "execution_count": null,
   "id": "4a98aac5-dbe6-4162-a8de-1fb4f50ae47d",
   "metadata": {},
   "outputs": [],
   "source": [
    "torch."
   ]
  },
  {
   "cell_type": "code",
   "execution_count": null,
   "id": "25909692-716c-492d-a498-e4d25260e439",
   "metadata": {},
   "outputs": [],
   "source": [
    "weights = attn_weights.diagonal(dim1=-2, dim2=-1, offset=-1)"
   ]
  },
  {
   "cell_type": "code",
   "execution_count": null,
   "id": "dd2975de-06de-4e34-bf4a-0ba43b01d66f",
   "metadata": {},
   "outputs": [],
   "source": [
    "from torch import nn"
   ]
  },
  {
   "cell_type": "code",
   "execution_count": null,
   "id": "7c77d0be-6cc7-43fa-8ee5-0a192586efab",
   "metadata": {},
   "outputs": [],
   "source": [
    "nn.parallel.replicate()"
   ]
  },
  {
   "cell_type": "code",
   "execution_count": null,
   "id": "a4500db7-a0d7-40b5-83da-9e8589330fb3",
   "metadata": {},
   "outputs": [],
   "source": [
    "break the activations into features, break the weights into circuit using features"
   ]
  },
  {
   "cell_type": "code",
   "execution_count": null,
   "id": "8820076d-12bc-43fc-bb38-0b3cbf0ce694",
   "metadata": {},
   "outputs": [],
   "source": [
    "from torch import einsum"
   ]
  },
  {
   "cell_type": "code",
   "execution_count": null,
   "id": "f5ecf3d7-feb8-4998-87ff-f61c47f89b72",
   "metadata": {},
   "outputs": [],
   "source": [
    "output = einsum(a, \"ij->ji\")"
   ]
  },
  {
   "cell_type": "code",
   "execution_count": null,
   "id": "b5671d88-4e70-44b3-a495-d52afe09d26d",
   "metadata": {},
   "outputs": [],
   "source": [
    "from transformer_lens import "
   ]
  },
  {
   "cell_type": "code",
   "execution_count": null,
   "id": "06b223ad-4df2-4e8b-938c-2554f679a44b",
   "metadata": {},
   "outputs": [],
   "source": [
    "def hook_func(act, hook):\n",
    "    clean = clean_acts[hook.name]\n",
    "    act[:, 1, :] = clean[:, 1, :]\n",
    "    return act"
   ]
  },
  {
   "cell_type": "code",
   "execution_count": null,
   "id": "d8f68426-6b2d-4b7a-a8aa-17ce7ffa143c",
   "metadata": {},
   "outputs": [],
   "source": [
    "model.run_with_hooks(\n",
    "    corrupted_tokens,\n",
    "    fwd_hooks=[(hook_func, hook_name)]\n",
    ")"
   ]
  },
  {
   "cell_type": "code",
   "execution_count": null,
   "id": "156fb5c4-478c-426b-8eb7-2738a48cf2a9",
   "metadata": {},
   "outputs": [],
   "source": [
    "text encoder, image encoder, projection head"
   ]
  },
  {
   "cell_type": "code",
   "execution_count": null,
   "id": "c106dff2-9484-47b7-854a-cb9ac7f50691",
   "metadata": {},
   "outputs": [],
   "source": [
    "from einops import repeat"
   ]
  },
  {
   "cell_type": "code",
   "execution_count": null,
   "id": "079fd4bc-5ff8-4d96-a867-c4abe4e113d5",
   "metadata": {},
   "outputs": [],
   "source": [
    "output = repeat(x, \"c h w -> c h w n\", n=2)"
   ]
  },
  {
   "cell_type": "code",
   "execution_count": null,
   "id": "5529f4b9-1e8e-4d6e-8a79-3eeb353ff7be",
   "metadata": {},
   "outputs": [],
   "source": [
    "torch.cuda.current_device()"
   ]
  },
  {
   "cell_type": "code",
   "execution_count": null,
   "id": "3165aefb-5cbe-4958-b8b2-f922cecd3eb3",
   "metadata": {},
   "outputs": [],
   "source": [
    "from transformers import AutoTokenizer, AutoModel"
   ]
  },
  {
   "cell_type": "code",
   "execution_count": null,
   "id": "0026f5bb-039e-4729-b904-30f144edfdf0",
   "metadata": {},
   "outputs": [],
   "source": [
    "tokenizer = AutoTokenizer.from_pretrained(\"gpt2\")"
   ]
  },
  {
   "cell_type": "code",
   "execution_count": null,
   "id": "921b49ff-81e5-4ce3-94c8-863a0d794413",
   "metadata": {},
   "outputs": [],
   "source": [
    "model = AutoModel.from_pretrained(\"gpt2\")"
   ]
  },
  {
   "cell_type": "code",
   "execution_count": null,
   "id": "6f262509-14d9-4a8c-86df-9bbfc9672715",
   "metadata": {},
   "outputs": [],
   "source": [
    "inputs = tokenizer(sentence, return_tensors=\"pt\")"
   ]
  },
  {
   "cell_type": "code",
   "execution_count": null,
   "id": "7a5f790f-0224-4f2d-aacc-920747266e40",
   "metadata": {},
   "outputs": [],
   "source": [
    "preds = model(\n",
    "    input_ids=inputs[\"input_ids\"],\n",
    "    attention_mask=inputs[\"attention_mask\"]\n",
    ")"
   ]
  },
  {
   "cell_type": "code",
   "execution_count": null,
   "id": "68b701f3-db53-45e4-9da6-6cdd17adec89",
   "metadata": {},
   "outputs": [],
   "source": [
    "torch.topk(x, dim=-1, k=6)"
   ]
  },
  {
   "cell_type": "code",
   "execution_count": null,
   "id": "a2a68f2c-c805-441b-8542-906cb1e76d31",
   "metadata": {},
   "outputs": [],
   "source": [
    "text encoder, image encoder, projection head"
   ]
  },
  {
   "cell_type": "code",
   "execution_count": null,
   "id": "8f2f7e81-3ec8-4aab-bd6f-f6a56cf59323",
   "metadata": {},
   "outputs": [],
   "source": [
    "from einops import repeat"
   ]
  },
  {
   "cell_type": "code",
   "execution_count": null,
   "id": "02395cf7-53ca-4a80-9398-f9b76f689812",
   "metadata": {},
   "outputs": [],
   "source": [
    "output = repeat(x, \"h w -> h w *\")"
   ]
  },
  {
   "cell_type": "code",
   "execution_count": null,
   "id": "b340c3ce-1b2b-4e68-921b-cadde9fbf758",
   "metadata": {},
   "outputs": [],
   "source": [
    "pred_values = q_network(states, actions)\n",
    "\n",
    "actual_values = get_reward(states, actions) + gamma*v_nework(states+1).mean()"
   ]
  },
  {
   "cell_type": "code",
   "execution_count": null,
   "id": "a9348fd2-51f6-49a9-80d2-1de7a2b25473",
   "metadata": {},
   "outputs": [],
   "source": [
    "0.5*(pred_values - actual_values).pow(2)"
   ]
  },
  {
   "cell_type": "code",
   "execution_count": null,
   "id": "3757424f-2e91-4fa8-87c2-3a6a7c405843",
   "metadata": {},
   "outputs": [],
   "source": [
    "dist.broadcast()"
   ]
  },
  {
   "cell_type": "code",
   "execution_count": null,
   "id": "95010088-d306-4b95-acca-389ee6e5e4b3",
   "metadata": {},
   "outputs": [],
   "source": [
    "from einops import repeat"
   ]
  },
  {
   "cell_type": "code",
   "execution_count": null,
   "id": "37ab1c15-3c18-4d38-bfbc-2fe1ec3b13ba",
   "metadata": {},
   "outputs": [],
   "source": [
    "repeat(x, \"h w -> hw\")"
   ]
  },
  {
   "cell_type": "code",
   "execution_count": null,
   "id": "446b743c-8501-4416-a9d4-66bd28c2756f",
   "metadata": {},
   "outputs": [],
   "source": [
    "torch.cuda.set_device()"
   ]
  },
  {
   "cell_type": "code",
   "execution_count": null,
   "id": "701d68f2-a164-458b-8577-e16dd96fb39d",
   "metadata": {},
   "outputs": [],
   "source": [
    "dist.scatter()"
   ]
  },
  {
   "cell_type": "code",
   "execution_count": null,
   "id": "f6a59b1f-daee-4cc7-b05f-f5a65d694c69",
   "metadata": {},
   "outputs": [],
   "source": [
    "dist.recv()"
   ]
  },
  {
   "cell_type": "code",
   "execution_count": null,
   "id": "c8b9473e-3833-4bc5-a3b8-e584623413b3",
   "metadata": {},
   "outputs": [],
   "source": [
    "def dropout_layer(x, prob):\n",
    "    assert 0 <= prob <= 1\n",
    "    if prob == 0:\n",
    "        return torch.zero_likes(x)\n",
    "    \n",
    "    mask = (torch.randn(x.shape) > x).float()\n",
    "    \n",
    "    return (mask*x) / (1-prob)"
   ]
  },
  {
   "cell_type": "code",
   "execution_count": null,
   "id": "25169100-4efd-4f51-b631-63d5ee8083b5",
   "metadata": {},
   "outputs": [],
   "source": [
    "dist.get_rank()"
   ]
  },
  {
   "cell_type": "code",
   "execution_count": null,
   "id": "9808d825-b737-46ca-a3be-265aa15b250f",
   "metadata": {},
   "outputs": [],
   "source": [
    "nn.parallel.replicate()"
   ]
  },
  {
   "cell_type": "code",
   "execution_count": null,
   "id": "e97416c4-ca51-4446-b12a-64939a1808ec",
   "metadata": {},
   "outputs": [],
   "source": [
    "dist.get_world_size()"
   ]
  },
  {
   "cell_type": "code",
   "execution_count": null,
   "id": "018e3204-274e-42d2-a5e4-ee978992789b",
   "metadata": {},
   "outputs": [],
   "source": [
    "dist.send()"
   ]
  },
  {
   "cell_type": "code",
   "execution_count": null,
   "id": "1e921da0-4fbd-4eec-8955-69ff6e33dc57",
   "metadata": {},
   "outputs": [],
   "source": [
    "dist.isend()"
   ]
  },
  {
   "cell_type": "code",
   "execution_count": null,
   "id": "0613c84b-f70a-4819-96f3-d3ea5349ec5e",
   "metadata": {},
   "outputs": [],
   "source": [
    "dist.reduce()"
   ]
  }
 ],
 "metadata": {
  "kernelspec": {
   "display_name": "Python 3 (ipykernel)",
   "language": "python",
   "name": "python3"
  }
 },
 "nbformat": 4,
 "nbformat_minor": 5
}
