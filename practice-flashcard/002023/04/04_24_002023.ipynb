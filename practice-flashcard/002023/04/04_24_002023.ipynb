{
 "cells": [
  {
   "cell_type": "markdown",
   "id": "abb05ffe-dc34-4eca-b2eb-853dc7f0fc6c",
   "metadata": {},
   "source": [
    "### Sci"
   ]
  },
  {
   "cell_type": "code",
   "execution_count": null,
   "id": "de889e18-90bb-4091-8746-4fa54b05f37f",
   "metadata": {},
   "outputs": [],
   "source": [
    "motor imagery, stimulus-evoke, population, "
   ]
  },
  {
   "cell_type": "markdown",
   "id": "76d480e9-9a3d-4d76-b83c-68760374050f",
   "metadata": {},
   "source": [
    "### ML Engineering"
   ]
  },
  {
   "cell_type": "code",
   "execution_count": null,
   "id": "e3f6a55e-f30b-44fe-9b01-b2714814fe22",
   "metadata": {},
   "outputs": [],
   "source": [
    "from metaflow import FlowSpec, step"
   ]
  },
  {
   "cell_type": "code",
   "execution_count": null,
   "id": "a50eb360-3c5b-4984-9789-0a181c8cbdc7",
   "metadata": {},
   "outputs": [],
   "source": [
    "class Training(FlowSpec):\n",
    "    @step\n",
    "    def start(self):\n",
    "        self.next(self.train)\n",
    "    \n",
    "    @step\n",
    "    def train(self):\n",
    "        train()\n",
    "        self.next(self.end)\n",
    "    \n",
    "    @step\n",
    "    def end(self): pass"
   ]
  },
  {
   "cell_type": "code",
   "execution_count": null,
   "id": "663b9565-0f01-4b27-b39d-80bd3c67c7dc",
   "metadata": {},
   "outputs": [],
   "source": [
    "from prefect.deployments import Deployment"
   ]
  },
  {
   "cell_type": "code",
   "execution_count": null,
   "id": "79ee5b25-4d9f-49da-b197-e109c52042a8",
   "metadata": {},
   "outputs": [],
   "source": [
    "deployment_dev = Deployment.build_from_flow(\n",
    "    flow_training,\n",
    "    name=\"model_training-dev\"\n",
    ")"
   ]
  },
  {
   "cell_type": "code",
   "execution_count": null,
   "id": "d690af2e-adfd-4fa9-9142-aeabd7eed061",
   "metadata": {},
   "outputs": [],
   "source": [
    "from sqlalchemy.orm import sessionmaker"
   ]
  },
  {
   "cell_type": "code",
   "execution_count": null,
   "id": "6bd76c8d-38dd-4dcc-bd64-c433bebb8ac8",
   "metadata": {},
   "outputs": [],
   "source": [
    "Session = sessionmaker(bind=engine)"
   ]
  },
  {
   "cell_type": "code",
   "execution_count": null,
   "id": "a828fe8d-7edf-4111-95b2-71ea3e91e8e6",
   "metadata": {},
   "outputs": [],
   "source": [
    "session = Session()"
   ]
  },
  {
   "cell_type": "code",
   "execution_count": null,
   "id": "6c05ae14-6d79-4982-a0aa-405a711f85a7",
   "metadata": {},
   "outputs": [],
   "source": [
    "session.add(user)"
   ]
  },
  {
   "cell_type": "code",
   "execution_count": null,
   "id": "9c5aa77b-ed7f-4afd-95fb-e4314036e789",
   "metadata": {},
   "outputs": [],
   "source": [
    "session.commit()"
   ]
  },
  {
   "cell_type": "code",
   "execution_count": null,
   "id": "2d243bfa-e4b0-4b69-83a8-a12f9b70f0ac",
   "metadata": {},
   "outputs": [],
   "source": [
    "class Car(FourWheel):\n",
    "    def __init__(self):\n",
    "        Robot.__init__(self)\n",
    "        Vehicle.__init__(self)"
   ]
  },
  {
   "cell_type": "code",
   "execution_count": null,
   "id": "692d6027-7caa-4c8d-b91e-28613a61e9e9",
   "metadata": {},
   "outputs": [],
   "source": [
    "from prefect import task"
   ]
  },
  {
   "cell_type": "code",
   "execution_count": null,
   "id": "7f335024-9962-49f4-9703-c96589056f70",
   "metadata": {},
   "outputs": [],
   "source": [
    "@task\n",
    "def hello():\n",
    "    print"
   ]
  },
  {
   "cell_type": "code",
   "execution_count": null,
   "id": "ebd57f25-0ab6-4167-8c1f-91ac50e42397",
   "metadata": {},
   "outputs": [],
   "source": [
    "from prefect import flow\n",
    "from prefect.task_runners import SequentialTaskRunner"
   ]
  },
  {
   "cell_type": "code",
   "execution_count": null,
   "id": "37497e79-1f3c-4312-9730-b621395d7d53",
   "metadata": {},
   "outputs": [],
   "source": [
    "@flow(task_runner=SequentialTaskRunner())\n",
    "def my_flow():\n",
    "    print_values(111)\n",
    "    print_values(222)"
   ]
  },
  {
   "cell_type": "code",
   "execution_count": null,
   "id": "a5dacd24-9df6-4ec6-85aa-58847feb34e2",
   "metadata": {},
   "outputs": [],
   "source": [
    "from metaflow import FlowSpec, step"
   ]
  },
  {
   "cell_type": "code",
   "execution_count": null,
   "id": "c439165b-463f-4d67-be36-cd64c24136c4",
   "metadata": {},
   "outputs": [],
   "source": [
    "class TrainingFlow(FlowSpec):\n",
    "    @step\n",
    "    def start(self):\n",
    "        self.next(self.train, self.eval)\n",
    "    \n",
    "    @step\n",
    "    def train(self):\n",
    "        self.next(join)\n",
    "    \n",
    "    @step\n",
    "    def eval(self):\n",
    "        self.next(join)\n",
    "    \n",
    "    @step\n",
    "    def join(self, inputs):\n",
    "        self.next(self.end)\n",
    "    \n",
    "    @step\n",
    "    def end(self): pass"
   ]
  },
  {
   "cell_type": "code",
   "execution_count": null,
   "id": "40c25d7f-415f-40b4-8a1d-36e0f181005d",
   "metadata": {},
   "outputs": [],
   "source": [
    "from metaflow import Parameter"
   ]
  },
  {
   "cell_type": "code",
   "execution_count": null,
   "id": "f2d3b245-753f-42cf-92f9-98874b66f9ac",
   "metadata": {},
   "outputs": [],
   "source": [
    "class Flow(FlowSpec):\n",
    "    secret = Parameter(name=\"secret\")\n",
    "    \n",
    "    @step\n",
    "    def start(self):\n",
    "        self.next(self.train)\n",
    "    \n",
    "    @step\n",
    "    def train(self):\n",
    "        self.next(self.end)\n",
    "    \n",
    "    @step\n",
    "    def end(self): pass"
   ]
  },
  {
   "cell_type": "code",
   "execution_count": null,
   "id": "68ecc26d-3583-4692-ae47-32849f4b2ae0",
   "metadata": {},
   "outputs": [],
   "source": [
    "from prefect import task"
   ]
  },
  {
   "cell_type": "code",
   "execution_count": null,
   "id": "b43e837f-78df-4617-bdcf-755eebbc01e7",
   "metadata": {},
   "outputs": [],
   "source": [
    "@task\n",
    "def hello():\n",
    "    print(42)"
   ]
  },
  {
   "cell_type": "markdown",
   "id": "e5305aea-f15a-4b4a-83af-5ca0614c8f79",
   "metadata": {},
   "source": [
    "### AI"
   ]
  },
  {
   "cell_type": "code",
   "execution_count": null,
   "id": "ddd5ccb4-76d6-4da5-9fcc-a5d1266b296f",
   "metadata": {},
   "outputs": [],
   "source": [
    "import torch\n",
    "from torch import nn\n",
    "import torch.nn.functional as F"
   ]
  },
  {
   "cell_type": "code",
   "execution_count": null,
   "id": "b373535a-cc4f-43c8-a6c2-e8f23b4bf910",
   "metadata": {},
   "outputs": [],
   "source": [
    "import torch.distributed as dist"
   ]
  },
  {
   "cell_type": "code",
   "execution_count": null,
   "id": "2b47166e-c9ec-420d-b144-15a6cb67124c",
   "metadata": {},
   "outputs": [],
   "source": [
    "dist.broadcast(x, src=0)"
   ]
  },
  {
   "cell_type": "code",
   "execution_count": null,
   "id": "69694fbd-4d78-41cb-80bf-3179b2f7bb5e",
   "metadata": {},
   "outputs": [],
   "source": [
    "import torch.multiprocessing as mp"
   ]
  },
  {
   "cell_type": "code",
   "execution_count": null,
   "id": "46a127b3-bfa3-4ed0-a190-44e277cf3dfb",
   "metadata": {},
   "outputs": [],
   "source": [
    "mp.set_start_method(\"spawn\")"
   ]
  },
  {
   "cell_type": "code",
   "execution_count": null,
   "id": "8c5a9e5e-fd2b-4cfd-8398-eb6498838732",
   "metadata": {},
   "outputs": [],
   "source": [
    "for n in range(4):\n",
    "    processor = mp.Process(target=func, args=(n,))\n",
    "    processor.start()"
   ]
  },
  {
   "cell_type": "code",
   "execution_count": null,
   "id": "b99e8b29-dfab-49d7-a370-388653639a8c",
   "metadata": {},
   "outputs": [],
   "source": [
    "step 1: split model\n",
    "step 2: split data\n",
    "step 3: "
   ]
  },
  {
   "cell_type": "code",
   "execution_count": null,
   "id": "879f5f19-f0dc-4bcd-bc22-b660bd6a9808",
   "metadata": {},
   "outputs": [],
   "source": [
    "import torch.nn.parallel as parallel"
   ]
  },
  {
   "cell_type": "code",
   "execution_count": null,
   "id": "5eed9a89-b180-4a89-a464-697a032aa1c4",
   "metadata": {},
   "outputs": [],
   "source": [
    "def data_parallel(model, input, device_ids, output_id):\n",
    "    inputs = parallel.scatter(input, device_ids)\n",
    "    models = parallel.replicate(model, device_ids)\n",
    "    \n",
    "    logit = parallel.parallel_apply(models, inputs)\n",
    "    \n",
    "    logits = parallel.gather(logit, target_device=output_id)\n",
    "    \n",
    "    return logits"
   ]
  },
  {
   "cell_type": "code",
   "execution_count": null,
   "id": "bd34b86f-adb9-4495-97a4-01d7f03d5b61",
   "metadata": {},
   "outputs": [],
   "source": [
    "message passing, p2p communication, collective communication"
   ]
  },
  {
   "cell_type": "code",
   "execution_count": null,
   "id": "9fac0c4f-6353-447e-96f1-7ae9c4a34509",
   "metadata": {},
   "outputs": [],
   "source": [
    "from torch import nn"
   ]
  },
  {
   "cell_type": "code",
   "execution_count": null,
   "id": "05e62afc-d499-421d-b119-1070b208d511",
   "metadata": {},
   "outputs": [],
   "source": [
    "def compute_forward_pass_using_data_parallelism(\n",
    "    model, input, device_ids, output_id\n",
    "):\n",
    "    inputs = nn.parallel.scatter(input, device_ids)\n",
    "    models = nn.parallel.replicate(model, device_ids)\n",
    "    \n",
    "    logit = nn.parallel.parallel_apply(models, inputs)\n",
    "    \n",
    "    logits = nn.parallel.gather(logit, output_id)\n",
    "    \n",
    "    return logits"
   ]
  },
  {
   "cell_type": "code",
   "execution_count": null,
   "id": "c162c62f-9c06-4045-8f5e-fd0c7913d3a5",
   "metadata": {},
   "outputs": [],
   "source": [
    "def by_row_parallelism(x, y):\n",
    "    n_cols = y.shape[-1]\n",
    "    \n",
    "    x1, x2 = x[:, :n_cols//2], x[:, n_cols//2:]\n",
    "    y1, y2 = y[:n_cols//2, :], x[n_cols//2:, :]\n",
    "    \n",
    "    out1 = x1 @ y2\n",
    "    out2 = x2 @ y2\n",
    "    \n",
    "    return out1 + out2"
   ]
  },
  {
   "cell_type": "code",
   "execution_count": null,
   "id": "9c4414ae-71e6-433d-8231-cd6817ed74fa",
   "metadata": {},
   "outputs": [],
   "source": [
    "import torch.distributed as dist"
   ]
  },
  {
   "cell_type": "code",
   "execution_count": null,
   "id": "49eeabea-74c8-4f68-9392-eb206e84539b",
   "metadata": {},
   "outputs": [],
   "source": [
    "if dist.get_rank() == 69:\n",
    "    request = dist.isend(x, dst=42)\n",
    "elif dist.get_rank() == 42:\n",
    "    request = dist.irecv(tensor_will_be_received_data, src=69)"
   ]
  },
  {
   "cell_type": "code",
   "execution_count": null,
   "id": "a65ae07d-e26d-411a-ad11-9db8d61ec39a",
   "metadata": {},
   "outputs": [],
   "source": [
    "import torch.distributed as dist"
   ]
  },
  {
   "cell_type": "code",
   "execution_count": null,
   "id": "b017e31f-b438-44ce-963a-2bfcdc407e6b",
   "metadata": {},
   "outputs": [],
   "source": [
    "if dist.get_rank() == 0:\n",
    "    dist.send(x, dst=1)\n",
    "elif dist.get_rank() == 1:\n",
    "    dist.recv(tensor_will_be_received_data, src=0)"
   ]
  },
  {
   "cell_type": "code",
   "execution_count": null,
   "id": "d28f3453-859a-4d60-b8e0-c6311d93daea",
   "metadata": {},
   "outputs": [],
   "source": [
    "import torch.distributed as dist"
   ]
  },
  {
   "cell_type": "code",
   "execution_count": null,
   "id": "e7433fb3-37bf-4ca0-bac4-b026f0b2b2cf",
   "metadata": {},
   "outputs": [],
   "source": [
    "dist.broadcas"
   ]
  },
  {
   "cell_type": "code",
   "execution_count": null,
   "id": "c8b2aae6-f422-48ad-9cbb-7640b9f72424",
   "metadata": {},
   "outputs": [],
   "source": [
    "def by_column_parallelism(x, y):\n",
    "    n_cols = y.shape[-1]\n",
    "    \n",
    "    y1, y2 = y[:, :n_cols//2], y[:, n_cols//2:]\n",
    "    \n",
    "    out1 = x@y1\n",
    "    out2 = x@y2\n",
    "    \n",
    "    return torch.cat([out1, out2], dim=-1)"
   ]
  },
  {
   "cell_type": "code",
   "execution_count": null,
   "id": "c792a33f-691e-4299-ab14-4bd492618fbe",
   "metadata": {},
   "outputs": [],
   "source": [
    "def by_row_parallelism(x, y):\n",
    "    n_cols = y.shape[-1]\n",
    "    \n",
    "    x1, x2 = x[:, :n_cols//2], x[:, n_cols//2]\n",
    "    y1, y2 = y[:n_cols//2, ], y[n_cols//2:, :]\n",
    "    \n",
    "    out1 = x1 @ y1\n",
    "    out2 = x2 @ y2\n",
    "    \n",
    "    out = out1 + out2\n",
    "    \n",
    "    return out"
   ]
  },
  {
   "cell_type": "code",
   "execution_count": null,
   "id": "c548d8d4-55d1-4f65-9088-77f30ef31d46",
   "metadata": {},
   "outputs": [],
   "source": [
    "import torch.distributed as dist"
   ]
  },
  {
   "cell_type": "code",
   "execution_count": null,
   "id": "1f058a72-0001-4833-9108-a94fd84c4c0d",
   "metadata": {},
   "outputs": [],
   "source": [
    "if dist.get_rank() == 69:\n",
    "    request = dist.isend(x, dst=42)\n",
    "elif dist.get_rank() == 42:\n",
    "    request = dist.irecv(tensor_will_be_received_data, src=69)"
   ]
  },
  {
   "cell_type": "code",
   "execution_count": null,
   "id": "40a74fe2-8838-4004-bc09-770325853215",
   "metadata": {},
   "outputs": [],
   "source": [
    "def by_row_parallelism(x, y):\n",
    "    n_cols = y.shape[-1]\n",
    "    \n",
    "    x1, x2 = x[:, :n_cols//2], x[:, n_cols//2:]\n",
    "    y1, y2 = y[:n_cols//2, :], y[n_cols//2:, :]\n",
    "    \n",
    "    out1 = x1 @ y1\n",
    "    out2 = x2 @ y2\n",
    "    \n",
    "    return out1 + out2"
   ]
  },
  {
   "cell_type": "code",
   "execution_count": null,
   "id": "f261ccb8-b5b2-4baa-a650-a9a7185ecd2b",
   "metadata": {},
   "outputs": [],
   "source": [
    "step 1: data\n",
    "step 2: record\n",
    "step 3: normalize\n",
    "step 4: plot"
   ]
  },
  {
   "cell_type": "code",
   "execution_count": null,
   "id": "15837be0-a7ee-41c3-97c5-932e01b6036d",
   "metadata": {},
   "outputs": [],
   "source": [
    "step 1: initial image or random noise\n",
    "step 2: define objective function (maximize a neuron activate)\n",
    "step 3: changing the input.."
   ]
  },
  {
   "cell_type": "code",
   "execution_count": null,
   "id": "35a24a93-bee0-4a78-978c-000f25bd3457",
   "metadata": {},
   "outputs": [],
   "source": [
    "nn.parallel.scatter()"
   ]
  },
  {
   "cell_type": "code",
   "execution_count": null,
   "id": "b066b5d1-f04b-4efd-8e19-e71deeb8900f",
   "metadata": {},
   "outputs": [],
   "source": [
    "from ray import tune"
   ]
  },
  {
   "cell_type": "code",
   "execution_count": null,
   "id": "2a8dc3f0-7c24-456a-903b-c8187f3d469a",
   "metadata": {},
   "outputs": [],
   "source": [
    "search_space = {\n",
    "    \"lr\": tune.uniform(0, 1),\n",
    "    \"discount_factor\": tune.uniform(0, 1)\n",
    "}"
   ]
  },
  {
   "cell_type": "code",
   "execution_count": null,
   "id": "c7b8884e-76da-44ee-b641-c0d0e699856d",
   "metadata": {},
   "outputs": [],
   "source": [
    "dist.get_rank()"
   ]
  },
  {
   "cell_type": "code",
   "execution_count": null,
   "id": "240f36db-09a4-45fb-9429-69fce8081e35",
   "metadata": {},
   "outputs": [],
   "source": [
    "layer1.weight.ka"
   ]
  },
  {
   "cell_type": "code",
   "execution_count": null,
   "id": "93ceccdd-1256-468d-b6fa-6279e9bd67f7",
   "metadata": {},
   "outputs": [],
   "source": [
    "def summary_batch(article_batch, max_context_length):\n",
    "    tokenzied_batch = tokenizer(\n",
    "        article_batch,\n",
    "        padding=True,\n",
    "        truncation=True,\n",
    "        **tokenizer_param\n",
    "    )\n",
    "    \n",
    "    outputs = model.generate(\n",
    "        input_ids=tokenzied_batch[\"input_ids\"],\n",
    "        attention_mask=tokenzied_batch[\"attention_mask\"],\n",
    "        **model_params\n",
    "    )\n",
    "    \n",
    "    summaries = [tokenizer.decode(x) for x in outputs]"
   ]
  },
  {
   "cell_type": "code",
   "execution_count": null,
   "id": "9aacbe98-2631-4e3b-8746-70beb9b31b3d",
   "metadata": {},
   "outputs": [],
   "source": [
    "broadcast, scatter, gather, reduce"
   ]
  },
  {
   "cell_type": "code",
   "execution_count": null,
   "id": "c10e687b-44de-491d-8c92-33ff36cf72a1",
   "metadata": {},
   "outputs": [],
   "source": [
    "dist.irecv()"
   ]
  },
  {
   "cell_type": "code",
   "execution_count": null,
   "id": "8facaa1e-d284-418b-893d-378a03487a5b",
   "metadata": {},
   "outputs": [],
   "source": [
    "nn.parallel.scatter()"
   ]
  },
  {
   "cell_type": "code",
   "execution_count": null,
   "id": "c8755c01-277b-42af-acdf-3f032214ae3c",
   "metadata": {},
   "outputs": [],
   "source": [
    "latent representation of the current observation, a recurrent "
   ]
  },
  {
   "cell_type": "code",
   "execution_count": null,
   "id": "0fbde529-ebc6-4e0f-bec1-c96e5ef7a067",
   "metadata": {},
   "outputs": [],
   "source": [
    "from transformers import AutoModel"
   ]
  },
  {
   "cell_type": "code",
   "execution_count": null,
   "id": "9331e660-0d9e-4342-ab8c-2269fadf0d99",
   "metadata": {},
   "outputs": [],
   "source": [
    "class CustomTokenizer(nn.Module):\n",
    "    def __init__(self, checkpoint, n_labels, dropout):\n",
    "        super().__init__()\n",
    "        self.model = AutoModel.from_pretrained(checkpoint)\n",
    "        self.dropout = nn.Dropout(dropout)\n",
    "        self.classifier = nn.Linear(768, n_labels)\n",
    "    \n",
    "    def forward(self, input_ids, attention_mask):\n",
    "        output = model(\n",
    "            input_ids=input_ids,\n",
    "            atttention_mask=attention_mask\n",
    "        )\n",
    "        \n",
    "        last_hidden_state = output.last_hidden_state\n",
    "        \n",
    "        return self.classifier(self.dropout(last_hidden_state))"
   ]
  },
  {
   "cell_type": "code",
   "execution_count": null,
   "id": "92d93139-1d83-41db-b800-b9e6aa7bc8f0",
   "metadata": {},
   "outputs": [],
   "source": [
    "class EncoderLayer(nn.Module):\n",
    "    def __init__(self, d_model, n_heads, d_ff, dropout):\n",
    "        super().__init__()\n",
    "        self.attn = MultiHeadAttention(d_model, n_heads)\n",
    "        self.norm_1 = ResidualLayerNorm(d_model, dropout)\n",
    "        self.feed_forward = PositionFeedForward(d_model, d_ff, dropout)\n",
    "        self.norm_2 = ResidualLayerNorm(d_model, dropout)\n",
    "    \n",
    "    def forward(self, x):\n",
    "        attn_output, attn_weights = self.attn(x)\n",
    "        norm_1 = self.norm_1(attn_output)\n",
    "        norm_1 = norm_1 + x\n",
    "        \n",
    "        feedforward = self.feed_forward(norm_1)\n",
    "        attn_output, _ = self.attn(feedforward)\n",
    "        out = attn_output + norm_1\n",
    "        \n",
    "        return out"
   ]
  },
  {
   "cell_type": "code",
   "execution_count": null,
   "id": "7a2e77f5-3dd0-44e6-bead-f0cf174bf874",
   "metadata": {},
   "outputs": [],
   "source": [
    "from abc import ABC, abstractclassmethod"
   ]
  },
  {
   "cell_type": "code",
   "execution_count": null,
   "id": "1eb6ca10-747d-47d7-bb8d-01e24d41442d",
   "metadata": {},
   "outputs": [],
   "source": [
    "torch.cuda.current_device()"
   ]
  },
  {
   "cell_type": "code",
   "execution_count": null,
   "id": "155d60ef-0371-464d-ab77-eb498ffd19d3",
   "metadata": {},
   "outputs": [],
   "source": [
    "dist.get_world_size()"
   ]
  },
  {
   "cell_type": "code",
   "execution_count": null,
   "id": "de5d6cc6-06b6-427d-96c5-ea075358a75c",
   "metadata": {},
   "outputs": [],
   "source": [
    "broadcast, scatter, reduce, gather"
   ]
  },
  {
   "cell_type": "code",
   "execution_count": null,
   "id": "df0bd5cf-cc2d-4394-bd1f-c008a56bdf42",
   "metadata": {},
   "outputs": [],
   "source": [
    "broadacst, scatter, reduce, gather"
   ]
  },
  {
   "cell_type": "code",
   "execution_count": null,
   "id": "6cd9d6ca-9ef7-4457-bb00-9a62594199e7",
   "metadata": {},
   "outputs": [],
   "source": [
    "torch.device.set_device()"
   ]
  },
  {
   "cell_type": "code",
   "execution_count": null,
   "id": "cb80a4cb-5fce-479c-8494-9b363993f8f5",
   "metadata": {},
   "outputs": [],
   "source": [
    "dist.broadcast()"
   ]
  },
  {
   "cell_type": "code",
   "execution_count": null,
   "id": "4c475027-ad50-4422-a143-ff07b213fa1b",
   "metadata": {},
   "outputs": [],
   "source": [
    "torch.nn.parallel.replicate()"
   ]
  },
  {
   "cell_type": "code",
   "execution_count": null,
   "id": "ca90b724-5791-4be0-a460-1467c4795945",
   "metadata": {},
   "outputs": [],
   "source": [
    "import itertools"
   ]
  },
  {
   "cell_type": "code",
   "execution_count": null,
   "id": "faa3d54c-18b9-4f06-afd9-111884d0c2de",
   "metadata": {},
   "outputs": [
    {
     "data": {
      "text/plain": [
       "['AAA',\n",
       " 'AAV',\n",
       " 'AAL',\n",
       " 'AVA',\n",
       " 'AVV',\n",
       " 'AVL',\n",
       " 'ALA',\n",
       " 'ALV',\n",
       " 'ALL',\n",
       " 'VAA',\n",
       " 'VAV',\n",
       " 'VAL',\n",
       " 'VVA',\n",
       " 'VVV',\n",
       " 'VVL',\n",
       " 'VLA',\n",
       " 'VLV',\n",
       " 'VLL',\n",
       " 'LAA',\n",
       " 'LAV',\n",
       " 'LAL',\n",
       " 'LVA',\n",
       " 'LVV',\n",
       " 'LVL',\n",
       " 'LLA',\n",
       " 'LLV',\n",
       " 'LLL']"
      ]
     },
     "execution_count": null,
     "metadata": {},
     "output_type": "execute_result"
    }
   ],
   "source": [
    "[''.join(e) for e in itertools.product(*[\"AVL\", \"AVL\", \"AVL\"])]"
   ]
  },
  {
   "cell_type": "code",
   "execution_count": null,
   "id": "7240a510-40e9-4a28-a54a-0de697daf1b3",
   "metadata": {},
   "outputs": [],
   "source": [
    "xs = [1, 2, 3]\n",
    "\n",
    "def ids():\n",
    "    return [1]\n",
    "\n",
    "ids() in xs # return False"
   ]
  },
  {
   "cell_type": "code",
   "execution_count": null,
   "id": "03d5f713-db24-47b0-ace6-4d4b8ce03156",
   "metadata": {},
   "outputs": [],
   "source": []
  },
  {
   "cell_type": "code",
   "execution_count": null,
   "id": "fd3e8185-c272-4473-bc85-c672c9a1993e",
   "metadata": {},
   "outputs": [
    {
     "data": {
      "text/plain": [
       "False"
      ]
     },
     "execution_count": null,
     "metadata": {},
     "output_type": "execute_result"
    }
   ],
   "source": [
    "ids() in xs"
   ]
  },
  {
   "cell_type": "code",
   "execution_count": null,
   "id": "d70c5adc-75aa-4026-aaea-d8d4d3a9aa7d",
   "metadata": {},
   "outputs": [],
   "source": []
  }
 ],
 "metadata": {
  "kernelspec": {
   "display_name": "Python 3 (ipykernel)",
   "language": "python",
   "name": "python3"
  }
 },
 "nbformat": 4,
 "nbformat_minor": 5
}
