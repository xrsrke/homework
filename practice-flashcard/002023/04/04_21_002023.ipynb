{
 "cells": [
  {
   "cell_type": "markdown",
   "id": "acaa7df7-ed29-4173-bd4f-275317d1faf7",
   "metadata": {},
   "source": [
    "### Science"
   ]
  },
  {
   "cell_type": "markdown",
   "id": "aff06927-4c8e-48c5-986a-5e005cd01b12",
   "metadata": {},
   "source": [
    "### ML Engineering"
   ]
  },
  {
   "cell_type": "code",
   "execution_count": null,
   "id": "441fa08b-0553-4f5c-97e0-56f291f0f4ea",
   "metadata": {},
   "outputs": [],
   "source": [
    "from sqlalchemy.orm import sessionmaker"
   ]
  },
  {
   "cell_type": "code",
   "execution_count": null,
   "id": "c557940c-4a88-402a-9d84-6e82b7ccff9f",
   "metadata": {},
   "outputs": [],
   "source": [
    "Session = session(bind=enginge)"
   ]
  },
  {
   "cell_type": "code",
   "execution_count": null,
   "id": "ba74bce3-af5c-4860-9727-f82547bb4c33",
   "metadata": {},
   "outputs": [],
   "source": [
    "session = Session()"
   ]
  },
  {
   "cell_type": "code",
   "execution_count": null,
   "id": "596d3919-6238-4dd5-bd17-760a4236a2e4",
   "metadata": {},
   "outputs": [],
   "source": [
    "session.add(user)"
   ]
  },
  {
   "cell_type": "code",
   "execution_count": null,
   "id": "1e319364-a3ea-4d51-a54a-524ca7532601",
   "metadata": {},
   "outputs": [],
   "source": [
    "session.commit()"
   ]
  },
  {
   "cell_type": "code",
   "execution_count": null,
   "id": "bb13b534-fa8e-4dc4-8cfd-e1c9ffad386c",
   "metadata": {},
   "outputs": [],
   "source": [
    "from sqlalchemy import Column, String, Integer"
   ]
  },
  {
   "cell_type": "code",
   "execution_count": null,
   "id": "ba39966f-1a98-4aa3-96e6-76692cc08129",
   "metadata": {},
   "outputs": [],
   "source": [
    "class User(Base):\n",
    "    __tablename__ = \"users\"\n",
    "    \n",
    "    id = Column(\"id\", Integer, primary_key=True)\n",
    "    username = Column(\"username\", String)"
   ]
  },
  {
   "cell_type": "code",
   "execution_count": null,
   "id": "72e45465-9205-4587-a405-f89e3f68764f",
   "metadata": {},
   "outputs": [],
   "source": [
    "session.query(User).all()"
   ]
  },
  {
   "cell_type": "code",
   "execution_count": null,
   "id": "0c30b7ee-9f13-4f0d-bc23-42fa65381e93",
   "metadata": {},
   "outputs": [],
   "source": [
    "from typing import Callable"
   ]
  },
  {
   "cell_type": "code",
   "execution_count": null,
   "id": "689c604c-49c6-4d38-b192-f7f3d25a7a71",
   "metadata": {},
   "outputs": [],
   "source": [
    "def foo(func: Callable[[int, int], int]) -> int:\n",
    "    pass"
   ]
  },
  {
   "cell_type": "markdown",
   "id": "e623b205-9aa3-4ef4-8ded-4f3f80a8eb15",
   "metadata": {},
   "source": [
    "### AI"
   ]
  },
  {
   "cell_type": "code",
   "execution_count": null,
   "id": "5a12ad01-b907-4cfc-a7d8-acdf4951f20e",
   "metadata": {},
   "outputs": [],
   "source": [
    "import torch\n",
    "from torch import nn\n",
    "import torch.nn.functional as F"
   ]
  },
  {
   "cell_type": "code",
   "execution_count": null,
   "id": "2c669b67-7f45-4add-9aa7-aea69f91ec1d",
   "metadata": {},
   "outputs": [],
   "source": [
    "from langchain.agents import AgentExecutor"
   ]
  },
  {
   "cell_type": "code",
   "execution_count": null,
   "id": "debeda1b-bfa8-4cf6-9758-fcdcfd9bd2ad",
   "metadata": {},
   "outputs": [],
   "source": [
    "diagonal = x.diagonal(dim1=-2, dim=-1)"
   ]
  },
  {
   "cell_type": "code",
   "execution_count": null,
   "id": "f00b1cb0-8184-4a0d-aa93-51bc1ee0b3a9",
   "metadata": {},
   "outputs": [],
   "source": [
    "def calculate_return(rewards, discount_reward):\n",
    "    discounted_return = 0\n",
    "    \n",
    "    for k, reward in enumerate(rewards):\n",
    "        discounted_return += (discount_reward**k)*reward\n",
    "    \n",
    "    return discounted_return"
   ]
  },
  {
   "cell_type": "code",
   "execution_count": null,
   "id": "89d40695-0fed-4a53-9595-7e934de4c4fe",
   "metadata": {},
   "outputs": [],
   "source": [
    "from ray import tune"
   ]
  },
  {
   "cell_type": "code",
   "execution_count": null,
   "id": "dca4e160-e0fb-43eb-b533-21e10b247f91",
   "metadata": {},
   "outputs": [],
   "source": [
    "search_space = {\n",
    "    \"lr\": tune.uniform(0, 1),\n",
    "    \"discount_factor\": tune.uniform(0, 1)\n",
    "}"
   ]
  },
  {
   "cell_type": "code",
   "execution_count": null,
   "id": "71d738a1-1b64-4faa-9d67-69e8f96a2f47",
   "metadata": {},
   "outputs": [],
   "source": [
    "step 1: split the model\n",
    "step 2: split batch into micro-batches\n",
    "step 3: exchange and delete missing part\n",
    "step 4: accumulated gradient\n",
    "step 5:"
   ]
  },
  {
   "cell_type": "code",
   "execution_count": null,
   "id": "05f68057-547c-4ad2-b9b5-5346b863a683",
   "metadata": {},
   "outputs": [],
   "source": [
    "step 1: normalize the loss\n",
    "step 2: compute the gradient of the normalized loss\n",
    "step 3: sum it with the previous accmuluated gradeint\n",
    "step 4: if"
   ]
  },
  {
   "cell_type": "code",
   "execution_count": null,
   "id": "ea98b3dd-8549-4eba-b511-730608fa56a1",
   "metadata": {},
   "outputs": [],
   "source": [
    "from einops import repeat"
   ]
  },
  {
   "cell_type": "code",
   "execution_count": null,
   "id": "0b143974-c1f5-40c5-a7c5-092d8fbbc247",
   "metadata": {},
   "outputs": [],
   "source": [
    "output = repeat(x, \"h w -> h w *\", h)"
   ]
  },
  {
   "cell_type": "code",
   "execution_count": null,
   "id": "8a91ef74-b48e-40aa-b1da-66aab083719a",
   "metadata": {},
   "outputs": [],
   "source": [
    "def dropout_layer(x, prob):\n",
    "    assert 0 <= prob <= 1\n",
    "    \n",
    "    if prob == 1:\n",
    "        return torch.zeros_like(x.shape)\n",
    "    \n",
    "    mask = (torch.randn(x.shape) > dropout).float()\n",
    "    return (x*mask) / (1-prob)"
   ]
  },
  {
   "cell_type": "code",
   "execution_count": null,
   "id": "8211d7be-22d4-4d1d-aa01-81beafa6d003",
   "metadata": {},
   "outputs": [],
   "source": [
    "step 1: "
   ]
  },
  {
   "cell_type": "code",
   "execution_count": null,
   "id": "0065b747-56c1-49bf-b971-2661078e708d",
   "metadata": {},
   "outputs": [],
   "source": [
    "encoded_text = tokenizer(batch[\"text\"], padding=True)"
   ]
  },
  {
   "cell_type": "code",
   "execution_count": null,
   "id": "0898a941-e696-47a3-9275-d6df7a10b31a",
   "metadata": {},
   "outputs": [],
   "source": [
    "class EncoderLayer(nn.Module):\n",
    "    def __init__(self, d_model, n_heads, d_ff, dropout):\n",
    "        super().__init__()\n",
    "        "
   ]
  },
  {
   "cell_type": "code",
   "execution_count": null,
   "id": "382116c5-e916-4fe2-9198-de33907abbc1",
   "metadata": {},
   "outputs": [],
   "source": [
    "class BatchNorm(nn.Module):\n",
    "    def __init__(self, mom, eps):\n",
    "        super().__init__()\n",
    "        self.mom, self.eps = mom, eps\n",
    "        self.adds = nn.Parameter(torch.zeros(1))\n",
    "        self.mults = nn.Parameter(torch.ones(1))\n",
    "        self.register_buffer(\"means\", torch.zeros(1))\n",
    "        self.register_buffer(\"vars\", torch.ones(1))\n",
    "    \n",
    "    def update_stats(self, x):\n",
    "        m = x.mean(keepdim=True, dim=-1)\n",
    "        v = x.var(keepdim=True, dim=-1)\n",
    "        \n",
    "        self.means.lerp_(m, self.mom)\n",
    "        self.vars.lerp_(v, self.var)\n",
    "        \n",
    "        return m, v\n",
    "    \n",
    "    def forward(self, x):\n",
    "        with torch.no_grad():\n",
    "            mean, var = self.update_stats(x)\n",
    "        \n",
    "        x = (x-mean) / (self.eps + var)\n",
    "        \n",
    "        return self.mults*x + self.adds"
   ]
  },
  {
   "cell_type": "code",
   "execution_count": null,
   "id": "2c569fc5-2df2-4df8-a5fd-b2bd370b996e",
   "metadata": {},
   "outputs": [],
   "source": [
    "step 1: make a fp16 and fp32 copy of the weight\n",
    "step 2: compute the forward and backward pass\n",
    "step 3: cast the gradient to f32\n",
    "step 4: update the parameters using fp32 gradient and f32 weight\n",
    "step 5: repeat step 1"
   ]
  },
  {
   "cell_type": "code",
   "execution_count": null,
   "id": "5ecdfbc1-c784-49a8-8073-fd9eecbfc1fd",
   "metadata": {},
   "outputs": [],
   "source": [
    "step 1: scale the loss by multiply\n",
    "step 2: compute the gradient of the scaled loss\n",
    "stpe 3: unscale the gradient\n",
    "step 4: update model parameters with repsect to unscaled gradient"
   ]
  },
  {
   "cell_type": "code",
   "execution_count": null,
   "id": "f35bb905-5882-4552-a7a9-c0a445630f05",
   "metadata": {},
   "outputs": [],
   "source": []
  }
 ],
 "metadata": {
  "kernelspec": {
   "display_name": "Python 3 (ipykernel)",
   "language": "python",
   "name": "python3"
  }
 },
 "nbformat": 4,
 "nbformat_minor": 5
}
