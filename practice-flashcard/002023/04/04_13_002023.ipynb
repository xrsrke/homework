{
 "cells": [
  {
   "cell_type": "markdown",
   "id": "82ddb708-8638-41ea-8ab4-5466876b33d4",
   "metadata": {},
   "source": [
    "### Science"
   ]
  },
  {
   "cell_type": "code",
   "execution_count": null,
   "id": "57995b3f-09b4-4181-9656-8b43df0a0f7d",
   "metadata": {},
   "outputs": [],
   "source": [
    "was/were sub v_ing?"
   ]
  },
  {
   "cell_type": "code",
   "execution_count": null,
   "id": "ec8d2d80-7cec-47b9-aa16-f4d6afa8c6b1",
   "metadata": {},
   "outputs": [],
   "source": [
    "record all\n",
    "maps\n",
    "reward\n",
    "repeat"
   ]
  },
  {
   "cell_type": "code",
   "execution_count": null,
   "id": "7f212fd6-19e4-4218-85d8-6bfae83558b5",
   "metadata": {},
   "outputs": [],
   "source": []
  },
  {
   "cell_type": "code",
   "execution_count": null,
   "id": "0c867546-7db2-49a8-92c7-c64e25ebad90",
   "metadata": {},
   "outputs": [],
   "source": [
    "point, frameshift, silience"
   ]
  },
  {
   "cell_type": "code",
   "execution_count": null,
   "id": "5bb0cc6a-69c0-4033-b02e-db6d908d6fdc",
   "metadata": {},
   "outputs": [],
   "source": [
    "electric, light"
   ]
  },
  {
   "cell_type": "markdown",
   "id": "0a3e7b61-e483-495f-b07f-644229faf3a0",
   "metadata": {},
   "source": [
    "### ML Engineering"
   ]
  },
  {
   "cell_type": "code",
   "execution_count": null,
   "id": "e4a7d5ce-d208-414c-8123-5cc9c20863c8",
   "metadata": {},
   "outputs": [],
   "source": [
    "from prefect import task"
   ]
  },
  {
   "cell_type": "code",
   "execution_count": null,
   "id": "d67dfc6a-6d88-4e01-ab98-99855228d45b",
   "metadata": {},
   "outputs": [],
   "source": [
    "@task\n",
    "def hello():\n",
    "    print(42)"
   ]
  },
  {
   "cell_type": "code",
   "execution_count": null,
   "id": "0cdca8a7-9194-40fc-a2e7-565a779f66ca",
   "metadata": {},
   "outputs": [
    {
     "data": {
      "text/plain": [
       "<prefect.tasks.Task>"
      ]
     },
     "execution_count": null,
     "metadata": {},
     "output_type": "execute_result"
    }
   ],
   "source": [
    "hello"
   ]
  },
  {
   "cell_type": "code",
   "execution_count": null,
   "id": "ac3e9c65-5cf0-4a6e-8050-e63b3de8f9a4",
   "metadata": {},
   "outputs": [],
   "source": [
    "docker rm redis:22.2"
   ]
  },
  {
   "cell_type": "code",
   "execution_count": null,
   "id": "820225b4-175b-48b5-9890-db0d49d48630",
   "metadata": {},
   "outputs": [],
   "source": [
    "terraform apply"
   ]
  },
  {
   "cell_type": "code",
   "execution_count": null,
   "id": "f8c8e781-8fc2-45a7-b14b-0e5389d2f835",
   "metadata": {},
   "outputs": [],
   "source": [
    "from prefect.deployments import Deployment"
   ]
  },
  {
   "cell_type": "code",
   "execution_count": null,
   "id": "8ab3848d-74ba-4b18-a96f-98707ad344f4",
   "metadata": {},
   "outputs": [],
   "source": [
    "Deployment.build_from_flow(\n",
    "    flow=training,\n",
    "    name=\"model_training-dev\"\n",
    ")"
   ]
  },
  {
   "cell_type": "code",
   "execution_count": null,
   "id": "e0292bed-21e6-44fc-a01e-374bed823e39",
   "metadata": {},
   "outputs": [],
   "source": [
    "is_string(thing::String) = true"
   ]
  },
  {
   "cell_type": "code",
   "execution_count": null,
   "id": "fa81a271-a13f-4f7d-ab28-df8e9adb92f3",
   "metadata": {},
   "outputs": [],
   "source": [
    "rmdir datablock"
   ]
  },
  {
   "cell_type": "code",
   "execution_count": null,
   "id": "2bbb16d5-3009-4574-9fd0-c69f9738b53a",
   "metadata": {},
   "outputs": [],
   "source": [
    "from prefect import flow"
   ]
  },
  {
   "cell_type": "code",
   "execution_count": null,
   "id": "0060cbac-f470-46bb-92b0-bb63e89bbe6c",
   "metadata": {},
   "outputs": [],
   "source": [
    "@flow\n",
    "def run_workflow():\n",
    "    start_x()\n",
    "    stop_x()"
   ]
  },
  {
   "cell_type": "code",
   "execution_count": null,
   "id": "c15dc6c8-7862-4b4e-a161-36162ca68330",
   "metadata": {},
   "outputs": [],
   "source": [
    "from prefect import flow\n",
    "from prefect.task_runners import SequentialTaskRunner"
   ]
  },
  {
   "cell_type": "code",
   "execution_count": null,
   "id": "7d7da7b3-274b-46ca-8ce2-4e6c2acc2de8",
   "metadata": {},
   "outputs": [],
   "source": [
    "@flow(task_runner=SequentialTaskRunner)\n",
    "def my_flow():\n",
    "    print_values(1111)\n",
    "    print_values(112211)"
   ]
  },
  {
   "cell_type": "code",
   "execution_count": null,
   "id": "6fa2469d-e25f-4232-9b7e-4dcc0130032c",
   "metadata": {},
   "outputs": [],
   "source": [
    "from metaflow import FlowSpec, step\n",
    "from metaflow import Parameter"
   ]
  },
  {
   "cell_type": "code",
   "execution_count": null,
   "id": "d444024a-f761-4610-809a-999fc4a2940d",
   "metadata": {},
   "outputs": [],
   "source": [
    "class Flow(FlowSpec):\n",
    "    secret = Parameter(name=\"secret\")\n",
    "    \n",
    "    @step\n",
    "    def start(self):\n",
    "        self.next(self.train)\n",
    "    \n",
    "    @step\n",
    "    def train(self):\n",
    "        print(f\"secrete {self.secret}\")\n",
    "        self.next(self.end)\n",
    "    \n",
    "    @step\n",
    "    def end(self):\n",
    "        pass"
   ]
  },
  {
   "cell_type": "code",
   "execution_count": null,
   "id": "53ade224-8742-4800-919b-bad5ff273a12",
   "metadata": {},
   "outputs": [],
   "source": [
    "from metaflow import FlowSpec"
   ]
  },
  {
   "cell_type": "code",
   "execution_count": null,
   "id": "3f4f6d61-2a57-4cde-95a5-338d0db5e9b4",
   "metadata": {},
   "outputs": [],
   "source": [
    "class Training(FlowSpec):\n",
    "    @step\n",
    "    def start(self): self.next(self.train)\n",
    "    \n",
    "    @step\n",
    "    def train(self):\n",
    "        train()\n",
    "        self."
   ]
  },
  {
   "cell_type": "code",
   "execution_count": null,
   "id": "5eafbdbb-56c4-44e3-9a5a-0a5e20d8f0a7",
   "metadata": {},
   "outputs": [],
   "source": [
    "class TrainingFlow(FlowSpec):\n",
    "    @step\n",
    "    def start(self):\n",
    "        self.next(self.train, self.eval)\n",
    "    \n",
    "    @step\n",
    "    def train(self):\n",
    "        print(\"training...\")\n",
    "        self.next(self.join)\n",
    "    \n",
    "    @step\n",
    "    def eval(self):\n",
    "        print(\"evaluating...\")\n",
    "        self.next(self.join)\n",
    "    \n",
    "    @step\n",
    "    def join(self, inputs):\n",
    "        self.next(self.end)\n",
    "    \n",
    "    @step\n",
    "    def end(self): pass"
   ]
  },
  {
   "cell_type": "code",
   "execution_count": null,
   "id": "faf9faef-55a5-43d5-bd4c-3c304bddf645",
   "metadata": {},
   "outputs": [],
   "source": [
    "class Car(FourWheel):\n",
    "    def __init__(self):\n",
    "        Robot.__init__(self)\n",
    "        Vehicle.__init__(self)"
   ]
  },
  {
   "cell_type": "markdown",
   "id": "16aa3f5c-229f-445b-b075-c1096066e27e",
   "metadata": {},
   "source": [
    "### AI"
   ]
  },
  {
   "cell_type": "code",
   "execution_count": null,
   "id": "fbf3d138-a240-4539-9cc5-4bc9fdef8c14",
   "metadata": {},
   "outputs": [],
   "source": [
    "import torch\n",
    "from torch import nn\n",
    "import torch.nn.functional as F"
   ]
  },
  {
   "cell_type": "code",
   "execution_count": null,
   "id": "2aa764dd-553a-4d4f-8110-240b0d5b705a",
   "metadata": {},
   "outputs": [],
   "source": [
    "class Hook:\n",
    "    def __enter__(self): print(\"hello\")\n",
    "    \n",
    "    def __exit__(self): print(\"goodbye\")"
   ]
  },
  {
   "cell_type": "code",
   "execution_count": null,
   "id": "269cfb2b-413f-49f7-9876-093693e96ea8",
   "metadata": {},
   "outputs": [],
   "source": [
    "from jax import grad, jit, vmap"
   ]
  },
  {
   "cell_type": "code",
   "execution_count": null,
   "id": "b8a45d01-54bc-4e5f-9a7f-80d999666a48",
   "metadata": {},
   "outputs": [],
   "source": [
    "grad(square, has_aux=True)(x)"
   ]
  },
  {
   "cell_type": "code",
   "execution_count": null,
   "id": "3586c7e6-d55e-4470-b534-3a54df1bf114",
   "metadata": {},
   "outputs": [],
   "source": [
    "from torch.utils.data import DataLoader, random_split"
   ]
  },
  {
   "cell_type": "code",
   "execution_count": null,
   "id": "1acd08bf-c9d4-41dc-ad81-cdacc5fb3d32",
   "metadata": {},
   "outputs": [],
   "source": [
    "train_dset, valid_dset = random_split(dataset, lengths=[6, 4])"
   ]
  },
  {
   "cell_type": "code",
   "execution_count": null,
   "id": "88b89f63-ec4d-4fd1-b2b9-1c3af92c5222",
   "metadata": {},
   "outputs": [],
   "source": [
    "train_loader = DataLoader(train_loader, batch_size=2)\n",
    "valid_dset = DataLoader(valid_dset, batch_size=2)"
   ]
  },
  {
   "cell_type": "code",
   "execution_count": null,
   "id": "0b89b822-0174-4260-bfe5-a00bb72ef642",
   "metadata": {},
   "outputs": [],
   "source": [
    "state_three = torch.tensor([0, 0, 1])"
   ]
  },
  {
   "cell_type": "code",
   "execution_count": null,
   "id": "d3820f06-3dce-41e3-aedf-16a30f54e12c",
   "metadata": {},
   "outputs": [],
   "source": [
    "func_jit = jit(func, static_argnames=[\"n\"])"
   ]
  },
  {
   "cell_type": "code",
   "execution_count": null,
   "id": "11ab4b8b-eb8d-43c6-8b6d-f8862c5d57f0",
   "metadata": {},
   "outputs": [],
   "source": [
    "torch.amax(x, dim=1)"
   ]
  },
  {
   "cell_type": "code",
   "execution_count": null,
   "id": "c96b0577-cad3-4294-83cc-227fee035ee6",
   "metadata": {},
   "outputs": [],
   "source": [
    "from functools import partial"
   ]
  },
  {
   "cell_type": "code",
   "execution_count": null,
   "id": "74286eb6-4139-487f-bffd-64a5830e53e2",
   "metadata": {},
   "outputs": [],
   "source": [
    "@partial(jit, static_argnames=[\"n\"])\n",
    "def demo(x, n): pass"
   ]
  },
  {
   "cell_type": "code",
   "execution_count": null,
   "id": "09481fb8-2ed6-44ad-9f2b-405023901054",
   "metadata": {},
   "outputs": [],
   "source": [
    "from transformer_lens import "
   ]
  },
  {
   "cell_type": "code",
   "execution_count": null,
   "id": "8bdb18a0-ad52-4526-80bd-98231a55c32a",
   "metadata": {},
   "outputs": [],
   "source": [
    "def hook_func(act, hook):\n",
    "    print(act.shape)"
   ]
  },
  {
   "cell_type": "code",
   "execution_count": null,
   "id": "b99a2d74-61d0-41f4-ac76-3bcd70ab949f",
   "metadata": {},
   "outputs": [],
   "source": [
    "model.run_with_hooks(\n",
    "    tokens,\n",
    "    fwd_hooks=[(hook_name, hook_func)]\n",
    ")"
   ]
  },
  {
   "cell_type": "code",
   "execution_count": null,
   "id": "e3617cbd-a232-4f1b-91dc-022c82b040e2",
   "metadata": {},
   "outputs": [],
   "source": [
    "def hook_func(act, hook):\n",
    "    act[:, :, 4, :] = 0."
   ]
  },
  {
   "cell_type": "code",
   "execution_count": null,
   "id": "f8fbcefa-f999-4f24-b898-334af7cec4df",
   "metadata": {},
   "outputs": [],
   "source": [
    "output.hidden_states[-1]"
   ]
  },
  {
   "cell_type": "code",
   "execution_count": null,
   "id": "44932355-91f8-4eac-b93a-4d3a1b1ff6bd",
   "metadata": {},
   "outputs": [],
   "source": [
    "from langchain.chains import TransformChain"
   ]
  },
  {
   "cell_type": "code",
   "execution_count": null,
   "id": "7f1accb1-f38b-4b96-9862-fc2d8707fccd",
   "metadata": {},
   "outputs": [],
   "source": [
    "def to_uppercase(x):\n",
    "    return {\n",
    "        \"input\": x[\"input\"].upper()\n",
    "    }"
   ]
  },
  {
   "cell_type": "code",
   "execution_count": null,
   "id": "659051d2-daa2-4cc8-8320-b8c8400b0fb7",
   "metadata": {},
   "outputs": [],
   "source": [
    "selected_elements = torch.gather(x, dim=1, index=indicies)"
   ]
  },
  {
   "cell_type": "code",
   "execution_count": null,
   "id": "f035a80f-c838-4304-a6dd-9c4633e5a64f",
   "metadata": {},
   "outputs": [],
   "source": [
    "the latent state of the current observation, the recurrent state"
   ]
  },
  {
   "cell_type": "code",
   "execution_count": null,
   "id": "5634755c-d3fc-4bd6-88aa-4ba6b1f1e78c",
   "metadata": {},
   "outputs": [],
   "source": [
    "from transformers import AutoModel"
   ]
  },
  {
   "cell_type": "code",
   "execution_count": null,
   "id": "725d2762-1d3b-41af-b9e8-825556ac9676",
   "metadata": {},
   "outputs": [],
   "source": [
    "class CustomTokenClassifier(nn.Module):\n",
    "    def __init__(self, checkpoint, n_labels, dropout):\n",
    "        super().__init__()\n",
    "        self.model = AutoModel.from_pretrained(checkpoint)\n",
    "        self.head = nn.Sequential(\n",
    "            nn.Linear(768, n_labels)\n",
    "        )"
   ]
  },
  {
   "cell_type": "code",
   "execution_count": null,
   "id": "f59e3f51-c254-403b-bb96-74dd4ad8f8ce",
   "metadata": {},
   "outputs": [],
   "source": [
    "from datasets import load_metric"
   ]
  },
  {
   "cell_type": "code",
   "execution_count": null,
   "id": "87de8c2b-efd2-4de5-9fcd-1bef6352fbf3",
   "metadata": {},
   "outputs": [
    {
     "name": "stderr",
     "output_type": "stream",
     "text": [
      "/var/folders/pf/g3nr86yn4j71vzzmv6knwdhr0000gp/T/ipykernel_1535/1963947385.py:1: FutureWarning: load_metric is deprecated and will be removed in the next major version of datasets. Use 'evaluate.load' instead, from the new library 🤗 Evaluate: https://huggingface.co/docs/evaluate\n",
      "  bleu = load_metric(\"bleu\")\n"
     ]
    }
   ],
   "source": [
    "bleu = load_metric(\"bleu\")"
   ]
  },
  {
   "cell_type": "code",
   "execution_count": null,
   "id": "a2ced581-6457-4238-a64a-1e7fc13afe8b",
   "metadata": {},
   "outputs": [],
   "source": [
    "output = bleu.compute(\n",
    "    predictions=predictions,\n",
    "    references=references\n",
    ")"
   ]
  },
  {
   "cell_type": "code",
   "execution_count": null,
   "id": "482159ed-b92b-4de3-842b-9eaee661efe1",
   "metadata": {},
   "outputs": [],
   "source": [
    "torch.arange(0, 100, 15)"
   ]
  },
  {
   "cell_type": "code",
   "execution_count": null,
   "id": "419fcd8e-a05c-40ef-8f35-7f860a092046",
   "metadata": {},
   "outputs": [],
   "source": [
    "def std(x):\n",
    "    return (x-x.mean()).pow().mean().sqrt()"
   ]
  },
  {
   "cell_type": "code",
   "execution_count": null,
   "id": "11d8d40e-8d97-43e8-9f33-3d5b26403bfc",
   "metadata": {},
   "outputs": [],
   "source": [
    "def dropout_layer()"
   ]
  },
  {
   "cell_type": "code",
   "execution_count": null,
   "id": "446e6009-8d03-4622-b32b-81bce04380a2",
   "metadata": {},
   "outputs": [],
   "source": [
    "class CustomTokenClassifier(nn.Module):\n",
    "    def __init__(self, checkpoint, n_labels, dropout):\n",
    "        super().__init__()\n",
    "        self.model = AutoModel.from_pretrained(checkpoint)\n",
    "        \n",
    "        self.dropout = nn.Dropout(dropout)\n",
    "        self.classifier = nn.Linear(768, n_labels)\n",
    "    \n",
    "    def forward(self, input_ids, attention_mask):\n",
    "        output = self.model(\n",
    "            input_ids,\n",
    "            attention_mask\n",
    "        )\n",
    "        last_hidden_state = output.last_hidden_state\n",
    "        output = self.dropout(last_hidden_state)\n",
    "        return self.classifier(output)"
   ]
  },
  {
   "cell_type": "code",
   "execution_count": null,
   "id": "0e07de02-1405-4bb0-af45-fd86699ef1be",
   "metadata": {},
   "outputs": [],
   "source": [
    "from transformer_lens.hook_points import HookedRootModule, HookPoint"
   ]
  },
  {
   "cell_type": "code",
   "execution_count": null,
   "id": "d5774eb0-495c-450f-9d62-c2b827817695",
   "metadata": {},
   "outputs": [],
   "source": [
    "class Model(HookedRootModule):\n",
    "    def __init__(self):\n",
    "        super().__init__()\n",
    "        self.net = nn.Sequential(\n",
    "            nn.Linear(42, 69),\n",
    "            HookPoint(),\n",
    "            nn.ReLU(),\n",
    "            HookPoint(),\n",
    "            nn.Linear(69, 42),\n",
    "            HookPoint()\n",
    "        )\n",
    "        super().setup()\n",
    "    \n",
    "    def forward(self, x):\n",
    "        return self.net(x)"
   ]
  }
 ],
 "metadata": {
  "kernelspec": {
   "display_name": "Python 3 (ipykernel)",
   "language": "python",
   "name": "python3"
  }
 },
 "nbformat": 4,
 "nbformat_minor": 5
}
