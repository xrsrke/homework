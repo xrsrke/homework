{
 "cells": [
  {
   "cell_type": "markdown",
   "id": "706503a2-7222-4358-855d-f80ef99a4006",
   "metadata": {},
   "source": [
    "### Science"
   ]
  },
  {
   "cell_type": "code",
   "execution_count": null,
   "id": "cfdcfcec-fedf-40cf-8980-de3807a002ae",
   "metadata": {},
   "outputs": [],
   "source": [
    "s have/has v_ed"
   ]
  },
  {
   "cell_type": "code",
   "execution_count": null,
   "id": "17307f35-663c-446a-b05f-1f64718d12b7",
   "metadata": {},
   "outputs": [],
   "source": [
    "photoceptor > biopolar > ganglia"
   ]
  },
  {
   "cell_type": "code",
   "execution_count": null,
   "id": "0169bd40-039e-433d-b09c-58e82140744e",
   "metadata": {},
   "outputs": [],
   "source": [
    "axon, synapse, cell body, dendrite"
   ]
  },
  {
   "cell_type": "markdown",
   "id": "51fd3bb0-4d84-4dad-8825-9effaf816a45",
   "metadata": {},
   "source": [
    "### Python"
   ]
  },
  {
   "cell_type": "code",
   "execution_count": null,
   "id": "648c6ad1-4263-4bc5-b196-bedb0756ec55",
   "metadata": {},
   "outputs": [],
   "source": [
    "from typing import TypeVar"
   ]
  },
  {
   "cell_type": "code",
   "execution_count": null,
   "id": "3c76ced5-7748-4b8f-9441-6655ed36dc61",
   "metadata": {},
   "outputs": [],
   "source": [
    "T = TypeVar(\"T\")"
   ]
  },
  {
   "cell_type": "code",
   "execution_count": null,
   "id": "12e971e2-7408-47c2-8c6b-921928b28be7",
   "metadata": {},
   "outputs": [],
   "source": [
    "APIResponse = Union[T, APIError]"
   ]
  },
  {
   "cell_type": "code",
   "execution_count": null,
   "id": "2e0d02bd-94be-4766-b011-3ab8501b8392",
   "metadata": {},
   "outputs": [],
   "source": [
    "from dataclasses import dataclass"
   ]
  },
  {
   "cell_type": "code",
   "execution_count": null,
   "id": "ef43961d-71d3-4649-b0fd-4891869b4ee7",
   "metadata": {},
   "outputs": [],
   "source": [
    "@dataclass\n",
    "class LiquidMeasure:\n",
    "    CUP"
   ]
  },
  {
   "cell_type": "code",
   "execution_count": null,
   "id": "794a0dc7-66f5-4deb-89b3-e3e663f9997f",
   "metadata": {},
   "outputs": [],
   "source": [
    "function add(x, y=1)\n",
    "    return x + y\n",
    "end"
   ]
  },
  {
   "cell_type": "code",
   "execution_count": null,
   "id": "9bf1e84d-c98e-47cb-8c89-6e0c88af2bac",
   "metadata": {},
   "outputs": [],
   "source": [
    "from ray.train.rl.rl_trainer import RLTrainer"
   ]
  },
  {
   "cell_type": "code",
   "execution_count": null,
   "id": "8a97e60c-ba11-4d95-912d-d17b4974916d",
   "metadata": {},
   "outputs": [],
   "source": [
    "trainer= RLTrainer(algorithm=\"PPO\")"
   ]
  },
  {
   "cell_type": "code",
   "execution_count": null,
   "id": "57a439f2-97f7-43bc-a710-66a12d499913",
   "metadata": {},
   "outputs": [],
   "source": []
  },
  {
   "cell_type": "code",
   "execution_count": null,
   "id": "124f27b3-cd68-427f-95e8-933a1bbe2958",
   "metadata": {},
   "outputs": [],
   "source": [
    "from ray.rllib.algorithms.ppo import PPOConfig"
   ]
  },
  {
   "cell_type": "code",
   "execution_count": null,
   "id": "1ce45ea0-2e81-4d10-b3b2-00bed5eff1e3",
   "metadata": {},
   "outputs": [
    {
     "name": "stderr",
     "output_type": "stream",
     "text": [
      "2023-04-05 04:49:12,036\tINFO worker.py:1553 -- Started a local Ray instance.\n",
      "\u001b[2m\u001b[36m(RolloutWorker pid=1336)\u001b[0m 2023-04-05 04:49:15,938\tWARNING env.py:166 -- Your env reset() method appears to take 'seed' or 'return_info' arguments. Note that these are not yet supported in RLlib. Seeding will take place using 'env.seed()' and the info dict will not be returned from reset.\n",
      "2023-04-05 04:49:16,083\tWARNING util.py:67 -- Install gputil for GPU system monitoring.\n"
     ]
    }
   ],
   "source": [
    "model = PPOConfig().environment(\"CartPole-v1\").framework(\"torch\").build()"
   ]
  },
  {
   "cell_type": "code",
   "execution_count": null,
   "id": "0c7d72bf-eb10-42b8-8569-9a86d5ebb370",
   "metadata": {},
   "outputs": [],
   "source": [
    "from ray import tune\n",
    "from ray.tune.callback import Callback"
   ]
  },
  {
   "cell_type": "code",
   "execution_count": null,
   "id": "42412fac-9cca-45bc-8a0f-e9d2fa46dfe9",
   "metadata": {},
   "outputs": [],
   "source": [
    "class PrintResultCallback(Callback):\n",
    "    def on_trial_result(self, iteration, trials, trial, result, **info):\n",
    "        print(\"...\")"
   ]
  },
  {
   "cell_type": "code",
   "execution_count": null,
   "id": "8416d27d-9d6b-478f-b89c-542967adcb69",
   "metadata": {},
   "outputs": [],
   "source": [
    "tune.run(\n",
    "    objective,\n",
    "    config=search_space,\n",
    "    callbacks=[PrintResultCallback()]\n",
    ")"
   ]
  },
  {
   "cell_type": "code",
   "execution_count": null,
   "id": "b5c95855-2d24-4577-9f15-cad276f21d48",
   "metadata": {},
   "outputs": [],
   "source": [
    "from ray.train.rl.rl_trainer import RLTrainer"
   ]
  },
  {
   "cell_type": "code",
   "execution_count": null,
   "id": "1eebf93b-6516-46de-af46-a20407a51555",
   "metadata": {},
   "outputs": [],
   "source": [
    "trainer = RLTrainer(algorithm=\"PPO\")"
   ]
  },
  {
   "cell_type": "code",
   "execution_count": null,
   "id": "f5edf9de-2232-48c5-9b5d-ad6816de73f3",
   "metadata": {},
   "outputs": [],
   "source": [
    "import torch\n",
    "from torch import nn\n",
    "import torch.nn.functional as F"
   ]
  },
  {
   "cell_type": "code",
   "execution_count": null,
   "id": "9bf59eca-2f67-4e2d-ace2-0b746417a014",
   "metadata": {},
   "outputs": [],
   "source": [
    "class DotProduct(nn.Module):\n",
    "    def forward(self, x):\n",
    "        movies = self.user_factors"
   ]
  },
  {
   "cell_type": "code",
   "execution_count": null,
   "id": "d2cfa915-f20f-4809-987b-15b74ff1b669",
   "metadata": {},
   "outputs": [],
   "source": [
    "nn.Flatten(start_dim=2, end_dim=3)"
   ]
  },
  {
   "cell_type": "code",
   "execution_count": null,
   "id": "fa041152-9e45-45b8-aa5e-ec1f7440489f",
   "metadata": {},
   "outputs": [],
   "source": [
    "class DotProduct(nn.Module):\n",
    "    def forward(self, x):\n",
    "        users = self.user_factors(x[0, :])\n",
    "        movies = self.movie_factors(x[1, :])\n",
    "        \n",
    "        return users@movies"
   ]
  },
  {
   "cell_type": "code",
   "execution_count": null,
   "id": "4b165f06-c6e7-48b0-8c0d-b74cbe29953d",
   "metadata": {},
   "outputs": [],
   "source": [
    "from jax import vmap"
   ]
  },
  {
   "cell_type": "code",
   "execution_count": null,
   "id": "7defa156-6472-4380-9b98-e7b38243df41",
   "metadata": {},
   "outputs": [],
   "source": [
    "from torch.autograd import Function"
   ]
  },
  {
   "cell_type": "code",
   "execution_count": null,
   "id": "0e324491-0c04-4c0a-81f9-9e5e2056ed3d",
   "metadata": {},
   "outputs": [],
   "source": [
    "class MultiplyConstant(Function):\n",
    "    @staticmethod\n",
    "    def forward(ctx, input):\n",
    "        return input\n",
    "    \n",
    "    @staticmethod\n",
    "    def backward(ctx, grad):\n",
    "        return grad + 1"
   ]
  },
  {
   "cell_type": "code",
   "execution_count": null,
   "id": "aa993d0b-1ba2-4ad3-b5d0-0464d85e4abf",
   "metadata": {},
   "outputs": [],
   "source": [
    "import pytorch_lightning as pl"
   ]
  },
  {
   "cell_type": "code",
   "execution_count": null,
   "id": "6cd63a33-a65c-475c-a2b2-6573a81f9d0a",
   "metadata": {},
   "outputs": [],
   "source": [
    "class LitResNet(pl.LightningModule):\n",
    "    def __init__(self):\n",
    "        self.model = _modle1\n",
    "        self.loss_func = nn.CrossEntropyLoss()\n",
    "    \n",
    "    def training_step(self, batch, idx):\n",
    "        x, y = batch\n",
    "        pred = self.model(x)\n",
    "        loss = self.loss_func(pred, y)\n",
    "        \n",
    "        return loss"
   ]
  },
  {
   "cell_type": "code",
   "execution_count": null,
   "id": "3b2879d8-261e-423f-8510-d9295165c2f7",
   "metadata": {},
   "outputs": [],
   "source": [
    "class LMModel3(nn.Module):\n",
    "    def __init__(self, vocab_sz, n_hidden):\n",
    "        super().__init__()\n",
    "        self.i_h = nn.Embedding(vocab_sz, n_hidden)\n",
    "        self.h_h = nn.Linear(n_hidden, n_hidden)\n",
    "        self.h_o = nn.Linear(n_hidden, vocab_sz)\n",
    "        self.h = 0\n",
    "    \n",
    "    def forward(self, x):\n",
    "        for i in range(3):\n",
    "            self.h = self.h + F.relu(self.i_h(x[i, :]))\n",
    "            self.h = "
   ]
  },
  {
   "cell_type": "code",
   "execution_count": null,
   "id": "9c430fba-8960-4de4-8b06-d09a3383b925",
   "metadata": {},
   "outputs": [],
   "source": []
  }
 ],
 "metadata": {
  "kernelspec": {
   "display_name": "Python 3 (ipykernel)",
   "language": "python",
   "name": "python3"
  }
 },
 "nbformat": 4,
 "nbformat_minor": 5
}
