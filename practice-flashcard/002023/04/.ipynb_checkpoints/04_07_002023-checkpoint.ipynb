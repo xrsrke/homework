{
 "cells": [
  {
   "cell_type": "markdown",
   "id": "8d0e470f-5a20-4aa0-8ec0-30d6aec52ba2",
   "metadata": {},
   "source": [
    "### Science"
   ]
  },
  {
   "cell_type": "markdown",
   "id": "850d7deb-627f-4d5f-a5c3-bd6af2543052",
   "metadata": {},
   "source": [
    "### Python"
   ]
  },
  {
   "cell_type": "code",
   "execution_count": null,
   "id": "5c1cae2d-778e-4746-a59b-88b9a4cab644",
   "metadata": {},
   "outputs": [],
   "source": [
    "import unittest"
   ]
  },
  {
   "cell_type": "code",
   "execution_count": null,
   "id": "7c801fd7-ef97-47ca-8aae-831261f5cab2",
   "metadata": {},
   "outputs": [],
   "source": [
    "class MediumTestCase(unittest.TestCase):\n",
    "    def test_avg(self):\n",
    "        with self."
   ]
  },
  {
   "cell_type": "code",
   "execution_count": null,
   "id": "f72f4122-6591-4167-bb2b-dae48d413a41",
   "metadata": {},
   "outputs": [],
   "source": [
    "def split_weights(x):\n",
    "    n_cols = x.shape[-1] // 2\n",
    "    return x[:, :n_cols], x[:, n_cols:]"
   ]
  },
  {
   "cell_type": "code",
   "execution_count": null,
   "id": "e48c1529-15d8-4de8-b7fd-5bb718beffa5",
   "metadata": {},
   "outputs": [],
   "source": [
    "from ray import tune"
   ]
  },
  {
   "cell_type": "code",
   "execution_count": null,
   "id": "db3c56a6-fda7-46aa-abde-4f9ddebcf545",
   "metadata": {},
   "outputs": [],
   "source": [
    "result = tune.run(\n",
    "    objective,\n",
    "    config=config\n",
    ")"
   ]
  },
  {
   "cell_type": "code",
   "execution_count": null,
   "id": "8aa81215-ac0e-4621-828e-fd3b83f81517",
   "metadata": {},
   "outputs": [],
   "source": [
    "import torch\n",
    "from torch import nn\n",
    "import torch.nn.functional as F"
   ]
  },
  {
   "cell_type": "code",
   "execution_count": null,
   "id": "bcc5a6a7-2a41-4d24-94ba-b138d2e62029",
   "metadata": {},
   "outputs": [],
   "source": [
    "from torch_geometric.data import Data"
   ]
  },
  {
   "cell_type": "code",
   "execution_count": null,
   "id": "c1969b0b-8f89-4149-9d28-936259d1a660",
   "metadata": {},
   "outputs": [],
   "source": [
    "x = torch.tensor([0, 1, 2])"
   ]
  },
  {
   "cell_type": "code",
   "execution_count": null,
   "id": "25d3c211-b0d9-4049-9be1-6fbadf65ac47",
   "metadata": {},
   "outputs": [],
   "source": [
    "edge_index = torch.tensor([\n",
    "    []\n",
    "])"
   ]
  },
  {
   "cell_type": "code",
   "execution_count": null,
   "id": "4bc3d8fd-94df-480d-b3d6-b417af6f83a5",
   "metadata": {},
   "outputs": [],
   "source": [
    "data = Data()"
   ]
  },
  {
   "cell_type": "code",
   "execution_count": null,
   "id": "b799508a-57b5-4ff9-ba56-b49839e98344",
   "metadata": {},
   "outputs": [],
   "source": [
    "import gymnasium as gym"
   ]
  },
  {
   "cell_type": "code",
   "execution_count": null,
   "id": "3f3b7b6a-be04-45ab-88b7-945ccb874dbc",
   "metadata": {},
   "outputs": [],
   "source": [
    "envs = gym.env."
   ]
  },
  {
   "cell_type": "code",
   "execution_count": null,
   "id": "6232f30c-8997-4dbf-8580-eea0f7ef6ed0",
   "metadata": {},
   "outputs": [],
   "source": [
    "batch, linear, cnn"
   ]
  },
  {
   "cell_type": "code",
   "execution_count": null,
   "id": "08284cbf-7756-4646-b826-54ef4f20ec44",
   "metadata": {},
   "outputs": [],
   "source": [
    "class DotProduct(nn.Module):\n",
    "    def __init__(self, n_users, n_movies, n_factors):\n",
    "        pass\n",
    "    \n",
    "    def forward(self, x):\n",
    "        users = self.user_factors(x[:, 0])\n",
    "        movies = self.movie_factors(x[:, 1])\n",
    "        return users*"
   ]
  }
 ],
 "metadata": {
  "kernelspec": {
   "display_name": "Python 3 (ipykernel)",
   "language": "python",
   "name": "python3"
  }
 },
 "nbformat": 4,
 "nbformat_minor": 5
}
