{
 "cells": [
  {
   "cell_type": "markdown",
   "id": "edeece5f-f524-4ca7-b5dc-0faf4f034c1e",
   "metadata": {},
   "source": [
    "### Sci"
   ]
  },
  {
   "cell_type": "code",
   "execution_count": null,
   "id": "5b7b48a5-6b48-4cee-b4bb-60bf2aaf9c60",
   "metadata": {},
   "outputs": [],
   "source": [
    "two uncertainty principles\n",
    "quantization of angular momentum\n",
    "quantization of action"
   ]
  },
  {
   "cell_type": "markdown",
   "id": "4171bb90-1df6-4e4b-baa4-699c0bb3b6c3",
   "metadata": {},
   "source": [
    "cooperate in large scale, work towards a common thing by believeing in a common myth"
   ]
  },
  {
   "cell_type": "markdown",
   "id": "e2792076-3513-4be4-a50d-88b54d3a2403",
   "metadata": {},
   "source": [
    "### ML Engineering"
   ]
  },
  {
   "cell_type": "code",
   "execution_count": null,
   "id": "5725cdbe-6782-4502-81c9-ce061f88add8",
   "metadata": {},
   "outputs": [],
   "source": [
    "class Vehicle:\n",
    "    def __init__(self):\n",
    "        self._color = None\n",
    "    \n",
    "    @property\n",
    "    def color(self):\n",
    "        return self._color\n",
    "    \n",
    "    @color.setter\n",
    "    def color(self, value):\n",
    "        self._color = value"
   ]
  },
  {
   "cell_type": "code",
   "execution_count": null,
   "id": "b73d7357-fbea-4a08-84f1-0b0af5d9011e",
   "metadata": {},
   "outputs": [],
   "source": [
    "from pydantic import BaseModel, root_validator"
   ]
  },
  {
   "cell_type": "code",
   "execution_count": null,
   "id": "0650e161-41dd-416e-a7c3-b9e9d6ccaa25",
   "metadata": {},
   "outputs": [],
   "source": [
    "class User(BaseModel):\n",
    "    password1: int\n",
    "    password2: int\n",
    "    \n",
    "    @root_validator(pre=True)\n",
    "    def val(cls, values):\n",
    "        pd1 = values.get(\"password1\")\n",
    "        pd2 = values.get(\"password2\")\n",
    "        \n",
    "        if pd1 == pd2:\n",
    "            return values\n",
    "        else:\n",
    "            raise ValueError(\"xx\")"
   ]
  },
  {
   "cell_type": "code",
   "execution_count": null,
   "id": "055bee91-9573-4a80-8981-494c1145b4c5",
   "metadata": {},
   "outputs": [],
   "source": [
    "from pydantic import validator"
   ]
  },
  {
   "cell_type": "code",
   "execution_count": null,
   "id": "8df298bd-e3df-4310-bfc8-5745b7e34c03",
   "metadata": {},
   "outputs": [],
   "source": [
    "class User(BaseModel):\n",
    "    user_id: int\n",
    "    username: str\n",
    "    \n",
    "    @validator(\"username\")\n",
    "    def va(cls, value):\n",
    "        return value.upper()"
   ]
  },
  {
   "cell_type": "code",
   "execution_count": null,
   "id": "9107de93-6771-4830-b595-0f7bf9d2a313",
   "metadata": {},
   "outputs": [],
   "source": [
    "from sqlalchemy import Column, String, Integer"
   ]
  },
  {
   "cell_type": "code",
   "execution_count": null,
   "id": "0197f76e-b586-4552-b112-01fbf6411acc",
   "metadata": {},
   "outputs": [],
   "source": [
    "class User(Base):\n",
    "    __tablename__ = \"users\"\n",
    "    \n",
    "    "
   ]
  },
  {
   "cell_type": "code",
   "execution_count": null,
   "id": "bbc9d1d9-c1e4-47fa-b5a4-e24af2214812",
   "metadata": {},
   "outputs": [],
   "source": [
    "class XX(BaseModel):\n",
    "    secret: int\n",
    "    unv: int"
   ]
  },
  {
   "cell_type": "code",
   "execution_count": null,
   "id": "1e502cd7-589a-4cad-91df-5b12c0243caf",
   "metadata": {},
   "outputs": [],
   "source": [
    "from sqlalchemy.orm import sessionmaker"
   ]
  },
  {
   "cell_type": "code",
   "execution_count": null,
   "id": "7475e144-bdbe-4834-8b65-3446461fead2",
   "metadata": {},
   "outputs": [],
   "source": [
    "Session = sessionmaker()"
   ]
  },
  {
   "cell_type": "code",
   "execution_count": null,
   "id": "fc6a9c04-b7d9-44d4-8940-89c926064c02",
   "metadata": {},
   "outputs": [],
   "source": [
    "session = Session(bind=)"
   ]
  },
  {
   "cell_type": "code",
   "execution_count": null,
   "id": "2ac8fe41-59a3-47bc-acb7-cd9240726e13",
   "metadata": {},
   "outputs": [],
   "source": [
    "session.add(data)"
   ]
  },
  {
   "cell_type": "code",
   "execution_count": null,
   "id": "7a220c9b-001e-4344-bcf0-7d5e26fab1b8",
   "metadata": {},
   "outputs": [],
   "source": [
    "session.commit()"
   ]
  },
  {
   "cell_type": "code",
   "execution_count": null,
   "id": "b4fd7d52-32cb-4404-a689-caff0faa007c",
   "metadata": {},
   "outputs": [],
   "source": []
  },
  {
   "cell_type": "code",
   "execution_count": null,
   "id": "f1c91aa0-be30-4e5b-a456-a242a6dee770",
   "metadata": {},
   "outputs": [],
   "source": [
    "from sqlalchemy import Column, String, Integer"
   ]
  },
  {
   "cell_type": "code",
   "execution_count": null,
   "id": "5da7300d-1f96-439a-b931-6a55a86672e6",
   "metadata": {},
   "outputs": [],
   "source": [
    "class User(Base):\n",
    "    __tablename__ = \"users\"\n",
    "    id = Column(\"id\", Integer, primary_key=True)\n",
    "    username = Column(\"username\", String)"
   ]
  },
  {
   "cell_type": "code",
   "execution_count": null,
   "id": "a4d76a2f-7a11-4715-b2a7-691795fe25ea",
   "metadata": {},
   "outputs": [],
   "source": [
    "from sqlalchemy.orm import sessionmaker"
   ]
  },
  {
   "cell_type": "code",
   "execution_count": null,
   "id": "a0936554-1ca3-4004-a9f2-0224d46c49cf",
   "metadata": {},
   "outputs": [],
   "source": [
    "from fastapi import FastAPI"
   ]
  },
  {
   "cell_type": "code",
   "execution_count": null,
   "id": "d9f3e50d-51c9-43a1-a76e-018147398849",
   "metadata": {},
   "outputs": [],
   "source": [
    "app = FastAPI()"
   ]
  },
  {
   "cell_type": "code",
   "execution_count": null,
   "id": "5b8fd8fb-6eb8-422c-bc01-83d9288b497a",
   "metadata": {},
   "outputs": [],
   "source": [
    "@app.get(\"/secret\")\n",
    "def x(self):\n",
    "    return 69"
   ]
  },
  {
   "cell_type": "markdown",
   "id": "c6be8702-7e3b-410f-aeca-8a43916a9f98",
   "metadata": {},
   "source": [
    "### AI"
   ]
  },
  {
   "cell_type": "code",
   "execution_count": null,
   "id": "289b5139-d093-45c7-9454-de0b27cb4b71",
   "metadata": {},
   "outputs": [],
   "source": [
    "import torch\n",
    "from torch import nn\n",
    "import torch.nn.functional as F"
   ]
  },
  {
   "cell_type": "code",
   "execution_count": null,
   "id": "6fde85aa-6d35-4874-96b3-57bd38ae5b4b",
   "metadata": {},
   "outputs": [],
   "source": [
    "from functools import partial"
   ]
  },
  {
   "cell_type": "code",
   "execution_count": null,
   "id": "ee467e45-10d7-43f2-b2e8-4366dcc2da47",
   "metadata": {},
   "outputs": [],
   "source": [
    "from jax import jit"
   ]
  },
  {
   "cell_type": "code",
   "execution_count": null,
   "id": "b5591ba5-13bd-476c-b80f-5fbdbd49016b",
   "metadata": {},
   "outputs": [],
   "source": [
    "@partial(jit, static_argnames=[\"n\"])\n",
    "def demo(x, n):\n",
    "    return x + n"
   ]
  },
  {
   "cell_type": "code",
   "execution_count": null,
   "id": "eb36ef9b-6b6f-4c18-a5e2-fb00306a65a8",
   "metadata": {},
   "outputs": [
    {
     "ename": "SyntaxError",
     "evalue": "invalid syntax (99734325.py, line 1)",
     "output_type": "error",
     "traceback": [
      "\u001b[0;36m  Cell \u001b[0;32mIn[4], line 1\u001b[0;36m\u001b[0m\n\u001b[0;31m    from ray.train.rl_train.trainer\u001b[0m\n\u001b[0m                                   ^\u001b[0m\n\u001b[0;31mSyntaxError\u001b[0m\u001b[0;31m:\u001b[0m invalid syntax\n"
     ]
    }
   ],
   "source": [
    "from ray.train.rl.rl_trainer import "
   ]
  },
  {
   "cell_type": "code",
   "execution_count": null,
   "id": "9f24266a-5771-4126-8ce4-fc6385b3d2ac",
   "metadata": {},
   "outputs": [],
   "source": [
    "from ray.train.rl.rl_trainer import RLTrainer"
   ]
  },
  {
   "cell_type": "code",
   "execution_count": null,
   "id": "cec16d84-d315-488c-ba1c-f7107328b088",
   "metadata": {},
   "outputs": [],
   "source": [
    "trainer = RLTrainer(algorithm=\"PPO\")"
   ]
  },
  {
   "cell_type": "code",
   "execution_count": null,
   "id": "ef5ab462-ca5e-4f7e-870d-8b2cda57a3ad",
   "metadata": {},
   "outputs": [],
   "source": []
  },
  {
   "cell_type": "code",
   "execution_count": null,
   "id": "25d24e87-14f9-48e6-87b4-3d6f445edf14",
   "metadata": {},
   "outputs": [],
   "source": [
    "from pfrl.q_functions.acti"
   ]
  },
  {
   "cell_type": "code",
   "execution_count": null,
   "id": "c159b237-9e37-4e7d-bfaa-b4c9278b4db6",
   "metadata": {},
   "outputs": [],
   "source": []
  },
  {
   "cell_type": "code",
   "execution_count": null,
   "id": "351f8f6e-09ec-4305-8596-13772ecdef08",
   "metadata": {},
   "outputs": [],
   "source": [
    "step 1: replicate the model\n",
    "step 2: split the mini-batch into micro batches\n",
    "step 3: compute forward and backward pass with respect to the micro-batches\n",
    "step 4: compute the average gradient\n",
    "step 5: update the model's parameter with respect to the average gradient"
   ]
  },
  {
   "cell_type": "code",
   "execution_count": null,
   "id": "ed5406f6-76d0-4a2a-8165-f1c38db7d74d",
   "metadata": {},
   "outputs": [],
   "source": [
    "step 1: "
   ]
  },
  {
   "cell_type": "code",
   "execution_count": null,
   "id": "718e8d17-b651-4485-b780-f7ef912ff8b6",
   "metadata": {},
   "outputs": [],
   "source": [
    "step 1: make a copy fp16 and fp32 of the weight\n",
    "step 2: compute forward a"
   ]
  },
  {
   "cell_type": "code",
   "execution_count": null,
   "id": "d4f6cc09-0950-4b04-85fb-e281d898954c",
   "metadata": {},
   "outputs": [],
   "source": [
    "from ray import tune"
   ]
  },
  {
   "cell_type": "code",
   "execution_count": null,
   "id": "a3f439dd-8728-4d89-b65b-8b9589f88453",
   "metadata": {},
   "outputs": [],
   "source": [
    "search_space = {\n",
    "    \"lr\": tune.uniform(0, 1),\n",
    "    \"discount_factor\": tune.uniform(0, 1)\n",
    "}"
   ]
  },
  {
   "cell_type": "code",
   "execution_count": null,
   "id": "209a776e-8c04-43c3-88cc-8ba6882b8c37",
   "metadata": {},
   "outputs": [],
   "source": [
    "def hook_func(act, hook):\n",
    "    print(act.shape)"
   ]
  },
  {
   "cell_type": "code",
   "execution_count": null,
   "id": "15aa6a12-2608-42b1-a5d3-a3263bc50389",
   "metadata": {},
   "outputs": [],
   "source": [
    "model.run_with_hooks(\n",
    "    tokens,\n",
    "    fwd_hooks=[(hook_name, hook_func)]\n",
    ")"
   ]
  },
  {
   "cell_type": "code",
   "execution_count": null,
   "id": "cfee914e-31a2-41ee-a632-3e2b795fc0c4",
   "metadata": {},
   "outputs": [],
   "source": [
    "def hook_func(act, hook):\n",
    "    act[:, :, 4:, 0] = 0.\n",
    "    return act"
   ]
  },
  {
   "cell_type": "code",
   "execution_count": null,
   "id": "2c57c83e-d46b-4f6c-ba75-fc555b99af7e",
   "metadata": {},
   "outputs": [],
   "source": [
    "model.run_with_hooks(\n",
    "    tokens,\n",
    "    return_type=\"loss\",\n",
    "    fwd_hooks=[(hook_name, hook_func)]\n",
    ")"
   ]
  },
  {
   "cell_type": "code",
   "execution_count": null,
   "id": "376874d9-91d5-4596-8fa7-087546ecc3fb",
   "metadata": {},
   "outputs": [],
   "source": [
    "from einops import pack"
   ]
  },
  {
   "cell_type": "code",
   "execution_count": null,
   "id": "1ee50d07-5910-4ad0-abd2-514f11d98813",
   "metadata": {},
   "outputs": [],
   "source": [
    "stacked_images = pack([image_depth, image_depth], \"h w *\")"
   ]
  },
  {
   "cell_type": "code",
   "execution_count": null,
   "id": "0dcb6efa-7cc4-43f9-adaa-d97f229304e7",
   "metadata": {},
   "outputs": [],
   "source": [
    "the latent state of the current observation, the recurrent state"
   ]
  },
  {
   "cell_type": "code",
   "execution_count": null,
   "id": "eebca670-9fee-47d3-9337-dc42c1e6c771",
   "metadata": {},
   "outputs": [],
   "source": [
    "def calculate_discount_return_an_episode(rewards, discount_factor):\n",
    "    discounted_return = 0\n",
    "    \n",
    "    for k, reward in enumerate(rewards):\n",
    "        discounted_return += (discount_factor**k)*reward\n",
    "    \n",
    "    return discounted_return"
   ]
  },
  {
   "cell_type": "code",
   "execution_count": null,
   "id": "7593921b-76cd-44f9-b0c5-cbefca1cf8d2",
   "metadata": {},
   "outputs": [],
   "source": [
    "from ray import tune"
   ]
  },
  {
   "cell_type": "code",
   "execution_count": null,
   "id": "e6bb6cb7-d783-48ad-818f-ba4e72b6b8da",
   "metadata": {},
   "outputs": [],
   "source": [
    "search_space = {\n",
    "    \"lr\": tune.uniform(0, 1),\n",
    "    \"discount_factor\": tune.uniform(0, 1)\n",
    "}"
   ]
  },
  {
   "cell_type": "code",
   "execution_count": null,
   "id": "ef692d71-9b2b-4ebc-8e8c-bfd761c29635",
   "metadata": {},
   "outputs": [],
   "source": [
    "def discount_reward(rewards, discount_factor):\n",
    "    discounted_rewards = []\n",
    "    \n",
    "    for k, reward in enumerate(rewards):\n",
    "        discounted_rewards.append((discount_factor**k)*reward)\n",
    "    \n",
    "    return discounted_rewards"
   ]
  },
  {
   "cell_type": "code",
   "execution_count": null,
   "id": "54b59a72-5b82-470a-b002-62dae480f5d9",
   "metadata": {},
   "outputs": [],
   "source": [
    "def accuracy(probs, targs):\n",
    "    pred_idxs = torch.argmax(probs, dim=-1)\n",
    "    \n",
    "    return (pred_idxs == targs).float().mean()"
   ]
  },
  {
   "cell_type": "code",
   "execution_count": null,
   "id": "98637098-f7d8-4e96-81f2-6e46cffbbfab",
   "metadata": {},
   "outputs": [],
   "source": [
    "from ray.train.rl.rl_trainer import RLTrainer\n",
    "from ray.air.config import ScalingConfig"
   ]
  },
  {
   "cell_type": "code",
   "execution_count": null,
   "id": "a79bb912-0ae0-4f55-8e90-46b1eb10e23f",
   "metadata": {},
   "outputs": [],
   "source": [
    "trainer = RLTrainer(\n",
    "    algorithm=\"PPO\",\n",
    "    scaling_config=ScalingConfig(num_workers=3)\n",
    ")"
   ]
  },
  {
   "cell_type": "code",
   "execution_count": null,
   "id": "04c4cb14-373e-49fc-b42b-113ad7036870",
   "metadata": {},
   "outputs": [],
   "source": [
    "step 1: "
   ]
  },
  {
   "cell_type": "code",
   "execution_count": null,
   "id": "349be1e9-5c42-4cdf-b3d8-ac1258d5dde7",
   "metadata": {},
   "outputs": [],
   "source": [
    "step 1: "
   ]
  },
  {
   "cell_type": "code",
   "execution_count": null,
   "id": "c1d35884-cbf5-4fa6-9e6c-50314e69fd0c",
   "metadata": {},
   "outputs": [],
   "source": [
    "class BatchNorm(nn.Module):\n",
    "    def __init__(self, mom, eps):\n",
    "        super().__init__()\n",
    "        self.mom, self.eps = mom, eps\n",
    "        self.adds = nn.Parameter(torch.zeros(1))\n",
    "        self.mults = nn.Parameter(torch.ones(1))\n",
    "        self.register_buffer(\"mean\", torch.zeros(0))\n",
    "        self.register_buffer(\"var\", torch.ones(1))\n",
    "    \n",
    "    def update_stats(self, x):\n",
    "        m, v = x.mean(dim=-1), x.var(dim=-1)\n",
    "        self.mean.lerp_(m, self.mom)\n",
    "        self.var.lerp_(m, self.var)\n",
    "    \n",
    "    def forward(self, x):\n",
    "        with torch.no_grad():\n",
    "            m, v = self.update_stats(x)"
   ]
  },
  {
   "cell_type": "code",
   "execution_count": null,
   "id": "ed81f581-8d99-4638-8e22-bc5b5ffb615b",
   "metadata": {},
   "outputs": [],
   "source": [
    "step 1: keep a fp16 and fp32 copy of the weight\n",
    "step 2: do forward and backward pass in fp16\n",
    "step 3: cast the gradient to fp32\n",
    "step 4: update the parameter using the fp32 of weight and grad\n",
    "step 5: update "
   ]
  },
  {
   "cell_type": "code",
   "execution_count": null,
   "id": "9d005172-973d-41d1-8949-dac4495fe423",
   "metadata": {},
   "outputs": [],
   "source": [
    "step 1: split the layer across machine\n",
    "step 2: split mini-batch into micro-batches\n",
    "step 3: forward and backward\n",
    "step 4: average the gradient\n",
    "step 5: update the parameter "
   ]
  },
  {
   "cell_type": "code",
   "execution_count": null,
   "id": "0ac3b676-5ed2-4979-b3e4-9d9a5316007a",
   "metadata": {},
   "outputs": [],
   "source": [
    "step 1: "
   ]
  },
  {
   "cell_type": "code",
   "execution_count": null,
   "id": "c7fcf635-6f0b-40d5-996f-9083ba61a771",
   "metadata": {},
   "outputs": [],
   "source": [
    "i = 2"
   ]
  },
  {
   "cell_type": "code",
   "execution_count": null,
   "id": "2e4e15e0-aa4c-4289-922a-27182b1c3634",
   "metadata": {},
   "outputs": [],
   "source": [
    "x = 6"
   ]
  },
  {
   "cell_type": "code",
   "execution_count": null,
   "id": "8050832c-b057-4f5f-ac0e-2a3cd9852764",
   "metadata": {},
   "outputs": [],
   "source": [
    "x /= i"
   ]
  },
  {
   "cell_type": "code",
   "execution_count": null,
   "id": "bef139dd-0166-4271-8fd2-53bf4075eca0",
   "metadata": {},
   "outputs": [
    {
     "data": {
      "text/plain": [
       "3.0"
      ]
     },
     "execution_count": null,
     "metadata": {},
     "output_type": "execute_result"
    }
   ],
   "source": [
    "x"
   ]
  },
  {
   "cell_type": "code",
   "execution_count": null,
   "id": "6454ca0a-b851-4b4d-9068-e7f10758fd4e",
   "metadata": {},
   "outputs": [],
   "source": []
  }
 ],
 "metadata": {
  "kernelspec": {
   "display_name": "Python 3 (ipykernel)",
   "language": "python",
   "name": "python3"
  }
 },
 "nbformat": 4,
 "nbformat_minor": 5
}
