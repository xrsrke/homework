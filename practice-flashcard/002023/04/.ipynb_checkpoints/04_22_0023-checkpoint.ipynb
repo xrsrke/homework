{
 "cells": [
  {
   "cell_type": "code",
   "execution_count": null,
   "id": "9381d3df-a33c-4db1-b75c-5ed04f14ed73",
   "metadata": {},
   "outputs": [],
   "source": [
    "function poly(x, y)\n",
    "    return 3x**2 + 2y**2 - xy\n",
    "end"
   ]
  }
 ],
 "metadata": {
  "kernelspec": {
   "display_name": "Julia 1.8.3",
   "language": "julia",
   "name": "julia-1.8"
  }
 },
 "nbformat": 4,
 "nbformat_minor": 5
}
