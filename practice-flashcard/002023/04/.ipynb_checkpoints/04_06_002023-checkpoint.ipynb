{
 "cells": [
  {
   "cell_type": "markdown",
   "id": "f6c622eb-9102-4831-b672-52496b76ae56",
   "metadata": {},
   "source": [
    "### Science"
   ]
  },
  {
   "cell_type": "markdown",
   "id": "62a4ccf1-e833-4381-9895-d9622ad3169e",
   "metadata": {},
   "source": [
    "step 1: record\n",
    "step 2: observe\n",
    "step 3: reward"
   ]
  },
  {
   "cell_type": "markdown",
   "id": "2d295143-efe4-4729-a9cf-0a340d78c293",
   "metadata": {},
   "source": [
    "### Python"
   ]
  },
  {
   "cell_type": "code",
   "execution_count": null,
   "id": "e05b3f12-5f8c-456a-ba8f-8642a9e5e369",
   "metadata": {},
   "outputs": [],
   "source": [
    "def outer():\n",
    "    name = \"Shivon\"\n",
    "    \n",
    "    def _inner(message):\n",
    "        return f\"\""
   ]
  },
  {
   "cell_type": "markdown",
   "id": "508228a9-7479-4785-aa6a-79967cc41782",
   "metadata": {},
   "source": [
    "### AI"
   ]
  },
  {
   "cell_type": "code",
   "execution_count": null,
   "id": "278bcd96-f938-46d8-b7f6-5ef633e49516",
   "metadata": {},
   "outputs": [],
   "source": [
    "import ray"
   ]
  },
  {
   "cell_type": "code",
   "execution_count": null,
   "id": "d1091ae1-76d6-4ac4-ba21-1441622bb86b",
   "metadata": {},
   "outputs": [],
   "source": [
    "from ray.train."
   ]
  },
  {
   "cell_type": "code",
   "execution_count": null,
   "id": "a643bbc4-49a8-4cf2-8ba3-cdd2f2787e53",
   "metadata": {},
   "outputs": [],
   "source": [
    "from ray.train.rl.rl_trainer import RLTrainer"
   ]
  },
  {
   "cell_type": "code",
   "execution_count": null,
   "id": "bd3437ed-4d25-47c6-962a-f1791479c6c7",
   "metadata": {},
   "outputs": [],
   "source": [
    "trainer = RLTrainer(algorithm=\"PPO\")"
   ]
  },
  {
   "cell_type": "code",
   "execution_count": null,
   "id": "2cbd0a77-e4e9-4f76-81ad-ffdadd99966f",
   "metadata": {},
   "outputs": [
    {
     "data": {
      "text/plain": [
       "<RLTrainer>"
      ]
     },
     "execution_count": null,
     "metadata": {},
     "output_type": "execute_result"
    }
   ],
   "source": [
    "trainer"
   ]
  },
  {
   "cell_type": "code",
   "execution_count": null,
   "id": "ed4fd851-348b-43d8-bc60-e85b7cdaa648",
   "metadata": {},
   "outputs": [],
   "source": [
    "import torch\n",
    "from torch import nn\n",
    "import torch.nn.functional as F"
   ]
  },
  {
   "cell_type": "code",
   "execution_count": null,
   "id": "151cf162-f6fe-4a3f-95df-a70a5bc759d9",
   "metadata": {},
   "outputs": [],
   "source": [
    "def nll(sm_pred, y_train):\n",
    "    return sm_pred[range(y_train.shape[-1]), y_train]"
   ]
  },
  {
   "cell_type": "code",
   "execution_count": null,
   "id": "dc6ccfbd-c906-430d-be13-85e0c1248fea",
   "metadata": {},
   "outputs": [],
   "source": [
    "p, n, d, i"
   ]
  },
  {
   "cell_type": "code",
   "execution_count": null,
   "id": "b56c5bc3-22af-4bb9-aa49-c27250159e13",
   "metadata": {},
   "outputs": [],
   "source": [
    "from langchain.document_loaders import "
   ]
  },
  {
   "cell_type": "code",
   "execution_count": null,
   "id": "5826a0dd-86bf-44e0-a994-1dc31c9be15a",
   "metadata": {},
   "outputs": [],
   "source": [
    "from langchain.chains import SimpleSequentialChain"
   ]
  },
  {
   "cell_type": "code",
   "execution_count": null,
   "id": "beed34a7-0df2-440e-b5a9-b858aa8c5d99",
   "metadata": {},
   "outputs": [],
   "source": [
    "def split_weights(x):\n",
    "    n_columns = x.shape[-1]\n",
    "    \n",
    "    return x[:, :n_columns], x[:, n_columns:]"
   ]
  },
  {
   "cell_type": "code",
   "execution_count": null,
   "id": "55fceea5-db94-4cb8-a601-78a975c5da93",
   "metadata": {},
   "outputs": [],
   "source": [
    "weight_1, weight_2 = split_weights(weights)"
   ]
  },
  {
   "cell_type": "code",
   "execution_count": null,
   "id": "c2663227-4d44-4436-bbd8-ff886dfce445",
   "metadata": {},
   "outputs": [],
   "source": [
    "F.relu(torch.matmul(weig))"
   ]
  },
  {
   "cell_type": "code",
   "execution_count": null,
   "id": "dbbdad15-335b-4a7c-a6b6-7a386b853c7c",
   "metadata": {},
   "outputs": [],
   "source": [
    "import gymnasium as gym"
   ]
  },
  {
   "cell_type": "code",
   "execution_count": null,
   "id": "4b588b87-a63f-48e6-83fe-2f6f31204394",
   "metadata": {},
   "outputs": [],
   "source": [
    "envs = gym.vector.AsyncVectorEnv"
   ]
  },
  {
   "cell_type": "code",
   "execution_count": null,
   "id": "85beec6d-7348-40e2-a806-25a62ea7a471",
   "metadata": {},
   "outputs": [],
   "source": [
    "from torch.distributions import Categorical"
   ]
  },
  {
   "cell_type": "code",
   "execution_count": null,
   "id": "861b025d-bec5-4e6e-b57a-8e2cc6ec294d",
   "metadata": {},
   "outputs": [],
   "source": [
    "dist = Categorical(logits=raw_logits)"
   ]
  }
 ],
 "metadata": {
  "kernelspec": {
   "display_name": "Python 3 (ipykernel)",
   "language": "python",
   "name": "python3"
  }
 },
 "nbformat": 4,
 "nbformat_minor": 5
}
