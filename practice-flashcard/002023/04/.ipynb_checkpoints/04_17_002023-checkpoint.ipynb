{
 "cells": [
  {
   "cell_type": "markdown",
   "id": "d9273ecb-0529-423b-af8d-7091afae4269",
   "metadata": {},
   "source": [
    "### Sci"
   ]
  },
  {
   "cell_type": "code",
   "execution_count": null,
   "id": "7f4fb32e-6016-4e6d-9330-df33fb084141",
   "metadata": {},
   "outputs": [],
   "source": [
    "fric\n",
    "norm\n",
    "gra\n",
    "applied\n",
    "ai"
   ]
  },
  {
   "cell_type": "code",
   "execution_count": null,
   "id": "b5c6b1ba-154d-4869-936b-e40283dc0348",
   "metadata": {},
   "outputs": [],
   "source": [
    "premises are wrong\n",
    "there're hidden premises\n",
    "the logic that connects the premises are illogical"
   ]
  },
  {
   "cell_type": "markdown",
   "id": "3cafcdb1-31a9-46c8-ba89-adf9d6837b9a",
   "metadata": {},
   "source": [
    "### ML Engineering"
   ]
  },
  {
   "cell_type": "code",
   "execution_count": null,
   "id": "34d461c7-33bc-40da-9e43-3abc01670805",
   "metadata": {},
   "outputs": [],
   "source": [
    "from prefect.deployments import Deployment"
   ]
  },
  {
   "cell_type": "code",
   "execution_count": null,
   "id": "3f427932-730e-48f5-bd76-f40674486657",
   "metadata": {},
   "outputs": [],
   "source": [
    "Deployment.build_from_flow(\n",
    "    flow=training,\n",
    "    name=\"model_training-dev\"\n",
    ")"
   ]
  },
  {
   "cell_type": "code",
   "execution_count": null,
   "id": "69b4d088-ba1f-4bca-8011-bae926867ed4",
   "metadata": {},
   "outputs": [],
   "source": [
    "from prefect import flow\n",
    "from prefect.task_runners import SequentialTaskRunner"
   ]
  },
  {
   "cell_type": "code",
   "execution_count": null,
   "id": "9a01b5c1-8b34-476c-aa10-ad8c8b71e0b8",
   "metadata": {},
   "outputs": [],
   "source": [
    "@flow(task_runner=SequentialTaskRunner)\n",
    "def my_flow():\n",
    "    print_values(1111)\n",
    "    print_values(2222)"
   ]
  },
  {
   "cell_type": "code",
   "execution_count": null,
   "id": "bced50be-e8a6-4233-9e50-ef5d8529a281",
   "metadata": {},
   "outputs": [],
   "source": [
    "from metaflow import FlowSpec, step"
   ]
  },
  {
   "cell_type": "code",
   "execution_count": null,
   "id": "b5b489fc-6e1e-4a92-bfa4-4875e63d5ad3",
   "metadata": {},
   "outputs": [],
   "source": [
    "class Training(FlowSpec):\n",
    "    @step\n",
    "    def start(self):\n",
    "        self.next(self.train)\n",
    "    \n",
    "    @step\n",
    "    def train(self):\n",
    "        train()\n",
    "        self.next(self.end)\n",
    "    \n",
    "    @step\n",
    "    def end(self): pass"
   ]
  },
  {
   "cell_type": "code",
   "execution_count": null,
   "id": "8452edc9-3158-43f1-ad42-07a901b752ff",
   "metadata": {},
   "outputs": [],
   "source": [
    "from metaflow import Parameter"
   ]
  },
  {
   "cell_type": "code",
   "execution_count": null,
   "id": "45d8bc39-5d60-48a5-ac69-6dde4551786c",
   "metadata": {},
   "outputs": [],
   "source": [
    "class Flow(FlowSpec):\n",
    "    secret = Parameter(name=\"secret\")\n",
    "    \n",
    "    @step\n",
    "    def start(self):\n",
    "        self.next(self.train)\n",
    "    \n",
    "    @step\n",
    "    def train(self):\n",
    "        print(f\"Secret {self.secret}\")\n",
    "        self.next(self.end)\n",
    "    \n",
    "    @step\n",
    "    def end(self):\n",
    "        pass"
   ]
  },
  {
   "cell_type": "code",
   "execution_count": null,
   "id": "7983f6c7-a0a8-4130-a653-0e58b9e512b3",
   "metadata": {},
   "outputs": [],
   "source": [
    "docker ps -a"
   ]
  },
  {
   "cell_type": "code",
   "execution_count": null,
   "id": "8ba8b96c-1f3f-499d-a12e-7163469e9108",
   "metadata": {},
   "outputs": [],
   "source": [
    "docker rmi redis:22.2"
   ]
  },
  {
   "cell_type": "code",
   "execution_count": null,
   "id": "43d670c9-63c0-434a-b762-6f4097565fed",
   "metadata": {},
   "outputs": [],
   "source": [
    "class TrainingFlow(FlowSpec):\n",
    "    @step\n",
    "    def start(self):\n",
    "        self.next(self.train, self.eval)\n",
    "    \n",
    "    @step\n",
    "    def train(self):\n",
    "        print(\"\")\n",
    "        self.end(self.join)\n",
    "    \n",
    "    @step\n",
    "    def eval(self):\n",
    "        print(\"\")\n",
    "        self.end(self.join)\n",
    "    \n",
    "    @step\n",
    "    def join(self): self.next(self.end)\n",
    "    \n",
    "    @step\n",
    "    def end(self): pass"
   ]
  },
  {
   "cell_type": "code",
   "execution_count": null,
   "id": "c5a26e8a-f443-4ec2-9022-9b6b97bf3726",
   "metadata": {},
   "outputs": [],
   "source": [
    "class Car(FourWheel):\n",
    "    def __init__(self):\n",
    "        Robot.__init__(self)\n",
    "        Vehicle.__ini__(self)"
   ]
  },
  {
   "cell_type": "code",
   "execution_count": null,
   "id": "2a946d39-c669-46c9-bac0-88691117216d",
   "metadata": {},
   "outputs": [],
   "source": [
    "root, role, us"
   ]
  },
  {
   "cell_type": "markdown",
   "id": "bc96b585-a8ca-42f9-9acd-167d71f87025",
   "metadata": {},
   "source": [
    "### AI"
   ]
  },
  {
   "cell_type": "code",
   "execution_count": null,
   "id": "eab10946-48af-4bf7-917a-343120c5cbfe",
   "metadata": {},
   "outputs": [],
   "source": [
    "import torch\n",
    "from torch import nn\n",
    "import torch.nn.functional as F"
   ]
  },
  {
   "cell_type": "code",
   "execution_count": null,
   "id": "86321f4d-590c-42b2-9f0c-b000aaf4d586",
   "metadata": {},
   "outputs": [],
   "source": [
    "ray.put"
   ]
  },
  {
   "cell_type": "code",
   "execution_count": null,
   "id": "677e69e1-2d0e-4e46-bb44-1a517ceabe38",
   "metadata": {},
   "outputs": [],
   "source": [
    "import ray"
   ]
  },
  {
   "cell_type": "code",
   "execution_count": null,
   "id": "c79ad429-e973-4bcb-b2a8-a9108d6e6de9",
   "metadata": {},
   "outputs": [],
   "source": [
    "ray.data.from_items(items)"
   ]
  },
  {
   "cell_type": "code",
   "execution_count": null,
   "id": "e237fd98-9887-4ad5-a4b7-0b229d96a34a",
   "metadata": {},
   "outputs": [],
   "source": [
    "llmchain, transform, seqe"
   ]
  },
  {
   "cell_type": "code",
   "execution_count": null,
   "id": "b3b15d51-a820-4411-83da-3590d071d085",
   "metadata": {},
   "outputs": [],
   "source": [
    "batch_size, 32, h, w"
   ]
  },
  {
   "cell_type": "code",
   "execution_count": null,
   "id": "e16d5285-7f89-40e5-bf11-7c8944903b21",
   "metadata": {},
   "outputs": [],
   "source": [
    "def dropout_layer(x, prob):\n",
    "    assert 0 <= prob <= 1\n",
    "    \n",
    "    if prob == 1:\n",
    "        return torch.zeros_like(x)\n",
    "\n",
    "    mask = (torch.randn(x.shape) > dropout).float()\n",
    "    return (mask * x) / (1-dropout)"
   ]
  },
  {
   "cell_type": "code",
   "execution_count": null,
   "id": "4c30f54a-d51b-4e66-b6ee-38a62f6b1d0f",
   "metadata": {},
   "outputs": [],
   "source": [
    "ray.get"
   ]
  },
  {
   "cell_type": "code",
   "execution_count": null,
   "id": "76430588-5aab-4eb2-83fd-63656e0c987c",
   "metadata": {},
   "outputs": [],
   "source": [
    "out of vocab"
   ]
  },
  {
   "cell_type": "code",
   "execution_count": null,
   "id": "bd053487-041c-4961-86c7-c7e9dc8bd485",
   "metadata": {},
   "outputs": [],
   "source": [
    "from einops import rearrange"
   ]
  },
  {
   "cell_type": "code",
   "execution_count": null,
   "id": "00f81720-1270-474a-9593-9eca7b96c0f2",
   "metadata": {},
   "outputs": [],
   "source": [
    "def compute_loss(model, xb, yb):\n",
    "    logits = model(xb)\n",
    "    \n",
    "    logits = rearrange(\n",
    "        logits,\n",
    "        \"batch_size seq_len n_embed -> (batch_size seq_len) n_embed\"\n",
    "    )\n",
    "    yb = rearrange(yb, \"b s -> (b s)\")\n",
    "    \n",
    "    loss = F.cross_entropy(logits, yb)"
   ]
  },
  {
   "cell_type": "code",
   "execution_count": null,
   "id": "bf6c4ec8-f978-4017-a166-da42a0e35bb3",
   "metadata": {},
   "outputs": [],
   "source": [
    "from transformers import AutoModel"
   ]
  },
  {
   "cell_type": "code",
   "execution_count": null,
   "id": "914e05e8-d54a-4a27-a94c-baddb1584d9a",
   "metadata": {},
   "outputs": [],
   "source": [
    "class CustomTokenClassifier(nn.Module):\n",
    "    def __init__(self, checkpoint, n_labels, dropout):\n",
    "        super().__init__()\n",
    "        self.model = AutoModel.from_pretrained(checkpoint)\n",
    "        self.dropout = nn.Dropout(dropout)\n",
    "        self.classifier = nn.Linear(768, n_labels)\n",
    "    \n",
    "    def forward(self, input_ids, attention_mask):\n",
    "        output = self.model(\n",
    "            input_ids=input_ids,\n",
    "            attention_mask=attention_mask\n",
    "        )\n",
    "        last_hidden_states = output.last_hidden_states\n",
    "        return self.classifier(self.dropout(last_hidden_states))"
   ]
  },
  {
   "cell_type": "code",
   "execution_count": null,
   "id": "9081c855-62e2-4fab-b972-b5023eca97e1",
   "metadata": {},
   "outputs": [],
   "source": [
    "from torch.nn.utils import clip_grad_norm_"
   ]
  },
  {
   "cell_type": "code",
   "execution_count": null,
   "id": "ac75c677-c3e0-4cee-8b6c-20ec7fd611e4",
   "metadata": {},
   "outputs": [],
   "source": [
    "clip_grad_norm_(param_1, max_norm=GRAD_CLIP_NORM)"
   ]
  },
  {
   "cell_type": "code",
   "execution_count": null,
   "id": "38ce775e-4ae4-4941-a0f3-96dc050e70b0",
   "metadata": {},
   "outputs": [],
   "source": [
    "from einops import repeat"
   ]
  },
  {
   "cell_type": "code",
   "execution_count": null,
   "id": "4baa0e43-5567-4bff-9fc6-e6aba0c7bbff",
   "metadata": {},
   "outputs": [],
   "source": [
    "output = repeat(x, \"h w -> h w n\", n=2)"
   ]
  },
  {
   "cell_type": "code",
   "execution_count": null,
   "id": "4efc1286-489a-4c64-a9c0-8976b077f008",
   "metadata": {},
   "outputs": [],
   "source": [
    "def dropout_layer(x, prob):\n",
    "    assert 0 <= prob <= 1\n",
    "    if prob == 1:\n",
    "        return torch.zeros_like(x)\n",
    "    \n",
    "    mask = (torch.randn(x.shape) > x).float()\n",
    "    return (x*mask) / (1-prob)"
   ]
  },
  {
   "cell_type": "code",
   "execution_count": null,
   "id": "39e205e7-dd22-477b-ae7e-d21348673e51",
   "metadata": {},
   "outputs": [],
   "source": [
    "import ray"
   ]
  },
  {
   "cell_type": "code",
   "execution_count": null,
   "id": "bcbbdbae-196b-4edf-9d06-e6868d6fe3dd",
   "metadata": {},
   "outputs": [],
   "source": [
    "ray.data.from_items"
   ]
  },
  {
   "cell_type": "code",
   "execution_count": null,
   "id": "3fc9e395-067b-46e4-8004-e4c7d64d7c44",
   "metadata": {},
   "outputs": [],
   "source": [
    "from langchain.agents import AgentExecutor"
   ]
  },
  {
   "cell_type": "code",
   "execution_count": null,
   "id": "99d0e092-c5b2-4754-9836-ecf289722aa5",
   "metadata": {},
   "outputs": [],
   "source": [
    "agent = AgentExecutor(agent, tools)"
   ]
  }
 ],
 "metadata": {
  "kernelspec": {
   "display_name": "Python 3 (ipykernel)",
   "language": "python",
   "name": "python3"
  }
 },
 "nbformat": 4,
 "nbformat_minor": 5
}
