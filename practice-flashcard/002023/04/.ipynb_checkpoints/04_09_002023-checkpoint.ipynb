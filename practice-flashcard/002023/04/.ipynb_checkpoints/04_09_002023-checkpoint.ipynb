{
 "cells": [
  {
   "cell_type": "markdown",
   "id": "feaa3d7e-2e17-4a7a-a9dc-8c21c3e9d91a",
   "metadata": {},
   "source": [
    "### Science"
   ]
  },
  {
   "cell_type": "code",
   "execution_count": null,
   "id": "af369a3e-2a0a-4fe8-a171-02b9e6eca12f",
   "metadata": {},
   "outputs": [],
   "source": [
    "simple diffusion, facilitated diffusion"
   ]
  },
  {
   "cell_type": "code",
   "execution_count": null,
   "id": "c1d87757-bb9e-4e2c-8f4d-c5f60bc85cf8",
   "metadata": {},
   "outputs": [],
   "source": [
    "retina > optic nerve > thalamus > visual cortex"
   ]
  },
  {
   "cell_type": "markdown",
   "id": "7c26c8c8-5762-49ba-963d-a6ae33558d35",
   "metadata": {},
   "source": [
    "### Python"
   ]
  },
  {
   "cell_type": "code",
   "execution_count": null,
   "id": "aff56e4c-e633-449d-b34d-299db87c325d",
   "metadata": {},
   "outputs": [],
   "source": [
    "from typing import List, Optional, Dict"
   ]
  },
  {
   "cell_type": "code",
   "execution_count": null,
   "id": "5607d690-e65a-46be-b93d-fbf414280023",
   "metadata": {},
   "outputs": [],
   "source": [
    "def create_author_count_mapping(\n",
    "    cookbooks: List[CookBook]\n",
    ") -> Optional[Dict[str, CookBook]]:\n",
    "    pass"
   ]
  },
  {
   "cell_type": "markdown",
   "id": "7cd01454-5ce0-44b5-93a6-6949ce960d9c",
   "metadata": {},
   "source": [
    "### AI"
   ]
  },
  {
   "cell_type": "code",
   "execution_count": null,
   "id": "eabf2b99-f778-4d43-af52-c7d35689c107",
   "metadata": {},
   "outputs": [],
   "source": [
    "import torch\n",
    "from torch import nn\n",
    "import torch.nn.functional as F"
   ]
  },
  {
   "cell_type": "code",
   "execution_count": null,
   "id": "dcd8f1ba-7f25-4cb9-8c21-df3a456c5d0a",
   "metadata": {},
   "outputs": [],
   "source": [
    "def std(x):\n",
    "    return (x-x.mean()).sqr"
   ]
  },
  {
   "cell_type": "code",
   "execution_count": null,
   "id": "23efcb7d-09f2-427c-80cb-12298065b61b",
   "metadata": {},
   "outputs": [],
   "source": [
    "tokens = model.to_tokens(prompt)"
   ]
  },
  {
   "cell_type": "code",
   "execution_count": null,
   "id": "23a112d0-c681-4292-b0a7-473b8d741191",
   "metadata": {},
   "outputs": [],
   "source": [
    "logits = model(tokens)"
   ]
  },
  {
   "cell_type": "code",
   "execution_count": null,
   "id": "1cf2a05b-148c-4a87-94e7-ef763fe923f6",
   "metadata": {},
   "outputs": [],
   "source": [
    "def logit_diff(logits, correct_answer, incorrect_answer):\n",
    "    correct_idx = model.to_single_token(correct_answer)\n",
    "    incorrect_idx = model.to_single_token(incorrect_answer)\n",
    "    \n",
    "    return logits[0, -1, :][correct_idx] - logits[0, -1, :][incorrect_idx]"
   ]
  },
  {
   "cell_type": "code",
   "execution_count": null,
   "id": "04a6a6dd-2144-4aa5-9134-a22175a9e34a",
   "metadata": {},
   "outputs": [],
   "source": [
    "diff = logit_diff(logits, correct_answer=)"
   ]
  },
  {
   "cell_type": "code",
   "execution_count": null,
   "id": "5568c625-99b2-46ed-b124-7ae691bd8b72",
   "metadata": {},
   "outputs": [],
   "source": [
    "class _Model(nn.Module):\n",
    "    def __init__(self):\n",
    "        super().__init__()\n",
    "        self.register_buffer('means', _one_vector)"
   ]
  },
  {
   "cell_type": "code",
   "execution_count": null,
   "id": "314e922b-7076-4279-9d6a-74adb44cf0fe",
   "metadata": {},
   "outputs": [],
   "source": [
    "from ray import tune\n",
    "from ray.tune.schedulers import HyperBandScheduler"
   ]
  },
  {
   "cell_type": "code",
   "execution_count": null,
   "id": "e0a7f665-798e-45b1-aab8-215d4b1528af",
   "metadata": {},
   "outputs": [],
   "source": [
    "scheduler = HyperBandScheduler()"
   ]
  },
  {
   "cell_type": "code",
   "execution_count": null,
   "id": "2159c15b-0e76-449a-8dd3-22b96e04aacf",
   "metadata": {},
   "outputs": [],
   "source": [
    "result = tune.run(\n",
    "    objective,\n",
    "    config=search_space,\n",
    "    scheduler=scheduler\n",
    ")"
   ]
  },
  {
   "cell_type": "code",
   "execution_count": null,
   "id": "eaa6ebc2-5fbd-47dd-a144-bda311dc837f",
   "metadata": {},
   "outputs": [],
   "source": [
    "split, window, truncation"
   ]
  },
  {
   "cell_type": "code",
   "execution_count": null,
   "id": "25b18750-4f2c-4506-9a36-ddc21770f0df",
   "metadata": {},
   "outputs": [],
   "source": [
    "from ray.rllib.algorithms.ppo import PPOConfig"
   ]
  },
  {
   "cell_type": "code",
   "execution_count": null,
   "id": "a0ffd318-2331-4917-b944-5163a6c225a0",
   "metadata": {},
   "outputs": [],
   "source": [
    "model = PPOConfig().framework(\"torch\").environment(\"CartPole-v1\").build()"
   ]
  },
  {
   "cell_type": "code",
   "execution_count": null,
   "id": "eb198c93-f0f4-402b-8c49-c702b49c950b",
   "metadata": {},
   "outputs": [],
   "source": [
    "from ray.train.rl.rl_trainer import RLTrainer"
   ]
  },
  {
   "cell_type": "code",
   "execution_count": null,
   "id": "0ad99b5d-1eb3-4ef7-b83c-b3f23db610c3",
   "metadata": {},
   "outputs": [],
   "source": [
    "trainer = RLTrainer(algorithm=\"PPO\")"
   ]
  },
  {
   "cell_type": "code",
   "execution_count": null,
   "id": "cc6bab7c-baab-47e5-86f3-6a7c03278b5c",
   "metadata": {},
   "outputs": [],
   "source": [
    "from torch import einsum"
   ]
  },
  {
   "cell_type": "code",
   "execution_count": null,
   "id": "985aa979-0de5-4802-ab0e-c85589d3a55a",
   "metadata": {},
   "outputs": [],
   "source": [
    "output = einsum(\"ij->ji\", a)"
   ]
  },
  {
   "cell_type": "code",
   "execution_count": null,
   "id": "83e147c5-6fe6-4276-ad78-0d986623b977",
   "metadata": {},
   "outputs": [],
   "source": [
    "from transformer_lens import HookedTransformer"
   ]
  },
  {
   "cell_type": "code",
   "execution_count": null,
   "id": "95abe1b2-a0d9-46aa-8fb2-b28120d7f86e",
   "metadata": {},
   "outputs": [
    {
     "name": "stderr",
     "output_type": "stream",
     "text": [
      "Using pad_token, but it is not set yet.\n"
     ]
    },
    {
     "name": "stdout",
     "output_type": "stream",
     "text": [
      "Loaded pretrained model gpt2-small into HookedTransformer\n"
     ]
    }
   ],
   "source": [
    "model = HookedTransformer.from_pretrained(\"gpt2-small\")"
   ]
  },
  {
   "cell_type": "code",
   "execution_count": null,
   "id": "ea9a1479-447f-4d6e-be65-afaab62f998e",
   "metadata": {},
   "outputs": [],
   "source": [
    "def hook_func(act, hook):\n",
    "    print(act.shape)"
   ]
  },
  {
   "cell_type": "code",
   "execution_count": null,
   "id": "6bc5a91f-422c-4063-8a08-9f29e53c1ceb",
   "metadata": {},
   "outputs": [],
   "source": [
    "model.run_with_hooks(\n",
    "    tokens\n",
    "    return_type=\"loss\",\n",
    "    fwd_hooks=[(hook_name, hook_func)]\n",
    ")"
   ]
  },
  {
   "cell_type": "code",
   "execution_count": null,
   "id": "eeaf35da-e625-49d4-ab0e-c76d17b08f00",
   "metadata": {},
   "outputs": [],
   "source": [
    "from einops import reduce"
   ]
  },
  {
   "cell_type": "code",
   "execution_count": null,
   "id": "47ce7fb7-6034-4a14-acc1-f3a85b0af44b",
   "metadata": {},
   "outputs": [],
   "source": [
    "output = reduce(images, 'b c h w -> b h w', reduction=\"mean\")"
   ]
  },
  {
   "cell_type": "code",
   "execution_count": null,
   "id": "1faae069-e80a-4826-bf8b-e666aa5fc29b",
   "metadata": {},
   "outputs": [],
   "source": [
    "from jax import grad"
   ]
  },
  {
   "cell_type": "code",
   "execution_count": null,
   "id": "230842ea-d062-4f8f-9898-b3d8fa25c294",
   "metadata": {},
   "outputs": [],
   "source": [
    "grad*square, has_aux=t("
   ]
  },
  {
   "cell_type": "code",
   "execution_count": null,
   "id": "e9e5964e-7eb5-4833-86cc-4cc27acb1691",
   "metadata": {},
   "outputs": [],
   "source": [
    "from functools import partial"
   ]
  },
  {
   "cell_type": "code",
   "execution_count": null,
   "id": "3cbc0124-a264-4fb0-800c-cb9796d475a3",
   "metadata": {},
   "outputs": [],
   "source": [
    "import jax"
   ]
  },
  {
   "cell_type": "code",
   "execution_count": null,
   "id": "dfa5b563-5dd2-411d-9c32-63f089a36a5e",
   "metadata": {},
   "outputs": [],
   "source": [
    "@partial(jax.jit, static_argnames=[\"n\"])\n",
    "def demo(x, n):\n",
    "    pass"
   ]
  },
  {
   "cell_type": "code",
   "execution_count": null,
   "id": "629d5065-e15e-4903-ab27-090afa134d9f",
   "metadata": {},
   "outputs": [],
   "source": [
    "def hook_func(act, hook):\n",
    "    print(act.shape)"
   ]
  },
  {
   "cell_type": "code",
   "execution_count": null,
   "id": "5a0810b2-56cf-4c08-92c3-a832cbd30d19",
   "metadata": {},
   "outputs": [],
   "source": [
    "model.run_with_hooks(\n",
    "    tokens,\n",
    "    fwd_hooks=[(hook_name, hook_func)]\n",
    ")"
   ]
  },
  {
   "cell_type": "code",
   "execution_count": null,
   "id": "e000dd91-05bf-4df9-a59d-dd3776f566ea",
   "metadata": {},
   "outputs": [],
   "source": [
    "def hook_func(act, hook):\n",
    "    act[:, :, 4, :] = 0.\n",
    "    return act"
   ]
  },
  {
   "cell_type": "code",
   "execution_count": null,
   "id": "45214c1c-ea57-466b-84e3-9c45aa7b8e53",
   "metadata": {},
   "outputs": [],
   "source": [
    "model.run_with_hooks(\n",
    "    tokens,\n",
    "    return_type=\"loss\",\n",
    "    fwd_hooks=[(hook_name, hook_func)]\n",
    ")"
   ]
  },
  {
   "cell_type": "code",
   "execution_count": null,
   "id": "fa0a7e8c-3387-4b20-a1eb-bfaa7056526e",
   "metadata": {},
   "outputs": [],
   "source": [
    "def hook_func(act, hook):\n",
    "    clean = clean_acts[hook.name]\n",
    "    act[:, 1, :] = clean"
   ]
  }
 ],
 "metadata": {
  "kernelspec": {
   "display_name": "Python 3 (ipykernel)",
   "language": "python",
   "name": "python3"
  }
 },
 "nbformat": 4,
 "nbformat_minor": 5
}
