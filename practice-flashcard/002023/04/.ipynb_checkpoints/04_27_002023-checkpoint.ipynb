{
 "cells": [
  {
   "cell_type": "markdown",
   "id": "e1b07467-4433-40af-91eb-73c604156241",
   "metadata": {},
   "source": [
    "### ML Engineering"
   ]
  },
  {
   "cell_type": "code",
   "execution_count": null,
   "id": "f155526d-1cdb-4d30-b8e7-998873c6cc3e",
   "metadata": {},
   "outputs": [],
   "source": [
    "import torch\n",
    "from torch import nn\n",
    "import torch.nn.functional as F"
   ]
  },
  {
   "cell_type": "code",
   "execution_count": null,
   "id": "d3d05a09-8ec3-4498-8be5-c5c5e48c99fb",
   "metadata": {},
   "outputs": [],
   "source": [
    "class Vehicle:\n",
    "    def say_hello(self):\n",
    "        return \"Hello\"\n",
    "    \n",
    "    def func(self):\n",
    "        new = self.__class__()"
   ]
  },
  {
   "cell_type": "markdown",
   "id": "a4349e38-608f-4dcb-b52f-510fe7b29e5f",
   "metadata": {},
   "source": [
    "### Engineering"
   ]
  },
  {
   "cell_type": "code",
   "execution_count": null,
   "id": "68e07ae9-4ed9-4cbc-8a36-255ddd76537d",
   "metadata": {},
   "outputs": [],
   "source": [
    "import torch.distributed as dist\n",
    "import torch.multiprocessing as mp"
   ]
  },
  {
   "cell_type": "code",
   "execution_count": null,
   "id": "6dd7736c-3c59-42c5-9918-92c2caa0a910",
   "metadata": {},
   "outputs": [],
   "source": [
    "mp.set_start_method(\"spawn\")"
   ]
  },
  {
   "cell_type": "code",
   "execution_count": null,
   "id": "236164a3-f40d-4d2d-9ce3-5747ce794c9c",
   "metadata": {},
   "outputs": [],
   "source": [
    "for n in range(4):\n",
    "    process = mp.Process(target=func, args=(n,))\n",
    "    process.start()"
   ]
  },
  {
   "cell_type": "code",
   "execution_count": null,
   "id": "8851645f-abe3-483d-aa0c-75027491ea7e",
   "metadata": {},
   "outputs": [],
   "source": [
    "dist.broadcast(x, src=0)"
   ]
  },
  {
   "cell_type": "code",
   "execution_count": null,
   "id": "3e2e606d-827c-44bc-a382-5afad4e49f62",
   "metadata": {},
   "outputs": [],
   "source": [
    "step 1: scale the loss\n",
    "step 2: compute the grad with respect to the scaled loss\n",
    "step 3: accumulate the gradient\n",
    "step 4: update if "
   ]
  },
  {
   "cell_type": "code",
   "execution_count": null,
   "id": "5e269ae4-b03d-476a-9582-f29e664a443b",
   "metadata": {},
   "outputs": [],
   "source": [
    "def compute_total_memory(model):\n",
    "    total_size = 0\n",
    "    for param in model.parameters():\n",
    "        param.storage.size() * "
   ]
  },
  {
   "cell_type": "code",
   "execution_count": null,
   "id": "3ee35c62-bdea-497e-b27c-08e9ad500964",
   "metadata": {},
   "outputs": [],
   "source": [
    "def profile_times(model, batch):\n",
    "    records = [[] for _ in model]\n",
    "    \n",
    "    for i, layer in enumerate(model):\n",
    "        start_time = time.time()\n",
    "        \n",
    "        outputs = layer(batch)\n",
    "        grad_output = [x for x in outputs if x.requires_grad]\n",
    "        \n",
    "        if grad_output:\n",
    "            grad = torch.autograd.backward(grad_output, grad_output)\n",
    "        \n",
    "        end_time = time.time()\n",
    "        records[i] = end_time - start_time\n",
    "    \n",
    "    return records"
   ]
  },
  {
   "cell_type": "markdown",
   "id": "dd9b1fd2-0b6f-4eed-93fe-77537a79062d",
   "metadata": {},
   "source": [
    "### AI"
   ]
  },
  {
   "cell_type": "code",
   "execution_count": null,
   "id": "27f2b660-804b-4f98-b9fe-68df7a024d13",
   "metadata": {},
   "outputs": [],
   "source": [
    "import torch\n",
    "from torch import nn\n",
    "import torch.nn.functional as F"
   ]
  },
  {
   "cell_type": "code",
   "execution_count": null,
   "id": "08dc3ce2-d142-41d8-a715-2c5f1849fcd0",
   "metadata": {},
   "outputs": [],
   "source": [
    "import ray"
   ]
  },
  {
   "cell_type": "code",
   "execution_count": null,
   "id": "2d93fc2e-51c3-46fd-82d8-76cfb4af9432",
   "metadata": {},
   "outputs": [],
   "source": [
    "@ray.remote\n",
    "def fast_retrieve(x):\n",
    "    return retrieve(x)"
   ]
  },
  {
   "cell_type": "code",
   "execution_count": null,
   "id": "e6e1edd2-52d2-4119-8551-0e2d579d1ee4",
   "metadata": {},
   "outputs": [],
   "source": [
    "data = [fast_retrieve.remote(item) for item in range(8)]"
   ]
  },
  {
   "cell_type": "code",
   "execution_count": null,
   "id": "55b3c9b2-42d5-44bb-b336-5c977788a0b6",
   "metadata": {},
   "outputs": [],
   "source": [
    "torch.no_grad()"
   ]
  },
  {
   "cell_type": "code",
   "execution_count": null,
   "id": "f8e1b03c-9153-413f-a631-cc74c154b31a",
   "metadata": {},
   "outputs": [],
   "source": [
    "from torch import nn"
   ]
  },
  {
   "cell_type": "code",
   "execution_count": null,
   "id": "245d385f-a848-4327-9967-60e0c4edb725",
   "metadata": {},
   "outputs": [],
   "source": [
    "nn.DataParallel()"
   ]
  },
  {
   "cell_type": "code",
   "execution_count": null,
   "id": "17136f0c-1442-4f71-ac39-c1f2b430e1ed",
   "metadata": {},
   "outputs": [],
   "source": [
    "step 1: data\n",
    "step 2: record\n",
    "step 3: normalize\n",
    "step 4: plot"
   ]
  },
  {
   "cell_type": "code",
   "execution_count": null,
   "id": "f9bea282-f679-4cf1-aaaf-eba1c689ce56",
   "metadata": {},
   "outputs": [],
   "source": [
    "import torch.distributed as dist"
   ]
  },
  {
   "cell_type": "code",
   "execution_count": null,
   "id": "477cf070-ee84-4eb3-9418-4dc9bed6ae2a",
   "metadata": {},
   "outputs": [],
   "source": [
    "dist.reduce()"
   ]
  },
  {
   "cell_type": "code",
   "execution_count": null,
   "id": "fc38ed95-839d-4092-8c2e-b55353bdff31",
   "metadata": {},
   "outputs": [],
   "source": [
    "from einops import rearrange"
   ]
  },
  {
   "cell_type": "code",
   "execution_count": null,
   "id": "7f127740-d011-47e1-8103-05859ce57044",
   "metadata": {},
   "outputs": [],
   "source": [
    "result = rearrange(x, \"b c h w -> b c (h w)\")"
   ]
  },
  {
   "cell_type": "code",
   "execution_count": null,
   "id": "819dfd89-4476-48ef-b477-21484a0578aa",
   "metadata": {},
   "outputs": [],
   "source": []
  }
 ],
 "metadata": {
  "kernelspec": {
   "display_name": "Python 3 (ipykernel)",
   "language": "python",
   "name": "python3"
  }
 },
 "nbformat": 4,
 "nbformat_minor": 5
}
