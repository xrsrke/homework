{
 "cells": [
  {
   "cell_type": "markdown",
   "id": "121ac0bb-7273-48a6-8886-d2034226d3c0",
   "metadata": {},
   "source": [
    "### Science"
   ]
  },
  {
   "cell_type": "code",
   "execution_count": null,
   "id": "1be363b1-fc6b-48f2-90f1-e6d33a6beb9f",
   "metadata": {},
   "outputs": [],
   "source": [
    "import matplotlib.pyplot as plt"
   ]
  },
  {
   "cell_type": "code",
   "execution_count": null,
   "id": "a17d42eb-5c5f-4987-8ab0-6fdcc73d7bab",
   "metadata": {},
   "outputs": [],
   "source": [
    "import sympy as smp"
   ]
  },
  {
   "cell_type": "code",
   "execution_count": null,
   "id": "191f503e-59ba-4514-bfde-df7fb3a0866b",
   "metadata": {},
   "outputs": [],
   "source": [
    "m, h, E, psi, dpsi = 1, 1, 5, 0, 1"
   ]
  },
  {
   "cell_type": "code",
   "execution_count": null,
   "id": "e7679486-cf78-4881-8c69-3792dc9afa39",
   "metadata": {},
   "outputs": [],
   "source": [
    "a = 1"
   ]
  },
  {
   "cell_type": "code",
   "execution_count": null,
   "id": "2c7ba2fa-c614-4c8c-b2cb-ae5f7e81b659",
   "metadata": {},
   "outputs": [],
   "source": [
    "V = 0"
   ]
  },
  {
   "cell_type": "code",
   "execution_count": null,
   "id": "a9a217f7-0ade-4d5e-b3c9-fdf9451d6124",
   "metadata": {},
   "outputs": [],
   "source": [
    "dx = a / 1000"
   ]
  },
  {
   "cell_type": "code",
   "execution_count": null,
   "id": "61ec54e1-afaf-4007-b79e-04bc0fb9b69e",
   "metadata": {},
   "outputs": [],
   "source": [
    "x = 0\n",
    "x_list = []\n",
    "psi_list = []\n",
    "\n",
    "while x <= a:\n",
    "    ddpsi = ((2*m)/(h**2))*(V-E)*psi\n",
    "    dpsi = dpsi + dx*ddpsi\n",
    "    psi = psi + dx*dpsi\n",
    "    x += dx\n",
    "    \n",
    "    x_list.append(x)\n",
    "    psi_list.append(psi)"
   ]
  },
  {
   "cell_type": "code",
   "execution_count": null,
   "id": "aacdf649-1b3f-46ac-a0a6-257b83b0ccc3",
   "metadata": {},
   "outputs": [
    {
     "data": {
      "text/plain": [
       "[<matplotlib.lines.Line2D>]"
      ]
     },
     "execution_count": null,
     "metadata": {},
     "output_type": "execute_result"
    },
    {
     "data": {
      "image/png": "[encoded data removed]",
      "text/plain": [
       "<Figure size 640x480 with 1 Axes>"
      ]
     },
     "metadata": {},
     "output_type": "display_data"
    }
   ],
   "source": [
    "plt.plot(x_list, psi_list)"
   ]
  },
  {
   "cell_type": "code",
   "execution_count": null,
   "id": "05195c32-46a1-4697-8883-30b3ba0b77fa",
   "metadata": {},
   "outputs": [],
   "source": [
    "tempearture, concepti"
   ]
  },
  {
   "cell_type": "code",
   "execution_count": null,
   "id": "6bc0122e-265b-4b14-90a2-1b7eab1ee2e3",
   "metadata": {},
   "outputs": [],
   "source": [
    "v_1x, v_2x, m, J = smp.symbols(\"v_1x, v_2x, m, J\")"
   ]
  },
  {
   "cell_type": "code",
   "execution_count": null,
   "id": "c8e144bd-859f-4eb2-adbb-5c6ce8a84223",
   "metadata": {},
   "outputs": [
    {
     "data": {
      "text/latex": [
       "$\\displaystyle v_{1x}$"
      ],
      "text/plain": [
       "v_1x"
      ]
     },
     "execution_count": null,
     "metadata": {},
     "output_type": "execute_result"
    }
   ],
   "source": [
    "v_1x"
   ]
  },
  {
   "cell_type": "code",
   "execution_count": null,
   "id": "ff5128f2-499c-4630-a7dd-25bf5a67052b",
   "metadata": {},
   "outputs": [],
   "source": [
    "eq = smp.Eq(J, v_2x*m-v_1x*m)"
   ]
  },
  {
   "cell_type": "code",
   "execution_count": null,
   "id": "4420f32f-57e7-4fa7-abbf-65e1b3204fe1",
   "metadata": {},
   "outputs": [
    {
     "data": {
      "text/latex": [
       "$\\displaystyle J = - m v_{1x} + m v_{2x}$"
      ],
      "text/plain": [
       "Eq(J, -m*v_1x + m*v_2x)"
      ]
     },
     "execution_count": null,
     "metadata": {},
     "output_type": "execute_result"
    }
   ],
   "source": [
    "eq"
   ]
  },
  {
   "cell_type": "code",
   "execution_count": null,
   "id": "22964ebb-e6d0-4467-95c7-fd49984c0704",
   "metadata": {},
   "outputs": [],
   "source": [
    "import sympy.physics.units as u"
   ]
  },
  {
   "cell_type": "code",
   "execution_count": null,
   "id": "dae51900-d6bf-4800-8338-92f78b132ad8",
   "metadata": {},
   "outputs": [
    {
     "data": {
      "text/latex": [
       "$\\displaystyle J = \\frac{20.0 \\text{kg} \\text{m}}{\\text{s}}$"
      ],
      "text/plain": [
       "Eq(J, 20.0*kilogram*meter/second)"
      ]
     },
     "execution_count": null,
     "metadata": {},
     "output_type": "execute_result"
    }
   ],
   "source": [
    "eq.subs({\n",
    "    m: 0.4*u.kilogram,\n",
    "    v_1x: -30*u.meter/u.second,\n",
    "    v_2x: 20*u.meter/u.second\n",
    "})"
   ]
  },
  {
   "cell_type": "code",
   "execution_count": null,
   "id": "793fd116-7cd8-43d1-9244-61328948cc87",
   "metadata": {},
   "outputs": [],
   "source": [
    "less correlated,  "
   ]
  },
  {
   "cell_type": "code",
   "execution_count": null,
   "id": "a93b2258-b6c3-415e-9a9e-4ab715cc9334",
   "metadata": {},
   "outputs": [],
   "source": [
    "retina > optic nerve > thalamus > visual cortex"
   ]
  },
  {
   "cell_type": "markdown",
   "id": "de0d215f-2b3a-4716-80cf-818732ece43f",
   "metadata": {},
   "source": [
    "### Python"
   ]
  },
  {
   "cell_type": "code",
   "execution_count": null,
   "id": "1d26ae8b-e1f9-4009-9bc2-0b2e884cd16b",
   "metadata": {},
   "outputs": [],
   "source": [
    "from enum import Enum"
   ]
  },
  {
   "cell_type": "code",
   "execution_count": null,
   "id": "6262bdb5-dcd3-4850-9a75-33bc7b589842",
   "metadata": {},
   "outputs": [],
   "source": [
    "class Colors(Enum):\n",
    "    RED = \"Red\"\n",
    "    ORANGE = \"Orange\"\n",
    "    BLUE = \"Blue\"\n",
    "    \n",
    "    @property\n",
    "    def is_hot(self):\n",
    "        return self in [Colors.RED, Colors.ORANGE]"
   ]
  },
  {
   "cell_type": "markdown",
   "id": "22cc2c61-17ff-4d19-8266-488f169f7ee2",
   "metadata": {},
   "source": [
    "### AI"
   ]
  },
  {
   "cell_type": "code",
   "execution_count": null,
   "id": "4c5c6358-2efe-46ef-b606-1f2fdf455d44",
   "metadata": {},
   "outputs": [],
   "source": [
    "import torch\n",
    "from torch import nn\n",
    "import torch.nn.functional as F"
   ]
  },
  {
   "cell_type": "code",
   "execution_count": null,
   "id": "b2e7f427-9870-4b89-8d1c-963661becd74",
   "metadata": {},
   "outputs": [],
   "source": [
    "import jax\n",
    "from jax import grad"
   ]
  },
  {
   "cell_type": "code",
   "execution_count": null,
   "id": "23f7701c-daff-4aa0-863b-fd94c4c1c66d",
   "metadata": {},
   "outputs": [],
   "source": [
    "d3fdx = grad(grad(grad(f)))"
   ]
  },
  {
   "cell_type": "code",
   "execution_count": null,
   "id": "1c16c953-d455-4695-b8e1-ec3b5ff26887",
   "metadata": {},
   "outputs": [],
   "source": [
    "from ray.train.rl.rl_trainer import RLTrainer\n",
    "from ray.air.config import ScalingConfig"
   ]
  },
  {
   "cell_type": "code",
   "execution_count": null,
   "id": "a3329fc0-a9d7-4ecb-9d66-1e386df11627",
   "metadata": {},
   "outputs": [],
   "source": [
    "trainer = RLTrainer(\n",
    "    algorithm=\"PPO\",\n",
    "    scaling_config=ScalingConfig(num_workers=3)\n",
    ")"
   ]
  },
  {
   "cell_type": "code",
   "execution_count": null,
   "id": "eebe0c81-62a7-4219-9d0e-d80f6cd9ff46",
   "metadata": {},
   "outputs": [],
   "source": [
    "import ray"
   ]
  },
  {
   "cell_type": "code",
   "execution_count": null,
   "id": "30fc634a-05c1-43b0-ad1e-d77c30ba93ec",
   "metadata": {},
   "outputs": [],
   "source": [
    "ray.get(x)"
   ]
  },
  {
   "cell_type": "code",
   "execution_count": null,
   "id": "439a6e2a-497b-4de2-8cc7-53e0a6048d3c",
   "metadata": {},
   "outputs": [],
   "source": [
    "from ray import tune\n",
    "from ray.tune.schedulers import HyperBandScheduler"
   ]
  },
  {
   "cell_type": "code",
   "execution_count": null,
   "id": "b518d5fb-7c31-4683-b458-514c87ac5460",
   "metadata": {},
   "outputs": [],
   "source": [
    "tune.run(\n",
    "    objective,\n",
    "    config=search_space,\n",
    "    scheduler=HyperBandScheduler\n",
    ")"
   ]
  },
  {
   "cell_type": "code",
   "execution_count": null,
   "id": "46419485-5e23-4022-965b-f14a3515eec9",
   "metadata": {},
   "outputs": [],
   "source": [
    "completed_tasks, pending_tasks = ray.wait(tasks, num_returns=3)"
   ]
  },
  {
   "cell_type": "code",
   "execution_count": null,
   "id": "ae2230d1-3ad0-4d62-9a51-6b765db62cf0",
   "metadata": {},
   "outputs": [],
   "source": [
    "torch.clamp_min(x, 2)"
   ]
  },
  {
   "cell_type": "code",
   "execution_count": null,
   "id": "c1750e8f-adc2-4fd9-814c-789ca1f815a0",
   "metadata": {},
   "outputs": [],
   "source": [
    "def accuracy(probs, targs):\n",
    "    pred_idxs = torch.argmax(probs, dim=-1)\n",
    "    return (pred_idxs == targs).float().mean()"
   ]
  },
  {
   "cell_type": "code",
   "execution_count": null,
   "id": "15652156-173b-41b7-bb3b-172090a23061",
   "metadata": {},
   "outputs": [],
   "source": [
    "from einops import rearrange"
   ]
  },
  {
   "cell_type": "code",
   "execution_count": null,
   "id": "87b4a98e-a61c-45eb-872e-b4e32ec241ee",
   "metadata": {},
   "outputs": [],
   "source": [
    "def loss_func(model, xb, yb):\n",
    "    logits = model(xb)\n",
    "    \n",
    "    logits = rearrange(logits, 'b s n -> (b s) n')\n",
    "    yb = rearrange(yb, 'b s -> (b s)')\n",
    "    loss = F.cross_entropy(logits, yb)\n",
    "    \n",
    "    return loss"
   ]
  },
  {
   "cell_type": "code",
   "execution_count": null,
   "id": "2b6160a7-baf1-4987-ad21-8a4867dce71b",
   "metadata": {},
   "outputs": [],
   "source": [
    "loss_func = nn.KLDivLoss()"
   ]
  },
  {
   "cell_type": "code",
   "execution_count": null,
   "id": "43d94441-7cbc-4d22-9379-233687eb3f08",
   "metadata": {},
   "outputs": [],
   "source": [
    "loss = loss_func(\n",
    "    input=F.log_softmax(student_logits, dim=-1),\n",
    "    target=F.softmax(teacher_logits, dim=-1)\n",
    ")"
   ]
  },
  {
   "cell_type": "code",
   "execution_count": null,
   "id": "191a0055-1f55-4a96-be25-1410bda4173e",
   "metadata": {},
   "outputs": [],
   "source": [
    "targets = F.softmax(\n",
    "    (text_embeddings + image_embeddings) / 2*temperature,\n",
    "    dim=-1 Cascade models of synaptically stored memories.\n",
    ")"
   ]
  },
  {
   "cell_type": "code",
   "execution_count": null,
   "id": "f8ca5679-5228-4b71-9815-4a183228590b",
   "metadata": {},
   "outputs": [],
   "source": [
    "from einops import rearrange"
   ]
  },
  {
   "cell_type": "code",
   "execution_count": null,
   "id": "a88d13c6-228e-416f-a4a9-fb54a7124a98",
   "metadata": {},
   "outputs": [],
   "source": [
    "result = rearrange(images, 'b c (h w) -> b c h w')"
   ]
  }
 ],
 "metadata": {
  "kernelspec": {
   "display_name": "Python 3 (ipykernel)",
   "language": "python",
   "name": "python3"
  }
 },
 "nbformat": 4,
 "nbformat_minor": 5
}
