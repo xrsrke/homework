{
 "cells": [
  {
   "cell_type": "markdown",
   "id": "2c809631-cc52-4967-96c7-17eed2bbf260",
   "metadata": {},
   "source": [
    "### SCience"
   ]
  },
  {
   "cell_type": "code",
   "execution_count": null,
   "id": "1ce21ec4-077e-4234-b932-d66dfd77b30a",
   "metadata": {},
   "outputs": [],
   "source": [
    "retina ganglia"
   ]
  },
  {
   "cell_type": "code",
   "execution_count": null,
   "id": "caff08c8-33e5-4c2b-bba5-e91cca8b5099",
   "metadata": {},
   "outputs": [],
   "source": [
    "retina > optic nerve > thalamus > visual cortex"
   ]
  },
  {
   "cell_type": "markdown",
   "id": "cd622a63-966c-46d5-a186-f1552f40c2ee",
   "metadata": {},
   "source": [
    "### ML Engineering"
   ]
  },
  {
   "cell_type": "code",
   "execution_count": null,
   "id": "ae39eafd-11c5-4644-8e01-f8fdb4551719",
   "metadata": {},
   "outputs": [],
   "source": [
    "from metaflow import resources"
   ]
  },
  {
   "cell_type": "code",
   "execution_count": null,
   "id": "9da4e5a2-aaff-4c86-b033-171e4e3d4116",
   "metadata": {},
   "outputs": [],
   "source": [
    "from pydantic import BaseModel"
   ]
  },
  {
   "cell_type": "code",
   "execution_count": null,
   "id": "0fab917a-ace0-4b6f-88b0-2a356d1f41e7",
   "metadata": {},
   "outputs": [],
   "source": [
    "class XX(BaseModel):\n",
    "    secret: int\n",
    "    unv: int"
   ]
  },
  {
   "cell_type": "code",
   "execution_count": null,
   "id": "84881b85-aa44-486a-9c1c-68d656f0ca9c",
   "metadata": {},
   "outputs": [],
   "source": [
    "def performance(func):\n",
    "    def inner():\n",
    "        "
   ]
  },
  {
   "cell_type": "markdown",
   "id": "528f4789-6b56-4976-b6ee-98c57bca4b23",
   "metadata": {},
   "source": [
    "SELECT users.name, likes.like FROM users LEFT JOIN likes ON users.id == likes.user_id"
   ]
  },
  {
   "cell_type": "code",
   "execution_count": null,
   "id": "8be420fc-b815-466d-b49c-d189c3530b74",
   "metadata": {},
   "outputs": [],
   "source": [
    "from contextlib import contextmanager"
   ]
  },
  {
   "cell_type": "code",
   "execution_count": null,
   "id": "89f9dade-a112-4466-8334-74cfd93f9957",
   "metadata": {},
   "outputs": [],
   "source": [
    "@contextmanager\n",
    "def first_context():\n",
    "    print(\"entering the context\")\n",
    "    \n",
    "    yield\n",
    "    \n",
    "    print(\"leaving the context\")"
   ]
  },
  {
   "cell_type": "code",
   "execution_count": null,
   "id": "83b7f8a0-923e-42a1-8ba8-9174fc3db4c8",
   "metadata": {},
   "outputs": [],
   "source": [
    "age: int = 1"
   ]
  },
  {
   "cell_type": "code",
   "execution_count": null,
   "id": "d1d024cf-b0f6-46d1-bf86-1e1744120840",
   "metadata": {},
   "outputs": [],
   "source": [
    "child: bool"
   ]
  },
  {
   "cell_type": "code",
   "execution_count": null,
   "id": "eb857dbe-20cd-4c39-b547-b471d668d426",
   "metadata": {},
   "outputs": [],
   "source": [
    "ratings.groupby(\"title\")[\"\"]"
   ]
  },
  {
   "cell_type": "code",
   "execution_count": null,
   "id": "45eff11f-1a56-42d6-9f40-a8c3de1dd6ee",
   "metadata": {},
   "outputs": [],
   "source": [
    "from enum import IntEnum"
   ]
  },
  {
   "cell_type": "code",
   "execution_count": null,
   "id": "40289bea-30e1-4a96-93af-9f75c413f017",
   "metadata": {},
   "outputs": [],
   "source": [
    "class Sauce(IntEnum)"
   ]
  },
  {
   "cell_type": "code",
   "execution_count": null,
   "id": "8b26e7cb-0fa1-4d96-a1a1-b3716dbe2ae0",
   "metadata": {},
   "outputs": [],
   "source": [
    "@contextmanager\n",
    "def second_context():\n",
    "    print()\n",
    "    \n",
    "    yield print(\"Hello Wolrd\")"
   ]
  },
  {
   "cell_type": "markdown",
   "id": "0e39cace-94d0-4e08-a3ff-096c506de485",
   "metadata": {},
   "source": [
    "### Engineering"
   ]
  },
  {
   "cell_type": "code",
   "execution_count": null,
   "id": "51af131c-d266-4fd9-aa3b-d8944d5c48bc",
   "metadata": {},
   "outputs": [],
   "source": [
    "def by_column_parallelism(inputs, weights):\n",
    "    n_cols = weights.shape[-1]\n",
    "    \n",
    "    w1 = weights[:, :n_cols//2]\n",
    "    w2 = weights[:, n_cols//2:]\n",
    "    \n",
    "    out1 = inputs @ w1\n",
    "    out2 = inputs @ w2\n",
    "    \n",
    "    return torch.cat([out1, out2])"
   ]
  },
  {
   "cell_type": "code",
   "execution_count": null,
   "id": "c6518569-eb4c-40dc-b644-51d6b3f318a2",
   "metadata": {},
   "outputs": [],
   "source": [
    "def by_row_parallelism(inputs, weights):\n",
    "    n_cols = weights.shape[-1]\n",
    "    \n",
    "    x1 = inputs[:, :n_cols//2]\n",
    "    x2 = inputs[:, n_cols//2:]\n",
    "    \n",
    "    w1 = weights[:n_cols//2, :]\n",
    "    w2 = weights[n_cols//2:, :]\n",
    "    \n",
    "    out1 = x1 @ w1\n",
    "    out2 = x2 @ w2\n",
    "    \n",
    "    return out1 + out2"
   ]
  },
  {
   "cell_type": "code",
   "execution_count": null,
   "id": "4742236d-f97c-4625-bb5c-58b89ab7d120",
   "metadata": {},
   "outputs": [],
   "source": [
    "import torch\n",
    "from torch import nn\n",
    "import torch.nn.functional as F"
   ]
  },
  {
   "cell_type": "code",
   "execution_count": null,
   "id": "04d36c68-3c6c-4372-8400-d0d6551e2258",
   "metadata": {},
   "outputs": [],
   "source": [
    "class Model(nn.Module):\n",
    "    def forward(self, x, labels):\n",
    "        out = self.net(x)\n",
    "        loss = loss_func(out, labelss)\n",
    "        return out, loss"
   ]
  },
  {
   "cell_type": "code",
   "execution_count": null,
   "id": "8986d240-21be-4c58-9f78-2089d7daad04",
   "metadata": {},
   "outputs": [],
   "source": [
    "_, losses = model(x, labels)"
   ]
  },
  {
   "cell_type": "code",
   "execution_count": null,
   "id": "c55b5870-a27a-43f4-a8fd-f9e1029b0644",
   "metadata": {},
   "outputs": [],
   "source": [
    "loss.mean()"
   ]
  },
  {
   "cell_type": "code",
   "execution_count": null,
   "id": "4dd4d887-15e6-47ff-96c4-f1047802dda1",
   "metadata": {},
   "outputs": [],
   "source": [
    "from contextlib import contextmanager"
   ]
  },
  {
   "cell_type": "code",
   "execution_count": null,
   "id": "e63cc4c7-aa6b-4736-b94a-c75f9498401e",
   "metadata": {},
   "outputs": [],
   "source": [
    "@contextmanager\n",
    "def use_stream(stream):\n",
    "    if not isinstance(stream, torch.cuda.Stream):\n",
    "        yield\n",
    "        return\n",
    "    \n",
    "    with torch.cuda.stream(stream):\n",
    "        yield"
   ]
  },
  {
   "cell_type": "code",
   "execution_count": null,
   "id": "a5bd764b-88b6-4294-9a59-4f9d3c6d2a31",
   "metadata": {},
   "outputs": [],
   "source": [
    "def compute_total_memory(model):\n",
    "    total_memory = 0\n",
    "    \n",
    "    for param in model.parameters():\n",
    "        n_elements = param.element_size()\n",
    "        size = param.storage.size()\n",
    "        \n",
    "        total_memory += n_elements * size\n",
    "    \n",
    "    return total_memory"
   ]
  },
  {
   "cell_type": "code",
   "execution_count": null,
   "id": "f8ca8679-0d5c-4459-b259-76bdbe8a5d99",
   "metadata": {},
   "outputs": [],
   "source": [
    "def gather_tensors(x):\n",
    "    world_size = torch.distributed.get_world_size()\n",
    "    xs = [torch.empty_like(x) for _ in range(world_size)]\n",
    "    \n",
    "    torch.distributed.all_gather(xs, x)\n",
    "    \n",
    "    rank = torch.distributed.get_rank()\n",
    "    \n",
    "    print(rank)"
   ]
  },
  {
   "cell_type": "code",
   "execution_count": null,
   "id": "6637d502-58c4-437a-bf05-d6a44d411daf",
   "metadata": {},
   "outputs": [],
   "source": [
    "from typing import OrderedDict"
   ]
  },
  {
   "cell_type": "code",
   "execution_count": null,
   "id": "f95aeb55-c58c-441c-a357-a50c20904ff6",
   "metadata": {},
   "outputs": [],
   "source": [
    "def split_model(model, balances, devices):\n",
    "    patrition_idx = 0\n",
    "    layers = OrderedDict()\n",
    "    patritions = []\n",
    "    # [[] for _ in range(balances)]\n",
    "    \n",
    "    for name, layer in model.named_children():\n",
    "        layers[name] = layer\n",
    "        \n",
    "        if len(layers) == balances[patrition_idx]:\n",
    "            patrition = nn.Sequential(layers)\n",
    "            device = devices[patrition_idx]\n",
    "            patrition.to(device)\n",
    "            patritions.append(patritions)\n",
    "            layers.clear()\n",
    "        \n",
    "    return patritions"
   ]
  },
  {
   "cell_type": "code",
   "execution_count": null,
   "id": "7c162694-aba5-4226-b8b5-c286dde7aade",
   "metadata": {},
   "outputs": [],
   "source": [
    "def gather_tensors(x):\n",
    "    world_size = torch.distributed.get_world_size()\n",
    "    xs = [torch.empty_like(x) for _ in range(world_size)]\n",
    "    \n",
    "    torch.distributed.all_gather(xs, x)\n",
    "    \n",
    "    return xs "
   ]
  },
  {
   "cell_type": "code",
   "execution_count": null,
   "id": "ae86e278-180e-4579-b4b9-f764241c9ca2",
   "metadata": {},
   "outputs": [],
   "source": [
    "stack, heap, regiter"
   ]
  },
  {
   "cell_type": "code",
   "execution_count": null,
   "id": "97ba20fd-5e0a-4466-962d-9ec886ec126e",
   "metadata": {},
   "outputs": [],
   "source": [
    "stream1 = torch.cuda.Stream()\n",
    "stream2 = torch.cuda.Stream()"
   ]
  },
  {
   "cell_type": "code",
   "execution_count": null,
   "id": "160a0bab-9fde-4722-acf9-2a80bb67cd80",
   "metadata": {},
   "outputs": [],
   "source": [
    "with torch.cuda.stream(stream1):\n",
    "    x_mean = x.mean()\n",
    "    \n",
    "with torch.cuda.stream(stream2):\n",
    "    y_mean = y.mean()"
   ]
  },
  {
   "cell_type": "code",
   "execution_count": null,
   "id": "4a661ca5-79ea-4dff-90a2-b07eb84e3869",
   "metadata": {},
   "outputs": [],
   "source": [
    "stream1 = torch.cuda.Stream()\n",
    "stream2 = torch.cuda.Stream()"
   ]
  },
  {
   "cell_type": "code",
   "execution_count": null,
   "id": "85c632a6-7fc1-493d-838b-e4fd9f592a93",
   "metadata": {},
   "outputs": [],
   "source": [
    "with torch.cuda.stream(stream1):\n",
    "    x_mean = x.mean()\n",
    "    \n",
    "with torch.cuda.stream(stream2):\n",
    "    y_mean = y.mean()"
   ]
  },
  {
   "cell_type": "markdown",
   "id": "0929baea-fa7d-4a08-af1a-e8390c5a92ad",
   "metadata": {},
   "source": [
    "### AI"
   ]
  },
  {
   "cell_type": "code",
   "execution_count": null,
   "id": "18aa7d25-ae1c-42ec-9408-5d8093425208",
   "metadata": {},
   "outputs": [],
   "source": [
    "get_world_size"
   ]
  },
  {
   "cell_type": "code",
   "execution_count": null,
   "id": "522570ef-f6bc-4e0b-88d7-5bdd02dfeecc",
   "metadata": {},
   "outputs": [],
   "source": [
    "dist.send()"
   ]
  },
  {
   "cell_type": "code",
   "execution_count": null,
   "id": "1e4df94e-fc18-4a38-af7e-8674cf366118",
   "metadata": {},
   "outputs": [],
   "source": [
    "dist.isend()"
   ]
  },
  {
   "cell_type": "code",
   "execution_count": null,
   "id": "22d1c9bf-cd1b-410c-9199-fe486f8a0d94",
   "metadata": {},
   "outputs": [],
   "source": [
    "dist.scatter()"
   ]
  },
  {
   "cell_type": "code",
   "execution_count": null,
   "id": "57ed503d-7b77-4ff2-98d8-397e868757f3",
   "metadata": {},
   "outputs": [],
   "source": [
    "nn.parallel.parallel_apply()"
   ]
  },
  {
   "cell_type": "code",
   "execution_count": null,
   "id": "e31b1a25-a59c-4fe8-b84e-48c70d0e4b2e",
   "metadata": {},
   "outputs": [],
   "source": [
    "nn.parallel.replicate()"
   ]
  },
  {
   "cell_type": "code",
   "execution_count": null,
   "id": "00f4d416-458d-40de-b8b5-bb6cc284e4c2",
   "metadata": {},
   "outputs": [],
   "source": [
    "ctx.save_tensors"
   ]
  },
  {
   "cell_type": "code",
   "execution_count": null,
   "id": "1734c59b-fe54-4362-a412-6c34f1b9d6f3",
   "metadata": {},
   "outputs": [],
   "source": [
    "ctx.save_for_backward()"
   ]
  },
  {
   "cell_type": "code",
   "execution_count": null,
   "id": "38fcefee-cf78-452e-9272-931fb22c4f5b",
   "metadata": {},
   "outputs": [],
   "source": [
    "from flax import linen as nn"
   ]
  },
  {
   "cell_type": "code",
   "execution_count": null,
   "id": "51a3f884-ab40-4183-b2fc-e78bf0926297",
   "metadata": {},
   "outputs": [
    {
     "data": {
      "text/plain": [
       "Dense(\n",
       "    # attributes\n",
       "    features = 42\n",
       "    use_bias = 69\n",
       "    dtype = None\n",
       "    param_dtype = float32\n",
       "    precision = None\n",
       "    kernel_init = init\n",
       "    bias_init = zeros\n",
       "    dot_general = dot_general\n",
       ")"
      ]
     },
     "execution_count": null,
     "metadata": {},
     "output_type": "execute_result"
    }
   ],
   "source": [
    "nn.Dense(42, 69)"
   ]
  },
  {
   "cell_type": "code",
   "execution_count": null,
   "id": "899c9364-d56c-402e-baa8-8dd323586f9c",
   "metadata": {},
   "outputs": [],
   "source": [
    "from langchain import ZeroSh"
   ]
  },
  {
   "cell_type": "code",
   "execution_count": null,
   "id": "3a5262fd-6d0a-4be1-b67f-9e199cdb10dc",
   "metadata": {},
   "outputs": [],
   "source": [
    "nn.Parameter()"
   ]
  },
  {
   "cell_type": "code",
   "execution_count": null,
   "id": "92ba7be4-33db-4314-b41c-b071b5f8d1a8",
   "metadata": {},
   "outputs": [],
   "source": [
    "xs = WA[:, :, 0]\n",
    "ys = WA[:, :, 1]"
   ]
  },
  {
   "cell_type": "code",
   "execution_count": null,
   "id": "5b03157e-cc59-424c-9533-361139aa989d",
   "metadata": {},
   "outputs": [],
   "source": [
    "from einops import rearrange"
   ]
  },
  {
   "cell_type": "code",
   "execution_count": null,
   "id": "e9dc2525-fb66-4006-ba7a-ea23d4067417",
   "metadata": {},
   "outputs": [],
   "source": [
    "output = rearrange(\n",
    "    image,\n",
    "    \"b c (n_h p_h) (n_w p_w) -> b (n_h n_w) (p_h p_w c)\"\n",
    ")"
   ]
  },
  {
   "cell_type": "code",
   "execution_count": null,
   "id": "4e81fcfa-582d-42fd-b94d-e52e35c4addf",
   "metadata": {},
   "outputs": [],
   "source": [
    "image encoder, text encoder, projection head"
   ]
  },
  {
   "cell_type": "code",
   "execution_count": null,
   "id": "6eebbee5-bfb2-466f-a4a0-85c0ea325851",
   "metadata": {},
   "outputs": [],
   "source": [
    "dist.get_rank()"
   ]
  },
  {
   "cell_type": "code",
   "execution_count": null,
   "id": "fd404fe4-9e5d-4b09-a2e7-32add9997d18",
   "metadata": {},
   "outputs": [],
   "source": [
    "photoreceptor -> bolar -> ganglia"
   ]
  },
  {
   "cell_type": "code",
   "execution_count": null,
   "id": "4615a141-fb46-44c9-a5df-1a720de4c2d7",
   "metadata": {},
   "outputs": [],
   "source": [
    "ctx.save_for_backward()"
   ]
  },
  {
   "cell_type": "code",
   "execution_count": null,
   "id": "d00e8ebf-6b9a-43ad-a19c-7f2f4ececf5a",
   "metadata": {},
   "outputs": [],
   "source": [
    "from langchain.agents import AgentExecutor"
   ]
  },
  {
   "cell_type": "code",
   "execution_count": null,
   "id": "08caebf7-0858-4246-9a6c-2f405f93b337",
   "metadata": {},
   "outputs": [],
   "source": [
    "tokenizer.decode(input_ids)"
   ]
  },
  {
   "cell_type": "code",
   "execution_count": null,
   "id": "c593d993-2c0e-44d9-94b3-0f8586b73f77",
   "metadata": {},
   "outputs": [],
   "source": [
    "from einops import repeat"
   ]
  },
  {
   "cell_type": "code",
   "execution_count": null,
   "id": "b11ffc3f-f6bf-4715-8a64-32432606eec3",
   "metadata": {},
   "outputs": [],
   "source": [
    "output = repeat(x, \"h w -> h w n\", n=2)"
   ]
  },
  {
   "cell_type": "code",
   "execution_count": null,
   "id": "719cb991-daf8-4c8b-b033-e117664fd47a",
   "metadata": {},
   "outputs": [],
   "source": [
    "from einops import rearrange"
   ]
  },
  {
   "cell_type": "code",
   "execution_count": null,
   "id": "10716f53-2a61-461b-be90-ac35ca455ac8",
   "metadata": {},
   "outputs": [],
   "source": [
    "output = rearrange(\n",
    "    images,\n",
    "    \"b c (n_h p_h) (n_w p_w) -> b (n_h n_w) (p_h p_w c)\"\n",
    ")"
   ]
  },
  {
   "cell_type": "code",
   "execution_count": null,
   "id": "4da6a74c-d0c6-41e9-9a61-1c8b80c49880",
   "metadata": {},
   "outputs": [],
   "source": [
    "label_idx = torch.where(dsets.train[0][1] == 1.)[0]"
   ]
  },
  {
   "cell_type": "code",
   "execution_count": null,
   "id": "bb14cc34-1a41-42d5-802c-dae282882e47",
   "metadata": {},
   "outputs": [],
   "source": [
    "vocab[label_idx]"
   ]
  },
  {
   "cell_type": "code",
   "execution_count": null,
   "id": "46b0a20c-0932-45e8-98ec-73e78f577cd4",
   "metadata": {},
   "outputs": [],
   "source": [
    "latent representation of the current observation, recurrent state"
   ]
  },
  {
   "cell_type": "code",
   "execution_count": null,
   "id": "22fae597-6881-4c11-92fd-8a38961d3d23",
   "metadata": {},
   "outputs": [],
   "source": [
    "torch.from_numpy(tensor)"
   ]
  },
  {
   "cell_type": "code",
   "execution_count": null,
   "id": "a47510a8-0334-41aa-89ff-3925c741c31c",
   "metadata": {},
   "outputs": [],
   "source": [
    "from contextlib import contextmanager"
   ]
  },
  {
   "cell_type": "code",
   "execution_count": null,
   "id": "f68617c1-69df-4877-abc3-3aeea355b114",
   "metadata": {},
   "outputs": [],
   "source": [
    "@contextmanager\n",
    "def second_context():\n",
    "    print()\n",
    "    \n",
    "    yield \"hello world\"\n",
    "    \n",
    "    print()"
   ]
  },
  {
   "cell_type": "code",
   "execution_count": null,
   "id": "f7642b0d-87a1-4c6c-968e-ded4402ba00f",
   "metadata": {},
   "outputs": [],
   "source": [
    "def convert_to_distribution(states):\n",
    "    states_exp = states.exp()\n",
    "    state_magnitude = states_exp.sum()\n",
    "    probs = states_exp / state_magnitude\n",
    "    return probs"
   ]
  },
  {
   "cell_type": "code",
   "execution_count": null,
   "id": "718ee20d-bc5c-43d5-ba12-6de772ebf208",
   "metadata": {},
   "outputs": [],
   "source": [
    "class Optimizer:\n",
    "    def __init__(self, params, lr):\n",
    "        self.params = params\n",
    "        self.lr = lr\n",
    "    \n",
    "    def zero_grad(self):\n",
    "        for p in params:\n",
    "            if p.requires_grad:\n",
    "                p.grad.zero_()"
   ]
  }
 ],
 "metadata": {
  "kernelspec": {
   "display_name": "Python 3 (ipykernel)",
   "language": "python",
   "name": "python3"
  }
 },
 "nbformat": 4,
 "nbformat_minor": 5
}
