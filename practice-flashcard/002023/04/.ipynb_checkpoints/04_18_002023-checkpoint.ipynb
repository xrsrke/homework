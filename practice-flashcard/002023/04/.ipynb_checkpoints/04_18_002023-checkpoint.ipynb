{
 "cells": [
  {
   "cell_type": "markdown",
   "id": "82e4bb1a-577f-4cef-8393-ec392cd67c49",
   "metadata": {},
   "source": [
    "### Sciiiiiii"
   ]
  },
  {
   "cell_type": "code",
   "execution_count": null,
   "id": "789c99da-2236-44e0-aba9-95d9c477930c",
   "metadata": {},
   "outputs": [],
   "source": [
    "tem, state, conce"
   ]
  },
  {
   "cell_type": "code",
   "execution_count": null,
   "id": "8549e6cf-3e5f-41a1-809c-08d1cb661edb",
   "metadata": {},
   "outputs": [],
   "source": [
    "will haven't "
   ]
  },
  {
   "cell_type": "markdown",
   "id": "4bd607b3-f0ae-4b13-af0d-f3abccf3896a",
   "metadata": {},
   "source": [
    "### ML Engineering"
   ]
  },
  {
   "cell_type": "code",
   "execution_count": null,
   "id": "d1790cd6-9cdc-4138-90c0-0534f13696d5",
   "metadata": {},
   "outputs": [],
   "source": [
    "Internet Gateway, VPC Routing, VPC"
   ]
  },
  {
   "cell_type": "code",
   "execution_count": null,
   "id": "c85e7829-7150-426d-9ecd-7373ba4c57ec",
   "metadata": {},
   "outputs": [],
   "source": [
    "from metaflow import FlowSpec, step"
   ]
  },
  {
   "cell_type": "code",
   "execution_count": null,
   "id": "d4909ed7-e5d5-4e70-966f-47c8f3c30a04",
   "metadata": {},
   "outputs": [],
   "source": [
    "from metaflow import batch"
   ]
  },
  {
   "cell_type": "code",
   "execution_count": null,
   "id": "0344a4e6-3d40-4918-8a6b-0c2a26e66069",
   "metadata": {},
   "outputs": [],
   "source": [
    "class Flow(FlowSpec):\n",
    "    @step\n",
    "    def start(self):\n",
    "        self.next(self.train)\n",
    "    \n",
    "    @batch(memory=10000)\n",
    "    @step\n",
    "    def train(self):\n",
    "        train()\n",
    "        self.next(self.end)\n",
    "    \n",
    "    @step\n",
    "    def end(self): pass"
   ]
  },
  {
   "cell_type": "code",
   "execution_count": null,
   "id": "3f16d685-f370-4d18-a83f-fa9fdc15543c",
   "metadata": {},
   "outputs": [],
   "source": [
    "@retry"
   ]
  },
  {
   "cell_type": "code",
   "execution_count": null,
   "id": "cde55e59-8c19-4bbb-a9a2-493c761e5eb8",
   "metadata": {},
   "outputs": [],
   "source": [
    "ec2 instance storage, ebs"
   ]
  },
  {
   "cell_type": "code",
   "execution_count": null,
   "id": "da0cd850-d965-442e-b263-366b18f480ff",
   "metadata": {},
   "outputs": [],
   "source": [
    "from metaflow import Flow"
   ]
  },
  {
   "cell_type": "code",
   "execution_count": null,
   "id": "c7a234da-a406-4c14-b492-97fa8118e57c",
   "metadata": {},
   "outputs": [],
   "source": [
    "run = Flow(\"CountFlow\").latest_run"
   ]
  },
  {
   "cell_type": "code",
   "execution_count": null,
   "id": "01ffaa21-64a0-4936-8b03-42862f65abf5",
   "metadata": {},
   "outputs": [],
   "source": [
    "class CountFlow(FlowSpec):\n",
    "    @step\n",
    "    def start(self):\n",
    "        self.words = words\n",
    "        self.next(self.count, foreach=\"words\")\n",
    "    \n",
    "    @step\n",
    "    def count(self):\n",
    "        self.length = len(self.input)\n",
    "        self.word = self.input\n",
    "        self.next(self.join)\n",
    "    \n",
    "    @step\n",
    "    def join(self, inputs):\n",
    "        longest = max(inputs, key=lambda x: x.length).word\n",
    "        self.next(self.end)\n",
    "    \n",
    "    @step\n",
    "    def end(self):\n",
    "        print(f\"{self.longest} won\")"
   ]
  },
  {
   "cell_type": "code",
   "execution_count": null,
   "id": "6704313e-5edc-46d8-9876-18e3490ca1d5",
   "metadata": {},
   "outputs": [],
   "source": [
    "from typing import Union, List"
   ]
  },
  {
   "cell_type": "code",
   "execution_count": null,
   "id": "f1e6f5e6-d2a2-4d66-9a79-278546810518",
   "metadata": {},
   "outputs": [],
   "source": [
    "from typing import overload"
   ]
  },
  {
   "cell_type": "code",
   "execution_count": null,
   "id": "66558f1f-4290-48a6-9c50-a235ac9708cf",
   "metadata": {},
   "outputs": [],
   "source": [
    "@overload\n",
    "def get_item(x: str) -> str: pass"
   ]
  },
  {
   "cell_type": "code",
   "execution_count": null,
   "id": "d77bd26c-a870-41bf-9b59-a7e78238077f",
   "metadata": {},
   "outputs": [],
   "source": [
    "@overload\n",
    "def get"
   ]
  },
  {
   "cell_type": "code",
   "execution_count": null,
   "id": "e5c94f19-f66f-4d91-b258-40cf7d240cf7",
   "metadata": {},
   "outputs": [],
   "source": [
    "root, iam user, iam role"
   ]
  },
  {
   "cell_type": "code",
   "execution_count": null,
   "id": "a7454cb5-ce39-4b8a-829c-f5a3e9f50505",
   "metadata": {},
   "outputs": [],
   "source": [
    "10.1.0.0 -> 10.1.255.255"
   ]
  },
  {
   "cell_type": "code",
   "execution_count": null,
   "id": "65e0fca6-ded9-40af-8268-ebecb40482cb",
   "metadata": {},
   "outputs": [],
   "source": [
    "@batch"
   ]
  },
  {
   "cell_type": "code",
   "execution_count": null,
   "id": "48b0f55d-1a83-42ee-8cf8-9375c4b594dd",
   "metadata": {},
   "outputs": [],
   "source": [
    "root"
   ]
  },
  {
   "cell_type": "code",
   "execution_count": null,
   "id": "7f070605-4603-4dd0-95fd-e565f957a52a",
   "metadata": {},
   "outputs": [],
   "source": [
    "0.0.0.0"
   ]
  },
  {
   "cell_type": "code",
   "execution_count": null,
   "id": "4f6d6f1b-27b6-4c74-bf32-e45734cc9548",
   "metadata": {},
   "outputs": [],
   "source": [
    "gateway\n",
    "route\n"
   ]
  },
  {
   "cell_type": "code",
   "execution_count": null,
   "id": "ef81389a-e81e-44d3-b5a3-9c47915d4eca",
   "metadata": {},
   "outputs": [],
   "source": [
    "from typing import overload"
   ]
  },
  {
   "cell_type": "code",
   "execution_count": null,
   "id": "60381f1a-6c81-4f6a-9f82-338cad054580",
   "metadata": {},
   "outputs": [],
   "source": [
    "@overload\n",
    "def getitem(x: str) -> str: pass"
   ]
  },
  {
   "cell_type": "code",
   "execution_count": null,
   "id": "10439635-f65b-4615-b6ac-ef5eab886458",
   "metadata": {},
   "outputs": [],
   "source": [
    "@overload\n",
    "def getitem(x: List[int]) -> int: pass"
   ]
  },
  {
   "cell_type": "code",
   "execution_count": null,
   "id": "fb80c079-5714-4c20-ba7a-3198936d9468",
   "metadata": {},
   "outputs": [],
   "source": [
    "vpc, vpc routing, internet gateway"
   ]
  },
  {
   "cell_type": "markdown",
   "id": "4d1f3a1f-faaa-4724-809b-62d62dbfab28",
   "metadata": {},
   "source": [
    "### AI"
   ]
  },
  {
   "cell_type": "code",
   "execution_count": null,
   "id": "5de937c2-0f15-4a26-86b1-7a73fd1f6a26",
   "metadata": {},
   "outputs": [],
   "source": [
    "import torch\n",
    "from torch import nn\n",
    "import torch.nn.functional as F"
   ]
  },
  {
   "cell_type": "code",
   "execution_count": null,
   "id": "b5b23ac3-f42c-4084-ac34-a8745966735f",
   "metadata": {},
   "outputs": [],
   "source": [
    "from flax import linen as nn"
   ]
  },
  {
   "cell_type": "code",
   "execution_count": null,
   "id": "b04e0a39-4f97-4570-b311-ab238a58a876",
   "metadata": {},
   "outputs": [],
   "source": [
    "layer = nn.Dense(42, 69)"
   ]
  },
  {
   "cell_type": "code",
   "execution_count": null,
   "id": "74aaa888-add7-4455-a0df-bdd581d885e7",
   "metadata": {},
   "outputs": [],
   "source": [
    "from langchain.agents import AgentExecutor"
   ]
  },
  {
   "cell_type": "code",
   "execution_count": null,
   "id": "f25f5f73-607d-4fa1-920f-2e5445fedc16",
   "metadata": {},
   "outputs": [],
   "source": [
    "import torch"
   ]
  },
  {
   "cell_type": "code",
   "execution_count": null,
   "id": "1520ea02-48ec-47c3-bc24-456b8d5b44ad",
   "metadata": {},
   "outputs": [],
   "source": [
    "from torch_geometric.data import Data"
   ]
  },
  {
   "cell_type": "code",
   "execution_count": null,
   "id": "b78a763b-f33d-49f7-83b1-eaae6cccb414",
   "metadata": {},
   "outputs": [],
   "source": [
    "x = torch.tensor([-1, 0, 1])"
   ]
  },
  {
   "cell_type": "code",
   "execution_count": null,
   "id": "2c7e7ef1-6818-49c0-ad17-146869424d43",
   "metadata": {},
   "outputs": [],
   "source": [
    "edge_index = torch.tensor([\n",
    "    [0, 1, 2, 1],\n",
    "    [1, 0, 1, 2]\n",
    "])"
   ]
  },
  {
   "cell_type": "code",
   "execution_count": null,
   "id": "5b0c83c9-a117-4317-b8c5-210c7365ad0c",
   "metadata": {},
   "outputs": [
    {
     "data": {
      "text/plain": [
       "Data(x=[3], edge_index=[2, 4])"
      ]
     },
     "execution_count": null,
     "metadata": {},
     "output_type": "execute_result"
    }
   ],
   "source": [
    "Data(x, edge_index=edge_index)"
   ]
  },
  {
   "cell_type": "code",
   "execution_count": null,
   "id": "106bc278-0760-49c9-bfe4-02adbbfb0f52",
   "metadata": {},
   "outputs": [],
   "source": [
    "weights = attn_weights.diagonal(dim1=-1, dim2=-1, offset=-1)"
   ]
  },
  {
   "cell_type": "code",
   "execution_count": null,
   "id": "3f541a9a-8ca3-442c-a01f-fc244f4effbf",
   "metadata": {},
   "outputs": [],
   "source": [
    "import ray"
   ]
  },
  {
   "cell_type": "code",
   "execution_count": null,
   "id": "33db9a29-2df2-40fc-ba36-499ab0852732",
   "metadata": {},
   "outputs": [],
   "source": [
    "ray.data.from_items(items)"
   ]
  },
  {
   "cell_type": "code",
   "execution_count": null,
   "id": "15cbe78e-a859-4841-a5c5-620c89ac1cd6",
   "metadata": {},
   "outputs": [],
   "source": [
    "ray.wait(tasks, num_returns=3)"
   ]
  },
  {
   "cell_type": "code",
   "execution_count": null,
   "id": "e3e9ef53-e4e0-4ac2-8960-1fe190fced8a",
   "metadata": {},
   "outputs": [],
   "source": [
    "from jax import tree_map"
   ]
  },
  {
   "cell_type": "code",
   "execution_count": null,
   "id": "70620550-ce5a-4313-9d82-8b484387c2cd",
   "metadata": {},
   "outputs": [],
   "source": [
    "tree_map(square, xs)"
   ]
  },
  {
   "cell_type": "code",
   "execution_count": null,
   "id": "a8a66ebc-a038-4b32-9cc4-a63304729bc0",
   "metadata": {},
   "outputs": [],
   "source": [
    "def split_weights(x):\n",
    "    n_cols = x.shape[-1]\n",
    "    return x[:, :n_cols//2], x[:, n_cols//2:]"
   ]
  },
  {
   "cell_type": "code",
   "execution_count": null,
   "id": "daf4426c-f280-496b-b553-ccdccca90952",
   "metadata": {},
   "outputs": [],
   "source": [
    "w1, w2 = split_weights(x)"
   ]
  },
  {
   "cell_type": "code",
   "execution_count": null,
   "id": "77f88bd9-b67e-426d-828d-63221d4e56f1",
   "metadata": {},
   "outputs": [],
   "source": [
    "torch.cat "
   ]
  },
  {
   "cell_type": "code",
   "execution_count": null,
   "id": "393b0bad-be4a-48c7-893c-e485500b011d",
   "metadata": {},
   "outputs": [],
   "source": [
    "[big, small], [small, big]"
   ]
  },
  {
   "cell_type": "code",
   "execution_count": null,
   "id": "a7f5f9bb-d49c-4d37-8f1a-eb021bfb130f",
   "metadata": {},
   "outputs": [],
   "source": [
    "from einops import repeat"
   ]
  },
  {
   "cell_type": "code",
   "execution_count": null,
   "id": "29af756d-f689-474c-a7d5-bf426f8fcb12",
   "metadata": {},
   "outputs": [],
   "source": [
    "repeat(x, \"h w -> h w n\", n=2)"
   ]
  },
  {
   "cell_type": "code",
   "execution_count": null,
   "id": "7a999552-cfc1-4e15-a218-9398c669d5a1",
   "metadata": {},
   "outputs": [],
   "source": [
    "torch.randn(2, 3)"
   ]
  },
  {
   "cell_type": "code",
   "execution_count": null,
   "id": "5219ccd7-4775-4951-8e7a-e4b41b13cd6a",
   "metadata": {},
   "outputs": [],
   "source": [
    "from einops import reduce"
   ]
  },
  {
   "cell_type": "code",
   "execution_count": null,
   "id": "ef3dc762-24ed-46d3-8e67-2d42c3bb120b",
   "metadata": {},
   "outputs": [],
   "source": [
    "reduce(output, \"b c h w -> b h w\", reduction=\"mean\")"
   ]
  },
  {
   "cell_type": "code",
   "execution_count": null,
   "id": "b7d9a20c-6d7f-4fdd-9490-a73d569992da",
   "metadata": {},
   "outputs": [],
   "source": [
    "from einops import rearrange"
   ]
  },
  {
   "cell_type": "code",
   "execution_count": null,
   "id": "4bfaf393-5e6d-4f6b-b82b-9edb31b2719d",
   "metadata": {},
   "outputs": [],
   "source": [
    "rearrange(images, \"b c (h p1) (w p2) -> b (h w) (p1 p2 c)\")"
   ]
  },
  {
   "cell_type": "code",
   "execution_count": null,
   "id": "d3104f50-18cb-446e-aa3e-8785b666ab68",
   "metadata": {},
   "outputs": [],
   "source": [
    "from einops import pack"
   ]
  },
  {
   "cell_type": "code",
   "execution_count": null,
   "id": "fa32867a-acb9-4eeb-8900-3aba38948498",
   "metadata": {},
   "outputs": [],
   "source": [
    "stacked_images = pack()"
   ]
  },
  {
   "cell_type": "code",
   "execution_count": null,
   "id": "76126694-f47d-4429-ba0e-2b2f9a8c05fa",
   "metadata": {},
   "outputs": [],
   "source": [
    "out of vocab"
   ]
  },
  {
   "cell_type": "code",
   "execution_count": null,
   "id": "b0208a78-51ca-4d35-8c22-b9fade2c09c7",
   "metadata": {},
   "outputs": [],
   "source": [
    "4, 2, 3"
   ]
  },
  {
   "cell_type": "code",
   "execution_count": null,
   "id": "cac02de8-429c-4011-8180-4a37de934394",
   "metadata": {},
   "outputs": [],
   "source": [
    "def droput_layer(x, prob):\n",
    "    assert 0 <= prob <= 1\n",
    "    \n",
    "    if prob == 1:\n",
    "        return torch.zeros_like(x)\n",
    "    \n",
    "    mask = (torch.randn(x.shape) > x).float()\n",
    "    return (mask * x) / (1-prob)"
   ]
  }
 ],
 "metadata": {
  "kernelspec": {
   "display_name": "Python 3 (ipykernel)",
   "language": "python",
   "name": "python3"
  }
 },
 "nbformat": 4,
 "nbformat_minor": 5
}
