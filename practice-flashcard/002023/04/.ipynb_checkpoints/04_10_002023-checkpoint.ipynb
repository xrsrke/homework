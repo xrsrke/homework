{
 "cells": [
  {
   "cell_type": "code",
   "execution_count": null,
   "id": "fcf71e1a-8414-494d-abae-5908ca9c80d6",
   "metadata": {},
   "outputs": [],
   "source": [
    "will have "
   ]
  },
  {
   "cell_type": "markdown",
   "id": "638541ab-ca59-44cd-b3a2-1877a8673884",
   "metadata": {},
   "source": [
    "### AI"
   ]
  },
  {
   "cell_type": "code",
   "execution_count": null,
   "id": "d8762143-27d1-4562-b2df-5bff2d94c8b8",
   "metadata": {},
   "outputs": [],
   "source": [
    "import torch\n",
    "from torch import nn\n",
    "import torch.nn.functional as F"
   ]
  },
  {
   "cell_type": "code",
   "execution_count": null,
   "id": "a23696d8-078c-4569-9808-2effad127de2",
   "metadata": {},
   "outputs": [],
   "source": [
    "from ray.train.rl.rl_trainer import RLTrainer"
   ]
  },
  {
   "cell_type": "code",
   "execution_count": null,
   "id": "82f92f8e-bd4e-4fe0-bb65-937e596d4eab",
   "metadata": {},
   "outputs": [],
   "source": [
    "from ray.air.config import ScalingConfig"
   ]
  },
  {
   "cell_type": "code",
   "execution_count": null,
   "id": "36933be4-840d-4a62-90b1-038894f09f7c",
   "metadata": {},
   "outputs": [],
   "source": [
    "trainer = RLTrainer(\n",
    "    algorithm=\"PPO\",\n",
    "    scaling_config=ScalingConfig(num_workers=3)\n",
    ")"
   ]
  },
  {
   "cell_type": "code",
   "execution_count": null,
   "id": "d2e71661-e4f7-4126-8b38-52ae7277bd0e",
   "metadata": {},
   "outputs": [],
   "source": [
    "from einops import rearrange"
   ]
  },
  {
   "cell_type": "code",
   "execution_count": null,
   "id": "be5f2165-a676-40ce-bda6-489f9456d128",
   "metadata": {},
   "outputs": [],
   "source": [
    "output = rearrange(images, \"b c (h p1) (w p2) -> b (h w) (p1 p2 c)\")"
   ]
  },
  {
   "cell_type": "code",
   "execution_count": null,
   "id": "e6006857-e862-4db8-96f2-5800510701e1",
   "metadata": {},
   "outputs": [],
   "source": [
    "xs.at(2).set(100)"
   ]
  },
  {
   "cell_type": "code",
   "execution_count": null,
   "id": "b6ce82e2-e73d-49ef-850e-77f20e4c0103",
   "metadata": {},
   "outputs": [],
   "source": [
    "from functools import partial"
   ]
  },
  {
   "cell_type": "code",
   "execution_count": null,
   "id": "87875346-fef6-4036-8e64-456f87cac9bc",
   "metadata": {},
   "outputs": [],
   "source": [
    "from jax import jit"
   ]
  },
  {
   "cell_type": "code",
   "execution_count": null,
   "id": "f9b91e72-e46a-4cef-9269-87e379b09ed9",
   "metadata": {},
   "outputs": [],
   "source": [
    "@partial(jit, static_argnames=[\"n\"])\n",
    "def demo(x, n):\n",
    "    return x + n"
   ]
  },
  {
   "cell_type": "code",
   "execution_count": null,
   "id": "1b2bc2c6-365d-43da-bd22-31bc0bb941be",
   "metadata": {},
   "outputs": [],
   "source": [
    "x.size(1)"
   ]
  },
  {
   "cell_type": "code",
   "execution_count": null,
   "id": "ac8f8b6e-e5a6-4e81-b013-7838afa6612f",
   "metadata": {},
   "outputs": [],
   "source": [
    "from transformer_lens import HookedTransformer"
   ]
  },
  {
   "cell_type": "code",
   "execution_count": null,
   "id": "3de61dcf-20dc-41ac-a1e9-1ca0f54c3ceb",
   "metadata": {},
   "outputs": [
    {
     "name": "stderr",
     "output_type": "stream",
     "text": [
      "Using pad_token, but it is not set yet.\n"
     ]
    },
    {
     "name": "stdout",
     "output_type": "stream",
     "text": [
      "Loaded pretrained model gpt2-small into HookedTransformer\n"
     ]
    }
   ],
   "source": [
    "model = HookedTransformer.from_pretrained(\"gpt2-small\")"
   ]
  },
  {
   "cell_type": "code",
   "execution_count": null,
   "id": "7b92d67f-1b1c-4603-a2e6-28d98973e27c",
   "metadata": {},
   "outputs": [],
   "source": [
    "def hook_func(act, hook):\n",
    "    clean = clean_acts[hook.name]\n",
    "    act[:, 1, :] = clean[:, 1, :]\n",
    "    return act"
   ]
  },
  {
   "cell_type": "code",
   "execution_count": null,
   "id": "c5f90adb-14f0-4c1f-b760-67a85d120d91",
   "metadata": {},
   "outputs": [],
   "source": [
    "model.run_with_hooks(\n",
    "    tokens,\n",
    "    fwd_hooks=[(hook_name, hook_func)]\n",
    ")"
   ]
  },
  {
   "cell_type": "code",
   "execution_count": null,
   "id": "3d6e454b-5089-4728-b2a7-33dcf908160b",
   "metadata": {},
   "outputs": [],
   "source": [
    "def hook_func(act, hook):\n",
    "    act[:, :, 4, :] = 0"
   ]
  },
  {
   "cell_type": "code",
   "execution_count": null,
   "id": "8115be6c-246f-4441-8ecb-ba7923518dd9",
   "metadata": {},
   "outputs": [],
   "source": [
    "model.run_with_hooks(\n",
    "    tokens,\n",
    "    return_type=\"loss\",\n",
    "    fwd_hooks=[(hook_name, hook_func)]\n",
    ")"
   ]
  },
  {
   "cell_type": "code",
   "execution_count": null,
   "id": "657115fd-8a89-4525-b8b9-91375a77ea16",
   "metadata": {},
   "outputs": [],
   "source": [
    "def hook_func(act, hook):\n",
    "    print(act.shape)"
   ]
  },
  {
   "cell_type": "code",
   "execution_count": null,
   "id": "d86f0f2d-4f00-4ad8-a14e-b45cc78f7052",
   "metadata": {},
   "outputs": [],
   "source": [
    "model.run_with_hooks(\n",
    "    tokens,\n",
    "    fwd_hooks=[(hook_name, hook_func)]\n",
    ")"
   ]
  },
  {
   "cell_type": "code",
   "execution_count": null,
   "id": "0afebba5-d935-4f0b-8cfe-f4fd48c12d15",
   "metadata": {},
   "outputs": [],
   "source": [
    "get_reward(states, action) + gamma * v_network(states + 1).mean()"
   ]
  },
  {
   "cell_type": "code",
   "execution_count": null,
   "id": "3603e064-4369-4537-95e6-ec76ad0e64ad",
   "metadata": {},
   "outputs": [],
   "source": [
    "embedding = nn.Embedding(num_embeddings=100, embedding_dim=5, padding_idx=5)"
   ]
  },
  {
   "cell_type": "code",
   "execution_count": null,
   "id": "0ede7be2-8e23-4222-85ee-64053e844091",
   "metadata": {},
   "outputs": [],
   "source": [
    "def std(x):\n",
    "    return (x-x.mean()).pow(2).mean().sqrt()"
   ]
  },
  {
   "cell_type": "code",
   "execution_count": null,
   "id": "6fbdcdca-d4e7-4e51-81ae-1eea1a0f4fc9",
   "metadata": {},
   "outputs": [],
   "source": [
    "class LayerNorm(nn.Module):\n",
    "    def __init__(self, features, eps):\n",
    "        super().__init__()\n",
    "        self.adds = nn.Parameter(torch.zeros(features))\n",
    "        self.mults = nn.Parameter(torch.ones(features))\n",
    "        self.eps = eps\n",
    "    \n",
    "    def forward(self, x):\n",
    "        mean = x.mean(keepdim=True, dim=-1)\n",
    "        var = x.var(keepdim=True, dim=-1)\n",
    "        \n",
    "        x = (x-mean) / (var + self.eps)\n",
    "        \n",
    "        "
   ]
  },
  {
   "cell_type": "code",
   "execution_count": null,
   "id": "85f6c33f-bd1e-44bf-a3d9-0213e0d6d51f",
   "metadata": {},
   "outputs": [],
   "source": [
    "def add_hook(model):\n",
    "    for layer in model.layers:\n",
    "        layer.register_forward_hook(add_log)"
   ]
  },
  {
   "cell_type": "code",
   "execution_count": null,
   "id": "927e1a0e-6d4b-40ae-9413-50a51c10538b",
   "metadata": {},
   "outputs": [],
   "source": [
    "attn_weights = torch.randn(2, 3, 4, 4)"
   ]
  },
  {
   "cell_type": "code",
   "execution_count": null,
   "id": "a83da849-173a-4e1d-a73e-f1df0a0b1614",
   "metadata": {},
   "outputs": [
    {
     "data": {
      "text/plain": [
       "torch.Size([2, 3, 4, 4])"
      ]
     },
     "execution_count": null,
     "metadata": {},
     "output_type": "execute_result"
    }
   ],
   "source": [
    "attn_weights.shape"
   ]
  },
  {
   "cell_type": "code",
   "execution_count": null,
   "id": "959edd2d-52e3-4d43-bc19-43df30f15812",
   "metadata": {},
   "outputs": [
    {
     "data": {
      "text/plain": [
       "tensor([[[-1.4262, -0.7619, -0.4422],\n",
       "         [-1.4066,  1.3039,  0.3877],\n",
       "         [ 1.4405, -0.2807, -0.3121]],\n",
       "\n",
       "        [[ 1.6288, -0.4716, -0.4520],\n",
       "         [ 0.3403,  0.6133, -0.8551],\n",
       "         [ 0.2116,  1.7194, -0.9432]]])"
      ]
     },
     "execution_count": null,
     "metadata": {},
     "output_type": "execute_result"
    }
   ],
   "source": [
    "attn_weights.diagonal(dim1=-2, dim2=-1, offset=-1)"
   ]
  },
  {
   "cell_type": "code",
   "execution_count": null,
   "id": "2a695cbf-7d40-4b0d-959a-3ee9259ab6dd",
   "metadata": {},
   "outputs": [],
   "source": [
    "import jax"
   ]
  },
  {
   "cell_type": "code",
   "execution_count": null,
   "id": "912e366c-d063-4fe7-b46e-6cb7f0037d14",
   "metadata": {},
   "outputs": [],
   "source": [
    "func_jit = jax.jit(func, static_argnames=[\"n\"])"
   ]
  },
  {
   "cell_type": "code",
   "execution_count": null,
   "id": "0f1a4240-59f4-4296-84c0-c36679b5cf96",
   "metadata": {},
   "outputs": [],
   "source": [
    "diagonal = x.diagonal(dim1=-2, dim2=-1)"
   ]
  }
 ],
 "metadata": {
  "kernelspec": {
   "display_name": "Python 3 (ipykernel)",
   "language": "python",
   "name": "python3"
  }
 },
 "nbformat": 4,
 "nbformat_minor": 5
}
