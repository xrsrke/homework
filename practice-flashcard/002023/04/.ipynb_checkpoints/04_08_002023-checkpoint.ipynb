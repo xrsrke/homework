{
 "cells": [
  {
   "cell_type": "markdown",
   "id": "be28d06c-2c37-40bc-80ee-2728f4c6e1d1",
   "metadata": {},
   "source": [
    "### Science"
   ]
  },
  {
   "cell_type": "markdown",
   "id": "09db975c-fce5-434a-98ed-28bdf169d301",
   "metadata": {},
   "source": [
    "population activity, motor imagery, conditioned response, "
   ]
  },
  {
   "cell_type": "markdown",
   "id": "36f8ab21-31fc-4ffa-9b12-c8dc169497e2",
   "metadata": {},
   "source": [
    "### Python"
   ]
  },
  {
   "cell_type": "markdown",
   "id": "e2f570cc-5357-4c17-8ae6-a9817bdb491d",
   "metadata": {},
   "source": [
    "### AI"
   ]
  },
  {
   "cell_type": "code",
   "execution_count": null,
   "id": "e11b3f0f-13a8-477f-ae15-2da4a30dde0b",
   "metadata": {},
   "outputs": [],
   "source": [
    "from ray.rllib.algorithms.ppo import PPOConfig"
   ]
  },
  {
   "cell_type": "code",
   "execution_count": null,
   "id": "7a433ad2-0500-4f81-b0d0-2036dd2c95a7",
   "metadata": {},
   "outputs": [],
   "source": [
    "model = PPOConfig().environment(\"name\").framework(\"torch\").build()"
   ]
  },
  {
   "cell_type": "code",
   "execution_count": null,
   "id": "593ddef8-f266-44b7-8cc9-3ad2f6c449cc",
   "metadata": {},
   "outputs": [],
   "source": [
    "import torch\n",
    "from torch import nn\n",
    "import torch.nn.functional as F"
   ]
  },
  {
   "cell_type": "code",
   "execution_count": null,
   "id": "95061dd9-c2f4-47dc-8ed7-1484d4aa6977",
   "metadata": {},
   "outputs": [],
   "source": [
    "from torch_geometric.data import Data"
   ]
  },
  {
   "cell_type": "code",
   "execution_count": null,
   "id": "ba984b97-223a-4929-9bcc-3a10d14c53f5",
   "metadata": {},
   "outputs": [],
   "source": [
    "x = torch.tensor([-1, 0, 1])"
   ]
  },
  {
   "cell_type": "code",
   "execution_count": null,
   "id": "e8225d89-ab69-48eb-920f-65054a75dce0",
   "metadata": {},
   "outputs": [],
   "source": [
    "edge_index = torch.tensor([\n",
    "    [0, 1, 1, 2],\n",
    "    [1, 0, 2, 1]\n",
    "])"
   ]
  },
  {
   "cell_type": "code",
   "execution_count": null,
   "id": "cf427fab-b1eb-4913-b7a5-a0348a3332b6",
   "metadata": {},
   "outputs": [],
   "source": [
    "data = Data(x, edge_index)"
   ]
  },
  {
   "cell_type": "code",
   "execution_count": null,
   "id": "e429e6be-bd0a-477c-8048-cab6c1bd235a",
   "metadata": {},
   "outputs": [
    {
     "data": {
      "text/plain": [
       "Data(x=[3], edge_index=[2, 4])"
      ]
     },
     "execution_count": null,
     "metadata": {},
     "output_type": "execute_result"
    }
   ],
   "source": [
    "data"
   ]
  },
  {
   "cell_type": "code",
   "execution_count": null,
   "id": "628c3fef-9b12-4552-b429-fb13a66ac7cf",
   "metadata": {},
   "outputs": [],
   "source": [
    "from torch.autograd import Function"
   ]
  },
  {
   "cell_type": "code",
   "execution_count": null,
   "id": "66878bec-9a99-4138-9322-f90c83da673e",
   "metadata": {},
   "outputs": [],
   "source": [
    "class MultiplyConstant(Function):\n",
    "    def forward(ctx, input):\n",
    "        return input\n",
    "    \n",
    "    def backward(ctx, grad):\n",
    "        return grad + 1"
   ]
  },
  {
   "cell_type": "code",
   "execution_count": null,
   "id": "29b81003-a898-43da-a702-518cdd26a0a7",
   "metadata": {},
   "outputs": [],
   "source": [
    "def split_weights(x):\n",
    "    n_cols = x.shape[-1]\n",
    "    return x[:, n_cols:], x[:, :n_cols]"
   ]
  },
  {
   "cell_type": "code",
   "execution_count": null,
   "id": "b4781427-8031-4523-a54d-71f3d918ef61",
   "metadata": {},
   "outputs": [],
   "source": [
    "import gymnasium as gym"
   ]
  },
  {
   "cell_type": "code",
   "execution_count": null,
   "id": "e9aebefb-8c5c-4c17-8708-a1c5b6655bea",
   "metadata": {},
   "outputs": [],
   "source": [
    "envs = gym.vector.SyncVectorEnv([\n",
    "    lambda: gym.make(\"CartPole-v1\"),\n",
    "    lambda: gym.make(\"CartPole-v1\"),\n",
    "    lambda: gym.make(\"CartPole-v1\"),\n",
    "])"
   ]
  },
  {
   "cell_type": "code",
   "execution_count": null,
   "id": "8edff667-b33e-4db6-8b16-b4a3c8010544",
   "metadata": {},
   "outputs": [],
   "source": [
    "from einops import reduce"
   ]
  },
  {
   "cell_type": "code",
   "execution_count": null,
   "id": "3b71c60a-ec33-4be9-8b7d-61af84041a2e",
   "metadata": {},
   "outputs": [],
   "source": [
    "output = reduce(images, 'b c h w -> b h w', reduction=\"mean\")"
   ]
  },
  {
   "cell_type": "code",
   "execution_count": null,
   "id": "93f7f4c3-295e-4893-85e6-30b5a082e231",
   "metadata": {},
   "outputs": [],
   "source": [
    "def compute_logit_diff(logits, correct_answer, incorrect_answer):\n",
    "    correct_idx = model.to_single_token(correct_answer)\n",
    "    incorrect_idx = model.to_single_token(incorrect_answer)\n",
    "    return logits[0, -1, :][correct_idx] - logits[0, -1, :][incorrect_answer]"
   ]
  },
  {
   "cell_type": "code",
   "execution_count": null,
   "id": "61504222-e10b-42f9-9654-1c2a30957ee6",
   "metadata": {},
   "outputs": [],
   "source": []
  }
 ],
 "metadata": {
  "kernelspec": {
   "display_name": "Python 3 (ipykernel)",
   "language": "python",
   "name": "python3"
  }
 },
 "nbformat": 4,
 "nbformat_minor": 5
}
