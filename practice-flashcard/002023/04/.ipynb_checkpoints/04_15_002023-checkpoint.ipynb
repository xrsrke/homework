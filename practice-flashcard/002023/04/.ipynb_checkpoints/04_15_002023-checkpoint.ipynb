{
 "cells": [
  {
   "cell_type": "markdown",
   "id": "a970caa8-616f-472e-9b0f-b65ed0bff4db",
   "metadata": {},
   "source": [
    "### Science"
   ]
  },
  {
   "cell_type": "code",
   "execution_count": null,
   "id": "ad09274e-1d7f-4be9-8e78-2cea110a570e",
   "metadata": {},
   "outputs": [],
   "source": [
    "record\n"
   ]
  },
  {
   "cell_type": "code",
   "execution_count": null,
   "id": "5367ac29-c69c-4b37-9e54-3006020a2941",
   "metadata": {},
   "outputs": [],
   "source": [
    "ganglia, retina, "
   ]
  },
  {
   "cell_type": "code",
   "execution_count": null,
   "id": "daac1e5e-f18e-421c-8c99-e41ffa35a620",
   "metadata": {},
   "outputs": [],
   "source": [
    "record, process, store, send"
   ]
  },
  {
   "cell_type": "markdown",
   "id": "153e8abb-9adf-43c2-982a-baba2dff5e0b",
   "metadata": {},
   "source": [
    "### ML Engineering"
   ]
  },
  {
   "cell_type": "code",
   "execution_count": null,
   "id": "e041d9f9-54d6-4696-b076-65860d81c8e9",
   "metadata": {},
   "outputs": [],
   "source": [
    "step.x"
   ]
  },
  {
   "cell_type": "code",
   "execution_count": null,
   "id": "6c874393-8ec1-4e05-903d-6372fdfd6124",
   "metadata": {},
   "outputs": [],
   "source": [
    "from enum import Enum"
   ]
  },
  {
   "cell_type": "code",
   "execution_count": null,
   "id": "3a6fd010-f048-4f5a-a5e3-09c6c0987e9b",
   "metadata": {},
   "outputs": [],
   "source": [
    "class Sauce:\n",
    "    BECHAMEL = \"Bechamel\""
   ]
  },
  {
   "cell_type": "code",
   "execution_count": null,
   "id": "00293bd3-f6ce-4602-9159-270985d5862d",
   "metadata": {},
   "outputs": [],
   "source": [
    "@resources"
   ]
  },
  {
   "cell_type": "code",
   "execution_count": null,
   "id": "4a9a04b2-1a2a-4622-b390-77b83fef257a",
   "metadata": {},
   "outputs": [],
   "source": [
    "from metaflow import FlowSpec, step, batch"
   ]
  },
  {
   "cell_type": "code",
   "execution_count": null,
   "id": "78d436e3-717e-4d63-934e-0124d5fb11c6",
   "metadata": {},
   "outputs": [],
   "source": [
    "class Flow(FlowSpec):\n",
    "    @step\n",
    "    def start(self):\n",
    "        self.next(self.train)\n",
    "    \n",
    "    @batch(memory=10000)\n",
    "    @step\n",
    "    def train(self):\n",
    "        train()\n",
    "        self.next(self.end)\n",
    "    \n",
    "    @step\n",
    "    def end(self): pass"
   ]
  },
  {
   "cell_type": "code",
   "execution_count": null,
   "id": "2b04afc3-d06e-46be-994c-597f957a1d77",
   "metadata": {},
   "outputs": [],
   "source": [
    "class CountFlow(FlowSpec):\n",
    "    @step\n",
    "    def start(self):\n",
    "        self.words = words\n",
    "        self.next(count, foreach=\"words\")\n",
    "    \n",
    "    @step\n",
    "    def count(self):\n",
    "        self.length = max(self.input)\n",
    "        self.word = self.input\n",
    "        self.next(self.join)\n",
    "    \n",
    "    @step\n",
    "    def join(self, inputs):\n",
    "        self.longest = max(inputs, key=lambda x.length).word\n",
    "        self.next(self.end)"
   ]
  },
  {
   "cell_type": "code",
   "execution_count": null,
   "id": "adca8f77-0f45-42db-8cda-df105f923c54",
   "metadata": {},
   "outputs": [],
   "source": [
    "from metaflow import Flow"
   ]
  },
  {
   "cell_type": "code",
   "execution_count": null,
   "id": "b13cfa37-4ef9-4454-ad28-e76a946d3658",
   "metadata": {},
   "outputs": [],
   "source": [
    "run = Flow(\"CountFlow\").latest_run"
   ]
  },
  {
   "cell_type": "code",
   "execution_count": null,
   "id": "4b0d6fc8-9726-435f-bf1c-8ffac59435d4",
   "metadata": {},
   "outputs": [],
   "source": [
    "@batch"
   ]
  },
  {
   "cell_type": "markdown",
   "id": "a44530da-cad6-4c7e-b24f-0af61b7c72bd",
   "metadata": {},
   "source": [
    "### AI"
   ]
  },
  {
   "cell_type": "code",
   "execution_count": null,
   "id": "2942815e-d256-40cd-8910-50426590734c",
   "metadata": {},
   "outputs": [],
   "source": [
    "import torch\n",
    "from torch import nn\n",
    "import torch.nn.functional as F"
   ]
  },
  {
   "cell_type": "code",
   "execution_count": null,
   "id": "63373108-508a-488b-839b-f29f2071ed16",
   "metadata": {},
   "outputs": [],
   "source": [
    "def hook_func(act, hook):\n",
    "    clean = clean_tokens[hook.name]\n",
    "    act[:, 1, :] = clean[:, 1, :]\n",
    "    return act"
   ]
  },
  {
   "cell_type": "code",
   "execution_count": null,
   "id": "df5fc219-e21e-4220-9cc2-21155da22a4b",
   "metadata": {},
   "outputs": [],
   "source": [
    "model.run_with_hooks(\n",
    "    tokens,\n",
    "    fwd_hooks=[(hook_name, hook_func)]\n",
    ")"
   ]
  },
  {
   "cell_type": "code",
   "execution_count": null,
   "id": "b50be715-82ca-4689-ab32-080a26934730",
   "metadata": {},
   "outputs": [],
   "source": [
    "from ray.tune.callback import Callback"
   ]
  },
  {
   "cell_type": "code",
   "execution_count": null,
   "id": "32e119b0-fb21-4e06-805a-17956fd89bba",
   "metadata": {},
   "outputs": [],
   "source": [
    "class PrintCallback(Callback):\n",
    "    def on_trial_result(self, iteration, trials, trial, result, **info):\n",
    "        pass"
   ]
  },
  {
   "cell_type": "code",
   "execution_count": null,
   "id": "ad6d0338-c205-4eb1-b1ae-55493afbc014",
   "metadata": {},
   "outputs": [],
   "source": [
    "from ray import tune"
   ]
  },
  {
   "cell_type": "code",
   "execution_count": null,
   "id": "f5bcfd1d-62d7-4ec0-b0a0-c42821a6dcb7",
   "metadata": {},
   "outputs": [],
   "source": [
    "tune.run(\n",
    "    objective,\n",
    "    config=search_space,\n",
    "    callbacks=[PrintCallback]\n",
    ")"
   ]
  },
  {
   "cell_type": "code",
   "execution_count": null,
   "id": "45a1496a-f650-47fc-83ae-933dc13cb41f",
   "metadata": {},
   "outputs": [],
   "source": [
    "from torch.autograd import Function"
   ]
  },
  {
   "cell_type": "code",
   "execution_count": null,
   "id": "822c9759-e3ec-407c-bf8d-b18229c7478c",
   "metadata": {},
   "outputs": [],
   "source": [
    "class MultiplyConstant(Function):\n",
    "    @staticmethod\n",
    "    def forward(ctx):\n",
    "        pass\n",
    "    \n",
    "    @staticmethod\n",
    "    def backward(grad):\n",
    "        pass"
   ]
  },
  {
   "cell_type": "code",
   "execution_count": null,
   "id": "bcef22b4-138f-4be3-9a7b-8149b673f80e",
   "metadata": {},
   "outputs": [],
   "source": [
    "tool, agentex, "
   ]
  },
  {
   "cell_type": "code",
   "execution_count": null,
   "id": "190635aa-94ce-4f05-9214-d8437e068703",
   "metadata": {},
   "outputs": [],
   "source": [
    "weights = attn_weights.diagonal(dim1=-2, dim2=-1, offset=-1)"
   ]
  },
  {
   "cell_type": "code",
   "execution_count": null,
   "id": "3062db80-cc48-4a40-9e44-222209781c06",
   "metadata": {},
   "outputs": [],
   "source": [
    "step 1: decompose activations into features\n",
    "step 2: use these features to decompose weights into circuits "
   ]
  },
  {
   "cell_type": "code",
   "execution_count": null,
   "id": "b7d107b6-adde-4a63-8afc-fcf0793da21c",
   "metadata": {},
   "outputs": [],
   "source": [
    "get_act_name"
   ]
  },
  {
   "cell_type": "code",
   "execution_count": null,
   "id": "a4f9d1a4-b783-4328-938e-f08c6cd5d8af",
   "metadata": {},
   "outputs": [],
   "source": [
    "run_with_cache"
   ]
  },
  {
   "cell_type": "code",
   "execution_count": null,
   "id": "c4b5739b-7196-491e-a2bb-ffb08a2465a8",
   "metadata": {},
   "outputs": [],
   "source": [
    "from transformers import Trainer"
   ]
  },
  {
   "cell_type": "code",
   "execution_count": null,
   "id": "310fb6f6-3328-4da5-90d1-fe1557c19630",
   "metadata": {},
   "outputs": [],
   "source": [
    "class DistillationTrainer(nn.Module):\n",
    "    def __init__(self, teacher_model):\n",
    "        super().__init__()\n",
    "        self.teacher_model = teacher_model\n",
    "        self.loss_func = nn.KLDivLoss()\n",
    "    \n",
    "    def compute_loss(\n",
    "        self, model, input_ids, **kwargs\n",
    "    ):\n",
    "        with torch.no_grad():\n",
    "            teacher_logits = self.teacher_model(\n",
    "                input_ids=input_ids,\n",
    "            )\n",
    "        \n",
    "            student_logits = model(\n",
    "                input_ids\n",
    "            )\n",
    "        \n",
    "        temperature = self.args.temperature\n",
    "        alpha = self.args.alpha\n",
    "        \n",
    "        kl_loss = self.loss_func(\n",
    "            \n",
    "        )"
   ]
  },
  {
   "cell_type": "code",
   "execution_count": null,
   "id": "cc8217c7-1ce4-4eae-896a-b4ef1eea3f21",
   "metadata": {},
   "outputs": [],
   "source": [
    "tokenizer()"
   ]
  },
  {
   "cell_type": "code",
   "execution_count": null,
   "id": "c1486f73-d59e-4ae5-afb5-79c6330f4b27",
   "metadata": {},
   "outputs": [],
   "source": [
    "calculate induction stripe\n",
    "calcualte the average induction stripe across all position for each head"
   ]
  },
  {
   "cell_type": "code",
   "execution_count": null,
   "id": "e72cae67-1773-4621-8623-b986095be248",
   "metadata": {},
   "outputs": [],
   "source": [
    "from transformer_lens.hook_points import HookedRootModule, HookPoint"
   ]
  },
  {
   "cell_type": "code",
   "execution_count": null,
   "id": "e7316bbf-a094-498f-9281-6cca5cfd6596",
   "metadata": {},
   "outputs": [],
   "source": [
    "class Model(HookedRootModule):\n",
    "    def __init__(self):\n",
    "        self.model = nn.Sequential(\n",
    "            nn.Linear(42, 69),\n",
    "            HookPoint(),\n",
    "            nn.ReLU(),\n",
    "            HookPoint(),\n",
    "            nn.Linear(69, 42),\n",
    "            HookPoint()\n",
    "        )\n",
    "    \n",
    "    def forward(self, x):\n",
    "        return self.model(x)"
   ]
  },
  {
   "cell_type": "code",
   "execution_count": null,
   "id": "42dfc3ab-4f8c-42ed-a5dc-5b1ae0092d5a",
   "metadata": {},
   "outputs": [],
   "source": [
    "induction_stripe = attn_weights.diagonal(\n",
    "    dim1=-2, dim2=-1, offset=1-4\n",
    ")"
   ]
  },
  {
   "cell_type": "code",
   "execution_count": null,
   "id": "6fc0e46f-ed4c-49ec-a747-6cef072ad5e9",
   "metadata": {},
   "outputs": [],
   "source": [
    "from einops import reduce"
   ]
  },
  {
   "cell_type": "code",
   "execution_count": null,
   "id": "43ea61a7-93b7-468c-9f18-908497777f0e",
   "metadata": {},
   "outputs": [],
   "source": [
    "induction_score = reduce(\n",
    "    induction_stripe,\n",
    "    \"n_heads n_weights -> n_heads\",\n",
    "    reduction=\"mean\"\n",
    ")"
   ]
  }
 ],
 "metadata": {
  "kernelspec": {
   "display_name": "Python 3 (ipykernel)",
   "language": "python",
   "name": "python3"
  }
 },
 "nbformat": 4,
 "nbformat_minor": 5
}
