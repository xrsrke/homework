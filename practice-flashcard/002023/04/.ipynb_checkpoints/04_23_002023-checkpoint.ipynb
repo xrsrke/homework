{
 "cells": [
  {
   "cell_type": "markdown",
   "id": "f3baed90-374a-487d-9056-2664fff68d79",
   "metadata": {},
   "source": [
    "### Science"
   ]
  },
  {
   "cell_type": "markdown",
   "id": "1ad99dfe-ee51-4e5b-8110-1ce9971742cf",
   "metadata": {},
   "source": [
    "### ML Engineering"
   ]
  },
  {
   "cell_type": "code",
   "execution_count": null,
   "id": "73fb7396-651b-4f3f-9417-b9e55a2c0a5f",
   "metadata": {},
   "outputs": [],
   "source": [
    "docker rmi redis:22.2"
   ]
  },
  {
   "cell_type": "code",
   "execution_count": null,
   "id": "13e6d5ae-2fef-4efa-bb43-82d2a9bd46d7",
   "metadata": {},
   "outputs": [],
   "source": [
    "from pydantic import BaseModel, root_validator"
   ]
  },
  {
   "cell_type": "code",
   "execution_count": null,
   "id": "b0572524-15c0-438b-8a63-434990b44bb8",
   "metadata": {},
   "outputs": [],
   "source": [
    "class User(BaseModel):\n",
    "    password1: int\n",
    "    password2: int\n",
    "    \n",
    "    @root_validator\n",
    "    def vc(cls, values):\n",
    "        pd1 = values.get(\"password1\")\n",
    "        pd2 = values.get(\"password2\")\n",
    "        \n",
    "        if pd1 == pd2:\n",
    "            return values\n",
    "        else:\n",
    "            raise ValueError(\"x\")"
   ]
  },
  {
   "cell_type": "code",
   "execution_count": null,
   "id": "9f420984-9dba-4116-9f2b-70e02e526201",
   "metadata": {},
   "outputs": [],
   "source": [
    "class XX(BaseModel):\n",
    "    secret: int\n",
    "    unv: int"
   ]
  },
  {
   "cell_type": "code",
   "execution_count": null,
   "id": "de834e9e-f6dd-440f-9ca7-e42dad2816ab",
   "metadata": {},
   "outputs": [],
   "source": [
    "from pydantic import validator"
   ]
  },
  {
   "cell_type": "code",
   "execution_count": null,
   "id": "bacc52b3-4f9d-4f9b-a65f-f430f4e5a912",
   "metadata": {},
   "outputs": [],
   "source": [
    "class User(BaseModel):\n",
    "    user_id: int\n",
    "    username: str\n",
    "    \n",
    "    @validator(\"username\")\n",
    "    def cap(cls, value):\n",
    "        return value.upper()"
   ]
  },
  {
   "cell_type": "code",
   "execution_count": null,
   "id": "68c8f88a-54b6-4681-9b2d-7026f7c8e2b9",
   "metadata": {},
   "outputs": [],
   "source": [
    "from fastapi import FastAPI"
   ]
  },
  {
   "cell_type": "code",
   "execution_count": null,
   "id": "d8e3c9e7-0336-44c0-bdcb-46b5e47ba5ea",
   "metadata": {},
   "outputs": [],
   "source": [
    "app = FastAPI()"
   ]
  },
  {
   "cell_type": "code",
   "execution_count": null,
   "id": "78bc5d66-d2c8-460a-9102-345b3572ef00",
   "metadata": {},
   "outputs": [],
   "source": [
    "@app.get(\"/secret\")\n",
    "def index():\n",
    "    return 69"
   ]
  },
  {
   "cell_type": "code",
   "execution_count": null,
   "id": "cf38e800-55ad-4680-b4bb-23da73ad7684",
   "metadata": {},
   "outputs": [],
   "source": [
    "vpc, internet gateway, vpc routing"
   ]
  },
  {
   "cell_type": "markdown",
   "id": "c7fec16f-5d11-403d-bab1-e31b6899f82a",
   "metadata": {},
   "source": [
    "### AI"
   ]
  },
  {
   "cell_type": "code",
   "execution_count": null,
   "id": "7ea57817-6416-42f9-82ee-4b0cc8df8773",
   "metadata": {},
   "outputs": [],
   "source": [
    "import torch\n",
    "from torch import nn\n",
    "import torch.nn.functional as F"
   ]
  },
  {
   "cell_type": "code",
   "execution_count": null,
   "id": "8db2e463-6d3c-4ac9-8b3c-02ca9e2bcc54",
   "metadata": {},
   "outputs": [],
   "source": [
    "from ray import tune"
   ]
  },
  {
   "cell_type": "code",
   "execution_count": null,
   "id": "3e0fa15d-24cd-4179-bec8-5837fb1f6dd1",
   "metadata": {},
   "outputs": [],
   "source": [
    "def search_it(params):\n",
    "    x, y = params[\"x\"], params[\"y\"]\n",
    "    score = objective(x, y)\n",
    "    tune.report(score=score)"
   ]
  },
  {
   "cell_type": "code",
   "execution_count": null,
   "id": "4521600b-243d-453b-b6c3-ab88c3c875a0",
   "metadata": {},
   "outputs": [],
   "source": [
    "tune.run(\n",
    "    search_it,\n",
    "    config=config\n",
    ")"
   ]
  },
  {
   "cell_type": "code",
   "execution_count": null,
   "id": "9c559e89-33a5-4940-b2d1-2d7ba728f45e",
   "metadata": {},
   "outputs": [],
   "source": [
    "import gymnasium as gym"
   ]
  },
  {
   "cell_type": "code",
   "execution_count": null,
   "id": "50234480-ec2d-4070-96a8-44ba8348afba",
   "metadata": {},
   "outputs": [],
   "source": [
    "envs = gym.vector.AsyncVectorEnv"
   ]
  },
  {
   "cell_type": "code",
   "execution_count": null,
   "id": "b11e5c20-32ec-43b1-b482-f8f843253c29",
   "metadata": {},
   "outputs": [],
   "source": [
    "import jax"
   ]
  },
  {
   "cell_type": "code",
   "execution_count": null,
   "id": "edbdb442-657f-4f8f-a0c5-b6baa327cc12",
   "metadata": {},
   "outputs": [],
   "source": [
    "func_jit = jax.jit(func, static_argnames=[\"n\"])"
   ]
  },
  {
   "cell_type": "code",
   "execution_count": null,
   "id": "b095762a-ec1b-40fe-82b2-fb78c9989489",
   "metadata": {},
   "outputs": [],
   "source": [
    "squared_x = jax.grad(square, has_aux=True)"
   ]
  },
  {
   "cell_type": "code",
   "execution_count": null,
   "id": "8ccbbf8f-2f53-437c-8609-611d7bbc690b",
   "metadata": {},
   "outputs": [],
   "source": [
    "step 1: split the model\n",
    "step 2: split the batch\n",
    "step 3: exchange\n",
    "step 4: compute the accumulate\n",
    "step "
   ]
  },
  {
   "cell_type": "code",
   "execution_count": null,
   "id": "bda982d4-4736-4320-b5b2-c334e3053ca8",
   "metadata": {},
   "outputs": [],
   "source": [
    "model.to_string()"
   ]
  },
  {
   "cell_type": "code",
   "execution_count": null,
   "id": "acc09650-5c31-4639-af83-f276b5fa1ef4",
   "metadata": {},
   "outputs": [],
   "source": [
    "optim.zero_grad()"
   ]
  },
  {
   "cell_type": "code",
   "execution_count": null,
   "id": "db151647-d7f0-49eb-92da-e88d13fe0af6",
   "metadata": {},
   "outputs": [],
   "source": [
    "step 1: scale the loss\n",
    "step 2: compute the gradient with respect to the scaled loss\n",
    "step 3: sum\n",
    "step 4: "
   ]
  },
  {
   "cell_type": "code",
   "execution_count": null,
   "id": "b9c17b57-c7c6-4360-95fe-e972d3d30c15",
   "metadata": {},
   "outputs": [],
   "source": [
    "from einops import pack"
   ]
  },
  {
   "cell_type": "code",
   "execution_count": null,
   "id": "3fe775c6-c2d3-4500-8ec6-bad715685836",
   "metadata": {},
   "outputs": [],
   "source": [
    "stacked_images = pack([image_rgb, image_depth], \"h w *\")"
   ]
  },
  {
   "cell_type": "code",
   "execution_count": null,
   "id": "1304bc14-0fb5-44d7-a40c-033d36998bf5",
   "metadata": {},
   "outputs": [],
   "source": [
    "class ResidualBlock(nn.Module):\n",
    "    def __init__(self, in_channels, out_channels, stride, downsample):\n",
    "        super().__init__()\n",
    "        self.conv1 = nn.Conv2d(in_channels, out_channels)"
   ]
  },
  {
   "cell_type": "code",
   "execution_count": null,
   "id": "4cdaec4c-682c-4862-86aa-81d94d4e1906",
   "metadata": {},
   "outputs": [],
   "source": [
    "def calculate_discounted_return_an_episode(rewards, discount_factor):\n",
    "    discounted_return = 0\n",
    "    \n",
    "    for k, reward in enumerate(rewards):\n",
    "        discounted_return += (discount_factor**k)*reward\n",
    "    \n",
    "    return discounted_return"
   ]
  },
  {
   "cell_type": "code",
   "execution_count": null,
   "id": "ce6973b3-28b9-4ba4-ab90-8e0b6cfaaa34",
   "metadata": {},
   "outputs": [],
   "source": [
    "def accuracy(probs, targs):\n",
    "    pred_idxs = torch.argmax(probs, dim=-1)\n",
    "    return (pred_idxs==targs).float().mean()"
   ]
  },
  {
   "cell_type": "code",
   "execution_count": null,
   "id": "7db6131f-6360-40d6-93b3-4bd6fd91f24d",
   "metadata": {},
   "outputs": [],
   "source": [
    "import torch.distributed as dist"
   ]
  },
  {
   "cell_type": "code",
   "execution_count": null,
   "id": "6a923cf2-608e-4dc3-8c21-86d96d68280e",
   "metadata": {},
   "outputs": [],
   "source": [
    "if dist.get_rank() == 0:\n",
    "    dist.send(x, dest=1)\n",
    "elif dist.get_rank() == 1:\n",
    "    dist.recv(tensor_will_received_data, src=0)"
   ]
  },
  {
   "cell_type": "code",
   "execution_count": null,
   "id": "140ec691-398f-4fce-8d52-ab00c4524de3",
   "metadata": {},
   "outputs": [],
   "source": [
    "import torch.multiprocessing as mp"
   ]
  },
  {
   "cell_type": "code",
   "execution_count": null,
   "id": "1560f9d0-c72e-4554-9082-60e25fbeb304",
   "metadata": {},
   "outputs": [],
   "source": [
    "mp.set_start_method(\"spawn\")"
   ]
  },
  {
   "cell_type": "code",
   "execution_count": null,
   "id": "08829b7b-070a-4331-a4cf-60a05c30c9b0",
   "metadata": {},
   "outputs": [],
   "source": [
    "for n in range(4):\n",
    "    process = mp.Process(target=func, args=(n,))\n",
    "    process.start()"
   ]
  }
 ],
 "metadata": {
  "kernelspec": {
   "display_name": "Python 3 (ipykernel)",
   "language": "python",
   "name": "python3"
  }
 },
 "nbformat": 4,
 "nbformat_minor": 5
}
