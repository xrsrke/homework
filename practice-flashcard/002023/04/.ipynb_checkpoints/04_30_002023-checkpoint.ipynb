{
 "cells": [
  {
   "cell_type": "markdown",
   "id": "be8ee035-36f9-4be9-b17e-4e4a68cda8df",
   "metadata": {},
   "source": [
    "### ML Engineering"
   ]
  },
  {
   "cell_type": "code",
   "execution_count": null,
   "id": "d3f92194-0412-44a5-a568-21a79e223d76",
   "metadata": {},
   "outputs": [],
   "source": [
    "from fastapi import FastAPI"
   ]
  },
  {
   "cell_type": "code",
   "execution_count": null,
   "id": "8373364c-625e-4d99-a956-8ee8aa58ba30",
   "metadata": {},
   "outputs": [],
   "source": [
    "app = FastAPI()"
   ]
  },
  {
   "cell_type": "code",
   "execution_count": null,
   "id": "7820d5c8-fdc7-48a0-b932-28f054df619c",
   "metadata": {},
   "outputs": [],
   "source": [
    "@app.get(\"/secret\")\n",
    "def secret():\n",
    "    return 69"
   ]
  },
  {
   "cell_type": "code",
   "execution_count": null,
   "id": "acb6c2f7-e9e9-4301-bd6e-54a7c23f0894",
   "metadata": {},
   "outputs": [],
   "source": [
    "from pydantic import BaseModel, root_validator"
   ]
  },
  {
   "cell_type": "code",
   "execution_count": null,
   "id": "604eee08-f4e5-47d0-abcb-f72f9bcfa219",
   "metadata": {},
   "outputs": [],
   "source": [
    "class User(BaseModel):\n",
    "    password1: int\n",
    "    password2: int\n",
    "    \n",
    "    @root_validator\n",
    "    def validate(cls, values):\n",
    "        pd1 = values.get(\"password1\")\n",
    "        pd2 = values.get(\"password2\")\n",
    "        \n",
    "        if pd1 == pd2:\n",
    "            return values\n",
    "        elif:\n",
    "            raise ValueError()"
   ]
  },
  {
   "cell_type": "code",
   "execution_count": null,
   "id": "47a6d7a0-988b-4a87-a7ee-14a7288f01be",
   "metadata": {},
   "outputs": [],
   "source": [
    "from pydantic import validator"
   ]
  },
  {
   "cell_type": "code",
   "execution_count": null,
   "id": "a2e726b6-df77-4de1-bff9-369b104d097e",
   "metadata": {},
   "outputs": [],
   "source": [
    "class User(BaseModel):\n",
    "    user_id: int\n",
    "    username: str\n",
    "    \n",
    "    @validator\n",
    "    def func(cls, value):\n",
    "        return value.upper()"
   ]
  },
  {
   "cell_type": "code",
   "execution_count": null,
   "id": "6caef8eb-fbba-4f9c-b6e4-6ba2a794f371",
   "metadata": {},
   "outputs": [],
   "source": [
    "from contextlib import contextmanager"
   ]
  },
  {
   "cell_type": "code",
   "execution_count": null,
   "id": "535b325d-4ac4-48c0-98f1-6f0ffdac3b28",
   "metadata": {},
   "outputs": [],
   "source": [
    "@contextmanager\n",
    "def second_context():\n",
    "    print(\"x\")\n",
    "    \n",
    "    yield \"hello world\"\n",
    "    \n",
    "    print(\"y\")"
   ]
  },
  {
   "cell_type": "code",
   "execution_count": null,
   "id": "09e88e40-0b6d-4c36-84ee-2ec0ff2bd55d",
   "metadata": {},
   "outputs": [],
   "source": [
    "from threading import Thread"
   ]
  },
  {
   "cell_type": "code",
   "execution_count": null,
   "id": "f9535f41-6ec9-4561-b7d8-9e5b67d9247c",
   "metadata": {},
   "outputs": [],
   "source": [
    "thread = Thread(target=print_numbers())"
   ]
  },
  {
   "cell_type": "code",
   "execution_count": null,
   "id": "a4e51ec0-cc13-4144-8c7d-42b02386317c",
   "metadata": {},
   "outputs": [],
   "source": [
    "thread.start()"
   ]
  },
  {
   "cell_type": "code",
   "execution_count": null,
   "id": "cba9f086-9f0d-42ae-9b06-50d12315a9e3",
   "metadata": {},
   "outputs": [],
   "source": [
    "avgs.groupby(\"title\")[\"rating\"].mean()"
   ]
  },
  {
   "cell_type": "code",
   "execution_count": null,
   "id": "0b31b5d1-c128-4601-b9b5-29b5824f5779",
   "metadata": {},
   "outputs": [],
   "source": [
    "@contextmanager\n",
    "def first_context():\n",
    "    print(\"x\")\n",
    "    \n",
    "    yield\n",
    "    \n",
    "    print(\"x\")"
   ]
  },
  {
   "cell_type": "markdown",
   "id": "28befb44-5844-4402-b4fe-697d6f55c866",
   "metadata": {},
   "source": [
    "### Engineering"
   ]
  },
  {
   "cell_type": "code",
   "execution_count": null,
   "id": "cc78009b-4bda-4b88-8006-70fbcc67fdc2",
   "metadata": {},
   "outputs": [],
   "source": [
    "import torch.distributed as dist"
   ]
  },
  {
   "cell_type": "code",
   "execution_count": null,
   "id": "a754eec4-bfaf-41cd-aa45-15a3a238f698",
   "metadata": {},
   "outputs": [],
   "source": [
    "dist.broadcast(x, \"src\")"
   ]
  },
  {
   "cell_type": "markdown",
   "id": "b50860bf-cf8f-4a64-9cd0-667976676945",
   "metadata": {},
   "source": [
    "step 1: replicate the model\n",
    "step 2: split the data\n",
    "step 3: compute forward pass and backward pass with respect to the micro-batch\n",
    "step 4: compute the averaage graidnet\n"
   ]
  },
  {
   "cell_type": "code",
   "execution_count": null,
   "id": "23b23a67-d63d-4ab7-ad02-a854f08f59fd",
   "metadata": {},
   "outputs": [],
   "source": [
    "import torch.distributed as dist\n",
    "from torch.multiprocessing import Process"
   ]
  },
  {
   "cell_type": "code",
   "execution_count": null,
   "id": "69a001ee-1fc2-4f69-b5ef-72b8af133076",
   "metadata": {},
   "outputs": [],
   "source": [
    "def init_communication(rank, world_size, config):\n",
    "    dist.init_process_group(*config, rank=rank, world_size=world_size)\n",
    "    print(f\"hello from rank={rank}, world_size={world_size}\")"
   ]
  },
  {
   "cell_type": "code",
   "execution_count": null,
   "id": "b6102d78-9e7e-4e57-aaf2-c15bfd8efc46",
   "metadata": {},
   "outputs": [],
   "source": [
    "for rank in range(world_size):\n",
    "    p = Process(target=init_communication, args=(rank, world_size, config))\n",
    "    p.start()"
   ]
  },
  {
   "cell_type": "code",
   "execution_count": null,
   "id": "8d223e50-31b5-4e63-aaaa-8bf4002f63c0",
   "metadata": {},
   "outputs": [],
   "source": [
    "from queue import Queue"
   ]
  },
  {
   "cell_type": "code",
   "execution_count": null,
   "id": "76cb80d2-133c-408b-b10f-bef8947df66f",
   "metadata": {},
   "outputs": [],
   "source": [
    "q = Queue()"
   ]
  },
  {
   "cell_type": "code",
   "execution_count": null,
   "id": "3bb9a99e-5ef7-4594-8142-512c26c0446c",
   "metadata": {},
   "outputs": [],
   "source": [
    "for x in xs:\n",
    "    q.put(x)"
   ]
  },
  {
   "cell_type": "code",
   "execution_count": null,
   "id": "51181e27-f648-4672-abe5-7a1e28c83770",
   "metadata": {},
   "outputs": [],
   "source": [
    "step 1: record\n",
    "step 2: number of layer per patritions\n",
    "step 3: split\n",
    "step 4: put"
   ]
  },
  {
   "cell_type": "code",
   "execution_count": null,
   "id": "0e97c061-06ad-4379-9aff-9e9456b99e6a",
   "metadata": {},
   "outputs": [],
   "source": [
    "import torch.distributed as dist\n",
    "from torch.multiprocessing import Process"
   ]
  },
  {
   "cell_type": "code",
   "execution_count": null,
   "id": "d3714130-7c11-41dc-abbc-f300bff3bb00",
   "metadata": {},
   "outputs": [],
   "source": [
    "def init_communication(rank, world_size, config):\n",
    "    dist.init_process_group(*config, rank=rank, world_size=world_size)"
   ]
  },
  {
   "cell_type": "code",
   "execution_count": null,
   "id": "43013fd0-eecb-4521-b4a7-2324fdf43f85",
   "metadata": {},
   "outputs": [],
   "source": [
    "for rank in range(world_size):\n",
    "    p = Process(target=init_communication, args=(rank, world_size, config))\n",
    "    p.start()"
   ]
  },
  {
   "cell_type": "code",
   "execution_count": null,
   "id": "8d0dbea8-dc55-456c-8ec8-710692e3d826",
   "metadata": {},
   "outputs": [],
   "source": [
    "for rank in range(world_size):\n",
    "    p = Process(target=say_hello)\n",
    "    p.start()"
   ]
  },
  {
   "cell_type": "code",
   "execution_count": null,
   "id": "f88dfff6-07c4-48e9-96c1-993e7f9473e6",
   "metadata": {},
   "outputs": [],
   "source": [
    "step 1: fp16, fp32 for the weight\n",
    "step 2: compute forward pass and backward pass using fp16\n",
    "step 3: cast fp16 to fp32\n",
    "step 4: update theweight"
   ]
  },
  {
   "cell_type": "code",
   "execution_count": null,
   "id": "808cc4a7-9018-4da1-8617-cdf692a5ba63",
   "metadata": {},
   "outputs": [],
   "source": [
    "def gather_tensor(x):\n",
    "    world_size = dist.get_world_size()\n",
    "    \n",
    "    xs = [torch.empty_like(x) for _ in range(world_size)]\n",
    "    \n",
    "    torch.distributed.all_gather(xs, x)"
   ]
  },
  {
   "cell_type": "code",
   "execution_count": null,
   "id": "2f07cf1b-4a3c-440e-92f0-5872c1661921",
   "metadata": {},
   "outputs": [],
   "source": [
    "for rank in range(world_size):\n",
    "    p = Process(target=say_hello, args=(rank, ))"
   ]
  },
  {
   "cell_type": "code",
   "execution_count": null,
   "id": "7972e76a-f803-441e-99a8-e91082b8911d",
   "metadata": {},
   "outputs": [],
   "source": [
    "dist.broadcast(x, src=0)"
   ]
  },
  {
   "cell_type": "code",
   "execution_count": null,
   "id": "5d04e54d-99fe-4465-928b-fb1492e4c663",
   "metadata": {},
   "outputs": [],
   "source": [
    "ctx.saved_tensors"
   ]
  },
  {
   "cell_type": "code",
   "execution_count": null,
   "id": "da293a13-9b48-4762-b38a-bfa49143f885",
   "metadata": {},
   "outputs": [],
   "source": [
    "from contextlib import contextmanager"
   ]
  },
  {
   "cell_type": "code",
   "execution_count": null,
   "id": "2abc6b4d-29b8-49c5-9e96-fe388dfa6aa7",
   "metadata": {},
   "outputs": [],
   "source": [
    "@contextmanager\n",
    "def use_stream(stream):\n",
    "    if isinstance(stream, torch.cuda.Stream):\n",
    "        yield\n",
    "        return\n",
    "    \n",
    "    with torch.cuda.stream(stream):\n",
    "        yield"
   ]
  },
  {
   "cell_type": "code",
   "execution_count": null,
   "id": "77100bf5-9bac-48ab-a3cb-f9aabcd7917e",
   "metadata": {},
   "outputs": [],
   "source": [
    "torch.cuda.set_device"
   ]
  },
  {
   "cell_type": "code",
   "execution_count": null,
   "id": "5e64968d-6e15-4c69-8270-7d1ffac84e3c",
   "metadata": {},
   "outputs": [],
   "source": [
    "redue"
   ]
  },
  {
   "cell_type": "code",
   "execution_count": null,
   "id": "3abb1fab-6ebb-4b9e-973c-4322ec27e26b",
   "metadata": {},
   "outputs": [],
   "source": [
    "with torch.cuda.device(device):\n",
    "    total = x.sum()"
   ]
  },
  {
   "cell_type": "code",
   "execution_count": null,
   "id": "52822fd1-1cd7-454c-976a-093d7248753c",
   "metadata": {},
   "outputs": [],
   "source": [
    "stream1 = torch.cuda.Stream()\n",
    "stream2 = torch.cuda.Stream()"
   ]
  },
  {
   "cell_type": "code",
   "execution_count": null,
   "id": "13869f17-666e-4224-9035-011b70a74764",
   "metadata": {},
   "outputs": [],
   "source": [
    "with torch.cuda.stream(stream1):\n",
    "    x_mean = x.mean()\n",
    "    \n",
    "with torch.cuda.stream(stream2):\n",
    "    y_mean = y.mean()"
   ]
  },
  {
   "cell_type": "code",
   "execution_count": null,
   "id": "3f611a80-dc83-4c28-9ac2-d1db88625c21",
   "metadata": {},
   "outputs": [],
   "source": [
    "stream = torch.cuda.Stream(device=device)"
   ]
  },
  {
   "cell_type": "code",
   "execution_count": null,
   "id": "fdb4dd72-9e32-4cf2-94b7-7e86ec1ebbbc",
   "metadata": {},
   "outputs": [],
   "source": [
    "with torch.cuda.device(device):\n",
    "    with torch.cuda.stream(stream):\n",
    "        mean = xs.mean()"
   ]
  },
  {
   "cell_type": "code",
   "execution_count": null,
   "id": "dec9e1cc-ce94-4fd8-a4af-58938fc0d358",
   "metadata": {},
   "outputs": [],
   "source": [
    "ctx.save_for_backward()"
   ]
  },
  {
   "cell_type": "code",
   "execution_count": null,
   "id": "a6fad4f7-c201-468e-b10f-2f1a12d9120d",
   "metadata": {},
   "outputs": [],
   "source": [
    "from einops import pack"
   ]
  },
  {
   "cell_type": "code",
   "execution_count": null,
   "id": "080a6f18-cee2-44bb-ae36-2c4ced80571c",
   "metadata": {},
   "outputs": [],
   "source": [
    "stacked_images = pack([image_rgb, image_depth], \"h w *\")"
   ]
  },
  {
   "cell_type": "markdown",
   "id": "7dde0973-7db2-46ef-aa2f-1659f49e79d9",
   "metadata": {},
   "source": [
    "### AI"
   ]
  },
  {
   "cell_type": "code",
   "execution_count": null,
   "id": "0dbe5b55-3685-4c90-ac7c-7ddfae65e8cf",
   "metadata": {},
   "outputs": [],
   "source": [
    "import torch\n",
    "from torch import nn\n",
    "import torch.nn.functional as F"
   ]
  },
  {
   "cell_type": "code",
   "execution_count": null,
   "id": "38c21afc-65d1-4ba9-a850-b3fa3e0d5cf9",
   "metadata": {},
   "outputs": [],
   "source": [
    "def tokenize_func(x):\n",
    "    return tokenize(x[\"sentence1\"])"
   ]
  },
  {
   "cell_type": "code",
   "execution_count": null,
   "id": "4a3a5ff1-e5eb-498e-ab65-8c81df30800d",
   "metadata": {},
   "outputs": [],
   "source": [
    "tokenized_dataset = dataset.map(tokenize_func)"
   ]
  },
  {
   "cell_type": "code",
   "execution_count": null,
   "id": "13fae4e3-edd8-4dd9-a573-1c05085903f4",
   "metadata": {},
   "outputs": [],
   "source": [
    "from datasets import Dataset"
   ]
  },
  {
   "cell_type": "code",
   "execution_count": null,
   "id": "abe91d8d-9606-4458-9fc1-aba3a6f6d627",
   "metadata": {},
   "outputs": [],
   "source": [
    "Dataset.from_dict(data)"
   ]
  },
  {
   "cell_type": "code",
   "execution_count": null,
   "id": "894ed550-6b7c-43ba-9434-284f0c9e929d",
   "metadata": {},
   "outputs": [],
   "source": [
    "def filter_func(x):\n",
    "    return x[\"sentence1\"].startswith(\"F\")"
   ]
  },
  {
   "cell_type": "code",
   "execution_count": null,
   "id": "e16e385f-3198-4ff7-ac1b-ba124da3b9ff",
   "metadata": {},
   "outputs": [],
   "source": [
    "from einops import rearrange"
   ]
  },
  {
   "cell_type": "code",
   "execution_count": null,
   "id": "adb4039c-712c-4b1a-977e-bbfa292a8d0f",
   "metadata": {},
   "outputs": [],
   "source": [
    "output = rearrange(\n",
    "    images,\n",
    "    \"b c (n_h p_h) (n_w p_w) -> b (n_h n_w) (p_h p_w c)\"\n",
    ")"
   ]
  },
  {
   "cell_type": "code",
   "execution_count": null,
   "id": "9ec3a328-88f0-4383-a8e8-c2bd1a51d83f",
   "metadata": {},
   "outputs": [],
   "source": [
    "def filter_func(x):\n",
    "    return x[\"sentence1\"].startswith(\"F\")"
   ]
  },
  {
   "cell_type": "code",
   "execution_count": null,
   "id": "d3f26506-c95e-478c-8186-caaf398f0c29",
   "metadata": {},
   "outputs": [],
   "source": [
    "new_dataset.filter(filter_func)"
   ]
  },
  {
   "cell_type": "code",
   "execution_count": null,
   "id": "9c1031f2-9ee4-4f67-8acb-8984a17c9479",
   "metadata": {},
   "outputs": [],
   "source": [
    "from jax import tree_map"
   ]
  },
  {
   "cell_type": "code",
   "execution_count": null,
   "id": "0dfc6046-fe9c-471d-9248-fcd7a5a4920d",
   "metadata": {},
   "outputs": [],
   "source": [
    "tree_map(square, xs)"
   ]
  },
  {
   "cell_type": "code",
   "execution_count": null,
   "id": "09bbbd71-b954-414e-93d1-7a8707dd6b30",
   "metadata": {},
   "outputs": [],
   "source": [
    "dataset.map(uppercase)"
   ]
  },
  {
   "cell_type": "code",
   "execution_count": null,
   "id": "4893f33c-95e5-4966-8908-87a802f9d25b",
   "metadata": {},
   "outputs": [],
   "source": [
    "from ray import tune"
   ]
  },
  {
   "cell_type": "code",
   "execution_count": null,
   "id": "e26db2b9-b964-4e08-8d4a-4e371e7d347c",
   "metadata": {},
   "outputs": [],
   "source": [
    "num_procs=4"
   ]
  },
  {
   "cell_type": "code",
   "execution_count": null,
   "id": "248cb5f7-746a-4bf9-afea-62742eea2d6f",
   "metadata": {},
   "outputs": [],
   "source": [
    "step 1: scale the loss\n",
    "step 2: compute the gradient with respect to the scaled loss\n",
    "step 3: sum the gradient\n",
    "step 4: if __, then update"
   ]
  },
  {
   "cell_type": "code",
   "execution_count": null,
   "id": "f14ed5b0-6681-4bd4-91c8-59f4d6cdcb46",
   "metadata": {},
   "outputs": [],
   "source": [
    "from einops import einsum"
   ]
  },
  {
   "cell_type": "code",
   "execution_count": null,
   "id": "50bbb463-4e9e-4be9-b306-9b3747b04981",
   "metadata": {},
   "outputs": [],
   "source": [
    "interference = einsum(\n",
    "    W,\n",
    "    \"b f1 d, b f2 d -> b f1 f2\"\n",
    ")"
   ]
  },
  {
   "cell_type": "code",
   "execution_count": null,
   "id": "23af07fd-21b8-4b8e-a32f-4cb28d77255d",
   "metadata": {},
   "outputs": [],
   "source": [
    "class TextEmbedding(nn.Module):\n",
    "    def __init__(self, vocab_size, padding_idx, d_model):\n",
    "        super().__init__()\n",
    "        self.embedding = nn.Embedding(\n",
    "            num_embeddings=vocab_size,\n",
    "            embedding_dim=d_model,\n",
    "            padding_idx=padding_idx\n",
    "        )\n",
    "    \n",
    "    def forward(self, x):\n",
    "        return self.embedding"
   ]
  },
  {
   "cell_type": "code",
   "execution_count": null,
   "id": "c53dd5b1-e9c4-402b-862e-ce697a161f0c",
   "metadata": {},
   "outputs": [],
   "source": [
    "def accuracy(probs, targs):\n",
    "    pred_idxs = torch.argmax(probs, dim=-1)\n",
    "    return (pred_idxs == targs).float().mean()"
   ]
  },
  {
   "cell_type": "code",
   "execution_count": null,
   "id": "ea8e1ecf-5613-4932-9481-6ae2941791a3",
   "metadata": {},
   "outputs": [],
   "source": [
    "def calculate_discounted_return_an_episode(rewards, discount_factor):\n",
    "    discounted_return = 0\n",
    "    \n",
    "    for k, reward in enumerate(rewards):\n",
    "        discounted_return += (discount_factor**k) * reward\n",
    "    \n",
    "    return discounted_return"
   ]
  },
  {
   "cell_type": "code",
   "execution_count": null,
   "id": "38df2132-602b-414b-ae7f-4ba107dcfdd5",
   "metadata": {},
   "outputs": [],
   "source": [
    "class LayerNorm(nn.Module):\n",
    "    def __init__(self, )"
   ]
  }
 ],
 "metadata": {
  "kernelspec": {
   "display_name": "Python 3 (ipykernel)",
   "language": "python",
   "name": "python3"
  }
 },
 "nbformat": 4,
 "nbformat_minor": 5
}
