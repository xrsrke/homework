{
 "cells": [
  {
   "cell_type": "markdown",
   "id": "67951619-2e0d-4e77-a13b-670ec0ae5c79",
   "metadata": {},
   "source": [
    "### Science"
   ]
  },
  {
   "cell_type": "code",
   "execution_count": null,
   "id": "0f2396a3-1733-4882-860f-67546e10c48c",
   "metadata": {},
   "outputs": [],
   "source": [
    "momentum\n",
    "energy\n",
    "mass\n"
   ]
  },
  {
   "cell_type": "code",
   "execution_count": null,
   "id": "eccdfd15-c8b5-4fe4-a193-5e81716895b8",
   "metadata": {},
   "outputs": [],
   "source": [
    "from prefect import flow"
   ]
  },
  {
   "cell_type": "code",
   "execution_count": null,
   "id": "920e1d49-91f0-44dd-820f-32081e7a77db",
   "metadata": {},
   "outputs": [],
   "source": [
    "@flow\n",
    "def run_workflow():\n",
    "    start_x()\n",
    "    stop_x()"
   ]
  },
  {
   "cell_type": "code",
   "execution_count": null,
   "id": "ddde7947-74ca-4021-965d-1103d9d51cb4",
   "metadata": {},
   "outputs": [],
   "source": [
    "from sqlalchemy import Column, String, Integer"
   ]
  },
  {
   "cell_type": "code",
   "execution_count": null,
   "id": "7b891a46-68e5-4b82-b19e-47468573a896",
   "metadata": {},
   "outputs": [],
   "source": [
    "class User(Base):\n",
    "    __tablename__ = \"users\"\n",
    "    \n",
    "    id = Column(\"id\", Integer, primary_key=True)\n",
    "    username = Column(\"username\", String)"
   ]
  },
  {
   "cell_type": "code",
   "execution_count": null,
   "id": "3005fe59-246f-4d02-99b6-a05ed056807d",
   "metadata": {},
   "outputs": [],
   "source": [
    "session.query(User).all()"
   ]
  },
  {
   "cell_type": "code",
   "execution_count": null,
   "id": "53133bd0-af74-48a4-8b54-9d8752620a9b",
   "metadata": {},
   "outputs": [],
   "source": [
    "ec2 and ebs"
   ]
  },
  {
   "cell_type": "code",
   "execution_count": null,
   "id": "a225f8a8-c133-469f-bc2e-85ed09607120",
   "metadata": {},
   "outputs": [],
   "source": [
    "false, false, true"
   ]
  },
  {
   "cell_type": "code",
   "execution_count": null,
   "id": "1abd914a-16bb-4bfa-bc53-6666c42627a7",
   "metadata": {},
   "outputs": [],
   "source": [
    "from typing import overload, List"
   ]
  },
  {
   "cell_type": "code",
   "execution_count": null,
   "id": "0f6adcd0-4f00-472e-9641-8424c7bfc33c",
   "metadata": {},
   "outputs": [],
   "source": [
    "@overload\n",
    "def getitem(x: str) -> str:\n",
    "    pass"
   ]
  },
  {
   "cell_type": "code",
   "execution_count": null,
   "id": "e317e00c-5e92-4ff3-855b-5f1f13e5c839",
   "metadata": {},
   "outputs": [],
   "source": [
    "@overload\n",
    "def getitem(x: List[int]) -> int:\n",
    "    pass"
   ]
  },
  {
   "cell_type": "markdown",
   "id": "2a091dee-e704-4730-a66f-7f843dbf9e66",
   "metadata": {},
   "source": [
    "### AI"
   ]
  },
  {
   "cell_type": "code",
   "execution_count": null,
   "id": "0b8b9df2-91b3-45e3-90db-415f1415f34f",
   "metadata": {},
   "outputs": [],
   "source": [
    "import torch\n",
    "from torch import nn\n",
    "import torch.nn.functional as F"
   ]
  },
  {
   "cell_type": "code",
   "execution_count": null,
   "id": "0bad961a-da16-4f50-9d9a-185e37a78dd3",
   "metadata": {},
   "outputs": [],
   "source": [
    "from flax import linen as nn"
   ]
  },
  {
   "cell_type": "code",
   "execution_count": null,
   "id": "ae3fb42c-d9f7-40dd-b71d-09f3353336c1",
   "metadata": {},
   "outputs": [
    {
     "data": {
      "text/plain": [
       "Dense(\n",
       "    # attributes\n",
       "    features = 42\n",
       "    use_bias = 69\n",
       "    dtype = None\n",
       "    param_dtype = float32\n",
       "    precision = None\n",
       "    kernel_init = init\n",
       "    bias_init = zeros\n",
       "    dot_general = dot_general\n",
       ")"
      ]
     },
     "execution_count": null,
     "metadata": {},
     "output_type": "execute_result"
    }
   ],
   "source": [
    "nn.Dense(42, 69)"
   ]
  },
  {
   "cell_type": "code",
   "execution_count": null,
   "id": "11ca6c5f-888b-4359-9126-daf2ff407ec9",
   "metadata": {},
   "outputs": [],
   "source": [
    "from jax import tree_map"
   ]
  },
  {
   "cell_type": "code",
   "execution_count": null,
   "id": "e6761eed-59d5-4df1-9d56-e74f50ffbbb6",
   "metadata": {},
   "outputs": [],
   "source": [
    "squared_xs = tree_map(square, xs)"
   ]
  },
  {
   "cell_type": "code",
   "execution_count": null,
   "id": "8e02d1ee-659d-49b7-abf7-0599979d4730",
   "metadata": {},
   "outputs": [],
   "source": [
    "from jax import jit"
   ]
  },
  {
   "cell_type": "code",
   "execution_count": null,
   "id": "bbb9c63a-74e6-4d9f-890a-4cf971c7d9ae",
   "metadata": {},
   "outputs": [],
   "source": [
    "from ray import tune"
   ]
  },
  {
   "cell_type": "code",
   "execution_count": null,
   "id": "60d1f0e4-5218-4573-aa9c-2d2565341c02",
   "metadata": {},
   "outputs": [],
   "source": [
    "def training_function(config):\n",
    "    x, y = config[\"x\"], config[\"y\"]\n",
    "    score = objective(x, y)\n",
    "    tune.report(score=score)"
   ]
  },
  {
   "cell_type": "code",
   "execution_count": null,
   "id": "12936524-8e51-4cb4-bfff-7d70ff3af990",
   "metadata": {},
   "outputs": [],
   "source": [
    "result = tune.run(\n",
    "    objective,\n",
    "    config=config\n",
    ")"
   ]
  },
  {
   "cell_type": "code",
   "execution_count": null,
   "id": "36b3d1f9-5d0d-4097-a280-1a16c74a68a7",
   "metadata": {},
   "outputs": [],
   "source": [
    "step 1: split the model and put it across machines\n",
    "step 2: split a mini-batch to micro-batches\n",
    "step 3: forward and backward\n",
    "step 4: gradient\n",
    "step 5: "
   ]
  },
  {
   "cell_type": "code",
   "execution_count": null,
   "id": "c2b42c9a-ff72-4b49-9121-c08b7a0d4a33",
   "metadata": {},
   "outputs": [],
   "source": [
    "step 1: scaled the loss by multiple it with a scaling factor\n",
    "step 2: calculate the gradient with respect to the scaled loss\n",
    "step 3: unscale the gradient\n",
    "step 4: update the gradient with respect to the unscaled loss\n",
    "step 5: "
   ]
  },
  {
   "cell_type": "code",
   "execution_count": null,
   "id": "f211ae30-fb62-4473-8d3f-0025f54c80b4",
   "metadata": {},
   "outputs": [],
   "source": [
    "model.to_tokens()"
   ]
  },
  {
   "cell_type": "code",
   "execution_count": null,
   "id": "826c1ebe-4773-4ee6-8c18-2cb2f99615d5",
   "metadata": {},
   "outputs": [],
   "source": [
    "model.run_with_cache()"
   ]
  },
  {
   "cell_type": "code",
   "execution_count": null,
   "id": "c6931832-d179-4158-8e30-d5d9cf582dbf",
   "metadata": {},
   "outputs": [],
   "source": [
    "step 1: split model\n",
    "step 2: split batch\n",
    "step 3: exchange\n",
    "step 4: update parameter using accumuated\n",
    "step 5: update"
   ]
  },
  {
   "cell_type": "code",
   "execution_count": null,
   "id": "858dcb9d-a315-4c6c-ada5-5ed40b5de336",
   "metadata": {},
   "outputs": [],
   "source": [
    "from langchain"
   ]
  },
  {
   "cell_type": "code",
   "execution_count": null,
   "id": "fdee67c4-cfe9-4829-b55f-be0d91f229e5",
   "metadata": {},
   "outputs": [],
   "source": [
    "from einops import reduce"
   ]
  },
  {
   "cell_type": "code",
   "execution_count": null,
   "id": "fa467b6a-f0c7-4ad9-832d-f51f95dc791b",
   "metadata": {},
   "outputs": [],
   "source": [
    "induction_stripe = reduce(attn_weights, \"\")"
   ]
  },
  {
   "cell_type": "code",
   "execution_count": null,
   "id": "9b715356-f29c-41ba-b7a2-fd12768bea17",
   "metadata": {},
   "outputs": [],
   "source": [
    "induction_stripe = attn_weights.diagonal(dim1=-2, dim2=-1, offset=1-4)"
   ]
  },
  {
   "cell_type": "code",
   "execution_count": null,
   "id": "f361c324-fe7c-400d-b36d-86ff7f39e7f8",
   "metadata": {},
   "outputs": [],
   "source": [
    "from einops import reduce"
   ]
  },
  {
   "cell_type": "code",
   "execution_count": null,
   "id": "e0012029-3cf9-4f5b-88fb-9d1a9b45f504",
   "metadata": {},
   "outputs": [],
   "source": [
    "induction_score = reduce(induction_stripe, \"h w -> h\", reduction=\"mean\")"
   ]
  },
  {
   "cell_type": "code",
   "execution_count": null,
   "id": "68a474fb-6191-499b-b61b-883078301396",
   "metadata": {},
   "outputs": [],
   "source": [
    "def calculate_discounted_return_each_timestep(rewards, discount_factor):\n",
    "    discounted_return = 0\n",
    "    \n",
    "    for k, reward in enumerate(rewards):\n",
    "        discounted_return += (discount_factor**k) * reward\n",
    "    \n",
    "    return discounted_return"
   ]
  },
  {
   "cell_type": "code",
   "execution_count": null,
   "id": "8f36ea34-01a7-4c5b-b806-1de248a958fd",
   "metadata": {},
   "outputs": [],
   "source": [
    "import torch.multiprocessing as mp"
   ]
  },
  {
   "cell_type": "code",
   "execution_count": null,
   "id": "c8cd9f77-574a-49cb-9f51-3a0484ba933c",
   "metadata": {},
   "outputs": [],
   "source": [
    "mp.start_processes(\"spawn\")"
   ]
  },
  {
   "cell_type": "code",
   "execution_count": null,
   "id": "960db494-3203-4a3a-9c47-3f93b5f84117",
   "metadata": {},
   "outputs": [],
   "source": [
    "for n in enumerate(4):\n",
    "    process = mp.Process(func, kwargs=(n, ))\n",
    "    process.start()"
   ]
  },
  {
   "cell_type": "code",
   "execution_count": null,
   "id": "3ceda350-5074-43fc-96ba-b33fbaf372d0",
   "metadata": {},
   "outputs": [],
   "source": [
    "for param in model.parameters():\n",
    "    param.grad = False"
   ]
  },
  {
   "cell_type": "code",
   "execution_count": null,
   "id": "9f897882-fb6c-4f80-a9a2-ec7abfcf2d3b",
   "metadata": {},
   "outputs": [],
   "source": [
    "import torch\n",
    "from torch import nn\n",
    "import torch.nn.functional as F"
   ]
  },
  {
   "cell_type": "code",
   "execution_count": null,
   "id": "094b7dae-d20f-4605-b9d2-c4924d91c031",
   "metadata": {},
   "outputs": [],
   "source": [
    "model.classifier[0].grad = True\n",
    "model.classifier[3].grad = True"
   ]
  },
  {
   "cell_type": "code",
   "execution_count": null,
   "id": "9ff67b1e-3365-413e-8d7e-ab21662b40f0",
   "metadata": {},
   "outputs": [],
   "source": [
    "model.classifier[6] = nn.Linear(4096, 10)"
   ]
  },
  {
   "cell_type": "code",
   "execution_count": null,
   "id": "7ad73c62-4704-4f5d-ab26-dfe35ed6dc57",
   "metadata": {},
   "outputs": [],
   "source": [
    "def compute_ratio(current, prev):\n",
    "    return (current-prev).exp()"
   ]
  },
  {
   "cell_type": "code",
   "execution_count": null,
   "id": "65621a39-c024-42eb-b80e-123e991793ab",
   "metadata": {},
   "outputs": [],
   "source": [
    "linear, multi, masked-multi, layernorm, residual connection, "
   ]
  },
  {
   "cell_type": "code",
   "execution_count": null,
   "id": "6f84336c-c25b-4036-8e7b-98c122770f41",
   "metadata": {},
   "outputs": [],
   "source": [
    "from torch.utils.data import split"
   ]
  },
  {
   "cell_type": "code",
   "execution_count": null,
   "id": "b4f370d3-d571-47de-ab57-7ca66e78d9ba",
   "metadata": {},
   "outputs": [],
   "source": [
    "class DotProduct(nn.Module):\n",
    "    def forward(self, x):\n",
    "        users = self.user_factors(x[0, :])\n",
    "        movies = self.movie_factors(x[1, :])\n",
    "        \n",
    "        return (users*movies).sum()"
   ]
  },
  {
   "cell_type": "code",
   "execution_count": null,
   "id": "82f07aff-0007-4cee-8d17-594387faa534",
   "metadata": {},
   "outputs": [],
   "source": [
    "class BatchNorm(nn.Module):\n",
    "    def __init__(self, mom, eps):\n",
    "        super().__init__()\n",
    "        self.mom, self.eps = mom, eps\n",
    "        self.adds = nn.Parameter(torch.zeros(1))\n",
    "        self.mults = nn.Parameter(torch.ones(1))\n",
    "        self.register_buffer(\"means\", torch.zeros(1))\n",
    "        self.register_buffer(\"vars\", torch.ones(1))\n",
    "    \n",
    "    def update_stats(x):\n",
    "        mean = x.mean(dim=-1, keepdim=True)\n",
    "        var = x.var(dim=-1, keepdim=True)\n",
    "        self.means.lerp_(mean, self.mom)\n",
    "        self.vars.learp_(var, self.mom)\n",
    "        return mean, var\n",
    "    \n",
    "    def forward(self, x):\n",
    "        with torch.no_grad():\n",
    "            mean, var = self.update_stats(x)\n",
    "        \n",
    "        x = (x-mean) / (var + self.eps)\n",
    "        return self.mults*x + self.adds"
   ]
  },
  {
   "cell_type": "code",
   "execution_count": null,
   "id": "e8847428-b020-4a23-ada6-ffb634bbfa30",
   "metadata": {},
   "outputs": [],
   "source": [
    "step 1: scale the loss by multiplying with a scaling factor\n",
    "step 2: compute the gradient with respect to the scaled loss\n",
    "step 3: unscale the gradient\n",
    "step 4: update model's parameters with repsect to the unscale gradient"
   ]
  },
  {
   "cell_type": "code",
   "execution_count": null,
   "id": "1f814653-2387-427e-9890-d7a144e2190d",
   "metadata": {},
   "outputs": [],
   "source": [
    "step 1: make a copy fp16 and fp32 of the weight\n",
    "step 2: compute forward and backward pass in fp16\n",
    "step 3: cast fp16 grad into fp32\n",
    "step 4: update params using fp32 grad and fp32 weight\n",
    "step 5: repeat step 1"
   ]
  },
  {
   "cell_type": "code",
   "execution_count": null,
   "id": "c70beba1-cb9d-4603-8060-49e540828df8",
   "metadata": {},
   "outputs": [],
   "source": [
    "from ray import tune"
   ]
  },
  {
   "cell_type": "code",
   "execution_count": null,
   "id": "13731f1a-1240-452e-ae13-6cabfcfc96dd",
   "metadata": {},
   "outputs": [],
   "source": [
    "def training_func(params):\n",
    "    x, y = params[\"x\"], params[\"y\"]\n",
    "    score = objective(x, y)\n",
    "    tune.report(score=score)"
   ]
  },
  {
   "cell_type": "code",
   "execution_count": null,
   "id": "0c870fb4-6a94-49ff-9891-dbb6bc76352e",
   "metadata": {},
   "outputs": [],
   "source": [
    "result = tune.run(\n",
    "    training_func,\n",
    "    config=config\n",
    ")"
   ]
  },
  {
   "cell_type": "code",
   "execution_count": null,
   "id": "79cf45bf-cb3c-43c0-b3e3-59758919876b",
   "metadata": {},
   "outputs": [],
   "source": [
    "step 1: normalize the loss\n",
    "step 2: compute the gradient with respect to each batch\n",
    "step 3: sum the gradient\n",
    "step 4: update "
   ]
  }
 ],
 "metadata": {
  "kernelspec": {
   "display_name": "Python 3 (ipykernel)",
   "language": "python",
   "name": "python3"
  }
 },
 "nbformat": 4,
 "nbformat_minor": 5
}
