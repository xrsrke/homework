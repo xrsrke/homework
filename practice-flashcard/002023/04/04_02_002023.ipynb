{
 "cells": [
  {
   "cell_type": "markdown",
   "id": "773b9db4-4bc4-4a83-946e-06e2cec966a3",
   "metadata": {},
   "source": [
    "### Science"
   ]
  },
  {
   "cell_type": "code",
   "execution_count": null,
   "id": "c6e00e96-90fb-4bd3-a8dc-f0a3764768fe",
   "metadata": {},
   "outputs": [],
   "source": [
    "step 1: record\n",
    "step 2: target\n",
    "step 3: reward\n",
    "ste 2"
   ]
  },
  {
   "cell_type": "markdown",
   "id": "a9affea6-652b-41bc-89d3-a7a7b2f97f7d",
   "metadata": {},
   "source": [
    "### Python"
   ]
  },
  {
   "cell_type": "code",
   "execution_count": null,
   "id": "6a3c0c3e-4cfe-430f-b386-a222cc79d751",
   "metadata": {},
   "outputs": [],
   "source": [
    "[x for x in x if x]"
   ]
  },
  {
   "cell_type": "code",
   "execution_count": null,
   "id": "ff1a38d8-5756-4fe4-a992-5ea81495bad3",
   "metadata": {},
   "outputs": [],
   "source": [
    "from dataclasses import dataclass"
   ]
  },
  {
   "cell_type": "code",
   "execution_count": null,
   "id": "38527791-5fee-42d3-94c1-4ebf83eb0c45",
   "metadata": {},
   "outputs": [],
   "source": [
    "@dataclass\n",
    "class Vehicle:\n",
    "    year: int\n",
    "    price: int\n",
    "    manufacture: str"
   ]
  },
  {
   "cell_type": "markdown",
   "id": "a8343769-f27b-42e9-90eb-d93e3af6f54f",
   "metadata": {},
   "source": [
    "### AI"
   ]
  },
  {
   "cell_type": "code",
   "execution_count": null,
   "id": "832b2c9d-4fda-4c97-a61b-51267ad1dcd0",
   "metadata": {},
   "outputs": [],
   "source": [
    "import ray"
   ]
  },
  {
   "cell_type": "code",
   "execution_count": null,
   "id": "dd4f0d9c-93c4-4cb7-94ed-50bdcc375ea7",
   "metadata": {},
   "outputs": [],
   "source": [
    "ray.remote"
   ]
  },
  {
   "cell_type": "code",
   "execution_count": null,
   "id": "a3e5ff1c-5089-46b1-843a-7e7a022ae2d2",
   "metadata": {},
   "outputs": [],
   "source": [
    "ray.get()"
   ]
  },
  {
   "cell_type": "code",
   "execution_count": null,
   "id": "25573bca-e45a-4347-81f3-64d48b9e279c",
   "metadata": {},
   "outputs": [],
   "source": [
    "ray.put()"
   ]
  },
  {
   "cell_type": "code",
   "execution_count": null,
   "id": "23171b3b-dc0f-42ce-93b8-cdf96f18a598",
   "metadata": {},
   "outputs": [],
   "source": [
    "from ray.data import from_items"
   ]
  },
  {
   "cell_type": "code",
   "execution_count": null,
   "id": "a062807e-d63a-43d2-8fe3-36c32d9a68d3",
   "metadata": {},
   "outputs": [],
   "source": [
    "data = from_items(items)"
   ]
  },
  {
   "cell_type": "code",
   "execution_count": null,
   "id": "0b82ac41-451e-463a-b7c4-3723a97e3eb8",
   "metadata": {},
   "outputs": [],
   "source": [
    "import torch\n",
    "from torch import nn\n",
    "import torch.nn.functional as F"
   ]
  },
  {
   "cell_type": "code",
   "execution_count": null,
   "id": "7d10f4e0-c8ae-4983-b1a1-80d80d6f6a7b",
   "metadata": {},
   "outputs": [],
   "source": [
    "step 1: tokenize the observation\n",
    "step 2: tokenize the prompt and append it\n",
    "step 3: make decison\n",
    "ma"
   ]
  },
  {
   "cell_type": "code",
   "execution_count": null,
   "id": "c964afec-f27b-4207-8d55-e6a6ffde8021",
   "metadata": {},
   "outputs": [],
   "source": [
    "state_three = torch.tensor([0, 0, 1])"
   ]
  },
  {
   "cell_type": "code",
   "execution_count": null,
   "id": "47f8255d-fe8c-435a-93f6-d3d47e969f1f",
   "metadata": {},
   "outputs": [],
   "source": [
    "from torch.nn.utils import clip_grad_norm_"
   ]
  },
  {
   "cell_type": "code",
   "execution_count": null,
   "id": "3a1642c7-c542-4e3c-9b6f-3817b9a894ca",
   "metadata": {},
   "outputs": [],
   "source": [
    "clip_grad_norm_(param_1, max_norm=GRAD_CLIP_NORM)"
   ]
  },
  {
   "cell_type": "code",
   "execution_count": null,
   "id": "65310f6e-2b54-4423-9222-e31b341412d8",
   "metadata": {},
   "outputs": [],
   "source": [
    "class Agent(nn.Module):\n",
    "    def __init__(self, n_observations, n_actions, n_hidden):\n",
    "        super().__init__()\n",
    "        self.actor = nn.Sequential(\n",
    "            nn.Linear()\n",
    "        )"
   ]
  },
  {
   "cell_type": "code",
   "execution_count": null,
   "id": "aa14aab8-6344-4d58-8d9d-fc6b75d71a3e",
   "metadata": {},
   "outputs": [],
   "source": [
    "import math"
   ]
  },
  {
   "cell_type": "code",
   "execution_count": null,
   "id": "6fc2e853-450b-4e41-8cf1-f263463d7f2c",
   "metadata": {},
   "outputs": [],
   "source": [
    "class SelfAttention(nn.Module):\n",
    "    def __init__(self, d_head):\n",
    "        super().__init__()\n",
    "        self.d_head = d_head\n",
    "    \n",
    "    def forward(self, q, k, v):\n",
    "        qk_matmul = torch.matmul(q, k.permute(3, 2))\n",
    "        scores = qk_matmul / math.sqrt(self.d_head)\n",
    "        weights = F.softmax(scores, dim=-1)\n",
    "        output = torch.matmul(weights, v)\n",
    "        \n",
    "        return output, weights"
   ]
  },
  {
   "cell_type": "code",
   "execution_count": null,
   "id": "df8c3021-7d5f-4c64-b891-666d92e5d3af",
   "metadata": {},
   "outputs": [],
   "source": [
    "from einops import rearrange"
   ]
  },
  {
   "cell_type": "code",
   "execution_count": null,
   "id": "36637163-9544-4208-aa7c-e69581996c4a",
   "metadata": {},
   "outputs": [],
   "source": [
    "output = rearrange(images, '... 1 -> ...')"
   ]
  },
  {
   "cell_type": "code",
   "execution_count": null,
   "id": "00d497ea-e701-48c0-a9da-713104c588ba",
   "metadata": {},
   "outputs": [],
   "source": [
    "class Agent(nn.Module):\n",
    "    def __init__(self, n_observations, n_actions, n_hidden):\n",
    "        super().__init__()\n",
    "        self.actor = nn.Sequential(\n",
    "            nn.Linear(n_observations, n_hidden),\n",
    "            nn.Tanh(),\n",
    "            nn.Linear(n_hidden, n_hidden),\n",
    "            nn.Tanh(),\n",
    "            nn.Linear(n_hidden, n_actions),\n",
    "            nn.Softmax(dim=-1)\n",
    "        )\n",
    "        \n",
    "        \n",
    "        self.critic = nn.Sequential(\n",
    "            nn.Linear(n_observations, n_hidden),\n",
    "            nn.Tanh(),\n",
    "            nn.Linear(n_hidden, n_hidden),\n",
    "            nn.Tanh(),\n",
    "            nn.Linear(n_hidden, 1),\n",
    "            nn.Sigmoid()\n",
    "        )\n",
    "        \n",
    "    def get_action_and_value(self, states):\n",
    "        probs = self.actor(states)\n",
    "        dist = torch.multinomial(probs, num_samples=1)\n",
    "        action = dist.sample()\n",
    "        log_prob = dist.log_prob(action)\n",
    "        entropy = dist.entropy()\n",
    "        \n",
    "        critic_value = self.critic_value(states)\n",
    "        \n",
    "        return action, log_prob, entropy, critic_value"
   ]
  },
  {
   "cell_type": "code",
   "execution_count": null,
   "id": "514b3906-cf13-4186-a402-806f6f1a17a0",
   "metadata": {},
   "outputs": [],
   "source": [
    "class ResidualLayerNorm(nn.Module):\n",
    "    def __init__(self, d_model, dropout):\n",
    "        super().__init__()\n",
    "        self.layer_norm = nn.LayerNorm(d_model)\n",
    "        self.dropout = nn.Dropout(d_model)\n",
    "    \n",
    "    def forward(self, x, residual):\n",
    "        return self.layer_norm(self.dropout(x) + residual)"
   ]
  }
 ],
 "metadata": {
  "kernelspec": {
   "display_name": "Python 3 (ipykernel)",
   "language": "python",
   "name": "python3"
  }
 },
 "nbformat": 4,
 "nbformat_minor": 5
}
