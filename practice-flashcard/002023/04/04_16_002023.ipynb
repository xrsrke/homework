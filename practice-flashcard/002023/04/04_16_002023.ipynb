{
 "cells": [
  {
   "cell_type": "markdown",
   "id": "d936af6c-6e5a-44b4-80db-0bdff0753795",
   "metadata": {},
   "source": [
    "### ML Engineering"
   ]
  },
  {
   "cell_type": "code",
   "execution_count": null,
   "id": "7e295c46-2fa4-41d6-86b7-44eaf397a624",
   "metadata": {},
   "outputs": [],
   "source": [
    "from prefect import task, flow"
   ]
  },
  {
   "cell_type": "code",
   "execution_count": null,
   "id": "11b713a3-783f-414c-958d-507d1160cbc8",
   "metadata": {},
   "outputs": [],
   "source": [
    "@flow\n",
    "def run_workflow():\n",
    "    start_x()\n",
    "    end_x()"
   ]
  },
  {
   "cell_type": "code",
   "execution_count": null,
   "id": "7f8e0181-88d4-49a4-9190-9398fef05f78",
   "metadata": {},
   "outputs": [],
   "source": [
    "positions = [1, 2, 4]"
   ]
  },
  {
   "cell_type": "code",
   "execution_count": null,
   "id": "1bf3c948-e88b-46d6-b297-adbf58df082e",
   "metadata": {},
   "outputs": [],
   "source": [
    "from metaflow import catch"
   ]
  },
  {
   "cell_type": "code",
   "execution_count": null,
   "id": "add387fa-627a-4de5-862f-cca951b96ed6",
   "metadata": {},
   "outputs": [],
   "source": [
    "@catch(var=\"error_msg\")"
   ]
  },
  {
   "cell_type": "code",
   "execution_count": null,
   "id": "afdba95c-624e-4817-b009-2acc5cea6696",
   "metadata": {},
   "outputs": [],
   "source": [
    "from metaflow import retry"
   ]
  },
  {
   "cell_type": "code",
   "execution_count": null,
   "id": "39ad7977-e26f-44fd-ba55-10b436277dee",
   "metadata": {},
   "outputs": [],
   "source": [
    "@retry(times=0)"
   ]
  },
  {
   "cell_type": "code",
   "execution_count": null,
   "id": "00379caa-a3c1-4a49-ba24-b08b5149a65b",
   "metadata": {},
   "outputs": [],
   "source": [
    "inputs"
   ]
  },
  {
   "cell_type": "markdown",
   "id": "2d2cd91b-ef49-46f0-9726-ed43df00cf7d",
   "metadata": {},
   "source": [
    "### Science"
   ]
  },
  {
   "cell_type": "markdown",
   "id": "8e8a67b2-9b57-4ac7-ae93-5a4378c91342",
   "metadata": {},
   "source": [
    "### AI"
   ]
  },
  {
   "cell_type": "code",
   "execution_count": null,
   "id": "d5abab4d-8a6b-4d82-92f1-00bacb45ad43",
   "metadata": {},
   "outputs": [],
   "source": [
    "import torch\n",
    "from torch import nn\n",
    "import torch.nn.functional as F"
   ]
  },
  {
   "cell_type": "code",
   "execution_count": null,
   "id": "995e113b-10ae-4f04-9273-2fdcb61f6239",
   "metadata": {},
   "outputs": [],
   "source": [
    "from jax import jit"
   ]
  },
  {
   "cell_type": "code",
   "execution_count": null,
   "id": "b14d6328-a54c-4168-9b76-ebc78ff9eb7c",
   "metadata": {},
   "outputs": [],
   "source": [
    "func_jit = jit(func, static_argnames=[\"n\"])"
   ]
  },
  {
   "cell_type": "code",
   "execution_count": null,
   "id": "157fdb2e-ef82-49a2-a47d-61f6adc93737",
   "metadata": {},
   "outputs": [],
   "source": [
    "from ray.train.rl.rl_trainer import RLTrainer"
   ]
  },
  {
   "cell_type": "code",
   "execution_count": null,
   "id": "7c94246a-3c4f-4762-b1fb-6da71dc7cd44",
   "metadata": {},
   "outputs": [],
   "source": [
    "from jax import grad"
   ]
  },
  {
   "cell_type": "code",
   "execution_count": null,
   "id": "35689e90-fe67-4915-98aa-7f595f1f82f7",
   "metadata": {},
   "outputs": [],
   "source": [
    "squared_x = grad(square, has_aux=True)"
   ]
  },
  {
   "cell_type": "code",
   "execution_count": null,
   "id": "4faacd98-7eb3-4ae5-be16-a0ba8d950fb2",
   "metadata": {},
   "outputs": [
    {
     "data": {
      "text/plain": [
       "tensor([7, 9, 0, 6, 8, 2, 3, 4, 1, 5])"
      ]
     },
     "execution_count": null,
     "metadata": {},
     "output_type": "execute_result"
    }
   ],
   "source": [
    "torch.randperm(10)"
   ]
  },
  {
   "cell_type": "markdown",
   "id": "2253e15e-6829-4c18-b6c5-0be5c245d0a6",
   "metadata": {},
   "source": [
    "the latent representation of the current observation, the recurrent state"
   ]
  },
  {
   "cell_type": "code",
   "execution_count": null,
   "id": "e002c595-5082-4237-9a58-662698430be4",
   "metadata": {},
   "outputs": [],
   "source": [
    "x.sub(3)"
   ]
  },
  {
   "cell_type": "code",
   "execution_count": null,
   "id": "c3e05a11-90a2-42ae-9f58-c9f73d6a53d1",
   "metadata": {},
   "outputs": [],
   "source": [
    "from ray.train.rl.trainer"
   ]
  },
  {
   "cell_type": "code",
   "execution_count": null,
   "id": "cbe79223-7c7a-4e81-997b-cb0468a0bccc",
   "metadata": {},
   "outputs": [],
   "source": [
    "from torch.autograd import Function"
   ]
  },
  {
   "cell_type": "code",
   "execution_count": null,
   "id": "94b08f1b-19b1-4730-a395-d694ce6896db",
   "metadata": {},
   "outputs": [],
   "source": [
    "class MultiplyConstant(Function):\n",
    "    @staticmethod\n",
    "    def forward(ctx, input):\n",
    "        return input\n",
    "    \n",
    "    @staticmethod\n",
    "    def backward(ctx, grad):\n",
    "        return grad + 1"
   ]
  },
  {
   "cell_type": "code",
   "execution_count": null,
   "id": "25a1f651-0209-40ee-979a-60031657871e",
   "metadata": {},
   "outputs": [],
   "source": [
    "break the activations into features\n",
    "using these features to break the weights into circuits"
   ]
  },
  {
   "cell_type": "code",
   "execution_count": null,
   "id": "fb1a4070-0006-4acd-bb0e-8691c646d16e",
   "metadata": {},
   "outputs": [],
   "source": [
    "model.run_with_hooks()"
   ]
  },
  {
   "cell_type": "code",
   "execution_count": null,
   "id": "5e3c76bd-1386-4ea0-b152-c4bfbe3cb15b",
   "metadata": {},
   "outputs": [],
   "source": [
    "l1.bias.zero_()"
   ]
  },
  {
   "cell_type": "code",
   "execution_count": null,
   "id": "1a9d25c3-7c1d-480a-a47f-5d58ac81f204",
   "metadata": {},
   "outputs": [],
   "source": [
    "masked_encoding = mask.mask_fill(mask==False, -1)"
   ]
  },
  {
   "cell_type": "code",
   "execution_count": null,
   "id": "f0f948c3-4053-4288-90aa-eb09de194ffb",
   "metadata": {},
   "outputs": [],
   "source": [
    "class ShortcutProjection(nn.Module):\n",
    "    def __init__(self, in_channels, out_channels, stride):\n",
    "        super().__init__()\n",
    "        self.net = nn.Sequential(\n",
    "            nn.Conv2d(\n",
    "                in_channels=in_channels,\n",
    "                out_channels=out_channels,\n",
    "                stride=1\n",
    "            )\n",
    "        )"
   ]
  }
 ],
 "metadata": {
  "kernelspec": {
   "display_name": "Python 3 (ipykernel)",
   "language": "python",
   "name": "python3"
  }
 },
 "nbformat": 4,
 "nbformat_minor": 5
}
