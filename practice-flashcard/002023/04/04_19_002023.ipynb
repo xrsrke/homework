{
 "cells": [
  {
   "cell_type": "markdown",
   "id": "924f7b62-de43-4efd-a431-2224f09543b3",
   "metadata": {},
   "source": [
    "### Science"
   ]
  },
  {
   "cell_type": "code",
   "execution_count": null,
   "id": "92bedce6-7691-4e65-974e-f687a53dcede",
   "metadata": {},
   "outputs": [],
   "source": [
    "will haven't v_ed"
   ]
  },
  {
   "cell_type": "code",
   "execution_count": null,
   "id": "199d4a9b-ee67-4317-9538-7f22d1ae256f",
   "metadata": {},
   "outputs": [],
   "source": [
    "recrd"
   ]
  },
  {
   "cell_type": "code",
   "execution_count": null,
   "id": "db61ef54-2960-460e-be53-8d393adfde16",
   "metadata": {},
   "outputs": [],
   "source": [
    "had "
   ]
  },
  {
   "cell_type": "code",
   "execution_count": null,
   "id": "4787166f-66a0-44f9-8f8e-ea741189ada8",
   "metadata": {},
   "outputs": [],
   "source": [
    "invasive, non-invasive"
   ]
  },
  {
   "cell_type": "markdown",
   "id": "8085dfde-ea4c-4d2a-b9cc-ee9c3a373d14",
   "metadata": {},
   "source": [
    "### ML Engineering"
   ]
  },
  {
   "cell_type": "code",
   "execution_count": null,
   "id": "643206f0-2e5c-46eb-b859-16827ae9ae39",
   "metadata": {},
   "outputs": [],
   "source": [
    "from pydantic import BaseModel"
   ]
  },
  {
   "cell_type": "code",
   "execution_count": null,
   "id": "49b41749-2568-4955-8d2e-782acfad4107",
   "metadata": {},
   "outputs": [],
   "source": [
    "from pydantic import validator, root_validator"
   ]
  },
  {
   "cell_type": "code",
   "execution_count": null,
   "id": "63d1686d-70bd-49bb-9124-3d06a40fe858",
   "metadata": {},
   "outputs": [],
   "source": [
    "class XX(BaseModel):\n",
    "    secret: int\n",
    "    unv: int"
   ]
  },
  {
   "cell_type": "code",
   "execution_count": null,
   "id": "8e12e92a-1ee7-45c2-82fb-e8e8a64a669e",
   "metadata": {},
   "outputs": [],
   "source": [
    "class User(BaseModel):\n",
    "    user_id: int\n",
    "    username: str\n",
    "    \n",
    "    @validator(\"username\")\n",
    "    def validate_username(cls, value):\n",
    "        return value.upper()"
   ]
  },
  {
   "cell_type": "code",
   "execution_count": null,
   "id": "f4970ca0-7ba2-482c-bdaa-a5fd590dd31e",
   "metadata": {},
   "outputs": [],
   "source": [
    "from fastapi import FastAPI"
   ]
  },
  {
   "cell_type": "code",
   "execution_count": null,
   "id": "b0111397-32e2-4313-b490-e55eb4eaa094",
   "metadata": {},
   "outputs": [],
   "source": [
    "app = FastAPI()"
   ]
  },
  {
   "cell_type": "code",
   "execution_count": null,
   "id": "5e3ebb39-ba55-4986-9126-266860ab7e0a",
   "metadata": {},
   "outputs": [],
   "source": [
    "@app.get(\"/secret\")\n"
   ]
  },
  {
   "cell_type": "code",
   "execution_count": null,
   "id": "d0f81df8-671b-485b-8a80-933b1aa11c79",
   "metadata": {},
   "outputs": [],
   "source": [
    "internet gateway, vpc routing, vpc"
   ]
  },
  {
   "cell_type": "code",
   "execution_count": null,
   "id": "532a6653-a80b-4728-9b08-89b756d364ce",
   "metadata": {},
   "outputs": [],
   "source": [
    "class Keyboard:\n",
    "    def __hash__(self):\n",
    "        return hash(self.language)"
   ]
  },
  {
   "cell_type": "code",
   "execution_count": null,
   "id": "8a1b7cf0-217e-4a93-abc3-94f3f2c94307",
   "metadata": {},
   "outputs": [],
   "source": [
    "from typing import overload, List"
   ]
  },
  {
   "cell_type": "code",
   "execution_count": null,
   "id": "c4fa918b-1a75-4a9b-a3ce-7b0e374692eb",
   "metadata": {},
   "outputs": [],
   "source": [
    "@overload\n",
    "def getitem(x: str) -> str:\n",
    "    pass"
   ]
  },
  {
   "cell_type": "code",
   "execution_count": null,
   "id": "d47c9607-004b-4fc1-bab2-19b0fa5bf15f",
   "metadata": {},
   "outputs": [],
   "source": [
    "@overload\n",
    "def getitem(x: List[int]) -> int:\n",
    "    pass"
   ]
  },
  {
   "cell_type": "code",
   "execution_count": null,
   "id": "a9c563e8-6621-4310-8f42-20484fb7ba70",
   "metadata": {},
   "outputs": [],
   "source": [
    "class User(BaseModel):\n",
    "    password1: int\n",
    "    password2: int\n",
    "    \n",
    "    @root_validator(pre=True)\n",
    "    def validate(cls, values):\n",
    "        pd1 = values.get(\"password1\")\n",
    "        pd2 = values.get(\"password2\")\n",
    "        \n",
    "        if pd1 == pd2:\n",
    "            return values\n",
    "        else:\n",
    "            raise ValueError(\"\")"
   ]
  },
  {
   "cell_type": "code",
   "execution_count": null,
   "id": "2a16e53c-c767-434c-9b5f-5b7456bec1ae",
   "metadata": {},
   "outputs": [],
   "source": [
    "from fastapi import FastAPI"
   ]
  },
  {
   "cell_type": "code",
   "execution_count": null,
   "id": "ca94c3e6-f201-42d5-b83d-6c15d14a5b25",
   "metadata": {},
   "outputs": [],
   "source": [
    "app = FastAPI()"
   ]
  },
  {
   "cell_type": "code",
   "execution_count": null,
   "id": "82da8a52-406c-4db1-843c-49eeb5fb4c3b",
   "metadata": {},
   "outputs": [],
   "source": [
    "@app.get(\"/secret\")\n",
    "def xxx():\n",
    "    return \"\""
   ]
  },
  {
   "cell_type": "code",
   "execution_count": null,
   "id": "181acf59-c4fb-4387-8ab1-0a1e909f20eb",
   "metadata": {},
   "outputs": [],
   "source": [
    "from metaflow import retry"
   ]
  },
  {
   "cell_type": "code",
   "execution_count": null,
   "id": "dd1ea551-b8c1-41c9-99cd-52f5ac060800",
   "metadata": {},
   "outputs": [],
   "source": [
    "@retry(times=0)"
   ]
  },
  {
   "cell_type": "code",
   "execution_count": null,
   "id": "7f8dbab2-23d7-4a95-98d6-53c6c21a640c",
   "metadata": {},
   "outputs": [],
   "source": [
    "from metaflow import catch"
   ]
  },
  {
   "cell_type": "code",
   "execution_count": null,
   "id": "086689c7-2652-42f6-a3fc-c0a8eeea7e98",
   "metadata": {},
   "outputs": [],
   "source": [
    "@catch(v)"
   ]
  },
  {
   "cell_type": "code",
   "execution_count": null,
   "id": "3e171d4f-385b-428f-8e67-5b85d589f1ff",
   "metadata": {},
   "outputs": [],
   "source": [
    "start, end"
   ]
  },
  {
   "cell_type": "markdown",
   "id": "a7fd24e1-6530-42ea-a591-476e2750027d",
   "metadata": {},
   "source": [
    "### AI"
   ]
  },
  {
   "cell_type": "code",
   "execution_count": null,
   "id": "a08de3af-751e-4f93-b878-5e01a88a1263",
   "metadata": {},
   "outputs": [],
   "source": [
    "from flax import linen as nn"
   ]
  },
  {
   "cell_type": "code",
   "execution_count": null,
   "id": "b109ab0e-aa1d-421c-a64c-43033ed9f226",
   "metadata": {},
   "outputs": [
    {
     "data": {
      "text/plain": [
       "Dense(\n",
       "    # attributes\n",
       "    features = 42\n",
       "    use_bias = 69\n",
       "    dtype = None\n",
       "    param_dtype = float32\n",
       "    precision = None\n",
       "    kernel_init = init\n",
       "    bias_init = zeros\n",
       "    dot_general = dot_general\n",
       ")"
      ]
     },
     "execution_count": null,
     "metadata": {},
     "output_type": "execute_result"
    }
   ],
   "source": [
    "nn.Dense(42, 69)"
   ]
  },
  {
   "cell_type": "code",
   "execution_count": null,
   "id": "c0a102e0-069d-4235-8a81-3a3d69d8c0d6",
   "metadata": {},
   "outputs": [],
   "source": [
    "from jax import tree_map"
   ]
  },
  {
   "cell_type": "code",
   "execution_count": null,
   "id": "54acb94a-14ee-4086-b2ac-6ef22636fedc",
   "metadata": {},
   "outputs": [],
   "source": [
    "squared_xs = tree_map(square, xs)"
   ]
  },
  {
   "cell_type": "code",
   "execution_count": null,
   "id": "c5e7919d-7200-4b64-8695-b028b8888070",
   "metadata": {},
   "outputs": [],
   "source": [
    "import ray"
   ]
  },
  {
   "cell_type": "code",
   "execution_count": null,
   "id": "4fd78b40-b268-44b8-90d7-ac72f9d3b76f",
   "metadata": {},
   "outputs": [],
   "source": [
    "ray.get(x)"
   ]
  },
  {
   "cell_type": "code",
   "execution_count": null,
   "id": "076a7a2f-886f-4a85-bc95-9c6d09438591",
   "metadata": {},
   "outputs": [],
   "source": [
    "from torch.autograd import Function"
   ]
  },
  {
   "cell_type": "code",
   "execution_count": null,
   "id": "cf6f41af-871b-4865-babb-3ffd6a08346f",
   "metadata": {},
   "outputs": [],
   "source": [
    "class MultiplyConstant(Function):\n",
    "    @staticmethod\n",
    "    def forward(ctx, input):\n",
    "        return input\n",
    "\n",
    "    @staticmethod\n",
    "    def backward(ctx, grad):\n",
    "        return grad + 1"
   ]
  },
  {
   "cell_type": "code",
   "execution_count": null,
   "id": "cc65ce7e-74f6-4656-9273-a7a3f553edf5",
   "metadata": {},
   "outputs": [],
   "source": [
    "from ray import tune"
   ]
  },
  {
   "cell_type": "code",
   "execution_count": null,
   "id": "1647d9c1-6023-4075-bdad-678a4f62add2",
   "metadata": {},
   "outputs": [],
   "source": [
    "from ray.tune.schedulers import HyperBandScheduler"
   ]
  },
  {
   "cell_type": "code",
   "execution_count": null,
   "id": "b7be052e-9e68-4340-9d49-a8201b76d3ea",
   "metadata": {},
   "outputs": [],
   "source": [
    "tune.run(\n",
    "    objective,\n",
    "    config=search_space,\n",
    "    scheduler=HyperBandScheduler()\n",
    ")"
   ]
  },
  {
   "cell_type": "code",
   "execution_count": null,
   "id": "88edbc6d-f633-4072-bae5-900aa53d2ab5",
   "metadata": {},
   "outputs": [],
   "source": [
    "decompose activations into features\n",
    "use these features to decompose weights into circuits"
   ]
  },
  {
   "cell_type": "code",
   "execution_count": null,
   "id": "8396cb78-a6eb-4445-ae98-b8f873ffb530",
   "metadata": {},
   "outputs": [],
   "source": [
    "def accuracy(probs, targs):\n",
    "    idx_preds = torch.argmax(probs, dim=-1)\n",
    "    return (idx_preds == targs).float().mean()"
   ]
  },
  {
   "cell_type": "code",
   "execution_count": null,
   "id": "3104effd-6471-43b6-974f-e746d9beaf64",
   "metadata": {},
   "outputs": [],
   "source": [
    "def calculate_discounted_return_an_episode(rewards, discount_factor):\n",
    "    discounted_return = 0\n",
    "    n_rewards = len(rewards)\n",
    "    # for i in range(n_rewards):\n",
    "    #     discounted_return += discount_factor**i\n",
    "    \n",
    "    for k, reward in enumerate(rewards):\n",
    "        discounted_return += (discount_factor**k) * reward\n",
    "    \n",
    "    return discounted_return"
   ]
  },
  {
   "cell_type": "code",
   "execution_count": null,
   "id": "c75284dc-71d1-44d7-a589-920504ec8cb5",
   "metadata": {},
   "outputs": [],
   "source": [
    "from ray.rllib.algorithms.ppo import PPOConfig"
   ]
  },
  {
   "cell_type": "code",
   "execution_count": null,
   "id": "a7ba5447-536b-4f64-b341-4ee943762e1f",
   "metadata": {},
   "outputs": [],
   "source": [
    "model = PPOConfig().environment(env_name).framework(\"torch\").build()"
   ]
  },
  {
   "cell_type": "code",
   "execution_count": null,
   "id": "26a6e8df-a0d6-4d58-9c92-718ef8acf057",
   "metadata": {},
   "outputs": [],
   "source": [
    "ray.run()"
   ]
  },
  {
   "cell_type": "code",
   "execution_count": null,
   "id": "42d79bef-dc04-4ebb-a446-6f35142964de",
   "metadata": {},
   "outputs": [
    {
     "ename": "SyntaxError",
     "evalue": "invalid syntax (3376179303.py, line 1)",
     "output_type": "error",
     "traceback": [
      "\u001b[0;36m  Cell \u001b[0;32mIn[12], line 1\u001b[0;36m\u001b[0m\n\u001b[0;31m    step 1: replicate the model\u001b[0m\n\u001b[0m         ^\u001b[0m\n\u001b[0;31mSyntaxError\u001b[0m\u001b[0;31m:\u001b[0m invalid syntax\n"
     ]
    }
   ],
   "source": [
    "step 1: replicate the model\n",
    "step 2: split the data\n",
    "step 3: compute the forward and backward pass from each machine\n",
    "step 4: average the gradient\n",
    "step 5: update the model parammeter using the average gradient"
   ]
  },
  {
   "cell_type": "code",
   "execution_count": null,
   "id": "3193b8b4-8d6c-4ffb-995c-6144dbda8657",
   "metadata": {},
   "outputs": [],
   "source": [
    "step 1: store the weight in fp16, fp32\n",
    "step 2: compute forward and backward pass in fp16\n",
    "step 3: cast the gradient from fp16 to fp32\n",
    "step 4: "
   ]
  },
  {
   "cell_type": "code",
   "execution_count": null,
   "id": "c9356bbd-9e44-41e9-9fb7-9d98be8caf5e",
   "metadata": {},
   "outputs": [],
   "source": [
    "model.run_with_hooks()"
   ]
  },
  {
   "cell_type": "code",
   "execution_count": null,
   "id": "afb1d6c4-aa45-4f36-8e2d-87c44baf08b9",
   "metadata": {},
   "outputs": [],
   "source": [
    "optim.zero_"
   ]
  },
  {
   "cell_type": "code",
   "execution_count": null,
   "id": "2b5f949e-a03d-47b3-a4bf-c00055c5f25b",
   "metadata": {},
   "outputs": [],
   "source": [
    "from transformer_lens.hook_points import HookedRootModule, HookPoint"
   ]
  },
  {
   "cell_type": "code",
   "execution_count": null,
   "id": "8135618e-b3bc-4e32-a09c-507ee389ef1d",
   "metadata": {},
   "outputs": [],
   "source": [
    "class Model(HookedRootModule):\n",
    "    def __init__(self):\n",
    "        super().__init__()\n",
    "        self.net = nn.Sequential(\n",
    "            nn.Linear(42, 69),\n",
    "            HookPoint(),\n",
    "            nn.ReLU(),\n",
    "            HookPoint(),\n",
    "            nn.Linear(69, 42),\n",
    "            HookPoint()\n",
    "        )\n",
    "        super().setup()\n",
    "    \n",
    "    def forward(self, x):\n",
    "        return self.net(x)"
   ]
  },
  {
   "cell_type": "code",
   "execution_count": null,
   "id": "52e46fd5-6ec6-476d-89d3-169c91e91330",
   "metadata": {},
   "outputs": [],
   "source": [
    "from einops import pack"
   ]
  },
  {
   "cell_type": "code",
   "execution_count": null,
   "id": "33c3fd72-14b8-4168-8f67-764b79420044",
   "metadata": {},
   "outputs": [],
   "source": [
    "stacked_images = pack([img_rgb, image_depth], \"h w *\")"
   ]
  },
  {
   "cell_type": "code",
   "execution_count": null,
   "id": "108a4506-db7c-4e0e-9dbf-8020e4ddf8fb",
   "metadata": {},
   "outputs": [],
   "source": [
    "pack([image_rgb, image_depth], \"h w *\")"
   ]
  },
  {
   "cell_type": "code",
   "execution_count": null,
   "id": "c8378ee2-73cd-4eed-84a8-3ac16758796c",
   "metadata": {},
   "outputs": [],
   "source": [
    "tokens = model.to_tokens(prompt)"
   ]
  },
  {
   "cell_type": "code",
   "execution_count": null,
   "id": "e8ad9cf2-83c8-4d92-96a3-10566c95ae77",
   "metadata": {},
   "outputs": [],
   "source": [
    "logits = model(tokens)"
   ]
  },
  {
   "cell_type": "code",
   "execution_count": null,
   "id": "3523cade-6288-4090-807a-c2ab682ea283",
   "metadata": {},
   "outputs": [],
   "source": [
    "idx_correct = model.to_single_token(correct_answer)\n",
    "idx_incorrect = model.to_single_token(incorrect_answer)"
   ]
  },
  {
   "cell_type": "code",
   "execution_count": null,
   "id": "01d8ca51-cd28-40f2-b007-f0bbddd96471",
   "metadata": {},
   "outputs": [],
   "source": [
    "logits[:, -1, :][idx_correct] - logits[:, -1, :][idx_incorrect]"
   ]
  },
  {
   "cell_type": "code",
   "execution_count": null,
   "id": "a3a8ef75-c09f-463c-b30d-a55ddbfd117d",
   "metadata": {},
   "outputs": [],
   "source": [
    "def accuracy(probs, targs):\n",
    "    pred_idxs = torch.argmax(probs, dim=-1)\n",
    "    return (pred_idxs == targs).float().mean()"
   ]
  },
  {
   "cell_type": "code",
   "execution_count": null,
   "id": "15f5567a-6ed4-49d0-8a98-9037690c9fa6",
   "metadata": {},
   "outputs": [],
   "source": [
    "def calculate_discounted_return_an_episode(rewards, discount_factor):\n",
    "    discounted_return = 0\n",
    "    \n",
    "    for k, reward in enumerate(rewards):\n",
    "        discounted_return += (discount_factor**k)*reward\n",
    "    \n",
    "    return discounted_return"
   ]
  },
  {
   "cell_type": "code",
   "execution_count": null,
   "id": "0826721c-2be1-45b2-9a9a-3235700c50bc",
   "metadata": {},
   "outputs": [],
   "source": [
    "class MultiHeadAttention(nn.Module):\n",
    "    def __init__(self, attention, d_model, n_heads):\n",
    "        super().__init__()\n",
    "        self.attention = attention\n",
    "        self.d_head = d_model // n_heads\n",
    "        self.d_model, self.n_heads = d_model, n_heads\n",
    "        \n",
    "        self.to_q = nn.Linear(d_model, d_model)\n",
    "        self.to_k = nn.Linear(d_model, d_model)\n",
    "        self.to_v = nn.Linear(d_model, d_model)\n",
    "        \n",
    "    def split_heads(self, x):\n",
    "        batch_size, seq_len, d_model = x.size()\n",
    "        return x.view(batch_size, self.n_heads, seq_len, self.d_head)\n",
    "    \n",
    "    def concat_heads(self, x):\n",
    "        batch_size, n_heads, seq_len, d_head = x.size()\n",
    "        return x.view(batch_size, seq_len, self.d_model)\n",
    "    \n",
    "    def forward(self, pre_q, pre_k, pre_v):\n",
    "        q, k, v = self.to_q(pre_q), self.to_k(pre_k), self.to_v(pre_v)\n",
    "        \n",
    "        q, k, v = self.split_heads(q), self.split_heads(k), self.split_heads(v)\n",
    "        \n",
    "        attn_output, attn_weights = self.attention(q, k, v)\n",
    "        \n",
    "        # output"
   ]
  },
  {
   "cell_type": "code",
   "execution_count": null,
   "id": "3093f21f-3e2f-4ae2-8ee4-3005de70df25",
   "metadata": {},
   "outputs": [],
   "source": [
    "user_factors = torch.randn(n_users, 5)"
   ]
  },
  {
   "cell_type": "code",
   "execution_count": null,
   "id": "626eb335-a3b8-4b01-9082-a1b081c0e9a7",
   "metadata": {},
   "outputs": [],
   "source": [
    "u-net, autoencoder, clip"
   ]
  },
  {
   "cell_type": "code",
   "execution_count": null,
   "id": "cfeba63c-2c47-4bdf-8b69-660da7fc3a0b",
   "metadata": {},
   "outputs": [],
   "source": [
    "class EncoderLayer(nn.Module):\n",
    "    def __init__(self, d_model, n_heads, d_ff, dropout):\n",
    "        super().__init__()\n",
    "        self.attention = MultiHeadAttention(d_model, n_heads)\n",
    "        self.norm_1 = ResidualLayerNorm(d_model, dropout)\n",
    "        self.feed_forward = Position"
   ]
  },
  {
   "cell_type": "code",
   "execution_count": null,
   "id": "24fb3405-d66b-4505-acc6-e7b1f534fc3f",
   "metadata": {},
   "outputs": [],
   "source": [
    "import torch\n",
    "from torch import nn\n",
    "import torch.nn.functional as F"
   ]
  },
  {
   "cell_type": "code",
   "execution_count": null,
   "id": "fe4b3828-6a9c-4ff1-9a8f-988bf70eacf0",
   "metadata": {},
   "outputs": [],
   "source": [
    "class BatchNorm(nn.Module):\n",
    "    def __init__(self, mom, eps):\n",
    "        super().__init__()\n",
    "        self.mom, self.eps = mom, eps\n",
    "        self.adds = nn.Parameter(torch.zeros(1))\n",
    "        self.mults = nn.Parameter(torch.ones(1))\n",
    "        self.register_buffer(\"vars\", torch.ones(1))\n",
    "        self.register_buffer(\"means\", torch.zeros(1))\n",
    "    \n",
    "    def update_stats(self, x):\n",
    "        m = x.mean(dim=0)\n",
    "        v = x.var(dim=0)\n",
    "        self.means.lerp_(m, self.mom)\n",
    "        self.vars.lerp_(v, self.mom)\n",
    "    \n",
    "    def forward(self, x):\n",
    "        with torch.no_grad():\n",
    "            m, v = self.update_stats(x)\n",
    "        x = (x-m) / (v+self.eps).sqrt()"
   ]
  },
  {
   "cell_type": "code",
   "execution_count": null,
   "id": "6b8c5307-99f7-457b-866d-8b86b029697b",
   "metadata": {},
   "outputs": [],
   "source": [
    "model states, optimizer states"
   ]
  },
  {
   "cell_type": "code",
   "execution_count": null,
   "id": "0fdb69fb-558b-4f5d-8466-db16a05ab5de",
   "metadata": {},
   "outputs": [],
   "source": []
  }
 ],
 "metadata": {
  "kernelspec": {
   "display_name": "Python 3 (ipykernel)",
   "language": "python",
   "name": "python3"
  }
 },
 "nbformat": 4,
 "nbformat_minor": 5
}
