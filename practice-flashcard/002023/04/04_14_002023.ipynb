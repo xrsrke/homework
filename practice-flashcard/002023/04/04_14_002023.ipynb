{
 "cells": [
  {
   "cell_type": "markdown",
   "id": "47d4b5f7-648e-4300-a874-d5d7c30614de",
   "metadata": {},
   "source": [
    "### ML Engineering"
   ]
  },
  {
   "cell_type": "code",
   "execution_count": null,
   "id": "d92cedea-5f0d-4db5-a8e3-0c839a931281",
   "metadata": {},
   "outputs": [],
   "source": [
    "from prefect import flow\n",
    "from prefect.task_runners import SequentialTaskRunner"
   ]
  },
  {
   "cell_type": "code",
   "execution_count": null,
   "id": "063bc65c-80a6-4576-b16a-c7168035c36b",
   "metadata": {},
   "outputs": [],
   "source": [
    "@flow(task_runner=SequentialTaskRunner())\n",
    "def my_flow():\n",
    "    print_values(111)\n",
    "    print_values(222)"
   ]
  },
  {
   "cell_type": "code",
   "execution_count": null,
   "id": "9db0b4da-7b6f-482f-afa6-9259860db880",
   "metadata": {},
   "outputs": [],
   "source": [
    "from prefect.deployments import Deployment"
   ]
  },
  {
   "cell_type": "code",
   "execution_count": null,
   "id": "f776412a-dab1-4161-a2ba-af5901ea097c",
   "metadata": {},
   "outputs": [],
   "source": [
    "Deployment.build_from_flow(\n",
    "    flow=training,\n",
    "    name=\"model_training-dev\"\n",
    ")"
   ]
  },
  {
   "cell_type": "code",
   "execution_count": null,
   "id": "4dc66a64-7774-4d08-8948-69aeafcb88f4",
   "metadata": {},
   "outputs": [],
   "source": [
    "from metaflow import FlowSpec, step, batch"
   ]
  },
  {
   "cell_type": "code",
   "execution_count": null,
   "id": "0210f872-d0f7-4ec4-95e9-9124c3471194",
   "metadata": {},
   "outputs": [],
   "source": [
    "class Flow(FlowSpec):\n",
    "    @step\n",
    "    def start(self):\n",
    "        self.next(self.train)\n",
    "    \n",
    "    @batch(memory=10000)\n",
    "    @step\n",
    "    def train(self):\n",
    "        train()\n",
    "        self.next(self.end)\n",
    "    \n",
    "    @step\n",
    "    def end(self): pass"
   ]
  },
  {
   "cell_type": "code",
   "execution_count": null,
   "id": "628c624c-1adb-4670-a379-8b1890b2c94c",
   "metadata": {},
   "outputs": [],
   "source": [
    "class Training(FlowSpec):\n",
    "    @step\n",
    "    def start(self):\n",
    "        self.next(self.train)\n",
    "    \n",
    "    @step\n",
    "    def train(self):\n",
    "        train()\n",
    "        self.next(self.end)\n",
    "    \n",
    "    @step\n",
    "    def end(self):\n",
    "        pass"
   ]
  },
  {
   "cell_type": "code",
   "execution_count": null,
   "id": "eac41609-870e-46c8-b1f2-e0fae1b68177",
   "metadata": {},
   "outputs": [],
   "source": [
    "from metaflow import Parameter"
   ]
  },
  {
   "cell_type": "code",
   "execution_count": null,
   "id": "21b8f13e-1e58-448c-b956-19f8861b86c8",
   "metadata": {},
   "outputs": [],
   "source": [
    "class Flow(FlowSpec):\n",
    "    secret = Parameter(\"secret\", required=True)\n",
    "    \n",
    "    @step\n",
    "    def start(self):\n",
    "        self.next(self.train)\n",
    "    \n",
    "    @step\n",
    "    def train(self):\n",
    "        print(f\"secret {self.secret}\")\n",
    "        self.next(self.end)\n",
    "    \n",
    "    @step\n",
    "    def end(self): pass"
   ]
  },
  {
   "cell_type": "code",
   "execution_count": null,
   "id": "2b9bf81b-b1be-436a-b50f-c7028f563613",
   "metadata": {},
   "outputs": [],
   "source": [
    "from metaflow import Flow"
   ]
  },
  {
   "cell_type": "code",
   "execution_count": null,
   "id": "c651781a-92f1-4e74-8128-92a18be2c147",
   "metadata": {},
   "outputs": [],
   "source": [
    "flwo = Flow(\"CountFlow\").latest_run"
   ]
  },
  {
   "cell_type": "code",
   "execution_count": null,
   "id": "24954fe8-5c4e-4c9b-96a7-eb6aed002f73",
   "metadata": {},
   "outputs": [],
   "source": [
    "class CountFlow(FlowSpec):\n",
    "    @step\n",
    "    def start(self):\n",
    "        self.words = words\n",
    "        self.next(self.count, foreach=\"words\")\n",
    "    \n",
    "    @step\n",
    "    def count(self):\n",
    "        self.word = self.input\n",
    "        self.length = len(self.input)\n",
    "        self.next(self.join)\n",
    "    \n",
    "    @step\n",
    "    def join(self, inputs):\n",
    "        self.longest = max(inputs, key=lambda x: x.length)."
   ]
  },
  {
   "cell_type": "code",
   "execution_count": null,
   "id": "06b7cee6-3f71-4e70-a25e-06e6b65c2b25",
   "metadata": {},
   "outputs": [],
   "source": [
    "class Training(FlowSpec):\n",
    "    @step\n",
    "    def start(self):\n",
    "        self.next(self.train, self.eval)\n",
    "    \n",
    "    @step\n",
    "    def train(self):\n",
    "        print(\"training...\")\n",
    "        self.next(self.join)\n",
    "    \n",
    "    @step\n",
    "    def eval(self):\n",
    "        print(\"evaluating...\")\n",
    "        self.next(self.join)\n",
    "    \n",
    "    @step\n",
    "    def join(self, inputs):\n",
    "        self.next(self.end)\n",
    "    \n",
    "    @step\n",
    "    def end(self): pass"
   ]
  },
  {
   "cell_type": "code",
   "execution_count": null,
   "id": "8bade0da-53d9-4db0-b5e7-62d411daf1f4",
   "metadata": {},
   "outputs": [],
   "source": [
    "class Car(FourWheel):\n",
    "    def __init__(self):\n",
    "        Robot.__init__(self)\n",
    "        Vehicle.__init__(self)"
   ]
  },
  {
   "cell_type": "code",
   "execution_count": null,
   "id": "a61d4c0e-82b2-4a31-bb0e-fca90a98c3b0",
   "metadata": {},
   "outputs": [],
   "source": [
    "shell: bash"
   ]
  },
  {
   "cell_type": "code",
   "execution_count": null,
   "id": "29ab0d60-43bb-4d37-82cc-f1014e6acfb4",
   "metadata": {},
   "outputs": [],
   "source": [
    "is_string(x::String) = "
   ]
  },
  {
   "cell_type": "code",
   "execution_count": null,
   "id": "938a9dfa-890e-4e69-89c3-6c5d17f2d3f8",
   "metadata": {},
   "outputs": [],
   "source": [
    "class CountFLow(FlowSpec):\n",
    "    @step\n",
    "    def start(self):\n",
    "        self.words = words\n",
    "        self.next(self.count, foreach=\"words\")\n",
    "    \n",
    "    @step\n",
    "    def count(self):\n",
    "        self.word = self.input\n",
    "        self.length = max(self.input)\n",
    "        self.next(self.join)\n",
    "    \n",
    "    @step\n",
    "    def join(self, inputs):\n",
    "        longest = max(inputs, key=lambda x: len(self.word)).word\n",
    "        "
   ]
  },
  {
   "cell_type": "code",
   "execution_count": null,
   "id": "ec9b6eac-623c-4436-bcd2-cac9634eca08",
   "metadata": {},
   "outputs": [],
   "source": [
    "@resources"
   ]
  },
  {
   "cell_type": "markdown",
   "id": "6992ecbd-4beb-4c40-a2c8-a8458534a0c0",
   "metadata": {},
   "source": [
    "### Science"
   ]
  },
  {
   "cell_type": "code",
   "execution_count": null,
   "id": "e7684376-e78a-459e-ac3d-8cea5481d18d",
   "metadata": {},
   "outputs": [],
   "source": []
  },
  {
   "cell_type": "markdown",
   "id": "5f6c011c-607c-4a03-b9a6-b5c228d033cf",
   "metadata": {},
   "source": [
    "### AI"
   ]
  },
  {
   "cell_type": "code",
   "execution_count": null,
   "id": "8097e9f5-9102-47a5-ab7e-f3b0c2b41778",
   "metadata": {},
   "outputs": [],
   "source": [
    "import torch\n",
    "from torch import nn\n",
    "import torch.nn.functional as F"
   ]
  },
  {
   "cell_type": "code",
   "execution_count": null,
   "id": "e53ba84b-d00b-4f97-bd5c-51a9a66a8b9a",
   "metadata": {},
   "outputs": [],
   "source": [
    "from enum import Enum"
   ]
  },
  {
   "cell_type": "code",
   "execution_count": null,
   "id": "3f2d28e9-775d-4a82-aab4-f3903f6cc446",
   "metadata": {},
   "outputs": [],
   "source": [
    "had v_ed"
   ]
  },
  {
   "cell_type": "code",
   "execution_count": null,
   "id": "c6227c84-6826-4912-8742-e28b79da5494",
   "metadata": {},
   "outputs": [],
   "source": [
    "valid, logic, no "
   ]
  },
  {
   "cell_type": "code",
   "execution_count": null,
   "id": "6d491978-5ea2-4d17-8c84-1cbe3e5c323e",
   "metadata": {},
   "outputs": [],
   "source": [
    "from transformer_lens.hook_points import HookedRootModule, HookPoint"
   ]
  },
  {
   "cell_type": "code",
   "execution_count": null,
   "id": "acf8f99a-1324-4906-a1e4-50195a4ea401",
   "metadata": {},
   "outputs": [],
   "source": [
    "class Model(nn.Module):\n",
    "    def __init__(self):\n",
    "        super().__init__()\n",
    "        self.net = nn.Sequential(\n",
    "            nn.Linear(42, 69),\n",
    "            HookPoint(),\n",
    "            nn.ReLU(),\n",
    "            HookPoint(),\n",
    "            nn.Linear(69, 42)\n",
    "        )\n",
    "        super().setup()\n",
    "    \n",
    "    def forward(self, x):\n",
    "        return self.net(x)"
   ]
  },
  {
   "cell_type": "code",
   "execution_count": null,
   "id": "e380af3d-e752-4ec8-9810-8bdb968724d7",
   "metadata": {},
   "outputs": [],
   "source": [
    "state, action, next_state, done"
   ]
  },
  {
   "cell_type": "code",
   "execution_count": null,
   "id": "c333cc53-f1fb-4de7-956a-015c7b711daa",
   "metadata": {},
   "outputs": [],
   "source": [
    "weights = attn_weights.diagonal(dim1=-2, dim2=-1)"
   ]
  },
  {
   "cell_type": "code",
   "execution_count": null,
   "id": "69b5f9c7-d475-410f-8279-cc00418d17ca",
   "metadata": {},
   "outputs": [],
   "source": [
    "weights = attn_weights.diagonal(dim1=-2, dim2=-1)"
   ]
  },
  {
   "cell_type": "code",
   "execution_count": null,
   "id": "19391bf4-faa1-46f4-b4e4-2cbdbbddef01",
   "metadata": {},
   "outputs": [],
   "source": [
    "from einops import rearrange"
   ]
  },
  {
   "cell_type": "code",
   "execution_count": null,
   "id": "63b4a2e6-dc3f-475b-a0f3-3ff2154bdedf",
   "metadata": {},
   "outputs": [],
   "source": [
    "output = rearrange(\n",
    "    images,\n",
    "    \"b c (h p1) (w p2) -> b (h w) (p1 p2 c)\",\n",
    "    p1=patch_height,\n",
    "    p2=patch_width\n",
    ")"
   ]
  },
  {
   "cell_type": "code",
   "execution_count": null,
   "id": "0ba2c2ba-3f8e-4b16-ae3d-52de7a80fa1c",
   "metadata": {},
   "outputs": [],
   "source": [
    "from transformers import AutoModel"
   ]
  },
  {
   "cell_type": "code",
   "execution_count": null,
   "id": "1fe2e089-372f-4adc-aeeb-6e5b255a96eb",
   "metadata": {},
   "outputs": [],
   "source": [
    "class CustomTokenClassifier(nn.Module):\n",
    "    def __init__(self, checkpoint, n_labels, dropout):\n",
    "        super().__init__()\n",
    "        self.model = AutoModel.from_pretrained(checkpoint)\n",
    "        self.dropout = nn.Dropout(dropout)\n",
    "        self.classifier = nn.Linear(768, n_labels)\n",
    "    \n",
    "    def forward(self, input_ids, attention_mask):\n",
    "        output = self.model(\n",
    "            input_ids=input_ids,\n",
    "            attention_mask=attention_mask\n",
    "        )\n",
    "        last_hidden_state = output.last_hidden_state\n",
    "        return self.classifier(self.dropout(last_hidden_state))"
   ]
  },
  {
   "cell_type": "code",
   "execution_count": null,
   "id": "59300a7c-0548-4863-af21-bad22188fecb",
   "metadata": {},
   "outputs": [],
   "source": [
    "weights = attn_weights.diagonal(dim1=-2, dim2=-1, offset=-1)"
   ]
  },
  {
   "cell_type": "code",
   "execution_count": null,
   "id": "580d0c88-1e7b-4747-b011-494ecfe6b8b9",
   "metadata": {},
   "outputs": [],
   "source": []
  }
 ],
 "metadata": {
  "kernelspec": {
   "display_name": "Python 3 (ipykernel)",
   "language": "python",
   "name": "python3"
  }
 },
 "nbformat": 4,
 "nbformat_minor": 5
}
