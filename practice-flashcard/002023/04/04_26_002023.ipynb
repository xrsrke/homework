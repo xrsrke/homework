{
 "cells": [
  {
   "cell_type": "markdown",
   "id": "aa3ba7a3-d5e7-4f38-a83f-e6ecb93b7494",
   "metadata": {},
   "source": [
    "### Science"
   ]
  },
  {
   "cell_type": "markdown",
   "id": "5d3f4c35-2566-4212-8436-e3b6b1b8a255",
   "metadata": {},
   "source": [
    "### ML Engineering"
   ]
  },
  {
   "cell_type": "code",
   "execution_count": null,
   "id": "a986e1ce-eb39-4a1c-934e-16c5c9a79972",
   "metadata": {},
   "outputs": [],
   "source": [
    "from sqlalchemy import Column, Integer, String"
   ]
  },
  {
   "cell_type": "code",
   "execution_count": null,
   "id": "72208502-340b-45f8-ab9e-09af6b69e485",
   "metadata": {},
   "outputs": [],
   "source": [
    "class User(Base):\n",
    "    __tablename__ = \"users\"\n",
    "    \n",
    "    id = Column(Integer, \"id\", primary_key=True)\n",
    "    username = Column(String, \"username\")"
   ]
  },
  {
   "cell_type": "code",
   "execution_count": null,
   "id": "272f7cc8-e545-4231-9472-12429e1680e4",
   "metadata": {},
   "outputs": [],
   "source": [
    "from metaflow import resources"
   ]
  },
  {
   "cell_type": "code",
   "execution_count": null,
   "id": "ec762765-5660-49a1-bcd7-313574d9ee02",
   "metadata": {},
   "outputs": [],
   "source": [
    "func = lambda x: return x**2"
   ]
  },
  {
   "cell_type": "markdown",
   "id": "57ebbc95-8e11-4139-9bc3-305798ce61f8",
   "metadata": {},
   "source": [
    "### AI"
   ]
  },
  {
   "cell_type": "code",
   "execution_count": null,
   "id": "32a49bba-52bc-4279-b714-836efb8ccf3c",
   "metadata": {},
   "outputs": [],
   "source": [
    "import torch\n",
    "from torch import nn\n",
    "import torch.nn.functional as F"
   ]
  },
  {
   "cell_type": "code",
   "execution_count": null,
   "id": "4f011329-0e04-4a55-a47d-a5dfbb56f283",
   "metadata": {},
   "outputs": [],
   "source": [
    "def by_column_parallelism(inputs, weights):\n",
    "    n_cols = weights.shape[-1]\n",
    "    \n",
    "    w1, w2 = weights[:, :n_cols//2], weights[:, n_cols//2:]\n",
    "    \n",
    "    out1 = inputs @ w1\n",
    "    out2 = inputs @ w2\n",
    "    \n",
    "    return torch.cat([out1, out2], dim=-1)"
   ]
  },
  {
   "cell_type": "code",
   "execution_count": null,
   "id": "a53125d5-31a1-4413-b839-d7e3be55f378",
   "metadata": {},
   "outputs": [],
   "source": [
    "step 1: split model\n",
    "step 2: split batch\n",
    "step 3: forward backward\n",
    "step 4: compute average graien\n",
    "step 5: update all\n",
    "step 6"
   ]
  },
  {
   "cell_type": "code",
   "execution_count": null,
   "id": "a1be5d2a-17e1-4e21-9de7-b6457d3b3d37",
   "metadata": {},
   "outputs": [],
   "source": [
    "def by_row_parallelism(inputs, weights):\n",
    "    n_cols = weights.shape[-1]\n",
    "    \n",
    "    x1, x2 = inputs[:, :n_cols//2], inputs[:, n_cols//2:]\n",
    "    w1, w2 = weights[:n_cols//2, :], weights[n_cols//2:, :]\n",
    "    \n",
    "    out1 = x1 @ w1\n",
    "    out2 = x2 @ w2\n",
    "    \n",
    "    return out1 + out2"
   ]
  },
  {
   "cell_type": "code",
   "execution_count": null,
   "id": "c2c97323-0999-494c-bf03-4319bc08f945",
   "metadata": {},
   "outputs": [],
   "source": [
    "step 1: normalize the loss\n",
    "step 2: compute the gradient with respect to the normalized loss\n",
    "stepm 3: "
   ]
  },
  {
   "cell_type": "code",
   "execution_count": null,
   "id": "bf09d320-81e6-449c-9d8b-04181f78cc34",
   "metadata": {},
   "outputs": [],
   "source": [
    "class Model(nn.Module):\n",
    "    def forward(self, x, labels):\n",
    "        output = self.net(x)\n",
    "        loss = loss_func(output, labels)\n",
    "        return output, loss"
   ]
  },
  {
   "cell_type": "code",
   "execution_count": null,
   "id": "bfb7783f-6b41-45ad-96aa-fcc47bd4c65b",
   "metadata": {},
   "outputs": [],
   "source": [
    "outputs, loss"
   ]
  },
  {
   "cell_type": "code",
   "execution_count": null,
   "id": "fbf3e063-7d92-4b3f-ab97-78b0b2bd4079",
   "metadata": {},
   "outputs": [],
   "source": [
    "class BatchNorm(nn.Module):\n",
    "    def __init__(self, mom, eps):\n",
    "        super().__init__()\n",
    "        self.mom, self.eps = mom, eps\n",
    "        self.adds = nn.Parameter(torch.zeros(1))\n",
    "        self.mults = nn.Parameter(torch.ones(1))\n",
    "        self.register_buffer(\"means\", torch.zeros(1))\n",
    "        self.register_buffer(\"vars\", torch.ones(1))\n",
    "    \n",
    "    def update_stats(self, x):\n",
    "        mean = x.mean(keepdim=True, dim=-1)\n",
    "        var = x.var(keepdim=True, dim=-1)\n",
    "        self.means.lerp_(mean, self.mom)\n",
    "        self.vars.lerp_(var, self.mom)\n",
    "        \n",
    "        return mean, var\n",
    "    \n",
    "    def forward(self, x):\n",
    "        with torch.no_grad():\n",
    "            mean, var = self.update_stats(x)\n",
    "        \n",
    "        x = (x-mean)/(var + self.eps)\n",
    "        x = self.mults*x + self.adds\n",
    "        return x"
   ]
  },
  {
   "cell_type": "code",
   "execution_count": null,
   "id": "c32ba44f-6e89-4e2a-8693-aeebfb2ab149",
   "metadata": {},
   "outputs": [],
   "source": [
    "from torch.autograd import Function"
   ]
  },
  {
   "cell_type": "code",
   "execution_count": null,
   "id": "5c606129-bcc9-4aae-9273-e0d40671c981",
   "metadata": {},
   "outputs": [],
   "source": [
    "class MultiplyConstant(Function):\n",
    "    @staticmethod\n",
    "    def forward(ctx, x):\n",
    "        return x\n",
    "    \n",
    "    @staticmethod\n",
    "    def backward(ctx, grad):\n",
    "        return grad + 1"
   ]
  },
  {
   "cell_type": "code",
   "execution_count": null,
   "id": "ee06e421-d842-4b4c-884b-9762fe3a4f82",
   "metadata": {},
   "outputs": [],
   "source": [
    "from ray import tune"
   ]
  },
  {
   "cell_type": "code",
   "execution_count": null,
   "id": "df9dc877-9293-4280-8e9a-96b87518bbd3",
   "metadata": {},
   "outputs": [],
   "source": [
    "def optimize_func(params):\n",
    "    x, y = params[\"x\"], params[\"y\"]\n",
    "    score = objective(x, y)\n",
    "    tune.report(score=score)"
   ]
  },
  {
   "cell_type": "code",
   "execution_count": null,
   "id": "ed6e2dd4-9be4-40db-8c02-adc7eee1fe38",
   "metadata": {},
   "outputs": [],
   "source": [
    "result = tune.run(\n",
    "    optimize_func,\n",
    "    config=config\n",
    ")"
   ]
  },
  {
   "cell_type": "code",
   "execution_count": null,
   "id": "efa05638-25a9-4665-8f45-9515718334a6",
   "metadata": {},
   "outputs": [],
   "source": [
    "torch.clamp_min(x, 2)"
   ]
  },
  {
   "cell_type": "code",
   "execution_count": null,
   "id": "aacd649e-f40f-426b-9d51-73600acfbbee",
   "metadata": {},
   "outputs": [],
   "source": [
    "import torch.distributed as dist"
   ]
  },
  {
   "cell_type": "code",
   "execution_count": null,
   "id": "2a0bdcd8-21bd-45f4-ac2f-30653e9908d4",
   "metadata": {},
   "outputs": [],
   "source": [
    "dist.broadcast(x, src=0)"
   ]
  },
  {
   "cell_type": "code",
   "execution_count": null,
   "id": "730e8fc0-a01f-49dc-abf4-7364a5573142",
   "metadata": {},
   "outputs": [],
   "source": [
    "from einops import repeat"
   ]
  },
  {
   "cell_type": "code",
   "execution_count": null,
   "id": "a2f16515-8cd4-42b6-8265-7c459e6c5e52",
   "metadata": {},
   "outputs": [],
   "source": [
    "output = repeat(x, \"h w -> h w n\", n=2)"
   ]
  },
  {
   "cell_type": "code",
   "execution_count": null,
   "id": "f7da3f45-46dd-4075-a83a-750a551320bc",
   "metadata": {},
   "outputs": [],
   "source": [
    "for _ in range(N_EPISODE):\n",
    "    state, _ = env.reset()\n",
    "    done = True\n",
    "    \n",
    "    while done:\n",
    "        preds = model(state)\n",
    "        action = torch.argmax(preds, dim=-1)\n",
    "        predicted_reward = preds[action]\n",
    "        \n",
    "        new_state, reward, done, truncated, info = env.step(action)\n",
    "        next_preds = model(next_state)\n",
    "        \n",
    "        if done is False:\n",
    "            highest_next_pred = torch.argmax(next_preds, dim=-1)\n",
    "            state = next_state\n",
    "        else:\n",
    "            highest_next_pred = 0\n",
    "        \n",
    "        target_reward = reward + highest_next_pred\n",
    "        \n",
    "        optimizer.zero_grad()\n",
    "        \n",
    "        loss = loss_func(predicted_reward, target_reward)\n",
    "        loss.backward()\n",
    "        \n",
    "        optimizer.step()"
   ]
  },
  {
   "cell_type": "code",
   "execution_count": null,
   "id": "59a221f4-60ed-424d-89aa-d05ec8df846b",
   "metadata": {},
   "outputs": [],
   "source": [
    "flat_func = nn.Flatten(start_dim=1, end_dim=3 )"
   ]
  },
  {
   "cell_type": "code",
   "execution_count": null,
   "id": "71dfbf50-c6d9-4aa0-9001-3d9f4919b14c",
   "metadata": {},
   "outputs": [],
   "source": [
    "dist.recv()"
   ]
  },
  {
   "cell_type": "code",
   "execution_count": null,
   "id": "a1f1276d-6b8b-4e75-a4ae-a6cd0e80638c",
   "metadata": {},
   "outputs": [],
   "source": [
    "nn.parallel.replicate()"
   ]
  },
  {
   "cell_type": "code",
   "execution_count": null,
   "id": "77559d7a-fe11-4e06-91be-69a346b35085",
   "metadata": {},
   "outputs": [],
   "source": [
    "dist.get_world_size()"
   ]
  },
  {
   "cell_type": "code",
   "execution_count": null,
   "id": "e386f3f1-8042-49fd-a15c-3d3e523f67f2",
   "metadata": {},
   "outputs": [],
   "source": [
    "dist.isend()"
   ]
  },
  {
   "cell_type": "code",
   "execution_count": null,
   "id": "982185a9-c358-49a8-9988-06dfabca0da6",
   "metadata": {},
   "outputs": [],
   "source": [
    "dist.send()"
   ]
  },
  {
   "cell_type": "code",
   "execution_count": null,
   "id": "35d78657-126f-48d4-9baa-c08b54c82a24",
   "metadata": {},
   "outputs": [],
   "source": [
    "dist.get_rank()"
   ]
  },
  {
   "cell_type": "code",
   "execution_count": null,
   "id": "79d24fcd-e877-4517-884b-f2d4f48ce854",
   "metadata": {},
   "outputs": [],
   "source": [
    "dist.reduce()"
   ]
  },
  {
   "cell_type": "code",
   "execution_count": null,
   "id": "1bd5c3f1-21cf-4a83-a5bb-091c185b0e63",
   "metadata": {},
   "outputs": [],
   "source": [
    "step 1: normalize the loss\n",
    "step 2: compute the gradient with respect to the normalized loss\n",
    "step 3: accumulate the gradient from all machines\n",
    "step 4: update with respect to the accumulated gradient if nnnn, else cstep 1"
   ]
  }
 ],
 "metadata": {
  "kernelspec": {
   "display_name": "Python 3 (ipykernel)",
   "language": "python",
   "name": "python3"
  }
 },
 "nbformat": 4,
 "nbformat_minor": 5
}
