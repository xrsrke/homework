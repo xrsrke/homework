{
 "cells": [
  {
   "cell_type": "markdown",
   "id": "2718c7f6-d426-499c-b45f-5f38946d2ebf",
   "metadata": {},
   "source": [
    "### ML Engineering"
   ]
  },
  {
   "cell_type": "code",
   "execution_count": null,
   "id": "d96396f9-a4ea-46a8-a0ef-d325d5f6e489",
   "metadata": {},
   "outputs": [],
   "source": [
    "from prefect import task, flow"
   ]
  },
  {
   "cell_type": "code",
   "execution_count": null,
   "id": "147ac2a0-fff6-4283-9100-e4c1e7fd50b3",
   "metadata": {},
   "outputs": [],
   "source": [
    "@task\n",
    "def hello():\n",
    "    print(42)"
   ]
  },
  {
   "cell_type": "code",
   "execution_count": null,
   "id": "3775a64a-69e9-468c-989c-49a8e4546606",
   "metadata": {},
   "outputs": [],
   "source": [
    "from prefect.task_runners import SequentialTaskRunner"
   ]
  },
  {
   "cell_type": "code",
   "execution_count": null,
   "id": "cb8c6c87-3435-470d-ae33-5192252a14aa",
   "metadata": {},
   "outputs": [],
   "source": [
    "@flow(task_runner=SequentialTaskRunner())\n",
    "def my_flow():\n",
    "    print_values(111)\n",
    "    print_values(222)"
   ]
  },
  {
   "cell_type": "code",
   "execution_count": null,
   "id": "0c857379-909a-4dbc-9903-839941e2d5d1",
   "metadata": {},
   "outputs": [],
   "source": [
    "@flow\n",
    "def run_workflow():\n",
    "    start_x()\n",
    "    end_x()"
   ]
  },
  {
   "cell_type": "markdown",
   "id": "57c8cf93-8092-4706-b1df-fd212a2195c1",
   "metadata": {},
   "source": [
    "### Science"
   ]
  },
  {
   "cell_type": "code",
   "execution_count": null,
   "id": "d5d14d59-c474-45f5-9a05-b60fbf08f663",
   "metadata": {},
   "outputs": [],
   "source": [
    "neuron1 > axon > synapse dendrite "
   ]
  },
  {
   "cell_type": "code",
   "execution_count": null,
   "id": "bfe0e8b9-bd2f-4e50-a1ee-858e10518422",
   "metadata": {},
   "outputs": [],
   "source": [
    "dna mrna"
   ]
  },
  {
   "cell_type": "code",
   "execution_count": null,
   "id": "32c9302d-e370-4fbf-8ffe-fe9556c09b86",
   "metadata": {},
   "outputs": [],
   "source": [
    "will be v_ing"
   ]
  },
  {
   "cell_type": "code",
   "execution_count": null,
   "id": "8d8fc2bc-3297-4d72-9fbc-ebf9681b975a",
   "metadata": {},
   "outputs": [],
   "source": [
    "had s v_Ed"
   ]
  },
  {
   "cell_type": "markdown",
   "id": "a32b9aa1-0d29-4356-96bd-62e9ecc2a9b0",
   "metadata": {},
   "source": [
    "### Python"
   ]
  },
  {
   "cell_type": "code",
   "execution_count": null,
   "id": "f6ab6d76-970c-4b61-ab1d-649b5db98421",
   "metadata": {},
   "outputs": [],
   "source": [
    "from functools import partial"
   ]
  },
  {
   "cell_type": "code",
   "execution_count": null,
   "id": "d4b2a783-e5a7-4e9d-9e1e-c15d5fa76e1d",
   "metadata": {},
   "outputs": [],
   "source": [
    "f = partial(my_func, b=10, k1=\"a\")"
   ]
  },
  {
   "cell_type": "code",
   "execution_count": null,
   "id": "e25bedbb-f260-4549-9ede-bb95074713c0",
   "metadata": {},
   "outputs": [],
   "source": [
    "from typing"
   ]
  },
  {
   "cell_type": "markdown",
   "id": "fb7aacbc-34f6-47a0-9a3c-a52c59ca96ac",
   "metadata": {},
   "source": [
    "### AI"
   ]
  },
  {
   "cell_type": "code",
   "execution_count": null,
   "id": "7c6a5f47-3e0b-447a-9da2-e35e4c1197b5",
   "metadata": {},
   "outputs": [],
   "source": [
    "import torch\n",
    "from torch import nn\n",
    "import torch.nn.functional as F"
   ]
  },
  {
   "cell_type": "code",
   "execution_count": null,
   "id": "81c8b7a2-7f3c-4258-93c5-07bd4a22aaa2",
   "metadata": {},
   "outputs": [],
   "source": [
    "from jax import vmap"
   ]
  },
  {
   "cell_type": "code",
   "execution_count": null,
   "id": "8f142777-613c-4737-88b0-c79de0d55fb7",
   "metadata": {},
   "outputs": [],
   "source": [
    "vmapped_multiply = vmap(multiply)"
   ]
  },
  {
   "cell_type": "code",
   "execution_count": null,
   "id": "ed5978f6-e011-4211-ad71-f44f5a6e856d",
   "metadata": {},
   "outputs": [],
   "source": [
    "from jax import jit, grad"
   ]
  },
  {
   "cell_type": "code",
   "execution_count": null,
   "id": "2db6a380-bbca-4cc4-9eae-12e992f45297",
   "metadata": {},
   "outputs": [],
   "source": [
    "jit(func, static_argnames=[\"n\"])"
   ]
  },
  {
   "cell_type": "code",
   "execution_count": null,
   "id": "063c6303-1038-4b15-af21-d4b71c3d33b2",
   "metadata": {},
   "outputs": [],
   "source": [
    "grad(square, has_aux=True)(x)"
   ]
  },
  {
   "cell_type": "code",
   "execution_count": null,
   "id": "d3f47581-7825-4663-9f14-7e34d8f680c7",
   "metadata": {},
   "outputs": [],
   "source": [
    "no side effects\n",
    "same input => same output"
   ]
  },
  {
   "cell_type": "code",
   "execution_count": null,
   "id": "8bf4d3b6-77fb-49c5-bd01-7d76cbfec1a7",
   "metadata": {},
   "outputs": [],
   "source": [
    "from ray.rllib.algorithms.ppo import PPOConfig"
   ]
  },
  {
   "cell_type": "code",
   "execution_count": null,
   "id": "3f120092-eee3-4e6c-81a0-ad6b06eb5a2a",
   "metadata": {},
   "outputs": [
    {
     "name": "stderr",
     "output_type": "stream",
     "text": [
      "2023-04-12 06:16:26,012\tINFO worker.py:1553 -- Started a local Ray instance.\n",
      "\u001b[2m\u001b[36m(RolloutWorker pid=1807)\u001b[0m 2023-04-12 06:16:28,998\tWARNING env.py:166 -- Your env reset() method appears to take 'seed' or 'return_info' arguments. Note that these are not yet supported in RLlib. Seeding will take place using 'env.seed()' and the info dict will not be returned from reset.\n",
      "2023-04-12 06:16:29,134\tWARNING util.py:67 -- Install gputil for GPU system monitoring.\n"
     ]
    }
   ],
   "source": [
    "model = PPOConfig().environment(\"CartPole-v1\").framework(\"torch\").build()"
   ]
  },
  {
   "cell_type": "code",
   "execution_count": null,
   "id": "9c8a11ca-dd68-4a41-8544-9dc44b5d52af",
   "metadata": {},
   "outputs": [],
   "source": [
    "from einops import reduce"
   ]
  },
  {
   "cell_type": "code",
   "execution_count": null,
   "id": "9b0ac67c-0444-4aa7-b9cc-001306ebac36",
   "metadata": {},
   "outputs": [],
   "source": [
    "induction_score = reduce(\n",
    "    induction_stripe,\n",
    "    \"head_idx position -> head_idx\",\n",
    "    reduction=\"mean\"\n",
    ")"
   ]
  },
  {
   "cell_type": "code",
   "execution_count": null,
   "id": "18b6079e-d499-4caf-931c-fe611f425249",
   "metadata": {},
   "outputs": [],
   "source": [
    "correct_idx = model.to_single_token(correct_answer)\n",
    "incorrect_idx = model.to_single_token(incorrect_answer)\n",
    "\n",
    "prompt_ids = model.to_tokens(prompt)\n",
    "logits = model(prompt_ids)\n",
    "\n",
    "diff = logits[0, -1, :][correct_idx] - logits[0, -1, :][incorrect_idx]"
   ]
  },
  {
   "cell_type": "code",
   "execution_count": null,
   "id": "2d343266-d9e8-464d-a505-a2c0b0529223",
   "metadata": {},
   "outputs": [],
   "source": [
    "func_jit = jit(func, static_argnames=[\"n\"])"
   ]
  },
  {
   "cell_type": "code",
   "execution_count": null,
   "id": "f3af2ee4-ac1d-469b-9cf9-55127993899c",
   "metadata": {},
   "outputs": [],
   "source": [
    "grad(square)"
   ]
  },
  {
   "cell_type": "code",
   "execution_count": null,
   "id": "2a298b4a-b115-4188-9871-1cbe4b640d44",
   "metadata": {},
   "outputs": [],
   "source": [
    "induction_stripe = attn_weights.diagonal(\n",
    "    dim1=-2,\n",
    "    dim2=-1,\n",
    "    offset=1-4\n",
    ")"
   ]
  },
  {
   "cell_type": "code",
   "execution_count": null,
   "id": "8975a637-5af4-4e90-8922-c49f2fcdce64",
   "metadata": {},
   "outputs": [],
   "source": [
    "reduce(images, \"b c h w -> b h w\", reduction=\"mean\")"
   ]
  },
  {
   "cell_type": "code",
   "execution_count": null,
   "id": "cfad6971-72ce-4c42-bf1d-5b9f7241131d",
   "metadata": {},
   "outputs": [],
   "source": [
    "model.to_str"
   ]
  },
  {
   "cell_type": "code",
   "execution_count": null,
   "id": "370cd10e-1407-4530-b92e-0ae0b6aac8d0",
   "metadata": {},
   "outputs": [],
   "source": [
    "import gymnasium as gym"
   ]
  },
  {
   "cell_type": "code",
   "execution_count": null,
   "id": "6a46cc18-d2f5-40c8-a029-ee3d0ae73dbe",
   "metadata": {},
   "outputs": [],
   "source": [
    "envs = gym.vector.SyncVectorEnv([\n",
    "    lambda: gym.make(\"CartPole-v1\"),\n",
    "    lambda: gym.make(\"CartPole-v1\"),\n",
    "    lambda: gym.make(\"CartPole-v1\")\n",
    "])"
   ]
  },
  {
   "cell_type": "code",
   "execution_count": null,
   "id": "d9f5ff57-0f33-41aa-9b53-a530bb88ee4b",
   "metadata": {},
   "outputs": [],
   "source": [
    "nn.Flatten(start_dim=-2, end_dim=-1)"
   ]
  },
  {
   "cell_type": "code",
   "execution_count": null,
   "id": "4fb518f1-eac1-4b26-87ba-8ad1c1b45bb9",
   "metadata": {},
   "outputs": [],
   "source": [
    "grad(square, has_aux=True)"
   ]
  },
  {
   "cell_type": "code",
   "execution_count": null,
   "id": "5c9202f8-ff38-46fb-8555-fefed5eb78b7",
   "metadata": {},
   "outputs": [],
   "source": [
    "from fastai.vision.all import *"
   ]
  },
  {
   "cell_type": "code",
   "execution_count": null,
   "id": "cdff15ac-724e-4577-b71b-12c44778efa2",
   "metadata": {},
   "outputs": [],
   "source": [
    "dblock = DataBlock(\n",
    "    get_x = lambda row: row[\"fname\"],\n",
    "    get_y = lambda row: row[\"labels\"]\n",
    ")"
   ]
  },
  {
   "cell_type": "code",
   "execution_count": null,
   "id": "86e64925-72f6-4687-bcac-58a2ba54e443",
   "metadata": {},
   "outputs": [],
   "source": []
  }
 ],
 "metadata": {
  "kernelspec": {
   "display_name": "Python 3 (ipykernel)",
   "language": "python",
   "name": "python3"
  }
 },
 "nbformat": 4,
 "nbformat_minor": 5
}
