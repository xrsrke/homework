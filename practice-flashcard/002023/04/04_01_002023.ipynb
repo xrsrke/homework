{
 "cells": [
  {
   "cell_type": "markdown",
   "id": "a3e52803-57f2-4d97-a4d1-a173daf27421",
   "metadata": {},
   "source": [
    "### Science"
   ]
  },
  {
   "cell_type": "code",
   "execution_count": null,
   "id": "3af329c0-207e-4af4-9b1e-601e6d06dd10",
   "metadata": {},
   "outputs": [],
   "source": [
    "record\n",
    "reward tar"
   ]
  },
  {
   "cell_type": "code",
   "execution_count": null,
   "id": "47f02232-b53e-46fd-a839-2ab388778cec",
   "metadata": {},
   "outputs": [],
   "source": [
    "photoreceptor > biopolar > ganglia"
   ]
  },
  {
   "cell_type": "markdown",
   "id": "ff03eb8d-1f56-427c-80ff-c037c96e1cc1",
   "metadata": {},
   "source": [
    "### Python"
   ]
  },
  {
   "cell_type": "code",
   "execution_count": null,
   "id": "18802a13-409f-48d5-b4fa-bc67e150102e",
   "metadata": {},
   "outputs": [],
   "source": [
    "from ray import tune\n",
    "from ray.tune.callback import Callback"
   ]
  },
  {
   "cell_type": "code",
   "execution_count": null,
   "id": "d89aff05-18df-403e-a63f-e7829456f3cb",
   "metadata": {},
   "outputs": [],
   "source": [
    "class PrintResultCallback(Callback):\n",
    "    def on_trial_result(self, interation, trials, trial, result, **info):\n",
    "        print(f\"This is a message from callback. {result['score']}\")"
   ]
  },
  {
   "cell_type": "code",
   "execution_count": null,
   "id": "a35e7454-db27-45fb-ac09-82a0f1b94c88",
   "metadata": {},
   "outputs": [],
   "source": [
    "tune.run(\n",
    "    objective,\n",
    "    config=search_space,\n",
    "    callbacks=[PrintResultCallback]\n",
    ")"
   ]
  },
  {
   "cell_type": "code",
   "execution_count": null,
   "id": "e9a6bd40-1230-4ad9-a5f1-3905caba94b9",
   "metadata": {},
   "outputs": [],
   "source": [
    "from ray.train.rl.rl_trainer import RLTrainer"
   ]
  },
  {
   "cell_type": "code",
   "execution_count": null,
   "id": "5710c0f1-3eaa-44c8-913f-fbee1d19f906",
   "metadata": {},
   "outputs": [],
   "source": [
    "trainer = RLTrainer(algorithm=\"PPO\")"
   ]
  },
  {
   "cell_type": "code",
   "execution_count": null,
   "id": "a2028301-d8ef-477c-9881-2753446f9e8b",
   "metadata": {},
   "outputs": [],
   "source": [
    "from langchain import LLMChain\n",
    "from langchain.agents import ZeroShotAgent, Tool"
   ]
  },
  {
   "cell_type": "code",
   "execution_count": null,
   "id": "1bb1c9e0-7e27-4131-9879-3e4e080138e2",
   "metadata": {},
   "outputs": [],
   "source": [
    "simple, transform, llm"
   ]
  },
  {
   "cell_type": "code",
   "execution_count": null,
   "id": "755fe501-046a-488c-a084-92696b219879",
   "metadata": {},
   "outputs": [],
   "source": [
    "from langchain.agents import AgentExecutor"
   ]
  },
  {
   "cell_type": "code",
   "execution_count": null,
   "id": "56fd505b-fc80-43a6-b7a4-8e0261d7bdd2",
   "metadata": {},
   "outputs": [],
   "source": [
    "agent_executor = AgentExecutor(agent=agent, tools=tools)"
   ]
  },
  {
   "cell_type": "code",
   "execution_count": null,
   "id": "ac3fda60-29b9-47eb-90db-754fc8de793d",
   "metadata": {},
   "outputs": [],
   "source": [
    "transition_matrix[2, ]"
   ]
  },
  {
   "cell_type": "code",
   "execution_count": null,
   "id": "836f02e1-3235-44f6-892a-742363da41c1",
   "metadata": {},
   "outputs": [],
   "source": [
    "import torch\n",
    "from torch import nn\n",
    "import torch.nn.functional as F"
   ]
  },
  {
   "cell_type": "code",
   "execution_count": null,
   "id": "91abb377-070d-4596-b779-babfda74b75f",
   "metadata": {},
   "outputs": [],
   "source": [
    "current_state = torch.tensor([0, 0, 1]).float()"
   ]
  },
  {
   "cell_type": "code",
   "execution_count": null,
   "id": "e97ee777-ac83-449b-880e-75d507942eda",
   "metadata": {},
   "outputs": [],
   "source": [
    "current_state"
   ]
  },
  {
   "cell_type": "code",
   "execution_count": null,
   "id": "cb5140ff-165e-40cc-a57e-aa237c976b9d",
   "metadata": {},
   "outputs": [],
   "source": [
    "from torch import einsum"
   ]
  },
  {
   "cell_type": "code",
   "execution_count": null,
   "id": "964279e1-c493-4d28-bf07-6d670bc9bfb8",
   "metadata": {},
   "outputs": [],
   "source": [
    "einsum('ij -> ji', a)"
   ]
  },
  {
   "cell_type": "code",
   "execution_count": null,
   "id": "064920db-d65b-4914-a965-0ab24d686397",
   "metadata": {},
   "outputs": [],
   "source": [
    "kl divergence, pixelwise loos"
   ]
  },
  {
   "cell_type": "code",
   "execution_count": null,
   "id": "1de4d901-2120-469c-97e9-ace3b7e4de39",
   "metadata": {},
   "outputs": [],
   "source": [
    "d_model, n_heads"
   ]
  },
  {
   "cell_type": "code",
   "execution_count": null,
   "id": "56db6322-22d8-4103-8813-3bb48dbf5c59",
   "metadata": {},
   "outputs": [],
   "source": [
    "x[0][0][1]"
   ]
  },
  {
   "cell_type": "code",
   "execution_count": null,
   "id": "54a820e5-cecd-448e-89f1-ff21d4d5fe79",
   "metadata": {},
   "outputs": [],
   "source": []
  }
 ],
 "metadata": {
  "kernelspec": {
   "display_name": "Python 3 (ipykernel)",
   "language": "python",
   "name": "python3"
  }
 },
 "nbformat": 4,
 "nbformat_minor": 5
}
