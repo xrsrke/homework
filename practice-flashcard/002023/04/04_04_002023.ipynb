{
 "cells": [
  {
   "cell_type": "markdown",
   "id": "b5d72dd4-1849-4b49-921c-1b70f55b94e8",
   "metadata": {},
   "source": [
    "### P"
   ]
  },
  {
   "cell_type": "code",
   "execution_count": null,
   "id": "6bc80a94-b9e8-441c-a750-1758732a8bcc",
   "metadata": {},
   "outputs": [],
   "source": [
    "import torch\n",
    "from torch import nn\n",
    "import torch.nn.functional as F"
   ]
  },
  {
   "cell_type": "code",
   "execution_count": null,
   "id": "7946ffb3-0c25-4938-9ea5-9a2aaf64e474",
   "metadata": {},
   "outputs": [],
   "source": [
    "import ray"
   ]
  },
  {
   "cell_type": "code",
   "execution_count": null,
   "id": "d7dea017-7b06-4748-a670-f1befd668a07",
   "metadata": {},
   "outputs": [],
   "source": [
    "from ray.rllib.algorithms.ppo import PPOConfig"
   ]
  },
  {
   "cell_type": "code",
   "execution_count": null,
   "id": "aae12810-b37b-4b53-9853-e5bc85857210",
   "metadata": {},
   "outputs": [],
   "source": [
    "model = PPOConfig().environment(env_name).framework"
   ]
  },
  {
   "cell_type": "code",
   "execution_count": null,
   "id": "91efb571-4bd6-49f2-88a7-0c912672d293",
   "metadata": {},
   "outputs": [],
   "source": [
    "from ray import tune"
   ]
  },
  {
   "cell_type": "code",
   "execution_count": null,
   "id": "6bfe5ee2-4c7d-47c5-b8e5-20ef59f1d602",
   "metadata": {},
   "outputs": [],
   "source": [
    "search_space = {\n",
    "    \"lr\": tune.uniform(0, 1),\n",
    "    \"discount_factor\": tune.uniform(0, 1)\n",
    "}"
   ]
  },
  {
   "cell_type": "code",
   "execution_count": null,
   "id": "e0c6a029-f8db-4097-91a5-ebc40e9186b9",
   "metadata": {},
   "outputs": [],
   "source": [
    "new_ds = ds.map_batch(lambda x: np.square(x).tolist())"
   ]
  },
  {
   "cell_type": "code",
   "execution_count": null,
   "id": "5e733bff-d46f-4e20-9081-39659fe4986b",
   "metadata": {},
   "outputs": [],
   "source": [
    "from ray.rllib.algorithms.ppo import PPOConfig"
   ]
  },
  {
   "cell_type": "code",
   "execution_count": null,
   "id": "cf1ea6bf-1a30-4ed9-bec6-bdb83ca8e6e4",
   "metadata": {},
   "outputs": [
    {
     "name": "stderr",
     "output_type": "stream",
     "text": [
      "2023-04-04 06:00:06,945\tINFO worker.py:1553 -- Started a local Ray instance.\n",
      "\u001b[2m\u001b[36m(RolloutWorker pid=2339)\u001b[0m 2023-04-04 06:00:12,665\tWARNING env.py:166 -- Your env reset() method appears to take 'seed' or 'return_info' arguments. Note that these are not yet supported in RLlib. Seeding will take place using 'env.seed()' and the info dict will not be returned from reset.\n",
      "2023-04-04 06:00:12,866\tWARNING util.py:67 -- Install gputil for GPU system monitoring.\n"
     ]
    }
   ],
   "source": [
    "model = PPOConfig().environment(\"CartPole-v1\").framework(\"torch\").build()"
   ]
  },
  {
   "cell_type": "code",
   "execution_count": null,
   "id": "b15a9290-764d-4024-b21b-31631f498b8a",
   "metadata": {},
   "outputs": [],
   "source": [
    "model.compute_single_action()"
   ]
  },
  {
   "cell_type": "code",
   "execution_count": null,
   "id": "6890b5b7-5039-4196-914c-138ceda3c3bb",
   "metadata": {},
   "outputs": [],
   "source": [
    "tune.run().get_best_result(score=\"loss\", mode=\"min\")"
   ]
  },
  {
   "cell_type": "code",
   "execution_count": null,
   "id": "45862aab-9c60-4455-91b2-4e618bb89911",
   "metadata": {},
   "outputs": [],
   "source": [
    "retina > optic nerve > thalamus > visual cortex"
   ]
  },
  {
   "cell_type": "code",
   "execution_count": null,
   "id": "3e56685c-3c29-4584-abca-243792228012",
   "metadata": {},
   "outputs": [],
   "source": [
    "from torch.autograd import Function"
   ]
  },
  {
   "cell_type": "code",
   "execution_count": null,
   "id": "a524574a-2aff-4e88-8985-83fd312b1bcb",
   "metadata": {},
   "outputs": [],
   "source": [
    "class MultipleConstant(Function):\n",
    "    @staticmethod\n",
    "    def forward(ctx, input):\n",
    "        return input\n",
    "    \n",
    "    @staticmethod\n",
    "    def backward(ctx, grad):\n",
    "        return grad + 1"
   ]
  },
  {
   "cell_type": "code",
   "execution_count": null,
   "id": "5cfc25b8-45be-49df-8c0e-fc800d0ce9b9",
   "metadata": {},
   "outputs": [],
   "source": [
    "import jax"
   ]
  },
  {
   "cell_type": "code",
   "execution_count": null,
   "id": "fec72553-c7ff-49fd-b8b1-aec27b17b5e8",
   "metadata": {},
   "outputs": [],
   "source": [
    "vmapped_multiply = jax.vmap(mul)"
   ]
  },
  {
   "cell_type": "code",
   "execution_count": null,
   "id": "903af984-3ab1-4f75-91de-2e7ddf89d6cc",
   "metadata": {},
   "outputs": [],
   "source": [
    "from pfrl.q_functions import DiscreteActionValueHead"
   ]
  },
  {
   "cell_type": "code",
   "execution_count": null,
   "id": "a1ffb979-7a25-43e8-a829-fd97f3b2a7a4",
   "metadata": {},
   "outputs": [],
   "source": [
    "net = nn.Sequential(\n",
    "    DiscreteActionValueHead()\n",
    ")"
   ]
  },
  {
   "cell_type": "code",
   "execution_count": null,
   "id": "bf8561bd-d988-4688-b3ad-b72e7cbb3674",
   "metadata": {},
   "outputs": [],
   "source": [
    "from jax import grad"
   ]
  },
  {
   "cell_type": "code",
   "execution_count": null,
   "id": "122349e4-6134-463c-9df1-7d86ae41b5b6",
   "metadata": {},
   "outputs": [],
   "source": [
    "grad_loss = grad(loss)"
   ]
  },
  {
   "cell_type": "code",
   "execution_count": null,
   "id": "1d4fa6a8-e90c-4db9-bbf8-24b09014115b",
   "metadata": {},
   "outputs": [],
   "source": [
    "from langchain.embeddings import OpenAIEmbeddings"
   ]
  },
  {
   "cell_type": "code",
   "execution_count": null,
   "id": "efc897e4-187c-463e-816b-d0321fa947a6",
   "metadata": {},
   "outputs": [],
   "source": [
    "def to_uppercase(x):\n",
    "    return {\n",
    "        \"summary\": x[\"summary\"].upper()\n",
    "    }"
   ]
  },
  {
   "cell_type": "code",
   "execution_count": null,
   "id": "7caaf9e6-1fd0-4cf6-92dc-5b2b20f5ca9e",
   "metadata": {},
   "outputs": [],
   "source": [
    "new_ds = ds.map(to_uppercase)"
   ]
  },
  {
   "cell_type": "code",
   "execution_count": null,
   "id": "e5f31b57-da11-4f02-ad15-31f6c53fc569",
   "metadata": {},
   "outputs": [],
   "source": [
    "from jax import vmap"
   ]
  },
  {
   "cell_type": "code",
   "execution_count": null,
   "id": "472225a1-e3c9-4cf7-b666-f52531bef7e7",
   "metadata": {},
   "outputs": [],
   "source": [
    "vmapped_func = vmap(func)"
   ]
  },
  {
   "cell_type": "code",
   "execution_count": null,
   "id": "eefc29b3-09a3-401b-9a58-30c7bbd11b79",
   "metadata": {},
   "outputs": [],
   "source": [
    "synapse"
   ]
  },
  {
   "cell_type": "code",
   "execution_count": null,
   "id": "eeae7323-66fd-4588-ad92-4b0392bc73fa",
   "metadata": {},
   "outputs": [],
   "source": []
  }
 ],
 "metadata": {
  "kernelspec": {
   "display_name": "Python 3 (ipykernel)",
   "language": "python",
   "name": "python3"
  }
 },
 "nbformat": 4,
 "nbformat_minor": 5
}
