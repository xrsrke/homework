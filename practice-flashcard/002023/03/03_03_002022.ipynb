{
 "cells": [
  {
   "cell_type": "markdown",
   "id": "eb13b665-d0d9-4089-9406-17431790534f",
   "metadata": {},
   "source": [
    "### AI Science"
   ]
  },
  {
   "cell_type": "code",
   "execution_count": null,
   "id": "458c440a-8523-4d75-a52a-a2884f96e4dc",
   "metadata": {},
   "outputs": [],
   "source": [
    "two uncertainty principles, quantization of angular momentum, action"
   ]
  },
  {
   "cell_type": "code",
   "execution_count": null,
   "id": "655b9adc-2d15-4297-a8e0-41a6dfc4f6d8",
   "metadata": {},
   "outputs": [],
   "source": [
    "import sympy as smp"
   ]
  },
  {
   "cell_type": "code",
   "execution_count": null,
   "id": "a922646c-d95d-4fde-a3b5-68fd1a4e65ba",
   "metadata": {},
   "outputs": [],
   "source": [
    "import sympy.physics.units as u"
   ]
  },
  {
   "cell_type": "code",
   "execution_count": null,
   "id": "d9b56b2f-10e4-4f21-809b-88261f227021",
   "metadata": {},
   "outputs": [],
   "source": [
    "CCl4 ="
   ]
  },
  {
   "cell_type": "markdown",
   "id": "7cf51840-08d7-4623-a32f-23f787593b84",
   "metadata": {},
   "source": [
    "### Software"
   ]
  },
  {
   "cell_type": "code",
   "execution_count": null,
   "id": "8ede0f8b-ad40-4572-accb-173204123658",
   "metadata": {},
   "outputs": [],
   "source": [
    "class Vehicle:\n",
    "    def say_hello(self): return \"Hello\"\n",
    "\n",
    "    def func(self):\n",
    "        new = self.__class__()\n",
    "        return new"
   ]
  },
  {
   "cell_type": "code",
   "execution_count": null,
   "id": "bf75c99a-82ca-4179-b84c-00897f1b2db3",
   "metadata": {},
   "outputs": [],
   "source": [
    "v = Vehicle()"
   ]
  },
  {
   "cell_type": "code",
   "execution_count": null,
   "id": "e7bf075e-7195-41e4-9dde-b188748303fe",
   "metadata": {},
   "outputs": [
    {
     "data": {
      "text/plain": [
       "<__main__.Vehicle>"
      ]
     },
     "execution_count": null,
     "metadata": {},
     "output_type": "execute_result"
    }
   ],
   "source": [
    "v.func()"
   ]
  },
  {
   "cell_type": "code",
   "execution_count": null,
   "id": "dc91801b-6052-4172-b68f-951a5422c713",
   "metadata": {},
   "outputs": [],
   "source": [
    "a = 5"
   ]
  },
  {
   "cell_type": "code",
   "execution_count": null,
   "id": "a76425ea-1dd6-49b3-a19f-d8cea387396b",
   "metadata": {},
   "outputs": [
    {
     "name": "stdout",
     "output_type": "stream",
     "text": [
      "a<10\n"
     ]
    }
   ],
   "source": [
    "res = print(\"a<10\") if a < 10 else print(\"a>=10\")"
   ]
  },
  {
   "cell_type": "code",
   "execution_count": null,
   "id": "90b08b8b-e933-4617-8f09-3d4682738dc7",
   "metadata": {},
   "outputs": [],
   "source": [
    "res"
   ]
  },
  {
   "cell_type": "code",
   "execution_count": null,
   "id": "5773fbf7-0172-4202-b90e-1438a8d26451",
   "metadata": {},
   "outputs": [],
   "source": [
    "def performance(func):\n",
    "    def wrapper():\n",
    "        t1 = time()\n",
    "        result = func()\n",
    "        t2 = time()\n",
    "        return result\n",
    "\n",
    "    return wrapper"
   ]
  },
  {
   "cell_type": "code",
   "execution_count": null,
   "id": "435e3e63-d0a4-4525-bf58-16588dba0cfb",
   "metadata": {},
   "outputs": [],
   "source": [
    "class Vehicle:\n",
    "    def func(self):\n",
    "        return self.__class__()"
   ]
  },
  {
   "cell_type": "code",
   "execution_count": null,
   "id": "9644437e-7b78-4281-8d7c-3d1dfcb3f252",
   "metadata": {},
   "outputs": [],
   "source": [
    "def performance(func):\n",
    "    def wrapper():\n",
    "        result = func()\n",
    "        return result\n",
    "    return wrapper"
   ]
  },
  {
   "cell_type": "markdown",
   "id": "737ad2ad-c3a0-44cb-a14e-a98bcef0d151",
   "metadata": {},
   "source": [
    "### AI"
   ]
  },
  {
   "cell_type": "code",
   "execution_count": null,
   "id": "c452810a-37c3-4bb4-b55a-4eb53213e9a1",
   "metadata": {},
   "outputs": [],
   "source": [
    "import torch\n",
    "import torch.nn.functional as F\n",
    "from torch import nn"
   ]
  },
  {
   "cell_type": "code",
   "execution_count": null,
   "id": "763ae19c-0756-45cc-b195-eaf367cfcfa5",
   "metadata": {},
   "outputs": [],
   "source": [
    "have "
   ]
  },
  {
   "cell_type": "code",
   "execution_count": null,
   "id": "883eac23-8c5f-4f54-8e3d-58eeb2b72b8d",
   "metadata": {},
   "outputs": [],
   "source": [
    "have been v_ing"
   ]
  },
  {
   "cell_type": "code",
   "execution_count": null,
   "id": "58dd04e0-07c3-4db1-9e02-b406d3df5e6f",
   "metadata": {},
   "outputs": [],
   "source": [
    "from einops import rearrange"
   ]
  },
  {
   "cell_type": "code",
   "execution_count": null,
   "id": "18053d84-2549-4817-af83-06be62b06d1c",
   "metadata": {},
   "outputs": [],
   "source": [
    "result = rearrange(images, \"b c (h w) -> b c h w\")"
   ]
  },
  {
   "cell_type": "code",
   "execution_count": null,
   "id": "230dffff-2455-4e92-a856-9349380cc33c",
   "metadata": {},
   "outputs": [],
   "source": [
    "torch.from_numpy(arr)"
   ]
  },
  {
   "cell_type": "code",
   "execution_count": null,
   "id": "a8ef6f28-b3c2-4c0c-b6cd-4d54d8e66da0",
   "metadata": {},
   "outputs": [],
   "source": [
    "def compute_ratio(current, prev):\n",
    "    return (current - prev).exp()"
   ]
  },
  {
   "cell_type": "code",
   "execution_count": null,
   "id": "cbf25796-4327-462a-9866-6f910760c5ca",
   "metadata": {},
   "outputs": [],
   "source": [
    "torch.gather(x, dim=1, index=indices)"
   ]
  },
  {
   "cell_type": "code",
   "execution_count": null,
   "id": "f5fa6e8a-8e5e-4815-bfcc-6aa906db5e9f",
   "metadata": {},
   "outputs": [],
   "source": [
    "loss_func = nn.KLDivLoss()"
   ]
  },
  {
   "cell_type": "code",
   "execution_count": null,
   "id": "4f4ac9fc-c71c-4e74-a61e-85424bdbe29f",
   "metadata": {},
   "outputs": [],
   "source": [
    "loss = loss_func(\n",
    "    input=F.log_softmax(student_logits),\n",
    "    target=F.softmax(teacher_logits)\n",
    ")"
   ]
  },
  {
   "cell_type": "code",
   "execution_count": null,
   "id": "a457518f-ea92-4c60-a203-87556664851d",
   "metadata": {},
   "outputs": [],
   "source": [
    "target_text = torch.matmul(text_embedding, text_embedding.T)\n",
    "target_image = torch.matmul(image_embedding, image_embedding.T)"
   ]
  },
  {
   "cell_type": "code",
   "execution_count": null,
   "id": "6430356b-0e73-4670-89c3-d2b3d01236ed",
   "metadata": {},
   "outputs": [],
   "source": [
    "targets = F.softmax(\n",
    "    (target_text + target_image) / temperature*2, dim=-1\n",
    ")"
   ]
  },
  {
   "cell_type": "code",
   "execution_count": null,
   "id": "e53998c4-61a3-4978-b863-233c6505c1ad",
   "metadata": {},
   "outputs": [],
   "source": []
  },
  {
   "cell_type": "markdown",
   "id": "43127415-5527-43ca-92cc-8df4b7e5fc3f",
   "metadata": {},
   "source": [
    "In bra-ket notation, the superposition of two states $|\\psi_1\\rangle$ and $|\\psi_2\\rangle$ with coefficients $c_1$ and $c_2$ respectively is written as:\n",
    "\n",
    "$$|\\psi\\rangle = c_1 |\\psi_1\\rangle + c_2 |\\psi_2\\rangle$$\n",
    "\n",
    "This means that the state $|\\psi\\rangle$ is a linear combination of the states $|\\psi_1\\rangle$ and $|\\psi_2\\rangle$, where $c_1$ and $c_2$ are complex numbers known as probability amplitudes that determine the probability of finding the system in the corresponding state upon measurement."
   ]
  },
  {
   "cell_type": "code",
   "execution_count": null,
   "id": "b7159fad-a4e5-4287-bd96-d6484c33613b",
   "metadata": {},
   "outputs": [],
   "source": []
  },
  {
   "cell_type": "code",
   "execution_count": null,
   "id": "ded5cfca-78fa-4257-a36e-05a437e67a36",
   "metadata": {},
   "outputs": [],
   "source": []
  },
  {
   "cell_type": "markdown",
   "id": "bc013e25-97ce-48bd-a330-e1aa3a12b777",
   "metadata": {},
   "source": [
    "The passage describes a method for filtering API (Application Programming Interface) calls using a sequence of weights and a model $M$. Each API call $c_i$ in a sequence $\\mathbf{x}$ is associated with a response $r_i$. The goal is to evaluate the likelihood of the remaining tokens in the sequence, given the API call and response.\n",
    "\n",
    "A weighted cross entropy loss $L_i(\\mathbf{z})$ is computed for each prefix $\\mathbf{z}$ of the remaining tokens in the sequence. The weight $w_{j-i}$ is a function of the position $j-i$ of the token $x_j$ in the sequence relative to the API call. The loss is a measure of how well the model $M$ predicts the remaining tokens given the prefix $\\mathbf{z}$.\n",
    "\n",
    "Two instantiations of the loss are compared: $L_i^{+}$ and $L_i^{-}$. $L_i^{+}$ is the weighted loss over all remaining tokens in the sequence given the API call and its response as a prefix. $L_i^{-}$ is the minimum of the weighted loss over all remaining tokens in the sequence given an empty prefix and the weighted loss given the API call with a response replaced by an empty sequence. In other words, $L_i^{-}$ compares the performance of the model given the API call and response with its performance when no API call is made or when a \"dummy\" response is returned.\n",
    "\n",
    "By comparing $L_i^{+}$ and $L_i^{-}$, the method can evaluate the impact of each API call on the model's ability to predict the remaining tokens. If $L_i^{+}$ is significantly higher than $L_i^{-}$, the API call is considered to be relevant to the prediction task, and is retained. If $L_i^{+}$ is similar to $L_i^{-}$, the API call is considered to be irrelevant to the task, and is filtered out.\n",
    "\n",
    "\n",
    "\n",
    "\n"
   ]
  },
  {
   "cell_type": "code",
   "execution_count": null,
   "id": "ddd07eb5-05d9-45ec-89bd-2f605618ee24",
   "metadata": {},
   "outputs": [],
   "source": []
  },
  {
   "cell_type": "code",
   "execution_count": null,
   "id": "8fdea603-a670-461b-990a-75b00e0a20df",
   "metadata": {},
   "outputs": [],
   "source": []
  },
  {
   "cell_type": "markdown",
   "id": "ac79e185-82f2-47ed-876d-99ddc8ea01e6",
   "metadata": {},
   "source": [
    "The notation $\\log p_M\\left(x_j \\mid \\mathbf{z}, x_{1: j-1}\\right)$ represents the logarithm of the conditional probability of a token $x_j$ given a context of previous tokens $x_{1: j-1}$ and an additional input $\\mathbf{z}$, where $M$ is a model that can compute this probability. Specifically, $p_M\\left(x_j \\mid \\mathbf{z}, x_{1: j-1}\\right)$ represents the probability of the token $x_j$ given the input $\\mathbf{z}$ and the previous tokens $x_{1: j-1}$, as computed by the model $M$. The logarithm is taken to transform the probability into a more convenient scale for computation and optimization. The weighted cross-entropy loss $L_i(\\mathbf{z})$ is then computed by summing over the tokens $x_i$ to $x_n$, with each term weighted by a corresponding weight $w_{j-i}$."
   ]
  },
  {
   "cell_type": "code",
   "execution_count": null,
   "id": "05e924d4-e9bc-4ad6-bef6-06d8336557ed",
   "metadata": {},
   "outputs": [],
   "source": []
  }
 ],
 "metadata": {
  "kernelspec": {
   "display_name": "Python 3 (ipykernel)",
   "language": "python",
   "name": "python3"
  }
 },
 "nbformat": 4,
 "nbformat_minor": 5
}
