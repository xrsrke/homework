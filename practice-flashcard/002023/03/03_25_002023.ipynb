{
 "cells": [
  {
   "cell_type": "markdown",
   "id": "f82f4d2b-9f39-4ee7-a3a1-f334421f32a9",
   "metadata": {},
   "source": [
    "### Science"
   ]
  },
  {
   "cell_type": "markdown",
   "id": "f10c7623-0c00-4759-8b1f-8859e35ef5b8",
   "metadata": {},
   "source": [
    "### Python"
   ]
  },
  {
   "cell_type": "code",
   "execution_count": null,
   "id": "a0bd02f9-f2d9-4f63-b3cc-7ed59e5877e3",
   "metadata": {},
   "outputs": [],
   "source": [
    "from typing import "
   ]
  },
  {
   "cell_type": "code",
   "execution_count": null,
   "id": "52e5d14a-0ec8-4490-b238-d802dcd801d6",
   "metadata": {},
   "outputs": [],
   "source": [
    "x: dict[str, float]"
   ]
  },
  {
   "cell_type": "code",
   "execution_count": null,
   "id": "54169659-7d2d-4b49-a1a1-c59cccebcad1",
   "metadata": {},
   "outputs": [],
   "source": [
    "__delitem__"
   ]
  },
  {
   "cell_type": "code",
   "execution_count": null,
   "id": "31b8a33e-81b3-4585-a728-74a2234f734e",
   "metadata": {},
   "outputs": [],
   "source": [
    "__mro__"
   ]
  },
  {
   "cell_type": "code",
   "execution_count": null,
   "id": "2cc082ee-2f3c-422a-a888-ac08a0b6f8b2",
   "metadata": {},
   "outputs": [],
   "source": [
    "T || R"
   ]
  },
  {
   "cell_type": "markdown",
   "id": "40cf6e2a-1090-4c55-a66a-c7918f62f56e",
   "metadata": {},
   "source": [
    "### AI"
   ]
  },
  {
   "cell_type": "code",
   "execution_count": null,
   "id": "3f2820d5-eb0b-4a9f-9631-7fed6fb51ed8",
   "metadata": {},
   "outputs": [],
   "source": [
    "import torch\n",
    "from torch import nn\n",
    "import torch.nn.functional as F"
   ]
  },
  {
   "cell_type": "code",
   "execution_count": null,
   "id": "9905b952-098b-4fc2-adea-7f07bfb7b7a9",
   "metadata": {},
   "outputs": [],
   "source": [
    "search_space = {\n",
    "    \"lr\": tune.uniform(0, 1),\n",
    "    \"discount_factor\": tune.uniform(0, 1)\n",
    "}"
   ]
  },
  {
   "cell_type": "code",
   "execution_count": null,
   "id": "b622a9e6-42fa-4348-9f4d-2c9b297c21c9",
   "metadata": {},
   "outputs": [],
   "source": [
    "action = model.compute_single_action(obs)"
   ]
  },
  {
   "cell_type": "code",
   "execution_count": null,
   "id": "9e80f089-fdf9-46ba-a3be-e6aa765a4bc0",
   "metadata": {},
   "outputs": [],
   "source": [
    "ds.repatrition(5)"
   ]
  },
  {
   "cell_type": "code",
   "execution_count": null,
   "id": "5446900f-576f-4891-b28b-850329192c3d",
   "metadata": {},
   "outputs": [],
   "source": [
    "new_ds = ds.map_batch(lambda x: np.square(x).to_list())"
   ]
  },
  {
   "cell_type": "code",
   "execution_count": null,
   "id": "85f39f66-04d3-433b-b77d-b8113e69a9ba",
   "metadata": {},
   "outputs": [],
   "source": [
    "from ray.rllib.algorithms.ppo import PPOConfig"
   ]
  },
  {
   "cell_type": "code",
   "execution_count": null,
   "id": "91c2efe5-0a13-428c-8e07-6f4e18c2d83c",
   "metadata": {},
   "outputs": [
    {
     "name": "stderr",
     "output_type": "stream",
     "text": [
      "2023-03-25 04:48:21,546\tINFO worker.py:1553 -- Started a local Ray instance.\n",
      "\u001b[2m\u001b[36m(RolloutWorker pid=2244)\u001b[0m 2023-03-25 04:48:25,439\tWARNING env.py:166 -- Your env reset() method appears to take 'seed' or 'return_info' arguments. Note that these are not yet supported in RLlib. Seeding will take place using 'env.seed()' and the info dict will not be returned from reset.\n",
      "2023-03-25 04:48:25,606\tWARNING util.py:67 -- Install gputil for GPU system monitoring.\n"
     ]
    }
   ],
   "source": [
    "model = PPOConfig().framework(\"torch\").environment(\"CartPole-v1\").build()"
   ]
  },
  {
   "cell_type": "code",
   "execution_count": null,
   "id": "aa63fce0-b5e2-4fa7-9453-d07d65287005",
   "metadata": {},
   "outputs": [],
   "source": [
    "from transformers import AutoTokenizer"
   ]
  },
  {
   "cell_type": "code",
   "execution_count": null,
   "id": "c8546e6d-51c1-4f62-a789-761cae85edd1",
   "metadata": {},
   "outputs": [],
   "source": [
    "from einops import rearrange"
   ]
  },
  {
   "cell_type": "code",
   "execution_count": null,
   "id": "3cf4c476-3206-4efb-8a1c-bd4f1b1d9e90",
   "metadata": {},
   "outputs": [],
   "source": [
    "def compute_loss(model, xb, yb):\n",
    "    logits = model(xb)\n",
    "    \n",
    "    logits = rearrange(logits, \"b s n -> (b s) n\")\n",
    "    yb = rearrange(yb, \"b s -> (b s)\")\n",
    "    \n",
    "    loss = F.cross_entropy(input=logits, target=yb)\n",
    "    \n",
    "    return loss"
   ]
  },
  {
   "cell_type": "code",
   "execution_count": null,
   "id": "1e86f20d-2376-47ac-98c9-f9cc9e44eedc",
   "metadata": {},
   "outputs": [],
   "source": [
    "from pfrl.q_functions import DiscreteActionValueHead"
   ]
  },
  {
   "cell_type": "code",
   "execution_count": null,
   "id": "36495ac0-7b69-4763-abe1-431a8e1e39e5",
   "metadata": {},
   "outputs": [],
   "source": [
    "from langchain.agents import AgentExecutor"
   ]
  },
  {
   "cell_type": "code",
   "execution_count": null,
   "id": "e8f3adb6-5629-4b48-9fe6-192afe3f1bb8",
   "metadata": {},
   "outputs": [],
   "source": [
    "agent_executor = AgentExecutor(agent=agent, tools=tools)"
   ]
  },
  {
   "cell_type": "code",
   "execution_count": null,
   "id": "4294c764-4307-4e33-baa3-115b638c62e7",
   "metadata": {},
   "outputs": [],
   "source": [
    "agent_executor.run()"
   ]
  },
  {
   "cell_type": "code",
   "execution_count": null,
   "id": "dc766659-e29c-46e6-9b5d-a760b0372114",
   "metadata": {},
   "outputs": [],
   "source": [
    "split, trunca, sliding"
   ]
  },
  {
   "cell_type": "code",
   "execution_count": null,
   "id": "03eed9b4-ea5a-4f4c-b433-b9c6cba1a9cb",
   "metadata": {},
   "outputs": [],
   "source": [
    "from langchain.embeddings import OpenAIEmbeddings"
   ]
  },
  {
   "cell_type": "code",
   "execution_count": null,
   "id": "fff839a1-63db-4192-a974-06c8224f9f75",
   "metadata": {},
   "outputs": [],
   "source": [
    "from langchain.agents import ZeroShotAgent"
   ]
  },
  {
   "cell_type": "code",
   "execution_count": null,
   "id": "1232e56b-38f8-4ebc-bcc4-6b2fadf70d49",
   "metadata": {},
   "outputs": [],
   "source": [
    "ZeroShotAgent.create_prompt"
   ]
  }
 ],
 "metadata": {
  "kernelspec": {
   "display_name": "Python 3 (ipykernel)",
   "language": "python",
   "name": "python3"
  }
 },
 "nbformat": 4,
 "nbformat_minor": 5
}
