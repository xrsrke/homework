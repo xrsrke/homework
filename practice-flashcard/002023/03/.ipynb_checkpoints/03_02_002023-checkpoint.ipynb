{
 "cells": [
  {
   "cell_type": "markdown",
   "id": "ba83e042-c737-4a4f-8c43-cb07fa1083a1",
   "metadata": {},
   "source": [
    "### Science"
   ]
  },
  {
   "cell_type": "code",
   "execution_count": null,
   "id": "a25a2f59-d6ef-4c18-b197-0d5350aa60ec",
   "metadata": {},
   "outputs": [],
   "source": [
    "import matplotlib.pyplot as plt"
   ]
  },
  {
   "cell_type": "code",
   "execution_count": null,
   "id": "a94f1f8c-6dab-4eb7-a94d-00879798ae92",
   "metadata": {},
   "outputs": [],
   "source": [
    "m, h, E, psi, dpsi = 1, 1, 5, 0, 1"
   ]
  },
  {
   "cell_type": "code",
   "execution_count": null,
   "id": "35bb9ab8-ff09-4283-80d2-ea076b617f8c",
   "metadata": {},
   "outputs": [],
   "source": [
    "a = 1"
   ]
  },
  {
   "cell_type": "code",
   "execution_count": null,
   "id": "ade2d5eb-4efc-4449-b4f6-78f99812af15",
   "metadata": {},
   "outputs": [],
   "source": [
    "x = 0"
   ]
  },
  {
   "cell_type": "code",
   "execution_count": null,
   "id": "61a71671-a390-4f3d-93e6-79119f85b317",
   "metadata": {},
   "outputs": [],
   "source": [
    "dx = a / 1000"
   ]
  },
  {
   "cell_type": "code",
   "execution_count": null,
   "id": "2fd64f10-8497-4a46-9c12-fc8ef5fc1f73",
   "metadata": {},
   "outputs": [],
   "source": [
    "V = 0"
   ]
  },
  {
   "cell_type": "code",
   "execution_count": null,
   "id": "25050885-994b-49c8-bdc2-62b807991849",
   "metadata": {},
   "outputs": [],
   "source": [
    "x_list = []\n",
    "psi_list = []"
   ]
  },
  {
   "cell_type": "code",
   "execution_count": null,
   "id": "429669f1-41df-4e52-b5ec-4b9715bb8b23",
   "metadata": {},
   "outputs": [],
   "source": [
    "while x <= a:\n",
    "    ddpsi = (2*m/h**2)*(V-E)*psi\n",
    "    dpsi = dpsi + dx*ddpsi\n",
    "    psi = psi + dx*dpsi\n",
    "    x += dx\n",
    "    \n",
    "    x_list.append(x)\n",
    "    psi_list.append(psi)"
   ]
  },
  {
   "cell_type": "code",
   "execution_count": null,
   "id": "905a3c91-08be-4ff4-a92a-084f8d77c16b",
   "metadata": {},
   "outputs": [
    {
     "data": {
      "text/plain": [
       "[<matplotlib.lines.Line2D>]"
      ]
     },
     "execution_count": null,
     "metadata": {},
     "output_type": "execute_result"
    },
    {
     "data": {
      "image/png": "[encoded data removed]",
      "text/plain": [
       "<Figure size 640x480 with 1 Axes>"
      ]
     },
     "metadata": {},
     "output_type": "display_data"
    }
   ],
   "source": [
    "plt.plot(x_list, psi_list)"
   ]
  },
  {
   "cell_type": "code",
   "execution_count": null,
   "id": "f92a2b58-3de4-4367-84fb-510f24620c6c",
   "metadata": {},
   "outputs": [],
   "source": [
    "molecular, empir"
   ]
  },
  {
   "cell_type": "code",
   "execution_count": null,
   "id": "a678c293-969a-4f66-a1ff-548fd9a9360b",
   "metadata": {},
   "outputs": [],
   "source": [
    "#!/bin/bash"
   ]
  },
  {
   "cell_type": "code",
   "execution_count": null,
   "id": "9cdba48c-7808-464d-a59c-c1b88469d50e",
   "metadata": {},
   "outputs": [],
   "source": [
    "from typing import overload, List"
   ]
  },
  {
   "cell_type": "code",
   "execution_count": null,
   "id": "b8aa8ac6-ee3f-4614-80b5-8b26d7002042",
   "metadata": {},
   "outputs": [],
   "source": [
    "@overload\n",
    "def getitem(x: str) -> str:\n",
    "    pass"
   ]
  },
  {
   "cell_type": "code",
   "execution_count": null,
   "id": "c1b83f73-5a2c-489a-af6f-86ef3916ec7c",
   "metadata": {},
   "outputs": [],
   "source": [
    "@overload\n",
    "def getitem(x: List[int]) -> int:\n",
    "    pass"
   ]
  },
  {
   "cell_type": "code",
   "execution_count": null,
   "id": "78e1fff3-8da6-4f9f-9a69-e2b29925a3d2",
   "metadata": {},
   "outputs": [],
   "source": [
    "from typing import TypedDict"
   ]
  },
  {
   "cell_type": "code",
   "execution_count": null,
   "id": "b289980f-9803-4c5d-9ff5-d9ad52b3e0ed",
   "metadata": {},
   "outputs": [],
   "source": [
    "class NutritionInformation(TypedDict):\n",
    "    value: int\n",
    "    unit: str"
   ]
  },
  {
   "cell_type": "code",
   "execution_count": null,
   "id": "5e0257b1-b7ad-4469-8526-91fde155d672",
   "metadata": {},
   "outputs": [],
   "source": [
    "class RecipeNutritionInformation(TypedDict):\n",
    "    recipes_used: int\n",
    "    calories: NutritionInformation\n",
    "    carbs: NutritionInformation"
   ]
  },
  {
   "cell_type": "markdown",
   "id": "e6137e6d-addc-463c-b261-c793086329a0",
   "metadata": {},
   "source": [
    "### AI"
   ]
  },
  {
   "cell_type": "code",
   "execution_count": null,
   "id": "24d1a159-7588-4697-8832-512fbd855662",
   "metadata": {},
   "outputs": [],
   "source": [
    "import torch\n",
    "from torch import nn\n",
    "import torch.nn.functional as F"
   ]
  },
  {
   "cell_type": "code",
   "execution_count": null,
   "id": "98d30197-4e92-464f-86bf-9b2b65ee55c8",
   "metadata": {},
   "outputs": [
    {
     "data": {
      "text/plain": [
       "tensor([8, 1, 2, 6, 5, 7, 4, 0, 3])"
      ]
     },
     "execution_count": null,
     "metadata": {},
     "output_type": "execute_result"
    }
   ],
   "source": [
    "torch.randperm(9)"
   ]
  },
  {
   "cell_type": "code",
   "execution_count": null,
   "id": "a869716d-f4de-4753-8786-3ad51edb097e",
   "metadata": {},
   "outputs": [],
   "source": [
    "def compute_ratio(current, prev):\n",
    "    return current / prev"
   ]
  },
  {
   "cell_type": "code",
   "execution_count": null,
   "id": "118d882f-116b-43ec-8da5-f4aa9aad9bfc",
   "metadata": {},
   "outputs": [],
   "source": [
    "torch.amax(x, dim=1)"
   ]
  },
  {
   "cell_type": "code",
   "execution_count": null,
   "id": "2b6a5fba-978c-42a7-b0fa-1f53ae97b6a7",
   "metadata": {},
   "outputs": [],
   "source": [
    "l1.register_forward_pass(add_visualize)"
   ]
  },
  {
   "cell_type": "code",
   "execution_count": null,
   "id": "40563a28-f21c-4988-b7c2-6d0fe361144d",
   "metadata": {},
   "outputs": [],
   "source": [
    "nn.Parameter()"
   ]
  },
  {
   "cell_type": "code",
   "execution_count": null,
   "id": "561b65f3-f022-4fb9-abde-b06ba641499e",
   "metadata": {},
   "outputs": [],
   "source": [
    "from einops import repeat"
   ]
  },
  {
   "cell_type": "code",
   "execution_count": null,
   "id": "662f473e-725f-4a78-9bd9-8bbf2e9dba22",
   "metadata": {},
   "outputs": [],
   "source": [
    "output = repeat(x, \"h w -> h w new_axis\", new_axis=2)"
   ]
  },
  {
   "cell_type": "code",
   "execution_count": null,
   "id": "f6633950-a8d8-4457-b536-cef7469e9472",
   "metadata": {},
   "outputs": [],
   "source": [
    "tokenizer.decode(input_ids)"
   ]
  },
  {
   "cell_type": "code",
   "execution_count": null,
   "id": "65ede434-0041-4963-8ef2-fbf7e81ca206",
   "metadata": {},
   "outputs": [],
   "source": [
    "from transformers import Trainer"
   ]
  },
  {
   "cell_type": "code",
   "execution_count": null,
   "id": "2f383100-cb9e-4674-9e7e-b224aab037a9",
   "metadata": {},
   "outputs": [],
   "source": [
    "class DistillationTrainer(Trainer):\n",
    "    def __init__(self, teacher_model):\n",
    "        super().__init__()\n",
    "        self.teacher_model = teacher_model\n",
    "        self.loss_func = nn.CrossEntropyLoss()\n",
    "    \n",
    "    def forward(self, model, inputs, return_outputs=False):\n",
    "        student_output = model(**inputs)\n",
    "        student_logits = student_output.logits\n",
    "        loss_ce = student_output.loss\n",
    "        \n",
    "        with torch.no_grad():\n",
    "            teacher_logits = self.teacher_model(**inputs).logits\n",
    "        \n",
    "        temperature = self.args.temperature\n",
    "        alpha = self.args.alpha\n",
    "                \n",
    "        loss_kd = temperature**2*F.kl_div(\n",
    "            input=F.log_softmax(student_logits),\n",
    "            target=F.softmax(teacher_logits)\n",
    "        )\n",
    "        \n",
    "        loss = alpha*loss_ce + (1-alpha)*loss_kd"
   ]
  },
  {
   "cell_type": "code",
   "execution_count": null,
   "id": "df7890a5-88e9-4626-973b-3eb06ef54c94",
   "metadata": {},
   "outputs": [],
   "source": [
    "import math"
   ]
  },
  {
   "cell_type": "code",
   "execution_count": null,
   "id": "98042037-ab99-4f85-a55d-1d1a9e78da8d",
   "metadata": {},
   "outputs": [],
   "source": [
    "class SelfAttention(nn.Module):\n",
    "    def __init__(self, d_head):\n",
    "        super().__init__()\n",
    "        self.d_head = d_head\n",
    "    \n",
    "    def forward(self, q, k, v):\n",
    "        qk_matmul = torch.matmul(q, k.T)\n",
    "        scores = qk_matmul / math.sqrt(self.d_head)\n",
    "        attention_weights = F.softmax(scores, dim=-1)\n",
    "        \n",
    "        output = torch.matmul(attention_weights, v)\n",
    "        \n",
    "        return output, attention_weights"
   ]
  },
  {
   "cell_type": "code",
   "execution_count": null,
   "id": "f27bc916-b96d-46db-af2f-08df906545ef",
   "metadata": {},
   "outputs": [],
   "source": [
    "def compute_ratio(current, prev):\n",
    "    return (current - prev).exp()"
   ]
  },
  {
   "cell_type": "code",
   "execution_count": null,
   "id": "0b4df2d0-4401-460a-bd85-03f43a411909",
   "metadata": {},
   "outputs": [],
   "source": [
    "import gymnasium as gym"
   ]
  },
  {
   "cell_type": "code",
   "execution_count": null,
   "id": "37f01590-2672-4599-b190-4d54aa2a71f9",
   "metadata": {},
   "outputs": [],
   "source": [
    "envs = gym.vector.SyncVectorEnv([\n",
    "    lambda: gym.make(\"CartPole-v1\"),\n",
    "    lambda: gym.make(\"CartPole-v1\"),\n",
    "    lambda: gym.make(\"CartPole-v1\")\n",
    "])"
   ]
  },
  {
   "cell_type": "code",
   "execution_count": null,
   "id": "51d0cfea-16a7-4117-9f6a-5c0be80ff323",
   "metadata": {},
   "outputs": [],
   "source": [
    "def normalize(x):\n",
    "    return (x - x.mean())/x.std()"
   ]
  },
  {
   "cell_type": "code",
   "execution_count": null,
   "id": "666445c6-5802-49bd-834d-1c1e2b2a6e7e",
   "metadata": {},
   "outputs": [],
   "source": [
    "with torch.no_grad():\n",
    "    pass"
   ]
  },
  {
   "cell_type": "code",
   "execution_count": null,
   "id": "f319b7e9-983a-4427-95b8-b2dcae5c9f9e",
   "metadata": {},
   "outputs": [],
   "source": [
    "class LLMModel3(nn.Module):\n",
    "    def __init__(self, vocab_sz, n_hidden):\n",
    "        super().__init__()\n",
    "        self.i_h = nn.Embedding(vocab_sz, n_hidden)\n",
    "        self.h_h = nn.Linear(n_hidden, n_hidden)\n",
    "        self.h_o = nn.Linear(n_hidden, vocab_sz)\n",
    "        self.h = 0.\n",
    "    \n",
    "    def forward(self, x):\n",
    "        for i in range(3):\n",
    "            self.h = self.h + F.relu(self.i_h(x[i, :]))\n",
    "            self.h = F.relu(self.h_h(x[i, :]))\n",
    "        \n",
    "        return self.h_o(self.h)"
   ]
  }
 ],
 "metadata": {
  "kernelspec": {
   "display_name": "Python 3 (ipykernel)",
   "language": "python",
   "name": "python3"
  }
 },
 "nbformat": 4,
 "nbformat_minor": 5
}
