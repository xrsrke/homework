{
 "cells": [
  {
   "cell_type": "markdown",
   "id": "89950a73-c973-462c-bb93-70b420f6d9d9",
   "metadata": {},
   "source": [
    "### Science"
   ]
  },
  {
   "cell_type": "code",
   "execution_count": null,
   "id": "b9236d80-066c-402c-90d3-c035534e57a8",
   "metadata": {},
   "outputs": [],
   "source": [
    "conditioned response, population activity, evoke-stimulus, motor imagery"
   ]
  },
  {
   "cell_type": "markdown",
   "id": "299cb93d-814b-4229-9a2a-beb3f8fe0991",
   "metadata": {},
   "source": [
    "### Software"
   ]
  },
  {
   "cell_type": "code",
   "execution_count": null,
   "id": "60fb133c-4ed1-4b49-a0fe-b2c3712bc496",
   "metadata": {},
   "outputs": [],
   "source": [
    "from enum import Enum"
   ]
  },
  {
   "cell_type": "code",
   "execution_count": null,
   "id": "dce5ed11-f677-45fd-a2c7-e6005b206a6a",
   "metadata": {},
   "outputs": [],
   "source": [
    "class Vehicle(Enum):\n",
    "    FALCON_1 = \"Falcon 1\"\n",
    "    FALCON_9 = \"Falcon 9\""
   ]
  },
  {
   "cell_type": "code",
   "execution_count": null,
   "id": "4d8e9a6f-8f0f-473c-afb3-5b8e3212c2cc",
   "metadata": {},
   "outputs": [],
   "source": []
  },
  {
   "cell_type": "code",
   "execution_count": null,
   "id": "6afa37af-ee11-4457-aa09-f4ce8576200f",
   "metadata": {},
   "outputs": [],
   "source": [
    "class Colors(Enum):\n",
    "    RED = \"Red\"\n",
    "    ORANGE = \"Orange\"\n",
    "    BLUE = \"Blue\"\n",
    "    \n",
    "    @property\n",
    "    def is_hot(self):\n",
    "        return self in [Colors.RED, Colors.ORANGE, Colors.BLUE]"
   ]
  },
  {
   "cell_type": "code",
   "execution_count": null,
   "id": "e0fa8261-c50c-4ff8-80da-2a0e9bb3733c",
   "metadata": {},
   "outputs": [
    {
     "data": {
      "text/plain": [
       "True"
      ]
     },
     "execution_count": null,
     "metadata": {},
     "output_type": "execute_result"
    }
   ],
   "source": [
    "Colors.RED.is_hot"
   ]
  },
  {
   "cell_type": "markdown",
   "id": "83768791-c879-40f8-b04d-b2e9f91b5799",
   "metadata": {},
   "source": [
    "### AI"
   ]
  },
  {
   "cell_type": "code",
   "execution_count": null,
   "id": "6ca0805c-11c0-4248-9383-1b62d3e13921",
   "metadata": {},
   "outputs": [],
   "source": [
    "import torch\n",
    "from torch import nn\n",
    "import torch.nn.functional as F"
   ]
  },
  {
   "cell_type": "code",
   "execution_count": null,
   "id": "8c7e1508-9456-41b0-8524-ed3b2de6538d",
   "metadata": {},
   "outputs": [],
   "source": [
    "import jax "
   ]
  },
  {
   "cell_type": "code",
   "execution_count": null,
   "id": "ca3b0744-e610-4664-aff6-f29aab809f22",
   "metadata": {},
   "outputs": [],
   "source": [
    "modified_square = jax.jit(square)"
   ]
  },
  {
   "cell_type": "code",
   "execution_count": null,
   "id": "4a050acc-5421-45d2-a74a-7da230c73a0b",
   "metadata": {},
   "outputs": [],
   "source": [
    "from jax import random"
   ]
  },
  {
   "cell_type": "code",
   "execution_count": null,
   "id": "483c0020-6575-4fd6-b7fc-0ea9528308da",
   "metadata": {},
   "outputs": [],
   "source": [
    "key = random.PRNGKey(seed=42)"
   ]
  },
  {
   "cell_type": "code",
   "execution_count": null,
   "id": "6fdcc821-0a84-4900-985b-958811e8f390",
   "metadata": {},
   "outputs": [],
   "source": [
    "from jax import grad"
   ]
  },
  {
   "cell_type": "code",
   "execution_count": null,
   "id": "bc233a67-4604-4fc5-9524-afc63c6bc5aa",
   "metadata": {},
   "outputs": [],
   "source": [
    "dfdx = grad(f)\n",
    "d2fdx = grad(dfdx)\n",
    "d3fdx = grad(d2fdx)"
   ]
  },
  {
   "cell_type": "code",
   "execution_count": null,
   "id": "dee4dfb7-40e4-44e9-b437-cf4504eb6bc4",
   "metadata": {},
   "outputs": [],
   "source": [
    "from jax import numpy as jnp"
   ]
  },
  {
   "cell_type": "code",
   "execution_count": null,
   "id": "fad76736-a7b6-4c7f-b2ce-2ed8e9ba3ac7",
   "metadata": {},
   "outputs": [],
   "source": [
    "xs = jnp.array([0, 1, 2, 3, 4, 5])"
   ]
  },
  {
   "cell_type": "code",
   "execution_count": null,
   "id": "aa44ce63-df7a-4a9e-9842-5ebe8f7c0697",
   "metadata": {},
   "outputs": [
    {
     "data": {
      "text/plain": [
       "Array([0, 1, 2, 3, 4, 5], dtype=int32)"
      ]
     },
     "execution_count": null,
     "metadata": {},
     "output_type": "execute_result"
    }
   ],
   "source": [
    "xs"
   ]
  },
  {
   "cell_type": "code",
   "execution_count": null,
   "id": "1b58e062-72fd-40e1-a196-056921e27429",
   "metadata": {},
   "outputs": [],
   "source": [
    "new_xs = xs.at[2].set(100)"
   ]
  },
  {
   "cell_type": "code",
   "execution_count": null,
   "id": "945331c3-97fc-4c47-b0db-e25b2624c98b",
   "metadata": {},
   "outputs": [
    {
     "data": {
      "text/plain": [
       "Array([  0,   1, 100,   3,   4,   5], dtype=int32)"
      ]
     },
     "execution_count": null,
     "metadata": {},
     "output_type": "execute_result"
    }
   ],
   "source": [
    "new_xs"
   ]
  },
  {
   "cell_type": "code",
   "execution_count": null,
   "id": "cb1d519d-96d2-4e9d-ae3f-a72501f02f78",
   "metadata": {},
   "outputs": [],
   "source": [
    "grad_loss = grad(loss)"
   ]
  },
  {
   "cell_type": "code",
   "execution_count": null,
   "id": "fbfdac25-8442-48e0-a0de-c8b79d9c4bce",
   "metadata": {},
   "outputs": [],
   "source": [
    "class PerformanceBenchmark:\n",
    "    def __init__(self, pipe, dataset):\n",
    "        self.pipe = pipe\n",
    "        self.dataset = dataset\n",
    "    \n",
    "    def compute_memory(self):\n",
    "        pass\n",
    "    \n",
    "    def compute_latency(self):\n",
    "        pass\n",
    "    \n",
    "    def compute_accuracy(self):\n",
    "        pass\n",
    "    \n",
    "    def compute(self):\n",
    "        pass"
   ]
  },
  {
   "cell_type": "code",
   "execution_count": null,
   "id": "3bf94c9c-73a7-4bc2-8c71-fd88895b122a",
   "metadata": {},
   "outputs": [],
   "source": [
    "def to_uppercase(example):\n",
    "    text = example[\"summary\"].upper()\n",
    "    return {\"summary\": text}"
   ]
  },
  {
   "cell_type": "code",
   "execution_count": null,
   "id": "b321de22-bc50-4c3f-85bd-76ede1c53880",
   "metadata": {},
   "outputs": [],
   "source": [
    "from torch.nn.utils import clip_grad_norm_"
   ]
  },
  {
   "cell_type": "code",
   "execution_count": null,
   "id": "97a01129-f673-4554-a8cd-22df2f328d37",
   "metadata": {},
   "outputs": [],
   "source": [
    "clip_grad_norm_(param_1)"
   ]
  },
  {
   "cell_type": "code",
   "execution_count": null,
   "id": "d4110131-647c-43ec-adb4-7bd9781c402b",
   "metadata": {},
   "outputs": [],
   "source": [
    "class MultiHeadAttention(nn.Module):\n",
    "    def __init__(self, attention, d_model, n_heads):\n",
    "        super().__init__()\n",
    "        self.attention = attention\n",
    "        self.d_head = d_model // n_heads\n",
    "        self.d_model, self.n_heads = d_model, n_heads\n",
    "        \n",
    "        self.w_q = nn.Linear(d_model, d_model)\n",
    "        self.w_k = nn.Linear(d_model, d_model)\n",
    "        self.w_v = nn.Linear(d_model, d_model)\n",
    "        \n",
    "        self.mha_linear = nn.Linear(d_model, d_model)\n",
    "        \n",
    "    def split_heads(self, x):\n",
    "        batch_size, seq_len, d_model = x.size()\n",
    "        return x.view(batch_size, self.n_heads, seq_len, self.d_head)\n",
    "    \n",
    "    def concat_heads(self, x):\n",
    "        batch_size, n_heads, seq_len, d_head = x.size()\n",
    "        return x.view(batch_size, seq_len, self.d_model)\n",
    "    \n",
    "    def forward(self, pre_q, pre_k, pre_v):\n",
    "        q, k, v = self.w_q(pre_q), self.w_k(pre_k), self.w_v(pre_v)\n",
    "        \n",
    "        q, k, v = self.split_heads(q), self.split_heads(k), self.split_heads(v)\n",
    "        \n",
    "        attn_output, attn_weights = self.attention(q, k, v)\n",
    "        \n",
    "        output = self.concat_heads(attn_output)\n",
    "        output = self.mha_linear(output)\n",
    "        \n",
    "        return output, attn_weights"
   ]
  },
  {
   "cell_type": "code",
   "execution_count": null,
   "id": "ca13509b-6e6d-4522-9e27-aa42c5eea360",
   "metadata": {},
   "outputs": [
    {
     "data": {
      "text/plain": [
       "Array([0, 1, 2, 3, 4, 5], dtype=int32)"
      ]
     },
     "execution_count": null,
     "metadata": {},
     "output_type": "execute_result"
    }
   ],
   "source": [
    "xs"
   ]
  },
  {
   "cell_type": "code",
   "execution_count": null,
   "id": "10179f8c-0f44-4acd-8473-18b10bb27a53",
   "metadata": {},
   "outputs": [
    {
     "data": {
      "text/plain": [
       "Array([  0,   1, 100,   3,   4,   5], dtype=int32)"
      ]
     },
     "execution_count": null,
     "metadata": {},
     "output_type": "execute_result"
    }
   ],
   "source": [
    "xs.at[2].set(100)"
   ]
  },
  {
   "cell_type": "code",
   "execution_count": null,
   "id": "544dbca5-517a-41da-a1f9-4b6d62707a42",
   "metadata": {},
   "outputs": [],
   "source": [
    "def add_hook(model):\n",
    "    for layer in model.layers:\n",
    "        layer.register_forward_hook(add_log)"
   ]
  },
  {
   "cell_type": "code",
   "execution_count": null,
   "id": "327b62e0-39b9-4ef3-baed-d7c1e87219ad",
   "metadata": {},
   "outputs": [],
   "source": [
    "dataset_samsum.map(to_uppercase)"
   ]
  }
 ],
 "metadata": {
  "kernelspec": {
   "display_name": "Python 3 (ipykernel)",
   "language": "python",
   "name": "python3"
  }
 },
 "nbformat": 4,
 "nbformat_minor": 5
}
