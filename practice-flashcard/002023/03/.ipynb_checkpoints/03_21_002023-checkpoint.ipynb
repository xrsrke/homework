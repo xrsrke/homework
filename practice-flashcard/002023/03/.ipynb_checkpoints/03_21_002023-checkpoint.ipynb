{
 "cells": [
  {
   "cell_type": "markdown",
   "id": "461ee1ee-e1ff-4a59-bb4f-a02d5d25d3c1",
   "metadata": {},
   "source": [
    "### Science"
   ]
  },
  {
   "cell_type": "code",
   "execution_count": null,
   "id": "7c9c862f-8dfa-46cf-a902-0a90031f3c32",
   "metadata": {},
   "outputs": [],
   "source": [
    "k + u = k + u"
   ]
  },
  {
   "cell_type": "code",
   "execution_count": null,
   "id": "2be01f3a-ed09-4d19-8ef9-534e6fb29c2b",
   "metadata": {},
   "outputs": [],
   "source": [
    "import sympy\n",
    "from sympy.physics import units"
   ]
  },
  {
   "cell_type": "code",
   "execution_count": null,
   "id": "012eb7a4-3a5e-4c17-a8c1-a560aa58a125",
   "metadata": {},
   "outputs": [
    {
     "data": {
      "text/latex": [
       "$\\displaystyle \\frac{29.0 \\text{kg} \\text{m}}{\\text{s}}$"
      ],
      "text/plain": [
       "29.0*kilogram*meter/second"
      ]
     },
     "execution_count": null,
     "metadata": {},
     "output_type": "execute_result"
    }
   ],
   "source": [
    "(1/2)*0.145*units.kilogram*20**2*(units.meter/units.second)"
   ]
  },
  {
   "cell_type": "markdown",
   "id": "5d578b8b-2a75-4226-b3e0-f80ef045fc6f",
   "metadata": {},
   "source": [
    "### Python"
   ]
  },
  {
   "cell_type": "code",
   "execution_count": null,
   "id": "707a1217-8711-428d-b1d6-48d5d92cda20",
   "metadata": {},
   "outputs": [],
   "source": [
    "from typing import Callable"
   ]
  },
  {
   "cell_type": "code",
   "execution_count": null,
   "id": "983e4d66-7685-42ed-8771-9341d3815ac1",
   "metadata": {},
   "outputs": [],
   "source": [
    "def foo(func: Callable[[int, int], str]) -> str:\n",
    "    pass"
   ]
  },
  {
   "cell_type": "markdown",
   "id": "a7b3a633-dd6e-413c-b864-16e0e822b61c",
   "metadata": {},
   "source": [
    "### AI"
   ]
  },
  {
   "cell_type": "code",
   "execution_count": null,
   "id": "dfc4ba48-29f1-450e-9089-699a34e40194",
   "metadata": {},
   "outputs": [],
   "source": [
    "import torch\n",
    "from torch import nn\n",
    "import torch.nn.functional as F"
   ]
  },
  {
   "cell_type": "code",
   "execution_count": null,
   "id": "89fc9767-1456-4e58-9827-2ad2ce6680fc",
   "metadata": {},
   "outputs": [],
   "source": [
    "from langchain import LLMChain"
   ]
  },
  {
   "cell_type": "code",
   "execution_count": null,
   "id": "0aba0ff8-193b-4f3a-8940-a4f96650bfe4",
   "metadata": {},
   "outputs": [],
   "source": [
    "from pfrl.q_functions import DiscreteActionValueHead"
   ]
  },
  {
   "cell_type": "code",
   "execution_count": null,
   "id": "db3b95ea-5e1c-4bef-b14f-813cd789fbb9",
   "metadata": {},
   "outputs": [],
   "source": [
    "LLMChain, Simple, Transform"
   ]
  },
  {
   "cell_type": "code",
   "execution_count": null,
   "id": "564f40fd-bd56-49b7-8372-804f394e9f3b",
   "metadata": {},
   "outputs": [],
   "source": [
    "from langchain.indexes import VectorstoreIndexCreator"
   ]
  },
  {
   "cell_type": "code",
   "execution_count": null,
   "id": "8cdbe461-2596-4a3b-9bd5-62c2c9197377",
   "metadata": {},
   "outputs": [],
   "source": [
    "from langchain.agents import AgentExecutor"
   ]
  },
  {
   "cell_type": "code",
   "execution_count": null,
   "id": "fc58a870-a2de-4f54-9764-7a1257cd4aaa",
   "metadata": {},
   "outputs": [],
   "source": [
    "agent_executor = AgentExecutor.run(agent=agent, tools=tools)"
   ]
  },
  {
   "cell_type": "code",
   "execution_count": null,
   "id": "4cd78556-7e59-40ec-9145-da840ddba52a",
   "metadata": {},
   "outputs": [],
   "source": [
    "output.hidden_states[-1]"
   ]
  },
  {
   "cell_type": "code",
   "execution_count": null,
   "id": "c5b015eb-4701-4bcb-8b53-8765f78c0999",
   "metadata": {},
   "outputs": [],
   "source": [
    "from langchain import OpenAI"
   ]
  },
  {
   "cell_type": "code",
   "execution_count": null,
   "id": "7ef99b54-ff17-4606-a5fd-60908059caca",
   "metadata": {},
   "outputs": [],
   "source": [
    "model = OpenAI()"
   ]
  },
  {
   "cell_type": "code",
   "execution_count": null,
   "id": "64e4c985-926a-4ba3-8af6-c3788fcb2a2d",
   "metadata": {},
   "outputs": [],
   "source": [
    "from langchain import PromptTemplate, LLMChain, OpenAI\n",
    "from langchain.memory import SimpleMemory"
   ]
  },
  {
   "cell_type": "code",
   "execution_count": null,
   "id": "0e314b7c-2385-446d-8ed1-8746a97f5368",
   "metadata": {},
   "outputs": [],
   "source": [
    "model = OpenAI()"
   ]
  },
  {
   "cell_type": "code",
   "execution_count": null,
   "id": "11af5773-b396-49a7-afd7-5009a9bfdaeb",
   "metadata": {},
   "outputs": [],
   "source": [
    "template = \"\"\"\n",
    "This\n",
    "\n",
    "Here is the context:\n",
    "Current year: {year}\n",
    "\n",
    "User: {input}\n",
    "AI: \n",
    "\"\"\""
   ]
  },
  {
   "cell_type": "code",
   "execution_count": null,
   "id": "5ea34cd1-9439-4c04-9802-d8b9ee370746",
   "metadata": {},
   "outputs": [],
   "source": [
    "prompt_template = PromptTemplate(\n",
    "    input_variables=[\"year\", \"input\"],\n",
    "    template=template\n",
    ")"
   ]
  },
  {
   "cell_type": "code",
   "execution_count": null,
   "id": "cd506888-d90f-43ed-b9f9-bc86e30174dc",
   "metadata": {},
   "outputs": [],
   "source": [
    "memory = SimpleMemory(memories={\"year\": 2023})"
   ]
  },
  {
   "cell_type": "code",
   "execution_count": null,
   "id": "fa8213db-d58a-4c5c-b9f4-e7bc34fbd832",
   "metadata": {},
   "outputs": [],
   "source": [
    "chain = LLMChain(memory=memory, prompt=prompt_template, llm=model)"
   ]
  },
  {
   "cell_type": "code",
   "execution_count": null,
   "id": "e084e7c3-c942-4db3-98d3-279b3f6c933d",
   "metadata": {},
   "outputs": [],
   "source": [
    "from langchain.chains import SimpleSequentialChain"
   ]
  },
  {
   "cell_type": "code",
   "execution_count": null,
   "id": "167bc697-e5d9-4c2f-b0a3-bc4c65ddb73b",
   "metadata": {},
   "outputs": [],
   "source": [
    "overall_chain = SimpleSequentialChain(\n",
    "    chains=[assistant_chain, user_chain], \n",
    ")"
   ]
  },
  {
   "cell_type": "code",
   "execution_count": null,
   "id": "9fce37d0-d07d-432e-a05c-2f61ed120ae0",
   "metadata": {},
   "outputs": [],
   "source": [
    "from langchain.embeddings import OpenAIEmbeddings"
   ]
  },
  {
   "cell_type": "code",
   "execution_count": null,
   "id": "20aee28e-24dc-4d4f-99c3-753e3fcc9cee",
   "metadata": {},
   "outputs": [],
   "source": [
    "embeddings = OpenAIEmbeddings()"
   ]
  },
  {
   "cell_type": "code",
   "execution_count": null,
   "id": "e756a0cb-edff-468b-9936-97eecf8f1780",
   "metadata": {},
   "outputs": [],
   "source": [
    "embeded_text = embeddings."
   ]
  },
  {
   "cell_type": "code",
   "execution_count": null,
   "id": "ed32383a-1293-402f-a175-33f17d84f8c9",
   "metadata": {},
   "outputs": [],
   "source": [
    "1, 2, 3, 3"
   ]
  },
  {
   "cell_type": "markdown",
   "id": "8b4f5459-20bf-4f97-835c-5bb139badda1",
   "metadata": {},
   "source": [
    "layer norm, positional encoding, multi, masked multi, residual, linear"
   ]
  },
  {
   "cell_type": "code",
   "execution_count": null,
   "id": "6d6c83aa-81c9-4c49-be30-26fbf4228476",
   "metadata": {},
   "outputs": [],
   "source": [
    "p: position of the word in the sentence\n",
    "n: predefined\n",
    "i: position of the embedding idx\n",
    "d: dimension"
   ]
  },
  {
   "cell_type": "code",
   "execution_count": null,
   "id": "2fc84c79-3611-482f-bc53-f599e1adcea7",
   "metadata": {},
   "outputs": [],
   "source": [
    "from langchain.agents import AgentExecutor"
   ]
  },
  {
   "cell_type": "code",
   "execution_count": null,
   "id": "d9b953f7-8869-42fb-9ef2-e895b6341f90",
   "metadata": {},
   "outputs": [],
   "source": [
    "agent_executor = AgentExecutor(tools=tools, agent=agent)"
   ]
  },
  {
   "cell_type": "code",
   "execution_count": null,
   "id": "acbeda3b-af6e-4bef-a588-f2247bdb1d4b",
   "metadata": {},
   "outputs": [],
   "source": [
    "agent_executor.run(question)"
   ]
  },
  {
   "cell_type": "code",
   "execution_count": null,
   "id": "2e919437-f6d3-4887-82c1-98d5253adf8b",
   "metadata": {},
   "outputs": [],
   "source": []
  },
  {
   "cell_type": "code",
   "execution_count": null,
   "id": "903259d9-8dc9-4bef-a742-b200a5e827c2",
   "metadata": {},
   "outputs": [],
   "source": [
    "class LayerNorm(nn.Module):\n",
    "    def __init__(self, features, eps):\n",
    "        super().__init__()\n",
    "        self.eps = eps\n",
    "        self.adds = nn.Parameter(torch.zeros(features))\n",
    "        self.mults = nn.Parameter(torch.ones(features))\n",
    "    \n",
    "    def forward(self, x):\n",
    "        mean = x.mean(dim=-1)\n",
    "        var = x.mean(dim=-1)\n",
    "        \n",
    "        x = (x - mean) / (var + self.eps).sqrt()\n",
    "        \n",
    "        x = self.mults*x + self.adds\n",
    "        return x"
   ]
  },
  {
   "cell_type": "code",
   "execution_count": null,
   "id": "78a603e5-2646-4f25-8e9b-926da4c4c7be",
   "metadata": {},
   "outputs": [],
   "source": [
    "llm, agent, tol"
   ]
  }
 ],
 "metadata": {
  "kernelspec": {
   "display_name": "Python 3 (ipykernel)",
   "language": "python",
   "name": "python3"
  }
 },
 "nbformat": 4,
 "nbformat_minor": 5
}
