{
 "cells": [
  {
   "cell_type": "markdown",
   "id": "0a25dde7-32ee-41e6-96bf-202438eaa170",
   "metadata": {},
   "source": [
    "### Science"
   ]
  },
  {
   "cell_type": "code",
   "execution_count": null,
   "id": "d3928b21-25c9-4451-a924-b949a1e841bd",
   "metadata": {},
   "outputs": [],
   "source": [
    "elastic, inelastic, completely inelastic"
   ]
  },
  {
   "cell_type": "markdown",
   "id": "051990c7-5b38-4dcd-bfcd-cbf3ac572cf3",
   "metadata": {},
   "source": [
    "### AI"
   ]
  },
  {
   "cell_type": "code",
   "execution_count": null,
   "id": "5e0f523f-7644-4ede-936c-3d5c0e23a54f",
   "metadata": {},
   "outputs": [],
   "source": [
    "import ray"
   ]
  },
  {
   "cell_type": "code",
   "execution_count": null,
   "id": "703145d8-78e7-476b-8c50-d6b601d1729b",
   "metadata": {},
   "outputs": [],
   "source": [
    "@ray.remote\n",
    "def fast_retrieve(x):\n",
    "    return retrieve(x)"
   ]
  },
  {
   "cell_type": "code",
   "execution_count": null,
   "id": "9678f40b-d2ca-47c7-acd4-3f7793a7f84d",
   "metadata": {},
   "outputs": [],
   "source": [
    "data = [fast_retrieve.remote(x) for x in range(8)]"
   ]
  },
  {
   "cell_type": "code",
   "execution_count": null,
   "id": "8581678f-7810-4c3b-8095-032e82b21631",
   "metadata": {},
   "outputs": [],
   "source": [
    "compute_single_action"
   ]
  },
  {
   "cell_type": "code",
   "execution_count": null,
   "id": "4a307a4a-c621-4c78-822e-2638253557be",
   "metadata": {},
   "outputs": [],
   "source": [
    "model.compute_single_action(obs)"
   ]
  },
  {
   "cell_type": "code",
   "execution_count": null,
   "id": "a4588244-950a-448b-be7b-c7252e141a8d",
   "metadata": {},
   "outputs": [],
   "source": [
    "from ray.rllib.algorithms.ppo import PPOConfig"
   ]
  },
  {
   "cell_type": "code",
   "execution_count": null,
   "id": "32db6b15-af8e-491a-b06c-2737d2625744",
   "metadata": {},
   "outputs": [
    {
     "name": "stderr",
     "output_type": "stream",
     "text": [
      "2023-03-24 04:34:31,874\tINFO worker.py:1553 -- Started a local Ray instance.\n",
      "\u001b[2m\u001b[36m(RolloutWorker pid=1417)\u001b[0m 2023-03-24 04:34:35,750\tWARNING env.py:166 -- Your env reset() method appears to take 'seed' or 'return_info' arguments. Note that these are not yet supported in RLlib. Seeding will take place using 'env.seed()' and the info dict will not be returned from reset.\n",
      "2023-03-24 04:34:35,917\tWARNING util.py:67 -- Install gputil for GPU system monitoring.\n"
     ]
    }
   ],
   "source": [
    "model = PPOConfig().environment(\"CartPole-v1\").framework(\"torch\").build()"
   ]
  },
  {
   "cell_type": "code",
   "execution_count": null,
   "id": "ba4d70ad-e28d-4c88-a812-f8b340551b06",
   "metadata": {},
   "outputs": [],
   "source": [
    "from ray import tune"
   ]
  },
  {
   "cell_type": "code",
   "execution_count": null,
   "id": "ae14a260-eff4-4eba-b074-e8378eda86fe",
   "metadata": {},
   "outputs": [],
   "source": [
    "search_space = {\n",
    "    \"lr\": tune.uniform(0, 1)\n",
    "}"
   ]
  },
  {
   "cell_type": "code",
   "execution_count": null,
   "id": "b041c20f-0983-484a-b0df-bd28e8d71ac7",
   "metadata": {},
   "outputs": [],
   "source": [
    "completed_tasks, pending_tasks = ray.wait(tasks, num_returns=3)"
   ]
  },
  {
   "cell_type": "code",
   "execution_count": null,
   "id": "881d15a4-ef19-40e8-b79d-bd496e0a2855",
   "metadata": {},
   "outputs": [],
   "source": [
    "from ray import tune"
   ]
  },
  {
   "cell_type": "code",
   "execution_count": null,
   "id": "bc60ce67-fbc9-4ff6-9e4c-43f2dd0d54f3",
   "metadata": {},
   "outputs": [],
   "source": [
    "def object_func(items):\n",
    "    x, y = items[\"x\"], items[\"y\"]\n",
    "    score = objective(x, y)\n",
    "    tune.report(score=score)"
   ]
  },
  {
   "cell_type": "code",
   "execution_count": null,
   "id": "d425fef9-c5f2-4760-b4e1-d6241e355a33",
   "metadata": {},
   "outputs": [],
   "source": [
    "tune.run(object_func, config=config)"
   ]
  },
  {
   "cell_type": "code",
   "execution_count": null,
   "id": "d2486046-3cba-44d7-848b-33785b4774e8",
   "metadata": {},
   "outputs": [],
   "source": [
    "ray.get(x)"
   ]
  },
  {
   "cell_type": "code",
   "execution_count": null,
   "id": "5a218c77-8ab7-4f45-ae39-493a3ecffcaa",
   "metadata": {},
   "outputs": [],
   "source": [
    "model.compute_actions(states)"
   ]
  },
  {
   "cell_type": "code",
   "execution_count": null,
   "id": "a10fa828-ede8-4d1c-ae4d-fdfa59744656",
   "metadata": {},
   "outputs": [],
   "source": [
    "search_space = {\n",
    "    \"lr\": tune.uniform(0, 1),\n",
    "    \"discount_factor\": tune.uniform(0, 1)\n",
    "}"
   ]
  },
  {
   "cell_type": "markdown",
   "id": "a26a455a-d084-481d-804e-6adc052accd7",
   "metadata": {},
   "source": [
    "### Python"
   ]
  },
  {
   "cell_type": "code",
   "execution_count": null,
   "id": "9636fe64-ea21-4b30-b0dc-6b6b0c1e02d4",
   "metadata": {},
   "outputs": [],
   "source": [
    "class ControlTower:\n",
    "    def __init__(self, aircraft, )"
   ]
  },
  {
   "cell_type": "markdown",
   "id": "fe8a57f5-669a-4e1b-9318-e819f4b00af2",
   "metadata": {},
   "source": [
    "### AI"
   ]
  },
  {
   "cell_type": "code",
   "execution_count": null,
   "id": "0d4419f8-9030-4478-a565-7dde1b4654c8",
   "metadata": {},
   "outputs": [],
   "source": [
    "import torch\n",
    "from torch import nn\n",
    "import torch.nn.functional as F"
   ]
  },
  {
   "cell_type": "code",
   "execution_count": null,
   "id": "ff0f6aae-da33-4263-9b00-24840a6f50ea",
   "metadata": {},
   "outputs": [],
   "source": [
    "from pfrl.q_functions import Dis"
   ]
  },
  {
   "cell_type": "code",
   "execution_count": null,
   "id": "9bd006e8-61c9-44af-acfe-46f926cf2464",
   "metadata": {},
   "outputs": [],
   "source": [
    "from langchain import FewShotPromptTemplate"
   ]
  },
  {
   "cell_type": "code",
   "execution_count": null,
   "id": "254d9eff-51ab-4fb8-895c-e4b3328b77ff",
   "metadata": {},
   "outputs": [],
   "source": [
    "template = \"\"\"\n",
    "User: {question}\n",
    "AI: {answer}\n",
    "\"\"\""
   ]
  },
  {
   "cell_type": "code",
   "execution_count": null,
   "id": "b9df87a6-18a9-42bf-9bdb-a7a82a7cdba8",
   "metadata": {},
   "outputs": [],
   "source": [
    "few_shot_prompt_template = FewShotPromptTemplate(\n",
    "    input_variables=[\"question\"],\n",
    ")"
   ]
  },
  {
   "cell_type": "code",
   "execution_count": null,
   "id": "1398f5b6-4b59-42a8-a4db-35f413b2f045",
   "metadata": {},
   "outputs": [],
   "source": [
    "from gym import Env\n",
    "from gym.spaces import Discrete, Box"
   ]
  },
  {
   "cell_type": "code",
   "execution_count": null,
   "id": "6c7f3a9a-91c3-4beb-a7af-fb342ade9e66",
   "metadata": {},
   "outputs": [],
   "source": [
    "class ShowerEnv(Env):\n",
    "    def __init__(self):\n",
    "        self.action_space = Discrete(3)\n",
    "        self.observation_space = Box(min=0, max=100)\n",
    "    \n",
    "    def step(self, action):\n",
    "        self.temperature -= action\n",
    "        self.shower_length -= 1\n",
    "        \n",
    "        reward = 1 if 37 <= self.temperature <= 39 else 0\n",
    "        done = True if self.shower_length == 0 else False\n",
    "        info = {}\n",
    "        return self.temperature, reward, done, info\n",
    "    \n",
    "    def reset(self):\n",
    "        self.temperature = 20\n",
    "        self.shower_length = 60"
   ]
  },
  {
   "cell_type": "code",
   "execution_count": null,
   "id": "1ffe05a6-f5cc-4630-9fe1-20b2a3bd2a95",
   "metadata": {},
   "outputs": [],
   "source": [
    "image encoder, image decoder, linear, "
   ]
  },
  {
   "cell_type": "code",
   "execution_count": null,
   "id": "dbd0b8ea-f038-44a2-bc44-0f1398736206",
   "metadata": {},
   "outputs": [
    {
     "data": {
      "text/plain": [
       "tensor([1., 2., 3.], dtype=torch.float64)"
      ]
     },
     "execution_count": null,
     "metadata": {},
     "output_type": "execute_result"
    }
   ],
   "source": [
    "torch.tensor([1, 2, 3], dtype=torch.float64)"
   ]
  },
  {
   "cell_type": "code",
   "execution_count": null,
   "id": "827222e4-41ae-40ce-b77e-5e4675a95a90",
   "metadata": {},
   "outputs": [],
   "source": [
    "from einops import rearrange"
   ]
  },
  {
   "cell_type": "code",
   "execution_count": null,
   "id": "b03c3571-65cd-4dbf-acf8-b6ac529ddca7",
   "metadata": {},
   "outputs": [],
   "source": [
    "def compute_loss(model, xb, yb):\n",
    "    preds = model(xb)\n",
    "    \n",
    "    preds = rearrange(preds, \"b s n -> (b s) n\")\n",
    "    yb = rearrange(yb, \"b s -> (b s)\")\n",
    "    \n",
    "    loss = F.cross_entropy(preds, yb)\n",
    "    "
   ]
  },
  {
   "cell_type": "code",
   "execution_count": null,
   "id": "306a7538-4f5b-4fb9-823a-0e652d411c74",
   "metadata": {},
   "outputs": [],
   "source": [
    "def accuracy(probs, targs):\n",
    "    pred_idxs = torch.argmax(probs, dim=-1)\n",
    "    return (pred_idxs == targs).float().mean()"
   ]
  },
  {
   "cell_type": "code",
   "execution_count": null,
   "id": "198af920-f0c3-499b-907b-6d485f320da1",
   "metadata": {},
   "outputs": [],
   "source": [
    "from pfrl.q_functions import DiscreteActionValueHead"
   ]
  },
  {
   "cell_type": "code",
   "execution_count": null,
   "id": "cebb1de4-d5ba-45c2-8c6b-a1504037c555",
   "metadata": {},
   "outputs": [],
   "source": [
    "layer_norm = nn.LayerNorm(embedding.shape[-1])"
   ]
  },
  {
   "cell_type": "code",
   "execution_count": null,
   "id": "862f6b78-9239-4062-b53f-c8c1d09d9091",
   "metadata": {},
   "outputs": [],
   "source": [
    "class ConvNet2(nn.Module):\n",
    "    def __init__(self):\n",
    "        super().__init__()\n",
    "        self.net = nn.Sequential(\n",
    "            nn.Conv2d(\n",
    "                in_channels=3, out_channels=6,\n",
    "                kernel_size=5\n",
    "            ),\n",
    "            nn.ReLU(),\n",
    "            nn.MaxPool2d(kernel_size=6),\n",
    "            nn.Conv2d(\n",
    "                in_channels=6, out_channels=16,\n",
    "                kernel_size=5\n",
    "            ),\n",
    "            nn.MaxPool2d(kernel_size=16),\n",
    "            nn.Flatten(-1, 120),\n",
    "            nn.Linear(120, 84),\n",
    "            nn.ReLU(),\n",
    "            nn.Linear(84, 10),\n",
    "            nn.Softmax()\n",
    "        )\n",
    "    \n",
    "    def forward(self, x):\n",
    "        return self.net(x)"
   ]
  },
  {
   "cell_type": "code",
   "execution_count": null,
   "id": "3bf91f84-d5c7-48d6-a73c-ace660556a7a",
   "metadata": {},
   "outputs": [],
   "source": [
    "discounted_rewards = get_discounted_rewards(rewards)"
   ]
  },
  {
   "cell_type": "code",
   "execution_count": null,
   "id": "53f7eeba-8c72-4c42-8a1e-08c5291d8a00",
   "metadata": {},
   "outputs": [],
   "source": [
    "total_loss = 0"
   ]
  },
  {
   "cell_type": "code",
   "execution_count": null,
   "id": "f28af47c-c0ff-46a6-943f-ed2bc492d3ad",
   "metadata": {},
   "outputs": [],
   "source": [
    "for prob, disc_reward in zip(selected_action_probs, discounted_rewards):\n",
    "    total_loss += disc_reward*-prob.log()"
   ]
  },
  {
   "cell_type": "code",
   "execution_count": null,
   "id": "43e1117a-9924-4025-81b7-43b517d05e3d",
   "metadata": {},
   "outputs": [],
   "source": [
    "class LayerNorm(nn.Module):\n",
    "    def __init__(self, features, eps):\n",
    "        super().__init__()\n",
    "        self.eps = eps\n",
    "        self.adds = nn.Parameter(torch.zeros(features))\n",
    "        self.muts = nn.Parameter(torch.ones(features))\n",
    "    \n",
    "    def forward(self, x):\n",
    "        mean = x.mean(keepdim=True, dim=-1)\n",
    "        var = x.var(keepdim=True, dim=-1)\n",
    "        \n",
    "        x = (x - mean) / (var + self.eps).sqrt()\n",
    "        \n",
    "        x = self.mults * x + self.adds\n",
    "        \n",
    "        return x"
   ]
  },
  {
   "cell_type": "code",
   "execution_count": null,
   "id": "252e623d-9379-4a79-be9e-9059ba589179",
   "metadata": {},
   "outputs": [],
   "source": [
    "def compute_loss(model, xb, yb):\n",
    "    logits = model(xb)\n",
    "    \n",
    "    logits = rearrange(logits, \"b s n -> (b s) n\")\n",
    "    yb = rearrange(yb, \"b s -> (b s)\")\n",
    "    \n",
    "    loss = F.cross_entropy(input=logits, target=yb)\n",
    "    \n",
    "    return loss"
   ]
  },
  {
   "cell_type": "code",
   "execution_count": null,
   "id": "bc9c690c-fe20-46ba-af9a-9ba8daee948b",
   "metadata": {},
   "outputs": [],
   "source": [
    "from transformers import AutoTokenizer, AutoModelForCausalLM "
   ]
  },
  {
   "cell_type": "code",
   "execution_count": null,
   "id": "c1aacf05-2804-4c19-b7a7-562f24465344",
   "metadata": {},
   "outputs": [],
   "source": [
    "tokenzier = AutoTokenizer.from_pretrained(\"gpt2\")"
   ]
  },
  {
   "cell_type": "code",
   "execution_count": null,
   "id": "f1b2c3fa-fa06-4d15-a1fd-f4c0905c92e5",
   "metadata": {},
   "outputs": [],
   "source": [
    "model = AutoModelForCausalLM.from_pretrained(\"gpt2\")"
   ]
  },
  {
   "cell_type": "code",
   "execution_count": null,
   "id": "503f6946-9027-41ab-93ef-b726ee21f42a",
   "metadata": {},
   "outputs": [],
   "source": [
    "text = tokenzier(\"hello world\", return_tensors=\"pt\")"
   ]
  },
  {
   "cell_type": "code",
   "execution_count": null,
   "id": "d3c4e399-12e7-424c-93b5-da2bc057bed0",
   "metadata": {},
   "outputs": [],
   "source": [
    "output = model(\n",
    "    input_ids=text[\"input_ids\"],\n",
    "    attention_mask=text[\"attention_mask\"],\n",
    ")"
   ]
  },
  {
   "cell_type": "code",
   "execution_count": null,
   "id": "5324a497-f973-4c06-8183-9270472db8dd",
   "metadata": {},
   "outputs": [
    {
     "data": {
      "text/plain": [
       "torch.Size([1, 2, 50257])"
      ]
     },
     "execution_count": null,
     "metadata": {},
     "output_type": "execute_result"
    }
   ],
   "source": [
    "output.logits.shape"
   ]
  },
  {
   "cell_type": "code",
   "execution_count": null,
   "id": "320d11e5-6838-43a6-a8fe-9d1bf3dfdf8e",
   "metadata": {},
   "outputs": [],
   "source": []
  }
 ],
 "metadata": {
  "kernelspec": {
   "display_name": "Python 3 (ipykernel)",
   "language": "python",
   "name": "python3"
  }
 },
 "nbformat": 4,
 "nbformat_minor": 5
}
