{
 "cells": [
  {
   "cell_type": "markdown",
   "id": "e203170b-eb9b-4bb8-be18-5866e141c7a8",
   "metadata": {},
   "source": [
    "### Science"
   ]
  },
  {
   "cell_type": "code",
   "execution_count": null,
   "id": "15d9c8e3-acdd-4270-93c6-efe0127970c8",
   "metadata": {},
   "outputs": [],
   "source": [
    "did sub v"
   ]
  },
  {
   "cell_type": "markdown",
   "id": "b91cd7c3-171b-4308-9280-6d37a783bcec",
   "metadata": {},
   "source": [
    "### Python"
   ]
  },
  {
   "cell_type": "code",
   "execution_count": null,
   "id": "408417f9-d7a7-4e6a-a3e6-090ff4101aa8",
   "metadata": {},
   "outputs": [],
   "source": [
    "from typing import Union, List"
   ]
  },
  {
   "cell_type": "code",
   "execution_count": null,
   "id": "68f90791-6c11-4efc-82b2-a361fed1be5c",
   "metadata": {},
   "outputs": [],
   "source": [
    "x: List[Union[int, str, float]]"
   ]
  },
  {
   "cell_type": "code",
   "execution_count": null,
   "id": "3c871a14-038d-4901-aade-6a156534f21a",
   "metadata": {},
   "outputs": [],
   "source": [
    "x[:, 1::2]"
   ]
  },
  {
   "cell_type": "code",
   "execution_count": null,
   "id": "ac3e962c-0444-49a6-95dd-e5e00c4a5b92",
   "metadata": {},
   "outputs": [],
   "source": [
    "class Vehicle:\n",
    "    def __init__(self, max_speed, mileage):\n",
    "        self.max_speed = max_speed\n",
    "        self.milage = milage"
   ]
  },
  {
   "cell_type": "code",
   "execution_count": null,
   "id": "4fcd067a-3547-4e14-b6b1-51cb490044ed",
   "metadata": {},
   "outputs": [],
   "source": [
    "from typing import Final"
   ]
  },
  {
   "cell_type": "code",
   "execution_count": null,
   "id": "6531a220-5443-41b1-9c33-0b8d6cc477d4",
   "metadata": {},
   "outputs": [],
   "source": [
    "SERVER_PWD: Final = 1234"
   ]
  },
  {
   "cell_type": "code",
   "execution_count": null,
   "id": "8c0b9629-8cea-4a21-9ec2-55314e7bdbaa",
   "metadata": {},
   "outputs": [],
   "source": [
    "from typing import NewType"
   ]
  },
  {
   "cell_type": "markdown",
   "id": "61025cc8-fbc0-4143-a1d8-acaf1b586f90",
   "metadata": {},
   "source": [
    "### AI"
   ]
  },
  {
   "cell_type": "code",
   "execution_count": null,
   "id": "20ee2ef7-8290-428a-8ee7-3b5ecd6547c4",
   "metadata": {},
   "outputs": [],
   "source": [
    "import ray"
   ]
  },
  {
   "cell_type": "code",
   "execution_count": null,
   "id": "4682786b-84a9-40a0-a4ea-e52d3534df1f",
   "metadata": {},
   "outputs": [],
   "source": [
    "completed_tasks, pending_tasks = ray.wait(tasks, num_returns=3)"
   ]
  },
  {
   "cell_type": "code",
   "execution_count": null,
   "id": "c20b727a-1e3f-4120-a376-e47469156fae",
   "metadata": {},
   "outputs": [],
   "source": [
    "ray.get(x)"
   ]
  },
  {
   "cell_type": "code",
   "execution_count": null,
   "id": "6d836590-7b8a-40af-8ceb-0db78c6a852c",
   "metadata": {},
   "outputs": [],
   "source": [
    "@ray.remote\n",
    "def new_retrieve(x):\n",
    "    return retrieve(x)"
   ]
  },
  {
   "cell_type": "code",
   "execution_count": null,
   "id": "93bfe908-beba-458b-ab35-62bdf282182e",
   "metadata": {},
   "outputs": [],
   "source": [
    "import torch\n",
    "from torch import nn\n",
    "import torch.nn.functional as F"
   ]
  },
  {
   "cell_type": "code",
   "execution_count": null,
   "id": "f3a3d5ad-4b91-4e01-bfcb-72271f18612d",
   "metadata": {},
   "outputs": [],
   "source": [
    "tokenizer.decode(input_ids)"
   ]
  },
  {
   "cell_type": "code",
   "execution_count": null,
   "id": "8a342d6f-5e89-4093-86cb-1d36ea9d41a9",
   "metadata": {},
   "outputs": [],
   "source": [
    "from torch_geometric.data import Data"
   ]
  },
  {
   "cell_type": "code",
   "execution_count": null,
   "id": "eae5144c-30d7-454a-b282-d13d496e3b12",
   "metadata": {},
   "outputs": [],
   "source": [
    "x = torch.tensor([-1, 0, 1])"
   ]
  },
  {
   "cell_type": "code",
   "execution_count": null,
   "id": "8bf1acd9-90cc-488d-8299-7b4adaa4bee4",
   "metadata": {},
   "outputs": [],
   "source": [
    "edge_index = torch.tensor([\n",
    "    [0, 1, 1, 1],\n",
    "    [1, 0, 2, 2]\n",
    "])"
   ]
  },
  {
   "cell_type": "code",
   "execution_count": null,
   "id": "50df2628-e640-4828-a290-f71f63449d71",
   "metadata": {},
   "outputs": [],
   "source": [
    "data = Data(x, edge_index)"
   ]
  },
  {
   "cell_type": "code",
   "execution_count": null,
   "id": "09d9e496-72c3-423f-8934-4a32e3deeb21",
   "metadata": {},
   "outputs": [
    {
     "data": {
      "text/plain": [
       "Data(x=[3], edge_index=[2, 4])"
      ]
     },
     "execution_count": null,
     "metadata": {},
     "output_type": "execute_result"
    }
   ],
   "source": [
    "data"
   ]
  },
  {
   "cell_type": "code",
   "execution_count": null,
   "id": "b563b4c1-000c-444d-8bc7-0c8204f2f514",
   "metadata": {},
   "outputs": [],
   "source": [
    "x.clamp_min(2)"
   ]
  },
  {
   "cell_type": "code",
   "execution_count": null,
   "id": "fb2c3a49-09fd-49a9-a9eb-52b23e4ce757",
   "metadata": {},
   "outputs": [],
   "source": [
    "from langchain.indexes import VectorstoreIndexCreator"
   ]
  },
  {
   "cell_type": "code",
   "execution_count": null,
   "id": "d301ae0c-a379-4100-9ea5-d954dac9054d",
   "metadata": {},
   "outputs": [],
   "source": [
    "index = VectorstoreIndexCreator().from_loaders([loader])"
   ]
  },
  {
   "cell_type": "code",
   "execution_count": null,
   "id": "ab79dd7f-a574-40d8-b207-168bab747b2c",
   "metadata": {},
   "outputs": [],
   "source": [
    "import jax\n",
    "from jax import jit"
   ]
  },
  {
   "cell_type": "code",
   "execution_count": null,
   "id": "04c05b91-b822-4cf5-a69d-1ddd25efa659",
   "metadata": {},
   "outputs": [],
   "source": [
    "@jit\n",
    "def modified_square(x):\n",
    "    pass"
   ]
  },
  {
   "cell_type": "code",
   "execution_count": null,
   "id": "f327a2a8-e7ba-4366-bbae-740f949476ef",
   "metadata": {},
   "outputs": [],
   "source": [
    "embedding function, autoagressive"
   ]
  },
  {
   "cell_type": "markdown",
   "id": "5fa614f0-7a3d-46d2-aad3-abaf2ec2a41a",
   "metadata": {},
   "source": [
    "latent representation of the current observation and the recurrent state"
   ]
  },
  {
   "cell_type": "code",
   "execution_count": null,
   "id": "9c0d7805-779e-4756-aa7c-16e44d25b2f6",
   "metadata": {},
   "outputs": [],
   "source": [
    "masked_encoding = encodings.mask_fill(mask == False, -1)"
   ]
  },
  {
   "cell_type": "code",
   "execution_count": null,
   "id": "96ec5878-b668-478f-81b0-7e109d86985b",
   "metadata": {},
   "outputs": [],
   "source": [
    "def compute_ratio(current, prev):\n",
    "    return (current-prev).exp()"
   ]
  },
  {
   "cell_type": "code",
   "execution_count": null,
   "id": "409f6862-95ea-4f8d-8710-e5414c9df962",
   "metadata": {},
   "outputs": [],
   "source": [
    "def accuracy(probs, targs):\n",
    "    pred_idxs = torch.argmax(probs, dim=-1)\n",
    "    return (pred_idxs == targs).float().mean()"
   ]
  },
  {
   "cell_type": "code",
   "execution_count": null,
   "id": "fc517979-1375-4eab-9a6b-4ae78882beb4",
   "metadata": {},
   "outputs": [],
   "source": [
    "step 1: tokenize\n",
    "2: make decision on\n",
    "step 3: append\n",
    "step 4"
   ]
  }
 ],
 "metadata": {
  "kernelspec": {
   "display_name": "Python 3 (ipykernel)",
   "language": "python",
   "name": "python3"
  },
  "language_info": {
   "codemirror_mode": {
    "name": "ipython",
    "version": 3
   },
   "file_extension": ".py",
   "mimetype": "text/x-python",
   "name": "python",
   "nbconvert_exporter": "python",
   "pygments_lexer": "ipython3",
   "version": "3.8.16"
  }
 },
 "nbformat": 4,
 "nbformat_minor": 5
}
