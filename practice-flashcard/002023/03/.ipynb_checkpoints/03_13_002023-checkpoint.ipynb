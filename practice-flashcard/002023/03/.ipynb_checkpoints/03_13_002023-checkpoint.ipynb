{
 "cells": [
  {
   "cell_type": "markdown",
   "id": "09eea4ab-4bdc-4923-8a01-b49d593a27d9",
   "metadata": {},
   "source": [
    "### Science"
   ]
  },
  {
   "cell_type": "code",
   "execution_count": null,
   "id": "bd16fe45-f958-458b-92a7-f543a3dbcad1",
   "metadata": {},
   "outputs": [],
   "source": [
    "import sympy as sym\n",
    "import sympy.physics.units as u"
   ]
  },
  {
   "cell_type": "code",
   "execution_count": null,
   "id": "69f83938-0dc0-42ef-bc7f-4529833de7c8",
   "metadata": {},
   "outputs": [],
   "source": [
    "J_x, F_x, t = sym.symbols(\"J_x, F_x, t\")"
   ]
  },
  {
   "cell_type": "code",
   "execution_count": null,
   "id": "54a6a3ac-bb84-44d4-a3f6-f1bfa8540c54",
   "metadata": {},
   "outputs": [],
   "source": [
    "eq = sym.Eq(J_x, F_x*t)"
   ]
  },
  {
   "cell_type": "code",
   "execution_count": null,
   "id": "24d17ec3-ff89-4dd1-aba9-7532f11097f2",
   "metadata": {},
   "outputs": [
    {
     "data": {
      "text/latex": [
       "$\\displaystyle J_{x} = F_{x} t$"
      ],
      "text/plain": [
       "Eq(J_x, F_x*t)"
      ]
     },
     "execution_count": null,
     "metadata": {},
     "output_type": "execute_result"
    }
   ],
   "source": [
    "eq"
   ]
  },
  {
   "cell_type": "code",
   "execution_count": null,
   "id": "51ac7dd9-bae4-42cc-9b91-075b7b82fdb6",
   "metadata": {},
   "outputs": [],
   "source": [
    "F_x_val = sym.solve(eq, F_x)[0]"
   ]
  },
  {
   "cell_type": "code",
   "execution_count": null,
   "id": "efd31869-5e99-4920-9ec2-bb7ca3060bbc",
   "metadata": {},
   "outputs": [
    {
     "data": {
      "text/latex": [
       "$\\displaystyle 2000.0 \\text{N}$"
      ],
      "text/plain": [
       "2000.0*newton"
      ]
     },
     "execution_count": null,
     "metadata": {},
     "output_type": "execute_result"
    }
   ],
   "source": [
    "F_x_val.subs({\n",
    "    J_x: 20*u.newton*u.second,\n",
    "    t: 0.01*u.second\n",
    "})"
   ]
  },
  {
   "cell_type": "markdown",
   "id": "ed2a2693-ca78-4969-a474-cfc66991cfa2",
   "metadata": {},
   "source": [
    "cognitive revolution, agricultural revolution and scientific revolution"
   ]
  },
  {
   "cell_type": "markdown",
   "id": "bc1f850e-346d-4735-b5a5-55cf352b5ce7",
   "metadata": {},
   "source": [
    "### Python"
   ]
  },
  {
   "cell_type": "code",
   "execution_count": null,
   "id": "039606a2-7324-463e-ab5a-e35d96590eda",
   "metadata": {},
   "outputs": [],
   "source": [
    "import unittest"
   ]
  },
  {
   "cell_type": "code",
   "execution_count": null,
   "id": "e43ee52a-c080-4817-abe8-d82e618d5f92",
   "metadata": {},
   "outputs": [],
   "source": [
    "class MediumTestCase(unittest.TestCase):\n",
    "    def test_avg(self):\n",
    "        with self.assertRaises(TypeError):\n",
    "            pass"
   ]
  },
  {
   "cell_type": "markdown",
   "id": "3ab0f7ed-9735-4a1d-9f4d-5b5e00f57674",
   "metadata": {},
   "source": [
    "### AI"
   ]
  },
  {
   "cell_type": "code",
   "execution_count": null,
   "id": "fbfb5a44-ad21-457f-973f-8e3d1ab0e164",
   "metadata": {},
   "outputs": [],
   "source": [
    "import torch\n",
    "from torch import nn\n",
    "import torch.nn.functional as F"
   ]
  },
  {
   "cell_type": "code",
   "execution_count": null,
   "id": "1a53e101-1e18-4f6e-8011-e4e2ea4b06cd",
   "metadata": {},
   "outputs": [],
   "source": [
    "encodings.mask_fill(mask==False, -1)"
   ]
  },
  {
   "cell_type": "code",
   "execution_count": null,
   "id": "d2a93806-b992-411d-905a-434d65e9de9a",
   "metadata": {},
   "outputs": [],
   "source": [
    "n\n",
    "d_model\n"
   ]
  },
  {
   "cell_type": "code",
   "execution_count": null,
   "id": "b06504ab-302e-44a1-86fb-f0273731c331",
   "metadata": {},
   "outputs": [],
   "source": [
    "class LModel3(nn.Module):\n",
    "    def __init__(self, vocab_sz, n_hidden):\n",
    "        super().__init__()\n",
    "        self.i_h = nn.Embedding(vocab_sz, n_hidden)\n",
    "        self.h_h = nn.Linear(n_hidden, n_hidden)\n",
    "        self.h_o = nn.Linear(n_hidden, vocab_sz)\n",
    "        self.h = 0.\n",
    "    \n",
    "    def forward(self, x):\n",
    "        for i in range(3):\n",
    "            self.h = self.h + F.relu(self.i_h(x[i, :]))\n",
    "            self.h = F.relu(self.h_h(self.h))\n",
    "        \n",
    "        return self.h_o(self.h)"
   ]
  },
  {
   "cell_type": "code",
   "execution_count": null,
   "id": "f1b017e3-691d-4274-97f1-d0d86875c237",
   "metadata": {},
   "outputs": [],
   "source": [
    "world model, actor, critic"
   ]
  },
  {
   "cell_type": "code",
   "execution_count": null,
   "id": "349f7ed7-d65d-494e-b084-9f7f2d84a609",
   "metadata": {},
   "outputs": [],
   "source": [
    "from jax import jit"
   ]
  },
  {
   "cell_type": "code",
   "execution_count": null,
   "id": "73a5f95c-2e53-4b6b-848a-55c62aebc6cd",
   "metadata": {},
   "outputs": [],
   "source": [
    "modified_square = jit(square)"
   ]
  },
  {
   "cell_type": "code",
   "execution_count": null,
   "id": "910194ec-5154-4786-9bc6-a35c4e8b9584",
   "metadata": {},
   "outputs": [],
   "source": [
    "from jax import vmap"
   ]
  },
  {
   "cell_type": "code",
   "execution_count": null,
   "id": "0268a286-4ad9-4ec7-9bde-9c2f5dabef2b",
   "metadata": {},
   "outputs": [],
   "source": [
    "import jax.numpy as jnp"
   ]
  },
  {
   "cell_type": "code",
   "execution_count": null,
   "id": "bdb3c4d2-2175-45bd-a248-f5dc00da177a",
   "metadata": {},
   "outputs": [],
   "source": [
    "vmap(multiple)(jnp.array(xs), jnp.array(ys))"
   ]
  },
  {
   "cell_type": "code",
   "execution_count": null,
   "id": "b92fb941-a5b2-4ddc-b474-0fe067316243",
   "metadata": {},
   "outputs": [],
   "source": [
    "def compute_ratio(current, prev):\n",
    "    return (current-prev).exp()"
   ]
  },
  {
   "cell_type": "code",
   "execution_count": null,
   "id": "a157c937-fad0-4cb3-8bf9-fc6e4eceb38b",
   "metadata": {},
   "outputs": [],
   "source": [
    "tensors.sub_(231)"
   ]
  },
  {
   "cell_type": "code",
   "execution_count": null,
   "id": "50650053-cd60-4883-b75c-cb5777adfcbf",
   "metadata": {},
   "outputs": [],
   "source": [
    "p\n",
    "n\n",
    "i\n",
    "d_model"
   ]
  },
  {
   "cell_type": "code",
   "execution_count": null,
   "id": "7e5c1a87-fe07-41db-9de5-52dfcfc33ec9",
   "metadata": {},
   "outputs": [
    {
     "ename": "TypeError",
     "evalue": "__init__() missing 1 required positional argument: 'normalized_shape'",
     "output_type": "error",
     "traceback": [
      "\u001b[0;31m---------------------------------------------------------------------------\u001b[0m",
      "\u001b[0;31mTypeError\u001b[0m                                 Traceback (most recent call last)",
      "Cell \u001b[0;32mIn[15], line 1\u001b[0m\n\u001b[0;32m----> 1\u001b[0m layer_norm \u001b[38;5;241m=\u001b[39m \u001b[43mnn\u001b[49m\u001b[38;5;241;43m.\u001b[39;49m\u001b[43mLayerNorm\u001b[49m\u001b[43m(\u001b[49m\u001b[43m)\u001b[49m\n",
      "\u001b[0;31mTypeError\u001b[0m: __init__() missing 1 required positional argument: 'normalized_shape'"
     ]
    }
   ],
   "source": [
    "layer_norm = nn.LayerNorm()"
   ]
  },
  {
   "cell_type": "code",
   "execution_count": null,
   "id": "8152a922-d1c0-4b3f-8079-e92b39637a53",
   "metadata": {},
   "outputs": [],
   "source": [
    "import torch.optim as optim"
   ]
  },
  {
   "cell_type": "code",
   "execution_count": null,
   "id": "10b2584f-7269-413c-8659-6fd2b3d9b514",
   "metadata": {},
   "outputs": [],
   "source": [
    "optim.SGD(_model.parameters(), lr=0.3)"
   ]
  },
  {
   "cell_type": "code",
   "execution_count": null,
   "id": "7ee77430-f5bb-47b5-b76b-f5c9b2445801",
   "metadata": {},
   "outputs": [],
   "source": [
    "torch.where(dsets.train[0][1], 1)[0]"
   ]
  },
  {
   "cell_type": "code",
   "execution_count": null,
   "id": "54840647-1efc-453f-8641-432d1e637d78",
   "metadata": {},
   "outputs": [],
   "source": [
    "torch.where()"
   ]
  },
  {
   "cell_type": "code",
   "execution_count": null,
   "id": "d230810c-5340-48a4-a328-3d1958efc6cc",
   "metadata": {},
   "outputs": [],
   "source": [
    "step 1: pick a task that avg m can't do well\n",
    "step 2: avg m train the model\n",
    "step 3: x\n",
    "step 4: xx"
   ]
  },
  {
   "cell_type": "code",
   "execution_count": null,
   "id": "dee5ac68-04d6-4525-8e43-227acb28cf02",
   "metadata": {},
   "outputs": [],
   "source": [
    "torch.transpose"
   ]
  }
 ],
 "metadata": {
  "kernelspec": {
   "display_name": "Python 3 (ipykernel)",
   "language": "python",
   "name": "python3"
  }
 },
 "nbformat": 4,
 "nbformat_minor": 5
}
