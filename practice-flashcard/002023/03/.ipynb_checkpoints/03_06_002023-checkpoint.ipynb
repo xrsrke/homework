{
 "cells": [
  {
   "cell_type": "markdown",
   "id": "e24aba01-cf71-4081-a577-bdbae4cfd61a",
   "metadata": {},
   "source": [
    "### Science"
   ]
  },
  {
   "cell_type": "markdown",
   "id": "713fb5a8-87ce-4c44-8e07-5771d97079ec",
   "metadata": {},
   "source": [
    "### Software"
   ]
  },
  {
   "cell_type": "code",
   "execution_count": null,
   "id": "9643c183-5a75-4763-8d25-e44da8498bf8",
   "metadata": {},
   "outputs": [],
   "source": [
    "[x] for [x] in [x] if [x]"
   ]
  },
  {
   "cell_type": "markdown",
   "id": "1720ae15-bfae-44fb-b452-7fe37a889b80",
   "metadata": {},
   "source": [
    "### AI"
   ]
  },
  {
   "cell_type": "code",
   "execution_count": null,
   "id": "35a0c9e3-be97-4fe0-8858-ca3f44f43ee3",
   "metadata": {},
   "outputs": [],
   "source": [
    "import torch\n",
    "from torch import nn\n",
    "import torch.nn.functional as F"
   ]
  },
  {
   "cell_type": "code",
   "execution_count": null,
   "id": "76d44034-5b5f-4eed-98d4-015f2c7c1f65",
   "metadata": {},
   "outputs": [],
   "source": [
    "from langchain import LLMChain"
   ]
  },
  {
   "cell_type": "code",
   "execution_count": null,
   "id": "26675610-2545-498f-ac0b-9dd4aeef5d99",
   "metadata": {},
   "outputs": [],
   "source": [
    "chatgpt_chain = LLMChain(prompt=prompt, llm=model)"
   ]
  },
  {
   "cell_type": "code",
   "execution_count": null,
   "id": "62e48a52-69db-48cf-ae8b-64686bb5d20e",
   "metadata": {},
   "outputs": [],
   "source": [
    "from einops import pack"
   ]
  },
  {
   "cell_type": "code",
   "execution_count": null,
   "id": "8bb7d7e2-ead5-40df-b5ab-83967f55b903",
   "metadata": {},
   "outputs": [],
   "source": [
    "stacked_images = pack([image_rgb, image_depth], pattern=\"h w *\")"
   ]
  },
  {
   "cell_type": "code",
   "execution_count": null,
   "id": "85c439d7-d78e-4f1c-a501-1ea1f8d2e057",
   "metadata": {},
   "outputs": [],
   "source": [
    "def compute_ratio(current, prev):\n",
    "    return (current - prev).exp()"
   ]
  },
  {
   "cell_type": "code",
   "execution_count": null,
   "id": "5ad42705-3331-40ea-9919-88b59680ae44",
   "metadata": {},
   "outputs": [],
   "source": [
    "import gymnasium as gym"
   ]
  },
  {
   "cell_type": "code",
   "execution_count": null,
   "id": "0acba7f4-5256-4f93-9384-75f73e54192e",
   "metadata": {},
   "outputs": [],
   "source": [
    "envs = gym.vector.SyncVectorEnv([\n",
    "    lambda: gym.make(\"CartPole-v1\"),\n",
    "    lambda: gym.make(\"CartPole-v1\"),\n",
    "    lambda: gym.make(\"CartPole-v1\"),\n",
    "])"
   ]
  },
  {
   "cell_type": "code",
   "execution_count": null,
   "id": "85ea5e7a-cfa9-49a8-b351-ad5dada35282",
   "metadata": {},
   "outputs": [],
   "source": [
    "class ResidualLayerNorm(nn.Module):\n",
    "    def __init__(self, d_model, dropout):\n",
    "        super().__init__()\n",
    "        self.layer_norm = nn.LayerNorm(d_model)\n",
    "        self.dropout = nn.Dropout(dropout)\n",
    "    \n",
    "    def forward(self, x, residual):\n",
    "        return self.layer_norm(self.dropout(x) + residual)"
   ]
  },
  {
   "cell_type": "code",
   "execution_count": null,
   "id": "dbb79bcf-4c0e-4513-bef4-6f675f810237",
   "metadata": {},
   "outputs": [],
   "source": [
    "nn.Flatten(start_dim=1, end_dim=3)"
   ]
  },
  {
   "cell_type": "code",
   "execution_count": null,
   "id": "f0c27da8-0e32-48bd-a4e4-9f6605663de6",
   "metadata": {},
   "outputs": [],
   "source": [
    "def relu(xs):\n",
    "    return [x for x in xs if x > 0]"
   ]
  }
 ],
 "metadata": {
  "kernelspec": {
   "display_name": "Python 3 (ipykernel)",
   "language": "python",
   "name": "python3"
  }
 },
 "nbformat": 4,
 "nbformat_minor": 5
}
