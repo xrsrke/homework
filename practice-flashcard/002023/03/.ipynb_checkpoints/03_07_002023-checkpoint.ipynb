{
 "cells": [
  {
   "cell_type": "markdown",
   "id": "9039678f-092e-48e7-9247-4812e1d8459e",
   "metadata": {},
   "source": [
    "### Science"
   ]
  },
  {
   "cell_type": "code",
   "execution_count": null,
   "id": "afec814c-f13d-44d0-98eb-0d82542b29bd",
   "metadata": {},
   "outputs": [],
   "source": [
    "ionic, covalent, waals, metallic"
   ]
  },
  {
   "cell_type": "markdown",
   "id": "9c330d54-3ede-4c81-9e82-659e02ca661f",
   "metadata": {},
   "source": [
    "### Software"
   ]
  },
  {
   "cell_type": "code",
   "execution_count": null,
   "id": "57300ede-0008-4996-9393-37b6a7c84278",
   "metadata": {},
   "outputs": [],
   "source": [
    "total = 0"
   ]
  },
  {
   "cell_type": "code",
   "execution_count": null,
   "id": "9dda55d5-4d79-4968-85f5-3f531f73296d",
   "metadata": {},
   "outputs": [],
   "source": [
    "def count():\n",
    "    global total\n",
    "    total += 1\n",
    "    return total"
   ]
  },
  {
   "cell_type": "code",
   "execution_count": null,
   "id": "bcb50c82-a4fa-4a50-b615-cd286ed20885",
   "metadata": {},
   "outputs": [
    {
     "data": {
      "text/plain": [
       "(1, 2, 3)"
      ]
     },
     "execution_count": null,
     "metadata": {},
     "output_type": "execute_result"
    }
   ],
   "source": [
    "count(), count(), count()"
   ]
  },
  {
   "cell_type": "code",
   "execution_count": null,
   "id": "533da155-0a48-405f-b530-c8b102598545",
   "metadata": {},
   "outputs": [],
   "source": [
    "class Vehicle:\n",
    "    def func(self):\n",
    "        return self.__class__()"
   ]
  },
  {
   "cell_type": "code",
   "execution_count": null,
   "id": "2726a322-40e4-4cbf-94ac-c5feb1ba63f7",
   "metadata": {},
   "outputs": [],
   "source": [
    "def performance(func):\n",
    "    def inner():\n",
    "        out = func()\n",
    "    \n",
    "    return inner"
   ]
  },
  {
   "cell_type": "code",
   "execution_count": null,
   "id": "fb0f7be0-c489-4e79-a5ca-edc653f57fb8",
   "metadata": {},
   "outputs": [],
   "source": [
    "[x for x in x if x]"
   ]
  },
  {
   "cell_type": "code",
   "execution_count": null,
   "id": "e238f5db-a7e2-4113-8e15-3b84b5e0d74c",
   "metadata": {},
   "outputs": [],
   "source": [
    "have you past_"
   ]
  },
  {
   "cell_type": "markdown",
   "id": "acc45ae1-682a-448a-8324-04f63dbbd6c4",
   "metadata": {},
   "source": [
    "### AI"
   ]
  },
  {
   "cell_type": "code",
   "execution_count": null,
   "id": "b71361fa-4b17-4938-9da4-ae5f0a9a16a6",
   "metadata": {},
   "outputs": [],
   "source": [
    "import torch\n",
    "from torch import nn\n",
    "import torch.nn.functional as F"
   ]
  },
  {
   "cell_type": "code",
   "execution_count": null,
   "id": "ca8db918-76ad-4490-8be2-4130dde0de65",
   "metadata": {},
   "outputs": [],
   "source": [
    "def summary_batch(article_batches, max_context_length):\n",
    "    results = []\n",
    "    \n",
    "    for article_batch in article_batches:\n",
    "        tokenized_batch = tokenizer(\n",
    "            article_batch,\n",
    "            return_tensors=\"pt\",\n",
    "            truncation=True,\n",
    "            padding=True,\n",
    "            context_length=max_context_length\n",
    "        )\n",
    "        \n",
    "        output = model.generate(\n",
    "            input_ids=tokenized_batch[\"input_ids\"],\n",
    "            attention_mask=tokenized_batch[\"attention_mask\"]\n",
    "        )\n",
    "        \n",
    "        decoded_output = [tokenizer.decode(x) for x in output]\n",
    "        results.append(decoded_output)\n",
    "    \n",
    "    return results"
   ]
  },
  {
   "cell_type": "code",
   "execution_count": null,
   "id": "ad47d9a3-dd82-4934-ad4a-7a267dfa50b8",
   "metadata": {},
   "outputs": [],
   "source": [
    "memory, speed, accuracy"
   ]
  },
  {
   "cell_type": "code",
   "execution_count": null,
   "id": "23838448-4f87-4b84-b3b0-e409866a6a2b",
   "metadata": {},
   "outputs": [],
   "source": [
    "class ResidualLayerNorm(nn.Module):\n",
    "    def __init__(self, d_model, dropout):\n",
    "        super().__init__()\n",
    "        self.layer_norm = nn.LayerNorm(d_model)\n",
    "        self.dropout = nn.Dropout(dropout)\n",
    "    \n",
    "    def forward(self, x, residual):\n",
    "        return self.layer_norm(self.dropout(x) + residual)"
   ]
  },
  {
   "cell_type": "code",
   "execution_count": null,
   "id": "41890e03-01af-47de-bb61-164f0e8e3435",
   "metadata": {},
   "outputs": [],
   "source": [
    "from torch.utils.data import DataLoader"
   ]
  },
  {
   "cell_type": "code",
   "execution_count": null,
   "id": "36d529cd-7160-46b7-9882-a72bb3de387a",
   "metadata": {},
   "outputs": [],
   "source": [
    "dl = DataLoader(ds, batch_size=3)"
   ]
  }
 ],
 "metadata": {
  "kernelspec": {
   "display_name": "Python 3 (ipykernel)",
   "language": "python",
   "name": "python3"
  }
 },
 "nbformat": 4,
 "nbformat_minor": 5
}
