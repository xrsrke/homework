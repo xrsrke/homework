{
 "cells": [
  {
   "cell_type": "markdown",
   "id": "58c7d51c-a0ef-4ecc-ac38-703b95c59ba8",
   "metadata": {},
   "source": [
    "### Science"
   ]
  },
  {
   "cell_type": "code",
   "execution_count": null,
   "id": "383d1ebe-17ac-413c-b85e-df0058abf842",
   "metadata": {},
   "outputs": [],
   "source": [
    "hess, std, entropy"
   ]
  },
  {
   "cell_type": "code",
   "execution_count": null,
   "id": "8d871e69-2e68-458f-b5c9-60a8404b4d9e",
   "metadata": {},
   "outputs": [],
   "source": [
    "biocompaitble\n",
    "reliable\n",
    "neuralplasticity"
   ]
  },
  {
   "cell_type": "code",
   "execution_count": null,
   "id": "5b0a9918-17d9-435d-b88e-3c1d40420b4f",
   "metadata": {},
   "outputs": [],
   "source": [
    "record\n"
   ]
  },
  {
   "cell_type": "code",
   "execution_count": null,
   "id": "aa0b9899-9346-45db-b86d-853d8b29c8b6",
   "metadata": {},
   "outputs": [],
   "source": [
    "photoreceptor > bipolar > ganglia"
   ]
  },
  {
   "cell_type": "code",
   "execution_count": null,
   "id": "fe331414-3eef-490e-a404-09d62be25f84",
   "metadata": {},
   "outputs": [],
   "source": [
    "retina > optic nerve > thalamus > visual cortex"
   ]
  },
  {
   "cell_type": "markdown",
   "id": "90e9b297-80aa-402e-ab44-8983d391fa4c",
   "metadata": {},
   "source": [
    "### Python"
   ]
  },
  {
   "cell_type": "code",
   "execution_count": null,
   "id": "fb825cd4-8573-42ba-bf8d-4b466fdd3bc9",
   "metadata": {},
   "outputs": [
    {
     "ename": "SyntaxError",
     "evalue": "invalid syntax (1222298003.py, line 3)",
     "output_type": "error",
     "traceback": [
      "\u001b[0;36m  Cell \u001b[0;32mIn[1], line 3\u001b[0;36m\u001b[0m\n\u001b[0;31m    except ValueError, ZeroDivisionError:\u001b[0m\n\u001b[0m                     ^\u001b[0m\n\u001b[0;31mSyntaxError\u001b[0m\u001b[0;31m:\u001b[0m invalid syntax\n"
     ]
    }
   ],
   "source": [
    "try:\n",
    "    pass\n",
    "except ValueError, ZeroDivisionError:\n",
    "    print(\"x\")"
   ]
  },
  {
   "cell_type": "code",
   "execution_count": null,
   "id": "05bd6f47-a84e-4894-80dd-2834f5bb2d53",
   "metadata": {},
   "outputs": [],
   "source": [
    "from ray.train.rl import RLTrainer"
   ]
  },
  {
   "cell_type": "code",
   "execution_count": null,
   "id": "7984757f-fb89-4294-a6b0-11220a043274",
   "metadata": {},
   "outputs": [],
   "source": [
    "trainer = RLTrainer(algorithm=\"PPO\")"
   ]
  },
  {
   "cell_type": "code",
   "execution_count": null,
   "id": "b6091b6c-434e-4f63-a79e-6f63de87403a",
   "metadata": {},
   "outputs": [],
   "source": [
    "import ray"
   ]
  },
  {
   "cell_type": "code",
   "execution_count": null,
   "id": "2a76411f-f2b9-407f-a80a-bb5422e91fcf",
   "metadata": {},
   "outputs": [],
   "source": [
    "@ray.remote\n",
    "def x_retrieve(x):\n",
    "    return retrieve(x)"
   ]
  },
  {
   "cell_type": "code",
   "execution_count": null,
   "id": "ad99c367-f175-440a-b1db-55997867cece",
   "metadata": {},
   "outputs": [],
   "source": [
    "[x_retrieve.remote(item) for item in range(8)]"
   ]
  },
  {
   "cell_type": "code",
   "execution_count": null,
   "id": "fe18438a-f7f5-4e38-82f2-688205ab6aa1",
   "metadata": {},
   "outputs": [],
   "source": [
    "from ray.trainer.rl.rl_trainer import RLTrainer\n",
    "from ray.air.config import ScalingConfig"
   ]
  },
  {
   "cell_type": "code",
   "execution_count": null,
   "id": "810ad272-5f07-477f-a586-220c68c6ed9f",
   "metadata": {},
   "outputs": [],
   "source": [
    "trainer = RLTrainer(\n",
    "    algorithm=\"PPO\",\n",
    "    scaling_config=ScalingConfig(num_workers=3)\n",
    ")"
   ]
  },
  {
   "cell_type": "code",
   "execution_count": null,
   "id": "a1ede659-b10e-4c17-a0e1-9d4ba67a571d",
   "metadata": {},
   "outputs": [],
   "source": [
    "import torch\n",
    "from torch import nn\n",
    "import torch.nn.functional as F"
   ]
  },
  {
   "cell_type": "code",
   "execution_count": null,
   "id": "28558b6c-9a18-468a-bdc9-824bf6c1da11",
   "metadata": {},
   "outputs": [],
   "source": [
    "from langchain import PromptTemplate, FewShotPromptTemplate"
   ]
  },
  {
   "cell_type": "code",
   "execution_count": null,
   "id": "8c33834f-449b-4a0c-b13b-28c79cc63a05",
   "metadata": {},
   "outputs": [],
   "source": [
    "examples = [\n",
    "    {\"question\": \"How are\", \"answer\": \"xx\"},\n",
    "    {\"question\": \"How are\", \"answer\": \"xx\"},\n",
    "]"
   ]
  },
  {
   "cell_type": "code",
   "execution_count": null,
   "id": "acf8ab93-d180-4ee8-bc0a-bf0362c9b154",
   "metadata": {},
   "outputs": [],
   "source": [
    "few_shot_template = \"\"\"\n",
    "User: {question}\n",
    "AI: {answer}\n",
    "\"\"\""
   ]
  },
  {
   "cell_type": "code",
   "execution_count": null,
   "id": "4b068143-ef0c-485b-a603-5bf54b02afed",
   "metadata": {},
   "outputs": [],
   "source": [
    "few_shot_prompt_template = FewShotPromptTemplate(\n",
    "    input_variables=[\"question\"], prefix=prefix, examples=examples\n",
    ")"
   ]
  },
  {
   "cell_type": "code",
   "execution_count": null,
   "id": "d0339ea6-5e27-42f1-85d0-b800fc11e31d",
   "metadata": {},
   "outputs": [],
   "source": [
    "from torch_geometric.data import Data"
   ]
  },
  {
   "cell_type": "code",
   "execution_count": null,
   "id": "fefb2d9b-d16a-431b-b951-a133001655be",
   "metadata": {},
   "outputs": [],
   "source": [
    "x = torch.tensor([-1, 0, 1])"
   ]
  },
  {
   "cell_type": "code",
   "execution_count": null,
   "id": "0fd1b0c0-65bb-4d72-9097-9462d2bf2d34",
   "metadata": {},
   "outputs": [],
   "source": [
    "edge_index = torch.tensor([\n",
    "    [0, 1, 1, 2],\n",
    "    [1, 0, 2, 1]\n",
    "])"
   ]
  },
  {
   "cell_type": "code",
   "execution_count": null,
   "id": "a9b6bbfd-eb38-44ac-a193-261cfd9caef8",
   "metadata": {},
   "outputs": [],
   "source": [
    "data = Data(x=x, edge_index=edge_index)"
   ]
  },
  {
   "cell_type": "code",
   "execution_count": null,
   "id": "985cdbfe-5cf3-4a3a-a52f-ddcf630809f7",
   "metadata": {},
   "outputs": [
    {
     "data": {
      "text/plain": [
       "Data(x=[3], edge_index=[2, 4])"
      ]
     },
     "execution_count": null,
     "metadata": {},
     "output_type": "execute_result"
    }
   ],
   "source": [
    "data"
   ]
  },
  {
   "cell_type": "code",
   "execution_count": null,
   "id": "8b25843c-cd1f-4bf9-b03d-79349dc10a0e",
   "metadata": {},
   "outputs": [],
   "source": [
    "layer norm, mul, masked-multi, linear, skip connect, positiin"
   ]
  },
  {
   "cell_type": "code",
   "execution_count": null,
   "id": "9d8dc558-9aab-40cd-b323-b1a1dbc5f574",
   "metadata": {},
   "outputs": [],
   "source": [
    "class DeepQNetwork(nn.Module):\n",
    "    def __init__(self, n_observations, n_actions):\n",
    "        super().__init__()\n",
    "        self.net = nn.Sequential(\n",
    "            nn.Linear(n_observations, 128),\n",
    "            nn.ReLU(),\n",
    "            nn.Linear(128, n_actions)\n",
    "        )\n",
    "    \n",
    "    def forward(self, x):\n",
    "        return self.net(x)"
   ]
  },
  {
   "cell_type": "code",
   "execution_count": null,
   "id": "0734df9a-1c21-427f-9cad-407d40d35a1b",
   "metadata": {},
   "outputs": [],
   "source": [
    "nn.Flatten()"
   ]
  },
  {
   "cell_type": "code",
   "execution_count": null,
   "id": "8d88f018-2eb4-4ee4-840b-ea9ed3a79a4e",
   "metadata": {},
   "outputs": [],
   "source": [
    "class LayerNorm(nn.Module):\n",
    "    def __init__(self, features, eps):\n",
    "        super().__init__()\n",
    "        self.eps = eps\n",
    "        self.adds = nn.Parameter(torch.zeros(features))\n",
    "        self.mults = nn.Parameter(torch.ones(features))\n",
    "    \n",
    "    def forward(self, x):\n",
    "        mean, var = x.mean"
   ]
  }
 ],
 "metadata": {
  "kernelspec": {
   "display_name": "Python 3 (ipykernel)",
   "language": "python",
   "name": "python3"
  },
  "language_info": {
   "codemirror_mode": {
    "name": "ipython",
    "version": 3
   },
   "file_extension": ".py",
   "mimetype": "text/x-python",
   "name": "python",
   "nbconvert_exporter": "python",
   "pygments_lexer": "ipython3",
   "version": "3.8.16"
  }
 },
 "nbformat": 4,
 "nbformat_minor": 5
}
