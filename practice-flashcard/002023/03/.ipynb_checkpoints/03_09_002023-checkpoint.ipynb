{
 "cells": [
  {
   "cell_type": "markdown",
   "id": "c2c70d9b-19dc-4612-8fb1-a6f2104770f0",
   "metadata": {},
   "source": [
    "### Science"
   ]
  },
  {
   "cell_type": "markdown",
   "id": "a4f48ede-a0f4-41a7-b0db-22da5dec131c",
   "metadata": {},
   "source": [
    "### Software"
   ]
  },
  {
   "cell_type": "code",
   "execution_count": null,
   "id": "9d76795e-4f9c-4ed6-8361-c262caa84958",
   "metadata": {},
   "outputs": [],
   "source": [
    "from enum import Enum"
   ]
  },
  {
   "cell_type": "code",
   "execution_count": null,
   "id": "bdf171c8-bc48-4d1b-be77-a344d2753440",
   "metadata": {},
   "outputs": [],
   "source": [
    "class Color(Enum):\n",
    "    RED = \"RED\"\n",
    "    \n",
    "    @property\n",
    "    def is_hot(self):\n",
    "        return self in [Color.RED]"
   ]
  },
  {
   "cell_type": "markdown",
   "id": "0fbf5cd4-f3b1-41a9-baba-688a719a3520",
   "metadata": {},
   "source": [
    "### AI"
   ]
  },
  {
   "cell_type": "code",
   "execution_count": null,
   "id": "02c6da24-8b87-4f27-a0ce-5230cd0754c0",
   "metadata": {},
   "outputs": [],
   "source": [
    "def mse(pred, targs):\n",
    "    return (pred-targs).pow(2).mean()"
   ]
  },
  {
   "cell_type": "code",
   "execution_count": null,
   "id": "08869f3b-cf9c-4c29-b7e8-1661e3aa793a",
   "metadata": {},
   "outputs": [],
   "source": [
    "import torch\n",
    "from torch import nn\n",
    "import torch.nn.functional as F"
   ]
  },
  {
   "cell_type": "code",
   "execution_count": null,
   "id": "27ff638a-8aa4-49d6-bc88-e656a3bf056e",
   "metadata": {},
   "outputs": [],
   "source": [
    "torch.amax(x, dim=1)"
   ]
  },
  {
   "cell_type": "code",
   "execution_count": null,
   "id": "80d93f55-c976-45f3-9e5f-3a2bb8683911",
   "metadata": {},
   "outputs": [],
   "source": [
    "import jax\n",
    "import jax.numpy as jnp"
   ]
  },
  {
   "cell_type": "code",
   "execution_count": null,
   "id": "d63220f5-1aa6-4625-ae86-b31d814ec04a",
   "metadata": {},
   "outputs": [],
   "source": [
    "jax.vmap(multiple)(jnp.array(xs), jnp.array(ys))"
   ]
  },
  {
   "cell_type": "code",
   "execution_count": null,
   "id": "1808cbce-c5da-4ad1-85b8-913a35d0719c",
   "metadata": {},
   "outputs": [],
   "source": [
    "from jax import grad"
   ]
  },
  {
   "cell_type": "code",
   "execution_count": null,
   "id": "edfc0dc7-91c0-4df3-bf08-0256033ac970",
   "metadata": {},
   "outputs": [],
   "source": [
    "grad(grad(grad(f)))"
   ]
  },
  {
   "cell_type": "code",
   "execution_count": null,
   "id": "dbf4617c-43e2-4443-8985-5eb6a4dba5d8",
   "metadata": {},
   "outputs": [],
   "source": [
    "from jax import random"
   ]
  },
  {
   "cell_type": "code",
   "execution_count": null,
   "id": "91ca666f-370f-4447-992f-c5ffad595405",
   "metadata": {},
   "outputs": [
    {
     "data": {
      "text/plain": [
       "Array([ 0, 42], dtype=uint32)"
      ]
     },
     "execution_count": null,
     "metadata": {},
     "output_type": "execute_result"
    }
   ],
   "source": [
    "random.PRNGKey(seed=42)"
   ]
  },
  {
   "cell_type": "code",
   "execution_count": null,
   "id": "623f000a-dfbf-4cbf-9f38-58b42e5c9a95",
   "metadata": {},
   "outputs": [],
   "source": [
    "from jax import jit"
   ]
  },
  {
   "cell_type": "code",
   "execution_count": null,
   "id": "ad387b58-51f2-4abc-9df4-c90ca18c1813",
   "metadata": {},
   "outputs": [
    {
     "ename": "NameError",
     "evalue": "name 'square' is not defined",
     "output_type": "error",
     "traceback": [
      "\u001b[0;31m---------------------------------------------------------------------------\u001b[0m",
      "\u001b[0;31mNameError\u001b[0m                                 Traceback (most recent call last)",
      "Cell \u001b[0;32mIn[12], line 1\u001b[0m\n\u001b[0;32m----> 1\u001b[0m modified_square \u001b[38;5;241m=\u001b[39m jit(\u001b[43msquare\u001b[49m)\n",
      "\u001b[0;31mNameError\u001b[0m: name 'square' is not defined"
     ]
    }
   ],
   "source": [
    "modified_square = jit(square)"
   ]
  },
  {
   "cell_type": "code",
   "execution_count": null,
   "id": "cd97440b-73ab-4cf0-a45c-62519da3928f",
   "metadata": {},
   "outputs": [],
   "source": [
    "grad_loss = grad(loss)"
   ]
  },
  {
   "cell_type": "code",
   "execution_count": null,
   "id": "63e275ed-a7cf-4e5a-ad9b-681533ecb3da",
   "metadata": {},
   "outputs": [],
   "source": [
    "xs.at[2].set(100)"
   ]
  },
  {
   "cell_type": "code",
   "execution_count": null,
   "id": "0afdbf1d-c2b9-49a0-bae4-014ac595ea62",
   "metadata": {},
   "outputs": [],
   "source": [
    "encoded_text = tokenizer(batch[\"text\"], padding=True, truncation=True)"
   ]
  },
  {
   "cell_type": "code",
   "execution_count": null,
   "id": "a895514a-b391-4e2e-8af4-caefe98de1be",
   "metadata": {},
   "outputs": [],
   "source": [
    "def to_uppercase(x):\n",
    "    return {\n",
    "        \"summary\": x[\"summary\"].upper()\n",
    "    }"
   ]
  },
  {
   "cell_type": "code",
   "execution_count": null,
   "id": "6357415d-3137-4061-ac3e-ae8f0b0a8ee3",
   "metadata": {},
   "outputs": [],
   "source": [
    "dataset_samsum.map(to_uppercase)"
   ]
  },
  {
   "cell_type": "code",
   "execution_count": null,
   "id": "b8c43950-b009-41bd-8c6a-c30b065acb0e",
   "metadata": {},
   "outputs": [],
   "source": [
    "torch.multinomial(preds, num_samples=1)"
   ]
  },
  {
   "cell_type": "code",
   "execution_count": null,
   "id": "91107798-3dae-476b-a972-9df7069a90b7",
   "metadata": {},
   "outputs": [],
   "source": []
  }
 ],
 "metadata": {
  "kernelspec": {
   "display_name": "Python 3 (ipykernel)",
   "language": "python",
   "name": "python3"
  }
 },
 "nbformat": 4,
 "nbformat_minor": 5
}
