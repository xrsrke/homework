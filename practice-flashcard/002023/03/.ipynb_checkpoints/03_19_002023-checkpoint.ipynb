{
 "cells": [
  {
   "cell_type": "markdown",
   "id": "f84b7823-18f8-40cc-ac28-4e4ea6f4b211",
   "metadata": {},
   "source": [
    "### Science"
   ]
  },
  {
   "cell_type": "markdown",
   "id": "20710b2f-cb89-4f77-a888-f0702e5ab40d",
   "metadata": {},
   "source": [
    "conditioned response, population activity, motor imagery, "
   ]
  },
  {
   "cell_type": "markdown",
   "id": "785f8f2c-8eae-4334-9cd1-026dc150d7d2",
   "metadata": {},
   "source": [
    "neuron 1 > axon > synapse > dendrite neuron 2"
   ]
  },
  {
   "cell_type": "markdown",
   "id": "a606a4ac-4ecc-47b4-a6ff-ad92080c93a3",
   "metadata": {},
   "source": [
    "### Python"
   ]
  },
  {
   "cell_type": "code",
   "execution_count": null,
   "id": "407eee14-e93b-449b-bedf-ce5cf562d0e7",
   "metadata": {},
   "outputs": [],
   "source": [
    "from unittest import TestCase"
   ]
  },
  {
   "cell_type": "code",
   "execution_count": null,
   "id": "aae35f0d-359a-41ed-921f-b76d245fa0fa",
   "metadata": {},
   "outputs": [],
   "source": [
    "class TestGetCompanies(TestCase):\n",
    "    def test_list_companies(self):\n",
    "        output = Company().list_companies()\n",
    "        assert output == 1"
   ]
  },
  {
   "cell_type": "code",
   "execution_count": null,
   "id": "2cdbe321-86c7-4747-8c6f-7c5d3c37f392",
   "metadata": {},
   "outputs": [],
   "source": [
    "from enum import Enum"
   ]
  },
  {
   "cell_type": "code",
   "execution_count": null,
   "id": "d415835a-634e-4927-89b3-ecea68d85334",
   "metadata": {},
   "outputs": [],
   "source": [
    "class Colors(Enum):\n",
    "    RED = \"Red\"\n",
    "    ORANGE = \"Orange\"\n",
    "    BLUE = \"Blue\"\n",
    "    \n",
    "    @property\n",
    "    def is_hot(self):\n",
    "        return self in [Colors.RED, Colors.ORANGE]"
   ]
  },
  {
   "cell_type": "code",
   "execution_count": null,
   "id": "a8967d74-d547-40c8-9141-706f48d54da7",
   "metadata": {},
   "outputs": [],
   "source": [
    "class PlayerChara"
   ]
  },
  {
   "cell_type": "markdown",
   "id": "7aed55c6-196e-4a25-a751-7a8a7d1474ec",
   "metadata": {},
   "source": [
    "### AI"
   ]
  },
  {
   "cell_type": "code",
   "execution_count": null,
   "id": "a40248e6-72d6-4282-94b5-b2236cb1385c",
   "metadata": {},
   "outputs": [],
   "source": [
    "import torch\n",
    "from torch import nn\n",
    "import torch.nn.functional as F"
   ]
  },
  {
   "cell_type": "code",
   "execution_count": null,
   "id": "f42b70d0-ab39-488d-8208-8b4a7bdd2e52",
   "metadata": {},
   "outputs": [],
   "source": [
    "torch.device"
   ]
  },
  {
   "cell_type": "code",
   "execution_count": null,
   "id": "7dc13878-7077-436b-89f2-18311e70518e",
   "metadata": {},
   "outputs": [],
   "source": [
    "from torch.utils.data import random_split, DataLoader"
   ]
  },
  {
   "cell_type": "code",
   "execution_count": null,
   "id": "28e88cb0-54e2-43f5-b09d-59731c9d4e7f",
   "metadata": {},
   "outputs": [],
   "source": [
    "train_set, test_set = random_split(dataset, lengths=[6, 4])"
   ]
  },
  {
   "cell_type": "code",
   "execution_count": null,
   "id": "19fc67d9-9caf-4fe9-8927-5a8e1986475b",
   "metadata": {},
   "outputs": [],
   "source": [
    "train_loader = DataLoader(dataset=train_set, batch_size=2)"
   ]
  },
  {
   "cell_type": "code",
   "execution_count": null,
   "id": "c9eaa880-19c3-4307-8f7a-b6b1ef032fb4",
   "metadata": {},
   "outputs": [],
   "source": [
    "from jax import vmap"
   ]
  },
  {
   "cell_type": "code",
   "execution_count": null,
   "id": "8b6d7cd0-7abb-4e17-b522-a9a987626aec",
   "metadata": {},
   "outputs": [],
   "source": [
    "modified_multiply = vmap(multiply)"
   ]
  },
  {
   "cell_type": "code",
   "execution_count": null,
   "id": "5b9a6471-45bf-4d98-b6aa-f0f5c29c6dae",
   "metadata": {},
   "outputs": [],
   "source": [
    "from langchain.prompts import FewShotPromptTemplate, PromptTemplate"
   ]
  },
  {
   "cell_type": "code",
   "execution_count": null,
   "id": "b973a8fd-ece8-46a1-9ab4-70eda0d5b6eb",
   "metadata": {},
   "outputs": [],
   "source": [
    "examples = [\n",
    "    {\"question\": \"How are you\", \"answer\": \"XX\"}\n",
    "]"
   ]
  },
  {
   "cell_type": "code",
   "execution_count": null,
   "id": "6e0a3415-69ee-41db-b488-c1ddf9dfa8f0",
   "metadata": {},
   "outputs": [],
   "source": [
    "template = \"\"\"\n",
    "User: {question}\n",
    "AI: {answer}\n",
    "\"\"\""
   ]
  },
  {
   "cell_type": "code",
   "execution_count": null,
   "id": "b88752fe-2980-48af-9fbd-fa16cec809db",
   "metadata": {},
   "outputs": [],
   "source": [
    "example_prompt = PromptTemplate(\n",
    "    input_variables=[\"question\", \"answer\"], template=template\n",
    ")"
   ]
  },
  {
   "cell_type": "code",
   "execution_count": null,
   "id": "126fef0b-0405-4c0c-bb00-adece0cb16a0",
   "metadata": {},
   "outputs": [],
   "source": [
    "few_shot_prompt_template = FewShotPromptTemplate(\n",
    "    examples=examples,\n",
    "    example_prompt=example_prompt,\n",
    "    input_variables=[\"q\"]\n",
    ")"
   ]
  },
  {
   "cell_type": "code",
   "execution_count": null,
   "id": "2841248a-18db-40bb-9d67-dfe70439871c",
   "metadata": {},
   "outputs": [],
   "source": [
    "from langchain.chains import TransformChain"
   ]
  },
  {
   "cell_type": "code",
   "execution_count": null,
   "id": "aac54e06-b2de-40b8-93f5-f8a42b80f872",
   "metadata": {},
   "outputs": [],
   "source": [
    "transform_chain = TransformChain(\n",
    "    input_variables=[\"input\"], output_variables=[\"input\"],\n",
    "    transform=lambda x: {\"input\": x[\"input\"].upper()}\n",
    ")"
   ]
  },
  {
   "cell_type": "code",
   "execution_count": null,
   "id": "f89711b5-faf0-4fe1-8baa-f6157bf624d8",
   "metadata": {},
   "outputs": [
    {
     "data": {
      "text/plain": [
       "'XXX'"
      ]
     },
     "execution_count": null,
     "metadata": {},
     "output_type": "execute_result"
    }
   ],
   "source": [
    "transform_chain.run(\"xxx\")"
   ]
  },
  {
   "cell_type": "code",
   "execution_count": null,
   "id": "18b19d9c-7f3f-4ace-bb87-61ec1b68e368",
   "metadata": {},
   "outputs": [],
   "source": [
    "def to_upper(x):\n",
    "    return {\n",
    "        \"summary\": x[\"summary\"].upper()\n",
    "    }"
   ]
  },
  {
   "cell_type": "code",
   "execution_count": null,
   "id": "684a8f4c-420c-40fd-a9fe-b968f833dc67",
   "metadata": {},
   "outputs": [],
   "source": [
    "_new_dataset = "
   ]
  },
  {
   "cell_type": "code",
   "execution_count": null,
   "id": "68cef87b-12e1-4d15-b5da-be286af3eaee",
   "metadata": {},
   "outputs": [],
   "source": [
    "train_set, valid_set = random_split(dataset, lengths=[6, 4])"
   ]
  },
  {
   "cell_type": "code",
   "execution_count": null,
   "id": "7056bae1-4a18-4050-be06-4dd2b6604186",
   "metadata": {},
   "outputs": [],
   "source": [
    "train_loader = DataLoader(train_set, batch_size=2)"
   ]
  },
  {
   "cell_type": "code",
   "execution_count": null,
   "id": "097cfb94-33f7-4004-a0dd-2106effcbe51",
   "metadata": {},
   "outputs": [],
   "source": [
    "embedding = nn.Embedding(num_embeddings=10, embedding_dim=5, padding_idx=5)"
   ]
  },
  {
   "cell_type": "code",
   "execution_count": null,
   "id": "ed035032-e995-4954-976e-3a404996b828",
   "metadata": {},
   "outputs": [],
   "source": [
    "class LayerNorm(nn.Module):\n",
    "    def __init__(self, features, eps):\n",
    "        super().__init__()\n",
    "        self.eps = eps\n",
    "        self.mult = nn.Parameter(torch.ones(features))\n",
    "        self.add = nn.Parameter(torch.zeros(features))\n",
    "    \n",
    "    def forward(self, x):\n",
    "        mean = x.mean(-1, keep)"
   ]
  },
  {
   "cell_type": "code",
   "execution_count": null,
   "id": "7eb3b228-9410-4eb5-892c-cd6f3efde33a",
   "metadata": {},
   "outputs": [],
   "source": []
  },
  {
   "cell_type": "code",
   "execution_count": null,
   "id": "99bd8773-8308-4711-a75a-1a55305e7e40",
   "metadata": {},
   "outputs": [],
   "source": []
  },
  {
   "cell_type": "markdown",
   "id": "8552f10d-edf0-44e9-831f-405c1c85585f",
   "metadata": {},
   "source": [
    "Replay Distribution ($P_{\\text{replay}}$): A dynamic, nonparametric distribution over previously visited training levels ($\\Lambda_{\\text{seen}}$) that prioritizes levels with higher learning potential based on the agent's past trajectories.\n",
    "\n",
    "Level Scores ($S_i$): PLR tracks level scores for each visited training level ($l_i$) based on the latest episode trajectory on that level. These scores help determine the learning potential of each level.\n",
    "\n",
    "Episode Count ($C_i$): The algorithm also tracks the episode count at which each level $l_i$ was last sampled. This information is used to compute the staleness-aware distribution ($P_C$), which prioritizes levels based on how long ago they were last used in training.\n",
    "\n",
    "Mixture Distribution: PLR computes a mixture distribution by combining the level score-based distribution ($P_S$) and the staleness-aware distribution ($P_C$), with the staleness coefficient ($\\rho$) determining the balance between them:\n",
    "\n",
    "Replay Decision ($P_D(d)$): At the start of each training episode, PLR samples a decision from a Bernoulli distribution to determine whether to replay a level from the replay distribution $P_{\\text{replay}}$ or to experience a new, unseen level from the set of training levels ($\\Lambda_{\\text{train}}$), according to a distribution $P_{\\text{new}}$.\n",
    "\n",
    "New Level Distribution ($P_{\\text{new}}$): For a finite number of training levels, this distribution is uniform over the remaining unseen levels. For a countably infinite number of training levels, $P_{\\text{new}}$ is simulated by sampling levels from $P_{\\text{train}}$ until an unseen level is encountered."
   ]
  },
  {
   "cell_type": "code",
   "execution_count": null,
   "id": "7f4bfdf8-1457-4155-a2aa-c3fb54d8e845",
   "metadata": {},
   "outputs": [],
   "source": []
  }
 ],
 "metadata": {
  "kernelspec": {
   "display_name": "Python 3 (ipykernel)",
   "language": "python",
   "name": "python3"
  }
 },
 "nbformat": 4,
 "nbformat_minor": 5
}
