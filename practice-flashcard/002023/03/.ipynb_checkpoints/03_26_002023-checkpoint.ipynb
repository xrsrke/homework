{
 "cells": [
  {
   "cell_type": "markdown",
   "id": "7715884b-c819-4811-b7db-76c6da3501e1",
   "metadata": {},
   "source": [
    "### Science"
   ]
  },
  {
   "cell_type": "code",
   "execution_count": null,
   "id": "8e2835af-6c45-47d0-91fb-3711693046a1",
   "metadata": {},
   "outputs": [],
   "source": [
    "will sub have"
   ]
  },
  {
   "cell_type": "code",
   "execution_count": null,
   "id": "1a172157-6bd8-4473-b0fe-067490044616",
   "metadata": {},
   "outputs": [],
   "source": [
    "tension force, elas"
   ]
  },
  {
   "cell_type": "code",
   "execution_count": null,
   "id": "ff5103dd-52db-47a2-9948-b2ed591201a5",
   "metadata": {},
   "outputs": [],
   "source": [
    "weak strong electro"
   ]
  },
  {
   "cell_type": "code",
   "execution_count": null,
   "id": "616b98eb-1bd1-4bb2-bd38-97044b5f4dee",
   "metadata": {},
   "outputs": [],
   "source": [
    "env temper, "
   ]
  },
  {
   "cell_type": "markdown",
   "id": "637b796e-ef00-437e-ac2d-e503ccc08f22",
   "metadata": {},
   "source": [
    "### Python"
   ]
  },
  {
   "cell_type": "code",
   "execution_count": null,
   "id": "8ff2c95a-ab77-4ea8-977d-e411730004e9",
   "metadata": {},
   "outputs": [],
   "source": [
    "positions = [0, 2, 3], [2, 3, 1, 4]"
   ]
  },
  {
   "cell_type": "markdown",
   "id": "51219738-b959-4005-8fe9-8b830bf49737",
   "metadata": {},
   "source": [
    "### AI"
   ]
  },
  {
   "cell_type": "code",
   "execution_count": null,
   "id": "93dec230-474f-47dc-96de-b7b118b4dcfd",
   "metadata": {},
   "outputs": [],
   "source": [
    "import torch\n",
    "from torch import nn\n",
    "import torch.nn.functional as F"
   ]
  },
  {
   "cell_type": "code",
   "execution_count": null,
   "id": "40c46554-3e0a-458d-aacf-ed0b6dfc3b90",
   "metadata": {},
   "outputs": [],
   "source": [
    "import ray"
   ]
  },
  {
   "cell_type": "code",
   "execution_count": null,
   "id": "54451922-a41d-49ed-8906-6a4da1776af6",
   "metadata": {},
   "outputs": [],
   "source": [
    "ray.remote"
   ]
  },
  {
   "cell_type": "code",
   "execution_count": null,
   "id": "0e986858-94e6-4fe9-90c7-ea1826795f95",
   "metadata": {},
   "outputs": [],
   "source": [
    "new_ds = ds.map_batch(lambda x: np.square(x).to_list())"
   ]
  },
  {
   "cell_type": "code",
   "execution_count": null,
   "id": "c09bf4fa-f8a1-4412-a02b-42116510c6fe",
   "metadata": {},
   "outputs": [],
   "source": [
    "ray.get()"
   ]
  },
  {
   "cell_type": "code",
   "execution_count": null,
   "id": "7189b2f1-9e9a-434b-9639-88efba4af4cf",
   "metadata": {},
   "outputs": [],
   "source": [
    "ray.shutdown()"
   ]
  },
  {
   "cell_type": "code",
   "execution_count": null,
   "id": "6e5aa89c-74a9-4643-ab7f-bcb61638ff20",
   "metadata": {},
   "outputs": [],
   "source": [
    "ray.repartion"
   ]
  },
  {
   "cell_type": "code",
   "execution_count": null,
   "id": "dd11de85-422f-4dda-9c55-8522769135c9",
   "metadata": {},
   "outputs": [],
   "source": [
    "ray.data.from_items"
   ]
  },
  {
   "cell_type": "code",
   "execution_count": null,
   "id": "1768de65-d0d5-4fa8-920a-f575715e98bb",
   "metadata": {},
   "outputs": [],
   "source": [
    "from ray import tune"
   ]
  },
  {
   "cell_type": "code",
   "execution_count": null,
   "id": "f79d24e5-dcce-49cc-8a9a-8bf0b50bbfe8",
   "metadata": {},
   "outputs": [],
   "source": [
    "tune.run().get_best_config(score=\"loss\", mode=\"min\")"
   ]
  },
  {
   "cell_type": "code",
   "execution_count": null,
   "id": "7f0c985b-25bd-4466-b99f-9fc9bb6f3702",
   "metadata": {},
   "outputs": [],
   "source": [
    "new_xs.at(2).set()"
   ]
  },
  {
   "cell_type": "code",
   "execution_count": null,
   "id": "a86f4c27-5845-47c9-80d6-91d4942d5e12",
   "metadata": {},
   "outputs": [],
   "source": [
    "torch.from_numpy(x)"
   ]
  },
  {
   "cell_type": "code",
   "execution_count": null,
   "id": "89aa31b3-fa5c-4e11-a64d-4f2462772f66",
   "metadata": {},
   "outputs": [],
   "source": [
    "from langchain.agents import AgentExecutor"
   ]
  },
  {
   "cell_type": "code",
   "execution_count": null,
   "id": "a97ad320-551b-4970-ad10-2f3358e44ae8",
   "metadata": {},
   "outputs": [],
   "source": [
    "torch.topk(k=6, dim=1)"
   ]
  },
  {
   "cell_type": "code",
   "execution_count": null,
   "id": "ae3c568f-d927-41d5-a775-2b7303ea9817",
   "metadata": {},
   "outputs": [],
   "source": [
    "def loss(loss_real, loss_fake):\n",
    "    return n*loss_real + loss_fake"
   ]
  },
  {
   "cell_type": "code",
   "execution_count": null,
   "id": "8acdaecb-4149-477e-b3d1-88203478ebf8",
   "metadata": {},
   "outputs": [],
   "source": [
    "from torch.nn.utils import clip_grad_norm_"
   ]
  },
  {
   "cell_type": "code",
   "execution_count": null,
   "id": "5301ead8-7757-4b7b-94c7-f399930b37a3",
   "metadata": {},
   "outputs": [],
   "source": [
    "clip_grad_norm_(param_1, xx)"
   ]
  },
  {
   "cell_type": "code",
   "execution_count": null,
   "id": "c951fe81-9881-44f3-9d8a-562f24513c50",
   "metadata": {},
   "outputs": [],
   "source": [
    "class PositionalEncoding(nn.Module):\n",
    "    def __init__(self, n, d_model):\n",
    "        super().__init__()\n",
    "        self.n = n\n",
    "        self.d_model = d_model\n",
    "    \n",
    "    def forward(self, tokens):\n",
    "        n_tokens = len(tokens)\n",
    "        embeddings = torch.zeros(n_tokens, self.d_model)\n",
    "        \n",
    "        for p in range(n_tokens):\n",
    "            for i in range(self.d_model):\n",
    "                val = p/torch.pow(self.n, 2*i/self.d_model)\n",
    "                embeddings[p][i] = torch.cos(val) if i % 2 == 0 else torch.sin(val)\n",
    "        \n",
    "        return embeddings"
   ]
  },
  {
   "cell_type": "code",
   "execution_count": null,
   "id": "bcc40543-7df4-4808-9be0-58ad5a84ab0e",
   "metadata": {},
   "outputs": [],
   "source": [
    "positional_encoding = PositionalEncoding(200, 5)"
   ]
  },
  {
   "cell_type": "code",
   "execution_count": null,
   "id": "a7faaaf3-bbe3-46ad-b9aa-9f161f75040f",
   "metadata": {},
   "outputs": [],
   "source": [
    "embedding = nn.Embedding(num_embeddings=100, embedding_dim=5, padding_idx=5)"
   ]
  },
  {
   "cell_type": "code",
   "execution_count": null,
   "id": "4efd7f5d-91c3-4ee2-922a-f132252be8bb",
   "metadata": {},
   "outputs": [],
   "source": [
    "def generate_transitions(model, env):\n",
    "    states = []\n",
    "    state, _ = env.reset()\n",
    "    done = False\n",
    "    \n",
    "    while done:\n",
    "        rewards = model(state)\n",
    "        action = torch.argmax(rewards, dim=-1)\n",
    "        \n",
    "        state, reward, done, truncated, info = env.step(action)\n",
    "        \n",
    "        if done:\n",
    "            break\n",
    "        else:\n",
    "            states.append(state)"
   ]
  },
  {
   "cell_type": "code",
   "execution_count": null,
   "id": "49d0ce4d-a379-455f-b11e-edfa6f4ba58e",
   "metadata": {},
   "outputs": [],
   "source": [
    "stride, in out"
   ]
  }
 ],
 "metadata": {
  "kernelspec": {
   "display_name": "Python 3 (ipykernel)",
   "language": "python",
   "name": "python3"
  }
 },
 "nbformat": 4,
 "nbformat_minor": 5
}
