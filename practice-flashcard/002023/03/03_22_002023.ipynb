{
 "cells": [
  {
   "cell_type": "markdown",
   "id": "23702e72-1aef-44fa-bbda-b5e9c3e52136",
   "metadata": {},
   "source": [
    "### Science"
   ]
  },
  {
   "cell_type": "code",
   "execution_count": null,
   "id": "96bb8a80-8d1c-44dc-b09a-1ccb89243166",
   "metadata": {},
   "outputs": [],
   "source": [
    "population decoding, motor imagery, condition response, "
   ]
  },
  {
   "cell_type": "code",
   "execution_count": null,
   "id": "f687bf97-c5ed-4904-84e8-c1653d6783c5",
   "metadata": {},
   "outputs": [],
   "source": [
    "neuron1 > axon > synapse > dendrite > neuron 2"
   ]
  },
  {
   "cell_type": "markdown",
   "id": "b44fc250-f9e1-441e-8198-213a955592bd",
   "metadata": {},
   "source": [
    "### Python"
   ]
  },
  {
   "cell_type": "code",
   "execution_count": null,
   "id": "b0b0140b-aa0c-48a0-98a5-eb8c2ebaf93f",
   "metadata": {},
   "outputs": [],
   "source": []
  },
  {
   "cell_type": "code",
   "execution_count": null,
   "id": "b23a7dc2-8a8a-4785-b053-5cf80f3fc04b",
   "metadata": {},
   "outputs": [],
   "source": [
    "my_func(a=3, c=8)"
   ]
  },
  {
   "cell_type": "markdown",
   "id": "1c32fc85-8cfb-4e7a-a4c5-f5bd0a730925",
   "metadata": {},
   "source": [
    "### AI"
   ]
  },
  {
   "cell_type": "code",
   "execution_count": null,
   "id": "f4fd01c7-4184-47a1-9ded-5e37368aec74",
   "metadata": {},
   "outputs": [],
   "source": [
    "import torch\n",
    "from torch import nn\n",
    "import torch.nn.functional as F"
   ]
  },
  {
   "cell_type": "code",
   "execution_count": null,
   "id": "9b354566-89aa-4256-90dc-7afd7680a82b",
   "metadata": {},
   "outputs": [],
   "source": [
    "from langchain.agents import AgentExecutor"
   ]
  },
  {
   "cell_type": "code",
   "execution_count": null,
   "id": "d598364d-66c3-42d4-96d3-e5fffdc63a9c",
   "metadata": {},
   "outputs": [],
   "source": [
    "agent_exectuor = AgentExecutor(agent=agent, tools=tools)"
   ]
  },
  {
   "cell_type": "code",
   "execution_count": null,
   "id": "98e5ac0b-4e54-4fac-bc49-a23b4438bb22",
   "metadata": {},
   "outputs": [],
   "source": [
    "agent_executor.run(questions)"
   ]
  },
  {
   "cell_type": "code",
   "execution_count": null,
   "id": "e06dc8a3-3167-4f71-b099-ad4729fc0147",
   "metadata": {},
   "outputs": [],
   "source": [
    "from langchain.agents import ZeroShotAgent"
   ]
  },
  {
   "cell_type": "code",
   "execution_count": null,
   "id": "adad26aa-590f-45ed-828c-b8d1f5b6f14c",
   "metadata": {},
   "outputs": [],
   "source": [
    "simple, llm, transform"
   ]
  },
  {
   "cell_type": "code",
   "execution_count": null,
   "id": "208293c2-c635-458f-ad6f-5ac960b8bff6",
   "metadata": {},
   "outputs": [],
   "source": [
    "from langchain.document_loaders"
   ]
  },
  {
   "cell_type": "code",
   "execution_count": null,
   "id": "a40bb888-91a2-46f4-ac28-9c07dc79eb8a",
   "metadata": {},
   "outputs": [],
   "source": [
    "from langchain.indexes import VectorstoreIndexCreator"
   ]
  },
  {
   "cell_type": "code",
   "execution_count": null,
   "id": "48858222-aa37-4c52-a60e-5a79f8292a16",
   "metadata": {},
   "outputs": [],
   "source": [
    "index = VectorstoreIndexCreator().from_loaders([loader])"
   ]
  },
  {
   "cell_type": "code",
   "execution_count": null,
   "id": "54753a6e-0e2e-49eb-b083-55f430050c2b",
   "metadata": {},
   "outputs": [],
   "source": [
    "from torch.utils.data import tran"
   ]
  },
  {
   "cell_type": "code",
   "execution_count": null,
   "id": "86fa7fbc-1f8d-4c38-940b-f572d9be6bda",
   "metadata": {},
   "outputs": [],
   "source": [
    "transform = tfms.ToCompose([\n",
    "    tfms.ToTensor(),\n",
    "    tfms.Normalize(0.3, 0.9)\n",
    "])"
   ]
  },
  {
   "cell_type": "code",
   "execution_count": null,
   "id": "00c1e2eb-8901-4c2a-9f53-eef70dfae52a",
   "metadata": {},
   "outputs": [],
   "source": [
    "def summary_batch(article_batches, max_context_length):\n",
    "    results = []\n",
    "    for batch in article_batches:\n",
    "        encoded_batch = tokenizer(\n",
    "            batch,\n",
    "            return_tensors=\"pt\",\n",
    "            padding=True,\n",
    "            truncation=True\n",
    "        )\n",
    "        \n",
    "        output = model.generate(\n",
    "            input_ids=encoded_batch[\"input_ids\"],\n",
    "            attention_mask=encoded_batch[\"attention_mask\"]\n",
    "        )\n",
    "        \n",
    "        decoded_output = [tokenizer.decode(x) for x in output]\n",
    "        results.append(decoded_output)\n",
    "    \n",
    "    return results"
   ]
  },
  {
   "cell_type": "code",
   "execution_count": null,
   "id": "d698b6c5-0cc6-45fd-96b4-d4921894ebae",
   "metadata": {},
   "outputs": [],
   "source": [
    "from torch.nn.utils import clip_grad_norm_"
   ]
  },
  {
   "cell_type": "code",
   "execution_count": null,
   "id": "3d51f195-aaa4-438f-8783-d67cad4a206b",
   "metadata": {},
   "outputs": [],
   "source": [
    "clip_grad_norm_(para,)"
   ]
  },
  {
   "cell_type": "code",
   "execution_count": null,
   "id": "a91fba04-7180-4570-b60d-eed8445cb122",
   "metadata": {},
   "outputs": [],
   "source": [
    "def accuracy(probs, targs):\n",
    "    return probs[range(targs.shape[-1]), target]"
   ]
  },
  {
   "cell_type": "code",
   "execution_count": null,
   "id": "efb3a6ca-35ef-40e4-b25e-8b17712d9120",
   "metadata": {},
   "outputs": [],
   "source": [
    "from langchain.agents import ZeroShotAgent"
   ]
  },
  {
   "cell_type": "code",
   "execution_count": null,
   "id": "a5137f14-df73-40bc-a5e5-85a6b4176b03",
   "metadata": {},
   "outputs": [],
   "source": [
    "ZeroShotAgent.create_prompt"
   ]
  },
  {
   "cell_type": "code",
   "execution_count": null,
   "id": "fec104c4-683a-412b-817a-67f9191ba222",
   "metadata": {},
   "outputs": [],
   "source": [
    "from torch.nn.utils import clip_grad_norm_"
   ]
  },
  {
   "cell_type": "code",
   "execution_count": null,
   "id": "ca4018da-e203-4ffa-9b4d-1609bb738c29",
   "metadata": {},
   "outputs": [],
   "source": [
    "clip_grad_norm_(param_1, max_norm=1.0)"
   ]
  },
  {
   "cell_type": "code",
   "execution_count": null,
   "id": "d45322c8-db78-4334-a406-7cce090baba3",
   "metadata": {},
   "outputs": [],
   "source": [
    "agent, tool, llm"
   ]
  },
  {
   "cell_type": "code",
   "execution_count": null,
   "id": "53eb004a-e307-4e25-8b6d-f9212425d266",
   "metadata": {},
   "outputs": [],
   "source": [
    "def accuracy(probs, targs):\n",
    "    pred_idxs = torch.argmax(probs, dim=-1)\n",
    "    return (pred_idxs == targs).mean()"
   ]
  }
 ],
 "metadata": {
  "kernelspec": {
   "display_name": "Python 3 (ipykernel)",
   "language": "python",
   "name": "python3"
  },
  "language_info": {
   "codemirror_mode": {
    "name": "ipython",
    "version": 3
   },
   "file_extension": ".py",
   "mimetype": "text/x-python",
   "name": "python",
   "nbconvert_exporter": "python",
   "pygments_lexer": "ipython3",
   "version": "3.8.16"
  }
 },
 "nbformat": 4,
 "nbformat_minor": 5
}
