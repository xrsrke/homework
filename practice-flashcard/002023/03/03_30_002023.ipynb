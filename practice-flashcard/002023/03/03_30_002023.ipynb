{
 "cells": [
  {
   "cell_type": "markdown",
   "id": "7624c75c-c1e5-4198-bb88-d9e40cf4fece",
   "metadata": {},
   "source": [
    "### Science"
   ]
  },
  {
   "cell_type": "code",
   "execution_count": null,
   "id": "33b94610-ea22-487f-9c2a-63b8180c69ab",
   "metadata": {},
   "outputs": [],
   "source": [
    "silent, point, frameshift"
   ]
  },
  {
   "cell_type": "code",
   "execution_count": null,
   "id": "fd24272e-1208-4f38-8d0c-2bf69591e8dd",
   "metadata": {},
   "outputs": [],
   "source": [
    "retina > cord > thalamus > visual coret"
   ]
  },
  {
   "cell_type": "code",
   "execution_count": null,
   "id": "b740df9b-998d-4df2-a35a-d36b1a9b90c3",
   "metadata": {},
   "outputs": [],
   "source": [
    "photoceptor > bipolar > ganglia"
   ]
  },
  {
   "cell_type": "markdown",
   "id": "18bc78c3-d8c0-4665-a887-824b9d09ed37",
   "metadata": {},
   "source": [
    "### Python"
   ]
  },
  {
   "cell_type": "code",
   "execution_count": null,
   "id": "e53b9d42-f814-4258-aacb-34e82114742f",
   "metadata": {},
   "outputs": [],
   "source": [
    "from typing import Callable"
   ]
  },
  {
   "cell_type": "code",
   "execution_count": null,
   "id": "53d1fcdd-df43-410d-bdb6-c6969dfcdb4a",
   "metadata": {},
   "outputs": [],
   "source": [
    "def foo(func: Callable[int, int] -> str) -> str:\n",
    "    pass"
   ]
  },
  {
   "cell_type": "markdown",
   "id": "291f83eb-04e2-4032-ae87-2954c255b840",
   "metadata": {},
   "source": [
    "### AI"
   ]
  },
  {
   "cell_type": "code",
   "execution_count": null,
   "id": "1a960c02-ffc6-478c-993f-eb9a84cc5693",
   "metadata": {},
   "outputs": [],
   "source": [
    "import ray"
   ]
  },
  {
   "cell_type": "code",
   "execution_count": null,
   "id": "41ac7fd9-f0e0-4d8e-893a-7419799d831d",
   "metadata": {},
   "outputs": [],
   "source": [
    "from ray.train.rl.rl_trainer import RLTrainer\n",
    "from ray.air.config import ScalingConfig"
   ]
  },
  {
   "cell_type": "code",
   "execution_count": null,
   "id": "c36e04ce-fa73-436d-9784-f4aab1dba0c8",
   "metadata": {},
   "outputs": [],
   "source": [
    "trainer = RLTrainer(\n",
    "    algorithm=\"PPO\",\n",
    "    scaling=ScalingConfig(num_workers=3)\n",
    ")"
   ]
  },
  {
   "cell_type": "code",
   "execution_count": null,
   "id": "b5d2b77a-66ef-4976-9591-816974914f26",
   "metadata": {},
   "outputs": [],
   "source": [
    "from ray import tune\n",
    "from ray.tune.schedulers import HyperBandScheduler"
   ]
  },
  {
   "cell_type": "code",
   "execution_count": null,
   "id": "441f3480-6c1a-4a40-986e-80884c139174",
   "metadata": {},
   "outputs": [],
   "source": [
    "tune.run(\n",
    "    objective,\n",
    "    config=search_space,\n",
    "    scheduler=HyperBandScheduler\n",
    ")"
   ]
  },
  {
   "cell_type": "code",
   "execution_count": null,
   "id": "40258203-d92f-4354-8d45-e0efb4236a2d",
   "metadata": {},
   "outputs": [],
   "source": [
    "from ray.train.rl.rl_trainer import RLTrainer"
   ]
  },
  {
   "cell_type": "code",
   "execution_count": null,
   "id": "3861413d-59f0-4aad-9342-828bed3523cd",
   "metadata": {},
   "outputs": [],
   "source": [
    "import torch\n",
    "from torch import nn\n",
    "import torch.nn.functional as F"
   ]
  },
  {
   "cell_type": "code",
   "execution_count": null,
   "id": "1917a725-dc25-4d65-9674-b8bdd0f75181",
   "metadata": {},
   "outputs": [],
   "source": [
    "from torch.utils.data import DataLoader, random_split"
   ]
  },
  {
   "cell_type": "code",
   "execution_count": null,
   "id": "418fb954-67ce-47f8-be9f-f32a396e2bad",
   "metadata": {},
   "outputs": [],
   "source": [
    "train_data, valid_data = random_split(dataset, lengths=[6, 4])"
   ]
  },
  {
   "cell_type": "code",
   "execution_count": null,
   "id": "60bbcd78-6608-48a3-813b-50501a3b89f0",
   "metadata": {},
   "outputs": [],
   "source": [
    "train_loader = DataLoader(train_data, batch_size=2)\n",
    "valid_loader = DataLoader(valid_data, batch_size=2)"
   ]
  },
  {
   "cell_type": "code",
   "execution_count": null,
   "id": "65a0aaec-3f84-4cd4-bc1f-71b38c9677bd",
   "metadata": {},
   "outputs": [],
   "source": [
    "torch.amax(x, dim=1)"
   ]
  },
  {
   "cell_type": "code",
   "execution_count": null,
   "id": "92b1713c-cef7-40c5-bd9a-b6275d272765",
   "metadata": {},
   "outputs": [],
   "source": [
    "from ray.trainer.rl import RLTrainer"
   ]
  },
  {
   "cell_type": "code",
   "execution_count": null,
   "id": "1c7561cf-a0a2-4113-ac22-10f14a34b986",
   "metadata": {},
   "outputs": [],
   "source": [
    "trainer = RLTrainer(algorithm=\"PPO\")"
   ]
  },
  {
   "cell_type": "code",
   "execution_count": null,
   "id": "569da8b8-b225-4584-bf57-fa571ab9a960",
   "metadata": {},
   "outputs": [],
   "source": [
    "avg_pool = nn.AdaptiveAvgPool2d"
   ]
  },
  {
   "cell_type": "code",
   "execution_count": null,
   "id": "a8a72820-ba3c-4008-8ecb-681929ccbc81",
   "metadata": {},
   "outputs": [],
   "source": [
    "avg_pool = nn.AdaptiveAvgPool2d((3, 4))"
   ]
  }
 ],
 "metadata": {
  "kernelspec": {
   "display_name": "Python 3 (ipykernel)",
   "language": "python",
   "name": "python3"
  }
 },
 "nbformat": 4,
 "nbformat_minor": 5
}
