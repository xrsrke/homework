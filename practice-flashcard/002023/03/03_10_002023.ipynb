{
 "cells": [
  {
   "cell_type": "markdown",
   "id": "60ab4c78-f374-4c9d-8c5b-0cd95dfe3194",
   "metadata": {},
   "source": [
    "### Science"
   ]
  },
  {
   "cell_type": "code",
   "execution_count": null,
   "id": "b85812e5-5460-4860-a391-fdaab8f9c635",
   "metadata": {},
   "outputs": [],
   "source": [
    "step 1: electromagnetic radiation\n",
    "step 2: send ER to the implanted device\n",
    "step 3: the device stimulate the healthy cell\n",
    "step 4: healthy cells send it to the brain\n",
    "step 5: the brain reconstruct "
   ]
  },
  {
   "cell_type": "code",
   "execution_count": null,
   "id": "61966594-1744-42db-bb61-1fc66b5caf8d",
   "metadata": {},
   "outputs": [],
   "source": [
    "biocompatible, reliable decoder under neural plasticity, "
   ]
  },
  {
   "cell_type": "code",
   "execution_count": null,
   "id": "1e183996-86cc-4a05-816c-d67f16632b04",
   "metadata": {},
   "outputs": [],
   "source": [
    "Q = H + ST"
   ]
  },
  {
   "cell_type": "code",
   "execution_count": null,
   "id": "846dad2d-c895-40db-874f-aa658257daff",
   "metadata": {},
   "outputs": [],
   "source": [
    "import sympy as smp"
   ]
  },
  {
   "cell_type": "code",
   "execution_count": null,
   "id": "5733d60a-c878-4549-b66e-35eb68ca6d54",
   "metadata": {},
   "outputs": [],
   "source": [
    "delta_H = smp.Symbol(\"\\Delta H\")\n",
    "delta_S = smp.Symbol(\"\\Delta S\")\n",
    "delta_G = smp.Symbol(\"\\Delta G\")\n",
    "delta_t = smp.Symbol(\"\\Delta t\")"
   ]
  },
  {
   "cell_type": "code",
   "execution_count": null,
   "id": "c82b8499-f77e-4b8d-bdad-a92a727c7f1d",
   "metadata": {},
   "outputs": [],
   "source": [
    "eq = smp.Eq(delta_G, delta_H - delta_S*delta_t)"
   ]
  },
  {
   "cell_type": "code",
   "execution_count": null,
   "id": "1c15ef74-8c79-4a4f-b415-a225115786ee",
   "metadata": {},
   "outputs": [
    {
     "data": {
      "text/latex": [
       "$\\displaystyle \\Delta G = \\Delta H - \\Delta S \\Delta t$"
      ],
      "text/plain": [
       "Eq(\\Delta G, \\Delta H - \\Delta S*\\Delta t)"
      ]
     },
     "execution_count": null,
     "metadata": {},
     "output_type": "execute_result"
    }
   ],
   "source": [
    "eq"
   ]
  },
  {
   "cell_type": "code",
   "execution_count": null,
   "id": "2d396050-3da7-461e-9192-da094f022298",
   "metadata": {},
   "outputs": [],
   "source": []
  },
  {
   "cell_type": "code",
   "execution_count": null,
   "id": "74cf4e68-ca8f-4f3f-ab3c-1da854145d7c",
   "metadata": {},
   "outputs": [],
   "source": [
    "delta_G = smp.Symbol(\"\\Delta G\")"
   ]
  },
  {
   "cell_type": "code",
   "execution_count": null,
   "id": "53b7b1e4-abb2-40b8-b0b8-261babefa516",
   "metadata": {},
   "outputs": [],
   "source": [
    "delta_S = smp.Symbol(\"\\Delta S\")\n",
    "delta_H = smp.Symbol(\"\\Delta H\")\n",
    "T = smp.Symbol(\"T\")"
   ]
  },
  {
   "cell_type": "code",
   "execution_count": null,
   "id": "b14bc3ed-85fc-44db-9ab1-da14570ac298",
   "metadata": {},
   "outputs": [
    {
     "data": {
      "text/latex": [
       "$\\displaystyle \\Delta G$"
      ],
      "text/plain": [
       "\\Delta G"
      ]
     },
     "execution_count": null,
     "metadata": {},
     "output_type": "execute_result"
    }
   ],
   "source": [
    "delta_G"
   ]
  },
  {
   "cell_type": "code",
   "execution_count": null,
   "id": "a75934a6-372f-4925-9caf-c44edc62f0d8",
   "metadata": {},
   "outputs": [],
   "source": [
    "eq = smp.Eq(delta_G, delta_H - delta_S*T)"
   ]
  },
  {
   "cell_type": "code",
   "execution_count": null,
   "id": "14aaf9c0-da74-40e8-b892-f6d86d789d67",
   "metadata": {},
   "outputs": [
    {
     "data": {
      "text/latex": [
       "$\\displaystyle \\Delta G = - T \\Delta S + \\Delta H$"
      ],
      "text/plain": [
       "Eq(\\Delta G, -T*\\Delta S + \\Delta H)"
      ]
     },
     "execution_count": null,
     "metadata": {},
     "output_type": "execute_result"
    }
   ],
   "source": [
    "eq"
   ]
  },
  {
   "cell_type": "code",
   "execution_count": null,
   "id": "499a5c1c-6034-4d0e-adae-c6690f87b9c4",
   "metadata": {},
   "outputs": [],
   "source": [
    "import sympy.physics.units as units"
   ]
  },
  {
   "cell_type": "code",
   "execution_count": null,
   "id": "0eac4a17-1cb0-4f85-afff-b1a26fc8afc8",
   "metadata": {},
   "outputs": [
    {
     "data": {
      "text/latex": [
       "$\\displaystyle \\Delta G = 53324.4 \\text{J}$"
      ],
      "text/plain": [
       "Eq(\\Delta G, 53324.4*joule)"
      ]
     },
     "execution_count": null,
     "metadata": {},
     "output_type": "execute_result"
    }
   ],
   "source": [
    "eq.subs({\n",
    "    delta_H: 95.7*units.joule*1000,\n",
    "    delta_S: 142.2*units.joule/units.kelvin,\n",
    "    T: 298*units.kelvin\n",
    "})"
   ]
  },
  {
   "cell_type": "markdown",
   "id": "8e44e95b-8635-4e07-8946-996148e97a48",
   "metadata": {},
   "source": [
    "### AI"
   ]
  },
  {
   "cell_type": "code",
   "execution_count": null,
   "id": "29ce6770-659e-4fec-9119-2cfc07a5f72e",
   "metadata": {},
   "outputs": [],
   "source": [
    "import torch\n",
    "from torch import nn\n",
    "import torch.nn.functional as F"
   ]
  },
  {
   "cell_type": "code",
   "execution_count": null,
   "id": "ea2f4da0-0ea7-40ed-83cd-b9e2011ec407",
   "metadata": {},
   "outputs": [],
   "source": [
    "import pytorch_lightning as pl"
   ]
  },
  {
   "cell_type": "code",
   "execution_count": null,
   "id": "37bcec26-2897-4b6e-9e2d-267e0e50f7e6",
   "metadata": {},
   "outputs": [],
   "source": [
    "from jax import vmap"
   ]
  },
  {
   "cell_type": "code",
   "execution_count": null,
   "id": "fbb31468-6eba-40f7-b9cc-a9b077568a76",
   "metadata": {},
   "outputs": [],
   "source": [
    "vmap(multiply)(xs, ys)"
   ]
  },
  {
   "cell_type": "code",
   "execution_count": null,
   "id": "2af857ca-7946-49f5-930b-b3f3ffd32ce0",
   "metadata": {},
   "outputs": [],
   "source": [
    "multi, mask-multi, position, skip,"
   ]
  },
  {
   "cell_type": "code",
   "execution_count": null,
   "id": "40284c37-30d3-4884-ac35-c62cb7b5bf7e",
   "metadata": {},
   "outputs": [],
   "source": [
    "def probability_scores(image_embedding, text_embedding):\n",
    "    target_image = torch.matmul(image_embedding, image_embedding.T)\n",
    "    target_text = torch.matmul(text_embedding, text_embedding.T)\n",
    "    \n",
    "    target = F.softmax(target_image + target_text / 2*T, dim=-1)\n",
    "    \n",
    "    return target"
   ]
  },
  {
   "cell_type": "code",
   "execution_count": null,
   "id": "824691e7-64f8-474a-8e28-31c79aeb7921",
   "metadata": {},
   "outputs": [],
   "source": [
    "class ResidualLayerNorm(nn.Module):\n",
    "    def __init__(self, d_model, dropout):\n",
    "        super().__init__()\n",
    "        self.layer_norm = nn.LayerNorm(d_model)\n",
    "        self.dropout = nn.Dropout(dropout)\n",
    "    \n",
    "    def forward(self, x, residual):\n",
    "        return self.layer_norm(self.dropout(x) + residual)"
   ]
  },
  {
   "cell_type": "code",
   "execution_count": null,
   "id": "a999ecb3-3d60-452e-a2ca-ff3e3ab5516e",
   "metadata": {},
   "outputs": [],
   "source": [
    "conv = nn.Conv2d(in_channels=3, out_channels=5, kernel_size=3, stride=1, padding=1)"
   ]
  },
  {
   "cell_type": "code",
   "execution_count": null,
   "id": "b6be1a8a-ba1a-4549-9bb4-96eba5726383",
   "metadata": {},
   "outputs": [],
   "source": []
  },
  {
   "cell_type": "code",
   "execution_count": null,
   "id": "4dcd7e2c-0caf-42d6-a28b-90e3163f41dd",
   "metadata": {},
   "outputs": [],
   "source": [
    "np.max(M, dim=1)"
   ]
  },
  {
   "cell_type": "markdown",
   "id": "0a09e770-3f12-4ed1-b2ff-24da6f46b376",
   "metadata": {},
   "source": [
    "positional encoding, multi, masked-multi, layer norm, skip connection, linear"
   ]
  },
  {
   "cell_type": "code",
   "execution_count": null,
   "id": "a14346a9-f3d3-4b3e-a9d8-a3503f994abd",
   "metadata": {},
   "outputs": [],
   "source": []
  },
  {
   "cell_type": "markdown",
   "id": "abf7aafb-5664-42af-8263-a8abadadebff",
   "metadata": {},
   "source": [
    "The notation $\\mathcal{E}$ represents a list of edit requests. Each edit request is represented by a triple of values $(s_i, r_i, o_i)$, where $s_i$ represents the subject, $r_i$ represents the relation, and $o_i$ represents the object. For example, one edit request could be $(s=$Michael Jordan$, r=$plays sport$, o=$basketball$)$.\n",
    "\n",
    "The symbol $\\mid$ means \"such that,\" and the notation $i$ after the vertical line means that the statement following the vertical line applies to all values of $i$ in the list $\\mathcal{E}$.\n",
    "\n",
    "The symbol $\\wedge$ represents the logical operator \"and.\" So the statement $\\left(s_i=s_j\\right) \\wedge\\left(r_i=r_j\\right) \\wedge\\left(o_i \\neq o_j\\right)$ means that for any two edit requests with indices $i$ and $j$, if the subject and relation are the same (i.e., $s_i=s_j$ and $r_i=r_j$), then the objects must be different (i.e., $o_i \\neq o_j$) to avoid conflicts. This logical constraint ensures that there are no conflicting edit requests for the same subject and relation.\n",
    "\n",
    "Therefore, the whole expression $\\mathcal{E}=\\left{\\left(s_i, r_i, o_i\\right) \\mid i\\right} \\text { s.t. } ¥ i, j .\\left(s_i=s_j\\right) \\wedge\\left(r_i=r_j\\right) \\wedge\\left(o_i \\neq o_j\\right)$ means that the list $\\mathcal{E}$ contains all edit requests represented as triples $(s_i, r_i, o_i)$, where $i$ is an index that ranges over all possible edit requests, and the logical constraint ensures that there are no conflicting edit requests for the same subject and relation."
   ]
  },
  {
   "cell_type": "code",
   "execution_count": null,
   "id": "9f4b0970-3529-490e-82d7-60c87b4a51b9",
   "metadata": {},
   "outputs": [],
   "source": []
  },
  {
   "cell_type": "code",
   "execution_count": null,
   "id": "d2cf7853-9121-47f7-9905-050c06f66d75",
   "metadata": {},
   "outputs": [],
   "source": []
  },
  {
   "cell_type": "markdown",
   "id": "d3f0c50d-e42b-448b-ac32-08d4f17840cb",
   "metadata": {},
   "source": [
    "The Moore-Penrose pseudoinverse is a generalization of the matrix inverse for non-square matrices. Given a matrix $K$ of size $m \\times n$, its pseudoinverse $K^+$ is an $n \\times m$ matrix such that $K K^+ K = K$ and $K^+ K K^+ = K^+$.\n",
    "\n",
    "Using the pseudoinverse, we can solve the equation $W K \\approx V$ for $W$. Specifically, we can compute $W$ as $W=V K^+$, which provides the least-squares solution to the equation. In other words, it finds the matrix $W$ that is closest in terms of Euclidean distance to $V K$, subject to the constraint that $W$ is of the appropriate size and can be multiplied by $K$. This is a useful technique for finding the best linear approximation of $V$ given $K$, which is the underlying idea behind the linear associative memory model."
   ]
  },
  {
   "cell_type": "code",
   "execution_count": null,
   "id": "57b91c3a-c3a2-4021-a39d-92ad6d6b9ced",
   "metadata": {},
   "outputs": [],
   "source": []
  },
  {
   "cell_type": "code",
   "execution_count": null,
   "id": "d0c3b10d-1067-46dc-9998-acb0c94db0a0",
   "metadata": {},
   "outputs": [],
   "source": []
  },
  {
   "cell_type": "markdown",
   "id": "7a0950ae-23c3-4b25-b79e-ece218ea08c5",
   "metadata": {},
   "source": [
    "The equation you've provided defines the objective for updating the weight matrix $W_0$ to $W_1$ in a single layer of a transformer MLP model, given a set of input keys $k_i$ and corresponding memory values $m_i$.\n",
    "\n",
    "The first part of the objective function is the same as the one defined in Eqn. 7, which computes the squared error between the current weight matrix $W_0$ and the previously memorized keys $k_i$ and corresponding memory values $m_i$. The summation $\\sum_{i=1}^n\\left|\\hat{W} k_i-m_i\\right|^2$ computes the error for the $n$ previously memorized associations.\n",
    "\n",
    "The second part of the objective function introduces a new set of input keys $k_i$ and corresponding memory values $m_i$ (denoted by $u$), and computes the squared error between the updated weight matrix $\\hat{W}$ and the new input keys and memory values. The summation $\\sum_{i=n+1}^{n+u}\\left|\\hat{W} k_i-m_i\\right|^2$ computes the error for the new $u$ associations that we want to add to the memory.\n",
    "\n",
    "The overall objective of the equation is to find the weight matrix $\\hat{W}$ that minimizes the combined squared error for the previously memorized associations and the new associations we want to add. This is done by minimizing the sum of the two squared error terms using an optimization algorithm. The resulting $\\hat{W}$ is the updated weight matrix $W_1$ that stores both the previously memorized associations and the new associations."
   ]
  },
  {
   "cell_type": "code",
   "execution_count": null,
   "id": "64379a08-d0cb-4d91-ba97-4de861a57f08",
   "metadata": {},
   "outputs": [],
   "source": []
  }
 ],
 "metadata": {
  "kernelspec": {
   "display_name": "Python 3 (ipykernel)",
   "language": "python",
   "name": "python3"
  }
 },
 "nbformat": 4,
 "nbformat_minor": 5
}
