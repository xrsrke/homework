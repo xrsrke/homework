{
 "cells": [
  {
   "cell_type": "markdown",
   "id": "478bc0d2-f230-4b27-b98e-7ef0f7269a22",
   "metadata": {},
   "source": [
    "### Science"
   ]
  },
  {
   "cell_type": "code",
   "execution_count": null,
   "id": "7dc14475-c90f-4e25-8fed-207839a65ca3",
   "metadata": {},
   "outputs": [],
   "source": [
    "import sympy as sym\n",
    "import sympy.physics.units as u"
   ]
  },
  {
   "cell_type": "code",
   "execution_count": null,
   "id": "9005e168-36ab-4526-8c5b-42cbf861bd0f",
   "metadata": {},
   "outputs": [],
   "source": [
    "neuron1 axon synapse densritge neuron 2"
   ]
  },
  {
   "cell_type": "code",
   "execution_count": null,
   "id": "5a7301d6-1779-4a7a-83cf-0782a42f5334",
   "metadata": {},
   "outputs": [],
   "source": [
    "recording, logic, stimulating, memory"
   ]
  },
  {
   "cell_type": "markdown",
   "id": "49612195-d30f-450f-b538-d08a1aeada0a",
   "metadata": {},
   "source": [
    "### Python"
   ]
  },
  {
   "cell_type": "code",
   "execution_count": null,
   "id": "80912f44-014d-4ad8-b47f-7b83a3230fd0",
   "metadata": {},
   "outputs": [],
   "source": [
    "from typing import Callable"
   ]
  },
  {
   "cell_type": "code",
   "execution_count": null,
   "id": "1215c475-5707-4061-bd26-d72d7efed8c3",
   "metadata": {},
   "outputs": [],
   "source": [
    "def foo(func: Callable[[int, int], str]) -> str:\n",
    "    return func(1, 2)"
   ]
  },
  {
   "cell_type": "code",
   "execution_count": null,
   "id": "41267a97-02d1-4e68-8ad3-9aa9cd22d05f",
   "metadata": {},
   "outputs": [],
   "source": [
    "import pytest"
   ]
  },
  {
   "cell_type": "code",
   "execution_count": null,
   "id": "92fb75dd-e8ad-4226-833f-58975068fa87",
   "metadata": {},
   "outputs": [],
   "source": [
    "def test_raise():\n",
    "    with pytest.raises(ValueError):\n",
    "        raise_exception()"
   ]
  },
  {
   "cell_type": "code",
   "execution_count": null,
   "id": "7f3acb87-be2b-4036-b298-cf5b701cbe7f",
   "metadata": {},
   "outputs": [],
   "source": [
    "slice(1, )"
   ]
  },
  {
   "cell_type": "code",
   "execution_count": null,
   "id": "996b365d-eb0e-43c0-8403-e4ecb3b0ec53",
   "metadata": {},
   "outputs": [],
   "source": [
    "cat h1.txt > h2.txt"
   ]
  },
  {
   "cell_type": "code",
   "execution_count": null,
   "id": "dde4e2fa-44f0-4a27-9ad6-aeb58c54a944",
   "metadata": {},
   "outputs": [],
   "source": [
    "x[:, 1::2]"
   ]
  },
  {
   "cell_type": "code",
   "execution_count": null,
   "id": "da75a7d0-cd6c-475c-a3db-5bd8eb41af52",
   "metadata": {},
   "outputs": [],
   "source": [
    "from typing import Union, List"
   ]
  },
  {
   "cell_type": "code",
   "execution_count": null,
   "id": "ae4b98ab-9e7a-4694-a7e6-db11f27e3bd8",
   "metadata": {},
   "outputs": [],
   "source": [
    "x: List[Union[int, float, str]]"
   ]
  },
  {
   "cell_type": "code",
   "execution_count": null,
   "id": "10188fc7-bf9a-497a-82c6-13c4553a6af9",
   "metadata": {},
   "outputs": [],
   "source": [
    "from typing import TypedDict"
   ]
  },
  {
   "cell_type": "code",
   "execution_count": null,
   "id": "3e8b1135-2ea3-4eea-a1c3-7c889ceab845",
   "metadata": {},
   "outputs": [],
   "source": [
    "class NutritionInfo(TypedDict):\n",
    "    value: int\n",
    "    unit: str"
   ]
  },
  {
   "cell_type": "code",
   "execution_count": null,
   "id": "9521f91f-1101-42ce-88b7-c46f3b80805f",
   "metadata": {},
   "outputs": [],
   "source": [
    "class RecipeNutritionInfo(TypedDict):\n",
    "    recipes_used: int\n",
    "    calories: NutritionInfo\n",
    "    carbs: NutritionInfo"
   ]
  },
  {
   "cell_type": "code",
   "execution_count": null,
   "id": "e7762126-8752-4daa-902a-484bf7309a73",
   "metadata": {},
   "outputs": [],
   "source": [
    "from typing import TypeVar"
   ]
  },
  {
   "cell_type": "code",
   "execution_count": null,
   "id": "6b025f12-44af-4d15-8949-8ce142b8848b",
   "metadata": {},
   "outputs": [],
   "source": [
    "T = TypeVar(\"T\")"
   ]
  },
  {
   "cell_type": "code",
   "execution_count": null,
   "id": "028bdc45-9722-4a7b-b452-bd1de7f62d94",
   "metadata": {},
   "outputs": [],
   "source": [
    "APIResponse = Union[T, APIError]"
   ]
  },
  {
   "cell_type": "code",
   "execution_count": null,
   "id": "7ef36a0e-185c-429d-bad2-ca8db3946d67",
   "metadata": {},
   "outputs": [],
   "source": [
    "def foo(func: Callable[[int, int], str]) -> str:\n",
    "    pass"
   ]
  },
  {
   "cell_type": "markdown",
   "id": "64522ef5-d4ca-4636-a2b2-58de08f194cd",
   "metadata": {},
   "source": [
    "### AI"
   ]
  },
  {
   "cell_type": "code",
   "execution_count": null,
   "id": "5ebd4cad-01d0-4319-861d-862ce40b20ff",
   "metadata": {},
   "outputs": [],
   "source": [
    "import torch\n",
    "import torch.nn.functional as F\n",
    "from torch import nn"
   ]
  },
  {
   "cell_type": "code",
   "execution_count": null,
   "id": "e028774e-1bb8-4225-bd2e-0fa47a2af91f",
   "metadata": {},
   "outputs": [],
   "source": [
    "pad_token_id"
   ]
  },
  {
   "cell_type": "code",
   "execution_count": null,
   "id": "532f557a-2f5e-4562-83c4-a1b51a91efbe",
   "metadata": {},
   "outputs": [],
   "source": [
    "import langchain.embeddings"
   ]
  },
  {
   "cell_type": "code",
   "execution_count": null,
   "id": "c97d6deb-44f9-44b1-9493-ab1339c961d1",
   "metadata": {},
   "outputs": [],
   "source": [
    "from jax import jit"
   ]
  },
  {
   "cell_type": "code",
   "execution_count": null,
   "id": "e85036fa-2958-4794-841e-cd973baddaed",
   "metadata": {},
   "outputs": [],
   "source": [
    "modified_square = jit(square)"
   ]
  },
  {
   "cell_type": "code",
   "execution_count": null,
   "id": "b127f622-29eb-4c08-88a3-14e3cf29754a",
   "metadata": {},
   "outputs": [],
   "source": [
    "llmchain, sequential chain, transform chain "
   ]
  },
  {
   "cell_type": "code",
   "execution_count": null,
   "id": "6a19b3b3-f29c-4930-ac95-4f8b6e5f4e90",
   "metadata": {},
   "outputs": [],
   "source": [
    "from langchain.vectorstores"
   ]
  },
  {
   "cell_type": "code",
   "execution_count": null,
   "id": "8b1357bd-f853-4770-bb40-1d31e6a06533",
   "metadata": {},
   "outputs": [],
   "source": []
  },
  {
   "cell_type": "code",
   "execution_count": null,
   "id": "0c20027a-2c6c-4b30-b422-97a1b68bca03",
   "metadata": {},
   "outputs": [],
   "source": [
    "from langchain.vectorstores import Wr"
   ]
  },
  {
   "cell_type": "code",
   "execution_count": null,
   "id": "0bd3c3b0-a96f-4d39-903b-568e323f3429",
   "metadata": {},
   "outputs": [],
   "source": [
    "from langchain.indexes import VectorstoreIndexCreator"
   ]
  },
  {
   "cell_type": "code",
   "execution_count": null,
   "id": "1a10ebe5-248e-4055-8cc1-36a1b7144bf8",
   "metadata": {},
   "outputs": [],
   "source": [
    "index = VectorstoreIndexCreator().from_loaders([loader])"
   ]
  },
  {
   "cell_type": "code",
   "execution_count": null,
   "id": "173df4e7-3faa-4f5d-9a23-c952902badaf",
   "metadata": {},
   "outputs": [],
   "source": [
    "from langchain import PromptTemplate, LLMChain"
   ]
  },
  {
   "cell_type": "code",
   "execution_count": null,
   "id": "142f4ab5-4585-4a16-b5f0-e3633b6ac34f",
   "metadata": {},
   "outputs": [],
   "source": [
    "template = \"\"\"\n",
    "This is a conversation between a user and an AI\n",
    "\n",
    "Here is some context about the current date:\n",
    "Year: {year}\n",
    "\n",
    "User: {input}\n",
    "AI:\n",
    "\"\"\""
   ]
  },
  {
   "cell_type": "code",
   "execution_count": null,
   "id": "3bf6752a-ea35-4002-91ae-fcabde56ebf2",
   "metadata": {},
   "outputs": [],
   "source": [
    "prompt_template = PromptTemplate(input_variables=[\"input\", \"year\"], template=template)"
   ]
  },
  {
   "cell_type": "code",
   "execution_count": null,
   "id": "40d2a05b-b2e7-4906-8be5-2b07c57cd01f",
   "metadata": {},
   "outputs": [],
   "source": [
    "from langchain.memory import SimpleMemory"
   ]
  },
  {
   "cell_type": "code",
   "execution_count": null,
   "id": "180fd7a8-7dfd-4494-99a9-e87470615e1b",
   "metadata": {},
   "outputs": [],
   "source": [
    "memory = SimpleMemory(memories={\"year\": 2023})"
   ]
  },
  {
   "cell_type": "code",
   "execution_count": null,
   "id": "1d5d7230-ccea-4a40-8a3d-5884ef7e0a58",
   "metadata": {},
   "outputs": [],
   "source": [
    "chain = LLMChain(memory=memory, prompt=prompt_template, llm=model)"
   ]
  },
  {
   "cell_type": "code",
   "execution_count": null,
   "id": "c7c6e0e4-bf64-4308-85cb-a0b13aef49c8",
   "metadata": {},
   "outputs": [],
   "source": [
    "from langchain.embeddings import OpenAIEmbeddings"
   ]
  },
  {
   "cell_type": "code",
   "execution_count": null,
   "id": "0f21d544-a3b9-4e9c-8c4c-d8b679b58089",
   "metadata": {},
   "outputs": [],
   "source": [
    "embeddings = OpenAIEmbeddings()"
   ]
  },
  {
   "cell_type": "code",
   "execution_count": null,
   "id": "82ce9c34-faa6-4227-8f3a-27dbf7cec8eb",
   "metadata": {},
   "outputs": [],
   "source": [
    "embeded_text = embeddings(texts)"
   ]
  },
  {
   "cell_type": "code",
   "execution_count": null,
   "id": "93ad497d-c8b2-4245-97fd-74809a392dbb",
   "metadata": {},
   "outputs": [],
   "source": [
    "from langchain.chains import SimpleSequentialChain"
   ]
  },
  {
   "cell_type": "code",
   "execution_count": null,
   "id": "21305a80-4d4b-48e5-9e29-4f11a27ce874",
   "metadata": {},
   "outputs": [],
   "source": [
    "overall_chain = SimpleSequentialChain(\n",
    "    chains=[assistant_chain, user_chain],\n",
    ")"
   ]
  },
  {
   "cell_type": "code",
   "execution_count": null,
   "id": "07aef0ac-1dd8-4ff0-b20d-02d59aa3aafc",
   "metadata": {},
   "outputs": [],
   "source": [
    "from langchain import OpenAI"
   ]
  },
  {
   "cell_type": "code",
   "execution_count": null,
   "id": "9603656a-a13d-477a-b3aa-eead1d72f265",
   "metadata": {},
   "outputs": [],
   "source": [
    "model = OpenAI()"
   ]
  },
  {
   "cell_type": "code",
   "execution_count": null,
   "id": "156cf46e-9bc4-47dd-86ec-ff8d9bfd6e28",
   "metadata": {},
   "outputs": [],
   "source": [
    "logits = output.logits"
   ]
  },
  {
   "cell_type": "code",
   "execution_count": null,
   "id": "36425962-1794-4111-9224-9cc5302e4a44",
   "metadata": {},
   "outputs": [],
   "source": [
    "from einops import repeat"
   ]
  },
  {
   "cell_type": "code",
   "execution_count": null,
   "id": "c0e3521f-988e-417f-8c59-d384aa56a83a",
   "metadata": {},
   "outputs": [],
   "source": [
    "output = repeat(x, \"h w -> h w n\", n=2)"
   ]
  },
  {
   "cell_type": "code",
   "execution_count": null,
   "id": "600a65f2-1f72-4760-a74b-7d27e44ac8ad",
   "metadata": {},
   "outputs": [],
   "source": [
    "masked_encoding = encodings.mask_fill(mask==False, -1)"
   ]
  },
  {
   "cell_type": "code",
   "execution_count": null,
   "id": "769f91e6-7216-4020-b9ab-88ff36add8df",
   "metadata": {},
   "outputs": [],
   "source": [
    "class ResidualLayerNorm(nn.Module):\n",
    "    def __init__(self, d_model, dropout):\n",
    "        super().__init__()\n",
    "        self.norm = nn.LayerNorm(d_model)\n",
    "        self.dropout = nn.Dropout(dropout)\n",
    "    \n",
    "    def forward(self, x, residual):\n",
    "        return self.norm(self.dropout(x) + residual)"
   ]
  },
  {
   "cell_type": "code",
   "execution_count": null,
   "id": "f61d726f-2e31-4566-9333-e648aa85909f",
   "metadata": {},
   "outputs": [],
   "source": [
    "n\n",
    "i"
   ]
  },
  {
   "cell_type": "code",
   "execution_count": null,
   "id": "dbee0c47-4328-43ed-8420-05c06416fb11",
   "metadata": {},
   "outputs": [],
   "source": [
    "from langchain.indexes import VectorstoreIndexCreator"
   ]
  },
  {
   "cell_type": "code",
   "execution_count": null,
   "id": "b03a7c19-8cf3-4978-9201-0d35360fe56f",
   "metadata": {},
   "outputs": [],
   "source": [
    "index = VectorstoreIndexCreator().from_loaders([loader])"
   ]
  },
  {
   "cell_type": "code",
   "execution_count": null,
   "id": "31b72097-a9e6-4e21-80f5-0db35eb07d39",
   "metadata": {},
   "outputs": [],
   "source": [
    "from langchain.text_splitter"
   ]
  },
  {
   "cell_type": "code",
   "execution_count": null,
   "id": "1f9e9cd9-7e13-477b-b811-147c40987dc6",
   "metadata": {},
   "outputs": [],
   "source": [
    "output.hidden_states[-1]"
   ]
  },
  {
   "cell_type": "code",
   "execution_count": null,
   "id": "60e6e979-10e1-48bc-800c-d459d28c850a",
   "metadata": {},
   "outputs": [],
   "source": []
  }
 ],
 "metadata": {
  "kernelspec": {
   "display_name": "Python 3 (ipykernel)",
   "language": "python",
   "name": "python3"
  }
 },
 "nbformat": 4,
 "nbformat_minor": 5
}
