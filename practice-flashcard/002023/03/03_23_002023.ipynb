{
 "cells": [
  {
   "cell_type": "markdown",
   "id": "fb5230c4-5c8f-4ef4-9af9-00f300af9e54",
   "metadata": {},
   "source": [
    "### Science"
   ]
  },
  {
   "cell_type": "markdown",
   "id": "4e0d8ba1-6fe0-4596-8dd8-906029aed4a7",
   "metadata": {},
   "source": [
    "### AI"
   ]
  },
  {
   "cell_type": "code",
   "execution_count": null,
   "id": "ebd9b723-b72a-45df-ab4c-dc34431985a2",
   "metadata": {},
   "outputs": [],
   "source": [
    "import ray"
   ]
  },
  {
   "cell_type": "code",
   "execution_count": null,
   "id": "956a70d6-fbc0-4b18-b3ea-bd11006ff596",
   "metadata": {},
   "outputs": [],
   "source": [
    "@ray.remote\n",
    "def new_retrieve(x):\n",
    "    return retrieve(x)"
   ]
  },
  {
   "cell_type": "code",
   "execution_count": null,
   "id": "b24c456d-6d93-438f-8e64-a437fb81b108",
   "metadata": {},
   "outputs": [],
   "source": [
    "completed_tasks, pending_tasks = ray.wait(tasks, num_returns=1)"
   ]
  },
  {
   "cell_type": "code",
   "execution_count": null,
   "id": "feb1a82d-5542-425b-9773-eda27e7d5f4b",
   "metadata": {},
   "outputs": [],
   "source": [
    "from ray import tune"
   ]
  },
  {
   "cell_type": "code",
   "execution_count": null,
   "id": "fdf036dc-09af-406a-b0fa-a92adbff4808",
   "metadata": {},
   "outputs": [],
   "source": [
    "def training_func(items):\n",
    "    x, y = items[\"x\"], items[\"y\"]\n",
    "    score = objective(x, y)\n",
    "    tune.report(score=score)"
   ]
  },
  {
   "cell_type": "code",
   "execution_count": null,
   "id": "a061a665-fafc-4b3c-bd66-2d8317739689",
   "metadata": {},
   "outputs": [],
   "source": [
    "result = tune.run(training_func=training_func, config=config)"
   ]
  },
  {
   "cell_type": "markdown",
   "id": "30975a07-81d9-4c6e-86fd-3f5f4e2f37bb",
   "metadata": {},
   "source": [
    "### Python"
   ]
  },
  {
   "cell_type": "markdown",
   "id": "1dcea1af-af25-44bc-a0bb-bd898e5b6ddd",
   "metadata": {},
   "source": [
    "### AI"
   ]
  },
  {
   "cell_type": "code",
   "execution_count": null,
   "id": "4ec55e0b-4ab5-4c6f-b403-a834e0043216",
   "metadata": {},
   "outputs": [],
   "source": [
    "import torch\n",
    "from torch import nn\n",
    "import torch.nn.functional as F"
   ]
  },
  {
   "cell_type": "code",
   "execution_count": null,
   "id": "0fedefa9-0081-4aae-93eb-6179bbc875bd",
   "metadata": {},
   "outputs": [],
   "source": [
    "from torch.utils.data import DataLoader, random_split"
   ]
  },
  {
   "cell_type": "code",
   "execution_count": null,
   "id": "ed12dbe1-2772-43a1-87e4-4f2756ef7097",
   "metadata": {},
   "outputs": [],
   "source": [
    "train_data, valid_data = random_split(dataset, lengths=[6, 4])"
   ]
  },
  {
   "cell_type": "code",
   "execution_count": null,
   "id": "0c352e0a-b17e-48d4-a036-0a7697275ce0",
   "metadata": {},
   "outputs": [],
   "source": [
    "train_loader = DataLoader(train_data, batch_size=2)"
   ]
  },
  {
   "cell_type": "code",
   "execution_count": null,
   "id": "7f37c424-7ad0-45ea-8310-37b58afe76e2",
   "metadata": {},
   "outputs": [],
   "source": [
    "from langchain.prompts import Len"
   ]
  },
  {
   "cell_type": "code",
   "execution_count": null,
   "id": "ba5eddec-0317-4335-9433-73bcb8e1b5af",
   "metadata": {},
   "outputs": [],
   "source": [
    "from langchain.indexes import VectorstoreIndexCreator"
   ]
  },
  {
   "cell_type": "code",
   "execution_count": null,
   "id": "32b79149-8357-4fb0-8024-9624268e9fb0",
   "metadata": {},
   "outputs": [],
   "source": [
    "index = VectorstoreIndexCreator().from_loaders([loader])"
   ]
  },
  {
   "cell_type": "code",
   "execution_count": null,
   "id": "4e274d79-af7c-4bdc-8544-c651cbbee8ef",
   "metadata": {},
   "outputs": [],
   "source": [
    "from langchain.chains import TransformChain"
   ]
  },
  {
   "cell_type": "code",
   "execution_count": null,
   "id": "948b8aa4-f4e8-43bc-a150-55b6759d40a7",
   "metadata": {},
   "outputs": [],
   "source": [
    "def to_uppercase(x):\n",
    "    return {\n",
    "        \"input\": x[\"input\"].upper()\n",
    "    }"
   ]
  },
  {
   "cell_type": "code",
   "execution_count": null,
   "id": "1fcc7e79-b878-490d-b87d-6ca021f77834",
   "metadata": {},
   "outputs": [],
   "source": [
    "transform_chain = TransformChain(\n",
    "    input_variables=[\"input\"],\n",
    "    output_variables=[\"input\"],\n",
    "    transform=to_uppercase\n",
    ")"
   ]
  },
  {
   "cell_type": "code",
   "execution_count": null,
   "id": "cb70ae80-d120-4065-bd7c-3b6ecbd0f953",
   "metadata": {},
   "outputs": [],
   "source": [
    "from torch.nn.utils import clip_grad_norm_"
   ]
  },
  {
   "cell_type": "code",
   "execution_count": null,
   "id": "e3d97d52-8cfa-4517-870c-8f7f7f71acc4",
   "metadata": {},
   "outputs": [],
   "source": [
    "clip_grad_norm_(param_1, max_norm=GRAD_CLIP_NORM)"
   ]
  },
  {
   "cell_type": "code",
   "execution_count": null,
   "id": "905f8cdf-a45e-4c72-b0fc-07924bb67813",
   "metadata": {},
   "outputs": [],
   "source": [
    "def create_mask(size):\n",
    "    return torch.zeros((size, size)).triu(1)"
   ]
  },
  {
   "cell_type": "code",
   "execution_count": null,
   "id": "afed1e4b-dee7-49e0-8378-805381b10cc9",
   "metadata": {},
   "outputs": [],
   "source": [
    "def normalize(x):\n",
    "    return x - x.mean() / x.std()"
   ]
  },
  {
   "cell_type": "code",
   "execution_count": null,
   "id": "0f0214da-9ffc-4269-8453-dab5e01ced67",
   "metadata": {},
   "outputs": [],
   "source": [
    "torch.zero_likes(RANDOM_TENSOR)"
   ]
  },
  {
   "cell_type": "code",
   "execution_count": null,
   "id": "638bda6b-5fc9-43d7-b952-2184d5332ea7",
   "metadata": {},
   "outputs": [],
   "source": [
    "def accuracy(probs, targs):\n",
    "    pred_idx = torch.argmax(probs, dim=-1)\n",
    "    return targs[pred_idx].mean()"
   ]
  },
  {
   "cell_type": "code",
   "execution_count": null,
   "id": "b689a028-3573-47f7-abc1-df97359c4512",
   "metadata": {},
   "outputs": [],
   "source": [
    "def accuracy(probs, targs):\n",
    "    pred_idxs = torch.argmax(probs, dim=-1)\n",
    "    return (pred_idxs == targs).float().mean()"
   ]
  },
  {
   "cell_type": "code",
   "execution_count": null,
   "id": "fddacac5-b344-4ac7-83c9-20836b3db8b1",
   "metadata": {},
   "outputs": [],
   "source": []
  }
 ],
 "metadata": {
  "kernelspec": {
   "display_name": "Python 3 (ipykernel)",
   "language": "python",
   "name": "python3"
  },
  "language_info": {
   "codemirror_mode": {
    "name": "ipython",
    "version": 3
   },
   "file_extension": ".py",
   "mimetype": "text/x-python",
   "name": "python",
   "nbconvert_exporter": "python",
   "pygments_lexer": "ipython3",
   "version": "3.8.16"
  }
 },
 "nbformat": 4,
 "nbformat_minor": 5
}
