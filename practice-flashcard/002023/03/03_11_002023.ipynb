{
 "cells": [
  {
   "cell_type": "markdown",
   "id": "c4584aa8-52a0-4a61-b8a4-66c14c7dd658",
   "metadata": {},
   "source": [
    "### Science"
   ]
  },
  {
   "cell_type": "code",
   "execution_count": null,
   "id": "432c59d9-7b53-44c3-b06f-b864a066c9f3",
   "metadata": {},
   "outputs": [],
   "source": [
    "import sympy as sym\n",
    "import sympy.physics.units as u"
   ]
  },
  {
   "cell_type": "code",
   "execution_count": null,
   "id": "7d420fca-00d1-485f-96bd-79bca88efdd1",
   "metadata": {},
   "outputs": [],
   "source": [
    "delta_H = sym.Symbol(\"\\Delta H\")\n",
    "delta_G = sym.Symbol(\"\\Delta G\")\n",
    "delta_S = sym.Symbol(\"\\Delta S\")\n",
    "T = sym.Symbol(\"T\")"
   ]
  },
  {
   "cell_type": "code",
   "execution_count": null,
   "id": "e928ab9a-d0fc-416a-a334-9845a28c47a8",
   "metadata": {},
   "outputs": [
    {
     "data": {
      "text/latex": [
       "$\\displaystyle \\Delta H$"
      ],
      "text/plain": [
       "\\Delta H"
      ]
     },
     "execution_count": null,
     "metadata": {},
     "output_type": "execute_result"
    }
   ],
   "source": [
    "delta_H"
   ]
  },
  {
   "cell_type": "code",
   "execution_count": null,
   "id": "dd6ce087-0c64-407c-b13e-da41fc612645",
   "metadata": {},
   "outputs": [],
   "source": [
    "eq = sym.Eq(delta_G, delta_H-delta_S*T)"
   ]
  },
  {
   "cell_type": "code",
   "execution_count": null,
   "id": "22717774-0146-43e6-8ccc-cdf69b416e3c",
   "metadata": {},
   "outputs": [
    {
     "data": {
      "text/latex": [
       "$\\displaystyle \\Delta G = 53324.4 \\text{J}$"
      ],
      "text/plain": [
       "Eq(\\Delta G, 53324.4*joule)"
      ]
     },
     "execution_count": null,
     "metadata": {},
     "output_type": "execute_result"
    }
   ],
   "source": [
    "eq.subs({\n",
    "    T: 298*u.kelvin,\n",
    "    delta_H: 95.7*1000*u.joule,\n",
    "    delta_S: 142.2*u.joule/u.kelvin,\n",
    "})"
   ]
  },
  {
   "cell_type": "code",
   "execution_count": null,
   "id": "9f7d63ad-9d46-4fcb-bf7e-8acaa13e764a",
   "metadata": {},
   "outputs": [],
   "source": [
    "m, v_1, v_2 = sym.symbols('m, v_1, v_2')"
   ]
  },
  {
   "cell_type": "code",
   "execution_count": null,
   "id": "cc85f363-028e-47b4-80b7-c574f870ab98",
   "metadata": {},
   "outputs": [
    {
     "data": {
      "text/latex": [
       "$\\displaystyle m$"
      ],
      "text/plain": [
       "m"
      ]
     },
     "execution_count": null,
     "metadata": {},
     "output_type": "execute_result"
    }
   ],
   "source": [
    "m"
   ]
  },
  {
   "cell_type": "code",
   "execution_count": null,
   "id": "714a5388-c3ed-4b2c-ba00-5bb294e1e6b7",
   "metadata": {},
   "outputs": [],
   "source": [
    "p_1 = m*v_1"
   ]
  },
  {
   "cell_type": "code",
   "execution_count": null,
   "id": "b6c43ffd-ced8-408f-9784-8cc9ea796195",
   "metadata": {},
   "outputs": [],
   "source": [
    "p_2 = m*v_2"
   ]
  },
  {
   "cell_type": "code",
   "execution_count": null,
   "id": "8a85c96f-80b6-4e21-8da1-64c2dfdbf620",
   "metadata": {},
   "outputs": [],
   "source": [
    "J = p_2 - p_1"
   ]
  },
  {
   "cell_type": "code",
   "execution_count": null,
   "id": "78a09b82-b3b9-47ad-8837-4d43ba984eaf",
   "metadata": {},
   "outputs": [
    {
     "data": {
      "text/latex": [
       "$\\displaystyle - m v_{1} + m v_{2}$"
      ],
      "text/plain": [
       "-m*v_1 + m*v_2"
      ]
     },
     "execution_count": null,
     "metadata": {},
     "output_type": "execute_result"
    }
   ],
   "source": [
    "J"
   ]
  },
  {
   "cell_type": "code",
   "execution_count": null,
   "id": "e1fa068a-f3f9-4576-bb05-1b27b160fc55",
   "metadata": {},
   "outputs": [
    {
     "data": {
      "text/latex": [
       "$\\displaystyle \\frac{20.0 \\text{kg} \\text{m}}{\\text{s}}$"
      ],
      "text/plain": [
       "20.0*kilogram*meter/second"
      ]
     },
     "execution_count": null,
     "metadata": {},
     "output_type": "execute_result"
    }
   ],
   "source": [
    "J.subs({\n",
    "    m: 0.40*u.kilogram,\n",
    "    v_1: -30*u.meter/u.second,\n",
    "    v_2: 20*u.meter/u.second\n",
    "})"
   ]
  },
  {
   "cell_type": "code",
   "execution_count": null,
   "id": "9f7a17c6-4431-4028-97a4-b00a672ec6df",
   "metadata": {},
   "outputs": [
    {
     "data": {
      "text/latex": [
       "$\\displaystyle \\Delta G = - T \\Delta S + \\Delta H$"
      ],
      "text/plain": [
       "Eq(\\Delta G, -T*\\Delta S + \\Delta H)"
      ]
     },
     "execution_count": null,
     "metadata": {},
     "output_type": "execute_result"
    }
   ],
   "source": [
    "eq"
   ]
  },
  {
   "cell_type": "code",
   "execution_count": null,
   "id": "59659e3c-a0f2-40e0-9561-6e478cb19f7c",
   "metadata": {},
   "outputs": [],
   "source": [
    "T_val = sym.solve(eq, T)[0]"
   ]
  },
  {
   "cell_type": "code",
   "execution_count": null,
   "id": "f48313eb-82b0-46e4-84b0-453e27204170",
   "metadata": {},
   "outputs": [
    {
     "data": {
      "text/latex": [
       "$\\displaystyle 672.995780590717 \\text{K}$"
      ],
      "text/plain": [
       "672.995780590717*kelvin"
      ]
     },
     "execution_count": null,
     "metadata": {},
     "output_type": "execute_result"
    }
   ],
   "source": [
    "T_val.subs({\n",
    "    delta_G: 0,\n",
    "    delta_H: 95.7*1000*u.joules,\n",
    "    delta_S: 142.2*u.joule/u.kelvin\n",
    "})"
   ]
  },
  {
   "cell_type": "code",
   "execution_count": null,
   "id": "9c2d8119-7715-4735-921f-43c6ee9acfb3",
   "metadata": {},
   "outputs": [],
   "source": [
    "eq.subs({\n",
    "    delta_G: 0,\n",
    "    de\n",
    "})"
   ]
  },
  {
   "cell_type": "code",
   "execution_count": null,
   "id": "e1c49529-e51c-4a4c-8fde-3eeb5c8fb9e9",
   "metadata": {},
   "outputs": [],
   "source": [
    "J_x, F_av_x = sym.symbols(\"F_x, F_{av-x}\")"
   ]
  },
  {
   "cell_type": "code",
   "execution_count": null,
   "id": "6b3c0246-f752-4527-8356-0c2c5c5d3c77",
   "metadata": {},
   "outputs": [],
   "source": [
    "delta_t = sym.Symbol(\"\\Delta t\")"
   ]
  },
  {
   "cell_type": "code",
   "execution_count": null,
   "id": "87881aa2-08a2-4c42-98bf-7d0b071e1a89",
   "metadata": {},
   "outputs": [
    {
     "data": {
      "text/latex": [
       "$\\displaystyle \\Delta t$"
      ],
      "text/plain": [
       "\\Delta t"
      ]
     },
     "execution_count": null,
     "metadata": {},
     "output_type": "execute_result"
    }
   ],
   "source": [
    "delta_t"
   ]
  },
  {
   "cell_type": "code",
   "execution_count": null,
   "id": "ff2c56da-656d-47ce-8240-41d8454dff37",
   "metadata": {},
   "outputs": [],
   "source": [
    "J_x = F_av_x *delta_t"
   ]
  },
  {
   "cell_type": "code",
   "execution_count": null,
   "id": "cdf12258-7ca7-460e-b52a-0043ea6c52fc",
   "metadata": {},
   "outputs": [
    {
     "data": {
      "text/latex": [
       "$\\displaystyle F_{av-x} \\Delta t$"
      ],
      "text/plain": [
       "F_{av-x}*\\Delta t"
      ]
     },
     "execution_count": null,
     "metadata": {},
     "output_type": "execute_result"
    }
   ],
   "source": [
    "J_x"
   ]
  },
  {
   "cell_type": "markdown",
   "id": "f6fda7ee-cb76-438d-b132-5e51beba6205",
   "metadata": {},
   "source": [
    "### Software"
   ]
  },
  {
   "cell_type": "code",
   "execution_count": null,
   "id": "849ec8c6-4f9b-4d4f-806d-8145223c555c",
   "metadata": {},
   "outputs": [],
   "source": [
    "from typing import Optional"
   ]
  },
  {
   "cell_type": "code",
   "execution_count": null,
   "id": "4f9c2e41-aa65-48b4-be0f-f5f61e81bdb3",
   "metadata": {},
   "outputs": [],
   "source": [
    "def create_a_paper(color: Optional[str]) -> Optional[str]:\n",
    "    return color"
   ]
  },
  {
   "cell_type": "code",
   "execution_count": null,
   "id": "684e24e6-d836-46ab-b598-f717dcd3877a",
   "metadata": {},
   "outputs": [],
   "source": [
    "cat < h1.txt >> h2.txt"
   ]
  },
  {
   "cell_type": "code",
   "execution_count": null,
   "id": "5b3766fd-bb1a-4703-a2de-56dcb9138f00",
   "metadata": {},
   "outputs": [],
   "source": [
    "from typing import NewType, Tuple"
   ]
  },
  {
   "cell_type": "code",
   "execution_count": null,
   "id": "bf35a362-48c5-4714-a68c-7ca55702684d",
   "metadata": {},
   "outputs": [
    {
     "ename": "TypeError",
     "evalue": "tuple expected at most 1 argument, got 3",
     "output_type": "error",
     "traceback": [
      "\u001b[0;31m---------------------------------------------------------------------------\u001b[0m",
      "\u001b[0;31mTypeError\u001b[0m                                 Traceback (most recent call last)",
      "Cell \u001b[0;32mIn[39], line 2\u001b[0m\n\u001b[1;32m      1\u001b[0m NumberOfServing \u001b[38;5;241m=\u001b[39m NewType(\u001b[38;5;124m\"\u001b[39m\u001b[38;5;124mNumberOfServing\u001b[39m\u001b[38;5;124m\"\u001b[39m, \u001b[38;5;28mint\u001b[39m)\n\u001b[0;32m----> 2\u001b[0m Ingredient \u001b[38;5;241m=\u001b[39m NewType(\u001b[38;5;124m\"\u001b[39m\u001b[38;5;124mIngredient\u001b[39m\u001b[38;5;124m\"\u001b[39m, \u001b[38;5;28;43mtuple\u001b[39;49m\u001b[43m(\u001b[49m\u001b[38;5;28;43mstr\u001b[39;49m\u001b[43m,\u001b[49m\u001b[43m \u001b[49m\u001b[38;5;28;43mint\u001b[39;49m\u001b[43m,\u001b[49m\u001b[43m \u001b[49m\u001b[38;5;28;43mstr\u001b[39;49m\u001b[43m)\u001b[49m)\n",
      "\u001b[0;31mTypeError\u001b[0m: tuple expected at most 1 argument, got 3"
     ]
    }
   ],
   "source": [
    "NumberOfServing = NewType(\"NumberOfServing\", int)\n",
    "Ingredient = NewType(\"Ingredient\", tuple(str, int, str))"
   ]
  },
  {
   "cell_type": "code",
   "execution_count": null,
   "id": "6c2bd4ec-0e48-4524-87b5-dfbca84cf8a5",
   "metadata": {},
   "outputs": [],
   "source": [
    "[x for x in x if x]"
   ]
  },
  {
   "cell_type": "code",
   "execution_count": null,
   "id": "bf41b859-f262-4895-af57-96288c738cbe",
   "metadata": {},
   "outputs": [],
   "source": [
    "from typing import "
   ]
  },
  {
   "cell_type": "code",
   "execution_count": null,
   "id": "37ca2754-510a-47ed-90e9-c437c29d648f",
   "metadata": {},
   "outputs": [],
   "source": [
    "PackageID = NewType(\"PackageID\", int)\n",
    "PackageColor = NewType(\"PackageColor\", str)"
   ]
  },
  {
   "cell_type": "code",
   "execution_count": null,
   "id": "a88a0d44-a274-4d1a-8c6d-9e857cf282b2",
   "metadata": {},
   "outputs": [],
   "source": [
    "class Batch:\n",
    "    def __init__(self, package_id: PackageID, package_color: PackageColor):\n",
    "        pass"
   ]
  },
  {
   "cell_type": "code",
   "execution_count": null,
   "id": "82b7e747-d803-4600-8496-8ab4e8e8a756",
   "metadata": {},
   "outputs": [],
   "source": [
    "L1, L3"
   ]
  },
  {
   "cell_type": "markdown",
   "id": "f7740122-74e5-475b-807a-3363c2a128a2",
   "metadata": {},
   "source": [
    "### AI"
   ]
  },
  {
   "cell_type": "code",
   "execution_count": null,
   "id": "7fc06990-56d3-4f8e-9863-b216faccf32b",
   "metadata": {},
   "outputs": [],
   "source": [
    "import torch\n",
    "from torch import nn\n",
    "import torch.nn.functional as F"
   ]
  },
  {
   "cell_type": "code",
   "execution_count": null,
   "id": "36bdb05e-7ff5-46da-a7b6-14b06f01663f",
   "metadata": {},
   "outputs": [],
   "source": [
    "from datasets import load_metric"
   ]
  },
  {
   "cell_type": "code",
   "execution_count": null,
   "id": "da99c9ef-a5a1-476d-a6ee-4ecba54e910e",
   "metadata": {},
   "outputs": [
    {
     "name": "stderr",
     "output_type": "stream",
     "text": [
      "/var/folders/pf/g3nr86yn4j71vzzmv6knwdhr0000gp/T/ipykernel_1338/1963947385.py:1: FutureWarning: load_metric is deprecated and will be removed in the next major version of datasets. Use 'evaluate.load' instead, from the new library 🤗 Evaluate: https://huggingface.co/docs/evaluate\n",
      "  bleu = load_metric(\"bleu\")\n"
     ]
    }
   ],
   "source": [
    "bleu = load_metric(\"bleu\")"
   ]
  },
  {
   "cell_type": "code",
   "execution_count": null,
   "id": "4be90cdd-f586-4ee8-a29d-9471edbb8285",
   "metadata": {},
   "outputs": [],
   "source": [
    "bleu.compute(predictions=predictions, references=references)"
   ]
  },
  {
   "cell_type": "code",
   "execution_count": null,
   "id": "4523f22e-1086-4080-b450-8ac5ed9c17e5",
   "metadata": {},
   "outputs": [],
   "source": [
    "multi, masked-multi, position, linear, layer norm, residual connection"
   ]
  },
  {
   "cell_type": "code",
   "execution_count": null,
   "id": "497ef88f-5f81-4c80-9815-9a4f97204d07",
   "metadata": {},
   "outputs": [],
   "source": [
    "import pytorch_lightning as pl"
   ]
  },
  {
   "cell_type": "code",
   "execution_count": null,
   "id": "f427715f-a81b-498a-88ad-79dcaa8376ae",
   "metadata": {},
   "outputs": [
    {
     "name": "stderr",
     "output_type": "stream",
     "text": [
      "GPU available: True (mps), used: False\n",
      "TPU available: False, using: 0 TPU cores\n",
      "IPU available: False, using: 0 IPUs\n",
      "HPU available: False, using: 0 HPUs\n",
      "/Users/education/miniforge3/envs/gym/lib/python3.8/site-packages/pytorch_lightning/trainer/setup.py:200: UserWarning: MPS available but not used. Set `accelerator` and `devices` using `Trainer(accelerator='mps', devices=1)`.\n",
      "  rank_zero_warn(\n"
     ]
    }
   ],
   "source": [
    "trainer = pl.Trainer()"
   ]
  },
  {
   "cell_type": "code",
   "execution_count": null,
   "id": "65df9994-d9f2-451a-9339-92af7b69bbcc",
   "metadata": {},
   "outputs": [],
   "source": [
    "trainer.fit(lit_model, train_loader)"
   ]
  },
  {
   "cell_type": "code",
   "execution_count": null,
   "id": "6d826cb7-9c5e-4898-878b-e1e2e60c26c1",
   "metadata": {},
   "outputs": [],
   "source": [
    "from transformers import RobertaConfig, RobertaModel"
   ]
  },
  {
   "cell_type": "code",
   "execution_count": null,
   "id": "920f6448-fae8-4716-8f00-b1151b49ec86",
   "metadata": {},
   "outputs": [],
   "source": [
    "config = RobertaConfig()"
   ]
  },
  {
   "cell_type": "code",
   "execution_count": null,
   "id": "ff395435-4f34-4a32-ab2b-958d4fc82e7f",
   "metadata": {},
   "outputs": [],
   "source": [
    "model = RobertaModel(config)"
   ]
  },
  {
   "cell_type": "code",
   "execution_count": null,
   "id": "3b7021de-3b77-44ce-b612-c5513583d85d",
   "metadata": {},
   "outputs": [],
   "source": [
    "encodings.mask_fill(mask == False, -1)"
   ]
  }
 ],
 "metadata": {
  "kernelspec": {
   "display_name": "Python 3 (ipykernel)",
   "language": "python",
   "name": "python3"
  }
 },
 "nbformat": 4,
 "nbformat_minor": 5
}
