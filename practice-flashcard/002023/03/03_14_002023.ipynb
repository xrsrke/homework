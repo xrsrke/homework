{
 "cells": [
  {
   "cell_type": "markdown",
   "id": "1d244d2d-9c66-402a-95e6-d48af53c5e06",
   "metadata": {},
   "source": [
    "### Science"
   ]
  },
  {
   "cell_type": "code",
   "execution_count": null,
   "id": "93c9a66b-ffae-4d2d-a8b1-c91c891e29dc",
   "metadata": {},
   "outputs": [],
   "source": [
    "import sympy as sym\n",
    "import sympy.physics.units as u"
   ]
  },
  {
   "cell_type": "code",
   "execution_count": null,
   "id": "15763b84-ac0d-47c3-86ba-5ae75af911db",
   "metadata": {},
   "outputs": [],
   "source": [
    "m, v_1x, v_2x, t = sym.symbols(\"m, v_1x, v_2x, t\")"
   ]
  },
  {
   "cell_type": "code",
   "execution_count": null,
   "id": "4440dd01-ed74-4fbc-a0cd-d42f80d9486f",
   "metadata": {},
   "outputs": [],
   "source": [
    "p_1 = m*v_1x"
   ]
  },
  {
   "cell_type": "code",
   "execution_count": null,
   "id": "1f3a66b2-ad02-46e1-89b4-b86d383da0cb",
   "metadata": {},
   "outputs": [],
   "source": [
    "p_2 = m*v_2x"
   ]
  },
  {
   "cell_type": "code",
   "execution_count": null,
   "id": "48ad8d17-0d62-48a2-bbaf-be6e2f99cdd9",
   "metadata": {},
   "outputs": [
    {
     "data": {
      "text/latex": [
       "$\\displaystyle \\frac{20.0 \\text{kg} \\text{m}}{\\text{s}}$"
      ],
      "text/plain": [
       "20.0*kilogram*meter/second"
      ]
     },
     "execution_count": null,
     "metadata": {},
     "output_type": "execute_result"
    }
   ],
   "source": [
    "(p_2 - p_1).subs({\n",
    "    m: 0.4*u.kilogram,\n",
    "    v_1x: -30*u.meter/u.second,\n",
    "    v_2x: 20 *u.meter/u.second\n",
    "})"
   ]
  },
  {
   "cell_type": "code",
   "execution_count": null,
   "id": "4242fa57-5034-4e9f-ad00-e75f9b021f0c",
   "metadata": {},
   "outputs": [],
   "source": [
    "potential energy, and wave functon"
   ]
  },
  {
   "cell_type": "markdown",
   "id": "69b3778f-a906-4680-930a-add76204099d",
   "metadata": {},
   "source": [
    "### Python"
   ]
  },
  {
   "cell_type": "code",
   "execution_count": null,
   "id": "860c1686-1f21-4fea-bc03-b8734b0f5dc1",
   "metadata": {},
   "outputs": [],
   "source": [
    "def performance(func):\n",
    "    def inner():\n",
    "        out = func()\n",
    "        # time\n",
    "    \n",
    "    return inner"
   ]
  },
  {
   "cell_type": "code",
   "execution_count": null,
   "id": "11b7254e-4426-4ffa-98d1-5f5d3cd997f2",
   "metadata": {},
   "outputs": [],
   "source": [
    "from functools import reduce"
   ]
  },
  {
   "cell_type": "code",
   "execution_count": null,
   "id": "dd10c896-cfef-4af8-b466-4a1fb2644760",
   "metadata": {},
   "outputs": [],
   "source": [
    "def multiple(x, y):\n",
    "    return x*y"
   ]
  },
  {
   "cell_type": "code",
   "execution_count": null,
   "id": "2c272f9d-635f-4616-a7d3-a2ef35d0b0c2",
   "metadata": {},
   "outputs": [],
   "source": [
    "numbers = [1, 2, 3, 4]"
   ]
  },
  {
   "cell_type": "code",
   "execution_count": null,
   "id": "37ee2a42-0bb3-48e5-9aa3-7055489fb03e",
   "metadata": {},
   "outputs": [
    {
     "data": {
      "text/plain": [
       "24"
      ]
     },
     "execution_count": null,
     "metadata": {},
     "output_type": "execute_result"
    }
   ],
   "source": [
    "reduce(multiple, numbers)"
   ]
  },
  {
   "cell_type": "code",
   "execution_count": null,
   "id": "89517004-ba80-4a2c-9d8e-d84d37dae0f8",
   "metadata": {},
   "outputs": [],
   "source": [
    "class LazyBitmap:\n",
    "    def __init__(self, name):\n",
    "        self.name = name\n",
    "    \n",
    "    def draw(self):\n",
    "        pass"
   ]
  },
  {
   "cell_type": "markdown",
   "id": "1e24b825-1065-44ea-bf16-5d8d920ecefe",
   "metadata": {},
   "source": [
    "### AI"
   ]
  },
  {
   "cell_type": "code",
   "execution_count": null,
   "id": "d4489b72-02fd-4817-bb46-359c1f6c0744",
   "metadata": {},
   "outputs": [],
   "source": [
    "import torch\n",
    "from torch import nn\n",
    "import torch.nn.functional as F"
   ]
  },
  {
   "cell_type": "code",
   "execution_count": null,
   "id": "7bb3d7e0-cf28-4488-ae25-8edebfa7ade0",
   "metadata": {},
   "outputs": [],
   "source": [
    "logits = output.logits[0, -1, :]"
   ]
  },
  {
   "cell_type": "code",
   "execution_count": null,
   "id": "0ee086e6-f254-45dd-91e9-c3b2055e34d8",
   "metadata": {},
   "outputs": [],
   "source": [
    "probs = F.softmax(logits, dim=-1)"
   ]
  },
  {
   "cell_type": "code",
   "execution_count": null,
   "id": "d21e1068-e04c-4f13-9a75-ebf7b6e7d20e",
   "metadata": {},
   "outputs": [],
   "source": [
    "sorted_ids = torch.argmax(probs, dim=-1)"
   ]
  },
  {
   "cell_type": "code",
   "execution_count": null,
   "id": "5059a423-d8de-4210-9a55-29c09bdfac1f",
   "metadata": {},
   "outputs": [],
   "source": [
    "class MultiHeadAttention(nn.Module):\n",
    "    def __init__(self, attention, d_model, n_heads):\n",
    "        super().__init__()\n",
    "        self.attention = attention\n",
    "        self.d_model = d_model\n",
    "        self.n_heads = n_heads\n",
    "        self.d_head = d_model // n_heads\n",
    "        \n",
    "        self.w_q = nn.Linear(d_model, d_model)\n",
    "        self.w_k = nn.Linear(d_model, d_model)\n",
    "        self.w_v = nn.Linear(d_model, d_model)\n",
    "        self.mha_linear = nn.Linear(d_model, d_model)\n",
    "        \n",
    "    def split_heads(self, x):\n",
    "        batch_size, seq_len, d_model = x.size()\n",
    "        return x.view(batch_size, self.n_heads, seq_len, self.d_head)\n",
    "    \n",
    "    def concat(self, x):\n",
    "        batch_size, n_heads, seq_len, d_head = x.size()\n",
    "        return x.view(batch_size, seq_len, self.d_model)\n",
    "    \n",
    "    def forward(self, pre_q, pre_k, pre_v):\n",
    "        q, k, v = self.w_q(pre_q), self.w_k(pre_k), self.w_v(pre_v)\n",
    "        \n",
    "        q, k, v = self.split_heads(q), self.split_heads(k), self.split_heads(v)\n",
    "        \n",
    "        attn_output, attn_weights = self.attention(q, k, v)\n",
    "        \n",
    "        output = self.concat(attn_output)\n",
    "        output = self.mha_linear(output)\n",
    "        \n",
    "        return output, attn_weights"
   ]
  },
  {
   "cell_type": "code",
   "execution_count": null,
   "id": "2ae49ebf-fc27-4494-a7c2-e75e82eaf1c5",
   "metadata": {},
   "outputs": [],
   "source": [
    "from torch.utils.data import DataLoader"
   ]
  },
  {
   "cell_type": "code",
   "execution_count": null,
   "id": "34119fcd-e0af-43e5-bb6d-cde9c3c6face",
   "metadata": {},
   "outputs": [],
   "source": [
    "dl = DataLoader(ds, batch_size=3)"
   ]
  },
  {
   "cell_type": "code",
   "execution_count": null,
   "id": "f05e6a4f-ad46-44dd-8805-4823163796e9",
   "metadata": {},
   "outputs": [],
   "source": [
    "multihead, mask-multihead, linear, skip, layer norm, positional em"
   ]
  }
 ],
 "metadata": {
  "kernelspec": {
   "display_name": "Python 3 (ipykernel)",
   "language": "python",
   "name": "python3"
  }
 },
 "nbformat": 4,
 "nbformat_minor": 5
}
