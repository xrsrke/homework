{
 "cells": [
  {
   "cell_type": "markdown",
   "id": "1e77db0e-858e-4dff-a479-028813685cca",
   "metadata": {},
   "source": [
    "### Science"
   ]
  },
  {
   "cell_type": "code",
   "execution_count": null,
   "id": "4f31f1bd-25cb-47ab-9405-5b6fda2369e5",
   "metadata": {},
   "outputs": [],
   "source": [
    "population decoding, motor imagery, stimulus, conditioned response"
   ]
  },
  {
   "cell_type": "code",
   "execution_count": null,
   "id": "e5ad2ccc-f2f8-432b-bdd6-bf9bee7f7851",
   "metadata": {},
   "outputs": [],
   "source": [
    "conditioned response, population decoding, motor imagery, stimulus-evoked"
   ]
  },
  {
   "cell_type": "code",
   "execution_count": null,
   "id": "2d24be8a-82c2-4fde-8d7e-62cc464f6d79",
   "metadata": {},
   "outputs": [],
   "source": [
    "import sympy as smp"
   ]
  },
  {
   "cell_type": "code",
   "execution_count": null,
   "id": "4ad9149a-b775-4cc4-8b02-bf51e20af3b2",
   "metadata": {},
   "outputs": [],
   "source": [
    "G = H - ST"
   ]
  },
  {
   "cell_type": "code",
   "execution_count": null,
   "id": "ec0ab2d2-2569-4987-9c43-ab203497fedf",
   "metadata": {},
   "outputs": [],
   "source": [
    "1 -> axon -> dendrite ->"
   ]
  },
  {
   "cell_type": "markdown",
   "id": "63c0cce5-6684-4fc1-b73c-0b97c0460e08",
   "metadata": {},
   "source": [
    "### Python"
   ]
  },
  {
   "cell_type": "code",
   "execution_count": null,
   "id": "b3f6db2a-2433-43f7-8f69-fce9f8c71115",
   "metadata": {},
   "outputs": [],
   "source": [
    "from typing import Callable"
   ]
  },
  {
   "cell_type": "code",
   "execution_count": null,
   "id": "35c7cdc5-1a75-4b9d-8efd-ff80f3ee08b6",
   "metadata": {},
   "outputs": [],
   "source": [
    "def foo(func: Callable[[int, int], str]) -> str:\n",
    "    pass"
   ]
  },
  {
   "cell_type": "code",
   "execution_count": null,
   "id": "077045ae-d868-4589-bd9d-7ea1aa84b774",
   "metadata": {},
   "outputs": [],
   "source": [
    "[x for x in x if x]"
   ]
  },
  {
   "cell_type": "markdown",
   "id": "f35dda9d-48ea-42b1-b8bd-017b5528500e",
   "metadata": {},
   "source": [
    "### AI"
   ]
  },
  {
   "cell_type": "code",
   "execution_count": null,
   "id": "652acbc1-c2ea-48d2-8289-f6808f92b895",
   "metadata": {},
   "outputs": [],
   "source": [
    "import torch\n",
    "from torch import nn\n",
    "import torch.nn.functional as F"
   ]
  },
  {
   "cell_type": "code",
   "execution_count": null,
   "id": "99bc6ab6-2b18-4746-807b-020bed0ca076",
   "metadata": {},
   "outputs": [],
   "source": [
    "from langchain.chains import SimpleSequentialChain"
   ]
  },
  {
   "cell_type": "code",
   "execution_count": null,
   "id": "5c429a84-18fc-4881-a03e-02b1b465f141",
   "metadata": {},
   "outputs": [],
   "source": [
    "overall_chain = SimpleSequentialChain(\n",
    "    chain=[assistant_chain, user_chain]\n",
    ")"
   ]
  },
  {
   "cell_type": "code",
   "execution_count": null,
   "id": "bf9d8a42-8ca5-4c73-bbaf-20699a1a5c36",
   "metadata": {},
   "outputs": [],
   "source": [
    "from langchain import OpenAI"
   ]
  },
  {
   "cell_type": "code",
   "execution_count": null,
   "id": "5a5b1f9c-6f1d-4847-98cc-cb6825f3b239",
   "metadata": {},
   "outputs": [],
   "source": [
    "model = OpenAI()"
   ]
  },
  {
   "cell_type": "code",
   "execution_count": null,
   "id": "5296f1e3-1279-440f-be99-af6a4708e22b",
   "metadata": {},
   "outputs": [],
   "source": [
    "from langchain.indexes import VectorstoreIndexCreator"
   ]
  },
  {
   "cell_type": "code",
   "execution_count": null,
   "id": "bc20cb8c-47a9-4b57-a483-578a51d3686e",
   "metadata": {},
   "outputs": [],
   "source": [
    "index = VectorstoreIndexCreator().from_loaders([loader])"
   ]
  },
  {
   "cell_type": "code",
   "execution_count": null,
   "id": "4f6a0a06-ae5f-45a4-af07-00f9f88bb330",
   "metadata": {},
   "outputs": [],
   "source": [
    "from torch.utils.data import Dataset"
   ]
  },
  {
   "cell_type": "code",
   "execution_count": null,
   "id": "b3161ad2-fd44-4adc-b68c-0f5f0f5215fc",
   "metadata": {},
   "outputs": [],
   "source": [
    "class PetDataset(Dataset):\n",
    "    def __init__(self, data):\n",
    "        self.data = data\n",
    "    \n",
    "    def __len__(self):\n",
    "        return len(self.data)\n",
    "    \n",
    "    def __getitem__(self, idx):\n",
    "        return self.data[idx][\"title\"], self.data[idx][\"year_published\"]"
   ]
  },
  {
   "cell_type": "code",
   "execution_count": null,
   "id": "989002b2-0b73-4606-9c35-b0fc11e0456a",
   "metadata": {},
   "outputs": [],
   "source": [
    "from langchain.prompts import FewShotPromptTemplate, PromptTemplate"
   ]
  },
  {
   "cell_type": "code",
   "execution_count": null,
   "id": "1f0dc106-9c98-4d0c-89be-fbfa84c57675",
   "metadata": {},
   "outputs": [],
   "source": [
    "truncation, sliding window, spliting the sequence"
   ]
  },
  {
   "cell_type": "code",
   "execution_count": null,
   "id": "710c37c2-7c25-47ad-a9b1-26d0ddf5d68f",
   "metadata": {},
   "outputs": [],
   "source": [
    "examples = [\n",
    "    {\"question\": \"XX\", \"answer\": \"YY\"},\n",
    "    {\"question\": \"XX\", \"answer\": \"YY\"},\n",
    "]"
   ]
  },
  {
   "cell_type": "code",
   "execution_count": null,
   "id": "761dc029-f302-445f-8f18-416207d2b048",
   "metadata": {},
   "outputs": [],
   "source": [
    "template = \"\"\"\n",
    "User: {question}\n",
    "AI: {answer}\n",
    "\"\"\""
   ]
  },
  {
   "cell_type": "code",
   "execution_count": null,
   "id": "3a755f96-963a-4b92-ad2c-b0c55d005aa9",
   "metadata": {},
   "outputs": [],
   "source": [
    "example_template = PromptTemplate(\n",
    "    input_variables=[\"question\", \"answer\"], template=template\n",
    ")"
   ]
  },
  {
   "cell_type": "code",
   "execution_count": null,
   "id": "766d58d5-d67f-4a4e-8422-2dcdf38858df",
   "metadata": {},
   "outputs": [],
   "source": [
    "suffix = \"\"\"\n",
    "User:{query}\n",
    "AI:\n",
    "\"\"\""
   ]
  },
  {
   "cell_type": "code",
   "execution_count": null,
   "id": "7e2df7e8-32c0-4eed-bce4-39fe5c5044b5",
   "metadata": {},
   "outputs": [],
   "source": [
    "few_shot_prompt_template = FewShotPromptTemplate(\n",
    "    input_variables=[\"query\"], examples=examples, example_prompt=example_template,\n",
    "    suffix=suffix\n",
    ")"
   ]
  },
  {
   "cell_type": "code",
   "execution_count": null,
   "id": "118fc268-d1c7-446b-983b-4b05cc0b5732",
   "metadata": {},
   "outputs": [
    {
     "name": "stdout",
     "output_type": "stream",
     "text": [
      "\n",
      "User: XX\n",
      "AI: YY\n",
      "\n",
      "\n",
      "\n",
      "User: XX\n",
      "AI: YY\n",
      "\n",
      "\n",
      "\n",
      "User:X\n",
      "AI:\n",
      "\n"
     ]
    }
   ],
   "source": [
    "print(few_shot_prompt_template.format(query=\"X\"))"
   ]
  },
  {
   "cell_type": "code",
   "execution_count": null,
   "id": "eff08ce6-3b3e-4450-ab8f-f948939a28c1",
   "metadata": {},
   "outputs": [],
   "source": [
    "from langchain.embeddings import OpenAIEmbeddings"
   ]
  },
  {
   "cell_type": "code",
   "execution_count": null,
   "id": "ebaf0244-efd5-47bb-b016-c51fad998441",
   "metadata": {},
   "outputs": [],
   "source": [
    "embeddings = OpenAIEmbeddings()."
   ]
  },
  {
   "cell_type": "code",
   "execution_count": null,
   "id": "1e5d26e5-2cd4-4621-95c4-66a6d1b5a900",
   "metadata": {},
   "outputs": [],
   "source": [
    "embeddings."
   ]
  },
  {
   "cell_type": "code",
   "execution_count": null,
   "id": "07c95e26-9731-4628-915a-9b33efbe96ce",
   "metadata": {},
   "outputs": [],
   "source": [
    "output.hidden_state[-1]"
   ]
  },
  {
   "cell_type": "code",
   "execution_count": null,
   "id": "51bc798c-a4a9-44ee-aa3a-956d2a3418ec",
   "metadata": {},
   "outputs": [],
   "source": [
    "chain.generate()"
   ]
  },
  {
   "cell_type": "code",
   "execution_count": null,
   "id": "3d5d3aaa-e8fd-4ddf-bde8-bd15a23b50bc",
   "metadata": {},
   "outputs": [],
   "source": [
    "from langchain.memory import SimpleMemory\n",
    "from langchain.chains import LLMChain"
   ]
  },
  {
   "cell_type": "code",
   "execution_count": null,
   "id": "3177082a-c4de-4fae-b189-e57ee662c522",
   "metadata": {},
   "outputs": [],
   "source": [
    "template = \"\"\"\n",
    "This is a conversation between___\n",
    "\n",
    "Here is some cintext about the current date:\n",
    "Year: {year}\n",
    "\n",
    "User: {input}\n",
    "AI:\n",
    "\"\"\""
   ]
  },
  {
   "cell_type": "code",
   "execution_count": null,
   "id": "2bcdb3ac-a5fa-44ca-9536-03fc185464bd",
   "metadata": {},
   "outputs": [],
   "source": [
    "prompt_tempalte = PromptTemplate(input_variables=[\"year\", \"input\"], template=template)"
   ]
  },
  {
   "cell_type": "code",
   "execution_count": null,
   "id": "a7fe9cb6-3905-43b0-9ab4-5bbc7fdc56f7",
   "metadata": {},
   "outputs": [],
   "source": [
    "memory = SimpleMemory(memories={\"year\": 2023})"
   ]
  },
  {
   "cell_type": "code",
   "execution_count": null,
   "id": "cc36e248-436e-4a7b-9516-405d5312aa5c",
   "metadata": {},
   "outputs": [],
   "source": [
    "chain = LLMChain(memory=memory, prompt=prompt_tempalte, llm=model)"
   ]
  },
  {
   "cell_type": "code",
   "execution_count": null,
   "id": "8da2cb9b-5aa8-478b-8d39-2fa33b9a2927",
   "metadata": {},
   "outputs": [],
   "source": [
    "llm chain, "
   ]
  },
  {
   "cell_type": "code",
   "execution_count": null,
   "id": "658aefbc-d932-4bdb-a706-5f3ed8da98d9",
   "metadata": {},
   "outputs": [],
   "source": [
    "p n i d"
   ]
  },
  {
   "cell_type": "code",
   "execution_count": null,
   "id": "270f0a02-1595-4b6a-b7e9-f35873ec86b7",
   "metadata": {},
   "outputs": [],
   "source": [
    "from datasets import load_metric"
   ]
  },
  {
   "cell_type": "code",
   "execution_count": null,
   "id": "a1c5e3da-d6bb-45be-9a53-4858ddd3b6ef",
   "metadata": {},
   "outputs": [],
   "source": [
    "from datasets import load_metric\n",
    "\n",
    "rouge_metric = load_metric(\"rouge\")"
   ]
  },
  {
   "cell_type": "code",
   "execution_count": null,
   "id": "4c30573c-594a-4406-b571-878e64ee5718",
   "metadata": {},
   "outputs": [],
   "source": [
    "candidate_summary = \"AI is transforming many industries.\"\n",
    "reference_summary = \"Artificial intelligence is revolutionizing various sectors.\""
   ]
  },
  {
   "cell_type": "code",
   "execution_count": null,
   "id": "99d1e34e-4975-416c-9f7c-3f2368e30567",
   "metadata": {},
   "outputs": [],
   "source": [
    "# The metric expects inputs as lists of summaries, even for a single pair of summaries.\n",
    "scores = rouge_metric.compute(predictions=[candidate_summary], references=[reference_summary])"
   ]
  },
  {
   "cell_type": "code",
   "execution_count": null,
   "id": "38fa5f7e-2fc7-4619-bfdc-3fa905a1eb12",
   "metadata": {},
   "outputs": [
    {
     "data": {
      "text/plain": [
       "{'rouge1': AggregateScore(low=Score(precision=0.2, recall=0.16666666666666666, fmeasure=0.1818181818181818), mid=Score(precision=0.2, recall=0.16666666666666666, fmeasure=0.1818181818181818), high=Score(precision=0.2, recall=0.16666666666666666, fmeasure=0.1818181818181818)),\n",
       " 'rouge2': AggregateScore(low=Score(precision=0.0, recall=0.0, fmeasure=0.0), mid=Score(precision=0.0, recall=0.0, fmeasure=0.0), high=Score(precision=0.0, recall=0.0, fmeasure=0.0)),\n",
       " 'rougeL': AggregateScore(low=Score(precision=0.2, recall=0.16666666666666666, fmeasure=0.1818181818181818), mid=Score(precision=0.2, recall=0.16666666666666666, fmeasure=0.1818181818181818), high=Score(precision=0.2, recall=0.16666666666666666, fmeasure=0.1818181818181818)),\n",
       " 'rougeLsum': AggregateScore(low=Score(precision=0.2, recall=0.16666666666666666, fmeasure=0.1818181818181818), mid=Score(precision=0.2, recall=0.16666666666666666, fmeasure=0.1818181818181818), high=Score(precision=0.2, recall=0.16666666666666666, fmeasure=0.1818181818181818))}"
      ]
     },
     "execution_count": null,
     "metadata": {},
     "output_type": "execute_result"
    }
   ],
   "source": [
    "scores"
   ]
  },
  {
   "cell_type": "code",
   "execution_count": null,
   "id": "25ec390d-9282-49b5-a9fb-ca7c3a0c5554",
   "metadata": {},
   "outputs": [
    {
     "data": {
      "text/plain": [
       "AggregateScore(low=Score(precision=0.2, recall=0.16666666666666666, fmeasure=0.1818181818181818), mid=Score(precision=0.2, recall=0.16666666666666666, fmeasure=0.1818181818181818), high=Score(precision=0.2, recall=0.16666666666666666, fmeasure=0.1818181818181818))"
      ]
     },
     "execution_count": null,
     "metadata": {},
     "output_type": "execute_result"
    }
   ],
   "source": [
    "scores[\"rougeL\"]"
   ]
  },
  {
   "cell_type": "code",
   "execution_count": null,
   "id": "ebeef1c9-853b-4ddf-a8e1-65ae1afcef2f",
   "metadata": {},
   "outputs": [
    {
     "ename": "KeyError",
     "evalue": "'rouge-l'",
     "output_type": "error",
     "traceback": [
      "\u001b[0;31m---------------------------------------------------------------------------\u001b[0m",
      "\u001b[0;31mKeyError\u001b[0m                                  Traceback (most recent call last)",
      "Cell \u001b[0;32mIn[10], line 1\u001b[0m\n\u001b[0;32m----> 1\u001b[0m rouge_l_score \u001b[38;5;241m=\u001b[39m \u001b[43mscores\u001b[49m\u001b[43m[\u001b[49m\u001b[38;5;124;43m\"\u001b[39;49m\u001b[38;5;124;43mrouge-l\u001b[39;49m\u001b[38;5;124;43m\"\u001b[39;49m\u001b[43m]\u001b[49m[\u001b[38;5;124m\"\u001b[39m\u001b[38;5;124mf\u001b[39m\u001b[38;5;124m\"\u001b[39m]\n",
      "\u001b[0;31mKeyError\u001b[0m: 'rouge-l'"
     ]
    }
   ],
   "source": [
    "rouge_l_score = scores[\"rouge-l\"][\"f\"]"
   ]
  },
  {
   "cell_type": "code",
   "execution_count": null,
   "id": "8ecd9d97-0069-4e35-803f-d46294cce44f",
   "metadata": {},
   "outputs": [],
   "source": []
  }
 ],
 "metadata": {
  "kernelspec": {
   "display_name": "Python 3 (ipykernel)",
   "language": "python",
   "name": "python3"
  }
 },
 "nbformat": 4,
 "nbformat_minor": 5
}
