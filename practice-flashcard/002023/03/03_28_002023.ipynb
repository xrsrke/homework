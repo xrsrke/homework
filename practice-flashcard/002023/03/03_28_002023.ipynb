{
 "cells": [
  {
   "cell_type": "markdown",
   "id": "6c68ddf6-e501-466b-851f-55faf83a4b16",
   "metadata": {},
   "source": [
    "### Science"
   ]
  },
  {
   "cell_type": "code",
   "execution_count": null,
   "id": "a087850c-2f58-4f10-aca7-6c8d54c70cdf",
   "metadata": {},
   "outputs": [],
   "source": [
    "did"
   ]
  },
  {
   "cell_type": "code",
   "execution_count": null,
   "id": "1560d7f4-6ba1-4b60-bdef-b99299a2df57",
   "metadata": {},
   "outputs": [],
   "source": [
    "point, frame, "
   ]
  },
  {
   "cell_type": "markdown",
   "id": "3f25fce2-3863-442b-ae43-946983f59475",
   "metadata": {},
   "source": [
    "### Python"
   ]
  },
  {
   "cell_type": "code",
   "execution_count": 1,
   "id": "48242db0-edc4-42dc-af06-9f24cf473cfe",
   "metadata": {
    "tags": []
   },
   "outputs": [],
   "source": [
    "from abc import ABC"
   ]
  },
  {
   "cell_type": "markdown",
   "id": "8dae6ac5-aff8-4be9-85fb-fd44cc105cd5",
   "metadata": {},
   "source": [
    "### AI"
   ]
  },
  {
   "cell_type": "code",
   "execution_count": 3,
   "id": "841d9f8c-879b-4d04-b10f-b12e552823bc",
   "metadata": {
    "tags": []
   },
   "outputs": [],
   "source": [
    "import torch\n",
    "from torch import nn\n",
    "import torch.nn.functional as F"
   ]
  },
  {
   "cell_type": "code",
   "execution_count": 4,
   "id": "f6247876-aa40-4e26-99f7-43fb2663af10",
   "metadata": {
    "tags": []
   },
   "outputs": [],
   "source": [
    "import ray"
   ]
  },
  {
   "cell_type": "code",
   "execution_count": 6,
   "id": "49577dc2-5c92-4c0e-9c52-0f1b337aab04",
   "metadata": {
    "tags": []
   },
   "outputs": [],
   "source": [
    "from ray import tune\n",
    "from ray.tune import Callback"
   ]
  },
  {
   "cell_type": "code",
   "execution_count": null,
   "id": "91af916d-5b06-4bdb-ba04-16d7c5c3cc11",
   "metadata": {},
   "outputs": [],
   "source": [
    "class PrintResultCallback(Callback):\n",
    "    def on_trial_result(self, iteration, trials, trial, result, **info):\n",
    "        print(\"This is {result['score']}\")"
   ]
  },
  {
   "cell_type": "code",
   "execution_count": null,
   "id": "90dc3af0-6ac0-4371-84be-df22a588d0e5",
   "metadata": {},
   "outputs": [],
   "source": [
    "tune.run(\n",
    "    objective_func=objective,\n",
    "    config=search_space,\n",
    "    callbacks=[PrintResultCallback]\n",
    ")"
   ]
  },
  {
   "cell_type": "code",
   "execution_count": 7,
   "id": "7689b2d9-84a1-43fc-952b-76c235809978",
   "metadata": {
    "tags": []
   },
   "outputs": [],
   "source": [
    "from ray.rllib.algorithms.ppo import PPOConfig"
   ]
  },
  {
   "cell_type": "code",
   "execution_count": 8,
   "id": "ab9cc6f7-a779-4c54-b06c-05d27efc98d7",
   "metadata": {
    "tags": []
   },
   "outputs": [
    {
     "name": "stderr",
     "output_type": "stream",
     "text": [
      "2023-03-28 04:52:27,096\tINFO worker.py:1553 -- Started a local Ray instance.\n",
      "\u001b[2m\u001b[36m(RolloutWorker pid=2925)\u001b[0m 2023-03-28 04:52:32,725\tWARNING env.py:166 -- Your env reset() method appears to take 'seed' or 'return_info' arguments. Note that these are not yet supported in RLlib. Seeding will take place using 'env.seed()' and the info dict will not be returned from reset.\n",
      "2023-03-28 04:52:32,928\tWARNING util.py:67 -- Install gputil for GPU system monitoring.\n"
     ]
    }
   ],
   "source": [
    "model = PPOConfig().environment(\"CartPole-v1\").framework(\"torch\").build()"
   ]
  },
  {
   "cell_type": "code",
   "execution_count": 9,
   "id": "20af55c7-cf53-40da-9035-62a6aa2d4637",
   "metadata": {
    "tags": []
   },
   "outputs": [],
   "source": [
    "from ray.tune import uniform"
   ]
  },
  {
   "cell_type": "code",
   "execution_count": 10,
   "id": "665e148d-088e-4bee-b9b1-2378874d73b6",
   "metadata": {
    "tags": []
   },
   "outputs": [],
   "source": [
    "search_space = {\n",
    "    \"lr\": uniform(0, 1),\n",
    "    \"discount_factor\": uniform(0, 1)\n",
    "}"
   ]
  },
  {
   "cell_type": "code",
   "execution_count": null,
   "id": "8d672e27-2fd4-48bc-abc5-fe766a1dd65c",
   "metadata": {},
   "outputs": [],
   "source": [
    "from torch_geometric.data import Data"
   ]
  },
  {
   "cell_type": "code",
   "execution_count": null,
   "id": "123a9d51-3f8c-4b96-a688-67a90f9cfb55",
   "metadata": {},
   "outputs": [],
   "source": [
    "x = torch.tensor([-1, 0, 1])"
   ]
  },
  {
   "cell_type": "code",
   "execution_count": null,
   "id": "18b3882f-2c49-4737-928e-5da40935ab97",
   "metadata": {},
   "outputs": [],
   "source": [
    "index_edges = torch.tensor([\n",
    "    [0, 1, 1, 2],\n",
    "    [1, 0, 2, 1]\n",
    "])"
   ]
  },
  {
   "cell_type": "code",
   "execution_count": null,
   "id": "558aa15e-e80c-4c31-81c6-806a47104590",
   "metadata": {},
   "outputs": [],
   "source": [
    "data = Data(x=x, i)"
   ]
  },
  {
   "cell_type": "code",
   "execution_count": null,
   "id": "922eaae8-70da-42d7-a7d2-e59e979b5ec9",
   "metadata": {},
   "outputs": [],
   "source": [
    "model.compute_single_action(obs)"
   ]
  },
  {
   "cell_type": "code",
   "execution_count": 11,
   "id": "cd6fddec-950f-4d33-9baf-04b9554b66ad",
   "metadata": {
    "tags": []
   },
   "outputs": [],
   "source": [
    "def compute_objective(params):\n",
    "    x, y = params[\"x\"], params[\"y\"]\n",
    "    score = objective(x, y)\n",
    "    tune.report(score=score)"
   ]
  },
  {
   "cell_type": "code",
   "execution_count": null,
   "id": "26dc6866-d9e8-45f4-949f-3161e5a99afc",
   "metadata": {},
   "outputs": [],
   "source": [
    "result = tune.report(\n",
    "    compute_objective, config\n",
    ")"
   ]
  },
  {
   "cell_type": "code",
   "execution_count": null,
   "id": "1bc32d3b-19de-40c9-8158-4d7e12dfad62",
   "metadata": {},
   "outputs": [],
   "source": [
    "from pfrl.q_functions import DiscreteActionValueHead"
   ]
  },
  {
   "cell_type": "code",
   "execution_count": 12,
   "id": "4fc6c46a-36bc-4591-bdf3-2554bf694a75",
   "metadata": {
    "tags": []
   },
   "outputs": [],
   "source": [
    "from ray.tune.schedulers import HyperBandScheduler"
   ]
  },
  {
   "cell_type": "code",
   "execution_count": null,
   "id": "d9a02a14-358c-409b-90e0-602a0fb824ca",
   "metadata": {},
   "outputs": [],
   "source": [
    "tune.run(\n",
    "    scheduler=HyperBandSchedulerr\n",
    ")"
   ]
  },
  {
   "cell_type": "code",
   "execution_count": 13,
   "id": "4ec207b5-af5b-4e84-97b4-4385b5aafbb9",
   "metadata": {
    "tags": []
   },
   "outputs": [],
   "source": [
    "from torch import einsum"
   ]
  },
  {
   "cell_type": "code",
   "execution_count": null,
   "id": "17581754-a3eb-4e59-add8-af2b58bfc81c",
   "metadata": {},
   "outputs": [],
   "source": [
    "einsum()"
   ]
  },
  {
   "cell_type": "code",
   "execution_count": null,
   "id": "383a0473-5e15-4acc-982a-464d2d450557",
   "metadata": {},
   "outputs": [],
   "source": [
    "from einops import rearange"
   ]
  },
  {
   "cell_type": "code",
   "execution_count": 14,
   "id": "a55302db-658a-418b-bcc9-4887334da9d2",
   "metadata": {
    "tags": []
   },
   "outputs": [],
   "source": [
    "def compute_loss(model, xb, yb):\n",
    "    logits = model(xb)\n",
    "    \n",
    "    logits = rearange(logits, 'b s n -> (b s) n')\n",
    "    yb = rearange(yb, 'b s -> (b s)')\n",
    "    \n",
    "    loss = F.cross_entropy(logits, yb)\n",
    "    \n",
    "    return loss"
   ]
  },
  {
   "cell_type": "code",
   "execution_count": null,
   "id": "4237a0ff-b45d-40e1-b740-2708e22f4c0b",
   "metadata": {},
   "outputs": [],
   "source": [
    "tokenize observation\n",
    "tokenize prompt append\n",
    "decision\n"
   ]
  },
  {
   "cell_type": "code",
   "execution_count": null,
   "id": "90a41e00-876c-46f0-98bc-c8c48e62befe",
   "metadata": {},
   "outputs": [],
   "source": []
  },
  {
   "cell_type": "code",
   "execution_count": null,
   "id": "4d7a1a7f-6d3c-4540-a58c-d666db639460",
   "metadata": {},
   "outputs": [],
   "source": [
    "output = model.generate(\n",
    "    input_ids=input_ids,\n",
    "    max_new_tokens=10\n",
    ")"
   ]
  },
  {
   "cell_type": "code",
   "execution_count": null,
   "id": "1f911ae2-9843-4e10-adab-6c3c5e2b3825",
   "metadata": {},
   "outputs": [],
   "source": [
    "dataset[\"train\"][\"article\"]"
   ]
  },
  {
   "cell_type": "code",
   "execution_count": null,
   "id": "264358d9-d6c2-461a-acc5-e43aae7b8eac",
   "metadata": {},
   "outputs": [],
   "source": [
    "recurrent state, current observation"
   ]
  },
  {
   "cell_type": "code",
   "execution_count": null,
   "id": "c335be58-93d4-4dec-bdbb-f812359f4286",
   "metadata": {},
   "outputs": [],
   "source": [
    "torch.rand(3, 4)"
   ]
  },
  {
   "cell_type": "code",
   "execution_count": null,
   "id": "d0511409-55ae-4588-9e9e-40d494e6f3a0",
   "metadata": {},
   "outputs": [],
   "source": [
    "pint, "
   ]
  },
  {
   "cell_type": "code",
   "execution_count": 15,
   "id": "6f5e7035-78a1-47b8-84b1-5b397809b690",
   "metadata": {
    "tags": []
   },
   "outputs": [],
   "source": [
    "class MultiHeadAttention(nn.Module):\n",
    "    def __init__(self, attention, d_model, n_heads):\n",
    "        super().__init__()\n",
    "        self.attention = attention\n",
    "        self.d_head = d_model // n_heads\n",
    "        self.d_model, self.n_heads = d_model, n_heads\n",
    "        \n",
    "        self.to_q = nn.Linear(d_model, d_model)\n",
    "        self.to_k = nn.Linear(d_model, d_model)\n",
    "        self.to_v = nn.Linear(d_model, d_model)\n",
    "        self.mha_linear = nn.Linear(d_model, d_model)\n",
    "    \n",
    "    def split_heads(self, x):\n",
    "        batch_size, seq_len, d_model = x.size()\n",
    "        return x.view(batch_size, self.n_heads, seq_len, self.d_head)\n",
    "    \n",
    "    def concat(self, x):\n",
    "        \n",
    "    \n",
    "    def forward(self, pre_q, pre_k, pre_v):\n",
    "        q, k, v = self.to_q(pre_q), self.to_k(pre_k), self.to_v(pre_v)\n",
    "        \n",
    "        q, k, v = self.split_heads(q), self.split_heads(k), self.split_heads(v)\n",
    "        \n",
    "        attn_output, attn_weights = self.attention(q, k, v)\n",
    "        \n",
    "        output = self.mha_linear(attn_output)\n",
    "        \n",
    "        return output, attn_weights"
   ]
  },
  {
   "cell_type": "code",
   "execution_count": null,
   "id": "5833e92b-a4a1-4a8c-bccb-1158b608136b",
   "metadata": {},
   "outputs": [],
   "source": [
    "p, i, n, d"
   ]
  }
 ],
 "metadata": {
  "kernelspec": {
   "display_name": "Python 3 (ipykernel)",
   "language": "python",
   "name": "python3"
  },
  "language_info": {
   "codemirror_mode": {
    "name": "ipython",
    "version": 3
   },
   "file_extension": ".py",
   "mimetype": "text/x-python",
   "name": "python",
   "nbconvert_exporter": "python",
   "pygments_lexer": "ipython3",
   "version": "3.8.16"
  }
 },
 "nbformat": 4,
 "nbformat_minor": 5
}
