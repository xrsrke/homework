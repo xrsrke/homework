{
 "cells": [
  {
   "cell_type": "markdown",
   "id": "fdfef357-1b6d-4067-9308-b0e3c1ebff25",
   "metadata": {},
   "source": [
    "### Science"
   ]
  },
  {
   "cell_type": "code",
   "execution_count": null,
   "id": "40bcd9a8-adc0-43ad-a102-883c8f8407fb",
   "metadata": {},
   "outputs": [],
   "source": [
    "point, silent, frame"
   ]
  },
  {
   "cell_type": "markdown",
   "id": "e3acb04e-cd72-4a48-affe-5d0020c33c61",
   "metadata": {},
   "source": [
    "conditioned response, population decode, motor imagery, "
   ]
  },
  {
   "cell_type": "code",
   "execution_count": null,
   "id": "ccf23660-cfe5-401b-840e-464fe1657b92",
   "metadata": {},
   "outputs": [],
   "source": [
    "have s been v_ing"
   ]
  },
  {
   "cell_type": "code",
   "execution_count": null,
   "id": "b73809a4-ceee-4e12-a5b9-0d8ad2c0b3d7",
   "metadata": {},
   "outputs": [],
   "source": [
    "neuron 1 > axon > synapse > dendrite > neuron 2"
   ]
  },
  {
   "cell_type": "markdown",
   "id": "0368f23e-7c1d-40c2-bb05-73ca5e8164a5",
   "metadata": {},
   "source": [
    "### Python"
   ]
  },
  {
   "cell_type": "code",
   "execution_count": null,
   "id": "15e2a110-f0b5-4a43-ab4b-c749380b48fc",
   "metadata": {},
   "outputs": [],
   "source": [
    "def decorator(x):\n",
    "    def inner():\n",
    "        out = x()\n",
    "    return inner"
   ]
  },
  {
   "cell_type": "code",
   "execution_count": null,
   "id": "d87e3591-6ac8-48f5-89fe-e0c5b3d4438f",
   "metadata": {},
   "outputs": [],
   "source": [
    "from dataclasses import dataclass"
   ]
  },
  {
   "cell_type": "code",
   "execution_count": null,
   "id": "d81e6408-6bf6-4029-a301-38bbf6eef7c0",
   "metadata": {},
   "outputs": [],
   "source": [
    "@dataclass\n",
    "class Universe:\n",
    "    constants: int\n",
    "    initial_energy: int = 41\n",
    "    change_in_energy: int = 0"
   ]
  },
  {
   "cell_type": "code",
   "execution_count": null,
   "id": "7e4825c9-b16c-4454-9f50-2a1f6d2b6d54",
   "metadata": {},
   "outputs": [],
   "source": [
    "x[::2]"
   ]
  },
  {
   "cell_type": "markdown",
   "id": "1fad15cf-a97d-4224-a817-2f71bb6d31bb",
   "metadata": {},
   "source": [
    "### AI"
   ]
  },
  {
   "cell_type": "code",
   "execution_count": null,
   "id": "0f452deb-48a1-4c0b-9442-022bfedf18a0",
   "metadata": {},
   "outputs": [],
   "source": [
    "from ray.tune.callback import Callback"
   ]
  },
  {
   "cell_type": "code",
   "execution_count": null,
   "id": "62e6b69f-d266-41e6-beb7-989d9ffd0bdf",
   "metadata": {},
   "outputs": [],
   "source": [
    "class PrintResultCallback(Callback):\n",
    "    def on_trial_result(self, iteration, trials, trial, result, **info):\n",
    "        print(f\"This is a message. {result['score']}\")"
   ]
  },
  {
   "cell_type": "code",
   "execution_count": null,
   "id": "e622093d-89ad-4cdb-a565-9e8850342008",
   "metadata": {},
   "outputs": [],
   "source": [
    "tune.run(\n",
    "    objective,\n",
    "    config=search_space,\n",
    "    callback=[PrintResultCallback]\n",
    ")"
   ]
  },
  {
   "cell_type": "code",
   "execution_count": null,
   "id": "2c24f2cb-107e-4f85-b017-b4b17cebd905",
   "metadata": {},
   "outputs": [],
   "source": [
    "from ray import tune\n",
    "from ray.tune.schedulers import HyperBandScheduler"
   ]
  },
  {
   "cell_type": "code",
   "execution_count": null,
   "id": "5087068d-100a-4063-a222-2ba2599301f3",
   "metadata": {},
   "outputs": [],
   "source": [
    "tune.run(\n",
    "    objective,\n",
    "    config=search_space,\n",
    "    scheduler=HyperBandScheduler\n",
    ")"
   ]
  },
  {
   "cell_type": "code",
   "execution_count": null,
   "id": "69a6072d-5407-42b3-88c3-61cd716afde0",
   "metadata": {},
   "outputs": [],
   "source": [
    "import torch\n",
    "from torch import nn\n",
    "import torch.nn.functional as F"
   ]
  },
  {
   "cell_type": "code",
   "execution_count": null,
   "id": "5e5d06b8-deda-44b8-94b1-814cc2aca42e",
   "metadata": {},
   "outputs": [],
   "source": [
    "from jax import random"
   ]
  },
  {
   "cell_type": "code",
   "execution_count": null,
   "id": "8f737bd1-13f5-4bb0-8fc8-84758d2b92d2",
   "metadata": {},
   "outputs": [],
   "source": [
    "random.PRNGKey"
   ]
  },
  {
   "cell_type": "code",
   "execution_count": null,
   "id": "e218c664-79d3-46a2-8b1b-c6f9a9ebadce",
   "metadata": {},
   "outputs": [],
   "source": [
    "from langchain"
   ]
  },
  {
   "cell_type": "code",
   "execution_count": null,
   "id": "a1f8048f-3810-41ec-92c2-1021d28005f7",
   "metadata": {},
   "outputs": [],
   "source": [
    "torch.amax"
   ]
  },
  {
   "cell_type": "code",
   "execution_count": null,
   "id": "4f6f9b57-7516-482b-a13e-f7540038da6a",
   "metadata": {},
   "outputs": [],
   "source": [
    "from langchain.memory import SimpleMemory"
   ]
  },
  {
   "cell_type": "code",
   "execution_count": null,
   "id": "4642ccb8-3744-42e5-98ee-6c2ea6af6ed6",
   "metadata": {},
   "outputs": [],
   "source": [
    "memory = SimpleMemory(memories={\n",
    "    \"year\": 2023\n",
    "})"
   ]
  },
  {
   "cell_type": "code",
   "execution_count": null,
   "id": "fdecada1-94de-4481-8922-7fc7e2e3b830",
   "metadata": {},
   "outputs": [],
   "source": [
    "from langchain import LLMChain, PromptTemplate"
   ]
  },
  {
   "cell_type": "code",
   "execution_count": null,
   "id": "05159787-d368-4a4a-b119-1ad112a98ba7",
   "metadata": {},
   "outputs": [],
   "source": [
    "template = \"\"\"\n",
    "This is a conversation between:\n",
    "\n",
    "Context:\n",
    "Current year: {year}\n",
    "\n",
    "User: {input}\n",
    "AI: \n",
    "\"\"\""
   ]
  },
  {
   "cell_type": "code",
   "execution_count": null,
   "id": "bacd887d-e107-4ef7-958a-7038f05c310d",
   "metadata": {},
   "outputs": [],
   "source": [
    "prompt_template = PromptTemplate(\n",
    "    input_variables=[\"input\"],\n",
    "    template=template\n",
    ")"
   ]
  },
  {
   "cell_type": "code",
   "execution_count": null,
   "id": "99e9e40c-7008-4975-a5fe-6dcf28d4156f",
   "metadata": {},
   "outputs": [
    {
     "ename": "NameError",
     "evalue": "name 'model' is not defined",
     "output_type": "error",
     "traceback": [
      "\u001b[0;31m---------------------------------------------------------------------------\u001b[0m",
      "\u001b[0;31mNameError\u001b[0m                                 Traceback (most recent call last)",
      "Cell \u001b[0;32mIn[16], line 2\u001b[0m\n\u001b[1;32m      1\u001b[0m chain \u001b[38;5;241m=\u001b[39m LLMChain(\n\u001b[0;32m----> 2\u001b[0m     llm\u001b[38;5;241m=\u001b[39m\u001b[43mmodel\u001b[49m,\n\u001b[1;32m      3\u001b[0m     prompt\u001b[38;5;241m=\u001b[39mPromptTemplate,\n\u001b[1;32m      4\u001b[0m     memory\u001b[38;5;241m=\u001b[39mmemory\n\u001b[1;32m      5\u001b[0m )\n",
      "\u001b[0;31mNameError\u001b[0m: name 'model' is not defined"
     ]
    }
   ],
   "source": [
    "chain = LLMChain(\n",
    "    llm=model,\n",
    "    prompt=PromptTemplate,\n",
    "    memory=memory\n",
    ")"
   ]
  },
  {
   "cell_type": "code",
   "execution_count": null,
   "id": "a54cc235-3eb9-459e-860e-6ed146f0afa7",
   "metadata": {},
   "outputs": [],
   "source": [
    "from torch import einsum"
   ]
  },
  {
   "cell_type": "code",
   "execution_count": null,
   "id": "f130984a-fd33-4b6d-8687-5c3237bde0ac",
   "metadata": {},
   "outputs": [],
   "source": [
    "output = einsum(\"ij -> ji\", a)"
   ]
  },
  {
   "cell_type": "code",
   "execution_count": null,
   "id": "7eb6eb7d-1644-41df-95eb-65ec78fe144c",
   "metadata": {},
   "outputs": [],
   "source": [
    "from langchain.chains import TransformChain"
   ]
  },
  {
   "cell_type": "code",
   "execution_count": null,
   "id": "b61d139d-550d-4d84-9289-46a1624fd0bc",
   "metadata": {},
   "outputs": [],
   "source": [
    "def to_upper(x):\n",
    "    return {\n",
    "        \"input\": x[\"input\"].upper()\n",
    "    }"
   ]
  },
  {
   "cell_type": "code",
   "execution_count": null,
   "id": "201dce66-ab6b-42b9-afcb-d218496c2204",
   "metadata": {},
   "outputs": [],
   "source": [
    "transform_chain = TransformChain(\n",
    "    input_variables=[\"input\"],\n",
    "    output_variables=[\"input\"],\n",
    "    transform=to_upper\n",
    ")"
   ]
  },
  {
   "cell_type": "code",
   "execution_count": null,
   "id": "69d5dba8-a902-4752-a7ab-3b162518b422",
   "metadata": {},
   "outputs": [],
   "source": [
    "latent state of the current observation, recurrent state"
   ]
  },
  {
   "cell_type": "code",
   "execution_count": null,
   "id": "319d3d1d-bc53-4012-9dfa-ee4edcd31347",
   "metadata": {},
   "outputs": [],
   "source": [
    "tokenize obs\n",
    "tokenize prompt\n",
    "make deciso\n",
    "exec"
   ]
  },
  {
   "cell_type": "code",
   "execution_count": null,
   "id": "77b08dc6-a258-4ff1-bd01-73abe3c8d931",
   "metadata": {},
   "outputs": [],
   "source": [
    "pred_logit = output.logits[0, -1, :]"
   ]
  },
  {
   "cell_type": "code",
   "execution_count": null,
   "id": "5ecb31ef-0693-409b-b118-b5470e9c6635",
   "metadata": {},
   "outputs": [],
   "source": [
    "logit = pred_logit[4]"
   ]
  },
  {
   "cell_type": "code",
   "execution_count": null,
   "id": "5e111b7d-86be-4de2-9657-11bbd58d389c",
   "metadata": {},
   "outputs": [],
   "source": [
    "def compute_cross_entropy(logits, targs):\n",
    "    log_probs = F.log_softmax(logits, dim=-1)\n",
    "    return -targs[range(log_probs.shape[0]), log_probs.shape[-1]].mean()"
   ]
  },
  {
   "cell_type": "code",
   "execution_count": null,
   "id": "d01bf60a-6eca-4c6b-8887-bff5e0363cb6",
   "metadata": {},
   "outputs": [],
   "source": []
  }
 ],
 "metadata": {
  "kernelspec": {
   "display_name": "Python 3 (ipykernel)",
   "language": "python",
   "name": "python3"
  }
 },
 "nbformat": 4,
 "nbformat_minor": 5
}
