{
 "cells": [
  {
   "cell_type": "markdown",
   "id": "39d7556a-8307-4832-a9e4-ccb32806a6e9",
   "metadata": {},
   "source": [
    "### Science"
   ]
  },
  {
   "cell_type": "markdown",
   "id": "8ccddc69-3107-41fd-b7ec-4074607f6704",
   "metadata": {},
   "source": [
    "### Python"
   ]
  },
  {
   "cell_type": "code",
   "execution_count": null,
   "id": "de8ad53a-1e51-4d27-96aa-60180e979001",
   "metadata": {},
   "outputs": [],
   "source": [
    "from typing import Union"
   ]
  },
  {
   "cell_type": "code",
   "execution_count": null,
   "id": "b734f728-471c-49db-8eea-b9c896fc924d",
   "metadata": {},
   "outputs": [],
   "source": [
    "x: Union[int, float, str]"
   ]
  },
  {
   "cell_type": "code",
   "execution_count": null,
   "id": "e44c0d9a-4f39-491b-9a10-2dcc59b192a9",
   "metadata": {},
   "outputs": [],
   "source": [
    "x[:, 1:2::]"
   ]
  },
  {
   "cell_type": "code",
   "execution_count": null,
   "id": "d4dbb2f4-6729-48d2-9867-5367d0e37154",
   "metadata": {},
   "outputs": [],
   "source": [
    "import unittest"
   ]
  },
  {
   "cell_type": "code",
   "execution_count": null,
   "id": "7c55d78c-c6ae-437b-ad2c-b1e58fc16f32",
   "metadata": {},
   "outputs": [],
   "source": [
    "class MediumTestCase(unittest.TestCase):\n",
    "    def test_avg(self):\n",
    "        with self.assertRaises(TypeError):\n",
    "            pass"
   ]
  },
  {
   "cell_type": "code",
   "execution_count": null,
   "id": "5c8d8007-c77c-4d0b-b988-6a7be0539680",
   "metadata": {},
   "outputs": [],
   "source": [
    "from typing import TypeVar"
   ]
  },
  {
   "cell_type": "code",
   "execution_count": null,
   "id": "3c5de774-0564-4e19-a603-75e9dd0c9f38",
   "metadata": {},
   "outputs": [],
   "source": [
    "T = TypeVar(\"T\")"
   ]
  },
  {
   "cell_type": "code",
   "execution_count": null,
   "id": "b66570d3-94fa-42b4-9179-15cccb4fa1e9",
   "metadata": {},
   "outputs": [],
   "source": [
    "APIResponse = Union[T, APIError]"
   ]
  },
  {
   "cell_type": "code",
   "execution_count": null,
   "id": "dc00db58-43a8-4278-82ea-490a5afe91b5",
   "metadata": {},
   "outputs": [],
   "source": [
    "x: list[Union[int, float, str]]"
   ]
  },
  {
   "cell_type": "code",
   "execution_count": null,
   "id": "7ae447c0-de90-4c7b-993f-45c399487efb",
   "metadata": {},
   "outputs": [],
   "source": [
    "x[:, 1::2]"
   ]
  },
  {
   "cell_type": "markdown",
   "id": "2c43a998-8775-4a32-a23f-8f7a24f501e3",
   "metadata": {},
   "source": [
    "### AI"
   ]
  },
  {
   "cell_type": "code",
   "execution_count": null,
   "id": "515ec494-b0d6-4be5-99b5-0f95db236a13",
   "metadata": {},
   "outputs": [],
   "source": [
    "import torch\n",
    "from torch import nn\n",
    "import torch.nn.functional as F"
   ]
  },
  {
   "cell_type": "code",
   "execution_count": null,
   "id": "62a0533c-57e0-4abc-bdf0-beea823a1621",
   "metadata": {},
   "outputs": [],
   "source": [
    "def mse(pred, targ):\n",
    "    return (pred-targ).pow(2).mean()"
   ]
  },
  {
   "cell_type": "code",
   "execution_count": null,
   "id": "ff7a307d-587d-4251-ad87-df01d1f0dcbe",
   "metadata": {},
   "outputs": [],
   "source": [
    "from jax import vmap"
   ]
  },
  {
   "cell_type": "code",
   "execution_count": null,
   "id": "d2a62206-c060-44f2-801b-7362cf6407ce",
   "metadata": {},
   "outputs": [],
   "source": [
    "modified_square = vmap(square)"
   ]
  },
  {
   "cell_type": "code",
   "execution_count": null,
   "id": "61d243ee-f0ee-4095-83ce-78053df1a5b6",
   "metadata": {},
   "outputs": [],
   "source": [
    "x = torch.randn(3, 4)"
   ]
  },
  {
   "cell_type": "code",
   "execution_count": null,
   "id": "05f4fff8-7dae-4f27-b3cf-aa9c9a77fa29",
   "metadata": {},
   "outputs": [
    {
     "data": {
      "text/plain": [
       "tensor([[-0.7736,  1.9128, -0.4097, -0.7613],\n",
       "        [ 0.0167,  1.0620,  0.7827,  1.0845],\n",
       "        [ 1.0364, -0.7162,  0.0103, -0.4120]])"
      ]
     },
     "execution_count": null,
     "metadata": {},
     "output_type": "execute_result"
    }
   ],
   "source": [
    "x"
   ]
  },
  {
   "cell_type": "markdown",
   "id": "6e9ab5b1-1eac-44eb-aae1-3883929e957e",
   "metadata": {},
   "source": [
    "Return the number of elements in the second dim without using `.shape`"
   ]
  },
  {
   "cell_type": "code",
   "execution_count": null,
   "id": "1f0f11fd-f566-4b79-8db5-736d9b23d46f",
   "metadata": {},
   "outputs": [
    {
     "data": {
      "text/plain": [
       "4"
      ]
     },
     "execution_count": null,
     "metadata": {},
     "output_type": "execute_result"
    }
   ],
   "source": [
    "x.size(1)"
   ]
  },
  {
   "cell_type": "code",
   "execution_count": null,
   "id": "3379d6c7-5dbc-404a-bd85-b8909934cbef",
   "metadata": {},
   "outputs": [],
   "source": [
    "import math"
   ]
  },
  {
   "cell_type": "code",
   "execution_count": null,
   "id": "65bf6c56-bd04-45f9-ab61-09187fb2a9f8",
   "metadata": {},
   "outputs": [],
   "source": [
    "class SelfAttention(nn.Module):\n",
    "    def __init__(self, d_head):\n",
    "        super().__init__()\n",
    "        self.d_head = d_head\n",
    "    \n",
    "    def forward(self, q, k, v, mask = None):\n",
    "        qk_matmul = torch.matmul(q, k)\n",
    "        scores = qk_matmul / math.sqrt(self.d_head)\n",
    "        \n",
    "        if mask is not None:\n",
    "            scores = scores.mask_fill(mask == False, 1e-9)\n",
    "        \n",
    "        attention_weights = F.softmax(scores, dim=-1)\n",
    "        output = torch.matmul(attention_weights, v)\n",
    "        \n",
    "        return output, attention_weights"
   ]
  },
  {
   "cell_type": "code",
   "execution_count": null,
   "id": "b3b025c4-fac2-4fd6-b4ba-0dd317d1bd82",
   "metadata": {},
   "outputs": [],
   "source": [
    "import gymnasium as gym"
   ]
  },
  {
   "cell_type": "code",
   "execution_count": null,
   "id": "a1c952c3-ff15-47aa-95da-604cbc448338",
   "metadata": {},
   "outputs": [],
   "source": [
    "envs = gym.vector.SyncVectorEnv([\n",
    "    lambda: gym.make(\"CartPole-v1\"),\n",
    "    lambda: gym.make(\"CartPole-v1\"),\n",
    "    lambda: gym.make(\"CartPole-v1\"),\n",
    "])"
   ]
  },
  {
   "cell_type": "code",
   "execution_count": null,
   "id": "462ecbe5-f944-4c5e-8e48-2d971054f829",
   "metadata": {},
   "outputs": [],
   "source": [
    "embedding = nn.Embedding(num_embeddings=10, embedding_dim=5, padding_idx=5)"
   ]
  }
 ],
 "metadata": {
  "kernelspec": {
   "display_name": "Python 3 (ipykernel)",
   "language": "python",
   "name": "python3"
  }
 },
 "nbformat": 4,
 "nbformat_minor": 5
}
