{
 "cells": [
  {
   "cell_type": "markdown",
   "id": "3e5c8eea-ff03-4e55-9abf-15efea38177e",
   "metadata": {},
   "source": [
    "### Science"
   ]
  },
  {
   "cell_type": "markdown",
   "id": "bb06ca2f-dc0a-40c6-ab89-89077f2d94b8",
   "metadata": {},
   "source": [
    "### Python"
   ]
  },
  {
   "cell_type": "code",
   "execution_count": null,
   "id": "49e2d2b9-4db6-47f0-b38a-a5bfbe1ea31c",
   "metadata": {},
   "outputs": [],
   "source": [
    "from typing import "
   ]
  },
  {
   "cell_type": "code",
   "execution_count": null,
   "id": "6cf5ec3b-239a-4ca8-8337-d9a8871bd078",
   "metadata": {},
   "outputs": [],
   "source": [
    "def is_valid(value: bool=False) -> bool:\n",
    "    return value"
   ]
  },
  {
   "cell_type": "code",
   "execution_count": null,
   "id": "54256450-b514-4f08-9214-e8608e0a18da",
   "metadata": {},
   "outputs": [],
   "source": [
    "def my_func(a, b=2, c=3)"
   ]
  },
  {
   "cell_type": "markdown",
   "id": "94f3c3ca-0561-47f3-979e-d0c01cad918d",
   "metadata": {},
   "source": [
    "### AI"
   ]
  },
  {
   "cell_type": "code",
   "execution_count": null,
   "id": "01b7d6f8-87a9-4ee1-84a8-42335cbcb365",
   "metadata": {},
   "outputs": [],
   "source": [
    "import torch\n",
    "from torch import nn\n",
    "import torch.nn.functional as F"
   ]
  },
  {
   "cell_type": "code",
   "execution_count": null,
   "id": "f8d399a3-de95-45c7-9e4d-e072955313e1",
   "metadata": {},
   "outputs": [],
   "source": [
    "truncation, sliding the window, spliting sequence"
   ]
  },
  {
   "cell_type": "code",
   "execution_count": null,
   "id": "f2cd9e3c-d732-4bb2-adc4-5fc317e2a2e9",
   "metadata": {},
   "outputs": [],
   "source": [
    "def clip(ratio, epsilon):\n",
    "    return torch.clamp(ratio, min=1-epsilon, max=1+epsilon)"
   ]
  },
  {
   "cell_type": "code",
   "execution_count": null,
   "id": "8b541ab8-36a3-43d5-b733-5882d45e2190",
   "metadata": {},
   "outputs": [],
   "source": [
    "embedding = nn.Embedding(num_embeddings=x.shape[-1])"
   ]
  },
  {
   "cell_type": "code",
   "execution_count": null,
   "id": "bab97425-8471-4b2e-b370-671bc96640f5",
   "metadata": {},
   "outputs": [],
   "source": [
    "self.register_buffer"
   ]
  },
  {
   "cell_type": "code",
   "execution_count": null,
   "id": "7afb20a1-e853-473c-b379-8e129d9b401b",
   "metadata": {},
   "outputs": [],
   "source": [
    "class LModel1(nn.Module):\n",
    "    def __init__(self, vocab_sz, n_hidden):\n",
    "        super().__init__()\n",
    "        self.i_h = nn.Embedding(vocab_sz, n_hidden)\n",
    "        self.h_h = nn.Linear(n_hidden, n_hidden)\n",
    "        self.h_o = nn.Linear(n_hidden, vocab_sz)\n",
    "    \n",
    "    def forward(self, x):\n",
    "        h = F.relu(self.i_h(x[:, 0]))\n",
    "        h = F.relu(self.i_h(x[:, 1])) F.relu(self.h_h(h))\n",
    "        h = F.relu(self.i_h(x[:, 2])) F.relu(self.h_h(h))\n",
    "        h = F.relu(self.h_o(h))\n",
    "        \n",
    "        return h"
   ]
  },
  {
   "cell_type": "code",
   "execution_count": null,
   "id": "175b2d69-a17b-4d21-826d-f1059f5cf9d3",
   "metadata": {},
   "outputs": [],
   "source": [
    "def calculate_loss_of_soft_v(states, actions, action_probs):\n",
    "    v_values = v_network(states)\n",
    "    v_pred = (q_function(states, actions) - action_probs.log())"
   ]
  },
  {
   "cell_type": "code",
   "execution_count": null,
   "id": "9083bde7-25ef-4270-8fba-f5e47de37148",
   "metadata": {},
   "outputs": [],
   "source": [
    "def print_layer(model):\n",
    "    for x in model.named_parameters():\n",
    "        pass"
   ]
  }
 ],
 "metadata": {
  "kernelspec": {
   "display_name": "Python 3 (ipykernel)",
   "language": "python",
   "name": "python3"
  }
 },
 "nbformat": 4,
 "nbformat_minor": 5
}
