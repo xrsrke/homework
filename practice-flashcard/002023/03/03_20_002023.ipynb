{
 "cells": [
  {
   "cell_type": "markdown",
   "id": "9ff06fcc-9fa5-4c97-a684-53154e531c2d",
   "metadata": {},
   "source": [
    "### Science"
   ]
  },
  {
   "cell_type": "code",
   "execution_count": null,
   "id": "7ba0a3a5-05fd-4da6-bef1-6a45ffaacd3c",
   "metadata": {},
   "outputs": [],
   "source": [
    "change in impulse = change in momentum\n",
    "\n",
    "j = f t\n",
    "m = mv"
   ]
  },
  {
   "cell_type": "markdown",
   "id": "09e34281-22cb-44c4-94b9-5f66a07dc7d5",
   "metadata": {},
   "source": [
    "### Python"
   ]
  },
  {
   "cell_type": "code",
   "execution_count": null,
   "id": "ee475924-650d-4993-8f7d-752d8af82f7d",
   "metadata": {},
   "outputs": [],
   "source": [
    "class X:\n",
    "    @classmethod\n",
    "    def auto_drive():\n",
    "        pass"
   ]
  },
  {
   "cell_type": "code",
   "execution_count": null,
   "id": "8713560c-2b15-4475-be3c-596dcb69ac38",
   "metadata": {},
   "outputs": [],
   "source": [
    "from typing import Union, List"
   ]
  },
  {
   "cell_type": "code",
   "execution_count": null,
   "id": "5f100737-6640-45f8-9b14-7cf16e06c5cd",
   "metadata": {},
   "outputs": [],
   "source": [
    "x: List[Union[int, float, str]]"
   ]
  },
  {
   "cell_type": "code",
   "execution_count": null,
   "id": "abe21041-078e-4a71-9f80-d882006fcea2",
   "metadata": {},
   "outputs": [],
   "source": [
    "x[:, 1::2]"
   ]
  },
  {
   "cell_type": "code",
   "execution_count": null,
   "id": "2ec6459a-8e1e-4eab-950f-25749ebc839b",
   "metadata": {},
   "outputs": [],
   "source": [
    "class CarProxy:\n",
    "    def __init__(self, driver):\n",
    "        self.driver = driver\n",
    "    \n",
    "    def drive(self):\n",
    "        if self.driver.age > 16:\n",
    "            return self.driver.drive()\n",
    "        else:\n",
    "            pass"
   ]
  },
  {
   "cell_type": "code",
   "execution_count": null,
   "id": "7189bc4c-b00b-4586-84c3-a14f8c7e2f39",
   "metadata": {},
   "outputs": [],
   "source": [
    "class Computer:\n",
    "    def __init__(self, components):\n",
    "        self.components = components\n",
    "    \n",
    "    def activate(self):\n",
    "        for component in self.components:\n",
    "            component.activate()"
   ]
  },
  {
   "cell_type": "code",
   "execution_count": null,
   "id": "4d8a23d1-49bb-4275-b9b6-fed686daf2a7",
   "metadata": {},
   "outputs": [],
   "source": [
    "say_hello() if a < 10 else say_goodbye()"
   ]
  },
  {
   "cell_type": "code",
   "execution_count": null,
   "id": "80f4eed7-9edc-470e-b65d-34b58fddb1ba",
   "metadata": {},
   "outputs": [],
   "source": [
    "from typing import TypeVar, Union"
   ]
  },
  {
   "cell_type": "code",
   "execution_count": null,
   "id": "c3729387-4d25-4ebc-9c6b-a0d43b28db51",
   "metadata": {},
   "outputs": [],
   "source": [
    "T = TypeVar(\"T\")"
   ]
  },
  {
   "cell_type": "code",
   "execution_count": null,
   "id": "5775157e-8257-474f-9cc7-2b6a4c9c1457",
   "metadata": {},
   "outputs": [],
   "source": [
    "APIResponse = Union[T, APIError]"
   ]
  },
  {
   "cell_type": "markdown",
   "id": "620d73a0-87cb-4183-a12e-a089a58bbb6b",
   "metadata": {},
   "source": [
    "### AI"
   ]
  },
  {
   "cell_type": "code",
   "execution_count": null,
   "id": "b1fc02d2-c702-4c21-8fc8-36fd5f5f39a8",
   "metadata": {},
   "outputs": [],
   "source": [
    "import torch\n",
    "from torch import nn\n",
    "import torch.nn.functional as F"
   ]
  },
  {
   "cell_type": "code",
   "execution_count": null,
   "id": "e11176ce-3ef9-47d4-a7e9-4cf6030b23e0",
   "metadata": {},
   "outputs": [],
   "source": [
    "from langchain.chains import SimpleSequentialChain"
   ]
  },
  {
   "cell_type": "code",
   "execution_count": null,
   "id": "1503e389-5d6d-4c99-a069-cf82d911e42e",
   "metadata": {},
   "outputs": [],
   "source": [
    "i = 1\n",
    "while i <= 10:\n",
    "    env.step(env.action_sample.sample())\n",
    "    i += 1"
   ]
  },
  {
   "cell_type": "code",
   "execution_count": null,
   "id": "81b58aeb-da88-41b0-8db5-e10eb89bde76",
   "metadata": {},
   "outputs": [],
   "source": [
    "from pfrl.q_functions import DiscreteActionValueHead"
   ]
  },
  {
   "cell_type": "code",
   "execution_count": null,
   "id": "97b77f8d-14f5-4ce9-8560-9c6f2f48e26b",
   "metadata": {},
   "outputs": [],
   "source": [
    "q_func = nn.Sequential(\n",
    "    DiscreteActionValueHead()\n",
    ")"
   ]
  },
  {
   "cell_type": "code",
   "execution_count": null,
   "id": "25c0acb6-9d2d-456d-92d8-9b0ad120dd0b",
   "metadata": {},
   "outputs": [],
   "source": [
    "from langchain.prompts import FewShotPromptTemplate, PromptTemplate"
   ]
  },
  {
   "cell_type": "code",
   "execution_count": null,
   "id": "91dbdb05-03a0-4eb2-bd18-495cda6713a3",
   "metadata": {},
   "outputs": [],
   "source": [
    "examples = [\n",
    "    {\"question\": \"How are you?\", \"answer\": \"XX\"},\n",
    "    {\"question\": \"How are you?\", \"answer\": \"XX\"},\n",
    "]"
   ]
  },
  {
   "cell_type": "code",
   "execution_count": null,
   "id": "599bafd3-b418-4d6d-b47a-b7787ac373cf",
   "metadata": {},
   "outputs": [],
   "source": [
    "example_template = \"\"\"\n",
    "User: {question}\n",
    "AI: {answer}\n",
    "\"\"\""
   ]
  },
  {
   "cell_type": "code",
   "execution_count": null,
   "id": "e2492650-b819-4eae-89e0-60006229f777",
   "metadata": {},
   "outputs": [],
   "source": [
    "example_prompt = PromptTemplate(\n",
    "    input_variables=[\"question\", \"answer\"],\n",
    "    template=example_template\n",
    ")"
   ]
  },
  {
   "cell_type": "code",
   "execution_count": null,
   "id": "a1199f9f-f907-41fc-b6b4-57e46788ffbd",
   "metadata": {},
   "outputs": [],
   "source": [
    "suffix = \"\"\"\n",
    "{input}\n",
    "\n",
    "\"\"\""
   ]
  },
  {
   "cell_type": "code",
   "execution_count": null,
   "id": "166fbfeb-589e-4d58-963c-bf76569c31c9",
   "metadata": {},
   "outputs": [],
   "source": [
    "few_shot = FewShotPromptTemplate(\n",
    "    examples=examples,\n",
    "    example_prompt=example_prompt, \n",
    "    input_variables=[\"input\"],\n",
    "    suffix=suffix\n",
    ")"
   ]
  },
  {
   "cell_type": "code",
   "execution_count": null,
   "id": "c35ca824-0023-4238-b3c2-e7e34237e039",
   "metadata": {},
   "outputs": [],
   "source": [
    "from torch.nn.utils.rnn import pad_sequence"
   ]
  },
  {
   "cell_type": "code",
   "execution_count": null,
   "id": "c2ef78ca-6cb6-417a-adc2-2fe726c43526",
   "metadata": {},
   "outputs": [],
   "source": [
    "pad_sequence(batch, batch_first=True, padding_value=0)"
   ]
  },
  {
   "cell_type": "code",
   "execution_count": null,
   "id": "f288e146-71c2-4016-a3e9-8f3f0922e291",
   "metadata": {},
   "outputs": [],
   "source": [
    "from torch.utils.data import DataLoader, random_split"
   ]
  },
  {
   "cell_type": "code",
   "execution_count": null,
   "id": "997fa656-2198-459c-89bb-88b6dfeabf72",
   "metadata": {},
   "outputs": [],
   "source": [
    "train_set, valid_set = random_split(dataset, [6, 4])"
   ]
  },
  {
   "cell_type": "code",
   "execution_count": null,
   "id": "0554b248-86c4-4f5b-b48a-23984f8e09b5",
   "metadata": {},
   "outputs": [],
   "source": [
    "train_loader = DataLoader(train_set, batch_size=2)\n",
    "valid_loader = DataLoader(valid_set, batch_size=2)"
   ]
  },
  {
   "cell_type": "code",
   "execution_count": null,
   "id": "a54c9f1f-6b57-4f35-9604-af25cf459f60",
   "metadata": {},
   "outputs": [],
   "source": [
    "x.size(1)"
   ]
  },
  {
   "cell_type": "code",
   "execution_count": null,
   "id": "116bb11a-af6c-479a-ac15-565f7066c369",
   "metadata": {},
   "outputs": [],
   "source": [
    "from jax import jit"
   ]
  },
  {
   "cell_type": "code",
   "execution_count": null,
   "id": "1a491ddf-d629-4038-b429-a6b87bebce2c",
   "metadata": {},
   "outputs": [],
   "source": [
    "modified_square = jit(square)"
   ]
  },
  {
   "cell_type": "code",
   "execution_count": null,
   "id": "b7d7b011-6ceb-493e-a4d9-4a90acf2644a",
   "metadata": {},
   "outputs": [],
   "source": [
    "from langchain.chains import TransformChain"
   ]
  },
  {
   "cell_type": "code",
   "execution_count": null,
   "id": "98560a9b-36d7-4755-a819-d85c319c44da",
   "metadata": {},
   "outputs": [],
   "source": [
    "def to_uppercase(x):\n",
    "    return {\n",
    "        \"text\": x[\"text\"].upper()\n",
    "    }"
   ]
  },
  {
   "cell_type": "code",
   "execution_count": null,
   "id": "40ca73b4-70fa-47cc-bf5d-8a114c486db9",
   "metadata": {},
   "outputs": [],
   "source": [
    "transform_chain = TransformChain(\n",
    "    input_variables=[\"text\"],\n",
    "    output_variables=[\"text\"],\n",
    "    transform=to_uppercase\n",
    ")"
   ]
  },
  {
   "cell_type": "code",
   "execution_count": null,
   "id": "435c0b97-5e72-40fa-b314-c6019d50f673",
   "metadata": {},
   "outputs": [],
   "source": [
    "torch.bmm(inp1, inp2)"
   ]
  },
  {
   "cell_type": "code",
   "execution_count": null,
   "id": "40b70506-c74f-4861-9124-51bc2c3e8464",
   "metadata": {},
   "outputs": [],
   "source": [
    "class LayerNorm(nn.Module):\n",
    "    def __init__(self, features, eps):\n",
    "        super().__init__()\n",
    "        self.eps = eps\n",
    "        self.add = nn.Parameter(torch.zeros(features))\n",
    "        self.mult = nn.Parameter(torch.ones(features))\n",
    "    \n",
    "    def forward(self, x):\n",
    "        mean = x.mean(keepdim=True, dim=-1)\n",
    "        std = x.std(keepdim=True, dim=-1)\n",
    "        x = (x - mean) / (std + self.eps)\n",
    "        x = self.mult*x + self.add\n",
    "        return x"
   ]
  },
  {
   "cell_type": "code",
   "execution_count": null,
   "id": "6ece172f-ba81-4e27-a4dc-b1ac5ca8d15f",
   "metadata": {},
   "outputs": [],
   "source": []
  }
 ],
 "metadata": {
  "kernelspec": {
   "display_name": "Python 3 (ipykernel)",
   "language": "python",
   "name": "python3"
  }
 },
 "nbformat": 4,
 "nbformat_minor": 5
}
