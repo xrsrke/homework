{
 "cells": [
  {
   "cell_type": "markdown",
   "id": "be4302e2-36da-4a22-bf15-c0bae6578550",
   "metadata": {},
   "source": [
    "### Engineering"
   ]
  },
  {
   "cell_type": "code",
   "execution_count": null,
   "id": "f083330e-1d7e-425f-8b7d-35ddaf03b7c5",
   "metadata": {},
   "outputs": [],
   "source": [
    "import torch\n",
    "from torch import nn\n",
    "import torch.nn.functional as F"
   ]
  },
  {
   "cell_type": "code",
   "execution_count": null,
   "id": "2045942e-e08d-477b-aeaa-f32564de654a",
   "metadata": {},
   "outputs": [],
   "source": [
    "ranks = [0, 1, 3, 6]"
   ]
  },
  {
   "cell_type": "code",
   "execution_count": null,
   "id": "8903c3f8-d278-49ed-9967-22a07871ce35",
   "metadata": {},
   "outputs": [],
   "source": [
    "group = None"
   ]
  },
  {
   "cell_type": "code",
   "execution_count": null,
   "id": "b79fcb03-7bee-42e6-83ff-4da553365fc8",
   "metadata": {},
   "outputs": [],
   "source": [
    "rank = torch.distributed.get_rank()"
   ]
  },
  {
   "cell_type": "code",
   "execution_count": null,
   "id": "77c22ee3-22c2-448e-a25b-213fca98b62f",
   "metadata": {},
   "outputs": [],
   "source": [
    "if rank in ranks:\n",
    "    group = torch.distributed.new_process_group(ranks=ranks)"
   ]
  },
  {
   "cell_type": "code",
   "execution_count": null,
   "id": "de371f52-67be-4bd9-ba7f-da0ff9de6bbc",
   "metadata": {},
   "outputs": [],
   "source": [
    "if rank == 0:\n",
    "    torch.distributed.broadcast(x, src=0, group=group)"
   ]
  },
  {
   "cell_type": "code",
   "execution_count": null,
   "id": "e6be814b-9d74-46c0-a668-34e95cc986ec",
   "metadata": {},
   "outputs": [],
   "source": [
    "class ParallelMLP(nn.Module):\n",
    "    def __init__(self, hidden_size):\n",
    "        super().__init__()\n",
    "        self.dense_h_to_4h = ColumnParallelLinear(\n",
    "            input_size=hidden_size,\n",
    "            output_size=hidden_size*4\n",
    "        )\n",
    "        self.gelu = nn.GELU()\n",
    "        self.dense_4h_to_h = RowParallelLinear(\n",
    "            input_size=hidden_size*4,\n",
    "            output_size=hidden_size\n",
    "        )\n",
    "    \n",
    "    def forward(self, input):\n",
    "        output_paralell = self.dense_h_to_4h(input)\n",
    "        output_parallel = self.gelu(output_paralell)\n",
    "        output = self.dense_4h_to_h(output_paralell)\n",
    "        return output"
   ]
  },
  {
   "cell_type": "code",
   "execution_count": null,
   "id": "8e1fd438-aa5b-4069-aae5-5e154932ba0d",
   "metadata": {},
   "outputs": [],
   "source": [
    "class ColumnParallelLinear(nn.Module):\n",
    "    def __init__(self, input_size, output_size, world_size):\n",
    "        super().__init__()\n",
    "        self.input_size = input_size\n",
    "        self.output_size_per_partrition = output_size // world_size\n",
    "        self.weight = nn.Parameter(torch.empty(\n",
    "            self.output_size_per_partrition,\n",
    "            self.input_size\n",
    "        ))\n",
    "        self.bias = nn.Parameter(torch.empty(\n",
    "            self.output_size_per_partrition\n",
    "        ))\n",
    "    \n",
    "    def forward(self, input):\n",
    "        output_parallel = F.linear(input, self.weight, self.bias)\n",
    "        \n",
    "        world_size = torch.distributed.get_world_size()\n",
    "        outputs = [torch.empty_like(output_parallel) for _ in range(world_size)]\n",
    "        torch.distributed.all_gather(outputs, output_parallel)\n",
    "        outputs = torch.cat(outputs, dim=-1)\n",
    "        return outputs"
   ]
  },
  {
   "cell_type": "code",
   "execution_count": null,
   "id": "c0abd220-f90d-49f1-a15c-23cfcf7ee17c",
   "metadata": {},
   "outputs": [],
   "source": [
    "class f(torch.autograd.Function):\n",
    "    @staticmethod\n",
    "    def forward(ctx, input):\n",
    "        return input\n",
    "    \n",
    "    @staticmethod\n",
    "    def backward(ctx, grad_output):\n",
    "        torch.distributed.all_reduce(grad_output)\n",
    "        return grad_output"
   ]
  },
  {
   "cell_type": "code",
   "execution_count": null,
   "id": "f4dbb655-24f0-4905-a833-2332eb59159d",
   "metadata": {},
   "outputs": [],
   "source": [
    "class g(torch.autograd.Function):\n",
    "    @staticmethod\n",
    "    def forward(ctx, input):\n",
    "        world_size = torch.distributed.get_world_size()\n",
    "        inputs = [torch.empty_like(input) for _ in range(world_size)]\n",
    "        torch.distributed.all_gather(inputs, input)\n",
    "        inputs = torch.cat(inputs, dim=-1)\n",
    "        return inputs\n",
    "    \n",
    "    @staticmethod\n",
    "    def backward(ctx, grad_output):\n",
    "        world_size = torch.distributed.get_world_size()\n",
    "        rank = torch.distributed.get_rank()\n",
    "        \n",
    "        dim_size = grad_output.shape[-1]\n",
    "        dim_size_per_partrition = dim_size // world_size\n",
    "        \n",
    "        grad_chunks = torch.split(grad_output, dim_size_per_partrition, dim=-1)\n",
    "        \n",
    "        return grad_chunks[rank]"
   ]
  },
  {
   "cell_type": "code",
   "execution_count": null,
   "id": "15c49add-a4f0-406c-8ba8-2d552c4eae02",
   "metadata": {},
   "outputs": [],
   "source": [
    "class ColumnParallelLinear(nn.Module):\n",
    "    def __init__(self, input_size, output_size):\n",
    "        super().__init__()\n",
    "        world_size = torch.distributed.get_world_size()\n",
    "        self.input_size = input_size\n",
    "        self.output_size_per_partrition = output_size // world_size\n",
    "        self.weight = nn.Parameter(torch.empty(\n",
    "            self.output_size_per_partrition,\n",
    "            self.input_size\n",
    "        ))\n",
    "        self.bias = nn.Parameter(torch.empty(\n",
    "            self.output_size_per_partrition\n",
    "        ))\n",
    "    \n",
    "    def forward(self, input):\n",
    "        input_parallel = f.apply(input)\n",
    "        output_parallel = F.linear(input_parallel, self.weight, self.bias)\n",
    "        output = g.apply(output_parallel)\n",
    "        return output"
   ]
  },
  {
   "cell_type": "code",
   "execution_count": null,
   "id": "d0f12d6a-9b56-4b61-b8bf-66a52e2b8dba",
   "metadata": {},
   "outputs": [],
   "source": [
    "def create_continuous_memory(memory_size):\n",
    "    FP32_SIZE = 4\n",
    "    n_numbers = memory_size // FP32_SIZE\n",
    "    return torch.empty(n_numbers, dtype=torch.float32)"
   ]
  },
  {
   "cell_type": "code",
   "execution_count": null,
   "id": "581a9203-fd5a-49f6-a038-5bdd1f163d66",
   "metadata": {},
   "outputs": [],
   "source": [
    "step 1: record the elapse time for each layer\n",
    "step 2: determine the number of layers for each partrition\n",
    "step 3: split the\n",
    "step 4: move"
   ]
  },
  {
   "cell_type": "code",
   "execution_count": null,
   "id": "ff9dfcb8-0867-4833-b911-0733b4bde1a8",
   "metadata": {},
   "outputs": [],
   "source": [
    "tensor_model_parallel_size = 2"
   ]
  },
  {
   "cell_type": "code",
   "execution_count": null,
   "id": "7928a7f4-5aa7-4921-9bdc-58fb11fffdc7",
   "metadata": {},
   "outputs": [],
   "source": [
    "num_tensor_model_parallel_groups = 8"
   ]
  },
  {
   "cell_type": "code",
   "execution_count": null,
   "id": "db011b56-09d3-47c6-b239-54e602629a2b",
   "metadata": {},
   "outputs": [
    {
     "name": "stdout",
     "output_type": "stream",
     "text": [
      "[0, 1]\n",
      "[2, 3]\n",
      "[4, 5]\n",
      "[6, 7]\n",
      "[8, 9]\n",
      "[10, 11]\n",
      "[12, 13]\n",
      "[14, 15]\n"
     ]
    }
   ],
   "source": [
    "for i in range(num_tensor_model_parallel_groups):\n",
    "    ranks = list(range(\n",
    "        i*tensor_model_parallel_size,\n",
    "        (i+1)*tensor_model_parallel_size\n",
    "    ))\n",
    "    \n",
    "    print(ranks)"
   ]
  },
  {
   "cell_type": "markdown",
   "id": "03a82942-acb5-446c-8036-8dda5e35adb2",
   "metadata": {},
   "source": [
    "### ML Engineering"
   ]
  },
  {
   "cell_type": "code",
   "execution_count": null,
   "id": "9dcabc41-a26a-4de9-b507-e67dec476702",
   "metadata": {},
   "outputs": [],
   "source": [
    "from metaflow import parallel_map"
   ]
  },
  {
   "cell_type": "code",
   "execution_count": null,
   "id": "6fab4095-3ea5-4abc-ac64-bc293c13a8ea",
   "metadata": {},
   "outputs": [],
   "source": [
    "results = parallel_map(plus_69, numbers)"
   ]
  },
  {
   "cell_type": "markdown",
   "id": "0ff45edd-0f67-478e-ad09-419e148061db",
   "metadata": {},
   "source": [
    "### MechInterp"
   ]
  },
  {
   "cell_type": "code",
   "execution_count": null,
   "id": "efc577eb-5e44-4349-b970-770d225071b3",
   "metadata": {},
   "outputs": [],
   "source": [
    "import torch\n",
    "from torch import nn\n",
    "import torch.nn.functional as F"
   ]
  },
  {
   "cell_type": "code",
   "execution_count": null,
   "id": "a872b72d-c986-4da0-9902-9e6806a6a194",
   "metadata": {},
   "outputs": [],
   "source": [
    "components = []"
   ]
  },
  {
   "cell_type": "code",
   "execution_count": null,
   "id": "166bc159-5813-4ff9-9ae5-d854cfcf0b75",
   "metadata": {},
   "outputs": [],
   "source": [
    "text_embeddings = cache[\"hook_embed\"]"
   ]
  },
  {
   "cell_type": "code",
   "execution_count": null,
   "id": "75c18a0c-6cca-443c-afc1-3d1f0f7d4f48",
   "metadata": {},
   "outputs": [],
   "source": [
    "positional_embeddings = cache[\"hook_pos_embed\"]"
   ]
  },
  {
   "cell_type": "code",
   "execution_count": null,
   "id": "0058fe05-a19a-4956-9755-d044ce527f04",
   "metadata": {},
   "outputs": [],
   "source": [
    "components.append(text_embeddings)\n",
    "components.append(positional_embeddings)"
   ]
  },
  {
   "cell_type": "code",
   "execution_count": null,
   "id": "d9fcd723-4480-4131-bfca-4a599d7544cb",
   "metadata": {},
   "outputs": [],
   "source": [
    "n_layers = 3"
   ]
  },
  {
   "cell_type": "code",
   "execution_count": null,
   "id": "bc9042a9-e1e2-44d2-8734-fa90b4bfa82b",
   "metadata": {},
   "outputs": [],
   "source": [
    "from transformer_lens import utils"
   ]
  },
  {
   "cell_type": "code",
   "execution_count": null,
   "id": "e293907b-8b1d-46e6-b660-2340e7950fa4",
   "metadata": {},
   "outputs": [],
   "source": [
    "for i in range(n_layers):\n",
    "    attn_out = utils.get_act_name(\"attn_out\", i)\n",
    "    mlp_out = utils.get_act_name(\"mlp_out\", i)\n",
    "    components.append(attn_out)\n",
    "    components.append(mlp_out)"
   ]
  },
  {
   "cell_type": "code",
   "execution_count": null,
   "id": "b65faaf4-55e0-461d-af97-4fc6ed2ffb5d",
   "metadata": {},
   "outputs": [],
   "source": [
    "features are directions\n",
    "features are linear representations"
   ]
  },
  {
   "cell_type": "code",
   "execution_count": null,
   "id": "c9503cdc-8eeb-49b7-b073-eaeaaf166fb6",
   "metadata": {},
   "outputs": [],
   "source": [
    "n_features = interference.shape[-1]"
   ]
  },
  {
   "cell_type": "code",
   "execution_count": null,
   "id": "e294ea21-6e77-4ec5-a017-ec0b257ce2c6",
   "metadata": {},
   "outputs": [],
   "source": [
    "interference[torch.arange(n_features), torch.arange(n_features)] = 0"
   ]
  },
  {
   "cell_type": "code",
   "execution_count": null,
   "id": "fd74cb6d-441d-43fd-9316-4d327f9833f2",
   "metadata": {},
   "outputs": [],
   "source": [
    "from einops import einsum"
   ]
  },
  {
   "cell_type": "code",
   "execution_count": null,
   "id": "f92241ba-31c8-48ec-be38-26a818348d84",
   "metadata": {},
   "outputs": [],
   "source": [
    "interference[torch.arange(n_features), torch.arange(n_features)] = 0."
   ]
  },
  {
   "cell_type": "code",
   "execution_count": null,
   "id": "fb747fa2-020e-493d-8bca-c79aa6689112",
   "metadata": {},
   "outputs": [],
   "source": [
    "polysemanticity = interference.pow(2).sum(dim=-1).sqrt()"
   ]
  },
  {
   "cell_type": "code",
   "execution_count": null,
   "id": "ced4289d-e2da-4e90-9335-954a3e0fd84f",
   "metadata": {},
   "outputs": [],
   "source": [
    "step 1\n",
    "step 2 x1 x2\n",
    "step 3: extract\n",
    "step 4: normalize\n",
    "step 5:"
   ]
  },
  {
   "cell_type": "markdown",
   "id": "a3609075-126e-4f03-ad7e-fb63eaa098a9",
   "metadata": {},
   "source": [
    "### AI"
   ]
  },
  {
   "cell_type": "code",
   "execution_count": null,
   "id": "171236a7-90ac-4088-ba85-7a7fb02bd880",
   "metadata": {},
   "outputs": [],
   "source": [
    "import torch\n",
    "from torch import nn\n",
    "import torch.nn.functional as F"
   ]
  },
  {
   "cell_type": "code",
   "execution_count": null,
   "id": "fe3c71dc-6dbe-4967-b8f4-ce6d0a6291b2",
   "metadata": {},
   "outputs": [],
   "source": [
    "from contextlib import contextmanager"
   ]
  },
  {
   "cell_type": "code",
   "execution_count": null,
   "id": "fce13bd9-6db7-4b5d-844b-9347178b4674",
   "metadata": {},
   "outputs": [],
   "source": [
    "@contextmanager\n",
    "def use_stream(stream):\n",
    "    if isinstance(stream, torch.cuda.Stream):\n",
    "        return\n",
    "    \n",
    "    with torch.cuda.stream(stream):\n",
    "        yield"
   ]
  },
  {
   "cell_type": "code",
   "execution_count": null,
   "id": "0ae7cfe3-d824-41be-97fa-89d30bb8ab50",
   "metadata": {},
   "outputs": [],
   "source": [
    "step 1: tokenize prompt\n",
    "step 2: observation\n",
    "step 3: pred\n",
    "step 4: take action\n",
    "step 5: repeat"
   ]
  },
  {
   "cell_type": "code",
   "execution_count": null,
   "id": "1175ce32-6e87-4998-8350-9442cb652f66",
   "metadata": {},
   "outputs": [],
   "source": [
    "tokenizer.add_special_tokens(SPECIAL_TOKENS)"
   ]
  },
  {
   "cell_type": "code",
   "execution_count": null,
   "id": "fb3f225f-6c84-4a24-b0a0-f0b5d5c5e628",
   "metadata": {},
   "outputs": [],
   "source": [
    "model.resize_text_embedding(len(tokenizer))"
   ]
  },
  {
   "cell_type": "code",
   "execution_count": null,
   "id": "640e7270-20dc-4fc2-b72d-7ae00764664e",
   "metadata": {},
   "outputs": [],
   "source": [
    "for param in model.parameters():\n",
    "    param.requires_grad = False"
   ]
  },
  {
   "cell_type": "code",
   "execution_count": null,
   "id": "a678ce37-c07c-46df-b510-25c57561b645",
   "metadata": {},
   "outputs": [],
   "source": [
    "for i, block in enumerate(model.blocks):\n",
    "    if i >= 6:\n",
    "        for param in block.parameters():\n",
    "            param.requires_grad = True"
   ]
  },
  {
   "cell_type": "code",
   "execution_count": null,
   "id": "4329f487-3afd-41e8-b1c1-6846ae1a5341",
   "metadata": {},
   "outputs": [],
   "source": [
    "for b"
   ]
  },
  {
   "cell_type": "code",
   "execution_count": null,
   "id": "44939cea-93ad-467c-be38-9f9525f2c02c",
   "metadata": {},
   "outputs": [],
   "source": [
    "2, 3, 3"
   ]
  },
  {
   "cell_type": "code",
   "execution_count": null,
   "id": "70539810-c19d-4bc1-982d-d69f8c025f97",
   "metadata": {},
   "outputs": [],
   "source": []
  }
 ],
 "metadata": {
  "kernelspec": {
   "display_name": "Python 3 (ipykernel)",
   "language": "python",
   "name": "python3"
  }
 },
 "nbformat": 4,
 "nbformat_minor": 5
}
