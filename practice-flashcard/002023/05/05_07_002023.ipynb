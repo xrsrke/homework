{
 "cells": [
  {
   "cell_type": "markdown",
   "id": "1799ecf1-630c-4953-9ab1-c248e15406f0",
   "metadata": {},
   "source": [
    "### Science"
   ]
  },
  {
   "cell_type": "markdown",
   "id": "263ba8be-6a93-43f8-a80a-41718b3e2fa7",
   "metadata": {},
   "source": [
    "### Engineering"
   ]
  },
  {
   "cell_type": "code",
   "execution_count": null,
   "id": "9d89e787-f950-4e15-a90c-863c2dd9b9ef",
   "metadata": {},
   "outputs": [],
   "source": [
    "thread\n",
    "process\n",
    "vectorization\n",
    "streaming process"
   ]
  },
  {
   "cell_type": "code",
   "execution_count": null,
   "id": "32784de6-f954-401e-9a25-a8efe563e4f4",
   "metadata": {},
   "outputs": [],
   "source": [
    "ranks = [0, 1, 3, 6]"
   ]
  },
  {
   "cell_type": "code",
   "execution_count": null,
   "id": "9e25ae5a-1714-4930-8076-d4a23a827a9b",
   "metadata": {},
   "outputs": [],
   "source": [
    "group = None"
   ]
  },
  {
   "cell_type": "code",
   "execution_count": null,
   "id": "2af61d1f-feef-4aa1-8051-2fd0d4a0f0cc",
   "metadata": {},
   "outputs": [],
   "source": [
    "rank = torch.distributed.get_rank()"
   ]
  },
  {
   "cell_type": "code",
   "execution_count": null,
   "id": "65aac12e-d4dc-4593-9ab4-5c57fe678616",
   "metadata": {},
   "outputs": [],
   "source": [
    "if rank in ranks:\n",
    "    group = torch.distributed.new_group(ranks=ranks)"
   ]
  },
  {
   "cell_type": "code",
   "execution_count": null,
   "id": "b6bc8130-4b82-4da1-be3b-e9982b50988f",
   "metadata": {},
   "outputs": [],
   "source": [
    "if group is None:\n",
    "    torch.distributed.get_rank(x, src=0, group=group)"
   ]
  },
  {
   "cell_type": "code",
   "execution_count": null,
   "id": "98bdac35-2be0-42f9-8360-73e260deae55",
   "metadata": {},
   "outputs": [],
   "source": [
    "import torch\n",
    "from torch import nn\n",
    "import torch.nn.functional as F"
   ]
  },
  {
   "cell_type": "code",
   "execution_count": null,
   "id": "9793bc1b-7d9a-42c8-b9e6-65a1a1a4b4c5",
   "metadata": {},
   "outputs": [],
   "source": [
    "class RowParallelLinear(nn.Module):\n",
    "    def __init__(self, input_size, output_size):\n",
    "        super().__init__()\n",
    "        world_size = torch.distributed.get_world_size()\n",
    "        \n",
    "        self.input_size_per_patrition = input_size // world_size\n",
    "        self.output_size = output_size\n",
    "        \n",
    "        self.weight = nn.Parameter(torch.empty(\n",
    "            self.output_size,\n",
    "            self.input_size_per_patrition\n",
    "        ))\n",
    "        self.bias = nn.Parameter(torch.empty(\n",
    "            self.output_size\n",
    "        ))\n",
    "    \n",
    "    def forward(self, input):\n",
    "        world_size = torch.distributed.get_world_size()\n",
    "        rank = torch.distributed.get_rank()\n",
    "        \n",
    "        dim_size = input.shape[-1]\n",
    "        n_chunks = dim_size // world_size\n",
    "        input_chunks = torch.chunk(input, n_chunks, dim=-1)\n",
    "        \n",
    "        input_parallel = input_chunks[rank]\n",
    "        output_parallel = F.linear(input_parallel, self.weight, self.bias)\n",
    "        \n",
    "        "
   ]
  },
  {
   "cell_type": "markdown",
   "id": "2bdd960e-b1b2-4fb2-9b96-acc53a375d25",
   "metadata": {},
   "source": [
    "### ML Engineering"
   ]
  },
  {
   "cell_type": "code",
   "execution_count": null,
   "id": "bbbe2601-9868-443d-a591-5ea1dd37d516",
   "metadata": {},
   "outputs": [],
   "source": [
    "from sqlalchemy import Column, Integer, String"
   ]
  },
  {
   "cell_type": "code",
   "execution_count": null,
   "id": "31524892-e73b-49fb-924a-5f5042de273d",
   "metadata": {},
   "outputs": [],
   "source": [
    "class User(Base):\n",
    "    __tablename__ = \"users\"\n",
    "    \n",
    "    id = Column(\"id\", Integer, primary_key=True)\n",
    "    username = Column(\"username\", String)"
   ]
  },
  {
   "cell_type": "code",
   "execution_count": null,
   "id": "13987c3e-6c81-4956-b02a-5c4888405b58",
   "metadata": {},
   "outputs": [],
   "source": [
    "terraform apply"
   ]
  },
  {
   "cell_type": "code",
   "execution_count": null,
   "id": "a0b4bdb9-78b8-4a78-b023-392de25b1f85",
   "metadata": {},
   "outputs": [],
   "source": [
    "from prefect import task, flow"
   ]
  },
  {
   "cell_type": "code",
   "execution_count": null,
   "id": "67157aa6-8d31-4dc8-88a7-3355e2bb1100",
   "metadata": {},
   "outputs": [],
   "source": [
    "@flow\n",
    "def run_workflow():\n",
    "    start_x()\n",
    "    end_x()"
   ]
  },
  {
   "cell_type": "code",
   "execution_count": null,
   "id": "c6e4ba76-aada-4dc3-8fcc-8624b3d73204",
   "metadata": {},
   "outputs": [],
   "source": [
    "import unittest"
   ]
  },
  {
   "cell_type": "code",
   "execution_count": null,
   "id": "9586445a-0e68-419f-bf4b-edd3ff683fe1",
   "metadata": {},
   "outputs": [],
   "source": [
    "class MediumTestCase(unittest.TestCase):\n",
    "    def test_avg(self):\n",
    "        with self.assertRaises(TypeError):\n",
    "            pass"
   ]
  },
  {
   "cell_type": "code",
   "execution_count": null,
   "id": "0c29a44b-a217-4026-b7c0-21def476757e",
   "metadata": {},
   "outputs": [],
   "source": [
    "class Derived(Base):\n",
    "    def f(self, x):\n",
    "        super().f(x)"
   ]
  },
  {
   "cell_type": "code",
   "execution_count": null,
   "id": "c6a36200-5669-472f-9da6-b0c19e623141",
   "metadata": {},
   "outputs": [],
   "source": [
    "__setattr__"
   ]
  },
  {
   "cell_type": "markdown",
   "id": "120317a0-b5c8-4b2c-8439-01526a761cbf",
   "metadata": {},
   "source": [
    "### AI"
   ]
  },
  {
   "cell_type": "code",
   "execution_count": null,
   "id": "ab797d80-3cf1-47fc-b63c-26c8b5ee23c3",
   "metadata": {},
   "outputs": [],
   "source": [
    "import torch\n",
    "from torch import nn\n",
    "import torch.nn.functional as F"
   ]
  },
  {
   "cell_type": "code",
   "execution_count": null,
   "id": "59611d69-3812-4cc0-801f-45437dbfa04f",
   "metadata": {},
   "outputs": [],
   "source": [
    "from ray.rllib.algorithms.ppo import PPO"
   ]
  },
  {
   "cell_type": "code",
   "execution_count": null,
   "id": "5ad678a2-f3b7-4309-ac63-b6a957ec2575",
   "metadata": {},
   "outputs": [],
   "source": [
    "import jax"
   ]
  },
  {
   "cell_type": "code",
   "execution_count": null,
   "id": "401c285b-f985-49db-9b5f-00ea5ad33c72",
   "metadata": {},
   "outputs": [],
   "source": [
    "func_jit = jax.jit(func, static_argnames=[\"n\"])"
   ]
  },
  {
   "cell_type": "code",
   "execution_count": null,
   "id": "3bed0d1b-479d-4ca9-9f1f-9142d1f63a38",
   "metadata": {},
   "outputs": [],
   "source": [
    "ranks = [0, 1, 3, 6]"
   ]
  },
  {
   "cell_type": "code",
   "execution_count": null,
   "id": "3e09c7a0-037f-431a-9b65-aa62372c404f",
   "metadata": {},
   "outputs": [],
   "source": [
    "rank = torch.distributed.get_rank()"
   ]
  },
  {
   "cell_type": "code",
   "execution_count": null,
   "id": "e7896fe4-893e-46c9-b412-f1c043c734a0",
   "metadata": {},
   "outputs": [],
   "source": [
    "group = None"
   ]
  },
  {
   "cell_type": "code",
   "execution_count": null,
   "id": "53bcca83-ff2c-4655-a143-69ac6b181a89",
   "metadata": {},
   "outputs": [],
   "source": [
    "if rank in ranks:\n",
    "    group = torch.distributed.new_process(ranks)"
   ]
  },
  {
   "cell_type": "code",
   "execution_count": null,
   "id": "733d9fa2-6d00-4fa5-9e59-4a6e1fd3c519",
   "metadata": {},
   "outputs": [],
   "source": [
    "if group is not None:\n",
    "    torch.distributed.broadcast(x, src=0, group=group)"
   ]
  },
  {
   "cell_type": "code",
   "execution_count": null,
   "id": "8d1f6fde-1f83-4b85-b7d9-de4030b02852",
   "metadata": {},
   "outputs": [],
   "source": [
    "class AutoEncoder(nn.Module):\n",
    "    def __init__(self):\n",
    "        super().__init__()\n",
    "        self.encoder = nn.Sequential(\n",
    "            nn.Linear(784, 128),\n",
    "            nn.ReLU(),\n",
    "            nn.Linear(128, 64),\n",
    "            nn.ReLU(),\n",
    "            nn.Linear(64, 12),\n",
    "            nn.ReLU(),\n",
    "            nn.Linear(12, 3)\n",
    "        )\n",
    "        \n",
    "        self.decoder = nn.Sequential(\n",
    "            nn.Linear(3, 12),\n",
    "            nn.ReLU(),\n",
    "            nn.Linear(12, 64),\n",
    "            nn.ReLU(),\n",
    "            nn.Linear(64, 128),\n",
    "            nn.ReLU(),\n",
    "            nn.Linear(128, 784)\n",
    "        )\n",
    "    \n",
    "    def forward(self, x):\n",
    "        encoded = self.encoder(x)\n",
    "        decoded = self.decoded(x)"
   ]
  },
  {
   "cell_type": "code",
   "execution_count": null,
   "id": "649694cc-7a3b-4ef9-b311-7487e4628263",
   "metadata": {},
   "outputs": [],
   "source": [
    "streaming processing\n",
    "thread\n",
    "process\n",
    "vectorization"
   ]
  },
  {
   "cell_type": "code",
   "execution_count": null,
   "id": "290ea5dc-6114-4bcb-a681-2cb42c630587",
   "metadata": {},
   "outputs": [],
   "source": [
    "activations[act_name]"
   ]
  },
  {
   "cell_type": "code",
   "execution_count": null,
   "id": "ad2ede64-c3d3-4f0e-9d05-4e372bc68541",
   "metadata": {},
   "outputs": [],
   "source": [
    "model parallel, tensor, data"
   ]
  },
  {
   "cell_type": "code",
   "execution_count": null,
   "id": "3a74c96e-722b-4a53-862d-e21df8960480",
   "metadata": {},
   "outputs": [],
   "source": [
    "import torch"
   ]
  },
  {
   "cell_type": "code",
   "execution_count": null,
   "id": "3bb0b08e-3e27-4944-9c30-0aeb74311f48",
   "metadata": {},
   "outputs": [],
   "source": [
    "class f(torch.autograd.Function):\n",
    "    @staticmethod\n",
    "    def forward(self, input):\n",
    "        return input\n",
    "    \n",
    "    @staticmethod\n",
    "    def backward(self, grad_output):\n",
    "        torch.distributed.all_reduce(grad_output)\n",
    "        return grad_output"
   ]
  },
  {
   "cell_type": "code",
   "execution_count": null,
   "id": "9e595249-e10d-4999-9363-213e7626fc12",
   "metadata": {},
   "outputs": [],
   "source": [
    "class g(torch.autograd.Function):\n",
    "    @staticmethod\n",
    "    def forward(self, input):\n",
    "        world_size = torch.distributed.get_world_size()\n",
    "        inputs = [torch.empty_like(input) for _ in range(world_size)]\n",
    "        torch.distributed.all_gather(inputs, input)\n",
    "        inputs = torch.cat(inputs, dim=-1)\n",
    "        return inputs\n",
    "    \n",
    "    @staticmethod\n",
    "    def backward(self, grad_output):\n",
    "        rank = torch.distributed.get_rank()\n",
    "        world_size = torch.distributed.get_world_size()\n",
    "        \n",
    "        dim_size = grad_output.shape[-1]\n",
    "        n_chunks = dim_size // world_size\n",
    "        grad_chunks = torch.chunk(grad_output, n_chunks, dim=-1)\n",
    "        return grad_chunks[rank]"
   ]
  },
  {
   "cell_type": "code",
   "execution_count": null,
   "id": "906310ce-2064-44b9-a6df-9974903b9351",
   "metadata": {},
   "outputs": [],
   "source": [
    "class ColumnParallelLinear(nn.Module):\n",
    "    def __init__(self, input_size, output_size):\n",
    "        super().__init__()\n",
    "        world_size = torch.distributed.get_world_size()\n",
    "        self.input_size = input_size\n",
    "        self.output_size_per_patrition = output_size // world_size\n",
    "        \n",
    "        self.weight = nn.Parameter(torch.empty(\n",
    "            self.output_size_per_patrition,\n",
    "            self.input_size\n",
    "        ))\n",
    "        \n",
    "        self.bias = nn.Parameter(torch.empty(\n",
    "            self.output_size_per_patrition\n",
    "        ))\n",
    "    \n",
    "    def forward(self, input):\n",
    "        input_parallel = f.apply(input)\n",
    "        \n",
    "        output_parallel = F.linear(\n",
    "            input_parallel,\n",
    "            self.weight,\n",
    "            self.bias\n",
    "        )\n",
    "        \n",
    "        outputs = g.apply(output)\n",
    "        return outputs"
   ]
  },
  {
   "cell_type": "code",
   "execution_count": null,
   "id": "3d7decd5-a1b8-427e-adb1-14b67cb13181",
   "metadata": {},
   "outputs": [],
   "source": [
    "class RowParallelLinear(nn.Module):\n",
    "    def __init__(self, input_size, output_size):\n",
    "        super().__init__()\n",
    "        world_size = torch.distributed.get_world_size()\n",
    "        self.input_size_per_patrition = input_size // world_size\n",
    "        self.output_size = output_size\n",
    "        \n",
    "        self.weight = nn.Parameter(torch.empty(\n",
    "            self.output_size,\n",
    "            self.input_size_per_patrition\n",
    "        ))\n",
    "        self.bias = nn.Parameter(torch.empty(\n",
    "            self.output_size\n",
    "        ))\n",
    "    \n",
    "    def forward(self, inputs):\n",
    "        world_size = torch.distributed.get_world_size()\n",
    "        rank = torch.distributed.get_rank()\n",
    "        \n",
    "        embedding_dim = inputs.shape[-1]\n",
    "        n_chunks = embedding_dim // world_size\n",
    "        input_chunks = torch.chunk(inputs, n_chunks, dim=-1)\n",
    "        input_parallel = input_chunks[rank]\n",
    "        \n",
    "        output_parallel = F.linear(input_parallel, self.weight, self.bias)\n",
    "        \n",
    "        return output_parallel"
   ]
  },
  {
   "cell_type": "code",
   "execution_count": null,
   "id": "4af17e02-46e3-4060-adab-dcef462e902c",
   "metadata": {},
   "outputs": [],
   "source": [
    "induction_stripe = attn_weights.diagonal(\n",
    "    dim1=-2, dim2=-1,\n",
    "    offset=4-\n",
    ")"
   ]
  },
  {
   "cell_type": "code",
   "execution_count": null,
   "id": "92e419d8-e0bd-47f0-ba41-67507c7887b5",
   "metadata": {},
   "outputs": [],
   "source": [
    "cache[\"attn\", 2]"
   ]
  },
  {
   "cell_type": "code",
   "execution_count": null,
   "id": "a61f0ad1-d420-409b-9bb8-baef1132f4db",
   "metadata": {},
   "outputs": [],
   "source": [
    "correct_residual_direction = model.tokens_to_residual_direction"
   ]
  },
  {
   "cell_type": "code",
   "execution_count": null,
   "id": "2c758bfe-a0bc-4185-9e33-6fd4da20a9e6",
   "metadata": {},
   "outputs": [],
   "source": []
  },
  {
   "cell_type": "code",
   "execution_count": null,
   "id": "cc49b0cb-bfe0-4d26-bdf4-430452f4c564",
   "metadata": {},
   "outputs": [],
   "source": [
    "correct_residual_direction = unembedding[:, correct_token]\n",
    "incorrect_residual_direction = unembedding[:, incorrect_token]"
   ]
  },
  {
   "cell_type": "code",
   "execution_count": null,
   "id": "6fa5fee6-baca-43a2-a574-8dc24e07b15e",
   "metadata": {},
   "outputs": [],
   "source": [
    "logit_diff_direction = correct_residual_direction - incorrect_residual_direction"
   ]
  },
  {
   "cell_type": "code",
   "execution_count": null,
   "id": "e45747ca-714e-458f-a9d3-4f1bda910d35",
   "metadata": {},
   "outputs": [],
   "source": [
    "correct_residual_direction = model.tokens_to_residual_directions(correct_token)"
   ]
  },
  {
   "cell_type": "code",
   "execution_count": null,
   "id": "bfa237fb-3559-4c3e-b097-de7f353139ae",
   "metadata": {},
   "outputs": [],
   "source": [
    "incorrect_residual_direction = model.tokens_to_residual_directions(incorrect_token)"
   ]
  },
  {
   "cell_type": "code",
   "execution_count": null,
   "id": "9147ab30-aa2d-434f-8be5-de9a10cc8e75",
   "metadata": {},
   "outputs": [],
   "source": [
    "logit_diff_direction = correct_residual_direction - incorrect_residual_direction"
   ]
  },
  {
   "cell_type": "code",
   "execution_count": null,
   "id": "efae0742-f2fa-4acb-a25b-7a0d949471b7",
   "metadata": {},
   "outputs": [],
   "source": [
    "cache[\"attn\", 1]"
   ]
  },
  {
   "cell_type": "code",
   "execution_count": null,
   "id": "9703eeca-9fee-4f14-b14b-c0f765f1eb8e",
   "metadata": {},
   "outputs": [],
   "source": [
    "act_head = activations[1, 2]"
   ]
  },
  {
   "cell_type": "markdown",
   "id": "541e5665-2cad-4665-a1d6-e4bfd44cdd05",
   "metadata": {},
   "source": [
    "### AI"
   ]
  },
  {
   "cell_type": "code",
   "execution_count": null,
   "id": "4acc92b2-4e8a-4d92-b1f5-ab0ae360a286",
   "metadata": {},
   "outputs": [],
   "source": [
    "import torch\n",
    "from torch import nn\n",
    "import torch.nn.functional as F"
   ]
  },
  {
   "cell_type": "code",
   "execution_count": null,
   "id": "875efb49-4c5a-4839-85f1-4f09f9132e8f",
   "metadata": {},
   "outputs": [],
   "source": [
    "def to_uppercase(x):\n",
    "    return {\"summary\": x[\"summary\"].upper()}"
   ]
  },
  {
   "cell_type": "code",
   "execution_count": null,
   "id": "be326a53-bf46-4dba-a3c5-6d1ea37cd13d",
   "metadata": {},
   "outputs": [],
   "source": [
    "new_dataset = dataset.map"
   ]
  },
  {
   "cell_type": "code",
   "execution_count": null,
   "id": "a542ec53-7e9c-4f06-ba9f-56938967862c",
   "metadata": {},
   "outputs": [],
   "source": [
    "class PerformanceBenchmark:\n",
    "    def __init__(self, pipe, dataset):\n",
    "        self.pipe = pipe\n",
    "        self.dataset = dataset\n",
    "    \n",
    "    def compute_accuracy(self):\n",
    "        pass\n",
    "    \n",
    "    def compute_latency(self):\n",
    "        pass\n",
    "    \n",
    "    def compute_memory(self):\n",
    "        pass\n",
    "    \n",
    "    def benchmark(self):\n",
    "        pass"
   ]
  },
  {
   "cell_type": "code",
   "execution_count": null,
   "id": "72e93169-7004-4774-b7b8-253de553678d",
   "metadata": {},
   "outputs": [],
   "source": [
    "photo , bi"
   ]
  },
  {
   "cell_type": "code",
   "execution_count": null,
   "id": "7f694bf6-8a38-4960-89af-f704f441ccfe",
   "metadata": {},
   "outputs": [],
   "source": []
  },
  {
   "cell_type": "code",
   "execution_count": null,
   "id": "1033eae4-4863-40eb-8dfa-6218ad910a0b",
   "metadata": {},
   "outputs": [],
   "source": [
    "torch.multinomial(preds, )"
   ]
  },
  {
   "cell_type": "code",
   "execution_count": null,
   "id": "e4933f25-e2ab-40fb-b233-50877e603dfb",
   "metadata": {},
   "outputs": [],
   "source": [
    "class PositionWiseFeedForward(nn.Module):\n",
    "    def __init__(self, d_model, d_ff, dropout):\n",
    "        super().__init__()\n",
    "        self.net = nn.Sequential(\n",
    "            nn.Linear(d_model, d_ff),\n",
    "            nn.ReLU(),\n",
    "            nn.Dropout(dropout),\n",
    "            nn.Linear(d_ff, d_model)\n",
    "        )\n",
    "    \n",
    "    def forward(self, x):\n",
    "        return self.net(x)"
   ]
  },
  {
   "cell_type": "code",
   "execution_count": null,
   "id": "367094d3-dea1-47b4-abe7-ad241db025a4",
   "metadata": {},
   "outputs": [],
   "source": [
    "class ShortcutProjection(nn.Module):\n",
    "    def __init__(self, in_channels, out_channels, stride):\n",
    "        super().__init__()\n",
    "        self.net = nn.Sequential(\n",
    "            nn.Conv2d(in_channels, out_channels, stri=stride),\n",
    "            nn.Lin\n",
    "        )"
   ]
  },
  {
   "cell_type": "code",
   "execution_count": null,
   "id": "4ea8b2c2-624d-4d79-b42a-8162b9638eca",
   "metadata": {},
   "outputs": [],
   "source": [
    "class BatchNorm(nn.Module):\n",
    "    def __init__(self, mom, eps):\n",
    "        super().__init__()\n",
    "        self.mom, self.eps = mom, eps\n",
    "        self.adds = nn.Parameter(torch.zeros(1))\n",
    "        self.mults = nn.Parameter(torch.ones(1))\n",
    "        self.register_buffer(\"means\", torch.zeros(1))\n",
    "        self.register_buffer(\"vars\", torch.ones(1))\n",
    "    \n",
    "    def update_stats(self, x):\n",
    "        mean = x.mean(dim=-1, keepdim=True)\n",
    "        var = x.var(dim=-1, keepdim=True)\n",
    "        \n",
    "        self.means.lerp_(mean, self.mom)\n",
    "        self.vars.lerp_(var, self.mom)\n",
    "        \n",
    "        return mean, var\n",
    "    \n",
    "    def forward(self, x):\n",
    "        with torch.no_grad():\n",
    "            mean, var = self.update_stats(x)\n",
    "        \n",
    "        x = (x - mean) / (self.eps + var).sqrt()\n",
    "        x = self.adds + self.mults * x\n",
    "        \n",
    "        return x"
   ]
  },
  {
   "cell_type": "code",
   "execution_count": null,
   "id": "38b97c14-53aa-45e5-a169-7334784d3f4c",
   "metadata": {},
   "outputs": [],
   "source": [
    " "
   ]
  }
 ],
 "metadata": {
  "kernelspec": {
   "display_name": "Python 3 (ipykernel)",
   "language": "python",
   "name": "python3"
  }
 },
 "nbformat": 4,
 "nbformat_minor": 5
}
