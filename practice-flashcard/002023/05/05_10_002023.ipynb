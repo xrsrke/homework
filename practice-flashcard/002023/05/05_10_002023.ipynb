{
 "cells": [
  {
   "cell_type": "markdown",
   "id": "fdbf8e22-c8a1-430a-9168-57066239c569",
   "metadata": {},
   "source": [
    "### Sci"
   ]
  },
  {
   "cell_type": "markdown",
   "id": "57c01318-a768-402c-ace6-b74b8750be56",
   "metadata": {},
   "source": [
    "### Engineering"
   ]
  },
  {
   "cell_type": "code",
   "execution_count": null,
   "id": "6edd2a69-44ac-48d1-85b2-ae970494a89b",
   "metadata": {},
   "outputs": [],
   "source": [
    "import torch\n",
    "from torch import nn\n",
    "import torch.nn.functional as F"
   ]
  },
  {
   "cell_type": "code",
   "execution_count": null,
   "id": "2925edc1-864a-43bf-a768-a4cfb3f992e6",
   "metadata": {},
   "outputs": [],
   "source": [
    "def gather_tensors(x):\n",
    "    world_size = torch.distributed.get_world_size()\n",
    "    xs = [torch.zeros_like(x) for _ in range(world_size)]\n",
    "    torch.distributed.gather(xs, x)\n",
    "    xs = torch.cat(xs, dim=-1)\n",
    "    return xs"
   ]
  },
  {
   "cell_type": "code",
   "execution_count": null,
   "id": "8ddaac69-6e4d-4c56-a45a-ee23dc49cad4",
   "metadata": {},
   "outputs": [],
   "source": [
    "data_parallel_size = world_size // num_gpus_for_a_model"
   ]
  },
  {
   "cell_type": "code",
   "execution_count": null,
   "id": "f29dbb4b-dfe0-44f6-8192-15c26d5874fe",
   "metadata": {},
   "outputs": [],
   "source": [
    "class f(torch.autograd.Function):\n",
    "    @staticmethod\n",
    "    def forward(ctx, input):\n",
    "        return input\n",
    "    \n",
    "    @staticmethod\n",
    "    def backward(ctx, grad_output):\n",
    "        torch.distributed.all_reduce(grad_output)\n",
    "        return grad_output"
   ]
  },
  {
   "cell_type": "code",
   "execution_count": null,
   "id": "974acbfe-f349-4d69-be4a-0fe14007c49e",
   "metadata": {},
   "outputs": [],
   "source": [
    "class g(torch.autograd.Function):\n",
    "    @staticmethod\n",
    "    def forward(ctx, input):\n",
    "        world_size = torch.distributed.get_world_size()\n",
    "        inputs = [torch.zeros_like(input) for _ in range(world_size)]\n",
    "        torch.distributed.all_gather(inputs, input)\n",
    "        inputs = torch.cat(inputs, dim=-1)\n",
    "        return inputss\n",
    "    \n",
    "    @staticmethod\n",
    "    def backward(ctx, grad_output):\n",
    "        world_size = torch.distributed.get_world_size()\n",
    "        rank = torch.distributed.get_rank()\n",
    "        dim_size = grad_output.shape[-1]\n",
    "        dim_size_per_patrition = dim_size // world_size\n",
    "        grad_chunks = torch.split(grad_output, dim_size_per_patrition, dim=-1)\n",
    "        return grad_chunks[rank]"
   ]
  },
  {
   "cell_type": "code",
   "execution_count": null,
   "id": "e8cbc2e8-5b80-431d-9e15-2bfab81abcc2",
   "metadata": {},
   "outputs": [],
   "source": [
    "class ColumnParallelLinear(nn.Module):\n",
    "    def __init__(self, input_size, output_size, world_size):\n",
    "        super().__init__()\n",
    "        self.input_size = input_size\n",
    "        self.output_size_per_patrition = output_size // world_size\n",
    "        \n",
    "        self.weight = nn.Parameter(torch.empty(\n",
    "            self.output_size_per_patrition,\n",
    "            self.input_size\n",
    "        ))\n",
    "        self.bias = nn.Parameter(torch.empty(\n",
    "            self.output_size_per_patrition\n",
    "        ))\n",
    "    \n",
    "    def forward(self, input):\n",
    "        input_parallel = f.apply(input)\n",
    "        output_parallel = F.linear(input_parallel, self.weight, self.bias)\n",
    "        outputs = g.apply(output_parallel)\n",
    "        return outputs"
   ]
  },
  {
   "cell_type": "markdown",
   "id": "8eb6f52b-84dd-452e-a0fb-211264622ce1",
   "metadata": {},
   "source": [
    "### ML Engineering"
   ]
  },
  {
   "cell_type": "code",
   "execution_count": null,
   "id": "077b26ca-bfc6-4eae-b244-79622a5a0981",
   "metadata": {},
   "outputs": [],
   "source": [
    "from pydantic import BaseModel, validator"
   ]
  },
  {
   "cell_type": "code",
   "execution_count": null,
   "id": "dce22228-b626-41bc-9b86-1d099679f45b",
   "metadata": {},
   "outputs": [],
   "source": [
    "class User(BaseModel):\n",
    "    user_id: int\n",
    "    username: str\n",
    "    \n",
    "    @validator(\"username\")\n",
    "    def username_valid(cls, variable):\n",
    "        return value.upper()"
   ]
  },
  {
   "cell_type": "code",
   "execution_count": null,
   "id": "f83a2723-ee6c-467a-8d96-0dede426f5a5",
   "metadata": {},
   "outputs": [],
   "source": [
    "from prefect import flow"
   ]
  },
  {
   "cell_type": "code",
   "execution_count": null,
   "id": "db5ef9b6-2be2-45e1-ac43-73f929fb2499",
   "metadata": {},
   "outputs": [],
   "source": [
    "@flow\n",
    "def run_workflow():\n",
    "    start_x()\n",
    "    end_x()"
   ]
  },
  {
   "cell_type": "code",
   "execution_count": null,
   "id": "afd09c2c-8859-4f53-811f-0c41c6d7ea58",
   "metadata": {},
   "outputs": [],
   "source": [
    "from sqlalchemy import Column, Integer, String"
   ]
  },
  {
   "cell_type": "code",
   "execution_count": null,
   "id": "c50a11b9-1dee-4d98-8ffb-d0c45ea7a691",
   "metadata": {},
   "outputs": [],
   "source": [
    "class User(Base):\n",
    "    __tablename__ = \"users\"\n",
    "    id = Column(\"id\", Integer, primary_key=True)\n",
    "    username = Column(\"username\", String)"
   ]
  },
  {
   "cell_type": "code",
   "execution_count": null,
   "id": "b964af80-6d12-4657-8298-c2d5c10cbb1f",
   "metadata": {},
   "outputs": [],
   "source": [
    "from pydantic import root_validator"
   ]
  },
  {
   "cell_type": "code",
   "execution_count": null,
   "id": "3201197f-927d-4d0e-adb3-20d637a576cb",
   "metadata": {},
   "outputs": [],
   "source": [
    "class User(BaseModel):\n",
    "    password1: int\n",
    "    password2: int\n",
    "    \n",
    "    @root_validator(pre=True)\n",
    "    def validate(cls, params):\n",
    "        password1 = params.get(\"params1\")\n",
    "        password2 = params.get(\"params2\")\n",
    "        \n",
    "        if password1 == params2:\n",
    "            return params\n",
    "        else:\n",
    "            pass"
   ]
  },
  {
   "cell_type": "code",
   "execution_count": null,
   "id": "f850c2e6-c32e-4287-8379-0dfbe97dff0d",
   "metadata": {},
   "outputs": [],
   "source": [
    "from prefect.deployments import Deployment"
   ]
  },
  {
   "cell_type": "code",
   "execution_count": null,
   "id": "2f92cc81-6999-4e81-80ec-6c9dbdcb3c4a",
   "metadata": {},
   "outputs": [],
   "source": [
    "deployment_dev = Deployment.build_from_flow(\n",
    "    training,\n",
    "    name=\"\"\n",
    ")"
   ]
  },
  {
   "cell_type": "code",
   "execution_count": null,
   "id": "06cb9280-1f77-40ae-890a-893cb0fa58e4",
   "metadata": {},
   "outputs": [],
   "source": [
    "from metaflow import FlowSpec, step, schedule"
   ]
  },
  {
   "cell_type": "code",
   "execution_count": null,
   "id": "d0b333c3-f819-47d1-bf14-993b10440005",
   "metadata": {},
   "outputs": [],
   "source": [
    "@schedule(daily=True)\n",
    "class HelloFlow(FlowSpec):\n",
    "    @step\n",
    "    def start(self):\n",
    "        self.next(self.hello)\n",
    "    \n",
    "    @step\n",
    "    def hello(self):\n",
    "        print(69)\n",
    "        self.next(self.end)\n",
    "    \n",
    "    @step\n",
    "    def end(self): pass"
   ]
  },
  {
   "cell_type": "code",
   "execution_count": null,
   "id": "81c36c90-822c-4312-97c8-ff45a9073952",
   "metadata": {},
   "outputs": [],
   "source": [
    "from metaflow import FlowSpec"
   ]
  },
  {
   "cell_type": "code",
   "execution_count": null,
   "id": "2294bb83-65bd-4acc-8ca9-f7c558382c5e",
   "metadata": {},
   "outputs": [],
   "source": [
    "class TrainingFlow(FlowSpec):\n",
    "    @step\n",
    "    def start(self):\n",
    "        self.next(self.train, self.eval)\n",
    "    \n",
    "    @step\n",
    "    def train(self):\n",
    "        print(\"training...\")\n",
    "        self.next(self.join)\n",
    "    \n",
    "    @step\n",
    "    def eval(self):\n",
    "        self.next(self.join)\n",
    "    \n",
    "    @step\n",
    "    def join(self, inputs):\n",
    "        self.next(self.end)\n",
    "    \n",
    "    @step\n",
    "    def end(self): pass"
   ]
  },
  {
   "cell_type": "code",
   "execution_count": null,
   "id": "b3a135f9-d544-4889-bb2c-2f46064242d8",
   "metadata": {},
   "outputs": [],
   "source": [
    "class User(BaseModel):\n",
    "    user_id: int\n",
    "    username: str\n",
    "    \n",
    "    @validator(\"username\")\n",
    "    def val(cls, val)"
   ]
  },
  {
   "cell_type": "code",
   "execution_count": null,
   "id": "563e6d02-513f-4460-9b05-4e6378af903a",
   "metadata": {},
   "outputs": [],
   "source": [
    "from metaflow import batch"
   ]
  },
  {
   "cell_type": "code",
   "execution_count": null,
   "id": "e3a423d5-0eca-4ef4-b4a3-3a67d2381512",
   "metadata": {},
   "outputs": [],
   "source": [
    "class Flow(FlowSpec):\n",
    "    @step\n",
    "    def start(self):\n",
    "        self.next(self.train)\n",
    "    \n",
    "    @batch(memory=10000)\n",
    "    @step\n",
    "    def train(self):\n",
    "        train()\n",
    "        self.next(self.end)\n",
    "    \n",
    "    @step\n",
    "    def end(self): pass"
   ]
  },
  {
   "cell_type": "code",
   "execution_count": null,
   "id": "62a1f7f2-4155-4784-a706-5bd1c3191b53",
   "metadata": {},
   "outputs": [],
   "source": [
    "regiion > vpc > available zone > subnet > compute resources"
   ]
  },
  {
   "cell_type": "code",
   "execution_count": null,
   "id": "0fa77b2c-9ea3-4163-8f7a-753361fa69b8",
   "metadata": {},
   "outputs": [],
   "source": [
    "import threading"
   ]
  },
  {
   "cell_type": "code",
   "execution_count": null,
   "id": "7a05294c-e1b4-4c29-a364-36c06703bae2",
   "metadata": {},
   "outputs": [],
   "source": [
    "thread = threading.Thread(target=print_numbers)"
   ]
  },
  {
   "cell_type": "code",
   "execution_count": null,
   "id": "d6c38db5-b63c-4055-bd46-2ead591e0e90",
   "metadata": {},
   "outputs": [],
   "source": [
    "thread.start()"
   ]
  },
  {
   "cell_type": "code",
   "execution_count": null,
   "id": "fba82f28-15a6-4960-9524-b3d643b4fec8",
   "metadata": {},
   "outputs": [],
   "source": [
    "from contextlib import contextmanager"
   ]
  },
  {
   "cell_type": "code",
   "execution_count": null,
   "id": "7c79374b-8618-447c-adbf-17ef9a0f0549",
   "metadata": {},
   "outputs": [],
   "source": [
    "@contextmanager\n",
    "def first_context():\n",
    "    print(\"entering ....\")\n",
    "    \n",
    "    yield\n",
    "    \n",
    "    print(\"...\")"
   ]
  },
  {
   "cell_type": "code",
   "execution_count": null,
   "id": "6cf0d2b4-5a72-4b73-aa14-7c2793e77945",
   "metadata": {},
   "outputs": [],
   "source": [
    "for _ in range(3):\n",
    "    thread = threading.Thread(increment_counter)\n",
    "    thread.start()"
   ]
  },
  {
   "cell_type": "code",
   "execution_count": null,
   "id": "c08fa291-8615-4e23-933d-2835e5e7b1e6",
   "metadata": {},
   "outputs": [],
   "source": [
    "class TrainingFlow(FlowSpec):\n",
    "    @step\n",
    "    def start(self):\n",
    "        self.next(self.train, self.eval)\n",
    "    \n",
    "    @step\n",
    "    def train(self):\n",
    "        print(\"training...\")\n",
    "        self.next(self.join)\n",
    "    \n",
    "    @step\n",
    "    def eval(self):\n",
    "        print(\"evaling...\")\n",
    "        self.next(self.join)\n",
    "    \n",
    "    @step\n",
    "    def join(self, data):\n",
    "        self.next(self.end)"
   ]
  },
  {
   "cell_type": "code",
   "execution_count": null,
   "id": "9b32719a-c085-45ed-8217-ff1c7763390f",
   "metadata": {},
   "outputs": [],
   "source": [
    "region > vpc > available zone > subnet > resource"
   ]
  },
  {
   "cell_type": "code",
   "execution_count": null,
   "id": "47d22f32-d285-4631-9746-470d4a22b523",
   "metadata": {},
   "outputs": [],
   "source": [
    "lock = threading.Lock()"
   ]
  },
  {
   "cell_type": "markdown",
   "id": "8f66dbe1-2d6b-417f-810a-132a49f1821e",
   "metadata": {},
   "source": [
    "### MechInterp"
   ]
  },
  {
   "cell_type": "code",
   "execution_count": null,
   "id": "e8986029-cb0e-4d6a-ae16-729f53bfc5d8",
   "metadata": {},
   "outputs": [],
   "source": [
    "embeddings = model.pos_embed(tokens) + model.embed(tokens)"
   ]
  },
  {
   "cell_type": "code",
   "execution_count": null,
   "id": "5609b080-49ce-4418-92e2-8969650408f7",
   "metadata": {},
   "outputs": [],
   "source": [
    "residual = embeddings"
   ]
  },
  {
   "cell_type": "code",
   "execution_count": null,
   "id": "911de7f9-bb72-404b-8d4d-63c1907e4ca1",
   "metadata": {},
   "outputs": [],
   "source": [
    "for block in model.blocks:\n",
    "    residual = block(residual)"
   ]
  },
  {
   "cell_type": "code",
   "execution_count": null,
   "id": "a557df29-f03f-46f1-80da-3d1538b98a20",
   "metadata": {},
   "outputs": [],
   "source": [
    "residual = model.ln_final(residual)"
   ]
  },
  {
   "cell_type": "code",
   "execution_count": null,
   "id": "a52e3342-c681-471b-9183-e5cc4f1b3236",
   "metadata": {},
   "outputs": [],
   "source": [
    "logits = model.unembed(residual)"
   ]
  },
  {
   "cell_type": "code",
   "execution_count": null,
   "id": "b16d0bb7-a19d-432a-b3d9-7f1ee904b3f6",
   "metadata": {},
   "outputs": [],
   "source": [
    "model.W_E"
   ]
  },
  {
   "cell_type": "code",
   "execution_count": null,
   "id": "f7ad655b-b665-4127-9ff0-5eeee626b30e",
   "metadata": {},
   "outputs": [],
   "source": [
    "W_E = model.W_E"
   ]
  },
  {
   "cell_type": "code",
   "execution_count": null,
   "id": "82405d70-4a73-4ce8-bdff-d8bfc9bacaf4",
   "metadata": {},
   "outputs": [],
   "source": [
    "W_E[tokens, :]"
   ]
  },
  {
   "cell_type": "code",
   "execution_count": null,
   "id": "94708788-37fb-4662-910a-17d03c27e57e",
   "metadata": {},
   "outputs": [],
   "source": [
    "tokens = model.to_tokens(text)"
   ]
  },
  {
   "cell_type": "code",
   "execution_count": null,
   "id": "8938a5ab-3e51-4f53-8e98-3d4a56e2ea15",
   "metadata": {},
   "outputs": [],
   "source": [
    "logits = model(tokens)"
   ]
  },
  {
   "cell_type": "code",
   "execution_count": null,
   "id": "42f77b49-354a-4a1c-a3ba-edc7cb357466",
   "metadata": {},
   "outputs": [],
   "source": [
    "target_tokens = tokens[1:]"
   ]
  },
  {
   "cell_type": "code",
   "execution_count": null,
   "id": "06b7a229-30e2-420f-87a8-50a54714a855",
   "metadata": {},
   "outputs": [],
   "source": [
    "log_probs = F.log_softmax(logits)"
   ]
  },
  {
   "cell_type": "code",
   "execution_count": null,
   "id": "84bde341-9ef2-4eb1-aebd-6b7e69f9d6d9",
   "metadata": {},
   "outputs": [],
   "source": [
    "predicted_log_probs = -log_probs.gather(target_tokens)"
   ]
  },
  {
   "cell_type": "markdown",
   "id": "dda6d4a9-3ca6-4266-9990-bd117b558b88",
   "metadata": {},
   "source": [
    "### Sci"
   ]
  },
  {
   "cell_type": "markdown",
   "id": "d4e3b05e-8ccb-4c6e-9910-8a535775ad84",
   "metadata": {},
   "source": [
    "### AI"
   ]
  },
  {
   "cell_type": "code",
   "execution_count": null,
   "id": "35df0573-c22e-4ac0-8885-76a7af7a15ca",
   "metadata": {},
   "outputs": [],
   "source": [
    "import torch\n",
    "from torch import nn\n",
    "import torch.nn.functional as F"
   ]
  },
  {
   "cell_type": "code",
   "execution_count": null,
   "id": "f6702bb4-fbbf-4f41-96bb-40970cb1c916",
   "metadata": {},
   "outputs": [],
   "source": [
    "from contextlib import contextmanager"
   ]
  },
  {
   "cell_type": "code",
   "execution_count": null,
   "id": "c9d9547a-557f-4db8-b900-7ce46c7ebf24",
   "metadata": {},
   "outputs": [],
   "source": [
    "@contextmanager\n",
    "def use_stream(stream):\n",
    "    if isinstance(stream, torch.cuda.Stream):\n",
    "        yield\n",
    "        return\n",
    "    \n",
    "    with torch.cuda.stream(stream):\n",
    "        yield"
   ]
  },
  {
   "cell_type": "code",
   "execution_count": null,
   "id": "719633a5-6dd7-4456-bca1-22b0005c591c",
   "metadata": {},
   "outputs": [],
   "source": [
    "def filter_func(x):\n",
    "    return x[\"sentence1\"].startswith(\"F\")"
   ]
  },
  {
   "cell_type": "code",
   "execution_count": null,
   "id": "1d0bd875-6bd9-4e6c-9c6a-0bba25b24ed1",
   "metadata": {},
   "outputs": [],
   "source": [
    "new_dataset = small_dataset.filter(filter_func)"
   ]
  },
  {
   "cell_type": "code",
   "execution_count": null,
   "id": "12a95c63-65f5-4fb3-8e54-43f085e83750",
   "metadata": {},
   "outputs": [],
   "source": [
    "from datasets import Dataset"
   ]
  },
  {
   "cell_type": "code",
   "execution_count": null,
   "id": "0ba12511-22bd-4bbd-b551-6ed2ca10ca3c",
   "metadata": {},
   "outputs": [],
   "source": [
    "dataset = Dataset.from_dict(data)"
   ]
  },
  {
   "cell_type": "code",
   "execution_count": null,
   "id": "51f513ef-8237-4b33-af63-fc1ec311108d",
   "metadata": {},
   "outputs": [],
   "source": [
    "stream = torch.cuda.Stream()"
   ]
  },
  {
   "cell_type": "code",
   "execution_count": null,
   "id": "9aa3ecc7-0087-42cc-8f13-08fbfa1fa035",
   "metadata": {},
   "outputs": [],
   "source": [
    "with torch.cuda.stream(stream):\n",
    "    x_mean, y_mean = x.mean(), y.mean()"
   ]
  },
  {
   "cell_type": "code",
   "execution_count": null,
   "id": "1d8e6e3d-ebe0-4e81-a9f3-c0d93d616c0c",
   "metadata": {},
   "outputs": [],
   "source": [
    "def init_communication(name, rank, world_size):\n",
    "    torch.distributed.rpc.init_rpc(name, rank, world_size)"
   ]
  },
  {
   "cell_type": "code",
   "execution_count": null,
   "id": "00812eb9-db2e-453f-a328-4a3f8d5ae72d",
   "metadata": {},
   "outputs": [],
   "source": [
    "xs = torch.split(x, [1, 3, 2])"
   ]
  },
  {
   "cell_type": "code",
   "execution_count": null,
   "id": "3eb15b13-4280-4f80-9497-c598808fa639",
   "metadata": {},
   "outputs": [],
   "source": [
    "from einops import einsum"
   ]
  },
  {
   "cell_type": "code",
   "execution_count": null,
   "id": "1e084130-5807-42aa-90dc-f06d971ad075",
   "metadata": {},
   "outputs": [],
   "source": [
    "einsum(x, y, \"batch dim, batch dim ->\")"
   ]
  },
  {
   "cell_type": "code",
   "execution_count": null,
   "id": "e48a1e89-d0ce-4795-a0a6-f11f33f1d901",
   "metadata": {},
   "outputs": [],
   "source": [
    "import torch.distributed.rpc as rpc"
   ]
  },
  {
   "cell_type": "code",
   "execution_count": null,
   "id": "cff2e308-ffbd-4403-9a39-d9deac2d46a7",
   "metadata": {},
   "outputs": [],
   "source": [
    "rpc.remote(\"worker_1\", create_tensor)"
   ]
  },
  {
   "cell_type": "code",
   "execution_count": null,
   "id": "4c76eeca-31a3-446c-a223-c3c78db075d1",
   "metadata": {},
   "outputs": [],
   "source": [
    "stream1 = torch.cuda.Stream()\n",
    "stream2 = torch.cuda.Stream()"
   ]
  },
  {
   "cell_type": "code",
   "execution_count": null,
   "id": "b7420269-fd0a-41cd-a634-796b346b2d66",
   "metadata": {},
   "outputs": [],
   "source": [
    "with torch.cuda.stream(stream1):\n",
    "    x_mean = x.mean()\n",
    "    \n",
    "with torch.cuda.stream(stream2):\n",
    "    y_mean = y.mean()"
   ]
  },
  {
   "cell_type": "code",
   "execution_count": null,
   "id": "78bb9148-2686-40dc-b30d-16e6580293cc",
   "metadata": {},
   "outputs": [],
   "source": []
  },
  {
   "cell_type": "code",
   "execution_count": null,
   "id": "5aadcd9e-ba97-48ee-8ad2-9a5c361b81c6",
   "metadata": {},
   "outputs": [],
   "source": [
    "tokenizer.add_special_tokens(SPECIAL_TOKENS)"
   ]
  },
  {
   "cell_type": "code",
   "execution_count": null,
   "id": "4fd6946b-6524-4c5e-a924-ccd434e83e00",
   "metadata": {},
   "outputs": [],
   "source": [
    "model.resize_embedding()"
   ]
  },
  {
   "cell_type": "code",
   "execution_count": null,
   "id": "b15dbaa6-c897-4610-9879-a8dea98e4a0c",
   "metadata": {},
   "outputs": [],
   "source": [
    "for param in model.parameters():\n",
    "    param.requires_grad = False"
   ]
  },
  {
   "cell_type": "code",
   "execution_count": null,
   "id": "f8253d03-fb4c-4e45-b776-1903beadd7fd",
   "metadata": {},
   "outputs": [],
   "source": [
    "for i, block in model.transformer.h:\n",
    "    if i >= 6:\n",
    "        for param in block.parameters():\n",
    "            param.requires_grad = True"
   ]
  },
  {
   "cell_type": "code",
   "execution_count": null,
   "id": "54c25150-e22e-462c-ad1d-6caf43d9b172",
   "metadata": {},
   "outputs": [],
   "source": [
    "for param in model.trans:\n",
    "    param.requires_grad = True"
   ]
  },
  {
   "cell_type": "code",
   "execution_count": null,
   "id": "a0a4e957-769a-462c-900e-9348e2ae7627",
   "metadata": {},
   "outputs": [],
   "source": [
    "for param in model.unembed:\n",
    "    param.requires_grad = True"
   ]
  },
  {
   "cell_type": "code",
   "execution_count": null,
   "id": "e042be86-d24f-48d6-847a-8cbd8c2e32a2",
   "metadata": {},
   "outputs": [],
   "source": [
    "class PositionFeedForward(nn.Module):\n",
    "    def __init__(self, d_model, d_ff, dropout):\n",
    "        super().__init__()\n",
    "        self.net = nn.Sequential(\n",
    "            nn.Linear(d_model, d_ff),\n",
    "            nn.ReLU(),\n",
    "            nn.Dropout(dropout),\n",
    "            nn.Linear(d_ff, d_model)\n",
    "        )\n",
    "    \n",
    "    def forward(self, x):\n",
    "        return self.net(x)"
   ]
  },
  {
   "cell_type": "code",
   "execution_count": null,
   "id": "8016246f-bff3-4e32-be4c-2c28ba11ae3d",
   "metadata": {},
   "outputs": [],
   "source": [
    "nn.Embedding(num_embeddings=100, embedding_dim=5, padding_idx=5)"
   ]
  }
 ],
 "metadata": {
  "kernelspec": {
   "display_name": "Python 3 (ipykernel)",
   "language": "python",
   "name": "python3"
  }
 },
 "nbformat": 4,
 "nbformat_minor": 5
}
