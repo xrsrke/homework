{
 "cells": [
  {
   "cell_type": "markdown",
   "id": "8f38cb51-0cce-4c91-93a6-6b2772eb3e9c",
   "metadata": {},
   "source": [
    "### Engineering"
   ]
  },
  {
   "cell_type": "code",
   "execution_count": null,
   "id": "2a28caf7-ad42-4ab5-9694-ff0c7727f932",
   "metadata": {},
   "outputs": [],
   "source": [
    "import torch\n",
    "from torch import nn\n",
    "import torch.nn.functional as F"
   ]
  },
  {
   "cell_type": "code",
   "execution_count": null,
   "id": "12632d62-fe5b-4ba5-834d-5286e3a4a97c",
   "metadata": {},
   "outputs": [],
   "source": [
    "stream1 = torch.cuda.Stream()\n",
    "stream2 = torch.cuda.Stream()"
   ]
  },
  {
   "cell_type": "code",
   "execution_count": null,
   "id": "99cc1ed2-d1c5-4e83-95b6-0edc64dea4b4",
   "metadata": {},
   "outputs": [],
   "source": [
    "import time"
   ]
  },
  {
   "cell_type": "code",
   "execution_count": null,
   "id": "4d219c06-ecec-404c-9ef7-64ab14520503",
   "metadata": {},
   "outputs": [],
   "source": [
    "start_time = time.time()\n",
    "\n",
    "with torch.cuda.stream(stream1):\n",
    "    operation_a()\n",
    "\n",
    "with torch.cuda.stream(stream2):\n",
    "    operation_b()\n",
    "\n",
    "torch.cuda.syncronize()\n",
    "\n",
    "end_time = time.time()"
   ]
  },
  {
   "cell_type": "code",
   "execution_count": null,
   "id": "3d7eac2a-216c-49e9-a8f0-c0514fc4f616",
   "metadata": {},
   "outputs": [],
   "source": [
    "step 1: calculate the forward pass part 1\n",
    "step 2: calculate the forwarpass of part 2\n",
    "step 3: delete part 1\n",
    "step 4: calculate the gradient of part 2\n",
    "step 5: recompute part 1"
   ]
  },
  {
   "cell_type": "code",
   "execution_count": null,
   "id": "4cf1a1ef-e82c-4961-9a50-097caa8ab139",
   "metadata": {},
   "outputs": [],
   "source": [
    "clock cycle 1: B_{m, n}\n",
    "clock cycle 2: B_{m, n-1}, B_{m-1, n}\n",
    "clock cycle 3: B_{m, n-2}, B_{m-1, n-1}, {m-2, n}"
   ]
  },
  {
   "cell_type": "code",
   "execution_count": null,
   "id": "8ee08f1f-6308-497c-9a1b-36dadf0930e4",
   "metadata": {},
   "outputs": [],
   "source": [
    "from torch.multiprocessing import Process"
   ]
  },
  {
   "cell_type": "code",
   "execution_count": null,
   "id": "053f8a53-013e-4caa-8d2b-01c6cba81925",
   "metadata": {},
   "outputs": [],
   "source": [
    "def target(rank, world_size):\n",
    "    torch.distributed.init_process_group(\n",
    "        *config, rank=rank, world_size=world_size\n",
    "    )"
   ]
  },
  {
   "cell_type": "code",
   "execution_count": null,
   "id": "7d340cd9-147e-4bf0-9a5f-13680467f500",
   "metadata": {},
   "outputs": [],
   "source": [
    "for rank in range(3):\n",
    "    process = Process(target=target, rank, world_size)\n",
    "    process.start()"
   ]
  },
  {
   "cell_type": "code",
   "execution_count": null,
   "id": "fbd08060-47cd-456a-9763-2475b9778d51",
   "metadata": {},
   "outputs": [],
   "source": [
    "- the patrition j must be on j device\n",
    "- F_{m, n} must be completed before F_{m, n+1}\n",
    "- B_{m, n} must be completed before B_{m, n-1}"
   ]
  },
  {
   "cell_type": "code",
   "execution_count": null,
   "id": "6c77902c-7bd8-42a5-900f-77e3ead558dc",
   "metadata": {},
   "outputs": [],
   "source": [
    "rank = torch.distributed.get_rank()"
   ]
  },
  {
   "cell_type": "code",
   "execution_count": null,
   "id": "ea3e5730-3279-43c6-8b49-1452ad82e417",
   "metadata": {},
   "outputs": [],
   "source": [
    "for i in range(num_tensor_model_parallel_groups):\n",
    "    ranks = range(i*rank, i*rank+1)\n",
    "    \n",
    "    if rank in ranks:\n",
    "        group = torch.distributed.get_rank()\n",
    "        set_current_tensor_parallel_group(group)"
   ]
  },
  {
   "cell_type": "code",
   "execution_count": null,
   "id": "1f4b1262-4f0d-4749-8feb-b8f98cbabfbf",
   "metadata": {},
   "outputs": [],
   "source": [
    "rank = torch.distributed.get_rank()"
   ]
  },
  {
   "cell_type": "code",
   "execution_count": null,
   "id": "57e02c18-7560-401c-895b-d47a70c17556",
   "metadata": {},
   "outputs": [],
   "source": [
    "for i in range(num_tensor_model_parallel_groups):\n",
    "    ranks = range(\n",
    "        i*tensor_model_parallel_size,\n",
    "        i*tensor_model_parallel_size+1\n",
    "    )\n",
    "    \n",
    "    if rank in ranks:\n",
    "        group = torch.distributed.new_group(ranks)\n",
    "        set_current_tensor_parallel_group(group)"
   ]
  },
  {
   "cell_type": "code",
   "execution_count": null,
   "id": "bb5cb3f4-2777-4e53-973a-d3ce76291e06",
   "metadata": {},
   "outputs": [],
   "source": [
    "port, address, rank, world_size"
   ]
  },
  {
   "cell_type": "code",
   "execution_count": null,
   "id": "72a1a907-b342-4384-90de-f95bc629cfbe",
   "metadata": {},
   "outputs": [],
   "source": [
    "- clock cycle 1: f_{1, 1}\n",
    "- clock cycle 2: f_{1, 2}, f_{2, 1}\n",
    "- clock cycle 3: f_{1, 3}, f_{2, 2}, f_{3, 1}"
   ]
  },
  {
   "cell_type": "code",
   "execution_count": null,
   "id": "5cb7fd71-05b6-4810-924f-d8f68ca40d50",
   "metadata": {},
   "outputs": [],
   "source": [
    "rank = torch.distributed.get_rank()\n",
    "\n",
    "if rank == 0:\n",
    "    torch.distributed.broadcast(x, src=0)"
   ]
  },
  {
   "cell_type": "code",
   "execution_count": null,
   "id": "791b402b-8b80-4cd5-9855-1c4be60c90b9",
   "metadata": {},
   "outputs": [],
   "source": [
    "rank = torch.distributed.get_rank()"
   ]
  },
  {
   "cell_type": "code",
   "execution_count": null,
   "id": "1beb16b1-eb5f-42f1-b62a-26eab0a6832d",
   "metadata": {},
   "outputs": [],
   "source": [
    "if rank == 0:\n",
    "    torch.distributed.broadcast(x, src=0)"
   ]
  },
  {
   "cell_type": "markdown",
   "id": "191f4ca3-bd6d-4785-90e8-e09c0f142f0a",
   "metadata": {},
   "source": [
    "### ML Engineering"
   ]
  },
  {
   "cell_type": "code",
   "execution_count": null,
   "id": "0db5145b-c263-416b-bd8b-4148b4f8817b",
   "metadata": {},
   "outputs": [],
   "source": [
    "from prefect import task"
   ]
  },
  {
   "cell_type": "code",
   "execution_count": null,
   "id": "62a78df2-f752-400a-9310-111564c00e99",
   "metadata": {},
   "outputs": [],
   "source": [
    "@task\n",
    "def hello():\n",
    "    print(42)"
   ]
  },
  {
   "cell_type": "code",
   "execution_count": null,
   "id": "ae9bdcbb-50ce-4149-be72-aae292f9ab69",
   "metadata": {},
   "outputs": [],
   "source": [
    "from pydantic import BaseModel, validator"
   ]
  },
  {
   "cell_type": "code",
   "execution_count": null,
   "id": "e70bf1fa-81b5-44f8-8fe3-fd7b7e76f27a",
   "metadata": {},
   "outputs": [],
   "source": [
    "class User(BaseModel):\n",
    "    user_id: int\n",
    "    username: str\n",
    "    \n",
    "    @validator(\"username\")\n",
    "    def capitalize_username(value):\n",
    "        return value.upper()"
   ]
  },
  {
   "cell_type": "code",
   "execution_count": null,
   "id": "2be3256a-eb3b-4603-86ec-a13b7270a12a",
   "metadata": {},
   "outputs": [],
   "source": [
    "from metaflow import FlowSpec, step, conda"
   ]
  },
  {
   "cell_type": "code",
   "execution_count": null,
   "id": "0e8241a8-5d41-4d8e-acfe-3fc8a55db11d",
   "metadata": {},
   "outputs": [],
   "source": [
    "class TrainingFlow(FlowSpec):\n",
    "    @step\n",
    "    def start(self):\n",
    "        self.next(self.train)\n",
    "    \n",
    "    @conda(python=\"3.11.0\", libraries={\"pytorch\": \"2.0.0\"})\n",
    "    @step\n",
    "    def train(self):\n",
    "        train()\n",
    "        self.next(self.end)\n",
    "    \n",
    "    @step\n",
    "    def end(self): pass"
   ]
  },
  {
   "cell_type": "code",
   "execution_count": null,
   "id": "0fb9ca20-02ef-4015-bdb5-2248fdb31788",
   "metadata": {},
   "outputs": [],
   "source": [
    "root user, iam user, iam role"
   ]
  },
  {
   "cell_type": "code",
   "execution_count": null,
   "id": "86e57fc6-7967-4de9-a579-f2d51bc6b373",
   "metadata": {},
   "outputs": [],
   "source": [
    "iam role, iam user, aws resource"
   ]
  },
  {
   "cell_type": "code",
   "execution_count": null,
   "id": "eb8bd5f4-6b71-47a9-ab91-27bf18c5ce83",
   "metadata": {},
   "outputs": [],
   "source": [
    "iam role, iam group, "
   ]
  },
  {
   "cell_type": "code",
   "execution_count": null,
   "id": "67ec2186-262b-474b-a6c6-7c10557381d1",
   "metadata": {},
   "outputs": [],
   "source": [
    "iam user, iam role, iam group, aws resources"
   ]
  },
  {
   "cell_type": "code",
   "execution_count": null,
   "id": "ea6facb4-25e4-4480-9bca-a42a01e1eceb",
   "metadata": {},
   "outputs": [],
   "source": [
    "step 1: iam role\n",
    "step 2: iam policy\n",
    "iam att"
   ]
  },
  {
   "cell_type": "markdown",
   "id": "6bb37855-95c3-453e-8c13-aa433ccac929",
   "metadata": {},
   "source": [
    "### SCi"
   ]
  },
  {
   "cell_type": "code",
   "execution_count": null,
   "id": "5710b1e7-0152-43db-9c2d-e869339f0125",
   "metadata": {},
   "outputs": [],
   "source": [
    "n > axon > synapse > dendrie "
   ]
  },
  {
   "cell_type": "markdown",
   "id": "35d4e808-7ff4-47e5-96ec-b23d73f8456d",
   "metadata": {},
   "source": [
    "### AI"
   ]
  },
  {
   "cell_type": "code",
   "execution_count": null,
   "id": "73b0107b-a8b4-414c-816c-e4d884b7b156",
   "metadata": {},
   "outputs": [],
   "source": [
    "import torch\n",
    "from torch import nn\n",
    "import torch.nn.functional as F"
   ]
  },
  {
   "cell_type": "code",
   "execution_count": null,
   "id": "32786cc5-f164-47a7-ae30-b0263ad62efc",
   "metadata": {},
   "outputs": [],
   "source": [
    "model.W_E"
   ]
  },
  {
   "cell_type": "code",
   "execution_count": null,
   "id": "67addb04-9c7e-4c95-a747-a5b217a7b60e",
   "metadata": {},
   "outputs": [],
   "source": [
    "model.embed(tokens)"
   ]
  },
  {
   "cell_type": "code",
   "execution_count": null,
   "id": "7cc483e7-3be3-41d2-bbf5-4fe33b4c35cc",
   "metadata": {},
   "outputs": [],
   "source": [
    "cache[\"hook_embd\"]"
   ]
  },
  {
   "cell_type": "code",
   "execution_count": null,
   "id": "48f39c59-a7d2-4104-810b-fbdf133825eb",
   "metadata": {},
   "outputs": [],
   "source": [
    "from ray.train.rl.rl_trainer import RLTrainer"
   ]
  },
  {
   "cell_type": "code",
   "execution_count": null,
   "id": "5574d73b-d4e3-466d-a1ce-d0e34e6bb435",
   "metadata": {},
   "outputs": [],
   "source": [
    "torch.jit.script()"
   ]
  },
  {
   "cell_type": "code",
   "execution_count": null,
   "id": "604a6ad5-17ef-4f98-931e-466dd2a3df5f",
   "metadata": {},
   "outputs": [],
   "source": [
    "from torchvision import transforms as tfms"
   ]
  },
  {
   "cell_type": "code",
   "execution_count": null,
   "id": "4fbe9615-c9fe-4016-a164-99efe4ea2ef9",
   "metadata": {},
   "outputs": [],
   "source": [
    "transform = tfms.Compose([\n",
    "    tfms.ToTensor(),\n",
    "    tfms.Normalize(0.3, 0.9)\n",
    "])"
   ]
  },
  {
   "cell_type": "code",
   "execution_count": null,
   "id": "297d3fec-f3ca-4d4a-a887-d2f488c1e415",
   "metadata": {},
   "outputs": [],
   "source": [
    "act_head = activations[1, 2]"
   ]
  },
  {
   "cell_type": "code",
   "execution_count": null,
   "id": "53eb06c6-127f-4155-898a-e9a4be95a3e4",
   "metadata": {},
   "outputs": [],
   "source": [
    "n_features = 5"
   ]
  },
  {
   "cell_type": "code",
   "execution_count": null,
   "id": "6798b7a7-793b-40ce-b0f0-a3ef74b10d49",
   "metadata": {},
   "outputs": [],
   "source": [
    "interference[\n",
    "    torch.arange(n_features),\n",
    "    torch.arange(n_features)\n",
    "] = 0"
   ]
  },
  {
   "cell_type": "code",
   "execution_count": null,
   "id": "4715dde2-1435-44dc-a02b-364576ef9b33",
   "metadata": {},
   "outputs": [],
   "source": [
    "interference.abs().pow(2)"
   ]
  },
  {
   "cell_type": "code",
   "execution_count": null,
   "id": "5ff6d5b6-d8a6-471b-a11b-31a9062fd450",
   "metadata": {},
   "outputs": [],
   "source": [
    "n-dimensional activations => at max, n indepentent basis vectors\n",
    "n non-interference features\n",
    "but in interference, "
   ]
  },
  {
   "cell_type": "code",
   "execution_count": null,
   "id": "8ed26a4e-ff14-4f8b-a9e9-3ca7a3ca3ee8",
   "metadata": {},
   "outputs": [],
   "source": [
    "from pfrl.q_function"
   ]
  },
  {
   "cell_type": "code",
   "execution_count": null,
   "id": "98753aaf-2942-40ed-a813-1e8bf02a1b21",
   "metadata": {},
   "outputs": [],
   "source": [
    "for param in model.parameters():\n",
    "    param.requires_grad = False"
   ]
  },
  {
   "cell_type": "code",
   "execution_count": null,
   "id": "1df87ad8-60c8-416f-b0ad-0bb1163a40a7",
   "metadata": {},
   "outputs": [],
   "source": [
    "for i, block in enumerate(model.blocks):\n",
    "    if i >= 5:\n",
    "        for param in blocks.parameters():\n",
    "            param.requires_grad = True"
   ]
  },
  {
   "cell_type": "code",
   "execution_count": null,
   "id": "db5da3b7-caa1-4439-b476-6ca4351cd24e",
   "metadata": {},
   "outputs": [],
   "source": [
    "for param in model.ln_final.parameters():\n",
    "    param.requires_grad = True"
   ]
  },
  {
   "cell_type": "code",
   "execution_count": null,
   "id": "7b201a26-91a1-4ef1-ba0a-c5385f70fdd5",
   "metadata": {},
   "outputs": [],
   "source": [
    "for param in model.lm_head.parameters():\n",
    "    param.requires_grad = True"
   ]
  },
  {
   "cell_type": "code",
   "execution_count": null,
   "id": "3a2f1b37-1e4e-4e32-8d09-88b7ce6f485c",
   "metadata": {},
   "outputs": [],
   "source": [
    "log_prob = dist.log_prob(action)"
   ]
  },
  {
   "cell_type": "code",
   "execution_count": null,
   "id": "07b716a3-982e-4ee1-b0fb-492f5cb6e0e6",
   "metadata": {},
   "outputs": [],
   "source": [
    "step 1: text embedding, positional embedding\n",
    "step 2: stack attention output, mlp output\n",
    "step 3: apply the layer norm of the final layer to all "
   ]
  },
  {
   "cell_type": "code",
   "execution_count": null,
   "id": "53345a3c-c87e-455e-aede-63754ba50b1a",
   "metadata": {},
   "outputs": [],
   "source": [
    "interference[torch.arange(n_features), torch.arange(n_features)] = 0"
   ]
  },
  {
   "cell_type": "code",
   "execution_count": null,
   "id": "ac9640e7-231c-4e38-a4d9-90ecb278aebc",
   "metadata": {},
   "outputs": [],
   "source": [
    "polysemanticity = interference.pow(2).sum(-1).sqrt()"
   ]
  },
  {
   "cell_type": "code",
   "execution_count": null,
   "id": "fa49b787-6537-4149-8e0b-2f18cb9e3f5d",
   "metadata": {},
   "outputs": [],
   "source": [
    "text_embeddings = cache[\"hook_embed\"]"
   ]
  },
  {
   "cell_type": "code",
   "execution_count": null,
   "id": "6db27d59-8044-4ce5-bd58-712833582389",
   "metadata": {},
   "outputs": [],
   "source": [
    "positional_embeddings = cache[\"hook_pos_embed\"]"
   ]
  },
  {
   "cell_type": "code",
   "execution_count": null,
   "id": "948ade16-e658-430a-b4c5-97f1c13925af",
   "metadata": {},
   "outputs": [],
   "source": [
    "components = []"
   ]
  },
  {
   "cell_type": "code",
   "execution_count": null,
   "id": "28b32b1d-f33c-4521-84c1-b4a17c42b18a",
   "metadata": {},
   "outputs": [],
   "source": [
    "components.append(text_embeddings)\n",
    "components.append(positional_embeddings)"
   ]
  },
  {
   "cell_type": "code",
   "execution_count": null,
   "id": "efd213af-5762-44fc-a6c6-a4fd7dc4877d",
   "metadata": {},
   "outputs": [],
   "source": [
    "from transformer_lens.utils import get_act_name"
   ]
  },
  {
   "cell_type": "code",
   "execution_count": null,
   "id": "92d114c2-ccf3-43ec-bcef-81346481e358",
   "metadata": {},
   "outputs": [],
   "source": [
    "for layer in range(n_layers):\n",
    "    attn_out_name = get_act_name(\"attn_out\", layer)\n",
    "    mlp_out_name = get_act_name(\"mlp_out\", layer)\n",
    "    components.append(cache[attn_out_name])\n",
    "    components.append(cache[mlp_out_name])"
   ]
  },
  {
   "cell_type": "code",
   "execution_count": null,
   "id": "14635187-68a7-4649-a92b-8f870f5a09cc",
   "metadata": {},
   "outputs": [],
   "source": [
    "compo"
   ]
  },
  {
   "cell_type": "code",
   "execution_count": null,
   "id": "80193ea1-1a34-4450-a1a6-613bfa4f296b",
   "metadata": {},
   "outputs": [],
   "source": [
    "class ShortcutProject(nn.Module):\n",
    "    def __init__(self, in_channels, out_channels, stride):\n",
    "        super().__init__()\n",
    "        self.net = nn.Sequential(\n",
    "            nn.Conv2d(in_channels, out_channels,)\n",
    "        )"
   ]
  },
  {
   "cell_type": "code",
   "execution_count": null,
   "id": "80ff9a1e-aac9-4da5-a554-000236b44e93",
   "metadata": {},
   "outputs": [],
   "source": [
    "nn.LayerNorm(10)"
   ]
  },
  {
   "cell_type": "code",
   "execution_count": null,
   "id": "a7efb033-f8d5-45b5-a8a8-bbbb44949869",
   "metadata": {},
   "outputs": [],
   "source": [
    "class LayerNorm(nn.Module):\n",
    "    def __init__(self, features, eps):\n",
    "        super().__init__()\n",
    "        self.eps = eps\n",
    "        self.adds = nn.Parameter(torch.zeros(features))\n",
    "        self.mults = nn.Parameter(torch.ones(features))\n",
    "    \n",
    "    def forward(self, x):\n",
    "        mean = x.mean(keepdim=True, dim=-1)\n",
    "        var = x.var(keepdim=True, dim=-1)\n",
    "        x = (x - mean) / (self.eps + var).sqrt()\n",
    "        x = self.adds + self.mults * x\n",
    "        return x"
   ]
  },
  {
   "cell_type": "code",
   "execution_count": null,
   "id": "17c9f9ec-b510-4a01-a245-4c24604191e0",
   "metadata": {},
   "outputs": [],
   "source": [
    "class DotProduct(nn.Module):\n",
    "    def forward(self, x):\n",
    "        users = self.user_factors(x[:, 0])\n",
    "        movies = self.movie_factors(x[:, 1])\n",
    "        return (users*moives).sum()"
   ]
  },
  {
   "cell_type": "code",
   "execution_count": null,
   "id": "1752912e-6fc5-443e-8941-e0fe9017c6aa",
   "metadata": {},
   "outputs": [],
   "source": [
    "text_embeddings = cache[\"hook_embed\"]\n",
    "positional_embeddings = cache[\"hook_pos_embed\"]"
   ]
  },
  {
   "cell_type": "code",
   "execution_count": null,
   "id": "b2524a84-ffe4-4ba7-a553-d79ffe25b843",
   "metadata": {},
   "outputs": [],
   "source": [
    "components = []"
   ]
  },
  {
   "cell_type": "code",
   "execution_count": null,
   "id": "fe838016-2569-4fd6-a8eb-2da2f2966892",
   "metadata": {},
   "outputs": [],
   "source": [
    "components.append(text_embeddings)\n",
    "components.append(positional_embeddings)"
   ]
  },
  {
   "cell_type": "code",
   "execution_count": null,
   "id": "6af62a7e-7c29-4763-a268-dea90164355a",
   "metadata": {},
   "outputs": [],
   "source": [
    "from transformer_lens.utils import get_act_name"
   ]
  },
  {
   "cell_type": "code",
   "execution_count": null,
   "id": "5e6e49c7-3fc3-4b4d-962b-8b01d742e89d",
   "metadata": {},
   "outputs": [],
   "source": [
    "for layer in range(4):\n",
    "    attn_name = get_act_name(\"attn_out\", layer)\n",
    "    mlp_name = get_act_name(\"mlp_out\", layer)\n",
    "    components.append(cache[attn_name])\n",
    "    components.append(cache[mlp_name])"
   ]
  },
  {
   "cell_type": "code",
   "execution_count": null,
   "id": "450de755-3311-49c9-aca5-faa3e84d022d",
   "metadata": {},
   "outputs": [],
   "source": [
    "from torch.distributions import Categorical"
   ]
  },
  {
   "cell_type": "code",
   "execution_count": null,
   "id": "8930add8-d1e0-4f20-9977-14d6ffdad9a0",
   "metadata": {},
   "outputs": [],
   "source": [
    "dist = Categorical(probs=probs)"
   ]
  },
  {
   "cell_type": "code",
   "execution_count": null,
   "id": "14431297-884b-40a3-985f-3b96a41ee67e",
   "metadata": {},
   "outputs": [],
   "source": [
    "rpc.rpc_async()"
   ]
  }
 ],
 "metadata": {
  "kernelspec": {
   "display_name": "Python 3 (ipykernel)",
   "language": "python",
   "name": "python3"
  }
 },
 "nbformat": 4,
 "nbformat_minor": 5
}
