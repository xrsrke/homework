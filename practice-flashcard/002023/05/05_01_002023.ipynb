{
 "cells": [
  {
   "cell_type": "markdown",
   "id": "d0951d14-732d-4c4d-863f-a453dc9dd4ad",
   "metadata": {},
   "source": [
    "### Sci"
   ]
  },
  {
   "cell_type": "markdown",
   "id": "66c77d1c-ddcb-4aef-9fe9-924000383de4",
   "metadata": {},
   "source": [
    "### ML Engineering"
   ]
  },
  {
   "cell_type": "code",
   "execution_count": null,
   "id": "19fbd9e6-e761-4748-8778-7faa55323aa1",
   "metadata": {},
   "outputs": [],
   "source": [
    "from typing import Set\n",
    "\n",
    "from dataclasses import dataclass"
   ]
  },
  {
   "cell_type": "code",
   "execution_count": null,
   "id": "c9d3d9d4-566f-4706-9dc3-e0723ed90634",
   "metadata": {},
   "outputs": [],
   "source": [
    "@dataclass\n",
    "class Ingredient:\n",
    "    name: str\n",
    "    amount: int\n",
    "    unit: Im"
   ]
  },
  {
   "cell_type": "code",
   "execution_count": null,
   "id": "16939c4b-82f9-431c-9b7a-166bea88cf30",
   "metadata": {},
   "outputs": [],
   "source": [
    "class Recipe:\n",
    "    meats: {}"
   ]
  },
  {
   "cell_type": "code",
   "execution_count": null,
   "id": "256adafb-7ce7-46c7-bcef-b2970b81b2a6",
   "metadata": {},
   "outputs": [],
   "source": [
    "from typing import overload"
   ]
  },
  {
   "cell_type": "code",
   "execution_count": null,
   "id": "5e332fef-83cf-4bc6-8fc6-24e11cb76244",
   "metadata": {},
   "outputs": [],
   "source": [
    "@overload\n",
    "def getitem(x: str) -> str:\n",
    "    pass"
   ]
  },
  {
   "cell_type": "code",
   "execution_count": null,
   "id": "1c5519ad-fecc-4114-b89b-82340d256ba9",
   "metadata": {},
   "outputs": [],
   "source": [
    "from typing import List"
   ]
  },
  {
   "cell_type": "code",
   "execution_count": null,
   "id": "0b06e6d2-ff31-410f-b106-fa0dfefe27f1",
   "metadata": {},
   "outputs": [],
   "source": [
    "@overload\n",
    "def getitem(x: List[int]) -> int:\n",
    "    pass"
   ]
  },
  {
   "cell_type": "code",
   "execution_count": null,
   "id": "d00ae908-3030-4cc1-99e3-0c0f5d9f55a8",
   "metadata": {},
   "outputs": [],
   "source": [
    "from sqlalchemy.orm import sessionmaker"
   ]
  },
  {
   "cell_type": "code",
   "execution_count": null,
   "id": "8ea3b48d-b778-4251-b993-3d87eda50168",
   "metadata": {},
   "outputs": [],
   "source": [
    "Session = sessionmaker(bind=engine)"
   ]
  },
  {
   "cell_type": "code",
   "execution_count": null,
   "id": "97a2f2b8-c5ff-4e25-be69-9ff2d34468c3",
   "metadata": {},
   "outputs": [],
   "source": [
    "session = Session()"
   ]
  },
  {
   "cell_type": "code",
   "execution_count": null,
   "id": "5cbdf65b-cd7d-4052-b5e5-6668f894faa9",
   "metadata": {},
   "outputs": [],
   "source": [
    "session.add(user)"
   ]
  },
  {
   "cell_type": "code",
   "execution_count": null,
   "id": "3c3c1ff8-3b9e-4adf-92aa-990a8ca454d5",
   "metadata": {},
   "outputs": [],
   "source": [
    "session.commit()"
   ]
  },
  {
   "cell_type": "code",
   "execution_count": null,
   "id": "7b1eb2c4-5bb3-4f40-ba92-a00b105fe05a",
   "metadata": {},
   "outputs": [],
   "source": [
    "from threading import Thread"
   ]
  },
  {
   "cell_type": "code",
   "execution_count": null,
   "id": "c6af35db-006c-4080-9263-93564f6a86d0",
   "metadata": {},
   "outputs": [],
   "source": [
    "thread = Thread(target=print_numbers)"
   ]
  },
  {
   "cell_type": "code",
   "execution_count": null,
   "id": "864cef10-a873-4210-af65-d2d6e62da0cf",
   "metadata": {},
   "outputs": [],
   "source": [
    "thread.start()"
   ]
  },
  {
   "cell_type": "markdown",
   "id": "b7557e08-0a9d-4049-8f84-c7aa85f143de",
   "metadata": {},
   "source": [
    "### Engineering"
   ]
  },
  {
   "cell_type": "code",
   "execution_count": null,
   "id": "1bf47617-67cc-45fc-9d02-4bcf4a2e7dcf",
   "metadata": {},
   "outputs": [],
   "source": [
    "from queue import Queue"
   ]
  },
  {
   "cell_type": "code",
   "execution_count": null,
   "id": "268ffe59-5c7e-49c9-9dc2-ce09d82d0675",
   "metadata": {},
   "outputs": [],
   "source": [
    "q = Queue()"
   ]
  },
  {
   "cell_type": "code",
   "execution_count": null,
   "id": "6ff75f5e-3838-47c9-9d26-99e7593abd46",
   "metadata": {},
   "outputs": [],
   "source": [
    "for x in xs:\n",
    "    q.put(x)"
   ]
  },
  {
   "cell_type": "code",
   "execution_count": null,
   "id": "834ce8cd-af07-4ddd-8365-f859c3e13b9b",
   "metadata": {},
   "outputs": [],
   "source": [
    "import torch.distributed as dist"
   ]
  },
  {
   "cell_type": "code",
   "execution_count": null,
   "id": "e655bd30-5ac7-428e-874f-0d9bada72b53",
   "metadata": {},
   "outputs": [],
   "source": [
    "dist.broadcast(x, src=0)"
   ]
  },
  {
   "cell_type": "code",
   "execution_count": null,
   "id": "fbe0decd-727c-4196-b69c-d7eedc202ee5",
   "metadata": {},
   "outputs": [],
   "source": [
    "from torch.multiprocessing import Process"
   ]
  },
  {
   "cell_type": "code",
   "execution_count": null,
   "id": "7f8e2fa7-b258-4c36-aab2-3fbc51978317",
   "metadata": {},
   "outputs": [],
   "source": [
    "world_size = 4"
   ]
  },
  {
   "cell_type": "code",
   "execution_count": null,
   "id": "3b20aca5-11c0-46c6-a2d2-871c28f61d45",
   "metadata": {},
   "outputs": [],
   "source": [
    "def init_communication(rank, world_size, config):\n",
    "    dist.init_process_group(*config, rank=rank, world_size=world_size)"
   ]
  },
  {
   "cell_type": "code",
   "execution_count": null,
   "id": "dfa65a0c-f990-4f5f-83c4-367c4dd64ff4",
   "metadata": {},
   "outputs": [],
   "source": [
    "for rank in range(world_size):\n",
    "    p = Process(target=init_communication, args=(rank, world_size, config))\n",
    "    p.start()"
   ]
  },
  {
   "cell_type": "code",
   "execution_count": null,
   "id": "a310b035-38f9-4bde-982a-f5cb8b545c02",
   "metadata": {},
   "outputs": [],
   "source": [
    "import time"
   ]
  },
  {
   "cell_type": "code",
   "execution_count": null,
   "id": "03aa8eb3-c986-48dd-8655-d88152ecba94",
   "metadata": {},
   "outputs": [],
   "source": [
    "import torch"
   ]
  },
  {
   "cell_type": "code",
   "execution_count": null,
   "id": "80b2c74b-cc5d-4a4c-8f33-28a77af8dc87",
   "metadata": {},
   "outputs": [],
   "source": [
    "def profile_times(model, batch):\n",
    "    records = []\n",
    "    \n",
    "    for layer in model:\n",
    "        start_time = time.time()\n",
    "        \n",
    "        outputs = [layer(x) for x in batch]\n",
    "        \n",
    "        outputs_require_grad = [x for x in outputs if x.requires_grad]\n",
    "        \n",
    "        if outputs_require_grad:\n",
    "            torch.autograd.backward(outputs_require_grad, outputs_require_grad)\n",
    "        \n",
    "        end_time = time.time()\n",
    "        \n",
    "        records.append(end_time - start_time)\n",
    "    \n",
    "    return records"
   ]
  },
  {
   "cell_type": "markdown",
   "id": "f57469ee-475a-4869-9d92-fbd9f5777b8f",
   "metadata": {},
   "source": [
    "step 1: scale the loss\n",
    "step 2: compute the gradient with respect to the scaled loss\n",
    "step 3: sum the current gradient with the previous accumulated gradient\n",
    "step 4: if n_steps == current_step, update the model weight with respect to the accumulated gradient, else, step 1"
   ]
  },
  {
   "cell_type": "code",
   "execution_count": null,
   "id": "a94c90ed-369f-4591-8437-f0fb344746c1",
   "metadata": {},
   "outputs": [],
   "source": [
    "from torch import nn\n",
    "import torch.nn.functional as F"
   ]
  },
  {
   "cell_type": "code",
   "execution_count": null,
   "id": "644b830c-efd0-4505-be86-c615927f9bf9",
   "metadata": {},
   "outputs": [],
   "source": [
    "class ColumnParallelLinear(nn.Module):\n",
    "    def __init__(self, input_size, output_size, num_patritions):\n",
    "        super().__init__()\n",
    "        self.input_size = input_size\n",
    "        self.output_size_per_patrition = output_size // num_patritions\n",
    "        \n",
    "        self.weight = nn.Parameter(torch.empty(\n",
    "            self.output_size_per_patrition,\n",
    "            self.input_size\n",
    "        ))\n",
    "        self.bias = nn.Parameter(torch.empty(\n",
    "            self.output_size_per_patrition\n",
    "        ))\n",
    "    \n",
    "    def forward(self, input):\n",
    "        output_parallel = F.linear(input, self.weight, self.bias)\n",
    "        \n",
    "        world_size = torch.distributed.get_world_size()\n",
    "        outputs = [torch.zeros_like(output_parallel) for _ in range(world_size)]\n",
    "        torch.distributed.all_gather(outputs, output_parallel)\n",
    "        output = torch.cat(outputs, dim=0)\n",
    "        \n",
    "        return output"
   ]
  },
  {
   "cell_type": "code",
   "execution_count": null,
   "id": "0541e418-9f20-43b0-b48f-655785bc1d09",
   "metadata": {},
   "outputs": [],
   "source": [
    "address, port, rank, world_size"
   ]
  },
  {
   "cell_type": "code",
   "execution_count": null,
   "id": "15782837-3066-4df3-953c-ff8ae76c931b",
   "metadata": {},
   "outputs": [],
   "source": [
    "from torch.multiprocessing import Process"
   ]
  },
  {
   "cell_type": "code",
   "execution_count": null,
   "id": "28284786-064f-4877-bf09-07a7362e29dd",
   "metadata": {},
   "outputs": [],
   "source": [
    "for rank in range(world_size):\n",
    "    p = Process(target=say_hello, args=(rank,))\n",
    "    p.start()"
   ]
  },
  {
   "cell_type": "code",
   "execution_count": null,
   "id": "d219e862-0f33-48a4-b19f-bf68887e8ef3",
   "metadata": {},
   "outputs": [],
   "source": [
    "for rank in range(world_size):\n",
    "    p = Process(target=say_hello)\n",
    "    p.start()"
   ]
  },
  {
   "cell_type": "code",
   "execution_count": null,
   "id": "70792259-1ec5-4c1d-aa4b-0a98598b9650",
   "metadata": {},
   "outputs": [],
   "source": [
    "ranks = [0, 1, 3, 6]"
   ]
  },
  {
   "cell_type": "code",
   "execution_count": null,
   "id": "9f3f4c81-defa-49f2-be71-4c1ff91b8546",
   "metadata": {},
   "outputs": [],
   "source": [
    "rank = torch.distributed.get_rank()"
   ]
  },
  {
   "cell_type": "code",
   "execution_count": null,
   "id": "3e1de224-dd7e-4e77-b981-a2c1b936c7cc",
   "metadata": {},
   "outputs": [],
   "source": [
    "group = None"
   ]
  },
  {
   "cell_type": "code",
   "execution_count": null,
   "id": "bf9906a9-a8fc-4d21-b0a5-f19a2ec63049",
   "metadata": {},
   "outputs": [],
   "source": [
    "if rank in ranks:\n",
    "    group = torch.distributed.new_group(ranks=ranks)"
   ]
  },
  {
   "cell_type": "code",
   "execution_count": null,
   "id": "4243e73b-847e-4a47-ae58-bd8f4da9e222",
   "metadata": {},
   "outputs": [],
   "source": [
    "if rank == 0:\n",
    "    torch.distributed.broadcast(x, src=0, group=group)"
   ]
  },
  {
   "cell_type": "code",
   "execution_count": null,
   "id": "6d14a657-073e-47b8-9b69-9e99ed7b6d38",
   "metadata": {},
   "outputs": [],
   "source": [
    "message passing, p2p, collective communication"
   ]
  },
  {
   "cell_type": "code",
   "execution_count": null,
   "id": "9206bc03-a1bb-43a0-8700-8646ed91545d",
   "metadata": {},
   "outputs": [],
   "source": [
    "gather, reduce, scatter, broadcast"
   ]
  },
  {
   "cell_type": "code",
   "execution_count": null,
   "id": "1ce503d9-147e-4b5c-b20f-5e1abe3c4289",
   "metadata": {},
   "outputs": [],
   "source": [
    "step 1: init four process\n",
    "step 2: env\n",
    "step 3: init_process_group"
   ]
  },
  {
   "cell_type": "markdown",
   "id": "d7b2c80f-7982-4a8a-bf98-469fd42dc8e5",
   "metadata": {},
   "source": [
    "### AI"
   ]
  },
  {
   "cell_type": "code",
   "execution_count": null,
   "id": "90edef68-7c05-4e53-88ed-e6547fad238e",
   "metadata": {},
   "outputs": [],
   "source": [
    "import torch\n",
    "from torch import nn\n",
    "import torch.nn.functional as F"
   ]
  },
  {
   "cell_type": "code",
   "execution_count": null,
   "id": "8f4eae3e-0a5d-4526-9a11-560459df6890",
   "metadata": {},
   "outputs": [],
   "source": [
    "from datasets import Dataset"
   ]
  },
  {
   "cell_type": "code",
   "execution_count": null,
   "id": "2a5507e2-4a18-47ed-874c-1aec1a695134",
   "metadata": {},
   "outputs": [],
   "source": [
    "dataset = Dataset.from_dict()"
   ]
  },
  {
   "cell_type": "code",
   "execution_count": null,
   "id": "503c8d70-bf32-4105-922e-d3a64860c5fc",
   "metadata": {},
   "outputs": [],
   "source": [
    "def tokenize_func(x):\n",
    "    return tokenizer(x[\"sentence1\"])"
   ]
  },
  {
   "cell_type": "code",
   "execution_count": null,
   "id": "4d753e81-3549-4c1e-b9b8-1056d3ea49f9",
   "metadata": {},
   "outputs": [],
   "source": [
    "tokenzied_dataset = small_dataset.map(tokenize_func)"
   ]
  },
  {
   "cell_type": "code",
   "execution_count": null,
   "id": "5505b5f2-e171-4ff1-b7ec-f405b264fd7e",
   "metadata": {},
   "outputs": [],
   "source": [
    "def filter_func(x):\n",
    "    return x[\"sentence1\"].startswith(\"F\")"
   ]
  },
  {
   "cell_type": "code",
   "execution_count": null,
   "id": "0b9c3a43-9d07-4fe8-be5c-5094f83d82e8",
   "metadata": {},
   "outputs": [],
   "source": [
    "new_dataset = small_dataset.filter(filter_func)"
   ]
  },
  {
   "cell_type": "code",
   "execution_count": null,
   "id": "e90c7af8-5e01-44d5-a923-221bee6f93b6",
   "metadata": {},
   "outputs": [],
   "source": [
    "stream = torch.cuda.Stream(device=device)"
   ]
  },
  {
   "cell_type": "code",
   "execution_count": null,
   "id": "dc02b460-c328-43b9-bdcd-7e4207c97c13",
   "metadata": {},
   "outputs": [],
   "source": [
    "with torch.cuda.device(device):\n",
    "    with torch.cuda.stream(stream):\n",
    "        mean = x.mean()"
   ]
  },
  {
   "cell_type": "code",
   "execution_count": null,
   "id": "6e40ba27-68a5-4338-8156-9fc6cbbbb512",
   "metadata": {},
   "outputs": [],
   "source": [
    "with torch.cuda.device(device):\n",
    "    total = x.sum()"
   ]
  },
  {
   "cell_type": "code",
   "execution_count": null,
   "id": "e691bc0b-1c5a-4257-b032-a511be8e13b4",
   "metadata": {},
   "outputs": [],
   "source": [
    "step 1: "
   ]
  },
  {
   "cell_type": "code",
   "execution_count": null,
   "id": "f07dc3bf-d75e-4279-a1f3-99a4f24aa030",
   "metadata": {},
   "outputs": [],
   "source": [
    "n_features = 5"
   ]
  },
  {
   "cell_type": "code",
   "execution_count": null,
   "id": "600953f8-9032-47b9-93f3-2eaa3605d5c4",
   "metadata": {},
   "outputs": [],
   "source": [
    "interfence[torch.arange(n_features), torch.arange(n_features)] = 0."
   ]
  },
  {
   "cell_type": "code",
   "execution_count": null,
   "id": "3a50f367-90ae-49a1-a67a-6c41eeeff92b",
   "metadata": {},
   "outputs": [],
   "source": [
    "polysemanticity = interference.pow(2).sum().sqrt()"
   ]
  },
  {
   "cell_type": "code",
   "execution_count": null,
   "id": "40c5e087-c174-4297-bddd-16c58aaf476d",
   "metadata": {},
   "outputs": [],
   "source": [
    "from einops import einsum"
   ]
  },
  {
   "cell_type": "code",
   "execution_count": null,
   "id": "dc357f24-3bf5-4ba4-aaac-6fd195d6bb63",
   "metadata": {},
   "outputs": [],
   "source": [
    "interference = einsum(\n",
    "    W,\n",
    "    \"instances feature1 dim, instances feature2 dim -> instances feature1 feature2\"\n",
    ")"
   ]
  },
  {
   "cell_type": "code",
   "execution_count": null,
   "id": "f1a979a2-b5bb-47b7-84da-8c8b63510f59",
   "metadata": {},
   "outputs": [],
   "source": [
    "step 1: em"
   ]
  },
  {
   "cell_type": "code",
   "execution_count": null,
   "id": "cb919c95-0fbd-4556-8cca-d20beec37db2",
   "metadata": {},
   "outputs": [],
   "source": [
    "out of context length, eos"
   ]
  },
  {
   "cell_type": "code",
   "execution_count": null,
   "id": "5897ea07-ccf0-4e96-acef-e8ca4a2b07c1",
   "metadata": {},
   "outputs": [],
   "source": [
    "TENSOR.type(torch.float16)"
   ]
  },
  {
   "cell_type": "code",
   "execution_count": null,
   "id": "67c3c021-7db5-4196-a1e1-4c45b3170d4c",
   "metadata": {},
   "outputs": [],
   "source": [
    "MCST, represetation, predict, dynamics, "
   ]
  },
  {
   "cell_type": "code",
   "execution_count": null,
   "id": "fad09274-0cfa-43e6-b93a-499b700820a6",
   "metadata": {},
   "outputs": [],
   "source": [
    "class EncoderLayer(nn.Module):\n",
    "    def __init__(self, d_model, n_heads, d_ff, dropout):\n",
    "        super().__init__()\n",
    "        self.mha = MultiHeadAttention(d_model, n_heads)\n",
    "        self.norm_1 = ResidualLayerNorm(d_model, d_ff, dropout)\n",
    "        self.feed_forward = PositionWiseFeedForward(d_model, d_ff, dropout)\n",
    "        self.norm_2 = ResidualLayerNorm(d_model, d_ff, dropout)\n",
    "    \n",
    "    def forward(self, embeddings):\n",
    "        mha_output, mha_weights = self.mha(embeddings)\n",
    "        norm_1 = self.norm_1(mha_ouput, embeddings)\n",
    "        feedforward = self.feed_forward(norm_1)\n",
    "        norm_2 = self.norm_2(feed_forward, norm_1)"
   ]
  },
  {
   "cell_type": "code",
   "execution_count": null,
   "id": "1ba8142f-e63c-43a9-8b6d-287a91c8c98f",
   "metadata": {},
   "outputs": [],
   "source": [
    "def mae(x):\n",
    "    var = "
   ]
  },
  {
   "cell_type": "code",
   "execution_count": null,
   "id": "0a745313-79e7-46a0-b46f-986fef5b9488",
   "metadata": {},
   "outputs": [],
   "source": [
    "compute the dot product"
   ]
  },
  {
   "cell_type": "code",
   "execution_count": null,
   "id": "8cc2d8b4-f086-4fa9-8899-2ba8f060bc82",
   "metadata": {},
   "outputs": [],
   "source": [
    "step 1: target\n",
    "step 2: extract the weight\n",
    "step 3: extract row/cou"
   ]
  }
 ],
 "metadata": {
  "kernelspec": {
   "display_name": "Python 3 (ipykernel)",
   "language": "python",
   "name": "python3"
  }
 },
 "nbformat": 4,
 "nbformat_minor": 5
}
