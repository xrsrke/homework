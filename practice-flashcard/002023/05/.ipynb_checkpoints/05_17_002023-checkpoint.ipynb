{
 "cells": [
  {
   "cell_type": "markdown",
   "id": "30fb5d9d-c26f-405d-b091-378b9aa8dd22",
   "metadata": {},
   "source": [
    "### Engineering"
   ]
  },
  {
   "cell_type": "code",
   "execution_count": null,
   "id": "2dcc3283-ce98-472c-a0cf-11f7077d7637",
   "metadata": {},
   "outputs": [],
   "source": [
    "import torch\n",
    "from torch import nn\n",
    "import torch.nn.functional as F"
   ]
  },
  {
   "cell_type": "code",
   "execution_count": null,
   "id": "a35338b7-0c5e-489d-b8a4-b92472397b41",
   "metadata": {},
   "outputs": [],
   "source": [
    "s > compiler > os > hardware"
   ]
  },
  {
   "cell_type": "code",
   "execution_count": null,
   "id": "28590321-1007-449e-8980-7be1d5d87381",
   "metadata": {},
   "outputs": [],
   "source": [
    "- step 1: determine checkpoint location\n",
    "- step 2: calculate the activation, and only save the checkpoint\n",
    "- step 3: calculate the gradient\n",
    "step 4: recompute"
   ]
  },
  {
   "cell_type": "code",
   "execution_count": null,
   "id": "ed65a730-f6da-4c74-8808-fc92d122746a",
   "metadata": {},
   "outputs": [],
   "source": [
    "num_gpus = 4"
   ]
  },
  {
   "cell_type": "code",
   "execution_count": null,
   "id": "c1f7f978-47ba-4ce8-ae48-6ef4c7c2c8b2",
   "metadata": {},
   "outputs": [],
   "source": [
    "world_size = 16"
   ]
  },
  {
   "cell_type": "code",
   "execution_count": null,
   "id": "9056774b-39b6-4a12-9492-64f9cecc2eea",
   "metadata": {},
   "outputs": [],
   "source": [
    "process_to_gpu = []"
   ]
  },
  {
   "cell_type": "code",
   "execution_count": null,
   "id": "1338d3a9-a427-4eb4-90fa-fe04e945db6f",
   "metadata": {},
   "outputs": [],
   "source": [
    "for rank in range(world_size):\n",
    "    process_to_gpu.append(rank % num_gpus)"
   ]
  },
  {
   "cell_type": "code",
   "execution_count": null,
   "id": "1e29970f-7082-4db2-9786-c554af647b48",
   "metadata": {},
   "outputs": [
    {
     "data": {
      "text/plain": [
       "[0, 1, 2, 3, 0, 1, 2, 3, 0, 1, 2, 3, 0, 1, 2, 3]"
      ]
     },
     "execution_count": null,
     "metadata": {},
     "output_type": "execute_result"
    }
   ],
   "source": [
    "process_to_gpu"
   ]
  },
  {
   "cell_type": "code",
   "execution_count": null,
   "id": "1c9c69bc-d628-466f-8aff-05dd780b45e7",
   "metadata": {},
   "outputs": [],
   "source": [
    "column parallel linear, row parallel linear, gelu"
   ]
  },
  {
   "cell_type": "code",
   "execution_count": null,
   "id": "639a451c-7ed3-47b1-93fa-3a2c6b4c0380",
   "metadata": {},
   "outputs": [],
   "source": [
    "- partition j must be in the j device\n",
    "- F_{m, n} must completed before F_{m+1, n}\n",
    "- B_{m, n} must completed before B_{m-1, n}"
   ]
  },
  {
   "cell_type": "code",
   "execution_count": null,
   "id": "848cf3bd-0ac4-41ce-bc8a-8d4eb3ecd02d",
   "metadata": {},
   "outputs": [],
   "source": [
    "- tensor parallel group\n",
    "- pipeline data parallel group\n",
    "- data parallel group"
   ]
  },
  {
   "cell_type": "code",
   "execution_count": null,
   "id": "c31559ae-41cd-4e44-aa95-00b4dc6b1154",
   "metadata": {},
   "outputs": [
    {
     "data": {
      "text/plain": [
       "16"
      ]
     },
     "execution_count": null,
     "metadata": {},
     "output_type": "execute_result"
    }
   ],
   "source": [
    "world_size"
   ]
  },
  {
   "cell_type": "code",
   "execution_count": null,
   "id": "3e96937c-b6c1-4c01-83d9-2107c2a74d5b",
   "metadata": {},
   "outputs": [
    {
     "data": {
      "text/plain": [
       "4"
      ]
     },
     "execution_count": null,
     "metadata": {},
     "output_type": "execute_result"
    }
   ],
   "source": [
    "num_gpus"
   ]
  },
  {
   "cell_type": "code",
   "execution_count": null,
   "id": "4684b3f5-237c-4b46-85b0-cfe857361860",
   "metadata": {},
   "outputs": [],
   "source": [
    "process_to_gpu = []"
   ]
  },
  {
   "cell_type": "code",
   "execution_count": null,
   "id": "e286efc2-e2eb-4218-b71c-b904c15aa9ac",
   "metadata": {},
   "outputs": [],
   "source": [
    "for rank in range(world_size):\n",
    "    process_to_gpu.append(rank % world_size)"
   ]
  },
  {
   "cell_type": "code",
   "execution_count": null,
   "id": "f64be6b5-750d-4545-9e18-807a3190224e",
   "metadata": {},
   "outputs": [
    {
     "data": {
      "text/plain": [
       "[0, 1, 2, 3, 4, 5, 6, 7, 8, 9, 10, 11, 12, 13, 14, 15]"
      ]
     },
     "execution_count": null,
     "metadata": {},
     "output_type": "execute_result"
    }
   ],
   "source": [
    "process_to_gpu"
   ]
  },
  {
   "cell_type": "code",
   "execution_count": null,
   "id": "34e24eb9-1de1-48fb-bf30-f6c2cc524150",
   "metadata": {},
   "outputs": [],
   "source": [
    "step 1: record time\n",
    "step 2: determine number of layers per partition\n",
    "step 3: split\n",
    "step 4: move to target device"
   ]
  },
  {
   "cell_type": "code",
   "execution_count": null,
   "id": "65023336-daa9-4230-a8c2-7e88e85530d6",
   "metadata": {},
   "outputs": [],
   "source": []
  },
  {
   "cell_type": "code",
   "execution_count": null,
   "id": "415370b1-1fe8-46f9-90c9-cad73e3bf0a4",
   "metadata": {},
   "outputs": [],
   "source": []
  },
  {
   "cell_type": "code",
   "execution_count": null,
   "id": "4a785133-4f02-4a44-9f0e-23e0235c08a0",
   "metadata": {},
   "outputs": [],
   "source": [
    "- clock cycle 1: F_{1, 1}\n",
    "- clock cycle 2: F_{1, 2}, F_{2, 1}\n",
    "- clock cycle 3: F_{1, 3}, F_{2, 2}, F_{3, 1}"
   ]
  },
  {
   "cell_type": "code",
   "execution_count": null,
   "id": "de3082e2-4cf9-4f9a-b07e-1463a3ded478",
   "metadata": {},
   "outputs": [],
   "source": [
    "new > ready > running > blocked > terminated"
   ]
  },
  {
   "cell_type": "markdown",
   "id": "927f991b-8c6d-40ca-bff6-f5674560f1ff",
   "metadata": {},
   "source": [
    "### ML Engineering"
   ]
  },
  {
   "cell_type": "code",
   "execution_count": null,
   "id": "cc1d7f30-a9b7-4e53-a122-4ae8129f7312",
   "metadata": {},
   "outputs": [],
   "source": [
    "from metaflow import FlowSpec, step, project"
   ]
  },
  {
   "cell_type": "code",
   "execution_count": null,
   "id": "c5e241e7-c47b-490c-b876-cbe2a760a6f3",
   "metadata": {},
   "outputs": [],
   "source": [
    "@project(name=\"project_69\")\n",
    "class TrainFlow(FlowSpec):\n",
    "    @step\n",
    "    def start(self):\n",
    "        self.next(self.train)\n",
    "    \n",
    "    @step\n",
    "    def train(self):\n",
    "        train()\n",
    "        self.next(self.end)\n",
    "    \n",
    "    @step\n",
    "    def end(self): pass"
   ]
  },
  {
   "cell_type": "code",
   "execution_count": null,
   "id": "6715cbb1-310e-43ca-a16e-13144d8d14fa",
   "metadata": {},
   "outputs": [],
   "source": [
    "@project(name=\"project_69\")\n",
    "class EvaluateFlow(FlowSpec):\n",
    "    @step\n",
    "    def start(self):\n",
    "        self.next(self.train)\n",
    "    \n",
    "    @step\n",
    "    def train(self):\n",
    "        eval()\n",
    "        self.next(self.end)\n",
    "    \n",
    "    @step\n",
    "    def end(self): pass"
   ]
  },
  {
   "cell_type": "code",
   "execution_count": null,
   "id": "450eb390-795d-4502-bbdc-962b18f8b5c8",
   "metadata": {},
   "outputs": [],
   "source": [
    "from prefect import flow"
   ]
  },
  {
   "cell_type": "code",
   "execution_count": null,
   "id": "017fcea1-bb47-4353-a0c5-7469fe016243",
   "metadata": {},
   "outputs": [],
   "source": [
    "@flow\n",
    "def run_workflow():\n",
    "    start_x()\n",
    "    \n",
    "    stop_x()"
   ]
  },
  {
   "cell_type": "code",
   "execution_count": null,
   "id": "17ea94d4-df6f-4e7c-9366-c73a36e09757",
   "metadata": {},
   "outputs": [],
   "source": [
    "from sqlalchemy import Table, Column, String, Integer"
   ]
  },
  {
   "cell_type": "code",
   "execution_count": null,
   "id": "a444781e-011e-49a4-b71a-999374ce8cf4",
   "metadata": {},
   "outputs": [],
   "source": [
    "class User(Table):\n",
    "    __tablename__ = \"users\"\n",
    "    \n",
    "    id = Column(\"id\", Integer, primary_key=True)\n",
    "    username = Column(\"username\", String)"
   ]
  },
  {
   "cell_type": "code",
   "execution_count": null,
   "id": "0c8716a5-daa3-4be6-ae13-6541803aead1",
   "metadata": {},
   "outputs": [],
   "source": []
  },
  {
   "cell_type": "code",
   "execution_count": null,
   "id": "38c6d365-fa9b-41b8-9a6b-579337baa2f8",
   "metadata": {},
   "outputs": [],
   "source": [
    "from metaflow import FlowSpec, step, project"
   ]
  },
  {
   "cell_type": "code",
   "execution_count": null,
   "id": "fba68e24-5d61-4ec9-8f40-c9bd23ac2a8b",
   "metadata": {},
   "outputs": [],
   "source": [
    "@project(name=\"project_69\")\n",
    "class TrainFlow(FlowSpec):\n",
    "    @step\n",
    "    def start(self):\n",
    "        self.next(self.train)\n",
    "        \n",
    "    @step\n",
    "    def train(self):\n",
    "        train()\n",
    "        self.next(self.end)\n",
    "    \n",
    "    @step\n",
    "    def end(self): pass"
   ]
  },
  {
   "cell_type": "code",
   "execution_count": null,
   "id": "800e6e3c-3128-4dcb-b078-2dac9baf6fec",
   "metadata": {},
   "outputs": [],
   "source": [
    "from functools import reduce"
   ]
  },
  {
   "cell_type": "code",
   "execution_count": null,
   "id": "d654ef85-bd98-418c-8c16-aeeec74f6fa4",
   "metadata": {},
   "outputs": [],
   "source": [
    "result = reduce(lambda x, y: x + y, numbers)"
   ]
  },
  {
   "cell_type": "code",
   "execution_count": null,
   "id": "6e2af8d9-4996-4ccf-b705-7f6192c07ea0",
   "metadata": {},
   "outputs": [],
   "source": [
    "conditioned, motor imagery, stimulus, population"
   ]
  },
  {
   "cell_type": "markdown",
   "id": "8b2ceaaf-b662-4b97-bddc-1e9f2bb8e96d",
   "metadata": {},
   "source": [
    "### AI"
   ]
  },
  {
   "cell_type": "code",
   "execution_count": null,
   "id": "8a592916-03c2-4bca-b3f5-aaeeb4f8d421",
   "metadata": {},
   "outputs": [],
   "source": [
    "import torch\n",
    "from torch import nn\n",
    "import torch.nn.functional as F"
   ]
  },
  {
   "cell_type": "code",
   "execution_count": null,
   "id": "dca91afd-0523-447e-8b8d-ed0a43147b24",
   "metadata": {},
   "outputs": [],
   "source": [
    "stream = torch.cuda.Stream(device=device)"
   ]
  },
  {
   "cell_type": "code",
   "execution_count": null,
   "id": "06cbbeef-b4e2-4224-998d-1e3709cf09f7",
   "metadata": {},
   "outputs": [],
   "source": [
    "from torch.optim import Optimizer"
   ]
  },
  {
   "cell_type": "code",
   "execution_count": null,
   "id": "91964d83-9b07-4da6-a4da-b24b9e992430",
   "metadata": {},
   "outputs": [],
   "source": [
    "class CustomOptimizer(Optimizer):\n",
    "    def __init__(self, params):\n",
    "        defaults = dict()\n",
    "        super().__init__(self, params, defaults)\n",
    "    \n",
    "    def step(self):\n",
    "        for param_group in self.param_groups:\n",
    "            for param in param_groups.parameters():\n",
    "                if param.requires_grad is not True:\n",
    "                    continue\n",
    "                \n",
    "                param.data = param.data * 6.9"
   ]
  },
  {
   "cell_type": "code",
   "execution_count": null,
   "id": "7671441f-31b9-4dfe-9e1b-a58cf6b3a1ca",
   "metadata": {},
   "outputs": [],
   "source": [
    "polysemanticity = inference.pow(2).sum(dim=-1).sqrt()"
   ]
  },
  {
   "cell_type": "code",
   "execution_count": null,
   "id": "1243abb3-df61-4292-877a-b5b387010f79",
   "metadata": {},
   "outputs": [],
   "source": [
    "for param in model.parameters():\n",
    "    param.requires_grad = False"
   ]
  },
  {
   "cell_type": "code",
   "execution_count": null,
   "id": "3f2bc0c1-b491-4fed-b319-df2a2ccf716b",
   "metadata": {},
   "outputs": [],
   "source": [
    "for i, block in enumerate(model.blocks):\n",
    "    if i >= 6:\n",
    "        for param in block.parameters():\n",
    "            param.requires_grad = True"
   ]
  },
  {
   "cell_type": "code",
   "execution_count": null,
   "id": "552929e9-e347-451c-8ef2-75a9487f7d73",
   "metadata": {},
   "outputs": [],
   "source": [
    "for param in model.ln_final.parameters():\n",
    "    param.requires_grad = True"
   ]
  },
  {
   "cell_type": "code",
   "execution_count": null,
   "id": "a6e1ded3-b535-4013-a864-44b0973c727e",
   "metadata": {},
   "outputs": [],
   "source": [
    "for param in model.lm_head.parameters():\n",
    "    param.requires_grad = True"
   ]
  },
  {
   "cell_type": "code",
   "execution_count": null,
   "id": "11a4c2e7-f2c9-46fb-8943-f1e413b96860",
   "metadata": {},
   "outputs": [],
   "source": [
    "1, 2, 3, 3"
   ]
  },
  {
   "cell_type": "code",
   "execution_count": null,
   "id": "17f6dd14-2f41-4baa-b317-785cf0090167",
   "metadata": {},
   "outputs": [],
   "source": [
    "clean_tokens = model.to_tokens(clean_prompt)\n",
    "corrupted_tokens = model.to_tokens(corrupted_prompt)"
   ]
  },
  {
   "cell_type": "code",
   "execution_count": null,
   "id": "0f68c0e3-418a-4866-a9bc-bc21002f799c",
   "metadata": {},
   "outputs": [],
   "source": [
    "correct_token = model.to_single_token(\" John\")\n",
    "incorrect_token = model.to_single_token(\" Mary\")"
   ]
  },
  {
   "cell_type": "code",
   "execution_count": null,
   "id": "cac526ac-e319-4237-a7ce-e6a9b5eeb819",
   "metadata": {},
   "outputs": [],
   "source": [
    "clean_logits, clean_activations = model(clean_tokens)"
   ]
  },
  {
   "cell_type": "code",
   "execution_count": null,
   "id": "addc181e-96d4-4610-8f4c-7d18ff94e73b",
   "metadata": {},
   "outputs": [],
   "source": [
    "def patch_activations(\n",
    "    corrupted_activations,\n",
    "    hook,\n",
    "    position,\n",
    "    clean_activations\n",
    "):\n",
    "    corrupted_activations[:, position, :] = clean_activations[hook.name][:, position, :]"
   ]
  },
  {
   "cell_type": "code",
   "execution_count": null,
   "id": "67f0bafa-9d24-4dff-a5ef-c246acd83948",
   "metadata": {},
   "outputs": [],
   "source": [
    "n_tokens = len(clean_tokens.shape[-1])"
   ]
  },
  {
   "cell_type": "code",
   "execution_count": null,
   "id": "3dfd3386-164d-40de-ac0f-c78bc75d6867",
   "metadata": {},
   "outputs": [],
   "source": [
    "from functools import partial"
   ]
  },
  {
   "cell_type": "code",
   "execution_count": null,
   "id": "376b8e96-c899-4c0c-a8b0-1ee883a05886",
   "metadata": {},
   "outputs": [],
   "source": [
    "from transformer_lens import utils"
   ]
  },
  {
   "cell_type": "code",
   "execution_count": null,
   "id": "573376aa-8afc-4488-809f-24fb852e4be7",
   "metadata": {},
   "outputs": [],
   "source": [
    "def calculate_logit_diff(logits, correct_token, incorrect_token):\n",
    "    last_token_logit = logits[:, -1, :]\n",
    "    logit_of_correct_token = last_token_logit[:, correct_token]\n",
    "    logit_of_incorrect_token = last_token_logit[:, incorrect_token]\n",
    "    \n",
    "    return logit_of_correct_token - logit_of_incorrect_token"
   ]
  },
  {
   "cell_type": "code",
   "execution_count": null,
   "id": "3d6eca4b-40fa-45a9-8a0f-b20cc476041b",
   "metadata": {},
   "outputs": [],
   "source": [
    "for layer_idx in range(n_layeutils:\n",
    "    for position_idx in range(n_tokens):\n",
    "        hook_func = partial(\n",
    "            patch_activations,\n",
    "            position=position_idx,\n",
    "            clean_activations=clean_activations\n",
    "        )\n",
    "        hook_name = utils.get_act_name(\"resid_pre\", layer_idx)\n",
    "        corrupted_logits = model.run_with_hooks(\n",
    "            corrupted_tokens,\n",
    "            fwd_hooks=[(\n",
    "                hook_name,\n",
    "                hook_func\n",
    "            )]\n",
    "        )\n",
    "                       \n",
    "        logit_diff = calculate_logit_diff(corrupted_logits, correct_token, incorrect_token)"
   ]
  },
  {
   "cell_type": "code",
   "execution_count": null,
   "id": "a19b34e3-a302-40e4-ad03-59004b71d04e",
   "metadata": {},
   "outputs": [],
   "source": [
    "import pysvelte"
   ]
  },
  {
   "cell_type": "code",
   "execution_count": null,
   "id": "9a734bf3-1331-4959-8a1a-cfb8cb2204e0",
   "metadata": {},
   "outputs": [],
   "source": [
    "repeated_tokens = model.to_tokens()"
   ]
  },
  {
   "cell_type": "code",
   "execution_count": null,
   "id": "bc563094-3289-4b0a-9872-9ed27910cacd",
   "metadata": {},
   "outputs": [],
   "source": [
    "repeated_logits, repeated_activations = model.run_with_cache(repeated_tokens)"
   ]
  },
  {
   "cell_type": "code",
   "execution_count": null,
   "id": "9b9c4122-fe50-44c3-b21c-5009e6578539",
   "metadata": {},
   "outputs": [],
   "source": [
    "induction_heads = [(6, 9), (4, 2)]"
   ]
  },
  {
   "cell_type": "code",
   "execution_count": null,
   "id": "d337181f-a0ae-4344-9a5a-6dc1409b0576",
   "metadata": {},
   "outputs": [],
   "source": [
    "attn_patterns = []"
   ]
  },
  {
   "cell_type": "code",
   "execution_count": null,
   "id": "4ca08ead-3e13-42e7-bb97-071377c970ef",
   "metadata": {},
   "outputs": [],
   "source": [
    "for head_idx, layer_idx in induction_heads:\n",
    "    hook_name = utils.get_act_name(\"attn\", layer_idx)\n",
    "    attn_patterns.append(repeated_activations[hook_name])"
   ]
  },
  {
   "cell_type": "code",
   "execution_count": null,
   "id": "8f1269e0-43ba-4a6c-af48-4341f7f0279b",
   "metadata": {},
   "outputs": [],
   "source": []
  }
 ],
 "metadata": {
  "kernelspec": {
   "display_name": "Python 3 (ipykernel)",
   "language": "python",
   "name": "python3"
  }
 },
 "nbformat": 4,
 "nbformat_minor": 5
}
