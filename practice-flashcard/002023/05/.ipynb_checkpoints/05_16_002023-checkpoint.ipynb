{
 "cells": [
  {
   "cell_type": "markdown",
   "id": "6c6cfa63-2251-42bd-934a-44627220c0ea",
   "metadata": {},
   "source": [
    "### Engineering"
   ]
  },
  {
   "cell_type": "markdown",
   "id": "74a22ccc-9c87-4c18-94b5-50934a9eaed5",
   "metadata": {},
   "source": [
    "- step 1: determine checkpoint location\n",
    "- step 2: calculate the activation, only save the activation checkpoint\n",
    "- step 3: delete activation\n",
    "- step 4: calcualte the grad\n",
    "- ste"
   ]
  },
  {
   "cell_type": "code",
   "execution_count": null,
   "id": "76c2aef2-a512-4650-bda8-b58d5ba1dc0e",
   "metadata": {},
   "outputs": [],
   "source": [
    "micro-batch and partition"
   ]
  },
  {
   "cell_type": "code",
   "execution_count": null,
   "id": "0b323587-42f4-4c9c-8ef9-6d6c02b27bb0",
   "metadata": {},
   "outputs": [],
   "source": [
    "step 1: replicate the model\n",
    "step 2: divide mini-batch into microbatch\n",
    "step 3: calculate the gradient with respect to each micro batch\n",
    "step 4: average the gradient\n",
    "step 5: update all the model parameters using the averaged gradient"
   ]
  },
  {
   "cell_type": "code",
   "execution_count": null,
   "id": "d8a418f1-9c7b-4d88-94c2-81d09fd953f0",
   "metadata": {},
   "outputs": [],
   "source": [
    "micro batch n > micro batch n-1 ... micro-batch 1"
   ]
  },
  {
   "cell_type": "code",
   "execution_count": null,
   "id": "70d42512-70d9-4825-92ca-1c3097d2070e",
   "metadata": {},
   "outputs": [],
   "source": [
    "process_to_gpu = []"
   ]
  },
  {
   "cell_type": "code",
   "execution_count": null,
   "id": "4ef7ff95-07e9-4d76-82b1-fb143dba5f8e",
   "metadata": {},
   "outputs": [],
   "source": [
    "world_size = 16\n",
    "num_gpus = 4"
   ]
  },
  {
   "cell_type": "code",
   "execution_count": null,
   "id": "a2ad3611-10ce-47d7-97ff-1310c972e77e",
   "metadata": {},
   "outputs": [],
   "source": [
    "for rank in range(world_size):\n",
    "    process_to_gpu.append(rank % num_gpus)"
   ]
  },
  {
   "cell_type": "code",
   "execution_count": null,
   "id": "626abc04-4bf9-4d9e-9b57-3a3611fef883",
   "metadata": {},
   "outputs": [
    {
     "data": {
      "text/plain": [
       "[0, 1, 2, 3, 0, 1, 2, 3, 0, 1, 2, 3, 0, 1, 2, 3]"
      ]
     },
     "execution_count": null,
     "metadata": {},
     "output_type": "execute_result"
    }
   ],
   "source": [
    "process_to_gpu"
   ]
  },
  {
   "cell_type": "code",
   "execution_count": null,
   "id": "4f062548-7435-4fee-a7b6-1f78fddf8975",
   "metadata": {},
   "outputs": [],
   "source": [
    "new > ready > running > blocked > terminated"
   ]
  },
  {
   "cell_type": "code",
   "execution_count": null,
   "id": "50b5d59c-0bb7-4f35-8a5b-3d9076252be1",
   "metadata": {},
   "outputs": [],
   "source": [
    "tensor parallel group, pipeline parallel group, data parallel group"
   ]
  },
  {
   "cell_type": "code",
   "execution_count": null,
   "id": "91dc9d25-c9c2-48b5-b678-7cee75569d01",
   "metadata": {},
   "outputs": [],
   "source": [
    "list_ranks = []"
   ]
  },
  {
   "cell_type": "code",
   "execution_count": null,
   "id": "a60820a0-d62f-463b-a514-bcc2b7094ab2",
   "metadata": {},
   "outputs": [],
   "source": [
    "tensor_model_parallel_size, num_tensor_model_parallel_groups = 2, 8"
   ]
  },
  {
   "cell_type": "code",
   "execution_count": null,
   "id": "15bfc00f-6c29-47f3-a9d5-fd19e9a3f287",
   "metadata": {},
   "outputs": [
    {
     "name": "stdout",
     "output_type": "stream",
     "text": [
      "[0, 1]\n",
      "[2, 3]\n",
      "[4, 5]\n",
      "[6, 7]\n",
      "[8, 9]\n",
      "[10, 11]\n",
      "[12, 13]\n",
      "[14, 15]\n"
     ]
    }
   ],
   "source": [
    "for i in range(num_tensor_model_parallel_groups):\n",
    "    ranks = range(\n",
    "        i*tensor_model_parallel_size,\n",
    "        (i+1)*tensor_model_parallel_size\n",
    "    )\n",
    "    \n",
    "    print(list(ranks))"
   ]
  },
  {
   "cell_type": "code",
   "execution_count": null,
   "id": "342bd299-fd46-429e-a42a-d564056bf09d",
   "metadata": {},
   "outputs": [],
   "source": [
    "step 1: init the weight patrition\n",
    "step 2: calculate the activation with respect to each patrition\n",
    "stpe 3: com"
   ]
  },
  {
   "cell_type": "code",
   "execution_count": null,
   "id": "661e20ad-a495-4232-b98b-1534a7b8116a",
   "metadata": {},
   "outputs": [],
   "source": [
    "import torch\n",
    "from torch import nn\n",
    "import torch.nn.functional as F"
   ]
  },
  {
   "cell_type": "code",
   "execution_count": null,
   "id": "5330e395-bcfb-42df-952b-4c6cdc800c50",
   "metadata": {},
   "outputs": [],
   "source": [
    "rank = torch.distributed.get_rank()"
   ]
  },
  {
   "cell_type": "code",
   "execution_count": null,
   "id": "ba453f82-995c-446d-b5ff-19c9ed319966",
   "metadata": {},
   "outputs": [],
   "source": [
    "if rank == 0:\n",
    "    torch.distributed.broadcast(x, src=0)"
   ]
  },
  {
   "cell_type": "code",
   "execution_count": null,
   "id": "e671518c-8f71-430e-943d-f740fb4083f7",
   "metadata": {},
   "outputs": [],
   "source": [
    "p2p communication, message passing, collective communication"
   ]
  },
  {
   "cell_type": "code",
   "execution_count": null,
   "id": "c4595d05-b33a-4889-8e46-f7c84eed2c8d",
   "metadata": {},
   "outputs": [],
   "source": [
    "task of patrition j must be entirely on j device\n",
    "F_{m, n} must be completed before F_{m-1, n}\n",
    "\n",
    "B_{m, n} must be completed before B_{m, n-1}"
   ]
  },
  {
   "cell_type": "code",
   "execution_count": null,
   "id": "df025296-8bdc-49d5-85f7-435853a27a49",
   "metadata": {},
   "outputs": [],
   "source": [
    "- Clock cycle 1: B_{m, n}\n",
    "- Clock cycle 2: B_{m, n-1}, B_{m-1, n}\n",
    "- Clock cycle 3: B_{m, n-2}, B_{m-1, n-1}, B_{m-2, n}"
   ]
  },
  {
   "cell_type": "code",
   "execution_count": null,
   "id": "c10b9efe-8e72-444d-9572-7aeafbf8ba48",
   "metadata": {},
   "outputs": [],
   "source": [
    "step 1: save the state to process control block\n",
    "step 2: choose\n",
    "step 3: load\n",
    "step 4: execute"
   ]
  },
  {
   "cell_type": "code",
   "execution_count": null,
   "id": "984426ca-f653-446d-a4b5-ec4ee6a1eaf8",
   "metadata": {},
   "outputs": [],
   "source": [
    "- Clock cycle 1: F_{1, 1}\n",
    "- Clock cycle 2: F_{1, 2}, F_{2, 1}\n",
    "- Clock cycle 3: F_{1, 3}, F_{2, 2}, F_{3, 1}"
   ]
  },
  {
   "cell_type": "code",
   "execution_count": null,
   "id": "f5c9622e-2cea-45ac-b8bb-a5ed60c41da9",
   "metadata": {},
   "outputs": [],
   "source": [
    "init variable\n",
    "launch distributed communication\n",
    "assign gpu\n",
    "assign to parallelism groups"
   ]
  },
  {
   "cell_type": "markdown",
   "id": "9b409e29-62e3-441a-b260-167eb12917b4",
   "metadata": {},
   "source": [
    "### ML Engineering"
   ]
  },
  {
   "cell_type": "code",
   "execution_count": null,
   "id": "a933f572-504d-43f6-bea6-b9f0cf9a0a38",
   "metadata": {},
   "outputs": [],
   "source": [
    "from fastapi import FastAPI"
   ]
  },
  {
   "cell_type": "code",
   "execution_count": null,
   "id": "798fa1dd-9d9d-4507-8104-1f02f07d3adb",
   "metadata": {},
   "outputs": [],
   "source": [
    "app = FastAPI()"
   ]
  },
  {
   "cell_type": "code",
   "execution_count": null,
   "id": "8aae21b0-cdce-4b5c-956a-72777fdbb150",
   "metadata": {},
   "outputs": [],
   "source": [
    "@app.get(\"/secret\")\n",
    "def index():\n",
    "    return 69"
   ]
  },
  {
   "cell_type": "code",
   "execution_count": null,
   "id": "2a8126cf-edac-40ed-90c4-b5ac34b72c6e",
   "metadata": {},
   "outputs": [],
   "source": [
    "from sqlalchemy.orm import sessionmaker"
   ]
  },
  {
   "cell_type": "code",
   "execution_count": null,
   "id": "aeb767ce-8498-4c66-8937-885f6b9e9d5c",
   "metadata": {},
   "outputs": [],
   "source": [
    "Session = sessionmaker(bind=engine)"
   ]
  },
  {
   "cell_type": "code",
   "execution_count": null,
   "id": "4b6e1645-fc95-4289-871e-6d575f7f9caf",
   "metadata": {},
   "outputs": [],
   "source": [
    "session = Session()"
   ]
  },
  {
   "cell_type": "code",
   "execution_count": null,
   "id": "c65f863f-8c35-4743-a9c3-3ad522403a4a",
   "metadata": {},
   "outputs": [],
   "source": [
    "step 1: attach internet gateway to the vpc\n",
    "step 2: route table\n",
    "step 3: "
   ]
  },
  {
   "cell_type": "code",
   "execution_count": null,
   "id": "9fe6e790-f4cd-4432-a391-d869a32c0e69",
   "metadata": {},
   "outputs": [],
   "source": [
    "region > vpc > availability zone > subnet > aws resource"
   ]
  },
  {
   "cell_type": "code",
   "execution_count": null,
   "id": "96837498-6410-4166-a23f-ad9fb6bc52d6",
   "metadata": {},
   "outputs": [],
   "source": [
    "group, iam role, iam user, aws resource "
   ]
  },
  {
   "cell_type": "code",
   "execution_count": null,
   "id": "0562a80d-6328-4a1a-b3eb-64c1f6ada540",
   "metadata": {},
   "outputs": [],
   "source": [
    "vpc subnet gate wa"
   ]
  },
  {
   "cell_type": "code",
   "execution_count": null,
   "id": "ac123388-d2b7-4f27-8fff-a54819d02101",
   "metadata": {},
   "outputs": [],
   "source": [
    "micro-batch 1 > micro-batch 2  > ... > n"
   ]
  },
  {
   "cell_type": "markdown",
   "id": "65abb7f8-30fa-4ebe-8a4c-32652c82ce96",
   "metadata": {},
   "source": [
    "### AI"
   ]
  },
  {
   "cell_type": "code",
   "execution_count": null,
   "id": "524b7908-e352-46e2-8f23-dbef196e82ee",
   "metadata": {},
   "outputs": [],
   "source": [
    "condition, imagery, popu"
   ]
  },
  {
   "cell_type": "code",
   "execution_count": null,
   "id": "6af96ca7-9bd7-4b8a-828c-17e87c847479",
   "metadata": {},
   "outputs": [],
   "source": [
    "import torch\n",
    "from torch import nn\n",
    "import torch.nn.functional as F"
   ]
  },
  {
   "cell_type": "code",
   "execution_count": null,
   "id": "7430ae1c-a95b-46db-9ffd-b142cf2755d2",
   "metadata": {},
   "outputs": [],
   "source": [
    "import plotly.express as px"
   ]
  },
  {
   "cell_type": "code",
   "execution_count": null,
   "id": "50e6aeda-582f-432e-ba13-8ff56fab23df",
   "metadata": {},
   "outputs": [],
   "source": [
    "px.imshow()"
   ]
  },
  {
   "cell_type": "code",
   "execution_count": null,
   "id": "991f1d51-df4d-4e78-a21a-48ed3e175e46",
   "metadata": {},
   "outputs": [],
   "source": [
    "from torch.profiler import profile, ProfilerActivity"
   ]
  },
  {
   "cell_type": "code",
   "execution_count": null,
   "id": "c7f75899-0523-48c2-909b-213d4aac058e",
   "metadata": {},
   "outputs": [],
   "source": [
    "with profile(activities=[ProfilerActivity.CPU]) as prof:\n",
    "    hardcore()"
   ]
  },
  {
   "cell_type": "code",
   "execution_count": null,
   "id": "051523fb-c8f8-4b41-b66a-83d6f798c5e4",
   "metadata": {},
   "outputs": [],
   "source": [
    "ctx.save_for_backward()"
   ]
  },
  {
   "cell_type": "code",
   "execution_count": null,
   "id": "b2c5eeb2-c00e-41e9-8714-e769a04bc87f",
   "metadata": {},
   "outputs": [],
   "source": [
    "- clock cycle 1: F_{1, 1}\n",
    "- clock cycle 2: F_{1, 2}, F_{2, 1}\n",
    "- clock cycle 3: F_{1, 3}, F_{2, 2}, F_{3, 1}"
   ]
  },
  {
   "cell_type": "code",
   "execution_count": null,
   "id": "7ea9c2c7-06df-48a7-b866-b1d03b0ba338",
   "metadata": {},
   "outputs": [],
   "source": [
    "from torch import einsum"
   ]
  },
  {
   "cell_type": "code",
   "execution_count": null,
   "id": "6639dca2-db79-474e-9a5d-5899c8e97bbc",
   "metadata": {},
   "outputs": [],
   "source": [
    "einsum(output, \"ij->ji\")"
   ]
  },
  {
   "cell_type": "code",
   "execution_count": null,
   "id": "f16998af-d4d5-4a4e-b695-e0b240ae3f1f",
   "metadata": {},
   "outputs": [],
   "source": [
    "repeated_tokens = model.to_tokens(repeated_text, prebos=True)"
   ]
  },
  {
   "cell_type": "code",
   "execution_count": null,
   "id": "4ea6abc8-afbe-4c16-9e83-8e719b1fc0b5",
   "metadata": {},
   "outputs": [],
   "source": [
    "repeated_logits, repeated_cache = model.run_with_cache(repeated_tokens)"
   ]
  },
  {
   "cell_type": "code",
   "execution_count": null,
   "id": "599d9b72-427e-4750-9c82-d29bb7dfd056",
   "metadata": {},
   "outputs": [],
   "source": [
    "induction_heads = [(6, 9), (4, 2)]"
   ]
  },
  {
   "cell_type": "code",
   "execution_count": null,
   "id": "f239c82f-1065-4def-bec0-ebbdd23794b8",
   "metadata": {},
   "outputs": [],
   "source": [
    "from transformer_lens.utils import get_act_name"
   ]
  },
  {
   "cell_type": "code",
   "execution_count": null,
   "id": "b25de5a5-20f9-4790-b253-bf9542d78d86",
   "metadata": {},
   "outputs": [],
   "source": [
    "attn_patterns = []"
   ]
  },
  {
   "cell_type": "code",
   "execution_count": null,
   "id": "36ffc161-0664-4a83-a250-d29f3a53e267",
   "metadata": {},
   "outputs": [],
   "source": [
    "for head_idx, layer_idx in induction_heads:\n",
    "    hook_name = get_act_name(\"attn_pattern\", layer_idx)\n",
    "    \n",
    "    attn_patterns.append(repeated_cache[hook_name][:, ])"
   ]
  },
  {
   "cell_type": "code",
   "execution_count": null,
   "id": "119fbb03-32e7-4b54-827a-d7bb819a3a91",
   "metadata": {},
   "outputs": [],
   "source": [
    "import pysvelte"
   ]
  },
  {
   "cell_type": "code",
   "execution_count": null,
   "id": "200d017e-93c1-43d3-86ce-2113f5bdf3d4",
   "metadata": {},
   "outputs": [],
   "source": [
    "repeated_tokens = model.to_tokens(repeated_text)"
   ]
  },
  {
   "cell_type": "code",
   "execution_count": null,
   "id": "4f8bceec-a21a-4785-9abb-99b076d7d8c8",
   "metadata": {},
   "outputs": [],
   "source": [
    "repeated_logits, repeated_cache = model.run_with_cache(repeated_tokens)"
   ]
  },
  {
   "cell_type": "code",
   "execution_count": null,
   "id": "c9a2d5ff-d734-452f-b7f1-423fa5d96df2",
   "metadata": {},
   "outputs": [],
   "source": [
    "induction_heads = [(6, 9), (4, 2)]"
   ]
  },
  {
   "cell_type": "code",
   "execution_count": null,
   "id": "cf15d99e-5c9c-4aba-943b-ad21ced03c3f",
   "metadata": {},
   "outputs": [],
   "source": [
    "attn_patterns = []"
   ]
  },
  {
   "cell_type": "code",
   "execution_count": null,
   "id": "ab92fecb-51b5-46cc-a5df-4b96ed37abb2",
   "metadata": {},
   "outputs": [],
   "source": [
    "for head_idx, layer_idx in induction_heads:\n",
    "    hook_name = get_act_name(\"attn\", layer_idx)\n",
    "    attn_patterns.append(repeated_cache[hook_name][0, head_idx])"
   ]
  },
  {
   "cell_type": "code",
   "execution_count": null,
   "id": "853bcf32-c454-469f-8389-686a46d7bf55",
   "metadata": {},
   "outputs": [],
   "source": [
    "pysvelte.MultiHead"
   ]
  },
  {
   "cell_type": "code",
   "execution_count": null,
   "id": "e765a2cf-7157-4074-a1bb-4abc7f7d8aba",
   "metadata": {},
   "outputs": [],
   "source": [
    "correct_token = model.to_single_token(\" John\")\n",
    "incorrect_token = model.to_single_token(\" Mary\")"
   ]
  },
  {
   "cell_type": "code",
   "execution_count": null,
   "id": "750b8e28-c8e2-4234-a6a4-c589e019ebc5",
   "metadata": {},
   "outputs": [],
   "source": [
    "clean_tokens = model.to_tokens(clean_prompt)\n",
    "corrupted_tokens = model.to_tokens(corrupted_prompt)"
   ]
  },
  {
   "cell_type": "code",
   "execution_count": null,
   "id": "165fa1e4-2507-4b08-9a6a-dca5802d0ae2",
   "metadata": {},
   "outputs": [],
   "source": [
    "clean_logits, clean_activations = model.run_with_cache(clean_tokens)"
   ]
  },
  {
   "cell_type": "code",
   "execution_count": null,
   "id": "4756e76f-a1d7-4a7c-84e8-6f0f097fd8aa",
   "metadata": {},
   "outputs": [],
   "source": [
    "def patch_component(\n",
    "    corrupted_activations,\n",
    "    hook,\n",
    "    position,\n",
    "    clean_activations\n",
    "):\n",
    "    corrupted_activations[:, position, :] = clean_activations[hook.name][:, position, :]"
   ]
  },
  {
   "cell_type": "code",
   "execution_count": null,
   "id": "6b72326e-35f2-45a3-9892-a8c05f1ae871",
   "metadata": {},
   "outputs": [],
   "source": [
    "n_tokens = clean_tokens.shape[-1]"
   ]
  },
  {
   "cell_type": "code",
   "execution_count": null,
   "id": "5385a65f-589d-4136-ba6e-4f5dbae578e2",
   "metadata": {},
   "outputs": [],
   "source": [
    "from functools import partial"
   ]
  },
  {
   "cell_type": "code",
   "execution_count": null,
   "id": "4503cb17-8c29-451d-971f-220db3359158",
   "metadata": {},
   "outputs": [],
   "source": [
    "def compute_logit_diff(logits, correct_token, incorrect_token):\n",
    "    last_token_logits = logits[:, -1, :]\n",
    "    logit_of_correct_token = last_token_logits[:, correct_token]\n",
    "    logit_of_incorrect_token = last_token_logits[:, incorrect_token]\n",
    "    \n",
    "    return logit_of_correct_token - logit_of_incorrect_token"
   ]
  },
  {
   "cell_type": "code",
   "execution_count": null,
   "id": "f9f011d0-9b16-44e1-a916-c08303e433cc",
   "metadata": {},
   "outputs": [],
   "source": [
    "for layer_idx in range(n_layers):\n",
    "    for position_idx in range(n_tokens):\n",
    "        hook_func = partial(\n",
    "            patch_component,\n",
    "            position=position_idx,\n",
    "            clean_activations=clean_activations\n",
    "        )\n",
    "        hook_name = get_act_name(\"resid_pre\", layer_idx)\n",
    "        \n",
    "        corrupted_logits = model.run_with_hook(\n",
    "            corrupted_tokens,\n",
    "            fwd_hooks=[(hook_func, hook_name)]\n",
    "        )\n",
    "        \n",
    "        logit_diff = compute_logit_diff(corrupted_logits, correct_token, incorrect_token=)"
   ]
  },
  {
   "cell_type": "code",
   "execution_count": null,
   "id": "85abac09-4b46-4306-aa6e-eda62bef72ab",
   "metadata": {},
   "outputs": [],
   "source": [
    "text_embeddings = cache[\"hook_embed\"]\n",
    "positional_embeddings = cache[\"hook_pos_embed\"]"
   ]
  },
  {
   "cell_type": "code",
   "execution_count": null,
   "id": "45fa83b8-bea6-4285-a191-a26a074616f1",
   "metadata": {},
   "outputs": [],
   "source": [
    "components.append(text_embeddings)\n",
    "components.append(positional_embeddings)"
   ]
  },
  {
   "cell_type": "code",
   "execution_count": null,
   "id": "45a433fc-f7e2-4de2-91c7-a20f64fb79dd",
   "metadata": {},
   "outputs": [],
   "source": [
    "n_layers = 4"
   ]
  },
  {
   "cell_type": "code",
   "execution_count": null,
   "id": "b2fed4e2-b6d8-4619-8c38-1bf80da6881c",
   "metadata": {},
   "outputs": [],
   "source": [
    "for layer_idx in range(n_layers):\n",
    "    attn_out = get_act_name(\"attn_out\")"
   ]
  },
  {
   "cell_type": "code",
   "execution_count": null,
   "id": "56182bf6-5c73-4663-90b0-a507842a6fd9",
   "metadata": {},
   "outputs": [],
   "source": [
    "image_similarity = image_embeddings @ image_embeddings.T\n",
    "\n",
    "text_similarity = text_embeddings @ text_embeddings.T"
   ]
  },
  {
   "cell_type": "code",
   "execution_count": null,
   "id": "2ecacaac-5f2f-45f3-8bf1-2b22e7f27258",
   "metadata": {},
   "outputs": [],
   "source": []
  }
 ],
 "metadata": {
  "kernelspec": {
   "display_name": "Python 3 (ipykernel)",
   "language": "python",
   "name": "python3"
  }
 },
 "nbformat": 4,
 "nbformat_minor": 5
}
