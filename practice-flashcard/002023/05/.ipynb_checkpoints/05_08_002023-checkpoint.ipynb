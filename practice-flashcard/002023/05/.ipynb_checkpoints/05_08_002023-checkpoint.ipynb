{
 "cells": [
  {
   "cell_type": "markdown",
   "id": "aaf1f251-94c2-42e1-b7cd-c101f2f772ea",
   "metadata": {},
   "source": [
    "### Engineering"
   ]
  },
  {
   "cell_type": "code",
   "execution_count": null,
   "id": "96ee5f2d-b26b-46ce-8840-00a14ec9ebba",
   "metadata": {},
   "outputs": [],
   "source": [
    "import torch\n",
    "from torch import nn\n",
    "import torch.nn.functional as F"
   ]
  },
  {
   "cell_type": "code",
   "execution_count": null,
   "id": "b84b54c0-5451-409e-b8a5-cdef8c1eae84",
   "metadata": {},
   "outputs": [],
   "source": [
    "intra-layer, inter-layer, data"
   ]
  },
  {
   "cell_type": "code",
   "execution_count": null,
   "id": "eb8b1c54-dbe0-4e1a-bba3-715732968815",
   "metadata": {},
   "outputs": [],
   "source": [
    "thread\n",
    "process\n",
    "vectorization\n",
    "stream"
   ]
  },
  {
   "cell_type": "code",
   "execution_count": null,
   "id": "6e3c68c7-f12c-4040-91fc-423809f618cc",
   "metadata": {},
   "outputs": [],
   "source": [
    "import time"
   ]
  },
  {
   "cell_type": "code",
   "execution_count": null,
   "id": "5fc603ee-a7a6-43d1-8c4a-622e8d61b4a6",
   "metadata": {},
   "outputs": [],
   "source": [
    "def profile_times(model, batch):\n",
    "    records = {}\n",
    "    \n",
    "    for layer in model:\n",
    "        start_time = time.time()\n",
    "        outputs = [layer(x) for x in batch]\n",
    "        \n",
    "        outputs_with_grad = [x for x in outputs if x.requires_grad]\n",
    "        \n",
    "        if outputs_with_grad:\n",
    "            torch.autograd.grad(outputs_with_grad)\n",
    "        \n",
    "        end_time = time.time()\n",
    "        \n",
    "        records[layer] = end_time - start_time\n",
    "    \n",
    "    return records"
   ]
  },
  {
   "cell_type": "code",
   "execution_count": null,
   "id": "3cc442cd-ffa6-4000-b754-07a3e49b1775",
   "metadata": {},
   "outputs": [],
   "source": [
    "class RowParallelLinear(nn.Module):\n",
    "    def __init__(self, input_size, output_size):\n",
    "        super().__init__()\n",
    "        world_size = torch.distributed.get_world_size()\n",
    "        \n",
    "        self.input_size_per_patrition = input_size // world_size\n",
    "        self.output_size = output_size\n",
    "        \n",
    "        self.weight = nn.Parameter(torch.empty(\n",
    "            self.output_size,\n",
    "            self.input_size_per_patrition\n",
    "        ))\n",
    "        \n",
    "        self.bias = nn.Parameter(torch.empty(\n",
    "            self.output_size\n",
    "        ))\n",
    "    \n",
    "    def forward(self, input):\n",
    "        rank = torch.distributed.get_rank()\n",
    "        world_size = torch.distributed.get_world_size()\n",
    "        \n",
    "        dim_size = input.shape[-1]\n",
    "        n_chunks = dim_size // world_size\n",
    "        input_chunks = torch.split(input, n_chunks, dim=-1)\n",
    "        \n",
    "        input_parallel = input_chunks[rank]\n",
    "        \n",
    "        output_parallel = F.linear(input_parallel, self.weight, self.bias)\n",
    "        \n",
    "        torch.distributed.all_reduce(output_parallel)\n",
    "        \n",
    "        return output_parallel"
   ]
  },
  {
   "cell_type": "code",
   "execution_count": null,
   "id": "62b24b10-dada-4eee-97db-db4950b90bac",
   "metadata": {},
   "outputs": [],
   "source": [
    "step 1: split the input\n",
    "step 2: compute the output of each patrition\n",
    "step 3: all reduce"
   ]
  },
  {
   "cell_type": "code",
   "execution_count": null,
   "id": "6b0286ef-a5a5-4fad-82df-ef7655ce7fc6",
   "metadata": {},
   "outputs": [],
   "source": [
    "ranks = [0, 1, 3, 5]"
   ]
  },
  {
   "cell_type": "code",
   "execution_count": null,
   "id": "4ac290c4-9491-418c-9430-caa2f551e722",
   "metadata": {},
   "outputs": [],
   "source": [
    "group = None"
   ]
  },
  {
   "cell_type": "code",
   "execution_count": null,
   "id": "22454269-6db1-4e83-b851-6b2e0f852e0b",
   "metadata": {},
   "outputs": [],
   "source": [
    "rank = torch.distributed.get_rank()"
   ]
  },
  {
   "cell_type": "code",
   "execution_count": null,
   "id": "3b420fde-6e80-49cd-aeaf-6dd9f969d635",
   "metadata": {},
   "outputs": [],
   "source": [
    "if rank in ranks:\n",
    "    group = torch.distributed.new_group(ranks=ranks)"
   ]
  },
  {
   "cell_type": "code",
   "execution_count": null,
   "id": "a3ce29d2-26c6-4ce3-ad9f-8fee58086d45",
   "metadata": {},
   "outputs": [],
   "source": [
    "if group is not None:\n",
    "    torch.distributed.broadcast(x, src=0, group=group)"
   ]
  },
  {
   "cell_type": "code",
   "execution_count": null,
   "id": "6687c377-b1e4-4f04-a177-f48ad403cb89",
   "metadata": {},
   "outputs": [],
   "source": [
    "class VocabParallelEmbedding(nn.Module):\n",
    "    def __init__(self, num_embeddings, embedding_dim):\n",
    "        super().__init__()\n",
    "        world_size = torch.distributed.get_world_size()\n",
    "        self.num_embedding_per_patrition = num_embeddings // world_size\n",
    "        self.embedding_dim = embedding_dim\n",
    "        \n",
    "        self.embedding = nn.Embedding(num_embedding_per_patrition, embedding_dim)\n",
    "        self.start_vocab_idx, self.end_vocab_idx = self.get_vocab_range(num_embeddings)\n",
    "    \n",
    "    def get_vocab_range(self, num_embeddings):\n",
    "        world_size = torch.distributed.get_world_size()\n",
    "        rank = torch.distributed.get_rank()\n",
    "        num_embedding_per_patrition = num_embeddings // world_size\n",
    "        start_vocab_idx = rank * num_embedding_per_patrition\n",
    "        end_vocab_idx = start_vocab_idx + num_embedding_per_patrition\n",
    "        \n",
    "        return start_vocab_idx, end_vocab_idx\n",
    "    \n",
    "    def forward(self, input):\n",
    "        mask = (input < self.start_vocab_idx) | (input >= self.end_vocab_idx)\n",
    "        input = input - self.start_vocab_idx\n",
    "        input[mask] = 0\n",
    "        \n",
    "        output_parallel = self.embedding(input)\n",
    "        mask_idxs = torch.where(mask == True)[1]\n",
    "        output_parallel[mask_idxs, :] = 0.\n",
    "        \n",
    "        torch.distributed.all_reduce(output_parallel)\n",
    "        \n",
    "        return output_parallel"
   ]
  },
  {
   "cell_type": "code",
   "execution_count": null,
   "id": "2c60fe81-e3c6-495c-b3bf-52bdbada278d",
   "metadata": {},
   "outputs": [],
   "source": [
    "class f(torch.autograd.Function):\n",
    "    @staticmethod\n",
    "    def forward(ctx, input):\n",
    "        return input\n",
    "\n",
    "    @staticmethod\n",
    "    def backward(ctx, grad_output):\n",
    "        torch.distributed.all_reduce(grad_output)\n",
    "        return grad_output"
   ]
  },
  {
   "cell_type": "code",
   "execution_count": null,
   "id": "1f225c88-123f-4ec1-aa3b-648f6a8a0900",
   "metadata": {},
   "outputs": [],
   "source": [
    "class g(torch.autograd.Function):\n",
    "    @staticmethod\n",
    "    def forward(ctx, input):\n",
    "        world_size = torch.distributed.get_world_size()\n",
    "        inputs = [torch.zeros_like(input) for _ in range(world_size)]\n",
    "        torch.distributed.all_gather(inputs, input)\n",
    "        inputs = torch.cat(inputs, dim=-1)\n",
    "        return inputs\n",
    "    \n",
    "    @staticmethod\n",
    "    def backward(ctx, grad_output):\n",
    "        rank = torch.distributed.get_rank()\n",
    "        world_size = torch.distributed.get_world_size()\n",
    "        dim_size = grad_output.shape[-1]\n",
    "        n_chunks = dim_size // world_size\n",
    "        grad_chunks = torch.split(grad_output, n_chunks, dim=-1)\n",
    "        \n",
    "        return grad_chunks[rank]"
   ]
  },
  {
   "cell_type": "code",
   "execution_count": null,
   "id": "74e2428a-f133-4b36-90bb-17887ec2fb20",
   "metadata": {},
   "outputs": [],
   "source": [
    "class ColumnParallelLinear(nn.Module):\n",
    "    def __init__(self, input_size, output_size, world_size):\n",
    "        super().__init__()\n",
    "        \n",
    "        self.input_size = input_size\n",
    "        self.output_size_per_patrition = output_size // world_size\n",
    "        \n",
    "        self.weight = nn.Parameter(torch.empty(\n",
    "            self.output_size_per_patrition,\n",
    "            self.input_size\n",
    "        ))\n",
    "        self.bias = nn.Parameter(torch.empty(\n",
    "            self.output_size_per_patrition\n",
    "        ))\n",
    "    \n",
    "    def forward(self, input):\n",
    "        input_parallel = f.apply(input)\n",
    "        output_parallel = F.linear(input_parallel, self.weight, self.bias)\n",
    "        output = g.apply(output_parallel)\n",
    "        return output"
   ]
  },
  {
   "cell_type": "markdown",
   "id": "63904ce7-3116-4c28-b3d7-92254796ee83",
   "metadata": {},
   "source": [
    "### ML Engineering"
   ]
  },
  {
   "cell_type": "code",
   "execution_count": null,
   "id": "2cdac129-4eb9-4b8f-a4c0-4f0398ce8e60",
   "metadata": {},
   "outputs": [],
   "source": [
    "from prefect import flow"
   ]
  },
  {
   "cell_type": "code",
   "execution_count": null,
   "id": "5d52212f-1394-404a-bef4-c2495f524f6c",
   "metadata": {},
   "outputs": [],
   "source": [
    "@flow\n",
    "def my_flow():\n",
    "    print_values(111)\n",
    "    print_values(222)"
   ]
  },
  {
   "cell_type": "code",
   "execution_count": null,
   "id": "8781f443-bd19-4d17-9ab9-8c169c04d9cf",
   "metadata": {},
   "outputs": [],
   "source": [
    "from functools import lru_cache"
   ]
  },
  {
   "cell_type": "markdown",
   "id": "639fb19d-a287-4622-a1d3-9f6670f9655b",
   "metadata": {},
   "source": [
    "### AI"
   ]
  },
  {
   "cell_type": "code",
   "execution_count": null,
   "id": "1938a06d-047f-4eaa-ab96-6d1671693920",
   "metadata": {},
   "outputs": [],
   "source": [
    "import torch\n",
    "from torch import nn\n",
    "import torch.nn.functional as F"
   ]
  },
  {
   "cell_type": "code",
   "execution_count": null,
   "id": "162e38fb-d1a3-495b-81dc-b855bd960610",
   "metadata": {},
   "outputs": [],
   "source": [
    "from torch.profiler import profile, ProfilerActivity"
   ]
  },
  {
   "cell_type": "code",
   "execution_count": null,
   "id": "49c35fd4-ef7b-4b24-8c0e-c2eeae8e84ca",
   "metadata": {},
   "outputs": [],
   "source": [
    "with profile(\n",
    "    activities=[ProfilerActivity.CPU]\n",
    ") as prof:\n",
    "    hardcore()"
   ]
  },
  {
   "cell_type": "code",
   "execution_count": null,
   "id": "52f5fe54-e52f-4c55-bcb7-465c8e7c6221",
   "metadata": {},
   "outputs": [],
   "source": [
    "split, truncation, spliding"
   ]
  },
  {
   "cell_type": "code",
   "execution_count": null,
   "id": "96bb4428-64a8-4987-ac2f-25756b214624",
   "metadata": {},
   "outputs": [],
   "source": [
    "from ray import tune\n",
    "from ray.tune.schedulers import HyperBandScheduler"
   ]
  },
  {
   "cell_type": "code",
   "execution_count": null,
   "id": "7081f5bc-27c7-4797-9f5e-686d8719f362",
   "metadata": {},
   "outputs": [],
   "source": [
    "tune.run(\n",
    "    objective,\n",
    "    config=search_space,\n",
    "    scheduler=HyperBandScheduler()\n",
    ")"
   ]
  },
  {
   "cell_type": "code",
   "execution_count": null,
   "id": "fc1001d3-caad-431f-87c3-f0e3c8acc51a",
   "metadata": {},
   "outputs": [],
   "source": [
    "stream = torch.cuda.Stream(device=device)"
   ]
  },
  {
   "cell_type": "code",
   "execution_count": null,
   "id": "6c3dd7bc-2217-4673-9046-5b29fcd2033d",
   "metadata": {},
   "outputs": [],
   "source": [
    "with torch.cuda.device(device):\n",
    "    with torch.cuda.stream(stream):\n",
    "        mean = xs.mean()"
   ]
  },
  {
   "cell_type": "code",
   "execution_count": null,
   "id": "5c42865d-fe94-4a87-8a1f-90360b0c15bd",
   "metadata": {},
   "outputs": [],
   "source": [
    "from torch.profiler import schedule"
   ]
  },
  {
   "cell_type": "code",
   "execution_count": null,
   "id": "cae0fea2-0cfe-490f-835a-b2c3d87feae1",
   "metadata": {},
   "outputs": [],
   "source": [
    "with profile(\n",
    "    activities=[ProfilerActivity.CPU],\n",
    "    schedule=schedule(**schedular_params)\n",
    ") as prof:\n",
    "    for idx in range(8):\n",
    "        model(inputs)\n",
    "        prof.step()"
   ]
  },
  {
   "cell_type": "code",
   "execution_count": null,
   "id": "3a160e70-703f-453c-b32b-189e476a3185",
   "metadata": {},
   "outputs": [],
   "source": [
    "import jax"
   ]
  },
  {
   "cell_type": "code",
   "execution_count": null,
   "id": "0343e3dd-9261-4847-b623-0e3c634c2594",
   "metadata": {},
   "outputs": [],
   "source": [
    "jax.grad(square, has_aux=True)[x]"
   ]
  },
  {
   "cell_type": "code",
   "execution_count": null,
   "id": "2e82f8ed-91f0-471f-9b1d-a7e6416a08f1",
   "metadata": {},
   "outputs": [],
   "source": [
    "act_head = activations[1, 2]"
   ]
  },
  {
   "cell_type": "code",
   "execution_count": null,
   "id": "d1f8ad38-4f92-460b-8c59-6fecbae9bf7d",
   "metadata": {},
   "outputs": [],
   "source": [
    "from torchvision import transforms as tfms"
   ]
  },
  {
   "cell_type": "code",
   "execution_count": null,
   "id": "47438bc9-3814-4ed7-a915-4ebf448bd76b",
   "metadata": {},
   "outputs": [],
   "source": [
    "transform = tfms.Compose([\n",
    "    tfms.ToTensor(),\n",
    "    tfm.\n",
    "])"
   ]
  },
  {
   "cell_type": "code",
   "execution_count": null,
   "id": "52d62413-993b-4455-8f95-57696051fced",
   "metadata": {},
   "outputs": [],
   "source": [
    "cache[act_name]"
   ]
  },
  {
   "cell_type": "code",
   "execution_count": null,
   "id": "fdbb0c5f-bdf1-4867-9add-4dfb5571a9f2",
   "metadata": {},
   "outputs": [],
   "source": [
    "act_head[1, 2]"
   ]
  },
  {
   "cell_type": "code",
   "execution_count": null,
   "id": "f16f99ff-8d6c-465a-ab2d-90bff8cc0f6d",
   "metadata": {},
   "outputs": [],
   "source": [
    "correct_residual_direction = model.tokens_to_residual_directions(correct_token)"
   ]
  },
  {
   "cell_type": "code",
   "execution_count": null,
   "id": "fb4c21b0-acdd-41ba-8b14-54d3660238c9",
   "metadata": {},
   "outputs": [],
   "source": [
    "incorrect_residual_direction = model.tokens_to_residual_directions(incorrect_token)"
   ]
  },
  {
   "cell_type": "code",
   "execution_count": null,
   "id": "0c2b2bf1-ab49-4a0d-869a-4517a5e2af32",
   "metadata": {},
   "outputs": [],
   "source": [
    "logit_diff_residual = correct_residual_direction - incorrect_residual_direction"
   ]
  },
  {
   "cell_type": "code",
   "execution_count": null,
   "id": "97fa6fb0-b93f-47da-9f55-2973950463d4",
   "metadata": {},
   "outputs": [],
   "source": [
    "rpc.rpc_sync()"
   ]
  },
  {
   "cell_type": "code",
   "execution_count": null,
   "id": "ad3191d6-4327-4e8e-8b6e-ac035e2742db",
   "metadata": {},
   "outputs": [],
   "source": [
    "step 1: tokenize the prompt\n",
    "step 2: act\n",
    "step 3: exec\n",
    "step 4: "
   ]
  },
  {
   "cell_type": "code",
   "execution_count": null,
   "id": "683a9e50-12fd-4652-8981-e0d0936c0580",
   "metadata": {},
   "outputs": [],
   "source": [
    "from torch.distributions import Categorical"
   ]
  },
  {
   "cell_type": "code",
   "execution_count": null,
   "id": "de47d4a8-2f8b-4db0-a6a3-ce8af98e9b43",
   "metadata": {},
   "outputs": [],
   "source": [
    "dist = Categorical(probs=probs)"
   ]
  },
  {
   "cell_type": "code",
   "execution_count": null,
   "id": "67cac690-68ec-4377-93db-d24f32d6d5d3",
   "metadata": {},
   "outputs": [],
   "source": [
    "action = dist.sample()"
   ]
  },
  {
   "cell_type": "code",
   "execution_count": null,
   "id": "043c681f-99ca-47ce-b5ce-ea2b04c94da1",
   "metadata": {},
   "outputs": [],
   "source": [
    "log_prob = dist.log_prob(action)"
   ]
  },
  {
   "cell_type": "code",
   "execution_count": null,
   "id": "9a0647f1-c688-44ec-819c-e68396921cb4",
   "metadata": {},
   "outputs": [],
   "source": [
    "correct_residual_direction = unembedding[:, correct_token]\n",
    "incorrect_residual_direction = unembedding[:, incorrect_token]"
   ]
  },
  {
   "cell_type": "code",
   "execution_count": null,
   "id": "89095dca-9617-42a1-88b8-6e924bf36294",
   "metadata": {},
   "outputs": [],
   "source": [
    "correct_residual_direction - incorrect_residual_direction"
   ]
  },
  {
   "cell_type": "code",
   "execution_count": null,
   "id": "ec26c382-f17e-43ac-bb06-256cf55b6367",
   "metadata": {},
   "outputs": [],
   "source": [
    "from torchvision import transforms as tfms"
   ]
  },
  {
   "cell_type": "code",
   "execution_count": null,
   "id": "74c83db1-5737-43f6-a2bd-bc3fbce56257",
   "metadata": {},
   "outputs": [],
   "source": [
    "transform = tfms.Compose([\n",
    "    tfms.ToTensor(),\n",
    "    tfms.Normalize(0.3, 0.9)\n",
    "])"
   ]
  },
  {
   "cell_type": "code",
   "execution_count": null,
   "id": "3deb8872-777a-46cb-8ca8-b09ddd2bc97e",
   "metadata": {},
   "outputs": [],
   "source": [
    "from einops import einsum"
   ]
  },
  {
   "cell_type": "code",
   "execution_count": null,
   "id": "9c1582e7-a86a-4482-8f1f-a1818d7bb66d",
   "metadata": {},
   "outputs": [],
   "source": [
    "interference = einsum(\n",
    "    W, W,\n",
    "    \"b f1 d, b f2 d -> b f1 f2\"\n",
    ")"
   ]
  },
  {
   "cell_type": "code",
   "execution_count": null,
   "id": "f8e8dfee-d609-490f-9c33-784cb71a1d50",
   "metadata": {},
   "outputs": [],
   "source": [
    "from einops import reduce"
   ]
  },
  {
   "cell_type": "code",
   "execution_count": null,
   "id": "b935a57b-87e1-44f2-8746-6437b9d7535e",
   "metadata": {},
   "outputs": [],
   "source": [
    "induction_score = reduce(induction_stripe, \"h w -> h\", reduction=\"mean\")"
   ]
  },
  {
   "cell_type": "code",
   "execution_count": null,
   "id": "989217cd-bf5d-491b-9ebd-47952e4c2a5e",
   "metadata": {},
   "outputs": [],
   "source": [
    "outputs = []"
   ]
  },
  {
   "cell_type": "code",
   "execution_count": null,
   "id": "cd40238b-5c67-4ed9-b0ae-435eef7f031e",
   "metadata": {},
   "outputs": [],
   "source": [
    "for layer in range(2):\n",
    "    outputs.append(cache[f\"block.{layer}.attn.hook_result\"])"
   ]
  },
  {
   "cell_type": "code",
   "execution_count": null,
   "id": "2346f7d9-d220-45b0-925d-62aa22ce4e04",
   "metadata": {},
   "outputs": [],
   "source": [
    "import gymnasium as gym"
   ]
  },
  {
   "cell_type": "code",
   "execution_count": null,
   "id": "b99fa6ee-2ed9-49b1-9127-c239258658a5",
   "metadata": {},
   "outputs": [],
   "source": [
    "envs = gym.vector.SyncVectorEnv([\n",
    "    lambda: gym.make(\"CartPole-v1\"),\n",
    "    lambda: gym.make(\"CartPole-v1\"),\n",
    "    lambda: gym.make(\"CartPole-v1\"),\n",
    "])"
   ]
  },
  {
   "cell_type": "code",
   "execution_count": null,
   "id": "d6c1b8f9-f24e-4928-b216-f8786a74fa81",
   "metadata": {},
   "outputs": [],
   "source": [
    "from torch.distributions import Categorical"
   ]
  },
  {
   "cell_type": "code",
   "execution_count": null,
   "id": "78ba7eef-4c83-409f-89ea-7462d0be1549",
   "metadata": {},
   "outputs": [],
   "source": [
    "dist = Categorical(probs=probs)"
   ]
  },
  {
   "cell_type": "code",
   "execution_count": null,
   "id": "6f8b8a90-3a65-477f-96e9-5421356d49c1",
   "metadata": {},
   "outputs": [],
   "source": [
    "action = dist.sample()"
   ]
  },
  {
   "cell_type": "code",
   "execution_count": null,
   "id": "d4a9f3c2-b9f2-448f-8998-854dd3bf1b11",
   "metadata": {},
   "outputs": [],
   "source": [
    "action = dist.log_"
   ]
  },
  {
   "cell_type": "code",
   "execution_count": null,
   "id": "660eb56c-5c53-46e3-a02f-10b3d5523240",
   "metadata": {},
   "outputs": [],
   "source": []
  },
  {
   "cell_type": "code",
   "execution_count": null,
   "id": "c6531ccf-7b87-4e81-85c9-d9fcdf091705",
   "metadata": {},
   "outputs": [],
   "source": [
    "torch.jit.script() "
   ]
  },
  {
   "cell_type": "code",
   "execution_count": null,
   "id": "2dc435c1-f3bd-4c6a-9f60-34382fc374f9",
   "metadata": {},
   "outputs": [],
   "source": [
    "activations[\"attn\", 2]"
   ]
  },
  {
   "cell_type": "code",
   "execution_count": null,
   "id": "e5367b9c-df27-4fad-8b28-0d73b7ffe9ab",
   "metadata": {},
   "outputs": [],
   "source": [
    "dist.log_prob(action)"
   ]
  },
  {
   "cell_type": "code",
   "execution_count": null,
   "id": "19ec55b4-46ee-47ca-938b-fbd92add2da5",
   "metadata": {},
   "outputs": [],
   "source": []
  },
  {
   "cell_type": "code",
   "execution_count": null,
   "id": "e352c4d5-4ae4-4e5c-8a37-ad7edc223d47",
   "metadata": {},
   "outputs": [],
   "source": [
    "outputs = []"
   ]
  },
  {
   "cell_type": "code",
   "execution_count": null,
   "id": "d0f337db-d2a9-4af0-bcd8-e1912d2de7ce",
   "metadata": {},
   "outputs": [],
   "source": [
    "for layer in range(3):\n",
    "    outputs.append(cache[f\"blocks.{block}.attn.hook_result\"])"
   ]
  },
  {
   "cell_type": "code",
   "execution_count": null,
   "id": "dac18a2b-438c-4090-b948-5fa2b9c2672b",
   "metadata": {},
   "outputs": [],
   "source": [
    "outputs = torch.cat(outputs, dim=-2)"
   ]
  },
  {
   "cell_type": "code",
   "execution_count": null,
   "id": "1be3f5a9-1479-4578-b666-dc3834a5cc3d",
   "metadata": {},
   "outputs": [],
   "source": [
    "class ShortcutProjection(nn.Module):\n",
    "    def __init__(self, in_channels, out_channels, stride):\n",
    "        super().__init__()\n",
    "        self.conv = nn.Conv2d(\n",
    "            in_channels=in_channels,\n",
    "            out_channels=out_channels,\n",
    "            stride=stride\n",
    "        )"
   ]
  },
  {
   "cell_type": "code",
   "execution_count": null,
   "id": "7935ab5d-36d8-4e6f-a0a9-c6d69538be0d",
   "metadata": {},
   "outputs": [],
   "source": [
    "class LayerNorm(nn.Module):\n",
    "    def __init__(self, features, eps):\n",
    "        super().__init__()\n",
    "        self.eps = eps\n",
    "        self.adds = nn.Parameter(torch.zeros(features))\n",
    "        self.mults = nn.Parameter(torch.ones(features))\n",
    "    \n",
    "    def forward(self, x):\n",
    "        mean, var = x.mean(dim=-1), x.var(dim=-1)\n",
    "        x = (x-mean) / (self.eps + var).sqrt()\n",
    "        x = self.adds + self.mults * x\n",
    "        \n",
    "        return x"
   ]
  },
  {
   "cell_type": "code",
   "execution_count": null,
   "id": "594faab5-0605-42a0-9dea-94b028f60d13",
   "metadata": {},
   "outputs": [],
   "source": []
  },
  {
   "cell_type": "code",
   "execution_count": null,
   "id": "cfb367c0-26ca-4df2-b54b-42de5f29df20",
   "metadata": {},
   "outputs": [],
   "source": []
  }
 ],
 "metadata": {
  "kernelspec": {
   "display_name": "Python 3 (ipykernel)",
   "language": "python",
   "name": "python3"
  }
 },
 "nbformat": 4,
 "nbformat_minor": 5
}
