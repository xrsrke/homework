{
 "cells": [
  {
   "cell_type": "markdown",
   "id": "b076c922-1a2f-4a16-a940-0baa569fb36a",
   "metadata": {},
   "source": [
    "### Sc"
   ]
  },
  {
   "cell_type": "markdown",
   "id": "dc4d22a1-579c-4ecb-a4a4-e6f24208fbd7",
   "metadata": {},
   "source": [
    "### ML Engineering"
   ]
  },
  {
   "cell_type": "code",
   "execution_count": null,
   "id": "b81ed42c-46c5-43f1-8e89-d4646f5c2b86",
   "metadata": {},
   "outputs": [],
   "source": [
    "import subprocess"
   ]
  },
  {
   "cell_type": "code",
   "execution_count": null,
   "id": "8c488b39-3014-4c91-9648-77bc950c385c",
   "metadata": {},
   "outputs": [],
   "source": [
    "subprocess.run([])"
   ]
  },
  {
   "cell_type": "code",
   "execution_count": null,
   "id": "f17641d0-66ba-4ec0-be66-00b69035a186",
   "metadata": {},
   "outputs": [],
   "source": [
    "from contextlib import contextmanager"
   ]
  },
  {
   "cell_type": "code",
   "execution_count": null,
   "id": "c67fc086-d4f3-4f96-8f3c-43c0160975ef",
   "metadata": {},
   "outputs": [],
   "source": [
    "@contextmanager\n",
    "def first_context():\n",
    "    print()\n",
    "    \n",
    "    yield\n",
    "    \n",
    "    print()"
   ]
  },
  {
   "cell_type": "markdown",
   "id": "1919c236-02c3-4ffb-8107-11f8169b029e",
   "metadata": {},
   "source": [
    "### Engineering"
   ]
  },
  {
   "cell_type": "code",
   "execution_count": null,
   "id": "cd900f60-d61e-46d3-921f-002d1a373330",
   "metadata": {},
   "outputs": [],
   "source": [
    "import torch\n",
    "from torch import nn\n",
    "import torch.nn.functional as F"
   ]
  },
  {
   "cell_type": "code",
   "execution_count": null,
   "id": "bf598595-3e6e-4573-8a5a-9ef7d88824a5",
   "metadata": {},
   "outputs": [],
   "source": [
    "class ColumnLinearParallel(nn.Module):\n",
    "    def __init__(self, input_size, output_size, num_patritions):\n",
    "        super().__init__()\n",
    "        self.input_size = input_size\n",
    "        self.output_size_per_patrition = output_size // num_patritions\n",
    "        self.weight = nn.Parameter(torch.empty(\n",
    "            self.output_size_per_patrition,\n",
    "            self.input_size\n",
    "        ))\n",
    "        self.bias = nn.Parameter(torch.empty(\n",
    "            self.output_size_per_patrition,\n",
    "            self.input_size\n",
    "        ))\n",
    "    \n",
    "    def forward(self, input):\n",
    "        output_patrition = F.linear(input, self.weight, self.bias)\n",
    "        \n",
    "        world_size = torch.distributed.get_world_size()\n",
    "        outputs = [torch.empty_like(output_patrition) for _ in range(world_size)]\n",
    "        torch.disitributed.all_gather(outputs, output_patrition)\n",
    "        \n",
    "        output = torch.cat(outputs, dim=-1)\n",
    "        \n",
    "        return output"
   ]
  },
  {
   "cell_type": "code",
   "execution_count": null,
   "id": "2fbabf8d-a96c-49c6-b52c-63d6261db961",
   "metadata": {},
   "outputs": [],
   "source": [
    "def gather_tensors(x):\n",
    "    world_size = torch.distributed.get_world_size()\n",
    "    \n",
    "    xs = [torch.zeros_like(x) for _ in range(world_size)]\n",
    "    \n",
    "    torch.distributed.gather(xs, x)\n",
    "    \n",
    "    "
   ]
  },
  {
   "cell_type": "code",
   "execution_count": null,
   "id": "00f485ed-1833-45a9-ba0a-58ad4ed0c8e0",
   "metadata": {},
   "outputs": [],
   "source": [
    "def compute_forward_pass_using_data_parallelism(model, input, device_ids, output_id):\n",
    "    inputs = nn.parallel.scatter(input, device_ids)\n",
    "    models = nn.parallel.replicate(model, device_ids)\n",
    "    \n",
    "    logit = nn.parallel.parallel_apply(models, inputs)\n",
    "    logits = nn.parallel.gather(logit, output_id)\n",
    "    \n",
    "    return logits"
   ]
  },
  {
   "cell_type": "code",
   "execution_count": null,
   "id": "aaf5db1a-4fc4-4dda-b18d-6b154b6fdf16",
   "metadata": {},
   "outputs": [],
   "source": [
    "ranks = [0, 1, 3, 6]"
   ]
  },
  {
   "cell_type": "code",
   "execution_count": null,
   "id": "7338a990-bad5-4119-912a-411a098ed057",
   "metadata": {},
   "outputs": [],
   "source": [
    "rank = torch.distributed.get_rank()"
   ]
  },
  {
   "cell_type": "code",
   "execution_count": null,
   "id": "c658034d-c085-4c68-80ed-1cf0b8b18fba",
   "metadata": {},
   "outputs": [],
   "source": [
    "group = None"
   ]
  },
  {
   "cell_type": "code",
   "execution_count": null,
   "id": "6f3976ee-5522-4147-8516-161080923b08",
   "metadata": {},
   "outputs": [],
   "source": [
    "if rank in ranks:\n",
    "    group = torch.distributed.new_group(ranks=ranks)"
   ]
  },
  {
   "cell_type": "code",
   "execution_count": null,
   "id": "3b70e93a-94d1-452c-8679-9a0ffee0f78f",
   "metadata": {},
   "outputs": [],
   "source": [
    "if group is not None:\n",
    "    torch.distributed.broadcast(x, src=0, group=group)"
   ]
  },
  {
   "cell_type": "code",
   "execution_count": null,
   "id": "8fb570a7-d06b-413f-84f0-21cfa7aae498",
   "metadata": {},
   "outputs": [],
   "source": [
    "step 1: scale the loss\n",
    "step 2: compute the gradient with respect to the scaled loss\n",
    "step 3: unscale the gradient\n",
    "step 4: update model's parameters with respect to the unscaled gradient"
   ]
  },
  {
   "cell_type": "markdown",
   "id": "b8b93793-6d1e-4fe6-8bbd-ef5a4378ce3d",
   "metadata": {},
   "source": [
    "### AI"
   ]
  },
  {
   "cell_type": "code",
   "execution_count": null,
   "id": "08f255a1-3c26-40a7-9b0d-4aab7f5fa586",
   "metadata": {},
   "outputs": [],
   "source": [
    "from transformers import DataCollatorForLanguageModeling"
   ]
  },
  {
   "cell_type": "code",
   "execution_count": null,
   "id": "79c10349-b133-4e81-ada9-870dbe07965e",
   "metadata": {},
   "outputs": [],
   "source": [
    "data_collator = DataCollatorForLanguageModeling(tokenizer, mhm=True)"
   ]
  },
  {
   "cell_type": "code",
   "execution_count": null,
   "id": "c711c3ad-a545-433a-a5e9-85902f32b467",
   "metadata": {},
   "outputs": [],
   "source": [
    "@contextmanager\n",
    "def use_stream(stream):\n",
    "    if isinstance(stream, torch.cuda.Stream):\n",
    "        yield\n",
    "        return\n",
    "    \n",
    "    with torch.cuda.stream(stream):\n",
    "        yield"
   ]
  },
  {
   "cell_type": "code",
   "execution_count": null,
   "id": "6528102f-addf-4923-8333-54c87ced2bcf",
   "metadata": {},
   "outputs": [],
   "source": [
    "stream1 = torch.cuda.Stream()\n",
    "stream2 = torch.cuda.Stream()"
   ]
  },
  {
   "cell_type": "code",
   "execution_count": null,
   "id": "43959fb5-b641-4429-9493-77e870ab8f73",
   "metadata": {},
   "outputs": [],
   "source": [
    "with torch.cuda.stream(stream1):\n",
    "    x_mean = x.mean()\n",
    "    \n",
    "with torch.cuda.stream(stream2):\n",
    "    y_mean = y.mean()"
   ]
  },
  {
   "cell_type": "code",
   "execution_count": null,
   "id": "f06815e9-ba16-4c64-ada9-36356f0d1acf",
   "metadata": {},
   "outputs": [],
   "source": [
    "ctx.saved_tensors"
   ]
  },
  {
   "cell_type": "code",
   "execution_count": null,
   "id": "7cb54a35-2edd-4496-945d-7086420f236f",
   "metadata": {},
   "outputs": [],
   "source": [
    "from torch_geometric.data import Data"
   ]
  },
  {
   "cell_type": "code",
   "execution_count": null,
   "id": "fb324319-bbe5-48e6-a45a-793d0424e578",
   "metadata": {},
   "outputs": [],
   "source": [
    "x = torch.tensor([-1, 0, 1])"
   ]
  },
  {
   "cell_type": "code",
   "execution_count": null,
   "id": "cfb4af45-e605-4fae-8e82-9851c108a7a6",
   "metadata": {},
   "outputs": [],
   "source": [
    "edge_index = torch.tensor([\n",
    "    [0, 1, 1, 2],\n",
    "    [1, 0, 2, 1]\n",
    "])"
   ]
  },
  {
   "cell_type": "code",
   "execution_count": null,
   "id": "8fabcfd5-d6b1-4d3c-b72b-762e543c7434",
   "metadata": {},
   "outputs": [],
   "source": [
    "def split_weights(x):\n",
    "    n_cols = x.shape[-1]\n",
    "    return x[:, :n_cols//2], x[:, n_cols//2:]"
   ]
  },
  {
   "cell_type": "code",
   "execution_count": null,
   "id": "f82f6f33-07fe-46d0-8ab3-5ce16b2d10e4",
   "metadata": {},
   "outputs": [],
   "source": [
    "w1, w2 = split_weights(x)"
   ]
  },
  {
   "cell_type": "code",
   "execution_count": null,
   "id": "a6bde085-913c-4916-b440-f3acee74075f",
   "metadata": {},
   "outputs": [],
   "source": [
    "from einops import rearrange"
   ]
  },
  {
   "cell_type": "code",
   "execution_count": null,
   "id": "a8ce2159-9d2c-4eeb-98e3-aa26ef02eb1c",
   "metadata": {},
   "outputs": [],
   "source": [
    "rearrange(\n",
    "    images,\n",
    "    \"b c (n_h p_h) (n_w p_w) -> b (n_h n_w) (p_h p_w c)\"\n",
    ")"
   ]
  },
  {
   "cell_type": "code",
   "execution_count": null,
   "id": "0a7cee67-7828-423e-9a17-616d0260d77e",
   "metadata": {},
   "outputs": [],
   "source": [
    "torch."
   ]
  },
  {
   "cell_type": "code",
   "execution_count": null,
   "id": "e63dc973-2f01-4c26-95c0-f67446b30540",
   "metadata": {},
   "outputs": [],
   "source": [
    "from einops import rearrange"
   ]
  },
  {
   "cell_type": "code",
   "execution_count": null,
   "id": "cf985aac-9491-4421-bf55-e2c8dd5357fc",
   "metadata": {},
   "outputs": [],
   "source": [
    "result = rearrange(images, \"b c h w -> b c w h\")"
   ]
  },
  {
   "cell_type": "code",
   "execution_count": null,
   "id": "888528dd-f558-48ab-a7f0-8875896f99b3",
   "metadata": {},
   "outputs": [],
   "source": [
    "rearrange(images, \"b c h w -> (b c h w)\")"
   ]
  },
  {
   "cell_type": "code",
   "execution_count": null,
   "id": "ab72cd88-436d-47ec-b4b0-df2e0ab1d2b0",
   "metadata": {},
   "outputs": [],
   "source": [
    "class ResidualLayerNorm(nn.Module):\n",
    "    def __init__(self, d_model, dropout):\n",
    "        super().__init__()\n",
    "        self.norm = nn.LayerNorm()"
   ]
  },
  {
   "cell_type": "code",
   "execution_count": null,
   "id": "02ced90b-f408-48f7-a100-fa8c6621a568",
   "metadata": {},
   "outputs": [],
   "source": [
    "class Optimizer:\n",
    "    def __init__(self, params, lr):\n",
    "        self.params = params\n",
    "        self.lr = lr\n",
    "    \n",
    "    def step(self):\n",
    "        for p in self.params:\n",
    "            p -= p.grad * self.lr"
   ]
  }
 ],
 "metadata": {
  "kernelspec": {
   "display_name": "Python 3 (ipykernel)",
   "language": "python",
   "name": "python3"
  }
 },
 "nbformat": 4,
 "nbformat_minor": 5
}
