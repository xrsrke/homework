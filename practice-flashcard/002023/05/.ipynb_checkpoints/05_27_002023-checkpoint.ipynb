{
 "cells": [
  {
   "cell_type": "code",
   "execution_count": 1,
   "id": "c258510b-82f1-4280-8330-feef9eb9a84d",
   "metadata": {},
   "outputs": [],
   "source": [
    "from metaflow import parallel_map"
   ]
  },
  {
   "cell_type": "code",
   "execution_count": null,
   "id": "82ff39bc-f1b1-4e90-b32e-7661e8aa070e",
   "metadata": {},
   "outputs": [],
   "source": [
    "results = parallel_map(plus_69, numbers)"
   ]
  },
  {
   "cell_type": "code",
   "execution_count": null,
   "id": "1d854824-2a93-4428-8190-fef954df420e",
   "metadata": {},
   "outputs": [],
   "source": [
    "from einops import repeat"
   ]
  },
  {
   "cell_type": "code",
   "execution_count": null,
   "id": "aa257b38-fcf2-4db9-8408-d98f0c3223fa",
   "metadata": {},
   "outputs": [],
   "source": [
    "repeat(x, \"h w -> h w n\")"
   ]
  },
  {
   "cell_type": "code",
   "execution_count": null,
   "id": "4327b4d6-fdbd-46ec-8785-1d2fc63b6b3a",
   "metadata": {},
   "outputs": [],
   "source": [
    "import torch"
   ]
  },
  {
   "cell_type": "code",
   "execution_count": 3,
   "id": "f686baa0-2d36-42a9-b40c-fa53ef11e730",
   "metadata": {},
   "outputs": [
    {
     "ename": "NameError",
     "evalue": "name 'torch' is not defined",
     "output_type": "error",
     "traceback": [
      "\u001b[0;31m---------------------------------------------------------------------------\u001b[0m",
      "\u001b[0;31mNameError\u001b[0m                                 Traceback (most recent call last)",
      "Cell \u001b[0;32mIn[3], line 1\u001b[0m\n\u001b[0;32m----> 1\u001b[0m work \u001b[38;5;241m=\u001b[39m \u001b[43mtorch\u001b[49m\u001b[38;5;241m.\u001b[39mdistributed\u001b[38;5;241m.\u001b[39mbroadcast(x, src\u001b[38;5;241m=\u001b[39m\u001b[38;5;241m0\u001b[39m, async_op\u001b[38;5;241m=\u001b[39m\u001b[38;5;28;01mTrue\u001b[39;00m)\n",
      "\u001b[0;31mNameError\u001b[0m: name 'torch' is not defined"
     ]
    }
   ],
   "source": [
    "work = torch.distributed.broadcast(x, src=0, async_op=True)"
   ]
  },
  {
   "cell_type": "code",
   "execution_count": null,
   "id": "95d392e9-928a-459c-bd7f-d4bba9281768",
   "metadata": {},
   "outputs": [],
   "source": [
    "work.wait()"
   ]
  }
 ],
 "metadata": {
  "kernelspec": {
   "display_name": "Python 3 (ipykernel)",
   "language": "python",
   "name": "python3"
  },
  "language_info": {
   "codemirror_mode": {
    "name": "ipython",
    "version": 3
   },
   "file_extension": ".py",
   "mimetype": "text/x-python",
   "name": "python",
   "nbconvert_exporter": "python",
   "pygments_lexer": "ipython3",
   "version": "3.8.16"
  }
 },
 "nbformat": 4,
 "nbformat_minor": 5
}
