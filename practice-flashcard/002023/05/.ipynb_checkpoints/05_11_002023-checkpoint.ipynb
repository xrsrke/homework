{
 "cells": [
  {
   "cell_type": "markdown",
   "id": "f056bed1-fde8-4576-80f8-d4e39a04bcdc",
   "metadata": {},
   "source": [
    "### Engineering"
   ]
  },
  {
   "cell_type": "code",
   "execution_count": null,
   "id": "edbe1efa-058e-4d9e-8bc1-453de3169c5d",
   "metadata": {},
   "outputs": [],
   "source": [
    "from torch.multiprocessing import Process"
   ]
  },
  {
   "cell_type": "code",
   "execution_count": null,
   "id": "4334717d-a363-413e-930a-eb794ee69b10",
   "metadata": {},
   "outputs": [],
   "source": [
    "for _ in range(3):\n",
    "    process = Process(target=say_hello())\n",
    "    process.start()"
   ]
  },
  {
   "cell_type": "code",
   "execution_count": null,
   "id": "45ec9fea-c22d-4d93-9b7f-57d1f02480e4",
   "metadata": {},
   "outputs": [],
   "source": [
    "for rank in range(world_size):\n",
    "    process = Process(target=say_hello, args=(rank,))\n",
    "    process.start()"
   ]
  },
  {
   "cell_type": "code",
   "execution_count": null,
   "id": "2ce81e09-d358-4c1b-8d3c-49d55d5ecfe9",
   "metadata": {},
   "outputs": [],
   "source": [
    "stream1 = torch.cuda.Stream()\n",
    "stream2 = torch.cuda.Stream()\n",
    "\n",
    "with torch.cuda.stream(stream1):\n",
    "    operation_a()\n",
    "    \n",
    "with torch.cuda.stream(stream2):\n",
    "    operation_b()\n",
    "    \n",
    "torch.cuda.syn()"
   ]
  },
  {
   "cell_type": "code",
   "execution_count": null,
   "id": "03130a54-120a-405e-9e0f-ae82c1551ced",
   "metadata": {},
   "outputs": [],
   "source": []
  },
  {
   "cell_type": "code",
   "execution_count": null,
   "id": "c41d7df2-2a09-41a5-9eb8-7c8d60852f5f",
   "metadata": {},
   "outputs": [],
   "source": [
    "step 1: compute the forward pass of part 1\n",
    "step 2: compute the forward pass of part 2\n",
    "step 3:"
   ]
  },
  {
   "cell_type": "code",
   "execution_count": null,
   "id": "1f27a0cd-5ef7-4397-8223-244615a8c82d",
   "metadata": {},
   "outputs": [],
   "source": [
    "ranks = [0, 1, 3, 6]"
   ]
  },
  {
   "cell_type": "code",
   "execution_count": null,
   "id": "66d9ed4f-7c1c-4ad4-8366-0613392560a0",
   "metadata": {},
   "outputs": [],
   "source": [
    "rank = torch.distributed.get_rank()"
   ]
  },
  {
   "cell_type": "code",
   "execution_count": null,
   "id": "f5eb1d1d-784d-4872-89ea-e228bbab2641",
   "metadata": {},
   "outputs": [],
   "source": [
    "groups = None"
   ]
  },
  {
   "cell_type": "code",
   "execution_count": null,
   "id": "13a5c673-a486-4da3-b260-5969d2b1c0a1",
   "metadata": {},
   "outputs": [],
   "source": [
    "if rank in ranks:\n",
    "    group = torch.distributed.new_group(ranks=ranks)"
   ]
  },
  {
   "cell_type": "code",
   "execution_count": null,
   "id": "da8eefb0-b510-4fff-a769-ebf13725eb28",
   "metadata": {},
   "outputs": [],
   "source": [
    "if group != None:\n",
    "    torch.distributed.send(x, src=0, group=group)"
   ]
  },
  {
   "cell_type": "code",
   "execution_count": null,
   "id": "a3edec95-5b3a-4583-b6ad-116ce2022628",
   "metadata": {},
   "outputs": [],
   "source": [
    "import torch\n",
    "from torch import nn\n",
    "import torch.nn.functional as F"
   ]
  },
  {
   "cell_type": "code",
   "execution_count": null,
   "id": "d607729e-56df-4c84-81db-b48e9284ee8e",
   "metadata": {},
   "outputs": [],
   "source": [
    "class RowParallelLinear(nn.Module):\n",
    "    def __init__(self, input_size, output_size):\n",
    "        world_size = torch.distributed.get_world_size()\n",
    "        \n",
    "        self.input_size_per_patrition = input_size // world_size\n",
    "        self.output_size = output_size\n",
    "        \n",
    "        self.weight = nn.Parameter(torch.empty(\n",
    "            self.output_size,\n",
    "            self.input_size_per_patrition\n",
    "        ))\n",
    "        self.bias = nn.Parameter(torch.empty(\n",
    "            self.output_size\n",
    "        ))\n",
    "    \n",
    "    def forward(self, input):\n",
    "        world_size = torch.distributed.get_world_size()\n",
    "        rank = torch.distributed.get_world_size()\n",
    "        \n",
    "        dim_size = input.shape[-1]\n",
    "        n_chunks = dim_size // world_size\n",
    "        input_chunks = torch.chunk(input, n_chunks, dim=-1)\n",
    "        input_parallel = input_chunks[rank]\n",
    "        \n",
    "        output_parallel = F.linear(input_parallel, self.weight, self.bias)\n",
    "        \n",
    "        torch.distributed.all_reduce(output_parallel)\n",
    "        \n",
    "        return output_parallel"
   ]
  },
  {
   "cell_type": "code",
   "execution_count": null,
   "id": "a4a7ed94-c0c5-4553-bbb4-9ef6b4ed34af",
   "metadata": {},
   "outputs": [],
   "source": [
    "from queue import Queue"
   ]
  },
  {
   "cell_type": "code",
   "execution_count": null,
   "id": "9ef34564-9d1a-40a6-8c61-01c4ecae2dfc",
   "metadata": {},
   "outputs": [],
   "source": [
    "q = Queue()"
   ]
  },
  {
   "cell_type": "code",
   "execution_count": null,
   "id": "f0cc310c-cab4-473b-a6c3-2d642390960b",
   "metadata": {},
   "outputs": [],
   "source": [
    "for x in xs:\n",
    "    q.put(x)"
   ]
  },
  {
   "cell_type": "code",
   "execution_count": null,
   "id": "d3d4afe1-1796-4fd7-b00f-aaac4ff462a8",
   "metadata": {},
   "outputs": [],
   "source": [
    "F_11\n",
    "F12, F21\n",
    "F13, F22, F31"
   ]
  },
  {
   "cell_type": "code",
   "execution_count": null,
   "id": "ea02b654-01ab-4de2-bee0-cf3bc4a2fbfa",
   "metadata": {},
   "outputs": [],
   "source": [
    "F11\n",
    "F12, F21\n",
    "F13, F22, F31"
   ]
  },
  {
   "cell_type": "markdown",
   "id": "b5362071-f857-49e4-929e-f8a553cfaf8f",
   "metadata": {},
   "source": [
    "### ML Engineering"
   ]
  },
  {
   "cell_type": "code",
   "execution_count": null,
   "id": "5754c8c3-8db9-4a27-a0e9-4c5eec4dd65b",
   "metadata": {},
   "outputs": [],
   "source": [
    "from dataclasses import field"
   ]
  },
  {
   "cell_type": "code",
   "execution_count": null,
   "id": "6a7969ec-19f8-4297-ac42-0b1af915ccd1",
   "metadata": {},
   "outputs": [],
   "source": [
    "import threading"
   ]
  },
  {
   "cell_type": "code",
   "execution_count": null,
   "id": "85af442d-fae3-4103-b700-c89db6e0dffe",
   "metadata": {},
   "outputs": [],
   "source": [
    "lock = threading.Lock()"
   ]
  },
  {
   "cell_type": "code",
   "execution_count": null,
   "id": "1890470d-3cab-4b46-a5b7-d8fc00c9ec55",
   "metadata": {},
   "outputs": [],
   "source": [
    "def target():\n",
    "    with lock:\n",
    "        increment_counter()"
   ]
  },
  {
   "cell_type": "code",
   "execution_count": null,
   "id": "12c117b3-3247-4463-8c72-6d20a246af0b",
   "metadata": {},
   "outputs": [],
   "source": [
    "for i in range(3):\n",
    "    thread = threading.Thread(target)\n",
    "    thread.start()"
   ]
  },
  {
   "cell_type": "code",
   "execution_count": null,
   "id": "4238443a-752a-4923-8de2-c3cdaae77bb6",
   "metadata": {},
   "outputs": [],
   "source": [
    "from pydantic import BaseModel, validator"
   ]
  },
  {
   "cell_type": "code",
   "execution_count": null,
   "id": "eb133e8d-33cf-4e28-bdcd-89b2dc5d2050",
   "metadata": {},
   "outputs": [],
   "source": [
    "class User(BaseModel):\n",
    "    user_id: int\n",
    "    username: str\n",
    "    \n",
    "    @validator\n",
    "    def username_valid"
   ]
  },
  {
   "cell_type": "code",
   "execution_count": null,
   "id": "49ec9954-4c62-416f-87c2-2ab4fc14163f",
   "metadata": {},
   "outputs": [],
   "source": [
    "from metaflow import Parameter"
   ]
  },
  {
   "cell_type": "code",
   "execution_count": null,
   "id": "d4056988-64b5-437f-92fd-2d2667e39304",
   "metadata": {},
   "outputs": [],
   "source": [
    "from metaflow import FlowSpec, step, schedule"
   ]
  },
  {
   "cell_type": "code",
   "execution_count": null,
   "id": "d2097b6c-dddc-4e95-8a53-ec150b35ffc6",
   "metadata": {},
   "outputs": [],
   "source": [
    "@schedule(daily=True)\n",
    "class HelloFlow(FlowSpec):\n",
    "    @step\n",
    "    def start(self):\n",
    "        self.next(self.print)\n",
    "    \n",
    "    @step\n",
    "    def print(self):\n",
    "        print(69)\n",
    "        self.next(self.end)\n",
    "    \n",
    "    @step\n",
    "    def end(self): pass"
   ]
  },
  {
   "cell_type": "code",
   "execution_count": null,
   "id": "7be74b0d-1dfb-43d0-859e-8f653daccfc3",
   "metadata": {},
   "outputs": [],
   "source": [
    "region > vpc > available zone > subnet > resource"
   ]
  },
  {
   "cell_type": "code",
   "execution_count": null,
   "id": "99331a21-e4b2-45a2-814e-fa531a32894f",
   "metadata": {},
   "outputs": [],
   "source": [
    "from metaflow import FlowSpec, conda, step"
   ]
  },
  {
   "cell_type": "code",
   "execution_count": null,
   "id": "e992e4b7-1420-406d-baef-ded1451ca0c7",
   "metadata": {},
   "outputs": [],
   "source": [
    "class TrainingFlow(FlowSpec):\n",
    "    @step\n",
    "    def start(self):\n",
    "        self.next(self.train)\n",
    "    \n",
    "    @conda(python=\"3.11.0\", libraries={\"pytorch\": \"2.0.0\"})\n",
    "    @step\n",
    "    def train(self):\n",
    "        train()\n",
    "        self.next(self.end)\n",
    "    \n",
    "    @step\n",
    "    def end(self): pass"
   ]
  },
  {
   "cell_type": "code",
   "execution_count": null,
   "id": "e7dfbdd4-8bb9-4c28-ae44-92ea5069b225",
   "metadata": {},
   "outputs": [],
   "source": [
    "from metaflow import FlowSpec, step"
   ]
  },
  {
   "cell_type": "code",
   "execution_count": null,
   "id": "ae458fad-858e-443b-98a0-7b5c1ac21c90",
   "metadata": {},
   "outputs": [],
   "source": [
    "class TrainingFlow(FlowSpec):\n",
    "    @step\n",
    "    def start(self):\n",
    "        self.next(self.train, self.eval)\n",
    "    \n",
    "    @step\n",
    "    def train(self):\n",
    "        print(\"training...\")\n",
    "        self.next(self.join)\n",
    "    \n",
    "    @step\n",
    "    def eval(self):\n",
    "        print(\"evaluting...\")\n",
    "        self.next(self.join)\n",
    "    \n",
    "    @step\n",
    "    def join(self, inputs):\n",
    "        self.next(self.end)\n",
    "    \n",
    "    @step\n",
    "    def end(self): pass"
   ]
  },
  {
   "cell_type": "code",
   "execution_count": null,
   "id": "fb7e340a-19df-45e9-b7af-35cc70c07190",
   "metadata": {},
   "outputs": [],
   "source": [
    "class CountFlow(FlowSpec):\n",
    "    @step\n",
    "    def start(self):\n",
    "        self.words = words\n",
    "        self.next(self.count, foreach=\"words\")\n",
    "    \n",
    "    @step\n",
    "    def count(self):\n",
    "        self.length = len(self.input)\n",
    "        self.next(self.join)\n",
    "    \n",
    "    @step\n",
    "    def join(self, inputs):\n",
    "        max = []"
   ]
  },
  {
   "cell_type": "code",
   "execution_count": null,
   "id": "e0ea016f-a785-47f6-be02-dd686b35d8c2",
   "metadata": {},
   "outputs": [],
   "source": [
    "from typing import Protocol"
   ]
  },
  {
   "cell_type": "code",
   "execution_count": null,
   "id": "14b35757-784d-4398-8c88-d76a4f4cfea2",
   "metadata": {},
   "outputs": [],
   "source": [
    "class Splitable(Protocol):\n",
    "    name: str\n",
    "    cost: int\n",
    "    \n",
    "    def split_in_half(self): pass"
   ]
  },
  {
   "cell_type": "code",
   "execution_count": null,
   "id": "84e71b49-35a5-4eb4-9452-faeab95a82bb",
   "metadata": {},
   "outputs": [],
   "source": [
    "class User(BaseModel):\n",
    "    user_id: int\n",
    "    username: str\n",
    "    \n",
    "    @validator(\"username\")\n",
    "    def capitalize_username(cls, value):\n",
    "        return value.upper()"
   ]
  },
  {
   "cell_type": "markdown",
   "id": "e72f6615-1c1e-463d-802e-d39cd365f3c4",
   "metadata": {},
   "source": [
    "### Sci"
   ]
  },
  {
   "cell_type": "markdown",
   "id": "a0addaab-ddd3-4eca-8ff6-5109e61e1bc6",
   "metadata": {},
   "source": [
    "### MechInterp"
   ]
  },
  {
   "cell_type": "code",
   "execution_count": null,
   "id": "bc5c5bdf-fabf-45ad-b11b-bceae8bff630",
   "metadata": {},
   "outputs": [],
   "source": [
    "cache.ln_final"
   ]
  },
  {
   "cell_type": "code",
   "execution_count": null,
   "id": "8cfced10-095d-43c9-8692-e4e3dc3da59d",
   "metadata": {},
   "outputs": [],
   "source": [
    "correct_residual_direction = unembedding[:, correct_token]\n",
    "incorrect_residual_direction = unembedding[:, incorrect_token]"
   ]
  },
  {
   "cell_type": "code",
   "execution_count": null,
   "id": "5ca96459-fd5e-44db-8396-3a4878c39d13",
   "metadata": {},
   "outputs": [],
   "source": []
  },
  {
   "cell_type": "code",
   "execution_count": null,
   "id": "78841ad9-8a4f-4d95-a6c0-fb4d1d2e9899",
   "metadata": {},
   "outputs": [],
   "source": [
    "embeddings = model.embed(tokens) + model.pos_embed(tokens)"
   ]
  },
  {
   "cell_type": "code",
   "execution_count": null,
   "id": "aae87dc4-cf7d-4b25-9f73-34610a2a103f",
   "metadata": {},
   "outputs": [],
   "source": [
    "residual = embeddings"
   ]
  },
  {
   "cell_type": "code",
   "execution_count": null,
   "id": "8ebdfa2f-cbb6-49f4-8ccb-b4cfd40f7a5b",
   "metadata": {},
   "outputs": [],
   "source": [
    "for block in model.block:\n",
    "    residual = block(residual)"
   ]
  },
  {
   "cell_type": "code",
   "execution_count": null,
   "id": "40c9970b-8a24-4bbc-8816-f35e26c12ba3",
   "metadata": {},
   "outputs": [],
   "source": [
    "logit = model.unembed(model.ln_final(residual))"
   ]
  },
  {
   "cell_type": "code",
   "execution_count": null,
   "id": "abc063ff-36f9-41be-a3e2-59dd603ac145",
   "metadata": {},
   "outputs": [],
   "source": [
    "correct_residual_direction = model.tokens_to_residual_directions()"
   ]
  },
  {
   "cell_type": "code",
   "execution_count": null,
   "id": "72ccd28c-2291-40ab-aacf-fe2f95daf8f4",
   "metadata": {},
   "outputs": [],
   "source": [
    "model.W_E"
   ]
  },
  {
   "cell_type": "code",
   "execution_count": null,
   "id": "5acf2615-61af-4674-9f9b-fefab8796d4e",
   "metadata": {},
   "outputs": [],
   "source": [
    "components = []"
   ]
  },
  {
   "cell_type": "code",
   "execution_count": null,
   "id": "3d899c75-b5a0-4539-9204-03ef1b0fcccd",
   "metadata": {},
   "outputs": [],
   "source": [
    "text_embeddings = cache[\"hook_embed\"]\n",
    "positional_embeddings = cache[\"hook_pos_embed\"]"
   ]
  },
  {
   "cell_type": "code",
   "execution_count": null,
   "id": "8f2c0830-3351-4c12-8225-25d1ad1a9745",
   "metadata": {},
   "outputs": [],
   "source": [
    "components.append(text_embeddings)\n",
    "components.append(positional_embeddings)"
   ]
  },
  {
   "cell_type": "code",
   "execution_count": null,
   "id": "ee905912-08e6-48df-b70e-f259e24bddf9",
   "metadata": {},
   "outputs": [],
   "source": [
    "text_embeddings = cache[\"hook_embed\"]\n",
    "positional_embeddings = cache[\"hook_pos_embed\"]"
   ]
  },
  {
   "cell_type": "code",
   "execution_count": null,
   "id": "f36a5306-72d3-4522-b082-11adda943159",
   "metadata": {},
   "outputs": [],
   "source": [
    "components = []"
   ]
  },
  {
   "cell_type": "code",
   "execution_count": null,
   "id": "22c5957b-b75e-448c-ba85-f858b5400fbb",
   "metadata": {},
   "outputs": [],
   "source": [
    "components.append(text_embeddings)\n",
    "components.append(positional_embeddings)"
   ]
  },
  {
   "cell_type": "code",
   "execution_count": null,
   "id": "aebfd7f5-09dc-4286-be69-9f2c3842f874",
   "metadata": {},
   "outputs": [],
   "source": [
    "n_layers = 3"
   ]
  },
  {
   "cell_type": "code",
   "execution_count": null,
   "id": "e53210fc-c078-4a3f-bd56-9f70908c5c42",
   "metadata": {},
   "outputs": [],
   "source": [
    "import torch\n",
    "from torch import nn\n",
    "import torch.nn.functional as F"
   ]
  },
  {
   "cell_type": "code",
   "execution_count": null,
   "id": "8e00a600-2793-476f-84d5-870e155de416",
   "metadata": {},
   "outputs": [],
   "source": [
    "from transformer_lens.utils import get_act_name"
   ]
  },
  {
   "cell_type": "code",
   "execution_count": null,
   "id": "2c1c9765-e9f0-4ca6-8bd8-885dce633475",
   "metadata": {},
   "outputs": [],
   "source": [
    "for layer in range(n_layers):\n",
    "    attn_name = get_act_name(\"attn_out\", layer)\n",
    "    mlp_name = get_act_name(\"mlp_out\", layer)"
   ]
  },
  {
   "cell_type": "code",
   "execution_count": null,
   "id": "bdf66309-f216-4973-99c2-d7a855b5c6f6",
   "metadata": {},
   "outputs": [],
   "source": [
    "def func(params):\n",
    "    return {\n",
    "    \"sentence\"\n",
    "    }"
   ]
  },
  {
   "cell_type": "code",
   "execution_count": null,
   "id": "14c7bda3-196a-484b-adc8-97cada126072",
   "metadata": {},
   "outputs": [],
   "source": [
    "tokenzied_dataset = small_dataset"
   ]
  },
  {
   "cell_type": "code",
   "execution_count": null,
   "id": "c966f787-99ae-45d1-b48a-62ada610ae62",
   "metadata": {},
   "outputs": [],
   "source": [
    "class MultiplyConstant(torch.autograd.Function):\n",
    "    @staticmethod\n",
    "    def forward(ctx, input):\n",
    "        return input\n",
    "    \n",
    "    @staticmethod\n",
    "    def backward(ctx, grad_output):\n",
    "        return grad_output + 1"
   ]
  },
  {
   "cell_type": "code",
   "execution_count": null,
   "id": "8cd7ba5f-6e55-4f28-8f1e-575626e97791",
   "metadata": {},
   "outputs": [],
   "source": [
    "from einops import einsum"
   ]
  },
  {
   "cell_type": "code",
   "execution_count": null,
   "id": "fe21174b-97aa-43a6-b087-eeb9e7de6b14",
   "metadata": {},
   "outputs": [],
   "source": [
    "einsum(x, y, \"batch dim, batch dim ->\")"
   ]
  },
  {
   "cell_type": "code",
   "execution_count": null,
   "id": "a1681213-dd65-4a15-ba08-15c938dcb09d",
   "metadata": {},
   "outputs": [],
   "source": [
    "import torch"
   ]
  },
  {
   "cell_type": "code",
   "execution_count": null,
   "id": "3ee748ba-b87c-4cd7-ae67-516aa5653fb1",
   "metadata": {},
   "outputs": [],
   "source": [
    "stream1 = torch.cuda.Stream()\n",
    "stream2 = torch.cuda.Stream()"
   ]
  },
  {
   "cell_type": "code",
   "execution_count": null,
   "id": "d2c70189-2a70-4a45-80d1-e0ba4b7c65a5",
   "metadata": {},
   "outputs": [],
   "source": [
    "with torch.cuda.stream(stream1):\n",
    "    x_mean = x.mean()\n",
    "\n",
    "with torch.cuda.stream(stream2):\n",
    "    y_mean = y.mean()"
   ]
  },
  {
   "cell_type": "code",
   "execution_count": null,
   "id": "2c69df42-0f81-4fe4-a69b-d2753b4b2abf",
   "metadata": {},
   "outputs": [],
   "source": [
    "class PositionWiseFeedForward(nn.Module):\n",
    "    def __init__(self, d_model, d_ff, dropout):\n",
    "        super().__init__()\n",
    "        self.net = nn.Sequential(\n",
    "            nn.Linear(d_model, d_ff),\n",
    "            nn.ReLU(),\n",
    "            nn.Dropout(dropout),\n",
    "            nn.Linear(d_ff, d_model)\n",
    "        )\n",
    "    \n",
    "    def forward(self, x):\n",
    "        return self.next(x)"
   ]
  },
  {
   "cell_type": "code",
   "execution_count": null,
   "id": "ce92fd24-f706-455f-bce0-4ae0b1f49e60",
   "metadata": {},
   "outputs": [],
   "source": [
    "from ray.tune import uniform"
   ]
  },
  {
   "cell_type": "code",
   "execution_count": null,
   "id": "3a9e5753-7a61-4967-849f-7ed325e94099",
   "metadata": {},
   "outputs": [],
   "source": [
    "from einops import rearrange"
   ]
  },
  {
   "cell_type": "code",
   "execution_count": null,
   "id": "424c44b6-ad49-4e0e-95ab-7f875ff64de5",
   "metadata": {},
   "outputs": [],
   "source": [
    "rearrange(images, \"b c (n_h p_h) (n_w p_w) -> b (n_h n_w) (p_h p_w c)\")"
   ]
  },
  {
   "cell_type": "code",
   "execution_count": null,
   "id": "961989c2-1ff4-4ce1-8fe5-22a94d33c42c",
   "metadata": {},
   "outputs": [],
   "source": [
    "tokenizer.add_special_tokens(SPECIAL_TOKENS)"
   ]
  },
  {
   "cell_type": "code",
   "execution_count": null,
   "id": "c946a139-a369-4ea3-a391-a0588d3d76c7",
   "metadata": {},
   "outputs": [],
   "source": [
    "model.resize_token_embedding(len(tokenizer))"
   ]
  },
  {
   "cell_type": "code",
   "execution_count": null,
   "id": "7ac183de-75b1-47a9-abce-8b3d7116124c",
   "metadata": {},
   "outputs": [],
   "source": [
    "for param in model.parameters():\n",
    "    param.requires_grad = False"
   ]
  },
  {
   "cell_type": "code",
   "execution_count": null,
   "id": "16f68f78-bc7a-4ad3-8414-ac0bb427eadd",
   "metadata": {},
   "outputs": [],
   "source": [
    "for i, block in enumerate(model.blocks):\n",
    "    if i >= 6:\n",
    "        for param in block.parameters():\n",
    "            param.requires_grad = True"
   ]
  },
  {
   "cell_type": "code",
   "execution_count": null,
   "id": "36addcf0-b5ec-4f10-928c-5f02acb1d2ad",
   "metadata": {},
   "outputs": [],
   "source": [
    "for param in model.ln_final.parameters():\n",
    "    param.requires_grad = True\n",
    "\n",
    "for param in model.lm_head.parameters():\n",
    "    param.requires_grad = True"
   ]
  }
 ],
 "metadata": {
  "kernelspec": {
   "display_name": "Python 3 (ipykernel)",
   "language": "python",
   "name": "python3"
  }
 },
 "nbformat": 4,
 "nbformat_minor": 5
}
