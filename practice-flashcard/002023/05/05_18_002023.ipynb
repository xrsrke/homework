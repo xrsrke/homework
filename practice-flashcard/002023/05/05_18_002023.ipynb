{
 "cells": [
  {
   "cell_type": "markdown",
   "id": "f2aca553-abff-4d06-b2a4-6ca28d349468",
   "metadata": {},
   "source": [
    "### Engineering"
   ]
  },
  {
   "cell_type": "code",
   "execution_count": null,
   "id": "e85ac47d-fc7a-422b-82e6-9408f13db274",
   "metadata": {},
   "outputs": [],
   "source": [
    "import torch\n",
    "from torch import nn\n",
    "import torch.nn.functional as F"
   ]
  },
  {
   "cell_type": "code",
   "execution_count": null,
   "id": "881b83a6-1ab1-406c-a46e-a2851bd05123",
   "metadata": {},
   "outputs": [],
   "source": [
    "world_size = 16"
   ]
  },
  {
   "cell_type": "code",
   "execution_count": null,
   "id": "62a558e4-e506-4d21-b192-931f38c5258e",
   "metadata": {},
   "outputs": [],
   "source": [
    "num_gpus = 4"
   ]
  },
  {
   "cell_type": "code",
   "execution_count": null,
   "id": "7cd7d50a-c312-41d5-ad9a-ee09ad30f586",
   "metadata": {},
   "outputs": [],
   "source": [
    "process_to_gpu = []"
   ]
  },
  {
   "cell_type": "code",
   "execution_count": null,
   "id": "d9d6fa3c-17b5-4b3b-990a-578d9d3945d6",
   "metadata": {},
   "outputs": [],
   "source": [
    "for rank in range(world_size):\n",
    "    process_to_gpu.append(rank % num_gpus)"
   ]
  },
  {
   "cell_type": "code",
   "execution_count": null,
   "id": "dfa94755-2241-49c6-b48f-dff6e1e3fb8b",
   "metadata": {},
   "outputs": [
    {
     "data": {
      "text/plain": [
       "[0, 1, 2, 3, 0, 1, 2, 3, 0, 1, 2, 3, 0, 1, 2, 3]"
      ]
     },
     "execution_count": null,
     "metadata": {},
     "output_type": "execute_result"
    }
   ],
   "source": [
    "process_to_gpu"
   ]
  },
  {
   "cell_type": "code",
   "execution_count": null,
   "id": "8782144d-6089-4446-8427-4010e97f3f86",
   "metadata": {},
   "outputs": [],
   "source": [
    "sorted_param = sorted(\n",
    "    param_list,\n",
    "    key=lambda x: x.numel(),\n",
    "    reverse=True\n",
    ")"
   ]
  },
  {
   "cell_type": "code",
   "execution_count": null,
   "id": "d5368cfb-960a-447a-a6d6-31564ee11782",
   "metadata": {},
   "outputs": [],
   "source": [
    "numel_per_rank = [0 for _ in range(world_size)]\n",
    "param_per_rank = [[] for _ in range(world_size)]"
   ]
  },
  {
   "cell_type": "code",
   "execution_count": null,
   "id": "d38d66cf-9596-4e96-9954-f0a49542f479",
   "metadata": {},
   "outputs": [],
   "source": [
    "for param in sorted_param:\n",
    "    next_rank = numel_per_rank.index(min(numel_per_rank))\n",
    "    param_per_rank[next_rank].append(param)\n",
    "    numel_per_rank[next_rank] += param"
   ]
  },
  {
   "cell_type": "code",
   "execution_count": null,
   "id": "365d6ad3-0936-442e-bafd-8087250cd384",
   "metadata": {},
   "outputs": [],
   "source": [
    "class RowParallelLinear(nn.Module):\n",
    "    def __init__(self, input_size, output_size):\n",
    "        super().__init__()\n",
    "        \n",
    "        world_size = torch.distributed.get_world_size()\n",
    "        self.input_size_per_partrition = input_size // world_size\n",
    "        self.output_size = output_size\n",
    "        \n",
    "        self.weight = nn.Parameter(torch.empty(\n",
    "            self.output_size,\n",
    "            self.input_size_per_partrition\n",
    "        ))\n",
    "        \n",
    "        self.bias = nn.Parameter(torch.empty(\n",
    "            self.output_size\n",
    "        ))\n",
    "        \n",
    "    def forward(self, input):\n",
    "        world_size = torch.distributed.get_world_size()\n",
    "        rank = torch.distributed.get_rank()\n",
    "        \n",
    "        dim_size = input.shape[-1]\n",
    "        dim_size_per_partrition = dim_size // world_size\n",
    "        input_chunks = torch.split(\n",
    "            input,\n",
    "            split_size_or_sections=dim_size_per_partrition,\n",
    "            dim=-1\n",
    "        )\n",
    "        input_parallel = input_chunks[rank]\n",
    "        \n",
    "        output_parallel = F.linear(input_parallel, self.weight, self.bias)\n",
    "        \n",
    "        torch.distributed.all_reduce(output_parallel)\n",
    "        \n",
    "        return output_parallel"
   ]
  },
  {
   "cell_type": "code",
   "execution_count": null,
   "id": "9c74238c-8cef-4b39-810d-480deb3b0dc6",
   "metadata": {},
   "outputs": [],
   "source": [
    "for i in range(pipeline_model_parallel_size):\n",
    "    start_rank = i*num_pipeline_model_parallel_groups\n",
    "    end_rank = (i+1)*num_pipeline_model_parallel_groups\n",
    "    \n",
    "    for j in range(tensor_model_parallel_size):\n",
    "        ranks = list(range(start_rnak+j, end_rank, tensor_model_paralle_size))"
   ]
  },
  {
   "cell_type": "code",
   "execution_count": null,
   "id": "206ac6b5-9a16-4e29-997a-2366ab203659",
   "metadata": {},
   "outputs": [],
   "source": [
    "parameters, forward pass, optimizer"
   ]
  },
  {
   "cell_type": "code",
   "execution_count": null,
   "id": "fcf78f5e-a069-4b1a-ae40-d5efe2629324",
   "metadata": {},
   "outputs": [],
   "source": [
    "register < cached memory < main memory <  hard drive < backup"
   ]
  },
  {
   "cell_type": "code",
   "execution_count": null,
   "id": "1a2ba603-daae-4df3-94e3-c886d7e522f6",
   "metadata": {},
   "outputs": [],
   "source": [
    "for i in range(pipeline_model_parallel_size):\n",
    "    start_rank = i*pipeline_model_parallel_size\n",
    "    end_rank = (i+1)*pipeline_model_parallel_size\n",
    "    \n",
    "    for j in range(tensor_model_parallel_size):\n",
    "        ranks = list(range(\n",
    "            start_rank+j,\n",
    "            end_rank,\n",
    "            tensor_model_parallel_size\n",
    "        ))"
   ]
  },
  {
   "cell_type": "markdown",
   "id": "c5c04c79-5946-444f-86d3-327963a2a811",
   "metadata": {},
   "source": [
    "### ML Engineering"
   ]
  },
  {
   "cell_type": "code",
   "execution_count": null,
   "id": "1af99649-fb16-4ff9-b7ca-fd4ee4afc0ed",
   "metadata": {},
   "outputs": [],
   "source": [
    "from metaflow import FlowSpec, step, profile"
   ]
  },
  {
   "cell_type": "code",
   "execution_count": null,
   "id": "bddd1287-3b62-4d2b-ad4f-20f26d98ec5e",
   "metadata": {},
   "outputs": [],
   "source": [
    "@project(name=\"project_69\")\n",
    "class TrainFlow(FlowSpec):\n",
    "    @step\n",
    "    def start(self):\n",
    "        self.next(self.train)\n",
    "    \n",
    "    @step\n",
    "    def train(self):\n",
    "        train()\n",
    "    \n",
    "    @step\n",
    "    def end(self):\n",
    "        pass"
   ]
  },
  {
   "cell_type": "code",
   "execution_count": null,
   "id": "f380f39a-c6e2-43f6-b1aa-26a0d1861ea2",
   "metadata": {},
   "outputs": [],
   "source": [
    "from functools import reduce"
   ]
  },
  {
   "cell_type": "code",
   "execution_count": null,
   "id": "b487fcb5-fce1-4dad-adcd-b081d2b963ac",
   "metadata": {},
   "outputs": [],
   "source": [
    "reduce(lambda x, y: x + y, numbers)"
   ]
  },
  {
   "cell_type": "code",
   "execution_count": null,
   "id": "502e1b2a-26f5-4d08-bd2b-7dcecfb2ef71",
   "metadata": {},
   "outputs": [],
   "source": [
    "region > vpc > az > subnet > resource"
   ]
  },
  {
   "cell_type": "markdown",
   "id": "eed3fccf-0f41-49df-9c37-4e2147969288",
   "metadata": {},
   "source": [
    "### MechInterp"
   ]
  },
  {
   "cell_type": "code",
   "execution_count": null,
   "id": "b52e8a37-32ef-4c47-9023-450748b9919b",
   "metadata": {},
   "outputs": [],
   "source": [
    "import pysvelte"
   ]
  },
  {
   "cell_type": "code",
   "execution_count": null,
   "id": "f1bc9ad8-7a04-4cd8-9768-17d147d4e5ba",
   "metadata": {},
   "outputs": [],
   "source": [
    "induction_heads = [(6, 9), (4, 2)]"
   ]
  },
  {
   "cell_type": "code",
   "execution_count": null,
   "id": "1cd36053-4024-4e97-9e9c-458e32cf395a",
   "metadata": {},
   "outputs": [],
   "source": [
    "from transformer_lens.utils import get_act_name"
   ]
  },
  {
   "cell_type": "code",
   "execution_count": null,
   "id": "b791db9d-cfef-4ef7-b415-2a89c022be0e",
   "metadata": {},
   "outputs": [],
   "source": [
    "attn_patterns = []"
   ]
  },
  {
   "cell_type": "code",
   "execution_count": null,
   "id": "23e74e37-22c2-4fab-ba6c-928c8285a0a6",
   "metadata": {},
   "outputs": [],
   "source": [
    "repeated_logits, repeated_activations = model.to_tokens(repeated_text)"
   ]
  },
  {
   "cell_type": "code",
   "execution_count": null,
   "id": "077a38da-00e9-45b5-be9b-5755d6cbcd1a",
   "metadata": {},
   "outputs": [],
   "source": [
    "batch_idx = 0"
   ]
  },
  {
   "cell_type": "code",
   "execution_count": null,
   "id": "2a64737f-6504-447a-900a-bc400edb99c8",
   "metadata": {},
   "outputs": [],
   "source": [
    "for head_idx, layer_idx in induction_heads:\n",
    "    hook_name = get_act_name(\"attn\", layer_idx)\n",
    "    attn_patterns.append(repeated_activations[hook_name][batch_idx, head_idx])"
   ]
  },
  {
   "cell_type": "code",
   "execution_count": null,
   "id": "24c08b8a-ef92-4078-878b-e4518a9d6fed",
   "metadata": {},
   "outputs": [],
   "source": []
  },
  {
   "cell_type": "code",
   "execution_count": null,
   "id": "310a5125-e660-444d-a280-83c748e21af4",
   "metadata": {},
   "outputs": [],
   "source": [
    "act_head = activations[1, 2]"
   ]
  },
  {
   "cell_type": "code",
   "execution_count": null,
   "id": "30fc5396-788a-4499-ab92-aead81711c6f",
   "metadata": {},
   "outputs": [],
   "source": [
    "cache[act_name]"
   ]
  },
  {
   "cell_type": "code",
   "execution_count": null,
   "id": "cb8e9136-d175-4686-8c8a-e967d533b5f6",
   "metadata": {},
   "outputs": [],
   "source": [
    "correct_direction = unembedding[:, correct_token]\n",
    "incorrect_direction = unembedding[:, incorrect_token]"
   ]
  },
  {
   "cell_type": "code",
   "execution_count": null,
   "id": "2a74b5f1-714d-4638-bf0c-728cd65d611c",
   "metadata": {},
   "outputs": [],
   "source": [
    "text_embeddings = model.embed(tokens)\n",
    "positional_embeddings = model.pos_embed(tokens)"
   ]
  },
  {
   "cell_type": "code",
   "execution_count": null,
   "id": "2e4695e1-240d-45ed-86ee-690e7a6e9667",
   "metadata": {},
   "outputs": [],
   "source": [
    "embeddings = text_embeddings + positional_embeddngs"
   ]
  },
  {
   "cell_type": "code",
   "execution_count": null,
   "id": "7798feda-4df3-4837-a827-be889a44de4c",
   "metadata": {},
   "outputs": [],
   "source": [
    "residual = embeddings"
   ]
  },
  {
   "cell_type": "code",
   "execution_count": null,
   "id": "d483927d-ede0-4cb7-a154-2d77aca0836a",
   "metadata": {},
   "outputs": [],
   "source": [
    "for block in model.blocks:\n",
    "    residual = block(residual)"
   ]
  },
  {
   "cell_type": "code",
   "execution_count": null,
   "id": "726d127a-423d-4d6d-9807-967e10da647d",
   "metadata": {},
   "outputs": [],
   "source": [
    "residual = model.ln_final(residual)"
   ]
  },
  {
   "cell_type": "code",
   "execution_count": null,
   "id": "3b12c77e-c0e9-4659-a2b5-c601603f32be",
   "metadata": {},
   "outputs": [],
   "source": [
    "loigts = model.unembed(residual)"
   ]
  },
  {
   "cell_type": "markdown",
   "id": "23e4e25e-0fe2-4d31-aaf7-598554325c37",
   "metadata": {},
   "source": [
    "### AI"
   ]
  },
  {
   "cell_type": "code",
   "execution_count": null,
   "id": "5be493c7-e4b1-4276-83a1-32bf31d71ac9",
   "metadata": {},
   "outputs": [],
   "source": [
    "import torch\n",
    "from torch import nn\n",
    "import torch.nn.functional as F"
   ]
  },
  {
   "cell_type": "code",
   "execution_count": null,
   "id": "92899d68-e94b-4aa2-8598-617fe26dc651",
   "metadata": {},
   "outputs": [],
   "source": [
    "ray.wait()"
   ]
  },
  {
   "cell_type": "code",
   "execution_count": null,
   "id": "2c8bfc9c-b73b-465c-802f-416182c506d2",
   "metadata": {},
   "outputs": [],
   "source": [
    "cuda = torch.cuda.Stream(device=device)"
   ]
  },
  {
   "cell_type": "code",
   "execution_count": null,
   "id": "6c4f8aa0-9c70-4d0c-87b6-8a810fc9efc4",
   "metadata": {},
   "outputs": [],
   "source": [
    "with torch.cuda.device(device):\n",
    "    with torch.cuda.stream(stream):\n",
    "        mean = xs.mean(dim=-1)"
   ]
  },
  {
   "cell_type": "code",
   "execution_count": null,
   "id": "cce973dc-b745-4a53-95ce-b219c02fb83b",
   "metadata": {},
   "outputs": [],
   "source": [
    "nn.Flatten(start_dim=1, end_dim=3)"
   ]
  },
  {
   "cell_type": "code",
   "execution_count": null,
   "id": "91ea1f7b-8137-4947-bf65-628316525e06",
   "metadata": {},
   "outputs": [],
   "source": [
    "rref.local_value()"
   ]
  },
  {
   "cell_type": "code",
   "execution_count": null,
   "id": "e61e371b-1822-46f0-9d1c-29c66f16731f",
   "metadata": {},
   "outputs": [],
   "source": [
    "class EncoderLayer(nn.Module):\n",
    "    def __init__(self, d_model, n_heads, d_ff, dropout):\n",
    "        super().__init__()\n",
    "        self.mha = MultiHeadAttention(\n",
    "            d_model, n_heads\n",
    "        )\n",
    "        self.norm_1 = ResidualLayerNorm(d_model, dropout)\n",
    "        self.norm_2 = ResidualLayerNorm(d_model, dropout)\n",
    "        self.feed_forward = PositionWiseFeedForward(\n",
    "            d_model, d_ff, dropout\n",
    "        )\n",
    "    \n",
    "    def forward(self, embeddings):\n",
    "        mha_output, mha_attn = self.mha(embeddings)\n",
    "        norm_1 = self.norm_1(mha_output, embeddings)\n",
    "        feed_forward = self.feed_forward(norm_1)\n",
    "        norm_2 = self.norm_2(feed_forward, norm_1)\n",
    "        return norm_2"
   ]
  },
  {
   "cell_type": "code",
   "execution_count": null,
   "id": "de014c57-324f-4457-9ec5-a134ffa3d6af",
   "metadata": {},
   "outputs": [],
   "source": [
    "def probability_scores(image_embeddings, text_embeddings):\n",
    "    image_norm = image_embeddings.norm()\n",
    "    image_embeddings = image_embeddings / image_norm\n",
    "    \n",
    "    text_norm = text_embeddings.norm()\n",
    "    text_embeddings = text_embeddings / text_norm\n",
    "    \n",
    "    similarities = image_norm @ text_norm.T\n",
    "    probs = F.softmax(similarities, dim=-1)"
   ]
  }
 ],
 "metadata": {
  "kernelspec": {
   "display_name": "Python 3 (ipykernel)",
   "language": "python",
   "name": "python3"
  }
 },
 "nbformat": 4,
 "nbformat_minor": 5
}
