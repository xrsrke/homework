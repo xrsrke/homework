{
 "cells": [
  {
   "cell_type": "markdown",
   "id": "2f14a5ed-e1a4-467e-92d4-3b910c35fbd7",
   "metadata": {},
   "source": [
    "### Engineering"
   ]
  },
  {
   "cell_type": "code",
   "execution_count": null,
   "id": "4ce1db36-31ec-4e6e-9d98-3f31391ac588",
   "metadata": {},
   "outputs": [],
   "source": [
    "import torch\n",
    "from torch import nn\n",
    "import torch.nn.functional as F"
   ]
  },
  {
   "cell_type": "code",
   "execution_count": null,
   "id": "c609bfa0-34f7-4d90-a1fc-2a5bd1f8065c",
   "metadata": {},
   "outputs": [],
   "source": [
    "step 1: scale the loss\n",
    "step 2: compute the gradient of the scaled loss\n",
    "step 3: unsale the gradient\n",
    "step 4: update the param with respect to the unscaled gradient"
   ]
  },
  {
   "cell_type": "code",
   "execution_count": null,
   "id": "242171e1-0f64-47e7-9f32-e67ec98127d9",
   "metadata": {},
   "outputs": [],
   "source": [
    "world_size / num_gpus_for_each_model"
   ]
  },
  {
   "cell_type": "code",
   "execution_count": null,
   "id": "f054dd26-7662-414b-898b-8f981332e545",
   "metadata": {},
   "outputs": [],
   "source": [
    "world_size = 16"
   ]
  },
  {
   "cell_type": "code",
   "execution_count": null,
   "id": "83e48e4e-7349-49e7-a150-f452f1bb1cb3",
   "metadata": {},
   "outputs": [],
   "source": [
    "numel_per_rank = [0 for _ in range(world_size)]"
   ]
  },
  {
   "cell_type": "code",
   "execution_count": null,
   "id": "895d2cdf-0b40-431d-b4aa-ac81aee04736",
   "metadata": {},
   "outputs": [],
   "source": [
    "param_per_rank = [[] for _ in range(world_size)]"
   ]
  },
  {
   "cell_type": "code",
   "execution_count": null,
   "id": "cbaaadc8-8d35-4283-9430-aa3e58e9f131",
   "metadata": {},
   "outputs": [],
   "source": [
    "sorted_param_list = sorted(param_list, key=lambda x: x.numel(), reverse=True)"
   ]
  },
  {
   "cell_type": "code",
   "execution_count": null,
   "id": "55a76da9-da93-4170-a7ae-acb46b2dab4d",
   "metadata": {},
   "outputs": [],
   "source": [
    "for param in sorted_param_list:\n",
    "    rank_to_go = numel_per_rank.index(min(numel_per_rank))\n",
    "    param_per_rank[rank_to_go].append(param)\n",
    "    numel_per_rank[rank_to_go] += param.numel()"
   ]
  },
  {
   "cell_type": "code",
   "execution_count": null,
   "id": "7122b4ae-6e16-4bd3-8e1f-87ae3af223ca",
   "metadata": {},
   "outputs": [],
   "source": [
    "gradient, parameters, optimizer relatd "
   ]
  },
  {
   "cell_type": "code",
   "execution_count": null,
   "id": "d10ad71e-8246-47f1-821c-c472ad5201ff",
   "metadata": {},
   "outputs": [],
   "source": [
    "register > sram > dram > hard drive > backup hard drive"
   ]
  },
  {
   "cell_type": "code",
   "execution_count": null,
   "id": "53473367-9320-4717-bd56-ca8ecb34a036",
   "metadata": {},
   "outputs": [],
   "source": [
    "rank = torch.distributed.get_rank()"
   ]
  },
  {
   "cell_type": "code",
   "execution_count": null,
   "id": "a011bf4f-c847-45eb-a936-3e1f62327460",
   "metadata": {},
   "outputs": [],
   "source": [
    "if rank == 0:\n",
    "    torch.distributed.send(x, dest=1)\n",
    "elif rank == 1:\n",
    "    torch.distributed.recv(tensor_will_be_received_data, src=0)"
   ]
  },
  {
   "cell_type": "code",
   "execution_count": null,
   "id": "e0516832-1a7f-40dd-855f-f7facaef7228",
   "metadata": {},
   "outputs": [],
   "source": [
    "num_tensor_model_parallel_groups = 8"
   ]
  },
  {
   "cell_type": "code",
   "execution_count": null,
   "id": "28edee6b-94c5-43fd-be9c-96c55d4144fa",
   "metadata": {},
   "outputs": [],
   "source": [
    "tensor_model_parallel_size = 2"
   ]
  },
  {
   "cell_type": "code",
   "execution_count": null,
   "id": "b782235f-f394-4ecb-8a8c-4298001f5f98",
   "metadata": {},
   "outputs": [],
   "source": [
    "list_ranks = []"
   ]
  },
  {
   "cell_type": "code",
   "execution_count": null,
   "id": "f676700c-be74-49a1-9b9d-58ccd4508525",
   "metadata": {},
   "outputs": [],
   "source": [
    "# rank = torch.distributed.get_rank()\n",
    "\n",
    "for i in range(num_tensor_model_parallel_groups):\n",
    "    ranks = range(\n",
    "        i*tensor_model_parallel_size,\n",
    "        i*tensor_model_parallel_size\n",
    "    )\n",
    "    \n",
    "    list_ranks.append(ranks)\n",
    "    \n",
    "#     if rank in ranks:\n",
    "#         group = torch.distributed.new_group(ranks=ranks)\n",
    "        \n",
    "#         set_current_tensor_parallel_group(group)"
   ]
  },
  {
   "cell_type": "code",
   "execution_count": null,
   "id": "f8c65770-ca33-4aae-a57d-0b11a3c97e3f",
   "metadata": {},
   "outputs": [
    {
     "data": {
      "text/plain": [
       "[[0], [2], [4], [6], [8], [10], [12], [14]]"
      ]
     },
     "execution_count": null,
     "metadata": {},
     "output_type": "execute_result"
    }
   ],
   "source": [
    "[list(x) for x in list_ranks]"
   ]
  },
  {
   "cell_type": "code",
   "execution_count": null,
   "id": "c9509257-0c6f-4712-9fe8-58a320f41c9a",
   "metadata": {},
   "outputs": [],
   "source": [
    "tensor parallel, data paralell, pipeline parallel"
   ]
  },
  {
   "cell_type": "code",
   "execution_count": null,
   "id": "5c8b6d70-3d54-41de-b3b4-0a1d168e9a1d",
   "metadata": {},
   "outputs": [],
   "source": [
    "rank = torch.distributed.get_rank()\n",
    "\n",
    "for i in range(num_tensor_model_parallel_groups):\n",
    "    ranks = range(\n",
    "        i*tensor_model_parallel_size,\n",
    "        (i+1)*tensor_model_parallel_size\n",
    "    )\n",
    "    \n",
    "    if rank in ranks:\n",
    "        group = torch.distributed.new_group()"
   ]
  },
  {
   "cell_type": "markdown",
   "id": "70857aac-9bb8-44dc-9e97-6b156ad85169",
   "metadata": {},
   "source": [
    "### ML Engineering"
   ]
  },
  {
   "cell_type": "code",
   "execution_count": null,
   "id": "b8ab6236-fe0c-4b0c-b583-a1028412c8fa",
   "metadata": {},
   "outputs": [],
   "source": [
    "from pydantic import BaseModel"
   ]
  },
  {
   "cell_type": "code",
   "execution_count": null,
   "id": "45eda483-4852-4777-a813-e1c524573152",
   "metadata": {},
   "outputs": [],
   "source": [
    "class XX(BaseModel):\n",
    "    secret: int\n",
    "    unv: int"
   ]
  },
  {
   "cell_type": "code",
   "execution_count": null,
   "id": "0dc81c49-0a71-4c1c-bdd1-f168418f8bca",
   "metadata": {},
   "outputs": [],
   "source": [
    "from metaflow import FlowSpec, step, schedule"
   ]
  },
  {
   "cell_type": "code",
   "execution_count": null,
   "id": "6c8e682c-e086-4f1d-ac85-87a57a09a120",
   "metadata": {},
   "outputs": [],
   "source": [
    "@schedule(daily=True)\n",
    "class HelloFlow(FlowSpec):\n",
    "    @step\n",
    "    def start(self):\n",
    "        self.next(self.fuck_yea)\n",
    "    \n",
    "    @step\n",
    "    def fuck_yea(self):\n",
    "        print(69)\n",
    "        self.next(self.end)\n",
    "    \n",
    "    @step\n",
    "    def end(self): pass"
   ]
  },
  {
   "cell_type": "code",
   "execution_count": null,
   "id": "1fc9e1c8-7545-42a7-9950-a297c6e57813",
   "metadata": {},
   "outputs": [],
   "source": [
    "region > vpc > available zone > subnet > aws reouce"
   ]
  },
  {
   "cell_type": "code",
   "execution_count": null,
   "id": "69b7c20f-428a-4743-be3a-c402b9158567",
   "metadata": {},
   "outputs": [],
   "source": [
    "class TrainingFlow(FlowSpec):\n",
    "    @step\n",
    "    def start(self):\n",
    "        self.next(self.train, self.eval)\n",
    "    \n",
    "    @step\n",
    "    def train(self):\n",
    "        print(\"training...\")\n",
    "        self.next(self.join)\n",
    "    \n",
    "    @step\n",
    "    def eval(self):\n",
    "        print(\"evaluating...\")\n",
    "        self.next(self.join)\n",
    "    \n",
    "    @step\n",
    "    def join(self, inputs):\n",
    "        self.next(self.end)\n",
    "    \n",
    "    @step\n",
    "    def end(self): pass"
   ]
  },
  {
   "cell_type": "code",
   "execution_count": null,
   "id": "ff5f1769-30f7-4229-8251-7d219fbe20df",
   "metadata": {},
   "outputs": [],
   "source": [
    "from contextlib import contextmanager"
   ]
  },
  {
   "cell_type": "code",
   "execution_count": null,
   "id": "03dfc806-d463-4ecb-bc94-f1278224d9c5",
   "metadata": {},
   "outputs": [],
   "source": [
    "@contextmanager\n",
    "def second_context():\n",
    "    print(\"entering...\")\n",
    "    \n",
    "    yield \"hello, world\"\n",
    "    \n",
    "    print(\"exiting...\")"
   ]
  },
  {
   "cell_type": "code",
   "execution_count": null,
   "id": "ecd74b43-5de7-47cd-a138-cc1c8490b822",
   "metadata": {},
   "outputs": [],
   "source": [
    "import threading"
   ]
  },
  {
   "cell_type": "code",
   "execution_count": null,
   "id": "e4bfccf8-4105-4b17-86da-2b636fba48c9",
   "metadata": {},
   "outputs": [],
   "source": [
    "lock = threading.Lock()"
   ]
  },
  {
   "cell_type": "code",
   "execution_count": null,
   "id": "8a90e50f-72df-4187-9fee-4068c8866bc6",
   "metadata": {},
   "outputs": [],
   "source": [
    "def target():\n",
    "    with lock:\n",
    "        increment_counter()"
   ]
  },
  {
   "cell_type": "code",
   "execution_count": null,
   "id": "bf3d916f-22e2-4f58-bffc-a033c5d4c3c9",
   "metadata": {},
   "outputs": [],
   "source": [
    "for _ in range(4):\n",
    "    thread = threading.Thread(target=target)\n",
    "    thread.start()"
   ]
  },
  {
   "cell_type": "code",
   "execution_count": null,
   "id": "93550612-4ff4-4bd1-a70a-ffaaf0894e51",
   "metadata": {},
   "outputs": [],
   "source": [
    "avgs.groupby(\"title\")[\"rating\"].mean()"
   ]
  },
  {
   "cell_type": "code",
   "execution_count": null,
   "id": "8badb174-0821-4416-9823-280be5567d2d",
   "metadata": {},
   "outputs": [],
   "source": [
    "neuron 1 > axon > synapse > dendrite"
   ]
  },
  {
   "cell_type": "markdown",
   "id": "631e6dec-2ff9-45b7-a7da-b69744f4d34a",
   "metadata": {},
   "source": [
    "### AI"
   ]
  },
  {
   "cell_type": "code",
   "execution_count": null,
   "id": "a7833e82-b616-47ac-b508-9ab7410f2478",
   "metadata": {},
   "outputs": [],
   "source": [
    "import torch\n",
    "from torch import nn\n",
    "import torch.nn.functional as F"
   ]
  },
  {
   "cell_type": "code",
   "execution_count": null,
   "id": "96b74a7d-6819-477d-95d1-5292b4c932b5",
   "metadata": {},
   "outputs": [],
   "source": [
    "import flax.linen as nn"
   ]
  },
  {
   "cell_type": "code",
   "execution_count": null,
   "id": "d7ea9089-8a48-4e97-af1e-4ca0ed56619d",
   "metadata": {},
   "outputs": [],
   "source": [
    "nn.Dense()"
   ]
  },
  {
   "cell_type": "code",
   "execution_count": null,
   "id": "4b37c4c4-dea4-4998-9f9b-05062cf4f28c",
   "metadata": {},
   "outputs": [],
   "source": [
    "from ray import tune\n",
    "from ray.tune.schedulers import HyperBandScheduler"
   ]
  },
  {
   "cell_type": "code",
   "execution_count": null,
   "id": "87948e1b-e445-48c0-a50d-61544535ce9f",
   "metadata": {},
   "outputs": [],
   "source": [
    "tune.report(\n",
    "    objective,\n",
    "    config=search_space,\n",
    "    scheduler=HyperBandScheduler()\n",
    ")"
   ]
  },
  {
   "cell_type": "code",
   "execution_count": null,
   "id": "7056a5da-ea7f-4fb6-ba22-aee2446a0b8a",
   "metadata": {},
   "outputs": [],
   "source": [
    "from torch.optim import Optimizer"
   ]
  },
  {
   "cell_type": "code",
   "execution_count": null,
   "id": "1bddb2a0-b2b6-41ab-ab50-ade085fdcd64",
   "metadata": {},
   "outputs": [],
   "source": [
    "class CustomOptimier(Optimizer):\n",
    "    def __init__(self, params):\n",
    "        defaults = dict()\n",
    "        super().__init__(params, defaults)\n",
    "    \n",
    "    def step(self):\n",
    "        for group in self.param_groups:\n",
    "            for param in group.parametrs():\n",
    "                if param.requires_grad is False:\n",
    "                    continue\n",
    "                \n",
    "                param.data = param.data * 6.9"
   ]
  },
  {
   "cell_type": "code",
   "execution_count": null,
   "id": "f5a4d8bb-559e-48c0-a6a3-2043fe62bd09",
   "metadata": {},
   "outputs": [],
   "source": [
    "stream1 = torch.cuda.Stream()\n",
    "stream2 = torch.cuda.Stream()"
   ]
  },
  {
   "cell_type": "code",
   "execution_count": null,
   "id": "aadacbf4-ecee-4bfd-8714-e93f761c722b",
   "metadata": {},
   "outputs": [],
   "source": [
    "with torch.cuda.stream(stream1):\n",
    "    x_mean = x.mean()\n",
    "\n",
    "with torch.cuda.stream(stream2):\n",
    "    y_mean = y.mean()"
   ]
  },
  {
   "cell_type": "code",
   "execution_count": null,
   "id": "273b539a-74bf-43a2-84da-746aa9a3a6f1",
   "metadata": {},
   "outputs": [],
   "source": [
    "import jax"
   ]
  },
  {
   "cell_type": "code",
   "execution_count": null,
   "id": "67be6d02-8d4c-4950-85f6-657220bbedd6",
   "metadata": {},
   "outputs": [],
   "source": [
    "jax.jit(square)"
   ]
  },
  {
   "cell_type": "code",
   "execution_count": null,
   "id": "6fb45894-5423-484b-9bac-c20173a1128c",
   "metadata": {},
   "outputs": [],
   "source": [
    "from einops import einsum"
   ]
  },
  {
   "cell_type": "code",
   "execution_count": null,
   "id": "4ef50545-bdb1-43a8-8942-8baeaae9aa90",
   "metadata": {},
   "outputs": [],
   "source": [
    "einops_output = einsum(\n",
    "    x, y,\n",
    "    \"batch dim, batch dim ->\"\n",
    ")"
   ]
  },
  {
   "cell_type": "code",
   "execution_count": null,
   "id": "698368f1-37d2-4db2-b5dc-7b0184c32f57",
   "metadata": {},
   "outputs": [],
   "source": [
    "text_embeddings = model.W_E"
   ]
  },
  {
   "cell_type": "code",
   "execution_count": null,
   "id": "1e5b34ce-0957-4407-9cf5-0479a70cca26",
   "metadata": {},
   "outputs": [],
   "source": [
    "text_embeddings[:, tokens]"
   ]
  },
  {
   "cell_type": "code",
   "execution_count": null,
   "id": "ad92894c-7ec9-4096-bffe-3c93e036a1fc",
   "metadata": {},
   "outputs": [],
   "source": [
    "n_features = 5"
   ]
  },
  {
   "cell_type": "code",
   "execution_count": null,
   "id": "344cc4d5-5d9b-4cfb-8cf8-25da86ab391f",
   "metadata": {},
   "outputs": [],
   "source": [
    "interference[torch.arange(5), torch.arange(5)] = 0."
   ]
  },
  {
   "cell_type": "code",
   "execution_count": null,
   "id": "465288db-47e6-4e26-a756-6e896994a53d",
   "metadata": {},
   "outputs": [],
   "source": [
    "polysemanticity = interference.pow(2).sum(dim=-1).sqrt()"
   ]
  },
  {
   "cell_type": "code",
   "execution_count": null,
   "id": "f445320e-d79c-4492-b182-2fecdabfa387",
   "metadata": {},
   "outputs": [],
   "source": [
    "text_embeddings = model.embed(tokens)\n",
    "positional_embeddings = model.pos_embed(tokens)"
   ]
  },
  {
   "cell_type": "code",
   "execution_count": null,
   "id": "01bafe8d-6868-4d89-b864-638318e4ed08",
   "metadata": {},
   "outputs": [],
   "source": [
    "embeddings = model.pos_embed(tokens) + model.embed(tokens)"
   ]
  },
  {
   "cell_type": "code",
   "execution_count": null,
   "id": "b177114c-0b03-459a-b7bc-63fef850e6b3",
   "metadata": {},
   "outputs": [],
   "source": [
    "residual = embeddings"
   ]
  },
  {
   "cell_type": "code",
   "execution_count": null,
   "id": "e4536dc2-c53f-4415-8e7d-cd7bc5506b9d",
   "metadata": {},
   "outputs": [],
   "source": [
    "for block in model.blocks:\n",
    "    residual = block(residual)"
   ]
  },
  {
   "cell_type": "code",
   "execution_count": null,
   "id": "04d295d3-9dd9-452f-ac89-2b976d4b2c11",
   "metadata": {},
   "outputs": [],
   "source": [
    "manual_logits = "
   ]
  },
  {
   "cell_type": "code",
   "execution_count": null,
   "id": "dcd5b17c-26f3-49f0-8165-f0b5ade7f55a",
   "metadata": {},
   "outputs": [],
   "source": [
    "class Model(nn.Module):\n",
    "    def __init__(self):\n",
    "        super().__init__()\n",
    "        device_0 = torch.device(\"cuda:0\")\n",
    "        device_1 = torch.device(\"cuda:1\")\n",
    "        \n",
    "        self.net_1 = nn.Sequential(\n",
    "            nn.Linear(69, 420),\n",
    "            nn.ReLU()\n",
    "        ).to(device_0)\n",
    "        \n",
    "        self.net_2 = nn.Sequential(\n",
    "            nn.Linear(420, 69)\n",
    "        )\n",
    "    \n",
    "    def forward(self, x):\n",
    "        x = self.net_1(x)\n",
    "        next_device = next(self.net_1.parameters()).device\n",
    "        x.to(next_device)\n",
    "        x = self.net_2(x)\n",
    "        return x"
   ]
  },
  {
   "cell_type": "code",
   "execution_count": null,
   "id": "83868aa2-e666-46f6-9b06-9f100a066f11",
   "metadata": {},
   "outputs": [],
   "source": [
    "from einops import rearrange"
   ]
  },
  {
   "cell_type": "code",
   "execution_count": null,
   "id": "b1ed3a47-747a-4496-9621-ae5cc881d2e5",
   "metadata": {},
   "outputs": [],
   "source": [
    "result = rearrange(images, \"b c (h w) -> b c h w\")"
   ]
  },
  {
   "cell_type": "code",
   "execution_count": null,
   "id": "f1568e3d-d5f3-4d0d-a6fb-5dc9ede576aa",
   "metadata": {},
   "outputs": [],
   "source": [
    "def probabily_scores(image_embedding, text_embedding):\n",
    "    image_embedding_norm = image_embedding.norm(dim=-1, keepdim=True)\n",
    "    image_embedding = image_embedding / image_embedding_norm\n",
    "    \n",
    "    text_embedding = text_embedding.norm(dim=-1, keepdim=True)\n",
    "    text_embedding = text_embedding / text_embedding\n",
    "    \n",
    "    similarities = image_embedding @ text_embedding.T\n",
    "    probs = F.softmax(similarities, dim=-1)\n",
    "    return probs"
   ]
  },
  {
   "cell_type": "code",
   "execution_count": null,
   "id": "3c4ae0a9-312a-42d7-b0b7-24ca20bcaef5",
   "metadata": {},
   "outputs": [],
   "source": [
    "class PositionFeedForward(nn.Module):\n",
    "    def __init__(self, d_model, d_ff, dropout):\n",
    "        super().__init__()\n",
    "        self.net = nn.Sequential(\n",
    "            nn.Linear(d_model, d_ff),\n",
    "            nn.ReLU(),\n",
    "            nn.Dropout(dropout),\n",
    "            nn.Linear(d_ff, d_model)\n",
    "        )\n",
    "    \n",
    "    def forward(self, x):\n",
    "        return self.net(x)"
   ]
  },
  {
   "cell_type": "code",
   "execution_count": null,
   "id": "66f1a407-f531-42b5-b9f5-17dcdec520f0",
   "metadata": {},
   "outputs": [],
   "source": [
    "embeddings = model.embed(tokens) + model.pos_embed(tokens)"
   ]
  },
  {
   "cell_type": "code",
   "execution_count": null,
   "id": "eeca7992-1830-407d-aa1f-fdf5744b67bc",
   "metadata": {},
   "outputs": [],
   "source": [
    "residual = embeddigs"
   ]
  },
  {
   "cell_type": "code",
   "execution_count": null,
   "id": "f3c7d281-0a5d-45c7-a403-b0dbb8166e90",
   "metadata": {},
   "outputs": [],
   "source": [
    "for block in model.blocks:\n",
    "    residual = block(residual)"
   ]
  },
  {
   "cell_type": "code",
   "execution_count": null,
   "id": "58eda8bf-635f-45a5-945c-b7c4b954337b",
   "metadata": {},
   "outputs": [],
   "source": [
    "residual = model.ln_final(residual)"
   ]
  },
  {
   "cell_type": "code",
   "execution_count": null,
   "id": "b52c6dc6-9cc3-4bed-93ce-52b9f1049cb0",
   "metadata": {},
   "outputs": [],
   "source": [
    "logits = model.unembed(residual)"
   ]
  },
  {
   "cell_type": "code",
   "execution_count": null,
   "id": "a973558c-06aa-4bfd-94eb-9b38840f6b91",
   "metadata": {},
   "outputs": [],
   "source": [
    "def calculate_loss_of_soft_v(states, actions, action_probs):\n",
    "    pass"
   ]
  },
  {
   "cell_type": "code",
   "execution_count": null,
   "id": "9952eb90-a029-4c8a-ae7b-ddd61668c5dc",
   "metadata": {},
   "outputs": [],
   "source": [
    "output = x.mean(keepdim=True, dim=-1)"
   ]
  }
 ],
 "metadata": {
  "kernelspec": {
   "display_name": "Python 3 (ipykernel)",
   "language": "python",
   "name": "python3"
  }
 },
 "nbformat": 4,
 "nbformat_minor": 5
}
