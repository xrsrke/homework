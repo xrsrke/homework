{
 "cells": [
  {
   "cell_type": "code",
   "execution_count": null,
   "id": "b4399a29-97ac-4b79-bcc3-0f8d4c9e9b2b",
   "metadata": {},
   "outputs": [
    {
     "data": {
      "text/plain": [
       "(3, 4)"
      ]
     },
     "execution_count": null,
     "metadata": {},
     "output_type": "execute_result"
    }
   ],
   "source": [
    "var_a, var_b = 3, 4"
   ]
  },
  {
   "cell_type": "code",
   "execution_count": null,
   "id": "cad93821-22ea-4b7b-838c-8603423817bf",
   "metadata": {},
   "outputs": [
    {
     "name": "stdout",
     "output_type": "stream",
     "text": [
      "It...\n"
     ]
    }
   ],
   "source": [
    "if (var_a > 1) || (var_b >= 2)\n",
    "    println(\"It...\")\n",
    "end"
   ]
  },
  {
   "cell_type": "code",
   "execution_count": null,
   "id": "64513114-2a01-47ed-abaa-7e40e689d429",
   "metadata": {},
   "outputs": [
    {
     "data": {
      "text/plain": [
       "5"
      ]
     },
     "execution_count": null,
     "metadata": {},
     "output_type": "execute_result"
    }
   ],
   "source": [
    "const z = 5"
   ]
  },
  {
   "cell_type": "code",
   "execution_count": null,
   "id": "645d9f22-e584-4384-803c-ec8b3025c6ee",
   "metadata": {},
   "outputs": [
    {
     "data": {
      "text/plain": [
       "f (generic function with 1 method)"
      ]
     },
     "execution_count": null,
     "metadata": {},
     "output_type": "execute_result"
    }
   ],
   "source": [
    "f(x, y) = x + y"
   ]
  },
  {
   "cell_type": "code",
   "execution_count": null,
   "id": "b8e45b0a-da2c-4179-bae4-a4ffd8627f53",
   "metadata": {},
   "outputs": [],
   "source": [
    "using SymPy"
   ]
  },
  {
   "cell_type": "code",
   "execution_count": null,
   "id": "973749b1-6a54-4176-b7fb-8fda680ea89f",
   "metadata": {},
   "outputs": [
    {
     "data": {
      "text/latex": [
       "$\\begin{align*}y\\end{align*}$\n"
      ],
      "text/plain": [
       "y"
      ]
     },
     "execution_count": null,
     "metadata": {},
     "output_type": "execute_result"
    }
   ],
   "source": [
    "y = SymFunction(\"y\")"
   ]
  },
  {
   "cell_type": "code",
   "execution_count": null,
   "id": "40cb54c6-4f62-4a9f-aa95-eb818829e254",
   "metadata": {},
   "outputs": [
    {
     "data": {
      "text/latex": [
       "$\\begin{align*}y\\end{align*}$\n"
      ],
      "text/plain": [
       "y"
      ]
     },
     "execution_count": null,
     "metadata": {},
     "output_type": "execute_result"
    }
   ],
   "source": [
    "y"
   ]
  },
  {
   "cell_type": "code",
   "execution_count": null,
   "id": "aff9f359-bdf2-4d1b-917c-f3028aef5da8",
   "metadata": {},
   "outputs": [
    {
     "data": {
      "text/plain": [
       "17"
      ]
     },
     "execution_count": null,
     "metadata": {},
     "output_type": "execute_result"
    }
   ],
   "source": [
    "some_number = 17"
   ]
  },
  {
   "cell_type": "code",
   "execution_count": null,
   "id": "12c35b8c-1012-427b-8946-01210214a694",
   "metadata": {},
   "outputs": [
    {
     "name": "stdout",
     "output_type": "stream",
     "text": [
      "Yes\n"
     ]
    }
   ],
   "source": [
    "if some_number > 6\n",
    "    println(\"Yes\")\n",
    "end"
   ]
  },
  {
   "cell_type": "code",
   "execution_count": null,
   "id": "618c7454-f3e4-4773-b7b6-9dcd315a5f66",
   "metadata": {},
   "outputs": [
    {
     "data": {
      "text/plain": [
       "poly (generic function with 1 method)"
      ]
     },
     "execution_count": null,
     "metadata": {},
     "output_type": "execute_result"
    }
   ],
   "source": [
    "function poly(x, y)\n",
    "    return 3x^2 + 2y^2 - x*y\n",
    "end"
   ]
  },
  {
   "cell_type": "code",
   "execution_count": null,
   "id": "dde15c8b-15f7-4abf-a9f0-332fa3d3e5be",
   "metadata": {},
   "outputs": [
    {
     "data": {
      "text/plain": [
       "24"
      ]
     },
     "execution_count": null,
     "metadata": {},
     "output_type": "execute_result"
    }
   ],
   "source": [
    "poly(2, 3)"
   ]
  },
  {
   "cell_type": "code",
   "execution_count": null,
   "id": "648908ee-6131-485d-a96c-db8d7d85b4d6",
   "metadata": {},
   "outputs": [
    {
     "data": {
      "text/plain": [
       "add_one (generic function with 1 method)"
      ]
     },
     "execution_count": null,
     "metadata": {},
     "output_type": "execute_result"
    }
   ],
   "source": [
    "function add_one(x)\n",
    "    return x + 1\n",
    "end"
   ]
  },
  {
   "cell_type": "code",
   "execution_count": null,
   "id": "ffc58a05-2bcb-4605-9b6f-a2aaa4105579",
   "metadata": {},
   "outputs": [
    {
     "data": {
      "text/plain": [
       "4"
      ]
     },
     "execution_count": null,
     "metadata": {},
     "output_type": "execute_result"
    }
   ],
   "source": [
    "var_b = 4"
   ]
  },
  {
   "cell_type": "code",
   "execution_count": null,
   "id": "6e1bb2e1-573d-4c48-9ca3-c2f4281604f7",
   "metadata": {},
   "outputs": [
    {
     "data": {
      "text/plain": [
       "true"
      ]
     },
     "execution_count": null,
     "metadata": {},
     "output_type": "execute_result"
    }
   ],
   "source": [
    "!(var_b < 2)"
   ]
  },
  {
   "cell_type": "code",
   "execution_count": null,
   "id": "0f4f30ca-6bd1-4033-9377-a77c51b06c5c",
   "metadata": {},
   "outputs": [],
   "source": [
    "using Pkg"
   ]
  },
  {
   "cell_type": "code",
   "execution_count": null,
   "id": "5c9dd7fc-d92f-493e-98f6-a29665601595",
   "metadata": {},
   "outputs": [],
   "source": [
    "Pkg.add(\"SymPy\")"
   ]
  },
  {
   "cell_type": "code",
   "execution_count": null,
   "id": "adc09d79-551a-475c-82b1-0625f63f42ae",
   "metadata": {},
   "outputs": [],
   "source": []
  }
 ],
 "metadata": {
  "kernelspec": {
   "display_name": "Julia 1.8.2",
   "language": "julia",
   "name": "julia-1.8"
  }
 },
 "nbformat": 4,
 "nbformat_minor": 5
}
