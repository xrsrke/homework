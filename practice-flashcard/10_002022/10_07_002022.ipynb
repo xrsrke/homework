{
 "cells": [
  {
   "cell_type": "markdown",
   "id": "98e2c3c5-b5a9-4974-9841-b6d952c7859c",
   "metadata": {},
   "source": [
    "### Numpy"
   ]
  },
  {
   "cell_type": "code",
   "execution_count": null,
   "id": "ea7c28ca-019e-429e-a33d-1c424cff8749",
   "metadata": {},
   "outputs": [],
   "source": [
    "x[[0, 2], [2, 3]]"
   ]
  },
  {
   "cell_type": "markdown",
   "id": "1ee14ac2-47a6-4ed9-9af1-d9e82a140377",
   "metadata": {},
   "source": [
    "### Deep Learning"
   ]
  },
  {
   "cell_type": "code",
   "execution_count": null,
   "id": "94a7b94d-b96b-473b-9647-3a1a1f6f0669",
   "metadata": {},
   "outputs": [],
   "source": [
    "import torch"
   ]
  },
  {
   "cell_type": "code",
   "execution_count": null,
   "id": "ea460e6b-9b25-48e6-8745-b04bef1b54f1",
   "metadata": {},
   "outputs": [],
   "source": [
    "import numpy as np"
   ]
  },
  {
   "cell_type": "code",
   "execution_count": null,
   "id": "b0c808a6-47b1-413a-8364-d4108371d35e",
   "metadata": {},
   "outputs": [],
   "source": [
    "def embedding_matrix(n, n_laten_factors):\n",
    "    return torch.randn(n, n_laten_factors)"
   ]
  },
  {
   "cell_type": "code",
   "execution_count": null,
   "id": "c9def194-d544-4b61-a7c9-8c186b2f587c",
   "metadata": {},
   "outputs": [
    {
     "data": {
      "text/plain": [
       "tensor([[ 0.8564,  0.0383],\n",
       "        [-0.3139, -0.5882],\n",
       "        [ 0.4155,  1.3975]])"
      ]
     },
     "execution_count": null,
     "metadata": {},
     "output_type": "execute_result"
    }
   ],
   "source": [
    "embedding_matrix(3, 2)"
   ]
  },
  {
   "cell_type": "code",
   "execution_count": null,
   "id": "6b42c73c-51f0-4056-b08d-253b02a74858",
   "metadata": {},
   "outputs": [],
   "source": [
    "from PIL import Image"
   ]
  },
  {
   "cell_type": "code",
   "execution_count": null,
   "id": "53219137-6cb2-472b-ab6a-118d7aa7367f",
   "metadata": {},
   "outputs": [],
   "source": [
    "img_array = np.array(img3)"
   ]
  },
  {
   "cell_type": "code",
   "execution_count": null,
   "id": "97f404ab-802b-4ab9-a240-a014b3f9d594",
   "metadata": {},
   "outputs": [],
   "source": [
    "im3 = Image.open(img_path)"
   ]
  },
  {
   "cell_type": "code",
   "execution_count": null,
   "id": "5b453462-d103-4666-ae7f-91ec5e16aeb4",
   "metadata": {},
   "outputs": [],
   "source": [
    "seven_tensors = torch.stack([tensor(Image.open(o)) for o in sevens])"
   ]
  },
  {
   "cell_type": "markdown",
   "id": "8f70aaab-1fa6-4e66-8707-ed95391f261d",
   "metadata": {},
   "source": [
    "### Design Patterns"
   ]
  },
  {
   "cell_type": "markdown",
   "id": "d0747df9-14f3-43a2-92f8-a6b90ca85c70",
   "metadata": {},
   "source": [
    "##### Template Method"
   ]
  },
  {
   "cell_type": "code",
   "execution_count": null,
   "id": "1e26d7a1-f688-4af6-94c8-4cc6ae1ff019",
   "metadata": {},
   "outputs": [],
   "source": [
    "from abc import ABC, abstractmethod"
   ]
  },
  {
   "cell_type": "code",
   "execution_count": null,
   "id": "5e5a19bc-c90f-432f-b1ee-2042d5802368",
   "metadata": {},
   "outputs": [],
   "source": [
    "class Report(ABC):\n",
    "    \n",
    "    def make_report(self):\n",
    "        print(f'Company: {self.company}')\n",
    "        self.make_body_report()\n",
    "    \n",
    "    @abstractmethod\n",
    "    def make_body_report(self): pass"
   ]
  },
  {
   "cell_type": "code",
   "execution_count": null,
   "id": "b501ab9e-f2de-4655-b40e-df4f273c3729",
   "metadata": {},
   "outputs": [],
   "source": [
    "class SalesReport(Report):\n",
    "    def __init__(self, company, cost):\n",
    "        self.company = company\n",
    "        self.cost = cost\n",
    "\n",
    "    def make_body_report(self):\n",
    "        print(f'Cost: {self.cost}')"
   ]
  },
  {
   "cell_type": "markdown",
   "id": "fa41507c-ed6f-418b-9e6c-3597da44a63c",
   "metadata": {},
   "source": [
    "##### Proxy"
   ]
  },
  {
   "cell_type": "code",
   "execution_count": null,
   "id": "26e8d5b8-9f02-463e-b45c-33e2f18d497c",
   "metadata": {},
   "outputs": [],
   "source": [
    "class LazyBitmap:\n",
    "    def __init__(self, filename):\n",
    "        self.filename = filename\n",
    "        self._file = None\n",
    "    \n",
    "    def draw(self):\n",
    "        if not self._file: self._file = Bitmap(filename)\n",
    "        return self._file.draw()"
   ]
  },
  {
   "cell_type": "markdown",
   "id": "a974a9bc-2895-4432-b938-2466fc80cf2c",
   "metadata": {},
   "source": [
    "### Python"
   ]
  },
  {
   "cell_type": "code",
   "execution_count": null,
   "id": "3997607c-2ee0-4b6f-b5a7-b02eb86f5ac7",
   "metadata": {},
   "outputs": [],
   "source": [
    "x = {c for c in 'hello'}"
   ]
  },
  {
   "cell_type": "code",
   "execution_count": null,
   "id": "ebd16013-01e4-4f0b-a8a8-84ae98fce662",
   "metadata": {},
   "outputs": [],
   "source": [
    "class Classroom:\n",
    "    def __init__(self):\n",
    "        self._students = {}\n",
    "    \n",
    "    def __setattr__(self, k, v):\n",
    "        if not k.startswith('_'): self._students[k] = v\n",
    "        super().__setattr__(k, v)"
   ]
  },
  {
   "cell_type": "code",
   "execution_count": null,
   "id": "28b6c4f7-7cbb-4021-a18b-9f8a1e69c64a",
   "metadata": {},
   "outputs": [],
   "source": [
    "c = Classroom()"
   ]
  },
  {
   "cell_type": "code",
   "execution_count": null,
   "id": "a257faf9-e4c7-4327-82ad-896c9415225d",
   "metadata": {},
   "outputs": [],
   "source": [
    "c.s1 = 1"
   ]
  },
  {
   "cell_type": "code",
   "execution_count": null,
   "id": "cdbe587d-8794-447e-b885-7ae37b9f72ba",
   "metadata": {},
   "outputs": [
    {
     "data": {
      "text/plain": [
       "{'_students': {'s1': 1}, 's1': 1}"
      ]
     },
     "execution_count": null,
     "metadata": {},
     "output_type": "execute_result"
    }
   ],
   "source": [
    "c.__dict__"
   ]
  },
  {
   "cell_type": "code",
   "execution_count": null,
   "id": "9258da1c-a46a-443c-bd3f-7fdb4e416689",
   "metadata": {},
   "outputs": [],
   "source": [
    "MetaStudent = type('MetaStudent', (), {'major': 'chem'})"
   ]
  },
  {
   "cell_type": "code",
   "execution_count": null,
   "id": "9ce07978-a7f6-4fbb-adae-3a320fad6b2d",
   "metadata": {},
   "outputs": [],
   "source": []
  }
 ],
 "metadata": {
  "kernelspec": {
   "display_name": "Python 3 (ipykernel)",
   "language": "python",
   "name": "python3"
  }
 },
 "nbformat": 4,
 "nbformat_minor": 5
}
