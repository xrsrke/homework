{
 "cells": [
  {
   "cell_type": "markdown",
   "id": "d7a3c3c8-1d10-4e2a-b3ae-003942c57933",
   "metadata": {},
   "source": [
    "### Deep Learning "
   ]
  },
  {
   "cell_type": "code",
   "execution_count": null,
   "id": "eb527a8a-5a41-49ed-a417-873764620333",
   "metadata": {},
   "outputs": [],
   "source": [
    "def accuracy(pred, targ):\n",
    "    idx_preds = torch.argmax(sm_pred, dim=-1)\n",
    "    return (idx_preds == targ).float().mean()"
   ]
  },
  {
   "cell_type": "code",
   "execution_count": null,
   "id": "c19e1424-4080-405d-926c-e0c0a2f06d7e",
   "metadata": {},
   "outputs": [
    {
     "ename": "NameError",
     "evalue": "name 'optim' is not defined",
     "output_type": "error",
     "traceback": [
      "\u001b[0;31m---------------------------------------------------------------------------\u001b[0m",
      "\u001b[0;31mNameError\u001b[0m                                 Traceback (most recent call last)",
      "Input \u001b[0;32mIn [3]\u001b[0m, in \u001b[0;36m<cell line: 1>\u001b[0;34m()\u001b[0m\n\u001b[0;32m----> 1\u001b[0m \u001b[43moptim\u001b[49m\u001b[38;5;241m.\u001b[39mzero_grad()\n",
      "\u001b[0;31mNameError\u001b[0m: name 'optim' is not defined"
     ]
    }
   ],
   "source": [
    "optim.zero_grad()"
   ]
  },
  {
   "cell_type": "code",
   "execution_count": null,
   "id": "867a036f-9892-47be-a83b-c8e3b95cd031",
   "metadata": {},
   "outputs": [],
   "source": [
    "def compute_keys(vs, ws):\n",
    "    v = torch.stack([*vs])\n",
    "    w = torch.stack([*ws], dim=1)\n",
    "    return v @ w"
   ]
  },
  {
   "cell_type": "code",
   "execution_count": null,
   "id": "d7e223a2-d831-413b-8a15-d15ab2919824",
   "metadata": {},
   "outputs": [],
   "source": [
    "torch.nn.ReLU"
   ]
  },
  {
   "cell_type": "code",
   "execution_count": null,
   "id": "1bbc7429-424a-4d71-9bbf-976fbdff9843",
   "metadata": {},
   "outputs": [],
   "source": [
    "import numpy as np"
   ]
  },
  {
   "cell_type": "code",
   "execution_count": null,
   "id": "37a8ef56-b878-4c6e-94e4-b2a01c05edb5",
   "metadata": {},
   "outputs": [],
   "source": [
    "def ReLU(x):\n",
    "    return np.b"
   ]
  },
  {
   "cell_type": "code",
   "execution_count": null,
   "id": "f8616c8b-109b-4109-a360-a596c077462e",
   "metadata": {},
   "outputs": [],
   "source": [
    "def log_softmax(x):\n",
    "    softmax = np.exp(x) / np.sum(np.exp(x))\n",
    "    return np.log(softmax)"
   ]
  },
  {
   "cell_type": "code",
   "execution_count": null,
   "id": "949d1290-5c95-4212-be6d-4316750d19a1",
   "metadata": {},
   "outputs": [],
   "source": [
    "def dropout_layer(x, dropout):\n",
    "    assert 0 <= dropout <= 1\n",
    "    if dropout == 1: return torch.zeros_like(x)\n",
    "    mask = (torch.randn(x.shape) > dropout).float()\n",
    "    \n",
    "    return (mask * x) / 1-dropout"
   ]
  },
  {
   "cell_type": "code",
   "execution_count": null,
   "id": "d4f9d39b-f3c8-4bd7-9f7e-7250db32028a",
   "metadata": {},
   "outputs": [],
   "source": [
    "import torch.nn as nn"
   ]
  },
  {
   "cell_type": "code",
   "execution_count": null,
   "id": "dab895f2",
   "metadata": {},
   "outputs": [],
   "source": [
    "nn.RNN??"
   ]
  },
  {
   "cell_type": "code",
   "execution_count": null,
   "id": "360674b4-e5d9-4c3c-925d-85319275c289",
   "metadata": {},
   "outputs": [],
   "source": [
    "class MultilayerRNN:\n",
    "    def __init__(self, vocab_sz, n_hidden, n_layers):\n",
    "        self.i_h = nn.Embedding(vocab_sz, n_hidden)\n",
    "        self.rnn = nn.RNN(in)\n",
    "        self.h_o = nn.Embedding(n_hidden, vocab_sz)\n",
    "        self.h = torch.zeros"
   ]
  },
  {
   "cell_type": "code",
   "execution_count": null,
   "id": "4edc79cb",
   "metadata": {},
   "outputs": [],
   "source": [
    "rnn = nn.RNN(input_size=3, hidden_size=64, num_layers=4)"
   ]
  },
  {
   "cell_type": "code",
   "execution_count": null,
   "id": "a90d5be0",
   "metadata": {},
   "outputs": [],
   "source": [
    "nn.RNN??"
   ]
  },
  {
   "cell_type": "code",
   "execution_count": null,
   "id": "171aa8f3",
   "metadata": {},
   "outputs": [],
   "source": [
    "import ipywidgets as widgets"
   ]
  },
  {
   "cell_type": "code",
   "execution_count": null,
   "id": "3165da9e",
   "metadata": {},
   "outputs": [],
   "source": [
    "def f(x): print('Sent data')"
   ]
  },
  {
   "cell_type": "code",
   "execution_count": null,
   "id": "558b3391",
   "metadata": {},
   "outputs": [],
   "source": [
    "b = widgets.Button(description='Transmit')"
   ]
  },
  {
   "cell_type": "code",
   "execution_count": null,
   "id": "b3f8718a",
   "metadata": {},
   "outputs": [],
   "source": [
    "b.on_click(f)"
   ]
  },
  {
   "cell_type": "code",
   "execution_count": null,
   "id": "1c933ed6",
   "metadata": {},
   "outputs": [
    {
     "data": {
      "application/vnd.jupyter.widget-view+json": {
       "model_id": "b011f0a5c2b44dc4a7ccd6659346a6fc",
       "version_major": 2,
       "version_minor": 0
      },
      "text/plain": [
       "Button(description='Transmit', style=ButtonStyle())"
      ]
     },
     "execution_count": null,
     "metadata": {},
     "output_type": "execute_result"
    },
    {
     "name": "stdout",
     "output_type": "stream",
     "text": [
      "Sent data\n"
     ]
    }
   ],
   "source": [
    "b"
   ]
  },
  {
   "cell_type": "code",
   "execution_count": null,
   "id": "e492bb20",
   "metadata": {},
   "outputs": [],
   "source": [
    "from time import sleep"
   ]
  },
  {
   "cell_type": "code",
   "execution_count": null,
   "id": "fd4c8b53",
   "metadata": {},
   "outputs": [],
   "source": [
    "def slow_calculation(cb):\n",
    "    res = 0\n",
    "    for i in range"
   ]
  },
  {
   "cell_type": "code",
   "execution_count": null,
   "id": "0964f08d",
   "metadata": {},
   "outputs": [],
   "source": [
    "def make_show_progress(message):\n",
    "    def _inner(epoch):\n",
    "        print(f\"{message}! We've finished epoch {epoch}\")\n",
    "    return _inner"
   ]
  },
  {
   "cell_type": "code",
   "execution_count": null,
   "id": "a92b714f",
   "metadata": {},
   "outputs": [],
   "source": [
    "nn.ModuleList"
   ]
  },
  {
   "cell_type": "code",
   "execution_count": null,
   "id": "81b07b8b",
   "metadata": {},
   "outputs": [],
   "source": [
    "class Autoencoder(nn.Module):\n",
    "    def __init__(self):\n",
    "        super().__init__()\n",
    "        \n",
    "        self.encoder = nn.Sequential([\n",
    "            nn.Linear(784, 128),\n",
    "            nn.ReLU(),\n",
    "            nn.Linear(128, 64),\n",
    "            nn.ReLU(),\n",
    "            nn.Linear(64, 12),\n",
    "            nn.ReLU(),\n",
    "            nn.Linear(12, 3)\n",
    "        ])\n",
    "        \n",
    "        self.decoder = nn.Sequential([\n",
    "            nn.Linear(3, 12),\n",
    "            nn.ReLU(),\n",
    "            nn.Linear(12, 64),\n",
    "            nn.ReLU(),\n",
    "            nn.Linear(64, 128),\n",
    "            nn.ReLU(),\n",
    "            nn.Linear(128, 784),\n",
    "            nn.Sigmoid()\n",
    "        ])\n",
    "    \n",
    "    def forward(self, x):\n",
    "        x = x.reshape(-1, 784)\n",
    "        encoded = self.encoder(x)\n",
    "        decoded = self.decoder(encoded)\n",
    "        return decoded"
   ]
  },
  {
   "cell_type": "code",
   "execution_count": null,
   "id": "2a4513f8",
   "metadata": {},
   "outputs": [],
   "source": [
    "import ipywidgets as widgets"
   ]
  },
  {
   "cell_type": "code",
   "execution_count": null,
   "id": "9235455e",
   "metadata": {},
   "outputs": [],
   "source": [
    "w = widgets.Button(description='Connect')"
   ]
  },
  {
   "cell_type": "code",
   "execution_count": null,
   "id": "e7743f7a",
   "metadata": {},
   "outputs": [
    {
     "data": {
      "application/vnd.jupyter.widget-view+json": {
       "model_id": "e7b2aea603304aa3ba50e7c8427ebab9",
       "version_major": 2,
       "version_minor": 0
      },
      "text/plain": [
       "Button(description='Connect', style=ButtonStyle())"
      ]
     },
     "execution_count": null,
     "metadata": {},
     "output_type": "execute_result"
    }
   ],
   "source": [
    "w"
   ]
  },
  {
   "cell_type": "code",
   "execution_count": null,
   "id": "79771a65",
   "metadata": {},
   "outputs": [],
   "source": [
    "rnn = nn.RNN(input_size=3, hidden_size=64, num_layers=4)"
   ]
  },
  {
   "cell_type": "code",
   "execution_count": null,
   "id": "501fc245",
   "metadata": {},
   "outputs": [],
   "source": [
    "from PIL import Image"
   ]
  },
  {
   "cell_type": "code",
   "execution_count": null,
   "id": "bf4015bf",
   "metadata": {},
   "outputs": [],
   "source": [
    "def load_and_resize(path, size):\n",
    "    return Image.open(path).resize(size)"
   ]
  },
  {
   "cell_type": "code",
   "execution_count": null,
   "id": "13030518",
   "metadata": {},
   "outputs": [],
   "source": [
    "from torchvision import transforms as tfms"
   ]
  },
  {
   "cell_type": "code",
   "execution_count": null,
   "id": "259960b9",
   "metadata": {},
   "outputs": [],
   "source": [
    "transform = tfms.Compose([\n",
    "    tfms.ToTensor(),\n",
    "    tfms.Normalize(0.3, 0.9)\n",
    "])"
   ]
  },
  {
   "cell_type": "code",
   "execution_count": null,
   "id": "2f63ece0",
   "metadata": {},
   "outputs": [],
   "source": [
    "class DataLoader:\n",
    "    def __init__(self, ds, bs):\n",
    "        self.ds = ds\n",
    "        self.bs = bs\n",
    "    \n",
    "    def __next__(self):\n",
    "        for i in range(0, len(self.ds), self.bs):\n",
    "            yield self.ds[i:i+self.bs]"
   ]
  },
  {
   "cell_type": "code",
   "execution_count": null,
   "id": "25d5906a",
   "metadata": {},
   "outputs": [],
   "source": [
    "import torch"
   ]
  },
  {
   "cell_type": "code",
   "execution_count": null,
   "id": "d38af2fe",
   "metadata": {},
   "outputs": [],
   "source": [
    "_tensor = torch.randperm(10)"
   ]
  },
  {
   "cell_type": "code",
   "execution_count": null,
   "id": "f4d08495",
   "metadata": {},
   "outputs": [
    {
     "data": {
      "text/plain": [
       "tensor([7, 5, 4, 0, 8, 9, 3, 2, 1, 6])"
      ]
     },
     "execution_count": null,
     "metadata": {},
     "output_type": "execute_result"
    }
   ],
   "source": [
    "_tensor"
   ]
  },
  {
   "cell_type": "code",
   "execution_count": null,
   "id": "cd56ac17",
   "metadata": {},
   "outputs": [],
   "source": [
    "class Dataset:\n",
    "    def __init__(self, x, y):\n",
    "        self.x = x\n",
    "        self.y = y\n",
    "    \n",
    "    def __getitem__(self, idx):\n",
    "        return self.x[idx], self.y[idx]"
   ]
  },
  {
   "cell_type": "code",
   "execution_count": null,
   "id": "571637d0",
   "metadata": {},
   "outputs": [],
   "source": [
    "class Model(nn.Module):\n",
    "    def __init__(self, n_in, nh, n_out):\n",
    "        super().__init__()\n",
    "        self.layers = [\n",
    "            nn.Linear(n_in, nh),\n",
    "            nn.ReLU(),\n",
    "            nn.Linear(nh, n_out)\n",
    "        ]\n",
    "    \n",
    "    def forward(self, x):\n",
    "        for l in self.layers:\n",
    "            x = l(x)\n",
    "        \n",
    "        return x"
   ]
  },
  {
   "cell_type": "code",
   "execution_count": null,
   "id": "dc96b1c6",
   "metadata": {},
   "outputs": [],
   "source": [
    "def log_softmax(x):\n",
    "    softmax = toch.exp(x) / torch.exp(x).sum()\n",
    "    return softmax.log()"
   ]
  },
  {
   "cell_type": "markdown",
   "id": "09ad76c6",
   "metadata": {},
   "source": [
    "### Python"
   ]
  },
  {
   "cell_type": "markdown",
   "id": "6610c65d",
   "metadata": {},
   "source": [
    "### CI/CD"
   ]
  },
  {
   "cell_type": "code",
   "execution_count": null,
   "id": "640d9589",
   "metadata": {},
   "outputs": [
    {
     "ename": "SyntaxError",
     "evalue": "invalid syntax (3510989560.py, line 1)",
     "output_type": "error",
     "traceback": [
      "\u001b[0;36m  Input \u001b[0;32mIn [63]\u001b[0;36m\u001b[0m\n\u001b[0;31m    name: machine info\u001b[0m\n\u001b[0m                  ^\u001b[0m\n\u001b[0;31mSyntaxError\u001b[0m\u001b[0;31m:\u001b[0m invalid syntax\n"
     ]
    }
   ],
   "source": [
    "name: machine info\n",
    "\n",
    "on: [push]\n",
    "    \n",
    "jobs:\n",
    "    check-version:\n",
    "        runs-on: ubuntu-latest\n",
    "        steps:\n",
    "            - name: processor info\n",
    "              shell: python\n",
    "              run: |\n",
    "                import platform\n",
    "                print(platform.processor())"
   ]
  },
  {
   "cell_type": "code",
   "execution_count": null,
   "id": "1c1aa809",
   "metadata": {},
   "outputs": [],
   "source": [
    "stable_diffusion:\n",
    "    - text_to_image: clip\n",
    "      parameters: latent space\n",
    "image_multiclass: None"
   ]
  },
  {
   "cell_type": "code",
   "execution_count": null,
   "id": "e1c060b7",
   "metadata": {},
   "outputs": [],
   "source": [
    "name: actions\n",
    "\n",
    "on: [fork]\n",
    "    \n",
    "jobs:\n",
    "    clone:\n",
    "        runs-on: ubuntu-latest\n",
    "        steps:\n",
    "            - name: check out\n",
    "              uses: actions/checkout@v1"
   ]
  },
  {
   "cell_type": "markdown",
   "id": "e6b258a1",
   "metadata": {},
   "source": [
    "### bash "
   ]
  },
  {
   "cell_type": "code",
   "execution_count": null,
   "id": "019bc148",
   "metadata": {},
   "outputs": [],
   "source": [
    "for arg in \"$@\"; do\n",
    "    echo arg\n",
    "done"
   ]
  },
  {
   "cell_type": "code",
   "execution_count": null,
   "id": "6a72e222",
   "metadata": {},
   "outputs": [],
   "source": [
    "list(map(add, l1, l2))"
   ]
  },
  {
   "cell_type": "code",
   "execution_count": null,
   "id": "205dc7a4",
   "metadata": {},
   "outputs": [],
   "source": [
    "echo \"The value if $foo\""
   ]
  },
  {
   "cell_type": "code",
   "execution_count": null,
   "id": "08f0d831",
   "metadata": {},
   "outputs": [],
   "source": [
    "if [[X == Y]]; then\n",
    "    # code\n",
    "elif [[X == Z]]; then\n",
    "    # code\n",
    "else:\n",
    "    # code\n",
    "fi"
   ]
  },
  {
   "cell_type": "code",
   "execution_count": null,
   "id": "fd8e9d16",
   "metadata": {},
   "outputs": [],
   "source": [
    "mkdir \"My Photos\""
   ]
  },
  {
   "cell_type": "code",
   "execution_count": null,
   "id": "f8060aec",
   "metadata": {},
   "outputs": [],
   "source": [
    "pwd"
   ]
  },
  {
   "cell_type": "code",
   "execution_count": null,
   "id": "5359fb04",
   "metadata": {},
   "outputs": [],
   "source": [
    "cd ~"
   ]
  },
  {
   "cell_type": "code",
   "execution_count": null,
   "id": "1a54a3f3",
   "metadata": {},
   "outputs": [],
   "source": [
    "dr--"
   ]
  },
  {
   "cell_type": "code",
   "execution_count": null,
   "id": "b51e9ecd",
   "metadata": {},
   "outputs": [],
   "source": [
    "find ./projects -name src -type d"
   ]
  },
  {
   "cell_type": "code",
   "execution_count": null,
   "id": "84a279d3",
   "metadata": {},
   "outputs": [],
   "source": [
    "cp ./foo.js ./new/hello.js"
   ]
  },
  {
   "cell_type": "code",
   "execution_count": null,
   "id": "1829be88",
   "metadata": {},
   "outputs": [],
   "source": [
    "cat < h1.txt > h2.txt"
   ]
  },
  {
   "cell_type": "code",
   "execution_count": null,
   "id": "8f2cb0c2",
   "metadata": {},
   "outputs": [],
   "source": [
    "cd -"
   ]
  },
  {
   "cell_type": "code",
   "execution_count": null,
   "id": "bc967d10",
   "metadata": {},
   "outputs": [],
   "source": [
    "ls -l /users"
   ]
  },
  {
   "cell_type": "code",
   "execution_count": null,
   "id": "9ff65be9",
   "metadata": {},
   "outputs": [],
   "source": [
    "find ./projects -name src -type d"
   ]
  },
  {
   "cell_type": "code",
   "execution_count": null,
   "id": "106de70e",
   "metadata": {},
   "outputs": [],
   "source": [
    "$?"
   ]
  },
  {
   "cell_type": "markdown",
   "id": "16377aad",
   "metadata": {},
   "source": [
    "### SQL"
   ]
  },
  {
   "cell_type": "markdown",
   "id": "d4770dae",
   "metadata": {},
   "source": [
    "SELECT users.name, likes.like FROM users LEFT JOIN likes ON users.id  = likes.user_id"
   ]
  },
  {
   "cell_type": "markdown",
   "id": "caaf6b40",
   "metadata": {},
   "source": [
    "SELECT training.accuracy, datasets.size FROM training, datasets WHERE training.dset_id = datasets.id"
   ]
  },
  {
   "cell_type": "code",
   "execution_count": null,
   "id": "50feaf39",
   "metadata": {},
   "outputs": [],
   "source": [
    "SELECT * FROM movies (NOT review = 2) AND (NOT review  = 3)"
   ]
  },
  {
   "cell_type": "code",
   "execution_count": null,
   "id": "f3a6f39e",
   "metadata": {},
   "outputs": [],
   "source": [
    "SELECT * FROM orders WHERE price BETWEEN 10 AND 30"
   ]
  },
  {
   "cell_type": "markdown",
   "id": "aba729b0",
   "metadata": {},
   "source": [
    "SELECT a.name, b.name FROM members as a INNER JOIN members as b ON a.supervisor_id = b.id"
   ]
  },
  {
   "cell_type": "markdown",
   "id": "9470fe30",
   "metadata": {},
   "source": [
    "SELECT employees.emp_no, salaries.salary FROM employees JOIN salaries ON employees.emp_no = salaries.emp_no"
   ]
  },
  {
   "cell_type": "markdown",
   "id": "eed026a6",
   "metadata": {},
   "source": [
    "SELECT DISTINCT n_epochs, lr FROM training"
   ]
  },
  {
   "cell_type": "markdown",
   "id": "83a02737",
   "metadata": {},
   "source": [
    "SELECT * FROM users ORDER BY LENGTH(first_name) as ASC"
   ]
  },
  {
   "cell_type": "markdown",
   "id": "8636dbe7",
   "metadata": {},
   "source": [
    "SELECT * FROM orders WHERE purchased_data <= now() - INTERVAL \"30 days\""
   ]
  },
  {
   "cell_type": "markdown",
   "id": "7a2908b3",
   "metadata": {},
   "source": [
    "SELECT users.name, likes.like FROM users RIGHT JOIN likes ON users.id = likes.user_id"
   ]
  },
  {
   "cell_type": "markdown",
   "id": "842a54dd",
   "metadata": {},
   "source": [
    "SELECT users.name, likes.like FROM users INNER JOIN likes ON users.id = likes.user_id"
   ]
  },
  {
   "cell_type": "markdown",
   "id": "21129643",
   "metadata": {},
   "source": [
    "### Docker"
   ]
  },
  {
   "cell_type": "code",
   "execution_count": null,
   "id": "9994dbcc",
   "metadata": {},
   "outputs": [],
   "source": [
    "version: 0.01\n",
    "    \n",
    "services:\n",
    "    mongodb:\n",
    "        image: mongo\n",
    "        volumes:\n",
    "            - db-data:/var/lib/mysql/data"
   ]
  },
  {
   "cell_type": "markdown",
   "id": "6ab5aace",
   "metadata": {},
   "source": [
    "### Git"
   ]
  },
  {
   "cell_type": "code",
   "execution_count": null,
   "id": "2acdd999",
   "metadata": {},
   "outputs": [],
   "source": [
    "git remote add origin URL"
   ]
  },
  {
   "cell_type": "code",
   "execution_count": null,
   "id": "d2354df1",
   "metadata": {},
   "outputs": [],
   "source": [
    "git merge --squash"
   ]
  }
 ],
 "metadata": {
  "kernelspec": {
   "display_name": "Python 3 (ipykernel)",
   "language": "python",
   "name": "python3"
  }
 },
 "nbformat": 4,
 "nbformat_minor": 5
}
