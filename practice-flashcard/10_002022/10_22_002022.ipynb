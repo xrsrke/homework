{
 "cells": [
  {
   "cell_type": "markdown",
   "id": "6d26f572-79c5-4c2c-8c6a-e534379eeee3",
   "metadata": {},
   "source": [
    "### Deep Learning"
   ]
  },
  {
   "cell_type": "code",
   "execution_count": null,
   "id": "d8c4fd3e-bc1e-44cc-af3f-381ba596370e",
   "metadata": {},
   "outputs": [],
   "source": [
    "import torch"
   ]
  },
  {
   "cell_type": "code",
   "execution_count": null,
   "id": "8c7b7dcf-3b4e-45ba-824e-4b6697bf794c",
   "metadata": {},
   "outputs": [],
   "source": [
    "torch.permute(image_tensor, (2, 0, 1))"
   ]
  },
  {
   "cell_type": "code",
   "execution_count": null,
   "id": "68b05ca3-7c3a-43bd-940a-6674fe3458f0",
   "metadata": {},
   "outputs": [],
   "source": [
    "TENSOR = torch.arange(0, 13)"
   ]
  },
  {
   "cell_type": "code",
   "execution_count": null,
   "id": "c8711797-e4a4-4bb4-8727-0d1a8997a40b",
   "metadata": {},
   "outputs": [
    {
     "data": {
      "text/plain": [
       "tensor([ 0,  1,  2,  3,  4,  5,  6,  7,  8,  9, 10, 11, 12])"
      ]
     },
     "execution_count": null,
     "metadata": {},
     "output_type": "execute_result"
    }
   ],
   "source": [
    "TENSOR"
   ]
  },
  {
   "cell_type": "code",
   "execution_count": null,
   "id": "b526ddad-504e-4ba9-8e1c-6b1523967f05",
   "metadata": {},
   "outputs": [],
   "source": [
    "def embedding_matrix(n_elements, n_factors):\n",
    "    return torch.randn(n_elements, n_factors)"
   ]
  },
  {
   "cell_type": "code",
   "execution_count": null,
   "id": "1641f182-008f-4b48-b04a-8a4487429802",
   "metadata": {},
   "outputs": [],
   "source": [
    "import torch.nn as nn"
   ]
  },
  {
   "cell_type": "code",
   "execution_count": null,
   "id": "fe766a05-7924-4e93-b367-86675670e50c",
   "metadata": {},
   "outputs": [],
   "source": [
    "import torch.nn.functional as F"
   ]
  },
  {
   "cell_type": "code",
   "execution_count": null,
   "id": "f6f9af82-efca-47a4-b8ec-9e3b0e38302c",
   "metadata": {},
   "outputs": [],
   "source": [
    "class _LMModel3:\n",
    "    def __init__(self, vocab_sz, n_hidden):\n",
    "        self.i_h = nn.Embedding(vocab_sz, n_hidden)\n",
    "        self.h_h = nn.Linear(n_hidden, n_hidden)\n",
    "        self.h_o = nn.Linear(n_hidden, vocab_sz)\n",
    "        self.h = 0.\n",
    "    \n",
    "    def forward(self, x):\n",
    "        \n",
    "        for i in range(3):\n",
    "            self.h = self.h + F.relu(self.i_h(x[:, i]))\n",
    "            self.h = F.relu(self.h_h(self.h))\n",
    "        \n",
    "        out = self.h_o(self.h)\n",
    "        self.h.detach()\n",
    "        \n",
    "        return out"
   ]
  },
  {
   "cell_type": "code",
   "execution_count": null,
   "id": "28cbb8a8-12fe-4bb8-a53e-3f0f563a11ed",
   "metadata": {},
   "outputs": [],
   "source": [
    "def exclude_grad(x):\n",
    "    return x.detach()"
   ]
  },
  {
   "cell_type": "code",
   "execution_count": null,
   "id": "cbf3dfa4-95f8-4ea4-a863-1c171791ce4e",
   "metadata": {},
   "outputs": [],
   "source": [
    "from fastcore.foundation import *"
   ]
  },
  {
   "cell_type": "code",
   "execution_count": null,
   "id": "b29949b5-5d49-4126-be84-ec28d0c2202c",
   "metadata": {},
   "outputs": [],
   "source": [
    "L(tokens).unqiue()"
   ]
  },
  {
   "cell_type": "code",
   "execution_count": null,
   "id": "11eeb6e0-da88-42a6-b80f-1d41469b6847",
   "metadata": {},
   "outputs": [],
   "source": [
    "def word_tokenizier(x):\n",
    "    return x.split(' . ')"
   ]
  },
  {
   "cell_type": "code",
   "execution_count": null,
   "id": "a24c7621-c0eb-44cf-922d-7b5d97a7af70",
   "metadata": {},
   "outputs": [],
   "source": [
    "def word2idx(x):\n",
    "    return {w: i for i, w in enumerate(x)}"
   ]
  },
  {
   "cell_type": "code",
   "execution_count": null,
   "id": "ffd02d02-08ee-43b8-88a8-e83668ad948b",
   "metadata": {},
   "outputs": [],
   "source": [
    "def one_hot_encoding(n_elements, idx):\n",
    "    zeros = torch.zeros(n_elements)\n",
    "    zeros[idx] = 1\n",
    "    return zeros"
   ]
  },
  {
   "cell_type": "code",
   "execution_count": null,
   "id": "e519dcdf-e908-44c7-9a21-9d71560eacb0",
   "metadata": {},
   "outputs": [],
   "source": [
    "vector = one_hot_encoding(len(n_users), 3)"
   ]
  },
  {
   "cell_type": "code",
   "execution_count": null,
   "id": "1fa014ce-0699-4558-be9f-025c334f4901",
   "metadata": {},
   "outputs": [],
   "source": [
    "users_factors.T() * vector"
   ]
  },
  {
   "cell_type": "code",
   "execution_count": null,
   "id": "d81e2e86-a7f2-4967-a090-be8dce2e7f68",
   "metadata": {},
   "outputs": [],
   "source": [
    "def softmax(x):\n",
    "    return x.exp() / (x.exp().sum())"
   ]
  },
  {
   "cell_type": "code",
   "execution_count": null,
   "id": "79fa275c-ab98-4b20-bd27-3c09d964cae8",
   "metadata": {},
   "outputs": [],
   "source": [
    "def sigmoid(x):\n",
    "    return 1 / (1 + np.exp(-x))"
   ]
  },
  {
   "cell_type": "code",
   "execution_count": null,
   "id": "76217f82-9493-431a-a194-678acaffcd8e",
   "metadata": {},
   "outputs": [],
   "source": [
    "idx = torch.where(dsets.train[0][1] == 1.)[0]"
   ]
  },
  {
   "cell_type": "code",
   "execution_count": null,
   "id": "bffcc0ab-221d-4b31-adb2-34a38d7ade2d",
   "metadata": {},
   "outputs": [],
   "source": [
    "item_tfms"
   ]
  },
  {
   "cell_type": "code",
   "execution_count": null,
   "id": "e6ef541b-b2a3-4acb-b7b7-7801943e4762",
   "metadata": {},
   "outputs": [],
   "source": []
  },
  {
   "cell_type": "code",
   "execution_count": null,
   "id": "6ab5b8cb-85df-43a7-a403-6e932a01b90c",
   "metadata": {},
   "outputs": [],
   "source": [
    "class Model:\n",
    "    def __init__(self, w1, b1, w2, b2):\n",
    "        self.layers = [\n",
    "            nn.Linear(w1, b1),\n",
    "            nn.ReLU(),\n",
    "            nn.Linear(w2, b2)\n",
    "        ]\n",
    "        \n",
    "        self.loss = nn.MSELoss()\n",
    "    \n",
    "    def __call__(self, x, targ):\n",
    "        for l in self.layers:\n",
    "            x = l(x)\n",
    "        \n",
    "        return self.loss(x, targ)"
   ]
  },
  {
   "cell_type": "code",
   "execution_count": null,
   "id": "4f10c868-1bcf-426a-a752-28a199577135",
   "metadata": {},
   "outputs": [],
   "source": [
    "def nll(pred, targ):\n",
    "    return -pred[range(targ.shape[0]), targ].mean()"
   ]
  },
  {
   "cell_type": "code",
   "execution_count": null,
   "id": "adae0c13-3b42-47f5-832c-fdb54ccaabd0",
   "metadata": {},
   "outputs": [],
   "source": [
    "def zero_grad(model):\n",
    "    for l in model.layers:\n",
    "        if hasattr(l, 'weight'):\n",
    "            l.weight.grad.zero_()"
   ]
  },
  {
   "cell_type": "code",
   "execution_count": null,
   "id": "0763ad89-f7fa-4a5f-a1a6-e7d7f90e60bb",
   "metadata": {},
   "outputs": [],
   "source": [
    "def accuracy(pred, targ):\n",
    "    return (torch.argmax(sm_pred, dim=-1) == targ).mean()"
   ]
  },
  {
   "cell_type": "code",
   "execution_count": null,
   "id": "357d1a84-2235-40dc-9cd8-f359f573bfae",
   "metadata": {},
   "outputs": [],
   "source": [
    "def print_layers(model):\n",
    "    for n, l in model.named_children:\n",
    "        print(f'{n} with layer: {l}')"
   ]
  },
  {
   "cell_type": "code",
   "execution_count": null,
   "id": "0c86e694-c5a2-4d47-9489-426250284655",
   "metadata": {},
   "outputs": [],
   "source": [
    "def print_parameters(layer):\n",
    "    for p in layer.parameters():\n",
    "        print(p.shape)"
   ]
  },
  {
   "cell_type": "code",
   "execution_count": null,
   "id": "85619dbf-86e9-4ffb-a3d5-45439e338d65",
   "metadata": {},
   "outputs": [],
   "source": [
    "class _DummyModule:\n",
    "    def __init__(self, n_in, nh, n_out):\n",
    "        self._modules = {}\n",
    "        self.l1 = nn.Linear(n_in, nh)\n",
    "        self.l2 = nn.Linear(nh, n_out)\n",
    "    \n",
    "    def __setattr__(self, k, v):\n",
    "        if not k.startswith('_'): self._modules[k] = v\n",
    "        super().__setattr__(k, v)"
   ]
  },
  {
   "cell_type": "markdown",
   "id": "6433754f-cf8a-48cd-8fa7-3591b2a7729d",
   "metadata": {},
   "source": [
    "### SQL"
   ]
  },
  {
   "cell_type": "code",
   "execution_count": null,
   "id": "ec1591c7-1512-4d4e-a9f3-b751794ae06b",
   "metadata": {},
   "outputs": [
    {
     "ename": "SyntaxError",
     "evalue": "invalid syntax (644191581.py, line 1)",
     "output_type": "error",
     "traceback": [
      "\u001b[0;36m  Input \u001b[0;32mIn [30]\u001b[0;36m\u001b[0m\n\u001b[0;31m    SELECT * FROM orders WHERE purchased_date INTERVAL\u001b[0m\n\u001b[0m                  ^\u001b[0m\n\u001b[0;31mSyntaxError\u001b[0m\u001b[0;31m:\u001b[0m invalid syntax\n"
     ]
    }
   ],
   "source": [
    "SELECT * FROM orders WHERE purchased_date <= now() - INTERVAL \"30 days\""
   ]
  },
  {
   "cell_type": "code",
   "execution_count": null,
   "id": "574723c6-c9d3-48aa-9f27-05f75e2bd74c",
   "metadata": {},
   "outputs": [],
   "source": [
    "SELECT DISTINCT n_epochs, lr FROM training"
   ]
  },
  {
   "cell_type": "markdown",
   "id": "fef5c0c2-f4ce-453a-bdcb-7e8daee8e2e7",
   "metadata": {},
   "source": [
    "### CI/CD"
   ]
  },
  {
   "cell_type": "code",
   "execution_count": null,
   "id": "4e840f0e-126a-48d7-bf1b-bbea4ba78e0e",
   "metadata": {},
   "outputs": [],
   "source": [
    "name: integration test\n",
    "\n",
    "on: [push]\n",
    "\n",
    "jobs:\n",
    "    test-app:\n",
    "        runs-on: ubuntu-lastest"
   ]
  },
  {
   "cell_type": "code",
   "execution_count": null,
   "id": "7b1e4ef3-8de2-42e0-8dc3-08f12f918435",
   "metadata": {},
   "outputs": [],
   "source": [
    "deep_learning: ab >\n",
    "c"
   ]
  },
  {
   "cell_type": "code",
   "execution_count": null,
   "id": "0de1fb8a-581b-47c4-bcd8-419c39969358",
   "metadata": {},
   "outputs": [],
   "source": [
    "name: Shivon\n",
    "job: engineer\n",
    "company:\n",
    "    name"
   ]
  },
  {
   "cell_type": "code",
   "execution_count": null,
   "id": "27e06d37-376e-4002-b785-438e6e8d6081",
   "metadata": {},
   "outputs": [],
   "source": [
    "stable_diffusion:\n",
    "    - text_to_image: clip\n",
    "      parameters: latent space\n",
    "image_multiclass: None"
   ]
  },
  {
   "cell_type": "code",
   "execution_count": null,
   "id": "5d5ff9ae-75d4-4843-89ff-341b48ff30ad",
   "metadata": {},
   "outputs": [],
   "source": [
    "foundation:\n",
    "    - physics\n",
    "    - ai\n",
    "    - matsci\n",
    "    - nano"
   ]
  },
  {
   "cell_type": "markdown",
   "id": "c295b53f-c600-41e7-a2d0-59ce27649bbd",
   "metadata": {},
   "source": [
    "### Docker"
   ]
  },
  {
   "cell_type": "code",
   "execution_count": null,
   "id": "35652037-a0fa-4515-a23a-862b00b588ea",
   "metadata": {},
   "outputs": [],
   "source": [
    "docker run -p6000:1000 redis"
   ]
  },
  {
   "cell_type": "code",
   "execution_count": null,
   "id": "9575345d-377b-4d38-b990-b1c5fff35a1c",
   "metadata": {},
   "outputs": [],
   "source": [
    "docker ps"
   ]
  },
  {
   "cell_type": "code",
   "execution_count": null,
   "id": "fcf667f6-8761-4d85-b441-72c1f3eaac6a",
   "metadata": {},
   "outputs": [],
   "source": [
    "docker ps -a"
   ]
  },
  {
   "cell_type": "code",
   "execution_count": null,
   "id": "ca2156f9-3d19-4070-bb0b-489ceb7aede7",
   "metadata": {},
   "outputs": [],
   "source": [
    "docker logs monitor_app"
   ]
  },
  {
   "cell_type": "code",
   "execution_count": null,
   "id": "3137577c-34a5-4825-8141-e677aef9f5ef",
   "metadata": {},
   "outputs": [],
   "source": [
    "docker run postgres:4.3"
   ]
  },
  {
   "cell_type": "code",
   "execution_count": null,
   "id": "cd241a6d-3eee-4163-a623-4d1650fd976a",
   "metadata": {},
   "outputs": [],
   "source": [
    "docker run --name test_app redis"
   ]
  },
  {
   "cell_type": "code",
   "execution_count": null,
   "id": "00543894-fbf5-45f8-a8d6-27ec733a8881",
   "metadata": {},
   "outputs": [],
   "source": [
    "docker images"
   ]
  },
  {
   "cell_type": "code",
   "execution_count": null,
   "id": "9781858d-ae02-43d8-ba1f-6b53e34ef636",
   "metadata": {},
   "outputs": [],
   "source": [
    "version: 0.01\n",
    "services:\n",
    "    mongodb:\n",
    "        image: mongo"
   ]
  },
  {
   "cell_type": "markdown",
   "id": "223d6322-1b74-45f8-87b2-302023f0f480",
   "metadata": {},
   "source": [
    "### bash"
   ]
  },
  {
   "cell_type": "code",
   "execution_count": null,
   "id": "69f5a242-ea04-45fe-a900-e9d7af07c6e7",
   "metadata": {},
   "outputs": [],
   "source": [
    "-w-"
   ]
  },
  {
   "cell_type": "code",
   "execution_count": null,
   "id": "3b5466a7-58ea-49ec-bdc7-fcdd68c1ac10",
   "metadata": {},
   "outputs": [],
   "source": [
    "cat < h1.txt >> h2.txt"
   ]
  },
  {
   "cell_type": "code",
   "execution_count": null,
   "id": "5f2f2b7b-1558-42e5-b0a9-f82c26dfcb21",
   "metadata": {},
   "outputs": [],
   "source": [
    "if [[X == Y]]; then\n",
    "    # code\n",
    "elif [[X == Z]]; then\n",
    "    # code\n",
    "fi"
   ]
  },
  {
   "cell_type": "code",
   "execution_count": null,
   "id": "17b3d498-4d90-45a6-b54c-6dc825b4b929",
   "metadata": {},
   "outputs": [],
   "source": [
    "foo = $(pwd)"
   ]
  },
  {
   "cell_type": "code",
   "execution_count": null,
   "id": "c38d5ad0-6e00-4a79-9f84-bfe3ac5c25cc",
   "metadata": {},
   "outputs": [],
   "source": [
    "ls | tee output.txt"
   ]
  },
  {
   "cell_type": "code",
   "execution_count": null,
   "id": "c0f20fd2-d7cc-40b5-a35f-cd459667c268",
   "metadata": {},
   "outputs": [],
   "source": [
    "$?"
   ]
  },
  {
   "cell_type": "code",
   "execution_count": null,
   "id": "148cc182-251f-4793-9cf6-84f44786ce04",
   "metadata": {},
   "outputs": [],
   "source": [
    "ls -l | tail -n1"
   ]
  },
  {
   "cell_type": "code",
   "execution_count": null,
   "id": "5f058223-b882-482e-83fb-07157777f847",
   "metadata": {},
   "outputs": [],
   "source": [
    "X -ne Y"
   ]
  },
  {
   "cell_type": "code",
   "execution_count": null,
   "id": "87ac74bd-71e0-4470-9cdc-52ee38e474c1",
   "metadata": {},
   "outputs": [],
   "source": [
    "cat foo{, 1, 2, 3}"
   ]
  },
  {
   "cell_type": "code",
   "execution_count": null,
   "id": "736c3bab-f8f9-4861-b5ed-34f26843eadc",
   "metadata": {},
   "outputs": [],
   "source": [
    "diff a b"
   ]
  },
  {
   "cell_type": "code",
   "execution_count": null,
   "id": "b86ea1e4-e368-4402-94ec-c57a0a73cdac",
   "metadata": {},
   "outputs": [],
   "source": [
    "grep hello x.txt"
   ]
  },
  {
   "cell_type": "code",
   "execution_count": null,
   "id": "170826aa-95b3-435f-a952-1ad77e7e54d6",
   "metadata": {},
   "outputs": [],
   "source": [
    "version: 0.01\n",
    "services:\n",
    "    mongodb:\n",
    "        image: mongo"
   ]
  },
  {
   "cell_type": "code",
   "execution_count": null,
   "id": "45361f06-bc9d-4805-9979-88630cff7624",
   "metadata": {},
   "outputs": [],
   "source": [
    "find ./project --name src --type d"
   ]
  },
  {
   "cell_type": "code",
   "execution_count": null,
   "id": "453e2e65-3b83-41d9-8bed-5f555c56b33e",
   "metadata": {},
   "outputs": [],
   "source": [
    "ls *.sh"
   ]
  },
  {
   "cell_type": "code",
   "execution_count": null,
   "id": "4829f61d-d435-42e7-a33b-4996f1ca5afc",
   "metadata": {},
   "outputs": [],
   "source": [
    "make_folder () {\n",
    "    mkdir \"$1\"\n",
    "    cd \"$1\"\n",
    "}"
   ]
  },
  {
   "cell_type": "markdown",
   "id": "5e03850e-c77f-4d94-847b-464a20972667",
   "metadata": {},
   "source": [
    "### Python"
   ]
  },
  {
   "cell_type": "code",
   "execution_count": null,
   "id": "c79f5a1f-8bc1-4ab7-9bd2-91b739f5a026",
   "metadata": {},
   "outputs": [],
   "source": [
    "import re"
   ]
  },
  {
   "cell_type": "code",
   "execution_count": null,
   "id": "07667211-c4b4-4d5f-b380-19205c43b79a",
   "metadata": {},
   "outputs": [],
   "source": [
    "pattern = re.compile(r'abc')"
   ]
  },
  {
   "cell_type": "code",
   "execution_count": null,
   "id": "214f99e2-1536-4b79-bef5-dd059de9de8f",
   "metadata": {},
   "outputs": [],
   "source": [
    "matches = pattern.finditer()"
   ]
  },
  {
   "cell_type": "code",
   "execution_count": null,
   "id": "20cbae12-974b-4342-8bc4-4d5f0b87efb8",
   "metadata": {},
   "outputs": [],
   "source": [
    "try:\n",
    "    age = int(input('what is your age'))\n",
    "    print(age)\n",
    "except:\n",
    "    print('please enter a number')"
   ]
  },
  {
   "cell_type": "code",
   "execution_count": null,
   "id": "cae14af6-3a9e-4c35-96ca-6609c209f801",
   "metadata": {},
   "outputs": [],
   "source": [
    "try:\n",
    "    if a < 10:\n",
    "        raise Exception"
   ]
  },
  {
   "cell_type": "code",
   "execution_count": null,
   "id": "db84d685-2569-4e1c-9abe-03a1ae20408b",
   "metadata": {},
   "outputs": [],
   "source": [
    "import unittest"
   ]
  },
  {
   "cell_type": "code",
   "execution_count": null,
   "id": "020bc5cc-37f9-4bee-bf47-231452b61dad",
   "metadata": {},
   "outputs": [],
   "source": [
    "class TestMain(unittest.TestCase):\n",
    "    def test_do_sutff(self):\n",
    "        self.assertIsInstance(do_stuff, ValueError)"
   ]
  },
  {
   "cell_type": "code",
   "execution_count": null,
   "id": "152fe6d0-0c46-4f5e-aebf-a950c6053921",
   "metadata": {},
   "outputs": [],
   "source": [
    "from typing import Sequence"
   ]
  },
  {
   "cell_type": "code",
   "execution_count": null,
   "id": "f7dc6656-86da-429e-8ed5-dc5cd4b13e1a",
   "metadata": {},
   "outputs": [],
   "source": [
    "foo: Seqence[str]"
   ]
  },
  {
   "cell_type": "code",
   "execution_count": null,
   "id": "d76b2913-fcb7-435e-ad1a-f3358e97a579",
   "metadata": {},
   "outputs": [],
   "source": [
    "Vector = list[float]"
   ]
  },
  {
   "cell_type": "code",
   "execution_count": null,
   "id": "5cc1a393-9217-4267-9369-99baf4d06f03",
   "metadata": {},
   "outputs": [],
   "source": [
    "def coordinate(v: Vector) -> Vector:\n",
    "    return ..."
   ]
  },
  {
   "cell_type": "code",
   "execution_count": null,
   "id": "44c40b84-11d7-47a6-a897-945a0ddb7947",
   "metadata": {},
   "outputs": [],
   "source": [
    "x: set[str,...]"
   ]
  },
  {
   "cell_type": "code",
   "execution_count": null,
   "id": "2a0a925e-29ea-4fb7-9037-83021caa0dc4",
   "metadata": {},
   "outputs": [],
   "source": [
    "from typing import Optional"
   ]
  },
  {
   "cell_type": "code",
   "execution_count": null,
   "id": "e557d69b-652e-455e-9039-defba9a1283f",
   "metadata": {},
   "outputs": [],
   "source": [
    "value: bool"
   ]
  },
  {
   "cell_type": "code",
   "execution_count": null,
   "id": "254fff57-9e98-4367-ad84-ca8137c41c3f",
   "metadata": {},
   "outputs": [],
   "source": [
    "def is_valid(value: Optional[bool] = False) -> bool:\n",
    "    return value"
   ]
  },
  {
   "cell_type": "code",
   "execution_count": null,
   "id": "f51c0653-a4d9-4f52-aa41-48b798889ce3",
   "metadata": {},
   "outputs": [],
   "source": [
    "MetaStudent = type('MetaStudent', (), {'major': 'chem'})"
   ]
  },
  {
   "cell_type": "code",
   "execution_count": null,
   "id": "2dee5170-d863-4f75-a443-c48c64c14729",
   "metadata": {},
   "outputs": [],
   "source": [
    "class Vehicle:\n",
    "    def __init__(self):\n",
    "        self._color = None\n",
    "    \n",
    "    @property\n",
    "    def color(self):\n",
    "        return self._color\n",
    "    \n",
    "    @color.setter\n",
    "    def color(self, color):\n",
    "        self._color = color"
   ]
  },
  {
   "cell_type": "code",
   "execution_count": null,
   "id": "6ac245a1-367b-4537-bb9b-36dd38f0deb3",
   "metadata": {},
   "outputs": [],
   "source": [
    "class Zoo:\n",
    "    def __init__(self):\n",
    "        self._population = []\n",
    "    \n",
    "    def add_animal(self, animal):\n",
    "        self._population.append(animal)\n",
    "    \n",
    "    def __contains__(self, item):\n",
    "        return item in self._population"
   ]
  },
  {
   "cell_type": "code",
   "execution_count": null,
   "id": "3e0cafc7-7afe-4e1d-838b-ac594f018028",
   "metadata": {},
   "outputs": [],
   "source": [
    "from enum import Enum"
   ]
  },
  {
   "cell_type": "code",
   "execution_count": null,
   "id": "444dc00b-010e-43e2-8b33-78fdb6e05771",
   "metadata": {},
   "outputs": [],
   "source": [
    "class Colors(Enum):\n",
    "    RED = 'Red'\n",
    "    ORANGE = 'Orange'\n",
    "    BLUE = 'Blue'\n",
    "    \n",
    "    @property\n",
    "    def is_hot(self):\n",
    "        return self in [Colors.RED, Colors.ORANGE]"
   ]
  },
  {
   "cell_type": "code",
   "execution_count": null,
   "id": "76242941-bbe6-4e25-bf0b-57afca8130f1",
   "metadata": {},
   "outputs": [
    {
     "data": {
      "text/plain": [
       "False"
      ]
     },
     "execution_count": null,
     "metadata": {},
     "output_type": "execute_result"
    }
   ],
   "source": [
    "Colors.BLUE.is_hot"
   ]
  },
  {
   "cell_type": "code",
   "execution_count": null,
   "id": "518f3cad-904f-41b1-8f88-f5bde4847502",
   "metadata": {},
   "outputs": [
    {
     "ename": "SyntaxError",
     "evalue": "invalid syntax (88642149.py, line 1)",
     "output_type": "error",
     "traceback": [
      "\u001b[0;36m  Input \u001b[0;32mIn [51]\u001b[0;36m\u001b[0m\n\u001b[0;31m    $?\u001b[0m\n\u001b[0m    ^\u001b[0m\n\u001b[0;31mSyntaxError\u001b[0m\u001b[0;31m:\u001b[0m invalid syntax\n"
     ]
    }
   ],
   "source": [
    "$?"
   ]
  },
  {
   "cell_type": "code",
   "execution_count": null,
   "id": "acf8643c-a000-4692-8703-af298a56792c",
   "metadata": {},
   "outputs": [
    {
     "ename": "NameError",
     "evalue": "name 'A' is not defined",
     "output_type": "error",
     "traceback": [
      "\u001b[0;31m---------------------------------------------------------------------------\u001b[0m",
      "\u001b[0;31mNameError\u001b[0m                                 Traceback (most recent call last)",
      "Input \u001b[0;32mIn [52]\u001b[0m, in \u001b[0;36m<cell line: 1>\u001b[0;34m()\u001b[0m\n\u001b[0;32m----> 1\u001b[0m \u001b[38;5;28;01mclass\u001b[39;00m \u001b[38;5;21;01mB\u001b[39;00m(\u001b[43mA\u001b[49m):\n\u001b[1;32m      2\u001b[0m     \u001b[38;5;28;01mdef\u001b[39;00m \u001b[38;5;21m__init__\u001b[39m(\u001b[38;5;28mself\u001b[39m, name, power):\n\u001b[1;32m      3\u001b[0m         \u001b[38;5;28msuper\u001b[39m()\u001b[38;5;241m.\u001b[39m\u001b[38;5;21m__init__\u001b[39m(name)\n",
      "\u001b[0;31mNameError\u001b[0m: name 'A' is not defined"
     ]
    }
   ],
   "source": [
    "class B(A):\n",
    "    def __init__(self, name, power):\n",
    "        super().__init__(name)\n",
    "        self.power = power"
   ]
  },
  {
   "cell_type": "code",
   "execution_count": null,
   "id": "9328d9e5-690e-461c-8c73-6f4e92038088",
   "metadata": {},
   "outputs": [],
   "source": [
    "import pytest"
   ]
  },
  {
   "cell_type": "code",
   "execution_count": null,
   "id": "f613d355-0629-4a04-92f5-658f739b4dc4",
   "metadata": {},
   "outputs": [],
   "source": [
    "@pytest.mark.skipif(a>b, reason='cause i want to')\n",
    "def test_func_3():\n",
    "    pass"
   ]
  },
  {
   "cell_type": "code",
   "execution_count": null,
   "id": "dba6108c-48ce-48a9-869c-2496845163c3",
   "metadata": {},
   "outputs": [],
   "source": [
    "@pytest.mark.fixture\n",
    "def book():\n",
    "    return Book('XX')"
   ]
  },
  {
   "cell_type": "code",
   "execution_count": null,
   "id": "2143cbcd-ded4-4528-8a83-f6f7346a8620",
   "metadata": {},
   "outputs": [],
   "source": [
    "def test_book(book):\n",
    "    assert book.name == 'X'"
   ]
  },
  {
   "cell_type": "markdown",
   "id": "c4d2f14c-aefc-4909-bd08-a77fad7f77b6",
   "metadata": {},
   "source": [
    "### fastcore"
   ]
  },
  {
   "cell_type": "code",
   "execution_count": null,
   "id": "953fc81e-53f8-485c-824b-2e7f37c77167",
   "metadata": {},
   "outputs": [],
   "source": [
    "from fastcore.all import *"
   ]
  },
  {
   "cell_type": "code",
   "execution_count": null,
   "id": "4312d7ea-fa71-4b0c-8c83-5d08b7c2cc05",
   "metadata": {},
   "outputs": [],
   "source": [
    "class Foo:\n",
    "    def __init__(self, a, b):\n",
    "        self.a, self.b = a, b\n",
    "    \n",
    "    __repr__ = basic_repr('a, b')"
   ]
  },
  {
   "cell_type": "code",
   "execution_count": null,
   "id": "8485f52b-b4cf-4250-a063-0da64815bbc6",
   "metadata": {},
   "outputs": [],
   "source": [
    "f = Foo(1, 2)"
   ]
  },
  {
   "cell_type": "code",
   "execution_count": null,
   "id": "984ebf73-2dfc-4431-8066-859b7f52be98",
   "metadata": {},
   "outputs": [
    {
     "data": {
      "text/plain": [
       "__main__.Foo(a=1, b=2)"
      ]
     },
     "execution_count": null,
     "metadata": {},
     "output_type": "execute_result"
    }
   ],
   "source": [
    "f"
   ]
  },
  {
   "cell_type": "markdown",
   "id": "70706276-4a68-4ff7-8974-6d8dc7eb952d",
   "metadata": {},
   "source": [
    "### Design Patterns"
   ]
  },
  {
   "cell_type": "code",
   "execution_count": null,
   "id": "d3606a44-dfe3-47c9-b4d6-65b722beb28a",
   "metadata": {},
   "outputs": [],
   "source": [
    "from abc import ABC, abstractmethod"
   ]
  },
  {
   "cell_type": "code",
   "execution_count": null,
   "id": "369eb6e0-294f-4522-9cfc-aaf9da0162e3",
   "metadata": {},
   "outputs": [],
   "source": [
    "class Report(ABC):\n",
    "    def make_report(self):\n",
    "        print(f'Company: {self.company}')\n",
    "        self.make_report_body()\n",
    "    \n",
    "    @abstractmethod\n",
    "    def make_report_body(self): pass"
   ]
  },
  {
   "cell_type": "code",
   "execution_count": null,
   "id": "2e98404e-ca19-4348-b2aa-9b810d255442",
   "metadata": {},
   "outputs": [],
   "source": [
    "class SalesReport(Report):\n",
    "    def __init__(self, company, sales):\n",
    "        self.company = company\n",
    "        self.sales = sales\n",
    "        \n",
    "    def make_report_body(self):\n",
    "        print(f'Sales: {self.sales}')"
   ]
  },
  {
   "cell_type": "code",
   "execution_count": null,
   "id": "310d69d9-8a22-4745-a79c-f2ed7de13f9a",
   "metadata": {},
   "outputs": [],
   "source": [
    "class CostsReport(Report):\n",
    "    def __init__(self, company, sales):\n",
    "        self.company = company\n",
    "        self.costs = costs\n",
    "        \n",
    "    def make_report_body(self):\n",
    "        print(f'Costs: {self.costs}')"
   ]
  },
  {
   "cell_type": "code",
   "execution_count": null,
   "id": "1e7c907d-10b3-4f4d-b39b-9a7d3a919696",
   "metadata": {},
   "outputs": [],
   "source": [
    "class PersonBuilder:\n",
    "    def __init__(self):\n",
    "        self.person = Person()\n",
    "    \n",
    "    @property\n",
    "    def lives(self):\n",
    "        return PersonAddressBuilder(person=self.person)\n",
    "    \n",
    "    @property\n",
    "    def works(self):\n",
    "        pass\n",
    "    \n",
    "    def build(self):\n",
    "        return self.person"
   ]
  },
  {
   "cell_type": "code",
   "execution_count": null,
   "id": "4c25e007-bf42-44bf-a239-7347e173783b",
   "metadata": {},
   "outputs": [],
   "source": [
    "class PersonAddressBuilder:\n",
    "    def __init__(self, person):\n",
    "        self.person = person\n",
    "    \n",
    "    def in_city(self, city):\n",
    "        self.person.city = city\n",
    "        return self\n",
    "\n",
    "    def with_postcode(self, postcode):\n",
    "        self.person.postcode = postcode\n",
    "        return self"
   ]
  },
  {
   "cell_type": "code",
   "execution_count": null,
   "id": "7c9d2a78-d9f6-4570-bb0b-cc3ccfa13467",
   "metadata": {},
   "outputs": [],
   "source": [
    "class PersonJobBuilder:\n",
    "    def __init__(self, person):\n",
    "        self.person = person\n",
    "    \n",
    "    def at(self, company_name):\n",
    "        self.person.company_name = company_name\n",
    "        return self\n",
    "\n",
    "    def earning(self, annual_income):\n",
    "        self.person.annual_income = annual_income\n",
    "        return self"
   ]
  },
  {
   "cell_type": "markdown",
   "id": "10738866-efb4-440d-9231-c5068cd29ed9",
   "metadata": {},
   "source": [
    "### Docker"
   ]
  },
  {
   "cell_type": "code",
   "execution_count": null,
   "id": "f653304a-f1ce-4088-a9e0-903442fda9f2",
   "metadata": {},
   "outputs": [],
   "source": [
    "docker-compose -f mongo.yaml up"
   ]
  },
  {
   "cell_type": "code",
   "execution_count": null,
   "id": "041f6112-91c8-468d-91e4-5327625d3787",
   "metadata": {},
   "outputs": [],
   "source": [
    "docker network create mongo-network"
   ]
  },
  {
   "cell_type": "code",
   "execution_count": null,
   "id": "f20aa539-e841-48d4-bfe3-a6aa1db8e3f7",
   "metadata": {},
   "outputs": [],
   "source": [
    "docker run --net mongo-network mongo"
   ]
  },
  {
   "cell_type": "code",
   "execution_count": null,
   "id": "2bb966bc-d18b-4e3d-a584-74882400d433",
   "metadata": {},
   "outputs": [],
   "source": [
    "docker network"
   ]
  },
  {
   "cell_type": "code",
   "execution_count": null,
   "id": "4abd1212-0c7f-4c62-abf5-9ecbad16ed99",
   "metadata": {},
   "outputs": [],
   "source": [
    "docker exec -t 12a /bin/bash"
   ]
  },
  {
   "cell_type": "code",
   "execution_count": null,
   "id": "36d6edc1-30a4-49b2-9884-82a4d616d34f",
   "metadata": {},
   "outputs": [],
   "source": [
    "docker pull redis"
   ]
  },
  {
   "cell_type": "code",
   "execution_count": null,
   "id": "81e404e5-c9cc-444f-9031-df580c35b17c",
   "metadata": {},
   "outputs": [],
   "source": [
    "docker run -d redis"
   ]
  },
  {
   "cell_type": "markdown",
   "id": "dabf3754-bbf6-420b-a3dc-db430a38b0ec",
   "metadata": {},
   "source": [
    "### SQL"
   ]
  },
  {
   "cell_type": "code",
   "execution_count": null,
   "id": "355776ab-b7ed-471d-b143-ab9948ffbfa2",
   "metadata": {},
   "outputs": [],
   "source": [
    "SELECT * FROM orders WHERE purchased_date <= now() - INTERVAL '30 days'"
   ]
  },
  {
   "cell_type": "code",
   "execution_count": null,
   "id": "c721d50e-1ca2-4a52-87ea-b6af89f9b36d",
   "metadata": {},
   "outputs": [],
   "source": [
    "SELECT * FROM training SORT BY accurate DESC"
   ]
  },
  {
   "cell_type": "code",
   "execution_count": null,
   "id": "b12a166d-3178-4e44-a15b-83c043c291b4",
   "metadata": {},
   "outputs": [],
   "source": [
    "SELECT DISTINCT salary FROM salaries"
   ]
  },
  {
   "cell_type": "code",
   "execution_count": null,
   "id": "22cfec04-d7ba-4c65-a8b6-87530b730967",
   "metadata": {},
   "outputs": [],
   "source": [
    "SELECT * FROM users SORT BY LENGTH(first_name) ASC"
   ]
  },
  {
   "cell_type": "markdown",
   "id": "1b789298-2745-4e7a-8cbd-d272d771a061",
   "metadata": {},
   "source": [
    "SELECT training.accuracy, datasets.size FROM training, datasets WHERE training.dsets_id == datasets.id"
   ]
  },
  {
   "cell_type": "code",
   "execution_count": null,
   "id": "77018a68-7427-4203-844c-41c91ad3c351",
   "metadata": {},
   "outputs": [],
   "source": [
    "version: 0.01\n",
    "services:\n",
    "    mongodb:\n",
    "        image: mongo\n",
    "        ports:\n",
    "            - 27017:27017"
   ]
  },
  {
   "cell_type": "code",
   "execution_count": null,
   "id": "0978abb0-c3c7-4fb7-9318-1462a44fd8cf",
   "metadata": {},
   "outputs": [],
   "source": [
    "SELECT * FROM product.images"
   ]
  },
  {
   "cell_type": "code",
   "execution_count": null,
   "id": "e4652e47-a05a-4b27-8fb7-72c93a359a11",
   "metadata": {},
   "outputs": [],
   "source": [
    "SELECT coalesce(n_epochs, 10)"
   ]
  }
 ],
 "metadata": {
  "kernelspec": {
   "display_name": "Python 3 (ipykernel)",
   "language": "python",
   "name": "python3"
  }
 },
 "nbformat": 4,
 "nbformat_minor": 5
}
