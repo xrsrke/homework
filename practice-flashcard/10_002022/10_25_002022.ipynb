{
 "cells": [
  {
   "cell_type": "markdown",
   "id": "72901d58-a64a-436b-a36e-8fdb1c94d04a",
   "metadata": {},
   "source": [
    "### Deep Learning"
   ]
  },
  {
   "cell_type": "code",
   "execution_count": null,
   "id": "7b4703ae-bdc3-4b08-8710-e14a0871d6d5",
   "metadata": {},
   "outputs": [],
   "source": [
    "import torch"
   ]
  },
  {
   "cell_type": "code",
   "execution_count": null,
   "id": "f4dffe8c-fe18-4090-900e-6da7a85bae42",
   "metadata": {},
   "outputs": [],
   "source": [
    "class SamplerDemo:\n",
    "    def __init__(self, ds, bs, shuffle):\n",
    "        self.n = len(self.ds)\n",
    "        self.bs = self.bs\n",
    "        self.shuffle = shuffle\n",
    "    \n",
    "    def __iter__(self):\n",
    "        self.idxs = torch.randperm(self.n) if self.shuffle else torch.arange(self.n)\n",
    "        \n",
    "        for i in range(0, self.n, self.bs):\n",
    "            yield self.idxs[i:i+bs]"
   ]
  },
  {
   "cell_type": "code",
   "execution_count": null,
   "id": "d1a788c1-744d-4dfa-9aec-4854c34bab1f",
   "metadata": {},
   "outputs": [],
   "source": [
    "def zero_grad(model):\n",
    "    for l in model.layers:\n",
    "            if hasattr(p, 'weight'):\n",
    "                p.weight.grad.data.zero_()"
   ]
  },
  {
   "cell_type": "code",
   "execution_count": null,
   "id": "a3b25c86-3c99-4b4d-af16-98820d790661",
   "metadata": {},
   "outputs": [],
   "source": [
    "def accuracy(pred, targ):\n",
    "    idx_preds = torch.argmax(pred, dim=-1)\n",
    "    return (idx_preds == targ).float().mean()"
   ]
  },
  {
   "cell_type": "code",
   "execution_count": null,
   "id": "3d201a84-79ac-4bbc-843b-8d4cdd853184",
   "metadata": {},
   "outputs": [],
   "source": [
    "class Dataset:\n",
    "    def __init__(self, x, y):\n",
    "        self.x = x\n",
    "        self.y = y\n",
    "    \n",
    "    def __len__(self): return len(self.x)\n",
    "    \n",
    "    def __getitem__(self, idx):\n",
    "        return self.x[idx], self.y[idx]"
   ]
  },
  {
   "cell_type": "code",
   "execution_count": null,
   "id": "2329cd19-c22c-428a-81ff-0dbf1c69afc5",
   "metadata": {},
   "outputs": [],
   "source": [
    "from torch.utils.data import DataLoader"
   ]
  },
  {
   "cell_type": "code",
   "execution_count": null,
   "id": "dabc6bdf-cabd-47d2-85f6-f627752f6f10",
   "metadata": {},
   "outputs": [],
   "source": [
    "train_dl = DataLoader(train_ds, batch_size=64b)"
   ]
  },
  {
   "cell_type": "code",
   "execution_count": null,
   "id": "942660c9-b721-42c8-bf40-de9972e9924a",
   "metadata": {},
   "outputs": [],
   "source": [
    "class DataLoader:\n",
    "    def __init__(self, ds, bs):\n",
    "        self.ds = ds\n",
    "        self.bs = bs\n",
    "    \n",
    "    def __iter__(self):\n",
    "        for i in range(0, len(self.ds), self.bs):\n",
    "            yield self.ds[i:i+self.bs]"
   ]
  },
  {
   "cell_type": "code",
   "execution_count": null,
   "id": "d7807d91-ca70-4a7f-a5f6-646c251404ef",
   "metadata": {},
   "outputs": [],
   "source": [
    "_tensor = torch.randperm(10)"
   ]
  },
  {
   "cell_type": "code",
   "execution_count": null,
   "id": "e7aa2652-9b2f-498b-9ee2-ff83b2b0bae1",
   "metadata": {},
   "outputs": [
    {
     "data": {
      "text/plain": [
       "tensor([0, 3, 8, 6, 7, 2, 5, 9, 1, 4])"
      ]
     },
     "execution_count": null,
     "metadata": {},
     "output_type": "execute_result"
    }
   ],
   "source": [
    "_tensor"
   ]
  },
  {
   "cell_type": "code",
   "execution_count": null,
   "id": "6dc8be85-09b2-4aa2-bdb8-1fbd6f9bba03",
   "metadata": {},
   "outputs": [],
   "source": [
    "def print_parameters(layer):\n",
    "    for p in layer.parameters():\n",
    "        print(p.shape)"
   ]
  },
  {
   "cell_type": "code",
   "execution_count": null,
   "id": "ca817c2d-3799-41b2-8553-11a2eb370473",
   "metadata": {},
   "outputs": [],
   "source": [
    "import torch.nn as nn"
   ]
  },
  {
   "cell_type": "code",
   "execution_count": null,
   "id": "f26be347-90a8-423f-aecb-6d483e273899",
   "metadata": {},
   "outputs": [],
   "source": [
    "class _DummyModule:\n",
    "    def __init__(self, n_in, nh, n_out):\n",
    "        self._modules = {}\n",
    "        self.l1 = nn.Linear(n_in, nh)\n",
    "        self.l2 = nn.Linear(nh, n_out)\n",
    "    \n",
    "    def __setattr__(self, k, v):\n",
    "        if not k.startswith('_'):\n",
    "            self._modules[k] = v\n",
    "        \n",
    "        super().__setattr__(k, v)"
   ]
  },
  {
   "cell_type": "code",
   "execution_count": null,
   "id": "fefcfbe3-77a0-4a03-a9f6-38f3258ba361",
   "metadata": {},
   "outputs": [],
   "source": [
    "class Optimizier:\n",
    "    def __init__(self, params, lr):\n",
    "        self.params = params\n",
    "        self.lr = lr\n",
    "    \n",
    "    def zero_grad(self):\n",
    "        for p in self.params:\n",
    "            p.grad.data.zero_()"
   ]
  },
  {
   "cell_type": "code",
   "execution_count": null,
   "id": "2ab07580-0c15-4513-801d-de82496b49e3",
   "metadata": {},
   "outputs": [],
   "source": [
    "class Model:\n",
    "    def __init__(self, n_in, nh, n_out):\n",
    "        self.layers = [\n",
    "            nn.Linear(n_in, nh),\n",
    "            nn.ReLU(),\n",
    "            nn.Linear(nh, n_out)\n",
    "        ]\n",
    "    \n",
    "    def __call__(self, x):\n",
    "        for l in self.layers:\n",
    "            x = l(x)\n",
    "        \n",
    "        return x"
   ]
  },
  {
   "cell_type": "code",
   "execution_count": null,
   "id": "d1c435d5-e33e-4b8e-8527-f8ab4d1ef41c",
   "metadata": {},
   "outputs": [],
   "source": [
    "def log_softmax(x):\n",
    "    softmax = x.exp() / x.exp().sum()\n",
    "    return softmax.log()"
   ]
  },
  {
   "cell_type": "code",
   "execution_count": null,
   "id": "6df1fb07-bef2-4887-90df-c5acdb755903",
   "metadata": {},
   "outputs": [],
   "source": [
    "def nll_loss(pred, targ):\n",
    "    return -pred[range(targ.shape[0]), targ].mean()"
   ]
  },
  {
   "cell_type": "code",
   "execution_count": null,
   "id": "f69ece3a-37b8-47ab-9686-11d0d696b2df",
   "metadata": {},
   "outputs": [],
   "source": [
    "def validation_model(model):\n",
    "    model.eval()"
   ]
  },
  {
   "cell_type": "code",
   "execution_count": null,
   "id": "029072c8-bbe2-4a96-8eaf-4401e9679ed4",
   "metadata": {},
   "outputs": [],
   "source": [
    "def validation_model()"
   ]
  },
  {
   "cell_type": "code",
   "execution_count": null,
   "id": "a16da566-e0a1-4851-be72-b9f50375050c",
   "metadata": {},
   "outputs": [],
   "source": [
    "def normalize(x):\n",
    "    return (x - x.mean()) / x.std()"
   ]
  },
  {
   "cell_type": "code",
   "execution_count": null,
   "id": "ca54e230-78b5-44d8-abbf-e96104188cdd",
   "metadata": {},
   "outputs": [],
   "source": [
    "def relu(x):\n",
    "    return torch.clamp_min(x, 0.)"
   ]
  },
  {
   "cell_type": "code",
   "execution_count": null,
   "id": "a21fa34b-9671-4938-a6ea-ecb19178c677",
   "metadata": {},
   "outputs": [],
   "source": [
    "class DotProduct(nn.Module):\n",
    "    def __init__(self, n_users, n_movies, n_factors):\n",
    "        self.user_factors = nn.Embedding(n_users, n_factors)\n",
    "        self.movie_factors = nn.Embedding(n_movies, n_factors)"
   ]
  },
  {
   "cell_type": "code",
   "execution_count": null,
   "id": "dcc38465-d602-4d2e-81ec-1d6cf674aaf0",
   "metadata": {},
   "outputs": [],
   "source": [
    "def fill_normal(x):\n",
    "    return x.normal_(0, 0.01)"
   ]
  },
  {
   "cell_type": "code",
   "execution_count": null,
   "id": "9940f238-d828-425d-b2d5-ac7ba1b930d1",
   "metadata": {},
   "outputs": [],
   "source": [
    "from torchvision import transforms as tfms"
   ]
  },
  {
   "cell_type": "code",
   "execution_count": null,
   "id": "7d927869-c759-491e-8c63-12a01a0f6b40",
   "metadata": {},
   "outputs": [],
   "source": [
    "from PIL import Image"
   ]
  },
  {
   "cell_type": "code",
   "execution_count": null,
   "id": "84825c4c-f905-4c83-876b-d44d8fd7e245",
   "metadata": {},
   "outputs": [],
   "source": [
    "def load_and_resize(path, size):\n",
    "    return Image.open(path).resize(size)"
   ]
  },
  {
   "cell_type": "code",
   "execution_count": null,
   "id": "a29aef8a-1da6-45b4-b006-cb78d16280b4",
   "metadata": {},
   "outputs": [],
   "source": [
    " "
   ]
  }
 ],
 "metadata": {
  "kernelspec": {
   "display_name": "Python 3 (ipykernel)",
   "language": "python",
   "name": "python3"
  }
 },
 "nbformat": 4,
 "nbformat_minor": 5
}
