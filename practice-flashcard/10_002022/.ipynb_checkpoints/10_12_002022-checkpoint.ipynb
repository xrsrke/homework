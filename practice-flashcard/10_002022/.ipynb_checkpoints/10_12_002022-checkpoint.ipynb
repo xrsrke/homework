{
 "cells": [
  {
   "cell_type": "markdown",
   "id": "b466cdc5-0012-4131-ac71-cf6445abac2d",
   "metadata": {},
   "source": [
    "### Deep Learning"
   ]
  },
  {
   "cell_type": "code",
   "execution_count": null,
   "id": "6060fb9f-c21f-443d-baed-97b27b4dda3d",
   "metadata": {},
   "outputs": [],
   "source": [
    "import torch"
   ]
  },
  {
   "cell_type": "code",
   "execution_count": null,
   "id": "8843fd40-9c56-490f-a44d-728bb3650285",
   "metadata": {},
   "outputs": [],
   "source": [
    "def embedding_matrix(n_elements, n_factors):\n",
    "    return torch.randn(n_elements, n_factors)"
   ]
  },
  {
   "cell_type": "code",
   "execution_count": null,
   "id": "8867106f-391a-42ed-aa15-a57ef725f8a5",
   "metadata": {},
   "outputs": [
    {
     "data": {
      "text/plain": [
       "tensor([[0.4778, 1.0109],\n",
       "        [0.1151, 1.6800],\n",
       "        [0.1212, 0.3841]])"
      ]
     },
     "execution_count": null,
     "metadata": {},
     "output_type": "execute_result"
    }
   ],
   "source": [
    "embedding_matrix(3, 2)"
   ]
  },
  {
   "cell_type": "code",
   "execution_count": null,
   "id": "71df46c6-998a-4ce5-baa0-e8b04e60d8b7",
   "metadata": {},
   "outputs": [],
   "source": [
    "def sigmoid_range(x, low, high):\n",
    "    return torch.sigmoid(x) * (high - low) + low"
   ]
  },
  {
   "cell_type": "code",
   "execution_count": null,
   "id": "24739168-2a4b-4866-b48e-631c7f9b7f56",
   "metadata": {},
   "outputs": [],
   "source": [
    "dblock = DataBlock(blocks=[ImageBlock, CategoryBlock])"
   ]
  },
  {
   "cell_type": "code",
   "execution_count": null,
   "id": "ce31253e-99d2-478a-a57c-407d3d1e955e",
   "metadata": {},
   "outputs": [],
   "source": [
    "import torch.nn as nn"
   ]
  },
  {
   "cell_type": "code",
   "execution_count": null,
   "id": "44a7fa50-5a5b-412c-8c3c-b7dcb302690b",
   "metadata": {},
   "outputs": [],
   "source": [
    "class DotProduct(nn.Module):\n",
    "    def forward(self, x):\n",
    "        users = self.user_latent_factor.T() * x[:, 0]\n",
    "        "
   ]
  },
  {
   "cell_type": "code",
   "execution_count": null,
   "id": "e3c819f6-4e9c-42ba-9803-8434a1a3ee2e",
   "metadata": {},
   "outputs": [],
   "source": [
    "class DotProduct(nn.Module):\n",
    "    def __init__(self, n_users, n_movies, n_factors):\n",
    "        super().__init__()\n",
    "        self.user_factors = nn.Embedding(n_users, n_factors)\n",
    "        self.movie_factors = nn.Embedding(n_movies, n_factors)"
   ]
  },
  {
   "cell_type": "code",
   "execution_count": null,
   "id": "7dd9d0de-f29d-4ebe-b9f0-cd3801f5a118",
   "metadata": {},
   "outputs": [],
   "source": [
    "learn = Learner(dls, model, loss_func=MSELossFlat)"
   ]
  },
  {
   "cell_type": "code",
   "execution_count": null,
   "id": "ed6d0fe5-2696-4c25-92c4-58323cdc61cd",
   "metadata": {},
   "outputs": [],
   "source": [
    "seven_tensors = torch.stack([tensor(Image.open(o)) for o in sevens], dim=0)"
   ]
  },
  {
   "cell_type": "code",
   "execution_count": null,
   "id": "e540ae21-2da7-4f58-89ae-d3d1f754c744",
   "metadata": {},
   "outputs": [],
   "source": [
    "def one_hot(idx, n_elements):\n",
    "    zeros = torch.zeros(n_elements)\n",
    "    zeros[idx] = 1\n",
    "    return zeros"
   ]
  },
  {
   "cell_type": "code",
   "execution_count": null,
   "id": "b0050596-fd57-4de3-b292-e1df4dcc2cb5",
   "metadata": {},
   "outputs": [
    {
     "data": {
      "text/plain": [
       "tensor([0., 0., 0., 1., 0., 0., 0., 0., 0.])"
      ]
     },
     "execution_count": null,
     "metadata": {},
     "output_type": "execute_result"
    }
   ],
   "source": [
    "one_hot(3, 9)"
   ]
  },
  {
   "cell_type": "code",
   "execution_count": null,
   "id": "1dcbe69f-62ce-4f76-b5f6-ccd26322400c",
   "metadata": {},
   "outputs": [
    {
     "data": {
      "text/plain": [
       "9"
      ]
     },
     "execution_count": null,
     "metadata": {},
     "output_type": "execute_result"
    }
   ],
   "source": [
    "len(one_hot(3, 9))"
   ]
  },
  {
   "cell_type": "code",
   "execution_count": null,
   "id": "c7d4512b-11f9-4735-ab3b-03007026cb23",
   "metadata": {},
   "outputs": [],
   "source": [
    "def one_hot(idx, n_elements):\n",
    "    zeros = torch.zeros(n_elements)\n",
    "    zeros[idx] = 1\n",
    "    return zeros"
   ]
  },
  {
   "cell_type": "code",
   "execution_count": null,
   "id": "2fc0c16b-12ca-43f1-beae-458d481fc959",
   "metadata": {},
   "outputs": [],
   "source": [
    "user_factors.T() @ one_hot(3)"
   ]
  },
  {
   "cell_type": "code",
   "execution_count": null,
   "id": "817b219e-899b-489d-b46e-d83ca83924d2",
   "metadata": {},
   "outputs": [],
   "source": [
    "class DotProduct(nn.Module):\n",
    "    def forward(self, x):\n",
    "        users = self.user_factors(x[:, 0])\n",
    "        movies = self.movie_factors(x[:, 1])\n",
    "        return torch.sum((users * movies), dim=1)"
   ]
  },
  {
   "cell_type": "markdown",
   "id": "5ef3724c-052b-498c-910d-566e2cfae88b",
   "metadata": {},
   "source": [
    "### Pandas"
   ]
  },
  {
   "cell_type": "code",
   "execution_count": null,
   "id": "dd3df72a-a00f-417b-b5ea-5de69c38b166",
   "metadata": {},
   "outputs": [],
   "source": [
    "import pandas as pd"
   ]
  },
  {
   "cell_type": "code",
   "execution_count": null,
   "id": "2e1b8d46-573c-43ec-abde-6fcf9a6f5276",
   "metadata": {},
   "outputs": [],
   "source": [
    "movies = pd.read_csv(path1, **default_parameters, usecols=[0, 1])"
   ]
  },
  {
   "cell_type": "code",
   "execution_count": null,
   "id": "4157fed4-0481-4a39-a282-6ba3c2cc62d9",
   "metadata": {},
   "outputs": [],
   "source": [
    "movies = pd.read_csv(file_path, **default_parameters, names=('movie', 'title'))"
   ]
  },
  {
   "cell_type": "markdown",
   "id": "eccf9811-f68a-4175-8b1f-4aa9fcd5d7b1",
   "metadata": {},
   "source": [
    "### Python"
   ]
  },
  {
   "cell_type": "code",
   "execution_count": null,
   "id": "010f4177-70a1-4192-9bc1-55942f10416f",
   "metadata": {},
   "outputs": [],
   "source": [
    "from collections import namedtuple"
   ]
  },
  {
   "cell_type": "code",
   "execution_count": null,
   "id": "67642d03-742f-49ed-a337-0a3e19de3b2a",
   "metadata": {},
   "outputs": [
    {
     "ename": "TypeError",
     "evalue": "namedtuple() missing 1 required positional argument: 'field_names'",
     "output_type": "error",
     "traceback": [
      "\u001b[0;31m---------------------------------------------------------------------------\u001b[0m",
      "\u001b[0;31mTypeError\u001b[0m                                 Traceback (most recent call last)",
      "Input \u001b[0;32mIn [11]\u001b[0m, in \u001b[0;36m<cell line: 1>\u001b[0;34m()\u001b[0m\n\u001b[0;32m----> 1\u001b[0m EV2 \u001b[38;5;241m=\u001b[39m \u001b[43mnamedtuple\u001b[49m\u001b[43m(\u001b[49m\u001b[38;5;124;43m'\u001b[39;49m\u001b[38;5;124;43mElectricVehicle\u001b[39;49m\u001b[38;5;124;43m'\u001b[39;49m\u001b[43m)\u001b[49m\n",
      "\u001b[0;31mTypeError\u001b[0m: namedtuple() missing 1 required positional argument: 'field_names'"
     ]
    }
   ],
   "source": [
    "EV2 = namedtuple('ElectricVehicle')"
   ]
  },
  {
   "cell_type": "code",
   "execution_count": null,
   "id": "2db84645-897a-404c-982b-a86931af999f",
   "metadata": {},
   "outputs": [],
   "source": [
    "from dataclasses import dataclass, field"
   ]
  },
  {
   "cell_type": "code",
   "execution_count": null,
   "id": "e4f0e61f-544c-4540-b9a8-86df71657ddc",
   "metadata": {},
   "outputs": [],
   "source": [
    "@dataclass(order=True)\n",
    "class Camera:\n",
    "    resolution: int = field(compare=True)\n",
    "    size: int = field(compare=False)\n",
    "    mass: int = field(compare=False)"
   ]
  },
  {
   "cell_type": "code",
   "execution_count": null,
   "id": "ec46dfc3-ccb1-4184-af06-bcb1ea171dc2",
   "metadata": {},
   "outputs": [],
   "source": [
    "def extra_second(func):\n",
    "    def wrapper(*args, **kwargs):\n",
    "        ...\n",
    "        ...\n",
    "    return wrapper"
   ]
  },
  {
   "cell_type": "markdown",
   "id": "67bcd706-6bcf-4dd8-883b-385acd51bf02",
   "metadata": {},
   "source": [
    "### PyTest"
   ]
  },
  {
   "cell_type": "code",
   "execution_count": null,
   "id": "524f6ba8-8eb2-4189-8b13-0a3ea7886197",
   "metadata": {},
   "outputs": [],
   "source": [
    "import pytest"
   ]
  },
  {
   "cell_type": "code",
   "execution_count": null,
   "id": "a0e23880-0978-47a4-b72d-ad5718baa323",
   "metadata": {},
   "outputs": [],
   "source": [
    "@pytest.mark.parametrize(\n",
    "    ('test_input', 'expected'),\n",
    "    ([1, 1], [2, 4])\n",
    ")\n",
    "def test_square(test_input, expected):\n",
    "    assert square(test_input, expected)"
   ]
  },
  {
   "cell_type": "markdown",
   "id": "fcf86b51-00e4-4397-b3c9-68a4ffc7fd65",
   "metadata": {},
   "source": [
    "### Matplotlib "
   ]
  },
  {
   "cell_type": "code",
   "execution_count": null,
   "id": "c40f7854-e4f7-4c5c-b998-75c77395771f",
   "metadata": {},
   "outputs": [],
   "source": [
    "import matplotlib.pyplot as plt"
   ]
  },
  {
   "cell_type": "code",
   "execution_count": null,
   "id": "f527f972-de1e-46dc-8eab-84ef36ec65dd",
   "metadata": {},
   "outputs": [],
   "source": [
    "plt.plot(dev_x, dev_y)\n",
    "plt.plot(py_dev_x, py_dev, y)"
   ]
  }
 ],
 "metadata": {
  "kernelspec": {
   "display_name": "Python 3 (ipykernel)",
   "language": "python",
   "name": "python3"
  }
 },
 "nbformat": 4,
 "nbformat_minor": 5
}
