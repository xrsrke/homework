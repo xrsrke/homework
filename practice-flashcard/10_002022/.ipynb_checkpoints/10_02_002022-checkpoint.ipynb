{
 "cells": [
  {
   "cell_type": "markdown",
   "id": "66fe9f3d-3e43-4968-a724-dcae240dfac4",
   "metadata": {},
   "source": [
    "### Design Patterns"
   ]
  },
  {
   "cell_type": "markdown",
   "id": "5d6787ee-1708-440b-b6c0-89189c694a3b",
   "metadata": {},
   "source": [
    "##### Facade Pattern"
   ]
  },
  {
   "cell_type": "code",
   "execution_count": null,
   "id": "71010ab6-ea10-4799-96fc-a9abaa7c648c",
   "metadata": {},
   "outputs": [],
   "source": [
    "class CustomerSupport:\n",
    "    def __init__(self):\n",
    "        supplier = Supplier()\n",
    "        self.warehouse = Warehouse(supplier=supplier)\n",
    "    \n",
    "    def buy(self, product):\n",
    "        self.warehouse.check_available_product(product)"
   ]
  },
  {
   "cell_type": "markdown",
   "id": "10c7b5e1-be5f-4d54-b79f-c6e25a49c3ae",
   "metadata": {},
   "source": [
    "##### Proxy Pattern"
   ]
  },
  {
   "cell_type": "code",
   "execution_count": null,
   "id": "1abadcb3-b706-45a2-be1c-947ca6e8be80",
   "metadata": {},
   "outputs": [],
   "source": [
    "class LazyBitmap:\n",
    "    def __init__(self, filename):\n",
    "        self.filename = 'filename'\n",
    "        self._file = None\n",
    "    \n",
    "    def draw(self):\n",
    "        if self._file == None:\n",
    "            self._file = Bitmap(self.filename)\n",
    "        \n",
    "        self._file.draw()"
   ]
  },
  {
   "cell_type": "code",
   "execution_count": null,
   "id": "3a2a5069-66e3-4780-b89b-ec0d2dbccc7b",
   "metadata": {},
   "outputs": [],
   "source": [
    "class CarProxy:\n",
    "    def __init__(self, person):\n",
    "        self.person = person\n",
    "    \n",
    "    def drive(self):\n",
    "        if self.person.age <= 16:\n",
    "            print('...')\n",
    "        else:\n",
    "            self.person.drive()"
   ]
  },
  {
   "cell_type": "markdown",
   "id": "331495ad-ade0-4e1f-a953-33637fb8fc8d",
   "metadata": {},
   "source": [
    "##### Observer"
   ]
  },
  {
   "cell_type": "code",
   "execution_count": null,
   "id": "ec60a796-f3e1-4ab7-a188-d1d4601b050a",
   "metadata": {},
   "outputs": [],
   "source": [
    "class Event:\n",
    "    def __init__(self):\n",
    "        self._subscribers = {}\n",
    "    \n",
    "    def subscribe(self, event_type, func):\n",
    "        if not event_type in self._subscibers:\n",
    "            self._subscribers[event_type] = []\n",
    "        self._subscribers[event_type].append(func)\n",
    "    \n",
    "    def post_event(self, event_type, data):\n",
    "        if event_type not in self._subscribers:\n",
    "            return Exception('...')\n",
    "        for l in self._subscribers[event_type]:\n",
    "            l(data)"
   ]
  },
  {
   "cell_type": "markdown",
   "id": "a33d3f21-6f1a-4ab6-872f-ba26a8b42c42",
   "metadata": {},
   "source": [
    "##### Command"
   ]
  },
  {
   "cell_type": "code",
   "execution_count": null,
   "id": "cec0abc2-063b-4509-a9de-44a306674e87",
   "metadata": {},
   "outputs": [],
   "source": [
    "class BankAccountDepositeCommand:\n",
    "    def __init__(self, account, amount):\n",
    "        self.account = account\n",
    "        self.amount = amount\n",
    "    \n",
    "    def invoke(self):\n",
    "        self.account.deposite(amount)\n",
    "    \n",
    "    def undo(self):\n",
    "        self.account.balance -= amount"
   ]
  },
  {
   "cell_type": "markdown",
   "id": "00b824a4-5eab-4f4b-a917-268160a413e2",
   "metadata": {},
   "source": [
    "### Pandas"
   ]
  },
  {
   "cell_type": "code",
   "execution_count": null,
   "id": "01790547-4b00-4785-a7c1-69a8a42749a5",
   "metadata": {},
   "outputs": [],
   "source": [
    "import pandas as pd"
   ]
  },
  {
   "cell_type": "code",
   "execution_count": null,
   "id": "755d6ed3-979d-4961-b773-8d37a1eee11f",
   "metadata": {},
   "outputs": [],
   "source": [
    "df = pd.DataFrame({'name': series_names, 'ages': series_ages})"
   ]
  },
  {
   "cell_type": "markdown",
   "id": "1c5f1989-12d0-499e-b31e-99a24ff57932",
   "metadata": {},
   "source": [
    "### Python "
   ]
  },
  {
   "cell_type": "code",
   "execution_count": null,
   "id": "07ef20c5-26bd-473b-be2c-93bc93b56e2d",
   "metadata": {},
   "outputs": [],
   "source": [
    "class Classroom:\n",
    "    def __init__(self):\n",
    "        self._students = []\n",
    "    \n",
    "    def __set_name__(self, k, v):\n",
    "        if not k.startswith('_'):\n",
    "            self._students['k'] = v"
   ]
  },
  {
   "cell_type": "markdown",
   "id": "0b6b78c2-03a2-4f9b-8a0e-74da8a3f5f16",
   "metadata": {},
   "source": [
    "### SciPy"
   ]
  },
  {
   "cell_type": "code",
   "execution_count": null,
   "id": "53dd5986-a391-484b-b6ec-9fbedff88cc8",
   "metadata": {},
   "outputs": [],
   "source": [
    "def f(x):\n",
    "    return x**2 * np.sin(2*x) * np.exp(-x)"
   ]
  }
 ],
 "metadata": {
  "kernelspec": {
   "display_name": "Python 3 (ipykernel)",
   "language": "python",
   "name": "python3"
  }
 },
 "nbformat": 4,
 "nbformat_minor": 5
}
