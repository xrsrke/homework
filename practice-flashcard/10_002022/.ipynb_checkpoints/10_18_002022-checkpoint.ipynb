{
 "cells": [
  {
   "cell_type": "markdown",
   "id": "677e0b2e-b627-488d-ac0a-736daadc58bc",
   "metadata": {},
   "source": [
    "### Deep Learning"
   ]
  },
  {
   "cell_type": "code",
   "execution_count": null,
   "id": "152f861d-5557-4ed8-9ed8-1de29ca85035",
   "metadata": {},
   "outputs": [
    {
     "ename": "ModuleNotFoundError",
     "evalue": "No module named 'torch'",
     "output_type": "error",
     "traceback": [
      "\u001b[0;31m---------------------------------------------------------------------------\u001b[0m",
      "\u001b[0;31mModuleNotFoundError\u001b[0m                       Traceback (most recent call last)",
      "Input \u001b[0;32mIn [1]\u001b[0m, in \u001b[0;36m<cell line: 1>\u001b[0;34m()\u001b[0m\n\u001b[0;32m----> 1\u001b[0m \u001b[38;5;28;01mimport\u001b[39;00m \u001b[38;5;21;01mtorch\u001b[39;00m\n",
      "\u001b[0;31mModuleNotFoundError\u001b[0m: No module named 'torch'"
     ]
    }
   ],
   "source": [
    "import torch"
   ]
  },
  {
   "cell_type": "code",
   "execution_count": null,
   "id": "c800b98b-be4e-47e1-a825-31af9bb92063",
   "metadata": {},
   "outputs": [],
   "source": [
    "class Module:\n",
    "    def __call__(self, *args):\n",
    "        return self.forward(*args)"
   ]
  },
  {
   "cell_type": "code",
   "execution_count": null,
   "id": "9bf84611-c62b-497f-8464-615dd9dc7746",
   "metadata": {},
   "outputs": [],
   "source": [
    "class ReLU(Module):\n",
    "    def forward(self, inp):\n",
    "        pass"
   ]
  },
  {
   "cell_type": "code",
   "execution_count": null,
   "id": "504199ee-c030-445c-9602-a64f8a15991d",
   "metadata": {},
   "outputs": [],
   "source": [
    "def dropout_layer(x, dropout):\n",
    "    assert 0 <= dropout <= 1\n",
    "    if dropout == 0: return torch.zero_likes(x)\n",
    "    \n",
    "    mask = (torch.randn(x.shape) > dropout).float()\n",
    "    return (mask * x) - (1 - dropout)"
   ]
  },
  {
   "cell_type": "code",
   "execution_count": null,
   "id": "11abf30c-8a31-48ff-af6b-43ea38018e6e",
   "metadata": {},
   "outputs": [],
   "source": [
    "from torch import nn"
   ]
  },
  {
   "cell_type": "code",
   "execution_count": null,
   "id": "47cedfd6-d9d8-46a5-bc56-7145d32630c3",
   "metadata": {},
   "outputs": [],
   "source": [
    "class DotProduct(nn.Module):\n",
    "    def __init__(self, n_users, n_movies, n_factors):\n",
    "        self.user_factors = nn.Embedding(n_users, n_factors)\n",
    "        self.movie_factors = nn.Embedding(n_movies, n_factors)"
   ]
  },
  {
   "cell_type": "code",
   "execution_count": null,
   "id": "d1dc8524-98e0-4f36-a675-b410c34de337",
   "metadata": {},
   "outputs": [],
   "source": [
    "import random"
   ]
  },
  {
   "cell_type": "code",
   "execution_count": null,
   "id": "f264dbae-b7d9-4924-a985-f56071193928",
   "metadata": {},
   "outputs": [],
   "source": [
    "results = random.choice(population=[],\n",
    "                        weights=[],\n",
    "                        k =2)"
   ]
  },
  {
   "cell_type": "code",
   "execution_count": null,
   "id": "ada25860-5685-4a8a-9764-8ef5daa823d9",
   "metadata": {},
   "outputs": [],
   "source": [
    "text = ' . '.join([l.strip() for l in lines])"
   ]
  },
  {
   "cell_type": "code",
   "execution_count": null,
   "id": "30bd8e17-0ffe-494e-bdbd-9393fec5a361",
   "metadata": {},
   "outputs": [],
   "source": [
    "def word2idx(x):\n",
    "    return {w:i for i, w in enumerate(x)}"
   ]
  },
  {
   "cell_type": "code",
   "execution_count": null,
   "id": "cb1dcda9-3883-40f9-be84-20f339d6e87b",
   "metadata": {},
   "outputs": [],
   "source": [
    "def word_tokenizier(x):\n",
    "    return x.split(' ')"
   ]
  },
  {
   "cell_type": "code",
   "execution_count": null,
   "id": "01226a8b-2c00-4d67-9630-7b06f619d2fa",
   "metadata": {},
   "outputs": [],
   "source": [
    "def frobenius_norm(x):\n",
    "    return (x*x).sum().sqrt()"
   ]
  },
  {
   "cell_type": "code",
   "execution_count": null,
   "id": "34d05898-a9ce-4995-b9be-e573c2ee35b8",
   "metadata": {},
   "outputs": [],
   "source": [
    "def normalize(x):\n",
    "    return (x-x.mean())/x.std()"
   ]
  },
  {
   "cell_type": "code",
   "execution_count": null,
   "id": "08922bad-ad71-4320-9a7f-37607517b939",
   "metadata": {},
   "outputs": [],
   "source": [
    "class Model:\n",
    "    def __init__(self, w1, b1, w2, b2):\n",
    "        self.layers = [Lin(w1, b1), ReLU(), Lin(w2, b2)]\n",
    "        self.loss = MSE()\n",
    "    \n",
    "    def __call__(self, inp, targ):\n",
    "        x = inp\n",
    "        for l in self.layers:\n",
    "            x = l(x)\n",
    "        \n",
    "        return self.loss(x, targ)"
   ]
  },
  {
   "cell_type": "code",
   "execution_count": null,
   "id": "2ca4d6bc-1161-4a62-9a3f-a57ee6ccac8c",
   "metadata": {},
   "outputs": [],
   "source": [
    "text = ' . '.join([l.strip() for l in lines])"
   ]
  },
  {
   "cell_type": "code",
   "execution_count": null,
   "id": "090ed571-5262-43bb-a811-7d598c5b2b54",
   "metadata": {},
   "outputs": [],
   "source": [
    "def word2idx(x):\n",
    "    return {w:i for i, w in enumerate(x)}"
   ]
  },
  {
   "cell_type": "markdown",
   "id": "8caa5dc4-0450-4492-8b72-42ba6fd80e01",
   "metadata": {},
   "source": [
    "### bash"
   ]
  },
  {
   "cell_type": "code",
   "execution_count": null,
   "id": "2303d827-427e-4001-9fa6-95858b946d25",
   "metadata": {},
   "outputs": [],
   "source": [
    "make_folder() {\n",
    "    mkdir \"$1\"\n",
    "    cd \"$1\"\n",
    "}"
   ]
  },
  {
   "cell_type": "code",
   "execution_count": null,
   "id": "598a0f37-08cc-40b8-aa61-c4339c6b5fec",
   "metadata": {},
   "outputs": [],
   "source": [
    "for arg in \"$@\"; then\n",
    "    echo arg\n",
    "done"
   ]
  },
  {
   "cell_type": "code",
   "execution_count": null,
   "id": "d47404da-b605-4345-91ca-04262a0bd5ed",
   "metadata": {},
   "outputs": [],
   "source": [
    "if [[X == Y]]; then\n",
    "    # code\n",
    "elif [[X == Z]]; then\n",
    "    # code\n",
    "fi"
   ]
  },
  {
   "cell_type": "code",
   "execution_count": null,
   "id": "53e8438e-5f52-4694-b8e1-6761cca99cf7",
   "metadata": {},
   "outputs": [],
   "source": [
    "for arg in \"$@\"; then\n",
    "    echo arg\n",
    "done"
   ]
  },
  {
   "cell_type": "code",
   "execution_count": null,
   "id": "387f3be9-0229-4ff4-a733-0b478643d607",
   "metadata": {},
   "outputs": [],
   "source": [
    "if [[X == Y]]; then\n",
    "    # code\n",
    "elif [[X == Z]]; then\n",
    "    # code\n",
    "else\n",
    "    # code\n",
    "fi"
   ]
  },
  {
   "cell_type": "markdown",
   "id": "9314c0e3-8b86-4171-918a-8c63b26bcb45",
   "metadata": {},
   "source": [
    "### fastcore"
   ]
  },
  {
   "cell_type": "code",
   "execution_count": null,
   "id": "64b3bee2-8b19-4cf8-af05-1ff598603a19",
   "metadata": {},
   "outputs": [],
   "source": [
    "from fastcore.meta import *"
   ]
  },
  {
   "cell_type": "code",
   "execution_count": null,
   "id": "09dba0df-75f9-4adc-a585-74abee38d21c",
   "metadata": {},
   "outputs": [],
   "source": [
    "@funcs_kwargs\n",
    "class DataLoader:\n",
    "    _methods = ['before_batch', 'after_batch']"
   ]
  },
  {
   "cell_type": "code",
   "execution_count": null,
   "id": "749ec306-e4b6-4b83-8ec8-c4af62c0763c",
   "metadata": {},
   "outputs": [],
   "source": [
    "dloader = DataLoader(before_batch=lambda:1)"
   ]
  },
  {
   "cell_type": "code",
   "execution_count": null,
   "id": "4d085ce2-c11e-41dd-828f-94158141ec4b",
   "metadata": {},
   "outputs": [
    {
     "data": {
      "text/plain": [
       "1"
      ]
     },
     "execution_count": null,
     "metadata": {},
     "output_type": "execute_result"
    }
   ],
   "source": [
    "dloader.before_batch()"
   ]
  },
  {
   "cell_type": "code",
   "execution_count": null,
   "id": "c728c38e-f3d7-409c-b678-bea89a61bb1a",
   "metadata": {},
   "outputs": [],
   "source": [
    "x[[1::2], [:3:2]]"
   ]
  },
  {
   "cell_type": "markdown",
   "id": "02013c5c-b537-4cc9-b12a-ebc24233c4db",
   "metadata": {},
   "source": [
    "### SQL"
   ]
  },
  {
   "cell_type": "code",
   "execution_count": null,
   "id": "6bf31d9c-bf89-4f03-a7b7-f221acdef18a",
   "metadata": {},
   "outputs": [],
   "source": [
    "SELECT * FROM users WHERE NOT name='shivon'"
   ]
  },
  {
   "cell_type": "code",
   "execution_count": null,
   "id": "e9ab6368-fc67-4ecc-8c56-67feb7d6b6d1",
   "metadata": {},
   "outputs": [],
   "source": [
    "SELECT * FROM files WHERE size >! 100"
   ]
  }
 ],
 "metadata": {
  "kernelspec": {
   "display_name": "Python 3 (ipykernel)",
   "language": "python",
   "name": "python3"
  }
 },
 "nbformat": 4,
 "nbformat_minor": 5
}
