{
 "cells": [
  {
   "cell_type": "markdown",
   "id": "7e4a0a13-d459-4dbc-badf-73392d944b8f",
   "metadata": {},
   "source": [
    "### Deep Learning"
   ]
  },
  {
   "cell_type": "code",
   "execution_count": null,
   "id": "6a0481b3-2bec-4033-81ab-4aab87e97192",
   "metadata": {},
   "outputs": [],
   "source": [
    "def word_tokenizier(x):\n",
    "    return x.split(' ')"
   ]
  },
  {
   "cell_type": "code",
   "execution_count": null,
   "id": "2dd00e8b-7e5a-4463-aea0-e7490aa86f52",
   "metadata": {},
   "outputs": [],
   "source": [
    "import torch"
   ]
  },
  {
   "cell_type": "code",
   "execution_count": null,
   "id": "49ee4f6f-c642-4da8-96e9-558e169ab871",
   "metadata": {},
   "outputs": [],
   "source": [
    "RANDOM_TENSOR = torch.rand(size=(224, 224, 3))"
   ]
  },
  {
   "cell_type": "code",
   "execution_count": null,
   "id": "0b90a79b-7f28-490b-825d-deff6e43f953",
   "metadata": {},
   "outputs": [
    {
     "data": {
      "text/plain": [
       "3"
      ]
     },
     "execution_count": null,
     "metadata": {},
     "output_type": "execute_result"
    }
   ],
   "source": [
    "RANDOM_TENSOR.ndim"
   ]
  },
  {
   "cell_type": "code",
   "execution_count": null,
   "id": "ca0af468-81b6-4d03-baa4-115be7c3d1e6",
   "metadata": {},
   "outputs": [],
   "source": [
    "from torchvision import transforms as tfms"
   ]
  },
  {
   "cell_type": "code",
   "execution_count": null,
   "id": "50290eca-1679-4fbb-ba29-87fbb03e261e",
   "metadata": {},
   "outputs": [],
   "source": [
    "def im2tensor(x):\n",
    "    return tfms.ToTensor()(x)"
   ]
  },
  {
   "cell_type": "code",
   "execution_count": null,
   "id": "d40c769a-18be-44c2-a5f4-7789c303326a",
   "metadata": {},
   "outputs": [],
   "source": [
    "from torch.utils.data import DataLoader"
   ]
  },
  {
   "cell_type": "code",
   "execution_count": null,
   "id": "0d79f244-cb82-43bd-b404-2d1964e09c0d",
   "metadata": {},
   "outputs": [
    {
     "ename": "NameError",
     "evalue": "name 'train_ds' is not defined",
     "output_type": "error",
     "traceback": [
      "\u001b[0;31m---------------------------------------------------------------------------\u001b[0m",
      "\u001b[0;31mNameError\u001b[0m                                 Traceback (most recent call last)",
      "Input \u001b[0;32mIn [13]\u001b[0m, in \u001b[0;36m<cell line: 1>\u001b[0;34m()\u001b[0m\n\u001b[0;32m----> 1\u001b[0m train_dl \u001b[38;5;241m=\u001b[39m DataLoader(\u001b[43mtrain_ds\u001b[49m, batch_size\u001b[38;5;241m=\u001b[39m\u001b[38;5;241m64\u001b[39m)\n",
      "\u001b[0;31mNameError\u001b[0m: name 'train_ds' is not defined"
     ]
    }
   ],
   "source": [
    "train_dl = DataLoader(train_ds, batch_size=64)"
   ]
  },
  {
   "cell_type": "code",
   "execution_count": null,
   "id": "16dba9c0",
   "metadata": {},
   "outputs": [],
   "source": [
    "class SamplerDemo:\n",
    "    def __init__(self, ds, bs, shuffle):\n",
    "        self.n = len(ds)\n",
    "        self.bs = bs\n",
    "        self.shuffle = shuffle\n",
    "    \n",
    "    def __iter__(self):\n",
    "        self.idxs = torch.randperm(self.n) if self.shuffle else torch.arange(self.n)\n",
    "        \n",
    "        for i in range(0, self.n, self.bs):\n",
    "            yield self.idxs[i:i+self.bs]"
   ]
  },
  {
   "cell_type": "code",
   "execution_count": null,
   "id": "2b23922a",
   "metadata": {},
   "outputs": [],
   "source": [
    "def validation_mode(model):\n",
    "    model.eval()"
   ]
  },
  {
   "cell_type": "code",
   "execution_count": null,
   "id": "5a1d154d",
   "metadata": {},
   "outputs": [],
   "source": [
    "def train_mode(model):\n",
    "    model.train()"
   ]
  },
  {
   "cell_type": "code",
   "execution_count": null,
   "id": "36d45d08",
   "metadata": {},
   "outputs": [],
   "source": [
    "def validation_loop(model, x, y):\n",
    "    pred = model(x)\n",
    "    loss = loss_func(pred, targ)"
   ]
  },
  {
   "cell_type": "code",
   "execution_count": null,
   "id": "7a8fbe8e",
   "metadata": {},
   "outputs": [],
   "source": [
    "def normalize(x, mean, std):\n",
    "    return (x - mean)/std"
   ]
  },
  {
   "cell_type": "code",
   "execution_count": null,
   "id": "f6d443f9",
   "metadata": {},
   "outputs": [],
   "source": [
    "train_mean, train_std = x_train.mean(), x_train.std()"
   ]
  },
  {
   "cell_type": "code",
   "execution_count": null,
   "id": "d17cbac8",
   "metadata": {},
   "outputs": [],
   "source": [
    "x_train = normalize(x_train, train_mean, train_std)"
   ]
  },
  {
   "cell_type": "code",
   "execution_count": null,
   "id": "acc1b1bd",
   "metadata": {},
   "outputs": [],
   "source": [
    "idx = torch.where(dsets.train[0][1] == 1.)[0]"
   ]
  },
  {
   "cell_type": "code",
   "execution_count": null,
   "id": "554a93e3",
   "metadata": {},
   "outputs": [],
   "source": [
    "label = vocab[idx]"
   ]
  },
  {
   "cell_type": "code",
   "execution_count": null,
   "id": "9b0fe885",
   "metadata": {},
   "outputs": [],
   "source": [
    "spacy = WordTokenizier()"
   ]
  },
  {
   "cell_type": "code",
   "execution_count": null,
   "id": "3a93ef76",
   "metadata": {},
   "outputs": [],
   "source": [
    "toks = spacy([content])"
   ]
  },
  {
   "cell_type": "code",
   "execution_count": null,
   "id": "c4b2c536",
   "metadata": {},
   "outputs": [],
   "source": [
    "import torch.nn as nn"
   ]
  },
  {
   "cell_type": "code",
   "execution_count": null,
   "id": "25fa4785",
   "metadata": {},
   "outputs": [],
   "source": [
    "import torch.nn.functional as F"
   ]
  },
  {
   "cell_type": "code",
   "execution_count": null,
   "id": "94306ceb",
   "metadata": {},
   "outputs": [],
   "source": [
    "class _LMModel3(nn.Module):\n",
    "    def __init__(self, vocab_sz, n_hidden):\n",
    "        self.i_h = nn.Embedding(vocab_sz, n_hidden)\n",
    "        self.h_h = nn.Linear(n_hidden, n_hidden)\n",
    "        self.h_o = nn.Linear(n_hidden, vocab_sz)\n",
    "        self.h = 0.\n",
    "    \n",
    "    def forward(self, x):\n",
    "        for i in range(3):\n",
    "            self.h = self.h + F.relu(self.i_h(x[:, i]))\n",
    "            self.h = F.relu(self.h_h(self.h))\n",
    "        \n",
    "        out = self.h_o(self.h)\n",
    "        self.h.detach()\n",
    "        return out"
   ]
  },
  {
   "cell_type": "markdown",
   "id": "72dca60b",
   "metadata": {},
   "source": [
    "### Docker"
   ]
  },
  {
   "cell_type": "code",
   "execution_count": null,
   "id": "0dc6c42e",
   "metadata": {},
   "outputs": [],
   "source": [
    "docker build -t myapp:0.01 ./home/"
   ]
  },
  {
   "cell_type": "markdown",
   "id": "2a77209c",
   "metadata": {},
   "source": [
    "### Tox"
   ]
  },
  {
   "cell_type": "code",
   "execution_count": null,
   "id": "24d87e7b",
   "metadata": {},
   "outputs": [],
   "source": [
    "[tox]\n",
    "envlist = py37, py38, py39"
   ]
  },
  {
   "cell_type": "markdown",
   "id": "0d12e590",
   "metadata": {},
   "source": [
    "### Python"
   ]
  },
  {
   "cell_type": "code",
   "execution_count": null,
   "id": "a2926411",
   "metadata": {},
   "outputs": [],
   "source": [
    "a, b, (c, d) = l"
   ]
  },
  {
   "cell_type": "code",
   "execution_count": null,
   "id": "b46f4b3a",
   "metadata": {},
   "outputs": [],
   "source": [
    "types.ModuleType"
   ]
  },
  {
   "cell_type": "code",
   "execution_count": null,
   "id": "8cbad5db",
   "metadata": {},
   "outputs": [],
   "source": [
    "class Wizard(User):\n",
    "    def __init__(self, name, power, email):\n",
    "        User.__init__(self, email)\n",
    "        self.name = name\n",
    "        self.power = power"
   ]
  },
  {
   "cell_type": "code",
   "execution_count": null,
   "id": "b127b73a",
   "metadata": {},
   "outputs": [],
   "source": [
    "x: list[list[int]]"
   ]
  },
  {
   "cell_type": "code",
   "execution_count": null,
   "id": "4805ce1f",
   "metadata": {},
   "outputs": [],
   "source": [
    "x: set[str, ...]"
   ]
  },
  {
   "cell_type": "code",
   "execution_count": null,
   "id": "3fbc233a",
   "metadata": {},
   "outputs": [
    {
     "name": "stdout",
     "output_type": "stream",
     "text": [
      "what is your age2\n",
      "2\n"
     ]
    }
   ],
   "source": [
    "try:\n",
    "    age = int(input('what is your age'))\n",
    "    print(age)\n",
    "except:\n",
    "    print('please enter a number')"
   ]
  },
  {
   "cell_type": "code",
   "execution_count": null,
   "id": "46fc3683",
   "metadata": {},
   "outputs": [],
   "source": [
    "import unittest"
   ]
  },
  {
   "cell_type": "code",
   "execution_count": null,
   "id": "972001de",
   "metadata": {},
   "outputs": [],
   "source": [
    "class TestMain(unittest.TestCase):\n",
    "    def test_do_stuff(self):\n",
    "        self.assertEqual(do_stuff(2), 7)"
   ]
  },
  {
   "cell_type": "code",
   "execution_count": null,
   "id": "6efc43c7",
   "metadata": {},
   "outputs": [],
   "source": [
    "import time"
   ]
  },
  {
   "cell_type": "code",
   "execution_count": null,
   "id": "b3dac769",
   "metadata": {},
   "outputs": [],
   "source": [
    "def performance(func):\n",
    "    def wrapper():\n",
    "        t_start = ...\n",
    "        \n",
    "        func()\n",
    "        \n",
    "        t_end = ...\n",
    "        t_duration = t_end - t_start\n",
    "    return wrapper"
   ]
  },
  {
   "cell_type": "code",
   "execution_count": null,
   "id": "9be0e551",
   "metadata": {},
   "outputs": [
    {
     "ename": "TypeError",
     "evalue": "'module' object is not callable",
     "output_type": "error",
     "traceback": [
      "\u001b[0;31m---------------------------------------------------------------------------\u001b[0m",
      "\u001b[0;31mTypeError\u001b[0m                                 Traceback (most recent call last)",
      "Input \u001b[0;32mIn [24]\u001b[0m, in \u001b[0;36m<cell line: 1>\u001b[0;34m()\u001b[0m\n\u001b[0;32m----> 1\u001b[0m \u001b[43mtime\u001b[49m\u001b[43m(\u001b[49m\u001b[43m)\u001b[49m\n",
      "\u001b[0;31mTypeError\u001b[0m: 'module' object is not callable"
     ]
    }
   ],
   "source": [
    "time()"
   ]
  },
  {
   "cell_type": "code",
   "execution_count": null,
   "id": "862b7338",
   "metadata": {},
   "outputs": [],
   "source": [
    "import re"
   ]
  },
  {
   "cell_type": "code",
   "execution_count": null,
   "id": "f5a9a934",
   "metadata": {},
   "outputs": [],
   "source": [
    "pattern = re.compile(r'raynext\\.com')"
   ]
  },
  {
   "cell_type": "code",
   "execution_count": null,
   "id": "882a1ee4",
   "metadata": {},
   "outputs": [],
   "source": [
    "matches = pattern.finditer(str1)"
   ]
  },
  {
   "cell_type": "markdown",
   "id": "d7d0a8c1",
   "metadata": {},
   "source": [
    "### Pandas"
   ]
  },
  {
   "cell_type": "code",
   "execution_count": null,
   "id": "e9a13cde",
   "metadata": {},
   "outputs": [],
   "source": [
    "import pandas as pd"
   ]
  },
  {
   "cell_type": "code",
   "execution_count": null,
   "id": "8be8d746",
   "metadata": {},
   "outputs": [],
   "source": [
    "df = pd.Series(book_list, index=[])"
   ]
  },
  {
   "cell_type": "code",
   "execution_count": null,
   "id": "992bfd44",
   "metadata": {},
   "outputs": [],
   "source": [
    "ratings.groupby('title')['rating'].mean()"
   ]
  },
  {
   "cell_type": "markdown",
   "id": "e6937a6f",
   "metadata": {},
   "source": [
    "### Fastcore"
   ]
  },
  {
   "cell_type": "code",
   "execution_count": null,
   "id": "920ad92a",
   "metadata": {},
   "outputs": [],
   "source": [
    "from fastcore.dispatch import *"
   ]
  },
  {
   "cell_type": "code",
   "execution_count": null,
   "id": "005f48b8",
   "metadata": {},
   "outputs": [],
   "source": [
    "def f2(x:str): return 1"
   ]
  },
  {
   "cell_type": "code",
   "execution_count": null,
   "id": "638455f1",
   "metadata": {},
   "outputs": [],
   "source": [
    "def f3(x:int): return x"
   ]
  },
  {
   "cell_type": "code",
   "execution_count": null,
   "id": "5f5b0f98",
   "metadata": {},
   "outputs": [],
   "source": [
    "t = TypeDispatch([f3, f2])"
   ]
  },
  {
   "cell_type": "code",
   "execution_count": null,
   "id": "a5427e9d",
   "metadata": {},
   "outputs": [
    {
     "data": {
      "text/plain": [
       "3"
      ]
     },
     "execution_count": null,
     "metadata": {},
     "output_type": "execute_result"
    }
   ],
   "source": [
    "t(3)"
   ]
  },
  {
   "cell_type": "code",
   "execution_count": null,
   "id": "e682f856",
   "metadata": {},
   "outputs": [],
   "source": [
    "from fastcore.foundation import *"
   ]
  },
  {
   "cell_type": "code",
   "execution_count": null,
   "id": "41613dcb",
   "metadata": {},
   "outputs": [],
   "source": [
    "@docs\n",
    "class DataBlock:\n",
    "    def get_x(self): pass\n",
    "    \n",
    "    def get_y(self): pass\n",
    "    \n",
    "    _docs = dict(cls_doc='Doc',\n",
    "                 get_x = 'x',\n",
    "                 get_y = 'y')"
   ]
  },
  {
   "cell_type": "code",
   "execution_count": null,
   "id": "39a08682",
   "metadata": {},
   "outputs": [
    {
     "name": "stdout",
     "output_type": "stream",
     "text": [
      "Help on class DataBlock in module __main__:\n",
      "\n",
      "class DataBlock(builtins.object)\n",
      " |  Doc\n",
      " |  \n",
      " |  Methods defined here:\n",
      " |  \n",
      " |  get_x(self)\n",
      " |      x\n",
      " |  \n",
      " |  get_y(self)\n",
      " |      y\n",
      " |  \n",
      " |  ----------------------------------------------------------------------\n",
      " |  Data descriptors defined here:\n",
      " |  \n",
      " |  __dict__\n",
      " |      dictionary for instance variables (if defined)\n",
      " |  \n",
      " |  __weakref__\n",
      " |      list of weak references to the object (if defined)\n",
      "\n"
     ]
    }
   ],
   "source": [
    "help(DataBlock)"
   ]
  },
  {
   "cell_type": "code",
   "execution_count": null,
   "id": "879410ca",
   "metadata": {},
   "outputs": [],
   "source": [
    "L(b).attrgot('id')"
   ]
  },
  {
   "cell_type": "code",
   "execution_count": null,
   "id": "edcd2d12",
   "metadata": {},
   "outputs": [],
   "source": [
    "@funcs_kwargs"
   ]
  },
  {
   "cell_type": "code",
   "execution_count": null,
   "id": "726cb663",
   "metadata": {},
   "outputs": [],
   "source": [
    "from fastcore.meta import *"
   ]
  },
  {
   "cell_type": "code",
   "execution_count": null,
   "id": "7798eabe",
   "metadata": {},
   "outputs": [],
   "source": [
    "@funcs_kwargs\n",
    "class DataBlock:\n",
    "    num = 5\n",
    "    _methods = ['loss_func']"
   ]
  },
  {
   "cell_type": "code",
   "execution_count": null,
   "id": "e7db0104",
   "metadata": {},
   "outputs": [],
   "source": [
    "dblock = DataBlock(loss_func = lambda: 1)"
   ]
  },
  {
   "cell_type": "code",
   "execution_count": null,
   "id": "f4c5492c",
   "metadata": {},
   "outputs": [
    {
     "data": {
      "text/plain": [
       "1"
      ]
     },
     "execution_count": null,
     "metadata": {},
     "output_type": "execute_result"
    }
   ],
   "source": [
    "dblock.loss_func()"
   ]
  },
  {
   "cell_type": "code",
   "execution_count": null,
   "id": "208fd519",
   "metadata": {},
   "outputs": [],
   "source": [
    "class DataLoader:\n",
    "    def "
   ]
  },
  {
   "cell_type": "markdown",
   "id": "25668a7d",
   "metadata": {},
   "source": [
    "### Pandas"
   ]
  },
  {
   "cell_type": "code",
   "execution_count": null,
   "id": "27babfb4",
   "metadata": {},
   "outputs": [],
   "source": [
    "ratings.groupby('title')['rating'].mean()"
   ]
  },
  {
   "cell_type": "code",
   "execution_count": null,
   "id": "b9cee9db",
   "metadata": {},
   "outputs": [],
   "source": [
    "f"
   ]
  },
  {
   "cell_type": "markdown",
   "id": "bc350b28",
   "metadata": {},
   "source": [
    "### SQL"
   ]
  },
  {
   "cell_type": "markdown",
   "id": "a1a641b0",
   "metadata": {},
   "source": [
    "SELECT users.name, likes.like FROM users INNER JOIN likes ON users.id = likes.user_id"
   ]
  },
  {
   "cell_type": "code",
   "execution_count": null,
   "id": "a8e16604",
   "metadata": {},
   "outputs": [],
   "source": [
    "SELECT * FROM orders WHERE purchased_data <= now() - INTERVAL '30 days'"
   ]
  },
  {
   "cell_type": "code",
   "execution_count": null,
   "id": "c42fa92e",
   "metadata": {},
   "outputs": [],
   "source": [
    "SELECT DISTINCT n_epochs, lr FROM training"
   ]
  },
  {
   "cell_type": "code",
   "execution_count": null,
   "id": "ed86eebe",
   "metadata": {},
   "outputs": [],
   "source": [
    "SELECT * FROM users ORDER BY LENGTH(first_name) as ASC"
   ]
  },
  {
   "cell_type": "code",
   "execution_count": null,
   "id": "9d28eb08",
   "metadata": {},
   "outputs": [],
   "source": [
    "SELECT * FROM inference WHERE accuracy BETWEEN 90 AND 95B"
   ]
  },
  {
   "cell_type": "code",
   "execution_count": null,
   "id": "4b8f49e3",
   "metadata": {},
   "outputs": [],
   "source": [
    "SELECT * FROM training ORDER BY accurate as DESC"
   ]
  },
  {
   "cell_type": "markdown",
   "id": "fe2f79e3",
   "metadata": {},
   "source": [
    "SELECT users.name, likes.like FROM users LEFT JOIN likes ON users.id = likes.user_id"
   ]
  },
  {
   "cell_type": "code",
   "execution_count": null,
   "id": "9fbe08de",
   "metadata": {},
   "outputs": [],
   "source": [
    "SELECT * FROM users WHERE gender IS NOT NULL"
   ]
  },
  {
   "cell_type": "markdown",
   "id": "7e6dd6e2",
   "metadata": {},
   "source": [
    "SELECT a.name, b.name FROM members as a INNER JOIN members as b ON "
   ]
  },
  {
   "cell_type": "markdown",
   "id": "b09d5b71",
   "metadata": {},
   "source": [
    "SELECT employees.emp_no, salaries.salaries FROM employees INNER JOIN salaries ON employees.emp_no = salaries.emp_no"
   ]
  },
  {
   "cell_type": "markdown",
   "id": "5a97ef65",
   "metadata": {},
   "source": [
    "SELECT users.name, likes.like FROM users RIGHT JOIN likes ON users.id = likes.user_id"
   ]
  },
  {
   "cell_type": "markdown",
   "id": "ce39c24e",
   "metadata": {},
   "source": [
    "SELECT * FROM orders WHERE purchased_data <= now() - INTERVAL '30 days'"
   ]
  },
  {
   "cell_type": "markdown",
   "id": "c249ebc4",
   "metadata": {},
   "source": [
    "SELECT a.name, b.name FRO members as a INNER JOIN members as b ON a.supervisor_id = b.id"
   ]
  },
  {
   "cell_type": "markdown",
   "id": "8e72e7b8",
   "metadata": {},
   "source": [
    "### Docker"
   ]
  },
  {
   "cell_type": "code",
   "execution_count": null,
   "id": "5e0c59d1",
   "metadata": {},
   "outputs": [],
   "source": [
    "docker exec -it 12a /bin/bash"
   ]
  },
  {
   "cell_type": "code",
   "execution_count": null,
   "id": "88a433a2",
   "metadata": {},
   "outputs": [],
   "source": [
    "COPY ./app /home/app"
   ]
  },
  {
   "cell_type": "code",
   "execution_count": null,
   "id": "4f5daa56",
   "metadata": {},
   "outputs": [],
   "source": [
    "ENV DB_PASS=secret"
   ]
  },
  {
   "cell_type": "code",
   "execution_count": null,
   "id": "20c79c1f",
   "metadata": {},
   "outputs": [],
   "source": [
    "docker network ls"
   ]
  },
  {
   "cell_type": "code",
   "execution_count": null,
   "id": "82207218",
   "metadata": {},
   "outputs": [],
   "source": [
    "docker rm 23a"
   ]
  },
  {
   "cell_type": "code",
   "execution_count": null,
   "id": "d59957c0",
   "metadata": {},
   "outputs": [],
   "source": [
    "docker ps -a"
   ]
  },
  {
   "cell_type": "code",
   "execution_count": null,
   "id": "f3c832fb",
   "metadata": {},
   "outputs": [],
   "source": [
    "docker ps"
   ]
  },
  {
   "cell_type": "code",
   "execution_count": null,
   "id": "29f0d1a4",
   "metadata": {},
   "outputs": [],
   "source": [
    "docker images"
   ]
  },
  {
   "cell_type": "code",
   "execution_count": null,
   "id": "bcfa4ed0",
   "metadata": {},
   "outputs": [],
   "source": [
    "docker run postgres:4.3"
   ]
  },
  {
   "cell_type": "code",
   "execution_count": null,
   "id": "5d2ddd6f",
   "metadata": {},
   "outputs": [],
   "source": [
    "docker run -d redis"
   ]
  },
  {
   "cell_type": "code",
   "execution_count": null,
   "id": "71a4b91e",
   "metadata": {},
   "outputs": [],
   "source": [
    "docker run --name test_app redis"
   ]
  },
  {
   "cell_type": "code",
   "execution_count": null,
   "id": "d9f4c0a1",
   "metadata": {},
   "outputs": [],
   "source": [
    "docker stop 12b"
   ]
  },
  {
   "cell_type": "code",
   "execution_count": null,
   "id": "05eab374",
   "metadata": {},
   "outputs": [],
   "source": [
    "docker run -p6000:1000 redis"
   ]
  },
  {
   "cell_type": "code",
   "execution_count": null,
   "id": "d60ed02e",
   "metadata": {},
   "outputs": [],
   "source": [
    "CMD [\"node\", \"server.js\"]"
   ]
  },
  {
   "cell_type": "code",
   "execution_count": null,
   "id": "b8218d77",
   "metadata": {},
   "outputs": [],
   "source": [
    "RUN mkdir /home/app"
   ]
  },
  {
   "cell_type": "code",
   "execution_count": null,
   "id": "3594e0a0",
   "metadata": {},
   "outputs": [],
   "source": [
    "FROM node"
   ]
  },
  {
   "cell_type": "code",
   "execution_count": null,
   "id": "0c1869ff",
   "metadata": {},
   "outputs": [],
   "source": [
    "docker rmi redis:22.2"
   ]
  },
  {
   "cell_type": "code",
   "execution_count": null,
   "id": "8fa0ccfd",
   "metadata": {},
   "outputs": [],
   "source": [
    "docker-compose -f mongo.yaml up"
   ]
  },
  {
   "cell_type": "code",
   "execution_count": null,
   "id": "70ddaa65",
   "metadata": {},
   "outputs": [],
   "source": [
    "docker network create mongo-network"
   ]
  },
  {
   "cell_type": "code",
   "execution_count": null,
   "id": "076045f4",
   "metadata": {},
   "outputs": [],
   "source": [
    "docker-compose -f mongo.yaml DOWN"
   ]
  },
  {
   "cell_type": "code",
   "execution_count": null,
   "id": "1490a9ad",
   "metadata": {},
   "outputs": [],
   "source": [
    "docker run --net mongo-network mongo"
   ]
  },
  {
   "cell_type": "code",
   "execution_count": null,
   "id": "5086916e",
   "metadata": {},
   "outputs": [],
   "source": [
    "version: 0.01\n",
    "services:\n",
    "    mongodb:\n",
    "        image: mongo\n",
    "        ports:\n",
    "            - 27017: 27018"
   ]
  }
 ],
 "metadata": {
  "kernelspec": {
   "display_name": "Python 3 (ipykernel)",
   "language": "python",
   "name": "python3"
  }
 },
 "nbformat": 4,
 "nbformat_minor": 5
}
