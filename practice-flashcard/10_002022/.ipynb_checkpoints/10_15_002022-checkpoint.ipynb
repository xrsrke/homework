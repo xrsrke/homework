{
 "cells": [
  {
   "cell_type": "markdown",
   "id": "7670bcc2-51b1-40c4-95dd-d767f24e1519",
   "metadata": {},
   "source": [
    "### Design ML Systems"
   ]
  },
  {
   "cell_type": "code",
   "execution_count": null,
   "id": "5d1392fd-0241-4a3b-94b2-e971e1844136",
   "metadata": {},
   "outputs": [],
   "source": [
    "import random"
   ]
  },
  {
   "cell_type": "code",
   "execution_count": null,
   "id": "ff30982f-e30a-4f67-a159-33756d3addf3",
   "metadata": {},
   "outputs": [],
   "source": [
    "random.choice([1, 2 3, 4,])"
   ]
  },
  {
   "cell_type": "code",
   "execution_count": null,
   "id": "ff363345-4535-4308-a24b-e634d167503e",
   "metadata": {},
   "outputs": [],
   "source": [
    "import torch"
   ]
  },
  {
   "cell_type": "code",
   "execution_count": null,
   "id": "47af26f5-df74-4d74-82f8-7668eefeea6e",
   "metadata": {},
   "outputs": [],
   "source": [
    "def normalize(x):\n",
    "    return (x - x.mean())/x.std()"
   ]
  },
  {
   "cell_type": "code",
   "execution_count": null,
   "id": "aa7a07ce-7f09-4e55-88d1-a40673167313",
   "metadata": {},
   "outputs": [],
   "source": [
    "x = torch.rand((3, 2))"
   ]
  },
  {
   "cell_type": "code",
   "execution_count": null,
   "id": "2c2d7b95-d269-4432-a295-3a7dd2b43907",
   "metadata": {},
   "outputs": [
    {
     "data": {
      "text/plain": [
       "tensor([[0.0109, 0.9486],\n",
       "        [0.0361, 0.8321],\n",
       "        [0.0900, 0.1692]])"
      ]
     },
     "execution_count": null,
     "metadata": {},
     "output_type": "execute_result"
    }
   ],
   "source": [
    "x"
   ]
  },
  {
   "cell_type": "code",
   "execution_count": null,
   "id": "1a9fbc04-92ae-4c05-8ac8-ece5fa48f32f",
   "metadata": {},
   "outputs": [],
   "source": [
    "x_normalized = normalize(x)"
   ]
  },
  {
   "cell_type": "code",
   "execution_count": null,
   "id": "18c1a65f-a910-4347-b171-2301fd2ab74b",
   "metadata": {},
   "outputs": [
    {
     "data": {
      "text/plain": [
       "tensor([[-0.7921,  1.4125],\n",
       "        [-0.7329,  1.1386],\n",
       "        [-0.6061, -0.4200]])"
      ]
     },
     "execution_count": null,
     "metadata": {},
     "output_type": "execute_result"
    }
   ],
   "source": [
    "x_normalized"
   ]
  },
  {
   "cell_type": "code",
   "execution_count": null,
   "id": "7807b6b8-984a-45e1-bd18-0f7a72b4347e",
   "metadata": {},
   "outputs": [
    {
     "data": {
      "text/plain": [
       "(tensor(3.9736e-08), tensor(1.))"
      ]
     },
     "execution_count": null,
     "metadata": {},
     "output_type": "execute_result"
    }
   ],
   "source": [
    "x_normalized.mean(), x_normalized.std()"
   ]
  },
  {
   "cell_type": "code",
   "execution_count": null,
   "id": "52ccdce7-c7c8-4f04-98eb-25b8e2cb82a1",
   "metadata": {},
   "outputs": [],
   "source": [
    "def normalize(x, mean, std):\n",
    "    return (x - mean)/std"
   ]
  },
  {
   "cell_type": "code",
   "execution_count": null,
   "id": "c805ff0e-1c27-4183-919a-cfa0d18cfb45",
   "metadata": {},
   "outputs": [],
   "source": [
    "training_mean, training_std = x_train.mean(), x_train.std()"
   ]
  },
  {
   "cell_type": "code",
   "execution_count": null,
   "id": "4cd8badc-2271-4c01-9c88-7b5a8f5b8c86",
   "metadata": {},
   "outputs": [],
   "source": [
    "x_train, x_valid = normalize(x_train, training_mean, training_std), normalize(x_valid, training_mean, trainingg_std)"
   ]
  },
  {
   "cell_type": "code",
   "execution_count": null,
   "id": "0e6d99fa-0f65-4d2a-9ebd-78f0a2b4b0ee",
   "metadata": {},
   "outputs": [],
   "source": [
    "def relu(x):\n",
    "    return x.clamp_min(0.)"
   ]
  },
  {
   "cell_type": "code",
   "execution_count": null,
   "id": "815f1416-c303-4c19-9ebf-1a1fec27e1b3",
   "metadata": {},
   "outputs": [],
   "source": [
    "x = torch.randn((3, 2))"
   ]
  },
  {
   "cell_type": "code",
   "execution_count": null,
   "id": "dcba39ec-9cd7-4e78-8933-730e9ee7f63b",
   "metadata": {},
   "outputs": [
    {
     "data": {
      "text/plain": [
       "tensor([[ 2.2029, -0.5614],\n",
       "        [-0.2608,  0.6813],\n",
       "        [-0.9447, -1.3339]])"
      ]
     },
     "execution_count": null,
     "metadata": {},
     "output_type": "execute_result"
    }
   ],
   "source": [
    "x"
   ]
  },
  {
   "cell_type": "code",
   "execution_count": null,
   "id": "b65286a0-bb45-4124-be40-2a07351add1a",
   "metadata": {},
   "outputs": [
    {
     "data": {
      "text/plain": [
       "tensor([[2.2029, 0.0000],\n",
       "        [0.0000, 0.6813],\n",
       "        [0.0000, 0.0000]])"
      ]
     },
     "execution_count": null,
     "metadata": {},
     "output_type": "execute_result"
    }
   ],
   "source": [
    "relu(x)"
   ]
  },
  {
   "cell_type": "code",
   "execution_count": null,
   "id": "0d8ff3dd-f91c-4a12-8477-0205d44c02e7",
   "metadata": {},
   "outputs": [],
   "source": [
    "def frobenius_norm(x):\n",
    "    return (x*x).sum().sqrt()"
   ]
  },
  {
   "cell_type": "code",
   "execution_count": null,
   "id": "c82b5188-6a4c-426e-bb4e-e16a588a6118",
   "metadata": {},
   "outputs": [
    {
     "data": {
      "text/plain": [
       "tensor(2.8934)"
      ]
     },
     "execution_count": null,
     "metadata": {},
     "output_type": "execute_result"
    }
   ],
   "source": [
    "frobenius_norm(x)"
   ]
  },
  {
   "cell_type": "code",
   "execution_count": null,
   "id": "0e725d7e-8bb6-4c62-99f8-d8764f5ccd99",
   "metadata": {},
   "outputs": [],
   "source": [
    "class Dataset:\n",
    "    def __init__(self, x, y):\n",
    "        self.x, self.y = x, y\n",
    "        \n",
    "    def __len__(self):\n",
    "        return len(self.x)\n",
    "    \n",
    "    def __getitem__(self, idx):\n",
    "        return self.x[idx], self.y[idx]"
   ]
  },
  {
   "cell_type": "code",
   "execution_count": null,
   "id": "0a04b469-a2e6-4430-abf5-838fc17ce2d3",
   "metadata": {},
   "outputs": [],
   "source": [
    "from torch import nn"
   ]
  },
  {
   "cell_type": "code",
   "execution_count": null,
   "id": "9275dcda-8ef3-426d-b935-f193cd9e5a0a",
   "metadata": {},
   "outputs": [],
   "source": [
    "def sigmoid_range(x, low, high):\n",
    "    return nn.sigmoid(x) * (high - low) + low"
   ]
  },
  {
   "cell_type": "code",
   "execution_count": null,
   "id": "46e8cc47-684a-43e5-b027-7dca5083ad95",
   "metadata": {},
   "outputs": [
    {
     "ename": "ModuleNotFoundError",
     "evalue": "No module named 'PILImage'",
     "output_type": "error",
     "traceback": [
      "\u001b[0;31m---------------------------------------------------------------------------\u001b[0m",
      "\u001b[0;31mModuleNotFoundError\u001b[0m                       Traceback (most recent call last)",
      "Input \u001b[0;32mIn [25]\u001b[0m, in \u001b[0;36m<cell line: 1>\u001b[0;34m()\u001b[0m\n\u001b[0;32m----> 1\u001b[0m \u001b[38;5;28;01mimport\u001b[39;00m \u001b[38;5;21;01mPILImage\u001b[39;00m\n",
      "\u001b[0;31mModuleNotFoundError\u001b[0m: No module named 'PILImage'"
     ]
    }
   ],
   "source": [
    "import PILImage"
   ]
  },
  {
   "cell_type": "code",
   "execution_count": null,
   "id": "26dda612-33fc-4497-9455-d44f2dafcaf9",
   "metadata": {},
   "outputs": [],
   "source": [
    "seven_tensors = torch.stack([Image.open(o) for o in sevens])"
   ]
  },
  {
   "cell_type": "code",
   "execution_count": null,
   "id": "cb282dd9-7171-435e-8286-e6c359c39e2d",
   "metadata": {},
   "outputs": [],
   "source": [
    "from PIL import Image"
   ]
  },
  {
   "cell_type": "code",
   "execution_count": null,
   "id": "ec824e48-9bc8-4300-a148-8ee9e4d974c7",
   "metadata": {},
   "outputs": [],
   "source": [
    "seven_tensors = torch.stack([tensor(Image.open(o)) for o in senvens], dim=0)"
   ]
  },
  {
   "cell_type": "code",
   "execution_count": null,
   "id": "7399c64d-0cc8-4b7e-aff0-7f0c5cf03f9e",
   "metadata": {},
   "outputs": [],
   "source": [
    "def one_hot(n_elements, idx):\n",
    "    zeros = torch.zeros(n_elements)\n",
    "    zeros[idx] = 1.\n",
    "    return zeros"
   ]
  },
  {
   "cell_type": "code",
   "execution_count": null,
   "id": "7c28bad7-94e8-4c73-8a08-2e2e731c6902",
   "metadata": {},
   "outputs": [
    {
     "data": {
      "text/plain": [
       "tensor([0., 0., 0., 1., 0.])"
      ]
     },
     "execution_count": null,
     "metadata": {},
     "output_type": "execute_result"
    }
   ],
   "source": [
    "one_hot(5, 3)"
   ]
  },
  {
   "cell_type": "code",
   "execution_count": null,
   "id": "bf561c7d-5195-4b3e-9353-210fb045d008",
   "metadata": {},
   "outputs": [],
   "source": [
    "from PIL import Image"
   ]
  },
  {
   "cell_type": "code",
   "execution_count": null,
   "id": "d53d23e3-fc9e-4016-b0cb-dbfc8a144d3e",
   "metadata": {},
   "outputs": [],
   "source": [
    "seven_tensors = torch.stack([tensor(Image.open(o) for o in sevens)], dim=0)"
   ]
  },
  {
   "cell_type": "code",
   "execution_count": null,
   "id": "8132616a-9793-4653-9416-23322d3cfdca",
   "metadata": {},
   "outputs": [],
   "source": [
    "def one_hot(n_elements, idx):\n",
    "    zeros = torch.zeros(n_elements)\n",
    "    zeros[idx] = 1.\n",
    "    return zeros"
   ]
  },
  {
   "cell_type": "code",
   "execution_count": null,
   "id": "736bc394-26b9-4b23-951d-a607ee15ee6d",
   "metadata": {},
   "outputs": [],
   "source": [
    "user_factors.T() @ one_hot(n_users, 3)"
   ]
  },
  {
   "cell_type": "markdown",
   "id": "c8c2412d-4577-4ef0-b8d0-27b5299bdc52",
   "metadata": {},
   "source": [
    "### Design Patterns"
   ]
  },
  {
   "cell_type": "markdown",
   "id": "44904840-379c-4a2a-b447-faa40c0a90ed",
   "metadata": {},
   "source": [
    "##### Bridge Patterns"
   ]
  },
  {
   "cell_type": "code",
   "execution_count": null,
   "id": "cb53a50f-df5e-47ed-b2ea-1345513d866f",
   "metadata": {},
   "outputs": [],
   "source": [
    "class Implementer:\n",
    "    def "
   ]
  },
  {
   "cell_type": "markdown",
   "id": "3e710f05-b90a-4705-8ec0-822ae8ab8bf0",
   "metadata": {},
   "source": [
    "##### Singleton\n"
   ]
  },
  {
   "cell_type": "code",
   "execution_count": null,
   "id": "57b50699-5408-4e1d-8135-c835560cd72f",
   "metadata": {},
   "outputs": [],
   "source": [
    "class Database:\n",
    "    _instance = None\n",
    "    \n",
    "    def __new__(cls):\n",
    "        if not cls._instance:\n",
    "            cls._instance = super().__new__(cls)\n",
    "        \n",
    "        return cls._instance"
   ]
  },
  {
   "cell_type": "code",
   "execution_count": null,
   "id": "28f5822b-d045-45cc-81b2-6c78e5f9b5b1",
   "metadata": {},
   "outputs": [],
   "source": [
    "db1 = Database()"
   ]
  },
  {
   "cell_type": "code",
   "execution_count": null,
   "id": "ebed00c2-059e-4c8c-ad93-20379363f627",
   "metadata": {},
   "outputs": [],
   "source": [
    "db2 = Database()"
   ]
  },
  {
   "cell_type": "code",
   "execution_count": null,
   "id": "1308e9e0-3994-4433-a989-c565d1be2a01",
   "metadata": {},
   "outputs": [
    {
     "data": {
      "text/plain": [
       "True"
      ]
     },
     "execution_count": null,
     "metadata": {},
     "output_type": "execute_result"
    }
   ],
   "source": [
    "id(db1) == id(db2)"
   ]
  },
  {
   "cell_type": "code",
   "execution_count": null,
   "id": "23889985-a186-4f78-a493-9dd4528ee83c",
   "metadata": {},
   "outputs": [],
   "source": [
    "def distance(point_a, point: b):\n",
    "    \"\"\"\n",
    "    Do something\n",
    "    \n",
    "    :param: point: \n",
    "    \n",
    "    \"\"\""
   ]
  },
  {
   "cell_type": "markdown",
   "id": "4038cb7e-d4d0-4f2f-9fcc-a8e555e70667",
   "metadata": {},
   "source": [
    "### Fastcore"
   ]
  },
  {
   "cell_type": "code",
   "execution_count": null,
   "id": "1c1d52fd-8084-4c2b-ad51-e57ec4abc06a",
   "metadata": {},
   "outputs": [],
   "source": [
    "from fastcore.dispatch import *"
   ]
  },
  {
   "cell_type": "code",
   "execution_count": null,
   "id": "d43e7c24-5ff3-4bcf-90bc-8e5e6efe1078",
   "metadata": {},
   "outputs": [],
   "source": [
    "t = TypeDispatch([f2, f3])"
   ]
  },
  {
   "cell_type": "code",
   "execution_count": null,
   "id": "aadb069a-67d7-4b9f-8d01-29016d59f1eb",
   "metadata": {},
   "outputs": [],
   "source": [
    "L().gotattr('id')"
   ]
  },
  {
   "cell_type": "code",
   "execution_count": null,
   "id": "b02457ff-03c6-45d8-928b-662857e0190c",
   "metadata": {},
   "outputs": [],
   "source": [
    "from fastcore.test import *"
   ]
  },
  {
   "cell_type": "code",
   "execution_count": null,
   "id": "892f04ff-9a76-417d-8e2b-87836d2e5f5b",
   "metadata": {},
   "outputs": [],
   "source": [
    "test_fail(f, contains='foo')"
   ]
  },
  {
   "cell_type": "code",
   "execution_count": null,
   "id": "d5ed3f1d-9909-47c3-b1bc-4a03bb89bb88",
   "metadata": {},
   "outputs": [],
   "source": [
    "L(nums).map(square)"
   ]
  },
  {
   "cell_type": "code",
   "execution_count": null,
   "id": "48acdc9a-54f8-4a38-a5ad-d9baf7642912",
   "metadata": {},
   "outputs": [],
   "source": [
    "from fastcore.foundation import *"
   ]
  },
  {
   "cell_type": "code",
   "execution_count": null,
   "id": "6a99f66c-bf80-4fd9-b594-ecae51cd17ac",
   "metadata": {},
   "outputs": [],
   "source": [
    "b = [{'id': 15, 'name': 'nbdev'}, {'id': 17, 'name': 'fastcore'}]"
   ]
  },
  {
   "cell_type": "code",
   "execution_count": null,
   "id": "c89c192f-2a35-47e8-9003-c9b60dd0e284",
   "metadata": {},
   "outputs": [
    {
     "data": {
      "text/plain": [
       "[{'id': 15, 'name': 'nbdev'}, {'id': 17, 'name': 'fastcore'}]"
      ]
     },
     "execution_count": null,
     "metadata": {},
     "output_type": "execute_result"
    }
   ],
   "source": [
    "b"
   ]
  },
  {
   "cell_type": "code",
   "execution_count": null,
   "id": "8a9ac437-b28e-4239-ba77-9b74c9c417f4",
   "metadata": {},
   "outputs": [
    {
     "data": {
      "text/plain": [
       "(#2) [15,17]"
      ]
     },
     "execution_count": null,
     "metadata": {},
     "output_type": "execute_result"
    }
   ],
   "source": [
    "L(b).attrgot('id')"
   ]
  },
  {
   "cell_type": "code",
   "execution_count": null,
   "id": "929ac993-7783-4d3f-a4d3-978362563f98",
   "metadata": {},
   "outputs": [],
   "source": [
    "from fastcore.meta import *"
   ]
  },
  {
   "cell_type": "code",
   "execution_count": null,
   "id": "b8e7071d-1eb6-452b-8595-b44d8c128704",
   "metadata": {},
   "outputs": [],
   "source": [
    "@funcs_kwargs\n",
    "class DataBlock:\n",
    "    _methods = ['splitter']"
   ]
  },
  {
   "cell_type": "code",
   "execution_count": null,
   "id": "3d59dc39-3c3e-4e8b-aefa-f503e0c5ef28",
   "metadata": {},
   "outputs": [],
   "source": [
    "dblock = DataBlock(splitter=lambda:1)"
   ]
  },
  {
   "cell_type": "code",
   "execution_count": null,
   "id": "b6892091-77ad-4596-a119-697b139c9bb8",
   "metadata": {},
   "outputs": [
    {
     "data": {
      "text/plain": [
       "1"
      ]
     },
     "execution_count": null,
     "metadata": {},
     "output_type": "execute_result"
    }
   ],
   "source": [
    "dblock.splitter()"
   ]
  },
  {
   "cell_type": "code",
   "execution_count": null,
   "id": "30774e9c-9d35-4464-ab32-680836326e67",
   "metadata": {},
   "outputs": [],
   "source": [
    "import inspect"
   ]
  },
  {
   "cell_type": "code",
   "execution_count": null,
   "id": "411cbcfb-31cf-4c2a-a05a-ca746c916600",
   "metadata": {},
   "outputs": [],
   "source": [
    "def foo(a, b=1, **kwargs): pass"
   ]
  },
  {
   "cell_type": "code",
   "execution_count": null,
   "id": "4fa154dd-bf44-4aae-9d17-5c95eaf5aa0c",
   "metadata": {},
   "outputs": [
    {
     "data": {
      "text/plain": [
       "<Signature (a, b=1, **kwargs)>"
      ]
     },
     "execution_count": null,
     "metadata": {},
     "output_type": "execute_result"
    }
   ],
   "source": [
    "inspect.signature(foo)"
   ]
  },
  {
   "cell_type": "code",
   "execution_count": null,
   "id": "63df2267-7109-4008-bb1a-b1fcc8d7d707",
   "metadata": {},
   "outputs": [],
   "source": [
    "@use_kwargs_dict(d=2)\n",
    "def foo(a, b=1, **kwargs): pass"
   ]
  },
  {
   "cell_type": "code",
   "execution_count": null,
   "id": "6e4eb7a8-c9df-4eee-853a-125d632e8aee",
   "metadata": {},
   "outputs": [
    {
     "data": {
      "text/plain": [
       "<Signature (a, b=1, *, d=2)>"
      ]
     },
     "execution_count": null,
     "metadata": {},
     "output_type": "execute_result"
    }
   ],
   "source": [
    "inspect.signature(foo)"
   ]
  },
  {
   "cell_type": "markdown",
   "id": "07754bc9-8ec1-4506-b583-0299aca32a61",
   "metadata": {},
   "source": [
    "### Pandas"
   ]
  },
  {
   "cell_type": "code",
   "execution_count": null,
   "id": "af775df6-5621-4742-8434-32fa0cbebd51",
   "metadata": {},
   "outputs": [],
   "source": [
    "import pandas as pd"
   ]
  },
  {
   "cell_type": "code",
   "execution_count": null,
   "id": "bf4a7052-0a6d-4351-9fe3-16ce8267214a",
   "metadata": {},
   "outputs": [],
   "source": [
    "movies = pd.DataFrame(path1, **default_parameters, names=['movie', 'title'])"
   ]
  }
 ],
 "metadata": {
  "kernelspec": {
   "display_name": "Python 3 (ipykernel)",
   "language": "python",
   "name": "python3"
  }
 },
 "nbformat": 4,
 "nbformat_minor": 5
}
