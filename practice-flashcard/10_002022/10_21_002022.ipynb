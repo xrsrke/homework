{
 "cells": [
  {
   "cell_type": "markdown",
   "id": "2d662b4c-6851-464a-8ce4-7faeb9fb46ea",
   "metadata": {},
   "source": [
    "### fastcore"
   ]
  },
  {
   "cell_type": "code",
   "execution_count": null,
   "id": "6a88bb9d-14c3-45cf-8eca-1a35b6e10812",
   "metadata": {},
   "outputs": [],
   "source": [
    "from fastcore.meta import *"
   ]
  },
  {
   "cell_type": "code",
   "execution_count": null,
   "id": "578ffd4a-8f94-4a87-a5e4-c7f02da7bf2a",
   "metadata": {},
   "outputs": [],
   "source": [
    "def baz(a, b:int=2, c:int=3):\n",
    "    return a + b +c"
   ]
  },
  {
   "cell_type": "code",
   "execution_count": null,
   "id": "82a6b97e-4104-46d1-8ae1-f82f29ba6d74",
   "metadata": {},
   "outputs": [],
   "source": [
    "@delegates(baz)\n",
    "def foo(c, a, **kwargs):\n",
    "    return c + baz(a, **kwargs)"
   ]
  },
  {
   "cell_type": "code",
   "execution_count": null,
   "id": "da228385-7dc2-4847-b744-6f4fdfa3a4c4",
   "metadata": {},
   "outputs": [],
   "source": [
    "import inspect"
   ]
  },
  {
   "cell_type": "code",
   "execution_count": null,
   "id": "d0f3e9ed-2f39-4d54-9aa4-8672da1382e8",
   "metadata": {},
   "outputs": [
    {
     "data": {
      "text/plain": [
       "<Signature (c, a, *, b: int = 2)>"
      ]
     },
     "execution_count": null,
     "metadata": {},
     "output_type": "execute_result"
    }
   ],
   "source": [
    "inspect.signature(foo)"
   ]
  },
  {
   "cell_type": "markdown",
   "id": "22da0bcc-08b8-4a26-9f2b-7f2751b08448",
   "metadata": {},
   "source": [
    "### Deep Learning"
   ]
  },
  {
   "cell_type": "code",
   "execution_count": null,
   "id": "6d3ac7dd-bf47-416f-89b6-b04e29a556f1",
   "metadata": {},
   "outputs": [],
   "source": [
    "import torch"
   ]
  },
  {
   "cell_type": "code",
   "execution_count": null,
   "id": "fd907a33-7a5f-4f64-ada8-781533411240",
   "metadata": {},
   "outputs": [],
   "source": [
    "def one_hot(idx, n_elements):\n",
    "    zeros = torch.zeros(n_elements)\n",
    "    zeros[idx] = 1\n",
    "    return zeros"
   ]
  },
  {
   "cell_type": "code",
   "execution_count": null,
   "id": "07391b78-7bbb-4edb-a6d9-350b29a9624d",
   "metadata": {},
   "outputs": [
    {
     "data": {
      "text/plain": [
       "tensor([0., 0., 0., 1., 0.])"
      ]
     },
     "execution_count": null,
     "metadata": {},
     "output_type": "execute_result"
    }
   ],
   "source": [
    "one_hot(3, 5)"
   ]
  },
  {
   "cell_type": "code",
   "execution_count": null,
   "id": "2e32c1e0-a27e-4d98-af72-89994042ea6a",
   "metadata": {},
   "outputs": [],
   "source": [
    "def mean_absolute_error(pred, targ):\n",
    "    error = 0.\n",
    "    \n",
    "    for i in range(len(targ)):\n",
    "        error += abs(targ[i] - pred[i])\n",
    "    \n",
    "    return error / len(targ)"
   ]
  },
  {
   "cell_type": "code",
   "execution_count": null,
   "id": "7a929c0d-5422-4f7d-8323-a9fee9d3b202",
   "metadata": {},
   "outputs": [],
   "source": [
    "_y_predicted = [-2, -1, 0, 1, 2]"
   ]
  },
  {
   "cell_type": "code",
   "execution_count": null,
   "id": "d620d3d8-2053-4908-a260-0027d0464b69",
   "metadata": {},
   "outputs": [],
   "source": [
    "_y = [5, 5, 5, 5, 5]"
   ]
  },
  {
   "cell_type": "code",
   "execution_count": null,
   "id": "20953ee3-10ff-4108-96f6-88bda338bd09",
   "metadata": {},
   "outputs": [
    {
     "data": {
      "text/plain": [
       "5.0"
      ]
     },
     "execution_count": null,
     "metadata": {},
     "output_type": "execute_result"
    }
   ],
   "source": [
    "mean_absolute_error(y_predicted, y)"
   ]
  },
  {
   "cell_type": "code",
   "execution_count": null,
   "id": "1e20f00f-3a3b-40f0-a05b-8d0e0f68fbaf",
   "metadata": {},
   "outputs": [],
   "source": [
    "import numpy as np"
   ]
  },
  {
   "cell_type": "code",
   "execution_count": null,
   "id": "6f6888ae-9a18-4aa2-8223-c1d7e0597a94",
   "metadata": {},
   "outputs": [],
   "source": [
    "def mean_absolute_error(pred, targ):\n",
    "    return np.mean(np.abs(pred-targ))"
   ]
  },
  {
   "cell_type": "code",
   "execution_count": null,
   "id": "528c3449-e3f6-41e7-8fd0-8d4b2866a5b8",
   "metadata": {},
   "outputs": [],
   "source": [
    "y_predicted = np.array([-2, -1, 0, 1, 2])"
   ]
  },
  {
   "cell_type": "code",
   "execution_count": null,
   "id": "26228adc-534e-4c88-b166-1ef4d497add2",
   "metadata": {},
   "outputs": [],
   "source": [
    "y = np.array([5, 5, 5, 5, 5])"
   ]
  },
  {
   "cell_type": "code",
   "execution_count": null,
   "id": "d42543d0-604a-4472-9319-441b4e6f1575",
   "metadata": {},
   "outputs": [
    {
     "data": {
      "text/plain": [
       "5.0"
      ]
     },
     "execution_count": null,
     "metadata": {},
     "output_type": "execute_result"
    }
   ],
   "source": [
    "mean_absolute_error(y_predicted, y)"
   ]
  },
  {
   "cell_type": "code",
   "execution_count": null,
   "id": "0a34127f-a1c4-4dc7-afa5-373c3bee89c6",
   "metadata": {},
   "outputs": [],
   "source": [
    "def mean_squared_error(pred, targ):\n",
    "    sum_squared = 0.\n",
    "    \n",
    "    for i in range(len(targ)):\n",
    "        sum_squared += (targ[i] - pred[i])**2\n",
    "    \n",
    "    return sum_squared / len(pred)"
   ]
  },
  {
   "cell_type": "code",
   "execution_count": null,
   "id": "4c008ec3-0e9b-4829-a5ce-0ddbd1f88a61",
   "metadata": {},
   "outputs": [
    {
     "data": {
      "text/plain": [
       "27.0"
      ]
     },
     "execution_count": null,
     "metadata": {},
     "output_type": "execute_result"
    }
   ],
   "source": [
    "mean_squared_error(_y_predicted, _y)"
   ]
  },
  {
   "cell_type": "code",
   "execution_count": null,
   "id": "57ab4ed9-6efc-4ae2-ac52-9aff10ea7b1f",
   "metadata": {},
   "outputs": [],
   "source": [
    "def mse(pred, targ):\n",
    "    return np.pow((pred-targ), 2).mean()"
   ]
  },
  {
   "cell_type": "code",
   "execution_count": null,
   "id": "cd80e8fc-1544-4dee-9ff0-8d13a3459a4d",
   "metadata": {},
   "outputs": [],
   "source": [
    "def dropout_layer(x, dropout):\n",
    "    assert 0 <= dropout <= 1\n",
    "    \n",
    "    if dropout == 1: return torch.zeros_like(x)\n",
    "    \n",
    "    mask = (torch.randn(x.shape) > dropout).float()\n",
    "    return (x * mask) - (1- dropout)"
   ]
  },
  {
   "cell_type": "code",
   "execution_count": null,
   "id": "ee0cf156-0e99-484e-a017-d08fdfee863f",
   "metadata": {},
   "outputs": [],
   "source": [
    "activations = torch.arange(16).reshape((4, 4))"
   ]
  },
  {
   "cell_type": "code",
   "execution_count": null,
   "id": "3b791289-9ec1-41f6-ad19-af73de60aef8",
   "metadata": {},
   "outputs": [
    {
     "data": {
      "text/plain": [
       "tensor([[-0.8000, -0.8000, -0.8000, -0.8000],\n",
       "        [-0.8000,  4.2000, -0.8000,  6.2000],\n",
       "        [ 7.2000,  8.2000,  9.2000, -0.8000],\n",
       "        [11.2000, -0.8000, -0.8000, -0.8000]])"
      ]
     },
     "execution_count": null,
     "metadata": {},
     "output_type": "execute_result"
    }
   ],
   "source": [
    "dropout_layer(activations, 0.2)"
   ]
  },
  {
   "cell_type": "code",
   "execution_count": null,
   "id": "9c50f92f-92aa-4439-bb9f-df0c7b169858",
   "metadata": {},
   "outputs": [],
   "source": [
    "dblock = DataBlock(get_x = lambda r: r['fname'],\n",
    "                   get_y = lambda r: r['labels'])"
   ]
  },
  {
   "cell_type": "code",
   "execution_count": null,
   "id": "fc43b602-1840-4c5f-bab3-80fc8634a678",
   "metadata": {},
   "outputs": [],
   "source": [
    "datasets = dblock.datasets(df)"
   ]
  },
  {
   "cell_type": "code",
   "execution_count": null,
   "id": "6b225fd4-2c6a-4c4d-8553-cc1c75a6f5de",
   "metadata": {},
   "outputs": [],
   "source": [
    "idx = torch.where(dsets.train[0][1] == 1.)"
   ]
  },
  {
   "cell_type": "code",
   "execution_count": null,
   "id": "6407bdf3-22e2-4e0e-be3d-f4a09924ddb4",
   "metadata": {},
   "outputs": [],
   "source": [
    "label = vocab[idx] "
   ]
  },
  {
   "cell_type": "code",
   "execution_count": null,
   "id": "c44f3291-5ce2-49c1-adb7-115d761bc75f",
   "metadata": {},
   "outputs": [],
   "source": [
    "def cross_entropy_loss(pred, targ):\n",
    "    return nll_loss(log_softmax(pred), targ)"
   ]
  },
  {
   "cell_type": "code",
   "execution_count": null,
   "id": "516c7cb3-c469-4775-a973-8281f9d803f9",
   "metadata": {},
   "outputs": [],
   "source": [
    "import torch.nn as nn\n",
    "import torch.nn.functional as F"
   ]
  },
  {
   "cell_type": "code",
   "execution_count": null,
   "id": "8f35fbeb-5b3f-4453-9a76-b80016228477",
   "metadata": {},
   "outputs": [],
   "source": [
    "class _LMModel3(nn.Module):\n",
    "    def __init__(self, vocab_sz, n_hidden):\n",
    "        self.i_h = nn.Embedding(vocab_sz, n_hidden)\n",
    "        self.h_h = nn.Linear(n_hidden, n_hidden)\n",
    "        self.h_o = nn.Linear(n_hidden, vocab_sz)\n",
    "        self.h = 0.\n",
    "    \n",
    "    def forward(self, x):\n",
    "        \n",
    "        for i in range(3):\n",
    "            self.h = self.h + self.i_h(x[:, i])\n",
    "            self.h = F.relu(self.h_h(self.h))\n",
    "        out = self.h_o(self.h)\n",
    "        self.h.detach()\n",
    "        \n",
    "        return out"
   ]
  },
  {
   "cell_type": "code",
   "execution_count": null,
   "id": "1a256a35-92d4-463a-8763-6689a0428221",
   "metadata": {},
   "outputs": [
    {
     "data": {
      "text/plain": [
       "[0, 1, 2]"
      ]
     },
     "execution_count": null,
     "metadata": {},
     "output_type": "execute_result"
    }
   ],
   "source": [
    "list(range(3))"
   ]
  },
  {
   "cell_type": "code",
   "execution_count": null,
   "id": "9096e23b-63bb-4436-9c96-0f78c31571b6",
   "metadata": {},
   "outputs": [],
   "source": [
    "class LMModel1(nn.Module):\n",
    "    def __init__(self, vocab_sz, n_hidden):\n",
    "        super().__init__()\n",
    "        self.i_h = nn.Embedding(vocab_sz, n_hidden)\n",
    "        self.h_h = nn.Linear(n_hidden, n_hidden)\n",
    "        self.h_o = nn.Linear(n_hidden, vocab_sz)\n",
    "    \n",
    "    def forward(self, x):\n",
    "        h = 0.\n",
    "        h = F.relu(self.i_h(x[:, 0]))\n",
    "        h = F.relu(self.h_h(h)) + F.relu(self.i_h(x[:, 1]))\n",
    "        h = F.relu(self.h_h(h)) + F.relu(self.i_h(x[:, 2]))\n",
    "        return self.h_o(h)"
   ]
  },
  {
   "cell_type": "code",
   "execution_count": null,
   "id": "a2ff11ea-1783-4557-9109-072d657f079b",
   "metadata": {},
   "outputs": [],
   "source": [
    "def test_near_zero(x):\n",
    "    return abs(x) < 1e-3"
   ]
  },
  {
   "cell_type": "code",
   "execution_count": null,
   "id": "100d23b7-c1fa-4ca5-8c7a-f3e23dfc6d4c",
   "metadata": {},
   "outputs": [],
   "source": [
    "def accuracy(pred, targ):\n",
    "    idx_pred = torch.argmax(pred, dim=-1)\n",
    "    return idx_preds = targ "
   ]
  },
  {
   "cell_type": "code",
   "execution_count": null,
   "id": "0d8f12e4-d77b-4c4b-8c49-4bd0436e9c96",
   "metadata": {},
   "outputs": [],
   "source": [
    "def zero_grad(model):\n",
    "    for l in self.layers:\n",
    "        if hasattr(l, 'weight'):\n",
    "            l.weight.grad = 0"
   ]
  },
  {
   "cell_type": "code",
   "execution_count": null,
   "id": "e2ce2ae5-7303-4962-89db-5b9ee61a3f3e",
   "metadata": {},
   "outputs": [],
   "source": [
    "def print_layers(model):\n",
    "    for n, l in model.named_children():\n",
    "        print(f'{n} with layer: {l}')"
   ]
  },
  {
   "cell_type": "code",
   "execution_count": null,
   "id": "dc0fd1bb-3dd6-4408-a4d0-5e599fb56021",
   "metadata": {},
   "outputs": [],
   "source": [
    "class _DummyModule:\n",
    "    def __init__(self, n_in, nh, n_out):\n",
    "        self._modules = {}\n",
    "        self.l1 = nn.Linear(n_in, nh)\n",
    "        self.l2 = nn.Linear(nh, n_out)\n",
    "    \n",
    "    def __setattr__(self, k, v):\n",
    "        if not k.startswith('_'):\n",
    "            self._modules[k] = v\n",
    "        \n",
    "        super().__setattr__(k, v)"
   ]
  },
  {
   "cell_type": "code",
   "execution_count": null,
   "id": "f92deb6e-c83a-44c9-86ba-3dcafb4e92c5",
   "metadata": {},
   "outputs": [],
   "source": [
    "def print_parameters(model):\n",
    "    for l in self.parameters"
   ]
  },
  {
   "cell_type": "code",
   "execution_count": null,
   "id": "40866628-5df1-44b1-bd19-f1d9cd0f06d1",
   "metadata": {},
   "outputs": [],
   "source": [
    "y_train[:3]"
   ]
  },
  {
   "cell_type": "code",
   "execution_count": null,
   "id": "fffde47f-7ac8-40fa-ac26-482806bf73aa",
   "metadata": {},
   "outputs": [],
   "source": [
    "sm_pred[[1, 2, 3], ]"
   ]
  },
  {
   "cell_type": "code",
   "execution_count": null,
   "id": "4d955ef2-ed7e-4300-9251-d9aa2dd34e5f",
   "metadata": {},
   "outputs": [],
   "source": [
    "class Model(nn.Module):\n",
    "    def __init__(self, n_in, nh, n_out):\n",
    "        self.layers = [\n",
    "            nn.Linear(n_in, nh),\n",
    "            nn.ReLU(),\n",
    "            nn.Linear(n_out, nh)\n",
    "        ]\n",
    "    \n",
    "    def forward(self, x):\n",
    "        for l in self.layers:\n",
    "            x = l(x)\n",
    "        \n",
    "        return x"
   ]
  },
  {
   "cell_type": "code",
   "execution_count": null,
   "id": "c8e9fa74-5d22-486e-bd61-2cde04ff8078",
   "metadata": {},
   "outputs": [],
   "source": [
    "def nll_loss(pred, targ):\n",
    "    return -pred[range(targ.shape[0]), ]"
   ]
  },
  {
   "cell_type": "code",
   "execution_count": null,
   "id": "aeccf323-c3eb-4c02-bc4b-775af1835fa7",
   "metadata": {},
   "outputs": [],
   "source": [
    "def log_softmax(x):\n",
    "    softmax = x.exp() / (x.exp().sum())\n",
    "    return softmax.log()"
   ]
  },
  {
   "cell_type": "code",
   "execution_count": null,
   "id": "4796a7db-ef70-4007-97cc-5ae3dbb79b6b",
   "metadata": {},
   "outputs": [],
   "source": [
    "def nll_loss(pred, targ):\n",
    "    return -pred[range(targ.shape[0]), targ].mean()"
   ]
  },
  {
   "cell_type": "markdown",
   "id": "7ec27c9b-225e-4c62-9bc2-5310f97c7dd2",
   "metadata": {},
   "source": [
    "### Python"
   ]
  },
  {
   "cell_type": "code",
   "execution_count": null,
   "id": "a7a7c604-836c-4ab5-82b6-ca0dc16f1b63",
   "metadata": {},
   "outputs": [],
   "source": [
    "x: set[str,...]"
   ]
  },
  {
   "cell_type": "code",
   "execution_count": null,
   "id": "8a2d842c-8331-4ff8-86e4-e9f6ff1a440d",
   "metadata": {},
   "outputs": [],
   "source": [
    "from enum import Enum"
   ]
  },
  {
   "cell_type": "code",
   "execution_count": null,
   "id": "3d9742c5-4bdd-49ee-850d-fa5aedde788e",
   "metadata": {},
   "outputs": [],
   "source": [
    "class Colors:\n",
    "    RED = 'RED'\n",
    "    ORANGE = 'ORANGE'\n",
    "    BLUE = 'BLUE'\n",
    "    \n",
    "    @property\n",
    "    def is_hot(self, )"
   ]
  },
  {
   "cell_type": "markdown",
   "id": "71ae72d9-1239-4b35-83d1-fab20f35bda6",
   "metadata": {},
   "source": [
    "### Docker"
   ]
  },
  {
   "cell_type": "code",
   "execution_count": null,
   "id": "71828838-e53a-41d1-a71c-c8fa44ccf6b3",
   "metadata": {},
   "outputs": [],
   "source": [
    "docker run --name test_app redis"
   ]
  },
  {
   "cell_type": "code",
   "execution_count": null,
   "id": "996a6ef8-f462-4174-bd88-8023cc6044f9",
   "metadata": {},
   "outputs": [],
   "source": [
    "docker run redis -p6000:1000"
   ]
  },
  {
   "cell_type": "code",
   "execution_count": null,
   "id": "96565d97-6ecb-41cd-a307-dee1fe582108",
   "metadata": {},
   "outputs": [],
   "source": [
    "docker ps -a"
   ]
  },
  {
   "cell_type": "code",
   "execution_count": null,
   "id": "978e1a03-7b26-4adc-9301-80122c1c656b",
   "metadata": {},
   "outputs": [],
   "source": [
    "docker exec -t 12a /bin/bash"
   ]
  },
  {
   "cell_type": "code",
   "execution_count": null,
   "id": "5df94109-8cdb-489c-b39f-2ec842bcc239",
   "metadata": {},
   "outputs": [],
   "source": [
    "docker stop 12b"
   ]
  },
  {
   "cell_type": "code",
   "execution_count": null,
   "id": "1ff81b3d-2783-484e-ac7a-baa10c17fa42",
   "metadata": {},
   "outputs": [],
   "source": [
    "docker logs monitor_app"
   ]
  },
  {
   "cell_type": "code",
   "execution_count": null,
   "id": "8e193fd2-d473-4094-8668-ed8d90a2a91d",
   "metadata": {},
   "outputs": [],
   "source": [
    "docker images"
   ]
  },
  {
   "cell_type": "code",
   "execution_count": null,
   "id": "d2c281b5-23af-4dec-bfd5-922c11087229",
   "metadata": {},
   "outputs": [],
   "source": [
    "docker pull redis"
   ]
  },
  {
   "cell_type": "code",
   "execution_count": null,
   "id": "c2cb8437-bf55-4a78-97fc-051a48ba66e2",
   "metadata": {},
   "outputs": [],
   "source": [
    "docker pull"
   ]
  },
  {
   "cell_type": "code",
   "execution_count": null,
   "id": "315bfcaf-1a84-4952-9e5f-e02bb465f04e",
   "metadata": {},
   "outputs": [],
   "source": [
    "docker run -d redis"
   ]
  },
  {
   "cell_type": "code",
   "execution_count": null,
   "id": "86d38f9c-98b9-4943-b7d5-2386b9fbd7d6",
   "metadata": {},
   "outputs": [],
   "source": [
    "docker run postgres:4.3"
   ]
  },
  {
   "cell_type": "markdown",
   "id": "6620b4e3-1402-4369-b6f1-143d140c032c",
   "metadata": {},
   "source": [
    "### CI/CD"
   ]
  },
  {
   "cell_type": "code",
   "execution_count": null,
   "id": "d47de0e0-c297-4d46-85de-830b175d9d61",
   "metadata": {},
   "outputs": [],
   "source": [
    "deep_learning: >\n",
    "        ab\n",
    "        c"
   ]
  },
  {
   "cell_type": "code",
   "execution_count": null,
   "id": "7e05be3d-ba1b-4c4d-a2c5-ad4f0684828c",
   "metadata": {},
   "outputs": [],
   "source": [
    "name: integration test\n",
    "\n",
    "on: [push]\n",
    "\n",
    "jobs:\n",
    "    test-app:\n",
    "        runs-on: ubuntu-lastest"
   ]
  },
  {
   "cell_type": "code",
   "execution_count": null,
   "id": "98774725-1010-4fbc-b674-1582934199b0",
   "metadata": {},
   "outputs": [],
   "source": [
    "foundation:\n",
    "    - physics\n",
    "    - ai\n",
    "    - matsci\n",
    "    - nano"
   ]
  },
  {
   "cell_type": "code",
   "execution_count": null,
   "id": "bc34c3d7-09fd-46a3-9973-c7b06be225a1",
   "metadata": {},
   "outputs": [],
   "source": [
    "stable_diffusion:\n",
    "    - text_to_image: clip\n",
    "      parameters: latent space\n",
    "image_multiclass: None"
   ]
  },
  {
   "cell_type": "code",
   "execution_count": null,
   "id": "003686d8-2654-427a-ac4f-8b0e48c086cf",
   "metadata": {},
   "outputs": [],
   "source": [
    "name: Shivon\n",
    "job: Engineer\n",
    "company:\n",
    "    name: Neuralink"
   ]
  },
  {
   "cell_type": "code",
   "execution_count": null,
   "id": "166eb36c-318a-49b4-9644-b7bd54c0629c",
   "metadata": {},
   "outputs": [],
   "source": [
    "on: [push, fork]"
   ]
  },
  {
   "cell_type": "code",
   "execution_count": null,
   "id": "0422c8ff-075d-45fa-8b19-4da716860135",
   "metadata": {},
   "outputs": [],
   "source": [
    "name: integration test\n",
    "\n",
    "on: [push]\n",
    "\n",
    "jobs:\n",
    "    test-app:\n",
    "        runs-on: ubuntu-lastest"
   ]
  }
 ],
 "metadata": {
  "kernelspec": {
   "display_name": "Python 3 (ipykernel)",
   "language": "python",
   "name": "python3"
  }
 },
 "nbformat": 4,
 "nbformat_minor": 5
}
