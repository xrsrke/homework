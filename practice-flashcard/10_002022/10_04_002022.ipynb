{
 "cells": [
  {
   "cell_type": "markdown",
   "id": "c36b98fb-25f3-4804-befc-e6d9541658ee",
   "metadata": {},
   "source": [
    "### Design Patterns"
   ]
  },
  {
   "cell_type": "markdown",
   "id": "44fde4a8-935c-46ea-bbb7-c80094d05ce4",
   "metadata": {},
   "source": [
    "##### Observer"
   ]
  },
  {
   "cell_type": "code",
   "execution_count": null,
   "id": "c33d00fc-4be6-4091-9f0d-f46785ef1e01",
   "metadata": {},
   "outputs": [],
   "source": [
    "class Event:\n",
    "    def __init__(self):\n",
    "        self._subscribers = {}\n",
    "    \n",
    "    def subscribe(self, event_type, func):\n",
    "        if not event_type in self._subscribers:\n",
    "            self._subscribers[event_type] = []\n",
    "        \n",
    "        self._subscribers[event_type].append(func)\n",
    "    \n",
    "    def post_event(self, event_type, data):\n",
    "        if not event_type in self._subscribers: return\n",
    "        for func in self._subscriber[event_type]:\n",
    "            func(data)"
   ]
  },
  {
   "cell_type": "markdown",
   "id": "f4243627-0a56-4fd9-81fa-9fa9d38764b7",
   "metadata": {},
   "source": [
    "##### Chain of Responsibility"
   ]
  },
  {
   "cell_type": "code",
   "execution_count": null,
   "id": "2adc1dba-17ee-4379-a770-6f73ce0b188e",
   "metadata": {},
   "outputs": [],
   "source": [
    "class Handler:\n",
    "    \n",
    "    def __init__(self):\n",
    "        self._next_handler = None\n",
    "    \n",
    "    def set_next(self, next_handler):\n",
    "        self._next_handler = next_handler\n",
    "        return next_handler\n",
    "    \n",
    "    def handle(self):\n",
    "        if not self._next_handler: return\n",
    "        self._next_handler.handle()"
   ]
  },
  {
   "cell_type": "code",
   "execution_count": null,
   "id": "fba75935-c8e2-42ca-a417-1452b3833c7a",
   "metadata": {},
   "outputs": [],
   "source": [
    "class CreatureModifer:\n",
    "    \n",
    "    def __init__(self, creature):\n",
    "        self.creature = creature\n",
    "    \n",
    "    def add_modifier(self):\n",
    "        pass\n",
    "\n",
    "    def handle(self):\n",
    "        pass"
   ]
  },
  {
   "cell_type": "markdown",
   "id": "8459c4b7-1d27-4680-bc77-04fa46892f50",
   "metadata": {},
   "source": [
    "##### Mediator Pattern"
   ]
  },
  {
   "cell_type": "code",
   "execution_count": null,
   "id": "66f43a94-39e7-4f66-bf15-3c984762799e",
   "metadata": {},
   "outputs": [],
   "source": [
    "class ControlTower:\n",
    "    def __init__(self, aircraft, army):\n",
    "        self.aircraft = aircraft\n",
    "        self.army = army\n",
    "    \n",
    "    def get_coordinate_from_aircraft(self):\n",
    "        self.aircraft.coordinate()\n",
    "    \n",
    "    def get_command_from_army(self):\n",
    "        self.army.command()"
   ]
  },
  {
   "cell_type": "markdown",
   "id": "9ee8276a-8a75-418e-bf4d-dc55a4af27ce",
   "metadata": {},
   "source": [
    "##### Composite Pattern"
   ]
  },
  {
   "cell_type": "code",
   "execution_count": null,
   "id": "1e2715cc-6cd2-4608-a60e-bc9aa11d4ae1",
   "metadata": {},
   "outputs": [],
   "source": [
    "from abc import ABC, abstractclassmethod"
   ]
  },
  {
   "cell_type": "code",
   "execution_count": null,
   "id": "b6d623a0-50b9-450d-858f-c597304c5e79",
   "metadata": {},
   "outputs": [],
   "source": [
    "class Component(ABC):\n",
    "    @abstractclassmethod\n",
    "    def activate(self):\n",
    "        pass"
   ]
  },
  {
   "cell_type": "code",
   "execution_count": null,
   "id": "e4f971e7-df2e-4db6-9386-a405bffc0ea6",
   "metadata": {},
   "outputs": [],
   "source": [
    "class Screen(Component):\n",
    "    def activate(self): pass"
   ]
  },
  {
   "cell_type": "code",
   "execution_count": null,
   "id": "f5a6ddd2-08c1-47a4-a220-aec12fb7b979",
   "metadata": {},
   "outputs": [],
   "source": [
    "class Computer:\n",
    "    def __init__(self, components):\n",
    "        self.components = components\n",
    "    \n",
    "    def activate(self):\n",
    "        for component in self.components:\n",
    "            component().activate"
   ]
  },
  {
   "cell_type": "markdown",
   "id": "ea6d3dd4-140a-41ca-a14f-6762c42b866b",
   "metadata": {},
   "source": [
    "##### Bridge Pattern"
   ]
  },
  {
   "cell_type": "code",
   "execution_count": null,
   "id": "fe2be12e-43b9-49e7-ba15-b09d0256c782",
   "metadata": {},
   "outputs": [],
   "source": [
    "from abc import ABC, abstractclassmethod"
   ]
  },
  {
   "cell_type": "code",
   "execution_count": null,
   "id": "24f4c2b9-1b93-4620-bd1b-b69df449f7ba",
   "metadata": {},
   "outputs": [],
   "source": [
    "class OS(ABC):\n",
    "    @abstractclassmethod\n",
    "    def operate(self):\n",
    "        pass"
   ]
  },
  {
   "cell_type": "code",
   "execution_count": null,
   "id": "6e84494e-cd50-482e-bc35-3fab5a3705df",
   "metadata": {},
   "outputs": [],
   "source": [
    "class Implementor(ABC):\n",
    "    @abstractclassmethod\n",
    "    def implement(self): pass"
   ]
  },
  {
   "cell_type": "code",
   "execution_count": null,
   "id": "99bc2a9d-97d4-41c5-ab5c-648869867e47",
   "metadata": {},
   "outputs": [],
   "source": [
    "class LinuxImplementor(Implementor):\n",
    "    def implement(self):\n",
    "        print('Linux is activating')"
   ]
  },
  {
   "cell_type": "code",
   "execution_count": null,
   "id": "8e722dd8-9ab3-440d-aaff-fe25e5a43ee5",
   "metadata": {},
   "outputs": [],
   "source": [
    "class Linux(OS):\n",
    "    def __init__(self, implementor):\n",
    "        self.implementor = implementor\n",
    "    \n",
    "    def operate(self):\n",
    "        self.implementor.implement()"
   ]
  },
  {
   "cell_type": "code",
   "execution_count": null,
   "id": "813d1f42-43e6-4771-a567-577dc815a954",
   "metadata": {},
   "outputs": [],
   "source": [
    "linux = Linux(LinuxImplementor())"
   ]
  },
  {
   "cell_type": "code",
   "execution_count": null,
   "id": "22777f56-2f00-4839-bb45-41154db00588",
   "metadata": {},
   "outputs": [
    {
     "name": "stdout",
     "output_type": "stream",
     "text": [
      "Linux is activating\n"
     ]
    }
   ],
   "source": [
    "linux.operate()"
   ]
  },
  {
   "cell_type": "markdown",
   "id": "93f6db91-280c-4d71-85f4-906aa868f328",
   "metadata": {},
   "source": [
    "### Python"
   ]
  },
  {
   "cell_type": "code",
   "execution_count": null,
   "id": "dffd7dc2-9a5e-445f-a037-cf2ea5e0cf86",
   "metadata": {},
   "outputs": [],
   "source": [
    "class Classroom:\n",
    "    def __init__(self):\n",
    "        self._students = {}\n",
    "    \n",
    "    def __setattr__(self, k, v):\n",
    "        if not k.startswith('_'):\n",
    "            self._students[k] = v\n",
    "        \n",
    "        super().__setattr__(k, v)"
   ]
  },
  {
   "cell_type": "markdown",
   "id": "ca761a67-9557-4e96-ad97-d87e301dbcd7",
   "metadata": {},
   "source": [
    "### Deep Learning"
   ]
  },
  {
   "cell_type": "code",
   "execution_count": null,
   "id": "804c86e8-09d8-4734-a60c-ba24307ac526",
   "metadata": {},
   "outputs": [],
   "source": [
    "import numpy as np"
   ]
  },
  {
   "cell_type": "code",
   "execution_count": null,
   "id": "38a65e3f-03dc-4157-892a-50e2ab5a28f1",
   "metadata": {},
   "outputs": [],
   "source": [
    "def log_softmax(x):\n",
    "    softmax = np.exp(x) / np.sum(np.exp(x))\n",
    "    return np.log(softmax)"
   ]
  },
  {
   "cell_type": "code",
   "execution_count": null,
   "id": "04f2e02e-ee3e-41c5-8f2a-582944b25eac",
   "metadata": {},
   "outputs": [],
   "source": []
  }
 ],
 "metadata": {
  "kernelspec": {
   "display_name": "Python 3 (ipykernel)",
   "language": "python",
   "name": "python3"
  }
 },
 "nbformat": 4,
 "nbformat_minor": 5
}
