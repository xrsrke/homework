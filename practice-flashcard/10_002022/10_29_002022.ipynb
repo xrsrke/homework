{
 "cells": [
  {
   "cell_type": "markdown",
   "id": "0e28c227-e7f1-4867-884d-acc71d291604",
   "metadata": {},
   "source": [
    "### Deep Learning"
   ]
  },
  {
   "cell_type": "code",
   "execution_count": null,
   "id": "a8a35f3d-fa70-40cf-93a4-0b1fb9c40cf9",
   "metadata": {},
   "outputs": [],
   "source": [
    "import torch.nn as nn"
   ]
  },
  {
   "cell_type": "code",
   "execution_count": null,
   "id": "2ae87d9b-0635-4a87-ac55-5af47d6bbc94",
   "metadata": {},
   "outputs": [
    {
     "data": {
      "text/plain": [
       "torch.nn.modules.loss.MSELoss"
      ]
     },
     "execution_count": null,
     "metadata": {},
     "output_type": "execute_result"
    }
   ],
   "source": [
    "nn.MSELoss"
   ]
  },
  {
   "cell_type": "code",
   "execution_count": null,
   "id": "98eb5bca-5ded-4a46-9b39-b7564330e208",
   "metadata": {},
   "outputs": [],
   "source": [
    "class Model:\n",
    "    def ___init__(self, w1, b1, w2, b2):\n",
    "        self.layers = [\n",
    "            nn.Lin(w1, b1),\n",
    "            nn.ReLU(),\n",
    "            nn.Lin(w2, b2)\n",
    "        ]\n",
    "        self.loss = nn.MSELoss()\n",
    "    \n",
    "    def __call__(self, x, y):\n",
    "        for l in self.layers:\n",
    "            x = l(x)\n",
    "        \n",
    "        return self.loss(x, y)"
   ]
  },
  {
   "cell_type": "code",
   "execution_count": null,
   "id": "3eaa1a25-5eaa-435c-8d1c-5febd74b96b0",
   "metadata": {},
   "outputs": [],
   "source": [
    "import torch"
   ]
  },
  {
   "cell_type": "code",
   "execution_count": null,
   "id": "a6b82ad0-cd13-4e28-8116-e162189a8f1b",
   "metadata": {},
   "outputs": [
    {
     "ename": "NameError",
     "evalue": "name 'image_tensor' is not defined",
     "output_type": "error",
     "traceback": [
      "\u001b[0;31m---------------------------------------------------------------------------\u001b[0m",
      "\u001b[0;31mNameError\u001b[0m                                 Traceback (most recent call last)",
      "Input \u001b[0;32mIn [31]\u001b[0m, in \u001b[0;36m<cell line: 1>\u001b[0;34m()\u001b[0m\n\u001b[0;32m----> 1\u001b[0m new_image_tensor \u001b[38;5;241m=\u001b[39m torch\u001b[38;5;241m.\u001b[39mpermute(\u001b[43mimage_tensor\u001b[49m, (\u001b[38;5;241m2\u001b[39m, \u001b[38;5;241m0\u001b[39m, \u001b[38;5;241m1\u001b[39m))\n",
      "\u001b[0;31mNameError\u001b[0m: name 'image_tensor' is not defined"
     ]
    }
   ],
   "source": [
    "new_image_tensor = torch.permute(image_tensor, (2, 0, 1))"
   ]
  },
  {
   "cell_type": "code",
   "execution_count": null,
   "id": "deb80e56-6cc3-489b-961f-561277a1016a",
   "metadata": {},
   "outputs": [],
   "source": [
    "torch.manual_seed(seed=42)\n",
    "random_A = torch.rand(3, 5)"
   ]
  },
  {
   "cell_type": "code",
   "execution_count": null,
   "id": "ac8b5812-4c2f-4b4d-b522-8587ab298764",
   "metadata": {},
   "outputs": [],
   "source": [
    "torch.manual_seed(seed=42)\n",
    "random_B = torch.rand(3, 5)"
   ]
  },
  {
   "cell_type": "code",
   "execution_count": null,
   "id": "d516c520-b3d7-4371-80cb-2f434068062c",
   "metadata": {},
   "outputs": [
    {
     "data": {
      "text/plain": [
       "tensor([[True, True, True, True, True],\n",
       "        [True, True, True, True, True],\n",
       "        [True, True, True, True, True]])"
      ]
     },
     "execution_count": null,
     "metadata": {},
     "output_type": "execute_result"
    }
   ],
   "source": [
    "random_A == random_B"
   ]
  },
  {
   "cell_type": "code",
   "execution_count": null,
   "id": "c117abaa-3d13-4353-9ad5-d69e224f413f",
   "metadata": {},
   "outputs": [],
   "source": [
    "def variance(x):\n",
    "    return (x*x).mean() - x.mean().pow(2)"
   ]
  },
  {
   "cell_type": "code",
   "execution_count": null,
   "id": "6015d59e-e606-4b5a-b9d3-d8802bfd9746",
   "metadata": {},
   "outputs": [],
   "source": [
    "def std(x):\n",
    "    variance = (x-x.mean()).pow(2).mean()\n",
    "    \n",
    "    return variance.sqrt()"
   ]
  },
  {
   "cell_type": "code",
   "execution_count": null,
   "id": "09da2ef5-55c7-4209-af76-30e0e2e98fe2",
   "metadata": {},
   "outputs": [],
   "source": [
    "def mae(x):\n",
    "    return (x-x.mean()).abs().mean()"
   ]
  },
  {
   "cell_type": "code",
   "execution_count": null,
   "id": "cb39facc-9ec3-49cc-8d7f-2687f27dc86f",
   "metadata": {},
   "outputs": [],
   "source": [
    "def variance(x):\n",
    "    return (x-x.mean()).pow(2).mean()"
   ]
  },
  {
   "cell_type": "code",
   "execution_count": null,
   "id": "98360adc-d2df-4d78-b2e1-daa4bd45ff0a",
   "metadata": {},
   "outputs": [
    {
     "ename": "TypeError",
     "evalue": "std() received an invalid combination of arguments - got (), but expected one of:\n * (Tensor input, tuple of ints dim, bool unbiased, bool keepdim, *, Tensor out)\n * (Tensor input, tuple of ints dim, *, int correction, bool keepdim, Tensor out)\n * (Tensor input, bool unbiased)\n * (Tensor input, tuple of names dim, bool unbiased, bool keepdim, *, Tensor out)\n * (Tensor input, tuple of names dim, *, int correction, bool keepdim, Tensor out)\n",
     "output_type": "error",
     "traceback": [
      "\u001b[0;31m---------------------------------------------------------------------------\u001b[0m",
      "\u001b[0;31mTypeError\u001b[0m                                 Traceback (most recent call last)",
      "Input \u001b[0;32mIn [39]\u001b[0m, in \u001b[0;36m<cell line: 1>\u001b[0;34m()\u001b[0m\n\u001b[0;32m----> 1\u001b[0m \u001b[43mtorch\u001b[49m\u001b[38;5;241;43m.\u001b[39;49m\u001b[43mstd\u001b[49m\u001b[43m(\u001b[49m\u001b[43m)\u001b[49m\n",
      "\u001b[0;31mTypeError\u001b[0m: std() received an invalid combination of arguments - got (), but expected one of:\n * (Tensor input, tuple of ints dim, bool unbiased, bool keepdim, *, Tensor out)\n * (Tensor input, tuple of ints dim, *, int correction, bool keepdim, Tensor out)\n * (Tensor input, bool unbiased)\n * (Tensor input, tuple of names dim, bool unbiased, bool keepdim, *, Tensor out)\n * (Tensor input, tuple of names dim, *, int correction, bool keepdim, Tensor out)\n"
     ]
    }
   ],
   "source": [
    "torch.std()"
   ]
  },
  {
   "cell_type": "code",
   "execution_count": null,
   "id": "78e0b3be-74b8-4016-a57c-a5abbc0e6104",
   "metadata": {},
   "outputs": [],
   "source": [
    "def covariance(x, y):\n",
    "    return y.mean() - (x.mean() * y.mean())"
   ]
  },
  {
   "cell_type": "code",
   "execution_count": null,
   "id": "68814ba7-ad4e-4eaa-b184-6d527bdbc6bc",
   "metadata": {},
   "outputs": [],
   "source": [
    "import torch"
   ]
  },
  {
   "cell_type": "code",
   "execution_count": null,
   "id": "4b7e6004-da3b-43f9-97b7-efc1665b044b",
   "metadata": {},
   "outputs": [],
   "source": [
    "class Optimizier:\n",
    "    def __init__(self, params, lr):\n",
    "        self.params = params\n",
    "        self.lr = lr\n",
    "    \n",
    "    def zero_grad(self):\n",
    "        for p in self.params:\n",
    "            p.grad.data.zero_()"
   ]
  },
  {
   "cell_type": "code",
   "execution_count": null,
   "id": "ab7c66ff-4b6a-4c2c-b656-e29fb858b7df",
   "metadata": {},
   "outputs": [],
   "source": [
    "from torchvision import transforms as tfms"
   ]
  },
  {
   "cell_type": "code",
   "execution_count": null,
   "id": "53bb6b39-9235-47ea-8daf-a688e8c8f5bf",
   "metadata": {},
   "outputs": [],
   "source": [
    "def im2tensor(x):\n",
    "    return tfms.ToTensor()(x)"
   ]
  },
  {
   "cell_type": "code",
   "execution_count": null,
   "id": "f034725b-b2a8-4455-9df4-1f3c15d4353f",
   "metadata": {},
   "outputs": [],
   "source": [
    "import numpy as np"
   ]
  },
  {
   "cell_type": "code",
   "execution_count": null,
   "id": "fb5d3b65-e3af-48e8-87b6-1afc48bb891d",
   "metadata": {},
   "outputs": [],
   "source": [
    "def ReLU(x):\n",
    "    return np.maximum(0, x)"
   ]
  },
  {
   "cell_type": "code",
   "execution_count": null,
   "id": "8c5c3a09-fb8b-4a25-a265-1913517485eb",
   "metadata": {},
   "outputs": [],
   "source": [
    "from fastcore.foundation import *"
   ]
  },
  {
   "cell_type": "code",
   "execution_count": null,
   "id": "4d58c294-9f6c-4791-a477-965c3f017af3",
   "metadata": {},
   "outputs": [],
   "source": [
    "def create_token(x):\n",
    "    return L(x).unique()"
   ]
  },
  {
   "cell_type": "code",
   "execution_count": null,
   "id": "c978aa0b-505b-4718-a8bf-51c32d98b6e8",
   "metadata": {},
   "outputs": [],
   "source": [
    "def word2idx(vocabs):\n",
    "    return {w:i for i, w in enumerate(vocabs)}"
   ]
  },
  {
   "cell_type": "code",
   "execution_count": null,
   "id": "e69f3e69-3b45-4169-8deb-7b92c626de92",
   "metadata": {},
   "outputs": [],
   "source": [
    "rnn = nn.RNN(input_size=3, hidden_size=64, num_layers=4)"
   ]
  },
  {
   "cell_type": "code",
   "execution_count": null,
   "id": "7010ebde-d7d1-49ef-8c87-940dcab99333",
   "metadata": {},
   "outputs": [],
   "source": [
    "transform = tfms.Compose([\n",
    "    tfms.ToTensor(),\n",
    "    tfms.Normalize(0.3, 0.9)\n",
    "])"
   ]
  },
  {
   "cell_type": "code",
   "execution_count": null,
   "id": "2c3ecdfb",
   "metadata": {},
   "outputs": [],
   "source": [
    "class Autoencoder(nn.Module):\n",
    "    def __init__(self):\n",
    "        self.encoder = nn.Sequential([\n",
    "            nn.Linear(784, 128),\n",
    "            nn.ReLU(),\n",
    "            nn.Linear(128, 64),\n",
    "            nn.ReLU(),\n",
    "            nn.Linear(64, 12),\n",
    "            nn.ReLU(),\n",
    "            nn.Linear(12, 3)\n",
    "        ])\n",
    "        \n",
    "        self.decoder = nn.Sequential([\n",
    "            nn.Linear(3, 12),\n",
    "            nn.ReLU(),\n",
    "            nn.Linear(12, 64),\n",
    "            nn.ReLU(),\n",
    "            nn.Linear(64, 128),\n",
    "            nn.ReLU(),\n",
    "            nn.Linear(128, 784),\n",
    "            nn.Sigmoid()\n",
    "        ])\n",
    "    \n",
    "    def forward(self, x):\n",
    "        encoded = self.encoder(x)\n",
    "        decoded = self.decoder(encoded)\n",
    "        \n",
    "        return decoded"
   ]
  },
  {
   "cell_type": "code",
   "execution_count": null,
   "id": "95ce7a08",
   "metadata": {},
   "outputs": [],
   "source": [
    "def make_show_progress(message):\n",
    "    def _inner(epoch):\n",
    "        print(f\"{message}! We've finished epoch {epoch}\")\n",
    "    \n",
    "    return _inner"
   ]
  },
  {
   "cell_type": "code",
   "execution_count": null,
   "id": "642bde74",
   "metadata": {},
   "outputs": [],
   "source": [
    "import ipywidgets as widgets"
   ]
  },
  {
   "cell_type": "code",
   "execution_count": null,
   "id": "12000523",
   "metadata": {},
   "outputs": [],
   "source": [
    "b = widgets.Button(description=\"Transmit\")"
   ]
  },
  {
   "cell_type": "code",
   "execution_count": null,
   "id": "07d34588",
   "metadata": {},
   "outputs": [],
   "source": [
    "def _f(o): print('Sent data')"
   ]
  },
  {
   "cell_type": "code",
   "execution_count": null,
   "id": "c41e7003",
   "metadata": {},
   "outputs": [],
   "source": [
    "b.on_click(_f)"
   ]
  },
  {
   "cell_type": "code",
   "execution_count": null,
   "id": "bf1bf354",
   "metadata": {},
   "outputs": [
    {
     "data": {
      "application/vnd.jupyter.widget-view+json": {
       "model_id": "9ed4cf82d2134f978123626ba38d491f",
       "version_major": 2,
       "version_minor": 0
      },
      "text/plain": [
       "Button(description='Transmit', style=ButtonStyle())"
      ]
     },
     "execution_count": null,
     "metadata": {},
     "output_type": "execute_result"
    },
    {
     "name": "stdout",
     "output_type": "stream",
     "text": [
      "Sent data\n"
     ]
    }
   ],
   "source": [
    "b"
   ]
  },
  {
   "cell_type": "code",
   "execution_count": null,
   "id": "86f46cbb",
   "metadata": {},
   "outputs": [],
   "source": [
    "w = widgets.Button(description=\"Connect\")"
   ]
  },
  {
   "cell_type": "code",
   "execution_count": null,
   "id": "560f2b21",
   "metadata": {},
   "outputs": [
    {
     "data": {
      "application/vnd.jupyter.widget-view+json": {
       "model_id": "27a80d2843ad46dc8307a55481e7186c",
       "version_major": 2,
       "version_minor": 0
      },
      "text/plain": [
       "Button(description='Connect', style=ButtonStyle())"
      ]
     },
     "execution_count": null,
     "metadata": {},
     "output_type": "execute_result"
    }
   ],
   "source": [
    "w"
   ]
  },
  {
   "cell_type": "code",
   "execution_count": null,
   "id": "e60d0ad4",
   "metadata": {},
   "outputs": [],
   "source": [
    "def covariance(x, y):\n",
    "    prod = (x-x.mean())*(y-y.mean())\n",
    "    return prod.mean()"
   ]
  },
  {
   "cell_type": "code",
   "execution_count": null,
   "id": "04c51dd0",
   "metadata": {},
   "outputs": [],
   "source": [
    "class SamplerDemo:\n",
    "    def __init__(self, ds, bs, shuffle):\n",
    "        self.n = len(ds)\n",
    "        self.bs = bs\n",
    "        self.shuffle = shuffle\n",
    "    \n",
    "    def __iter__(self):\n",
    "        idxs = torch.randperm(self.n) if self.shuffle else torch.arange(self.n)\n",
    "        for i in range(0, self.n, self.bs):\n",
    "            yield idxs[i:i+self.bs]"
   ]
  },
  {
   "cell_type": "code",
   "execution_count": null,
   "id": "b04402fd",
   "metadata": {},
   "outputs": [],
   "source": [
    "from torch.utils.data import DataLoader"
   ]
  },
  {
   "cell_type": "code",
   "execution_count": null,
   "id": "6da4e65a",
   "metadata": {},
   "outputs": [],
   "source": [
    "train_dl = DataLoader(train_ds, batch_size=64)"
   ]
  },
  {
   "cell_type": "code",
   "execution_count": null,
   "id": "1ac30257",
   "metadata": {},
   "outputs": [],
   "source": [
    "def zero_grad(model):\n",
    "    for l in model.layers:\n",
    "        if hasattr(l, 'weight'):\n",
    "            l.weight.grad.zero_()"
   ]
  },
  {
   "cell_type": "code",
   "execution_count": null,
   "id": "39f234c7",
   "metadata": {},
   "outputs": [
    {
     "ename": "AttributeError",
     "evalue": "'NoneType' object has no attribute 'data'",
     "output_type": "error",
     "traceback": [
      "\u001b[0;31m---------------------------------------------------------------------------\u001b[0m",
      "\u001b[0;31mAttributeError\u001b[0m                            Traceback (most recent call last)",
      "Input \u001b[0;32mIn [77]\u001b[0m, in \u001b[0;36m<cell line: 1>\u001b[0;34m()\u001b[0m\n\u001b[0;32m----> 1\u001b[0m \u001b[43mnn\u001b[49m\u001b[38;5;241;43m.\u001b[39;49m\u001b[43mLinear\u001b[49m\u001b[43m(\u001b[49m\u001b[38;5;241;43m3\u001b[39;49m\u001b[43m,\u001b[49m\u001b[43m \u001b[49m\u001b[38;5;241;43m4\u001b[39;49m\u001b[43m)\u001b[49m\u001b[38;5;241;43m.\u001b[39;49m\u001b[43mweight\u001b[49m\u001b[38;5;241;43m.\u001b[39;49m\u001b[43mgrad\u001b[49m\u001b[38;5;241;43m.\u001b[39;49m\u001b[43mdata\u001b[49m\u001b[38;5;241m.\u001b[39mzero_()\n",
      "\u001b[0;31mAttributeError\u001b[0m: 'NoneType' object has no attribute 'data'"
     ]
    }
   ],
   "source": [
    "nn.Linear(3, 4).weight.grad.data.zero_()"
   ]
  },
  {
   "cell_type": "markdown",
   "id": "beaebc30",
   "metadata": {},
   "source": [
    "### Docker"
   ]
  },
  {
   "cell_type": "code",
   "execution_count": null,
   "id": "546a098e",
   "metadata": {},
   "outputs": [],
   "source": [
    "docker network create mongo-network"
   ]
  },
  {
   "cell_type": "code",
   "execution_count": null,
   "id": "b224ebb1",
   "metadata": {},
   "outputs": [],
   "source": [
    "version: 0.01\n",
    "    \n",
    "services:\n",
    "    mongodb:\n",
    "        image: mongo"
   ]
  },
  {
   "cell_type": "markdown",
   "id": "9a5a239d",
   "metadata": {},
   "source": [
    "### Python"
   ]
  },
  {
   "cell_type": "code",
   "execution_count": null,
   "id": "3ee28047",
   "metadata": {},
   "outputs": [],
   "source": [
    "class FunnyDict(dict):\n",
    "    def __getattr__(self, k):\n",
    "        if k not in self:\n",
    "            return 'Not found'\n",
    "        super().__getattr__(k)"
   ]
  },
  {
   "cell_type": "markdown",
   "id": "bad8ff02",
   "metadata": {},
   "source": [
    "### Git"
   ]
  },
  {
   "cell_type": "code",
   "execution_count": null,
   "id": "1ac9764b",
   "metadata": {},
   "outputs": [],
   "source": [
    "git remote add origin URL"
   ]
  },
  {
   "cell_type": "markdown",
   "id": "ddae9a0a",
   "metadata": {},
   "source": [
    "### bash"
   ]
  },
  {
   "cell_type": "code",
   "execution_count": null,
   "id": "e4bd0c85",
   "metadata": {},
   "outputs": [],
   "source": [
    "rmdir datablock"
   ]
  },
  {
   "cell_type": "code",
   "execution_count": null,
   "id": "c1bb7a76",
   "metadata": {},
   "outputs": [],
   "source": [
    "echo $PATH"
   ]
  },
  {
   "cell_type": "code",
   "execution_count": null,
   "id": "ba0b0f48",
   "metadata": {},
   "outputs": [],
   "source": [
    "ls | tee output.txt"
   ]
  },
  {
   "cell_type": "code",
   "execution_count": null,
   "id": "3ef78b81",
   "metadata": {},
   "outputs": [],
   "source": [
    "$?"
   ]
  },
  {
   "cell_type": "code",
   "execution_count": null,
   "id": "424621bc",
   "metadata": {},
   "outputs": [],
   "source": [
    "for arg in \"$@\"; do\n",
    "    echo arg\n",
    "done"
   ]
  },
  {
   "cell_type": "code",
   "execution_count": null,
   "id": "87bfa14f",
   "metadata": {},
   "outputs": [],
   "source": [
    "#!/bin/bash\n",
    "\n",
    "make_folder() {\n",
    "    mkdir \"$1\"\n",
    "}"
   ]
  },
  {
   "cell_type": "code",
   "execution_count": null,
   "id": "4b3c5f95",
   "metadata": {},
   "outputs": [],
   "source": [
    "cat foo{,1, 2, 3}"
   ]
  },
  {
   "cell_type": "code",
   "execution_count": null,
   "id": "be5fe057",
   "metadata": {},
   "outputs": [],
   "source": [
    "diff a b"
   ]
  },
  {
   "cell_type": "code",
   "execution_count": null,
   "id": "a00af2c5",
   "metadata": {},
   "outputs": [],
   "source": [
    "X -ne Y"
   ]
  },
  {
   "cell_type": "code",
   "execution_count": null,
   "id": "1d196f92",
   "metadata": {},
   "outputs": [],
   "source": [
    "find ./project -name src -type d"
   ]
  },
  {
   "cell_type": "markdown",
   "id": "61903ec4",
   "metadata": {},
   "source": [
    "### Docker"
   ]
  },
  {
   "cell_type": "code",
   "execution_count": null,
   "id": "cf5de702",
   "metadata": {},
   "outputs": [],
   "source": [
    "docker-compose -f mongo.yaml up"
   ]
  },
  {
   "cell_type": "code",
   "execution_count": null,
   "id": "736137aa",
   "metadata": {},
   "outputs": [],
   "source": [
    "version: 0.01\n",
    "\n",
    "services:\n",
    "    mongodb:\n",
    "        image: mongo\n",
    "        ports:\n",
    "            - 27017:27017"
   ]
  },
  {
   "cell_type": "code",
   "execution_count": null,
   "id": "f815f88b",
   "metadata": {},
   "outputs": [],
   "source": [
    "version: 0.01\n",
    "    \n",
    "services:\n",
    "    mongodb:\n",
    "        image: mongo\n",
    "        volumes:\n",
    "            - db-data:/var/lib/mysql"
   ]
  },
  {
   "cell_type": "markdown",
   "id": "d81190b4",
   "metadata": {},
   "source": [
    "### Python"
   ]
  },
  {
   "cell_type": "code",
   "execution_count": null,
   "id": "eceed3a0",
   "metadata": {},
   "outputs": [],
   "source": [
    "from dataclasses import dataclass, field"
   ]
  },
  {
   "cell_type": "code",
   "execution_count": null,
   "id": "0bede259",
   "metadata": {},
   "outputs": [],
   "source": [
    "@dataclass\n",
    "class Planet:\n",
    "    name: str = field(repr=True)\n",
    "    population: int = field(repr=True)\n",
    "    mass: int = field(repr=True)\n",
    "    secret_code: int = field(repr=False)"
   ]
  },
  {
   "cell_type": "code",
   "execution_count": null,
   "id": "06c4017a",
   "metadata": {},
   "outputs": [],
   "source": [
    "from enum import Enum, unique"
   ]
  },
  {
   "cell_type": "code",
   "execution_count": null,
   "id": "a9885702",
   "metadata": {},
   "outputs": [
    {
     "ename": "ValueError",
     "evalue": "duplicate values found in <enum 'Models'>: X -> MODEL_X",
     "output_type": "error",
     "traceback": [
      "\u001b[0;31m---------------------------------------------------------------------------\u001b[0m",
      "\u001b[0;31mValueError\u001b[0m                                Traceback (most recent call last)",
      "Input \u001b[0;32mIn [83]\u001b[0m, in \u001b[0;36m<cell line: 1>\u001b[0;34m()\u001b[0m\n\u001b[1;32m      1\u001b[0m \u001b[38;5;129;43m@unique\u001b[39;49m\n\u001b[0;32m----> 2\u001b[0m \u001b[38;5;28;43;01mclass\u001b[39;49;00m\u001b[43m \u001b[49m\u001b[38;5;21;43;01mModels\u001b[39;49;00m\u001b[43m(\u001b[49m\u001b[43mEnum\u001b[49m\u001b[43m)\u001b[49m\u001b[43m:\u001b[49m\n\u001b[1;32m      3\u001b[0m \u001b[43m    \u001b[49m\u001b[43mMODEL_S\u001b[49m\u001b[43m \u001b[49m\u001b[38;5;241;43m=\u001b[39;49m\u001b[43m \u001b[49m\u001b[38;5;124;43m'\u001b[39;49m\u001b[38;5;124;43mModel S\u001b[39;49m\u001b[38;5;124;43m'\u001b[39;49m\n\u001b[1;32m      4\u001b[0m \u001b[43m    \u001b[49m\u001b[43mMODEL_3\u001b[49m\u001b[43m \u001b[49m\u001b[38;5;241;43m=\u001b[39;49m\u001b[43m \u001b[49m\u001b[38;5;124;43m'\u001b[39;49m\u001b[38;5;124;43mModel 3\u001b[39;49m\u001b[38;5;124;43m'\u001b[39;49m\n",
      "File \u001b[0;32m/opt/anaconda3/envs/tinypytorch/lib/python3.9/enum.py:1013\u001b[0m, in \u001b[0;36munique\u001b[0;34m(enumeration)\u001b[0m\n\u001b[1;32m   1010\u001b[0m \u001b[38;5;28;01mif\u001b[39;00m duplicates:\n\u001b[1;32m   1011\u001b[0m     alias_details \u001b[38;5;241m=\u001b[39m \u001b[38;5;124m'\u001b[39m\u001b[38;5;124m, \u001b[39m\u001b[38;5;124m'\u001b[39m\u001b[38;5;241m.\u001b[39mjoin(\n\u001b[1;32m   1012\u001b[0m             [\u001b[38;5;124m\"\u001b[39m\u001b[38;5;132;01m%s\u001b[39;00m\u001b[38;5;124m -> \u001b[39m\u001b[38;5;132;01m%s\u001b[39;00m\u001b[38;5;124m\"\u001b[39m \u001b[38;5;241m%\u001b[39m (alias, name) \u001b[38;5;28;01mfor\u001b[39;00m (alias, name) \u001b[38;5;129;01min\u001b[39;00m duplicates])\n\u001b[0;32m-> 1013\u001b[0m     \u001b[38;5;28;01mraise\u001b[39;00m \u001b[38;5;167;01mValueError\u001b[39;00m(\u001b[38;5;124m'\u001b[39m\u001b[38;5;124mduplicate values found in \u001b[39m\u001b[38;5;132;01m%r\u001b[39;00m\u001b[38;5;124m: \u001b[39m\u001b[38;5;132;01m%s\u001b[39;00m\u001b[38;5;124m'\u001b[39m \u001b[38;5;241m%\u001b[39m\n\u001b[1;32m   1014\u001b[0m             (enumeration, alias_details))\n\u001b[1;32m   1015\u001b[0m \u001b[38;5;28;01mreturn\u001b[39;00m enumeration\n",
      "\u001b[0;31mValueError\u001b[0m: duplicate values found in <enum 'Models'>: X -> MODEL_X"
     ]
    }
   ],
   "source": [
    "@unique\n",
    "class Models(Enum):\n",
    "    MODEL_S = 'Model S'\n",
    "    MODEL_3 = 'Model 3'\n",
    "    MODEL_X = 'Model X'\n",
    "    X = 'Model X'"
   ]
  },
  {
   "cell_type": "code",
   "execution_count": null,
   "id": "1ef0219a",
   "metadata": {},
   "outputs": [],
   "source": [
    "unique??"
   ]
  },
  {
   "cell_type": "code",
   "execution_count": null,
   "id": "13efb729",
   "metadata": {},
   "outputs": [],
   "source": [
    "class TextField:\n",
    "    def __init__(self, field_name):\n",
    "        self.field_name = field_name\n",
    "\n",
    "    def __get__(self, instance, owner):\n",
    "        return instance.__dict__.get(self.field_name)\n",
    "    \n",
    "    def __set__(self, instance, value):\n",
    "        instance.__dict__[self.field_name] = value"
   ]
  },
  {
   "cell_type": "code",
   "execution_count": null,
   "id": "f8a38e82",
   "metadata": {},
   "outputs": [],
   "source": [
    "class Person:\n",
    "    first_name = TextField('first_name')"
   ]
  },
  {
   "cell_type": "code",
   "execution_count": null,
   "id": "38368d51",
   "metadata": {},
   "outputs": [],
   "source": [
    "p = Person()"
   ]
  },
  {
   "cell_type": "code",
   "execution_count": null,
   "id": "6d37993e",
   "metadata": {},
   "outputs": [],
   "source": [
    "p.first_name"
   ]
  },
  {
   "cell_type": "code",
   "execution_count": null,
   "id": "8a3de228",
   "metadata": {},
   "outputs": [],
   "source": [
    "Vector = dict[float]"
   ]
  },
  {
   "cell_type": "code",
   "execution_count": null,
   "id": "59574515",
   "metadata": {},
   "outputs": [],
   "source": [
    "def coordinate(v: Vector) -> Vector:\n",
    "    return v"
   ]
  },
  {
   "cell_type": "code",
   "execution_count": null,
   "id": "f8a5aaa7",
   "metadata": {},
   "outputs": [],
   "source": [
    "import gc"
   ]
  },
  {
   "cell_type": "code",
   "execution_count": null,
   "id": "10075d1e",
   "metadata": {},
   "outputs": [
    {
     "ename": "NameError",
     "evalue": "name 'add' is not defined",
     "output_type": "error",
     "traceback": [
      "\u001b[0;31m---------------------------------------------------------------------------\u001b[0m",
      "\u001b[0;31mNameError\u001b[0m                                 Traceback (most recent call last)",
      "Input \u001b[0;32mIn [106]\u001b[0m, in \u001b[0;36m<cell line: 1>\u001b[0;34m()\u001b[0m\n\u001b[0;32m----> 1\u001b[0m \u001b[38;5;28mmap\u001b[39m(\u001b[43madd\u001b[49m, l1, l2)\n",
      "\u001b[0;31mNameError\u001b[0m: name 'add' is not defined"
     ]
    }
   ],
   "source": [
    "map(add, l1, l2)"
   ]
  },
  {
   "cell_type": "code",
   "execution_count": null,
   "id": "f28680cf",
   "metadata": {},
   "outputs": [],
   "source": [
    "x = 1"
   ]
  },
  {
   "cell_type": "code",
   "execution_count": null,
   "id": "02211ffc",
   "metadata": {},
   "outputs": [],
   "source": [
    "y = 1"
   ]
  },
  {
   "cell_type": "code",
   "execution_count": null,
   "id": "97485616",
   "metadata": {},
   "outputs": [],
   "source": [
    "class Rectangle:\n",
    "    def __init__(self, width, height):\n",
    "        self.width, self.height = width, height\n",
    "    \n",
    "    def __eq__(self, other):\n",
    "        return (self.width == other.width) & (self.height == other.height)"
   ]
  },
  {
   "cell_type": "markdown",
   "id": "50b3429d",
   "metadata": {},
   "source": [
    "### Docker"
   ]
  },
  {
   "cell_type": "code",
   "execution_count": null,
   "id": "8b7a389d",
   "metadata": {},
   "outputs": [],
   "source": [
    "version: 0.01\n",
    "\n",
    "services:\n",
    "    mongodb:\n",
    "        image: mongo"
   ]
  },
  {
   "cell_type": "code",
   "execution_count": null,
   "id": "298d74c8",
   "metadata": {},
   "outputs": [],
   "source": []
  },
  {
   "cell_type": "markdown",
   "id": "2b4c739d",
   "metadata": {},
   "source": [
    "### fastcore"
   ]
  },
  {
   "cell_type": "code",
   "execution_count": null,
   "id": "c2584b90",
   "metadata": {},
   "outputs": [],
   "source": [
    "from fastcore.meta import *"
   ]
  },
  {
   "cell_type": "code",
   "execution_count": null,
   "id": "f98cb59c",
   "metadata": {},
   "outputs": [],
   "source": [
    "@funcs_kwargs\n",
    "class DataBlock:\n",
    "    _methods = ['loss_func']"
   ]
  },
  {
   "cell_type": "code",
   "execution_count": null,
   "id": "a4e32f24",
   "metadata": {},
   "outputs": [],
   "source": [
    "dblock = DataBlock(loss_func=lambda: 1)"
   ]
  },
  {
   "cell_type": "code",
   "execution_count": null,
   "id": "e778785c",
   "metadata": {},
   "outputs": [
    {
     "data": {
      "text/plain": [
       "1"
      ]
     },
     "execution_count": null,
     "metadata": {},
     "output_type": "execute_result"
    }
   ],
   "source": [
    "dblock.loss_func()"
   ]
  },
  {
   "cell_type": "markdown",
   "id": "f01ae6ce",
   "metadata": {},
   "source": [
    "### Docker"
   ]
  },
  {
   "cell_type": "code",
   "execution_count": null,
   "id": "1c2c5da7",
   "metadata": {},
   "outputs": [
    {
     "ename": "SyntaxError",
     "evalue": "invalid syntax (2191980145.py, line 3)",
     "output_type": "error",
     "traceback": [
      "\u001b[0;36m  Input \u001b[0;32mIn [107]\u001b[0;36m\u001b[0m\n\u001b[0;31m    services:\u001b[0m\n\u001b[0m             ^\u001b[0m\n\u001b[0;31mSyntaxError\u001b[0m\u001b[0;31m:\u001b[0m invalid syntax\n"
     ]
    }
   ],
   "source": [
    "verion: 0.01\n",
    "    \n",
    "services:\n",
    "    mongodb:\n",
    "        image: mongo\n",
    "        volumes:\n",
    "            - db_data:/var/lib/mysql/data\n",
    "    \n",
    "volumes:\n",
    "    db_data"
   ]
  },
  {
   "cell_type": "markdown",
   "id": "8cd470cd",
   "metadata": {},
   "source": [
    "### Python"
   ]
  },
  {
   "cell_type": "code",
   "execution_count": null,
   "id": "a97c5a5a",
   "metadata": {},
   "outputs": [],
   "source": [
    "class TextField:\n",
    "    def __init__(self, field_name):\n",
    "        self.field_name = field_name\n",
    "    \n",
    "    def __get__(self, instance, owner):\n",
    "        return instance.__dict__[field_name]\n",
    "     \n",
    "    def __set__(self, owner, value):\n",
    "        instance.__dict__[self.field_name] = value"
   ]
  },
  {
   "cell_type": "code",
   "execution_count": null,
   "id": "34bfabc0",
   "metadata": {},
   "outputs": [],
   "source": [
    "class Person:\n",
    "    first_name = TextField('first_name')\n",
    "    last_name = TextField('last_name')"
   ]
  },
  {
   "cell_type": "code",
   "execution_count": null,
   "id": "15722945",
   "metadata": {},
   "outputs": [],
   "source": [
    "p1 = Person()"
   ]
  },
  {
   "cell_type": "code",
   "execution_count": null,
   "id": "629cc38f",
   "metadata": {},
   "outputs": [],
   "source": [
    "p1.first_name = 'Shivon'"
   ]
  },
  {
   "cell_type": "code",
   "execution_count": null,
   "id": "50e3d0b3",
   "metadata": {},
   "outputs": [
    {
     "data": {
      "text/plain": [
       "{'first_name': 'Shivon'}"
      ]
     },
     "execution_count": null,
     "metadata": {},
     "output_type": "execute_result"
    }
   ],
   "source": [
    "p1.__dict__"
   ]
  },
  {
   "cell_type": "code",
   "execution_count": null,
   "id": "a543054d",
   "metadata": {},
   "outputs": [],
   "source": [
    "class Point:\n",
    "    def __init__(self, x, y):\n",
    "        self.x, self.y = x, y"
   ]
  },
  {
   "cell_type": "code",
   "execution_count": null,
   "id": "911ee8df",
   "metadata": {},
   "outputs": [],
   "source": [
    "class PointFactory:\n",
    "    def new_cartesian_point(self, x, y):\n",
    "        return Point(x, y)\n",
    "\n",
    "    def new_polar_point(self, x, y):\n",
    "        ...\n",
    "        return Point(a, b)"
   ]
  },
  {
   "cell_type": "code",
   "execution_count": null,
   "id": "0a935205",
   "metadata": {},
   "outputs": [],
   "source": [
    "import logging"
   ]
  },
  {
   "cell_type": "code",
   "execution_count": null,
   "id": "f5ea4b34",
   "metadata": {},
   "outputs": [],
   "source": [
    "def add(x, y):\n",
    "    logging.warning(f\"x={x}, y={y}\")\n",
    "    return x + y"
   ]
  },
  {
   "cell_type": "code",
   "execution_count": null,
   "id": "e7f82f53",
   "metadata": {},
   "outputs": [
    {
     "name": "stderr",
     "output_type": "stream",
     "text": [
      "WARNING:root:x=2, y=3\n"
     ]
    },
    {
     "data": {
      "text/plain": [
       "5"
      ]
     },
     "execution_count": null,
     "metadata": {},
     "output_type": "execute_result"
    }
   ],
   "source": [
    "add(2, 3)"
   ]
  },
  {
   "cell_type": "code",
   "execution_count": null,
   "id": "96fae5c4",
   "metadata": {},
   "outputs": [],
   "source": [
    "class User:\n",
    "    def __init__(self, name, gender=None, address=None):\n",
    "        self.name = name\n",
    "        self.gender = gender\n",
    "        self.address = address"
   ]
  },
  {
   "cell_type": "code",
   "execution_count": null,
   "id": "b494afbe",
   "metadata": {},
   "outputs": [],
   "source": [
    "class UserBuilder:\n",
    "    def __init__(self, name):\n",
    "        self.user = User(name)\n",
    "    \n",
    "    def setGender(self, gender):\n",
    "        self.user.gender = gender\n",
    "        return self\n",
    "    \n",
    "    def setAddress(self, address):\n",
    "        self.user.address = address\n",
    "        return self\n",
    "    \n",
    "    def build(self):\n",
    "        return self.user"
   ]
  },
  {
   "cell_type": "code",
   "execution_count": null,
   "id": "9dd19ea5",
   "metadata": {},
   "outputs": [],
   "source": [
    "class CustomerSupport:\n",
    "    def __init__(self):\n",
    "        self.supplier = Supplier()\n",
    "        self.warehouse = WareHouse(supplier=self.supplier)\n",
    "    \n",
    "    def buy(self, name):\n",
    "        return self.warehouse.check_available_product(name)"
   ]
  },
  {
   "cell_type": "code",
   "execution_count": null,
   "id": "333e1e9c",
   "metadata": {},
   "outputs": [],
   "source": [
    "ratings.groupby('title')['rating'].mean()"
   ]
  },
  {
   "cell_type": "code",
   "execution_count": null,
   "id": "86493639",
   "metadata": {},
   "outputs": [],
   "source": []
  }
 ],
 "metadata": {
  "kernelspec": {
   "display_name": "Python 3 (ipykernel)",
   "language": "python",
   "name": "python3"
  }
 },
 "nbformat": 4,
 "nbformat_minor": 5
}
