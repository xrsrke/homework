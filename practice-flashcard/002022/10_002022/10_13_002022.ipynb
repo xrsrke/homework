{
 "cells": [
  {
   "cell_type": "markdown",
   "id": "3b3cf45f-e52d-4c58-90f8-55f29355e251",
   "metadata": {},
   "source": [
    "### Deep Learning"
   ]
  },
  {
   "cell_type": "code",
   "execution_count": null,
   "id": "42a6c437-b93c-4d41-9af5-a49a1c777702",
   "metadata": {},
   "outputs": [],
   "source": [
    "learn = Learner(dls, model, loss_func=MSELossFlat())"
   ]
  },
  {
   "cell_type": "code",
   "execution_count": null,
   "id": "6c927797-7a74-4d86-9449-5285a53aa24f",
   "metadata": {},
   "outputs": [],
   "source": [
    "dblock = DataBlock(blocks = [ImageBlock, MultiCategoryBlock],\n",
    "                   get_x = get_x,\n",
    "                   get_y = get_y)"
   ]
  },
  {
   "cell_type": "code",
   "execution_count": null,
   "id": "2a061864-7eaa-41e1-b673-d37cdcb49737",
   "metadata": {},
   "outputs": [],
   "source": [
    "import torch"
   ]
  },
  {
   "cell_type": "code",
   "execution_count": null,
   "id": "f3df48eb-a620-4a61-b190-2a6701f8152a",
   "metadata": {},
   "outputs": [],
   "source": [
    "def droput_layer(x, p):\n",
    "    assert 0 <= p <= 1\n",
    "    if p == 1: return torch.zeros_like(x)\n",
    "    \n",
    "    mask = (torch.rand(x.shape) > p).float()\n",
    "    return (mask * x) / (1 - p)"
   ]
  },
  {
   "cell_type": "code",
   "execution_count": null,
   "id": "9a00cba9-9a71-455a-8254-a6013cba72d2",
   "metadata": {},
   "outputs": [],
   "source": [
    "activations = torch.arange(16).reshape((4, 4))"
   ]
  },
  {
   "cell_type": "code",
   "execution_count": null,
   "id": "4bdebfc3-c380-4881-b820-406033cdbc52",
   "metadata": {},
   "outputs": [
    {
     "data": {
      "text/plain": [
       "tensor([[ 0,  1,  2,  3],\n",
       "        [ 4,  5,  6,  7],\n",
       "        [ 8,  9, 10, 11],\n",
       "        [12, 13, 14, 15]])"
      ]
     },
     "execution_count": null,
     "metadata": {},
     "output_type": "execute_result"
    }
   ],
   "source": [
    "activations"
   ]
  },
  {
   "cell_type": "code",
   "execution_count": null,
   "id": "f7f14cf7-74ba-4ac1-80b6-593b871dfeeb",
   "metadata": {},
   "outputs": [
    {
     "data": {
      "text/plain": [
       "tensor([[0, 0, 0, 0],\n",
       "        [0, 0, 0, 0],\n",
       "        [0, 0, 0, 0],\n",
       "        [0, 0, 0, 0]])"
      ]
     },
     "execution_count": null,
     "metadata": {},
     "output_type": "execute_result"
    }
   ],
   "source": [
    "droput_layer(activations, 1)"
   ]
  },
  {
   "cell_type": "code",
   "execution_count": null,
   "id": "f282f702-1866-4b7f-b691-f9b76feb30ea",
   "metadata": {},
   "outputs": [
    {
     "data": {
      "text/plain": [
       "tensor([[ 0.0000,  1.2500,  0.0000,  3.7500],\n",
       "        [ 5.0000,  6.2500,  7.5000,  8.7500],\n",
       "        [10.0000,  0.0000, 12.5000, 13.7500],\n",
       "        [15.0000,  0.0000,  0.0000,  0.0000]])"
      ]
     },
     "execution_count": null,
     "metadata": {},
     "output_type": "execute_result"
    }
   ],
   "source": [
    "droput_layer(activations, 0.2)"
   ]
  },
  {
   "cell_type": "code",
   "execution_count": null,
   "id": "d30a57a5-ac60-4fb5-9485-aad0fc1ee38c",
   "metadata": {},
   "outputs": [],
   "source": [
    "from torch import nn"
   ]
  },
  {
   "cell_type": "code",
   "execution_count": null,
   "id": "cf4f79be-6edc-4114-b691-ce5063989d7e",
   "metadata": {},
   "outputs": [],
   "source": [
    "model = nn.Sequential(\n",
    "    nn.Linear(2, 4),\n",
    "    nn.Linear(4, 3)\n",
    ")"
   ]
  },
  {
   "cell_type": "code",
   "execution_count": null,
   "id": "46b57f94-642a-4699-9d7b-d86ff77ab7dd",
   "metadata": {},
   "outputs": [],
   "source": [
    "(filter1 * small_part).sum() + (filter2 * small_part).sum()"
   ]
  },
  {
   "cell_type": "code",
   "execution_count": null,
   "id": "baf13343-f7f5-427c-a801-a85c20b8bba8",
   "metadata": {},
   "outputs": [],
   "source": [
    "def max_pool(x):\n",
    "    return torch.max(x)"
   ]
  },
  {
   "cell_type": "code",
   "execution_count": null,
   "id": "2e8f15ec-98d6-49d9-815c-a42e4d786ed5",
   "metadata": {},
   "outputs": [
    {
     "data": {
      "text/plain": [
       "tensor(15)"
      ]
     },
     "execution_count": null,
     "metadata": {},
     "output_type": "execute_result"
    }
   ],
   "source": [
    "max_pool(activations)"
   ]
  },
  {
   "cell_type": "code",
   "execution_count": null,
   "id": "be1b5e0e-e96f-4ff2-b8fd-81f705d5904a",
   "metadata": {},
   "outputs": [
    {
     "ename": "SyntaxError",
     "evalue": "invalid syntax (3334134017.py, line 1)",
     "output_type": "error",
     "traceback": [
      "\u001b[0;36m  Input \u001b[0;32mIn [29]\u001b[0;36m\u001b[0m\n\u001b[0;31m    def fill_normal(x)\u001b[0m\n\u001b[0m                      ^\u001b[0m\n\u001b[0;31mSyntaxError\u001b[0m\u001b[0;31m:\u001b[0m invalid syntax\n"
     ]
    }
   ],
   "source": [
    "def fill_normal(x):\n",
    "    return x.normal_()"
   ]
  },
  {
   "cell_type": "code",
   "execution_count": null,
   "id": "9e1b9b19-0e32-4eff-9cfb-76515a4b7a93",
   "metadata": {},
   "outputs": [],
   "source": [
    "def dropout_layer(x, dropout):\n",
    "    assert 0 <= dropout <= 1\n",
    "    \n",
    "    if dropout == 1: return torch.zeros_like(x)\n",
    "    \n",
    "    mask = (torch.rand(x.shape) > dropout).float()\n",
    "    return (x * mask) / (1 - dropout)"
   ]
  },
  {
   "cell_type": "code",
   "execution_count": null,
   "id": "74f457cb-83d5-4ac3-bd12-de280ccda44f",
   "metadata": {},
   "outputs": [],
   "source": [
    "activations = torch.arange(16).reshape((4, 4))"
   ]
  },
  {
   "cell_type": "code",
   "execution_count": null,
   "id": "f2a8b70e-541b-45e4-944a-4831608edc03",
   "metadata": {},
   "outputs": [
    {
     "data": {
      "text/plain": [
       "tensor([[ 0,  1,  2,  3],\n",
       "        [ 4,  5,  6,  7],\n",
       "        [ 8,  9, 10, 11],\n",
       "        [12, 13, 14, 15]])"
      ]
     },
     "execution_count": null,
     "metadata": {},
     "output_type": "execute_result"
    }
   ],
   "source": [
    "activations"
   ]
  },
  {
   "cell_type": "code",
   "execution_count": null,
   "id": "ed824a62-c7ed-4f1a-b2a7-80180efbb281",
   "metadata": {},
   "outputs": [
    {
     "data": {
      "text/plain": [
       "tensor([[ 0.0000,  1.2500,  0.0000,  0.0000],\n",
       "        [ 5.0000,  6.2500,  7.5000,  8.7500],\n",
       "        [10.0000, 11.2500, 12.5000, 13.7500],\n",
       "        [ 0.0000, 16.2500, 17.5000, 18.7500]])"
      ]
     },
     "execution_count": null,
     "metadata": {},
     "output_type": "execute_result"
    }
   ],
   "source": [
    "dropout_layer(activations, 0.2)"
   ]
  },
  {
   "cell_type": "code",
   "execution_count": null,
   "id": "7f7cfc78-5b0e-495e-a79f-8b4ab1425922",
   "metadata": {},
   "outputs": [],
   "source": [
    "class DotProduct(nn.Module):\n",
    "    \n",
    "    def __init__(self, n_users, n_movies, n_factors):\n",
    "        super().__init__()\n",
    "        self.user_factors = torch.rand(n_users, n_factors)\n",
    "        self.movie_factors = torch.rand(n_movies, n_factors)\n",
    "    \n",
    "    def forward(self, x):\n",
    "        users = self.user_factors(x[:, 0])\n",
    "        movies = self.movie_factors(x[:, 1])\n",
    "        \n",
    "        return (users*movies).sum()"
   ]
  },
  {
   "cell_type": "code",
   "execution_count": null,
   "id": "427d595f-473e-4a45-a9ce-76be7313b3a9",
   "metadata": {},
   "outputs": [],
   "source": [
    "def fill_normal(x):\n",
    "    return x.normal_(mean=0, std=0.01)"
   ]
  },
  {
   "cell_type": "markdown",
   "id": "889994f7-a51b-45ab-9b3e-b3421ee7cca7",
   "metadata": {},
   "source": [
    "### Python"
   ]
  },
  {
   "cell_type": "code",
   "execution_count": null,
   "id": "7379d1cb-86d9-46a2-b48d-02073ae243a6",
   "metadata": {},
   "outputs": [],
   "source": [
    "a, b, (c, d)"
   ]
  },
  {
   "cell_type": "code",
   "execution_count": null,
   "id": "ee159fa0-f8ba-4f05-acb2-334b44972b1e",
   "metadata": {},
   "outputs": [],
   "source": [
    "from collections import namedtuple"
   ]
  },
  {
   "cell_type": "code",
   "execution_count": null,
   "id": "24e441ff-7a28-43eb-9e7e-72711e2cc134",
   "metadata": {},
   "outputs": [],
   "source": [
    "EV2 = namedtuple('ElectricVehicle', ['efficient', 'make', 'price'], defaults=(100, 'Tesla', 200))"
   ]
  },
  {
   "cell_type": "code",
   "execution_count": null,
   "id": "032e4ea4-98ea-471d-9233-5bf3ec99ad16",
   "metadata": {},
   "outputs": [
    {
     "data": {
      "text/plain": [
       "ElectricVehicle(efficient=2, make='Tesla', price=200)"
      ]
     },
     "execution_count": null,
     "metadata": {},
     "output_type": "execute_result"
    }
   ],
   "source": [
    "EV2(2)"
   ]
  },
  {
   "cell_type": "code",
   "execution_count": null,
   "id": "ecec7524-579c-42ec-ba33-c2e12e582571",
   "metadata": {},
   "outputs": [],
   "source": [
    "from fastcore.meta import *"
   ]
  },
  {
   "cell_type": "code",
   "execution_count": null,
   "id": "5ed63b93-504c-4a68-a4ee-3541bb30cbc7",
   "metadata": {},
   "outputs": [],
   "source": [
    "import inspect"
   ]
  },
  {
   "cell_type": "code",
   "execution_count": null,
   "id": "14a850b4-4bff-47cb-ab4c-716d962fb47b",
   "metadata": {},
   "outputs": [],
   "source": [
    "def bar(a, b:int=2, c:int=3):\n",
    "    return a + b + c"
   ]
  },
  {
   "cell_type": "code",
   "execution_count": null,
   "id": "4e03b85b-1b4f-4a40-add4-c9f14c338ff1",
   "metadata": {},
   "outputs": [],
   "source": [
    "@delegates(bar)\n",
    "def foo(c, a, **kwargs):\n",
    "    return c + baz(a, **kwargs)"
   ]
  },
  {
   "cell_type": "code",
   "execution_count": null,
   "id": "ef0ca320-44f2-453e-bf25-4a325783c86c",
   "metadata": {},
   "outputs": [
    {
     "data": {
      "text/plain": [
       "<Signature (c, a, *, b: int = 2)>"
      ]
     },
     "execution_count": null,
     "metadata": {},
     "output_type": "execute_result"
    }
   ],
   "source": [
    "inspect.signature(foo)"
   ]
  },
  {
   "cell_type": "markdown",
   "id": "d0008d33-f23a-404b-8633-fa2002eb7d26",
   "metadata": {},
   "source": [
    "### SQL"
   ]
  },
  {
   "cell_type": "code",
   "execution_count": null,
   "id": "f1bf2204-d126-42cc-87f6-0c0f6df137e8",
   "metadata": {},
   "outputs": [],
   "source": [
    "SELECT * names AS 'name' FROM files"
   ]
  },
  {
   "cell_type": "code",
   "execution_count": null,
   "id": "3a365783-e929-4cf3-99a7-a5f84eff1db5",
   "metadata": {},
   "outputs": [],
   "source": [
    "SELECT * users WHERE (name='shivon' AND rank=1) OR (rank=2)"
   ]
  },
  {
   "cell_type": "code",
   "execution_count": null,
   "id": "2afecb3d-3ae2-4dde-afba-9607aaf2221e",
   "metadata": {},
   "outputs": [],
   "source": [
    "SELECT * FROM production.images"
   ]
  },
  {
   "cell_type": "code",
   "execution_count": null,
   "id": "784bd095-4b51-4440-80eb-7cad1fdc9ada",
   "metadata": {},
   "outputs": [],
   "source": [
    "SELECT * FROM users WHERE rank='one' OR rank=1"
   ]
  },
  {
   "cell_type": "code",
   "execution_count": null,
   "id": "3da4e1b3-3e90-4335-b3c0-53e924bc0d9d",
   "metadata": {},
   "outputs": [],
   "source": [
    "SELECT * FROM files WHERE status='DELETED'"
   ]
  },
  {
   "cell_type": "code",
   "execution_count": null,
   "id": "bcc19988-841a-4c7d-8bda-d2506ccc82ff",
   "metadata": {},
   "outputs": [],
   "source": [
    "SELECT * FROM users WHERE rank='one' AND files=6"
   ]
  },
  {
   "cell_type": "markdown",
   "id": "552b7615-2c27-4739-83e1-1873a2ca9ca6",
   "metadata": {},
   "source": [
    "### SymPy"
   ]
  },
  {
   "cell_type": "code",
   "execution_count": null,
   "id": "d6b444ce-12b1-4823-9d14-a4ebe49594cb",
   "metadata": {},
   "outputs": [],
   "source": [
    "f.subs({'x': 3, 'y': 2*z})"
   ]
  },
  {
   "cell_type": "markdown",
   "id": "b47efaa7-7654-4e16-b513-c48636e9a3d7",
   "metadata": {},
   "source": [
    "### Pandas"
   ]
  },
  {
   "cell_type": "code",
   "execution_count": null,
   "id": "9b74b326-d442-43d7-ac50-1cf184bcf5a7",
   "metadata": {},
   "outputs": [],
   "source": [
    "import pandas as pd"
   ]
  },
  {
   "cell_type": "code",
   "execution_count": null,
   "id": "3df5cf34-cd15-41a2-9d53-1974adeec20e",
   "metadata": {},
   "outputs": [],
   "source": [
    "ratings.groupby('title')['rating'].mean()"
   ]
  },
  {
   "cell_type": "markdown",
   "id": "cd752bc8-41d6-48a4-98a0-0bb793f94154",
   "metadata": {},
   "source": [
    "### Design Patterns"
   ]
  },
  {
   "cell_type": "code",
   "execution_count": null,
   "id": "54957797-b70c-4968-b5f1-cffd19e9f7d3",
   "metadata": {},
   "outputs": [],
   "source": [
    "class CustomerSupport:\n",
    "    \n",
    "    def __init__(self):\n",
    "        supplier = Supplier()\n",
    "        self.warehouse = Warehouse(supplier)\n",
    "    \n",
    "    def buy(self, product):\n",
    "        return self.warehouse.check_available_product(product)"
   ]
  },
  {
   "cell_type": "code",
   "execution_count": null,
   "id": "7fbffe85-2bfc-4165-a3cc-fdd946848902",
   "metadata": {},
   "outputs": [],
   "source": []
  }
 ],
 "metadata": {
  "kernelspec": {
   "display_name": "Python 3 (ipykernel)",
   "language": "python",
   "name": "python3"
  }
 },
 "nbformat": 4,
 "nbformat_minor": 5
}
