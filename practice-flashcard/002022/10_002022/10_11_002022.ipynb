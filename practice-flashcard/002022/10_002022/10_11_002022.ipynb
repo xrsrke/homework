{
 "cells": [
  {
   "cell_type": "markdown",
   "id": "43bf3fea-29db-4676-87e7-20ca18d8187a",
   "metadata": {},
   "source": [
    "### Deep Learning"
   ]
  },
  {
   "cell_type": "code",
   "execution_count": null,
   "id": "9383af78-22cf-49e6-9041-2a0201d96d08",
   "metadata": {},
   "outputs": [],
   "source": [
    "dl = DataLoader(ds, batch_size=3)"
   ]
  },
  {
   "cell_type": "code",
   "execution_count": null,
   "id": "21753d46-7a1d-4589-9923-d36a128cfcb5",
   "metadata": {},
   "outputs": [],
   "source": [
    "def sigmoid_range(x, low, high):\n",
    "    return (1) / (1 + torch.exp(1))"
   ]
  },
  {
   "cell_type": "code",
   "execution_count": null,
   "id": "4c61eeb0-dd9c-4703-aa06-7d571d597fee",
   "metadata": {},
   "outputs": [],
   "source": [
    "import torch"
   ]
  },
  {
   "cell_type": "code",
   "execution_count": null,
   "id": "3a2cf962-0547-48cd-99a9-8f291fbe8105",
   "metadata": {},
   "outputs": [],
   "source": [
    "def one_hot(idx, n_elements):\n",
    "    zeros = torch.zeros(n_elements)\n",
    "    zeros[idx] = 1\n",
    "    return zeros"
   ]
  },
  {
   "cell_type": "code",
   "execution_count": null,
   "id": "220a62d4-dd51-4d54-b9c8-067ab64bffaf",
   "metadata": {},
   "outputs": [
    {
     "data": {
      "text/plain": [
       "tensor([0., 0., 0., 1., 0., 0., 0., 0., 0., 0.])"
      ]
     },
     "execution_count": null,
     "metadata": {},
     "output_type": "execute_result"
    }
   ],
   "source": [
    "one_hot(3, 10)"
   ]
  },
  {
   "cell_type": "code",
   "execution_count": null,
   "id": "1d9e98ab-5dd1-4592-b540-f04aa7866f8d",
   "metadata": {},
   "outputs": [],
   "source": [
    "from PIL import Image"
   ]
  },
  {
   "cell_type": "code",
   "execution_count": null,
   "id": "b322b76e-9c79-48c2-9765-6eb675134a3a",
   "metadata": {},
   "outputs": [],
   "source": [
    "def embedding_matrix(n_elements, n_latent_factors):\n",
    "    return torch.randn(n_elements, n_latent_factors)"
   ]
  },
  {
   "cell_type": "code",
   "execution_count": null,
   "id": "236f12b8-eb84-48c9-a376-f42de94f101e",
   "metadata": {},
   "outputs": [
    {
     "data": {
      "text/plain": [
       "tensor([[-0.4533, -0.3303],\n",
       "        [-1.0102,  0.3388],\n",
       "        [-0.4450,  0.0268]])"
      ]
     },
     "execution_count": null,
     "metadata": {},
     "output_type": "execute_result"
    }
   ],
   "source": [
    "embedding_matrix(3, 2)"
   ]
  },
  {
   "cell_type": "code",
   "execution_count": null,
   "id": "5cf0ed69-7690-42c2-99e3-ecd8211f9b57",
   "metadata": {},
   "outputs": [
    {
     "ename": "NameError",
     "evalue": "name 'DataBlock' is not defined",
     "output_type": "error",
     "traceback": [
      "\u001b[0;31m---------------------------------------------------------------------------\u001b[0m",
      "\u001b[0;31mNameError\u001b[0m                                 Traceback (most recent call last)",
      "Input \u001b[0;32mIn [10]\u001b[0m, in \u001b[0;36m<cell line: 1>\u001b[0;34m()\u001b[0m\n\u001b[0;32m----> 1\u001b[0m dblock \u001b[38;5;241m=\u001b[39m \u001b[43mDataBlock\u001b[49m(get_x \u001b[38;5;241m=\u001b[39m \u001b[38;5;28;01mlambda\u001b[39;00m r: r[\u001b[38;5;124m'\u001b[39m\u001b[38;5;124mfname\u001b[39m\u001b[38;5;124m'\u001b[39m],\n\u001b[1;32m      2\u001b[0m                    get_y \u001b[38;5;241m=\u001b[39m \u001b[38;5;28;01mlambda\u001b[39;00m r: r[\u001b[38;5;124m'\u001b[39m\u001b[38;5;124mlabels\u001b[39m\u001b[38;5;124m'\u001b[39m])\n",
      "\u001b[0;31mNameError\u001b[0m: name 'DataBlock' is not defined"
     ]
    }
   ],
   "source": [
    "dblock = DataBlock(get_x = lambda r: r['fname'],\n",
    "                   get_y = lambda r: r['labels'])"
   ]
  },
  {
   "cell_type": "code",
   "execution_count": null,
   "id": "272e39bd-2f35-44bd-abe7-2f56193e83bb",
   "metadata": {},
   "outputs": [],
   "source": [
    "dsets = dblock.datasets(path)"
   ]
  },
  {
   "cell_type": "code",
   "execution_count": null,
   "id": "6795172a-5d90-472b-b7ff-80400b6e4989",
   "metadata": {},
   "outputs": [],
   "source": [
    "def embedding_matrix(n_elements, n_latent_factors):\n",
    "    return torch.randn(n_elements, n_latent_factors)"
   ]
  },
  {
   "cell_type": "code",
   "execution_count": null,
   "id": "c93652a7-a5d3-4317-aada-1d47a832d1d4",
   "metadata": {},
   "outputs": [
    {
     "data": {
      "text/plain": [
       "tensor([[ 1.3325, -0.9936, -0.4316],\n",
       "        [ 1.2587,  0.1457,  0.3729],\n",
       "        [ 0.6080,  1.2425, -1.8820],\n",
       "        [ 3.1746, -0.5182,  0.0036]])"
      ]
     },
     "execution_count": null,
     "metadata": {},
     "output_type": "execute_result"
    }
   ],
   "source": [
    "embedding_matrix(4, 3)"
   ]
  },
  {
   "cell_type": "code",
   "execution_count": null,
   "id": "5388f975-ffbc-46b3-8f9b-058722722c64",
   "metadata": {},
   "outputs": [],
   "source": [
    "seven_tensors = torch.stack([tensor(Image.open(o)) for o in sevens], dim=0)"
   ]
  },
  {
   "cell_type": "code",
   "execution_count": null,
   "id": "18289bb0-5b6d-4444-81cd-178691141c0f",
   "metadata": {},
   "outputs": [],
   "source": [
    "def sigmoid_range(x, low, high):\n",
    "    return torch.sigmoid(x) * (high - low) + low"
   ]
  },
  {
   "cell_type": "code",
   "execution_count": null,
   "id": "8f735492-be17-4613-8100-f0e9087cd2aa",
   "metadata": {},
   "outputs": [],
   "source": [
    "seven_tensors = torch.stack([tensor(Image.open(o)) for o in sevens], dim=0)"
   ]
  },
  {
   "cell_type": "code",
   "execution_count": null,
   "id": "65838729-e4b2-4bc1-b5db-e8b31a87b801",
   "metadata": {},
   "outputs": [
    {
     "data": {
      "text/plain": [
       "2"
      ]
     },
     "execution_count": null,
     "metadata": {},
     "output_type": "execute_result"
    }
   ],
   "source": [
    "7 // 3"
   ]
  },
  {
   "cell_type": "code",
   "execution_count": null,
   "id": "3b97af87-0b44-45b1-b91c-b2fb1df8d7d5",
   "metadata": {},
   "outputs": [
    {
     "data": {
      "text/plain": [
       "2.3333333333333335"
      ]
     },
     "execution_count": null,
     "metadata": {},
     "output_type": "execute_result"
    }
   ],
   "source": [
    "7 /3"
   ]
  },
  {
   "cell_type": "markdown",
   "id": "43c319a2-29c0-4d04-8946-9935b9fe9d5f",
   "metadata": {},
   "source": [
    "### Pandas"
   ]
  },
  {
   "cell_type": "code",
   "execution_count": null,
   "id": "93f26b74-b7ba-44f2-a96b-47fba199656c",
   "metadata": {},
   "outputs": [
    {
     "ename": "ModuleNotFoundError",
     "evalue": "No module named 'pandas'",
     "output_type": "error",
     "traceback": [
      "\u001b[0;31m---------------------------------------------------------------------------\u001b[0m",
      "\u001b[0;31mModuleNotFoundError\u001b[0m                       Traceback (most recent call last)",
      "Input \u001b[0;32mIn [16]\u001b[0m, in \u001b[0;36m<cell line: 1>\u001b[0;34m()\u001b[0m\n\u001b[0;32m----> 1\u001b[0m \u001b[38;5;28;01mimport\u001b[39;00m \u001b[38;5;21;01mpandas\u001b[39;00m \u001b[38;5;28;01mas\u001b[39;00m \u001b[38;5;21;01mpd\u001b[39;00m\n",
      "\u001b[0;31mModuleNotFoundError\u001b[0m: No module named 'pandas'"
     ]
    }
   ],
   "source": [
    "import pandas as pd"
   ]
  },
  {
   "cell_type": "code",
   "execution_count": null,
   "id": "49ae7559-864e-4b5b-8cab-4e145b58ed00",
   "metadata": {},
   "outputs": [],
   "source": [
    "movies = pd.read_csv(path_file, **default_parameters,\n",
    "                     usecols=[0, 1])"
   ]
  },
  {
   "cell_type": "code",
   "execution_count": null,
   "id": "e9ab750b-0073-44e8-a860-40fca289850f",
   "metadata": {},
   "outputs": [
    {
     "ename": "NameError",
     "evalue": "name 'pd' is not defined",
     "output_type": "error",
     "traceback": [
      "\u001b[0;31m---------------------------------------------------------------------------\u001b[0m",
      "\u001b[0;31mNameError\u001b[0m                                 Traceback (most recent call last)",
      "Input \u001b[0;32mIn [29]\u001b[0m, in \u001b[0;36m<cell line: 1>\u001b[0;34m()\u001b[0m\n\u001b[0;32m----> 1\u001b[0m movies \u001b[38;5;241m=\u001b[39m \u001b[43mpd\u001b[49m\u001b[38;5;241m.\u001b[39mread_csv(path_file, \u001b[38;5;241m*\u001b[39m\u001b[38;5;241m*\u001b[39mdefault_parameters, names\u001b[38;5;241m=\u001b[39m(\u001b[38;5;124m'\u001b[39m\u001b[38;5;124mmovie\u001b[39m\u001b[38;5;124m'\u001b[39m, \u001b[38;5;124m'\u001b[39m\u001b[38;5;124mtitle\u001b[39m\u001b[38;5;124m'\u001b[39m))\n",
      "\u001b[0;31mNameError\u001b[0m: name 'pd' is not defined"
     ]
    }
   ],
   "source": [
    "movies = pd.read_csv(path_file, **default_parameters, names=('movie', 'title'))"
   ]
  },
  {
   "cell_type": "markdown",
   "id": "e04b5e15-4330-433b-ae1d-9b9e1521e915",
   "metadata": {},
   "source": [
    "### Python"
   ]
  },
  {
   "cell_type": "code",
   "execution_count": null,
   "id": "028178a7-becc-47bf-aba4-175f95dbe3d7",
   "metadata": {},
   "outputs": [],
   "source": [
    "from typing import Optional"
   ]
  },
  {
   "cell_type": "code",
   "execution_count": null,
   "id": "5343d885-f9d4-4783-96f6-1da655a6d3fe",
   "metadata": {},
   "outputs": [],
   "source": [
    "def is_valid(value: Optional[bool] = False) -> bool:\n",
    "    return value"
   ]
  },
  {
   "cell_type": "code",
   "execution_count": null,
   "id": "aba6ba18-2e3d-49fd-8714-20ef47a9e55a",
   "metadata": {},
   "outputs": [],
   "source": [
    "from typing import Sequence"
   ]
  },
  {
   "cell_type": "code",
   "execution_count": null,
   "id": "7eed7511-1271-4310-84f0-ae031642b8c2",
   "metadata": {},
   "outputs": [],
   "source": [
    "def foo(collections: Sequence[str]) -> None:\n",
    "    pass"
   ]
  },
  {
   "cell_type": "code",
   "execution_count": null,
   "id": "39bbd0e4-0978-4a1f-9524-22f55d6bf057",
   "metadata": {},
   "outputs": [],
   "source": [
    "objs = []"
   ]
  },
  {
   "cell_type": "code",
   "execution_count": null,
   "id": "54d0d83c-9042-4caf-aa36-d3c49d5c124c",
   "metadata": {},
   "outputs": [
    {
     "ename": "NameError",
     "evalue": "name 'objs' is not defined",
     "output_type": "error",
     "traceback": [
      "\u001b[0;31m---------------------------------------------------------------------------\u001b[0m",
      "\u001b[0;31mNameError\u001b[0m                                 Traceback (most recent call last)",
      "Input \u001b[0;32mIn [30]\u001b[0m, in \u001b[0;36m<cell line: 1>\u001b[0;34m()\u001b[0m\n\u001b[0;32m----> 1\u001b[0m \u001b[38;5;28;01mfor\u001b[39;00m obj \u001b[38;5;129;01min\u001b[39;00m \u001b[43mobjs\u001b[49m:\n\u001b[1;32m      2\u001b[0m     \u001b[38;5;28;01mfor\u001b[39;00m k, v \u001b[38;5;129;01min\u001b[39;00m \u001b[38;5;28mzip\u001b[39m(attribs, value):\n\u001b[1;32m      3\u001b[0m         \u001b[38;5;28msetattr\u001b[39m(obj, k, v)\n",
      "\u001b[0;31mNameError\u001b[0m: name 'objs' is not defined"
     ]
    }
   ],
   "source": [
    "for obj in objs:\n",
    "    for k, v in zip(attribs, value):\n",
    "        setattr(obj, k, v)"
   ]
  },
  {
   "cell_type": "code",
   "execution_count": null,
   "id": "50220eef-0961-4de9-96b8-bd30cb34f355",
   "metadata": {},
   "outputs": [],
   "source": [
    "class Classroom:\n",
    "    def __init__(self):\n",
    "        self._students = {}\n",
    "    \n",
    "    def __setattr__(self, k, v):\n",
    "        if not k.startswith('_'): self._students[k] = v\n",
    "        super().__setattr__(k, v)"
   ]
  },
  {
   "cell_type": "code",
   "execution_count": null,
   "id": "581f3dc7-bb56-48d9-9144-0411e8eeefe3",
   "metadata": {},
   "outputs": [],
   "source": [
    "c = Classroom()"
   ]
  },
  {
   "cell_type": "code",
   "execution_count": null,
   "id": "550428f1-9765-4279-9a36-6351ac6f0005",
   "metadata": {},
   "outputs": [],
   "source": [
    "c.s1 = 's1'"
   ]
  },
  {
   "cell_type": "code",
   "execution_count": null,
   "id": "a315bf4e-433d-4317-b898-b3f5d386f305",
   "metadata": {},
   "outputs": [],
   "source": [
    "c.s2 = 's2'"
   ]
  },
  {
   "cell_type": "code",
   "execution_count": null,
   "id": "1a754bf8-8550-436d-8dea-5c088d19284b",
   "metadata": {},
   "outputs": [
    {
     "data": {
      "text/plain": [
       "{'s1': 's1', 's2': 's2'}"
      ]
     },
     "execution_count": null,
     "metadata": {},
     "output_type": "execute_result"
    }
   ],
   "source": [
    "c._students"
   ]
  },
  {
   "cell_type": "markdown",
   "id": "a62a7d69-da33-4b57-a1c0-9140a0673eb1",
   "metadata": {},
   "source": [
    "### Design Patterns"
   ]
  },
  {
   "cell_type": "markdown",
   "id": "55ad8356-4a9d-40cf-baa4-857f6886cc2d",
   "metadata": {},
   "source": [
    "##### Template Method"
   ]
  },
  {
   "cell_type": "code",
   "execution_count": null,
   "id": "6efb6ae1-c3f9-4f18-a640-978949ee42b1",
   "metadata": {},
   "outputs": [],
   "source": [
    "from abc import ABC, abstractmethod"
   ]
  },
  {
   "cell_type": "code",
   "execution_count": null,
   "id": "5fe0ccc0-cd01-41f4-b8b0-ceb68145c5f6",
   "metadata": {},
   "outputs": [],
   "source": [
    "class Report(ABC):\n",
    "    @abstractmethod\n",
    "    def report_body(self):\n",
    "        pass\n",
    "\n",
    "    def report(self):\n",
    "        print(f'company: {self.company}')\n",
    "        self.report_body()"
   ]
  },
  {
   "cell_type": "code",
   "execution_count": null,
   "id": "707f067d-d6e3-4aad-aa32-295fae067609",
   "metadata": {},
   "outputs": [],
   "source": [
    "class SaleReport(Report):\n",
    "    def __init__(self, company, sales):\n",
    "        self.company = company\n",
    "        self.sales = sale\n",
    "    \n",
    "    def report_body(self):\n",
    "        pass"
   ]
  },
  {
   "cell_type": "markdown",
   "id": "37ed5409-36ce-4cdd-9561-17569f1424be",
   "metadata": {},
   "source": [
    "##### Singleton"
   ]
  },
  {
   "cell_type": "code",
   "execution_count": null,
   "id": "ea501af9-db7a-4a44-8292-7b8666f01e41",
   "metadata": {},
   "outputs": [],
   "source": [
    "class Database:\n",
    "    _instance = None\n",
    "    \n",
    "    def __new__(cls):\n",
    "        if not cls._instance:\n",
    "            cls._instance = super().__new__(cls)\n",
    "        \n",
    "        return cls._instance"
   ]
  },
  {
   "cell_type": "code",
   "execution_count": null,
   "id": "8b71c5d9-98e1-479e-a6a1-19b3e2676448",
   "metadata": {},
   "outputs": [],
   "source": [
    "db1 = Database()"
   ]
  },
  {
   "cell_type": "code",
   "execution_count": null,
   "id": "ca773a83-bc78-47e8-95a1-d1ecca4ebef2",
   "metadata": {},
   "outputs": [],
   "source": [
    "db2 = Database()"
   ]
  },
  {
   "cell_type": "code",
   "execution_count": null,
   "id": "7d119e72-c350-43bc-9742-9b080234de66",
   "metadata": {},
   "outputs": [
    {
     "data": {
      "text/plain": [
       "True"
      ]
     },
     "execution_count": null,
     "metadata": {},
     "output_type": "execute_result"
    }
   ],
   "source": [
    "id(db1) == id(db2)"
   ]
  },
  {
   "cell_type": "markdown",
   "id": "e32dd482-f632-4558-8dcc-67edac94e981",
   "metadata": {},
   "source": [
    "### SymPy"
   ]
  },
  {
   "cell_type": "code",
   "execution_count": null,
   "id": "451ff9e2-e67c-4074-a216-40b03e538246",
   "metadata": {},
   "outputs": [],
   "source": [
    "smp.Sum(y, (n, 0, 1))"
   ]
  }
 ],
 "metadata": {
  "kernelspec": {
   "display_name": "Python 3 (ipykernel)",
   "language": "python",
   "name": "python3"
  }
 },
 "nbformat": 4,
 "nbformat_minor": 5
}
