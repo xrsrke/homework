{
 "cells": [
  {
   "cell_type": "markdown",
   "id": "c5fe6dc5-34d1-4354-8f35-773b7fc8095f",
   "metadata": {},
   "source": [
    "### Deep Learning"
   ]
  },
  {
   "cell_type": "code",
   "execution_count": null,
   "id": "d86f16dc-c4e3-44b4-b0f1-3abf206af96b",
   "metadata": {},
   "outputs": [],
   "source": [
    "import torch"
   ]
  },
  {
   "cell_type": "code",
   "execution_count": null,
   "id": "711cb870-f5ef-47f1-aef7-75b08b4de77a",
   "metadata": {},
   "outputs": [],
   "source": [
    "def log_softmax(x):\n",
    "    softmax = x.exp() / (x.exp().sum())\n",
    "    return softmax.log()"
   ]
  },
  {
   "cell_type": "code",
   "execution_count": null,
   "id": "e625466e-5d64-4883-9ac7-4b1b4e279bdd",
   "metadata": {},
   "outputs": [],
   "source": [
    "x = torch.arange(6).float()"
   ]
  },
  {
   "cell_type": "code",
   "execution_count": null,
   "id": "75880986-d211-48b0-a9e4-dc8eabea65cd",
   "metadata": {},
   "outputs": [
    {
     "data": {
      "text/plain": [
       "tensor([0., 1., 2., 3., 4., 5.])"
      ]
     },
     "execution_count": null,
     "metadata": {},
     "output_type": "execute_result"
    }
   ],
   "source": [
    "x"
   ]
  },
  {
   "cell_type": "code",
   "execution_count": null,
   "id": "4420f6b6-1001-47a3-a464-8c3e9e9e46b9",
   "metadata": {},
   "outputs": [
    {
     "data": {
      "text/plain": [
       "tensor([-5.4562, -4.4562, -3.4562, -2.4562, -1.4562, -0.4562])"
      ]
     },
     "execution_count": null,
     "metadata": {},
     "output_type": "execute_result"
    }
   ],
   "source": [
    "log_softmax(x)"
   ]
  },
  {
   "cell_type": "code",
   "execution_count": null,
   "id": "460653fd-78f5-4c5a-8179-7db60d118743",
   "metadata": {},
   "outputs": [],
   "source": [
    "def lin(x, w, b):\n",
    "    return x @ w + b"
   ]
  },
  {
   "cell_type": "code",
   "execution_count": null,
   "id": "65ca6523-2509-4023-bf80-ad2bb1c80fb2",
   "metadata": {},
   "outputs": [],
   "source": [
    "def mse(pred, targ):\n",
    "    return (pred-targ).pow(2).mean()"
   ]
  },
  {
   "cell_type": "code",
   "execution_count": null,
   "id": "e08647fb-6ec5-459e-8847-4b694520961a",
   "metadata": {},
   "outputs": [],
   "source": [
    "x[None, :]"
   ]
  },
  {
   "cell_type": "code",
   "execution_count": null,
   "id": "62af5162-18c1-4e98-a968-027b69bfe11e",
   "metadata": {},
   "outputs": [],
   "source": [
    "import torch.nn.init as init"
   ]
  },
  {
   "cell_type": "code",
   "execution_count": null,
   "id": "03f61f6b-a61a-4d23-a31c-2bdb8bbffeaf",
   "metadata": {},
   "outputs": [],
   "source": [
    "import torch.nn as nn"
   ]
  },
  {
   "cell_type": "code",
   "execution_count": null,
   "id": "ff25e920-c953-45a3-b203-6735a1ab78bc",
   "metadata": {},
   "outputs": [],
   "source": [
    "l1 = nn.Conv2d(1, 32, 5)"
   ]
  },
  {
   "cell_type": "code",
   "execution_count": null,
   "id": "e590215b-f247-45d3-963f-7f35bdb6c0eb",
   "metadata": {},
   "outputs": [
    {
     "data": {
      "text/plain": [
       "torch.Size([32, 1, 5, 5])"
      ]
     },
     "execution_count": null,
     "metadata": {},
     "output_type": "execute_result"
    }
   ],
   "source": [
    "l1.weight.shape"
   ]
  },
  {
   "cell_type": "code",
   "execution_count": null,
   "id": "bc4bf8bb-b5c7-4387-9efb-79ebaeb3d46d",
   "metadata": {},
   "outputs": [],
   "source": [
    "init.kaiming_normal_(l1.weight, a=1); pass"
   ]
  },
  {
   "cell_type": "code",
   "execution_count": null,
   "id": "c8e5a8dd-fc2c-4187-9370-3969df7b21be",
   "metadata": {},
   "outputs": [],
   "source": [
    "class Model(nn.Module):\n",
    "    def __init__(self, n_in, nh, n_out):\n",
    "        super().__init__()\n",
    "        self.layers = [\n",
    "            nn.Linear(n_on, nh),\n",
    "            nn.ReLU(),\n",
    "            nn.Linear(nh, n_out)\n",
    "        ]\n",
    "    \n",
    "    def __call__(self, x):\n",
    "        for l in self.layers:\n",
    "            x = l(x)\n",
    "        \n",
    "        return x"
   ]
  },
  {
   "cell_type": "code",
   "execution_count": null,
   "id": "03598e4c-60a5-4661-9b56-342dd55f96d1",
   "metadata": {},
   "outputs": [],
   "source": [
    "y_train[:3]"
   ]
  },
  {
   "cell_type": "code",
   "execution_count": null,
   "id": "c5fe9002-ab8a-401b-b347-4d1ec8ba2698",
   "metadata": {},
   "outputs": [],
   "source": [
    "target_preds = sm_pred[[0, 1, 2], []]"
   ]
  },
  {
   "cell_type": "code",
   "execution_count": null,
   "id": "6ced161e-8be1-4ff0-8b0f-e77f8753f0a8",
   "metadata": {},
   "outputs": [],
   "source": [
    "def cross_entropy_loss(pred, y_train):\n",
    "    return nll(log_softmax(pred), y_train)"
   ]
  },
  {
   "cell_type": "code",
   "execution_count": null,
   "id": "a4b88062-15a3-4931-840a-228c83ea6c81",
   "metadata": {},
   "outputs": [],
   "source": [
    "def nll(pred, target):\n",
    "    return -pred[range(target.shape[0]), y_train].mean()"
   ]
  },
  {
   "cell_type": "code",
   "execution_count": null,
   "id": "162ae435-5bd0-4619-ae3c-3c1cf164a543",
   "metadata": {},
   "outputs": [],
   "source": [
    "tensor = torch.randn()"
   ]
  },
  {
   "cell_type": "code",
   "execution_count": null,
   "id": "5615db03-9d12-4ef8-9277-1f71fda9c6d1",
   "metadata": {},
   "outputs": [],
   "source": [
    "def mean_absolute_error(pred, targ):\n",
    "    return abs(pred-targ).mean()"
   ]
  },
  {
   "cell_type": "code",
   "execution_count": null,
   "id": "ac99a279-e203-47bf-ac42-b9d81f9ac883",
   "metadata": {},
   "outputs": [],
   "source": [
    "def mean_absolute_error(pred, targ):\n",
    "    error = 0\n",
    "    \n",
    "    for i in range(len(targ)):\n",
    "        error += abs(pred[i] - targ[i])\n",
    "    \n",
    "    return error / len(targ)"
   ]
  },
  {
   "cell_type": "code",
   "execution_count": null,
   "id": "cb4f97c0-19f0-40f1-9439-433ece53e99e",
   "metadata": {},
   "outputs": [],
   "source": [
    "y_predicted = [-2, -1, 0, 1, 2]"
   ]
  },
  {
   "cell_type": "code",
   "execution_count": null,
   "id": "2db4faa5-f56a-4ca9-8a76-3c4c361c93e1",
   "metadata": {},
   "outputs": [],
   "source": [
    "y = [5, 5, 5, 5, 5]"
   ]
  },
  {
   "cell_type": "code",
   "execution_count": null,
   "id": "5511dcdc-56a3-4873-aece-574b9bfa446e",
   "metadata": {},
   "outputs": [
    {
     "data": {
      "text/plain": [
       "5.0"
      ]
     },
     "execution_count": null,
     "metadata": {},
     "output_type": "execute_result"
    }
   ],
   "source": [
    "mean_absolute_error(y_predicted, y)"
   ]
  },
  {
   "cell_type": "code",
   "execution_count": null,
   "id": "2feda55a-fadc-4aff-97d2-75091c4de559",
   "metadata": {},
   "outputs": [],
   "source": [
    "def mse(pred, targ):\n",
    "    return np.pow((pred - targ), 2).mean()"
   ]
  },
  {
   "cell_type": "code",
   "execution_count": null,
   "id": "3767af27-b26c-473d-b0e3-51c821791f2b",
   "metadata": {},
   "outputs": [],
   "source": [
    "def mean_squared_error(pred, targ):\n",
    "    error = 0.\n",
    "    \n",
    "    for i in range(len(targ)):\n",
    "        error += (targ[i] - pred[i])**2\n",
    "    \n",
    "    return error / len(targ)"
   ]
  },
  {
   "cell_type": "code",
   "execution_count": null,
   "id": "084dc958-743d-4296-892e-a45caa9d307b",
   "metadata": {},
   "outputs": [],
   "source": [
    "softmax = torch.nn.softmax"
   ]
  },
  {
   "cell_type": "code",
   "execution_count": null,
   "id": "0102c318-76e2-48c6-9993-d74cb25f8d38",
   "metadata": {},
   "outputs": [],
   "source": [
    "import numpy as np"
   ]
  },
  {
   "cell_type": "code",
   "execution_count": null,
   "id": "3dd4996c-61cd-478b-9fb1-008380618a3e",
   "metadata": {},
   "outputs": [],
   "source": [
    "y = np.array([1, 0, 0])"
   ]
  },
  {
   "cell_type": "markdown",
   "id": "55c46b80-675b-4e02-930f-3060e3ea39ff",
   "metadata": {},
   "source": [
    "`y` is the target label encoded in one-hot encoding"
   ]
  },
  {
   "cell_type": "code",
   "execution_count": null,
   "id": "7fba403c-3dd0-4143-a792-489bd24a2f35",
   "metadata": {},
   "outputs": [],
   "source": [
    "def negative_log_likelihood(pred, targ):\n",
    "    loss = -np.sum(pred * targ)\n",
    "    \n",
    "    return loss / pred.shape[0]"
   ]
  },
  {
   "cell_type": "code",
   "execution_count": null,
   "id": "dbf0f183-8253-43b3-84cc-7e4390340958",
   "metadata": {},
   "outputs": [],
   "source": [
    "class DotProduct(nn.Module):\n",
    "    def forward(self, x):\n",
    "        user = self.user_factors(x[:, 0])\n",
    "        movie = self.movie_factors(x[:, 1])\n",
    "        return (user * movie).sum()"
   ]
  },
  {
   "cell_type": "code",
   "execution_count": null,
   "id": "ed379358-8159-48eb-ae0c-88957b5d5b88",
   "metadata": {},
   "outputs": [],
   "source": [
    "idx = torch.where(dsets.train[0][1] == 1.)[0]"
   ]
  },
  {
   "cell_type": "code",
   "execution_count": null,
   "id": "a7b382b5-7e67-4f86-9310-50ccf810b02a",
   "metadata": {},
   "outputs": [],
   "source": [
    "label = vocab[idx]"
   ]
  },
  {
   "cell_type": "code",
   "execution_count": null,
   "id": "a3828913-ac13-4d14-9328-22f17749717c",
   "metadata": {},
   "outputs": [],
   "source": [
    "dblock = DataBlock(blocks=[ImageBloc, MultiCategoryBlock],\n",
    "                   get_x=get_x,\n",
    "                   get_y=get_y)"
   ]
  },
  {
   "cell_type": "code",
   "execution_count": null,
   "id": "a2a6f9c4-d46d-44d4-a17f-d3342d24a617",
   "metadata": {},
   "outputs": [],
   "source": [
    "dsets = dblock.datases"
   ]
  },
  {
   "cell_type": "code",
   "execution_count": null,
   "id": "909a6848-235e-4fd5-a2a0-70465edeb285",
   "metadata": {},
   "outputs": [],
   "source": [
    "import torch.nn.functional as F"
   ]
  },
  {
   "cell_type": "code",
   "execution_count": null,
   "id": "0ae1a0cf-bfe0-4c94-ba3c-0aa223a62729",
   "metadata": {},
   "outputs": [],
   "source": [
    "class LMModel1(nn.Module):\n",
    "    def __init__(self, vocab_sz, n_hidden):\n",
    "        super().__init__()\n",
    "        self.i_h = nn.Embedding(vocab_sz, n_hidden)\n",
    "        self.h_h = nn.Linear(n_hidden, n_hidden)\n",
    "        self.h_o = nn.Linear(n_hidden, vocab_sz)\n",
    "    \n",
    "    def __call__(self, x):\n",
    "        self.h = F.relu(self.i_h(x[:, 0]))\n",
    "        self.h = F.relu(self.h_h(self.h)) + F.relu(self.i_h(x[:, 1]))\n",
    "        self.h = F.relu(self.h_h(self.h)) + F.relu(self.i_h(x[:, 2]))\n",
    "        \n",
    "        return self.h_o(self.h)"
   ]
  },
  {
   "cell_type": "code",
   "execution_count": null,
   "id": "48b28b92-3b15-4749-90de-4b285ca34abd",
   "metadata": {},
   "outputs": [],
   "source": [
    "import torch"
   ]
  },
  {
   "cell_type": "code",
   "execution_count": null,
   "id": "35be9311-36ed-4f1b-a1c1-f9eb295e23c6",
   "metadata": {},
   "outputs": [],
   "source": [
    "RANDOM_TENSOR = torch.rand(3, 224, 224)"
   ]
  },
  {
   "cell_type": "code",
   "execution_count": null,
   "id": "3d13385f-b05c-4636-b020-ef1dd663c3b6",
   "metadata": {},
   "outputs": [],
   "source": [
    "class LMModel1(nn.Module):\n",
    "    def __init__(self, vocab_sz, n_hidden):\n",
    "        super().__init__()\n",
    "        self.i_h = nn.Embedding(vocab_sz, n_hidden)\n",
    "        self.h_h = nn.Linear(n_hidden, n_hidden)\n",
    "        self.h_o = nn.Linear(n_hidden, vocab_sz)\n",
    "    \n",
    "    def forward(self, x):\n",
    "        h = F.relu(self.i_h(x[:, 0]))\n",
    "        h = F.relu(self.h_h(h)) + F.relu(self.i_h(x[:, 1]))\n",
    "        h = F.relu(self.h_h(h)) + F.relu(self.i_h(x[:, 2]))\n",
    "        \n",
    "        return self.h_o(h)"
   ]
  },
  {
   "cell_type": "code",
   "execution_count": null,
   "id": "792ce9f4-7d9a-419b-aa69-4ae11544d9fb",
   "metadata": {},
   "outputs": [],
   "source": [
    "def split_dataset(x, percent):\n",
    "    cut = int(len(x) * percent)\n",
    "    return x[:cut], x[cut:]"
   ]
  },
  {
   "cell_type": "code",
   "execution_count": null,
   "id": "dfe6d09a-11fb-483b-9de5-e9f6e210b49f",
   "metadata": {},
   "outputs": [],
   "source": [
    "def numericalize(x):\n",
    "    return [idxs[word] for word in tokens]"
   ]
  },
  {
   "cell_type": "code",
   "execution_count": null,
   "id": "5cfeff16-442d-43ca-b21d-2b62380182f8",
   "metadata": {},
   "outputs": [],
   "source": [
    "text = ' . '.join(l.strip() for l in lines)"
   ]
  },
  {
   "cell_type": "code",
   "execution_count": null,
   "id": "957ad0f0-67da-48be-9ce8-04a69613693b",
   "metadata": {},
   "outputs": [],
   "source": [
    "idx = torch.where(dsets.train[0][1] == 1.)[0]"
   ]
  },
  {
   "cell_type": "code",
   "execution_count": null,
   "id": "e89fb0e6-2ff5-4771-97db-93d5d479b072",
   "metadata": {},
   "outputs": [],
   "source": [
    "label = vocab[idx]"
   ]
  },
  {
   "cell_type": "markdown",
   "id": "56ada12e-2fa3-46d6-979a-33b44e97b553",
   "metadata": {},
   "source": [
    "### SQL"
   ]
  },
  {
   "cell_type": "code",
   "execution_count": null,
   "id": "29acfa45-d70a-49df-9fcf-732d850f13f1",
   "metadata": {},
   "outputs": [],
   "source": []
  },
  {
   "cell_type": "markdown",
   "id": "a0b111ce-d428-4c84-8db8-0345333ab413",
   "metadata": {},
   "source": [
    "### Python"
   ]
  },
  {
   "cell_type": "code",
   "execution_count": null,
   "id": "3dc17ae3-edf0-4d7a-afb0-3e85902fb102",
   "metadata": {},
   "outputs": [],
   "source": [
    "class TestGetCompanies(TestCase):\n",
    "    def test_list_companies_should_return_one(self):\n",
    "        self.assertIn(list_companies, companies)"
   ]
  },
  {
   "cell_type": "code",
   "execution_count": null,
   "id": "509e4148-ea8d-4868-aae9-638954149368",
   "metadata": {},
   "outputs": [],
   "source": [
    "from enum import Enum"
   ]
  },
  {
   "cell_type": "code",
   "execution_count": null,
   "id": "f3857faa-5dde-4c08-bc0a-9755a1c5b101",
   "metadata": {},
   "outputs": [],
   "source": [
    "class Vehciles(Enum):\n",
    "    FALCON_1"
   ]
  },
  {
   "cell_type": "code",
   "execution_count": null,
   "id": "dd70ddc6-9189-47ae-aa73-85e49071f0a9",
   "metadata": {},
   "outputs": [],
   "source": [
    "class SARCov2(Coronavirus):\n",
    "    def __init__(self, variant):\n",
    "        super._init__(\n",
    "        self.variant = variant"
   ]
  },
  {
   "cell_type": "code",
   "execution_count": null,
   "id": "bc54d1fd-0574-4d06-9ab5-3d1aac578a29",
   "metadata": {},
   "outputs": [],
   "source": [
    "class FunnyDict(dict):\n",
    "    def __getitem__(self, k):\n",
    "        if k not in self:\n",
    "            return 'Not found'\n",
    "        super().__getitem__(k)"
   ]
  },
  {
   "cell_type": "code",
   "execution_count": null,
   "id": "c31f5c12-61a8-4750-9fcd-4c81ed2a8e4c",
   "metadata": {},
   "outputs": [],
   "source": [
    "class DoubleMutant(SARCov2):\n",
    "    @SARCov2.variant.setter\n",
    "    def variant(self, value):\n",
    "        if value == 'cosmi':\n",
    "            self._variant = value"
   ]
  },
  {
   "cell_type": "code",
   "execution_count": null,
   "id": "12119267-53ea-4f6c-aa4b-5be327db7d61",
   "metadata": {},
   "outputs": [],
   "source": [
    "class Vehicle:\n",
    "    def __init__(self):\n",
    "        self._color = None\n",
    "    \n",
    "    @property\n",
    "    def color(self):\n",
    "        return self._color\n",
    "\n",
    "    @color.setter\n",
    "    def color(self, v):\n",
    "        self._color = v"
   ]
  },
  {
   "cell_type": "code",
   "execution_count": null,
   "id": "5641cca4-0c0f-4809-92b2-905dd28c5f19",
   "metadata": {},
   "outputs": [],
   "source": [
    "my_metaclass = type('my_metaclass')"
   ]
  },
  {
   "cell_type": "code",
   "execution_count": null,
   "id": "d619c5b9-22a4-4e57-9684-763171f33ad9",
   "metadata": {},
   "outputs": [],
   "source": [
    "class TextField:\n",
    "    def __init__(self):\n",
    "        self.value = None\n",
    "    \n",
    "    def __get__(self, instance, owner):\n",
    "        return self.value\n",
    "    \n",
    "    def __set__(self, instance, value):\n",
    "        # logic....\n",
    "        self.value = value"
   ]
  },
  {
   "cell_type": "code",
   "execution_count": null,
   "id": "dce6b6a6-92ff-46a0-b44d-f6f1ddb785de",
   "metadata": {},
   "outputs": [],
   "source": [
    "txts = r''"
   ]
  },
  {
   "cell_type": "code",
   "execution_count": null,
   "id": "9cbd1a4a-f5bf-4330-b4f7-6d3611505bdc",
   "metadata": {},
   "outputs": [],
   "source": [
    "import re"
   ]
  },
  {
   "cell_type": "code",
   "execution_count": null,
   "id": "82178a05-d680-42c6-9ca6-76bdca694994",
   "metadata": {},
   "outputs": [],
   "source": [
    "pattern = re.compile(r'abc')"
   ]
  },
  {
   "cell_type": "code",
   "execution_count": null,
   "id": "27da7cb9-4027-45c1-97a3-c90c59528436",
   "metadata": {},
   "outputs": [],
   "source": [
    "matches = pattern.finditer(string)"
   ]
  },
  {
   "cell_type": "code",
   "execution_count": null,
   "id": "9702c942-60e0-48f3-8704-981e51e4caea",
   "metadata": {},
   "outputs": [],
   "source": [
    "pattern = re.compile(r'raynext\\.com')"
   ]
  },
  {
   "cell_type": "code",
   "execution_count": null,
   "id": "66843638-f07a-4372-b0af-f504f2d0ffb5",
   "metadata": {},
   "outputs": [],
   "source": [
    "except (ZeroDivisionError, ValueError) as e:\n",
    "    pass"
   ]
  },
  {
   "cell_type": "code",
   "execution_count": null,
   "id": "1f9e61a6-b5e1-4afb-91a9-a84520539923",
   "metadata": {},
   "outputs": [],
   "source": [
    "x: set[str, ...]"
   ]
  },
  {
   "cell_type": "code",
   "execution_count": null,
   "id": "9a8237f8-48ee-483b-bbb4-1c4212497220",
   "metadata": {},
   "outputs": [],
   "source": [
    "x[4, :]"
   ]
  },
  {
   "cell_type": "markdown",
   "id": "61bdd485-08dc-46b1-8e5b-7cdbc2088ec7",
   "metadata": {},
   "source": [
    "### Pytest"
   ]
  },
  {
   "cell_type": "code",
   "execution_count": null,
   "id": "82fd2148-ab7e-47e2-9ee4-45bab8de1f61",
   "metadata": {},
   "outputs": [],
   "source": [
    "import pytest"
   ]
  },
  {
   "cell_type": "code",
   "execution_count": null,
   "id": "2fc1b968-00b9-4120-bb6b-e51fcf48c840",
   "metadata": {},
   "outputs": [],
   "source": [
    "@pytest.mark.fixture\n",
    "def book():\n",
    "    return Book('Zoo Adventure')"
   ]
  },
  {
   "cell_type": "code",
   "execution_count": null,
   "id": "c77b4fd4-adba-4b1e-b66d-d2b325a77a09",
   "metadata": {},
   "outputs": [],
   "source": [
    "def test_book(book):\n",
    "    assert book.name == 'Z'"
   ]
  },
  {
   "cell_type": "markdown",
   "id": "4bc24496-465d-4f7b-ad72-e7bb36349165",
   "metadata": {},
   "source": [
    "### Pytest"
   ]
  },
  {
   "cell_type": "code",
   "execution_count": null,
   "id": "8b1e42ae-76b6-4942-9554-a8863bdbf726",
   "metadata": {},
   "outputs": [],
   "source": [
    "import sympy as smp"
   ]
  },
  {
   "cell_type": "code",
   "execution_count": null,
   "id": "ecb0a683-9359-4483-8715-734bd3957846",
   "metadata": {},
   "outputs": [],
   "source": [
    "x = smp.symbols('x')"
   ]
  },
  {
   "cell_type": "code",
   "execution_count": null,
   "id": "3aff77b8-4eb5-499c-8e0a-4d17caa61661",
   "metadata": {},
   "outputs": [],
   "source": [
    "f, g = smp.symbols('f, g', cls=smp.Function)"
   ]
  },
  {
   "cell_type": "code",
   "execution_count": null,
   "id": "b5a5bb51-40aa-4d58-a1d0-c739b25a5ce8",
   "metadata": {},
   "outputs": [],
   "source": [
    "g = g(x)"
   ]
  },
  {
   "cell_type": "code",
   "execution_count": null,
   "id": "2b5c33af-7b9d-454e-aaf2-adbfa8e48faa",
   "metadata": {},
   "outputs": [],
   "source": [
    "f = f(x + g)"
   ]
  },
  {
   "cell_type": "code",
   "execution_count": null,
   "id": "add61198-303c-4fd9-87bc-d4883480dca1",
   "metadata": {},
   "outputs": [
    {
     "data": {
      "text/latex": [
       "$\\displaystyle f{\\left(x + g{\\left(x \\right)} \\right)}$"
      ],
      "text/plain": [
       "f(x + g(x))"
      ]
     },
     "execution_count": null,
     "metadata": {},
     "output_type": "execute_result"
    }
   ],
   "source": [
    "f"
   ]
  },
  {
   "cell_type": "markdown",
   "id": "a7ea033a-78f6-4fee-896d-36aa598bf8ab",
   "metadata": {},
   "source": [
    "### fastcore"
   ]
  },
  {
   "cell_type": "code",
   "execution_count": null,
   "id": "f4d241f6-c4a7-492c-9b70-3ad910150132",
   "metadata": {},
   "outputs": [],
   "source": [
    "L(users).attrgot('id')"
   ]
  },
  {
   "cell_type": "code",
   "execution_count": null,
   "id": "0d2f857f-9cd5-4378-97c0-56133163cca3",
   "metadata": {},
   "outputs": [],
   "source": [
    "from fastcore.meta import *"
   ]
  },
  {
   "cell_type": "code",
   "execution_count": null,
   "id": "2888f337-b79b-440c-a1d4-5b3c0e019c72",
   "metadata": {},
   "outputs": [],
   "source": [
    "class Mechanics(metaclass=PrePostInitMeta):\n",
    "    def __init__(self):\n",
    "        pass\n",
    "    \n",
    "    def __pre_init__(self):\n",
    "        print('enter preinit')\n",
    "    \n",
    "    def __post_init__(self):\n",
    "        print('enter post')"
   ]
  },
  {
   "cell_type": "code",
   "execution_count": null,
   "id": "c464ca42-e3e8-48c7-840f-6232e45dbb36",
   "metadata": {},
   "outputs": [
    {
     "name": "stdout",
     "output_type": "stream",
     "text": [
      "enter preinit\n",
      "enter post\n"
     ]
    }
   ],
   "source": [
    "mechanics = Mechanics() "
   ]
  },
  {
   "cell_type": "code",
   "execution_count": null,
   "id": "8a1cc624-2a6d-498d-b4ef-cd6fc1c4d1d0",
   "metadata": {},
   "outputs": [],
   "source": [
    "import re"
   ]
  },
  {
   "cell_type": "code",
   "execution_count": null,
   "id": "7f549121-b056-436e-b659-8729c6ddbcf5",
   "metadata": {},
   "outputs": [],
   "source": [
    "pattern = re.compile(r'abc')"
   ]
  },
  {
   "cell_type": "code",
   "execution_count": null,
   "id": "10d09636-5604-4be5-b8b1-e9b9028e67ac",
   "metadata": {},
   "outputs": [],
   "source": [
    "matches = pattern.finditer()"
   ]
  },
  {
   "cell_type": "code",
   "execution_count": null,
   "id": "52b23aab-97a6-4d89-860a-6ac4a3633455",
   "metadata": {},
   "outputs": [],
   "source": [
    "@use_kwargs_dict(y=1, z=None)"
   ]
  },
  {
   "cell_type": "markdown",
   "id": "aa1ac9af-86ef-407b-aab9-4c1d4b4d2313",
   "metadata": {},
   "source": [
    "### Design Pattern "
   ]
  },
  {
   "cell_type": "markdown",
   "id": "c6e47c98-142f-44a3-8128-4c2d0dbc37ef",
   "metadata": {},
   "source": [
    "##### Chain of Responsibility"
   ]
  },
  {
   "cell_type": "code",
   "execution_count": null,
   "id": "1270ae63-c1c7-4f25-abd5-76dcbf782a61",
   "metadata": {},
   "outputs": [],
   "source": [
    "class Handler:\n",
    "    def __init__(self):\n",
    "        self.next_handler = None\n",
    "\n",
    "    def set_next(self, handler):\n",
    "        if not self.next_handler:\n",
    "            self.next_handler = handler\n",
    "        else:\n",
    "            self.next_handler.set_next(handler)\n",
    "    \n",
    "    def handler(self):\n",
    "        if not self.next_handler: return\n",
    "        self.next_handler.handle()"
   ]
  },
  {
   "cell_type": "markdown",
   "id": "50a57a47-58bd-4fc9-b8be-c46da69f2467",
   "metadata": {},
   "source": [
    "##### Strategy Pattern"
   ]
  },
  {
   "cell_type": "code",
   "execution_count": null,
   "id": "09004cc2-3fe2-40ea-ae94-41aad6adb43f",
   "metadata": {},
   "outputs": [],
   "source": [
    "from abc import ABC, abstractmethod"
   ]
  },
  {
   "cell_type": "code",
   "execution_count": null,
   "id": "c25fc262-e144-429b-acb0-09c7c7225599",
   "metadata": {},
   "outputs": [],
   "source": [
    "class CategoryStrategy(ABC):\n",
    "    @abstractmethod\n",
    "    def do_process(self): pass"
   ]
  },
  {
   "cell_type": "code",
   "execution_count": null,
   "id": "21128910-df4d-46c6-94ad-9c5d8946db56",
   "metadata": {},
   "outputs": [],
   "source": [
    "class CategoryOne(CategoryStrategy):\n",
    "    def do_process(self): pass"
   ]
  },
  {
   "cell_type": "code",
   "execution_count": null,
   "id": "b6fded9d-d4af-44d7-8bfa-8794d45ca21f",
   "metadata": {},
   "outputs": [],
   "source": [
    "class CategoryTwo(CategoryStrategy):\n",
    "    def do_process(self): pass"
   ]
  },
  {
   "cell_type": "code",
   "execution_count": null,
   "id": "561d2060-a6f9-4f28-b604-6382e5cb6dd1",
   "metadata": {},
   "outputs": [],
   "source": [
    "class Ticket:\n",
    "    def process_ticket(self, category: CategoryStrategy):\n",
    "        return category.do_process()"
   ]
  },
  {
   "cell_type": "markdown",
   "id": "d1ec87ba-dc09-41cb-b79e-7f67aeb30c64",
   "metadata": {},
   "source": [
    "##### I Principle"
   ]
  },
  {
   "cell_type": "code",
   "execution_count": null,
   "id": "70d522c0-fd1b-454d-8939-96eb4730c45e",
   "metadata": {},
   "outputs": [],
   "source": [
    "from abc import ABC, abstractmethod"
   ]
  },
  {
   "cell_type": "code",
   "execution_count": null,
   "id": "91278818-9fbe-421b-8632-e90281c9762a",
   "metadata": {},
   "outputs": [],
   "source": [
    "class Machine(ABC): pass"
   ]
  },
  {
   "cell_type": "code",
   "execution_count": null,
   "id": "9add1eb2-5ba5-4ffa-bd33-6c94a6e59cf1",
   "metadata": {},
   "outputs": [],
   "source": [
    "class PrintMachine(Machine):\n",
    "    pass"
   ]
  },
  {
   "cell_type": "code",
   "execution_count": null,
   "id": "7eabb793-d5d1-4b6a-b13f-145bf848b3f5",
   "metadata": {},
   "outputs": [],
   "source": [
    "class ScanMachine(Machine):\n",
    "    pass"
   ]
  },
  {
   "cell_type": "code",
   "execution_count": null,
   "id": "0558a573-829a-4ce4-bb39-06e249ed3af9",
   "metadata": {},
   "outputs": [],
   "source": [
    "class OldFashionPrinter(PrintMachine):\n",
    "    pass"
   ]
  },
  {
   "cell_type": "markdown",
   "id": "682d1cf5-c194-4af9-80aa-3639ec4df36b",
   "metadata": {},
   "source": [
    "### bash"
   ]
  },
  {
   "cell_type": "code",
   "execution_count": null,
   "id": "d9cb1580-a7a6-45cb-8ecc-cb4dc2d9338d",
   "metadata": {},
   "outputs": [],
   "source": [
    "if [[X == Y]]; then\n",
    "    # code\n",
    "elif [[X == Z]]; then\n",
    "    # code\n",
    "else\n",
    "    # code\n",
    "fi"
   ]
  },
  {
   "cell_type": "code",
   "execution_count": null,
   "id": "c80a4067-3967-4cbe-a31a-086c8dd9e0a4",
   "metadata": {},
   "outputs": [],
   "source": [
    "for arg in \"$@\"; do\n",
    "    echo arg\n",
    "done"
   ]
  },
  {
   "cell_type": "code",
   "execution_count": null,
   "id": "e6417360-efc3-4ee0-9c2d-f284a484e5ef",
   "metadata": {},
   "outputs": [],
   "source": [
    "F && K"
   ]
  },
  {
   "cell_type": "code",
   "execution_count": null,
   "id": "5cf8767f-c5e9-473c-9e6c-353dc4978a24",
   "metadata": {},
   "outputs": [],
   "source": [
    "echo \"the value is $foo\""
   ]
  },
  {
   "cell_type": "code",
   "execution_count": null,
   "id": "88eaa0b3-719f-4f0b-a15d-747117e645bf",
   "metadata": {},
   "outputs": [],
   "source": [
    "open output.txt"
   ]
  },
  {
   "cell_type": "code",
   "execution_count": null,
   "id": "36348d66-d72f-4f79-97e6-fcb173ad43a4",
   "metadata": {},
   "outputs": [],
   "source": [
    "if [[X == Y]]; then\n",
    "    # code\n",
    "elif [[X == Z]]; then\n",
    "    # code\n",
    "else\n",
    "    # code\n",
    "fi"
   ]
  },
  {
   "cell_type": "markdown",
   "id": "e2130afe-18f1-4b58-9203-b589f2281219",
   "metadata": {},
   "source": [
    "### SQL"
   ]
  },
  {
   "cell_type": "markdown",
   "id": "49404387-2af0-4c98-a470-1816c3d32b42",
   "metadata": {},
   "source": [
    "SELECT * FROM inference WHERE accuracy BETWEEN 90 AND 95"
   ]
  },
  {
   "cell_type": "code",
   "execution_count": null,
   "id": "dfd85208-4512-41dc-bcac-c68bcac2dd81",
   "metadata": {},
   "outputs": [],
   "source": [
    "SELECT * FROM training WHERE n_epochs IN ()"
   ]
  },
  {
   "cell_type": "code",
   "execution_count": null,
   "id": "f37eb939-3ea1-46c7-abf8-76ae9815574e",
   "metadata": {},
   "outputs": [],
   "source": [
    "SELECT CAST(n_epochs AS text) FROM training"
   ]
  },
  {
   "cell_type": "code",
   "execution_count": null,
   "id": "d9a059ca-61d4-46a2-b95d-cd4752ec22f7",
   "metadata": {},
   "outputs": [],
   "source": [
    "SELECT * FROM dataset WHERE prompt ILIKE 'h%'"
   ]
  },
  {
   "cell_type": "markdown",
   "id": "ebfd0137-7327-4be5-9a1a-006537798a1e",
   "metadata": {},
   "source": [
    "SELECT * FROM users WHERE gender IS NULL"
   ]
  },
  {
   "cell_type": "code",
   "execution_count": null,
   "id": "1dca0872-26e5-4c18-b1d6-a7582b08235e",
   "metadata": {},
   "outputs": [],
   "source": [
    "SELECT nnn(n_epochs, 10) as n_epochs FROM training"
   ]
  }
 ],
 "metadata": {
  "kernelspec": {
   "display_name": "Python 3 (ipykernel)",
   "language": "python",
   "name": "python3"
  }
 },
 "nbformat": 4,
 "nbformat_minor": 5
}
