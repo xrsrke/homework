{
 "cells": [
  {
   "cell_type": "markdown",
   "id": "e31c7dd0-e3e3-487d-9fc3-9793cb20e23e",
   "metadata": {},
   "source": [
    "### Deep Learning"
   ]
  },
  {
   "cell_type": "code",
   "execution_count": null,
   "id": "31d9720b-1ef9-40a4-a8ff-1489d4dc9644",
   "metadata": {},
   "outputs": [],
   "source": [
    "dblock = DataBlock(blocks=[ImageBlock, CategoryBlock])"
   ]
  },
  {
   "cell_type": "code",
   "execution_count": null,
   "id": "967df85a-36fa-4c7f-8243-8a8cd9354e0f",
   "metadata": {},
   "outputs": [],
   "source": [
    "dsets = dblock.datasets(df)"
   ]
  },
  {
   "cell_type": "code",
   "execution_count": null,
   "id": "1d438f47-33f7-4262-918b-df075362305d",
   "metadata": {},
   "outputs": [],
   "source": [
    "dblock = DataBlock(get_x = lambda r: r['fname'],\n",
    "                   get_y = lambda r: r['labels'])"
   ]
  },
  {
   "cell_type": "code",
   "execution_count": null,
   "id": "b0158554-a55e-4bfb-9560-ca6e2f11674d",
   "metadata": {},
   "outputs": [],
   "source": [
    "idx = torch.where(dsets.train[0][1], 1.)"
   ]
  },
  {
   "cell_type": "code",
   "execution_count": null,
   "id": "83caddcc-723b-41eb-9764-d5dcbe3f20de",
   "metadata": {},
   "outputs": [],
   "source": [
    "dblock = DataBlock(blocks=[ImageBlock, MultiCategoryBlock],\n",
    "                   get_x = get_x,\n",
    "                   get_y = get_y)"
   ]
  },
  {
   "cell_type": "code",
   "execution_count": null,
   "id": "ee61cace-947d-44bf-9703-07f4fa5ddf8e",
   "metadata": {},
   "outputs": [],
   "source": [
    "dsets = dblock.datasets(df)"
   ]
  },
  {
   "cell_type": "markdown",
   "id": "f2fe2d2b-20b4-49e1-9d74-7468a9d6cfaf",
   "metadata": {},
   "source": [
    "### Python"
   ]
  },
  {
   "cell_type": "code",
   "execution_count": null,
   "id": "d6bca1c8-179e-435f-b758-af1972290852",
   "metadata": {},
   "outputs": [],
   "source": [
    "class Zoo:\n",
    "    def __contains__(self, item):\n",
    "        return item in"
   ]
  },
  {
   "cell_type": "code",
   "execution_count": null,
   "id": "abde5e71-5e78-4806-a24a-47e690cafc84",
   "metadata": {},
   "outputs": [],
   "source": [
    "from typing import Sequence"
   ]
  },
  {
   "cell_type": "code",
   "execution_count": null,
   "id": "0f5c6f93-717f-49dd-90d9-2f3f203185bb",
   "metadata": {},
   "outputs": [],
   "source": [
    "foo: Sequence[str]"
   ]
  },
  {
   "cell_type": "code",
   "execution_count": null,
   "id": "cd7b0caa-99af-4741-a627-f6f9385a4335",
   "metadata": {},
   "outputs": [],
   "source": [
    "class my_metaclass(metaclass=type): pass"
   ]
  },
  {
   "cell_type": "code",
   "execution_count": null,
   "id": "10444460-708c-4de3-abb1-c755f65f914d",
   "metadata": {},
   "outputs": [
    {
     "data": {
      "text/plain": [
       "type"
      ]
     },
     "execution_count": null,
     "metadata": {},
     "output_type": "execute_result"
    }
   ],
   "source": [
    "type(my_metaclass)"
   ]
  },
  {
   "cell_type": "code",
   "execution_count": null,
   "id": "da9231b2-ceea-419f-9ecb-91e6c03136f4",
   "metadata": {},
   "outputs": [
    {
     "ename": "TypeError",
     "evalue": "my_metaclass() takes no arguments",
     "output_type": "error",
     "traceback": [
      "\u001b[0;31m---------------------------------------------------------------------------\u001b[0m",
      "\u001b[0;31mTypeError\u001b[0m                                 Traceback (most recent call last)",
      "Input \u001b[0;32mIn [6]\u001b[0m, in \u001b[0;36m<cell line: 1>\u001b[0;34m()\u001b[0m\n\u001b[0;32m----> 1\u001b[0m \u001b[38;5;28;01mclass\u001b[39;00m \u001b[38;5;21;01mX\u001b[39;00m(metaclass\u001b[38;5;241m=\u001b[39mmy_metaclass): \u001b[38;5;28;01mpass\u001b[39;00m\n",
      "\u001b[0;31mTypeError\u001b[0m: my_metaclass() takes no arguments"
     ]
    }
   ],
   "source": [
    "class X(metaclass=my_metaclass): pass"
   ]
  },
  {
   "cell_type": "code",
   "execution_count": null,
   "id": "5692f662-c926-424e-bb0f-29d1a38cb563",
   "metadata": {},
   "outputs": [],
   "source": [
    "MetaStudent = type('MetaStudent', (), {\"major\": \"chem\"})"
   ]
  },
  {
   "cell_type": "code",
   "execution_count": null,
   "id": "6288b701-7202-4e1e-a917-3195a5014cf0",
   "metadata": {},
   "outputs": [
    {
     "data": {
      "text/plain": [
       "'chem'"
      ]
     },
     "execution_count": null,
     "metadata": {},
     "output_type": "execute_result"
    }
   ],
   "source": [
    "MetaStudent.major"
   ]
  },
  {
   "cell_type": "code",
   "execution_count": null,
   "id": "b5aae58b-32fd-4423-9769-25e3032cb3ad",
   "metadata": {},
   "outputs": [],
   "source": [
    "from enum import Enum"
   ]
  },
  {
   "cell_type": "code",
   "execution_count": null,
   "id": "03026bec-911f-4e6d-8571-07d2c0e751f1",
   "metadata": {},
   "outputs": [],
   "source": [
    "class Vehicles:\n",
    "    FALCON_1 = 'Falcon 1'"
   ]
  },
  {
   "cell_type": "code",
   "execution_count": null,
   "id": "ccf78462-ef86-42a1-9b95-170838eac75f",
   "metadata": {},
   "outputs": [],
   "source": [
    "numbers = [0, 1, 2, 3, 4, 5, 6]"
   ]
  },
  {
   "cell_type": "code",
   "execution_count": null,
   "id": "9f6b3581-a04b-4db0-b2e7-d883472b3197",
   "metadata": {},
   "outputs": [
    {
     "data": {
      "text/plain": [
       "[1, 3, 5]"
      ]
     },
     "execution_count": null,
     "metadata": {},
     "output_type": "execute_result"
    }
   ],
   "source": [
    "numbers[slice(1, 6, 2)]"
   ]
  },
  {
   "cell_type": "code",
   "execution_count": null,
   "id": "b7cbbbcd-6091-403c-85d1-f45d05211435",
   "metadata": {},
   "outputs": [],
   "source": [
    "x: list[list[int]]"
   ]
  },
  {
   "cell_type": "code",
   "execution_count": null,
   "id": "c6e95d4f-edbd-40b4-8d68-514cb77c2414",
   "metadata": {},
   "outputs": [],
   "source": [
    "from typing import Optional"
   ]
  },
  {
   "cell_type": "code",
   "execution_count": null,
   "id": "8ddc8970-df2c-4e12-9ccd-3dabf2118036",
   "metadata": {},
   "outputs": [],
   "source": [
    "def is_valid(value: Optional[bool] = False) -> bool:\n",
    "    return value"
   ]
  },
  {
   "cell_type": "code",
   "execution_count": null,
   "id": "af7ef008-0163-4e00-aa15-fd9de8a5adbf",
   "metadata": {},
   "outputs": [],
   "source": [
    "from fastcore.all import *"
   ]
  },
  {
   "cell_type": "code",
   "execution_count": null,
   "id": "88cd09f9-15da-4d81-9365-0f6da2703a54",
   "metadata": {},
   "outputs": [],
   "source": [
    "class Learner:\n",
    "    pass"
   ]
  },
  {
   "cell_type": "code",
   "execution_count": null,
   "id": "bf0ec089-b73c-4f7b-8b02-871b6ba3365e",
   "metadata": {},
   "outputs": [],
   "source": [
    "@patch\n",
    "def num_items(self: Learner): print(\"hello\")"
   ]
  },
  {
   "cell_type": "code",
   "execution_count": null,
   "id": "a9f363e5-9e69-43e2-882a-968a2b5142d3",
   "metadata": {},
   "outputs": [
    {
     "name": "stdout",
     "output_type": "stream",
     "text": [
      "hello\n"
     ]
    }
   ],
   "source": [
    "Learner().num_items()"
   ]
  },
  {
   "cell_type": "code",
   "execution_count": null,
   "id": "30abda34-ba41-4819-875f-f53cb1401b40",
   "metadata": {},
   "outputs": [],
   "source": [
    "from fastcore.dispatch import *"
   ]
  },
  {
   "cell_type": "code",
   "execution_count": null,
   "id": "cfa96757-cf54-487a-b514-17e3b9e3c34f",
   "metadata": {},
   "outputs": [],
   "source": [
    "@typedispatch\n",
    "def f(a: str, b: str): print('str')"
   ]
  },
  {
   "cell_type": "code",
   "execution_count": null,
   "id": "142ad303-4153-4a37-a7ec-6c95dba140c9",
   "metadata": {},
   "outputs": [],
   "source": [
    "@typedispatch\n",
    "def f(a: int, b: int): print('int')"
   ]
  },
  {
   "cell_type": "code",
   "execution_count": null,
   "id": "9126b1aa-f561-4f07-aa2e-ae623a430a4d",
   "metadata": {},
   "outputs": [
    {
     "name": "stdout",
     "output_type": "stream",
     "text": [
      "int\n"
     ]
    }
   ],
   "source": [
    "f(1, 1)"
   ]
  },
  {
   "cell_type": "code",
   "execution_count": null,
   "id": "009d4e53-e18b-4d27-8b35-27c234b5c9dc",
   "metadata": {},
   "outputs": [
    {
     "name": "stdout",
     "output_type": "stream",
     "text": [
      "str\n"
     ]
    }
   ],
   "source": [
    "f('a', 'b')"
   ]
  },
  {
   "cell_type": "code",
   "execution_count": null,
   "id": "04d025c4-2ce4-4d1e-9231-58d8e568786a",
   "metadata": {},
   "outputs": [
    {
     "data": {
      "text/plain": [
       "1"
      ]
     },
     "execution_count": null,
     "metadata": {},
     "output_type": "execute_result"
    }
   ],
   "source": [
    "f(1, 'b')"
   ]
  },
  {
   "cell_type": "code",
   "execution_count": null,
   "id": "7f436a41-5b03-4894-8ce4-8a5b76d55a4c",
   "metadata": {},
   "outputs": [],
   "source": [
    "class WebPage:\n",
    "    def __init__(self, title, author=\"Jeremy\"):\n",
    "        self.title = title\n",
    "        self.author = author"
   ]
  },
  {
   "cell_type": "code",
   "execution_count": null,
   "id": "eac2ef86-2878-4cd1-afaa-86cde0facc51",
   "metadata": {},
   "outputs": [],
   "source": [
    "class ProductPage(GetAttr):\n",
    "    def __init__(self, page, price):\n",
    "        self.default = page\n",
    "        self.price = price"
   ]
  },
  {
   "cell_type": "code",
   "execution_count": null,
   "id": "2319c9fe-884f-4b31-bdfb-f5c2076f874d",
   "metadata": {},
   "outputs": [],
   "source": [
    "w = WebPage('x')"
   ]
  },
  {
   "cell_type": "code",
   "execution_count": null,
   "id": "479c0901-af6d-41a7-840f-a98fe5f8a402",
   "metadata": {},
   "outputs": [],
   "source": [
    "p = ProductPage(w, 2)"
   ]
  },
  {
   "cell_type": "code",
   "execution_count": null,
   "id": "16e7c53a-a1b2-427b-b22c-72715699ac52",
   "metadata": {},
   "outputs": [
    {
     "data": {
      "text/plain": [
       "{'default': <__main__.WebPage>, 'price': 2}"
      ]
     },
     "execution_count": null,
     "metadata": {},
     "output_type": "execute_result"
    }
   ],
   "source": [
    "p.__dict__"
   ]
  },
  {
   "cell_type": "code",
   "execution_count": null,
   "id": "2c7f9292-3764-4ad1-8514-e1838e24d41f",
   "metadata": {},
   "outputs": [
    {
     "data": {
      "text/plain": [
       "'x'"
      ]
     },
     "execution_count": null,
     "metadata": {},
     "output_type": "execute_result"
    }
   ],
   "source": [
    "p.title"
   ]
  },
  {
   "cell_type": "code",
   "execution_count": null,
   "id": "9ca9ade2-bd62-44d0-a026-fb6c8530209d",
   "metadata": {},
   "outputs": [],
   "source": [
    "@delegates\n",
    "def foo()"
   ]
  },
  {
   "cell_type": "code",
   "execution_count": null,
   "id": "c50b76b6-cbbd-4393-a303-958ac8d615e6",
   "metadata": {},
   "outputs": [],
   "source": [
    "def is_valid(value: Optional[bool] = False) -> bool:\n",
    "    return value"
   ]
  },
  {
   "cell_type": "code",
   "execution_count": null,
   "id": "da51182e-c902-404f-9b47-ddadbf88af13",
   "metadata": {},
   "outputs": [],
   "source": [
    "x[[0, 2, 3, 3], [2, 3, 1, 4]]"
   ]
  },
  {
   "cell_type": "markdown",
   "id": "dba529b4-99d4-4156-ada3-4303df34f6b0",
   "metadata": {},
   "source": [
    "### Design Patterns"
   ]
  },
  {
   "cell_type": "markdown",
   "id": "64ff923a-0053-49c7-ab9a-af98f94d4abb",
   "metadata": {},
   "source": [
    "##### Singleton"
   ]
  },
  {
   "cell_type": "code",
   "execution_count": null,
   "id": "dad36578-9f2c-48f5-95aa-462ddaa1242d",
   "metadata": {},
   "outputs": [],
   "source": [
    "class Database:\n",
    "    _instance = None\n",
    "    def __new__(cls):\n",
    "        if not cls._instance:\n",
    "            cls._instance = super().__new__(cls)\n",
    "        \n",
    "        return cls._instance"
   ]
  },
  {
   "cell_type": "code",
   "execution_count": null,
   "id": "0f6f0444-05b8-4a5b-8cd6-d4004be6141a",
   "metadata": {},
   "outputs": [],
   "source": [
    "db1 = Database()"
   ]
  },
  {
   "cell_type": "code",
   "execution_count": null,
   "id": "636e5de1-04ea-4f46-a6e4-da019b0fef5b",
   "metadata": {},
   "outputs": [],
   "source": [
    "db2 = Database()"
   ]
  },
  {
   "cell_type": "code",
   "execution_count": null,
   "id": "6585cd92-5788-4265-8754-5ac177c9f126",
   "metadata": {},
   "outputs": [
    {
     "data": {
      "text/plain": [
       "140363046989776"
      ]
     },
     "execution_count": null,
     "metadata": {},
     "output_type": "execute_result"
    }
   ],
   "source": [
    "id(db1)"
   ]
  },
  {
   "cell_type": "code",
   "execution_count": null,
   "id": "3879bffc-176b-4d82-b784-92a00506aaed",
   "metadata": {},
   "outputs": [
    {
     "data": {
      "text/plain": [
       "140363046989776"
      ]
     },
     "execution_count": null,
     "metadata": {},
     "output_type": "execute_result"
    }
   ],
   "source": [
    "id(db2)"
   ]
  },
  {
   "cell_type": "markdown",
   "id": "0d4b280d-76a3-4fc6-bcd5-acc40a7e5baa",
   "metadata": {},
   "source": [
    "##### Chain of Responsibility"
   ]
  },
  {
   "cell_type": "code",
   "execution_count": null,
   "id": "af9593f3-66f0-4192-94c7-030b2a4d4f0c",
   "metadata": {},
   "outputs": [],
   "source": [
    "class Handler:\n",
    "    def __init__(self):\n",
    "        self.next_handler = None\n",
    "\n",
    "    def set_next(self, next_handler):\n",
    "        self.next_handler = None\n",
    "    \n",
    "        return next_handler\n",
    "    \n",
    "    def handle(self):\n",
    "        if not self.next_handler: return\n",
    "        self.next_handler.handle()"
   ]
  },
  {
   "cell_type": "markdown",
   "id": "c307f4d2-3633-4099-9e24-6581542945fe",
   "metadata": {},
   "source": [
    "##### Strategy"
   ]
  },
  {
   "cell_type": "code",
   "execution_count": null,
   "id": "e9ab1b87-0140-4f08-88ef-5cd48025d26b",
   "metadata": {},
   "outputs": [],
   "source": [
    "from abc import ABC, abstractmethod"
   ]
  },
  {
   "cell_type": "code",
   "execution_count": null,
   "id": "835d2a83-8577-4e6a-aa4c-e302804190a3",
   "metadata": {},
   "outputs": [],
   "source": [
    "class CategoryStrategy(ABC):\n",
    "    @abstractmethod\n",
    "    def do_process(self):\n",
    "        pass"
   ]
  },
  {
   "cell_type": "code",
   "execution_count": null,
   "id": "e1a4afc5-1592-45d4-b79c-20e86ea85d35",
   "metadata": {},
   "outputs": [],
   "source": [
    "class CategoryOneStrategy(CategoryStrategy):\n",
    "    def do_process(self):\n",
    "        pass"
   ]
  },
  {
   "cell_type": "code",
   "execution_count": null,
   "id": "36106def-e98a-4fa3-bdf1-333fdd1381ff",
   "metadata": {},
   "outputs": [],
   "source": [
    "class CategoryTwoStrategy(CategoryStrategy):\n",
    "    def do_process(self):\n",
    "        pass"
   ]
  },
  {
   "cell_type": "code",
   "execution_count": null,
   "id": "01cd0f9d-ebaf-4606-89e1-5cd5519aed00",
   "metadata": {},
   "outputs": [],
   "source": [
    "class Ticket:\n",
    "    def process_ticket(self, category: CategoryStrategy):\n",
    "        category.do_process()"
   ]
  },
  {
   "cell_type": "markdown",
   "id": "0b20338e-f68c-465d-aedf-879b95b5231f",
   "metadata": {},
   "source": [
    "##### Momenta"
   ]
  },
  {
   "cell_type": "code",
   "execution_count": null,
   "id": "58175246-ba85-4a9b-9902-668a53e71f4f",
   "metadata": {},
   "outputs": [],
   "source": [
    "class Momenta:\n",
    "    def __init__(self, balance):\n",
    "        self.balance = balance"
   ]
  },
  {
   "cell_type": "code",
   "execution_count": null,
   "id": "1a26bc32-330a-466b-9777-6ab76e509d3b",
   "metadata": {},
   "outputs": [],
   "source": [
    "class BankAccount:\n",
    "    def __init__(self, balance=0):\n",
    "        self.balance = balance\n",
    "    \n",
    "    def deposite(self, balance):\n",
    "        self.balance += balance\n",
    "        return Momenta(balance)\n",
    "    \n",
    "    def restore(self, momenta):\n",
    "        self.balance -= momenta.balance"
   ]
  },
  {
   "cell_type": "markdown",
   "id": "89dee537-4adb-4b67-bfd4-102a1f5db206",
   "metadata": {},
   "source": [
    "##### Composite "
   ]
  },
  {
   "cell_type": "code",
   "execution_count": null,
   "id": "d9a20cd4-2e1a-4435-890c-a067bdf49146",
   "metadata": {},
   "outputs": [],
   "source": [
    "class Component:\n",
    "    pass"
   ]
  },
  {
   "cell_type": "code",
   "execution_count": null,
   "id": "5462cf5d-7738-4375-a17d-504503482d64",
   "metadata": {},
   "outputs": [],
   "source": [
    "class Screen()"
   ]
  },
  {
   "cell_type": "code",
   "execution_count": null,
   "id": "d6da6ca3-b00e-498d-bb3d-0d098708c52a",
   "metadata": {},
   "outputs": [],
   "source": [
    "class Computer:\n",
    "    def __init__(self, components):\n",
    "        self.components = components"
   ]
  },
  {
   "cell_type": "code",
   "execution_count": null,
   "id": "cd3cf998-cfd5-4c5c-9c07-e44e4ff18ddc",
   "metadata": {},
   "outputs": [],
   "source": []
  }
 ],
 "metadata": {
  "kernelspec": {
   "display_name": "Python 3 (ipykernel)",
   "language": "python",
   "name": "python3"
  }
 },
 "nbformat": 4,
 "nbformat_minor": 5
}
