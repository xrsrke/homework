{
 "cells": [
  {
   "cell_type": "markdown",
   "id": "05073e41-b3b5-44c9-9d77-6fe2476d5bc1",
   "metadata": {},
   "source": [
    "### Deep Learning "
   ]
  },
  {
   "cell_type": "code",
   "execution_count": null,
   "id": "def99bed-2d64-4dc4-9733-f2272e97d428",
   "metadata": {},
   "outputs": [],
   "source": [
    "import torch"
   ]
  },
  {
   "cell_type": "code",
   "execution_count": null,
   "id": "c2a4c78c-39c9-48e7-933e-f257c95d99ec",
   "metadata": {},
   "outputs": [],
   "source": [
    "torch.manual_seed(seed=420)\n",
    "random_a = torch.randn(4, 4)"
   ]
  },
  {
   "cell_type": "code",
   "execution_count": null,
   "id": "711930fa-b877-493a-8e0f-66afee5fd592",
   "metadata": {},
   "outputs": [],
   "source": [
    "torch.manual_seed(seed=420)\n",
    "random_b = torch.randn(4, 4)"
   ]
  },
  {
   "cell_type": "code",
   "execution_count": null,
   "id": "643049dc-94a7-4e5e-9d3d-9afa27d3a524",
   "metadata": {},
   "outputs": [
    {
     "data": {
      "text/plain": [
       "tensor([[True, True, True, True],\n",
       "        [True, True, True, True],\n",
       "        [True, True, True, True],\n",
       "        [True, True, True, True]])"
      ]
     },
     "execution_count": null,
     "metadata": {},
     "output_type": "execute_result"
    }
   ],
   "source": [
    "random_a == random_b"
   ]
  },
  {
   "cell_type": "code",
   "execution_count": null,
   "id": "a8e0a54d-be0d-4d28-8dd1-eadeaa1bd658",
   "metadata": {},
   "outputs": [
    {
     "data": {
      "text/plain": [
       "False"
      ]
     },
     "execution_count": null,
     "metadata": {},
     "output_type": "execute_result"
    }
   ],
   "source": [
    "torch.cuda.is_available()"
   ]
  },
  {
   "cell_type": "code",
   "execution_count": null,
   "id": "46d2390b-5977-4ec1-ae22-9eab83a06a31",
   "metadata": {},
   "outputs": [],
   "source": [
    "def compute_keys(vs, ks):\n",
    "    v = torch.stack([*vs])\n",
    "    k = torch.stack([*ks], dim=1)\n",
    "    \n",
    "    return v @ k"
   ]
  },
  {
   "cell_type": "code",
   "execution_count": null,
   "id": "ced39c9d-428d-4e3c-a2f5-eb551ec98ead",
   "metadata": {},
   "outputs": [],
   "source": [
    "def cumulative_product(x):\n",
    "    return torch.cumprod(x)"
   ]
  },
  {
   "cell_type": "code",
   "execution_count": null,
   "id": "4c1bcebf-0d1b-4b3a-8ed7-3a0ea71ae578",
   "metadata": {},
   "outputs": [],
   "source": [
    "import torch.nn as nn"
   ]
  },
  {
   "cell_type": "code",
   "execution_count": null,
   "id": "a40ec278-f4dd-46ce-8b05-84f34b95ab9e",
   "metadata": {},
   "outputs": [],
   "source": [
    "class _Model(nn.Module):\n",
    "    def __init__(self):\n",
    "        self.layers = [\n",
    "            nn.Linear(m, nh),\n",
    "            nn.ReLU(),\n",
    "            nn.Linear(nh, 10)\n",
    "        ]\n",
    "        \n",
    "        for i, l in enumerate(self.layers):\n",
    "            self.add_module(f'this_layer_{i}', l)\n",
    "    \n",
    "    def forward(self, x):\n",
    "        for l in self.layers:\n",
    "            x = l(x)\n",
    "        return x"
   ]
  },
  {
   "cell_type": "code",
   "execution_count": null,
   "id": "77abc326-4aac-41bd-8bfc-2e992ed4d658",
   "metadata": {},
   "outputs": [],
   "source": [
    "def train(x, y, epochs):\n",
    "    for epoch in range(epochs):\n",
    "        pred = model(x)\n",
    "        loss = loss_func(pred, targ)\n",
    "        \n",
    "        loss.backward()\n",
    "        optim.step()\n",
    "        optim.zero_grad()\n",
    "        \n",
    "        print(f'end of epoch {epoch}. loss={loss}')"
   ]
  },
  {
   "cell_type": "code",
   "execution_count": null,
   "id": "5b9ee1d3-c974-4014-9c87-956f7d630642",
   "metadata": {},
   "outputs": [],
   "source": [
    "import torch.optim as optim"
   ]
  },
  {
   "cell_type": "code",
   "execution_count": null,
   "id": "8fe24e99-a896-4fb5-98d0-7f4cf9746b6e",
   "metadata": {},
   "outputs": [],
   "source": [
    "_optim = optim.SGD(_model.parameters(), lr=0.3)"
   ]
  },
  {
   "cell_type": "code",
   "execution_count": null,
   "id": "07bff3bf-5af4-426b-93a6-9d22e94961a0",
   "metadata": {},
   "outputs": [],
   "source": [
    "class Optimizier:\n",
    "    def __init__(self, params, lr):\n",
    "        self.params = params\n",
    "        self.lr = lr\n",
    "    \n",
    "    def step(self):\n",
    "        with torch.no_grad():\n",
    "            for p in self.params:\n",
    "                p -= p.grad * self.lr"
   ]
  },
  {
   "cell_type": "code",
   "execution_count": null,
   "id": "ea099ae7-bad2-4ec1-90a6-8a19e6aca935",
   "metadata": {},
   "outputs": [],
   "source": [
    "_model = nn.Sequential(nn.Linear(785, 50), nn.ReLU(), nn.Linear(50, 10))"
   ]
  },
  {
   "cell_type": "code",
   "execution_count": null,
   "id": "f0be9e91-f022-4b60-b993-05bec6e79a11",
   "metadata": {},
   "outputs": [],
   "source": [
    "def lin(x, w, b):\n",
    "    return x @ w + b"
   ]
  },
  {
   "cell_type": "code",
   "execution_count": null,
   "id": "afba31c2-7670-46e8-92fe-f0b45d9611d0",
   "metadata": {},
   "outputs": [],
   "source": [
    "class DotProduct(nn.Module):\n",
    "    def forward(self, x):\n",
    "        pass"
   ]
  },
  {
   "cell_type": "code",
   "execution_count": null,
   "id": "d64b5e80-ce97-4d18-8146-1141f4c3c30c",
   "metadata": {},
   "outputs": [],
   "source": [
    "seven_tensors = torch.stack([tensor(Image.open(o)) for o in sevens])"
   ]
  },
  {
   "cell_type": "code",
   "execution_count": null,
   "id": "7460ec33-6402-4d6b-856d-7c0dafc583a5",
   "metadata": {},
   "outputs": [],
   "source": [
    "class DotProduct(nn.Module):\n",
    "    def forward(self, x):\n",
    "        users = self.user_factors(x[:, 0])\n",
    "        movies = self.movie_factors(x[:, 1])\n",
    "        \n",
    "        return (users * movies).sum()"
   ]
  },
  {
   "cell_type": "markdown",
   "id": "bb1da7ff-c32f-414c-83db-be68d3e2484f",
   "metadata": {},
   "source": [
    "### SQL"
   ]
  },
  {
   "cell_type": "code",
   "execution_count": null,
   "id": "3add6648-ba73-45d4-a88b-22b3a727921e",
   "metadata": {},
   "outputs": [],
   "source": [
    "SELECT coalesce(n_epochs, 10) as n_epochs FROM training"
   ]
  },
  {
   "cell_type": "markdown",
   "id": "02cc7f0a-c47b-4b97-b49e-c0eeca33ee92",
   "metadata": {},
   "source": [
    "### Design Patterns"
   ]
  },
  {
   "cell_type": "markdown",
   "id": "f5d35a27-b3bd-4846-89af-07c82f28b543",
   "metadata": {},
   "source": [
    "### Shell"
   ]
  },
  {
   "cell_type": "code",
   "execution_count": null,
   "id": "1e7959af-869c-4a8f-aa36-243d783d0eb1",
   "metadata": {},
   "outputs": [],
   "source": [
    "cp HELLO/index.html copy_here"
   ]
  },
  {
   "cell_type": "markdown",
   "id": "85db3d09-17e2-4581-a185-e71be2ab63d3",
   "metadata": {},
   "source": [
    "### Git"
   ]
  },
  {
   "cell_type": "code",
   "execution_count": null,
   "id": "38776bef-532d-4603-bbda-02a4ea754cef",
   "metadata": {},
   "outputs": [],
   "source": [
    "git ls-remote"
   ]
  },
  {
   "cell_type": "code",
   "execution_count": null,
   "id": "e3d39214-a27c-4ae6-8ef3-fe66358d1ed5",
   "metadata": {},
   "outputs": [],
   "source": [
    "git remote add origin URL"
   ]
  },
  {
   "cell_type": "code",
   "execution_count": null,
   "id": "92a24eef-f212-4cf3-8a93-861ff7d9bbbf",
   "metadata": {},
   "outputs": [],
   "source": [
    "git restore --staged "
   ]
  },
  {
   "cell_type": "code",
   "execution_count": null,
   "id": "8a1796b9-f6ea-4451-afdc-e7872325f97f",
   "metadata": {},
   "outputs": [],
   "source": [
    "git rm utility.ppy"
   ]
  },
  {
   "cell_type": "code",
   "execution_count": null,
   "id": "e79b2343-d43d-4db9-b6ba-39462dccaae3",
   "metadata": {},
   "outputs": [],
   "source": [
    "git merge --squash"
   ]
  },
  {
   "cell_type": "markdown",
   "id": "bad9ffe4-8e60-4fd3-a20d-6b6d8d99f074",
   "metadata": {},
   "source": [
    "### Github Actions"
   ]
  },
  {
   "cell_type": "code",
   "execution_count": null,
   "id": "c4610a01-28d5-4e46-a5c0-86c1da59ecb0",
   "metadata": {},
   "outputs": [],
   "source": [
    "name: machine info\n",
    "\n",
    "on: [push]\n",
    "\n",
    "jobs:\n",
    "    check-version:\n",
    "        runs-on: ubuntu-latest\n",
    "        steps:\n",
    "            - name: processor info\n",
    "              shell: python\n",
    "              run: |\n",
    "                import platform\n",
    "                print(platform.processor())"
   ]
  },
  {
   "cell_type": "code",
   "execution_count": null,
   "id": "95d8df27-e939-456b-9971-4e4afc6e786f",
   "metadata": {},
   "outputs": [],
   "source": [
    "name: integration test\n",
    "\n",
    "on: [trigger]\n",
    "\n",
    "jobs:\n",
    "    check-version:\n",
    "        runs-on: ubuntu-latest\n",
    "        steps:\n",
    "            - name: echo a string\n",
    "              run: echo \"hello world\"\n",
    "            - name: check python version\n",
    "              run: python3 --version"
   ]
  },
  {
   "cell_type": "code",
   "execution_count": null,
   "id": "66c57942-5543-4a82-8f43-5c63e38dc118",
   "metadata": {},
   "outputs": [],
   "source": [
    "name: integration test\n",
    "\n",
    "on: [push]\n",
    "\n",
    "jobs:\n",
    "    test-app:\n",
    "        runs-on: ubuntu-latest"
   ]
  },
  {
   "cell_type": "code",
   "execution_count": null,
   "id": "5ad81dee-6292-4cb5-9770-c009b6de0d10",
   "metadata": {},
   "outputs": [],
   "source": [
    "deep learning: |\n",
    "    ab\n",
    "    b"
   ]
  },
  {
   "cell_type": "code",
   "execution_count": null,
   "id": "91d48b52-dabe-4f3f-a8c4-53b7ef3142e9",
   "metadata": {},
   "outputs": [],
   "source": [
    "name: shivon\n",
    "job: engineering\n",
    "company:\n",
    "    name: neuralink"
   ]
  },
  {
   "cell_type": "code",
   "execution_count": null,
   "id": "20e3d1cd-a3e2-43ee-b604-93831a6dbea1",
   "metadata": {},
   "outputs": [],
   "source": [
    "foundation:\n",
    "    - physics\n",
    "    - ai\n",
    "    - matsci\n",
    "    - nano"
   ]
  },
  {
   "cell_type": "code",
   "execution_count": null,
   "id": "61893d0c-70ad-4eed-80a3-f7f20f09bc98",
   "metadata": {},
   "outputs": [],
   "source": [
    "name: actions\n",
    "\n",
    "on: [fork]\n",
    "\n",
    "jobs:\n",
    "    clone:\n",
    "        runs-on: ubuntu-latest\n",
    "        steps:\n",
    "            - name: checkout\n",
    "              uses: actions/checkout@v1"
   ]
  },
  {
   "cell_type": "code",
   "execution_count": null,
   "id": "2f69bb53-d745-428e-9aef-9d83f9acf361",
   "metadata": {},
   "outputs": [],
   "source": [
    "name: hello\n",
    "\n",
    "on: [push]\n",
    "\n",
    "jobs:\n",
    "    hello-world:\n",
    "        runs-on: ubuntu-latest\n",
    "        steps:\n",
    "            - name: echo-hello\n",
    "              id: echo\n",
    "              run: echo \"hello world\""
   ]
  },
  {
   "cell_type": "markdown",
   "id": "1a48a1d1-f5e7-4d88-b4fe-fbbb638cd5ea",
   "metadata": {},
   "source": [
    "### Docker"
   ]
  },
  {
   "cell_type": "code",
   "execution_count": null,
   "id": "db23f23b-af6c-489a-abaf-9a03ad651f65",
   "metadata": {},
   "outputs": [],
   "source": [
    "docker exec -it 12a /bin/bash"
   ]
  },
  {
   "cell_type": "code",
   "execution_count": null,
   "id": "d3f0a91f-7cc5-4d32-9054-ff9ee81402fa",
   "metadata": {},
   "outputs": [],
   "source": [
    "docker start 31b"
   ]
  },
  {
   "cell_type": "code",
   "execution_count": null,
   "id": "c63137ea-1d87-4103-b98e-1eb8dfa25b47",
   "metadata": {},
   "outputs": [],
   "source": [
    "docker rmi redius:22.2b"
   ]
  },
  {
   "cell_type": "code",
   "execution_count": null,
   "id": "8178b804-2965-4df1-905c-834e463f52b1",
   "metadata": {},
   "outputs": [],
   "source": [
    "docker rm 23a"
   ]
  },
  {
   "cell_type": "code",
   "execution_count": null,
   "id": "08a84d4a-e8d3-408a-b438-2ee3e9b3f9e7",
   "metadata": {},
   "outputs": [],
   "source": [
    "docker build -t myapp:0.01"
   ]
  },
  {
   "cell_type": "code",
   "execution_count": null,
   "id": "317a1d8d-deab-447a-9180-c374e1d8bd80",
   "metadata": {},
   "outputs": [],
   "source": [
    "CMD [\"node\", \"server.js\"]"
   ]
  },
  {
   "cell_type": "code",
   "execution_count": null,
   "id": "9e8a57c0-41d9-4de9-b973-ebc47952dbe2",
   "metadata": {},
   "outputs": [],
   "source": [
    "ENV DB_PASS=secret"
   ]
  },
  {
   "cell_type": "code",
   "execution_count": null,
   "id": "1ca7c9f8-396b-439b-b793-40d790380ca8",
   "metadata": {},
   "outputs": [],
   "source": [
    "FROM node"
   ]
  },
  {
   "cell_type": "code",
   "execution_count": null,
   "id": "deafa522-b427-4b69-bfec-fc326ab72b91",
   "metadata": {},
   "outputs": [],
   "source": [
    "COPY ./app /home/app"
   ]
  },
  {
   "cell_type": "code",
   "execution_count": null,
   "id": "385d9123-6e19-41a2-b5c3-f90e9269bdd7",
   "metadata": {},
   "outputs": [],
   "source": [
    "RUN mkdir /home/app"
   ]
  },
  {
   "cell_type": "markdown",
   "id": "d97ecbc2-c55f-40e8-8f32-d1291b67da48",
   "metadata": {},
   "source": [
    "### bash"
   ]
  },
  {
   "cell_type": "code",
   "execution_count": null,
   "id": "7df8d3b7-7274-4f74-bdc9-9f23962c1bee",
   "metadata": {},
   "outputs": [],
   "source": [
    "rm ./learner/loss.py"
   ]
  },
  {
   "cell_type": "code",
   "execution_count": null,
   "id": "0a1f133a-577a-4ef2-84cf-6231b364635d",
   "metadata": {},
   "outputs": [],
   "source": [
    "#!/bin/bash"
   ]
  },
  {
   "cell_type": "markdown",
   "id": "4aaf1a25-f646-457c-87ac-3c287a349e97",
   "metadata": {},
   "source": [
    "### Python"
   ]
  },
  {
   "cell_type": "code",
   "execution_count": null,
   "id": "ddbf7adf-ebe5-48fe-83aa-7fd95719317f",
   "metadata": {},
   "outputs": [],
   "source": [
    "import re"
   ]
  },
  {
   "cell_type": "code",
   "execution_count": null,
   "id": "d828a59d-5a96-44ba-8104-74696438fd67",
   "metadata": {},
   "outputs": [],
   "source": [
    "pattern = re.compile(r'abc')"
   ]
  },
  {
   "cell_type": "code",
   "execution_count": null,
   "id": "55353f00-ca5e-4132-bf6d-2285fa785312",
   "metadata": {},
   "outputs": [],
   "source": [
    "matches = pattern.finditer(string)"
   ]
  },
  {
   "cell_type": "code",
   "execution_count": null,
   "id": "f3f6300c",
   "metadata": {},
   "outputs": [],
   "source": [
    "patterns = re.compile(r'\\d\\d\\d')"
   ]
  },
  {
   "cell_type": "code",
   "execution_count": null,
   "id": "5c065f3f",
   "metadata": {},
   "outputs": [],
   "source": [
    "matches = pattern.finditer(string4)"
   ]
  },
  {
   "cell_type": "code",
   "execution_count": null,
   "id": "0e02035a",
   "metadata": {},
   "outputs": [
    {
     "ename": "FileNotFoundError",
     "evalue": "[Errno 2] No such file or directory: 'test.txt'",
     "output_type": "error",
     "traceback": [
      "\u001b[0;31m---------------------------------------------------------------------------\u001b[0m",
      "\u001b[0;31mFileNotFoundError\u001b[0m                         Traceback (most recent call last)",
      "Input \u001b[0;32mIn [25]\u001b[0m, in \u001b[0;36m<cell line: 1>\u001b[0;34m()\u001b[0m\n\u001b[0;32m----> 1\u001b[0m \u001b[38;5;28;01mwith\u001b[39;00m \u001b[38;5;28;43mopen\u001b[39;49m\u001b[43m(\u001b[49m\u001b[38;5;124;43m'\u001b[39;49m\u001b[38;5;124;43mtest.txt\u001b[39;49m\u001b[38;5;124;43m'\u001b[39;49m\u001b[43m)\u001b[49m \u001b[38;5;28;01mas\u001b[39;00m f:\n\u001b[1;32m      2\u001b[0m     \u001b[38;5;28;01mpass\u001b[39;00m\n",
      "\u001b[0;31mFileNotFoundError\u001b[0m: [Errno 2] No such file or directory: 'test.txt'"
     ]
    }
   ],
   "source": [
    "with open('test.txt') as f:\n",
    "    pass"
   ]
  },
  {
   "cell_type": "code",
   "execution_count": null,
   "id": "6614bc07",
   "metadata": {},
   "outputs": [],
   "source": [
    "import unittest"
   ]
  },
  {
   "cell_type": "code",
   "execution_count": null,
   "id": "7c4ead5e",
   "metadata": {},
   "outputs": [],
   "source": [
    "class TestGetCompanies(unittest.TestCase):\n",
    "    def test_list_companies(self):\n",
    "        companies = Company().list_companies()\n",
    "        self.assertIn(companies, list_companies)"
   ]
  },
  {
   "cell_type": "markdown",
   "id": "e3132c68",
   "metadata": {},
   "source": [
    "### Design Patterns"
   ]
  },
  {
   "cell_type": "code",
   "execution_count": null,
   "id": "611e3a60",
   "metadata": {},
   "outputs": [],
   "source": [
    "class Momenta:\n",
    "    def __init__(self, amount):\n",
    "        self.amount = amount"
   ]
  },
  {
   "cell_type": "code",
   "execution_count": null,
   "id": "3cf78d86",
   "metadata": {},
   "outputs": [
    {
     "ename": "IndentationError",
     "evalue": "expected an indented block (2641083207.py, line 2)",
     "output_type": "error",
     "traceback": [
      "\u001b[0;36m  Input \u001b[0;32mIn [28]\u001b[0;36m\u001b[0m\n\u001b[0;31m    \u001b[0m\n\u001b[0m    ^\u001b[0m\n\u001b[0;31mIndentationError\u001b[0m\u001b[0;31m:\u001b[0m expected an indented block\n"
     ]
    }
   ],
   "source": [
    "class BankAccount:\n",
    "    def __init__(self, balance=0):\n",
    "        self.balance = balance\n",
    "    \n",
    "    def deposite(self, amount):\n",
    "        self.balance += amount\n",
    "        return Momenta(amount)\n",
    "\n",
    "    def restore(self, momenta):\n",
    "        self.balance -= momenta.amount"
   ]
  },
  {
   "cell_type": "markdown",
   "id": "be42cea1",
   "metadata": {},
   "source": [
    "##### State Pattern"
   ]
  },
  {
   "cell_type": "code",
   "execution_count": null,
   "id": "5127ba00",
   "metadata": {},
   "outputs": [],
   "source": [
    "from abc import ABC, abstractmethod"
   ]
  },
  {
   "cell_type": "code",
   "execution_count": null,
   "id": "0dd8004b",
   "metadata": {},
   "outputs": [],
   "source": [
    "class State(ABC):\n",
    "    @abstractmethod\n",
    "    def receive_payment(self): pass\n",
    "    \n",
    "    @abstractmethod\n",
    "    def ship(self): pass"
   ]
  },
  {
   "cell_type": "code",
   "execution_count": null,
   "id": "250513b5",
   "metadata": {},
   "outputs": [],
   "source": [
    "class UnpaidState(State):\n",
    "    def __init__(self, order):\n",
    "        self.order = order\n",
    "    \n",
    "    def receive_payment(self):\n",
    "        self.order.state = self.order.paid_state\n",
    "        print('You payment has been accepted')\n",
    "    \n",
    "    def ship(self):\n",
    "        print(\"Can't ship unpaid orders\")"
   ]
  },
  {
   "cell_type": "code",
   "execution_count": null,
   "id": "a1f7cba7",
   "metadata": {},
   "outputs": [],
   "source": [
    "class Order:\n",
    "    def __init__(self):\n",
    "        self.unpaid_state = UnpaidState(self)\n",
    "        self.paid_state = PaidState(self)\n",
    "        self.shipped_state = ShippedState(self)\n",
    "        \n",
    "        self.state = self.unpaid_state\n",
    "    \n",
    "    def change_state(self, state):\n",
    "        pass\n",
    "    \n",
    "    def receive_payment(self):\n",
    "        self.state.receive_payment()\n",
    "    \n",
    "    def ship(self):\n",
    "        self.state.ship()"
   ]
  },
  {
   "cell_type": "markdown",
   "id": "597cc4f3",
   "metadata": {},
   "source": [
    "##### Prototype Pattern"
   ]
  },
  {
   "cell_type": "markdown",
   "id": "7b8c4a7b",
   "metadata": {},
   "source": [
    "### Pytest"
   ]
  },
  {
   "cell_type": "markdown",
   "id": "09de9120",
   "metadata": {},
   "source": [
    "### bash"
   ]
  },
  {
   "cell_type": "markdown",
   "id": "57db50df",
   "metadata": {},
   "source": [
    "### fastcore"
   ]
  },
  {
   "cell_type": "code",
   "execution_count": null,
   "id": "64d42241",
   "metadata": {},
   "outputs": [],
   "source": [
    "from fastcore.meta import *"
   ]
  },
  {
   "cell_type": "code",
   "execution_count": null,
   "id": "bfb6f7ad",
   "metadata": {},
   "outputs": [],
   "source": [
    "@funcs_kwargs(as_method=True)\n",
    "class DataBlock:\n",
    "    num = 5\n",
    "    _methods = ['loss_func']"
   ]
  },
  {
   "cell_type": "code",
   "execution_count": null,
   "id": "60e4feb5",
   "metadata": {},
   "outputs": [],
   "source": [
    "from fastcore.dispatch import *"
   ]
  },
  {
   "cell_type": "code",
   "execution_count": null,
   "id": "38b44d59",
   "metadata": {},
   "outputs": [],
   "source": [
    "t = TypeDispatch([f2, f3])"
   ]
  },
  {
   "cell_type": "code",
   "execution_count": null,
   "id": "5ef12339",
   "metadata": {},
   "outputs": [],
   "source": [
    "L(users).attrgot('id')"
   ]
  },
  {
   "cell_type": "markdown",
   "id": "8a7585c3",
   "metadata": {},
   "source": [
    "### Python"
   ]
  },
  {
   "cell_type": "code",
   "execution_count": null,
   "id": "166a5359",
   "metadata": {},
   "outputs": [],
   "source": [
    "class Vehicle:\n",
    "    def __init__(self):\n",
    "        self._color = None\n",
    "    \n",
    "    @property\n",
    "    def color(self):\n",
    "        return self._color\n",
    "    \n",
    "    @color.setter\n",
    "    def color(self, color):\n",
    "        self._color = color"
   ]
  },
  {
   "cell_type": "code",
   "execution_count": null,
   "id": "e67ddd0a",
   "metadata": {},
   "outputs": [],
   "source": [
    "from enum import Enum"
   ]
  },
  {
   "cell_type": "code",
   "execution_count": null,
   "id": "9cd48cd0",
   "metadata": {},
   "outputs": [],
   "source": [
    "class Colors(Enum):\n",
    "    RED = 'RED'\n",
    "    ORANGE = 'ORANGE'\n",
    "    BLUE = 'BLUE'\n",
    "    "
   ]
  }
 ],
 "metadata": {
  "kernelspec": {
   "display_name": "Python 3 (ipykernel)",
   "language": "python",
   "name": "python3"
  }
 },
 "nbformat": 4,
 "nbformat_minor": 5
}
