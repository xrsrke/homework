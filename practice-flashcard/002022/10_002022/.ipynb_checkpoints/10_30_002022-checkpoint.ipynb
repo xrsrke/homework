{
 "cells": [
  {
   "cell_type": "markdown",
   "id": "65420ea4-68b1-46f2-9c44-6764deb7a8d1",
   "metadata": {},
   "source": [
    "### Deep Learning"
   ]
  },
  {
   "cell_type": "code",
   "execution_count": null,
   "id": "c9f4d89c-ec25-41a0-a614-ea6132fe6110",
   "metadata": {},
   "outputs": [],
   "source": [
    "import torch"
   ]
  },
  {
   "cell_type": "code",
   "execution_count": null,
   "id": "f04c7e4d-ada0-415c-ac0a-2ba1610f2568",
   "metadata": {},
   "outputs": [],
   "source": [
    "def log_softmax(x):\n",
    "    return x - x.exp().sum().log()"
   ]
  },
  {
   "cell_type": "code",
   "execution_count": null,
   "id": "3bf058a5-7c62-4d7b-9d6a-4ce8a8d4ca94",
   "metadata": {},
   "outputs": [],
   "source": [
    "_x1 = torch.tensor([1., 2., 4., 18.])"
   ]
  },
  {
   "cell_type": "code",
   "execution_count": null,
   "id": "b5854244-58a5-4436-9cd4-553ddd4c90b1",
   "metadata": {},
   "outputs": [
    {
     "data": {
      "text/plain": [
       "tensor([-1.7000e+01, -1.6000e+01, -1.4000e+01, -1.9073e-06])"
      ]
     },
     "execution_count": null,
     "metadata": {},
     "output_type": "execute_result"
    }
   ],
   "source": [
    "log_softmax(_x1)"
   ]
  },
  {
   "cell_type": "code",
   "execution_count": null,
   "id": "9ee1d3f4-16c9-4be2-9b84-4c2cdbc45260",
   "metadata": {},
   "outputs": [],
   "source": [
    "import numpy as np"
   ]
  },
  {
   "cell_type": "code",
   "execution_count": null,
   "id": "ab59c4c2-2921-450e-92cc-8929d076d86b",
   "metadata": {},
   "outputs": [],
   "source": [
    "def mse(pred, targ):\n",
    "    return np.power(2, (pred-targ)).mean()"
   ]
  },
  {
   "cell_type": "code",
   "execution_count": null,
   "id": "44999ff6-fa90-4570-bc73-e3ab7c7ec2f0",
   "metadata": {},
   "outputs": [
    {
     "data": {
      "text/plain": [
       "array([8])"
      ]
     },
     "execution_count": null,
     "metadata": {},
     "output_type": "execute_result"
    }
   ],
   "source": [
    "np.power(2, np.array([3]))"
   ]
  },
  {
   "cell_type": "code",
   "execution_count": null,
   "id": "2983559f-9ea3-4ccb-830b-fb8d393693e5",
   "metadata": {},
   "outputs": [],
   "source": [
    "def mse(pred, targ):\n",
    "    return (pred.squeeze(-1) - targ).pow(2).mean()"
   ]
  },
  {
   "cell_type": "code",
   "execution_count": null,
   "id": "5527ab72-2b40-4710-acc1-e0f5d46743b3",
   "metadata": {},
   "outputs": [
    {
     "ename": "NameError",
     "evalue": "name 'y_train' is not defined",
     "output_type": "error",
     "traceback": [
      "\u001b[0;31m---------------------------------------------------------------------------\u001b[0m",
      "\u001b[0;31mNameError\u001b[0m                                 Traceback (most recent call last)",
      "Input \u001b[0;32mIn [38]\u001b[0m, in \u001b[0;36m<cell line: 1>\u001b[0;34m()\u001b[0m\n\u001b[0;32m----> 1\u001b[0m \u001b[43my_train\u001b[49m[:\u001b[38;5;241m3\u001b[39m]\n",
      "\u001b[0;31mNameError\u001b[0m: name 'y_train' is not defined"
     ]
    }
   ],
   "source": [
    "y_train[:3]"
   ]
  },
  {
   "cell_type": "code",
   "execution_count": null,
   "id": "9ed0f2c0-df7d-4a2f-b4a1-4f1667422a6a",
   "metadata": {},
   "outputs": [
    {
     "ename": "NameError",
     "evalue": "name 'sm_pred' is not defined",
     "output_type": "error",
     "traceback": [
      "\u001b[0;31m---------------------------------------------------------------------------\u001b[0m",
      "\u001b[0;31mNameError\u001b[0m                                 Traceback (most recent call last)",
      "Input \u001b[0;32mIn [39]\u001b[0m, in \u001b[0;36m<cell line: 1>\u001b[0;34m()\u001b[0m\n\u001b[0;32m----> 1\u001b[0m \u001b[43msm_pred\u001b[49m[\u001b[38;5;28mrange\u001b[39m(\u001b[38;5;241m3\u001b[39m), ]\n",
      "\u001b[0;31mNameError\u001b[0m: name 'sm_pred' is not defined"
     ]
    }
   ],
   "source": [
    "sm_pred[range(3), ]"
   ]
  },
  {
   "cell_type": "code",
   "execution_count": null,
   "id": "0dfef27f-6532-4feb-a50c-68318eeaad08",
   "metadata": {},
   "outputs": [
    {
     "ename": "SyntaxError",
     "evalue": "invalid syntax (1643083224.py, line 3)",
     "output_type": "error",
     "traceback": [
      "\u001b[0;36m  Input \u001b[0;32mIn [40]\u001b[0;36m\u001b[0m\n\u001b[0;31m    for p in l.parameters()\u001b[0m\n\u001b[0m                           ^\u001b[0m\n\u001b[0;31mSyntaxError\u001b[0m\u001b[0;31m:\u001b[0m invalid syntax\n"
     ]
    }
   ],
   "source": [
    "def zero_grad(model):\n",
    "    for l in model.layers:\n",
    "        for p in l.parameters()\n",
    "            if hasattr(p, 'weight'):\n",
    "                p.grad.data.zero_()"
   ]
  },
  {
   "cell_type": "code",
   "execution_count": null,
   "id": "f0ba6d2f-df0a-4097-827e-6ff50bdeec4a",
   "metadata": {},
   "outputs": [
    {
     "ename": "NameError",
     "evalue": "name 'layer' is not defined",
     "output_type": "error",
     "traceback": [
      "\u001b[0;31m---------------------------------------------------------------------------\u001b[0m",
      "\u001b[0;31mNameError\u001b[0m                                 Traceback (most recent call last)",
      "Input \u001b[0;32mIn [41]\u001b[0m, in \u001b[0;36m<cell line: 1>\u001b[0;34m()\u001b[0m\n\u001b[0;32m----> 1\u001b[0m \u001b[43mlayer\u001b[49m\u001b[38;5;241m.\u001b[39mweight\u001b[38;5;241m.\u001b[39mgrad\u001b[38;5;241m.\u001b[39mzero_()\n",
      "\u001b[0;31mNameError\u001b[0m: name 'layer' is not defined"
     ]
    }
   ],
   "source": [
    "layer.weight.grad.zero_()"
   ]
  },
  {
   "cell_type": "code",
   "execution_count": null,
   "id": "d5aff083-d04f-4335-b4ee-3bdf4438d7c0",
   "metadata": {},
   "outputs": [],
   "source": [
    "import torch.nn.init as init"
   ]
  },
  {
   "cell_type": "code",
   "execution_count": null,
   "id": "bef29c76-29d8-4d9f-9f4c-89d8e10919fb",
   "metadata": {},
   "outputs": [],
   "source": [
    "import torch.nn as nn"
   ]
  },
  {
   "cell_type": "code",
   "execution_count": null,
   "id": "79e830f0-ad07-4677-8c4f-231224929372",
   "metadata": {},
   "outputs": [],
   "source": [
    "l1 = nn.Conv2d(1, 32, 5)"
   ]
  },
  {
   "cell_type": "code",
   "execution_count": null,
   "id": "26e0881c-471c-4080-a1b6-ca139b55a028",
   "metadata": {},
   "outputs": [],
   "source": [
    "init.kaiming_normal_(l1.weight, a=1); pass"
   ]
  },
  {
   "cell_type": "code",
   "execution_count": null,
   "id": "8bf76d5e-120e-4473-bc8a-3ff97b0d9062",
   "metadata": {},
   "outputs": [],
   "source": [
    "def mae(x):\n",
    "    return abs(x - x.mean()).mean()"
   ]
  },
  {
   "cell_type": "code",
   "execution_count": null,
   "id": "2a45abea-82b4-4b6d-bfd6-54935ecec260",
   "metadata": {},
   "outputs": [],
   "source": [
    "def variance(x):\n",
    "    return (x*x).mean() - x.mean().pow(2)"
   ]
  },
  {
   "cell_type": "code",
   "execution_count": null,
   "id": "0cd4008e-ca8b-4510-bcb3-e9ae65827201",
   "metadata": {},
   "outputs": [],
   "source": [
    "rnn = nn.RNN(input_size=3, hidden_size=64, num_layers=4)"
   ]
  },
  {
   "cell_type": "code",
   "execution_count": null,
   "id": "8f10c25a-1214-47a2-829c-c07e90c5949f",
   "metadata": {},
   "outputs": [],
   "source": [
    "def cumulative_product(x):\n",
    "    return torch.cumprod(x, dim=-1)"
   ]
  },
  {
   "cell_type": "code",
   "execution_count": null,
   "id": "dd2ec922",
   "metadata": {},
   "outputs": [],
   "source": [
    "cumulative_product([])"
   ]
  },
  {
   "cell_type": "code",
   "execution_count": null,
   "id": "67cdb219",
   "metadata": {},
   "outputs": [],
   "source": [
    "de "
   ]
  },
  {
   "cell_type": "code",
   "execution_count": null,
   "id": "7cfacd9d",
   "metadata": {},
   "outputs": [],
   "source": [
    "def std(x):\n",
    "    variance = (x-x.mean()).pow(2).mean()\n",
    "    return variance.sqrt()"
   ]
  },
  {
   "cell_type": "code",
   "execution_count": null,
   "id": "4a96e38f",
   "metadata": {},
   "outputs": [],
   "source": [
    "def variance(x):\n",
    "    return (x-x.mean()).pow(2).mean()"
   ]
  },
  {
   "cell_type": "code",
   "execution_count": null,
   "id": "4c7e508d",
   "metadata": {},
   "outputs": [],
   "source": [
    "def covariance(x, y):\n",
    "    prod = (x-x.mean())*(y-y.mean())\n",
    "    return prod.mean()"
   ]
  },
  {
   "cell_type": "code",
   "execution_count": null,
   "id": "4cf10f81",
   "metadata": {},
   "outputs": [],
   "source": [
    "def correlation(x, y):\n",
    "    return covar(x, y) / (std(x) * std(y))"
   ]
  },
  {
   "cell_type": "code",
   "execution_count": null,
   "id": "d008ad10",
   "metadata": {},
   "outputs": [],
   "source": [
    "def covariance(x, y):\n",
    "    return (x*y).mean() - x.mean() * y.mean()"
   ]
  },
  {
   "cell_type": "code",
   "execution_count": null,
   "id": "2b075eba",
   "metadata": {},
   "outputs": [],
   "source": [
    "def binomial(x):\n",
    "    return x.exp() / (1 + x.exp())"
   ]
  },
  {
   "cell_type": "code",
   "execution_count": null,
   "id": "4f1d85d2",
   "metadata": {},
   "outputs": [],
   "source": [
    "import torch.nn.functional as F"
   ]
  },
  {
   "cell_type": "code",
   "execution_count": null,
   "id": "08207434",
   "metadata": {},
   "outputs": [],
   "source": [
    "class LMModel1(nn.Module):\n",
    "    def __init__(self, vocab_sz, n_hidden):\n",
    "        super().__init__()\n",
    "        self.i_h = nn.Embedding(vocab_sz, n_hidden)\n",
    "        self.h_h = nn.Linear(n_hidden, n_hidden)\n",
    "        self.h_o = nn.Linear(n_hidden, vocab_sz)\n",
    "    \n",
    "    def forward(self, x):\n",
    "        h = F.relu(self.i_h(x[:, 0]))\n",
    "        h = F.relu(self.h_h(h)) + F.relu(self.i_h(x[:, 1]))\n",
    "        h = F.relu(self.h_h(h)) + F.relu(self.i_h(x[:, 2]))\n",
    "        return self.h_o(h)"
   ]
  },
  {
   "cell_type": "code",
   "execution_count": null,
   "id": "3589bb9c",
   "metadata": {},
   "outputs": [],
   "source": [
    "def split_dataset(dataset, percent):\n",
    "    cut = int(len(dataset) * percent)\n",
    "    return dataset[:cut], dataset[cut:]"
   ]
  },
  {
   "cell_type": "code",
   "execution_count": null,
   "id": "c1a80586",
   "metadata": {},
   "outputs": [],
   "source": [
    "def numericalize(x):\n",
    "    return [idxs[w] for w in x]"
   ]
  },
  {
   "cell_type": "code",
   "execution_count": null,
   "id": "db93d767",
   "metadata": {},
   "outputs": [
    {
     "ename": "NameError",
     "evalue": "name 'DataBlock' is not defined",
     "output_type": "error",
     "traceback": [
      "\u001b[0;31m---------------------------------------------------------------------------\u001b[0m",
      "\u001b[0;31mNameError\u001b[0m                                 Traceback (most recent call last)",
      "Input \u001b[0;32mIn [64]\u001b[0m, in \u001b[0;36m<cell line: 1>\u001b[0;34m()\u001b[0m\n\u001b[0;32m----> 1\u001b[0m dblock \u001b[38;5;241m=\u001b[39m \u001b[43mDataBlock\u001b[49m(blocks\u001b[38;5;241m=\u001b[39m[ImageBlock, MultiCategoryBlock],\n\u001b[1;32m      2\u001b[0m                    get_x \u001b[38;5;241m=\u001b[39m get_x,\n\u001b[1;32m      3\u001b[0m                    get_y \u001b[38;5;241m=\u001b[39m get_y)\n",
      "\u001b[0;31mNameError\u001b[0m: name 'DataBlock' is not defined"
     ]
    }
   ],
   "source": [
    "dblock = DataBlock(blocks=[ImageBlock, MultiCategoryBlock],\n",
    "                   get_x = get_x,\n",
    "                   get_y = get_y)"
   ]
  },
  {
   "cell_type": "code",
   "execution_count": null,
   "id": "704fd936",
   "metadata": {},
   "outputs": [],
   "source": [
    "dsets = dblock.datasets(df)"
   ]
  },
  {
   "cell_type": "code",
   "execution_count": null,
   "id": "1a5d5176",
   "metadata": {},
   "outputs": [],
   "source": [
    "def sigmoid_range(x, low, high):\n",
    "    return F.sigmoid(x) * (high - low) + low "
   ]
  },
  {
   "cell_type": "markdown",
   "id": "1939c44b",
   "metadata": {},
   "source": [
    "### Pytest"
   ]
  },
  {
   "cell_type": "code",
   "execution_count": null,
   "id": "e9ecbd84",
   "metadata": {},
   "outputs": [],
   "source": [
    "a, b = 4, 3"
   ]
  },
  {
   "cell_type": "code",
   "execution_count": null,
   "id": "fd56c2c0",
   "metadata": {},
   "outputs": [],
   "source": [
    "import unittest"
   ]
  },
  {
   "cell_type": "code",
   "execution_count": null,
   "id": "bbd910dc",
   "metadata": {},
   "outputs": [],
   "source": [
    "import pytest"
   ]
  },
  {
   "cell_type": "code",
   "execution_count": null,
   "id": "ebc34de7",
   "metadata": {},
   "outputs": [],
   "source": [
    "class TestFeature(unittest.TestCase):\n",
    "    \n",
    "    @pytest.mark.xfail\n",
    "    def test_eq(self):\n",
    "        assert a == b"
   ]
  },
  {
   "cell_type": "code",
   "execution_count": null,
   "id": "d9ac1907",
   "metadata": {},
   "outputs": [],
   "source": [
    "foo = $(pwd)"
   ]
  },
  {
   "cell_type": "markdown",
   "id": "50a90123",
   "metadata": {},
   "source": [
    "### Sympy"
   ]
  },
  {
   "cell_type": "code",
   "execution_count": null,
   "id": "11e83288",
   "metadata": {},
   "outputs": [],
   "source": [
    "import sympy"
   ]
  },
  {
   "cell_type": "code",
   "execution_count": null,
   "id": "2c2b71ae",
   "metadata": {},
   "outputs": [],
   "source": [
    "z.expand()"
   ]
  },
  {
   "cell_type": "markdown",
   "id": "8d16dbb5",
   "metadata": {},
   "source": [
    "### bash"
   ]
  },
  {
   "cell_type": "code",
   "execution_count": null,
   "id": "6a6d9a9c",
   "metadata": {},
   "outputs": [],
   "source": [
    "#!/bin/bash"
   ]
  },
  {
   "cell_type": "code",
   "execution_count": null,
   "id": "fa6bc60e",
   "metadata": {},
   "outputs": [],
   "source": [
    "for arg in \"$@\"; do\n",
    "    echo arg\n",
    "done"
   ]
  },
  {
   "cell_type": "markdown",
   "id": "eae8ff88",
   "metadata": {},
   "source": [
    "### docker"
   ]
  },
  {
   "cell_type": "code",
   "execution_count": null,
   "id": "3391ff17",
   "metadata": {},
   "outputs": [],
   "source": [
    "version: 0.01\n",
    "\n",
    "services:\n",
    "    mongodb:\n",
    "        image: mongo\n",
    "        volumes:\n",
    "            - db_data:/var/lib/mysql/data\n",
    "\n",
    "volumes:\n",
    "    - db_data"
   ]
  },
  {
   "cell_type": "code",
   "execution_count": null,
   "id": "9db562a7",
   "metadata": {},
   "outputs": [],
   "source": [
    "version: 0.01\n",
    "\n",
    "services:\n",
    "    mongodb:\n",
    "        image: mongo"
   ]
  },
  {
   "cell_type": "code",
   "execution_count": null,
   "id": "de49afb7",
   "metadata": {},
   "outputs": [],
   "source": [
    "version: 0.01\n",
    "\n",
    "services:\n",
    "    mongodb:\n",
    "        image: mongo\n",
    "        ports:\n",
    "            - 27017:27017"
   ]
  },
  {
   "cell_type": "code",
   "execution_count": null,
   "id": "145466d2",
   "metadata": {},
   "outputs": [],
   "source": [
    "docker logs monitor_app"
   ]
  },
  {
   "cell_type": "code",
   "execution_count": null,
   "id": "24fa2dd6",
   "metadata": {},
   "outputs": [],
   "source": [
    "CMD [\"node\", \"server.js\"]"
   ]
  },
  {
   "cell_type": "code",
   "execution_count": null,
   "id": "f495140f",
   "metadata": {},
   "outputs": [],
   "source": [
    "RUN mkdir /home/app"
   ]
  },
  {
   "cell_type": "code",
   "execution_count": null,
   "id": "19bb8703",
   "metadata": {},
   "outputs": [],
   "source": [
    "FROM node"
   ]
  },
  {
   "cell_type": "code",
   "execution_count": null,
   "id": "ae79ee1c",
   "metadata": {},
   "outputs": [],
   "source": [
    "CP ./app /home/app"
   ]
  },
  {
   "cell_type": "code",
   "execution_count": null,
   "id": "2f13c345",
   "metadata": {},
   "outputs": [],
   "source": [
    "docker rmi redis:22.2"
   ]
  },
  {
   "cell_type": "code",
   "execution_count": null,
   "id": "9621bf98",
   "metadata": {},
   "outputs": [],
   "source": [
    "docker rm 23a"
   ]
  },
  {
   "cell_type": "code",
   "execution_count": null,
   "id": "45930c8f",
   "metadata": {},
   "outputs": [],
   "source": [
    "docker build -t my"
   ]
  },
  {
   "cell_type": "markdown",
   "id": "4f152c68",
   "metadata": {},
   "source": [
    "### Git"
   ]
  },
  {
   "cell_type": "code",
   "execution_count": null,
   "id": "f0f97e63",
   "metadata": {},
   "outputs": [],
   "source": [
    "git stash push -m "
   ]
  },
  {
   "cell_type": "code",
   "execution_count": null,
   "id": "2a0f7e6d",
   "metadata": {},
   "outputs": [],
   "source": [
    "git restore --staged "
   ]
  },
  {
   "cell_type": "markdown",
   "id": "94059181",
   "metadata": {},
   "source": [
    "### SQL"
   ]
  },
  {
   "cell_type": "code",
   "execution_count": null,
   "id": "f31ba7db",
   "metadata": {},
   "outputs": [],
   "source": [
    "SELECT * FROM predictions GROUP BY status SORT BY accuracy ASC"
   ]
  },
  {
   "cell_type": "code",
   "execution_count": null,
   "id": "a8c71ef1",
   "metadata": {},
   "outputs": [],
   "source": [
    "SELECT * FROM departments GROUP BY dept_no"
   ]
  },
  {
   "cell_type": "code",
   "execution_count": null,
   "id": "bfe2bd0c",
   "metadata": {},
   "outputs": [],
   "source": [
    "SELECT * FROM datasets GROUP BY type HAVING COUNT(id) > 40"
   ]
  },
  {
   "cell_type": "code",
   "execution_count": null,
   "id": "34cd1886",
   "metadata": {},
   "outputs": [],
   "source": [
    "SELECT * FROM training GROUP BY id HAVING COUNT(emp_no)"
   ]
  },
  {
   "cell_type": "code",
   "execution_count": null,
   "id": "34167093",
   "metadata": {},
   "outputs": [],
   "source": [
    "SELECT DISTINCT salary FROM salaries"
   ]
  },
  {
   "cell_type": "code",
   "execution_count": null,
   "id": "0828e4ea",
   "metadata": {},
   "outputs": [],
   "source": [
    "SELECT * FROM training ORDER BY accurate DESC"
   ]
  },
  {
   "cell_type": "markdown",
   "id": "1df451b0",
   "metadata": {},
   "source": [
    "SELECT users.name, likes.like FROM users FULL OUTER JOIN likes ON users.id = likes.user_id"
   ]
  },
  {
   "cell_type": "code",
   "execution_count": null,
   "id": "51813548",
   "metadata": {},
   "outputs": [],
   "source": [
    "SELECT COUNT(id) FROM users"
   ]
  },
  {
   "cell_type": "code",
   "execution_count": null,
   "id": "21a2da7d",
   "metadata": {},
   "outputs": [],
   "source": [
    "SELECT * FROM files WHERE NOT size > 100"
   ]
  },
  {
   "cell_type": "code",
   "execution_count": null,
   "id": "fbe3a838",
   "metadata": {},
   "outputs": [],
   "source": [
    "FROM -> WHERE -> SELECT"
   ]
  },
  {
   "cell_type": "code",
   "execution_count": null,
   "id": "a3169a13",
   "metadata": {},
   "outputs": [],
   "source": [
    "SELECT coalesce(n_epoch, 10) AS n_epoch FROM training"
   ]
  },
  {
   "cell_type": "code",
   "execution_count": null,
   "id": "a7c40ba7",
   "metadata": {},
   "outputs": [],
   "source": [
    "SELECT * FROM inference WHERE accuracy BETWEEN 90 AND 95"
   ]
  },
  {
   "cell_type": "markdown",
   "id": "72745905",
   "metadata": {},
   "source": [
    "### bash"
   ]
  },
  {
   "cell_type": "code",
   "execution_count": null,
   "id": "4ee9385c",
   "metadata": {},
   "outputs": [],
   "source": [
    "foo = $(pwd)"
   ]
  },
  {
   "cell_type": "markdown",
   "id": "48379ca7",
   "metadata": {},
   "source": [
    "### docker"
   ]
  },
  {
   "cell_type": "code",
   "execution_count": null,
   "id": "f52dc024",
   "metadata": {},
   "outputs": [],
   "source": [
    "import pytest"
   ]
  },
  {
   "cell_type": "code",
   "execution_count": null,
   "id": "89a3ba46",
   "metadata": {},
   "outputs": [
    {
     "ename": "SyntaxError",
     "evalue": "invalid syntax (2520315264.py, line 1)",
     "output_type": "error",
     "traceback": [
      "\u001b[0;36m  Input \u001b[0;32mIn [5]\u001b[0;36m\u001b[0m\n\u001b[0;31m    COPY ./app /home/app\u001b[0m\n\u001b[0m          ^\u001b[0m\n\u001b[0;31mSyntaxError\u001b[0m\u001b[0;31m:\u001b[0m invalid syntax\n"
     ]
    }
   ],
   "source": [
    "COPY ./app /home/app"
   ]
  },
  {
   "cell_type": "markdown",
   "id": "c20557e7",
   "metadata": {},
   "source": [
    "### Pytest"
   ]
  },
  {
   "cell_type": "code",
   "execution_count": null,
   "id": "c3306f95",
   "metadata": {},
   "outputs": [
    {
     "ename": "IndentationError",
     "evalue": "expected an indented block (78392976.py, line 1)",
     "output_type": "error",
     "traceback": [
      "\u001b[0;36m  Input \u001b[0;32mIn [6]\u001b[0;36m\u001b[0m\n\u001b[0;31m    with pytest.raises(ValueError):\u001b[0m\n\u001b[0m                                   ^\u001b[0m\n\u001b[0;31mIndentationError\u001b[0m\u001b[0;31m:\u001b[0m expected an indented block\n"
     ]
    }
   ],
   "source": [
    "with pytest.raises(ValueError):"
   ]
  },
  {
   "cell_type": "code",
   "execution_count": null,
   "id": "f32c2c32",
   "metadata": {},
   "outputs": [],
   "source": [
    "@pytest.fixture\n",
    "def book():\n",
    "    return Book(\"\")"
   ]
  },
  {
   "cell_type": "code",
   "execution_count": null,
   "id": "772aeaf6",
   "metadata": {},
   "outputs": [],
   "source": [
    "def test_book(book):\n",
    "    assert ..."
   ]
  },
  {
   "cell_type": "code",
   "execution_count": null,
   "id": "7e16695c",
   "metadata": {},
   "outputs": [],
   "source": [
    "docker build -t my_app:0.01 ./home"
   ]
  },
  {
   "cell_type": "markdown",
   "id": "43138d21",
   "metadata": {},
   "source": [
    "### Python"
   ]
  },
  {
   "cell_type": "code",
   "execution_count": null,
   "id": "c93b7aaa",
   "metadata": {},
   "outputs": [],
   "source": [
    "import logging"
   ]
  },
  {
   "cell_type": "code",
   "execution_count": null,
   "id": "3620a403",
   "metadata": {},
   "outputs": [],
   "source": [
    "def add(x, y):\n",
    "    logging.warning(f\"x={x}, y={y}\")\n",
    "    return x+y"
   ]
  },
  {
   "cell_type": "code",
   "execution_count": null,
   "id": "24f6ff63",
   "metadata": {},
   "outputs": [
    {
     "name": "stderr",
     "output_type": "stream",
     "text": [
      "WARNING:root:x=1, y=2\n"
     ]
    },
    {
     "data": {
      "text/plain": [
       "3"
      ]
     },
     "execution_count": null,
     "metadata": {},
     "output_type": "execute_result"
    }
   ],
   "source": [
    "add(1, 2)"
   ]
  },
  {
   "cell_type": "code",
   "execution_count": null,
   "id": "921e84bc",
   "metadata": {},
   "outputs": [],
   "source": [
    "class Atom:\n",
    "    def __init__(self, n_protons: int) -> None:\n",
    "        pass"
   ]
  },
  {
   "cell_type": "code",
   "execution_count": null,
   "id": "10bb4949",
   "metadata": {},
   "outputs": [],
   "source": [
    "def add_number(a: int, b: int, c: int) -> None:\n",
    "    pass"
   ]
  },
  {
   "cell_type": "markdown",
   "id": "573ef8f6",
   "metadata": {},
   "source": [
    "### fastcore"
   ]
  },
  {
   "cell_type": "code",
   "execution_count": null,
   "id": "72d125e8",
   "metadata": {},
   "outputs": [],
   "source": [
    "from fastcore.meta import *"
   ]
  },
  {
   "cell_type": "code",
   "execution_count": null,
   "id": "96a8d20f",
   "metadata": {},
   "outputs": [],
   "source": [
    "funcs_kwargs??"
   ]
  },
  {
   "cell_type": "code",
   "execution_count": null,
   "id": "79539173",
   "metadata": {},
   "outputs": [],
   "source": [
    "@funcs_kwargs(as_method=True)\n",
    "class DataBlock:\n",
    "    _methods = [\"loss_func\"]\n",
    "    num = 5"
   ]
  },
  {
   "cell_type": "code",
   "execution_count": null,
   "id": "e4f02a3b",
   "metadata": {},
   "outputs": [],
   "source": [
    "def plus_one(self):\n",
    "    return self.num + 1"
   ]
  },
  {
   "cell_type": "code",
   "execution_count": null,
   "id": "e197ca0b",
   "metadata": {},
   "outputs": [],
   "source": [
    "dblock = DataBlock(loss_func=plus_one)"
   ]
  },
  {
   "cell_type": "code",
   "execution_count": null,
   "id": "d0536c1c",
   "metadata": {},
   "outputs": [
    {
     "data": {
      "text/plain": [
       "6"
      ]
     },
     "execution_count": null,
     "metadata": {},
     "output_type": "execute_result"
    }
   ],
   "source": [
    "dblock.loss_func()"
   ]
  },
  {
   "cell_type": "markdown",
   "id": "465fda6c",
   "metadata": {},
   "source": [
    "### Sympy"
   ]
  },
  {
   "cell_type": "code",
   "execution_count": null,
   "id": "07d4a9e4",
   "metadata": {},
   "outputs": [],
   "source": [
    "import sympy as smp"
   ]
  },
  {
   "cell_type": "code",
   "execution_count": null,
   "id": "f8eec09d",
   "metadata": {},
   "outputs": [],
   "source": [
    "from sympy import Function"
   ]
  },
  {
   "cell_type": "code",
   "execution_count": null,
   "id": "f22f65ed",
   "metadata": {},
   "outputs": [],
   "source": [
    "x = smp.symbols(\"x\")"
   ]
  },
  {
   "cell_type": "code",
   "execution_count": null,
   "id": "f420989a",
   "metadata": {},
   "outputs": [],
   "source": [
    "f = smp.symbols(\"f\", cls=smp.Function)"
   ]
  },
  {
   "cell_type": "code",
   "execution_count": null,
   "id": "e0791bd2",
   "metadata": {},
   "outputs": [
    {
     "data": {
      "text/plain": [
       "f"
      ]
     },
     "execution_count": null,
     "metadata": {},
     "output_type": "execute_result"
    }
   ],
   "source": [
    "f"
   ]
  },
  {
   "cell_type": "code",
   "execution_count": null,
   "id": "74d02464",
   "metadata": {},
   "outputs": [],
   "source": [
    "f = f(x)"
   ]
  },
  {
   "cell_type": "code",
   "execution_count": null,
   "id": "48f3acd5",
   "metadata": {},
   "outputs": [
    {
     "data": {
      "text/plain": [
       "k"
      ]
     },
     "execution_count": null,
     "metadata": {},
     "output_type": "execute_result"
    }
   ],
   "source": [
    "Function(\"k\")"
   ]
  },
  {
   "cell_type": "code",
   "execution_count": null,
   "id": "7071569f",
   "metadata": {},
   "outputs": [],
   "source": [
    "smp.lamdify([])"
   ]
  },
  {
   "cell_type": "markdown",
   "id": "d59294e5",
   "metadata": {},
   "source": [
    "### SQL"
   ]
  },
  {
   "cell_type": "code",
   "execution_count": null,
   "id": "d781b6d0",
   "metadata": {},
   "outputs": [
    {
     "ename": "SyntaxError",
     "evalue": "invalid syntax (3516195655.py, line 1)",
     "output_type": "error",
     "traceback": [
      "\u001b[0;36m  Input \u001b[0;32mIn [35]\u001b[0;36m\u001b[0m\n\u001b[0;31m    SELECT CAST(n_epoch AS text) FROM training\u001b[0m\n\u001b[0m           ^\u001b[0m\n\u001b[0;31mSyntaxError\u001b[0m\u001b[0;31m:\u001b[0m invalid syntax\n"
     ]
    }
   ],
   "source": [
    "SELECT CAST(n_epoch AS text) FROM training"
   ]
  },
  {
   "cell_type": "code",
   "execution_count": null,
   "id": "512d53c6",
   "metadata": {},
   "outputs": [],
   "source": []
  }
 ],
 "metadata": {
  "kernelspec": {
   "display_name": "Python 3 (ipykernel)",
   "language": "python",
   "name": "python3"
  },
  "language_info": {
   "codemirror_mode": {
    "name": "ipython",
    "version": 3
   },
   "file_extension": ".py",
   "mimetype": "text/x-python",
   "name": "python",
   "nbconvert_exporter": "python",
   "pygments_lexer": "ipython3",
   "version": "3.9.12"
  }
 },
 "nbformat": 4,
 "nbformat_minor": 5
}
