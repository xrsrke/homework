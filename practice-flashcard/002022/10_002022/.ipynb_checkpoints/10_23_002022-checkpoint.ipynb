{
 "cells": [
  {
   "cell_type": "markdown",
   "id": "4cc4d579-a600-40a0-a98b-17b0c68cc25e",
   "metadata": {},
   "source": [
    "### Deep Learning"
   ]
  },
  {
   "cell_type": "code",
   "execution_count": null,
   "id": "098dd814-d443-4f86-8a5f-99b6982608b7",
   "metadata": {},
   "outputs": [],
   "source": [
    "import torch"
   ]
  },
  {
   "cell_type": "code",
   "execution_count": null,
   "id": "dd97f15f-6316-4218-b0cd-f3d61fb02345",
   "metadata": {},
   "outputs": [],
   "source": [
    "import torch.optim as optim"
   ]
  },
  {
   "cell_type": "code",
   "execution_count": null,
   "id": "157f8fd5-5755-4109-83e1-e20c1ddf053b",
   "metadata": {},
   "outputs": [],
   "source": [
    "_optim = optim.SGD(_model.parameters(), lr=0.3)"
   ]
  },
  {
   "cell_type": "code",
   "execution_count": null,
   "id": "bda93fd6-52f6-4a45-b935-6a3ece32f513",
   "metadata": {},
   "outputs": [],
   "source": [
    "import torch.nn.init as init"
   ]
  },
  {
   "cell_type": "code",
   "execution_count": null,
   "id": "d9c1e496-2be9-40e0-b2d4-dd490ec837e3",
   "metadata": {},
   "outputs": [],
   "source": [
    "init.kaiming_normal_(l1.weight, a=1)"
   ]
  },
  {
   "cell_type": "code",
   "execution_count": null,
   "id": "7ca85a54-2add-4fae-98bb-e3f50ed47a7c",
   "metadata": {},
   "outputs": [],
   "source": []
  },
  {
   "cell_type": "code",
   "execution_count": null,
   "id": "886debc8-dd3e-41ac-bdfc-97ff38a3c1e5",
   "metadata": {},
   "outputs": [],
   "source": [
    "import torch.nn as nn"
   ]
  },
  {
   "cell_type": "code",
   "execution_count": null,
   "id": "96fff6a6-ce7e-4559-ab0b-90af6b4cbfba",
   "metadata": {},
   "outputs": [],
   "source": [
    "class _Model(nn.Module):\n",
    "    def __init__(self, layers):\n",
    "        super().__init__()\n",
    "        self.layers = layers\n",
    "        for i, l in enumerate(self.layers):\n",
    "            self.add_module(f'this_layer_{i}: {l}')"
   ]
  },
  {
   "cell_type": "code",
   "execution_count": null,
   "id": "579cf776-edc4-4108-9f51-ca35ea6e934a",
   "metadata": {},
   "outputs": [],
   "source": [
    "class Optimizier:\n",
    "    def __init__(self, params, lr):\n",
    "        self.params = params\n",
    "        self.lr = lr\n",
    "    \n",
    "    def zero_grad(self):\n",
    "        for p in params:\n",
    "            params.grad.data.zero_()"
   ]
  },
  {
   "cell_type": "code",
   "execution_count": null,
   "id": "20054195-5a02-4b66-ab9b-e68c32afa5ba",
   "metadata": {},
   "outputs": [],
   "source": [
    "def train(x, y, epochs):\n",
    "    for i in range(epochs):\n",
    "        pred = model(x)\n",
    "        loss = loss_func(pred, y)\n",
    "        \n",
    "        loss.backward()\n",
    "        optim.step()\n",
    "        optim.zero_grad()\n",
    "        \n",
    "        print(f'end of epoch {i}, loss={loss}')"
   ]
  },
  {
   "cell_type": "code",
   "execution_count": null,
   "id": "cbb9d20c-7893-42ef-9c09-bc3739493da5",
   "metadata": {},
   "outputs": [],
   "source": [
    "class Optimizier:\n",
    "    def __init__(self, params, lr):\n",
    "        self.params = params\n",
    "        self.lr = lr\n",
    "    \n",
    "    def step(self):\n",
    "        for p in self.params:\n",
    "            p -= p.grad * self.lr"
   ]
  },
  {
   "cell_type": "code",
   "execution_count": null,
   "id": "2bdee2e3-36dd-4399-9810-243b89b77a21",
   "metadata": {},
   "outputs": [],
   "source": [
    "_model = nn.Sequential(*layer)"
   ]
  },
  {
   "cell_type": "code",
   "execution_count": null,
   "id": "caa7a10d-cc4d-4d8f-8d81-a103c4b7843b",
   "metadata": {},
   "outputs": [],
   "source": [
    "def accuracy(pred, targ):\n",
    "    return (torch.argmax(pred, dim=-1) == targ).sum().float().mean()"
   ]
  },
  {
   "cell_type": "code",
   "execution_count": null,
   "id": "dd8327e9-5973-460d-b703-c7508ef4e48f",
   "metadata": {},
   "outputs": [],
   "source": [
    "dblock.datasets"
   ]
  },
  {
   "cell_type": "code",
   "execution_count": null,
   "id": "6721f4ec-700d-4789-8668-d369c9d1ee5e",
   "metadata": {},
   "outputs": [],
   "source": [
    "learn = Learn(dls, model, loss_func=MSELossFlat())"
   ]
  },
  {
   "cell_type": "code",
   "execution_count": null,
   "id": "472f099f-36f3-49af-8ae8-2f540c9600ed",
   "metadata": {},
   "outputs": [],
   "source": [
    "def numericalize(x):\n",
    "    return [idxs[word] for word in x]"
   ]
  },
  {
   "cell_type": "code",
   "execution_count": null,
   "id": "68e1021f-c8af-4ebd-9e72-f94bb96a4211",
   "metadata": {},
   "outputs": [],
   "source": [
    "import torch.nn.functional as F"
   ]
  },
  {
   "cell_type": "code",
   "execution_count": null,
   "id": "3cce6195-d1ce-40f0-87c2-2807e2c0b719",
   "metadata": {},
   "outputs": [],
   "source": [
    "class _LMModel3:\n",
    "    def __init__(self, vocab_sz, n_hidden):\n",
    "        self.i_h = nn.Embedding(vocab_sz, n_hidden)\n",
    "        self.h_h = nn.Linear(n_hidden, n_hidden)\n",
    "        self.h_o = nn.Linear(n_hidden, vocab_sz)\n",
    "        self.h = 0.\n",
    "    \n",
    "    def forward(self, x):\n",
    "        for i in range(3):\n",
    "            self.h = self.h + F.relu(self.i_h(x[:, i]))\n",
    "            self.h = F.relu(self.h_h(self.h))\n",
    "        \n",
    "        out = self.h_o(self.h)\n",
    "        self.h.detach()\n",
    "        return out"
   ]
  },
  {
   "cell_type": "code",
   "execution_count": null,
   "id": "cda6e1a9-c7d8-4d8b-a2e8-dc3b6bf3adca",
   "metadata": {},
   "outputs": [
    {
     "data": {
      "text/plain": [
       "<torch._C.Generator>"
      ]
     },
     "execution_count": null,
     "metadata": {},
     "output_type": "execute_result"
    }
   ],
   "source": [
    "torch.manual_seed(seed=42)"
   ]
  },
  {
   "cell_type": "code",
   "execution_count": null,
   "id": "88c2f0d4-9acf-402f-af16-181d60806511",
   "metadata": {},
   "outputs": [],
   "source": [
    "def split_dataset(x, percent):\n",
    "    cut = int(len(x) * percent)\n",
    "    return x[:cut], x[:cut]"
   ]
  },
  {
   "cell_type": "code",
   "execution_count": null,
   "id": "387d1e00-5710-4b5f-8823-a9cb48c35b69",
   "metadata": {},
   "outputs": [],
   "source": [
    "class Optimizer:\n",
    "    def __init__(self, params, lr):\n",
    "        self.params = params\n",
    "        self.lr = lr\n",
    "    \n",
    "    def step(self):\n",
    "        with torch.no_grad:\n",
    "            for p in self.params:\n",
    "                p -= p.grad * lr"
   ]
  },
  {
   "cell_type": "code",
   "execution_count": null,
   "id": "21da5a20-0408-4199-8fc5-18aad470763e",
   "metadata": {},
   "outputs": [],
   "source": [
    "def accuracy(pred, targ):\n",
    "    predicted_idxs = torch.argmax(pred, dim=-1)\n",
    "    \n",
    "    return (predicted_idxs == targ).float().mean()"
   ]
  },
  {
   "cell_type": "markdown",
   "id": "ffd083e3-4f87-403d-b64f-6680cf314fe5",
   "metadata": {},
   "source": [
    "### git"
   ]
  },
  {
   "cell_type": "markdown",
   "id": "c09ec583-581d-4848-bd38-54b8ee0f2ca0",
   "metadata": {},
   "source": [
    "git stash"
   ]
  },
  {
   "cell_type": "markdown",
   "id": "c7e5e7b3-7c30-4189-9da1-28c8ce04449c",
   "metadata": {},
   "source": [
    "### github actions"
   ]
  },
  {
   "cell_type": "code",
   "execution_count": null,
   "id": "355ae077-6bc9-4c7d-be18-90a938cf46bf",
   "metadata": {},
   "outputs": [],
   "source": [
    "name: hello\n",
    "\n",
    "on: [push]\n",
    "\n",
    "jobs:\n",
    "    hello-world:\n",
    "        runs-on: last-ubuntu\n",
    "        steps:\n",
    "            - name: echo-hello\n",
    "              id: echo\n",
    "              run: echo \"hello world\""
   ]
  },
  {
   "cell_type": "code",
   "execution_count": null,
   "id": "661ec1b7-c481-417c-a362-886f6a27e6cd",
   "metadata": {},
   "outputs": [],
   "source": [
    "name: machine info\n",
    "\n",
    "on: [push]\n",
    "\n",
    "jobs:\n",
    "    check-version:\n",
    "        runs-on: ubuntu-latest\n",
    "        steps:\n",
    "            - name: processor info\n",
    "              shell: python\n",
    "              run: |\n",
    "                 import platform\n",
    "                 print(platform.processor())"
   ]
  },
  {
   "cell_type": "code",
   "execution_count": null,
   "id": "a4fcaa76-2e45-401c-9de0-c02e5f572545",
   "metadata": {},
   "outputs": [],
   "source": [
    "name: integration test\n",
    "\n",
    "on: [push]\n",
    "\n",
    "jobs:\n",
    "    check-version:\n",
    "        runs-on: ubuntu-latest\n",
    "        steps:\n",
    "            - name: echo a string\n",
    "              run: echo \"hello world\"\n",
    "            - name: check python version\n",
    "              run: python3 --version"
   ]
  },
  {
   "cell_type": "code",
   "execution_count": null,
   "id": "0d17364c-d820-41b9-a27f-de2c9e9efb0b",
   "metadata": {},
   "outputs": [],
   "source": [
    "deep_learning: |\n",
    "    ab\n",
    "    c"
   ]
  },
  {
   "cell_type": "markdown",
   "id": "69acec5b-2864-4ec3-8dc7-0017ad3d194c",
   "metadata": {},
   "source": [
    "### Data Structure"
   ]
  },
  {
   "cell_type": "code",
   "execution_count": null,
   "id": "c8aea398-9170-462a-b24c-f098f604b778",
   "metadata": {},
   "outputs": [],
   "source": [
    "class LinkedList(BaseLinkedLink):\n",
    "    def __init__(self, value):\n",
    "        self.head = value\n",
    "        self.tail = None\n",
    "        self.length = 1\n",
    "    \n",
    "    def append(self, value):\n",
    "        new_node\n",
    "        if not head:\n",
    "            self.head = value\n",
    "            self.tail = value\n",
    "        else:\n",
    "            self.tail = value\n",
    "        \n",
    "        self.length += 1"
   ]
  },
  {
   "cell_type": "markdown",
   "id": "23728a4c-8a53-4609-89af-1f00be8120c9",
   "metadata": {},
   "source": [
    "### docker"
   ]
  },
  {
   "cell_type": "code",
   "execution_count": null,
   "id": "821c73c4-aa1d-4e16-95c8-34b3510c7fa6",
   "metadata": {},
   "outputs": [],
   "source": [
    "docker start 31bb"
   ]
  },
  {
   "cell_type": "code",
   "execution_count": null,
   "id": "8b9ece91-0bd7-4669-9f92-246610af07fd",
   "metadata": {},
   "outputs": [],
   "source": [
    "docker exec -t 12b /bin/bash"
   ]
  },
  {
   "cell_type": "code",
   "execution_count": null,
   "id": "456b2aff-aa60-46f8-9239-8c3afdfbf58b",
   "metadata": {},
   "outputs": [],
   "source": [
    "FROM node"
   ]
  },
  {
   "cell_type": "code",
   "execution_count": null,
   "id": "8f84ba55-a895-4c6a-88ef-ff5c7540e3d4",
   "metadata": {},
   "outputs": [],
   "source": [
    "RUN mkdir /home/app"
   ]
  },
  {
   "cell_type": "code",
   "execution_count": null,
   "id": "ed605cc9-2f1f-440c-86f8-648be6af1fa0",
   "metadata": {},
   "outputs": [],
   "source": [
    "COPY ./app /home/app"
   ]
  },
  {
   "cell_type": "code",
   "execution_count": null,
   "id": "eb7d75d2-a826-4281-ae3b-04cb5f6ff7e8",
   "metadata": {},
   "outputs": [],
   "source": [
    "version: '0.01'\n",
    "services:\n",
    "    mongodb:\n",
    "        image: mongo\n",
    "        ports:\n",
    "            - 27"
   ]
  },
  {
   "cell_type": "code",
   "execution_count": null,
   "id": "acea2fa6-f908-4f0c-a4ce-d9c67de7d4b2",
   "metadata": {},
   "outputs": [],
   "source": [
    "docker-compose -f mongo.yaml up"
   ]
  },
  {
   "cell_type": "code",
   "execution_count": null,
   "id": "91a24679-36a2-4729-91f4-4d32f67b12cb",
   "metadata": {},
   "outputs": [],
   "source": [
    "docker network"
   ]
  },
  {
   "cell_type": "code",
   "execution_count": null,
   "id": "6fe33ba3-b26f-4444-b54c-85be1f586435",
   "metadata": {},
   "outputs": [],
   "source": [
    "docker run --net mongo-network mongo"
   ]
  },
  {
   "cell_type": "code",
   "execution_count": null,
   "id": "727fc642-d364-4902-8f50-57e69e7c5a1f",
   "metadata": {},
   "outputs": [],
   "source": [
    "version: 0.01\n",
    "\n",
    "services:\n",
    "    mongodb:\n",
    "        image: mongo"
   ]
  },
  {
   "cell_type": "markdown",
   "id": "73ea697b-997c-40af-a7e4-e013d5e7abf2",
   "metadata": {},
   "source": [
    "### Python"
   ]
  },
  {
   "cell_type": "code",
   "execution_count": null,
   "id": "82e72eaf-1982-4f22-8c2b-57d06471b4ce",
   "metadata": {},
   "outputs": [],
   "source": [
    "import re"
   ]
  },
  {
   "cell_type": "code",
   "execution_count": null,
   "id": "075a78f2-5baf-42de-86d0-99d9a575fee9",
   "metadata": {},
   "outputs": [],
   "source": [
    "pattern = re.compile(r'abc')"
   ]
  },
  {
   "cell_type": "code",
   "execution_count": null,
   "id": "4d4e7e67-6545-49d8-9918-299fb97330d5",
   "metadata": {},
   "outputs": [],
   "source": [
    "matches = pattern.finditer(string1)"
   ]
  },
  {
   "cell_type": "code",
   "execution_count": null,
   "id": "326a5cb1-f972-4653-aa13-6074889f0ce0",
   "metadata": {},
   "outputs": [
    {
     "ename": "SyntaxError",
     "evalue": "'return' outside function (1130505017.py, line 5)",
     "output_type": "error",
     "traceback": [
      "\u001b[0;36m  Input \u001b[0;32mIn [23]\u001b[0;36m\u001b[0m\n\u001b[0;31m    return \"File doesn't exist\"\u001b[0m\n\u001b[0m    ^\u001b[0m\n\u001b[0;31mSyntaxError\u001b[0m\u001b[0;31m:\u001b[0m 'return' outside function\n"
     ]
    }
   ],
   "source": [
    "try:\n",
    "    with open('no_exist.txt'):\n",
    "        pass\n",
    "except FileNotFoundError as err:\n",
    "    return \"File doesn't exist\""
   ]
  },
  {
   "cell_type": "code",
   "execution_count": null,
   "id": "3c4cc579-9230-4e15-9d8d-e7b717831f36",
   "metadata": {},
   "outputs": [],
   "source": [
    "from shopping.cart import shopping_cart "
   ]
  },
  {
   "cell_type": "code",
   "execution_count": null,
   "id": "4dcea43d-cd6a-4290-b19c-1f82717a8b6e",
   "metadata": {},
   "outputs": [],
   "source": [
    "class TextField:\n",
    "    def __init__(self):\n",
    "        self._data = {}\n",
    "\n",
    "    def __get__(self, instance, owner):\n",
    "        return _data[owner]\n",
    "    \n",
    "    def __set__(self, instance, value):\n",
    "        self._data[owner] = value\n"
   ]
  },
  {
   "cell_type": "code",
   "execution_count": null,
   "id": "3ccbb16f-e43d-4aac-b775-6e2ece72671a",
   "metadata": {},
   "outputs": [],
   "source": [
    "from enum import Enum"
   ]
  },
  {
   "cell_type": "code",
   "execution_count": null,
   "id": "e5e4db0e-8153-4179-b532-1374b96c2874",
   "metadata": {},
   "outputs": [],
   "source": [
    "class Colors(Enum):\n",
    "    RED = 'RED'\n",
    "    ORANGE = 'ORANGE'\n",
    "    BLUE = 'BLUE'\n",
    "    \n",
    "    @property\n",
    "    def is_hot(self):\n",
    "        return self in [Colors.RED, Colors.ORANGE]"
   ]
  },
  {
   "cell_type": "code",
   "execution_count": null,
   "id": "97e1b0da-04c1-4a57-991b-796ca762990a",
   "metadata": {},
   "outputs": [],
   "source": []
  }
 ],
 "metadata": {
  "kernelspec": {
   "display_name": "Python 3 (ipykernel)",
   "language": "python",
   "name": "python3"
  }
 },
 "nbformat": 4,
 "nbformat_minor": 5
}
