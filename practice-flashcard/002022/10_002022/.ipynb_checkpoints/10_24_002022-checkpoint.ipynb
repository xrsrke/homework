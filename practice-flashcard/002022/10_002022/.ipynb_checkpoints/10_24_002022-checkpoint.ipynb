{
 "cells": [
  {
   "cell_type": "markdown",
   "id": "04d80bf9-efa1-428b-a51a-f6393949bd2c",
   "metadata": {},
   "source": [
    "### Deep Learning"
   ]
  },
  {
   "cell_type": "code",
   "execution_count": null,
   "id": "3c0a0030-778b-484e-a239-da9e963f02f2",
   "metadata": {},
   "outputs": [],
   "source": [
    "import torch"
   ]
  },
  {
   "cell_type": "code",
   "execution_count": null,
   "id": "655b1f45-ee50-4922-b41e-39b08e2fdf42",
   "metadata": {},
   "outputs": [],
   "source": [
    "class SamplerDemo:\n",
    "    def __init__(self, ds, bs, shuffle):\n",
    "        self.ds = len(self.ds)\n",
    "        self.bs = self.bs\n",
    "        self.shuffle = shuffle\n",
    "    \n",
    "    def __iter__(self):\n",
    "        self.idxs = torch.randperm(self.ds) if self.shuffle else torch.arange(self.ds)\n",
    "        \n",
    "        for i in range(0, self.ds, self.bs):\n",
    "            yield self.idxs[i:i+self.bs]"
   ]
  },
  {
   "cell_type": "code",
   "execution_count": null,
   "id": "18a0aa09-783c-4cf8-b91d-0bbdcefc6666",
   "metadata": {},
   "outputs": [
    {
     "data": {
      "text/plain": [
       "tensor([7, 8, 6, 3, 0, 4, 5, 9, 1, 2])"
      ]
     },
     "execution_count": null,
     "metadata": {},
     "output_type": "execute_result"
    }
   ],
   "source": [
    "torch.randperm(10)"
   ]
  },
  {
   "cell_type": "code",
   "execution_count": null,
   "id": "13d6f755-b110-4c9d-b0bf-3cb924e80bff",
   "metadata": {},
   "outputs": [],
   "source": [
    "torch.manual_seed(seed=420)\n",
    "random_a = torch.randn(3,3)"
   ]
  },
  {
   "cell_type": "code",
   "execution_count": null,
   "id": "33425c55-76f0-42bb-b7ab-cc13adcf78b8",
   "metadata": {},
   "outputs": [],
   "source": [
    "torch.manual_seed(seed=420)\n",
    "random_b = torch.randn(3,3)"
   ]
  },
  {
   "cell_type": "code",
   "execution_count": null,
   "id": "680b249f-a637-4923-88b9-f45236103e3e",
   "metadata": {},
   "outputs": [
    {
     "data": {
      "text/plain": [
       "tensor([[True, True, True],\n",
       "        [True, True, True],\n",
       "        [True, True, True]])"
      ]
     },
     "execution_count": null,
     "metadata": {},
     "output_type": "execute_result"
    }
   ],
   "source": [
    "random_a == random_b"
   ]
  },
  {
   "cell_type": "code",
   "execution_count": null,
   "id": "813aea86-a23e-42af-abac-63b608905574",
   "metadata": {},
   "outputs": [],
   "source": [
    "class SamplerDemo:\n",
    "    def __init__(self, ds, bs, shuffle):\n",
    "        self.n = len(ds)\n",
    "        self.bs = bs\n",
    "        self.shuffle = shuffle\n",
    "    \n",
    "    def __iter__(self):\n",
    "        self.idxs = torch.randperm(self.n) if self.shuffle else torch.arange(self.n)\n",
    "        \n",
    "        for i in range(0, self.n, self.bs):\n",
    "            yield idxs[i:i+self.bs]"
   ]
  },
  {
   "cell_type": "code",
   "execution_count": null,
   "id": "3fc3323a-d174-4b15-a087-d9a936a40fd9",
   "metadata": {},
   "outputs": [],
   "source": [
    "import random"
   ]
  },
  {
   "cell_type": "code",
   "execution_count": null,
   "id": "4f346a70-ef1a-4ff1-be29-68dae55805bb",
   "metadata": {},
   "outputs": [],
   "source": [
    "results = random.choice(population, weight, k)"
   ]
  },
  {
   "cell_type": "code",
   "execution_count": null,
   "id": "c8657db9-09f8-443f-9013-980eb4a1bef8",
   "metadata": {},
   "outputs": [],
   "source": [
    "def average_pool(x):\n",
    "    return x.mean()"
   ]
  },
  {
   "cell_type": "code",
   "execution_count": null,
   "id": "af294b13-0250-475e-a0f3-cd2cbb2aa2d7",
   "metadata": {},
   "outputs": [],
   "source": [
    "import torch.nn as nn\n",
    "import torch.nn.functional as F"
   ]
  },
  {
   "cell_type": "code",
   "execution_count": null,
   "id": "07b08a5b-5332-4483-ac72-70478b3bf4c3",
   "metadata": {},
   "outputs": [],
   "source": [
    "class LMModel1:\n",
    "    def __init__(self, vocab_sz, n_hidden):\n",
    "        self.i_h = nn.Embedding(vocab_sz, n_hidden)\n",
    "        self.h_h = nn.Linear(n_hidden, n_hidden)\n",
    "        self.h_o = nn.Linear(n_hidden, vocab_sz)\n",
    "    \n",
    "    def forward(self, x):\n",
    "        h = 0.\n",
    "        \n",
    "        h = F.relu(self.i_h(x[:, 0]))\n",
    "        h = F.relu(self.h_h(h)) + F.relu(self.i_h(x[:, 1]))\n",
    "        h = F.relu(self.h_h(h)) + F.relu(self.i_h(x[:, 2]))\n",
    "        \n",
    "        return self.h_o(h)"
   ]
  },
  {
   "cell_type": "code",
   "execution_count": null,
   "id": "ab3f1e97-965a-4242-8ab2-584f01e15a42",
   "metadata": {},
   "outputs": [],
   "source": [
    "text = ' . '.join(w.strip() for w in lines)"
   ]
  },
  {
   "cell_type": "code",
   "execution_count": null,
   "id": "ee5ef09f-239d-4004-896a-58609397bac3",
   "metadata": {},
   "outputs": [],
   "source": [
    "class Net(nn.Module):\n",
    "    def __init__(self):\n",
    "        self.layers = [\n",
    "            nn.Linear(2, 1),\n",
    "            nn.ReLU(),\n",
    "            nn.Linear(1, 1),\n",
    "            nn.Sigmoid()\n",
    "        ]\n",
    "    \n",
    "    def forward(self, x):\n",
    "        for l in self.layers:\n",
    "            x = l(x)\n",
    "        return x"
   ]
  },
  {
   "cell_type": "code",
   "execution_count": null,
   "id": "bba7eb21-3f64-4161-ae77-7a36d4566f04",
   "metadata": {},
   "outputs": [],
   "source": [
    "dblock = DataBlock(blocks=[ImageBlock, MultiCategoryBlock],\n",
    "                   get_x = get_x,\n",
    "                   get_y = get_y)"
   ]
  },
  {
   "cell_type": "code",
   "execution_count": null,
   "id": "7f406fb6-513f-4bd9-ba01-e00d7852dfe9",
   "metadata": {},
   "outputs": [],
   "source": [
    "dsets = dblock.datasets()"
   ]
  },
  {
   "cell_type": "code",
   "execution_count": null,
   "id": "e7eecc4a-65dd-4504-a793-2f2890b4c580",
   "metadata": {},
   "outputs": [],
   "source": [
    "def mean_absolute_error(pred, targ):\n",
    "    return np.mean(np.abs(pred-targ))"
   ]
  },
  {
   "cell_type": "code",
   "execution_count": null,
   "id": "a7ca8765-08a9-4a02-977b-983c1255d5dc",
   "metadata": {},
   "outputs": [],
   "source": [
    "def mean_absolute_error(pred, targ):\n",
    "    error = 0.\n",
    "    \n",
    "    for i in range(len(targ)):\n",
    "        error += abs(pred[i] - targ[i])\n",
    "    \n",
    "    return error / len(targ)"
   ]
  },
  {
   "cell_type": "code",
   "execution_count": null,
   "id": "eaf53920-252a-4c04-93ff-52e0199a9186",
   "metadata": {},
   "outputs": [],
   "source": [
    "def mse(pred, targ):\n",
    "    return np.power((pred-targ), 2).mean()"
   ]
  },
  {
   "cell_type": "code",
   "execution_count": null,
   "id": "5c1bd0d3-aed0-4e7c-8f09-6a7457467cae",
   "metadata": {},
   "outputs": [],
   "source": [
    "def mean_square_error(pred, targ):\n",
    "    error = 0.\n",
    "    \n",
    "    for i in range(len(targ)):\n",
    "        error += (pred[i] - targ[i])**2\n",
    "    \n",
    "    return error / len(targ)"
   ]
  },
  {
   "cell_type": "code",
   "execution_count": null,
   "id": "d10739dc-8a9d-4645-8ed8-fe6ccc7a8425",
   "metadata": {},
   "outputs": [],
   "source": [
    "ReLU = torch.nn.ReLU()"
   ]
  },
  {
   "cell_type": "code",
   "execution_count": null,
   "id": "54c554b4-4f49-4df7-9d3e-85c8141a8906",
   "metadata": {},
   "outputs": [],
   "source": [
    "from PIL import Image"
   ]
  },
  {
   "cell_type": "code",
   "execution_count": null,
   "id": "1842f1ea-87fe-4320-a82d-cbd79dcacf1d",
   "metadata": {},
   "outputs": [],
   "source": [
    "def load_and_resize(path, size):\n",
    "    return Image.open(path).resize(size)"
   ]
  },
  {
   "cell_type": "code",
   "execution_count": null,
   "id": "5c418ecc-40de-4ea0-ac44-295bb63058da",
   "metadata": {},
   "outputs": [],
   "source": [
    "from torchvision import transforms as tfms"
   ]
  },
  {
   "cell_type": "code",
   "execution_count": null,
   "id": "a0576980-5a88-421c-ad20-2f45b1e650e6",
   "metadata": {},
   "outputs": [],
   "source": [
    "def im2tensor(im):\n",
    "    return tfms.ToTensor()(im)"
   ]
  },
  {
   "cell_type": "code",
   "execution_count": null,
   "id": "de39edc4-9a80-4472-9d9a-fa170b6db2f6",
   "metadata": {},
   "outputs": [],
   "source": [
    "class _Model(nn.Module):\n",
    "    def __init__(self, layers):\n",
    "        super().__init__()\n",
    "        self.layers = layers\n",
    "        for i, l in enumerate(self.layers):\n",
    "            self.add_module(f'this_layer_{i}', l)"
   ]
  },
  {
   "cell_type": "code",
   "execution_count": null,
   "id": "7d7ca5a2-0dd1-4f09-9f6d-3ba2b5dcce61",
   "metadata": {},
   "outputs": [],
   "source": [
    "class DataLoader:\n",
    "    def __init__(self, ds, bs):\n",
    "        self.ds = ds\n",
    "        self.bs = bs\n",
    "    \n",
    "    def __iter__(self):\n",
    "        for i in range(0, len(ds), bs):\n",
    "            yield ds[i:i+bs]"
   ]
  },
  {
   "cell_type": "code",
   "execution_count": null,
   "id": "869e3b4e-c422-45f5-8e69-ff4bcdf4600e",
   "metadata": {},
   "outputs": [],
   "source": [
    "def mse(pred, targ):\n",
    "    return (torch.squeeze(pred, dim=-1) == targ).mean()"
   ]
  },
  {
   "cell_type": "code",
   "execution_count": null,
   "id": "4c494856-0e86-4b77-9189-7a452310973b",
   "metadata": {},
   "outputs": [],
   "source": [
    "class Model(nn.Module):\n",
    "    def __init__(self, n_in, nh, n_out):\n",
    "        self.layers = [\n",
    "            nn.Linear(n_in, nh),\n",
    "            nn.ReLU(),\n",
    "            nn.Linear(nh, n_out)\n",
    "        ]"
   ]
  },
  {
   "cell_type": "code",
   "execution_count": null,
   "id": "a851b6fb-0979-4ff8-a054-2ca278638475",
   "metadata": {},
   "outputs": [],
   "source": [
    "def cross_entropy_loss(pred, targ):\n",
    "    return nll_loss(log_softmax(pred), targ)"
   ]
  },
  {
   "cell_type": "code",
   "execution_count": null,
   "id": "0f86780e-9b77-4ec7-a35f-579b7879459f",
   "metadata": {},
   "outputs": [],
   "source": []
  },
  {
   "cell_type": "code",
   "execution_count": null,
   "id": "7defd65b-234d-4df5-be4a-281e55f8331a",
   "metadata": {},
   "outputs": [],
   "source": [
    "sm_pred[range(3), ]"
   ]
  },
  {
   "cell_type": "code",
   "execution_count": null,
   "id": "2a6de854-c308-4e0a-b44d-a98b9d253383",
   "metadata": {},
   "outputs": [],
   "source": [
    "def log_softmax(x):\n",
    "    softmax = x.exp() / x.exp().sum\n",
    "    return softmax.log()"
   ]
  },
  {
   "cell_type": "code",
   "execution_count": null,
   "id": "0def4e86-2d8d-4b2a-85fd-86384f03f516",
   "metadata": {},
   "outputs": [],
   "source": [
    "def train(x, y, epochs):\n",
    "    for i in range(epochs):\n",
    "        pred = model(x)\n",
    "        loss = loss_func(pred, y)\n",
    "        \n",
    "        loss.backward()\n",
    "        optim.step()\n",
    "        optim.zero_grad()"
   ]
  },
  {
   "cell_type": "code",
   "execution_count": null,
   "id": "6e90c72d-1ced-4289-95bb-eaba716c3d01",
   "metadata": {},
   "outputs": [],
   "source": [
    "class Optimizer:\n",
    "    def __init__(self, params, lr):\n",
    "        self.params = params\n",
    "        self.lr = lr\n",
    "    \n",
    "    def zero_grad(self):\n",
    "        for p in self.params:\n",
    "            p.grad.data.zero_()"
   ]
  },
  {
   "cell_type": "code",
   "execution_count": null,
   "id": "9db7f0b3-745d-4164-8293-d150b3282d61",
   "metadata": {},
   "outputs": [],
   "source": [
    "class Optimizier:\n",
    "    def __init__(self, params, lr):\n",
    "        self.params = params\n",
    "        self.lr = lr\n",
    "    \n",
    "    def step(self):\n",
    "        for p in self.params:\n",
    "            p -= p.grad * lr"
   ]
  },
  {
   "cell_type": "code",
   "execution_count": null,
   "id": "e676ac89-bcd4-4de2-9a83-2be80813939d",
   "metadata": {},
   "outputs": [],
   "source": [
    "# def accuracy(pred, targ):\n",
    "#     return (pred[range(len(targ)), targ] == targ).float().mean()"
   ]
  },
  {
   "cell_type": "code",
   "execution_count": null,
   "id": "d0db793b-578f-4287-904e-796a897019d5",
   "metadata": {},
   "outputs": [],
   "source": [
    "def accuracy(pred, targ):\n",
    "    idx_preds = torch.argmax(pred, dim=1)\n",
    "    return idx_preds == targ"
   ]
  },
  {
   "cell_type": "code",
   "execution_count": null,
   "id": "02d2c621-6a94-4239-af44-19950cd8687f",
   "metadata": {},
   "outputs": [],
   "source": [
    "_tensor = torch.randperm(10)"
   ]
  },
  {
   "cell_type": "code",
   "execution_count": null,
   "id": "1c4e4a7b-d33c-4629-860b-1827385cad5c",
   "metadata": {},
   "outputs": [
    {
     "data": {
      "text/plain": [
       "tensor([0, 2, 7, 4, 9, 3, 5, 1, 8, 6])"
      ]
     },
     "execution_count": null,
     "metadata": {},
     "output_type": "execute_result"
    }
   ],
   "source": [
    "_tensor"
   ]
  },
  {
   "cell_type": "code",
   "execution_count": null,
   "id": "11ac26b1-8bbb-4396-a944-32d0c882cdd8",
   "metadata": {},
   "outputs": [],
   "source": [
    "def log_softmax(x):\n",
    "    softmax = x.exp() / x.exp().sum()\n",
    "    return softmax.log()"
   ]
  },
  {
   "cell_type": "code",
   "execution_count": null,
   "id": "83c148fc-d6a6-45b1-8f8c-7579d1342e98",
   "metadata": {},
   "outputs": [],
   "source": [
    "def accuracy(pred, targ):\n",
    "    idx_preds = torch.argmax(pred, dim=-1)\n",
    "    return (idx_preds == targ).float().mean()"
   ]
  },
  {
   "cell_type": "code",
   "execution_count": null,
   "id": "ab7c2f33-b9b6-4698-b72a-39e52862d100",
   "metadata": {},
   "outputs": [],
   "source": [
    "class Dataset:\n",
    "    def __init__(self, x, y):\n",
    "        self.x, self.y = x, y\n",
    "    \n",
    "    def __len__(self): return len(self.x)\n",
    "\n",
    "    def __getitem__(self, idx):\n",
    "        return self.x[idx], self.y[idx]"
   ]
  },
  {
   "cell_type": "markdown",
   "id": "015ff6e8-ab0a-4c56-841d-a21ad30930b6",
   "metadata": {},
   "source": [
    "### Design Patterns"
   ]
  },
  {
   "cell_type": "code",
   "execution_count": null,
   "id": "cd3828ff-bde6-4773-97ae-c52c93ee4b63",
   "metadata": {},
   "outputs": [],
   "source": [
    "from abc import ABC, abstractclassmethod"
   ]
  },
  {
   "cell_type": "code",
   "execution_count": null,
   "id": "0fe33dd5-90a9-497f-ab18-8bc7357bebac",
   "metadata": {},
   "outputs": [],
   "source": [
    "class Switchable(ABC):\n",
    "    @abstractclassmethod\n",
    "    def turn_on(self): pass\n",
    "\n",
    "    @abstractclassmethod\n",
    "    def turn_off(self): pass"
   ]
  },
  {
   "cell_type": "code",
   "execution_count": null,
   "id": "0fedd796-57a1-4fb3-a05d-ddcb99ae2f17",
   "metadata": {},
   "outputs": [],
   "source": [
    "class LightBulb(Switchable):\n",
    "    def turn_on(self): pass\n",
    "    \n",
    "    def turn_off(self): pass"
   ]
  },
  {
   "cell_type": "code",
   "execution_count": null,
   "id": "8da07d98-d246-40ad-8ccf-a89ab37f05b9",
   "metadata": {},
   "outputs": [],
   "source": [
    "class ElectricPowerSwitch:\n",
    "    def __init__(self, l: Switchable):\n",
    "        self.lightbulb = l"
   ]
  },
  {
   "cell_type": "markdown",
   "id": "503f8b20-3824-4b9c-b7a3-79f37fd01eff",
   "metadata": {},
   "source": [
    "### SQL"
   ]
  },
  {
   "cell_type": "code",
   "execution_count": null,
   "id": "e67e498d-4ad1-462b-81cc-cfa0dafc1266",
   "metadata": {},
   "outputs": [],
   "source": [
    "SELECT * FROM users WHERE is_deleted IS TRUE"
   ]
  },
  {
   "cell_type": "code",
   "execution_count": null,
   "id": "2dbd1033-9558-4083-863d-4041e5c9eb1c",
   "metadata": {},
   "outputs": [],
   "source": [
    "SELECT CAST(n_epoch AS text) "
   ]
  },
  {
   "cell_type": "code",
   "execution_count": null,
   "id": "52c62424-d300-4d71-96e0-ca39bbcc8c8a",
   "metadata": {},
   "outputs": [],
   "source": [
    "SELEC * FROM dataset WHERE prompt ILIKE 'h%'"
   ]
  },
  {
   "cell_type": "markdown",
   "id": "ffa0eef8-6bce-406b-825c-9e8e29126661",
   "metadata": {},
   "source": [
    "SELECT training.accuracy, datasets.size FROM training, datasets WHERE training.dsets_id = datasets.id"
   ]
  },
  {
   "cell_type": "code",
   "execution_count": null,
   "id": "2895281a-eb88-4ec5-8b94-90b95403065c",
   "metadata": {},
   "outputs": [],
   "source": [
    "SELECT * FROM users WHERE (name = 'shivon' AND rank=1) OR (rank=2)"
   ]
  },
  {
   "cell_type": "code",
   "execution_count": null,
   "id": "e1f46999-2069-4694-bc72-b9046da6bb63",
   "metadata": {},
   "outputs": [],
   "source": [
    "SELECT * FROM users WHERE rank='one' AND files=6"
   ]
  },
  {
   "cell_type": "markdown",
   "id": "083b78b2-da82-4a9b-be8b-2f0bc22b34f4",
   "metadata": {},
   "source": [
    "### Docker"
   ]
  },
  {
   "cell_type": "code",
   "execution_count": null,
   "id": "579d0775-3924-41ff-8b64-fd4943ed0b1f",
   "metadata": {},
   "outputs": [],
   "source": [
    "version: 0.01\n",
    "\n",
    "services:\n",
    "    mongodb:\n",
    "        image: mongo"
   ]
  },
  {
   "cell_type": "markdown",
   "id": "fe8f4cf1-11de-46f3-a3c7-f11ff715e58b",
   "metadata": {},
   "source": [
    "### bash "
   ]
  },
  {
   "cell_type": "code",
   "execution_count": null,
   "id": "3101838c-93a0-4c15-a772-3b918a3d222f",
   "metadata": {},
   "outputs": [],
   "source": [
    "#!/bin/bash"
   ]
  },
  {
   "cell_type": "code",
   "execution_count": null,
   "id": "aee56a0c-2c76-474a-8f84-0f1ccf96adfa",
   "metadata": {},
   "outputs": [],
   "source": [
    "---"
   ]
  },
  {
   "cell_type": "code",
   "execution_count": null,
   "id": "f31dbbd3-b506-4fa5-9469-85eca24ac707",
   "metadata": {},
   "outputs": [],
   "source": [
    "rw-------"
   ]
  },
  {
   "cell_type": "code",
   "execution_count": null,
   "id": "91edefd2-4efc-4812-ba41-021462106952",
   "metadata": {},
   "outputs": [],
   "source": [
    "--x"
   ]
  },
  {
   "cell_type": "code",
   "execution_count": null,
   "id": "b9928dd5-78d9-4b65-82df-7b2b8ddc7574",
   "metadata": {},
   "outputs": [],
   "source": [
    "chmod 744 scriptb"
   ]
  },
  {
   "cell_type": "code",
   "execution_count": null,
   "id": "a43cd2ad-8c03-4a19-b5fc-f0918b1f22fd",
   "metadata": {},
   "outputs": [],
   "source": [
    "rwx"
   ]
  },
  {
   "cell_type": "code",
   "execution_count": null,
   "id": "97548e5a-424f-4883-a275-c27c754b4b88",
   "metadata": {},
   "outputs": [],
   "source": [
    "---"
   ]
  },
  {
   "cell_type": "code",
   "execution_count": null,
   "id": "8446e9fd-a951-48d3-9463-4746dea757e7",
   "metadata": {},
   "outputs": [],
   "source": [
    "ls -l"
   ]
  },
  {
   "cell_type": "code",
   "execution_count": null,
   "id": "f2235499-fde4-4e38-a243-f84b818959f3",
   "metadata": {},
   "outputs": [],
   "source": [
    "r-x"
   ]
  },
  {
   "cell_type": "code",
   "execution_count": null,
   "id": "6b8e883d-d3f7-48d8-9bab-14eb76558bd0",
   "metadata": {},
   "outputs": [],
   "source": [
    "if [[X == Y]]; then\n",
    "    # code\n",
    "elif [[X == Z]]; then\n",
    "    # code\n",
    "fi"
   ]
  },
  {
   "cell_type": "code",
   "execution_count": null,
   "id": "366abd7b-d7e4-409e-8d44-c12198dd4f33",
   "metadata": {},
   "outputs": [],
   "source": [
    "!!"
   ]
  },
  {
   "cell_type": "code",
   "execution_count": null,
   "id": "f09843ac-89b4-4a47-b349-4f70d57bacfa",
   "metadata": {},
   "outputs": [],
   "source": [
    "$?"
   ]
  },
  {
   "cell_type": "code",
   "execution_count": null,
   "id": "dab0c4d3-a45e-487b-9993-13f992d37770",
   "metadata": {},
   "outputs": [],
   "source": [
    "for arg in \"$@\"; do\n",
    "    print(arg)"
   ]
  },
  {
   "cell_type": "markdown",
   "id": "df7b7996-571a-48d0-a654-f4488f9908b1",
   "metadata": {},
   "source": [
    "### fastcore"
   ]
  },
  {
   "cell_type": "code",
   "execution_count": null,
   "id": "41901e80-bc3f-4cf4-9839-346010f351cf",
   "metadata": {},
   "outputs": [],
   "source": [
    "from fastcore.basics import *"
   ]
  },
  {
   "cell_type": "code",
   "execution_count": null,
   "id": "8490b9d8-a482-4e43-8b04-6b7efe015f86",
   "metadata": {},
   "outputs": [],
   "source": [
    "class _ProductPage(metaclass=GetAttr):\n",
    "    def __init__(self, page, price):\n",
    "        self.default = page\n",
    "        self.price = price"
   ]
  },
  {
   "cell_type": "code",
   "execution_count": null,
   "id": "10956c19-4483-429a-917f-ae3127b38b38",
   "metadata": {},
   "outputs": [],
   "source": [
    "class Learner: pass"
   ]
  },
  {
   "cell_type": "code",
   "execution_count": null,
   "id": "2aae2ec7-5ace-4919-8bf6-b50a5cf5ce0f",
   "metadata": {},
   "outputs": [],
   "source": [
    "@patch\n",
    "def num_items(self: Learner): return 'works'"
   ]
  },
  {
   "cell_type": "code",
   "execution_count": null,
   "id": "ebc43718-abce-49da-9bad-bc2babea1003",
   "metadata": {},
   "outputs": [],
   "source": [
    "l = Learner()"
   ]
  },
  {
   "cell_type": "code",
   "execution_count": null,
   "id": "95704764-d664-4c7b-b1a9-c20b142bef46",
   "metadata": {},
   "outputs": [
    {
     "data": {
      "text/plain": [
       "'works'"
      ]
     },
     "execution_count": null,
     "metadata": {},
     "output_type": "execute_result"
    }
   ],
   "source": [
    "l.num_items()"
   ]
  },
  {
   "cell_type": "code",
   "execution_count": null,
   "id": "39c3763c-4f68-433e-9b49-106d897b6326",
   "metadata": {},
   "outputs": [],
   "source": [
    "from fastcore.dispatch import *"
   ]
  },
  {
   "cell_type": "code",
   "execution_count": null,
   "id": "795eec9b-0c13-4e69-9356-508603da7c64",
   "metadata": {},
   "outputs": [],
   "source": [
    "@typedispatch\n",
    "def f(x: str, y: str): return 'str'"
   ]
  },
  {
   "cell_type": "code",
   "execution_count": null,
   "id": "25a76952-d53e-4e2c-ab35-a87c3a70271c",
   "metadata": {},
   "outputs": [],
   "source": [
    "@typedispatch\n",
    "def f(x: int, y: str): return 'int'"
   ]
  },
  {
   "cell_type": "code",
   "execution_count": null,
   "id": "2d755366-3a46-4976-b599-a966cb6ccc07",
   "metadata": {},
   "outputs": [
    {
     "data": {
      "text/plain": [
       "12"
      ]
     },
     "execution_count": null,
     "metadata": {},
     "output_type": "execute_result"
    }
   ],
   "source": [
    "f(12, 2)"
   ]
  },
  {
   "cell_type": "code",
   "execution_count": null,
   "id": "7d86250f-7e80-414c-9fba-11cc93d9e496",
   "metadata": {},
   "outputs": [
    {
     "data": {
      "text/plain": [
       "'str'"
      ]
     },
     "execution_count": null,
     "metadata": {},
     "output_type": "execute_result"
    }
   ],
   "source": [
    "f('das', '2')"
   ]
  },
  {
   "cell_type": "markdown",
   "id": "90fc4a7f-30f9-4ad8-b8bf-0fe619ec5579",
   "metadata": {},
   "source": [
    "### Design Patterns"
   ]
  },
  {
   "cell_type": "code",
   "execution_count": null,
   "id": "ed50d23f-2f25-44fd-81e8-7ba3bddf3356",
   "metadata": {},
   "outputs": [],
   "source": [
    "class Database:\n",
    "    _instance = None\n",
    "    \n",
    "    def __new__(cls):\n",
    "        if not cls._instance:\n",
    "            cls._instance = super().__new__(cls)\n",
    "        \n",
    "        return cls._instance"
   ]
  },
  {
   "cell_type": "code",
   "execution_count": null,
   "id": "9b5f3bdb-c145-4a46-b248-77951245929c",
   "metadata": {},
   "outputs": [],
   "source": [
    "db1 = Database()"
   ]
  },
  {
   "cell_type": "code",
   "execution_count": null,
   "id": "ee6b08a9-e74c-4dcd-8299-32977d22e384",
   "metadata": {},
   "outputs": [],
   "source": [
    "db2 = Database()"
   ]
  },
  {
   "cell_type": "code",
   "execution_count": null,
   "id": "c6b73b57-acd7-46fd-b08c-d37c836b57e0",
   "metadata": {},
   "outputs": [
    {
     "data": {
      "text/plain": [
       "True"
      ]
     },
     "execution_count": null,
     "metadata": {},
     "output_type": "execute_result"
    }
   ],
   "source": [
    "id(db1) == id(db2)"
   ]
  },
  {
   "cell_type": "code",
   "execution_count": null,
   "id": "603cbfd0-4631-4170-9cde-e4bc5474a80d",
   "metadata": {},
   "outputs": [],
   "source": []
  }
 ],
 "metadata": {
  "kernelspec": {
   "display_name": "Python 3 (ipykernel)",
   "language": "python",
   "name": "python3"
  }
 },
 "nbformat": 4,
 "nbformat_minor": 5
}
