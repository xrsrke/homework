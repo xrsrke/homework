{
 "cells": [
  {
   "cell_type": "markdown",
   "id": "b0d1bc82-12da-4940-94e0-70008fe0c439",
   "metadata": {},
   "source": [
    "### Design Patterns"
   ]
  },
  {
   "cell_type": "code",
   "execution_count": null,
   "id": "8016d9d8-86d4-4575-b680-89813fe61582",
   "metadata": {},
   "outputs": [],
   "source": [
    "class CustomerSupport:\n",
    "    def __init__(self):\n",
    "        supplier = Supplier()\n",
    "        self.warehouse = Warehouse(supplier)\n",
    "    \n",
    "    def buy(self):\n",
    "        self.warehouse.check_available_product(product)"
   ]
  },
  {
   "cell_type": "markdown",
   "id": "c3f805c7-5451-464b-8430-1a5933ce9b03",
   "metadata": {},
   "source": [
    "##### Open-Closed Principle"
   ]
  },
  {
   "cell_type": "code",
   "execution_count": null,
   "id": "3c859426-da13-403b-99ba-8a96ac12ee2e",
   "metadata": {},
   "outputs": [],
   "source": [
    "from abc import ABC, abstractmethod"
   ]
  },
  {
   "cell_type": "code",
   "execution_count": null,
   "id": "7aa72f59-e1bd-4c2c-b4c6-c2baae4eb80d",
   "metadata": {},
   "outputs": [],
   "source": [
    "class Chargable(ABC):\n",
    "    @abstractmethod\n",
    "    def charge(self): pass"
   ]
  },
  {
   "cell_type": "code",
   "execution_count": null,
   "id": "72ae4baf-d24d-4239-b83b-fe7eb3a605d1",
   "metadata": {},
   "outputs": [],
   "source": [
    "class ChargeElectric(Chargable):\n",
    "    def charge(self): pass"
   ]
  },
  {
   "cell_type": "code",
   "execution_count": null,
   "id": "a3131a75-bc9d-4d4e-a990-6afea1c370e5",
   "metadata": {},
   "outputs": [],
   "source": [
    "class ChargeGasoline(Chargable):\n",
    "    def charge(self): pass"
   ]
  },
  {
   "cell_type": "markdown",
   "id": "5609dd26-1dcf-46e3-aad3-b55b4d83571c",
   "metadata": {},
   "source": [
    "##### Decorator"
   ]
  },
  {
   "cell_type": "code",
   "execution_count": null,
   "id": "e8ec752e-aa23-4f47-9fea-6b11115c08d5",
   "metadata": {},
   "outputs": [],
   "source": [
    "class ColorShape:\n",
    "    def __init__(self, shape, color):\n",
    "        self.shape = shape\n",
    "        self.color = color"
   ]
  },
  {
   "cell_type": "markdown",
   "id": "edcc0ca3-8a5d-4ba8-a57f-9861496ccbeb",
   "metadata": {},
   "source": [
    "##### Lazy Pattern"
   ]
  },
  {
   "cell_type": "code",
   "execution_count": null,
   "id": "3ed94bb7-d418-4d5e-a1d7-66827132c25b",
   "metadata": {},
   "outputs": [],
   "source": [
    "class LazyBitmap:\n",
    "    def __init__(self, filename):\n",
    "        self.filename = filename\n",
    "        self._file = None\n",
    "    \n",
    "    def draw(self):\n",
    "        if not self._file: self._file = Bitmap(self.filename)\n",
    "        self._file.draw()"
   ]
  },
  {
   "cell_type": "markdown",
   "id": "136a49e4-be36-40e6-a922-7c9d99e57cc4",
   "metadata": {},
   "source": [
    "##### Momenta"
   ]
  },
  {
   "cell_type": "code",
   "execution_count": null,
   "id": "f3019d7e-f982-42fc-9cba-d3d1d757bf21",
   "metadata": {},
   "outputs": [],
   "source": [
    "class Momenta:\n",
    "    def __init__(self, balance):\n",
    "        self.balance = balance"
   ]
  },
  {
   "cell_type": "code",
   "execution_count": null,
   "id": "7bdcf407-d042-4297-9733-c5975dd5fff6",
   "metadata": {},
   "outputs": [],
   "source": [
    "class BankAccount:\n",
    "    def __init__(self, balance=0):\n",
    "        self.balance = balance\n",
    "    \n",
    "    def deposite(self, balance):\n",
    "        self.balance += balance\n",
    "        return Momenta(balance)\n",
    "\n",
    "    def restore(self, momenta):\n",
    "        self.balance = momenta.balance"
   ]
  },
  {
   "cell_type": "markdown",
   "id": "3f15399d-88b2-46c8-bd73-9ad33649edac",
   "metadata": {},
   "source": [
    "##### Mediator"
   ]
  },
  {
   "cell_type": "code",
   "execution_count": null,
   "id": "6066b00a-3496-487c-809b-a327443530fa",
   "metadata": {},
   "outputs": [],
   "source": [
    "class ControlTower:\n",
    "    def __init__(self, aircraft, army):\n",
    "        self.aircraft = aircraft\n",
    "        self.army = army\n",
    "    \n",
    "    def get_coordinate_from_aircraft(self):\n",
    "        return self.aircraft.coordinate()\n",
    "    \n",
    "    def get_command_from_army(self):\n",
    "        return self.army.command()"
   ]
  },
  {
   "cell_type": "markdown",
   "id": "aab4fe4e-658a-4a10-ade8-2a67744e497e",
   "metadata": {},
   "source": [
    "##### Strategy"
   ]
  },
  {
   "cell_type": "code",
   "execution_count": null,
   "id": "1b75f780-0ed5-4031-8b5f-9df0eff244dd",
   "metadata": {},
   "outputs": [],
   "source": [
    "from abc import ABC, abstractmethod"
   ]
  },
  {
   "cell_type": "code",
   "execution_count": null,
   "id": "bb4e83dc-8af1-4512-98a9-78059600aed3",
   "metadata": {},
   "outputs": [],
   "source": [
    "class CategoryStrategy(ABC):\n",
    "    @abstractmethod\n",
    "    def do_process(self): pass"
   ]
  },
  {
   "cell_type": "code",
   "execution_count": null,
   "id": "dfea34f3-f793-4089-8cfb-2d659f47ef2a",
   "metadata": {},
   "outputs": [],
   "source": [
    "class CategoryOne(CategoryStrategy):\n",
    "    def do_process(self): pass"
   ]
  },
  {
   "cell_type": "code",
   "execution_count": null,
   "id": "c5c24969-0bde-4fbe-b275-374e36b2aeef",
   "metadata": {},
   "outputs": [],
   "source": [
    "class CategoryTwo(CategoryStrategy):\n",
    "    def do_process(self): pass"
   ]
  },
  {
   "cell_type": "code",
   "execution_count": null,
   "id": "465d6e06-8092-4fac-bb57-40bcf1d6d3c0",
   "metadata": {},
   "outputs": [],
   "source": [
    "class Ticket:\n",
    "    def __init__(self, strategy: CategoryStrategy):\n",
    "        strategy.do_process()"
   ]
  },
  {
   "cell_type": "markdown",
   "id": "4d22a9a1-1a10-405c-9467-1da7e870a2f0",
   "metadata": {},
   "source": [
    "##### Observer"
   ]
  },
  {
   "cell_type": "code",
   "execution_count": null,
   "id": "210ebdff-486b-4186-a2d2-c159b785eeda",
   "metadata": {},
   "outputs": [],
   "source": [
    "class Event:\n",
    "    def __init__(self):\n",
    "        self._subscribers = dict()\n",
    "    \n",
    "    def subscribe(self, event_type, func):\n",
    "        if not event_type in self._subscribers:\n",
    "            self._subscribers[event_type] = []\n",
    "        \n",
    "        self._subscribers[event_type].append(func)\n",
    "    \n",
    "    def post_event(self, event_type, data):\n",
    "        if not event_type in self._subscribers: return\n",
    "        for e in self._subscribers[event_type]:\n",
    "            e(data)"
   ]
  },
  {
   "cell_type": "markdown",
   "id": "654b5526-f246-4b14-94f5-7d43347eec25",
   "metadata": {},
   "source": [
    "### Python"
   ]
  },
  {
   "cell_type": "code",
   "execution_count": null,
   "id": "78ecb2ab-d074-4fa9-833a-e84b461d64cd",
   "metadata": {},
   "outputs": [],
   "source": [
    "class Classroom:\n",
    "    def __init__(self):\n",
    "        self._students = []\n",
    "    \n",
    "    def __setattr__"
   ]
  },
  {
   "cell_type": "code",
   "execution_count": null,
   "id": "7e449452-2d49-47fd-961a-7ac544a9bd9f",
   "metadata": {},
   "outputs": [],
   "source": [
    "class Classroom:\n",
    "    def __init__(self):\n",
    "        self._students = []\n",
    "    \n",
    "    def __setattr__(self, k, v):\n",
    "        if not k.startwiths('_'): self._students[k] = v\n",
    "        super().__setattr__(k, v)"
   ]
  },
  {
   "cell_type": "code",
   "execution_count": null,
   "id": "e3dbbade-5385-44f6-9a6c-9a288f2121b4",
   "metadata": {},
   "outputs": [],
   "source": []
  }
 ],
 "metadata": {
  "kernelspec": {
   "display_name": "Python 3 (ipykernel)",
   "language": "python",
   "name": "python3"
  }
 },
 "nbformat": 4,
 "nbformat_minor": 5
}
