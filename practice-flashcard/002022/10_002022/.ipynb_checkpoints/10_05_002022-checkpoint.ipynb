{
 "cells": [
  {
   "cell_type": "markdown",
   "id": "a640ce01-da23-45a4-b973-fdd4dcfbcb5c",
   "metadata": {},
   "source": [
    "### Deep Learning"
   ]
  },
  {
   "cell_type": "code",
   "execution_count": null,
   "id": "c52254dd-a1c7-4731-b17d-b09e53e5751e",
   "metadata": {},
   "outputs": [],
   "source": [
    "class PrintStepCallback:\n",
    "    def before_calc(self, i):\n",
    "        print(f'about to start i={i}')\n",
    "        ...\n",
    "    \n",
    "    def after_calc(self, i):\n",
    "        pass"
   ]
  },
  {
   "cell_type": "markdown",
   "id": "6cd0a5c3-9968-45be-857c-9a54c0a65f0e",
   "metadata": {},
   "source": [
    "### Design Patterns"
   ]
  },
  {
   "cell_type": "markdown",
   "id": "fd228c64-e5f0-4c39-9047-f48b966a0d19",
   "metadata": {},
   "source": [
    "##### Composite Pattern"
   ]
  },
  {
   "cell_type": "code",
   "execution_count": null,
   "id": "78f35bb5-d3e8-4f0c-90bc-876dc1560d44",
   "metadata": {},
   "outputs": [],
   "source": [
    "from abc import ABC, abstractmethod"
   ]
  },
  {
   "cell_type": "code",
   "execution_count": null,
   "id": "ba8b7875-d47a-41f3-836b-ac45299d9471",
   "metadata": {},
   "outputs": [],
   "source": [
    "class Component(ABC):\n",
    "    @abstractmethod\n",
    "    def implement(self): pass"
   ]
  },
  {
   "cell_type": "code",
   "execution_count": null,
   "id": "7636cdb8-5504-4be8-9788-b6d87b342434",
   "metadata": {},
   "outputs": [],
   "source": [
    "class Screen(Component):\n",
    "    def implement(self): pass"
   ]
  },
  {
   "cell_type": "code",
   "execution_count": null,
   "id": "51c5f771-d998-4c27-8a3b-3463444d447b",
   "metadata": {},
   "outputs": [],
   "source": [
    "class Computer:\n",
    "    def __init__(self, components):\n",
    "        self.components = components\n",
    "    \n",
    "    def activate(self):\n",
    "        pass"
   ]
  },
  {
   "cell_type": "markdown",
   "id": "f5ef8dfe-29cd-4471-98eb-372da3dac915",
   "metadata": {},
   "source": [
    "##### Bridge Pattern"
   ]
  },
  {
   "cell_type": "code",
   "execution_count": null,
   "id": "e6c1a856-9239-462f-8345-98b2a13f1b08",
   "metadata": {},
   "outputs": [],
   "source": [
    "class Linux:\n",
    "    def __init__(self, implementer):\n",
    "        self.implementer = implementer\n",
    "    \n",
    "    def operate(self):\n",
    "        self.implementer.implement()"
   ]
  },
  {
   "cell_type": "code",
   "execution_count": null,
   "id": "0971394b-4941-4f2f-8c65-bd1b2687b90a",
   "metadata": {},
   "outputs": [],
   "source": [
    "class LinuxImplementer:\n",
    "    def implement(self): pass"
   ]
  },
  {
   "cell_type": "markdown",
   "id": "c9bf62c8-4548-402c-bf9c-d029fdb1078d",
   "metadata": {},
   "source": [
    "##### Singleton"
   ]
  },
  {
   "cell_type": "code",
   "execution_count": null,
   "id": "7301ec59-e45c-4501-8a79-6c5113858407",
   "metadata": {},
   "outputs": [],
   "source": [
    "class Database:\n",
    "    \n",
    "    __instance = None\n",
    "    \n",
    "    def __new__(cls):\n",
    "        if not Database.__instance:\n",
    "            Database.__instance = super().__new__(cls)\n",
    "        \n",
    "        return Database.__instance"
   ]
  },
  {
   "cell_type": "code",
   "execution_count": null,
   "id": "6a63b3c6-f4e7-4e86-bf59-1f0b1f4e0348",
   "metadata": {},
   "outputs": [],
   "source": [
    "db1 = Database()"
   ]
  },
  {
   "cell_type": "code",
   "execution_count": null,
   "id": "bc08a306-d81d-4f5b-91d3-76945a0e2df0",
   "metadata": {},
   "outputs": [],
   "source": [
    "db2 = Database()"
   ]
  },
  {
   "cell_type": "code",
   "execution_count": null,
   "id": "7295541f-3120-4c55-a395-2695fc05a2c4",
   "metadata": {},
   "outputs": [
    {
     "data": {
      "text/plain": [
       "140261167759856"
      ]
     },
     "execution_count": null,
     "metadata": {},
     "output_type": "execute_result"
    }
   ],
   "source": [
    "id(db1)"
   ]
  },
  {
   "cell_type": "code",
   "execution_count": null,
   "id": "d007bf2a-912c-4c6c-a21c-9d7e12ab3bf3",
   "metadata": {},
   "outputs": [
    {
     "data": {
      "text/plain": [
       "140261167759856"
      ]
     },
     "execution_count": null,
     "metadata": {},
     "output_type": "execute_result"
    }
   ],
   "source": [
    "id(db2)"
   ]
  },
  {
   "cell_type": "markdown",
   "id": "c549de63-0b0d-4710-a854-1667367a7792",
   "metadata": {},
   "source": [
    "##### Interface Segregation Principle"
   ]
  },
  {
   "cell_type": "code",
   "execution_count": null,
   "id": "cd6355c5-aa5a-4455-be4c-48443d3c3852",
   "metadata": {},
   "outputs": [],
   "source": [
    "class Machine: pass"
   ]
  },
  {
   "cell_type": "code",
   "execution_count": null,
   "id": "9aab1682-5af0-45b4-bdd0-1557e3ec29a5",
   "metadata": {},
   "outputs": [],
   "source": [
    "class PrintMachine(Machine): pass"
   ]
  },
  {
   "cell_type": "code",
   "execution_count": null,
   "id": "852baeea-f129-410d-ad6c-13d4065ceb3c",
   "metadata": {},
   "outputs": [],
   "source": [
    "class ScanMachine(Machine): pass"
   ]
  },
  {
   "cell_type": "code",
   "execution_count": null,
   "id": "543de287-3b90-4215-964f-23255e50b234",
   "metadata": {},
   "outputs": [],
   "source": [
    "class OldFashionPrinter(PrintMachine): pass"
   ]
  },
  {
   "cell_type": "markdown",
   "id": "b95dfc02-fae9-406a-8836-5456c68c6e35",
   "metadata": {},
   "source": [
    "##### Single Responsibility"
   ]
  },
  {
   "cell_type": "code",
   "execution_count": null,
   "id": "6fd7aaed-43c9-4d77-a8e6-31e78bf25a23",
   "metadata": {},
   "outputs": [],
   "source": [
    "from abc import ABC, abstractmethod"
   ]
  },
  {
   "cell_type": "code",
   "execution_count": null,
   "id": "53ff741e-96fe-47e6-b66e-f7da08ea6598",
   "metadata": {},
   "outputs": [],
   "source": [
    "class Charge:\n",
    "    \n",
    "    @abstractmethod\n",
    "    def charge(self): pass"
   ]
  },
  {
   "cell_type": "code",
   "execution_count": null,
   "id": "88ad2079-678f-4132-b756-b227d3646da9",
   "metadata": {},
   "outputs": [],
   "source": [
    "class ElectricCharge(Charge):\n",
    "    def charge(self): pass"
   ]
  },
  {
   "cell_type": "markdown",
   "id": "72795420-acd4-4890-8f83-1b6928f478e6",
   "metadata": {},
   "source": [
    "##### Iterator"
   ]
  },
  {
   "cell_type": "code",
   "execution_count": null,
   "id": "950f1819-98a9-4b7c-9c95-057d3cb62f00",
   "metadata": {},
   "outputs": [],
   "source": [
    "class MusicPlayer:\n",
    "    def __init__(self, songs):\n",
    "        self.songs = songs\n",
    "        self.current = 0\n",
    "    \n",
    "    def has_next(self):\n",
    "        return self.current < len(self.songs)\n",
    "\n",
    "    def next(self):\n",
    "        if has_next == True:\n",
    "            self.current += 1\n",
    "            return self.songs[current]"
   ]
  },
  {
   "cell_type": "markdown",
   "id": "80eb0816-ddb4-4319-a87a-7157149d1fd1",
   "metadata": {},
   "source": [
    "##### State"
   ]
  },
  {
   "cell_type": "code",
   "execution_count": null,
   "id": "57a081c1-4cab-463d-ad62-fd0604d7d17b",
   "metadata": {},
   "outputs": [],
   "source": [
    "from abc import ABC, abstractmethod"
   ]
  },
  {
   "cell_type": "code",
   "execution_count": null,
   "id": "9c710fa6-b349-4fbf-bceb-eeadd2303d3d",
   "metadata": {},
   "outputs": [],
   "source": [
    "class State(ABC):\n",
    "    @abstractmethod\n",
    "    def receive_payment(self): pass\n",
    "    \n",
    "    @abstractmethod\n",
    "    def ship(self): pass"
   ]
  },
  {
   "cell_type": "code",
   "execution_count": null,
   "id": "72828232-5203-4c00-acba-1a9b24f5ec40",
   "metadata": {},
   "outputs": [],
   "source": [
    "class UnpaidState(State):\n",
    "    def __init__(self, context):\n",
    "        self.context = context\n",
    "    \n",
    "    def receive_payment(self):\n",
    "        self.context.state = self.context.paid_state\n",
    "        print('Your payment has been accepted')\n",
    "    \n",
    "    def ship(self):\n",
    "        print(\"Can't ship unpaid order\")"
   ]
  },
  {
   "cell_type": "code",
   "execution_count": null,
   "id": "297086a1-afb1-484c-a6fb-97625cf80255",
   "metadata": {},
   "outputs": [],
   "source": [
    "class PaidState(State):\n",
    "    pass"
   ]
  },
  {
   "cell_type": "code",
   "execution_count": null,
   "id": "a50ad6f4-4621-4066-bc4e-9ff1e4256e96",
   "metadata": {},
   "outputs": [],
   "source": [
    "class ShippedState(State):\n",
    "    pass"
   ]
  },
  {
   "cell_type": "code",
   "execution_count": null,
   "id": "7db07e96-0bac-4c91-b9b9-aa0c90fd9eb1",
   "metadata": {},
   "outputs": [],
   "source": [
    "class Order:\n",
    "    def __init__(self):\n",
    "        self.unpaid_state = UnpaidState(self)\n",
    "        self.paid_state = PaidState(self)\n",
    "        self.shipped_state = ShippedState(self)\n",
    "        \n",
    "        self.state = self.unpaid_state\n",
    "    \n",
    "    def receive_payment(self):\n",
    "        self.state.receive_payment()\n",
    "    \n",
    "    def ship(self):\n",
    "        self.state.ship()"
   ]
  },
  {
   "cell_type": "markdown",
   "id": "481784ca-effb-4a89-8556-7e68282e3f68",
   "metadata": {},
   "source": [
    "##### Chain of Responsibility"
   ]
  },
  {
   "cell_type": "code",
   "execution_count": null,
   "id": "1f1201f0-6e9f-4978-ae8f-faf94f7396ad",
   "metadata": {},
   "outputs": [],
   "source": [
    "class CreatureModifier:\n",
    "    def __init__(self, creature):\n",
    "        self.creature = creature\n",
    "        self.next_modifier = None\n",
    "    \n",
    "    def add_modifier(self, modifier):\n",
    "        if next_modifier == None:\n",
    "            self.next_modifier = modifier\n",
    "        else:\n",
    "            self.next_modifier.add_modifier(modifier)\n",
    "    \n",
    "    def handle(self):\n",
    "        if self.next_modifier == None: return\n",
    "        self.next_modifier.handle()"
   ]
  },
  {
   "cell_type": "code",
   "execution_count": null,
   "id": "1508a336-b7b3-42e6-aa6d-1d4816b96ff1",
   "metadata": {},
   "outputs": [],
   "source": [
    "class Handler:\n",
    "    def __init__(self):\n",
    "        self.next_handler = None\n",
    "\n",
    "    def set_next(self, next_handler):\n",
    "        self.next_handler = next_handler\n",
    "        return next_handler\n",
    "    \n",
    "    def handle(self):\n",
    "        pass"
   ]
  },
  {
   "cell_type": "markdown",
   "id": "a1f9ed5c-7a8d-4362-a4ab-917f999fbfaf",
   "metadata": {},
   "source": [
    "##### Template Method"
   ]
  },
  {
   "cell_type": "code",
   "execution_count": null,
   "id": "dccfd3a0-5bb2-43ef-b65f-f89cab2798d1",
   "metadata": {},
   "outputs": [],
   "source": [
    "class Report(ABC):\n",
    "    def make_report(self):\n",
    "        print(f'Company: {self.company}')\n",
    "        self.make_body_report()\n",
    "    \n",
    "    @abstractmethod\n",
    "    def make_body_report(self):\n",
    "        pass"
   ]
  },
  {
   "cell_type": "code",
   "execution_count": null,
   "id": "e5e8a2ab-d3f9-442f-a48f-7abe626102eb",
   "metadata": {},
   "outputs": [],
   "source": [
    "class SalesReport(Report):\n",
    "    def __init__(self, sales):\n",
    "        self.company = company\n",
    "        self.sales = sales\n",
    "    \n",
    "    def make_body_report(self):\n",
    "        print(f'Sales: {self.sales}')"
   ]
  },
  {
   "cell_type": "markdown",
   "id": "0d18a099-94e2-4e42-93a6-350d0124d249",
   "metadata": {},
   "source": [
    "### Python"
   ]
  },
  {
   "cell_type": "code",
   "execution_count": null,
   "id": "b79512d1-1522-4bf0-a09f-4c8c408c70dc",
   "metadata": {},
   "outputs": [],
   "source": [
    "from typing import Callable"
   ]
  },
  {
   "cell_type": "code",
   "execution_count": null,
   "id": "0db55111-e394-48ab-b720-5b3a1a7740da",
   "metadata": {},
   "outputs": [],
   "source": [
    "def foo() -> Callable[[int, int], int]:\n",
    "    def add(x: int, y: int) -> int:\n",
    "        return x + y\n",
    "    return add"
   ]
  },
  {
   "cell_type": "code",
   "execution_count": null,
   "id": "5205afc1-f864-4149-8676-c0263f0813c2",
   "metadata": {},
   "outputs": [],
   "source": [
    "from typing import Sequence"
   ]
  },
  {
   "cell_type": "code",
   "execution_count": null,
   "id": "30e295c6-ae65-441e-94e1-c055710ecb2b",
   "metadata": {},
   "outputs": [],
   "source": [
    "def foo(collections: Sequence[str]) -> None:\n",
    "    pass"
   ]
  },
  {
   "cell_type": "code",
   "execution_count": null,
   "id": "f1ece597-f7b8-44f7-8024-1bcaff9e4c5b",
   "metadata": {},
   "outputs": [],
   "source": [
    "H2O: Compound = Compound()"
   ]
  },
  {
   "cell_type": "code",
   "execution_count": null,
   "id": "72e13e3c-6e34-448d-bb53-049864a2bba4",
   "metadata": {},
   "outputs": [],
   "source": [
    "from typing import Any, Union"
   ]
  },
  {
   "cell_type": "code",
   "execution_count": null,
   "id": "ccfb21f7-9529-4172-89fc-5bba129c7f4a",
   "metadata": {},
   "outputs": [],
   "source": [
    "def hello(whatever: Any) -> str:\n",
    "    pass"
   ]
  },
  {
   "cell_type": "code",
   "execution_count": null,
   "id": "cf7ead47-b967-4e8d-93fd-6a129a9150c8",
   "metadata": {},
   "outputs": [
    {
     "ename": "SyntaxError",
     "evalue": "invalid syntax (2729805505.py, line 1)",
     "output_type": "error",
     "traceback": [
      "\u001b[0;36m  Input \u001b[0;32mIn [74]\u001b[0;36m\u001b[0m\n\u001b[0;31m    x: list[Union[str, float, int]] =\u001b[0m\n\u001b[0m                                      ^\u001b[0m\n\u001b[0;31mSyntaxError\u001b[0m\u001b[0;31m:\u001b[0m invalid syntax\n"
     ]
    }
   ],
   "source": [
    "x: list[Union[str, float, int]] = "
   ]
  },
  {
   "cell_type": "code",
   "execution_count": null,
   "id": "908ab3a4-1ec3-4087-8b99-b9e43e611618",
   "metadata": {},
   "outputs": [],
   "source": [
    "def foo(func) -> str:\n",
    "    return func(1, 2)"
   ]
  },
  {
   "cell_type": "code",
   "execution_count": null,
   "id": "8345782b-9c87-4a7c-93cc-1407d0540311",
   "metadata": {},
   "outputs": [],
   "source": [
    "from typing import Optional"
   ]
  },
  {
   "cell_type": "code",
   "execution_count": null,
   "id": "d0d61cca-5be1-4421-b19e-1af3ec838823",
   "metadata": {},
   "outputs": [],
   "source": [
    "def is_valid(value: Optional[bool] = False) -> bool:\n",
    "    return value"
   ]
  },
  {
   "cell_type": "code",
   "execution_count": null,
   "id": "f5fd1c09-0ea4-4676-9907-baa83c4549ba",
   "metadata": {},
   "outputs": [],
   "source": [
    "x: tuple[int, str, float]"
   ]
  },
  {
   "cell_type": "code",
   "execution_count": null,
   "id": "9d324b16-00d6-4379-9ca9-2203f2c62f9a",
   "metadata": {},
   "outputs": [],
   "source": [
    "x: list[list[int]]"
   ]
  },
  {
   "cell_type": "code",
   "execution_count": null,
   "id": "fc34a6bb-dfb0-47e9-898c-4af1ee7291c2",
   "metadata": {},
   "outputs": [],
   "source": [
    "my_dict = [k: v**2 for k, v in mm.items()]"
   ]
  },
  {
   "cell_type": "code",
   "execution_count": null,
   "id": "b99f6c2a-339e-43e0-a390-99359c54b2c8",
   "metadata": {},
   "outputs": [],
   "source": [
    "Vector = list[float]"
   ]
  },
  {
   "cell_type": "code",
   "execution_count": null,
   "id": "ef416478-0706-4526-9c18-9bc7bbec594d",
   "metadata": {},
   "outputs": [],
   "source": [
    "def coordinate(v: Vector) -> Vector:\n",
    "    pass"
   ]
  },
  {
   "cell_type": "code",
   "execution_count": null,
   "id": "70da4b1f-59da-4ef9-80da-634fcf9f6a95",
   "metadata": {},
   "outputs": [],
   "source": [
    "def foo(func: Callable[[int, int, Optional[int]], int]) -> str:\n",
    "    return func(1, 2)"
   ]
  },
  {
   "cell_type": "code",
   "execution_count": null,
   "id": "d5bbd448-2d2d-454f-b6ab-edc6a0f1789e",
   "metadata": {},
   "outputs": [],
   "source": [
    "x: list[list[int]]"
   ]
  },
  {
   "cell_type": "code",
   "execution_count": null,
   "id": "0bbe6689-c480-429f-961d-45ba670cfcd5",
   "metadata": {},
   "outputs": [],
   "source": [
    "x: set[str]"
   ]
  },
  {
   "cell_type": "code",
   "execution_count": null,
   "id": "ea153da7-1876-44fc-a6b4-da8514ee3bc8",
   "metadata": {},
   "outputs": [],
   "source": [
    "class Classroom:\n",
    "    def __init__(self):\n",
    "        self._students = {}\n",
    "    \n",
    "    def __setattr__(self, k, v):\n",
    "        if not k.startswith('_'): self._students[k] = v\n",
    "        super().__setattr__(k, v)"
   ]
  },
  {
   "cell_type": "code",
   "execution_count": null,
   "id": "79158c14-cd1e-444a-8d7f-7ca1d8ad059b",
   "metadata": {},
   "outputs": [],
   "source": [
    "c = Classroom()"
   ]
  },
  {
   "cell_type": "code",
   "execution_count": null,
   "id": "d147572a-0b88-484d-8a5b-a925f0ba8edf",
   "metadata": {},
   "outputs": [],
   "source": [
    "c.xxx = 1"
   ]
  },
  {
   "cell_type": "code",
   "execution_count": null,
   "id": "ad7a491b-83fd-4377-bfc2-d080fbac20e9",
   "metadata": {},
   "outputs": [
    {
     "data": {
      "text/plain": [
       "1"
      ]
     },
     "execution_count": null,
     "metadata": {},
     "output_type": "execute_result"
    }
   ],
   "source": [
    "c.xxx"
   ]
  },
  {
   "cell_type": "code",
   "execution_count": null,
   "id": "9b3e3a50-ca93-49d8-a26a-0da3dc749d24",
   "metadata": {},
   "outputs": [
    {
     "data": {
      "text/plain": [
       "{'xxx': 1}"
      ]
     },
     "execution_count": null,
     "metadata": {},
     "output_type": "execute_result"
    }
   ],
   "source": [
    "c._students"
   ]
  },
  {
   "cell_type": "code",
   "execution_count": null,
   "id": "3a793026-a33c-42cd-9542-205638488572",
   "metadata": {},
   "outputs": [],
   "source": [
    "def is_valid(value: Optional[bool] = False) -> bool:\n",
    "    return value"
   ]
  },
  {
   "cell_type": "code",
   "execution_count": null,
   "id": "29639616-b63c-41c1-8326-38e18c7aa5d3",
   "metadata": {},
   "outputs": [],
   "source": [
    "class MetaStudent:\n",
    "    def greet(self):\n",
    "        return \"Hi\""
   ]
  },
  {
   "cell_type": "code",
   "execution_count": null,
   "id": "038ad735-b0bd-48ca-8e56-5aef1a9e8846",
   "metadata": {},
   "outputs": [],
   "source": [
    "MetaStudent = type('MetaStudent', (), {\"major\": \"chem\"})"
   ]
  },
  {
   "cell_type": "markdown",
   "id": "70942bed-0609-4b5b-901c-ff5c3b70a48f",
   "metadata": {},
   "source": [
    "### Sympy"
   ]
  },
  {
   "cell_type": "code",
   "execution_count": null,
   "id": "c58d18dd-e4f5-4ffd-b784-cbf1dc6d9ca9",
   "metadata": {},
   "outputs": [],
   "source": [
    "import sympy as smp"
   ]
  },
  {
   "cell_type": "code",
   "execution_count": null,
   "id": "a3d247ef-34c5-414d-a400-f50f6e85680a",
   "metadata": {},
   "outputs": [],
   "source": [
    "x = smp.symbols('x')"
   ]
  },
  {
   "cell_type": "code",
   "execution_count": null,
   "id": "b7cb15eb-b669-4012-8f8d-261329da7cc0",
   "metadata": {},
   "outputs": [],
   "source": [
    "f, g = smp.symbols('f g', cls=smp.Function)"
   ]
  },
  {
   "cell_type": "code",
   "execution_count": null,
   "id": "bdbf0d3d-cdc0-4d18-a4eb-dfb793eb47e3",
   "metadata": {},
   "outputs": [],
   "source": [
    "g = g(x)"
   ]
  },
  {
   "cell_type": "code",
   "execution_count": null,
   "id": "867ecdfd-9d90-4903-acce-970d4354c080",
   "metadata": {},
   "outputs": [],
   "source": [
    "f = f(x + g)"
   ]
  },
  {
   "cell_type": "code",
   "execution_count": null,
   "id": "73392bb9-2e94-4009-b018-d1a5f319d259",
   "metadata": {},
   "outputs": [
    {
     "data": {
      "text/latex": [
       "$\\displaystyle f{\\left(x + g{\\left(x \\right)} \\right)}$"
      ],
      "text/plain": [
       "f(x + g(x))"
      ]
     },
     "execution_count": null,
     "metadata": {},
     "output_type": "execute_result"
    }
   ],
   "source": [
    "f"
   ]
  },
  {
   "cell_type": "code",
   "execution_count": null,
   "id": "211d2ff9-93e4-42da-a06d-82216640ca10",
   "metadata": {},
   "outputs": [],
   "source": [
    "expr.subs({'y': k, 'x': 3})"
   ]
  }
 ],
 "metadata": {
  "kernelspec": {
   "display_name": "Python 3 (ipykernel)",
   "language": "python",
   "name": "python3"
  }
 },
 "nbformat": 4,
 "nbformat_minor": 5
}
