{
 "cells": [
  {
   "cell_type": "markdown",
   "id": "5cfb9478-e2d3-4345-b419-fffc2b6349ce",
   "metadata": {},
   "source": [
    "### Deep Learning"
   ]
  },
  {
   "cell_type": "code",
   "execution_count": null,
   "id": "38308564-035c-4e2e-9957-08e9090e50d3",
   "metadata": {},
   "outputs": [],
   "source": [
    "import torch"
   ]
  },
  {
   "cell_type": "code",
   "execution_count": null,
   "id": "2aec2a96-274d-422a-8129-35d992235a4a",
   "metadata": {},
   "outputs": [],
   "source": [
    "def dropout_layer(x, dropout):\n",
    "    assert 0 <= dropout <= 1\n",
    "    \n",
    "    if dropout == 1: return torch.zeros_like(x)\n",
    "\n",
    "    mask = (torch.randn(x.shape) > dropout).float()\n",
    "    \n",
    "    return (x * mask) / (1 - dropout)"
   ]
  },
  {
   "cell_type": "code",
   "execution_count": null,
   "id": "552aea9f-d68d-48db-8425-ef3c73baa700",
   "metadata": {},
   "outputs": [],
   "source": [
    "x = torch.arange(1, 17).reshape(4, 4)"
   ]
  },
  {
   "cell_type": "code",
   "execution_count": null,
   "id": "49ef1c02-f51f-4829-a710-b8ae52bf489f",
   "metadata": {},
   "outputs": [
    {
     "data": {
      "text/plain": [
       "tensor([[ 1,  2,  3,  4],\n",
       "        [ 5,  6,  7,  8],\n",
       "        [ 9, 10, 11, 12],\n",
       "        [13, 14, 15, 16]])"
      ]
     },
     "execution_count": null,
     "metadata": {},
     "output_type": "execute_result"
    }
   ],
   "source": [
    "x"
   ]
  },
  {
   "cell_type": "code",
   "execution_count": null,
   "id": "9ca45da4-9c5e-4ac9-8681-7ba7a121c92d",
   "metadata": {},
   "outputs": [
    {
     "data": {
      "text/plain": [
       "tensor([[ 0.0000,  0.0000,  0.0000,  5.0000],\n",
       "        [ 0.0000,  0.0000,  0.0000,  0.0000],\n",
       "        [11.2500, 12.5000, 13.7500,  0.0000],\n",
       "        [16.2500, 17.5000, 18.7500,  0.0000]])"
      ]
     },
     "execution_count": null,
     "metadata": {},
     "output_type": "execute_result"
    }
   ],
   "source": [
    "dropout_layer(x, 0.2)"
   ]
  },
  {
   "cell_type": "code",
   "execution_count": null,
   "id": "39a6395a-f034-4f74-85de-dc4b3f065973",
   "metadata": {},
   "outputs": [
    {
     "data": {
      "text/plain": [
       "tensor([[ 1.,  2.,  0.,  0.],\n",
       "        [ 0.,  6.,  7.,  0.],\n",
       "        [ 0.,  0.,  0., 12.],\n",
       "        [13., 14., 15.,  0.]])"
      ]
     },
     "execution_count": null,
     "metadata": {},
     "output_type": "execute_result"
    }
   ],
   "source": [
    "dropout_layer(x, 0)"
   ]
  },
  {
   "cell_type": "code",
   "execution_count": null,
   "id": "f7222d0e-023c-4b05-b06b-19c6005c843f",
   "metadata": {},
   "outputs": [
    {
     "ename": "NameError",
     "evalue": "name 'DataBlock' is not defined",
     "output_type": "error",
     "traceback": [
      "\u001b[0;31m---------------------------------------------------------------------------\u001b[0m",
      "\u001b[0;31mNameError\u001b[0m                                 Traceback (most recent call last)",
      "Input \u001b[0;32mIn [8]\u001b[0m, in \u001b[0;36m<cell line: 1>\u001b[0;34m()\u001b[0m\n\u001b[0;32m----> 1\u001b[0m dblock \u001b[38;5;241m=\u001b[39m \u001b[43mDataBlock\u001b[49m(get_x \u001b[38;5;241m=\u001b[39m \u001b[38;5;28;01mlambda\u001b[39;00m r: r[\u001b[38;5;124m'\u001b[39m\u001b[38;5;124mfname\u001b[39m\u001b[38;5;124m'\u001b[39m],\n\u001b[1;32m      2\u001b[0m                    get_y \u001b[38;5;241m=\u001b[39m \u001b[38;5;28;01mlambda\u001b[39;00m r: r[\u001b[38;5;124m'\u001b[39m\u001b[38;5;124mlabels\u001b[39m\u001b[38;5;124m'\u001b[39m])\n",
      "\u001b[0;31mNameError\u001b[0m: name 'DataBlock' is not defined"
     ]
    }
   ],
   "source": [
    "dblock = DataBlock(get_x = lambda r: r['fname'],\n",
    "                   get_y = lambda r: r['labels'])"
   ]
  },
  {
   "cell_type": "code",
   "execution_count": null,
   "id": "920f5180-d607-4ba1-92de-f83cd063d1b4",
   "metadata": {},
   "outputs": [],
   "source": [
    "dsets = dblock.datasets(df)"
   ]
  },
  {
   "cell_type": "code",
   "execution_count": null,
   "id": "dee46f27-c01a-4163-84a3-2b81b17ffbad",
   "metadata": {},
   "outputs": [],
   "source": [
    "spacy = WordTokenizier()"
   ]
  },
  {
   "cell_type": "code",
   "execution_count": null,
   "id": "2d6f8732-4f89-44ee-bac1-64c3bff78f29",
   "metadata": {},
   "outputs": [],
   "source": [
    "toks = spacy([content])"
   ]
  },
  {
   "cell_type": "code",
   "execution_count": null,
   "id": "4e76f799-760e-4d9e-a7a1-7600d9dbbdb5",
   "metadata": {},
   "outputs": [],
   "source": [
    "user_factors = torch.randn(n_users, 5)"
   ]
  },
  {
   "cell_type": "code",
   "execution_count": null,
   "id": "888b6a24-a271-4449-bc75-2c80e9d79a32",
   "metadata": {},
   "outputs": [],
   "source": [
    "movie_factors = torch.randn(n_movies, 5)"
   ]
  },
  {
   "cell_type": "code",
   "execution_count": null,
   "id": "61724ffd-f3ae-48b5-a805-ca628c2473f0",
   "metadata": {},
   "outputs": [],
   "source": [
    "from torch import nn"
   ]
  },
  {
   "cell_type": "code",
   "execution_count": null,
   "id": "d926e767-b8fa-4c9a-9d2c-f2a6fd7dc078",
   "metadata": {},
   "outputs": [],
   "source": [
    "class DotProduct(nn.Module):\n",
    "    def __init__(self, n_users, n_movies, n_factors):\n",
    "        super().__init__()\n",
    "        self.user_factors = nn.Embedding(n_users, n_factors)\n",
    "        self.movie_factors = nn.Embedding(n_movies, n_factors)"
   ]
  },
  {
   "cell_type": "code",
   "execution_count": null,
   "id": "60e5e8cb-1767-40d4-9a09-7230d43faa52",
   "metadata": {},
   "outputs": [],
   "source": [
    "def fill_normal(x):\n",
    "    return x.normal_(mean=0, std=1)"
   ]
  },
  {
   "cell_type": "code",
   "execution_count": null,
   "id": "6da5d9a1-f69d-4103-9328-2fd0fa0d3482",
   "metadata": {},
   "outputs": [],
   "source": [
    "(filter_1 * small_part).sum() + (filter_2 * small_part).sum()b"
   ]
  },
  {
   "cell_type": "code",
   "execution_count": null,
   "id": "f62e56ea-3139-493f-9154-7dad199ff5fd",
   "metadata": {},
   "outputs": [],
   "source": [
    "def normalize(x):\n",
    "    return (x-x.mean())/x.std()"
   ]
  },
  {
   "cell_type": "code",
   "execution_count": null,
   "id": "f81e121e-ce3e-483c-b2ca-86e54202238e",
   "metadata": {},
   "outputs": [],
   "source": [
    "x = torch.arange(1, 17).reshape(4, 4).float()"
   ]
  },
  {
   "cell_type": "code",
   "execution_count": null,
   "id": "35163a18-d5a7-41ce-9f6b-32ca30ff933a",
   "metadata": {},
   "outputs": [
    {
     "data": {
      "text/plain": [
       "tensor([[ 1.,  2.,  3.,  4.],\n",
       "        [ 5.,  6.,  7.,  8.],\n",
       "        [ 9., 10., 11., 12.],\n",
       "        [13., 14., 15., 16.]])"
      ]
     },
     "execution_count": null,
     "metadata": {},
     "output_type": "execute_result"
    }
   ],
   "source": [
    "x"
   ]
  },
  {
   "cell_type": "code",
   "execution_count": null,
   "id": "93612aef-75c0-4110-a434-b3c5ac62b81c",
   "metadata": {},
   "outputs": [],
   "source": [
    "x_new = normalize(x)"
   ]
  },
  {
   "cell_type": "code",
   "execution_count": null,
   "id": "2cab20d4-e031-438a-8885-4824a17ec642",
   "metadata": {},
   "outputs": [
    {
     "data": {
      "text/plain": [
       "tensor(0.)"
      ]
     },
     "execution_count": null,
     "metadata": {},
     "output_type": "execute_result"
    }
   ],
   "source": [
    "x_new.mean()"
   ]
  },
  {
   "cell_type": "code",
   "execution_count": null,
   "id": "8ec65e15-3ae1-4684-9402-19cb68fbea35",
   "metadata": {},
   "outputs": [
    {
     "data": {
      "text/plain": [
       "tensor(1.0000)"
      ]
     },
     "execution_count": null,
     "metadata": {},
     "output_type": "execute_result"
    }
   ],
   "source": [
    "x_new.std()"
   ]
  },
  {
   "cell_type": "code",
   "execution_count": null,
   "id": "d48b1ca2-972e-4468-8b00-3238bf94ce24",
   "metadata": {},
   "outputs": [],
   "source": [
    "def frobenius_norm(x):\n",
    "    return (x*x).sum().sqrt()"
   ]
  },
  {
   "cell_type": "code",
   "execution_count": null,
   "id": "b75fec82-ae0e-48b8-9320-e71843273b7f",
   "metadata": {},
   "outputs": [
    {
     "data": {
      "text/plain": [
       "tensor(38.6782)"
      ]
     },
     "execution_count": null,
     "metadata": {},
     "output_type": "execute_result"
    }
   ],
   "source": [
    "frobenius_norm(x)"
   ]
  },
  {
   "cell_type": "markdown",
   "id": "fc1ca7f1-b4f7-4313-ba42-43d7e77a8211",
   "metadata": {},
   "source": [
    "### Fastcore"
   ]
  },
  {
   "cell_type": "code",
   "execution_count": null,
   "id": "d942c3c0-b204-4c98-bce6-0bcff6a03fc1",
   "metadata": {},
   "outputs": [],
   "source": [
    "from fastcore.test import *"
   ]
  },
  {
   "cell_type": "code",
   "execution_count": null,
   "id": "7248fb10-5075-49a0-bbeb-1f05d512c6f4",
   "metadata": {},
   "outputs": [],
   "source": [
    "class Comet: pass"
   ]
  },
  {
   "cell_type": "code",
   "execution_count": null,
   "id": "317ba16b-cbe8-46c0-b72a-6d1785ccee30",
   "metadata": {},
   "outputs": [],
   "source": [
    "c1 = Comet()"
   ]
  },
  {
   "cell_type": "code",
   "execution_count": null,
   "id": "ed88f948-f395-4ce8-a3d6-b2f9e302cd81",
   "metadata": {},
   "outputs": [],
   "source": [
    "c2 = c1"
   ]
  },
  {
   "cell_type": "code",
   "execution_count": null,
   "id": "0279d946-aceb-441e-a1cd-a3e9f1c0883a",
   "metadata": {},
   "outputs": [],
   "source": [
    "test_is(c1, c2)"
   ]
  },
  {
   "cell_type": "code",
   "execution_count": null,
   "id": "85826743-bf2a-4229-a622-2c8fcb25904f",
   "metadata": {},
   "outputs": [],
   "source": [
    "from fastcore.meta import *"
   ]
  },
  {
   "cell_type": "code",
   "execution_count": null,
   "id": "28e1848e-0c4d-4005-b62b-809b084e8cf2",
   "metadata": {},
   "outputs": [],
   "source": [
    "@funcs_kwargs\n",
    "class DataLoader:\n",
    "    _methods = ['before_batch', 'after_batch']\n",
    "    \n",
    "    def __init__(self, **kwargs): pass"
   ]
  },
  {
   "cell_type": "code",
   "execution_count": null,
   "id": "de61d240-a803-46ad-a184-b823c9c141a4",
   "metadata": {},
   "outputs": [],
   "source": [
    "def before_batch(): pass"
   ]
  },
  {
   "cell_type": "code",
   "execution_count": null,
   "id": "c55e9360-a3e8-4829-b2d5-76915098087a",
   "metadata": {},
   "outputs": [],
   "source": [
    "dataloader = DataLoader(before_batch=before_batch, after_batch=before_batch)"
   ]
  },
  {
   "cell_type": "code",
   "execution_count": null,
   "id": "13031804-d715-4cce-9199-81298fe027d4",
   "metadata": {},
   "outputs": [],
   "source": [
    "dataloader.before_batch()"
   ]
  },
  {
   "cell_type": "code",
   "execution_count": null,
   "id": "5b256ae2-0116-4bfa-9fc1-7ff12df97b80",
   "metadata": {},
   "outputs": [],
   "source": [
    "from fastcore.meta import *"
   ]
  },
  {
   "cell_type": "code",
   "execution_count": null,
   "id": "21ae424d-63ff-48a4-b386-a2900ccf65ae",
   "metadata": {},
   "outputs": [],
   "source": [
    "@funcs_kwargs\n",
    "class DataLoader:\n",
    "    _methods = ['before_batch', 'after_batch']\n",
    "    \n",
    "    def __init__(self, **kwargs): pass"
   ]
  },
  {
   "cell_type": "code",
   "execution_count": null,
   "id": "1ddb7729-6e42-48bb-b13d-9fae3904371d",
   "metadata": {},
   "outputs": [],
   "source": [
    "dloader = DataLoader(before_batch=lambda:1, after_batch=lambda:2)"
   ]
  },
  {
   "cell_type": "code",
   "execution_count": null,
   "id": "54fc3b1d-52aa-4ba9-a082-a609c38f3fad",
   "metadata": {},
   "outputs": [
    {
     "data": {
      "text/plain": [
       "2"
      ]
     },
     "execution_count": null,
     "metadata": {},
     "output_type": "execute_result"
    }
   ],
   "source": [
    "dloader.after_batch()"
   ]
  },
  {
   "cell_type": "code",
   "execution_count": null,
   "id": "20bcedbe-8a58-4c3a-873f-c71a7541681f",
   "metadata": {},
   "outputs": [],
   "source": [
    "from fastcore.basics import *"
   ]
  },
  {
   "cell_type": "code",
   "execution_count": null,
   "id": "0220882d-150b-440c-967a-294bf6026494",
   "metadata": {},
   "outputs": [],
   "source": [
    "class WebPage:\n",
    "    def __init__(self, title):\n",
    "        self.title = title"
   ]
  },
  {
   "cell_type": "code",
   "execution_count": null,
   "id": "4292fe17-5540-4d51-b382-25c1c92a1431",
   "metadata": {},
   "outputs": [],
   "source": [
    "class _ProductPage(GetAttr):\n",
    "    def __init__(self, page, price):\n",
    "        self.default = page\n",
    "        self.price = price"
   ]
  },
  {
   "cell_type": "code",
   "execution_count": null,
   "id": "0dcb4421-26dc-46cc-abce-0e0d8fa6fdff",
   "metadata": {},
   "outputs": [],
   "source": [
    "w = WebPage('X')"
   ]
  },
  {
   "cell_type": "code",
   "execution_count": null,
   "id": "ad69d2b1-96a5-4fee-b71e-8cce426ded0c",
   "metadata": {},
   "outputs": [],
   "source": [
    "p = _ProductPage(w, 100)"
   ]
  },
  {
   "cell_type": "code",
   "execution_count": null,
   "id": "544fffa2-9593-42dc-a501-1d113d3e8419",
   "metadata": {},
   "outputs": [
    {
     "data": {
      "text/plain": [
       "'X'"
      ]
     },
     "execution_count": null,
     "metadata": {},
     "output_type": "execute_result"
    }
   ],
   "source": [
    "p.title"
   ]
  },
  {
   "cell_type": "code",
   "execution_count": null,
   "id": "145e92ab-8a1a-48eb-80fc-a82c221b5dff",
   "metadata": {},
   "outputs": [],
   "source": [
    "from fastcore.dispatch import *"
   ]
  },
  {
   "cell_type": "code",
   "execution_count": null,
   "id": "12761e65-763f-4921-9fe5-91559fb8286d",
   "metadata": {},
   "outputs": [],
   "source": [
    "@typedispatch\n",
    "def f(a: str, b: str): return 'text'"
   ]
  },
  {
   "cell_type": "code",
   "execution_count": null,
   "id": "0a687d69-269a-4937-a93a-d6e107347488",
   "metadata": {},
   "outputs": [],
   "source": [
    "@typedispatch\n",
    "def f(a: int, b: int): return 'ints'"
   ]
  },
  {
   "cell_type": "code",
   "execution_count": null,
   "id": "62d91751-e857-4640-b7fe-fb50ba74e85d",
   "metadata": {},
   "outputs": [
    {
     "data": {
      "text/plain": [
       "'ints'"
      ]
     },
     "execution_count": null,
     "metadata": {},
     "output_type": "execute_result"
    }
   ],
   "source": [
    "f(2, 3)"
   ]
  },
  {
   "cell_type": "code",
   "execution_count": null,
   "id": "b755833b-e86b-4214-b6a5-5fd6499c2e4e",
   "metadata": {},
   "outputs": [
    {
     "data": {
      "text/plain": [
       "'text'"
      ]
     },
     "execution_count": null,
     "metadata": {},
     "output_type": "execute_result"
    }
   ],
   "source": [
    "f('a', 'b')"
   ]
  },
  {
   "cell_type": "code",
   "execution_count": null,
   "id": "496740db-f9c2-43d1-a418-4020a69a4adf",
   "metadata": {},
   "outputs": [],
   "source": [
    "@use_kwargs_dict(y=2)\n",
    "def foo(a, b=1, **kwargs): pass"
   ]
  },
  {
   "cell_type": "code",
   "execution_count": null,
   "id": "aa2dbf8d-a9ab-4948-ba1f-f24a14a7f83b",
   "metadata": {},
   "outputs": [],
   "source": [
    "import inspect"
   ]
  },
  {
   "cell_type": "code",
   "execution_count": null,
   "id": "3a31560e-8062-4816-9987-bf4114b57754",
   "metadata": {},
   "outputs": [
    {
     "data": {
      "text/plain": [
       "<Signature (a, b=1, *, y=2)>"
      ]
     },
     "execution_count": null,
     "metadata": {},
     "output_type": "execute_result"
    }
   ],
   "source": [
    "inspect.signature(foo)"
   ]
  },
  {
   "cell_type": "markdown",
   "id": "f64ade03-5414-4d6a-a781-c9871e77efe6",
   "metadata": {},
   "source": [
    "### SQL"
   ]
  },
  {
   "cell_type": "code",
   "execution_count": null,
   "id": "29a5799c-cb28-4860-911e-4fc259b3584d",
   "metadata": {},
   "outputs": [],
   "source": [
    "SELECT * FROM users WHERE rank='one' OR rank=1"
   ]
  },
  {
   "cell_type": "code",
   "execution_count": null,
   "id": "11f617b3-473c-49cd-9215-8b9cce4918ad",
   "metadata": {},
   "outputs": [],
   "source": [
    "SELECT names AS 'name' FROM users"
   ]
  },
  {
   "cell_type": "code",
   "execution_count": null,
   "id": "1342c6cb-00bd-462f-b80a-7f3d10dc22fe",
   "metadata": {},
   "outputs": [],
   "source": [
    "SELECT * FROM users WHERE rank='one' AND files=6"
   ]
  },
  {
   "cell_type": "code",
   "execution_count": null,
   "id": "b408e0d0-fd08-4a9d-8067-c241fc77a21c",
   "metadata": {},
   "outputs": [],
   "source": [
    "SELECT * from files WHERE status='DELETED'"
   ]
  },
  {
   "cell_type": "markdown",
   "id": "9326874b-d476-4f8c-ba2f-87d356e26ec1",
   "metadata": {},
   "source": [
    "### Python"
   ]
  },
  {
   "cell_type": "code",
   "execution_count": null,
   "id": "9333db8c-4dbe-46e3-824c-107011e99e26",
   "metadata": {},
   "outputs": [],
   "source": [
    "from dataclasses import dataclass"
   ]
  },
  {
   "cell_type": "code",
   "execution_count": null,
   "id": "503861e2-3b41-4f29-a204-c086f7ed9d97",
   "metadata": {},
   "outputs": [],
   "source": [
    "@dataclass\n",
    "class BrainImplant:\n",
    "    supervision: str\n",
    "    price: int\n",
    "    manufature: str\n",
    "    advance: bool = None\n",
    "    \n",
    "    ADVANCE_SUPERVISION = ('')\n",
    "    \n",
    "    def __post_init__(self):\n",
    "        if supervision in ADVANCE_SUPERVISION:\n",
    "            BrainImplant.advance = True"
   ]
  },
  {
   "cell_type": "code",
   "execution_count": null,
   "id": "7ae4d94a-9852-4717-9bb8-a2295d32b0c6",
   "metadata": {},
   "outputs": [],
   "source": [
    "#!/bin/bash"
   ]
  },
  {
   "cell_type": "code",
   "execution_count": null,
   "id": "4a79660d-d1f2-4975-a79d-2fcb3ef43996",
   "metadata": {},
   "outputs": [],
   "source": [
    "from typing import Optional"
   ]
  },
  {
   "cell_type": "code",
   "execution_count": null,
   "id": "84daf397-aa2c-4199-951c-bb269a59386c",
   "metadata": {},
   "outputs": [],
   "source": [
    "def is_valid(value: Optional[bool] = False) -> bool:\n",
    "    return value"
   ]
  },
  {
   "cell_type": "markdown",
   "id": "51e5acc7-9199-40fb-a84c-259534ed1f50",
   "metadata": {},
   "source": [
    "### Pandas"
   ]
  },
  {
   "cell_type": "code",
   "execution_count": null,
   "id": "af8c3463-3485-405d-9e4f-10e5379129d6",
   "metadata": {},
   "outputs": [],
   "source": [
    "ratings.groupby('title')['rating'].mean()"
   ]
  }
 ],
 "metadata": {
  "kernelspec": {
   "display_name": "Python 3 (ipykernel)",
   "language": "python",
   "name": "python3"
  }
 },
 "nbformat": 4,
 "nbformat_minor": 5
}
