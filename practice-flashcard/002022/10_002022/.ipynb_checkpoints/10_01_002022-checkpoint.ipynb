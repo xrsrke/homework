{
 "cells": [
  {
   "cell_type": "markdown",
   "id": "2448223d-ff57-487d-874e-03118893b61f",
   "metadata": {},
   "source": [
    "### SymPy"
   ]
  },
  {
   "cell_type": "code",
   "execution_count": 1,
   "id": "e5af7f3b-8712-48ae-864e-aabab60fa74d",
   "metadata": {},
   "outputs": [],
   "source": [
    "import sympy as smp"
   ]
  },
  {
   "cell_type": "code",
   "execution_count": 2,
   "id": "6ee4dd93-37de-4304-bd49-e0f40801d508",
   "metadata": {},
   "outputs": [],
   "source": [
    "x = smp.symbols('x')"
   ]
  },
  {
   "cell_type": "code",
   "execution_count": 3,
   "id": "d2035ca5-035d-44a2-9379-893456742404",
   "metadata": {},
   "outputs": [],
   "source": [
    "y = smp.sin(x)"
   ]
  },
  {
   "cell_type": "code",
   "execution_count": 4,
   "id": "8457fa57-aa93-4143-a245-8fc835eaf140",
   "metadata": {},
   "outputs": [
    {
     "data": {
      "text/latex": [
       "$\\displaystyle \\sin{\\left(x \\right)}$"
      ],
      "text/plain": [
       "sin(x)"
      ]
     },
     "execution_count": 4,
     "metadata": {},
     "output_type": "execute_result"
    }
   ],
   "source": [
    "y"
   ]
  },
  {
   "cell_type": "code",
   "execution_count": null,
   "id": "72147168-6c56-42b8-b371-d56d402008dd",
   "metadata": {},
   "outputs": [],
   "source": [
    "expr.subs([(x, 3), (y, -2)])"
   ]
  },
  {
   "cell_type": "code",
   "execution_count": 5,
   "id": "1fc9cd05-8420-4b09-a3a9-3f97af9fcf3c",
   "metadata": {},
   "outputs": [],
   "source": [
    "x = smp.symbols('x')"
   ]
  },
  {
   "cell_type": "code",
   "execution_count": 12,
   "id": "a753de69-8545-4312-aa24-65efb075ee41",
   "metadata": {},
   "outputs": [],
   "source": [
    "f, g = smp.symbols('f g', cls=smp.Function)"
   ]
  },
  {
   "cell_type": "code",
   "execution_count": 13,
   "id": "1e555187-0b9f-4dc4-8311-ad3c85eb66d9",
   "metadata": {},
   "outputs": [],
   "source": [
    "g = g(x)"
   ]
  },
  {
   "cell_type": "code",
   "execution_count": 14,
   "id": "427a2dda-5d01-407a-abe2-52bf7efe3a80",
   "metadata": {},
   "outputs": [
    {
     "data": {
      "text/latex": [
       "$\\displaystyle g{\\left(x \\right)}$"
      ],
      "text/plain": [
       "g(x)"
      ]
     },
     "execution_count": 14,
     "metadata": {},
     "output_type": "execute_result"
    }
   ],
   "source": [
    "g"
   ]
  },
  {
   "cell_type": "code",
   "execution_count": 15,
   "id": "5f6ac879-979a-4bdd-9b1a-2b6be145ed44",
   "metadata": {},
   "outputs": [],
   "source": [
    "f = f(x + g)"
   ]
  },
  {
   "cell_type": "code",
   "execution_count": 16,
   "id": "b0ac6569-eecf-4f31-ace4-235ac7a0fa95",
   "metadata": {},
   "outputs": [
    {
     "data": {
      "text/latex": [
       "$\\displaystyle f{\\left(x + g{\\left(x \\right)} \\right)}$"
      ],
      "text/plain": [
       "f(x + g(x))"
      ]
     },
     "execution_count": 16,
     "metadata": {},
     "output_type": "execute_result"
    }
   ],
   "source": [
    "f"
   ]
  },
  {
   "cell_type": "markdown",
   "id": "e1265822-ca7a-470d-8ae2-f173a0f91daf",
   "metadata": {},
   "source": [
    "### Matplotlib"
   ]
  },
  {
   "cell_type": "code",
   "execution_count": null,
   "id": "0185fd95-9257-49ec-b988-c16c2e22fb04",
   "metadata": {},
   "outputs": [],
   "source": [
    "numbers_x = np.arange(len(ages_x))"
   ]
  },
  {
   "cell_type": "markdown",
   "id": "5ca07a16-a1a3-47d3-848b-d61f18f4ccfa",
   "metadata": {},
   "source": [
    "### Pandas"
   ]
  },
  {
   "cell_type": "code",
   "execution_count": 17,
   "id": "774ac343-00d7-4e5c-933f-d4790538d14a",
   "metadata": {},
   "outputs": [],
   "source": [
    "import pandas as pd"
   ]
  },
  {
   "cell_type": "code",
   "execution_count": 18,
   "id": "710ac911-dfbf-4c88-bfa5-92ba0336f2fb",
   "metadata": {},
   "outputs": [],
   "source": [
    "m_dict = [{'name': 'Shivon', 'job': 'Physicist'}]"
   ]
  },
  {
   "cell_type": "code",
   "execution_count": 19,
   "id": "20a28adf-9c1a-458a-b7c8-5c57e63f0fd2",
   "metadata": {},
   "outputs": [],
   "source": [
    "df = pd.DataFrame(m_dict)"
   ]
  },
  {
   "cell_type": "code",
   "execution_count": 20,
   "id": "4987b3a1-3321-4e81-928c-9b06403283a8",
   "metadata": {},
   "outputs": [
    {
     "data": {
      "text/html": [
       "<div>\n",
       "<style scoped>\n",
       "    .dataframe tbody tr th:only-of-type {\n",
       "        vertical-align: middle;\n",
       "    }\n",
       "\n",
       "    .dataframe tbody tr th {\n",
       "        vertical-align: top;\n",
       "    }\n",
       "\n",
       "    .dataframe thead th {\n",
       "        text-align: right;\n",
       "    }\n",
       "</style>\n",
       "<table border=\"1\" class=\"dataframe\">\n",
       "  <thead>\n",
       "    <tr style=\"text-align: right;\">\n",
       "      <th></th>\n",
       "      <th>name</th>\n",
       "      <th>job</th>\n",
       "    </tr>\n",
       "  </thead>\n",
       "  <tbody>\n",
       "    <tr>\n",
       "      <th>0</th>\n",
       "      <td>Shivon</td>\n",
       "      <td>Physicist</td>\n",
       "    </tr>\n",
       "  </tbody>\n",
       "</table>\n",
       "</div>"
      ],
      "text/plain": [
       "     name        job\n",
       "0  Shivon  Physicist"
      ]
     },
     "execution_count": 20,
     "metadata": {},
     "output_type": "execute_result"
    }
   ],
   "source": [
    "df"
   ]
  },
  {
   "cell_type": "code",
   "execution_count": 21,
   "id": "7fdb421c-33a1-463d-ba9d-cfa3b57d0794",
   "metadata": {},
   "outputs": [
    {
     "data": {
      "text/plain": [
       "0    Shivon\n",
       "Name: name, dtype: object"
      ]
     },
     "execution_count": 21,
     "metadata": {},
     "output_type": "execute_result"
    }
   ],
   "source": [
    "df['name']"
   ]
  },
  {
   "cell_type": "markdown",
   "id": "b0fadbcd-2c7e-4f3e-be38-2bf5d451f2fa",
   "metadata": {},
   "source": [
    "### Deep Learning"
   ]
  },
  {
   "cell_type": "code",
   "execution_count": 22,
   "id": "4e282239-4c97-40fd-ae03-35198f7c908b",
   "metadata": {},
   "outputs": [],
   "source": [
    "import numpy as np"
   ]
  },
  {
   "cell_type": "code",
   "execution_count": 23,
   "id": "c46efe77-31dd-471e-9df9-d111a32c1c61",
   "metadata": {},
   "outputs": [],
   "source": [
    "def softmax(x):\n",
    "    return np.exp(x) / np.sum(np.exp(x))"
   ]
  },
  {
   "cell_type": "code",
   "execution_count": 24,
   "id": "22e5f42c-1b32-4861-b8e2-5c9449e99638",
   "metadata": {},
   "outputs": [],
   "source": [
    "def signmoid(x):\n",
    "    return 1 / (1 + np.exp(-x))"
   ]
  },
  {
   "cell_type": "markdown",
   "id": "4068b7b5-abcb-4def-9d22-6c6140ca2976",
   "metadata": {},
   "source": [
    "### Python"
   ]
  },
  {
   "cell_type": "code",
   "execution_count": null,
   "id": "26509094-7995-4715-9364-545657baad1f",
   "metadata": {},
   "outputs": [],
   "source": [
    "class Classroom:\n",
    "    def __set_attr__(self, k, v):\n",
    "        if not k.startswith('_'): self._students[k] = v"
   ]
  },
  {
   "cell_type": "markdown",
   "id": "ba08499f-6765-4683-97e7-c683e9952f9c",
   "metadata": {},
   "source": [
    "### Pytest"
   ]
  },
  {
   "cell_type": "code",
   "execution_count": 26,
   "id": "649a1e08-4c69-403c-b9fe-2364d5540672",
   "metadata": {},
   "outputs": [],
   "source": [
    "import pytest"
   ]
  },
  {
   "cell_type": "code",
   "execution_count": 28,
   "id": "6c17ff02-20dc-4588-b584-de2795846eae",
   "metadata": {},
   "outputs": [],
   "source": [
    "@pytest.mark.parametrize(\n",
    "    (\"test_input\", \"output\"),\n",
    "    ((1, 1), (2, 4))\n",
    ")\n",
    "def test_square(test_input, output):\n",
    "    assert square(test_input) == output"
   ]
  },
  {
   "cell_type": "code",
   "execution_count": null,
   "id": "a73d67d7-9008-48a1-8519-33181f4e41f1",
   "metadata": {},
   "outputs": [],
   "source": []
  }
 ],
 "metadata": {
  "kernelspec": {
   "display_name": "Python 3 (ipykernel)",
   "language": "python",
   "name": "python3"
  },
  "language_info": {
   "codemirror_mode": {
    "name": "ipython",
    "version": 3
   },
   "file_extension": ".py",
   "mimetype": "text/x-python",
   "name": "python",
   "nbconvert_exporter": "python",
   "pygments_lexer": "ipython3",
   "version": "3.9.13"
  }
 },
 "nbformat": 4,
 "nbformat_minor": 5
}
