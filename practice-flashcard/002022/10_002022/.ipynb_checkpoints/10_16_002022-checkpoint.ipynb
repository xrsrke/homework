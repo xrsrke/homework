{
 "cells": [
  {
   "cell_type": "markdown",
   "id": "4e52fb72-0d69-4950-bb8d-e575c823b427",
   "metadata": {},
   "source": [
    "### Deep Learning"
   ]
  },
  {
   "cell_type": "code",
   "execution_count": null,
   "id": "d137d980-169e-4f52-8210-8e27934786d6",
   "metadata": {},
   "outputs": [],
   "source": [
    "import torch"
   ]
  },
  {
   "cell_type": "code",
   "execution_count": null,
   "id": "a448039e-e845-4a19-925e-44c8071457d8",
   "metadata": {},
   "outputs": [],
   "source": [
    "def test_near_zero(x, tol=1e-3):\n",
    "    return x.abs() <= tol"
   ]
  },
  {
   "cell_type": "code",
   "execution_count": null,
   "id": "10bbd83f-baee-404f-a6c1-a2cab92b0c59",
   "metadata": {},
   "outputs": [],
   "source": [
    "x = torch.tensor(0.0001)"
   ]
  },
  {
   "cell_type": "code",
   "execution_count": null,
   "id": "2f0a9ff6-4738-472b-8914-4d8cab39d043",
   "metadata": {},
   "outputs": [
    {
     "data": {
      "text/plain": [
       "tensor(True)"
      ]
     },
     "execution_count": null,
     "metadata": {},
     "output_type": "execute_result"
    }
   ],
   "source": [
    "test_near_zero(x)"
   ]
  },
  {
   "cell_type": "code",
   "execution_count": null,
   "id": "88db180a-a54c-4338-b5d1-83b17dd9c889",
   "metadata": {},
   "outputs": [],
   "source": [
    "def mse(preds, targs):\n",
    "    return (torch.squeeze(preds, -1) - targs).pow(2).mean()"
   ]
  },
  {
   "cell_type": "code",
   "execution_count": null,
   "id": "4e3c18e9-a7e9-4fa7-8118-8d5355c155c2",
   "metadata": {},
   "outputs": [],
   "source": [
    "learner = Learner(dls, model, loss_func=MSELossFlat())"
   ]
  },
  {
   "cell_type": "code",
   "execution_count": null,
   "id": "86b8fc9d-7e1a-426c-9765-4a90261f6207",
   "metadata": {},
   "outputs": [],
   "source": [
    "from PIL import Image"
   ]
  },
  {
   "cell_type": "code",
   "execution_count": null,
   "id": "245d5815-c431-43cf-b423-9ae652308556",
   "metadata": {},
   "outputs": [],
   "source": [
    "sevens = torch.stack([tensor(Image.open(x)) for o in seven_tensors], dim=0)"
   ]
  },
  {
   "cell_type": "code",
   "execution_count": null,
   "id": "62b5d714-e6ab-47ef-8140-8279d23781e2",
   "metadata": {},
   "outputs": [],
   "source": [
    "from torch import nn"
   ]
  },
  {
   "cell_type": "code",
   "execution_count": null,
   "id": "48f0f17c-d84b-4bcb-a7db-3be77896826b",
   "metadata": {},
   "outputs": [],
   "source": [
    "class DotProduct(nn.Module):\n",
    "    def forward(self, x):\n",
    "        users = self.user_factors(x[:0])\n",
    "        movies = self.movie_factors(x[:1])\n",
    "        return (users * movies).sum(dim=1)"
   ]
  },
  {
   "cell_type": "code",
   "execution_count": null,
   "id": "ecbd4ff2-b2b5-4171-820c-a7853ae853b5",
   "metadata": {},
   "outputs": [],
   "source": [
    "def relu(x):\n",
    "    return x.clamp_min(0.)"
   ]
  },
  {
   "cell_type": "code",
   "execution_count": null,
   "id": "84a67735-3b7c-4714-8b86-d1ccdd502006",
   "metadata": {},
   "outputs": [],
   "source": [
    "def lin(x, w, b):\n",
    "    return x@w+b"
   ]
  },
  {
   "cell_type": "code",
   "execution_count": null,
   "id": "498cc88f-a98f-4268-9176-027ba50adb8a",
   "metadata": {},
   "outputs": [],
   "source": [
    "training_mean, training_std = x_train.mean(), x_train.std()"
   ]
  },
  {
   "cell_type": "code",
   "execution_count": null,
   "id": "f3c49dc0-42d3-4fe6-99e6-b7816186d60d",
   "metadata": {},
   "outputs": [],
   "source": [
    "def normalize(x, m, std):\n",
    "    return (x-m)/std"
   ]
  },
  {
   "cell_type": "code",
   "execution_count": null,
   "id": "4dbacc9f-876e-4956-88e3-f919e45ecaff",
   "metadata": {},
   "outputs": [],
   "source": [
    "x_train, x_valid = normalize(x_train, training_mean, training_std), normalize(x_valid, training_mean, training_std), "
   ]
  },
  {
   "cell_type": "code",
   "execution_count": null,
   "id": "df070a02-3863-48da-830c-7c526c1ca04d",
   "metadata": {},
   "outputs": [],
   "source": [
    "class DotProduct(nn.Module):\n",
    "    def forward(self, x):\n",
    "        users = self.user_factors(x[:0])\n",
    "        movies = self.movie_factors(x[:1])\n",
    "        return (users*movies).sum(dim=1)"
   ]
  },
  {
   "cell_type": "markdown",
   "id": "9018b455-fef7-4840-b363-8c497d25abd6",
   "metadata": {},
   "source": [
    "### Python"
   ]
  },
  {
   "cell_type": "code",
   "execution_count": null,
   "id": "649eb226-1ddf-49f0-9c29-120e1ca8e939",
   "metadata": {},
   "outputs": [],
   "source": [
    "import re"
   ]
  },
  {
   "cell_type": "code",
   "execution_count": null,
   "id": "81ef0d39-4851-45ce-a2ad-929e15ad18a7",
   "metadata": {},
   "outputs": [],
   "source": [
    "pattern = re.compile(r'raynext\\.com')"
   ]
  },
  {
   "cell_type": "code",
   "execution_count": null,
   "id": "25564318-0af2-4199-8113-f0135d8ff027",
   "metadata": {},
   "outputs": [],
   "source": [
    "\\d\\d\\d"
   ]
  },
  {
   "cell_type": "code",
   "execution_count": null,
   "id": "7bb2e315-7d52-4ce8-b6aa-d942942ad2a5",
   "metadata": {},
   "outputs": [],
   "source": [
    "x = tuple(int, str, float)"
   ]
  },
  {
   "cell_type": "code",
   "execution_count": null,
   "id": "785aa171-bda3-42ac-badc-587d56d69c11",
   "metadata": {},
   "outputs": [],
   "source": [
    "def square_generator(x):\n",
    "    for i in x:\n",
    "        yield(i**2)"
   ]
  },
  {
   "cell_type": "code",
   "execution_count": null,
   "id": "28224548-c254-489d-94cc-db3bc29a9462",
   "metadata": {},
   "outputs": [],
   "source": [
    "import pytest"
   ]
  },
  {
   "cell_type": "code",
   "execution_count": null,
   "id": "212e6592-b01d-492b-8cec-6846a7943823",
   "metadata": {},
   "outputs": [],
   "source": [
    "@pytest.mark.skip(a>b, reason='x')"
   ]
  },
  {
   "cell_type": "code",
   "execution_count": null,
   "id": "8771420a-b00e-4897-9e2c-cb5bd7265f95",
   "metadata": {},
   "outputs": [],
   "source": [
    "x[:, 1:3:2]"
   ]
  },
  {
   "cell_type": "code",
   "execution_count": null,
   "id": "876bb444-6a8a-4b42-9e6b-c70092960fe5",
   "metadata": {},
   "outputs": [],
   "source": [
    "L(users).gotattr('id')"
   ]
  },
  {
   "cell_type": "code",
   "execution_count": null,
   "id": "dcf97479-98e6-4bba-8528-64c868d9dcc5",
   "metadata": {},
   "outputs": [],
   "source": [
    "from collections import namedtuple"
   ]
  },
  {
   "cell_type": "code",
   "execution_count": null,
   "id": "6be25b6f-e4c3-4b91-9e9a-c59749b5c81e",
   "metadata": {},
   "outputs": [],
   "source": [
    "EV2 = namedtuple('ElectricVehicle', ('efficient', 'price', 'manufacture'), defaults=(100, 'Tesla', 400))"
   ]
  },
  {
   "cell_type": "code",
   "execution_count": null,
   "id": "2ebaa1df-082c-4934-94c3-d991aa25d632",
   "metadata": {},
   "outputs": [],
   "source": [
    "a = EV2(200)"
   ]
  },
  {
   "cell_type": "code",
   "execution_count": null,
   "id": "9cbea5c2-41e6-46a3-bf29-05fdd4d540ea",
   "metadata": {},
   "outputs": [
    {
     "data": {
      "text/plain": [
       "ElectricVehicle(efficient=200, price='Tesla', manufacture=400)"
      ]
     },
     "execution_count": null,
     "metadata": {},
     "output_type": "execute_result"
    }
   ],
   "source": [
    "a"
   ]
  },
  {
   "cell_type": "markdown",
   "id": "c0b74a97-2b25-4839-ae76-58903769e162",
   "metadata": {},
   "source": [
    "### Fastcore"
   ]
  },
  {
   "cell_type": "code",
   "execution_count": null,
   "id": "2a9d5328-d3b9-46b1-88c2-2e61f793031a",
   "metadata": {},
   "outputs": [],
   "source": [
    "from fastcore.meta import *"
   ]
  },
  {
   "cell_type": "code",
   "execution_count": null,
   "id": "977f8fcf-ad20-4a0f-a780-6c202780fb95",
   "metadata": {},
   "outputs": [],
   "source": [
    "@funcs_kwargs\n",
    "class DataBlock:\n",
    "    _methods = ['loss_func']\n",
    "    num = 1"
   ]
  },
  {
   "cell_type": "code",
   "execution_count": null,
   "id": "6ea242d3-8a45-40b7-8285-d3bda325ea4a",
   "metadata": {},
   "outputs": [],
   "source": [
    "dblock = DataBlock(loss_func=lambda:1)"
   ]
  },
  {
   "cell_type": "code",
   "execution_count": null,
   "id": "15d0ec73-2acb-47d3-bb14-ae23b5fbcfd0",
   "metadata": {},
   "outputs": [
    {
     "data": {
      "text/plain": [
       "1"
      ]
     },
     "execution_count": null,
     "metadata": {},
     "output_type": "execute_result"
    }
   ],
   "source": [
    "dblock.loss_func()"
   ]
  },
  {
   "cell_type": "code",
   "execution_count": null,
   "id": "b095ae18-dab8-4d70-a502-412718ff400d",
   "metadata": {},
   "outputs": [],
   "source": [
    "from fastcore.dispatch import *"
   ]
  },
  {
   "cell_type": "code",
   "execution_count": null,
   "id": "1b854148-0953-4a70-a850-19bd322b76d9",
   "metadata": {},
   "outputs": [],
   "source": [
    "t = TypeDispatch([])"
   ]
  },
  {
   "cell_type": "markdown",
   "id": "7df82fcd-e410-4ced-9c6e-b5ddfd2e5d9b",
   "metadata": {},
   "source": [
    "### Design Patterns"
   ]
  },
  {
   "cell_type": "markdown",
   "id": "22cb55ef-84df-44e4-abd5-4d29b83908d3",
   "metadata": {},
   "source": [
    "##### Chain of Reponsibility"
   ]
  },
  {
   "cell_type": "code",
   "execution_count": null,
   "id": "365b8783-c5d7-4747-8933-760e3397ea6e",
   "metadata": {},
   "outputs": [],
   "source": [
    "class CreatureModifier:\n",
    "    def __init__(self): self.next_modifier = None\n",
    "    \n",
    "    def add_modifier(self, modifier):\n",
    "        if not self.next_modifier:\n",
    "            self.next_modifier = modifier\n",
    "        else:\n",
    "            self.next_modifier.add_modifier(modifier)\n",
    "    \n",
    "    def handle(self):\n",
    "        if not self.next_modifier: return\n",
    "        return self.next_modifier.handle()"
   ]
  },
  {
   "cell_type": "markdown",
   "id": "f2d4c37e-1547-4992-ab0d-193fe47d03a1",
   "metadata": {},
   "source": [
    "##### Iterator"
   ]
  },
  {
   "cell_type": "code",
   "execution_count": null,
   "id": "8cdbe446-2f77-4538-a4be-a65ca4f2ad40",
   "metadata": {},
   "outputs": [],
   "source": [
    "class MusicPlayer:\n",
    "    def __init__(self, songs):\n",
    "        self.songs = song\n",
    "        self.idx = None\n",
    "    \n",
    "    def has_next(self):\n",
    "        return self.idx < len(self.songs)\n",
    "    \n",
    "    def next(self):\n",
    "        if self.has_next():\n",
    "            self.idx += 1\n",
    "            return self.songs[self.idx]"
   ]
  },
  {
   "cell_type": "markdown",
   "id": "3f3d590d-d33b-4736-bea3-75879f952e6a",
   "metadata": {},
   "source": [
    "##### Command Pattern"
   ]
  },
  {
   "cell_type": "code",
   "execution_count": null,
   "id": "0bbfc86e-985b-4c0d-948b-a9e5f9250dc9",
   "metadata": {},
   "outputs": [],
   "source": [
    "class BankAccountDespositeCommand:\n",
    "    def __init__(self, account, amount):\n",
    "        self.account = account\n",
    "        self.amount = amount\n",
    "    \n",
    "    def invoke(self):\n",
    "        self.account.deposite(amount)\n",
    "    \n",
    "    def undo(self):\n",
    "        self.account.withdraw(amount)"
   ]
  },
  {
   "cell_type": "markdown",
   "id": "dfd80d30-2941-4dc0-9b3c-95fa46664cfd",
   "metadata": {},
   "source": [
    "##### State Pattern"
   ]
  },
  {
   "cell_type": "code",
   "execution_count": null,
   "id": "5e2fdf10-7228-437a-8fd3-64d15ade7728",
   "metadata": {},
   "outputs": [],
   "source": [
    "from abc import ABC, abstractmethod"
   ]
  },
  {
   "cell_type": "code",
   "execution_count": null,
   "id": "ae266497-b60f-479c-bd6e-5b60472272d4",
   "metadata": {},
   "outputs": [],
   "source": [
    "class State(ABC):\n",
    "    \n",
    "    @abstractmethod\n",
    "    def receive_payment(self): pass\n",
    "\n",
    "    @abstractmethod\n",
    "    def ship(self): pass"
   ]
  },
  {
   "cell_type": "code",
   "execution_count": null,
   "id": "ef052de9-8862-4e38-b9a2-0e4b3a9bf293",
   "metadata": {},
   "outputs": [],
   "source": [
    "class UnpaidState(State):\n",
    "    def __init__(self, order):\n",
    "        self.order = order\n",
    "    \n",
    "    def receive_payment(self):\n",
    "        self.order.state = self.order.paid_state"
   ]
  },
  {
   "cell_type": "code",
   "execution_count": null,
   "id": "c25389cf-73a9-4687-9d2a-17e09039389d",
   "metadata": {},
   "outputs": [],
   "source": [
    "class Order:\n",
    "    def __init__(self):\n",
    "        self.unpaid_state = UnpaidState(self)\n",
    "        self.paid_state = PaidState(self)\n",
    "        self.shipped_state = ShippedState(self)\n",
    "        \n",
    "        self.state = self.unpaid_state\n",
    "    \n",
    "    def receive_payment(self):\n",
    "        return self.state.receive_payment()\n",
    "    \n",
    "    def ship(self):\n",
    "        return self.state.ship()"
   ]
  },
  {
   "cell_type": "markdown",
   "id": "1cf5a3c9-0f8e-42bf-9775-7cdc008bb4f0",
   "metadata": {},
   "source": [
    "### Bash"
   ]
  },
  {
   "cell_type": "code",
   "execution_count": null,
   "id": "e38d7094-f358-4531-a514-a4ee7365bc05",
   "metadata": {},
   "outputs": [],
   "source": [
    "make_folder() {\n",
    "    mkdir \"$1\"\n",
    "    cd \"$1\"\n",
    "}"
   ]
  }
 ],
 "metadata": {
  "kernelspec": {
   "display_name": "Python 3 (ipykernel)",
   "language": "python",
   "name": "python3"
  }
 },
 "nbformat": 4,
 "nbformat_minor": 5
}
