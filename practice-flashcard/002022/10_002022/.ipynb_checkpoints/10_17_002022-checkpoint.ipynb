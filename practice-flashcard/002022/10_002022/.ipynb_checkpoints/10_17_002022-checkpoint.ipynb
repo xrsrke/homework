{
 "cells": [
  {
   "cell_type": "markdown",
   "id": "1f3ec322-215d-40be-9ebc-70ef5dc13867",
   "metadata": {},
   "source": [
    "### Deep Learning"
   ]
  },
  {
   "cell_type": "code",
   "execution_count": null,
   "id": "22138780-5a91-4fea-8132-4280ad6baa5a",
   "metadata": {},
   "outputs": [],
   "source": [
    "(filter1*small_part).sum() + (filter2*small_part).sum()"
   ]
  },
  {
   "cell_type": "code",
   "execution_count": null,
   "id": "282db9ea-773e-4c24-a797-de5ad1e2a4ad",
   "metadata": {},
   "outputs": [],
   "source": [
    "dl = DataLoader(ds, batch_size=3)"
   ]
  },
  {
   "cell_type": "code",
   "execution_count": null,
   "id": "88e8fbc6-eee4-45e8-be6a-14fd63cd5bf6",
   "metadata": {},
   "outputs": [],
   "source": [
    "import torch"
   ]
  },
  {
   "cell_type": "code",
   "execution_count": null,
   "id": "94205967-5ebf-438f-b498-6c2786496bc0",
   "metadata": {},
   "outputs": [],
   "source": [
    "def fill_normal_(x):\n",
    "    return x.normal_(mean=0, std=1)"
   ]
  },
  {
   "cell_type": "code",
   "execution_count": null,
   "id": "4217cd12-d1de-4fd9-887e-cd84ab974acf",
   "metadata": {},
   "outputs": [],
   "source": [
    "x = torch.rand(4, 3)"
   ]
  },
  {
   "cell_type": "code",
   "execution_count": null,
   "id": "286c5d5d-c783-41c6-acb9-1ac5f3984c87",
   "metadata": {},
   "outputs": [
    {
     "data": {
      "text/plain": [
       "tensor([[0.4387, 0.7795, 0.9945],\n",
       "        [0.6745, 0.6989, 0.2108],\n",
       "        [0.6091, 0.3746, 0.1335],\n",
       "        [0.5955, 0.4502, 0.5666]])"
      ]
     },
     "execution_count": null,
     "metadata": {},
     "output_type": "execute_result"
    }
   ],
   "source": [
    "x"
   ]
  },
  {
   "cell_type": "code",
   "execution_count": null,
   "id": "91f3baa0-97f7-4637-8c80-ee49133444e6",
   "metadata": {},
   "outputs": [
    {
     "data": {
      "text/plain": [
       "tensor(0.7813)"
      ]
     },
     "execution_count": null,
     "metadata": {},
     "output_type": "execute_result"
    }
   ],
   "source": [
    "fill_normal_(x).std()"
   ]
  },
  {
   "cell_type": "code",
   "execution_count": null,
   "id": "479f1950-192e-438d-90f9-93a939c59a00",
   "metadata": {},
   "outputs": [],
   "source": [
    "from torch import nn"
   ]
  },
  {
   "cell_type": "code",
   "execution_count": null,
   "id": "d44de5ca-65ee-434a-be50-8aad4426f7ab",
   "metadata": {},
   "outputs": [],
   "source": [
    "class DotProduct(nn.Module):\n",
    "    def forward(self, x):\n",
    "        users = self.user_factors(x[:,0])\n",
    "        movies = self.movie_factors(x[:,1])\n",
    "        return (users*movies).sum(dim=1)"
   ]
  },
  {
   "cell_type": "code",
   "execution_count": null,
   "id": "1e013fde-6767-4549-8269-23d78d160cdc",
   "metadata": {},
   "outputs": [],
   "source": [
    "def dropout_layer(x, dropout):\n",
    "    assert 0 <= dropout <= 1"
   ]
  },
  {
   "cell_type": "code",
   "execution_count": null,
   "id": "a8bd264e-a81b-4c28-9c55-9915a2100e1b",
   "metadata": {},
   "outputs": [],
   "source": [
    "def mse(preds, targs):\n",
    "    return (preds.squeeze(-1) - targs).pow(2).mean()"
   ]
  },
  {
   "cell_type": "code",
   "execution_count": null,
   "id": "11fe6a65-a7eb-43ca-b860-f8d4077beb3b",
   "metadata": {},
   "outputs": [],
   "source": [
    "def test_near_zero(x, tol=1e3):\n",
    "    return x.abs() < tol"
   ]
  },
  {
   "cell_type": "code",
   "execution_count": null,
   "id": "8ccf26a4-c306-4f69-9a82-af21fdc39701",
   "metadata": {},
   "outputs": [],
   "source": [
    "def dropout_layer(x, dropout):\n",
    "    assert 0 <= dropout <= 1\n",
    "    if dropout == 1: return torch.zeros_like(x)\n",
    "    \n",
    "    mask = (torch.randn(x.shape) > dropout).float()\n",
    "    return (mask * x) / (1-dropout)"
   ]
  },
  {
   "cell_type": "code",
   "execution_count": null,
   "id": "3032b924-2197-4d5c-9fe9-4ab174fc2686",
   "metadata": {},
   "outputs": [],
   "source": [
    "def dropout_layer(x, dropout):\n",
    "    assert 0 <= dropout <= 1\n",
    "    if dropout == 1: return torch.zeros_like(x)\n",
    "    \n",
    "    mask = (torch.randn(x.shape) > dropout).float()\n",
    "    return (x*mask) / (1-dropout)"
   ]
  },
  {
   "cell_type": "markdown",
   "id": "c821af8f-994d-4564-b1db-b1540f563a18",
   "metadata": {},
   "source": [
    "### SQL"
   ]
  },
  {
   "cell_type": "code",
   "execution_count": null,
   "id": "23f1005f-6bb7-4bc3-ac64-82fb106c68c2",
   "metadata": {},
   "outputs": [],
   "source": [
    "SELECT * FROM users WHERE rank='one' AND files=6"
   ]
  },
  {
   "cell_type": "code",
   "execution_count": null,
   "id": "8e5c5cdb-2b0c-464d-86cb-b081134e93bd",
   "metadata": {},
   "outputs": [],
   "source": [
    "SELECT * FROM users WHERE (name='shivon' AND rank=1) OR (rank=2)"
   ]
  },
  {
   "cell_type": "code",
   "execution_count": null,
   "id": "55577bd1-ffe2-466d-af8b-92182dbe68d5",
   "metadata": {},
   "outputs": [],
   "source": [
    "#!/bin/bash"
   ]
  },
  {
   "cell_type": "markdown",
   "id": "64a23808-d680-4e95-b30d-ab4ec28e558d",
   "metadata": {},
   "source": [
    "### bash"
   ]
  },
  {
   "cell_type": "code",
   "execution_count": null,
   "id": "9be39dcb-cfcb-4ce7-89e2-8abbe3f6a9e9",
   "metadata": {},
   "outputs": [],
   "source": [
    "rw-------"
   ]
  },
  {
   "cell_type": "code",
   "execution_count": null,
   "id": "cd0f5462-6ab7-418f-85a4-8cd0938d90e7",
   "metadata": {},
   "outputs": [],
   "source": [
    "make_folder() {\n",
    "    mkdir \"$1\"\n",
    "    cd \"$1\"\n",
    "}"
   ]
  },
  {
   "cell_type": "markdown",
   "id": "e575fee4-dc8a-4c70-9892-42f6d8c5d00f",
   "metadata": {},
   "source": [
    "### Python"
   ]
  },
  {
   "cell_type": "code",
   "execution_count": null,
   "id": "4af802eb-ce07-468c-bcc0-a08dc7e07052",
   "metadata": {},
   "outputs": [],
   "source": [
    "from typing import Callable"
   ]
  },
  {
   "cell_type": "code",
   "execution_count": null,
   "id": "2cffe616-2445-4158-8bd3-101911d5154a",
   "metadata": {},
   "outputs": [],
   "source": [
    "def foo() -> Callable[[int, int], int]:\n",
    "    def add(x: int, y: int) -> int:\n",
    "        return x + y\n",
    "    \n",
    "    return add"
   ]
  },
  {
   "cell_type": "code",
   "execution_count": null,
   "id": "31bdad20-2a31-4b40-ae00-2236bc260885",
   "metadata": {},
   "outputs": [],
   "source": [
    "import pytest"
   ]
  },
  {
   "cell_type": "code",
   "execution_count": null,
   "id": "5db6e649-af14-449a-bb6f-08618b8d7dbd",
   "metadata": {},
   "outputs": [],
   "source": [
    "@pytest.mark.skipif(a>b, reason ='asdasd')"
   ]
  },
  {
   "cell_type": "markdown",
   "id": "e763706f-0dda-4ade-859f-b3cdc0c1ca9f",
   "metadata": {},
   "source": [
    "### Design Patterns"
   ]
  },
  {
   "cell_type": "markdown",
   "id": "ec5edb11-d183-4a94-b0c0-40a908051e4c",
   "metadata": {},
   "source": [
    "##### Facade Pattern"
   ]
  },
  {
   "cell_type": "code",
   "execution_count": null,
   "id": "9e4d66c6-8bcb-409c-b8e5-d5324e7bf2fe",
   "metadata": {},
   "outputs": [],
   "source": [
    "class ControlTower:\n",
    "    def __init__(self, aircraft, army):\n",
    "        self.aircraft = aircraft\n",
    "        self.army = army\n",
    "    \n",
    "    def get_coordinate_from_aircraft(self):\n",
    "        self.aircraft.coordinate()"
   ]
  },
  {
   "cell_type": "markdown",
   "id": "8427893d-3f72-43f6-b9f1-fb9c0c3fcfc2",
   "metadata": {},
   "source": [
    "##### Observer Pattern"
   ]
  },
  {
   "cell_type": "code",
   "execution_count": null,
   "id": "68a2ab6c-53d1-4188-be4f-8e011a2c40f2",
   "metadata": {},
   "outputs": [],
   "source": [
    "class Event:\n",
    "    def __init__(self):\n",
    "        self._subscribers = dict()\n",
    "    \n",
    "    def subscribe(self, event_type, function):\n",
    "        if not event_type in self._subscribers:\n",
    "            self._subscribers[event_type] = []\n",
    "        \n",
    "        self._subscribers[event_type].append(function)\n",
    "    \n",
    "    def post_event(self, event_type):\n",
    "        if not event_type in self._subscribers: return\n",
    "        \n",
    "        for func in self._subscribers[event_type]:\n",
    "            func()"
   ]
  },
  {
   "cell_type": "code",
   "execution_count": null,
   "id": "8f295038-8bfa-4dee-b837-3d6ae8aaad1d",
   "metadata": {},
   "outputs": [],
   "source": []
  }
 ],
 "metadata": {
  "kernelspec": {
   "display_name": "Python 3 (ipykernel)",
   "language": "python",
   "name": "python3"
  }
 },
 "nbformat": 4,
 "nbformat_minor": 5
}
