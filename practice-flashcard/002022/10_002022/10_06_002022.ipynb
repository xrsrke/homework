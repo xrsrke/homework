{
 "cells": [
  {
   "cell_type": "markdown",
   "id": "7a55bf95-abe3-43fe-80d2-3be1c268164f",
   "metadata": {},
   "source": [
    "### Numpy"
   ]
  },
  {
   "cell_type": "code",
   "execution_count": 1,
   "id": "d4941aee-e161-44e1-b06d-0845c7a12977",
   "metadata": {},
   "outputs": [],
   "source": [
    "import numpy as np"
   ]
  },
  {
   "cell_type": "code",
   "execution_count": 5,
   "id": "7b9bf0d9-e733-4b9c-bc29-bbfbbc2379d8",
   "metadata": {},
   "outputs": [],
   "source": [
    "x = np.arange(25).reshape(5, 5)"
   ]
  },
  {
   "cell_type": "code",
   "execution_count": 6,
   "id": "8cb2c1bb-5a69-4d07-b02f-c315f961c5a8",
   "metadata": {},
   "outputs": [
    {
     "data": {
      "text/plain": [
       "array([[ 0,  1,  2,  3,  4],\n",
       "       [ 5,  6,  7,  8,  9],\n",
       "       [10, 11, 12, 13, 14],\n",
       "       [15, 16, 17, 18, 19],\n",
       "       [20, 21, 22, 23, 24]])"
      ]
     },
     "execution_count": 6,
     "metadata": {},
     "output_type": "execute_result"
    }
   ],
   "source": [
    "x"
   ]
  },
  {
   "cell_type": "code",
   "execution_count": 27,
   "id": "b70b5a68-6f8d-4c07-a16b-32c81c9e5859",
   "metadata": {},
   "outputs": [],
   "source": [
    "red = x[:, 1::2]"
   ]
  },
  {
   "cell_type": "code",
   "execution_count": 28,
   "id": "7bc30c14-134a-4d41-b283-3b8d4f77e035",
   "metadata": {},
   "outputs": [
    {
     "data": {
      "text/plain": [
       "array([[ 1,  3],\n",
       "       [ 6,  8],\n",
       "       [11, 13],\n",
       "       [16, 18],\n",
       "       [21, 23]])"
      ]
     },
     "execution_count": 28,
     "metadata": {},
     "output_type": "execute_result"
    }
   ],
   "source": [
    "red"
   ]
  },
  {
   "cell_type": "code",
   "execution_count": 29,
   "id": "0e1f0103-633f-47fb-88aa-21ae741a6f63",
   "metadata": {},
   "outputs": [],
   "source": [
    "yello = x[4, :]"
   ]
  },
  {
   "cell_type": "code",
   "execution_count": 30,
   "id": "3ed304b2-7976-43ac-85aa-b32ea11fde2f",
   "metadata": {},
   "outputs": [
    {
     "data": {
      "text/plain": [
       "array([20, 21, 22, 23, 24])"
      ]
     },
     "execution_count": 30,
     "metadata": {},
     "output_type": "execute_result"
    }
   ],
   "source": [
    "yello"
   ]
  },
  {
   "cell_type": "code",
   "execution_count": 14,
   "id": "144df25e-84eb-4461-86b9-0b1c826dcb9d",
   "metadata": {},
   "outputs": [],
   "source": [
    "blue = x[1::2, 0:3:2]"
   ]
  },
  {
   "cell_type": "code",
   "execution_count": 15,
   "id": "d2a11d9c-3941-47ec-bf6c-382632d0badb",
   "metadata": {},
   "outputs": [
    {
     "data": {
      "text/plain": [
       "array([[ 5,  7],\n",
       "       [15, 17]])"
      ]
     },
     "execution_count": 15,
     "metadata": {},
     "output_type": "execute_result"
    }
   ],
   "source": [
    "blue"
   ]
  },
  {
   "cell_type": "code",
   "execution_count": 16,
   "id": "2c8e6c80-1347-4752-a111-2a205a5573d6",
   "metadata": {},
   "outputs": [
    {
     "data": {
      "text/plain": [
       "array([[ 0,  1,  2,  3,  4],\n",
       "       [ 5,  6,  7,  8,  9],\n",
       "       [10, 11, 12, 13, 14],\n",
       "       [15, 16, 17, 18, 19],\n",
       "       [20, 21, 22, 23, 24]])"
      ]
     },
     "execution_count": 16,
     "metadata": {},
     "output_type": "execute_result"
    }
   ],
   "source": [
    "x"
   ]
  },
  {
   "cell_type": "code",
   "execution_count": 21,
   "id": "15743274-e4fc-44c0-a985-ef322e8eef58",
   "metadata": {},
   "outputs": [],
   "source": [
    "positions = [0, 2, 3, 3], [2, 3, 1, 4]"
   ]
  },
  {
   "cell_type": "code",
   "execution_count": 22,
   "id": "683bfa33-1704-4693-904b-e4fe974e5573",
   "metadata": {},
   "outputs": [
    {
     "data": {
      "text/plain": [
       "array([ 2, 13, 16, 19])"
      ]
     },
     "execution_count": 22,
     "metadata": {},
     "output_type": "execute_result"
    }
   ],
   "source": [
    "x[positions]"
   ]
  },
  {
   "cell_type": "markdown",
   "id": "e8d46614-5185-4a81-bb0d-8ca44ef9bc3c",
   "metadata": {},
   "source": [
    "### Design Pattern"
   ]
  },
  {
   "cell_type": "markdown",
   "id": "5ee110f1-bdc0-4fa5-ac30-7a12100814fd",
   "metadata": {},
   "source": [
    "##### Builder Pattern"
   ]
  },
  {
   "cell_type": "code",
   "execution_count": 35,
   "id": "d1312681-3ec6-4fa5-b35d-31253c74345b",
   "metadata": {},
   "outputs": [],
   "source": [
    "class Person:\n",
    "    pass"
   ]
  },
  {
   "cell_type": "code",
   "execution_count": 84,
   "id": "059d9938-54ca-4ade-bdff-d31744073118",
   "metadata": {},
   "outputs": [],
   "source": [
    "class PersonBuilder:\n",
    "    \n",
    "    def __init__(self, person=Person()):\n",
    "        self.person = person\n",
    "    \n",
    "    @property\n",
    "    def lives(self):\n",
    "        return AddressBuilder(self.person)\n",
    "    \n",
    "    @property\n",
    "    def works(self):\n",
    "        return EmployementBuilder(self.person)\n",
    "    \n",
    "    def build(self):\n",
    "        return self.person"
   ]
  },
  {
   "cell_type": "code",
   "execution_count": 85,
   "id": "38217d7c-3545-4e60-8c17-b5cd94fcc41a",
   "metadata": {},
   "outputs": [],
   "source": [
    "class AddressBuilder(PersonBuilder):\n",
    "    def __init__(self, person):\n",
    "        self.person = person\n",
    "    \n",
    "    def in_city(self, city):\n",
    "        self.person.city = city\n",
    "        return self\n",
    "    \n",
    "    def with_postcode(self, postcode):\n",
    "        self.person.post_code = post_code\n",
    "        return self"
   ]
  },
  {
   "cell_type": "code",
   "execution_count": 86,
   "id": "02749d16-a5c8-4541-87ba-7d97954920a4",
   "metadata": {},
   "outputs": [],
   "source": [
    "class EmployementBuilder(PersonBuilder):\n",
    "    def __init__(self, person):\n",
    "        self.person = person\n",
    "    \n",
    "    def earning(self, annual_income):\n",
    "        self.person.annual_income = annual_income\n",
    "        return self\n",
    "    \n",
    "    def at(self, company_name):\n",
    "        self.person.company_name = company_name\n",
    "        return self"
   ]
  },
  {
   "cell_type": "code",
   "execution_count": 87,
   "id": "d50cd8cb-b76c-465c-af5a-960ee37e6af4",
   "metadata": {},
   "outputs": [],
   "source": [
    "p = PersonBuilder()"
   ]
  },
  {
   "cell_type": "code",
   "execution_count": 88,
   "id": "df0714e2-5429-4ee8-8d77-5c7f432fbd2e",
   "metadata": {},
   "outputs": [
    {
     "data": {
      "text/plain": [
       "<__main__.EmployementBuilder at 0x7f9329f04250>"
      ]
     },
     "execution_count": 88,
     "metadata": {},
     "output_type": "execute_result"
    }
   ],
   "source": [
    "p.lives.in_city('X').works"
   ]
  },
  {
   "cell_type": "code",
   "execution_count": 89,
   "id": "c79f7b8f-9e6b-47b2-8914-9a34ba2b8bda",
   "metadata": {},
   "outputs": [],
   "source": [
    "pb = p.lives.in_city('X').works.at('Y').build()"
   ]
  },
  {
   "cell_type": "code",
   "execution_count": 90,
   "id": "40b58ff6-425c-4918-89c0-2be4122b120f",
   "metadata": {},
   "outputs": [
    {
     "data": {
      "text/plain": [
       "{'city': 'X', 'company_name': 'Y'}"
      ]
     },
     "execution_count": 90,
     "metadata": {},
     "output_type": "execute_result"
    }
   ],
   "source": [
    "pb.__dict__"
   ]
  },
  {
   "cell_type": "markdown",
   "id": "b4329537-b380-45a7-aafe-6751e1c33fb0",
   "metadata": {},
   "source": [
    "##### Command"
   ]
  },
  {
   "cell_type": "code",
   "execution_count": 102,
   "id": "da2306c7-c308-4ece-83b1-686c3609e3ac",
   "metadata": {},
   "outputs": [],
   "source": [
    "class Account:\n",
    "    def __init__(self, balance=0):\n",
    "        self.balance = balance"
   ]
  },
  {
   "cell_type": "code",
   "execution_count": 105,
   "id": "f44a8ceb-de07-46d3-822e-3a469be8587b",
   "metadata": {},
   "outputs": [],
   "source": [
    "class BankAccountDepositeCommand:\n",
    "    def __init__(self, account, amount):\n",
    "        self.account = account\n",
    "        self.amount = amount\n",
    "    \n",
    "    def invoke(self):\n",
    "        return self.account.deposite(amount)\n",
    "    \n",
    "    def undo(self):\n",
    "        return self.account.withdraw(amount)"
   ]
  },
  {
   "cell_type": "markdown",
   "id": "db91d567-c273-47cf-a973-aee18d60ef44",
   "metadata": {},
   "source": [
    "##### State"
   ]
  },
  {
   "cell_type": "code",
   "execution_count": 106,
   "id": "f6458afd-5174-4ffe-b5f5-dbf5227ec316",
   "metadata": {},
   "outputs": [],
   "source": [
    "class State: pass"
   ]
  },
  {
   "cell_type": "code",
   "execution_count": 112,
   "id": "8b6bed57-be68-4df3-aae7-52af3ced9513",
   "metadata": {},
   "outputs": [],
   "source": [
    "class UnpaidState(State):\n",
    "    def __init__(self, context):\n",
    "        self.context = context\n",
    "    \n",
    "    def receive_payment(self):\n",
    "        self.context.state = self.context.paid_state\n",
    "        print(\"Your payment has been accepeted\")\n",
    "    \n",
    "    def ship(self):\n",
    "        print(\"Can't ship unpaid orders\")"
   ]
  },
  {
   "cell_type": "code",
   "execution_count": 115,
   "id": "c225c91b-2276-4300-b217-5111b8bc14a2",
   "metadata": {},
   "outputs": [],
   "source": [
    "class PaidState:\n",
    "    def __init__(self, context):\n",
    "        self.context = context\n",
    "    \n",
    "    def receive_payment(self):\n",
    "        print('You have already paid for this order')\n",
    "    \n",
    "    def ship(self):\n",
    "        self.context.state = self.context.shipped_state"
   ]
  },
  {
   "cell_type": "code",
   "execution_count": 116,
   "id": "8b8dd37f-131e-4b36-a917-d02f42c5883e",
   "metadata": {},
   "outputs": [],
   "source": [
    "class ShippedState:\n",
    "    def __init__(self, context):\n",
    "        self.context = context\n",
    "    \n",
    "    def receive_payment(self):\n",
    "        print('You have already paid for this order')\n",
    "    \n",
    "    def ship(self):\n",
    "        print('The order has already shipped')"
   ]
  },
  {
   "cell_type": "code",
   "execution_count": 118,
   "id": "8076828d-3578-4eb5-9f12-a6bc2ff34fbb",
   "metadata": {},
   "outputs": [],
   "source": [
    "class Order:\n",
    "    def __init__(self):\n",
    "        self.unpaid_state = UnpaidState(self)\n",
    "        self.paid_state = PaidState(self)\n",
    "        self.shipped_state = ShippedState(self)\n",
    "        \n",
    "        self.state = self.unpaid_state\n",
    "    \n",
    "    def recieve_payment(self):\n",
    "        return self.state.recieve_payment()\n",
    "    \n",
    "    def ship(self):\n",
    "        return self.state.ship()"
   ]
  },
  {
   "cell_type": "markdown",
   "id": "1d36e783-465c-4a0d-a023-ce45370d61ab",
   "metadata": {},
   "source": [
    "##### Iterator"
   ]
  },
  {
   "cell_type": "code",
   "execution_count": 121,
   "id": "242954d7-f9f8-4454-945c-c05f47185e2d",
   "metadata": {},
   "outputs": [],
   "source": [
    "class MusicPlayer:\n",
    "    def __init__(self, songs):\n",
    "        self.songs = songs\n",
    "        self.current = 0\n",
    "    \n",
    "    @property\n",
    "    def has_next(self):\n",
    "        return self.current < len(self.songs)\n",
    "\n",
    "    def next(self):\n",
    "        if self.has_next:\n",
    "            self.current += 1\n",
    "            self.songs[self.current].method()"
   ]
  },
  {
   "cell_type": "markdown",
   "id": "ebfe5d86-977d-4ace-83ef-ca4799209c43",
   "metadata": {},
   "source": [
    "##### Singleton"
   ]
  },
  {
   "cell_type": "code",
   "execution_count": 125,
   "id": "3e988d60-0fab-4a55-8d3e-5b591cb8f49f",
   "metadata": {},
   "outputs": [],
   "source": [
    "class Database:\n",
    "    __instance = None\n",
    "    \n",
    "    def __new__(cls):\n",
    "        if Database.__instance:\n",
    "            Database.__instance = super().__new__()\n",
    "        \n",
    "        return Database.__instance"
   ]
  },
  {
   "cell_type": "code",
   "execution_count": 126,
   "id": "0819f267-ff5e-4f31-82b8-8289537568bc",
   "metadata": {},
   "outputs": [],
   "source": [
    "db1 = Database()"
   ]
  },
  {
   "cell_type": "code",
   "execution_count": 127,
   "id": "b2d64768-03e7-4fe7-bd63-10c2e8bbd485",
   "metadata": {},
   "outputs": [],
   "source": [
    "db2 = Database()"
   ]
  },
  {
   "cell_type": "code",
   "execution_count": 128,
   "id": "95de92c6-ad7b-4834-aea2-978c45ff5f7d",
   "metadata": {},
   "outputs": [
    {
     "data": {
      "text/plain": [
       "(4304251872, 4304251872)"
      ]
     },
     "execution_count": 128,
     "metadata": {},
     "output_type": "execute_result"
    }
   ],
   "source": [
    "id(db1), id(db2)"
   ]
  },
  {
   "cell_type": "markdown",
   "id": "465e6805-83de-4d23-bf6e-c51831f21e5b",
   "metadata": {},
   "source": [
    "##### Facade"
   ]
  },
  {
   "cell_type": "code",
   "execution_count": 129,
   "id": "7cf9f5b5-e2af-42e9-9513-22c086989621",
   "metadata": {},
   "outputs": [],
   "source": [
    "class CustomerSupport:\n",
    "    def __init__(self):\n",
    "        supplier = Supplier()\n",
    "        self.warehouse = Warehouse(supplier)\n",
    "    \n",
    "    def buy(self, product):\n",
    "        return self.warehouse.check_available_product(product)"
   ]
  },
  {
   "cell_type": "markdown",
   "id": "dcc79d91-ccef-43ff-bec1-f53db09a7b6c",
   "metadata": {},
   "source": [
    "##### Composite"
   ]
  },
  {
   "cell_type": "code",
   "execution_count": 132,
   "id": "bbf07cb8-59bf-44b4-a837-1aa3268ed889",
   "metadata": {},
   "outputs": [],
   "source": [
    "class Component:\n",
    "    pass"
   ]
  },
  {
   "cell_type": "code",
   "execution_count": 133,
   "id": "c1b2a954-a917-456d-be7c-9696d2a86b40",
   "metadata": {},
   "outputs": [],
   "source": [
    "class Screen(Component):\n",
    "    pass"
   ]
  },
  {
   "cell_type": "code",
   "execution_count": 130,
   "id": "8664ebf4-7971-4dfc-bd28-7add4c12a768",
   "metadata": {},
   "outputs": [],
   "source": [
    "class Computer:\n",
    "    def __init__(self, components):\n",
    "        self.components = components\n",
    "    \n",
    "    def activate(self):\n",
    "        for component in self.component:\n",
    "            component().implement()"
   ]
  },
  {
   "cell_type": "markdown",
   "id": "c54798eb-2fa6-4af3-ad54-80cad8e88cd0",
   "metadata": {},
   "source": [
    "##### Chain of Responsibility"
   ]
  },
  {
   "cell_type": "code",
   "execution_count": 145,
   "id": "00db4279-2680-48de-8ac3-a8bf4f90b0d9",
   "metadata": {},
   "outputs": [],
   "source": [
    "class CreatuerModifier:\n",
    "    def __init__(self):\n",
    "        self.next_modifier = None\n",
    "    \n",
    "    def add_modifier(self, modifier):\n",
    "        if self.next_modifier == None:\n",
    "            self.next_modifier = modifier\n",
    "        else:\n",
    "            self.next_modifier.add_modifier(modifier)\n",
    "    \n",
    "    def handle(self):\n",
    "        if self.next_modifier == None:\n",
    "            return\n",
    "        \n",
    "        self.next_modifier.handle()"
   ]
  },
  {
   "cell_type": "code",
   "execution_count": 149,
   "id": "225b3c8f-9425-41fb-a874-9bf24fd0c39e",
   "metadata": {},
   "outputs": [],
   "source": [
    "class Handler:\n",
    "    def __init__(self):\n",
    "        self.next_handler = None\n",
    "    \n",
    "    def set_next(self, next_handler):\n",
    "        if self.next_handler == None:\n",
    "            self.next_handler = next_handler\n",
    "            return next_handler\n",
    "    \n",
    "    def handle(self):\n",
    "        if self.next_handler == None: return\n",
    "        return self.next_handler.handle()"
   ]
  },
  {
   "cell_type": "markdown",
   "id": "9bb6eed5-8bae-467a-970c-508402f91bb4",
   "metadata": {},
   "source": [
    "### Python"
   ]
  },
  {
   "cell_type": "code",
   "execution_count": 91,
   "id": "921f1fba-7373-450e-887b-d1d7190142ec",
   "metadata": {},
   "outputs": [],
   "source": [
    "x: list[list[int]]"
   ]
  },
  {
   "cell_type": "code",
   "execution_count": 93,
   "id": "c0571e25-053a-49f3-bc10-ae1924ce4d88",
   "metadata": {},
   "outputs": [],
   "source": [
    "from typing import NamedTuple"
   ]
  },
  {
   "cell_type": "code",
   "execution_count": 94,
   "id": "a3d7aa41-9f3c-4d35-8e54-16da1f7d97fa",
   "metadata": {},
   "outputs": [],
   "source": [
    "class ElectricVehicle(NamedTuple):\n",
    "    efficient: int\n",
    "    make: str\n",
    "    price: int"
   ]
  },
  {
   "cell_type": "code",
   "execution_count": 95,
   "id": "533a0baf-e8d2-40d0-961b-94b62fa63e9e",
   "metadata": {},
   "outputs": [],
   "source": [
    "l = [1, 2, 3, 4, 5, 6]"
   ]
  },
  {
   "cell_type": "code",
   "execution_count": 98,
   "id": "e5d82212-06a1-4734-8d7f-f5d1d515c36d",
   "metadata": {},
   "outputs": [
    {
     "data": {
      "text/plain": [
       "[1, 4, 9, 16]"
      ]
     },
     "execution_count": 98,
     "metadata": {},
     "output_type": "execute_result"
    }
   ],
   "source": [
    "[x**2 for x in l if x**2 < 25]"
   ]
  },
  {
   "cell_type": "code",
   "execution_count": 134,
   "id": "eaa1c837-8152-431e-9119-d56393ebf9e0",
   "metadata": {},
   "outputs": [],
   "source": [
    "Vector = list[float]"
   ]
  },
  {
   "cell_type": "code",
   "execution_count": 135,
   "id": "f00cce12-ce80-4e65-acfc-1d41c27c1dc0",
   "metadata": {},
   "outputs": [],
   "source": [
    "from typing import Optional"
   ]
  },
  {
   "cell_type": "code",
   "execution_count": 136,
   "id": "29619b9f-7c3d-45b3-8abf-22ed5b1fe6d5",
   "metadata": {},
   "outputs": [],
   "source": [
    "def is_valid(value: Optional[bool] = False) -> bool:\n",
    "    return value"
   ]
  },
  {
   "cell_type": "code",
   "execution_count": 137,
   "id": "1bdefbab-d3d5-4b53-b3c4-e714c075458b",
   "metadata": {},
   "outputs": [],
   "source": [
    "x: dict[str, float]"
   ]
  },
  {
   "cell_type": "code",
   "execution_count": 140,
   "id": "c725bb12-3ec5-41bb-b2af-4686d70472a0",
   "metadata": {},
   "outputs": [],
   "source": [
    "from typing import Callable"
   ]
  },
  {
   "cell_type": "code",
   "execution_count": 141,
   "id": "13ee3815-7401-424b-8144-5799181c77ff",
   "metadata": {},
   "outputs": [],
   "source": [
    "def foo() -> Callable[[int, int], int]:\n",
    "    def add(x: int, y: int) -> int:\n",
    "        return x + y\n",
    "    return add"
   ]
  },
  {
   "cell_type": "code",
   "execution_count": 150,
   "id": "0ec44be1-89de-4e59-b4d5-32319094551e",
   "metadata": {},
   "outputs": [],
   "source": [
    "MetaStudent = type('MetaStudent', (), {\"major\": \"chem\"})"
   ]
  },
  {
   "cell_type": "code",
   "execution_count": 151,
   "id": "4e18e069-b388-4b2b-b132-cc2f20282036",
   "metadata": {},
   "outputs": [],
   "source": [
    "from dataclasses import dataclass"
   ]
  },
  {
   "cell_type": "code",
   "execution_count": 152,
   "id": "80ec827f-3638-4ea8-ab98-f6fc9c4b787c",
   "metadata": {},
   "outputs": [],
   "source": [
    "@dataclass\n",
    "class Vehicle:\n",
    "    year: int\n",
    "    price: int\n",
    "    manufacture: str"
   ]
  },
  {
   "cell_type": "code",
   "execution_count": 172,
   "id": "7947f123-477c-4f19-b579-3751bcb50b0d",
   "metadata": {},
   "outputs": [],
   "source": [
    "class Classroom:\n",
    "    def __init__(self):\n",
    "        self._students = {}\n",
    "    \n",
    "    def __setattr__(self, k, v):\n",
    "        if not k.startswith('_'): self._students[k] = v\n",
    "        super().__setattr__(k, v)"
   ]
  },
  {
   "cell_type": "code",
   "execution_count": 173,
   "id": "33b9761b-b2eb-4a5a-83fc-b6473fcbc588",
   "metadata": {},
   "outputs": [],
   "source": [
    "c = Classroom()"
   ]
  },
  {
   "cell_type": "code",
   "execution_count": 174,
   "id": "73899bd5-5544-4695-96e9-48284c8fceed",
   "metadata": {},
   "outputs": [],
   "source": [
    "c.student_1 = 1"
   ]
  },
  {
   "cell_type": "code",
   "execution_count": null,
   "id": "11981321-be41-4cc7-8170-f95131e1a9e0",
   "metadata": {},
   "outputs": [],
   "source": []
  }
 ],
 "metadata": {
  "kernelspec": {
   "display_name": "Python 3 (ipykernel)",
   "language": "python",
   "name": "python3"
  },
  "language_info": {
   "codemirror_mode": {
    "name": "ipython",
    "version": 3
   },
   "file_extension": ".py",
   "mimetype": "text/x-python",
   "name": "python",
   "nbconvert_exporter": "python",
   "pygments_lexer": "ipython3",
   "version": "3.9.13"
  }
 },
 "nbformat": 4,
 "nbformat_minor": 5
}
