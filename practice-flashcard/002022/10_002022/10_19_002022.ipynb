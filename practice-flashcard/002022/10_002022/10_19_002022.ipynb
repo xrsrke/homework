{
 "cells": [
  {
   "cell_type": "markdown",
   "id": "456b8ab3-4043-4bf3-b571-6431ab9230ca",
   "metadata": {},
   "source": [
    "### Deep Learning"
   ]
  },
  {
   "cell_type": "code",
   "execution_count": null,
   "id": "4dc739ca-ed7f-4a7e-9881-c8325da5af1b",
   "metadata": {},
   "outputs": [],
   "source": [
    "def numericalize(x):\n",
    "    return [idxs[word] for word in tokens]"
   ]
  },
  {
   "cell_type": "code",
   "execution_count": null,
   "id": "7acb96cc-21ee-4658-8b8d-a17950f1b4ee",
   "metadata": {},
   "outputs": [],
   "source": [
    "def word_tokenizier(x):\n",
    "    return x.split(' ')"
   ]
  },
  {
   "cell_type": "code",
   "execution_count": null,
   "id": "70acee88-6d79-4c13-8608-5d44ba554061",
   "metadata": {},
   "outputs": [],
   "source": [
    "import torch.nn as nn"
   ]
  },
  {
   "cell_type": "code",
   "execution_count": null,
   "id": "05a01f55-a9f1-452e-b549-5a56042fd8f3",
   "metadata": {},
   "outputs": [],
   "source": [
    "l1 = nn.Conv2d(1, 100, 5)"
   ]
  },
  {
   "cell_type": "code",
   "execution_count": null,
   "id": "4776130f-186f-4bcd-8282-1535c4d3ab59",
   "metadata": {},
   "outputs": [],
   "source": [
    "import torch.nn.init as init"
   ]
  },
  {
   "cell_type": "code",
   "execution_count": null,
   "id": "2928e852-792b-4438-842e-3f41d0f31956",
   "metadata": {},
   "outputs": [],
   "source": [
    "init.kaiming_normal_(l1.weight, a=1); pass"
   ]
  },
  {
   "cell_type": "code",
   "execution_count": null,
   "id": "e8af3e9f-6629-4586-8205-27792e7bb71b",
   "metadata": {},
   "outputs": [],
   "source": [
    "class Model:\n",
    "    def __init__(self, w1, b1, w2, b2):\n",
    "        self.layers = [Lin(w1, b1), ReLU(), Lin(w2, b2)]\n",
    "        self.loss = MSE()\n",
    "    \n",
    "    def __call__(self, x, targ):\n",
    "        for l in self.layers:\n",
    "            x = l(x)\n",
    "        \n",
    "        return self.MSE(x, targ)"
   ]
  },
  {
   "cell_type": "code",
   "execution_count": null,
   "id": "d707beae-00ac-4ff3-809f-209f89c208d3",
   "metadata": {},
   "outputs": [],
   "source": [
    "def relu(x):\n",
    "    return x.clamp_min(0.)"
   ]
  },
  {
   "cell_type": "code",
   "execution_count": null,
   "id": "d8b5eb2e-ab57-4c80-afe0-c03e29730107",
   "metadata": {},
   "outputs": [],
   "source": [
    "x = torch.randn(2, 4)"
   ]
  },
  {
   "cell_type": "code",
   "execution_count": null,
   "id": "812d8945-f427-49dd-81e8-bce57f4b864f",
   "metadata": {},
   "outputs": [
    {
     "data": {
      "text/plain": [
       "tensor([[0.6477, 0.0000, 0.0000, 0.5062],\n",
       "        [0.0000, 0.0000, 0.0000, 1.6110]])"
      ]
     },
     "execution_count": null,
     "metadata": {},
     "output_type": "execute_result"
    }
   ],
   "source": [
    "relu(x)"
   ]
  },
  {
   "cell_type": "code",
   "execution_count": null,
   "id": "4bc62976-1c48-4dfc-838c-e1568eab9914",
   "metadata": {},
   "outputs": [],
   "source": [
    "train_mean, train_std = x_train.mean(), x_train.std()"
   ]
  },
  {
   "cell_type": "code",
   "execution_count": null,
   "id": "fb88f7f3-f313-40bc-9c6e-c5bab7f2b124",
   "metadata": {},
   "outputs": [],
   "source": [
    "def normalize(x, m, std):\n",
    "    return (x - m)/std"
   ]
  },
  {
   "cell_type": "code",
   "execution_count": null,
   "id": "0b3c1ffd-7474-4f9b-a966-0f226dc68f46",
   "metadata": {},
   "outputs": [],
   "source": [
    "x_train, x_valid = normalize(x_train, train_mean, train_std), normalize(x_valid, trai....)"
   ]
  },
  {
   "cell_type": "code",
   "execution_count": null,
   "id": "22990d68-b2fe-4af2-97d1-6294fda9b814",
   "metadata": {},
   "outputs": [],
   "source": [
    "def split_dataset(x, percent):\n",
    "    cut = int(len(x) * percent)\n",
    "    \n",
    "    return x[:cut], x[cut:]"
   ]
  },
  {
   "cell_type": "code",
   "execution_count": null,
   "id": "82a93866-569d-4a26-9f49-a20647c10e6d",
   "metadata": {},
   "outputs": [],
   "source": [
    "def numericalize(x):\n",
    "    return [idxs[word] for word in tokens]"
   ]
  },
  {
   "cell_type": "code",
   "execution_count": null,
   "id": "8d5b1601-a166-4d93-9add-fbbc1d7066e9",
   "metadata": {},
   "outputs": [],
   "source": [
    "text = ' . '.join([l.strip() for l in lines])"
   ]
  },
  {
   "cell_type": "code",
   "execution_count": null,
   "id": "60ca680a-0b58-4c1d-97ed-35476ecbb9cc",
   "metadata": {},
   "outputs": [],
   "source": [
    "def word2idx(x):\n",
    "    return {w:i for i, w in enumerate(x)}"
   ]
  },
  {
   "cell_type": "code",
   "execution_count": null,
   "id": "ceb4f33b-10c2-4ebf-a292-f00a472e978a",
   "metadata": {},
   "outputs": [],
   "source": [
    "def create_token(x):\n",
    "    return L(x).unique()"
   ]
  },
  {
   "cell_type": "code",
   "execution_count": null,
   "id": "719d9d6b-e562-4a39-b5fc-ff8c671fa378",
   "metadata": {},
   "outputs": [],
   "source": [
    "from PIL import Image"
   ]
  },
  {
   "cell_type": "code",
   "execution_count": null,
   "id": "5410749b-b251-4318-8e88-0906b305bb11",
   "metadata": {},
   "outputs": [],
   "source": [
    "sevens_tensor = torch.stack([tensor(Image.open(o)) for o in sevens], dim=0)"
   ]
  },
  {
   "cell_type": "markdown",
   "id": "05ac8403-b3ef-44ba-aab0-f4c18c81aa33",
   "metadata": {},
   "source": [
    "### bash"
   ]
  },
  {
   "cell_type": "code",
   "execution_count": null,
   "id": "a6af8b22-23be-4236-90c6-432059732194",
   "metadata": {},
   "outputs": [],
   "source": [
    "for arg in \"$@\"; do\n",
    "    echo arg\n",
    "done"
   ]
  },
  {
   "cell_type": "code",
   "execution_count": null,
   "id": "05016d5d-a62d-4a90-9e08-57c1e6197b5f",
   "metadata": {},
   "outputs": [],
   "source": [
    "find ./projects -name src -type d"
   ]
  },
  {
   "cell_type": "code",
   "execution_count": null,
   "id": "afb18776-4d62-4df2-8ccf-8b27710b9aa2",
   "metadata": {},
   "outputs": [],
   "source": [
    "cat foo{,1,2,3}"
   ]
  },
  {
   "cell_type": "code",
   "execution_count": null,
   "id": "dd13f8f9-c1a2-4010-83e4-64f39c4d7527",
   "metadata": {},
   "outputs": [],
   "source": [
    "if [[X == Y]]; then\n",
    "    # code\n",
    "elif [[X == Z]]; then\n",
    "    # code\n",
    "else\n",
    "    # code\n",
    "done"
   ]
  },
  {
   "cell_type": "code",
   "execution_count": null,
   "id": "f9f5704e-c7c7-4b0a-8e93-a8eea778fb2e",
   "metadata": {},
   "outputs": [],
   "source": [
    "dr--"
   ]
  },
  {
   "cell_type": "code",
   "execution_count": null,
   "id": "f7a0177d-df31-4a51-b965-11cd3ac59c5e",
   "metadata": {},
   "outputs": [],
   "source": [
    "rm ./learner/loss.py"
   ]
  },
  {
   "cell_type": "code",
   "execution_count": null,
   "id": "01833fb7-b913-466d-993e-3c2607498f53",
   "metadata": {},
   "outputs": [],
   "source": [
    "ls -l /users"
   ]
  },
  {
   "cell_type": "code",
   "execution_count": null,
   "id": "99c6f8c3-2193-48d7-bb77-21e9e63b4c6f",
   "metadata": {},
   "outputs": [],
   "source": [
    "cp foo.js ./new/hello.js"
   ]
  },
  {
   "cell_type": "code",
   "execution_count": null,
   "id": "06c5f9a1-eeb2-457a-81ee-99784d6d49b0",
   "metadata": {},
   "outputs": [],
   "source": [
    "which nbdev_new"
   ]
  },
  {
   "cell_type": "code",
   "execution_count": null,
   "id": "b58b952f-a4b2-444e-a434-0fee9a8a5eb2",
   "metadata": {},
   "outputs": [],
   "source": [
    "echo $PATH"
   ]
  },
  {
   "cell_type": "code",
   "execution_count": null,
   "id": "25b6ccae-2eba-4bed-9a5c-8b754866509a",
   "metadata": {},
   "outputs": [],
   "source": [
    "mkdir \"My Photos\""
   ]
  },
  {
   "cell_type": "code",
   "execution_count": null,
   "id": "20e483b5-c82f-4bff-90b2-0cef12b41861",
   "metadata": {},
   "outputs": [],
   "source": [
    "rmdir datablock"
   ]
  },
  {
   "cell_type": "code",
   "execution_count": null,
   "id": "111e0533-f5ee-43e2-a7cb-5b3d091cf137",
   "metadata": {},
   "outputs": [],
   "source": [
    "pwd"
   ]
  },
  {
   "cell_type": "code",
   "execution_count": null,
   "id": "49956acb-a7ef-4982-8672-4e8fe55b53b4",
   "metadata": {},
   "outputs": [],
   "source": [
    "cat < h1.txt > h2.txt"
   ]
  },
  {
   "cell_type": "code",
   "execution_count": null,
   "id": "3675334b-5434-420e-8478-65ac608caad2",
   "metadata": {},
   "outputs": [],
   "source": [
    "cd ~"
   ]
  },
  {
   "cell_type": "code",
   "execution_count": null,
   "id": "da574686-f428-411b-81a7-721c49241343",
   "metadata": {},
   "outputs": [],
   "source": [
    "find ./project -name src -type d"
   ]
  },
  {
   "cell_type": "markdown",
   "id": "31379046-695c-42ed-ae2d-0579c3f7b639",
   "metadata": {},
   "source": [
    "### Python"
   ]
  },
  {
   "cell_type": "code",
   "execution_count": null,
   "id": "2ecb7959-3c8a-4bd0-add9-f10244de600c",
   "metadata": {},
   "outputs": [],
   "source": [
    "class Box:\n",
    "    def __get__(self, instance, owner):\n",
    "        pass\n",
    "\n",
    "    def __set__(self, instance, value): pass"
   ]
  },
  {
   "cell_type": "code",
   "execution_count": null,
   "id": "45fa67ef-28f6-45d2-8ccb-70d286101d9e",
   "metadata": {},
   "outputs": [],
   "source": [
    "class Vehicle:\n",
    "    def say_hello(self): return 'hello'\n",
    "    \n",
    "    def func(self):\n",
    "        new = self.__class__()\n",
    "        return new.say_hello()"
   ]
  },
  {
   "cell_type": "code",
   "execution_count": null,
   "id": "bbcd4da1-6bb5-4073-b924-66c97737ab2f",
   "metadata": {},
   "outputs": [],
   "source": [
    "v = Vehicle()"
   ]
  },
  {
   "cell_type": "code",
   "execution_count": null,
   "id": "6c93c056-d8ff-44ca-b3c9-3d53387c066f",
   "metadata": {},
   "outputs": [
    {
     "data": {
      "text/plain": [
       "'hello'"
      ]
     },
     "execution_count": null,
     "metadata": {},
     "output_type": "execute_result"
    }
   ],
   "source": [
    "v.func()"
   ]
  },
  {
   "cell_type": "code",
   "execution_count": null,
   "id": "3674d3df-e5df-4d28-a387-64984507cfaf",
   "metadata": {},
   "outputs": [],
   "source": [
    "from dataclasses import dataclass, field"
   ]
  },
  {
   "cell_type": "code",
   "execution_count": null,
   "id": "4da06e97-cdb2-4e87-a82b-81415842bbfd",
   "metadata": {},
   "outputs": [],
   "source": [
    "@dataclass(order=True)\n",
    "class Camera:\n",
    "    resolution: int= field(compare=True)\n",
    "    size: int= field(compare=False)\n",
    "    mass: int = field(compare=False)"
   ]
  },
  {
   "cell_type": "code",
   "execution_count": null,
   "id": "e4f51557-b8d6-44eb-92bf-a2dc4093a285",
   "metadata": {},
   "outputs": [],
   "source": [
    "from fastcore.foundation import *"
   ]
  },
  {
   "cell_type": "code",
   "execution_count": null,
   "id": "301f42bf-2ce1-4669-b8ec-e38ae554af94",
   "metadata": {},
   "outputs": [],
   "source": [
    "@docs\n",
    "class DataBlock:\n",
    "    def get_x(self): pass\n",
    "    \n",
    "    def get_y(self): pass\n",
    "    \n",
    "    _docs = dict(cls_doc='O',\n",
    "                 get_x='x',\n",
    "                 get_y='y')"
   ]
  },
  {
   "cell_type": "code",
   "execution_count": null,
   "id": "2ca41d65-1f27-47ea-9c01-5c32e29f94af",
   "metadata": {},
   "outputs": [
    {
     "name": "stdout",
     "output_type": "stream",
     "text": [
      "Help on class DataBlock in module __main__:\n",
      "\n",
      "class DataBlock(builtins.object)\n",
      " |  O\n",
      " |  \n",
      " |  Methods defined here:\n",
      " |  \n",
      " |  get_x(self)\n",
      " |      x\n",
      " |  \n",
      " |  get_y(self)\n",
      " |      y\n",
      " |  \n",
      " |  ----------------------------------------------------------------------\n",
      " |  Data descriptors defined here:\n",
      " |  \n",
      " |  __dict__\n",
      " |      dictionary for instance variables (if defined)\n",
      " |  \n",
      " |  __weakref__\n",
      " |      list of weak references to the object (if defined)\n",
      "\n"
     ]
    }
   ],
   "source": [
    "help(DataBlock)"
   ]
  },
  {
   "cell_type": "code",
   "execution_count": null,
   "id": "8b29ce3b-392b-428d-b2c6-1f153c0869a4",
   "metadata": {},
   "outputs": [],
   "source": [
    "f1.open().read()"
   ]
  },
  {
   "cell_type": "code",
   "execution_count": null,
   "id": "7e3f44a8-099f-4ed8-b5e9-80ad4a5d606f",
   "metadata": {},
   "outputs": [],
   "source": [
    "x: dict[str, float]"
   ]
  },
  {
   "cell_type": "code",
   "execution_count": null,
   "id": "d589e829-ea6e-423c-8d72-6f7868145de1",
   "metadata": {},
   "outputs": [],
   "source": [
    "Vector = list[float]"
   ]
  },
  {
   "cell_type": "code",
   "execution_count": null,
   "id": "6c9886bf-b66e-4977-92ea-ab835066de89",
   "metadata": {},
   "outputs": [],
   "source": [
    "def coordinate(v: Vector) -> Vector:\n",
    "    pass"
   ]
  },
  {
   "cell_type": "markdown",
   "id": "be126dc7-27e1-4e7e-906f-8fe49872c373",
   "metadata": {},
   "source": [
    "### SQL"
   ]
  },
  {
   "cell_type": "code",
   "execution_count": null,
   "id": "f9eef310-9445-40a7-b59f-1d6fa60f9128",
   "metadata": {},
   "outputs": [],
   "source": [
    "SELECT * FROM movies WHERE NOT review = 2 AND NOT review=3b"
   ]
  },
  {
   "cell_type": "code",
   "execution_count": null,
   "id": "bbc0bdcf-4a53-48b6-be48-77ee4cb2b532",
   "metadata": {},
   "outputs": [],
   "source": [
    "SELECT COUNT(id) FROM usersb"
   ]
  },
  {
   "cell_type": "code",
   "execution_count": null,
   "id": "fe2db44d-5c13-4dd3-bbe9-075ca20be07b",
   "metadata": {},
   "outputs": [],
   "source": [
    "Filter 1\n",
    "- "
   ]
  },
  {
   "cell_type": "code",
   "execution_count": null,
   "id": "5af605c1-c677-4dcd-9a11-2773ef8a9894",
   "metadata": {},
   "outputs": [],
   "source": [
    "SELECT coalesce(n_epochs, 10) as n_epochs FROM training"
   ]
  },
  {
   "cell_type": "markdown",
   "id": "67e35c38-4089-49dd-b95a-260deccb215d",
   "metadata": {},
   "source": [
    "### Git"
   ]
  },
  {
   "cell_type": "code",
   "execution_count": null,
   "id": "ea734e60-85ac-43d0-80bb-fe6717933bb2",
   "metadata": {},
   "outputs": [],
   "source": [
    "git fetch origin"
   ]
  },
  {
   "cell_type": "code",
   "execution_count": null,
   "id": "7dfe163a-2062-4517-9d7d-e90fbe8e4bc7",
   "metadata": {},
   "outputs": [],
   "source": [
    "git clean -df"
   ]
  },
  {
   "cell_type": "code",
   "execution_count": null,
   "id": "b5824be2-b373-4350-a2bb-d86dde6fc4cb",
   "metadata": {},
   "outputs": [],
   "source": [
    "git stash push -m \"\""
   ]
  },
  {
   "cell_type": "markdown",
   "id": "0ad061f9-4956-4d65-b50a-4ca185af62f3",
   "metadata": {},
   "source": [
    "### SymPy"
   ]
  },
  {
   "cell_type": "code",
   "execution_count": null,
   "id": "dde3be80-5e63-4796-9528-19bd5d0d334c",
   "metadata": {},
   "outputs": [],
   "source": [
    "import sympy as smp"
   ]
  },
  {
   "cell_type": "code",
   "execution_count": null,
   "id": "483a35db-e384-47d1-84da-77727aa6fd22",
   "metadata": {},
   "outputs": [],
   "source": [
    "smp.Matrix([])"
   ]
  },
  {
   "cell_type": "code",
   "execution_count": null,
   "id": "01a3fbf9-e0d1-4550-a4ba-9a6bd276df49",
   "metadata": {},
   "outputs": [],
   "source": [
    "smp.integrate(y, x)"
   ]
  },
  {
   "cell_type": "code",
   "execution_count": null,
   "id": "aca2bba0-c2f0-41a2-bd8e-5f4cd48eebec",
   "metadata": {},
   "outputs": [],
   "source": [
    "x = smp.symbols('x', real=True)"
   ]
  },
  {
   "cell_type": "code",
   "execution_count": null,
   "id": "1f353de8-2ffa-4169-8b81-f428cb40a02c",
   "metadata": {},
   "outputs": [],
   "source": [
    "u.norm"
   ]
  },
  {
   "cell_type": "code",
   "execution_count": null,
   "id": "c2bdd565-9097-42a4-95c2-e798bcd3782b",
   "metadata": {},
   "outputs": [],
   "source": [
    "derivative(f, x, dx='')"
   ]
  },
  {
   "cell_type": "code",
   "execution_count": null,
   "id": "b32563e0-a374-4be8-a872-e2348e0118ac",
   "metadata": {},
   "outputs": [],
   "source": [
    "x[[0, 2, 3, 3], [2, 3, 1, 4]]"
   ]
  },
  {
   "cell_type": "markdown",
   "id": "8e7945af-c83f-4e22-9a20-8313d121f974",
   "metadata": {},
   "source": [
    "### fastcore"
   ]
  },
  {
   "cell_type": "code",
   "execution_count": null,
   "id": "3dc61d1e-0a88-474b-b320-ba2d69bf9370",
   "metadata": {},
   "outputs": [],
   "source": [
    "from fastcore.meta import *"
   ]
  },
  {
   "cell_type": "code",
   "execution_count": null,
   "id": "97659c1e-e887-4e3f-b1a8-f2c76865b5a1",
   "metadata": {},
   "outputs": [],
   "source": [
    "@funcs_kwargs\n",
    "class DataBlock:\n",
    "    _methods = ['loss_func']"
   ]
  },
  {
   "cell_type": "code",
   "execution_count": null,
   "id": "8c2cabed-1a57-45bd-8624-62511ce66a82",
   "metadata": {},
   "outputs": [],
   "source": [
    "dblock = DataBlock(loss_func=lambda:1)"
   ]
  },
  {
   "cell_type": "code",
   "execution_count": null,
   "id": "6bc84c67-7418-4dc5-add1-4e80bb7a73ff",
   "metadata": {},
   "outputs": [
    {
     "data": {
      "text/plain": [
       "1"
      ]
     },
     "execution_count": null,
     "metadata": {},
     "output_type": "execute_result"
    }
   ],
   "source": [
    "dblock.loss_func()"
   ]
  },
  {
   "cell_type": "code",
   "execution_count": null,
   "id": "ffb00c67-4df3-4125-8211-99a53c9808ab",
   "metadata": {},
   "outputs": [],
   "source": [
    "L(b).attrgot('id')"
   ]
  },
  {
   "cell_type": "code",
   "execution_count": null,
   "id": "49b2d080-7fb3-4ae9-85a7-151a14710ed2",
   "metadata": {},
   "outputs": [],
   "source": [
    "L(nums).map(square)"
   ]
  },
  {
   "cell_type": "code",
   "execution_count": null,
   "id": "081be616-fb53-4b3e-a671-5f00875ad883",
   "metadata": {},
   "outputs": [],
   "source": [
    "add_props"
   ]
  },
  {
   "cell_type": "code",
   "execution_count": null,
   "id": "6d495be1-4b54-4ba2-9ce9-968d932da0ce",
   "metadata": {},
   "outputs": [],
   "source": [
    "class TestGetCompanies:\n",
    "    def test_list(self):\n",
    "        assert"
   ]
  },
  {
   "cell_type": "markdown",
   "id": "af60f2aa-1502-40ce-b135-4c35d2fe715e",
   "metadata": {},
   "source": [
    "### Pytest"
   ]
  },
  {
   "cell_type": "code",
   "execution_count": null,
   "id": "eacc02f2-a15d-43ae-960d-d4b656f39164",
   "metadata": {},
   "outputs": [],
   "source": [
    "import pytest"
   ]
  },
  {
   "cell_type": "code",
   "execution_count": null,
   "id": "52ba3182-3873-459d-957b-28a731f39e40",
   "metadata": {},
   "outputs": [],
   "source": [
    "@pytest.fixture\n",
    "def notebook() -> Book:\n",
    "    return Book('')"
   ]
  }
 ],
 "metadata": {
  "kernelspec": {
   "display_name": "Python 3 (ipykernel)",
   "language": "python",
   "name": "python3"
  }
 },
 "nbformat": 4,
 "nbformat_minor": 5
}
