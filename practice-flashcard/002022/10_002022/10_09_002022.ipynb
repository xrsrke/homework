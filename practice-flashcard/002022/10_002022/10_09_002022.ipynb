{
 "cells": [
  {
   "cell_type": "markdown",
   "id": "e7c20dd1-092d-4f95-974f-fbc5c80ea7e2",
   "metadata": {},
   "source": [
    "### Python"
   ]
  },
  {
   "cell_type": "code",
   "execution_count": null,
   "id": "a0076f99-bab1-47ff-9a14-646439db4bd9",
   "metadata": {},
   "outputs": [],
   "source": [
    "from fastcore.basics import *"
   ]
  },
  {
   "cell_type": "code",
   "execution_count": null,
   "id": "1c4fee6e-55eb-4116-9851-5e8da8542678",
   "metadata": {},
   "outputs": [],
   "source": [
    "class _Webpage:\n",
    "    def __init__(self, title, author=\"Jeremy\"):\n",
    "        self.title = title\n",
    "        self.author = author"
   ]
  },
  {
   "cell_type": "code",
   "execution_count": null,
   "id": "bd2d4419-c5f5-4e59-ae3f-a5d40106f79a",
   "metadata": {},
   "outputs": [],
   "source": [
    "class _ProductPage(GetAttr):\n",
    "    def __init__(self, page, price):\n",
    "        self.default = page\n",
    "        self.price = price"
   ]
  },
  {
   "cell_type": "code",
   "execution_count": null,
   "id": "3ca35a63-e621-4bb8-bf24-88afa9bbd0e3",
   "metadata": {},
   "outputs": [],
   "source": [
    "w = _Webpage('X')"
   ]
  },
  {
   "cell_type": "code",
   "execution_count": null,
   "id": "0b45ec56-5ba8-47ba-a941-52ecda468086",
   "metadata": {},
   "outputs": [],
   "source": [
    "p = _ProductPage(w, 'Y')"
   ]
  },
  {
   "cell_type": "code",
   "execution_count": null,
   "id": "d48ba7e9-03e5-4aa4-9a0a-974ad12ba1e3",
   "metadata": {},
   "outputs": [
    {
     "data": {
      "text/plain": [
       "'Jeremy'"
      ]
     },
     "execution_count": null,
     "metadata": {},
     "output_type": "execute_result"
    }
   ],
   "source": [
    "p.author"
   ]
  },
  {
   "cell_type": "code",
   "execution_count": null,
   "id": "0f5f75f9-5325-4cc9-99d7-c45f7f0b793b",
   "metadata": {},
   "outputs": [],
   "source": [
    "from fastcore.meta import *"
   ]
  },
  {
   "cell_type": "code",
   "execution_count": null,
   "id": "fbb3ccf4-61d0-4aba-bd50-d8b317c3bf7b",
   "metadata": {},
   "outputs": [],
   "source": [
    "class Mechanics(metaclass=PrePostInitMeta):\n",
    "    def __pre_init__(self): print(\"pre\")\n",
    "    \n",
    "    def __init__(self):\n",
    "        print(\"init\")\n",
    "    \n",
    "    def __post_init__(self):\n",
    "        print(\"post\")"
   ]
  },
  {
   "cell_type": "code",
   "execution_count": null,
   "id": "e7437fb7-f583-4f29-a7c6-e6b97ed0829f",
   "metadata": {},
   "outputs": [
    {
     "name": "stdout",
     "output_type": "stream",
     "text": [
      "pre\n",
      "init\n",
      "post\n"
     ]
    }
   ],
   "source": [
    "m = Mechanics()"
   ]
  },
  {
   "cell_type": "code",
   "execution_count": null,
   "id": "0be2b327-84e7-43ea-8f35-bcc1f14a8940",
   "metadata": {},
   "outputs": [],
   "source": [
    "from fastcore.all import *"
   ]
  },
  {
   "cell_type": "code",
   "execution_count": null,
   "id": "2e739714-a565-4783-bdf9-af6cec874d73",
   "metadata": {},
   "outputs": [],
   "source": [
    "class Learner:\n",
    "    def __init__(self):\n",
    "        self.n_epochs = 3"
   ]
  },
  {
   "cell_type": "code",
   "execution_count": null,
   "id": "a3e43c6e-657c-493b-a933-bfb10d23f69c",
   "metadata": {},
   "outputs": [],
   "source": [
    "@patch()\n",
    "def num_items(self:Learner):\n",
    "    print(\"works\")"
   ]
  },
  {
   "cell_type": "code",
   "execution_count": null,
   "id": "1c67a2b3-da3f-41e9-a59b-4414c7fe8acc",
   "metadata": {},
   "outputs": [
    {
     "name": "stdout",
     "output_type": "stream",
     "text": [
      "works\n"
     ]
    }
   ],
   "source": [
    "Learner().num_items()"
   ]
  },
  {
   "cell_type": "code",
   "execution_count": null,
   "id": "58877e42-9c6e-4d9f-bf80-0da365d04978",
   "metadata": {},
   "outputs": [],
   "source": [
    "from fastcore.dispatch import *"
   ]
  },
  {
   "cell_type": "code",
   "execution_count": null,
   "id": "7ef0a78a-ce19-41c4-b144-488ec2b514de",
   "metadata": {},
   "outputs": [],
   "source": [
    "@typedispatch\n",
    "def f(a: int, b: int): print(1)"
   ]
  },
  {
   "cell_type": "code",
   "execution_count": null,
   "id": "2cb062d2-21fb-4bfe-8aa5-390c01f052ac",
   "metadata": {},
   "outputs": [],
   "source": [
    "@typedispatch\n",
    "def f(a: str, b: str): print(2)"
   ]
  },
  {
   "cell_type": "code",
   "execution_count": null,
   "id": "ae55ed47-a0a3-458a-a162-8d2dd1204cbe",
   "metadata": {},
   "outputs": [
    {
     "name": "stdout",
     "output_type": "stream",
     "text": [
      "2\n"
     ]
    }
   ],
   "source": [
    "f('a', 'b')"
   ]
  },
  {
   "cell_type": "code",
   "execution_count": null,
   "id": "75a99a45-3a01-43ed-8ff7-cbc76a4ae20d",
   "metadata": {},
   "outputs": [
    {
     "name": "stdout",
     "output_type": "stream",
     "text": [
      "1\n"
     ]
    }
   ],
   "source": [
    "f(1, 2)"
   ]
  },
  {
   "cell_type": "code",
   "execution_count": null,
   "id": "8f803fd6-f2e5-4958-b6a3-dba84937ba1a",
   "metadata": {},
   "outputs": [],
   "source": [
    "def baz(a, b: int=2, c: int=3):\n",
    "    return a + b +c"
   ]
  },
  {
   "cell_type": "markdown",
   "id": "80982ec6-d099-46e8-80ba-663fe7e46d53",
   "metadata": {},
   "source": [
    "##### Type Hints"
   ]
  },
  {
   "cell_type": "code",
   "execution_count": null,
   "id": "3cf6cf7f-ad33-41ec-b320-390de8fd6422",
   "metadata": {},
   "outputs": [],
   "source": [
    "from typing import Any"
   ]
  },
  {
   "cell_type": "code",
   "execution_count": null,
   "id": "ebc42fd0-2e5d-40b3-ba65-86d69fa2a548",
   "metadata": {},
   "outputs": [],
   "source": [
    "def hello(whatever: Any) -> str:\n",
    "    pass"
   ]
  },
  {
   "cell_type": "code",
   "execution_count": null,
   "id": "6bb95567-631d-448f-afa4-3805c16c0ec5",
   "metadata": {},
   "outputs": [],
   "source": [
    "from typing import Callable"
   ]
  },
  {
   "cell_type": "code",
   "execution_count": null,
   "id": "748f98b9-af11-47d1-a0e4-56e4577d5269",
   "metadata": {},
   "outputs": [],
   "source": [
    "def foo(collections: Sequence[str]) -> None:\n",
    "    pass"
   ]
  },
  {
   "cell_type": "code",
   "execution_count": null,
   "id": "9f18bf7f-82a0-4ba5-9e1c-51f49ae20765",
   "metadata": {},
   "outputs": [],
   "source": [
    "def foo() -> Callable[[int, int], int]:\n",
    "    def add(x: int, y: int) -> int:\n",
    "        return x + y\n",
    "    return add"
   ]
  },
  {
   "cell_type": "code",
   "execution_count": null,
   "id": "6d889822-e7cb-4ee4-aa18-abdf6d61f1ea",
   "metadata": {},
   "outputs": [],
   "source": [
    "class Learner:\n",
    "    def __init__(self):\n",
    "        self.n_epochs = 3"
   ]
  },
  {
   "cell_type": "code",
   "execution_count": null,
   "id": "bea021d2-4c77-4745-bc78-f65bd875aa0d",
   "metadata": {},
   "outputs": [],
   "source": [
    "from fastcore.all import *"
   ]
  },
  {
   "cell_type": "code",
   "execution_count": null,
   "id": "5dbf9b80-8ee4-412e-9e5a-613744d68f7b",
   "metadata": {},
   "outputs": [],
   "source": [
    "@patch\n",
    "def num_items(self: Learner):\n",
    "    return \"Works\""
   ]
  },
  {
   "cell_type": "code",
   "execution_count": null,
   "id": "01978485-033c-4224-b6a2-7eaf48fd4810",
   "metadata": {},
   "outputs": [],
   "source": [
    "l = Learner()"
   ]
  },
  {
   "cell_type": "code",
   "execution_count": null,
   "id": "bfb87c3d-d64d-4744-af15-31af7289a099",
   "metadata": {},
   "outputs": [
    {
     "data": {
      "text/plain": [
       "'Works'"
      ]
     },
     "execution_count": null,
     "metadata": {},
     "output_type": "execute_result"
    }
   ],
   "source": [
    "l.num_items()"
   ]
  },
  {
   "cell_type": "code",
   "execution_count": null,
   "id": "4952ea22-8f15-4d11-9772-e7d306925374",
   "metadata": {},
   "outputs": [],
   "source": [
    "import inspect"
   ]
  },
  {
   "cell_type": "code",
   "execution_count": null,
   "id": "448d2a05-d140-464f-b543-d5e21eb9158c",
   "metadata": {},
   "outputs": [],
   "source": [
    "def bar(a, b: int = 2, c: int = 3):\n",
    "    return a + b + c"
   ]
  },
  {
   "cell_type": "code",
   "execution_count": null,
   "id": "36200426-7142-4c15-8d59-7cfb2c0be56c",
   "metadata": {},
   "outputs": [],
   "source": [
    "def foo(c, a, **kwargs):\n",
    "    return c + bar(a, **kwargs)"
   ]
  },
  {
   "cell_type": "code",
   "execution_count": null,
   "id": "cf1c96e1-4a7a-4a3f-b9db-45864d79994d",
   "metadata": {},
   "outputs": [
    {
     "data": {
      "text/plain": [
       "<Signature (c, a, **kwargs)>"
      ]
     },
     "execution_count": null,
     "metadata": {},
     "output_type": "execute_result"
    }
   ],
   "source": [
    "inspect.signature(foo)"
   ]
  },
  {
   "cell_type": "code",
   "execution_count": null,
   "id": "f4d65c62-c646-4c91-9e74-5bf307700785",
   "metadata": {},
   "outputs": [],
   "source": [
    "from fastcore.meta import *"
   ]
  },
  {
   "cell_type": "code",
   "execution_count": null,
   "id": "ef9aead6-f9fa-44be-97ee-13a85999d2b5",
   "metadata": {},
   "outputs": [],
   "source": [
    "@delegates(bar)\n",
    "def foo(c, a, **kwargs):\n",
    "    return c + bar(a, **kwargs)"
   ]
  },
  {
   "cell_type": "code",
   "execution_count": null,
   "id": "3273206a-f60f-4827-bcd0-15159e67c79e",
   "metadata": {},
   "outputs": [
    {
     "data": {
      "text/plain": [
       "<Signature (c, a, *, b: int = 2)>"
      ]
     },
     "execution_count": null,
     "metadata": {},
     "output_type": "execute_result"
    }
   ],
   "source": [
    "inspect.signature(foo)"
   ]
  },
  {
   "cell_type": "code",
   "execution_count": null,
   "id": "37baeb4e-67f7-4077-b488-b09919a316f3",
   "metadata": {},
   "outputs": [],
   "source": [
    "from dataclasses import dataclass, field"
   ]
  },
  {
   "cell_type": "code",
   "execution_count": null,
   "id": "c40610a9-651e-4441-b0f5-e7f645ea108a",
   "metadata": {},
   "outputs": [],
   "source": [
    "@dataclass(order=True)\n",
    "class Camera:\n",
    "    resolution: int = field(compare=True)\n",
    "    size: int = field(compare=False)\n",
    "    mass: int = field(compare=False)"
   ]
  },
  {
   "cell_type": "code",
   "execution_count": null,
   "id": "0642c699-d0cd-4b23-bb9c-7e41f82e442f",
   "metadata": {},
   "outputs": [],
   "source": [
    "class Learner:\n",
    "    pass"
   ]
  },
  {
   "cell_type": "code",
   "execution_count": null,
   "id": "768f0479-f12c-423c-96bf-37e2f15052fc",
   "metadata": {},
   "outputs": [],
   "source": [
    "@patch\n",
    "def num_items(self: Learner):\n",
    "    print(1)"
   ]
  },
  {
   "cell_type": "code",
   "execution_count": null,
   "id": "9ec2d914-3551-4206-bded-22d9ab729dfc",
   "metadata": {},
   "outputs": [],
   "source": [
    "learn = Learner()"
   ]
  },
  {
   "cell_type": "code",
   "execution_count": null,
   "id": "bd1dbe00-b946-4ead-8977-9b7ffd1e2104",
   "metadata": {},
   "outputs": [
    {
     "name": "stdout",
     "output_type": "stream",
     "text": [
      "1\n"
     ]
    }
   ],
   "source": [
    "learn.num_items()"
   ]
  },
  {
   "cell_type": "markdown",
   "id": "a992de81-3fa7-4d9f-8d08-b8449337e0ba",
   "metadata": {},
   "source": [
    "### Deep Learning"
   ]
  },
  {
   "cell_type": "code",
   "execution_count": null,
   "id": "b7d0924f-7fe4-490e-8ff1-0e633d3506dd",
   "metadata": {},
   "outputs": [],
   "source": [
    "dblock = DataBlock(blocks=[ImageBlock, CaterogyBlock])"
   ]
  },
  {
   "cell_type": "code",
   "execution_count": null,
   "id": "e2d06332-f756-4d21-8753-1f7a18859623",
   "metadata": {},
   "outputs": [],
   "source": [
    "idx = torch.where(dsets.train[0][1] == 1.)"
   ]
  },
  {
   "cell_type": "code",
   "execution_count": null,
   "id": "c8bb324f-1c23-4b71-b5ad-aabd0e93e6fd",
   "metadata": {},
   "outputs": [],
   "source": [
    "vocab(idx)"
   ]
  },
  {
   "cell_type": "code",
   "execution_count": null,
   "id": "e5641f60-1ffb-42fc-97f4-3d05757efc47",
   "metadata": {},
   "outputs": [],
   "source": [
    "dblock = DataBlock()"
   ]
  },
  {
   "cell_type": "code",
   "execution_count": null,
   "id": "0624ed2f-fb1f-4d9d-a67f-b14e4f2807f9",
   "metadata": {},
   "outputs": [],
   "source": [
    "datasets = dblock.datasets(df)"
   ]
  },
  {
   "cell_type": "code",
   "execution_count": null,
   "id": "7e9b261c-cd30-4430-afd1-821a7c2beda9",
   "metadata": {},
   "outputs": [],
   "source": [
    "dblock = DataBlock(blocks=[ImageBlock, MultiCategoryBlock],\n",
    "                   get_x = get_x,\n",
    "                   get_y = get_y)"
   ]
  },
  {
   "cell_type": "markdown",
   "id": "a2b2cd5b-8f0a-402a-a1ab-ab7e0dabd875",
   "metadata": {},
   "source": [
    "### Design Patterns"
   ]
  },
  {
   "cell_type": "markdown",
   "id": "2a124af1-4128-4921-8661-deae2f8d592d",
   "metadata": {},
   "source": [
    "##### State Patterns"
   ]
  },
  {
   "cell_type": "code",
   "execution_count": null,
   "id": "35c24102-5c03-449d-9ebf-d34f27bb8f2b",
   "metadata": {},
   "outputs": [],
   "source": [
    "class State:\n",
    "    pass"
   ]
  },
  {
   "cell_type": "code",
   "execution_count": null,
   "id": "01eb89e7-9432-43d1-826d-0cd75cc78c1e",
   "metadata": {},
   "outputs": [],
   "source": [
    "class UnpaidState(State):\n",
    "    def __init__(self, order):\n",
    "        self.order = order\n",
    "    \n",
    "    def receive_payment(self):\n",
    "        pass\n",
    "\n",
    "    def ship(self):\n",
    "        pass"
   ]
  },
  {
   "cell_type": "code",
   "execution_count": null,
   "id": "9e14dd53-4a7f-4f89-89a5-6ff3b9ab8430",
   "metadata": {},
   "outputs": [],
   "source": [
    "class PaidState(State):\n",
    "    def __init__(self, order):\n",
    "        self.order = order\n",
    "    \n",
    "    def receive_payment(self):\n",
    "        pass\n",
    "    \n",
    "    def ship(self):\n",
    "        pass"
   ]
  },
  {
   "cell_type": "code",
   "execution_count": null,
   "id": "224f1319-ae91-4971-92a6-525cab4f3ce2",
   "metadata": {},
   "outputs": [],
   "source": [
    "class PaidState(State):\n",
    "    def __init__(self, order):\n",
    "        self.order = order\n",
    "    \n",
    "    def receive_payment(self):\n",
    "        pass\n",
    "    \n",
    "    def ship(self):\n",
    "        pass"
   ]
  },
  {
   "cell_type": "code",
   "execution_count": null,
   "id": "2d722ac5-cdfa-4c69-9f9e-caa0d456fb5f",
   "metadata": {},
   "outputs": [],
   "source": [
    "class Order:\n",
    "    def __init__(self):\n",
    "        self.unpaid_state = UnpaidState(order=self)\n",
    "        self.paid_state = PaidState(order=self)\n",
    "        self.shipped = ShippedState(order=self)\n",
    "        self.state = self.unpaid_state\n",
    "    \n",
    "    def recieve_payment(self):\n",
    "        self.state.receive_payment()\n",
    "    \n",
    "    def ship(self):\n",
    "        self.state.ship()"
   ]
  },
  {
   "cell_type": "markdown",
   "id": "f66b40c4-a4b5-4872-8b2e-85dabf909507",
   "metadata": {},
   "source": [
    "##### Chain of Responsibility"
   ]
  },
  {
   "cell_type": "code",
   "execution_count": null,
   "id": "483984c8-6596-46d8-8f0a-3f29b395c66e",
   "metadata": {},
   "outputs": [],
   "source": [
    "class CreatureModifier:\n",
    "    def __init__(self, creature):\n",
    "        self.creature = creature\n",
    "        self.next_modifier = None\n",
    "    \n",
    "    def add_modifier(self, modifier):\n",
    "        if not self.next_modifier:\n",
    "            self.next_modifier = modifier\n",
    "        else:\n",
    "            self.next_modifier.add_modifier(modifier)\n",
    "\n",
    "    def handle(self):\n",
    "        if not self.add_modifier: return\n",
    "        self.next_modifier.handle()"
   ]
  },
  {
   "cell_type": "markdown",
   "id": "926636d3-c72f-4656-b342-443ccbec19cf",
   "metadata": {},
   "source": [
    "##### Iterator"
   ]
  },
  {
   "cell_type": "code",
   "execution_count": null,
   "id": "7a0fb720-8882-4601-a598-56ddb39e505e",
   "metadata": {},
   "outputs": [],
   "source": [
    "class MusicPlayer:\n",
    "    def __init__(self, songs):\n",
    "        self.songs = songs\n",
    "        self.idx = 0\n",
    "    \n",
    "    @property\n",
    "    def has_next(self):\n",
    "        return self.idx < len(self.songs)\n",
    "    \n",
    "    def next(self):\n",
    "        if self.has_next:\n",
    "            self.idx += 1\n",
    "            return self.songs[idx]"
   ]
  },
  {
   "cell_type": "markdown",
   "id": "a936d1ed-b9f2-4cfa-ac4d-a705b85c9089",
   "metadata": {},
   "source": [
    "##### Builder"
   ]
  },
  {
   "cell_type": "code",
   "execution_count": null,
   "id": "c0bdcaad-8e41-4dfa-9542-ba4e34e07441",
   "metadata": {},
   "outputs": [],
   "source": [
    "class User:\n",
    "    pass"
   ]
  },
  {
   "cell_type": "code",
   "execution_count": null,
   "id": "4dd3245a-fe4e-4e49-83bb-a2d8df94c1fb",
   "metadata": {},
   "outputs": [],
   "source": [
    "class UserBuilder:\n",
    "    def __init__(self, name):\n",
    "        self.user = User(name)\n",
    "    \n",
    "    def setGender(self, gender):\n",
    "        self.user.gender = gender\n",
    "        return self\n",
    "    \n",
    "    def setAddress(self, address):\n",
    "        self.user.address = address\n",
    "        return self\n",
    "    \n",
    "    def build(self):\n",
    "        return self.user"
   ]
  },
  {
   "cell_type": "markdown",
   "id": "ca88b72b-d58e-42cc-b76b-52800a0d6424",
   "metadata": {},
   "source": [
    "##### Singleton"
   ]
  },
  {
   "cell_type": "code",
   "execution_count": null,
   "id": "d24b9b90-319a-4038-a6b9-599dfb443554",
   "metadata": {},
   "outputs": [],
   "source": [
    "class Dataclass:\n",
    "    _instance = None\n",
    "    \n",
    "    def __new__(cls):\n",
    "        if not cls._instance:\n",
    "            pass"
   ]
  },
  {
   "cell_type": "code",
   "execution_count": null,
   "id": "6732c700-7468-4fd9-a954-128467107721",
   "metadata": {},
   "outputs": [],
   "source": [
    "class Dataclass:\n",
    "    _instance = None\n",
    "    def __new__(cls):\n",
    "        if not cls._instance:\n",
    "            cls._instance = super().__new__(cls)\n",
    "        \n",
    "        return cls._instance"
   ]
  },
  {
   "cell_type": "code",
   "execution_count": null,
   "id": "99d7c5aa-16bb-4c0e-9fcb-057331157f42",
   "metadata": {},
   "outputs": [],
   "source": [
    "db1 = Dataclass()"
   ]
  },
  {
   "cell_type": "code",
   "execution_count": null,
   "id": "7c132c10-9843-4e00-8ea0-4ad18e59ccaf",
   "metadata": {},
   "outputs": [],
   "source": [
    "db2 = Dataclass()"
   ]
  },
  {
   "cell_type": "code",
   "execution_count": null,
   "id": "dd85624a-0fb1-476d-a69e-7ca92abe9abb",
   "metadata": {},
   "outputs": [
    {
     "data": {
      "text/plain": [
       "140177958955040"
      ]
     },
     "execution_count": null,
     "metadata": {},
     "output_type": "execute_result"
    }
   ],
   "source": [
    "id(db1)"
   ]
  },
  {
   "cell_type": "code",
   "execution_count": null,
   "id": "02d179b0-8a6d-4e65-8375-3ac73fa2dd5d",
   "metadata": {},
   "outputs": [
    {
     "data": {
      "text/plain": [
       "140177958955040"
      ]
     },
     "execution_count": null,
     "metadata": {},
     "output_type": "execute_result"
    }
   ],
   "source": [
    "id(db2)"
   ]
  },
  {
   "cell_type": "markdown",
   "id": "70652423-6d0c-4cf7-aad9-55d3d5248be6",
   "metadata": {},
   "source": [
    "### SymPy"
   ]
  },
  {
   "cell_type": "code",
   "execution_count": null,
   "id": "2036452d-bc17-4603-81ca-2667cb8c5438",
   "metadata": {},
   "outputs": [],
   "source": [
    "pa = Particle('pa', m, )"
   ]
  }
 ],
 "metadata": {
  "kernelspec": {
   "display_name": "Python 3 (ipykernel)",
   "language": "python",
   "name": "python3"
  }
 },
 "nbformat": 4,
 "nbformat_minor": 5
}
