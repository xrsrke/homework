{
 "cells": [
  {
   "cell_type": "markdown",
   "id": "f9c4234d-8a4b-468e-ac0e-c191f229d9b3",
   "metadata": {},
   "source": [
    "### Deep Learning"
   ]
  },
  {
   "cell_type": "code",
   "execution_count": null,
   "id": "60c70bce-826f-4be6-b4a2-55ec8f2455ed",
   "metadata": {},
   "outputs": [],
   "source": [
    "import torch"
   ]
  },
  {
   "cell_type": "code",
   "execution_count": null,
   "id": "3a185c12-5714-4629-9d8a-45f0019b5030",
   "metadata": {},
   "outputs": [],
   "source": [
    "import torch.nn as nn"
   ]
  },
  {
   "cell_type": "code",
   "execution_count": null,
   "id": "5971d7c2-f0f5-494c-9b75-962e9b211fcc",
   "metadata": {},
   "outputs": [],
   "source": [
    "def compute_keys(vs, ws):\n",
    "    v = torch.stack([*vs])\n",
    "    w = torch.stack([*ws], dim=1)\n",
    "    \n",
    "    return v @ w"
   ]
  },
  {
   "cell_type": "code",
   "execution_count": null,
   "id": "a78e53ae-4193-4061-80de-46b8cb20923f",
   "metadata": {},
   "outputs": [],
   "source": [
    "def mean_absolute_error(pred, targ):\n",
    "    error = 0.\n",
    "    \n",
    "    for i in range(len(pred)):\n",
    "        error += abs(targ[i] - pred[i])\n",
    "    \n",
    "    return error / len(pred)"
   ]
  },
  {
   "cell_type": "code",
   "execution_count": null,
   "id": "a4d19dd7-feb7-4543-a2ae-5f872bb0abe7",
   "metadata": {},
   "outputs": [],
   "source": [
    "import numpy as np"
   ]
  },
  {
   "cell_type": "code",
   "execution_count": null,
   "id": "d239e0aa-1bc1-4e8e-bbc9-0c2f515d96fd",
   "metadata": {},
   "outputs": [],
   "source": [
    "def mean_absolute_error(pred, targ):\n",
    "    return np.mean(np.abs(pred-targ))"
   ]
  },
  {
   "cell_type": "code",
   "execution_count": null,
   "id": "57aea0b5-f76d-4df4-a54f-36b0d074df2f",
   "metadata": {},
   "outputs": [
    {
     "data": {
      "text/plain": [
       "array([1])"
      ]
     },
     "execution_count": null,
     "metadata": {},
     "output_type": "execute_result"
    }
   ],
   "source": [
    "np.abs(np.array([-1]))"
   ]
  },
  {
   "cell_type": "code",
   "execution_count": null,
   "id": "b9fabb9f-975c-4529-8689-4c00e0b8a0d8",
   "metadata": {},
   "outputs": [],
   "source": [
    "def mean_square_error(pred, targ):\n",
    "    error = 0.\n",
    "    \n",
    "    for i in range(len(targ)):\n",
    "        error += (targ[i] - pred[i])**2\n",
    "    \n",
    "    return error / len(targ)"
   ]
  },
  {
   "cell_type": "code",
   "execution_count": null,
   "id": "acd8432b-8a74-4cdd-a203-0d319c781f08",
   "metadata": {},
   "outputs": [],
   "source": [
    "dl = DataLoader(ds, batch_size=3)"
   ]
  },
  {
   "cell_type": "code",
   "execution_count": null,
   "id": "39a0cb6a-f9af-4252-903b-38c94435ea0c",
   "metadata": {},
   "outputs": [],
   "source": [
    "sigmoid = nn.Sigmoid()"
   ]
  },
  {
   "cell_type": "code",
   "execution_count": null,
   "id": "298dfce3-e6c9-4715-9d2c-4b72c4d8b819",
   "metadata": {},
   "outputs": [],
   "source": [
    "model = nn.Sequential([\n",
    "    nn.Linear(2, 2),\n",
    "    nn.Linear(2, 2),\n",
    "    nn.Linear(2, 3)\n",
    "])"
   ]
  },
  {
   "cell_type": "code",
   "execution_count": null,
   "id": "13a8c23f-c851-427f-97e4-fbfc6f56ad98",
   "metadata": {},
   "outputs": [],
   "source": [
    "from torch.nn.functional import nll_loss, log_softmax"
   ]
  },
  {
   "cell_type": "code",
   "execution_count": null,
   "id": "947fbebf-da2b-42c8-bc7b-16d90789b2bc",
   "metadata": {},
   "outputs": [],
   "source": [
    "def cross_entropy_loss(pred, targ):\n",
    "    return nll_loss(log_softmax(pred), targ)"
   ]
  },
  {
   "cell_type": "code",
   "execution_count": null,
   "id": "3c117756-f73d-4f2c-b895-a02058626e50",
   "metadata": {},
   "outputs": [],
   "source": [
    "def zero_grad(model):\n",
    "    for l in self.layers:\n",
    "        if hasattr('weight', l):\n",
    "            l.weight.grad.data.zero_()"
   ]
  },
  {
   "cell_type": "code",
   "execution_count": null,
   "id": "14057654-f81c-437b-a22c-9b5a48bcc7a7",
   "metadata": {},
   "outputs": [],
   "source": [
    "class Optimizier:\n",
    "    def __init__(self, params, lr):\n",
    "        self.params = params\n",
    "        self.lr = lr\n",
    "    \n",
    "    def step(self):\n",
    "        with torch.no_grad():\n",
    "            for p in self.params:\n",
    "                p -= p.grad * self.lr"
   ]
  },
  {
   "cell_type": "code",
   "execution_count": null,
   "id": "2eb00893-eb9b-4ac1-9bd9-ad7bc178d5bb",
   "metadata": {},
   "outputs": [],
   "source": [
    "def binomial(x):\n",
    "    return x.exp() / (1 + x.exp())"
   ]
  },
  {
   "cell_type": "code",
   "execution_count": null,
   "id": "653e2dc7-50d4-43d4-9914-00e466665071",
   "metadata": {},
   "outputs": [],
   "source": [
    "def log_softmax(x):\n",
    "    return x - x.exp().sum().log()"
   ]
  },
  {
   "cell_type": "code",
   "execution_count": null,
   "id": "ae02ebc6-3032-4076-9a34-da8a48365cda",
   "metadata": {},
   "outputs": [],
   "source": [
    "def covariance(x, y):\n",
    "    return (x*y).mean() - (x.mean() * y.mean())"
   ]
  },
  {
   "cell_type": "code",
   "execution_count": null,
   "id": "e68a87ce-96b5-4ef3-8cb6-e4483b81741a",
   "metadata": {},
   "outputs": [],
   "source": [
    "def correlation(x, y):\n",
    "    return covar(x, y) / (x.std() * y.std())"
   ]
  },
  {
   "cell_type": "code",
   "execution_count": null,
   "id": "7e875512-a7b2-4572-8ab5-34c01124e0c9",
   "metadata": {},
   "outputs": [],
   "source": [
    "def covariance(x, y):\n",
    "    prod = (x-x.mean())*(y-y.mean())\n",
    "    return prod.mean()"
   ]
  },
  {
   "cell_type": "code",
   "execution_count": null,
   "id": "d3913ed7-16d0-402c-9fd8-5f28203914ef",
   "metadata": {},
   "outputs": [],
   "source": [
    "def test_near_zero(x):\n",
    "    assert abs(x) < 0.01"
   ]
  },
  {
   "cell_type": "code",
   "execution_count": null,
   "id": "7fc1c9be-988d-46d3-b338-54f7bb423249",
   "metadata": {},
   "outputs": [],
   "source": [
    "def covariancef(x, y):\n",
    "    prod = (x-x.mean())*(y - y.mean())\n",
    "    return prod.mean()"
   ]
  },
  {
   "cell_type": "code",
   "execution_count": null,
   "id": "a1255bcc-ed4d-4ace-bdcb-53d1c2415124",
   "metadata": {},
   "outputs": [],
   "source": [
    "def mean_squared_error(pred, targ):\n",
    "    error = 0.\n",
    "    \n",
    "    for i in range(len(targ)):\n",
    "        error += (pred[i] - targ[i])**2\n",
    "    \n",
    "    return error / len(targ)"
   ]
  },
  {
   "cell_type": "markdown",
   "id": "c234918a-a2e1-414d-b2db-7cd7b0b166aa",
   "metadata": {},
   "source": [
    "### SQL"
   ]
  },
  {
   "cell_type": "code",
   "execution_count": null,
   "id": "691b6a2c-9433-4097-af68-30d21d0937b1",
   "metadata": {},
   "outputs": [],
   "source": [
    "SELECT * FROM orders WHERE purchase_data <= date() - INTERVAL \"3- daus\""
   ]
  },
  {
   "cell_type": "markdown",
   "id": "3a1efe27-32f2-4602-a0bc-7fb9b3fb4986",
   "metadata": {},
   "source": [
    "SELECT users.name, likes.like FROM users FULL OUTER JOIN likes ON users.id = likes.user_id"
   ]
  },
  {
   "cell_type": "code",
   "execution_count": null,
   "id": "468eea9f-da05-4292-92c7-24666a5d9b4f",
   "metadata": {},
   "outputs": [],
   "source": [
    "SELECT * FROM users WHERE NOT name = \"Shivon\""
   ]
  },
  {
   "cell_type": "code",
   "execution_count": null,
   "id": "c8f0e66a-8a69-4f3b-9bde-b4f178cf3b8f",
   "metadata": {},
   "outputs": [],
   "source": [
    "SELECT * FROM movies WHERE NOT review = 2 AND NOT review =3"
   ]
  },
  {
   "cell_type": "markdown",
   "id": "c1496a4e-bfe3-43b8-84d6-0f351f03ea10",
   "metadata": {},
   "source": [
    "SELECT users.name, likes.like FROM users RIGHT JOIN likes ON users.id = likes.user_id"
   ]
  },
  {
   "cell_type": "markdown",
   "id": "c12d4538-771a-4d8a-a3e2-0dc5ea166b35",
   "metadata": {},
   "source": [
    "SELECT users.name, likes.like FROM users LEFT JOIN likes ON users.id = likes.user_id"
   ]
  },
  {
   "cell_type": "code",
   "execution_count": null,
   "id": "45351086-14c8-4002-9796-1e33195036d5",
   "metadata": {},
   "outputs": [],
   "source": [
    "SELECT * FROM users WHERE is_deleted IS TRUE"
   ]
  },
  {
   "cell_type": "markdown",
   "id": "a2732e57-3767-44a7-bc99-adf222fcd6bc",
   "metadata": {},
   "source": [
    "SELECT employees.emp_no, salaries.salary FROM employees, salaries WHERE employees.emp_no = salaries.emp_no"
   ]
  },
  {
   "cell_type": "code",
   "execution_count": null,
   "id": "54d4efa8-937e-4fff-b2f1-93a4f5656719",
   "metadata": {},
   "outputs": [],
   "source": [
    "SELECT COUNT(emp_no) FROM training GROUP BY id"
   ]
  },
  {
   "cell_type": "code",
   "execution_count": null,
   "id": "90c1947d-3de2-42df-82b0-17134a041bd0",
   "metadata": {},
   "outputs": [],
   "source": [
    "SELECT * FROM predictions GROUP BY status ORDER BY accuracy DESC"
   ]
  },
  {
   "cell_type": "code",
   "execution_count": null,
   "id": "b00b5dc7-afc3-4a5e-b40e-15cb46403403",
   "metadata": {},
   "outputs": [],
   "source": [
    "SELECT * FROM datasets GROUP BY type HAVING COUNT(id) > 40"
   ]
  },
  {
   "cell_type": "markdown",
   "id": "19ff99e1-0aaf-47e4-87bf-fd258267afaa",
   "metadata": {},
   "source": [
    "SELECT employees.emp_no, salaries.salary FROM employees INNER JOIN salaries ON employees.emp_no = salaries.emp_no"
   ]
  },
  {
   "cell_type": "markdown",
   "id": "2c7f9f98-0887-4e86-b6bb-753375a040e6",
   "metadata": {},
   "source": [
    "SELECT a.name, b.name FROM members AS a INNER JOIN members AS b ON a.supervisor_id = b.id"
   ]
  },
  {
   "cell_type": "markdown",
   "id": "d9521dee-3f07-477a-80f8-74eeb4a9c46e",
   "metadata": {},
   "source": [
    "SELECT users.name, likes.like FROM users INNER JOIN likes ON users.id = likes.user_id"
   ]
  },
  {
   "cell_type": "code",
   "execution_count": null,
   "id": "8f329704-e727-4bd8-851b-739a934d0233",
   "metadata": {},
   "outputs": [],
   "source": [
    "SELECT CAST(n_epoch AS text) FROM training"
   ]
  },
  {
   "cell_type": "code",
   "execution_count": null,
   "id": "1eebfb0f-167b-4514-93ef-c107b891052d",
   "metadata": {},
   "outputs": [],
   "source": [
    "SELECT * FROM users ORDER BY LENGTH(first_name) ASC"
   ]
  },
  {
   "cell_type": "code",
   "execution_count": null,
   "id": "5e1be2ba-2751-4227-ad05-0f69b2e91984",
   "metadata": {},
   "outputs": [],
   "source": [
    "SELECT DISTINCT n_epochs, lr FROM training"
   ]
  },
  {
   "cell_type": "code",
   "execution_count": null,
   "id": "5ff82363-5aab-441b-a4b1-254ebdd46c2b",
   "metadata": {},
   "outputs": [],
   "source": [
    "SELECT names AS name FROM files"
   ]
  },
  {
   "cell_type": "code",
   "execution_count": null,
   "id": "17835378-7b09-425a-80c6-c7cf82cdc396",
   "metadata": {},
   "outputs": [],
   "source": [
    "SELECT * FROM production.images"
   ]
  },
  {
   "cell_type": "markdown",
   "id": "6a5be3c5-c502-4ee3-b304-8bba508e8e0b",
   "metadata": {},
   "source": [
    "### Python"
   ]
  },
  {
   "cell_type": "code",
   "execution_count": null,
   "id": "07caf3d2-c898-4036-bbbd-d8e194439dde",
   "metadata": {},
   "outputs": [],
   "source": [
    "class CreatureModifier:\n",
    "    def __init__(self):\n",
    "        self.next_modifier = None\n",
    "    \n",
    "    def add_modifier(self, modifier):\n",
    "        if not self.next_modifier:\n",
    "            self.next_modifier = modifier\n",
    "        else:\n",
    "            self.next_modifier.add_modifier(modifier)\n",
    "\n",
    "    def handle(self):\n",
    "        if not self.next_modifier: return\n",
    "        return self.next_modifier.handle()"
   ]
  },
  {
   "cell_type": "code",
   "execution_count": null,
   "id": "cf82a6c4-de5a-42c4-9ed5-93fa70d03491",
   "metadata": {},
   "outputs": [],
   "source": [
    "class MusicPlayer:\n",
    "    def __init__(self, songs):\n",
    "        self.songs = songs\n",
    "        self.i = 0\n",
    "    \n",
    "    def has_next(self):\n",
    "        return i < len(self.songs)\n",
    "    \n",
    "    def next(self):\n",
    "        if self.has_next():\n",
    "            self.i += 1\n",
    "            return self.songs[self.i]"
   ]
  },
  {
   "cell_type": "code",
   "execution_count": null,
   "id": "19c92879-d049-41f5-b5c9-4527d5787325",
   "metadata": {},
   "outputs": [],
   "source": [
    "class Event:\n",
    "    def __init__(self):\n",
    "        self.subscribers = dict()\n",
    "    \n",
    "    def subscribe(self, name, func):\n",
    "        if not name in self.subscribers:\n",
    "            self.subscribers[name] = []\n",
    "        \n",
    "        self.subscribers[name].append(func)\n",
    "    \n",
    "    def post_event(self, name, data):\n",
    "        if not name in self.subscribers: return\n",
    "        for func in self.subscribers[name]:\n",
    "            func(data)"
   ]
  },
  {
   "cell_type": "code",
   "execution_count": null,
   "id": "9299b7a1-7e73-421c-b46c-35679a52b6c4",
   "metadata": {},
   "outputs": [],
   "source": [
    "class LinuxImplementer:\n",
    "    def implement(self): pass"
   ]
  },
  {
   "cell_type": "code",
   "execution_count": null,
   "id": "57eed40b-32eb-4bc0-b226-9a791932db65",
   "metadata": {},
   "outputs": [],
   "source": [
    "class Linux:\n",
    "    def __init__(self, implementer):\n",
    "        self.implementer = implementer\n",
    "    \n",
    "    def operate(self):\n",
    "        return self.implementer.implement()"
   ]
  },
  {
   "cell_type": "markdown",
   "id": "4d96e14c-305f-4d9e-8ea1-d240b32dd7b1",
   "metadata": {},
   "source": [
    "### Docker"
   ]
  },
  {
   "cell_type": "code",
   "execution_count": null,
   "id": "ca031bca-b65f-4b79-b213-fbd6decf4677",
   "metadata": {},
   "outputs": [
    {
     "ename": "SyntaxError",
     "evalue": "invalid syntax (3648278289.py, line 3)",
     "output_type": "error",
     "traceback": [
      "\u001b[0;36m  Input \u001b[0;32mIn [27]\u001b[0;36m\u001b[0m\n\u001b[0;31m    services:\u001b[0m\n\u001b[0m             ^\u001b[0m\n\u001b[0;31mSyntaxError\u001b[0m\u001b[0;31m:\u001b[0m invalid syntax\n"
     ]
    }
   ],
   "source": [
    "version: 0.01\n",
    "\n",
    "services:\n",
    "    mongodb:\n",
    "        image: mongo\n",
    "        ports:\n",
    "            - 27017:27017"
   ]
  },
  {
   "cell_type": "markdown",
   "id": "1e6464ec-bdf3-452f-93f9-768b3e5e6232",
   "metadata": {},
   "source": [
    "### Github Actions"
   ]
  },
  {
   "cell_type": "markdown",
   "id": "34948875-c677-42a5-96e3-90eb227acca8",
   "metadata": {},
   "source": [
    "name: integration test\n",
    "\n",
    "on: [push]\n",
    "\n",
    "jobs:\n",
    "    check-version:\n",
    "        runs-on: ubuntu-lastest\n",
    "        steps:\n",
    "            - name: echo a string\n",
    "              run: echo \"hello world\"\n",
    "            - name: check python version\n",
    "              shell: python\n",
    "              run: python3 --version"
   ]
  },
  {
   "cell_type": "markdown",
   "id": "0eb27a86-3e91-4ef9-8358-eb0c374ae352",
   "metadata": {},
   "source": [
    "### Github Actions"
   ]
  },
  {
   "cell_type": "code",
   "execution_count": null,
   "id": "76f200f7-95dc-4b28-b2ba-0c0756d01cb8",
   "metadata": {},
   "outputs": [],
   "source": [
    "name: hello\n",
    "\n",
    "on: [push]\n",
    "\n",
    "jobs:\n",
    "    hello-world:\n",
    "        runs-on: ubuntu-latest\n",
    "        steps:\n",
    "            - name: echo-hello\n",
    "              id: echo\n",
    "              run: echo \"hello world\""
   ]
  },
  {
   "cell_type": "markdown",
   "id": "f3950748-c76f-4dca-9a6f-c53c03c541ab",
   "metadata": {},
   "source": [
    "### bash"
   ]
  },
  {
   "cell_type": "code",
   "execution_count": null,
   "id": "b56391d7-6d92-42af-9b2f-4c919a2b5ff6",
   "metadata": {},
   "outputs": [],
   "source": [
    "cat < h1.txt >> h2.txt"
   ]
  },
  {
   "cell_type": "code",
   "execution_count": null,
   "id": "5e2ef67c-e72f-41ce-a6b8-dd73ee13c197",
   "metadata": {},
   "outputs": [],
   "source": [
    "docker build -t myapp:0.01 ./home"
   ]
  }
 ],
 "metadata": {
  "kernelspec": {
   "display_name": "Python 3 (ipykernel)",
   "language": "python",
   "name": "python3"
  }
 },
 "nbformat": 4,
 "nbformat_minor": 5
}
