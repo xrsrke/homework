{
 "cells": [
  {
   "cell_type": "markdown",
   "id": "101d9368-9b9e-4097-9f30-f18cb6dfe132",
   "metadata": {},
   "source": [
    "### Deep Learning"
   ]
  },
  {
   "cell_type": "code",
   "execution_count": null,
   "id": "21f8d694-aed4-4762-968a-f7c1684704ad",
   "metadata": {},
   "outputs": [],
   "source": [
    "dl = DataLoader(ds, batch_size=)"
   ]
  },
  {
   "cell_type": "code",
   "execution_count": null,
   "id": "66fb7196-6dba-49ce-86b2-e89be8377d04",
   "metadata": {},
   "outputs": [],
   "source": [
    "from PIL import Image"
   ]
  },
  {
   "cell_type": "code",
   "execution_count": null,
   "id": "fa5f3fed-4316-404e-ba1f-9bba2e9c0273",
   "metadata": {},
   "outputs": [],
   "source": [
    "import torch"
   ]
  },
  {
   "cell_type": "code",
   "execution_count": null,
   "id": "c114d286-0d62-46b0-b065-019951cf86e3",
   "metadata": {},
   "outputs": [],
   "source": [
    "def embedding_matrix(n_elements, n_latent_factors):\n",
    "    return torch.randn(n_elements, n_latent_factors)"
   ]
  },
  {
   "cell_type": "code",
   "execution_count": null,
   "id": "756c7d0b-622b-4b69-babb-c23716f5d806",
   "metadata": {},
   "outputs": [],
   "source": [
    "def softmax(x):\n",
    "    return np.exp(x) / np.sum(np.exp(x))"
   ]
  },
  {
   "cell_type": "code",
   "execution_count": null,
   "id": "720672cf-fd1a-4eff-8569-41874c9c4392",
   "metadata": {},
   "outputs": [
    {
     "ename": "NameError",
     "evalue": "name 'DataBlock' is not defined",
     "output_type": "error",
     "traceback": [
      "\u001b[0;31m---------------------------------------------------------------------------\u001b[0m",
      "\u001b[0;31mNameError\u001b[0m                                 Traceback (most recent call last)",
      "Input \u001b[0;32mIn [5]\u001b[0m, in \u001b[0;36m<cell line: 1>\u001b[0;34m()\u001b[0m\n\u001b[0;32m----> 1\u001b[0m dblock \u001b[38;5;241m=\u001b[39m \u001b[43mDataBlock\u001b[49m(blocks\u001b[38;5;241m=\u001b[39m[ImageBlock, CategoryBlock])\n",
      "\u001b[0;31mNameError\u001b[0m: name 'DataBlock' is not defined"
     ]
    }
   ],
   "source": [
    "dblock = DataBlock(blocks=[ImageBlock, CategoryBlock])"
   ]
  },
  {
   "cell_type": "code",
   "execution_count": null,
   "id": "ca2a2770-a7bf-455f-89e6-efea4e129fa6",
   "metadata": {},
   "outputs": [],
   "source": [
    "def sigmoid(x):\n",
    "    return 1 / 1+np.exp(-x)"
   ]
  },
  {
   "cell_type": "code",
   "execution_count": null,
   "id": "2a209ebf-75a9-4c0d-8f99-8fe1059fe7dc",
   "metadata": {},
   "outputs": [],
   "source": [
    "path = untar_data(url)"
   ]
  },
  {
   "cell_type": "code",
   "execution_count": null,
   "id": "4caa8b60-f25e-4c50-86de-470ce0395fef",
   "metadata": {},
   "outputs": [],
   "source": [
    "seven_tensors = torch.stack([Image.open(o) for o in sevens], dim=0)"
   ]
  },
  {
   "cell_type": "code",
   "execution_count": null,
   "id": "a00537d1-6d50-44c4-9f40-9fe4250789e1",
   "metadata": {},
   "outputs": [],
   "source": [
    "seven_tensors = torch.stack([Image.open(o) for o in sevens])"
   ]
  },
  {
   "cell_type": "markdown",
   "id": "02161ff4-68a4-4e59-afb8-d48c08183838",
   "metadata": {},
   "source": [
    "### Matplotlib"
   ]
  },
  {
   "cell_type": "code",
   "execution_count": null,
   "id": "9dbdd3a5-e357-4a32-9722-801cf07677d6",
   "metadata": {},
   "outputs": [],
   "source": [
    "import matplotlib.pyplot as plt"
   ]
  },
  {
   "cell_type": "code",
   "execution_count": null,
   "id": "74b32132-f04f-4b60-8817-8da8c370e0a0",
   "metadata": {},
   "outputs": [],
   "source": [
    "figure, ax = plt.subplots(nrows=2, ncols=2)"
   ]
  },
  {
   "cell_type": "markdown",
   "id": "eb4fa279-e6e9-4ff9-a4c9-1374fbcb53b5",
   "metadata": {},
   "source": [
    "### SymPy"
   ]
  },
  {
   "cell_type": "code",
   "execution_count": null,
   "id": "3c3997f7-c82c-430b-bb08-5a36912858f9",
   "metadata": {},
   "outputs": [],
   "source": [
    "N = CoordSys3D"
   ]
  },
  {
   "cell_type": "markdown",
   "id": "d6d861f8-eac4-45d5-bcc7-2f5a6624abd2",
   "metadata": {},
   "source": [
    "### NumPy"
   ]
  },
  {
   "cell_type": "code",
   "execution_count": null,
   "id": "fc8d2126-6438-4f77-ac15-3a5eb53fba6d",
   "metadata": {},
   "outputs": [],
   "source": [
    "blue = x[[1::2], [:2:2]]"
   ]
  },
  {
   "cell_type": "markdown",
   "id": "ec7ec540-eb6c-4bea-8775-7789a79aff09",
   "metadata": {},
   "source": [
    "### Python"
   ]
  },
  {
   "cell_type": "code",
   "execution_count": null,
   "id": "c45667ba-ed20-46a5-a775-d9db5c26249f",
   "metadata": {},
   "outputs": [],
   "source": [
    "x = [o for o in l if o % 2 = 0]"
   ]
  },
  {
   "cell_type": "code",
   "execution_count": null,
   "id": "2140e098-8291-4007-8374-3cfb25bddfa6",
   "metadata": {},
   "outputs": [],
   "source": [
    "from dataclasses import dataclass, field"
   ]
  },
  {
   "cell_type": "code",
   "execution_count": null,
   "id": "fd23c98b-7eca-4f92-a2a3-e953b7595964",
   "metadata": {},
   "outputs": [],
   "source": [
    "@dataclass(order=True)\n",
    "class Camera:\n",
    "    resolution: int = field(compare=True)\n",
    "    size: int = field(compare=False)\n",
    "    mass: int = field(compare=False)"
   ]
  },
  {
   "cell_type": "markdown",
   "id": "c4783164-975a-44ea-81ed-022fa1f2b3f5",
   "metadata": {},
   "source": [
    "### Design Patterns"
   ]
  },
  {
   "cell_type": "code",
   "execution_count": null,
   "id": "e4646cde-4b94-498c-86f9-d2ecc7b72f66",
   "metadata": {},
   "outputs": [],
   "source": [
    "class Event:\n",
    "    def __init__(self):\n",
    "        self._subscribers = {}\n",
    "    \n",
    "    def subscribe(self, event_type, func):\n",
    "        if not event_type in self._subscribers:\n",
    "            self._subscribers[event_type] = []\n",
    "        \n",
    "        self._subscribers[event_type].append(func)\n",
    "    \n",
    "    def post_event(self, event_type, data):\n",
    "        if not event_type in self._subscribers: return\n",
    "        \n",
    "        for func in self._subscribers[event_type]:\n",
    "            func(data)"
   ]
  },
  {
   "cell_type": "code",
   "execution_count": null,
   "id": "895c0473-26e7-4d8a-b72e-a0a79908773d",
   "metadata": {},
   "outputs": [],
   "source": []
  }
 ],
 "metadata": {
  "kernelspec": {
   "display_name": "Python 3 (ipykernel)",
   "language": "python",
   "name": "python3"
  }
 },
 "nbformat": 4,
 "nbformat_minor": 5
}
