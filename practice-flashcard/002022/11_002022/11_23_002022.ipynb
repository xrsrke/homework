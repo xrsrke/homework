{
 "cells": [
  {
   "cell_type": "markdown",
   "id": "422906b6-5af3-404f-b2e9-17c79ae7816a",
   "metadata": {},
   "source": [
    "### Deep Learning"
   ]
  },
  {
   "cell_type": "code",
   "execution_count": null,
   "id": "5d527b42-7d60-4d0e-be67-08786886bb5a",
   "metadata": {},
   "outputs": [
    {
     "name": "stderr",
     "output_type": "stream",
     "text": [
      "/opt/homebrew/lib/python3.10/site-packages/tqdm/auto.py:22: TqdmWarning: IProgress not found. Please update jupyter and ipywidgets. See https://ipywidgets.readthedocs.io/en/stable/user_install.html\n",
      "  from .autonotebook import tqdm as notebook_tqdm\n"
     ]
    }
   ],
   "source": [
    "import torch.nn as nn"
   ]
  },
  {
   "cell_type": "code",
   "execution_count": null,
   "id": "494d9415-11fe-400b-a230-5869671b59cf",
   "metadata": {},
   "outputs": [],
   "source": [
    "import torch.nn.functional as F"
   ]
  },
  {
   "cell_type": "code",
   "execution_count": null,
   "id": "d9ac71e4-17e8-4ae4-979f-44c34da6eacd",
   "metadata": {},
   "outputs": [],
   "source": [
    "class ConvNet(nn.Module):\n",
    "    def __init__(self):\n",
    "        self.conv1 = nn.Conv2d(\n",
    "            in_channels=3,\n",
    "            out_channels=5,\n",
    "            kernel_size=5\n",
    "        )\n",
    "        self.conv2 = nn.Conv2(\n",
    "            in_channels=5,\n",
    "            out_channels=16,\n",
    "            kernel_size=5\n",
    "        )\n",
    "        self.maxpool = nn.MaxPool2d(kernel_size=2)\n",
    "        self.lin1 = nn.Linear(400, 120)\n",
    "        self.lin2 = nn.Linear(120, 84)\n",
    "        self.lin3 = nn.Linear(84, 10)\n",
    "    \n",
    "    def forward(self, x):\n",
    "        x = F.relu(self.conv1(x))\n",
    "        x = self.maxpool(x)\n",
    "        x = F.relu(self.conv2(x))\n",
    "        x = self.maxpool(x)\n",
    "        \n",
    "        x = x.view(-1) # flatten\n",
    "        x = F.relu(self.lin1(x))\n",
    "        x = F.relu(self.lin2(x))\n",
    "        x = self.lin3(x)\n",
    "        \n",
    "        return F.softmax(x, dim=-1)"
   ]
  },
  {
   "cell_type": "code",
   "execution_count": null,
   "id": "7fe0f5d2-fb42-4855-8482-f30fa1348d35",
   "metadata": {},
   "outputs": [],
   "source": [
    "from torch.utils.data import DataLoader"
   ]
  },
  {
   "cell_type": "code",
   "execution_count": null,
   "id": "d23e47ca-37fa-4d52-90a1-40cbfb8f076f",
   "metadata": {},
   "outputs": [],
   "source": [
    "train_dl = DataLoader(train_ds, batch_size=64)"
   ]
  },
  {
   "cell_type": "code",
   "execution_count": null,
   "id": "226031f4-9020-4e12-9c2d-b0e5fbd59c70",
   "metadata": {},
   "outputs": [],
   "source": [
    "def frobenius_norm(x):\n",
    "    return (x*x).sum().sqrt()"
   ]
  },
  {
   "cell_type": "code",
   "execution_count": null,
   "id": "1d9c7310-1731-4156-97f6-f0b1c2b2acc7",
   "metadata": {},
   "outputs": [],
   "source": [
    "def sgd_step(params, lr):\n",
    "    params -= lr*param.grad.data"
   ]
  },
  {
   "cell_type": "code",
   "execution_count": null,
   "id": "d4b90663-3512-48b1-a1b1-6ff3e803c248",
   "metadata": {},
   "outputs": [],
   "source": [
    "def "
   ]
  },
  {
   "cell_type": "code",
   "execution_count": null,
   "id": "388318c9-e3c7-409d-a427-576b9661b476",
   "metadata": {},
   "outputs": [],
   "source": [
    "def loss(loss_real, loss_fake):\n",
    "    return (loss_real + loss_fake) / 2"
   ]
  },
  {
   "cell_type": "code",
   "execution_count": null,
   "id": "8b618cf5-f15e-4076-ac46-cc80a118f56e",
   "metadata": {},
   "outputs": [],
   "source": [
    "def loss_of_fake(loss_func, evaluted):\n",
    "    return loss_func(evaluted, torch.zeros_like(evaluted))"
   ]
  },
  {
   "cell_type": "code",
   "execution_count": null,
   "id": "ff1759bc-f67a-42aa-bf52-afed23c6bb64",
   "metadata": {},
   "outputs": [],
   "source": [
    "[5 7, 9 11] [21 23, 29 31]"
   ]
  },
  {
   "cell_type": "code",
   "execution_count": null,
   "id": "0eb8b1d2-e024-4335-b870-b2025e492f71",
   "metadata": {},
   "outputs": [],
   "source": [
    "(6, 60, 60)"
   ]
  },
  {
   "cell_type": "code",
   "execution_count": null,
   "id": "f99ddb70-532b-48bd-9653-b2e0db1dcd00",
   "metadata": {},
   "outputs": [],
   "source": [
    "(16, 26, 26)"
   ]
  },
  {
   "cell_type": "code",
   "execution_count": null,
   "id": "2230a2ce-dd19-441f-9658-38b739f3f6f8",
   "metadata": {},
   "outputs": [],
   "source": [
    "conv = nn.Conv2d(in_channels=3, out_channels=5, kernel_size=3, stride=1, padding=1)"
   ]
  },
  {
   "cell_type": "code",
   "execution_count": null,
   "id": "a5434f4e-f26e-4527-bc9d-8555c2de3e25",
   "metadata": {},
   "outputs": [],
   "source": [
    "5, "
   ]
  },
  {
   "cell_type": "code",
   "execution_count": null,
   "id": "1db3cfbf-4139-468b-9212-d733d206ddb7",
   "metadata": {},
   "outputs": [],
   "source": [
    "conv2d, pool, linear"
   ]
  },
  {
   "cell_type": "code",
   "execution_count": null,
   "id": "93c1bc6f-9945-4abc-8043-0e93cda705e9",
   "metadata": {},
   "outputs": [],
   "source": [
    "residual block, conv, pool linear"
   ]
  },
  {
   "cell_type": "code",
   "execution_count": null,
   "id": "84af46ea-e58a-4393-b35a-e8b81b36c277",
   "metadata": {},
   "outputs": [],
   "source": [
    "7, 3, 4, 4"
   ]
  },
  {
   "cell_type": "markdown",
   "id": "52964605-9769-4713-8588-c958f40e2c1e",
   "metadata": {},
   "source": [
    "### Python"
   ]
  },
  {
   "cell_type": "code",
   "execution_count": null,
   "id": "7fbc618c-8a18-4efd-89e7-20b85731a8a6",
   "metadata": {},
   "outputs": [],
   "source": [
    "from typing import NewType"
   ]
  },
  {
   "cell_type": "code",
   "execution_count": null,
   "id": "461dc0ac-e790-4874-acf5-3c37b67aa42e",
   "metadata": {},
   "outputs": [],
   "source": [
    "ID = NewType(\"ID\", int)"
   ]
  },
  {
   "cell_type": "code",
   "execution_count": null,
   "id": "0e5cf347-c3e4-40bf-8376-4b5a155127b4",
   "metadata": {},
   "outputs": [],
   "source": [
    "Color = NewType(\"Color\", str)"
   ]
  },
  {
   "cell_type": "code",
   "execution_count": null,
   "id": "b30c6986-e8cb-4228-b0d8-24bb10c9a497",
   "metadata": {},
   "outputs": [],
   "source": [
    "f(x) = g(x, 2, 3)"
   ]
  },
  {
   "cell_type": "code",
   "execution_count": null,
   "id": "99231e51-c98c-4efe-9ec7-370da17fab85",
   "metadata": {},
   "outputs": [],
   "source": [
    "from typing import Set"
   ]
  },
  {
   "cell_type": "code",
   "execution_count": null,
   "id": "46994d33-7e93-4c68-8388-c2455d799e9b",
   "metadata": {},
   "outputs": [],
   "source": [
    "x: set[str, ...] = {}"
   ]
  },
  {
   "cell_type": "code",
   "execution_count": null,
   "id": "a06bfbe7-301b-4f86-83c2-847123328a4a",
   "metadata": {},
   "outputs": [],
   "source": [
    "class UppercaseTuple(tuple):\n",
    "    def __new__(cls, iterable):\n",
    "        for i, e in enumerate(iterable):\n",
    "            iterable[i] = e.upper()\n",
    "        \n",
    "        return super().__new__(cls, iterable)\n",
    "\n",
    "    def __init__(self, iterable):\n",
    "        self.iterable = iterable"
   ]
  },
  {
   "cell_type": "code",
   "execution_count": null,
   "id": "0956cb8a-1810-4d87-bee0-e9bdff65dee4",
   "metadata": {},
   "outputs": [],
   "source": [
    "u = UppercaseTuple([\"hello\", \"shivon\"])"
   ]
  },
  {
   "cell_type": "code",
   "execution_count": null,
   "id": "711f8c76-7200-40f5-9189-701312e70749",
   "metadata": {},
   "outputs": [
    {
     "data": {
      "text/plain": [
       "['HELLO', 'SHIVON']"
      ]
     },
     "execution_count": null,
     "metadata": {},
     "output_type": "execute_result"
    }
   ],
   "source": [
    "u.iterable"
   ]
  },
  {
   "cell_type": "markdown",
   "id": "0e203fc5-a836-4d19-95c0-93440b66979d",
   "metadata": {},
   "source": [
    "### Testing"
   ]
  },
  {
   "cell_type": "code",
   "execution_count": null,
   "id": "b54b7781-a550-41aa-bbde-2506e9c60a6a",
   "metadata": {},
   "outputs": [],
   "source": [
    "import unittest"
   ]
  },
  {
   "cell_type": "code",
   "execution_count": null,
   "id": "bc8e7b7c-62a9-41a5-80cb-d4a39f4163da",
   "metadata": {},
   "outputs": [],
   "source": [
    "class MediumTestCase(unittest.TestCase):\n",
    "    def test_avg(self):\n",
    "        with self.assertRaises(TypeError) as err:\n",
    "            self.assertEqual()"
   ]
  },
  {
   "cell_type": "markdown",
   "id": "05961f3f-2b66-4104-9fa7-21eaabf9ea6c",
   "metadata": {},
   "source": [
    "### CI/CD"
   ]
  },
  {
   "cell_type": "code",
   "execution_count": null,
   "id": "b940248e-754b-4a0c-8472-dd2ad5291bd9",
   "metadata": {},
   "outputs": [],
   "source": []
  },
  {
   "cell_type": "markdown",
   "id": "a40b0699-a45c-42c6-9d2c-c16e0297c6d0",
   "metadata": {},
   "source": [
    "### Pandas"
   ]
  },
  {
   "cell_type": "code",
   "execution_count": null,
   "id": "f2bfa97f-e110-45c7-b922-e161f7116ee0",
   "metadata": {},
   "outputs": [],
   "source": [
    "import pandas as pd"
   ]
  },
  {
   "cell_type": "code",
   "execution_count": null,
   "id": "3e389340-2cec-44ed-ba91-76c9a394e3f6",
   "metadata": {},
   "outputs": [],
   "source": [
    "pd.Series(books_list, index=[\"funny\"])"
   ]
  },
  {
   "cell_type": "markdown",
   "id": "0f135215-9db7-4782-9bc0-34f5bbd78b3d",
   "metadata": {},
   "source": [
    "### Numpy"
   ]
  },
  {
   "cell_type": "code",
   "execution_count": null,
   "id": "fd6de127-1bbd-4995-8f54-ed895cb2a6e1",
   "metadata": {},
   "outputs": [],
   "source": [
    "import numpy as np"
   ]
  },
  {
   "cell_type": "code",
   "execution_count": null,
   "id": "2affd00c-6e32-482d-8be2-59c26e824cc9",
   "metadata": {},
   "outputs": [],
   "source": [
    "get_the_first_letter = np.vectorize(f)"
   ]
  },
  {
   "cell_type": "markdown",
   "id": "bfc785ae-24e2-49ac-a407-763875fda2be",
   "metadata": {},
   "source": [
    "### Fastcore"
   ]
  },
  {
   "cell_type": "code",
   "execution_count": null,
   "id": "fa3da1f6-c232-4051-92ab-e064f5af5653",
   "metadata": {},
   "outputs": [],
   "source": [
    "from fastcore.all import *"
   ]
  },
  {
   "cell_type": "code",
   "execution_count": null,
   "id": "522dad79-2fa4-4b2c-a590-3d08bf838ba3",
   "metadata": {},
   "outputs": [],
   "source": [
    "class Learner:\n",
    "    def __init__(self):\n",
    "        self.n_epochs = 3"
   ]
  },
  {
   "cell_type": "code",
   "execution_count": null,
   "id": "20554d10-227c-4591-8681-c98db7432d5c",
   "metadata": {},
   "outputs": [],
   "source": [
    "@patch\n",
    "def num_items(self: Learner): return \"Works\""
   ]
  },
  {
   "cell_type": "code",
   "execution_count": null,
   "id": "2b738399-b014-48b9-8d1e-48bb2b6d2c02",
   "metadata": {},
   "outputs": [
    {
     "data": {
      "text/plain": [
       "'Works'"
      ]
     },
     "execution_count": null,
     "metadata": {},
     "output_type": "execute_result"
    }
   ],
   "source": [
    "Learner().num_items()"
   ]
  },
  {
   "cell_type": "code",
   "execution_count": null,
   "id": "e5563817-49aa-43da-87a8-2c8bb52914bc",
   "metadata": {},
   "outputs": [],
   "source": []
  }
 ],
 "metadata": {
  "kernelspec": {
   "display_name": "Python 3 (ipykernel)",
   "language": "python",
   "name": "python3"
  }
 },
 "nbformat": 4,
 "nbformat_minor": 5
}
