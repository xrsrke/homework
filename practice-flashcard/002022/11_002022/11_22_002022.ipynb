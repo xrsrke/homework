{
 "cells": [
  {
   "cell_type": "markdown",
   "id": "d1aadbe8-64d6-4e65-a740-f544f35004f7",
   "metadata": {},
   "source": [
    "### Deep Learning"
   ]
  },
  {
   "cell_type": "code",
   "execution_count": null,
   "id": "6012700d-33cc-4dda-8c29-270d98757244",
   "metadata": {},
   "outputs": [
    {
     "name": "stderr",
     "output_type": "stream",
     "text": [
      "/opt/homebrew/lib/python3.10/site-packages/tqdm/auto.py:22: TqdmWarning: IProgress not found. Please update jupyter and ipywidgets. See https://ipywidgets.readthedocs.io/en/stable/user_install.html\n",
      "  from .autonotebook import tqdm as notebook_tqdm\n"
     ]
    }
   ],
   "source": [
    "import torch"
   ]
  },
  {
   "cell_type": "code",
   "execution_count": null,
   "id": "ca5a630b-1f1c-4103-8127-a129f99bfc75",
   "metadata": {},
   "outputs": [],
   "source": [
    "import torch.nn as nn"
   ]
  },
  {
   "cell_type": "code",
   "execution_count": null,
   "id": "f53b3036-2b6f-4078-9d67-c6ace5c0cbe5",
   "metadata": {},
   "outputs": [],
   "source": [
    "class Autoencoder(nn.Module):\n",
    "    def __init__(self):\n",
    "        self.encoder = nn.Sequential([\n",
    "            nn.Linear(784, 128),\n",
    "            nn.ReLU(),\n",
    "            nn.Linear(128, 64),\n",
    "            nn.ReLU(),\n",
    "            nn.Linear(64, 12),\n",
    "            nn.ReLU(),\n",
    "            nn.Linear(12, 3)\n",
    "        ])\n",
    "        \n",
    "        self.decoder = nn.Sequential([\n",
    "            nn.Linear(3, 12),\n",
    "            nn.ReLU(),\n",
    "            nn.Linear(12, 64),\n",
    "            nn.ReLU(),\n",
    "            nn.Linear(64, 128),\n",
    "            nn.ReLU(),\n",
    "            nn.Linear(128, 784),\n",
    "            nn.Sigmoid()\n",
    "        ])\n",
    "    \n",
    "    def forward(self, x):\n",
    "        encoded = self.encoder(x)\n",
    "        decoded = self.decoder(encoded)\n",
    "        return decoded"
   ]
  },
  {
   "cell_type": "code",
   "execution_count": null,
   "id": "a7c4cc8e-4c3e-4c5a-9ebf-9383b8702a54",
   "metadata": {},
   "outputs": [],
   "source": [
    "import torchvision.transforms as tfms"
   ]
  },
  {
   "cell_type": "code",
   "execution_count": null,
   "id": "b4301f26-554f-4ce9-be24-b7af1273433e",
   "metadata": {},
   "outputs": [],
   "source": [
    "transforms = tfms.Compose([\n",
    "    tfms.ToTensor(),\n",
    "    tfms.Normalize(0.3, 0.9)\n",
    "])"
   ]
  },
  {
   "cell_type": "code",
   "execution_count": null,
   "id": "c9605f18-0b35-4538-8d56-92f02a096c24",
   "metadata": {},
   "outputs": [],
   "source": [
    "def frobenius_norm(x):\n",
    "    return (x*x)"
   ]
  },
  {
   "cell_type": "code",
   "execution_count": null,
   "id": "d1f7fb9b-1ff5-41d9-b003-015b7ecbf165",
   "metadata": {},
   "outputs": [],
   "source": [
    "def test_near_zero(x):\n",
    "    return abs(x) < 0.001"
   ]
  },
  {
   "cell_type": "code",
   "execution_count": null,
   "id": "3b28adc5-7df3-40a3-8928-03207a92c231",
   "metadata": {},
   "outputs": [],
   "source": [
    "def mse(pred, targ):\n",
    "    return (pred.squeeze(dim=-1) - targ).pow(2).mean()"
   ]
  },
  {
   "cell_type": "code",
   "execution_count": null,
   "id": "6c9211ad-68fc-43dc-8553-2cc67c91aaa6",
   "metadata": {},
   "outputs": [],
   "source": [
    "from torch.utils.data import DataLoader"
   ]
  },
  {
   "cell_type": "markdown",
   "id": "8bd5e0d8-64dd-474f-9223-fdf97f2e227b",
   "metadata": {},
   "source": [
    "### Python"
   ]
  },
  {
   "cell_type": "code",
   "execution_count": null,
   "id": "2c6c938d-067f-4d54-aa3d-8f08355d7383",
   "metadata": {},
   "outputs": [],
   "source": [
    "from typing import Protocol"
   ]
  },
  {
   "cell_type": "code",
   "execution_count": null,
   "id": "bb5944cd-0c6d-4f82-917a-2bbe907bfdb5",
   "metadata": {},
   "outputs": [],
   "source": [
    "class Splitable(Protocol):\n",
    "    name: str\n",
    "    cost: int\n",
    "    def split(self): pass"
   ]
  },
  {
   "cell_type": "code",
   "execution_count": null,
   "id": "611f2ce6-3578-43a9-9db8-e2d467fd7d78",
   "metadata": {},
   "outputs": [],
   "source": [
    "def split(food: Splitable):\n",
    "    pass"
   ]
  },
  {
   "cell_type": "code",
   "execution_count": null,
   "id": "a7068242-ceff-45e3-9c57-7cc194f5a2c3",
   "metadata": {},
   "outputs": [],
   "source": [
    "from enum import Enum, auto"
   ]
  },
  {
   "cell_type": "code",
   "execution_count": null,
   "id": "38e2b333-49f7-4dc4-9b34-5c25f0c377b6",
   "metadata": {},
   "outputs": [],
   "source": [
    "class LiquidMeasure(Enum):\n",
    "    CUP = 8"
   ]
  },
  {
   "cell_type": "code",
   "execution_count": null,
   "id": "4b11f86e-ed24-4fab-b6b3-a771c37fe6c5",
   "metadata": {},
   "outputs": [],
   "source": [
    "from typing import Set"
   ]
  },
  {
   "cell_type": "code",
   "execution_count": null,
   "id": "8135d9b2-9c18-412c-9dd7-e33f59b8587f",
   "metadata": {},
   "outputs": [],
   "source": [
    "x: set[str, ...] = {}"
   ]
  },
  {
   "cell_type": "code",
   "execution_count": null,
   "id": "3aadb67e-6418-4662-b87d-18469c99f472",
   "metadata": {},
   "outputs": [],
   "source": [
    "def is_valid(value: bool = False) -> bool:\n",
    "    return value"
   ]
  },
  {
   "cell_type": "code",
   "execution_count": null,
   "id": "8cb73abd-bc2f-4231-98e8-35bfaee668a1",
   "metadata": {},
   "outputs": [],
   "source": [
    "def extra_second(func):\n",
    "    def inner(*args, **kwargs):\n",
    "        print('******')\n",
    "        func(*args, **kwargs)\n",
    "        print('******')\n",
    "    \n",
    "    return inner"
   ]
  },
  {
   "cell_type": "code",
   "execution_count": null,
   "id": "19724d9a-f425-403e-9e7e-ec2797b432c5",
   "metadata": {},
   "outputs": [],
   "source": [
    "@extra_second\n",
    "def hello(x): print(f'xxx - {x}')"
   ]
  },
  {
   "cell_type": "code",
   "execution_count": null,
   "id": "5809bac3-79ab-4930-b975-213104c60fc5",
   "metadata": {},
   "outputs": [
    {
     "name": "stdout",
     "output_type": "stream",
     "text": [
      "******\n",
      "xxx - 1\n",
      "******\n"
     ]
    }
   ],
   "source": [
    "hello(1)"
   ]
  },
  {
   "cell_type": "code",
   "execution_count": null,
   "id": "0e59d7cf-3991-4a28-8576-1cacd882289b",
   "metadata": {},
   "outputs": [
    {
     "name": "stdout",
     "output_type": "stream",
     "text": [
      "xxx yyy\n"
     ]
    }
   ],
   "source": [
    "print(\"{0} {1}\".format(\"xxx\", \"yyy\"))"
   ]
  },
  {
   "cell_type": "code",
   "execution_count": null,
   "id": "1520c97d-9e09-4725-9cd3-0b57d75971fc",
   "metadata": {},
   "outputs": [],
   "source": [
    "name = \"X\""
   ]
  },
  {
   "cell_type": "code",
   "execution_count": null,
   "id": "91b50bab-cb52-4a99-8956-cd47462f1996",
   "metadata": {},
   "outputs": [
    {
     "name": "stdout",
     "output_type": "stream",
     "text": [
      "My name is X\n"
     ]
    }
   ],
   "source": [
    "print(f\"My name is {name}\")"
   ]
  },
  {
   "cell_type": "code",
   "execution_count": null,
   "id": "853fd4e7-f171-4756-90f6-649cd1fa4424",
   "metadata": {},
   "outputs": [],
   "source": [
    "import unittest"
   ]
  },
  {
   "cell_type": "code",
   "execution_count": null,
   "id": "78e9186c-8850-4695-a4fb-dc3e240b22ee",
   "metadata": {},
   "outputs": [],
   "source": [
    "class MediumTestCase(unittest.TestCase):\n",
    "    def test_avg(self):\n",
    "        with self.assertRaises(TypeError):\n",
    "            pass"
   ]
  },
  {
   "cell_type": "code",
   "execution_count": null,
   "id": "8c5d84b3-2775-48db-b384-a0df14e46410",
   "metadata": {},
   "outputs": [],
   "source": [
    "class Animal:\n",
    "    def __init__(self, species):\n",
    "        self.species = species\n",
    "    \n",
    "    def __ne__(self, other):\n",
    "        if isinstance(other, Animal) and self.species == other.species:\n",
    "            return False\n",
    "        else:\n",
    "            return True"
   ]
  },
  {
   "cell_type": "code",
   "execution_count": null,
   "id": "62134380-aee5-4da3-a85f-91ae4453276a",
   "metadata": {},
   "outputs": [],
   "source": [
    "class School(metaclass=my_metaclass): pass"
   ]
  },
  {
   "cell_type": "code",
   "execution_count": null,
   "id": "4e3e45cf-c74c-47d5-8bc6-4368a8c4c169",
   "metadata": {},
   "outputs": [],
   "source": [
    "from collections import namedtuple"
   ]
  },
  {
   "cell_type": "code",
   "execution_count": null,
   "id": "bfcfc8e3-0368-4a1f-b34c-6854f375afc4",
   "metadata": {},
   "outputs": [],
   "source": [
    "EV = namedtuple(\"ElectricVehicle\", [\"efficient\", \"make\", \"price\"])"
   ]
  },
  {
   "cell_type": "code",
   "execution_count": null,
   "id": "e395fe55-0a93-4d0f-9da2-5347db84a31c",
   "metadata": {},
   "outputs": [
    {
     "data": {
      "text/plain": [
       "ElectricVehicle(efficient=520, make='x', price=1)"
      ]
     },
     "execution_count": null,
     "metadata": {},
     "output_type": "execute_result"
    }
   ],
   "source": [
    "EV(520, 'x', 1)"
   ]
  },
  {
   "cell_type": "code",
   "execution_count": null,
   "id": "01e70c7a-1705-4d61-bd1d-49fa31688c56",
   "metadata": {},
   "outputs": [],
   "source": [
    "class Child(Parent):\n",
    "    def __init__(self):\n",
    "        super().__init__()"
   ]
  },
  {
   "cell_type": "code",
   "execution_count": null,
   "id": "d1ddb35c-b41f-47b5-b829-306e363194c5",
   "metadata": {},
   "outputs": [],
   "source": [
    "class Derived(Base):\n",
    "    def f(self, x):\n",
    "        print('x')\n",
    "        super().f(x)"
   ]
  },
  {
   "cell_type": "code",
   "execution_count": null,
   "id": "87f4f2bd-7c15-41f8-9e2c-cd97b032f2ff",
   "metadata": {},
   "outputs": [],
   "source": [
    "class Bookshelf:\n",
    "    def __getitem__(self, k, v):\n",
    "        print(f'{k}={v}')"
   ]
  },
  {
   "cell_type": "code",
   "execution_count": null,
   "id": "8158f33a-bebf-41c5-a991-ce4a43389005",
   "metadata": {},
   "outputs": [],
   "source": [
    "class Classroom:\n",
    "    def __init__(self):\n",
    "        self._students = {}\n",
    "    \n",
    "    def __setattr__(self, k, v):\n",
    "        if not k.startswith(\"_\"):\n",
    "            self._students[k] = v\n",
    "        super().__setattr__(k, v)"
   ]
  },
  {
   "cell_type": "code",
   "execution_count": null,
   "id": "73512527-3d2e-4ddb-8f00-52c998bf49bf",
   "metadata": {},
   "outputs": [],
   "source": [
    "c = Classroom()"
   ]
  },
  {
   "cell_type": "code",
   "execution_count": null,
   "id": "6b5ae56b-d237-473f-a6cd-09df6c838664",
   "metadata": {},
   "outputs": [],
   "source": [
    "c.s1 = 'x'"
   ]
  },
  {
   "cell_type": "code",
   "execution_count": null,
   "id": "a5a90bca-391d-4d72-8e89-099b22d05e34",
   "metadata": {},
   "outputs": [
    {
     "data": {
      "text/plain": [
       "{'s1': 'x'}"
      ]
     },
     "execution_count": null,
     "metadata": {},
     "output_type": "execute_result"
    }
   ],
   "source": [
    "c._students"
   ]
  },
  {
   "cell_type": "markdown",
   "id": "61067100-0a8f-4227-98f4-04613ce1fd4a",
   "metadata": {},
   "source": [
    "### SQL"
   ]
  },
  {
   "cell_type": "markdown",
   "id": "79503c88-48fb-4554-977d-1600f16d34d2",
   "metadata": {},
   "source": [
    "SELECT a.name, b.name FROM members as a, members as b WHERE a.supervisor_id = b.id"
   ]
  },
  {
   "cell_type": "code",
   "execution_count": null,
   "id": "0c714595-c1e5-42a6-bc7e-14269bf7e46b",
   "metadata": {},
   "outputs": [],
   "source": [
    "SELECT DISTINCT salary FROM salaries"
   ]
  },
  {
   "cell_type": "code",
   "execution_count": null,
   "id": "ca7eb7db-aca9-43f6-bbb7-b0daee37174f",
   "metadata": {},
   "outputs": [],
   "source": [
    "SELECT * FROM users ORDER BY LENGTH(first_name) ASC"
   ]
  },
  {
   "cell_type": "markdown",
   "id": "f5f1ceb7-9929-4fa6-ab31-08d0da22ebfa",
   "metadata": {},
   "source": [
    "### fastcore"
   ]
  },
  {
   "cell_type": "code",
   "execution_count": null,
   "id": "0365adb3-fd47-428f-b757-c7127d395403",
   "metadata": {},
   "outputs": [],
   "source": [
    "from fastcore.meta import *"
   ]
  },
  {
   "cell_type": "code",
   "execution_count": null,
   "id": "a50ae860-c33a-4ae4-9667-79e937b11a35",
   "metadata": {},
   "outputs": [],
   "source": [
    "@delegates(baz)\n",
    "def foo()"
   ]
  },
  {
   "cell_type": "code",
   "execution_count": null,
   "id": "07265b57-6773-4a00-8977-63ada65052db",
   "metadata": {},
   "outputs": [],
   "source": [
    "from fastcore.all import *"
   ]
  },
  {
   "cell_type": "code",
   "execution_count": null,
   "id": "b26cdd6b-b748-4aa4-980d-732031b7ad01",
   "metadata": {},
   "outputs": [],
   "source": [
    "@funcs_kwargs\n",
    "class Learner:\n",
    "    _methods = ['num_items']"
   ]
  },
  {
   "cell_type": "code",
   "execution_count": null,
   "id": "48aea895-a354-44ee-b00f-dab8b7a85987",
   "metadata": {},
   "outputs": [],
   "source": [
    "learner = Learner(num_items=lambda : 1)"
   ]
  },
  {
   "cell_type": "code",
   "execution_count": null,
   "id": "ef7a553c-d85a-4893-b353-418e797e5b14",
   "metadata": {},
   "outputs": [
    {
     "data": {
      "text/plain": [
       "1"
      ]
     },
     "execution_count": null,
     "metadata": {},
     "output_type": "execute_result"
    }
   ],
   "source": [
    "learner.num_items()"
   ]
  },
  {
   "cell_type": "code",
   "execution_count": null,
   "id": "47ddb20b-cbd2-4532-92a0-c0a4550b2a9c",
   "metadata": {},
   "outputs": [],
   "source": [
    "5, 27, 27"
   ]
  },
  {
   "cell_type": "code",
   "execution_count": null,
   "id": "c5e6bae0-6813-4cb9-a2c5-2369954b0cf7",
   "metadata": {},
   "outputs": [],
   "source": []
  }
 ],
 "metadata": {
  "kernelspec": {
   "display_name": "Python 3 (ipykernel)",
   "language": "python",
   "name": "python3"
  }
 },
 "nbformat": 4,
 "nbformat_minor": 5
}
