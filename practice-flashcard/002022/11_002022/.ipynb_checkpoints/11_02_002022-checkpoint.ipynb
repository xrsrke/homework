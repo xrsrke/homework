{
 "cells": [
  {
   "cell_type": "markdown",
   "id": "a9357dca-91e4-47f0-985b-4c6eeedec5a0",
   "metadata": {},
   "source": [
    "### Deep Learning"
   ]
  },
  {
   "cell_type": "code",
   "execution_count": null,
   "id": "a1e94450-8f27-432e-b9e5-51ce1e3f0aad",
   "metadata": {},
   "outputs": [
    {
     "ename": "NameError",
     "evalue": "name 'loss' is not defined",
     "output_type": "error",
     "traceback": [
      "\u001b[0;31m---------------------------------------------------------------------------\u001b[0m",
      "\u001b[0;31mNameError\u001b[0m                                 Traceback (most recent call last)",
      "Input \u001b[0;32mIn [1]\u001b[0m, in \u001b[0;36m<cell line: 1>\u001b[0;34m()\u001b[0m\n\u001b[0;32m----> 1\u001b[0m \u001b[43mloss\u001b[49m \u001b[38;5;241m+\u001b[39m alpha (w)\u001b[38;5;241m^\u001b[39m\u001b[38;5;241m2\u001b[39m\n",
      "\u001b[0;31mNameError\u001b[0m: name 'loss' is not defined"
     ]
    }
   ],
   "source": [
    "loss + alpha (w)^2"
   ]
  },
  {
   "cell_type": "code",
   "execution_count": null,
   "id": "16781527-2d47-4e66-9598-29999dea925f",
   "metadata": {},
   "outputs": [],
   "source": [
    "import pytorch_lightning as pl"
   ]
  },
  {
   "cell_type": "code",
   "execution_count": null,
   "id": "e907aee4-02ca-41d1-a5b4-3fdabd68f86c",
   "metadata": {},
   "outputs": [],
   "source": [
    "import torch.optim as optim"
   ]
  },
  {
   "cell_type": "code",
   "execution_count": null,
   "id": "85dddc94-fd04-4e6a-8c9f-cb07cbffec7a",
   "metadata": {},
   "outputs": [],
   "source": [
    "class LitResNet(pl.LightningModule):\n",
    "    def __init__(self):\n",
    "        super().__init__()\n",
    "        self.model = _model1\n",
    "    \n",
    "    def configure_optimizers(self):\n",
    "        optimizier = optim.SGD(self.model.parameters(), lr=1e-2)\n",
    "        return optimizier"
   ]
  },
  {
   "cell_type": "code",
   "execution_count": null,
   "id": "3abef662-f692-48c4-ba3b-30d6bbb124fb",
   "metadata": {},
   "outputs": [],
   "source": [
    "class LitResnet(pl.LightningModule):\n",
    "    def __init__(self):\n",
    "        super().__init__()\n",
    "        self.model = _model1\n",
    "        self.loss = nn.CrossEntropyLoss()\n",
    "    \n",
    "    def training_step(self, batch, batch_idx):\n",
    "        x, y = batch\n",
    "        pred = self.model(x)\n",
    "        loss = self.loss(pred, y)\n",
    "        return loss"
   ]
  },
  {
   "cell_type": "code",
   "execution_count": null,
   "id": "b5b45ba8-1fda-4388-8ecf-2c2b9095b108",
   "metadata": {},
   "outputs": [
    {
     "name": "stderr",
     "output_type": "stream",
     "text": [
      "GPU available: False, used: False\n",
      "TPU available: False, using: 0 TPU cores\n",
      "IPU available: False, using: 0 IPUs\n",
      "HPU available: False, using: 0 HPUs\n"
     ]
    }
   ],
   "source": [
    "train = pl.Trainer()"
   ]
  },
  {
   "cell_type": "code",
   "execution_count": null,
   "id": "be761d69-0065-4a72-82c2-db149e0c27d0",
   "metadata": {},
   "outputs": [
    {
     "ename": "NameError",
     "evalue": "name 'lit_model' is not defined",
     "output_type": "error",
     "traceback": [
      "\u001b[0;31m---------------------------------------------------------------------------\u001b[0m",
      "\u001b[0;31mNameError\u001b[0m                                 Traceback (most recent call last)",
      "Input \u001b[0;32mIn [9]\u001b[0m, in \u001b[0;36m<cell line: 1>\u001b[0;34m()\u001b[0m\n\u001b[0;32m----> 1\u001b[0m train\u001b[38;5;241m.\u001b[39mfit(\u001b[43mlit_model\u001b[49m, train_loader)\n",
      "\u001b[0;31mNameError\u001b[0m: name 'lit_model' is not defined"
     ]
    }
   ],
   "source": [
    "train.fit(lit_model, train_loader)"
   ]
  },
  {
   "cell_type": "code",
   "execution_count": null,
   "id": "b8f5a39d-bd27-4596-9889-aaa330bdda61",
   "metadata": {},
   "outputs": [],
   "source": [
    "def zero_grad(model):\n",
    "    for l in model.layers:\n",
    "        if hasattr(l, 'weight'):\n",
    "            l.weight.grad.zero_()\n",
    "            "
   ]
  },
  {
   "cell_type": "code",
   "execution_count": null,
   "id": "00f68f68-9af6-4cf9-8fd3-8bac3e02aa63",
   "metadata": {},
   "outputs": [],
   "source": [
    "def train(x, y, epochs):\n",
    "    for i in range(epochs):\n",
    "        pred = model(x)\n",
    "        loss = loss_func(pred, y)\n",
    "        loss.backward()\n",
    "        optim.step()\n",
    "        optim.zero_grad()"
   ]
  },
  {
   "cell_type": "code",
   "execution_count": null,
   "id": "78bfac57-2b2d-4f0c-8eac-d4bc8012fd33",
   "metadata": {},
   "outputs": [],
   "source": [
    "def mnist_resize(x):\n",
    "    return x.view(-1, 1, 28, 28)"
   ]
  },
  {
   "cell_type": "code",
   "execution_count": null,
   "id": "928c1bd9-c5c9-4e11-a943-e24a53410282",
   "metadata": {},
   "outputs": [],
   "source": [
    "import torch.nn as nn"
   ]
  },
  {
   "cell_type": "code",
   "execution_count": null,
   "id": "e4db5e7d-e62b-486d-9998-25222e04b4d2",
   "metadata": {},
   "outputs": [],
   "source": [
    "class Lambda(nn.Module):\n",
    "    def __init__(self, func):\n",
    "        super().__init__()\n",
    "        self.func = func\n",
    "    \n",
    "    def forward(self, x):\n",
    "        return self.func(x)"
   ]
  },
  {
   "cell_type": "code",
   "execution_count": null,
   "id": "c59136ac-e30b-43d3-bee9-64fba38ca873",
   "metadata": {},
   "outputs": [],
   "source": [
    "class _SequentialModel(nn.Module):\n",
    "    def __init__(self, layers):\n",
    "        self.layers = nn.ModuleList(layers)\n",
    "        \n",
    "        self.act_means = [[] for _ in self.layers]\n",
    "    \n",
    "    def forward(self, x):\n",
    "        for i, l in enumerate(self.layers):\n",
    "            x = l(x)\n",
    "            self.act_means[i].append(x.mean())"
   ]
  },
  {
   "cell_type": "code",
   "execution_count": null,
   "id": "14cc1210-47fd-407b-9a8f-02c7f0713b85",
   "metadata": {},
   "outputs": [],
   "source": [
    "for l in _model.layers:\n",
    "    l.register_forward_hook(module, )"
   ]
  },
  {
   "cell_type": "code",
   "execution_count": null,
   "id": "4c685a26-8220-4d17-b713-24c619a7eb82",
   "metadata": {},
   "outputs": [],
   "source": [
    "def move_to_gpu(x):\n",
    "    device = torch.device('cuda', 0)\n",
    "    return x.to(device)"
   ]
  },
  {
   "cell_type": "code",
   "execution_count": null,
   "id": "f58ffee4-697e-4294-8f13-e187c218547d",
   "metadata": {},
   "outputs": [],
   "source": [
    "def mae(x):\n",
    "    return (x - x.mean()).abs().mean()"
   ]
  },
  {
   "cell_type": "code",
   "execution_count": null,
   "id": "b217fff6-8960-4e06-8621-2818d1fe5862",
   "metadata": {},
   "outputs": [],
   "source": [
    "def variance(x):\n",
    "    return (x - x.mean()).pow(2).mean()"
   ]
  },
  {
   "cell_type": "code",
   "execution_count": null,
   "id": "6825ffac-d14d-4057-ab93-910c91163aed",
   "metadata": {},
   "outputs": [],
   "source": [
    "def variance(x):\n",
    "    return (x*x).mean() - x.mean().pow(2)"
   ]
  },
  {
   "cell_type": "code",
   "execution_count": null,
   "id": "5b0b7367-368f-4e0c-9794-f9585de0706a",
   "metadata": {},
   "outputs": [],
   "source": [
    "def std(x):\n",
    "    variance = (x-x.mean()).pow(2).mean()\n",
    "    return variance.sqrt()"
   ]
  },
  {
   "cell_type": "code",
   "execution_count": null,
   "id": "3f21c55a-3fab-4f24-b0d2-61d8371b87dd",
   "metadata": {},
   "outputs": [],
   "source": [
    "import torch.nn.functional as F"
   ]
  },
  {
   "cell_type": "code",
   "execution_count": null,
   "id": "2773df4a-9d46-475f-8787-ecd6aba5fe74",
   "metadata": {},
   "outputs": [],
   "source": [
    "class _LMModel3:\n",
    "    def __init__(self, vocab_sz, n_hidden):\n",
    "        self.i_h = nn.Embedding(vocab_sz, n_hidden)\n",
    "        self.h_h = nn.Linear(n_hidden, n_hidden)\n",
    "        self.h_o = nn.Linear(n_hidden, vocab_sz)\n",
    "        self.h = 0.\n",
    "    \n",
    "    def forward(self, x):\n",
    "        for i in range(3):\n",
    "            self.h = self.h + F.relu(self.i_h(self.x[:, i]))\n",
    "            self.h = F.relu(self.h_h(self.h))\n",
    "        \n",
    "        out = self.h_o(self.h)\n",
    "        self.h.detach()\n",
    "        return out"
   ]
  },
  {
   "cell_type": "code",
   "execution_count": null,
   "id": "2cb4ac25-3c8f-4afb-b8cd-2c7ffc7b8e40",
   "metadata": {},
   "outputs": [],
   "source": [
    "from fastai.vision.all import *"
   ]
  },
  {
   "cell_type": "code",
   "execution_count": null,
   "id": "698677f0-584b-4d24-a278-ef6536f0f21b",
   "metadata": {},
   "outputs": [],
   "source": [
    "dblock = DataBlock(blocks=[ImageBlock, CategoryBlock])"
   ]
  },
  {
   "cell_type": "code",
   "execution_count": null,
   "id": "b128a7ec-0c2c-41ed-b009-65fc3a471a66",
   "metadata": {},
   "outputs": [],
   "source": [
    "from PIL import Image"
   ]
  },
  {
   "cell_type": "code",
   "execution_count": null,
   "id": "7270e28c-b952-4ff1-8a77-1e0bbb1ff11a",
   "metadata": {},
   "outputs": [],
   "source": [
    "im3 = Image.open(im3_path)"
   ]
  },
  {
   "cell_type": "markdown",
   "id": "4bc304d2-a8f2-40fd-81c0-b1aa56d12332",
   "metadata": {},
   "source": [
    "### bash"
   ]
  },
  {
   "cell_type": "code",
   "execution_count": null,
   "id": "b03ea574-12f3-4eab-8ee2-8419917b6914",
   "metadata": {},
   "outputs": [],
   "source": [
    "echo {1..10}"
   ]
  },
  {
   "cell_type": "markdown",
   "id": "7c44fb77-b7e9-44ee-8712-63d962e1d49e",
   "metadata": {},
   "source": [
    "### Sympy"
   ]
  },
  {
   "cell_type": "code",
   "execution_count": null,
   "id": "e5b52431-74ac-410f-ba05-1ac99ed95ee1",
   "metadata": {},
   "outputs": [],
   "source": [
    "import sympy as smp"
   ]
  },
  {
   "cell_type": "code",
   "execution_count": null,
   "id": "df30feca-8f9b-4b1d-81e4-5e832d622d4e",
   "metadata": {},
   "outputs": [],
   "source": [
    "alpha = smp.symbols('alpha')"
   ]
  },
  {
   "cell_type": "code",
   "execution_count": null,
   "id": "f3839126-34e2-4155-9607-bbd02974074a",
   "metadata": {},
   "outputs": [
    {
     "data": {
      "text/latex": [
       "$\\displaystyle \\alpha$"
      ],
      "text/plain": [
       "alpha"
      ]
     },
     "execution_count": null,
     "metadata": {},
     "output_type": "execute_result"
    }
   ],
   "source": [
    "alpha"
   ]
  },
  {
   "cell_type": "markdown",
   "id": "21d2ef08-2018-4b45-950f-441290172279",
   "metadata": {},
   "source": [
    "### Python"
   ]
  },
  {
   "cell_type": "code",
   "execution_count": null,
   "id": "eb17acda-764a-4db1-951c-48f290a975e1",
   "metadata": {},
   "outputs": [],
   "source": [
    "from functools import partial"
   ]
  },
  {
   "cell_type": "code",
   "execution_count": null,
   "id": "d5710393-4f99-43d6-bea4-4850c485ae60",
   "metadata": {},
   "outputs": [],
   "source": [
    "[e**2 for e in l]"
   ]
  },
  {
   "cell_type": "code",
   "execution_count": null,
   "id": "1ed3d7f2-b18c-47b8-9d05-7bef1ea7b1a8",
   "metadata": {},
   "outputs": [],
   "source": [
    "f = partial(my_func, 10, k1='a')"
   ]
  },
  {
   "cell_type": "markdown",
   "id": "bba4dec3-00a1-4d7e-96c5-510fe20cb1dc",
   "metadata": {},
   "source": [
    "### fastcore"
   ]
  },
  {
   "cell_type": "code",
   "execution_count": null,
   "id": "d7e63006-f87d-4af8-b433-464c86dfa860",
   "metadata": {},
   "outputs": [],
   "source": [
    "from fastcore.meta import *"
   ]
  },
  {
   "cell_type": "code",
   "execution_count": null,
   "id": "2987c758-9376-4a02-9cf5-d27fbd9fd716",
   "metadata": {},
   "outputs": [],
   "source": [
    "@funcs_kwargs(as_method=True)\n",
    "class DataBlock:\n",
    "    num = 4\n",
    "    _methods = ['loss_func']"
   ]
  },
  {
   "cell_type": "code",
   "execution_count": null,
   "id": "24fcace4-dab2-4d4d-885a-cf8ab1cad152",
   "metadata": {},
   "outputs": [],
   "source": [
    "def plus_one(self):\n",
    "    return self.num + 1"
   ]
  },
  {
   "cell_type": "code",
   "execution_count": null,
   "id": "64a706fe-3d57-4133-8c83-a27b863c04d9",
   "metadata": {},
   "outputs": [],
   "source": [
    "dblock = DataBlock(loss_func=plus_one)"
   ]
  },
  {
   "cell_type": "code",
   "execution_count": null,
   "id": "5fa1b993-a4de-4f55-95e9-ef3c0b56bfd6",
   "metadata": {},
   "outputs": [
    {
     "data": {
      "text/plain": [
       "5"
      ]
     },
     "execution_count": null,
     "metadata": {},
     "output_type": "execute_result"
    }
   ],
   "source": [
    "dblock.loss_func()"
   ]
  },
  {
   "cell_type": "code",
   "execution_count": null,
   "id": "a4f86bbb-7aa1-4530-a304-c926b2e37884",
   "metadata": {},
   "outputs": [],
   "source": [
    "# @delegates(bar)\n",
    "# def foo()"
   ]
  },
  {
   "cell_type": "markdown",
   "id": "3a92527e-ba05-41b8-b89d-d1e85466d172",
   "metadata": {},
   "source": [
    "### pytest"
   ]
  },
  {
   "cell_type": "code",
   "execution_count": null,
   "id": "ee024515-f30d-4510-af40-014c4df48398",
   "metadata": {},
   "outputs": [],
   "source": [
    "import pytest"
   ]
  },
  {
   "cell_type": "code",
   "execution_count": null,
   "id": "c5cf9ab5-a680-4b50-9bc9-96d6cf5ce38a",
   "metadata": {},
   "outputs": [
    {
     "ename": "Failed",
     "evalue": "DID NOT RAISE <class 'ValueError'>",
     "output_type": "error",
     "traceback": [
      "\u001b[0;31m---------------------------------------------------------------------------\u001b[0m",
      "\u001b[0;31mFailed\u001b[0m                                    Traceback (most recent call last)",
      "Input \u001b[0;32mIn [14]\u001b[0m, in \u001b[0;36m<cell line: 1>\u001b[0;34m()\u001b[0m\n\u001b[1;32m      1\u001b[0m \u001b[38;5;28;01mwith\u001b[39;00m pytest\u001b[38;5;241m.\u001b[39mraises(\u001b[38;5;167;01mValueError\u001b[39;00m) \u001b[38;5;28;01mas\u001b[39;00m err:\n\u001b[0;32m----> 2\u001b[0m     \u001b[38;5;28;01mpass\u001b[39;00m\n",
      "    \u001b[0;31m[... skipping hidden 1 frame]\u001b[0m\n",
      "File \u001b[0;32m/opt/anaconda3/envs/chemchem/lib/python3.9/site-packages/_pytest/outcomes.py:196\u001b[0m, in \u001b[0;36mfail\u001b[0;34m(reason, pytrace, msg)\u001b[0m\n\u001b[1;32m    194\u001b[0m __tracebackhide__ \u001b[38;5;241m=\u001b[39m \u001b[38;5;28;01mTrue\u001b[39;00m\n\u001b[1;32m    195\u001b[0m reason \u001b[38;5;241m=\u001b[39m _resolve_msg_to_reason(\u001b[38;5;124m\"\u001b[39m\u001b[38;5;124mfail\u001b[39m\u001b[38;5;124m\"\u001b[39m, reason, msg)\n\u001b[0;32m--> 196\u001b[0m \u001b[38;5;28;01mraise\u001b[39;00m Failed(msg\u001b[38;5;241m=\u001b[39mreason, pytrace\u001b[38;5;241m=\u001b[39mpytrace)\n",
      "\u001b[0;31mFailed\u001b[0m: DID NOT RAISE <class 'ValueError'>"
     ]
    }
   ],
   "source": [
    "with pytest.raises(ValueError) as err:\n",
    "    pass"
   ]
  },
  {
   "cell_type": "code",
   "execution_count": null,
   "id": "3e1b2fc4-ba7f-44a6-b504-31022efba2f7",
   "metadata": {},
   "outputs": [],
   "source": [
    "with open('test.txt') as f:\n",
    "    f.write()"
   ]
  },
  {
   "cell_type": "code",
   "execution_count": null,
   "id": "c996d394-3c6f-408f-981e-2240b859f6bc",
   "metadata": {},
   "outputs": [
    {
     "name": "stdin",
     "output_type": "stream",
     "text": [
      "what is your age 1\n"
     ]
    },
    {
     "name": "stdout",
     "output_type": "stream",
     "text": [
      "1\n"
     ]
    }
   ],
   "source": [
    "try:\n",
    "    age = int(input('what is your age'))\n",
    "    print(age)\n",
    "except:\n",
    "    print('please enter a number')"
   ]
  },
  {
   "cell_type": "code",
   "execution_count": null,
   "id": "4a17429f-ae4f-49dd-88e3-2a31376fa16d",
   "metadata": {},
   "outputs": [
    {
     "ename": "NameError",
     "evalue": "name 'my_func' is not defined",
     "output_type": "error",
     "traceback": [
      "\u001b[0;31m---------------------------------------------------------------------------\u001b[0m",
      "\u001b[0;31mNameError\u001b[0m                                 Traceback (most recent call last)",
      "Input \u001b[0;32mIn [16]\u001b[0m, in \u001b[0;36m<cell line: 1>\u001b[0;34m()\u001b[0m\n\u001b[0;32m----> 1\u001b[0m f \u001b[38;5;241m=\u001b[39m partial(\u001b[43mmy_func\u001b[49m, \u001b[38;5;241m10\u001b[39m, k1\u001b[38;5;241m=\u001b[39m\u001b[38;5;124m'\u001b[39m\u001b[38;5;124ma\u001b[39m\u001b[38;5;124m'\u001b[39m)\n",
      "\u001b[0;31mNameError\u001b[0m: name 'my_func' is not defined"
     ]
    }
   ],
   "source": [
    "f = partial(my_func, 10, k1='a')"
   ]
  },
  {
   "cell_type": "code",
   "execution_count": null,
   "id": "b5dd20d8-c4c0-4184-bd40-3a6d39b4a6e9",
   "metadata": {},
   "outputs": [],
   "source": [
    "def greet(name: str) -> str:\n",
    "    return 'Hello ' + name"
   ]
  },
  {
   "cell_type": "code",
   "execution_count": null,
   "id": "1345fef9-d481-414f-a052-5e97b222abd2",
   "metadata": {},
   "outputs": [],
   "source": [
    "H2O: Compound = Compound\n"
   ]
  },
  {
   "cell_type": "code",
   "execution_count": null,
   "id": "ab7aacef-6eb5-464e-b60b-67ade0fb1ad2",
   "metadata": {},
   "outputs": [],
   "source": [
    "age: int = 1"
   ]
  },
  {
   "cell_type": "code",
   "execution_count": null,
   "id": "54676946-c107-4229-87d7-459503fa8e3a",
   "metadata": {},
   "outputs": [],
   "source": [
    "child: bool"
   ]
  },
  {
   "cell_type": "code",
   "execution_count": null,
   "id": "cb7c629b-bbe8-48f3-a9ac-71d4eb3867b4",
   "metadata": {},
   "outputs": [],
   "source": [
    "from typing import Sequence"
   ]
  },
  {
   "cell_type": "code",
   "execution_count": null,
   "id": "b9318a55-bb76-4b7d-b2bc-af1298835511",
   "metadata": {},
   "outputs": [],
   "source": [
    "def foo(collections: Sequence[str]) -> None:\n",
    "    pass"
   ]
  },
  {
   "cell_type": "code",
   "execution_count": null,
   "id": "60a2d374-91eb-4d5d-ad0f-05a1dabc2abb",
   "metadata": {},
   "outputs": [],
   "source": [
    "x: set[str, ...] = {}"
   ]
  },
  {
   "cell_type": "code",
   "execution_count": null,
   "id": "6dfc2a53-7ed3-411c-8541-2132a0933c0a",
   "metadata": {},
   "outputs": [],
   "source": [
    "def foo():\n",
    "    def add(x, y):\n",
    "        return x + y\n",
    "    \n",
    "    return add"
   ]
  },
  {
   "cell_type": "code",
   "execution_count": null,
   "id": "4e7bd44b-4bec-49a6-a37e-f21b485a23a1",
   "metadata": {},
   "outputs": [
    {
     "data": {
      "text/plain": [
       "3"
      ]
     },
     "execution_count": null,
     "metadata": {},
     "output_type": "execute_result"
    }
   ],
   "source": [
    "foo()(1, 2)"
   ]
  },
  {
   "cell_type": "markdown",
   "id": "1c38755d-3fa1-4972-8682-f151c5992950",
   "metadata": {},
   "source": [
    "Add `Type Hints`"
   ]
  },
  {
   "cell_type": "code",
   "execution_count": null,
   "id": "e8de3461-5622-4612-a783-285bda54dda5",
   "metadata": {},
   "outputs": [],
   "source": [
    "from typing import Callable"
   ]
  },
  {
   "cell_type": "code",
   "execution_count": null,
   "id": "2dcb7b86-7236-4d82-9855-ec04a906d177",
   "metadata": {},
   "outputs": [],
   "source": [
    "def foo() -> Callable[[int, int], int]:\n",
    "    def add(x: int, y: int) -> int:\n",
    "        return x + y\n",
    "\n",
    "    return add"
   ]
  },
  {
   "cell_type": "code",
   "execution_count": null,
   "id": "9566a620-14a6-41c7-8423-ea0f9eca6ce2",
   "metadata": {},
   "outputs": [
    {
     "data": {
      "text/plain": [
       "3"
      ]
     },
     "execution_count": null,
     "metadata": {},
     "output_type": "execute_result"
    }
   ],
   "source": [
    "foo()(1, 2)"
   ]
  },
  {
   "cell_type": "code",
   "execution_count": null,
   "id": "b227b37e-2496-4c86-869b-69eb095afc01",
   "metadata": {},
   "outputs": [],
   "source": [
    "x: tuple[int, str, float]"
   ]
  },
  {
   "cell_type": "code",
   "execution_count": null,
   "id": "fe350681-97ce-42a5-9c9b-61ab9328ebe2",
   "metadata": {},
   "outputs": [],
   "source": [
    "ratings.groupby('title')['rating'].mean()"
   ]
  },
  {
   "cell_type": "code",
   "execution_count": null,
   "id": "f4654939-53e5-4d3f-a9c1-7f5e4caa4bc7",
   "metadata": {},
   "outputs": [],
   "source": [
    "expr.subs({'y': k, 'x': 3})"
   ]
  }
 ],
 "metadata": {
  "kernelspec": {
   "display_name": "Python 3 (ipykernel)",
   "language": "python",
   "name": "python3"
  }
 },
 "nbformat": 4,
 "nbformat_minor": 5
}
