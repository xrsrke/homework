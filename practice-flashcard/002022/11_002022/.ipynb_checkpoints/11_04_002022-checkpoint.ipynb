{
 "cells": [
  {
   "cell_type": "markdown",
   "id": "df5cac23-cff5-4d2b-9e0c-10d4bd7784f9",
   "metadata": {},
   "source": [
    "### Deep Learning"
   ]
  },
  {
   "cell_type": "code",
   "execution_count": null,
   "id": "157bf223-2d8c-4150-adbc-0ce9a3eccdea",
   "metadata": {},
   "outputs": [],
   "source": [
    "from PIL import Image"
   ]
  },
  {
   "cell_type": "code",
   "execution_count": null,
   "id": "c51b2f8f-44c7-444d-a76c-8814260d0a08",
   "metadata": {},
   "outputs": [],
   "source": [
    "def load_and_resize(path, size):\n",
    "    return Image.open(path).resize(size)"
   ]
  },
  {
   "cell_type": "code",
   "execution_count": null,
   "id": "9aebfb87-02ea-4770-9940-bc10b9425ae4",
   "metadata": {},
   "outputs": [],
   "source": [
    "def func(layer, inp, out):\n",
    "    add_log(layer, out)"
   ]
  },
  {
   "cell_type": "code",
   "execution_count": null,
   "id": "f1bd7abf-d70b-452e-813e-e099d127b6d0",
   "metadata": {},
   "outputs": [],
   "source": [
    "def add_hook(model):\n",
    "    for l in model.layers:\n",
    "        l.register_hook(func)"
   ]
  },
  {
   "cell_type": "code",
   "execution_count": null,
   "id": "2ee6fb6c-9763-4ea7-92d5-370e0a04234b",
   "metadata": {},
   "outputs": [],
   "source": [
    "from fastai.vision.all import *"
   ]
  },
  {
   "cell_type": "code",
   "execution_count": null,
   "id": "a5c10ae6-1131-415a-9e68-044d8139756d",
   "metadata": {},
   "outputs": [],
   "source": [
    "class _TestCallback(Callback):\n",
    "    def __init__(self):\n",
    "        self.preds = []\n",
    "    \n",
    "    def after_batch(self):\n",
    "        self.preds.append(self.pred)"
   ]
  },
  {
   "cell_type": "code",
   "execution_count": null,
   "id": "c653550b-d414-466c-b1c8-0a91090174a9",
   "metadata": {},
   "outputs": [],
   "source": [
    "CancelBatchException "
   ]
  },
  {
   "cell_type": "code",
   "execution_count": null,
   "id": "f4900704-badf-42dd-b7d5-8ea1f5e63548",
   "metadata": {},
   "outputs": [],
   "source": [
    "x.clamp_max_(3)"
   ]
  },
  {
   "cell_type": "code",
   "execution_count": null,
   "id": "2ec6a595-e73f-437b-aeb7-bddd6a03986b",
   "metadata": {},
   "outputs": [],
   "source": [
    "x.sub(3)"
   ]
  },
  {
   "cell_type": "code",
   "execution_count": null,
   "id": "f8ec1dbf-c97a-4367-8481-b1c67a247f82",
   "metadata": {},
   "outputs": [],
   "source": [
    "x.argsort()"
   ]
  },
  {
   "cell_type": "code",
   "execution_count": null,
   "id": "702d1e84-5a79-458a-bde5-e823126551b6",
   "metadata": {},
   "outputs": [],
   "source": [
    "x.normal_()"
   ]
  },
  {
   "cell_type": "code",
   "execution_count": null,
   "id": "d443c662-107b-4270-8158-16327c299f68",
   "metadata": {},
   "outputs": [],
   "source": [
    "lin.bias.grad.zero_()"
   ]
  },
  {
   "cell_type": "code",
   "execution_count": null,
   "id": "e45508d6-1042-4dc0-bf26-3735d88ee576",
   "metadata": {},
   "outputs": [],
   "source": [
    "lin.bias.data.zero_()"
   ]
  },
  {
   "cell_type": "code",
   "execution_count": null,
   "id": "134a24ea-abe3-457b-8b7a-74b132698c5d",
   "metadata": {},
   "outputs": [],
   "source": [
    "import torch.nn as nn"
   ]
  },
  {
   "cell_type": "code",
   "execution_count": null,
   "id": "9e556cc1-93e3-48ab-ab19-34c8aaf67960",
   "metadata": {},
   "outputs": [
    {
     "data": {
      "text/plain": [
       "Parameter containing:\n",
       "tensor([], requires_grad=True)"
      ]
     },
     "execution_count": null,
     "metadata": {},
     "output_type": "execute_result"
    }
   ],
   "source": [
    "nn.Parameter()"
   ]
  },
  {
   "cell_type": "code",
   "execution_count": null,
   "id": "1a7e3b65-a629-4ebe-b6b2-02da0b229725",
   "metadata": {},
   "outputs": [],
   "source": [
    "optim.step()"
   ]
  },
  {
   "cell_type": "code",
   "execution_count": null,
   "id": "127153d3-e63f-4779-936d-fbb4ae694fbf",
   "metadata": {},
   "outputs": [],
   "source": [
    "l1.weight"
   ]
  },
  {
   "cell_type": "code",
   "execution_count": null,
   "id": "b79c1ecf-0d2d-487c-a0c6-71e8f2607cd4",
   "metadata": {},
   "outputs": [],
   "source": [
    "model.children()"
   ]
  },
  {
   "cell_type": "code",
   "execution_count": null,
   "id": "26d71a21-98d2-4873-a43e-728f78d2348d",
   "metadata": {},
   "outputs": [],
   "source": [
    "optim.zero_grad()"
   ]
  },
  {
   "cell_type": "code",
   "execution_count": null,
   "id": "df8dce68-1d0a-4df5-a99f-ab3527865cbe",
   "metadata": {},
   "outputs": [],
   "source": [
    "model(x_train)"
   ]
  },
  {
   "cell_type": "code",
   "execution_count": null,
   "id": "656485f6-bf5e-4097-91df-61599fa39188",
   "metadata": {},
   "outputs": [],
   "source": [
    "init.kaiming_normal_(layer1.weight)"
   ]
  },
  {
   "cell_type": "code",
   "execution_count": null,
   "id": "6a8d9457-45a3-4c93-8273-1cc4a47e8430",
   "metadata": {},
   "outputs": [],
   "source": [
    "self.layers = nn.ModuleList(*layers)"
   ]
  },
  {
   "cell_type": "code",
   "execution_count": null,
   "id": "e7c2623f-5050-4f58-960e-a0f1cc9db266",
   "metadata": {},
   "outputs": [],
   "source": [
    "l1.register_forward_"
   ]
  },
  {
   "cell_type": "code",
   "execution_count": null,
   "id": "2fd6e768-77dc-4bb3-8601-c9b1b217c84e",
   "metadata": {},
   "outputs": [],
   "source": [
    "self.add_module()"
   ]
  },
  {
   "cell_type": "code",
   "execution_count": null,
   "id": "44d406f7-ed81-4c61-8618-c6b94e42e387",
   "metadata": {},
   "outputs": [],
   "source": [
    "nn.Sequential(*layers)"
   ]
  },
  {
   "cell_type": "code",
   "execution_count": null,
   "id": "b602f02a-762b-47e0-af00-fb0d3cee316c",
   "metadata": {},
   "outputs": [],
   "source": [
    "l1.weight.grad"
   ]
  },
  {
   "cell_type": "code",
   "execution_count": null,
   "id": "7db40ea9-2ab7-489e-a36c-fe0a695fee76",
   "metadata": {},
   "outputs": [],
   "source": [
    "model.named_children()"
   ]
  },
  {
   "cell_type": "code",
   "execution_count": null,
   "id": "40bee960-ae15-48de-9223-09ffe417216f",
   "metadata": {},
   "outputs": [],
   "source": [
    "torch.randperm(0, 10)"
   ]
  },
  {
   "cell_type": "code",
   "execution_count": null,
   "id": "e97695bd-ea20-4e8a-88d1-6600726eee97",
   "metadata": {},
   "outputs": [],
   "source": [
    "with torch.no_grad(): #code"
   ]
  },
  {
   "cell_type": "code",
   "execution_count": null,
   "id": "a4a7a3ae-42d8-4d84-8401-32288e43e5fa",
   "metadata": {},
   "outputs": [],
   "source": [
    "torch.clamp_min(x, min=2)"
   ]
  },
  {
   "cell_type": "code",
   "execution_count": null,
   "id": "cc6e45ac-8b39-40db-8dc2-bea9d95f29cd",
   "metadata": {},
   "outputs": [],
   "source": [
    "import torch"
   ]
  },
  {
   "cell_type": "code",
   "execution_count": null,
   "id": "7f1dcef5-c690-4e27-a56b-994e90f36035",
   "metadata": {},
   "outputs": [],
   "source": [
    "import torch.nn as nn"
   ]
  },
  {
   "cell_type": "code",
   "execution_count": null,
   "id": "0afc8bc1-e9ef-439b-bc65-ecfccbdc69ea",
   "metadata": {},
   "outputs": [],
   "source": [
    "weight = nn.Parameter(torch.randn(1))"
   ]
  },
  {
   "cell_type": "code",
   "execution_count": null,
   "id": "74654d41-dbb5-4f2d-8ba3-0b71c9b610c6",
   "metadata": {},
   "outputs": [
    {
     "data": {
      "text/plain": [
       "Parameter containing:\n",
       "tensor([-1.0121], requires_grad=True)"
      ]
     },
     "execution_count": null,
     "metadata": {},
     "output_type": "execute_result"
    }
   ],
   "source": [
    "weight"
   ]
  },
  {
   "cell_type": "code",
   "execution_count": null,
   "id": "6de9f708-0de9-4d57-a353-cb08fe7c4cd2",
   "metadata": {},
   "outputs": [],
   "source": [
    "class Model(nn.Module):\n",
    "    def __init__(self, n_in, nh, n_out):\n",
    "        super().__init__()\n",
    "        self.layers = [\n",
    "            nn.Linear(n_in, nh),\n",
    "            nn.ReLU(),\n",
    "            nn.Linear(nh, n_out)\n",
    "            ]\n",
    "    \n",
    "    def forward(self, x):\n",
    "        for l in self.layers:\n",
    "            x = l(x)\n",
    "        \n",
    "        return x"
   ]
  },
  {
   "cell_type": "code",
   "execution_count": null,
   "id": "275fb92d-f07b-4a7a-9a5c-6d07dc407f57",
   "metadata": {},
   "outputs": [],
   "source": [
    "model = Model(784, 50, 10)"
   ]
  },
  {
   "cell_type": "code",
   "execution_count": null,
   "id": "4b40b66a-d10a-41f8-bf92-890e320a104f",
   "metadata": {},
   "outputs": [
    {
     "data": {
      "text/plain": [
       "[]"
      ]
     },
     "execution_count": null,
     "metadata": {},
     "output_type": "execute_result"
    }
   ],
   "source": [
    "list(model.children())"
   ]
  },
  {
   "cell_type": "code",
   "execution_count": null,
   "id": "e42b58d5-420c-4a1f-b7d8-3fe1e202e828",
   "metadata": {},
   "outputs": [],
   "source": [
    "class DataLoader:\n",
    "    def __init__(self, ds, bs):\n",
    "        self.ds = ds\n",
    "        self.bs = bs\n",
    "    \n",
    "    def __iter__(self):\n",
    "        for i in range(0, len(self.ds), self.bs):\n",
    "            yield self.ds[i:i+self.bs]"
   ]
  },
  {
   "cell_type": "code",
   "execution_count": null,
   "id": "5d986414-cd3b-4610-ac55-6f6fcdb6e505",
   "metadata": {},
   "outputs": [],
   "source": [
    "def train_mode(model):\n",
    "    model.train()"
   ]
  },
  {
   "cell_type": "code",
   "execution_count": null,
   "id": "9efd692a-9dee-441a-abc0-603e5feff8b3",
   "metadata": {},
   "outputs": [],
   "source": [
    "def accuracy(pred, targ):\n",
    "    idx_preds = torch.argmax(pred, dim=-1)\n",
    "    return (idx_preds == targ).float().mean()"
   ]
  },
  {
   "cell_type": "code",
   "execution_count": null,
   "id": "1a12b564-a734-4922-a849-cb54411a42a9",
   "metadata": {},
   "outputs": [],
   "source": [
    "weight = nn.Parameter(torch.randn(1))"
   ]
  },
  {
   "cell_type": "code",
   "execution_count": null,
   "id": "101b6ef9-9844-4fe1-82bc-03a180273dcd",
   "metadata": {},
   "outputs": [
    {
     "data": {
      "text/plain": [
       "Parameter containing:\n",
       "tensor([-1.3684], requires_grad=True)"
      ]
     },
     "execution_count": null,
     "metadata": {},
     "output_type": "execute_result"
    }
   ],
   "source": [
    "weight"
   ]
  },
  {
   "cell_type": "code",
   "execution_count": null,
   "id": "9a2601b2-ffa2-4874-be6d-633e365704c9",
   "metadata": {},
   "outputs": [],
   "source": [
    "class _Model(nn.Module):\n",
    "    def __init__(self, layers):\n",
    "        super().__init__()\n",
    "        self.layers = nn.ModuleList(layers)\n",
    "        self.act_means = [[] for _ in self.layers]\n",
    "    \n",
    "    def forward(self, x):\n",
    "        for i, l in enumerate(self.layers):\n",
    "            x = l(x)\n",
    "            self.act_means[i].append(x.mean())"
   ]
  },
  {
   "cell_type": "code",
   "execution_count": null,
   "id": "d3e28ca3-befc-4ae8-9d78-17a85be93279",
   "metadata": {},
   "outputs": [],
   "source": [
    "class DataLoader:\n",
    "    def __init__(self, ds, bs):\n",
    "        self.ds = ds\n",
    "        self.bs = bs\n",
    "    \n",
    "    def __iter__(self):\n",
    "        for i in range(0, len(self.ds), self.bs):\n",
    "            yield self.ds[i:i+self.bs]"
   ]
  },
  {
   "cell_type": "code",
   "execution_count": null,
   "id": "ec88c736-c77c-4751-b523-9cbf674201e5",
   "metadata": {},
   "outputs": [],
   "source": [
    "def mean_squared_error(pred, targ):\n",
    "    error = 0.\n",
    "    \n",
    "    for i in range(len(targ)):\n",
    "        error += (targ - pred)**2\n",
    "    \n",
    "    return error / len(targ)"
   ]
  },
  {
   "cell_type": "code",
   "execution_count": null,
   "id": "654528e2-4a7e-4df9-99ff-789ef54bacc1",
   "metadata": {},
   "outputs": [],
   "source": [
    "ReLU = nn.ReLU()"
   ]
  },
  {
   "cell_type": "code",
   "execution_count": null,
   "id": "b34d3678-7d29-416b-9593-53f6fc178552",
   "metadata": {},
   "outputs": [],
   "source": [
    "class DotProduct(nn.Module):\n",
    "    def __init__(self, n_users, n_movies, n_factors):\n",
    "        self.user_factors = nn.Embedding(n_users, n_factors)\n",
    "        self.movie_factors = nn.Embedding(n_movies, n_factors)"
   ]
  },
  {
   "cell_type": "code",
   "execution_count": null,
   "id": "e537791d-1ca9-4980-bef5-bdd55a0cfc56",
   "metadata": {},
   "outputs": [],
   "source": [
    "def one_hot(idx, n_elements):\n",
    "    zeros = torch.zeros(n_elements)\n",
    "    zeros[idx] = 1\n",
    "    return zeros"
   ]
  },
  {
   "cell_type": "code",
   "execution_count": null,
   "id": "c45b3bc6-deeb-4b1c-aec0-039d93fef0b9",
   "metadata": {},
   "outputs": [
    {
     "data": {
      "text/plain": [
       "tensor([0., 0., 0., 1., 0.])"
      ]
     },
     "execution_count": null,
     "metadata": {},
     "output_type": "execute_result"
    }
   ],
   "source": [
    "one_hot(3, 5)"
   ]
  },
  {
   "cell_type": "code",
   "execution_count": null,
   "id": "6d23f11a-281f-4f25-b68a-0f0f7ea8dc32",
   "metadata": {},
   "outputs": [
    {
     "ename": "NameError",
     "evalue": "name 'lines' is not defined",
     "output_type": "error",
     "traceback": [
      "\u001b[0;31m---------------------------------------------------------------------------\u001b[0m",
      "\u001b[0;31mNameError\u001b[0m                                 Traceback (most recent call last)",
      "Input \u001b[0;32mIn [46]\u001b[0m, in \u001b[0;36m<cell line: 1>\u001b[0;34m()\u001b[0m\n\u001b[0;32m----> 1\u001b[0m text \u001b[38;5;241m=\u001b[39m \u001b[38;5;124m'\u001b[39m\u001b[38;5;124m . \u001b[39m\u001b[38;5;124m'\u001b[39m\u001b[38;5;241m.\u001b[39mjoin([l\u001b[38;5;241m.\u001b[39mstrip() \u001b[38;5;28;01mfor\u001b[39;00m l \u001b[38;5;129;01min\u001b[39;00m \u001b[43mlines\u001b[49m])\n",
      "\u001b[0;31mNameError\u001b[0m: name 'lines' is not defined"
     ]
    }
   ],
   "source": [
    "text = ' . '.join([l.strip() for l in lines])"
   ]
  },
  {
   "cell_type": "code",
   "execution_count": null,
   "id": "a6850ae0-d503-4696-8c40-3767e25a1f77",
   "metadata": {},
   "outputs": [],
   "source": [
    "import torch.nn.functional as F"
   ]
  },
  {
   "cell_type": "code",
   "execution_count": null,
   "id": "f9b5c6a0-a56e-45f1-8091-073ce01408be",
   "metadata": {},
   "outputs": [],
   "source": [
    "class _LMModel3(nn.Module):\n",
    "    def __init__(self, vocab_sz, n_hidden):\n",
    "        self.i_h = nn.Embedding(vocab_sz, n_hidden)\n",
    "        self.h_h = nn.Linear(n_hidden, n_hidden)\n",
    "        self.h_o = nn.Linear(n_hidden, vocab_sz)\n",
    "        self.h = 0.\n",
    "    \n",
    "    def forward(self, x):\n",
    "        for i in range(3):\n",
    "            self.h = self.h + F.relu(self.i_h(x[:, i]))\n",
    "            self.h = F.relu(self.h_h(self.h))\n",
    "        \n",
    "        out = F.relu(self.h_o(self.h))\n",
    "        self.h = self.h.detach()\n",
    "        return out"
   ]
  },
  {
   "cell_type": "code",
   "execution_count": null,
   "id": "860d8833-5e29-4c6b-b764-13e254c17a20",
   "metadata": {},
   "outputs": [],
   "source": [
    "def accuracy(pred, targ):\n",
    "    idx_preds = torch.argmax(pred, dim=-1)\n",
    "    return (idx_preds == targ).float().mean()"
   ]
  },
  {
   "cell_type": "code",
   "execution_count": null,
   "id": "c42f563a-58a2-48f9-9556-8fed586ed427",
   "metadata": {},
   "outputs": [],
   "source": [
    "def covariance(x, y):\n",
    "    prod = (x-x.mean())*(y-y.mean())\n",
    "    return prod.mean()"
   ]
  },
  {
   "cell_type": "code",
   "execution_count": null,
   "id": "75d5c60a-22c1-49d8-be2d-0cf1569d3e35",
   "metadata": {},
   "outputs": [],
   "source": [
    "def binary(x):\n",
    "    return x.exp() / (1+x.exp())"
   ]
  },
  {
   "cell_type": "code",
   "execution_count": null,
   "id": "d3fd67fe-0d2e-4c9a-8d56-00837a98c0e2",
   "metadata": {},
   "outputs": [],
   "source": [
    "class Hook:\n",
    "    def __enter__(self, *args): print('hello')\n",
    "    \n",
    "    def __exit__(self, *args): print('goodbye')"
   ]
  },
  {
   "cell_type": "code",
   "execution_count": null,
   "id": "6186e175-b228-4baa-b513-dbb9d01e46cd",
   "metadata": {},
   "outputs": [
    {
     "name": "stdout",
     "output_type": "stream",
     "text": [
      "hello\n",
      "...\n",
      "goodbye\n"
     ]
    }
   ],
   "source": [
    "with Hook() as hook:\n",
    "    print('...')"
   ]
  },
  {
   "cell_type": "code",
   "execution_count": null,
   "id": "7eac927c-76fa-4532-95ff-4eed41712b22",
   "metadata": {},
   "outputs": [],
   "source": [
    "def zero_weight(l):\n",
    "    return l.weight.data.zero_()"
   ]
  },
  {
   "cell_type": "code",
   "execution_count": null,
   "id": "515175a3-0cd1-46fd-aacc-2acd9f0f0354",
   "metadata": {},
   "outputs": [],
   "source": [
    "def to_half_precision(x):\n",
    "    return x.half()"
   ]
  },
  {
   "cell_type": "code",
   "execution_count": null,
   "id": "cf0871b7-e233-4d7a-aa29-66b27fa0b72c",
   "metadata": {},
   "outputs": [],
   "source": [
    "class _ListContainer:\n",
    "    def __init__(self, items):\n",
    "        self.items = items\n",
    "    \n",
    "    def __getitem__(self, idxs):\n",
    "        if isinstance(idxs[0], bool):\n",
    "            assert len(idxs) == len(self.items)\n",
    "            return [o for b, o in zip(idxs, self.items) if b]"
   ]
  },
  {
   "cell_type": "code",
   "execution_count": null,
   "id": "471b6d85-1146-4ac1-8fc0-0e5e9d677705",
   "metadata": {},
   "outputs": [],
   "source": [
    "l = _ListContainer([1, 2, 3, 4, 5])"
   ]
  },
  {
   "cell_type": "code",
   "execution_count": null,
   "id": "9212dccc-670c-4abc-af08-fdb65a52394a",
   "metadata": {},
   "outputs": [
    {
     "data": {
      "text/plain": [
       "[1, 3, 5]"
      ]
     },
     "execution_count": null,
     "metadata": {},
     "output_type": "execute_result"
    }
   ],
   "source": [
    "l[[True, False, True, False, True]]"
   ]
  },
  {
   "cell_type": "code",
   "execution_count": null,
   "id": "aae29cc1-ce7f-461a-88b0-2122cfef5195",
   "metadata": {},
   "outputs": [],
   "source": [
    "_actual_noises = noises * _init_sigma"
   ]
  },
  {
   "cell_type": "code",
   "execution_count": null,
   "id": "dfa8cad4-0c03-42c1-b31b-1dc132773913",
   "metadata": {},
   "outputs": [],
   "source": [
    "noises = torch.randn(1, channel, height // 8, width // 8)"
   ]
  },
  {
   "cell_type": "markdown",
   "id": "f9c16e81-ba8c-462d-9574-6e924b1c8dc9",
   "metadata": {},
   "source": [
    "### bash"
   ]
  },
  {
   "cell_type": "code",
   "execution_count": null,
   "id": "55e99ea3-c8c7-4d52-92dc-6e85c25ca02d",
   "metadata": {},
   "outputs": [],
   "source": [
    "${name^^}"
   ]
  },
  {
   "cell_type": "code",
   "execution_count": null,
   "id": "bb545c94-37a3-4aae-88a3-01ab05f39a2a",
   "metadata": {},
   "outputs": [],
   "source": [
    "!!"
   ]
  },
  {
   "cell_type": "code",
   "execution_count": null,
   "id": "cba5aa63-9889-4abc-bdcc-1a7e1bfd4052",
   "metadata": {},
   "outputs": [],
   "source": [
    "${name,,}"
   ]
  },
  {
   "cell_type": "code",
   "execution_count": null,
   "id": "6670d070-123a-49dd-b805-c9a45367ceae",
   "metadata": {},
   "outputs": [],
   "source": [
    "foo=$(pwd)"
   ]
  },
  {
   "cell_type": "code",
   "execution_count": null,
   "id": "90aa6889-614e-4443-9b64-21e6d72af9a3",
   "metadata": {},
   "outputs": [],
   "source": [
    "${id:3}"
   ]
  },
  {
   "cell_type": "code",
   "execution_count": null,
   "id": "b3c6499d-eab9-477c-8029-284542d11d67",
   "metadata": {},
   "outputs": [],
   "source": [
    "$USER"
   ]
  },
  {
   "cell_type": "code",
   "execution_count": null,
   "id": "3fa5025c-6d2a-4b5f-bdb1-0a2c782b274c",
   "metadata": {},
   "outputs": [],
   "source": [
    "${id:1:5}"
   ]
  },
  {
   "cell_type": "code",
   "execution_count": null,
   "id": "4ca3132c-f532-408b-9524-bdedcf51c2f3",
   "metadata": {},
   "outputs": [],
   "source": [
    "echo ~shivon"
   ]
  },
  {
   "cell_type": "code",
   "execution_count": null,
   "id": "ce94c5c0-e767-4d40-ac81-2a46a40ab79d",
   "metadata": {},
   "outputs": [],
   "source": [
    "mkdir week_{1, 2, 3 }"
   ]
  },
  {
   "cell_type": "code",
   "execution_count": null,
   "id": "4be4f35a-2b00-4c25-9701-34756f14c413",
   "metadata": {},
   "outputs": [],
   "source": [
    "echo \"5/2\" | bc"
   ]
  },
  {
   "cell_type": "code",
   "execution_count": null,
   "id": "d5991d73-61bb-41ab-be67-fecd9b714779",
   "metadata": {},
   "outputs": [],
   "source": [
    "echo {z..k}"
   ]
  },
  {
   "cell_type": "code",
   "execution_count": null,
   "id": "811ed98c-4399-4ca4-92fb-66b97b19a1b2",
   "metadata": {},
   "outputs": [],
   "source": [
    "echo {1..10}"
   ]
  },
  {
   "cell_type": "code",
   "execution_count": null,
   "id": "2f628b74-a661-4f15-8f78-08518a79c686",
   "metadata": {},
   "outputs": [],
   "source": [
    "echo \"scale=2; 5//2\" | bc"
   ]
  },
  {
   "cell_type": "code",
   "execution_count": null,
   "id": "0cccd469-796f-4b4a-b512-019ce22c01fe",
   "metadata": {},
   "outputs": [],
   "source": [
    "${#name}"
   ]
  },
  {
   "cell_type": "code",
   "execution_count": null,
   "id": "bee65bcf-2354-4843-a991-406b8c2d375e",
   "metadata": {},
   "outputs": [],
   "source": [
    "echo $(($x + $y))"
   ]
  },
  {
   "cell_type": "code",
   "execution_count": null,
   "id": "68bddad4-3954-452e-ad61-88697506db94",
   "metadata": {},
   "outputs": [],
   "source": [
    "#!/bin/bash\n",
    "echo \"My name is $1\"\n",
    "echo \"I work at $2\""
   ]
  },
  {
   "cell_type": "code",
   "execution_count": null,
   "id": "df439585-b87e-43d8-9c91-6ecf43bba6d5",
   "metadata": {},
   "outputs": [],
   "source": [
    "echo ${id:3}"
   ]
  },
  {
   "cell_type": "code",
   "execution_count": null,
   "id": "77ccd009-7a94-49b7-8e6c-cbebedbf48c3",
   "metadata": {},
   "outputs": [],
   "source": [
    "echo \"5/2\" | bc"
   ]
  },
  {
   "cell_type": "markdown",
   "id": "233a8179-d66c-45fa-b099-c124e67a1402",
   "metadata": {},
   "source": [
    "### Docker"
   ]
  },
  {
   "cell_type": "code",
   "execution_count": null,
   "id": "10c28aff-7f4b-42ad-af53-553d26ff4671",
   "metadata": {},
   "outputs": [
    {
     "ename": "SyntaxError",
     "evalue": "invalid syntax (5489320.py, line 3)",
     "output_type": "error",
     "traceback": [
      "\u001b[0;36m  Input \u001b[0;32mIn [1]\u001b[0;36m\u001b[0m\n\u001b[0;31m    services:\u001b[0m\n\u001b[0m             ^\u001b[0m\n\u001b[0;31mSyntaxError\u001b[0m\u001b[0;31m:\u001b[0m invalid syntax\n"
     ]
    }
   ],
   "source": [
    "version: 0.01\n",
    "\n",
    "services:\n",
    "    mongodb:\n",
    "        image: mongo\n",
    "        port:\n",
    "            - 27017:27017"
   ]
  },
  {
   "cell_type": "markdown",
   "id": "588b7643-6390-4a5f-9b63-a00c72a6dd7a",
   "metadata": {},
   "source": [
    "### Pandas"
   ]
  },
  {
   "cell_type": "code",
   "execution_count": null,
   "id": "568cfbdf-fafb-442e-b639-f98e6f17cbfd",
   "metadata": {},
   "outputs": [],
   "source": [
    "new_dict = {0: \"Olga\", 1: \"Andrew\", 2: \"Nicole\"}"
   ]
  },
  {
   "cell_type": "code",
   "execution_count": null,
   "id": "cee70a6e-7f2f-4429-9b15-62a3aaa8b48c",
   "metadata": {},
   "outputs": [],
   "source": [
    "import pandas as pd"
   ]
  },
  {
   "cell_type": "code",
   "execution_count": null,
   "id": "9c491dd0-5384-405a-aea2-05d1a28babf8",
   "metadata": {},
   "outputs": [],
   "source": [
    "df3 = pd.DataFrame({\"name\": new_dict})"
   ]
  },
  {
   "cell_type": "code",
   "execution_count": null,
   "id": "4284246e-a28f-4811-8cab-a862a965b416",
   "metadata": {},
   "outputs": [
    {
     "data": {
      "text/html": [
       "<div>\n",
       "<style scoped>\n",
       "    .dataframe tbody tr th:only-of-type {\n",
       "        vertical-align: middle;\n",
       "    }\n",
       "\n",
       "    .dataframe tbody tr th {\n",
       "        vertical-align: top;\n",
       "    }\n",
       "\n",
       "    .dataframe thead th {\n",
       "        text-align: right;\n",
       "    }\n",
       "</style>\n",
       "<table border=\"1\" class=\"dataframe\">\n",
       "  <thead>\n",
       "    <tr style=\"text-align: right;\">\n",
       "      <th></th>\n",
       "      <th>name</th>\n",
       "    </tr>\n",
       "  </thead>\n",
       "  <tbody>\n",
       "    <tr>\n",
       "      <th>0</th>\n",
       "      <td>Olga</td>\n",
       "    </tr>\n",
       "    <tr>\n",
       "      <th>1</th>\n",
       "      <td>Andrew</td>\n",
       "    </tr>\n",
       "    <tr>\n",
       "      <th>2</th>\n",
       "      <td>Nicole</td>\n",
       "    </tr>\n",
       "  </tbody>\n",
       "</table>\n",
       "</div>"
      ],
      "text/plain": [
       "     name\n",
       "0    Olga\n",
       "1  Andrew\n",
       "2  Nicole"
      ]
     },
     "execution_count": null,
     "metadata": {},
     "output_type": "execute_result"
    }
   ],
   "source": [
    "df3"
   ]
  },
  {
   "cell_type": "markdown",
   "id": "2a29fe59-00af-4c89-aa24-510693a99603",
   "metadata": {},
   "source": [
    "### SciPy"
   ]
  },
  {
   "cell_type": "code",
   "execution_count": null,
   "id": "fe9adfe1-34ea-4d51-aa69-681fce8a65cd",
   "metadata": {},
   "outputs": [],
   "source": [
    "import numpy as np"
   ]
  },
  {
   "cell_type": "code",
   "execution_count": null,
   "id": "4c3aa91d-4aa7-4b43-b17e-e9e86b90f489",
   "metadata": {},
   "outputs": [],
   "source": [
    "def f(x):\n",
    "    return x**2 * np.sin(2*x) * np.exp(-x)"
   ]
  },
  {
   "cell_type": "code",
   "execution_count": null,
   "id": "795e4f4b-ab0e-4a9d-9ee9-27bd659054b6",
   "metadata": {},
   "outputs": [],
   "source": [
    "blue = x[1:3:2, 0:3:2]"
   ]
  },
  {
   "cell_type": "code",
   "execution_count": null,
   "id": "967195e1-c9c8-4d5c-8fcb-7bec49f6472b",
   "metadata": {},
   "outputs": [],
   "source": [
    "red = x[:, 1:3:2]"
   ]
  },
  {
   "cell_type": "code",
   "execution_count": null,
   "id": "80e1166d-ef01-49dc-9597-4e032e5ae298",
   "metadata": {},
   "outputs": [],
   "source": [
    "booleans = [True, False, False, True, False, False]"
   ]
  },
  {
   "cell_type": "markdown",
   "id": "9ce5bda1-20a0-4d21-ae4b-41ae3c20440d",
   "metadata": {},
   "source": [
    "### Python"
   ]
  },
  {
   "cell_type": "markdown",
   "id": "57c24a01-39d0-4e61-aa3c-748fef997c27",
   "metadata": {},
   "source": [
    "### SQL"
   ]
  },
  {
   "cell_type": "markdown",
   "id": "08dafb7b-3472-4fa3-b7e9-18691524a79a",
   "metadata": {},
   "source": [
    "SELECT training.accuracy, datasets.size FROM training, datasets WHERE training.dsets_id = datasets.id"
   ]
  },
  {
   "cell_type": "markdown",
   "id": "f6f840c9-39f4-423b-b44c-13d376b8ffae",
   "metadata": {},
   "source": [
    "### fastcore"
   ]
  },
  {
   "cell_type": "code",
   "execution_count": null,
   "id": "7156eaa9-8511-4afa-862c-bddf97bc52d7",
   "metadata": {},
   "outputs": [],
   "source": [
    "from fastcore.basics import *"
   ]
  },
  {
   "cell_type": "code",
   "execution_count": null,
   "id": "736c567f-e2ef-4115-87bb-9bea4de44be6",
   "metadata": {},
   "outputs": [],
   "source": [
    "class _T(Stateful):\n",
    "    def __init__(self):\n",
    "        super().__init__()\n",
    "        self.a = 1\n",
    "        self._state['test'] = 2"
   ]
  },
  {
   "cell_type": "code",
   "execution_count": null,
   "id": "63a0da03-4b87-4bb7-90d2-dba891eb19dd",
   "metadata": {},
   "outputs": [],
   "source": [
    "t = _T()"
   ]
  },
  {
   "cell_type": "code",
   "execution_count": null,
   "id": "b541886e-47d8-4360-86dd-5490fa9b7bc7",
   "metadata": {},
   "outputs": [
    {
     "data": {
      "text/plain": [
       "{'_state': {'test': 2}, 'a': 1}"
      ]
     },
     "execution_count": null,
     "metadata": {},
     "output_type": "execute_result"
    }
   ],
   "source": [
    "t.__dict__"
   ]
  },
  {
   "cell_type": "code",
   "execution_count": null,
   "id": "9beb4ca4-c13b-489a-af6f-cf0c0a4cf559",
   "metadata": {},
   "outputs": [],
   "source": [
    "from fastcore.meta import *"
   ]
  },
  {
   "cell_type": "code",
   "execution_count": null,
   "id": "d5b3ea25-6c49-4900-a6f9-f14c6bb3b42f",
   "metadata": {},
   "outputs": [],
   "source": [
    "@use_kwargs_dict(xx=2)\n",
    "def foo(a, b=1, **kwargs):\n",
    "    pass"
   ]
  },
  {
   "cell_type": "code",
   "execution_count": null,
   "id": "496b0a65-8fe9-4d5a-b3a4-47ee212f30ff",
   "metadata": {},
   "outputs": [],
   "source": [
    "import inspect"
   ]
  },
  {
   "cell_type": "code",
   "execution_count": null,
   "id": "b75336ee-a85e-4a7f-9497-d4dcbeb7f92c",
   "metadata": {},
   "outputs": [
    {
     "data": {
      "text/plain": [
       "<Signature (a, b=1, *, xx=2)>"
      ]
     },
     "execution_count": null,
     "metadata": {},
     "output_type": "execute_result"
    }
   ],
   "source": [
    "inspect.signature(foo)"
   ]
  },
  {
   "cell_type": "markdown",
   "id": "5190c410-c05d-4b2d-9ad7-080ff7cc98d6",
   "metadata": {},
   "source": [
    "### Git"
   ]
  },
  {
   "cell_type": "code",
   "execution_count": null,
   "id": "7d5039ee-05d6-470f-985a-aaf2140ccafd",
   "metadata": {},
   "outputs": [],
   "source": [
    "git branch -a"
   ]
  },
  {
   "cell_type": "code",
   "execution_count": null,
   "id": "cfdf15f8-2acc-4cbe-88b2-843a4ff7a3df",
   "metadata": {},
   "outputs": [],
   "source": [
    "git  remote origin URL"
   ]
  },
  {
   "cell_type": "code",
   "execution_count": null,
   "id": "5c5b8c55-a8f6-464c-969b-4684551b3603",
   "metadata": {},
   "outputs": [],
   "source": [
    "git merge name"
   ]
  },
  {
   "cell_type": "markdown",
   "id": "362d0bf7-058d-41cf-a775-b4eb0bde0091",
   "metadata": {},
   "source": [
    "### Pytest"
   ]
  },
  {
   "cell_type": "code",
   "execution_count": null,
   "id": "f9e773c3-942a-4dbc-8cb4-51b648833cec",
   "metadata": {},
   "outputs": [],
   "source": [
    "import pytest"
   ]
  },
  {
   "cell_type": "code",
   "execution_count": null,
   "id": "81ba5255-e77d-4051-b250-a8a525bbe2d0",
   "metadata": {},
   "outputs": [],
   "source": [
    "import unittest"
   ]
  },
  {
   "cell_type": "code",
   "execution_count": null,
   "id": "4934cb54-4d30-42a2-931e-90f7c59c1eef",
   "metadata": {},
   "outputs": [],
   "source": [
    "class TestFeature(unittest.TestCase):\n",
    "    \n",
    "    @pytest.mark.xfail\n",
    "    def test_eq(self):\n",
    "        self.assertEqual(a, b)"
   ]
  },
  {
   "cell_type": "code",
   "execution_count": null,
   "id": "189c317b-5928-45cc-9ca8-349e7668e50d",
   "metadata": {},
   "outputs": [],
   "source": [
    "@pytest.parame"
   ]
  },
  {
   "cell_type": "markdown",
   "id": "c969d263-1fa9-4e82-b257-68d72d33f6d3",
   "metadata": {},
   "source": [
    "### Python"
   ]
  },
  {
   "cell_type": "code",
   "execution_count": null,
   "id": "a1c89e05-2ade-489c-ac35-e5efe1aaf3d0",
   "metadata": {},
   "outputs": [],
   "source": [
    "with open('test.txt') as f:\n",
    "    f.write(\"the end...\")"
   ]
  },
  {
   "cell_type": "code",
   "execution_count": null,
   "id": "eed71a29-a99f-463a-a109-6a3b787391d4",
   "metadata": {},
   "outputs": [],
   "source": [
    "from typing import Callable"
   ]
  },
  {
   "cell_type": "code",
   "execution_count": null,
   "id": "5cd498cb-c929-4fbb-aa47-7f166e7f84c8",
   "metadata": {},
   "outputs": [],
   "source": [
    "def foo() -> Callable[[int, int], int]:\n",
    "    def add(x: int, y: int) -> int:\n",
    "        return x + y\n",
    "    \n",
    "    return add"
   ]
  },
  {
   "cell_type": "code",
   "execution_count": null,
   "id": "9b932bdb-a246-4b0f-b994-cfbb55937fe7",
   "metadata": {},
   "outputs": [],
   "source": [
    "x: set[str, ...] = {\"a\"}"
   ]
  }
 ],
 "metadata": {
  "kernelspec": {
   "display_name": "Python 3 (ipykernel)",
   "language": "python",
   "name": "python3"
  }
 },
 "nbformat": 4,
 "nbformat_minor": 5
}
