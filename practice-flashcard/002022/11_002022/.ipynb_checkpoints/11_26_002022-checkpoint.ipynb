{
 "cells": [
  {
   "cell_type": "code",
   "execution_count": null,
   "id": "5b2e9254-d773-42f4-9cac-867fb768b791",
   "metadata": {},
   "outputs": [
    {
     "name": "stderr",
     "output_type": "stream",
     "text": [
      "/opt/homebrew/lib/python3.10/site-packages/tqdm/auto.py:22: TqdmWarning: IProgress not found. Please update jupyter and ipywidgets. See https://ipywidgets.readthedocs.io/en/stable/user_install.html\n",
      "  from .autonotebook import tqdm as notebook_tqdm\n"
     ]
    }
   ],
   "source": [
    "import torch"
   ]
  },
  {
   "cell_type": "code",
   "execution_count": null,
   "id": "25680620-03f4-414f-96d9-916a80f3b13c",
   "metadata": {},
   "outputs": [],
   "source": [
    "def func(layer, inp, out):\n",
    "    add_log(layer, out)"
   ]
  },
  {
   "cell_type": "code",
   "execution_count": null,
   "id": "15fbb65a-9276-4b44-98d8-b39791372e22",
   "metadata": {},
   "outputs": [],
   "source": [
    "def add_hook(model):\n",
    "    for layer in model.modules:\n",
    "        layer.register_forward_hook(func)"
   ]
  },
  {
   "cell_type": "code",
   "execution_count": null,
   "id": "4367a414-fe02-4a60-b3c1-06b09e1fedcc",
   "metadata": {},
   "outputs": [],
   "source": [
    "import pytorch_lightning as pl"
   ]
  },
  {
   "cell_type": "code",
   "execution_count": null,
   "id": "a9c94922-ef1f-4d06-b16f-057bd0f6de49",
   "metadata": {},
   "outputs": [
    {
     "name": "stderr",
     "output_type": "stream",
     "text": [
      "GPU available: True (mps), used: False\n",
      "TPU available: False, using: 0 TPU cores\n",
      "IPU available: False, using: 0 IPUs\n",
      "HPU available: False, using: 0 HPUs\n",
      "/opt/homebrew/lib/python3.10/site-packages/pytorch_lightning/trainer/setup.py:200: UserWarning: MPS available but not used. Set `accelerator` and `devices` using `Trainer(accelerator='mps', devices=1)`.\n",
      "  rank_zero_warn(\n"
     ]
    }
   ],
   "source": [
    "trainer = pl.Trainer()"
   ]
  },
  {
   "cell_type": "code",
   "execution_count": null,
   "id": "64c8d42c-4999-4ae7-9a2e-d0ccbbe80bae",
   "metadata": {},
   "outputs": [],
   "source": [
    "trainer.fit(lit_model, train_dataloader)"
   ]
  },
  {
   "cell_type": "code",
   "execution_count": null,
   "id": "8424ba18-1b6b-4c93-81d8-1743f1678b45",
   "metadata": {},
   "outputs": [],
   "source": [
    "def frobenius_norm(x):\n",
    "    return (x*x).sum().sqrt()"
   ]
  },
  {
   "cell_type": "code",
   "execution_count": null,
   "id": "a96d5bba-c22d-4dad-a4c5-3c4794e6a3e3",
   "metadata": {},
   "outputs": [],
   "source": [
    "from torch import nn"
   ]
  },
  {
   "cell_type": "code",
   "execution_count": null,
   "id": "05e70f20-c03e-409b-9cc2-7249e4041884",
   "metadata": {},
   "outputs": [],
   "source": [
    "class Model:\n",
    "    def __init__(self, w1, b1, w2, b2):\n",
    "        self.layers = [\n",
    "            Lin(w1, b1),\n",
    "            Lin(w2, b2)\n",
    "        ]\n",
    "        \n",
    "        self.loss = Mse()\n",
    "    \n",
    "    def forward(self, x, y):\n",
    "        for l in self.layers:\n",
    "            x = l(x)\n",
    "        \n",
    "        return self.loss(x, y)"
   ]
  },
  {
   "cell_type": "code",
   "execution_count": null,
   "id": "f9bfd5e1-adef-4a99-83fc-c0007a59966d",
   "metadata": {},
   "outputs": [],
   "source": [
    "def correlation(x, y):\n",
    "    return covar(x, y) / (std(x) * std(y))"
   ]
  },
  {
   "cell_type": "code",
   "execution_count": null,
   "id": "0de4c39e-6a06-45e2-acd3-82f2dc220739",
   "metadata": {},
   "outputs": [],
   "source": [
    "def covariance(x, y):\n",
    "    return (x*y).mean() - x.mean() * y.mean()"
   ]
  },
  {
   "cell_type": "code",
   "execution_count": null,
   "id": "de9dea49-bece-4c13-9136-80c89dff8e9a",
   "metadata": {},
   "outputs": [],
   "source": [
    "class DataLoader:\n",
    "    def __init__(self, ds, bs):\n",
    "        self.ds = ds\n",
    "        self.bs = bs\n",
    "    \n",
    "    def __iter__(self):\n",
    "        for i in range(0, len(self.ds), self.bs):\n",
    "            yield self.ds[i:i+self.bs]"
   ]
  },
  {
   "cell_type": "code",
   "execution_count": null,
   "id": "5338aad6-5d98-45ea-a80c-4ec398a579d8",
   "metadata": {},
   "outputs": [],
   "source": [
    "def grandparent_splitter(file, valid_name, train_name):\n",
    "    pr_name = file.parent.parent.name\n",
    "    \n",
    "    return True if pr_name == valid_name else False if pr_name == train_name else None"
   ]
  },
  {
   "cell_type": "code",
   "execution_count": null,
   "id": "4bd52dfa-8906-4d55-82ee-ad006e273d80",
   "metadata": {},
   "outputs": [],
   "source": [
    "n, p, d, i"
   ]
  },
  {
   "cell_type": "code",
   "execution_count": null,
   "id": "2a3f56ad-4083-465d-a05e-b91073e0fd43",
   "metadata": {},
   "outputs": [],
   "source": [
    "class ConvNet2(nn.Module):\n",
    "    def __init__(self):\n",
    "        super().__init__()\n",
    "        self.model = nn.Sequential(\n",
    "            nn.Conv2d(\n",
    "                in_channels=3, out_channels=6, kernel_size=5\n",
    "            ),\n",
    "            nn.ReLU(),\n",
    "            nn.MaxPool2d(kernel_size=2),\n",
    "            nn.Conv2d(\n",
    "                in_channels=6, out_channels=16, kernel_size=5\n",
    "            ),\n",
    "            nn.ReLU(),\n",
    "            nn.MaxPool2d(kernel_size=2),\n",
    "            nn.Flatten(start_dim=1, end_dim=3),\n",
    "            nn.Linear(400, 120), nn.ReLU(),\n",
    "            nn.Linear(120, 84), nn.ReLU(),\n",
    "            nn.Linear(84, 10), nn.Softmax()\n",
    "        )\n",
    "    \n",
    "    def forward(self, x):\n",
    "        return self.model(x)"
   ]
  },
  {
   "cell_type": "code",
   "execution_count": null,
   "id": "80604c28-7ae2-4f19-864b-fa9d66d0b9ed",
   "metadata": {},
   "outputs": [],
   "source": [
    "model = ConvNet2()"
   ]
  },
  {
   "cell_type": "code",
   "execution_count": null,
   "id": "405a8370-0e45-424b-8c1f-b66116819f6e",
   "metadata": {},
   "outputs": [],
   "source": [
    "from torchsummary import summary"
   ]
  },
  {
   "cell_type": "code",
   "execution_count": null,
   "id": "3441e34f-0271-4e7b-ae58-3ef47643d674",
   "metadata": {},
   "outputs": [
    {
     "name": "stdout",
     "output_type": "stream",
     "text": [
      "----------------------------------------------------------------\n",
      "        Layer (type)               Output Shape         Param #\n",
      "================================================================\n",
      "            Conv2d-1            [-1, 6, 28, 28]             456\n",
      "              ReLU-2            [-1, 6, 28, 28]               0\n",
      "         MaxPool2d-3            [-1, 6, 14, 14]               0\n",
      "            Conv2d-4           [-1, 16, 10, 10]           2,416\n",
      "              ReLU-5           [-1, 16, 10, 10]               0\n",
      "         MaxPool2d-6             [-1, 16, 5, 5]               0\n",
      "           Flatten-7                  [-1, 400]               0\n",
      "            Linear-8                  [-1, 120]          48,120\n",
      "              ReLU-9                  [-1, 120]               0\n",
      "           Linear-10                   [-1, 84]          10,164\n",
      "             ReLU-11                   [-1, 84]               0\n",
      "           Linear-12                   [-1, 10]             850\n",
      "          Softmax-13                   [-1, 10]               0\n",
      "================================================================\n",
      "Total params: 62,006\n",
      "Trainable params: 62,006\n",
      "Non-trainable params: 0\n",
      "----------------------------------------------------------------\n",
      "Input size (MB): 0.01\n",
      "Forward/backward pass size (MB): 0.11\n",
      "Params size (MB): 0.24\n",
      "Estimated Total Size (MB): 0.36\n",
      "----------------------------------------------------------------\n"
     ]
    }
   ],
   "source": [
    "summary(model, (3, 32, 32))"
   ]
  },
  {
   "cell_type": "code",
   "execution_count": null,
   "id": "210dfe9e-82d5-4618-9aea-bd0011fc9e8c",
   "metadata": {},
   "outputs": [],
   "source": [
    "[9, 9, 5]\n",
    "[9, 9, 5]\n",
    "[8, 6, 9]"
   ]
  },
  {
   "cell_type": "code",
   "execution_count": null,
   "id": "eb69a0ee-51c2-4f33-baa1-d8548e6fc71f",
   "metadata": {},
   "outputs": [],
   "source": [
    "avg_pool = nn.AdaptiveAvgPool2d(output_size=(3,4))"
   ]
  },
  {
   "cell_type": "code",
   "execution_count": null,
   "id": "5510056c-d93e-4e61-9617-3887b2808fd6",
   "metadata": {},
   "outputs": [],
   "source": [
    "3-2+1 = 2 => 2x2, 2x2x2"
   ]
  },
  {
   "cell_type": "code",
   "execution_count": null,
   "id": "7cec4027-8080-4b19-b300-2a367cae0480",
   "metadata": {},
   "outputs": [],
   "source": [
    "import torch.nn.functional as F"
   ]
  },
  {
   "cell_type": "code",
   "execution_count": null,
   "id": "4369f39b-b423-4365-b517-fac1cdcdba44",
   "metadata": {},
   "outputs": [],
   "source": [
    "class ResidualBlock(nn.Module):\n",
    "    def __init__(self, in_channels, out_channels, stride, downsample):\n",
    "        super().__init__()\n",
    "        self.downsample = downsample\n",
    "        self.conv1 = nn.Conv2d(\n",
    "            in_channels, out_channels, kernel_size=3,\n",
    "            stride=stride, padding=1\n",
    "        )\n",
    "        self.bn1 = nn.BatchNorm2d(num_features=out_channels)\n",
    "        self.conv2 = nn.Conv2d(\n",
    "            in_channels=out_channels, out_channels=out_channels, kernel_size=3,\n",
    "            stride=stride, padding=1\n",
    "        )\n",
    "        self.bn2 = nn.BatchNorm2d(num_features=out_channels)\n",
    "    \n",
    "    def forward(self, x):\n",
    "        residual = x\n",
    "        out = F.relu(self.bn1(self.conv1(x)))\n",
    "        \n",
    "        out = self.bn2(self.conv2(out))\n",
    "        \n",
    "        if self.downsample:\n",
    "            residual = self.downsample(residual)\n",
    "        \n",
    "        out += residual\n",
    "        return F.relu(out)"
   ]
  },
  {
   "cell_type": "code",
   "execution_count": null,
   "id": "3d9d8d12-5a8a-4250-9170-1e8c72e119ce",
   "metadata": {},
   "outputs": [],
   "source": [
    "import torch"
   ]
  },
  {
   "cell_type": "code",
   "execution_count": null,
   "id": "738d14dd-5b52-4421-b585-8838ed8792c3",
   "metadata": {},
   "outputs": [],
   "source": [
    "def dropout(x, p):\n",
    "    assert 0 <= p <= 1\n",
    "    if p == 1:\n",
    "        return torch.zeros_like(x)\n",
    "    \n",
    "    mask = torch.randn_like(x) > p\n",
    "    return (mask * x) / (1 - p)"
   ]
  },
  {
   "cell_type": "code",
   "execution_count": null,
   "id": "f85c167f-a58e-4c53-88f5-dd16e5105fea",
   "metadata": {},
   "outputs": [
    {
     "ename": "NameError",
     "evalue": "name 'p' is not defined",
     "output_type": "error",
     "traceback": [
      "\u001b[0;31m---------------------------------------------------------------------------\u001b[0m",
      "\u001b[0;31mNameError\u001b[0m                                 Traceback (most recent call last)",
      "Cell \u001b[0;32mIn [52], line 1\u001b[0m\n\u001b[0;32m----> 1\u001b[0m dropout \u001b[38;5;241m=\u001b[39m nn\u001b[38;5;241m.\u001b[39mDropout(\u001b[43mp\u001b[49m)\n",
      "\u001b[0;31mNameError\u001b[0m: name 'p' is not defined"
     ]
    }
   ],
   "source": [
    "dropout = nn.Dropout(p)"
   ]
  },
  {
   "cell_type": "code",
   "execution_count": null,
   "id": "6fe4099e-aa1a-48f9-a9c0-9e610f9e3915",
   "metadata": {},
   "outputs": [],
   "source": [
    "def mean_squared_error(pred, targ):\n",
    "    error = 0.\n",
    "    \n",
    "    for i in range(len(targ)):\n",
    "        errror += (targ[i] - pred[i])**2\n",
    "    \n",
    "    return error / len(targ)"
   ]
  },
  {
   "cell_type": "code",
   "execution_count": null,
   "id": "a5684329-3704-45b9-93ab-99120f3254e3",
   "metadata": {},
   "outputs": [],
   "source": [
    "L1 > L2 > L3 > RAM"
   ]
  },
  {
   "cell_type": "markdown",
   "id": "b4c764f8-29a7-49db-a910-9e72898fb1a8",
   "metadata": {},
   "source": [
    "### bash"
   ]
  },
  {
   "cell_type": "markdown",
   "id": "90c7dd28-36e6-41c3-8573-42cc1583a5b0",
   "metadata": {},
   "source": [
    "### Python"
   ]
  },
  {
   "cell_type": "code",
   "execution_count": null,
   "id": "f13175cc-8b8b-40ca-9030-2826d064bddb",
   "metadata": {},
   "outputs": [],
   "source": [
    "class Vehicle:\n",
    "    def __init__(self):\n",
    "        self._color = None\n",
    "    \n",
    "    @property\n",
    "    def color(self):\n",
    "        return self._color\n",
    "    \n",
    "    @color.setter\n",
    "    def color(self, value):\n",
    "        self._color = value"
   ]
  },
  {
   "cell_type": "code",
   "execution_count": null,
   "id": "624cee5c-d2d7-4ea0-aaac-af18732ad18e",
   "metadata": {},
   "outputs": [],
   "source": [
    "name: actions\n",
    "\n",
    "on: [fork]\n",
    "\n",
    "jobs:\n",
    "    clone:\n",
    "        runs-on: ubuntu-latest\n",
    "        steps:\n",
    "            - name: checkout\n",
    "                uses: actions/checkout@v1"
   ]
  },
  {
   "cell_type": "markdown",
   "id": "4af9183a-9912-4583-8788-b0d5b43ea5de",
   "metadata": {},
   "source": [
    "### bash"
   ]
  },
  {
   "cell_type": "code",
   "execution_count": null,
   "id": "8232189b-5c20-4f2f-bb1a-7be80222eb17",
   "metadata": {},
   "outputs": [],
   "source": [
    "#!/bin/bash\n",
    "echo \"My name is $1\"\n",
    "echo \"My name is ${0}\"\n"
   ]
  },
  {
   "cell_type": "code",
   "execution_count": null,
   "id": "3fba89e0-e9ac-46f7-807b-0d9939ff190a",
   "metadata": {},
   "outputs": [],
   "source": [
    "-w- "
   ]
  },
  {
   "cell_type": "code",
   "execution_count": null,
   "id": "bad30473-bce7-4498-9868-bb9ced0a612d",
   "metadata": {},
   "outputs": [],
   "source": []
  }
 ],
 "metadata": {
  "kernelspec": {
   "display_name": "Python 3 (ipykernel)",
   "language": "python",
   "name": "python3"
  }
 },
 "nbformat": 4,
 "nbformat_minor": 5
}
