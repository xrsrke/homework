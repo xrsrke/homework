{
 "cells": [
  {
   "cell_type": "code",
   "execution_count": null,
   "id": "54ec498e-5cd8-4717-aa5d-96fe8f126d3e",
   "metadata": {},
   "outputs": [],
   "source": [
    "mutable struct Computer\n",
    "        os::String\n",
    "end"
   ]
  },
  {
   "cell_type": "code",
   "execution_count": null,
   "id": "439f3db8-90e5-4cad-8a2d-0f5f4144d538",
   "metadata": {},
   "outputs": [],
   "source": [
    "xs[2:]"
   ]
  },
  {
   "cell_type": "code",
   "execution_count": null,
   "id": "4cd57066-38aa-4774-b227-c5d582cbe448",
   "metadata": {},
   "outputs": [],
   "source": [
    "abstract type Vehicle end"
   ]
  },
  {
   "cell_type": "code",
   "execution_count": null,
   "id": "d4633075-14cd-4f28-b301-235025e3ed52",
   "metadata": {},
   "outputs": [],
   "source": [
    "struct Starship <: Vehicle\n",
    "    n_engines::Int\n",
    "end"
   ]
  },
  {
   "cell_type": "code",
   "execution_count": null,
   "id": "ea3d5092-55e0-4a13-aba8-b06ab06363b8",
   "metadata": {},
   "outputs": [],
   "source": [
    "struct Book\n",
    "    name::String\n",
    "end"
   ]
  },
  {
   "cell_type": "code",
   "execution_count": null,
   "id": "e0e76808-68a6-4291-b78f-410546417b9e",
   "metadata": {},
   "outputs": [
    {
     "data": {
      "text/plain": [
       "add (generic function with 1 method)"
      ]
     },
     "execution_count": null,
     "metadata": {},
     "output_type": "execute_result"
    }
   ],
   "source": [
    "function add(x::Int, y::Int)\n",
    "    return x + y\n",
    "end"
   ]
  },
  {
   "cell_type": "code",
   "execution_count": null,
   "id": "8c2ffda1-49d9-4f77-878c-a517deb0fa20",
   "metadata": {},
   "outputs": [
    {
     "data": {
      "text/plain": [
       "(one = \"falcon 1\", two = \"falcon 9\")"
      ]
     },
     "execution_count": null,
     "metadata": {},
     "output_type": "execute_result"
    }
   ],
   "source": [
    "rockets = (one = \"falcon 1\", two = \"falcon 9\")"
   ]
  },
  {
   "cell_type": "code",
   "execution_count": null,
   "id": "1120ad9e-382e-4a24-8426-34d5090d88dd",
   "metadata": {},
   "outputs": [
    {
     "data": {
      "text/plain": [
       "Inf"
      ]
     },
     "execution_count": null,
     "metadata": {},
     "output_type": "execute_result"
    }
   ],
   "source": [
    "try\n",
    "    1 / 0\n",
    "catch e\n",
    "    println(e)\n",
    "end"
   ]
  },
  {
   "cell_type": "code",
   "execution_count": null,
   "id": "45d08cda-3fc4-4319-ac2c-15f0188a01c8",
   "metadata": {},
   "outputs": [],
   "source": [
    "f(x) = g(x, 2, 3)"
   ]
  },
  {
   "cell_type": "code",
   "execution_count": null,
   "id": "472bbd71-338b-4970-8cca-4963b8ef6070",
   "metadata": {},
   "outputs": [],
   "source": []
  }
 ],
 "metadata": {
  "kernelspec": {
   "display_name": "Julia 1.8.2",
   "language": "julia",
   "name": "julia-1.8"
  }
 },
 "nbformat": 4,
 "nbformat_minor": 5
}
