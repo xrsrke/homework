{
 "cells": [
  {
   "cell_type": "code",
   "execution_count": null,
   "id": "3c5f9184-90fb-47f9-bbcd-745c0f39e980",
   "metadata": {},
   "outputs": [],
   "source": [
    "map(x -> x^2, xs)"
   ]
  },
  {
   "cell_type": "code",
   "execution_count": null,
   "id": "083d10eb-539f-4ebc-ba43-ef49e701e1f1",
   "metadata": {},
   "outputs": [],
   "source": [
    "xs[2:4] = [1, 2, 3]"
   ]
  },
  {
   "cell_type": "code",
   "execution_count": null,
   "id": "cedef9c3-fe09-4c10-a3a0-78a9b72368ef",
   "metadata": {},
   "outputs": [],
   "source": []
  }
 ],
 "metadata": {
  "kernelspec": {
   "display_name": "Julia 1.8.2",
   "language": "julia",
   "name": "julia-1.8"
  }
 },
 "nbformat": 4,
 "nbformat_minor": 5
}
