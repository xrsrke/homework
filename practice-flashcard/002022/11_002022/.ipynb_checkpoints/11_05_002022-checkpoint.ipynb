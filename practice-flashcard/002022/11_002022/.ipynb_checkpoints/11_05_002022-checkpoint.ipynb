{
 "cells": [
  {
   "cell_type": "markdown",
   "id": "55648910-72ad-4c8b-8c78-bb554765f599",
   "metadata": {},
   "source": [
    "### Deep Learning"
   ]
  },
  {
   "cell_type": "code",
   "execution_count": null,
   "id": "f1d4795e-a5e5-45de-b09e-66ff83211273",
   "metadata": {},
   "outputs": [],
   "source": [
    "configure_optimiziers"
   ]
  },
  {
   "cell_type": "code",
   "execution_count": 1,
   "id": "32b42a3c-5d0a-49ca-b586-70d646a770df",
   "metadata": {},
   "outputs": [],
   "source": [
    "import pytorch_lightning as pl"
   ]
  },
  {
   "cell_type": "code",
   "execution_count": 2,
   "id": "d0dc7f18-b9ad-493f-a870-7219f40d04b3",
   "metadata": {},
   "outputs": [],
   "source": [
    "import torch.nn as nn"
   ]
  },
  {
   "cell_type": "code",
   "execution_count": 3,
   "id": "4cbf6185-da22-4f6e-bd0e-21460590d7a2",
   "metadata": {},
   "outputs": [],
   "source": [
    "class LitResNet(pl.LightningModule):\n",
    "    def __init__(self):\n",
    "        self.model = _model1\n",
    "        self.loss = nn.CrossEntropyLoss()\n",
    "    \n",
    "    def training_step(self, batch, batch_idx):\n",
    "        x, y = batch\n",
    "        pred = self.model(x)\n",
    "        \n",
    "        loss = self.loss(pred, y)\n",
    "        \n",
    "        return loss"
   ]
  },
  {
   "cell_type": "code",
   "execution_count": 4,
   "id": "115d9902-dfbd-4c97-be7b-49ae2df60185",
   "metadata": {},
   "outputs": [
    {
     "name": "stderr",
     "output_type": "stream",
     "text": [
      "GPU available: False, used: False\n",
      "TPU available: False, using: 0 TPU cores\n",
      "IPU available: False, using: 0 IPUs\n",
      "HPU available: False, using: 0 HPUs\n"
     ]
    }
   ],
   "source": [
    "train = pl.Trainer()"
   ]
  },
  {
   "cell_type": "code",
   "execution_count": null,
   "id": "624acd95-4890-47c9-9bb2-72061ae14751",
   "metadata": {},
   "outputs": [],
   "source": [
    "train.fit(lit_model, train_loader)"
   ]
  },
  {
   "cell_type": "code",
   "execution_count": 5,
   "id": "405788d8-b6e1-4d30-9cb9-556d98f8c65d",
   "metadata": {},
   "outputs": [],
   "source": [
    "import torch.optim as optim"
   ]
  },
  {
   "cell_type": "code",
   "execution_count": 6,
   "id": "8aba2589-36ad-4d0c-b5fd-2a866919fe45",
   "metadata": {},
   "outputs": [],
   "source": [
    "class LitResNet(pl.LightningModule):\n",
    "    def __init__(self):\n",
    "        super().__init__()\n",
    "        self.model = _model1\n",
    "    \n",
    "    def configure_optimizers(self):\n",
    "        optimizier = optim.SGD(self.model.parameters(), lr=1e-2)\n",
    "        return optimizier"
   ]
  },
  {
   "cell_type": "code",
   "execution_count": null,
   "id": "b8837990-98a0-4455-8f51-921dccf69767",
   "metadata": {},
   "outputs": [],
   "source": [
    "resample, metric, algorithm"
   ]
  },
  {
   "cell_type": "code",
   "execution_count": null,
   "id": "521e8a3e-586a-48c2-9dde-687bff709234",
   "metadata": {},
   "outputs": [],
   "source": [
    "def _open_image(x):\n",
    "    x = (x * 255)"
   ]
  },
  {
   "cell_type": "code",
   "execution_count": null,
   "id": "06259b0a-dcb3-4496-94f1-2a5c7a09d25a",
   "metadata": {},
   "outputs": [],
   "source": [
    "def _scale_pixels(x):\n",
    "    x = (x/2 + 0.5).clamp(0, 1)\n",
    "    return xb"
   ]
  },
  {
   "cell_type": "code",
   "execution_count": null,
   "id": "b386040b-0e9a-41b3-9469-199c560e26b7",
   "metadata": {},
   "outputs": [],
   "source": [
    "def _to_numpy(x):\n",
    "    x = x.detach().cpu().numpy()\n",
    "    return x"
   ]
  },
  {
   "cell_type": "markdown",
   "id": "03f54e11-03f4-4a12-9692-cc49871475cd",
   "metadata": {},
   "source": [
    "### Python"
   ]
  },
  {
   "cell_type": "code",
   "execution_count": 7,
   "id": "d9daf453-88ee-4881-9736-c91f9f2be4d1",
   "metadata": {},
   "outputs": [],
   "source": [
    "from collections import Counter"
   ]
  },
  {
   "cell_type": "code",
   "execution_count": 8,
   "id": "8c2cbbd5-95b4-4320-ae45-d9e50a52fa64",
   "metadata": {},
   "outputs": [],
   "source": [
    "def create_author_count_mapping(cookbooks):\n",
    "    return Counter(book.author for book in cookbooks)"
   ]
  },
  {
   "cell_type": "code",
   "execution_count": 14,
   "id": "e0240517-416b-49e9-8c49-94664252e3ac",
   "metadata": {},
   "outputs": [],
   "source": [
    "colors = [\"red\"]"
   ]
  },
  {
   "cell_type": "code",
   "execution_count": 15,
   "id": "34e31e04-3810-464a-8db4-5d72a592c600",
   "metadata": {},
   "outputs": [
    {
     "name": "stdout",
     "output_type": "stream",
     "text": [
      "red\n"
     ]
    }
   ],
   "source": [
    "for color in colors:\n",
    "    print(color)"
   ]
  },
  {
   "cell_type": "code",
   "execution_count": 16,
   "id": "a2fc730e-9c66-40a7-985b-0a06e80d3df3",
   "metadata": {},
   "outputs": [],
   "source": [
    "class DataLoader:\n",
    "    def __init__(self, ds, bs):\n",
    "        self.ds = ds\n",
    "        self.bs = bs\n",
    "    \n",
    "    def __iter__(self):\n",
    "        for i in range(0, len(self.ds), self.bs):\n",
    "            yield self.ds[i:i+self.bs]"
   ]
  },
  {
   "cell_type": "code",
   "execution_count": 18,
   "id": "9a73108e-df64-4bee-afa7-eb84b3cc6c98",
   "metadata": {},
   "outputs": [],
   "source": [
    "import torch"
   ]
  },
  {
   "cell_type": "code",
   "execution_count": 20,
   "id": "4546c730-9d1f-46cd-a03f-4626abc61085",
   "metadata": {},
   "outputs": [
    {
     "data": {
      "text/plain": [
       "tensor([9, 8, 1, 3, 6, 0, 7, 4, 2, 5])"
      ]
     },
     "execution_count": 20,
     "metadata": {},
     "output_type": "execute_result"
    }
   ],
   "source": [
    "torch.randperm(10)"
   ]
  },
  {
   "cell_type": "code",
   "execution_count": 21,
   "id": "cf64649d-2365-41c4-9017-bffb4e0fc11a",
   "metadata": {},
   "outputs": [],
   "source": [
    "def mnist_resize(x):\n",
    "    return x.view(-1, 1, 28, 28)"
   ]
  },
  {
   "cell_type": "code",
   "execution_count": 22,
   "id": "88bfa747-aa44-4d2d-aec8-35aacc3fd1a4",
   "metadata": {},
   "outputs": [],
   "source": [
    "class Lambda(nn.Module):\n",
    "    def __init__(self, func):\n",
    "        self.func = func\n",
    "    \n",
    "    def forward(self, x):\n",
    "        return self.func(x)"
   ]
  },
  {
   "cell_type": "code",
   "execution_count": 23,
   "id": "5902e344-1ed9-47d9-8950-77b1199f65af",
   "metadata": {},
   "outputs": [],
   "source": [
    "def zero_weight(layer):\n",
    "    return layer.weight.data.zero_()"
   ]
  },
  {
   "cell_type": "code",
   "execution_count": 24,
   "id": "13ae61a0-b7a1-4d03-96e0-1d16d5e03fdb",
   "metadata": {},
   "outputs": [],
   "source": [
    "class _Model(nn.Module):\n",
    "    def __init__(self, layers):\n",
    "        super().__init__()\n",
    "        self.layes = nn.ModuleList(layers)\n",
    "        self.act_means = [[] for _ in self.layers]\n",
    "    \n",
    "    def forward(self, x):\n",
    "        for i, l in enumerate(self.layers):\n",
    "            x = l(x)\n",
    "            self.act_means[i].append(x.mean())\n",
    "        \n",
    "        return x"
   ]
  },
  {
   "cell_type": "code",
   "execution_count": 26,
   "id": "9bef1629-0ad3-425a-9b10-d78a6c37db6d",
   "metadata": {},
   "outputs": [],
   "source": [
    "def move_to_gpu(x):\n",
    "    device = torch.device('cuda', 0)\n",
    "    return x.to(device)"
   ]
  },
  {
   "cell_type": "code",
   "execution_count": 33,
   "id": "8b08d712-b12f-4d8c-8bb0-82f85dbec548",
   "metadata": {},
   "outputs": [],
   "source": [
    "class _Model(nn.Module):\n",
    "    def __init__(self):\n",
    "        super().__init__()\n",
    "        self.register_buffer('means', torch.ones(1, 2))"
   ]
  },
  {
   "cell_type": "code",
   "execution_count": 34,
   "id": "ddfe5ce6-1af5-47a4-b77f-96989c03bb4f",
   "metadata": {},
   "outputs": [],
   "source": [
    "_model = _Model()"
   ]
  },
  {
   "cell_type": "code",
   "execution_count": 36,
   "id": "cded6424-fbff-497f-9b6f-e4bffbcd3a7f",
   "metadata": {},
   "outputs": [],
   "source": [
    "class PrintStepCallback:\n",
    "    def before_calc(self, i):\n",
    "        print(f\"About to start i={i}\")\n",
    "        print(f\"Done step i={i}\")\n",
    "    \n",
    "    def after_calc(self, i): pass"
   ]
  },
  {
   "cell_type": "code",
   "execution_count": 37,
   "id": "bb5903a8-1c40-41d7-aaea-37e3b2417358",
   "metadata": {},
   "outputs": [],
   "source": [
    "def accuracy(pred, targ):\n",
    "    idx_preds = torch.argmax(pred, dim=-1)\n",
    "    return (idx_preds == targ).float().mean()"
   ]
  },
  {
   "cell_type": "code",
   "execution_count": 38,
   "id": "db105390-a4c0-49a1-bb0a-eaf93f8024c2",
   "metadata": {},
   "outputs": [],
   "source": [
    "def zero_grad(model):\n",
    "    for l in model.layers:\n",
    "        l.weight.grad.zero_()"
   ]
  },
  {
   "cell_type": "code",
   "execution_count": 39,
   "id": "16273c8f-155e-4c63-b98e-804c0e76bc5f",
   "metadata": {},
   "outputs": [],
   "source": [
    "class Dataset:\n",
    "    def __init__(self, x, y):\n",
    "        self.x = x\n",
    "        self.y = y\n",
    "    \n",
    "    def __getitem__(self, idx):\n",
    "        return self.x[idx], self.y[idx]"
   ]
  },
  {
   "cell_type": "code",
   "execution_count": 40,
   "id": "4fd480a6-bd2c-4e2a-84c3-8d7624279f65",
   "metadata": {},
   "outputs": [],
   "source": [
    "class SamplerDemo:\n",
    "    def __init__(self, ds, bs, shuffle):\n",
    "        self.n = len(ds)\n",
    "        self.bs = bs\n",
    "        self.shuffle = shuffle\n",
    "    \n",
    "    def __iter__(self):\n",
    "        idxs = torch.randperm(n) if shuffle else torch.arange(n)\n",
    "        \n",
    "        for i in range(0, n, self.bs):\n",
    "            yield idxs[i:i+self.bs]"
   ]
  },
  {
   "cell_type": "code",
   "execution_count": null,
   "id": "9e84f817-e506-48b4-a720-c05074a5da2f",
   "metadata": {},
   "outputs": [],
   "source": [
    "def validation_mode(model):\n",
    "    return model.eval()"
   ]
  },
  {
   "cell_type": "code",
   "execution_count": 41,
   "id": "92986308-f4b7-458a-be33-cd1187186ee2",
   "metadata": {},
   "outputs": [],
   "source": [
    "def create_text_embeddings(prompt, _empty_tokens):\n",
    "    prompt_tokens = _tokenizier(prompt)\n",
    "    prompt_embedding = _text_encoder(prompt_tokens)\n",
    "    empty_embedding = _text_encoder(_empty_tokens)\n",
    "    \n",
    "    return torch.cat([empty_embedding, prompt_embedding])"
   ]
  },
  {
   "cell_type": "code",
   "execution_count": null,
   "id": "6191e2c1-4f94-42ff-87f1-eb84b342b5f8",
   "metadata": {},
   "outputs": [],
   "source": [
    "def _to_numpy(x):\n",
    "    x = x.detach().cpu().numpy()\n",
    "    x = x.permute()"
   ]
  },
  {
   "cell_type": "code",
   "execution_count": 42,
   "id": "80eb69fb-714e-471e-9b34-c3eb2bfab1d3",
   "metadata": {},
   "outputs": [],
   "source": [
    "def open_image(x):\n",
    "    return (x*256).round()"
   ]
  },
  {
   "cell_type": "code",
   "execution_count": null,
   "id": "394eaf09-4efb-4b08-98d7-3d3c8182eb70",
   "metadata": {},
   "outputs": [],
   "source": [
    "empty => empty_tokens => clip's text encoder => empty_embedding"
   ]
  },
  {
   "cell_type": "code",
   "execution_count": null,
   "id": "f8ae0c64-684d-414e-90ad-379688b5601f",
   "metadata": {},
   "outputs": [],
   "source": [
    "height_latent = height // 8\n",
    "width_latent = width // 8"
   ]
  },
  {
   "cell_type": "code",
   "execution_count": null,
   "id": "4449e04c-54aa-411e-9446-d088870d9ad0",
   "metadata": {},
   "outputs": [],
   "source": [
    "noises = torch.randn(1, unet, height_latent, width_latent)"
   ]
  },
  {
   "cell_type": "code",
   "execution_count": null,
   "id": "a76af770-fd8f-4d07-a8fe-a819fc2369a9",
   "metadata": {},
   "outputs": [],
   "source": [
    "_actual_noises = noises * _init_sigma"
   ]
  },
  {
   "cell_type": "code",
   "execution_count": null,
   "id": "424eaaa2-b9bc-45e1-b31d-ebd819fa2676",
   "metadata": {},
   "outputs": [],
   "source": [
    "def split_parts(x, n):\n",
    "    return x.chunk(n)"
   ]
  },
  {
   "cell_type": "code",
   "execution_count": 50,
   "id": "b2d4f1dd-a7fd-4a4c-baef-49a310747897",
   "metadata": {},
   "outputs": [],
   "source": [
    "from torchvision import transforms as tfms"
   ]
  },
  {
   "cell_type": "code",
   "execution_count": 51,
   "id": "f9535ccb-0919-4cc1-9164-d65a81d43ac8",
   "metadata": {},
   "outputs": [],
   "source": [
    "def im2tensor(x):\n",
    "    return tfms.ToTensor()(x)"
   ]
  },
  {
   "cell_type": "code",
   "execution_count": 53,
   "id": "96dfac6e-7dc1-45d2-8324-cfdfa202e0de",
   "metadata": {},
   "outputs": [],
   "source": [
    "def relu(x):\n",
    "    for i, n in enumerate(x):\n",
    "        if n < 0: x[i] = 0\n",
    "    \n",
    "    return x"
   ]
  },
  {
   "cell_type": "code",
   "execution_count": 55,
   "id": "10d5bcfd-b80e-44c5-a90a-b0f910fb78d6",
   "metadata": {},
   "outputs": [
    {
     "data": {
      "text/plain": [
       "[0, 0, 0, 1, 2]"
      ]
     },
     "execution_count": 55,
     "metadata": {},
     "output_type": "execute_result"
    }
   ],
   "source": [
    "relu([-2, -1, 0, 1, 2])"
   ]
  },
  {
   "cell_type": "code",
   "execution_count": 56,
   "id": "8ee5998e-9ac7-4ba6-b827-a868b48a8391",
   "metadata": {},
   "outputs": [],
   "source": [
    "binary_cross_entropy = torch.nn.BCELoss()"
   ]
  },
  {
   "cell_type": "code",
   "execution_count": 57,
   "id": "aa5aad99-7b91-4fde-b6d4-57d65b09654d",
   "metadata": {},
   "outputs": [],
   "source": [
    "def move_to_gpu(x):\n",
    "    device = torch.device('cuda', 0)\n",
    "    return x.to(device)"
   ]
  },
  {
   "cell_type": "code",
   "execution_count": 58,
   "id": "70401ae3-cbf8-4cb7-b95b-d704d8b29dc8",
   "metadata": {},
   "outputs": [],
   "source": [
    "def embedding_matrix(n, n_latents):\n",
    "    return torch.randn(n, n_latents)"
   ]
  },
  {
   "cell_type": "code",
   "execution_count": null,
   "id": "d0fabca8-55f2-4ea7-bc3a-7b5e404cba00",
   "metadata": {},
   "outputs": [],
   "source": [
    "torch.where(dset.train[0][1] == 1)[0]"
   ]
  },
  {
   "cell_type": "code",
   "execution_count": 60,
   "id": "ba3f7391-9e0e-43c4-a022-b97c4e2d2506",
   "metadata": {},
   "outputs": [],
   "source": [
    "import torch.nn as nn"
   ]
  },
  {
   "cell_type": "code",
   "execution_count": null,
   "id": "ede321bb-510e-4073-ad88-cc7b0f0ed90e",
   "metadata": {},
   "outputs": [],
   "source": [
    "nn.Parameter"
   ]
  },
  {
   "cell_type": "code",
   "execution_count": 62,
   "id": "eb01cecf-b113-41bc-8afc-5d7f359fa5fe",
   "metadata": {},
   "outputs": [
    {
     "data": {
      "text/plain": [
       "Parameter containing:\n",
       "tensor([0.9100], requires_grad=True)"
      ]
     },
     "execution_count": 62,
     "metadata": {},
     "output_type": "execute_result"
    }
   ],
   "source": [
    "nn.Parameter(torch.randn(1))"
   ]
  },
  {
   "cell_type": "code",
   "execution_count": null,
   "id": "b2031f65-167a-40c6-b6d8-2fbc0ff13e06",
   "metadata": {},
   "outputs": [],
   "source": [
    "with torch.no_grad(): # code"
   ]
  },
  {
   "cell_type": "code",
   "execution_count": null,
   "id": "78bbfab6-9851-4f12-9554-17cc91ad1922",
   "metadata": {},
   "outputs": [],
   "source": [
    "l1.bias.data.zero_()"
   ]
  },
  {
   "cell_type": "code",
   "execution_count": null,
   "id": "4f3a6bfe-23f8-4212-bcd9-6100a62f2706",
   "metadata": {},
   "outputs": [],
   "source": [
    "l1.bias.grad.zero_()"
   ]
  },
  {
   "cell_type": "markdown",
   "id": "379b11e6-c7d2-4671-b297-efadbae9b1b8",
   "metadata": {},
   "source": [
    "### bash"
   ]
  },
  {
   "cell_type": "code",
   "execution_count": null,
   "id": "e1e65d67-887a-429d-b234-5e3027d27982",
   "metadata": {},
   "outputs": [],
   "source": [
    "#!/bin/bash\n",
    "\n",
    "if [[X == Y]]; then\n",
    "    # code\n",
    "elif [[X == Z]]; then\n",
    "    # code\n",
    "else\n",
    "    # code"
   ]
  },
  {
   "cell_type": "code",
   "execution_count": null,
   "id": "a4a413e5-cce4-410c-84a0-7a2de4dee8b6",
   "metadata": {},
   "outputs": [],
   "source": [
    "${id:3}"
   ]
  },
  {
   "cell_type": "code",
   "execution_count": null,
   "id": "6925c848-0167-4de9-89e8-306bdb9b5547",
   "metadata": {},
   "outputs": [],
   "source": [
    "echo \"scale=2;5/2\" | bc"
   ]
  },
  {
   "cell_type": "code",
   "execution_count": null,
   "id": "234f772e-6f6a-401a-8884-f3eedce116b8",
   "metadata": {},
   "outputs": [],
   "source": [
    "echo \"5/2\" | bc"
   ]
  },
  {
   "cell_type": "code",
   "execution_count": null,
   "id": "31b9591e-df91-49e9-887a-45a59651adad",
   "metadata": {},
   "outputs": [],
   "source": [
    "#!/bin/bash\n",
    "\n",
    "echo \"My name is $1\"\n",
    "echo \"I work at $2\""
   ]
  },
  {
   "cell_type": "code",
   "execution_count": null,
   "id": "68170014-7a0b-4d6e-9598-1210c9fc2716",
   "metadata": {},
   "outputs": [],
   "source": [
    "find ./projects -name src -type d"
   ]
  },
  {
   "cell_type": "markdown",
   "id": "1279af11-79b2-458c-85f0-941da5557161",
   "metadata": {},
   "source": [
    "### Python"
   ]
  },
  {
   "cell_type": "code",
   "execution_count": 63,
   "id": "5193f63f-104c-4dfd-ba72-5be0e203fdb8",
   "metadata": {},
   "outputs": [],
   "source": [
    "def create_author_count_mapping(cookbooks):\n",
    "    return Counter(book.author for book in cookbooks)"
   ]
  },
  {
   "cell_type": "markdown",
   "id": "da363140-ea65-4756-8be0-65d3c63a1e8f",
   "metadata": {},
   "source": [
    "### Docker"
   ]
  },
  {
   "cell_type": "code",
   "execution_count": null,
   "id": "6350ad77-84d5-457e-a33e-1a8abb2ea61a",
   "metadata": {},
   "outputs": [],
   "source": [
    "docker-compose -f mongo-yaml up"
   ]
  },
  {
   "cell_type": "code",
   "execution_count": null,
   "id": "cace83af-e786-4fea-a0ef-cb3a2558659e",
   "metadata": {},
   "outputs": [],
   "source": [
    "COPY ./app /home/app"
   ]
  },
  {
   "cell_type": "code",
   "execution_count": null,
   "id": "8c28c635-24a0-45e6-82f5-7f86d6e3534a",
   "metadata": {},
   "outputs": [],
   "source": [
    "docker start 31b"
   ]
  },
  {
   "cell_type": "code",
   "execution_count": null,
   "id": "87deedf5-96dc-42b0-9fb3-d34b1cfe8aa2",
   "metadata": {},
   "outputs": [],
   "source": [
    "docker network create mongo-network"
   ]
  },
  {
   "cell_type": "code",
   "execution_count": null,
   "id": "b23abf65-72e4-4861-af4d-5e1f3cda677b",
   "metadata": {},
   "outputs": [],
   "source": [
    "docker exec -it 12a /bin/bash"
   ]
  },
  {
   "cell_type": "code",
   "execution_count": null,
   "id": "648bab1c-045e-4ec8-8455-628449583216",
   "metadata": {},
   "outputs": [],
   "source": [
    "deep_learning: |\n",
    "            ab\n",
    "            c"
   ]
  },
  {
   "cell_type": "markdown",
   "id": "0a4d9b3b-4f1a-4162-a020-be981f392b2d",
   "metadata": {},
   "source": [
    "### Design Patterns"
   ]
  },
  {
   "cell_type": "code",
   "execution_count": 64,
   "id": "f35e0d4a-5a42-4c74-bf3e-5560ed047ed9",
   "metadata": {},
   "outputs": [
    {
     "ename": "NameError",
     "evalue": "name 'ABC' is not defined",
     "output_type": "error",
     "traceback": [
      "\u001b[0;31m---------------------------------------------------------------------------\u001b[0m",
      "\u001b[0;31mNameError\u001b[0m                                 Traceback (most recent call last)",
      "Input \u001b[0;32mIn [64]\u001b[0m, in \u001b[0;36m<cell line: 1>\u001b[0;34m()\u001b[0m\n\u001b[0;32m----> 1\u001b[0m \u001b[38;5;28;01mclass\u001b[39;00m \u001b[38;5;21;01mBankAccountDepositeCommand\u001b[39;00m(\u001b[43mABC\u001b[49m):\n\u001b[1;32m      2\u001b[0m     \u001b[38;5;28;01mdef\u001b[39;00m \u001b[38;5;21m__init__\u001b[39m(\u001b[38;5;28mself\u001b[39m, ba, amount):\n\u001b[1;32m      3\u001b[0m         \u001b[38;5;28mself\u001b[39m\u001b[38;5;241m.\u001b[39mba \u001b[38;5;241m=\u001b[39m ba\n",
      "\u001b[0;31mNameError\u001b[0m: name 'ABC' is not defined"
     ]
    }
   ],
   "source": [
    "class BankAccountDepositeCommand(Command):\n",
    "    def __init__(self, ba, amount):\n",
    "        self.ba = ba\n",
    "        self.amount = amount\n",
    "    \n",
    "    def invoke(self):\n",
    "        return self.ba.deposite(self.amount)\n",
    "    \n",
    "    def undo(self):\n",
    "        return self.ba.withdraw(self.amount)"
   ]
  },
  {
   "cell_type": "code",
   "execution_count": 65,
   "id": "bf5fd428-fcb2-4990-bce7-17672a3ea3a8",
   "metadata": {},
   "outputs": [],
   "source": [
    "class ControlTower:\n",
    "    def __init__(self, aircraft, army):\n",
    "        self.aircraft = aircraft\n",
    "        self.army = army\n",
    "    \n",
    "    def get_coordinate_from_aircraft(self):\n",
    "        return self.aircraft.coordinate()"
   ]
  },
  {
   "cell_type": "markdown",
   "id": "fc33ee8d-a489-4642-9970-15a30d3e1ffe",
   "metadata": {},
   "source": [
    "### Grammar"
   ]
  },
  {
   "cell_type": "code",
   "execution_count": null,
   "id": "68c8bb85-a555-43b2-8d2d-294c613fc3b4",
   "metadata": {},
   "outputs": [],
   "source": [
    "Have/has + s + v-past participle"
   ]
  },
  {
   "cell_type": "code",
   "execution_count": null,
   "id": "acdd4eb2-b9b4-4b81-ad8e-86ee3a33ae62",
   "metadata": {},
   "outputs": [],
   "source": [
    "print(\"Hello {0}\".format(name))"
   ]
  },
  {
   "cell_type": "code",
   "execution_count": null,
   "id": "fe21cecc-5c08-464e-92b2-f50b282cbca7",
   "metadata": {},
   "outputs": [],
   "source": [
    "SELECT * FROM datasets WHERE prompt ILIKE \"h%\""
   ]
  }
 ],
 "metadata": {
  "kernelspec": {
   "display_name": "Python 3 (ipykernel)",
   "language": "python",
   "name": "python3"
  },
  "language_info": {
   "codemirror_mode": {
    "name": "ipython",
    "version": 3
   },
   "file_extension": ".py",
   "mimetype": "text/x-python",
   "name": "python",
   "nbconvert_exporter": "python",
   "pygments_lexer": "ipython3",
   "version": "3.9.12"
  }
 },
 "nbformat": 4,
 "nbformat_minor": 5
}
