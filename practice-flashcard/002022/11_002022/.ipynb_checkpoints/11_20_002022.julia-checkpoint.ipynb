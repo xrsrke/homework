{
 "cells": [
  {
   "cell_type": "code",
   "execution_count": null,
   "id": "02d47f85-6ab3-4e63-818f-130dbb6a507a",
   "metadata": {},
   "outputs": [
    {
     "data": {
      "text/plain": [
       "add (generic function with 1 method)"
      ]
     },
     "execution_count": null,
     "metadata": {},
     "output_type": "execute_result"
    }
   ],
   "source": [
    "function add(x::Int, y::Int)\n",
    "    return x + y\n",
    "end"
   ]
  },
  {
   "cell_type": "code",
   "execution_count": null,
   "id": "7d158e9e-8248-4bb0-b208-f868ef5f19d0",
   "metadata": {},
   "outputs": [
    {
     "data": {
      "text/plain": [
       "7"
      ]
     },
     "execution_count": null,
     "metadata": {},
     "output_type": "execute_result"
    }
   ],
   "source": [
    "add(3, 4)"
   ]
  },
  {
   "cell_type": "code",
   "execution_count": null,
   "id": "faaef99b-54cd-47ed-99e2-ae93ea64703f",
   "metadata": {},
   "outputs": [
    {
     "data": {
      "text/plain": [
       "Inf"
      ]
     },
     "execution_count": null,
     "metadata": {},
     "output_type": "execute_result"
    }
   ],
   "source": [
    "try\n",
    "    1 / 0\n",
    "catch e\n",
    "    println(e)\n",
    "end"
   ]
  },
  {
   "cell_type": "code",
   "execution_count": null,
   "id": "86e2f53c-6066-4bff-a2bc-b6a30c3c591d",
   "metadata": {},
   "outputs": [],
   "source": [
    "f(x) = g(x, 2, 3)"
   ]
  },
  {
   "cell_type": "code",
   "execution_count": null,
   "id": "1444d321-4a94-4e66-9dd1-c43f8333088a",
   "metadata": {},
   "outputs": [],
   "source": [
    "struct Starship <: Vehicle\n",
    "    n_eninges::Int\n",
    "end"
   ]
  },
  {
   "cell_type": "code",
   "execution_count": null,
   "id": "cf8b7ba7-d1af-41d1-9942-30a299259aa7",
   "metadata": {},
   "outputs": [],
   "source": [
    "xs[2, :]"
   ]
  },
  {
   "cell_type": "code",
   "execution_count": null,
   "id": "650acce6-86f2-4c8d-afcb-f9fe5faaa4b6",
   "metadata": {},
   "outputs": [],
   "source": [
    "xs[2:end]"
   ]
  },
  {
   "cell_type": "code",
   "execution_count": null,
   "id": "f1540f56-4064-461a-862b-a3ff8dbc2d4d",
   "metadata": {},
   "outputs": [],
   "source": [
    "xs[:, 1]"
   ]
  },
  {
   "cell_type": "code",
   "execution_count": null,
   "id": "17683fd0-bcf0-43b7-b0e1-2c8ba1cba436",
   "metadata": {},
   "outputs": [],
   "source": [
    "xs[1:3] = [1, 2, 3]"
   ]
  },
  {
   "cell_type": "code",
   "execution_count": null,
   "id": "dabe54fc-6784-497e-9eea-c49790287068",
   "metadata": {},
   "outputs": [
    {
     "data": {
      "text/plain": [
       "2×3 Matrix{Int64}:\n",
       " 1  2  3\n",
       " 4  5  6"
      ]
     },
     "execution_count": null,
     "metadata": {},
     "output_type": "execute_result"
    }
   ],
   "source": [
    "A = [1 2 3; 4 5 6]"
   ]
  },
  {
   "cell_type": "code",
   "execution_count": null,
   "id": "a76de0e5-3966-45bf-9f0a-f02655308be0",
   "metadata": {},
   "outputs": [],
   "source": [
    "a, b... = list"
   ]
  },
  {
   "cell_type": "code",
   "execution_count": null,
   "id": "561ffd10-e791-4744-9e84-01c4690d3937",
   "metadata": {},
   "outputs": [],
   "source": [
    "struct Bookx\n",
    "    name::String\n",
    "end"
   ]
  },
  {
   "cell_type": "code",
   "execution_count": null,
   "id": "cf4a2c90-dd66-4972-baac-fa9a1fc58307",
   "metadata": {},
   "outputs": [],
   "source": [
    "abstract type Vehicle end"
   ]
  },
  {
   "cell_type": "code",
   "execution_count": null,
   "id": "7f8bbaf2-118e-47b4-a6fd-0e558b84889d",
   "metadata": {},
   "outputs": [],
   "source": [
    "mutable struct Computer\n",
    "    os::String\n",
    "end"
   ]
  },
  {
   "cell_type": "code",
   "execution_count": null,
   "id": "f80fa45b-f18a-48f6-9396-1e2a10e199f7",
   "metadata": {},
   "outputs": [],
   "source": [
    "collect(xs)"
   ]
  },
  {
   "cell_type": "code",
   "execution_count": null,
   "id": "515cbbf1-c87b-4d56-8498-6b273a0e7a76",
   "metadata": {},
   "outputs": [
    {
     "data": {
      "text/plain": [
       "add (generic function with 3 methods)"
      ]
     },
     "execution_count": null,
     "metadata": {},
     "output_type": "execute_result"
    }
   ],
   "source": [
    "function add(x, y = 10)\n",
    "    return x + y\n",
    "end"
   ]
  },
  {
   "cell_type": "code",
   "execution_count": null,
   "id": "31019bad-32cc-4524-a0b2-1d006e9510c8",
   "metadata": {},
   "outputs": [],
   "source": [
    "rockets = ()"
   ]
  },
  {
   "cell_type": "code",
   "execution_count": null,
   "id": "99675aef-79c3-428d-81a3-0aebbabc04ae",
   "metadata": {},
   "outputs": [
    {
     "data": {
      "text/plain": [
       ":brain"
      ]
     },
     "execution_count": null,
     "metadata": {},
     "output_type": "execute_result"
    }
   ],
   "source": [
    "x = :brain"
   ]
  },
  {
   "cell_type": "code",
   "execution_count": null,
   "id": "97f08e4e-d06b-4228-97f1-6e001220045e",
   "metadata": {},
   "outputs": [],
   "source": [
    "map(x -> x^2, xs)"
   ]
  },
  {
   "cell_type": "code",
   "execution_count": null,
   "id": "eb3ad8b2-4bec-4408-98a0-e952cf23528b",
   "metadata": {},
   "outputs": [],
   "source": [
    "for x in xs\n",
    "    println(x)\n",
    "end"
   ]
  }
 ],
 "metadata": {
  "kernelspec": {
   "display_name": "Julia 1.8.2",
   "language": "julia",
   "name": "julia-1.8"
  }
 },
 "nbformat": 4,
 "nbformat_minor": 5
}
