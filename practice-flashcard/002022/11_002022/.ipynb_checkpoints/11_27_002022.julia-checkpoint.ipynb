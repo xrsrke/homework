{
 "cells": [
  {
   "cell_type": "code",
   "execution_count": null,
   "id": "aa44f777-c334-4d98-bde1-351df58eeeb2",
   "metadata": {},
   "outputs": [],
   "source": [
    "rockets[:two]"
   ]
  },
  {
   "cell_type": "code",
   "execution_count": null,
   "id": "473d81dc-cc4f-4772-a6c8-77cdc06e7af8",
   "metadata": {},
   "outputs": [
    {
     "data": {
      "text/plain": [
       "5"
      ]
     },
     "execution_count": null,
     "metadata": {},
     "output_type": "execute_result"
    }
   ],
   "source": [
    "const z = 5"
   ]
  },
  {
   "cell_type": "code",
   "execution_count": null,
   "id": "f2a260f1-98eb-4c97-85e8-cec88fa8d3df",
   "metadata": {},
   "outputs": [
    {
     "data": {
      "text/plain": [
       "is_string (generic function with 1 method)"
      ]
     },
     "execution_count": null,
     "metadata": {},
     "output_type": "execute_result"
    }
   ],
   "source": [
    "is_string(x::String) = true"
   ]
  },
  {
   "cell_type": "code",
   "execution_count": null,
   "id": "47be5da6-41cb-4ea4-8b03-1dc4592dbd3d",
   "metadata": {},
   "outputs": [
    {
     "data": {
      "text/plain": [
       "is_string (generic function with 2 methods)"
      ]
     },
     "execution_count": null,
     "metadata": {},
     "output_type": "execute_result"
    }
   ],
   "source": [
    "is_string(x) = false"
   ]
  },
  {
   "cell_type": "code",
   "execution_count": null,
   "id": "e63602bb-9f8b-4fe5-842b-7db6a256ee75",
   "metadata": {},
   "outputs": [
    {
     "data": {
      "text/plain": [
       "true"
      ]
     },
     "execution_count": null,
     "metadata": {},
     "output_type": "execute_result"
    }
   ],
   "source": [
    "is_string(\"x\")"
   ]
  },
  {
   "cell_type": "code",
   "execution_count": null,
   "id": "f358d160-96ef-404f-bc25-8bfc7077b2a9",
   "metadata": {},
   "outputs": [
    {
     "data": {
      "text/plain": [
       "true"
      ]
     },
     "execution_count": null,
     "metadata": {},
     "output_type": "execute_result"
    }
   ],
   "source": [
    "is_string(\"223x\")"
   ]
  },
  {
   "cell_type": "code",
   "execution_count": null,
   "id": "e27f1bec-09c4-4248-9158-1e1e6c80811a",
   "metadata": {},
   "outputs": [
    {
     "data": {
      "text/plain": [
       "false"
      ]
     },
     "execution_count": null,
     "metadata": {},
     "output_type": "execute_result"
    }
   ],
   "source": [
    "is_string(341)"
   ]
  },
  {
   "cell_type": "code",
   "execution_count": null,
   "id": "2ce4ff8d-2f69-44a9-beee-7272a425b374",
   "metadata": {},
   "outputs": [],
   "source": [
    "f(x) = g(x, 2, 3)"
   ]
  },
  {
   "cell_type": "code",
   "execution_count": null,
   "id": "3ca06218-0ad7-4d78-8299-fa1210db3eca",
   "metadata": {},
   "outputs": [],
   "source": [
    "f(x, y) = x + y"
   ]
  },
  {
   "cell_type": "code",
   "execution_count": null,
   "id": "6e467dd4-09b9-4e09-8f60-5b076f8b53d1",
   "metadata": {},
   "outputs": [],
   "source": [
    "map(add_one, p)"
   ]
  },
  {
   "cell_type": "code",
   "execution_count": null,
   "id": "d505ca83-a9c4-4f9d-9d86-931b92bde093",
   "metadata": {},
   "outputs": [],
   "source": [
    "premises is false, hidden premises, logic is false"
   ]
  },
  {
   "cell_type": "code",
   "execution_count": null,
   "id": "8244d2fe-8fba-4961-89f7-2c9a8bcfd0a8",
   "metadata": {},
   "outputs": [],
   "source": [
    "will subject have past"
   ]
  },
  {
   "cell_type": "code",
   "execution_count": null,
   "id": "e01cd360-eee7-4969-b7fc-5f8fe4bef666",
   "metadata": {},
   "outputs": [],
   "source": [
    "i have/has past"
   ]
  },
  {
   "cell_type": "code",
   "execution_count": null,
   "id": "e8528b06-3c06-4c4d-b8b1-f6300e1e04e7",
   "metadata": {},
   "outputs": [],
   "source": [
    "s have/has been v_ing"
   ]
  },
  {
   "cell_type": "code",
   "execution_count": null,
   "id": "91e8f362-6d3d-4810-9268-9681e3071a24",
   "metadata": {},
   "outputs": [],
   "source": [
    "will have past"
   ]
  },
  {
   "cell_type": "code",
   "execution_count": null,
   "id": "2d7215b3-a87c-40f9-bc1d-5d2696da1098",
   "metadata": {},
   "outputs": [],
   "source": [
    "will be v_ing"
   ]
  },
  {
   "cell_type": "code",
   "execution_count": null,
   "id": "795246e9-730d-4ee0-b845-7710e093f50c",
   "metadata": {},
   "outputs": [],
   "source": [
    "have/has s bene v_ing"
   ]
  }
 ],
 "metadata": {
  "kernelspec": {
   "display_name": "Julia 1.8.2",
   "language": "julia",
   "name": "julia-1.8"
  }
 },
 "nbformat": 4,
 "nbformat_minor": 5
}
