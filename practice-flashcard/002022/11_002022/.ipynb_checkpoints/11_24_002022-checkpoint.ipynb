{
 "cells": [
  {
   "cell_type": "markdown",
   "id": "21777b8d-ccf6-4dce-ac36-ad29cd540767",
   "metadata": {},
   "source": [
    "### Deep Learning"
   ]
  },
  {
   "cell_type": "code",
   "execution_count": null,
   "id": "a177bb83-d291-4120-b10c-951f0763c281",
   "metadata": {},
   "outputs": [],
   "source": [
    "5, 27, 27"
   ]
  },
  {
   "cell_type": "code",
   "execution_count": null,
   "id": "2e2cc44d-83b6-40d9-89a4-16e4009908b2",
   "metadata": {},
   "outputs": [
    {
     "name": "stderr",
     "output_type": "stream",
     "text": [
      "/opt/homebrew/lib/python3.10/site-packages/tqdm/auto.py:22: TqdmWarning: IProgress not found. Please update jupyter and ipywidgets. See https://ipywidgets.readthedocs.io/en/stable/user_install.html\n",
      "  from .autonotebook import tqdm as notebook_tqdm\n"
     ]
    }
   ],
   "source": [
    "import torch"
   ]
  },
  {
   "cell_type": "code",
   "execution_count": null,
   "id": "3a23742e-b3b5-4871-8d77-5c2733a1ee5b",
   "metadata": {},
   "outputs": [
    {
     "data": {
      "text/plain": [
       "tensor([[1., 0., 0.],\n",
       "        [0., 1., 0.],\n",
       "        [0., 0., 1.]])"
      ]
     },
     "execution_count": null,
     "metadata": {},
     "output_type": "execute_result"
    }
   ],
   "source": [
    "torch.eye(3)"
   ]
  },
  {
   "cell_type": "code",
   "execution_count": null,
   "id": "6ebacf8a-ded7-4efa-b5a6-021eba8872a9",
   "metadata": {},
   "outputs": [],
   "source": [
    "def sigmoid(x):\n",
    "    return 1 / 1 + -x.exp()"
   ]
  },
  {
   "cell_type": "code",
   "execution_count": null,
   "id": "6c166bcd-2aa4-4e1c-9b09-6fe3eedb61f1",
   "metadata": {},
   "outputs": [],
   "source": [
    "import torch.nn as nn"
   ]
  },
  {
   "cell_type": "code",
   "execution_count": null,
   "id": "af400b14-4ebd-47aa-a6de-3ba8dcff0355",
   "metadata": {},
   "outputs": [],
   "source": [
    "conv = nn.Conv2d(in_channels=3, out_channels=5, kernel_size=3)"
   ]
  },
  {
   "cell_type": "code",
   "execution_count": null,
   "id": "cdf3b226-6e50-4118-95e5-11197daf0c32",
   "metadata": {},
   "outputs": [],
   "source": [
    "6, 60, 60"
   ]
  },
  {
   "cell_type": "code",
   "execution_count": null,
   "id": "aab6382f-7bcc-4fa7-a2e1-afc4cf7a8790",
   "metadata": {},
   "outputs": [],
   "source": [
    "16, 26, 26"
   ]
  },
  {
   "cell_type": "code",
   "execution_count": null,
   "id": "bafd8ca8-49ac-426b-8faf-f521f067bb8a",
   "metadata": {},
   "outputs": [],
   "source": [
    "conv, pool, linear"
   ]
  },
  {
   "cell_type": "code",
   "execution_count": null,
   "id": "7271f41f-8335-4acf-8423-a587d4090e9a",
   "metadata": {},
   "outputs": [
    {
     "data": {
      "text/plain": [
       "torch.Size([50, 3, 64, 64])"
      ]
     },
     "execution_count": null,
     "metadata": {},
     "output_type": "execute_result"
    }
   ],
   "source": [
    "torch.rand(50, 3, 64, 64).shape"
   ]
  },
  {
   "cell_type": "code",
   "execution_count": null,
   "id": "6aabd007-4916-48c8-bfa1-35313144dba5",
   "metadata": {},
   "outputs": [],
   "source": [
    "class ConvNet2(nn.Module):\n",
    "    def __init__(self):\n",
    "        self.model = nn.Sequential(\n",
    "            nn.Conv2d(\n",
    "                in_channels=3,\n",
    "                out_channels=6,\n",
    "                kernel_size=5\n",
    "            ),\n",
    "            nn.ReLU(),\n",
    "            nn.MaxPool2d(kernel_size=2),\n",
    "            nn.Conv2d(\n",
    "                in_channels=6,\n",
    "                out_channels=16,\n",
    "                kernel_size=5\n",
    "            ),\n",
    "            nn.ReLU(),\n",
    "            nn.MaxPool2d(kernel_size=2),\n",
    "            # output: 16, \n",
    "            nn.Flatten(start_dim=1, end_dim=3),\n",
    "            nn.Linear(400, 120),\n",
    "            nn.ReLU(),\n",
    "            nn.Linear(120, 84),\n",
    "            nn.ReLU(),\n",
    "            nn.Linear(84, 10),\n",
    "            nn.Sigmoid()\n",
    "        )"
   ]
  },
  {
   "cell_type": "code",
   "execution_count": null,
   "id": "409c3f92-b63e-4a29-be2d-a821d30f25c7",
   "metadata": {},
   "outputs": [],
   "source": [
    "flatten = nn.Flatten(start_dim=2, end_dim=3)"
   ]
  },
  {
   "cell_type": "code",
   "execution_count": null,
   "id": "d3b61782-ec88-481e-8dba-12a86f05f205",
   "metadata": {},
   "outputs": [],
   "source": [
    "flatten = nn.Flatten(start_dim=1, end_dim=3)"
   ]
  },
  {
   "cell_type": "code",
   "execution_count": null,
   "id": "55f6553f-aefe-4519-8cd0-a3bcd133a259",
   "metadata": {},
   "outputs": [],
   "source": [
    "def sigmoid(x):\n",
    "    return 1 / (1 + -x.exp())"
   ]
  },
  {
   "cell_type": "code",
   "execution_count": null,
   "id": "61011980-af31-4737-bc7b-5455c740e55a",
   "metadata": {},
   "outputs": [],
   "source": [
    "output of second layer, + input of first layer"
   ]
  },
  {
   "cell_type": "code",
   "execution_count": null,
   "id": "17a84d30-185e-490b-8194-83b90a112080",
   "metadata": {},
   "outputs": [],
   "source": [
    "conv = nn.Conv2d(in_channels=3, out_channels=5, kernel_size=3, stride=1, padding=1)"
   ]
  },
  {
   "cell_type": "code",
   "execution_count": null,
   "id": "71dfd05e-ce9e-437e-b4ae-d058e0c3890f",
   "metadata": {},
   "outputs": [],
   "source": [
    "residual block, conv, pool, linear"
   ]
  },
  {
   "cell_type": "code",
   "execution_count": null,
   "id": "5f9f316d-5ab9-4775-ad19-86261b315f50",
   "metadata": {},
   "outputs": [],
   "source": [
    "import torch.nn.init as init"
   ]
  },
  {
   "cell_type": "code",
   "execution_count": null,
   "id": "e8c980bd-8e3b-4eb4-b5e2-b8ccc51b8c31",
   "metadata": {},
   "outputs": [],
   "source": [
    "init.kaiming_normal_(l1.weight, a=1)"
   ]
  },
  {
   "cell_type": "code",
   "execution_count": null,
   "id": "ecf2084d-90f1-4de6-aeb7-508cdbf80c9f",
   "metadata": {},
   "outputs": [],
   "source": [
    "def log_softmax(x):\n",
    "    return x - x.exp().sum().log()"
   ]
  },
  {
   "cell_type": "code",
   "execution_count": null,
   "id": "d9d47976-6090-4652-b442-08af06c44466",
   "metadata": {},
   "outputs": [],
   "source": [
    "def make_show_progress(message):\n",
    "    def inner(epoch):\n",
    "        print(f\"{message}! we've finished epoch {epoch}\")\n",
    "    \n",
    "    return inner"
   ]
  },
  {
   "cell_type": "code",
   "execution_count": null,
   "id": "f7261857-f474-4925-b5e4-1ac5073a7ca6",
   "metadata": {},
   "outputs": [],
   "source": [
    "def mae(x):\n",
    "    return "
   ]
  },
  {
   "cell_type": "code",
   "execution_count": null,
   "id": "a4043c58-83bb-44ac-b91e-a6f05e43a91e",
   "metadata": {},
   "outputs": [],
   "source": [
    "def loss(loss_real, loss_fake):\n",
    "    return (loss_real + loss_fake) / 2"
   ]
  },
  {
   "cell_type": "code",
   "execution_count": null,
   "id": "16acb33c-8ab0-469f-966b-ac3d814ccd0c",
   "metadata": {},
   "outputs": [],
   "source": [
    "def loss_of_fake(loss_func, evaluated):\n",
    "    return loss_func(evaluated, torch.zeros_like(evaluated))"
   ]
  },
  {
   "cell_type": "code",
   "execution_count": null,
   "id": "5dcd5351-049b-40e4-be23-648fade9a9fb",
   "metadata": {},
   "outputs": [],
   "source": [
    "bcache, batch, coccurency"
   ]
  },
  {
   "cell_type": "code",
   "execution_count": null,
   "id": "e0ec4902-44b9-4764-b7ea-44f11d32074e",
   "metadata": {},
   "outputs": [],
   "source": [
    "def mae(x):\n",
    "    return (x - x.mean()).abs().mean()"
   ]
  },
  {
   "cell_type": "markdown",
   "id": "fefe0ae4-1c7d-41bf-8c69-7729f13c5e7d",
   "metadata": {},
   "source": [
    "### Python"
   ]
  },
  {
   "cell_type": "code",
   "execution_count": null,
   "id": "3fe9321e-c6a5-4af0-8225-4c9b1f54d97f",
   "metadata": {},
   "outputs": [],
   "source": [
    "from typing import NewType"
   ]
  },
  {
   "cell_type": "code",
   "execution_count": null,
   "id": "1796da3e-abb0-42fb-93dc-afb6407b78d6",
   "metadata": {},
   "outputs": [],
   "source": [
    "class HotDog: pass"
   ]
  },
  {
   "cell_type": "code",
   "execution_count": null,
   "id": "4f97e65c-d246-48e8-9329-936b9e80788f",
   "metadata": {},
   "outputs": [],
   "source": [
    "ReadyToServeHotdog = NewType(\"ReadyToServeHotdog\", HotDog)"
   ]
  },
  {
   "cell_type": "code",
   "execution_count": null,
   "id": "dcd92de8-72b5-487b-9293-39c6089dabba",
   "metadata": {},
   "outputs": [],
   "source": [
    "fridigity, visc, inmobile"
   ]
  },
  {
   "cell_type": "code",
   "execution_count": null,
   "id": "5452fcf6-f321-495b-accf-28bc6d3fa89d",
   "metadata": {},
   "outputs": [],
   "source": [
    "from typing import Union, TypeVar"
   ]
  },
  {
   "cell_type": "code",
   "execution_count": null,
   "id": "f7201c66-3e46-40cb-a35c-ac6dc33e182c",
   "metadata": {},
   "outputs": [],
   "source": [
    "T = TypeVar(\"T\")"
   ]
  },
  {
   "cell_type": "code",
   "execution_count": null,
   "id": "da16a3ea-a3a3-4382-b8d4-720b62a5c5ac",
   "metadata": {},
   "outputs": [],
   "source": [
    "APIResponse = Union[T, APIError]"
   ]
  },
  {
   "cell_type": "code",
   "execution_count": null,
   "id": "583e27c6-efcf-4d19-b9dd-e30a63184f27",
   "metadata": {},
   "outputs": [],
   "source": [
    "class Database:\n",
    "    _instance = None\n",
    "    \n",
    "    def __new__(cls):\n",
    "        if not cls._instance:\n",
    "            cls._instance = super().__new(cls)\n",
    "        \n",
    "        return cls._instance"
   ]
  },
  {
   "cell_type": "code",
   "execution_count": null,
   "id": "f95248ae-41a0-4fa6-9247-0bfe585cbe3b",
   "metadata": {},
   "outputs": [],
   "source": [
    "from abc import ABC, abstractclassmethod"
   ]
  },
  {
   "cell_type": "code",
   "execution_count": null,
   "id": "26576ba0-ebcd-4ae0-a0de-b692ecd03bc3",
   "metadata": {},
   "outputs": [],
   "source": [
    "class Expense(ABC):\n",
    "    def __init__(self):\n",
    "        self.amount = amount\n",
    "    \n",
    "    @abstractclassmethod\n",
    "    def is_meal(self): pass"
   ]
  },
  {
   "cell_type": "code",
   "execution_count": null,
   "id": "80207219-9c03-476c-95b9-4abc8575a614",
   "metadata": {},
   "outputs": [],
   "source": [
    "class DinnerExpense(Expense):\n",
    "    def is_meal(self): return True"
   ]
  },
  {
   "cell_type": "code",
   "execution_count": null,
   "id": "6629013a-68ee-4a4a-b1d0-be37d00c9c81",
   "metadata": {},
   "outputs": [],
   "source": [
    "class CarRentalExpense(Expense):\n",
    "    def is_meal(self): return False"
   ]
  },
  {
   "cell_type": "code",
   "execution_count": null,
   "id": "c36c9fee-76d6-42af-a9b0-6f83c13e4a7d",
   "metadata": {},
   "outputs": [],
   "source": [
    "class BreakfastExpense(Expense):\n",
    "    def is_meal(self): return True"
   ]
  },
  {
   "cell_type": "code",
   "execution_count": null,
   "id": "6a6aea19-fa14-4927-b87b-93de537866a0",
   "metadata": {},
   "outputs": [],
   "source": [
    "class ExpensesReport:\n",
    "    def __init__(self, expenses):\n",
    "        self.expenses = expenses\n",
    "        self.total_expenses = 0\n",
    "        self.meal_expenses = 0\n",
    "    \n",
    "    def c(self):\n",
    "        for expense in self.expenses: pass\n",
    "    \n",
    "    def total_expense(self):\n",
    "        pass"
   ]
  },
  {
   "cell_type": "code",
   "execution_count": null,
   "id": "5ee45243-1409-4368-acc5-aeb9b3f9bbc2",
   "metadata": {},
   "outputs": [],
   "source": [
    "class ExpenseNamer:\n",
    "    def get_name(self, expense):\n",
    "        if isinstance(expense, DinnerExpense):\n",
    "            return \"Dinner\"\n",
    "        elif isinstance(expense, CarRentalExpense):\n",
    "            return \"Car Rental\"\n",
    "        elif isinstance(expense, BreakfastExpense):\n",
    "            return \"Breakfast\""
   ]
  },
  {
   "cell_type": "code",
   "execution_count": null,
   "id": "f139fc9c-b26a-4414-8863-78213fa10b0e",
   "metadata": {},
   "outputs": [],
   "source": []
  }
 ],
 "metadata": {
  "kernelspec": {
   "display_name": "Python 3 (ipykernel)",
   "language": "python",
   "name": "python3"
  }
 },
 "nbformat": 4,
 "nbformat_minor": 5
}
