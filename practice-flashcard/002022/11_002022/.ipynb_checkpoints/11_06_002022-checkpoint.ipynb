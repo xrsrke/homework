{
 "cells": [
  {
   "cell_type": "markdown",
   "id": "cae7a951-9dcb-4a1f-b6df-31bbc36dbcbb",
   "metadata": {},
   "source": [
    "### Deep Learning"
   ]
  },
  {
   "cell_type": "code",
   "execution_count": 1,
   "id": "c84ed1ed-51ea-4346-bf29-7517e8fe77a5",
   "metadata": {},
   "outputs": [],
   "source": [
    "import torch"
   ]
  },
  {
   "cell_type": "code",
   "execution_count": null,
   "id": "2a1e4f28-64b3-4235-954e-3307da5aceef",
   "metadata": {},
   "outputs": [],
   "source": [
    "torch.lerp(a, b, m)"
   ]
  },
  {
   "cell_type": "code",
   "execution_count": 2,
   "id": "c1f03f14-ac90-402b-b402-02e124ffba9d",
   "metadata": {},
   "outputs": [],
   "source": [
    "from fastai.vision.all import *"
   ]
  },
  {
   "cell_type": "code",
   "execution_count": 3,
   "id": "2b107300-8889-4e0a-bdfe-4135c6f53631",
   "metadata": {},
   "outputs": [],
   "source": [
    "dblock = DataBlock(get_x=lambda r: r['fname'],\n",
    "                   get_y=lambda r: r['labels'])"
   ]
  },
  {
   "cell_type": "code",
   "execution_count": 4,
   "id": "ff279213-274c-45f0-83ee-020a6d804893",
   "metadata": {},
   "outputs": [
    {
     "ename": "NameError",
     "evalue": "name 'df' is not defined",
     "output_type": "error",
     "traceback": [
      "\u001b[0;31m---------------------------------------------------------------------------\u001b[0m",
      "\u001b[0;31mNameError\u001b[0m                                 Traceback (most recent call last)",
      "Input \u001b[0;32mIn [4]\u001b[0m, in \u001b[0;36m<cell line: 1>\u001b[0;34m()\u001b[0m\n\u001b[0;32m----> 1\u001b[0m datasets \u001b[38;5;241m=\u001b[39m dblock\u001b[38;5;241m.\u001b[39mdatasets(\u001b[43mdf\u001b[49m)\n",
      "\u001b[0;31mNameError\u001b[0m: name 'df' is not defined"
     ]
    }
   ],
   "source": [
    "datasets = dblock.datasets(df)"
   ]
  },
  {
   "cell_type": "code",
   "execution_count": 5,
   "id": "3031b0fc-707d-4ed4-b629-bf49c20dbf92",
   "metadata": {},
   "outputs": [],
   "source": [
    "import torch.nn as nn"
   ]
  },
  {
   "cell_type": "code",
   "execution_count": 6,
   "id": "1d0611ae-5c7e-4582-8e45-fe97fa2dba76",
   "metadata": {},
   "outputs": [],
   "source": [
    "import torch.nn.functional as F"
   ]
  },
  {
   "cell_type": "code",
   "execution_count": null,
   "id": "3d8ce315-b756-4f23-b26f-01a5a5798bee",
   "metadata": {},
   "outputs": [],
   "source": [
    "class MultilayerRNN(nn.Module):\n",
    "    def __init__(self, vocab_sz, n_hidden, n_layers):\n",
    "        super().__init__()\n",
    "        self.i_h = nn.Embedding(vocab_sz, n_hidden)\n",
    "        self.rnn = nn.RNN(input_size=n_hidden,\n",
    "                          hidden_size=n_hidden,\n",
    "                          num_layers=n_layers)\n",
    "        self.h_o = nn.Linear(n_hidden, vocab_sz)\n",
    "        self.h = torch.zeros(n_layers, bs, n_hidden)\n",
    "    \n",
    "    def forward(self, x):\n",
    "        # for i in range(3):\n",
    "        #     self.h = self.h + F.relu(self.i_h(x[:, i]))\n",
    "        #     self.h = F.relu(self.h)\n",
    "        res, h = self.rnn(self.i_h(x), self.h)\n",
    "        self."
   ]
  },
  {
   "cell_type": "code",
   "execution_count": 7,
   "id": "e5f40690-e189-426a-b582-c0751ebf8b96",
   "metadata": {},
   "outputs": [],
   "source": [
    "def word_tokenizier(x):\n",
    "    return [o.strip() for o in x]"
   ]
  },
  {
   "cell_type": "code",
   "execution_count": 9,
   "id": "52804888-50c1-4ca9-97a0-9666be1da425",
   "metadata": {},
   "outputs": [],
   "source": [
    "def regularize_activation(loss, activation, alpha):\n",
    "    loss += loss + (alpha * activation.pow(2).mean())\n",
    "    return loss"
   ]
  },
  {
   "cell_type": "code",
   "execution_count": null,
   "id": "b8b9bbba-c499-4910-91de-885582fd23d9",
   "metadata": {},
   "outputs": [],
   "source": [
    "activations * a + b "
   ]
  },
  {
   "cell_type": "code",
   "execution_count": null,
   "id": "aabe2e70-4958-4d16-abee-fe56cbe23774",
   "metadata": {},
   "outputs": [],
   "source": [
    "Calculate the linear interpolation between new mean and old mnaen"
   ]
  },
  {
   "cell_type": "code",
   "execution_count": null,
   "id": "281e7fef-36b5-4b59-9f7b-794085b95a05",
   "metadata": {},
   "outputs": [],
   "source": [
    "Initialize a, b, "
   ]
  },
  {
   "cell_type": "code",
   "execution_count": null,
   "id": "1ea08e21-57f2-47c3-9870-e52d1f54be93",
   "metadata": {},
   "outputs": [],
   "source": []
  },
  {
   "cell_type": "code",
   "execution_count": null,
   "id": "2990ab50-a876-47c7-b6dc-355afc236888",
   "metadata": {},
   "outputs": [],
   "source": [
    "activation - mean / (variance + esp).sqrt"
   ]
  },
  {
   "cell_type": "code",
   "execution_count": 10,
   "id": "442387b9-faf5-4ccf-aca5-6eed38807487",
   "metadata": {},
   "outputs": [],
   "source": [
    "def _linear_interpolation(start, end, momentum):\n",
    "    return start * (1 - momentum) + end * momentum"
   ]
  },
  {
   "cell_type": "code",
   "execution_count": 11,
   "id": "3d47cefe-d7d5-4c20-b515-36d039b02407",
   "metadata": {},
   "outputs": [],
   "source": [
    "class _Model(nn.Module):\n",
    "    def __init__(self):\n",
    "        super().__init__()\n",
    "        self.register_buffer('means', _one_vectors)"
   ]
  },
  {
   "cell_type": "code",
   "execution_count": null,
   "id": "7d1524a7-71e0-45fb-904f-3dea95cc87b9",
   "metadata": {},
   "outputs": [],
   "source": [
    "- move to gpu, save with model"
   ]
  },
  {
   "cell_type": "code",
   "execution_count": 12,
   "id": "7075b512-3776-45f8-b59d-ab7029d076e2",
   "metadata": {},
   "outputs": [],
   "source": [
    "def move_to_gpu(x):\n",
    "    device = torch.device('cuda', 0)\n",
    "    return x.to(device)"
   ]
  },
  {
   "cell_type": "code",
   "execution_count": null,
   "id": "6d0a9b79-06e7-4acb-99d3-9dcc7c077006",
   "metadata": {},
   "outputs": [],
   "source": [
    "def mse(pred, targ):\n",
    "    return (pred.squeeze(-1) - targ).float().mean()"
   ]
  },
  {
   "cell_type": "code",
   "execution_count": 14,
   "id": "4021d476-855f-4d2f-a76d-965aea11b40f",
   "metadata": {},
   "outputs": [],
   "source": [
    "from torch.utils.data import DataLoader"
   ]
  },
  {
   "cell_type": "code",
   "execution_count": null,
   "id": "afdecb3f-2551-4aee-848b-40ed5355a598",
   "metadata": {},
   "outputs": [],
   "source": [
    "train_dl = DataLoader(train_ds, batch_size=64)"
   ]
  },
  {
   "cell_type": "code",
   "execution_count": 15,
   "id": "f565c651-0f7c-4154-aa88-462f3112e1af",
   "metadata": {},
   "outputs": [],
   "source": [
    "dblock = DataBlock(get_x=lambda r: r['fname'],\n",
    "                   get_y=lambda r: r['label'])"
   ]
  },
  {
   "cell_type": "code",
   "execution_count": null,
   "id": "3cb5a414-d314-499c-8b14-47910de8082f",
   "metadata": {},
   "outputs": [],
   "source": [
    "datasets = dblock.datasets(df)"
   ]
  },
  {
   "cell_type": "code",
   "execution_count": null,
   "id": "61afed87-5f06-497c-9828-46b5af77ed45",
   "metadata": {},
   "outputs": [],
   "source": [
    "empty prompt -> clip's text encoder -> embedding -> concat"
   ]
  },
  {
   "cell_type": "code",
   "execution_count": null,
   "id": "a3a646da-e691-4d6d-aebd-f247af3c7c72",
   "metadata": {},
   "outputs": [],
   "source": [
    "noise * sigma"
   ]
  },
  {
   "cell_type": "code",
   "execution_count": 16,
   "id": "c965dda7-4b8d-473a-b164-a88084a7142b",
   "metadata": {},
   "outputs": [],
   "source": [
    "def create_text_embedding(prompt, empty_tokens):\n",
    "    prompt_tokens = _tokenizier(prompt)\n",
    "    prompt_embedding = _text_encoder(prompt_tokens)\n",
    "    empty_embedding = _text_encoder(empty_tokens)\n",
    "    \n",
    "    return torch.cat([empty_embedding, prompt_embedding])"
   ]
  },
  {
   "cell_type": "code",
   "execution_count": 17,
   "id": "9e3085bc-6b6e-4c04-b9bc-e149b9111547",
   "metadata": {},
   "outputs": [],
   "source": [
    "def split_parts(x, n):\n",
    "    return torch.chunk(x, n)"
   ]
  },
  {
   "cell_type": "code",
   "execution_count": null,
   "id": "36cd3b39-5181-4980-afb7-c93e1a9a03e7",
   "metadata": {},
   "outputs": [],
   "source": [
    "class MultilayerRNN(nn.Module):\n",
    "    def __init__(self, vocab_sz, n_hidden, n_layers):\n",
    "        super().__init__()\n",
    "        self.i_h = nn.Embedding(vocab_sz, n_hidden)\n",
    "        self.rnn = nn.RNN(input_size=n_hidden,\n",
    "                          hidden_size=n_hidden,\n",
    "                          num_layers=n_layers)\n",
    "        self.h_o = nn.Linear(n_hidden, vocab_sz)\n",
    "        self.h = torch.zeros\n",
    "    \n",
    "    def forward(self, x):\n",
    "        self.h = self.rnn(sel)"
   ]
  },
  {
   "cell_type": "code",
   "execution_count": null,
   "id": "48807dda-9f09-4e02-befd-164247892a72",
   "metadata": {},
   "outputs": [],
   "source": [
    "def fill_bernoulli(x, p):\n",
    "    return x.bernoulli_(p)"
   ]
  },
  {
   "cell_type": "code",
   "execution_count": 18,
   "id": "28cb223e-bdd2-46db-bca5-688354da7eba",
   "metadata": {},
   "outputs": [],
   "source": [
    "def _scale_image(x):\n",
    "    x = (x/2 + 0.5).clamp_(0, 1)\n",
    "    return x"
   ]
  },
  {
   "cell_type": "code",
   "execution_count": 19,
   "id": "5694ffcf-4f98-4ba6-9cbc-538e1ad7a82a",
   "metadata": {},
   "outputs": [],
   "source": [
    "from PIL import Image"
   ]
  },
  {
   "cell_type": "code",
   "execution_count": null,
   "id": "ddba2d44-1ea6-4c85-8c80-cd67f35a0fc5",
   "metadata": {},
   "outputs": [],
   "source": [
    "def _open_image(x):\n",
    "    x = (x * 255).round\n",
    "    return Image.fromarray(x)"
   ]
  },
  {
   "cell_type": "code",
   "execution_count": null,
   "id": "6f65164a-24f7-4071-95b1-ae7387b2ad40",
   "metadata": {},
   "outputs": [],
   "source": []
  },
  {
   "cell_type": "code",
   "execution_count": null,
   "id": "db0147c7-f06e-4102-9ad1-47ff3e291d25",
   "metadata": {},
   "outputs": [],
   "source": [
    "import urllib.request import "
   ]
  },
  {
   "cell_type": "code",
   "execution_count": null,
   "id": "a31ab8d0-04f4-4573-aa3f-50e82001fac2",
   "metadata": {},
   "outputs": [],
   "source": [
    "def download_dset(url, path):\n",
    "    return retri"
   ]
  },
  {
   "cell_type": "code",
   "execution_count": null,
   "id": "516d9f75-e3e5-433e-8ea5-2078d150b560",
   "metadata": {},
   "outputs": [],
   "source": [
    "Activation - Mean / (Variance + c).sqrt()"
   ]
  },
  {
   "cell_type": "code",
   "execution_count": 20,
   "id": "5bea8479-e73c-440c-8c8d-8eef6f01ffd2",
   "metadata": {},
   "outputs": [],
   "source": [
    "def _linear_interpolation(start, end, momentum):\n",
    "    return start * (1 - momentum) + end * momentum"
   ]
  },
  {
   "cell_type": "code",
   "execution_count": null,
   "id": "dcb507d3-7813-4545-8213-dc45daca1927",
   "metadata": {},
   "outputs": [],
   "source": [
    "def mse(pred, targ):\n",
    "    return( pred.squeeze(-1) - targ).pow(2).mean()"
   ]
  },
  {
   "cell_type": "markdown",
   "id": "a270b134-4b4e-49eb-ac02-1379816f1531",
   "metadata": {},
   "source": [
    "### Python"
   ]
  },
  {
   "cell_type": "code",
   "execution_count": 21,
   "id": "15eb33a9-8c22-4ae1-a1ea-bbe2a97a14ee",
   "metadata": {},
   "outputs": [],
   "source": [
    "from collections import Counter"
   ]
  },
  {
   "cell_type": "code",
   "execution_count": null,
   "id": "0669e0e2-a7d8-4ee6-86d4-7542218f7b9f",
   "metadata": {},
   "outputs": [],
   "source": [
    "def create_author_count_mapping(cookbooks):\n",
    "    return Counter(book.author for book in cookbooks)"
   ]
  },
  {
   "cell_type": "code",
   "execution_count": 22,
   "id": "b71ae122-753f-47c6-b6e8-f7e89ccd5f9a",
   "metadata": {},
   "outputs": [],
   "source": [
    "class LazyBitmap:\n",
    "    def __init__(self, filname):\n",
    "        self.filename = filename\n",
    "        self.file = None\n",
    "    \n",
    "    def draw(self):\n",
    "        if not self.file:\n",
    "            self.file = Bitmap(self.filename)\n",
    "        \n",
    "        return self.file.draw()"
   ]
  },
  {
   "cell_type": "code",
   "execution_count": null,
   "id": "816519b5-4178-446d-8361-d89acbb38abc",
   "metadata": {},
   "outputs": [],
   "source": [
    "home='\\users\\xrs\\dta'b"
   ]
  },
  {
   "cell_type": "code",
   "execution_count": null,
   "id": "b93bf5d4-e6f7-4175-8f04-d35913373f2e",
   "metadata": {},
   "outputs": [],
   "source": [
    "home=\"\""
   ]
  },
  {
   "cell_type": "code",
   "execution_count": null,
   "id": "0cfcba32-052a-4685-ae79-e733e43ffd66",
   "metadata": {},
   "outputs": [],
   "source": [
    "#!/bin/bash\n",
    "\n",
    "conda activate tinypytorch\n",
    "python3 --version"
   ]
  },
  {
   "cell_type": "code",
   "execution_count": null,
   "id": "5efb829c-8b6a-4fc5-8b86-4cbfe205f3d2",
   "metadata": {},
   "outputs": [],
   "source": [
    "#!/bin/bash\n",
    "\n",
    "student=\"Shivon\""
   ]
  },
  {
   "cell_type": "code",
   "execution_count": null,
   "id": "52ef0d13-a8e2-43e9-9a4b-a89956a63331",
   "metadata": {},
   "outputs": [],
   "source": [
    "#!/bin/bash\n",
    "\n",
    "student=\"Shivon\"\n",
    "echo \"Hello ${student}\""
   ]
  },
  {
   "cell_type": "code",
   "execution_count": null,
   "id": "a964a334-ea7c-45fb-83df-e3e2a59e78aa",
   "metadata": {},
   "outputs": [],
   "source": [
    "var=$(date)"
   ]
  },
  {
   "cell_type": "code",
   "execution_count": null,
   "id": "73b2bb6a-8831-40b9-be6f-a68459482327",
   "metadata": {},
   "outputs": [],
   "source": [
    "pytest . --cov "
   ]
  },
  {
   "cell_type": "markdown",
   "id": "c7d46b36-1c60-48d9-b039-f36884924c31",
   "metadata": {},
   "source": [
    "### fastcore"
   ]
  },
  {
   "cell_type": "code",
   "execution_count": 23,
   "id": "2edbffc6-238e-403c-9d95-31d248144d2b",
   "metadata": {},
   "outputs": [],
   "source": [
    "from fastcore.basics import *"
   ]
  },
  {
   "cell_type": "code",
   "execution_count": 28,
   "id": "827ca908-fdd8-4e0c-aa8c-79941f5ab7f3",
   "metadata": {},
   "outputs": [],
   "source": [
    "class _T(Stateful):\n",
    "    def __init__(self):\n",
    "        super().__init__()\n",
    "        self.a = 1\n",
    "        self._state['test'] = 2"
   ]
  },
  {
   "cell_type": "code",
   "execution_count": 29,
   "id": "74637009-f021-4d61-bb8a-ec00290e8196",
   "metadata": {},
   "outputs": [],
   "source": [
    "t = _T()"
   ]
  },
  {
   "cell_type": "code",
   "execution_count": 30,
   "id": "87bd66d6-cdd0-42d6-95d9-a240208ebe34",
   "metadata": {},
   "outputs": [
    {
     "data": {
      "text/plain": [
       "{'_state': {'test': 2}, 'a': 1}"
      ]
     },
     "execution_count": 30,
     "metadata": {},
     "output_type": "execute_result"
    }
   ],
   "source": [
    "t.__dict__"
   ]
  },
  {
   "cell_type": "code",
   "execution_count": 31,
   "id": "4954cb70-c7d6-4a7f-a271-a731578c9f3d",
   "metadata": {},
   "outputs": [],
   "source": [
    "from fastcore.meta import *"
   ]
  },
  {
   "cell_type": "code",
   "execution_count": 34,
   "id": "ec4f3cd9-492f-40d8-b30e-a2e0e7c06535",
   "metadata": {},
   "outputs": [],
   "source": [
    "class Mechanics(metaclass=PrePostInitMeta):\n",
    "    def __pre_init__(self):\n",
    "        print('enter pre-init')\n",
    "    \n",
    "    def __init__(self):\n",
    "        print('enter init')\n",
    "    \n",
    "    def __post_init__(self):\n",
    "        print('enter post-init')"
   ]
  },
  {
   "cell_type": "code",
   "execution_count": 35,
   "id": "44461080-62a4-4a2f-9ad1-67e5c8d1d0d5",
   "metadata": {},
   "outputs": [
    {
     "name": "stdout",
     "output_type": "stream",
     "text": [
      "enter pre-init\n",
      "enter init\n",
      "enter post-init\n"
     ]
    },
    {
     "data": {
      "text/plain": [
       "<__main__.Mechanics at 0x7f99a5bf8160>"
      ]
     },
     "execution_count": 35,
     "metadata": {},
     "output_type": "execute_result"
    }
   ],
   "source": [
    "Mechanics()"
   ]
  },
  {
   "cell_type": "code",
   "execution_count": null,
   "id": "5f2f96f3-cf99-4326-9299-85490941b1ed",
   "metadata": {},
   "outputs": [],
   "source": [
    "@funcs_kwargs"
   ]
  },
  {
   "cell_type": "code",
   "execution_count": null,
   "id": "a5991639-b45b-4e8d-a288-d1e85fac8f1d",
   "metadata": {},
   "outputs": [],
   "source": [
    "@patch"
   ]
  },
  {
   "cell_type": "markdown",
   "id": "4c423a47-008f-4a79-9253-61525d44fd44",
   "metadata": {},
   "source": [
    "### Scipy"
   ]
  },
  {
   "cell_type": "code",
   "execution_count": 36,
   "id": "3bb188ca-5a4b-4174-85e3-c57145ba5c36",
   "metadata": {},
   "outputs": [],
   "source": [
    "import numpy as np"
   ]
  },
  {
   "cell_type": "code",
   "execution_count": 37,
   "id": "ecde2ca5-c60b-4d48-b377-0cf55f9a7845",
   "metadata": {},
   "outputs": [],
   "source": [
    "def f(x):\n",
    "    return x**2 * np.sin(2*x) - np.exp(-x)"
   ]
  },
  {
   "cell_type": "markdown",
   "id": "62838af9-389a-4edc-a521-1e15a1286b48",
   "metadata": {},
   "source": [
    "### Sympy"
   ]
  },
  {
   "cell_type": "code",
   "execution_count": 38,
   "id": "45c0f19f-f0f4-4274-9479-afc52f322ca8",
   "metadata": {},
   "outputs": [],
   "source": [
    "import sympy as smp"
   ]
  },
  {
   "cell_type": "code",
   "execution_count": 39,
   "id": "bca883e0-9978-48ad-bbb3-884e6d7fb01c",
   "metadata": {},
   "outputs": [],
   "source": [
    "alpha = smp.Symbol('alpha')"
   ]
  },
  {
   "cell_type": "code",
   "execution_count": 41,
   "id": "4c42731e-b598-440a-aaa9-c98118ce048e",
   "metadata": {},
   "outputs": [
    {
     "data": {
      "text/latex": [
       "$\\displaystyle \\alpha$"
      ],
      "text/plain": [
       "alpha"
      ]
     },
     "execution_count": 41,
     "metadata": {},
     "output_type": "execute_result"
    }
   ],
   "source": [
    "alpha"
   ]
  },
  {
   "cell_type": "code",
   "execution_count": null,
   "id": "3f72494c-59d3-4dba-802e-b39085512895",
   "metadata": {},
   "outputs": [],
   "source": [
    "expr_f = smp.lamdify([x, y], expr)"
   ]
  },
  {
   "cell_type": "markdown",
   "id": "0f83efff-df71-4863-873f-686503108ac1",
   "metadata": {},
   "source": [
    "### Python"
   ]
  },
  {
   "cell_type": "code",
   "execution_count": 42,
   "id": "461dc302-e0a8-4202-b5fa-0b4ad9e2628f",
   "metadata": {},
   "outputs": [],
   "source": [
    "from typing import Callable"
   ]
  },
  {
   "cell_type": "code",
   "execution_count": 44,
   "id": "519daaeb-671b-4c89-91ce-fe90794c6833",
   "metadata": {},
   "outputs": [],
   "source": [
    "def foo() -> Callable[[int, int], int]:\n",
    "    def add(x: int, y: int) -> int:\n",
    "        return x + y\n",
    "    \n",
    "    return add"
   ]
  },
  {
   "cell_type": "code",
   "execution_count": 45,
   "id": "967990fc-695c-44cc-ab55-48126f1e6622",
   "metadata": {},
   "outputs": [],
   "source": [
    "class Vehicle:\n",
    "    def __init__(self):\n",
    "        self._green = None\n",
    "    \n",
    "    @property\n",
    "    def green(self):\n",
    "        return self._green\n",
    "    \n",
    "    @green.setter\n",
    "    def green(self):\n",
    "        self._green = green"
   ]
  },
  {
   "cell_type": "code",
   "execution_count": 50,
   "id": "7efab8e0-0e64-4ec8-aeb2-f7ba6115af9c",
   "metadata": {},
   "outputs": [],
   "source": [
    "class my_metaclass(type):\n",
    "    pass"
   ]
  },
  {
   "cell_type": "code",
   "execution_count": 48,
   "id": "2c730206-1e3a-4caa-bf0f-f83b5ac706f3",
   "metadata": {},
   "outputs": [],
   "source": [
    "my_metaclass = type('mymetaclass')"
   ]
  },
  {
   "cell_type": "code",
   "execution_count": 49,
   "id": "179b99a7-ee91-4ee7-8ff6-ef305f1a9f23",
   "metadata": {},
   "outputs": [
    {
     "data": {
      "text/plain": [
       "str"
      ]
     },
     "execution_count": 49,
     "metadata": {},
     "output_type": "execute_result"
    }
   ],
   "source": [
    "my_metaclass"
   ]
  },
  {
   "cell_type": "code",
   "execution_count": null,
   "id": "c89bbaae-19a4-4875-8c8a-4a4035ab4b90",
   "metadata": {},
   "outputs": [],
   "source": [
    "from typing import Dict, Optional\n",
    "\n",
    "import numpy as np\n",
    "import torch\n",
    "\n",
    "import lib."
   ]
  },
  {
   "cell_type": "code",
   "execution_count": null,
   "id": "645ca031-4250-4e0f-8744-f8fa292f43ac",
   "metadata": {},
   "outputs": [],
   "source": [
    "[a for b in c if d ]"
   ]
  },
  {
   "cell_type": "code",
   "execution_count": null,
   "id": "794502c6-a402-43d8-8652-e9e57fbc642c",
   "metadata": {},
   "outputs": [],
   "source": [
    "f = partial(my_func, 10, k1='a')"
   ]
  },
  {
   "cell_type": "code",
   "execution_count": null,
   "id": "478544df-3a45-4949-998c-8243b0f0d29b",
   "metadata": {},
   "outputs": [],
   "source": [
    "map(add, l1, l2)"
   ]
  },
  {
   "cell_type": "code",
   "execution_count": 52,
   "id": "28b38001-cf59-4bc6-9fc3-2f2915147cb3",
   "metadata": {},
   "outputs": [],
   "source": [
    "def my_func(a: 'annotation for a', b: 'annotation for b') -> 'annotation for return':\n",
    "    pass"
   ]
  },
  {
   "cell_type": "code",
   "execution_count": 53,
   "id": "f8a37473-a9e4-4bc0-810f-652a697beb41",
   "metadata": {},
   "outputs": [],
   "source": [
    "class my_metaclass(type): pass"
   ]
  },
  {
   "cell_type": "code",
   "execution_count": null,
   "id": "6afbdd13-0c12-41a1-9498-973389b51729",
   "metadata": {},
   "outputs": [],
   "source": [
    "print('a < 10') if a < 10 else print('a >= 10')"
   ]
  },
  {
   "cell_type": "code",
   "execution_count": 54,
   "id": "82d47461-88ad-4b08-814a-275b9a40d51d",
   "metadata": {},
   "outputs": [],
   "source": [
    "def func_3(a: int, b: int) -> int:\n",
    "    return a * b"
   ]
  },
  {
   "cell_type": "code",
   "execution_count": 55,
   "id": "06c38a47-54b1-4af2-ba5e-41e4aa635eb2",
   "metadata": {},
   "outputs": [],
   "source": [
    "class JustCreatedException(BaseException):\n",
    "    pass"
   ]
  },
  {
   "cell_type": "code",
   "execution_count": null,
   "id": "2afbcb4c-78f3-4ed4-91d5-2d03032170e9",
   "metadata": {},
   "outputs": [],
   "source": [
    "class Zoo:\n",
    "    def __getitem__(self)"
   ]
  },
  {
   "cell_type": "code",
   "execution_count": 56,
   "id": "56ddaf0f-43a8-4a3d-ac6b-76652316af62",
   "metadata": {},
   "outputs": [],
   "source": [
    "class TextField:\n",
    "    def __get__(self, ):\n",
    "        pass"
   ]
  },
  {
   "cell_type": "markdown",
   "id": "5084636b-96a1-41bf-ae95-6ebec597b154",
   "metadata": {},
   "source": [
    "### Pytest"
   ]
  },
  {
   "cell_type": "code",
   "execution_count": 46,
   "id": "aba480d8-0401-4774-9ae0-44e7542c68d7",
   "metadata": {},
   "outputs": [],
   "source": [
    "import pytest"
   ]
  },
  {
   "cell_type": "code",
   "execution_count": 47,
   "id": "c138d939-37ce-4b45-92e0-845b08cd2c58",
   "metadata": {},
   "outputs": [],
   "source": [
    "def test_raise():\n",
    "    with pytest.raises(ValueError):\n",
    "        pass"
   ]
  },
  {
   "cell_type": "markdown",
   "id": "61cec6f0-4b8b-4c28-b6a2-0532b26348eb",
   "metadata": {},
   "source": [
    "### Git"
   ]
  },
  {
   "cell_type": "code",
   "execution_count": null,
   "id": "09be31f5-f5fe-452d-86fa-f109bbf14632",
   "metadata": {},
   "outputs": [],
   "source": [
    "git clean -df"
   ]
  },
  {
   "cell_type": "code",
   "execution_count": null,
   "id": "e42c7059-be65-4e9e-aa9a-582ad2442c29",
   "metadata": {},
   "outputs": [],
   "source": [
    "git restore --staged filename"
   ]
  },
  {
   "cell_type": "markdown",
   "id": "7f44cfe8-016d-4bd1-a074-b2467df148f0",
   "metadata": {},
   "source": [
    "### Docker"
   ]
  },
  {
   "cell_type": "code",
   "execution_count": null,
   "id": "5c075f28-bfc9-4f43-8a1b-14fcc825290c",
   "metadata": {},
   "outputs": [],
   "source": [
    "docker rmi redius:22.2"
   ]
  },
  {
   "cell_type": "code",
   "execution_count": null,
   "id": "20c30a1c-400d-4d95-9ef2-ca10f1e5c092",
   "metadata": {},
   "outputs": [],
   "source": [
    "docker rm 23a"
   ]
  },
  {
   "cell_type": "code",
   "execution_count": null,
   "id": "d3d43cb6-91e2-4f73-b1f6-85ea96d456c0",
   "metadata": {},
   "outputs": [],
   "source": [
    "ENV DB_PASS=secret"
   ]
  },
  {
   "cell_type": "code",
   "execution_count": null,
   "id": "d758d3a4-8afe-459d-aa64-9aeca3c673ad",
   "metadata": {},
   "outputs": [],
   "source": [
    "FROM node"
   ]
  },
  {
   "cell_type": "code",
   "execution_count": null,
   "id": "efdd62c8-109c-4b39-b17a-0006848275ca",
   "metadata": {},
   "outputs": [],
   "source": [
    "RUN mkdir /home/app"
   ]
  },
  {
   "cell_type": "markdown",
   "id": "6ff00e22-69f6-4d1e-a575-5f1aa16bffa7",
   "metadata": {},
   "source": [
    "### SQL"
   ]
  },
  {
   "cell_type": "code",
   "execution_count": null,
   "id": "e620aa29-dedd-4435-b33d-754c3d2eb7eb",
   "metadata": {},
   "outputs": [],
   "source": [
    "SELECT coalesce(n_epochs, 10) as n_epochs FROM training"
   ]
  },
  {
   "cell_type": "code",
   "execution_count": null,
   "id": "a3413f3f-3f18-41cd-8b6a-33690ba93d77",
   "metadata": {},
   "outputs": [],
   "source": [
    "SELECT * FROM users WHERE gender IS NOT NULL"
   ]
  },
  {
   "cell_type": "markdown",
   "id": "d777b542-eb8b-4285-9c01-8aa9246239b5",
   "metadata": {},
   "source": [
    "SELECT users.name, likes.like FROM users INNER JOIN likes ON users.id = likes.user_id"
   ]
  },
  {
   "cell_type": "code",
   "execution_count": null,
   "id": "2ecad282-b3bc-4b72-ba79-2e4742111226",
   "metadata": {},
   "outputs": [],
   "source": [
    "SELECT DISTINCT salary FROM salaries"
   ]
  },
  {
   "cell_type": "code",
   "execution_count": null,
   "id": "7ad3ca7a-f196-424e-ae52-122d6c35836a",
   "metadata": {},
   "outputs": [],
   "source": [
    "SELECT * FROM dataset WHERE prompt ILIKE \"h%\""
   ]
  },
  {
   "cell_type": "markdown",
   "id": "e1c74302-c1fc-4093-b2de-adce73c7f6da",
   "metadata": {},
   "source": [
    "### CI/CD"
   ]
  },
  {
   "cell_type": "code",
   "execution_count": null,
   "id": "38603d60-f096-424d-b51b-cea7185f419b",
   "metadata": {},
   "outputs": [],
   "source": [
    "name: integration test\n",
    "\n",
    "on: [push]\n",
    "\n",
    "jobs:\n",
    "    check-version:\n",
    "        runs-on: ubuntu-latest\n",
    "        steps:\n",
    "            - name: echo a string\n",
    "              run: echo \"hello world\"\n",
    "            - name: check python version\n",
    "              run: python3 --version"
   ]
  },
  {
   "cell_type": "code",
   "execution_count": null,
   "id": "d711e1f7-cc25-4527-9e8e-b64b57516f28",
   "metadata": {},
   "outputs": [],
   "source": [
    "name: machine info\n",
    "\n",
    "on: [push]\n",
    "\n",
    "jobs:\n",
    "    check-version:\n",
    "        runs-on: ubuntu-latest\n",
    "        steps:\n",
    "            - name: processor info\n",
    "              run: |\n",
    "                import platform\n",
    "                print(platform.processor())\n",
    "              shell: python"
   ]
  }
 ],
 "metadata": {
  "kernelspec": {
   "display_name": "Python 3 (ipykernel)",
   "language": "python",
   "name": "python3"
  },
  "language_info": {
   "codemirror_mode": {
    "name": "ipython",
    "version": 3
   },
   "file_extension": ".py",
   "mimetype": "text/x-python",
   "name": "python",
   "nbconvert_exporter": "python",
   "pygments_lexer": "ipython3",
   "version": "3.9.12"
  }
 },
 "nbformat": 4,
 "nbformat_minor": 5
}
