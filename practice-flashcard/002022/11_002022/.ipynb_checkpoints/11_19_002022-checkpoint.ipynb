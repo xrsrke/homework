{
 "cells": [
  {
   "cell_type": "markdown",
   "id": "3902db36-1056-42cd-8051-d5778e22e60b",
   "metadata": {},
   "source": [
    "### Deep lEARNING"
   ]
  },
  {
   "cell_type": "code",
   "execution_count": null,
   "id": "00869215-6d07-40b1-9f6e-57eae24e87bc",
   "metadata": {},
   "outputs": [],
   "source": [
    "def word_tokenizier(x):\n",
    "    return x.split(' ')"
   ]
  },
  {
   "cell_type": "code",
   "execution_count": null,
   "id": "4fdffc77-cbfc-4e4e-bc96-33b4af69d727",
   "metadata": {},
   "outputs": [],
   "source": [
    "class Dataset:\n",
    "    def __init__(self, x, y):\n",
    "        self.x, self.y = x, y\n",
    "    \n",
    "    def __len__(self):\n",
    "        return len(self.x)\n",
    "    \n",
    "    def __getitem__(self, idx):\n",
    "        return self.x[idx], self.y[idx]"
   ]
  },
  {
   "cell_type": "code",
   "execution_count": null,
   "id": "8eca5ca5-1616-4a21-88ae-69fa1f142946",
   "metadata": {},
   "outputs": [
    {
     "name": "stderr",
     "output_type": "stream",
     "text": [
      "/opt/homebrew/lib/python3.10/site-packages/tqdm/auto.py:22: TqdmWarning: IProgress not found. Please update jupyter and ipywidgets. See https://ipywidgets.readthedocs.io/en/stable/user_install.html\n",
      "  from .autonotebook import tqdm as notebook_tqdm\n"
     ]
    }
   ],
   "source": [
    "import torch.nn as nn"
   ]
  },
  {
   "cell_type": "code",
   "execution_count": null,
   "id": "e0e8202b-d052-4106-a4a4-c32ba42b9b75",
   "metadata": {},
   "outputs": [],
   "source": [
    "class Model(nn.Module):\n",
    "    def __init__(self, n_in, nh, n_out):\n",
    "        super().__init__()\n",
    "        self.layers = [\n",
    "            nn.Linear(n_in, nh),\n",
    "            nn.ReLU(),\n",
    "            nn.Linear(nh, n_out)\n",
    "        ]\n",
    "    \n",
    "    def forward(self, x):\n",
    "        for l in self.layers:\n",
    "            x = l(x)\n",
    "        \n",
    "        return x"
   ]
  },
  {
   "cell_type": "code",
   "execution_count": null,
   "id": "7a9b5c13-d407-4ef5-b854-24eb37e51284",
   "metadata": {},
   "outputs": [],
   "source": [
    "class BatchNorm(nn.Module):\n",
    "    def __init__(self, mom, eps):\n",
    "        self.mom, self.eps = mom, eps\n",
    "        self.register_parameter('means', torch.zeros(1))\n",
    "        self.register_parameter('vars', torch.ones(1))\n",
    "        self.mults = nn.Parameter(torch.ones(1))\n",
    "        self.adds = nn.Parameter(torch.zeros(1))\n",
    "    \n",
    "    def update_stats(self, x):\n",
    "        m, v = x.mean(), x.var()\n",
    "        self.means.lerp_(m, self.mom)\n",
    "        self.vars.learp_(v, self.mom)\n",
    "        return m, v\n",
    "        \n",
    "    \n",
    "    def forward(self, x):\n",
    "        m, v = self.update_stats(x)\n",
    "        \n",
    "        # normalize\n",
    "        x = (x - m) / (v + self.eps).sqrt()\n",
    "        \n",
    "        # scale\n",
    "        x = x * self.mults + self.adds\n",
    "        \n",
    "        return x"
   ]
  },
  {
   "cell_type": "code",
   "execution_count": null,
   "id": "75cc5630-c613-40d5-8882-be63916ca771",
   "metadata": {},
   "outputs": [],
   "source": [
    "def func(layer, inp, out):\n",
    "    add_log(layer, out)"
   ]
  },
  {
   "cell_type": "code",
   "execution_count": null,
   "id": "02adce25-2911-4b62-86b0-c47150933ab8",
   "metadata": {},
   "outputs": [],
   "source": [
    "def add_hook(model):\n",
    "    for l in model.layers:\n",
    "        l.register_forward_hook(func)"
   ]
  },
  {
   "cell_type": "code",
   "execution_count": null,
   "id": "8db16850-c3d7-461f-acc6-17e076654e3c",
   "metadata": {},
   "outputs": [],
   "source": [
    "class Model:\n",
    "    def __init__(self, w1, b1, w2, b2):\n",
    "        self.layers = [\n",
    "            Lin(w1, b1),\n",
    "            ReLU(),\n",
    "            Lin(w2, b2)\n",
    "        ]\n",
    "        \n",
    "        self.loss = Mse()\n",
    "    \n",
    "    def __call__(self, x, y):\n",
    "        for l in self.layers:\n",
    "            x = l(x)\n",
    "        \n",
    "        return self.loss(x, y)"
   ]
  },
  {
   "cell_type": "code",
   "execution_count": null,
   "id": "7182c7c2-bafa-49cd-838f-4b72dcffb784",
   "metadata": {},
   "outputs": [],
   "source": [
    "def sgd_step(param, lr):\n",
    "    return param.data.sub_(lr, param.grad.data)"
   ]
  },
  {
   "cell_type": "code",
   "execution_count": null,
   "id": "07eb37f8-7349-4774-9911-4ce74c5aefa1",
   "metadata": {},
   "outputs": [],
   "source": [
    "p, i, d, n"
   ]
  },
  {
   "cell_type": "code",
   "execution_count": null,
   "id": "76e8fcf7-1289-4902-9ecf-a1eccc470115",
   "metadata": {},
   "outputs": [],
   "source": [
    "sin even, cos odd"
   ]
  },
  {
   "cell_type": "code",
   "execution_count": null,
   "id": "6134e773-cf08-4a7d-b2a3-a463b0dab825",
   "metadata": {},
   "outputs": [],
   "source": [
    "import numpy as np"
   ]
  },
  {
   "cell_type": "code",
   "execution_count": null,
   "id": "f3972c48-7b41-4913-9f3f-e58ca5d189ba",
   "metadata": {},
   "outputs": [],
   "source": [
    "class PositionalEmbedding:\n",
    "    def __init__(self, n, d):\n",
    "        self.n, self.d = n, d\n",
    "    \n",
    "    def encode(self, idxs):\n",
    "        n_words = len(idxs)\n",
    "        embeddings = np.zeros((n_words, self.d))\n",
    "        \n",
    "        for p in range(n_words):\n",
    "            for i in range(self.d):\n",
    "                embeddings[p][i] = self.by_sin(p, i) if i % 2 == 0 else self.by_cos(p, i)\n",
    "        \n",
    "        return embeddings\n",
    "    \n",
    "    def by_sin(self, p, i):\n",
    "        denominator = np.power(self.n, 2*i / self.d)\n",
    "        return np.sin(p / denominator)\n",
    "    \n",
    "    def by_cos(self, p, i):\n",
    "        denominator = np.power(self.n, 2*i / self.d)\n",
    "        return np.cos(p / denominator)"
   ]
  },
  {
   "cell_type": "code",
   "execution_count": null,
   "id": "f3335498-a693-4ba8-8c4e-97e983c07bfd",
   "metadata": {},
   "outputs": [],
   "source": [
    "encoder = PositionalEmbedding(n=200, d=5)"
   ]
  },
  {
   "cell_type": "code",
   "execution_count": null,
   "id": "814552e8-5746-4fea-b199-e9fff584478e",
   "metadata": {},
   "outputs": [
    {
     "data": {
      "text/plain": [
       "array([[ 0.00000000e+00,  1.00000000e+00,  0.00000000e+00,\n",
       "         1.00000000e+00,  0.00000000e+00],\n",
       "       [ 8.41470985e-01,  9.92795169e-01,  1.44264986e-02,\n",
       "         9.99998499e-01,  2.08138300e-04],\n",
       "       [ 9.09297427e-01,  9.71284494e-01,  2.88499945e-02,\n",
       "         9.99993994e-01,  4.16276592e-04],\n",
       "       [ 1.41120008e-01,  9.35777938e-01,  4.32674858e-02,\n",
       "         9.99986487e-01,  6.24414865e-04],\n",
       "       [-7.56802495e-01,  8.86787137e-01,  5.76759716e-02,\n",
       "         9.99975978e-01,  8.32553111e-04]])"
      ]
     },
     "execution_count": null,
     "metadata": {},
     "output_type": "execute_result"
    }
   ],
   "source": [
    "encoder.encode([0, 1, 2, 4, 5])"
   ]
  },
  {
   "cell_type": "code",
   "execution_count": null,
   "id": "f0523a7f-c571-49f2-b567-e97d819c08bd",
   "metadata": {},
   "outputs": [],
   "source": [
    "import torchvision.transforms as tfms"
   ]
  },
  {
   "cell_type": "code",
   "execution_count": null,
   "id": "e11171a2-9c4c-442c-a668-87004b17e715",
   "metadata": {},
   "outputs": [],
   "source": [
    "def im2tensor(x):\n",
    "    return tfms.ToTensor()(x)"
   ]
  },
  {
   "cell_type": "code",
   "execution_count": null,
   "id": "9601bfea-df06-414e-af5c-cf4250f6c8f7",
   "metadata": {},
   "outputs": [],
   "source": [
    "class DotProduct(nn.Module):\n",
    "    def __init__(self, n_users, n_movies, n_factors):\n",
    "        self.user_factors = nn.Embedding(n_users, n_factors)\n",
    "        self.movie_factors = nn.Embedding(n_movies, n_factors)"
   ]
  },
  {
   "cell_type": "code",
   "execution_count": null,
   "id": "ec8f6a9b-1179-4ac6-b33a-cc6f3e48387e",
   "metadata": {},
   "outputs": [],
   "source": [
    "def sigmoid_range(x, low, high):\n",
    "    return torch."
   ]
  },
  {
   "cell_type": "markdown",
   "id": "bb127e05-27cd-4328-b5e9-4a322de55853",
   "metadata": {},
   "source": [
    "### Python"
   ]
  },
  {
   "cell_type": "code",
   "execution_count": null,
   "id": "01cb5ef1-4800-4130-8b81-2aa07306093b",
   "metadata": {},
   "outputs": [],
   "source": [
    "from typing import Set"
   ]
  },
  {
   "cell_type": "code",
   "execution_count": null,
   "id": "ad58f07c-7433-44c5-b815-5c028095b0dd",
   "metadata": {},
   "outputs": [],
   "source": [
    "x = set[str, ...]"
   ]
  },
  {
   "cell_type": "code",
   "execution_count": null,
   "id": "5f384cd6-b4f5-4391-bfae-f52a11e956a2",
   "metadata": {},
   "outputs": [],
   "source": [
    "from functools import partial"
   ]
  },
  {
   "cell_type": "code",
   "execution_count": null,
   "id": "c1ec9c28-a970-47b5-bccd-9e4bb8e86873",
   "metadata": {},
   "outputs": [],
   "source": [
    "f = partial(my_func, 10, k1='a')"
   ]
  },
  {
   "cell_type": "code",
   "execution_count": null,
   "id": "659c476f-a8a9-469a-8859-80b9a4c18d4a",
   "metadata": {},
   "outputs": [],
   "source": [
    "class Person:\n",
    "    def __init__(self, name):\n",
    "        self.name = name"
   ]
  },
  {
   "cell_type": "code",
   "execution_count": null,
   "id": "db7cbd62-40bc-45b2-9582-8f316860e09e",
   "metadata": {},
   "outputs": [],
   "source": [
    "class Bird:\n",
    "    def quack(): pass"
   ]
  },
  {
   "cell_type": "code",
   "execution_count": null,
   "id": "34fd3111-d93d-43e5-924d-05e17717835e",
   "metadata": {},
   "outputs": [],
   "source": [
    "class FlyBird(Bird):\n",
    "    def fly(self): pass"
   ]
  },
  {
   "cell_type": "code",
   "execution_count": null,
   "id": "3138776d-5089-46c3-b50a-044e63cf659d",
   "metadata": {},
   "outputs": [],
   "source": [
    "class SwimBird(Bird):\n",
    "    def swim(self): pass"
   ]
  },
  {
   "cell_type": "code",
   "execution_count": null,
   "id": "e9732e2c-160d-4cd1-8443-0e81da7685f8",
   "metadata": {},
   "outputs": [],
   "source": [
    "class Peaguin(SwimBird): pass"
   ]
  },
  {
   "cell_type": "code",
   "execution_count": null,
   "id": "962011d5-e6ef-4cdd-a541-3e8e1a844e5d",
   "metadata": {},
   "outputs": [],
   "source": [
    "from typing import Final"
   ]
  },
  {
   "cell_type": "code",
   "execution_count": null,
   "id": "30fb4771-ee49-4114-ac14-4e5c6da890cc",
   "metadata": {},
   "outputs": [],
   "source": [
    "SERVER_PWD: Final = 1234"
   ]
  },
  {
   "cell_type": "code",
   "execution_count": null,
   "id": "0e8ee051-c2be-4cd1-abca-889bbe7eb8e5",
   "metadata": {},
   "outputs": [],
   "source": [
    "from typing import NewType"
   ]
  },
  {
   "cell_type": "code",
   "execution_count": null,
   "id": "1a14409e-0400-4c2f-8240-e30f807993b0",
   "metadata": {},
   "outputs": [
    {
     "ename": "TypeError",
     "evalue": "NewType.__init__() missing 1 required positional argument: 'tp'",
     "output_type": "error",
     "traceback": [
      "\u001b[0;31m---------------------------------------------------------------------------\u001b[0m",
      "\u001b[0;31mTypeError\u001b[0m                                 Traceback (most recent call last)",
      "Cell \u001b[0;32mIn [58], line 1\u001b[0m\n\u001b[0;32m----> 1\u001b[0m ReadyToServeHotDog \u001b[38;5;241m=\u001b[39m \u001b[43mNewType\u001b[49m\u001b[43m(\u001b[49m\u001b[38;5;124;43m\"\u001b[39;49m\u001b[38;5;124;43mHotDog\u001b[39;49m\u001b[38;5;124;43m\"\u001b[39;49m\u001b[43m)\u001b[49m\n",
      "\u001b[0;31mTypeError\u001b[0m: NewType.__init__() missing 1 required positional argument: 'tp'"
     ]
    }
   ],
   "source": [
    "ReadyToServeHotDog = NewType(\"HotDog\", HotDog)"
   ]
  },
  {
   "cell_type": "code",
   "execution_count": null,
   "id": "d9d79aab-2afa-48ba-ac1a-0588418d1438",
   "metadata": {},
   "outputs": [],
   "source": [
    "from typing import Optional"
   ]
  },
  {
   "cell_type": "code",
   "execution_count": null,
   "id": "b5015f94-3c3f-4944-99c8-12609613e187",
   "metadata": {},
   "outputs": [],
   "source": [
    "def create_a_paper(color: Optional[str]) -> Optional[str]:\n",
    "    return color"
   ]
  },
  {
   "cell_type": "code",
   "execution_count": null,
   "id": "f33d8f07-2cff-46d3-a443-9c284e8c62e4",
   "metadata": {},
   "outputs": [],
   "source": [
    "elapsed_hours_in_a_day = 8"
   ]
  },
  {
   "cell_type": "code",
   "execution_count": null,
   "id": "2d98f90e-80b3-48c3-84f7-800a49e1f57f",
   "metadata": {},
   "outputs": [],
   "source": [
    "from typing import TypeVar"
   ]
  },
  {
   "cell_type": "code",
   "execution_count": null,
   "id": "e572849c-53a0-48d4-8b0f-24fc21476215",
   "metadata": {},
   "outputs": [],
   "source": [
    "ID = NewType(\"ID\", id)"
   ]
  },
  {
   "cell_type": "code",
   "execution_count": null,
   "id": "e12a8b5f-1ba2-4dfc-9250-34fed4e78f88",
   "metadata": {},
   "outputs": [],
   "source": [
    "from dataclasses import dataclass"
   ]
  },
  {
   "cell_type": "code",
   "execution_count": null,
   "id": "31ce7a59-492e-4732-8775-05768eda26b5",
   "metadata": {},
   "outputs": [],
   "source": [
    "@dataclass\n",
    "class Money:\n",
    "    currency: str\n",
    "    value: int"
   ]
  },
  {
   "cell_type": "code",
   "execution_count": null,
   "id": "2020c27a-2e04-4928-88e6-0fb3a69af43e",
   "metadata": {},
   "outputs": [],
   "source": [
    "from typing import NewType"
   ]
  },
  {
   "cell_type": "code",
   "execution_count": null,
   "id": "9e322114-d01a-444b-b0b7-d218639912f5",
   "metadata": {},
   "outputs": [],
   "source": [
    "ID = NewType(\"ID\", int)"
   ]
  },
  {
   "cell_type": "code",
   "execution_count": null,
   "id": "3cc57fc3-2b6f-4ad7-a542-61d4dbf9ac32",
   "metadata": {},
   "outputs": [],
   "source": [
    "Color = NewType(\"Color\", str)"
   ]
  },
  {
   "cell_type": "code",
   "execution_count": null,
   "id": "d774d7ec-9cc9-472c-8654-d759c1885e6f",
   "metadata": {},
   "outputs": [],
   "source": [
    "class Batch:\n",
    "    def __init__(self, package_id: ID, package_color: Color):\n",
    "        self.package_id = package_id\n",
    "        self.package_color = package_color"
   ]
  },
  {
   "cell_type": "code",
   "execution_count": null,
   "id": "96e2dad9-42ce-47cb-b054-2a8e0b817da6",
   "metadata": {},
   "outputs": [],
   "source": [
    "class UppercaseTuple(tuple):\n",
    "    def __new__(cls, iterable):\n",
    "        for i, x in enumerate(iterable):\n",
    "            iterable[i] = x.upper()\n",
    "        \n",
    "        return super().__new__(cls, iterable)\n",
    "    \n",
    "    def __init__(self, iterable):\n",
    "        self.iterable = iterable"
   ]
  },
  {
   "cell_type": "code",
   "execution_count": null,
   "id": "267d3b9f-f7ba-46ed-ac20-852f92642670",
   "metadata": {},
   "outputs": [],
   "source": [
    "x = UppercaseTuple([\"shivon\"])"
   ]
  },
  {
   "cell_type": "code",
   "execution_count": null,
   "id": "6ae881e2-93d8-4a63-bed0-45ce63caa0f1",
   "metadata": {},
   "outputs": [
    {
     "data": {
      "text/plain": [
       "{'iterable': ['SHIVON']}"
      ]
     },
     "execution_count": null,
     "metadata": {},
     "output_type": "execute_result"
    }
   ],
   "source": [
    "x.__dict__"
   ]
  },
  {
   "cell_type": "code",
   "execution_count": null,
   "id": "7d58cdbe-91b4-42b5-90b2-50efee182fba",
   "metadata": {},
   "outputs": [],
   "source": [
    "{k: v**2 for k, v in simple_dict.items()}"
   ]
  },
  {
   "cell_type": "code",
   "execution_count": null,
   "id": "ffd903c2-0b9d-40a1-aa0b-2eb76fd5c26c",
   "metadata": {},
   "outputs": [],
   "source": [
    "from fastcore.meta import *"
   ]
  },
  {
   "cell_type": "code",
   "execution_count": null,
   "id": "63ca0e61-526a-41f8-a52a-acae69ea6fef",
   "metadata": {},
   "outputs": [],
   "source": [
    "def plus_one(self):\n",
    "    return self.num + 1"
   ]
  },
  {
   "cell_type": "code",
   "execution_count": null,
   "id": "d1319211-7007-49e4-8969-1d65cf05a9f6",
   "metadata": {},
   "outputs": [],
   "source": [
    "@funcs_kwargs(as_method=True)\n",
    "class DataBlock:\n",
    "    num = 5\n",
    "    _methods = ['loss_func']"
   ]
  },
  {
   "cell_type": "code",
   "execution_count": null,
   "id": "701bcf24-de8c-49a0-a02e-a46309ff3c01",
   "metadata": {},
   "outputs": [],
   "source": [
    "dblock = DataBlock(loss_func=plus_one)"
   ]
  },
  {
   "cell_type": "code",
   "execution_count": null,
   "id": "991eb2a5-5c91-4387-b53f-9d013e0e8913",
   "metadata": {},
   "outputs": [
    {
     "data": {
      "text/plain": [
       "6"
      ]
     },
     "execution_count": null,
     "metadata": {},
     "output_type": "execute_result"
    }
   ],
   "source": [
    "dblock.loss_func()"
   ]
  },
  {
   "cell_type": "code",
   "execution_count": null,
   "id": "86831e3f-4eeb-4d2b-a1b3-20e6bfbe8096",
   "metadata": {},
   "outputs": [],
   "source": [
    "class Animal:\n",
    "    def __init__(self, species):\n",
    "        self.species = species\n",
    "    \n",
    "    def __ne__(self, other):\n",
    "        if isinstance(other, Animal) and self.species == other.species:\n",
    "            return False\n",
    "        else:\n",
    "            return True"
   ]
  },
  {
   "cell_type": "code",
   "execution_count": null,
   "id": "636a2556-5e63-480e-80b6-c1ca79d2e2db",
   "metadata": {},
   "outputs": [],
   "source": [
    "s1 = Animal('A')"
   ]
  },
  {
   "cell_type": "code",
   "execution_count": null,
   "id": "92f2e641-a3ac-465d-8247-4c9df79d68fa",
   "metadata": {},
   "outputs": [
    {
     "data": {
      "text/plain": [
       "True"
      ]
     },
     "execution_count": null,
     "metadata": {},
     "output_type": "execute_result"
    }
   ],
   "source": [
    "s1 != 1"
   ]
  },
  {
   "cell_type": "markdown",
   "id": "3ab7a88c-2289-4996-b58d-db660dbb0458",
   "metadata": {},
   "source": [
    "### SQL"
   ]
  },
  {
   "cell_type": "code",
   "execution_count": null,
   "id": "98eb3f55-3238-43f9-99bd-df40a549965d",
   "metadata": {},
   "outputs": [],
   "source": [
    "SELECT * FROM predictions GROUP BY status ORDER BY accuracy DESC"
   ]
  },
  {
   "cell_type": "code",
   "execution_count": null,
   "id": "66f0c51a-9d4d-4e09-a907-6b32f3c2b1bb",
   "metadata": {},
   "outputs": [],
   "source": [
    "SELECT * FROM datasets GROUP BY type HAVING COUNT(id) > 40"
   ]
  },
  {
   "cell_type": "code",
   "execution_count": null,
   "id": "f628aeed-659c-401e-a403-0881b141e8c4",
   "metadata": {},
   "outputs": [],
   "source": [
    "SELECT * FROM users WHERE (name=\"Shivon\" and rank=1) OR rank=2"
   ]
  }
 ],
 "metadata": {
  "kernelspec": {
   "display_name": "Python 3 (ipykernel)",
   "language": "python",
   "name": "python3"
  }
 },
 "nbformat": 4,
 "nbformat_minor": 5
}
