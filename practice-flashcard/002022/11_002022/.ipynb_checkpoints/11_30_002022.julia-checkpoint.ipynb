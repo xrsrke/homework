{
 "cells": [
  {
   "cell_type": "code",
   "execution_count": null,
   "id": "9700f2a1-f03a-499b-96fe-83595e6d0f5b",
   "metadata": {},
   "outputs": [],
   "source": [
    "abstract type Vehicle end"
   ]
  },
  {
   "cell_type": "code",
   "execution_count": null,
   "id": "b123f42e-d2f8-4cd2-b968-59a94861b6f3",
   "metadata": {},
   "outputs": [
    {
     "data": {
      "text/plain": [
       "is_string (generic function with 1 method)"
      ]
     },
     "execution_count": null,
     "metadata": {},
     "output_type": "execute_result"
    }
   ],
   "source": [
    "is_string(x::String) = true"
   ]
  },
  {
   "cell_type": "code",
   "execution_count": null,
   "id": "7fdfbe74-0c72-499d-bf1c-3ff099f9d2fa",
   "metadata": {},
   "outputs": [
    {
     "data": {
      "text/plain": [
       "is_string (generic function with 2 methods)"
      ]
     },
     "execution_count": null,
     "metadata": {},
     "output_type": "execute_result"
    }
   ],
   "source": [
    "is_string(x) = false"
   ]
  },
  {
   "cell_type": "code",
   "execution_count": null,
   "id": "af607273-3e6d-4d66-b364-47737a5b2b49",
   "metadata": {},
   "outputs": [
    {
     "data": {
      "text/plain": [
       "true"
      ]
     },
     "execution_count": null,
     "metadata": {},
     "output_type": "execute_result"
    }
   ],
   "source": [
    "is_string(\"hello\")"
   ]
  },
  {
   "cell_type": "code",
   "execution_count": null,
   "id": "0b35f637-a7f1-470f-b65e-87dc8ad9bf73",
   "metadata": {},
   "outputs": [
    {
     "data": {
      "text/plain": [
       "add (generic function with 1 method)"
      ]
     },
     "execution_count": null,
     "metadata": {},
     "output_type": "execute_result"
    }
   ],
   "source": [
    "function add(x, y)\n",
    "    return x + y\n",
    "end"
   ]
  }
 ],
 "metadata": {
  "kernelspec": {
   "display_name": "Julia 1.8.2",
   "language": "julia",
   "name": "julia-1.8"
  }
 },
 "nbformat": 4,
 "nbformat_minor": 5
}
