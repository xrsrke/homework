{
 "cells": [
  {
   "cell_type": "markdown",
   "id": "9c3f241d-7222-45d1-b537-423fbebc0fe6",
   "metadata": {},
   "source": [
    "### Deep Learning"
   ]
  },
  {
   "cell_type": "code",
   "execution_count": null,
   "id": "00a2b245-e021-4df4-b264-7b6d2ec11384",
   "metadata": {},
   "outputs": [],
   "source": [
    "sin => even, cos => odd"
   ]
  },
  {
   "cell_type": "code",
   "execution_count": null,
   "id": "0ce8b53c-7015-409b-b4a2-bf3a51a18bbd",
   "metadata": {},
   "outputs": [
    {
     "name": "stderr",
     "output_type": "stream",
     "text": [
      "/opt/homebrew/lib/python3.10/site-packages/tqdm/auto.py:22: TqdmWarning: IProgress not found. Please update jupyter and ipywidgets. See https://ipywidgets.readthedocs.io/en/stable/user_install.html\n",
      "  from .autonotebook import tqdm as notebook_tqdm\n"
     ]
    }
   ],
   "source": [
    "import torch.nn as nn"
   ]
  },
  {
   "cell_type": "code",
   "execution_count": null,
   "id": "4c7eae1b-fdec-49c3-9fdf-00651bbae6d9",
   "metadata": {},
   "outputs": [],
   "source": [
    "import torch"
   ]
  },
  {
   "cell_type": "code",
   "execution_count": null,
   "id": "1977dcca-03d7-4c0b-a894-95f30c8638fd",
   "metadata": {},
   "outputs": [],
   "source": [
    "def func(layer, inp, out):\n",
    "    add_log(layer, out)"
   ]
  },
  {
   "cell_type": "code",
   "execution_count": null,
   "id": "56544ef0-88d2-494d-8aa8-dd62ba99bc59",
   "metadata": {},
   "outputs": [],
   "source": [
    "def add_hook(model):\n",
    "    for l in model.layers:\n",
    "        l.register_forward_hook(func)"
   ]
  },
  {
   "cell_type": "code",
   "execution_count": null,
   "id": "d5a29ae0-103d-48bd-85a1-8af4bc10bd8a",
   "metadata": {},
   "outputs": [],
   "source": [
    "def create_text_embedding(prompt, empty_tokens):\n",
    "    prompt_tokens = _tokenizier(prompt)\n",
    "    prompt_embedding = _text_encoder(prompt_tokens)\n",
    "    empty_embedding = _text_encoder(empty_tokens)\n",
    "    \n",
    "    return torch.cat([empty_embedding, prompt_embedding])"
   ]
  },
  {
   "cell_type": "code",
   "execution_count": null,
   "id": "fe83bd51-e6f8-48f7-91de-0828fa0de425",
   "metadata": {},
   "outputs": [],
   "source": [
    "def _to_numpy(x):\n",
    "    x = x.detach().cpu().numpy()\n",
    "    \n",
    "    return x.permute(2, 0, 1)"
   ]
  },
  {
   "cell_type": "code",
   "execution_count": null,
   "id": "35ea1ec9-b463-4b68-beb9-e194421e27e6",
   "metadata": {},
   "outputs": [],
   "source": [
    "def scale_pixels(x):\n",
    "    x = (x / 2 ) + 0.5\n",
    "    x = x.clamp_(min=0, max=1)"
   ]
  },
  {
   "cell_type": "code",
   "execution_count": null,
   "id": "764e4011-e25f-4c5b-9122-98fcffc31775",
   "metadata": {},
   "outputs": [],
   "source": [
    "def split_parts(x, n):\n",
    "    return x.chunk(n)"
   ]
  },
  {
   "cell_type": "code",
   "execution_count": null,
   "id": "41e5f60e-eb95-4a0d-beea-301654634cc7",
   "metadata": {},
   "outputs": [],
   "source": [
    "from fastai.collab import *"
   ]
  },
  {
   "cell_type": "code",
   "execution_count": null,
   "id": "75daaf27-400f-4cee-8c80-5f27ef57de4b",
   "metadata": {},
   "outputs": [],
   "source": [
    "learn = Learner(model, dls)"
   ]
  },
  {
   "cell_type": "code",
   "execution_count": null,
   "id": "193c67d5-e656-4c23-833d-f94febc21207",
   "metadata": {},
   "outputs": [],
   "source": [
    "torch.bmm(inp1, inp2)"
   ]
  },
  {
   "cell_type": "code",
   "execution_count": null,
   "id": "8ab1766f-6eb4-439b-87da-1b9cbf7a3937",
   "metadata": {},
   "outputs": [],
   "source": [
    "p: positional of the word in sentence\n",
    "n: user-defined\n",
    "i: index of element in vector\n",
    "d: dim of text embedding"
   ]
  },
  {
   "cell_type": "code",
   "execution_count": null,
   "id": "59d586c0-c610-4865-8b8f-ac3092602e9b",
   "metadata": {},
   "outputs": [],
   "source": [
    "import numpy as np"
   ]
  },
  {
   "cell_type": "code",
   "execution_count": null,
   "id": "32db9fc1-5b0a-4872-bfe6-5199a61c768f",
   "metadata": {},
   "outputs": [],
   "source": [
    "class PositionalEmbedding:\n",
    "    def __init__(self, n, d):\n",
    "        self.n = n\n",
    "        self.d = d\n",
    "    \n",
    "    def encode(self, idxs):\n",
    "        n_words = len(idxs)\n",
    "        embedding = np.zeros((n_words, self.d))\n",
    "        \n",
    "        for p in range(n_words):\n",
    "            for i in range(self.d):\n",
    "                embedding[p][i] = self.by_sin(p, i) if i % 2 == 0 else self.by_cos(p, i)\n",
    "        \n",
    "        return embedding\n",
    "    \n",
    "    def by_sin(self, p, i):\n",
    "        denominator = np.power(self.n, 2*i/self.d)\n",
    "        return np.sin(p/denominator)\n",
    "    \n",
    "    def by_cos(self, p, i):\n",
    "        denominator = np.power(self.n, 2*i/self.d)\n",
    "        return np.cos(p/denominator)"
   ]
  },
  {
   "cell_type": "code",
   "execution_count": null,
   "id": "838a42ed-3f06-4846-91e4-80b3e71982db",
   "metadata": {},
   "outputs": [],
   "source": [
    "encoder = PositionalEmbedding(200, 5)"
   ]
  },
  {
   "cell_type": "code",
   "execution_count": null,
   "id": "3b6ee0af-d02f-49cb-a518-27e0a0e49ae3",
   "metadata": {},
   "outputs": [
    {
     "data": {
      "text/plain": [
       "array([[ 0.00000000e+00,  1.00000000e+00,  0.00000000e+00,\n",
       "         1.00000000e+00,  0.00000000e+00],\n",
       "       [ 8.41470985e-01,  9.92795169e-01,  1.44264986e-02,\n",
       "         9.99998499e-01,  2.08138300e-04],\n",
       "       [ 9.09297427e-01,  9.71284494e-01,  2.88499945e-02,\n",
       "         9.99993994e-01,  4.16276592e-04],\n",
       "       [ 1.41120008e-01,  9.35777938e-01,  4.32674858e-02,\n",
       "         9.99986487e-01,  6.24414865e-04],\n",
       "       [-7.56802495e-01,  8.86787137e-01,  5.76759716e-02,\n",
       "         9.99975978e-01,  8.32553111e-04]])"
      ]
     },
     "execution_count": null,
     "metadata": {},
     "output_type": "execute_result"
    }
   ],
   "source": [
    "encoder.encode([0, 1, 2, 3, 5])"
   ]
  },
  {
   "cell_type": "code",
   "execution_count": null,
   "id": "d5359844-2628-4efa-8662-0aa5e04f70c2",
   "metadata": {},
   "outputs": [
    {
     "data": {
      "text/plain": [
       "array([[ 0.00000000e+00,  1.00000000e+00,  0.00000000e+00,\n",
       "         1.00000000e+00,  0.00000000e+00],\n",
       "       [ 8.41470985e-01,  9.92795169e-01,  1.44264986e-02,\n",
       "         9.99998499e-01,  2.08138300e-04],\n",
       "       [ 9.09297427e-01,  9.71284494e-01,  2.88499945e-02,\n",
       "         9.99993994e-01,  4.16276592e-04],\n",
       "       [ 1.41120008e-01,  9.35777938e-01,  4.32674858e-02,\n",
       "         9.99986487e-01,  6.24414865e-04],\n",
       "       [-7.56802495e-01,  8.86787137e-01,  5.76759716e-02,\n",
       "         9.99975978e-01,  8.32553111e-04]])"
      ]
     },
     "execution_count": null,
     "metadata": {},
     "output_type": "execute_result"
    }
   ],
   "source": [
    "encoder.encode([0, 1, 32, 2, 4])"
   ]
  },
  {
   "cell_type": "code",
   "execution_count": null,
   "id": "e97dde29-1d5d-4a57-b054-e715f2064b06",
   "metadata": {},
   "outputs": [],
   "source": [
    "def compute_keys(vs, ws):\n",
    "    v = torch.stack([*vs])\n",
    "    w = torch.stack([*ws], dim=1)\n",
    "    \n",
    "    return v@w"
   ]
  },
  {
   "cell_type": "code",
   "execution_count": null,
   "id": "f010ab28-9a29-46f5-b3ff-1d448fdbd2b8",
   "metadata": {},
   "outputs": [],
   "source": [
    "def move_to_gpu(x):\n",
    "    device = torch.device('cuda', 0)\n",
    "    return x.to(device)"
   ]
  },
  {
   "cell_type": "code",
   "execution_count": null,
   "id": "4f9d9b12-7fae-4ec6-83e7-8e6b0e72acfb",
   "metadata": {},
   "outputs": [],
   "source": [
    "activation * mults + adds"
   ]
  },
  {
   "cell_type": "code",
   "execution_count": null,
   "id": "c105ebc7-408e-423c-9425-267508851e81",
   "metadata": {},
   "outputs": [],
   "source": [
    "def grandparent_splitter(file, valid_name, train_name):\n",
    "    parent_name = file.parent.parent.name\n",
    "    \n",
    "    return True if parent_name == valid_name else False if parent_name == train_name else None"
   ]
  },
  {
   "cell_type": "code",
   "execution_count": null,
   "id": "4ddaeb10-4c70-498a-a17f-5136fffb607d",
   "metadata": {},
   "outputs": [],
   "source": [
    "class DataLoader:\n",
    "    def __init__(self, ds, bs):\n",
    "        self.ds = ds\n",
    "        self.bs = bs\n",
    "    \n",
    "    def __iter__(self):\n",
    "        for i in range(0, len(self.ds), self.bs):\n",
    "            yield self.ds[i:i+self.bs]"
   ]
  },
  {
   "cell_type": "code",
   "execution_count": null,
   "id": "d1a40ebd-28af-40fd-99a0-f32c0de499e6",
   "metadata": {},
   "outputs": [],
   "source": [
    "def accuracy(pred, targ):\n",
    "    predicted_idxs = pred.argmax(dim=-1)\n",
    "    \n",
    "    return (predicted_idxs == targ).float().mean()"
   ]
  },
  {
   "cell_type": "code",
   "execution_count": null,
   "id": "b1d503f6-8e7e-4c58-9bf9-3005b41d7cc4",
   "metadata": {},
   "outputs": [],
   "source": [
    "class DummyModule:\n",
    "    def __init__(self, n_in, nh, n_out):\n",
    "        self._modules = {}\n",
    "        self.l1 = nn.Linear(n_in, nh)\n",
    "        self.l2 = nn.Linear(nh, n_out)\n",
    "    \n",
    "    def __setattr__(self, k, v):\n",
    "        if not k.starswith('_'):\n",
    "            self._modules[k] = v\n",
    "        \n",
    "        super().__setattr__(k, v)"
   ]
  },
  {
   "cell_type": "code",
   "execution_count": null,
   "id": "e9068df6-0a2e-4791-9003-0d0fa8177c6d",
   "metadata": {},
   "outputs": [],
   "source": [
    "def train(x, y, epochs):\n",
    "    for epoch in range(epochs):\n",
    "        pred = model(x)\n",
    "        loss = loss(pred, y)\n",
    "        \n",
    "        loss.backward()\n",
    "        optim.step()\n",
    "        optim.zero_grad()\n",
    "        ..."
   ]
  },
  {
   "cell_type": "markdown",
   "id": "7a3ff97b-c4a4-4ec3-8f25-69de6f87e836",
   "metadata": {},
   "source": [
    "### Python"
   ]
  },
  {
   "cell_type": "code",
   "execution_count": null,
   "id": "976eb6a9-d1ff-42ba-b96c-4225e2d0fe5b",
   "metadata": {},
   "outputs": [],
   "source": [
    "from enum import Enum, auto"
   ]
  },
  {
   "cell_type": "code",
   "execution_count": null,
   "id": "1c6af5a7-1c2f-4f62-a9fe-ad386f176123",
   "metadata": {},
   "outputs": [],
   "source": [
    "from dataclasses import dataclass"
   ]
  },
  {
   "cell_type": "code",
   "execution_count": null,
   "id": "6469800a-b057-4e37-83dd-dcd37cc0daea",
   "metadata": {},
   "outputs": [],
   "source": [
    "from typing import Set"
   ]
  },
  {
   "cell_type": "code",
   "execution_count": null,
   "id": "8febe472-1f59-4e84-8899-5439455a9a0b",
   "metadata": {},
   "outputs": [],
   "source": [
    "class ImperialMeasure(Enum):\n",
    "    CUP = auto()\n",
    "    TEASPOON = auto()"
   ]
  },
  {
   "cell_type": "code",
   "execution_count": null,
   "id": "1ff57a5f-a129-4cdd-a048-c521744a5c34",
   "metadata": {},
   "outputs": [],
   "source": [
    "@dataclass\n",
    "class Ingredient:\n",
    "    name: str\n",
    "    amount: float\n",
    "    unit: ImperialMeasure"
   ]
  },
  {
   "cell_type": "code",
   "execution_count": null,
   "id": "d548e7b5-3685-4db8-9798-eb2d22f33ecd",
   "metadata": {},
   "outputs": [],
   "source": [
    "@dataclass\n",
    "class Recipe:\n",
    "    meats: Set[Ingredient]\n",
    "    starches: Set[Ingredient]"
   ]
  },
  {
   "cell_type": "code",
   "execution_count": null,
   "id": "29aa2f92-d32c-4b64-bba9-b91fa082acb5",
   "metadata": {},
   "outputs": [],
   "source": [
    "class NumberSeven:\n",
    "    def __get__(self, x, x):\n",
    "        return 7\n",
    "    \n",
    "    def __set__"
   ]
  },
  {
   "cell_type": "markdown",
   "id": "7b1cb4d9-521b-4a1a-85d7-5dee2e1d848e",
   "metadata": {},
   "source": [
    "### bash"
   ]
  },
  {
   "cell_type": "code",
   "execution_count": null,
   "id": "20f78a25-9542-4589-8859-64ed7a70a249",
   "metadata": {},
   "outputs": [],
   "source": [
    "mkdir week_{1, 2, 3}"
   ]
  },
  {
   "cell_type": "code",
   "execution_count": null,
   "id": "8ec4c441-d8b1-46db-bbb5-b72a96b7872d",
   "metadata": {},
   "outputs": [],
   "source": [
    "# run the"
   ]
  },
  {
   "cell_type": "code",
   "execution_count": null,
   "id": "cb01e930-f08b-4cef-acf2-a2b18ea8c77e",
   "metadata": {},
   "outputs": [],
   "source": [
    "${id:3}"
   ]
  },
  {
   "cell_type": "code",
   "execution_count": null,
   "id": "21689cb5-9d9a-4709-92f6-f459a0847a21",
   "metadata": {},
   "outputs": [],
   "source": [
    "echo \"5/2\" | bc"
   ]
  },
  {
   "cell_type": "code",
   "execution_count": null,
   "id": "e7a7ac56-9d1d-4a7c-97d9-33108e898eb8",
   "metadata": {},
   "outputs": [],
   "source": [
    "echo ~shivon"
   ]
  },
  {
   "cell_type": "code",
   "execution_count": null,
   "id": "be088520-3dc5-43f2-b6fc-6dcce959bbb1",
   "metadata": {},
   "outputs": [
    {
     "ename": "SyntaxError",
     "evalue": "invalid syntax (2244302790.py, line 1)",
     "output_type": "error",
     "traceback": [
      "\u001b[0;36m  Cell \u001b[0;32mIn [34], line 1\u001b[0;36m\u001b[0m\n\u001b[0;31m    echo \"scale=2; 5/2\" | bc\u001b[0m\n\u001b[0m         ^\u001b[0m\n\u001b[0;31mSyntaxError\u001b[0m\u001b[0;31m:\u001b[0m invalid syntax\n"
     ]
    }
   ],
   "source": [
    "echo \"scale=2; 5/2\" | bc"
   ]
  },
  {
   "cell_type": "code",
   "execution_count": null,
   "id": "5f256c74-7b46-48cc-bb41-1e756595678c",
   "metadata": {},
   "outputs": [],
   "source": [
    "$USER"
   ]
  },
  {
   "cell_type": "code",
   "execution_count": null,
   "id": "11cd79da-33cb-4b7e-b14e-54b87071f573",
   "metadata": {},
   "outputs": [],
   "source": [
    "X -ne Y"
   ]
  },
  {
   "cell_type": "code",
   "execution_count": null,
   "id": "e2b73023-2ffc-4af1-b9b2-a7d4bdf0e8aa",
   "metadata": {},
   "outputs": [],
   "source": [
    "bar=foo"
   ]
  },
  {
   "cell_type": "code",
   "execution_count": null,
   "id": "414e58de-dcae-4347-a1a0-324926dabdd7",
   "metadata": {},
   "outputs": [],
   "source": [
    "r-x"
   ]
  },
  {
   "cell_type": "code",
   "execution_count": null,
   "id": "801f118d-ca18-4174-9769-aabb795a7369",
   "metadata": {},
   "outputs": [],
   "source": [
    "#!/bin/bash\n",
    "\n",
    "echo \"My name is $1\"\n",
    "echo \"I work at $2\""
   ]
  },
  {
   "cell_type": "markdown",
   "id": "db65e775-6d9a-41f5-92e6-180597ef52c3",
   "metadata": {},
   "source": [
    "### Deep Learning"
   ]
  },
  {
   "cell_type": "code",
   "execution_count": null,
   "id": "19db2505-8a6f-47b8-be6c-d791b5e317b0",
   "metadata": {},
   "outputs": [],
   "source": [
    "class Model:\n",
    "    def __init__(self, w1, b1, w2, b2):\n",
    "        self.layers = [\n",
    "            Lin(w1, b1),\n",
    "            ReLU(),\n",
    "            Lin(w2, b2)\n",
    "        ]\n",
    "        self.loss = Mse()\n",
    "    \n",
    "    def __call__(self, x, y):\n",
    "        for l in self.layers:\n",
    "            pred = l(x)\n",
    "        \n",
    "        return self.loss(pred, y)"
   ]
  },
  {
   "cell_type": "code",
   "execution_count": null,
   "id": "44c9225f-4b03-4715-8bf0-1e0fd6aa4cf9",
   "metadata": {},
   "outputs": [],
   "source": []
  }
 ],
 "metadata": {
  "kernelspec": {
   "display_name": "Python 3 (ipykernel)",
   "language": "python",
   "name": "python3"
  }
 },
 "nbformat": 4,
 "nbformat_minor": 5
}
