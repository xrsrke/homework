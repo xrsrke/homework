{
 "cells": [
  {
   "cell_type": "markdown",
   "id": "ca266831-33a3-4521-bd1a-06319527dd94",
   "metadata": {},
   "source": [
    "### Deep Learning"
   ]
  },
  {
   "cell_type": "code",
   "execution_count": null,
   "id": "f064e236-2a51-48b5-99ce-fb2139e2795d",
   "metadata": {},
   "outputs": [
    {
     "name": "stderr",
     "output_type": "stream",
     "text": [
      "/opt/homebrew/lib/python3.10/site-packages/tqdm/auto.py:22: TqdmWarning: IProgress not found. Please update jupyter and ipywidgets. See https://ipywidgets.readthedocs.io/en/stable/user_install.html\n",
      "  from .autonotebook import tqdm as notebook_tqdm\n"
     ]
    }
   ],
   "source": [
    "import pytorch_lightning as pl"
   ]
  },
  {
   "cell_type": "code",
   "execution_count": null,
   "id": "703d0409-e097-4478-ac4d-223adafd11d7",
   "metadata": {},
   "outputs": [],
   "source": [
    "import torch"
   ]
  },
  {
   "cell_type": "code",
   "execution_count": null,
   "id": "58435bd0-8e8e-444e-ad73-f5273f4ec478",
   "metadata": {},
   "outputs": [
    {
     "name": "stderr",
     "output_type": "stream",
     "text": [
      "GPU available: True (mps), used: False\n",
      "TPU available: False, using: 0 TPU cores\n",
      "IPU available: False, using: 0 IPUs\n",
      "HPU available: False, using: 0 HPUs\n",
      "/opt/homebrew/lib/python3.10/site-packages/pytorch_lightning/trainer/setup.py:200: UserWarning: MPS available but not used. Set `accelerator` and `devices` using `Trainer(accelerator='mps', devices=1)`.\n",
      "  rank_zero_warn(\n"
     ]
    }
   ],
   "source": [
    "train = pl.Trainer()"
   ]
  },
  {
   "cell_type": "code",
   "execution_count": null,
   "id": "8a185696-2ff5-4731-90af-17dc1f3d93fc",
   "metadata": {},
   "outputs": [],
   "source": [
    "train.fit(lit_model, train_loader)"
   ]
  },
  {
   "cell_type": "code",
   "execution_count": null,
   "id": "06478301-a717-4237-926f-b7890a0d8a34",
   "metadata": {},
   "outputs": [],
   "source": [
    "class LitResNet(pl.LightningModule):\n",
    "    def __init__(self):\n",
    "        self.model = _model1\n",
    "        self.loss = loss\n",
    "    \n",
    "    def training_step(self, batch, batch_idx):\n",
    "        x, y = batch\n",
    "        pred = self.model(x)\n",
    "        loss = self.loss(pred, y)\n",
    "        return loss"
   ]
  },
  {
   "cell_type": "code",
   "execution_count": null,
   "id": "07d36f6f-ff87-471b-8d24-67e2ba106127",
   "metadata": {},
   "outputs": [],
   "source": [
    "torch.permute(image_tensor, (2, 0, 1))"
   ]
  },
  {
   "cell_type": "code",
   "execution_count": null,
   "id": "54ed3737-5df5-4df8-b1d5-44ba7cf910da",
   "metadata": {},
   "outputs": [],
   "source": [
    "torch.matmul(tensor1, tensor2)"
   ]
  },
  {
   "cell_type": "code",
   "execution_count": null,
   "id": "3cc913a3-d453-46f5-9313-ef7dbf795d49",
   "metadata": {},
   "outputs": [],
   "source": [
    "torch.randperm(10)"
   ]
  },
  {
   "cell_type": "code",
   "execution_count": null,
   "id": "6b2a21c6-8fc6-4913-a5b6-288135c2aabc",
   "metadata": {},
   "outputs": [],
   "source": [
    "torch.save(dict_parameters, MODEL_SAVE_PATH)"
   ]
  },
  {
   "cell_type": "code",
   "execution_count": null,
   "id": "3703566a-b0b5-47ff-834a-f9884c05fa08",
   "metadata": {},
   "outputs": [],
   "source": [
    "def word_tokenizier(x):\n",
    "    return x.split(' ')"
   ]
  },
  {
   "cell_type": "code",
   "execution_count": null,
   "id": "4ca9d5e4-c8ee-421e-b86e-1679f88a215d",
   "metadata": {},
   "outputs": [],
   "source": [
    "def mean_squared_error(pred, targ):\n",
    "    error = 0.\n",
    "    for i in range(len(targ)):\n",
    "        error += (targ[i] - pred[i])**2\n",
    "    \n",
    "    return error / len(pred)"
   ]
  },
  {
   "cell_type": "code",
   "execution_count": null,
   "id": "faf25fea-771f-4c5d-9394-e70cccd024a7",
   "metadata": {},
   "outputs": [],
   "source": [
    "import torch.nn as nn"
   ]
  },
  {
   "cell_type": "code",
   "execution_count": null,
   "id": "ca75e24f-fc0b-4309-b0ff-fad58eee50fa",
   "metadata": {},
   "outputs": [],
   "source": [
    "class DotProduct(nn.Module):\n",
    "    def forward(self, x):\n",
    "        users = self.user_factors(x)\n",
    "        movies = self.movie_factors(x)\n",
    "        \n",
    "        return (users * movies).sum(-1)"
   ]
  },
  {
   "cell_type": "code",
   "execution_count": null,
   "id": "29b93e44-27d2-4ef9-9ba6-36f627322f2d",
   "metadata": {},
   "outputs": [],
   "source": [
    "x_new[None, :]"
   ]
  },
  {
   "cell_type": "code",
   "execution_count": null,
   "id": "6eb62035-718b-44f0-995b-51150ddea4a5",
   "metadata": {},
   "outputs": [],
   "source": [
    "class _BatchNorm(nn.Module):\n",
    "    def __init__(self, mom, eps):\n",
    "        self.mom, self.eps = mom, eps\n",
    "        self.mults = nn.Parameter(torch.ones(1))\n",
    "        self.adds = nn.Parameter(torch.zeros(1))\n",
    "        self.register_buffer('mean', torch.zeros(1))\n",
    "        self.register_buffer('var', torch.ones(1))\n",
    "        \n",
    "    def update_stats(self, x):\n",
    "        m, v = x.mean(), x.var()\n",
    "        self.mean.lerp_(m, self.mom)\n",
    "        self.var.lerp_(v, self.mom)\n",
    "        return m, v\n",
    "    \n",
    "    def forward(self, x):\n",
    "        with torch.no_grad:\n",
    "            m, v = self.update_stats(x)\n",
    "        \n",
    "        # normlaize\n",
    "        x = (x - m) / (v + self.eps)\n",
    "        x = x * self.mults + self.adds\n",
    "        return x"
   ]
  },
  {
   "cell_type": "code",
   "execution_count": null,
   "id": "c1d6b833-8a36-45e1-b92d-35cb1a9ed2f7",
   "metadata": {},
   "outputs": [],
   "source": [
    "class Lambda(nn.Module):\n",
    "    def __init__(self, func):\n",
    "        super().__init__()\n",
    "        self.func = func\n",
    "    \n",
    "    def forward(self, x):\n",
    "        return self.func(x)"
   ]
  },
  {
   "cell_type": "code",
   "execution_count": null,
   "id": "beb4dcc6-01d6-4677-b8e2-4ea2eba1e553",
   "metadata": {},
   "outputs": [],
   "source": [
    "def mnist_resize(x):\n",
    "    return x.view(-1, 1, 28, 28)"
   ]
  },
  {
   "cell_type": "code",
   "execution_count": null,
   "id": "d55435c9-9ea3-4eb1-b1c8-06c27ddadbe5",
   "metadata": {},
   "outputs": [],
   "source": [
    "def grandparent_splitter(path, valid_name, train_name):\n",
    "    parent_name = path.parent.parent.name\n",
    "    \n",
    "    return True if parent_name == valid_name else False if parent_name == train_name else None"
   ]
  },
  {
   "cell_type": "code",
   "execution_count": null,
   "id": "125c3533-428d-4af9-995d-3e2466067914",
   "metadata": {},
   "outputs": [],
   "source": [
    "def _to_numpy(x):\n",
    "    x = x.detach().cpu().numpy()\n",
    "    x = x.permute(1, 2, 0)\n",
    "    return x"
   ]
  },
  {
   "cell_type": "markdown",
   "id": "d8ad9d54-8e21-40ef-bccf-b1058aa88965",
   "metadata": {},
   "source": [
    "### Python"
   ]
  },
  {
   "cell_type": "code",
   "execution_count": null,
   "id": "a528883a-b2b7-4be1-8985-bc289926cc95",
   "metadata": {},
   "outputs": [],
   "source": [
    "from dataclasses import dataclass"
   ]
  },
  {
   "cell_type": "code",
   "execution_count": null,
   "id": "fa25a936-aaf2-491f-8243-4e6f70c56054",
   "metadata": {},
   "outputs": [],
   "source": [
    "@dataclass\n",
    "class Money:\n",
    "    currency: str\n",
    "    value: int"
   ]
  },
  {
   "cell_type": "code",
   "execution_count": null,
   "id": "f053a2b2-28ec-488c-b976-2f389a40ca66",
   "metadata": {},
   "outputs": [],
   "source": [
    "class Person:\n",
    "    def __init__(self, name):\n",
    "        self.name = name"
   ]
  },
  {
   "cell_type": "code",
   "execution_count": null,
   "id": "d05dc1f5-98dd-4e91-a08b-d0f078121d1c",
   "metadata": {},
   "outputs": [],
   "source": [
    "from typing import Optional"
   ]
  },
  {
   "cell_type": "code",
   "execution_count": null,
   "id": "f0821f3a-0bc6-4d06-b7bd-01995edec8e7",
   "metadata": {},
   "outputs": [],
   "source": [
    "def create_a_paper(color: Optional[str]) -> Optional[str]:\n",
    "    return color"
   ]
  },
  {
   "cell_type": "code",
   "execution_count": null,
   "id": "bcc48524-8033-4c31-927e-e55d0149b757",
   "metadata": {},
   "outputs": [],
   "source": [
    "from typing import NewType"
   ]
  },
  {
   "cell_type": "code",
   "execution_count": null,
   "id": "cde717c0-efeb-4463-bc85-d97716b506c8",
   "metadata": {},
   "outputs": [],
   "source": [
    "ID = NewType(\"ID\", int)"
   ]
  },
  {
   "cell_type": "code",
   "execution_count": null,
   "id": "7ae2b2c2-aa94-4c67-b693-07d68c87c3c6",
   "metadata": {},
   "outputs": [],
   "source": [
    "Color = NewType(\"Color\", str)"
   ]
  },
  {
   "cell_type": "code",
   "execution_count": null,
   "id": "39ae44fa-e521-42f0-873a-a871674296d6",
   "metadata": {},
   "outputs": [],
   "source": [
    "class Batch:\n",
    "    def __init__(self, package_id: ID, package_color: Color):\n",
    "        self.package_id = package_id\n",
    "        self.package_color = package_color"
   ]
  },
  {
   "cell_type": "code",
   "execution_count": null,
   "id": "d663874f-f02e-4dc9-b22f-09a98ce1fbe2",
   "metadata": {},
   "outputs": [],
   "source": [
    "class PersonBuilder:\n",
    "    def __init__(self):\n",
    "        self.person = Person()\n",
    "    \n",
    "    @property\n",
    "    def lives(self):\n",
    "        return PersonAddressBuilder(self.person)"
   ]
  },
  {
   "cell_type": "code",
   "execution_count": null,
   "id": "d5a4164f-9ffd-4a45-96fa-9355206195cc",
   "metadata": {},
   "outputs": [],
   "source": [
    "class PersonAddressBuilder(PersonBuilder):\n",
    "    def __init__(self, person):\n",
    "        self.person = person\n",
    "    \n",
    "    def in_city(self, city):\n",
    "        self.person.city = city\n",
    "        return self\n",
    "    \n",
    "    def with_postcode(self, postcode):\n",
    "        self.person.postcode = postcode\n",
    "        return self"
   ]
  },
  {
   "cell_type": "code",
   "execution_count": null,
   "id": "41b00e60-aec5-474d-a7a4-51c22beaf802",
   "metadata": {},
   "outputs": [],
   "source": [
    "from enum import Enum, auto"
   ]
  },
  {
   "cell_type": "code",
   "execution_count": null,
   "id": "1f40823e-cfb8-4f93-a4df-6d3d54a0dadc",
   "metadata": {},
   "outputs": [],
   "source": [
    "from dataclasses import dataclass"
   ]
  },
  {
   "cell_type": "code",
   "execution_count": null,
   "id": "e01296b4-e89a-4a39-aaab-5bc37869b577",
   "metadata": {},
   "outputs": [],
   "source": [
    "from typing import List, Set"
   ]
  },
  {
   "cell_type": "code",
   "execution_count": null,
   "id": "70e21bdf-de5d-410f-b175-ea63004808dc",
   "metadata": {},
   "outputs": [],
   "source": [
    "class ImperialMeasure(Enum):\n",
    "    CUP = auto()\n",
    "    TEASPOON = auto()"
   ]
  },
  {
   "cell_type": "code",
   "execution_count": null,
   "id": "36d5e934-9b28-4883-945a-01c2670a4a1c",
   "metadata": {},
   "outputs": [],
   "source": [
    "@dataclass\n",
    "class Ingredient:\n",
    "    name: str\n",
    "    amount: float\n",
    "    units: ImperialMeasure"
   ]
  },
  {
   "cell_type": "code",
   "execution_count": null,
   "id": "c22380c0-7ffb-4624-8cd9-c248e44314bb",
   "metadata": {},
   "outputs": [],
   "source": [
    "@dataclass\n",
    "class Recipe:\n",
    "    meats: Set[Ingredient]\n",
    "    starches: Set[Ingredient]"
   ]
  },
  {
   "cell_type": "code",
   "execution_count": null,
   "id": "97703e9a-7af5-47c2-ba87-4c7102342e8e",
   "metadata": {},
   "outputs": [],
   "source": [
    "from enum import IntEnum"
   ]
  },
  {
   "cell_type": "code",
   "execution_count": null,
   "id": "572b82b0-c243-435c-99cd-533fcfd48019",
   "metadata": {},
   "outputs": [],
   "source": [
    "class LiquidMeasure(IntEnum):\n",
    "    CUP: int = 8"
   ]
  },
  {
   "cell_type": "code",
   "execution_count": null,
   "id": "104aa94f-cb17-48d3-9f85-56ccfd95d582",
   "metadata": {},
   "outputs": [],
   "source": [
    "from typing import Protocol"
   ]
  },
  {
   "cell_type": "code",
   "execution_count": null,
   "id": "a8ea8d6f-df4e-4909-b9ae-f8c4e029ea08",
   "metadata": {},
   "outputs": [],
   "source": [
    "class SupportLessThan(Protocol):\n",
    "    def __lt__(self): pass"
   ]
  },
  {
   "cell_type": "code",
   "execution_count": null,
   "id": "a4430f42-d0dc-4575-a09f-62c79aec8e82",
   "metadata": {},
   "outputs": [],
   "source": [
    "from typing import TYPE_CHECKING"
   ]
  },
  {
   "cell_type": "code",
   "execution_count": null,
   "id": "944d6f49-0055-47ec-b259-da30cdfeebb3",
   "metadata": {},
   "outputs": [],
   "source": [
    "from typing import overload"
   ]
  },
  {
   "cell_type": "code",
   "execution_count": null,
   "id": "ef732e3a-5aac-49a8-ad96-73e7a8100570",
   "metadata": {},
   "outputs": [],
   "source": [
    "@overload\n",
    "def getitem(x: str) -> str: pass"
   ]
  },
  {
   "cell_type": "code",
   "execution_count": null,
   "id": "e9a6779c-b883-4b38-aa33-26bcdb46450d",
   "metadata": {},
   "outputs": [],
   "source": [
    "@overload\n",
    "def getitem(x: List[int]) -> int: pass"
   ]
  },
  {
   "cell_type": "code",
   "execution_count": null,
   "id": "c418e0cd-c461-4c88-88ba-d941d8ba78e3",
   "metadata": {},
   "outputs": [],
   "source": [
    "from typing import NoReturn"
   ]
  },
  {
   "cell_type": "code",
   "execution_count": null,
   "id": "f65367a7-56f2-4565-b30c-2c5c700cf37b",
   "metadata": {},
   "outputs": [],
   "source": [
    "def exit() -> NoReturn: pass"
   ]
  },
  {
   "cell_type": "markdown",
   "id": "1becf895-2ee2-42a2-9775-f198dbffd46a",
   "metadata": {},
   "source": [
    "### bash"
   ]
  },
  {
   "cell_type": "code",
   "execution_count": null,
   "id": "c4fb13d8-7fc3-4302-9ffc-b4c80fa367cb",
   "metadata": {},
   "outputs": [],
   "source": [
    "echo {1..10}"
   ]
  },
  {
   "cell_type": "code",
   "execution_count": null,
   "id": "94134c53-fd01-49df-ad10-f93cb87dd336",
   "metadata": {},
   "outputs": [],
   "source": [
    "cp foo.js ./new/hello.js"
   ]
  },
  {
   "cell_type": "code",
   "execution_count": null,
   "id": "c7ec4c73-56ee-4dc9-a7f6-ba2c7bc06fb9",
   "metadata": {},
   "outputs": [],
   "source": [
    "echo {id:3}"
   ]
  },
  {
   "cell_type": "code",
   "execution_count": null,
   "id": "17eb231e-6904-4735-801c-ca807fd06c8d",
   "metadata": {},
   "outputs": [],
   "source": [
    "cd ~"
   ]
  },
  {
   "cell_type": "code",
   "execution_count": null,
   "id": "0ffdec59-faa3-4974-9d63-1edecdef942d",
   "metadata": {},
   "outputs": [],
   "source": [
    "dr--"
   ]
  },
  {
   "cell_type": "code",
   "execution_count": null,
   "id": "e99f251c-02ca-480b-8cea-95cbde1d613a",
   "metadata": {},
   "outputs": [],
   "source": [
    "grep hello x.txt"
   ]
  },
  {
   "cell_type": "code",
   "execution_count": null,
   "id": "84fbcb83-82b3-49ed-80b4-02cd0a6f3545",
   "metadata": {},
   "outputs": [],
   "source": [
    "cat foo{,1,2,3}"
   ]
  },
  {
   "cell_type": "code",
   "execution_count": null,
   "id": "0d14ed23-5b30-40fe-9f61-99c096c610a5",
   "metadata": {},
   "outputs": [],
   "source": [
    "echo \"The value is ${foo}\""
   ]
  },
  {
   "cell_type": "code",
   "execution_count": null,
   "id": "d7583a26-b64c-416e-86db-2bcc238197c0",
   "metadata": {},
   "outputs": [],
   "source": [
    "K && F"
   ]
  },
  {
   "cell_type": "code",
   "execution_count": null,
   "id": "9fe12614-fe55-44a2-96ef-093611d96af5",
   "metadata": {},
   "outputs": [],
   "source": [
    "T || R"
   ]
  },
  {
   "cell_type": "code",
   "execution_count": null,
   "id": "6d7793bd-9854-4f79-8d14-0c11adafc564",
   "metadata": {},
   "outputs": [],
   "source": [
    "foo=$(pwd)"
   ]
  },
  {
   "cell_type": "markdown",
   "id": "2491d2b9-d93b-4e31-a1c5-84c6f734d6c0",
   "metadata": {},
   "source": [
    "### fastcore"
   ]
  },
  {
   "cell_type": "code",
   "execution_count": null,
   "id": "6c385dae-a75f-40f3-86bc-44892fc59c6f",
   "metadata": {},
   "outputs": [],
   "source": [
    "from fastcore.foundation import *"
   ]
  },
  {
   "cell_type": "code",
   "execution_count": null,
   "id": "8aaa7f82-97d9-49e5-9592-b4cc1d21811a",
   "metadata": {},
   "outputs": [],
   "source": [
    "L(m).map(square)"
   ]
  },
  {
   "cell_type": "code",
   "execution_count": null,
   "id": "04f93eb4-b626-45ca-a320-c51af59398ef",
   "metadata": {},
   "outputs": [],
   "source": [
    "docker builf -f myapp:0.01 /home"
   ]
  },
  {
   "cell_type": "markdown",
   "id": "f631800e-6164-4ee1-970e-2454fdb571eb",
   "metadata": {},
   "source": [
    "### CI/CD"
   ]
  },
  {
   "cell_type": "code",
   "execution_count": null,
   "id": "a779b47b-2c9b-4b43-9015-83775ac7ea2d",
   "metadata": {},
   "outputs": [],
   "source": [
    "stable_diffusion:\n",
    "    - text_to_image: clip\n",
    "      parameters: latent space\n",
    "image_multiclass: None"
   ]
  },
  {
   "cell_type": "code",
   "execution_count": null,
   "id": "96f7321c-de37-4dcb-b2d5-ad4c3309f534",
   "metadata": {},
   "outputs": [],
   "source": [
    "docker build -t myapp ./"
   ]
  },
  {
   "cell_type": "markdown",
   "id": "3793ab93-e288-419f-b13a-ce6e8767e574",
   "metadata": {},
   "source": [
    "### SQL"
   ]
  },
  {
   "cell_type": "code",
   "execution_count": null,
   "id": "699fee24-53b1-4356-9d9c-6dcd000104d4",
   "metadata": {},
   "outputs": [],
   "source": [
    "SELECT * FROM files WHERE status='DELETED '"
   ]
  },
  {
   "cell_type": "markdown",
   "id": "4db71629-ae5c-4cbe-aa18-ba619bf04d36",
   "metadata": {},
   "source": [
    "SELECT users.name, likes.like FROM users OUTER JOIN likes ON users.id = likes.user_id"
   ]
  },
  {
   "cell_type": "code",
   "execution_count": null,
   "id": "d63b801b-ecb3-49a0-bd84-8ab1452075ac",
   "metadata": {},
   "outputs": [],
   "source": [
    "SELECT city FROM Customers\n",
    "\n",
    "UNION\n",
    "\n",
    "SELECT city FROM Suppliers"
   ]
  },
  {
   "cell_type": "code",
   "execution_count": null,
   "id": "30f29c9f-4b49-48a1-b0da-d944bcbab61f",
   "metadata": {},
   "outputs": [],
   "source": []
  }
 ],
 "metadata": {
  "kernelspec": {
   "display_name": "Python 3 (ipykernel)",
   "language": "python",
   "name": "python3"
  }
 },
 "nbformat": 4,
 "nbformat_minor": 5
}
