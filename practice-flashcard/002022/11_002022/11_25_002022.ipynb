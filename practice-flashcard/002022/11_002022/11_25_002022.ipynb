{
 "cells": [
  {
   "cell_type": "markdown",
   "id": "8676ccee-2489-41e9-a5f4-0e1da0af58b9",
   "metadata": {},
   "source": [
    "### Deep Learning"
   ]
  },
  {
   "cell_type": "code",
   "execution_count": null,
   "id": "d7f69153-4a04-4ae9-968d-ab28b94a0e24",
   "metadata": {},
   "outputs": [],
   "source": [
    "3-2+1 = 2 x 2"
   ]
  },
  {
   "cell_type": "code",
   "execution_count": null,
   "id": "5303073a-90b2-4ad7-b8a0-52b4b9e922a3",
   "metadata": {},
   "outputs": [],
   "source": [
    "import torch.nn as nn"
   ]
  },
  {
   "cell_type": "code",
   "execution_count": null,
   "id": "7f2fdb9e-455e-488f-974d-bca4341eeac9",
   "metadata": {},
   "outputs": [
    {
     "ename": "NameError",
     "evalue": "name 'caching' is not defined",
     "output_type": "error",
     "traceback": [
      "\u001b[0;31m---------------------------------------------------------------------------\u001b[0m",
      "\u001b[0;31mNameError\u001b[0m                                 Traceback (most recent call last)",
      "Cell \u001b[0;32mIn [3], line 1\u001b[0m\n\u001b[0;32m----> 1\u001b[0m \u001b[43mcaching\u001b[49m, cocurrency, batching\n",
      "\u001b[0;31mNameError\u001b[0m: name 'caching' is not defined"
     ]
    }
   ],
   "source": [
    "caching, cocurrency, batching"
   ]
  },
  {
   "cell_type": "code",
   "execution_count": null,
   "id": "af5b3bf9-4dba-408b-94ab-879879de0d01",
   "metadata": {},
   "outputs": [],
   "source": [
    "import pytorch_lightning as pl"
   ]
  },
  {
   "cell_type": "code",
   "execution_count": null,
   "id": "7db55e84-ea1b-4fc5-97bb-52ea85155bd4",
   "metadata": {},
   "outputs": [],
   "source": [
    "import torch.optim as optim"
   ]
  },
  {
   "cell_type": "code",
   "execution_count": null,
   "id": "a7900fd1-04ae-4454-9900-6b42b809ddd3",
   "metadata": {},
   "outputs": [
    {
     "ename": "NameError",
     "evalue": "name 'pl' is not defined",
     "output_type": "error",
     "traceback": [
      "\u001b[0;31m---------------------------------------------------------------------------\u001b[0m",
      "\u001b[0;31mNameError\u001b[0m                                 Traceback (most recent call last)",
      "Cell \u001b[0;32mIn [5], line 1\u001b[0m\n\u001b[0;32m----> 1\u001b[0m \u001b[38;5;28;01mclass\u001b[39;00m \u001b[38;5;21;01mLitResNet\u001b[39;00m(\u001b[43mpl\u001b[49m\u001b[38;5;241m.\u001b[39mLightningModule):\n\u001b[1;32m      2\u001b[0m     \u001b[38;5;28;01mdef\u001b[39;00m \u001b[38;5;21m__init__\u001b[39m(\u001b[38;5;28mself\u001b[39m):\n\u001b[1;32m      3\u001b[0m         \u001b[38;5;28mself\u001b[39m\u001b[38;5;241m.\u001b[39mmodel \u001b[38;5;241m=\u001b[39m _model1\n",
      "\u001b[0;31mNameError\u001b[0m: name 'pl' is not defined"
     ]
    }
   ],
   "source": [
    "class LitResNet(pl.LightningModule):\n",
    "    def __init__(self):\n",
    "        self.model = _model1\n",
    "    \n",
    "    def configure_optimizers(self):\n",
    "        optimizier = optim.SGD(self.model.parameters(), lr=1e-2)\n",
    "        return optimizier"
   ]
  },
  {
   "cell_type": "code",
   "execution_count": null,
   "id": "1cfff116-bb68-4198-a4b9-d3b465586449",
   "metadata": {},
   "outputs": [
    {
     "ename": "NameError",
     "evalue": "name 'torch' is not defined",
     "output_type": "error",
     "traceback": [
      "\u001b[0;31m---------------------------------------------------------------------------\u001b[0m",
      "\u001b[0;31mNameError\u001b[0m                                 Traceback (most recent call last)",
      "Cell \u001b[0;32mIn [6], line 1\u001b[0m\n\u001b[0;32m----> 1\u001b[0m noises \u001b[38;5;241m=\u001b[39m \u001b[43mtorch\u001b[49m\u001b[38;5;241m.\u001b[39mrandn(\u001b[38;5;241m1\u001b[39m, height\u001b[38;5;241m/\u001b[39m\u001b[38;5;241m8\u001b[39m, width\u001b[38;5;241m/\u001b[39m\u001b[38;5;241m8\u001b[39m)\n",
      "\u001b[0;31mNameError\u001b[0m: name 'torch' is not defined"
     ]
    }
   ],
   "source": [
    "noises = torch.randn(1, height/8, width/8)"
   ]
  },
  {
   "cell_type": "code",
   "execution_count": null,
   "id": "e2fb8b37-936f-42ac-bc03-293d25de2611",
   "metadata": {},
   "outputs": [],
   "source": [
    "def mean_absolute_error(targ, predicted):\n",
    "    error = 0.\n",
    "    \n",
    "    for i in range(len(targ)):\n",
    "        error += abs(targ[i] - predicted[i])\n",
    "    \n",
    "    return error / len(targ)"
   ]
  },
  {
   "cell_type": "code",
   "execution_count": null,
   "id": "09d25b88-99bc-4447-8097-3ef02e0df433",
   "metadata": {},
   "outputs": [],
   "source": [
    "flatten = nn.Flatten(start_dim=2, end_dim=3)"
   ]
  },
  {
   "cell_type": "code",
   "execution_count": null,
   "id": "a3618065-bc06-4fea-8594-99ddebf4e861",
   "metadata": {},
   "outputs": [],
   "source": [
    "class ConvNet2(nn.Module):\n",
    "    def __init__(self):\n",
    "        super().__init__()\n",
    "        self.model = nn.Sequential(\n",
    "            nn.Conv2d(in_channels=3, out_channels=6, kernel_size=5),\n",
    "            nn.ReLU(),\n",
    "            # nn.MaxPool2d(kernel_size=2),\n",
    "            # nn.Conv2d(in_channels=6, out_channels=16, kernel_size=5),\n",
    "            # nn.ReLU(),\n",
    "            # nn.MaxPool2d(kernel_size=2),\n",
    "            # nn.Flatten(start_dim=1, end_dim=3),\n",
    "            # nn.Linear(400, 120), nn.ReLU(),\n",
    "            # nn.Linear(120, 84), nn.ReLU(),\n",
    "            # nn.Linear(84, 10), nn.Softmax(dim=-1)\n",
    "        )\n",
    "    \n",
    "    def forward(self, x):\n",
    "        return self.model(x)"
   ]
  },
  {
   "cell_type": "code",
   "execution_count": null,
   "id": "3fdce0ee-4514-4820-a90c-fb83cc22e28c",
   "metadata": {},
   "outputs": [],
   "source": [
    "model = ConvNet2()"
   ]
  },
  {
   "cell_type": "code",
   "execution_count": null,
   "id": "f2068d93-5315-4e86-b2df-3fa7833f0d97",
   "metadata": {},
   "outputs": [],
   "source": [
    "from torchsummary import summary"
   ]
  },
  {
   "cell_type": "code",
   "execution_count": null,
   "id": "e7221f3a-8105-4981-9538-5f54e97005c5",
   "metadata": {},
   "outputs": [
    {
     "ename": "RuntimeError",
     "evalue": "Expected 3D (unbatched) or 4D (batched) input to conv2d, but got input of size: [2, 4, 3, 32, 32]",
     "output_type": "error",
     "traceback": [
      "\u001b[0;31m---------------------------------------------------------------------------\u001b[0m",
      "\u001b[0;31mRuntimeError\u001b[0m                              Traceback (most recent call last)",
      "Cell \u001b[0;32mIn [53], line 1\u001b[0m\n\u001b[0;32m----> 1\u001b[0m \u001b[43msummary\u001b[49m\u001b[43m(\u001b[49m\u001b[43mmodel\u001b[49m\u001b[43m,\u001b[49m\u001b[43m \u001b[49m\u001b[43m(\u001b[49m\u001b[38;5;241;43m4\u001b[39;49m\u001b[43m,\u001b[49m\u001b[43m \u001b[49m\u001b[38;5;241;43m3\u001b[39;49m\u001b[43m,\u001b[49m\u001b[43m \u001b[49m\u001b[38;5;241;43m32\u001b[39;49m\u001b[43m,\u001b[49m\u001b[43m \u001b[49m\u001b[38;5;241;43m32\u001b[39;49m\u001b[43m)\u001b[49m\u001b[43m)\u001b[49m\n",
      "File \u001b[0;32m/opt/homebrew/lib/python3.10/site-packages/torchsummary/torchsummary.py:72\u001b[0m, in \u001b[0;36msummary\u001b[0;34m(model, input_size, batch_size, device)\u001b[0m\n\u001b[1;32m     68\u001b[0m model\u001b[38;5;241m.\u001b[39mapply(register_hook)\n\u001b[1;32m     70\u001b[0m \u001b[38;5;66;03m# make a forward pass\u001b[39;00m\n\u001b[1;32m     71\u001b[0m \u001b[38;5;66;03m# print(x.shape)\u001b[39;00m\n\u001b[0;32m---> 72\u001b[0m \u001b[43mmodel\u001b[49m\u001b[43m(\u001b[49m\u001b[38;5;241;43m*\u001b[39;49m\u001b[43mx\u001b[49m\u001b[43m)\u001b[49m\n\u001b[1;32m     74\u001b[0m \u001b[38;5;66;03m# remove these hooks\u001b[39;00m\n\u001b[1;32m     75\u001b[0m \u001b[38;5;28;01mfor\u001b[39;00m h \u001b[38;5;129;01min\u001b[39;00m hooks:\n",
      "File \u001b[0;32m/opt/homebrew/lib/python3.10/site-packages/torch/nn/modules/module.py:1190\u001b[0m, in \u001b[0;36mModule._call_impl\u001b[0;34m(self, *input, **kwargs)\u001b[0m\n\u001b[1;32m   1186\u001b[0m \u001b[38;5;66;03m# If we don't have any hooks, we want to skip the rest of the logic in\u001b[39;00m\n\u001b[1;32m   1187\u001b[0m \u001b[38;5;66;03m# this function, and just call forward.\u001b[39;00m\n\u001b[1;32m   1188\u001b[0m \u001b[38;5;28;01mif\u001b[39;00m \u001b[38;5;129;01mnot\u001b[39;00m (\u001b[38;5;28mself\u001b[39m\u001b[38;5;241m.\u001b[39m_backward_hooks \u001b[38;5;129;01mor\u001b[39;00m \u001b[38;5;28mself\u001b[39m\u001b[38;5;241m.\u001b[39m_forward_hooks \u001b[38;5;129;01mor\u001b[39;00m \u001b[38;5;28mself\u001b[39m\u001b[38;5;241m.\u001b[39m_forward_pre_hooks \u001b[38;5;129;01mor\u001b[39;00m _global_backward_hooks\n\u001b[1;32m   1189\u001b[0m         \u001b[38;5;129;01mor\u001b[39;00m _global_forward_hooks \u001b[38;5;129;01mor\u001b[39;00m _global_forward_pre_hooks):\n\u001b[0;32m-> 1190\u001b[0m     \u001b[38;5;28;01mreturn\u001b[39;00m \u001b[43mforward_call\u001b[49m\u001b[43m(\u001b[49m\u001b[38;5;241;43m*\u001b[39;49m\u001b[38;5;28;43minput\u001b[39;49m\u001b[43m,\u001b[49m\u001b[43m \u001b[49m\u001b[38;5;241;43m*\u001b[39;49m\u001b[38;5;241;43m*\u001b[39;49m\u001b[43mkwargs\u001b[49m\u001b[43m)\u001b[49m\n\u001b[1;32m   1191\u001b[0m \u001b[38;5;66;03m# Do not call functions when jit is used\u001b[39;00m\n\u001b[1;32m   1192\u001b[0m full_backward_hooks, non_full_backward_hooks \u001b[38;5;241m=\u001b[39m [], []\n",
      "Cell \u001b[0;32mIn [50], line 18\u001b[0m, in \u001b[0;36mConvNet2.forward\u001b[0;34m(self, x)\u001b[0m\n\u001b[1;32m     17\u001b[0m \u001b[38;5;28;01mdef\u001b[39;00m \u001b[38;5;21mforward\u001b[39m(\u001b[38;5;28mself\u001b[39m, x):\n\u001b[0;32m---> 18\u001b[0m     \u001b[38;5;28;01mreturn\u001b[39;00m \u001b[38;5;28;43mself\u001b[39;49m\u001b[38;5;241;43m.\u001b[39;49m\u001b[43mmodel\u001b[49m\u001b[43m(\u001b[49m\u001b[43mx\u001b[49m\u001b[43m)\u001b[49m\n",
      "File \u001b[0;32m/opt/homebrew/lib/python3.10/site-packages/torch/nn/modules/module.py:1190\u001b[0m, in \u001b[0;36mModule._call_impl\u001b[0;34m(self, *input, **kwargs)\u001b[0m\n\u001b[1;32m   1186\u001b[0m \u001b[38;5;66;03m# If we don't have any hooks, we want to skip the rest of the logic in\u001b[39;00m\n\u001b[1;32m   1187\u001b[0m \u001b[38;5;66;03m# this function, and just call forward.\u001b[39;00m\n\u001b[1;32m   1188\u001b[0m \u001b[38;5;28;01mif\u001b[39;00m \u001b[38;5;129;01mnot\u001b[39;00m (\u001b[38;5;28mself\u001b[39m\u001b[38;5;241m.\u001b[39m_backward_hooks \u001b[38;5;129;01mor\u001b[39;00m \u001b[38;5;28mself\u001b[39m\u001b[38;5;241m.\u001b[39m_forward_hooks \u001b[38;5;129;01mor\u001b[39;00m \u001b[38;5;28mself\u001b[39m\u001b[38;5;241m.\u001b[39m_forward_pre_hooks \u001b[38;5;129;01mor\u001b[39;00m _global_backward_hooks\n\u001b[1;32m   1189\u001b[0m         \u001b[38;5;129;01mor\u001b[39;00m _global_forward_hooks \u001b[38;5;129;01mor\u001b[39;00m _global_forward_pre_hooks):\n\u001b[0;32m-> 1190\u001b[0m     \u001b[38;5;28;01mreturn\u001b[39;00m \u001b[43mforward_call\u001b[49m\u001b[43m(\u001b[49m\u001b[38;5;241;43m*\u001b[39;49m\u001b[38;5;28;43minput\u001b[39;49m\u001b[43m,\u001b[49m\u001b[43m \u001b[49m\u001b[38;5;241;43m*\u001b[39;49m\u001b[38;5;241;43m*\u001b[39;49m\u001b[43mkwargs\u001b[49m\u001b[43m)\u001b[49m\n\u001b[1;32m   1191\u001b[0m \u001b[38;5;66;03m# Do not call functions when jit is used\u001b[39;00m\n\u001b[1;32m   1192\u001b[0m full_backward_hooks, non_full_backward_hooks \u001b[38;5;241m=\u001b[39m [], []\n",
      "File \u001b[0;32m/opt/homebrew/lib/python3.10/site-packages/torch/nn/modules/container.py:204\u001b[0m, in \u001b[0;36mSequential.forward\u001b[0;34m(self, input)\u001b[0m\n\u001b[1;32m    202\u001b[0m \u001b[38;5;28;01mdef\u001b[39;00m \u001b[38;5;21mforward\u001b[39m(\u001b[38;5;28mself\u001b[39m, \u001b[38;5;28minput\u001b[39m):\n\u001b[1;32m    203\u001b[0m     \u001b[38;5;28;01mfor\u001b[39;00m module \u001b[38;5;129;01min\u001b[39;00m \u001b[38;5;28mself\u001b[39m:\n\u001b[0;32m--> 204\u001b[0m         \u001b[38;5;28minput\u001b[39m \u001b[38;5;241m=\u001b[39m \u001b[43mmodule\u001b[49m\u001b[43m(\u001b[49m\u001b[38;5;28;43minput\u001b[39;49m\u001b[43m)\u001b[49m\n\u001b[1;32m    205\u001b[0m     \u001b[38;5;28;01mreturn\u001b[39;00m \u001b[38;5;28minput\u001b[39m\n",
      "File \u001b[0;32m/opt/homebrew/lib/python3.10/site-packages/torch/nn/modules/module.py:1208\u001b[0m, in \u001b[0;36mModule._call_impl\u001b[0;34m(self, *input, **kwargs)\u001b[0m\n\u001b[1;32m   1205\u001b[0m     bw_hook \u001b[38;5;241m=\u001b[39m hooks\u001b[38;5;241m.\u001b[39mBackwardHook(\u001b[38;5;28mself\u001b[39m, full_backward_hooks)\n\u001b[1;32m   1206\u001b[0m     \u001b[38;5;28minput\u001b[39m \u001b[38;5;241m=\u001b[39m bw_hook\u001b[38;5;241m.\u001b[39msetup_input_hook(\u001b[38;5;28minput\u001b[39m)\n\u001b[0;32m-> 1208\u001b[0m result \u001b[38;5;241m=\u001b[39m \u001b[43mforward_call\u001b[49m\u001b[43m(\u001b[49m\u001b[38;5;241;43m*\u001b[39;49m\u001b[38;5;28;43minput\u001b[39;49m\u001b[43m,\u001b[49m\u001b[43m \u001b[49m\u001b[38;5;241;43m*\u001b[39;49m\u001b[38;5;241;43m*\u001b[39;49m\u001b[43mkwargs\u001b[49m\u001b[43m)\u001b[49m\n\u001b[1;32m   1209\u001b[0m \u001b[38;5;28;01mif\u001b[39;00m _global_forward_hooks \u001b[38;5;129;01mor\u001b[39;00m \u001b[38;5;28mself\u001b[39m\u001b[38;5;241m.\u001b[39m_forward_hooks:\n\u001b[1;32m   1210\u001b[0m     \u001b[38;5;28;01mfor\u001b[39;00m hook \u001b[38;5;129;01min\u001b[39;00m (\u001b[38;5;241m*\u001b[39m_global_forward_hooks\u001b[38;5;241m.\u001b[39mvalues(), \u001b[38;5;241m*\u001b[39m\u001b[38;5;28mself\u001b[39m\u001b[38;5;241m.\u001b[39m_forward_hooks\u001b[38;5;241m.\u001b[39mvalues()):\n",
      "File \u001b[0;32m/opt/homebrew/lib/python3.10/site-packages/torch/nn/modules/conv.py:463\u001b[0m, in \u001b[0;36mConv2d.forward\u001b[0;34m(self, input)\u001b[0m\n\u001b[1;32m    462\u001b[0m \u001b[38;5;28;01mdef\u001b[39;00m \u001b[38;5;21mforward\u001b[39m(\u001b[38;5;28mself\u001b[39m, \u001b[38;5;28minput\u001b[39m: Tensor) \u001b[38;5;241m-\u001b[39m\u001b[38;5;241m>\u001b[39m Tensor:\n\u001b[0;32m--> 463\u001b[0m     \u001b[38;5;28;01mreturn\u001b[39;00m \u001b[38;5;28;43mself\u001b[39;49m\u001b[38;5;241;43m.\u001b[39;49m\u001b[43m_conv_forward\u001b[49m\u001b[43m(\u001b[49m\u001b[38;5;28;43minput\u001b[39;49m\u001b[43m,\u001b[49m\u001b[43m \u001b[49m\u001b[38;5;28;43mself\u001b[39;49m\u001b[38;5;241;43m.\u001b[39;49m\u001b[43mweight\u001b[49m\u001b[43m,\u001b[49m\u001b[43m \u001b[49m\u001b[38;5;28;43mself\u001b[39;49m\u001b[38;5;241;43m.\u001b[39;49m\u001b[43mbias\u001b[49m\u001b[43m)\u001b[49m\n",
      "File \u001b[0;32m/opt/homebrew/lib/python3.10/site-packages/torch/nn/modules/conv.py:459\u001b[0m, in \u001b[0;36mConv2d._conv_forward\u001b[0;34m(self, input, weight, bias)\u001b[0m\n\u001b[1;32m    455\u001b[0m \u001b[38;5;28;01mif\u001b[39;00m \u001b[38;5;28mself\u001b[39m\u001b[38;5;241m.\u001b[39mpadding_mode \u001b[38;5;241m!=\u001b[39m \u001b[38;5;124m'\u001b[39m\u001b[38;5;124mzeros\u001b[39m\u001b[38;5;124m'\u001b[39m:\n\u001b[1;32m    456\u001b[0m     \u001b[38;5;28;01mreturn\u001b[39;00m F\u001b[38;5;241m.\u001b[39mconv2d(F\u001b[38;5;241m.\u001b[39mpad(\u001b[38;5;28minput\u001b[39m, \u001b[38;5;28mself\u001b[39m\u001b[38;5;241m.\u001b[39m_reversed_padding_repeated_twice, mode\u001b[38;5;241m=\u001b[39m\u001b[38;5;28mself\u001b[39m\u001b[38;5;241m.\u001b[39mpadding_mode),\n\u001b[1;32m    457\u001b[0m                     weight, bias, \u001b[38;5;28mself\u001b[39m\u001b[38;5;241m.\u001b[39mstride,\n\u001b[1;32m    458\u001b[0m                     _pair(\u001b[38;5;241m0\u001b[39m), \u001b[38;5;28mself\u001b[39m\u001b[38;5;241m.\u001b[39mdilation, \u001b[38;5;28mself\u001b[39m\u001b[38;5;241m.\u001b[39mgroups)\n\u001b[0;32m--> 459\u001b[0m \u001b[38;5;28;01mreturn\u001b[39;00m \u001b[43mF\u001b[49m\u001b[38;5;241;43m.\u001b[39;49m\u001b[43mconv2d\u001b[49m\u001b[43m(\u001b[49m\u001b[38;5;28;43minput\u001b[39;49m\u001b[43m,\u001b[49m\u001b[43m \u001b[49m\u001b[43mweight\u001b[49m\u001b[43m,\u001b[49m\u001b[43m \u001b[49m\u001b[43mbias\u001b[49m\u001b[43m,\u001b[49m\u001b[43m \u001b[49m\u001b[38;5;28;43mself\u001b[39;49m\u001b[38;5;241;43m.\u001b[39;49m\u001b[43mstride\u001b[49m\u001b[43m,\u001b[49m\n\u001b[1;32m    460\u001b[0m \u001b[43m                \u001b[49m\u001b[38;5;28;43mself\u001b[39;49m\u001b[38;5;241;43m.\u001b[39;49m\u001b[43mpadding\u001b[49m\u001b[43m,\u001b[49m\u001b[43m \u001b[49m\u001b[38;5;28;43mself\u001b[39;49m\u001b[38;5;241;43m.\u001b[39;49m\u001b[43mdilation\u001b[49m\u001b[43m,\u001b[49m\u001b[43m \u001b[49m\u001b[38;5;28;43mself\u001b[39;49m\u001b[38;5;241;43m.\u001b[39;49m\u001b[43mgroups\u001b[49m\u001b[43m)\u001b[49m\n",
      "\u001b[0;31mRuntimeError\u001b[0m: Expected 3D (unbatched) or 4D (batched) input to conv2d, but got input of size: [2, 4, 3, 32, 32]"
     ]
    }
   ],
   "source": [
    "summary(model, (4, 3, 32, 32))"
   ]
  },
  {
   "cell_type": "code",
   "execution_count": null,
   "id": "327624b5-25b6-4cf8-92e7-d91745557612",
   "metadata": {},
   "outputs": [],
   "source": [
    "16, "
   ]
  },
  {
   "cell_type": "code",
   "execution_count": null,
   "id": "37c663d9-bb87-480c-9c67-37e781434c1a",
   "metadata": {},
   "outputs": [],
   "source": [
    "32 - 5 +1 = 28\n",
    "\n",
    "28 - 5 + 1\n",
    "\n",
    "16, 24, 24"
   ]
  },
  {
   "cell_type": "code",
   "execution_count": null,
   "id": "c243add0-de86-49bb-a1f5-245e389215f4",
   "metadata": {},
   "outputs": [],
   "source": [
    "avg_pool = nn.AdaptiveAvgPool2d((3, 4))"
   ]
  },
  {
   "cell_type": "code",
   "execution_count": null,
   "id": "1329d4b9-5752-4f1b-9c78-5e72d311cd38",
   "metadata": {},
   "outputs": [],
   "source": [
    "[9, 9 5]\n",
    "[9, 9, 5]\n",
    "[8, 6, 9]"
   ]
  },
  {
   "cell_type": "code",
   "execution_count": null,
   "id": "d3d843e5-d4fc-4660-a5bd-6af930361c2f",
   "metadata": {},
   "outputs": [],
   "source": [
    "6,  "
   ]
  },
  {
   "cell_type": "code",
   "execution_count": null,
   "id": "9a21660a-1c2d-4c7d-9c9f-8f0d1441015e",
   "metadata": {},
   "outputs": [],
   "source": [
    "conv = nn.Conv2d(in_channels=3, out_channels=5, kernel_size=3,\n",
    "                 stride=1, padding=1)"
   ]
  },
  {
   "cell_type": "code",
   "execution_count": null,
   "id": "6edf949a-ee4f-4b15-8081-fbe9ebf41e4d",
   "metadata": {},
   "outputs": [],
   "source": [
    "import torch.nn.functional as F"
   ]
  },
  {
   "cell_type": "code",
   "execution_count": null,
   "id": "75044591-7662-4857-86d0-152959fdc3f3",
   "metadata": {},
   "outputs": [],
   "source": [
    "class ResidualBlock(nn.Module):\n",
    "    def __init__(self, in_channels, out_channels, stride, downsample):\n",
    "        super().__init__()\n",
    "        self.downsample = downsample\n",
    "        self.conv1 = nn.Conv2d(\n",
    "            in_channels=3, out_channels=5, kernel_size=3,\n",
    "            stride=1, padding=1\n",
    "        )\n",
    "        self.bn1 = nn.BatchNorm2d(num_features=5)\n",
    "        self.conv2 = nn.Conv2d(\n",
    "            in_channels=5, out_channels=3, kernel_size=3,\n",
    "            stride=1, padding=1\n",
    "        )\n",
    "        self.bn2 = nn.BatchNorm2d(num_features=3)\n",
    "    \n",
    "    def forward(self, x):\n",
    "        residual = x\n",
    "        output = F.relu(self.bn1(self.conv1(x)))\n",
    "        output = self.bn2(self.conv2(output))\n",
    "        \n",
    "        if self.downsample:\n",
    "            residual = self.downsample(residual)\n",
    "        \n",
    "        output += residual\n",
    "        return F.relu(output)"
   ]
  },
  {
   "cell_type": "code",
   "execution_count": null,
   "id": "56870f1b-6e39-4a43-b738-b0f771fc1b1f",
   "metadata": {},
   "outputs": [],
   "source": [
    "import torchvision.transforms as tfms"
   ]
  },
  {
   "cell_type": "code",
   "execution_count": null,
   "id": "b42fc797-d691-4e12-920c-c55ce93f9a6b",
   "metadata": {},
   "outputs": [],
   "source": [
    "transform = tfms.Compose([\n",
    "    tfms.ToTensor(),\n",
    "    tfms.Normalize(0.3, 0.9)\n",
    "])"
   ]
  },
  {
   "cell_type": "code",
   "execution_count": null,
   "id": "7ef0746f-6313-49ad-98af-1b40293290a0",
   "metadata": {},
   "outputs": [],
   "source": [
    "import numpy as np"
   ]
  },
  {
   "cell_type": "code",
   "execution_count": null,
   "id": "5fbc8a07-5f49-497e-a55d-130a3914f084",
   "metadata": {},
   "outputs": [],
   "source": [
    "class PositionalEncoding:\n",
    "    def __init__(self, n, d):\n",
    "        self.n, self.d = n, d\n",
    "    \n",
    "    def encode(self, idxs):\n",
    "        n_words = len(idxs)\n",
    "        embeddings = np.zeros((n_words, self.d))\n",
    "        \n",
    "        for p in range(n_words):\n",
    "            for i in range(self.d):\n",
    "                embeddings[p][i] = self.by_sin(p, i) if i % 2 == 0 else self.by_cosin(p, i)\n",
    "        \n",
    "        return embeddings\n",
    "\n",
    "    def by_sin(self, p, i):\n",
    "        denominator = np.power(self.n, 2*i/self.d)\n",
    "        return np.sin(p/denominator)\n",
    "    \n",
    "    def by_cosin(self, p, i):\n",
    "        denominator = np.power(self.n, 2*i/self.d)\n",
    "        return np.cos(p/denominator)"
   ]
  },
  {
   "cell_type": "code",
   "execution_count": null,
   "id": "bd0aa539-9fe0-4936-aaa8-49d1bec8d89d",
   "metadata": {},
   "outputs": [],
   "source": [
    "encoder = PositionalEncoding(n=200, d=5)"
   ]
  },
  {
   "cell_type": "code",
   "execution_count": null,
   "id": "2914e320-7c88-4e43-b65a-bbda85752c51",
   "metadata": {},
   "outputs": [
    {
     "data": {
      "text/plain": [
       "array([[0.00000000e+00, 1.00000000e+00, 0.00000000e+00, 1.00000000e+00,\n",
       "        0.00000000e+00],\n",
       "       [8.41470985e-01, 9.92795169e-01, 1.44264986e-02, 9.99998499e-01,\n",
       "        2.08138300e-04],\n",
       "       [9.09297427e-01, 9.71284494e-01, 2.88499945e-02, 9.99993994e-01,\n",
       "        4.16276592e-04],\n",
       "       [1.41120008e-01, 9.35777938e-01, 4.32674858e-02, 9.99986487e-01,\n",
       "        6.24414865e-04]])"
      ]
     },
     "execution_count": null,
     "metadata": {},
     "output_type": "execute_result"
    }
   ],
   "source": [
    "encoder.encode([0, 1, 2, 3])"
   ]
  },
  {
   "cell_type": "code",
   "execution_count": null,
   "id": "f700f628-62de-49c4-929c-ddfaa243d4ca",
   "metadata": {},
   "outputs": [],
   "source": [
    "def variance(x):\n",
    "    return x.pow(2).mean() - x.mean().pow(2)"
   ]
  },
  {
   "cell_type": "code",
   "execution_count": null,
   "id": "677ffd24-4eb3-4a0a-b8f9-8801f6d5038e",
   "metadata": {},
   "outputs": [],
   "source": [
    "def mae(x):\n",
    "    return (x - x.mean()).abs().mean()"
   ]
  },
  {
   "cell_type": "code",
   "execution_count": null,
   "id": "b5275826-83b2-41c5-8b19-fb19c69a9b43",
   "metadata": {},
   "outputs": [],
   "source": [
    "l1.bias.grad.zero_()"
   ]
  },
  {
   "cell_type": "code",
   "execution_count": null,
   "id": "c563cdfd-b813-4575-bb21-fdcee788caf2",
   "metadata": {},
   "outputs": [],
   "source": [
    "avg_pool = nn.AdaptiveAvgPool2d((3, 4))"
   ]
  },
  {
   "cell_type": "code",
   "execution_count": null,
   "id": "1df09db8-d19a-447c-b277-cb159914c735",
   "metadata": {},
   "outputs": [],
   "source": [
    "def std(x):\n",
    "    variance = (x - x.mean()).pow(2).mean()\n",
    "    return variance.sqrt()"
   ]
  },
  {
   "cell_type": "markdown",
   "id": "b35567d9-db3b-4590-9587-df8453a3e202",
   "metadata": {},
   "source": [
    "### Python"
   ]
  },
  {
   "cell_type": "code",
   "execution_count": null,
   "id": "9d9bf187-ec46-4cb5-8d36-07be4c4ef7c1",
   "metadata": {},
   "outputs": [],
   "source": [
    "from enum import Enum"
   ]
  },
  {
   "cell_type": "code",
   "execution_count": null,
   "id": "55514bcb-71a3-4cfa-8b92-3b39225e439e",
   "metadata": {},
   "outputs": [],
   "source": [
    "class MotherSauce(Enum):\n",
    "    BECHAMEL = \"Behcamel\""
   ]
  },
  {
   "cell_type": "code",
   "execution_count": null,
   "id": "c4dab069-42a8-40a7-8fb7-2bc29288e483",
   "metadata": {},
   "outputs": [],
   "source": [
    "from abc import ABC, abstractclassmethod"
   ]
  },
  {
   "cell_type": "code",
   "execution_count": null,
   "id": "21df5c85-9170-41f0-ad4f-a1bd6ad8d814",
   "metadata": {},
   "outputs": [],
   "source": [
    "class Expense(ABC):\n",
    "    def __init__(self, amount):\n",
    "        self.amount = amount\n",
    "    \n",
    "    @abstractclassmethod\n",
    "    def is_meal(self): pass"
   ]
  },
  {
   "cell_type": "code",
   "execution_count": null,
   "id": "66fdd432-96ca-4c60-ad30-2ab0fb56899e",
   "metadata": {},
   "outputs": [],
   "source": [
    "class DinnerExpense(Expense):\n",
    "    def is_meal(self): return True"
   ]
  },
  {
   "cell_type": "code",
   "execution_count": null,
   "id": "00a0e67b-7bcd-4d90-8a24-2d00873ce936",
   "metadata": {},
   "outputs": [],
   "source": [
    "class CarRentalExpense(Expense):\n",
    "    def is_meal(self): return False"
   ]
  },
  {
   "cell_type": "code",
   "execution_count": null,
   "id": "6d6e5218-6f2b-4c25-9390-3f6b77fea793",
   "metadata": {},
   "outputs": [],
   "source": [
    "class BreakfastExpense(Expense):\n",
    "    def is_meal(self): return False"
   ]
  },
  {
   "cell_type": "code",
   "execution_count": null,
   "id": "f0ea484f-80a6-468b-a467-6478b7757edc",
   "metadata": {},
   "outputs": [],
   "source": [
    "class ExpenseNamer:\n",
    "    def get_name(self, expense):\n",
    "        if isinstance(expense, DinnerExpense):\n",
    "            return 'Dinner'\n",
    "        elif isinstance(expense, CarRentalExpense):\n",
    "            return \"Car Rental\"\n",
    "        elif isinstance(expense, BreakfastExpense):\n",
    "            return \"Breakfast\""
   ]
  },
  {
   "cell_type": "code",
   "execution_count": null,
   "id": "337bd809-1a54-4baa-80ba-177a755a529e",
   "metadata": {},
   "outputs": [],
   "source": [
    "class ExpenseReport:\n",
    "    def __init__(self, expenses):\n",
    "        self.expenses = expenses\n",
    "    \n",
    "    def sum_to_total(self):\n",
    "        pass"
   ]
  },
  {
   "cell_type": "code",
   "execution_count": null,
   "id": "95be66bf-700f-4ea6-8030-b70d7ace7c4f",
   "metadata": {},
   "outputs": [],
   "source": [
    "class ReportPrinter:\n",
    "    def __init__(self, report):\n",
    "        pass"
   ]
  },
  {
   "cell_type": "code",
   "execution_count": null,
   "id": "f6f8ebba-4a3e-445e-b138-a2383e8052f8",
   "metadata": {},
   "outputs": [],
   "source": [
    "from typing import overload"
   ]
  },
  {
   "cell_type": "code",
   "execution_count": null,
   "id": "249be185-6c0b-4e51-a102-d512514c68ce",
   "metadata": {},
   "outputs": [],
   "source": [
    "@overload\n",
    "def getitem(x: str) -> str: pass"
   ]
  },
  {
   "cell_type": "code",
   "execution_count": null,
   "id": "aaa0f6cc-00a0-47b9-99af-e865eef547b6",
   "metadata": {},
   "outputs": [],
   "source": [
    "@overload\n",
    "def getitem(x: int) -> int: pass"
   ]
  },
  {
   "cell_type": "code",
   "execution_count": null,
   "id": "0c8d28cf-0bd7-4734-b4fd-8407d9231903",
   "metadata": {},
   "outputs": [],
   "source": []
  }
 ],
 "metadata": {
  "kernelspec": {
   "display_name": "Python 3 (ipykernel)",
   "language": "python",
   "name": "python3"
  }
 },
 "nbformat": 4,
 "nbformat_minor": 5
}
