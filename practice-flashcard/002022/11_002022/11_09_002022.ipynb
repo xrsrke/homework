{
 "cells": [
  {
   "cell_type": "markdown",
   "id": "d633ba24-9b82-4cf0-99e2-ef488add76d8",
   "metadata": {},
   "source": [
    "### Deep Learning"
   ]
  },
  {
   "cell_type": "code",
   "execution_count": null,
   "id": "83f8681e-66f6-4af2-a8ca-ee95a79e6c85",
   "metadata": {},
   "outputs": [],
   "source": [
    "import torch"
   ]
  },
  {
   "cell_type": "code",
   "execution_count": null,
   "id": "0ce48712-9f5d-4123-af58-39a306d5c948",
   "metadata": {},
   "outputs": [],
   "source": [
    "import torch.nn as nn"
   ]
  },
  {
   "cell_type": "code",
   "execution_count": null,
   "id": "cb4094ee-84c6-4d91-a704-75f2b23af793",
   "metadata": {},
   "outputs": [],
   "source": [
    "class _Model(nn.Module):\n",
    "    def __init__(self):\n",
    "        super().__init__()\n",
    "        self.register_buff('means', _one_vector)"
   ]
  },
  {
   "cell_type": "code",
   "execution_count": null,
   "id": "640fd413-9c13-401e-bab3-bf68b3b45c0a",
   "metadata": {},
   "outputs": [],
   "source": [
    "validation_step"
   ]
  },
  {
   "cell_type": "code",
   "execution_count": null,
   "id": "ac281b3e-d20e-4a81-b728-2aebcf9d2609",
   "metadata": {},
   "outputs": [],
   "source": [
    "self.layers = nn.ModuleList(*layers)"
   ]
  },
  {
   "cell_type": "code",
   "execution_count": null,
   "id": "b1283a15-bdfa-4e1f-bb49-d372b3ea25bb",
   "metadata": {},
   "outputs": [],
   "source": [
    "torch.from_numpy()"
   ]
  },
  {
   "cell_type": "code",
   "execution_count": null,
   "id": "7f965be5-3ba1-4bdb-866c-7b9992723ae1",
   "metadata": {},
   "outputs": [],
   "source": [
    "weight, code, library dependencies"
   ]
  },
  {
   "cell_type": "code",
   "execution_count": null,
   "id": "ddb279c3-14b2-49c2-89f1-b5af7fc4e559",
   "metadata": {},
   "outputs": [],
   "source": [
    "deploy on edge, model in server, model in db, model as service"
   ]
  },
  {
   "cell_type": "code",
   "execution_count": null,
   "id": "79ee161d-0138-4799-a0b8-91e7fc5471f1",
   "metadata": {},
   "outputs": [],
   "source": [
    "sharing gpu, inference on cpu, quantilization"
   ]
  },
  {
   "cell_type": "code",
   "execution_count": null,
   "id": "d4f1d31f-724e-42a5-be0a-277814f1ab8c",
   "metadata": {},
   "outputs": [],
   "source": [
    "cocurrency, caching, batching"
   ]
  },
  {
   "cell_type": "code",
   "execution_count": null,
   "id": "d61efbb1-28b1-43ed-b3e0-3f68c132032c",
   "metadata": {},
   "outputs": [],
   "source": [
    "class _Model(nn.Module):\n",
    "    def __init__(self):\n",
    "        super().__init__()\n",
    "        self.register_buffer('means', _one_vectors)"
   ]
  },
  {
   "cell_type": "code",
   "execution_count": null,
   "id": "e3428e3c-4b33-4652-ac16-f1df7a3f5f72",
   "metadata": {},
   "outputs": [],
   "source": [
    "def zero_grad(model):\n",
    "    for l in model.layers:\n",
    "        if hasattr(l, 'weight'):\n",
    "            l.weight.grad.zero_()"
   ]
  },
  {
   "cell_type": "code",
   "execution_count": null,
   "id": "78293321-b792-4911-8b70-3f55513a8956",
   "metadata": {},
   "outputs": [],
   "source": [
    "def list_directories(path):\n",
    "    return list(path.iterdir())"
   ]
  },
  {
   "cell_type": "code",
   "execution_count": null,
   "id": "14a3f49e-5044-45cb-9814-123f9afc7075",
   "metadata": {},
   "outputs": [],
   "source": [
    "import os"
   ]
  },
  {
   "cell_type": "code",
   "execution_count": null,
   "id": "579c39e0-91eb-4a26-b8b2-0f8ba2a1d61a",
   "metadata": {},
   "outputs": [],
   "source": [
    "def _show_file_name(path):\n",
    "    return [o for o in os.scandir(path) if not o.startswith('.')]"
   ]
  },
  {
   "cell_type": "code",
   "execution_count": null,
   "id": "bb3c53cf-61c6-496d-894d-0961482becd4",
   "metadata": {},
   "outputs": [],
   "source": [
    "def _show_file_path(path, names):\n",
    "    return [path/name for name in names if not name.startswith('.')]"
   ]
  },
  {
   "cell_type": "code",
   "execution_count": null,
   "id": "d5dbd3b0-f111-49d0-90cc-a6e1884dd8b9",
   "metadata": {},
   "outputs": [],
   "source": [
    "def move_to_gpu(x):\n",
    "    device = torch.device('cuda', 0)\n",
    "    return x.to(device)"
   ]
  },
  {
   "cell_type": "code",
   "execution_count": null,
   "id": "edb989f4-4b21-4717-81aa-c1c7ffb19443",
   "metadata": {},
   "outputs": [],
   "source": [
    "class _BatchNorm(nn.Module):\n",
    "    def __init__(self, mom, eps):\n",
    "        self.mom, self.eps = mom, eps\n",
    "        self.adds = nn.Parameter(torch.zeros(1))\n",
    "        self.mults = nn.Parameter(torch.ones(1))\n",
    "        \n",
    "        self.register_buffer('means', torch.zeros(1))\n",
    "        self.register_buffer('vars', torch.ones(1))\n",
    "        \n",
    "    def update_stats(self, x):\n",
    "        m, v = x.mean(), x.var()\n",
    "        \n",
    "        self.means.lerp_(m, self.mom)\n",
    "        self.vars.lerp_(v, self.mom)\n",
    "        \n",
    "        return m, v\n",
    "    \n",
    "    def forward(self, x):\n",
    "        with torch.no_grad():\n",
    "            m, v = self.update_stats(x)\n",
    "        \n",
    "        # normalize\n",
    "        x = (x - m) / (v + self.eps)\n",
    "        \n",
    "        # scale and shift\n",
    "        x = x * self.mults + self.adds\n",
    "        return x"
   ]
  },
  {
   "cell_type": "code",
   "execution_count": null,
   "id": "d6268bd4-6b5e-45cc-bf00-6e67706a1919",
   "metadata": {},
   "outputs": [],
   "source": [
    "def variance(x):\n",
    "    return (x*x).mean() - x.mean().pow(2)"
   ]
  },
  {
   "cell_type": "code",
   "execution_count": null,
   "id": "2e560992-7e6b-40db-8e71-3acc3f201a5a",
   "metadata": {},
   "outputs": [],
   "source": [
    "def mae(x):\n",
    "    return abs(x-x.mean()).mean()"
   ]
  },
  {
   "cell_type": "code",
   "execution_count": null,
   "id": "c3fe128a-da42-45be-a5d4-58d6833d388b",
   "metadata": {},
   "outputs": [],
   "source": [
    "def variance(x):\n",
    "    return (x - x.mean()).pow(2).mean()"
   ]
  },
  {
   "cell_type": "code",
   "execution_count": null,
   "id": "2c075838-b0c8-46b0-92ec-342aef2a677f",
   "metadata": {},
   "outputs": [],
   "source": [
    "torch.argsort(x, descending=True)"
   ]
  },
  {
   "cell_type": "code",
   "execution_count": null,
   "id": "839c5f47-1242-4e77-ab7e-2b6f2e9ea44a",
   "metadata": {},
   "outputs": [],
   "source": [
    "def mean_absolute_error(pred, targ):\n",
    "    error = 0.\n",
    "    \n",
    "    for i in range(len(targ)):\n",
    "        error += abs(pred[i]-targ[i])\n",
    "    \n",
    "    return error / len(targ)"
   ]
  },
  {
   "cell_type": "code",
   "execution_count": null,
   "id": "620d5d69-b90c-420c-b6be-d3194943d609",
   "metadata": {},
   "outputs": [],
   "source": [
    "torch.perm"
   ]
  },
  {
   "cell_type": "code",
   "execution_count": null,
   "id": "99938e28-0f43-47ae-a5c0-12869978e6a0",
   "metadata": {},
   "outputs": [],
   "source": [
    "def _to_numpy(x):\n",
    "    x = x.detach().cpu().numpy()\n",
    "    x = x.permute(1, 2, 0)"
   ]
  },
  {
   "cell_type": "code",
   "execution_count": null,
   "id": "88f63372-a8bf-4b24-a768-3198a63da83b",
   "metadata": {},
   "outputs": [],
   "source": [
    "def _scale_pixels(x):\n",
    "    x = (x/2 + 0.5).clamp(0, 1)\n",
    "    return x"
   ]
  },
  {
   "cell_type": "code",
   "execution_count": null,
   "id": "4ee2cb1a-f512-4244-af01-1700ba5c0ca0",
   "metadata": {},
   "outputs": [],
   "source": [
    "def create_text_embeddings(prompt, empty_token):\n",
    "    prompt_tokens = _tokenizier(prompt)\n",
    "    prompt_embeddings = _text_encoder(prompt_tokens)\n",
    "    empty_embeddings = _text_encoder(empty_token)\n",
    "    \n",
    "    return torch.cat([empty_embeddings, prompt_embeddings])"
   ]
  },
  {
   "cell_type": "code",
   "execution_count": null,
   "id": "99ac1e55-a96e-4327-b190-6f75c131c279",
   "metadata": {},
   "outputs": [],
   "source": [
    "def split_parts(x, n):\n",
    "    return x.chunk(n)"
   ]
  },
  {
   "cell_type": "code",
   "execution_count": null,
   "id": "f34849aa-97c1-40a8-a6c6-7f4ae97c3201",
   "metadata": {},
   "outputs": [],
   "source": [
    "empty_prompt -> empty_embeddings, prompt_embeddings -> concat"
   ]
  },
  {
   "cell_type": "markdown",
   "id": "c73b40ef-223c-4305-9d8c-398d4587159c",
   "metadata": {},
   "source": [
    "### Python"
   ]
  },
  {
   "cell_type": "code",
   "execution_count": null,
   "id": "f7734633-916b-4256-8900-ec2df76f8ed7",
   "metadata": {},
   "outputs": [],
   "source": [
    "class Person:\n",
    "    def __init__(self, name):\n",
    "        self.name = name"
   ]
  },
  {
   "cell_type": "code",
   "execution_count": null,
   "id": "e572c7ee-a915-4d03-bd0e-10d0402746ff",
   "metadata": {},
   "outputs": [],
   "source": [
    "color"
   ]
  },
  {
   "cell_type": "code",
   "execution_count": null,
   "id": "ec6f3eeb-eba3-49c4-a63c-4d48ebff4bad",
   "metadata": {},
   "outputs": [],
   "source": [
    "from collections import UserList"
   ]
  },
  {
   "cell_type": "code",
   "execution_count": null,
   "id": "26bba9b3-2c65-49f7-a6ee-7218f04542ac",
   "metadata": {},
   "outputs": [],
   "source": [
    "from collections import Counter"
   ]
  },
  {
   "cell_type": "code",
   "execution_count": null,
   "id": "c0c00082-4d0e-4d6a-b20a-3d4f6ea15756",
   "metadata": {},
   "outputs": [],
   "source": [
    "def create_author_count_mapping(cookbooks):\n",
    "    return Counter(book.authro for book in cookbooks)"
   ]
  },
  {
   "cell_type": "code",
   "execution_count": null,
   "id": "2d12a068-bb2d-444e-b545-e4e08cb8fe6e",
   "metadata": {},
   "outputs": [],
   "source": [
    "from typing import Optional"
   ]
  },
  {
   "cell_type": "code",
   "execution_count": null,
   "id": "8c55f2ac-bdea-4084-845c-325c7dd8f99c",
   "metadata": {},
   "outputs": [],
   "source": [
    "def create_a_paper(color: Optional[str]) -> Optional[str]:\n",
    "    return color"
   ]
  },
  {
   "cell_type": "code",
   "execution_count": null,
   "id": "1407ab12-40a8-4724-85f2-d50b268ebb4a",
   "metadata": {},
   "outputs": [],
   "source": [
    "from typing import TypeVar"
   ]
  },
  {
   "cell_type": "code",
   "execution_count": null,
   "id": "bbd8034a-e64e-4ac3-a2ca-f3fd97e10841",
   "metadata": {},
   "outputs": [],
   "source": [
    "T = TypeVar(\"T\")"
   ]
  },
  {
   "cell_type": "code",
   "execution_count": null,
   "id": "cec038f8-c441-4fd7-b9c2-6a08df48bb8a",
   "metadata": {},
   "outputs": [],
   "source": [
    "APIResponse = Union[T, APIError]"
   ]
  },
  {
   "cell_type": "code",
   "execution_count": null,
   "id": "984ff09f-a501-4da7-b411-0c998ad1f4d4",
   "metadata": {},
   "outputs": [],
   "source": [
    "T = TypeVar(\"T\")"
   ]
  },
  {
   "cell_type": "code",
   "execution_count": null,
   "id": "647b23df-460b-4a13-b336-f4660a980d23",
   "metadata": {},
   "outputs": [],
   "source": [
    "def reverse(coll: list[T]) -> list[T]:\n",
    "    pass"
   ]
  },
  {
   "cell_type": "code",
   "execution_count": null,
   "id": "77b9e4a3-6787-40c4-970b-2a6cea12c31a",
   "metadata": {},
   "outputs": [],
   "source": [
    "def create_author_count_mapping(cookbooks: list[Cookbook]) -> dict[str, int]"
   ]
  },
  {
   "cell_type": "code",
   "execution_count": null,
   "id": "c4fcbb10-0321-448b-a9ed-5986642c5ffc",
   "metadata": {},
   "outputs": [],
   "source": [
    "from typing import NewType, Union"
   ]
  },
  {
   "cell_type": "code",
   "execution_count": null,
   "id": "5965d63e-025b-4e36-b65c-6b4db174db10",
   "metadata": {},
   "outputs": [],
   "source": [
    "NumberOfServing = int"
   ]
  },
  {
   "cell_type": "code",
   "execution_count": null,
   "id": "eebcc92e-c965-41a4-865f-8efbbb2af630",
   "metadata": {},
   "outputs": [],
   "source": [
    "Ingredient = dict[str, int, str]"
   ]
  },
  {
   "cell_type": "code",
   "execution_count": null,
   "id": "801323ae-e733-455e-b99e-815bfdaed8ed",
   "metadata": {},
   "outputs": [],
   "source": [
    "output = list[Union[NumberOfServing, Ingredient]]"
   ]
  },
  {
   "cell_type": "code",
   "execution_count": null,
   "id": "94933ed7-d9e9-417b-a363-640e70131c28",
   "metadata": {},
   "outputs": [],
   "source": [
    "from typing import TypedDict"
   ]
  },
  {
   "cell_type": "code",
   "execution_count": null,
   "id": "12ac7e82-c38d-4284-8e45-8285f19270ab",
   "metadata": {},
   "outputs": [],
   "source": [
    "class NutritionInformation(TypedDict):\n",
    "    value: int\n",
    "    unit: str"
   ]
  },
  {
   "cell_type": "code",
   "execution_count": null,
   "id": "f0ce641c-8206-4645-a705-b4f4c1128764",
   "metadata": {},
   "outputs": [],
   "source": [
    "class RecipeNutritionInformation(TypedDict):\n",
    "    recipe_used: int\n",
    "    calories: NutritionInformation\n",
    "    carbs: NutritionInformation"
   ]
  },
  {
   "cell_type": "code",
   "execution_count": null,
   "id": "806be809-0db3-4cee-a2da-7a6e9bb8f1ef",
   "metadata": {},
   "outputs": [],
   "source": [
    "from abc import ABC, abstractclassmethod"
   ]
  },
  {
   "cell_type": "code",
   "execution_count": null,
   "id": "802df405-7f92-4020-a02f-a4022921cd0f",
   "metadata": {},
   "outputs": [],
   "source": [
    "class CategoryStrategy(ABC):\n",
    "    @abstractclassmethod\n",
    "    def do_process(self):\n",
    "        pass"
   ]
  },
  {
   "cell_type": "code",
   "execution_count": null,
   "id": "dec381f4-ff6d-4e72-bb4d-cc7bb2dd8529",
   "metadata": {},
   "outputs": [],
   "source": [
    "class CategoryOneStrategy(CategoryStrategy):\n",
    "    def do_process(self): pass"
   ]
  },
  {
   "cell_type": "code",
   "execution_count": null,
   "id": "d532ede0-9f31-4f41-b97b-5195a03fe1b0",
   "metadata": {},
   "outputs": [],
   "source": [
    "class CategoryTwoStrategy(CategoryStrategy):\n",
    "    def do_process(self): pass"
   ]
  },
  {
   "cell_type": "code",
   "execution_count": null,
   "id": "3dc473f9-5ca6-43e5-b00f-7dd085c65b83",
   "metadata": {},
   "outputs": [],
   "source": [
    "class Ticket:\n",
    "    def process_ticket(self, category: CategoryStrategy):\n",
    "        category.do_proceess()"
   ]
  },
  {
   "cell_type": "code",
   "execution_count": null,
   "id": "de41178a-8af2-49d4-ad1e-9c967f1d33d4",
   "metadata": {},
   "outputs": [],
   "source": [
    "from dataclasses import dataclass"
   ]
  },
  {
   "cell_type": "code",
   "execution_count": null,
   "id": "b40e2cfc-3004-4772-a18f-16e607af5cd6",
   "metadata": {},
   "outputs": [],
   "source": [
    "@dataclass\n",
    "class Money:\n",
    "    currency: str\n",
    "    value: int"
   ]
  },
  {
   "cell_type": "code",
   "execution_count": null,
   "id": "c95a4767-84ab-4760-a174-9ef17025d94d",
   "metadata": {},
   "outputs": [],
   "source": [
    "ID = NewType(\"ID\", int)"
   ]
  },
  {
   "cell_type": "code",
   "execution_count": null,
   "id": "1c568cc8-eb71-430b-b4c3-6f8d21e1bd15",
   "metadata": {},
   "outputs": [],
   "source": [
    "Color = NewType(\"Color\", str)"
   ]
  },
  {
   "cell_type": "code",
   "execution_count": null,
   "id": "f6db8e63-a627-4b35-8032-ebe7be3eea66",
   "metadata": {},
   "outputs": [],
   "source": [
    "class Batch:\n",
    "    def __init__(self, package_id: ID, package_color: Color):\n",
    "        pass"
   ]
  },
  {
   "cell_type": "code",
   "execution_count": null,
   "id": "387fc30a-81f5-470e-8eae-ff03e093f9ed",
   "metadata": {},
   "outputs": [],
   "source": [
    "NumberOfServing = int"
   ]
  },
  {
   "cell_type": "code",
   "execution_count": null,
   "id": "2c8cce82-516e-42bb-89a0-a5081453f787",
   "metadata": {},
   "outputs": [],
   "source": [
    "Ingredient = tuple[str, int, str]"
   ]
  },
  {
   "cell_type": "code",
   "execution_count": null,
   "id": "73788cef-992a-40f4-bef3-3e6de8245c07",
   "metadata": {},
   "outputs": [],
   "source": [
    "output = list[Union[NumberOfServing, Ingredient]]"
   ]
  },
  {
   "cell_type": "markdown",
   "id": "39383888-9c1c-42e7-a6f6-c2a2002fa1d2",
   "metadata": {},
   "source": [
    "### bash"
   ]
  },
  {
   "cell_type": "code",
   "execution_count": null,
   "id": "e60fd55e-24a8-4227-9e99-9329086a53cd",
   "metadata": {},
   "outputs": [],
   "source": [
    "echo ${id:3}"
   ]
  },
  {
   "cell_type": "code",
   "execution_count": null,
   "id": "29dd4083-f491-4e4a-bd5d-0e6da73f4adf",
   "metadata": {},
   "outputs": [],
   "source": [
    "SELECT * FROM training ORDER BY accurate DESC"
   ]
  },
  {
   "cell_type": "code",
   "execution_count": null,
   "id": "d8a5a78a-5321-4996-8c44-98cd683f7c23",
   "metadata": {},
   "outputs": [],
   "source": [
    "SELECT * FROM inference WHERE accuracy BETWEEN 90 AND 95"
   ]
  },
  {
   "cell_type": "code",
   "execution_count": null,
   "id": "0c3e0108-a502-406a-a7d4-69e6edd9d77f",
   "metadata": {},
   "outputs": [],
   "source": [
    "SELECT * FROM files WHERE NOT size > 100"
   ]
  },
  {
   "cell_type": "code",
   "execution_count": null,
   "id": "c06b3f18-2955-4adb-b0cc-e170e6819b37",
   "metadata": {},
   "outputs": [],
   "source": [
    "SELECT CAST(n_epochs AS text) FROM training"
   ]
  },
  {
   "cell_type": "code",
   "execution_count": null,
   "id": "d025c91d-4da7-4a59-8bc2-2a26de966ec6",
   "metadata": {},
   "outputs": [],
   "source": [
    "SELECT * FROM dataset WHERE prompt ILIKE 'h%'"
   ]
  },
  {
   "cell_type": "code",
   "execution_count": null,
   "id": "fbffb370-7bf3-460f-bb8a-412a29155845",
   "metadata": {},
   "outputs": [],
   "source": [
    "SELECT * FROM Customers UNION SELECT * FROM Suppliers"
   ]
  },
  {
   "cell_type": "markdown",
   "id": "7051ba27-e754-4654-b9b7-aadcce9e9de3",
   "metadata": {},
   "source": [
    "### Docker"
   ]
  },
  {
   "cell_type": "code",
   "execution_count": null,
   "id": "f43cb607-d4f1-4860-b61e-a4f54f086ef2",
   "metadata": {},
   "outputs": [],
   "source": [
    "version: 0.01\n",
    "\n",
    "services:\n",
    "    mongo-db:\n",
    "        image: mongodb\n",
    "        volumes:\n",
    "            - db_data: /var/lib/mysql/data\n",
    "\n",
    "volumes:\n",
    "    db_data"
   ]
  },
  {
   "cell_type": "code",
   "execution_count": null,
   "id": "170cd56b-da7d-4941-a225-910c3db187e8",
   "metadata": {},
   "outputs": [],
   "source": [
    "will nlt"
   ]
  },
  {
   "cell_type": "code",
   "execution_count": null,
   "id": "a124ddf1-ff28-44bf-be96-4af256511fbc",
   "metadata": {},
   "outputs": [],
   "source": [
    "will have "
   ]
  },
  {
   "cell_type": "markdown",
   "id": "2abf68f7-27a5-4ee9-8240-8f8ebdd23f58",
   "metadata": {},
   "source": [
    "### Python"
   ]
  },
  {
   "cell_type": "code",
   "execution_count": null,
   "id": "3a69ca54-de3c-46f6-b8dd-0e5c5f196f41",
   "metadata": {},
   "outputs": [],
   "source": [
    "def is_valid(value: bool) -> bool:\n",
    "    pass"
   ]
  },
  {
   "cell_type": "code",
   "execution_count": null,
   "id": "0f6f7c14-49fd-4146-8bb4-607f2814ec0b",
   "metadata": {},
   "outputs": [],
   "source": [
    "from typing import Optional"
   ]
  },
  {
   "cell_type": "code",
   "execution_count": null,
   "id": "214b2d3e-2a6d-49dc-a27d-0a25d0d7b420",
   "metadata": {},
   "outputs": [],
   "source": [
    "def is_valid(value: Optional[bool]=False) -> bool:\n",
    "    return value"
   ]
  },
  {
   "cell_type": "code",
   "execution_count": null,
   "id": "cf64858c-0bca-4b8c-bf5f-bfe5ce84fcf2",
   "metadata": {},
   "outputs": [],
   "source": [
    "Share GPU, Inference on GPU, Quantization"
   ]
  },
  {
   "cell_type": "code",
   "execution_count": null,
   "id": "f9961129-9c19-41dc-98b6-55a12b832f86",
   "metadata": {},
   "outputs": [],
   "source": [
    "x[[0, 2, 3, 3], [2, 3, 1, 4]]"
   ]
  },
  {
   "cell_type": "code",
   "execution_count": null,
   "id": "7810522a-aa49-42be-a0b1-71c70702705e",
   "metadata": {},
   "outputs": [],
   "source": [
    "x[1::2, 0:3:2]"
   ]
  },
  {
   "cell_type": "code",
   "execution_count": null,
   "id": "ca37f2d5-6c1f-4e42-af2b-fa26199fe28e",
   "metadata": {},
   "outputs": [],
   "source": [
    "x[4, :]"
   ]
  },
  {
   "cell_type": "code",
   "execution_count": null,
   "id": "8119be48-ade1-4d6d-8fdd-e84e7f51a5e5",
   "metadata": {},
   "outputs": [
    {
     "ename": "NameError",
     "evalue": "name 'Wizard' is not defined",
     "output_type": "error",
     "traceback": [
      "\u001b[0;31m---------------------------------------------------------------------------\u001b[0m",
      "\u001b[0;31mNameError\u001b[0m                                 Traceback (most recent call last)",
      "Input \u001b[0;32mIn [96]\u001b[0m, in \u001b[0;36m<cell line: 1>\u001b[0;34m()\u001b[0m\n\u001b[0;32m----> 1\u001b[0m \u001b[38;5;28;01mclass\u001b[39;00m \u001b[38;5;21;01mHybridBorg\u001b[39;00m(\u001b[43mWizard\u001b[49m, Archer):\n\u001b[1;32m      2\u001b[0m     \u001b[38;5;28;01mdef\u001b[39;00m \u001b[38;5;21m__init__\u001b[39m(\u001b[38;5;28mself\u001b[39m, name, power, arrows):\n\u001b[1;32m      3\u001b[0m         Wizard()\u001b[38;5;241m.\u001b[39m\u001b[38;5;21m__init__\u001b[39m(name, power)\n",
      "\u001b[0;31mNameError\u001b[0m: name 'Wizard' is not defined"
     ]
    }
   ],
   "source": [
    "class HybridBorg(Wizard, Archer):\n",
    "    def __init__(self, name, power, arrows):\n",
    "        Wizard().__init__(self, name, power)\n",
    "        Archer().__init__(self, name, arrows)"
   ]
  },
  {
   "cell_type": "code",
   "execution_count": null,
   "id": "96abb5e3-d88d-4e85-bd1d-64adace5fcdf",
   "metadata": {},
   "outputs": [],
   "source": [
    "my_list = [c for c in hello]"
   ]
  },
  {
   "cell_type": "code",
   "execution_count": null,
   "id": "db11b7bc-fa00-4a49-977c-763a7262637b",
   "metadata": {},
   "outputs": [],
   "source": [
    "import re"
   ]
  },
  {
   "cell_type": "code",
   "execution_count": null,
   "id": "670d0326-f294-41f2-9035-4b8a20fecd0f",
   "metadata": {},
   "outputs": [],
   "source": [
    "patterns = re.compile(r'abc')"
   ]
  },
  {
   "cell_type": "code",
   "execution_count": null,
   "id": "ec78472f-7d17-447b-81ef-8608b9ce8d3e",
   "metadata": {},
   "outputs": [
    {
     "ename": "TypeError",
     "evalue": "finditer() missing required argument 'string' (pos 1)",
     "output_type": "error",
     "traceback": [
      "\u001b[0;31m---------------------------------------------------------------------------\u001b[0m",
      "\u001b[0;31mTypeError\u001b[0m                                 Traceback (most recent call last)",
      "Input \u001b[0;32mIn [99]\u001b[0m, in \u001b[0;36m<cell line: 1>\u001b[0;34m()\u001b[0m\n\u001b[0;32m----> 1\u001b[0m matches \u001b[38;5;241m=\u001b[39m \u001b[43mpatterns\u001b[49m\u001b[38;5;241;43m.\u001b[39;49m\u001b[43mfinditer\u001b[49m\u001b[43m(\u001b[49m\u001b[43m)\u001b[49m\n",
      "\u001b[0;31mTypeError\u001b[0m: finditer() missing required argument 'string' (pos 1)"
     ]
    }
   ],
   "source": [
    "matches = patterns.finditer(str1)"
   ]
  },
  {
   "cell_type": "code",
   "execution_count": null,
   "id": "b27aac8f-9f05-4c1e-9e97-e0d4af3d0d06",
   "metadata": {},
   "outputs": [],
   "source": [
    "total = 0"
   ]
  },
  {
   "cell_type": "code",
   "execution_count": null,
   "id": "287acfb6-a957-43fe-8eda-144fff0d0031",
   "metadata": {},
   "outputs": [],
   "source": [
    "def count():\n",
    "    global total\n",
    "    total += 1\n",
    "    return total"
   ]
  },
  {
   "cell_type": "code",
   "execution_count": null,
   "id": "b40ae70a-b4e0-420f-991f-6db18baf0018",
   "metadata": {},
   "outputs": [],
   "source": [
    "print(f\"Hello {0}\".format())"
   ]
  },
  {
   "cell_type": "code",
   "execution_count": null,
   "id": "1459fae2-6890-4d49-81d3-c2e072910a35",
   "metadata": {},
   "outputs": [],
   "source": [
    "with open('test.txt') as f:\n",
    "    f.write('')"
   ]
  },
  {
   "cell_type": "code",
   "execution_count": null,
   "id": "edcb89a0-7a00-4eae-973f-d3b263f16ac6",
   "metadata": {},
   "outputs": [],
   "source": [
    "def is_valid(value: Optional[bool] = False) -> Optional[bool]:\n",
    "    pass"
   ]
  },
  {
   "cell_type": "markdown",
   "id": "727d60b4-511b-4bf5-b663-ea21dc2c858c",
   "metadata": {},
   "source": [
    "### Pandas"
   ]
  },
  {
   "cell_type": "code",
   "execution_count": null,
   "id": "051341b0-1071-4000-96e0-4f34336e1145",
   "metadata": {},
   "outputs": [],
   "source": [
    "import pandas as pd"
   ]
  },
  {
   "cell_type": "code",
   "execution_count": null,
   "id": "f768cb6b-c0c7-4b7e-9450-2e0030098b0b",
   "metadata": {},
   "outputs": [],
   "source": [
    "movies = pd.DataFrame(path1, usecols=[0, 1], **default_parameters)"
   ]
  },
  {
   "cell_type": "code",
   "execution_count": null,
   "id": "dcaf872b-fb68-44df-9ac4-42ad98152467",
   "metadata": {},
   "outputs": [],
   "source": [
    "movies = pd.DataFrame(path1, names=(\"movie\", \"title\"), **default_parameters)"
   ]
  },
  {
   "cell_type": "code",
   "execution_count": null,
   "id": "df823751-e707-4367-a0ac-a2a48b20e7a2",
   "metadata": {},
   "outputs": [],
   "source": [
    "ratings.groupby('title')['rating'].mean()"
   ]
  },
  {
   "cell_type": "markdown",
   "id": "0655b8a6-33b9-45e7-af67-4ed8a1e98a18",
   "metadata": {},
   "source": [
    "### Sympy"
   ]
  },
  {
   "cell_type": "code",
   "execution_count": null,
   "id": "2556fd7a-4bbe-49c9-a94d-02779703bf25",
   "metadata": {},
   "outputs": [],
   "source": [
    "import sympy as smp"
   ]
  },
  {
   "cell_type": "code",
   "execution_count": null,
   "id": "72dd317f-fb95-478f-ba8a-69bcfcd26a2f",
   "metadata": {},
   "outputs": [],
   "source": [
    "smp.solve([eq1, eq2], [x, y])"
   ]
  },
  {
   "cell_type": "code",
   "execution_count": null,
   "id": "c67c2a4d-39ce-42b7-9ccc-6655ff7d7052",
   "metadata": {},
   "outputs": [],
   "source": [
    "import numpy as np"
   ]
  },
  {
   "cell_type": "code",
   "execution_count": null,
   "id": "b1998ee4-a8a7-4f65-ac29-a034f18017f5",
   "metadata": {},
   "outputs": [],
   "source": [
    "def f(x):\n",
    "    return x**2 * np.sin(2*x) * np.exp(-x)"
   ]
  },
  {
   "cell_type": "markdown",
   "id": "e05b4693-3759-4910-8102-9834964f0201",
   "metadata": {},
   "source": [
    "### Fastcore"
   ]
  },
  {
   "cell_type": "code",
   "execution_count": null,
   "id": "9aa226ed-9676-4631-ac53-f36671f6c451",
   "metadata": {},
   "outputs": [],
   "source": [
    "from fastcore.basics import *"
   ]
  },
  {
   "cell_type": "code",
   "execution_count": null,
   "id": "f29bd4c4-8ad6-40b1-afc6-af73fd8489c3",
   "metadata": {},
   "outputs": [],
   "source": [
    "class _T(Stateful):\n",
    "    def __init__(self):\n",
    "        super().__init__()\n",
    "        self.a = 1\n",
    "        self._state['test'] = 2"
   ]
  },
  {
   "cell_type": "code",
   "execution_count": null,
   "id": "cb0d09ee-cbae-4076-b23d-6f4c6a6b86a5",
   "metadata": {},
   "outputs": [],
   "source": [
    "t = _T()"
   ]
  },
  {
   "cell_type": "code",
   "execution_count": null,
   "id": "7ef27a6c-ed05-46d8-abca-6c50508e11b3",
   "metadata": {},
   "outputs": [
    {
     "data": {
      "text/plain": [
       "{'_state': {'test': 2}, 'a': 1}"
      ]
     },
     "execution_count": null,
     "metadata": {},
     "output_type": "execute_result"
    }
   ],
   "source": [
    "t.__dict__"
   ]
  },
  {
   "cell_type": "code",
   "execution_count": null,
   "id": "fa524558-0d34-4a9b-85b6-46d37c4699f8",
   "metadata": {},
   "outputs": [],
   "source": [
    "from fastcore.basics import *"
   ]
  },
  {
   "cell_type": "code",
   "execution_count": null,
   "id": "ded23943-3860-474f-9eef-9763664bfc5a",
   "metadata": {},
   "outputs": [],
   "source": [
    "class _ProductPage(GetAttr):\n",
    "    def __init__(self, page, price):\n",
    "        self.default = page\n",
    "        self.price = price"
   ]
  },
  {
   "cell_type": "code",
   "execution_count": null,
   "id": "73e4ac56-a572-4cfb-8e9e-50c81e55bede",
   "metadata": {},
   "outputs": [],
   "source": [
    "from fastcore.all import *"
   ]
  },
  {
   "cell_type": "code",
   "execution_count": null,
   "id": "c37b5c50-7433-440a-b8b5-71d7ab70f4ef",
   "metadata": {},
   "outputs": [],
   "source": [
    "class Foo:\n",
    "    def __init__(self, a, b):\n",
    "        self.a, self.b = a, b\n",
    "    \n",
    "    __repr__ = basic_repr('a, b')"
   ]
  },
  {
   "cell_type": "code",
   "execution_count": null,
   "id": "3d22489a-2c3c-4afb-9398-00d15942d4d6",
   "metadata": {},
   "outputs": [],
   "source": [
    "from fastcore.foundation import *"
   ]
  },
  {
   "cell_type": "code",
   "execution_count": null,
   "id": "09c55719-abda-4a50-bd22-0869121ff570",
   "metadata": {},
   "outputs": [],
   "source": [
    "@docs\n",
    "class DataBlock:\n",
    "    def get_x(self): pass\n",
    "    \n",
    "    def get_y(self): pass\n",
    "\n",
    "    _docs = dict(cls_doc='',\n",
    "                 get_x='')"
   ]
  },
  {
   "cell_type": "code",
   "execution_count": null,
   "id": "68ecde7d-d924-40e1-9a77-3000b14f0e86",
   "metadata": {},
   "outputs": [],
   "source": [
    "from fastcore.meta import *"
   ]
  },
  {
   "cell_type": "code",
   "execution_count": null,
   "id": "37f234c5-f360-4080-95cd-632315060c8b",
   "metadata": {},
   "outputs": [],
   "source": [
    "@funcs_kwargs(as_method=True)\n",
    "class DataBlock:\n",
    "    _methods = ['loss_func']\n",
    "    num = 5\n",
    "    \n",
    "    def __init__(self, **kwargs):\n",
    "        pass"
   ]
  },
  {
   "cell_type": "code",
   "execution_count": null,
   "id": "825d82b1-65bf-45d4-8e89-587227acf934",
   "metadata": {},
   "outputs": [],
   "source": [
    "def plus_one(self):\n",
    "    return self.num + 1"
   ]
  },
  {
   "cell_type": "code",
   "execution_count": null,
   "id": "3c05225a-e442-4b57-b8ae-e85eca62ac81",
   "metadata": {},
   "outputs": [],
   "source": [
    "dblock = DataBlock(loss_func=plus_one)"
   ]
  },
  {
   "cell_type": "code",
   "execution_count": null,
   "id": "cafd9103-fc94-406c-aadc-d1fbdeea8932",
   "metadata": {},
   "outputs": [
    {
     "data": {
      "text/plain": [
       "6"
      ]
     },
     "execution_count": null,
     "metadata": {},
     "output_type": "execute_result"
    }
   ],
   "source": [
    "dblock.loss_func()"
   ]
  },
  {
   "cell_type": "code",
   "execution_count": null,
   "id": "f4134f88-354f-46c2-8484-30627b804b70",
   "metadata": {},
   "outputs": [],
   "source": []
  }
 ],
 "metadata": {
  "kernelspec": {
   "display_name": "Python 3 (ipykernel)",
   "language": "python",
   "name": "python3"
  }
 },
 "nbformat": 4,
 "nbformat_minor": 5
}
