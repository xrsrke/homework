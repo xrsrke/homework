{
 "cells": [
  {
   "cell_type": "markdown",
   "id": "41f8d012-9185-4d79-a06e-19b112ad3705",
   "metadata": {},
   "source": [
    "### bash"
   ]
  },
  {
   "cell_type": "code",
   "execution_count": null,
   "id": "ec289168-64e4-4d45-82cc-890317e25d0c",
   "metadata": {},
   "outputs": [],
   "source": [
    "${name,,}"
   ]
  },
  {
   "cell_type": "code",
   "execution_count": null,
   "id": "51b3ee34-3511-475c-89ec-9be8815a5bd0",
   "metadata": {},
   "outputs": [],
   "source": [
    "${name^^}"
   ]
  },
  {
   "cell_type": "code",
   "execution_count": null,
   "id": "e146f876-5024-436f-ad7a-3c86df1c9acc",
   "metadata": {},
   "outputs": [],
   "source": [
    "pwd"
   ]
  },
  {
   "cell_type": "code",
   "execution_count": null,
   "id": "33fdc242-b8f8-42c2-a935-accd8bf93933",
   "metadata": {},
   "outputs": [],
   "source": [
    "ls | tee output.txt"
   ]
  },
  {
   "cell_type": "code",
   "execution_count": null,
   "id": "f0ef4759-8a2f-48bd-800f-eed259d5d50c",
   "metadata": {},
   "outputs": [],
   "source": [
    "x -ne Y"
   ]
  },
  {
   "cell_type": "code",
   "execution_count": null,
   "id": "22c28057-1e25-4e7e-8726-3d5d8438d755",
   "metadata": {},
   "outputs": [],
   "source": [
    "find ./prioject -name src -type d"
   ]
  },
  {
   "cell_type": "code",
   "execution_count": null,
   "id": "34dbb42b-8ccf-42a5-b53e-9de3088cdd37",
   "metadata": {},
   "outputs": [],
   "source": [
    "ls *.sh"
   ]
  },
  {
   "cell_type": "code",
   "execution_count": null,
   "id": "24c8a2f8-2a86-4008-bf74-c7351837d551",
   "metadata": {},
   "outputs": [],
   "source": [
    "$?"
   ]
  },
  {
   "cell_type": "code",
   "execution_count": null,
   "id": "0d0205ca-ef16-46b2-9263-4b7971d33121",
   "metadata": {},
   "outputs": [],
   "source": [
    "ls -la"
   ]
  },
  {
   "cell_type": "code",
   "execution_count": null,
   "id": "67b9b328-129c-4820-9396-586f18dbc8d9",
   "metadata": {},
   "outputs": [],
   "source": [
    "echo {z..k}"
   ]
  },
  {
   "cell_type": "code",
   "execution_count": null,
   "id": "9e2cf509-629c-4a32-aaab-43f735451e0a",
   "metadata": {},
   "outputs": [],
   "source": [
    "${id:1:5}"
   ]
  },
  {
   "cell_type": "code",
   "execution_count": null,
   "id": "331f6215-5b13-4c11-b5f6-5a94dea9fda0",
   "metadata": {},
   "outputs": [],
   "source": [
    "$USER"
   ]
  },
  {
   "cell_type": "code",
   "execution_count": null,
   "id": "b846bf78-089d-44eb-a80f-b1c1cc1d662e",
   "metadata": {},
   "outputs": [],
   "source": [
    "${id: -3}"
   ]
  },
  {
   "cell_type": "markdown",
   "id": "f0960e06-ddce-4b66-b2dd-eaa52a6ce1f0",
   "metadata": {},
   "source": [
    "### Docker"
   ]
  },
  {
   "cell_type": "code",
   "execution_count": null,
   "id": "1ba41b14-df91-4503-a12d-525e40538a0e",
   "metadata": {},
   "outputs": [],
   "source": [
    "version: 0.0.1\n",
    "\n",
    "services:\n",
    "    mongodb:\n",
    "        image: mongo\n",
    "        ports:\n",
    "            - 27017:27017"
   ]
  },
  {
   "cell_type": "code",
   "execution_count": null,
   "id": "16a76d8b-e9c9-4942-9b92-13a3988f579c",
   "metadata": {},
   "outputs": [],
   "source": [
    "version: 0.0.1\n",
    "\n",
    "services:\n",
    "    mongodb:\n",
    "        image: mongo\n",
    "        volumes:\n",
    "            - db_data:/var/lib/mysql/data\n",
    "\n",
    "volumes:\n",
    "    db_data"
   ]
  },
  {
   "cell_type": "markdown",
   "id": "634de53c-3d2f-4f42-93cc-19d780c11336",
   "metadata": {},
   "source": [
    "### CI/CD"
   ]
  },
  {
   "cell_type": "code",
   "execution_count": null,
   "id": "adb4d360-e9dc-4c76-8d3c-a5096d5c830f",
   "metadata": {},
   "outputs": [],
   "source": [
    "name: machine info\n",
    "\n",
    "runs-on: [push]\n",
    "\n",
    "jobs:\n",
    "    check-version:\n",
    "        runs-on: ubuntu-latest \n",
    "        run: |\n",
    "            import platform\n",
    "            print(platform.processor())\n",
    "        shell: python"
   ]
  },
  {
   "cell_type": "markdown",
   "id": "cbdf0fb3-e612-4335-804b-50ac37ad5696",
   "metadata": {},
   "source": [
    "### numpy"
   ]
  },
  {
   "cell_type": "code",
   "execution_count": null,
   "id": "a93fa105-0668-4cfd-973b-0da4ed4df43d",
   "metadata": {},
   "outputs": [],
   "source": [
    "x[1:3:2, :3:2]"
   ]
  },
  {
   "cell_type": "markdown",
   "id": "bff885f2-6419-4884-9451-4aab30e4389e",
   "metadata": {},
   "source": [
    "### Python"
   ]
  },
  {
   "cell_type": "code",
   "execution_count": null,
   "id": "74b67d9c-f3b7-42d2-9459-e7e11bae3721",
   "metadata": {},
   "outputs": [],
   "source": [
    "from typing import TYPE_CHECKING"
   ]
  },
  {
   "cell_type": "code",
   "execution_count": null,
   "id": "938b1fff-8743-4ed2-95c7-9bd6768da982",
   "metadata": {},
   "outputs": [],
   "source": [
    "if TYPE_CHECKING:\n",
    "    pass"
   ]
  },
  {
   "cell_type": "code",
   "execution_count": null,
   "id": "a8533dcb-711b-4510-b01f-f5f01c19ff82",
   "metadata": {},
   "outputs": [],
   "source": [
    "from typing import overload"
   ]
  },
  {
   "cell_type": "code",
   "execution_count": null,
   "id": "35047aeb-31c4-46ee-b3aa-f8b63e66f6f2",
   "metadata": {},
   "outputs": [],
   "source": [
    "from typing import List"
   ]
  },
  {
   "cell_type": "code",
   "execution_count": null,
   "id": "9045cd46-807b-446e-a98c-58bb530bab2d",
   "metadata": {},
   "outputs": [],
   "source": [
    "@overload\n",
    "def getitem(x: str) -> str: pass"
   ]
  },
  {
   "cell_type": "code",
   "execution_count": null,
   "id": "559502e1-48b3-477b-8a9e-9b3fadb0c2c3",
   "metadata": {},
   "outputs": [],
   "source": [
    "@overload\n",
    "def getitem(x: List[int]) -> int: pass"
   ]
  },
  {
   "cell_type": "code",
   "execution_count": null,
   "id": "b710edda-9ec0-47b1-a67e-a4f393809881",
   "metadata": {},
   "outputs": [],
   "source": [
    "class Christmas(dict):\n",
    "    def __init__(self):\n",
    "        self.color = 'red'\n",
    "    \n",
    "    def __getitem__(self, k, v):\n",
    "        if k not in self:\n",
    "            return \"can't find\"\n",
    "        \n",
    "        super().__getitem__(self, k, v)"
   ]
  },
  {
   "cell_type": "code",
   "execution_count": null,
   "id": "68b5d42c-749d-4a28-b7ba-dbe8e5aada88",
   "metadata": {},
   "outputs": [],
   "source": [
    "c = Christmas()"
   ]
  },
  {
   "cell_type": "code",
   "execution_count": null,
   "id": "73494f46-f832-4ec0-ae32-e4813a23d616",
   "metadata": {},
   "outputs": [
    {
     "ename": "TypeError",
     "evalue": "Christmas.__getitem__() missing 1 required positional argument: 'v'",
     "output_type": "error",
     "traceback": [
      "\u001b[0;31m---------------------------------------------------------------------------\u001b[0m",
      "\u001b[0;31mTypeError\u001b[0m                                 Traceback (most recent call last)",
      "Cell \u001b[0;32mIn [25], line 1\u001b[0m\n\u001b[0;32m----> 1\u001b[0m \u001b[43mc\u001b[49m\u001b[43m[\u001b[49m\u001b[38;5;124;43m'\u001b[39;49m\u001b[38;5;124;43mxx\u001b[39;49m\u001b[38;5;124;43m'\u001b[39;49m\u001b[43m]\u001b[49m\n",
      "\u001b[0;31mTypeError\u001b[0m: Christmas.__getitem__() missing 1 required positional argument: 'v'"
     ]
    }
   ],
   "source": [
    "c['xx']"
   ]
  },
  {
   "cell_type": "code",
   "execution_count": null,
   "id": "e30c6e1a-6590-4647-a8fc-83f7aed7897b",
   "metadata": {},
   "outputs": [],
   "source": [
    "class Uppercase(tuple):\n",
    "    def __init__(self, iterable):\n",
    "        pass\n",
    "    \n",
    "    def __new__(cls, iterable):\n",
    "        pass"
   ]
  },
  {
   "cell_type": "code",
   "execution_count": null,
   "id": "aaf4114e-fece-4451-b9a3-1f41e05969db",
   "metadata": {},
   "outputs": [],
   "source": [
    "#from typing import"
   ]
  },
  {
   "cell_type": "code",
   "execution_count": null,
   "id": "6750aa9e-e13f-458c-9494-ea85269daecf",
   "metadata": {},
   "outputs": [],
   "source": [
    "def is_valid(value: bool = False) -> bool:\n",
    "    pass"
   ]
  },
  {
   "cell_type": "code",
   "execution_count": null,
   "id": "57d60d73-779d-4a5e-a755-c6a814ef8dcf",
   "metadata": {},
   "outputs": [],
   "source": [
    "def is_valid(value=False):\n",
    "    return value"
   ]
  },
  {
   "cell_type": "code",
   "execution_count": null,
   "id": "1ec965f6-5a2e-45b7-9f3d-8371fde64746",
   "metadata": {},
   "outputs": [
    {
     "data": {
      "text/plain": [
       "False"
      ]
     },
     "execution_count": null,
     "metadata": {},
     "output_type": "execute_result"
    }
   ],
   "source": [
    "is_valid()"
   ]
  },
  {
   "cell_type": "markdown",
   "id": "d946f808-b691-4eeb-b32e-06564977220d",
   "metadata": {},
   "source": [
    "Add type hints to parameter and return value"
   ]
  },
  {
   "cell_type": "code",
   "execution_count": null,
   "id": "811ce7e2-729c-4f90-b5ab-cd2c8b0021f4",
   "metadata": {},
   "outputs": [],
   "source": [
    "def is_valid(value: bool = False) -> bool:\n",
    "    return value"
   ]
  },
  {
   "cell_type": "code",
   "execution_count": null,
   "id": "7bbb91b5-9004-4861-a02e-a73da9a32499",
   "metadata": {},
   "outputs": [
    {
     "data": {
      "text/plain": [
       "False"
      ]
     },
     "execution_count": null,
     "metadata": {},
     "output_type": "execute_result"
    }
   ],
   "source": [
    "is_valid()"
   ]
  },
  {
   "cell_type": "code",
   "execution_count": null,
   "id": "fc5b42be-00b4-4b30-8bfb-d131b4593c22",
   "metadata": {},
   "outputs": [],
   "source": []
  }
 ],
 "metadata": {
  "kernelspec": {
   "display_name": "Python 3 (ipykernel)",
   "language": "python",
   "name": "python3"
  }
 },
 "nbformat": 4,
 "nbformat_minor": 5
}
