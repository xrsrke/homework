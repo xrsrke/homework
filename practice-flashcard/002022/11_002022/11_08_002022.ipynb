{
 "cells": [
  {
   "cell_type": "markdown",
   "id": "712cead9-b622-415e-b893-4ea292638e45",
   "metadata": {},
   "source": [
    "### Deep Learning"
   ]
  },
  {
   "cell_type": "code",
   "execution_count": null,
   "id": "fddd86a7-1621-41d0-a5f2-530d32f01af2",
   "metadata": {},
   "outputs": [],
   "source": [
    "l1.bias.data.zero_()"
   ]
  },
  {
   "cell_type": "code",
   "execution_count": null,
   "id": "bb255ae7-2791-432a-8b95-d2daf89f139f",
   "metadata": {},
   "outputs": [],
   "source": [
    "l1.bias.grad.zero_()"
   ]
  },
  {
   "cell_type": "code",
   "execution_count": null,
   "id": "6bc602da-d355-481a-9d5e-804ff853dd6e",
   "metadata": {},
   "outputs": [],
   "source": [
    "import torch"
   ]
  },
  {
   "cell_type": "code",
   "execution_count": null,
   "id": "d376dbc4-399c-46e5-b3f9-430d19f20282",
   "metadata": {},
   "outputs": [],
   "source": [
    "def normalize(x):\n",
    "    return (x - x.mean()) / x.std()"
   ]
  },
  {
   "cell_type": "code",
   "execution_count": null,
   "id": "39ab6953-51c9-4d0f-b2a2-a2cab53571a2",
   "metadata": {},
   "outputs": [],
   "source": [
    "def relu(x):\n",
    "    return torch.clamp_in(x, 0)"
   ]
  },
  {
   "cell_type": "code",
   "execution_count": null,
   "id": "d9b04b0e-b2c6-4e49-814e-403911461042",
   "metadata": {},
   "outputs": [],
   "source": [
    "import torch.nn as nn"
   ]
  },
  {
   "cell_type": "code",
   "execution_count": null,
   "id": "ab363b8e-ae3e-4994-96e0-050b365c6f6c",
   "metadata": {},
   "outputs": [],
   "source": [
    "import torch.nn.functional as F"
   ]
  },
  {
   "cell_type": "code",
   "execution_count": null,
   "id": "877e26b8-3fc1-4529-b53d-b9769e6e275e",
   "metadata": {},
   "outputs": [],
   "source": [
    "class _Model(nn.Module):\n",
    "    def __init__(self, layers):\n",
    "        self.layers = nn.ModuleList(layers)\n",
    "        self.act_means = [[] for _ in self.layers]\n",
    "    \n",
    "    def forward(self, x):\n",
    "       b for i, l in enumerate(self.layers):\n",
    "            x = l(x)\n",
    "            self.act_means[i].append(x.mean())\n",
    "        \n",
    "        return x"
   ]
  },
  {
   "cell_type": "code",
   "execution_count": null,
   "id": "9e2974a0-a1ea-4f22-88d7-e35ca9d0939a",
   "metadata": {},
   "outputs": [],
   "source": [
    "def zero_weight(l):\n",
    "    return l.weight.data.zero_()"
   ]
  },
  {
   "cell_type": "code",
   "execution_count": null,
   "id": "2884b012-8956-4a57-8948-03042bd48ad6",
   "metadata": {},
   "outputs": [],
   "source": [
    "def make_show_progress(message):\n",
    "    def inner(epoch):\n",
    "        print(f\"{message}! We've finished epoch {0}\")\n",
    "    \n",
    "    return inner"
   ]
  },
  {
   "cell_type": "code",
   "execution_count": null,
   "id": "3c55943c-698a-4250-9811-833ebdd89bb1",
   "metadata": {},
   "outputs": [],
   "source": [
    "import ipywidgets as widgets"
   ]
  },
  {
   "cell_type": "code",
   "execution_count": null,
   "id": "d2e654cc-5e2a-4ada-96bd-2728e9806567",
   "metadata": {},
   "outputs": [],
   "source": [
    "w = widgets.Button(description=\"Connect\")"
   ]
  },
  {
   "cell_type": "code",
   "execution_count": null,
   "id": "ceac4025-a05d-4b51-9262-44f59aa67ad1",
   "metadata": {},
   "outputs": [
    {
     "data": {
      "application/vnd.jupyter.widget-view+json": {
       "model_id": "f7320204d2b74ff68d053abf0c9b741b",
       "version_major": 2,
       "version_minor": 0
      },
      "text/plain": [
       "Button(description='Connect', style=ButtonStyle())"
      ]
     },
     "execution_count": null,
     "metadata": {},
     "output_type": "execute_result"
    }
   ],
   "source": [
    "w"
   ]
  },
  {
   "cell_type": "code",
   "execution_count": null,
   "id": "d4a819bc-52d6-44c7-972f-7746207e9c59",
   "metadata": {},
   "outputs": [],
   "source": [
    "b = widgets.Button(description=\"Transmit\")"
   ]
  },
  {
   "cell_type": "code",
   "execution_count": null,
   "id": "c798bc35-460f-4444-810b-0f4b1f904a2c",
   "metadata": {},
   "outputs": [],
   "source": [
    "b.on_click(lambda x: print(\"send data\"))"
   ]
  },
  {
   "cell_type": "code",
   "execution_count": null,
   "id": "01673a73-eec5-4cf0-b43b-1473ce36f24e",
   "metadata": {},
   "outputs": [
    {
     "data": {
      "application/vnd.jupyter.widget-view+json": {
       "model_id": "60bb16b5aef94637b785335b45a97231",
       "version_major": 2,
       "version_minor": 0
      },
      "text/plain": [
       "Button(description='Transmit', style=ButtonStyle())"
      ]
     },
     "execution_count": null,
     "metadata": {},
     "output_type": "execute_result"
    }
   ],
   "source": [
    "b"
   ]
  },
  {
   "cell_type": "code",
   "execution_count": null,
   "id": "f29d81cc-bde7-43f6-b59b-66d4a78b10c4",
   "metadata": {},
   "outputs": [],
   "source": [
    "class _BatchNorm(nn.ModuleList):\n",
    "    def __init__(self, mom, eps):\n",
    "        self.mom, self.eps = mom, eps\n",
    "        self.adds = nn.Parameter(torch.zeros(1))\n",
    "        self.mults = nn.Parameter(torch.ones(1))\n",
    "        self.register_buffer('means', torch.zeros(1))\n",
    "        self.register_buffer('vars', torch.ones(1))\n",
    "    \n",
    "    def update_stats(self, x):\n",
    "        m, v = x.mean(), x.var()\n",
    "        \n",
    "        self.means.lerp_(m, self.mom)\n",
    "        self.vars.lerp_(v, self.mom)\n",
    "        \n",
    "        return x, v\n",
    "    \n",
    "    def forward(self, x):\n",
    "        with torch.no_grad():\n",
    "            m, v = self.update_stats(x)\n",
    "        \n",
    "        # normalize\n",
    "        x = (x - m) / (v + self.eps).sqrt()\n",
    "        \n",
    "        # scale and shift\n",
    "        x = x * self.mults + self.adds\n",
    "        \n",
    "        return x"
   ]
  },
  {
   "cell_type": "code",
   "execution_count": null,
   "id": "214f639f-ccde-454a-9164-99928601bcf6",
   "metadata": {},
   "outputs": [],
   "source": [
    "class Optimizier:\n",
    "    def __init__(self, params, lr):\n",
    "        self.params = params\n",
    "        self.lr = lr\n",
    "    \n",
    "    def step(self):\n",
    "        with torch.no_grad():\n",
    "            for p in self.params:\n",
    "                p -= p.grad * self.lr"
   ]
  },
  {
   "cell_type": "code",
   "execution_count": null,
   "id": "65c33495-b70e-4183-b532-8eff3e85a7d3",
   "metadata": {},
   "outputs": [],
   "source": [
    "def accuracy(pred, targ):\n",
    "    idx_pred = torch.argmax(pred, dim=-1)\n",
    "    \n",
    "    return (idx_pred == targ).float().mean()"
   ]
  },
  {
   "cell_type": "code",
   "execution_count": null,
   "id": "f9796a9f-44a0-4858-8992-0dbd1dc2d27e",
   "metadata": {},
   "outputs": [],
   "source": [
    "class DataLoader:\n",
    "    def __init__(self, ds, bs):\n",
    "        self.ds = ds\n",
    "        self.bs = bs\n",
    "    \n",
    "    def __iter__(self):\n",
    "        for i in range(0, len(self.ds), self.bs):\n",
    "            yield self.ds[i:i+self.bs]"
   ]
  },
  {
   "cell_type": "code",
   "execution_count": null,
   "id": "8e687032-a403-4f93-9609-f38d853c1dec",
   "metadata": {},
   "outputs": [],
   "source": [
    "def _to_numpy(x):\n",
    "    x = x.detach().cpu().numpy()\n",
    "    x = x.permute(1, 2, 0)\n",
    "    return x"
   ]
  },
  {
   "cell_type": "code",
   "execution_count": null,
   "id": "7630412e-e85c-4904-8686-c100cb43ffaa",
   "metadata": {},
   "outputs": [],
   "source": [
    "noises = torch.randn(1, unet_channel, height//8, width/88)"
   ]
  },
  {
   "cell_type": "code",
   "execution_count": null,
   "id": "13682cc9-62cf-42eb-b5b1-51c8b078e051",
   "metadata": {},
   "outputs": [
    {
     "data": {
      "text/plain": [
       "ReLU()"
      ]
     },
     "execution_count": null,
     "metadata": {},
     "output_type": "execute_result"
    }
   ],
   "source": [
    "nn.ReLU()"
   ]
  },
  {
   "cell_type": "code",
   "execution_count": null,
   "id": "bdc2ef50-8391-4b90-9ec9-f3a12e335fe4",
   "metadata": {},
   "outputs": [],
   "source": [
    "class Autoencoder(nn.Module):\n",
    "    def __init__(self):\n",
    "        super().__init__()\n",
    "        self.encoder = [\n",
    "            nn.Linear(784, 128),\n",
    "            nn.ReLU(),\n",
    "            nn.Linear(128, 64),\n",
    "            nn.ReLU(),\n",
    "            nn.Linear(64, 12),\n",
    "            nn.ReLU(),\n",
    "            nn.Linear(12, 3)\n",
    "        ]\n",
    "        \n",
    "        self.decoder = [\n",
    "            nn.Linear(3, 12),\n",
    "            nn.ReLU(),\n",
    "            nn.Linear(12, 64),\n",
    "            nn.ReLU(),\n",
    "            nn.Linear(64, 128),\n",
    "            nn.ReLU(),\n",
    "            nn.Linear(128, 784),\n",
    "            nn.Sigmoid()\n",
    "        ]\n",
    "    \n",
    "    def forward(self, x):\n",
    "        encoded = self.encoder(x)\n",
    "        return self.decoder(encoded)"
   ]
  },
  {
   "cell_type": "code",
   "execution_count": null,
   "id": "a9bad334-6ed5-47bb-8d33-02227190edba",
   "metadata": {},
   "outputs": [],
   "source": [
    "def regularize_activation(loss, activation, alpha):\n",
    "    loss += alpha * (activation).pow(2).mean()\n",
    "    return loss"
   ]
  },
  {
   "cell_type": "code",
   "execution_count": null,
   "id": "e77aa797-44bd-44bc-b37a-808e77915ebc",
   "metadata": {},
   "outputs": [],
   "source": [
    "from fastai.vision.all import *"
   ]
  },
  {
   "cell_type": "code",
   "execution_count": null,
   "id": "6687f9ed-01ef-4372-ae13-b4dc1f2614c1",
   "metadata": {},
   "outputs": [],
   "source": [
    "dblock = DataBlock(blocks=[ImageBlock, MultiCategoryBlock],\n",
    "                   get_x = get_x,\n",
    "                   get_y = get_y)"
   ]
  },
  {
   "cell_type": "code",
   "execution_count": null,
   "id": "ec7656e2-08c3-43e9-9fbd-d354065c25b2",
   "metadata": {},
   "outputs": [],
   "source": [
    "dsets = dblock.datasets(df)"
   ]
  },
  {
   "cell_type": "markdown",
   "id": "3273fc54-7038-44b8-8ed5-36d48b7734e7",
   "metadata": {},
   "source": [
    "### Python"
   ]
  },
  {
   "cell_type": "code",
   "execution_count": null,
   "id": "3c4dd056-1d9c-480d-b3e0-e49fc5119ec9",
   "metadata": {},
   "outputs": [],
   "source": [
    "from typing import Optional, Union"
   ]
  },
  {
   "cell_type": "code",
   "execution_count": null,
   "id": "224b0576-de37-429b-92fa-bca3426b3907",
   "metadata": {},
   "outputs": [],
   "source": [
    "def create_red_apper(color: Optional[str]) -> Optional[str]:\n",
    "    pass"
   ]
  },
  {
   "cell_type": "code",
   "execution_count": null,
   "id": "f12d5af9-c700-4425-a25d-0faad2159f1c",
   "metadata": {},
   "outputs": [],
   "source": [
    "NumberOfServing = int"
   ]
  },
  {
   "cell_type": "code",
   "execution_count": null,
   "id": "fe7750c4-af00-4df2-9d40-5e207004df1e",
   "metadata": {},
   "outputs": [],
   "source": [
    "Ingredient = tuple[str, int, str]"
   ]
  },
  {
   "cell_type": "code",
   "execution_count": null,
   "id": "cd700746-6986-4d3b-880a-581d81e78512",
   "metadata": {},
   "outputs": [],
   "source": [
    "output: list[Union[NumberOfServing, Ingredient]]"
   ]
  },
  {
   "cell_type": "code",
   "execution_count": null,
   "id": "c70c4bcf-7d66-449c-bc19-024f4f7783b4",
   "metadata": {},
   "outputs": [],
   "source": [
    "from typing import Final"
   ]
  },
  {
   "cell_type": "code",
   "execution_count": null,
   "id": "cc6fe546-b17f-4b6d-9c25-4a080cfa7126",
   "metadata": {},
   "outputs": [],
   "source": [
    "SERVER_PWD: Final = 1234"
   ]
  },
  {
   "cell_type": "code",
   "execution_count": null,
   "id": "250e3dc2-dcde-437a-bd30-42c2c9a216fe",
   "metadata": {},
   "outputs": [],
   "source": [
    "from typing import Literal"
   ]
  },
  {
   "cell_type": "code",
   "execution_count": null,
   "id": "5774e759-62ba-40f6-be2b-936f6171d72a",
   "metadata": {},
   "outputs": [],
   "source": [
    "class Eyelink:\n",
    "    def __init__(self, level: Literal[\"one\", \"two\", \"three\"]) -> None:\n",
    "        self.level = level"
   ]
  },
  {
   "cell_type": "code",
   "execution_count": null,
   "id": "fa0630a8-4f12-48be-b394-334d4529f73a",
   "metadata": {},
   "outputs": [],
   "source": [
    "from typing import NewType"
   ]
  },
  {
   "cell_type": "code",
   "execution_count": null,
   "id": "a451f179-42d3-433d-8a70-503ae518bfd7",
   "metadata": {},
   "outputs": [
    {
     "ename": "NameError",
     "evalue": "name 'HotDog' is not defined",
     "output_type": "error",
     "traceback": [
      "\u001b[0;31m---------------------------------------------------------------------------\u001b[0m",
      "\u001b[0;31mNameError\u001b[0m                                 Traceback (most recent call last)",
      "Input \u001b[0;32mIn [40]\u001b[0m, in \u001b[0;36m<cell line: 1>\u001b[0;34m()\u001b[0m\n\u001b[0;32m----> 1\u001b[0m ReadyToServeHotDog \u001b[38;5;241m=\u001b[39m NewType(\u001b[38;5;124m\"\u001b[39m\u001b[38;5;124mReadyToServeHotDog\u001b[39m\u001b[38;5;124m\"\u001b[39m, \u001b[43mHotDog\u001b[49m)\n",
      "\u001b[0;31mNameError\u001b[0m: name 'HotDog' is not defined"
     ]
    }
   ],
   "source": [
    "ReadyToServeHotDog = NewType(\"ReadyToServeHotDog\", HotDog)"
   ]
  },
  {
   "cell_type": "code",
   "execution_count": null,
   "id": "4730b831-cf48-422f-b73a-df5cfaf41060",
   "metadata": {},
   "outputs": [
    {
     "ename": "NameError",
     "evalue": "name 'HotDog' is not defined",
     "output_type": "error",
     "traceback": [
      "\u001b[0;31m---------------------------------------------------------------------------\u001b[0m",
      "\u001b[0;31mNameError\u001b[0m                                 Traceback (most recent call last)",
      "Input \u001b[0;32mIn [41]\u001b[0m, in \u001b[0;36m<cell line: 1>\u001b[0;34m()\u001b[0m\n\u001b[0;32m----> 1\u001b[0m \u001b[38;5;28;01mdef\u001b[39;00m \u001b[38;5;21mprepare_for_serving\u001b[39m(hot_dog: \u001b[43mHotDog\u001b[49m) \u001b[38;5;241m-\u001b[39m\u001b[38;5;241m>\u001b[39m ReadyToServeHotDog:\n\u001b[1;32m      2\u001b[0m     \u001b[38;5;28;01mreturn\u001b[39;00m ReadyToServeHotDog(hot_dog)\n",
      "\u001b[0;31mNameError\u001b[0m: name 'HotDog' is not defined"
     ]
    }
   ],
   "source": [
    "def prepare_for_serving(hot_dog: HotDog) -> ReadyToServeHotDog:\n",
    "    return ReadyToServeHotDog(hot_dog)"
   ]
  },
  {
   "cell_type": "code",
   "execution_count": null,
   "id": "d8f6fee9-96cf-404d-afe9-40966d7af9d3",
   "metadata": {},
   "outputs": [],
   "source": [
    "w = widgets.Button(description=\"Connect\")"
   ]
  },
  {
   "cell_type": "code",
   "execution_count": null,
   "id": "64acfa49-f4bc-47d7-b3ae-d09d0fd2e6d0",
   "metadata": {},
   "outputs": [],
   "source": [
    "AuthCountMapping = dict[str, int]"
   ]
  },
  {
   "cell_type": "code",
   "execution_count": null,
   "id": "db4d9adc-b0d0-4e3a-9b07-bf1faae2569d",
   "metadata": {},
   "outputs": [],
   "source": [
    "def create_author_count_mapping(cookbooks: list[Cookbook]) -> AuthCountMapping"
   ]
  },
  {
   "cell_type": "code",
   "execution_count": null,
   "id": "9c92783c-b1e6-415f-940d-3e75bd49c941",
   "metadata": {},
   "outputs": [],
   "source": [
    "from typing import TypedDict"
   ]
  },
  {
   "cell_type": "code",
   "execution_count": null,
   "id": "df2cd06d-3608-4e1f-a81c-e0e758e142c6",
   "metadata": {},
   "outputs": [],
   "source": [
    "class NutritionInformation(TypedDict):\n",
    "    value: int\n",
    "    unit: str"
   ]
  },
  {
   "cell_type": "code",
   "execution_count": null,
   "id": "c04a30b5-adc4-45bb-b505-795fde0d4bc5",
   "metadata": {},
   "outputs": [],
   "source": [
    "class RecipeNutritionInformation(TypedDict):\n",
    "    recpies_used: int\n",
    "    calories: NutritionInformation\n",
    "    carbs: NutritionInformation"
   ]
  },
  {
   "cell_type": "code",
   "execution_count": null,
   "id": "f5ae7730-ab9b-4676-b343-7ad7b1f68d96",
   "metadata": {},
   "outputs": [],
   "source": [
    "from dataclasses import dataclass"
   ]
  },
  {
   "cell_type": "code",
   "execution_count": null,
   "id": "8d366899-3da2-4378-bddb-761ee07f9db1",
   "metadata": {},
   "outputs": [],
   "source": [
    "@dataclass\n",
    "class Money:\n",
    "    currency: str\n",
    "    value: int"
   ]
  },
  {
   "cell_type": "code",
   "execution_count": null,
   "id": "58677dd3-5b9a-446d-8afe-a036cdaa2211",
   "metadata": {},
   "outputs": [],
   "source": [
    "ID = NewType(\"ID\", int)"
   ]
  },
  {
   "cell_type": "code",
   "execution_count": null,
   "id": "b090ed5b-4911-4c5a-9a03-cd1fa722de38",
   "metadata": {},
   "outputs": [],
   "source": [
    "Color = NewType(\"Color\", str)"
   ]
  },
  {
   "cell_type": "code",
   "execution_count": null,
   "id": "7cc6bc75-b7a1-4e88-9e81-1d3564b6e4dc",
   "metadata": {},
   "outputs": [],
   "source": [
    "class Person:\n",
    "    def __init__(self, name):\n",
    "        self.name = name"
   ]
  },
  {
   "cell_type": "markdown",
   "id": "fd0ce704-ab78-451f-bd64-895cd824ad54",
   "metadata": {},
   "source": [
    "### bash"
   ]
  },
  {
   "cell_type": "code",
   "execution_count": null,
   "id": "fc0e7c7c-b4ed-4491-8806-dcfae9957847",
   "metadata": {},
   "outputs": [],
   "source": [
    "rmdir datablock"
   ]
  },
  {
   "cell_type": "code",
   "execution_count": null,
   "id": "8534f193-b573-49c0-a5ce-8ef156492f5c",
   "metadata": {},
   "outputs": [],
   "source": [
    "echo \"scale=2; 5/2\" | bc"
   ]
  },
  {
   "cell_type": "code",
   "execution_count": null,
   "id": "2f1edc57-562e-4d0b-9632-42be7b93dabb",
   "metadata": {},
   "outputs": [],
   "source": [
    "echo \"5/2\" | bc"
   ]
  },
  {
   "cell_type": "code",
   "execution_count": null,
   "id": "00a2ca1e-8562-474d-949e-7c93077bed01",
   "metadata": {},
   "outputs": [],
   "source": [
    "echo ${id: -3}"
   ]
  },
  {
   "cell_type": "code",
   "execution_count": null,
   "id": "cdfd5776-3df4-465d-8a45-5dde1bb0487f",
   "metadata": {},
   "outputs": [],
   "source": [
    "echo $(($x + $y))"
   ]
  },
  {
   "cell_type": "code",
   "execution_count": null,
   "id": "3a4eee19-ad6a-44e7-a1c0-029e0b37b8d9",
   "metadata": {},
   "outputs": [],
   "source": [
    "#!/bin/bash\n",
    "\n",
    "echo \"My name is $1\"\n",
    "echo \"I work at $2\""
   ]
  },
  {
   "cell_type": "code",
   "execution_count": null,
   "id": "e7cb016f-a57e-4183-8cc3-3555f8126934",
   "metadata": {},
   "outputs": [],
   "source": [
    "echo ${id:3}"
   ]
  },
  {
   "cell_type": "markdown",
   "id": "5b57cabe-a4a8-4f49-971e-686bdfb3f426",
   "metadata": {},
   "source": [
    "FROM a.name, b.name FROM members.a INNER JOIN members.b ON a.supervisor_id = b.id"
   ]
  },
  {
   "cell_type": "code",
   "execution_count": null,
   "id": "589fbfc3-0c61-4c59-90e3-34ee30fe95f9",
   "metadata": {},
   "outputs": [],
   "source": [
    "SELECT city FROM Customers UNION SELECT city FROM Suppliers"
   ]
  },
  {
   "cell_type": "markdown",
   "id": "366f3496-eb0b-4e32-9b38-86c0feda436a",
   "metadata": {},
   "source": [
    "### CI/CD"
   ]
  },
  {
   "cell_type": "code",
   "execution_count": null,
   "id": "26eb2acc-a05b-40af-bfea-8253127086ef",
   "metadata": {},
   "outputs": [],
   "source": [
    "uses: actions/checkout@v1"
   ]
  },
  {
   "cell_type": "code",
   "execution_count": null,
   "id": "0c319793-2a8c-45d3-956d-5fc7f585e5bc",
   "metadata": {},
   "outputs": [],
   "source": [
    "name: hello\n",
    "\n",
    "on: [push]\n",
    "\n",
    "jobs:\n",
    "    hello-world:\n",
    "        runs-on: ubuntu-latest\n",
    "        steps:\n",
    "            - name: echo-hello\n",
    "              id: echo\n",
    "              run: echo \"hello world\""
   ]
  },
  {
   "cell_type": "code",
   "execution_count": null,
   "id": "b6b3070f-8ad4-47e7-82de-b886138625b3",
   "metadata": {},
   "outputs": [],
   "source": [
    "name: actions\n",
    "\n",
    "on: [fork]\n",
    "\n",
    "jobs:\n",
    "    clone:\n",
    "        runs-on: ubuntu-latest\n",
    "        steps:\n",
    "            - name: checkout\n",
    "              uses: actions/checkout@v1"
   ]
  },
  {
   "cell_type": "markdown",
   "id": "8c74ca8e-afa5-4f06-8663-cd896ebcfe09",
   "metadata": {},
   "source": [
    "### Docker"
   ]
  },
  {
   "cell_type": "code",
   "execution_count": null,
   "id": "7df17e9b-2ed6-422f-877e-e7f2de87d7d3",
   "metadata": {},
   "outputs": [],
   "source": [
    "docker ps"
   ]
  },
  {
   "cell_type": "code",
   "execution_count": null,
   "id": "d0693f62-2d46-4617-9995-4cb0a5c72701",
   "metadata": {},
   "outputs": [],
   "source": [
    "CMD [\"node\", \"server.js\"]"
   ]
  },
  {
   "cell_type": "code",
   "execution_count": null,
   "id": "47fe1331-65c1-4fe5-87a1-adb3253cb0a8",
   "metadata": {},
   "outputs": [],
   "source": [
    "version: 0.01\n",
    "\n",
    "services:\n",
    "    mongo-db:\n",
    "        image: mongo\n",
    "        volumes:\n",
    "            - db_data:/var/lib/mysql/data"
   ]
  },
  {
   "cell_type": "code",
   "execution_count": null,
   "id": "feee7cb5-8928-425e-9405-7241286d07fb",
   "metadata": {},
   "outputs": [],
   "source": [
    "docker logs monitor_app"
   ]
  },
  {
   "cell_type": "code",
   "execution_count": null,
   "id": "1f0f2cdf-2064-4049-869d-c68497a97491",
   "metadata": {},
   "outputs": [],
   "source": [
    "version: 0.01\n",
    "\n",
    "services:\n",
    "    mongo-db:\n",
    "        image: mongo\n",
    "        volumes:\n",
    "            - db_data:/var/lib/mysql/data\n",
    "\n",
    "volumes:\n",
    "    - db_data"
   ]
  },
  {
   "cell_type": "markdown",
   "id": "e820a21a-fd71-4398-ba00-0d7a073d658a",
   "metadata": {},
   "source": [
    "### Python"
   ]
  },
  {
   "cell_type": "code",
   "execution_count": null,
   "id": "e5f8fb61-642a-4c7d-a631-7627bb9e7863",
   "metadata": {},
   "outputs": [],
   "source": [
    "x[:, 1::2]"
   ]
  },
  {
   "cell_type": "code",
   "execution_count": null,
   "id": "1365e5ce-5dbe-4335-87e8-3b524510f257",
   "metadata": {},
   "outputs": [],
   "source": [
    "import pytest"
   ]
  },
  {
   "cell_type": "code",
   "execution_count": null,
   "id": "97ec3947-10e7-4125-8cd6-6c673fcabae1",
   "metadata": {},
   "outputs": [],
   "source": [
    "def test_avg(self):\n",
    "    self.assertEqual()"
   ]
  },
  {
   "cell_type": "code",
   "execution_count": null,
   "id": "f9421a59-b531-4e53-9de0-393c6831cf0a",
   "metadata": {},
   "outputs": [],
   "source": [
    "@pytest.mark.parametrize(\n",
    "    ('test_input', 'expected_output'),\n",
    "    ([1, 1], )\n",
    ")"
   ]
  },
  {
   "cell_type": "markdown",
   "id": "9b8d816b-6696-44a3-8b4d-8a094a5e6cbc",
   "metadata": {},
   "source": [
    "### Sympy"
   ]
  },
  {
   "cell_type": "code",
   "execution_count": null,
   "id": "210ca1c4-b92a-4880-9604-27ef9134dde3",
   "metadata": {},
   "outputs": [],
   "source": [
    "import sympy as smp"
   ]
  },
  {
   "cell_type": "code",
   "execution_count": null,
   "id": "da2acd5b-59a5-4275-a9f8-2caa69f7e159",
   "metadata": {},
   "outputs": [],
   "source": []
  }
 ],
 "metadata": {
  "kernelspec": {
   "display_name": "Python 3 (ipykernel)",
   "language": "python",
   "name": "python3"
  }
 },
 "nbformat": 4,
 "nbformat_minor": 5
}
