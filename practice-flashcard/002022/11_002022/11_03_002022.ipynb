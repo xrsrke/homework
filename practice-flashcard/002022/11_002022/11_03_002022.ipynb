{
 "cells": [
  {
   "cell_type": "code",
   "execution_count": null,
   "id": "c8f974f4-6d81-4230-bea4-92f4fa31181e",
   "metadata": {},
   "outputs": [],
   "source": [
    "import torch"
   ]
  },
  {
   "cell_type": "code",
   "execution_count": null,
   "id": "42bf85bc-ac37-4e4c-a98c-14b64df1d446",
   "metadata": {},
   "outputs": [],
   "source": [
    "import torch.nn as nn"
   ]
  },
  {
   "cell_type": "code",
   "execution_count": null,
   "id": "366e33ea-b5e5-4d54-a8bc-663e60f7b37c",
   "metadata": {},
   "outputs": [],
   "source": [
    "import torch.nn.functional as F"
   ]
  },
  {
   "cell_type": "code",
   "execution_count": null,
   "id": "a989a6dd-bf6c-42b0-a3db-df22e3754a3a",
   "metadata": {},
   "outputs": [],
   "source": [
    "from fastai.vision.all import *"
   ]
  },
  {
   "cell_type": "code",
   "execution_count": 7,
   "id": "460d89d3-84ce-4ef7-afa8-6de2bb13df4a",
   "metadata": {},
   "outputs": [],
   "source": [
    "class _TestCallback(Callback):\n",
    "    def __init__(self):\n",
    "        self.preds = []\n",
    "    \n",
    "    def after_batch_pass(self):\n",
    "        self.preds.append(self.pred)"
   ]
  },
  {
   "cell_type": "code",
   "execution_count": null,
   "id": "e9fd0729-0d0a-4c93-aa43-0807f249efb7",
   "metadata": {},
   "outputs": [],
   "source": [
    "l1.weight.grad"
   ]
  },
  {
   "cell_type": "code",
   "execution_count": 8,
   "id": "c882c9dd-ed61-4b3e-96ba-aebffe805b72",
   "metadata": {},
   "outputs": [],
   "source": [
    "class _LMModel3:\n",
    "    def __init__(self, vocab_sz, n_hidden):\n",
    "        self.i_h = nn.Embedding(vocab_sz, n_hidden)\n",
    "        self.h_h = nn.Linear(n_hidden, n_hidden)\n",
    "        self.h_o = nn.Linear(n_hidden, vocab_sz)\n",
    "        self.h = 0.\n",
    "    \n",
    "    def forward(self, x):\n",
    "        for i in range(3):\n",
    "            self.h = self.h + F.relu(self.i_h(x[:, i]))\n",
    "            self.h = F.relu(self.h_h(self.h))\n",
    "        \n",
    "        out = self.h_o(self.h)\n",
    "        self.h.detach()\n",
    "        return out"
   ]
  },
  {
   "cell_type": "code",
   "execution_count": 9,
   "id": "d4a8b054-aa73-455c-bfc8-2d905f104b28",
   "metadata": {},
   "outputs": [],
   "source": [
    "rnn = nn.RNN(input_size=3, hidden_size=64, num_layers=4)"
   ]
  },
  {
   "cell_type": "code",
   "execution_count": null,
   "id": "1e269967-1ccf-447b-b8ba-536cd93ef8e8",
   "metadata": {},
   "outputs": [],
   "source": [
    "text = ' . '.join()"
   ]
  },
  {
   "cell_type": "code",
   "execution_count": null,
   "id": "611d4356-ebc0-46fa-8567-e2c6a0a0ca8f",
   "metadata": {},
   "outputs": [],
   "source": [
    "text = [l.strip() for l in lines]"
   ]
  },
  {
   "cell_type": "code",
   "execution_count": 10,
   "id": "8e220d54-bfd6-4eb7-94fa-ca8daa7741b5",
   "metadata": {},
   "outputs": [
    {
     "ename": "NameError",
     "evalue": "name 'lines' is not defined",
     "output_type": "error",
     "traceback": [
      "\u001b[0;31m---------------------------------------------------------------------------\u001b[0m",
      "\u001b[0;31mNameError\u001b[0m                                 Traceback (most recent call last)",
      "Input \u001b[0;32mIn [10]\u001b[0m, in \u001b[0;36m<cell line: 1>\u001b[0;34m()\u001b[0m\n\u001b[0;32m----> 1\u001b[0m text \u001b[38;5;241m=\u001b[39m \u001b[38;5;124m'\u001b[39m\u001b[38;5;124m . \u001b[39m\u001b[38;5;124m'\u001b[39m\u001b[38;5;241m.\u001b[39mjoin([l\u001b[38;5;241m.\u001b[39mstrip() \u001b[38;5;28;01mfor\u001b[39;00m l \u001b[38;5;129;01min\u001b[39;00m \u001b[43mlines\u001b[49m])\n",
      "\u001b[0;31mNameError\u001b[0m: name 'lines' is not defined"
     ]
    }
   ],
   "source": [
    "text = ' . '.join([l.strip() for l in lines])"
   ]
  },
  {
   "cell_type": "code",
   "execution_count": 13,
   "id": "c678675f-bccd-41c1-8be5-e4db13adaf6c",
   "metadata": {},
   "outputs": [],
   "source": [
    "user_factors = nn.Embedding(944, 5)"
   ]
  },
  {
   "cell_type": "code",
   "execution_count": 14,
   "id": "514933d0-d41d-43f7-9a17-cf6eee8e97bc",
   "metadata": {},
   "outputs": [
    {
     "data": {
      "text/plain": [
       "Embedding(944, 5)"
      ]
     },
     "execution_count": 14,
     "metadata": {},
     "output_type": "execute_result"
    }
   ],
   "source": [
    "user_factors"
   ]
  },
  {
   "cell_type": "code",
   "execution_count": null,
   "id": "f183cda2-07a0-4e76-85e9-fb45ed955c42",
   "metadata": {},
   "outputs": [],
   "source": [
    "user_factors = torch.randn(n_users, 5)\n",
    "movie_factors = torch.randn(n_movies, 5)"
   ]
  },
  {
   "cell_type": "code",
   "execution_count": 15,
   "id": "10022b94-7f2e-44bd-a5f3-3c7b0ba6729a",
   "metadata": {},
   "outputs": [],
   "source": [
    "def log_softmax(x):\n",
    "    softmax = x.exp() / x.exp().sum()\n",
    "    return softmax.log()"
   ]
  },
  {
   "cell_type": "code",
   "execution_count": 16,
   "id": "4a41f47c-843b-435a-9d12-5b7cd764b23f",
   "metadata": {},
   "outputs": [],
   "source": [
    "import torch.optim as optim"
   ]
  },
  {
   "cell_type": "code",
   "execution_count": null,
   "id": "b8eb552a-3c4c-44fe-a2b4-cc1b2ee8d382",
   "metadata": {},
   "outputs": [],
   "source": [
    "_optim = optim.SGD(_model.parameters(), lr=0.3)"
   ]
  },
  {
   "cell_type": "code",
   "execution_count": 17,
   "id": "8843cca4-3fcf-4407-aad0-27b100ded630",
   "metadata": {},
   "outputs": [],
   "source": [
    "class _Model(nn.Module):\n",
    "    def __init__(self, layers):\n",
    "        self.layers = layers\n",
    "        \n",
    "        for i, l in enumerate(self.layers):\n",
    "            self.add_module(f\"this_layer_{i}\", l)"
   ]
  },
  {
   "cell_type": "code",
   "execution_count": null,
   "id": "41475582-2a5c-4215-aaf7-cf99d20f0c88",
   "metadata": {},
   "outputs": [],
   "source": [
    "_model = nn.Sequential(layers)"
   ]
  },
  {
   "cell_type": "code",
   "execution_count": 18,
   "id": "55e96444-c850-4c30-8f40-1fb9d4e620de",
   "metadata": {},
   "outputs": [],
   "source": [
    "def log_softmax(x):\n",
    "    return x - x.exp().sum().log()"
   ]
  },
  {
   "cell_type": "code",
   "execution_count": 19,
   "id": "c3238403-2231-42cf-88f7-fca7cf90792f",
   "metadata": {},
   "outputs": [],
   "source": [
    "def covariance(x, y):\n",
    "    return (x*y).mean() - (x.mean() * y.mean())"
   ]
  },
  {
   "cell_type": "code",
   "execution_count": 20,
   "id": "b918da3d-763a-46e7-bdcd-d9910d2f8710",
   "metadata": {},
   "outputs": [],
   "source": [
    "def correlation(x, y):\n",
    "    return covar(x, y) / (std(x)*std(y))"
   ]
  },
  {
   "cell_type": "code",
   "execution_count": 21,
   "id": "606addbb-507b-4626-98c0-dcc7473938e0",
   "metadata": {},
   "outputs": [],
   "source": [
    "class Hook:\n",
    "    def __enter__(self): print(\"hello\")\n",
    "    \n",
    "    def __exit__(self): print(\"goodbye\")"
   ]
  },
  {
   "cell_type": "code",
   "execution_count": 23,
   "id": "7d9a3f5b-446d-4c5e-beb9-0cbcd970e113",
   "metadata": {},
   "outputs": [],
   "source": [
    "class _ListContainer:\n",
    "    def __init__(self, items):\n",
    "        self.items = items\n",
    "    \n",
    "    def __getitem__(self, k):\n",
    "        if type(k) == int or type(k) == slice:\n",
    "            return self.items[k]"
   ]
  },
  {
   "cell_type": "code",
   "execution_count": 32,
   "id": "6a263eac-ee1f-4fd0-aa50-272e544a0345",
   "metadata": {},
   "outputs": [],
   "source": [
    "class _ListContainer:\n",
    "    def __init__(self, items):\n",
    "        self.items = items\n",
    "    \n",
    "    def __getitem__(self, idx):\n",
    "        if isinstance(idx[0], bool):\n",
    "            # return [e for i, e in enumerate(self.items) if idx[i] == True ]\n",
    "            return [o for m, o in zip(idx, self.items) if m]"
   ]
  },
  {
   "cell_type": "code",
   "execution_count": 33,
   "id": "ea0976d9-05f7-4b65-9733-68f9bc40e1ea",
   "metadata": {},
   "outputs": [
    {
     "data": {
      "text/plain": [
       "True"
      ]
     },
     "execution_count": 33,
     "metadata": {},
     "output_type": "execute_result"
    }
   ],
   "source": [
    "isinstance(False, bool)"
   ]
  },
  {
   "cell_type": "code",
   "execution_count": 34,
   "id": "28b7ea20-aa75-42f6-99e3-41ae7efa2a47",
   "metadata": {},
   "outputs": [],
   "source": [
    "l = _ListContainer([1, 2, 3, 4, 5, 6, 7, 8])"
   ]
  },
  {
   "cell_type": "code",
   "execution_count": 35,
   "id": "1c97b15d-d682-4c85-b0ba-d0211099309f",
   "metadata": {},
   "outputs": [
    {
     "data": {
      "text/plain": [
       "[1, 3]"
      ]
     },
     "execution_count": 35,
     "metadata": {},
     "output_type": "execute_result"
    }
   ],
   "source": [
    "l[[True, False, True, False*5]]"
   ]
  },
  {
   "cell_type": "code",
   "execution_count": null,
   "id": "2560a177-1469-41d3-82b7-452a07bd9500",
   "metadata": {},
   "outputs": [],
   "source": [
    "class _SequentialModel(nn.Module):\n",
    "    def __init__(self, *layers):\n",
    "        self.layers = nn.ModuleList(layers)\n",
    "        self.act_means = [[] for _ in self.layers]\n",
    "    \n",
    "    def __forward__(self, x)"
   ]
  },
  {
   "cell_type": "code",
   "execution_count": 36,
   "id": "d45dd8b7-3c96-4f67-9b2a-09f3d593629c",
   "metadata": {},
   "outputs": [],
   "source": [
    "def binary(x):\n",
    "    return x.exp() / (1 + x.exp())"
   ]
  },
  {
   "cell_type": "code",
   "execution_count": null,
   "id": "2b8dfcd1-9dd4-4909-b7b3-d0e743797e7b",
   "metadata": {},
   "outputs": [],
   "source": [
    "def func(layer, inp, out):\n",
    "    add_log(layer, out)"
   ]
  },
  {
   "cell_type": "code",
   "execution_count": 37,
   "id": "18e4e4bc-20a3-4f23-8d7a-b968658ca98b",
   "metadata": {},
   "outputs": [],
   "source": [
    "def add_hook(model):\n",
    "    for l in model.layers:\n",
    "        l.register_forward_hook(func)"
   ]
  },
  {
   "cell_type": "code",
   "execution_count": null,
   "id": "54a6fd54-258e-47da-b185-000e62625edd",
   "metadata": {},
   "outputs": [],
   "source": [
    "class _SequentialModel(nn.Module):\n",
    "    def __init__(self, layers):\n",
    "        self.layers = nn.ModuleList(*layers)\n",
    "        self.act_means = [[] for _ in self.layers]\n",
    "    \n",
    "    def forward(self, x):\n",
    "        for l in self.layers:\n",
    "            x = l(x)\n",
    "            self.act_means.append(x.mean)"
   ]
  },
  {
   "cell_type": "code",
   "execution_count": 46,
   "id": "d5791353-3e82-4fdb-8b93-4d0a9e015db0",
   "metadata": {},
   "outputs": [],
   "source": [
    "class _ListContainer:\n",
    "    def __init__(self, items):\n",
    "        self.items = items\n",
    "    \n",
    "    def __getitem__(self, idxs):\n",
    "        if isinstance(idxs[0], bool):\n",
    "            assert len(idxs) == len(self.items)\n",
    "            return [o for m, o in zip(idxs, self.items) if m]"
   ]
  },
  {
   "cell_type": "code",
   "execution_count": 47,
   "id": "359510ae-9610-45f6-9fb3-21c0b54972ed",
   "metadata": {},
   "outputs": [],
   "source": [
    "l = _ListContainer([1, 2, 3, 4])"
   ]
  },
  {
   "cell_type": "code",
   "execution_count": 48,
   "id": "30ac35e2-374d-40be-b815-3e9d635bc54b",
   "metadata": {},
   "outputs": [
    {
     "data": {
      "text/plain": [
       "[1, 3]"
      ]
     },
     "execution_count": 48,
     "metadata": {},
     "output_type": "execute_result"
    }
   ],
   "source": [
    "l[[True, False, True, False]]"
   ]
  },
  {
   "cell_type": "code",
   "execution_count": 60,
   "id": "11796d40-a0c4-40bc-aa5b-7793af4bc0fa",
   "metadata": {},
   "outputs": [],
   "source": [
    "torch.manual_seed(seed=42)\n",
    "random_A = torch.randn(1, 4)\n",
    "torch.manual_seed(seed=42)\n",
    "\n",
    "random_B = torch.randn(1, 4)"
   ]
  },
  {
   "cell_type": "code",
   "execution_count": 61,
   "id": "e3b2fa97-eaeb-409d-a8cf-e60a8591ff82",
   "metadata": {},
   "outputs": [
    {
     "data": {
      "text/plain": [
       "tensor([[True, True, True, True]])"
      ]
     },
     "execution_count": 61,
     "metadata": {},
     "output_type": "execute_result"
    }
   ],
   "source": [
    "random_A == random_B"
   ]
  },
  {
   "cell_type": "code",
   "execution_count": 62,
   "id": "d633229f-c07f-4153-94cb-44920d645a08",
   "metadata": {},
   "outputs": [
    {
     "data": {
      "text/plain": [
       "False"
      ]
     },
     "execution_count": 62,
     "metadata": {},
     "output_type": "execute_result"
    }
   ],
   "source": [
    "torch.cuda.is_available()"
   ]
  },
  {
   "cell_type": "code",
   "execution_count": null,
   "id": "abfa9c3e-c418-4d11-bf32-00f85f09dbcb",
   "metadata": {},
   "outputs": [],
   "source": [
    "l1.weight"
   ]
  },
  {
   "cell_type": "code",
   "execution_count": null,
   "id": "eca0e3fd-9e75-4324-89af-96d0279bb32b",
   "metadata": {},
   "outputs": [],
   "source": [
    "model.children()"
   ]
  },
  {
   "cell_type": "code",
   "execution_count": null,
   "id": "b9358dd5-6646-40b5-95e3-a15c3bd83b4b",
   "metadata": {},
   "outputs": [],
   "source": [
    "init.kaiming_normal_(layer1.weight)"
   ]
  },
  {
   "cell_type": "code",
   "execution_count": null,
   "id": "26d3957c-51dd-4ec0-a391-f8d76ecb5d18",
   "metadata": {},
   "outputs": [],
   "source": [
    "l1.register_forward_hook(add_visualize)"
   ]
  },
  {
   "cell_type": "code",
   "execution_count": null,
   "id": "5f5f45f0-88c9-4867-89a2-14db0d119f20",
   "metadata": {},
   "outputs": [],
   "source": [
    "optim.zero_grad()"
   ]
  },
  {
   "cell_type": "code",
   "execution_count": 63,
   "id": "25121368-186a-484b-b5ad-3bc7add38831",
   "metadata": {},
   "outputs": [],
   "source": [
    "from fastai.vision.all import *"
   ]
  },
  {
   "cell_type": "code",
   "execution_count": 64,
   "id": "d0b638b0-4f01-4779-86ae-bbe3eab292db",
   "metadata": {},
   "outputs": [],
   "source": [
    "class _TestCallback(Callback):\n",
    "    def __init__(self):\n",
    "        self.preds = []\n",
    "    \n",
    "    def after_batch(self):\n",
    "        self.preds.append(self.pred)"
   ]
  },
  {
   "cell_type": "code",
   "execution_count": 65,
   "id": "3e3a2568-dd4a-442a-8afd-df7c6ef1e008",
   "metadata": {},
   "outputs": [],
   "source": [
    "import random"
   ]
  },
  {
   "cell_type": "code",
   "execution_count": null,
   "id": "31ffd252-bfc9-4abe-a666-f5e34bde92cf",
   "metadata": {},
   "outputs": [],
   "source": [
    "results = random.random(population=[], weight=[], k=2)"
   ]
  },
  {
   "cell_type": "markdown",
   "id": "786956b4-2a13-4fe1-acd4-207d89e14035",
   "metadata": {},
   "source": [
    "### bash"
   ]
  },
  {
   "cell_type": "code",
   "execution_count": null,
   "id": "a69b4cc9-a4d9-4b20-b4b2-ac87662c969b",
   "metadata": {},
   "outputs": [],
   "source": [
    "echo 5/2 | bc"
   ]
  },
  {
   "cell_type": "code",
   "execution_count": null,
   "id": "e8e92cda-11b3-4977-a30e-80bc3e4e831f",
   "metadata": {},
   "outputs": [],
   "source": [
    "#!/bin/bash\n",
    "var1 = $(date)"
   ]
  },
  {
   "cell_type": "code",
   "execution_count": null,
   "id": "ab790dd9-9589-459a-90f9-b02452cf96a4",
   "metadata": {},
   "outputs": [],
   "source": [
    "echo \"scale=2; 5/2\" | bc"
   ]
  },
  {
   "cell_type": "code",
   "execution_count": null,
   "id": "716bd65e-c1b2-49fe-af18-14dab798592b",
   "metadata": {},
   "outputs": [],
   "source": [
    "#!/bin/bash\n",
    "\n",
    "for arg in \"$@\"; do\n",
    "    echo arg\n",
    "done"
   ]
  },
  {
   "cell_type": "code",
   "execution_count": null,
   "id": "312aff59-ffe4-4554-b489-f1edff990c78",
   "metadata": {},
   "outputs": [],
   "source": [
    "echo {1..10}"
   ]
  },
  {
   "cell_type": "code",
   "execution_count": null,
   "id": "718a1a12-aa66-4e97-944b-2dacf99cfa71",
   "metadata": {},
   "outputs": [],
   "source": [
    "#!/bin/bash\n",
    "\n",
    "student=\"Shivon\"\n",
    "echo \"Hello ${student }\""
   ]
  },
  {
   "cell_type": "code",
   "execution_count": null,
   "id": "52ad5e24-8e75-469a-a9f5-03164edbcbc3",
   "metadata": {},
   "outputs": [],
   "source": [
    "echo $((4+2))"
   ]
  },
  {
   "cell_type": "code",
   "execution_count": null,
   "id": "17e54c43-8bda-4f92-9294-47a7f4be6713",
   "metadata": {},
   "outputs": [],
   "source": [
    "home_path = $(pwd)"
   ]
  },
  {
   "cell_type": "code",
   "execution_count": null,
   "id": "5b6b0bf6-876c-47bd-9148-a190e6cb3ded",
   "metadata": {},
   "outputs": [],
   "source": [
    "echo ${neuralink}"
   ]
  },
  {
   "cell_type": "code",
   "execution_count": null,
   "id": "ae494dcf-fa36-4aff-948c-a254871f5f95",
   "metadata": {},
   "outputs": [],
   "source": [
    "echo $(($x + $y))"
   ]
  },
  {
   "cell_type": "code",
   "execution_count": null,
   "id": "223d4306-d87b-4099-a787-e6faba40347c",
   "metadata": {},
   "outputs": [],
   "source": [
    "echo ${name^^}"
   ]
  },
  {
   "cell_type": "code",
   "execution_count": null,
   "id": "d1e47d73-e5f6-4297-b1bd-b260bf73afb2",
   "metadata": {},
   "outputs": [],
   "source": [
    "mkdir week_{1, 2, 3}"
   ]
  },
  {
   "cell_type": "code",
   "execution_count": null,
   "id": "2ec2fb07-0313-43d1-aac8-78e142dc9ed6",
   "metadata": {},
   "outputs": [],
   "source": [
    "${id :-3}"
   ]
  },
  {
   "cell_type": "code",
   "execution_count": null,
   "id": "8cb81efb-4329-4d3b-98b3-c25598acde12",
   "metadata": {},
   "outputs": [],
   "source": [
    "echo {z..k}"
   ]
  },
  {
   "cell_type": "code",
   "execution_count": null,
   "id": "2d8d2432-b821-4723-9618-dd01789f4630",
   "metadata": {},
   "outputs": [],
   "source": [
    "${id:3:5}"
   ]
  },
  {
   "cell_type": "code",
   "execution_count": null,
   "id": "446f8b6d-7740-40cc-9b67-a41f29f4b59d",
   "metadata": {},
   "outputs": [],
   "source": [
    "echo ~shivon"
   ]
  },
  {
   "cell_type": "code",
   "execution_count": null,
   "id": "5367d5b6-425b-4f1e-a3a6-dcdce6929ab9",
   "metadata": {},
   "outputs": [],
   "source": [
    "${#name}"
   ]
  },
  {
   "cell_type": "code",
   "execution_count": null,
   "id": "de5b50b1-e711-4c31-aac2-69a543173932",
   "metadata": {},
   "outputs": [],
   "source": [
    "echo $USER"
   ]
  },
  {
   "cell_type": "code",
   "execution_count": null,
   "id": "13c80942-2190-4ba8-9b82-3620f6566bb8",
   "metadata": {},
   "outputs": [],
   "source": [
    "${id:1:5}"
   ]
  },
  {
   "cell_type": "code",
   "execution_count": null,
   "id": "36f55d88-b141-42b9-a52c-7e2482d2c89c",
   "metadata": {},
   "outputs": [],
   "source": [
    "#!/bin/bash\n",
    "\n",
    "conda activate tinypytorch\n",
    "python3 --version"
   ]
  },
  {
   "cell_type": "code",
   "execution_count": null,
   "id": "9c048379-4206-45b7-8a59-fb0790f3fb52",
   "metadata": {},
   "outputs": [],
   "source": [
    "------"
   ]
  },
  {
   "cell_type": "markdown",
   "id": "040649e7-6874-4c47-b888-65672c2e00d4",
   "metadata": {},
   "source": [
    "### Docker"
   ]
  },
  {
   "cell_type": "code",
   "execution_count": null,
   "id": "acc69dcd-2349-4651-a0a1-0217062d9b2e",
   "metadata": {},
   "outputs": [],
   "source": [
    "version: 0.01\n",
    "services:\n",
    "    mongodb:\n",
    "        image: mongo\n",
    "        volumes:\n",
    "            - db_data:/var/lib/mysql/data"
   ]
  },
  {
   "cell_type": "code",
   "execution_count": null,
   "id": "920a25a5-5c0c-46e4-90e1-79ee9aedba15",
   "metadata": {},
   "outputs": [],
   "source": [
    "docker run postgres:4.3"
   ]
  },
  {
   "cell_type": "code",
   "execution_count": null,
   "id": "00f51264-b718-41f8-a15d-85c7d801b2a5",
   "metadata": {},
   "outputs": [],
   "source": [
    "docker run --name test_app redis"
   ]
  },
  {
   "cell_type": "code",
   "execution_count": null,
   "id": "b0e34d13-b518-475d-a760-998cc318cbe9",
   "metadata": {},
   "outputs": [],
   "source": [
    "docker images"
   ]
  },
  {
   "cell_type": "code",
   "execution_count": null,
   "id": "36d6457f-5feb-48f8-8b0c-acc460921978",
   "metadata": {},
   "outputs": [],
   "source": [
    "docker run -d redis"
   ]
  },
  {
   "cell_type": "code",
   "execution_count": 66,
   "id": "ef5c72b4-3536-425c-b0b5-cc3ca5c367a2",
   "metadata": {},
   "outputs": [
    {
     "ename": "NameError",
     "evalue": "name 'version' is not defined",
     "output_type": "error",
     "traceback": [
      "\u001b[0;31m---------------------------------------------------------------------------\u001b[0m",
      "\u001b[0;31mNameError\u001b[0m                                 Traceback (most recent call last)",
      "Input \u001b[0;32mIn [66]\u001b[0m, in \u001b[0;36m<cell line: 1>\u001b[0;34m()\u001b[0m\n\u001b[0;32m----> 1\u001b[0m \u001b[43mversion\u001b[49m\n",
      "\u001b[0;31mNameError\u001b[0m: name 'version' is not defined"
     ]
    }
   ],
   "source": [
    "version: 0.01\n",
    "\n",
    "services:\n",
    "    mongodb:\n",
    "        image: mongo"
   ]
  },
  {
   "cell_type": "code",
   "execution_count": null,
   "id": "2a782b40-49e7-48e5-9011-8efc0c0f4eba",
   "metadata": {},
   "outputs": [],
   "source": [
    "docker run --net mongo-network mongo"
   ]
  },
  {
   "cell_type": "code",
   "execution_count": null,
   "id": "5043b604-4918-4efa-9088-d9886dc82eb9",
   "metadata": {},
   "outputs": [],
   "source": [
    "docker-compose -f mongo.yaml down"
   ]
  },
  {
   "cell_type": "code",
   "execution_count": null,
   "id": "c49bf9b5-4636-4ad7-890d-6373a8a4b001",
   "metadata": {},
   "outputs": [],
   "source": [
    "docker ps"
   ]
  },
  {
   "cell_type": "code",
   "execution_count": null,
   "id": "663fde42-d626-4b1d-b916-a2d7715aaf89",
   "metadata": {},
   "outputs": [],
   "source": [
    "docker pull redis"
   ]
  },
  {
   "cell_type": "code",
   "execution_count": null,
   "id": "6fd78389-6679-4d19-95c2-9d1f457fd094",
   "metadata": {},
   "outputs": [],
   "source": [
    "docker stop 12b"
   ]
  },
  {
   "cell_type": "code",
   "execution_count": null,
   "id": "879d3d9d-323f-43aa-a044-05de615278ea",
   "metadata": {},
   "outputs": [],
   "source": [
    "docker run -p6000:1000 redis"
   ]
  },
  {
   "cell_type": "code",
   "execution_count": null,
   "id": "0ba0486c-0598-4c2a-9bfa-4c7238d08695",
   "metadata": {},
   "outputs": [],
   "source": [
    "docker ps -a"
   ]
  },
  {
   "cell_type": "code",
   "execution_count": null,
   "id": "86c704d2-54ec-4dbc-8f95-6ad29f23afb4",
   "metadata": {},
   "outputs": [],
   "source": [
    "docker build -t myapp:0.01 ./home"
   ]
  },
  {
   "cell_type": "markdown",
   "id": "e6145670-0b78-45ed-a2ae-1b12043bfba9",
   "metadata": {},
   "source": [
    "### Design Patterns"
   ]
  },
  {
   "cell_type": "markdown",
   "id": "55c105e5-b247-4fd1-a2a1-a8a3e6558319",
   "metadata": {},
   "source": [
    "### SQL"
   ]
  },
  {
   "cell_type": "code",
   "execution_count": null,
   "id": "f93201ae-cd07-4fb1-aeea-aa074d36018e",
   "metadata": {},
   "outputs": [],
   "source": [
    "SELECT * FROM training ORDER BY accuracy DESC"
   ]
  },
  {
   "cell_type": "code",
   "execution_count": null,
   "id": "986422fd-c4ba-466a-a939-a552b03050c4",
   "metadata": {},
   "outputs": [],
   "source": [
    "SELECT * FROM predictions GROUP BY status ORDER BY accuracy DESC"
   ]
  },
  {
   "cell_type": "markdown",
   "id": "f6a54969-c746-4652-9e4f-7ca1524bd126",
   "metadata": {},
   "source": [
    "SELECT users.name, likes.like FROM users FULL OUTER JOIN likes ON users.id = likes.user_id"
   ]
  },
  {
   "cell_type": "code",
   "execution_count": null,
   "id": "e9c40c89-7cb9-4fe7-b0e8-3bd47122ca92",
   "metadata": {},
   "outputs": [],
   "source": [
    "SELECT * FROM users WHERE first_name LIKE \"%S\""
   ]
  },
  {
   "cell_type": "code",
   "execution_count": null,
   "id": "e1ee3a3e-7dfb-4764-b71f-e088c3e6681f",
   "metadata": {},
   "outputs": [],
   "source": [
    "SELECT * FROM datasets GROUP BY type HAVING count(id) > 40"
   ]
  },
  {
   "cell_type": "code",
   "execution_count": null,
   "id": "7b39902c-5ce4-4272-ba1f-8ddc80eb5e9c",
   "metadata": {},
   "outputs": [],
   "source": [
    "SELECT * FROM training WHERE n_epochs IN [10, 64, 9]"
   ]
  },
  {
   "cell_type": "code",
   "execution_count": null,
   "id": "6f86d88b-78f6-493f-89bb-658a3da18179",
   "metadata": {},
   "outputs": [],
   "source": [
    "SELECT CAST(n_epochs AS text) FROM training"
   ]
  },
  {
   "cell_type": "markdown",
   "id": "f128cbce-5c46-4051-9053-9c3f49bf879a",
   "metadata": {},
   "source": [
    "### CI/CD"
   ]
  },
  {
   "cell_type": "code",
   "execution_count": null,
   "id": "d0a8eacb-8993-49b7-a603-d25eadef4a6b",
   "metadata": {},
   "outputs": [],
   "source": [
    "name: Shivon\n",
    "job: Engineer\n",
    "company:\n",
    "    name: Neuralink"
   ]
  },
  {
   "cell_type": "code",
   "execution_count": null,
   "id": "8b0463fd-70e9-4ebc-92cc-07408a0af44c",
   "metadata": {},
   "outputs": [],
   "source": [
    "name: integration test\n",
    "\n",
    "on: [push]\n",
    "\n",
    "jobs:\n",
    "    test-app:\n",
    "        runs-on: ubuntu-latest"
   ]
  },
  {
   "cell_type": "code",
   "execution_count": null,
   "id": "1f45a7c8-4a49-4f20-a0d9-47f78692d8e8",
   "metadata": {},
   "outputs": [],
   "source": [
    "foundation:\n",
    "    - physics\n",
    "    - ai\n",
    "    - matsci\n",
    "    - nano"
   ]
  },
  {
   "cell_type": "code",
   "execution_count": null,
   "id": "107506d3-ef3e-4c52-801d-bd2597493ae7",
   "metadata": {},
   "outputs": [],
   "source": [
    "name: machine info\n",
    "\n",
    "on: [push]\n",
    "\n",
    "jobs:\n",
    "    check-version:\n",
    "        runs-on: ubuntu-latest\n",
    "        steps:\n",
    "            - name: processor info\n",
    "              shell: python\n",
    "              run: |\n",
    "                import platform\n",
    "                print(platform.processor())"
   ]
  },
  {
   "cell_type": "code",
   "execution_count": null,
   "id": "e2c694ba-8e55-4e1d-a560-6269dcf38d91",
   "metadata": {},
   "outputs": [],
   "source": [
    "blue = x[0::2, 0:3:2]"
   ]
  },
  {
   "cell_type": "code",
   "execution_count": 67,
   "id": "4217a6b4-354b-47b2-8f5e-58bc225f8426",
   "metadata": {},
   "outputs": [],
   "source": [
    "import sympy as smp"
   ]
  },
  {
   "cell_type": "code",
   "execution_count": null,
   "id": "9d9f2c2b-413e-408c-968e-81466d1fe248",
   "metadata": {},
   "outputs": [],
   "source": [
    "smp.lamdify([x, y], expr)"
   ]
  },
  {
   "cell_type": "code",
   "execution_count": null,
   "id": "95d44e24-ad4e-4781-9597-438b166f932e",
   "metadata": {},
   "outputs": [],
   "source": [
    "red = x[:, 1:3:2]"
   ]
  },
  {
   "cell_type": "code",
   "execution_count": null,
   "id": "378f7c57-dd5c-4672-b506-a9074ffa0337",
   "metadata": {},
   "outputs": [],
   "source": [
    "smp.diff(y, )"
   ]
  },
  {
   "cell_type": "code",
   "execution_count": 68,
   "id": "884e630a-646b-488c-b92b-242f16ebb753",
   "metadata": {},
   "outputs": [],
   "source": [
    "alpha = smp.symbols('alpha')"
   ]
  },
  {
   "cell_type": "code",
   "execution_count": 69,
   "id": "e5b5ac6e-edf1-4bb5-ae17-16d76cf83790",
   "metadata": {},
   "outputs": [
    {
     "data": {
      "text/latex": [
       "$\\displaystyle \\alpha$"
      ],
      "text/plain": [
       "alpha"
      ]
     },
     "execution_count": 69,
     "metadata": {},
     "output_type": "execute_result"
    }
   ],
   "source": [
    "alpha"
   ]
  },
  {
   "cell_type": "code",
   "execution_count": 70,
   "id": "dccdded1-ad5b-4476-ad7f-68c907476b73",
   "metadata": {},
   "outputs": [],
   "source": [
    "import scipy"
   ]
  },
  {
   "cell_type": "code",
   "execution_count": null,
   "id": "e87b2dfe-fcc8-42e4-945e-93da625b0f5e",
   "metadata": {},
   "outputs": [],
   "source": [
    "def f(x):\n",
    "    return x**2 * smp.sin(2*x) * smp.exp()"
   ]
  },
  {
   "cell_type": "code",
   "execution_count": null,
   "id": "1d7ae11f-a054-46f7-b17a-2685c0f0aff2",
   "metadata": {},
   "outputs": [],
   "source": []
  }
 ],
 "metadata": {
  "kernelspec": {
   "display_name": "Python 3 (ipykernel)",
   "language": "python",
   "name": "python3"
  },
  "language_info": {
   "codemirror_mode": {
    "name": "ipython",
    "version": 3
   },
   "file_extension": ".py",
   "mimetype": "text/x-python",
   "name": "python",
   "nbconvert_exporter": "python",
   "pygments_lexer": "ipython3",
   "version": "3.9.12"
  }
 },
 "nbformat": 4,
 "nbformat_minor": 5
}
