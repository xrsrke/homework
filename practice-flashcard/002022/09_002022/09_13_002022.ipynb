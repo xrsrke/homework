{
 "cells": [
  {
   "cell_type": "markdown",
   "id": "4d7b2bc7-36c0-45df-878e-bb22149aac93",
   "metadata": {},
   "source": [
    "### Python"
   ]
  },
  {
   "cell_type": "code",
   "execution_count": 3,
   "id": "2e5ef635-48f6-4086-a603-f894787df397",
   "metadata": {},
   "outputs": [],
   "source": [
    "import pytest"
   ]
  },
  {
   "cell_type": "code",
   "execution_count": 4,
   "id": "24fc6840-7542-4fb4-a2d3-a5fd7792b008",
   "metadata": {},
   "outputs": [],
   "source": [
    "class Book():\n",
    "    def __init__(self, name):\n",
    "        self.name = name"
   ]
  },
  {
   "cell_type": "code",
   "execution_count": 5,
   "id": "d4474e99-5b19-4a06-98c6-3377d76aa477",
   "metadata": {},
   "outputs": [],
   "source": [
    "@pytest.mark.fixture\n",
    "def notebook():\n",
    "    return Book(\"Zoo Adventure\")"
   ]
  },
  {
   "cell_type": "code",
   "execution_count": 6,
   "id": "e471ec78-5d87-4dfa-ac92-f85bfd7c1ef8",
   "metadata": {},
   "outputs": [],
   "source": [
    "def test_book(notebook):\n",
    "    assert notebook.name == \"Zoo Adventure\""
   ]
  },
  {
   "cell_type": "code",
   "execution_count": 7,
   "id": "71042eff-1dd0-44d5-8a33-cdfb526dac14",
   "metadata": {},
   "outputs": [],
   "source": [
    "def test_log(caplog):\n",
    "    func()\n",
    "    assert caplog.text == \"msg\""
   ]
  },
  {
   "cell_type": "code",
   "execution_count": 8,
   "id": "fb60c5f2-5d5b-45ea-801a-8215f74302df",
   "metadata": {},
   "outputs": [],
   "source": [
    "from enum import Enum"
   ]
  },
  {
   "cell_type": "code",
   "execution_count": 9,
   "id": "06aea4ac-5a7a-48ca-85c5-ac5eeeaabe9b",
   "metadata": {},
   "outputs": [],
   "source": [
    "class Vehicles(Enum):\n",
    "    FALCON_9 = \"Falcon 9\""
   ]
  },
  {
   "cell_type": "code",
   "execution_count": 10,
   "id": "eaf07565-6a65-4f23-b513-772c728df54f",
   "metadata": {},
   "outputs": [],
   "source": [
    "from typing import NamedTuple"
   ]
  },
  {
   "cell_type": "code",
   "execution_count": 11,
   "id": "779b4bd2-e402-4f09-895b-bec8d281104d",
   "metadata": {},
   "outputs": [],
   "source": [
    "class ElectricVehicle(NamedTuple):\n",
    "    efficient: int\n",
    "    ..."
   ]
  },
  {
   "cell_type": "code",
   "execution_count": 13,
   "id": "77d9808a-aa7e-4333-a833-7b4cc0738013",
   "metadata": {},
   "outputs": [],
   "source": [
    "from dataclasses import field, dataclass"
   ]
  },
  {
   "cell_type": "code",
   "execution_count": 14,
   "id": "806fbc6d-7d54-4803-8977-f4f82d75327e",
   "metadata": {},
   "outputs": [],
   "source": [
    "@dataclass\n",
    "class Planet:\n",
    "    name: str\n",
    "    population: int\n",
    "    mass: int\n",
    "    secret_code: int = field(repr=False)"
   ]
  },
  {
   "cell_type": "code",
   "execution_count": null,
   "id": "c2d6eae0-c8d8-4e77-83ae-c06b5344aedf",
   "metadata": {},
   "outputs": [],
   "source": []
  }
 ],
 "metadata": {
  "kernelspec": {
   "display_name": "Python 3 (ipykernel)",
   "language": "python",
   "name": "python3"
  },
  "language_info": {
   "codemirror_mode": {
    "name": "ipython",
    "version": 3
   },
   "file_extension": ".py",
   "mimetype": "text/x-python",
   "name": "python",
   "nbconvert_exporter": "python",
   "pygments_lexer": "ipython3",
   "version": "3.9.13"
  }
 },
 "nbformat": 4,
 "nbformat_minor": 5
}
