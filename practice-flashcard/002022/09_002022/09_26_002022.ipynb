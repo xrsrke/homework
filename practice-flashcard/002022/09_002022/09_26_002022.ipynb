{
 "cells": [
  {
   "cell_type": "markdown",
   "id": "404ac403-f35f-4060-969d-b7ab5d41058f",
   "metadata": {},
   "source": [
    "### Design Patterns"
   ]
  },
  {
   "cell_type": "code",
   "execution_count": null,
   "id": "001c1d60-3fe7-49da-bc4b-9c5dfc9f40c5",
   "metadata": {},
   "outputs": [],
   "source": [
    "class Order:\n",
    "    def add_item(self):\n",
    "        pass\n",
    "    \n",
    "    def total_price(self):\n",
    "        pass"
   ]
  },
  {
   "cell_type": "code",
   "execution_count": null,
   "id": "54b451d4-bbb7-4869-8832-6ca7639b4017",
   "metadata": {},
   "outputs": [],
   "source": [
    "class Payment:\n",
    "    pass"
   ]
  },
  {
   "cell_type": "markdown",
   "id": "b3a19a83-66fd-43ba-ba38-36aab5d06531",
   "metadata": {},
   "source": [
    "### Pytest"
   ]
  },
  {
   "cell_type": "code",
   "execution_count": null,
   "id": "919740c7-4084-49ee-9ddd-1bc00e25b03b",
   "metadata": {},
   "outputs": [],
   "source": [
    "import pytest"
   ]
  },
  {
   "cell_type": "code",
   "execution_count": null,
   "id": "f1f47367-fe2e-45b6-b8b8-d6cd683ca1d0",
   "metadata": {},
   "outputs": [],
   "source": [
    "@pytest.mark.parametrize(\n",
    "    (\"test_input\", \"expected\"),\n",
    "    ([1, 1], [2, 4])\n",
    ")\n",
    "def test_square(test_input, expected):\n",
    "    assert square(test_input) == expected"
   ]
  },
  {
   "cell_type": "markdown",
   "id": "53dd66dd-0b6d-4ae6-8776-57257050dba8",
   "metadata": {},
   "source": [
    "### Python"
   ]
  },
  {
   "cell_type": "code",
   "execution_count": null,
   "id": "13042ed4-c3b6-4142-b676-b977053e6fa7",
   "metadata": {},
   "outputs": [],
   "source": [
    "class NumberSeven:\n",
    "    def __get__(self, instance, owner):\n",
    "        return 7"
   ]
  },
  {
   "cell_type": "markdown",
   "id": "ddc92ee0-84f8-4b91-bbbe-2f1783c7446d",
   "metadata": {},
   "source": [
    "### SymPy"
   ]
  },
  {
   "cell_type": "code",
   "execution_count": null,
   "id": "dc243990-beb9-43fc-bb68-11ec682040ba",
   "metadata": {},
   "outputs": [],
   "source": [
    "import sympy as smp"
   ]
  },
  {
   "cell_type": "code",
   "execution_count": null,
   "id": "697ab092-7cac-49a6-a770-ad37665386d2",
   "metadata": {},
   "outputs": [],
   "source": [
    "x = smp.symbols('x', real=True)"
   ]
  },
  {
   "cell_type": "code",
   "execution_count": null,
   "id": "451e0252-b527-4b40-a588-529123065dc0",
   "metadata": {},
   "outputs": [
    {
     "data": {
      "text/latex": [
       "$\\displaystyle x$"
      ],
      "text/plain": [
       "x"
      ]
     },
     "execution_count": null,
     "metadata": {},
     "output_type": "execute_result"
    }
   ],
   "source": [
    "x"
   ]
  },
  {
   "cell_type": "code",
   "execution_count": null,
   "id": "5e612cc6-015b-4eef-8f15-c23eda2b6556",
   "metadata": {},
   "outputs": [],
   "source": []
  }
 ],
 "metadata": {
  "kernelspec": {
   "display_name": "Python 3 (ipykernel)",
   "language": "python",
   "name": "python3"
  },
  "language_info": {
   "codemirror_mode": {
    "name": "ipython",
    "version": 3
   },
   "file_extension": ".py",
   "mimetype": "text/x-python",
   "name": "python",
   "nbconvert_exporter": "python",
   "pygments_lexer": "ipython3",
   "version": "3.9.13"
  }
 },
 "nbformat": 4,
 "nbformat_minor": 5
}
