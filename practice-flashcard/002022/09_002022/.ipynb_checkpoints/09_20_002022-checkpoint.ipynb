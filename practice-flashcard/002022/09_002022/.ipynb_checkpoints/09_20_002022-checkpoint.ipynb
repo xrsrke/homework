{
 "cells": [
  {
   "cell_type": "markdown",
   "id": "331cdd21-58f5-4a71-8e41-77323b2472ca",
   "metadata": {},
   "source": [
    "### SymPy"
   ]
  },
  {
   "cell_type": "code",
   "execution_count": 1,
   "id": "5044e204-503f-4428-9dcb-cf9538b4a7e0",
   "metadata": {},
   "outputs": [],
   "source": [
    "import sympy as smp"
   ]
  },
  {
   "cell_type": "code",
   "execution_count": 2,
   "id": "46c5d7ef-59c7-4562-a9f6-bfced4fdc398",
   "metadata": {},
   "outputs": [],
   "source": [
    "x, y, z = smp.symbols('x y z')"
   ]
  },
  {
   "cell_type": "code",
   "execution_count": 3,
   "id": "26d92ade-8724-4650-acce-10ea23f0b73a",
   "metadata": {},
   "outputs": [],
   "source": [
    "x = smp.symbols('x', real=True)"
   ]
  },
  {
   "cell_type": "code",
   "execution_count": 6,
   "id": "794efeb2-5860-40a0-997e-11bdbcb78c02",
   "metadata": {},
   "outputs": [],
   "source": [
    "q = smp.Rational(1, 2)"
   ]
  },
  {
   "cell_type": "code",
   "execution_count": 7,
   "id": "ab7b248f-bd61-4667-beac-065914618534",
   "metadata": {},
   "outputs": [
    {
     "data": {
      "text/latex": [
       "$\\displaystyle \\frac{1}{2}$"
      ],
      "text/plain": [
       "1/2"
      ]
     },
     "execution_count": 7,
     "metadata": {},
     "output_type": "execute_result"
    }
   ],
   "source": [
    "q"
   ]
  },
  {
   "cell_type": "code",
   "execution_count": null,
   "id": "e9dcbe33-965b-4bd6-8075-f7422ee2521c",
   "metadata": {},
   "outputs": [],
   "source": [
    "f.subs([(x, 3), (y, 2z)])"
   ]
  },
  {
   "cell_type": "code",
   "execution_count": null,
   "id": "09479b26-8d0a-4464-8dc4-52d54333d3f6",
   "metadata": {},
   "outputs": [],
   "source": [
    "smp.lamdify([x, y], expr)"
   ]
  },
  {
   "cell_type": "markdown",
   "id": "8f15c4ff-e15a-4ccc-8e0a-35501925b620",
   "metadata": {},
   "source": [
    "### SciPy"
   ]
  },
  {
   "cell_type": "code",
   "execution_count": 9,
   "id": "b01ab587-ec25-49cd-83df-42bcc61adce6",
   "metadata": {},
   "outputs": [],
   "source": [
    "import numpy as np"
   ]
  },
  {
   "cell_type": "code",
   "execution_count": 10,
   "id": "42662300-dad1-49bb-9368-35427ead60ed",
   "metadata": {},
   "outputs": [],
   "source": [
    "def func(x, y):\n",
    "    return np.sin(x + y**2)"
   ]
  },
  {
   "cell_type": "markdown",
   "id": "942bc7fa-2b01-486f-930e-1d28c85f6aa6",
   "metadata": {},
   "source": [
    "### Python"
   ]
  },
  {
   "cell_type": "code",
   "execution_count": 8,
   "id": "5a33af92-0e32-43d7-b3e9-9b42a18554c6",
   "metadata": {},
   "outputs": [
    {
     "ename": "NameError",
     "evalue": "name 'unittest' is not defined",
     "output_type": "error",
     "traceback": [
      "\u001b[0;31m---------------------------------------------------------------------------\u001b[0m",
      "\u001b[0;31mNameError\u001b[0m                                 Traceback (most recent call last)",
      "Input \u001b[0;32mIn [8]\u001b[0m, in \u001b[0;36m<cell line: 1>\u001b[0;34m()\u001b[0m\n\u001b[0;32m----> 1\u001b[0m \u001b[38;5;28;01mclass\u001b[39;00m \u001b[38;5;21;01mTestFunc\u001b[39;00m(\u001b[43munittest\u001b[49m\u001b[38;5;241m.\u001b[39mTestCase):\n\u001b[1;32m      2\u001b[0m     \u001b[38;5;28;01mdef\u001b[39;00m \u001b[38;5;21mtest_do_stuff\u001b[39m(\u001b[38;5;28mself\u001b[39m):\n\u001b[1;32m      3\u001b[0m         param \u001b[38;5;241m=\u001b[39m \u001b[38;5;124m\"\u001b[39m\u001b[38;5;124mstring\u001b[39m\u001b[38;5;124m\"\u001b[39m\n",
      "\u001b[0;31mNameError\u001b[0m: name 'unittest' is not defined"
     ]
    }
   ],
   "source": [
    "class TestFunc(unittest.TestCase):\n",
    "    def test_do_stuff(self):\n",
    "        param = \"string\"\n",
    "        result = do_stuff(param)\n",
    "        self.assertIsInstance(result, ValueError)"
   ]
  },
  {
   "cell_type": "code",
   "execution_count": null,
   "id": "f4264673-d46d-44ff-9864-8dbb43b29d34",
   "metadata": {},
   "outputs": [],
   "source": [
    "my_dict = [key:value**2 for key, value in simple_dict.items()]"
   ]
  },
  {
   "cell_type": "markdown",
   "id": "813ede32-68a0-453f-9061-eb67b37cff91",
   "metadata": {},
   "source": [
    "### Matplotlib"
   ]
  },
  {
   "cell_type": "code",
   "execution_count": null,
   "id": "6e8e267d-ade9-4169-9f72-e988a9f720a9",
   "metadata": {},
   "outputs": [],
   "source": [
    "plt.plot(dev_x, dev_t)\n",
    "plt.xlabel\n",
    "plt.ylabel"
   ]
  },
  {
   "cell_type": "code",
   "execution_count": null,
   "id": "986a688e-b460-4641-bc6c-f77bf24daa8f",
   "metadata": {},
   "outputs": [],
   "source": [
    "plt.plot(x, y)\n",
    "plt.xlabel('...')\n",
    "plt.ylabel('...')"
   ]
  },
  {
   "cell_type": "markdown",
   "id": "ba0373ce-2151-47c3-9a47-5c9f3d94d76c",
   "metadata": {},
   "source": [
    "### PyTorch"
   ]
  },
  {
   "cell_type": "code",
   "execution_count": null,
   "id": "d159ad62-cd57-405b-b591-dccb4b5f7899",
   "metadata": {},
   "outputs": [],
   "source": [
    "class Dataset:\n",
    "    def __init__(self, x, y):\n",
    "        self.x, self.y = x, y\n",
    "    \n",
    "    def __len__(self):\n",
    "        return len(self.x)\n",
    "    \n",
    "    def __getitem__(self, idx):\n",
    "        return self.x[idx], self.y[idx]"
   ]
  }
 ],
 "metadata": {
  "kernelspec": {
   "display_name": "Python 3 (ipykernel)",
   "language": "python",
   "name": "python3"
  },
  "language_info": {
   "codemirror_mode": {
    "name": "ipython",
    "version": 3
   },
   "file_extension": ".py",
   "mimetype": "text/x-python",
   "name": "python",
   "nbconvert_exporter": "python",
   "pygments_lexer": "ipython3",
   "version": "3.9.13"
  }
 },
 "nbformat": 4,
 "nbformat_minor": 5
}
