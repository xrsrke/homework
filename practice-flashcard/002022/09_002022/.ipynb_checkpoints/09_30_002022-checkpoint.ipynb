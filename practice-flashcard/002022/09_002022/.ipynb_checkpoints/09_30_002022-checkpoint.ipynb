{
 "cells": [
  {
   "cell_type": "markdown",
   "id": "4f433408-016d-42e8-9be5-d8412111a134",
   "metadata": {},
   "source": [
    "### SciPy"
   ]
  },
  {
   "cell_type": "code",
   "execution_count": 1,
   "id": "447664dd-1abd-40ff-b415-27a3bfa584bc",
   "metadata": {},
   "outputs": [],
   "source": [
    "import sympy as smp"
   ]
  },
  {
   "cell_type": "code",
   "execution_count": 2,
   "id": "ceb93a55-a759-4094-96fb-6e0d116f5a3f",
   "metadata": {},
   "outputs": [],
   "source": [
    "x = smp.symbols('x')"
   ]
  },
  {
   "cell_type": "code",
   "execution_count": 4,
   "id": "5fde7eb9-1d9f-45bb-ae4a-341cb454e60a",
   "metadata": {},
   "outputs": [],
   "source": [
    "f, g = smp.symbols('f g', cls=smp.Function)"
   ]
  },
  {
   "cell_type": "code",
   "execution_count": 5,
   "id": "15e84f1a-289f-404a-8adc-1c388caa7a0a",
   "metadata": {},
   "outputs": [
    {
     "data": {
      "text/plain": [
       "f"
      ]
     },
     "execution_count": 5,
     "metadata": {},
     "output_type": "execute_result"
    }
   ],
   "source": [
    "f"
   ]
  },
  {
   "cell_type": "code",
   "execution_count": null,
   "id": "70eab4c5-a049-4770-872e-fb3b627c7591",
   "metadata": {},
   "outputs": [],
   "source": []
  }
 ],
 "metadata": {
  "kernelspec": {
   "display_name": "Python 3 (ipykernel)",
   "language": "python",
   "name": "python3"
  },
  "language_info": {
   "codemirror_mode": {
    "name": "ipython",
    "version": 3
   },
   "file_extension": ".py",
   "mimetype": "text/x-python",
   "name": "python",
   "nbconvert_exporter": "python",
   "pygments_lexer": "ipython3",
   "version": "3.9.13"
  }
 },
 "nbformat": 4,
 "nbformat_minor": 5
}
