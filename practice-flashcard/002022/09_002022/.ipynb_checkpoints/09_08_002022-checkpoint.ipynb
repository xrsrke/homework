{
 "cells": [
  {
   "cell_type": "markdown",
   "id": "c96eae75",
   "metadata": {},
   "source": [
    "### Python"
   ]
  },
  {
   "cell_type": "code",
   "execution_count": 4,
   "id": "4f864d41",
   "metadata": {},
   "outputs": [],
   "source": [
    "from collections import namedtuple"
   ]
  },
  {
   "cell_type": "code",
   "execution_count": 5,
   "id": "434367f2",
   "metadata": {},
   "outputs": [],
   "source": [
    "EV2 = namedtuple(\"ElectricVehicle\", [\"efficent\", \"make\", \"price\"], defaults=(100, \"Tesla\", 50000))"
   ]
  },
  {
   "cell_type": "code",
   "execution_count": 7,
   "id": "7f23393c",
   "metadata": {},
   "outputs": [],
   "source": [
    "from dataclasses import dataclass"
   ]
  },
  {
   "cell_type": "code",
   "execution_count": 8,
   "id": "1658c7af",
   "metadata": {},
   "outputs": [],
   "source": [
    "@dataclass(order=True)\n",
    "class Vehicle:\n",
    "    year: int\n",
    "    price: int\n",
    "    manufacture: str"
   ]
  },
  {
   "cell_type": "code",
   "execution_count": 9,
   "id": "5851da11",
   "metadata": {},
   "outputs": [],
   "source": [
    "# @dataclass\n",
    "# class Universe:\n",
    "#     constants: int\n",
    "    "
   ]
  },
  {
   "cell_type": "code",
   "execution_count": 10,
   "id": "ee2ab113",
   "metadata": {},
   "outputs": [],
   "source": [
    "from abc import ABC"
   ]
  },
  {
   "cell_type": "code",
   "execution_count": 11,
   "id": "d859b33a",
   "metadata": {},
   "outputs": [],
   "source": [
    "# class Vehicle(ABC):\n",
    "#     @abc.abstractproperty\n",
    "#     def "
   ]
  },
  {
   "cell_type": "code",
   "execution_count": 12,
   "id": "a1da6edf",
   "metadata": {},
   "outputs": [],
   "source": [
    "class LinkedList:\n",
    "    def __init__(self, value):\n",
    "        new_node = Node(value)\n",
    "        self.head = new_node\n",
    "        self.tail = new_node\n",
    "        self.length = 1"
   ]
  },
  {
   "cell_type": "code",
   "execution_count": 13,
   "id": "0f0c43f3",
   "metadata": {},
   "outputs": [],
   "source": [
    "import pytest"
   ]
  },
  {
   "cell_type": "code",
   "execution_count": 14,
   "id": "0f081da5",
   "metadata": {},
   "outputs": [],
   "source": [
    "a, b = 11, 1"
   ]
  },
  {
   "cell_type": "code",
   "execution_count": 17,
   "id": "dad9ed04",
   "metadata": {},
   "outputs": [],
   "source": [
    "@pytest.mark.skipif(a > b, \"cause i want to\")\n",
    "def func():\n",
    "    pass"
   ]
  },
  {
   "cell_type": "code",
   "execution_count": 19,
   "id": "d055a147",
   "metadata": {},
   "outputs": [],
   "source": [
    "from dataclasses import dataclass, field"
   ]
  },
  {
   "cell_type": "code",
   "execution_count": 20,
   "id": "1f37c8ea",
   "metadata": {},
   "outputs": [],
   "source": [
    "@dataclass\n",
    "class Planet:\n",
    "    name: str\n",
    "    population: int\n",
    "    mass: int\n",
    "    secret_number: int = field(repr=False)"
   ]
  },
  {
   "cell_type": "code",
   "execution_count": 21,
   "id": "e2995c32",
   "metadata": {},
   "outputs": [],
   "source": [
    "@dataclass\n",
    "class Universe:\n",
    "    constans: int\n",
    "    initial_energy: int = 41\n",
    "    change_in_energy: int = 0"
   ]
  },
  {
   "cell_type": "code",
   "execution_count": 23,
   "id": "9222de76",
   "metadata": {},
   "outputs": [],
   "source": [
    "@pytest.mark.skipif(a > b, \"cause i want to\")\n",
    "def test_func_3():\n",
    "    pass"
   ]
  },
  {
   "cell_type": "code",
   "execution_count": null,
   "id": "bb41854c",
   "metadata": {},
   "outputs": [],
   "source": []
  }
 ],
 "metadata": {
  "kernelspec": {
   "display_name": "Python 3 (ipykernel)",
   "language": "python",
   "name": "python3"
  },
  "language_info": {
   "codemirror_mode": {
    "name": "ipython",
    "version": 3
   },
   "file_extension": ".py",
   "mimetype": "text/x-python",
   "name": "python",
   "nbconvert_exporter": "python",
   "pygments_lexer": "ipython3",
   "version": "3.9.12"
  }
 },
 "nbformat": 4,
 "nbformat_minor": 5
}
