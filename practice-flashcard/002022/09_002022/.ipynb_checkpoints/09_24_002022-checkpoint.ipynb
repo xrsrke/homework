{
 "cells": [
  {
   "cell_type": "markdown",
   "id": "7a4cda43-a005-4e5f-bf68-31c32f56dc3d",
   "metadata": {},
   "source": [
    "### Matplotlib"
   ]
  },
  {
   "cell_type": "code",
   "execution_count": 1,
   "id": "4d150179-f6c8-43e7-bf1a-91883ca3094d",
   "metadata": {},
   "outputs": [],
   "source": [
    "from matplotlib import pyplot as plt"
   ]
  },
  {
   "cell_type": "code",
   "execution_count": null,
   "id": "e0fc8ec2-7a59-467a-953a-4ed83536882a",
   "metadata": {},
   "outputs": [],
   "source": [
    "plt.plot(dev_x, dev_y)"
   ]
  },
  {
   "cell_type": "code",
   "execution_count": null,
   "id": "9b0af26c-a5e4-456a-8f29-5dea3db24009",
   "metadata": {},
   "outputs": [],
   "source": [
    "plt.ylabel('')"
   ]
  },
  {
   "cell_type": "code",
   "execution_count": null,
   "id": "c44ac5c4-e038-4d99-8182-d1e55b0cdde7",
   "metadata": {},
   "outputs": [],
   "source": [
    "plt.xlabel('')"
   ]
  },
  {
   "cell_type": "markdown",
   "id": "2f7bc3f5-7b26-426d-8ed8-ed59198ec643",
   "metadata": {},
   "source": [
    "### Design Patterns"
   ]
  },
  {
   "cell_type": "markdown",
   "id": "ba799269-4102-430e-a477-bbec754bfcbc",
   "metadata": {},
   "source": [
    "##### Point Factory"
   ]
  },
  {
   "cell_type": "code",
   "execution_count": 2,
   "id": "28a94f23-407a-41f3-9868-8dba9d8e40b2",
   "metadata": {},
   "outputs": [],
   "source": [
    "class Point:\n",
    "    def __init__(self, x, y):\n",
    "        self.x = x\n",
    "        self.y = y"
   ]
  },
  {
   "cell_type": "code",
   "execution_count": 3,
   "id": "ae4e6b4f-d7b5-47a7-b140-73115fbadb58",
   "metadata": {
    "tags": []
   },
   "outputs": [],
   "source": [
    "class PointFactory:\n",
    "    @staticmethod\n",
    "    def new_cartesian_point(x, y):\n",
    "        return Point(x, y)\n",
    "    \n",
    "    @staticmethod\n",
    "    def new_polar_point():\n",
    "        ..."
   ]
  },
  {
   "cell_type": "markdown",
   "id": "104c9b57-0885-411d-96ec-be59fb0421ed",
   "metadata": {},
   "source": [
    "##### User Builder"
   ]
  },
  {
   "cell_type": "code",
   "execution_count": 6,
   "id": "2f2ff841-ca13-49cd-84d9-24181c5a4c09",
   "metadata": {
    "tags": []
   },
   "outputs": [],
   "source": [
    "class User:\n",
    "    def __init__(self, name):\n",
    "        self.name = name\n",
    "        self.gender = None\n",
    "        self.address = None"
   ]
  },
  {
   "cell_type": "code",
   "execution_count": 7,
   "id": "03460531-424e-48c5-b8a0-5869b0c2f95a",
   "metadata": {},
   "outputs": [],
   "source": [
    "class UserBuilder:\n",
    "    def __init__(self, name):\n",
    "        self.user = User(name)\n",
    "    \n",
    "    def setGender(self, gender):\n",
    "        self.user.gender = gender\n",
    "        return self.user\n",
    "\n",
    "    def setAddress(self, address):\n",
    "        self.user.address = address\n",
    "        return self.user"
   ]
  },
  {
   "cell_type": "markdown",
   "id": "c5a152c4-d782-45b1-a4d0-65238a0d5463",
   "metadata": {},
   "source": [
    "##### Person Builder"
   ]
  },
  {
   "cell_type": "code",
   "execution_count": 9,
   "id": "76224985-c1bc-4682-a4d3-94018bb6c758",
   "metadata": {
    "tags": []
   },
   "outputs": [],
   "source": [
    "class Person:\n",
    "    def __init__(self):\n",
    "        self.postcode = None\n",
    "        self.city = None\n",
    "        \n",
    "        self.company_name = None\n",
    "        self.annual_income = None"
   ]
  },
  {
   "cell_type": "code",
   "execution_count": 43,
   "id": "dc9ac260-611e-4789-9db5-4024ad9d516b",
   "metadata": {},
   "outputs": [],
   "source": [
    "class PersonBuilder:\n",
    "    def __init__(self, person=Person()):\n",
    "        self.person = person\n",
    "    \n",
    "    @property\n",
    "    def lives(self):\n",
    "        return PersonAddressBuilder(self.person)\n",
    "    \n",
    "    @property\n",
    "    def works(self):\n",
    "        return PersonEmploymentBuilder(self.person)"
   ]
  },
  {
   "cell_type": "code",
   "execution_count": 44,
   "id": "3aa80504-0ed0-40cc-b11e-7aa2576b6fd9",
   "metadata": {},
   "outputs": [],
   "source": [
    "class PersonAddressBuilder(PersonBuilder):\n",
    "    def __init__(self, person):\n",
    "        super().__init__(person)\n",
    "    \n",
    "    def with_postcode(self, postcode):\n",
    "        self.person.postcode = postcode\n",
    "        return self\n",
    "\n",
    "    def in_city(self, city):\n",
    "        self.person.city = city\n",
    "        return self"
   ]
  },
  {
   "cell_type": "code",
   "execution_count": 45,
   "id": "70c211c2-af0a-4a25-9cff-62ea81c56d20",
   "metadata": {},
   "outputs": [],
   "source": [
    "class PersonEmploymentBuilder(PersonBuilder):\n",
    "    def __init__(self, person):\n",
    "        super().__init__(person)\n",
    "    \n",
    "    def at(self, company_name):\n",
    "        self.person.company_name = company_name\n",
    "        return self\n",
    "    \n",
    "    def earning(self, annual_income):\n",
    "        self.person.annual_income = annual_income\n",
    "        return self"
   ]
  },
  {
   "cell_type": "code",
   "execution_count": 46,
   "id": "bc135847-b8eb-486d-839d-c6c8b9f6c1dd",
   "metadata": {},
   "outputs": [],
   "source": [
    "p = PersonBuilder()"
   ]
  },
  {
   "cell_type": "code",
   "execution_count": 47,
   "id": "2f48abbf-d799-4d82-a76a-20c8f1f0ccf5",
   "metadata": {},
   "outputs": [],
   "source": [
    "person = p\\\n",
    "            .lives.with_postcode(23123).in_city('ABC')\\\n",
    "            .works.at('FFF').earning(2000)"
   ]
  },
  {
   "cell_type": "code",
   "execution_count": 49,
   "id": "674cca51-a616-43d7-ad0a-4474f3d8ca57",
   "metadata": {},
   "outputs": [
    {
     "data": {
      "text/plain": [
       "{'postcode': 23123,\n",
       " 'city': 'ABC',\n",
       " 'company_name': 'FFF',\n",
       " 'annual_income': 2000}"
      ]
     },
     "execution_count": 49,
     "metadata": {},
     "output_type": "execute_result"
    }
   ],
   "source": [
    "person.person.__dict__"
   ]
  },
  {
   "cell_type": "markdown",
   "id": "ea7a2b64-7419-49e0-9ea1-3837c8182605",
   "metadata": {},
   "source": [
    "### SciPy"
   ]
  },
  {
   "cell_type": "code",
   "execution_count": 4,
   "id": "dc663a7c-b64e-41bc-96fe-8e3e7b22f51c",
   "metadata": {},
   "outputs": [],
   "source": [
    "import numpy as np"
   ]
  },
  {
   "cell_type": "code",
   "execution_count": 5,
   "id": "84f6a721-0be5-404c-b347-989c79a5f12d",
   "metadata": {},
   "outputs": [],
   "source": [
    "def f(x, y):\n",
    "    return np.sin(x + y**2)"
   ]
  },
  {
   "cell_type": "code",
   "execution_count": null,
   "id": "be635946-6c4f-429d-83c9-97c9537dc687",
   "metadata": {},
   "outputs": [],
   "source": []
  }
 ],
 "metadata": {
  "kernelspec": {
   "display_name": "Python 3 (ipykernel)",
   "language": "python",
   "name": "python3"
  },
  "language_info": {
   "codemirror_mode": {
    "name": "ipython",
    "version": 3
   },
   "file_extension": ".py",
   "mimetype": "text/x-python",
   "name": "python",
   "nbconvert_exporter": "python",
   "pygments_lexer": "ipython3",
   "version": "3.9.13"
  }
 },
 "nbformat": 4,
 "nbformat_minor": 5
}
