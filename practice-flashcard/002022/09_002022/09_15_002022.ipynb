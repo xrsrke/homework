{
 "cells": [
  {
   "cell_type": "markdown",
   "id": "53a4e43f-1860-476c-b8d2-b7bddafe36a1",
   "metadata": {},
   "source": [
    "### Python"
   ]
  },
  {
   "cell_type": "code",
   "execution_count": 9,
   "id": "3f44308d-1601-4dc3-90a3-6b45ebae546c",
   "metadata": {},
   "outputs": [],
   "source": [
    "sim_dict = {\n",
    "    \"a\": 2,\n",
    "    \"b\": 3\n",
    "}"
   ]
  },
  {
   "cell_type": "code",
   "execution_count": 10,
   "id": "5ad3729d-73bb-4ae9-bed0-94cd943f7b6b",
   "metadata": {},
   "outputs": [],
   "source": [
    "dict_squared = { key:value**2 for key, value in sim_dict.items()}"
   ]
  },
  {
   "cell_type": "code",
   "execution_count": 11,
   "id": "70a14707-f330-469b-b463-18cbfeb1824d",
   "metadata": {},
   "outputs": [
    {
     "data": {
      "text/plain": [
       "{'a': 4, 'b': 9}"
      ]
     },
     "execution_count": 11,
     "metadata": {},
     "output_type": "execute_result"
    }
   ],
   "source": [
    "dict_squared"
   ]
  },
  {
   "cell_type": "code",
   "execution_count": 12,
   "id": "bb1f802c-2423-4da3-8654-9602b082d47c",
   "metadata": {},
   "outputs": [],
   "source": [
    "import pytest"
   ]
  },
  {
   "cell_type": "code",
   "execution_count": 13,
   "id": "75112b11-125e-470f-81e5-d21eb74aeee0",
   "metadata": {},
   "outputs": [],
   "source": [
    "@pytest.mark.usefixtures(\"return_two\")\n",
    "class TestFunc:\n",
    "    def test_func(self, return_two):\n",
    "        assert return_two == 2"
   ]
  },
  {
   "cell_type": "code",
   "execution_count": 15,
   "id": "8da5cced-cc4a-4998-8f16-82d45474f7f7",
   "metadata": {},
   "outputs": [
    {
     "data": {
      "text/plain": [
       "{'a': 2, 'b': 3}"
      ]
     },
     "execution_count": 15,
     "metadata": {},
     "output_type": "execute_result"
    }
   ],
   "source": [
    "sim_dict"
   ]
  },
  {
   "cell_type": "code",
   "execution_count": 16,
   "id": "f54a0a76-3f31-4e12-a808-3644ff5087d8",
   "metadata": {},
   "outputs": [],
   "source": [
    "my_dict = {key:value**2 for key, value in sim_dict.items()}"
   ]
  },
  {
   "cell_type": "code",
   "execution_count": 17,
   "id": "e54a7ea1-27e9-4e57-ba79-0be1a3b48605",
   "metadata": {},
   "outputs": [
    {
     "data": {
      "text/plain": [
       "{'a': 4, 'b': 9}"
      ]
     },
     "execution_count": 17,
     "metadata": {},
     "output_type": "execute_result"
    }
   ],
   "source": [
    "my_dict"
   ]
  },
  {
   "cell_type": "code",
   "execution_count": 18,
   "id": "0c4a3981-a012-48a7-9452-2e2d96949d72",
   "metadata": {},
   "outputs": [],
   "source": [
    "class Classroom:\n",
    "    def __init__(self):\n",
    "        self._students = {}\n",
    "    \n",
    "    def __setattr__(self, k, v):\n",
    "        if not k.startswith(\"_\"): self._students[k] = v\n",
    "        super().__setattr__(k, v)"
   ]
  },
  {
   "cell_type": "code",
   "execution_count": 19,
   "id": "5efe81b3-3e21-41c4-b689-e2615ec4ee1b",
   "metadata": {},
   "outputs": [],
   "source": [
    "class Keyboard:\n",
    "    def __init__(self, language):\n",
    "        self.language = language\n",
    "    def __hash__(self):\n",
    "        return hash((self.language,))"
   ]
  },
  {
   "cell_type": "code",
   "execution_count": 20,
   "id": "b9f15a41-310d-48a4-80e4-d5deaac6132f",
   "metadata": {},
   "outputs": [],
   "source": [
    "from typing import NamedTuple"
   ]
  },
  {
   "cell_type": "code",
   "execution_count": 21,
   "id": "322df145-6be2-4d0e-966e-50958d3dd9d0",
   "metadata": {},
   "outputs": [],
   "source": [
    "class ElectricVehicle(NamedTuple):\n",
    "    efficient: int\n",
    "    manufacture: str\n",
    "    price: int"
   ]
  },
  {
   "cell_type": "code",
   "execution_count": 22,
   "id": "4f9866db-f750-4d53-be65-58487239e1d7",
   "metadata": {},
   "outputs": [
    {
     "ename": "NameError",
     "evalue": "name 'unittest' is not defined",
     "output_type": "error",
     "traceback": [
      "\u001b[0;31m---------------------------------------------------------------------------\u001b[0m",
      "\u001b[0;31mNameError\u001b[0m                                 Traceback (most recent call last)",
      "Input \u001b[0;32mIn [22]\u001b[0m, in \u001b[0;36m<cell line: 1>\u001b[0;34m()\u001b[0m\n\u001b[0;32m----> 1\u001b[0m \u001b[38;5;28;01mclass\u001b[39;00m \u001b[38;5;21;01mTestF\u001b[39;00m(\u001b[43munittest\u001b[49m\u001b[38;5;241m.\u001b[39mTestCase):\n\u001b[1;32m      2\u001b[0m     \u001b[38;5;28;01mdef\u001b[39;00m \u001b[38;5;21mtest_do_stuff\u001b[39m(\u001b[38;5;28mself\u001b[39m):\n\u001b[1;32m      3\u001b[0m         \u001b[38;5;28;01mwith\u001b[39;00m \u001b[38;5;28mself\u001b[39m\u001b[38;5;241m.\u001b[39massertRaises(\u001b[38;5;167;01mValueError\u001b[39;00m):\n",
      "\u001b[0;31mNameError\u001b[0m: name 'unittest' is not defined"
     ]
    }
   ],
   "source": [
    "class TestF(unittest.TestCase):\n",
    "    def test_do_stuff(self):\n",
    "        with self.assertRaises(ValueError):\n",
    "            pass"
   ]
  },
  {
   "cell_type": "markdown",
   "id": "e55bb08c-4974-44e2-b629-26837df3578d",
   "metadata": {},
   "source": [
    "### Matplotlib"
   ]
  },
  {
   "cell_type": "code",
   "execution_count": 23,
   "id": "0e627d21-598a-4900-bccd-e88ff8139ddd",
   "metadata": {},
   "outputs": [],
   "source": [
    "from matplotlib import pyplot as plt"
   ]
  },
  {
   "cell_type": "code",
   "execution_count": null,
   "id": "b58b19f2-cbd3-4edd-9f23-10ae8d1f510c",
   "metadata": {},
   "outputs": [],
   "source": []
  }
 ],
 "metadata": {
  "kernelspec": {
   "display_name": "Python 3 (ipykernel)",
   "language": "python",
   "name": "python3"
  },
  "language_info": {
   "codemirror_mode": {
    "name": "ipython",
    "version": 3
   },
   "file_extension": ".py",
   "mimetype": "text/x-python",
   "name": "python",
   "nbconvert_exporter": "python",
   "pygments_lexer": "ipython3",
   "version": "3.9.13"
  }
 },
 "nbformat": 4,
 "nbformat_minor": 5
}
