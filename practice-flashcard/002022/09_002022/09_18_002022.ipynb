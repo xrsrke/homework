{
 "cells": [
  {
   "cell_type": "markdown",
   "id": "87b21f2b-1840-4a57-b423-011bc8302de3",
   "metadata": {},
   "source": [
    "### Python"
   ]
  },
  {
   "cell_type": "code",
   "execution_count": 19,
   "id": "7a067ed1-c3dd-4dfd-9ce5-f3e443041ca9",
   "metadata": {},
   "outputs": [],
   "source": [
    "def distance(point_a, point_b):\n",
    "    \"\"\"\n",
    "    Calculate the distance between two points\n",
    "    \n",
    "    :param point_a: the location of point a in 3d space\n",
    "    :param point_b: the location of point b in 3d space\n",
    "    :return: the distance between point a and b\n",
    "    \"\"\"\n",
    "    pass"
   ]
  },
  {
   "cell_type": "code",
   "execution_count": 20,
   "id": "1d339bd1-bba6-45d9-a47e-242be2ae2e3a",
   "metadata": {},
   "outputs": [],
   "source": [
    "from collections import namedtuple"
   ]
  },
  {
   "cell_type": "code",
   "execution_count": 21,
   "id": "608889f5-e9b5-4e0a-808a-0f934fcc0e2c",
   "metadata": {},
   "outputs": [],
   "source": [
    "EV = namedtuple(\"ElectricVehicle\", (\"efficient\", \"make\", \"price\"))"
   ]
  },
  {
   "cell_type": "code",
   "execution_count": 22,
   "id": "3a0e94bd-084f-4d74-a434-1a8745831648",
   "metadata": {},
   "outputs": [],
   "source": [
    "class Vehicle:\n",
    "    def hello(self): return \"Hello\"\n",
    "    \n",
    "    def func(self):\n",
    "        instance = self.__class__()\n",
    "        return instance.hello()"
   ]
  },
  {
   "cell_type": "code",
   "execution_count": 23,
   "id": "d243fb11-a2af-40b8-95c6-c22111b5fc3e",
   "metadata": {},
   "outputs": [],
   "source": [
    "from enum import Enum"
   ]
  },
  {
   "cell_type": "code",
   "execution_count": 24,
   "id": "d53e107c-bf38-4d61-b573-d60b276e4e08",
   "metadata": {},
   "outputs": [],
   "source": [
    "class Colors(Enum):\n",
    "    RED = \"Red\"\n",
    "    ORANGE = \"Orange\"\n",
    "    BLUE = \"Blue\"\n",
    "    \n",
    "    @property\n",
    "    def is_hot(self):\n",
    "        return self in [Colors.ORANGE, Colors.RED]"
   ]
  },
  {
   "cell_type": "code",
   "execution_count": null,
   "id": "f59ce339-f2f3-45ae-a2e9-108c84410514",
   "metadata": {},
   "outputs": [],
   "source": [
    "def extra_second(func):\n",
    "    def wrapper(*args, **kwargs):\n",
    "        ...\n",
    "        func(*args, **kwargs)\n",
    "        ...\n",
    "    return wrapper"
   ]
  },
  {
   "cell_type": "code",
   "execution_count": 32,
   "id": "9a3b9693-2f1c-43b2-9e4d-eefd6552d1e2",
   "metadata": {},
   "outputs": [],
   "source": [
    "name = \"Shivon\""
   ]
  },
  {
   "cell_type": "code",
   "execution_count": 33,
   "id": "11a8457d-7c14-4723-ad68-f6517cdf0865",
   "metadata": {},
   "outputs": [
    {
     "name": "stdout",
     "output_type": "stream",
     "text": [
      "Hello Shivon\n"
     ]
    }
   ],
   "source": [
    "print(\"Hello {0}\".format(name))"
   ]
  },
  {
   "cell_type": "markdown",
   "id": "b1305042-e320-446a-8a23-42140355f9b9",
   "metadata": {
    "jp-MarkdownHeadingCollapsed": true,
    "tags": []
   },
   "source": [
    "### SciPy"
   ]
  },
  {
   "cell_type": "code",
   "execution_count": 10,
   "id": "e3b825dd-c749-4b44-bc44-5a6dc736f4cd",
   "metadata": {},
   "outputs": [],
   "source": [
    "import numpy as np\n",
    "import scipy\n",
    "import sympy as smp"
   ]
  },
  {
   "cell_type": "code",
   "execution_count": 3,
   "id": "343b6cc8-5dc3-439a-87a7-76513882f036",
   "metadata": {},
   "outputs": [],
   "source": [
    "def f(x):\n",
    "    return x**2 * np.sin(2*x) * np.exp(-x)"
   ]
  },
  {
   "cell_type": "code",
   "execution_count": 4,
   "id": "d097cc44-55a3-4d8d-944f-8c3c5b852ff5",
   "metadata": {},
   "outputs": [],
   "source": [
    "y_upper = lambda x: x**2"
   ]
  },
  {
   "cell_type": "code",
   "execution_count": 5,
   "id": "3a8915b1-049a-4459-beb0-c44c24c3e9fe",
   "metadata": {},
   "outputs": [],
   "source": [
    "y_lower = lambda x: -x"
   ]
  },
  {
   "cell_type": "code",
   "execution_count": null,
   "id": "9f32cc17-da33-4ae8-b695-934b459079a4",
   "metadata": {},
   "outputs": [],
   "source": [
    "dblquad(f, 0, 1, y_lower, y_upper)"
   ]
  },
  {
   "cell_type": "code",
   "execution_count": null,
   "id": "13353b10-1630-4423-b231-ece7b0b59bde",
   "metadata": {},
   "outputs": [],
   "source": [
    "bounds = (\n",
    "    (0, None),\n",
    "    (0, None)\n",
    ")"
   ]
  },
  {
   "cell_type": "markdown",
   "id": "179ba67a-06bc-4b08-866c-592c359114b1",
   "metadata": {},
   "source": [
    "### SymPy"
   ]
  },
  {
   "cell_type": "code",
   "execution_count": null,
   "id": "299ec5e8-482a-42d7-8640-7ca7872a0a6f",
   "metadata": {},
   "outputs": [],
   "source": [
    "f.subs([(x, 2)]).evalf()"
   ]
  },
  {
   "cell_type": "code",
   "execution_count": null,
   "id": "5c3a7c74-7e99-47d5-bd08-919126fc64df",
   "metadata": {},
   "outputs": [],
   "source": [
    "smp.solve(f, x)"
   ]
  },
  {
   "cell_type": "code",
   "execution_count": 11,
   "id": "a93589d5-eb2b-4388-9780-19d366bfd23d",
   "metadata": {},
   "outputs": [],
   "source": [
    "x = smp.symbols('x')"
   ]
  },
  {
   "cell_type": "code",
   "execution_count": 12,
   "id": "2e29f25c-cb3d-44e3-a1a2-64acf874f010",
   "metadata": {},
   "outputs": [],
   "source": [
    "f, g = smp.symbols('f g', cls=smp.Function)"
   ]
  },
  {
   "cell_type": "code",
   "execution_count": 13,
   "id": "67873962-43fa-420a-acfa-b4f9159e5b6c",
   "metadata": {},
   "outputs": [],
   "source": [
    "g = g(x)"
   ]
  },
  {
   "cell_type": "code",
   "execution_count": 14,
   "id": "f329857a-bd13-4ada-9606-9b241a95b1dd",
   "metadata": {},
   "outputs": [
    {
     "data": {
      "text/latex": [
       "$\\displaystyle g{\\left(x \\right)}$"
      ],
      "text/plain": [
       "g(x)"
      ]
     },
     "execution_count": 14,
     "metadata": {},
     "output_type": "execute_result"
    }
   ],
   "source": [
    "g"
   ]
  },
  {
   "cell_type": "code",
   "execution_count": 15,
   "id": "38ba0f89-24a4-4767-9949-8c3d0c661679",
   "metadata": {},
   "outputs": [],
   "source": [
    "f = x + g"
   ]
  },
  {
   "cell_type": "code",
   "execution_count": 16,
   "id": "cdefcfe3-c435-4e65-b0ee-bcc25523d485",
   "metadata": {},
   "outputs": [
    {
     "data": {
      "text/latex": [
       "$\\displaystyle x + g{\\left(x \\right)}$"
      ],
      "text/plain": [
       "x + g(x)"
      ]
     },
     "execution_count": 16,
     "metadata": {},
     "output_type": "execute_result"
    }
   ],
   "source": [
    "f"
   ]
  },
  {
   "cell_type": "code",
   "execution_count": 25,
   "id": "b7f7a1ad-5b12-4d5c-8651-6f9782c744d1",
   "metadata": {},
   "outputs": [],
   "source": [
    "x = smp.symbols('x')"
   ]
  },
  {
   "cell_type": "code",
   "execution_count": 26,
   "id": "f364823c-8a62-4de9-9af8-4efb2c2585db",
   "metadata": {},
   "outputs": [],
   "source": [
    "f, g = smp.symbols('f g', cls=smp.Function)"
   ]
  },
  {
   "cell_type": "code",
   "execution_count": 28,
   "id": "138d8f55-8abe-4cf2-aff3-000064a20a22",
   "metadata": {},
   "outputs": [],
   "source": [
    "g = g(x)"
   ]
  },
  {
   "cell_type": "code",
   "execution_count": 29,
   "id": "33439fda-e4bb-4186-aa1f-a1ccf6efd196",
   "metadata": {},
   "outputs": [
    {
     "data": {
      "text/latex": [
       "$\\displaystyle g{\\left(x \\right)}$"
      ],
      "text/plain": [
       "g(x)"
      ]
     },
     "execution_count": 29,
     "metadata": {},
     "output_type": "execute_result"
    }
   ],
   "source": [
    "g"
   ]
  },
  {
   "cell_type": "code",
   "execution_count": 30,
   "id": "f058b2ea-9c43-4184-a453-209e926cc75a",
   "metadata": {},
   "outputs": [],
   "source": [
    "f = x +g"
   ]
  },
  {
   "cell_type": "code",
   "execution_count": 31,
   "id": "9f531516-b513-41cc-8382-6f9881b5203d",
   "metadata": {},
   "outputs": [
    {
     "data": {
      "text/latex": [
       "$\\displaystyle x + g{\\left(x \\right)}$"
      ],
      "text/plain": [
       "x + g(x)"
      ]
     },
     "execution_count": 31,
     "metadata": {},
     "output_type": "execute_result"
    }
   ],
   "source": [
    "f"
   ]
  },
  {
   "cell_type": "code",
   "execution_count": null,
   "id": "6c4b9ce3-5980-49ec-804b-8cb093d4f07c",
   "metadata": {},
   "outputs": [],
   "source": [
    "constains = (\n",
    "    {\"type\": \"inequal\", \"func\": lambda x, y: x }\n",
    ")"
   ]
  }
 ],
 "metadata": {
  "kernelspec": {
   "display_name": "Python 3 (ipykernel)",
   "language": "python",
   "name": "python3"
  },
  "language_info": {
   "codemirror_mode": {
    "name": "ipython",
    "version": 3
   },
   "file_extension": ".py",
   "mimetype": "text/x-python",
   "name": "python",
   "nbconvert_exporter": "python",
   "pygments_lexer": "ipython3",
   "version": "3.9.13"
  }
 },
 "nbformat": 4,
 "nbformat_minor": 5
}
