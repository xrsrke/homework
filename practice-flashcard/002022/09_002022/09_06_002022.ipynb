{
 "cells": [
  {
   "cell_type": "markdown",
   "id": "f638ffcf",
   "metadata": {},
   "source": [
    "### Python"
   ]
  },
  {
   "cell_type": "code",
   "execution_count": 17,
   "id": "7e8a3a4b",
   "metadata": {},
   "outputs": [],
   "source": [
    "class Parent:\n",
    "    def __init__(self, name):\n",
    "        self.name = name"
   ]
  },
  {
   "cell_type": "markdown",
   "id": "1c2f9c97",
   "metadata": {},
   "source": [
    "Intialize the `Parent` class in the `Child` class using `super()`"
   ]
  },
  {
   "cell_type": "code",
   "execution_count": 18,
   "id": "d1a92690",
   "metadata": {},
   "outputs": [],
   "source": [
    "class Child(Parent):\n",
    "    def __init__(self, name):\n",
    "        super().__init__(name)"
   ]
  },
  {
   "cell_type": "code",
   "execution_count": 19,
   "id": "65c13cd2",
   "metadata": {},
   "outputs": [],
   "source": [
    "c = Child(\"X\")"
   ]
  },
  {
   "cell_type": "code",
   "execution_count": 20,
   "id": "15c35f20",
   "metadata": {},
   "outputs": [
    {
     "data": {
      "text/plain": [
       "'X'"
      ]
     },
     "execution_count": 20,
     "metadata": {},
     "output_type": "execute_result"
    }
   ],
   "source": [
    "c.name"
   ]
  },
  {
   "cell_type": "code",
   "execution_count": 21,
   "id": "4c2deded",
   "metadata": {},
   "outputs": [],
   "source": [
    "from dataclasses import dataclass"
   ]
  },
  {
   "cell_type": "code",
   "execution_count": 22,
   "id": "9f3ce294",
   "metadata": {},
   "outputs": [],
   "source": [
    "@dataclass\n",
    "class Robot:\n",
    "    software: str\n",
    "    weapon: str\n",
    "    color: str"
   ]
  },
  {
   "cell_type": "code",
   "execution_count": 23,
   "id": "df25b772",
   "metadata": {},
   "outputs": [
    {
     "ename": "NameError",
     "evalue": "name 'BaseLinkedList' is not defined",
     "output_type": "error",
     "traceback": [
      "\u001b[0;31m---------------------------------------------------------------------------\u001b[0m",
      "\u001b[0;31mNameError\u001b[0m                                 Traceback (most recent call last)",
      "Input \u001b[0;32mIn [23]\u001b[0m, in \u001b[0;36m<cell line: 1>\u001b[0;34m()\u001b[0m\n\u001b[0;32m----> 1\u001b[0m \u001b[38;5;28;01mclass\u001b[39;00m \u001b[38;5;21;01mLinkedList\u001b[39;00m(\u001b[43mBaseLinkedList\u001b[49m):\n\u001b[1;32m      2\u001b[0m     \u001b[38;5;28;01mdef\u001b[39;00m \u001b[38;5;21mappend\u001b[39m(\u001b[38;5;28mself\u001b[39m, value):\n\u001b[1;32m      3\u001b[0m         new_node \u001b[38;5;241m=\u001b[39m Node(value)\n",
      "\u001b[0;31mNameError\u001b[0m: name 'BaseLinkedList' is not defined"
     ]
    }
   ],
   "source": [
    "class LinkedList(BaseLinkedList):\n",
    "    def append(self, value):\n",
    "        new_node = Node(value)\n",
    "        \n",
    "        if self.head == None:\n",
    "            self.head = new_node\n",
    "            self.tail.next = new_node\n",
    "            self.tail = new_node\n",
    "        else:\n",
    "            self.tail.next = new_node\n",
    "            self.tail = new_node\n",
    "        self.length += 1"
   ]
  },
  {
   "cell_type": "code",
   "execution_count": 24,
   "id": "ec99abc8",
   "metadata": {},
   "outputs": [],
   "source": [
    "class EVs:\n",
    "    def __init__(self, range, manufacture, price):\n",
    "        self.range, self.manufacture, self.price = range, manufacture, price"
   ]
  },
  {
   "cell_type": "code",
   "execution_count": 25,
   "id": "c5efe92e",
   "metadata": {},
   "outputs": [],
   "source": [
    "from collections import namedtuple"
   ]
  },
  {
   "cell_type": "code",
   "execution_count": 26,
   "id": "6d1f2ecb",
   "metadata": {},
   "outputs": [],
   "source": [
    "EV2 = namedtuple(\"ElectricVehicle\", (\"efficient\", \"price\", \"make\"), )"
   ]
  },
  {
   "cell_type": "code",
   "execution_count": 27,
   "id": "bf86a912",
   "metadata": {},
   "outputs": [],
   "source": [
    "class Zoo:\n",
    "    def __getitem__(self, idx):\n",
    "        return self._roster[idx]"
   ]
  },
  {
   "cell_type": "code",
   "execution_count": 28,
   "id": "4025a30e",
   "metadata": {},
   "outputs": [],
   "source": [
    "class Vehicle:\n",
    "    def func(self):\n",
    "        new_instance = self.__class__()\n",
    "        new_instance.say_hello"
   ]
  },
  {
   "cell_type": "code",
   "execution_count": null,
   "id": "5f2d9f1a",
   "metadata": {},
   "outputs": [],
   "source": [
    "class TextField:\n",
    "    def __init__(self):\n",
    "        self._data = {}\n",
    "    \n",
    "    def __get__(self, instance, owner):\n",
    "        return self._data.get(instance)\n",
    "    \n",
    "    def __set__(self, instance, value):\n",
    "        self._data[instance] = value\n",
    "    "
   ]
  }
 ],
 "metadata": {
  "kernelspec": {
   "display_name": "Python 3 (ipykernel)",
   "language": "python",
   "name": "python3"
  },
  "language_info": {
   "codemirror_mode": {
    "name": "ipython",
    "version": 3
   },
   "file_extension": ".py",
   "mimetype": "text/x-python",
   "name": "python",
   "nbconvert_exporter": "python",
   "pygments_lexer": "ipython3",
   "version": "3.9.12"
  }
 },
 "nbformat": 4,
 "nbformat_minor": 5
}
