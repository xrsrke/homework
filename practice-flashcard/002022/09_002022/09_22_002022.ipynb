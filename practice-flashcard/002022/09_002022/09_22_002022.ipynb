{
 "cells": [
  {
   "cell_type": "markdown",
   "id": "4a4a6c8a-727c-4a70-bc7d-ab6dc7ab99d0",
   "metadata": {},
   "source": [
    "### SymPy"
   ]
  },
  {
   "cell_type": "code",
   "execution_count": null,
   "id": "fd24ec93-c1bb-4fbc-af6a-3d4504876c79",
   "metadata": {},
   "outputs": [],
   "source": [
    "import sympy as smp"
   ]
  },
  {
   "cell_type": "code",
   "execution_count": null,
   "id": "ebac78c7-081d-45ad-8556-2b2776b225ff",
   "metadata": {},
   "outputs": [],
   "source": [
    "x = smp.symbols('x')"
   ]
  },
  {
   "cell_type": "code",
   "execution_count": null,
   "id": "e271d5fa-18b9-49ac-b3b9-e2114469e1ad",
   "metadata": {},
   "outputs": [],
   "source": [
    "f, g = smp.symbols('f g', cls=smp.Function)"
   ]
  },
  {
   "cell_type": "code",
   "execution_count": null,
   "id": "92abd503-b5f5-47d2-a3a9-8cd9ab9b97fd",
   "metadata": {},
   "outputs": [],
   "source": [
    "g = g(x)"
   ]
  },
  {
   "cell_type": "code",
   "execution_count": null,
   "id": "a16cf03d-ff48-4402-b3fa-3dbcb8fddd97",
   "metadata": {},
   "outputs": [],
   "source": [
    "f = x + g"
   ]
  },
  {
   "cell_type": "code",
   "execution_count": null,
   "id": "a281ecbf-7334-4678-9af8-0050e273cb23",
   "metadata": {},
   "outputs": [
    {
     "data": {
      "text/latex": [
       "$\\displaystyle x + g{\\left(x \\right)}$"
      ],
      "text/plain": [
       "x + g(x)"
      ]
     },
     "execution_count": null,
     "metadata": {},
     "output_type": "execute_result"
    }
   ],
   "source": [
    "f"
   ]
  },
  {
   "cell_type": "code",
   "execution_count": null,
   "id": "41a939b1-b05e-4834-8aee-ed1f237f1d16",
   "metadata": {},
   "outputs": [],
   "source": [
    "x, y = smp.symbols('x y')"
   ]
  },
  {
   "cell_type": "code",
   "execution_count": null,
   "id": "6232f9eb-880b-4fd3-8eeb-31a2be18cde9",
   "metadata": {},
   "outputs": [
    {
     "data": {
      "text/latex": [
       "$\\displaystyle x = y$"
      ],
      "text/plain": [
       "Eq(x, y)"
      ]
     },
     "execution_count": null,
     "metadata": {},
     "output_type": "execute_result"
    }
   ],
   "source": [
    "smp.Eq(x, y)"
   ]
  },
  {
   "cell_type": "markdown",
   "id": "86b33efe-278f-4f72-966d-b56dd662441f",
   "metadata": {},
   "source": [
    "### SciPy"
   ]
  },
  {
   "cell_type": "code",
   "execution_count": null,
   "id": "d5ebdac1-4284-40c0-8968-30c125df2c1d",
   "metadata": {},
   "outputs": [],
   "source": [
    "from scipy.optimize import minimize"
   ]
  },
  {
   "cell_type": "code",
   "execution_count": null,
   "id": "1b63c5b3-9b60-4edc-9818-624bac966a06",
   "metadata": {},
   "outputs": [],
   "source": [
    "minimize(f, bounds=, cons=, (2, 3))"
   ]
  },
  {
   "cell_type": "markdown",
   "id": "783886f8-1a8a-42a4-bad3-12e03d034138",
   "metadata": {},
   "source": [
    "### Design Patterns"
   ]
  },
  {
   "cell_type": "markdown",
   "id": "43da0147-5618-4783-8d3f-6ea624287981",
   "metadata": {},
   "source": [
    "##### Dependency inversion"
   ]
  },
  {
   "cell_type": "code",
   "execution_count": null,
   "id": "d9d32995-9985-4b63-906a-00883d37d943",
   "metadata": {},
   "outputs": [],
   "source": [
    "from abc import ABC, abstractclassmethod"
   ]
  },
  {
   "cell_type": "code",
   "execution_count": null,
   "id": "4adb594d-84eb-4104-adbb-fc65b60a10ec",
   "metadata": {},
   "outputs": [],
   "source": [
    "class Switchable(ABC):\n",
    "    @abstractclassmethod\n",
    "    def turn_on(self): pass\n",
    "\n",
    "    @abstractclassmethod\n",
    "    def turn_off(self): pass"
   ]
  },
  {
   "cell_type": "code",
   "execution_count": null,
   "id": "bb6fdae0-4c25-4892-a964-f3eceb19346a",
   "metadata": {},
   "outputs": [],
   "source": [
    "class LightBulb(Switchable):\n",
    "    def turn_on(self): pass\n",
    "    \n",
    "    def turn_off(self): pass"
   ]
  },
  {
   "cell_type": "code",
   "execution_count": null,
   "id": "e014b940-31b9-4121-9db0-f03f9539069f",
   "metadata": {},
   "outputs": [],
   "source": [
    "class ElectricPowerSwitch:\n",
    "    def __init__(self, l: Switchable):\n",
    "        self.switch = Switchable"
   ]
  },
  {
   "cell_type": "markdown",
   "id": "b45a0f74-cc85-4021-a6c6-5a3a7f672966",
   "metadata": {},
   "source": [
    "##### Single Responsibility Principle"
   ]
  },
  {
   "cell_type": "code",
   "execution_count": null,
   "id": "1e4caed8-6cac-410d-bfc1-78aad6852221",
   "metadata": {},
   "outputs": [],
   "source": [
    "class ChargeEnergy:\n",
    "    def charge_electric(self):\n",
    "        pass\n",
    "    \n",
    "    def charge_gasoline(self):\n",
    "        pass"
   ]
  },
  {
   "cell_type": "markdown",
   "id": "51ede92b-556f-442a-a30e-e372a6d9025d",
   "metadata": {},
   "source": [
    "### Deep Learning "
   ]
  },
  {
   "cell_type": "code",
   "execution_count": null,
   "id": "bcda5685-8b43-4aee-be77-1b772bf9e7cc",
   "metadata": {},
   "outputs": [],
   "source": [
    "class PrintStepCallback:\n",
    "    def before_calc(self, i):\n",
    "        pass\n",
    "    \n",
    "    def after_calc(self, i):\n",
    "        pass"
   ]
  },
  {
   "cell_type": "markdown",
   "id": "ac8057b0-af60-45da-a290-973f1ff58e88",
   "metadata": {},
   "source": [
    "### Python"
   ]
  },
  {
   "cell_type": "code",
   "execution_count": null,
   "id": "d2967993-f728-4107-967d-bcbf41666278",
   "metadata": {},
   "outputs": [],
   "source": [
    "def distance(point_a, point_b):\n",
    "    \"\"\"\n",
    "    Distance between point a and point b\n",
    "    \n",
    "    :param point_a: the location of point a\n",
    "    :paramm point_b: the location of point b\n",
    "    :return: the distance between point a and point b \n",
    "    \"\"\""
   ]
  },
  {
   "cell_type": "code",
   "execution_count": null,
   "id": "357980cf-e861-4286-a8da-0f6c225fb398",
   "metadata": {},
   "outputs": [],
   "source": [
    "class TextField:\n",
    "    \n",
    "    def __init__(self):\n",
    "        self.data = {}\n",
    "    \n",
    "    def __get__(self, instance, owner):\n",
    "        self.data.get(instance, 'not found')\n",
    "    \n",
    "    def __set__(self, instance, value):\n",
    "        self.date[instance] = value"
   ]
  },
  {
   "cell_type": "code",
   "execution_count": null,
   "id": "4c5f6cd7-0625-49b7-8c3f-0564c33367b7",
   "metadata": {},
   "outputs": [],
   "source": [
    "from typing import NamedTuple"
   ]
  },
  {
   "cell_type": "code",
   "execution_count": null,
   "id": "a662b630-cb4b-4d19-93c4-34f6e1cfb275",
   "metadata": {},
   "outputs": [],
   "source": [
    "class ElectricVehicle(NamedTuple):\n",
    "    efficient: int\n",
    "    make: str\n",
    "    price: int"
   ]
  },
  {
   "cell_type": "markdown",
   "id": "e3096feb-8560-4f3d-8e9c-e60a150eb953",
   "metadata": {},
   "source": [
    "### PyTorch"
   ]
  },
  {
   "cell_type": "code",
   "execution_count": null,
   "id": "6e5d54e3-a806-4a3b-8694-4e9c776b930c",
   "metadata": {},
   "outputs": [],
   "source": [
    "import torch.nn as nn"
   ]
  },
  {
   "cell_type": "code",
   "execution_count": null,
   "id": "dace48bc-8fa0-4e38-907a-30540d939a1a",
   "metadata": {},
   "outputs": [],
   "source": [
    "class Net(nn.Module):\n",
    "    def __init__(self):\n",
    "        super().__init__()\n",
    "        self.layer1 = nn.Linear(2, 1)\n",
    "        self.layer2 = nn.Linear(1, 1)\n",
    "\n",
    "    def forward(self, x):\n",
    "        l1 = nn.ReLU(self.layer1(x))\n",
    "        l2 = nn.Sigmoid(self.layer2(l1))\n",
    "        return l2"
   ]
  },
  {
   "cell_type": "code",
   "execution_count": null,
   "id": "32dfd833-4836-4ff5-8c43-c1e6b6dbd24f",
   "metadata": {},
   "outputs": [],
   "source": []
  }
 ],
 "metadata": {
  "kernelspec": {
   "display_name": "Python 3 (ipykernel)",
   "language": "python",
   "name": "python3"
  }
 },
 "nbformat": 4,
 "nbformat_minor": 5
}
