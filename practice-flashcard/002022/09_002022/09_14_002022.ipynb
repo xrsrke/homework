{
 "cells": [
  {
   "cell_type": "markdown",
   "id": "0c11914b-2b76-47eb-8a7f-40e8e460e523",
   "metadata": {},
   "source": [
    "### Python"
   ]
  },
  {
   "cell_type": "code",
   "execution_count": 1,
   "id": "96c84754-73f7-47db-a0bb-3fa647e3403d",
   "metadata": {},
   "outputs": [],
   "source": [
    "from typing import NamedTuple"
   ]
  },
  {
   "cell_type": "code",
   "execution_count": 2,
   "id": "7f728af5-6160-4ac7-9aa8-1554b5e2e890",
   "metadata": {},
   "outputs": [],
   "source": [
    "class ElectricVehicle(NamedTuple):\n",
    "    efficient: int\n",
    "    make: str\n",
    "    price: int"
   ]
  },
  {
   "cell_type": "code",
   "execution_count": 5,
   "id": "8a8bdc2d-aa6e-4c0a-ad49-e1ca36dad4c7",
   "metadata": {},
   "outputs": [],
   "source": [
    "from dataclasses import dataclass, field"
   ]
  },
  {
   "cell_type": "code",
   "execution_count": 8,
   "id": "9a7ee8b4-a0ed-447b-8da7-1ac8626cc5d6",
   "metadata": {},
   "outputs": [],
   "source": [
    "@dataclass\n",
    "class BrainImplant:\n",
    "    \n",
    "    ADVANCE_SUPERVISION = (\"Level 3\", \"Level 4\")\n",
    "    \n",
    "    supervision: str\n",
    "    price: int\n",
    "    manufacture: str\n",
    "    advance: bool\n",
    "    \n",
    "    def __post_init__(self):\n",
    "        self.advance = self.supervision in ADVANCE_SUPERVISION"
   ]
  },
  {
   "cell_type": "code",
   "execution_count": 9,
   "id": "52261487-5a07-4bcc-8eb4-d959aac4eac8",
   "metadata": {},
   "outputs": [],
   "source": [
    "MetaSchool = type(\"MetaSchool\", (), {})"
   ]
  },
  {
   "cell_type": "code",
   "execution_count": 10,
   "id": "52bc7e66-0a42-402c-926a-781409bcafc3",
   "metadata": {},
   "outputs": [],
   "source": [
    "class Student:\n",
    "    def greet(self):\n",
    "        return \"Hi\""
   ]
  },
  {
   "cell_type": "code",
   "execution_count": 11,
   "id": "25467322-aba1-4856-b294-54998fb87ca4",
   "metadata": {},
   "outputs": [],
   "source": [
    "MetaStudent = type(\"MetaStudent\", (), {\"major\": \"chem\"})"
   ]
  },
  {
   "cell_type": "code",
   "execution_count": null,
   "id": "f3d322ce-47e2-4ae5-a9bd-0bb88ffafdc3",
   "metadata": {},
   "outputs": [],
   "source": []
  }
 ],
 "metadata": {
  "kernelspec": {
   "display_name": "Python 3 (ipykernel)",
   "language": "python",
   "name": "python3"
  },
  "language_info": {
   "codemirror_mode": {
    "name": "ipython",
    "version": 3
   },
   "file_extension": ".py",
   "mimetype": "text/x-python",
   "name": "python",
   "nbconvert_exporter": "python",
   "pygments_lexer": "ipython3",
   "version": "3.9.13"
  }
 },
 "nbformat": 4,
 "nbformat_minor": 5
}
