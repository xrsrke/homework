{
 "cells": [
  {
   "cell_type": "markdown",
   "id": "fc47e0b5-cbfd-4a2d-ab92-b0ba26bb4db9",
   "metadata": {},
   "source": [
    "### Python"
   ]
  },
  {
   "cell_type": "code",
   "execution_count": 1,
   "id": "170f6243-bc79-4bc6-a1f1-986cd006aa70",
   "metadata": {},
   "outputs": [],
   "source": [
    "import pytest"
   ]
  },
  {
   "cell_type": "code",
   "execution_count": 4,
   "id": "9a9e2b11-e7ca-49dd-8522-e7403200ca64",
   "metadata": {},
   "outputs": [],
   "source": [
    "def test_raise_exception():\n",
    "    with pytest.raises(ValueError):\n",
    "        print(\"\")"
   ]
  },
  {
   "cell_type": "code",
   "execution_count": 5,
   "id": "fd9abf83-f795-4d0f-bc92-99a028d84ff8",
   "metadata": {},
   "outputs": [],
   "source": [
    "class Christmas(dict):\n",
    "    def __init__(self):\n",
    "        self.color = \"red\"\n",
    "    \n",
    "    def __missing__(self, key):\n",
    "        pass"
   ]
  },
  {
   "cell_type": "code",
   "execution_count": 6,
   "id": "e9192457-6ba5-41f9-8bc6-4c1dd2a5864a",
   "metadata": {},
   "outputs": [],
   "source": [
    "def my_func(a: int) -> int:\n",
    "    return a * 6"
   ]
  },
  {
   "cell_type": "code",
   "execution_count": 7,
   "id": "8c5279d3-4537-41cd-8252-b895d05ab2a5",
   "metadata": {},
   "outputs": [],
   "source": [
    "import unittest"
   ]
  },
  {
   "cell_type": "code",
   "execution_count": 8,
   "id": "609a841d-6ff8-49ac-b3fd-6533906625c5",
   "metadata": {},
   "outputs": [],
   "source": [
    "class MediumTestCase(unittest.TestCase):\n",
    "    def test_avg(self):\n",
    "        with self.assertRaises(TypeError):\n",
    "            avg()"
   ]
  },
  {
   "cell_type": "code",
   "execution_count": 9,
   "id": "82d328a6-7358-485b-b96c-439c0ccdf585",
   "metadata": {},
   "outputs": [
    {
     "name": "stdin",
     "output_type": "stream",
     "text": [
      "what is your age q\n"
     ]
    }
   ],
   "source": [
    "try:\n",
    "    age = int(input(\"what is your age\"))\n",
    "    print(age)\n",
    "except:\n",
    "    pass"
   ]
  },
  {
   "cell_type": "code",
   "execution_count": 10,
   "id": "b4ef0476-2ed3-460e-8790-9f5a9180034e",
   "metadata": {},
   "outputs": [],
   "source": [
    "from typing import Protocol"
   ]
  },
  {
   "cell_type": "code",
   "execution_count": 12,
   "id": "3a6d316b-2059-4b9b-adcf-66b6c88f252a",
   "metadata": {},
   "outputs": [],
   "source": [
    "class SupportLesThan(Protocol):\n",
    "    def __lt__(self): pass"
   ]
  },
  {
   "cell_type": "code",
   "execution_count": 15,
   "id": "7928a3e6-55f6-49f9-857c-6433e8c6d3be",
   "metadata": {},
   "outputs": [],
   "source": [
    "from typing import TypeVar, Union"
   ]
  },
  {
   "cell_type": "code",
   "execution_count": 14,
   "id": "5c75be4c-d2d5-4710-8783-402d55a5b27f",
   "metadata": {},
   "outputs": [],
   "source": [
    "T = TypeVar(\"T\")"
   ]
  },
  {
   "cell_type": "code",
   "execution_count": null,
   "id": "ca80bf10-3ea1-4d2a-81de-ce9bc540ae02",
   "metadata": {},
   "outputs": [],
   "source": [
    "APIResponse = Union[T, APIError]"
   ]
  },
  {
   "cell_type": "markdown",
   "id": "430518d2-1752-4c1f-84e8-125feba6939e",
   "metadata": {},
   "source": [
    "### Deep Learning"
   ]
  },
  {
   "cell_type": "code",
   "execution_count": 24,
   "id": "721df7f3-00fa-41d1-91f9-3501c2386885",
   "metadata": {},
   "outputs": [],
   "source": [
    "def print_layers(model):\n",
    "    for n, l in model.named_children():\n",
    "        print(n, l)"
   ]
  },
  {
   "cell_type": "markdown",
   "id": "3c0ec21a-03b8-4eee-bd89-c0c237f314fe",
   "metadata": {},
   "source": [
    "### Reinforcement Learning"
   ]
  },
  {
   "cell_type": "code",
   "execution_count": 2,
   "id": "617fe162-4eb0-403a-a43e-c451eb291176",
   "metadata": {},
   "outputs": [
    {
     "name": "stderr",
     "output_type": "stream",
     "text": [
      "/Users/education/miniforge3/envs/sb-from-scratch/lib/python3.9/site-packages/tqdm/auto.py:22: TqdmWarning: IProgress not found. Please update jupyter and ipywidgets. See https://ipywidgets.readthedocs.io/en/stable/user_install.html\n",
      "  from .autonotebook import tqdm as notebook_tqdm\n"
     ]
    }
   ],
   "source": [
    "import torch"
   ]
  },
  {
   "cell_type": "code",
   "execution_count": 19,
   "id": "d26df06e-99ea-4d28-8c68-a403b073d049",
   "metadata": {},
   "outputs": [],
   "source": [
    "preds = torch.tensor([0.1, 0.3, 0.6])"
   ]
  },
  {
   "cell_type": "code",
   "execution_count": 20,
   "id": "63281942-fa50-40a7-bfc6-8ee2562f7009",
   "metadata": {},
   "outputs": [],
   "source": [
    "action = torch.multinomial(preds, 1)"
   ]
  },
  {
   "cell_type": "code",
   "execution_count": 21,
   "id": "3ef59124-805e-47cb-b8b8-4c4b81317c6a",
   "metadata": {},
   "outputs": [
    {
     "data": {
      "text/plain": [
       "tensor([1])"
      ]
     },
     "execution_count": 21,
     "metadata": {},
     "output_type": "execute_result"
    }
   ],
   "source": [
    "action"
   ]
  },
  {
   "cell_type": "code",
   "execution_count": 23,
   "id": "4d2f389c-68d9-458b-9430-a2e3a9f644c9",
   "metadata": {},
   "outputs": [],
   "source": [
    "def generate_transitions(model, env):\n",
    "    transitions = []\n",
    "    \n",
    "    state, _ = env.reset()\n",
    "    state = torch.from_numpy(state)\n",
    "    in_progress = True\n",
    "    \n",
    "    while in_progress:\n",
    "        predicted_action = model(state)\n",
    "        action = torch.argmax(predicted_action, dim=-1)\n",
    "        \n",
    "        new_state, reward, _, _, _ = env.step(action)\n",
    "        transitions.append((new_state, _, _))\n",
    "        \n",
    "        if done:\n",
    "            break\n",
    "        \n",
    "        state = torch.from_numpy(new_state)\n",
    "    \n",
    "    return transitions"
   ]
  },
  {
   "cell_type": "code",
   "execution_count": 25,
   "id": "e57b7711-6c82-410c-bebe-a8ddd5b396e4",
   "metadata": {},
   "outputs": [],
   "source": [
    "from torch import nn"
   ]
  },
  {
   "cell_type": "code",
   "execution_count": 26,
   "id": "b1ccec5d-374e-4894-91df-fb4d3822df9b",
   "metadata": {},
   "outputs": [],
   "source": [
    "class DeepQNetwork(nn.Module):\n",
    "    def __init__(self, n_observations, n_actions):\n",
    "        super().__init__()\n",
    "        self.layers = nn.Sequential(\n",
    "            nn.Linear(n_observations, 128),\n",
    "            nn.ReLU(),\n",
    "            nn.Linear(128, 128),\n",
    "            nn.ReLU(),\n",
    "            nn.Linear(128, n_actions)\n",
    "        )"
   ]
  },
  {
   "cell_type": "code",
   "execution_count": 28,
   "id": "e444679e-7f60-448f-9f4b-7a382b8a990b",
   "metadata": {},
   "outputs": [],
   "source": [
    "def discount_reward(rewards, discount_factor):\n",
    "    n_rewards = len(rewards)\n",
    "    numbers = torch.arange(n_rewards)\n",
    "    discount_factors = discount_factor ** numbers\n",
    "    \n",
    "    return discount_factors * rewards"
   ]
  },
  {
   "cell_type": "code",
   "execution_count": 29,
   "id": "d17a0b43-0d22-4d51-999f-c195b2ee5357",
   "metadata": {},
   "outputs": [],
   "source": [
    "rewards = torch.tensor([1, 2, 3, 4])"
   ]
  },
  {
   "cell_type": "code",
   "execution_count": 30,
   "id": "595a458d-c19a-48a7-9543-c0de86572273",
   "metadata": {},
   "outputs": [
    {
     "data": {
      "text/plain": [
       "tensor([1.0000, 1.9800, 2.9403, 3.8812])"
      ]
     },
     "execution_count": 30,
     "metadata": {},
     "output_type": "execute_result"
    }
   ],
   "source": [
    "discount_reward(rewards, 0.99)"
   ]
  },
  {
   "cell_type": "code",
   "execution_count": 31,
   "id": "830a1e78-3844-45c2-922b-252822835e09",
   "metadata": {},
   "outputs": [],
   "source": [
    "def generate_transitions(model, env):\n",
    "    transitions = []\n",
    "    \n",
    "    state, _ = env.step(action)\n",
    "    state = torch.from_numpy(state)\n",
    "    \n",
    "    while True:\n",
    "        predicted_action = model(state)\n",
    "        action = torch.argmax(predicted_action, dim=-1)\n",
    "        \n",
    "        next_state, reward, done, truncated, info = env.step(action)\n",
    "        \n",
    "        transitions.append(\n",
    "            next_state, reward, done, truncated, info\n",
    "        )\n",
    "        \n",
    "        if done: break\n",
    "        \n",
    "        state = torch.from_numpy(next_state)"
   ]
  },
  {
   "cell_type": "code",
   "execution_count": null,
   "id": "ab953828-f1bc-48ab-9a56-69161f07476c",
   "metadata": {
    "tags": []
   },
   "outputs": [],
   "source": [
    "torch.clamp_min(x, min=2)"
   ]
  },
  {
   "cell_type": "code",
   "execution_count": 35,
   "id": "dcf6d587-411f-4850-b6e7-5db10643d5df",
   "metadata": {},
   "outputs": [],
   "source": [
    "class BatchNorm(nn.Module):\n",
    "    def __init__(self, mom, eps):\n",
    "        super().__init__()\n",
    "        self.mom, self.eps = mom, eps\n",
    "        self.adds = nn.Parameter(torch.zeros(1))\n",
    "        self.mults = nn.Parameter(torch.ones(1))\n",
    "        self.register_buffer('means', torch.zeros(1))\n",
    "        self.register_buffer('vars', torch.ones(1))\n",
    "    \n",
    "    def update_stats(self, x):\n",
    "        mean, var = x.mean(dim=-1), x.var(dim=-1)\n",
    "        self.means.lerp_(mean, self.mom)\n",
    "        self.vars.lerp_(var, self.mom)\n",
    "        return mean, var\n",
    "    \n",
    "    def forward(self, x):\n",
    "        with torch.no_grad():\n",
    "            mean, var = self.update_stats(x)\n",
    "        \n",
    "        # normalized\n",
    "        x = (x - mean) / (var + self.eps).sqrt()\n",
    "        \n",
    "        # shift\n",
    "        x = self.mults * x + self.adds\n",
    "        \n",
    "        return x"
   ]
  },
  {
   "cell_type": "code",
   "execution_count": 3,
   "id": "8a2b9596-f2e8-4b9c-aeb5-ab7363f24582",
   "metadata": {},
   "outputs": [],
   "source": [
    "from torch import optim"
   ]
  },
  {
   "cell_type": "code",
   "execution_count": null,
   "id": "55ce837b-31a8-46f0-90c8-97833c5a9d35",
   "metadata": {},
   "outputs": [],
   "source": [
    "_optim = optim.SGD(model.parameters(), lr=0.3)"
   ]
  },
  {
   "cell_type": "code",
   "execution_count": null,
   "id": "1529e181-203b-4ff4-b5ce-88d62d4db903",
   "metadata": {},
   "outputs": [],
   "source": [
    "noises = torch.randn()"
   ]
  },
  {
   "cell_type": "code",
   "execution_count": null,
   "id": "5b9e3289-a4b9-4714-9531-9db796e358cc",
   "metadata": {},
   "outputs": [],
   "source": [
    "1, 2, 3,3 "
   ]
  },
  {
   "cell_type": "code",
   "execution_count": 4,
   "id": "93572a1f-6c87-4bf8-b7fd-50fe514957f6",
   "metadata": {},
   "outputs": [],
   "source": [
    "from torch import nn"
   ]
  },
  {
   "cell_type": "code",
   "execution_count": 5,
   "id": "32477643-408c-4ad2-aba6-a107e7ce8cd3",
   "metadata": {},
   "outputs": [],
   "source": [
    "layer_norm = nn.LayerNorm(10)"
   ]
  },
  {
   "cell_type": "code",
   "execution_count": 7,
   "id": "8e6820c9-8c97-4d4c-a65c-1931a89ee61e",
   "metadata": {},
   "outputs": [],
   "source": [
    "class PositionWiseFeedForward(nn.Module):\n",
    "    def __init__(self, d_model, d_ff, dropout):\n",
    "        super().__init__()\n",
    "        self.layers = nn.Sequential(\n",
    "            nn.Linear(d_model, d_ff),\n",
    "            nn.ReLU(),\n",
    "            nn.Dropout(dropout),\n",
    "            nn.Linear(d_ff, d_model)\n",
    "        )\n",
    "    \n",
    "    def forward(self, x):\n",
    "        return self.layers(x)"
   ]
  },
  {
   "cell_type": "code",
   "execution_count": null,
   "id": "55f0a352-6dee-4a74-9492-7d61404961d8",
   "metadata": {},
   "outputs": [],
   "source": [
    "from foundation.transformer.encoder import ResidualLayerNorm, PostionWiseFeedForward\n",
    "from foundation.transformer.efficient_attention import MultiHeadAttention"
   ]
  },
  {
   "cell_type": "code",
   "execution_count": 10,
   "id": "6b2196c7-9184-45fd-a698-afda73eafce7",
   "metadata": {},
   "outputs": [],
   "source": [
    "class EncoderLayer(nn.Module):\n",
    "    def __init__(self, d_models, n_heads, d_ff, dropout):\n",
    "        super().__init__()\n",
    "        self.mha = MultiHeadAttention(d_model, n_heads, dropout)\n",
    "        self.norm_1 = ResidualLayerNorm(d_model, dropout)\n",
    "        self.feed_forward = PostionWiseFeedForward(d_model, d_ff, dropout)\n",
    "        self.norm_2 = ResidualLayerNorm(d_model, dropout)\n",
    "    \n",
    "    def forward(self, x):\n",
    "        mha_output, mha_weights = self.mha(pre_q=x, pre_k=x, pre_v=x)\n",
    "        norm_1 = self.norm_1(mha_output, x)\n",
    "        ff = self.feed_forward(norm_1)\n",
    "        norm_2 = self.norm_2(ff, norm_1)\n",
    "        \n",
    "        return norm_2"
   ]
  },
  {
   "cell_type": "code",
   "execution_count": 11,
   "id": "28665ddf-beab-4c01-9908-c3b901d1aafb",
   "metadata": {},
   "outputs": [],
   "source": [
    "from foundation.transformer.encoder import EncoderLayer\n",
    "from foundation.transformer.embedding import TextEmbedding\n",
    "from foundation.transformer.positional_encoding import PositionalEncoding"
   ]
  },
  {
   "cell_type": "code",
   "execution_count": 12,
   "id": "5720d50f-cb7c-43f7-8e6f-9c59156da1ae",
   "metadata": {},
   "outputs": [],
   "source": [
    "class Encoder(nn.Module):\n",
    "    def __init__(self, d_model, n_heads, n_layers, dropout):\n",
    "        super().__init__()\n",
    "        self.text_embedding = TextEmbedding(vocab_size=1000, d_model=d_model)\n",
    "        self.positional_encoding = PositionalEncoding(d_model=d_model)\n",
    "        self.encoder_layers = nn.ModuleList([\n",
    "            EncoderLayer(d_model, n_heads, d_ff) for _ in range(n_layers)\n",
    "        ])\n",
    "    \n",
    "    def forward(self, x):\n",
    "        embeddings = self.text_embedding(x)\n",
    "        embeddings = self.positional_encoding(embeddings)\n",
    "        \n",
    "        output = embeddings\n",
    "        \n",
    "        for encoder_layer in self.encoder_layers:\n",
    "            output, weights = encoder_layer(output)\n",
    "        \n",
    "        return output, weights"
   ]
  },
  {
   "cell_type": "code",
   "execution_count": 14,
   "id": "b1986d37-6765-4720-9f42-cf645a6609ed",
   "metadata": {},
   "outputs": [],
   "source": [
    "embedding = nn.Embedding(\n",
    "    num_embeddings=100,\n",
    "    embedding_dim=5,\n",
    "    padding_idx=5\n",
    ")"
   ]
  },
  {
   "cell_type": "code",
   "execution_count": 15,
   "id": "26822577-528f-4529-aec2-f5d36e6564f0",
   "metadata": {},
   "outputs": [],
   "source": [
    "class ResidualNorm(nn.Module):\n",
    "    def __init__(self, d_model, dropout):\n",
    "        super().__init__()\n",
    "        self.norm = nn.LayerNorm(d_model)\n",
    "        self.dropout = nn.Dropout(dropout)\n",
    "    \n",
    "    def forward(self, x, residual):\n",
    "        return self.layer_norm(self.dropout(x) + residual)"
   ]
  },
  {
   "cell_type": "code",
   "execution_count": null,
   "id": "ee2f68c5-d83a-45d1-8ed5-d6d8afdc6a5d",
   "metadata": {},
   "outputs": [],
   "source": [
    "7, 3, 4,4 "
   ]
  }
 ],
 "metadata": {
  "kernelspec": {
   "display_name": "Python 3 (ipykernel)",
   "language": "python",
   "name": "python3"
  },
  "language_info": {
   "codemirror_mode": {
    "name": "ipython",
    "version": 3
   },
   "file_extension": ".py",
   "mimetype": "text/x-python",
   "name": "python",
   "nbconvert_exporter": "python",
   "pygments_lexer": "ipython3",
   "version": "3.8.15"
  }
 },
 "nbformat": 4,
 "nbformat_minor": 5
}
