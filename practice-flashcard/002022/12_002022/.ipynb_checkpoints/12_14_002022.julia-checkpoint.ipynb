{
 "cells": [
  {
   "cell_type": "code",
   "execution_count": 4,
   "id": "b17658cf-124d-4f8d-a0c4-09fd838f3a7f",
   "metadata": {},
   "outputs": [
    {
     "data": {
      "text/plain": [
       "is_string (generic function with 2 methods)"
      ]
     },
     "execution_count": 4,
     "metadata": {},
     "output_type": "execute_result"
    }
   ],
   "source": [
    "is_string(x::String) = true"
   ]
  },
  {
   "cell_type": "code",
   "execution_count": 5,
   "id": "f7d6de56-a056-47f6-8637-e05935c195c1",
   "metadata": {},
   "outputs": [
    {
     "data": {
      "text/plain": [
       "is_string (generic function with 2 methods)"
      ]
     },
     "execution_count": 5,
     "metadata": {},
     "output_type": "execute_result"
    }
   ],
   "source": [
    "is_string(x) = false"
   ]
  },
  {
   "cell_type": "code",
   "execution_count": 6,
   "id": "7e4b52fc-03ce-4c7a-b878-b6e562543da1",
   "metadata": {},
   "outputs": [],
   "source": [
    "abstract type Vehicle end"
   ]
  },
  {
   "cell_type": "code",
   "execution_count": null,
   "id": "85fb671b-a931-4651-be9e-52de126aaf4b",
   "metadata": {},
   "outputs": [],
   "source": []
  }
 ],
 "metadata": {
  "kernelspec": {
   "display_name": "Julia 1.8.3",
   "language": "julia",
   "name": "julia-1.8"
  },
  "language_info": {
   "file_extension": ".jl",
   "mimetype": "application/julia",
   "name": "julia",
   "version": "1.8.3"
  }
 },
 "nbformat": 4,
 "nbformat_minor": 5
}
