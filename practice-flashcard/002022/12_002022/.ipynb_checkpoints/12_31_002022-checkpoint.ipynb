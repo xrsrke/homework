{
 "cells": [
  {
   "cell_type": "markdown",
   "id": "1eafab3f-09c4-405f-a6ce-2e8f02c6bb72",
   "metadata": {},
   "source": [
    "### Python"
   ]
  },
  {
   "cell_type": "code",
   "execution_count": null,
   "id": "39d8aa62-7629-4404-95e9-bd2f69eb64c2",
   "metadata": {},
   "outputs": [],
   "source": [
    "ratings.groupby('title')['rating'].mean()"
   ]
  },
  {
   "cell_type": "code",
   "execution_count": null,
   "id": "95537344-076e-481b-8a4b-fdf082de8a40",
   "metadata": {},
   "outputs": [],
   "source": [
    "current state, condition, action"
   ]
  },
  {
   "cell_type": "code",
   "execution_count": 1,
   "id": "54efc423-56ee-4026-a02b-96ffa863c64a",
   "metadata": {},
   "outputs": [],
   "source": [
    "from abc import ABC, abstractclassmethod"
   ]
  },
  {
   "cell_type": "code",
   "execution_count": 2,
   "id": "a7389597-2169-4287-af65-2732e1184655",
   "metadata": {},
   "outputs": [],
   "source": [
    "class Clock:\n",
    "    def __init__(self):\n",
    "        self.time = \"time\"\n",
    "    \n",
    "    def tick(self):\n",
    "        self.time = \"time\""
   ]
  },
  {
   "cell_type": "code",
   "execution_count": 8,
   "id": "35712e1f-55ee-4ae3-a627-2ebcca1ab1de",
   "metadata": {},
   "outputs": [],
   "source": [
    "class ObservableObject:\n",
    "    def __init__(self):\n",
    "        self.observers = []\n",
    "    \n",
    "    def register(self, observer):\n",
    "        self.observers.append(observer)"
   ]
  },
  {
   "cell_type": "code",
   "execution_count": 9,
   "id": "5591658b-d595-467f-b28c-40b399e2cdc0",
   "metadata": {},
   "outputs": [],
   "source": [
    "class Observer(ABC):\n",
    "    @abstractclassmethod\n",
    "    def activate(self): pass"
   ]
  },
  {
   "cell_type": "code",
   "execution_count": 10,
   "id": "f18f1225-db3d-406f-94f1-342295e9be4e",
   "metadata": {},
   "outputs": [],
   "source": [
    "class ObservableClock(ObservableObject):\n",
    "    def tick"
   ]
  },
  {
   "cell_type": "code",
   "execution_count": 11,
   "id": "43027fdb-8865-47da-8c3c-80d152508526",
   "metadata": {},
   "outputs": [],
   "source": [
    "NumberOfServing = int"
   ]
  },
  {
   "cell_type": "code",
   "execution_count": 17,
   "id": "e7aea836-16e0-44ed-ad39-ea2cf655b147",
   "metadata": {},
   "outputs": [],
   "source": [
    "from typing import Tuple, List, Union"
   ]
  },
  {
   "cell_type": "code",
   "execution_count": 18,
   "id": "b97b73a1-fc83-4270-a422-caee559ddaaf",
   "metadata": {},
   "outputs": [],
   "source": [
    "Ingredient = Tuple[str, int, str]"
   ]
  },
  {
   "cell_type": "code",
   "execution_count": 19,
   "id": "aab5d21b-cbf6-4b65-8ee6-7d1a69808b64",
   "metadata": {},
   "outputs": [],
   "source": [
    "output = List[Union[NumberOfServing, Ingredient]]"
   ]
  },
  {
   "cell_type": "markdown",
   "id": "6a98dc32-27a1-4b11-9f11-bcc67b27b98d",
   "metadata": {},
   "source": [
    "### Deep Learning"
   ]
  },
  {
   "cell_type": "code",
   "execution_count": 20,
   "id": "01d76779-5bcb-4e97-b461-793b68a0c715",
   "metadata": {},
   "outputs": [],
   "source": [
    "import torch\n",
    "from torch import nn\n",
    "import torch.nn.functional as F"
   ]
  },
  {
   "cell_type": "code",
   "execution_count": null,
   "id": "40a47219-7634-4a45-a5c1-defa5f9cfd0d",
   "metadata": {},
   "outputs": [],
   "source": [
    "nn.Parameter()"
   ]
  },
  {
   "cell_type": "code",
   "execution_count": null,
   "id": "c78ce987-b6a2-4002-b4c2-863d6b8928f9",
   "metadata": {},
   "outputs": [],
   "source": [
    "init.kaiming_normal_(layer1.weight)"
   ]
  },
  {
   "cell_type": "code",
   "execution_count": 22,
   "id": "ea69f63e-fa6f-477b-bc92-1ce69a22b0dc",
   "metadata": {},
   "outputs": [],
   "source": [
    "from transformers import AutoTokenizer"
   ]
  },
  {
   "cell_type": "code",
   "execution_count": null,
   "id": "722f89e9-90f7-49d0-817b-1da992bfe59d",
   "metadata": {},
   "outputs": [],
   "source": [
    "tokenizer = AutoTokenizer.from_pretrained(\"gpt2\")"
   ]
  },
  {
   "cell_type": "code",
   "execution_count": null,
   "id": "1b1f412e-43ab-402a-b5e8-b2c022a3ec21",
   "metadata": {},
   "outputs": [],
   "source": [
    "tokenizer(\"persistence is all you need\")"
   ]
  },
  {
   "cell_type": "markdown",
   "id": "dc732f22-06da-4b01-8571-1f53628e5b07",
   "metadata": {},
   "source": [
    "### RL"
   ]
  },
  {
   "cell_type": "code",
   "execution_count": 23,
   "id": "d3292545-e4b3-49b8-8de4-e090299af999",
   "metadata": {},
   "outputs": [],
   "source": [
    "def clip(ratio, epsilon):\n",
    "    return torch.clamp(ratio, 1-epsilon, 1+epsilon)"
   ]
  },
  {
   "cell_type": "code",
   "execution_count": null,
   "id": "345b0f71-01e8-4570-a0df-7e6b8ec5c0cd",
   "metadata": {},
   "outputs": [],
   "source": [
    "current_policy_probs / prev_policy_probs"
   ]
  },
  {
   "cell_type": "code",
   "execution_count": null,
   "id": "be626a51-d89c-484b-ae87-a348a708c912",
   "metadata": {},
   "outputs": [],
   "source": [
    "conv, linear, relu, pool"
   ]
  },
  {
   "cell_type": "code",
   "execution_count": 24,
   "id": "eac6c0be-0e42-4359-8140-ed5c068e2e7b",
   "metadata": {},
   "outputs": [],
   "source": [
    "from einops import rearrange"
   ]
  },
  {
   "cell_type": "code",
   "execution_count": null,
   "id": "90637fea-7afa-4c91-b54b-7244c66c69b4",
   "metadata": {},
   "outputs": [],
   "source": [
    "result = rearrange(images, 'b c (h w) -> b c h w', h=64)"
   ]
  },
  {
   "cell_type": "code",
   "execution_count": null,
   "id": "1906a66a-d92d-471b-83f5-0a9149df7187",
   "metadata": {},
   "outputs": [],
   "source": [
    "rearrange(images, 'b c h w -> (b c h w)')"
   ]
  },
  {
   "cell_type": "code",
   "execution_count": null,
   "id": "2eb07c28-8a63-48ae-880f-ad5f9ac83c02",
   "metadata": {},
   "outputs": [],
   "source": [
    "rearrange(images, 'b c h w -> b c w h')"
   ]
  },
  {
   "cell_type": "code",
   "execution_count": null,
   "id": "bc21f91a-7260-4510-aacd-912b6badd33b",
   "metadata": {},
   "outputs": [],
   "source": [
    "rearrange(images, 'b c h w -> b c (h w)')"
   ]
  },
  {
   "cell_type": "code",
   "execution_count": null,
   "id": "ba59b2b7-4e48-40fd-a3dc-18695e5487f6",
   "metadata": {},
   "outputs": [],
   "source": [
    "for step in range(n_steps):\n",
    "    rewards = get_rewards(states, action)\n",
    "    \n",
    "    values = value_function(states + 1)\n",
    "    \n",
    "    Q = rewards + gamma * values.mean()"
   ]
  },
  {
   "cell_type": "code",
   "execution_count": null,
   "id": "3994fa19-0823-4fa1-8c39-d03661ace211",
   "metadata": {},
   "outputs": [],
   "source": [
    "q_values = q_network(states, actions)"
   ]
  },
  {
   "cell_type": "code",
   "execution_count": null,
   "id": "a9ee8c8c-fe26-427b-a16a-10e91de46582",
   "metadata": {},
   "outputs": [],
   "source": [
    "q_targets = get_reward(state, actions) + gamma * v_network(states + 1).mean()"
   ]
  },
  {
   "cell_type": "code",
   "execution_count": null,
   "id": "7e132b00-5872-4188-aa67-336a5b2d69ac",
   "metadata": {},
   "outputs": [],
   "source": [
    "loss = ((q_values - q_targets).pow(2) * 0.5).mean()"
   ]
  },
  {
   "cell_type": "code",
   "execution_count": null,
   "id": "494eef55-aa7b-4a03-a21c-f2f89a63a818",
   "metadata": {},
   "outputs": [],
   "source": [
    "for i in range(n_episode):\n",
    "    \n",
    "    state = env.reset()\n",
    "    \n",
    "    while True:\n",
    "        action = policy_network(state)\n",
    "\n",
    "        next_state, reward, done = env.step(action)\n",
    "\n",
    "        replay_buffer.append(state, action, next_state, reward, done)\n",
    "\n",
    "        if done: break\n",
    "        \n",
    "        state = next_state\n",
    "    \n",
    "    policy_network.update(replay_buffer)\n",
    "    value_network.update(replay_buffer)\n",
    "    q_net"
   ]
  },
  {
   "cell_type": "code",
   "execution_count": null,
   "id": "0f1d025f-9dd2-410c-ba60-9e1d489f6444",
   "metadata": {},
   "outputs": [],
   "source": [
    "discounted_returns = calculate_discounted_returns(rewards)"
   ]
  },
  {
   "cell_type": "code",
   "execution_count": null,
   "id": "45e2e8e2-0331-41f6-ba69-958330a9f7ee",
   "metadata": {},
   "outputs": [],
   "source": [
    "total_loss = 0"
   ]
  },
  {
   "cell_type": "code",
   "execution_count": null,
   "id": "c830423d-c4df-475c-8a3d-3ef49e12faae",
   "metadata": {},
   "outputs": [],
   "source": [
    "for discounted_return, prob in zip(discounted_returns, selected_action_prob):\n",
    "    total_loss += discounted_return * -prob.log()"
   ]
  },
  {
   "cell_type": "code",
   "execution_count": null,
   "id": "ee82b0db-109f-474f-9ea8-dbf52b34ef9e",
   "metadata": {},
   "outputs": [],
   "source": [
    "loss = total_loss / len(selected_action_prob)"
   ]
  },
  {
   "cell_type": "code",
   "execution_count": 25,
   "id": "74f39ac2-ac21-4218-8d63-686d8511954f",
   "metadata": {},
   "outputs": [],
   "source": [
    "def discount_reward(rewards, discount_factor):\n",
    "    discount_rewards = []\n",
    "    \n",
    "    for k, reward in enumerate(rewards):\n",
    "        x = (discount_factor**k) * reward\n",
    "        discount_rewards.append(x)\n",
    "    return discount_rewards"
   ]
  },
  {
   "cell_type": "code",
   "execution_count": 26,
   "id": "1c8d579d-e31a-4a39-a3aa-781b238ecf34",
   "metadata": {},
   "outputs": [],
   "source": [
    "rewards = torch.tensor([1, 2, 3, 4])"
   ]
  },
  {
   "cell_type": "code",
   "execution_count": 27,
   "id": "6e098f28-3148-4b53-b281-186e4912fe6d",
   "metadata": {},
   "outputs": [
    {
     "data": {
      "text/plain": [
       "[tensor(1.), tensor(1.9800), tensor(2.9403), tensor(3.8812)]"
      ]
     },
     "execution_count": 27,
     "metadata": {},
     "output_type": "execute_result"
    }
   ],
   "source": [
    "discount_reward(rewards, 0.99)"
   ]
  },
  {
   "cell_type": "code",
   "execution_count": null,
   "id": "5f4522b5-f11d-4ab4-bae5-58949985287c",
   "metadata": {},
   "outputs": [],
   "source": [
    "def calculate_loss_of_soft_v(state, actions, action_probs):\n",
    "    q_values = v_function(states)\n",
    "    \n",
    "    q_targets = (q_function(states, action) - action_probs.log()).mean()\n",
    "    \n",
    "    loss = ((q_values - q_targets).pow(2) * 0.5).mean()\n",
    "    return loss"
   ]
  },
  {
   "cell_type": "code",
   "execution_count": 28,
   "id": "30e4f9b6-3353-47eb-8818-17006acb0781",
   "metadata": {},
   "outputs": [],
   "source": [
    "def convert_to_distribution(states):\n",
    "    q_values = q_function(states)\n",
    "    \n",
    "    q_values = q_values.exp()\n",
    "    z = q_values.sum(dim=-1)\n",
    "    \n",
    "    return q_values / z"
   ]
  },
  {
   "cell_type": "code",
   "execution_count": null,
   "id": "8307f234-d47c-4215-bbd5-42be2d71ef18",
   "metadata": {},
   "outputs": [],
   "source": []
  }
 ],
 "metadata": {
  "kernelspec": {
   "display_name": "Python 3 (ipykernel)",
   "language": "python",
   "name": "python3"
  },
  "language_info": {
   "codemirror_mode": {
    "name": "ipython",
    "version": 3
   },
   "file_extension": ".py",
   "mimetype": "text/x-python",
   "name": "python",
   "nbconvert_exporter": "python",
   "pygments_lexer": "ipython3",
   "version": "3.8.15"
  }
 },
 "nbformat": 4,
 "nbformat_minor": 5
}
