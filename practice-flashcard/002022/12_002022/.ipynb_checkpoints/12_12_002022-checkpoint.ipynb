{
 "cells": [
  {
   "cell_type": "markdown",
   "id": "7602dc20-673c-4c18-bfaf-d60942889ffc",
   "metadata": {},
   "source": [
    "### Deep Learning"
   ]
  },
  {
   "cell_type": "code",
   "execution_count": 1,
   "id": "fa6d55ad-6285-40d6-9c43-d1519fa1445f",
   "metadata": {},
   "outputs": [],
   "source": [
    "import numpy as np"
   ]
  },
  {
   "cell_type": "code",
   "execution_count": 20,
   "id": "1c0d369a-ff00-4d39-b332-0f0c759401fa",
   "metadata": {},
   "outputs": [],
   "source": [
    "class PositionalEncoding:\n",
    "    def __init__(self, n, d_head):\n",
    "        self.n = n\n",
    "        self.d_head = d_head\n",
    "    \n",
    "    def encode(self, idxs):\n",
    "        n_words = len(idxs)\n",
    "        embeddings = torch.zeros((n_words, self.d_head))\n",
    "        \n",
    "        for p in range(n_words):\n",
    "            for i in range(self.d_head):\n",
    "                denominator = np.power(self.n, (2*i/self.d_head))\n",
    "                \n",
    "                if i % 2 == 0:\n",
    "                    embeddings[p][i] = np.sin(p / denominator)\n",
    "                else:\n",
    "                    embeddings[p][i] = np.cos(p / denominator)\n",
    "        \n",
    "        return embeddings"
   ]
  },
  {
   "cell_type": "code",
   "execution_count": null,
   "id": "0736d938-1368-4e84-adf5-02f7913adc58",
   "metadata": {},
   "outputs": [],
   "source": [
    "d(g(z))"
   ]
  },
  {
   "cell_type": "code",
   "execution_count": 18,
   "id": "d49cc317-a8dd-49e1-925a-35255e139c35",
   "metadata": {},
   "outputs": [],
   "source": [
    "positional_encoding = PositionalEncoding(200, 5)"
   ]
  },
  {
   "cell_type": "code",
   "execution_count": 19,
   "id": "33f278a4-15b9-481b-8a51-0eb43ecd17a6",
   "metadata": {},
   "outputs": [
    {
     "data": {
      "text/plain": [
       "tensor([[ 0.0000e+00,  1.0000e+00,  0.0000e+00,  1.0000e+00,  0.0000e+00],\n",
       "        [ 8.4147e-01,  9.9280e-01,  1.4426e-02,  1.0000e+00,  2.0814e-04],\n",
       "        [ 9.0930e-01,  9.7128e-01,  2.8850e-02,  9.9999e-01,  4.1628e-04],\n",
       "        [ 1.4112e-01,  9.3578e-01,  4.3267e-02,  9.9999e-01,  6.2441e-04],\n",
       "        [-7.5680e-01,  8.8679e-01,  5.7676e-02,  9.9998e-01,  8.3255e-04]])"
      ]
     },
     "execution_count": 19,
     "metadata": {},
     "output_type": "execute_result"
    }
   ],
   "source": [
    "positional_encoding.encode([0, 1, 2, 3, 4])"
   ]
  },
  {
   "cell_type": "code",
   "execution_count": 21,
   "id": "52ff1fb4-9808-4c26-bc06-2c02bc527ab7",
   "metadata": {},
   "outputs": [],
   "source": [
    "from torch import nn"
   ]
  },
  {
   "cell_type": "code",
   "execution_count": 22,
   "id": "b218ccad-a746-45bc-99ee-b4b4f3779c4e",
   "metadata": {},
   "outputs": [],
   "source": [
    "class TextEmbedding:\n",
    "    def __init__(self, vocab_size, dim, padding_idx):\n",
    "        self.embed = nn.Embedding(vocab_size, dim)\n",
    "    \n",
    "    def forward(self, x)"
   ]
  },
  {
   "cell_type": "code",
   "execution_count": null,
   "id": "7b4856d1-e5fd-42c8-ae49-b1860e1667d9",
   "metadata": {},
   "outputs": [],
   "source": []
  }
 ],
 "metadata": {
  "kernelspec": {
   "display_name": "Python 3 (ipykernel)",
   "language": "python",
   "name": "python3"
  },
  "language_info": {
   "codemirror_mode": {
    "name": "ipython",
    "version": 3
   },
   "file_extension": ".py",
   "mimetype": "text/x-python",
   "name": "python",
   "nbconvert_exporter": "python",
   "pygments_lexer": "ipython3",
   "version": "3.8.15"
  }
 },
 "nbformat": 4,
 "nbformat_minor": 5
}
