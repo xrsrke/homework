{
 "cells": [
  {
   "cell_type": "markdown",
   "id": "1db84c8a",
   "metadata": {},
   "source": [
    "### Deep Learning"
   ]
  },
  {
   "cell_type": "code",
   "execution_count": 1,
   "id": "9718bc9b",
   "metadata": {},
   "outputs": [],
   "source": [
    "import torch"
   ]
  },
  {
   "cell_type": "code",
   "execution_count": 3,
   "id": "9ca2e920",
   "metadata": {},
   "outputs": [],
   "source": [
    "from torch import nn\n",
    "import torch.nn.functional as F"
   ]
  },
  {
   "cell_type": "code",
   "execution_count": null,
   "id": "f8376db8",
   "metadata": {},
   "outputs": [],
   "source": [
    "q, k, v"
   ]
  },
  {
   "cell_type": "code",
   "execution_count": null,
   "id": "c3e6ea41",
   "metadata": {},
   "outputs": [],
   "source": [
    "self.layers = nn.ModuleList(**layers)"
   ]
  },
  {
   "cell_type": "code",
   "execution_count": null,
   "id": "e870db93",
   "metadata": {},
   "outputs": [],
   "source": [
    "F.pad(x, (1, 1, 1, 1))"
   ]
  },
  {
   "cell_type": "code",
   "execution_count": null,
   "id": "95f9450d",
   "metadata": {},
   "outputs": [],
   "source": [
    "1, 2, 3, 3"
   ]
  },
  {
   "cell_type": "code",
   "execution_count": 7,
   "id": "feb6102a",
   "metadata": {},
   "outputs": [],
   "source": [
    "import math"
   ]
  },
  {
   "cell_type": "code",
   "execution_count": 8,
   "id": "09a1117b",
   "metadata": {},
   "outputs": [],
   "source": [
    "def scaled_dot_product_attention(q, k, v, d_k):\n",
    "    QK_matmul = torch.matmul(q, k.T)\n",
    "    QK_scaled = QK_matmul / math.sqrt(d_k)\n",
    "    attention_scores = F.softmax(QK_scaled, dim=-1)\n",
    "    output = attention_scores @ v\n",
    "    \n",
    "    return attention_scores, output"
   ]
  },
  {
   "cell_type": "code",
   "execution_count": null,
   "id": "457a7748",
   "metadata": {},
   "outputs": [],
   "source": [
    "batch norm, resdiaul, conv, linear"
   ]
  },
  {
   "cell_type": "code",
   "execution_count": null,
   "id": "8e7d935e",
   "metadata": {},
   "outputs": [],
   "source": [
    "7, 3, 4, 4"
   ]
  },
  {
   "cell_type": "code",
   "execution_count": 9,
   "id": "cbb21083",
   "metadata": {},
   "outputs": [],
   "source": [
    "class DotProduct(nn.Module):\n",
    "    def forward(self, x):\n",
    "        users = self.user_factors(x[:, 0])\n",
    "        movies = self.movie_factors(x[:, 1])\n",
    "        return (users @ movies).sum(dim=1)"
   ]
  },
  {
   "cell_type": "code",
   "execution_count": null,
   "id": "f7643c76",
   "metadata": {},
   "outputs": [],
   "source": [
    "1, 3, 4"
   ]
  },
  {
   "cell_type": "code",
   "execution_count": null,
   "id": "4ca2cfeb",
   "metadata": {},
   "outputs": [],
   "source": [
    "1, 2 , 3 3"
   ]
  },
  {
   "cell_type": "code",
   "execution_count": 14,
   "id": "20237517",
   "metadata": {},
   "outputs": [],
   "source": [
    "def create_mask(size):\n",
    "    return torch.ones((1, size, size)).triu(1)"
   ]
  },
  {
   "cell_type": "code",
   "execution_count": 15,
   "id": "cb86c25b",
   "metadata": {},
   "outputs": [
    {
     "data": {
      "text/plain": [
       "tensor([[[0., 1., 1., 1.],\n",
       "         [0., 0., 1., 1.],\n",
       "         [0., 0., 0., 1.],\n",
       "         [0., 0., 0., 0.]]])"
      ]
     },
     "execution_count": 15,
     "metadata": {},
     "output_type": "execute_result"
    }
   ],
   "source": [
    "create_mask(4)"
   ]
  },
  {
   "cell_type": "code",
   "execution_count": null,
   "id": "63a3380a",
   "metadata": {},
   "outputs": [],
   "source": [
    "forget, input, out, cell"
   ]
  },
  {
   "cell_type": "code",
   "execution_count": null,
   "id": "59bffbb7",
   "metadata": {},
   "outputs": [],
   "source": [
    "def open_image(image):\n",
    "    return "
   ]
  },
  {
   "cell_type": "code",
   "execution_count": null,
   "id": "a7482874",
   "metadata": {},
   "outputs": [],
   "source": [
    "7, 3, 4, 4"
   ]
  },
  {
   "cell_type": "code",
   "execution_count": null,
   "id": "cd6a08fa",
   "metadata": {},
   "outputs": [],
   "source": [
    "n, d_model, i, "
   ]
  },
  {
   "cell_type": "code",
   "execution_count": 1,
   "id": "3c964320",
   "metadata": {},
   "outputs": [
    {
     "ename": "SyntaxError",
     "evalue": "invalid syntax (1008918262.py, line 8)",
     "output_type": "error",
     "traceback": [
      "\u001b[0;36m  Cell \u001b[0;32mIn[1], line 8\u001b[0;36m\u001b[0m\n\u001b[0;31m    self.d_model =\u001b[0m\n\u001b[0m                   ^\u001b[0m\n\u001b[0;31mSyntaxError\u001b[0m\u001b[0;31m:\u001b[0m invalid syntax\n"
     ]
    }
   ],
   "source": [
    "class PositionalEncoding:\n",
    "    def __init__(self, n, d_model):\n",
    "        super().__init__()\n",
    "        self.n = n\n",
    "        self.d_model = d_model\n",
    "    \n",
    "    def encode(self, idxs):\n",
    "        n_words = len(idxs)\n",
    "        self.embeddings = np.zeros((n_words, self.d_model))"
   ]
  },
  {
   "cell_type": "markdown",
   "id": "71d51f96",
   "metadata": {},
   "source": [
    "### Reinforcement Learning"
   ]
  },
  {
   "cell_type": "code",
   "execution_count": null,
   "id": "28aaf3fc",
   "metadata": {},
   "outputs": [],
   "source": [
    "for i in range(10):\n",
    "    action = env.action_space.sample()\n",
    "    env.step(action)\n",
    "    print(f\"perform action={action}\")"
   ]
  },
  {
   "cell_type": "code",
   "execution_count": 4,
   "id": "9b4eba90",
   "metadata": {},
   "outputs": [],
   "source": [
    "current_state = torch.tensor([0, 0, 1])"
   ]
  },
  {
   "cell_type": "code",
   "execution_count": null,
   "id": "0bc93ffe",
   "metadata": {},
   "outputs": [],
   "source": [
    "current_state @ transition"
   ]
  },
  {
   "cell_type": "code",
   "execution_count": 6,
   "id": "fedc7e3b",
   "metadata": {},
   "outputs": [],
   "source": [
    "def calculate_return(rewards, discount_factor):\n",
    "    total_return = 0.\n",
    "    for i, reward in enumerate(rewards):\n",
    "        total_return += reward * (discount_factor ** i) \n",
    "    \n",
    "    return total_return"
   ]
  },
  {
   "cell_type": "code",
   "execution_count": null,
   "id": "d90442e9",
   "metadata": {},
   "outputs": [],
   "source": [
    "reward, info, done, observation"
   ]
  },
  {
   "cell_type": "code",
   "execution_count": null,
   "id": "59a066a3",
   "metadata": {},
   "outputs": [],
   "source": [
    "env, agent, action, reward, "
   ]
  },
  {
   "cell_type": "code",
   "execution_count": null,
   "id": "f7894cd4",
   "metadata": {},
   "outputs": [],
   "source": [
    "1, 2, 3, 3"
   ]
  }
 ],
 "metadata": {
  "kernelspec": {
   "display_name": "Python 3 (ipykernel)",
   "language": "python",
   "name": "python3"
  },
  "language_info": {
   "codemirror_mode": {
    "name": "ipython",
    "version": 3
   },
   "file_extension": ".py",
   "mimetype": "text/x-python",
   "name": "python",
   "nbconvert_exporter": "python",
   "pygments_lexer": "ipython3",
   "version": "3.8.15"
  }
 },
 "nbformat": 4,
 "nbformat_minor": 5
}
