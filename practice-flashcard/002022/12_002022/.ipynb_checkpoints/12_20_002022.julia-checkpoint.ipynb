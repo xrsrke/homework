{
 "cells": [
  {
   "cell_type": "code",
   "execution_count": 1,
   "id": "c7f1fd78-2cd4-488a-adb2-6b5c9e42a044",
   "metadata": {},
   "outputs": [],
   "source": [
    "using Distributed"
   ]
  },
  {
   "cell_type": "code",
   "execution_count": 4,
   "id": "66ff1e4b-6fb6-4c57-b47f-ba6d09828b14",
   "metadata": {},
   "outputs": [],
   "source": [
    "# function add(x, y)\n",
    "#     return x + y\n",
    "# end"
   ]
  },
  {
   "cell_type": "code",
   "execution_count": 5,
   "id": "0600ccbf-3cd1-4dc8-b801-4ae928e41ee0",
   "metadata": {},
   "outputs": [],
   "source": [
    "@everywhere add(x, y) = x + y"
   ]
  },
  {
   "cell_type": "code",
   "execution_count": 6,
   "id": "2f25a051-87ed-4c5e-bc34-83828c519256",
   "metadata": {},
   "outputs": [
    {
     "data": {
      "text/plain": [
       "Future(1, 1, 1, ReentrantLock(nothing, 0x00000000, 0x00, Base.GenericCondition{Base.Threads.SpinLock}(Base.InvasiveLinkedList{Task}(nothing, nothing), Base.Threads.SpinLock(0)), (8, 4692022016, 0)), nothing)"
      ]
     },
     "execution_count": 6,
     "metadata": {},
     "output_type": "execute_result"
    }
   ],
   "source": [
    "task = Distributed.@spawnat 1 add(1, 2)"
   ]
  },
  {
   "cell_type": "code",
   "execution_count": 7,
   "id": "1ea140c3-50f4-42d3-92db-ac65a19c24cf",
   "metadata": {},
   "outputs": [
    {
     "data": {
      "text/plain": [
       "3"
      ]
     },
     "execution_count": 7,
     "metadata": {},
     "output_type": "execute_result"
    }
   ],
   "source": [
    "result = fetch(task)"
   ]
  },
  {
   "cell_type": "code",
   "execution_count": 8,
   "id": "6d08cb5c-75fd-4166-b698-d90ba0a44995",
   "metadata": {},
   "outputs": [],
   "source": [
    "using Distributed"
   ]
  },
  {
   "cell_type": "code",
   "execution_count": 10,
   "id": "a3afb616-a76e-4bd7-99c2-7b25adedf712",
   "metadata": {},
   "outputs": [
    {
     "data": {
      "text/plain": [
       "4-element Vector{Int64}:\n",
       " 2\n",
       " 3\n",
       " 4\n",
       " 5"
      ]
     },
     "execution_count": 10,
     "metadata": {},
     "output_type": "execute_result"
    }
   ],
   "source": [
    "Distributed.addprocs(4)"
   ]
  },
  {
   "cell_type": "code",
   "execution_count": 11,
   "id": "5c4e1f26-a14e-4bdb-9709-84efb0a018a5",
   "metadata": {},
   "outputs": [
    {
     "data": {
      "text/plain": [
       "Any[]"
      ]
     },
     "execution_count": 11,
     "metadata": {},
     "output_type": "execute_result"
    }
   ],
   "source": [
    "xs = []"
   ]
  },
  {
   "cell_type": "code",
   "execution_count": 12,
   "id": "bf0258f5-236c-4892-bba9-80de58371e9a",
   "metadata": {},
   "outputs": [
    {
     "data": {
      "text/plain": [
       "1:4"
      ]
     },
     "execution_count": 12,
     "metadata": {},
     "output_type": "execute_result"
    }
   ],
   "source": [
    "numbers = 1:4"
   ]
  },
  {
   "cell_type": "code",
   "execution_count": 13,
   "id": "319598a2-2329-4c46-8ca0-02fc30a44ed3",
   "metadata": {},
   "outputs": [
    {
     "data": {
      "text/plain": [
       "ReentrantLock(nothing, 0x00000000, 0x00, Base.GenericCondition{Base.Threads.SpinLock}(Base.InvasiveLinkedList{Task}(nothing, nothing), Base.Threads.SpinLock(0)), (0, 4468054080, 4693549968))"
      ]
     },
     "execution_count": 13,
     "metadata": {},
     "output_type": "execute_result"
    }
   ],
   "source": [
    "xslock = Threads.ReentrantLock()"
   ]
  },
  {
   "cell_type": "code",
   "execution_count": 15,
   "id": "38ceedef-5061-45eb-8b1f-76a5e8992c2b",
   "metadata": {},
   "outputs": [],
   "source": [
    "Threads.@threads for i in numbers\n",
    "    lock(xslock) do\n",
    "        push!(xs, i)\n",
    "    end\n",
    "end"
   ]
  },
  {
   "cell_type": "code",
   "execution_count": null,
   "id": "1801a699-3663-46a9-813f-8a01527ed4dd",
   "metadata": {},
   "outputs": [],
   "source": [
    "if var_a > 1 or var_b < 2"
   ]
  }
 ],
 "metadata": {
  "kernelspec": {
   "display_name": "Julia 1.8.3",
   "language": "julia",
   "name": "julia-1.8"
  },
  "language_info": {
   "file_extension": ".jl",
   "mimetype": "application/julia",
   "name": "julia",
   "version": "1.8.3"
  }
 },
 "nbformat": 4,
 "nbformat_minor": 5
}
