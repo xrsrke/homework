{
 "cells": [
  {
   "cell_type": "code",
   "execution_count": 1,
   "id": "80f505d1-73eb-4506-84b9-bdfc547b63c2",
   "metadata": {},
   "outputs": [],
   "source": [
    "mutable struct Computer\n",
    "    os::String\n",
    "end"
   ]
  },
  {
   "cell_type": "code",
   "execution_count": 3,
   "id": "1452b17a-9ecf-4b0f-8e1f-b6d9945316c7",
   "metadata": {},
   "outputs": [],
   "source": [
    "using Distributed"
   ]
  },
  {
   "cell_type": "code",
   "execution_count": 5,
   "id": "5fc79ef6-d0c9-4358-a842-afda17ee4596",
   "metadata": {},
   "outputs": [],
   "source": [
    "@everywhere add(x, y) = x + y"
   ]
  },
  {
   "cell_type": "code",
   "execution_count": null,
   "id": "9e0b300b-6dd3-4c27-9f90-6a659ed8589b",
   "metadata": {},
   "outputs": [],
   "source": [
    "Distributed.@spawnat 2 add(1, 2)"
   ]
  },
  {
   "cell_type": "code",
   "execution_count": 6,
   "id": "a3cf6be1-8074-4059-9a85-cfae74fc014b",
   "metadata": {},
   "outputs": [],
   "source": [
    "using Distributed"
   ]
  },
  {
   "cell_type": "code",
   "execution_count": 7,
   "id": "e0ddb31d-ff93-4d0a-b57c-38b6984eb15c",
   "metadata": {},
   "outputs": [
    {
     "data": {
      "text/plain": [
       "Future(1, 1, 1, ReentrantLock(nothing, 0x00000000, 0x00, Base.GenericCondition{Base.Threads.SpinLock}(Base.InvasiveLinkedList{Task}(nothing, nothing), Base.Threads.SpinLock(0)), (2, 4831836048, 4383593200)), nothing)"
      ]
     },
     "execution_count": 7,
     "metadata": {},
     "output_type": "execute_result"
    }
   ],
   "source": [
    "task = Distributed.@spawnat 1 1+1"
   ]
  },
  {
   "cell_type": "code",
   "execution_count": 8,
   "id": "4933f4d0-7b94-40f9-a7ee-ec8d58562ce6",
   "metadata": {},
   "outputs": [
    {
     "data": {
      "text/plain": [
       "2"
      ]
     },
     "execution_count": 8,
     "metadata": {},
     "output_type": "execute_result"
    }
   ],
   "source": [
    "fetch(task)"
   ]
  },
  {
   "cell_type": "code",
   "execution_count": 9,
   "id": "c88a6e3a-310b-444c-aba2-6cd1fbe3f207",
   "metadata": {},
   "outputs": [
    {
     "data": {
      "text/plain": [
       "Any[]"
      ]
     },
     "execution_count": 9,
     "metadata": {},
     "output_type": "execute_result"
    }
   ],
   "source": [
    "xs = []"
   ]
  },
  {
   "cell_type": "code",
   "execution_count": 10,
   "id": "6d340b2c-61da-4da0-9932-9ac5cdd6b3a0",
   "metadata": {},
   "outputs": [
    {
     "data": {
      "text/plain": [
       "1:4"
      ]
     },
     "execution_count": 10,
     "metadata": {},
     "output_type": "execute_result"
    }
   ],
   "source": [
    "numbers = 1:4"
   ]
  },
  {
   "cell_type": "code",
   "execution_count": 11,
   "id": "7c017490-798b-4357-a292-96ab56af753a",
   "metadata": {},
   "outputs": [
    {
     "data": {
      "text/plain": [
       "ReentrantLock(nothing, 0x00000000, 0x00, Base.GenericCondition{Base.Threads.SpinLock}(Base.InvasiveLinkedList{Task}(nothing, nothing), Base.Threads.SpinLock(0)), (0, 4559167232, 4))"
      ]
     },
     "execution_count": 11,
     "metadata": {},
     "output_type": "execute_result"
    }
   ],
   "source": [
    "xslock = Threads.ReentrantLock()"
   ]
  },
  {
   "cell_type": "code",
   "execution_count": 12,
   "id": "d22f3c31-9262-4970-bbad-318d0625924b",
   "metadata": {},
   "outputs": [],
   "source": [
    "Threads.@threads for i in numbers\n",
    "    lock(xslock) do\n",
    "        push!(xs, i)\n",
    "    end\n",
    "end"
   ]
  },
  {
   "cell_type": "code",
   "execution_count": 13,
   "id": "f55cede7-7f9b-4018-8d35-2e9edbe82596",
   "metadata": {},
   "outputs": [
    {
     "data": {
      "text/plain": [
       "4-element Vector{Any}:\n",
       " 1\n",
       " 2\n",
       " 3\n",
       " 4"
      ]
     },
     "execution_count": 13,
     "metadata": {},
     "output_type": "execute_result"
    }
   ],
   "source": [
    "xs"
   ]
  },
  {
   "cell_type": "code",
   "execution_count": 14,
   "id": "1b5b11af-08de-43a6-ada2-325a3278ee3b",
   "metadata": {},
   "outputs": [
    {
     "data": {
      "text/plain": [
       "Any[]"
      ]
     },
     "execution_count": 14,
     "metadata": {},
     "output_type": "execute_result"
    }
   ],
   "source": [
    "xs = []"
   ]
  },
  {
   "cell_type": "code",
   "execution_count": 16,
   "id": "b6cb0108-7342-485e-80da-b7015110a2f1",
   "metadata": {},
   "outputs": [
    {
     "data": {
      "text/plain": [
       "ReentrantLock(nothing, 0x00000000, 0x00, Base.GenericCondition{Base.Threads.SpinLock}(Base.InvasiveLinkedList{Task}(nothing, nothing), Base.Threads.SpinLock(0)), (8, 4383588360, 4556792896))"
      ]
     },
     "execution_count": 16,
     "metadata": {},
     "output_type": "execute_result"
    }
   ],
   "source": [
    "xslock = Threads.ReentrantLock()"
   ]
  },
  {
   "cell_type": "code",
   "execution_count": 17,
   "id": "a192b1d5-3a37-4171-82b7-c609557d1732",
   "metadata": {},
   "outputs": [],
   "source": [
    "Threads.@threads for i in numbers\n",
    "    lock(xslock) do\n",
    "        push!(xs, i)\n",
    "    end\n",
    "end"
   ]
  },
  {
   "cell_type": "code",
   "execution_count": 18,
   "id": "a04fe9b2-4962-4e28-b246-a91c81fba712",
   "metadata": {},
   "outputs": [
    {
     "data": {
      "text/plain": [
       "4-element Vector{Any}:\n",
       " 1\n",
       " 2\n",
       " 3\n",
       " 4"
      ]
     },
     "execution_count": 18,
     "metadata": {},
     "output_type": "execute_result"
    }
   ],
   "source": [
    "xs"
   ]
  }
 ],
 "metadata": {
  "kernelspec": {
   "display_name": "Julia 1.8.3",
   "language": "julia",
   "name": "julia-1.8"
  },
  "language_info": {
   "file_extension": ".jl",
   "mimetype": "application/julia",
   "name": "julia",
   "version": "1.8.3"
  }
 },
 "nbformat": 4,
 "nbformat_minor": 5
}
