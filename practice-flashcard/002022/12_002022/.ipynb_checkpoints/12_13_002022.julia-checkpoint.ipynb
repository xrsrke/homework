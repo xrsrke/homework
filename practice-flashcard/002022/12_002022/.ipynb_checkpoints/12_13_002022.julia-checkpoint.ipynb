{
 "cells": [
  {
   "cell_type": "code",
   "execution_count": 1,
   "id": "a10ceffe-84ee-41cc-83a9-867534347fea",
   "metadata": {},
   "outputs": [
    {
     "data": {
      "text/plain": [
       "is_string (generic function with 1 method)"
      ]
     },
     "execution_count": 1,
     "metadata": {},
     "output_type": "execute_result"
    }
   ],
   "source": [
    "is_string(thing::String) = true"
   ]
  },
  {
   "cell_type": "code",
   "execution_count": 2,
   "id": "36650904-9f2c-4276-af5f-5eccfce915a6",
   "metadata": {},
   "outputs": [
    {
     "data": {
      "text/plain": [
       "is_string (generic function with 2 methods)"
      ]
     },
     "execution_count": 2,
     "metadata": {},
     "output_type": "execute_result"
    }
   ],
   "source": [
    "is_string(thing) = false"
   ]
  },
  {
   "cell_type": "code",
   "execution_count": null,
   "id": "1611f9c2-67da-4a66-bbc3-0da236a98446",
   "metadata": {},
   "outputs": [],
   "source": []
  }
 ],
 "metadata": {
  "kernelspec": {
   "display_name": "Julia 1.8.3",
   "language": "julia",
   "name": "julia-1.8"
  },
  "language_info": {
   "file_extension": ".jl",
   "mimetype": "application/julia",
   "name": "julia",
   "version": "1.8.3"
  }
 },
 "nbformat": 4,
 "nbformat_minor": 5
}
