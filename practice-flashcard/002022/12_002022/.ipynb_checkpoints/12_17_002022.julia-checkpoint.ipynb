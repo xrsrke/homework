{
 "cells": [
  {
   "cell_type": "code",
   "execution_count": 3,
   "id": "beca9641-93c6-4d01-8019-4d82c2ac0caa",
   "metadata": {},
   "outputs": [
    {
     "name": "stdout",
     "output_type": "stream",
     "text": [
      "1\n",
      "2\n",
      "3\n",
      "4\n"
     ]
    }
   ],
   "source": [
    "Threads.@threads for i in 1:4\n",
    "    println(i)\n",
    "end"
   ]
  },
  {
   "cell_type": "code",
   "execution_count": null,
   "id": "255c1016-66ed-4d7a-9dc4-784431a7e988",
   "metadata": {},
   "outputs": [],
   "source": [
    "xs[2:4] = 1:3"
   ]
  },
  {
   "cell_type": "code",
   "execution_count": null,
   "id": "12e4f6ee-bf15-4b6c-b85c-915f2e56eecb",
   "metadata": {},
   "outputs": [],
   "source": [
    "a, b... = list"
   ]
  },
  {
   "cell_type": "code",
   "execution_count": 5,
   "id": "8c828152-05d2-460a-a248-1ce1cc50d37b",
   "metadata": {},
   "outputs": [],
   "source": [
    "mutable struct Computer\n",
    "    os::String\n",
    "end"
   ]
  },
  {
   "cell_type": "code",
   "execution_count": null,
   "id": "97722ab0-c2c7-4e85-b6c3-e7fdae7c86ca",
   "metadata": {},
   "outputs": [],
   "source": [
    "struct Starship <: Vehicle\n",
    "    n_engines::Int\n",
    "end"
   ]
  },
  {
   "cell_type": "code",
   "execution_count": 6,
   "id": "901fab4f-b1f5-483a-9055-bbd0445f5b41",
   "metadata": {},
   "outputs": [
    {
     "data": {
      "text/plain": [
       "add (generic function with 1 method)"
      ]
     },
     "execution_count": 6,
     "metadata": {},
     "output_type": "execute_result"
    }
   ],
   "source": [
    "function add(x::Int, y::Int)\n",
    "    return x + y\n",
    "end"
   ]
  },
  {
   "cell_type": "code",
   "execution_count": 8,
   "id": "bda2faf2-4504-4f37-a584-e22fb64aefe6",
   "metadata": {},
   "outputs": [
    {
     "data": {
      "text/plain": [
       "2×3 Matrix{Int64}:\n",
       " 1  2  3\n",
       " 4  5  6"
      ]
     },
     "execution_count": 8,
     "metadata": {},
     "output_type": "execute_result"
    }
   ],
   "source": [
    "A = [1 2 3; 4 5 6]"
   ]
  },
  {
   "cell_type": "code",
   "execution_count": null,
   "id": "b7ceef12-d90e-4e8f-b505-5fc4643fe5d4",
   "metadata": {},
   "outputs": [],
   "source": [
    "push!(v, 10)"
   ]
  },
  {
   "cell_type": "code",
   "execution_count": 13,
   "id": "c1e85bff-a7b0-4629-abfa-a9b98175ca76",
   "metadata": {},
   "outputs": [
    {
     "data": {
      "text/plain": [
       "4"
      ]
     },
     "execution_count": 13,
     "metadata": {},
     "output_type": "execute_result"
    }
   ],
   "source": [
    "A[2]"
   ]
  },
  {
   "cell_type": "code",
   "execution_count": 16,
   "id": "fb5b5013-d049-4cd6-b646-aca2195637c1",
   "metadata": {},
   "outputs": [
    {
     "ename": "LoadError",
     "evalue": "TypeError: in Computer, in type definition, expected Type, got a value of type typeof(string)",
     "output_type": "error",
     "traceback": [
      "TypeError: in Computer, in type definition, expected Type, got a value of type typeof(string)",
      "",
      "Stacktrace:",
      " [1] top-level scope",
      "   @ In[16]:1",
      " [2] eval",
      "   @ ./boot.jl:368 [inlined]",
      " [3] include_string(mapexpr::typeof(REPL.softscope), mod::Module, code::String, filename::String)",
      "   @ Base ./loading.jl:1428"
     ]
    }
   ],
   "source": [
    "mutable struct Computer\n",
    "    os::string\n",
    "end"
   ]
  },
  {
   "cell_type": "code",
   "execution_count": null,
   "id": "85ed9a3f-4e92-4e87-b36b-d24ca9ac72eb",
   "metadata": {},
   "outputs": [],
   "source": []
  }
 ],
 "metadata": {
  "kernelspec": {
   "display_name": "Julia 1.8.3",
   "language": "julia",
   "name": "julia-1.8"
  },
  "language_info": {
   "file_extension": ".jl",
   "mimetype": "application/julia",
   "name": "julia",
   "version": "1.8.3"
  }
 },
 "nbformat": 4,
 "nbformat_minor": 5
}
