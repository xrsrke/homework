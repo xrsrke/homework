{
 "cells": [
  {
   "cell_type": "markdown",
   "id": "d55ff1b6-abf4-4918-b209-0ffbe03ad9b4",
   "metadata": {},
   "source": [
    "### Python"
   ]
  },
  {
   "cell_type": "code",
   "execution_count": 1,
   "id": "f0e3b252-95f4-4801-9fde-9c684a792d07",
   "metadata": {},
   "outputs": [],
   "source": [
    "from unittest import TestCase"
   ]
  },
  {
   "cell_type": "code",
   "execution_count": 2,
   "id": "4e0ce1d9-b74d-4d0d-ad3a-8da9489e529e",
   "metadata": {},
   "outputs": [],
   "source": [
    "class TestGetCompanies(TestCase):\n",
    "    def test_list_companies_(self):\n",
    "        self.assertIn(list_companies, companies)"
   ]
  },
  {
   "cell_type": "code",
   "execution_count": 3,
   "id": "68ec6b80-3d1f-4c27-bb27-3e329802563e",
   "metadata": {},
   "outputs": [],
   "source": [
    "from typing import Union, List"
   ]
  },
  {
   "cell_type": "code",
   "execution_count": 5,
   "id": "a26aae9f-f0ff-48f6-8336-48afdeddb39c",
   "metadata": {},
   "outputs": [],
   "source": [
    "from typing import overload"
   ]
  },
  {
   "cell_type": "code",
   "execution_count": 6,
   "id": "7a77cae8-eb72-4803-8bee-e2f07adb8660",
   "metadata": {},
   "outputs": [],
   "source": [
    "@overload\n",
    "def getitem(x: str) -> str: pass"
   ]
  },
  {
   "cell_type": "code",
   "execution_count": 7,
   "id": "c0d15b78-ff70-4f08-acd6-be73cf856b7e",
   "metadata": {},
   "outputs": [],
   "source": [
    "@overload\n",
    "def getitem(x: int) -> int: pass"
   ]
  },
  {
   "cell_type": "code",
   "execution_count": null,
   "id": "2a5b176a-63c4-4f73-b004-52ee76c8ee62",
   "metadata": {},
   "outputs": [],
   "source": [
    "vis, mobile, "
   ]
  },
  {
   "cell_type": "code",
   "execution_count": 8,
   "id": "ed1a17e1-ab62-45e2-9fd9-306ee2a017f1",
   "metadata": {},
   "outputs": [],
   "source": [
    "from abc import ABC, abstractclassmethod"
   ]
  },
  {
   "cell_type": "code",
   "execution_count": 10,
   "id": "5081c0a6-933c-4557-95f0-0dfb265b754a",
   "metadata": {},
   "outputs": [],
   "source": [
    "class State(ABC):\n",
    "    def __init__(self, order):\n",
    "        self.order = order\n",
    "    \n",
    "    @abstractclassmethod\n",
    "    def receive_payment(self): pass\n",
    "    \n",
    "    @abstractclassmethod\n",
    "    def ship(self): pass"
   ]
  },
  {
   "cell_type": "code",
   "execution_count": 12,
   "id": "9ed33518-dac1-431b-b430-4fcfca516cf0",
   "metadata": {},
   "outputs": [],
   "source": [
    "class UnpaidState(State):\n",
    "    def receive_payment(self):\n",
    "        self.order.change_state(self.paid_state)\n",
    "        print(\"..\")"
   ]
  },
  {
   "cell_type": "code",
   "execution_count": 14,
   "id": "78763bc9-f08d-4b65-8a64-428043affc87",
   "metadata": {},
   "outputs": [],
   "source": [
    "class Order:\n",
    "    def __init__(self):\n",
    "        self.unpaid_state = UnpaidState(order=self)\n",
    "        \n",
    "        self.state = self.unpaid_state\n",
    "    \n",
    "    def receive_payment(self):\n",
    "        return self.state.receive_payment()"
   ]
  },
  {
   "cell_type": "markdown",
   "id": "8d6583a6-7fa1-428b-8157-18b48cc06579",
   "metadata": {},
   "source": [
    "### fastcore"
   ]
  },
  {
   "cell_type": "code",
   "execution_count": 15,
   "id": "60387313-3862-400b-85b2-1a7fdd52eebb",
   "metadata": {},
   "outputs": [],
   "source": [
    "from fastcore.test import *"
   ]
  },
  {
   "cell_type": "code",
   "execution_count": 16,
   "id": "fa31bc31-3267-4df5-8da5-a74f72f4b270",
   "metadata": {},
   "outputs": [
    {
     "ename": "NameError",
     "evalue": "name '_fail' is not defined",
     "output_type": "error",
     "traceback": [
      "\u001b[0;31m---------------------------------------------------------------------------\u001b[0m",
      "\u001b[0;31mNameError\u001b[0m                                 Traceback (most recent call last)",
      "Cell \u001b[0;32mIn[16], line 1\u001b[0m\n\u001b[0;32m----> 1\u001b[0m test_fail(\u001b[43m_fail\u001b[49m, contains\u001b[38;5;241m=\u001b[39m\u001b[38;5;124m\"\u001b[39m\u001b[38;5;124mfoo\u001b[39m\u001b[38;5;124m\"\u001b[39m)\n",
      "\u001b[0;31mNameError\u001b[0m: name '_fail' is not defined"
     ]
    }
   ],
   "source": [
    "test_fail(_fail, contains=\"foo\")"
   ]
  },
  {
   "cell_type": "code",
   "execution_count": null,
   "id": "27f2d2a5-3bec-4af7-8fa1-b405254fa224",
   "metadata": {},
   "outputs": [],
   "source": [
    "f.subs()"
   ]
  },
  {
   "cell_type": "markdown",
   "id": "273842b0-24f9-4cc9-a332-3fe1c93cab7f",
   "metadata": {},
   "source": [
    "### Deep Learning"
   ]
  },
  {
   "cell_type": "code",
   "execution_count": null,
   "id": "ed0a4980-11f4-4db0-91da-97dba187eb62",
   "metadata": {},
   "outputs": [],
   "source": [
    "mean, var_log, encoder, decoded"
   ]
  },
  {
   "cell_type": "code",
   "execution_count": null,
   "id": "59aa4f26-ffb0-4800-b3ee-beb3a8b0098c",
   "metadata": {},
   "outputs": [],
   "source": [
    "current reward + learning_rate(actual reward + gamma * future_reward)"
   ]
  },
  {
   "cell_type": "code",
   "execution_count": null,
   "id": "cca98b7d-0e3b-462b-b5d9-5e2fd9c831f2",
   "metadata": {},
   "outputs": [],
   "source": [
    "action, state, reward, next_state"
   ]
  },
  {
   "cell_type": "code",
   "execution_count": null,
   "id": "bd117bb6-3b0a-4350-9d1b-efce07eced3d",
   "metadata": {},
   "outputs": [],
   "source": [
    "predict, choose highest"
   ]
  },
  {
   "cell_type": "code",
   "execution_count": null,
   "id": "5c938281-15bc-413f-ad90-af6dfab9a4e1",
   "metadata": {},
   "outputs": [],
   "source": [
    "actual + gamma * highest next"
   ]
  },
  {
   "cell_type": "code",
   "execution_count": 17,
   "id": "27bc8394-248b-441e-a295-55708d8962f8",
   "metadata": {},
   "outputs": [],
   "source": [
    "import torch\n",
    "from torch import nn"
   ]
  },
  {
   "cell_type": "code",
   "execution_count": 18,
   "id": "13bfb3cf-9b68-4e6f-a404-ddf841c7327a",
   "metadata": {},
   "outputs": [],
   "source": [
    "from PIL import Image"
   ]
  },
  {
   "cell_type": "code",
   "execution_count": null,
   "id": "40ec32b7-74cf-4012-99d2-4bea5cc4f7df",
   "metadata": {},
   "outputs": [],
   "source": [
    "seven_tensors = torch.stack([tensor(Image.open(o)) for o in seves], dim=0)"
   ]
  },
  {
   "cell_type": "code",
   "execution_count": null,
   "id": "d865f11e-2724-4301-9474-976ed0de0255",
   "metadata": {},
   "outputs": [],
   "source": [
    "residual, conv, batch norm, linear"
   ]
  },
  {
   "cell_type": "code",
   "execution_count": 19,
   "id": "07d4179e-11d4-4989-8676-f83e453db80e",
   "metadata": {},
   "outputs": [],
   "source": [
    "avg_pool = nn.AdaptiveAvgPool2d((3, 4))"
   ]
  },
  {
   "cell_type": "code",
   "execution_count": 20,
   "id": "e6303c14-a64e-4ae0-ac84-b8b51676865e",
   "metadata": {},
   "outputs": [
    {
     "ename": "SyntaxError",
     "evalue": "invalid syntax (4184852513.py, line 1)",
     "output_type": "error",
     "traceback": [
      "\u001b[0;36m  Cell \u001b[0;32mIn[20], line 1\u001b[0;36m\u001b[0m\n\u001b[0;31m    text = (' . ' + o) for o in lines\u001b[0m\n\u001b[0m                       ^\u001b[0m\n\u001b[0;31mSyntaxError\u001b[0m\u001b[0;31m:\u001b[0m invalid syntax\n"
     ]
    }
   ],
   "source": [
    "text = (' . ' + o) for o in lines"
   ]
  },
  {
   "cell_type": "code",
   "execution_count": null,
   "id": "fcee2cc7-a35c-4184-bcbe-b10bcaf64d0f",
   "metadata": {},
   "outputs": [],
   "source": [
    "L(tokens).unique()"
   ]
  },
  {
   "cell_type": "code",
   "execution_count": null,
   "id": "574bcd09-d1d2-49fd-b6ec-df6f88776489",
   "metadata": {},
   "outputs": [],
   "source": [
    "def binary(x):\n",
    "    return 1 / 1 + -x.exp()"
   ]
  },
  {
   "cell_type": "code",
   "execution_count": 22,
   "id": "b338fc0c-0fe4-44df-8d26-ab1d048f520c",
   "metadata": {},
   "outputs": [],
   "source": [
    "from ipywidgets import widget"
   ]
  },
  {
   "cell_type": "code",
   "execution_count": null,
   "id": "ab43c5f3-daf6-4014-a8cc-bdedda0c7a79",
   "metadata": {},
   "outputs": [],
   "source": [
    "Widge"
   ]
  },
  {
   "cell_type": "code",
   "execution_count": null,
   "id": "6faa87e1-27a7-49b4-8b75-d4ac016f8aac",
   "metadata": {},
   "outputs": [],
   "source": [
    "class BatchNorm(nn.Module):\n",
    "    def __init__(self, mom, eps):\n",
    "        super().__init__()\n",
    "        self.eps = eps\n",
    "        self.mom = mom\n",
    "        self.adds = nn.Parameter(torch.zeros(1))\n",
    "        self.mults = nn.Parameter(torch.ones(1))\n",
    "        self.register_buffer('means', torch.zeros(1))\n",
    "        self.register_buffer('vars', torch.ones(1))\n",
    "    \n",
    "    def update_states(self, x):\n",
    "        mean, var = x.mean(dim=-1), x.var(dim=-1)\n",
    "        self.means.lerp_(mean, mom=self.mom)\n",
    "        self.vars.lerp_(mean, mom=self.mom)\n",
    "        \n",
    "        return mean, var\n",
    "    \n",
    "    def forward(self, x):\n",
    "        mean, var = self.update_stats(x)\n",
    "        \n",
    "        # normalized\n",
    "        \n",
    "        # shift"
   ]
  },
  {
   "cell_type": "code",
   "execution_count": 23,
   "id": "0f61f5ed-e6b6-4157-ad2f-1438637978c2",
   "metadata": {},
   "outputs": [],
   "source": [
    "import math"
   ]
  },
  {
   "cell_type": "code",
   "execution_count": 24,
   "id": "5382a269-20fd-44d7-bd8e-ffab75198775",
   "metadata": {},
   "outputs": [],
   "source": [
    "class TextEmbedding(nn.Module):\n",
    "    def __init__(self, vocab_size, padding_idx, d_model):\n",
    "        super().__init__()\n",
    "        self.embed = nn.Embedding(\n",
    "            num_embeddings=vocab_size,\n",
    "            embedding_dim=d_model,\n",
    "            padding_idx=padding_idx\n",
    "        )\n",
    "    \n",
    "    def forward(self, x):\n",
    "        embeddings = self.embed(x)\n",
    "        return embeddings / math.sqrt(self.d_model)"
   ]
  },
  {
   "cell_type": "code",
   "execution_count": null,
   "id": "6bc55d9e-8198-485d-83bd-756c18c684c0",
   "metadata": {},
   "outputs": [],
   "source": [
    "embedding = nn.Embedding(10, 5, padding_idx=5)"
   ]
  },
  {
   "cell_type": "code",
   "execution_count": null,
   "id": "5c7e759f-9c55-440b-9586-9fa30f7deb7f",
   "metadata": {},
   "outputs": [],
   "source": [
    "class MultiHeadAttention(nn.Module):\n",
    "    def __init__(self, attention, d_model, num_heads, dropout):\n",
    "        super().__init__()\n",
    "        \n",
    "        self.d_head = d_model // num_heads\n",
    "        self.d_model = d_model\n",
    "        \n",
    "        self.attention = attention\n",
    "        \n",
    "        self.to_q = nn.Linear(d_model, d_model)\n",
    "        self.to_k = nn.Linear(d_model, d_model)\n",
    "        self.to_v = nn.Linear(d_model, d_model)\n",
    "        \n",
    "        self.dropout = nn.Dropout(dropout)\n",
    "    \n",
    "    def split(self, x):\n",
    "        batch_size, n_words, d_model = x.size()\n",
    "        return x.reshape(-1, -1, self.d_head, d_model // self.d_head)\n",
    "    \n",
    "    def forward(self, pre_q, pre_k, pre_v):\n",
    "        q_batch = self.to_q(pre_q)\n",
    "        k_batch = self.to_k(pre_k)\n",
    "        v_batch = self.to_v(pre_v)\n",
    "        \n",
    "        # split heads\n",
    "        q_batch = self.split(q_batch)\n",
    "        k_batch = self.split(k_batch)\n",
    "        v_batch = self.split(v_batch)\n",
    "        \n",
    "        output_batch, attention_weights_batch = self.attention(q_batch, k_batch, v_batch)\n",
    "        \n",
    "        "
   ]
  },
  {
   "cell_type": "code",
   "execution_count": 25,
   "id": "3ca8354b-bfb7-4c6c-a974-5f42b2c6a4b5",
   "metadata": {},
   "outputs": [],
   "source": [
    "class PositionalEncoding(nn.Module):\n",
    "    def __init__(self, n, d_model):\n",
    "        super().__init__()\n",
    "        self.n = n\n",
    "        self.d_model = d_model\n",
    "    \n",
    "    def forward(self, x):\n",
    "        n_words = len(x)\n",
    "        \n",
    "        embeddings = torch.zeros(n_words, self.d_model)\n",
    "        for p in range(n_words):\n",
    "            for i in range(self.d_model):\n",
    "                denominator = torch.pow(self.n, (2*i) / self.d_model)\n",
    "                embeddings[p][i] = torch.sin(p/denominator) if i % 2 == 0 else torch.cos(p/denominator)\n",
    "        \n",
    "        return embeddings"
   ]
  },
  {
   "cell_type": "code",
   "execution_count": null,
   "id": "9a8df9f5-20a6-4071-b38c-3b5087b96a93",
   "metadata": {},
   "outputs": [],
   "source": []
  }
 ],
 "metadata": {
  "kernelspec": {
   "display_name": "Python 3 (ipykernel)",
   "language": "python",
   "name": "python3"
  },
  "language_info": {
   "codemirror_mode": {
    "name": "ipython",
    "version": 3
   },
   "file_extension": ".py",
   "mimetype": "text/x-python",
   "name": "python",
   "nbconvert_exporter": "python",
   "pygments_lexer": "ipython3",
   "version": "3.8.15"
  }
 },
 "nbformat": 4,
 "nbformat_minor": 5
}
