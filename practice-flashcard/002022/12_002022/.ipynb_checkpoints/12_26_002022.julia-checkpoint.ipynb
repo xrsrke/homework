{
 "cells": [
  {
   "cell_type": "code",
   "execution_count": 1,
   "id": "0d650452-3225-4e81-9c72-2acebcddeed5",
   "metadata": {},
   "outputs": [],
   "source": [
    "using Distributed"
   ]
  },
  {
   "cell_type": "code",
   "execution_count": 2,
   "id": "b5dd5efb-a14a-4592-8618-ed2435cec55c",
   "metadata": {},
   "outputs": [],
   "source": [
    "@everywhere add(x, y) = x + y"
   ]
  },
  {
   "cell_type": "code",
   "execution_count": 5,
   "id": "69588b47-8023-4143-abac-595f770b07f4",
   "metadata": {},
   "outputs": [
    {
     "data": {
      "text/plain": [
       "Future(1, 1, 3, ReentrantLock(nothing, 0x00000000, 0x00, Base.GenericCondition{Base.Threads.SpinLock}(Base.InvasiveLinkedList{Task}(nothing, nothing), Base.Threads.SpinLock(0)), (2, 4541211024, 4522813856)), nothing)"
      ]
     },
     "execution_count": 5,
     "metadata": {},
     "output_type": "execute_result"
    }
   ],
   "source": [
    "task = Distributed.@spawnat 1 add(1, 2)"
   ]
  },
  {
   "cell_type": "code",
   "execution_count": 6,
   "id": "994071fa-e8ee-4bd1-b5cd-b6ca513b9120",
   "metadata": {},
   "outputs": [
    {
     "data": {
      "text/plain": [
       "3"
      ]
     },
     "execution_count": 6,
     "metadata": {},
     "output_type": "execute_result"
    }
   ],
   "source": [
    "result = fetch(task)"
   ]
  },
  {
   "cell_type": "code",
   "execution_count": null,
   "id": "a5baa93d-4c9c-4d5f-8de1-caae7b3f6f81",
   "metadata": {},
   "outputs": [],
   "source": []
  }
 ],
 "metadata": {
  "kernelspec": {
   "display_name": "Julia 1.8.3",
   "language": "julia",
   "name": "julia-1.8"
  },
  "language_info": {
   "file_extension": ".jl",
   "mimetype": "application/julia",
   "name": "julia",
   "version": "1.8.3"
  }
 },
 "nbformat": 4,
 "nbformat_minor": 5
}
