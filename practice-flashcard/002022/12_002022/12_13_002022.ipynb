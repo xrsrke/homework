{
 "cells": [
  {
   "cell_type": "code",
   "execution_count": 1,
   "id": "7beedbd0-e245-4903-895d-6c57b8f13fa6",
   "metadata": {},
   "outputs": [
    {
     "ename": "SyntaxError",
     "evalue": "invalid syntax (462032737.py, line 1)",
     "output_type": "error",
     "traceback": [
      "\u001b[0;36m  Cell \u001b[0;32mIn[1], line 1\u001b[0;36m\u001b[0m\n\u001b[0;31m    log(p^k) x log((1-p)^(1-k))\u001b[0m\n\u001b[0m             ^\u001b[0m\n\u001b[0;31mSyntaxError\u001b[0m\u001b[0;31m:\u001b[0m invalid syntax\n"
     ]
    }
   ],
   "source": [
    "log(p^k) x log((1-p)^(1-k)) = klog(p) + (1-k)log(1-p)"
   ]
  },
  {
   "cell_type": "code",
   "execution_count": null,
   "id": "e9948da3-6528-425d-9e1a-97d610c528b9",
   "metadata": {},
   "outputs": [],
   "source": [
    "had subject past-"
   ]
  },
  {
   "cell_type": "code",
   "execution_count": null,
   "id": "bff58cc4-c99f-4f20-8e6f-b5b63b280c9d",
   "metadata": {},
   "outputs": [],
   "source": [
    "s hadn't past"
   ]
  },
  {
   "cell_type": "code",
   "execution_count": null,
   "id": "b57c193e-5665-4a66-9201-f6b48b3f3df8",
   "metadata": {},
   "outputs": [],
   "source": [
    "refuse evidence that don't support existing beliefs"
   ]
  },
  {
   "cell_type": "code",
   "execution_count": null,
   "id": "71bf721c-5b9a-4aa6-8b39-2f6ba618f23b",
   "metadata": {},
   "outputs": [],
   "source": [
    "have sub been v_ing"
   ]
  },
  {
   "cell_type": "markdown",
   "id": "202523ce-552e-4865-91d7-ee659573f641",
   "metadata": {},
   "source": [
    "### Clean Code"
   ]
  },
  {
   "cell_type": "code",
   "execution_count": 2,
   "id": "96131c58-32a7-47ea-95a5-94437cb69e8a",
   "metadata": {},
   "outputs": [],
   "source": [
    "from enum import Enum"
   ]
  },
  {
   "cell_type": "code",
   "execution_count": 3,
   "id": "d4dd9a18-7238-4c3e-a0ed-f3dfb2388343",
   "metadata": {},
   "outputs": [],
   "source": [
    "class MotherSauce(Enum):\n",
    "    BECHAMEL = \"Bechamel\""
   ]
  },
  {
   "cell_type": "code",
   "execution_count": 4,
   "id": "57c7d8ff-4bef-46b1-8277-226c52c957b9",
   "metadata": {},
   "outputs": [],
   "source": [
    "def create_dauger_sauce(mother_sauce: MotherSauce):\n",
    "    pass"
   ]
  },
  {
   "cell_type": "code",
   "execution_count": 5,
   "id": "07eb292c-6541-4802-9762-2f78b08fa783",
   "metadata": {},
   "outputs": [],
   "source": [
    "from typing import Literal"
   ]
  },
  {
   "cell_type": "code",
   "execution_count": 6,
   "id": "d5b4d137-ef29-4263-9037-f6412ba9354a",
   "metadata": {},
   "outputs": [],
   "source": [
    "class Eyelink:\n",
    "    def __init__(self, level: Literal[\"one\", \"two\", \"three\"]):\n",
    "        self.level = level"
   ]
  },
  {
   "cell_type": "code",
   "execution_count": 8,
   "id": "0646ec55-3b0c-4da4-87ce-9beb96e48880",
   "metadata": {},
   "outputs": [],
   "source": [
    "from collections import Counter"
   ]
  },
  {
   "cell_type": "code",
   "execution_count": null,
   "id": "9a692958-d149-4843-a7bb-577d9c6c3fed",
   "metadata": {},
   "outputs": [],
   "source": [
    "Threads.@spawn "
   ]
  },
  {
   "cell_type": "code",
   "execution_count": 9,
   "id": "2ec4ffad-4a30-4367-9d1b-2a3f85bba279",
   "metadata": {},
   "outputs": [],
   "source": [
    "from abc import ABC, abstractclassmethod"
   ]
  },
  {
   "cell_type": "code",
   "execution_count": 10,
   "id": "84db3f9a-fb07-44be-a8f2-90571befb8fa",
   "metadata": {},
   "outputs": [],
   "source": [
    "class Cashier(ABC):\n",
    "    @abstractclassmethod\n",
    "    def scan_item(self): pass"
   ]
  },
  {
   "cell_type": "code",
   "execution_count": 11,
   "id": "1ddd4e2f-5018-4c4e-8a7d-1e8afcabacfb",
   "metadata": {},
   "outputs": [],
   "source": [
    "class HumanCashier(ABC):\n",
    "    @abstractclassmethod\n",
    "    def start_shift(self): pass\n",
    "\n",
    "    @abstractclassmethod\n",
    "    def take_break(self): pass"
   ]
  },
  {
   "cell_type": "code",
   "execution_count": 12,
   "id": "b5bf98cf-df57-44eb-99df-32b21416004f",
   "metadata": {},
   "outputs": [],
   "source": [
    "class SelfServeMachine(Cashier):\n",
    "    pass"
   ]
  },
  {
   "cell_type": "code",
   "execution_count": 13,
   "id": "14ac9584-8ef2-4146-bb6c-d1854416869e",
   "metadata": {},
   "outputs": [],
   "source": [
    "class HumanCashier(Cashier, HumanCashier):\n",
    "    pass"
   ]
  },
  {
   "cell_type": "code",
   "execution_count": null,
   "id": "c841ad1c-ccb8-4b37-ae17-95a19f927dc6",
   "metadata": {},
   "outputs": [],
   "source": [
    "class State"
   ]
  },
  {
   "cell_type": "code",
   "execution_count": null,
   "id": "65ee51df-cece-4e9a-90dc-14944757c542",
   "metadata": {},
   "outputs": [],
   "source": [
    "class Order:\n",
    "    def __init__(self):\n",
    "        self.unpaid_state = 0\n",
    "        self.paid_state = 1\n",
    "        self.shipped_state = 2\n",
    "        self.state = self.unpaid_state\n",
    "    \n",
    "    def receive_payment(self):\n",
    "        self.state.receive_payment"
   ]
  },
  {
   "cell_type": "code",
   "execution_count": 26,
   "id": "f01e43ee-e2cc-4312-9cf6-515bff0d2a0d",
   "metadata": {},
   "outputs": [],
   "source": [
    "from typing import Set, Any"
   ]
  },
  {
   "cell_type": "code",
   "execution_count": 27,
   "id": "e2d3da2b-d479-43c0-9826-bec1e732cfb6",
   "metadata": {},
   "outputs": [
    {
     "ename": "TypeError",
     "evalue": "'type' object is not subscriptable",
     "output_type": "error",
     "traceback": [
      "\u001b[0;31m---------------------------------------------------------------------------\u001b[0m",
      "\u001b[0;31mTypeError\u001b[0m                                 Traceback (most recent call last)",
      "Cell \u001b[0;32mIn[27], line 1\u001b[0m\n\u001b[0;32m----> 1\u001b[0m x: \u001b[38;5;28;43mset\u001b[39;49m\u001b[43m[\u001b[49m\u001b[43mAny\u001b[49m\u001b[43m]\u001b[49m \u001b[38;5;241m=\u001b[39m {\u001b[38;5;124m\"\u001b[39m\u001b[38;5;124ma\u001b[39m\u001b[38;5;124m\"\u001b[39m, \u001b[38;5;124m\"\u001b[39m\u001b[38;5;124mb\u001b[39m\u001b[38;5;124m\"\u001b[39m}\n",
      "\u001b[0;31mTypeError\u001b[0m: 'type' object is not subscriptable"
     ]
    }
   ],
   "source": [
    "x: set[Any] = {\"a\", \"b\"}"
   ]
  },
  {
   "cell_type": "code",
   "execution_count": 33,
   "id": "ddd52af5-9b56-494f-b4c7-ffb9e51256ee",
   "metadata": {},
   "outputs": [],
   "source": [
    "from math import sin, cos"
   ]
  },
  {
   "cell_type": "code",
   "execution_count": 34,
   "id": "24434c52-13e8-4226-97c9-7fa7eab18424",
   "metadata": {},
   "outputs": [],
   "source": [
    "class PointFactory:\n",
    "    @classmethod\n",
    "    def new_cartensian_point(self, x, y):\n",
    "        return Point(x, y, system=1)\n",
    "    \n",
    "    @classmethod\n",
    "    def new_polar_point(self, a, b):\n",
    "        return Point(a, b, system=2)"
   ]
  },
  {
   "cell_type": "code",
   "execution_count": 35,
   "id": "afa516b1-500a-4032-acac-af1b6ee48330",
   "metadata": {},
   "outputs": [
    {
     "ename": "NameError",
     "evalue": "name 'SARCov2' is not defined",
     "output_type": "error",
     "traceback": [
      "\u001b[0;31m---------------------------------------------------------------------------\u001b[0m",
      "\u001b[0;31mNameError\u001b[0m                                 Traceback (most recent call last)",
      "Cell \u001b[0;32mIn[35], line 1\u001b[0m\n\u001b[0;32m----> 1\u001b[0m \u001b[38;5;28;01mclass\u001b[39;00m \u001b[38;5;21;01mDoubleMutant\u001b[39;00m(\u001b[43mSARCov2\u001b[49m):\n\u001b[1;32m      2\u001b[0m     \u001b[38;5;129m@SARCov2\u001b[39m\u001b[38;5;241m.\u001b[39mvariant\u001b[38;5;241m.\u001b[39msetter\n\u001b[1;32m      3\u001b[0m     \u001b[38;5;28;01mdef\u001b[39;00m \u001b[38;5;21mvariant\u001b[39m(\u001b[38;5;28mself\u001b[39m, value):\n\u001b[1;32m      4\u001b[0m         \u001b[38;5;28;01mpass\u001b[39;00m\n",
      "\u001b[0;31mNameError\u001b[0m: name 'SARCov2' is not defined"
     ]
    }
   ],
   "source": [
    "class DoubleMutant(SARCov2):\n",
    "    @SARCov2.variant.setter\n",
    "    def variant(self, value):\n",
    "        pass"
   ]
  },
  {
   "cell_type": "code",
   "execution_count": 36,
   "id": "6097434a-1187-4058-9d02-35502441bd19",
   "metadata": {},
   "outputs": [],
   "source": [
    "class my_metaclass(type): pass"
   ]
  },
  {
   "cell_type": "code",
   "execution_count": 37,
   "id": "fc17e143-4322-4760-9196-55d49d82b09c",
   "metadata": {},
   "outputs": [],
   "source": [
    "class Vehicle:\n",
    "    @property\n",
    "    def color(self):\n",
    "        return self._color\n",
    "    \n",
    "    @color.setter\n",
    "    def color(self, value):\n",
    "        self._color = value"
   ]
  },
  {
   "cell_type": "markdown",
   "id": "e84b4397-e796-4829-9286-196cf3b352d9",
   "metadata": {},
   "source": [
    "### Testing"
   ]
  },
  {
   "cell_type": "code",
   "execution_count": 31,
   "id": "e0505428-e05e-4bbc-93e9-553dcc911d00",
   "metadata": {},
   "outputs": [],
   "source": [
    "import pytest"
   ]
  },
  {
   "cell_type": "code",
   "execution_count": 32,
   "id": "3d98134c-0549-4822-b6c2-8e6aeada0bdb",
   "metadata": {},
   "outputs": [],
   "source": [
    "import unittest"
   ]
  },
  {
   "cell_type": "code",
   "execution_count": null,
   "id": "eb398454-b66e-4233-9c07-5d8be60d6854",
   "metadata": {},
   "outputs": [],
   "source": [
    "class TestFeature(unittest.TestCase):\n",
    "    @pytest.mark.xfail\n",
    "    def test_eq(self):\n",
    "        self.assertEqual(a, b)"
   ]
  },
  {
   "cell_type": "markdown",
   "id": "7b9581d2-c3d8-4b22-b049-ab173e20a3ec",
   "metadata": {},
   "source": [
    "### Julia"
   ]
  },
  {
   "cell_type": "code",
   "execution_count": null,
   "id": "5fb732a3-2e83-4fc8-bb8a-2252fb48a190",
   "metadata": {},
   "outputs": [],
   "source": [
    "is_string(thing::String) = true"
   ]
  },
  {
   "cell_type": "code",
   "execution_count": null,
   "id": "e908c2c0-b730-40a0-9550-9837710a0b69",
   "metadata": {},
   "outputs": [],
   "source": [
    "is_string(thing) = false"
   ]
  },
  {
   "cell_type": "code",
   "execution_count": null,
   "id": "ebe3242c-4294-4ba9-9cf9-b0cae2329169",
   "metadata": {},
   "outputs": [],
   "source": [
    "function add(x, y = 10)\n",
    "    return x + y\n",
    "end"
   ]
  },
  {
   "cell_type": "markdown",
   "id": "84e52c59-1e64-4553-ba8a-ade928ee436d",
   "metadata": {},
   "source": [
    "### Deep Learning"
   ]
  },
  {
   "cell_type": "code",
   "execution_count": 38,
   "id": "6baa8681-2f25-4e4e-a307-630d050a8d4c",
   "metadata": {},
   "outputs": [],
   "source": [
    "import torch"
   ]
  },
  {
   "cell_type": "code",
   "execution_count": null,
   "id": "8870c2b1-9c5d-401a-ae3e-e42b84e4ad50",
   "metadata": {},
   "outputs": [],
   "source": [
    "def normalize(x):\n",
    "    return (x - x.mean()) / x.std()"
   ]
  },
  {
   "cell_type": "code",
   "execution_count": null,
   "id": "55f713df-7685-417f-ab57-c98c5cfd3bb3",
   "metadata": {},
   "outputs": [],
   "source": [
    "system gene"
   ]
  },
  {
   "cell_type": "code",
   "execution_count": null,
   "id": "cc4c88a6-3c0f-459e-ae2e-d225976c1698",
   "metadata": {},
   "outputs": [],
   "source": [
    "1, 2, 3, 3"
   ]
  },
  {
   "cell_type": "code",
   "execution_count": null,
   "id": "b3aeb77c-ae84-4a9e-9929-f91be66d2ac8",
   "metadata": {},
   "outputs": [],
   "source": [
    "def "
   ]
  },
  {
   "cell_type": "code",
   "execution_count": null,
   "id": "c87a3bfc-7ba4-45b4-84e8-bc7894bca828",
   "metadata": {},
   "outputs": [],
   "source": [
    "batchnorm, linear, residual, conv"
   ]
  },
  {
   "cell_type": "code",
   "execution_count": 39,
   "id": "fb50ca7c-a31f-4cf8-bbb9-ef40d6338c7c",
   "metadata": {},
   "outputs": [],
   "source": [
    "def word2idx(vocabs):\n",
    "    return {word:idx for idx, word in enumerate(vocabs)}"
   ]
  },
  {
   "cell_type": "code",
   "execution_count": null,
   "id": "a5b61e47-7b6b-4d36-a3f7-83d7f3b4f8c8",
   "metadata": {},
   "outputs": [],
   "source": [
    "7, 3, 4, 4"
   ]
  },
  {
   "cell_type": "code",
   "execution_count": null,
   "id": "a2b42cd0-2463-4b6e-afd0-8f8464de90d1",
   "metadata": {},
   "outputs": [],
   "source": [
    "seven_tensors = torch.stack([tensor(Image.open(o))])"
   ]
  },
  {
   "cell_type": "code",
   "execution_count": 40,
   "id": "6d0217cc-ce5e-4756-a987-4f6b575ef7d8",
   "metadata": {},
   "outputs": [],
   "source": [
    "from torch import nn"
   ]
  },
  {
   "cell_type": "code",
   "execution_count": 43,
   "id": "02de5530-9920-495f-8524-21d011e88fdd",
   "metadata": {},
   "outputs": [],
   "source": [
    "class TextEmbedding(nn.Module):\n",
    "    def __init__(self, vocab_size, dim, padding_idx):\n",
    "        self.padding_idx = padding_idx\n",
    "        self.embed = nn.Embedding(vocab_size, dim, padding_idx)\n",
    "    \n",
    "    def forwrad(self, x):\n",
    "        embeddings = self.embed(x)"
   ]
  },
  {
   "cell_type": "code",
   "execution_count": null,
   "id": "0a195cfb-e15e-4ec4-a200-ceea9fde7de2",
   "metadata": {},
   "outputs": [],
   "source": [
    "embedding = nn.Embedding(10, 5, padding_idx=5)"
   ]
  },
  {
   "cell_type": "markdown",
   "id": "8deadd98-b4f1-43cf-9259-64a81ec36bdf",
   "metadata": {},
   "source": [
    "positional encoding, multi-head attention, layer norm, masked multi head attention, linear, residual"
   ]
  },
  {
   "cell_type": "code",
   "execution_count": 45,
   "id": "4d0e133c-fee9-455d-b69f-1a9bd9672018",
   "metadata": {},
   "outputs": [],
   "source": [
    "class PositionalEncoding(nn.Module):\n",
    "    def __init__(self, n, d_head):\n",
    "        self.n = n\n",
    "        self.d_head = d_head\n",
    "    \n",
    "    def forward(self, x):\n",
    "        n_words = len(x)\n",
    "        embeddings = torch.zeros((x, self.d_head))\n",
    "        \n",
    "        for p in range(len(x)):\n",
    "            for i in range(self.d_head):\n",
    "                denominator = torch.pow(self.n, (2 * i) / self.d_head)\n",
    "                embeddings[p][i] = torch.sin(p/denominator) if i % 2 == 0 else torch.cos(p/denominator)\n",
    "        \n",
    "        return embeddings"
   ]
  },
  {
   "cell_type": "code",
   "execution_count": 49,
   "id": "0b3c2b50-0f2e-4170-8785-28d40722ff76",
   "metadata": {},
   "outputs": [],
   "source": [
    "class LayerNorm(nn.Module):\n",
    "    def __init__(self, features, eps):\n",
    "        super().__init__()\n",
    "        self.eps = eps\n",
    "        self.adds = nn.Parameter(torch.zeros(features))\n",
    "        self.mults = nn.Parameter(torch.ones(features))\n",
    "    \n",
    "    def forward(self, x):\n",
    "        mean, var = x.mean(-1, keepdim=True), x.var(-1, keepdim=True)\n",
    "        normalized = (x - mean()) / (var + self.eps).sqrt()\n",
    "        \n",
    "        return self.mults * normalized + self.adds"
   ]
  },
  {
   "cell_type": "code",
   "execution_count": 50,
   "id": "0f5c7c97-323e-47e2-b377-8b5197540efb",
   "metadata": {},
   "outputs": [],
   "source": [
    "def frobenius_norm(x):\n",
    "    return (x*x).sum().sqrt()"
   ]
  },
  {
   "cell_type": "code",
   "execution_count": null,
   "id": "1a176128-76fc-4eac-a56b-d6c8b18faf3d",
   "metadata": {},
   "outputs": [],
   "source": [
    "seven_tensors = torch.stack([Image.open(tensor(o)) for o in sevens], dim=0)"
   ]
  },
  {
   "cell_type": "code",
   "execution_count": null,
   "id": "ccbd7776-5700-49b4-a2e8-993c0ca09cf7",
   "metadata": {},
   "outputs": [],
   "source": [
    "env.observation_space"
   ]
  },
  {
   "cell_type": "code",
   "execution_count": null,
   "id": "7deea62a-9e15-4bb8-ba48-b8114eefbf4d",
   "metadata": {},
   "outputs": [],
   "source": [
    "env.action_space"
   ]
  },
  {
   "cell_type": "code",
   "execution_count": null,
   "id": "d872bf23-8f03-4b08-80c2-36a2283779eb",
   "metadata": {},
   "outputs": [],
   "source": [
    "gym.make(\"Mars\")"
   ]
  },
  {
   "cell_type": "code",
   "execution_count": null,
   "id": "fe5350b2-7fb2-4334-9997-dbab0287d79c",
   "metadata": {},
   "outputs": [],
   "source": [
    "env.action_space.n"
   ]
  },
  {
   "cell_type": "code",
   "execution_count": null,
   "id": "a37645f2-60c6-4d39-ad0a-94c7bea9d2f0",
   "metadata": {},
   "outputs": [],
   "source": []
  }
 ],
 "metadata": {
  "kernelspec": {
   "display_name": "Python 3 (ipykernel)",
   "language": "python",
   "name": "python3"
  },
  "language_info": {
   "codemirror_mode": {
    "name": "ipython",
    "version": 3
   },
   "file_extension": ".py",
   "mimetype": "text/x-python",
   "name": "python",
   "nbconvert_exporter": "python",
   "pygments_lexer": "ipython3",
   "version": "3.8.15"
  }
 },
 "nbformat": 4,
 "nbformat_minor": 5
}
