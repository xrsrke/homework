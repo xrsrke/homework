{
 "cells": [
  {
   "cell_type": "code",
   "execution_count": null,
   "id": "d5dba14d-512e-45d0-aae0-438148aca872",
   "metadata": {},
   "outputs": [],
   "source": [
    "xs[2:end]"
   ]
  },
  {
   "cell_type": "code",
   "execution_count": null,
   "id": "507623a6-d291-4723-bdd6-b30ba31102cc",
   "metadata": {},
   "outputs": [],
   "source": [
    "path.name"
   ]
  },
  {
   "cell_type": "code",
   "execution_count": 1,
   "id": "6a65a46e-f533-43a5-a244-48bd3dfd2852",
   "metadata": {},
   "outputs": [
    {
     "data": {
      "text/plain": [
       "3×4 Matrix{Float64}:\n",
       " -0.122151  -0.158714   0.379511  -0.242718\n",
       " -1.03453   -1.20874   -0.594073  -2.12911\n",
       "  0.434482  -1.69441    0.51184    1.1964"
      ]
     },
     "execution_count": 1,
     "metadata": {},
     "output_type": "execute_result"
    }
   ],
   "source": [
    "randn(3, 4)"
   ]
  },
  {
   "cell_type": "code",
   "execution_count": 2,
   "id": "3f3a429d-d9a1-4d57-8cd9-957df050dc43",
   "metadata": {},
   "outputs": [
    {
     "data": {
      "text/plain": [
       ":brain"
      ]
     },
     "execution_count": 2,
     "metadata": {},
     "output_type": "execute_result"
    }
   ],
   "source": [
    "x = :brain"
   ]
  },
  {
   "cell_type": "code",
   "execution_count": 4,
   "id": "fb1c7be4-44c1-4fc4-8dcf-c089a5501499",
   "metadata": {},
   "outputs": [
    {
     "data": {
      "text/plain": [
       "Inf"
      ]
     },
     "execution_count": 4,
     "metadata": {},
     "output_type": "execute_result"
    }
   ],
   "source": [
    "try\n",
    "    1/0\n",
    "catch e\n",
    "    println(e)\n",
    "end"
   ]
  },
  {
   "cell_type": "code",
   "execution_count": 5,
   "id": "6eea7a00-32b0-4eaa-a5a3-83d2c724b8e2",
   "metadata": {},
   "outputs": [],
   "source": [
    "using Distributed"
   ]
  },
  {
   "cell_type": "code",
   "execution_count": 7,
   "id": "c7e62398-01d1-4617-91be-8fccbef251b7",
   "metadata": {},
   "outputs": [],
   "source": [
    "@everywhere calculate_sum(x, y) = x + y"
   ]
  },
  {
   "cell_type": "code",
   "execution_count": 8,
   "id": "0eb12669-e37c-4b65-973c-229da5fd597b",
   "metadata": {},
   "outputs": [
    {
     "data": {
      "text/plain": [
       "Future(1, 1, 1, ReentrantLock(nothing, 0x00000000, 0x00, Base.GenericCondition{Base.Threads.SpinLock}(Base.InvasiveLinkedList{Task}(nothing, nothing), Base.Threads.SpinLock(0)), (0, 4764729344, 4767792784)), nothing)"
      ]
     },
     "execution_count": 8,
     "metadata": {},
     "output_type": "execute_result"
    }
   ],
   "source": [
    "task = Distributed.@spawnat 1 calculate_sum(1, 2)"
   ]
  },
  {
   "cell_type": "code",
   "execution_count": 9,
   "id": "3daedaf2-b6eb-447b-b391-9533a2353808",
   "metadata": {},
   "outputs": [
    {
     "data": {
      "text/plain": [
       "3"
      ]
     },
     "execution_count": 9,
     "metadata": {},
     "output_type": "execute_result"
    }
   ],
   "source": [
    "result = fetch(task)"
   ]
  },
  {
   "cell_type": "code",
   "execution_count": 10,
   "id": "ea1f88ad-7c73-4b25-8350-431764f03563",
   "metadata": {},
   "outputs": [],
   "source": [
    "using Distributed"
   ]
  },
  {
   "cell_type": "code",
   "execution_count": null,
   "id": "b884b73a-fe85-4d2c-b11a-0ac36422fb15",
   "metadata": {},
   "outputs": [],
   "source": [
    "!(var_b < 2)"
   ]
  },
  {
   "cell_type": "code",
   "execution_count": 12,
   "id": "02ad803a-8148-44c0-830b-2f41cbcc9b6d",
   "metadata": {},
   "outputs": [
    {
     "data": {
      "text/plain": [
       "ReentrantLock(nothing, 0x00000000, 0x00, Base.GenericCondition{Base.Threads.SpinLock}(Base.InvasiveLinkedList{Task}(nothing, nothing), Base.Threads.SpinLock(0)), (0, 4389994496, 0))"
      ]
     },
     "execution_count": 12,
     "metadata": {},
     "output_type": "execute_result"
    }
   ],
   "source": [
    "xslock = Threads.ReentrantLock()"
   ]
  },
  {
   "cell_type": "code",
   "execution_count": null,
   "id": "0a5b55ac-a0aa-48a3-9c68-d7148b557188",
   "metadata": {},
   "outputs": [],
   "source": [
    "Threads.@threads for i in numbers\n",
    "    lock(xslock) do\n",
    "        push!(xs, i)\n",
    "    end\n",
    "end"
   ]
  },
  {
   "cell_type": "code",
   "execution_count": null,
   "id": "f13ef51c-b221-4e20-9a6e-6aa1c0aebb2e",
   "metadata": {},
   "outputs": [],
   "source": [
    "task = Threads.@spawn heavy_shit()"
   ]
  },
  {
   "cell_type": "code",
   "execution_count": null,
   "id": "60b5755d-504f-4e9c-ac79-aaa867c93418",
   "metadata": {},
   "outputs": [],
   "source": []
  }
 ],
 "metadata": {
  "kernelspec": {
   "display_name": "Julia 1.8.3",
   "language": "julia",
   "name": "julia-1.8"
  },
  "language_info": {
   "file_extension": ".jl",
   "mimetype": "application/julia",
   "name": "julia",
   "version": "1.8.3"
  }
 },
 "nbformat": 4,
 "nbformat_minor": 5
}
