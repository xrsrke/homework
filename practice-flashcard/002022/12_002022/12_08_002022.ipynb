{
 "cells": [
  {
   "cell_type": "markdown",
   "id": "437495ea-0876-41e6-99f4-a5ee325b9df7",
   "metadata": {},
   "source": [
    "### fastcore"
   ]
  },
  {
   "cell_type": "code",
   "execution_count": null,
   "id": "b75c1ac3-88f5-4ea0-95e4-bf420487db29",
   "metadata": {},
   "outputs": [],
   "source": [
    "from fastcore.meta import *"
   ]
  },
  {
   "cell_type": "code",
   "execution_count": null,
   "id": "2d7a302a-1fb1-463c-91ea-4fce7a06219d",
   "metadata": {},
   "outputs": [],
   "source": [
    "@funcs_kwargs\n",
    "class DataLoader:\n",
    "    _methods = ['before_batch', 'after_batch']\n",
    "    # def __init__(self, **kwargs):\n",
    "    #     pass"
   ]
  },
  {
   "cell_type": "markdown",
   "id": "225aa770-a6ac-4b2e-ba36-a139f3d84a80",
   "metadata": {},
   "source": [
    "### Python"
   ]
  },
  {
   "cell_type": "code",
   "execution_count": null,
   "id": "aad35804-2e8f-4064-9869-0f8b499bf591",
   "metadata": {},
   "outputs": [],
   "source": [
    "from enum import Enum, auto"
   ]
  },
  {
   "cell_type": "code",
   "execution_count": null,
   "id": "e6b77951-d2e9-4585-9ea6-a9591fdc653e",
   "metadata": {},
   "outputs": [],
   "source": [
    "class LiquidMeasure(Enum):\n",
    "    CUP = 8"
   ]
  },
  {
   "cell_type": "code",
   "execution_count": null,
   "id": "4acd12da-839b-49de-8d33-274682ee8c44",
   "metadata": {},
   "outputs": [],
   "source": [
    "class ImperialMeasure(Enum):\n",
    "    CUP = auto()\n",
    "    TEASPOON = auto()"
   ]
  },
  {
   "cell_type": "code",
   "execution_count": null,
   "id": "4f0df5c4-07c6-4b70-bdc3-9ee5faeb61f4",
   "metadata": {},
   "outputs": [],
   "source": [
    "from dataclasses import dataclass"
   ]
  },
  {
   "cell_type": "code",
   "execution_count": null,
   "id": "52576e9d-2bb4-45f2-b220-9de5abc4ea85",
   "metadata": {},
   "outputs": [],
   "source": [
    "@dataclass\n",
    "class Ingredient:\n",
    "    name: str\n",
    "    amount: float\n",
    "    unit: ImperialMeasure"
   ]
  },
  {
   "cell_type": "code",
   "execution_count": null,
   "id": "95891a8e-eb22-4fbd-92cd-a8b09f73073a",
   "metadata": {},
   "outputs": [],
   "source": [
    "@dataclass\n",
    "class Recipe:\n",
    "    meats: list[Ingredient]\n",
    "    starches: list[Ingredient]"
   ]
  },
  {
   "cell_type": "markdown",
   "id": "f5642563-ccc8-4376-9429-aa6125c9268f",
   "metadata": {},
   "source": [
    "### Deep Learning"
   ]
  },
  {
   "cell_type": "code",
   "execution_count": null,
   "id": "58d04716-6886-4b60-9546-3d72aa3cbbec",
   "metadata": {},
   "outputs": [],
   "source": [
    "import torch\n",
    "from torch import nn\n",
    "import torch.nn.functional as F"
   ]
  },
  {
   "cell_type": "code",
   "execution_count": null,
   "id": "e758e055-698f-4165-afa4-9ec3c5ca08bb",
   "metadata": {},
   "outputs": [],
   "source": [
    "cell state, hidden state, input"
   ]
  },
  {
   "cell_type": "code",
   "execution_count": null,
   "id": "a5a679dc-2b7b-4022-ab20-638aafdeaee5",
   "metadata": {},
   "outputs": [],
   "source": [
    "env.action_space.n"
   ]
  },
  {
   "cell_type": "code",
   "execution_count": null,
   "id": "e0f63e21-bbe9-49b6-8be9-5be8c44cc46f",
   "metadata": {},
   "outputs": [],
   "source": [
    "environment, reward, action, policy, state, "
   ]
  },
  {
   "cell_type": "code",
   "execution_count": null,
   "id": "5825f68c-21da-44bd-8718-f2c01aea7ac3",
   "metadata": {},
   "outputs": [],
   "source": [
    "for i in range(10):\n",
    "    action = env.action_space.sample()\n",
    "    env.step(action)"
   ]
  },
  {
   "cell_type": "code",
   "execution_count": null,
   "id": "0fc95594-c474-485f-9810-669270dc61c5",
   "metadata": {},
   "outputs": [],
   "source": [
    "current_state = torch.tensor([0, 0, 1])"
   ]
  },
  {
   "cell_type": "code",
   "execution_count": null,
   "id": "e1da2b39-3c1d-438f-ae96-c1de3f184b3e",
   "metadata": {},
   "outputs": [],
   "source": [
    "current_state @ transition_matrix"
   ]
  },
  {
   "cell_type": "code",
   "execution_count": null,
   "id": "8ae14cc1-8a9d-488e-b41d-4e0b8c82a8a1",
   "metadata": {},
   "outputs": [],
   "source": [
    "def calculate_return(rewards, discount_factor):\n",
    "    total_return = 0.\n",
    "    \n",
    "    for i, reward in enumerate(rewards):\n",
    "        total_return += reward * (discount_factor ** i)\n",
    "    \n",
    "    return total_return"
   ]
  },
  {
   "cell_type": "code",
   "execution_count": null,
   "id": "fdedfb01-12e1-4f38-92a8-437d3265aacb",
   "metadata": {},
   "outputs": [],
   "source": [
    "obser, reward, done info"
   ]
  },
  {
   "cell_type": "code",
   "execution_count": null,
   "id": "c45d22eb-656e-4201-b878-8dbd1525924b",
   "metadata": {},
   "outputs": [],
   "source": [
    "class BottleneckResidualBlock(nn.ModuleList):\n",
    "    def __init__(\n",
    "        self, in_channels, bottleneck_channels, out_channels,\n",
    "        stride\n",
    "    ):\n",
    "        super().__init__()\n",
    "        self.conv1 = nn.Conv2d(\n",
    "            in_channels, bottleneck_channels,\n",
    "            kernel_size=1, stride=1\n",
    "        )\n",
    "        self.bn1 = nn.BatchNorm2d(bottleneck_channels)\n",
    "        self.act1 = nn.ReLU()\n",
    "        self.conv2 = nn.Conv2d(\n",
    "            bottleneck_channels, bottleneck_channels,\n",
    "            kernel_size=3, stride=stride, padding=1\n",
    "        )\n",
    "        self.bn2 = nn.BatchNorm2d(bottleneck_channels)\n",
    "        self.act2 = nn.ReLU()\n",
    "        self.conv3 = nn.Conv2d(\n",
    "            bottleneck_channels, out_channels,\n",
    "            kernel_size=1, stride=1\n",
    "        )\n",
    "        self.bn3 = nn.BatchNorm2d(out_channels)\n",
    "        self.act3 = nn.ReLU()\n",
    "        \n",
    "        if stride != 1 or in_channels != out_channels:\n",
    "            self.downsample = ShortcutProjection(\n",
    "                in_channels, out_channels,\n",
    "                stride=stride\n",
    "            )\n",
    "        else:\n",
    "            self.downsample = nn.Identity()\n",
    "    \n",
    "    def forward(self, x):\n",
    "        residual = self.downsample(x)\n",
    "        \n",
    "        out = self.act1(self.bn1(self.conv1(x)))\n",
    "        out = self.act2(self.bn2(self.conv2(out)))\n",
    "        out = self.bn3(self.conv3(out))\n",
    "        \n",
    "        out += residual\n",
    "        \n",
    "        return self.act3(out)"
   ]
  },
  {
   "cell_type": "code",
   "execution_count": null,
   "id": "ef22c885-fda0-4b64-9289-d0772681bfc9",
   "metadata": {},
   "outputs": [],
   "source": [
    "def create_mask(size):\n",
    "    return torch.ones((1, size, size)).triu(1)"
   ]
  },
  {
   "cell_type": "code",
   "execution_count": null,
   "id": "b3619232-28a6-45da-a6a8-88224cf9d2f7",
   "metadata": {},
   "outputs": [],
   "source": [
    "mask = create_mask(4)"
   ]
  },
  {
   "cell_type": "code",
   "execution_count": null,
   "id": "21fffd2c-6b7f-468d-b5d2-5a8ece96ad67",
   "metadata": {},
   "outputs": [],
   "source": [
    "encodings = torch.arange(16).reshape(4, 4)"
   ]
  },
  {
   "cell_type": "code",
   "execution_count": null,
   "id": "69d6589b-91b7-46a9-991d-485fd75d3e97",
   "metadata": {},
   "outputs": [],
   "source": [
    "masked_encoding = encodings.masked_fill(mask == 1, -1)"
   ]
  },
  {
   "cell_type": "code",
   "execution_count": null,
   "id": "0b15b6e8-10f9-4d76-ace4-e90433f19f48",
   "metadata": {},
   "outputs": [
    {
     "data": {
      "text/plain": [
       "tensor([[[ 0, -1, -1, -1],\n",
       "         [ 4,  5, -1, -1],\n",
       "         [ 8,  9, 10, -1],\n",
       "         [12, 13, 14, 15]]])"
      ]
     },
     "execution_count": null,
     "metadata": {},
     "output_type": "execute_result"
    }
   ],
   "source": [
    "masked_encoding"
   ]
  },
  {
   "cell_type": "code",
   "execution_count": null,
   "id": "1e0dc207-425e-459c-8dc8-20c011bbe917",
   "metadata": {},
   "outputs": [],
   "source": [
    "def covariance(x, y):\n",
    "    prod = (x-x.mean())*(y-y.mean())\n",
    "    return prod.mean()"
   ]
  },
  {
   "cell_type": "code",
   "execution_count": null,
   "id": "98424abd-50c0-488f-9008-ed9c4e2f0b83",
   "metadata": {},
   "outputs": [],
   "source": [
    "def mse(pred, targ):\n",
    "    return (pred.sequeeze() - targ).pow(2).mean()"
   ]
  },
  {
   "cell_type": "code",
   "execution_count": null,
   "id": "b7039bf4-93bd-46fd-b216-7acbb278caeb",
   "metadata": {},
   "outputs": [],
   "source": [
    "mena, log_var, encoded, decoded"
   ]
  },
  {
   "cell_type": "code",
   "execution_count": null,
   "id": "6e502944-4511-4113-8a8b-e65a675409d3",
   "metadata": {},
   "outputs": [],
   "source": [
    "F.pad(x, (1, 1, 1, 1))"
   ]
  },
  {
   "cell_type": "code",
   "execution_count": null,
   "id": "5f95a9a5-8c1c-4061-909b-4ed2d992f717",
   "metadata": {},
   "outputs": [],
   "source": [
    "embedding = nn.Embedding(5, 5, 5.)"
   ]
  },
  {
   "cell_type": "code",
   "execution_count": null,
   "id": "59aba9e9-7791-493c-8532-8dfbcc1d460d",
   "metadata": {},
   "outputs": [],
   "source": []
  }
 ],
 "metadata": {
  "kernelspec": {
   "display_name": "Python 3 (ipykernel)",
   "language": "python",
   "name": "python3"
  }
 },
 "nbformat": 4,
 "nbformat_minor": 5
}
