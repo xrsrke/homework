{
 "cells": [
  {
   "cell_type": "markdown",
   "id": "119a4e6a-45ab-4d32-9c18-21eb32b2bc46",
   "metadata": {},
   "source": [
    "### Python"
   ]
  },
  {
   "cell_type": "code",
   "execution_count": 1,
   "id": "a277b1fb-1588-4590-9a6b-b2093cc11ee5",
   "metadata": {},
   "outputs": [],
   "source": [
    "from fastcore.meta import *"
   ]
  },
  {
   "cell_type": "code",
   "execution_count": null,
   "id": "ce587f09-4d46-43b7-889d-c84ea4bb7472",
   "metadata": {},
   "outputs": [],
   "source": [
    "@use_kwargs_dict"
   ]
  },
  {
   "cell_type": "code",
   "execution_count": 2,
   "id": "8b64dae3-6422-4c73-8d17-ab7c7c7eff98",
   "metadata": {},
   "outputs": [],
   "source": [
    "from enum import Enum"
   ]
  },
  {
   "cell_type": "code",
   "execution_count": 3,
   "id": "cb410663-0310-44f5-92d2-e3ee8dbf625b",
   "metadata": {},
   "outputs": [],
   "source": [
    "class Colors(Enum):\n",
    "    RED = \"Red\"\n",
    "    ORANGE = \"Orange\"\n",
    "    BLUE = \"Blue\"\n",
    "    \n",
    "    @property\n",
    "    def is_hot(self):\n",
    "        return self in [Colors.RED, Colors.ORANGE]"
   ]
  },
  {
   "cell_type": "code",
   "execution_count": null,
   "id": "6a86deca-d025-457e-b6f8-0455e2a43557",
   "metadata": {},
   "outputs": [],
   "source": [
    "class PersonBuilder:\n",
    "    pass"
   ]
  },
  {
   "cell_type": "code",
   "execution_count": null,
   "id": "e275a398-76e9-4f7b-a3e1-37e5a50cc549",
   "metadata": {},
   "outputs": [],
   "source": [
    "have/has past-participle"
   ]
  },
  {
   "cell_type": "markdown",
   "id": "fbb5906c-ee01-4e09-892d-3c3727666c85",
   "metadata": {},
   "source": [
    "### Deep Learning"
   ]
  },
  {
   "cell_type": "code",
   "execution_count": 4,
   "id": "7738ecad-018b-4a22-ae3b-b437da6223ba",
   "metadata": {},
   "outputs": [],
   "source": [
    "import torch\n",
    "from torch import nn\n",
    "import torch.nn.functional as F"
   ]
  },
  {
   "cell_type": "code",
   "execution_count": 5,
   "id": "2b58d8e0-308e-49bc-894d-d72b6b28b3c6",
   "metadata": {},
   "outputs": [],
   "source": [
    "def frobenius_norm(x):\n",
    "    return x.pow(2).sum().sqrt()"
   ]
  },
  {
   "cell_type": "code",
   "execution_count": 6,
   "id": "21bbfac8-3796-432f-897f-ad7842850241",
   "metadata": {},
   "outputs": [],
   "source": [
    "def calculate_return(rewards, discount_factor):\n",
    "    total_return = 0\n",
    "    for k, reward in enumerate(rewards):\n",
    "        total_return += (discount_factor**k) * reward\n",
    "    \n",
    "    return total_return"
   ]
  },
  {
   "cell_type": "code",
   "execution_count": null,
   "id": "f3ef820e-dcee-4e00-886f-da37a3aa546d",
   "metadata": {},
   "outputs": [],
   "source": [
    "algorithm, metric, sampling"
   ]
  },
  {
   "cell_type": "code",
   "execution_count": 7,
   "id": "ebecf167-8541-499f-a176-3141e436bf6c",
   "metadata": {},
   "outputs": [],
   "source": [
    "def clip(ratio, episolon):\n",
    "    return torch.clamp(ratio, 1-episolon, 1+episolon)"
   ]
  },
  {
   "cell_type": "code",
   "execution_count": null,
   "id": "097ee869-233d-46a4-9068-e9faf6312431",
   "metadata": {},
   "outputs": [],
   "source": [
    "for episode in range(n_episodes):\n",
    "    state = env.reset()\n",
    "    \n",
    "    while True:\n",
    "        action = actor_network(state)\n",
    "        new_state, reward, done = env.step(action)\n",
    "        \n",
    "        replay_buffer.append(state, action, new_state, reward, done)\n",
    "    \n",
    "    actor_network.update(replay_buffer)\n",
    "    critic_network.update(replay_buffer)\n",
    "    value_network.update()\n",
    "    "
   ]
  },
  {
   "cell_type": "code",
   "execution_count": null,
   "id": "09bd5be5-f4e6-4ca9-8f46-a567bdffd49c",
   "metadata": {},
   "outputs": [],
   "source": [
    "for param in model.parameters():\n",
    "    param.requires_grad = False"
   ]
  },
  {
   "cell_type": "code",
   "execution_count": null,
   "id": "cc1e430b-ba93-4764-b631-91499bbb8e4f",
   "metadata": {},
   "outputs": [],
   "source": [
    "model.classifier[0].requires_grad = True\n",
    "model.classifier[3].requires_grad = True"
   ]
  },
  {
   "cell_type": "code",
   "execution_count": null,
   "id": "1197882f-87cb-4371-ade7-a8adfef7103d",
   "metadata": {},
   "outputs": [],
   "source": [
    "model.classifer[6] = nn.Linear(4096, 10)"
   ]
  },
  {
   "cell_type": "code",
   "execution_count": null,
   "id": "fe7f2768-c0f2-4286-9312-1024ac7c4900",
   "metadata": {},
   "outputs": [],
   "source": [
    "clip, autoencode,"
   ]
  },
  {
   "cell_type": "code",
   "execution_count": null,
   "id": "e2c97558-0c27-4ec4-9b03-540c41c69bb7",
   "metadata": {},
   "outputs": [],
   "source": [
    "discount_returns = discounted_return_at_each_timestep(rewards)"
   ]
  },
  {
   "cell_type": "code",
   "execution_count": null,
   "id": "84d59d04-8241-4450-956c-d59579891adc",
   "metadata": {},
   "outputs": [],
   "source": [
    "total_loss = 0"
   ]
  },
  {
   "cell_type": "code",
   "execution_count": null,
   "id": "ebd0f2bf-5f23-472e-9fe5-48843554d6d5",
   "metadata": {},
   "outputs": [],
   "source": [
    "for discount_return, prob in zip(discounted_returns, selected_action_probs):\n",
    "    total_loss += discount_return*-prob.log()"
   ]
  },
  {
   "cell_type": "code",
   "execution_count": null,
   "id": "61827eff-1f03-47d0-ab34-bd712f465224",
   "metadata": {},
   "outputs": [],
   "source": [
    "def zero_weight(layer):\n",
    "    layer.weight.data.zero_()"
   ]
  },
  {
   "cell_type": "code",
   "execution_count": null,
   "id": "7f01ca5b-94f9-4975-af6d-6f1a08c8710a",
   "metadata": {},
   "outputs": [],
   "source": [
    "q_values = q_network(states, actions)"
   ]
  },
  {
   "cell_type": "code",
   "execution_count": null,
   "id": "4d7d6631-12e7-4ecf-9eb9-2ed94b71aff3",
   "metadata": {},
   "outputs": [],
   "source": [
    "next_state_v_value = v_network(states + 1)"
   ]
  },
  {
   "cell_type": "code",
   "execution_count": null,
   "id": "fcc11b77-0e80-4e61-b8cd-81a0aecc7943",
   "metadata": {},
   "outputs": [],
   "source": [
    "q_target = get_reward(states, actions) + gamma * next_state_v_value.mean()"
   ]
  },
  {
   "cell_type": "code",
   "execution_count": null,
   "id": "d701ac2e-28eb-4421-a408-917de16cc443",
   "metadata": {},
   "outputs": [],
   "source": [
    "loss = (q_values - q_target).pow(2) * 0.5"
   ]
  }
 ],
 "metadata": {
  "kernelspec": {
   "display_name": "Python 3 (ipykernel)",
   "language": "python",
   "name": "python3"
  },
  "language_info": {
   "codemirror_mode": {
    "name": "ipython",
    "version": 3
   },
   "file_extension": ".py",
   "mimetype": "text/x-python",
   "name": "python",
   "nbconvert_exporter": "python",
   "pygments_lexer": "ipython3",
   "version": "3.8.15"
  }
 },
 "nbformat": 4,
 "nbformat_minor": 5
}
