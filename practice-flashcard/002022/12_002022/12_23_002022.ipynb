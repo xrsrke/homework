{
 "cells": [
  {
   "cell_type": "markdown",
   "id": "769f4e84-b598-4fb6-88b4-0114fcb6ca23",
   "metadata": {},
   "source": [
    "### Python"
   ]
  },
  {
   "cell_type": "code",
   "execution_count": null,
   "id": "a64dea65-bb88-4247-9ea3-d44662e1c919",
   "metadata": {},
   "outputs": [],
   "source": [
    "u.norm()"
   ]
  },
  {
   "cell_type": "code",
   "execution_count": null,
   "id": "8bfc9cfd-0827-4436-807d-30ce4a26eb33",
   "metadata": {},
   "outputs": [],
   "source": [
    "current state, status, next state, action"
   ]
  },
  {
   "cell_type": "code",
   "execution_count": 2,
   "id": "6d1a690d-40b1-4fb4-99ce-47d4b816743e",
   "metadata": {},
   "outputs": [],
   "source": [
    "from typing import Dict"
   ]
  },
  {
   "cell_type": "code",
   "execution_count": 3,
   "id": "1e7793a5-ee70-4536-8919-0fb903719ad4",
   "metadata": {},
   "outputs": [],
   "source": [
    "x: Dict[str, int] = {\"field\": 2.0}"
   ]
  },
  {
   "cell_type": "code",
   "execution_count": 7,
   "id": "38ed7d84-573a-4162-9143-f3488e7990b3",
   "metadata": {},
   "outputs": [],
   "source": [
    "from functools import reduce"
   ]
  },
  {
   "cell_type": "code",
   "execution_count": 8,
   "id": "b8e9838c-adc4-4f72-a411-8b99aef0b908",
   "metadata": {},
   "outputs": [],
   "source": [
    "numbers = [1, 2, 3, 4]"
   ]
  },
  {
   "cell_type": "code",
   "execution_count": 9,
   "id": "8d498cd5-0a4a-44da-818c-70a1b388d91e",
   "metadata": {},
   "outputs": [
    {
     "ename": "TypeError",
     "evalue": "'int' object is not iterable",
     "output_type": "error",
     "traceback": [
      "\u001b[0;31m---------------------------------------------------------------------------\u001b[0m",
      "\u001b[0;31mTypeError\u001b[0m                                 Traceback (most recent call last)",
      "Cell \u001b[0;32mIn[9], line 1\u001b[0m\n\u001b[0;32m----> 1\u001b[0m \u001b[43mreduce\u001b[49m\u001b[43m(\u001b[49m\u001b[38;5;28;43msum\u001b[39;49m\u001b[43m,\u001b[49m\u001b[43m \u001b[49m\u001b[43mnumbers\u001b[49m\u001b[43m)\u001b[49m\n",
      "\u001b[0;31mTypeError\u001b[0m: 'int' object is not iterable"
     ]
    }
   ],
   "source": [
    "reduce(sum, numbers)"
   ]
  },
  {
   "cell_type": "code",
   "execution_count": 10,
   "id": "ba2475fd-668f-419b-a8a5-cc919f98f241",
   "metadata": {},
   "outputs": [],
   "source": [
    "class Mercedez:\n",
    "    @staticmethod\n",
    "    def auto_drive(): pass"
   ]
  },
  {
   "cell_type": "code",
   "execution_count": 11,
   "id": "5609c94a-8a47-4e0b-8770-32dbab121e70",
   "metadata": {},
   "outputs": [],
   "source": [
    "from abc import ABC, abstractclassmethod"
   ]
  },
  {
   "cell_type": "code",
   "execution_count": 12,
   "id": "c3fb6e9e-1fc8-4e4a-9b72-de7fbefa185a",
   "metadata": {},
   "outputs": [],
   "source": [
    "class CategoryStrategy(ABC):\n",
    "    @abstractclassmethod\n",
    "    def do_process(self): pass"
   ]
  },
  {
   "cell_type": "code",
   "execution_count": 13,
   "id": "ef9e2bc6-d127-4a92-a2fe-885774eefeca",
   "metadata": {},
   "outputs": [],
   "source": [
    "class CategoryOneStrate(ABC):\n",
    "    def do_process(self): pass"
   ]
  },
  {
   "cell_type": "code",
   "execution_count": null,
   "id": "f65a5b4d-c6c3-44a6-81e4-ad50e36c2fc4",
   "metadata": {},
   "outputs": [],
   "source": [
    "class WashingMachine:\n",
    "    def __init__(self):\n",
    "        self.current_state = \"idle\"\n",
    "    \n",
    "    def execute_event(self, event):\n",
    "        if self.current_state == \"idle\":\n",
    "            if event == \"start\":\n",
    "                print(\"Starting the washing cycle\")\n",
    "                "
   ]
  },
  {
   "cell_type": "code",
   "execution_count": 15,
   "id": "dc1eb724-ac34-4feb-bb13-87b10e452e95",
   "metadata": {},
   "outputs": [],
   "source": [
    "from typing import TypeVar"
   ]
  },
  {
   "cell_type": "code",
   "execution_count": 16,
   "id": "c6c59868-9637-403b-b529-fc3aa6c619b9",
   "metadata": {},
   "outputs": [],
   "source": [
    "T = TypeVar(\"T\")"
   ]
  },
  {
   "cell_type": "markdown",
   "id": "2c83f6b5-923c-457d-a07b-5865aef776c3",
   "metadata": {},
   "source": [
    "### Deep Learning"
   ]
  },
  {
   "cell_type": "code",
   "execution_count": null,
   "id": "d9b7220e-10b9-4f45-a9cd-ccf2d5c662c1",
   "metadata": {},
   "outputs": [],
   "source": [
    "text encoder, image encoder, projection head, constrative loss"
   ]
  },
  {
   "cell_type": "code",
   "execution_count": 22,
   "id": "22a6c102-3eea-462e-8e0c-1e80eedb7a86",
   "metadata": {},
   "outputs": [],
   "source": [
    "from torch.utils.data import DataLoader, random_split"
   ]
  },
  {
   "cell_type": "code",
   "execution_count": null,
   "id": "213e6cf7-0e9f-4af0-8636-2514280a8cbf",
   "metadata": {},
   "outputs": [],
   "source": [
    "train_dataset, valid_dataset = random_split(dataset, [6, 4])"
   ]
  },
  {
   "cell_type": "code",
   "execution_count": null,
   "id": "9c3cd805-f1e5-4cf0-9f2c-1a01c89429af",
   "metadata": {},
   "outputs": [],
   "source": [
    "train_loader = DataLoader(train_loader, batch_size=2)\n",
    "valid_loader = DataLoader(valid_loader, batch_size=2)"
   ]
  },
  {
   "cell_type": "code",
   "execution_count": 23,
   "id": "76a35892-6a7f-4006-a1d1-bd2ded4bb45e",
   "metadata": {},
   "outputs": [],
   "source": [
    "from torch.utils.data import Dataset"
   ]
  },
  {
   "cell_type": "code",
   "execution_count": 24,
   "id": "53c86806-d8d0-443e-aae4-9de8cb3917da",
   "metadata": {},
   "outputs": [],
   "source": [
    "class PetDataset(Dataset):\n",
    "    def __init__(self, data):\n",
    "        self.data = data\n",
    "    \n",
    "    def __len__(self): return len(self.data)\n",
    "\n",
    "    def __getitem__(self, idx):\n",
    "        title = self.data[idx]['title']\n",
    "        year_published = self.data[idx]['year_published']\n",
    "        \n",
    "        return (title, year_published)"
   ]
  },
  {
   "cell_type": "code",
   "execution_count": null,
   "id": "ecf1f12f-05cb-45f8-b0e5-17dcbaa4bc31",
   "metadata": {},
   "outputs": [],
   "source": [
    "transform = tfms.Compose([\n",
    "    tfms.ToTensor(),\n",
    "    tfms.Normalize(0.3, 0.9)\n",
    "])"
   ]
  },
  {
   "cell_type": "code",
   "execution_count": null,
   "id": "18619a19-802f-4500-9d34-6fc49339dfaf",
   "metadata": {},
   "outputs": [],
   "source": [
    "from torch.utils.data import t"
   ]
  },
  {
   "cell_type": "code",
   "execution_count": 27,
   "id": "9337a888-66e1-48bf-ba7c-4ac9b008ed1f",
   "metadata": {},
   "outputs": [],
   "source": [
    "import math\n",
    "import torch.nn.functional as F"
   ]
  },
  {
   "cell_type": "code",
   "execution_count": 28,
   "id": "ff2872a6-1822-4aef-912b-0dbaea5d28e8",
   "metadata": {},
   "outputs": [],
   "source": [
    "def scaled_dot_product_attention(q, k, v, d_k):\n",
    "    q_k_matmul = torch.matmul(q, k.T)\n",
    "    scores = q_k_matmul / math.sqrt(d_k)\n",
    "    attention_weights = F.softmax(q_k_matmul, dim=-1)\n",
    "    \n",
    "    output = torch.matmul(attention_weights, v)\n",
    "    \n",
    "    return output, attention_weights"
   ]
  },
  {
   "cell_type": "code",
   "execution_count": null,
   "id": "ffa79087-2cac-4a22-b585-91b71908d255",
   "metadata": {},
   "outputs": [],
   "source": [
    "1, 3, 4"
   ]
  },
  {
   "cell_type": "code",
   "execution_count": null,
   "id": "c5feb492-cbc6-4bb0-8ea1-f47c226e2d95",
   "metadata": {},
   "outputs": [],
   "source": [
    "z_log_var, z_mean, encoder, decoder"
   ]
  },
  {
   "cell_type": "code",
   "execution_count": null,
   "id": "0a0d40ac-4df9-4095-8cdb-3e65cff08316",
   "metadata": {},
   "outputs": [],
   "source": [
    "text encoder, image encoder, projection head"
   ]
  },
  {
   "cell_type": "code",
   "execution_count": null,
   "id": "b2e6f7c9-7b1a-4069-9014-66fe5ae204ac",
   "metadata": {},
   "outputs": [],
   "source": [
    "z_mean, z_log_var"
   ]
  },
  {
   "cell_type": "code",
   "execution_count": 1,
   "id": "2ee7e6d8-9abf-4458-b997-d194a7595d72",
   "metadata": {},
   "outputs": [],
   "source": [
    "def loss(loss_real, loss_fake):\n",
    "    return (loss_real + loss_fake) / 2"
   ]
  },
  {
   "cell_type": "code",
   "execution_count": null,
   "id": "84646db7-f578-476f-9689-e9b3ab69cd09",
   "metadata": {},
   "outputs": [],
   "source": [
    "def probability_scores(image_embedding, text_embedding):\n",
    "    image_embedding_norm = image_embedding.norm(dim=-1)\n",
    "    text_embedding_norm = text_embedding.norm(dim=-1)\n",
    "    \n",
    "    image_embedding = image_embedding / image_embedding_norm\n",
    "    text_embedding = image_embedding / image_embedding_norm\n",
    "    \n",
    "    scores = image_embedding @ text_embedding.T\n",
    "    \n",
    "    probs = F.softmax(scores, dim=-1)"
   ]
  },
  {
   "cell_type": "code",
   "execution_count": null,
   "id": "bc58fde2-1f43-40ff-93c4-7824a1499a09",
   "metadata": {},
   "outputs": [],
   "source": [
    "image_similarity = image_embedding @ image_embedding.T"
   ]
  },
  {
   "cell_type": "code",
   "execution_count": null,
   "id": "2b2934f1-2e52-41f7-903a-e3b13b271df1",
   "metadata": {},
   "outputs": [],
   "source": [
    "text_similarity = text_embedding @ text_embedding.T"
   ]
  },
  {
   "cell_type": "code",
   "execution_count": null,
   "id": "1f82b5f4-382c-4a68-a37f-1e0d0cf21682",
   "metadata": {},
   "outputs": [],
   "source": [
    "target = image_similarity + text_similarity"
   ]
  },
  {
   "cell_type": "code",
   "execution_count": 2,
   "id": "88dd00d5-4955-455d-bf0c-54705b520f97",
   "metadata": {},
   "outputs": [],
   "source": [
    "class PrintStepCallback:\n",
    "    def __init__(self):\n",
    "        pass\n",
    "    \n",
    "    def before_calc(self, i):\n",
    "        print(f\"About to start i={i}\")  \n",
    "        \n",
    "    def after_calc(self, i):\n",
    "        print(f\"Done\")"
   ]
  },
  {
   "cell_type": "code",
   "execution_count": 4,
   "id": "cf23a2ed-30da-441e-993d-8ea031972742",
   "metadata": {},
   "outputs": [],
   "source": [
    "def frobenius_norm(x):\n",
    "    return x.pow(2).sum().sqrt()"
   ]
  },
  {
   "cell_type": "code",
   "execution_count": 7,
   "id": "ee910289-04c9-4e05-85bf-38df6e2e4840",
   "metadata": {},
   "outputs": [],
   "source": [
    "def regularize_activation(loss, activation, alpha):\n",
    "    loss += alpha * activation.pow(2).mean()\n",
    "    return loss"
   ]
  },
  {
   "cell_type": "code",
   "execution_count": 12,
   "id": "6101a446-483c-4774-9cd5-090f48b11430",
   "metadata": {},
   "outputs": [],
   "source": [
    "def frobenius_norm(x):\n",
    "    return (x*x).sum().sqrt()"
   ]
  },
  {
   "cell_type": "code",
   "execution_count": 13,
   "id": "2fe3343c-88f6-4cef-b2f0-e15c811a842d",
   "metadata": {},
   "outputs": [],
   "source": [
    "from torch import nn"
   ]
  },
  {
   "cell_type": "code",
   "execution_count": 14,
   "id": "8b26aec5-a883-44de-9e61-70967860f0c3",
   "metadata": {},
   "outputs": [],
   "source": [
    "class SelfAttention(nn.Module):\n",
    "    def __init__(self, d_head):\n",
    "        self.d_head = d_head\n",
    "    \n",
    "    def forward(self, q, k, v, mask=None):\n",
    "        k_permuted = k.permute(3, 2)\n",
    "        qk_matmul = torch.argmax(q, k_permuted)\n",
    "        \n",
    "        scores = qk_matmul / math.sqrt(self.d_head)\n",
    "        \n",
    "        if mask is not None:\n",
    "            scores = scores.masked_fill(mask==False, -1e9)\n",
    "        \n",
    "        attention_weights = F.softmax(scores, dim=-1)\n",
    "        \n",
    "        output = torch.matmul(attention_weights, v)\n",
    "        \n",
    "        return output, attention_weights"
   ]
  },
  {
   "cell_type": "code",
   "execution_count": null,
   "id": "5d4d972a-d6f3-4334-95c9-35608653e76e",
   "metadata": {},
   "outputs": [],
   "source": [
    "with multiprocessing.Pool(4) as pool:\n",
    "    result = pool.map(sum, numbers)"
   ]
  },
  {
   "cell_type": "markdown",
   "id": "e80d4b18-7bf3-4289-9cf2-429eb691e404",
   "metadata": {},
   "source": [
    "### RL"
   ]
  },
  {
   "cell_type": "code",
   "execution_count": 18,
   "id": "9ce0ee7a-f40d-4e15-aee7-8b6c83f0c41c",
   "metadata": {},
   "outputs": [],
   "source": [
    "import torch"
   ]
  },
  {
   "cell_type": "code",
   "execution_count": null,
   "id": "ed3cbdca-fa3e-4411-b8c6-39eb05773c86",
   "metadata": {},
   "outputs": [],
   "source": [
    "env.action_space.n"
   ]
  },
  {
   "cell_type": "code",
   "execution_count": 17,
   "id": "965570ff-e2f2-4c98-a165-8170612750f9",
   "metadata": {},
   "outputs": [],
   "source": [
    "def calculate_return(rewards, discount_factor):\n",
    "    total_return = 0\n",
    "    \n",
    "    for k, reward in enumerate(rewards):\n",
    "        total_return += (discount_factor**k) * reward\n",
    "    \n",
    "    return total_return"
   ]
  },
  {
   "cell_type": "code",
   "execution_count": 19,
   "id": "f85c37df-a610-44c7-9bb9-a5ff918d5f36",
   "metadata": {},
   "outputs": [],
   "source": [
    "rewards = torch.tensor([10, 20, 30, 40, 50])"
   ]
  },
  {
   "cell_type": "code",
   "execution_count": 21,
   "id": "e3217c90-22bf-48ee-8baa-821d8f278c37",
   "metadata": {},
   "outputs": [
    {
     "data": {
      "text/plain": [
       "tensor(114.2650)"
      ]
     },
     "execution_count": 21,
     "metadata": {},
     "output_type": "execute_result"
    }
   ],
   "source": [
    "calculate_return(rewards, 0.90)"
   ]
  },
  {
   "cell_type": "code",
   "execution_count": null,
   "id": "1f69e39a-754c-4808-921d-e55aa736d095",
   "metadata": {},
   "outputs": [],
   "source": [
    "env.observation_space"
   ]
  },
  {
   "cell_type": "code",
   "execution_count": null,
   "id": "03a0bfb4-77d0-4d29-9999-387e5079dcec",
   "metadata": {},
   "outputs": [],
   "source": [
    "transition_matrix[2][1]"
   ]
  },
  {
   "cell_type": "code",
   "execution_count": 8,
   "id": "16de22dc-b479-4cfa-9a24-d93d121d5748",
   "metadata": {},
   "outputs": [],
   "source": [
    "import multiprocessing"
   ]
  },
  {
   "cell_type": "code",
   "execution_count": null,
   "id": "62bd5044-14b5-4461-8c5d-b65f371e798a",
   "metadata": {},
   "outputs": [],
   "source": [
    "with multiprocessing.Pool(4) as pool:\n",
    "    result = pool.map(sum, numbers)"
   ]
  },
  {
   "cell_type": "code",
   "execution_count": 10,
   "id": "b535bdfc-2bc4-4691-b116-80408cfc88e8",
   "metadata": {},
   "outputs": [
    {
     "ename": "NameError",
     "evalue": "name 'N_EPISODES' is not defined",
     "output_type": "error",
     "traceback": [
      "\u001b[0;31m---------------------------------------------------------------------------\u001b[0m",
      "\u001b[0;31mNameError\u001b[0m                                 Traceback (most recent call last)",
      "Cell \u001b[0;32mIn[10], line 1\u001b[0m\n\u001b[0;32m----> 1\u001b[0m \u001b[38;5;28;01mfor\u001b[39;00m episode \u001b[38;5;129;01min\u001b[39;00m \u001b[38;5;28mrange\u001b[39m(\u001b[43mN_EPISODES\u001b[49m):\n\u001b[1;32m      2\u001b[0m     state, _ \u001b[38;5;241m=\u001b[39m env\u001b[38;5;241m.\u001b[39mreset()\n\u001b[1;32m      3\u001b[0m     state \u001b[38;5;241m=\u001b[39m torch\u001b[38;5;241m.\u001b[39mfrom_numpy(state)\n",
      "\u001b[0;31mNameError\u001b[0m: name 'N_EPISODES' is not defined"
     ]
    }
   ],
   "source": [
    "for episode in range(N_EPISODES):\n",
    "    state, _ = env.reset()\n",
    "    state = torch.from_numpy(state)\n",
    "    \n",
    "    in_progress = True\n",
    "    \n",
    "    while in_progress:\n",
    "        predicted_reward = model(state)\n",
    "        action = torch.argmax(predicted_reward, dim=-1).item()\n",
    "        \n",
    "        new_state, reward, done, truncated, info = env.step(action)\n",
    "        \n",
    "        if not done:\n",
    "            next_state = torch.from_numpy(new_state)\n",
    "            predicted_next_reward = model(new_state)\n",
    "            \n",
    "            max_predicted_next_reward = torch.max(predicted_next_reward, dim=-1)\n",
    "            \n",
    "            target = reward + GAMMA * max_predicted_next_reward\n",
    "            \n",
    "            state = new_state\n",
    "        else:\n",
    "            target = reward\n",
    "            done = False\n",
    "        \n",
    "        loss = loss_func(predicted_reward[action], target)\n",
    "        loss.backward()\n",
    "        optimizer.step()\n",
    "        optimizer.zero_grad()"
   ]
  },
  {
   "cell_type": "code",
   "execution_count": 11,
   "id": "99db0143-242f-46e9-99fc-9c5a6eb7338c",
   "metadata": {},
   "outputs": [],
   "source": [
    "from torch.distributions import Categorical"
   ]
  },
  {
   "cell_type": "code",
   "execution_count": null,
   "id": "b53b09dc-015c-414d-98e7-6fb2c66ebb12",
   "metadata": {},
   "outputs": [],
   "source": [
    "cat = Categorical(pmf)"
   ]
  },
  {
   "cell_type": "code",
   "execution_count": null,
   "id": "ab580721-27d5-4f84-8f55-1e04c00ca2fd",
   "metadata": {},
   "outputs": [],
   "source": [
    "cat.sample(10)"
   ]
  },
  {
   "cell_type": "code",
   "execution_count": null,
   "id": "622a99b2-64fa-4425-aab0-8d983e65f339",
   "metadata": {},
   "outputs": [],
   "source": [
    "q_values = critic.predict(state)"
   ]
  },
  {
   "cell_type": "code",
   "execution_count": null,
   "id": "28228e13-8b69-4aaa-8000-383ea002180c",
   "metadata": {},
   "outputs": [],
   "source": [
    "average_q_value = mean()"
   ]
  },
  {
   "cell_type": "code",
   "execution_count": 21,
   "id": "9f1d6fab-87b8-4ae3-855f-e29990613e1f",
   "metadata": {},
   "outputs": [],
   "source": [
    "def discounted_return(rewards, discount_factor):\n",
    "    n_rewards = len(rewards)\n",
    "    discounted_rewards = torch.zeros(n_rewards)\n",
    "    \n",
    "    for i in range(n_rewards):\n",
    "        total_discounted = 0\n",
    "        for k, reward in enumerate(rewards[i:]):\n",
    "            total_discounted += (discount_factor**k) * reward\n",
    "        \n",
    "        discounted_rewards[i] = total_discounted\n",
    "    \n",
    "    return discounted_rewards"
   ]
  },
  {
   "cell_type": "code",
   "execution_count": 22,
   "id": "06dc480e-56c1-42cc-9af4-66f1cce3c985",
   "metadata": {},
   "outputs": [],
   "source": [
    "import torch"
   ]
  },
  {
   "cell_type": "code",
   "execution_count": 25,
   "id": "63777a0e-424f-4a9d-a899-0bbd7b0b9e73",
   "metadata": {},
   "outputs": [],
   "source": [
    "rewards = torch.tensor([1, 2, 3, 4, 5])"
   ]
  },
  {
   "cell_type": "code",
   "execution_count": 26,
   "id": "8b44f647-041d-48fc-89d7-723be5b874e4",
   "metadata": {},
   "outputs": [
    {
     "data": {
      "text/plain": [
       "tensor([14.6045, 13.7419, 11.8605,  8.9500,  5.0000])"
      ]
     },
     "execution_count": 26,
     "metadata": {},
     "output_type": "execute_result"
    }
   ],
   "source": [
    "discounted_return(rewards, 0.99)"
   ]
  },
  {
   "cell_type": "code",
   "execution_count": null,
   "id": "297fd42f-2d2a-4703-b4e2-874d5f34cf1b",
   "metadata": {},
   "outputs": [],
   "source": [
    "def discount_reward(rewards, discount_factor):\n",
    "    discounted_rewards = []\n",
    "    for k, reward in enumerate(rewards):\n",
    "        discounted_rewards"
   ]
  },
  {
   "cell_type": "code",
   "execution_count": null,
   "id": "bb4c18a2-e75d-424f-b4f0-6dffc3ed0b92",
   "metadata": {},
   "outputs": [],
   "source": [
    "discounted_return_each_timestep = discounted_returns(rewards)"
   ]
  },
  {
   "cell_type": "code",
   "execution_count": null,
   "id": "6fe68651-2dbf-44f6-bb85-3c984575b48c",
   "metadata": {},
   "outputs": [],
   "source": [
    "total_loss = 0\n",
    "for discounted_return, prob in zip(discounted_return_each_timestep, selected_action_prob):\n",
    "    total_loss += discounted_return * -prob.log()"
   ]
  },
  {
   "cell_type": "code",
   "execution_count": null,
   "id": "673dbdcb-f142-4a4a-bb39-da7677844f3a",
   "metadata": {},
   "outputs": [],
   "source": [
    "loss = total_loss / len(rewards)"
   ]
  }
 ],
 "metadata": {
  "kernelspec": {
   "display_name": "Python 3 (ipykernel)",
   "language": "python",
   "name": "python3"
  },
  "language_info": {
   "codemirror_mode": {
    "name": "ipython",
    "version": 3
   },
   "file_extension": ".py",
   "mimetype": "text/x-python",
   "name": "python",
   "nbconvert_exporter": "python",
   "pygments_lexer": "ipython3",
   "version": "3.8.15"
  }
 },
 "nbformat": 4,
 "nbformat_minor": 5
}
