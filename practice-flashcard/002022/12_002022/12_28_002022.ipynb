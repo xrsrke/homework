{
 "cells": [
  {
   "cell_type": "markdown",
   "id": "48663cc1-0507-41fe-8556-f66b4fd48a0e",
   "metadata": {},
   "source": [
    "### Python"
   ]
  },
  {
   "cell_type": "code",
   "execution_count": 1,
   "id": "75b078f7-6c4e-437f-ae4c-bda6a323bddb",
   "metadata": {},
   "outputs": [],
   "source": [
    "class MetaStudent(type):\n",
    "    pass"
   ]
  },
  {
   "cell_type": "code",
   "execution_count": 2,
   "id": "33ac13f8-6680-4784-a959-e10297c01f01",
   "metadata": {},
   "outputs": [],
   "source": [
    "import numpy as np"
   ]
  },
  {
   "cell_type": "code",
   "execution_count": 3,
   "id": "89a4c9f4-8bfe-4d8c-9f1d-84901fa9302f",
   "metadata": {},
   "outputs": [
    {
     "ename": "NameError",
     "evalue": "name 'x' is not defined",
     "output_type": "error",
     "traceback": [
      "\u001b[0;31m---------------------------------------------------------------------------\u001b[0m",
      "\u001b[0;31mNameError\u001b[0m                                 Traceback (most recent call last)",
      "Cell \u001b[0;32mIn[3], line 1\u001b[0m\n\u001b[0;32m----> 1\u001b[0m np\u001b[38;5;241m.\u001b[39mwhere(\u001b[43mx\u001b[49m \u001b[38;5;241m>\u001b[39m \u001b[38;5;241m1\u001b[39m, \u001b[38;5;124m\"\u001b[39m\u001b[38;5;124mGood\u001b[39m\u001b[38;5;124m\"\u001b[39m, \u001b[38;5;124m\"\u001b[39m\u001b[38;5;124mbad\u001b[39m\u001b[38;5;124m\"\u001b[39m)\n",
      "\u001b[0;31mNameError\u001b[0m: name 'x' is not defined"
     ]
    }
   ],
   "source": [
    "np.where(x > 1, \"Good\", \"bad\")"
   ]
  },
  {
   "cell_type": "code",
   "execution_count": 4,
   "id": "106ddf6d-be1e-449e-8144-0f593da577a1",
   "metadata": {},
   "outputs": [],
   "source": [
    "class Atom:\n",
    "    def __delattr__(self, k):\n",
    "        pass"
   ]
  },
  {
   "cell_type": "code",
   "execution_count": null,
   "id": "749cce00-cfec-469c-8fb9-b030ed3be11f",
   "metadata": {},
   "outputs": [],
   "source": [
    "x[1:2:3, :2:2]"
   ]
  },
  {
   "cell_type": "code",
   "execution_count": 5,
   "id": "525c7f79-d937-43fa-8476-45e995393b38",
   "metadata": {},
   "outputs": [],
   "source": [
    "import unittest"
   ]
  },
  {
   "cell_type": "code",
   "execution_count": 7,
   "id": "b227fa27-1af9-4124-8d6f-fe2bb16e7da6",
   "metadata": {},
   "outputs": [],
   "source": [
    "class MediumTestCase(unittest.TestCase):\n",
    "    def test_avg(self):\n",
    "        with self.assertRaises(TypeError) as err:\n",
    "            avg()"
   ]
  },
  {
   "cell_type": "code",
   "execution_count": 8,
   "id": "33e1a05d-90d0-4759-886e-af9ec43b0121",
   "metadata": {},
   "outputs": [],
   "source": [
    "from abc import ABC, abstractclassmethod"
   ]
  },
  {
   "cell_type": "code",
   "execution_count": 9,
   "id": "5766f0a4-3d9f-4d5b-a444-d390455bcf9d",
   "metadata": {},
   "outputs": [],
   "source": [
    "class Cashier(ABC):\n",
    "    @abstractclassmethod\n",
    "    def scan_item(self): pass"
   ]
  },
  {
   "cell_type": "code",
   "execution_count": 10,
   "id": "091a2f5d-5061-4d91-8f30-a60ee311e1e4",
   "metadata": {},
   "outputs": [],
   "source": [
    "class HumanX(ABC):\n",
    "    @abstractclassmethod\n",
    "    def start_shift(self): pass\n",
    "\n",
    "    @abstractclassmethod\n",
    "    def take_break(self): pass"
   ]
  },
  {
   "cell_type": "code",
   "execution_count": null,
   "id": "03d891d0-623d-4b45-9bc3-ce4819dce2c0",
   "metadata": {},
   "outputs": [],
   "source": [
    "class SelfServeMachine()"
   ]
  },
  {
   "cell_type": "code",
   "execution_count": 11,
   "id": "8b9239e8-0662-46f8-9599-b49cd8e1737f",
   "metadata": {},
   "outputs": [],
   "source": [
    "class Mercedez:\n",
    "    @staticmethod\n",
    "    def auto_drive():\n",
    "        pass"
   ]
  },
  {
   "cell_type": "code",
   "execution_count": null,
   "id": "1680f964-e6b1-4bd2-bde8-f10e2c2d4ae1",
   "metadata": {},
   "outputs": [],
   "source": [
    "from typing import "
   ]
  },
  {
   "cell_type": "code",
   "execution_count": 13,
   "id": "fef4d9a1-ae8e-4e0a-a6d6-61154e1b4287",
   "metadata": {},
   "outputs": [],
   "source": [
    "from enum import Enum, auto"
   ]
  },
  {
   "cell_type": "code",
   "execution_count": 15,
   "id": "dcb234ce-04a9-4a0c-9bf2-151fbb7dfc25",
   "metadata": {},
   "outputs": [],
   "source": [
    "class ImperialMeasure:\n",
    "    CUP = 1\n",
    "    TEASPOON = 1"
   ]
  },
  {
   "cell_type": "code",
   "execution_count": 16,
   "id": "8c5131ce-11a3-45ce-abbc-907530d3d2a3",
   "metadata": {},
   "outputs": [],
   "source": [
    "from dataclasses import dataclass"
   ]
  },
  {
   "cell_type": "code",
   "execution_count": 20,
   "id": "f0e83480-8f44-433d-b5df-62f6b7f467dd",
   "metadata": {},
   "outputs": [],
   "source": [
    "from typing import Set"
   ]
  },
  {
   "cell_type": "code",
   "execution_count": 17,
   "id": "34a5f4ec-3068-4a76-a1a8-27eebbfb9202",
   "metadata": {},
   "outputs": [],
   "source": [
    "@dataclass\n",
    "class Ingredient:\n",
    "    name: str\n",
    "    amount: float\n",
    "    unit: ImperialMeasure"
   ]
  },
  {
   "cell_type": "code",
   "execution_count": 21,
   "id": "9a30c471-12f3-4553-947c-da3d76dec02b",
   "metadata": {},
   "outputs": [],
   "source": [
    "@dataclass\n",
    "class Recipe:\n",
    "    meats: Set[Ingredient]\n",
    "    starches: Set[Ingredient]"
   ]
  },
  {
   "cell_type": "code",
   "execution_count": 22,
   "id": "cc608a3b-85d1-4902-ae22-ca029b4816f6",
   "metadata": {},
   "outputs": [],
   "source": [
    "from typing import TypeVar"
   ]
  },
  {
   "cell_type": "code",
   "execution_count": 25,
   "id": "e56535ee-29bf-4e13-b8d2-be35c7595602",
   "metadata": {},
   "outputs": [],
   "source": [
    "T = TypeVar(\"T\")"
   ]
  },
  {
   "cell_type": "code",
   "execution_count": null,
   "id": "ab6c58d4-651f-492f-8d9a-e00554266153",
   "metadata": {},
   "outputs": [],
   "source": [
    "APIResponse = Union[T, APIError]"
   ]
  },
  {
   "cell_type": "code",
   "execution_count": null,
   "id": "d3a9e9b5-a2f1-4d25-a859-49812cadaa45",
   "metadata": {},
   "outputs": [],
   "source": [
    "ls | tee output.txt"
   ]
  },
  {
   "cell_type": "markdown",
   "id": "16c7370c-bb34-44ec-a5cf-b4ffb8dff100",
   "metadata": {},
   "source": [
    "### Docker"
   ]
  },
  {
   "cell_type": "code",
   "execution_count": null,
   "id": "d5e68e93-ffe3-4ebe-aaf5-a76bfbdff7a1",
   "metadata": {},
   "outputs": [],
   "source": [
    "docker log monitor_app"
   ]
  },
  {
   "cell_type": "code",
   "execution_count": null,
   "id": "78be9120-9f09-410d-a7a5-ca62c356210f",
   "metadata": {},
   "outputs": [],
   "source": [
    "cat < h1.txt > h2.txt"
   ]
  },
  {
   "cell_type": "code",
   "execution_count": null,
   "id": "086a7d7a-d905-457b-a874-e63be9015bc9",
   "metadata": {},
   "outputs": [],
   "source": [
    "FROM WHERE SELECT"
   ]
  },
  {
   "cell_type": "markdown",
   "id": "fd13f7b3-9050-4442-9c52-e2b5b6e7b4bd",
   "metadata": {},
   "source": [
    "### Deep Learning"
   ]
  },
  {
   "cell_type": "code",
   "execution_count": 26,
   "id": "6e3ef1d8-a485-4f8a-acad-caf89e20d8fa",
   "metadata": {},
   "outputs": [],
   "source": [
    "import torch\n",
    "from torch import nn\n",
    "import torch.nn.functional as F"
   ]
  },
  {
   "cell_type": "code",
   "execution_count": 28,
   "id": "0357a4cd-b200-422a-84d8-2fa287bdd06e",
   "metadata": {},
   "outputs": [],
   "source": [
    "from torch.nn import init"
   ]
  },
  {
   "cell_type": "code",
   "execution_count": null,
   "id": "064eedc7-e336-4f5b-987f-370e41d3f5c4",
   "metadata": {},
   "outputs": [],
   "source": [
    "init.kaiming_normal_(layer1.weight)"
   ]
  },
  {
   "cell_type": "code",
   "execution_count": 29,
   "id": "1f38efba-0239-4e77-8229-8a627d4fbd5b",
   "metadata": {},
   "outputs": [],
   "source": [
    "import pytorch_lightning as pl"
   ]
  },
  {
   "cell_type": "code",
   "execution_count": 30,
   "id": "e3b05de0-931b-4730-945e-9c2497c8d69c",
   "metadata": {},
   "outputs": [],
   "source": [
    "class LitResNet(pl.LightningModule):\n",
    "    def __init__(self):\n",
    "        super().__init__()\n",
    "        self.model = _model1\n",
    "        self.loss_func = loss\n",
    "    \n",
    "    def training_step(self, batch, batch_idx):\n",
    "        pred = self.model(x)\n",
    "        loss = self.loss_func(pred, y)\n",
    "        \n",
    "        return loss"
   ]
  },
  {
   "cell_type": "code",
   "execution_count": 31,
   "id": "9a5d1e2c-b7fc-4615-8f9a-2ff7f3a4c814",
   "metadata": {},
   "outputs": [],
   "source": [
    "from torch.utils.data import Dataset"
   ]
  },
  {
   "cell_type": "code",
   "execution_count": 32,
   "id": "cf954476-3f33-4150-a528-6c3d85cb6468",
   "metadata": {},
   "outputs": [],
   "source": [
    "class PetDataset(Dataset):\n",
    "    def __init__(self, data):\n",
    "        self.data = data\n",
    "    \n",
    "    def __len__(self): return len(self.data)\n",
    "\n",
    "    def __getitem__(self, idx):\n",
    "        title = self.data[idx]['title']\n",
    "        year_published = self.data[idx]['year_published']\n",
    "        \n",
    "        return title, year_published"
   ]
  },
  {
   "cell_type": "code",
   "execution_count": null,
   "id": "1060d9b6-f12b-44e6-ba23-199b82ddf141",
   "metadata": {},
   "outputs": [],
   "source": [
    "l1.register_forward_hook(add_visualize)"
   ]
  },
  {
   "cell_type": "code",
   "execution_count": null,
   "id": "ba2547c3-8499-442b-8e9c-34ff72a2ba7b",
   "metadata": {},
   "outputs": [],
   "source": [
    "text encoder, image encoder, projection head"
   ]
  },
  {
   "cell_type": "code",
   "execution_count": null,
   "id": "5ba89e2f-f6a1-4603-8851-3894828a80e1",
   "metadata": {},
   "outputs": [],
   "source": [
    "positional embedding, multi head, mask multihead, layer norm, skip connection, linear"
   ]
  },
  {
   "cell_type": "code",
   "execution_count": null,
   "id": "06185d65-a25d-4b54-b303-537594b8d324",
   "metadata": {
    "tags": []
   },
   "outputs": [],
   "source": [
    "for t in range(n_steps):\n",
    "    reward = calculate_reward(states[t], actions[t])\n",
    "    v_mean = calculate_v(state[t+1]).mean()\n",
    "    \n",
    "    Q[t] = reward + gamma * v_mean"
   ]
  },
  {
   "cell_type": "code",
   "execution_count": 33,
   "id": "ef38a538-3118-4e62-940f-f13d9d7ca889",
   "metadata": {},
   "outputs": [],
   "source": [
    "def probability_scores(image_embedding, text_embedding):\n",
    "    image_embedding_norm = image_embedding.norm()\n",
    "    text_embedding_norm = text_embedding.norm()\n",
    "    \n",
    "    image_embedding = image_embedding / image_embedding_norm\n",
    "    text_embedding = text_embedding / text_embedding_norm\n",
    "    \n",
    "    scores = image_embedding @ text_embedding.T\n",
    "    \n",
    "    probs = F.softmax(scores, dim=-1)\n",
    "    \n",
    "    return probs"
   ]
  },
  {
   "cell_type": "code",
   "execution_count": null,
   "id": "1ac54ee4-9008-4406-9a6e-29316386e2d7",
   "metadata": {},
   "outputs": [],
   "source": [
    "tokens = tokenizier.encode(sentence)"
   ]
  },
  {
   "cell_type": "code",
   "execution_count": null,
   "id": "607b724d-59f6-426a-9510-7f744cc50ec7",
   "metadata": {},
   "outputs": [],
   "source": [
    "model.generate(tokens)"
   ]
  },
  {
   "cell_type": "code",
   "execution_count": 34,
   "id": "5e54b5d0-a04a-4e18-98df-a310083a02b0",
   "metadata": {},
   "outputs": [],
   "source": [
    "class EncoderLayer(nn.Module):\n",
    "    def __init__(self, d_model, n_heads, d_ff, dropout):\n",
    "        super().__init__()\n",
    "        self.norm_1 = ResidualLayerNorm(d_model, dropout)\n",
    "        self.norm_2 = ResidualLayerNorm(d_model, dropout)\n",
    "        self.position_wise = PositionWiseFeedForward(d_model, d_ff, dropout)\n",
    "        self.mha = MultiHeadAttention(d_model, n_heads)\n",
    "    \n",
    "    def forward(self, embeddings):\n",
    "        mha_output, mha_attention_weights = self.mha(\n",
    "            pre_q=embeddings, pre_k=embeddings, pre_v=embeddings\n",
    "        )\n",
    "        \n",
    "        norm_1 = self.norm_1(x=mha_output, residual=embeddings)\n",
    "        position_wise = self.position_wise(norm_1)\n",
    "        norm_2 = self.norm_2(x=position_wise, residual=norm_1)\n",
    "        \n",
    "        return norm_2, mha_attention_weights"
   ]
  },
  {
   "cell_type": "code",
   "execution_count": 38,
   "id": "f2bd7b32-ea6c-4c10-aa22-84b8c663cfcc",
   "metadata": {},
   "outputs": [],
   "source": [
    "class Encoder(nn.Module):\n",
    "    def __init__(self, d_model, n_heads, n_layers, d_ff, dropout):\n",
    "        super().__init__()\n",
    "        self.text_embedding = TextEmbedding(\n",
    "            vocab_size=1000, d_model=d_model, padding_idx=0\n",
    "        )\n",
    "        \n",
    "        self.positional_encoding = PositionalEncoding(d_model)\n",
    "        \n",
    "        self.encoder_layers = nn.ModuleList([\n",
    "            EncoderLayer(\n",
    "                d_model, n_heads, d_ff, dropout\n",
    "            ) for _ in range(n_layers)\n",
    "        ])\n",
    "    \n",
    "    def forward(self, tokens):\n",
    "        embeddings = self.embeddings(tokens)\n",
    "        embeddings = self.positional_encoding(embeddings)\n",
    "        \n",
    "        encoder_output = embeddings\n",
    "        \n",
    "        for encoder_layer in self.encoder_layers:\n",
    "            encoder_output, encoder_attention_weights = encoder_layer(encoder_output)\n",
    "        \n",
    "        return encoder_output, encoder_attention_weights"
   ]
  },
  {
   "cell_type": "code",
   "execution_count": 39,
   "id": "238af53d-b073-481f-b97e-1a66c14d545e",
   "metadata": {},
   "outputs": [],
   "source": [
    "def covariance(x, y):\n",
    "    prod = (x-x.mean())*(y-y.mean())\n",
    "    \n",
    "    return prod.mean()"
   ]
  },
  {
   "cell_type": "code",
   "execution_count": 41,
   "id": "1ce8a447-e1fe-436c-8c7c-c29351d30f57",
   "metadata": {},
   "outputs": [],
   "source": [
    "def variance(x):\n",
    "    return (x-x.mean()).pow(2).mean()"
   ]
  },
  {
   "cell_type": "code",
   "execution_count": 59,
   "id": "34e61157-0440-4e6f-86f2-9304f6c82438",
   "metadata": {},
   "outputs": [],
   "source": [
    "preds = torch.tensor([-2, -1, 0, 1, 2]).float()"
   ]
  },
  {
   "cell_type": "code",
   "execution_count": 60,
   "id": "b7597496-95bc-4bf2-8145-34e9a2457cca",
   "metadata": {},
   "outputs": [],
   "source": [
    "targs = torch.tensor([5, 5, 5, 5, 5]).float()"
   ]
  },
  {
   "cell_type": "code",
   "execution_count": 66,
   "id": "9e15762d-623f-46ff-bf73-04abb586cc60",
   "metadata": {},
   "outputs": [],
   "source": [
    "import torch"
   ]
  },
  {
   "cell_type": "code",
   "execution_count": 67,
   "id": "93c3dc4c-28be-419b-b7f9-96e17f7da372",
   "metadata": {},
   "outputs": [
    {
     "data": {
      "text/plain": [
       "tensor([-2., -1.,  0.,  1.,  2.])"
      ]
     },
     "execution_count": 67,
     "metadata": {},
     "output_type": "execute_result"
    }
   ],
   "source": [
    "preds"
   ]
  },
  {
   "cell_type": "code",
   "execution_count": 68,
   "id": "377c567e-71df-40d2-ac80-d981ea1601f9",
   "metadata": {},
   "outputs": [
    {
     "data": {
      "text/plain": [
       "tensor([5., 5., 5., 5., 5.])"
      ]
     },
     "execution_count": 68,
     "metadata": {},
     "output_type": "execute_result"
    }
   ],
   "source": [
    "targs"
   ]
  },
  {
   "cell_type": "markdown",
   "id": "a94b350b-74ac-4a14-be7d-713f8e671808",
   "metadata": {
    "tags": []
   },
   "source": [
    "Write a function calculate the mean absolute error from scratch"
   ]
  },
  {
   "cell_type": "code",
   "execution_count": 69,
   "id": "5caa9981-67e8-49a2-aa1e-442da16ad0ec",
   "metadata": {},
   "outputs": [],
   "source": [
    "def mean_absolute_error(preds, targs):\n",
    "    return (preds-targs).abs().mean()"
   ]
  },
  {
   "cell_type": "code",
   "execution_count": 70,
   "id": "ee466ee2-5a35-4278-8477-d8fc046b3051",
   "metadata": {},
   "outputs": [],
   "source": [
    "output = mean_absolute_error(preds, targs)"
   ]
  },
  {
   "cell_type": "code",
   "execution_count": 71,
   "id": "3c1f3ee8-1697-4d23-8866-b0ef4af19922",
   "metadata": {},
   "outputs": [
    {
     "data": {
      "text/plain": [
       "tensor(5.)"
      ]
     },
     "execution_count": 71,
     "metadata": {},
     "output_type": "execute_result"
    }
   ],
   "source": [
    "output"
   ]
  },
  {
   "cell_type": "code",
   "execution_count": null,
   "id": "cee042f6-5072-4125-8674-eeacb0b49d80",
   "metadata": {},
   "outputs": [],
   "source": [
    "def std(x):\n",
    "    return (x-x.mean()).pow"
   ]
  },
  {
   "cell_type": "code",
   "execution_count": null,
   "id": "53a42c9f-3555-40ff-af2e-c9fa16c8a5d1",
   "metadata": {},
   "outputs": [],
   "source": [
    "target_idxs = y_train[:3]"
   ]
  },
  {
   "cell_type": "code",
   "execution_count": null,
   "id": "f37360fd-85a2-4b77-aa1c-2101aae44090",
   "metadata": {},
   "outputs": [],
   "source": [
    "sm_pred[[0, 1, 2], [...target_idxs]]"
   ]
  },
  {
   "cell_type": "code",
   "execution_count": null,
   "id": "079d9151-ae93-4f45-9f35-c05bcb3fb342",
   "metadata": {},
   "outputs": [],
   "source": [
    "def mae(x):\n",
    "    return (x-x.mean()).abs().mean()"
   ]
  },
  {
   "cell_type": "code",
   "execution_count": 72,
   "id": "77e7bde1-4b0d-4439-bdf8-da512322a3c9",
   "metadata": {},
   "outputs": [],
   "source": [
    "def variance(x):\n",
    "    return (x-x.mean()).pow(2).mean()"
   ]
  },
  {
   "cell_type": "code",
   "execution_count": null,
   "id": "f34cc7f4-62ff-4876-ae38-70374bd50ab8",
   "metadata": {},
   "outputs": [],
   "source": [
    "def regularize_activation(loss, activation, alpha):\n",
    "    loss += loss + alpha*activation.pow(2).mean()"
   ]
  },
  {
   "cell_type": "markdown",
   "id": "3e71a582-9234-4a52-99e1-2655564164a4",
   "metadata": {
    "tags": []
   },
   "source": [
    "### RL"
   ]
  },
  {
   "cell_type": "code",
   "execution_count": null,
   "id": "f05a0756-e9ca-4b9f-b0f4-8e62a7ce36a5",
   "metadata": {},
   "outputs": [],
   "source": [
    "state, action, next state, rewarda"
   ]
  },
  {
   "cell_type": "code",
   "execution_count": 35,
   "id": "413ada85-8650-4472-9198-4dbbfec9912b",
   "metadata": {},
   "outputs": [],
   "source": [
    "def generate_transitions(model, env):\n",
    "    state, _ = env.reset()\n",
    "    state = torch.from_numpy(state)\n",
    "    \n",
    "    states = []\n",
    "    actions = []\n",
    "    next_states = []\n",
    "    rewards = []\n",
    "    \n",
    "    while True:\n",
    "        pred_actions = model(state)\n",
    "        action = torch.argmax(pred_actions, dim=-1).item()\n",
    "        \n",
    "        next_state, reward, done, truncated, info = env.step(action)\n",
    "        next_state = torch.from_numpy(next_state)\n",
    "        \n",
    "        states.append(state)\n",
    "        actions.append(action)\n",
    "        next_states.append(next_state)\n",
    "        rewards.append(reward)\n",
    "\n",
    "        if done: break\n",
    "        \n",
    "        state = next_state\n",
    "    \n",
    "    return states, actions, next_states, rewards"
   ]
  },
  {
   "cell_type": "code",
   "execution_count": 36,
   "id": "7506b01e-0490-465a-9c75-bcca15cce23f",
   "metadata": {},
   "outputs": [],
   "source": [
    "def convert_to_distribution(states):\n",
    "    q_values = q_funciton(states)\n",
    "    \n",
    "    q_values = q_values.exp()\n",
    "    z = q_values.sum(dim=-1)\n",
    "    \n",
    "    return q_values / z"
   ]
  },
  {
   "cell_type": "code",
   "execution_count": 37,
   "id": "8fc9f9cb-d74d-4e96-a6aa-4c8885aa9f7a",
   "metadata": {},
   "outputs": [
    {
     "data": {
      "text/plain": [
       "Embedding(100, 5, padding_idx=5)"
      ]
     },
     "execution_count": 37,
     "metadata": {},
     "output_type": "execute_result"
    }
   ],
   "source": [
    "nn.Embedding(num_embeddings=100, embedding_dim=5, padding_idx=5)"
   ]
  },
  {
   "cell_type": "code",
   "execution_count": null,
   "id": "a352816d-13d9-4608-b92e-2d27a6997b5e",
   "metadata": {},
   "outputs": [],
   "source": []
  },
  {
   "cell_type": "code",
   "execution_count": null,
   "id": "b5a05686-b0b7-4f1f-8533-9784ecb6344c",
   "metadata": {},
   "outputs": [],
   "source": []
  },
  {
   "cell_type": "code",
   "execution_count": null,
   "id": "3deaf364-fa03-4869-a43d-a52e6f6ee4a2",
   "metadata": {},
   "outputs": [],
   "source": []
  },
  {
   "cell_type": "code",
   "execution_count": 3,
   "id": "6bb1f4a7-fa30-4aae-b444-5bdff490bb00",
   "metadata": {},
   "outputs": [],
   "source": [
    "import torch\n",
    "import torch.nn.functional as F"
   ]
  },
  {
   "cell_type": "code",
   "execution_count": 4,
   "id": "eacd3b50-61e6-4189-b79b-9ea8f8dc49ba",
   "metadata": {},
   "outputs": [],
   "source": [
    "x = torch.tensor(3.32)"
   ]
  },
  {
   "cell_type": "code",
   "execution_count": 12,
   "id": "053b30ac-6602-4cf9-b7e7-d2493547ee8c",
   "metadata": {},
   "outputs": [],
   "source": [
    "y = torch.tensor(4.1)"
   ]
  },
  {
   "cell_type": "code",
   "execution_count": 15,
   "id": "7c45c9d9-cc66-425f-a57d-53fa55766324",
   "metadata": {},
   "outputs": [
    {
     "data": {
      "text/plain": [
       "tensor(0.3143)"
      ]
     },
     "execution_count": 15,
     "metadata": {},
     "output_type": "execute_result"
    }
   ],
   "source": [
    "torch.sigmoid(x - y)"
   ]
  },
  {
   "cell_type": "code",
   "execution_count": 17,
   "id": "b5696671-5fa5-44c5-9678-bd1b86c29a6a",
   "metadata": {},
   "outputs": [],
   "source": [
    "from torch import nn\n",
    "import torch.nn.functional as F"
   ]
  },
  {
   "cell_type": "code",
   "execution_count": 19,
   "id": "60631999-83dd-4fda-9dc5-078bba1b475c",
   "metadata": {},
   "outputs": [],
   "source": [
    "kl_loss = nn.KLDivLoss(reduction=\"batchmean\")\n",
    "# input should be a distribution in the log space\n",
    "input = F.log_softmax(torch.randn(3, 5, requires_grad=True), dim=1)\n",
    "# Sample a batch of distributions. Usually this would come from the dataset\n",
    "target = F.softmax(torch.rand(3, 5), dim=1)\n",
    "output = kl_loss(input, target)"
   ]
  },
  {
   "cell_type": "code",
   "execution_count": 20,
   "id": "bd375ac4-7246-4f70-95e1-477f0ce53fb3",
   "metadata": {},
   "outputs": [],
   "source": [
    "kl_loss = nn.KLDivLoss(reduction=\"batchmean\", log_target=True)\n",
    "log_target = F.log_softmax(torch.rand(3, 5), dim=1)"
   ]
  },
  {
   "cell_type": "code",
   "execution_count": 23,
   "id": "8cd4ba25-4592-4380-b477-0b9100ecfbed",
   "metadata": {},
   "outputs": [
    {
     "data": {
      "text/plain": [
       "tensor([[-0.4085, -2.4067, -3.2963, -2.0996, -2.4563],\n",
       "        [-3.5734, -2.0205, -1.6307, -1.6248, -0.8061],\n",
       "        [-1.5771, -2.5264, -2.4717, -2.0001, -0.7058]],\n",
       "       grad_fn=<LogSoftmaxBackward0>)"
      ]
     },
     "execution_count": 23,
     "metadata": {},
     "output_type": "execute_result"
    }
   ],
   "source": [
    "input"
   ]
  },
  {
   "cell_type": "code",
   "execution_count": 22,
   "id": "d086b74b-1b7b-42a5-a5af-421e0c4d6041",
   "metadata": {},
   "outputs": [
    {
     "data": {
      "text/plain": [
       "tensor([[-1.8228, -1.4082, -1.7653, -1.5682, -1.5404],\n",
       "        [-2.0124, -1.3858, -1.1972, -1.9692, -1.7452],\n",
       "        [-2.1661, -1.7430, -1.5733, -1.3743, -1.3862]])"
      ]
     },
     "execution_count": 22,
     "metadata": {},
     "output_type": "execute_result"
    }
   ],
   "source": [
    "log_target"
   ]
  },
  {
   "cell_type": "code",
   "execution_count": 24,
   "id": "d0830e6f-080f-430d-91e6-9776b35f7b4f",
   "metadata": {},
   "outputs": [],
   "source": [
    "output = kl_loss(input, log_target)"
   ]
  },
  {
   "cell_type": "code",
   "execution_count": 25,
   "id": "1278bdcd-0b18-424b-808c-32deb68f11db",
   "metadata": {},
   "outputs": [
    {
     "data": {
      "text/plain": [
       "tensor(0.3717, grad_fn=<DivBackward0>)"
      ]
     },
     "execution_count": 25,
     "metadata": {},
     "output_type": "execute_result"
    }
   ],
   "source": [
    "output"
   ]
  },
  {
   "cell_type": "code",
   "execution_count": null,
   "id": "6eeacd35-8dfa-4f7b-bc06-03b0b8488d39",
   "metadata": {},
   "outputs": [],
   "source": []
  }
 ],
 "metadata": {
  "kernelspec": {
   "display_name": "Python 3 (ipykernel)",
   "language": "python",
   "name": "python3"
  },
  "language_info": {
   "codemirror_mode": {
    "name": "ipython",
    "version": 3
   },
   "file_extension": ".py",
   "mimetype": "text/x-python",
   "name": "python",
   "nbconvert_exporter": "python",
   "pygments_lexer": "ipython3",
   "version": "3.8.15"
  }
 },
 "nbformat": 4,
 "nbformat_minor": 5
}
