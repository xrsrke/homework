{
 "cells": [
  {
   "cell_type": "markdown",
   "id": "f68fac56-9451-4d60-8804-17ea491e44cf",
   "metadata": {},
   "source": [
    "### Python"
   ]
  },
  {
   "cell_type": "code",
   "execution_count": 1,
   "id": "f22469d6-f73f-4174-afec-8e01b3a0f69f",
   "metadata": {},
   "outputs": [],
   "source": [
    "class Mercedez:\n",
    "    \n",
    "    @staticmethod\n",
    "    def auto_drive():\n",
    "        pass"
   ]
  },
  {
   "cell_type": "code",
   "execution_count": 13,
   "id": "d8cca0c0-525f-4a8b-bd41-459318114fc1",
   "metadata": {},
   "outputs": [],
   "source": [
    "from abc import ABC, abstractclassmethod"
   ]
  },
  {
   "cell_type": "code",
   "execution_count": 18,
   "id": "7e64bb0a-e99f-4f4c-b8be-30338cfeb678",
   "metadata": {},
   "outputs": [],
   "source": [
    "class Expense(ABC):\n",
    "    def __init__(self, amount):\n",
    "        self.amount = amount\n",
    "    \n",
    "    @abstractclassmethod\n",
    "    def is_food(self): pass"
   ]
  },
  {
   "cell_type": "code",
   "execution_count": 19,
   "id": "a6bf9097-175a-47ca-929a-cea31bf8b404",
   "metadata": {},
   "outputs": [],
   "source": [
    "class DinnerExpense(Expense):\n",
    "    def is_food(self): return True"
   ]
  },
  {
   "cell_type": "code",
   "execution_count": 20,
   "id": "c9988a94-7e4b-4e5b-aa5b-0e27cfd2c848",
   "metadata": {},
   "outputs": [],
   "source": [
    "class CarRentalExpense(Expense):\n",
    "    def is_food(self): return False"
   ]
  },
  {
   "cell_type": "code",
   "execution_count": 21,
   "id": "49c00ea6-a653-48f0-811b-8172d65aee76",
   "metadata": {},
   "outputs": [],
   "source": [
    "class BreakfastExpense(Expense):\n",
    "    def is_food(self): return True"
   ]
  },
  {
   "cell_type": "code",
   "execution_count": 25,
   "id": "d48b4e9e-2863-4222-a94f-17b4caf3386f",
   "metadata": {},
   "outputs": [
    {
     "ename": "SyntaxError",
     "evalue": "invalid syntax (3393449330.py, line 8)",
     "output_type": "error",
     "traceback": [
      "\u001b[0;36m  Cell \u001b[0;32mIn[25], line 8\u001b[0;36m\u001b[0m\n\u001b[0;31m    self.add_expense(expese):\u001b[0m\n\u001b[0m                             ^\u001b[0m\n\u001b[0;31mSyntaxError\u001b[0m\u001b[0;31m:\u001b[0m invalid syntax\n"
     ]
    }
   ],
   "source": [
    "class ExpenseReport:\n",
    "    def __init__(self, expenses):\n",
    "        self.expenses = expenses\n",
    "        self.meal_expenses = 0\n",
    "    \n",
    "    def calculate_total_expense(self):\n",
    "        for expense in self.expense:\n",
    "            self.add_expense(expese):\n",
    "    \n",
    "    def add_expense(self, expense):\n",
    "        if expense.is_food == True:\n",
    "            "
   ]
  },
  {
   "cell_type": "code",
   "execution_count": 24,
   "id": "fbefe1cf-41ae-4943-bca2-8c762a763c34",
   "metadata": {},
   "outputs": [],
   "source": [
    "class ExpenseReporter:\n",
    "    def __init__(self, report):\n",
    "        self.report = report\n",
    "    \n",
    "    def print_report(self):\n",
    "        pass"
   ]
  },
  {
   "cell_type": "code",
   "execution_count": 26,
   "id": "5d1f91cc-8fee-48ff-94cb-789b87c44cfe",
   "metadata": {},
   "outputs": [
    {
     "name": "stdout",
     "output_type": "stream",
     "text": [
      "File doesn't exist\n"
     ]
    }
   ],
   "source": [
    "try:\n",
    "    f = open(\"no_exist.txt\")\n",
    "except FileNotFoundError as err:\n",
    "    print(\"File doesn't exist\")"
   ]
  },
  {
   "cell_type": "code",
   "execution_count": 27,
   "id": "2484e458-06b9-46fa-a85e-eece9daece49",
   "metadata": {},
   "outputs": [],
   "source": [
    "age: int = 1"
   ]
  },
  {
   "cell_type": "code",
   "execution_count": 29,
   "id": "ff8f2f23-b2a3-4772-a903-2fdb00a86543",
   "metadata": {},
   "outputs": [],
   "source": [
    "child: bool"
   ]
  },
  {
   "cell_type": "code",
   "execution_count": 30,
   "id": "87a1f81e-05fe-4d6a-a0e7-fe300f076a86",
   "metadata": {},
   "outputs": [],
   "source": [
    "from typing import List"
   ]
  },
  {
   "cell_type": "code",
   "execution_count": null,
   "id": "60752cb1-582e-48ac-861e-722bd6d77540",
   "metadata": {
    "tags": []
   },
   "outputs": [],
   "source": [
    "def create_author_count_mapping(List[Cookbook]) -> Dict[str, int]:\n",
    "    pass"
   ]
  },
  {
   "cell_type": "code",
   "execution_count": null,
   "id": "33b6a4f2-9c1c-4f09-b0a6-fb8046025461",
   "metadata": {},
   "outputs": [],
   "source": [
    "class WashingMachine:\n",
    "    def __init__(self):\n",
    "        self.current_state = \"idle\"\n",
    "    \n",
    "    def execute_event(self, event):\n",
    "        if self.current_state == \"idle\":\n",
    "            if event == \"start\":\n",
    "                self.current_state = \"starting\"\n",
    "                print(\"Starting the washing cycle\")\n",
    "        elif current_state"
   ]
  },
  {
   "cell_type": "markdown",
   "id": "ec43bb14-6142-4e92-ab06-cc2b28fa45a3",
   "metadata": {},
   "source": [
    "### Deep Learning"
   ]
  },
  {
   "cell_type": "code",
   "execution_count": null,
   "id": "efc6800e-cd61-4d83-bcba-8b3ced459b07",
   "metadata": {},
   "outputs": [],
   "source": [
    "tokenizier.encode(sentence)"
   ]
  },
  {
   "cell_type": "code",
   "execution_count": 33,
   "id": "5139eb75-fc4f-4559-9e46-e97944726677",
   "metadata": {},
   "outputs": [],
   "source": [
    "from torch.utils.data import Dataset, DataLoader, random_split"
   ]
  },
  {
   "cell_type": "code",
   "execution_count": 32,
   "id": "8953dd54-8220-4477-a10a-a87c51cb2949",
   "metadata": {},
   "outputs": [],
   "source": [
    "class PetDataset(Dataset):\n",
    "    def __init__(self, data):\n",
    "        self.data = data\n",
    "    \n",
    "    def __len__(self): return len(self.data)\n",
    "\n",
    "    def __getitem__(self, idx):\n",
    "        title = self.data[idx][\"title\"]\n",
    "        year_published = self.data[idx][\"year_published\"]\n",
    "        return (title, year_published)"
   ]
  },
  {
   "cell_type": "code",
   "execution_count": null,
   "id": "7e819b54-0357-4767-8e92-bc9c5a816fae",
   "metadata": {},
   "outputs": [],
   "source": [
    "train_dataset, valid_dataset = random_split(dataset, [6, 4])"
   ]
  },
  {
   "cell_type": "code",
   "execution_count": null,
   "id": "9da0b429-0c28-493f-95b1-bf25f7adb4b9",
   "metadata": {},
   "outputs": [],
   "source": [
    "train_loader = DataLoader(train_dataset, batch_size=2)"
   ]
  },
  {
   "cell_type": "code",
   "execution_count": null,
   "id": "f113499b-82b1-45f6-b907-c707edcd4955",
   "metadata": {},
   "outputs": [],
   "source": [
    "valid_loader = DataLoader(valid_dataset, batch_size=2)"
   ]
  },
  {
   "cell_type": "code",
   "execution_count": 34,
   "id": "41a335da-a4c1-4d83-8960-af20d501c0ed",
   "metadata": {},
   "outputs": [],
   "source": [
    "from fastai.text.all import *"
   ]
  },
  {
   "cell_type": "code",
   "execution_count": 35,
   "id": "cafd321b-6010-4c47-b9b1-d197f760058e",
   "metadata": {},
   "outputs": [],
   "source": [
    "class TransformersTokenizer(Transform):\n",
    "    def encodes(self, x):\n",
    "        return encode_text(x)\n",
    "    \n",
    "    def decodes(self, x):\n",
    "        return decode_text(x)"
   ]
  },
  {
   "cell_type": "code",
   "execution_count": null,
   "id": "b51510a2-14a4-4f3f-b6be-d597bfc1c38e",
   "metadata": {},
   "outputs": [],
   "source": [
    "torch.clamp_min(x, 2)"
   ]
  },
  {
   "cell_type": "code",
   "execution_count": 41,
   "id": "ecc6c2ff-37dc-4908-b242-a82580a77f34",
   "metadata": {},
   "outputs": [],
   "source": [
    "import open_clip"
   ]
  },
  {
   "cell_type": "code",
   "execution_count": null,
   "id": "087433e1-06c4-4776-bc1f-37b8f44ce735",
   "metadata": {},
   "outputs": [],
   "source": [
    "text_batch = "
   ]
  },
  {
   "cell_type": "code",
   "execution_count": null,
   "id": "ac6a721b-5a74-411c-a91d-32dec0898d9f",
   "metadata": {},
   "outputs": [],
   "source": [
    "def sigmoid(x):\n",
    "    return 1 / 1 + -x.exp()"
   ]
  },
  {
   "cell_type": "code",
   "execution_count": null,
   "id": "38f95232-57d0-4343-9192-fddd75511b35",
   "metadata": {},
   "outputs": [],
   "source": [
    "tl = TfmdLists(items, [neg_tfm, int2f_tfm])"
   ]
  },
  {
   "cell_type": "code",
   "execution_count": null,
   "id": "ec7a8e5c-8cde-44ae-8ac9-d8de356450cf",
   "metadata": {},
   "outputs": [],
   "source": [
    "for param in model.parameters():\n",
    "    param.requires_grad = False"
   ]
  },
  {
   "cell_type": "code",
   "execution_count": null,
   "id": "4b1a83ab-cb8d-4ddc-8757-6ca0126849c8",
   "metadata": {},
   "outputs": [],
   "source": [
    "model.classifier[0].requires_grad = True\n",
    "model.classifier[3].requires_grad = True"
   ]
  },
  {
   "cell_type": "code",
   "execution_count": null,
   "id": "fbd5536e-a97b-4638-a833-98e0e3cbb242",
   "metadata": {},
   "outputs": [],
   "source": [
    "model.classifier[6] = nn.Linear(4096, 10)"
   ]
  },
  {
   "cell_type": "code",
   "execution_count": 46,
   "id": "48b56c66-a8ba-4cea-9160-502c01b21217",
   "metadata": {},
   "outputs": [],
   "source": [
    "#torch.randn(50, 3, 64, 64)"
   ]
  },
  {
   "cell_type": "code",
   "execution_count": 49,
   "id": "4c6f4cc0-f05e-42aa-9608-c5535b2ca64e",
   "metadata": {},
   "outputs": [],
   "source": [
    "class ResidualLayerNorm(nn.Module):\n",
    "    def __init__(self, d_model, dropout):\n",
    "        super().__init__()\n",
    "        self.layer_norm = nn.LayerNorm(d_model)\n",
    "        self.dropout = nn.Dropout(dropout)\n",
    "    \n",
    "    def forward(self, x, residual):\n",
    "        return self.layer_norm(self.dropout(x) + residual)"
   ]
  },
  {
   "cell_type": "code",
   "execution_count": 50,
   "id": "85527054-3ec0-4d6c-83e7-a261a4dcfdcc",
   "metadata": {},
   "outputs": [],
   "source": [
    "class PositionWiseFeedForward(nn.Module):\n",
    "    def __init__(self, d_model, d_ff, dropout):\n",
    "        super().__init__()\n",
    "        self.layers = nn.Sequential(\n",
    "            nn.Linear(d_model, d_ff),\n",
    "            nn.ReLU(),\n",
    "            nn.Dropout(dropout),\n",
    "            nn.Linear(d_ff, d_model)\n",
    "        )\n",
    "    \n",
    "    def forward(self, x):\n",
    "        return self.layers(x)"
   ]
  },
  {
   "cell_type": "code",
   "execution_count": 52,
   "id": "8caf7a19-c1b0-4fd8-8e63-1be7b69d1f16",
   "metadata": {},
   "outputs": [],
   "source": [
    "class LayerNorm(nn.Module):\n",
    "    def __init__(self, features, eps):\n",
    "        super().__init__()\n",
    "        self.eps = eps\n",
    "        self.adds = nn.Parameter(torch.zeros(features))\n",
    "        self.mults = nn.Parameter(torch.ones(features))\n",
    "        \n",
    "    def forward(self, x):\n",
    "        with torch.no_grad():\n",
    "            mean, var = x.mean(dim=-1, keepdim=True), x.var()\n",
    "        \n",
    "        x = (x - mean) / (var + self.eps).sqrt()\n",
    "        x = x*self.mults + self.adds\n",
    "        \n",
    "        return x"
   ]
  },
  {
   "cell_type": "code",
   "execution_count": null,
   "id": "a40a0d18-69c5-4cb8-9669-345b5159858b",
   "metadata": {},
   "outputs": [],
   "source": [
    "reward_matrix[1][2]"
   ]
  },
  {
   "cell_type": "code",
   "execution_count": 36,
   "id": "4f5328aa-ff4e-4753-99ef-d7fd826918e0",
   "metadata": {},
   "outputs": [],
   "source": [
    "import gymnasium as gym"
   ]
  },
  {
   "cell_type": "code",
   "execution_count": 40,
   "id": "caa02c4c-f839-4b98-a127-81bf11a652bf",
   "metadata": {},
   "outputs": [],
   "source": [
    "envs = gym.vector.SyncVectorEnv([\n",
    "    lambda: gym.make(\"CartPole-v1\"),\n",
    "    lambda: gym.make(\"CartPole-v1\"),\n",
    "    lambda: gym.make(\"CartPole-v1\")\n",
    "])"
   ]
  },
  {
   "cell_type": "code",
   "execution_count": 42,
   "id": "0f4862aa-a9d7-49aa-bd1a-957c0a7f0296",
   "metadata": {},
   "outputs": [],
   "source": [
    "def calculate_discounted_return_each_timestep(rewards, discount_factor):\n",
    "    n_rewards = len(rewards)\n",
    "    discounted_returns = torch.zeros(n_rewards)\n",
    "    \n",
    "    for i in range(n_rewards):\n",
    "        \n",
    "        total_return = 0\n",
    "        for k, reward in enumerate(rewards[i:]):\n",
    "            total_return += (discount_factor**k) * reward\n",
    "        \n",
    "        discounted_returns[i] = total_return\n",
    "    \n",
    "    return discounted_returns"
   ]
  },
  {
   "cell_type": "code",
   "execution_count": 43,
   "id": "00836746-76d3-49cd-bbae-1a027e6e68da",
   "metadata": {},
   "outputs": [],
   "source": [
    "rewards = torch.tensor([1, 2, 3, 4, 5])"
   ]
  },
  {
   "cell_type": "code",
   "execution_count": 44,
   "id": "7ec98a40-3196-49db-8e9e-0a1fe761efea",
   "metadata": {},
   "outputs": [
    {
     "data": {
      "text/plain": [
       "tensor([14.6045, 13.7419, 11.8605,  8.9500,  5.0000])"
      ]
     },
     "execution_count": 44,
     "metadata": {},
     "output_type": "execute_result"
    }
   ],
   "source": [
    "calculate_discounted_return_each_timestep(rewards, discount_factor=0.99)"
   ]
  },
  {
   "cell_type": "code",
   "execution_count": null,
   "id": "038ffbf4-7778-483e-92cc-181b357f6871",
   "metadata": {},
   "outputs": [],
   "source": [
    "text_batch = open_clip.tokenize([sentence])"
   ]
  },
  {
   "cell_type": "code",
   "execution_count": null,
   "id": "92ad76dd-ad26-4f98-b513-1ac46afc7a28",
   "metadata": {},
   "outputs": [],
   "source": [
    "image_features = open_clip.encode_image(image_batch)"
   ]
  },
  {
   "cell_type": "code",
   "execution_count": null,
   "id": "76ee95f7-f707-48bc-b119-5dbd9ce53907",
   "metadata": {},
   "outputs": [],
   "source": [
    "1, 2, 3, 3"
   ]
  },
  {
   "cell_type": "code",
   "execution_count": null,
   "id": "506e8501-154f-45a4-be35-b4382fd5fdbb",
   "metadata": {},
   "outputs": [],
   "source": [
    "for episode in range(N_EPISODE):\n",
    "    state, _ = env.reset()\n",
    "    state = torch.from_numpy(state)\n",
    "    \n",
    "    in_progress = False\n",
    "    \n",
    "    while in_progress:\n",
    "        predicted_reward = model(state)\n",
    "        action = torch.argmax(predicted_reward, dim=-1).item()\n",
    "        \n",
    "        next_state, reward, done, truncated, info = env.step(action)\n",
    "        next_state = torch.from_numpy(next_state)\n",
    "        \n",
    "        if done:\n",
    "            target_reward = reward\n",
    "        else:\n",
    "            predicted_next_reward = model(next_state)\n",
    "            max_predicted_next_reward = torch.max(predicted_next_reward, dim=-1)\n",
    "            \n",
    "            target_reward = reward + GAMMA * max_predicted_next_reward\n",
    "        \n",
    "        loss = loss_func(predicted_reward[action], target_reward)\n",
    "        loss.backward()\n",
    "        optimizier.step()\n",
    "        optimizier.zero_grad()\n",
    "        \n",
    "        if done: break\n",
    "        \n",
    "        state = next_state"
   ]
  },
  {
   "cell_type": "code",
   "execution_count": null,
   "id": "d99fac4c-b856-4121-8581-58c952a033a5",
   "metadata": {},
   "outputs": [],
   "source": [
    "next_state, reward, done, truncated, info"
   ]
  },
  {
   "cell_type": "code",
   "execution_count": null,
   "id": "5c38b47c-5c09-468c-a97b-ceadf88a2f10",
   "metadata": {},
   "outputs": [],
   "source": [
    "policy, value, model"
   ]
  },
  {
   "cell_type": "code",
   "execution_count": null,
   "id": "6f62b95b-a86d-4cc3-9a95-fc235f97712f",
   "metadata": {},
   "outputs": [],
   "source": [
    "state, action, next_state, reward"
   ]
  },
  {
   "cell_type": "code",
   "execution_count": null,
   "id": "0298e731-a9b9-44e7-98a8-de79c24e5cca",
   "metadata": {},
   "outputs": [],
   "source": [
    "in, out, "
   ]
  },
  {
   "cell_type": "code",
   "execution_count": null,
   "id": "ca911dd3-0fbf-46ed-a036-aac9b9db1889",
   "metadata": {},
   "outputs": [],
   "source": [
    "discounted_returns = calculate_discounted_return_at_each_timestep(rewards)"
   ]
  },
  {
   "cell_type": "code",
   "execution_count": null,
   "id": "74c1ed21-a512-4244-b2eb-190165140a7c",
   "metadata": {},
   "outputs": [],
   "source": [
    "total_loss = 0\n",
    "for discounted_return, pro in zip(discounted_returns, selected_action_probs):\n",
    "    total_loss += discounted_return * -pro.log()"
   ]
  },
  {
   "cell_type": "code",
   "execution_count": null,
   "id": "d75d56f1-48fd-483b-8f5e-b8d063fbf5ee",
   "metadata": {},
   "outputs": [],
   "source": [
    "loss = total_loss / len(rewards)"
   ]
  }
 ],
 "metadata": {
  "kernelspec": {
   "display_name": "Python 3 (ipykernel)",
   "language": "python",
   "name": "python3"
  },
  "language_info": {
   "codemirror_mode": {
    "name": "ipython",
    "version": 3
   },
   "file_extension": ".py",
   "mimetype": "text/x-python",
   "name": "python",
   "nbconvert_exporter": "python",
   "pygments_lexer": "ipython3",
   "version": "3.8.15"
  }
 },
 "nbformat": 4,
 "nbformat_minor": 5
}
