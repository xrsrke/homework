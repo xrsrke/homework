{
 "cells": [
  {
   "cell_type": "markdown",
   "id": "60a67ae4-99a5-40f7-bb09-6e6e287aeb16",
   "metadata": {
    "tags": []
   },
   "source": [
    "### Docker"
   ]
  },
  {
   "cell_type": "code",
   "execution_count": null,
   "id": "f06f5ba2-bad6-46bb-97a4-843f2d637471",
   "metadata": {
    "tags": []
   },
   "outputs": [],
   "source": [
    "docker pull resid"
   ]
  },
  {
   "cell_type": "code",
   "execution_count": null,
   "id": "36711ca5-f4bc-4986-99d5-6cdaf337d1c5",
   "metadata": {},
   "outputs": [],
   "source": [
    "version: 0.01\n",
    "\n",
    "services:\n",
    "    mongodb:\n",
    "        image: mongo\n",
    "        ports:\n",
    "            - 27017:27017"
   ]
  },
  {
   "cell_type": "code",
   "execution_count": null,
   "id": "79e8c2d4-ff32-4f88-ae91-98dd5d4c60fe",
   "metadata": {},
   "outputs": [],
   "source": [
    "docker network create mongo-network"
   ]
  },
  {
   "cell_type": "code",
   "execution_count": null,
   "id": "e1776e78-1d7f-4005-b7b1-f81a8640ab47",
   "metadata": {},
   "outputs": [],
   "source": [
    "docker build "
   ]
  },
  {
   "cell_type": "code",
   "execution_count": null,
   "id": "699b9113-d83c-4170-bb1e-c3b30d6af99a",
   "metadata": {},
   "outputs": [],
   "source": [
    "docker build redis -p 6000:1000"
   ]
  },
  {
   "cell_type": "code",
   "execution_count": null,
   "id": "717708e9-3714-4b76-ac81-e5fda9543ba7",
   "metadata": {},
   "outputs": [],
   "source": [
    "version: 0.01\n",
    "\n",
    "services:\n",
    "    mongodb:\n",
    "        image: mongo"
   ]
  },
  {
   "cell_type": "code",
   "execution_count": null,
   "id": "42ed6a33-4e10-4ced-bac9-0fb41c7ad2df",
   "metadata": {},
   "outputs": [],
   "source": [
    "docker-compose "
   ]
  },
  {
   "cell_type": "markdown",
   "id": "9b1d3948-4068-4356-bcc7-b2c7dc8fa5ba",
   "metadata": {},
   "source": [
    "### Fastcore"
   ]
  },
  {
   "cell_type": "code",
   "execution_count": 1,
   "id": "a39b09a5-adfc-49fb-83bc-c75706896c72",
   "metadata": {},
   "outputs": [],
   "source": [
    "from fastcore.meta import *"
   ]
  },
  {
   "cell_type": "code",
   "execution_count": 2,
   "id": "5ada28a7-8958-4d01-a58d-acf437fedc11",
   "metadata": {},
   "outputs": [
    {
     "ename": "SyntaxError",
     "evalue": "invalid syntax (3148742407.py, line 2)",
     "output_type": "error",
     "traceback": [
      "\u001b[0;36m  Cell \u001b[0;32mIn[2], line 2\u001b[0;36m\u001b[0m\n\u001b[0;31m    pass\u001b[0m\n\u001b[0m    ^\u001b[0m\n\u001b[0;31mSyntaxError\u001b[0m\u001b[0;31m:\u001b[0m invalid syntax\n"
     ]
    }
   ],
   "source": [
    "@use_kwargs_dict(y=1, z=None)\n",
    "pass"
   ]
  },
  {
   "cell_type": "code",
   "execution_count": null,
   "id": "e7398cc7-c2c8-4681-90c9-39d1022c4fa8",
   "metadata": {},
   "outputs": [],
   "source": [
    "df.apply(func=func_sum, axis=0)"
   ]
  },
  {
   "cell_type": "code",
   "execution_count": 3,
   "id": "5308d84e-6fc1-44db-a5d4-6138e9ef9e0c",
   "metadata": {},
   "outputs": [],
   "source": [
    "import unittest"
   ]
  },
  {
   "cell_type": "code",
   "execution_count": null,
   "id": "1510153c-3820-41f4-a058-cc1dad725968",
   "metadata": {},
   "outputs": [],
   "source": [
    "class MediumTest(unittest.TestCase):\n",
    "    def test_avg(self):\n",
    "        with self.assertRaises(TypeError) as err:\n",
    "            self.assertEqual(avg(1, 2, 3), 2)"
   ]
  },
  {
   "cell_type": "code",
   "execution_count": 4,
   "id": "729fea66-9b9d-4584-b19c-416a787c3143",
   "metadata": {},
   "outputs": [],
   "source": [
    "from typing import Literal"
   ]
  },
  {
   "cell_type": "code",
   "execution_count": 5,
   "id": "bcca1215-db44-4532-92e1-35ce45705fa9",
   "metadata": {},
   "outputs": [],
   "source": [
    "class Eyelink:\n",
    "    def __init__(self, level: Literal[\"one\", \"two\", \"three\"]):\n",
    "        self.level = level"
   ]
  },
  {
   "cell_type": "code",
   "execution_count": 6,
   "id": "251ef91e-c27a-4484-93bd-407fb97a4b29",
   "metadata": {},
   "outputs": [],
   "source": [
    "from typing import TYPE_CHECKING"
   ]
  },
  {
   "cell_type": "code",
   "execution_count": 8,
   "id": "0acad791-6511-459f-9a84-7b3f5f884041",
   "metadata": {},
   "outputs": [],
   "source": [
    "if TYPE_CHECKING:\n",
    "    foo()"
   ]
  },
  {
   "cell_type": "code",
   "execution_count": 12,
   "id": "a347fdba-b3b4-48af-be12-5a5613c772ea",
   "metadata": {},
   "outputs": [],
   "source": [
    "NumberOfServing = int"
   ]
  },
  {
   "cell_type": "code",
   "execution_count": 16,
   "id": "0d2b8a75-df1f-4ac8-8eb2-7a435a1258e4",
   "metadata": {},
   "outputs": [],
   "source": [
    "from typing import Tuple, Union, List"
   ]
  },
  {
   "cell_type": "code",
   "execution_count": 14,
   "id": "e70f606b-309a-4af6-a9f7-c08061f5dde5",
   "metadata": {},
   "outputs": [],
   "source": [
    "Ingredient = Tuple[str, int, str]"
   ]
  },
  {
   "cell_type": "code",
   "execution_count": 15,
   "id": "67b57251-2122-4f22-86cf-9311a8f04434",
   "metadata": {},
   "outputs": [
    {
     "ename": "NameError",
     "evalue": "name 'List' is not defined",
     "output_type": "error",
     "traceback": [
      "\u001b[0;31m---------------------------------------------------------------------------\u001b[0m",
      "\u001b[0;31mNameError\u001b[0m                                 Traceback (most recent call last)",
      "Cell \u001b[0;32mIn[15], line 1\u001b[0m\n\u001b[0;32m----> 1\u001b[0m output \u001b[38;5;241m=\u001b[39m \u001b[43mList\u001b[49m[Union[NumberOfServing, Ingredient]]\n",
      "\u001b[0;31mNameError\u001b[0m: name 'List' is not defined"
     ]
    }
   ],
   "source": [
    "output = List[Union[NumberOfServing, Ingredient]]"
   ]
  },
  {
   "cell_type": "code",
   "execution_count": 17,
   "id": "c578ec41-996f-4aa5-b157-dfbbe04bd929",
   "metadata": {},
   "outputs": [],
   "source": [
    "from typing import TypeVar"
   ]
  },
  {
   "cell_type": "code",
   "execution_count": 18,
   "id": "1a587b97-29e1-4f9b-8f7d-14627329fb38",
   "metadata": {},
   "outputs": [],
   "source": [
    "T = TypeVar(\"T\")"
   ]
  },
  {
   "cell_type": "markdown",
   "id": "a02f3b5c-d9e6-41d0-baa4-e93687da7d00",
   "metadata": {},
   "source": [
    "### Reinforcement Learning"
   ]
  },
  {
   "cell_type": "code",
   "execution_count": 41,
   "id": "99e55690-f070-4075-9c71-aebd98367344",
   "metadata": {},
   "outputs": [],
   "source": [
    "import ipdb"
   ]
  },
  {
   "cell_type": "code",
   "execution_count": 42,
   "id": "fa3ea7a0-f288-4b72-b87f-bdc97a5fcb69",
   "metadata": {},
   "outputs": [],
   "source": [
    "import torch"
   ]
  },
  {
   "cell_type": "code",
   "execution_count": 49,
   "id": "cccb7d32-a45b-4f11-9704-f2e11c313e8b",
   "metadata": {},
   "outputs": [],
   "source": [
    "def calculate_return(rewards, discount_factor):\n",
    "    total_return = torch.zeros(1)\n",
    "    \n",
    "    for k, reward in enumerate(rewards):\n",
    "        # ipdb.set_trace()\n",
    "        total_return += (discount_factor**k) * reward\n",
    "    \n",
    "    return total_return"
   ]
  },
  {
   "cell_type": "code",
   "execution_count": 50,
   "id": "3068aa25-38bd-412b-a18a-05df7e5d7103",
   "metadata": {},
   "outputs": [],
   "source": [
    "rewards = torch.tensor([10, 20, 30, 40, 50])"
   ]
  },
  {
   "cell_type": "code",
   "execution_count": 51,
   "id": "fe3f76f9-27dd-43b5-9ed0-4d0eac8a60c9",
   "metadata": {},
   "outputs": [
    {
     "data": {
      "text/plain": [
       "tensor([146.0448])"
      ]
     },
     "execution_count": 51,
     "metadata": {},
     "output_type": "execute_result"
    }
   ],
   "source": [
    "calculate_return(rewards, torch.tensor(0.99))"
   ]
  },
  {
   "cell_type": "code",
   "execution_count": 52,
   "id": "a7e3747a-e196-4ee3-aa85-0a17872cca34",
   "metadata": {},
   "outputs": [],
   "source": [
    "current_state = torch.tensor([0, 0, 1])"
   ]
  },
  {
   "cell_type": "code",
   "execution_count": null,
   "id": "c0bc7294-9e7d-42a8-95ad-13f7810bfa17",
   "metadata": {},
   "outputs": [],
   "source": [
    "1, 2, 3, 3"
   ]
  },
  {
   "cell_type": "code",
   "execution_count": 53,
   "id": "00745255-4a67-416d-81a2-8d3005db5a17",
   "metadata": {},
   "outputs": [
    {
     "ename": "NameError",
     "evalue": "name 'N_EPISODES' is not defined",
     "output_type": "error",
     "traceback": [
      "\u001b[0;31m---------------------------------------------------------------------------\u001b[0m",
      "\u001b[0;31mNameError\u001b[0m                                 Traceback (most recent call last)",
      "Cell \u001b[0;32mIn[53], line 1\u001b[0m\n\u001b[0;32m----> 1\u001b[0m \u001b[38;5;28;01mfor\u001b[39;00m episode \u001b[38;5;129;01min\u001b[39;00m \u001b[38;5;28mrange\u001b[39m(\u001b[43mN_EPISODES\u001b[49m):\n\u001b[1;32m      2\u001b[0m     state, _ \u001b[38;5;241m=\u001b[39m env\u001b[38;5;241m.\u001b[39mreset()\n\u001b[1;32m      3\u001b[0m     state \u001b[38;5;241m=\u001b[39m torch\u001b[38;5;241m.\u001b[39mfrom_numpy(state)\n",
      "\u001b[0;31mNameError\u001b[0m: name 'N_EPISODES' is not defined"
     ]
    }
   ],
   "source": [
    "for episode in range(N_EPISODES):\n",
    "    state, _ = env.reset()\n",
    "    state = torch.from_numpy(state)\n",
    "    \n",
    "    in_progress = True\n",
    "    \n",
    "    while in_progress:\n",
    "        predicted_rewards = model(state)\n",
    "        action = torch.argmax(predicted_action, dim=-1).item()\n",
    "        \n",
    "        next_state, reward, done, truncated, info = env.step(action)\n",
    "        \n",
    "        if done: break\n",
    "        \n",
    "        next_state = torch.from_numpy(next_state)\n",
    "        \n",
    "        predicted_next_reward = model(next_state)\n",
    "        max_predicted_next_reward = torch.max(predicted_next_reward)\n",
    "        \n",
    "        target_reward = reward + GAMMA * max_predicted_next_reward\n",
    "        \n",
    "        loss = loss_func(predicted_rewards[action], target_reward)\n",
    "        loss.backward()\n",
    "        optimizier.step()\n",
    "        optimizer.zero_grad()\n",
    "        \n",
    "        state = next_state"
   ]
  },
  {
   "cell_type": "markdown",
   "id": "13e6a77a-b474-4b39-a0c4-ab6ed552812d",
   "metadata": {},
   "source": [
    "### Deep Learning"
   ]
  },
  {
   "cell_type": "code",
   "execution_count": 54,
   "id": "15907368-5f3b-4b13-be48-83deb20724d8",
   "metadata": {},
   "outputs": [],
   "source": [
    "from torch import nn"
   ]
  },
  {
   "cell_type": "code",
   "execution_count": null,
   "id": "9adba05c-6d76-43ba-87a6-dd112521ec0a",
   "metadata": {},
   "outputs": [],
   "source": [
    "layer_norm = nn.LayerNorm(embeddings.shape[-1])"
   ]
  },
  {
   "cell_type": "code",
   "execution_count": 55,
   "id": "f342c63d-0e1d-45c7-9e8a-7d21dee43491",
   "metadata": {},
   "outputs": [],
   "source": [
    "class PositionWiseFeedForward(nn.Module):\n",
    "    def __init__(self, d_model, d_ff, dropout):\n",
    "        self.norm = nn.LayerNorm(d_model)\n",
    "        self.dropout = nn.Dropout(dropout)"
   ]
  },
  {
   "cell_type": "code",
   "execution_count": null,
   "id": "2b621b2f-1b38-4b98-bafd-e6ed0ffac776",
   "metadata": {},
   "outputs": [],
   "source": [
    "def create_text_embedding"
   ]
  },
  {
   "cell_type": "code",
   "execution_count": 57,
   "id": "bc372ac1-2158-4475-9215-db873f5988a7",
   "metadata": {},
   "outputs": [],
   "source": [
    "class ConvNet(nn.Module):\n",
    "    def __init__(self):\n",
    "        self.layers = nn.Sequential(\n",
    "            nn.Conv2d(\n",
    "                in_channels=3, out_channels=6, kernel_size=5\n",
    "            ),\n",
    "            nn.ReLU(),\n",
    "            nn.MaxPool2d(kernel_size=2),\n",
    "            nn.Conv2d(\n",
    "                in_channels=6, out_channels=16, kernel_size=5\n",
    "            ),\n",
    "            nn.ReLU(),\n",
    "            nn.MaxPool2d(kernel_size=2),\n",
    "            nn.Flatten(start_dim=1, end_dim=3),\n",
    "            nn.Linear(400, 120),\n",
    "            nn.ReLU(),\n",
    "            nn.Linear(120, 84),\n",
    "            nn.ReLU(),\n",
    "            nn.Linear(84),\n",
    "            nn.Softmax()\n",
    "        )\n",
    "    \n",
    "    def forward(self, x):\n",
    "        return self.layers(x)"
   ]
  },
  {
   "cell_type": "code",
   "execution_count": null,
   "id": "4ca61940-fe1b-4074-81da-95c040adc11e",
   "metadata": {},
   "outputs": [],
   "source": [
    "class PositionWiseFeedForward(nn.Module):\n",
    "    def __init__(self, d_model, d_ff, dropout):\n",
    "        super().__init__()\n",
    "        self.layers = nn.Sequential(\n",
    "            nn.Linear(d_model, d_ff),\n",
    "            nn.Linear(),\n",
    "            nn.Dropout(),\n",
    "            nn.Linear(d_ff, d_model)\n",
    "        )"
   ]
  },
  {
   "cell_type": "code",
   "execution_count": 58,
   "id": "6aa5bfea-c86a-4929-a52e-a154671b6286",
   "metadata": {},
   "outputs": [],
   "source": [
    "def calculate_discounted_return_time_step(rewards, timestep, discount_factor):\n",
    "    total_discount = torch.zeros(1)\n",
    "    \n",
    "    for k, reward in enumerate(rewards[timestep:]):\n",
    "        total_discount += (discount_factor**k) * reward\n",
    "    \n",
    "    return total_discount"
   ]
  },
  {
   "cell_type": "code",
   "execution_count": 59,
   "id": "e50390cf-334b-47bf-b53d-e801adc8c47f",
   "metadata": {},
   "outputs": [],
   "source": [
    "class Dataset:\n",
    "    def __init__(self, x, y):\n",
    "        self.x, self.y = x, y\n",
    "    \n",
    "    def __getitem__(self, idx):\n",
    "        return self.x[idx], self.y[idx]\n",
    "    \n",
    "    def __len__(self):\n",
    "        return len(self.x)"
   ]
  },
  {
   "cell_type": "code",
   "execution_count": 60,
   "id": "23c88eb9-35a1-45a8-9631-100d89c60d91",
   "metadata": {},
   "outputs": [],
   "source": [
    "def regularize_activation(loss, activation, alpha):\n",
    "    loss += alpha * activation.pow(2).mean()\n",
    "    return loss"
   ]
  },
  {
   "cell_type": "code",
   "execution_count": null,
   "id": "cb038969-ef7e-4659-8702-5e01837f3e8f",
   "metadata": {},
   "outputs": [],
   "source": []
  }
 ],
 "metadata": {
  "kernelspec": {
   "display_name": "Python 3 (ipykernel)",
   "language": "python",
   "name": "python3"
  },
  "language_info": {
   "codemirror_mode": {
    "name": "ipython",
    "version": 3
   },
   "file_extension": ".py",
   "mimetype": "text/x-python",
   "name": "python",
   "nbconvert_exporter": "python",
   "pygments_lexer": "ipython3",
   "version": "3.8.15"
  }
 },
 "nbformat": 4,
 "nbformat_minor": 5
}
