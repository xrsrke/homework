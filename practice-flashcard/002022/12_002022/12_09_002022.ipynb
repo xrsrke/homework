{
 "cells": [
  {
   "cell_type": "markdown",
   "id": "38f54343-6842-4f66-840b-6926d5102675",
   "metadata": {},
   "source": [
    "### Deep Learning"
   ]
  },
  {
   "cell_type": "code",
   "execution_count": null,
   "id": "7dd84147-933b-4e95-aa45-373fbb6d1fb6",
   "metadata": {},
   "outputs": [],
   "source": [
    "l1.bias.data.zero_()"
   ]
  },
  {
   "cell_type": "code",
   "execution_count": null,
   "id": "3c262a5d-4c21-4ea7-94c0-16e8739e2621",
   "metadata": {},
   "outputs": [],
   "source": [
    "inference on cpu, share gpu, quantization"
   ]
  },
  {
   "cell_type": "code",
   "execution_count": null,
   "id": "1f49adfd-24a3-4de0-8a0b-91ef63831c35",
   "metadata": {},
   "outputs": [],
   "source": [
    "import torch"
   ]
  },
  {
   "cell_type": "code",
   "execution_count": null,
   "id": "69b06bf1-1393-4bdc-873e-74eed0c6c6ab",
   "metadata": {},
   "outputs": [],
   "source": [
    "from torch import nn\n",
    "import torch.nn.functional as F"
   ]
  },
  {
   "cell_type": "code",
   "execution_count": null,
   "id": "49cbf13c-5ebe-4228-9468-a575e1296d2a",
   "metadata": {},
   "outputs": [],
   "source": [
    "def create_mask(size):\n",
    "    return torch.ones((1, size, size)).triu(1)"
   ]
  },
  {
   "cell_type": "code",
   "execution_count": null,
   "id": "56f64c60-5a5b-4512-b9bc-c76166c23e62",
   "metadata": {},
   "outputs": [
    {
     "data": {
      "text/plain": [
       "tensor([[[0., 1., 1., 1.],\n",
       "         [0., 0., 1., 1.],\n",
       "         [0., 0., 0., 1.],\n",
       "         [0., 0., 0., 0.]]])"
      ]
     },
     "execution_count": null,
     "metadata": {},
     "output_type": "execute_result"
    }
   ],
   "source": [
    "create_mask(4)."
   ]
  },
  {
   "cell_type": "code",
   "execution_count": null,
   "id": "a2679a14-068c-4616-8d6b-3fc082045cf2",
   "metadata": {},
   "outputs": [],
   "source": [
    "encoding.fill_mask(mask == False, -1)"
   ]
  },
  {
   "cell_type": "code",
   "execution_count": null,
   "id": "9cd27088-f2b1-4628-a648-bcbd8fe1064e",
   "metadata": {},
   "outputs": [],
   "source": [
    "embedding = nn.Embedding(\n",
    "    num_embeddings=10,\n",
    "    embedding_dim=5,\n",
    "    padding_idx=5\n",
    ")"
   ]
  },
  {
   "cell_type": "code",
   "execution_count": null,
   "id": "7cf30e90-7798-4164-992f-996113766f93",
   "metadata": {},
   "outputs": [],
   "source": [
    "import math"
   ]
  },
  {
   "cell_type": "code",
   "execution_count": null,
   "id": "a4015b90-c4f8-43f7-a926-9d59307a2abc",
   "metadata": {},
   "outputs": [],
   "source": [
    "class TextEmbedding(nn.Module):\n",
    "    def __init__(self, vocab_size, d_model, padding_idx):\n",
    "        super().__init__()\n",
    "        self.d_model = d_model\n",
    "        self.embed = nn.Embedding(\n",
    "            vocab_size, num_embeddings, padding_idx\n",
    "        )\n",
    "    \n",
    "    def forward(self, x):\n",
    "        embeddings = self.embed(x)\n",
    "        return embeddings * math.sqrt(self.d_model)"
   ]
  },
  {
   "cell_type": "code",
   "execution_count": null,
   "id": "513b33c3-68c0-4e35-8ba2-67476ba93eb5",
   "metadata": {},
   "outputs": [],
   "source": [
    "train_mean, train_var = x_train.mean(), x_train.var()"
   ]
  },
  {
   "cell_type": "code",
   "execution_count": null,
   "id": "69004c5d-16cf-4c03-b05d-52d27f4ef0f9",
   "metadata": {},
   "outputs": [],
   "source": [
    "def normalize(data, mean, var):\n",
    "    return data - mean)"
   ]
  },
  {
   "cell_type": "code",
   "execution_count": null,
   "id": "cac8a77f-6d11-4199-a8f7-05f83e26236c",
   "metadata": {},
   "outputs": [
    {
     "ename": "NameError",
     "evalue": "name 'sm_pred' is not defined",
     "output_type": "error",
     "traceback": [
      "\u001b[0;31m---------------------------------------------------------------------------\u001b[0m",
      "\u001b[0;31mNameError\u001b[0m                                 Traceback (most recent call last)",
      "Cell \u001b[0;32mIn [8], line 1\u001b[0m\n\u001b[0;32m----> 1\u001b[0m \u001b[43msm_pred\u001b[49m[:, \u001b[38;5;241m3\u001b[39m]\n",
      "\u001b[0;31mNameError\u001b[0m: name 'sm_pred' is not defined"
     ]
    }
   ],
   "source": [
    "sm_pred[:, 3]"
   ]
  },
  {
   "cell_type": "code",
   "execution_count": null,
   "id": "84df60c0-e661-4f19-9cbc-4d533b2a6c9e",
   "metadata": {},
   "outputs": [],
   "source": [
    "class LayerNorm(nn.Module):\n",
    "    def __init__(self, features, eps):\n",
    "        self.eps = eps\n",
    "        self.adds = nn.Parameter(torch.zeros(features))\n",
    "        self.mults = nn.Parameter(torch.ones(features))\n",
    "    \n",
    "    def forward(self, x):\n",
    "        mean, var = x.mean(), x.var()\n",
    "        \n",
    "        normalized = (x - mean) / (var + self.eps).sqrt()\n",
    "        \n",
    "        return normalized * self.mults + self.adds"
   ]
  },
  {
   "cell_type": "code",
   "execution_count": null,
   "id": "a0976486-83af-4ce1-8b11-269474890f48",
   "metadata": {},
   "outputs": [],
   "source": [
    "class ResidualBlock(nn.Module):\n",
    "    def __init__(self, in_channels, out_channels, stride, downsample):\n",
    "        super().__init__()\n",
    "        self.conv1 = nn.Conv2d(\n",
    "            in_channels, out_channels,\n",
    "            kernel_size=3, stride=stride, padding=1\n",
    "        )\n",
    "        self.bn1 = nn.BatchNorm2d(out_channels)\n",
    "        self.act1 = nn.ReLU()\n",
    "        self.conv2 = nn.Conv2d(\n",
    "            out_channels, out_channels,\n",
    "            kernel_size=3, stride=1, padding=1\n",
    "        )\n",
    "        self.bn2 = nn.BatchNorm2d(out_channels)\n",
    "        self.act2 = nn.ReLU()\n",
    "        self.downsample = downsample\n",
    "    \n",
    "    def forward(self, x):\n",
    "        residual = self.downsample(x)\n",
    "        \n",
    "        out = self.act1(self.bn1(self.conv1(x)))\n",
    "        out = self.bn2(self.conv2(out))\n",
    "        \n",
    "        out += residual\n",
    "        \n",
    "        return self.act2(out)"
   ]
  },
  {
   "cell_type": "code",
   "execution_count": null,
   "id": "7ddd9217-a743-4b5e-9040-183970a9f077",
   "metadata": {},
   "outputs": [],
   "source": [
    "6, 59, 59"
   ]
  },
  {
   "cell_type": "markdown",
   "id": "f5c4913c-763f-401f-8415-78ac9bfcf0de",
   "metadata": {},
   "source": [
    "### Reinforcement Learning"
   ]
  },
  {
   "cell_type": "code",
   "execution_count": null,
   "id": "391b318b-51b1-4eb3-b392-bc6c321f4d30",
   "metadata": {},
   "outputs": [],
   "source": [
    "import gym"
   ]
  },
  {
   "cell_type": "code",
   "execution_count": null,
   "id": "b322095c-52fa-4cec-897d-4a87dd622ede",
   "metadata": {},
   "outputs": [],
   "source": [
    "for i in range(10):\n",
    "    action = env.action_space.sample()\n",
    "    env.step(action)\n",
    "    \n",
    "    print()"
   ]
  },
  {
   "cell_type": "code",
   "execution_count": null,
   "id": "cee69a45-819a-4bc0-b503-ea3bd6c0f243",
   "metadata": {},
   "outputs": [],
   "source": [
    "klog(p) + (1-k)log(1-p)"
   ]
  },
  {
   "cell_type": "markdown",
   "id": "2037f443-f394-4c16-8e50-d96ac5ca9a00",
   "metadata": {},
   "source": [
    "### Python"
   ]
  },
  {
   "cell_type": "code",
   "execution_count": null,
   "id": "31cefcaa-60da-44e6-8747-d5733c5ca816",
   "metadata": {},
   "outputs": [],
   "source": [
    "class PhoneField:\n",
    "    def __get__(self, instance, owner):\n",
    "        return self.value\n",
    "    \n",
    "    def __set__(self, instance, value):\n",
    "        self.value = value"
   ]
  },
  {
   "cell_type": "code",
   "execution_count": null,
   "id": "aa646ca7-b5cb-4dba-9f9f-a6f2a365c384",
   "metadata": {},
   "outputs": [],
   "source": [
    "version: 0.01\n",
    "\n",
    "services:\n",
    "    mongodb:\n",
    "        image: mongo\n",
    "        ports:\n",
    "            - 27017:27017"
   ]
  },
  {
   "cell_type": "code",
   "execution_count": null,
   "id": "df55fb32-9524-4fa2-a402-4ba68799d992",
   "metadata": {},
   "outputs": [],
   "source": [
    "from functools import partial"
   ]
  },
  {
   "cell_type": "code",
   "execution_count": null,
   "id": "caf6ff80-6796-428f-b679-e7fa8e4de3fb",
   "metadata": {},
   "outputs": [],
   "source": [
    "f = partial(my_func, a=10, k1='a')"
   ]
  },
  {
   "cell_type": "code",
   "execution_count": null,
   "id": "64ca0659-1df2-498a-833b-fb18847b0051",
   "metadata": {},
   "outputs": [],
   "source": [
    "class Database:\n",
    "    instance = None\n",
    "    def __new__(cls):\n",
    "        if cls.instance == None:\n",
    "            cls.instance = super().__new__(cls)\n",
    "        \n",
    "        return cls.instance\n",
    "        \n",
    "    def __init__(self):\n",
    "        pass"
   ]
  },
  {
   "cell_type": "code",
   "execution_count": null,
   "id": "3222162c-34fb-4637-85ae-953e6b59f303",
   "metadata": {},
   "outputs": [],
   "source": [
    "a = Database()"
   ]
  },
  {
   "cell_type": "code",
   "execution_count": null,
   "id": "a2221c8d-ce40-4a66-8466-250e4480ec70",
   "metadata": {},
   "outputs": [],
   "source": [
    "b = Database()"
   ]
  },
  {
   "cell_type": "code",
   "execution_count": null,
   "id": "1cd95862-b709-4670-a661-89379ebdfc5f",
   "metadata": {},
   "outputs": [
    {
     "data": {
      "text/plain": [
       "True"
      ]
     },
     "execution_count": null,
     "metadata": {},
     "output_type": "execute_result"
    }
   ],
   "source": [
    "id(a) == id(b)"
   ]
  },
  {
   "cell_type": "code",
   "execution_count": null,
   "id": "87eed3d7-cac5-4072-a335-d3699923ab50",
   "metadata": {},
   "outputs": [],
   "source": [
    "class UserBuilder:\n",
    "    def __init__(self, name):\n",
    "        self.user = User(name)\n",
    "    \n",
    "    def setGender(self, gender):\n",
    "        self.user.gender = gender\n",
    "        return self"
   ]
  },
  {
   "cell_type": "code",
   "execution_count": null,
   "id": "7fa0649a-09f5-4742-b8e2-08b0f41fca28",
   "metadata": {},
   "outputs": [],
   "source": [
    "will have past"
   ]
  },
  {
   "cell_type": "code",
   "execution_count": null,
   "id": "f6e95210-789d-4ebf-91e7-50d2512e78eb",
   "metadata": {},
   "outputs": [],
   "source": [
    "was/were sub v_ing"
   ]
  }
 ],
 "metadata": {
  "kernelspec": {
   "display_name": "Python 3 (ipykernel)",
   "language": "python",
   "name": "python3"
  }
 },
 "nbformat": 4,
 "nbformat_minor": 5
}
