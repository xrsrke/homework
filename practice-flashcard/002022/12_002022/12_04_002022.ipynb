{
 "cells": [
  {
   "cell_type": "markdown",
   "id": "a162936b-6a07-40ee-ba28-5a4c506e6181",
   "metadata": {},
   "source": [
    "### Python"
   ]
  },
  {
   "cell_type": "code",
   "execution_count": null,
   "id": "31fcc6bd-c79e-40e9-8e19-4f284785bacb",
   "metadata": {},
   "outputs": [],
   "source": [
    "from dataclasses import dataclass"
   ]
  },
  {
   "cell_type": "code",
   "execution_count": null,
   "id": "5fee9605-e4d3-4d0c-8a23-7e454ddf7f65",
   "metadata": {},
   "outputs": [],
   "source": [
    "@dataclass\n",
    "class Vehicle:\n",
    "    year: int\n",
    "    price: int\n",
    "    manufacture: str"
   ]
  },
  {
   "cell_type": "code",
   "execution_count": null,
   "id": "9f5cbb7e-08d2-4fc6-8713-092a3b81ed08",
   "metadata": {},
   "outputs": [],
   "source": [
    "from typing import Any"
   ]
  },
  {
   "cell_type": "code",
   "execution_count": null,
   "id": "14ef85eb-cc4b-412f-a320-f78e7af070bb",
   "metadata": {},
   "outputs": [],
   "source": [
    "def hello(whatever: Any) -> str:\n",
    "    return f\"What\""
   ]
  },
  {
   "cell_type": "code",
   "execution_count": null,
   "id": "6624800f-5782-4fa5-9969-fe8b5eed29c6",
   "metadata": {},
   "outputs": [
    {
     "ename": "SyntaxError",
     "evalue": "incomplete input (1395462825.py, line 6)",
     "output_type": "error",
     "traceback": [
      "\u001b[0;36m  Cell \u001b[0;32mIn [7], line 6\u001b[0;36m\u001b[0m\n\u001b[0;31m    [ass\u001b[0m\n\u001b[0m        ^\u001b[0m\n\u001b[0;31mSyntaxError\u001b[0m\u001b[0;31m:\u001b[0m incomplete input\n"
     ]
    }
   ],
   "source": [
    "class Plant:\n",
    "    def __init__(self, name):\n",
    "        self.name = name\n",
    "    \n",
    "    def __format__(self, format_type):\n",
    "        [ass"
   ]
  },
  {
   "cell_type": "code",
   "execution_count": null,
   "id": "d8012b88-9eb9-434b-802f-bef831b24774",
   "metadata": {},
   "outputs": [],
   "source": [
    "from typing import Optional"
   ]
  },
  {
   "cell_type": "code",
   "execution_count": null,
   "id": "d174d322-7623-4efc-bf2b-0f24eb7a7bb7",
   "metadata": {},
   "outputs": [],
   "source": [
    "def create_a_paper(color: Optional[str]) -> str:\n",
    "    return color"
   ]
  },
  {
   "cell_type": "code",
   "execution_count": null,
   "id": "720ea5ad-3ae7-42c5-8b2b-dd894944b160",
   "metadata": {},
   "outputs": [],
   "source": [
    "from typing import NewType"
   ]
  },
  {
   "cell_type": "code",
   "execution_count": null,
   "id": "1637e5bf-9893-4980-862a-de405de5f496",
   "metadata": {},
   "outputs": [
    {
     "ename": "NameError",
     "evalue": "name 'HotDog' is not defined",
     "output_type": "error",
     "traceback": [
      "\u001b[0;31m---------------------------------------------------------------------------\u001b[0m",
      "\u001b[0;31mNameError\u001b[0m                                 Traceback (most recent call last)",
      "Cell \u001b[0;32mIn [13], line 1\u001b[0m\n\u001b[0;32m----> 1\u001b[0m ReadyToServeHotDog \u001b[38;5;241m=\u001b[39m NewType(\u001b[38;5;124m\"\u001b[39m\u001b[38;5;124mReadyToServeHotDog\u001b[39m\u001b[38;5;124m\"\u001b[39m, \u001b[43mHotDog\u001b[49m)\n",
      "\u001b[0;31mNameError\u001b[0m: name 'HotDog' is not defined"
     ]
    }
   ],
   "source": [
    "ReadyToServeHotDog = NewType(\"ReadyToServeHotDog\", HotDog)"
   ]
  },
  {
   "cell_type": "code",
   "execution_count": null,
   "id": "a58d5fa9-1dfe-47f7-aa25-0df38052249b",
   "metadata": {},
   "outputs": [],
   "source": [
    "def prepare_for_serving(hot_dog: HotDog) -> ReadyToServeHotDog:\n",
    "    "
   ]
  },
  {
   "cell_type": "code",
   "execution_count": null,
   "id": "0144ac70-bbb6-4ff3-a6d1-39128fe0609c",
   "metadata": {},
   "outputs": [],
   "source": [
    "from typing import Protocol"
   ]
  },
  {
   "cell_type": "code",
   "execution_count": null,
   "id": "db5fd2be-2234-4760-b7cd-418f4b4f3022",
   "metadata": {},
   "outputs": [],
   "source": [
    "class Splitable(Protocol):\n",
    "    name: str\n",
    "    def split_in_half(self): pass"
   ]
  },
  {
   "cell_type": "code",
   "execution_count": null,
   "id": "f0865bd3-3513-4c87-8bd7-c33f5893a62b",
   "metadata": {},
   "outputs": [],
   "source": []
  },
  {
   "cell_type": "markdown",
   "id": "f3fe5a4a-fc0d-4097-91df-14fea69e2232",
   "metadata": {},
   "source": [
    "### SymPy"
   ]
  },
  {
   "cell_type": "code",
   "execution_count": null,
   "id": "7e93eec7-a2c6-44c7-ad8b-7530444a7088",
   "metadata": {},
   "outputs": [],
   "source": [
    "import sympy as smp"
   ]
  },
  {
   "cell_type": "code",
   "execution_count": null,
   "id": "6fe6a98e-addf-4f74-ac88-a2a42140b551",
   "metadata": {},
   "outputs": [],
   "source": [
    "f.subs(x, 2).evalf()"
   ]
  },
  {
   "cell_type": "code",
   "execution_count": null,
   "id": "afc3d1bc-608c-4591-ae20-10c85dc52a3d",
   "metadata": {},
   "outputs": [],
   "source": [
    "class Box:\n",
    "    def __get__(self, ):"
   ]
  },
  {
   "cell_type": "markdown",
   "id": "4357a203-cfef-4928-9856-0fda739216a7",
   "metadata": {},
   "source": [
    "### Deep Learning"
   ]
  },
  {
   "cell_type": "code",
   "execution_count": null,
   "id": "0560fa73-6746-411f-a08c-f66c3c75fee3",
   "metadata": {},
   "outputs": [],
   "source": [
    "from torch import nn"
   ]
  },
  {
   "cell_type": "code",
   "execution_count": null,
   "id": "c76eeae2-b6d1-4a3e-9c02-2164b17803e8",
   "metadata": {},
   "outputs": [],
   "source": [
    "conv, batcn norm , linear, pool"
   ]
  },
  {
   "cell_type": "code",
   "execution_count": null,
   "id": "1b7a7847-8b77-4e46-b4ea-d81751f88070",
   "metadata": {},
   "outputs": [],
   "source": [
    "cell state, hidden state, input at timestep"
   ]
  },
  {
   "cell_type": "code",
   "execution_count": null,
   "id": "584c15b3-7169-444f-9f46-28bd9dcaaceb",
   "metadata": {},
   "outputs": [],
   "source": [
    "(n, 32, height, width)"
   ]
  },
  {
   "cell_type": "code",
   "execution_count": null,
   "id": "f2cb2970-bfb8-4c2b-9573-39ba475bf0a2",
   "metadata": {},
   "outputs": [],
   "source": [
    "import torchvision"
   ]
  },
  {
   "cell_type": "code",
   "execution_count": null,
   "id": "d731c70c-c7a3-4ee6-af7d-25326c917af6",
   "metadata": {},
   "outputs": [],
   "source": [
    "for param in model.parameters():\n",
    "    param.requires_grad = False"
   ]
  },
  {
   "cell_type": "code",
   "execution_count": null,
   "id": "13a443b6-f5dd-4bd0-b4d0-f4037750a6a1",
   "metadata": {},
   "outputs": [],
   "source": [
    "model['classifier'][0].requires_grad = False\n",
    "model['classifier'][3].requires_grad = False"
   ]
  },
  {
   "cell_type": "code",
   "execution_count": null,
   "id": "deaf12ee-a3a1-42a8-a87f-6fddd8af136c",
   "metadata": {},
   "outputs": [],
   "source": [
    "model['classifier'][6] = nn.Linear(4096, 10)"
   ]
  },
  {
   "cell_type": "code",
   "execution_count": null,
   "id": "81471caf-3f42-48d9-a0c2-6ccbc3afd31c",
   "metadata": {},
   "outputs": [],
   "source": [
    "import pickle"
   ]
  },
  {
   "cell_type": "code",
   "execution_count": null,
   "id": "c6fe5a4f-1ec4-4f29-9312-aa2645581b59",
   "metadata": {},
   "outputs": [],
   "source": [
    "pickle.dump(open('x.pkl'), x)"
   ]
  },
  {
   "cell_type": "code",
   "execution_count": null,
   "id": "607fff6c-d691-4ae2-9092-50914c8f47a7",
   "metadata": {},
   "outputs": [],
   "source": [
    "class LayerNorm(nn.Module):\n",
    "    def __init__(self, features, eps):\n",
    "        super().__init__()\n",
    "    \n",
    "    def forward(self, x):\n",
    "        mean = x.mean(-1, keepdim=True)\n",
    "        var = x.var(-1, keepdim=True)\n",
    "        \n",
    "        x = (x-mean()) / ((var+self.eps).sqrt())\n",
    "        \n",
    "        return "
   ]
  },
  {
   "cell_type": "code",
   "execution_count": null,
   "id": "cf323ba1-2af3-4620-b7d8-d9f48382748d",
   "metadata": {},
   "outputs": [],
   "source": [
    "def frobenius_norm(x):\n",
    "    return (x*x).sum().sqrt()"
   ]
  },
  {
   "cell_type": "code",
   "execution_count": null,
   "id": "2b117192-faf2-4f9e-8c1e-2cf56f3664fd",
   "metadata": {},
   "outputs": [],
   "source": [
    "def zero_grad(model):\n",
    "    for layer in model.layers:\n",
    "        if hasattr(layer, weight):\n",
    "            layer.weight.data.zero_()"
   ]
  },
  {
   "cell_type": "code",
   "execution_count": null,
   "id": "be1e3349-131e-4868-9975-12ab20c818be",
   "metadata": {},
   "outputs": [],
   "source": [
    "nn.Flatten(start_dim=1, end_dim=3)"
   ]
  },
  {
   "cell_type": "code",
   "execution_count": null,
   "id": "3d863f0c-7a87-48b5-b17a-fc9cda701f18",
   "metadata": {},
   "outputs": [],
   "source": [
    "(small_part * filter1).sum() + (small_part * filter2).sum()"
   ]
  },
  {
   "cell_type": "code",
   "execution_count": null,
   "id": "632a2ae9-5381-4ec4-9d7e-7761108b09a3",
   "metadata": {},
   "outputs": [],
   "source": [
    "def word_tokenizier(x):\n",
    "    return x.split(' ')"
   ]
  },
  {
   "cell_type": "code",
   "execution_count": null,
   "id": "850f9255-acd0-4828-b334-5f8b863f2e2e",
   "metadata": {},
   "outputs": [],
   "source": [
    "def split_dataset(x, percent):\n",
    "    cut = round(len(x) * percent)\n",
    "    return x[:cut], x[cut:]"
   ]
  },
  {
   "cell_type": "code",
   "execution_count": null,
   "id": "0627d7b5-2f66-47e1-aee9-ed3a7e20fb2f",
   "metadata": {},
   "outputs": [],
   "source": [
    "def embedding_matrix(a, b):\n",
    "    return torch.randn(a, b)"
   ]
  },
  {
   "cell_type": "code",
   "execution_count": null,
   "id": "8ecc510e-6283-453e-b45b-b9eae9a4f3a2",
   "metadata": {},
   "outputs": [],
   "source": [
    "class LayerNorm(nn.Module):\n",
    "    def __init__(self, features, eps):\n",
    "        self.eps = eps\n",
    "        self.mults = nn.Parameter(features)\n",
    "        self.adds = nn.Parameter(features)\n",
    "    \n",
    "    def forward(self, x):\n",
    "        mean, var = x.mean(-1, keepdim=True), x.var()\n",
    "        \n",
    "        x = (x-mean) / (var + self.eps).sqrt()\n",
    "        \n",
    "        return x * self.mults + x.adds"
   ]
  },
  {
   "cell_type": "code",
   "execution_count": null,
   "id": "0f87c159-fa7f-4cc1-910a-827a0748c674",
   "metadata": {},
   "outputs": [],
   "source": [
    "class ResidualBlock(nn.Module):\n",
    "    def __init__(self, in_channels, out_channels, stride, downsample):\n",
    "        super().__init__()\n",
    "        self.conv1 = nn.Conv2d(in_channels, out_channels, stride=stride, padding=1)\n",
    "        self.bn1 = nn.BatchNorm2d(out_channels)\n",
    "        self.act1 = nn.ReLU()\n",
    "        self.conv2 = nn.Conv2d(out_channels, out_channels, stride=stride, padding=1)\n",
    "        self.bn2 = nn.BatchNorm2d(out_channels)\n",
    "        \n",
    "        if stride != 1 or in_channels != out_channels:\n",
    "            self.downsample = downsample\n",
    "        else:\n",
    "            self.downsample = nn.Identity()\n",
    "        \n",
    "        self.act2 = nn.ReLU()\n",
    "    \n",
    "    def forward(self, x):\n",
    "        residual = self.downsample(x)\n",
    "        \n",
    "        out = self.act1(self.bn1(self.conv1(x)))\n",
    "        out = self.bn2(self.bn2(self.conv2(out)))\n",
    "        \n",
    "        out += residual\n",
    "        \n",
    "        return self.act2(out)"
   ]
  },
  {
   "cell_type": "code",
   "execution_count": null,
   "id": "835960f3-8f2b-4c1c-81ee-eccf1ea02835",
   "metadata": {},
   "outputs": [],
   "source": [
    "def sigmoid(x):\n",
    "    return 1 / 1 + -x.exp()"
   ]
  },
  {
   "cell_type": "code",
   "execution_count": null,
   "id": "d19cb1e6-652a-4ea5-8b82-11c1890ed1ab",
   "metadata": {},
   "outputs": [],
   "source": [
    "maximize likelihood = maximize log likelihood = minimize negative log likelihood"
   ]
  },
  {
   "cell_type": "code",
   "execution_count": null,
   "id": "6689c4d1-f405-44d1-aed5-3721299218ba",
   "metadata": {},
   "outputs": [],
   "source": [
    "will sub have + past"
   ]
  },
  {
   "cell_type": "code",
   "execution_count": null,
   "id": "6c5fa2cb-d489-4946-9b43-a4ec9c749b30",
   "metadata": {},
   "outputs": [],
   "source": [
    "had subject past"
   ]
  }
 ],
 "metadata": {
  "kernelspec": {
   "display_name": "Python 3 (ipykernel)",
   "language": "python",
   "name": "python3"
  }
 },
 "nbformat": 4,
 "nbformat_minor": 5
}
