{
 "cells": [
  {
   "cell_type": "markdown",
   "id": "8af6506c-b320-4dcb-b8a2-ec47eba162ec",
   "metadata": {},
   "source": [
    "### Python"
   ]
  },
  {
   "cell_type": "code",
   "execution_count": 1,
   "id": "74aea349-1562-4806-8870-067abeef0223",
   "metadata": {},
   "outputs": [],
   "source": [
    "import numpy as np"
   ]
  },
  {
   "cell_type": "code",
   "execution_count": null,
   "id": "3adfdd95-5f51-4b5c-bf3a-88c56a5508df",
   "metadata": {},
   "outputs": [],
   "source": [
    "np.where(x > 1, )"
   ]
  },
  {
   "cell_type": "code",
   "execution_count": 5,
   "id": "08ada3dc-89b5-4247-ae04-52910bf3db5d",
   "metadata": {},
   "outputs": [],
   "source": [
    "class PersonBuilder:\n",
    "    def __init__(self):\n",
    "        self.person = Person()\n",
    "    \n",
    "    @property\n",
    "    def lives(self):\n",
    "        return PersonAddressBuilder(self.person)\n",
    "    \n",
    "    @property\n",
    "    def works(self):\n",
    "        return PersonAddressBuilder(self.person)"
   ]
  },
  {
   "cell_type": "code",
   "execution_count": 6,
   "id": "9a4aee9a-8d20-45ee-a807-db3f079ac365",
   "metadata": {},
   "outputs": [],
   "source": [
    "class PersonAddressBuilder(PersonBuilder):\n",
    "    def __init__(self, person):\n",
    "        self.person = person\n",
    "    \n",
    "    def with_postcode(self, postcode):\n",
    "        self.person.postcode = postcode\n",
    "        return self"
   ]
  },
  {
   "cell_type": "code",
   "execution_count": 10,
   "id": "9b8fc1cd-863d-45e9-bd5b-e8b92fb61452",
   "metadata": {},
   "outputs": [],
   "source": [
    "from abc import ABC, abstractclassmethod"
   ]
  },
  {
   "cell_type": "code",
   "execution_count": 7,
   "id": "27a04c57-25cf-4ca4-b34a-42ba839dca81",
   "metadata": {},
   "outputs": [],
   "source": [
    "class WashingMachine:\n",
    "    def __init__(self):\n",
    "        self.current_state = \"idle\"\n",
    "    \n",
    "    def execute_event(self):\n",
    "        pass"
   ]
  },
  {
   "cell_type": "code",
   "execution_count": 26,
   "id": "15e3f05c-d059-4538-97ac-9353cacd9e3a",
   "metadata": {},
   "outputs": [],
   "source": [
    "class Clock:\n",
    "    def __init__(self):\n",
    "        self.time = \"time\"\n",
    "    \n",
    "    def tick(self):\n",
    "        self.time = \"time\""
   ]
  },
  {
   "cell_type": "code",
   "execution_count": 27,
   "id": "50a55516-e78e-4d5c-95ca-c56e7d2210c0",
   "metadata": {},
   "outputs": [],
   "source": [
    "class Observer:\n",
    "    @abstractclassmethod\n",
    "    def activate(self): pass"
   ]
  },
  {
   "cell_type": "code",
   "execution_count": 35,
   "id": "68c0b7fd-c2ba-4473-98c5-e53dca91dacb",
   "metadata": {},
   "outputs": [],
   "source": [
    "class ObservableObject:\n",
    "    def __init__(self):\n",
    "        self.observers = []\n",
    "    \n",
    "    def register(self, observer):\n",
    "        self.observers.append(observer)\n",
    "    \n",
    "    def update(self, data):\n",
    "        for observer in self.observers:\n",
    "            observer.activate(data)"
   ]
  },
  {
   "cell_type": "code",
   "execution_count": 36,
   "id": "40671e87-e26f-4ceb-b386-06a66c59280d",
   "metadata": {},
   "outputs": [],
   "source": [
    "class ObservableClock(ObservableObject, Clock):\n",
    "    def __init__(self):\n",
    "        ObservableObject.__init__(self)\n",
    "        Clock.__init__(self)\n",
    "    \n",
    "    def tick(self):\n",
    "        super().tick()\n",
    "        self.update(self.time)"
   ]
  },
  {
   "cell_type": "code",
   "execution_count": 37,
   "id": "3bd71225-689a-463a-bac8-689215f6f425",
   "metadata": {},
   "outputs": [],
   "source": [
    "class RealTimeDisplay(Observer):\n",
    "    def activate(self, data):\n",
    "        self.show_time(data)\n",
    "\n",
    "    def show_time(self, time):\n",
    "        print(f\"time: {time}\")"
   ]
  },
  {
   "cell_type": "code",
   "execution_count": 38,
   "id": "b566ad4b-7c15-4fa4-8d08-2f3052fa9739",
   "metadata": {},
   "outputs": [],
   "source": [
    "clock = ObservableClock()"
   ]
  },
  {
   "cell_type": "code",
   "execution_count": 39,
   "id": "a8849be0-c3ac-4c5a-91f9-467e93bc2452",
   "metadata": {},
   "outputs": [],
   "source": [
    "display = RealTimeDisplay()"
   ]
  },
  {
   "cell_type": "code",
   "execution_count": 40,
   "id": "a99fa345-3ef9-4573-ac7e-37438ee022f0",
   "metadata": {},
   "outputs": [],
   "source": [
    "clock.register(display)"
   ]
  },
  {
   "cell_type": "code",
   "execution_count": 41,
   "id": "cafb80d0-f0c9-4c28-ac85-edb72293b28a",
   "metadata": {},
   "outputs": [
    {
     "name": "stdout",
     "output_type": "stream",
     "text": [
      "time: time\n"
     ]
    }
   ],
   "source": [
    "clock.tick()"
   ]
  },
  {
   "cell_type": "markdown",
   "id": "ccbc652a-8784-45b7-a9c1-73ed70d3207e",
   "metadata": {},
   "source": [
    "### bash"
   ]
  },
  {
   "cell_type": "code",
   "execution_count": null,
   "id": "6b72b61c-c67c-460c-8e10-fbc4a9e1a4ae",
   "metadata": {},
   "outputs": [],
   "source": [
    "#!/bin/bash\n",
    "\n",
    "conda activate tinypytorch\n",
    "python3 --version"
   ]
  },
  {
   "cell_type": "code",
   "execution_count": null,
   "id": "bb6db7f2-b90e-4aad-862b-10f8600543e7",
   "metadata": {},
   "outputs": [],
   "source": [
    "if [[X == Y]]; then\n",
    "    # code\n",
    "elif [[ X == Z]]; then\n",
    "    # code\n",
    "else\n",
    "    # code\n",
    "fi"
   ]
  },
  {
   "cell_type": "markdown",
   "id": "341b7505-7e2c-4246-80e5-d4f176140423",
   "metadata": {},
   "source": [
    "### Docker"
   ]
  },
  {
   "cell_type": "code",
   "execution_count": null,
   "id": "d1da88ce-9d10-4493-b508-1d06342749be",
   "metadata": {},
   "outputs": [],
   "source": [
    "version: 0.01\n",
    "\n",
    "services:\n",
    "    mongodb:\n",
    "        image: mongo\n",
    "        ports:\n",
    "            - 27017:27017"
   ]
  },
  {
   "cell_type": "markdown",
   "id": "2b4e767e-9d20-4a1a-b44f-a6e3d97b8c57",
   "metadata": {},
   "source": [
    "### SQL"
   ]
  },
  {
   "cell_type": "markdown",
   "id": "ea0488ef-9af7-49da-815b-812075a6e006",
   "metadata": {},
   "source": [
    "SELECT a.name, b.name FROM members as a INNER JOIN members as b ON a.supervisor_id = b.id"
   ]
  },
  {
   "cell_type": "code",
   "execution_count": null,
   "id": "3d358f9f-610f-423c-8359-b7a339f91016",
   "metadata": {},
   "outputs": [],
   "source": [
    "FROM WHERE SELECT"
   ]
  },
  {
   "cell_type": "markdown",
   "id": "db94b8a9-4a6e-4df6-a6e9-a346ca35b33e",
   "metadata": {},
   "source": [
    "SELECT users.name, likes.like FROM users INNER JOIN likes ON users.id == likes.user_id"
   ]
  },
  {
   "cell_type": "markdown",
   "id": "b5fc0620-cfe2-4d5f-8ac4-d5efa22f8f8b",
   "metadata": {},
   "source": [
    "### Deep Learning"
   ]
  },
  {
   "cell_type": "code",
   "execution_count": null,
   "id": "7944aa37-7063-4591-ab7c-d1877ea2980b",
   "metadata": {},
   "outputs": [],
   "source": [
    "maximize log likelihood = minimize negative log likelihood"
   ]
  },
  {
   "cell_type": "code",
   "execution_count": null,
   "id": "1decb68d-cd02-48b3-aa74-3f2c89b9a72d",
   "metadata": {},
   "outputs": [],
   "source": [
    "def store_activation(layer, inp, out):\n",
    "    add_log(layer, out)"
   ]
  },
  {
   "cell_type": "code",
   "execution_count": null,
   "id": "18b4ed95-d115-4a7c-be87-9397a2aceda0",
   "metadata": {},
   "outputs": [],
   "source": [
    "def add_hook(model):\n",
    "    for layer in model.layers:\n",
    "        layer.register_forward_hook(store_activation)"
   ]
  },
  {
   "cell_type": "code",
   "execution_count": null,
   "id": "ff2d3a24-59c3-4c16-95b3-81478c0ba5a8",
   "metadata": {},
   "outputs": [],
   "source": [
    "def corelation(x, y):\n",
    "    return "
   ]
  },
  {
   "cell_type": "code",
   "execution_count": 42,
   "id": "b7b2f1d0-66f2-4518-87d6-d65230f4ff1f",
   "metadata": {},
   "outputs": [],
   "source": [
    "def mean_squared_error(preds, targs):\n",
    "    loss = 0\n",
    "    for pred, targ in zip(preds, targs):\n",
    "        loss += (pred - targ)**2\n",
    "    \n",
    "    return loss"
   ]
  },
  {
   "cell_type": "code",
   "execution_count": null,
   "id": "746d3efa-c51f-45ea-b3c1-a568b4e3e00f",
   "metadata": {},
   "outputs": [],
   "source": [
    "new_state, reward, done, truncated, info"
   ]
  },
  {
   "cell_type": "code",
   "execution_count": 1,
   "id": "9dd7cbc6-b55f-4316-ba06-2605693d43ae",
   "metadata": {},
   "outputs": [],
   "source": [
    "import torch\n",
    "from torch import nn\n",
    "import torch.nn.functional as F"
   ]
  },
  {
   "cell_type": "code",
   "execution_count": 48,
   "id": "d9b2a642-77b4-430e-bfb4-cff36de1ca8c",
   "metadata": {},
   "outputs": [],
   "source": [
    "class MultiHeadAttention(nn.Module):\n",
    "    def __init__(self, attention, d_model, n_heads):\n",
    "        super().__init__()\n",
    "        self.attention = attention\n",
    "        self.d_model = d_model\n",
    "        self.n_heads = n_heads\n",
    "        \n",
    "        self.d_head = d_model // n_heads\n",
    "        \n",
    "        self.to_q = nn.Linear(d_model, self.d_head * n_heads)\n",
    "        self.to_k = nn.Linear(d_model, self.d_head * n_heads)\n",
    "        self.to_v = nn.Linear(d_model, self.d_head * n_heads)\n",
    "        \n",
    "        self.mha_linear = nn.Linear(self.d_head * n_heads, d_model)\n",
    "    \n",
    "    def split_heads(self, x):\n",
    "        batch_size, seq_len, d_model = x.size()\n",
    "        return x.view(batch_size, self.n_heads, seq_len, d_model)\n",
    "    \n",
    "    def concat(self, x):\n",
    "        batch_size, n_heads, seq_len, d_model = x.size()\n",
    "        return x.view(batch_size, seq_len, n_heads * d_model)\n",
    "    \n",
    "    def forward(self, pre_q, pre_k, pre_v):\n",
    "        q, k, v = self.to_q(pre_q), self.to_k(pre_k), self.to_v(prev_v)\n",
    "        q, k, v = self.split_heads(q), self.split_heads(k), self.split_heads(v)\n",
    "        \n",
    "        attention_output, attention_weights = self.attention(q, k, v)\n",
    "        \n",
    "        attention_output = self.concat(attention_output)\n",
    "        output = self.mha_linear(attention_output)\n",
    "        \n",
    "        return output, attention_weights"
   ]
  },
  {
   "cell_type": "markdown",
   "id": "0fecab9c-7f19-4c57-86ef-0282ca2846ac",
   "metadata": {},
   "source": [
    "### RL"
   ]
  },
  {
   "cell_type": "code",
   "execution_count": null,
   "id": "ceb04355-7b33-4dba-aeb8-1a149eb3a216",
   "metadata": {},
   "outputs": [],
   "source": [
    "for episode in range(N_EPISODES):\n",
    "    state, _ = env.reset()\n",
    "    state = torch.from_numpy(state)\n",
    "    \n",
    "    in_progress = False\n",
    "    \n",
    "    while in_progress:\n",
    "        pred_reward = model(state)\n",
    "        action = torch.argmax(pred_reward, dim=-1).item()\n",
    "        \n",
    "        next_state, reward, done, truncated, info = env.step(action)\n",
    "        next_state = torch.from_numpy(next_state)\n",
    "        \n",
    "        if done:\n",
    "            target_reward = reward\n",
    "        else:\n",
    "            state = next_state\n",
    "            with torch.no_grad():\n",
    "                pred_next_reward = model(next_state)\n",
    "                max_pred_next_reward = torch.max(pred_next_reward, dim=-1)\n",
    "                target_reward = reward + GAMMA * max_pred_next_reward\n",
    "            \n",
    "        loss = loss_func(pred_reward[action], target_reward)\n",
    "        optim.zero_grad()\n",
    "        loss.backward()\n",
    "        optim.step()\n",
    "        \n",
    "        if done: break"
   ]
  },
  {
   "cell_type": "code",
   "execution_count": 49,
   "id": "df01a3bf-daac-436c-8e24-90dc692e36c8",
   "metadata": {},
   "outputs": [],
   "source": [
    "import math"
   ]
  },
  {
   "cell_type": "code",
   "execution_count": 50,
   "id": "8174b4ea-8d5f-427f-a607-91aa829f1b2e",
   "metadata": {},
   "outputs": [],
   "source": [
    "class SelfAttention(nn.Module):\n",
    "    def __init__(self, d_head):\n",
    "        super().__init__()\n",
    "        self.d_head = d_head\n",
    "    \n",
    "    def forward(self, q, k, v):\n",
    "        k_permuted = k.permute(3, 2)\n",
    "        qk_matmul = torch.matmul(q, k)\n",
    "        scores = qk_matmul / math.sqrt(self.d_head)\n",
    "        attention_weights = F.softmax(scores, dim=-1)\n",
    "        output = torch.matmul(attention_weights, v)\n",
    "        \n",
    "        return output, attention_weights"
   ]
  },
  {
   "cell_type": "code",
   "execution_count": 2,
   "id": "fd36fe0e-4c54-42d7-a769-e6a899bd38d1",
   "metadata": {},
   "outputs": [],
   "source": [
    "class LayerNorm(nn.Module):\n",
    "    def __init__(self, features, eps):\n",
    "        super().__init__()\n",
    "        self.eps = eps\n",
    "        self.adds = nn.Parameter(torch.zeros(features))\n",
    "        self.mults = nn.Parameter(torch.ones(features))\n",
    "    \n",
    "    def forward(self, x):\n",
    "        mean, var = x.mean(dim=-1, keepdim=True), x.var(dim=-1, keepdim=True)\n",
    "        \n",
    "        # normalized\n",
    "        x = (x - mean) / (var + self.eps).sqrt()\n",
    "        \n",
    "        # scaled and shifted\n",
    "        x = self.mults * x + self.adds\n",
    "        return x"
   ]
  },
  {
   "cell_type": "code",
   "execution_count": null,
   "id": "cc12a022-918a-4014-a93f-0d65b673840b",
   "metadata": {},
   "outputs": [],
   "source": [
    "discounted_returns = discounted_return_at_each_timestep(rewards)"
   ]
  },
  {
   "cell_type": "code",
   "execution_count": null,
   "id": "17f2c827-41b0-4e86-957c-bea0931ae6ea",
   "metadata": {},
   "outputs": [],
   "source": [
    "total_loss = 0"
   ]
  },
  {
   "cell_type": "code",
   "execution_count": null,
   "id": "1156a396-a915-478c-88af-6beaa5d31ea0",
   "metadata": {},
   "outputs": [],
   "source": [
    "for discount_return, prob in zip(discount_returns, select_action_probs):\n",
    "    total_loss += discount_return "
   ]
  },
  {
   "cell_type": "code",
   "execution_count": null,
   "id": "4de10086-1afa-44d0-b0f1-29242ea6b23a",
   "metadata": {},
   "outputs": [],
   "source": [
    "class LSTMCell(nn.Module):\n",
    "    def __init__(self, n_input, n_hidden):\n",
    "        super().__init__()\n",
    "        self.forget_gate = nn.Linear()\n",
    "        self.input_gate = nn.Linear()\n",
    "        self.cell_gate = nn.Linear()\n",
    "        self.output_gate = nn.Linear()\n",
    "    \n",
    "    def forward(self, x):\n",
    "        output_of_forget_gate = "
   ]
  },
  {
   "cell_type": "code",
   "execution_count": 3,
   "id": "82cbfa44-0c03-4e84-a6e1-920e59f7d634",
   "metadata": {},
   "outputs": [],
   "source": [
    "class PositionalEncoding(nn.Module):\n",
    "    def __init__(self, n, d_model):\n",
    "        super().__init__()\n",
    "        self.n = n\n",
    "        self.d_model = d_model\n",
    "    \n",
    "    def __call__(self, tokens):\n",
    "        seq_len = len(tokens)\n",
    "        embeddings = torch.zeros(seq_len, self.d_model)\n",
    "        \n",
    "        for p in range(seq_len):\n",
    "            for i in range(self.d_model):\n",
    "                denominator = torch.pow(self.n, (2*i)/self.d_model)\n",
    "                embeddings[p][i] = torch.sin(p / denominator) if i % 2 == 0 else torch.cos(p / denominator)\n",
    "        \n",
    "        return embeddings"
   ]
  },
  {
   "cell_type": "code",
   "execution_count": 4,
   "id": "cf6dd688-9b15-402e-836d-2570d9054831",
   "metadata": {},
   "outputs": [],
   "source": [
    "def calculate_discounted_return_each_timestep(rewards, discount_factor):\n",
    "    n_rewards = len(rewards)\n",
    "    discounted_returns = torch.zeros(n_rewards)\n",
    "    \n",
    "    for i in range(n_rewards):\n",
    "        discounted_return = 0\n",
    "        \n",
    "        for k, reward in enumerate(rewards[i:]):\n",
    "            discounted_return += (discount_factor ** k) * reward\n",
    "        \n",
    "        discounted_returns[i] = discounted_return\n",
    "    \n",
    "    return discounted_returns"
   ]
  },
  {
   "cell_type": "code",
   "execution_count": 5,
   "id": "a8fcfe9f-1353-4f41-b094-834a913ff368",
   "metadata": {},
   "outputs": [],
   "source": [
    "rewards = torch.tensor([1, 2, 3, 4, 5])"
   ]
  },
  {
   "cell_type": "code",
   "execution_count": 6,
   "id": "7a013262-c8fb-48c5-a645-f8766a0f9c44",
   "metadata": {},
   "outputs": [
    {
     "data": {
      "text/plain": [
       "tensor([14.6045, 13.7419, 11.8605,  8.9500,  5.0000])"
      ]
     },
     "execution_count": 6,
     "metadata": {},
     "output_type": "execute_result"
    }
   ],
   "source": [
    "calculate_discounted_return_each_timestep(rewards, 0.99)"
   ]
  },
  {
   "cell_type": "code",
   "execution_count": 7,
   "id": "822f902e-4f64-40d1-865c-721f44b4e2e8",
   "metadata": {},
   "outputs": [],
   "source": [
    "class PositionWiseFeedForward(nn.Module):\n",
    "    def __init__(self, d_model, d_ff, dropout):\n",
    "        super().__init__()\n",
    "        self.layers = nn.Sequential(\n",
    "            nn.Linear(d_model, d_ff),\n",
    "            nn.ReLU(),\n",
    "            nn.Dropout(dropout),\n",
    "            nn.Linear(d_ff, d_model)\n",
    "        )\n",
    "    \n",
    "    def forward(self, x):\n",
    "        return self.layers(x)"
   ]
  },
  {
   "cell_type": "code",
   "execution_count": null,
   "id": "c17c6de0-8e58-4e55-9eed-05407449af06",
   "metadata": {},
   "outputs": [],
   "source": [
    "discounted_returns"
   ]
  },
  {
   "cell_type": "code",
   "execution_count": null,
   "id": "633f717f-1db7-43cd-842d-14730f62ce66",
   "metadata": {},
   "outputs": [],
   "source": [
    "total_loss = 0"
   ]
  },
  {
   "cell_type": "code",
   "execution_count": null,
   "id": "c113e287-fd65-4ff9-9838-1208e96ba4aa",
   "metadata": {},
   "outputs": [],
   "source": [
    "for discounted_return, prob in zip(discounted_returns, selected_action_prob):\n",
    "    total_loss += discounted_return * -prob.log()"
   ]
  },
  {
   "cell_type": "code",
   "execution_count": null,
   "id": "39add6e6-f0e9-4df2-92e0-274b60f89981",
   "metadata": {},
   "outputs": [],
   "source": [
    "loss = total_loss / len(rewards)"
   ]
  },
  {
   "cell_type": "code",
   "execution_count": null,
   "id": "6fe23585-3dd8-46cd-af71-a7d28adbf015",
   "metadata": {},
   "outputs": [],
   "source": [
    "embedding = nn.Embedding(10, 5, 5)"
   ]
  }
 ],
 "metadata": {
  "kernelspec": {
   "display_name": "Python 3 (ipykernel)",
   "language": "python",
   "name": "python3"
  },
  "language_info": {
   "codemirror_mode": {
    "name": "ipython",
    "version": 3
   },
   "file_extension": ".py",
   "mimetype": "text/x-python",
   "name": "python",
   "nbconvert_exporter": "python",
   "pygments_lexer": "ipython3",
   "version": "3.8.15"
  }
 },
 "nbformat": 4,
 "nbformat_minor": 5
}
