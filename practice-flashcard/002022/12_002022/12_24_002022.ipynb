{
 "cells": [
  {
   "cell_type": "markdown",
   "id": "bfc19689-b080-4ecd-aaac-18d30c191023",
   "metadata": {},
   "source": [
    "### Python"
   ]
  },
  {
   "cell_type": "code",
   "execution_count": null,
   "id": "65b77a09-95af-4ce0-81d0-2201d3c6f049",
   "metadata": {},
   "outputs": [],
   "source": [
    "x[4, :]"
   ]
  },
  {
   "cell_type": "code",
   "execution_count": 1,
   "id": "6c242345-074e-4e4c-9fcc-3ae93a7fc144",
   "metadata": {},
   "outputs": [],
   "source": [
    "from typing import TypeVar"
   ]
  },
  {
   "cell_type": "code",
   "execution_count": 2,
   "id": "e8ecb8c8-e4a9-4a4c-92fa-a7bf434f61a3",
   "metadata": {},
   "outputs": [],
   "source": [
    "T = TypeVar(\"T\")"
   ]
  },
  {
   "cell_type": "code",
   "execution_count": null,
   "id": "d1a559d2-866f-43ec-9bd2-e2d33fd69533",
   "metadata": {},
   "outputs": [],
   "source": [
    "APIResponse = Union[T, APIError]"
   ]
  },
  {
   "cell_type": "code",
   "execution_count": 4,
   "id": "c0d2ea82-0b69-4c3d-bac3-3fda6acddb52",
   "metadata": {},
   "outputs": [],
   "source": [
    "class CreateModifier:\n",
    "    def __init__(self):\n",
    "        self.next_modifier = None\n",
    "    \n",
    "    def add_modifier(self, modifier):\n",
    "        if self.next_modifier is None:\n",
    "            self.next_modifier = modifier\n",
    "        else:\n",
    "            self.next_modifier.add_modifier(modifier)\n",
    "    \n",
    "    def handle(self):\n",
    "        if self.next_modifier is None: return\n",
    "        \n",
    "        return self.next_modifier.handle()"
   ]
  },
  {
   "cell_type": "code",
   "execution_count": 7,
   "id": "fb27a280-145c-4452-aafb-40f484ef3ed6",
   "metadata": {},
   "outputs": [],
   "source": [
    "class BankAccountDepositeCommand:\n",
    "    def __init__(self, account, amount):\n",
    "        self.account = account\n",
    "        self.amount = amount\n",
    "    \n",
    "    def invoke(self):\n",
    "        return self.account.deposite(amount)\n",
    "    \n",
    "    def undo(self):\n",
    "        return self.account.undo(amount)"
   ]
  },
  {
   "cell_type": "code",
   "execution_count": 9,
   "id": "43841901-5b4f-4343-838e-f1525de16a53",
   "metadata": {},
   "outputs": [],
   "source": [
    "from abc import ABC, abstractclassmethod"
   ]
  },
  {
   "cell_type": "code",
   "execution_count": 10,
   "id": "b598d9c1-a336-4754-b616-ab98c9d2a20e",
   "metadata": {},
   "outputs": [],
   "source": [
    "class Veicle(ABC):\n",
    "    @abstractclassmethod\n",
    "    def charge_battery(self): pass"
   ]
  },
  {
   "cell_type": "code",
   "execution_count": 11,
   "id": "cb46cd78-78ac-4841-a4bf-1176b9a7818c",
   "metadata": {},
   "outputs": [],
   "source": [
    "class FunnyDict(dict):\n",
    "    def __missing__(self):\n",
    "        return \"Not found\""
   ]
  },
  {
   "cell_type": "code",
   "execution_count": null,
   "id": "43b08d67-d03c-4d9e-9523-2ed0cb5fdd9b",
   "metadata": {},
   "outputs": [],
   "source": [
    "positions = [[0, 2, 3, 3], [2, 3, 1, 4]]"
   ]
  },
  {
   "cell_type": "code",
   "execution_count": null,
   "id": "334c5519-af68-40cf-9381-22c349c303e8",
   "metadata": {},
   "outputs": [],
   "source": [
    "class CarProxy:\n",
    "    def __init__(self, driver):\n",
    "        self.driver = driver\n",
    "    \n",
    "    def drive(self):\n",
    "        if self.driver.age < 16:\n",
    "            print(\"driver too young\")\n",
    "        else:\n",
    "            self.driver.drive()"
   ]
  },
  {
   "cell_type": "code",
   "execution_count": 13,
   "id": "ec324e9f-e08f-4a4a-a5da-279f37f3428c",
   "metadata": {},
   "outputs": [],
   "source": [
    "from typing import Tuple"
   ]
  },
  {
   "cell_type": "code",
   "execution_count": 12,
   "id": "84bc87bf-7b4b-417d-af74-91593e2a2347",
   "metadata": {},
   "outputs": [],
   "source": [
    "NumberOfServing = int"
   ]
  },
  {
   "cell_type": "code",
   "execution_count": 14,
   "id": "7799065a-7ad0-4405-af47-3c0c1365acd4",
   "metadata": {},
   "outputs": [],
   "source": [
    "Ingredient = Tuple[str, int, str]"
   ]
  },
  {
   "cell_type": "code",
   "execution_count": null,
   "id": "34b9dde4-05f2-46be-a044-d1bac41160c1",
   "metadata": {},
   "outputs": [],
   "source": [
    "Union[List[Ingredient]]"
   ]
  },
  {
   "cell_type": "code",
   "execution_count": null,
   "id": "c376eba4-f0bc-4564-b052-6cf49f6c73ff",
   "metadata": {},
   "outputs": [],
   "source": []
  },
  {
   "cell_type": "code",
   "execution_count": null,
   "id": "4fe229da-ced6-4c8a-989e-c1ca3ba2430b",
   "metadata": {},
   "outputs": [],
   "source": [
    "class Computer:\n",
    "    def __init__(self, components):\n",
    "        self.components = components\n",
    "    \n",
    "    def activate(self):\n",
    "        for component in self.components:\n",
    "            component.activate()"
   ]
  },
  {
   "cell_type": "markdown",
   "id": "3cf85717-0e23-43ac-bf01-8cc1fa77cf39",
   "metadata": {},
   "source": [
    "### Docker"
   ]
  },
  {
   "cell_type": "code",
   "execution_count": null,
   "id": "60e29aa5-7f6c-4211-a1e2-59db5f66c680",
   "metadata": {},
   "outputs": [],
   "source": [
    "docker run --name test_app redis"
   ]
  },
  {
   "cell_type": "code",
   "execution_count": null,
   "id": "c8eeb283-9c6d-4a2c-8606-d965ef80d599",
   "metadata": {},
   "outputs": [],
   "source": [
    "docker logs monitnor_app"
   ]
  },
  {
   "cell_type": "code",
   "execution_count": null,
   "id": "ab7520ba-cd06-4744-964f-f09c68d3d740",
   "metadata": {},
   "outputs": [],
   "source": [
    "docker build . "
   ]
  },
  {
   "cell_type": "code",
   "execution_count": null,
   "id": "084a97f7-aa87-4e04-a20b-885e0500997e",
   "metadata": {},
   "outputs": [],
   "source": [
    "docker run --network mongo-network mongo"
   ]
  },
  {
   "cell_type": "code",
   "execution_count": null,
   "id": "1acddaca-59bc-4606-a54e-02891818802f",
   "metadata": {},
   "outputs": [],
   "source": [
    "docke ps -a"
   ]
  },
  {
   "cell_type": "code",
   "execution_count": null,
   "id": "addf86da-76fb-430a-bf2d-6cc9a4c63973",
   "metadata": {},
   "outputs": [],
   "source": [
    "FROM node"
   ]
  },
  {
   "cell_type": "code",
   "execution_count": null,
   "id": "072b6749-a263-451f-aad6-2dc34a5221cc",
   "metadata": {},
   "outputs": [],
   "source": [
    "version: 0.01\n",
    "\n",
    "services:\n",
    "    mongodb:\n",
    "        image: mongo\n",
    "        ports:\n",
    "            - 27017:27017"
   ]
  },
  {
   "cell_type": "code",
   "execution_count": null,
   "id": "b998dd90-c7aa-4bfc-ab16-a06380e9ea22",
   "metadata": {
    "tags": []
   },
   "outputs": [],
   "source": [
    "name: Shivon\n",
    "job: Engineer\n",
    "company:\n",
    "    name: Neuralink"
   ]
  },
  {
   "cell_type": "code",
   "execution_count": null,
   "id": "42dc1589-3c67-48ed-a5e1-1b1b3c4b1389",
   "metadata": {},
   "outputs": [],
   "source": [
    "foundation:\n",
    "    - physics\n",
    "    - ai\n",
    "    - matsci\n",
    "    - nano"
   ]
  },
  {
   "cell_type": "code",
   "execution_count": null,
   "id": "631e5f44-4319-41cb-acfa-89652bb42d60",
   "metadata": {},
   "outputs": [],
   "source": [
    "name: integration test\n",
    "\n",
    "on: [push]\n",
    "\n",
    "jobs:\n",
    "    test-app:\n",
    "        runs-on: latest-ubuntu\n",
    "        "
   ]
  },
  {
   "cell_type": "markdown",
   "id": "4ac37631-f759-49f7-947a-110b5d4ccfb3",
   "metadata": {},
   "source": [
    "### SymPy"
   ]
  },
  {
   "cell_type": "code",
   "execution_count": null,
   "id": "6319c22b-89d4-4d64-afb9-893dfeb183ab",
   "metadata": {},
   "outputs": [],
   "source": [
    "import sympy as smp"
   ]
  },
  {
   "cell_type": "code",
   "execution_count": null,
   "id": "4f60d0be-d72f-40cf-b187-e775b8a73cb8",
   "metadata": {},
   "outputs": [],
   "source": [
    "expr_f = smp.lamdify(expr, [x, y])"
   ]
  },
  {
   "cell_type": "code",
   "execution_count": null,
   "id": "d1e11bd1-a1c2-45c7-acac-488fcf63cca7",
   "metadata": {},
   "outputs": [],
   "source": [
    "pd.Series(book_list, index=[])"
   ]
  },
  {
   "cell_type": "markdown",
   "id": "12dbd89a-2d89-4a42-96d9-f185995c9892",
   "metadata": {},
   "source": [
    "### Deep learning"
   ]
  },
  {
   "cell_type": "code",
   "execution_count": 16,
   "id": "643163ab-c7a3-4a8d-84bc-f8ba89f00156",
   "metadata": {},
   "outputs": [],
   "source": [
    "import torch"
   ]
  },
  {
   "cell_type": "code",
   "execution_count": null,
   "id": "140afb22-ce03-42cd-8ca1-8d0e3d51d350",
   "metadata": {},
   "outputs": [],
   "source": [
    "class SamplerDemo:\n",
    "    def __init__(self, ds, bs, shuffle):\n",
    "        self.ds = ds\n",
    "        self.bs = bs\n",
    "        self.shuffle = shuffle\n",
    "    \n",
    "    def __iter__(self):\n",
    "        idxs = torch.randperm(len(self.ds)) if shuffle == True else torch.arange(self.ds)\n",
    "        \n",
    "        for i in range(idxs, self.bs):\n",
    "            yield self.ds[i:i+self.bs]"
   ]
  },
  {
   "cell_type": "code",
   "execution_count": null,
   "id": "075a1c46-7e4a-45c3-97f7-d4ad21056671",
   "metadata": {},
   "outputs": [],
   "source": [
    "text encoder, image encoder, projection head"
   ]
  },
  {
   "cell_type": "code",
   "execution_count": 18,
   "id": "accff496-ee49-487e-8e32-cc3e51895d77",
   "metadata": {},
   "outputs": [],
   "source": [
    "from torch.utils.data import DataLoader, random_split, Dataset"
   ]
  },
  {
   "cell_type": "code",
   "execution_count": null,
   "id": "67a1bfff-3fa0-4841-8cda-8cbb551e79a1",
   "metadata": {},
   "outputs": [],
   "source": [
    "train_set, valid_set = random_split(dataset, [6, 4])"
   ]
  },
  {
   "cell_type": "code",
   "execution_count": null,
   "id": "9995c093-ffa1-4595-b31e-0aebfeadbeba",
   "metadata": {},
   "outputs": [],
   "source": [
    "train_loader = DataLoader(train_set, batch_size=2)\n",
    "valid_loader = DataLoader(valid_set, batch_size=2)"
   ]
  },
  {
   "cell_type": "code",
   "execution_count": 20,
   "id": "3ce3ed1f-0291-4aa1-ac68-0debf789eec2",
   "metadata": {},
   "outputs": [],
   "source": [
    "class PetDataset(Dataset):\n",
    "    def __init__(self, data):\n",
    "        self.data = data\n",
    "        \n",
    "    def __len__(self): return len(self.data)\n",
    "    \n",
    "    def __getitem__(self, idx):\n",
    "        title = self.data[idx]['title']\n",
    "        year_published = self.data[idx]['year_published']\n",
    "        \n",
    "        return (title, year_published)"
   ]
  },
  {
   "cell_type": "code",
   "execution_count": 22,
   "id": "f276976d-0f9a-4a84-bc9c-12d5dca7ea30",
   "metadata": {},
   "outputs": [],
   "source": [
    "from torch import nn"
   ]
  },
  {
   "cell_type": "code",
   "execution_count": 23,
   "id": "46ba5cc4-39fb-4d1f-8b5e-47f7c3889fe2",
   "metadata": {},
   "outputs": [],
   "source": [
    "class Net(nn.Module):\n",
    "    def __init__(self):\n",
    "        super().__init__()\n",
    "        self.layers = nn.Sequential(\n",
    "            nn.Linear(2, 1),\n",
    "            nn.ReLU(),\n",
    "            nn.Linear(1, 1),\n",
    "            nn.Sigmoid()\n",
    "        )\n",
    "    \n",
    "    def forward(self, x):\n",
    "        return self.layers(x)"
   ]
  },
  {
   "cell_type": "code",
   "execution_count": 24,
   "id": "374de959-1f12-4253-8595-848e37f31e4c",
   "metadata": {},
   "outputs": [],
   "source": [
    "import torch.nn.functional as F"
   ]
  },
  {
   "cell_type": "code",
   "execution_count": 25,
   "id": "7b3b2268-1edf-40f0-98a1-6b7f0be4ea64",
   "metadata": {},
   "outputs": [],
   "source": [
    "def probability_scores(image_embedding, text_embedding):\n",
    "    image_embedding_norm = image_embedding.norm(dim=-1)\n",
    "    text_embedding_norm = text_embedding.norm(dim=-1)\n",
    "    \n",
    "    image_embedding = image_embedding / image_embedding_norm\n",
    "    text_embedding = text_embedding / text_embedding_norm\n",
    "    \n",
    "    scores = image_embedding @ text_embedding.T\n",
    "    \n",
    "    probs = F.softmax(scores, dim=-1)\n",
    "    return probs"
   ]
  },
  {
   "cell_type": "code",
   "execution_count": 26,
   "id": "0ce7abf0-0a24-4189-9b2f-cae7484298cc",
   "metadata": {},
   "outputs": [],
   "source": [
    "from torch.distributions import Categorical"
   ]
  },
  {
   "cell_type": "code",
   "execution_count": null,
   "id": "0a7ea1da-81c2-4d4b-b649-3106e9be3ff3",
   "metadata": {},
   "outputs": [],
   "source": [
    "cat = Categorical(probs=pmf)"
   ]
  },
  {
   "cell_type": "code",
   "execution_count": null,
   "id": "f7b6ac33-df9a-48a7-81aa-acd42ff86cb4",
   "metadata": {},
   "outputs": [],
   "source": [
    "samples = cat.sample(10)"
   ]
  },
  {
   "cell_type": "code",
   "execution_count": null,
   "id": "2972385e-e934-4cfb-9814-107cfa31ac8c",
   "metadata": {},
   "outputs": [],
   "source": [
    "class BottleneckResidualBlock(nn.Module):\n",
    "    def __init__(self, in_channels, bottleneck_channels, out_channels, stride):\n",
    "        super().__init__()\n",
    "        self.conv1"
   ]
  },
  {
   "cell_type": "code",
   "execution_count": null,
   "id": "e51cae8f-53d8-4a64-8b8d-6df6b6ffe0d4",
   "metadata": {},
   "outputs": [],
   "source": [
    "def covariance(x, y):\n",
    "    return (x-x.mean())(y-y.mean()).mean()"
   ]
  },
  {
   "cell_type": "code",
   "execution_count": null,
   "id": "e8264e24-4313-4362-affa-ad663a0f2a17",
   "metadata": {},
   "outputs": [],
   "source": [
    "image encoder, text encoder, projection head, constrative loss"
   ]
  },
  {
   "cell_type": "code",
   "execution_count": null,
   "id": "cad9eb3d-7132-4442-908c-f815086a2ba3",
   "metadata": {},
   "outputs": [],
   "source": [
    "stride != 1, in_channels != out_channels"
   ]
  },
  {
   "cell_type": "code",
   "execution_count": 28,
   "id": "ec8d1caf-eeda-411e-bac3-022ce5701443",
   "metadata": {},
   "outputs": [],
   "source": [
    "def covariance(x, y):\n",
    "    prod = (x-x.mean())(y-y.mean())\n",
    "    return prod.mean()"
   ]
  },
  {
   "cell_type": "code",
   "execution_count": 29,
   "id": "fa2933b3-fa0c-43dd-8feb-7688059ccc8a",
   "metadata": {},
   "outputs": [],
   "source": [
    "def frobenius_norm(x):\n",
    "    return x.pow(2).sum().sqrt()"
   ]
  },
  {
   "cell_type": "markdown",
   "id": "e83a075a-d90d-4da5-b0e0-bd328443ce6b",
   "metadata": {
    "tags": []
   },
   "source": [
    "### RL"
   ]
  },
  {
   "cell_type": "code",
   "execution_count": 21,
   "id": "1c735a1a-bd8c-426f-9b9b-0fd2471a657e",
   "metadata": {},
   "outputs": [],
   "source": [
    "import multiprocessing"
   ]
  },
  {
   "cell_type": "code",
   "execution_count": null,
   "id": "7b7fd461-c59a-4034-8668-04c407cbfb1e",
   "metadata": {},
   "outputs": [],
   "source": [
    "with multiprocessing.Pool(4) as pool:\n",
    "    result = pool.map(sum, numbers)"
   ]
  },
  {
   "cell_type": "code",
   "execution_count": null,
   "id": "cef1f68c-c80d-4257-8884-325043afc4aa",
   "metadata": {},
   "outputs": [],
   "source": [
    "current + gamma * max_next"
   ]
  },
  {
   "cell_type": "code",
   "execution_count": 27,
   "id": "8ae271ef-5f09-450f-853f-6fab653cc1c6",
   "metadata": {},
   "outputs": [],
   "source": [
    "def calculate_discounted_return_an_episode(rewards, discount_factor):\n",
    "    episode_return = 0\n",
    "    \n",
    "    for k, reward in enumerate(rewards):\n",
    "        episode_return += (discount_factor**k) * reward\n",
    "    \n",
    "    return episode_return"
   ]
  },
  {
   "cell_type": "code",
   "execution_count": null,
   "id": "947f208c-b73d-48eb-bc65-f3c4f708b4c3",
   "metadata": {},
   "outputs": [],
   "source": [
    "q_values = critic.predict(state)"
   ]
  },
  {
   "cell_type": "code",
   "execution_count": null,
   "id": "0832660b-d147-454f-a9a5-1dc9c17254a1",
   "metadata": {},
   "outputs": [],
   "source": [
    "average_q = average(q_values)"
   ]
  },
  {
   "cell_type": "code",
   "execution_count": null,
   "id": "2a81e253-8625-4465-ba9a-8ec88a66194c",
   "metadata": {},
   "outputs": [],
   "source": [
    "action = actor.predict(state)"
   ]
  },
  {
   "cell_type": "code",
   "execution_count": null,
   "id": "6bc0e2f2-d9d3-4a0c-9afc-1bcac7cc64b3",
   "metadata": {},
   "outputs": [],
   "source": [
    "advantage = q_values[action] - avearge_Q"
   ]
  },
  {
   "cell_type": "code",
   "execution_count": null,
   "id": "2e36f6ff-f045-4e63-8256-e7ef3db223ad",
   "metadata": {},
   "outputs": [],
   "source": []
  }
 ],
 "metadata": {
  "kernelspec": {
   "display_name": "Python 3 (ipykernel)",
   "language": "python",
   "name": "python3"
  },
  "language_info": {
   "codemirror_mode": {
    "name": "ipython",
    "version": 3
   },
   "file_extension": ".py",
   "mimetype": "text/x-python",
   "name": "python",
   "nbconvert_exporter": "python",
   "pygments_lexer": "ipython3",
   "version": "3.8.15"
  }
 },
 "nbformat": 4,
 "nbformat_minor": 5
}
