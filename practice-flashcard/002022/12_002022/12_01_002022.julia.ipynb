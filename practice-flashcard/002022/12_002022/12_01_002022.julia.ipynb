{
 "cells": [
  {
   "cell_type": "code",
   "execution_count": null,
   "id": "8f9521ab-67c5-426b-9514-7118e2dd81f6",
   "metadata": {},
   "outputs": [
    {
     "data": {
      "text/plain": [
       "Inf"
      ]
     },
     "execution_count": null,
     "metadata": {},
     "output_type": "execute_result"
    }
   ],
   "source": [
    "try\n",
    "    1/0\n",
    "catch e\n",
    "    println(e)\n",
    "end"
   ]
  },
  {
   "cell_type": "code",
   "execution_count": null,
   "id": "3f392327-eb5c-4db2-a92d-4fa1ab457fc3",
   "metadata": {},
   "outputs": [
    {
     "data": {
      "text/plain": [
       "1:3"
      ]
     },
     "execution_count": null,
     "metadata": {},
     "output_type": "execute_result"
    }
   ],
   "source": [
    "1:3"
   ]
  },
  {
   "cell_type": "code",
   "execution_count": null,
   "id": "6c03e13e-e461-414f-a7aa-56dc95da9523",
   "metadata": {},
   "outputs": [],
   "source": [
    "struct Book\n",
    "    name::String\n",
    "end"
   ]
  },
  {
   "cell_type": "code",
   "execution_count": null,
   "id": "6003a288-a634-4e9e-86a6-332c1f15a264",
   "metadata": {},
   "outputs": [
    {
     "data": {
      "text/plain": [
       "\"X\""
      ]
     },
     "execution_count": null,
     "metadata": {},
     "output_type": "execute_result"
    }
   ],
   "source": [
    "Book(\"X\").name"
   ]
  },
  {
   "cell_type": "code",
   "execution_count": null,
   "id": "3b003934-920d-4a02-99b7-f963174fe4e8",
   "metadata": {},
   "outputs": [
    {
     "data": {
      "text/plain": [
       "add (generic function with 1 method)"
      ]
     },
     "execution_count": null,
     "metadata": {},
     "output_type": "execute_result"
    }
   ],
   "source": [
    "function add(x::Int, y::Int)\n",
    "    return x + y\n",
    "end"
   ]
  },
  {
   "cell_type": "code",
   "execution_count": null,
   "id": "8378199b-cd14-400d-9f47-133db20cb179",
   "metadata": {},
   "outputs": [
    {
     "data": {
      "text/plain": [
       "heavy_shit (generic function with 1 method)"
      ]
     },
     "execution_count": null,
     "metadata": {},
     "output_type": "execute_result"
    }
   ],
   "source": [
    "function heavy_shit()\n",
    "    return 1\n",
    "end"
   ]
  },
  {
   "cell_type": "code",
   "execution_count": null,
   "id": "dc5086d2-8c50-453d-9247-416c490959d1",
   "metadata": {},
   "outputs": [
    {
     "data": {
      "text/plain": [
       "Task (done) @0x000000010c8669c0"
      ]
     },
     "execution_count": null,
     "metadata": {},
     "output_type": "execute_result"
    }
   ],
   "source": [
    "task = Threads.@spawn heavy_shit"
   ]
  },
  {
   "cell_type": "code",
   "execution_count": null,
   "id": "c2541c06-6153-472b-b639-1b89e1700ebc",
   "metadata": {},
   "outputs": [
    {
     "data": {
      "text/plain": [
       "2×3 Matrix{Int64}:\n",
       " 1  2  3\n",
       " 4  5  6"
      ]
     },
     "execution_count": null,
     "metadata": {},
     "output_type": "execute_result"
    }
   ],
   "source": [
    "A = [1 2 3; 4 5 6]"
   ]
  },
  {
   "cell_type": "code",
   "execution_count": null,
   "id": "09976f8a-b112-48f9-94e8-69bd4299928c",
   "metadata": {},
   "outputs": [
    {
     "data": {
      "text/plain": [
       "2×3 Matrix{Int64}:\n",
       " 1  2  3\n",
       " 4  5  6"
      ]
     },
     "execution_count": null,
     "metadata": {},
     "output_type": "execute_result"
    }
   ],
   "source": [
    "A"
   ]
  },
  {
   "cell_type": "code",
   "execution_count": null,
   "id": "030e3c86-9867-4041-9b55-cb95b3fa46a5",
   "metadata": {},
   "outputs": [],
   "source": [
    "struct Starship <: Vehicle\n",
    "    n_engines::Int\n",
    "end"
   ]
  },
  {
   "cell_type": "code",
   "execution_count": null,
   "id": "be0f62f8-1821-45a5-9a37-aec63c4a41fc",
   "metadata": {},
   "outputs": [
    {
     "data": {
      "text/plain": [
       "(one = \"falcon 1\", two = \"falcon 09\")"
      ]
     },
     "execution_count": null,
     "metadata": {},
     "output_type": "execute_result"
    }
   ],
   "source": [
    "rockets = (one = \"falcon 1\", two = \"falcon 09\")"
   ]
  },
  {
   "cell_type": "code",
   "execution_count": null,
   "id": "632a557d-6fd5-4540-b5dd-dd55fb2f0a8d",
   "metadata": {},
   "outputs": [
    {
     "data": {
      "text/plain": [
       "\"falcon 1\""
      ]
     },
     "execution_count": null,
     "metadata": {},
     "output_type": "execute_result"
    }
   ],
   "source": [
    "rockets.one"
   ]
  },
  {
   "cell_type": "code",
   "execution_count": null,
   "id": "ecb5d05a-5fb7-486c-b951-940445bbac4b",
   "metadata": {},
   "outputs": [],
   "source": [
    "task = Threads.@spawn heavy_shit()"
   ]
  },
  {
   "cell_type": "code",
   "execution_count": null,
   "id": "ae9860c8-99a4-40f1-8cf2-14bce22ebe22",
   "metadata": {},
   "outputs": [],
   "source": [
    "will have past-particile"
   ]
  },
  {
   "cell_type": "code",
   "execution_count": null,
   "id": "82c2b398-d66e-418f-a593-db5b3013aeec",
   "metadata": {},
   "outputs": [],
   "source": [
    "will subject have past"
   ]
  }
 ],
 "metadata": {
  "kernelspec": {
   "display_name": "Julia 1.8.2",
   "language": "julia",
   "name": "julia-1.8"
  }
 },
 "nbformat": 4,
 "nbformat_minor": 5
}
