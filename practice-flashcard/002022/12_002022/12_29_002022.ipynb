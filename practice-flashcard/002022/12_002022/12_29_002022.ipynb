{
 "cells": [
  {
   "cell_type": "markdown",
   "id": "33acf8d3-8730-40f6-96b2-b7c191b01016",
   "metadata": {},
   "source": [
    "### Python"
   ]
  },
  {
   "cell_type": "code",
   "execution_count": 1,
   "id": "f63413c8-b4e7-431d-bd2e-99874bde2181",
   "metadata": {},
   "outputs": [],
   "source": [
    "import numpy as np"
   ]
  },
  {
   "cell_type": "code",
   "execution_count": null,
   "id": "3c308118-4cee-46b3-91bb-a3064a6d793a",
   "metadata": {},
   "outputs": [],
   "source": [
    "np.where(x > 1, \"GOOD\", \"BAD\")"
   ]
  },
  {
   "cell_type": "code",
   "execution_count": 3,
   "id": "e494e25e-b526-4eae-ad4a-bd75c57a0506",
   "metadata": {},
   "outputs": [
    {
     "ename": "TypeError",
     "evalue": "type.__new__() argument 2 must be tuple, not dict",
     "output_type": "error",
     "traceback": [
      "\u001b[0;31m---------------------------------------------------------------------------\u001b[0m",
      "\u001b[0;31mTypeError\u001b[0m                                 Traceback (most recent call last)",
      "Cell \u001b[0;32mIn[3], line 1\u001b[0m\n\u001b[0;32m----> 1\u001b[0m MetaStudent \u001b[38;5;241m=\u001b[39m \u001b[38;5;28;43mtype\u001b[39;49m\u001b[43m(\u001b[49m\u001b[38;5;124;43m\"\u001b[39;49m\u001b[38;5;124;43mMetaStudent\u001b[39;49m\u001b[38;5;124;43m\"\u001b[39;49m\u001b[43m,\u001b[49m\u001b[43m \u001b[49m\u001b[43m{\u001b[49m\u001b[43m}\u001b[49m\u001b[43m,\u001b[49m\u001b[43m \u001b[49m\u001b[43m{\u001b[49m\u001b[38;5;124;43m\"\u001b[39;49m\u001b[38;5;124;43mmajor\u001b[39;49m\u001b[38;5;124;43m\"\u001b[39;49m\u001b[43m:\u001b[49m\u001b[43m \u001b[49m\u001b[38;5;124;43m\"\u001b[39;49m\u001b[38;5;124;43mchem\u001b[39;49m\u001b[38;5;124;43m\"\u001b[39;49m\u001b[43m}\u001b[49m\u001b[43m)\u001b[49m\n",
      "\u001b[0;31mTypeError\u001b[0m: type.__new__() argument 2 must be tuple, not dict"
     ]
    }
   ],
   "source": [
    "MetaStudent = type(\"MetaStudent\", {}, {\"major\": \"chem\"})"
   ]
  },
  {
   "cell_type": "markdown",
   "id": "bb5dd11b-fccf-4e83-ac48-ad66148b3185",
   "metadata": {},
   "source": [
    "### SQL"
   ]
  },
  {
   "cell_type": "markdown",
   "id": "8971e25b-0759-46f7-84a2-f0ed5afbbab8",
   "metadata": {},
   "source": [
    "SELECT a.name, b.name FROM members as a INNER JOIN members as b ON a.supervisor_id = b.id"
   ]
  },
  {
   "cell_type": "code",
   "execution_count": null,
   "id": "771b9303-c000-4cef-8f2c-be71727b7524",
   "metadata": {},
   "outputs": [],
   "source": [
    "ls | tee output.txt"
   ]
  },
  {
   "cell_type": "code",
   "execution_count": null,
   "id": "ed0c971f-31da-4619-884e-445a56c5f980",
   "metadata": {},
   "outputs": [],
   "source": [
    "#!/bin/bash\n",
    "\n",
    "for arg \"$@\"; dob\n",
    "    echo "
   ]
  },
  {
   "cell_type": "code",
   "execution_count": null,
   "id": "9b53c925-65da-4e18-b401-6bc8c8ac2e58",
   "metadata": {},
   "outputs": [],
   "source": [
    "cat < h1.txt > h2.txt"
   ]
  },
  {
   "cell_type": "code",
   "execution_count": null,
   "id": "51d722c9-3fbd-4fa9-8c88-9e9ac90a04ec",
   "metadata": {},
   "outputs": [],
   "source": [
    "NOT AND AND"
   ]
  },
  {
   "cell_type": "code",
   "execution_count": null,
   "id": "436d1f5c-460a-4f53-9441-c98a51eec759",
   "metadata": {},
   "outputs": [],
   "source": [
    "X -ne Y"
   ]
  },
  {
   "cell_type": "code",
   "execution_count": null,
   "id": "7d79c3c0-76df-4f5f-b931-9ed5c62e7d9e",
   "metadata": {},
   "outputs": [],
   "source": [
    "docker-compose -f mongo.yaml down"
   ]
  },
  {
   "cell_type": "code",
   "execution_count": null,
   "id": "379c237b-f3f0-4680-a904-3a7cc4adc4ba",
   "metadata": {},
   "outputs": [],
   "source": [
    "version: 0.01\n",
    "\n",
    "services:\n",
    "    mongodb:\n",
    "        image: mongo\n",
    "        ports:\n",
    "            - 27017:27017"
   ]
  },
  {
   "cell_type": "code",
   "execution_count": null,
   "id": "5cc50dbf-4e10-4184-986d-4cbe36fd30e0",
   "metadata": {},
   "outputs": [],
   "source": [
    "version: 0.01\n",
    "\n",
    "services:\n",
    "    mongodb:\n",
    "        image: mongo"
   ]
  },
  {
   "cell_type": "markdown",
   "id": "44860b9f-e09c-4262-acf3-adc50e12d035",
   "metadata": {},
   "source": [
    "### Deep Learning"
   ]
  },
  {
   "cell_type": "code",
   "execution_count": null,
   "id": "47e6944f-c08c-4ddf-ae08-a48696177dc2",
   "metadata": {},
   "outputs": [],
   "source": [
    "right metrics, algorithm, resample"
   ]
  },
  {
   "cell_type": "code",
   "execution_count": 4,
   "id": "4e84f14a-6f67-436a-8e3b-92d9a8298755",
   "metadata": {},
   "outputs": [],
   "source": [
    "import pytorch_lightning as pl"
   ]
  },
  {
   "cell_type": "code",
   "execution_count": 6,
   "id": "4e55d16f-7a09-4c09-84bd-55c7255a5929",
   "metadata": {},
   "outputs": [],
   "source": [
    "import torch\n",
    "from torch import nn\n",
    "import torch.nn.functional as F"
   ]
  },
  {
   "cell_type": "code",
   "execution_count": 7,
   "id": "6f9bed43-1853-43fc-8070-999ab9144038",
   "metadata": {},
   "outputs": [],
   "source": [
    "class LitResNet(pl.LightningModule):\n",
    "    def __init__(self):\n",
    "        super().__init__()\n",
    "        self.model = _model1\n",
    "        self.loss_func = nn.CrossEntropyLoss()\n",
    "    \n",
    "    def training_step(self, batch, batch_idx):\n",
    "        x, y = batch\n",
    "        pred = self.model(y)\n",
    "        loss = self.loss_func(pred, y)\n",
    "        \n",
    "        return loss"
   ]
  },
  {
   "cell_type": "code",
   "execution_count": 8,
   "id": "a6789331-dfc1-4f06-a1b6-3044fc5d88bf",
   "metadata": {},
   "outputs": [],
   "source": [
    "from torch import einsum"
   ]
  },
  {
   "cell_type": "code",
   "execution_count": null,
   "id": "8c2f3241-1521-4831-a7a2-8de6d1e541cc",
   "metadata": {},
   "outputs": [],
   "source": [
    "einsum('ij->ji', a)"
   ]
  },
  {
   "cell_type": "code",
   "execution_count": null,
   "id": "d0c22bea-8e90-4b41-ba9c-97d0d847571b",
   "metadata": {},
   "outputs": [],
   "source": [
    "q_values = q_network(states, actions)"
   ]
  },
  {
   "cell_type": "code",
   "execution_count": null,
   "id": "27f28650-0864-4b11-b9b2-0ec9f0119a60",
   "metadata": {},
   "outputs": [],
   "source": [
    "q_estimated = get_reward(states, actions) + gamma * value_func(states+1).mean()"
   ]
  },
  {
   "cell_type": "code",
   "execution_count": null,
   "id": "ef357b78-756b-48c1-b1d5-4a83d51df037",
   "metadata": {},
   "outputs": [],
   "source": [
    "loss = (q_values - q_estimated).pow(2).mean()"
   ]
  },
  {
   "cell_type": "code",
   "execution_count": null,
   "id": "355e1ce5-20e1-4117-b24b-e7306b36ef3b",
   "metadata": {},
   "outputs": [],
   "source": [
    "def calculate_loss_of_soft_v(states, actions, action_probs):\n",
    "    entropy_of_policy = action_probs.log()\n",
    "    q_values = q_function(states, actions)\n",
    "    \n",
    "    target_v = (q_values - entropy_of_policy).mean()\n",
    "    v_values = v_function(states)\n",
    "    \n",
    "    loss = (v_values - target_v).pow(2).mena()"
   ]
  },
  {
   "cell_type": "code",
   "execution_count": null,
   "id": "903953de-e77f-48b4-a518-c9137932ff1f",
   "metadata": {},
   "outputs": [],
   "source": [
    "for episode in range(n_episodes):\n",
    "    \n",
    "    state = env.step()\n",
    "    \n",
    "    while True:\n",
    "        action = policy_network(state)\n",
    "        new_state, reward, done = env.step(action)\n",
    "        \n",
    "        replay_buffer.append(state, action, new_state, reward, done)\n",
    "        \n",
    "        if done: break\n",
    "        \n",
    "        state = new_state\n",
    "    \n",
    "    "
   ]
  },
  {
   "cell_type": "code",
   "execution_count": null,
   "id": "5048c515-c8ef-47e8-b785-2d54311c2d93",
   "metadata": {},
   "outputs": [],
   "source": [
    "def convert_to_distribution(states):\n",
    "    q_values = q_func(states)\n",
    "    z = q.sum(dim=-1)\n",
    "    \n",
    "    return q / z"
   ]
  },
  {
   "cell_type": "code",
   "execution_count": null,
   "id": "37c51731-802a-4c06-b7e2-b003c0b40203",
   "metadata": {},
   "outputs": [],
   "source": [
    "def convert_to_distribution(states):\n",
    "    q_values = q_function(states)\n",
    "    q_values = q_values.exp()\n",
    "    z = q_values.sum(dim=-1)\n",
    "    \n",
    "    return q_values / z"
   ]
  },
  {
   "cell_type": "code",
   "execution_count": 9,
   "id": "a31ca44e-280b-4ec1-a63a-dc884b8f6aab",
   "metadata": {},
   "outputs": [],
   "source": [
    "def mean_absolute_error(preds, targs):\n",
    "    return (preds - targs).abs().mean()"
   ]
  },
  {
   "cell_type": "code",
   "execution_count": null,
   "id": "b8eb66d1-f581-4f17-afe6-a07fb47144e7",
   "metadata": {},
   "outputs": [],
   "source": [
    "l1.bias.data.zero_()"
   ]
  },
  {
   "cell_type": "code",
   "execution_count": null,
   "id": "485d1e54-3e52-475c-9128-197056a505bf",
   "metadata": {},
   "outputs": [],
   "source": [
    "algorithm, resample, "
   ]
  },
  {
   "cell_type": "code",
   "execution_count": null,
   "id": "578ccaf4-6650-4f0d-9ec8-14472f1306b6",
   "metadata": {},
   "outputs": [],
   "source": [
    "text_encoder, image_encoder, projection head, constrative loss"
   ]
  },
  {
   "cell_type": "code",
   "execution_count": null,
   "id": "c9d0ef13-8200-468c-a4f9-e065b6983daf",
   "metadata": {},
   "outputs": [],
   "source": [
    "embeddings = tokenizer.encode(sentence)"
   ]
  },
  {
   "cell_type": "code",
   "execution_count": null,
   "id": "a36439f1-88fc-48a5-b039-d67d13c74110",
   "metadata": {},
   "outputs": [],
   "source": [
    "model.generate(embeddings)"
   ]
  },
  {
   "cell_type": "code",
   "execution_count": null,
   "id": "b9e36abf-458d-4f50-940d-318860dfd3cd",
   "metadata": {},
   "outputs": [],
   "source": [
    "class Model:\n",
    "    def __init__(self, w1, b1, w2, b2):\n",
    "        self.layers = [\n",
    "            Lin(w1, b1),\n",
    "            ReLU(),\n",
    "            Lin(w2, b2),\n",
    "        ]\n",
    "        self.loss = Mse()\n",
    "    \n",
    "    def __call__(self, x, y):\n",
    "        pred = "
   ]
  },
  {
   "cell_type": "code",
   "execution_count": null,
   "id": "8861b91f-bc86-490f-80d3-1de334e78dca",
   "metadata": {},
   "outputs": [],
   "source": [
    "def std(x):\n",
    "    return (x-x.mean()).pow(2).mean().sqrt()"
   ]
  },
  {
   "cell_type": "code",
   "execution_count": null,
   "id": "1eebde47-1888-414e-aaef-1a7396286570",
   "metadata": {},
   "outputs": [],
   "source": [
    "def covariance(x, y):\n",
    "    return (x*y).mean() - x.mean()*y.mean()"
   ]
  },
  {
   "cell_type": "code",
   "execution_count": null,
   "id": "610b126a-069d-4bf4-a8a0-575dee87afb2",
   "metadata": {},
   "outputs": [],
   "source": [
    "(small_part * filter_1).sum() + (small_part * filter_2).sum()"
   ]
  },
  {
   "cell_type": "code",
   "execution_count": null,
   "id": "8bcaa2f9-8aba-4aec-9b8a-b39f1b5cd6bd",
   "metadata": {},
   "outputs": [],
   "source": [
    "def frobenius_norm(x):\n",
    "    return x.pow(2).sum().sqrt()"
   ]
  }
 ],
 "metadata": {
  "kernelspec": {
   "display_name": "Python 3 (ipykernel)",
   "language": "python",
   "name": "python3"
  },
  "language_info": {
   "codemirror_mode": {
    "name": "ipython",
    "version": 3
   },
   "file_extension": ".py",
   "mimetype": "text/x-python",
   "name": "python",
   "nbconvert_exporter": "python",
   "pygments_lexer": "ipython3",
   "version": "3.8.15"
  }
 },
 "nbformat": 4,
 "nbformat_minor": 5
}
