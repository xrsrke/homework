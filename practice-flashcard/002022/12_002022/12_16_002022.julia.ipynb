{
 "cells": [
  {
   "cell_type": "code",
   "execution_count": 1,
   "id": "02dfad4d-e7b9-4fd1-9d18-cace546ab469",
   "metadata": {},
   "outputs": [
    {
     "name": "stdout",
     "output_type": "stream",
     "text": [
      "1\n",
      "2\n",
      "3\n",
      "4\n"
     ]
    }
   ],
   "source": [
    "Threads.@threads for i in 1:4\n",
    "    println(i)\n",
    "end"
   ]
  },
  {
   "cell_type": "code",
   "execution_count": null,
   "id": "83fd8ad9-e257-4705-9f82-aa9b828127c9",
   "metadata": {},
   "outputs": [],
   "source": [
    "map(x -> x^2)"
   ]
  },
  {
   "cell_type": "code",
   "execution_count": 4,
   "id": "12b1fa84-930d-46ab-998a-af6a7f1119d5",
   "metadata": {},
   "outputs": [],
   "source": [
    "mutable struct Computer\n",
    "    os::String\n",
    "end"
   ]
  }
 ],
 "metadata": {
  "kernelspec": {
   "display_name": "Julia 1.8.3",
   "language": "julia",
   "name": "julia-1.8"
  },
  "language_info": {
   "file_extension": ".jl",
   "mimetype": "application/julia",
   "name": "julia",
   "version": "1.8.3"
  }
 },
 "nbformat": 4,
 "nbformat_minor": 5
}
