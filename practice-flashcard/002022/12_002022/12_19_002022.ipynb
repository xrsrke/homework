{
 "cells": [
  {
   "cell_type": "markdown",
   "id": "ddd5ccca-6b8a-4eb9-b3b8-66e44be886da",
   "metadata": {},
   "source": [
    "### Deep Learning"
   ]
  },
  {
   "cell_type": "code",
   "execution_count": null,
   "id": "74ede788-3deb-4945-9a69-723e23a0cf47",
   "metadata": {},
   "outputs": [],
   "source": [
    "def to_numpy(x):\n",
    "    return x.detach().numpy().permute(1, 2, 0)"
   ]
  },
  {
   "cell_type": "code",
   "execution_count": 2,
   "id": "e273a7e4-a497-4b3f-9c61-8dfff3e595ab",
   "metadata": {},
   "outputs": [],
   "source": [
    "import torch\n",
    "from torch import nn\n",
    "import torch.nn.functional as F"
   ]
  },
  {
   "cell_type": "code",
   "execution_count": 1,
   "id": "1af7761b-340d-40d8-a2f9-b5bb57fa7e03",
   "metadata": {},
   "outputs": [],
   "source": [
    "def calculate_return(rewards, discount_factor):\n",
    "    pass"
   ]
  },
  {
   "cell_type": "markdown",
   "id": "dfd49e6d-9310-4313-8f2e-8c60862d2357",
   "metadata": {},
   "source": [
    "### Python"
   ]
  },
  {
   "cell_type": "code",
   "execution_count": 3,
   "id": "495bec14-5abd-4333-b1cd-ccbd889d6a2f",
   "metadata": {},
   "outputs": [],
   "source": [
    "from functools import reduce"
   ]
  },
  {
   "cell_type": "code",
   "execution_count": 4,
   "id": "0568f01f-7f89-4529-8069-9f555480e66a",
   "metadata": {},
   "outputs": [],
   "source": [
    "def multiply(a, b):\n",
    "    return a * b"
   ]
  },
  {
   "cell_type": "code",
   "execution_count": null,
   "id": "6f5930f4-a5a8-4dab-ba20-377ca2c534c2",
   "metadata": {},
   "outputs": [],
   "source": [
    "reduce(multiply, numbers)"
   ]
  },
  {
   "cell_type": "code",
   "execution_count": 6,
   "id": "838238c3-5472-4fd1-9c34-e462e522f6fc",
   "metadata": {},
   "outputs": [],
   "source": [
    "from abc import ABC, abstractclassmethod"
   ]
  },
  {
   "cell_type": "code",
   "execution_count": 7,
   "id": "cfb3c370-9186-4ec3-affe-0dfb3ea912eb",
   "metadata": {},
   "outputs": [],
   "source": [
    "class State(ABC):\n",
    "    def __init__(self, order):\n",
    "        self.order = order\n",
    "    \n",
    "    @abstractclassmethod\n",
    "    def receive_payment(self): pass\n",
    "\n",
    "    @abstractclassmethod\n",
    "    def ship(self): pass"
   ]
  },
  {
   "cell_type": "code",
   "execution_count": 8,
   "id": "f381766c-c775-44a6-b91a-941ef5c56f18",
   "metadata": {},
   "outputs": [],
   "source": [
    "class UnpaidState(State):\n",
    "    def receive_payment(self):\n",
    "        self.state.set_state(self.state.paid_state)\n",
    "        print(\"Your payment has been been accepeted\")\n",
    "    \n",
    "    def ship(self):\n",
    "        print(\"Can't ship unpaid orders\")"
   ]
  },
  {
   "cell_type": "code",
   "execution_count": 9,
   "id": "b0e03c4c-9063-4fc2-a0b7-aa75e7e5ba0a",
   "metadata": {},
   "outputs": [],
   "source": [
    "class Order:\n",
    "    def __init__(self):\n",
    "        self.unpaid_state = UnpaidState(order=self)\n",
    "        \n",
    "        self.state = unpaid_state\n",
    "    \n",
    "    def set_state(self, state):\n",
    "        self.state = state\n",
    "    \n",
    "    def receive_payment(self):\n",
    "        return self.state.receive_payment()\n",
    "    \n",
    "    def ship(self):\n",
    "        return self.state.ship()"
   ]
  },
  {
   "cell_type": "code",
   "execution_count": 10,
   "id": "4a66ccbb-39bb-461c-b728-104889f7fe4f",
   "metadata": {},
   "outputs": [],
   "source": [
    "class PhoneField:\n",
    "    def __init__(self):\n",
    "        self.value = None\n",
    "    \n",
    "    def __get__(self, instance, owner):\n",
    "        return self.value\n",
    "    \n",
    "    def __set__(self, instance, value):\n",
    "        self.value = value"
   ]
  },
  {
   "cell_type": "code",
   "execution_count": 11,
   "id": "0d416b9a-feed-4e6a-a153-3dfc33c2c9be",
   "metadata": {},
   "outputs": [],
   "source": [
    "from enum import Enum"
   ]
  },
  {
   "cell_type": "code",
   "execution_count": 12,
   "id": "577a6b7c-f6b8-4b8b-a5a2-8494ed405453",
   "metadata": {},
   "outputs": [],
   "source": [
    "class Models(Enum):\n",
    "    MODEL_S = \"Model S\""
   ]
  },
  {
   "cell_type": "code",
   "execution_count": 13,
   "id": "4c426491-7ffd-4ce0-8cc7-c56e531d94e2",
   "metadata": {},
   "outputs": [],
   "source": [
    "NumberOfServing = int"
   ]
  },
  {
   "cell_type": "code",
   "execution_count": 16,
   "id": "15f123c2-5e96-4c89-88db-83ea12c9ee43",
   "metadata": {},
   "outputs": [],
   "source": [
    "from typing import Tuple"
   ]
  },
  {
   "cell_type": "code",
   "execution_count": 17,
   "id": "f6339c69-c169-4731-97d1-572731d7c7cd",
   "metadata": {
    "tags": []
   },
   "outputs": [],
   "source": [
    "Ingredient = Tuple[str, int, str]"
   ]
  },
  {
   "cell_type": "markdown",
   "id": "4dfaaa75-1580-4a0a-af70-65200e549aa7",
   "metadata": {},
   "source": [
    "### Deep Learning"
   ]
  },
  {
   "cell_type": "code",
   "execution_count": 18,
   "id": "071bb9f2-6514-47f1-bf37-0a03f53455f3",
   "metadata": {},
   "outputs": [],
   "source": [
    "def binary(x):\n",
    "    return x.exp() / (1 + x.exp())"
   ]
  },
  {
   "cell_type": "code",
   "execution_count": 20,
   "id": "1fce11db-2ef8-41bb-8ad7-5cd383a91b35",
   "metadata": {},
   "outputs": [],
   "source": [
    "class Model(nn.Module):\n",
    "    def __init__(self, n_in, nh, n_out):\n",
    "        super().__init__()\n",
    "        self.layers = nn.ModuleList([\n",
    "            nn.Linear(n_in, nh),\n",
    "            nn.ReLU(),\n",
    "            nn.Linear(nh, n_out)\n",
    "        ])\n",
    "    \n",
    "    def forward(self, x):\n",
    "        return self.layers(x)"
   ]
  },
  {
   "cell_type": "code",
   "execution_count": 22,
   "id": "ba4ca181-ff69-4073-8dfa-c4bacc6d1b18",
   "metadata": {},
   "outputs": [],
   "source": [
    "from torch import einsum"
   ]
  },
  {
   "cell_type": "code",
   "execution_count": null,
   "id": "a958a14b-b271-46fc-bffa-d55a8d54d317",
   "metadata": {},
   "outputs": [],
   "source": [
    "einsum('ij->ji', a)"
   ]
  },
  {
   "cell_type": "code",
   "execution_count": 23,
   "id": "ec814a93-871c-42ce-9d4b-eb6a125993cf",
   "metadata": {},
   "outputs": [],
   "source": [
    "import math"
   ]
  },
  {
   "cell_type": "code",
   "execution_count": 24,
   "id": "04aff5f7-e3a4-44b5-9e17-5587b9e60a76",
   "metadata": {},
   "outputs": [],
   "source": [
    "class SelfAttention(nn.Module):\n",
    "    def __init__(self, d_head):\n",
    "        super().__init__()\n",
    "        self.d_head = d_head\n",
    "    \n",
    "    def forward(self, q, k, v):\n",
    "        k_permuted = k.permuted(3, 2)\n",
    "        qk_matmul = torch.matmul(q, k_permuted)\n",
    "        scores = qk_matmul / math.sqrt(self.d_head)\n",
    "        attention_weights = F.softmax(scores, dim=-1)\n",
    "        \n",
    "        output = torch.matmul(attention_weights, v)\n",
    "        \n",
    "        return output, attention_weights"
   ]
  },
  {
   "cell_type": "code",
   "execution_count": 25,
   "id": "ccc8ea3a-c65b-4073-87e1-1e004ee6419b",
   "metadata": {},
   "outputs": [],
   "source": [
    "class SelfAttention(nn.Module):\n",
    "    def __init__(self, d_head):\n",
    "        self.d_head = d_head\n",
    "    \n",
    "    def forward(self, q, k, v, mask = None):\n",
    "        k_permuted = k.permuted(3, 2)\n",
    "        qk_matmul = torch.matmul(q, k_permuted)\n",
    "        scores = qk_matmul / math.sqrt(self.d_head)\n",
    "        \n",
    "        if mask is not None:\n",
    "            scores = scores.masked_fill(mask == 0, -1e9)\n",
    "        \n",
    "        attention_weights = F.softmax(scores, dim=-1)\n",
    "        \n",
    "        output = torch.matmul(attention_weights, v)\n",
    "        \n",
    "        return output, attention_weights"
   ]
  },
  {
   "cell_type": "code",
   "execution_count": 28,
   "id": "1bf66d6b-df67-4b74-a0b4-4366472cc1b5",
   "metadata": {},
   "outputs": [],
   "source": [
    "class MultiHeadAttention(nn.Module):\n",
    "    def __init__(self, attention, d_model, n_heads):\n",
    "        super().__init__()\n",
    "        \n",
    "        self.attention = attention\n",
    "        self.d_model, self.n_heads = d_model, n_heads\n",
    "        \n",
    "        self.d_head = d_model // n_heads\n",
    "        \n",
    "        self.to_q = nn.Linear(d_model, n_heads * self.d_head)\n",
    "        self.to_k = nn.Linear(d_model, n_heads * self.d_head)\n",
    "        self.to_v = nn.Linear(d_model, n_heads * self.d_head)\n",
    "        self.projection = nn.Linear(n_heads * self.d_head, d_model)\n",
    "    \n",
    "    def split_heads(self, x):\n",
    "        batch_size, seq_len, d_model = x.size()\n",
    "        return x.view(batch_size, self.n_heads, seq_len, self.d_head)\n",
    "    \n",
    "    def concat(self, x):\n",
    "        batch_size, n_heads, seq_len, d_head = x.size()\n",
    "        return x.view(batch_size, seq_len, d_model)\n",
    "    \n",
    "    def forward(self, pre_q, pre_k, pre_v):\n",
    "        \n",
    "        q, k, v = self.to_q(pre_q), self.to_k(pre_k), self.to_v(pre_v)\n",
    "        \n",
    "        q = self.split_heads(pre_q)\n",
    "        k = self.split_heads(pre_k)\n",
    "        v = self.split_heads(pre_v)\n",
    "        \n",
    "        output, attention_weights = self.attention(q, k, v)\n",
    "        \n",
    "        output = self.concat(output)\n",
    "        \n",
    "        projection = self.projection(output)\n",
    "        \n",
    "        return projection, attention_weights"
   ]
  },
  {
   "cell_type": "code",
   "execution_count": 29,
   "id": "e2b6c7f5-096d-49ef-98ef-d6e5fc9eec02",
   "metadata": {},
   "outputs": [],
   "source": [
    "class PositionalEncoding(nn.Module):\n",
    "    def __init__(self, n, d_model):\n",
    "        super().__init__()\n",
    "        self.n = n\n",
    "        self.d_model = d_model\n",
    "    \n",
    "    def forward(self, tokens):\n",
    "        seq_len = len(tokens)\n",
    "        embeddings = torch.zeros(seq_len, self.d_model)\n",
    "        \n",
    "        for p in range(seq_len):\n",
    "            for i in range(self.d_model):\n",
    "                denominator = torch.pow(n, (2*i)/self.d_model)\n",
    "                embeddings[p][i] = torch.sin(p, denominator) if i % 2 == 0 else torch.cos(p, denominator)\n",
    "        \n",
    "        return embeddings"
   ]
  },
  {
   "cell_type": "code",
   "execution_count": 36,
   "id": "32b007ef-76bd-48b4-b37f-9e3ed615acac",
   "metadata": {},
   "outputs": [],
   "source": [
    "def create_mask(size):\n",
    "    return torch.ones((1, size, size)).triu(1)"
   ]
  },
  {
   "cell_type": "code",
   "execution_count": 37,
   "id": "6b092a0e-8784-49d1-9e63-c7b52b3be161",
   "metadata": {},
   "outputs": [
    {
     "data": {
      "text/plain": [
       "tensor([[[0., 1., 1., 1.],\n",
       "         [0., 0., 1., 1.],\n",
       "         [0., 0., 0., 1.],\n",
       "         [0., 0., 0., 0.]]])"
      ]
     },
     "execution_count": 37,
     "metadata": {},
     "output_type": "execute_result"
    }
   ],
   "source": [
    "create_mask(4)"
   ]
  },
  {
   "cell_type": "code",
   "execution_count": null,
   "id": "c02ec3d5-7c3c-4767-ad00-93a20ed4ad2c",
   "metadata": {},
   "outputs": [],
   "source": [
    "masked_encoding.masked_fill(mask==False, -1)"
   ]
  },
  {
   "cell_type": "code",
   "execution_count": null,
   "id": "755e17e4-9bac-491b-94c1-668c3343c4ac",
   "metadata": {},
   "outputs": [],
   "source": [
    "seven_tensors = torch.stack([tensor(Image.open(o) for o in sevens)], dim=0)"
   ]
  },
  {
   "cell_type": "code",
   "execution_count": 38,
   "id": "8d9be7d3-e97e-493b-ab0e-f35068618122",
   "metadata": {},
   "outputs": [],
   "source": [
    "class DotProduct(nn.Module):\n",
    "    def __init__(self, n_users, n_movies, n_factors):\n",
    "        pass\n",
    "    \n",
    "    def forward(self, x):\n",
    "        user_factors = self.user_factors(x[:, 0])\n",
    "        movie_factors = self.movie_factors(x[:, 1])\n",
    "        \n",
    "        return (user_factors * movie_factors).sum()"
   ]
  },
  {
   "cell_type": "code",
   "execution_count": null,
   "id": "2ffe03f9-9a1a-4a11-b1ff-152a2cd7b6ac",
   "metadata": {
    "tags": []
   },
   "outputs": [],
   "source": [
    "class ResidualBlock(nn.Module):\n",
    "    def __init__(self, in_channels, out_channels, downsample):\n",
    "        super().__init__()\n",
    "        self.conv = nn.Conv2d(in_channels, out_channels, )"
   ]
  },
  {
   "cell_type": "code",
   "execution_count": 39,
   "id": "6fdfcc7c-3362-41b7-b15b-e34f8cb920a1",
   "metadata": {},
   "outputs": [],
   "source": [
    "class DummyModule(nn.Module):\n",
    "    def __init__(self, n_in, nh, n_out):\n",
    "        super().__init__()\n",
    "        self._modules = {}\n",
    "        self.l1 = nn.Linear(n_in, nh)\n",
    "        self.l2 = nn.Linear(nh, n_out)\n",
    "    \n",
    "    def __setattr__(self, k, v):\n",
    "        if not k.startwith('_'):\n",
    "            self._modules[k] = v\n",
    "        \n",
    "        super().__setattr__(k, v)"
   ]
  },
  {
   "cell_type": "code",
   "execution_count": 40,
   "id": "2fb20502-dad2-4afd-836d-f8c521b3306b",
   "metadata": {},
   "outputs": [],
   "source": [
    "import torch"
   ]
  },
  {
   "cell_type": "code",
   "execution_count": null,
   "id": "6b8ca778-3214-4123-a236-0c994e213149",
   "metadata": {},
   "outputs": [],
   "source": [
    "noise = torch.randn(3, 3, 64, 64)"
   ]
  },
  {
   "cell_type": "code",
   "execution_count": null,
   "id": "b3f15987-61b3-4d04-81cd-9cf831ff9214",
   "metadata": {},
   "outputs": [],
   "source": [
    "for param in model.parameters():\n",
    "    param.requires_grad = False"
   ]
  },
  {
   "cell_type": "code",
   "execution_count": null,
   "id": "7c352576-d6f8-4b4f-9ea7-e3e9613209a9",
   "metadata": {},
   "outputs": [],
   "source": [
    "model.classifier[0].requires_gard = True"
   ]
  },
  {
   "cell_type": "code",
   "execution_count": null,
   "id": "f79f6e91-4587-48bd-b83b-c2260c26ede4",
   "metadata": {},
   "outputs": [],
   "source": [
    "model.classifier[3].requires_gard = True"
   ]
  },
  {
   "cell_type": "code",
   "execution_count": null,
   "id": "f4858684-2aa6-47e9-b0e9-668489699cb5",
   "metadata": {},
   "outputs": [],
   "source": [
    "model.classifier[6] = nn.Linear(4096, 10)"
   ]
  },
  {
   "cell_type": "code",
   "execution_count": null,
   "id": "7504c07e-1b11-4f1b-a33b-c16b698bb30c",
   "metadata": {},
   "outputs": [],
   "source": [
    "def sgd_step(parameter, lr):\n",
    "    parameter -= lr*parameter.grad"
   ]
  },
  {
   "cell_type": "code",
   "execution_count": null,
   "id": "b80d052f-5a5e-4fdf-9c81-67bc46f5f15d",
   "metadata": {},
   "outputs": [],
   "source": [
    "def train(x, y, epochs):\n",
    "    for epoch in range(epochs):\n",
    "        pred = model(x)\n",
    "        loss = loss_func(pred, y)\n",
    "        loss.backward()\n",
    "        optimizier.step()\n",
    "        optimizier.zero_grad()"
   ]
  },
  {
   "cell_type": "code",
   "execution_count": null,
   "id": "451398ce-f666-469f-9049-ea7178be5ea3",
   "metadata": {},
   "outputs": [],
   "source": [
    "class DataLoader(nn.Module):\n",
    "    def __init__(self, ds, bs):\n",
    "        self.ds = ds\n",
    "        self.bs = bs\n",
    "    \n",
    "    def __iter__(self):\n",
    "        for i in range(0, len(self.ds), self.bs):\n",
    "            yield self.ds[i:i+self.bs]"
   ]
  },
  {
   "cell_type": "code",
   "execution_count": 41,
   "id": "43cb5dd0-ed53-4ad4-a7c8-5a7be20e5a62",
   "metadata": {},
   "outputs": [],
   "source": [
    "def regularize_activation(loss, activation, alpha):\n",
    "    return loss + alpha * activation.pow(2).mean()"
   ]
  },
  {
   "cell_type": "code",
   "execution_count": null,
   "id": "2c70fc45-be12-47e1-a839-a803a3142c1c",
   "metadata": {},
   "outputs": [],
   "source": [
    "(small_part * filter_1).sum() + (small_part * filter_2).sum()"
   ]
  },
  {
   "cell_type": "code",
   "execution_count": 42,
   "id": "0b09ca92-e711-4544-9adc-38234d8fd552",
   "metadata": {},
   "outputs": [],
   "source": [
    "class ResidualBlock(nn.Module):\n",
    "    def __init__(self, in_channels, out_channels, stride, downsample):\n",
    "        super().__init__()\n",
    "        self.conv1 = nn.Conv2d(\n",
    "            in_channels, out_channels,\n",
    "            kernel_size=3, stride=stride, padding=1\n",
    "        )\n",
    "        self.batch_norm_1 = nn.BatchNorm2d(out_channels)\n",
    "        self.act1 = nn.ReLU()\n",
    "        self.conv2 = nn.Conv2d(\n",
    "            out_channels, out_channels,\n",
    "            kernel_size=3, stride=stride, padding=1\n",
    "        )\n",
    "        self.batch_norm_2 = nn.BatchNorm2d(out_channels)\n",
    "        self.act2 = nn.ReLU()\n",
    "        \n",
    "        if stride != 1 or in_channels != out_channels:\n",
    "            self.downsample = downsample\n",
    "        else:\n",
    "            self.downsample = nn.Identity()\n",
    "    \n",
    "    def forward(self, x):\n",
    "        out = self.act1(self.batch_norm_1(self.conv1(x)))\n",
    "        \n",
    "        out = self.batch_norm_2(self.conv2(out))\n",
    "        \n",
    "        return self.act2(out + self.downsample(x))"
   ]
  },
  {
   "cell_type": "code",
   "execution_count": null,
   "id": "616ef495-aaae-4952-a7dd-70f1d7a07736",
   "metadata": {},
   "outputs": [],
   "source": [
    "state, action, reward, next_state"
   ]
  },
  {
   "cell_type": "code",
   "execution_count": null,
   "id": "dad801ff-7cdb-4f9d-8df0-50bde53243f3",
   "metadata": {},
   "outputs": [],
   "source": [
    "for epoch in range(N_EPOCHS):\n",
    "    observation, _ = env.reset()\n",
    "    observation = torch.from_numpy(observation)\n",
    "    in_progress = True\n",
    "    \n",
    "    while in_progress:\n",
    "    \n",
    "        predicted_reward = model(observation)\n",
    "        action = torch.argmax(predicted_reward, dim=-1).item()\n",
    "\n",
    "        new_observation, reward, done, truncated, info = env.step(action)\n",
    "        new_observation = torch.from_numpy(new_observation)\n",
    "        \n",
    "        predicted_next_reward = model(new_observation)\n",
    "        max_predicted_next_reward = torch.max(predicted_next_reward, dim=-1)\n",
    "        \n",
    "        target_reward = reward + GAMMA * max_predicted_next_reward[0]\n",
    "        loss = loss_func(predicted_reward, target_reward)\n",
    "        loss.backward()\n",
    "        optimizier.step()\n",
    "        optimizier.zero_grad()"
   ]
  },
  {
   "cell_type": "code",
   "execution_count": 49,
   "id": "644a13a7-d891-4184-9900-594ab74a43cf",
   "metadata": {},
   "outputs": [],
   "source": [
    "def calculate_discounted_return_time_step(rewards, timestep, discount_factor):\n",
    "    discounted_return = torch.zeros(1)\n",
    "    \n",
    "    for k, reward in enumerate(rewards[timestep:]):\n",
    "        discounted_return += (discount_factor**k) * reward\n",
    "    \n",
    "    return discounted_return"
   ]
  },
  {
   "cell_type": "code",
   "execution_count": 50,
   "id": "c4316314-3a7d-4af1-b36c-e27ea01ed890",
   "metadata": {},
   "outputs": [],
   "source": [
    "rewards = torch.tensor([1, 2, 3, 4, 5])"
   ]
  },
  {
   "cell_type": "code",
   "execution_count": 51,
   "id": "5cb87168-a8b9-479f-900d-909f796ae7f8",
   "metadata": {},
   "outputs": [
    {
     "data": {
      "text/plain": [
       "tensor([11.8605])"
      ]
     },
     "execution_count": 51,
     "metadata": {},
     "output_type": "execute_result"
    }
   ],
   "source": [
    "calculate_discounted_return_time_step(rewards, 2, 0.99)"
   ]
  },
  {
   "cell_type": "code",
   "execution_count": null,
   "id": "3ee38450-10f1-48f1-8695-7bfe51123232",
   "metadata": {},
   "outputs": [],
   "source": [
    "for i in range(10):\n",
    "    action = env.action_space.sample()\n",
    "    env.step(action)"
   ]
  },
  {
   "cell_type": "code",
   "execution_count": null,
   "id": "5193d566-c523-472d-bc9c-4a6b8b5bf671",
   "metadata": {},
   "outputs": [],
   "source": [
    "subject had past"
   ]
  },
  {
   "cell_type": "code",
   "execution_count": null,
   "id": "ac16979c-7553-443b-87e1-3cf247970fad",
   "metadata": {},
   "outputs": [],
   "source": [
    "will have not pas"
   ]
  }
 ],
 "metadata": {
  "kernelspec": {
   "display_name": "Python 3 (ipykernel)",
   "language": "python",
   "name": "python3"
  },
  "language_info": {
   "codemirror_mode": {
    "name": "ipython",
    "version": 3
   },
   "file_extension": ".py",
   "mimetype": "text/x-python",
   "name": "python",
   "nbconvert_exporter": "python",
   "pygments_lexer": "ipython3",
   "version": "3.8.15"
  }
 },
 "nbformat": 4,
 "nbformat_minor": 5
}
