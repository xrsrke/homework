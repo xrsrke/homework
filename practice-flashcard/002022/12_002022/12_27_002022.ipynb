{
 "cells": [
  {
   "cell_type": "markdown",
   "id": "44b69bf7",
   "metadata": {},
   "source": [
    "### Python"
   ]
  },
  {
   "cell_type": "code",
   "execution_count": null,
   "id": "17e91eae",
   "metadata": {},
   "outputs": [],
   "source": [
    "class CreatureModifier:\n",
    "    def __init__(self):\n",
    "        self.next_creature = None\n",
    "        \n",
    "    def add_modifier(self, creature):\n",
    "        if self.next_creature is not None:\n",
    "            self.next_creature = creature\n",
    "        else:\n",
    "            self.next_creature.add_modifier(creature)\n",
    "    \n",
    "    def handle(self):\n",
    "        if self.next_creature is None: return\n",
    "        \n",
    "        if self.next_creature is not None:\n",
    "            return self.next_creature.handle()"
   ]
  },
  {
   "cell_type": "code",
   "execution_count": null,
   "id": "f0b40118",
   "metadata": {},
   "outputs": [],
   "source": [
    "current state, event, action"
   ]
  },
  {
   "cell_type": "code",
   "execution_count": 2,
   "id": "f9c1ed05",
   "metadata": {},
   "outputs": [],
   "source": [
    "class PersonBuilder:\n",
    "    def __init__(self):\n",
    "        self.person = Person()\n",
    "    \n",
    "    @property\n",
    "    def lives(self): return PersonAddressBuilder(person=self)\n",
    "    \n",
    "    @property\n",
    "    def works(self): pass"
   ]
  },
  {
   "cell_type": "code",
   "execution_count": 5,
   "id": "f4df7929",
   "metadata": {},
   "outputs": [],
   "source": [
    "from abc import ABC, abstractclassmethod"
   ]
  },
  {
   "cell_type": "code",
   "execution_count": null,
   "id": "0209b6d3",
   "metadata": {},
   "outputs": [],
   "source": [
    "class PersonAddressBuilder(PersonBuilder):\n",
    "    def __init__(self):\n",
    "        self.person = person\n",
    "    \n",
    "    def in_city(self, city):\n",
    "        self.person.city = city\n",
    "        return self\n",
    "    \n",
    "    def with_postcode(self, postcode):\n",
    "        self.person.postcode = postcode\n",
    "        return self"
   ]
  },
  {
   "cell_type": "code",
   "execution_count": 3,
   "id": "518ed5c4",
   "metadata": {},
   "outputs": [],
   "source": [
    "class Clock:\n",
    "    def __init__(self):\n",
    "        self.time = \"time\"\n",
    "    \n",
    "    def tick(self):\n",
    "        self.time = \"time\""
   ]
  },
  {
   "cell_type": "code",
   "execution_count": 11,
   "id": "62dd95ac",
   "metadata": {},
   "outputs": [],
   "source": [
    "class Observer(ABC):\n",
    "    @abstractclassmethod\n",
    "    def update(self): pass"
   ]
  },
  {
   "cell_type": "code",
   "execution_count": 14,
   "id": "892e010e",
   "metadata": {},
   "outputs": [],
   "source": [
    "class ObservableObject:\n",
    "    def __init__(self):\n",
    "        self.observers = []\n",
    "    \n",
    "    def register(self, observer):\n",
    "        self.observers.append(observer)\n",
    "    \n",
    "    def update_to_observers(self):\n",
    "        for observer in self.observers:\n",
    "            observer.update()"
   ]
  },
  {
   "cell_type": "code",
   "execution_count": 15,
   "id": "65623cad",
   "metadata": {},
   "outputs": [],
   "source": [
    "class ObservableClock(ObservableObject, Clock):\n",
    "    def tick(self):\n",
    "        self.tick()\n",
    "        self.update_to_observers()"
   ]
  },
  {
   "cell_type": "code",
   "execution_count": 12,
   "id": "69ea1343",
   "metadata": {},
   "outputs": [],
   "source": [
    "class RealTimeDisplay(Observer):\n",
    "    def update(self, data):\n",
    "        self.show_time(data)\n",
    "        \n",
    "    def show_time(self, time):\n",
    "        print(f\"time: {time}\")"
   ]
  },
  {
   "cell_type": "code",
   "execution_count": 16,
   "id": "ba7d8071",
   "metadata": {},
   "outputs": [],
   "source": [
    "from abc import ABC, abstractclassmethod"
   ]
  },
  {
   "cell_type": "code",
   "execution_count": 17,
   "id": "3657ece3",
   "metadata": {},
   "outputs": [],
   "source": [
    "class State(ABC):\n",
    "    def __init__(self, order):\n",
    "        self.order = order\n",
    "    \n",
    "    @abstractclassmethod\n",
    "    def receive_payment(self): pass\n",
    "    \n",
    "    @abstractclassmethod\n",
    "    def ship(self): pass"
   ]
  },
  {
   "cell_type": "code",
   "execution_count": 20,
   "id": "53821f6c",
   "metadata": {},
   "outputs": [],
   "source": [
    "class UnpaidState(State):\n",
    "    def receive_payment(self):\n",
    "        self.order.set_state(self.order.upaid_state)\n",
    "        print(\"your payment has been accepted\")\n",
    "    \n",
    "    def ship(self):\n",
    "        print(\"Can't ship unpaid orders\")"
   ]
  },
  {
   "cell_type": "markdown",
   "id": "28819b3d",
   "metadata": {},
   "source": [
    "### bash"
   ]
  },
  {
   "cell_type": "code",
   "execution_count": null,
   "id": "37b2bc94",
   "metadata": {},
   "outputs": [],
   "source": [
    "for arg in \"$@\" do\n",
    "    echo arg\n",
    "done"
   ]
  },
  {
   "cell_type": "code",
   "execution_count": null,
   "id": "d5ddb407",
   "metadata": {},
   "outputs": [],
   "source": [
    "cat < h1.txt > h2.txt"
   ]
  },
  {
   "cell_type": "code",
   "execution_count": null,
   "id": "4968eb60",
   "metadata": {},
   "outputs": [],
   "source": [
    "X -ne Y"
   ]
  },
  {
   "cell_type": "markdown",
   "id": "53639cc1",
   "metadata": {},
   "source": [
    "### English"
   ]
  },
  {
   "cell_type": "code",
   "execution_count": null,
   "id": "e98c5b30",
   "metadata": {},
   "outputs": [],
   "source": [
    "subject + verb-s/es"
   ]
  },
  {
   "cell_type": "code",
   "execution_count": null,
   "id": "014f6a27",
   "metadata": {},
   "outputs": [],
   "source": [
    "subject + had + past-participle"
   ]
  },
  {
   "cell_type": "code",
   "execution_count": null,
   "id": "cdf397d8",
   "metadata": {},
   "outputs": [],
   "source": [
    "willn't have past"
   ]
  },
  {
   "cell_type": "code",
   "execution_count": null,
   "id": "f629e947",
   "metadata": {},
   "outputs": [],
   "source": [
    "subject didn't w"
   ]
  },
  {
   "cell_type": "markdown",
   "id": "1d542801",
   "metadata": {},
   "source": [
    "### General Education"
   ]
  },
  {
   "cell_type": "code",
   "execution_count": null,
   "id": "c9e16e4a",
   "metadata": {},
   "outputs": [],
   "source": [
    "hold strong emotional, ignore, pay attention to what support current belief"
   ]
  },
  {
   "cell_type": "code",
   "execution_count": null,
   "id": "a316bf55",
   "metadata": {},
   "outputs": [],
   "source": [
    "premises and conclusion"
   ]
  },
  {
   "cell_type": "code",
   "execution_count": null,
   "id": "652c39c7",
   "metadata": {},
   "outputs": [],
   "source": [
    "was"
   ]
  },
  {
   "cell_type": "code",
   "execution_count": null,
   "id": "47390528",
   "metadata": {},
   "outputs": [],
   "source": [
    "didn't had"
   ]
  },
  {
   "cell_type": "markdown",
   "id": "b3d4f09b",
   "metadata": {},
   "source": [
    "### Deep Learning"
   ]
  },
  {
   "cell_type": "code",
   "execution_count": null,
   "id": "b3e9fcd6",
   "metadata": {},
   "outputs": [],
   "source": [
    "for t in range(n_steps):\n",
    "    \n",
    "    reward = calculate_reward(state[t], actions[t])\n",
    "    v = calculate_value_function(state[t+1])\n",
    "    \n",
    "    q[t] = reward + gamma * v.mean()"
   ]
  },
  {
   "cell_type": "code",
   "execution_count": 22,
   "id": "0962f73b",
   "metadata": {},
   "outputs": [],
   "source": [
    "from torch.utils.data import DataLoader, random_split"
   ]
  },
  {
   "cell_type": "code",
   "execution_count": null,
   "id": "4b91803f",
   "metadata": {},
   "outputs": [],
   "source": [
    "train_dset, valid_dset = random_split(dataset, lengths=[6, 4])"
   ]
  },
  {
   "cell_type": "code",
   "execution_count": 23,
   "id": "ee176046",
   "metadata": {},
   "outputs": [
    {
     "ename": "NameError",
     "evalue": "name 'train_dset' is not defined",
     "output_type": "error",
     "traceback": [
      "\u001b[0;31m---------------------------------------------------------------------------\u001b[0m",
      "\u001b[0;31mNameError\u001b[0m                                 Traceback (most recent call last)",
      "Cell \u001b[0;32mIn[23], line 1\u001b[0m\n\u001b[0;32m----> 1\u001b[0m train_loader \u001b[38;5;241m=\u001b[39m DataLoader(\u001b[43mtrain_dset\u001b[49m, batch_size\u001b[38;5;241m=\u001b[39m\u001b[38;5;241m2\u001b[39m)\n\u001b[1;32m      2\u001b[0m valid_loader \u001b[38;5;241m=\u001b[39m DataLoader(valid_dset, batch_size\u001b[38;5;241m=\u001b[39m\u001b[38;5;241m2\u001b[39m)\n",
      "\u001b[0;31mNameError\u001b[0m: name 'train_dset' is not defined"
     ]
    }
   ],
   "source": [
    "train_loader = DataLoader(train_dset, batch_size=2)\n",
    "valid_loader = DataLoader(valid_dset, batch_size=2)"
   ]
  },
  {
   "cell_type": "code",
   "execution_count": 24,
   "id": "f3c72894",
   "metadata": {},
   "outputs": [],
   "source": [
    "from torch import nn\n",
    "import torch.nn.functional as F"
   ]
  },
  {
   "cell_type": "code",
   "execution_count": null,
   "id": "9266bd1d",
   "metadata": {},
   "outputs": [],
   "source": [
    "class LitResNet(nn.Module):\n",
    "    def __init__(self):\n",
    "        super().__init__()\n",
    "        self.model = _model1\n",
    "        self.loss = nn.CrossEntropyLoss()\n",
    "    \n",
    "    def training_step(self, batch, batch_idx):\n",
    "        x, y = batch\n",
    "        x = x.view(x.size(0) - 1)"
   ]
  },
  {
   "cell_type": "code",
   "execution_count": null,
   "id": "241464da",
   "metadata": {},
   "outputs": [],
   "source": [
    "init.kaiming_normal_(layer.weight)"
   ]
  },
  {
   "cell_type": "code",
   "execution_count": null,
   "id": "8f3a3aa3",
   "metadata": {},
   "outputs": [],
   "source": [
    "z_mean, z_log"
   ]
  },
  {
   "cell_type": "code",
   "execution_count": null,
   "id": "e0c12d39",
   "metadata": {},
   "outputs": [],
   "source": [
    "conv, batch norm, residual, linear"
   ]
  },
  {
   "cell_type": "code",
   "execution_count": 25,
   "id": "c0a1fd86",
   "metadata": {},
   "outputs": [],
   "source": [
    "import pytorch_lightning as pl"
   ]
  },
  {
   "cell_type": "code",
   "execution_count": 26,
   "id": "296794a7",
   "metadata": {},
   "outputs": [],
   "source": [
    "class LitResNet(pl.LightningModule):\n",
    "    def __init__(self):\n",
    "        self.model = model1\n",
    "        self.loss = nn.CrossEntropyLoss()\n",
    "    \n",
    "    def training_step(self, batch, batch_idx):\n",
    "        x, y = batch\n",
    "        pred = self.model(x)\n",
    "        \n",
    "        loss = self.loss(pred, y)\n",
    "        return loss"
   ]
  },
  {
   "cell_type": "code",
   "execution_count": null,
   "id": "845ff29a",
   "metadata": {},
   "outputs": [],
   "source": [
    "init.kaiming_normal_(layer1.weight)"
   ]
  },
  {
   "cell_type": "code",
   "execution_count": 27,
   "id": "2eee5adc",
   "metadata": {},
   "outputs": [],
   "source": [
    "from torch.distributions import Categorical"
   ]
  },
  {
   "cell_type": "code",
   "execution_count": null,
   "id": "28a67328",
   "metadata": {},
   "outputs": [],
   "source": [
    "cat = Categorical(pmf)"
   ]
  },
  {
   "cell_type": "code",
   "execution_count": null,
   "id": "fbf32d27",
   "metadata": {},
   "outputs": [],
   "source": [
    "samples = cat.sample(10)"
   ]
  },
  {
   "cell_type": "code",
   "execution_count": 30,
   "id": "1a762bd7",
   "metadata": {},
   "outputs": [],
   "source": [
    "import torch"
   ]
  },
  {
   "cell_type": "code",
   "execution_count": 31,
   "id": "b66b578a",
   "metadata": {},
   "outputs": [
    {
     "data": {
      "text/plain": [
       "tensor([ 0,  1,  2,  3,  4,  5,  6,  7,  8,  9, 10, 11, 12])"
      ]
     },
     "execution_count": 31,
     "metadata": {},
     "output_type": "execute_result"
    }
   ],
   "source": [
    "torch.arange(13)"
   ]
  },
  {
   "cell_type": "code",
   "execution_count": 32,
   "id": "b1833574",
   "metadata": {},
   "outputs": [
    {
     "data": {
      "text/plain": [
       "Embedding(100, 5, padding_idx=5)"
      ]
     },
     "execution_count": 32,
     "metadata": {},
     "output_type": "execute_result"
    }
   ],
   "source": [
    "nn.Embedding(100, embedding_dim=5, padding_idx=5)"
   ]
  },
  {
   "cell_type": "code",
   "execution_count": 33,
   "id": "2c98565f",
   "metadata": {},
   "outputs": [],
   "source": [
    "def log_softmax(x):\n",
    "    return x - x.exp().sum().log()"
   ]
  },
  {
   "cell_type": "code",
   "execution_count": null,
   "id": "7470e9f3",
   "metadata": {},
   "outputs": [],
   "source": [
    "def mae(self):\n",
    "    return x-x.mean()"
   ]
  },
  {
   "cell_type": "code",
   "execution_count": null,
   "id": "bb3c7168",
   "metadata": {},
   "outputs": [],
   "source": [
    "7, 3, 4,4 "
   ]
  },
  {
   "cell_type": "markdown",
   "id": "50705c2d",
   "metadata": {},
   "source": [
    "### RL"
   ]
  },
  {
   "cell_type": "code",
   "execution_count": 21,
   "id": "a8bc9d85",
   "metadata": {},
   "outputs": [],
   "source": [
    "import gym"
   ]
  },
  {
   "cell_type": "code",
   "execution_count": null,
   "id": "44bfc1a9",
   "metadata": {},
   "outputs": [],
   "source": [
    "env.observation_space"
   ]
  },
  {
   "cell_type": "code",
   "execution_count": 28,
   "id": "f756cb73",
   "metadata": {},
   "outputs": [],
   "source": [
    "import multiprocessing"
   ]
  },
  {
   "cell_type": "code",
   "execution_count": null,
   "id": "cb868180",
   "metadata": {},
   "outputs": [],
   "source": [
    "with multiprocessing.Pool(4) as pool:\n",
    "    pool.map(sum, numbers)"
   ]
  },
  {
   "cell_type": "code",
   "execution_count": null,
   "id": "46dbb31a",
   "metadata": {},
   "outputs": [],
   "source": [
    "discounted_returns = calculate_discounted_returns(rewards)"
   ]
  },
  {
   "cell_type": "code",
   "execution_count": null,
   "id": "acead20f",
   "metadata": {},
   "outputs": [],
   "source": [
    "total_loss = 0"
   ]
  },
  {
   "cell_type": "code",
   "execution_count": null,
   "id": "3241b522",
   "metadata": {},
   "outputs": [],
   "source": [
    "for discounted_return, prob in zip(discounted_returns, selected_action_probs):\n",
    "    total_loss += discounted_return * -prob.log()"
   ]
  },
  {
   "cell_type": "code",
   "execution_count": null,
   "id": "a428a9a8",
   "metadata": {},
   "outputs": [],
   "source": [
    "loss = total_loss / len(prob)"
   ]
  }
 ],
 "metadata": {
  "kernelspec": {
   "display_name": "Python 3 (ipykernel)",
   "language": "python",
   "name": "python3"
  },
  "language_info": {
   "codemirror_mode": {
    "name": "ipython",
    "version": 3
   },
   "file_extension": ".py",
   "mimetype": "text/x-python",
   "name": "python",
   "nbconvert_exporter": "python",
   "pygments_lexer": "ipython3",
   "version": "3.8.15"
  }
 },
 "nbformat": 4,
 "nbformat_minor": 5
}
