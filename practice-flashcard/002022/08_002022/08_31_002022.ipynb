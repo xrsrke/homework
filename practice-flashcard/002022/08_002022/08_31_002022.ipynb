{
 "cells": [
  {
   "cell_type": "markdown",
   "id": "c2b7ada1",
   "metadata": {},
   "source": [
    "### Python"
   ]
  },
  {
   "cell_type": "code",
   "execution_count": 6,
   "id": "7564bd2c",
   "metadata": {},
   "outputs": [],
   "source": [
    "from dataclasses import field, dataclass"
   ]
  },
  {
   "cell_type": "code",
   "execution_count": 7,
   "id": "06d2ae8d",
   "metadata": {},
   "outputs": [],
   "source": [
    "@dataclass\n",
    "class Planet:\n",
    "    name: str\n",
    "    population: int\n",
    "    mass: float\n",
    "    secret_code: str = field(repr=False)"
   ]
  },
  {
   "cell_type": "code",
   "execution_count": 8,
   "id": "d12812c4",
   "metadata": {},
   "outputs": [],
   "source": [
    "#git stash pop 0 -d"
   ]
  },
  {
   "cell_type": "code",
   "execution_count": 9,
   "id": "34be1a8d",
   "metadata": {},
   "outputs": [],
   "source": [
    "a = 5"
   ]
  },
  {
   "cell_type": "code",
   "execution_count": 10,
   "id": "23e0deb3",
   "metadata": {},
   "outputs": [
    {
     "name": "stdout",
     "output_type": "stream",
     "text": [
      "a < 10\n"
     ]
    }
   ],
   "source": [
    "res = print(\"a < 10\") if a < 10 else print(\"a > 10\")"
   ]
  },
  {
   "cell_type": "code",
   "execution_count": 12,
   "id": "0c16df7a",
   "metadata": {},
   "outputs": [],
   "source": [
    "# for i, j in list:\n",
    "#     pass"
   ]
  },
  {
   "cell_type": "code",
   "execution_count": 13,
   "id": "ed28dbe5",
   "metadata": {},
   "outputs": [],
   "source": [
    "@dataclass\n",
    "class Vehicle:\n",
    "    year: int\n",
    "    price: int\n",
    "    manufacture: str"
   ]
  },
  {
   "cell_type": "code",
   "execution_count": 14,
   "id": "59c1d0a6",
   "metadata": {},
   "outputs": [],
   "source": [
    "@dataclass\n",
    "class Robot:\n",
    "    operating_system: str = \"Linux\""
   ]
  },
  {
   "cell_type": "code",
   "execution_count": 16,
   "id": "fdfa0ab3",
   "metadata": {},
   "outputs": [],
   "source": [
    "@dataclass\n",
    "class Car(Robot):\n",
    "    speed: int = 100"
   ]
  },
  {
   "cell_type": "code",
   "execution_count": 19,
   "id": "bee68f2e",
   "metadata": {},
   "outputs": [],
   "source": [
    "# MISTAKE_BELOW"
   ]
  },
  {
   "cell_type": "code",
   "execution_count": 18,
   "id": "9cc5efaa",
   "metadata": {},
   "outputs": [],
   "source": [
    "@dataclass\n",
    "class BrainImplant:\n",
    "    \n",
    "    ADVANCE_SUPERVISION = (\"Level 3\", \"Level 4\")\n",
    "    \n",
    "    supervision: str\n",
    "    price: int\n",
    "    manufacture: str\n",
    "    advance: bool = False\n",
    "        \n",
    "    def __post_init__(self):\n",
    "        if self.supervision in ADVANCE_SUPERVISION:\n",
    "            self.advance = True # use `self.advance` not `advance`"
   ]
  },
  {
   "cell_type": "code",
   "execution_count": 20,
   "id": "1d5c9c77",
   "metadata": {},
   "outputs": [],
   "source": [
    "@dataclass\n",
    "class Universe:\n",
    "    constants: int\n",
    "    initial_energy: int = 42\n",
    "    change_in_energy: int = 0"
   ]
  },
  {
   "cell_type": "code",
   "execution_count": 21,
   "id": "2ac350a9",
   "metadata": {},
   "outputs": [],
   "source": [
    "from collections import namedtuple"
   ]
  },
  {
   "cell_type": "code",
   "execution_count": 22,
   "id": "94f692c7",
   "metadata": {},
   "outputs": [],
   "source": [
    "EV = namedtuple(\"ElectricVehicle\", [\"efficient\", \"make\", \"price\"])"
   ]
  },
  {
   "cell_type": "code",
   "execution_count": 23,
   "id": "6b49df36",
   "metadata": {},
   "outputs": [],
   "source": [
    "class TextField:\n",
    "    def __set__(self, instance, value):\n",
    "        pass"
   ]
  },
  {
   "cell_type": "code",
   "execution_count": null,
   "id": "8f2f97d9",
   "metadata": {},
   "outputs": [],
   "source": [
    "class NumerField:\n",
    "    def __set_name__(self, owner, name):\n",
    "        self.name = name"
   ]
  },
  {
   "cell_type": "code",
   "execution_count": 24,
   "id": "93157093",
   "metadata": {},
   "outputs": [],
   "source": [
    "class TextField:\n",
    "    \n",
    "    def __init__(self, name):\n",
    "        self.field_name = field_name\n",
    "    \n",
    "    def __get__(self, instance, owner):\n",
    "        return instance.__dict__.get(self.field_name)\n",
    "    \n",
    "    def __set__(self, instance, value):\n",
    "        instance.__dict__[self.field_name] = value"
   ]
  },
  {
   "cell_type": "code",
   "execution_count": null,
   "id": "aaa9c17d",
   "metadata": {},
   "outputs": [],
   "source": [
    "class PhoneField:\n",
    "    def __set__(self, instance, value):\n",
    "        self.value = value"
   ]
  },
  {
   "cell_type": "code",
   "execution_count": null,
   "id": "575ac072",
   "metadata": {},
   "outputs": [],
   "source": [
    "class TextField:\n",
    "    def __init__(self):\n",
    "        self._data = {}\n",
    "    \n",
    "    def __get__(self, instance, owner):\n",
    "        return self_data[instance]\n",
    "    \n",
    "    def __set__(self, instance, value):\n",
    "        self._data[instance] = value"
   ]
  },
  {
   "cell_type": "code",
   "execution_count": null,
   "id": "3572614f",
   "metadata": {},
   "outputs": [],
   "source": [
    "color = property(fget=, fset=)"
   ]
  },
  {
   "cell_type": "markdown",
   "id": "7e40f6a5",
   "metadata": {},
   "source": [
    "### Deep Learning"
   ]
  },
  {
   "cell_type": "code",
   "execution_count": 26,
   "id": "1a889fea",
   "metadata": {},
   "outputs": [],
   "source": [
    "import torch\n",
    "from torch import nn"
   ]
  },
  {
   "cell_type": "code",
   "execution_count": 27,
   "id": "c99541cc",
   "metadata": {},
   "outputs": [],
   "source": [
    "model = nn.Sequential(\n",
    "    nn.Linear(2, 4),\n",
    "    nn.Linear(4, 3)\n",
    ")"
   ]
  },
  {
   "cell_type": "code",
   "execution_count": null,
   "id": "ec12c7fa",
   "metadata": {},
   "outputs": [],
   "source": [
    "def mean_absolute_error(y, y_predicted):\n",
    "    result = 0 \n",
    "    for a, b in zip(y, y_predicted)\n",
    "        result += abs(a - b)\n",
    "    return result / len(y_predicted)"
   ]
  },
  {
   "cell_type": "code",
   "execution_count": null,
   "id": "56b79d44",
   "metadata": {},
   "outputs": [],
   "source": []
  }
 ],
 "metadata": {
  "kernelspec": {
   "display_name": "Python 3 (ipykernel)",
   "language": "python",
   "name": "python3"
  },
  "language_info": {
   "codemirror_mode": {
    "name": "ipython",
    "version": 3
   },
   "file_extension": ".py",
   "mimetype": "text/x-python",
   "name": "python",
   "nbconvert_exporter": "python",
   "pygments_lexer": "ipython3",
   "version": "3.9.12"
  }
 },
 "nbformat": 4,
 "nbformat_minor": 5
}
