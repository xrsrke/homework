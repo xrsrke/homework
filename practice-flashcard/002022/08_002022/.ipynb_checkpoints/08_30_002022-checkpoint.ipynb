{
 "cells": [
  {
   "cell_type": "markdown",
   "id": "ddc4fc4f",
   "metadata": {},
   "source": [
    "## Python"
   ]
  },
  {
   "cell_type": "code",
   "execution_count": 1,
   "id": "079dba9d",
   "metadata": {},
   "outputs": [],
   "source": [
    "class PhoneField():\n",
    "    def __get__(self, instance, owner):\n",
    "        return self.value\n",
    "    \n",
    "    def __set__(self, instance, value):\n",
    "        self.value = value"
   ]
  },
  {
   "cell_type": "code",
   "execution_count": 2,
   "id": "e9900bbe",
   "metadata": {},
   "outputs": [],
   "source": [
    "import re"
   ]
  },
  {
   "cell_type": "code",
   "execution_count": 3,
   "id": "f4b5fb0b",
   "metadata": {},
   "outputs": [],
   "source": [
    "pattern = re.compile(\"merry\")"
   ]
  },
  {
   "cell_type": "code",
   "execution_count": 6,
   "id": "7ace0e38",
   "metadata": {},
   "outputs": [],
   "source": [
    "c = pattern.findall(\"merry merry christmas\")"
   ]
  },
  {
   "cell_type": "code",
   "execution_count": 7,
   "id": "5ef98721",
   "metadata": {},
   "outputs": [
    {
     "data": {
      "text/plain": [
       "['merry', 'merry']"
      ]
     },
     "execution_count": 7,
     "metadata": {},
     "output_type": "execute_result"
    }
   ],
   "source": [
    "c"
   ]
  },
  {
   "cell_type": "code",
   "execution_count": 10,
   "id": "b5abf4a0",
   "metadata": {},
   "outputs": [],
   "source": [
    "class Virus:\n",
    "    KNOWN_VARIANT = [\"alpha\", \"beta\", \"gamma\", \"epsilon\"]\n",
    "    \n",
    "    def set_variant(self, value):\n",
    "        if value.lower() not in KNOWN_VARIANT:\n",
    "            #...\n",
    "            pass\n",
    "        else:\n",
    "            self.variant = value"
   ]
  },
  {
   "cell_type": "code",
   "execution_count": 11,
   "id": "1b511872",
   "metadata": {},
   "outputs": [],
   "source": [
    "class Virus:\n",
    "    \n",
    "    def infect(self):\n",
    "        print(\"Virus will be infect\")\n",
    "        self.mutate()"
   ]
  },
  {
   "cell_type": "code",
   "execution_count": 12,
   "id": "0005aa7c",
   "metadata": {},
   "outputs": [],
   "source": [
    "#Calculator.add_numbers = staticmethod(Calculator.add_numbers)"
   ]
  },
  {
   "cell_type": "code",
   "execution_count": null,
   "id": "27ff0e17",
   "metadata": {},
   "outputs": [],
   "source": []
  }
 ],
 "metadata": {
  "kernelspec": {
   "display_name": "Python 3 (ipykernel)",
   "language": "python",
   "name": "python3"
  },
  "language_info": {
   "codemirror_mode": {
    "name": "ipython",
    "version": 3
   },
   "file_extension": ".py",
   "mimetype": "text/x-python",
   "name": "python",
   "nbconvert_exporter": "python",
   "pygments_lexer": "ipython3",
   "version": "3.9.12"
  }
 },
 "nbformat": 4,
 "nbformat_minor": 5
}
