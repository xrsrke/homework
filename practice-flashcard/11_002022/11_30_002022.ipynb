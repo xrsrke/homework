{
 "cells": [
  {
   "cell_type": "markdown",
   "id": "389ee987-6020-4578-b76e-02f2060f5301",
   "metadata": {},
   "source": [
    "### Deep Learning"
   ]
  },
  {
   "cell_type": "code",
   "execution_count": null,
   "id": "195c2b49-ab2d-4dea-b2fc-867c95709460",
   "metadata": {},
   "outputs": [],
   "source": [
    "import torch\n",
    "from torch import nn\n",
    "import torch.nn.functional as F"
   ]
  },
  {
   "cell_type": "code",
   "execution_count": null,
   "id": "6d60236c-9498-428d-980a-7d179c3c186a",
   "metadata": {},
   "outputs": [],
   "source": [
    "constracting path, expansion path"
   ]
  },
  {
   "cell_type": "code",
   "execution_count": null,
   "id": "a29fab32-51b8-4519-8e40-c82cf4d6ff37",
   "metadata": {},
   "outputs": [],
   "source": [
    "l1.bias.data.zero_()"
   ]
  },
  {
   "cell_type": "code",
   "execution_count": null,
   "id": "1d538c2c-c77d-4651-ae50-2bf6edf8afc2",
   "metadata": {},
   "outputs": [],
   "source": [
    "from fastai.vision.all import *"
   ]
  },
  {
   "cell_type": "code",
   "execution_count": null,
   "id": "95862b26-2353-4c56-a5ce-55f28129eb72",
   "metadata": {},
   "outputs": [],
   "source": [
    "class TestCallback(Callback):\n",
    "    def __init__(self):\n",
    "        self.preds = []\n",
    "    \n",
    "    def after_batch(self):\n",
    "        self.preds.append(self.pred)"
   ]
  },
  {
   "cell_type": "code",
   "execution_count": null,
   "id": "8d2ca7ff-c33c-4230-956d-8a027ed1b8f7",
   "metadata": {},
   "outputs": [],
   "source": [
    "likelihood = maximum likelihood = minimize negative likelihood"
   ]
  },
  {
   "cell_type": "code",
   "execution_count": null,
   "id": "92b03797-afb0-4da9-86f2-b0057cc030dc",
   "metadata": {},
   "outputs": [],
   "source": [
    "out of second, in of first"
   ]
  },
  {
   "cell_type": "code",
   "execution_count": null,
   "id": "ee9c81bb-b36b-4836-b4ec-1fa77a3b63ff",
   "metadata": {},
   "outputs": [],
   "source": [
    "residual, batchnorm, linear, conv2d"
   ]
  },
  {
   "cell_type": "code",
   "execution_count": null,
   "id": "764fc13f-d82b-43f5-aad7-07d9d6a11d83",
   "metadata": {},
   "outputs": [],
   "source": [
    "class ShortcutProjection(nn.Module):\n",
    "    def __init__(self, in_channels, out_channels, stride):\n",
    "        super().__init__()\n",
    "        self.model = nn.Sequential(\n",
    "            nn.Conv2d(\n",
    "                in_channels, out_channels,\n",
    "                stride,\n",
    "            ),\n",
    "            nn.BatchNorm2d(out_channels)\n",
    "        )\n",
    "    \n",
    "    def forward(self, x):\n",
    "        return self.model(x)"
   ]
  },
  {
   "cell_type": "code",
   "execution_count": null,
   "id": "6f80af4a-90ee-450f-b46c-17d2f72f1fe1",
   "metadata": {},
   "outputs": [],
   "source": [
    "avg_pool = nn.AdaptiveAvgPool2d((3, 4))"
   ]
  },
  {
   "cell_type": "code",
   "execution_count": null,
   "id": "747e7b67-e6d4-42d3-8c6d-ab0ce6c90bde",
   "metadata": {},
   "outputs": [],
   "source": [
    "cell state, input, hidden state"
   ]
  },
  {
   "cell_type": "code",
   "execution_count": null,
   "id": "f002d742-3009-4314-b0f1-6356d8b7b1ce",
   "metadata": {},
   "outputs": [
    {
     "data": {
      "text/plain": [
       "torch.float16"
      ]
     },
     "execution_count": null,
     "metadata": {},
     "output_type": "execute_result"
    }
   ],
   "source": [
    "torch.float16"
   ]
  },
  {
   "cell_type": "code",
   "execution_count": null,
   "id": "1238b854-829b-498a-9f92-0142f5bc02cc",
   "metadata": {},
   "outputs": [],
   "source": [
    "class Hook:\n",
    "    def __enter__(self, **kwargs):\n",
    "        print('enter')\n",
    "    \n",
    "    def __exit__(self, *args, **kwargs):\n",
    "        print('exit...')"
   ]
  },
  {
   "cell_type": "code",
   "execution_count": null,
   "id": "ce9f85bc-cf34-4893-a430-08c9ffde66f7",
   "metadata": {},
   "outputs": [
    {
     "name": "stdout",
     "output_type": "stream",
     "text": [
      "enter\n",
      "1\n",
      "exit...\n"
     ]
    }
   ],
   "source": [
    "with Hook() as hook:\n",
    "    print(1)"
   ]
  },
  {
   "cell_type": "code",
   "execution_count": null,
   "id": "3d6e1e1c-ff12-41ba-9688-398fa4cb8125",
   "metadata": {},
   "outputs": [],
   "source": [
    "torch.clamp_max(x, 3)"
   ]
  },
  {
   "cell_type": "code",
   "execution_count": null,
   "id": "9c857fed-5ac8-454e-9fba-fb326cc3d557",
   "metadata": {},
   "outputs": [],
   "source": [
    "def scale_pixels(x):\n",
    "    return x / 2 + 0.5"
   ]
  },
  {
   "cell_type": "code",
   "execution_count": null,
   "id": "f54cac40-278c-4915-8e57-396c57d7de74",
   "metadata": {},
   "outputs": [],
   "source": [
    "def create_text_embedding(prompt, empty_token):\n",
    "    prompt_token = _tokenizier(prompt)\n",
    "    prompt_embedding = text_encoder(prompt_token)\n",
    "    empty_embedding = text_encoder(empty_token)\n",
    "    \n",
    "    return torch.stack([empty_embedding, prompt_embedding], dim=1)"
   ]
  },
  {
   "cell_type": "code",
   "execution_count": null,
   "id": "d06357ec-e6dd-46bb-ae11-ab3f39578d60",
   "metadata": {},
   "outputs": [],
   "source": [
    "class LSTMCell(nn.ModuleDict):\n",
    "    def __init__(self, n_input, n_hidden):\n",
    "        super().__init__()\n",
    "        self.forget_gate = nn.Linear(n_input + n_hidden, n_hidden)\n",
    "        self.input_gate = nn.Linear(n_input + n_hidden, n_hidden)\n",
    "        self.cell_gate = nn.Linear(n_input + n_hidden, n_hidden)\n",
    "        self.output_gate = nn.Linear(n_input + n_hidden, n_hidden)\n",
    "    \n",
    "    def forward(self, inp, state):\n",
    "        prev_c, prev_h = state\n",
    "        \n",
    "        stacked_h = torch.stack([inp, prev_h])\n",
    "        \n",
    "        out_of_forget_gate = F.sigmoid(self.forget_gate(stacked_h))\n",
    "        out_of_input_gate = F.sigmoid(self.input_gate(stacked_h))\n",
    "        out_of_cell_gate = F.sigmoid(self.cell_gate(stacked_h))\n",
    "        out_of_output_gate = F.sigmoid(self.output_gate(stacked_h))\n",
    "        \n",
    "        new_c = prev_c * out_of_forget_gate + out_of_input_gate * out_of_cell_gate\n",
    "        new_h = F.tanh(new_c) * out_of_output_gate"
   ]
  },
  {
   "cell_type": "code",
   "execution_count": null,
   "id": "67734454-0c90-4ce2-9972-2d62d9cf9ba8",
   "metadata": {},
   "outputs": [],
   "source": [
    "inp, out, cell, forget"
   ]
  },
  {
   "cell_type": "code",
   "execution_count": null,
   "id": "eea82f8b-bb4f-4105-b5ba-972190632bd2",
   "metadata": {},
   "outputs": [
    {
     "ename": "NameError",
     "evalue": "name 'model' is not defined",
     "output_type": "error",
     "traceback": [
      "\u001b[0;31m---------------------------------------------------------------------------\u001b[0m",
      "\u001b[0;31mNameError\u001b[0m                                 Traceback (most recent call last)",
      "Cell \u001b[0;32mIn [9], line 1\u001b[0m\n\u001b[0;32m----> 1\u001b[0m \u001b[38;5;28;01mfor\u001b[39;00m param \u001b[38;5;129;01min\u001b[39;00m \u001b[43mmodel\u001b[49m\u001b[38;5;241m.\u001b[39mparameters():\n\u001b[1;32m      2\u001b[0m     param\u001b[38;5;241m.\u001b[39mrequires_grad \u001b[38;5;241m=\u001b[39m \u001b[38;5;28;01mFalse\u001b[39;00m\n",
      "\u001b[0;31mNameError\u001b[0m: name 'model' is not defined"
     ]
    }
   ],
   "source": [
    "for param in model.parameters():\n",
    "    param.requires_grad = False"
   ]
  },
  {
   "cell_type": "code",
   "execution_count": null,
   "id": "d3d5dd54-d37b-40cd-87cd-d34fa70d9cf7",
   "metadata": {},
   "outputs": [],
   "source": [
    "model.classifier[0].requires_grad = False\n",
    "model.classifier[3].requires_grad = False"
   ]
  },
  {
   "cell_type": "code",
   "execution_count": null,
   "id": "4a6d2763-32ff-47dc-a5ad-47659fa73591",
   "metadata": {},
   "outputs": [],
   "source": [
    "model.classifier[6] = nn.Linear(4096, 10)"
   ]
  },
  {
   "cell_type": "code",
   "execution_count": null,
   "id": "464e8c55-e1ea-44ed-ada2-a38b1e8da335",
   "metadata": {},
   "outputs": [],
   "source": [
    "f = open('x.pkl', mode='wb')"
   ]
  },
  {
   "cell_type": "code",
   "execution_count": null,
   "id": "548e4982-67e0-4567-8714-1cbfb5c8286c",
   "metadata": {},
   "outputs": [],
   "source": [
    "pickle.dump(x, f)"
   ]
  },
  {
   "cell_type": "code",
   "execution_count": null,
   "id": "1903e912-4df1-45e2-91d5-b051910ea7e3",
   "metadata": {},
   "outputs": [],
   "source": [
    "def accuracy(pred, targ):\n",
    "    arg_pred = torch.argmax(pred, dim=-1)\n",
    "    return (arg_pred == targ).float().mean()"
   ]
  },
  {
   "cell_type": "code",
   "execution_count": null,
   "id": "6e02c6c7-e4a4-470f-bb78-1c746c7678ff",
   "metadata": {},
   "outputs": [],
   "source": [
    "class Model(nn.Module):\n",
    "    def __init__(self, layers):\n",
    "        self.layers = nn.ModuleList(layers)\n",
    "        self.act_means = [[] for _ in self.layers]\n",
    "    \n",
    "    def forward(self, x):\n",
    "        for i, l in enumerate(self.layers):\n",
    "            x = l(x)\n",
    "            self.act_means[i] = x\n",
    "        \n",
    "        return x"
   ]
  },
  {
   "cell_type": "code",
   "execution_count": null,
   "id": "61465802-3726-4dbb-8bdb-45ac7b1196df",
   "metadata": {},
   "outputs": [],
   "source": [
    "def move_to_gpu(x):\n",
    "    device = \"cuda\" if torch.cuda.is_available() else \"cpu\"\n",
    "    return x.to(device)"
   ]
  },
  {
   "cell_type": "code",
   "execution_count": null,
   "id": "b5df1d5e-8cd2-4621-a2bd-4d1f6174a875",
   "metadata": {},
   "outputs": [],
   "source": [
    "def binary(x):\n",
    "    return x.exp() / x.exp() + 1"
   ]
  },
  {
   "cell_type": "code",
   "execution_count": null,
   "id": "c4a430d8-d959-4b98-aa7c-d92d956e5d75",
   "metadata": {},
   "outputs": [],
   "source": [
    "batchnorm, conv, residual, linear"
   ]
  },
  {
   "cell_type": "code",
   "execution_count": null,
   "id": "2e5c4d10-fab7-42f9-ae23-18cce7434b6b",
   "metadata": {},
   "outputs": [],
   "source": [
    "model.named_children()"
   ]
  },
  {
   "cell_type": "markdown",
   "id": "434eed80-d6f1-4285-8c63-3657dae804af",
   "metadata": {},
   "source": [
    "### Python"
   ]
  },
  {
   "cell_type": "code",
   "execution_count": null,
   "id": "55d6068e-983e-46f0-904a-86dc1e177014",
   "metadata": {},
   "outputs": [],
   "source": [
    "from fastcore.meta import *"
   ]
  },
  {
   "cell_type": "code",
   "execution_count": null,
   "id": "0568593e-3f62-46eb-a899-860ee95c7b6f",
   "metadata": {},
   "outputs": [],
   "source": [
    "@use_kwargs_dict()"
   ]
  }
 ],
 "metadata": {
  "kernelspec": {
   "display_name": "Python 3 (ipykernel)",
   "language": "python",
   "name": "python3"
  }
 },
 "nbformat": 4,
 "nbformat_minor": 5
}
