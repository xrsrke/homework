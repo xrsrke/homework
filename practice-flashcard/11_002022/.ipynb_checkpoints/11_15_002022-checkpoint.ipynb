{
 "cells": [
  {
   "cell_type": "markdown",
   "id": "6b83be24-ff73-4b18-a55e-96fd38261870",
   "metadata": {},
   "source": [
    "### Deep Learning"
   ]
  },
  {
   "cell_type": "code",
   "execution_count": null,
   "id": "adfedd3a-0f3a-4727-9b5f-44c86c1b02c5",
   "metadata": {},
   "outputs": [
    {
     "name": "stderr",
     "output_type": "stream",
     "text": [
      "/opt/homebrew/lib/python3.10/site-packages/tqdm/auto.py:22: TqdmWarning: IProgress not found. Please update jupyter and ipywidgets. See https://ipywidgets.readthedocs.io/en/stable/user_install.html\n",
      "  from .autonotebook import tqdm as notebook_tqdm\n"
     ]
    }
   ],
   "source": [
    "import torch"
   ]
  },
  {
   "cell_type": "code",
   "execution_count": null,
   "id": "e3737f5f-8f8d-486a-99d1-09a9288e8b10",
   "metadata": {},
   "outputs": [],
   "source": [
    "torch.save(dict_parameters, MODEL_SAVE_PATH)"
   ]
  },
  {
   "cell_type": "code",
   "execution_count": null,
   "id": "293d4aef-aacc-4db8-a98d-e8d4b166d302",
   "metadata": {},
   "outputs": [],
   "source": [
    "def regularize_activation(loss, activation, alpha):\n",
    "    loss += alpha * (activation).pow(2).mean()"
   ]
  },
  {
   "cell_type": "code",
   "execution_count": null,
   "id": "5c4e70e8-16e8-4f98-b3bf-1815bd2914d0",
   "metadata": {},
   "outputs": [],
   "source": [
    "class Model:\n",
    "    def __init__(self, w1, b1, w2, b2):\n",
    "        self.layers = [\n",
    "            Lin(w1, b1),\n",
    "            ReLU(),\n",
    "            Lin(w2, b2)\n",
    "        ]\n",
    "        self.loss = Mse()\n",
    "    \n",
    "    def forward(self, x, y):\n",
    "        for l in self.layers:\n",
    "            pred = l(x)\n",
    "        \n",
    "        loss = self.loss(pred, y)\n",
    "        return loss"
   ]
  },
  {
   "cell_type": "code",
   "execution_count": null,
   "id": "6c1dec30-fc53-4891-bd69-b3e5b961fab4",
   "metadata": {},
   "outputs": [],
   "source": [
    "def zero_weight(l):\n",
    "    return l.weight.data.zero_()"
   ]
  },
  {
   "cell_type": "code",
   "execution_count": null,
   "id": "9164bb82-0539-45e5-a766-c37c94c1a546",
   "metadata": {},
   "outputs": [],
   "source": [
    "class ListContainer:\n",
    "    def __init__(self, items):\n",
    "        self.items = items\n",
    "    \n",
    "    def __getitem__(self, idxs):\n",
    "        if isinstance(idxs[0], bool):\n",
    "            return [item for item, idx in zip(self.items, idxs) if idx == True]"
   ]
  },
  {
   "cell_type": "code",
   "execution_count": null,
   "id": "f0834b84-6452-45fc-9672-b1a2e734b0cb",
   "metadata": {},
   "outputs": [],
   "source": [
    "import torch.nn as nn"
   ]
  },
  {
   "cell_type": "code",
   "execution_count": null,
   "id": "67758cc2-aa54-436d-bd47-c8d82d4b690c",
   "metadata": {},
   "outputs": [],
   "source": [
    "class _Model(nn.Module):\n",
    "    def __init__(self, layers):\n",
    "        super().__init__()\n",
    "        self.layers = nn.ModuleList(*layers)\n",
    "        self.act_means = [[] for _ in self.layers]\n",
    "    \n",
    "    def forward(self, x):\n",
    "        for i, l in enumerate(self.layers):\n",
    "            x = l(x)\n",
    "            self.act_means[i].append(x.mean())\n",
    "        \n",
    "        return x"
   ]
  },
  {
   "cell_type": "code",
   "execution_count": null,
   "id": "b2e59372-b763-426a-95d6-a38aa87cad39",
   "metadata": {},
   "outputs": [
    {
     "ename": "SyntaxError",
     "evalue": "expected ':' (1996133066.py, line 1)",
     "output_type": "error",
     "traceback": [
      "\u001b[0;36m  Cell \u001b[0;32mIn [6], line 1\u001b[0;36m\u001b[0m\n\u001b[0;31m    def add_hook(model)\u001b[0m\n\u001b[0m                       ^\u001b[0m\n\u001b[0;31mSyntaxError\u001b[0m\u001b[0;31m:\u001b[0m expected ':'\n"
     ]
    }
   ],
   "source": [
    "def add_hook(model):\n",
    "    for l in self.layers:\n",
    "        l.register_hook_forward(add_log)"
   ]
  },
  {
   "cell_type": "code",
   "execution_count": null,
   "id": "cad60bae-0e68-46ef-af23-b967fa722e6c",
   "metadata": {},
   "outputs": [],
   "source": [
    "target_idxs = y_train[:3]"
   ]
  },
  {
   "cell_type": "code",
   "execution_count": null,
   "id": "ba958796-b85b-4924-b474-f09750b7fa1c",
   "metadata": {},
   "outputs": [],
   "source": [
    "sm_pred[[0, 1, 2], [*target_idxs]]"
   ]
  },
  {
   "cell_type": "code",
   "execution_count": null,
   "id": "f62f3d81-3fc4-485f-a46f-1b575d2a4dd2",
   "metadata": {},
   "outputs": [],
   "source": [
    "def cross_entropy_loss(pred, targ):\n",
    "    return nll_loss(log_softmax(pred), targ)"
   ]
  },
  {
   "cell_type": "code",
   "execution_count": null,
   "id": "c3e1a8a2-37c2-4f9a-a1c9-5dfa9cfc7f87",
   "metadata": {},
   "outputs": [],
   "source": [
    "def print_layers(model):\n",
    "    for name, layer in model.named_children():\n",
    "        print(f\"\")"
   ]
  },
  {
   "cell_type": "code",
   "execution_count": null,
   "id": "caf6e8a1-ad2c-4f7a-8bc0-85bbe85df5a2",
   "metadata": {},
   "outputs": [],
   "source": [
    "p, i, n, d"
   ]
  },
  {
   "cell_type": "code",
   "execution_count": null,
   "id": "dddaa501-45e3-43ad-9e7a-7f5a8cfe3c5d",
   "metadata": {},
   "outputs": [],
   "source": [
    "p: the position of the word in sentence\n",
    "i: the index of the number\n",
    "n: user-defined\n",
    "d: the dim of text embedding vector"
   ]
  },
  {
   "cell_type": "code",
   "execution_count": null,
   "id": "2fd6642e-ad99-4b60-ab07-f593cd772a0e",
   "metadata": {},
   "outputs": [],
   "source": [
    "sin, cos\n",
    "\n",
    "sin: oddb"
   ]
  },
  {
   "cell_type": "code",
   "execution_count": null,
   "id": "e8a513ee-4cdd-4d66-9450-102b56cb5d36",
   "metadata": {},
   "outputs": [],
   "source": [
    "import numpy as np"
   ]
  },
  {
   "cell_type": "code",
   "execution_count": null,
   "id": "65d32ab1-062f-4d62-a98e-bfe99cab7e17",
   "metadata": {},
   "outputs": [],
   "source": [
    "class PositionalEmbedding:\n",
    "    def __init__(self, n, d):\n",
    "        self.n = n\n",
    "        self.d = d\n",
    "    \n",
    "    def encode(self, idxs):\n",
    "        n_words = len(idxs)\n",
    "        self.embeddings = np.zeros((n_words, self.d))\n",
    "        \n",
    "        for p in range(n_words):\n",
    "            for i in range(self.d):\n",
    "                self.embeddings[p][i] = self.by_sin(p, i) if i % 2 == 0 else self.by_cos(p, i)\n",
    "    \n",
    "    def by_sin(self, p, i):\n",
    "        denominator = np.power(self.n, (2*i)/self.d)\n",
    "        return np.sin(p, denominator)\n",
    "\n",
    "    def by_cos(self):\n",
    "        denominator = np.power(self.n, (2*i)/self.d)\n",
    "        return np.cos(p, denominator)"
   ]
  },
  {
   "cell_type": "code",
   "execution_count": null,
   "id": "fd197a8a-ea59-49e4-b051-413ab0d93d90",
   "metadata": {},
   "outputs": [],
   "source": [
    "encoder = PositionalEmbedding(n=200, d=5)"
   ]
  },
  {
   "cell_type": "code",
   "execution_count": null,
   "id": "a4efc6c0-b340-473f-8973-8689da89842a",
   "metadata": {},
   "outputs": [],
   "source": [
    "_actual_noises = noises * _init_sigma"
   ]
  },
  {
   "cell_type": "code",
   "execution_count": null,
   "id": "3446b7a0-fdae-4113-89f4-fcc4abaf3aa3",
   "metadata": {},
   "outputs": [],
   "source": [
    "noises = torch.randn(1, x, 512/8, 512/8)"
   ]
  },
  {
   "cell_type": "code",
   "execution_count": null,
   "id": "576370cc-5d0c-4a11-97e0-60b0272cecd7",
   "metadata": {},
   "outputs": [],
   "source": [
    "def ReLU(x):\n",
    "    return np.maximum(x, 0)"
   ]
  },
  {
   "cell_type": "code",
   "execution_count": null,
   "id": "d2436dc9-234c-4726-b05b-4719752a0bc6",
   "metadata": {},
   "outputs": [],
   "source": [
    "lin.bias.data.zero_()"
   ]
  },
  {
   "cell_type": "code",
   "execution_count": null,
   "id": "4ec77d19-a3ae-41cd-822f-6533d71ba92b",
   "metadata": {},
   "outputs": [],
   "source": [
    "torch.clamp_min(x, 2)"
   ]
  },
  {
   "cell_type": "code",
   "execution_count": null,
   "id": "9d56977c-1f88-4840-b102-83ec25e8ea22",
   "metadata": {},
   "outputs": [],
   "source": [
    "torch.clamp_max(x, 3)"
   ]
  },
  {
   "cell_type": "code",
   "execution_count": null,
   "id": "d3ac3225-438a-4977-8c9e-199db3924422",
   "metadata": {},
   "outputs": [],
   "source": [
    "torch.argsort"
   ]
  },
  {
   "cell_type": "code",
   "execution_count": null,
   "id": "23db09e1-b8f4-4881-aff0-7f7bfbb4dd7e",
   "metadata": {},
   "outputs": [],
   "source": [
    "x.sub(3)"
   ]
  },
  {
   "cell_type": "code",
   "execution_count": null,
   "id": "ffea431b-5c11-4fa4-a011-d0ca0e76aa7e",
   "metadata": {},
   "outputs": [],
   "source": [
    "batch, coccurency, cache"
   ]
  },
  {
   "cell_type": "code",
   "execution_count": null,
   "id": "43ed0961-4738-4d90-bfcd-ffab48a8d218",
   "metadata": {},
   "outputs": [],
   "source": [
    "def func(layer, inp, out):\n",
    "    add_log(layer, out)"
   ]
  },
  {
   "cell_type": "code",
   "execution_count": null,
   "id": "a5992310-d34c-4489-bdab-20c05e37a698",
   "metadata": {},
   "outputs": [],
   "source": [
    "def add_hook(model):\n",
    "    for l in model.layers:\n",
    "        l.register_forward_hook(func)"
   ]
  },
  {
   "cell_type": "code",
   "execution_count": null,
   "id": "e1c6fd8b-397b-4d3c-8615-8ecca4367e6a",
   "metadata": {},
   "outputs": [],
   "source": [
    "class PositionalEncoding:\n",
    "    def __init__(self, n, d):\n",
    "        self.n = n\n",
    "        self.d = d\n",
    "    \n",
    "    def encode(self, idxs):\n",
    "        n_words = len(idxs)\n",
    "        embedding = np.zeros((n_words, self.d))\n",
    "        \n",
    "        for p in range(n_words):\n",
    "            for i in range(self.d):\n",
    "                embedding[p][i] = self.by_sin(p, i) if i%2 == 0 else self.by_cos(p, i)\n",
    "        \n",
    "        return embedding\n",
    "    \n",
    "    def by_sin(self, p, i):\n",
    "        denominator = np.power(self.n, (2*i) / self.d)\n",
    "        return np.sin(p/denominator)\n",
    "\n",
    "    def by_cos(self, p, i):\n",
    "        denominator = np.power(self.n, (2*i) / self.d)\n",
    "        return np.cos(p/denominator)"
   ]
  },
  {
   "cell_type": "code",
   "execution_count": null,
   "id": "41cbc478-dd14-4a69-882f-ec81668a01ce",
   "metadata": {},
   "outputs": [],
   "source": [
    "encoder = PositionalEncoding(n=200, d=5)"
   ]
  },
  {
   "cell_type": "code",
   "execution_count": null,
   "id": "a026df0e-d8fe-44ce-85b5-5bfcbfc6f805",
   "metadata": {},
   "outputs": [
    {
     "data": {
      "text/plain": [
       "array([[ 0.00000000e+00,  1.00000000e+00,  0.00000000e+00,\n",
       "         1.00000000e+00,  0.00000000e+00],\n",
       "       [ 8.41470985e-01,  9.92795169e-01,  1.44264986e-02,\n",
       "         9.99998499e-01,  2.08138300e-04],\n",
       "       [ 9.09297427e-01,  9.71284494e-01,  2.88499945e-02,\n",
       "         9.99993994e-01,  4.16276592e-04],\n",
       "       [ 1.41120008e-01,  9.35777938e-01,  4.32674858e-02,\n",
       "         9.99986487e-01,  6.24414865e-04],\n",
       "       [-7.56802495e-01,  8.86787137e-01,  5.76759716e-02,\n",
       "         9.99975978e-01,  8.32553111e-04]])"
      ]
     },
     "execution_count": null,
     "metadata": {},
     "output_type": "execute_result"
    }
   ],
   "source": [
    "encoder.encode([1, 2, 3, 4, 5])"
   ]
  },
  {
   "cell_type": "code",
   "execution_count": null,
   "id": "42aeb035-edbd-458b-990e-478ce0aa946a",
   "metadata": {},
   "outputs": [],
   "source": [
    "def mse(pred, targ):\n",
    "    error = 0.\n",
    "    \n",
    "    for i in range(targ):\n",
    "        error += (pred[i] - targ[i]) ** 2\n",
    "    \n",
    "    return error / len(targ)"
   ]
  },
  {
   "cell_type": "code",
   "execution_count": null,
   "id": "1d3ba1b1-e946-4b67-83a2-2ed769a4c5c1",
   "metadata": {},
   "outputs": [],
   "source": [
    "def mean_absolute_error(pred, targ):\n",
    "    error = 0.\n",
    "    \n",
    "    for i in range(targ):\n",
    "        error += abs(pred[i] - targ[i])\n",
    "    \n",
    "    return error / len(targ)"
   ]
  },
  {
   "cell_type": "code",
   "execution_count": null,
   "id": "041b53ca-e276-4281-b9c7-4788c337222b",
   "metadata": {},
   "outputs": [],
   "source": [
    "def numericalize(tokens):\n",
    "    return [idxs[w] for w in tokens]"
   ]
  },
  {
   "cell_type": "code",
   "execution_count": null,
   "id": "8c7d3239-d4d0-4759-91cb-196afb2aae1f",
   "metadata": {},
   "outputs": [],
   "source": [
    "def split_dataset(dataset, percent):\n",
    "    cut = int(len(dataset) * percent)\n",
    "    return dataset[:cut], dataset[cut:]"
   ]
  },
  {
   "cell_type": "code",
   "execution_count": null,
   "id": "54ba2dc4-d535-4b53-9c36-098358c76797",
   "metadata": {},
   "outputs": [],
   "source": [
    "class LMModel1(nn.Module):\n",
    "    def __init__(self, vocab_sz, n_hidden):\n",
    "        self.i_h = nn.Embedding(vocab_sz, n_hidden)\n",
    "        self.h_h = nn.Linear(n_hidden, n_hidden)\n",
    "        self.h_o = nn.Linear(n_hidden, vocab_sz)\n",
    "    \n",
    "    def forward(self, x):\n",
    "        h = F.relu(self.i_h(x[:, 0]))\n",
    "        h = F.relu(self.h_h(x[:, 1])) + F.relu(self.h_h(h))\n",
    "        h = F.relu(self.h_h(x[:, 2])) + F.relu(self.h_h(h))\n",
    "        \n",
    "        return F.relu(self.h_o(h))"
   ]
  },
  {
   "cell_type": "markdown",
   "id": "e739eecd-cb27-4ab8-aa66-4ad03365b460",
   "metadata": {},
   "source": [
    "### Python"
   ]
  },
  {
   "cell_type": "code",
   "execution_count": null,
   "id": "4225412a-8dc7-4be4-acd7-3e5b72b1922b",
   "metadata": {},
   "outputs": [],
   "source": [
    "from typing import Protocol"
   ]
  },
  {
   "cell_type": "code",
   "execution_count": null,
   "id": "d39ac1a3-778c-46f6-b10a-dc00925177bd",
   "metadata": {},
   "outputs": [],
   "source": [
    "class Splitable(Protocol):\n",
    "    name: str\n",
    "    cost: int\n",
    "    \n",
    "    def split(self): pass"
   ]
  },
  {
   "cell_type": "code",
   "execution_count": null,
   "id": "10fc1809-3415-4b17-abdc-ac251fb2bac9",
   "metadata": {},
   "outputs": [],
   "source": [
    "def split(food: Splitable):\n",
    "    pass"
   ]
  },
  {
   "cell_type": "code",
   "execution_count": null,
   "id": "e8b030ca-aeb8-416e-b8c7-005a0d689abc",
   "metadata": {},
   "outputs": [],
   "source": [
    "from enum import Enum, auto\n",
    "from dataclasses import dataclass\n",
    "from typing import Set"
   ]
  },
  {
   "cell_type": "code",
   "execution_count": null,
   "id": "036c0fa2-4f6d-4817-a3ca-551841eb7297",
   "metadata": {},
   "outputs": [],
   "source": [
    "class ImperialMeasure(Enum):\n",
    "    CUP = auto()\n",
    "    TEASPOON = auto()"
   ]
  },
  {
   "cell_type": "code",
   "execution_count": null,
   "id": "2ecacf4b-4632-4986-85a0-159b877a758d",
   "metadata": {},
   "outputs": [],
   "source": [
    "@dataclass(frozen=True) # frozen can be ignore\n",
    "class Ingredient:\n",
    "    name: str\n",
    "    amount: float\n",
    "    unit: ImperialMeasure"
   ]
  },
  {
   "cell_type": "code",
   "execution_count": null,
   "id": "307f1503-b1bb-4fd0-a3c5-3edf01d86ddc",
   "metadata": {},
   "outputs": [],
   "source": [
    "@dataclass\n",
    "class Recipe:\n",
    "    meats: Set[Ingredient]\n",
    "    starches: Set[Ingredient]"
   ]
  },
  {
   "cell_type": "markdown",
   "id": "a724cd11-d4b8-4ff0-a974-49df5602a5c7",
   "metadata": {},
   "source": [
    "Create an abstraction as bellow using user-defined type"
   ]
  },
  {
   "cell_type": "markdown",
   "id": "03abcd9c-7fb1-47e0-9fe4-c7f55181beb2",
   "metadata": {},
   "source": [
    "`ImperialMeasure` contains a list of constant measurement. `Ingredient` and `Recipe` are not constant"
   ]
  },
  {
   "cell_type": "code",
   "execution_count": null,
   "id": "3244a97d-6a07-47c9-8733-5aa7e2e9df9d",
   "metadata": {},
   "outputs": [],
   "source": [
    "chicken = Ingredient(name=\"Chicken\", amount=1.3, unit=ImperialMeasure.CUP)"
   ]
  },
  {
   "cell_type": "code",
   "execution_count": null,
   "id": "05779f23-3267-42cf-bbf6-8687955bca38",
   "metadata": {},
   "outputs": [],
   "source": [
    "noddles = Ingredient(name=\"Noodles\", amount=0.2, unit=ImperialMeasure.TEASPOON)"
   ]
  },
  {
   "cell_type": "code",
   "execution_count": null,
   "id": "511e12ea-8106-4aa4-a4f8-4179bd227246",
   "metadata": {},
   "outputs": [],
   "source": [
    "chicken_soup = Recipe(\n",
    "    meats = {chicken},\n",
    "    starches = {noddles}\n",
    ")"
   ]
  },
  {
   "cell_type": "code",
   "execution_count": null,
   "id": "d475f983-ad0f-45b0-a9fb-f103f5d56404",
   "metadata": {},
   "outputs": [],
   "source": [
    "elapsed_hours_in_a_day = 8"
   ]
  },
  {
   "cell_type": "code",
   "execution_count": null,
   "id": "14a8210c-87ce-4edb-b813-96847886c4e2",
   "metadata": {},
   "outputs": [],
   "source": [
    "is_rain_tomorrow"
   ]
  },
  {
   "cell_type": "code",
   "execution_count": null,
   "id": "04b27008-b40e-4c6f-b79e-f2587d54ab3f",
   "metadata": {},
   "outputs": [],
   "source": [
    "class Vehicle:\n",
    "    def __init__(self, max_speed, mileage):\n",
    "        self.max_speed = max_speed\n",
    "        self.mileage = mileage"
   ]
  },
  {
   "cell_type": "code",
   "execution_count": null,
   "id": "ce3bd9c8-c521-4f5b-b3d8-14a56c1a6056",
   "metadata": {},
   "outputs": [],
   "source": [
    "filter( )"
   ]
  },
  {
   "cell_type": "code",
   "execution_count": null,
   "id": "5f5d6ccb-f980-4e74-8f4a-6778d0f11ca5",
   "metadata": {},
   "outputs": [],
   "source": [
    "import sympy as smp"
   ]
  },
  {
   "cell_type": "code",
   "execution_count": null,
   "id": "e31c554b-d20f-4761-ac5c-36ee6d3ffd19",
   "metadata": {},
   "outputs": [],
   "source": []
  }
 ],
 "metadata": {
  "kernelspec": {
   "display_name": "Python 3 (ipykernel)",
   "language": "python",
   "name": "python3"
  }
 },
 "nbformat": 4,
 "nbformat_minor": 5
}
