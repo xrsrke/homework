{
 "cells": [
  {
   "cell_type": "markdown",
   "id": "5d70bd17-c6dc-470b-99ce-0923a38d834f",
   "metadata": {},
   "source": [
    "### Deep Learning"
   ]
  },
  {
   "cell_type": "code",
   "execution_count": null,
   "id": "7931a1b6-0fa5-4cbf-b15c-19cb116b45ff",
   "metadata": {},
   "outputs": [],
   "source": [
    "import torch\n",
    "from torch import nn\n",
    "import torch.nn.functional as F"
   ]
  },
  {
   "cell_type": "code",
   "execution_count": null,
   "id": "78443aac-2eee-4701-a2ab-ed9b4582bdd7",
   "metadata": {},
   "outputs": [],
   "source": [
    "x.argsort()"
   ]
  },
  {
   "cell_type": "code",
   "execution_count": null,
   "id": "99a7579e-631e-4d8a-bdd5-8fba91fd984e",
   "metadata": {},
   "outputs": [],
   "source": [
    "import numpy as np"
   ]
  },
  {
   "cell_type": "code",
   "execution_count": null,
   "id": "780d17db-4071-45d0-bfb2-218d62b313ce",
   "metadata": {},
   "outputs": [],
   "source": [
    "def relu(x):\n",
    "    return np.minimum(x, 0)"
   ]
  },
  {
   "cell_type": "code",
   "execution_count": null,
   "id": "7cf9819b-4293-4318-a23c-cf82082bd6e8",
   "metadata": {},
   "outputs": [],
   "source": [
    "model.named_chilren()"
   ]
  },
  {
   "cell_type": "code",
   "execution_count": null,
   "id": "40c77e9c-29d3-4cf2-a2e3-b47ee5f89211",
   "metadata": {},
   "outputs": [],
   "source": [
    "bottleneck, conv, batch, "
   ]
  },
  {
   "cell_type": "code",
   "execution_count": null,
   "id": "a8ded633-ffe7-47f3-bf54-30ed48bf5b11",
   "metadata": {},
   "outputs": [],
   "source": [
    "def binary(x):\n",
    "    return x.exp() / (1 + x.exp())"
   ]
  },
  {
   "cell_type": "code",
   "execution_count": null,
   "id": "84871bf9-25b4-4a3b-ae1b-5dfc28c592a4",
   "metadata": {},
   "outputs": [],
   "source": [
    "class LSTM(nn.Module):\n",
    "    def __init__(self, n_input, n_hidden):\n",
    "        self.forget_gate = nn.Linear(n_input + n_hidden, n_hidden)\n",
    "        self.input_gate = nn.Linear(n_input + n_hidden, n_hidden)\n",
    "        self.cell_gate = nn.Linear(n_input + n_hidden, n_hidden)\n",
    "        self.output_gate = nn.Linear(n_input + n_hidden, n_hidden)\n",
    "    \n",
    "    def forward(self, inp, state):\n",
    "        prev_h, prev_c = state\n",
    "        \n",
    "        current_h = torch.stack((inp, prev_h), dim=1)\n",
    "        \n",
    "        out_of_forget_gate = F.sigmoid(self.forget_gate(current_h))\n",
    "        out_of_input_gate = F.sigmoid(self.input_gate(current_h))\n",
    "        out_of_cell_gate = F.tanh(self.cell_gate(current_h))\n",
    "        out_of_output_gate = F.sigmoid(self.output_gate(current_h))\n",
    "        \n",
    "        new_c = prev_v * out_of_forget_gate + out_of_input_gate * out_of_cell_gate\n",
    "        new_h = F.tanh(new_c) * out_of_output_gate\n",
    "        \n",
    "        return new_h, (new_h, new_c)"
   ]
  },
  {
   "cell_type": "code",
   "execution_count": null,
   "id": "8155b0d2-ac3c-4d0b-8d86-a8ccc6c1441a",
   "metadata": {},
   "outputs": [],
   "source": [
    "for param in model.parameters():\n",
    "    param.requires_grad = False"
   ]
  },
  {
   "cell_type": "code",
   "execution_count": null,
   "id": "72e71636-dceb-40f9-99fd-04ede3dd6775",
   "metadata": {},
   "outputs": [],
   "source": [
    "model.classifier[0].requires_grad = True\n",
    "model.classifier[3].requires_grad = True"
   ]
  },
  {
   "cell_type": "code",
   "execution_count": null,
   "id": "7d49f4c1-6cd5-4d6f-82ae-339596a091b6",
   "metadata": {},
   "outputs": [],
   "source": [
    "model.classifier[6].requires_grad = nn.Linear(4096, 10)"
   ]
  },
  {
   "cell_type": "code",
   "execution_count": null,
   "id": "c618cf1b-2ce5-4235-a0c2-0e12469f4b8e",
   "metadata": {},
   "outputs": [],
   "source": [
    "autoencoder, clip, unet"
   ]
  },
  {
   "cell_type": "code",
   "execution_count": null,
   "id": "a769649c-c3e6-4ea3-9dfe-a6d36b733a41",
   "metadata": {},
   "outputs": [],
   "source": [
    "from fastai.vision.all import *"
   ]
  },
  {
   "cell_type": "code",
   "execution_count": null,
   "id": "0194011a-7e98-4ffd-968d-8c037eca79fc",
   "metadata": {},
   "outputs": [
    {
     "ename": "NameError",
     "evalue": "name 'get_x' is not defined",
     "output_type": "error",
     "traceback": [
      "\u001b[0;31m---------------------------------------------------------------------------\u001b[0m",
      "\u001b[0;31mNameError\u001b[0m                                 Traceback (most recent call last)",
      "Cell \u001b[0;32mIn [8], line 2\u001b[0m\n\u001b[1;32m      1\u001b[0m dblock \u001b[38;5;241m=\u001b[39m DataBlock(blocks\u001b[38;5;241m=\u001b[39m[ImageBlock, MultiCategoryBlock],\n\u001b[0;32m----> 2\u001b[0m                    get_x \u001b[38;5;241m=\u001b[39m \u001b[43mget_x\u001b[49m,\n\u001b[1;32m      3\u001b[0m                    get_y \u001b[38;5;241m=\u001b[39m get_y)\n",
      "\u001b[0;31mNameError\u001b[0m: name 'get_x' is not defined"
     ]
    }
   ],
   "source": [
    "dblock = DataBlock(blocks=[ImageBlock, MultiCategoryBlock],\n",
    "                   get_x = get_x,\n",
    "                   get_y = get_y)"
   ]
  },
  {
   "cell_type": "code",
   "execution_count": null,
   "id": "021d09ba-ab9c-46e7-8ecd-17af96f12620",
   "metadata": {},
   "outputs": [],
   "source": [
    "dsets = dblock.datasets(df)"
   ]
  },
  {
   "cell_type": "code",
   "execution_count": null,
   "id": "6fffa481-2f7d-47e6-a8d6-05a9d88d517a",
   "metadata": {},
   "outputs": [],
   "source": [
    "6, 60, 60"
   ]
  },
  {
   "cell_type": "code",
   "execution_count": null,
   "id": "41796b2f-44e0-4901-97f3-79484971a2d9",
   "metadata": {},
   "outputs": [],
   "source": [
    "[9, 9, 5]\n",
    "[9, 9, 5]\n",
    "[8, 6, 9]"
   ]
  },
  {
   "cell_type": "code",
   "execution_count": null,
   "id": "6b49524b-711d-4f75-b6a2-46ef320ed8bf",
   "metadata": {},
   "outputs": [],
   "source": [
    "def binary(x):\n",
    "    return x.exp / 1 + x.exp()"
   ]
  },
  {
   "cell_type": "code",
   "execution_count": null,
   "id": "44fdd670-f63c-474b-8f35-a02a6fae56ef",
   "metadata": {},
   "outputs": [],
   "source": [
    "class ConvNet(nn.Module):\n",
    "    def __init__(self):\n",
    "        self.model = nn.Sequential(\n",
    "            nn.Conv2d(\n",
    "                in_channels=3, out_channels=6,\n",
    "                kernel_size=5\n",
    "            ),\n",
    "            nn.ReLU(),\n",
    "            nn.MaxPool2d(kernel_size=2),\n",
    "            nn.Conv2d(\n",
    "                in_channels=6, out_channels=16,\n",
    "                kernel_size=5\n",
    "            ),\n",
    "            nn.ReLU(),\n",
    "            nn.MaxPool2d(kernel_size=2),\n",
    "            nn.Flatten(start_dim=1, end_dim=3),\n",
    "            nn.Linear(400, 120),\n",
    "            nn.ReLU(),\n",
    "            nn.Linear(120, 84),\n",
    "            nn.ReLU(),\n",
    "            nn.Linear(84, 10),\n",
    "            nn.Softmax()\n",
    "        )\n",
    "    \n",
    "    def forward(self, x):\n",
    "        return self.model(x)"
   ]
  },
  {
   "cell_type": "code",
   "execution_count": null,
   "id": "22049f7f-275b-4a6a-8a8b-e2df79280a94",
   "metadata": {},
   "outputs": [],
   "source": [
    "class ShortcutProjection(nn.Module):\n",
    "    def __init__(self, in_channels, out_channels, stride):\n",
    "        super().__init__()\n",
    "        self.model = nn.Sequential(\n",
    "            nn.Conv2d(in_channels, out_channels,\n",
    "                      kernel_size=1, stride=1),\n",
    "            nn.BatchNorm2d(out_channels)\n",
    "        )\n",
    "    \n",
    "    def forward(self, x):\n",
    "        return self.model(x)"
   ]
  },
  {
   "cell_type": "code",
   "execution_count": null,
   "id": "7bbe746b-6cd9-4f5a-af0b-35b1c780ccc1",
   "metadata": {},
   "outputs": [],
   "source": [
    "class ResidualBlock(nn.Module):\n",
    "    def __init__(self, in_channels, out_channels, stride, downsample):\n",
    "        super().__init__()\n",
    "        self.downsample = downsample\n",
    "        self.conv1 = nn.Conv2d(\n",
    "            in_channels, out_channels,\n",
    "            kernel_size=3, stride=1, padding=1\n",
    "        )\n",
    "        self.bn1 = nn.BatchNorm2d(num_features=out_channels)\n",
    "        self.act1 = nn.ReLU()\n",
    "        self.conv2 = nn.Conv2d(\n",
    "            out_channels, out_channels,\n",
    "            kernel_size=3, stride=1, padding=1\n",
    "        )\n",
    "        self.bn2 = nn.BatchNorm2d(out_channels)\n",
    "        self.act3 = nn.ReLU()\n",
    "    \n",
    "    def forward(self, x):\n",
    "        residual = x\n",
    "        if self.downsample:\n",
    "            residual = self.downsample(residual)\n",
    "        \n",
    "        out = self.act1(self.bn1(self.conv1(residual)))\n",
    "        out = self.bn2(self.conv2(out))\n",
    "        \n",
    "        out += residual\n",
    "        \n",
    "        return self.act3(out)"
   ]
  },
  {
   "cell_type": "code",
   "execution_count": null,
   "id": "1482355a-71e1-42d5-bfd3-4b8d4a2ca405",
   "metadata": {},
   "outputs": [],
   "source": [
    "model.load_state_dict(model_parameters)"
   ]
  },
  {
   "cell_type": "code",
   "execution_count": null,
   "id": "321d3d34-41d7-4db3-a36d-c4e397d7712e",
   "metadata": {},
   "outputs": [],
   "source": [
    "l1.weight"
   ]
  },
  {
   "cell_type": "code",
   "execution_count": null,
   "id": "7365bd39-1ef4-4b10-bc58-ee5ec49fcc87",
   "metadata": {},
   "outputs": [],
   "source": [
    "l1.weight.grad"
   ]
  },
  {
   "cell_type": "code",
   "execution_count": null,
   "id": "aa5bf710-92cf-44fe-8c36-68861352b206",
   "metadata": {},
   "outputs": [],
   "source": [
    "optim.step()"
   ]
  },
  {
   "cell_type": "markdown",
   "id": "65eeb82b-72e9-422b-ad51-bf8e6e071fb1",
   "metadata": {},
   "source": [
    "### Python"
   ]
  },
  {
   "cell_type": "code",
   "execution_count": null,
   "id": "c64191e4-446c-48c6-8fc7-91eeea967b67",
   "metadata": {},
   "outputs": [],
   "source": [
    "class Event:\n",
    "    def __init__(self):\n",
    "        self._subscribers = {}\n",
    "    \n",
    "    def subscribe(self, name, func):\n",
    "        if name not in self._subscribers:\n",
    "            self._subscribers[name] = []\n",
    "        \n",
    "        self._subscribers[name].append(func)\n",
    "    \n",
    "    def post_event(self, name, data):\n",
    "        \n",
    "        if not self._subscribers[name]: return\n",
    "        \n",
    "        for func in self._subscribers[name]:\n",
    "            func(data)"
   ]
  },
  {
   "cell_type": "code",
   "execution_count": null,
   "id": "53b9988c-66af-44e5-9d91-329446316369",
   "metadata": {},
   "outputs": [],
   "source": [
    "from enum import Enum"
   ]
  },
  {
   "cell_type": "code",
   "execution_count": null,
   "id": "7ea5448a-e337-4296-8bdc-4bcc622cf95a",
   "metadata": {},
   "outputs": [],
   "source": [
    "class Colors(Enum):\n",
    "    RED = \"red\"\n",
    "    ORANGE = \"orange\"\n",
    "    BLUE = \"blue\"\n",
    "    \n",
    "    @property\n",
    "    def is_hot(self):\n",
    "        return self in [Colors.RED, Color.ORANGE]"
   ]
  },
  {
   "cell_type": "markdown",
   "id": "7742deb4-1fe2-4307-8225-6f57a2b04ba9",
   "metadata": {},
   "source": [
    "### Docker"
   ]
  },
  {
   "cell_type": "code",
   "execution_count": null,
   "id": "59d0897a-7a26-4908-ab6d-130a42285b75",
   "metadata": {},
   "outputs": [],
   "source": [
    "docker images"
   ]
  },
  {
   "cell_type": "markdown",
   "id": "4f8a1f4f-d6e7-43ca-b58f-565b332c063f",
   "metadata": {},
   "source": [
    "### SQL"
   ]
  },
  {
   "cell_type": "markdown",
   "id": "c1317fb2-d717-4002-8cc1-cd7b2e2305a3",
   "metadata": {},
   "source": [
    "SELECT employees.emp_no, salaries.salary from employees INNER JOIN salaries ON employees.emp_no = salaries.emp_no"
   ]
  },
  {
   "cell_type": "markdown",
   "id": "2b5dbef6-bc89-4266-a8b9-9050e4e7b331",
   "metadata": {},
   "source": [
    "### SymPy"
   ]
  },
  {
   "cell_type": "code",
   "execution_count": null,
   "id": "3c050b30-8845-4fbb-8593-7329852bde2f",
   "metadata": {},
   "outputs": [],
   "source": [
    "import sympy as smp"
   ]
  },
  {
   "cell_type": "code",
   "execution_count": null,
   "id": "9d1ebf19-6065-4e4c-b8f0-5d743053a53d",
   "metadata": {},
   "outputs": [],
   "source": [
    "x = smp.symbols(\"x\", )"
   ]
  },
  {
   "cell_type": "code",
   "execution_count": null,
   "id": "ceab3a01-fed8-44ac-8785-31a5a4802e95",
   "metadata": {},
   "outputs": [],
   "source": [
    "f.subs({x: 2}).evalf()"
   ]
  },
  {
   "cell_type": "code",
   "execution_count": null,
   "id": "d62e6acf-9abc-43b7-8bed-7ee5447af7c3",
   "metadata": {},
   "outputs": [
    {
     "data": {
      "text/latex": [
       "$\\displaystyle \\frac{1}{2}$"
      ],
      "text/plain": [
       "1/2"
      ]
     },
     "execution_count": null,
     "metadata": {},
     "output_type": "execute_result"
    }
   ],
   "source": [
    "smp.Rational(1, 2)"
   ]
  },
  {
   "cell_type": "markdown",
   "id": "8fa01048-76f2-4b20-96f9-1ebae1154939",
   "metadata": {},
   "source": [
    "### fastcore"
   ]
  },
  {
   "cell_type": "code",
   "execution_count": null,
   "id": "9d7f2d10-c8fc-478b-a496-f2263216f2e7",
   "metadata": {},
   "outputs": [],
   "source": [
    "from fastcore.basics import *"
   ]
  },
  {
   "cell_type": "code",
   "execution_count": null,
   "id": "b8dbd345-2bfb-4237-a866-113e3bec5980",
   "metadata": {},
   "outputs": [],
   "source": [
    "class _T(Stateful):\n",
    "    def __init__(self):\n",
    "        super().__init__()\n",
    "        self.a = 1\n",
    "        self._state['test'] = 2"
   ]
  },
  {
   "cell_type": "code",
   "execution_count": null,
   "id": "dfb0a05c-e7f6-4224-9c97-b2689f9a5b01",
   "metadata": {},
   "outputs": [],
   "source": [
    "will not have past"
   ]
  },
  {
   "cell_type": "code",
   "execution_count": null,
   "id": "e3bfa127-f8e6-4beb-b6c4-f8d854b277e4",
   "metadata": {},
   "outputs": [],
   "source": [
    "have subject been v_ing"
   ]
  },
  {
   "cell_type": "code",
   "execution_count": null,
   "id": "8a9d8a4f-ab42-4faf-8836-6ffb6bfa4089",
   "metadata": {},
   "outputs": [],
   "source": [
    "will subject have"
   ]
  }
 ],
 "metadata": {
  "kernelspec": {
   "display_name": "Python 3 (ipykernel)",
   "language": "python",
   "name": "python3"
  }
 },
 "nbformat": 4,
 "nbformat_minor": 5
}
