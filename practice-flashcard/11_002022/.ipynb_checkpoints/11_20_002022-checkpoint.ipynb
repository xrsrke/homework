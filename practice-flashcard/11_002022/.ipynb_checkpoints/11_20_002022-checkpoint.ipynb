{
 "cells": [
  {
   "cell_type": "markdown",
   "id": "018dcfe3-984c-42c7-9b2d-d84d1fda2a6f",
   "metadata": {},
   "source": [
    "### Deep Learning"
   ]
  },
  {
   "cell_type": "code",
   "execution_count": null,
   "id": "6c097d77-01e0-4903-bcc5-60e7616e4f37",
   "metadata": {},
   "outputs": [
    {
     "name": "stderr",
     "output_type": "stream",
     "text": [
      "/opt/homebrew/lib/python3.10/site-packages/tqdm/auto.py:22: TqdmWarning: IProgress not found. Please update jupyter and ipywidgets. See https://ipywidgets.readthedocs.io/en/stable/user_install.html\n",
      "  from .autonotebook import tqdm as notebook_tqdm\n"
     ]
    }
   ],
   "source": [
    "import torch"
   ]
  },
  {
   "cell_type": "code",
   "execution_count": null,
   "id": "eaebcaf3-e17e-491c-80a0-2cf0a0e16aea",
   "metadata": {},
   "outputs": [],
   "source": [
    "def zero_grad(model):\n",
    "    for l in model.layers:\n",
    "        l.weight.grad.zero_()"
   ]
  },
  {
   "cell_type": "code",
   "execution_count": null,
   "id": "1b527c70-a038-4c7b-be1d-3d3fdc4b3b37",
   "metadata": {},
   "outputs": [],
   "source": [
    "import torch.nn as nn"
   ]
  },
  {
   "cell_type": "code",
   "execution_count": null,
   "id": "dfbb3615-55eb-4228-9573-df606c1098f0",
   "metadata": {},
   "outputs": [],
   "source": [
    "class _Model(nn.Module):\n",
    "    def __init__(self):\n",
    "        super().__init__()\n",
    "        self.register_buffer('means', _one_vector)"
   ]
  },
  {
   "cell_type": "code",
   "execution_count": null,
   "id": "bf68961e-12a5-49a7-b9be-ddb9c10fc7c4",
   "metadata": {},
   "outputs": [],
   "source": [
    "x = torch.randn(50, 3, 64, 64)"
   ]
  },
  {
   "cell_type": "code",
   "execution_count": null,
   "id": "176dd49e-0c8d-448d-9f72-dbb431bda9ad",
   "metadata": {},
   "outputs": [],
   "source": [
    "def compute_keys(vs, ws):\n",
    "    v = torch.stack(vs)\n",
    "    w = torch.stack(ws, dim=1)\n",
    "    \n",
    "    return v@w"
   ]
  },
  {
   "cell_type": "markdown",
   "id": "93f09f6e-6228-4c71-b318-62ea68cd9103",
   "metadata": {},
   "source": [
    "### Python"
   ]
  },
  {
   "cell_type": "code",
   "execution_count": null,
   "id": "7170edfd-ff45-448d-86cc-e037435c36bc",
   "metadata": {},
   "outputs": [],
   "source": [
    "from typing import NewType"
   ]
  },
  {
   "cell_type": "code",
   "execution_count": null,
   "id": "f4d68dfe-ac95-4314-9bdd-54bcb8609d9f",
   "metadata": {},
   "outputs": [],
   "source": [
    "class HotDog: pass"
   ]
  },
  {
   "cell_type": "code",
   "execution_count": null,
   "id": "d9d9b93a-14fe-42d5-8f2f-f3514a5fdb1d",
   "metadata": {},
   "outputs": [],
   "source": [
    "ReadyToServeHotDog = NewType(\"ReadyToServeHotDog\", HotDog)"
   ]
  },
  {
   "cell_type": "code",
   "execution_count": null,
   "id": "39ba52cd-b697-4493-8e74-10d0555bd3c8",
   "metadata": {},
   "outputs": [],
   "source": [
    "def prepare_for_serving(hot_dog: HotDog) -> ReadyToServeHotDog:\n",
    "    return ReadyToServeHotDog(hot_dog)"
   ]
  },
  {
   "cell_type": "code",
   "execution_count": null,
   "id": "2252a3ff-3950-4681-b681-872616448f1c",
   "metadata": {},
   "outputs": [],
   "source": [
    "from typing import TypeVar"
   ]
  },
  {
   "cell_type": "code",
   "execution_count": null,
   "id": "dad78828-5ea5-4f7f-ade4-f28f2fd36289",
   "metadata": {},
   "outputs": [],
   "source": [
    "T = TypeVar(\"T\")"
   ]
  },
  {
   "cell_type": "code",
   "execution_count": null,
   "id": "7af310b4-13f0-42b8-8236-92d7ab0d7e9a",
   "metadata": {},
   "outputs": [],
   "source": [
    "APIResponse = Union[T, APIError]"
   ]
  },
  {
   "cell_type": "code",
   "execution_count": null,
   "id": "dc68c3c2-ff83-4433-b518-6bb00181d614",
   "metadata": {},
   "outputs": [],
   "source": [
    "from enum import Enum, auto"
   ]
  },
  {
   "cell_type": "code",
   "execution_count": null,
   "id": "67eed092-6271-4b0b-925b-f6538e1cb58a",
   "metadata": {},
   "outputs": [],
   "source": [
    "class ImperialMeasure(Enum):\n",
    "    CUP = auto()\n",
    "    TEASPOON = auto()"
   ]
  },
  {
   "cell_type": "code",
   "execution_count": null,
   "id": "14968ccf-98db-4244-8a4f-b840a860ee71",
   "metadata": {},
   "outputs": [],
   "source": [
    "from dataclasses import dataclass"
   ]
  },
  {
   "cell_type": "code",
   "execution_count": null,
   "id": "9b5ebf37-9f3a-4f3e-9e63-6838735c0982",
   "metadata": {},
   "outputs": [],
   "source": [
    "from typing import Set"
   ]
  },
  {
   "cell_type": "code",
   "execution_count": null,
   "id": "9181b1cf-d1d7-46b4-8d7d-6dba400940d2",
   "metadata": {},
   "outputs": [],
   "source": [
    "@dataclass\n",
    "class Ingredient:\n",
    "    name: str\n",
    "    amount: float\n",
    "    unit: ImperialMeasure"
   ]
  },
  {
   "cell_type": "code",
   "execution_count": null,
   "id": "44581fc6-4e6f-449a-8e46-5659451b5560",
   "metadata": {},
   "outputs": [],
   "source": [
    "@dataclass\n",
    "class Recipe:\n",
    "    meats: Set[Ingredient]\n",
    "    starches: Set[Ingredient]"
   ]
  },
  {
   "cell_type": "code",
   "execution_count": null,
   "id": "eaacb531-bdf7-4088-9111-64704ceb582d",
   "metadata": {},
   "outputs": [],
   "source": [
    "from typing import NewType"
   ]
  },
  {
   "cell_type": "code",
   "execution_count": null,
   "id": "8f8398c4-d82c-41e2-a123-cda33c9dbe47",
   "metadata": {},
   "outputs": [],
   "source": [
    "ID = NewType(\"ID\", int)"
   ]
  },
  {
   "cell_type": "code",
   "execution_count": null,
   "id": "adf73a19-d4bc-446e-b7bf-fdf9c59fca7e",
   "metadata": {},
   "outputs": [],
   "source": [
    "Color = NewType(\"Color\", str)"
   ]
  },
  {
   "cell_type": "code",
   "execution_count": null,
   "id": "2cf0263c-36b6-4aa5-86ac-8c534866fd5e",
   "metadata": {},
   "outputs": [],
   "source": []
  }
 ],
 "metadata": {
  "kernelspec": {
   "display_name": "Python 3 (ipykernel)",
   "language": "python",
   "name": "python3"
  }
 },
 "nbformat": 4,
 "nbformat_minor": 5
}
