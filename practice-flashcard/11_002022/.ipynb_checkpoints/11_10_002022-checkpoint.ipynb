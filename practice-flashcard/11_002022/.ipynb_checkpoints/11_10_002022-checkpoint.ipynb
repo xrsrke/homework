{
 "cells": [
  {
   "cell_type": "markdown",
   "id": "b0354647-43b0-4068-96fc-abc4217e7633",
   "metadata": {},
   "source": [
    "### Deep Learning"
   ]
  },
  {
   "cell_type": "code",
   "execution_count": null,
   "id": "b6deab3d-a2a8-41cf-a713-d1f63aca6d0e",
   "metadata": {},
   "outputs": [],
   "source": [
    "import torch"
   ]
  },
  {
   "cell_type": "code",
   "execution_count": null,
   "id": "3ad5b7eb-f98e-497a-b663-e1d343940af6",
   "metadata": {},
   "outputs": [],
   "source": [
    "def mse(pred, targ):\n",
    "    return (pred.squeeze-targ).pow(2).mean()"
   ]
  },
  {
   "cell_type": "code",
   "execution_count": null,
   "id": "b97e5455-f357-434d-bf95-4d466ba7b7a5",
   "metadata": {},
   "outputs": [],
   "source": [
    "def _linear_interpolation(start, end, mom):\n",
    "    return start * (1-mom) + end*mom"
   ]
  },
  {
   "cell_type": "code",
   "execution_count": null,
   "id": "d00185a9-5dc8-41b4-8bb6-b0842b5d0097",
   "metadata": {},
   "outputs": [],
   "source": [
    "augemntation, synthesis, pertubation"
   ]
  },
  {
   "cell_type": "code",
   "execution_count": null,
   "id": "c5ae5c65-7a59-4567-b0c1-59e291e5b813",
   "metadata": {},
   "outputs": [],
   "source": [
    "from PIL import Image"
   ]
  },
  {
   "cell_type": "code",
   "execution_count": null,
   "id": "7b0df030-eb0b-498c-8c72-c4b1accb91ea",
   "metadata": {},
   "outputs": [],
   "source": [
    "seven_tensors = torch.stack([tensor(Image.open(o)) for o in sevens])"
   ]
  },
  {
   "cell_type": "code",
   "execution_count": null,
   "id": "f6a8ea3a-1744-4595-aeca-cf77c7ead4f6",
   "metadata": {},
   "outputs": [],
   "source": [
    "from fastai.text.all import *"
   ]
  },
  {
   "cell_type": "code",
   "execution_count": null,
   "id": "c709d457-0484-4ab6-9cba-8e1b18c9b574",
   "metadata": {},
   "outputs": [],
   "source": [
    "spacy = WordTokenizer"
   ]
  },
  {
   "cell_type": "code",
   "execution_count": null,
   "id": "8bf90473-fdd0-4350-abc3-7c4fb8b66d44",
   "metadata": {},
   "outputs": [],
   "source": [
    "from fastai.vision.all import *"
   ]
  },
  {
   "cell_type": "code",
   "execution_count": null,
   "id": "e43041c5-2224-4002-b01b-48f18d6e70a7",
   "metadata": {},
   "outputs": [],
   "source": [
    "dblock = DataBlock(get_x = lambda r: r['fname'],\n",
    "                   get_y = lambda r: r['labels'])"
   ]
  },
  {
   "cell_type": "code",
   "execution_count": null,
   "id": "64e41840-15d0-45e8-80d0-00b3dfe195af",
   "metadata": {},
   "outputs": [],
   "source": [
    "datasets = dblock.datasets(df)"
   ]
  },
  {
   "cell_type": "code",
   "execution_count": null,
   "id": "3141074c-7c69-4e67-9929-ae77b8b200be",
   "metadata": {},
   "outputs": [],
   "source": [
    "batch_tfms"
   ]
  },
  {
   "cell_type": "code",
   "execution_count": null,
   "id": "85942b46-a573-40df-b8b7-4cc401060a91",
   "metadata": {},
   "outputs": [],
   "source": [
    "def normalize(x, m, v):\n",
    "    return (x - m) / v"
   ]
  },
  {
   "cell_type": "code",
   "execution_count": null,
   "id": "415a809f-1b95-4162-9292-9a13b39bb7b9",
   "metadata": {},
   "outputs": [],
   "source": [
    "train_mean, train_var = x_train.mean(), x_train.var()"
   ]
  },
  {
   "cell_type": "code",
   "execution_count": null,
   "id": "0f4fe6b9-9751-4ce3-86f4-e16253a0dda6",
   "metadata": {},
   "outputs": [],
   "source": [
    "x_train = normalize(x_train, train_mean, train_var)"
   ]
  },
  {
   "cell_type": "code",
   "execution_count": null,
   "id": "989d9dc6-da66-4fb9-bada-6dc1c3de73ee",
   "metadata": {},
   "outputs": [],
   "source": [
    "x_valid = normalize(x_valid, train_mean, train_var)"
   ]
  },
  {
   "cell_type": "code",
   "execution_count": null,
   "id": "b9086ae0-6293-4328-8f0a-d6a337ef877c",
   "metadata": {},
   "outputs": [],
   "source": [
    "def frobenius_norm(x):\n",
    "    return (x*x).sum().sqrt()"
   ]
  },
  {
   "cell_type": "code",
   "execution_count": null,
   "id": "fb813537-997b-4303-96d2-01617c59f96e",
   "metadata": {},
   "outputs": [],
   "source": [
    "import torch.nn as nn"
   ]
  },
  {
   "cell_type": "code",
   "execution_count": null,
   "id": "34a35110-e409-4530-bde0-a3d0cfcb023b",
   "metadata": {},
   "outputs": [],
   "source": [
    "import torch.nn.functional as F"
   ]
  },
  {
   "cell_type": "code",
   "execution_count": null,
   "id": "58387799-c2d9-4880-9831-592d371de5ef",
   "metadata": {},
   "outputs": [],
   "source": [
    "class _Model(nn.Module):\n",
    "    def __init__(self):\n",
    "        self.register_buffer('means', _one_vectorsb)"
   ]
  },
  {
   "cell_type": "code",
   "execution_count": null,
   "id": "0c1a5d22-5f1c-4cd4-8045-31409cf26616",
   "metadata": {},
   "outputs": [],
   "source": [
    "activations - m / (v + eps).sqrt()"
   ]
  },
  {
   "cell_type": "code",
   "execution_count": null,
   "id": "49309bcb-8dca-48ef-a8a6-48cf87780452",
   "metadata": {},
   "outputs": [],
   "source": [
    "init adds, mults, var, mean"
   ]
  },
  {
   "cell_type": "code",
   "execution_count": null,
   "id": "df7d1011-76f5-4573-b2c1-28e62ae78788",
   "metadata": {},
   "outputs": [],
   "source": [
    "activation * mults + adds"
   ]
  },
  {
   "cell_type": "code",
   "execution_count": null,
   "id": "7f4de9af-1bb3-429f-8a9a-de2ef16f037d",
   "metadata": {},
   "outputs": [],
   "source": [
    "def log_softmax(x):\n",
    "    return x - x.exp().sum().log()"
   ]
  },
  {
   "cell_type": "code",
   "execution_count": null,
   "id": "492a5a54-69e8-4451-af92-0b72f98f0f81",
   "metadata": {},
   "outputs": [],
   "source": [
    "def std(x):\n",
    "    variance = (x - x.mean()).pow(2).mean()\n",
    "    return variance.sqrt()"
   ]
  },
  {
   "cell_type": "code",
   "execution_count": null,
   "id": "4ca823d7-4b34-4e53-84af-6796e88e28e3",
   "metadata": {},
   "outputs": [],
   "source": [
    "spacy = WordTokenizer()"
   ]
  },
  {
   "cell_type": "code",
   "execution_count": null,
   "id": "e8cb6dac-85f4-4551-abf0-230342aa9ee8",
   "metadata": {},
   "outputs": [],
   "source": [
    "toks = spacy([content])"
   ]
  },
  {
   "cell_type": "code",
   "execution_count": null,
   "id": "ff6139e6-4d78-4476-a8d5-b754e8143b6a",
   "metadata": {},
   "outputs": [],
   "source": [
    "spacy"
   ]
  },
  {
   "cell_type": "code",
   "execution_count": null,
   "id": "4da0257c-d98b-4557-ba33-d4fd726d2723",
   "metadata": {},
   "outputs": [],
   "source": [
    "def covariance(x, y):\n",
    "    return (x*y).mean() - x.mean() * y.mean()"
   ]
  },
  {
   "cell_type": "code",
   "execution_count": null,
   "id": "4e878a18-ed01-4709-8e29-1804616b27a4",
   "metadata": {},
   "outputs": [],
   "source": [
    "def correlation(x, y):\n",
    "    return covar(x, y) / (std(x) * std(y))"
   ]
  },
  {
   "cell_type": "code",
   "execution_count": null,
   "id": "b5642f61-17c0-4e19-9d50-dc88e08cd2b7",
   "metadata": {},
   "outputs": [],
   "source": [
    "def _show_file_path(path, names):\n",
    "    return [path/name for name in names if not name.startswith('.')]"
   ]
  },
  {
   "cell_type": "code",
   "execution_count": null,
   "id": "30fcfe82-06c7-40b2-872b-0012e99f2552",
   "metadata": {},
   "outputs": [],
   "source": [
    "from pathlib import Path"
   ]
  },
  {
   "cell_type": "code",
   "execution_count": null,
   "id": "a318f294-1c13-4e5f-86f3-eeaaa3738159",
   "metadata": {},
   "outputs": [],
   "source": [
    "Path.iter"
   ]
  },
  {
   "cell_type": "code",
   "execution_count": null,
   "id": "d5a33cdf-5dd7-4c23-a543-cdd44ee1170e",
   "metadata": {},
   "outputs": [],
   "source": [
    "def ls(p):\n",
    "    return list(p.iterdir())"
   ]
  },
  {
   "cell_type": "code",
   "execution_count": null,
   "id": "99923fa0-8f2d-46e5-90de-537bc8cff733",
   "metadata": {},
   "outputs": [],
   "source": [
    "def grandparent_splitter(path, valid_name, train_name):\n",
    "    parent_name = path.parent.parent.name\n",
    "    \n",
    "    return True if parent_name == valid_name else False if parent_name = "
   ]
  },
  {
   "cell_type": "code",
   "execution_count": null,
   "id": "ce162d5b-a7df-4bda-b236-7fb761d42810",
   "metadata": {},
   "outputs": [],
   "source": [
    "import collections"
   ]
  },
  {
   "cell_type": "code",
   "execution_count": null,
   "id": "9f63efdf-8ebf-4bc4-89d3-6f393c821713",
   "metadata": {},
   "outputs": [
    {
     "data": {
      "text/plain": [
       "<module 'collections' from '/opt/anaconda3/envs/deeplearning/lib/python3.9/collections/__init__.py'>"
      ]
     },
     "execution_count": null,
     "metadata": {},
     "output_type": "execute_result"
    }
   ],
   "source": [
    "collections."
   ]
  },
  {
   "cell_type": "code",
   "execution_count": null,
   "id": "958d558d-6c17-446c-a6fd-b838793de6cb",
   "metadata": {},
   "outputs": [],
   "source": [
    "def _uniquetify(labels):\n",
    "    r"
   ]
  },
  {
   "cell_type": "code",
   "execution_count": null,
   "id": "04770a74-fdf9-4725-a31e-8e3f970fb2c7",
   "metadata": {},
   "outputs": [],
   "source": [
    "def frobenius_norm(x):\n",
    "    return (x*x).sum().sqrt()"
   ]
  },
  {
   "cell_type": "code",
   "execution_count": null,
   "id": "ced44bbb-de3c-4c49-bcb6-73008ba8dbfc",
   "metadata": {},
   "outputs": [],
   "source": [
    "cache, batch, coccurency"
   ]
  },
  {
   "cell_type": "code",
   "execution_count": null,
   "id": "0e51da8b-0c91-4630-a8f0-b8331a785235",
   "metadata": {},
   "outputs": [],
   "source": [
    "model in server, model in db, model as service, model edge"
   ]
  },
  {
   "cell_type": "markdown",
   "id": "c1bc2341-3119-4947-8536-0bec42c385ca",
   "metadata": {},
   "source": [
    "### Python"
   ]
  },
  {
   "cell_type": "code",
   "execution_count": null,
   "id": "fea9eabf-f602-4fbb-a04f-eb6291bf592a",
   "metadata": {},
   "outputs": [],
   "source": [
    "from typing import NewType"
   ]
  },
  {
   "cell_type": "code",
   "execution_count": null,
   "id": "6dd79637-56ab-4b62-b65e-87e517f2febe",
   "metadata": {},
   "outputs": [],
   "source": [
    "AuthorMapping = dict[str, int]"
   ]
  },
  {
   "cell_type": "code",
   "execution_count": null,
   "id": "1bb4a746-d78f-44a7-bfa8-e48c073f0538",
   "metadata": {},
   "outputs": [],
   "source": [
    "def create_author_count_mapping(cookbooks: list[Cookbook]) ->AuthorMapping"
   ]
  },
  {
   "cell_type": "code",
   "execution_count": null,
   "id": "b52aa5da-a338-41fe-bd38-4ab2c3a28d61",
   "metadata": {},
   "outputs": [],
   "source": [
    "class CarProxy:\n",
    "    def __init__(self, car):\n",
    "        self.car = car\n",
    "    \n",
    "    def drive()"
   ]
  },
  {
   "cell_type": "code",
   "execution_count": null,
   "id": "31767c36-faff-43fc-b5de-28234af9bc78",
   "metadata": {},
   "outputs": [],
   "source": [
    "from typing import TypedDict"
   ]
  },
  {
   "cell_type": "code",
   "execution_count": null,
   "id": "ee73465b-ca6b-47c9-97ca-6db5b8d0c51d",
   "metadata": {},
   "outputs": [],
   "source": [
    "class NutritionInformation(TypedDict):\n",
    "    value: int\n",
    "    unit: str"
   ]
  },
  {
   "cell_type": "code",
   "execution_count": null,
   "id": "28550e0a-5e80-470f-a3cf-4354a299e989",
   "metadata": {},
   "outputs": [],
   "source": [
    "class RecipeNutritionInformation(TypedDict):\n",
    "    recipes_used: int\n",
    "    calories: NutritionInformation\n",
    "    carbs: NutritionInformation"
   ]
  },
  {
   "cell_type": "code",
   "execution_count": null,
   "id": "0cb7f6a5-bd2a-4829-bc3a-4c2ed28189a5",
   "metadata": {},
   "outputs": [],
   "source": [
    "def get_nutrition_(recipe_name: str) -> RecipeNutritionInformation"
   ]
  },
  {
   "cell_type": "code",
   "execution_count": null,
   "id": "ca05b5fc-e9a9-4932-a898-b260a78101ae",
   "metadata": {},
   "outputs": [],
   "source": [
    "T = TypeVar('T')"
   ]
  },
  {
   "cell_type": "code",
   "execution_count": null,
   "id": "987c00be-c0fe-4f23-92a9-81e3dcce02cf",
   "metadata": {},
   "outputs": [],
   "source": [
    "APIResponse = Union[T, APIError]"
   ]
  },
  {
   "cell_type": "code",
   "execution_count": null,
   "id": "66e1f7af-623e-40d0-8869-f12c88dde8e8",
   "metadata": {},
   "outputs": [],
   "source": [
    "NumberOfServing = int"
   ]
  },
  {
   "cell_type": "code",
   "execution_count": null,
   "id": "da0db9a5-1722-486b-ab9d-6a4c913b51b9",
   "metadata": {},
   "outputs": [],
   "source": [
    "Ingredient = tuple[str, int, str]"
   ]
  },
  {
   "cell_type": "code",
   "execution_count": null,
   "id": "75e854f9-af32-48c0-a3f6-7853b786be6f",
   "metadata": {},
   "outputs": [],
   "source": [
    "Output = list[Union[NumberOfServing, Ingre]]"
   ]
  },
  {
   "cell_type": "code",
   "execution_count": null,
   "id": "ab90e01d-0800-4094-b0f4-52c74c92cdf6",
   "metadata": {},
   "outputs": [],
   "source": [
    "from enum import Enum"
   ]
  },
  {
   "cell_type": "code",
   "execution_count": null,
   "id": "1bfea660-6f2e-4e06-a200-5983d78bd97e",
   "metadata": {},
   "outputs": [],
   "source": [
    "class MotherSauce(Enum):\n",
    "    BACHAMEL = \"B\"\n",
    "    VELOUTE = \"V\""
   ]
  },
  {
   "cell_type": "code",
   "execution_count": null,
   "id": "1d72e92f-fda4-4402-b41d-0d6930045d8a",
   "metadata": {},
   "outputs": [],
   "source": [
    "class Handler:\n",
    "    def __init__(self):\n",
    "        self.next_handler = None\n",
    "\n",
    "    def handle(self):\n",
    "        if not self.next_handler: return\n",
    "        return self.next_handler.handle()\n",
    "    \n",
    "    def set_next(self, next_handler):\n",
    "        if not self.next_handler:\n",
    "            self.next_handler = next_handler\n",
    "        else:\n",
    "            self.next_handler.set_next(next_handler)"
   ]
  },
  {
   "cell_type": "code",
   "execution_count": null,
   "id": "e641da04-06c9-4836-b51a-e1b6194e3b12",
   "metadata": {},
   "outputs": [],
   "source": [
    "from abc import ABC, abstractclassmethod"
   ]
  },
  {
   "cell_type": "code",
   "execution_count": null,
   "id": "2adc3468-65d3-4f22-a3f6-7055c9aa8723",
   "metadata": {},
   "outputs": [],
   "source": [
    "class State(ABC):\n",
    "    def __init__(self, order):\n",
    "        self.order = order\n",
    "        \n",
    "    @abstractclassmethod\n",
    "    def receive_payment(self): pass\n",
    "\n",
    "    @abstractclassmethod\n",
    "    def ship(self): pass"
   ]
  },
  {
   "cell_type": "code",
   "execution_count": null,
   "id": "8819c98f-e644-4a2f-89ed-6455d9f48616",
   "metadata": {},
   "outputs": [],
   "source": [
    "class UnpaidState(State):\n",
    "    def receive_payment(self):\n",
    "        self.order.set_state(self.order.paid_state)\n",
    "        print(\"Your payment has been accepeted\")\n",
    "    \n",
    "    def ship(self):\n",
    "        print(\"Ca't\")"
   ]
  },
  {
   "cell_type": "code",
   "execution_count": null,
   "id": "1007cc84-9fd0-40cb-ba1d-b72f81bd565c",
   "metadata": {},
   "outputs": [],
   "source": [
    "class PaidState(State):\n",
    "    pass"
   ]
  },
  {
   "cell_type": "code",
   "execution_count": null,
   "id": "5072beed-8d0f-4a31-8c13-44d9a4c8b2ff",
   "metadata": {},
   "outputs": [],
   "source": [
    "class Order:\n",
    "    def __init__(self):\n",
    "        self.unpaid_state = UnpaidState(self)\n",
    "        self.paid_state = PaidState(self)\n",
    "        \n",
    "        self.state = self.unpaid_state\n",
    "    \n",
    "    def set_state(self, state):\n",
    "        self.state = state\n",
    "        \n",
    "    def receive_payment(self):\n",
    "        return self.state.receive_payment()"
   ]
  },
  {
   "cell_type": "markdown",
   "id": "4355aa1d-f048-45a0-a0c3-db841464d202",
   "metadata": {},
   "source": [
    "### Docker"
   ]
  },
  {
   "cell_type": "code",
   "execution_count": null,
   "id": "37961c19-8ee2-4ea7-b5ca-8de154de07ee",
   "metadata": {},
   "outputs": [],
   "source": [
    "version: 0.01\n",
    "\n",
    "services:\n",
    "    mongo-db:\n",
    "        image: mongo\n",
    "        volumes:\n",
    "            - db_data: /var/lib/mysql/data\n",
    "\n",
    "volumes:\n",
    "    db_data"
   ]
  },
  {
   "cell_type": "code",
   "execution_count": null,
   "id": "5d6b00ff-8000-4b24-acff-66c6ed04b5c1",
   "metadata": {},
   "outputs": [],
   "source": [
    "version: 0.01\n",
    "\n",
    "services:\n",
    "    mongo-db:\n",
    "        image: mongo\n",
    "b"
   ]
  },
  {
   "cell_type": "markdown",
   "id": "2cf7dc22-76ab-4796-a320-130daf8b626e",
   "metadata": {},
   "source": [
    "### Python"
   ]
  },
  {
   "cell_type": "code",
   "execution_count": null,
   "id": "7e6edf47-b7f7-4fa9-a3eb-c37142160da3",
   "metadata": {},
   "outputs": [
    {
     "name": "stdout",
     "output_type": "stream",
     "text": [
      "Hello Shivon\n"
     ]
    }
   ],
   "source": [
    "print(\"Hello {0}\".format(\"Shivon\"))"
   ]
  },
  {
   "cell_type": "code",
   "execution_count": null,
   "id": "14d9ff19-c743-4e9c-944e-d7372512d8ab",
   "metadata": {},
   "outputs": [],
   "source": [
    "class Student(Person):\n",
    "    pass"
   ]
  },
  {
   "cell_type": "code",
   "execution_count": null,
   "id": "45bc4262-5c26-4531-ba69-042f40b2e078",
   "metadata": {},
   "outputs": [],
   "source": [
    "from collections import namedtuple"
   ]
  },
  {
   "cell_type": "code",
   "execution_count": null,
   "id": "22237fe5-327a-4037-95b0-9a0138db02b0",
   "metadata": {},
   "outputs": [],
   "source": [
    "EV2 = namedtuple(\"ElectricVehicle\", (\"efficient\", \"make\", \"price\"))"
   ]
  },
  {
   "cell_type": "code",
   "execution_count": null,
   "id": "0ad490d4-4ff5-4df4-ae29-20ea783637de",
   "metadata": {},
   "outputs": [],
   "source": [
    "import pytest"
   ]
  },
  {
   "cell_type": "code",
   "execution_count": null,
   "id": "8e37d951-67dd-4fc6-adf0-1f5a3e2e0b02",
   "metadata": {},
   "outputs": [],
   "source": [
    "@pytest.fixture\n",
    "def book():\n",
    "    return"
   ]
  },
  {
   "cell_type": "code",
   "execution_count": null,
   "id": "7274b62e-bc86-40fb-bee9-d99cd53877af",
   "metadata": {},
   "outputs": [],
   "source": [
    "class NumberField:\n",
    "    def __set_name__(self, owner, name):\n",
    "        self.name = name"
   ]
  },
  {
   "cell_type": "code",
   "execution_count": null,
   "id": "ec2267b9-a51d-4345-a7cd-97ac7943ab76",
   "metadata": {},
   "outputs": [],
   "source": [
    "@pytest.mark.parametrize(\n",
    "    (\"test_input\", \"expected\"),\n",
    "    ((1, 1), (2, 4))\n",
    ")\n",
    "def test_square(test_input, expected):\n",
    "    assert square(test_input) == expected"
   ]
  },
  {
   "cell_type": "code",
   "execution_count": null,
   "id": "51928279-726d-4361-9a72-d74c688d0170",
   "metadata": {},
   "outputs": [],
   "source": [
    "@pytest.mark.usefix"
   ]
  },
  {
   "cell_type": "code",
   "execution_count": null,
   "id": "de372e4c-d396-43a1-b673-ede369f3e8e9",
   "metadata": {},
   "outputs": [],
   "source": [
    "import unittest"
   ]
  },
  {
   "cell_type": "code",
   "execution_count": null,
   "id": "2ea5b3df-78e6-493c-8ee1-fff3d89b59a3",
   "metadata": {},
   "outputs": [],
   "source": [
    "class TestGetCompanies(unittest.TestCase):\n",
    "    def test_list_companies_should_return_one(self):\n",
    "        self.assertIn()"
   ]
  },
  {
   "cell_type": "code",
   "execution_count": null,
   "id": "c8b22129-a1f1-43f1-874b-92b30538ef98",
   "metadata": {},
   "outputs": [],
   "source": [
    "@pytest.mark.fixture\n",
    "def book():\n",
    "    return Book('zoo adventure')"
   ]
  },
  {
   "cell_type": "code",
   "execution_count": null,
   "id": "9226d456-bbcb-48ef-8cbb-27e89e175176",
   "metadata": {},
   "outputs": [],
   "source": [
    "def test_book(book):\n",
    "    assert book.name == 'zoo adventure'"
   ]
  },
  {
   "cell_type": "code",
   "execution_count": null,
   "id": "99b5dee3-146f-4c59-926b-4b495e9e0ee6",
   "metadata": {},
   "outputs": [],
   "source": [
    "func = lambda x: x**2"
   ]
  },
  {
   "cell_type": "code",
   "execution_count": null,
   "id": "03b599b4-ed63-43c3-823e-f44a90369838",
   "metadata": {},
   "outputs": [],
   "source": [
    "f = partial(my_func, 10, k1='a')"
   ]
  },
  {
   "cell_type": "code",
   "execution_count": null,
   "id": "a52186be-0f0d-4ff7-a7f2-6e002032a5c0",
   "metadata": {},
   "outputs": [],
   "source": [
    "filter(lambda x: x>3)"
   ]
  },
  {
   "cell_type": "code",
   "execution_count": null,
   "id": "cc0e54a0-9b8e-437c-83f2-b318dc90b2d0",
   "metadata": {},
   "outputs": [],
   "source": [
    "total = 0"
   ]
  },
  {
   "cell_type": "code",
   "execution_count": null,
   "id": "6e9c72ff-85ce-47d1-9f52-d082bb750022",
   "metadata": {},
   "outputs": [],
   "source": [
    "def count():\n",
    "    global total\n",
    "    total += 1\n",
    "    return total"
   ]
  },
  {
   "cell_type": "code",
   "execution_count": null,
   "id": "b27f1cda-3fbd-4915-a7d2-930b0d43b94d",
   "metadata": {},
   "outputs": [
    {
     "data": {
      "text/plain": [
       "(1, 2, 3)"
      ]
     },
     "execution_count": null,
     "metadata": {},
     "output_type": "execute_result"
    }
   ],
   "source": [
    "count(), count(), count()"
   ]
  },
  {
   "cell_type": "code",
   "execution_count": null,
   "id": "8dd6a283-a949-498d-b389-08f7e8772787",
   "metadata": {},
   "outputs": [
    {
     "data": {
      "text/plain": [
       "3"
      ]
     },
     "execution_count": null,
     "metadata": {},
     "output_type": "execute_result"
    }
   ],
   "source": [
    "total"
   ]
  },
  {
   "cell_type": "code",
   "execution_count": null,
   "id": "0c4346df-f462-4d3c-9ead-4eea8281aee6",
   "metadata": {},
   "outputs": [],
   "source": [
    "from typing import Optional"
   ]
  },
  {
   "cell_type": "code",
   "execution_count": null,
   "id": "5394d326-bad8-43d9-9dfe-9444da302a5c",
   "metadata": {},
   "outputs": [],
   "source": [
    "def is_valid(value: Optional[bool] = False) -> Optional[bool]:\n",
    "    return value"
   ]
  },
  {
   "cell_type": "code",
   "execution_count": null,
   "id": "f36e38ad-6fb7-4953-9364-ee14782696f7",
   "metadata": {},
   "outputs": [],
   "source": [
    "x: dict[str, float] = "
   ]
  },
  {
   "cell_type": "code",
   "execution_count": null,
   "id": "682aa89d-2766-4f10-82c2-ddf4eaa90a2b",
   "metadata": {},
   "outputs": [],
   "source": [
    "x: set[str,...]"
   ]
  },
  {
   "cell_type": "code",
   "execution_count": null,
   "id": "6a906c1a-27e9-47e8-9122-da5cb303bfa5",
   "metadata": {},
   "outputs": [],
   "source": [
    "from typing import Callable"
   ]
  },
  {
   "cell_type": "code",
   "execution_count": null,
   "id": "41249559-e89b-4324-af28-9cf59e9b049a",
   "metadata": {},
   "outputs": [],
   "source": [
    "def foo() -> Callable[[int, int], int]:\n",
    "    def add(x: int, y: int) -> int:\n",
    "        return x + y\n",
    "    \n",
    "    return add"
   ]
  },
  {
   "cell_type": "code",
   "execution_count": null,
   "id": "a3a793c8-2ee7-4d4e-9f03-c663f7dd09c4",
   "metadata": {},
   "outputs": [],
   "source": [
    "logger.add('')"
   ]
  },
  {
   "cell_type": "code",
   "execution_count": null,
   "id": "24d18987-6b47-4068-a417-60e1d5443b34",
   "metadata": {},
   "outputs": [],
   "source": [
    "@logger.catch"
   ]
  },
  {
   "cell_type": "code",
   "execution_count": null,
   "id": "d620e8ed-a581-4847-a1a1-3a66b4a2fbae",
   "metadata": {},
   "outputs": [],
   "source": [
    "import re"
   ]
  },
  {
   "cell_type": "code",
   "execution_count": null,
   "id": "64a1aa30-c874-4114-a9ce-6cfe0f033e46",
   "metadata": {},
   "outputs": [],
   "source": [
    "patterns = re.compile(r'\\d\\d\\d')"
   ]
  },
  {
   "cell_type": "code",
   "execution_count": null,
   "id": "b0948649-3c25-4bc5-b87b-0c8ea8066ca9",
   "metadata": {},
   "outputs": [],
   "source": [
    "matches = patterns.finditer()"
   ]
  },
  {
   "cell_type": "code",
   "execution_count": null,
   "id": "860f703d-19af-4bac-add6-9030953bdd32",
   "metadata": {},
   "outputs": [],
   "source": [
    "patterns = re.compile(r'raynext\\.com')"
   ]
  },
  {
   "cell_type": "code",
   "execution_count": null,
   "id": "e456a05c-c521-4e3d-aaa4-42eb94665359",
   "metadata": {},
   "outputs": [],
   "source": [
    "path.exists()"
   ]
  },
  {
   "cell_type": "code",
   "execution_count": null,
   "id": "9a549897-4807-408d-a4e1-74f7ef4a6f4d",
   "metadata": {},
   "outputs": [],
   "source": [
    "from fastcore.basics import *"
   ]
  },
  {
   "cell_type": "code",
   "execution_count": null,
   "id": "579a19d3-9aeb-4c5a-9fd9-1368bcaeb0ad",
   "metadata": {},
   "outputs": [],
   "source": [
    "class _T(Stateful):\n",
    "    def __init__(self):\n",
    "        super().__init__()\n",
    "        self.a = 1\n",
    "        self._state['state'] = 2"
   ]
  },
  {
   "cell_type": "code",
   "execution_count": null,
   "id": "71c1e16a-0c73-410e-a3b7-76b7f079b8b0",
   "metadata": {},
   "outputs": [],
   "source": [
    "t = _T()"
   ]
  },
  {
   "cell_type": "code",
   "execution_count": null,
   "id": "8bb4203e-a50f-4ab2-a65c-200257eebd5f",
   "metadata": {},
   "outputs": [
    {
     "data": {
      "text/plain": [
       "{'_state': {'state': 2}, 'a': 1}"
      ]
     },
     "execution_count": null,
     "metadata": {},
     "output_type": "execute_result"
    }
   ],
   "source": [
    "t.__dict__"
   ]
  },
  {
   "cell_type": "code",
   "execution_count": null,
   "id": "a3cca4f3-e66c-43e0-ae45-d51191b46ac5",
   "metadata": {},
   "outputs": [],
   "source": [
    "from fastcore.all import *"
   ]
  },
  {
   "cell_type": "code",
   "execution_count": null,
   "id": "52664190-8fd7-4bf0-9f4e-aaeba5ba1540",
   "metadata": {},
   "outputs": [],
   "source": [
    "class Foo:\n",
    "    def __init__(self, a, b):\n",
    "        self.a, self.b = a, b\n",
    "    \n",
    "    __repr__ = basic_repr('a, b')"
   ]
  },
  {
   "cell_type": "code",
   "execution_count": null,
   "id": "e25791eb-a5d5-4bf2-89fe-0c12e0410993",
   "metadata": {},
   "outputs": [],
   "source": [
    "L(txts).map(f)"
   ]
  },
  {
   "cell_type": "code",
   "execution_count": null,
   "id": "65c68379-0402-41dd-b0ea-5e7d76ef5ae5",
   "metadata": {},
   "outputs": [],
   "source": [
    "coll_repr(vocabs, 20)"
   ]
  },
  {
   "cell_type": "code",
   "execution_count": null,
   "id": "c1f12cb1-cef9-401c-8ed7-e808d97f022e",
   "metadata": {},
   "outputs": [],
   "source": [
    "from fastcore.foundation import *"
   ]
  },
  {
   "cell_type": "code",
   "execution_count": null,
   "id": "bb147676-fe88-4e74-b2e8-edb6a8851a9a",
   "metadata": {},
   "outputs": [],
   "source": [
    "L(b).attrgot('id')"
   ]
  },
  {
   "cell_type": "code",
   "execution_count": null,
   "id": "c83f2322-d3aa-4340-b073-b5e39290aa0a",
   "metadata": {},
   "outputs": [],
   "source": [
    "import sympy as smp"
   ]
  },
  {
   "cell_type": "code",
   "execution_count": null,
   "id": "164190ba-ad4d-4721-b0d7-dcec32ea3f5f",
   "metadata": {},
   "outputs": [],
   "source": [
    "smp.solve([eq1, eq2], [x, y])"
   ]
  },
  {
   "cell_type": "code",
   "execution_count": null,
   "id": "412c4162-777a-4f76-a2d1-6ccfe9587402",
   "metadata": {},
   "outputs": [],
   "source": [
    "condition = True"
   ]
  },
  {
   "cell_type": "code",
   "execution_count": null,
   "id": "154697b7-baf3-4b5d-b79f-bb0fe9f406a5",
   "metadata": {},
   "outputs": [],
   "source": [
    "x, y = (1, 0) if condition else None, None"
   ]
  },
  {
   "cell_type": "code",
   "execution_count": null,
   "id": "6f12da79-f2ff-4a44-8a6b-41e13d42892d",
   "metadata": {},
   "outputs": [
    {
     "data": {
      "text/plain": [
       "((1, 0), None)"
      ]
     },
     "execution_count": null,
     "metadata": {},
     "output_type": "execute_result"
    }
   ],
   "source": [
    "x, y"
   ]
  },
  {
   "cell_type": "markdown",
   "id": "2af6ed06-1001-4b62-8be1-983d9907ceca",
   "metadata": {},
   "source": [
    "Fix the bug as bellow"
   ]
  },
  {
   "cell_type": "code",
   "execution_count": null,
   "id": "63da6514-107d-4b29-a682-6876fd38be71",
   "metadata": {},
   "outputs": [],
   "source": [
    "x, y = (1, 0) if condition else (None, None)"
   ]
  },
  {
   "cell_type": "code",
   "execution_count": null,
   "id": "ea22eb34-808d-4284-b296-1e7bc14ce6fc",
   "metadata": {},
   "outputs": [
    {
     "data": {
      "text/plain": [
       "(1, 0)"
      ]
     },
     "execution_count": null,
     "metadata": {},
     "output_type": "execute_result"
    }
   ],
   "source": [
    "x, y"
   ]
  },
  {
   "cell_type": "code",
   "execution_count": null,
   "id": "35d9ac45-2779-42b7-b07b-ede9d32ea376",
   "metadata": {},
   "outputs": [],
   "source": [
    "import pandas as pd"
   ]
  },
  {
   "cell_type": "code",
   "execution_count": null,
   "id": "54003abc-9d06-4262-b047-9c0e90796dee",
   "metadata": {},
   "outputs": [],
   "source": [
    "pd.RangeIndex(10, -11)"
   ]
  },
  {
   "cell_type": "code",
   "execution_count": null,
   "id": "acdbf56c-6a7c-4f98-8a11-0d08ff01ba3c",
   "metadata": {},
   "outputs": [],
   "source": [
    "class Keyboard:\n",
    "    def __init__(self, language):\n",
    "        self.language = language\n",
    "    \n",
    "    def __hash__(self):\n",
    "        return hash(self.language)"
   ]
  },
  {
   "cell_type": "code",
   "execution_count": null,
   "id": "a11ff04c-e0de-4545-a571-58090582a38e",
   "metadata": {},
   "outputs": [],
   "source": [
    "k1 = Keyboard(\"A\")\n",
    "k2 = Keyboard(\"A\")"
   ]
  },
  {
   "cell_type": "code",
   "execution_count": null,
   "id": "5047d90b-620f-4bd3-bda7-6f659e1db6b7",
   "metadata": {},
   "outputs": [
    {
     "data": {
      "text/plain": [
       "True"
      ]
     },
     "execution_count": null,
     "metadata": {},
     "output_type": "execute_result"
    }
   ],
   "source": [
    "hash(k1) == hash(k2)"
   ]
  },
  {
   "cell_type": "code",
   "execution_count": null,
   "id": "76c64cd9-5fea-4c0c-8d4a-97aae1075afd",
   "metadata": {},
   "outputs": [],
   "source": [
    "class Plant:\n",
    "    def __init__(self, age):\n",
    "        self.age = age\n",
    "    \n",
    "    def __bool__(self):\n",
    "        return True if self.age > 5 else False"
   ]
  },
  {
   "cell_type": "code",
   "execution_count": null,
   "id": "341d8c66-16ca-4b3c-8486-27ac54dc790b",
   "metadata": {},
   "outputs": [],
   "source": [
    "class Book:\n",
    "    def __init__(self):\n",
    "        self.books = []\n",
    "    \n",
    "    def __add__(self, v):\n",
    "        self.books.append(v)"
   ]
  },
  {
   "cell_type": "code",
   "execution_count": null,
   "id": "f33bef99-4f71-45e0-a7ed-f53a920ca397",
   "metadata": {},
   "outputs": [],
   "source": [
    "b = Book()"
   ]
  },
  {
   "cell_type": "code",
   "execution_count": null,
   "id": "9386a8db-4035-4283-81eb-0e19bbbe50fd",
   "metadata": {},
   "outputs": [],
   "source": [
    "b + 1"
   ]
  },
  {
   "cell_type": "code",
   "execution_count": null,
   "id": "f4c711c4-c82f-4eb4-85f9-ba9721164137",
   "metadata": {},
   "outputs": [
    {
     "data": {
      "text/plain": [
       "{'books': [1]}"
      ]
     },
     "execution_count": null,
     "metadata": {},
     "output_type": "execute_result"
    }
   ],
   "source": [
    "b.__dict__"
   ]
  },
  {
   "cell_type": "code",
   "execution_count": null,
   "id": "9293f0d0-7c30-4c11-97ae-f500232b263d",
   "metadata": {},
   "outputs": [],
   "source": [
    "class Animal:\n",
    "    def __init__(self, species):\n",
    "        self.species = species\n",
    "    \n",
    "    def __ne__(self, other):\n",
    "        if isinstance(other, Animal) and self.spe"
   ]
  },
  {
   "cell_type": "code",
   "execution_count": null,
   "id": "8815927c-dd4f-417a-94f5-9b222fada087",
   "metadata": {},
   "outputs": [],
   "source": [
    "s1 = Animal('a')"
   ]
  },
  {
   "cell_type": "code",
   "execution_count": null,
   "id": "0d2b43be-eafc-464e-963d-b7817e8a35d5",
   "metadata": {},
   "outputs": [],
   "source": [
    "s2 = Animal('a')"
   ]
  },
  {
   "cell_type": "code",
   "execution_count": null,
   "id": "f211669b-3f88-4c5d-adb2-3c7c398a0db9",
   "metadata": {},
   "outputs": [
    {
     "data": {
      "text/plain": [
       "'a'"
      ]
     },
     "execution_count": null,
     "metadata": {},
     "output_type": "execute_result"
    }
   ],
   "source": [
    "s1.species"
   ]
  },
  {
   "cell_type": "code",
   "execution_count": null,
   "id": "9bbaaeb3-c9c5-4cb8-9127-70cf61dd98dd",
   "metadata": {},
   "outputs": [
    {
     "data": {
      "text/plain": [
       "'a'"
      ]
     },
     "execution_count": null,
     "metadata": {},
     "output_type": "execute_result"
    }
   ],
   "source": [
    "s2.species"
   ]
  },
  {
   "cell_type": "code",
   "execution_count": null,
   "id": "a3803692-e422-4438-8f27-f7e3184ea008",
   "metadata": {},
   "outputs": [],
   "source": [
    "MetaSchool = type('MetaSchool')"
   ]
  },
  {
   "cell_type": "code",
   "execution_count": null,
   "id": "4832cca6-f491-4459-9bb1-39cc90bd6a06",
   "metadata": {},
   "outputs": [],
   "source": [
    "class meta_class(type):\n",
    "    pass"
   ]
  },
  {
   "cell_type": "code",
   "execution_count": null,
   "id": "a674b108-49a8-40a8-a169-7948928d3380",
   "metadata": {},
   "outputs": [],
   "source": [
    "class Vehicles(Enum):\n",
    "    FALCON_1 = \"Falcon 1\""
   ]
  },
  {
   "cell_type": "code",
   "execution_count": null,
   "id": "61cdcd57-7d50-479a-b721-6bcfbeed94cc",
   "metadata": {},
   "outputs": [],
   "source": [
    "Colors = Enum(\"\")"
   ]
  },
  {
   "cell_type": "code",
   "execution_count": null,
   "id": "3c490640-b99b-41f6-8db6-7c04c84f57fc",
   "metadata": {},
   "outputs": [],
   "source": [
    "class Colors(Enum):\n",
    "    RED = \"Red\"\n",
    "    ORANGE = \"Orange\"\n",
    "    BLUE = \"Blue\"\n",
    "    \n",
    "    @property\n",
    "    def is_hot(self):\n",
    "        return self in [Colors.RED, Colors.ORANGE]"
   ]
  },
  {
   "cell_type": "code",
   "execution_count": null,
   "id": "59b9df3c-1442-4d88-ba45-6a3411b694bd",
   "metadata": {},
   "outputs": [
    {
     "data": {
      "text/plain": [
       "True"
      ]
     },
     "execution_count": null,
     "metadata": {},
     "output_type": "execute_result"
    }
   ],
   "source": [
    "Colors.RED.is_hot"
   ]
  },
  {
   "cell_type": "code",
   "execution_count": null,
   "id": "dd1b1d72-e014-40d5-889a-cb4555e4ccc0",
   "metadata": {},
   "outputs": [
    {
     "data": {
      "text/plain": [
       "False"
      ]
     },
     "execution_count": null,
     "metadata": {},
     "output_type": "execute_result"
    }
   ],
   "source": [
    "Colors.BLUE.is_hot"
   ]
  },
  {
   "cell_type": "code",
   "execution_count": null,
   "id": "42fd8465-e09e-4cd4-bdd5-e3c24423f025",
   "metadata": {},
   "outputs": [],
   "source": [
    "class Vehicle:\n",
    "    def __init__(self):\n",
    "        self._color = None\n",
    "    \n",
    "    @property\n",
    "    def color(self):\n",
    "        return self._color\n",
    "    \n",
    "    @color.setter\n",
    "    def color(self, v):\n",
    "        self._color = v"
   ]
  },
  {
   "cell_type": "code",
   "execution_count": null,
   "id": "5384e61a-81e1-420a-954f-d05ac0546798",
   "metadata": {},
   "outputs": [],
   "source": [
    "class Derived(Base):\n",
    "    def f(self, x):\n",
    "        super().f(x)\n",
    "        print('Derive')"
   ]
  },
  {
   "cell_type": "code",
   "execution_count": null,
   "id": "0b96344a-f7cf-4c23-a337-a58f8f70a048",
   "metadata": {},
   "outputs": [],
   "source": [
    "class Animal:\n",
    "    def __init__(self, species):\n",
    "        self.species = species\n",
    "    \n",
    "    def __ne__(self, other):\n",
    "        if isinstance(other, Animal) and self.species == other.species:\n",
    "            return False\n",
    "        else:\n",
    "            return True"
   ]
  },
  {
   "cell_type": "code",
   "execution_count": null,
   "id": "aec7c7c5-a6e2-4c82-987c-3e8ea7a1d0f8",
   "metadata": {},
   "outputs": [],
   "source": [
    "from dataclasses import dataclass, field"
   ]
  },
  {
   "cell_type": "code",
   "execution_count": null,
   "id": "5118bab4-256c-49a3-9af7-b7085796ad64",
   "metadata": {},
   "outputs": [],
   "source": [
    "@dataclass\n",
    "class Camera:\n",
    "    resolution: int = field(compare=True)\n",
    "    size: int = field(compare=False)\n",
    "    mass: float = field(compare=False)"
   ]
  },
  {
   "cell_type": "markdown",
   "id": "d5ed6045-2c8e-403c-a130-cbaa04a8f898",
   "metadata": {},
   "source": [
    "### Docker"
   ]
  },
  {
   "cell_type": "code",
   "execution_count": null,
   "id": "9a1e396b-e430-4ee5-9a2a-0dac94144336",
   "metadata": {},
   "outputs": [],
   "source": [
    "runs-on: macos"
   ]
  },
  {
   "cell_type": "code",
   "execution_count": null,
   "id": "071c9c28-7bcd-4b88-9b43-8c905cde030a",
   "metadata": {},
   "outputs": [],
   "source": []
  }
 ],
 "metadata": {
  "kernelspec": {
   "display_name": "Python 3 (ipykernel)",
   "language": "python",
   "name": "python3"
  }
 },
 "nbformat": 4,
 "nbformat_minor": 5
}
