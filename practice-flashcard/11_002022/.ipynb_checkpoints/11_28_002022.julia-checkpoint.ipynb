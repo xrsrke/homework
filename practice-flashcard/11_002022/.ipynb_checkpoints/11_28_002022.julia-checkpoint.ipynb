{
 "cells": [
  {
   "cell_type": "code",
   "execution_count": null,
   "id": "a787dc1b-f733-47a0-938a-aacb5de91645",
   "metadata": {},
   "outputs": [],
   "source": [
    "struct Computer\n",
    "    os::String\n",
    "end"
   ]
  },
  {
   "cell_type": "code",
   "execution_count": null,
   "id": "fc4e038e-57bf-4f26-a7c0-c8e6b57e8886",
   "metadata": {},
   "outputs": [
    {
     "data": {
      "text/plain": [
       "(3, 4)"
      ]
     },
     "execution_count": null,
     "metadata": {},
     "output_type": "execute_result"
    }
   ],
   "source": [
    "var_a, var_b = 3, 4"
   ]
  },
  {
   "cell_type": "code",
   "execution_count": null,
   "id": "d04786ba-0b0d-46fe-9763-25e291642b65",
   "metadata": {},
   "outputs": [
    {
     "name": "stdout",
     "output_type": "stream",
     "text": [
      "It's complicated\n"
     ]
    }
   ],
   "source": [
    "if var_a > 1 || var_b >= 2\n",
    "    println(\"It's complicated\")\n",
    "end"
   ]
  },
  {
   "cell_type": "code",
   "execution_count": null,
   "id": "7f46b1d0-cd63-4842-a8f8-bd0d05c91d1c",
   "metadata": {},
   "outputs": [],
   "source": []
  }
 ],
 "metadata": {
  "kernelspec": {
   "display_name": "Julia 1.8.2",
   "language": "julia",
   "name": "julia-1.8"
  }
 },
 "nbformat": 4,
 "nbformat_minor": 5
}
