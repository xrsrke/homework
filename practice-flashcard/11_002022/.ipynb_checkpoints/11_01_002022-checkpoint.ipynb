{
 "cells": [
  {
   "cell_type": "markdown",
   "id": "dea11aaa-6f97-454c-8838-fb5f363d7523",
   "metadata": {},
   "source": [
    "### Deep Learning"
   ]
  },
  {
   "cell_type": "code",
   "execution_count": null,
   "id": "4e8799d0-ed26-4d82-b072-e26b35e6a3f6",
   "metadata": {},
   "outputs": [],
   "source": [
    "def mean_squared_error(pred, targ):\n",
    "    error = 0.\n",
    "    for i in range(len(targ)):\n",
    "        error += (targ[i] - pred[i])**2\n",
    "    \n",
    "    return error / len(targ)"
   ]
  },
  {
   "cell_type": "code",
   "execution_count": null,
   "id": "bc118d5a-b708-4b8b-acc5-61ac13282222",
   "metadata": {},
   "outputs": [],
   "source": [
    "def print_parameters(l):\n",
    "    for p in l.parameters():\n",
    "        print(p.shape)"
   ]
  },
  {
   "cell_type": "code",
   "execution_count": null,
   "id": "715d92b3-32be-4c95-b7d1-247690dd4125",
   "metadata": {},
   "outputs": [],
   "source": [
    "def zero_grad(model):\n",
    "    for l in model.layers:\n",
    "        if hasattr(l, 'weight'):\n",
    "            model.l1.weight.grad._zero()"
   ]
  },
  {
   "cell_type": "code",
   "execution_count": null,
   "id": "516091cd-40ea-42e3-9e0d-20b764f7206d",
   "metadata": {},
   "outputs": [],
   "source": [
    "import torch.nn as nn"
   ]
  },
  {
   "cell_type": "code",
   "execution_count": null,
   "id": "b940e07a-b5d7-48e1-985b-72d74c6b3a51",
   "metadata": {},
   "outputs": [],
   "source": [
    "class Simple(nn.Module):\n",
    "    def __init__(self):\n",
    "        super().__init__()\n",
    "        self.l1 = nn.Linear(11, 22)"
   ]
  },
  {
   "cell_type": "code",
   "execution_count": null,
   "id": "c4659e00-e30b-45f2-8fad-0153d924f8fa",
   "metadata": {},
   "outputs": [],
   "source": [
    "net = Simple()"
   ]
  },
  {
   "cell_type": "code",
   "execution_count": null,
   "id": "765ae695-2019-4037-b152-9ca1bd53c472",
   "metadata": {},
   "outputs": [
    {
     "ename": "AttributeError",
     "evalue": "'NoneType' object has no attribute 'zero_'",
     "output_type": "error",
     "traceback": [
      "\u001b[0;31m---------------------------------------------------------------------------\u001b[0m",
      "\u001b[0;31mAttributeError\u001b[0m                            Traceback (most recent call last)",
      "Input \u001b[0;32mIn [11]\u001b[0m, in \u001b[0;36m<cell line: 1>\u001b[0;34m()\u001b[0m\n\u001b[0;32m----> 1\u001b[0m \u001b[43mnet\u001b[49m\u001b[38;5;241;43m.\u001b[39;49m\u001b[43ml1\u001b[49m\u001b[38;5;241;43m.\u001b[39;49m\u001b[43mweight\u001b[49m\u001b[38;5;241;43m.\u001b[39;49m\u001b[43mgrad\u001b[49m\u001b[38;5;241;43m.\u001b[39;49m\u001b[43mzero_\u001b[49m()\n",
      "\u001b[0;31mAttributeError\u001b[0m: 'NoneType' object has no attribute 'zero_'"
     ]
    }
   ],
   "source": [
    "net.l1.weight.grad.zero_()"
   ]
  },
  {
   "cell_type": "code",
   "execution_count": null,
   "id": "fd0ab11e-7a9b-4b17-9406-5ec3a1875a61",
   "metadata": {},
   "outputs": [],
   "source": [
    "def nll(pred, targ):\n",
    "    return -sm_pred[range(y_train.shape[0]), y_train].mean()"
   ]
  },
  {
   "cell_type": "code",
   "execution_count": null,
   "id": "65f1b15f-a4f9-4a92-96b3-905f12e38091",
   "metadata": {},
   "outputs": [],
   "source": [
    "class DummyModule:\n",
    "    def __init__(self, n_in, nh, n_out):\n",
    "        self._modules = {}\n",
    "        self.l1 = nn.Linear(n_in, nh)\n",
    "        self.l2 = nn.Linear(nh, n_out)\n",
    "    \n",
    "    def __setattr__(self, k, v):\n",
    "        if not k.startswith('_'):\n",
    "            self._modules[k] = v\n",
    "        super().__setattr__(k, v)"
   ]
  },
  {
   "cell_type": "code",
   "execution_count": null,
   "id": "658f4b4f-6b09-4b78-aefe-648a9817a188",
   "metadata": {},
   "outputs": [],
   "source": [
    "net = nn.Sequential(\n",
    "    nn.Linear(10, 3),\n",
    "    nn.Linear(3, 10)\n",
    ")"
   ]
  },
  {
   "cell_type": "code",
   "execution_count": null,
   "id": "3fcb68cc-54a1-4e86-82dc-5bfb6bd7a798",
   "metadata": {},
   "outputs": [
    {
     "data": {
      "text/plain": [
       "['0', Linear(in_features=10, out_features=3, bias=True)]"
      ]
     },
     "execution_count": null,
     "metadata": {},
     "output_type": "execute_result"
    }
   ],
   "source": [
    "list(next(net.named_children()))"
   ]
  },
  {
   "cell_type": "code",
   "execution_count": null,
   "id": "f8d7fff3-6abc-4fb0-bb0e-28ff8f2d646f",
   "metadata": {},
   "outputs": [],
   "source": [
    "def print_layers(model):\n",
    "    for n, l in mode.named_children():\n",
    "        print(f\"{n} with layer: {l}\")"
   ]
  },
  {
   "cell_type": "code",
   "execution_count": null,
   "id": "734a7792-b965-4c02-8b44-d9b2d00ffb46",
   "metadata": {},
   "outputs": [],
   "source": [
    "def mnist_resize(x):\n",
    "    return x.view(-1, 1, 28, 28)"
   ]
  },
  {
   "cell_type": "code",
   "execution_count": null,
   "id": "e526e918-9878-4d7e-9e5d-bb362c59dcaf",
   "metadata": {},
   "outputs": [],
   "source": [
    "class Lambda(nn.Module):\n",
    "    def __init__(self, func):\n",
    "        super().__init__()\n",
    "        self.func = func\n",
    "    \n",
    "    def forward(self, x):\n",
    "        return self.func(x)"
   ]
  },
  {
   "cell_type": "code",
   "execution_count": null,
   "id": "2c65cef5-7bba-447c-adc6-8fc356238d7f",
   "metadata": {},
   "outputs": [],
   "source": [
    "def move_to_gpu(x):\n",
    "    device = torch.device('cuda', 0)\n",
    "    return x.to(device)"
   ]
  },
  {
   "cell_type": "code",
   "execution_count": null,
   "id": "0f2c980a-ccfc-4d8c-b35e-8c567123e573",
   "metadata": {},
   "outputs": [],
   "source": [
    "def make_show_progress(message):\n",
    "    def _inner(epoch):\n",
    "        print(f\"{message}! We've finished epoch {epoch}\")\n",
    "    \n",
    "    return _inner"
   ]
  },
  {
   "cell_type": "code",
   "execution_count": null,
   "id": "8530f441-8ba2-4b46-8bee-44e7ce861bfe",
   "metadata": {},
   "outputs": [],
   "source": [
    "import ipywidgets as widgets"
   ]
  },
  {
   "cell_type": "code",
   "execution_count": null,
   "id": "b5338ca7-ea8d-43aa-bc1c-b1054506dc37",
   "metadata": {},
   "outputs": [],
   "source": [
    "b = widgets.Button(description=\"Trasnmit\")"
   ]
  },
  {
   "cell_type": "code",
   "execution_count": null,
   "id": "7513d561-251b-4586-84f6-2a43d1d0cc1a",
   "metadata": {},
   "outputs": [],
   "source": [
    "b.on_click(lambda x: print(\"SS\"))"
   ]
  },
  {
   "cell_type": "code",
   "execution_count": null,
   "id": "6089887e-a7bb-4053-8e21-b43109ee02fe",
   "metadata": {},
   "outputs": [
    {
     "data": {
      "application/vnd.jupyter.widget-view+json": {
       "model_id": "b3658f507c1046aaae9ea9f68bc486e3",
       "version_major": 2,
       "version_minor": 0
      },
      "text/plain": [
       "Button(description='Trasnmit', style=ButtonStyle())"
      ]
     },
     "execution_count": null,
     "metadata": {},
     "output_type": "execute_result"
    }
   ],
   "source": [
    "b"
   ]
  },
  {
   "cell_type": "code",
   "execution_count": null,
   "id": "b5cd55fa-9476-415e-be08-9f17d4124d5e",
   "metadata": {},
   "outputs": [],
   "source": [
    "import ipywidgets as widgets"
   ]
  },
  {
   "cell_type": "code",
   "execution_count": null,
   "id": "49f971ee-138b-4aae-8668-192937f1230d",
   "metadata": {},
   "outputs": [],
   "source": [
    "w = widgets.Button(description=\"Connect\")"
   ]
  },
  {
   "cell_type": "code",
   "execution_count": null,
   "id": "5b0e1b52-9977-428e-acad-10d34d95cb4a",
   "metadata": {},
   "outputs": [
    {
     "data": {
      "application/vnd.jupyter.widget-view+json": {
       "model_id": "0591d6c1461b42f5af1a7f7bf8b23455",
       "version_major": 2,
       "version_minor": 0
      },
      "text/plain": [
       "Button(description='Connect', style=ButtonStyle())"
      ]
     },
     "execution_count": null,
     "metadata": {},
     "output_type": "execute_result"
    }
   ],
   "source": [
    "w"
   ]
  },
  {
   "cell_type": "code",
   "execution_count": null,
   "id": "5ad93507-cd09-4573-9178-038800f9b53f",
   "metadata": {},
   "outputs": [],
   "source": [
    "def covariance(x, y):\n",
    "    prod = (x-x.mean())*(y-y.mean())\n",
    "    return prod.mean()"
   ]
  },
  {
   "cell_type": "code",
   "execution_count": null,
   "id": "20aca81c-7a9f-401c-9321-fee1eb97ef23",
   "metadata": {},
   "outputs": [],
   "source": [
    "import numpy as np"
   ]
  },
  {
   "cell_type": "code",
   "execution_count": null,
   "id": "5881850d-5bf5-480e-a70d-1a925a9d5163",
   "metadata": {},
   "outputs": [],
   "source": [
    "image_array = np.array(im3)"
   ]
  },
  {
   "cell_type": "code",
   "execution_count": null,
   "id": "5118b071-c0c0-4412-9a9f-f8878ed86656",
   "metadata": {},
   "outputs": [],
   "source": [
    "path = untar_data(url )"
   ]
  },
  {
   "cell_type": "code",
   "execution_count": null,
   "id": "16113231-34f4-4ccd-b366-1f6fb6af4de8",
   "metadata": {},
   "outputs": [],
   "source": [
    "np.maximum(inputs, 0)"
   ]
  },
  {
   "cell_type": "code",
   "execution_count": null,
   "id": "c7f6c8b6-8814-4179-aa45-3ebf41cc6909",
   "metadata": {},
   "outputs": [],
   "source": [
    "import pytorch_lightning as pl"
   ]
  },
  {
   "cell_type": "code",
   "execution_count": null,
   "id": "a3e403f1-7d5b-4593-ad1d-6c1b66cc8c27",
   "metadata": {},
   "outputs": [
    {
     "name": "stderr",
     "output_type": "stream",
     "text": [
      "GPU available: False, used: False\n",
      "TPU available: False, using: 0 TPU cores\n",
      "IPU available: False, using: 0 IPUs\n",
      "HPU available: False, using: 0 HPUs\n"
     ]
    }
   ],
   "source": [
    "trainer = pl.Trainer()"
   ]
  },
  {
   "cell_type": "code",
   "execution_count": null,
   "id": "78f3cb60-cb80-4668-9722-2bd3bdad304e",
   "metadata": {},
   "outputs": [],
   "source": [
    "trainer.fit(lit_model, train_loader)"
   ]
  },
  {
   "cell_type": "code",
   "execution_count": null,
   "id": "2776781d-f94b-413f-bdf1-80280bf1c43c",
   "metadata": {},
   "outputs": [],
   "source": [
    "import torch.optim as optim"
   ]
  },
  {
   "cell_type": "code",
   "execution_count": null,
   "id": "e4c23777-64bf-4c66-bb77-7d417bfd0e60",
   "metadata": {},
   "outputs": [],
   "source": [
    "class LitResnet(pl.LightningModule):\n",
    "    def __init__(self):\n",
    "        self.model = _model1\n",
    "    \n",
    "    def configure_optimiziers(self):\n",
    "        optimizier = optim.SGD(self.model.parameters(), lr=1e-2)\n",
    "        return optimizier"
   ]
  },
  {
   "cell_type": "code",
   "execution_count": null,
   "id": "cf056225-a82f-457d-860f-106989c07219",
   "metadata": {},
   "outputs": [],
   "source": [
    "import torch.nn as nn"
   ]
  },
  {
   "cell_type": "code",
   "execution_count": null,
   "id": "5fb62346-0120-4310-8bb0-76b79d3e0acb",
   "metadata": {},
   "outputs": [],
   "source": [
    "class LitResnet(pl.LightningModule):\n",
    "    def __init__(self):\n",
    "        self.model = _model1\n",
    "        self.loss = nn.CrossEntropyLoss()\n",
    "    \n",
    "    def training_step(self, batch, batch_idx):\n",
    "        x, y = batch\n",
    "        \n",
    "        pred = self.model(x)\n",
    "        loss = self.loss(pred, targ)\n",
    "        return loss"
   ]
  },
  {
   "cell_type": "code",
   "execution_count": null,
   "id": "a4da9aab-bba3-45fa-a716-37cea40607f0",
   "metadata": {},
   "outputs": [],
   "source": [
    "class Autoencoder(nn.Module):\n",
    "    def __init__(self):\n",
    "        self.encoder = nn.Sequential([\n",
    "            nn.Linear(784, 128),\n",
    "            nn.ReLU(),\n",
    "            nn.Linear(128, 64),\n",
    "            nn.ReLU(),\n",
    "            nn.Linear(64, 12),\n",
    "            nn.ReLU(),\n",
    "            nn.Linear(12, 3)\n",
    "        ])\n",
    "        \n",
    "        self.decoder = nn.Sequential([\n",
    "            nn.Linear(3, 12),\n",
    "            nn.ReLU(),\n",
    "            nn.Linear(12, 64),\n",
    "            nn.ReLU(),\n",
    "            nn.Linear(64, 128),\n",
    "            nn.ReLU(),\n",
    "            nn.Linear(128, 728),\n",
    "            nn.Sigmoid()\n",
    "        ])\n",
    "    \n",
    "    def forward(self, x):\n",
    "        encoded = self.encoder(x)\n",
    "        decoded = self.decoder(encoded)\n",
    "        return decoded"
   ]
  },
  {
   "cell_type": "code",
   "execution_count": null,
   "id": "f1aa8acd-f9fd-4fbe-9726-f4a99b86101c",
   "metadata": {},
   "outputs": [],
   "source": [
    "from torchvision import transforms as tfms"
   ]
  },
  {
   "cell_type": "code",
   "execution_count": null,
   "id": "980dc3c9-1fbb-4d37-891d-226589df661f",
   "metadata": {},
   "outputs": [],
   "source": [
    "transform = tfms.Compose([\n",
    "    tfms.ToTensor(),\n",
    "    tfms.Normalize(0.3, 0.9)\n",
    "])"
   ]
  },
  {
   "cell_type": "code",
   "execution_count": null,
   "id": "fdb0b3d8-8890-435b-a260-a4c7ffb857a1",
   "metadata": {},
   "outputs": [],
   "source": [
    "import torch.nn.functional as F"
   ]
  },
  {
   "cell_type": "code",
   "execution_count": null,
   "id": "00b6e310-9d81-4ac6-b104-129a2c75e1da",
   "metadata": {},
   "outputs": [],
   "source": [
    "class _LMModel3(nn.Module):\n",
    "    def __init__(self, vocab_sz, n_hidden):\n",
    "        self.i_h = nn.Embedding(vocab_sz, n_hidden)\n",
    "        self.h_h = nn.Linear(n_hidden, n_hidden)\n",
    "        self.h_o = nn.Linear(n_hidden, vocab_sz)\n",
    "        self.h = 0.\n",
    "    \n",
    "    def forward(self, x):\n",
    "        for i in range(3):\n",
    "            self.h = self.h + self.i_h(x[:, i])\n",
    "            self.h = F.relu(self.h_h(self.h))\n",
    "        \n",
    "        return self.h_o(h)"
   ]
  },
  {
   "cell_type": "markdown",
   "id": "f1311927-668a-45c2-9ee8-6b0cd558db7d",
   "metadata": {},
   "source": [
    "### Data Structure"
   ]
  },
  {
   "cell_type": "code",
   "execution_count": null,
   "id": "2e2f2929-2534-47a5-b5d7-c9c4552dd774",
   "metadata": {},
   "outputs": [],
   "source": [
    "class LinkedList:\n",
    "    def __init__(self, value):\n",
    "        node = Node(value)\n",
    "        self.head = node\n",
    "        self.tail = node\n"
   ]
  },
  {
   "cell_type": "markdown",
   "id": "adb8b2fa-63ed-4d4b-bef9-a2ee6459e861",
   "metadata": {},
   "source": [
    "### Python"
   ]
  },
  {
   "cell_type": "code",
   "execution_count": null,
   "id": "2c8aaa02-5dd9-4570-8d26-7c3a50cff693",
   "metadata": {},
   "outputs": [],
   "source": [
    "class FunnyDict(dict):\n",
    "    def __getitem__(self, k):\n",
    "        if not k in self:\n",
    "            return \"Not FOund\"\n",
    "        super().__getitem__(k)"
   ]
  },
  {
   "cell_type": "code",
   "execution_count": null,
   "id": "2c6fa259-daaa-4542-afb7-acb81916cfe0",
   "metadata": {},
   "outputs": [],
   "source": [
    "class NumberField:\n",
    "    def __get__(self, instance, owner):\n",
    "        return self.name\n",
    "\n",
    "    def __set_name__(self, owner, name):\n",
    "        self.anem"
   ]
  },
  {
   "cell_type": "markdown",
   "id": "426ba6b5-4890-47dc-bd6b-b7cfc0b8d1c6",
   "metadata": {},
   "source": [
    "### SQL"
   ]
  },
  {
   "cell_type": "code",
   "execution_count": null,
   "id": "f038a23b-1ff7-49c0-b7fc-454dbd280742",
   "metadata": {},
   "outputs": [],
   "source": [
    "SELECT COUNT(emp_no) FROM training GROUP BY id"
   ]
  },
  {
   "cell_type": "markdown",
   "id": "edcaff4d-2385-41c6-ae38-2ebb945378a2",
   "metadata": {},
   "source": [
    "### bash"
   ]
  },
  {
   "cell_type": "code",
   "execution_count": null,
   "id": "bb00d18a-33d7-4a4e-b496-12e32bc7940e",
   "metadata": {},
   "outputs": [],
   "source": [
    "echo $PATH"
   ]
  },
  {
   "cell_type": "code",
   "execution_count": null,
   "id": "25bf7ce5-6e46-49e0-acd9-3975eec70f63",
   "metadata": {},
   "outputs": [],
   "source": [
    "#!/bin/bash\n",
    "\n",
    "conda activate tinypytorch\n",
    "python3 --version"
   ]
  },
  {
   "cell_type": "code",
   "execution_count": null,
   "id": "8780a9f1-4bba-4c8c-a6a4-4213d60c8632",
   "metadata": {},
   "outputs": [],
   "source": [
    "find ./projects --name src --type d"
   ]
  },
  {
   "cell_type": "code",
   "execution_count": null,
   "id": "4375df36-d561-454a-a58c-5ac226d2a132",
   "metadata": {},
   "outputs": [],
   "source": [
    "ls -l | tail -n1"
   ]
  },
  {
   "cell_type": "code",
   "execution_count": null,
   "id": "da868ad8-dc6c-47d2-b3a1-2440e1500d8b",
   "metadata": {},
   "outputs": [],
   "source": [
    "foo=$(pwd)"
   ]
  },
  {
   "cell_type": "code",
   "execution_count": null,
   "id": "089515f9-7999-463c-a9fa-31e557c4968e",
   "metadata": {},
   "outputs": [],
   "source": [
    "echo $((4+2))"
   ]
  },
  {
   "cell_type": "code",
   "execution_count": null,
   "id": "2e46236f-3747-40d9-9851-c5a61bb99ffc",
   "metadata": {},
   "outputs": [],
   "source": [
    "home_path=$(pwd)"
   ]
  },
  {
   "cell_type": "code",
   "execution_count": null,
   "id": "fad428cf-71e6-4600-abd2-1c5e7cfe6eb0",
   "metadata": {},
   "outputs": [],
   "source": [
    "echo $(($x + $y))"
   ]
  },
  {
   "cell_type": "code",
   "execution_count": null,
   "id": "1929ad9c-9141-45d5-984b-6d71f8a0739c",
   "metadata": {},
   "outputs": [],
   "source": [
    "echo ${neuralink}"
   ]
  },
  {
   "cell_type": "code",
   "execution_count": null,
   "id": "004532ac-65b7-48ce-89e4-f6994d1d1144",
   "metadata": {},
   "outputs": [],
   "source": [
    "${#name}"
   ]
  },
  {
   "cell_type": "code",
   "execution_count": null,
   "id": "1669bb35-8f31-49dd-abbb-3ab6a20485bd",
   "metadata": {},
   "outputs": [],
   "source": [
    "${id:3:}"
   ]
  },
  {
   "cell_type": "code",
   "execution_count": null,
   "id": "40eac0e5-3e22-4c63-bef3-3a4429441424",
   "metadata": {},
   "outputs": [],
   "source": [
    "${name^^}"
   ]
  },
  {
   "cell_type": "code",
   "execution_count": null,
   "id": "c486c512-73f9-455f-a85e-7e67cd26f327",
   "metadata": {},
   "outputs": [],
   "source": [
    "${id: -3}"
   ]
  },
  {
   "cell_type": "code",
   "execution_count": null,
   "id": "02e2d193-d770-4524-b242-d1826f2a149c",
   "metadata": {},
   "outputs": [],
   "source": [
    "#!/bin/bash\n",
    "\n",
    "student=\"Shivon\""
   ]
  },
  {
   "cell_type": "code",
   "execution_count": null,
   "id": "ca4b9511-d51d-4467-b800-336a7685e9c5",
   "metadata": {},
   "outputs": [],
   "source": [
    "#!/bin/bash\n",
    "\n",
    "student=\"Shivon\"\n",
    "echo \"Hello ${student}\""
   ]
  },
  {
   "cell_type": "code",
   "execution_count": null,
   "id": "a9dfd9c5-4f4a-4804-9daf-494a4b56c90a",
   "metadata": {},
   "outputs": [],
   "source": [
    "#!/bin/bash\n",
    "\n",
    "var1=$(date)"
   ]
  },
  {
   "cell_type": "markdown",
   "id": "cc4585e7-a7eb-4122-b316-65bd55484f97",
   "metadata": {},
   "source": [
    "### Github Actions"
   ]
  },
  {
   "cell_type": "code",
   "execution_count": null,
   "id": "b902c18a-5083-45e4-b533-8623fbfe7f31",
   "metadata": {},
   "outputs": [],
   "source": [
    "name: actions\n",
    "\n",
    "on: [fork]\n",
    "\n",
    "jobs:\n",
    "    clone:\n",
    "        runs-on: ubuntu-latest\n",
    "        steps:\n",
    "            - name: Checkout\n",
    "              uses: actions/checkout@v1"
   ]
  },
  {
   "cell_type": "code",
   "execution_count": null,
   "id": "9864f6ab-12f5-4695-a4cc-e550d9cb86eb",
   "metadata": {},
   "outputs": [],
   "source": [
    "stable_diffusion:\n",
    "    - text_to_image: clip\n",
    "      parameters: latent space\n",
    "image_multiclass: None"
   ]
  },
  {
   "cell_type": "code",
   "execution_count": null,
   "id": "3e674746-a4b1-4a0c-929f-089c82a62111",
   "metadata": {},
   "outputs": [],
   "source": [
    "name: machine info\n",
    "\n",
    "on: [push]\n",
    "\n",
    "jobs:\n",
    "    check-version:\n",
    "        runs-on: ubuntu-latest\n",
    "        steps:\n",
    "            - name: processor info\n",
    "              shell: python\n",
    "              run: |\n",
    "                import platform\n",
    "                print(platform.processor())"
   ]
  },
  {
   "cell_type": "markdown",
   "id": "822981b9-8956-4162-9036-2bb43571f789",
   "metadata": {},
   "source": [
    "### Matplotlib"
   ]
  },
  {
   "cell_type": "code",
   "execution_count": null,
   "id": "bb030343-96e3-4090-88d1-b12e389a080d",
   "metadata": {},
   "outputs": [],
   "source": [
    "from matplotlib import pyplot as plt"
   ]
  },
  {
   "cell_type": "code",
   "execution_count": null,
   "id": "58535e80-595e-476c-81cb-16b4cc7c891e",
   "metadata": {},
   "outputs": [],
   "source": [
    "plt.plot(dev_x, dev_y)\n",
    "plt.xtitle"
   ]
  },
  {
   "cell_type": "markdown",
   "id": "8932a088-1050-4775-b777-a8883e2b49eb",
   "metadata": {},
   "source": [
    "### Sympy"
   ]
  },
  {
   "cell_type": "code",
   "execution_count": null,
   "id": "70e3cd9f-0cf5-49db-99c0-7b65a29e3577",
   "metadata": {},
   "outputs": [],
   "source": [
    "import sympy as smp"
   ]
  },
  {
   "cell_type": "code",
   "execution_count": null,
   "id": "85fe1574-a4ec-41d5-a432-6bffd0c44cb6",
   "metadata": {},
   "outputs": [],
   "source": [
    "alpha = smp.Symbol('alpha')"
   ]
  },
  {
   "cell_type": "code",
   "execution_count": null,
   "id": "8ff99e22-bc5b-4743-a658-1b5ce03e982d",
   "metadata": {},
   "outputs": [
    {
     "data": {
      "text/latex": [
       "$\\displaystyle \\alpha$"
      ],
      "text/plain": [
       "alpha"
      ]
     },
     "execution_count": null,
     "metadata": {},
     "output_type": "execute_result"
    }
   ],
   "source": [
    "alpha"
   ]
  },
  {
   "cell_type": "markdown",
   "id": "92dc81a5-4821-404d-a9a7-2e9009efe496",
   "metadata": {},
   "source": [
    "### bash"
   ]
  },
  {
   "cell_type": "code",
   "execution_count": null,
   "id": "3e1f88f1-c8d0-4fe6-9ac4-3df7a763036f",
   "metadata": {},
   "outputs": [],
   "source": [
    "student = \"Shivon\""
   ]
  },
  {
   "cell_type": "code",
   "execution_count": null,
   "id": "acc475c9-69a4-43f1-b8b5-acd932275d75",
   "metadata": {},
   "outputs": [],
   "source": [
    "#!/bin/bash\n",
    "\n",
    "student=\"Student\"\n",
    "echo \"Hello ${student}\""
   ]
  },
  {
   "cell_type": "markdown",
   "id": "5258e811-b06e-4575-8923-2c49f552b38e",
   "metadata": {},
   "source": [
    "### Github Actions"
   ]
  },
  {
   "cell_type": "code",
   "execution_count": null,
   "id": "269b206c-f51f-4500-ad52-95f854f4e653",
   "metadata": {},
   "outputs": [
    {
     "ename": "SyntaxError",
     "evalue": "invalid syntax (575965834.py, line 1)",
     "output_type": "error",
     "traceback": [
      "\u001b[0;36m  Input \u001b[0;32mIn [12]\u001b[0;36m\u001b[0m\n\u001b[0;31m    name: machine info\u001b[0m\n\u001b[0m                  ^\u001b[0m\n\u001b[0;31mSyntaxError\u001b[0m\u001b[0;31m:\u001b[0m invalid syntax\n"
     ]
    }
   ],
   "source": [
    "name: machine info\n",
    "\n",
    "on: [push]\n",
    "\n",
    "jobs:\n",
    "    check-version:\n",
    "        runs-on: ubuntu-latest\n",
    "        steps:\n",
    "            - name: processor info\n",
    "              shell: python\n",
    "              run: |\n",
    "                import platform\n",
    "                print(platform.processor())"
   ]
  },
  {
   "cell_type": "markdown",
   "id": "d70ff2b3-5860-4dfc-a8c8-99bc6e6616c5",
   "metadata": {},
   "source": [
    "### Numpy"
   ]
  },
  {
   "cell_type": "code",
   "execution_count": null,
   "id": "138489c0-f306-4612-89d7-d66ced75635a",
   "metadata": {},
   "outputs": [],
   "source": [
    "x[:, 1::2]"
   ]
  },
  {
   "cell_type": "markdown",
   "id": "8fe8e3bc-30c9-4b6d-857b-05a27fb2388e",
   "metadata": {},
   "source": [
    "### Pytest"
   ]
  },
  {
   "cell_type": "code",
   "execution_count": null,
   "id": "d1a2de2b-2eef-4d7c-80af-dd24645460df",
   "metadata": {},
   "outputs": [],
   "source": [
    "import unittest"
   ]
  },
  {
   "cell_type": "code",
   "execution_count": null,
   "id": "204d621f-246d-4632-bf6d-aa1736dba598",
   "metadata": {},
   "outputs": [],
   "source": [
    "import pytest"
   ]
  },
  {
   "cell_type": "code",
   "execution_count": null,
   "id": "daf1c002-6ff0-4e87-82a0-a1e0a1300ebf",
   "metadata": {},
   "outputs": [],
   "source": [
    "class TestFeature(unittest.TestCase):\n",
    "    @pytest.mark.xfail\n",
    "    def test_eq(self):\n",
    "        self.assertEqual(a, b)"
   ]
  },
  {
   "cell_type": "code",
   "execution_count": null,
   "id": "81be2aa1-987b-48ce-a797-e1cd8d4107ca",
   "metadata": {},
   "outputs": [
    {
     "ename": "NameError",
     "evalue": "name 'a' is not defined",
     "output_type": "error",
     "traceback": [
      "\u001b[0;31m---------------------------------------------------------------------------\u001b[0m",
      "\u001b[0;31mNameError\u001b[0m                                 Traceback (most recent call last)",
      "Input \u001b[0;32mIn [16]\u001b[0m, in \u001b[0;36m<cell line: 1>\u001b[0;34m()\u001b[0m\n\u001b[0;32m----> 1\u001b[0m \u001b[38;5;129m@pytest\u001b[39m\u001b[38;5;241m.\u001b[39mmark\u001b[38;5;241m.\u001b[39mskipif(\u001b[43ma\u001b[49m\u001b[38;5;241m>\u001b[39mb, reason\u001b[38;5;241m=\u001b[39m\u001b[38;5;124m\"\u001b[39m\u001b[38;5;124mcause i want to\u001b[39m\u001b[38;5;124m\"\u001b[39m)\n\u001b[1;32m      2\u001b[0m \u001b[38;5;28;01mdef\u001b[39;00m \u001b[38;5;21mtest_func_3\u001b[39m():\n\u001b[1;32m      3\u001b[0m     \u001b[38;5;28;01mpass\u001b[39;00m\n",
      "\u001b[0;31mNameError\u001b[0m: name 'a' is not defined"
     ]
    }
   ],
   "source": [
    "@pytest.mark.skipif(a>b, reason=\"cause i want to\")\n",
    "def test_func_3():\n",
    "    pass"
   ]
  },
  {
   "cell_type": "code",
   "execution_count": null,
   "id": "373dc540-b92b-420d-b6ba-7a525bb3725e",
   "metadata": {},
   "outputs": [],
   "source": []
  }
 ],
 "metadata": {
  "kernelspec": {
   "display_name": "Python 3 (ipykernel)",
   "language": "python",
   "name": "python3"
  }
 },
 "nbformat": 4,
 "nbformat_minor": 5
}
