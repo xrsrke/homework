{
 "cells": [
  {
   "cell_type": "markdown",
   "id": "5840e2b8-990a-462d-a74a-41512fecacca",
   "metadata": {},
   "source": [
    "### Deep Learning"
   ]
  },
  {
   "cell_type": "code",
   "execution_count": null,
   "id": "ddff9a17-cd7d-4bfe-a001-8f5d55fbb392",
   "metadata": {},
   "outputs": [],
   "source": [
    "import torch"
   ]
  },
  {
   "cell_type": "code",
   "execution_count": null,
   "id": "ec592ffb-762a-4ca2-a0f4-cc4b6fcc0869",
   "metadata": {},
   "outputs": [],
   "source": [
    "def dropout_layer(x, dropout):\n",
    "    assert 0 <= dropout <= 1\n",
    "    if dropout == 1: return torch.zeros_like(x.shape)\n",
    "    mask = torch.randn(x.shape) > dropout\n",
    "    return (x * mask) / (1 - dropout)"
   ]
  },
  {
   "cell_type": "code",
   "execution_count": null,
   "id": "8f95af5f-b0b7-4a5f-8ebf-385d01b93604",
   "metadata": {},
   "outputs": [],
   "source": [
    "x = torch.arange(16).reshape((4, 4))"
   ]
  },
  {
   "cell_type": "code",
   "execution_count": null,
   "id": "4b0d04b3-6844-443d-9578-3244449cbe46",
   "metadata": {},
   "outputs": [
    {
     "data": {
      "text/plain": [
       "torch.Size([4, 4])"
      ]
     },
     "execution_count": null,
     "metadata": {},
     "output_type": "execute_result"
    }
   ],
   "source": [
    "x.shape"
   ]
  },
  {
   "cell_type": "code",
   "execution_count": null,
   "id": "44857802-b474-4c5d-87c2-4a14147fab24",
   "metadata": {},
   "outputs": [
    {
     "data": {
      "text/plain": [
       "tensor([[ 0.0000,  1.4286,  0.0000,  0.0000],\n",
       "        [ 0.0000,  7.1429,  0.0000,  0.0000],\n",
       "        [ 0.0000, 12.8571,  0.0000, 15.7143],\n",
       "        [17.1429,  0.0000,  0.0000,  0.0000]])"
      ]
     },
     "execution_count": null,
     "metadata": {},
     "output_type": "execute_result"
    }
   ],
   "source": [
    "dropout_layer(x, 0.3)"
   ]
  },
  {
   "cell_type": "code",
   "execution_count": null,
   "id": "2e8e76e2-5753-4b53-a01f-1f79ec5c521b",
   "metadata": {},
   "outputs": [
    {
     "ename": "NameError",
     "evalue": "name 'learn' is not defined",
     "output_type": "error",
     "traceback": [
      "\u001b[0;31m---------------------------------------------------------------------------\u001b[0m",
      "\u001b[0;31mNameError\u001b[0m                                 Traceback (most recent call last)",
      "Cell \u001b[0;32mIn [65], line 1\u001b[0m\n\u001b[0;32m----> 1\u001b[0m \u001b[43mlearn\u001b[49m\u001b[38;5;241m.\u001b[39mshow_training_loop()\n",
      "\u001b[0;31mNameError\u001b[0m: name 'learn' is not defined"
     ]
    }
   ],
   "source": [
    "learn.show_training_loop()"
   ]
  },
  {
   "cell_type": "code",
   "execution_count": null,
   "id": "4188a6d6-1ef3-4da4-bef7-262b493a88de",
   "metadata": {},
   "outputs": [],
   "source": [
    "import torch.nn as nn"
   ]
  },
  {
   "cell_type": "code",
   "execution_count": null,
   "id": "b2fa709d-55af-4d7b-83c0-83fad9a19083",
   "metadata": {},
   "outputs": [
    {
     "ename": "TypeError",
     "evalue": "RNNBase.__init__() missing 2 required positional arguments: 'input_size' and 'hidden_size'",
     "output_type": "error",
     "traceback": [
      "\u001b[0;31m---------------------------------------------------------------------------\u001b[0m",
      "\u001b[0;31mTypeError\u001b[0m                                 Traceback (most recent call last)",
      "Cell \u001b[0;32mIn [67], line 1\u001b[0m\n\u001b[0;32m----> 1\u001b[0m rnn \u001b[38;5;241m=\u001b[39m \u001b[43mnn\u001b[49m\u001b[38;5;241;43m.\u001b[39;49m\u001b[43mRNN\u001b[49m\u001b[43m(\u001b[49m\u001b[43m)\u001b[49m\n",
      "File \u001b[0;32m/opt/homebrew/lib/python3.10/site-packages/torch/nn/modules/rnn.py:425\u001b[0m, in \u001b[0;36mRNN.__init__\u001b[0;34m(self, *args, **kwargs)\u001b[0m\n\u001b[1;32m    423\u001b[0m \u001b[38;5;28;01melse\u001b[39;00m:\n\u001b[1;32m    424\u001b[0m     \u001b[38;5;28;01mraise\u001b[39;00m \u001b[38;5;167;01mValueError\u001b[39;00m(\u001b[38;5;124m\"\u001b[39m\u001b[38;5;124mUnknown nonlinearity \u001b[39m\u001b[38;5;124m'\u001b[39m\u001b[38;5;132;01m{}\u001b[39;00m\u001b[38;5;124m'\u001b[39m\u001b[38;5;124m\"\u001b[39m\u001b[38;5;241m.\u001b[39mformat(\u001b[38;5;28mself\u001b[39m\u001b[38;5;241m.\u001b[39mnonlinearity))\n\u001b[0;32m--> 425\u001b[0m \u001b[38;5;28;43msuper\u001b[39;49m\u001b[43m(\u001b[49m\u001b[43mRNN\u001b[49m\u001b[43m,\u001b[49m\u001b[43m \u001b[49m\u001b[38;5;28;43mself\u001b[39;49m\u001b[43m)\u001b[49m\u001b[38;5;241;43m.\u001b[39;49m\u001b[38;5;21;43m__init__\u001b[39;49m\u001b[43m(\u001b[49m\u001b[43mmode\u001b[49m\u001b[43m,\u001b[49m\u001b[43m \u001b[49m\u001b[38;5;241;43m*\u001b[39;49m\u001b[43margs\u001b[49m\u001b[43m,\u001b[49m\u001b[43m \u001b[49m\u001b[38;5;241;43m*\u001b[39;49m\u001b[38;5;241;43m*\u001b[39;49m\u001b[43mkwargs\u001b[49m\u001b[43m)\u001b[49m\n",
      "\u001b[0;31mTypeError\u001b[0m: RNNBase.__init__() missing 2 required positional arguments: 'input_size' and 'hidden_size'"
     ]
    }
   ],
   "source": [
    "rnn = nn.RNN()"
   ]
  },
  {
   "cell_type": "code",
   "execution_count": null,
   "id": "0c66e0a4-cc39-41f8-8a46-c79e935ce90a",
   "metadata": {},
   "outputs": [],
   "source": [
    "def sigmoid(x):\n",
    "    return 1/(1+ (-x).exp())"
   ]
  },
  {
   "cell_type": "code",
   "execution_count": null,
   "id": "f616a0c9-6abb-4de3-a6f6-b3b25ed5f815",
   "metadata": {},
   "outputs": [
    {
     "data": {
      "text/plain": [
       "tensor(0.9820)"
      ]
     },
     "execution_count": null,
     "metadata": {},
     "output_type": "execute_result"
    }
   ],
   "source": [
    "sigmoid(torch.tensor(4))"
   ]
  },
  {
   "cell_type": "code",
   "execution_count": null,
   "id": "8f6bd38e-b1dd-4f04-bd6b-252bec559876",
   "metadata": {},
   "outputs": [],
   "source": [
    "def _show_file_path(path, names):\n",
    "    return [path/name for name in names if not name.startswith('.')]"
   ]
  },
  {
   "cell_type": "code",
   "execution_count": null,
   "id": "595cb066-f994-4378-ba99-6d69ed8aa8c3",
   "metadata": {},
   "outputs": [],
   "source": [
    "def leaky_relu(x)"
   ]
  },
  {
   "cell_type": "code",
   "execution_count": null,
   "id": "a22f3a8d-e147-425c-8d3f-00f37dfbc91d",
   "metadata": {},
   "outputs": [],
   "source": [
    "import torch.nn.init as init"
   ]
  },
  {
   "cell_type": "code",
   "execution_count": null,
   "id": "15a6264f-870f-448b-a322-c4eaed454709",
   "metadata": {},
   "outputs": [
    {
     "data": {
      "text/plain": [
       "<function torch.nn.init.kaiming_normal_(tensor: torch.Tensor, a: float = 0, mode: str = 'fan_in', nonlinearity: str = 'leaky_relu')>"
      ]
     },
     "execution_count": null,
     "metadata": {},
     "output_type": "execute_result"
    }
   ],
   "source": [
    "init.kaiming_normal_"
   ]
  },
  {
   "cell_type": "code",
   "execution_count": null,
   "id": "4667177a-0d5f-4058-90e9-151cae43b8da",
   "metadata": {},
   "outputs": [],
   "source": [
    "_model = nn.Sequential(\n",
    "    nn.Linear(784, 50),\n",
    "    nn.ReLU(),\n",
    "    nn.Linear(50, 10)\n",
    ")"
   ]
  },
  {
   "cell_type": "code",
   "execution_count": null,
   "id": "8b9523b6-e929-47a3-89e3-43b4f8e5b35d",
   "metadata": {},
   "outputs": [],
   "source": [
    "class _Model(nn.Module):\n",
    "    def __init__(self):\n",
    "        self.register_buffer('means', torch.tensor(1))"
   ]
  },
  {
   "cell_type": "code",
   "execution_count": null,
   "id": "d8c2c803-8619-4115-a40e-9319301d16c3",
   "metadata": {},
   "outputs": [
    {
     "ename": "AttributeError",
     "evalue": "cannot assign buffer before Module.__init__() call",
     "output_type": "error",
     "traceback": [
      "\u001b[0;31m---------------------------------------------------------------------------\u001b[0m",
      "\u001b[0;31mAttributeError\u001b[0m                            Traceback (most recent call last)",
      "Cell \u001b[0;32mIn [26], line 1\u001b[0m\n\u001b[0;32m----> 1\u001b[0m model \u001b[38;5;241m=\u001b[39m \u001b[43m_Model\u001b[49m\u001b[43m(\u001b[49m\u001b[43m)\u001b[49m\n",
      "Cell \u001b[0;32mIn [25], line 3\u001b[0m, in \u001b[0;36m_Model.__init__\u001b[0;34m(self)\u001b[0m\n\u001b[1;32m      2\u001b[0m \u001b[38;5;28;01mdef\u001b[39;00m \u001b[38;5;21m__init__\u001b[39m(\u001b[38;5;28mself\u001b[39m):\n\u001b[0;32m----> 3\u001b[0m     \u001b[38;5;28;43mself\u001b[39;49m\u001b[38;5;241;43m.\u001b[39;49m\u001b[43mregister_buffer\u001b[49m\u001b[43m(\u001b[49m\u001b[38;5;124;43m'\u001b[39;49m\u001b[38;5;124;43mmeans\u001b[39;49m\u001b[38;5;124;43m'\u001b[39;49m\u001b[43m,\u001b[49m\u001b[43m \u001b[49m\u001b[43mtorch\u001b[49m\u001b[38;5;241;43m.\u001b[39;49m\u001b[43mtensor\u001b[49m\u001b[43m(\u001b[49m\u001b[38;5;241;43m1\u001b[39;49m\u001b[43m)\u001b[49m\u001b[43m)\u001b[49m\n",
      "File \u001b[0;32m/opt/homebrew/lib/python3.10/site-packages/torch/nn/modules/module.py:367\u001b[0m, in \u001b[0;36mModule.register_buffer\u001b[0;34m(self, name, tensor, persistent)\u001b[0m\n\u001b[1;32m    364\u001b[0m     \u001b[38;5;28;01mraise\u001b[39;00m \u001b[38;5;167;01mRuntimeError\u001b[39;00m(\u001b[38;5;124m\"\u001b[39m\u001b[38;5;124mScriptModule does not support non-persistent buffers\u001b[39m\u001b[38;5;124m\"\u001b[39m)\n\u001b[1;32m    366\u001b[0m \u001b[38;5;28;01mif\u001b[39;00m \u001b[38;5;124m'\u001b[39m\u001b[38;5;124m_buffers\u001b[39m\u001b[38;5;124m'\u001b[39m \u001b[38;5;129;01mnot\u001b[39;00m \u001b[38;5;129;01min\u001b[39;00m \u001b[38;5;28mself\u001b[39m\u001b[38;5;241m.\u001b[39m\u001b[38;5;18m__dict__\u001b[39m:\n\u001b[0;32m--> 367\u001b[0m     \u001b[38;5;28;01mraise\u001b[39;00m \u001b[38;5;167;01mAttributeError\u001b[39;00m(\n\u001b[1;32m    368\u001b[0m         \u001b[38;5;124m\"\u001b[39m\u001b[38;5;124mcannot assign buffer before Module.__init__() call\u001b[39m\u001b[38;5;124m\"\u001b[39m)\n\u001b[1;32m    369\u001b[0m \u001b[38;5;28;01melif\u001b[39;00m \u001b[38;5;129;01mnot\u001b[39;00m \u001b[38;5;28misinstance\u001b[39m(name, torch\u001b[38;5;241m.\u001b[39m_six\u001b[38;5;241m.\u001b[39mstring_classes):\n\u001b[1;32m    370\u001b[0m     \u001b[38;5;28;01mraise\u001b[39;00m \u001b[38;5;167;01mTypeError\u001b[39;00m(\u001b[38;5;124m\"\u001b[39m\u001b[38;5;124mbuffer name should be a string. \u001b[39m\u001b[38;5;124m\"\u001b[39m\n\u001b[1;32m    371\u001b[0m                     \u001b[38;5;124m\"\u001b[39m\u001b[38;5;124mGot \u001b[39m\u001b[38;5;132;01m{}\u001b[39;00m\u001b[38;5;124m\"\u001b[39m\u001b[38;5;241m.\u001b[39mformat(torch\u001b[38;5;241m.\u001b[39mtypename(name)))\n",
      "\u001b[0;31mAttributeError\u001b[0m: cannot assign buffer before Module.__init__() call"
     ]
    }
   ],
   "source": [
    "model = _Model()"
   ]
  },
  {
   "cell_type": "code",
   "execution_count": null,
   "id": "229ec04f-8a6d-4c1a-aec1-dc152622613a",
   "metadata": {},
   "outputs": [],
   "source": [
    "def sigmoid(x):\n",
    "    return 1 / (1 + (-x).exp())"
   ]
  },
  {
   "cell_type": "code",
   "execution_count": null,
   "id": "ee989eef-f5b7-46b5-9647-cf7590d1c81a",
   "metadata": {},
   "outputs": [
    {
     "data": {
      "text/plain": [
       "tensor(0.8808)"
      ]
     },
     "execution_count": null,
     "metadata": {},
     "output_type": "execute_result"
    }
   ],
   "source": [
    "sigmoid(torch.tensor(2))"
   ]
  },
  {
   "cell_type": "code",
   "execution_count": null,
   "id": "afa80d71-7ccb-4c8f-b1c7-500d5d44acce",
   "metadata": {},
   "outputs": [],
   "source": [
    "init.kaiming_normal_(l1.weight, a=1)"
   ]
  },
  {
   "cell_type": "markdown",
   "id": "08cfea41-5430-41d4-83b1-b9539466e8fc",
   "metadata": {},
   "source": [
    "### Design Patterns"
   ]
  },
  {
   "cell_type": "code",
   "execution_count": null,
   "id": "f53c5a1b-f140-4186-b37e-18fad1d92f79",
   "metadata": {},
   "outputs": [],
   "source": [
    "class Database:\n",
    "    _instance = None\n",
    "    \n",
    "    def __new__(cls):\n",
    "        if not cls._instance:\n",
    "            cls._instance = super().__new__()\n",
    "        \n",
    "        return cls._instance"
   ]
  },
  {
   "cell_type": "code",
   "execution_count": null,
   "id": "aeeef47a-434b-4533-a891-a0994427de88",
   "metadata": {},
   "outputs": [],
   "source": [
    "class Computer:\n",
    "    def __init__(self, components):\n",
    "        self.components = components\n",
    "    \n",
    "    def activate(self):\n",
    "        for component in self.components:\n",
    "            pass"
   ]
  },
  {
   "cell_type": "markdown",
   "id": "73be581d-0f98-4013-9e6f-772f049ebb14",
   "metadata": {},
   "source": [
    "### Python"
   ]
  },
  {
   "cell_type": "code",
   "execution_count": null,
   "id": "51c5fa7e-bf6f-4bc4-a04a-40f532f1c6e9",
   "metadata": {},
   "outputs": [],
   "source": [
    "from typing import TypeVar, Tuple"
   ]
  },
  {
   "cell_type": "code",
   "execution_count": null,
   "id": "1e763f49-2d6e-4625-836b-4420f683a297",
   "metadata": {},
   "outputs": [],
   "source": [
    "NumberOfServing = int"
   ]
  },
  {
   "cell_type": "code",
   "execution_count": null,
   "id": "aba6b90c-42e1-4a9c-81d9-bd921c531d04",
   "metadata": {},
   "outputs": [],
   "source": [
    "Ingredient = Tuple[str, int, str]"
   ]
  },
  {
   "cell_type": "code",
   "execution_count": null,
   "id": "e6a075b4-a947-46d6-a64d-1e8464e55991",
   "metadata": {},
   "outputs": [
    {
     "ename": "NameError",
     "evalue": "name 'List' is not defined",
     "output_type": "error",
     "traceback": [
      "\u001b[0;31m---------------------------------------------------------------------------\u001b[0m",
      "\u001b[0;31mNameError\u001b[0m                                 Traceback (most recent call last)",
      "Cell \u001b[0;32mIn [44], line 1\u001b[0m\n\u001b[0;32m----> 1\u001b[0m output \u001b[38;5;241m=\u001b[39m \u001b[43mList\u001b[49m[Union[NumberOfServing, Ingredient]]\n",
      "\u001b[0;31mNameError\u001b[0m: name 'List' is not defined"
     ]
    }
   ],
   "source": [
    "output = List[Union[NumberOfServing, Ingredient]]"
   ]
  },
  {
   "cell_type": "code",
   "execution_count": null,
   "id": "e56feb03-07ab-445e-b551-720426911ea0",
   "metadata": {},
   "outputs": [],
   "source": [
    "from collections import Counter"
   ]
  },
  {
   "cell_type": "code",
   "execution_count": null,
   "id": "221d1c26-2d90-4963-8af9-7f44f4b04aff",
   "metadata": {},
   "outputs": [],
   "source": [
    "def create_author_count_mapping(cookbooks):\n",
    "    return Counter(book.author for book in cookbooks)"
   ]
  },
  {
   "cell_type": "code",
   "execution_count": null,
   "id": "1292ef05-5eca-4d81-8d52-107780cead20",
   "metadata": {},
   "outputs": [],
   "source": [
    "from typing import Dict, List"
   ]
  },
  {
   "cell_type": "code",
   "execution_count": null,
   "id": "ce317d53-5ea2-46f1-bd1b-4474da1a47b5",
   "metadata": {},
   "outputs": [],
   "source": [
    "ReturnMapping = Dict[str, int]"
   ]
  },
  {
   "cell_type": "code",
   "execution_count": null,
   "id": "127f17d8-8672-4bc1-988d-37114762df6f",
   "metadata": {},
   "outputs": [
    {
     "ename": "NameError",
     "evalue": "name 'Cookbook' is not defined",
     "output_type": "error",
     "traceback": [
      "\u001b[0;31m---------------------------------------------------------------------------\u001b[0m",
      "\u001b[0;31mNameError\u001b[0m                                 Traceback (most recent call last)",
      "Cell \u001b[0;32mIn [50], line 1\u001b[0m\n\u001b[0;32m----> 1\u001b[0m \u001b[38;5;28;01mdef\u001b[39;00m \u001b[38;5;21mcreate_author_count_mapping\u001b[39m(cookbooks: List[\u001b[43mCookbook\u001b[49m]) \u001b[38;5;241m-\u001b[39m\u001b[38;5;241m>\u001b[39m ReturnMapping:\n\u001b[1;32m      2\u001b[0m     \u001b[38;5;28;01mpass\u001b[39;00m\n",
      "\u001b[0;31mNameError\u001b[0m: name 'Cookbook' is not defined"
     ]
    }
   ],
   "source": [
    "def create_author_count_mapping(cookbooks: List[Cookbook]) -> ReturnMapping:\n",
    "    pass"
   ]
  },
  {
   "cell_type": "code",
   "execution_count": null,
   "id": "2122a827-291e-4484-b4d7-1e22ca78d3fe",
   "metadata": {},
   "outputs": [],
   "source": [
    "from typing import TypeVar"
   ]
  },
  {
   "cell_type": "code",
   "execution_count": null,
   "id": "f73ee035-59d2-46f4-a658-914684bfd91e",
   "metadata": {},
   "outputs": [],
   "source": [
    "T = TypeVar('T')"
   ]
  },
  {
   "cell_type": "code",
   "execution_count": null,
   "id": "4bb72e3b-baf7-41a5-a9cd-566649db33a1",
   "metadata": {},
   "outputs": [],
   "source": [
    "APIResponse = Union[T, APIError]"
   ]
  },
  {
   "cell_type": "code",
   "execution_count": null,
   "id": "3afacdef-64c8-4a59-a33b-133e77f385ff",
   "metadata": {},
   "outputs": [],
   "source": [
    "class Database:\n",
    "    _instance = None\n",
    "    def __new__(cls):\n",
    "        if not cls._instance:\n",
    "            cls._instance = super().__new__(cls)\n",
    "        \n",
    "        return cls._instance"
   ]
  },
  {
   "cell_type": "markdown",
   "id": "8da7950c-fc40-41d5-867f-c893e6359026",
   "metadata": {},
   "source": [
    "### bash"
   ]
  },
  {
   "cell_type": "code",
   "execution_count": null,
   "id": "8eff1f93-52d6-4320-9170-8e69ed0b8ce7",
   "metadata": {},
   "outputs": [],
   "source": [
    "--x"
   ]
  },
  {
   "cell_type": "code",
   "execution_count": null,
   "id": "760782a4-94a4-4e5d-8dce-0d01e482fc9a",
   "metadata": {},
   "outputs": [],
   "source": [
    "echo ${neuralink}"
   ]
  },
  {
   "cell_type": "code",
   "execution_count": null,
   "id": "269c9f0e-0624-4849-9a9b-962236837d02",
   "metadata": {},
   "outputs": [],
   "source": [
    "#!/bin/bash\n",
    "\n",
    "make_folder() {\n",
    "    mkdir $1\n",
    "    cd $1\n",
    "}"
   ]
  },
  {
   "cell_type": "code",
   "execution_count": null,
   "id": "140989ce-75d3-4757-92d1-3fa695860097",
   "metadata": {},
   "outputs": [],
   "source": [
    "mkdir \"My P\""
   ]
  },
  {
   "cell_type": "code",
   "execution_count": null,
   "id": "aef1776f-c378-4efc-8dac-d91aee8120dd",
   "metadata": {},
   "outputs": [],
   "source": [
    "cat < h1.txt > h2.txt"
   ]
  },
  {
   "cell_type": "code",
   "execution_count": null,
   "id": "1553618d-4481-4a01-8a27-3079f76d52ba",
   "metadata": {},
   "outputs": [],
   "source": [
    "#!/bin/bash\n",
    "\n",
    "var1=$(date)"
   ]
  },
  {
   "cell_type": "code",
   "execution_count": null,
   "id": "f6a5d5da-25f1-4540-8465-09f9d94616d2",
   "metadata": {},
   "outputs": [],
   "source": [
    "#!/bin/bash\n",
    "\n",
    "student=\"Shivon\"\n",
    "echo \"Hello ${student}\""
   ]
  },
  {
   "cell_type": "code",
   "execution_count": null,
   "id": "76d33042-be94-44d9-830e-058d44982d8e",
   "metadata": {},
   "outputs": [],
   "source": [
    "echo ${#name}"
   ]
  },
  {
   "cell_type": "code",
   "execution_count": null,
   "id": "6a870194-831d-40ef-b724-84100c5097bb",
   "metadata": {},
   "outputs": [],
   "source": [
    "open out"
   ]
  },
  {
   "cell_type": "code",
   "execution_count": null,
   "id": "4de6f659-e220-423d-9b69-eca849fe5f77",
   "metadata": {},
   "outputs": [
    {
     "ename": "SyntaxError",
     "evalue": "invalid syntax (2716678919.py, line 2)",
     "output_type": "error",
     "traceback": [
      "\u001b[0;36m  Cell \u001b[0;32mIn [57], line 2\u001b[0;36m\u001b[0m\n\u001b[0;31m    conda activate tinypytorch\u001b[0m\n\u001b[0m          ^\u001b[0m\n\u001b[0;31mSyntaxError\u001b[0m\u001b[0;31m:\u001b[0m invalid syntax\n"
     ]
    }
   ],
   "source": [
    "#!/bin/bash\n",
    "conda activate tinypytorch\n",
    "python3 --version"
   ]
  },
  {
   "cell_type": "code",
   "execution_count": null,
   "id": "14b36777-d0c7-4600-b819-f39979f8b901",
   "metadata": {},
   "outputs": [
    {
     "ename": "SyntaxError",
     "evalue": "invalid syntax (373678549.py, line 3)",
     "output_type": "error",
     "traceback": [
      "\u001b[0;36m  Cell \u001b[0;32mIn [58], line 3\u001b[0;36m\u001b[0m\n\u001b[0;31m    for arg in \"$@\"; do\u001b[0m\n\u001b[0m                   ^\u001b[0m\n\u001b[0;31mSyntaxError\u001b[0m\u001b[0;31m:\u001b[0m invalid syntax\n"
     ]
    }
   ],
   "source": [
    "#!/bin/bash\n",
    "\n",
    "for arg in \"$@\"; do\n",
    "    echo arg\n",
    "end"
   ]
  },
  {
   "cell_type": "code",
   "execution_count": null,
   "id": "0dc0aef7-9128-412d-8b98-ca959511b6c1",
   "metadata": {},
   "outputs": [
    {
     "ename": "NameError",
     "evalue": "name 'rwx' is not defined",
     "output_type": "error",
     "traceback": [
      "\u001b[0;31m---------------------------------------------------------------------------\u001b[0m",
      "\u001b[0;31mNameError\u001b[0m                                 Traceback (most recent call last)",
      "Cell \u001b[0;32mIn [59], line 1\u001b[0m\n\u001b[0;32m----> 1\u001b[0m \u001b[43mrwx\u001b[49m\n",
      "\u001b[0;31mNameError\u001b[0m: name 'rwx' is not defined"
     ]
    }
   ],
   "source": [
    "rwx"
   ]
  },
  {
   "cell_type": "code",
   "execution_count": null,
   "id": "492c67bf-0724-4956-8953-78694eff6188",
   "metadata": {},
   "outputs": [],
   "source": [
    "rw-------"
   ]
  },
  {
   "cell_type": "markdown",
   "id": "6cf33730-9bd0-46fe-8370-dc0f93664213",
   "metadata": {},
   "source": [
    "### fastcore"
   ]
  },
  {
   "cell_type": "code",
   "execution_count": null,
   "id": "cffe2385-ed67-400c-9730-f719ebdc0c57",
   "metadata": {},
   "outputs": [],
   "source": [
    "from fastcore.all import *"
   ]
  },
  {
   "cell_type": "code",
   "execution_count": null,
   "id": "f17383f1-2771-4251-b64f-2c351b37ebeb",
   "metadata": {},
   "outputs": [],
   "source": [
    "class Foo:\n",
    "    def __init__(self, a, b):\n",
    "        self.a = a\n",
    "        self.b = b\n",
    "    \n",
    "    __repr__ = basic_repr('a, b')"
   ]
  },
  {
   "cell_type": "code",
   "execution_count": null,
   "id": "098c6338-2a04-490a-8982-e12465508b4c",
   "metadata": {},
   "outputs": [],
   "source": []
  }
 ],
 "metadata": {
  "kernelspec": {
   "display_name": "Python 3 (ipykernel)",
   "language": "python",
   "name": "python3"
  }
 },
 "nbformat": 4,
 "nbformat_minor": 5
}
