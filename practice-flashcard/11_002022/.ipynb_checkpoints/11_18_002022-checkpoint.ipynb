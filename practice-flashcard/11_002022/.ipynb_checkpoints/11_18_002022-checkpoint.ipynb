{
 "cells": [
  {
   "cell_type": "markdown",
   "id": "ccebd81f-09d1-45d9-b2eb-b72f490c5240",
   "metadata": {},
   "source": [
    "### Deep Learning"
   ]
  },
  {
   "cell_type": "code",
   "execution_count": null,
   "id": "b303e05b-fbcb-4881-80f7-24e977a9968b",
   "metadata": {},
   "outputs": [
    {
     "name": "stderr",
     "output_type": "stream",
     "text": [
      "/opt/homebrew/lib/python3.10/site-packages/tqdm/auto.py:22: TqdmWarning: IProgress not found. Please update jupyter and ipywidgets. See https://ipywidgets.readthedocs.io/en/stable/user_install.html\n",
      "  from .autonotebook import tqdm as notebook_tqdm\n"
     ]
    }
   ],
   "source": [
    "import torch"
   ]
  },
  {
   "cell_type": "code",
   "execution_count": null,
   "id": "93e9ed95-13c3-44e0-a528-adf1d4eee49f",
   "metadata": {},
   "outputs": [],
   "source": [
    "import torch.nn as nn"
   ]
  },
  {
   "cell_type": "code",
   "execution_count": null,
   "id": "d069e3ba-8a3f-4f5b-9414-93bcf82b6184",
   "metadata": {},
   "outputs": [],
   "source": [
    "import torch.nn.functional as F"
   ]
  },
  {
   "cell_type": "code",
   "execution_count": null,
   "id": "1d9dc22e-4b6a-4d15-8b44-8f25163db5c8",
   "metadata": {},
   "outputs": [],
   "source": [
    "def sgd_step(parameter, lr):\n",
    "    return parameter.sub(lr, parameter.grad)"
   ]
  },
  {
   "cell_type": "markdown",
   "id": "8007741d-20e2-46af-aca2-b2e1f7dd7bec",
   "metadata": {},
   "source": [
    "### Python"
   ]
  },
  {
   "cell_type": "code",
   "execution_count": null,
   "id": "8e905835-d99a-4f2e-8d90-39e392816321",
   "metadata": {},
   "outputs": [],
   "source": [
    "from typing import Literal"
   ]
  },
  {
   "cell_type": "code",
   "execution_count": null,
   "id": "510d86d8-343e-40a8-b398-dc5b4e2af9fa",
   "metadata": {},
   "outputs": [],
   "source": [
    "class Eyelink:\n",
    "    def __init__(self, level: Literal[\"one\", \"two\", \"three\"]):\n",
    "        self.level = level"
   ]
  },
  {
   "cell_type": "code",
   "execution_count": null,
   "id": "a3588ea9-1c80-4459-a2a6-422b0a6457ab",
   "metadata": {},
   "outputs": [],
   "source": [
    "from typing import Protocol"
   ]
  },
  {
   "cell_type": "code",
   "execution_count": null,
   "id": "85a5450d-5195-4e8e-a00b-6ae4a2c81d50",
   "metadata": {},
   "outputs": [],
   "source": [
    "class Splitable(Protocol):\n",
    "    def split_in_half(self): pass"
   ]
  },
  {
   "cell_type": "code",
   "execution_count": null,
   "id": "04899143-95b1-4ecc-8e72-cdae710d1f90",
   "metadata": {},
   "outputs": [],
   "source": [
    "def split(food: Splitable): pass"
   ]
  },
  {
   "cell_type": "code",
   "execution_count": null,
   "id": "89d4b912-f8d6-4d69-b6b8-56e332668845",
   "metadata": {},
   "outputs": [],
   "source": [
    "from enum import Enum"
   ]
  },
  {
   "cell_type": "code",
   "execution_count": null,
   "id": "ecc9b380-9d49-42c6-8546-387100087b8c",
   "metadata": {},
   "outputs": [],
   "source": [
    "class MotherSauces(Enum):\n",
    "    BECHAMEL = \"Bechamel\""
   ]
  },
  {
   "cell_type": "markdown",
   "id": "95ef9102-b9fa-4688-95c4-92343279c742",
   "metadata": {},
   "source": [
    "### bash"
   ]
  },
  {
   "cell_type": "code",
   "execution_count": null,
   "id": "379777fc-8a83-4800-86c1-1c3ba5e079af",
   "metadata": {},
   "outputs": [],
   "source": [
    "SELECT * FROM dataset WHERE prompt ILIKE \"h%\""
   ]
  },
  {
   "cell_type": "code",
   "execution_count": null,
   "id": "34e582df-91e8-4473-8361-1703c8df7966",
   "metadata": {},
   "outputs": [],
   "source": [
    "movies.merge(ratings)"
   ]
  },
  {
   "cell_type": "code",
   "execution_count": null,
   "id": "37f02c4c-7671-4ff9-9dde-297458dccc89",
   "metadata": {},
   "outputs": [],
   "source": [
    "SELECT * FROM users WHERE rank='one' AND files=6"
   ]
  },
  {
   "cell_type": "markdown",
   "id": "1c88edf2-1330-425d-8ec8-0cc84d026351",
   "metadata": {},
   "source": [
    "### Python"
   ]
  },
  {
   "cell_type": "code",
   "execution_count": null,
   "id": "2b709c68-1d05-4494-b86f-21faeec35d08",
   "metadata": {},
   "outputs": [],
   "source": [
    "from typing import overload, List"
   ]
  },
  {
   "cell_type": "code",
   "execution_count": null,
   "id": "80bc3738-ff69-4157-84b0-720967f5044d",
   "metadata": {},
   "outputs": [],
   "source": [
    "@overload\n",
    "def getitem(x: str) -> str: pass"
   ]
  },
  {
   "cell_type": "code",
   "execution_count": null,
   "id": "1240b6b6-2b39-479f-84b1-a4d2bf9efa4c",
   "metadata": {},
   "outputs": [],
   "source": [
    "@overload\n",
    "def getitem(x: List[int]) -> str: pass"
   ]
  },
  {
   "cell_type": "code",
   "execution_count": null,
   "id": "be033909-96e1-48e4-b6ae-08b43c6b9a5e",
   "metadata": {},
   "outputs": [],
   "source": [
    "from typing import TYPE_CHECKING"
   ]
  },
  {
   "cell_type": "code",
   "execution_count": null,
   "id": "7b2af6e9-6998-4e74-894b-b6d2db60fcc7",
   "metadata": {},
   "outputs": [],
   "source": [
    "if TYPE_CHECKING:\n",
    "    foo()"
   ]
  },
  {
   "cell_type": "code",
   "execution_count": null,
   "id": "b4baf27c-e69a-4f0f-a2b1-a5f5bc3ab1bd",
   "metadata": {},
   "outputs": [],
   "source": [
    "import unittest"
   ]
  },
  {
   "cell_type": "code",
   "execution_count": null,
   "id": "7cf07271-721a-467f-a39a-e66bd7f18cfd",
   "metadata": {},
   "outputs": [],
   "source": [
    "class MediumTest(unittest.TestCase):\n",
    "    def test_avg(self):\n",
    "        self.as"
   ]
  },
  {
   "cell_type": "code",
   "execution_count": null,
   "id": "3ae32a62-3851-4fe0-a5a3-8a00e8223c3b",
   "metadata": {},
   "outputs": [],
   "source": [
    "def is_valid(value: bool = False) -> bool:\n",
    "    return value"
   ]
  },
  {
   "cell_type": "code",
   "execution_count": null,
   "id": "9032af42-5785-43d0-b3fd-90f8768a0b29",
   "metadata": {},
   "outputs": [],
   "source": []
  }
 ],
 "metadata": {
  "kernelspec": {
   "display_name": "Python 3 (ipykernel)",
   "language": "python",
   "name": "python3"
  }
 },
 "nbformat": 4,
 "nbformat_minor": 5
}
