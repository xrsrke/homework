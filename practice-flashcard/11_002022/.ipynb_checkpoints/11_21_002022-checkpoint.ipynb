{
 "cells": [
  {
   "cell_type": "markdown",
   "id": "16d3fa32-7c14-42e5-ab8f-c101a4b17648",
   "metadata": {},
   "source": [
    "### Deep Learning"
   ]
  },
  {
   "cell_type": "code",
   "execution_count": null,
   "id": "8f018bb3-146d-4829-a4e4-c9f19235fcca",
   "metadata": {},
   "outputs": [],
   "source": [
    "import torchvision.transforms as tfms"
   ]
  },
  {
   "cell_type": "code",
   "execution_count": null,
   "id": "8f9241c3-1d33-4f0f-a213-38482de530b9",
   "metadata": {},
   "outputs": [
    {
     "data": {
      "text/plain": [
       "ToTensor()"
      ]
     },
     "execution_count": null,
     "metadata": {},
     "output_type": "execute_result"
    }
   ],
   "source": [
    "tfms.ToTensor()"
   ]
  },
  {
   "cell_type": "code",
   "execution_count": null,
   "id": "145f3501-c7ad-4a1a-8649-8af7aec5f9d5",
   "metadata": {},
   "outputs": [
    {
     "data": {
      "text/plain": [
       "Normalize(mean=0.3, std=0.9)"
      ]
     },
     "execution_count": null,
     "metadata": {},
     "output_type": "execute_result"
    }
   ],
   "source": [
    "tfms.Normalize(0.3, 0.9)"
   ]
  },
  {
   "cell_type": "code",
   "execution_count": null,
   "id": "5e54c907-26e5-48cd-8390-cfbe714137c3",
   "metadata": {},
   "outputs": [],
   "source": [
    "transform = tfms.Compose([\n",
    "    tfms.ToTensor(),\n",
    "    tfms.Normalize(0.3, 0.9)\n",
    "])"
   ]
  },
  {
   "cell_type": "code",
   "execution_count": null,
   "id": "862c2787-1d0b-45bd-af37-e2a26fb23089",
   "metadata": {},
   "outputs": [],
   "source": [
    "import torch"
   ]
  },
  {
   "cell_type": "code",
   "execution_count": null,
   "id": "954db52f-2392-45be-9449-c244a03d4da3",
   "metadata": {},
   "outputs": [],
   "source": [
    "from torch.utils"
   ]
  },
  {
   "cell_type": "code",
   "execution_count": null,
   "id": "9c1dcb10-ffbc-4676-afab-d7d0706be522",
   "metadata": {},
   "outputs": [],
   "source": [
    "train_dl = torch."
   ]
  },
  {
   "cell_type": "code",
   "execution_count": null,
   "id": "80aa5c0a-da90-4584-a3e0-c553ea5689dd",
   "metadata": {},
   "outputs": [],
   "source": [
    "class SamplerDemo:\n",
    "    def __init__(self, ds, bs, shuffle):\n",
    "        self.ds = len(ds)\n",
    "        self.bs = bs\n",
    "        self.shuffle = shuffle\n",
    "    \n",
    "    def __iter__(self):\n",
    "        idxs = torch.randperm(self.ds) if self.shuffle == False else torch.arange(self.ds)\n",
    "        for i in range(0, self.ds, self.bs):\n",
    "            yield idxs[i:i+self.bs]"
   ]
  },
  {
   "cell_type": "code",
   "execution_count": null,
   "id": "44dbd210-87b5-4449-a5c6-dab4feac36f9",
   "metadata": {},
   "outputs": [
    {
     "data": {
      "text/plain": [
       "[0, 2, 4]"
      ]
     },
     "execution_count": null,
     "metadata": {},
     "output_type": "execute_result"
    }
   ],
   "source": [
    "list(range(0, 5, 2))"
   ]
  },
  {
   "cell_type": "code",
   "execution_count": null,
   "id": "8f2a9866-18a4-4c77-9f55-0fd52265bb8f",
   "metadata": {},
   "outputs": [],
   "source": [
    "class ListContainer:\n",
    "    def __init__(self, x):\n",
    "        self.items = x\n",
    "    \n",
    "    def __getitem__(self, idxs):\n",
    "        if isinstance(idxs, (int, slice)):\n",
    "            return self.items[idxs]"
   ]
  },
  {
   "cell_type": "code",
   "execution_count": null,
   "id": "2e0e176c-c656-4d6a-8bc4-5cea84d1b01b",
   "metadata": {},
   "outputs": [],
   "source": [
    "import torchvision.transforms as tfms"
   ]
  },
  {
   "cell_type": "code",
   "execution_count": null,
   "id": "4b51eea1-ba6b-400f-83dd-1f23e2d33c32",
   "metadata": {},
   "outputs": [],
   "source": [
    "transform = tfms.Compose([\n",
    "    tfms.ToTensor(),\n",
    "    tfms.Normalize(0.3, 0.9)\n",
    "])"
   ]
  },
  {
   "cell_type": "code",
   "execution_count": null,
   "id": "3239425e-a1cb-4d9a-b2f0-14206f7efd09",
   "metadata": {},
   "outputs": [],
   "source": [
    "import numpy as np"
   ]
  },
  {
   "cell_type": "code",
   "execution_count": null,
   "id": "78498ce1-89b9-456c-8fe6-e6a1023de15e",
   "metadata": {},
   "outputs": [],
   "source": [
    "def softmax(x):\n",
    "    return np.exp(x) / np.exp(x).sum()"
   ]
  },
  {
   "cell_type": "code",
   "execution_count": null,
   "id": "f4a9996a-df16-43db-8d43-a23b19220a73",
   "metadata": {},
   "outputs": [
    {
     "data": {
      "text/plain": [
       "array([0.09003057, 0.24472847, 0.66524096])"
      ]
     },
     "execution_count": null,
     "metadata": {},
     "output_type": "execute_result"
    }
   ],
   "source": [
    "softmax([1, 2, 3])"
   ]
  },
  {
   "cell_type": "code",
   "execution_count": null,
   "id": "86fe156e-9564-4f2c-b5ed-01519c3bacdc",
   "metadata": {},
   "outputs": [],
   "source": [
    "import torch.nn as nn"
   ]
  },
  {
   "cell_type": "code",
   "execution_count": null,
   "id": "186d5ff4-8c54-4af5-9f2f-f374bb407faf",
   "metadata": {},
   "outputs": [],
   "source": [
    "import torch.nn.functional as F"
   ]
  },
  {
   "cell_type": "code",
   "execution_count": null,
   "id": "cc2c0fa5-39d1-4fa9-841a-2ea63f3e066c",
   "metadata": {},
   "outputs": [],
   "source": [
    "class LMModel3(nn.Module):\n",
    "    def __init__(self, vocab_sz, n_hidden):\n",
    "        super().__init__()\n",
    "        \n",
    "        self.i_h = nn.Embedding(vocab_sz, n_hidden)\n",
    "        self.h_h = nn.Linear(n_hidden, n_hidden)\n",
    "        self.h_o = nn.Linear(n_hidden, vocab_sz)\n",
    "        self.h = 0.\n",
    "    \n",
    "    def forward(self, x):\n",
    "        for i in range(3):\n",
    "            self.h = self.h + F.relu(self.i_h(x[i, :]))\n",
    "            self.h = F.relu(self.h_h(self.h))\n"
   ]
  },
  {
   "cell_type": "code",
   "execution_count": null,
   "id": "b343b02e-f3dd-409a-b963-813e0f6be5f5",
   "metadata": {},
   "outputs": [],
   "source": [
    "x = torch.rand(50, 3, 64, 64)"
   ]
  },
  {
   "cell_type": "code",
   "execution_count": null,
   "id": "880fe0e9-ea30-4a56-94d7-29507c284438",
   "metadata": {},
   "outputs": [],
   "source": [
    "run GPU, quantization, "
   ]
  },
  {
   "cell_type": "markdown",
   "id": "0ae8ffa0-5f3e-49b2-831f-1243266021ee",
   "metadata": {},
   "source": [
    "### Python"
   ]
  },
  {
   "cell_type": "code",
   "execution_count": null,
   "id": "b4d095af-8afc-4280-8a3b-6044ded76ba7",
   "metadata": {},
   "outputs": [],
   "source": [
    "from typing import TypedDict"
   ]
  },
  {
   "cell_type": "code",
   "execution_count": null,
   "id": "570e7fe5-0a5a-4a35-93f5-36c9d73abe94",
   "metadata": {},
   "outputs": [],
   "source": [
    "class NutritionInformation(TypedDict):\n",
    "    value: int\n",
    "    unit: str"
   ]
  },
  {
   "cell_type": "code",
   "execution_count": null,
   "id": "90953e70-2237-42bf-beb9-5a2129fdac32",
   "metadata": {},
   "outputs": [],
   "source": [
    "class RecipeNutritionInformation(TypedDict):\n",
    "    recipes_used: int\n",
    "    calories: NutritionInformation\n",
    "    carbs: NutritionInformation"
   ]
  },
  {
   "cell_type": "code",
   "execution_count": null,
   "id": "0f6001eb-1df7-4696-8927-f26359905af6",
   "metadata": {},
   "outputs": [],
   "source": [
    "from typing import TypeVar"
   ]
  },
  {
   "cell_type": "code",
   "execution_count": null,
   "id": "15545f34-42b6-49d7-a898-9400c024611d",
   "metadata": {},
   "outputs": [],
   "source": [
    "T = TypeVar(\"T\")"
   ]
  },
  {
   "cell_type": "code",
   "execution_count": null,
   "id": "588f449e-fde2-45bc-80ea-aaba17cad9b1",
   "metadata": {},
   "outputs": [],
   "source": [
    "APIResponse = Union[T, APIError]"
   ]
  },
  {
   "cell_type": "markdown",
   "id": "634b06af-c0f0-49c2-8440-a2c69cb4d569",
   "metadata": {},
   "source": [
    "### bash"
   ]
  },
  {
   "cell_type": "code",
   "execution_count": null,
   "id": "c1dc6bd4-1213-4f0f-8a01-eda753f8b800",
   "metadata": {},
   "outputs": [],
   "source": [
    "import sympy as smp"
   ]
  },
  {
   "cell_type": "code",
   "execution_count": null,
   "id": "16af8abb-c964-49a8-9e8d-6d78e6cbcbca",
   "metadata": {},
   "outputs": [
    {
     "data": {
      "text/latex": [
       "$\\displaystyle \\alpha$"
      ],
      "text/plain": [
       "alpha"
      ]
     },
     "execution_count": null,
     "metadata": {},
     "output_type": "execute_result"
    }
   ],
   "source": [
    "smp.symbols('alpha')"
   ]
  },
  {
   "cell_type": "code",
   "execution_count": null,
   "id": "3a09ae6c-3949-4942-9ea0-2d7b643d647f",
   "metadata": {},
   "outputs": [],
   "source": [
    "x = smp.Symbol('x')"
   ]
  },
  {
   "cell_type": "code",
   "execution_count": null,
   "id": "fc6c3ff7-33e9-4e3d-a2e7-b721bfb2b527",
   "metadata": {},
   "outputs": [],
   "source": [
    "f, g = smp.symbols('f, g', cls=smp.Function)"
   ]
  },
  {
   "cell_type": "code",
   "execution_count": null,
   "id": "fc68a968-ac72-46f6-b9bd-69374fe653b7",
   "metadata": {},
   "outputs": [
    {
     "data": {
      "text/plain": [
       "f"
      ]
     },
     "execution_count": null,
     "metadata": {},
     "output_type": "execute_result"
    }
   ],
   "source": [
    "f"
   ]
  },
  {
   "cell_type": "code",
   "execution_count": null,
   "id": "0a5de739-ee6c-41b5-ad8a-adfa0a402e8b",
   "metadata": {},
   "outputs": [],
   "source": [
    "g=g(x)"
   ]
  },
  {
   "cell_type": "code",
   "execution_count": null,
   "id": "9a9b3ca3-906e-433d-b3a5-85b5997ed5d6",
   "metadata": {},
   "outputs": [],
   "source": [
    "f = x + g"
   ]
  },
  {
   "cell_type": "code",
   "execution_count": null,
   "id": "7d3bc30b-cfa9-44ad-a285-3853aedb0fe4",
   "metadata": {},
   "outputs": [
    {
     "data": {
      "text/latex": [
       "$\\displaystyle x + g{\\left(x \\right)}$"
      ],
      "text/plain": [
       "x + g(x)"
      ]
     },
     "execution_count": null,
     "metadata": {},
     "output_type": "execute_result"
    }
   ],
   "source": [
    "f"
   ]
  },
  {
   "cell_type": "code",
   "execution_count": null,
   "id": "4c8c1708-8c26-4ef8-9e68-66f8289963ad",
   "metadata": {},
   "outputs": [],
   "source": [
    "import pandas as pd"
   ]
  },
  {
   "cell_type": "code",
   "execution_count": null,
   "id": "fa6d46fc-325b-47b3-aaf3-857ef7830fa3",
   "metadata": {},
   "outputs": [],
   "source": [
    "pd.DataFrame(data={'name': series_name, 'ages': series_age})"
   ]
  },
  {
   "cell_type": "code",
   "execution_count": null,
   "id": "00e696d3-b276-4437-95b4-acd37d8bfa17",
   "metadata": {},
   "outputs": [],
   "source": [
    "import pytest"
   ]
  },
  {
   "cell_type": "code",
   "execution_count": null,
   "id": "1bb6f703-2729-4fbf-bb7b-dbfa8e330fa6",
   "metadata": {},
   "outputs": [],
   "source": [
    "class Book: pass"
   ]
  },
  {
   "cell_type": "code",
   "execution_count": null,
   "id": "55db6c28-363b-4806-90d8-f9442100cb01",
   "metadata": {},
   "outputs": [],
   "source": [
    "@pytest.fixture\n",
    "def book():\n",
    "    return Book()"
   ]
  },
  {
   "cell_type": "code",
   "execution_count": null,
   "id": "8c1ad5f9-e66c-4ed6-bbd2-c9f37be5819d",
   "metadata": {},
   "outputs": [],
   "source": [
    "def test_book(book):\n",
    "    assert book.name == \"\""
   ]
  },
  {
   "cell_type": "code",
   "execution_count": null,
   "id": "00173f06-5e8b-4883-8707-bed3e804d0d3",
   "metadata": {},
   "outputs": [],
   "source": [
    "from shopping.car.shopping_car import buy"
   ]
  },
  {
   "cell_type": "markdown",
   "id": "0f4e3ef1-2e7e-45c5-a21e-d062a50c411e",
   "metadata": {},
   "source": [
    "SELECT training.accuracy, datasets.size FROm training INNER JOIN datasets ON training.dsets_id = datasets.id"
   ]
  },
  {
   "cell_type": "code",
   "execution_count": null,
   "id": "23a7b1e9-966a-42f0-ba96-5b4ca2e2e6dd",
   "metadata": {},
   "outputs": [],
   "source": [
    "SELECT * FROM training WHERE n_epochs "
   ]
  },
  {
   "cell_type": "markdown",
   "id": "39c0e4c0-c3b9-4bca-b59c-7f9e3619e8e7",
   "metadata": {},
   "source": [
    "SELECT users.name, likes.like FROM users INNER JOIN likes ON likes.user_id = users.id"
   ]
  },
  {
   "cell_type": "code",
   "execution_count": null,
   "id": "c087f30c-a702-470d-95f6-ead6d8ec9fdc",
   "metadata": {},
   "outputs": [],
   "source": [
    "SELECT COAL FROM training WHERE "
   ]
  },
  {
   "cell_type": "code",
   "execution_count": null,
   "id": "58704982-d002-4729-af8f-3e89269ec6c9",
   "metadata": {},
   "outputs": [],
   "source": [
    "SELECT * FROM users WHERE is_detelete IS True"
   ]
  },
  {
   "cell_type": "markdown",
   "id": "446139f0-5b82-481a-8389-fee7644a446e",
   "metadata": {},
   "source": [
    "SELECT users.name, likes.like FROM users RIGHT JOIN likes ON users.id = likes.user_id"
   ]
  },
  {
   "cell_type": "code",
   "execution_count": null,
   "id": "a5f90cf4-43a3-4426-b0b9-49154271415c",
   "metadata": {},
   "outputs": [],
   "source": [
    "SELECT * FROM users WHERE name != \"Shivon\""
   ]
  },
  {
   "cell_type": "code",
   "execution_count": null,
   "id": "4537d671-1132-4640-96b0-79ff8cddeffd",
   "metadata": {},
   "outputs": [],
   "source": [
    "from typing import NoReturn"
   ]
  },
  {
   "cell_type": "code",
   "execution_count": null,
   "id": "06a6a525-50f7-4a1e-8d4f-71eba40e60d4",
   "metadata": {},
   "outputs": [],
   "source": [
    "def exit() -> NoReturn:\n",
    "    pass"
   ]
  },
  {
   "cell_type": "code",
   "execution_count": null,
   "id": "f36bcd29-575a-4f08-ac3b-87d370e55e40",
   "metadata": {},
   "outputs": [],
   "source": [
    "from typing import Protocol"
   ]
  },
  {
   "cell_type": "code",
   "execution_count": null,
   "id": "02fb8995-6205-482f-8b25-950cd5379515",
   "metadata": {},
   "outputs": [],
   "source": [
    "class SupportLessThan(Protocol):\n",
    "    def __lt__(self): pass"
   ]
  },
  {
   "cell_type": "code",
   "execution_count": null,
   "id": "876bc162-fe64-4a98-8609-be9cfcdd54c4",
   "metadata": {},
   "outputs": [],
   "source": [
    "try:\n",
    "    pass\n",
    "except (ValueError, ZeroDivisionError): pass\n",
    "else:\n",
    "    print(\"\")"
   ]
  },
  {
   "cell_type": "code",
   "execution_count": null,
   "id": "d668828f-9382-44a5-8bbf-582e1235209a",
   "metadata": {},
   "outputs": [],
   "source": [
    "docker run -d redis"
   ]
  },
  {
   "cell_type": "code",
   "execution_count": null,
   "id": "d3adf92c-f75e-446a-92bf-71cc567ccecf",
   "metadata": {},
   "outputs": [],
   "source": [
    "docker run --name test_app redis"
   ]
  },
  {
   "cell_type": "code",
   "execution_count": null,
   "id": "fbbd0688-464a-4c25-86a0-8a882aa6d35c",
   "metadata": {},
   "outputs": [],
   "source": [
    "docker run postgres:4.3"
   ]
  },
  {
   "cell_type": "code",
   "execution_count": null,
   "id": "c8578ca7-aa28-490f-8348-690c8093db2b",
   "metadata": {},
   "outputs": [],
   "source": [
    "docker ps -a"
   ]
  },
  {
   "cell_type": "code",
   "execution_count": null,
   "id": "e2556a63-7e41-4ce9-bebb-fc4362137409",
   "metadata": {},
   "outputs": [],
   "source": [
    "docker run --net mongo-network mongo"
   ]
  },
  {
   "cell_type": "code",
   "execution_count": null,
   "id": "0ff676f4-251f-489b-8358-6a51c596f2e1",
   "metadata": {},
   "outputs": [],
   "source": [
    "docker-compose -f mongo.yaml down"
   ]
  },
  {
   "cell_type": "code",
   "execution_count": null,
   "id": "1794305d-98f0-40d4-a355-027153474fc5",
   "metadata": {},
   "outputs": [],
   "source": [
    "docker network create mongo-network"
   ]
  },
  {
   "cell_type": "code",
   "execution_count": null,
   "id": "a87ab04a-a42a-4ad1-bc38-65dbe28982fa",
   "metadata": {},
   "outputs": [],
   "source": [
    "name: integration test\n",
    "\n",
    "on: [oush]\n",
    "\n",
    "jobs:\n",
    "    test-app:\n",
    "        runs-on: ubuntu-latest"
   ]
  },
  {
   "cell_type": "code",
   "execution_count": null,
   "id": "c7381ef1-f591-432d-b3af-cdf8e92d9071",
   "metadata": {},
   "outputs": [],
   "source": [
    "foundation:\n",
    "    - physics\n",
    "    - ai\n",
    "    - matsci\n",
    "    - nano"
   ]
  },
  {
   "cell_type": "code",
   "execution_count": null,
   "id": "0492dceb-d4eb-44b7-8dee-9c7b4bcd7c95",
   "metadata": {},
   "outputs": [],
   "source": [
    "name: Shivon\n",
    "job: Engineer\n",
    "companu:\n",
    "    name"
   ]
  },
  {
   "cell_type": "code",
   "execution_count": null,
   "id": "80d9e2fb-d712-476f-a42a-03852806029c",
   "metadata": {},
   "outputs": [],
   "source": [
    "#!/bin/bash"
   ]
  }
 ],
 "metadata": {
  "kernelspec": {
   "display_name": "Python 3 (ipykernel)",
   "language": "python",
   "name": "python3"
  }
 },
 "nbformat": 4,
 "nbformat_minor": 5
}
