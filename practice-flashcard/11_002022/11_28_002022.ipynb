{
 "cells": [
  {
   "cell_type": "markdown",
   "id": "0ac9b0f7-e719-4307-91d4-525b3ad67590",
   "metadata": {},
   "source": [
    "### Deep Learning"
   ]
  },
  {
   "cell_type": "code",
   "execution_count": null,
   "id": "8b8b45e4-4a15-4da9-9ab9-6719eb69e590",
   "metadata": {},
   "outputs": [],
   "source": [
    "def mae(x):\n",
    "    return (x - x.mean()).abs().mean()"
   ]
  },
  {
   "cell_type": "code",
   "execution_count": null,
   "id": "5e074455-ba76-453b-8159-0956507cd110",
   "metadata": {},
   "outputs": [],
   "source": [
    "batching, cocurrency, caching"
   ]
  },
  {
   "cell_type": "code",
   "execution_count": null,
   "id": "8c570d74-c643-4f20-afea-dd9df81d6906",
   "metadata": {},
   "outputs": [],
   "source": [
    "import torch"
   ]
  },
  {
   "cell_type": "code",
   "execution_count": null,
   "id": "18664846-14c6-4276-9be3-06b8dba9ec3d",
   "metadata": {},
   "outputs": [],
   "source": [
    "from torch import nn"
   ]
  },
  {
   "cell_type": "code",
   "execution_count": null,
   "id": "b7044498-dd64-4af2-a640-2098fb3d9ad0",
   "metadata": {},
   "outputs": [],
   "source": [
    "nn.init.kaiming_normal_(layer1.weight)"
   ]
  },
  {
   "cell_type": "code",
   "execution_count": null,
   "id": "4a0dc61e-0de1-4991-81e8-e3cd5b6abd21",
   "metadata": {},
   "outputs": [],
   "source": [
    "loss.backward()"
   ]
  },
  {
   "cell_type": "code",
   "execution_count": null,
   "id": "4ea03d48-c9f4-4616-b454-1bd75f4930e4",
   "metadata": {},
   "outputs": [],
   "source": [
    "l1.register_foward_hook(add_visualize)"
   ]
  },
  {
   "cell_type": "code",
   "execution_count": null,
   "id": "aa8c1c3e-088b-4899-9745-3dd8b0fec5ca",
   "metadata": {},
   "outputs": [],
   "source": [
    "def loss(loss_real, loss_fake):\n",
    "    return (loss_real + loss_fake) / 2"
   ]
  },
  {
   "cell_type": "code",
   "execution_count": null,
   "id": "fb1e02aa-58a2-4b02-aeb9-1fab378cf91b",
   "metadata": {},
   "outputs": [],
   "source": [
    "def sigmoid(x):\n",
    "    return 1 / (1 + -x.exp())"
   ]
  },
  {
   "cell_type": "code",
   "execution_count": null,
   "id": "4007c9cc-a127-4a93-bdc9-d59a13df7cd6",
   "metadata": {},
   "outputs": [],
   "source": [
    "class BottleneckResidualBlock(nn.Module):\n",
    "    def __init__(self, in_channels, bottleneck_channels, out_channels, stride):\n",
    "        super().__init__()\n",
    "        self.conv1 = nn.Conv2d(\n",
    "            in_channels, bottleneck_channels,\n",
    "            kernel_size=1, stride=1)\n",
    "        self.bn1 = nn.BatchNorm2d(bottleneck_channels)\n",
    "        self.act1 = nn.ReLU()\n",
    "        self.conv2 = nn.Conv2d(\n",
    "            bottleneck_channels, bottleneck_channels,\n",
    "            kernel_size=3, stride=stride, padding=1\n",
    "        )\n",
    "        self.bn2 = nn.BatchNorm2d(bottleneck_channels)\n",
    "        self.act2 = nn.ReLU()\n",
    "        self.conv3 = nn.Conv2d(\n",
    "            bottleneck_channels, out_channels,\n",
    "            kernel_size=1, stride=1\n",
    "        )\n",
    "        self.bn3 = nn.BatchNorm2d(out_channels)\n",
    "        \n",
    "        if stride != 1 or in_channels != out_channels:\n",
    "            self.downsample = ShortcutProjection(in_channels, out_channels, stride)\n",
    "        else:\n",
    "            self.downsample = nn.Identity()\n",
    "        \n",
    "    def forward(self, x):\n",
    "        residual = self.downsample(x)\n",
    "        out = self.act1(self.bn1(self.conv1(residual)))\n",
    "        out = self.act2(self.bn2(self.conv2(out)))\n",
    "        out = self.bn3(self.conv3(out))\n",
    "        \n",
    "        return self.act3(out + residual)"
   ]
  },
  {
   "cell_type": "code",
   "execution_count": null,
   "id": "adebffa8-ff9e-4809-b58d-69e48a6495b6",
   "metadata": {},
   "outputs": [],
   "source": [
    "stride != 1: smaller height, width\n",
    "in_channels != out_channels: # channels"
   ]
  },
  {
   "cell_type": "code",
   "execution_count": null,
   "id": "9e968116-e855-499c-bdce-c56d31b2b8e8",
   "metadata": {},
   "outputs": [],
   "source": [
    "residual, conv, bn, linear, pool "
   ]
  },
  {
   "cell_type": "code",
   "execution_count": null,
   "id": "27e5f228-7790-4198-b581-887ec3e4c5f1",
   "metadata": {},
   "outputs": [],
   "source": [
    "class ShortcutProjection(nn.Module):\n",
    "    def __init__(self, in_channels, out_channels, stride):\n",
    "        super().__init__()\n",
    "        self.model = nn.Sequential(\n",
    "            nn.Conv2d(in_channels, out_channels, stride)\n",
    "        )"
   ]
  },
  {
   "cell_type": "code",
   "execution_count": null,
   "id": "3b3cec3b-ec78-4ab2-b814-90827a05fc54",
   "metadata": {},
   "outputs": [],
   "source": [
    "conv = nn.Conv2d(\n",
    "    in_channels=3,\n",
    "    out_channels=5,\n",
    "    kernel_size=3,\n",
    "    stride=1, padding=1\n",
    ")"
   ]
  },
  {
   "cell_type": "code",
   "execution_count": null,
   "id": "3f7acb35-77ae-43c1-8009-d80a338a2181",
   "metadata": {},
   "outputs": [],
   "source": [
    "7, 3, 4, 4"
   ]
  },
  {
   "cell_type": "code",
   "execution_count": null,
   "id": "260ece37-cf09-4dae-af4d-21fc84bd683d",
   "metadata": {},
   "outputs": [],
   "source": [
    "flatten = nn.Flatten(start_dim=2, end_dim=3)"
   ]
  },
  {
   "cell_type": "code",
   "execution_count": null,
   "id": "8137a5e2-6a4c-4d43-a2ef-70a2005438eb",
   "metadata": {},
   "outputs": [],
   "source": [
    "rnn = nn.RNN(input_size=3, hidden_size=64, num_layers=4)"
   ]
  },
  {
   "cell_type": "code",
   "execution_count": null,
   "id": "7c9af5e5-f1ef-41f8-bb8a-13540dd7b63d",
   "metadata": {},
   "outputs": [],
   "source": [
    "z_mean, z_log_var, encoded, decoded"
   ]
  },
  {
   "cell_type": "code",
   "execution_count": null,
   "id": "815e1f0f-1d16-48db-b0f2-a7b6995be3dc",
   "metadata": {},
   "outputs": [],
   "source": [
    "class BatchNorm(nn.Module):\n",
    "    def __init__(self, mom, eps):\n",
    "        super().__init__()\n",
    "        self.mom, self.eps = mom, eps\n",
    "        \n",
    "        self.adds = nn.Parameter(torch.zeros(1))\n",
    "        self.mults = nn.Parameter(torch.ones(1))\n",
    "        \n",
    "        self.register_buffer('means', torch.zeros(1))\n",
    "        self.register_buffer('vars', torch.ones(1))\n",
    "    \n",
    "    def update_stats(self, x):\n",
    "        m, v = x.mean(), x.var()\n",
    "        self.means.lerp_(m, self.mom)\n",
    "        self.vars.lerp_(v, self.mom)\n",
    "        return m, v\n",
    "    \n",
    "    def forward(self, x):\n",
    "        with torch.no_grad():\n",
    "            mean, var = self.update_stats(x)\n",
    "        \n",
    "        # normalize\n",
    "        x = (x - mean) / (var + self.eps).sqrt()\n",
    "        \n",
    "        # scale\n",
    "        x = self.mults * x + self.adds\n",
    "        return x"
   ]
  },
  {
   "cell_type": "code",
   "execution_count": null,
   "id": "91e47694-b906-4970-a6b3-d50fdda354dc",
   "metadata": {},
   "outputs": [],
   "source": [
    "import pytorch_lightning as pl"
   ]
  },
  {
   "cell_type": "code",
   "execution_count": null,
   "id": "bcd626dd-b39f-4990-970f-9f92aa08c27f",
   "metadata": {},
   "outputs": [],
   "source": [
    "class lit_model(pl.LightningModule):\n",
    "    def __init__(self):\n",
    "        self.model = _model1\n",
    "    \n",
    "    def training_step(self, idx, batch):\n",
    "        x, y = batch\n",
    "        \n",
    "        pred = self.model(x)\n",
    "        loss = loss_func(pred, y)\n",
    "        \n",
    "        return loss"
   ]
  },
  {
   "cell_type": "code",
   "execution_count": null,
   "id": "ed953c5b-eb12-446e-b53a-a006c1b7f474",
   "metadata": {},
   "outputs": [],
   "source": [
    "class ShortcutProjection(nn.Module):\n",
    "    def __init__(self, in_channels, out_channels, stride):\n",
    "        self.model = nn.Sequential(\n",
    "            nn.Conv2d(\n",
    "                in_channels, out_channels,\n",
    "                kernel_size=1, stride=stride\n",
    "            ),\n",
    "            nn.BatchNorm2d(out_channels),\n",
    "        )\n",
    "    \n",
    "    def forward(self, x):\n",
    "        return self.model(x)"
   ]
  },
  {
   "cell_type": "code",
   "execution_count": null,
   "id": "4393bfa1-c77a-4a2a-8e4f-d93df2afcf2b",
   "metadata": {},
   "outputs": [],
   "source": [
    "class Lambda(nn.Module):\n",
    "    def __init__(self, func):\n",
    "        self.func = func\n",
    "    \n",
    "    def forward(self, x):\n",
    "        return self.func(x)"
   ]
  },
  {
   "cell_type": "code",
   "execution_count": null,
   "id": "9b19fbbc-0392-42d1-b79d-8584d25aeced",
   "metadata": {},
   "outputs": [],
   "source": [
    "def covariance(x, y):\n",
    "    prod = (x-x.mean())(y-y.mean())\n",
    "    return prod.mean()"
   ]
  },
  {
   "cell_type": "markdown",
   "id": "51095915-ce96-4a22-af19-cdf23a72dc12",
   "metadata": {},
   "source": [
    "### Python"
   ]
  },
  {
   "cell_type": "code",
   "execution_count": null,
   "id": "61dc8d5a-334f-4460-9fb4-c629a5f111c8",
   "metadata": {},
   "outputs": [],
   "source": [
    "FRAGIlity, inmobility, vis"
   ]
  },
  {
   "cell_type": "code",
   "execution_count": null,
   "id": "55e06e1f-16f7-42af-8f4a-8529fe20deb1",
   "metadata": {},
   "outputs": [],
   "source": [
    "from enum import Enum, auto"
   ]
  },
  {
   "cell_type": "code",
   "execution_count": null,
   "id": "6ff1086a-c0f6-43f0-a584-2941f942fa03",
   "metadata": {},
   "outputs": [],
   "source": [
    "class ImperialMeasure:\n",
    "    CUP = auto()\n",
    "    TEASPOON = auto()"
   ]
  },
  {
   "cell_type": "code",
   "execution_count": null,
   "id": "fa359a6e-529b-42f6-8838-cd025d6ebeac",
   "metadata": {},
   "outputs": [],
   "source": [
    "from dataclasses import dataclass"
   ]
  },
  {
   "cell_type": "code",
   "execution_count": null,
   "id": "1f32803c-1558-410b-b161-ac103e6fdd7a",
   "metadata": {},
   "outputs": [],
   "source": [
    "@dataclass\n",
    "class Ingredient:\n",
    "    name: str\n",
    "    amount: float\n",
    "    unit: ImperialMeasure"
   ]
  },
  {
   "cell_type": "code",
   "execution_count": null,
   "id": "afde93de-97e1-4a33-b69b-43ca4a0d9cc3",
   "metadata": {},
   "outputs": [],
   "source": [
    "from typing import List"
   ]
  },
  {
   "cell_type": "code",
   "execution_count": null,
   "id": "8de43dae-b5fc-4c13-b883-3ae607438db8",
   "metadata": {},
   "outputs": [],
   "source": [
    "@dataclass\n",
    "class Recipe:\n",
    "    meats: List[Ingredient]\n",
    "    starches: List[Ingredient]"
   ]
  },
  {
   "cell_type": "code",
   "execution_count": null,
   "id": "8b3a06b5-3149-467c-b130-480c27380657",
   "metadata": {},
   "outputs": [],
   "source": [
    "x[1:3:2, :3:2]"
   ]
  },
  {
   "cell_type": "markdown",
   "id": "33d3fa8c-c3f7-4edd-8614-ecb1a7e7f813",
   "metadata": {},
   "source": [
    "### Fastcore"
   ]
  },
  {
   "cell_type": "code",
   "execution_count": null,
   "id": "08919bad-d1ca-44ff-ad7c-b8cd459a9ef7",
   "metadata": {},
   "outputs": [],
   "source": [
    "from fastcore.meta import *"
   ]
  },
  {
   "cell_type": "code",
   "execution_count": null,
   "id": "f943a4e3-7a9e-4291-b203-4f0337804c9d",
   "metadata": {},
   "outputs": [],
   "source": [
    "from fastcore.basics import *"
   ]
  },
  {
   "cell_type": "code",
   "execution_count": null,
   "id": "74b82e4b-0fbe-4357-9a2f-b6c90b78c952",
   "metadata": {},
   "outputs": [],
   "source": [
    "class _T(Stateful):\n",
    "    def __init__(self):\n",
    "        super().__init__()\n",
    "        self.a = 1\n",
    "        self._state['test'] = 2"
   ]
  },
  {
   "cell_type": "code",
   "execution_count": null,
   "id": "e0c5d10a-6dfa-48b5-b005-8545b40edd46",
   "metadata": {},
   "outputs": [],
   "source": [
    "t = _T()"
   ]
  },
  {
   "cell_type": "code",
   "execution_count": null,
   "id": "87b59bc2-9318-48b9-911b-069c1823eb59",
   "metadata": {},
   "outputs": [],
   "source": [
    "from fastcore.all import *"
   ]
  },
  {
   "cell_type": "code",
   "execution_count": null,
   "id": "6ec7dc26-2ece-4dbe-9f0b-74adaf839ada",
   "metadata": {},
   "outputs": [],
   "source": [
    "class Foo:\n",
    "    _repr = basic_repr('a, b')"
   ]
  },
  {
   "cell_type": "code",
   "execution_count": null,
   "id": "b8b4b3ed-b738-40f2-97e1-8f23c8ed4748",
   "metadata": {},
   "outputs": [],
   "source": [
    "from typing import TYPE_CHECKING"
   ]
  },
  {
   "cell_type": "code",
   "execution_count": null,
   "id": "757a9899-9a10-45ab-946f-50029534df60",
   "metadata": {},
   "outputs": [],
   "source": [
    "if TYPE_CHECKING:\n",
    "    pass"
   ]
  },
  {
   "cell_type": "code",
   "execution_count": null,
   "id": "8dcab498-a9df-4b2a-8d71-4f362ad02aa1",
   "metadata": {},
   "outputs": [],
   "source": [
    "from typing import Protocol"
   ]
  },
  {
   "cell_type": "code",
   "execution_count": null,
   "id": "5e23d8d0-cbc4-4574-815a-cb6c639a5ae1",
   "metadata": {},
   "outputs": [],
   "source": [
    "class SupportLessThan(Protocol):\n",
    "    def __init__(self): pass\n",
    "    \n",
    "    def __lt__(self): pass"
   ]
  },
  {
   "cell_type": "code",
   "execution_count": null,
   "id": "4927c2d4-4243-4d24-ada1-334155cc5c02",
   "metadata": {},
   "outputs": [],
   "source": [
    "from typing import NoReturn"
   ]
  },
  {
   "cell_type": "code",
   "execution_count": null,
   "id": "1076dcc4-7c24-403a-8a23-ea171dae8497",
   "metadata": {},
   "outputs": [],
   "source": [
    "from unittest import TestCase"
   ]
  },
  {
   "cell_type": "code",
   "execution_count": null,
   "id": "cd4c342a-ae4c-47ca-827c-b9ceb8ad9b30",
   "metadata": {},
   "outputs": [],
   "source": [
    "import pytest"
   ]
  },
  {
   "cell_type": "code",
   "execution_count": null,
   "id": "919c4b8a-e297-44d8-b176-a1f1972018be",
   "metadata": {},
   "outputs": [
    {
     "ename": "SyntaxError",
     "evalue": "incomplete input (1196438437.py, line 3)",
     "output_type": "error",
     "traceback": [
      "\u001b[0;36m  Cell \u001b[0;32mIn [38], line 3\u001b[0;36m\u001b[0m\n\u001b[0;31m    def test_eq(self):\u001b[0m\n\u001b[0m                      ^\u001b[0m\n\u001b[0;31mSyntaxError\u001b[0m\u001b[0;31m:\u001b[0m incomplete input\n"
     ]
    }
   ],
   "source": [
    "class TestFeature(TestCase):\n",
    "    @pytest.mark.xfail\n",
    "    def test_eq(self):\n",
    "        self.assertEqual(a, b)"
   ]
  },
  {
   "cell_type": "code",
   "execution_count": null,
   "id": "a7fedc8d-acdb-4e74-b02b-aa554a20d0bb",
   "metadata": {},
   "outputs": [],
   "source": [
    "@pytest.mark.parametrize(\n",
    "    'test_input, expected',\n",
    "    (\n",
    "        [1, 1],\n",
    "        [2, 4]\n",
    "    )\n",
    ")\n",
    "def test_square(test_input, expected):\n",
    "    assert square(test_input) == expected"
   ]
  },
  {
   "cell_type": "code",
   "execution_count": null,
   "id": "3c39716a-703e-4586-b1c2-f222327b919f",
   "metadata": {},
   "outputs": [],
   "source": [
    "@pytest.fixture\n",
    "def book():\n",
    "    return Book(\"X\")"
   ]
  },
  {
   "cell_type": "code",
   "execution_count": null,
   "id": "47236066-ee98-4658-a9dd-3b38bd960098",
   "metadata": {},
   "outputs": [],
   "source": [
    "def test_book(book):\n",
    "    assert book.name == \"X\""
   ]
  },
  {
   "cell_type": "code",
   "execution_count": null,
   "id": "c0960fee-03d0-4180-8cf6-8467dfc15ee5",
   "metadata": {},
   "outputs": [],
   "source": [
    "from typing import Sequence"
   ]
  },
  {
   "cell_type": "code",
   "execution_count": null,
   "id": "000e7837-18fc-4bea-a194-79845d53da0f",
   "metadata": {},
   "outputs": [],
   "source": [
    "def foo(collections: Sequence[str]):\n",
    "    pass"
   ]
  },
  {
   "cell_type": "code",
   "execution_count": null,
   "id": "2531a7c8-c4da-452c-aba6-9c9bc4ccd6f0",
   "metadata": {},
   "outputs": [],
   "source": [
    "from typing import List"
   ]
  },
  {
   "cell_type": "code",
   "execution_count": null,
   "id": "a696a7af-2bbe-4bf2-b3fb-f3affc9b349e",
   "metadata": {},
   "outputs": [],
   "source": [
    "x: List[List[int]]"
   ]
  },
  {
   "cell_type": "code",
   "execution_count": null,
   "id": "2551ecf5-a28f-4c1c-878d-9a9d21ecb099",
   "metadata": {},
   "outputs": [],
   "source": [
    "def is_valid(value: bool = False) -> bool:\n",
    "    return value"
   ]
  },
  {
   "cell_type": "code",
   "execution_count": null,
   "id": "412cc5a2-5338-441d-a921-0bcf6b24b26c",
   "metadata": {},
   "outputs": [],
   "source": [
    "from typing import Set"
   ]
  },
  {
   "cell_type": "code",
   "execution_count": null,
   "id": "6761e343-1a18-494c-8609-aaf6fe10aec7",
   "metadata": {},
   "outputs": [],
   "source": [
    "x: set[str,...]"
   ]
  },
  {
   "cell_type": "code",
   "execution_count": null,
   "id": "efd8a6e8-8d56-445e-a2bb-41eae26c016c",
   "metadata": {},
   "outputs": [
    {
     "ename": "NameError",
     "evalue": "name 'a' is not defined",
     "output_type": "error",
     "traceback": [
      "\u001b[0;31m---------------------------------------------------------------------------\u001b[0m",
      "\u001b[0;31mNameError\u001b[0m                                 Traceback (most recent call last)",
      "Cell \u001b[0;32mIn [49], line 1\u001b[0m\n\u001b[0;32m----> 1\u001b[0m mask \u001b[38;5;241m=\u001b[39m (\u001b[43ma\u001b[49m \u001b[38;5;241m>\u001b[39m\u001b[38;5;241m=\u001b[39m \u001b[38;5;241m1\u001b[39m) \u001b[38;5;241m*\u001b[39m (a \u001b[38;5;241m<\u001b[39m\u001b[38;5;241m=\u001b[39m \u001b[38;5;241m4\u001b[39m)\n",
      "\u001b[0;31mNameError\u001b[0m: name 'a' is not defined"
     ]
    }
   ],
   "source": [
    "mask = (a >= 1) * (a <= 4)"
   ]
  },
  {
   "cell_type": "code",
   "execution_count": null,
   "id": "e955ef6a-2f5e-4158-b360-2b9b07737df9",
   "metadata": {},
   "outputs": [],
   "source": [
    "x[mask]"
   ]
  },
  {
   "cell_type": "code",
   "execution_count": null,
   "id": "4510c671-1cc5-4e99-8479-b1a9d05803d2",
   "metadata": {},
   "outputs": [],
   "source": [
    "def extra_stuff(func):\n",
    "    def inner(*args, **kwargs):\n",
    "        print('***')\n",
    "        func(*args, **kwargs)\n",
    "        print('***')\n",
    "    \n",
    "    return inner"
   ]
  },
  {
   "cell_type": "markdown",
   "id": "90537186-0644-4a85-be13-f1177b0ce1c3",
   "metadata": {},
   "source": [
    "### SymPy"
   ]
  },
  {
   "cell_type": "code",
   "execution_count": null,
   "id": "63d45e9c-0efa-4c56-a9fb-81442e9b5e08",
   "metadata": {},
   "outputs": [],
   "source": [
    "import sympy as smp"
   ]
  },
  {
   "cell_type": "code",
   "execution_count": null,
   "id": "6e471a46-332e-456a-aea0-6f59facd94ec",
   "metadata": {},
   "outputs": [],
   "source": [
    "smp.solve([eq1, eq2], [x, y])"
   ]
  },
  {
   "cell_type": "code",
   "execution_count": null,
   "id": "4d83cce8-7ec6-4354-8c67-daeb8142ee27",
   "metadata": {},
   "outputs": [],
   "source": [
    "have/has subject past_participle"
   ]
  },
  {
   "cell_type": "code",
   "execution_count": null,
   "id": "661b3d8b-0610-4a93-a774-20f0eec2e011",
   "metadata": {},
   "outputs": [],
   "source": [
    "will subject have"
   ]
  },
  {
   "cell_type": "code",
   "execution_count": null,
   "id": "acab246f-94cf-431d-ab3c-652dc5c27ddf",
   "metadata": {},
   "outputs": [],
   "source": [
    "subject have been v_ing"
   ]
  },
  {
   "cell_type": "code",
   "execution_count": null,
   "id": "62e8c4a3-a3ed-4693-a100-db298c287d32",
   "metadata": {},
   "outputs": [],
   "source": []
  }
 ],
 "metadata": {
  "kernelspec": {
   "display_name": "Python 3 (ipykernel)",
   "language": "python",
   "name": "python3"
  }
 },
 "nbformat": 4,
 "nbformat_minor": 5
}
