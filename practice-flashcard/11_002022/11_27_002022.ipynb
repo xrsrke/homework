{
 "cells": [
  {
   "cell_type": "markdown",
   "id": "eae5a8c7-f6e6-4f3f-a488-827ebaa2eec6",
   "metadata": {},
   "source": [
    "### Deep Learning"
   ]
  },
  {
   "cell_type": "code",
   "execution_count": null,
   "id": "dc681dec-640b-4889-9a7e-416f3770a18c",
   "metadata": {},
   "outputs": [],
   "source": [
    "Synthesis, Resample, Algorithm Level"
   ]
  },
  {
   "cell_type": "code",
   "execution_count": null,
   "id": "179e3191-8bc6-429a-a644-e29c0cea2bfe",
   "metadata": {},
   "outputs": [],
   "source": [
    "z_mean, z_log_var, encoded, decoded"
   ]
  },
  {
   "cell_type": "code",
   "execution_count": null,
   "id": "5fac10d8-f01c-42bf-8d1e-360706783b24",
   "metadata": {},
   "outputs": [],
   "source": [
    "def _to_numpy(x):\n",
    "    return x.detach().cpu().numpu().permute(1, 2, 0)"
   ]
  },
  {
   "cell_type": "code",
   "execution_count": null,
   "id": "4f9192e6-549a-41ed-b080-0c5e4097bb5b",
   "metadata": {},
   "outputs": [],
   "source": [
    "from torch.utils.data import DataLoader"
   ]
  },
  {
   "cell_type": "code",
   "execution_count": null,
   "id": "f79ab57c-0bb0-4f46-9d5f-6b2cb0dc4976",
   "metadata": {},
   "outputs": [],
   "source": [
    "train_dl = DataLoader(train_ds, batch_size=64)"
   ]
  },
  {
   "cell_type": "code",
   "execution_count": null,
   "id": "2273f8cb-5fc3-497a-bd70-439cab6d6df7",
   "metadata": {},
   "outputs": [],
   "source": [
    "def mnist_resize(x):\n",
    "    return x.view(-1, 1, 28, 28)"
   ]
  },
  {
   "cell_type": "code",
   "execution_count": null,
   "id": "7774a9ab-a69f-4fb6-bba0-683ea02a7621",
   "metadata": {},
   "outputs": [],
   "source": [
    "def covariance(x, y):\n",
    "    prod =  (x - x.mean())*(y - y.mean())\n",
    "    return propd.mean()"
   ]
  },
  {
   "cell_type": "code",
   "execution_count": null,
   "id": "9a6429d3-5bd3-4687-a37c-b1f972396dcb",
   "metadata": {},
   "outputs": [],
   "source": [
    "torch.bmm(inp1, inp2)"
   ]
  },
  {
   "cell_type": "code",
   "execution_count": null,
   "id": "edbda58b-9e4a-4dd9-8b1a-8f63264d4dea",
   "metadata": {},
   "outputs": [],
   "source": [
    "x.transpose(2, 1)"
   ]
  },
  {
   "cell_type": "code",
   "execution_count": null,
   "id": "02e1086f-425f-4571-95e8-cabd5bb237cf",
   "metadata": {},
   "outputs": [],
   "source": [
    "def compute_keys(vs, ks):\n",
    "    v = torch.stack(*vs)\n",
    "    k = torch.stack(*ks, dim=1)\n",
    "    return v @k"
   ]
  },
  {
   "cell_type": "code",
   "execution_count": null,
   "id": "b0cbb875-a722-4d78-afba-84811b3f85a4",
   "metadata": {},
   "outputs": [],
   "source": [
    "z_mean, z_log_var, encoded, decoded"
   ]
  },
  {
   "cell_type": "code",
   "execution_count": null,
   "id": "53d9de3b-5c2c-4fd3-997d-0e60537fa56b",
   "metadata": {},
   "outputs": [],
   "source": [
    "def loss_of_fake(loss_func, evaluated):\n",
    "    return loss_func(evaluated, torch.zeros_like(evaluated))"
   ]
  },
  {
   "cell_type": "code",
   "execution_count": null,
   "id": "f1839552-8dc4-4fd2-848d-c2946aa9627f",
   "metadata": {},
   "outputs": [],
   "source": [
    "from torch import nn"
   ]
  },
  {
   "cell_type": "code",
   "execution_count": null,
   "id": "4f8ed879-519b-4142-a239-87b0bda6a974",
   "metadata": {},
   "outputs": [],
   "source": [
    "class BottleneckResidualBlock(nn.Module):\n",
    "    def __init__(self, in_channels, bottleneck_channels, out_channels, stride):\n",
    "        super().__init__()\n",
    "        self.conv1 = nn.Conv2d(\n",
    "            in_channels, bottleneck_channels,\n",
    "            kernel_size=1, stride=1,\n",
    "        )\n",
    "        self.bn1 = nn.BatchNorm2d(bottleneck_channels)\n",
    "        self.act1 = nn.ReLU()\n",
    "        self.conv2 = nn.Conv2d(\n",
    "            bottleneck_channels, bottleneck_channels,\n",
    "            kernel_size=3, stride=stride, padding=1\n",
    "        )\n",
    "        self.bn2 = nn.BatchNorm2d(bottleneck_channels)\n",
    "        self.act2 = nn.ReLU()\n",
    "        self.conv3 = nn.Conv2d(\n",
    "            bottleneck_channels, out_channels, kernel_size=1,\n",
    "            stride=1\n",
    "        )\n",
    "        self.bn3 = nn.BatchNorm2d(out_channels)\n",
    "        self.act3 = nn.ReLU()\n",
    "        \n",
    "        if stride != 1 or in_channels != out_channels:\n",
    "            self.downsample = ShortcutProjection(in_channels, out_channels, stride)\n",
    "        else:\n",
    "            self.downsample = nn.Identity()\n",
    "            \n",
    "    def forward(self, x):\n",
    "        residual = self.downsample(x)\n",
    "        out = self.act1(self.bn1(self.conv1(x)))\n",
    "        out = self.act2(self.bn2(self.conv2(out)))\n",
    "        out = self.bn2(self.conv3(out))\n",
    "        \n",
    "        out += residual\n",
    "        return self.act3(out)"
   ]
  },
  {
   "cell_type": "code",
   "execution_count": null,
   "id": "80abf996-430b-4a6a-918a-9529660f1451",
   "metadata": {},
   "outputs": [],
   "source": [
    "class ShortcutProjection(nn.Module):\n",
    "    def __init__(self, in_channels, out_channels, stride=1):\n",
    "        self.conv = nn.Conv2d(\n",
    "            in_channels, out_channels,\n",
    "            kernel_size=1, stride=stride\n",
    "        )\n",
    "        self.bn = nn.BatchNorm2d(out_channels)\n",
    "    \n",
    "    def forward(self, x):\n",
    "        out = self.bn(self.conv(x))\n",
    "        return out"
   ]
  },
  {
   "cell_type": "code",
   "execution_count": null,
   "id": "c2522e15-12e4-4da1-aa86-14f0fc928335",
   "metadata": {},
   "outputs": [],
   "source": [
    "3"
   ]
  },
  {
   "cell_type": "code",
   "execution_count": null,
   "id": "604dc89f-1a5f-49cb-a1b1-48f5202e5325",
   "metadata": {},
   "outputs": [],
   "source": [
    "stride != 1: output smaller\n",
    "in_channels != out_channels: don't match channels"
   ]
  },
  {
   "cell_type": "code",
   "execution_count": null,
   "id": "474d88db-f6c9-4e9f-b0aa-94142de9b94e",
   "metadata": {},
   "outputs": [],
   "source": [
    "in, out, stride"
   ]
  },
  {
   "cell_type": "code",
   "execution_count": null,
   "id": "aefaaa0f-89ae-4676-a59b-a7b965f489c0",
   "metadata": {},
   "outputs": [],
   "source": [
    "conv, pool, linear"
   ]
  },
  {
   "cell_type": "code",
   "execution_count": null,
   "id": "0be8e2ce-f684-4f1c-8a0c-abb9b12fd111",
   "metadata": {},
   "outputs": [],
   "source": [
    "features from pool, conv"
   ]
  },
  {
   "cell_type": "code",
   "execution_count": null,
   "id": "df0d0ae1-edd7-49d9-8ffe-85d9a801cdf6",
   "metadata": {},
   "outputs": [],
   "source": [
    "5, 25, 25"
   ]
  },
  {
   "cell_type": "code",
   "execution_count": null,
   "id": "c4cc856d-9ca1-448c-84a7-c4eb42ed0867",
   "metadata": {},
   "outputs": [],
   "source": [
    "7, 4, 4"
   ]
  },
  {
   "cell_type": "code",
   "execution_count": null,
   "id": "43cfd9fe-e621-4d53-a5e7-fa29d935712b",
   "metadata": {},
   "outputs": [],
   "source": [
    "16, 26, 26"
   ]
  },
  {
   "cell_type": "code",
   "execution_count": null,
   "id": "d1e42214-60bf-4e11-bcf7-1e51af1530b4",
   "metadata": {},
   "outputs": [],
   "source": [
    "idx = torch.where(dsets.train[0][1] == 1.)"
   ]
  },
  {
   "cell_type": "code",
   "execution_count": null,
   "id": "95abc8ed-6edf-4cfb-8edf-0ac8cc79d4a0",
   "metadata": {},
   "outputs": [],
   "source": [
    "7, 3, 4, 4"
   ]
  },
  {
   "cell_type": "markdown",
   "id": "b17aef72-2fcc-4320-afb4-953eb07c6d63",
   "metadata": {},
   "source": [
    "### Python"
   ]
  },
  {
   "cell_type": "code",
   "execution_count": null,
   "id": "1efa8cfb-66ee-4f3c-8db0-86cf579db5d2",
   "metadata": {},
   "outputs": [],
   "source": [
    "from typing import TypeVar, NewType, Union, List"
   ]
  },
  {
   "cell_type": "code",
   "execution_count": null,
   "id": "00fb7017-cc6b-4929-8e62-5120d0ae407d",
   "metadata": {},
   "outputs": [],
   "source": [
    "NumberOfServing = int"
   ]
  },
  {
   "cell_type": "code",
   "execution_count": null,
   "id": "4ef15667-b258-403a-9e3f-1a144be14f29",
   "metadata": {},
   "outputs": [],
   "source": [
    "Ingredient = tuple[str, int, str]"
   ]
  },
  {
   "cell_type": "code",
   "execution_count": null,
   "id": "a2aa45c8-4a77-429a-b922-c33e39e4159e",
   "metadata": {},
   "outputs": [],
   "source": [
    "output = Union[List[NumberOfServing], List[Ingredient]]"
   ]
  },
  {
   "cell_type": "markdown",
   "id": "f2a655c3-d85a-4ba6-8e80-581866e80da8",
   "metadata": {},
   "source": [
    "### Numpy"
   ]
  },
  {
   "cell_type": "code",
   "execution_count": null,
   "id": "823411a9-e422-42be-b80e-38b2ec4c98a8",
   "metadata": {},
   "outputs": [],
   "source": [
    "import numpy as np"
   ]
  },
  {
   "cell_type": "code",
   "execution_count": null,
   "id": "c27d6298-443f-428a-9ca1-6f394bde449b",
   "metadata": {},
   "outputs": [],
   "source": [
    "get_the_first_vector = np.vectorize(f)"
   ]
  },
  {
   "cell_type": "code",
   "execution_count": null,
   "id": "32d1dbd1-aaf9-4c8e-8a02-2de5b0163f57",
   "metadata": {},
   "outputs": [],
   "source": [
    "ratings.groupby('title')['rating'].mean()"
   ]
  }
 ],
 "metadata": {
  "kernelspec": {
   "display_name": "Python 3 (ipykernel)",
   "language": "python",
   "name": "python3"
  }
 },
 "nbformat": 4,
 "nbformat_minor": 5
}
