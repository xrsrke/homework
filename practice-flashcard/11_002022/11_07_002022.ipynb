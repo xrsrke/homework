{
 "cells": [
  {
   "cell_type": "markdown",
   "id": "6f6691b1-daba-4bfb-83bb-6ef1d7664730",
   "metadata": {},
   "source": [
    "### Deep Learning"
   ]
  },
  {
   "cell_type": "code",
   "execution_count": 1,
   "id": "b6e8cec7-cab7-4609-afe9-a2f978d13bc3",
   "metadata": {},
   "outputs": [],
   "source": [
    "import torch"
   ]
  },
  {
   "cell_type": "code",
   "execution_count": 2,
   "id": "0a2ed701-39ea-462f-ac81-60a813a3921b",
   "metadata": {},
   "outputs": [],
   "source": [
    "def regularize_activation(loss, act, alpha):\n",
    "    loss += alpha * act.pow(2).mean()\n",
    "    return loss"
   ]
  },
  {
   "cell_type": "code",
   "execution_count": null,
   "id": "c4e3f980-a17d-4aaa-b002-3c0b79b387c5",
   "metadata": {},
   "outputs": [],
   "source": [
    "mults, add, "
   ]
  },
  {
   "cell_type": "code",
   "execution_count": null,
   "id": "83f86aa1-878c-41a3-8bac-60fd5b96606f",
   "metadata": {},
   "outputs": [],
   "source": [
    "saves with model, model to gpu"
   ]
  },
  {
   "cell_type": "code",
   "execution_count": 3,
   "id": "30cdd4c0-726c-4ac2-b628-d9eaf0352c8b",
   "metadata": {},
   "outputs": [],
   "source": [
    "import torch.nn as nn"
   ]
  },
  {
   "cell_type": "code",
   "execution_count": 48,
   "id": "e027dfbc-b758-493d-96af-5fcb3ac7f573",
   "metadata": {},
   "outputs": [],
   "source": [
    "class _BatchNorm(nn.Module):\n",
    "    def __init__(self, mom, eps):\n",
    "        super().__init__()\n",
    "        \n",
    "        self.mom = mom\n",
    "        self.eps = eps\n",
    "        \n",
    "        self.adds = nn.Parameter(torch.zeros(1))\n",
    "        self.mults = nn.Parameter(torch.ones(1))\n",
    "        \n",
    "        self.register_buffer('means', torch.zeros(1))\n",
    "        self.register_buffer('vars', torch.ones(1))\n",
    "    \n",
    "    def update_stats(self, x):\n",
    "        m = x.mean()\n",
    "        v = x.var()\n",
    "        self.means.lerp_(m, self.mom)\n",
    "        self.vars.lerp_(v, self.mom)\n",
    "        \n",
    "        return m, v\n",
    "\n",
    "    def forward(self, x):\n",
    "        m, v = self.update_stats(x)\n",
    "        \n",
    "        # normalize\n",
    "        x = (x - m) / (v + self.eps).sqrt()\n",
    "        \n",
    "        # scale and shift\n",
    "        return x*self.mults + self.adds"
   ]
  },
  {
   "cell_type": "code",
   "execution_count": 49,
   "id": "ea2dec0c-3b7f-405f-9723-bf57d9b7c9ea",
   "metadata": {},
   "outputs": [],
   "source": [
    "_activations = torch.arange(25).float()"
   ]
  },
  {
   "cell_type": "code",
   "execution_count": 50,
   "id": "04df666d-22c0-479f-8103-17ed20acef73",
   "metadata": {},
   "outputs": [],
   "source": [
    "_batch_norm = _BatchNorm(0.1, 1e-5)"
   ]
  },
  {
   "cell_type": "code",
   "execution_count": 51,
   "id": "b5db8fa5-b2c5-43aa-9c9f-79e1212b1a13",
   "metadata": {},
   "outputs": [],
   "source": [
    "_normalized = _batch_norm(_activations)"
   ]
  },
  {
   "cell_type": "code",
   "execution_count": 52,
   "id": "a096f13d-2257-428c-8e2f-d579cfba3778",
   "metadata": {},
   "outputs": [
    {
     "data": {
      "text/plain": [
       "(tensor(0., grad_fn=<MeanBackward0>), tensor(1.0000, grad_fn=<VarBackward0>))"
      ]
     },
     "execution_count": 52,
     "metadata": {},
     "output_type": "execute_result"
    }
   ],
   "source": [
    "_normalized.mean(), _normalized.var()"
   ]
  },
  {
   "cell_type": "code",
   "execution_count": 53,
   "id": "dc6e99ad-8dc9-432d-a433-d7b0986c49f4",
   "metadata": {},
   "outputs": [],
   "source": [
    "from urllib.request import urlretrieve"
   ]
  },
  {
   "cell_type": "code",
   "execution_count": 54,
   "id": "8ac5ab5c-bb6e-4ac8-9edd-97a7a843024d",
   "metadata": {},
   "outputs": [],
   "source": [
    "def download_dset(url, path):\n",
    "    urlretrieve(url, path)"
   ]
  },
  {
   "cell_type": "code",
   "execution_count": null,
   "id": "f6b85a82-dad0-4f0c-8274-c0acec9e4491",
   "metadata": {},
   "outputs": [],
   "source": [
    "batch_tfms"
   ]
  },
  {
   "cell_type": "code",
   "execution_count": 55,
   "id": "0f64a18b-5953-45ca-b1be-22354608a042",
   "metadata": {},
   "outputs": [],
   "source": [
    "from fastai.vision.all import *"
   ]
  },
  {
   "cell_type": "code",
   "execution_count": 56,
   "id": "686d2ab4-a247-4982-bc0b-37297b1a42be",
   "metadata": {},
   "outputs": [],
   "source": [
    "class _TestCallback(Callback):\n",
    "    def __init__(self):\n",
    "        self.activations = []\n",
    "    \n",
    "    def after_batch(self):\n",
    "        self.activations.append(self.pred)"
   ]
  },
  {
   "cell_type": "code",
   "execution_count": null,
   "id": "e02198c8-7d69-46ea-a7ac-b8395537d5fe",
   "metadata": {},
   "outputs": [],
   "source": [
    "optim.zero_grad()"
   ]
  },
  {
   "cell_type": "code",
   "execution_count": null,
   "id": "a765f018-4cec-49d3-8525-40a84f5ea60b",
   "metadata": {},
   "outputs": [],
   "source": [
    "init.kaiming_normal_"
   ]
  },
  {
   "cell_type": "code",
   "execution_count": null,
   "id": "0b4e21bd-f50a-4e34-9eab-8128e8949d34",
   "metadata": {},
   "outputs": [],
   "source": [
    "model.named_children()"
   ]
  },
  {
   "cell_type": "code",
   "execution_count": null,
   "id": "adb3c54a-ea76-463e-b5d4-ca3ed5f3533d",
   "metadata": {},
   "outputs": [],
   "source": [
    "model.children()"
   ]
  },
  {
   "cell_type": "code",
   "execution_count": null,
   "id": "eb3d6607-f08e-4c30-8046-5cb45ea67aa3",
   "metadata": {},
   "outputs": [],
   "source": [
    "l1.register_forward_hook(add_visualize)"
   ]
  },
  {
   "cell_type": "code",
   "execution_count": null,
   "id": "a16685ee-2dba-457d-9459-6a32c8606489",
   "metadata": {},
   "outputs": [],
   "source": [
    "l1.weight.data"
   ]
  },
  {
   "cell_type": "code",
   "execution_count": null,
   "id": "788d3295-45ea-478f-8ad4-d3847cbcecbf",
   "metadata": {},
   "outputs": [],
   "source": [
    "torch.lerp(a, b, m)"
   ]
  },
  {
   "cell_type": "code",
   "execution_count": null,
   "id": "6260894d-8d62-41b7-af91-7419903be834",
   "metadata": {},
   "outputs": [],
   "source": [
    "text = [ l.strip() + ' . ' for l in lines]"
   ]
  },
  {
   "cell_type": "code",
   "execution_count": 58,
   "id": "f182abf1-44af-4635-bd57-95923031a063",
   "metadata": {},
   "outputs": [],
   "source": [
    "def word_tokenizier(x):\n",
    "    return x.split(' ')"
   ]
  },
  {
   "cell_type": "code",
   "execution_count": 59,
   "id": "445f355b-5896-4819-ba1e-9e507375473b",
   "metadata": {},
   "outputs": [],
   "source": [
    "def fill_bernoulli(x, p):\n",
    "    return x.bernoulli_(p)"
   ]
  },
  {
   "cell_type": "code",
   "execution_count": 60,
   "id": "74cdfe90-0690-441c-8f5f-126cc8e5314b",
   "metadata": {},
   "outputs": [],
   "source": [
    "import torch.nn.functional as F"
   ]
  },
  {
   "cell_type": "code",
   "execution_count": 61,
   "id": "da7f5291-ce8c-4b87-acb4-885c08dbf7db",
   "metadata": {},
   "outputs": [],
   "source": [
    "class _LMModel3(nn.Module):\n",
    "    def __init__(self, vocab_sz, n_hidden):\n",
    "        self.i_h = nn.Embedding(vocab_sz, n_hidden)\n",
    "        self.h_h = nn.Linear(n_hidden, n_hidden)\n",
    "        self.h_o = nn.Linear(n_hidden, vocab_sz)\n",
    "        self.h = 0.\n",
    "    \n",
    "    def forward(self, x):\n",
    "        for i in range(3):\n",
    "            self.h = self.h + F.relu(self.i_h(x[:, i]))\n",
    "            self.h = F.relu(self.h_h(self.h))\n",
    "        \n",
    "        out = F.relu(self.h_o(self.h))\n",
    "        self.h = self.h.detach()\n",
    "        return out"
   ]
  },
  {
   "cell_type": "code",
   "execution_count": 62,
   "id": "4d5183ee-b278-4242-a08e-d7ace3121078",
   "metadata": {},
   "outputs": [],
   "source": [
    "def one_hot_encoding(n_elements, idx):\n",
    "    zeros = torch.zeros(n_elements)\n",
    "    zeros[idx] = 1\n",
    "    return zeros"
   ]
  },
  {
   "cell_type": "code",
   "execution_count": null,
   "id": "6a4b0566-8681-4155-b24e-c9e00e0cf766",
   "metadata": {},
   "outputs": [],
   "source": [
    "v = one_hot_decode(n_users, 3)"
   ]
  },
  {
   "cell_type": "code",
   "execution_count": null,
   "id": "296eaa0b-1f94-4390-9a02-53fd07fcc984",
   "metadata": {},
   "outputs": [],
   "source": [
    "user_factors.T @ v"
   ]
  },
  {
   "cell_type": "code",
   "execution_count": 64,
   "id": "17e2f462-1d10-490f-b6bc-4e717cee8e1e",
   "metadata": {},
   "outputs": [],
   "source": [
    "dblock = DataBlock(get_x = lambda r: r['fname'],\n",
    "                   get_y = lambda r: r['labels'])"
   ]
  },
  {
   "cell_type": "code",
   "execution_count": null,
   "id": "e894d958-c483-43c7-a6ee-68ac854e92f2",
   "metadata": {},
   "outputs": [],
   "source": [
    "datasets = dblock.datasets(df)"
   ]
  },
  {
   "cell_type": "code",
   "execution_count": 65,
   "id": "3704a9ea-63b3-4fd3-9cc2-9a44c93f3078",
   "metadata": {},
   "outputs": [],
   "source": [
    "from PIL import Image"
   ]
  },
  {
   "cell_type": "code",
   "execution_count": 66,
   "id": "1dbe7ae9-338c-481d-b05a-40b387a384e7",
   "metadata": {},
   "outputs": [],
   "source": [
    "def _scaled_arr(x):\n",
    "    x = (x * 255).round()\n",
    "    return Image.fromarray(x)"
   ]
  },
  {
   "cell_type": "code",
   "execution_count": 67,
   "id": "1d373259-7d4f-47b5-b348-88387dd5a849",
   "metadata": {},
   "outputs": [],
   "source": [
    "def cumulative_product(x):\n",
    "    return torch.cumprod(x)"
   ]
  },
  {
   "cell_type": "code",
   "execution_count": null,
   "id": "367c5ee2-5be7-4b57-b0a9-d52b00e55275",
   "metadata": {},
   "outputs": [],
   "source": [
    "(filter_1 * small_part).sum() + (filter_2 * small_part).sum()"
   ]
  },
  {
   "cell_type": "code",
   "execution_count": 70,
   "id": "38e59b40-c9bf-46c9-b54e-0c0c9113e778",
   "metadata": {},
   "outputs": [],
   "source": [
    "class _ListContainer:\n",
    "    def __init__(self, items):\n",
    "        self.items = items\n",
    "    \n",
    "    def __getitem__(self, idxs):\n",
    "        if isinstance(idxs[0], bool):\n",
    "            return [item for item, idx in zip(self.items, idxs) if idx]"
   ]
  },
  {
   "cell_type": "code",
   "execution_count": 72,
   "id": "aaff4f4c-925a-4e60-9f07-5f841ad8d49b",
   "metadata": {},
   "outputs": [],
   "source": [
    "class Optimizier:\n",
    "    def __init__(self, params, lr):\n",
    "        self.params = params\n",
    "        self.lr = lr\n",
    "    \n",
    "    def zero_grad(self):\n",
    "        for p in self.params:\n",
    "            p.grad.zero_()"
   ]
  },
  {
   "cell_type": "code",
   "execution_count": 73,
   "id": "2ecd8f92-0a05-4ca6-8a68-8acc01b7a35a",
   "metadata": {},
   "outputs": [],
   "source": [
    "def _linear_interpolation(start, end, momentum):\n",
    "    return start * (1-momentum) + end * momentum"
   ]
  },
  {
   "cell_type": "code",
   "execution_count": 74,
   "id": "9584f027-5fc1-434d-b349-2f99f3811f80",
   "metadata": {},
   "outputs": [],
   "source": [
    "def mse(pred, targ):\n",
    "    return (pred.squeeze(-1) - targ).pow(2).mean()"
   ]
  },
  {
   "cell_type": "markdown",
   "id": "c67857c0-be59-4faf-b7ea-82c15fcd159a",
   "metadata": {},
   "source": [
    "### Python"
   ]
  },
  {
   "cell_type": "code",
   "execution_count": 75,
   "id": "65d9e4c6-2ce5-416b-bc78-e20b01a23065",
   "metadata": {},
   "outputs": [],
   "source": [
    "from typing import Optional"
   ]
  },
  {
   "cell_type": "code",
   "execution_count": 76,
   "id": "1fd6d9b5-3093-4ad5-b4b4-a2b330b103ff",
   "metadata": {},
   "outputs": [],
   "source": [
    "def create_a_paper(color: Optional[str]):\n",
    "    return color"
   ]
  },
  {
   "cell_type": "code",
   "execution_count": 77,
   "id": "a1dae01a-2619-4f77-a5de-cc5e12a76f21",
   "metadata": {},
   "outputs": [],
   "source": [
    "from typing import Literal"
   ]
  },
  {
   "cell_type": "code",
   "execution_count": 78,
   "id": "71cd413d-339d-4fed-85fc-cb728f56f713",
   "metadata": {},
   "outputs": [],
   "source": [
    "class Eyelink:\n",
    "    def __init__(self, level: Literal[\"one\", \"two\", \"three\"]) -> None:\n",
    "        self.level = level"
   ]
  },
  {
   "cell_type": "code",
   "execution_count": 79,
   "id": "104789e6-f2c0-4367-8f6e-68c47c026bb9",
   "metadata": {},
   "outputs": [],
   "source": [
    "from typing import NewType"
   ]
  },
  {
   "cell_type": "code",
   "execution_count": null,
   "id": "18573bfe-fd23-49c1-8f73-9ee56a52ddd1",
   "metadata": {},
   "outputs": [],
   "source": [
    "ReadyToServeHotDog = NewType(\"ReadyToServeHotDog\", HotDog)"
   ]
  },
  {
   "cell_type": "code",
   "execution_count": null,
   "id": "ba2b5a0c-7544-4311-a605-cc66b7d79013",
   "metadata": {},
   "outputs": [],
   "source": [
    "def prepare_for_serving(hot_dot: HotDog) -> ReadyToServeHotDog:\n",
    "    return ReadyToServeHotDog(hot_dog)"
   ]
  },
  {
   "cell_type": "code",
   "execution_count": 80,
   "id": "f3b76489-cd39-42ce-952b-dc3bdd43d256",
   "metadata": {},
   "outputs": [],
   "source": [
    "from typing import Final"
   ]
  },
  {
   "cell_type": "code",
   "execution_count": 81,
   "id": "df314927-3c98-4109-9eec-a0613ba1b387",
   "metadata": {},
   "outputs": [],
   "source": [
    "SERVER_PWD: Final = 123"
   ]
  },
  {
   "cell_type": "code",
   "execution_count": 82,
   "id": "2ebb048a-9449-440f-a179-483e41e84be6",
   "metadata": {},
   "outputs": [],
   "source": [
    "ID = NewType(\"ID\", int)"
   ]
  },
  {
   "cell_type": "code",
   "execution_count": 83,
   "id": "81aab8aa-78ca-44ff-8acd-3c78c37a60e3",
   "metadata": {},
   "outputs": [],
   "source": [
    "Color = NewType(\"Color\", str)"
   ]
  },
  {
   "cell_type": "markdown",
   "id": "f03df371-4011-4439-9f28-77b86fb8aedd",
   "metadata": {},
   "source": [
    "### Deep Learning"
   ]
  },
  {
   "cell_type": "code",
   "execution_count": 104,
   "id": "332f8ad4-d0ad-4cda-9357-5a4d5a88c673",
   "metadata": {},
   "outputs": [],
   "source": [
    "class _BatchNorm(nn.Module):\n",
    "    def __init__(self, mom, eps):\n",
    "        super().__init__()\n",
    "        self.mom, self.eps = mom, eps\n",
    "        \n",
    "        self.adds = nn.Parameter(torch.zeros(1))\n",
    "        self.mults = nn.Parameter(torch.ones(1))\n",
    "        \n",
    "        self.register_buffer('means', torch.zeros(1))\n",
    "        self.register_buffer('vars', torch.ones(1))\n",
    "    \n",
    "    def update_stats(self, x):\n",
    "        m = x.mean()\n",
    "        v = x.var()\n",
    "        \n",
    "        self.means.lerp_(m, self.mom)\n",
    "        self.vars.lerp_(v, self.mom)\n",
    "        \n",
    "        return m, v\n",
    "    \n",
    "    def forward(self, x):\n",
    "        with torch.no_grad(): m, v = self.update_stats(x)\n",
    "        \n",
    "        # normalize\n",
    "        x = (x - m) / (v + self.eps).sqrt()\n",
    "        \n",
    "        # scale and shift\n",
    "        x = x * self.mults + self.adds\n",
    "        return x"
   ]
  },
  {
   "cell_type": "code",
   "execution_count": 105,
   "id": "ca493498-55e6-4489-bedc-03f7168f601a",
   "metadata": {},
   "outputs": [
    {
     "data": {
      "text/plain": [
       "tensor([ 0.,  1.,  2.,  3.,  4.,  5.,  6.,  7.,  8.,  9., 10., 11., 12., 13.,\n",
       "        14., 15., 16., 17., 18., 19., 20., 21., 22., 23., 24.])"
      ]
     },
     "execution_count": 105,
     "metadata": {},
     "output_type": "execute_result"
    }
   ],
   "source": [
    "_activations"
   ]
  },
  {
   "cell_type": "code",
   "execution_count": 106,
   "id": "87abdc94-66a3-4e83-b1e3-35b7237cd33b",
   "metadata": {},
   "outputs": [],
   "source": [
    "_batch_norm = _BatchNorm(0.1, 1e-5)"
   ]
  },
  {
   "cell_type": "code",
   "execution_count": 107,
   "id": "9d08d171-ce57-4dd2-863e-b1d7995849e0",
   "metadata": {},
   "outputs": [],
   "source": [
    "_n = _batch_norm(_activations)"
   ]
  },
  {
   "cell_type": "code",
   "execution_count": 108,
   "id": "5393be3c-7c05-4835-b976-86d8704a44d3",
   "metadata": {},
   "outputs": [
    {
     "data": {
      "text/plain": [
       "(tensor(0., grad_fn=<MeanBackward0>), tensor(1.0000, grad_fn=<VarBackward0>))"
      ]
     },
     "execution_count": 108,
     "metadata": {},
     "output_type": "execute_result"
    }
   ],
   "source": [
    "_n.mean(), _n.var()"
   ]
  },
  {
   "cell_type": "code",
   "execution_count": 109,
   "id": "bf5ee512-1b6f-49bd-bc46-dd8d3275f697",
   "metadata": {},
   "outputs": [],
   "source": [
    "def func(layer, inp, out):\n",
    "    add_log(layer, out)"
   ]
  },
  {
   "cell_type": "code",
   "execution_count": 110,
   "id": "81aae84b-49ed-4ad1-9616-c8fa08f5bca1",
   "metadata": {},
   "outputs": [],
   "source": [
    "def add_hook(model):\n",
    "    for l in model.layers:\n",
    "        l.register_forward_hook(func)"
   ]
  },
  {
   "cell_type": "code",
   "execution_count": 112,
   "id": "54829cf4-1590-4894-9d67-9368639685f6",
   "metadata": {},
   "outputs": [],
   "source": [
    "from torchvision import transforms as tfms"
   ]
  },
  {
   "cell_type": "code",
   "execution_count": 113,
   "id": "33a55f98-76b2-4645-80e6-8a22bea8a6c0",
   "metadata": {},
   "outputs": [],
   "source": [
    "transform = tfms.Compose([\n",
    "    tfms.ToTensor(),\n",
    "    tfms.Normalize(0.3, 0.9)\n",
    "])"
   ]
  },
  {
   "cell_type": "code",
   "execution_count": 114,
   "id": "dc2f485d-076e-4bc3-97f2-877ad86a01e9",
   "metadata": {},
   "outputs": [],
   "source": [
    "def binary(x):\n",
    "    return x.exp() / (1 + x.exp())"
   ]
  },
  {
   "cell_type": "code",
   "execution_count": null,
   "id": "7ec153a7-1481-4cec-8bc8-a3c6e4e2c3fd",
   "metadata": {},
   "outputs": [],
   "source": [
    "class _ListContainer:\n",
    "    def __init__(self, items):\n",
    "        self.items = items\n",
    "    \n",
    "    def __getitem__(self, idxs):\n",
    "        return self.items[idxs]"
   ]
  },
  {
   "cell_type": "markdown",
   "id": "166333f9-96e4-4358-99c4-12e43719de0f",
   "metadata": {},
   "source": [
    "### bash"
   ]
  },
  {
   "cell_type": "code",
   "execution_count": null,
   "id": "a6c9326e-ba9f-4a66-9bd9-b5ee59b2f531",
   "metadata": {},
   "outputs": [],
   "source": [
    "$HOME"
   ]
  },
  {
   "cell_type": "code",
   "execution_count": null,
   "id": "3641b566-2002-48ab-8306-9b24d38e590e",
   "metadata": {},
   "outputs": [],
   "source": [
    "${id: -3}"
   ]
  },
  {
   "cell_type": "code",
   "execution_count": null,
   "id": "f9d6acbd-8fc6-44c4-9e54-1b4066327ed3",
   "metadata": {},
   "outputs": [],
   "source": [
    "$PATH"
   ]
  },
  {
   "cell_type": "code",
   "execution_count": null,
   "id": "69e6a493-42d9-4a79-b1e2-a32fd4a78d5b",
   "metadata": {},
   "outputs": [],
   "source": [
    "${id:1:5}"
   ]
  },
  {
   "cell_type": "code",
   "execution_count": null,
   "id": "b667cfa3-fbc5-4531-9be0-cff60ab3c5b7",
   "metadata": {},
   "outputs": [],
   "source": [
    "echo {1..10}"
   ]
  },
  {
   "cell_type": "code",
   "execution_count": null,
   "id": "274508db-643f-4dfc-89ba-f7fb385364f0",
   "metadata": {},
   "outputs": [],
   "source": [
    "$?"
   ]
  },
  {
   "cell_type": "code",
   "execution_count": null,
   "id": "65b011eb-c58e-4e58-8fdd-3acb0edeed02",
   "metadata": {},
   "outputs": [],
   "source": [
    "${name^^}"
   ]
  },
  {
   "cell_type": "markdown",
   "id": "df09aa39-5309-4623-8f70-9512e52ecaa2",
   "metadata": {},
   "source": [
    "### SQL"
   ]
  },
  {
   "cell_type": "code",
   "execution_count": null,
   "id": "4ca12658-9edc-4972-ac06-97dbb234754d",
   "metadata": {},
   "outputs": [],
   "source": [
    "SELECT DISTINCT n_epochs, lr FROM training"
   ]
  },
  {
   "cell_type": "code",
   "execution_count": null,
   "id": "91810c95-b83c-4977-b5ef-2194438fd3b6",
   "metadata": {},
   "outputs": [],
   "source": [
    "SELECT * FROM predictions GROUP BY status ORDER BY accuracy DESC"
   ]
  },
  {
   "cell_type": "markdown",
   "id": "b527329f-d3be-491c-9a22-38a87ead1ebd",
   "metadata": {},
   "source": [
    "SELECT employees.emp_no, salaries.salary FROM employees JOIN salaries ON employees.emp_no = salaries.emp_no"
   ]
  },
  {
   "cell_type": "markdown",
   "id": "9c63449b-0014-4f16-990b-17e5cb0478eb",
   "metadata": {},
   "source": [
    "SELECT users.name, likes.like FROM users LEFT JOIN likes ON users.id = likes.user_id"
   ]
  },
  {
   "cell_type": "code",
   "execution_count": null,
   "id": "ad9e85cc-28f6-41ea-ab82-37a62b39772d",
   "metadata": {},
   "outputs": [],
   "source": [
    "SELECT * FROM datasets GROUP BY type HAVING COUNT(id) > 40"
   ]
  },
  {
   "cell_type": "code",
   "execution_count": null,
   "id": "e8234d7c-fbbf-4ef7-9676-4e1a44477ef9",
   "metadata": {},
   "outputs": [],
   "source": [
    "SELECT * FROM movies WHERE NOT review = 2 AND NOT review=3"
   ]
  },
  {
   "cell_type": "code",
   "execution_count": null,
   "id": "0e465d1c-b946-4506-a245-c2f08ac45389",
   "metadata": {},
   "outputs": [],
   "source": [
    "SELECT * FROM orders WHERE purchased_date <= time() - INTERVAL \"30 days\""
   ]
  }
 ],
 "metadata": {
  "kernelspec": {
   "display_name": "Python 3 (ipykernel)",
   "language": "python",
   "name": "python3"
  },
  "language_info": {
   "codemirror_mode": {
    "name": "ipython",
    "version": 3
   },
   "file_extension": ".py",
   "mimetype": "text/x-python",
   "name": "python",
   "nbconvert_exporter": "python",
   "pygments_lexer": "ipython3",
   "version": "3.9.12"
  }
 },
 "nbformat": 4,
 "nbformat_minor": 5
}
