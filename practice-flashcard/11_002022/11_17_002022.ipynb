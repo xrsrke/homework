{
 "cells": [
  {
   "cell_type": "markdown",
   "id": "6f5c1ddf-1cc7-43b1-a189-3686723629fe",
   "metadata": {},
   "source": [
    "### Deep Learning"
   ]
  },
  {
   "cell_type": "code",
   "execution_count": null,
   "id": "5a9b6421-7cd0-4843-9faf-d01ca60f72a0",
   "metadata": {},
   "outputs": [],
   "source": [
    "def sigmoid(x):\n",
    "    return 1 / 1 + -x.exp()"
   ]
  },
  {
   "cell_type": "code",
   "execution_count": null,
   "id": "a33a4aeb-64f0-4252-b32b-cbac37df5a50",
   "metadata": {},
   "outputs": [],
   "source": [
    "init vars, means, a, b"
   ]
  },
  {
   "cell_type": "code",
   "execution_count": null,
   "id": "4384a95c-4382-47c7-b90d-54e7931ceab6",
   "metadata": {},
   "outputs": [
    {
     "name": "stderr",
     "output_type": "stream",
     "text": [
      "/opt/homebrew/lib/python3.10/site-packages/tqdm/auto.py:22: TqdmWarning: IProgress not found. Please update jupyter and ipywidgets. See https://ipywidgets.readthedocs.io/en/stable/user_install.html\n",
      "  from .autonotebook import tqdm as notebook_tqdm\n"
     ]
    }
   ],
   "source": [
    "import torch"
   ]
  },
  {
   "cell_type": "code",
   "execution_count": null,
   "id": "4655e9c9-7d5e-46f5-b474-26e13aeec26c",
   "metadata": {},
   "outputs": [
    {
     "data": {
      "text/plain": [
       "False"
      ]
     },
     "execution_count": null,
     "metadata": {},
     "output_type": "execute_result"
    }
   ],
   "source": [
    "torch.cuda.is_available()"
   ]
  },
  {
   "cell_type": "code",
   "execution_count": null,
   "id": "9c218f8a-a3ad-4d80-967d-86a2faddbb72",
   "metadata": {},
   "outputs": [],
   "source": [
    "import torch.optim as optim"
   ]
  },
  {
   "cell_type": "code",
   "execution_count": null,
   "id": "c630ee59-f55a-433e-9ea4-a4b493b55630",
   "metadata": {},
   "outputs": [],
   "source": [
    "optim.SGD(model.parameters(), lr=0.1)"
   ]
  },
  {
   "cell_type": "code",
   "execution_count": null,
   "id": "af4fe2a4-04c4-4eb7-b625-f48eac005f42",
   "metadata": {},
   "outputs": [],
   "source": [
    "from fastai.vision.all import *"
   ]
  },
  {
   "cell_type": "code",
   "execution_count": null,
   "id": "30b7832a-fd04-450f-b64a-613d0b7c0401",
   "metadata": {},
   "outputs": [],
   "source": [
    "dblock = DataBlock(get_x=lambda r: r['fname'],\n",
    "                   get_y=lambda r: r:['labels'])"
   ]
  },
  {
   "cell_type": "code",
   "execution_count": null,
   "id": "6b02f869-86e3-4ed5-a082-a38d807fa16b",
   "metadata": {},
   "outputs": [],
   "source": [
    "empty promot -> clip's text encoder -> 2 embeddings -> concat"
   ]
  },
  {
   "cell_type": "code",
   "execution_count": null,
   "id": "cb2cdd5e-addc-42e8-ae11-f89ae964e74d",
   "metadata": {},
   "outputs": [],
   "source": [
    "x.transpose(2, 1)"
   ]
  },
  {
   "cell_type": "code",
   "execution_count": null,
   "id": "b8af57cb-e18d-4ee8-8f51-911dfb4ea917",
   "metadata": {},
   "outputs": [],
   "source": [
    "def compute_keys(vs, ws):\n",
    "    v = torch.stack([*vs])\n",
    "    w = torch.stack([*ws], dim=1)\n",
    "    \n",
    "    return v@w"
   ]
  },
  {
   "cell_type": "code",
   "execution_count": null,
   "id": "e9a05348-c2d2-4642-b67f-683fa7aad6c8",
   "metadata": {},
   "outputs": [],
   "source": [
    "torch.bmm(inp1, inp2)"
   ]
  },
  {
   "cell_type": "code",
   "execution_count": null,
   "id": "55e1cf90-4ec4-4bc1-bedc-c4943db62b63",
   "metadata": {},
   "outputs": [],
   "source": [
    "def sgd_step(parameter, lr):\n",
    "    return patameter.sub_(lr, parameter.grad)"
   ]
  },
  {
   "cell_type": "code",
   "execution_count": null,
   "id": "929f0764-2fb2-451d-a683-9e3ba7046cdf",
   "metadata": {},
   "outputs": [],
   "source": [
    "def print_parameters(layer):\n",
    "    for p in layer.parameters():\n",
    "        print(p.shape)"
   ]
  },
  {
   "cell_type": "code",
   "execution_count": null,
   "id": "7f499573-fcda-4b31-8020-01b8faead43f",
   "metadata": {},
   "outputs": [],
   "source": [
    "import torch.nn as nn"
   ]
  },
  {
   "cell_type": "code",
   "execution_count": null,
   "id": "7893e02e-148d-4ac9-842c-bdee476e86a9",
   "metadata": {},
   "outputs": [],
   "source": [
    "class Model(nn.Module):\n",
    "    def __init__(self, layers):\n",
    "        self.layers = [*layers]\n",
    "        \n",
    "        for i, l in enumerate(self.layers):\n",
    "            self.add_module(f\"this_is_layer_{i}\", l)"
   ]
  },
  {
   "cell_type": "code",
   "execution_count": null,
   "id": "a1fd8945-84ce-4f8a-8e64-f2319579496e",
   "metadata": {},
   "outputs": [],
   "source": [
    "class Optimizier:\n",
    "    def __init__(self, params, lr):\n",
    "        self.params = params\n",
    "        self.lr = lr\n",
    "    \n",
    "    def step(self):\n",
    "        with torch.no_grad():\n",
    "            for p in self.params:\n",
    "                p -= lr * p.grad.data"
   ]
  },
  {
   "cell_type": "code",
   "execution_count": null,
   "id": "762c8678-1a49-4152-8f65-a72a5a8a58d3",
   "metadata": {},
   "outputs": [],
   "source": [
    "optim = optim.SGD(model.parameter(), lr=0.3)"
   ]
  },
  {
   "cell_type": "code",
   "execution_count": null,
   "id": "4b6b7f3e-33db-40c9-a971-de4366eb214f",
   "metadata": {},
   "outputs": [],
   "source": [
    "def log_softmax(x):\n",
    "    softmax = x.exp() / x.exp().sum()\n",
    "    return softmax.log()"
   ]
  },
  {
   "cell_type": "code",
   "execution_count": null,
   "id": "6f4b87d7-20c3-469b-a0c9-2843308c0b2c",
   "metadata": {},
   "outputs": [],
   "source": [
    "def _linear_interpolation(start, end, momentum):\n",
    "    return star * (1-momentum) + end * momentum"
   ]
  },
  {
   "cell_type": "code",
   "execution_count": null,
   "id": "99d78d47-cd43-4d23-9eb6-eb23f77e1f3b",
   "metadata": {},
   "outputs": [],
   "source": [
    "(activation - mean) / (variance + self.eps).sqrt"
   ]
  },
  {
   "cell_type": "markdown",
   "id": "0ccf2ca6-3709-449f-957b-7bf42882fe6b",
   "metadata": {},
   "source": [
    "### Python"
   ]
  },
  {
   "cell_type": "code",
   "execution_count": null,
   "id": "cc7ff166-6d76-477c-863e-64ba0048f675",
   "metadata": {},
   "outputs": [],
   "source": [
    "from typing import Tuple, List"
   ]
  },
  {
   "cell_type": "code",
   "execution_count": null,
   "id": "9b0b9b80-6684-437c-bbc9-233f77753723",
   "metadata": {},
   "outputs": [],
   "source": [
    "NumberOfServing = int"
   ]
  },
  {
   "cell_type": "code",
   "execution_count": null,
   "id": "43676854-1fca-4a04-990b-fa505018ced1",
   "metadata": {},
   "outputs": [],
   "source": [
    "Ingredient = Tuple[str, int, str]"
   ]
  },
  {
   "cell_type": "code",
   "execution_count": null,
   "id": "7a588b9d-d04d-4e5a-8aa3-113da6f9160b",
   "metadata": {},
   "outputs": [],
   "source": [
    "output = List[Union[NumberOfServing, Ingredient]]"
   ]
  },
  {
   "cell_type": "code",
   "execution_count": null,
   "id": "cedc50b5-4b0b-435f-8d9f-ef393c0a133b",
   "metadata": {},
   "outputs": [],
   "source": [
    "class Database:\n",
    "    _instance = None\n",
    "    \n",
    "    def __new__(cls, *args):\n",
    "        if not cls._instance:\n",
    "            cls._instance = super().__new__(cls, *args)\n",
    "        \n",
    "        return cls._instance"
   ]
  },
  {
   "cell_type": "code",
   "execution_count": null,
   "id": "b9639679-202c-49ef-9b0b-72dc1000e82f",
   "metadata": {},
   "outputs": [],
   "source": [
    "from dataclasses import dataclass"
   ]
  },
  {
   "cell_type": "code",
   "execution_count": null,
   "id": "0b75ee18-edcc-43dd-b98d-264de7cfaca0",
   "metadata": {},
   "outputs": [],
   "source": [
    "from enum import Enum, auto"
   ]
  },
  {
   "cell_type": "code",
   "execution_count": null,
   "id": "1187ecc0-3046-40c7-8b79-b755290961b3",
   "metadata": {},
   "outputs": [],
   "source": [
    "from typing import Set"
   ]
  },
  {
   "cell_type": "code",
   "execution_count": null,
   "id": "0ab86379-a8db-43e5-8ac2-d59470de694b",
   "metadata": {},
   "outputs": [],
   "source": [
    "class ImperialMeasure(Enum):\n",
    "    CUP = auto()\n",
    "    TEASPOON = auto()"
   ]
  },
  {
   "cell_type": "code",
   "execution_count": null,
   "id": "1ebb6d27-8fb8-4b98-838c-25fbc7bffd56",
   "metadata": {},
   "outputs": [],
   "source": [
    "@dataclass\n",
    "class Ingredient:\n",
    "    name: str\n",
    "    amount: float\n",
    "    unit: ImperialMeasure"
   ]
  },
  {
   "cell_type": "code",
   "execution_count": null,
   "id": "f7ee1dcc-cd4d-49e8-bb26-64e574b7bc46",
   "metadata": {},
   "outputs": [],
   "source": [
    "@dataclass\n",
    "class Recipe:\n",
    "    meats: Set[Ingredient]\n",
    "    starches: Set[Ingredient]"
   ]
  },
  {
   "cell_type": "markdown",
   "id": "01a4fe7e-c745-4acb-83f2-7f84126eb7a7",
   "metadata": {},
   "source": [
    "### Docker"
   ]
  },
  {
   "cell_type": "code",
   "execution_count": null,
   "id": "cc9f7155-2b6b-4ebb-abae-2eb66c3d0df1",
   "metadata": {},
   "outputs": [],
   "source": [
    "docker build -t myapp:0.01 ./home"
   ]
  },
  {
   "cell_type": "code",
   "execution_count": null,
   "id": "57b010a3-7d5f-476a-a765-45f2d3cdfe7e",
   "metadata": {},
   "outputs": [],
   "source": [
    "docker run redis -p6000:1000"
   ]
  },
  {
   "cell_type": "markdown",
   "id": "872d3fad-9093-49d5-a955-edd1eb1919d8",
   "metadata": {},
   "source": [
    "### CI/CD"
   ]
  },
  {
   "cell_type": "code",
   "execution_count": null,
   "id": "39d3f54c-fc8e-4ec9-bcc3-43eba601967e",
   "metadata": {},
   "outputs": [],
   "source": [
    "name: integration test\n",
    "\n",
    "on: [push]\n",
    "\n",
    "jobs:\n",
    "    check-version:\n",
    "        runs-on: ubuntu-lastes\n",
    "        steps:\n",
    "            - name: echo a string\n",
    "              run: echo \"hello world\"\n",
    "            - name: check python version\n",
    "              run: python3 ---version"
   ]
  },
  {
   "cell_type": "markdown",
   "id": "4abaaf3a-1a95-4791-a721-c5c063f3c6c4",
   "metadata": {},
   "source": [
    "### fastcore"
   ]
  },
  {
   "cell_type": "code",
   "execution_count": null,
   "id": "391b3e22-8982-44d1-9d88-69a2d0ac7f27",
   "metadata": {},
   "outputs": [],
   "source": [
    "from fastcore.all import *"
   ]
  },
  {
   "cell_type": "code",
   "execution_count": null,
   "id": "6fa2e032-2647-4973-a711-de054b12a895",
   "metadata": {},
   "outputs": [],
   "source": [
    "from fastcore.dispatch import *"
   ]
  },
  {
   "cell_type": "code",
   "execution_count": null,
   "id": "29977f38-c874-4511-aece-46f8a77c9ff7",
   "metadata": {},
   "outputs": [],
   "source": [
    "@typedispatch\n",
    "def f(x: str, y: str): print(1)"
   ]
  },
  {
   "cell_type": "code",
   "execution_count": null,
   "id": "3dafdbb0-a949-4148-aa25-85ba3af230fd",
   "metadata": {},
   "outputs": [],
   "source": [
    "@typedispatch\n",
    "def f(x: int, y: int): print(2)"
   ]
  },
  {
   "cell_type": "code",
   "execution_count": null,
   "id": "d6d72ef3-0642-494f-92d7-37b99e45051e",
   "metadata": {},
   "outputs": [],
   "source": [
    "@typedispatch\n",
    "def f(x: float, y: int): print(3)"
   ]
  },
  {
   "cell_type": "code",
   "execution_count": null,
   "id": "5fd6a295-38cc-48ab-b776-a2216624d741",
   "metadata": {},
   "outputs": [
    {
     "name": "stdout",
     "output_type": "stream",
     "text": [
      "2\n"
     ]
    }
   ],
   "source": [
    "f(1, 2)"
   ]
  },
  {
   "cell_type": "code",
   "execution_count": null,
   "id": "0d98f845-6ec9-4c8f-b82c-54066ad6aa05",
   "metadata": {},
   "outputs": [
    {
     "name": "stdout",
     "output_type": "stream",
     "text": [
      "1\n"
     ]
    }
   ],
   "source": [
    "f('a', 'b')"
   ]
  },
  {
   "cell_type": "code",
   "execution_count": null,
   "id": "5e2466f4-7810-413e-aefe-5d453a4a30b3",
   "metadata": {},
   "outputs": [],
   "source": [
    "from fastcore.all import *"
   ]
  },
  {
   "cell_type": "code",
   "execution_count": null,
   "id": "20ab5ad6-9145-42a1-96ea-21f02354dd34",
   "metadata": {},
   "outputs": [],
   "source": [
    "class Foo:\n",
    "    def __init__(self, a, b):\n",
    "        self.a, self.b = a, b\n",
    "    \n",
    "    __repr__ = basic_repr('a, b')"
   ]
  },
  {
   "cell_type": "code",
   "execution_count": null,
   "id": "73dd824f-6265-4331-9874-c4c660a9ea7a",
   "metadata": {},
   "outputs": [
    {
     "data": {
      "text/plain": [
       "__main__.Foo(a=1, b=2)"
      ]
     },
     "execution_count": null,
     "metadata": {},
     "output_type": "execute_result"
    }
   ],
   "source": [
    "Foo(1, 2)"
   ]
  },
  {
   "cell_type": "code",
   "execution_count": null,
   "id": "aa772701-c3ca-4e4b-af60-8b86d76a26f9",
   "metadata": {},
   "outputs": [],
   "source": [
    "from fastcore.meta import *"
   ]
  },
  {
   "cell_type": "code",
   "execution_count": null,
   "id": "80f4d32a-2e53-4252-9e82-00166b70287b",
   "metadata": {},
   "outputs": [],
   "source": [
    "@funcs_kwargs\n",
    "class DataLoader:\n",
    "    _methods = ['before_batch', 'after_batch']\n",
    "    \n",
    "    def __init__(self, **kwargs): pass"
   ]
  },
  {
   "cell_type": "code",
   "execution_count": null,
   "id": "65e12d81-68c6-4bfb-a3b0-b8df9f54481f",
   "metadata": {},
   "outputs": [],
   "source": [
    "def before_batch(): return 1"
   ]
  },
  {
   "cell_type": "code",
   "execution_count": null,
   "id": "6754390c-310a-49c6-a76c-52717780a1eb",
   "metadata": {},
   "outputs": [],
   "source": [
    "def after_batch(): return 2"
   ]
  },
  {
   "cell_type": "code",
   "execution_count": null,
   "id": "0a615186-22b6-46b8-ad3b-14b8c814bfdc",
   "metadata": {},
   "outputs": [],
   "source": [
    "d = DataLoader(before_batch = before_batch, after_batch= lambda: 2)"
   ]
  },
  {
   "cell_type": "code",
   "execution_count": null,
   "id": "b043367b-9d3d-4973-94e0-068f6a6a811b",
   "metadata": {},
   "outputs": [],
   "source": [
    "@funcs_kwargs\n",
    "class DataLoader:\n",
    "    _methods = ['x']\n",
    "    \n",
    "    def __init__(self, **kwargs):\n",
    "        pass"
   ]
  },
  {
   "cell_type": "code",
   "execution_count": null,
   "id": "a2caae4a-58ea-43c1-9261-251e82e686ca",
   "metadata": {},
   "outputs": [],
   "source": [
    "d = DataLoader(x=lambda: 2)"
   ]
  },
  {
   "cell_type": "code",
   "execution_count": null,
   "id": "ac8890f5-f5bd-43f5-a31a-7f7d539375d4",
   "metadata": {},
   "outputs": [
    {
     "data": {
      "text/plain": [
       "<function __main__.<lambda>()>"
      ]
     },
     "execution_count": null,
     "metadata": {},
     "output_type": "execute_result"
    }
   ],
   "source": [
    "d.x"
   ]
  },
  {
   "cell_type": "code",
   "execution_count": null,
   "id": "e0de3b65-4ae8-4653-844b-2ee2c856baf5",
   "metadata": {},
   "outputs": [],
   "source": [
    "L(users).gotattr('id')"
   ]
  },
  {
   "cell_type": "markdown",
   "id": "d5bfae0e-4fb7-4b5a-90ed-b72ccfd88092",
   "metadata": {},
   "source": [
    "### SQL"
   ]
  },
  {
   "cell_type": "code",
   "execution_count": null,
   "id": "95c111af-61e2-46de-b530-9f3275f42fd6",
   "metadata": {},
   "outputs": [],
   "source": [
    "SELECT COUNT(emp_no) FROM training GROUP BY id"
   ]
  },
  {
   "cell_type": "markdown",
   "id": "208934d8-03f0-4561-8302-f6f021191f5a",
   "metadata": {},
   "source": [
    "### Python"
   ]
  },
  {
   "cell_type": "code",
   "execution_count": null,
   "id": "c8798fc2-ee1e-4d45-b61b-7bdfe3bdeac2",
   "metadata": {},
   "outputs": [],
   "source": [
    "import pytest"
   ]
  },
  {
   "cell_type": "code",
   "execution_count": null,
   "id": "bc7ae962-7837-4957-bf2a-3c0b4400eaa6",
   "metadata": {},
   "outputs": [
    {
     "ename": "Failed",
     "evalue": "DID NOT RAISE <class 'ValueError'>",
     "output_type": "error",
     "traceback": [
      "\u001b[0;31m---------------------------------------------------------------------------\u001b[0m",
      "\u001b[0;31mFailed\u001b[0m                                    Traceback (most recent call last)",
      "Cell \u001b[0;32mIn [64], line 1\u001b[0m\n\u001b[0;32m----> 1\u001b[0m \u001b[38;5;28;01mwith\u001b[39;00m pytest\u001b[38;5;241m.\u001b[39mraises(\u001b[38;5;167;01mValueError\u001b[39;00m) \u001b[38;5;28;01mas\u001b[39;00m err:\n\u001b[1;32m      2\u001b[0m     \u001b[38;5;28;01mpass\u001b[39;00m\n",
      "    \u001b[0;31m[... skipping hidden 1 frame]\u001b[0m\n",
      "File \u001b[0;32m/opt/homebrew/lib/python3.10/site-packages/_pytest/outcomes.py:194\u001b[0m, in \u001b[0;36mfail\u001b[0;34m(reason, pytrace, msg)\u001b[0m\n\u001b[1;32m    192\u001b[0m __tracebackhide__ \u001b[38;5;241m=\u001b[39m \u001b[38;5;28;01mTrue\u001b[39;00m\n\u001b[1;32m    193\u001b[0m reason \u001b[38;5;241m=\u001b[39m _resolve_msg_to_reason(\u001b[38;5;124m\"\u001b[39m\u001b[38;5;124mfail\u001b[39m\u001b[38;5;124m\"\u001b[39m, reason, msg)\n\u001b[0;32m--> 194\u001b[0m \u001b[38;5;28;01mraise\u001b[39;00m Failed(msg\u001b[38;5;241m=\u001b[39mreason, pytrace\u001b[38;5;241m=\u001b[39mpytrace)\n",
      "\u001b[0;31mFailed\u001b[0m: DID NOT RAISE <class 'ValueError'>"
     ]
    }
   ],
   "source": [
    "with pytest.raises(ValueError) as err:\n",
    "    pass"
   ]
  },
  {
   "cell_type": "code",
   "execution_count": null,
   "id": "13c9d6d8-32bd-4a7b-b32c-861bd45665ad",
   "metadata": {},
   "outputs": [],
   "source": [
    "class FunnyDict(dict):\n",
    "    def __getitem__(self, k):\n",
    "        if k not in self:\n",
    "            return \"Not found\"\n",
    "        \n",
    "        super().__getitem__(k)"
   ]
  },
  {
   "cell_type": "code",
   "execution_count": null,
   "id": "982c1ae6-0e93-45a0-88e9-1ba40a766d5e",
   "metadata": {},
   "outputs": [],
   "source": [
    "p = FunnyDict({\n",
    "    \"CA\": 22,\n",
    "    \"A\": 321\n",
    "})"
   ]
  },
  {
   "cell_type": "code",
   "execution_count": null,
   "id": "e5446f1d-5156-498d-bf48-9678e7757737",
   "metadata": {},
   "outputs": [
    {
     "data": {
      "text/plain": [
       "'Not found'"
      ]
     },
     "execution_count": null,
     "metadata": {},
     "output_type": "execute_result"
    }
   ],
   "source": [
    "p['x']"
   ]
  },
  {
   "cell_type": "code",
   "execution_count": null,
   "id": "d0eff1c8-e2ac-47ba-aacd-1ff58ae88732",
   "metadata": {},
   "outputs": [],
   "source": [
    "@dataclass(frozen=True)\n",
    "class Pen:\n",
    "    color: str\n",
    "    price: int"
   ]
  },
  {
   "cell_type": "code",
   "execution_count": null,
   "id": "2acc1569-9f6d-4222-aa9a-8ee2172f2ce4",
   "metadata": {},
   "outputs": [],
   "source": [
    " "
   ]
  },
  {
   "cell_type": "code",
   "execution_count": null,
   "id": "496e11be-7430-49b0-a308-3409ea49e600",
   "metadata": {},
   "outputs": [],
   "source": [
    "class P:\n",
    "    pass"
   ]
  },
  {
   "cell_type": "code",
   "execution_count": null,
   "id": "90a35531-3b9b-42d8-8bf1-4bc7349c64bd",
   "metadata": {},
   "outputs": [],
   "source": [
    "p = P()"
   ]
  },
  {
   "cell_type": "code",
   "execution_count": null,
   "id": "76b434ce-0a16-42ca-8187-ad4e46fba779",
   "metadata": {},
   "outputs": [],
   "source": [
    "p.__dict__['x'] = 1"
   ]
  },
  {
   "cell_type": "code",
   "execution_count": null,
   "id": "3442800d-c06e-4664-bc5b-c2cb611f0ff1",
   "metadata": {},
   "outputs": [
    {
     "data": {
      "text/plain": [
       "1"
      ]
     },
     "execution_count": null,
     "metadata": {},
     "output_type": "execute_result"
    }
   ],
   "source": [
    "p.x"
   ]
  },
  {
   "cell_type": "code",
   "execution_count": null,
   "id": "ab468f02-9e16-4fc7-b463-2d1508d456cf",
   "metadata": {},
   "outputs": [],
   "source": [
    "class UppercaseTuple(tuple):\n",
    "    def __new__(cls, iterable):\n",
    "        for i, arg in enumerate(iterable):\n",
    "            iterable[i] = arg.upper()\n",
    "        \n",
    "        return super().__new__(cls, iterable)\n",
    "    \n",
    "    def __init__(self, iterable):\n",
    "        self.iterable = iterable"
   ]
  },
  {
   "cell_type": "code",
   "execution_count": null,
   "id": "0287deb6-4462-4851-b6ee-8f53475a61cf",
   "metadata": {},
   "outputs": [],
   "source": [
    "x = UppercaseTuple([\"x\", \"y\"])"
   ]
  },
  {
   "cell_type": "code",
   "execution_count": null,
   "id": "b9c51a3f-ede3-49b0-aa67-da16f2b06de1",
   "metadata": {},
   "outputs": [
    {
     "data": {
      "text/plain": [
       "{'iterable': ['X', 'Y']}"
      ]
     },
     "execution_count": null,
     "metadata": {},
     "output_type": "execute_result"
    }
   ],
   "source": [
    "x.__dict__"
   ]
  },
  {
   "cell_type": "code",
   "execution_count": null,
   "id": "29325734-4b97-4e26-aab0-a73a626f3980",
   "metadata": {},
   "outputs": [],
   "source": [
    "class Bookshelf:\n",
    "    def __setitem__(self, k, v):\n",
    "        print(k, v)"
   ]
  },
  {
   "cell_type": "code",
   "execution_count": null,
   "id": "98ec7767-4580-4494-a845-4f005ee37448",
   "metadata": {},
   "outputs": [
    {
     "ename": "SyntaxError",
     "evalue": "invalid syntax (3555040461.py, line 6)",
     "output_type": "error",
     "traceback": [
      "\u001b[0;36m  Cell \u001b[0;32mIn [89], line 6\u001b[0;36m\u001b[0m\n\u001b[0;31m    if isinstance(other, Animal) && self.species == other.species:\u001b[0m\n\u001b[0m                                  ^\u001b[0m\n\u001b[0;31mSyntaxError\u001b[0m\u001b[0;31m:\u001b[0m invalid syntax\n"
     ]
    }
   ],
   "source": [
    "class Animal:\n",
    "    def __init__(self, species):\n",
    "        self.species = species\n",
    "    \n",
    "    def __ne__(self, other):\n",
    "        if isinstance(other, Animal) && self.species == other.species:\n",
    "            return True\n",
    "        else:\n",
    "            return True"
   ]
  },
  {
   "cell_type": "code",
   "execution_count": null,
   "id": "21ac9cb0-4fee-4446-b246-dc9e719a41b6",
   "metadata": {},
   "outputs": [],
   "source": [
    "from "
   ]
  },
  {
   "cell_type": "code",
   "execution_count": null,
   "id": "4d0486b9-2b4f-4bcd-8c29-7ceeec6c8659",
   "metadata": {},
   "outputs": [],
   "source": []
  },
  {
   "cell_type": "code",
   "execution_count": null,
   "id": "992fc350-8f31-4d21-8978-c842d0b75ac5",
   "metadata": {},
   "outputs": [],
   "source": [
    "name_bindings = {\n",
    "    \"status\": \"failed\"\n",
    "}"
   ]
  },
  {
   "cell_type": "code",
   "execution_count": null,
   "id": "ed7b1592-f491-4ef0-a581-585851251a17",
   "metadata": {},
   "outputs": [],
   "source": [
    "class my_metaclass(type): pass"
   ]
  },
  {
   "cell_type": "code",
   "execution_count": null,
   "id": "4bb09060-d8dd-440f-a5f3-6fc4704ac34c",
   "metadata": {},
   "outputs": [],
   "source": [
    "class Zoo:\n",
    "    def __init__(self):\n",
    "        self._roster = []\n",
    "    \n",
    "    def add(self, x):\n",
    "        self._roster.append(x)\n",
    "    \n",
    "    # def __getitem__(self, idx):\n",
    "    #     return self._roster[idx]\n",
    "    \n",
    "    def __contains__(self, x):\n",
    "        return x in self._roster"
   ]
  },
  {
   "cell_type": "code",
   "execution_count": null,
   "id": "5e13b037-7faf-4e66-820f-a809f4e911d1",
   "metadata": {},
   "outputs": [],
   "source": [
    "zoo = Zoo()"
   ]
  },
  {
   "cell_type": "code",
   "execution_count": null,
   "id": "b92b9b4b-0187-408e-b6cb-339f9ea7b6a2",
   "metadata": {},
   "outputs": [],
   "source": [
    "zoo.add(1)"
   ]
  },
  {
   "cell_type": "code",
   "execution_count": null,
   "id": "c16e0c44-dcf6-4da9-8ee6-35b835ad0523",
   "metadata": {},
   "outputs": [
    {
     "data": {
      "text/plain": [
       "[1]"
      ]
     },
     "execution_count": null,
     "metadata": {},
     "output_type": "execute_result"
    }
   ],
   "source": [
    "zoo._roster"
   ]
  },
  {
   "cell_type": "code",
   "execution_count": null,
   "id": "85831667-2de4-4498-962b-47bed10e5294",
   "metadata": {},
   "outputs": [],
   "source": [
    "zoo.add(2)"
   ]
  },
  {
   "cell_type": "code",
   "execution_count": null,
   "id": "be1be9f7-4a45-440e-9924-47871aebda3a",
   "metadata": {},
   "outputs": [
    {
     "data": {
      "text/plain": [
       "True"
      ]
     },
     "execution_count": null,
     "metadata": {},
     "output_type": "execute_result"
    }
   ],
   "source": [
    "1 in zoo"
   ]
  },
  {
   "cell_type": "code",
   "execution_count": null,
   "id": "14fdabcc-9272-4eb3-93e6-2daacfd33188",
   "metadata": {},
   "outputs": [],
   "source": [
    "class DoubleMutant(SARCov2):\n",
    "    @SARCov2.variant.setter\n",
    "    def variant(self, value):\n",
    "        if value == 'cosmi':\n",
    "            self._variant = value"
   ]
  },
  {
   "cell_type": "code",
   "execution_count": null,
   "id": "0c9d53a5-f8da-4f15-b6fe-3fe7a3ce1e81",
   "metadata": {},
   "outputs": [],
   "source": [
    "@patch\n",
    "def num_items(self: Learner):\n",
    "    return 'Works'"
   ]
  },
  {
   "cell_type": "code",
   "execution_count": null,
   "id": "395ed6f5-d602-4c05-97c1-996d6b30b062",
   "metadata": {},
   "outputs": [
    {
     "name": "stdout",
     "output_type": "stream",
     "text": [
      "hello shivon\n"
     ]
    }
   ],
   "source": [
    "print(\"hello {0}\".format(\"shivon\"))"
   ]
  },
  {
   "cell_type": "code",
   "execution_count": null,
   "id": "03843273-ee0c-4184-bdee-5c373721abd0",
   "metadata": {},
   "outputs": [],
   "source": [
    "from typing import Callable"
   ]
  },
  {
   "cell_type": "code",
   "execution_count": null,
   "id": "c88abfd8-a63a-482d-acef-27dac3a60a20",
   "metadata": {},
   "outputs": [],
   "source": [
    "def foo() -> Callable[[int, int], int]:\n",
    "    def add(x: int, y: int) -> int:\n",
    "        return x + y\n",
    "    \n",
    "    return add"
   ]
  },
  {
   "cell_type": "code",
   "execution_count": null,
   "id": "4ed15530-a570-4a3f-b3e6-edb5a76923b6",
   "metadata": {},
   "outputs": [
    {
     "name": "stdin",
     "output_type": "stream",
     "text": [
      "what is your age q\n"
     ]
    },
    {
     "ename": "ValueError",
     "evalue": "invalid literal for int() with base 10: 'q'",
     "output_type": "error",
     "traceback": [
      "\u001b[0;31m---------------------------------------------------------------------------\u001b[0m",
      "\u001b[0;31mValueError\u001b[0m                                Traceback (most recent call last)",
      "Cell \u001b[0;32mIn [108], line 1\u001b[0m\n\u001b[0;32m----> 1\u001b[0m age \u001b[38;5;241m=\u001b[39m \u001b[38;5;28;43mint\u001b[39;49m\u001b[43m(\u001b[49m\u001b[38;5;28;43minput\u001b[39;49m\u001b[43m(\u001b[49m\u001b[38;5;124;43m'\u001b[39;49m\u001b[38;5;124;43mwhat is your age\u001b[39;49m\u001b[38;5;124;43m'\u001b[39;49m\u001b[43m)\u001b[49m\u001b[43m)\u001b[49m\n",
      "\u001b[0;31mValueError\u001b[0m: invalid literal for int() with base 10: 'q'"
     ]
    }
   ],
   "source": [
    "age = int(input('what is your age'))"
   ]
  },
  {
   "cell_type": "code",
   "execution_count": null,
   "id": "32b29040-eb04-490b-b1a2-876cc2705d38",
   "metadata": {},
   "outputs": [
    {
     "name": "stdin",
     "output_type": "stream",
     "text": [
      "what is your age 2\n"
     ]
    }
   ],
   "source": [
    "try:\n",
    "    age = int(input('what is your age'))\n",
    "except ValueError as err:\n",
    "    print('please enter a number')"
   ]
  },
  {
   "cell_type": "code",
   "execution_count": null,
   "id": "99691453-2762-4956-b7d7-a1005439e9cd",
   "metadata": {},
   "outputs": [],
   "source": [
    "class UppercaseTuple(tuple):\n",
    "    def __new__(cls, iterable):\n",
    "        for i, arg in enumerate(iterable):\n",
    "            iterable[i] = arg.upper()\n",
    "        \n",
    "        return super().__new__(cls, iterable)\n",
    "\n",
    "    def __init__(self, iterable):\n",
    "        self.iterable = iterable"
   ]
  },
  {
   "cell_type": "code",
   "execution_count": null,
   "id": "9dd6b34d-a775-40f7-9016-9152d9091493",
   "metadata": {},
   "outputs": [],
   "source": [
    "u = UppercaseTuple([\"hello\", \"sh\"])"
   ]
  },
  {
   "cell_type": "code",
   "execution_count": null,
   "id": "17fcac5f-d9c9-4241-bcf2-17097a0f7227",
   "metadata": {},
   "outputs": [
    {
     "data": {
      "text/plain": [
       "{'iterable': ['HELLO', 'SH']}"
      ]
     },
     "execution_count": null,
     "metadata": {},
     "output_type": "execute_result"
    }
   ],
   "source": [
    "u.__dict__"
   ]
  },
  {
   "cell_type": "code",
   "execution_count": null,
   "id": "91819c56-6479-4357-8340-30f7488fb63b",
   "metadata": {},
   "outputs": [],
   "source": [
    "from unittest import TestCase"
   ]
  },
  {
   "cell_type": "code",
   "execution_count": null,
   "id": "c330a9fa-5fcc-4185-9cab-155a2da87e35",
   "metadata": {},
   "outputs": [],
   "source": [
    "import pytest"
   ]
  },
  {
   "cell_type": "code",
   "execution_count": null,
   "id": "7c6b5596-3f5d-45ab-a6b4-29ab8cb22d47",
   "metadata": {},
   "outputs": [],
   "source": [
    "class TestFeature(TestCase):\n",
    "    \n",
    "    @pytest.mark.xfail\n",
    "    def test_ab(self):\n",
    "        self.assertEqual(a, b)"
   ]
  },
  {
   "cell_type": "code",
   "execution_count": null,
   "id": "ba8f5d08-fc1a-4422-a15d-02401c1286a7",
   "metadata": {},
   "outputs": [
    {
     "ename": "TypeError",
     "evalue": "'type' object is not iterable",
     "output_type": "error",
     "traceback": [
      "\u001b[0;31m---------------------------------------------------------------------------\u001b[0m",
      "\u001b[0;31mTypeError\u001b[0m                                 Traceback (most recent call last)",
      "Cell \u001b[0;32mIn [124], line 1\u001b[0m\n\u001b[0;32m----> 1\u001b[0m \u001b[38;5;28;01mfor\u001b[39;00m w \u001b[38;5;129;01min\u001b[39;00m \u001b[38;5;28mlist\u001b[39m:\n\u001b[1;32m      2\u001b[0m     \u001b[38;5;28mprint\u001b[39m(w)\n",
      "\u001b[0;31mTypeError\u001b[0m: 'type' object is not iterable"
     ]
    }
   ],
   "source": [
    "for w in list:\n",
    "    print(w)"
   ]
  },
  {
   "cell_type": "code",
   "execution_count": null,
   "id": "6d20a1ac-9cd1-44cc-846a-d92fea377419",
   "metadata": {},
   "outputs": [
    {
     "ename": "SyntaxError",
     "evalue": "expected ':' (2071517241.py, line 1)",
     "output_type": "error",
     "traceback": [
      "\u001b[0;36m  Cell \u001b[0;32mIn [125], line 1\u001b[0;36m\u001b[0m\n\u001b[0;31m    def my_func(a: 'this is an interger' = 10)\u001b[0m\n\u001b[0m                                              ^\u001b[0m\n\u001b[0;31mSyntaxError\u001b[0m\u001b[0;31m:\u001b[0m expected ':'\n"
     ]
    }
   ],
   "source": [
    "def my_func(a: 'this is an interger' = 10)"
   ]
  },
  {
   "cell_type": "code",
   "execution_count": null,
   "id": "c2915791-5892-409a-a52f-db4a848aa4a3",
   "metadata": {},
   "outputs": [],
   "source": [
    "sort(d, key=key)"
   ]
  },
  {
   "cell_type": "code",
   "execution_count": null,
   "id": "08fea0fe-0ce7-4069-8571-4a6d51d2fc5a",
   "metadata": {},
   "outputs": [],
   "source": [
    "def outer_func():\n",
    "    x = 'hello'\n",
    "    \n",
    "    def inner_func():\n",
    "        nonlocal x\n",
    "        x = 'shivon'\n",
    "        \n",
    "    return inner_func()"
   ]
  },
  {
   "cell_type": "code",
   "execution_count": null,
   "id": "36456227-5362-409e-8a25-9d228630c5e5",
   "metadata": {},
   "outputs": [],
   "source": [
    "from typing import Protocol"
   ]
  },
  {
   "cell_type": "code",
   "execution_count": null,
   "id": "7ed0022c-d3dd-474a-b6a2-d1c21e0658f4",
   "metadata": {},
   "outputs": [],
   "source": [
    "class SupportLesThan(Protocol):\n",
    "    def __lt__(self): pass"
   ]
  },
  {
   "cell_type": "code",
   "execution_count": null,
   "id": "c5ad980f-96d7-4bb1-b081-c890a4dcf099",
   "metadata": {},
   "outputs": [],
   "source": [
    "from typing import NoReturn"
   ]
  },
  {
   "cell_type": "code",
   "execution_count": null,
   "id": "707aaecb-5643-4524-9f65-ae18b8064908",
   "metadata": {},
   "outputs": [],
   "source": [
    "def exit() -> NoReturn:\n",
    "    pass"
   ]
  },
  {
   "cell_type": "code",
   "execution_count": null,
   "id": "ecb90cbe-b0bc-4daa-be4b-7afc44a71f3c",
   "metadata": {},
   "outputs": [],
   "source": [
    "import pytest"
   ]
  },
  {
   "cell_type": "code",
   "execution_count": null,
   "id": "16510ffa-9cf1-41c6-8f33-a5500c079e4c",
   "metadata": {},
   "outputs": [],
   "source": [
    "@pytest.mark.parametrize(\n",
    "    \"test_input, expected\",\n",
    "    [\n",
    "        (1, 1),\n",
    "        (2, 4)\n",
    "    ]\n",
    ")\n",
    "def test_square(test_input, expected):\n",
    "    pass"
   ]
  },
  {
   "cell_type": "code",
   "execution_count": null,
   "id": "b4dfd3b8-af88-4540-92c4-b9f416934467",
   "metadata": {},
   "outputs": [],
   "source": [
    "x[[:, 1:3:2]]"
   ]
  },
  {
   "cell_type": "code",
   "execution_count": null,
   "id": "dbe41040-4d00-48ed-9a17-2a398f308ecb",
   "metadata": {},
   "outputs": [],
   "source": [
    "for "
   ]
  }
 ],
 "metadata": {
  "kernelspec": {
   "display_name": "Python 3 (ipykernel)",
   "language": "python",
   "name": "python3"
  }
 },
 "nbformat": 4,
 "nbformat_minor": 5
}
