{
 "cells": [
  {
   "cell_type": "code",
   "execution_count": null,
   "id": "21b8339f-fbed-4ea0-adf4-f53932cc6b06",
   "metadata": {},
   "outputs": [
    {
     "data": {
      "text/plain": [
       "3-element Vector{Int64}:\n",
       " 1\n",
       " 2\n",
       " 3"
      ]
     },
     "execution_count": null,
     "metadata": {},
     "output_type": "execute_result"
    }
   ],
   "source": [
    "xs = [1, 2, 3]"
   ]
  },
  {
   "cell_type": "code",
   "execution_count": null,
   "id": "8259600b-4536-45cf-8ddc-e981eda504ce",
   "metadata": {},
   "outputs": [
    {
     "data": {
      "text/plain": [
       "3-element Vector{Int64}:\n",
       " 1\n",
       " 2\n",
       " 3"
      ]
     },
     "execution_count": null,
     "metadata": {},
     "output_type": "execute_result"
    }
   ],
   "source": [
    "xs"
   ]
  },
  {
   "cell_type": "code",
   "execution_count": null,
   "id": "b4c48215-57af-47e6-97cc-64b38fbfb097",
   "metadata": {},
   "outputs": [
    {
     "data": {
      "text/plain": [
       "3-element Vector{Int64}:\n",
       " 1\n",
       " 4\n",
       " 9"
      ]
     },
     "execution_count": null,
     "metadata": {},
     "output_type": "execute_result"
    }
   ],
   "source": [
    "map(x -> x^2, xs)"
   ]
  },
  {
   "cell_type": "code",
   "execution_count": null,
   "id": "ffcca897-b716-483f-89fa-b1b800490e6b",
   "metadata": {},
   "outputs": [
    {
     "data": {
      "text/plain": [
       "add (generic function with 1 method)"
      ]
     },
     "execution_count": null,
     "metadata": {},
     "output_type": "execute_result"
    }
   ],
   "source": [
    "function add(x::Int, y::Int)\n",
    "    return x + y\n",
    "end"
   ]
  },
  {
   "cell_type": "code",
   "execution_count": null,
   "id": "0ba0f393-c619-4304-8724-973d4f764415",
   "metadata": {},
   "outputs": [
    {
     "data": {
      "text/plain": [
       "4"
      ]
     },
     "execution_count": null,
     "metadata": {},
     "output_type": "execute_result"
    }
   ],
   "source": [
    "var_b = 4"
   ]
  },
  {
   "cell_type": "code",
   "execution_count": null,
   "id": "67c37039-2697-4b94-bcb3-2721efa362e9",
   "metadata": {},
   "outputs": [
    {
     "data": {
      "text/plain": [
       "false"
      ]
     },
     "execution_count": null,
     "metadata": {},
     "output_type": "execute_result"
    }
   ],
   "source": [
    "!(var_b >= 2)"
   ]
  },
  {
   "cell_type": "code",
   "execution_count": null,
   "id": "8646bebf-18fa-465b-b8f4-00e44059dd8d",
   "metadata": {},
   "outputs": [],
   "source": [
    "collect(Float64, xs)"
   ]
  },
  {
   "cell_type": "code",
   "execution_count": null,
   "id": "aa45442f-e8a8-41ab-9cec-cb9299aaa10c",
   "metadata": {},
   "outputs": [
    {
     "ename": "LoadError",
     "evalue": "UndefVarError: Vehicle not defined",
     "output_type": "error",
     "traceback": [
      "UndefVarError: Vehicle not defined",
      "",
      "Stacktrace:",
      " [1] top-level scope",
      "   @ In[8]:1",
      " [2] eval",
      "   @ ./boot.jl:368 [inlined]",
      " [3] include_string(mapexpr::typeof(REPL.softscope), mod::Module, code::String, filename::String)",
      "   @ Base ./loading.jl:1428"
     ]
    }
   ],
   "source": [
    "struct Starship <: Vehicle\n",
    "    n_engines\n",
    "end"
   ]
  },
  {
   "cell_type": "code",
   "execution_count": null,
   "id": "c91a01fc-ba2b-41f5-9ce6-27dfada229be",
   "metadata": {},
   "outputs": [],
   "source": [
    "map(f, xs)"
   ]
  },
  {
   "cell_type": "code",
   "execution_count": null,
   "id": "76103612-d87a-4981-9615-efa91aabd5c6",
   "metadata": {},
   "outputs": [
    {
     "data": {
      "text/plain": [
       "1:3"
      ]
     },
     "execution_count": null,
     "metadata": {},
     "output_type": "execute_result"
    }
   ],
   "source": [
    "1:3"
   ]
  },
  {
   "cell_type": "code",
   "execution_count": null,
   "id": "f9d3d49e-88c7-4cb8-b8ff-2d06ea069682",
   "metadata": {},
   "outputs": [
    {
     "data": {
      "text/plain": [
       "(one = \"falcon 1\", two = \"falcon 9\")"
      ]
     },
     "execution_count": null,
     "metadata": {},
     "output_type": "execute_result"
    }
   ],
   "source": [
    "rockets = (one=\"falcon 1\", two=\"falcon 9\")"
   ]
  },
  {
   "cell_type": "code",
   "execution_count": null,
   "id": "6d977024-3ba1-4aa6-95ce-a1a779400bb3",
   "metadata": {},
   "outputs": [
    {
     "data": {
      "text/plain": [
       "\"falcon 1\""
      ]
     },
     "execution_count": null,
     "metadata": {},
     "output_type": "execute_result"
    }
   ],
   "source": [
    "rockets.one"
   ]
  },
  {
   "cell_type": "code",
   "execution_count": null,
   "id": "611c44ac-77fc-4a29-9e50-0f0e5102bfcc",
   "metadata": {},
   "outputs": [
    {
     "data": {
      "text/plain": [
       "\"falcon 9\""
      ]
     },
     "execution_count": null,
     "metadata": {},
     "output_type": "execute_result"
    }
   ],
   "source": [
    "rockets.two"
   ]
  },
  {
   "cell_type": "code",
   "execution_count": null,
   "id": "3406b232-8fbf-4e55-a187-71d6622d65fc",
   "metadata": {},
   "outputs": [
    {
     "data": {
      "text/plain": [
       "3-element Vector{Int64}:\n",
       " 1\n",
       " 2\n",
       " 3"
      ]
     },
     "execution_count": null,
     "metadata": {},
     "output_type": "execute_result"
    }
   ],
   "source": [
    "v = [1, 2, 3]"
   ]
  },
  {
   "cell_type": "code",
   "execution_count": null,
   "id": "685b6699-4cf6-43f6-a045-f674f5d4b5b1",
   "metadata": {},
   "outputs": [
    {
     "data": {
      "text/plain": [
       "4-element Vector{Int64}:\n",
       " 1\n",
       " 2\n",
       " 3\n",
       " 1"
      ]
     },
     "execution_count": null,
     "metadata": {},
     "output_type": "execute_result"
    }
   ],
   "source": [
    "push!(v, 1)"
   ]
  },
  {
   "cell_type": "code",
   "execution_count": null,
   "id": "d936c7dc-55f6-41c9-8e7b-0f3c1bdc44f6",
   "metadata": {},
   "outputs": [
    {
     "data": {
      "text/plain": [
       "5-element Vector{Float64}:\n",
       " 0.0\n",
       " 0.0\n",
       " 0.0\n",
       " 0.0\n",
       " 0.0"
      ]
     },
     "execution_count": null,
     "metadata": {},
     "output_type": "execute_result"
    }
   ],
   "source": [
    "xs = zeros(5)"
   ]
  },
  {
   "cell_type": "code",
   "execution_count": null,
   "id": "b7f3aea8-03c4-4cd8-be8e-bf80c8f50185",
   "metadata": {},
   "outputs": [
    {
     "data": {
      "text/plain": [
       "3-element Vector{Int64}:\n",
       " 1\n",
       " 2\n",
       " 3"
      ]
     },
     "execution_count": null,
     "metadata": {},
     "output_type": "execute_result"
    }
   ],
   "source": [
    "xs[2:4] = [1, 2, 3]"
   ]
  },
  {
   "cell_type": "code",
   "execution_count": null,
   "id": "543c576a-d5d8-4651-b633-679d564d8efe",
   "metadata": {},
   "outputs": [
    {
     "data": {
      "text/plain": [
       "5-element Vector{Float64}:\n",
       " 0.0\n",
       " 1.0\n",
       " 2.0\n",
       " 3.0\n",
       " 0.0"
      ]
     },
     "execution_count": null,
     "metadata": {},
     "output_type": "execute_result"
    }
   ],
   "source": [
    "xs"
   ]
  },
  {
   "cell_type": "code",
   "execution_count": null,
   "id": "2792245a-bf25-41d5-a2ec-ba9077dec2e5",
   "metadata": {},
   "outputs": [],
   "source": [
    "xs[2, :]"
   ]
  },
  {
   "cell_type": "code",
   "execution_count": null,
   "id": "b6982fcf-4831-4a30-8d81-1e1f8ed1cb16",
   "metadata": {},
   "outputs": [],
   "source": [
    "xs[]"
   ]
  },
  {
   "cell_type": "code",
   "execution_count": null,
   "id": "ba8a9979-3525-48d4-8311-69f9710c3dee",
   "metadata": {},
   "outputs": [
    {
     "data": {
      "text/plain": [
       "Inf"
      ]
     },
     "execution_count": null,
     "metadata": {},
     "output_type": "execute_result"
    }
   ],
   "source": [
    "try\n",
    "    1/0\n",
    "catch e\n",
    "    println(e)\n",
    "end"
   ]
  },
  {
   "cell_type": "code",
   "execution_count": null,
   "id": "05e0de25-dd90-4d1d-a264-42c8699a5c4a",
   "metadata": {},
   "outputs": [],
   "source": [
    "abstract type Vehicle end"
   ]
  },
  {
   "cell_type": "code",
   "execution_count": null,
   "id": "0e1818dc-2ed5-4b8b-aa89-fc3ca33d74d4",
   "metadata": {},
   "outputs": [],
   "source": [
    "struct Book\n",
    "    name::String\n",
    "end"
   ]
  },
  {
   "cell_type": "code",
   "execution_count": null,
   "id": "535330e8-dc1a-4dff-8cde-ff18cf504047",
   "metadata": {},
   "outputs": [
    {
     "data": {
      "text/plain": [
       "Book(\"A\")"
      ]
     },
     "execution_count": null,
     "metadata": {},
     "output_type": "execute_result"
    }
   ],
   "source": [
    "h = Book(\"A\")"
   ]
  },
  {
   "cell_type": "code",
   "execution_count": null,
   "id": "a6a8dd10-2ce4-4229-a87f-f306749dc097",
   "metadata": {},
   "outputs": [
    {
     "data": {
      "text/plain": [
       "\"A\""
      ]
     },
     "execution_count": null,
     "metadata": {},
     "output_type": "execute_result"
    }
   ],
   "source": [
    "h.name"
   ]
  },
  {
   "cell_type": "code",
   "execution_count": null,
   "id": "3c7d24be-d0f5-4720-b198-3c5731cb54f5",
   "metadata": {},
   "outputs": [],
   "source": [
    "mutable struct Computer\n",
    "    os::String\n",
    "end"
   ]
  },
  {
   "cell_type": "code",
   "execution_count": null,
   "id": "d317cb26-bf3b-43dc-b988-045c9e5a9d13",
   "metadata": {},
   "outputs": [],
   "source": []
  }
 ],
 "metadata": {
  "kernelspec": {
   "display_name": "Julia 1.8.2",
   "language": "julia",
   "name": "julia-1.8"
  }
 },
 "nbformat": 4,
 "nbformat_minor": 5
}
