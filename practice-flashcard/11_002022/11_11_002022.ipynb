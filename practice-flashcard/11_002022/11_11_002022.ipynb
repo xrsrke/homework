{
 "cells": [
  {
   "cell_type": "markdown",
   "id": "6196212b",
   "metadata": {},
   "source": [
    "### Deep Learning"
   ]
  },
  {
   "cell_type": "code",
   "execution_count": null,
   "id": "6d1a2fcf",
   "metadata": {},
   "outputs": [
    {
     "ename": "ModuleNotFoundError",
     "evalue": "No module named 'torch'",
     "output_type": "error",
     "traceback": [
      "\u001b[0;31m---------------------------------------------------------------------------\u001b[0m",
      "\u001b[0;31mModuleNotFoundError\u001b[0m                       Traceback (most recent call last)",
      "Cell \u001b[0;32mIn [2], line 1\u001b[0m\n\u001b[0;32m----> 1\u001b[0m \u001b[38;5;28;01mimport\u001b[39;00m \u001b[38;5;21;01mtorch\u001b[39;00m\n",
      "\u001b[0;31mModuleNotFoundError\u001b[0m: No module named 'torch'"
     ]
    }
   ],
   "source": [
    "import torch"
   ]
  },
  {
   "cell_type": "code",
   "execution_count": null,
   "id": "ae761fc1",
   "metadata": {},
   "outputs": [
    {
     "name": "stdout",
     "output_type": "stream",
     "text": [
      "Collecting torch\n",
      "  Downloading torch-1.13.0-cp310-none-macosx_11_0_arm64.whl (55.7 MB)\n",
      "\u001b[2K     \u001b[38;2;114;156;31m━━━━━━━━━━━━━━━━━━━━━━━━━━━━━━━━━━━━━━━━\u001b[0m \u001b[32m55.7/55.7 MB\u001b[0m \u001b[31m11.3 MB/s\u001b[0m eta \u001b[36m0:00:00\u001b[0mm eta \u001b[36m0:00:01\u001b[0m[36m0:00:01\u001b[0m\n",
      "\u001b[?25hRequirement already satisfied: typing-extensions in /opt/homebrew/lib/python3.10/site-packages (from torch) (4.4.0)\n",
      "Installing collected packages: torch\n",
      "Successfully installed torch-1.13.0\n"
     ]
    }
   ],
   "source": [
    "!pip install torch"
   ]
  },
  {
   "cell_type": "code",
   "execution_count": null,
   "id": "50d94d9d-8d26-4c9b-a759-6b4345b2513a",
   "metadata": {},
   "outputs": [],
   "source": [
    "import torch"
   ]
  },
  {
   "cell_type": "code",
   "execution_count": null,
   "id": "59c260da-4fb8-4a50-8ee1-fe9d62b9c808",
   "metadata": {},
   "outputs": [
    {
     "name": "stdout",
     "output_type": "stream",
     "text": [
      "Collecting pytorch_lightning\n",
      "  Downloading pytorch_lightning-1.8.1-py3-none-any.whl (798 kB)\n",
      "\u001b[2K     \u001b[38;2;114;156;31m━━━━━━━━━━━━━━━━━━━━━━━━━━━━━━━━━━━━━━━\u001b[0m \u001b[32m798.4/798.4 kB\u001b[0m \u001b[31m3.8 MB/s\u001b[0m eta \u001b[36m0:00:00\u001b[0m[36m0:00:01\u001b[0mm eta \u001b[36m0:00:01\u001b[0m\n",
      "\u001b[?25hRequirement already satisfied: typing-extensions>=4.0.0 in /opt/homebrew/lib/python3.10/site-packages (from pytorch_lightning) (4.4.0)\n",
      "Collecting tqdm>=4.57.0\n",
      "  Using cached tqdm-4.64.1-py2.py3-none-any.whl (78 kB)\n",
      "Requirement already satisfied: torch>=1.9.* in /opt/homebrew/lib/python3.10/site-packages (from pytorch_lightning) (1.13.0)\n",
      "Collecting torchmetrics>=0.7.0\n",
      "  Downloading torchmetrics-0.10.2-py3-none-any.whl (529 kB)\n",
      "\u001b[2K     \u001b[38;2;114;156;31m━━━━━━━━━━━━━━━━━━━━━━━━━━━━━━━━━━━━━━\u001b[0m \u001b[32m529.7/529.7 kB\u001b[0m \u001b[31m10.3 MB/s\u001b[0m eta \u001b[36m0:00:00\u001b[0m31m12.0 MB/s\u001b[0m eta \u001b[36m0:00:01\u001b[0m\n",
      "\u001b[?25hRequirement already satisfied: numpy>=1.17.2 in /opt/homebrew/lib/python3.10/site-packages (from pytorch_lightning) (1.23.4)\n",
      "Collecting fsspec[http]>2021.06.0\n",
      "  Downloading fsspec-2022.11.0-py3-none-any.whl (139 kB)\n",
      "\u001b[2K     \u001b[38;2;114;156;31m━━━━━━━━━━━━━━━━━━━━━━━━━━━━━━━━━━━━━━━\u001b[0m \u001b[32m139.5/139.5 kB\u001b[0m \u001b[31m2.7 MB/s\u001b[0m eta \u001b[36m0:00:00\u001b[0m MB/s\u001b[0m eta \u001b[36m0:00:01\u001b[0m\n",
      "\u001b[?25hRequirement already satisfied: packaging>=17.0 in /opt/homebrew/lib/python3.10/site-packages (from pytorch_lightning) (21.3)\n",
      "Requirement already satisfied: PyYAML>=5.4 in /opt/homebrew/lib/python3.10/site-packages (from pytorch_lightning) (6.0)\n",
      "Collecting lightning-utilities==0.3.*\n",
      "  Downloading lightning_utilities-0.3.0-py3-none-any.whl (15 kB)\n",
      "Collecting tensorboard>=2.9.1\n",
      "  Downloading tensorboard-2.11.0-py3-none-any.whl (6.0 MB)\n",
      "\u001b[2K     \u001b[38;2;114;156;31m━━━━━━━━━━━━━━━━━━━━━━━━━━━━━━━━━━━━━━━━\u001b[0m \u001b[32m6.0/6.0 MB\u001b[0m \u001b[31m9.3 MB/s\u001b[0m eta \u001b[36m0:00:00\u001b[0m[31m9.6 MB/s\u001b[0m eta \u001b[36m0:00:01\u001b[0mm\n",
      "\u001b[?25hCollecting fire\n",
      "  Downloading fire-0.4.0.tar.gz (87 kB)\n",
      "\u001b[2K     \u001b[38;2;114;156;31m━━━━━━━━━━━━━━━━━━━━━━━━━━━━━━━━━━━━━━━\u001b[0m \u001b[32m87.7/87.7 kB\u001b[0m \u001b[31m953.7 kB/s\u001b[0m eta \u001b[36m0:00:00\u001b[0mMB/s\u001b[0m eta \u001b[36m0:00:01\u001b[0m\n",
      "\u001b[?25h  Preparing metadata (setup.py) ... \u001b[?25ldone\n",
      "\u001b[?25hRequirement already satisfied: requests in /opt/homebrew/lib/python3.10/site-packages (from fsspec[http]>2021.06.0->pytorch_lightning) (2.28.1)\n",
      "Collecting aiohttp!=4.0.0a0,!=4.0.0a1\n",
      "  Downloading aiohttp-3.8.3-cp310-cp310-macosx_11_0_arm64.whl (336 kB)\n",
      "\u001b[2K     \u001b[38;2;114;156;31m━━━━━━━━━━━━━━━━━━━━━━━━━━━━━━━━━━━━━━━\u001b[0m \u001b[32m336.4/336.4 kB\u001b[0m \u001b[31m6.9 MB/s\u001b[0m eta \u001b[36m0:00:00\u001b[0m[31m8.5 MB/s\u001b[0m eta \u001b[36m0:00:01\u001b[0m\n",
      "\u001b[?25hRequirement already satisfied: pyparsing!=3.0.5,>=2.0.2 in /opt/homebrew/lib/python3.10/site-packages (from packaging>=17.0->pytorch_lightning) (3.0.9)\n",
      "Collecting absl-py>=0.4\n",
      "  Using cached absl_py-1.3.0-py3-none-any.whl (124 kB)\n",
      "Collecting google-auth<3,>=1.6.3\n",
      "  Downloading google_auth-2.14.1-py2.py3-none-any.whl (175 kB)\n",
      "\u001b[2K     \u001b[38;2;114;156;31m━━━━━━━━━━━━━━━━━━━━━━━━━━━━━━━━━━━━━━━\u001b[0m \u001b[32m175.4/175.4 kB\u001b[0m \u001b[31m4.3 MB/s\u001b[0m eta \u001b[36m0:00:00\u001b[0mm eta \u001b[36m0:00:01\u001b[0m\n",
      "\u001b[?25hCollecting grpcio>=1.24.3\n",
      "  Downloading grpcio-1.50.0.tar.gz (22.1 MB)\n",
      "\u001b[2K     \u001b[38;2;114;156;31m━━━━━━━━━━━━━━━━━━━━━━━━━━━━━━━━━━━━━━━━\u001b[0m \u001b[32m22.1/22.1 MB\u001b[0m \u001b[31m10.4 MB/s\u001b[0m eta \u001b[36m0:00:00\u001b[0mm eta \u001b[36m0:00:01\u001b[0m[36m0:00:01\u001b[0m\n",
      "\u001b[?25h  Preparing metadata (setup.py) ... \u001b[?25ldone\n",
      "\u001b[?25hCollecting markdown>=2.6.8\n",
      "  Using cached Markdown-3.4.1-py3-none-any.whl (93 kB)\n",
      "Collecting google-auth-oauthlib<0.5,>=0.4.1\n",
      "  Using cached google_auth_oauthlib-0.4.6-py2.py3-none-any.whl (18 kB)\n",
      "Requirement already satisfied: setuptools>=41.0.0 in /opt/homebrew/lib/python3.10/site-packages (from tensorboard>=2.9.1->pytorch_lightning) (65.4.1)\n",
      "Requirement already satisfied: wheel>=0.26 in /opt/homebrew/lib/python3.10/site-packages (from tensorboard>=2.9.1->pytorch_lightning) (0.37.1)\n",
      "Collecting tensorboard-data-server<0.7.0,>=0.6.0\n",
      "  Downloading tensorboard_data_server-0.6.1-py3-none-any.whl (2.4 kB)\n",
      "Collecting werkzeug>=1.0.1\n",
      "  Using cached Werkzeug-2.2.2-py3-none-any.whl (232 kB)\n",
      "Collecting tensorboard-plugin-wit>=1.6.0\n",
      "  Using cached tensorboard_plugin_wit-1.8.1-py3-none-any.whl (781 kB)\n",
      "Collecting protobuf<4,>=3.9.2\n",
      "  Downloading protobuf-3.20.3-py2.py3-none-any.whl (162 kB)\n",
      "\u001b[2K     \u001b[38;2;114;156;31m━━━━━━━━━━━━━━━━━━━━━━━━━━━━━━━━━━━━━━━\u001b[0m \u001b[32m162.1/162.1 kB\u001b[0m \u001b[31m4.0 MB/s\u001b[0m eta \u001b[36m0:00:00\u001b[0m\n",
      "\u001b[?25hCollecting aiosignal>=1.1.2\n",
      "  Downloading aiosignal-1.3.1-py3-none-any.whl (7.6 kB)\n",
      "Collecting frozenlist>=1.1.1\n",
      "  Downloading frozenlist-1.3.3-cp310-cp310-macosx_11_0_arm64.whl (34 kB)\n",
      "Collecting yarl<2.0,>=1.0\n",
      "  Downloading yarl-1.8.1-cp310-cp310-macosx_11_0_arm64.whl (57 kB)\n",
      "\u001b[2K     \u001b[38;2;114;156;31m━━━━━━━━━━━━━━━━━━━━━━━━━━━━━━━━━━━━━━━━\u001b[0m \u001b[32m57.7/57.7 kB\u001b[0m \u001b[31m1.3 MB/s\u001b[0m eta \u001b[36m0:00:00\u001b[0m\n",
      "\u001b[?25hCollecting multidict<7.0,>=4.5\n",
      "  Downloading multidict-6.0.2-cp310-cp310-macosx_11_0_arm64.whl (29 kB)\n",
      "Requirement already satisfied: attrs>=17.3.0 in /opt/homebrew/lib/python3.10/site-packages (from aiohttp!=4.0.0a0,!=4.0.0a1->fsspec[http]>2021.06.0->pytorch_lightning) (22.1.0)\n",
      "Collecting async-timeout<5.0,>=4.0.0a3\n",
      "  Using cached async_timeout-4.0.2-py3-none-any.whl (5.8 kB)\n",
      "Requirement already satisfied: charset-normalizer<3.0,>=2.0 in /opt/homebrew/lib/python3.10/site-packages (from aiohttp!=4.0.0a0,!=4.0.0a1->fsspec[http]>2021.06.0->pytorch_lightning) (2.1.1)\n",
      "Collecting rsa<5,>=3.1.4\n",
      "  Using cached rsa-4.9-py3-none-any.whl (34 kB)\n",
      "Requirement already satisfied: six>=1.9.0 in /opt/homebrew/lib/python3.10/site-packages (from google-auth<3,>=1.6.3->tensorboard>=2.9.1->pytorch_lightning) (1.16.0)\n",
      "Collecting cachetools<6.0,>=2.0.0\n",
      "  Using cached cachetools-5.2.0-py3-none-any.whl (9.3 kB)\n",
      "Collecting pyasn1-modules>=0.2.1\n",
      "  Using cached pyasn1_modules-0.2.8-py2.py3-none-any.whl (155 kB)\n",
      "Collecting requests-oauthlib>=0.7.0\n",
      "  Using cached requests_oauthlib-1.3.1-py2.py3-none-any.whl (23 kB)\n",
      "Requirement already satisfied: certifi>=2017.4.17 in /opt/homebrew/lib/python3.10/site-packages (from requests->fsspec[http]>2021.06.0->pytorch_lightning) (2022.9.24)\n",
      "Requirement already satisfied: idna<4,>=2.5 in /opt/homebrew/lib/python3.10/site-packages (from requests->fsspec[http]>2021.06.0->pytorch_lightning) (3.4)\n",
      "Requirement already satisfied: urllib3<1.27,>=1.21.1 in /opt/homebrew/lib/python3.10/site-packages (from requests->fsspec[http]>2021.06.0->pytorch_lightning) (1.26.12)\n",
      "Requirement already satisfied: MarkupSafe>=2.1.1 in /opt/homebrew/lib/python3.10/site-packages (from werkzeug>=1.0.1->tensorboard>=2.9.1->pytorch_lightning) (2.1.1)\n",
      "Collecting termcolor\n",
      "  Downloading termcolor-2.1.0-py3-none-any.whl (5.8 kB)\n",
      "Collecting pyasn1<0.5.0,>=0.4.6\n",
      "  Using cached pyasn1-0.4.8-py2.py3-none-any.whl (77 kB)\n",
      "Collecting oauthlib>=3.0.0\n",
      "  Using cached oauthlib-3.2.2-py3-none-any.whl (151 kB)\n",
      "Building wheels for collected packages: grpcio, fire\n",
      "  Building wheel for grpcio (setup.py) ... \u001b[?25ldone\n",
      "\u001b[?25h  Created wheel for grpcio: filename=grpcio-1.50.0-cp310-cp310-macosx_12_0_arm64.whl size=3961675 sha256=56ca5911f4a798c159c917393be4033b81ffb866714fc542d1c3f49943f4d2f0\n",
      "  Stored in directory: /Users/study/Library/Caches/pip/wheels/de/46/e7/835c25b71235140a3d3a9c9855f6485886749f1ec36109da10\n",
      "  Building wheel for fire (setup.py) ... \u001b[?25ldone\n",
      "\u001b[?25h  Created wheel for fire: filename=fire-0.4.0-py2.py3-none-any.whl size=115926 sha256=966a19f1154a00be8442c5ee3659221099ae6f9951af8184fcdb9d77252f8b81\n",
      "  Stored in directory: /Users/study/Library/Caches/pip/wheels/a5/e5/b1/36f99d92494185177f07f79579ae168cb034574e98e9b16ae5\n",
      "Successfully built grpcio fire\n",
      "Installing collected packages: tensorboard-plugin-wit, pyasn1, werkzeug, tqdm, termcolor, tensorboard-data-server, rsa, pyasn1-modules, protobuf, oauthlib, multidict, markdown, grpcio, fsspec, frozenlist, cachetools, async-timeout, absl-py, yarl, torchmetrics, requests-oauthlib, google-auth, fire, aiosignal, lightning-utilities, google-auth-oauthlib, aiohttp, tensorboard, pytorch_lightning\n",
      "  Attempting uninstall: protobuf\n",
      "    Found existing installation: protobuf 4.21.5\n",
      "    Uninstalling protobuf-4.21.5:\n",
      "      Successfully uninstalled protobuf-4.21.5\n",
      "Successfully installed absl-py-1.3.0 aiohttp-3.8.3 aiosignal-1.3.1 async-timeout-4.0.2 cachetools-5.2.0 fire-0.4.0 frozenlist-1.3.3 fsspec-2022.11.0 google-auth-2.14.1 google-auth-oauthlib-0.4.6 grpcio-1.50.0 lightning-utilities-0.3.0 markdown-3.4.1 multidict-6.0.2 oauthlib-3.2.2 protobuf-3.20.3 pyasn1-0.4.8 pyasn1-modules-0.2.8 pytorch_lightning-1.8.1 requests-oauthlib-1.3.1 rsa-4.9 tensorboard-2.11.0 tensorboard-data-server-0.6.1 tensorboard-plugin-wit-1.8.1 termcolor-2.1.0 torchmetrics-0.10.2 tqdm-4.64.1 werkzeug-2.2.2 yarl-1.8.1\n"
     ]
    }
   ],
   "source": [
    "!pip install pytorch_lightning"
   ]
  },
  {
   "cell_type": "code",
   "execution_count": null,
   "id": "21656178-f705-4448-bd14-a6c5e187d8e7",
   "metadata": {},
   "outputs": [],
   "source": [
    "import pytorch_lightning as pl"
   ]
  },
  {
   "cell_type": "code",
   "execution_count": null,
   "id": "bfd8eb51-2588-47ef-8fff-29fd15f82fa8",
   "metadata": {},
   "outputs": [],
   "source": [
    "import torch.optim as optim"
   ]
  },
  {
   "cell_type": "code",
   "execution_count": null,
   "id": "45ff3577-0a4c-4c65-8a10-81caaad52b7e",
   "metadata": {},
   "outputs": [],
   "source": [
    "class LitResNeet(pl.LightningModule):\n",
    "    def __init__(self):\n",
    "        self.model = _model1\n",
    "    \n",
    "    def configure_optimiziers(self):\n",
    "        optim = optim.SGD(self.model.parameters(), lr=1e-2)\n",
    "        return optim"
   ]
  },
  {
   "cell_type": "code",
   "execution_count": null,
   "id": "0c6df600-23fc-4bf4-86e5-93c2e659bac0",
   "metadata": {},
   "outputs": [],
   "source": [
    "tensor = torch.tensor([1, 2, 3], dtype=torch.float64)"
   ]
  },
  {
   "cell_type": "code",
   "execution_count": null,
   "id": "eeb20bb1-e8b9-41f6-8884-05d20d377985",
   "metadata": {},
   "outputs": [],
   "source": [
    "torch.save(dict_pa)"
   ]
  },
  {
   "cell_type": "code",
   "execution_count": null,
   "id": "898dbccf-48b4-4afd-b9fa-c8aea1153dec",
   "metadata": {},
   "outputs": [],
   "source": [
    "from PIL import Image"
   ]
  },
  {
   "cell_type": "code",
   "execution_count": null,
   "id": "09ab4893-7c49-4b5a-8a23-75cccc473ac5",
   "metadata": {},
   "outputs": [],
   "source": [
    "def _scaled_arr(x):\n",
    "    x = (x*255).round()\n",
    "    return Image.fromarray(x)"
   ]
  },
  {
   "cell_type": "code",
   "execution_count": null,
   "id": "a61ab6e6-c3a3-4487-a6f4-1436164ec017",
   "metadata": {},
   "outputs": [],
   "source": [
    "class _ListContainer:\n",
    "    def __init__(self, items):\n",
    "        self.items = items\n",
    "    \n",
    "    def __getitems__(self, idxs):\n",
    "        if isinstance(idxs, int) or isinstance(idxs, slice):\n",
    "            return self.items[idxs]"
   ]
  },
  {
   "cell_type": "code",
   "execution_count": null,
   "id": "487db8de-cdcb-41eb-af80-ce9182a65c8d",
   "metadata": {},
   "outputs": [],
   "source": [
    "def covariance(x, y):\n",
    "    prod = (x - x.mean()) * (y - y.mean())\n",
    "    return prod.mean()"
   ]
  },
  {
   "cell_type": "code",
   "execution_count": null,
   "id": "652f30a5-549a-43b5-b49a-c2de4e03f921",
   "metadata": {},
   "outputs": [],
   "source": [
    "def frobenius_norm(x):\n",
    "    return (x*x).sum().sqrt()"
   ]
  },
  {
   "cell_type": "code",
   "execution_count": null,
   "id": "b8cc1afc-4244-4577-9e96-3a8d6fb32407",
   "metadata": {},
   "outputs": [],
   "source": [
    "def lin(x, w, b):\n",
    "    return x @ w + b"
   ]
  },
  {
   "cell_type": "code",
   "execution_count": null,
   "id": "82af0881-7657-492d-9efa-b22e45990642",
   "metadata": {},
   "outputs": [],
   "source": [
    "import os"
   ]
  },
  {
   "cell_type": "code",
   "execution_count": null,
   "id": "fa512042-45b4-4e54-9e59-da58add08c11",
   "metadata": {},
   "outputs": [],
   "source": [
    "def _show_file_name(path):\n",
    "    return [o.name for o in os.scandir(path)]"
   ]
  },
  {
   "cell_type": "code",
   "execution_count": null,
   "id": "d5e700e9-a823-410f-801a-9c989b2c32c5",
   "metadata": {},
   "outputs": [],
   "source": [
    "caching, cocurrency, batching"
   ]
  },
  {
   "cell_type": "code",
   "execution_count": null,
   "id": "b1612c4a-f907-408b-8e17-d0023506ffd8",
   "metadata": {},
   "outputs": [],
   "source": [
    "def regularize_activation(loss, activation, alpha):\n",
    "    loss += alpha * (activation).pow(2).mean()"
   ]
  },
  {
   "cell_type": "code",
   "execution_count": null,
   "id": "59993abc-27db-4432-84a0-3f1d835f5c7c",
   "metadata": {},
   "outputs": [],
   "source": [
    "text = ' . 'join([o.strip() for o in lines])"
   ]
  },
  {
   "cell_type": "code",
   "execution_count": null,
   "id": "72c6626a-8a26-4a9c-8366-07572257b6be",
   "metadata": {},
   "outputs": [],
   "source": [
    "import torch.nn as nn"
   ]
  },
  {
   "cell_type": "code",
   "execution_count": null,
   "id": "a296f6a5-6a2d-400a-884c-8ca48db22ad3",
   "metadata": {},
   "outputs": [],
   "source": [
    "import torch.nn.functional as F"
   ]
  },
  {
   "cell_type": "code",
   "execution_count": null,
   "id": "5c5bddd5-64ec-40f8-9375-5db16158c433",
   "metadata": {},
   "outputs": [],
   "source": [
    "class _LMModel3(nn.Module):\n",
    "    def __init__(self, vocab_sz, n_hidden):\n",
    "        self.i_h = nn.Embedding(vocab_sz, n_hidden)\n",
    "        self.h_h = nn.Linear(n_hidden, n_hidden)\n",
    "        self.h_o = nn.Linear(n_hidden, vocab_sz)\n",
    "        self.h = 0.\n",
    "    \n",
    "    def forward(self, x):\n",
    "        for i in range(3):\n",
    "            self.h = self.h + F.relu(self.i_h(x[:, i]))\n",
    "            self.h = F.relu(self.h_h(self.h))\n",
    "        \n",
    "        out = self.h_o(self.h)\n",
    "        self.h = self.h.detach()\n",
    "        return out"
   ]
  },
  {
   "cell_type": "code",
   "execution_count": null,
   "id": "98bc10f3-6c02-4737-89fb-335fbe4d8edf",
   "metadata": {},
   "outputs": [],
   "source": [
    "spacy = WordTokenizier()"
   ]
  },
  {
   "cell_type": "code",
   "execution_count": null,
   "id": "64eeba28-675d-4971-843f-3e14798a6ec9",
   "metadata": {},
   "outputs": [],
   "source": [
    "toks = spacy([content])"
   ]
  },
  {
   "cell_type": "code",
   "execution_count": null,
   "id": "6a35d073-9289-4d80-8127-4f6b0569fafa",
   "metadata": {},
   "outputs": [],
   "source": [
    "def grandparent_splitter(path, valid_name, train_name):\n",
    "    name = path.parent.parent.name\n",
    "    \n",
    "    return True if name == valid_name else False if name == train_name else None"
   ]
  },
  {
   "cell_type": "markdown",
   "id": "dd3cc6b5-2789-46c1-9fce-7f983d875593",
   "metadata": {},
   "source": [
    "### Python"
   ]
  },
  {
   "cell_type": "code",
   "execution_count": null,
   "id": "e842d210-4ab8-47b9-affe-1d196d4e2b82",
   "metadata": {},
   "outputs": [],
   "source": [
    "from typing import Final"
   ]
  },
  {
   "cell_type": "code",
   "execution_count": null,
   "id": "4ed625fc-1771-4275-b9a7-26de06f14a3d",
   "metadata": {},
   "outputs": [],
   "source": [
    "from enum import Enum, auto"
   ]
  },
  {
   "cell_type": "code",
   "execution_count": null,
   "id": "18a1589f-3d3f-409c-b03e-ef3c7174e84a",
   "metadata": {},
   "outputs": [],
   "source": [
    "class MotherSauces(Enum):\n",
    "    pass"
   ]
  },
  {
   "cell_type": "code",
   "execution_count": null,
   "id": "423ae1bd-3caa-4bae-b863-9acb648f62fb",
   "metadata": {},
   "outputs": [],
   "source": [
    "class ImperialMeasure(Enum):\n",
    "    CUP = auto()\n",
    "    TEASPOON = auto()"
   ]
  },
  {
   "cell_type": "code",
   "execution_count": null,
   "id": "35ea4640-431c-422a-bb2e-219ab8072d76",
   "metadata": {},
   "outputs": [],
   "source": [
    "from dataclasses import dataclass"
   ]
  },
  {
   "cell_type": "code",
   "execution_count": null,
   "id": "85f14948-8b87-48d9-a09c-b20fd5629bc3",
   "metadata": {},
   "outputs": [],
   "source": [
    "from typing import List"
   ]
  },
  {
   "cell_type": "code",
   "execution_count": null,
   "id": "c4624c9b-455e-4def-bb33-9ea5f3665be4",
   "metadata": {},
   "outputs": [],
   "source": [
    "@dataclass(frozen=True)\n",
    "class Ingredient:\n",
    "    name: str\n",
    "    amount: float\n",
    "    units: ImperialMeasure"
   ]
  },
  {
   "cell_type": "code",
   "execution_count": null,
   "id": "514c9efd-52ce-414e-bbc1-58955e6aeb01",
   "metadata": {},
   "outputs": [],
   "source": [
    "@dataclass\n",
    "class Recipe:\n",
    "    meats: Set[Ingredient]\n",
    "    starches: Set[Ingredient]"
   ]
  },
  {
   "cell_type": "code",
   "execution_count": null,
   "id": "44ce6d53-b9f0-4d8a-9617-7b4931ed8be7",
   "metadata": {},
   "outputs": [],
   "source": [
    "from typing import Literal"
   ]
  },
  {
   "cell_type": "code",
   "execution_count": null,
   "id": "541d0233-959c-4bd9-bf9e-e652981209da",
   "metadata": {},
   "outputs": [],
   "source": [
    "class Eyelink:\n",
    "    def __init__(self, level : Literal[\"one\", \"two\", \"three\"]):\n",
    "        self.level = level"
   ]
  },
  {
   "cell_type": "code",
   "execution_count": null,
   "id": "3ba36451-2a0f-4ebf-8a90-b831f954d528",
   "metadata": {},
   "outputs": [],
   "source": [
    "from typing import NewType"
   ]
  },
  {
   "cell_type": "code",
   "execution_count": null,
   "id": "d3330f89-b796-4226-bb62-4624e840795b",
   "metadata": {},
   "outputs": [],
   "source": [
    "ReadyToServerHotDog = NewType(\"ReadyToServerHotDog\", HotDog)"
   ]
  },
  {
   "cell_type": "code",
   "execution_count": null,
   "id": "e51bddd0-fcaf-4024-8e01-3ebe35779b29",
   "metadata": {},
   "outputs": [],
   "source": [
    "def prepare_for_serving(hot_dog: HotDog) -> ReadyToServerHotDog:\n",
    "    return ReadyToServerHotDog(hot_dog)"
   ]
  },
  {
   "cell_type": "code",
   "execution_count": null,
   "id": "231f4166-b23c-4c84-a7d9-510f0d5942af",
   "metadata": {},
   "outputs": [],
   "source": [
    "from enum import IntEnum"
   ]
  },
  {
   "cell_type": "code",
   "execution_count": null,
   "id": "7bcd73f2-3aae-43ef-94af-571e63c8b5e8",
   "metadata": {},
   "outputs": [],
   "source": [
    "class LiquidMeasure(IntEnum):\n",
    "    CUP = 8"
   ]
  },
  {
   "cell_type": "markdown",
   "id": "c5568d4d-689d-4884-917a-4ec7130124f2",
   "metadata": {},
   "source": [
    "### Design Patterns"
   ]
  },
  {
   "cell_type": "code",
   "execution_count": null,
   "id": "0ed821bc-66b8-4bfc-91e0-49a396e6661a",
   "metadata": {},
   "outputs": [],
   "source": [
    "from abc import ABC, abstractclassmethod"
   ]
  },
  {
   "cell_type": "code",
   "execution_count": null,
   "id": "bfead4b9-c97a-414d-9911-ac1f8befc442",
   "metadata": {},
   "outputs": [],
   "source": [
    "class Report(ABC):\n",
    "    def make_head_report(self):\n",
    "        pass\n",
    "    \n",
    "    def make_report(self):\n",
    "        self.make_head_report()\n",
    "        "
   ]
  },
  {
   "cell_type": "code",
   "execution_count": null,
   "id": "9e0d6af6-d067-4be6-9c9f-e301cdeac2bc",
   "metadata": {},
   "outputs": [],
   "source": [
    "class SalesReport:\n",
    "    def __init__(self, company, sales):\n",
    "        self.company = company\n",
    "        self.sales = sales\n",
    "    \n",
    "    def body_report(self):\n",
    "        print(f'Sales: {self.sales}')"
   ]
  },
  {
   "cell_type": "code",
   "execution_count": null,
   "id": "a0294c06-8c6d-423d-8b2f-daee346ae8c1",
   "metadata": {},
   "outputs": [],
   "source": [
    "has/have"
   ]
  },
  {
   "cell_type": "markdown",
   "id": "67d9f06f-67c6-4c44-9a64-587a28023548",
   "metadata": {},
   "source": [
    "### SQL"
   ]
  },
  {
   "cell_type": "code",
   "execution_count": null,
   "id": "4e88456f-1765-49b5-b7a7-c4c97f2e334a",
   "metadata": {},
   "outputs": [],
   "source": [
    "SELECT * FROM files WHERE status = 'DELETED'"
   ]
  },
  {
   "cell_type": "code",
   "execution_count": null,
   "id": "1734a156-b1e0-478e-90b1-e65f6571b43a",
   "metadata": {},
   "outputs": [],
   "source": [
    "rm ./learner/loss.py"
   ]
  }
 ],
 "metadata": {
  "kernelspec": {
   "display_name": "Python 3 (ipykernel)",
   "language": "python",
   "name": "python3"
  }
 },
 "nbformat": 4,
 "nbformat_minor": 5
}
