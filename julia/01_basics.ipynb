{
 "cells": [
  {
   "cell_type": "markdown",
   "id": "14f79efd",
   "metadata": {},
   "source": [
    "### Hello World"
   ]
  },
  {
   "cell_type": "markdown",
   "id": "e68b80cc",
   "metadata": {},
   "source": [
    "##### Example 1"
   ]
  },
  {
   "cell_type": "markdown",
   "id": "630aaf49",
   "metadata": {},
   "source": [
    "Print the line `Hello world` as bellow"
   ]
  },
  {
   "cell_type": "code",
   "execution_count": null,
   "id": "41253f3c",
   "metadata": {},
   "outputs": [
    {
     "name": "stdout",
     "output_type": "stream",
     "text": [
      "Hello world\n"
     ]
    }
   ],
   "source": [
    "println(\"Hello world\")"
   ]
  },
  {
   "cell_type": "markdown",
   "id": "502c41a9",
   "metadata": {},
   "source": [
    "##### Example 2"
   ]
  },
  {
   "cell_type": "markdown",
   "id": "86a6258c",
   "metadata": {},
   "source": [
    "Run the script `hello.jl` in command line"
   ]
  },
  {
   "cell_type": "code",
   "execution_count": null,
   "id": "b833e4ff",
   "metadata": {},
   "outputs": [
    {
     "ename": "LoadError",
     "evalue": "syntax: extra token \"hello\" after end of expression",
     "output_type": "error",
     "traceback": [
      "syntax: extra token \"hello\" after end of expression",
      "",
      "Stacktrace:",
      " [1] top-level scope",
      "   @ In[5]:1",
      " [2] eval",
      "   @ ./boot.jl:368 [inlined]",
      " [3] include_string(mapexpr::typeof(REPL.softscope), mod::Module, code::String, filename::String)",
      "   @ Base ./loading.jl:1428"
     ]
    }
   ],
   "source": [
    "julia hello.jl"
   ]
  },
  {
   "cell_type": "markdown",
   "id": "b8b3c384",
   "metadata": {},
   "source": [
    "### Variables"
   ]
  },
  {
   "cell_type": "markdown",
   "id": "ae885349",
   "metadata": {},
   "source": [
    "##### Example 1"
   ]
  },
  {
   "cell_type": "code",
   "execution_count": null,
   "id": "02ae6709",
   "metadata": {},
   "outputs": [
    {
     "data": {
      "text/plain": [
       "(2, 3)"
      ]
     },
     "execution_count": null,
     "metadata": {},
     "output_type": "execute_result"
    }
   ],
   "source": [
    "x, y = 2, 3"
   ]
  },
  {
   "cell_type": "markdown",
   "id": "f23244da",
   "metadata": {},
   "source": [
    "Calculate the square of the sum of `x` and `y`"
   ]
  },
  {
   "cell_type": "code",
   "execution_count": null,
   "id": "cf26f5ac",
   "metadata": {},
   "outputs": [
    {
     "data": {
      "text/plain": [
       "25"
      ]
     },
     "execution_count": null,
     "metadata": {},
     "output_type": "execute_result"
    }
   ],
   "source": [
    "(x+y)^2"
   ]
  },
  {
   "cell_type": "markdown",
   "id": "749449d6",
   "metadata": {},
   "source": [
    "##### Example 2"
   ]
  },
  {
   "cell_type": "markdown",
   "id": "c538804a",
   "metadata": {},
   "source": [
    "Define a constant variable valued 5"
   ]
  },
  {
   "cell_type": "code",
   "execution_count": null,
   "id": "7642f7d9",
   "metadata": {},
   "outputs": [
    {
     "data": {
      "text/plain": [
       "5"
      ]
     },
     "execution_count": null,
     "metadata": {},
     "output_type": "execute_result"
    }
   ],
   "source": [
    "const z = 5"
   ]
  },
  {
   "cell_type": "code",
   "execution_count": null,
   "id": "29f8c0c8",
   "metadata": {},
   "outputs": [
    {
     "data": {
      "text/plain": [
       "5"
      ]
     },
     "execution_count": null,
     "metadata": {},
     "output_type": "execute_result"
    }
   ],
   "source": [
    "z"
   ]
  },
  {
   "cell_type": "markdown",
   "id": "d97d067b",
   "metadata": {},
   "source": [
    "##### Example 3"
   ]
  },
  {
   "cell_type": "code",
   "execution_count": null,
   "id": "8c7bd7c4",
   "metadata": {},
   "outputs": [
    {
     "data": {
      "text/plain": [
       "-2"
      ]
     },
     "execution_count": null,
     "metadata": {},
     "output_type": "execute_result"
    }
   ],
   "source": [
    "x = -2"
   ]
  },
  {
   "cell_type": "markdown",
   "id": "a18b3fdc",
   "metadata": {},
   "source": [
    "Check the type of variable `x`"
   ]
  },
  {
   "cell_type": "code",
   "execution_count": null,
   "id": "f3bf77cc",
   "metadata": {},
   "outputs": [
    {
     "data": {
      "text/plain": [
       "Int64"
      ]
     },
     "execution_count": null,
     "metadata": {},
     "output_type": "execute_result"
    }
   ],
   "source": [
    "typeof(x)"
   ]
  },
  {
   "cell_type": "code",
   "execution_count": null,
   "id": "afddd7d6",
   "metadata": {},
   "outputs": [
    {
     "data": {
      "text/plain": [
       "-2"
      ]
     },
     "execution_count": null,
     "metadata": {},
     "output_type": "execute_result"
    }
   ],
   "source": [
    "x"
   ]
  },
  {
   "cell_type": "code",
   "execution_count": null,
   "id": "cbdab73d",
   "metadata": {},
   "outputs": [
    {
     "data": {
      "text/plain": [
       "1"
      ]
     },
     "execution_count": null,
     "metadata": {},
     "output_type": "execute_result"
    }
   ],
   "source": [
    "😃 = 1"
   ]
  },
  {
   "cell_type": "markdown",
   "id": "da8225ea",
   "metadata": {},
   "source": [
    "##### Example 4"
   ]
  },
  {
   "cell_type": "code",
   "execution_count": null,
   "id": "a1f9cb40",
   "metadata": {},
   "outputs": [
    {
     "ename": "LoadError",
     "evalue": "UndefVarError: o not defined",
     "output_type": "error",
     "traceback": [
      "UndefVarError: o not defined",
      "",
      "Stacktrace:",
      " [1] top-level scope",
      "   @ :0",
      " [2] eval",
      "   @ ./boot.jl:368 [inlined]",
      " [3] include_string(mapexpr::typeof(REPL.softscope), mod::Module, code::String, filename::String)",
      "   @ Base ./loading.jl:1428"
     ]
    }
   ],
   "source": [
    "o"
   ]
  },
  {
   "cell_type": "markdown",
   "id": "97d7b939",
   "metadata": {},
   "source": [
    "Create a function that works as bellow"
   ]
  },
  {
   "cell_type": "code",
   "execution_count": null,
   "id": "85bb91d4",
   "metadata": {},
   "outputs": [
    {
     "data": {
      "text/plain": [
       "add_one (generic function with 1 method)"
      ]
     },
     "execution_count": null,
     "metadata": {},
     "output_type": "execute_result"
    }
   ],
   "source": [
    "function add_one(x)\n",
    "    x + 1\n",
    "end"
   ]
  },
  {
   "cell_type": "code",
   "execution_count": null,
   "id": "04ade6b6",
   "metadata": {},
   "outputs": [
    {
     "data": {
      "text/plain": [
       "91"
      ]
     },
     "execution_count": null,
     "metadata": {},
     "output_type": "execute_result"
    }
   ],
   "source": [
    "add_one(90)"
   ]
  },
  {
   "cell_type": "markdown",
   "id": "4ce4f843",
   "metadata": {},
   "source": [
    "##### Example 5"
   ]
  },
  {
   "cell_type": "markdown",
   "id": "3324c177",
   "metadata": {},
   "source": [
    "Create an anonymous function (like lambda in python) that add two to each element in `y`"
   ]
  },
  {
   "cell_type": "code",
   "execution_count": null,
   "id": "1591732e",
   "metadata": {},
   "outputs": [
    {
     "ename": "LoadError",
     "evalue": "invalid redefinition of constant z",
     "output_type": "error",
     "traceback": [
      "invalid redefinition of constant z",
      "",
      "Stacktrace:",
      " [1] top-level scope",
      "   @ In[17]:1",
      " [2] eval",
      "   @ ./boot.jl:368 [inlined]",
      " [3] include_string(mapexpr::typeof(REPL.softscope), mod::Module, code::String, filename::String)",
      "   @ Base ./loading.jl:1428"
     ]
    }
   ],
   "source": [
    "z = x -> x + 2"
   ]
  },
  {
   "cell_type": "code",
   "execution_count": null,
   "id": "54aff0b7",
   "metadata": {},
   "outputs": [
    {
     "data": {
      "text/plain": [
       "3-element Vector{Int64}:\n",
       " 3\n",
       " 4\n",
       " 5"
      ]
     },
     "execution_count": null,
     "metadata": {},
     "output_type": "execute_result"
    }
   ],
   "source": [
    "map(x -> x+2, [1, 2, 3])"
   ]
  },
  {
   "cell_type": "markdown",
   "id": "769fc16c",
   "metadata": {},
   "source": [
    "##### Example 6"
   ]
  },
  {
   "cell_type": "code",
   "execution_count": null,
   "id": "13646492",
   "metadata": {},
   "outputs": [
    {
     "data": {
      "text/plain": [
       "3-element Vector{Int64}:\n",
       " 1\n",
       " 2\n",
       " 3"
      ]
     },
     "execution_count": null,
     "metadata": {},
     "output_type": "execute_result"
    }
   ],
   "source": [
    "p = [1, 2, 3]"
   ]
  },
  {
   "cell_type": "code",
   "execution_count": null,
   "id": "99641b1f",
   "metadata": {},
   "outputs": [
    {
     "data": {
      "text/plain": [
       "3-element Vector{Int64}:\n",
       " 1\n",
       " 2\n",
       " 3"
      ]
     },
     "execution_count": null,
     "metadata": {},
     "output_type": "execute_result"
    }
   ],
   "source": [
    "p"
   ]
  },
  {
   "cell_type": "code",
   "execution_count": null,
   "id": "2ae1b014",
   "metadata": {},
   "outputs": [
    {
     "data": {
      "text/plain": [
       "add_one (generic function with 1 method)"
      ]
     },
     "execution_count": null,
     "metadata": {},
     "output_type": "execute_result"
    }
   ],
   "source": [
    "add_one"
   ]
  },
  {
   "cell_type": "markdown",
   "id": "e141b8a4",
   "metadata": {},
   "source": [
    "Apply function `add_one` to each element in `p`"
   ]
  },
  {
   "cell_type": "code",
   "execution_count": null,
   "id": "9a14edbb",
   "metadata": {},
   "outputs": [],
   "source": [
    "foreach(add_one, p)"
   ]
  },
  {
   "cell_type": "markdown",
   "id": "9b88f6fd",
   "metadata": {},
   "source": [
    "##### Example 7"
   ]
  },
  {
   "cell_type": "code",
   "execution_count": null,
   "id": "d2284fe3",
   "metadata": {},
   "outputs": [
    {
     "data": {
      "text/plain": [
       "17"
      ]
     },
     "execution_count": null,
     "metadata": {},
     "output_type": "execute_result"
    }
   ],
   "source": [
    "some_number = 17"
   ]
  },
  {
   "cell_type": "markdown",
   "id": "9698fcf2",
   "metadata": {},
   "source": [
    "Write an `if` statement that print `Yes` if `some_number` is larger than 6"
   ]
  },
  {
   "cell_type": "code",
   "execution_count": null,
   "id": "e7baaaae",
   "metadata": {},
   "outputs": [
    {
     "name": "stdout",
     "output_type": "stream",
     "text": [
      "Yes\n"
     ]
    }
   ],
   "source": [
    "if some_number > 6\n",
    "    println(\"Yes\")\n",
    "end"
   ]
  },
  {
   "cell_type": "markdown",
   "id": "c9385b0a",
   "metadata": {},
   "source": [
    "##### Example 8"
   ]
  },
  {
   "cell_type": "code",
   "execution_count": null,
   "id": "ed1bc26f",
   "metadata": {},
   "outputs": [
    {
     "data": {
      "text/plain": [
       "(3, 4)"
      ]
     },
     "execution_count": null,
     "metadata": {},
     "output_type": "execute_result"
    }
   ],
   "source": [
    "var_a, var_b = 3, 4"
   ]
  },
  {
   "cell_type": "markdown",
   "id": "c6041ef7",
   "metadata": {},
   "source": [
    "Print out \"It's complicated\" if `var_a` is greater than 1 or `var_b` is not less than 2"
   ]
  },
  {
   "cell_type": "code",
   "execution_count": null,
   "id": "d7f911cb",
   "metadata": {},
   "outputs": [
    {
     "name": "stdout",
     "output_type": "stream",
     "text": [
      "It's complicated"
     ]
    }
   ],
   "source": [
    "if (var_a > 1) || (var_b >= 2)\n",
    "    print(\"It's complicated\")\n",
    "end"
   ]
  },
  {
   "cell_type": "markdown",
   "id": "5d873d7f",
   "metadata": {},
   "source": [
    "##### Example 9"
   ]
  },
  {
   "cell_type": "code",
   "execution_count": null,
   "id": "2d1ceaa1",
   "metadata": {},
   "outputs": [
    {
     "data": {
      "text/plain": [
       "4"
      ]
     },
     "execution_count": null,
     "metadata": {},
     "output_type": "execute_result"
    }
   ],
   "source": [
    "var_b"
   ]
  },
  {
   "cell_type": "markdown",
   "id": "a1aac535",
   "metadata": {},
   "source": [
    "Check whether `var_b` is not less than 2 but not using `>=`"
   ]
  },
  {
   "cell_type": "code",
   "execution_count": null,
   "id": "3c916be4",
   "metadata": {},
   "outputs": [
    {
     "data": {
      "text/plain": [
       "true"
      ]
     },
     "execution_count": null,
     "metadata": {},
     "output_type": "execute_result"
    }
   ],
   "source": [
    "!(var_b < 2)"
   ]
  },
  {
   "cell_type": "markdown",
   "id": "e69afc00",
   "metadata": {},
   "source": [
    "##### Example 10"
   ]
  },
  {
   "cell_type": "code",
   "execution_count": null,
   "id": "8802b982",
   "metadata": {},
   "outputs": [
    {
     "data": {
      "text/plain": [
       "(-2, 3)"
      ]
     },
     "execution_count": null,
     "metadata": {},
     "output_type": "execute_result"
    }
   ],
   "source": [
    "x, y"
   ]
  },
  {
   "cell_type": "markdown",
   "id": "aa2445b4",
   "metadata": {},
   "source": [
    "Create a non-anonymous function that works as bellow in one line"
   ]
  },
  {
   "cell_type": "code",
   "execution_count": null,
   "id": "219a4385",
   "metadata": {},
   "outputs": [
    {
     "data": {
      "text/plain": [
       "f (generic function with 1 method)"
      ]
     },
     "execution_count": null,
     "metadata": {},
     "output_type": "execute_result"
    }
   ],
   "source": [
    "f(x, y) = x + y"
   ]
  },
  {
   "cell_type": "code",
   "execution_count": null,
   "id": "ce14d23a",
   "metadata": {},
   "outputs": [
    {
     "data": {
      "text/plain": [
       "1"
      ]
     },
     "execution_count": null,
     "metadata": {},
     "output_type": "execute_result"
    }
   ],
   "source": [
    "f(x, y)"
   ]
  },
  {
   "cell_type": "markdown",
   "id": "315a683b",
   "metadata": {},
   "source": [
    "##### Example 11"
   ]
  },
  {
   "cell_type": "code",
   "execution_count": null,
   "id": "b6456283",
   "metadata": {},
   "outputs": [
    {
     "data": {
      "text/plain": [
       "(-2, 3)"
      ]
     },
     "execution_count": null,
     "metadata": {},
     "output_type": "execute_result"
    }
   ],
   "source": [
    "x, y"
   ]
  },
  {
   "cell_type": "markdown",
   "id": "1074d1d1",
   "metadata": {},
   "source": [
    "Create a function that calculate $3x^2 + 2y^2 - xy$ as bellow"
   ]
  },
  {
   "cell_type": "code",
   "execution_count": null,
   "id": "0e43ac5e",
   "metadata": {},
   "outputs": [
    {
     "data": {
      "text/plain": [
       "poly (generic function with 1 method)"
      ]
     },
     "execution_count": null,
     "metadata": {},
     "output_type": "execute_result"
    }
   ],
   "source": [
    "function poly(x, y)\n",
    "    return 3x^2 + 2y^2 - x*y\n",
    "end"
   ]
  },
  {
   "cell_type": "code",
   "execution_count": null,
   "id": "19734292",
   "metadata": {},
   "outputs": [
    {
     "data": {
      "text/plain": [
       "36"
      ]
     },
     "execution_count": null,
     "metadata": {},
     "output_type": "execute_result"
    }
   ],
   "source": [
    "poly(x, y)"
   ]
  },
  {
   "cell_type": "markdown",
   "id": "780e3353",
   "metadata": {},
   "source": [
    "##### Example 12"
   ]
  },
  {
   "cell_type": "code",
   "execution_count": null,
   "id": "dbd88ba1",
   "metadata": {},
   "outputs": [
    {
     "ename": "LoadError",
     "evalue": "syntax: \"\\\" is not a unary operator",
     "output_type": "error",
     "traceback": [
      "syntax: \"\\\" is not a unary operator",
      "",
      "Stacktrace:",
      " [1] top-level scope",
      "   @ In[35]:1",
      " [2] eval",
      "   @ ./boot.jl:368 [inlined]",
      " [3] include_string(mapexpr::typeof(REPL.softscope), mod::Module, code::String, filename::String)",
      "   @ Base ./loading.jl:1428"
     ]
    }
   ],
   "source": [
    "\\theta"
   ]
  },
  {
   "cell_type": "code",
   "execution_count": null,
   "id": "7af203aa",
   "metadata": {},
   "outputs": [
    {
     "ename": "LoadError",
     "evalue": "syntax: invalid identifier name \"...\"",
     "output_type": "error",
     "traceback": [
      "syntax: invalid identifier name \"...\"",
      "",
      "Stacktrace:",
      " [1] top-level scope",
      "   @ In[36]:1",
      " [2] eval",
      "   @ ./boot.jl:368 [inlined]",
      " [3] include_string(mapexpr::typeof(REPL.softscope), mod::Module, code::String, filename::String)",
      "   @ Base ./loading.jl:1428"
     ]
    }
   ],
   "source": [
    "function f(x, ..., y):\n",
    "    return nothing\n",
    "end"
   ]
  },
  {
   "cell_type": "markdown",
   "id": "9d1cbecf",
   "metadata": {},
   "source": [
    "### Primitive Types"
   ]
  },
  {
   "cell_type": "markdown",
   "id": "14a56eab",
   "metadata": {},
   "source": [
    "##### Example 1"
   ]
  },
  {
   "cell_type": "markdown",
   "id": "9bc7fa2c",
   "metadata": {},
   "source": [
    "Explain why?"
   ]
  },
  {
   "cell_type": "code",
   "execution_count": null,
   "id": "f4054d5e",
   "metadata": {},
   "outputs": [
    {
     "data": {
      "text/plain": [
       "0.6666666666666666"
      ]
     },
     "execution_count": null,
     "metadata": {},
     "output_type": "execute_result"
    }
   ],
   "source": [
    "2/3"
   ]
  },
  {
   "cell_type": "code",
   "execution_count": null,
   "id": "6ced69a1",
   "metadata": {},
   "outputs": [
    {
     "data": {
      "text/plain": [
       "false"
      ]
     },
     "execution_count": null,
     "metadata": {},
     "output_type": "execute_result"
    }
   ],
   "source": [
    "2//3 == 2/3"
   ]
  },
  {
   "cell_type": "markdown",
   "id": "11354fcb",
   "metadata": {},
   "source": [
    "**Explain** `2//3` is rational number which has infinite decimal points => not equal to 2/3 (rounded)"
   ]
  },
  {
   "cell_type": "markdown",
   "id": "51fab3c6",
   "metadata": {},
   "source": [
    "### Others"
   ]
  },
  {
   "cell_type": "markdown",
   "id": "af9677a5",
   "metadata": {},
   "source": [
    "##### Example 1: Install a package"
   ]
  },
  {
   "cell_type": "markdown",
   "id": "f6f2a13d",
   "metadata": {},
   "source": [
    "Install package `Sympy`"
   ]
  },
  {
   "cell_type": "code",
   "execution_count": null,
   "id": "ad1ef4c6",
   "metadata": {},
   "outputs": [],
   "source": [
    "import Pkg;"
   ]
  },
  {
   "cell_type": "code",
   "execution_count": null,
   "id": "756f4e73",
   "metadata": {},
   "outputs": [
    {
     "name": "stderr",
     "output_type": "stream",
     "text": [
      "\u001b[32m\u001b[1m    Updating\u001b[22m\u001b[39m registry at `~/.julia/registries/General.toml`\n",
      "\u001b[32m\u001b[1m   Resolving\u001b[22m\u001b[39m package versions...\n",
      "\u001b[32m\u001b[1m  No Changes\u001b[22m\u001b[39m to `~/.julia/environments/v1.8/Project.toml`\n",
      "\u001b[32m\u001b[1m  No Changes\u001b[22m\u001b[39m to `~/.julia/environments/v1.8/Manifest.toml`\n"
     ]
    }
   ],
   "source": [
    "Pkg.add(\"SymPy\")"
   ]
  },
  {
   "cell_type": "markdown",
   "id": "482fbfa6",
   "metadata": {},
   "source": [
    "##### Example 2"
   ]
  },
  {
   "cell_type": "markdown",
   "id": "363014f7",
   "metadata": {},
   "source": [
    "Import package Sympy"
   ]
  },
  {
   "cell_type": "code",
   "execution_count": null,
   "id": "8738e8a1",
   "metadata": {},
   "outputs": [],
   "source": [
    "using SymPy"
   ]
  },
  {
   "cell_type": "code",
   "execution_count": null,
   "id": "1dd0468b",
   "metadata": {},
   "outputs": [
    {
     "data": {
      "text/latex": [
       "$x$"
      ],
      "text/plain": [
       "x"
      ]
     },
     "execution_count": null,
     "metadata": {},
     "output_type": "execute_result"
    }
   ],
   "source": [
    "x = Sym(\"x\")"
   ]
  },
  {
   "cell_type": "markdown",
   "id": "646b360a",
   "metadata": {},
   "source": [
    "##### Example 3"
   ]
  },
  {
   "cell_type": "markdown",
   "id": "aaff4adc",
   "metadata": {},
   "source": [
    "Create a function $y$"
   ]
  },
  {
   "cell_type": "code",
   "execution_count": null,
   "id": "f7285ce7",
   "metadata": {},
   "outputs": [],
   "source": [
    "using SymPy"
   ]
  },
  {
   "cell_type": "code",
   "execution_count": null,
   "id": "ceae04af",
   "metadata": {},
   "outputs": [
    {
     "data": {
      "text/latex": [
       "$\\begin{align*}y\\end{align*}$\n"
      ],
      "text/plain": [
       "y"
      ]
     },
     "execution_count": null,
     "metadata": {},
     "output_type": "execute_result"
    }
   ],
   "source": [
    "y = SymFunction(\"y\")"
   ]
  },
  {
   "cell_type": "code",
   "execution_count": null,
   "id": "4c39c6eb",
   "metadata": {},
   "outputs": [
    {
     "data": {
      "text/latex": [
       "$y{\\left(x \\right)}$"
      ],
      "text/plain": [
       "y(x)"
      ]
     },
     "execution_count": null,
     "metadata": {},
     "output_type": "execute_result"
    }
   ],
   "source": [
    "y(x)"
   ]
  },
  {
   "cell_type": "code",
   "execution_count": null,
   "id": "70de59b6",
   "metadata": {},
   "outputs": [
    {
     "data": {
      "text/latex": [
       "$\\frac{d}{d x} y{\\left(x \\right)}$"
      ],
      "text/plain": [
       "d       \n",
       "──(y(x))\n",
       "dx      "
      ]
     },
     "execution_count": null,
     "metadata": {},
     "output_type": "execute_result"
    }
   ],
   "source": [
    "dy = diff(y(x), x)"
   ]
  },
  {
   "cell_type": "code",
   "execution_count": null,
   "id": "d6cca14f",
   "metadata": {},
   "outputs": [
    {
     "data": {
      "text/latex": [
       "$\\frac{d^{2}}{d x^{2}} y{\\left(x \\right)}$"
      ],
      "text/plain": [
       "  2      \n",
       " d       \n",
       "───(y(x))\n",
       "  2      \n",
       "dx       "
      ]
     },
     "execution_count": null,
     "metadata": {},
     "output_type": "execute_result"
    }
   ],
   "source": [
    "diff(dy, x)"
   ]
  },
  {
   "cell_type": "code",
   "execution_count": null,
   "id": "a325b6dd",
   "metadata": {},
   "outputs": [
    {
     "data": {
      "text/plain": [
       "Sym"
      ]
     },
     "execution_count": null,
     "metadata": {},
     "output_type": "execute_result"
    }
   ],
   "source": [
    "typeof(dy)"
   ]
  },
  {
   "cell_type": "code",
   "execution_count": null,
   "id": "80d102fc",
   "metadata": {},
   "outputs": [
    {
     "data": {
      "text/latex": [
       "$x^{2} + y^{2}{\\left(x \\right)} - 1$"
      ],
      "text/plain": [
       " 2    2       \n",
       "x  + y (x) - 1"
      ]
     },
     "execution_count": null,
     "metadata": {},
     "output_type": "execute_result"
    }
   ],
   "source": [
    "c = x^2 + y(x)^2 - 1"
   ]
  },
  {
   "cell_type": "code",
   "execution_count": null,
   "id": "88053780",
   "metadata": {},
   "outputs": [
    {
     "data": {
      "text/latex": [
       "$2 x + 2 y{\\left(x \\right)} \\frac{d}{d x} y{\\left(x \\right)}$"
      ],
      "text/plain": [
       "             d       \n",
       "2⋅x + 2⋅y(x)⋅──(y(x))\n",
       "             dx      "
      ]
     },
     "execution_count": null,
     "metadata": {},
     "output_type": "execute_result"
    }
   ],
   "source": [
    "dc = diff(c, x)"
   ]
  },
  {
   "cell_type": "code",
   "execution_count": null,
   "id": "902e61a8",
   "metadata": {},
   "outputs": [
    {
     "data": {
      "text/latex": [
       "$\\left[ \\begin{array}{r}- \\frac{x}{y{\\left(x \\right)}}\\end{array} \\right]$\n"
      ],
      "text/plain": [
       "1-element Vector{Sym}:\n",
       " -x/y(x)"
      ]
     },
     "execution_count": null,
     "metadata": {},
     "output_type": "execute_result"
    }
   ],
   "source": [
    "dydx = solve(dc, dy)"
   ]
  },
  {
   "cell_type": "code",
   "execution_count": null,
   "id": "949fdd96",
   "metadata": {},
   "outputs": [
    {
     "data": {
      "text/plain": [
       "Vector{Sym}\u001b[90m (alias for \u001b[39m\u001b[90mArray{Sym, 1}\u001b[39m\u001b[90m)\u001b[39m"
      ]
     },
     "execution_count": null,
     "metadata": {},
     "output_type": "execute_result"
    }
   ],
   "source": [
    "typeof(dydx)"
   ]
  },
  {
   "cell_type": "code",
   "execution_count": null,
   "id": "3ca06004",
   "metadata": {},
   "outputs": [
    {
     "data": {
      "text/latex": [
       "$- \\frac{x}{y{\\left(x \\right)}}$"
      ],
      "text/plain": [
       "-x  \n",
       "────\n",
       "y(x)"
      ]
     },
     "execution_count": null,
     "metadata": {},
     "output_type": "execute_result"
    }
   ],
   "source": [
    "dydx[1]"
   ]
  },
  {
   "cell_type": "markdown",
   "id": "b7a983b1",
   "metadata": {},
   "source": [
    "https://youtu.be/BnTYMOOPEzw?t=6357"
   ]
  },
  {
   "cell_type": "markdown",
   "id": "3e900898-745d-46f4-a7b2-4a74a00ade84",
   "metadata": {},
   "source": [
    "### Partial Function"
   ]
  },
  {
   "cell_type": "markdown",
   "id": "3b9cef86-45aa-4f25-9f9e-3ed878ef8c27",
   "metadata": {},
   "source": [
    "##### Example 4"
   ]
  },
  {
   "cell_type": "code",
   "execution_count": null,
   "id": "7c766b85-3cc6-4cdb-b654-41cb8a9da791",
   "metadata": {},
   "outputs": [
    {
     "data": {
      "text/plain": [
       "g (generic function with 1 method)"
      ]
     },
     "execution_count": null,
     "metadata": {},
     "output_type": "execute_result"
    }
   ],
   "source": [
    "function g(a, b, c)\n",
    "    return a + b + c\n",
    "end"
   ]
  },
  {
   "cell_type": "markdown",
   "id": "4080fbbe-2351-428e-be3a-47dec548df85",
   "metadata": {},
   "source": [
    "Define a function `f` that works as bellow"
   ]
  },
  {
   "cell_type": "code",
   "execution_count": null,
   "id": "7b1be20e-5c09-4c81-817e-ab2ec7079347",
   "metadata": {},
   "outputs": [
    {
     "data": {
      "text/plain": [
       "f (generic function with 2 methods)"
      ]
     },
     "execution_count": null,
     "metadata": {},
     "output_type": "execute_result"
    }
   ],
   "source": [
    "f(x) = g(x, 2, 3)"
   ]
  },
  {
   "cell_type": "code",
   "execution_count": null,
   "id": "b563a444-550f-4fa4-a00c-98005b7a7fba",
   "metadata": {},
   "outputs": [
    {
     "data": {
      "text/plain": [
       "6"
      ]
     },
     "execution_count": null,
     "metadata": {},
     "output_type": "execute_result"
    }
   ],
   "source": [
    "f(1)"
   ]
  },
  {
   "cell_type": "markdown",
   "id": "a526d88a-5c9c-4965-87bf-4e4b04aec74d",
   "metadata": {},
   "source": [
    "##### Example"
   ]
  },
  {
   "cell_type": "code",
   "execution_count": null,
   "id": "e4b6ed5b-b375-4b88-9fac-697d3bde98fc",
   "metadata": {},
   "outputs": [
    {
     "data": {
      "text/plain": [
       "5-element Vector{Int64}:\n",
       " 1\n",
       " 2\n",
       " 3\n",
       " 4\n",
       " 5"
      ]
     },
     "execution_count": null,
     "metadata": {},
     "output_type": "execute_result"
    }
   ],
   "source": [
    "list = [1, 2, 3, 4, 5]"
   ]
  },
  {
   "cell_type": "markdown",
   "id": "04b70712-008d-4271-961d-3f10dc85c30c",
   "metadata": {},
   "source": [
    "Assign value from `list` to `a`, `b` as bellow without explicitly define the index "
   ]
  },
  {
   "cell_type": "code",
   "execution_count": null,
   "id": "e7154dcd-5584-45d5-9ec8-986a98b80350",
   "metadata": {},
   "outputs": [
    {
     "data": {
      "text/plain": [
       "5-element Vector{Int64}:\n",
       " 1\n",
       " 2\n",
       " 3\n",
       " 4\n",
       " 5"
      ]
     },
     "execution_count": null,
     "metadata": {},
     "output_type": "execute_result"
    }
   ],
   "source": [
    "a, b... = list"
   ]
  },
  {
   "cell_type": "code",
   "execution_count": null,
   "id": "72518ff0-c8eb-4553-b864-6464dfdd74aa",
   "metadata": {},
   "outputs": [
    {
     "data": {
      "text/plain": [
       "1"
      ]
     },
     "execution_count": null,
     "metadata": {},
     "output_type": "execute_result"
    }
   ],
   "source": [
    "a"
   ]
  },
  {
   "cell_type": "code",
   "execution_count": null,
   "id": "b37ef66d-0e12-43e5-ae58-0a4986580cbf",
   "metadata": {},
   "outputs": [
    {
     "data": {
      "text/plain": [
       "Vector{Int64}\u001b[90m (alias for \u001b[39m\u001b[90mArray{Int64, 1}\u001b[39m\u001b[90m)\u001b[39m"
      ]
     },
     "execution_count": null,
     "metadata": {},
     "output_type": "execute_result"
    }
   ],
   "source": [
    "typeof(b)"
   ]
  },
  {
   "cell_type": "markdown",
   "id": "7a0c9ffe-b4c7-46a9-b1fd-b2e97087aac2",
   "metadata": {},
   "source": [
    "##### Example"
   ]
  },
  {
   "cell_type": "markdown",
   "id": "2cd8494c-adbd-4f37-a7de-06c687adea1d",
   "metadata": {},
   "source": [
    "Create a tuple"
   ]
  },
  {
   "cell_type": "code",
   "execution_count": null,
   "id": "40458926-b7d0-489d-add5-1639ed263167",
   "metadata": {},
   "outputs": [
    {
     "data": {
      "text/plain": [
       "(one = \"falcon 1\", two = \"falcon 9\")"
      ]
     },
     "execution_count": null,
     "metadata": {},
     "output_type": "execute_result"
    }
   ],
   "source": [
    "rockets = (one = \"falcon 1\", two = \"falcon 9\")"
   ]
  },
  {
   "cell_type": "code",
   "execution_count": null,
   "id": "42c5f30d-0e14-49b7-99fe-fa525387a278",
   "metadata": {},
   "outputs": [
    {
     "data": {
      "text/plain": [
       "\"falcon 1\""
      ]
     },
     "execution_count": null,
     "metadata": {},
     "output_type": "execute_result"
    }
   ],
   "source": [
    "rockets.one"
   ]
  },
  {
   "cell_type": "code",
   "execution_count": null,
   "id": "8cf67dd2-94da-48c3-8688-04dde5a8e4d5",
   "metadata": {},
   "outputs": [
    {
     "data": {
      "text/plain": [
       "\"falcon 9\""
      ]
     },
     "execution_count": null,
     "metadata": {},
     "output_type": "execute_result"
    }
   ],
   "source": [
    "rockets.two"
   ]
  },
  {
   "cell_type": "code",
   "execution_count": null,
   "id": "ac516fa4-e9a4-4807-a51c-82d911c7f167",
   "metadata": {},
   "outputs": [
    {
     "data": {
      "text/plain": [
       "\"falcon 9\""
      ]
     },
     "execution_count": null,
     "metadata": {},
     "output_type": "execute_result"
    }
   ],
   "source": [
    "rockets[:two]"
   ]
  },
  {
   "cell_type": "markdown",
   "id": "81287cdb-fa4e-4a5d-8575-764afcba5b70",
   "metadata": {},
   "source": [
    "##### Example"
   ]
  },
  {
   "cell_type": "code",
   "execution_count": null,
   "id": "d1b7b3e0-3cf4-40c2-80ed-48a68c017cdc",
   "metadata": {},
   "outputs": [
    {
     "data": {
      "text/plain": [
       "(one = \"falcon 1\", two = \"falcon 9\")"
      ]
     },
     "execution_count": null,
     "metadata": {},
     "output_type": "execute_result"
    }
   ],
   "source": [
    "rockets = (one = \"falcon 1\", two = \"falcon 9\")"
   ]
  },
  {
   "cell_type": "markdown",
   "id": "c6a97fd3-bb44-4219-ba0d-8a321331cfb7",
   "metadata": {},
   "source": [
    "Access the key `two` of a tuple `rockets` by using bracket"
   ]
  },
  {
   "cell_type": "code",
   "execution_count": null,
   "id": "34cd31f5-d55e-40a3-9610-68235dca0c4e",
   "metadata": {},
   "outputs": [
    {
     "data": {
      "text/plain": [
       "\"falcon 9\""
      ]
     },
     "execution_count": null,
     "metadata": {},
     "output_type": "execute_result"
    }
   ],
   "source": [
    "rockets[:two]"
   ]
  },
  {
   "cell_type": "code",
   "execution_count": null,
   "id": "9fd0d95d-d721-4131-870e-b8c2071f2f4c",
   "metadata": {},
   "outputs": [
    {
     "data": {
      "text/plain": [
       ":thing"
      ]
     },
     "execution_count": null,
     "metadata": {},
     "output_type": "execute_result"
    }
   ],
   "source": [
    ":thing"
   ]
  },
  {
   "cell_type": "code",
   "execution_count": null,
   "id": "4a089de5-82e1-4838-9468-2a86303342d5",
   "metadata": {},
   "outputs": [
    {
     "data": {
      "text/plain": [
       "Symbol"
      ]
     },
     "execution_count": null,
     "metadata": {},
     "output_type": "execute_result"
    }
   ],
   "source": [
    "typeof(:thing)"
   ]
  },
  {
   "cell_type": "markdown",
   "id": "58efbeae-d01b-4b6e-90d3-a042c42e5125",
   "metadata": {},
   "source": [
    "##### Example"
   ]
  },
  {
   "cell_type": "markdown",
   "id": "b6581b93-aeb4-44d7-a569-7a054948289b",
   "metadata": {},
   "source": [
    "Assign a Julia symbol named `brain` to variable `x`"
   ]
  },
  {
   "cell_type": "code",
   "execution_count": null,
   "id": "1bac3ab2-fe17-41c5-abee-641e11a92912",
   "metadata": {},
   "outputs": [
    {
     "data": {
      "text/plain": [
       ":brain"
      ]
     },
     "execution_count": null,
     "metadata": {},
     "output_type": "execute_result"
    }
   ],
   "source": [
    "x = :brain"
   ]
  },
  {
   "cell_type": "markdown",
   "id": "26eae15e-0d89-43e4-a8cf-4a711c132f46",
   "metadata": {},
   "source": [
    "### Keywords Argument"
   ]
  },
  {
   "cell_type": "markdown",
   "id": "259c6fb1-e5a9-4c23-9c2d-3711071d4a75",
   "metadata": {},
   "source": [
    "Create a function takes two numbers and sum it up. As bellow\n",
    "\n",
    "Hint: There's only one func."
   ]
  },
  {
   "cell_type": "code",
   "execution_count": null,
   "id": "c5d4fd18-6c20-43d7-85d1-283b87bc8747",
   "metadata": {},
   "outputs": [
    {
     "data": {
      "text/plain": [
       "add (generic function with 2 methods)"
      ]
     },
     "execution_count": null,
     "metadata": {},
     "output_type": "execute_result"
    }
   ],
   "source": [
    "function add(a, b = 10)\n",
    "    return a + b\n",
    "end"
   ]
  },
  {
   "cell_type": "code",
   "execution_count": null,
   "id": "a1e277fd-4e96-49ae-a7e1-662b91b9fee0",
   "metadata": {},
   "outputs": [
    {
     "data": {
      "text/plain": [
       "11"
      ]
     },
     "execution_count": null,
     "metadata": {},
     "output_type": "execute_result"
    }
   ],
   "source": [
    "add(1)"
   ]
  },
  {
   "cell_type": "code",
   "execution_count": null,
   "id": "d86d2508-aa34-4e22-9a0b-cf2a56e595cb",
   "metadata": {},
   "outputs": [
    {
     "data": {
      "text/plain": [
       "3"
      ]
     },
     "execution_count": null,
     "metadata": {},
     "output_type": "execute_result"
    }
   ],
   "source": [
    "add(1, 2)"
   ]
  },
  {
   "cell_type": "markdown",
   "id": "a6887c2e-075a-4200-9dfe-61210a7c15c5",
   "metadata": {},
   "source": [
    "### Array Types"
   ]
  },
  {
   "cell_type": "markdown",
   "id": "97aa32a8-9bca-437b-9400-ab4de1284944",
   "metadata": {},
   "source": [
    "##### Example 1"
   ]
  },
  {
   "cell_type": "markdown",
   "id": "42264826-0233-4d9b-a5c6-75845ba8f9d7",
   "metadata": {},
   "source": [
    "Create a matrix `A`"
   ]
  },
  {
   "cell_type": "code",
   "execution_count": null,
   "id": "effcb294-8699-42c3-819c-c9cee25fbf61",
   "metadata": {},
   "outputs": [
    {
     "data": {
      "text/plain": [
       "2×3 Matrix{Int64}:\n",
       " 1  2  3\n",
       " 4  5  6"
      ]
     },
     "execution_count": null,
     "metadata": {},
     "output_type": "execute_result"
    }
   ],
   "source": [
    "A = [1 2 3; 4 5 6]"
   ]
  },
  {
   "cell_type": "markdown",
   "id": "1d497e5a-1f94-4d1f-824e-1a2329720289",
   "metadata": {},
   "source": [
    "##### Example"
   ]
  },
  {
   "cell_type": "code",
   "execution_count": null,
   "id": "509e5638-43a0-42bb-93fc-3a5900435296",
   "metadata": {},
   "outputs": [
    {
     "data": {
      "text/plain": [
       "3-element Vector{Int64}:\n",
       " 1\n",
       " 2\n",
       " 3"
      ]
     },
     "execution_count": null,
     "metadata": {},
     "output_type": "execute_result"
    }
   ],
   "source": [
    "v = [1, 2, 3]"
   ]
  },
  {
   "cell_type": "code",
   "execution_count": null,
   "id": "f4339347-9775-42d1-bfbf-d93bee4b24d8",
   "metadata": {},
   "outputs": [
    {
     "data": {
      "text/plain": [
       "3-element Vector{Int64}:\n",
       " 1\n",
       " 2\n",
       " 3"
      ]
     },
     "execution_count": null,
     "metadata": {},
     "output_type": "execute_result"
    }
   ],
   "source": [
    "v"
   ]
  },
  {
   "cell_type": "markdown",
   "id": "0a54a175-d257-42a7-827c-e33103aea4c5",
   "metadata": {},
   "source": [
    "Add a value `1` to vector `v`"
   ]
  },
  {
   "cell_type": "code",
   "execution_count": null,
   "id": "0d7b9399-68eb-465d-84e6-703cd012a963",
   "metadata": {},
   "outputs": [
    {
     "data": {
      "text/plain": [
       "4-element Vector{Int64}:\n",
       "  1\n",
       "  2\n",
       "  3\n",
       " 10"
      ]
     },
     "execution_count": null,
     "metadata": {},
     "output_type": "execute_result"
    }
   ],
   "source": [
    "push!(v, 10)"
   ]
  },
  {
   "cell_type": "code",
   "execution_count": null,
   "id": "2aa61df6-afcc-46ce-8411-2e32122efbbb",
   "metadata": {},
   "outputs": [
    {
     "data": {
      "text/plain": [
       "4-element Vector{Int64}:\n",
       "  1\n",
       "  2\n",
       "  3\n",
       " 10"
      ]
     },
     "execution_count": null,
     "metadata": {},
     "output_type": "execute_result"
    }
   ],
   "source": [
    "v"
   ]
  },
  {
   "cell_type": "code",
   "execution_count": null,
   "id": "e8fbede8-836c-4095-814b-14774d09b224",
   "metadata": {},
   "outputs": [
    {
     "data": {
      "text/plain": [
       "4"
      ]
     },
     "execution_count": null,
     "metadata": {},
     "output_type": "execute_result"
    }
   ],
   "source": [
    "length(v)"
   ]
  },
  {
   "cell_type": "code",
   "execution_count": null,
   "id": "feba2395-de48-4ee2-9998-2e7f282a548c",
   "metadata": {},
   "outputs": [
    {
     "data": {
      "text/plain": [
       "1"
      ]
     },
     "execution_count": null,
     "metadata": {},
     "output_type": "execute_result"
    }
   ],
   "source": [
    "x = 1"
   ]
  },
  {
   "cell_type": "code",
   "execution_count": null,
   "id": "e48687bc-1f13-4e3b-a9fb-8b86047ce236",
   "metadata": {},
   "outputs": [
    {
     "data": {
      "text/plain": [
       "1"
      ]
     },
     "execution_count": null,
     "metadata": {},
     "output_type": "execute_result"
    }
   ],
   "source": [
    "length(x)"
   ]
  },
  {
   "cell_type": "code",
   "execution_count": null,
   "id": "533637bd-60e4-4d64-a4e5-5e5638594a4a",
   "metadata": {},
   "outputs": [
    {
     "data": {
      "text/plain": [
       "1×3 Matrix{Float64}:\n",
       " 0.969481  0.971624  0.970286"
      ]
     },
     "execution_count": null,
     "metadata": {},
     "output_type": "execute_result"
    }
   ],
   "source": [
    "rand(1, 3)"
   ]
  },
  {
   "cell_type": "code",
   "execution_count": null,
   "id": "0d742ab0-4d76-4ab5-b857-a1e835a7c2cf",
   "metadata": {},
   "outputs": [
    {
     "data": {
      "text/plain": [
       "2×3 Matrix{Int64}:\n",
       " 1  2  3\n",
       " 4  5  6"
      ]
     },
     "execution_count": null,
     "metadata": {},
     "output_type": "execute_result"
    }
   ],
   "source": [
    "A"
   ]
  },
  {
   "cell_type": "code",
   "execution_count": null,
   "id": "ecdf9d04-e30e-403b-8462-4db867f5f0f6",
   "metadata": {},
   "outputs": [
    {
     "data": {
      "text/plain": [
       "(2, 3)"
      ]
     },
     "execution_count": null,
     "metadata": {},
     "output_type": "execute_result"
    }
   ],
   "source": [
    "size(A)"
   ]
  },
  {
   "cell_type": "code",
   "execution_count": null,
   "id": "3d2bdd99-94fb-4ef1-92af-f3c1ae3f2ff4",
   "metadata": {},
   "outputs": [
    {
     "data": {
      "text/plain": [
       "(4,)"
      ]
     },
     "execution_count": null,
     "metadata": {},
     "output_type": "execute_result"
    }
   ],
   "source": [
    "size(v)"
   ]
  },
  {
   "cell_type": "code",
   "execution_count": null,
   "id": "aca07a57-c938-410d-b83e-ad6b449f6dbd",
   "metadata": {},
   "outputs": [
    {
     "data": {
      "text/plain": [
       "3-element Vector{Float64}:\n",
       " 0.0\n",
       " 0.0\n",
       " 0.0"
      ]
     },
     "execution_count": null,
     "metadata": {},
     "output_type": "execute_result"
    }
   ],
   "source": [
    "zeros(3)"
   ]
  },
  {
   "cell_type": "code",
   "execution_count": null,
   "id": "206cb232-7302-42fd-b1d9-8946d91e3a00",
   "metadata": {},
   "outputs": [
    {
     "data": {
      "text/plain": [
       "10-element Vector{Float64}:\n",
       " -0.401348324088007\n",
       " -0.170080784851108\n",
       "  0.3056391780348198\n",
       " -0.896706843695948\n",
       "  0.12747793701740387\n",
       " -0.8841619916337986\n",
       " -0.2933644982684619\n",
       " -0.6883985281549515\n",
       " -1.1114019235094095\n",
       " -0.6788492322828672"
      ]
     },
     "execution_count": null,
     "metadata": {},
     "output_type": "execute_result"
    }
   ],
   "source": [
    "randn(10)"
   ]
  },
  {
   "cell_type": "code",
   "execution_count": null,
   "id": "1b6f1cf8-602d-4576-b2ea-777c0715e428",
   "metadata": {},
   "outputs": [
    {
     "data": {
      "text/plain": [
       "10-element Vector{Float64}:\n",
       " 0.6656011383750504\n",
       " 0.07089014008818528\n",
       " 0.14339924978480145\n",
       " 0.798141844660147\n",
       " 0.059007762577517275\n",
       " 0.5433776190281081\n",
       " 0.946073715447114\n",
       " 0.23305498367778166\n",
       " 0.13630127784550128\n",
       " 0.8578536015066247"
      ]
     },
     "execution_count": null,
     "metadata": {},
     "output_type": "execute_result"
    }
   ],
   "source": [
    "rand(10)"
   ]
  },
  {
   "cell_type": "code",
   "execution_count": null,
   "id": "481c238e-6bac-4573-bee0-d52ff282d488",
   "metadata": {},
   "outputs": [
    {
     "data": {
      "text/plain": [
       "6"
      ]
     },
     "execution_count": null,
     "metadata": {},
     "output_type": "execute_result"
    }
   ],
   "source": [
    "sum( )"
   ]
  },
  {
   "cell_type": "markdown",
   "id": "468db2da-f67b-48e8-aaf0-9fb57af5c75d",
   "metadata": {},
   "source": [
    "What are the difference between `using Statistics` and `import Statistics`"
   ]
  },
  {
   "cell_type": "markdown",
   "id": "e01acafe-66a5-4507-bd79-d6b4a3306560",
   "metadata": {},
   "source": [
    "**Explain**\n",
    "- `using Statistics`: import all the things that exported in package `Statistics`\n",
    "- `import Statistics`: not import all the things that export"
   ]
  },
  {
   "cell_type": "markdown",
   "id": "14f993ee-2895-4091-acf5-ceeea09b1780",
   "metadata": {},
   "source": [
    "https://youtu.be/BnTYMOOPEzw?t=8233"
   ]
  },
  {
   "cell_type": "code",
   "execution_count": null,
   "id": "2f1d6521-3765-4a33-b194-ffef1ec00aa1",
   "metadata": {},
   "outputs": [],
   "source": []
  }
 ],
 "metadata": {
  "kernelspec": {
   "display_name": "Julia 1.8.2",
   "language": "julia",
   "name": "julia-1.8"
  }
 },
 "nbformat": 4,
 "nbformat_minor": 5
}
