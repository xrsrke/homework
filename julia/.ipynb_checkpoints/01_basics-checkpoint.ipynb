{
 "cells": [
  {
   "cell_type": "markdown",
   "id": "14f79efd",
   "metadata": {},
   "source": [
    "### Hello World"
   ]
  },
  {
   "cell_type": "markdown",
   "id": "e68b80cc",
   "metadata": {},
   "source": [
    "##### Example 1"
   ]
  },
  {
   "cell_type": "markdown",
   "id": "630aaf49",
   "metadata": {},
   "source": [
    "Print the line `Hello world` as bellow"
   ]
  },
  {
   "cell_type": "code",
   "execution_count": 4,
   "id": "41253f3c",
   "metadata": {
    "scrolled": true
   },
   "outputs": [
    {
     "name": "stdout",
     "output_type": "stream",
     "text": [
      "Hello world\n"
     ]
    }
   ],
   "source": [
    "println(\"Hello world\")"
   ]
  },
  {
   "cell_type": "markdown",
   "id": "502c41a9",
   "metadata": {},
   "source": [
    "##### Example 2"
   ]
  },
  {
   "cell_type": "markdown",
   "id": "86a6258c",
   "metadata": {},
   "source": [
    "Run the script `hello.jl` in command line"
   ]
  },
  {
   "cell_type": "code",
   "execution_count": null,
   "id": "b833e4ff",
   "metadata": {},
   "outputs": [],
   "source": [
    "julia hello.jl"
   ]
  },
  {
   "cell_type": "markdown",
   "id": "b8b3c384",
   "metadata": {},
   "source": [
    "### Variables"
   ]
  },
  {
   "cell_type": "markdown",
   "id": "ae885349",
   "metadata": {},
   "source": [
    "##### Example 1"
   ]
  },
  {
   "cell_type": "code",
   "execution_count": 13,
   "id": "02ae6709",
   "metadata": {},
   "outputs": [
    {
     "data": {
      "text/plain": [
       "(2, 3)"
      ]
     },
     "execution_count": 13,
     "metadata": {},
     "output_type": "execute_result"
    }
   ],
   "source": [
    "x, y = 2, 3"
   ]
  },
  {
   "cell_type": "markdown",
   "id": "f23244da",
   "metadata": {},
   "source": [
    "Calculate the square of the sum of `x` and `y`"
   ]
  },
  {
   "cell_type": "code",
   "execution_count": 14,
   "id": "cf26f5ac",
   "metadata": {
    "scrolled": true
   },
   "outputs": [
    {
     "data": {
      "text/plain": [
       "25"
      ]
     },
     "execution_count": 14,
     "metadata": {},
     "output_type": "execute_result"
    }
   ],
   "source": [
    "(x+y)^2"
   ]
  },
  {
   "cell_type": "markdown",
   "id": "749449d6",
   "metadata": {},
   "source": [
    "##### Example 2"
   ]
  },
  {
   "cell_type": "markdown",
   "id": "c538804a",
   "metadata": {},
   "source": [
    "Define a constant variable valued 5"
   ]
  },
  {
   "cell_type": "code",
   "execution_count": 16,
   "id": "7642f7d9",
   "metadata": {},
   "outputs": [
    {
     "data": {
      "text/plain": [
       "5"
      ]
     },
     "execution_count": 16,
     "metadata": {},
     "output_type": "execute_result"
    }
   ],
   "source": [
    "const z = 5"
   ]
  },
  {
   "cell_type": "code",
   "execution_count": 17,
   "id": "29f8c0c8",
   "metadata": {},
   "outputs": [
    {
     "data": {
      "text/plain": [
       "5"
      ]
     },
     "execution_count": 17,
     "metadata": {},
     "output_type": "execute_result"
    }
   ],
   "source": [
    "z"
   ]
  },
  {
   "cell_type": "markdown",
   "id": "d97d067b",
   "metadata": {},
   "source": [
    "##### Example 3"
   ]
  },
  {
   "cell_type": "code",
   "execution_count": 41,
   "id": "8c7bd7c4",
   "metadata": {
    "scrolled": true
   },
   "outputs": [
    {
     "data": {
      "text/plain": [
       "-2"
      ]
     },
     "execution_count": 41,
     "metadata": {},
     "output_type": "execute_result"
    }
   ],
   "source": [
    "x = -2"
   ]
  },
  {
   "cell_type": "markdown",
   "id": "a18b3fdc",
   "metadata": {},
   "source": [
    "Check the type of variable `x`"
   ]
  },
  {
   "cell_type": "code",
   "execution_count": 34,
   "id": "f3bf77cc",
   "metadata": {},
   "outputs": [
    {
     "data": {
      "text/plain": [
       "Int64"
      ]
     },
     "execution_count": 34,
     "metadata": {},
     "output_type": "execute_result"
    }
   ],
   "source": [
    "typeof(x)"
   ]
  },
  {
   "cell_type": "code",
   "execution_count": 43,
   "id": "afddd7d6",
   "metadata": {},
   "outputs": [
    {
     "data": {
      "text/plain": [
       "-2"
      ]
     },
     "execution_count": 43,
     "metadata": {},
     "output_type": "execute_result"
    }
   ],
   "source": [
    "x"
   ]
  },
  {
   "cell_type": "code",
   "execution_count": 48,
   "id": "cbdab73d",
   "metadata": {},
   "outputs": [
    {
     "data": {
      "text/plain": [
       "1"
      ]
     },
     "execution_count": 48,
     "metadata": {},
     "output_type": "execute_result"
    }
   ],
   "source": [
    "😃 = 1"
   ]
  },
  {
   "cell_type": "markdown",
   "id": "da8225ea",
   "metadata": {},
   "source": [
    "##### Example 4"
   ]
  },
  {
   "cell_type": "code",
   "execution_count": 91,
   "id": "a1f9cb40",
   "metadata": {},
   "outputs": [
    {
     "data": {
      "text/plain": [
       "90"
      ]
     },
     "execution_count": 91,
     "metadata": {},
     "output_type": "execute_result"
    }
   ],
   "source": [
    "o"
   ]
  },
  {
   "cell_type": "markdown",
   "id": "97d7b939",
   "metadata": {},
   "source": [
    "Create a function that works as bellow"
   ]
  },
  {
   "cell_type": "code",
   "execution_count": 92,
   "id": "85bb91d4",
   "metadata": {},
   "outputs": [
    {
     "data": {
      "text/plain": [
       "add_one (generic function with 1 method)"
      ]
     },
     "execution_count": 92,
     "metadata": {},
     "output_type": "execute_result"
    }
   ],
   "source": [
    "function add_one(x)\n",
    "    x + 1\n",
    "end"
   ]
  },
  {
   "cell_type": "code",
   "execution_count": 93,
   "id": "04ade6b6",
   "metadata": {},
   "outputs": [
    {
     "data": {
      "text/plain": [
       "91"
      ]
     },
     "execution_count": 93,
     "metadata": {},
     "output_type": "execute_result"
    }
   ],
   "source": [
    "add_one(90)"
   ]
  },
  {
   "cell_type": "markdown",
   "id": "4ce4f843",
   "metadata": {},
   "source": [
    "##### Example 5"
   ]
  },
  {
   "cell_type": "markdown",
   "id": "3324c177",
   "metadata": {},
   "source": [
    "Create an anonymous function (like lambda in python) that add two to each element in `y`"
   ]
  },
  {
   "cell_type": "code",
   "execution_count": 98,
   "id": "1591732e",
   "metadata": {},
   "outputs": [
    {
     "ename": "LoadError",
     "evalue": "invalid redefinition of constant z",
     "output_type": "error",
     "traceback": [
      "invalid redefinition of constant z",
      "",
      "Stacktrace:",
      " [1] top-level scope",
      "   @ In[98]:1",
      " [2] eval",
      "   @ ./boot.jl:368 [inlined]",
      " [3] include_string(mapexpr::typeof(REPL.softscope), mod::Module, code::String, filename::String)",
      "   @ Base ./loading.jl:1428"
     ]
    }
   ],
   "source": [
    "z = x -> x + 2"
   ]
  },
  {
   "cell_type": "code",
   "execution_count": 99,
   "id": "54aff0b7",
   "metadata": {},
   "outputs": [
    {
     "data": {
      "text/plain": [
       "3-element Vector{Int64}:\n",
       " 3\n",
       " 4\n",
       " 5"
      ]
     },
     "execution_count": 99,
     "metadata": {},
     "output_type": "execute_result"
    }
   ],
   "source": [
    "map(x -> x+2, [1, 2, 3])"
   ]
  },
  {
   "cell_type": "markdown",
   "id": "769fc16c",
   "metadata": {},
   "source": [
    "##### Example 6"
   ]
  },
  {
   "cell_type": "code",
   "execution_count": 76,
   "id": "13646492",
   "metadata": {},
   "outputs": [
    {
     "data": {
      "text/plain": [
       "3-element Vector{Int64}:\n",
       " 1\n",
       " 2\n",
       " 3"
      ]
     },
     "execution_count": 76,
     "metadata": {},
     "output_type": "execute_result"
    }
   ],
   "source": [
    "p = [1, 2, 3]"
   ]
  },
  {
   "cell_type": "code",
   "execution_count": 79,
   "id": "99641b1f",
   "metadata": {},
   "outputs": [
    {
     "data": {
      "text/plain": [
       "3-element Vector{Int64}:\n",
       " 1\n",
       " 2\n",
       " 3"
      ]
     },
     "execution_count": 79,
     "metadata": {},
     "output_type": "execute_result"
    }
   ],
   "source": [
    "p"
   ]
  },
  {
   "cell_type": "code",
   "execution_count": 80,
   "id": "2ae1b014",
   "metadata": {},
   "outputs": [
    {
     "data": {
      "text/plain": [
       "add_one (generic function with 1 method)"
      ]
     },
     "execution_count": 80,
     "metadata": {},
     "output_type": "execute_result"
    }
   ],
   "source": [
    "add_one"
   ]
  },
  {
   "cell_type": "markdown",
   "id": "e141b8a4",
   "metadata": {},
   "source": [
    "Apply function `add_one` to each element in `p`"
   ]
  },
  {
   "cell_type": "code",
   "execution_count": 81,
   "id": "9a14edbb",
   "metadata": {
    "scrolled": true
   },
   "outputs": [
    {
     "name": "stdout",
     "output_type": "stream",
     "text": [
      "2\n",
      "3\n",
      "4\n"
     ]
    }
   ],
   "source": [
    "foreach(add_one, p)"
   ]
  },
  {
   "cell_type": "markdown",
   "id": "9b88f6fd",
   "metadata": {},
   "source": [
    "##### Example 7"
   ]
  },
  {
   "cell_type": "code",
   "execution_count": 102,
   "id": "d2284fe3",
   "metadata": {},
   "outputs": [
    {
     "data": {
      "text/plain": [
       "17"
      ]
     },
     "execution_count": 102,
     "metadata": {},
     "output_type": "execute_result"
    }
   ],
   "source": [
    "some_number = 17"
   ]
  },
  {
   "cell_type": "markdown",
   "id": "9698fcf2",
   "metadata": {},
   "source": [
    "Write an `if` statement that print `Yes` if `some_number` is larger than 6"
   ]
  },
  {
   "cell_type": "code",
   "execution_count": 103,
   "id": "e7baaaae",
   "metadata": {},
   "outputs": [
    {
     "name": "stdout",
     "output_type": "stream",
     "text": [
      "Yes\n"
     ]
    }
   ],
   "source": [
    "if some_number > 6\n",
    "    println(\"Yes\")\n",
    "end"
   ]
  },
  {
   "cell_type": "markdown",
   "id": "c9385b0a",
   "metadata": {},
   "source": [
    "##### Example 8"
   ]
  },
  {
   "cell_type": "code",
   "execution_count": 117,
   "id": "ed1bc26f",
   "metadata": {},
   "outputs": [
    {
     "data": {
      "text/plain": [
       "(3, 4)"
      ]
     },
     "execution_count": 117,
     "metadata": {},
     "output_type": "execute_result"
    }
   ],
   "source": [
    "var_a, var_b = 3, 4"
   ]
  },
  {
   "cell_type": "markdown",
   "id": "c6041ef7",
   "metadata": {},
   "source": [
    "Print out \"It's complicated\" if `var_a` is greater than 1 or `var_b` is not less than 2"
   ]
  },
  {
   "cell_type": "code",
   "execution_count": 118,
   "id": "d7f911cb",
   "metadata": {
    "scrolled": true
   },
   "outputs": [
    {
     "name": "stdout",
     "output_type": "stream",
     "text": [
      "It's complicated"
     ]
    }
   ],
   "source": [
    "if (var_a > 1) || (var_b >= 2)\n",
    "    print(\"It's complicated\")\n",
    "end"
   ]
  },
  {
   "cell_type": "markdown",
   "id": "5d873d7f",
   "metadata": {},
   "source": [
    "##### Example 9"
   ]
  },
  {
   "cell_type": "code",
   "execution_count": 125,
   "id": "2d1ceaa1",
   "metadata": {},
   "outputs": [
    {
     "data": {
      "text/plain": [
       "4"
      ]
     },
     "execution_count": 125,
     "metadata": {},
     "output_type": "execute_result"
    }
   ],
   "source": [
    "var_b"
   ]
  },
  {
   "cell_type": "markdown",
   "id": "a1aac535",
   "metadata": {},
   "source": [
    "Check whether `var_b` is not less than 2 but not using `>=`"
   ]
  },
  {
   "cell_type": "code",
   "execution_count": 126,
   "id": "3c916be4",
   "metadata": {},
   "outputs": [
    {
     "data": {
      "text/plain": [
       "true"
      ]
     },
     "execution_count": 126,
     "metadata": {},
     "output_type": "execute_result"
    }
   ],
   "source": [
    "!(var_b < 2)"
   ]
  },
  {
   "cell_type": "markdown",
   "id": "e69afc00",
   "metadata": {},
   "source": [
    "##### Example 10"
   ]
  },
  {
   "cell_type": "code",
   "execution_count": 129,
   "id": "8802b982",
   "metadata": {},
   "outputs": [
    {
     "data": {
      "text/plain": [
       "(2, 3)"
      ]
     },
     "execution_count": 129,
     "metadata": {},
     "output_type": "execute_result"
    }
   ],
   "source": [
    "x, y"
   ]
  },
  {
   "cell_type": "markdown",
   "id": "aa2445b4",
   "metadata": {},
   "source": [
    "Create a non-anonymous function that works as bellow in one line"
   ]
  },
  {
   "cell_type": "code",
   "execution_count": 130,
   "id": "219a4385",
   "metadata": {},
   "outputs": [
    {
     "data": {
      "text/plain": [
       "f (generic function with 1 method)"
      ]
     },
     "execution_count": 130,
     "metadata": {},
     "output_type": "execute_result"
    }
   ],
   "source": [
    "f(x, y) = x + y"
   ]
  },
  {
   "cell_type": "code",
   "execution_count": 131,
   "id": "ce14d23a",
   "metadata": {},
   "outputs": [
    {
     "data": {
      "text/plain": [
       "5"
      ]
     },
     "execution_count": 131,
     "metadata": {},
     "output_type": "execute_result"
    }
   ],
   "source": [
    "f(x, y)"
   ]
  },
  {
   "cell_type": "markdown",
   "id": "315a683b",
   "metadata": {},
   "source": [
    "##### Example 11"
   ]
  },
  {
   "cell_type": "code",
   "execution_count": 139,
   "id": "b6456283",
   "metadata": {},
   "outputs": [
    {
     "data": {
      "text/plain": [
       "(2, 3)"
      ]
     },
     "execution_count": 139,
     "metadata": {},
     "output_type": "execute_result"
    }
   ],
   "source": [
    "x, y"
   ]
  },
  {
   "cell_type": "markdown",
   "id": "1074d1d1",
   "metadata": {},
   "source": [
    "Create a function that calculate $3x^2 + 2y^2 - xy$ as bellow"
   ]
  },
  {
   "cell_type": "code",
   "execution_count": 144,
   "id": "0e43ac5e",
   "metadata": {},
   "outputs": [
    {
     "data": {
      "text/plain": [
       "poly (generic function with 1 method)"
      ]
     },
     "execution_count": 144,
     "metadata": {},
     "output_type": "execute_result"
    }
   ],
   "source": [
    "function poly(x, y)\n",
    "    return 3x^2 + 2y^2 - x*y\n",
    "end"
   ]
  },
  {
   "cell_type": "code",
   "execution_count": 149,
   "id": "19734292",
   "metadata": {},
   "outputs": [
    {
     "data": {
      "text/plain": [
       "24"
      ]
     },
     "execution_count": 149,
     "metadata": {},
     "output_type": "execute_result"
    }
   ],
   "source": [
    "poly(x, y)"
   ]
  },
  {
   "cell_type": "markdown",
   "id": "780e3353",
   "metadata": {},
   "source": [
    "##### Example 12"
   ]
  },
  {
   "cell_type": "code",
   "execution_count": 153,
   "id": "dbd88ba1",
   "metadata": {},
   "outputs": [
    {
     "ename": "LoadError",
     "evalue": "syntax: \"\\\" is not a unary operator",
     "output_type": "error",
     "traceback": [
      "syntax: \"\\\" is not a unary operator",
      "",
      "Stacktrace:",
      " [1] top-level scope",
      "   @ In[153]:1",
      " [2] eval",
      "   @ ./boot.jl:368 [inlined]",
      " [3] include_string(mapexpr::typeof(REPL.softscope), mod::Module, code::String, filename::String)",
      "   @ Base ./loading.jl:1428"
     ]
    }
   ],
   "source": [
    "\\theta"
   ]
  },
  {
   "cell_type": "code",
   "execution_count": 151,
   "id": "7af203aa",
   "metadata": {},
   "outputs": [
    {
     "ename": "LoadError",
     "evalue": "syntax: invalid identifier name \"...\"",
     "output_type": "error",
     "traceback": [
      "syntax: invalid identifier name \"...\"",
      "",
      "Stacktrace:",
      " [1] top-level scope",
      "   @ In[151]:1",
      " [2] eval",
      "   @ ./boot.jl:368 [inlined]",
      " [3] include_string(mapexpr::typeof(REPL.softscope), mod::Module, code::String, filename::String)",
      "   @ Base ./loading.jl:1428"
     ]
    }
   ],
   "source": [
    "function f(x, ..., y):\n",
    "    return nothing\n",
    "end"
   ]
  },
  {
   "cell_type": "markdown",
   "id": "9d1cbecf",
   "metadata": {},
   "source": [
    "### Primitive Types"
   ]
  },
  {
   "cell_type": "markdown",
   "id": "14a56eab",
   "metadata": {},
   "source": [
    "##### Example 1"
   ]
  },
  {
   "cell_type": "markdown",
   "id": "9bc7fa2c",
   "metadata": {},
   "source": [
    "Explain why?"
   ]
  },
  {
   "cell_type": "code",
   "execution_count": 29,
   "id": "f4054d5e",
   "metadata": {},
   "outputs": [
    {
     "data": {
      "text/plain": [
       "0.6666666666666666"
      ]
     },
     "execution_count": 29,
     "metadata": {},
     "output_type": "execute_result"
    }
   ],
   "source": [
    "2/3"
   ]
  },
  {
   "cell_type": "code",
   "execution_count": 30,
   "id": "6ced69a1",
   "metadata": {},
   "outputs": [
    {
     "data": {
      "text/plain": [
       "false"
      ]
     },
     "execution_count": 30,
     "metadata": {},
     "output_type": "execute_result"
    }
   ],
   "source": [
    "2//3 == 2/3"
   ]
  },
  {
   "cell_type": "markdown",
   "id": "11354fcb",
   "metadata": {},
   "source": [
    "**Explain** `2//3` is rational number which has infinite decimal points => not equal to 2/3 (rounded)"
   ]
  },
  {
   "cell_type": "markdown",
   "id": "51fab3c6",
   "metadata": {},
   "source": [
    "### Others"
   ]
  },
  {
   "cell_type": "markdown",
   "id": "af9677a5",
   "metadata": {},
   "source": [
    "##### Example 1: Install a package"
   ]
  },
  {
   "cell_type": "markdown",
   "id": "f6f2a13d",
   "metadata": {},
   "source": [
    "Install package `Sympy`"
   ]
  },
  {
   "cell_type": "code",
   "execution_count": 1,
   "id": "ad1ef4c6",
   "metadata": {},
   "outputs": [],
   "source": [
    "import Pkg;"
   ]
  },
  {
   "cell_type": "code",
   "execution_count": 2,
   "id": "756f4e73",
   "metadata": {},
   "outputs": [
    {
     "name": "stderr",
     "output_type": "stream",
     "text": [
      "\u001b[32m\u001b[1m    Updating\u001b[22m\u001b[39m registry at `~/.julia/registries/General.toml`\n",
      "\u001b[32m\u001b[1m   Resolving\u001b[22m\u001b[39m package versions...\n",
      "\u001b[32m\u001b[1m   Installed\u001b[22m\u001b[39m PyCall ────── v1.94.1\n",
      "\u001b[32m\u001b[1m   Installed\u001b[22m\u001b[39m CommonEq ──── v0.2.0\n",
      "\u001b[32m\u001b[1m   Installed\u001b[22m\u001b[39m CommonSolve ─ v0.2.3\n",
      "\u001b[32m\u001b[1m   Installed\u001b[22m\u001b[39m SymPy ─────── v1.1.7\n",
      "\u001b[32m\u001b[1m    Updating\u001b[22m\u001b[39m `~/.julia/environments/v1.8/Project.toml`\n",
      " \u001b[90m [24249f21] \u001b[39m\u001b[92m+ SymPy v1.1.7\u001b[39m\n",
      "\u001b[32m\u001b[1m    Updating\u001b[22m\u001b[39m `~/.julia/environments/v1.8/Manifest.toml`\n",
      " \u001b[90m [3709ef60] \u001b[39m\u001b[92m+ CommonEq v0.2.0\u001b[39m\n",
      " \u001b[90m [38540f10] \u001b[39m\u001b[92m+ CommonSolve v0.2.3\u001b[39m\n",
      " \u001b[90m [438e738f] \u001b[39m\u001b[92m+ PyCall v1.94.1\u001b[39m\n",
      " \u001b[90m [24249f21] \u001b[39m\u001b[92m+ SymPy v1.1.7\u001b[39m\n",
      "\u001b[32m\u001b[1m    Building\u001b[22m\u001b[39m PyCall → `~/.julia/scratchspaces/44cfe95a-1eb2-52ea-b672-e2afdf69b78f/53b8b07b721b77144a0fbbbc2675222ebf40a02d/build.log`\n",
      "\u001b[32m\u001b[1mPrecompiling\u001b[22m\u001b[39m project...\n",
      "\u001b[32m  ✓ \u001b[39m\u001b[90mCommonEq\u001b[39m\n",
      "\u001b[32m  ✓ \u001b[39m\u001b[90mCommonSolve\u001b[39m\n",
      "\u001b[32m  ✓ \u001b[39m\u001b[90mPyCall\u001b[39m\n",
      "\u001b[32m  ✓ \u001b[39mSymPy\n",
      "  4 dependencies successfully precompiled in 5 seconds. 141 already precompiled.\n"
     ]
    }
   ],
   "source": [
    "Pkg.add(\"SymPy\")"
   ]
  },
  {
   "cell_type": "markdown",
   "id": "482fbfa6",
   "metadata": {},
   "source": [
    "##### Example 2"
   ]
  },
  {
   "cell_type": "markdown",
   "id": "363014f7",
   "metadata": {},
   "source": [
    "Import package Sympy"
   ]
  },
  {
   "cell_type": "code",
   "execution_count": 41,
   "id": "8738e8a1",
   "metadata": {},
   "outputs": [],
   "source": [
    "using SymPy"
   ]
  },
  {
   "cell_type": "code",
   "execution_count": 42,
   "id": "1dd0468b",
   "metadata": {},
   "outputs": [
    {
     "data": {
      "text/latex": [
       "$x$"
      ],
      "text/plain": [
       "x"
      ]
     },
     "execution_count": 42,
     "metadata": {},
     "output_type": "execute_result"
    }
   ],
   "source": [
    "x = Sym(\"x\")"
   ]
  },
  {
   "cell_type": "markdown",
   "id": "646b360a",
   "metadata": {},
   "source": [
    "##### Example 3"
   ]
  },
  {
   "cell_type": "markdown",
   "id": "aaff4adc",
   "metadata": {},
   "source": [
    "Create a function $y$"
   ]
  },
  {
   "cell_type": "code",
   "execution_count": 44,
   "id": "f7285ce7",
   "metadata": {},
   "outputs": [],
   "source": [
    "using SymPy"
   ]
  },
  {
   "cell_type": "code",
   "execution_count": 45,
   "id": "ceae04af",
   "metadata": {
    "scrolled": true
   },
   "outputs": [
    {
     "data": {
      "text/latex": [
       "$\\begin{align*}y\\end{align*}$\n"
      ],
      "text/plain": [
       "y"
      ]
     },
     "execution_count": 45,
     "metadata": {},
     "output_type": "execute_result"
    }
   ],
   "source": [
    "y = SymFunction(\"y\")"
   ]
  },
  {
   "cell_type": "code",
   "execution_count": 47,
   "id": "4c39c6eb",
   "metadata": {},
   "outputs": [
    {
     "data": {
      "text/latex": [
       "$y{\\left(x \\right)}$"
      ],
      "text/plain": [
       "y(x)"
      ]
     },
     "execution_count": 47,
     "metadata": {},
     "output_type": "execute_result"
    }
   ],
   "source": [
    "y(x)"
   ]
  },
  {
   "cell_type": "code",
   "execution_count": 15,
   "id": "70de59b6",
   "metadata": {},
   "outputs": [
    {
     "data": {
      "text/latex": [
       "$\\frac{d}{d x} y{\\left(x \\right)}$"
      ],
      "text/plain": [
       "d       \n",
       "──(y(x))\n",
       "dx      "
      ]
     },
     "execution_count": 15,
     "metadata": {},
     "output_type": "execute_result"
    }
   ],
   "source": [
    "dy = diff(y(x), x)"
   ]
  },
  {
   "cell_type": "code",
   "execution_count": 17,
   "id": "d6cca14f",
   "metadata": {},
   "outputs": [
    {
     "data": {
      "text/latex": [
       "$\\frac{d^{2}}{d x^{2}} y{\\left(x \\right)}$"
      ],
      "text/plain": [
       "  2      \n",
       " d       \n",
       "───(y(x))\n",
       "  2      \n",
       "dx       "
      ]
     },
     "execution_count": 17,
     "metadata": {},
     "output_type": "execute_result"
    }
   ],
   "source": [
    "diff(dy, x)"
   ]
  },
  {
   "cell_type": "code",
   "execution_count": 18,
   "id": "a325b6dd",
   "metadata": {},
   "outputs": [
    {
     "data": {
      "text/plain": [
       "Sym"
      ]
     },
     "execution_count": 18,
     "metadata": {},
     "output_type": "execute_result"
    }
   ],
   "source": [
    "typeof(dy)"
   ]
  },
  {
   "cell_type": "code",
   "execution_count": 19,
   "id": "80d102fc",
   "metadata": {},
   "outputs": [
    {
     "data": {
      "text/latex": [
       "$x^{2} + y^{2}{\\left(x \\right)} - 1$"
      ],
      "text/plain": [
       " 2    2       \n",
       "x  + y (x) - 1"
      ]
     },
     "execution_count": 19,
     "metadata": {},
     "output_type": "execute_result"
    }
   ],
   "source": [
    "c = x^2 + y(x)^2 - 1"
   ]
  },
  {
   "cell_type": "code",
   "execution_count": 21,
   "id": "88053780",
   "metadata": {},
   "outputs": [
    {
     "data": {
      "text/latex": [
       "$2 x + 2 y{\\left(x \\right)} \\frac{d}{d x} y{\\left(x \\right)}$"
      ],
      "text/plain": [
       "             d       \n",
       "2⋅x + 2⋅y(x)⋅──(y(x))\n",
       "             dx      "
      ]
     },
     "execution_count": 21,
     "metadata": {},
     "output_type": "execute_result"
    }
   ],
   "source": [
    "dc = diff(c, x)"
   ]
  },
  {
   "cell_type": "code",
   "execution_count": 27,
   "id": "902e61a8",
   "metadata": {},
   "outputs": [
    {
     "data": {
      "text/latex": [
       "$\\left[ \\begin{array}{r}- \\frac{x}{y{\\left(x \\right)}}\\end{array} \\right]$\n"
      ],
      "text/plain": [
       "1-element Vector{Sym}:\n",
       " -x/y(x)"
      ]
     },
     "execution_count": 27,
     "metadata": {},
     "output_type": "execute_result"
    }
   ],
   "source": [
    "dydx = solve(dc, dy)"
   ]
  },
  {
   "cell_type": "code",
   "execution_count": 28,
   "id": "949fdd96",
   "metadata": {},
   "outputs": [
    {
     "data": {
      "text/plain": [
       "Vector{Sym}\u001b[90m (alias for \u001b[39m\u001b[90mArray{Sym, 1}\u001b[39m\u001b[90m)\u001b[39m"
      ]
     },
     "execution_count": 28,
     "metadata": {},
     "output_type": "execute_result"
    }
   ],
   "source": [
    "typeof(dydx)"
   ]
  },
  {
   "cell_type": "code",
   "execution_count": 29,
   "id": "3ca06004",
   "metadata": {},
   "outputs": [
    {
     "data": {
      "text/latex": [
       "$- \\frac{x}{y{\\left(x \\right)}}$"
      ],
      "text/plain": [
       "-x  \n",
       "────\n",
       "y(x)"
      ]
     },
     "execution_count": 29,
     "metadata": {},
     "output_type": "execute_result"
    }
   ],
   "source": [
    "dydx[1]"
   ]
  },
  {
   "cell_type": "code",
   "execution_count": null,
   "id": "8f669067",
   "metadata": {},
   "outputs": [],
   "source": []
  },
  {
   "cell_type": "markdown",
   "id": "b7a983b1",
   "metadata": {},
   "source": [
    "https://youtu.be/BnTYMOOPEzw?t=6357"
   ]
  },
  {
   "cell_type": "code",
   "execution_count": null,
   "id": "11e09e8b",
   "metadata": {},
   "outputs": [],
   "source": []
  }
 ],
 "metadata": {
  "kernelspec": {
   "display_name": "Julia 1.8.2",
   "language": "julia",
   "name": "julia-1.8"
  },
  "language_info": {
   "file_extension": ".jl",
   "mimetype": "application/julia",
   "name": "julia",
   "version": "1.8.2"
  }
 },
 "nbformat": 4,
 "nbformat_minor": 5
}
