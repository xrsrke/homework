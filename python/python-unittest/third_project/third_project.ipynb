{
 "cells": [
  {
   "cell_type": "code",
   "execution_count": 9,
   "id": "f538a0f7-b474-436d-9cf7-586724eae623",
   "metadata": {},
   "outputs": [],
   "source": [
    "class Profile:\n",
    "    def __init__(self, name, age, job):\n",
    "        self._name = name\n",
    "        self._age = age\n",
    "        self._job = job\n",
    "    \n",
    "    def print_name(self):\n",
    "        print(self._name)"
   ]
  },
  {
   "cell_type": "code",
   "execution_count": 16,
   "id": "e09b6dee-9fd7-4615-8406-4d9dfdbc0d83",
   "metadata": {},
   "outputs": [],
   "source": [
    "class Profile:\n",
    "    def __init__(self, name):\n",
    "        self._name = name\n",
    "    \n",
    "    def print_name(self):\n",
    "        print(self._name)"
   ]
  },
  {
   "cell_type": "code",
   "execution_count": 17,
   "id": "cd64a830-44e3-48b7-a468-e74042f65895",
   "metadata": {},
   "outputs": [],
   "source": [
    "p = Profile(\"Shivon\")"
   ]
  },
  {
   "cell_type": "code",
   "execution_count": 18,
   "id": "909ca3f1-b057-4b20-bf01-3d90b543ca0c",
   "metadata": {},
   "outputs": [],
   "source": [
    "import sys\n",
    "import unittest\n",
    "from io import StringIO"
   ]
  },
  {
   "cell_type": "markdown",
   "id": "5aed1ab9-293c-47a1-b2a2-2666647e23d1",
   "metadata": {},
   "source": [
    "Create a unittest that test the printed output from `prin_name()`"
   ]
  },
  {
   "cell_type": "code",
   "execution_count": 23,
   "id": "885c140f-090b-4317-a427-68201b8b13d6",
   "metadata": {},
   "outputs": [],
   "source": [
    "class TestPrintedOutput(unittest.TestCase):\n",
    "    def setUp(self):\n",
    "        self.held, sys.stdout = sys.stdout, StringIO\n",
    "        self.profile = Profile(\"Shivon\")\n",
    "    \n",
    "    def test_name(self):\n",
    "        self.profile.print_name()\n",
    "    \n",
    "    def tearUp(self):\n",
    "        pass"
   ]
  },
  {
   "cell_type": "code",
   "execution_count": null,
   "id": "3bc2f227-8041-4053-bbcc-39952263cdc6",
   "metadata": {},
   "outputs": [],
   "source": []
  }
 ],
 "metadata": {
  "kernelspec": {
   "display_name": "Python 3 (ipykernel)",
   "language": "python",
   "name": "python3"
  },
  "language_info": {
   "codemirror_mode": {
    "name": "ipython",
    "version": 3
   },
   "file_extension": ".py",
   "mimetype": "text/x-python",
   "name": "python",
   "nbconvert_exporter": "python",
   "pygments_lexer": "ipython3",
   "version": "3.9.12"
  }
 },
 "nbformat": 4,
 "nbformat_minor": 5
}
