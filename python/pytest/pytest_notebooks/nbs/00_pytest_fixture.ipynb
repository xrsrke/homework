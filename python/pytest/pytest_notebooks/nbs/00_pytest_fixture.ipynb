{
 "cells": [
  {
   "cell_type": "code",
   "execution_count": 23,
   "id": "d596ff2f-a80a-4f8e-9fe4-abdf1cf2b6da",
   "metadata": {},
   "outputs": [],
   "source": [
    "#| default_exp tests.test_fixture"
   ]
  },
  {
   "cell_type": "code",
   "execution_count": 24,
   "id": "aa4d6a08-93e2-4399-b02e-5b0f9dd7e666",
   "metadata": {},
   "outputs": [],
   "source": [
    "#| hide\n",
    "from nbdev.showdoc import *"
   ]
  },
  {
   "cell_type": "code",
   "execution_count": 25,
   "id": "c8e145c8-8627-4056-9ac1-1c08fbb0c6d4",
   "metadata": {},
   "outputs": [],
   "source": [
    "#| hide\n",
    "import nbdev; nbdev.nbdev_export()"
   ]
  },
  {
   "cell_type": "code",
   "execution_count": 26,
   "id": "b4d01ec9-114c-45ae-806b-9714df4a0ad8",
   "metadata": {},
   "outputs": [],
   "source": [
    "#| export\n",
    "import pytest"
   ]
  },
  {
   "cell_type": "code",
   "execution_count": 52,
   "id": "04ddc91d-80ba-4b2b-a072-240bd886a4bb",
   "metadata": {},
   "outputs": [],
   "source": [
    "#| export\n",
    "class Book:\n",
    "    def __init__(self, name):\n",
    "        self.name = name"
   ]
  },
  {
   "cell_type": "code",
   "execution_count": 53,
   "id": "e4dd5160-2b9b-4a29-9f84-258fbae90e5e",
   "metadata": {},
   "outputs": [],
   "source": [
    "def test_book():\n",
    "    notebook = Book(\"Zoo Adventure\")\n",
    "    assert notebook.name == \"Zoo Adventure\""
   ]
  },
  {
   "cell_type": "markdown",
   "id": "b2f022e2-7ec9-49ad-91ac-677a44f737e6",
   "metadata": {},
   "source": [
    "Rewrite `test_book()` using pytest fixture"
   ]
  },
  {
   "cell_type": "code",
   "execution_count": 56,
   "id": "4593e624-cf34-437e-a939-0738ad5d9d31",
   "metadata": {},
   "outputs": [],
   "source": [
    "#| export\n",
    "@pytest.fixture\n",
    "def notebook() -> Book:\n",
    "    return Book(\"Zoo Adventure\")"
   ]
  },
  {
   "cell_type": "code",
   "execution_count": 55,
   "id": "540caea1-a933-4ba5-b2c2-4697eef66e80",
   "metadata": {},
   "outputs": [],
   "source": [
    "#| export\n",
    "def test_book(notebook):\n",
    "    assert notebook.name == \"Zoo Adventure\""
   ]
  },
  {
   "cell_type": "markdown",
   "id": "e3176893-ce62-4ad3-a804-93328ed08e1c",
   "metadata": {},
   "source": [
    "#### Fixture with arguments"
   ]
  },
  {
   "cell_type": "code",
   "execution_count": 71,
   "id": "a9c887a1-be7a-4232-9bf9-f8b1c6a2d5d8",
   "metadata": {},
   "outputs": [],
   "source": [
    "#| export\n",
    "class Vehicle:\n",
    "    def __init__(self, name): self.name = name"
   ]
  },
  {
   "cell_type": "code",
   "execution_count": 79,
   "id": "adbef3a5-71a2-4e6c-a192-3598c22bbabd",
   "metadata": {},
   "outputs": [
    {
     "data": {
      "text/plain": [
       "True"
      ]
     },
     "execution_count": 79,
     "metadata": {},
     "output_type": "execute_result"
    }
   ],
   "source": [
    "callable(Vehicle)"
   ]
  },
  {
   "cell_type": "code",
   "execution_count": 89,
   "id": "61993e15-ebfa-4c8e-aecd-d7527f2663f0",
   "metadata": {},
   "outputs": [
    {
     "data": {
      "text/plain": [
       "'truck'"
      ]
     },
     "execution_count": 89,
     "metadata": {},
     "output_type": "execute_result"
    }
   ],
   "source": [
    "Vehicle(name=\"truck\").name"
   ]
  },
  {
   "cell_type": "code",
   "execution_count": 90,
   "id": "137c01c7-0196-41fe-b98e-1e7164345fea",
   "metadata": {},
   "outputs": [],
   "source": [
    "# #| export\n",
    "# @pytest.fixture\n",
    "# def car(**kwargs):\n",
    "#     a = Vehicle(name=\"name\")\n",
    "#     return a"
   ]
  },
  {
   "cell_type": "code",
   "execution_count": 87,
   "id": "48d93c5a-6410-466c-94ec-85d0a3743f66",
   "metadata": {},
   "outputs": [],
   "source": [
    "#| export\n",
    "@pytest.fixture\n",
    "def car(**kwargs):\n",
    "    \n",
    "    def _car(**kwargs):\n",
    "        return Vehicle(kwargs).name\n",
    "\n",
    "    return _car"
   ]
  },
  {
   "cell_type": "code",
   "execution_count": 107,
   "id": "54569e48-0c1f-4296-8ab2-6908ec7b98a4",
   "metadata": {},
   "outputs": [],
   "source": [
    "#| export\n",
    "@pytest.mark.xfail\n",
    "def test_car(car):\n",
    "    c1 = car(name=\"Truck\")\n",
    "    c2 = car(name=\"Bus\")\n",
    "    \n",
    "    assert c1 == \"Truck\"\n",
    "    assert c2 == \"Bus\""
   ]
  },
  {
   "cell_type": "markdown",
   "id": "51d21276-ad78-491e-a219-2f615c13c833",
   "metadata": {},
   "source": [
    "### 3. Executing Parametrized Fixtures"
   ]
  },
  {
   "cell_type": "code",
   "execution_count": 99,
   "id": "7a12050c-44a6-4fec-8874-1ac1dd95bb43",
   "metadata": {},
   "outputs": [],
   "source": [
    "#| export\n",
    "class Tree:\n",
    "    def __init__(self, name): self.name = name"
   ]
  },
  {
   "cell_type": "code",
   "execution_count": 100,
   "id": "ec9b4dec-cea8-433e-9c04-3bd8e96893b3",
   "metadata": {},
   "outputs": [],
   "source": [
    "# #| export\n",
    "# @pytest.fixture\n",
    "# def plant(name):\n",
    "#     return Tree(name)"
   ]
  },
  {
   "cell_type": "code",
   "execution_count": 103,
   "id": "502ee4e5-52e3-4e5a-b1ad-89decfde52d6",
   "metadata": {},
   "outputs": [],
   "source": [
    "# #| export\n",
    "# @pytest.fixture\n",
    "# def plants(request, plant):\n",
    "    \n",
    "#     plants = []\n",
    "#     names = request.param\n",
    "    \n",
    "#     for name in names:\n",
    "#         plants.append(plant(name))\n",
    "    \n",
    "#     return plants"
   ]
  },
  {
   "cell_type": "code",
   "execution_count": 105,
   "id": "02dd318a-316c-48a4-8c28-d0fbefecafb8",
   "metadata": {},
   "outputs": [],
   "source": [
    "# #| export\n",
    "# def test_plants(plants):\n",
    "#     names = [\"A\", \"B\", \"C\"]"
   ]
  },
  {
   "cell_type": "code",
   "execution_count": 106,
   "id": "28dcf9a9-64dc-4b2c-b41f-d707c957056e",
   "metadata": {},
   "outputs": [
    {
     "name": "stderr",
     "output_type": "stream",
     "text": [
      "2022-09-12 10:54:27.302 | DEBUG    | __main__:<cell line: 3>:3 - That's it, beautiful and simple logging!\n"
     ]
    }
   ],
   "source": [
    "from loguru import logger\n",
    "\n",
    "logger.debug(\"That's it, beautiful and simple logging!\")"
   ]
  },
  {
   "cell_type": "code",
   "execution_count": null,
   "id": "88a80c1c-aedb-4ba5-9dc2-50f7ed6c172e",
   "metadata": {},
   "outputs": [],
   "source": []
  }
 ],
 "metadata": {
  "kernelspec": {
   "display_name": "Python 3 (ipykernel)",
   "language": "python",
   "name": "python3"
  },
  "language_info": {
   "codemirror_mode": {
    "name": "ipython",
    "version": 3
   },
   "file_extension": ".py",
   "mimetype": "text/x-python",
   "name": "python",
   "nbconvert_exporter": "python",
   "pygments_lexer": "ipython3",
   "version": "3.9.13"
  }
 },
 "nbformat": 4,
 "nbformat_minor": 5
}
