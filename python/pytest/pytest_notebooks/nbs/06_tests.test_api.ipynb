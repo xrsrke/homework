{
 "cells": [
  {
   "cell_type": "code",
   "execution_count": null,
   "id": "58e22bbf-1773-4565-9a9e-22f84e9ae3ee",
   "metadata": {},
   "outputs": [],
   "source": [
    "#| default_exp tests.test_api"
   ]
  },
  {
   "cell_type": "code",
   "execution_count": null,
   "id": "fbb59456-d2fe-47f5-a15c-83d2617ab10f",
   "metadata": {},
   "outputs": [],
   "source": [
    "#| hide\n",
    "from nbdev.showdoc import *"
   ]
  },
  {
   "cell_type": "code",
   "execution_count": null,
   "id": "4dbef94c-a000-4be0-8acb-487437dd3413",
   "metadata": {},
   "outputs": [],
   "source": [
    "#| hide\n",
    "import nbdev; nbdev.nbdev_export()"
   ]
  },
  {
   "cell_type": "code",
   "execution_count": null,
   "id": "90459330-b21d-4de7-8795-21cdfdc20644",
   "metadata": {},
   "outputs": [],
   "source": [
    "#| export\n",
    "import pytest"
   ]
  },
  {
   "cell_type": "markdown",
   "id": "3f765a45-58c0-4494-82e7-2b23dd13b8c1",
   "metadata": {},
   "source": [
    "Add decorator `@pytest.mark.skip` automatically to all functions, and methods in this file"
   ]
  },
  {
   "cell_type": "code",
   "execution_count": null,
   "id": "21a67051-d845-413a-a483-0c19d6cb7ab2",
   "metadata": {},
   "outputs": [],
   "source": [
    "#| export\n",
    "pytestmark = pytest.mark.skip"
   ]
  },
  {
   "cell_type": "code",
   "execution_count": null,
   "id": "1217ecc2-25eb-4830-84d7-cb01c8da61fb",
   "metadata": {},
   "outputs": [],
   "source": [
    "#| export\n",
    "def test_connect_db():\n",
    "    pass"
   ]
  },
  {
   "cell_type": "code",
   "execution_count": null,
   "id": "7731caa5-a1a5-4db0-95d0-aa97dac5699a",
   "metadata": {},
   "outputs": [],
   "source": [
    "#| export\n",
    "def test_init_db():\n",
    "    pass"
   ]
  },
  {
   "cell_type": "code",
   "execution_count": null,
   "id": "d594c6fe-c84a-4cf3-b166-7411938b70e9",
   "metadata": {},
   "outputs": [],
   "source": []
  },
  {
   "cell_type": "code",
   "execution_count": null,
   "id": "f975ede9-7da4-40c1-bbdf-93aeb0c23eeb",
   "metadata": {},
   "outputs": [],
   "source": []
  },
  {
   "cell_type": "code",
   "execution_count": null,
   "id": "ac1c507a-46d2-4c0e-8e25-d7df232661e4",
   "metadata": {},
   "outputs": [],
   "source": []
  }
 ],
 "metadata": {
  "kernelspec": {
   "display_name": "Python 3 (ipykernel)",
   "language": "python",
   "name": "python3"
  },
  "language_info": {
   "codemirror_mode": {
    "name": "ipython",
    "version": 3
   },
   "file_extension": ".py",
   "mimetype": "text/x-python",
   "name": "python",
   "nbconvert_exporter": "python",
   "pygments_lexer": "ipython3",
   "version": "3.9.13"
  }
 },
 "nbformat": 4,
 "nbformat_minor": 5
}
