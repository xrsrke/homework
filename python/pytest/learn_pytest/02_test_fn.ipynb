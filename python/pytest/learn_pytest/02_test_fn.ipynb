{
 "cells": [
  {
   "cell_type": "code",
   "execution_count": 1,
   "id": "403d1d71-af73-4260-a3ee-08f9651f98e5",
   "metadata": {},
   "outputs": [],
   "source": [
    "#| default_exp test_fn"
   ]
  },
  {
   "cell_type": "code",
   "execution_count": 2,
   "id": "1c732f1b-dff8-4d86-a06b-7ca2046eca78",
   "metadata": {},
   "outputs": [],
   "source": [
    "#| hide\n",
    "from nbdev.showdoc import *"
   ]
  },
  {
   "cell_type": "code",
   "execution_count": 3,
   "id": "da7b8555-385f-47dc-9c32-c0abbd1b26fb",
   "metadata": {},
   "outputs": [],
   "source": [
    "#| hide\n",
    "import nbdev; nbdev.nbdev_export()"
   ]
  },
  {
   "cell_type": "code",
   "execution_count": 5,
   "id": "0c45365a-9b34-4285-a629-8f4add1952ef",
   "metadata": {},
   "outputs": [],
   "source": [
    "#| export\n",
    "import pytest"
   ]
  },
  {
   "cell_type": "code",
   "execution_count": 6,
   "id": "794388e5-3bc5-4665-96ff-ba7288e493a6",
   "metadata": {},
   "outputs": [],
   "source": [
    "#| export\n",
    "def test_func_1():\n",
    "    pass"
   ]
  },
  {
   "cell_type": "markdown",
   "id": "275b7096-ca75-4362-9b53-a60a55517706",
   "metadata": {},
   "source": [
    "Tell pytest to skip this function"
   ]
  },
  {
   "cell_type": "code",
   "execution_count": 14,
   "id": "c384715f-f524-4fcb-89ac-40ee25a7a0ae",
   "metadata": {},
   "outputs": [],
   "source": [
    "def test_func_2():\n",
    "    pass"
   ]
  },
  {
   "cell_type": "code",
   "execution_count": 16,
   "id": "f910b3e3-5859-42de-a918-d7dd974592c8",
   "metadata": {},
   "outputs": [],
   "source": [
    "#| export\n",
    "@pytest.mark.skip\n",
    "def test_func_2():\n",
    "    assert 1 == 2"
   ]
  },
  {
   "cell_type": "markdown",
   "id": "2673d66e-5998-4c2b-a048-b7c7453021d1",
   "metadata": {},
   "source": [
    "Tell pytest to skip this function if `a` > `b` with reason `cause i want to`"
   ]
  },
  {
   "cell_type": "code",
   "execution_count": 49,
   "id": "b8c2da84-7810-4695-9137-8b5654b83a0a",
   "metadata": {},
   "outputs": [],
   "source": [
    "#| export\n",
    "a, b = 3, 33"
   ]
  },
  {
   "cell_type": "code",
   "execution_count": 50,
   "id": "8bbfef7a-ab48-4856-8456-4c76b2eecd22",
   "metadata": {},
   "outputs": [],
   "source": [
    "def test_func_3():\n",
    "    pass"
   ]
  },
  {
   "cell_type": "code",
   "execution_count": 57,
   "id": "467c0f09-9d76-4363-a0d8-11628c91c837",
   "metadata": {},
   "outputs": [],
   "source": [
    "#\n",
    "# @pytest.mark.skipif(a > b, reason=\"cause i want to\")\n",
    "# def test_func_3():\n",
    "#     assert 1 == 2"
   ]
  },
  {
   "cell_type": "code",
   "execution_count": 56,
   "id": "93a82ed3-bdff-4fb5-973a-fc3fda9271f9",
   "metadata": {},
   "outputs": [],
   "source": [
    "#| export\n",
    "@pytest.mark.xfail\n",
    "def test_func_3():\n",
    "    assert 1 == 2"
   ]
  },
  {
   "cell_type": "code",
   "execution_count": 54,
   "id": "8c9ff38b-0f09-4093-ad2c-934d96b6afc4",
   "metadata": {},
   "outputs": [],
   "source": [
    "#| export\n",
    "def test_func_4():\n",
    "    pass"
   ]
  },
  {
   "cell_type": "code",
   "execution_count": null,
   "id": "2dad8e6c-31c6-4611-9aad-9f7cf0072e7d",
   "metadata": {},
   "outputs": [],
   "source": []
  },
  {
   "cell_type": "code",
   "execution_count": null,
   "id": "530c673f-0f1b-46b0-90eb-15c35e2631d8",
   "metadata": {},
   "outputs": [],
   "source": []
  }
 ],
 "metadata": {
  "kernelspec": {
   "display_name": "Python 3 (ipykernel)",
   "language": "python",
   "name": "python3"
  },
  "language_info": {
   "codemirror_mode": {
    "name": "ipython",
    "version": 3
   },
   "file_extension": ".py",
   "mimetype": "text/x-python",
   "name": "python",
   "nbconvert_exporter": "python",
   "pygments_lexer": "ipython3",
   "version": "3.9.12"
  }
 },
 "nbformat": 4,
 "nbformat_minor": 5
}
