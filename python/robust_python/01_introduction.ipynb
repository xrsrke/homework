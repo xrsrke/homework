{
 "cells": [
  {
   "cell_type": "markdown",
   "id": "7036282b-bb0e-49f3-beba-33b15374b425",
   "metadata": {},
   "source": [
    "## 3. Examples of Intent in Python"
   ]
  },
  {
   "cell_type": "markdown",
   "id": "876a1b0a-b5bf-4258-b45e-7f1203f367ea",
   "metadata": {},
   "source": [
    "### 3.1 Collections"
   ]
  },
  {
   "cell_type": "markdown",
   "id": "217f901b-1df1-44d0-a5fc-ae1e182acb34",
   "metadata": {},
   "source": [
    "#### Counter"
   ]
  },
  {
   "cell_type": "markdown",
   "id": "e6978d3e-dd78-4c42-a5eb-59b1cf94160d",
   "metadata": {},
   "source": [
    "##### Example 1"
   ]
  },
  {
   "cell_type": "code",
   "execution_count": null,
   "id": "65f7e5ab-598e-44d8-b237-23500bcda27e",
   "metadata": {},
   "outputs": [],
   "source": [
    "class Cookbook:\n",
    "    def __init__(self, author):\n",
    "        self.author = author\n",
    "    \n",
    "    def __repr__(self):\n",
    "        return f\"Cookbook({self.author})\""
   ]
  },
  {
   "cell_type": "code",
   "execution_count": null,
   "id": "9cd797ce-e454-4993-9132-5a2af855709d",
   "metadata": {},
   "outputs": [],
   "source": [
    "cookbooks = [Cookbook(\"A\"), Cookbook(\"A\"), Cookbook(\"B\"), Cookbook(\"C\")]"
   ]
  },
  {
   "cell_type": "code",
   "execution_count": null,
   "id": "3d1cdcf1-e946-4157-b946-b7f6179d208a",
   "metadata": {},
   "outputs": [
    {
     "data": {
      "text/plain": [
       "[Cookbook(A), Cookbook(A), Cookbook(B), Cookbook(C)]"
      ]
     },
     "execution_count": null,
     "metadata": {},
     "output_type": "execute_result"
    }
   ],
   "source": [
    "cookbooks"
   ]
  },
  {
   "cell_type": "code",
   "execution_count": null,
   "id": "41d45dc8-5377-46b1-af91-0c5ae20a6672",
   "metadata": {},
   "outputs": [],
   "source": [
    "def create_author_count_mapping(cookbooks):\n",
    "    counter = {}\n",
    "    for cookbook in cookbooks:\n",
    "        if cookbook.author not in counter:\n",
    "            counter[cookbook.author] = 0\n",
    "        counter[cookbook.author] += 1\n",
    "    \n",
    "    return counter"
   ]
  },
  {
   "cell_type": "code",
   "execution_count": null,
   "id": "9c7a2b59-ccfd-47ea-b250-e886e0a21abc",
   "metadata": {},
   "outputs": [
    {
     "data": {
      "text/plain": [
       "{'A': 2, 'B': 1, 'C': 1}"
      ]
     },
     "execution_count": null,
     "metadata": {},
     "output_type": "execute_result"
    }
   ],
   "source": [
    "create_author_count_mapping(cookbooks)"
   ]
  },
  {
   "cell_type": "markdown",
   "id": "33486171-416c-4800-adb7-71694ab8d5ef",
   "metadata": {},
   "source": [
    "Refacor the code above using `Counter`"
   ]
  },
  {
   "cell_type": "code",
   "execution_count": null,
   "id": "4fd380eb-e549-4360-ac45-4d3f9a6d21fa",
   "metadata": {},
   "outputs": [],
   "source": [
    "from collections import Counter"
   ]
  },
  {
   "cell_type": "code",
   "execution_count": null,
   "id": "302c6c74-bcb1-4e4d-8715-7f8e5ca3bc02",
   "metadata": {},
   "outputs": [],
   "source": [
    "def create_author_count_mapping(cookbooks):\n",
    "    return Counter(book.author for book in cookbooks)"
   ]
  },
  {
   "cell_type": "code",
   "execution_count": null,
   "id": "258b0c48-1e2d-4e49-bb59-67f479cb1a78",
   "metadata": {},
   "outputs": [
    {
     "data": {
      "text/plain": [
       "Counter({'A': 2, 'B': 1, 'C': 1})"
      ]
     },
     "execution_count": null,
     "metadata": {},
     "output_type": "execute_result"
    }
   ],
   "source": [
    "create_author_count_mapping(cookbooks)"
   ]
  },
  {
   "cell_type": "markdown",
   "id": "f235cf4e-bb66-4e3d-b749-4975c6eaecbd",
   "metadata": {},
   "source": [
    "#### Iterations"
   ]
  },
  {
   "cell_type": "markdown",
   "id": "99386563-0d95-4933-b202-d5191ae66b27",
   "metadata": {},
   "source": [
    "##### Example 1: for *loops*"
   ]
  },
  {
   "cell_type": "code",
   "execution_count": null,
   "id": "69eddaaa-0a78-4b22-af44-15b969baded0",
   "metadata": {},
   "outputs": [],
   "source": [
    "ls = [\"red\", \"blue\", \"green\", \"yello\"]"
   ]
  },
  {
   "cell_type": "code",
   "execution_count": null,
   "id": "e3f7de2b-5a69-4018-8f5b-755b2a03ee27",
   "metadata": {},
   "outputs": [
    {
     "name": "stdout",
     "output_type": "stream",
     "text": [
      "red\n",
      "blue\n",
      "green\n",
      "yello\n"
     ]
    }
   ],
   "source": [
    "for l in ls:\n",
    "    print(l)"
   ]
  },
  {
   "cell_type": "markdown",
   "id": "5b9c3cbf-f070-4129-bd14-6224f8ff3063",
   "metadata": {},
   "source": [
    "Refactor the code"
   ]
  },
  {
   "cell_type": "code",
   "execution_count": null,
   "id": "7044cf4a-b381-4c36-8adc-881455607d9f",
   "metadata": {},
   "outputs": [],
   "source": [
    "colors = [\"red\", \"blue\", \"green\", \"yello\"]"
   ]
  },
  {
   "cell_type": "code",
   "execution_count": null,
   "id": "98e6adb3-668e-4a0e-806a-09ba5095fdee",
   "metadata": {},
   "outputs": [
    {
     "name": "stdout",
     "output_type": "stream",
     "text": [
      "red\n",
      "blue\n",
      "green\n",
      "yello\n"
     ]
    }
   ],
   "source": [
    "for color in colors:\n",
    "    print(color)"
   ]
  },
  {
   "cell_type": "markdown",
   "id": "c3ea26bf-8567-48ec-a672-0716d2cc770c",
   "metadata": {},
   "source": [
    "##### Example 2"
   ]
  }
 ],
 "metadata": {
  "kernelspec": {
   "display_name": "Python 3 (ipykernel)",
   "language": "python",
   "name": "python3"
  }
 },
 "nbformat": 4,
 "nbformat_minor": 5
}
