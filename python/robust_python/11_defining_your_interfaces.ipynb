{
 "cells": [
  {
   "cell_type": "markdown",
   "id": "c0536f9a-58ba-44fc-a28b-9079ef0b2441",
   "metadata": {},
   "source": [
    "# Chapter 11: Defining Your Interfaces"
   ]
  },
  {
   "cell_type": "code",
   "execution_count": null,
   "id": "000cd777-e725-47cd-b9f5-92d530a8f1ad",
   "metadata": {},
   "outputs": [],
   "source": [
    "from dataclasses import dataclass"
   ]
  },
  {
   "cell_type": "code",
   "execution_count": null,
   "id": "3953b338-1833-40c9-8df5-627aeeb705f0",
   "metadata": {},
   "outputs": [],
   "source": [
    "from enum import auto, Enum"
   ]
  },
  {
   "cell_type": "code",
   "execution_count": null,
   "id": "16f17865-9290-4e34-ba51-d49e8e1b2b47",
   "metadata": {},
   "outputs": [],
   "source": [
    "class ImperialMeasure(Enum):\n",
    "    CUP = auto()"
   ]
  },
  {
   "cell_type": "code",
   "execution_count": null,
   "id": "b7c072d2-68a0-406c-877d-dba9f6b10111",
   "metadata": {},
   "outputs": [],
   "source": [
    "@dataclass(frozen=True)\n",
    "class Ingredient:\n",
    "    name: str\n",
    "    brand: str\n",
    "    amount: float = 1\n",
    "    units: ImperialMeasure = ImperialMeasure.CUP"
   ]
  },
  {
   "cell_type": "code",
   "execution_count": null,
   "id": "db5e44f3-c541-46e3-be49-2c284df1c74f",
   "metadata": {},
   "outputs": [],
   "source": [
    "@dataclass\n",
    "class Recipe:\n",
    "    name: str\n",
    "    ingredients: list[Ingredient]\n",
    "    servings: int"
   ]
  },
  {
   "cell_type": "code",
   "execution_count": null,
   "id": "225773f8-40bf-4aea-982b-78c49e864598",
   "metadata": {},
   "outputs": [],
   "source": [
    "import decimal\n",
    "from typing import Iterable, Dict, List"
   ]
  },
  {
   "cell_type": "code",
   "execution_count": null,
   "id": "6d0113f9-b4fa-4e5e-a52d-fd198729b46f",
   "metadata": {},
   "outputs": [],
   "source": [
    "@dataclass(frozen=True)\n",
    "class Coordinates:\n",
    "    lat: float\n",
    "    lon: float"
   ]
  },
  {
   "cell_type": "code",
   "execution_count": null,
   "id": "a3af111f-2efc-4eff-8691-3cd75144f964",
   "metadata": {},
   "outputs": [],
   "source": [
    "@dataclass(frozen=True)\n",
    "class Store:\n",
    "    coordinates: Coordinates\n",
    "    name: str"
   ]
  },
  {
   "cell_type": "code",
   "execution_count": null,
   "id": "9016dcc5-be39-42c9-b8ff-a6889bae0ecb",
   "metadata": {},
   "outputs": [],
   "source": [
    "@dataclass\n",
    "class Item:\n",
    "    name: str\n",
    "    brand: str\n",
    "    measure: ImperialMeasure\n",
    "    price_in_cents: decimal.Decimal\n",
    "    amount: float"
   ]
  },
  {
   "cell_type": "code",
   "execution_count": null,
   "id": "2b53de61-43d9-4ee5-82ae-3c508359cb51",
   "metadata": {},
   "outputs": [],
   "source": [
    "Inventory = Dict[Store, List[Item]]"
   ]
  },
  {
   "cell_type": "code",
   "execution_count": null,
   "id": "de4c260f-4d38-40d4-9677-bdcf8d0ac287",
   "metadata": {},
   "outputs": [],
   "source": [
    "def get_grocery_inventory() -> Inventory:\n",
    "    pass"
   ]
  },
  {
   "cell_type": "code",
   "execution_count": null,
   "id": "b1043736-736b-45d4-881e-fb806795387e",
   "metadata": {},
   "outputs": [],
   "source": [
    "def reserve_items(store: Store, items: Iterable[Item]) -> bool:\n",
    "    pass"
   ]
  },
  {
   "cell_type": "code",
   "execution_count": null,
   "id": "5ac73471-75b6-46f5-b0d4-6110755844fe",
   "metadata": {},
   "outputs": [],
   "source": [
    "def unreserve_items(store: Store, items: Iterable[Item]) -> bool:\n",
    "    pass"
   ]
  },
  {
   "cell_type": "code",
   "execution_count": null,
   "id": "5eac6197-d165-4b8e-bc79-a309b0d5b27b",
   "metadata": {},
   "outputs": [],
   "source": [
    "def order_items(store: Store, items: Iterable[Item]) -> bool:\n",
    "    pass"
   ]
  },
  {
   "cell_type": "code",
   "execution_count": null,
   "id": "4a3f55bc-7ad8-4df2-9292-43465a6e8888",
   "metadata": {},
   "outputs": [],
   "source": [
    "from typing import Optional"
   ]
  },
  {
   "cell_type": "code",
   "execution_count": null,
   "id": "289cc2c4-83d4-4ecc-a723-a2ac12f3a168",
   "metadata": {},
   "outputs": [],
   "source": [
    "from copy import deepcopy"
   ]
  },
  {
   "cell_type": "code",
   "execution_count": null,
   "id": "51dd00db-2898-4903-bf4e-2c0f49765971",
   "metadata": {},
   "outputs": [],
   "source": [
    "class Order:\n",
    "    def __init__(self, recipes: Iterable[Recipe]):\n",
    "        self._ingredients: set[Ingredients] = set()\n",
    "        for recipe in recipes:\n",
    "            for ingredient in recipe.ingredient:\n",
    "                self.add_ingredient(ingredient)\n",
    "    \n",
    "    def get_ingredients(self) -> list[Ingredient]:\n",
    "        return sorted(deepcopy(self._ingredients), key=lambda ing: ing.name)\n",
    "    \n",
    "    def _get_matching_ingredient(self,\n",
    "                                 ingredient: Ingredient\n",
    "                                ) -> Optional[Ingredient]:\n",
    "        try:\n",
    "            return next()\n",
    "        except StopIteration:\n",
    "            return None\n",
    "    \n",
    "    def add_ingredient(self, ingredient: Ingredient):\n",
    "        target_ingredient = self._get_matching_ingredient(ingredient)\n",
    "        if target_ingredient is None:\n",
    "            "
   ]
  }
 ],
 "metadata": {
  "kernelspec": {
   "display_name": "Python 3 (ipykernel)",
   "language": "python",
   "name": "python3"
  }
 },
 "nbformat": 4,
 "nbformat_minor": 5
}
