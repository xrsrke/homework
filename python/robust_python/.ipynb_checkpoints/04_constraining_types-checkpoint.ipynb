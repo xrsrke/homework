{
 "cells": [
  {
   "cell_type": "markdown",
   "id": "ee9a494d-e939-49cc-94c0-fc44b4dc749b",
   "metadata": {},
   "source": [
    "# Chapter 4: Constraining Types"
   ]
  },
  {
   "cell_type": "markdown",
   "id": "a9f27c95-37fb-4a5f-a2c7-52fb1b171e18",
   "metadata": {},
   "source": [
    "### 1. Optional Type"
   ]
  },
  {
   "cell_type": "markdown",
   "id": "29261807-9dde-4900-b4c2-530b893361de",
   "metadata": {},
   "source": [
    "##### Example 1"
   ]
  },
  {
   "cell_type": "code",
   "execution_count": 1,
   "id": "4b731e1d-19ac-4c70-9444-37bbd5f48920",
   "metadata": {},
   "outputs": [],
   "source": [
    "def create_a_paper(color):\n",
    "    return color"
   ]
  },
  {
   "cell_type": "code",
   "execution_count": 2,
   "id": "2d6c808e-547d-4cd3-940f-4c7748948a63",
   "metadata": {},
   "outputs": [
    {
     "data": {
      "text/plain": [
       "'red'"
      ]
     },
     "execution_count": 2,
     "metadata": {},
     "output_type": "execute_result"
    }
   ],
   "source": [
    "create_a_paper(\"red\")"
   ]
  },
  {
   "cell_type": "code",
   "execution_count": 3,
   "id": "93978ad6-fd6c-4766-9f7e-cf732e0b53d6",
   "metadata": {},
   "outputs": [],
   "source": [
    "create_a_paper(None)"
   ]
  },
  {
   "cell_type": "markdown",
   "id": "b7324465-2e93-4c27-965a-3be4a772be66",
   "metadata": {},
   "source": [
    "Refactor this code by using appropriate type hint. Explain why you do that."
   ]
  },
  {
   "cell_type": "code",
   "execution_count": 4,
   "id": "ad6e80f5-28d0-443a-a8ea-0cb27c26f109",
   "metadata": {},
   "outputs": [],
   "source": [
    "from typing import Optional"
   ]
  },
  {
   "cell_type": "code",
   "execution_count": 5,
   "id": "4debb16b-1ed1-473f-bad6-d35117a18e77",
   "metadata": {},
   "outputs": [],
   "source": [
    "def create_a_paper(color: Optional[str]) -> Optional[str]:\n",
    "    return color"
   ]
  },
  {
   "cell_type": "markdown",
   "id": "de050afe-a9ea-4767-8506-65884ae99ddf",
   "metadata": {},
   "source": [
    "**Explain**: Because parameter `color` expects to receive a str, but it also can accept `None` variable"
   ]
  },
  {
   "cell_type": "code",
   "execution_count": 6,
   "id": "62db92a2-213f-425f-a36d-3df425925ce2",
   "metadata": {},
   "outputs": [
    {
     "data": {
      "text/plain": [
       "'red'"
      ]
     },
     "execution_count": 6,
     "metadata": {},
     "output_type": "execute_result"
    }
   ],
   "source": [
    "create_a_paper(\"red\")"
   ]
  },
  {
   "cell_type": "code",
   "execution_count": 7,
   "id": "c5a80054-81cc-48cb-8e70-653849831f94",
   "metadata": {},
   "outputs": [],
   "source": [
    "create_a_paper(None)"
   ]
  },
  {
   "cell_type": "markdown",
   "id": "ed3df2a5-0d0f-46d3-ad0d-3fc25c2a42ac",
   "metadata": {},
   "source": [
    "##### Example 2"
   ]
  },
  {
   "cell_type": "code",
   "execution_count": 61,
   "id": "b2a5e19e-db8c-4505-acfe-3a405daac828",
   "metadata": {},
   "outputs": [],
   "source": [
    "class Bun: pass"
   ]
  },
  {
   "cell_type": "code",
   "execution_count": 62,
   "id": "be66f0c8-2a6a-43c6-bbfe-fa96d49abc46",
   "metadata": {},
   "outputs": [],
   "source": [
    "def dispense_bun() -> Bun:\n",
    "    if not are_buns_available():\n",
    "        return None\n",
    "    return Bun('Wheat')"
   ]
  },
  {
   "cell_type": "markdown",
   "id": "c365408a-900a-4c8f-9ab6-e67d8b7b0736",
   "metadata": {},
   "source": [
    "Spot the type hint error in function `dispense_bun` and fix it"
   ]
  },
  {
   "cell_type": "code",
   "execution_count": 63,
   "id": "26f8190b-c09d-4527-ba93-9f85a818face",
   "metadata": {},
   "outputs": [],
   "source": [
    "from typing import Optional"
   ]
  },
  {
   "cell_type": "code",
   "execution_count": 64,
   "id": "2000db1d-d040-41ad-bbe2-1f97f9d83144",
   "metadata": {},
   "outputs": [],
   "source": [
    "def dispense_bun() -> Optional[Bun]:\n",
    "    if not are_buns_available():\n",
    "        return None\n",
    "    return Bun('Wheat')"
   ]
  },
  {
   "cell_type": "markdown",
   "id": "da9c9b53-b4fb-4023-9288-771fce072c78",
   "metadata": {},
   "source": [
    "### 2. Union Types"
   ]
  },
  {
   "cell_type": "markdown",
   "id": "92c57805-fe99-4dd1-ad0a-5918c32b66ba",
   "metadata": {},
   "source": [
    "##### Example 1"
   ]
  },
  {
   "cell_type": "code",
   "execution_count": 67,
   "id": "a691c79c-75ab-4c76-a8f8-c0f4cd38ef57",
   "metadata": {},
   "outputs": [],
   "source": [
    "class Book:\n",
    "    def __init__(self, name):\n",
    "        self.name = name"
   ]
  },
  {
   "cell_type": "code",
   "execution_count": 76,
   "id": "d32a6b6a-6b6a-45d5-9536-baf79253ac7c",
   "metadata": {},
   "outputs": [],
   "source": [
    "class Library:\n",
    "    def __init__(self, items):\n",
    "        self.items = items"
   ]
  },
  {
   "cell_type": "code",
   "execution_count": 66,
   "id": "c7b858e0-9ac1-4a70-b943-e03e7aedbe81",
   "metadata": {},
   "outputs": [],
   "source": [
    "book_ids = [1, 2, 3, 4]"
   ]
  },
  {
   "cell_type": "code",
   "execution_count": 77,
   "id": "34645056-4f25-417a-bce4-97d65252e7ac",
   "metadata": {},
   "outputs": [],
   "source": [
    "books = Book(\"Homo Sapiens\")"
   ]
  },
  {
   "cell_type": "code",
   "execution_count": 73,
   "id": "d4bc60dc-9c6f-4d70-a9e0-d4124734bb3e",
   "metadata": {},
   "outputs": [],
   "source": [
    "book_name = \"Chemistry\""
   ]
  },
  {
   "cell_type": "code",
   "execution_count": 71,
   "id": "ed74cb7b-3492-4007-95bf-2b1aa7dd508d",
   "metadata": {},
   "outputs": [],
   "source": [
    "lib_1 = Library(book_ids)"
   ]
  },
  {
   "cell_type": "code",
   "execution_count": 72,
   "id": "c6df02ca-3f21-49d9-aecf-ee10cd948425",
   "metadata": {},
   "outputs": [],
   "source": [
    "lib_2 = Library(books)"
   ]
  },
  {
   "cell_type": "code",
   "execution_count": 74,
   "id": "4f8d5664-318a-4f1f-a27d-8c37c036147c",
   "metadata": {},
   "outputs": [],
   "source": [
    "lib_3 = Library(book_name)"
   ]
  },
  {
   "cell_type": "markdown",
   "id": "11868e86-165e-4f10-9eb1-b79807f9b14c",
   "metadata": {},
   "source": [
    "Refactor this code by using appropriate type hint. Explain why you do that."
   ]
  },
  {
   "cell_type": "code",
   "execution_count": 75,
   "id": "1333be84-07a1-4811-8ec4-5d8b7aca1e98",
   "metadata": {},
   "outputs": [],
   "source": [
    "from typing import Union"
   ]
  },
  {
   "cell_type": "code",
   "execution_count": 79,
   "id": "4fea1f8d-e78a-4404-8dba-82a6b384c6ac",
   "metadata": {},
   "outputs": [],
   "source": [
    "class Library:\n",
    "    def __init__(self, items: Union[list[int], Book, str]):\n",
    "        self.items = items"
   ]
  },
  {
   "cell_type": "markdown",
   "id": "c09be574-b0aa-498e-9ec4-2e2a56b6d1e5",
   "metadata": {},
   "source": [
    "##### Example 2"
   ]
  },
  {
   "cell_type": "code",
   "execution_count": 80,
   "id": "4ec749a1-b3da-4a25-a8b2-785b30714812",
   "metadata": {},
   "outputs": [],
   "source": [
    "from dataclasses import dataclass"
   ]
  },
  {
   "cell_type": "code",
   "execution_count": 81,
   "id": "d1787e76-aa58-4e6f-8729-25f8a378d4f2",
   "metadata": {},
   "outputs": [],
   "source": [
    "@dataclass\n",
    "class Snack:\n",
    "    name: str\n",
    "    condiments: set[str]\n",
    "    error_code: int\n",
    "    disposed_of: bool"
   ]
  },
  {
   "cell_type": "markdown",
   "id": "a1ef49b0-b05c-4fcf-a84e-9f8820e1a23d",
   "metadata": {},
   "source": [
    "The variable `disposed_of` should only be set to `True` if an `error_code` is set to nonzero"
   ]
  },
  {
   "cell_type": "code",
   "execution_count": 82,
   "id": "bdb298b2-2c87-4fb6-bf70-96ce1121604c",
   "metadata": {},
   "outputs": [],
   "source": [
    "def serve(snack):\n",
    "    # ..\n",
    "    if snack.diposed_of:\n",
    "        return\n",
    "    # ..."
   ]
  },
  {
   "cell_type": "code",
   "execution_count": 83,
   "id": "96ac8226-8d3e-45bd-af61-7a273c683efe",
   "metadata": {},
   "outputs": [],
   "source": [
    "from typing import Union"
   ]
  },
  {
   "cell_type": "code",
   "execution_count": 84,
   "id": "9e13e3b9-8155-479b-abbd-0c96515efbff",
   "metadata": {},
   "outputs": [],
   "source": [
    "@dataclass\n",
    "class Error:\n",
    "    error_code: int\n",
    "    disposed_of: bool"
   ]
  },
  {
   "cell_type": "code",
   "execution_count": 85,
   "id": "fb1c64bb-386d-4708-90e0-fca0aa387382",
   "metadata": {},
   "outputs": [],
   "source": [
    "@dataclass\n",
    "class Snack:\n",
    "    name: str\n",
    "    condiments: set[str]"
   ]
  },
  {
   "cell_type": "code",
   "execution_count": 87,
   "id": "b414dcc4-b8c7-467e-a2b2-a30ef0977e2d",
   "metadata": {},
   "outputs": [],
   "source": [
    "snack: Union[Snack, Error] = Snack(\"Hotdog\", {\"Mustard\", \"Ketchup\"})"
   ]
  },
  {
   "cell_type": "code",
   "execution_count": 88,
   "id": "3b3fbc83-a10e-4e3e-ba9e-209601e60154",
   "metadata": {},
   "outputs": [],
   "source": [
    "snack = Error(5, True)"
   ]
  },
  {
   "cell_type": "markdown",
   "id": "16f6bcde-7f88-4eba-92b4-f0032e0a6fdb",
   "metadata": {},
   "source": [
    "### 3. Literal"
   ]
  },
  {
   "cell_type": "markdown",
   "id": "46a7cac9-c91b-4487-af8d-3d3545d29be4",
   "metadata": {},
   "source": [
    "##### Example 1"
   ]
  },
  {
   "cell_type": "code",
   "execution_count": 100,
   "id": "b8dba76c-18cf-4ff1-b09c-db80e3e4bded",
   "metadata": {},
   "outputs": [],
   "source": [
    "class Eyelink:\n",
    "    def __init__(self, level):\n",
    "        self.level = level"
   ]
  },
  {
   "cell_type": "code",
   "execution_count": 101,
   "id": "1b458792-35da-49a7-a2b7-64567d169727",
   "metadata": {},
   "outputs": [
    {
     "data": {
      "text/plain": [
       "<__main__.Eyelink at 0x7f9238d356a0>"
      ]
     },
     "execution_count": 101,
     "metadata": {},
     "output_type": "execute_result"
    }
   ],
   "source": [
    "Eyelink(\"three\")"
   ]
  },
  {
   "cell_type": "markdown",
   "id": "2889ff6e-a907-4f42-85ba-d57dba020408",
   "metadata": {},
   "source": [
    "The variable `level` can be one of three values: `one`, `two`, or `three`"
   ]
  },
  {
   "cell_type": "markdown",
   "id": "4775b6fa-6419-4dce-b917-4a68ad76b32a",
   "metadata": {},
   "source": [
    "Refactor this code by using appropriate type hint"
   ]
  },
  {
   "cell_type": "code",
   "execution_count": 102,
   "id": "6b61b06c-9f3b-43a7-8223-aa626003b764",
   "metadata": {},
   "outputs": [],
   "source": [
    "from typing import Literal"
   ]
  },
  {
   "cell_type": "code",
   "execution_count": 103,
   "id": "5f6d5e30-671e-40c4-9f7d-3cdb0dcf09f0",
   "metadata": {},
   "outputs": [],
   "source": [
    "class Eyelink:\n",
    "    def __init__(self, level: Literal[\"one\", \"two\", \"three\"]):\n",
    "        self.level = level"
   ]
  },
  {
   "cell_type": "code",
   "execution_count": 104,
   "id": "18aab646-e3e7-4ec4-b0f5-0c109a2f9cff",
   "metadata": {},
   "outputs": [
    {
     "data": {
      "text/plain": [
       "<__main__.Eyelink at 0x7f9238d35850>"
      ]
     },
     "execution_count": 104,
     "metadata": {},
     "output_type": "execute_result"
    }
   ],
   "source": [
    "Eyelink(\"three\")"
   ]
  },
  {
   "cell_type": "markdown",
   "id": "258c3ed0-decb-4693-83aa-f650d893c29c",
   "metadata": {},
   "source": [
    "### 4. Annotated Types"
   ]
  },
  {
   "cell_type": "markdown",
   "id": "ce6a7b74-141d-41e6-94cf-c77b8ef5eb80",
   "metadata": {},
   "source": [
    "##### Example 1"
   ]
  },
  {
   "cell_type": "code",
   "execution_count": 105,
   "id": "51b9d3c1-a8ef-41a5-98bc-1e87885240fc",
   "metadata": {},
   "outputs": [],
   "source": [
    "class Eyelink:\n",
    "    def __init__(self, bandwidth):\n",
    "        self.bandwidth = bandwidth"
   ]
  },
  {
   "cell_type": "markdown",
   "id": "32d1077b-1027-47e7-93ac-51270ffd6102",
   "metadata": {},
   "source": [
    "The variable `level` can be one of integers in range `60` to `180`"
   ]
  },
  {
   "cell_type": "markdown",
   "id": "cb88d876-c7fb-4589-9d4f-26c6b087462d",
   "metadata": {},
   "source": [
    "Refactor this code by using appropriate type hint"
   ]
  },
  {
   "cell_type": "code",
   "execution_count": 110,
   "id": "5e0bb684-56f5-453f-ba64-a548326a6e76",
   "metadata": {},
   "outputs": [],
   "source": [
    "from typing import Annotated"
   ]
  },
  {
   "cell_type": "code",
   "execution_count": 115,
   "id": "bc3d9896-37a1-489d-9169-99b491c6c747",
   "metadata": {},
   "outputs": [],
   "source": [
    "# class Eyelink:\n",
    "#     def __init__(self, bandwidth: Annotated[int, ValueRange(60, 180)]):\n",
    "#         self.bandwidth = bandwidth"
   ]
  },
  {
   "cell_type": "markdown",
   "id": "dfe84e99-ec33-4668-94ec-4f19894fcb38",
   "metadata": {},
   "source": [
    "### 5. New Types"
   ]
  },
  {
   "cell_type": "markdown",
   "id": "d0c21ee8-a94f-445e-8f54-2dc2be8c73fc",
   "metadata": {},
   "source": [
    "##### Example 1"
   ]
  },
  {
   "cell_type": "code",
   "execution_count": 143,
   "id": "daa79643-60b6-4f0f-9286-1e93628ee2c6",
   "metadata": {},
   "outputs": [],
   "source": [
    "class HotDog: pass"
   ]
  },
  {
   "cell_type": "code",
   "execution_count": 144,
   "id": "b5a7e88e-caf8-49ed-bf90-0f6a56a7318f",
   "metadata": {},
   "outputs": [],
   "source": [
    "def prepare_for_serving(hot_dog):\n",
    "    # ...\n",
    "    return hot_dog"
   ]
  },
  {
   "cell_type": "code",
   "execution_count": 145,
   "id": "de9e94ce-8187-429a-8a24-2f50541cfbb5",
   "metadata": {},
   "outputs": [],
   "source": [
    "hot_dog = HotDog()"
   ]
  },
  {
   "cell_type": "code",
   "execution_count": 146,
   "id": "bd45dc81-53ea-4952-9538-628ffbaf268b",
   "metadata": {},
   "outputs": [
    {
     "data": {
      "text/plain": [
       "<__main__.HotDog at 0x7f92488316a0>"
      ]
     },
     "execution_count": 146,
     "metadata": {},
     "output_type": "execute_result"
    }
   ],
   "source": [
    "prepare_for_serving(hot_dog)"
   ]
  },
  {
   "cell_type": "markdown",
   "id": "17f6193d-caba-487a-bfcd-da3dbbe9535e",
   "metadata": {},
   "source": [
    "**Instruction**: Function `prepare_for_serving` takes a `hot_dog` and return a new `hot_dog` with type hint `ReadyToServerHotDog` which created from `HotDog`."
   ]
  },
  {
   "cell_type": "code",
   "execution_count": 147,
   "id": "cad9d0b6-07b9-4447-b63e-02cc3fae6e1e",
   "metadata": {},
   "outputs": [],
   "source": [
    "from typing import NewType"
   ]
  },
  {
   "cell_type": "code",
   "execution_count": 148,
   "id": "a4b84ee2-540f-4e22-bccc-0b2f45dc21d8",
   "metadata": {},
   "outputs": [],
   "source": [
    "ReadyToServeHotDog = NewType(\"ReadyToServeHotDog\", HotDog)"
   ]
  },
  {
   "cell_type": "code",
   "execution_count": 149,
   "id": "b1aa7de7-1bc9-48e4-b5ad-a8900148a3bd",
   "metadata": {},
   "outputs": [],
   "source": [
    "def prepare_for_serving(hot_dog: HotDog) -> ReadyToServeHotDog:\n",
    "    # ...\n",
    "    return ReadyToServeHotDog(hot_dog)"
   ]
  },
  {
   "cell_type": "code",
   "execution_count": 150,
   "id": "e5895897-4c34-460c-8365-94ec32dfbe7e",
   "metadata": {},
   "outputs": [
    {
     "data": {
      "text/plain": [
       "<__main__.HotDog at 0x7f92488316a0>"
      ]
     },
     "execution_count": 150,
     "metadata": {},
     "output_type": "execute_result"
    }
   ],
   "source": [
    "prepare_for_serving(hot_dog)"
   ]
  },
  {
   "cell_type": "markdown",
   "id": "5de5f7d1-19dd-4304-98e6-63a32acf972c",
   "metadata": {},
   "source": [
    "### 6. Final Types"
   ]
  },
  {
   "cell_type": "markdown",
   "id": "e82a40ca-3c04-4dec-8153-2dfefb0268c7",
   "metadata": {},
   "source": [
    "##### Example 1"
   ]
  },
  {
   "cell_type": "code",
   "execution_count": 157,
   "id": "8112382a-d87f-4fbe-b789-7565bf59d94d",
   "metadata": {},
   "outputs": [],
   "source": [
    "SERVER_PWD = 1234"
   ]
  },
  {
   "cell_type": "markdown",
   "id": "28aea25e-91da-4b13-a4af-b49b67e3f5d4",
   "metadata": {},
   "source": [
    "`SERVER_PWD` is an constant, and shouldn't be change. Add type hint to it"
   ]
  },
  {
   "cell_type": "code",
   "execution_count": 158,
   "id": "36ab88fa-64e3-4dba-a252-e0348e67ac5e",
   "metadata": {},
   "outputs": [],
   "source": [
    "from typing import Final"
   ]
  },
  {
   "cell_type": "code",
   "execution_count": 159,
   "id": "9dd5a353-0bec-48ce-8653-868c075f0074",
   "metadata": {},
   "outputs": [],
   "source": [
    "SERVER_PWD: Final = 1234"
   ]
  },
  {
   "cell_type": "code",
   "execution_count": 160,
   "id": "24b2889d-f685-480c-afaa-0bbbfcc01ea5",
   "metadata": {},
   "outputs": [
    {
     "data": {
      "text/plain": [
       "1234"
      ]
     },
     "execution_count": 160,
     "metadata": {},
     "output_type": "execute_result"
    }
   ],
   "source": [
    "SERVER_PWD"
   ]
  },
  {
   "cell_type": "code",
   "execution_count": null,
   "id": "37914924-2828-4750-b261-2ccdf79ee39a",
   "metadata": {},
   "outputs": [],
   "source": []
  }
 ],
 "metadata": {
  "kernelspec": {
   "display_name": "Python 3 (ipykernel)",
   "language": "python",
   "name": "python3"
  },
  "language_info": {
   "codemirror_mode": {
    "name": "ipython",
    "version": 3
   },
   "file_extension": ".py",
   "mimetype": "text/x-python",
   "name": "python",
   "nbconvert_exporter": "python",
   "pygments_lexer": "ipython3",
   "version": "3.9.12"
  }
 },
 "nbformat": 4,
 "nbformat_minor": 5
}
