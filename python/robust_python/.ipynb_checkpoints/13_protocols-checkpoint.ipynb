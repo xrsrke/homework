{
 "cells": [
  {
   "cell_type": "markdown",
   "id": "3a722ab9-4f77-4b0a-81aa-f279c092ae54",
   "metadata": {},
   "source": [
    "# Chapter 13: Protocols"
   ]
  },
  {
   "cell_type": "code",
   "execution_count": null,
   "id": "89924fb3-0edd-4831-b956-055c4676c80e",
   "metadata": {},
   "outputs": [],
   "source": [
    "class CheeseBurger:\n",
    "    def split_in_half(self): pass"
   ]
  },
  {
   "cell_type": "code",
   "execution_count": null,
   "id": "b2842230-1327-471b-b4f7-6b9712214051",
   "metadata": {},
   "outputs": [],
   "source": [
    "def split(food):\n",
    "    return food.split_in_half()"
   ]
  },
  {
   "cell_type": "markdown",
   "id": "d2fd3d8c-8316-47d1-a1e7-8125edac612b",
   "metadata": {},
   "source": [
    "Function `split` takes an argument that it expects to have\n",
    "- method `split_in_half`\n",
    "- attributes `name` which is string and `cost` which is integer\n",
    "\n",
    "Add type hints for parameter."
   ]
  },
  {
   "cell_type": "code",
   "execution_count": null,
   "id": "8d100737-3b9f-4615-8408-bc997c1b300d",
   "metadata": {},
   "outputs": [],
   "source": [
    "from typing import Protocol"
   ]
  },
  {
   "cell_type": "code",
   "execution_count": null,
   "id": "26ba65aa-1550-4e75-9155-ca74e63b4bc7",
   "metadata": {},
   "outputs": [],
   "source": [
    "class Splitable(Protocol):\n",
    "    name: str\n",
    "    cost: int\n",
    "    \n",
    "    def split_in_half(self): pass"
   ]
  },
  {
   "cell_type": "code",
   "execution_count": null,
   "id": "a463d153-08cd-4e95-a44a-b4600c202c34",
   "metadata": {},
   "outputs": [],
   "source": [
    "def split(food: Splitable):\n",
    "    return food.split_in_half()"
   ]
  },
  {
   "cell_type": "code",
   "execution_count": null,
   "id": "40339e40-8412-4258-8d9c-1c5fb1db646f",
   "metadata": {},
   "outputs": [],
   "source": []
  },
  {
   "cell_type": "code",
   "execution_count": null,
   "id": "ff85db69-3fb5-41bb-8f8a-afe01a31745b",
   "metadata": {},
   "outputs": [],
   "source": []
  }
 ],
 "metadata": {
  "kernelspec": {
   "display_name": "Python 3 (ipykernel)",
   "language": "python",
   "name": "python3"
  }
 },
 "nbformat": 4,
 "nbformat_minor": 5
}
