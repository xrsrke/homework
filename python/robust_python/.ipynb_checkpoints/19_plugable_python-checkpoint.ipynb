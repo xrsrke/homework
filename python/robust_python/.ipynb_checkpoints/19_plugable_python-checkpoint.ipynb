{
 "cells": [
  {
   "cell_type": "markdown",
   "id": "0a4ebc94-8673-4c5f-a9d0-43d92fcb5499",
   "metadata": {},
   "source": [
    "# Chapter 19: Pluggable Python"
   ]
  },
  {
   "cell_type": "code",
   "execution_count": null,
   "id": "583e955b-5ba3-438f-bbc6-61d96ba7a7ae",
   "metadata": {},
   "outputs": [],
   "source": [
    "from typing import Callable"
   ]
  },
  {
   "cell_type": "code",
   "execution_count": null,
   "id": "12bf9fdb-df8f-47dd-98da-18887fe3ab39",
   "metadata": {},
   "outputs": [],
   "source": [
    "from dataclasses import dataclass"
   ]
  },
  {
   "cell_type": "code",
   "execution_count": null,
   "id": "ee52b965-ea31-44e7-a4b8-1783b073ca74",
   "metadata": {},
   "outputs": [],
   "source": [
    "@dataclass\n",
    "class PizzaCreationFunctions:\n",
    "    prepare_ingredient: Callable\n",
    "    add_pre_bake_toppings: Callable\n",
    "    add_post_bake_toppings: Callable"
   ]
  },
  {
   "cell_type": "markdown",
   "id": "d09fb1fe-5b13-4d27-81ef-f22448908901",
   "metadata": {},
   "source": [
    "### Plug-in Architectures"
   ]
  },
  {
   "cell_type": "code",
   "execution_count": null,
   "id": "413cb074-67a9-462c-80f4-a2871d2afddd",
   "metadata": {},
   "outputs": [],
   "source": [
    "from abc import abstractmethod"
   ]
  },
  {
   "cell_type": "code",
   "execution_count": null,
   "id": "7f0dd884-fb2f-45fd-a67a-4d62774d5b5b",
   "metadata": {},
   "outputs": [],
   "source": [
    "from typing import runtime_checkable, Protocol"
   ]
  },
  {
   "cell_type": "code",
   "execution_count": null,
   "id": "afef106e-0dde-4c80-a587-5f0b04f07b3f",
   "metadata": {},
   "outputs": [],
   "source": [
    "from dataclasses import dataclass"
   ]
  },
  {
   "cell_type": "code",
   "execution_count": null,
   "id": "dbd72dbc-4930-4b88-830c-071fe2a44b74",
   "metadata": {},
   "outputs": [],
   "source": [
    "@dataclass\n",
    "class Ingredient: pass"
   ]
  },
  {
   "cell_type": "code",
   "execution_count": null,
   "id": "e069580f-ba8a-4900-b8c3-5399b563569b",
   "metadata": {},
   "outputs": [],
   "source": [
    "@dataclass\n",
    "class Recipe: pass"
   ]
  },
  {
   "cell_type": "code",
   "execution_count": null,
   "id": "e10e4d1d-80ac-46f8-9438-2961d2465eb0",
   "metadata": {},
   "outputs": [],
   "source": [
    "@runtime_checkable\n",
    "class KitchenModule(Protocol):\n",
    "    \n",
    "    @abstractmethod\n",
    "    def method():\n",
    "        raise NotImplementedError"
   ]
  },
  {
   "cell_type": "code",
   "execution_count": null,
   "id": "6bf2b8b9-dc09-4f0d-b204-df31570712bf",
   "metadata": {},
   "outputs": [],
   "source": [
    "class PastaModule(KitchenModule):\n",
    "    def __init__(self):\n",
    "        self.ingredeints = ['A', 'B']\n",
    "    \n",
    "    def method(self, a, b):\n",
    "        return a + b"
   ]
  },
  {
   "cell_type": "code",
   "execution_count": null,
   "id": "fe52f3a7-c11c-4789-be66-4597defd26f5",
   "metadata": {},
   "outputs": [],
   "source": []
  }
 ],
 "metadata": {
  "kernelspec": {
   "display_name": "Python 3 (ipykernel)",
   "language": "python",
   "name": "python3"
  }
 },
 "nbformat": 4,
 "nbformat_minor": 5
}
