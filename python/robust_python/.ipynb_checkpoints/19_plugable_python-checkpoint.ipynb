{
 "cells": [
  {
   "cell_type": "markdown",
   "id": "0a4ebc94-8673-4c5f-a9d0-43d92fcb5499",
   "metadata": {},
   "source": [
    "# Chapter 19: Pluggable Python"
   ]
  },
  {
   "cell_type": "code",
   "execution_count": null,
   "id": "583e955b-5ba3-438f-bbc6-61d96ba7a7ae",
   "metadata": {},
   "outputs": [],
   "source": [
    "from typing import Callable"
   ]
  },
  {
   "cell_type": "code",
   "execution_count": null,
   "id": "12bf9fdb-df8f-47dd-98da-18887fe3ab39",
   "metadata": {},
   "outputs": [],
   "source": [
    "from dataclasses import dataclass"
   ]
  },
  {
   "cell_type": "code",
   "execution_count": null,
   "id": "ee52b965-ea31-44e7-a4b8-1783b073ca74",
   "metadata": {},
   "outputs": [],
   "source": [
    "@dataclass\n",
    "class PizzaCreationFunctions:\n",
    "    prepare_ingredient: Callable\n",
    "    add_pre_bake_toppings: Callable\n",
    "    add_post_bake_toppings: Callable"
   ]
  }
 ],
 "metadata": {
  "kernelspec": {
   "display_name": "Python 3 (ipykernel)",
   "language": "python",
   "name": "python3"
  }
 },
 "nbformat": 4,
 "nbformat_minor": 5
}
