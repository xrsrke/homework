{
 "cells": [
  {
   "cell_type": "code",
   "execution_count": null,
   "id": "f31da22a-bd26-4518-a521-ca10f1bdbd93",
   "metadata": {},
   "outputs": [],
   "source": [
    "from pydantic.dataclasses import dataclass"
   ]
  },
  {
   "cell_type": "code",
   "execution_count": null,
   "id": "79de6c86-a71d-469f-86bf-b3eaad77e6d7",
   "metadata": {},
   "outputs": [],
   "source": [
    "from pydantic import constr, PositiveInt"
   ]
  },
  {
   "cell_type": "code",
   "execution_count": null,
   "id": "d339b446-8390-4482-b228-3ecd8836288e",
   "metadata": {},
   "outputs": [],
   "source": [
    "from typing import Optional"
   ]
  },
  {
   "cell_type": "code",
   "execution_count": null,
   "id": "f6528bcb-885e-49e2-bdfd-bbc0cded8b07",
   "metadata": {},
   "outputs": [],
   "source": [
    "@dataclass\n",
    "class Atom:\n",
    "    n_protons: Optional[PositiveInt] = None"
   ]
  },
  {
   "cell_type": "code",
   "execution_count": null,
   "id": "b6db5b7b-3a7f-4e3b-85d8-d298bfcce771",
   "metadata": {},
   "outputs": [],
   "source": [
    "atom = Atom()"
   ]
  },
  {
   "cell_type": "code",
   "execution_count": null,
   "id": "4018d47d-7f2e-4944-83bc-a7f192a462f0",
   "metadata": {},
   "outputs": [
    {
     "data": {
      "text/plain": [
       "{'n_protons': None, '__pydantic_initialised__': True}"
      ]
     },
     "execution_count": null,
     "metadata": {},
     "output_type": "execute_result"
    }
   ],
   "source": [
    "atom.__dict__"
   ]
  },
  {
   "cell_type": "code",
   "execution_count": null,
   "id": "2ed304e5-a1e3-4414-85a8-a913221516aa",
   "metadata": {},
   "outputs": [
    {
     "data": {
      "text/plain": [
       "NoneType"
      ]
     },
     "execution_count": null,
     "metadata": {},
     "output_type": "execute_result"
    }
   ],
   "source": [
    "type(atom.n_protons)"
   ]
  },
  {
   "cell_type": "code",
   "execution_count": null,
   "id": "a4ac44ee-6db6-4015-be71-8cf50424266c",
   "metadata": {},
   "outputs": [],
   "source": []
  }
 ],
 "metadata": {
  "kernelspec": {
   "display_name": "Python 3 (ipykernel)",
   "language": "python",
   "name": "python3"
  }
 },
 "nbformat": 4,
 "nbformat_minor": 5
}
