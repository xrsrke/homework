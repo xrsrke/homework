{
 "cells": [
  {
   "cell_type": "markdown",
   "id": "2a92da86-1205-4195-91c7-09e593db32fe",
   "metadata": {},
   "source": [
    "# Chapter 2: Introduction to Python Types"
   ]
  },
  {
   "cell_type": "markdown",
   "id": "c9cb0c44-435d-4bfe-a44d-67594a9d39fd",
   "metadata": {},
   "source": [
    "### 1. What's in a Type?"
   ]
  },
  {
   "cell_type": "markdown",
   "id": "5e9bbd64-05ec-4939-8a40-2b5175f6759f",
   "metadata": {},
   "source": [
    "#### Semantic Representation"
   ]
  },
  {
   "cell_type": "code",
   "execution_count": 2,
   "id": "66a00ba6-1440-4904-8e99-51a258eef698",
   "metadata": {},
   "outputs": [],
   "source": [
    "def close_kitchen_if_past_cutoff_time(point_in_time):\n",
    "    if point_in_time >= closing_time():\n",
    "        close_kitchen()\n",
    "        log_time_closed(point_in_time)"
   ]
  },
  {
   "cell_type": "markdown",
   "id": "9474b3ce-25d0-4427-bc92-74a839b75dba",
   "metadata": {},
   "source": [
    "Why this piece of code is bad for future developers?"
   ]
  },
  {
   "cell_type": "markdown",
   "id": "318dc7c0-236b-4c7e-b15e-ea5e151fa4ab",
   "metadata": {},
   "source": [
    "**Explain**: Because future developer needs to figure out what types of input that `point_in_time` expected"
   ]
  },
  {
   "cell_type": "markdown",
   "id": "5a60deee-c8e1-490f-a588-aa304f8e296f",
   "metadata": {},
   "source": [
    "### 2. Typing System"
   ]
  },
  {
   "cell_type": "markdown",
   "id": "b141ea63-2190-4787-9160-a97f78770963",
   "metadata": {},
   "source": [
    "#### Duck Typing"
   ]
  },
  {
   "cell_type": "markdown",
   "id": "309cac59-2ee8-476d-ba6f-161a2b90f1bb",
   "metadata": {},
   "source": [
    "##### Example 1"
   ]
  },
  {
   "cell_type": "code",
   "execution_count": 3,
   "id": "11e7c61b-9145-4f72-8c2e-8dcb772be6c0",
   "metadata": {},
   "outputs": [],
   "source": [
    "from typing import Iterable"
   ]
  },
  {
   "cell_type": "code",
   "execution_count": 4,
   "id": "d2a19b1f-70a5-4e11-940b-2057614ee37b",
   "metadata": {},
   "outputs": [],
   "source": [
    "def print_items(items: Iterable):\n",
    "    for item in items:\n",
    "        print(item)"
   ]
  },
  {
   "cell_type": "code",
   "execution_count": 7,
   "id": "37ade60c-bbce-407f-9da6-1fc4ed7f4190",
   "metadata": {},
   "outputs": [
    {
     "name": "stdout",
     "output_type": "stream",
     "text": [
      "1\n",
      "2\n",
      "3\n"
     ]
    }
   ],
   "source": [
    "print_items([1, 2, 3])"
   ]
  },
  {
   "cell_type": "code",
   "execution_count": null,
   "id": "bf9d749d-084b-4432-ae67-653756c1bebd",
   "metadata": {},
   "outputs": [],
   "source": []
  }
 ],
 "metadata": {
  "kernelspec": {
   "display_name": "Python 3 (ipykernel)",
   "language": "python",
   "name": "python3"
  },
  "language_info": {
   "codemirror_mode": {
    "name": "ipython",
    "version": 3
   },
   "file_extension": ".py",
   "mimetype": "text/x-python",
   "name": "python",
   "nbconvert_exporter": "python",
   "pygments_lexer": "ipython3",
   "version": "3.9.12"
  }
 },
 "nbformat": 4,
 "nbformat_minor": 5
}
