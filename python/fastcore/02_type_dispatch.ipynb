{
 "cells": [
  {
   "cell_type": "markdown",
   "id": "8acb0e8e-a3d0-4e1c-abd9-6bd0d512d131",
   "metadata": {},
   "source": [
    "### Type Dispatch"
   ]
  },
  {
   "cell_type": "code",
   "execution_count": null,
   "id": "85dd80ce-7ab6-46d4-8f0b-9a6c40360fe8",
   "metadata": {},
   "outputs": [],
   "source": [
    "from fastcore.dispatch import *"
   ]
  },
  {
   "cell_type": "code",
   "execution_count": null,
   "id": "a560d47a-64a5-4597-adff-d5924d327906",
   "metadata": {},
   "outputs": [],
   "source": [
    "import numbers"
   ]
  },
  {
   "cell_type": "code",
   "execution_count": null,
   "id": "18d7df17-6030-4add-8f1d-4cf3c57bf74f",
   "metadata": {},
   "outputs": [],
   "source": [
    "def f(x: int, y: float):\n",
    "    return x + y"
   ]
  },
  {
   "cell_type": "code",
   "execution_count": null,
   "id": "09792067-931a-4d79-99e1-087f0f0cf504",
   "metadata": {},
   "outputs": [],
   "source": [
    "def f_nin(x: numbers.Integral) -> int:\n",
    "    return x + 1"
   ]
  },
  {
   "cell_type": "code",
   "execution_count": null,
   "id": "d34f480b-417a-411d-beed-bff74bf8f4b8",
   "metadata": {},
   "outputs": [],
   "source": [
    "def f_ni2(x: int):\n",
    "    return x"
   ]
  },
  {
   "cell_type": "markdown",
   "id": "b0ddf503-ff75-4c92-89de-8637cdf4260a",
   "metadata": {},
   "source": [
    "##### Example 1"
   ]
  },
  {
   "cell_type": "code",
   "execution_count": null,
   "id": "90ba2a0d-41f8-4dfb-a545-3e8a8e399045",
   "metadata": {},
   "outputs": [],
   "source": [
    "import numpy as np\n",
    "from fastcore.dispatch import *"
   ]
  },
  {
   "cell_type": "code",
   "execution_count": null,
   "id": "b276db32-86c0-45be-80f5-73b8e1ddcc96",
   "metadata": {},
   "outputs": [],
   "source": [
    "def f(x:str, y:str): return f'Got two string {x} and {y}'"
   ]
  },
  {
   "cell_type": "markdown",
   "id": "9d483d9a-120b-4341-9f5f-2c20a75421ac",
   "metadata": {},
   "source": [
    "Change the way function `f` behaves based on the input types it receives as bellow"
   ]
  },
  {
   "cell_type": "code",
   "execution_count": null,
   "id": "1bfa3ddc-f40c-468d-9bba-134076ab19e6",
   "metadata": {},
   "outputs": [],
   "source": [
    "@typedispatch\n",
    "def f(x:str, y:str): return f'Got two string {x} and {y}'"
   ]
  },
  {
   "cell_type": "code",
   "execution_count": null,
   "id": "76dfdbdb-6312-4e9f-a846-9d0effc82731",
   "metadata": {},
   "outputs": [],
   "source": [
    "@typedispatch\n",
    "def f(x: float, y: int): return f'Got a float {x} and an integer {y}'"
   ]
  },
  {
   "cell_type": "code",
   "execution_count": null,
   "id": "595ae99a-4cf6-4a0d-b5d7-ea504281383c",
   "metadata": {},
   "outputs": [],
   "source": [
    "@typedispatch\n",
    "def f(x:int, y:int): return f'Got two intergers: {x} and {y}'"
   ]
  },
  {
   "cell_type": "code",
   "execution_count": null,
   "id": "29614dc8-fb60-4470-b143-31fc5b4b0a8a",
   "metadata": {},
   "outputs": [
    {
     "data": {
      "text/plain": [
       "'Got two string a and b'"
      ]
     },
     "execution_count": null,
     "metadata": {},
     "output_type": "execute_result"
    }
   ],
   "source": [
    "f('a', 'b')"
   ]
  },
  {
   "cell_type": "code",
   "execution_count": null,
   "id": "4285e9cd-54a7-443a-a3da-8f8e4f734985",
   "metadata": {},
   "outputs": [
    {
     "data": {
      "text/plain": [
       "'Got two intergers: 1 and 2'"
      ]
     },
     "execution_count": null,
     "metadata": {},
     "output_type": "execute_result"
    }
   ],
   "source": [
    "f(1, 2)"
   ]
  },
  {
   "cell_type": "code",
   "execution_count": null,
   "id": "9822ca39-6b55-42e9-8b7e-9e56ccbe5b8d",
   "metadata": {},
   "outputs": [
    {
     "data": {
      "text/plain": [
       "'Got a float 2.2 and an integer 3'"
      ]
     },
     "execution_count": null,
     "metadata": {},
     "output_type": "execute_result"
    }
   ],
   "source": [
    "f(2.2, 3)"
   ]
  },
  {
   "cell_type": "markdown",
   "id": "be7b662e-8111-4cc2-83e0-04e4b40d1598",
   "metadata": {},
   "source": [
    "##### Example 2\n"
   ]
  },
  {
   "cell_type": "code",
   "execution_count": null,
   "id": "287cf343-5d9c-4fb6-9847-a336b063022f",
   "metadata": {},
   "outputs": [],
   "source": [
    "class Runner:\n",
    "    \n",
    "    @typedispatch\n",
    "    def f(self, x:str, y:str): return f'Got two string {x} and {y}'\n",
    "\n",
    "    @typedispatch\n",
    "    def f(self, x: np.ndarray, y: str): return f'Got np.array'\n",
    "\n",
    "    @typedispatch\n",
    "    def f(self, x:int, y:int): return f'Got two intergers: {x} and {y}'"
   ]
  },
  {
   "cell_type": "code",
   "execution_count": null,
   "id": "9bd25847-b555-4d64-8290-f374bef4187f",
   "metadata": {},
   "outputs": [],
   "source": [
    "r = Runner()"
   ]
  },
  {
   "cell_type": "code",
   "execution_count": null,
   "id": "69213d6b-a83c-4451-aee0-14cb8aa80e28",
   "metadata": {},
   "outputs": [
    {
     "data": {
      "text/plain": [
       "'Got two string a and b'"
      ]
     },
     "execution_count": null,
     "metadata": {},
     "output_type": "execute_result"
    }
   ],
   "source": [
    "r.f('a', 'b')"
   ]
  },
  {
   "cell_type": "markdown",
   "id": "44d4118b-04a8-4617-adba-b328b6ec0285",
   "metadata": {},
   "source": [
    "##### Example 3"
   ]
  },
  {
   "cell_type": "code",
   "execution_count": null,
   "id": "ff9b9e8a-e585-4384-8d34-580774e06477",
   "metadata": {},
   "outputs": [],
   "source": [
    "from fastcore.dispatch import *"
   ]
  },
  {
   "cell_type": "code",
   "execution_count": null,
   "id": "f7402f42-ef1c-42fe-a157-28bfabb1a9d5",
   "metadata": {},
   "outputs": [],
   "source": [
    "def f2(x:str): return 1"
   ]
  },
  {
   "cell_type": "code",
   "execution_count": null,
   "id": "302be92a-89e0-4d44-b061-ac1b1ff5f8d6",
   "metadata": {},
   "outputs": [],
   "source": [
    "def f3(x:int): return x   "
   ]
  },
  {
   "cell_type": "markdown",
   "id": "ddc7d3a6-a64e-4ec9-a3e9-9b9ad781cd8e",
   "metadata": {},
   "source": [
    "Create a patch `t` from existing functions `f2` and `f3`"
   ]
  },
  {
   "cell_type": "code",
   "execution_count": null,
   "id": "4ed8dc1a-0155-46f9-8ad8-ff15a16a78e8",
   "metadata": {},
   "outputs": [],
   "source": [
    "t = TypeDispatch([f3, f2])"
   ]
  },
  {
   "cell_type": "code",
   "execution_count": null,
   "id": "a518b344-4e9e-4a6f-809a-2702fb96bb9e",
   "metadata": {},
   "outputs": [
    {
     "data": {
      "text/plain": [
       "3"
      ]
     },
     "execution_count": null,
     "metadata": {},
     "output_type": "execute_result"
    }
   ],
   "source": [
    "t(3)"
   ]
  },
  {
   "cell_type": "code",
   "execution_count": null,
   "id": "e3e8e723-1d9a-4576-bf5a-fdf956623b5b",
   "metadata": {},
   "outputs": [
    {
     "data": {
      "text/plain": [
       "1"
      ]
     },
     "execution_count": null,
     "metadata": {},
     "output_type": "execute_result"
    }
   ],
   "source": [
    "t('a')"
   ]
  },
  {
   "cell_type": "code",
   "execution_count": null,
   "id": "730327a1-1661-4960-ae74-79fae51705ff",
   "metadata": {},
   "outputs": [],
   "source": []
  },
  {
   "cell_type": "code",
   "execution_count": null,
   "id": "fdef6e30-31c9-4508-a96a-74a7f7c814d2",
   "metadata": {},
   "outputs": [],
   "source": []
  }
 ],
 "metadata": {
  "kernelspec": {
   "display_name": "Python 3 (ipykernel)",
   "language": "python",
   "name": "python3"
  }
 },
 "nbformat": 4,
 "nbformat_minor": 5
}
