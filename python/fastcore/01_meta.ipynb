{
 "cells": [
  {
   "cell_type": "markdown",
   "id": "0c09a6a5-06e8-4002-b7fb-52dcc233418c",
   "metadata": {},
   "source": [
    "### Meta"
   ]
  },
  {
   "cell_type": "markdown",
   "id": "096deed0-698e-42f3-ac59-3b923813e126",
   "metadata": {},
   "source": [
    "### `@delegates`"
   ]
  },
  {
   "cell_type": "markdown",
   "id": "ed151d54-2572-45af-a3ce-021b52b82911",
   "metadata": {},
   "source": [
    "##### Example 1"
   ]
  },
  {
   "cell_type": "code",
   "execution_count": null,
   "id": "1b4594ee-1205-47e0-977a-a63956c2606e",
   "metadata": {},
   "outputs": [],
   "source": [
    "import inspect\n",
    "from fastcore.meta import *"
   ]
  },
  {
   "cell_type": "code",
   "execution_count": null,
   "id": "12a6684f-07b8-4f2c-a3b2-98010cd3798d",
   "metadata": {},
   "outputs": [],
   "source": [
    "def baz(a, b:int=2, c:int=3): return a + b + c"
   ]
  },
  {
   "cell_type": "code",
   "execution_count": null,
   "id": "059f210f-9978-4ea2-84ff-5f8f953263f9",
   "metadata": {},
   "outputs": [],
   "source": [
    "def foo(c, a, **kwargs):\n",
    "    return c + baz(a, **kwargs)"
   ]
  },
  {
   "cell_type": "code",
   "execution_count": null,
   "id": "ea183298-d37b-4241-8962-80ff63c5890f",
   "metadata": {},
   "outputs": [
    {
     "data": {
      "text/plain": [
       "<Signature (c, a, **kwargs)>"
      ]
     },
     "execution_count": null,
     "metadata": {},
     "output_type": "execute_result"
    }
   ],
   "source": [
    "inspect.signature(foo)"
   ]
  },
  {
   "cell_type": "markdown",
   "id": "5d18bbe0-eaf3-4af6-838d-91129372bcc6",
   "metadata": {},
   "source": [
    "Replace `**kwargs` in signature with `params` from  function `bar`"
   ]
  },
  {
   "cell_type": "code",
   "execution_count": null,
   "id": "ec70573f-49e7-4352-8deb-2bfb9b606cab",
   "metadata": {},
   "outputs": [],
   "source": [
    "@delegates(baz)\n",
    "def foo(c, a, **kwargs):\n",
    "    return c + baz(a, **kwargs)"
   ]
  },
  {
   "cell_type": "code",
   "execution_count": null,
   "id": "f1d46564-a7de-49c0-99da-cbf6b7025520",
   "metadata": {},
   "outputs": [
    {
     "data": {
      "text/plain": [
       "<Signature (c, a, *, b: int = 2)>"
      ]
     },
     "execution_count": null,
     "metadata": {},
     "output_type": "execute_result"
    }
   ],
   "source": [
    "inspect.signature(foo)"
   ]
  },
  {
   "cell_type": "markdown",
   "id": "5a899fca-ccd7-48f0-9105-5bc5bbb487f3",
   "metadata": {},
   "source": [
    "##### Example 2"
   ]
  },
  {
   "cell_type": "code",
   "execution_count": null,
   "id": "4bee5df9-6fbd-4147-b1dc-42233b7103f1",
   "metadata": {},
   "outputs": [],
   "source": [
    "class Compound:\n",
    "    def __init__(self, formula: str = None, name=None, state=None):\n",
    "        pass"
   ]
  },
  {
   "cell_type": "code",
   "execution_count": null,
   "id": "f756bbed-265d-490c-8d93-274084c9bb8e",
   "metadata": {},
   "outputs": [],
   "source": [
    "@delegates(Compound)\n",
    "class Gas(Compound):\n",
    "    def __init__(self, is_ideal_gas: bool, **kwargs):\n",
    "        super().__init__(self, **kwargs)"
   ]
  },
  {
   "cell_type": "code",
   "execution_count": null,
   "id": "d4d18950-bff0-4388-9aca-e1bbdf8f074f",
   "metadata": {},
   "outputs": [
    {
     "data": {
      "text/plain": [
       "<Signature (is_ideal_gas: bool, *, formula: str = None, name=None, state=None)>"
      ]
     },
     "execution_count": null,
     "metadata": {},
     "output_type": "execute_result"
    }
   ],
   "source": [
    "inspect.signature(Gas)"
   ]
  },
  {
   "cell_type": "markdown",
   "id": "ae386c26-04ed-4e63-9107-ba18d3337ce8",
   "metadata": {},
   "source": [
    "### `GetAttr`"
   ]
  },
  {
   "cell_type": "code",
   "execution_count": null,
   "id": "c1bae9b1-7020-4ff7-9d4e-4a0fb2bff451",
   "metadata": {},
   "outputs": [],
   "source": [
    "from fastcore.basics import *"
   ]
  },
  {
   "cell_type": "code",
   "execution_count": null,
   "id": "87127fc2-918c-470f-816c-50d7acca0963",
   "metadata": {},
   "outputs": [],
   "source": [
    "class _WebPage:\n",
    "    def __init__(self, title, author=\"Jeremy\"):\n",
    "        self.title,self.author = title,author"
   ]
  },
  {
   "cell_type": "code",
   "execution_count": null,
   "id": "6fed7999-d473-48ef-9dd3-2fa0c2b65c2a",
   "metadata": {},
   "outputs": [],
   "source": [
    "class _ProductPage:\n",
    "    def __init__(self, page, price): \n",
    "        self.page = page\n",
    "        self.price = price"
   ]
  },
  {
   "cell_type": "code",
   "execution_count": null,
   "id": "6af43672-fce8-4bd0-b240-5dda65b5ed59",
   "metadata": {},
   "outputs": [],
   "source": [
    "page = _WebPage('Soap', author=\"Sylvain\")"
   ]
  },
  {
   "cell_type": "code",
   "execution_count": null,
   "id": "7569a978-4a08-40c1-b869-fb73a33307f5",
   "metadata": {},
   "outputs": [],
   "source": [
    "p = _ProductPage(page, 15.0)"
   ]
  },
  {
   "cell_type": "code",
   "execution_count": null,
   "id": "3173e90c-2eac-4f66-9aa2-d949480bb6d4",
   "metadata": {},
   "outputs": [
    {
     "data": {
      "text/plain": [
       "'Sylvain'"
      ]
     },
     "execution_count": null,
     "metadata": {},
     "output_type": "execute_result"
    }
   ],
   "source": [
    "p.page.author"
   ]
  },
  {
   "cell_type": "markdown",
   "id": "a1f4ff49-73ec-4f4d-8bde-283adc375ac0",
   "metadata": {},
   "source": [
    "Make `_ProductPage` can access attributes in `_WebPage` directly"
   ]
  },
  {
   "cell_type": "code",
   "execution_count": null,
   "id": "9a3cb481-7821-45a9-aa60-2a3025aa08c3",
   "metadata": {},
   "outputs": [],
   "source": [
    "class _ProductPage(GetAttr):\n",
    "    def __init__(self, page, price):\n",
    "        self.default = page #self.default allows you to access page directly.\n",
    "        self.price = price"
   ]
  },
  {
   "cell_type": "code",
   "execution_count": null,
   "id": "1edd4b3c-31ad-4ae6-ba25-086ef186af6a",
   "metadata": {},
   "outputs": [],
   "source": [
    "p = _ProductPage(page, 15.0)"
   ]
  },
  {
   "cell_type": "code",
   "execution_count": null,
   "id": "533bedfa-4e6a-427a-9548-9bdb71df8de2",
   "metadata": {},
   "outputs": [
    {
     "data": {
      "text/plain": [
       "'Sylvain'"
      ]
     },
     "execution_count": null,
     "metadata": {},
     "output_type": "execute_result"
    }
   ],
   "source": [
    "p.author"
   ]
  },
  {
   "cell_type": "markdown",
   "id": "1b0b025d-a1c8-4d60-a104-101eb26b0da3",
   "metadata": {},
   "source": [
    "### `PrePostInitMeta`"
   ]
  },
  {
   "cell_type": "markdown",
   "id": "de3b9d5c-ed52-44a6-aa8d-1e5795a746f0",
   "metadata": {},
   "source": [
    "##### Example 1"
   ]
  },
  {
   "cell_type": "code",
   "execution_count": null,
   "id": "deda333d-64e0-4eb2-8e82-9a7568b0d604",
   "metadata": {},
   "outputs": [],
   "source": [
    "class Mechanics:\n",
    "    def __init__(self):\n",
    "        print('Enter init')"
   ]
  },
  {
   "cell_type": "code",
   "execution_count": null,
   "id": "e1eb24f3-e43f-462e-a009-5ff6aeee0bdd",
   "metadata": {},
   "outputs": [
    {
     "name": "stdout",
     "output_type": "stream",
     "text": [
      "Enter init\n"
     ]
    },
    {
     "data": {
      "text/plain": [
       "<__main__.Mechanics>"
      ]
     },
     "execution_count": null,
     "metadata": {},
     "output_type": "execute_result"
    }
   ],
   "source": [
    "Mechanics()"
   ]
  },
  {
   "cell_type": "markdown",
   "id": "b69f0f3b-eba1-4c44-84e8-e7975690a67f",
   "metadata": {},
   "source": [
    "Add auto call pre-init and post-init as bellow"
   ]
  },
  {
   "cell_type": "code",
   "execution_count": null,
   "id": "072a0411-23e9-4f65-a076-00928a7313b5",
   "metadata": {},
   "outputs": [],
   "source": [
    "class Mechanics(metaclass=PrePostInitMeta):\n",
    "    def __pre_init__(self):\n",
    "        print('Enter pre-init')\n",
    "\n",
    "    def __init__(self):\n",
    "        print('Enter init')\n",
    "    \n",
    "    def __post_init__(self):\n",
    "        print('Enter post-init')"
   ]
  },
  {
   "cell_type": "code",
   "execution_count": null,
   "id": "a021fc32-41c5-493c-a1f8-ccd33860fb6b",
   "metadata": {},
   "outputs": [
    {
     "name": "stdout",
     "output_type": "stream",
     "text": [
      "Enter pre-init\n",
      "Enter init\n",
      "Enter post-init\n"
     ]
    },
    {
     "data": {
      "text/plain": [
       "<__main__.Mechanics>"
      ]
     },
     "execution_count": null,
     "metadata": {},
     "output_type": "execute_result"
    }
   ],
   "source": [
    "Mechanics()"
   ]
  },
  {
   "cell_type": "markdown",
   "id": "c079df2b-3d3a-4c9b-ba2b-5e1a54e7cc39",
   "metadata": {},
   "source": [
    "### `funcs_kwargs`"
   ]
  },
  {
   "cell_type": "markdown",
   "id": "1b665823-047f-4268-9e1e-ca2d282ba4bc",
   "metadata": {},
   "source": [
    "##### Example 1 "
   ]
  },
  {
   "cell_type": "code",
   "execution_count": null,
   "id": "3fcd7a12-acb9-40d0-818d-659e5ac4aac2",
   "metadata": {},
   "outputs": [],
   "source": [
    "from fastcore.basics import *"
   ]
  },
  {
   "cell_type": "code",
   "execution_count": null,
   "id": "dfbf4beb-6d20-42df-a335-f7694cb8c898",
   "metadata": {},
   "outputs": [],
   "source": [
    "get_x = lambda: 'get_x'"
   ]
  },
  {
   "cell_type": "code",
   "execution_count": null,
   "id": "302b5787-0de2-429b-b9f6-28b163a7e6f6",
   "metadata": {},
   "outputs": [],
   "source": [
    "get_y = lambda: 'get_y'"
   ]
  },
  {
   "cell_type": "code",
   "execution_count": null,
   "id": "7d035540-138e-4b74-bef7-c976e7bdc256",
   "metadata": {},
   "outputs": [],
   "source": [
    "class DataBlock:\n",
    "    def __init__(self, get_x, get_y):\n",
    "        self.get_x = get_x\n",
    "        self.get_y = get_y"
   ]
  },
  {
   "cell_type": "code",
   "execution_count": null,
   "id": "d01fb45f-a8e9-4dbb-9038-a2e4d57ec2fa",
   "metadata": {},
   "outputs": [],
   "source": [
    "dblock = DataBlock(get_x=get_x, get_y=get_y)"
   ]
  },
  {
   "cell_type": "code",
   "execution_count": null,
   "id": "05ff665e-528f-4a32-8ccd-a43da0d97b24",
   "metadata": {},
   "outputs": [
    {
     "data": {
      "text/plain": [
       "'get_x'"
      ]
     },
     "execution_count": null,
     "metadata": {},
     "output_type": "execute_result"
    }
   ],
   "source": [
    "dblock.get_x()"
   ]
  },
  {
   "cell_type": "code",
   "execution_count": null,
   "id": "115ce035-0def-497b-bfce-87958c3ceedd",
   "metadata": {},
   "outputs": [
    {
     "data": {
      "text/plain": [
       "{'get_x': <function __main__.<lambda>()>,\n",
       " 'get_y': <function __main__.<lambda>()>}"
      ]
     },
     "execution_count": null,
     "metadata": {},
     "output_type": "execute_result"
    }
   ],
   "source": [
    "dblock.__dict__"
   ]
  },
  {
   "cell_type": "markdown",
   "id": "bf1028af-5a45-469f-885f-836997995a99",
   "metadata": {},
   "source": [
    "Refactor the code for user to modifier methods `get_x` and `get_y` using `fastcore`"
   ]
  },
  {
   "cell_type": "code",
   "execution_count": null,
   "id": "07c99d37-d275-4113-bd1e-7404e343e5a7",
   "metadata": {},
   "outputs": [],
   "source": [
    "@funcs_kwargs\n",
    "class DataBlock:\n",
    "    _methods = ['get_x', 'get_y']\n",
    "    def __init__(self, **kwargs):\n",
    "        pass"
   ]
  },
  {
   "cell_type": "code",
   "execution_count": null,
   "id": "c74291b3-b673-43dc-ab97-833250eacde7",
   "metadata": {},
   "outputs": [],
   "source": [
    "dblock = DataBlock(get_x = get_x, get_y=get_y)"
   ]
  },
  {
   "cell_type": "code",
   "execution_count": null,
   "id": "cde0ef13-100c-4204-ad72-bf7c17de38fc",
   "metadata": {},
   "outputs": [
    {
     "data": {
      "text/plain": [
       "'get_x'"
      ]
     },
     "execution_count": null,
     "metadata": {},
     "output_type": "execute_result"
    }
   ],
   "source": [
    "dblock.get_x()"
   ]
  },
  {
   "cell_type": "code",
   "execution_count": null,
   "id": "ba736aa8-ed82-4eaf-b86e-9a7610f4a918",
   "metadata": {},
   "outputs": [
    {
     "data": {
      "text/plain": [
       "{'get_x': <function __main__.<lambda>()>,\n",
       " 'get_y': <function __main__.<lambda>()>}"
      ]
     },
     "execution_count": null,
     "metadata": {},
     "output_type": "execute_result"
    }
   ],
   "source": [
    "dblock.__dict__"
   ]
  },
  {
   "cell_type": "code",
   "execution_count": null,
   "id": "43155e43-c6c8-45b0-b372-a582ecbee64f",
   "metadata": {},
   "outputs": [],
   "source": []
  }
 ],
 "metadata": {
  "kernelspec": {
   "display_name": "Python 3 (ipykernel)",
   "language": "python",
   "name": "python3"
  }
 },
 "nbformat": 4,
 "nbformat_minor": 5
}
