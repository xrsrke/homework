{
 "cells": [
  {
   "cell_type": "code",
   "execution_count": null,
   "id": "6b8bcfd7-6bea-4df9-93a8-47303696515f",
   "metadata": {},
   "outputs": [],
   "source": [
    "from fastcore.foundation import *"
   ]
  },
  {
   "cell_type": "markdown",
   "id": "c0ad1bce-7ce9-4f5d-bca8-c112abf273f0",
   "metadata": {},
   "source": [
    "### `@docs`"
   ]
  },
  {
   "cell_type": "code",
   "execution_count": null,
   "id": "21d7c38a-e808-44f2-9645-5de74eff7756",
   "metadata": {},
   "outputs": [],
   "source": [
    "from fastcore.foundation import *"
   ]
  },
  {
   "cell_type": "code",
   "execution_count": null,
   "id": "6454a515-5ed8-4b65-90a2-273fc78a800a",
   "metadata": {},
   "outputs": [],
   "source": [
    "class DataBlock:\n",
    "    def get_x(self): pass\n",
    "    def get_y(self): pass"
   ]
  },
  {
   "cell_type": "markdown",
   "id": "b32d073f-64d1-4e7c-8733-e02249bddad9",
   "metadata": {},
   "source": [
    "Add docs as bellow to `DataBlock` using decorator"
   ]
  },
  {
   "cell_type": "code",
   "execution_count": null,
   "id": "636b8ac2-204f-40e0-b47c-a8a787e58db8",
   "metadata": {},
   "outputs": [],
   "source": [
    "@docs\n",
    "class DataBlock:\n",
    "    def get_x(self): pass\n",
    "    def get_y(self): pass\n",
    "\n",
    "    _docs = dict(cls_doc = 'A container to quickly build `Datasets` and `DataLoaders`.',\n",
    "                 get_x = 'Get the independent variable',\n",
    "                 get_y = 'Get the dependent variable')"
   ]
  },
  {
   "cell_type": "code",
   "execution_count": null,
   "id": "fb39d09a-185f-4f9c-9720-92779b4b807f",
   "metadata": {},
   "outputs": [
    {
     "name": "stdout",
     "output_type": "stream",
     "text": [
      "Help on class DataBlock in module __main__:\n",
      "\n",
      "class DataBlock(builtins.object)\n",
      " |  A container to quickly build `Datasets` and `DataLoaders`.\n",
      " |  \n",
      " |  Methods defined here:\n",
      " |  \n",
      " |  get_x(self)\n",
      " |      Get the independent variable\n",
      " |  \n",
      " |  get_y(self)\n",
      " |      Get the dependent variable\n",
      " |  \n",
      " |  ----------------------------------------------------------------------\n",
      " |  Data descriptors defined here:\n",
      " |  \n",
      " |  __dict__\n",
      " |      dictionary for instance variables (if defined)\n",
      " |  \n",
      " |  __weakref__\n",
      " |      list of weak references to the object (if defined)\n",
      "\n"
     ]
    }
   ],
   "source": [
    "help(DataBlock)"
   ]
  },
  {
   "cell_type": "markdown",
   "id": "98c65542-fcaf-458c-9152-e6acc09d0825",
   "metadata": {},
   "source": [
    "## `L`"
   ]
  },
  {
   "cell_type": "markdown",
   "id": "5ab23e1a-caf0-4e3e-8ef4-c8a46f500ee0",
   "metadata": {},
   "source": [
    "##### Example 1"
   ]
  },
  {
   "cell_type": "code",
   "execution_count": null,
   "id": "956c5834-055f-4f4c-9e76-76c6f66738e4",
   "metadata": {},
   "outputs": [],
   "source": [
    "Create a "
   ]
  },
  {
   "cell_type": "markdown",
   "id": "beb1be95-e6dc-4539-995b-fc2d7d2c1636",
   "metadata": {},
   "source": [
    "### `L().map()`"
   ]
  },
  {
   "cell_type": "markdown",
   "id": "cd137d68-c7fd-4739-b647-045a2fe491b2",
   "metadata": {},
   "source": [
    "##### Example 1"
   ]
  },
  {
   "cell_type": "code",
   "execution_count": null,
   "id": "ad1315c4-2557-4746-9e88-cba8c686ec3a",
   "metadata": {},
   "outputs": [],
   "source": [
    "nums = [1, 2, 3, 4]"
   ]
  },
  {
   "cell_type": "code",
   "execution_count": null,
   "id": "92c578fd-0be6-4643-bb3e-897c1f0b9e41",
   "metadata": {},
   "outputs": [],
   "source": [
    "from fastcore.foundation import *"
   ]
  },
  {
   "cell_type": "code",
   "execution_count": null,
   "id": "7fddbd4b-4dc1-42da-8aee-2b782bc8936b",
   "metadata": {},
   "outputs": [
    {
     "data": {
      "text/plain": [
       "[1, 2, 3, 4]"
      ]
     },
     "execution_count": null,
     "metadata": {},
     "output_type": "execute_result"
    }
   ],
   "source": [
    "nums"
   ]
  },
  {
   "cell_type": "code",
   "execution_count": null,
   "id": "298c335d-0ad0-4b1d-b759-c9aedef8e9ac",
   "metadata": {},
   "outputs": [],
   "source": [
    "def square(x): return x**2"
   ]
  },
  {
   "cell_type": "markdown",
   "id": "7de99fae-895f-41a0-bb1c-0e23bac560cf",
   "metadata": {},
   "source": [
    "Applies function `square` to each element in `nums`"
   ]
  },
  {
   "cell_type": "code",
   "execution_count": null,
   "id": "f4d999dd-3dd8-4f6b-a08b-839a836af4a0",
   "metadata": {},
   "outputs": [
    {
     "data": {
      "text/plain": [
       "(#4) [1,4,9,16]"
      ]
     },
     "execution_count": null,
     "metadata": {},
     "output_type": "execute_result"
    }
   ],
   "source": [
    "L(nums).map(square)"
   ]
  },
  {
   "cell_type": "markdown",
   "id": "9424813c-11ce-4e2b-8eaf-6c051f999e44",
   "metadata": {},
   "source": [
    "### `L().attrgot()`"
   ]
  },
  {
   "cell_type": "markdown",
   "id": "02773cab-00dc-4c83-a792-7d292b44ac95",
   "metadata": {},
   "source": [
    "##### Example 1"
   ]
  },
  {
   "cell_type": "code",
   "execution_count": null,
   "id": "ef3e326a-cd6f-428c-b40e-444fe1b74312",
   "metadata": {},
   "outputs": [],
   "source": [
    "b =[{'id': 15, 'name': 'nbdev'}, {'id': 17, 'name': 'fastcore'}]"
   ]
  },
  {
   "cell_type": "code",
   "execution_count": null,
   "id": "6fbf6830-89a3-457a-9507-bd03211eceb8",
   "metadata": {},
   "outputs": [],
   "source": [
    "from fastcore.foundation import *"
   ]
  },
  {
   "cell_type": "code",
   "execution_count": null,
   "id": "f318ef7e-edd0-4177-9e96-df373a72b38c",
   "metadata": {},
   "outputs": [
    {
     "data": {
      "text/plain": [
       "[{'id': 15, 'name': 'nbdev'}, {'id': 17, 'name': 'fastcore'}]"
      ]
     },
     "execution_count": null,
     "metadata": {},
     "output_type": "execute_result"
    }
   ],
   "source": [
    "b"
   ]
  },
  {
   "cell_type": "markdown",
   "id": "159f6d6f-1649-48bf-b6da-29947840d48e",
   "metadata": {},
   "source": [
    "Return a list of values from attribute `id` of `b`"
   ]
  },
  {
   "cell_type": "code",
   "execution_count": null,
   "id": "0cee156b-31d6-43c9-adfb-1ade9b86a1f5",
   "metadata": {},
   "outputs": [
    {
     "data": {
      "text/plain": [
       "(#2) [15,17]"
      ]
     },
     "execution_count": null,
     "metadata": {},
     "output_type": "execute_result"
    }
   ],
   "source": [
    "L(b).attrgot('id')"
   ]
  },
  {
   "cell_type": "code",
   "execution_count": null,
   "id": "a605c4df-9511-45e4-b8bb-5153b7d0098f",
   "metadata": {},
   "outputs": [],
   "source": []
  },
  {
   "cell_type": "code",
   "execution_count": null,
   "id": "11d0e55e-acca-46db-a870-7f9996212524",
   "metadata": {},
   "outputs": [],
   "source": []
  },
  {
   "cell_type": "code",
   "execution_count": null,
   "id": "f96493c3-2a25-4a25-a4c1-dc1d83922a4f",
   "metadata": {},
   "outputs": [],
   "source": []
  },
  {
   "cell_type": "code",
   "execution_count": null,
   "id": "02d7bf70-ca44-47e8-8135-1f532bbc3d52",
   "metadata": {},
   "outputs": [],
   "source": []
  },
  {
   "cell_type": "code",
   "execution_count": null,
   "id": "04e032ab-0088-46f3-93ea-767bb3892109",
   "metadata": {},
   "outputs": [],
   "source": []
  },
  {
   "cell_type": "code",
   "execution_count": null,
   "id": "568763de-0143-4109-878f-889922dd9c6b",
   "metadata": {},
   "outputs": [],
   "source": [
    "b =[{'id': 32, 'name': 'fastcore'}, {'id': 15, 'name': 'nbdev'}, {'id': 17, 'name': 'fastcore'}]"
   ]
  },
  {
   "cell_type": "code",
   "execution_count": null,
   "id": "4b5017dc-28f2-42d4-9c2a-862b9de8ed75",
   "metadata": {},
   "outputs": [
    {
     "data": {
      "text/plain": [
       "(#3) [{'id': 32, 'name': 'fastcore'},{'id': 15, 'name': 'nbdev'},{'id': 17, 'name': 'fastcore'}]"
      ]
     },
     "execution_count": null,
     "metadata": {},
     "output_type": "execute_result"
    }
   ],
   "source": [
    "L(b).sorted('id')"
   ]
  },
  {
   "cell_type": "code",
   "execution_count": null,
   "id": "16fbdc54-641c-440a-b7e3-140e2077e575",
   "metadata": {},
   "outputs": [],
   "source": []
  }
 ],
 "metadata": {
  "kernelspec": {
   "display_name": "Python 3 (ipykernel)",
   "language": "python",
   "name": "python3"
  }
 },
 "nbformat": 4,
 "nbformat_minor": 5
}
