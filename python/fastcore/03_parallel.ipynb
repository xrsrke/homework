{
 "cells": [
  {
   "cell_type": "code",
   "execution_count": null,
   "id": "ec856bf2-40c6-4bcc-b355-fc5212196f0b",
   "metadata": {},
   "outputs": [],
   "source": [
    "from fastcore.parallel import *"
   ]
  },
  {
   "cell_type": "code",
   "execution_count": null,
   "id": "e69e8fda-1d37-4ad3-9ebf-ac2349242545",
   "metadata": {},
   "outputs": [],
   "source": [
    "import time"
   ]
  },
  {
   "cell_type": "code",
   "execution_count": null,
   "id": "366ee568-c0ff-476d-8e50-da0d95846220",
   "metadata": {},
   "outputs": [
    {
     "name": "stdout",
     "output_type": "stream",
     "text": [
      "first\n",
      "second\n"
     ]
    }
   ],
   "source": [
    "@threaded\n",
    "def _1():\n",
    "    time.sleep(0.05)\n",
    "    print(\"second\")\n",
    "\n",
    "@threaded\n",
    "def _2():\n",
    "    time.sleep(0.01)\n",
    "    print(\"first\")\n",
    "\n",
    "_1()\n",
    "_2()\n",
    "time.sleep(0.1)"
   ]
  },
  {
   "cell_type": "code",
   "execution_count": null,
   "id": "d17ce229-a566-4960-a488-f7f81d9c6a31",
   "metadata": {},
   "outputs": [],
   "source": []
  }
 ],
 "metadata": {
  "kernelspec": {
   "display_name": "Python 3 (ipykernel)",
   "language": "python",
   "name": "python3"
  }
 },
 "nbformat": 4,
 "nbformat_minor": 5
}
