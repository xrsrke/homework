{
 "cells": [
  {
   "cell_type": "code",
   "execution_count": null,
   "id": "12667174-1f82-42b6-911c-207fd3fae34f",
   "metadata": {},
   "outputs": [],
   "source": [
    "from fastcore.test import *"
   ]
  },
  {
   "cell_type": "markdown",
   "id": "d7246e14-2711-4c52-927e-b61325a04a6e",
   "metadata": {},
   "source": [
    "### `test_fail`"
   ]
  },
  {
   "cell_type": "code",
   "execution_count": null,
   "id": "8264bbbd-b9b4-4abd-b1e4-80183f810b57",
   "metadata": {},
   "outputs": [],
   "source": [
    "from fastcore.test import *"
   ]
  },
  {
   "cell_type": "code",
   "execution_count": null,
   "id": "3ca5820d-5801-4197-a553-d0f350e31456",
   "metadata": {},
   "outputs": [],
   "source": [
    "def _fail(): raise Exception(\"foobar\")"
   ]
  },
  {
   "cell_type": "markdown",
   "id": "9e1c77a4-b915-448e-8a39-7ccdab05a780",
   "metadata": {},
   "source": [
    "Write a test to test whether function `_fail` raise `Exception` contains text `foo`"
   ]
  },
  {
   "cell_type": "code",
   "execution_count": null,
   "id": "014cd6db-f8f0-4f5b-9d30-3eace38c7447",
   "metadata": {},
   "outputs": [],
   "source": [
    "test_fail(_fail, contains='foo')"
   ]
  },
  {
   "cell_type": "markdown",
   "id": "cd0abb36-40b6-4138-a82b-6c6c59a0dff6",
   "metadata": {},
   "source": [
    "### `test_is`"
   ]
  },
  {
   "cell_type": "code",
   "execution_count": null,
   "id": "7f63f682-991f-4a5a-a900-7b3593f23321",
   "metadata": {},
   "outputs": [],
   "source": [
    "from fastcore.test import *"
   ]
  },
  {
   "cell_type": "code",
   "execution_count": null,
   "id": "7ebaecc1-38bc-4485-9692-a54abfa1409a",
   "metadata": {},
   "outputs": [],
   "source": [
    "class Comet: pass"
   ]
  },
  {
   "cell_type": "code",
   "execution_count": null,
   "id": "b10a5560-57b3-4b15-8c1e-ccf7594c4a51",
   "metadata": {},
   "outputs": [],
   "source": [
    "c1 = Comet()"
   ]
  },
  {
   "cell_type": "code",
   "execution_count": null,
   "id": "57904b2e-10c5-48aa-b518-1ff62dc697bd",
   "metadata": {},
   "outputs": [],
   "source": [
    "c2 = c1"
   ]
  },
  {
   "cell_type": "markdown",
   "id": "1d2a63d5-d5a7-4e83-96f7-8a509496c1be",
   "metadata": {},
   "source": [
    "Write a test to test whether `c1` and `c2` have the same memory address"
   ]
  },
  {
   "cell_type": "code",
   "execution_count": null,
   "id": "6720b21b-f56a-4b07-bb73-356c45b53254",
   "metadata": {},
   "outputs": [],
   "source": [
    "test_is(c1, c2)"
   ]
  },
  {
   "cell_type": "code",
   "execution_count": null,
   "id": "1eca319f-295d-456a-8829-0935797dc827",
   "metadata": {},
   "outputs": [],
   "source": []
  }
 ],
 "metadata": {
  "kernelspec": {
   "display_name": "Python 3 (ipykernel)",
   "language": "python",
   "name": "python3"
  }
 },
 "nbformat": 4,
 "nbformat_minor": 5
}
