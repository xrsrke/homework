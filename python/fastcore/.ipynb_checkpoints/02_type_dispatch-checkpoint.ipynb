{
 "cells": [
  {
   "cell_type": "markdown",
   "id": "8acb0e8e-a3d0-4e1c-abd9-6bd0d512d131",
   "metadata": {},
   "source": [
    "### Type Dispatch"
   ]
  },
  {
   "cell_type": "code",
   "execution_count": null,
   "id": "85dd80ce-7ab6-46d4-8f0b-9a6c40360fe8",
   "metadata": {},
   "outputs": [],
   "source": [
    "from fastcore.dispatch import *"
   ]
  },
  {
   "cell_type": "code",
   "execution_count": null,
   "id": "a560d47a-64a5-4597-adff-d5924d327906",
   "metadata": {},
   "outputs": [],
   "source": [
    "import numbers"
   ]
  },
  {
   "cell_type": "code",
   "execution_count": null,
   "id": "18d7df17-6030-4add-8f1d-4cf3c57bf74f",
   "metadata": {},
   "outputs": [],
   "source": [
    "def f(x: int, y: float):\n",
    "    return x + y"
   ]
  },
  {
   "cell_type": "code",
   "execution_count": null,
   "id": "09792067-931a-4d79-99e1-087f0f0cf504",
   "metadata": {},
   "outputs": [],
   "source": [
    "def f_nin(x: numbers.Integral) -> int:\n",
    "    return x + 1"
   ]
  },
  {
   "cell_type": "code",
   "execution_count": null,
   "id": "d34f480b-417a-411d-beed-bff74bf8f4b8",
   "metadata": {},
   "outputs": [],
   "source": [
    "def f_ni2(x: int):\n",
    "    return x"
   ]
  },
  {
   "cell_type": "markdown",
   "id": "b0ddf503-ff75-4c92-89de-8637cdf4260a",
   "metadata": {},
   "source": [
    "##### Example 1"
   ]
  },
  {
   "cell_type": "code",
   "execution_count": null,
   "id": "90ba2a0d-41f8-4dfb-a545-3e8a8e399045",
   "metadata": {},
   "outputs": [],
   "source": [
    "import numpy as np\n",
    "from fastcore.dispatch import *"
   ]
  },
  {
   "cell_type": "code",
   "execution_count": null,
   "id": "b276db32-86c0-45be-80f5-73b8e1ddcc96",
   "metadata": {},
   "outputs": [],
   "source": [
    "def f(x:str, y:str): return f'Got two string {x} and {y}'"
   ]
  },
  {
   "cell_type": "markdown",
   "id": "9d483d9a-120b-4341-9f5f-2c20a75421ac",
   "metadata": {},
   "source": [
    "Change the way function `f` behaves based on the input types it receives as bellow"
   ]
  },
  {
   "cell_type": "code",
   "execution_count": null,
   "id": "1bfa3ddc-f40c-468d-9bba-134076ab19e6",
   "metadata": {},
   "outputs": [],
   "source": [
    "@typedispatch\n",
    "def f(x:str, y:str): return f'Got two string {x} and {y}'"
   ]
  },
  {
   "cell_type": "code",
   "execution_count": null,
   "id": "76dfdbdb-6312-4e9f-a846-9d0effc82731",
   "metadata": {},
   "outputs": [],
   "source": [
    "@typedispatch\n",
    "def f(x: float, y: int): return f'Got a float {x} and an integer {y}'"
   ]
  },
  {
   "cell_type": "code",
   "execution_count": null,
   "id": "595ae99a-4cf6-4a0d-b5d7-ea504281383c",
   "metadata": {},
   "outputs": [],
   "source": [
    "@typedispatch\n",
    "def f(x:int, y:int): return f'Got two intergers: {x} and {y}'"
   ]
  },
  {
   "cell_type": "code",
   "execution_count": null,
   "id": "29614dc8-fb60-4470-b143-31fc5b4b0a8a",
   "metadata": {},
   "outputs": [
    {
     "data": {
      "text/plain": [
       "'Got two string a and b'"
      ]
     },
     "execution_count": null,
     "metadata": {},
     "output_type": "execute_result"
    }
   ],
   "source": [
    "f('a', 'b')"
   ]
  },
  {
   "cell_type": "code",
   "execution_count": null,
   "id": "4285e9cd-54a7-443a-a3da-8f8e4f734985",
   "metadata": {},
   "outputs": [
    {
     "data": {
      "text/plain": [
       "'Got two intergers: 1 and 2'"
      ]
     },
     "execution_count": null,
     "metadata": {},
     "output_type": "execute_result"
    }
   ],
   "source": [
    "f(1, 2)"
   ]
  },
  {
   "cell_type": "code",
   "execution_count": null,
   "id": "9822ca39-6b55-42e9-8b7e-9e56ccbe5b8d",
   "metadata": {},
   "outputs": [
    {
     "data": {
      "text/plain": [
       "'Got a float 2.2 and an integer 3'"
      ]
     },
     "execution_count": null,
     "metadata": {},
     "output_type": "execute_result"
    }
   ],
   "source": [
    "f(2.2, 3)"
   ]
  },
  {
   "cell_type": "markdown",
   "id": "be7b662e-8111-4cc2-83e0-04e4b40d1598",
   "metadata": {},
   "source": [
    "##### Example"
   ]
  },
  {
   "cell_type": "code",
   "execution_count": null,
   "id": "287cf343-5d9c-4fb6-9847-a336b063022f",
   "metadata": {},
   "outputs": [],
   "source": [
    "class Runner:\n",
    "    \n",
    "    @typedispatch\n",
    "    def f(x:str, y:str): return f'Got two string {x} and {y}'\n",
    "\n",
    "    @typedispatch\n",
    "    def f(x: np.ndarray): return f'Got np.array'\n",
    "\n",
    "    @typedispatch\n",
    "    def f(x:int, y:int): return f'Got two intergers: {x} and {y}'"
   ]
  },
  {
   "cell_type": "code",
   "execution_count": null,
   "id": "3ca7908e-221f-406b-85b7-f9267fa7994e",
   "metadata": {},
   "outputs": [
    {
     "data": {
      "text/plain": [
       "'Got two string Hello and World!'"
      ]
     },
     "execution_count": null,
     "metadata": {},
     "output_type": "execute_result"
    }
   ],
   "source": [
    "f('Hello', 'World!')"
   ]
  },
  {
   "cell_type": "code",
   "execution_count": null,
   "id": "e0e5f1b1-50d2-43df-8659-7eee7a02533f",
   "metadata": {},
   "outputs": [
    {
     "data": {
      "text/plain": [
       "'Got two intergers: 1 and 2'"
      ]
     },
     "execution_count": null,
     "metadata": {},
     "output_type": "execute_result"
    }
   ],
   "source": [
    "f(1, 2)"
   ]
  },
  {
   "cell_type": "code",
   "execution_count": null,
   "id": "9bd25847-b555-4d64-8290-f374bef4187f",
   "metadata": {},
   "outputs": [
    {
     "ename": "TypeError",
     "evalue": "f() takes 2 positional arguments but 3 were given",
     "output_type": "error",
     "traceback": [
      "\u001b[0;31m---------------------------------------------------------------------------\u001b[0m",
      "\u001b[0;31mTypeError\u001b[0m                                 Traceback (most recent call last)",
      "Input \u001b[0;32mIn [62]\u001b[0m, in \u001b[0;36m<cell line: 1>\u001b[0;34m()\u001b[0m\n\u001b[0;32m----> 1\u001b[0m \u001b[43mRunner\u001b[49m\u001b[43m(\u001b[49m\u001b[43m)\u001b[49m\u001b[38;5;241;43m.\u001b[39;49m\u001b[43mf\u001b[49m\u001b[43m(\u001b[49m\u001b[38;5;241;43m1\u001b[39;49m\u001b[43m,\u001b[49m\u001b[43m \u001b[49m\u001b[38;5;241;43m2\u001b[39;49m\u001b[43m)\u001b[49m\n",
      "File \u001b[0;32m/opt/anaconda3/envs/tinypytorch/lib/python3.9/site-packages/fastcore/dispatch.py:120\u001b[0m, in \u001b[0;36mTypeDispatch.__call__\u001b[0;34m(self, *args, **kwargs)\u001b[0m\n\u001b[1;32m    118\u001b[0m \u001b[38;5;28;01melif\u001b[39;00m \u001b[38;5;28mself\u001b[39m\u001b[38;5;241m.\u001b[39minst \u001b[38;5;129;01mis\u001b[39;00m \u001b[38;5;129;01mnot\u001b[39;00m \u001b[38;5;28;01mNone\u001b[39;00m: f \u001b[38;5;241m=\u001b[39m MethodType(f, \u001b[38;5;28mself\u001b[39m\u001b[38;5;241m.\u001b[39minst)\n\u001b[1;32m    119\u001b[0m \u001b[38;5;28;01melif\u001b[39;00m \u001b[38;5;28mself\u001b[39m\u001b[38;5;241m.\u001b[39mowner \u001b[38;5;129;01mis\u001b[39;00m \u001b[38;5;129;01mnot\u001b[39;00m \u001b[38;5;28;01mNone\u001b[39;00m: f \u001b[38;5;241m=\u001b[39m MethodType(f, \u001b[38;5;28mself\u001b[39m\u001b[38;5;241m.\u001b[39mowner)\n\u001b[0;32m--> 120\u001b[0m \u001b[38;5;28;01mreturn\u001b[39;00m \u001b[43mf\u001b[49m\u001b[43m(\u001b[49m\u001b[38;5;241;43m*\u001b[39;49m\u001b[43margs\u001b[49m\u001b[43m,\u001b[49m\u001b[43m \u001b[49m\u001b[38;5;241;43m*\u001b[39;49m\u001b[38;5;241;43m*\u001b[39;49m\u001b[43mkwargs\u001b[49m\u001b[43m)\u001b[49m\n",
      "\u001b[0;31mTypeError\u001b[0m: f() takes 2 positional arguments but 3 were given"
     ]
    }
   ],
   "source": [
    "Runner().f(1, 2)"
   ]
  },
  {
   "cell_type": "code",
   "execution_count": null,
   "id": "69213d6b-a83c-4451-aee0-14cb8aa80e28",
   "metadata": {},
   "outputs": [],
   "source": []
  }
 ],
 "metadata": {
  "kernelspec": {
   "display_name": "Python 3 (ipykernel)",
   "language": "python",
   "name": "python3"
  }
 },
 "nbformat": 4,
 "nbformat_minor": 5
}
