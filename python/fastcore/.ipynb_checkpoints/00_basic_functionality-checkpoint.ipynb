{
 "cells": [
  {
   "cell_type": "markdown",
   "id": "1fb9a1a7-829d-4cc0-b854-bd770c4d1546",
   "metadata": {},
   "source": [
    "# 0. Basic Functionality"
   ]
  },
  {
   "cell_type": "markdown",
   "id": "0d6f6fbe-2086-4ce0-8da6-5a1a202387d9",
   "metadata": {},
   "source": [
    "### `patch`"
   ]
  },
  {
   "cell_type": "markdown",
   "id": "704d36fc-b2bf-44d0-99ad-f96d016e6629",
   "metadata": {},
   "source": [
    "##### Example 1"
   ]
  },
  {
   "cell_type": "code",
   "execution_count": null,
   "id": "a42bc4f6-3ea7-4c69-85b6-e168340c2a66",
   "metadata": {},
   "outputs": [],
   "source": [
    "from fastcore.all import *"
   ]
  },
  {
   "cell_type": "code",
   "execution_count": null,
   "id": "9d158074-2fce-4cfc-9698-2695227848e8",
   "metadata": {},
   "outputs": [],
   "source": [
    "class Learner:\n",
    "    def __init__(self):\n",
    "        self.n_epochs = 3"
   ]
  },
  {
   "cell_type": "code",
   "execution_count": null,
   "id": "e6da2be1-c239-44da-b5e5-74f19d6e89e9",
   "metadata": {},
   "outputs": [],
   "source": [
    "def num_items():\n",
    "    return \"Works\""
   ]
  },
  {
   "cell_type": "markdown",
   "id": "8f53653a-3f1d-4252-9466-d9696dbf22e0",
   "metadata": {},
   "source": [
    "Using mixin to add function `num_items` to class `Learner` without changing `Learner`"
   ]
  },
  {
   "cell_type": "code",
   "execution_count": null,
   "id": "74758d90-9bba-4e5a-9116-17fbafa71f64",
   "metadata": {},
   "outputs": [],
   "source": [
    "@patch\n",
    "def num_items(self:Learner): return \"Works\""
   ]
  },
  {
   "cell_type": "code",
   "execution_count": null,
   "id": "4854e6f7-6a40-41ed-a72e-ce51cd0b1b0e",
   "metadata": {},
   "outputs": [
    {
     "data": {
      "text/plain": [
       "'Works'"
      ]
     },
     "execution_count": null,
     "metadata": {},
     "output_type": "execute_result"
    }
   ],
   "source": [
    "Learner().num_items()"
   ]
  },
  {
   "cell_type": "code",
   "execution_count": null,
   "id": "9686da15-3379-4bf0-9e4f-3bdb651aad49",
   "metadata": {},
   "outputs": [],
   "source": []
  }
 ],
 "metadata": {
  "kernelspec": {
   "display_name": "Python 3 (ipykernel)",
   "language": "python",
   "name": "python3"
  }
 },
 "nbformat": 4,
 "nbformat_minor": 5
}
