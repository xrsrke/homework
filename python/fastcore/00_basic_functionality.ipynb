{
 "cells": [
  {
   "cell_type": "markdown",
   "id": "1fb9a1a7-829d-4cc0-b854-bd770c4d1546",
   "metadata": {},
   "source": [
    "# 0. Basic Functionality"
   ]
  },
  {
   "cell_type": "markdown",
   "id": "0d6f6fbe-2086-4ce0-8da6-5a1a202387d9",
   "metadata": {},
   "source": [
    "### `patch`"
   ]
  },
  {
   "cell_type": "markdown",
   "id": "704d36fc-b2bf-44d0-99ad-f96d016e6629",
   "metadata": {},
   "source": [
    "##### Example 1"
   ]
  },
  {
   "cell_type": "code",
   "execution_count": null,
   "id": "a42bc4f6-3ea7-4c69-85b6-e168340c2a66",
   "metadata": {},
   "outputs": [],
   "source": [
    "from fastcore.all import *"
   ]
  },
  {
   "cell_type": "code",
   "execution_count": null,
   "id": "9d158074-2fce-4cfc-9698-2695227848e8",
   "metadata": {},
   "outputs": [],
   "source": [
    "class Learner:\n",
    "    def __init__(self):\n",
    "        self.n_epochs = 3"
   ]
  },
  {
   "cell_type": "code",
   "execution_count": null,
   "id": "e6da2be1-c239-44da-b5e5-74f19d6e89e9",
   "metadata": {},
   "outputs": [],
   "source": [
    "def num_items():\n",
    "    return \"Works\""
   ]
  },
  {
   "cell_type": "markdown",
   "id": "8f53653a-3f1d-4252-9466-d9696dbf22e0",
   "metadata": {},
   "source": [
    "Using mixin to add function `num_items` to class `Learner` without changing `Learner`"
   ]
  },
  {
   "cell_type": "code",
   "execution_count": null,
   "id": "74758d90-9bba-4e5a-9116-17fbafa71f64",
   "metadata": {},
   "outputs": [],
   "source": [
    "@patch\n",
    "def num_items(self:Learner): return \"Works\""
   ]
  },
  {
   "cell_type": "code",
   "execution_count": null,
   "id": "4854e6f7-6a40-41ed-a72e-ce51cd0b1b0e",
   "metadata": {},
   "outputs": [
    {
     "data": {
      "text/plain": [
       "'Works'"
      ]
     },
     "execution_count": null,
     "metadata": {},
     "output_type": "execute_result"
    }
   ],
   "source": [
    "Learner().num_items()"
   ]
  },
  {
   "cell_type": "markdown",
   "id": "7a4b447b-99c7-4fd3-be84-0a80209ecb69",
   "metadata": {},
   "source": [
    "### `store_attr()`"
   ]
  },
  {
   "cell_type": "markdown",
   "id": "e2023d55-8b35-4cde-a53a-4b7bc58111ad",
   "metadata": {},
   "source": [
    "##### Example 1"
   ]
  },
  {
   "cell_type": "code",
   "execution_count": null,
   "id": "beb017b0-4e6c-4c94-b5e8-01f9764e2fa9",
   "metadata": {},
   "outputs": [],
   "source": [
    "class Computer:\n",
    "    def __init__(self, a, b, c):\n",
    "        self.a, self.b, self.c = a, b, c"
   ]
  },
  {
   "cell_type": "code",
   "execution_count": null,
   "id": "3ee1d42d-267e-4bac-94dc-815b410e0aa0",
   "metadata": {},
   "outputs": [],
   "source": [
    "class Computer:\n",
    "    def __init__(self, a, b, c):\n",
    "        store_attr()"
   ]
  },
  {
   "cell_type": "code",
   "execution_count": null,
   "id": "54916b84-e14a-4046-be60-2d18759c7b30",
   "metadata": {},
   "outputs": [],
   "source": [
    "c = Computer(1, 2, 3)"
   ]
  },
  {
   "cell_type": "code",
   "execution_count": null,
   "id": "f2088961-5a5d-4608-a17d-e58bec1e2f95",
   "metadata": {},
   "outputs": [
    {
     "data": {
      "text/plain": [
       "{'__stored_args__': {'a': 1, 'b': 2, 'c': 3}, 'a': 1, 'b': 2, 'c': 3}"
      ]
     },
     "execution_count": null,
     "metadata": {},
     "output_type": "execute_result"
    }
   ],
   "source": [
    "c.__dict__"
   ]
  },
  {
   "cell_type": "code",
   "execution_count": null,
   "id": "534c6356-2f50-43f4-9ef2-dbac2febc81d",
   "metadata": {},
   "outputs": [
    {
     "data": {
      "text/plain": [
       "1"
      ]
     },
     "execution_count": null,
     "metadata": {},
     "output_type": "execute_result"
    }
   ],
   "source": [
    "c.a"
   ]
  },
  {
   "cell_type": "markdown",
   "id": "336f1d89-37c8-457f-bae4-9da96b1137d9",
   "metadata": {},
   "source": [
    "##### Example 2"
   ]
  },
  {
   "cell_type": "code",
   "execution_count": null,
   "id": "1eec1225-0828-43ed-a01f-dca9027cdc8d",
   "metadata": {},
   "outputs": [],
   "source": [
    "class "
   ]
  },
  {
   "cell_type": "markdown",
   "id": "1d6976ae-984a-4dc2-b7f3-ac03326a67dc",
   "metadata": {},
   "source": [
    "### `basic_repr()`"
   ]
  },
  {
   "cell_type": "markdown",
   "id": "6f6ec1f8-9639-4ede-8148-03b9a02ad046",
   "metadata": {},
   "source": [
    "##### Example 1"
   ]
  },
  {
   "cell_type": "code",
   "execution_count": null,
   "id": "1cff8264-c2e7-4608-a877-a8de878419d6",
   "metadata": {},
   "outputs": [],
   "source": [
    "from fastcore.all import *"
   ]
  },
  {
   "cell_type": "code",
   "execution_count": null,
   "id": "503c8f2e-a531-446b-821d-1261704bf970",
   "metadata": {},
   "outputs": [],
   "source": [
    "class Foo:\n",
    "    def __init__(self, a, b):\n",
    "        self.a = a\n",
    "        self.b = b"
   ]
  },
  {
   "cell_type": "code",
   "execution_count": null,
   "id": "9af4ba37-a99f-4b02-90a3-67d4db0521cd",
   "metadata": {},
   "outputs": [],
   "source": [
    "f = Foo(1, 2)"
   ]
  },
  {
   "cell_type": "code",
   "execution_count": null,
   "id": "6b885de8-c9d9-422f-aa9e-5f98a13a6532",
   "metadata": {},
   "outputs": [
    {
     "data": {
      "text/plain": [
       "<__main__.Foo>"
      ]
     },
     "execution_count": null,
     "metadata": {},
     "output_type": "execute_result"
    }
   ],
   "source": [
    "f"
   ]
  },
  {
   "cell_type": "markdown",
   "id": "3da23681-6a6b-4c52-9597-b23cff760738",
   "metadata": {},
   "source": [
    "Add repr as bellow"
   ]
  },
  {
   "cell_type": "code",
   "execution_count": null,
   "id": "dda022d9-5a73-40dd-988c-5bcfbd901966",
   "metadata": {},
   "outputs": [],
   "source": [
    "class Foo:\n",
    "    def __init__(self, a, b):\n",
    "        self.a = a\n",
    "        self.b = b\n",
    "    \n",
    "    __repr__ = basic_repr('a, b')"
   ]
  },
  {
   "cell_type": "code",
   "execution_count": null,
   "id": "a1e4ada7-e822-4261-a73a-84481c056d1e",
   "metadata": {},
   "outputs": [],
   "source": [
    "f = Foo(1, 2)"
   ]
  },
  {
   "cell_type": "code",
   "execution_count": null,
   "id": "6bf3afaa-c4d1-46cc-9e26-bdc19031c05d",
   "metadata": {},
   "outputs": [
    {
     "data": {
      "text/plain": [
       "__main__.Foo(a=1, b=2)"
      ]
     },
     "execution_count": null,
     "metadata": {},
     "output_type": "execute_result"
    }
   ],
   "source": [
    "f"
   ]
  },
  {
   "cell_type": "markdown",
   "id": "5a06ffc4-bce7-43a6-91a7-ae81282c3cd7",
   "metadata": {},
   "source": [
    "### Other Helpers"
   ]
  },
  {
   "cell_type": "markdown",
   "id": "63830d0e-1464-4c82-9132-599760a7435e",
   "metadata": {},
   "source": [
    "#### `str_enum`"
   ]
  },
  {
   "cell_type": "markdown",
   "id": "735db55f-3e40-49a0-9705-1d5d0e80b17e",
   "metadata": {},
   "source": [
    "#### `Stateful`"
   ]
  },
  {
   "cell_type": "markdown",
   "id": "434e0d4c-8a2d-41ff-9de2-ce6f0c4d002c",
   "metadata": {},
   "source": [
    "##### Example 1 "
   ]
  },
  {
   "cell_type": "code",
   "execution_count": null,
   "id": "377c1ad7-ba1c-492a-93d5-b47d83a65957",
   "metadata": {},
   "outputs": [],
   "source": [
    "from fastcore.basics import *"
   ]
  },
  {
   "cell_type": "code",
   "execution_count": null,
   "id": "66698b7c-adf4-4330-8292-b066c4885c57",
   "metadata": {},
   "outputs": [],
   "source": [
    "class _T:\n",
    "    def __init__(self):\n",
    "        self.a = 1\n",
    "        self._state['test'] = 2"
   ]
  },
  {
   "cell_type": "markdown",
   "id": "1ac27522-0e87-4edc-893f-3f38b0a922a1",
   "metadata": {},
   "source": [
    "Make class `_T` works as bellow"
   ]
  },
  {
   "cell_type": "code",
   "execution_count": null,
   "id": "48fa79e9-aac8-46d6-8520-27f8654f5610",
   "metadata": {},
   "outputs": [],
   "source": [
    "class _T(Stateful):\n",
    "    def __init__(self):\n",
    "        super().__init__()\n",
    "        self.a = 1\n",
    "        self._state['test'] = 2"
   ]
  },
  {
   "cell_type": "code",
   "execution_count": null,
   "id": "8863f16b-78ba-4129-9c35-51c22fc6eee2",
   "metadata": {},
   "outputs": [],
   "source": [
    "t = _T()"
   ]
  },
  {
   "cell_type": "code",
   "execution_count": null,
   "id": "c21fb329-07f1-4271-acb6-015fa65002c6",
   "metadata": {},
   "outputs": [
    {
     "data": {
      "text/plain": [
       "{'_state': {'test': 2}, 'a': 1}"
      ]
     },
     "execution_count": null,
     "metadata": {},
     "output_type": "execute_result"
    }
   ],
   "source": [
    "t.__dict__"
   ]
  },
  {
   "cell_type": "markdown",
   "id": "abad34f3-5803-4aa4-a80b-2e15602ce86f",
   "metadata": {},
   "source": [
    "#### `add_props()`"
   ]
  },
  {
   "cell_type": "code",
   "execution_count": null,
   "id": "7c55cb6c-ab1f-492b-900c-672b14260c98",
   "metadata": {},
   "outputs": [],
   "source": [
    "# for i in range(1):\n",
    "#     if i == 0:\n",
    "#         a = self.num + i\n",
    "#     else:\n",
    "#         b = self.num + 1"
   ]
  },
  {
   "cell_type": "code",
   "execution_count": null,
   "id": "f2d206c4-1158-4d03-8a96-2b66e0e5e7b6",
   "metadata": {},
   "outputs": [],
   "source": [
    "from fastcore.basics import *"
   ]
  },
  {
   "cell_type": "code",
   "execution_count": null,
   "id": "da5be5d8-5c93-445e-bed4-659b3ef53144",
   "metadata": {},
   "outputs": [],
   "source": [
    "class _T():\n",
    "    def __init__(self): self.num = 10"
   ]
  },
  {
   "cell_type": "markdown",
   "id": "3a4a1e1a-77a2-41f4-872b-23410ad415f9",
   "metadata": {},
   "source": [
    "Create properties `a` and `b` that\n",
    "- the value of `a` is `self.num + 0`\n",
    "- the value of `b` is `self.num + 1`\n",
    "\n",
    "by add one line using some func from `fastcore` :D"
   ]
  },
  {
   "cell_type": "code",
   "execution_count": null,
   "id": "d8eb310f-5b65-48b9-a011-6beaf9af0f4c",
   "metadata": {},
   "outputs": [],
   "source": [
    "class _T():\n",
    "    def __init__(self): self.num = 10\n",
    "    \n",
    "    # add one line\n",
    "    a, b = add_props(lambda i, x: x.num + i)"
   ]
  },
  {
   "cell_type": "code",
   "execution_count": null,
   "id": "3e3cc0c9-e2bd-474d-a663-f91bedddcb2a",
   "metadata": {},
   "outputs": [],
   "source": [
    "t = _T()"
   ]
  },
  {
   "cell_type": "code",
   "execution_count": null,
   "id": "897038c2-9940-4c16-ac32-e8bfbf5d1396",
   "metadata": {},
   "outputs": [
    {
     "data": {
      "text/plain": [
       "(10, 11)"
      ]
     },
     "execution_count": null,
     "metadata": {},
     "output_type": "execute_result"
    }
   ],
   "source": [
    "t.a, t.b"
   ]
  },
  {
   "cell_type": "code",
   "execution_count": null,
   "id": "83eb28bf-bf80-4f8b-bdcb-865cea2cd4e7",
   "metadata": {},
   "outputs": [],
   "source": []
  }
 ],
 "metadata": {
  "kernelspec": {
   "display_name": "Python 3 (ipykernel)",
   "language": "python",
   "name": "python3"
  }
 },
 "nbformat": 4,
 "nbformat_minor": 5
}
