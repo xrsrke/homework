{
 "cells": [
  {
   "cell_type": "markdown",
   "id": "2aea2e80-6c76-4f07-9927-e66a1a99a826",
   "metadata": {},
   "source": [
    "### 13. File I/O"
   ]
  },
  {
   "cell_type": "code",
   "execution_count": 12,
   "id": "38e2149e-1e9c-433e-ba06-448d1feb10f5",
   "metadata": {},
   "outputs": [],
   "source": [
    "my_file = open('test.txt')"
   ]
  },
  {
   "cell_type": "code",
   "execution_count": 14,
   "id": "d5ae7fe2-f58f-4228-960f-d37ee8d9ec5a",
   "metadata": {},
   "outputs": [
    {
     "data": {
      "text/plain": [
       "('hello world!', '')"
      ]
     },
     "execution_count": 14,
     "metadata": {},
     "output_type": "execute_result"
    }
   ],
   "source": [
    "my_file.read(), my_file.read()"
   ]
  },
  {
   "cell_type": "markdown",
   "id": "15c23007-7a1c-494b-82ea-0fead19ef990",
   "metadata": {},
   "source": [
    "#### Read File"
   ]
  },
  {
   "cell_type": "markdown",
   "id": "2106e1fa-fd47-4e84-ade2-8830721693df",
   "metadata": {},
   "source": [
    "Open file `test.txt` in the same directory"
   ]
  },
  {
   "cell_type": "code",
   "execution_count": 53,
   "id": "02b93248-eeec-44e1-9d09-88d943004687",
   "metadata": {},
   "outputs": [],
   "source": [
    "my_file = open('test.txt')"
   ]
  },
  {
   "cell_type": "code",
   "execution_count": 54,
   "id": "d7abf7f2-13c6-4610-bc4d-badd705598e8",
   "metadata": {},
   "outputs": [
    {
     "data": {
      "text/plain": [
       "<_io.TextIOWrapper name='test.txt' mode='r' encoding='UTF-8'>"
      ]
     },
     "execution_count": 54,
     "metadata": {},
     "output_type": "execute_result"
    }
   ],
   "source": [
    "my_file"
   ]
  },
  {
   "cell_type": "markdown",
   "id": "e212914c-51b0-4608-9b4a-57dae1189cf0",
   "metadata": {},
   "source": [
    "Why the second one has no output?"
   ]
  },
  {
   "cell_type": "code",
   "execution_count": 28,
   "id": "09df340b-5937-4c73-b1c1-d23538defad0",
   "metadata": {},
   "outputs": [
    {
     "data": {
      "text/plain": [
       "\"hello world!\\n\\n08/15/002022\\n\\nyou're learning python fundamental!\""
      ]
     },
     "execution_count": 28,
     "metadata": {},
     "output_type": "execute_result"
    }
   ],
   "source": [
    "my_file.read()"
   ]
  },
  {
   "cell_type": "code",
   "execution_count": 23,
   "id": "9012b472-368e-435b-9dc0-2c5543634c0c",
   "metadata": {},
   "outputs": [
    {
     "data": {
      "text/plain": [
       "0"
      ]
     },
     "execution_count": 23,
     "metadata": {},
     "output_type": "execute_result"
    }
   ],
   "source": [
    "my_file.seek(0)"
   ]
  },
  {
   "cell_type": "code",
   "execution_count": 24,
   "id": "81e61b6d-2606-4eba-8440-3a7c7eb25a11",
   "metadata": {},
   "outputs": [
    {
     "data": {
      "text/plain": [
       "'hello world!'"
      ]
     },
     "execution_count": 24,
     "metadata": {},
     "output_type": "execute_result"
    }
   ],
   "source": [
    "my_file.read()"
   ]
  },
  {
   "cell_type": "markdown",
   "id": "59e8f9a5-2f35-4661-8603-e69438416a02",
   "metadata": {},
   "source": [
    "**Explain**"
   ]
  },
  {
   "cell_type": "markdown",
   "id": "d6238516-355c-4bbb-a96a-692efd1933a7",
   "metadata": {},
   "source": [
    "Because the content of the file are read with **a cursor**. So by the end of the first reading, **the cursor is going to be at the end of the file**.\n",
    "\n",
    "So there's nothing left."
   ]
  },
  {
   "cell_type": "markdown",
   "id": "09c238fa-36bf-4350-8842-acda3f161bf8",
   "metadata": {},
   "source": [
    "#### Read Line"
   ]
  },
  {
   "cell_type": "code",
   "execution_count": 48,
   "id": "ba3b436f-833c-415b-adb9-09ccb2071f4b",
   "metadata": {},
   "outputs": [],
   "source": [
    "my_file = open('test.txt')"
   ]
  },
  {
   "cell_type": "code",
   "execution_count": 50,
   "id": "b85fc4ad-89e5-4844-8080-86a13d91c520",
   "metadata": {},
   "outputs": [
    {
     "data": {
      "text/plain": [
       "<_io.TextIOWrapper name='test.txt' mode='r' encoding='UTF-8'>"
      ]
     },
     "execution_count": 50,
     "metadata": {},
     "output_type": "execute_result"
    }
   ],
   "source": [
    "my_file"
   ]
  },
  {
   "cell_type": "code",
   "execution_count": 49,
   "id": "a188756f-bd57-4ec1-b5a1-f60e887f1bd9",
   "metadata": {},
   "outputs": [
    {
     "data": {
      "text/plain": [
       "('hello world!\\n', '\\n')"
      ]
     },
     "execution_count": 49,
     "metadata": {},
     "output_type": "execute_result"
    }
   ],
   "source": [
    "my_file.readline(), my_file.readline()"
   ]
  },
  {
   "cell_type": "code",
   "execution_count": 46,
   "id": "7e6be49c-7b82-4ac4-b8eb-cd4313faba34",
   "metadata": {},
   "outputs": [
    {
     "data": {
      "text/plain": [
       "['hello world!\\n',\n",
       " '\\n',\n",
       " '08/15/002022\\n',\n",
       " '\\n',\n",
       " \"you're learning python fundamental!\"]"
      ]
     },
     "execution_count": 46,
     "metadata": {},
     "output_type": "execute_result"
    }
   ],
   "source": [
    "my_file.readlines()"
   ]
  },
  {
   "cell_type": "code",
   "execution_count": 47,
   "id": "abe836e6-5fe4-49a2-9ef5-d55adf91cf72",
   "metadata": {},
   "outputs": [
    {
     "data": {
      "text/plain": [
       "('', '', '')"
      ]
     },
     "execution_count": 47,
     "metadata": {},
     "output_type": "execute_result"
    }
   ],
   "source": [
    "my_file.readline(), my_file.readline(), my_file.readline()"
   ]
  },
  {
   "cell_type": "markdown",
   "id": "e731966f-230d-49ca-b454-34fa5ef7c7e7",
   "metadata": {},
   "source": [
    "#### Close File"
   ]
  },
  {
   "cell_type": "code",
   "execution_count": 59,
   "id": "b9d47d9d-47f0-496d-bfb0-bc9cd7a1d496",
   "metadata": {},
   "outputs": [
    {
     "data": {
      "text/plain": [
       "<_io.TextIOWrapper name='test.txt' mode='r' encoding='UTF-8'>"
      ]
     },
     "execution_count": 59,
     "metadata": {},
     "output_type": "execute_result"
    }
   ],
   "source": [
    "my_file"
   ]
  },
  {
   "cell_type": "markdown",
   "id": "4017e034-c81c-412e-876f-5b0e6e798dbc",
   "metadata": {},
   "source": [
    "Close `my_file`"
   ]
  },
  {
   "cell_type": "code",
   "execution_count": 60,
   "id": "59dfa2a5-b1a3-4bbe-9ef2-c891ea835dc9",
   "metadata": {},
   "outputs": [],
   "source": [
    "my_file.close()"
   ]
  },
  {
   "cell_type": "markdown",
   "id": "0859c42f-7693-4515-a712-504f242bd0f0",
   "metadata": {},
   "source": [
    "Open file `test.txt` with `with` statement"
   ]
  },
  {
   "cell_type": "code",
   "execution_count": 65,
   "id": "2f1c2b28-6f73-4f25-8017-c6b8c29942a0",
   "metadata": {},
   "outputs": [
    {
     "name": "stdout",
     "output_type": "stream",
     "text": [
      "<_io.TextIOWrapper name='test.txt' mode='r' encoding='UTF-8'>\n"
     ]
    }
   ],
   "source": [
    "with open('test.txt') as my_file:\n",
    "    print(my_file)"
   ]
  },
  {
   "cell_type": "markdown",
   "id": "d460d9ad-87b0-4291-8228-0f2004bb8723",
   "metadata": {},
   "source": [
    "#### Write"
   ]
  },
  {
   "cell_type": "markdown",
   "id": "77576b4b-6531-4912-8df0-9ab7dbfc3483",
   "metadata": {},
   "source": [
    "Append `the end...` to the end of file `test.txt` "
   ]
  },
  {
   "cell_type": "code",
   "execution_count": 68,
   "id": "7bdf8a9c-cdb8-4e47-9865-1d15ef1a3c85",
   "metadata": {},
   "outputs": [
    {
     "name": "stdout",
     "output_type": "stream",
     "text": [
      "10\n"
     ]
    }
   ],
   "source": [
    "with open('test.txt', mode='a') as my_file:\n",
    "    text = my_file.write('the end...')\n",
    "    print(text)"
   ]
  },
  {
   "cell_type": "markdown",
   "id": "53f5c00d-21fc-4873-8c16-40b27cc3b738",
   "metadata": {},
   "source": [
    "`r+`: overwrite the overlap space (keep the rest)\n",
    "\n",
    "`w`: assume a new file and write it\n",
    "\n",
    "`a`: append to the end of the file"
   ]
  },
  {
   "cell_type": "markdown",
   "id": "70bb9a15-e7b3-41ee-89e3-c965120aa5cc",
   "metadata": {},
   "source": [
    "#### Path Lib"
   ]
  },
  {
   "cell_type": "markdown",
   "id": "84c643dc-d78a-4f40-bfe5-c7360551b7b4",
   "metadata": {},
   "source": [
    "Open file `no_exist.txt` which doesn't exist (FileNotFoundError), and return `File doesn't exist`"
   ]
  },
  {
   "cell_type": "code",
   "execution_count": 74,
   "id": "a85c8750-e698-4e10-ac11-1c2c1c9e7437",
   "metadata": {},
   "outputs": [
    {
     "name": "stdout",
     "output_type": "stream",
     "text": [
      "File doesn't exist\n"
     ]
    }
   ],
   "source": [
    "try:\n",
    "    with open('no_exist.txt') as my_file:\n",
    "        print(my_file.read())\n",
    "except FileNotFoundError as err:\n",
    "    print(\"File doesn't exist\")"
   ]
  },
  {
   "cell_type": "code",
   "execution_count": null,
   "id": "480a760a-e821-4211-a496-4b70de19600b",
   "metadata": {},
   "outputs": [],
   "source": []
  }
 ],
 "metadata": {
  "kernelspec": {
   "display_name": "Python 3 (ipykernel)",
   "language": "python",
   "name": "python3"
  },
  "language_info": {
   "codemirror_mode": {
    "name": "ipython",
    "version": 3
   },
   "file_extension": ".py",
   "mimetype": "text/x-python",
   "name": "python",
   "nbconvert_exporter": "python",
   "pygments_lexer": "ipython3",
   "version": "3.9.7"
  }
 },
 "nbformat": 4,
 "nbformat_minor": 5
}
