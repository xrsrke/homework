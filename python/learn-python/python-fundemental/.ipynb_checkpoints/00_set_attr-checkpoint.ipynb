{
 "cells": [
  {
   "cell_type": "markdown",
   "id": "96a4e6be",
   "metadata": {},
   "source": [
    "### 1. `__set_attr__`"
   ]
  },
  {
   "cell_type": "markdown",
   "id": "89622718",
   "metadata": {},
   "source": [
    "Create a class `Classroom` that after define each new attribute, save its name and values to a dictionary named `_students`\n",
    "\n",
    "Hint: Carefully infinite recursive loop"
   ]
  },
  {
   "cell_type": "code",
   "execution_count": 99,
   "id": "4d54164f",
   "metadata": {},
   "outputs": [],
   "source": [
    "class Classroom():\n",
    "    def __init__(self):\n",
    "        self._students = {}\n",
    "    \n",
    "    def __setattr__(self, k: \"keyword\", v: \"value\"):\n",
    "        if not k.startswith(\"_\"): self._students[k] = v\n",
    "        super().__setattr__(k, v)"
   ]
  },
  {
   "cell_type": "code",
   "execution_count": 100,
   "id": "81228f14",
   "metadata": {},
   "outputs": [],
   "source": [
    "c = Classroom()"
   ]
  },
  {
   "cell_type": "code",
   "execution_count": 101,
   "id": "f4028886",
   "metadata": {
    "scrolled": true
   },
   "outputs": [
    {
     "data": {
      "text/plain": [
       "{}"
      ]
     },
     "execution_count": 101,
     "metadata": {},
     "output_type": "execute_result"
    }
   ],
   "source": [
    "c._students"
   ]
  },
  {
   "cell_type": "code",
   "execution_count": 102,
   "id": "47d6cc6c",
   "metadata": {},
   "outputs": [],
   "source": [
    "c.s1 = \"John\""
   ]
  },
  {
   "cell_type": "code",
   "execution_count": 103,
   "id": "c19f0ae4",
   "metadata": {},
   "outputs": [],
   "source": [
    "c.s2 = \"Shivon\""
   ]
  },
  {
   "cell_type": "code",
   "execution_count": 104,
   "id": "d5171ea0",
   "metadata": {},
   "outputs": [
    {
     "data": {
      "text/plain": [
       "{'s1': 'John', 's2': 'Shivon'}"
      ]
     },
     "execution_count": 104,
     "metadata": {},
     "output_type": "execute_result"
    }
   ],
   "source": [
    "c._students"
   ]
  },
  {
   "cell_type": "code",
   "execution_count": null,
   "id": "dc216179",
   "metadata": {},
   "outputs": [],
   "source": []
  },
  {
   "cell_type": "code",
   "execution_count": null,
   "id": "b04c67da",
   "metadata": {},
   "outputs": [],
   "source": []
  },
  {
   "cell_type": "code",
   "execution_count": null,
   "id": "ca26faae",
   "metadata": {},
   "outputs": [],
   "source": []
  }
 ],
 "metadata": {
  "kernelspec": {
   "display_name": "Python 3 (ipykernel)",
   "language": "python",
   "name": "python3"
  },
  "language_info": {
   "codemirror_mode": {
    "name": "ipython",
    "version": 3
   },
   "file_extension": ".py",
   "mimetype": "text/x-python",
   "name": "python",
   "nbconvert_exporter": "python",
   "pygments_lexer": "ipython3",
   "version": "3.9.13"
  }
 },
 "nbformat": 4,
 "nbformat_minor": 5
}
