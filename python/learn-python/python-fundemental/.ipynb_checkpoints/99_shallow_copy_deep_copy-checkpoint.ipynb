{
 "cells": [
  {
   "cell_type": "markdown",
   "id": "5ec2e80e-4903-40fc-8ac1-d6ed6987c59a",
   "metadata": {},
   "source": [
    "### Shallow Copy"
   ]
  },
  {
   "cell_type": "code",
   "execution_count": null,
   "id": "70c5ec3d-3ced-494a-9801-d05b246a9b1b",
   "metadata": {},
   "outputs": [],
   "source": [
    "import copy"
   ]
  },
  {
   "cell_type": "code",
   "execution_count": null,
   "id": "ecaaece8-3df8-4b42-abb7-b93f98d67f30",
   "metadata": {},
   "outputs": [],
   "source": [
    "class Address:\n",
    "    def __init__(self, city):\n",
    "        self.city = city"
   ]
  },
  {
   "cell_type": "code",
   "execution_count": null,
   "id": "7b1f621c-d68b-4b8d-8f0c-45fd32ff9e01",
   "metadata": {},
   "outputs": [],
   "source": [
    "class Person:\n",
    "    def __init__(self, name, address: Address):\n",
    "        self.name = name\n",
    "        self.address = address"
   ]
  },
  {
   "cell_type": "code",
   "execution_count": null,
   "id": "55e739b0-8419-4d38-93c7-5d99f06b99d4",
   "metadata": {},
   "outputs": [],
   "source": [
    "a = Address('123 City')"
   ]
  },
  {
   "cell_type": "code",
   "execution_count": null,
   "id": "2bbc34a7-939d-40df-a596-6f6885fd9748",
   "metadata": {},
   "outputs": [],
   "source": [
    "p1 = Person('Shivon', a)"
   ]
  },
  {
   "cell_type": "code",
   "execution_count": null,
   "id": "0bac528e-06b2-4fca-9c9f-ada1cc3bd768",
   "metadata": {},
   "outputs": [],
   "source": [
    "p2 = copy.copy(p1)"
   ]
  },
  {
   "cell_type": "code",
   "execution_count": null,
   "id": "19d83c8b-0d91-4fd4-8998-81b4916c4091",
   "metadata": {},
   "outputs": [],
   "source": [
    "p3 = copy.deepcopy(p1)"
   ]
  },
  {
   "cell_type": "code",
   "execution_count": null,
   "id": "11e8ac6a-e304-4b88-96c0-5409cb0b519e",
   "metadata": {},
   "outputs": [
    {
     "data": {
      "text/plain": [
       "True"
      ]
     },
     "execution_count": null,
     "metadata": {},
     "output_type": "execute_result"
    }
   ],
   "source": [
    "id(p1.__dict__['address']) == id(p2.__dict__['address'])"
   ]
  },
  {
   "cell_type": "code",
   "execution_count": null,
   "id": "8288a8ac-f055-4893-a57c-c1c5fae60a95",
   "metadata": {},
   "outputs": [
    {
     "data": {
      "text/plain": [
       "True"
      ]
     },
     "execution_count": null,
     "metadata": {},
     "output_type": "execute_result"
    }
   ],
   "source": [
    "id(p1.__dict__['name']) == id(p2.__dict__['name'])"
   ]
  },
  {
   "cell_type": "code",
   "execution_count": null,
   "id": "2f6027cd-c066-4b3f-af7f-c81239a755ca",
   "metadata": {},
   "outputs": [
    {
     "data": {
      "text/plain": [
       "False"
      ]
     },
     "execution_count": null,
     "metadata": {},
     "output_type": "execute_result"
    }
   ],
   "source": [
    "id(p1.__dict__['address']) == id(p3.__dict__['address'])"
   ]
  },
  {
   "cell_type": "code",
   "execution_count": null,
   "id": "564a7431-e03b-48ab-bc46-7fe90431f84f",
   "metadata": {},
   "outputs": [
    {
     "data": {
      "text/plain": [
       "True"
      ]
     },
     "execution_count": null,
     "metadata": {},
     "output_type": "execute_result"
    }
   ],
   "source": [
    "id(p1.__dict__['name']) == id(p3.__dict__['name'])"
   ]
  },
  {
   "cell_type": "code",
   "execution_count": null,
   "id": "c7ed4d91-d332-4174-b524-091b7b135988",
   "metadata": {},
   "outputs": [],
   "source": []
  }
 ],
 "metadata": {
  "kernelspec": {
   "display_name": "Python 3 (ipykernel)",
   "language": "python",
   "name": "python3"
  }
 },
 "nbformat": 4,
 "nbformat_minor": 5
}
