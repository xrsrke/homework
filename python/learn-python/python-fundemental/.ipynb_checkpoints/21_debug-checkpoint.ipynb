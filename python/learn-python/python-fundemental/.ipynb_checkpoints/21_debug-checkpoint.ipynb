{
 "cells": [
  {
   "cell_type": "markdown",
   "id": "d8e06cd4",
   "metadata": {},
   "source": [
    "# Standard Library"
   ]
  },
  {
   "cell_type": "markdown",
   "id": "85790704",
   "metadata": {},
   "source": [
    "### Logging Basics"
   ]
  },
  {
   "cell_type": "markdown",
   "id": "103f6afd",
   "metadata": {},
   "source": [
    "##### Example 1"
   ]
  },
  {
   "cell_type": "code",
   "execution_count": null,
   "id": "07ff8279",
   "metadata": {},
   "outputs": [],
   "source": [
    "import logging"
   ]
  },
  {
   "cell_type": "code",
   "execution_count": null,
   "id": "87195bd6",
   "metadata": {},
   "outputs": [],
   "source": [
    "def add(x, y):\n",
    "    return x + y"
   ]
  },
  {
   "cell_type": "markdown",
   "id": "cd9af1c5",
   "metadata": {},
   "source": [
    "Add logging to function `add` works as bellow"
   ]
  },
  {
   "cell_type": "code",
   "execution_count": null,
   "id": "dc9bbcaa",
   "metadata": {},
   "outputs": [],
   "source": [
    "def add(x, y):\n",
    "    logging.warning(f\"x={x}, y={y}\")\n",
    "    return x + y"
   ]
  },
  {
   "cell_type": "code",
   "execution_count": null,
   "id": "0887a6cd",
   "metadata": {},
   "outputs": [
    {
     "name": "stderr",
     "output_type": "stream",
     "text": [
      "WARNING:root:x=2, y=3\n"
     ]
    },
    {
     "data": {
      "text/plain": [
       "5"
      ]
     },
     "execution_count": null,
     "metadata": {},
     "output_type": "execute_result"
    }
   ],
   "source": [
    "add(2, 3)"
   ]
  },
  {
   "cell_type": "markdown",
   "id": "fbc9e67b",
   "metadata": {},
   "source": [
    "# Loguru"
   ]
  },
  {
   "cell_type": "markdown",
   "id": "7eb3a123",
   "metadata": {},
   "source": [
    "##### Example 1"
   ]
  },
  {
   "cell_type": "code",
   "execution_count": null,
   "id": "1fa00003",
   "metadata": {},
   "outputs": [],
   "source": [
    "from loguru import logger"
   ]
  },
  {
   "cell_type": "markdown",
   "id": "b8059c7d",
   "metadata": {},
   "source": [
    "Print a debug log as bellow"
   ]
  },
  {
   "cell_type": "code",
   "execution_count": null,
   "id": "15a361c7",
   "metadata": {},
   "outputs": [],
   "source": [
    "import sys"
   ]
  },
  {
   "cell_type": "code",
   "execution_count": null,
   "id": "ec1b777b",
   "metadata": {},
   "outputs": [
    {
     "data": {
      "text/plain": [
       "1"
      ]
     },
     "execution_count": null,
     "metadata": {},
     "output_type": "execute_result"
    }
   ],
   "source": [
    "logger.add(sys.stderr, format=\"{time} {message}\")"
   ]
  },
  {
   "cell_type": "code",
   "execution_count": null,
   "id": "266d0646",
   "metadata": {},
   "outputs": [
    {
     "name": "stderr",
     "output_type": "stream",
     "text": [
      "2022-10-27 14:04:01.294 | DEBUG    | __main__:<cell line: 1>:1 - Hello logs\n",
      "2022-10-27T14:04:01.294750+0700 Hello logs\n"
     ]
    }
   ],
   "source": [
    "logger.debug('Hello logs')"
   ]
  },
  {
   "cell_type": "markdown",
   "id": "7f65985a",
   "metadata": {},
   "source": [
    "##### Example 2"
   ]
  },
  {
   "cell_type": "code",
   "execution_count": null,
   "id": "7c922409",
   "metadata": {},
   "outputs": [
    {
     "data": {
      "text/plain": [
       "4"
      ]
     },
     "execution_count": null,
     "metadata": {},
     "output_type": "execute_result"
    }
   ],
   "source": [
    "logger.add(\"file_{time}.log\")"
   ]
  },
  {
   "cell_type": "code",
   "execution_count": null,
   "id": "8200c46f",
   "metadata": {},
   "outputs": [
    {
     "name": "stderr",
     "output_type": "stream",
     "text": [
      "2022-10-27 14:14:29.602 | INFO     | __main__:<cell line: 3>:3 - Contextualize your logger easily\n",
      "2022-10-27T14:14:29.602318+0700 Contextualize your logger easily\n",
      "2022-10-27 14:14:29.609 | INFO     | __main__:<cell line: 4>:4 - Inline binding of extra attribute\n",
      "2022-10-27T14:14:29.609533+0700 Inline binding of extra attribute\n",
      "2022-10-27 14:14:29.612 | INFO     | __main__:<cell line: 5>:5 - Use kwargs to add context during formatting: anybody\n",
      "2022-10-27T14:14:29.612302+0700 Use kwargs to add context during formatting: anybody\n"
     ]
    }
   ],
   "source": [
    "logger.add(\"file.log\", format=\"{extra[ip]} {extra[user]} {message}\")\n",
    "context_logger = logger.bind(ip=\"192.168.0.1\", user=\"someone\")\n",
    "context_logger.info(\"Contextualize your logger easily\")\n",
    "context_logger.bind(user=\"someone_else\").info(\"Inline binding of extra attribute\")\n",
    "context_logger.info(\"Use kwargs to add context during formatting: {user}\", user=\"anybody\")"
   ]
  },
  {
   "cell_type": "code",
   "execution_count": null,
   "id": "d2328797",
   "metadata": {},
   "outputs": [
    {
     "name": "stderr",
     "output_type": "stream",
     "text": [
      "2022-10-27 14:15:36.261 | INFO     | __main__:<cell line: 2>:2 - product page opened\n",
      "2022-10-27T14:15:36.261023+0700 product page opened\n",
      "--- Logging error in Loguru Handler #7 ---\n",
      "Record was: {'elapsed': datetime.timedelta(seconds=1059, microseconds=676664), 'exception': None, 'extra': {'seller_id': '001', 'product_id': '123'}, 'file': (name='2765356327.py', path='/var/folders/qg/0sfc2v8d71jcfr2mk24wj2w80000gp/T/ipykernel_9144/2765356327.py'), 'function': '<cell line: 2>', 'level': (name='INFO', no=20, icon='ℹ️'), 'line': 2, 'message': 'product page opened', 'module': '2765356327', 'name': '__main__', 'process': (id=9144, name='MainProcess'), 'thread': (id=8681330176, name='MainThread'), 'time': datetime(2022, 10, 27, 14, 15, 36, 261023, tzinfo=datetime.timezone(datetime.timedelta(seconds=25200), '+07'))}\n",
      "Traceback (most recent call last):\n",
      "  File \"/opt/anaconda3/envs/chemchem/lib/python3.9/site-packages/loguru/_handler.py\", line 151, in emit\n",
      "    formatted = precomputed_format.format_map(formatter_record)\n",
      "KeyError: 'ip'\n",
      "--- End of logging error ---\n",
      "2022-10-27 14:15:36.265 | INFO     | __main__:<cell line: 3>:3 - product updated\n",
      "2022-10-27T14:15:36.265447+0700 product updated\n",
      "--- Logging error in Loguru Handler #7 ---\n",
      "Record was: {'elapsed': datetime.timedelta(seconds=1059, microseconds=681088), 'exception': None, 'extra': {'seller_id': '001', 'product_id': '123'}, 'file': (name='2765356327.py', path='/var/folders/qg/0sfc2v8d71jcfr2mk24wj2w80000gp/T/ipykernel_9144/2765356327.py'), 'function': '<cell line: 3>', 'level': (name='INFO', no=20, icon='ℹ️'), 'line': 3, 'message': 'product updated', 'module': '2765356327', 'name': '__main__', 'process': (id=9144, name='MainProcess'), 'thread': (id=8681330176, name='MainThread'), 'time': datetime(2022, 10, 27, 14, 15, 36, 265447, tzinfo=datetime.timezone(datetime.timedelta(seconds=25200), '+07'))}\n",
      "Traceback (most recent call last):\n",
      "  File \"/opt/anaconda3/envs/chemchem/lib/python3.9/site-packages/loguru/_handler.py\", line 151, in emit\n",
      "    formatted = precomputed_format.format_map(formatter_record)\n",
      "KeyError: 'ip'\n",
      "--- End of logging error ---\n",
      "2022-10-27 14:15:36.268 | INFO     | __main__:<cell line: 4>:4 - product page closed\n",
      "2022-10-27T14:15:36.268140+0700 product page closed\n",
      "--- Logging error in Loguru Handler #7 ---\n",
      "Record was: {'elapsed': datetime.timedelta(seconds=1059, microseconds=683781), 'exception': None, 'extra': {'seller_id': '001', 'product_id': '123'}, 'file': (name='2765356327.py', path='/var/folders/qg/0sfc2v8d71jcfr2mk24wj2w80000gp/T/ipykernel_9144/2765356327.py'), 'function': '<cell line: 4>', 'level': (name='INFO', no=20, icon='ℹ️'), 'line': 4, 'message': 'product page closed', 'module': '2765356327', 'name': '__main__', 'process': (id=9144, name='MainProcess'), 'thread': (id=8681330176, name='MainThread'), 'time': datetime(2022, 10, 27, 14, 15, 36, 268140, tzinfo=datetime.timezone(datetime.timedelta(seconds=25200), '+07'))}\n",
      "Traceback (most recent call last):\n",
      "  File \"/opt/anaconda3/envs/chemchem/lib/python3.9/site-packages/loguru/_handler.py\", line 151, in emit\n",
      "    formatted = precomputed_format.format_map(formatter_record)\n",
      "KeyError: 'ip'\n",
      "--- End of logging error ---\n"
     ]
    }
   ],
   "source": [
    "childLogger = logger.bind(seller_id=\"001\", product_id=\"123\")\n",
    "childLogger.info(\"product page opened\")\n",
    "childLogger.info(\"product updated\")\n",
    "childLogger.info(\"product page closed\")"
   ]
  },
  {
   "cell_type": "code",
   "execution_count": null,
   "id": "8cda4c79",
   "metadata": {},
   "outputs": [],
   "source": []
  }
 ],
 "metadata": {
  "kernelspec": {
   "display_name": "Python 3 (ipykernel)",
   "language": "python",
   "name": "python3"
  }
 },
 "nbformat": 4,
 "nbformat_minor": 5
}
