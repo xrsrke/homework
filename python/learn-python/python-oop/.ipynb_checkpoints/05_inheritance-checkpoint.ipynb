{
 "cells": [
  {
   "cell_type": "markdown",
   "id": "be4ed775",
   "metadata": {},
   "source": [
    "### Video 1"
   ]
  },
  {
   "cell_type": "code",
   "execution_count": null,
   "id": "64ca9c6e",
   "metadata": {},
   "outputs": [],
   "source": [
    "class Virus:\n",
    "    pass"
   ]
  },
  {
   "cell_type": "code",
   "execution_count": null,
   "id": "ab9e475d",
   "metadata": {},
   "outputs": [],
   "source": [
    "class RNAVirus(Virus):\n",
    "    pass"
   ]
  },
  {
   "cell_type": "code",
   "execution_count": null,
   "id": "6a0724b2",
   "metadata": {},
   "outputs": [],
   "source": [
    "class CoronaVirus(RNAVirus):\n",
    "    pass"
   ]
  },
  {
   "cell_type": "code",
   "execution_count": null,
   "id": "094b7078",
   "metadata": {},
   "outputs": [],
   "source": [
    "class SARSConv2(CoronaVirus):\n",
    "    pass"
   ]
  },
  {
   "cell_type": "code",
   "execution_count": null,
   "id": "49c23280",
   "metadata": {},
   "outputs": [
    {
     "data": {
      "text/plain": [
       "True"
      ]
     },
     "execution_count": null,
     "metadata": {},
     "output_type": "execute_result"
    }
   ],
   "source": [
    "issubclass(SARSConv2, Virus)"
   ]
  },
  {
   "cell_type": "code",
   "execution_count": null,
   "id": "cd7fa310",
   "metadata": {},
   "outputs": [
    {
     "data": {
      "text/plain": [
       "True"
      ]
     },
     "execution_count": null,
     "metadata": {},
     "output_type": "execute_result"
    }
   ],
   "source": [
    "issubclass(CoronaVirus, RNAVirus)"
   ]
  },
  {
   "cell_type": "markdown",
   "id": "f904ab74",
   "metadata": {},
   "source": [
    "### Video 2"
   ]
  },
  {
   "cell_type": "code",
   "execution_count": null,
   "id": "b436750d",
   "metadata": {},
   "outputs": [],
   "source": [
    "class Virus:\n",
    "    # name\n",
    "    # reproduction_rate\n",
    "    # resistance\n",
    "    # host\n",
    "    # viral_load\n",
    "    def __init__(self, name, reproduction_rate, resistance):\n",
    "        self.name = name\n",
    "        self.reproduction_rate = reproduction_rate\n",
    "        self.load = 1\n",
    "        self.resistance = resistance\n",
    "    \n",
    "    def infect(self, host):\n",
    "        self.host = host\n",
    "    \n",
    "    def reproduce(self):\n",
    "        if self.host is not None:\n",
    "            self.load *= (1 + self.reproduction_rate)\n",
    "            \n",
    "            return True, f\"Virus reproduced in {self.host}. Viral load: {self.load}\"\n",
    "        else:\n",
    "            raise AttributeError(\"Virus needs to infect a host before being able to reproduce\")"
   ]
  },
  {
   "cell_type": "code",
   "execution_count": null,
   "id": "8e6cd29c",
   "metadata": {},
   "outputs": [],
   "source": [
    "v = Virus('chandipura', 1.2, 1.1)"
   ]
  },
  {
   "cell_type": "code",
   "execution_count": null,
   "id": "508f34bb",
   "metadata": {},
   "outputs": [],
   "source": [
    "v.infect(\"animal1\")"
   ]
  },
  {
   "cell_type": "code",
   "execution_count": null,
   "id": "0335bb56",
   "metadata": {},
   "outputs": [
    {
     "data": {
      "text/plain": [
       "(True, 'Virus reproduced in animal1. Viral load: 2.2')"
      ]
     },
     "execution_count": null,
     "metadata": {},
     "output_type": "execute_result"
    }
   ],
   "source": [
    "v.reproduce()"
   ]
  },
  {
   "cell_type": "markdown",
   "id": "68897eb5",
   "metadata": {},
   "source": [
    "**Question**\n",
    "1. So don't need to call `super().__init__` to inherence method `infect` from `Virus`?\n",
    "2. Class `RNAVirus` don't need `__init__()`?"
   ]
  },
  {
   "cell_type": "code",
   "execution_count": null,
   "id": "44f90bc4",
   "metadata": {},
   "outputs": [],
   "source": [
    "class RNAVirus(Virus):\n",
    "    genome = 'ribonucleic'\n",
    "        \n",
    "    def reproduce(self):\n",
    "        success, rate = Virus.reproduce(self)\n",
    "        \n",
    "        if success:\n",
    "            print(f\"{self.name} just replicated in the cytoplasm of {self.host} cells\")"
   ]
  },
  {
   "cell_type": "code",
   "execution_count": null,
   "id": "ba0d17a2",
   "metadata": {},
   "outputs": [],
   "source": [
    "class DNAVirus(Virus):\n",
    "    genome = \"deoxyribonucleic\"\n",
    "    \n",
    "    def reproduce(self):\n",
    "        success, rate = Virus.reproduce(self)\n",
    "        \n",
    "        if success:\n",
    "            print(f\"{self.name} just replicated in the nucleus of {self.host} cells\")"
   ]
  },
  {
   "cell_type": "code",
   "execution_count": null,
   "id": "675e8b1b",
   "metadata": {},
   "outputs": [],
   "source": [
    "r = RNAVirus(\"HIV\", 1.1, 0.2)"
   ]
  },
  {
   "cell_type": "code",
   "execution_count": null,
   "id": "470906b1",
   "metadata": {},
   "outputs": [],
   "source": [
    "r.infect('monkey0')"
   ]
  },
  {
   "cell_type": "code",
   "execution_count": null,
   "id": "54b4b8cc",
   "metadata": {},
   "outputs": [
    {
     "name": "stdout",
     "output_type": "stream",
     "text": [
      "HIV just replicated in the cytoplasm of monkey0 cells\n"
     ]
    }
   ],
   "source": [
    "r.reproduce()"
   ]
  },
  {
   "cell_type": "markdown",
   "id": "e2419a86",
   "metadata": {},
   "source": [
    "### 04. All classes inherit from object"
   ]
  },
  {
   "cell_type": "code",
   "execution_count": null,
   "id": "d0f8f756",
   "metadata": {},
   "outputs": [],
   "source": [
    "class Virus:\n",
    "    pass"
   ]
  },
  {
   "cell_type": "code",
   "execution_count": null,
   "id": "b4a15c7f",
   "metadata": {},
   "outputs": [],
   "source": [
    "class RNAVirus(Virus):\n",
    "    pass"
   ]
  },
  {
   "cell_type": "code",
   "execution_count": null,
   "id": "7f2cbd26",
   "metadata": {},
   "outputs": [],
   "source": [
    "class Virus:\n",
    "    pass"
   ]
  },
  {
   "cell_type": "markdown",
   "id": "54376c4d",
   "metadata": {},
   "source": [
    "Where does `__call__` method come from?"
   ]
  },
  {
   "cell_type": "code",
   "execution_count": null,
   "id": "202269ac",
   "metadata": {},
   "outputs": [
    {
     "data": {
      "text/plain": [
       "<method-wrapper '__call__' of type object>"
      ]
     },
     "execution_count": null,
     "metadata": {},
     "output_type": "execute_result"
    }
   ],
   "source": [
    "Virus.__call__"
   ]
  },
  {
   "cell_type": "markdown",
   "id": "1152daef",
   "metadata": {},
   "source": [
    "**Answer**: `__call__` come from `object`"
   ]
  },
  {
   "cell_type": "code",
   "execution_count": null,
   "id": "d1830db8",
   "metadata": {},
   "outputs": [],
   "source": [
    "class RNAVirus(object):\n",
    "    pass"
   ]
  },
  {
   "cell_type": "code",
   "execution_count": null,
   "id": "6b125493",
   "metadata": {},
   "outputs": [
    {
     "data": {
      "text/plain": [
       "False"
      ]
     },
     "execution_count": null,
     "metadata": {},
     "output_type": "execute_result"
    }
   ],
   "source": [
    "Virus is RNAVirus"
   ]
  },
  {
   "cell_type": "markdown",
   "id": "0cb6eedb",
   "metadata": {},
   "source": [
    "### 05. Method Resolution Order"
   ]
  },
  {
   "cell_type": "code",
   "execution_count": null,
   "id": "25d6b0f3",
   "metadata": {},
   "outputs": [],
   "source": [
    "class TempVirus:\n",
    "    \n",
    "    attr = \"some_class_attribute\"\n",
    "    attr_other = \"some_other_class_attribute\"\n",
    "    \n",
    "    def __init__(self, attr):\n",
    "        self.attr = attr"
   ]
  },
  {
   "cell_type": "code",
   "execution_count": null,
   "id": "7fb1549b",
   "metadata": {},
   "outputs": [
    {
     "data": {
      "text/plain": [
       "'some_class_attribute'"
      ]
     },
     "execution_count": null,
     "metadata": {},
     "output_type": "execute_result"
    }
   ],
   "source": [
    "TempVirus.attr"
   ]
  },
  {
   "cell_type": "code",
   "execution_count": null,
   "id": "39356358",
   "metadata": {},
   "outputs": [],
   "source": [
    "v1 = TempVirus(\"hello\")"
   ]
  },
  {
   "cell_type": "code",
   "execution_count": null,
   "id": "865f5f76",
   "metadata": {},
   "outputs": [
    {
     "data": {
      "text/plain": [
       "'hello'"
      ]
     },
     "execution_count": null,
     "metadata": {},
     "output_type": "execute_result"
    }
   ],
   "source": [
    "v1.attr"
   ]
  },
  {
   "cell_type": "markdown",
   "id": "5ff03462",
   "metadata": {},
   "source": [
    "What is the difference between class atribute and instance attribute?"
   ]
  },
  {
   "cell_type": "markdown",
   "id": "38be9952",
   "metadata": {},
   "source": [
    "- **Class attributes** are the variables defined directly in the class that are shared by all objects of the class.\n",
    "- **Instance attributes** are attributes or properties attached to an instance of a class."
   ]
  },
  {
   "cell_type": "code",
   "execution_count": null,
   "id": "9250c597",
   "metadata": {},
   "outputs": [
    {
     "data": {
      "text/plain": [
       "{'attr': 'hello'}"
      ]
     },
     "execution_count": null,
     "metadata": {},
     "output_type": "execute_result"
    }
   ],
   "source": [
    "v1.__dict__"
   ]
  },
  {
   "cell_type": "code",
   "execution_count": null,
   "id": "51f7a194",
   "metadata": {},
   "outputs": [
    {
     "data": {
      "text/plain": [
       "{'attr': 'hello'}"
      ]
     },
     "execution_count": null,
     "metadata": {},
     "output_type": "execute_result"
    }
   ],
   "source": [
    "v1.__dict__"
   ]
  },
  {
   "cell_type": "code",
   "execution_count": null,
   "id": "d51d6e11",
   "metadata": {},
   "outputs": [],
   "source": [
    "What is the order that python will lookup "
   ]
  },
  {
   "cell_type": "markdown",
   "id": "98272aad",
   "metadata": {},
   "source": [
    "**Python lookup attribute order**\n",
    "\n",
    "instance > class > superclass(s) > object else AttributeError"
   ]
  },
  {
   "cell_type": "code",
   "execution_count": null,
   "id": "0591615e",
   "metadata": {},
   "outputs": [
    {
     "data": {
      "text/plain": [
       "(__main__.SARSConv2,\n",
       " __main__.CoronaVirus,\n",
       " __main__.RNAVirus,\n",
       " __main__.Virus,\n",
       " object)"
      ]
     },
     "execution_count": null,
     "metadata": {},
     "output_type": "execute_result"
    }
   ],
   "source": [
    "SARSConv2.__mro__"
   ]
  },
  {
   "cell_type": "markdown",
   "id": "a41f9de7",
   "metadata": {},
   "source": [
    "Attribute and method lookup follows a defined order:\n",
    "\n",
    "`Instance` > `Class` > `Superclass` > `Object`"
   ]
  },
  {
   "cell_type": "markdown",
   "id": "4e1040b7",
   "metadata": {},
   "source": [
    "### 06. Subclass Overrides"
   ]
  },
  {
   "cell_type": "code",
   "execution_count": null,
   "id": "a9e15870",
   "metadata": {},
   "outputs": [],
   "source": [
    "from random import getrandbits"
   ]
  },
  {
   "cell_type": "code",
   "execution_count": null,
   "id": "0519ec7e",
   "metadata": {},
   "outputs": [
    {
     "name": "stdout",
     "output_type": "stream",
     "text": [
      "1\n",
      "1\n",
      "1\n",
      "0\n"
     ]
    }
   ],
   "source": [
    "for i in range(4):\n",
    "    print(getrandbits(1))"
   ]
  },
  {
   "cell_type": "code",
   "execution_count": null,
   "id": "0449d325",
   "metadata": {},
   "outputs": [],
   "source": [
    "class Virus:\n",
    "    \n",
    "    def __init__(self, name, reproduction_rate, resistance):\n",
    "        self.name = name\n",
    "        self.reproduction_rate = reproduction_rate\n",
    "        self.load = 1\n",
    "        self.resistance = resistance\n",
    "    \n",
    "    def infect(self, host):\n",
    "        self.host = host\n",
    "    \n",
    "    def reproduce(self):\n",
    "        if self.host is not None:\n",
    "            self.load *= (1 + self.reproduction_rate)\n",
    "            \n",
    "            should_mutate = getrandbits(1)\n",
    "            print(f\"Should mutate: {should_mutate}\")\n",
    "            \n",
    "            if should_mutate:\n",
    "                try:\n",
    "                    self.mutate()\n",
    "                except AttributeError:\n",
    "                    pass\n",
    "            \n",
    "            return True, f\"Virus reproduced in {self.host}. Viral load: {self.load}\"\n",
    "        else:\n",
    "            raise AttributeError(\"Virus needs to infect a host before being able to reproduce\")"
   ]
  },
  {
   "cell_type": "code",
   "execution_count": null,
   "id": "c217f3d4",
   "metadata": {},
   "outputs": [],
   "source": [
    "class RNAVirus(Virus):\n",
    "    genome = 'ribonucleic'\n",
    "        \n",
    "    def reproduce(self):\n",
    "        success, rate = Virus.reproduce(self)\n",
    "        \n",
    "        if success:\n",
    "            print(f\"{self.name} just replicated in the cytoplasm of {self.host} cells\")"
   ]
  },
  {
   "cell_type": "code",
   "execution_count": null,
   "id": "96f248a2",
   "metadata": {},
   "outputs": [],
   "source": [
    "class DNAVirus(Virus):\n",
    "    genome = \"deoxyribonucleic\"\n",
    "    \n",
    "    def reproduce(self):\n",
    "        success, rate = Virus.reproduce(self)\n",
    "        \n",
    "        if success:\n",
    "            print(f\"{self.name} just replicated in the nucleus of {self.host} cells\")"
   ]
  },
  {
   "cell_type": "code",
   "execution_count": null,
   "id": "c971c100",
   "metadata": {},
   "outputs": [],
   "source": [
    "# class CoronaVirus(RNAVirus):\n",
    "#     def infect(self):\n",
    "#         print(\"This is a different method\")\n",
    "#         raise NotImplementedError()"
   ]
  },
  {
   "cell_type": "code",
   "execution_count": null,
   "id": "07028b41",
   "metadata": {},
   "outputs": [],
   "source": [
    "class CoronaVirus(RNAVirus):\n",
    "    pass"
   ]
  },
  {
   "cell_type": "code",
   "execution_count": null,
   "id": "48853828",
   "metadata": {},
   "outputs": [],
   "source": [
    "class SARSCov2(CoronaVirus):\n",
    "    def mutate(self):\n",
    "        print(f\"The {self.name} virus just mutated ins spike protein\")"
   ]
  },
  {
   "cell_type": "code",
   "execution_count": null,
   "id": "9aca0c6e",
   "metadata": {},
   "outputs": [],
   "source": [
    "cv = SARSCov2('original', 2.9, 1.2)"
   ]
  },
  {
   "cell_type": "code",
   "execution_count": null,
   "id": "ea788cd3",
   "metadata": {},
   "outputs": [],
   "source": [
    "cv.infect('human1')"
   ]
  },
  {
   "cell_type": "code",
   "execution_count": null,
   "id": "1822b16a",
   "metadata": {},
   "outputs": [
    {
     "name": "stdout",
     "output_type": "stream",
     "text": [
      "Should mutate: 0\n",
      "original just replicated in the cytoplasm of human1 cells\n",
      "None \n",
      " \n",
      "Should mutate: 0\n",
      "original just replicated in the cytoplasm of human1 cells\n",
      "None \n",
      " \n",
      "Should mutate: 0\n",
      "original just replicated in the cytoplasm of human1 cells\n",
      "None \n",
      " \n",
      "Should mutate: 1\n",
      "The original virus just mutated ins spike protein\n",
      "original just replicated in the cytoplasm of human1 cells\n",
      "None \n",
      " \n"
     ]
    }
   ],
   "source": [
    "for _ in range(4):\n",
    "    print(cv.reproduce(), \"\\n \")"
   ]
  },
  {
   "cell_type": "code",
   "execution_count": null,
   "id": "2955b215",
   "metadata": {},
   "outputs": [],
   "source": [
    "class Virus:\n",
    "    # name\n",
    "    # reproduction_rate\n",
    "    # resistance\n",
    "    # host\n",
    "    # viral_load\n",
    "    def __init__(self, name, reproduction_rate, resistance):\n",
    "        self.name = name\n",
    "        self.reproduction_rate = reproduction_rate\n",
    "        self.load = 1\n",
    "        self.resistance = resistance\n",
    "    \n",
    "    def infect(self, host):\n",
    "        self.host = host\n",
    "    \n",
    "    def reproduce(self):\n",
    "        if self.host is not None:\n",
    "            self.load *= (1 + self.reproduction_rate)\n",
    "            \n",
    "            should_mutate = getrandbits(1)\n",
    "            print(f\"Should mutate: {should_mutate}\")\n",
    "            \n",
    "            if should_mutate:\n",
    "                try:\n",
    "                    self.mutate()\n",
    "                except AttributeError:\n",
    "                    pass\n",
    "            \n",
    "            return True, f\"Virus reproduced in {self.host}. Viral load: {self.load}\"\n",
    "        else:\n",
    "            raise AttributeError(\"Virus needs to infect a host before being able to reproduce\")"
   ]
  },
  {
   "cell_type": "code",
   "execution_count": null,
   "id": "737ad027",
   "metadata": {},
   "outputs": [],
   "source": [
    "class RNAVirus(Virus):\n",
    "    genome = 'ribonucleic'\n",
    "        \n",
    "    def reproduce(self):\n",
    "        success, rate = Virus.reproduce(self)\n",
    "        \n",
    "        if success:\n",
    "            print(f\"{self.name} just replicated in the cytoplasm of {self.host} cells\")"
   ]
  },
  {
   "cell_type": "code",
   "execution_count": null,
   "id": "2603097b",
   "metadata": {},
   "outputs": [],
   "source": [
    "class DNAVirus(Virus):\n",
    "    genome = \"deoxyribonucleic\"\n",
    "    \n",
    "    def reproduce(self):\n",
    "        success, rate = Virus.reproduce(self)\n",
    "        \n",
    "        if success:\n",
    "            print(f\"{self.name} just replicated in the nucleus of {self.host} cells\")"
   ]
  },
  {
   "cell_type": "code",
   "execution_count": null,
   "id": "190c4779",
   "metadata": {},
   "outputs": [],
   "source": [
    "# class CoronaVirus(RNAVirus):\n",
    "#     def infect(self):\n",
    "#         print(\"This is a different method\")\n",
    "#         raise NotImplementedError()"
   ]
  },
  {
   "cell_type": "code",
   "execution_count": null,
   "id": "803fc4de",
   "metadata": {},
   "outputs": [],
   "source": [
    "class CoronaVirus(RNAVirus):\n",
    "    pass"
   ]
  },
  {
   "cell_type": "code",
   "execution_count": null,
   "id": "f66b875c",
   "metadata": {},
   "outputs": [],
   "source": [
    "class SARSCov2(CoronaVirus):\n",
    "    def mutate(self):\n",
    "        print(f\"The {self.name} virus just mutated ins spike protein\")"
   ]
  },
  {
   "cell_type": "code",
   "execution_count": null,
   "id": "650c3386",
   "metadata": {},
   "outputs": [],
   "source": [
    "cv = SARSCov2('original', 2.9, 1.2)"
   ]
  },
  {
   "cell_type": "code",
   "execution_count": null,
   "id": "3aca3ff7",
   "metadata": {},
   "outputs": [],
   "source": [
    "cv.infect('human1')"
   ]
  },
  {
   "cell_type": "code",
   "execution_count": null,
   "id": "f1864a7b",
   "metadata": {},
   "outputs": [],
   "source": [
    "for _ in range(4):\n",
    "    print(cv.reproduce(), \"\\n \")"
   ]
  },
  {
   "cell_type": "markdown",
   "id": "03072163",
   "metadata": {},
   "source": [
    "Class `Virus` calls method `mutate()` from its child class `CoronaVirus`"
   ]
  },
  {
   "cell_type": "code",
   "execution_count": null,
   "id": "3c0909e9",
   "metadata": {},
   "outputs": [],
   "source": [
    "class Virus:\n",
    "    def __init__(self):\n",
    "        pass\n",
    "    \n",
    "    def infect(self):\n",
    "        \n",
    "        print(\"Virus will be infect\")\n",
    "        \n",
    "        self.mutate()"
   ]
  },
  {
   "cell_type": "code",
   "execution_count": null,
   "id": "47e9b876",
   "metadata": {},
   "outputs": [],
   "source": [
    "class CoronaVirus(Virus):\n",
    "    def mutate(self):\n",
    "        print(\"Virus is mutating...\")"
   ]
  },
  {
   "cell_type": "code",
   "execution_count": null,
   "id": "6942823c",
   "metadata": {},
   "outputs": [],
   "source": [
    "cv = CoronaVirus()"
   ]
  },
  {
   "cell_type": "code",
   "execution_count": null,
   "id": "fe96bd00",
   "metadata": {},
   "outputs": [
    {
     "name": "stdout",
     "output_type": "stream",
     "text": [
      "Virus will be infect\n",
      "Virus is mutating...\n"
     ]
    }
   ],
   "source": [
    "cv.infect()"
   ]
  },
  {
   "cell_type": "markdown",
   "id": "70e1fc5e",
   "metadata": {},
   "source": [
    "### 07. Better Parent Delegation super()"
   ]
  },
  {
   "cell_type": "code",
   "execution_count": null,
   "id": "daa92010",
   "metadata": {},
   "outputs": [],
   "source": [
    "class Virus:\n",
    "    def reproduce(self):\n",
    "        print(\"Reproducing...\")"
   ]
  },
  {
   "cell_type": "code",
   "execution_count": null,
   "id": "b9e1a231",
   "metadata": {},
   "outputs": [],
   "source": [
    "class RNAVirus(Virus):\n",
    "    def infect(self):\n",
    "        Virus.reproduce(self)"
   ]
  },
  {
   "cell_type": "code",
   "execution_count": null,
   "id": "009e7ad1",
   "metadata": {},
   "outputs": [],
   "source": [
    "corona = RNAVirus()"
   ]
  },
  {
   "cell_type": "code",
   "execution_count": null,
   "id": "e56fbed4",
   "metadata": {},
   "outputs": [
    {
     "name": "stdout",
     "output_type": "stream",
     "text": [
      "Infecting...\n"
     ]
    }
   ],
   "source": [
    "corona.infect()"
   ]
  },
  {
   "cell_type": "markdown",
   "id": "e6e8cbcd",
   "metadata": {},
   "source": [
    "But like 2 months later, you want to change class named `Virus` to `Viros`. That leads to break code in class `RNAVirus`.\n",
    "\n",
    "How you avoid it?"
   ]
  },
  {
   "cell_type": "markdown",
   "id": "05647591",
   "metadata": {},
   "source": [
    "**Answer**: Change `super().reproduce(self)` instead of `Virus.reproduce(self)`"
   ]
  },
  {
   "cell_type": "code",
   "execution_count": null,
   "id": "af1e739a",
   "metadata": {},
   "outputs": [],
   "source": [
    "class RNAVirus(Virus):\n",
    "    def infect(self):\n",
    "        super().reproduce(self)"
   ]
  },
  {
   "cell_type": "markdown",
   "id": "66d59812",
   "metadata": {},
   "source": [
    "### 08. Subclass `__init__`"
   ]
  },
  {
   "cell_type": "code",
   "execution_count": null,
   "id": "fa145a2c",
   "metadata": {},
   "outputs": [],
   "source": [
    "class Virus:\n",
    "        \n",
    "    def __init__(self, name, reproduction_rate):\n",
    "        self.name = name\n",
    "        self.reproduction_rate = reproduction_rate\n",
    "    \n",
    "    def reproduce(self):\n",
    "        print(\"Reproducing...\")"
   ]
  },
  {
   "cell_type": "code",
   "execution_count": null,
   "id": "88af2861",
   "metadata": {},
   "outputs": [],
   "source": [
    "class RNAVirus(Virus):\n",
    "    pass"
   ]
  },
  {
   "cell_type": "code",
   "execution_count": null,
   "id": "36df5ac9",
   "metadata": {},
   "outputs": [],
   "source": [
    "class Coronavirus(RNAVirus):\n",
    "    pass"
   ]
  },
  {
   "cell_type": "code",
   "execution_count": null,
   "id": "f361a295",
   "metadata": {},
   "outputs": [],
   "source": [
    "class SARSCov2(Coronavirus):\n",
    "    def __init__(self, variant):\n",
    "        self.variant = variant"
   ]
  },
  {
   "cell_type": "code",
   "execution_count": null,
   "id": "450ea9d6",
   "metadata": {},
   "outputs": [],
   "source": [
    "corona = SARSCov2('jike')"
   ]
  },
  {
   "cell_type": "code",
   "execution_count": null,
   "id": "f105608f",
   "metadata": {},
   "outputs": [
    {
     "ename": "AttributeError",
     "evalue": "'SARSCov2' object has no attribute 'reproduction_rate'",
     "output_type": "error",
     "traceback": [
      "\u001b[0;31m---------------------------------------------------------------------------\u001b[0m",
      "\u001b[0;31mAttributeError\u001b[0m                            Traceback (most recent call last)",
      "Input \u001b[0;32mIn [131]\u001b[0m, in \u001b[0;36m<cell line: 1>\u001b[0;34m()\u001b[0m\n\u001b[0;32m----> 1\u001b[0m \u001b[43mcorona\u001b[49m\u001b[38;5;241;43m.\u001b[39;49m\u001b[43mreproduction_rate\u001b[49m\n",
      "\u001b[0;31mAttributeError\u001b[0m: 'SARSCov2' object has no attribute 'reproduction_rate'"
     ]
    }
   ],
   "source": [
    "corona.reproduction_rate"
   ]
  },
  {
   "cell_type": "markdown",
   "id": "df9bdde2",
   "metadata": {},
   "source": [
    "How to fix it?"
   ]
  },
  {
   "cell_type": "markdown",
   "id": "69347d74",
   "metadata": {},
   "source": [
    "**Answer**: intitialize the parent class that correspond to attribute `reproduction_rate` which is `Virus`"
   ]
  },
  {
   "cell_type": "code",
   "execution_count": null,
   "id": "4984c3d3",
   "metadata": {},
   "outputs": [],
   "source": [
    "class SARSCov2(Coronavirus):\n",
    "    def __init__(self, variant):\n",
    "        super().__init__(\"SARCovid\", 2.4)\n",
    "        self.variant = variant"
   ]
  },
  {
   "cell_type": "code",
   "execution_count": null,
   "id": "116a617c",
   "metadata": {},
   "outputs": [
    {
     "data": {
      "text/plain": [
       "{'name': 'SARCovid', 'reproduction_rate': 2.4, 'variant': 'jike'}"
      ]
     },
     "execution_count": null,
     "metadata": {},
     "output_type": "execute_result"
    }
   ],
   "source": [
    "corona.__dict__"
   ]
  },
  {
   "cell_type": "code",
   "execution_count": null,
   "id": "d3b4cbbd",
   "metadata": {},
   "outputs": [],
   "source": [
    "class Parent:\n",
    "    def __init__(self):\n",
    "        print('Parent init')"
   ]
  },
  {
   "cell_type": "code",
   "execution_count": null,
   "id": "c41d299c",
   "metadata": {},
   "outputs": [],
   "source": [
    "class Child(Parent):\n",
    "    pass"
   ]
  },
  {
   "cell_type": "markdown",
   "id": "dabd1e7c",
   "metadata": {},
   "source": [
    "If the subclass `Child` doesn't implement its `__init__`. Does `Parent`'s `__init__` will be call by default?\n",
    "\n",
    "If no, how to fix it?"
   ]
  },
  {
   "cell_type": "code",
   "execution_count": null,
   "id": "dc249da6",
   "metadata": {},
   "outputs": [
    {
     "name": "stdout",
     "output_type": "stream",
     "text": [
      "Parent init\n"
     ]
    }
   ],
   "source": [
    "c = Child()"
   ]
  },
  {
   "cell_type": "markdown",
   "id": "de2d9363",
   "metadata": {},
   "source": [
    "**Answer**: Yes"
   ]
  },
  {
   "cell_type": "code",
   "execution_count": null,
   "id": "80479b84",
   "metadata": {},
   "outputs": [],
   "source": [
    "class Parent:\n",
    "    def __init__(self):\n",
    "        print('Parent init')"
   ]
  },
  {
   "cell_type": "code",
   "execution_count": null,
   "id": "39a88096",
   "metadata": {},
   "outputs": [],
   "source": [
    "class Child(Parent):\n",
    "    def __init__(self):\n",
    "        pass"
   ]
  },
  {
   "cell_type": "markdown",
   "id": "7fbb50e0",
   "metadata": {},
   "source": [
    "If the subclass `Child` do implement its `__init__`. Does `Parent`'s `__init__` will be call by default?\n",
    "\n",
    "If no, how to fix it?"
   ]
  },
  {
   "cell_type": "code",
   "execution_count": null,
   "id": "26825029",
   "metadata": {},
   "outputs": [],
   "source": [
    "c = Child()"
   ]
  },
  {
   "cell_type": "markdown",
   "id": "7602bf47",
   "metadata": {},
   "source": [
    "**Answer**: No. You need to initialize the parent class it yourself"
   ]
  },
  {
   "cell_type": "code",
   "execution_count": null,
   "id": "2de8aab3",
   "metadata": {},
   "outputs": [],
   "source": [
    "class Child(Parent):\n",
    "    def __init__(self):\n",
    "        super().__init__()"
   ]
  },
  {
   "cell_type": "code",
   "execution_count": null,
   "id": "ee97ef4b",
   "metadata": {},
   "outputs": [
    {
     "name": "stdout",
     "output_type": "stream",
     "text": [
      "Parent init\n"
     ]
    }
   ],
   "source": [
    "c = Child()"
   ]
  },
  {
   "cell_type": "code",
   "execution_count": null,
   "id": "c5cdd8d9",
   "metadata": {},
   "outputs": [],
   "source": [
    "class Robot:\n",
    "    def __init__(self):\n",
    "        print('init from Robot')"
   ]
  },
  {
   "cell_type": "code",
   "execution_count": null,
   "id": "56662789",
   "metadata": {},
   "outputs": [],
   "source": [
    "class Vehicle(Robot):\n",
    "    def __init__(self):\n",
    "        print('init from Vehicle')"
   ]
  },
  {
   "cell_type": "code",
   "execution_count": null,
   "id": "58116ad0",
   "metadata": {},
   "outputs": [],
   "source": [
    "class FourWheel(Vehicle):\n",
    "    pass"
   ]
  },
  {
   "cell_type": "code",
   "execution_count": null,
   "id": "21cc26da",
   "metadata": {},
   "outputs": [],
   "source": [
    "class Car(FourWheel):\n",
    "    \n",
    "    # write the initialize function that print as below\n",
    "    def __init__(self):\n",
    "        Robot.__init__(self)\n",
    "        Vehicle.__init__(self)"
   ]
  },
  {
   "cell_type": "code",
   "execution_count": null,
   "id": "e2769c0e",
   "metadata": {},
   "outputs": [
    {
     "name": "stdout",
     "output_type": "stream",
     "text": [
      "init from Robot\n",
      "init from Vehicle\n"
     ]
    }
   ],
   "source": [
    "c = Car()"
   ]
  },
  {
   "cell_type": "markdown",
   "id": "6e99d3fb",
   "metadata": {},
   "source": [
    "### 11. Subclassing Properties"
   ]
  },
  {
   "cell_type": "code",
   "execution_count": null,
   "id": "e04acfe9",
   "metadata": {},
   "outputs": [],
   "source": [
    "class Virus: pass"
   ]
  },
  {
   "cell_type": "code",
   "execution_count": null,
   "id": "9d307f37",
   "metadata": {},
   "outputs": [],
   "source": [
    "class SARSCov2(Virus):\n",
    "    def __init__(self, variant): self.variant = variant\n",
    "    \n",
    "    @property\n",
    "    def variant(self):\n",
    "        return self._variant\n",
    "    \n",
    "    @variant.setter\n",
    "    def variant(self, value):\n",
    "        if value.lower() != \"alpha\":\n",
    "            print(\"Not allow\")\n",
    "        else:\n",
    "            self._variant = value.lower()"
   ]
  },
  {
   "cell_type": "code",
   "execution_count": null,
   "id": "1e6311cc",
   "metadata": {},
   "outputs": [],
   "source": [
    "class DoubleMutant(SARSCov2):\n",
    "    pass"
   ]
  },
  {
   "cell_type": "markdown",
   "id": "dbe66ce8",
   "metadata": {},
   "source": [
    "In class `DoubleMutant`, the only variant allows is `cosmi`. Go and make it works."
   ]
  },
  {
   "cell_type": "code",
   "execution_count": null,
   "id": "3d9e58c8",
   "metadata": {},
   "outputs": [
    {
     "name": "stdout",
     "output_type": "stream",
     "text": [
      "Not allow\n"
     ]
    }
   ],
   "source": [
    "d = DoubleMutant(\"NEW_VARIANT\")"
   ]
  },
  {
   "cell_type": "code",
   "execution_count": null,
   "id": "6a89b9c7",
   "metadata": {},
   "outputs": [],
   "source": [
    "class DoubleMutant(SARSCov2):\n",
    "    \n",
    "    @SARSCov2.variant.setter\n",
    "    def variant(self, value):\n",
    "        \n",
    "        if value == 'cosmi':\n",
    "            self._variant = value.lower()"
   ]
  },
  {
   "cell_type": "code",
   "execution_count": null,
   "id": "c34a67e8",
   "metadata": {},
   "outputs": [],
   "source": [
    "d1 = DoubleMutant(\"cosmi\")"
   ]
  },
  {
   "cell_type": "code",
   "execution_count": null,
   "id": "d7138c89",
   "metadata": {},
   "outputs": [
    {
     "data": {
      "text/plain": [
       "'cosmi'"
      ]
     },
     "execution_count": null,
     "metadata": {},
     "output_type": "execute_result"
    }
   ],
   "source": [
    "d1.variant"
   ]
  },
  {
   "cell_type": "markdown",
   "id": "ae38b7db",
   "metadata": {},
   "source": [
    "Here is the list of known variants."
   ]
  },
  {
   "cell_type": "code",
   "execution_count": null,
   "id": "7455a19b",
   "metadata": {},
   "outputs": [
    {
     "data": {
      "text/plain": [
       "['alpha', 'beta', 'gamma', 'epsilon']"
      ]
     },
     "execution_count": null,
     "metadata": {},
     "output_type": "execute_result"
    }
   ],
   "source": [
    "[\"alpha\", \"beta\", \"gamma\", \"epsilon\"]"
   ]
  },
  {
   "cell_type": "code",
   "execution_count": null,
   "id": "f4e8dd11",
   "metadata": {},
   "outputs": [],
   "source": [
    "class Virus:\n",
    "    \n",
    "    def set_variant(self, value):\n",
    "        self.variant = value"
   ]
  },
  {
   "cell_type": "markdown",
   "id": "de9e321c",
   "metadata": {},
   "source": [
    "In the method `set_variant()`, only set value that in the list of known variants."
   ]
  },
  {
   "cell_type": "code",
   "execution_count": null,
   "id": "76359e6f",
   "metadata": {},
   "outputs": [],
   "source": [
    "class Virus:\n",
    "    known_variants = [\"alpha\", \"beta\", \"gamma\", \"epsilon\"]\n",
    "    \n",
    "    def set_variant(self, value):\n",
    "        if  value.lower() not in self.known_variants:\n",
    "            print(\"Not allow\")\n",
    "        else:\n",
    "            self.variant = value"
   ]
  },
  {
   "cell_type": "code",
   "execution_count": null,
   "id": "37792079",
   "metadata": {},
   "outputs": [],
   "source": [
    "v = Virus()"
   ]
  },
  {
   "cell_type": "code",
   "execution_count": null,
   "id": "a9a43673",
   "metadata": {},
   "outputs": [
    {
     "name": "stdout",
     "output_type": "stream",
     "text": [
      "Not allow\n"
     ]
    }
   ],
   "source": [
    "v.set_variant(\"unexist\")"
   ]
  },
  {
   "cell_type": "code",
   "execution_count": null,
   "id": "f87494d5",
   "metadata": {},
   "outputs": [],
   "source": [
    "v.set_variant(\"alpha\")"
   ]
  },
  {
   "cell_type": "code",
   "execution_count": null,
   "id": "acee9b2e",
   "metadata": {},
   "outputs": [
    {
     "data": {
      "text/plain": [
       "'alpha'"
      ]
     },
     "execution_count": null,
     "metadata": {},
     "output_type": "execute_result"
    }
   ],
   "source": [
    "v.variant"
   ]
  },
  {
   "cell_type": "code",
   "execution_count": null,
   "id": "c491877b",
   "metadata": {},
   "outputs": [],
   "source": [
    "v.known_variants = [0]"
   ]
  },
  {
   "cell_type": "code",
   "execution_count": null,
   "id": "6328a652",
   "metadata": {},
   "outputs": [
    {
     "data": {
      "text/plain": [
       "[0]"
      ]
     },
     "execution_count": null,
     "metadata": {},
     "output_type": "execute_result"
    }
   ],
   "source": [
    "v.known_variants"
   ]
  },
  {
   "cell_type": "markdown",
   "id": "01a1fa83",
   "metadata": {},
   "source": [
    "### 12. Extending Built-in"
   ]
  },
  {
   "cell_type": "code",
   "execution_count": null,
   "id": "10aa6917",
   "metadata": {},
   "outputs": [],
   "source": [
    "population = {\n",
    "    \"CAN\": 38,\n",
    "    \"USA\": 329\n",
    "}"
   ]
  },
  {
   "cell_type": "code",
   "execution_count": null,
   "id": "dafbe5d3",
   "metadata": {},
   "outputs": [
    {
     "ename": "KeyError",
     "evalue": "'UNKNOWN'",
     "output_type": "error",
     "traceback": [
      "\u001b[0;31m---------------------------------------------------------------------------\u001b[0m",
      "\u001b[0;31mKeyError\u001b[0m                                  Traceback (most recent call last)",
      "Input \u001b[0;32mIn [456]\u001b[0m, in \u001b[0;36m<cell line: 1>\u001b[0;34m()\u001b[0m\n\u001b[0;32m----> 1\u001b[0m \u001b[43mpopulation\u001b[49m\u001b[43m[\u001b[49m\u001b[38;5;124;43m\"\u001b[39;49m\u001b[38;5;124;43mUNKNOWN\u001b[39;49m\u001b[38;5;124;43m\"\u001b[39;49m\u001b[43m]\u001b[49m\n",
      "\u001b[0;31mKeyError\u001b[0m: 'UNKNOWN'"
     ]
    }
   ],
   "source": [
    "population[\"UNKNOWN\"]"
   ]
  },
  {
   "cell_type": "markdown",
   "id": "bbb4e41e",
   "metadata": {},
   "source": [
    "Inherit class `dict` and make it return `Not found` if there's no item in the dictionary."
   ]
  },
  {
   "cell_type": "code",
   "execution_count": null,
   "id": "91154398",
   "metadata": {},
   "outputs": [],
   "source": [
    "class FunnyDict(dict):\n",
    "    def __getitem__(self, item):\n",
    "        if not item in self:\n",
    "            return \"Not found\"\n",
    "        \n",
    "        return super().__getitem__(item)"
   ]
  },
  {
   "cell_type": "code",
   "execution_count": null,
   "id": "4d972b1d",
   "metadata": {},
   "outputs": [],
   "source": [
    "population = FunnyDict({\n",
    "    \"CAN\": 38,\n",
    "    \"USA\": 329\n",
    "})"
   ]
  },
  {
   "cell_type": "code",
   "execution_count": null,
   "id": "aa72b58a",
   "metadata": {},
   "outputs": [
    {
     "data": {
      "text/plain": [
       "'Not found'"
      ]
     },
     "execution_count": null,
     "metadata": {},
     "output_type": "execute_result"
    }
   ],
   "source": [
    "population[\"UNKNOWN\"]"
   ]
  },
  {
   "cell_type": "markdown",
   "id": "11b96554",
   "metadata": {},
   "source": [
    "### 13. Another Example"
   ]
  },
  {
   "cell_type": "code",
   "execution_count": null,
   "id": "02f4f90e",
   "metadata": {},
   "outputs": [],
   "source": [
    "class Robot:\n",
    "    def say_hello(self):\n",
    "        return \"Helloooo!\""
   ]
  },
  {
   "cell_type": "code",
   "execution_count": null,
   "id": "608ebd41",
   "metadata": {},
   "outputs": [],
   "source": [
    "r = Robot()"
   ]
  },
  {
   "cell_type": "code",
   "execution_count": null,
   "id": "e8e41a99",
   "metadata": {},
   "outputs": [
    {
     "data": {
      "text/plain": [
       "<bound method Robot.say_hello of <__main__.Robot object>>"
      ]
     },
     "execution_count": null,
     "metadata": {},
     "output_type": "execute_result"
    }
   ],
   "source": [
    "r.say_hello"
   ]
  },
  {
   "cell_type": "code",
   "execution_count": null,
   "id": "90f2a181",
   "metadata": {},
   "outputs": [
    {
     "data": {
      "text/plain": [
       "'Helloooo!'"
      ]
     },
     "execution_count": null,
     "metadata": {},
     "output_type": "execute_result"
    }
   ],
   "source": [
    "r.say_hello()"
   ]
  },
  {
   "cell_type": "markdown",
   "id": "5e8800eb",
   "metadata": {},
   "source": [
    "Make `r.say_hello` return same as `r.say_hello()`"
   ]
  },
  {
   "cell_type": "code",
   "execution_count": null,
   "id": "eea380ff",
   "metadata": {},
   "outputs": [],
   "source": [
    "class Robot:\n",
    "    @property\n",
    "    def say_hello(self):\n",
    "        return \"Helloooo!\""
   ]
  },
  {
   "cell_type": "code",
   "execution_count": null,
   "id": "73a7f0e1",
   "metadata": {},
   "outputs": [],
   "source": [
    "r = Robot()"
   ]
  },
  {
   "cell_type": "code",
   "execution_count": null,
   "id": "f24ed85b",
   "metadata": {},
   "outputs": [
    {
     "data": {
      "text/plain": [
       "'Helloooo!'"
      ]
     },
     "execution_count": null,
     "metadata": {},
     "output_type": "execute_result"
    }
   ],
   "source": [
    "r.say_hello"
   ]
  },
  {
   "cell_type": "code",
   "execution_count": null,
   "id": "296ee7a0",
   "metadata": {},
   "outputs": [],
   "source": []
  }
 ],
 "metadata": {
  "kernelspec": {
   "display_name": "Python 3 (ipykernel)",
   "language": "python",
   "name": "python3"
  }
 },
 "nbformat": 4,
 "nbformat_minor": 5
}
