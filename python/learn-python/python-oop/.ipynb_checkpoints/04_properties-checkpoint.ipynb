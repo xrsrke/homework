{
 "cells": [
  {
   "cell_type": "markdown",
   "id": "15f5c183-705f-4dd1-9b09-87a1f7f7427e",
   "metadata": {},
   "source": [
    "# 4. Properties"
   ]
  },
  {
   "cell_type": "markdown",
   "id": "06c48d38-8c1b-496c-a802-15557b27d6f3",
   "metadata": {},
   "source": [
    "##### Example 1"
   ]
  },
  {
   "cell_type": "code",
   "execution_count": null,
   "id": "5b894b91-26c2-4ec0-91fe-40610f54b04b",
   "metadata": {},
   "outputs": [],
   "source": [
    "class Vehicle: pass"
   ]
  },
  {
   "cell_type": "markdown",
   "id": "eff61993-2645-4588-9585-35ce25da86f1",
   "metadata": {},
   "source": [
    "Add a `property` color to class `Vehicle` works as bellow"
   ]
  },
  {
   "cell_type": "code",
   "execution_count": null,
   "id": "41c586df-9049-4396-93c5-093718f4d4ca",
   "metadata": {},
   "outputs": [],
   "source": [
    "class Vehicle:\n",
    "    def __init__(self):\n",
    "        self._color = None\n",
    "    \n",
    "    @property\n",
    "    def color(self):\n",
    "        return self._color\n",
    "    \n",
    "    @color.setter\n",
    "    def color(self, color):\n",
    "        self._color = color"
   ]
  },
  {
   "cell_type": "code",
   "execution_count": null,
   "id": "d5b53cf1-476e-4088-92fa-c40a8c590bf7",
   "metadata": {},
   "outputs": [],
   "source": [
    "v = Vehicle()"
   ]
  },
  {
   "cell_type": "code",
   "execution_count": null,
   "id": "6e926523-3609-4e72-adc5-80a9bf0bdb3a",
   "metadata": {},
   "outputs": [],
   "source": [
    "v.color = 'green'"
   ]
  },
  {
   "cell_type": "code",
   "execution_count": null,
   "id": "7aaf6f19-822c-420a-9ec9-7bd212e57d0c",
   "metadata": {},
   "outputs": [
    {
     "data": {
      "text/plain": [
       "'green'"
      ]
     },
     "execution_count": null,
     "metadata": {},
     "output_type": "execute_result"
    }
   ],
   "source": [
    "v.color"
   ]
  },
  {
   "cell_type": "markdown",
   "id": "e8e3eff6-c0c3-4ae1-8f30-06d4f6464416",
   "metadata": {},
   "source": [
    "##### Example 2"
   ]
  },
  {
   "cell_type": "code",
   "execution_count": null,
   "id": "238e6893-a62a-41b1-8be3-e53a5ef6590a",
   "metadata": {},
   "outputs": [],
   "source": [
    "class CountAverage:\n",
    "    def __init__(self):\n",
    "        self.value = 0\n",
    "        self._avg = None\n",
    "    \n",
    "    def count(self):\n",
    "        self.value += 1\n",
    "        self.avg = None\n",
    "    \n",
    "    def avg(self):\n",
    "        pass"
   ]
  },
  {
   "cell_type": "markdown",
   "id": "cb23efcd-a129-4dbe-94e9-da292ca6a136",
   "metadata": {},
   "source": [
    "### 16. Property Docstring"
   ]
  },
  {
   "cell_type": "code",
   "execution_count": null,
   "id": "4112ff83-640c-412a-9a61-c30282147756",
   "metadata": {},
   "outputs": [],
   "source": [
    "class Plant:\n",
    "    @property\n",
    "    def water(self):\n",
    "        \"Docstring A\"\n",
    "        pass\n",
    "    \n",
    "    @water.setter\n",
    "    def water(self):\n",
    "        \"Docstring B\"\n",
    "        pass"
   ]
  },
  {
   "cell_type": "code",
   "execution_count": null,
   "id": "eb164c88-39a7-40ab-91c9-d358c77702bd",
   "metadata": {},
   "outputs": [
    {
     "name": "stdout",
     "output_type": "stream",
     "text": [
      "Help on property:\n",
      "\n",
      "    Docstring A\n",
      "\n"
     ]
    }
   ],
   "source": [
    "help(Plant.water)"
   ]
  },
  {
   "cell_type": "code",
   "execution_count": null,
   "id": "8e1ba296-1354-4a07-9c18-ef8f2c33c62e",
   "metadata": {},
   "outputs": [],
   "source": []
  }
 ],
 "metadata": {
  "kernelspec": {
   "display_name": "Python 3 (ipykernel)",
   "language": "python",
   "name": "python3"
  }
 },
 "nbformat": 4,
 "nbformat_minor": 5
}
