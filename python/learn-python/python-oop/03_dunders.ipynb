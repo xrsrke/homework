{
 "cells": [
  {
   "cell_type": "markdown",
   "id": "2249924e-78b2-49c3-a9ae-d5b02ba43f79",
   "metadata": {},
   "source": [
    "# 3. Dunders"
   ]
  },
  {
   "cell_type": "markdown",
   "id": "556617d1-6144-4650-aa9c-d7750958070e",
   "metadata": {},
   "source": [
    "### 4. `__format__`"
   ]
  },
  {
   "cell_type": "code",
   "execution_count": 1,
   "id": "088d293d-6576-4535-b85b-7f9d7d22a5ab",
   "metadata": {},
   "outputs": [],
   "source": [
    "class Plant:\n",
    "    \n",
    "    def __init__(self, name):\n",
    "        self.name = name\n",
    "    \n",
    "    # code...\n",
    "    def __format__(self, format_spec):\n",
    "        if format_spec == \"short\":\n",
    "            return f\"{self.name}\"\n",
    "            \n",
    "        return repr(self)"
   ]
  },
  {
   "cell_type": "code",
   "execution_count": 62,
   "id": "d44fe4f7-fdf6-4682-81a2-d443f2b91227",
   "metadata": {},
   "outputs": [],
   "source": [
    "p = Plant(\"Wolffia\")"
   ]
  },
  {
   "cell_type": "code",
   "execution_count": 63,
   "id": "3950d8d4-ef50-455f-bb32-b64e2d3e2836",
   "metadata": {},
   "outputs": [
    {
     "data": {
      "text/plain": [
       "<__main__.Plant at 0x7feab1e92be0>"
      ]
     },
     "execution_count": 63,
     "metadata": {},
     "output_type": "execute_result"
    }
   ],
   "source": [
    "p"
   ]
  },
  {
   "cell_type": "markdown",
   "id": "5422bb17-27be-4bca-9ffc-cf026c1b7564",
   "metadata": {},
   "source": [
    "Add an method that make it works as bellow"
   ]
  },
  {
   "cell_type": "code",
   "execution_count": 64,
   "id": "1684bb53-5956-4b7e-aec3-1dfe974ca87d",
   "metadata": {},
   "outputs": [
    {
     "data": {
      "text/plain": [
       "'Wolffia'"
      ]
     },
     "execution_count": 64,
     "metadata": {},
     "output_type": "execute_result"
    }
   ],
   "source": [
    "format(p, \"short\")"
   ]
  },
  {
   "cell_type": "markdown",
   "id": "cc8d8009-f208-4016-a702-a01b9a22852e",
   "metadata": {},
   "source": [
    "### 6. Non-Equality"
   ]
  },
  {
   "cell_type": "markdown",
   "id": "3497b8c1-bc2c-44a5-8f5e-ce18e6931ac9",
   "metadata": {},
   "source": [
    "Define a non-equality method that return `False` only if they're the same species and the same class `Animal`"
   ]
  },
  {
   "cell_type": "code",
   "execution_count": 91,
   "id": "2a3d60a0-2805-4a3c-9d8e-0944192bce3d",
   "metadata": {},
   "outputs": [],
   "source": [
    "class Animal:\n",
    "    def __init__(self, species):\n",
    "        self.species = species\n",
    "    \n",
    "    # code...\n",
    "    def __ne__(self, other):\n",
    "        if isinstance(other, Animal) and self.species == other.species:\n",
    "            return False\n",
    "        else:\n",
    "            return True"
   ]
  },
  {
   "cell_type": "code",
   "execution_count": 92,
   "id": "ea4f1ac1-ffba-4f78-8e79-a0ff556ee71f",
   "metadata": {},
   "outputs": [],
   "source": [
    "s1 = Animal(\"Black Rhino\")\n",
    "s2 = Animal(\"Blue Whale\")\n",
    "s3 = Animal(\"Blue Whale\")"
   ]
  },
  {
   "cell_type": "code",
   "execution_count": 93,
   "id": "a207de71-2294-4c2d-a594-5d01cea5e4ad",
   "metadata": {},
   "outputs": [
    {
     "data": {
      "text/plain": [
       "(True, False)"
      ]
     },
     "execution_count": 93,
     "metadata": {},
     "output_type": "execute_result"
    }
   ],
   "source": [
    "s1 != s2, s2 != s3"
   ]
  },
  {
   "cell_type": "markdown",
   "id": "72207198-1a85-4949-a621-2bc09e717c18",
   "metadata": {},
   "source": [
    "### 7. Hasing and Mutability"
   ]
  },
  {
   "cell_type": "code",
   "execution_count": 95,
   "id": "d3b5c556-a7b6-41ff-af67-a8b22f5b727e",
   "metadata": {},
   "outputs": [],
   "source": [
    "a = [2, 3, 4]"
   ]
  },
  {
   "cell_type": "code",
   "execution_count": 97,
   "id": "ad843d53-b05c-4fc1-a798-bfbba6e136bd",
   "metadata": {},
   "outputs": [],
   "source": [
    "b = (2, 3, 4)"
   ]
  },
  {
   "cell_type": "code",
   "execution_count": 98,
   "id": "0c60493c-7366-49ba-9843-3c0bde9fd324",
   "metadata": {},
   "outputs": [
    {
     "ename": "TypeError",
     "evalue": "unhashable type: 'list'",
     "output_type": "error",
     "traceback": [
      "\u001b[0;31m---------------------------------------------------------------------------\u001b[0m",
      "\u001b[0;31mTypeError\u001b[0m                                 Traceback (most recent call last)",
      "Input \u001b[0;32mIn [98]\u001b[0m, in \u001b[0;36m<cell line: 1>\u001b[0;34m()\u001b[0m\n\u001b[0;32m----> 1\u001b[0m \u001b[38;5;28;43mhash\u001b[39;49m\u001b[43m(\u001b[49m\u001b[43ma\u001b[49m\u001b[43m)\u001b[49m\n",
      "\u001b[0;31mTypeError\u001b[0m: unhashable type: 'list'"
     ]
    }
   ],
   "source": [
    "hash(a)"
   ]
  },
  {
   "cell_type": "code",
   "execution_count": 99,
   "id": "5ec925be-bf6f-4ca2-a36f-6a0abd3b0227",
   "metadata": {},
   "outputs": [
    {
     "data": {
      "text/plain": [
       "-3165226637586315787"
      ]
     },
     "execution_count": 99,
     "metadata": {},
     "output_type": "execute_result"
    }
   ],
   "source": [
    "hash(b)"
   ]
  },
  {
   "cell_type": "code",
   "execution_count": 100,
   "id": "35ee7c4e-7a45-4155-abdb-fa3b1fae3fdb",
   "metadata": {},
   "outputs": [],
   "source": [
    "b = (2, 3, 4)"
   ]
  },
  {
   "cell_type": "code",
   "execution_count": 101,
   "id": "484586d3-5ee6-4c3b-b0d6-3754c9141551",
   "metadata": {},
   "outputs": [
    {
     "data": {
      "text/plain": [
       "-3165226637586315787"
      ]
     },
     "execution_count": 101,
     "metadata": {},
     "output_type": "execute_result"
    }
   ],
   "source": [
    "hash(b)"
   ]
  },
  {
   "cell_type": "code",
   "execution_count": 110,
   "id": "ee8e9514-058c-4e5a-8be9-e4eb8c875596",
   "metadata": {},
   "outputs": [],
   "source": [
    "a = (2, 3, 4)"
   ]
  },
  {
   "cell_type": "code",
   "execution_count": 111,
   "id": "cc946cd8-b968-4069-8c09-b44f16d9fe52",
   "metadata": {},
   "outputs": [],
   "source": [
    "b = (2, 3, 4)"
   ]
  },
  {
   "cell_type": "markdown",
   "id": "2488f9a0-95dd-4ff2-a42c-ff9f236e4857",
   "metadata": {},
   "source": [
    "What is the output? Explain why"
   ]
  },
  {
   "cell_type": "code",
   "execution_count": 112,
   "id": "e4cb2175-0556-4b44-a53e-61b108266063",
   "metadata": {},
   "outputs": [
    {
     "data": {
      "text/plain": [
       "True"
      ]
     },
     "execution_count": 112,
     "metadata": {},
     "output_type": "execute_result"
    }
   ],
   "source": [
    "hash(a) == hash(b)"
   ]
  },
  {
   "cell_type": "markdown",
   "id": "2b52e8a9-612d-492f-b9c3-370a266839a5",
   "metadata": {},
   "source": [
    "**Explain**\n",
    "\n",
    "Because two objects `a` and `b` have the same internal state (value). So they have the same hash value."
   ]
  },
  {
   "cell_type": "markdown",
   "id": "59224703-4549-48c1-858d-2c363ad0bc64",
   "metadata": {},
   "source": [
    "### 8. Hashable Book"
   ]
  },
  {
   "cell_type": "markdown",
   "id": "20756a71-5de5-499b-bf43-9671464ebde2",
   "metadata": {},
   "source": [
    "Requirements for an object can be hash\n",
    "- Has a hash value that never changes over its life\n",
    "- Could be compare to another object\n",
    "- If it compare equal, it must share the same hash with other object"
   ]
  },
  {
   "cell_type": "code",
   "execution_count": 116,
   "id": "4e0359ab-8653-47bd-a070-ec6c575cab45",
   "metadata": {},
   "outputs": [],
   "source": [
    "class Headphone:\n",
    "    def __init__(self, color):\n",
    "        self.color = color"
   ]
  },
  {
   "cell_type": "code",
   "execution_count": 122,
   "id": "02f7be2a-381d-47eb-b12c-742f9fa664b4",
   "metadata": {},
   "outputs": [],
   "source": [
    "h1 = Headphone(\"black\")"
   ]
  },
  {
   "cell_type": "code",
   "execution_count": 123,
   "id": "569a3545-662a-4ddd-83f0-6eab170b2c95",
   "metadata": {},
   "outputs": [],
   "source": [
    "h2 = Headphone(\"red\")"
   ]
  },
  {
   "cell_type": "code",
   "execution_count": 124,
   "id": "3c63eef6-35be-4322-83cf-b711d3462161",
   "metadata": {},
   "outputs": [],
   "source": [
    "h3 = Headphone(\"black\")"
   ]
  },
  {
   "cell_type": "code",
   "execution_count": 125,
   "id": "99d083fa-6556-40ac-bcc5-4fa079ccb7b0",
   "metadata": {},
   "outputs": [
    {
     "data": {
      "text/plain": [
       "True"
      ]
     },
     "execution_count": 125,
     "metadata": {},
     "output_type": "execute_result"
    }
   ],
   "source": [
    "hash(Headphone) == hash(Headphone)"
   ]
  },
  {
   "cell_type": "code",
   "execution_count": 126,
   "id": "a58422d2-0f71-4e69-8172-bad5ccb386b7",
   "metadata": {},
   "outputs": [
    {
     "data": {
      "text/plain": [
       "False"
      ]
     },
     "execution_count": 126,
     "metadata": {},
     "output_type": "execute_result"
    }
   ],
   "source": [
    "hash(h1) == hash(h2)"
   ]
  },
  {
   "cell_type": "code",
   "execution_count": 127,
   "id": "f66d8e77-9da7-434a-8aa4-3c714600bf08",
   "metadata": {},
   "outputs": [
    {
     "data": {
      "text/plain": [
       "False"
      ]
     },
     "execution_count": 127,
     "metadata": {},
     "output_type": "execute_result"
    }
   ],
   "source": [
    "hash(h1) == hash(h3)"
   ]
  },
  {
   "cell_type": "code",
   "execution_count": 144,
   "id": "a23ea60b-775d-4259-aedd-981d5be2274c",
   "metadata": {},
   "outputs": [],
   "source": [
    "class Keyboard:\n",
    "    \n",
    "    def __init__(self, language):\n",
    "        self.language = language\n",
    "    \n",
    "    def __hash__(self):\n",
    "        return (2, 3)"
   ]
  },
  {
   "cell_type": "code",
   "execution_count": 143,
   "id": "2c1884fb-8284-448f-a982-bbb279ff29ca",
   "metadata": {},
   "outputs": [
    {
     "data": {
      "text/plain": [
       "8790314190197"
      ]
     },
     "execution_count": 143,
     "metadata": {},
     "output_type": "execute_result"
    }
   ],
   "source": [
    "hash(Keyboard)"
   ]
  },
  {
   "cell_type": "code",
   "execution_count": 172,
   "id": "dc14dbb0-ddbf-4291-87f3-cbffdb83e21e",
   "metadata": {},
   "outputs": [],
   "source": [
    "class Keyboard:\n",
    "    def __init__(self, language):\n",
    "        self.language = language\n",
    "    \n",
    "    # code..\n",
    "    def __hash__(self):\n",
    "        return hash((self.language))"
   ]
  },
  {
   "cell_type": "code",
   "execution_count": 173,
   "id": "120602bd-fba9-4615-841b-a9d718a28a11",
   "metadata": {},
   "outputs": [],
   "source": [
    "k1 = Keyboard(\"Swedish\")\n",
    "k2 = Keyboard(\"Sudan\")\n",
    "k3 = Keyboard(\"Swedish\")"
   ]
  },
  {
   "cell_type": "markdown",
   "id": "8e7d0d44-48bb-41ec-b30f-80fa6610cce2",
   "metadata": {},
   "source": [
    "Define a hash method that return hash value based on `language` of the instance"
   ]
  },
  {
   "cell_type": "code",
   "execution_count": 174,
   "id": "c4c57e97-64f0-49a7-992e-ebb77130e2c5",
   "metadata": {},
   "outputs": [
    {
     "data": {
      "text/plain": [
       "(False, True)"
      ]
     },
     "execution_count": 174,
     "metadata": {},
     "output_type": "execute_result"
    }
   ],
   "source": [
    "hash(k1) == hash(k2), hash(k1) == hash(k3)"
   ]
  },
  {
   "cell_type": "code",
   "execution_count": 175,
   "id": "8a24a1f0-c54e-415e-b0ba-ffa6ccfb5ec4",
   "metadata": {},
   "outputs": [],
   "source": [
    "class Library:\n",
    "    pass"
   ]
  },
  {
   "cell_type": "code",
   "execution_count": 233,
   "id": "1877bed7-4148-44e7-a0d2-2de234f07667",
   "metadata": {},
   "outputs": [],
   "source": [
    "class Book:\n",
    "    def __init__(self, name):\n",
    "        self.name = name\n",
    "    def __hash__(self):\n",
    "        return hash((self.name))"
   ]
  },
  {
   "cell_type": "code",
   "execution_count": 234,
   "id": "cfeb6803-78f8-4362-93df-8c7c4f5c658f",
   "metadata": {},
   "outputs": [],
   "source": [
    "library = {}; b = Book(\"Homosapiens\")"
   ]
  },
  {
   "cell_type": "code",
   "execution_count": 235,
   "id": "4f2dddb4-fa7a-4cf2-9a98-9bdf33f71e0f",
   "metadata": {},
   "outputs": [
    {
     "data": {
      "text/plain": [
       "2"
      ]
     },
     "execution_count": 235,
     "metadata": {},
     "output_type": "execute_result"
    }
   ],
   "source": [
    "library[b] = 2; library[b]"
   ]
  },
  {
   "cell_type": "code",
   "execution_count": 236,
   "id": "c1c624e7-f3e5-47d2-b9ff-d2ddde2bb7a3",
   "metadata": {},
   "outputs": [],
   "source": [
    "b.name = \"Homodeus\""
   ]
  },
  {
   "cell_type": "markdown",
   "id": "91e6019e-d288-4e6e-809e-e1d1881ac39b",
   "metadata": {},
   "source": [
    "What is the output? Explain why"
   ]
  },
  {
   "cell_type": "code",
   "execution_count": 237,
   "id": "4a0e7c1c-72c9-4eb6-9bd4-2ad6a47c22a9",
   "metadata": {},
   "outputs": [
    {
     "ename": "KeyError",
     "evalue": "<__main__.Book object at 0x7feab1eb4280>",
     "output_type": "error",
     "traceback": [
      "\u001b[0;31m---------------------------------------------------------------------------\u001b[0m",
      "\u001b[0;31mKeyError\u001b[0m                                  Traceback (most recent call last)",
      "Input \u001b[0;32mIn [237]\u001b[0m, in \u001b[0;36m<cell line: 1>\u001b[0;34m()\u001b[0m\n\u001b[0;32m----> 1\u001b[0m \u001b[43mlibrary\u001b[49m\u001b[43m[\u001b[49m\u001b[43mb1\u001b[49m\u001b[43m]\u001b[49m\n",
      "\u001b[0;31mKeyError\u001b[0m: <__main__.Book object at 0x7feab1eb4280>"
     ]
    }
   ],
   "source": [
    "library[b1]"
   ]
  },
  {
   "cell_type": "markdown",
   "id": "ec1d129c-1c29-4c03-adcc-aaa31acf1c5d",
   "metadata": {},
   "source": [
    "**Explain**\n",
    "\n",
    "Because the hash of `b` relies on its `name` attribute. But on the line 219, you changed to a difference name, that leads to changed it hash value. So the dictonary can't find the old one."
   ]
  },
  {
   "cell_type": "markdown",
   "id": "a87d55d9-d414-4101-b021-dc52bedc47b0",
   "metadata": {},
   "source": [
    "### 13. Other Rick Comparison"
   ]
  },
  {
   "cell_type": "code",
   "execution_count": 29,
   "id": "2ccd968f-c83e-4e2b-845c-de440395b515",
   "metadata": {},
   "outputs": [],
   "source": [
    "class Plant:\n",
    "    def __init__(self, age): self.age = age\n",
    "    \n",
    "    # code...\n",
    "    def __gt__(self, other):\n",
    "        return self.age > other.age"
   ]
  },
  {
   "cell_type": "code",
   "execution_count": 30,
   "id": "91ff8619-edce-4431-8e3c-4e75099d918f",
   "metadata": {},
   "outputs": [],
   "source": [
    "p1 = Plant(12)"
   ]
  },
  {
   "cell_type": "code",
   "execution_count": 31,
   "id": "edb72427-293a-41e2-a61a-97c06be28ee0",
   "metadata": {},
   "outputs": [],
   "source": [
    "p2 = Plant(4)"
   ]
  },
  {
   "cell_type": "code",
   "execution_count": 32,
   "id": "0f5c542b-5e92-40f4-b734-a08c538f6a79",
   "metadata": {},
   "outputs": [
    {
     "data": {
      "text/plain": [
       "(True, False)"
      ]
     },
     "execution_count": 32,
     "metadata": {},
     "output_type": "execute_result"
    }
   ],
   "source": [
    "p1 > p2, p2 > p1"
   ]
  },
  {
   "cell_type": "code",
   "execution_count": 33,
   "id": "7c66522f-d115-4219-b2c5-10800e113cc3",
   "metadata": {},
   "outputs": [
    {
     "data": {
      "text/plain": [
       "False"
      ]
     },
     "execution_count": 33,
     "metadata": {},
     "output_type": "execute_result"
    }
   ],
   "source": [
    "p1 < p2"
   ]
  },
  {
   "cell_type": "markdown",
   "id": "a23e97f7-a703-4425-bf12-5b026fd566f4",
   "metadata": {},
   "source": [
    "### 13. A Better Way"
   ]
  },
  {
   "cell_type": "code",
   "execution_count": 87,
   "id": "8107677e-2990-49b1-ac8f-171f0eaee91b",
   "metadata": {},
   "outputs": [],
   "source": [
    "from functools import total_ordering"
   ]
  },
  {
   "cell_type": "code",
   "execution_count": 88,
   "id": "bbb0c709-ccd1-41a5-9c1d-678643c67f25",
   "metadata": {},
   "outputs": [],
   "source": [
    "class Plant:\n",
    "    def __init__(self, age): self.age = age\n",
    "    \n",
    "    # code...\n",
    "    def __eq__(self, other):\n",
    "        return self.age == other.age\n",
    "    \n",
    "    def __gt__(self, other):\n",
    "        return self.age > other.age"
   ]
  },
  {
   "cell_type": "markdown",
   "id": "1b3bb4dd-8911-4011-a1c5-67a3f6e3884a",
   "metadata": {},
   "source": [
    "Add other comparison using `total_ordering`"
   ]
  },
  {
   "cell_type": "code",
   "execution_count": 89,
   "id": "4492d854-03f4-4c80-b109-9a858323482c",
   "metadata": {},
   "outputs": [],
   "source": [
    "Plant = total_ordering(Plant)"
   ]
  },
  {
   "cell_type": "code",
   "execution_count": 90,
   "id": "5cc6bf29-7eec-4992-a7bf-16d55f6743ad",
   "metadata": {},
   "outputs": [],
   "source": [
    "p1 = Plant(12)\n",
    "p2 = Plant(12)\n",
    "p3 = Plant(4)"
   ]
  },
  {
   "cell_type": "code",
   "execution_count": 91,
   "id": "d9d21f14-b42b-4d62-b8ef-8c7e6192faf9",
   "metadata": {},
   "outputs": [
    {
     "data": {
      "text/plain": [
       "(True, False)"
      ]
     },
     "execution_count": 91,
     "metadata": {},
     "output_type": "execute_result"
    }
   ],
   "source": [
    "p1 <= p2, p1 < p3"
   ]
  },
  {
   "cell_type": "markdown",
   "id": "51a546e2-67e7-4f0e-a237-95df92f868b5",
   "metadata": {},
   "source": [
    "### 14. Truthiness"
   ]
  },
  {
   "cell_type": "code",
   "execution_count": 92,
   "id": "031d0c69-72fd-484d-8959-6b5cf9c08bca",
   "metadata": {},
   "outputs": [],
   "source": [
    "class Plant:\n",
    "    pass"
   ]
  },
  {
   "cell_type": "code",
   "execution_count": 93,
   "id": "145c3cf3-76c9-46dd-a987-3ed397070c94",
   "metadata": {},
   "outputs": [],
   "source": [
    "p = Plant()"
   ]
  },
  {
   "cell_type": "markdown",
   "id": "e11db59f-f6ac-407a-bd6c-959c0f403e1b",
   "metadata": {},
   "source": [
    "What is the output?"
   ]
  },
  {
   "cell_type": "code",
   "execution_count": 94,
   "id": "e2401422-8886-44d2-8fe0-94f731d40fe4",
   "metadata": {},
   "outputs": [
    {
     "data": {
      "text/plain": [
       "True"
      ]
     },
     "execution_count": 94,
     "metadata": {},
     "output_type": "execute_result"
    }
   ],
   "source": [
    "bool(p)"
   ]
  },
  {
   "cell_type": "markdown",
   "id": "bbdae6be-b722-412e-868b-9efae2a4cbaa",
   "metadata": {},
   "source": [
    "If `age` of the plant is larger than 5, its truthy is `True`. Otherwise, `False`."
   ]
  },
  {
   "cell_type": "code",
   "execution_count": 100,
   "id": "339f0012-cfae-4ad7-aef9-6fcc49148271",
   "metadata": {},
   "outputs": [],
   "source": [
    "class Plant:\n",
    "    def __init__(self, age): self.age = age\n",
    "    \n",
    "    # add code...\n",
    "    def __bool__(self):\n",
    "        return self.age > 5"
   ]
  },
  {
   "cell_type": "code",
   "execution_count": 101,
   "id": "4c73f7c0-58b2-423a-8d25-39484fa54132",
   "metadata": {},
   "outputs": [],
   "source": [
    "p1 = Plant(1)\n",
    "p2 = Plant(7)"
   ]
  },
  {
   "cell_type": "code",
   "execution_count": 102,
   "id": "dc8a36e6-4659-4a00-912b-c74e16448669",
   "metadata": {},
   "outputs": [
    {
     "data": {
      "text/plain": [
       "(False, True)"
      ]
     },
     "execution_count": 102,
     "metadata": {},
     "output_type": "execute_result"
    }
   ],
   "source": [
    "bool(p1), bool(p2)"
   ]
  },
  {
   "cell_type": "markdown",
   "id": "308f0185-5e30-4fab-9806-359ff5d4eb9f",
   "metadata": {},
   "source": [
    "### 17. Pythonic Add"
   ]
  },
  {
   "cell_type": "markdown",
   "id": "1cea6219-8cc0-4c18-8d72-09a09b81c8a5",
   "metadata": {},
   "source": [
    "Add an `+` operation that add a new book to the bookself"
   ]
  },
  {
   "cell_type": "code",
   "execution_count": 133,
   "id": "5ec25553-986d-40e8-ae88-3c0f94394427",
   "metadata": {},
   "outputs": [],
   "source": [
    "class BookShelf:\n",
    "    def __init__(self):\n",
    "        self.books = []\n",
    "    \n",
    "    # add code...\n",
    "    def __add__(self, other):\n",
    "        self.books.append(other)"
   ]
  },
  {
   "cell_type": "code",
   "execution_count": 134,
   "id": "f89eb4b3-188e-4704-a90d-46851f03c5fe",
   "metadata": {},
   "outputs": [],
   "source": [
    "b = BookShelf()"
   ]
  },
  {
   "cell_type": "code",
   "execution_count": 135,
   "id": "52578012-52e0-4f1b-ab19-e06a5851e0ea",
   "metadata": {},
   "outputs": [],
   "source": [
    "b + 1"
   ]
  },
  {
   "cell_type": "code",
   "execution_count": 136,
   "id": "68a29e5e-4a68-469b-a71a-90b8338afb3a",
   "metadata": {},
   "outputs": [
    {
     "data": {
      "text/plain": [
       "[1]"
      ]
     },
     "execution_count": 136,
     "metadata": {},
     "output_type": "execute_result"
    }
   ],
   "source": [
    "b.books"
   ]
  },
  {
   "cell_type": "code",
   "execution_count": 137,
   "id": "a9850cb4-2eaa-4eaa-a594-06725ae84340",
   "metadata": {},
   "outputs": [],
   "source": [
    "b + 2"
   ]
  },
  {
   "cell_type": "code",
   "execution_count": 138,
   "id": "f4865b78-e5cc-4ef0-bc11-41805be45a4a",
   "metadata": {},
   "outputs": [
    {
     "data": {
      "text/plain": [
       "[1, 2]"
      ]
     },
     "execution_count": 138,
     "metadata": {},
     "output_type": "execute_result"
    }
   ],
   "source": [
    "b.books"
   ]
  },
  {
   "cell_type": "code",
   "execution_count": 146,
   "id": "40e9df0d-4b6e-4ced-9a83-117629571d44",
   "metadata": {},
   "outputs": [],
   "source": [
    "class BookShelf:\n",
    "    def __init__(self):\n",
    "        self.books = []\n",
    "    \n",
    "    # add code...\n",
    "    def __add__(self, other):\n",
    "        self.books.append(other)\n",
    "    \n",
    "    def __radd__(self, other):\n",
    "        return self + other"
   ]
  },
  {
   "cell_type": "code",
   "execution_count": 147,
   "id": "a8269c3d-6d20-48fc-9191-5ff19d955b45",
   "metadata": {},
   "outputs": [],
   "source": [
    "b = BookShelf()"
   ]
  },
  {
   "cell_type": "markdown",
   "id": "5e6f7870-701a-489f-a970-8473f9d354eb",
   "metadata": {},
   "source": [
    "Add an `+` operation that add a new book to the bookself that works as bellow"
   ]
  },
  {
   "cell_type": "code",
   "execution_count": 148,
   "id": "8a412486-7101-4556-b3f2-2a0066540353",
   "metadata": {},
   "outputs": [],
   "source": [
    "b + 1"
   ]
  },
  {
   "cell_type": "code",
   "execution_count": 149,
   "id": "ffc9a43d-bf8f-4460-86c8-868864293719",
   "metadata": {},
   "outputs": [],
   "source": [
    "2 + b"
   ]
  },
  {
   "cell_type": "code",
   "execution_count": 150,
   "id": "9ce92e32-c86e-4411-a279-6b6035dd6b44",
   "metadata": {},
   "outputs": [
    {
     "data": {
      "text/plain": [
       "[1, 2]"
      ]
     },
     "execution_count": 150,
     "metadata": {},
     "output_type": "execute_result"
    }
   ],
   "source": [
    "b.books"
   ]
  },
  {
   "cell_type": "code",
   "execution_count": null,
   "id": "daf25d65-acec-429c-a483-3d63644a70f7",
   "metadata": {},
   "outputs": [],
   "source": []
  }
 ],
 "metadata": {
  "kernelspec": {
   "display_name": "Python 3 (ipykernel)",
   "language": "python",
   "name": "python3"
  },
  "language_info": {
   "codemirror_mode": {
    "name": "ipython",
    "version": 3
   },
   "file_extension": ".py",
   "mimetype": "text/x-python",
   "name": "python",
   "nbconvert_exporter": "python",
   "pygments_lexer": "ipython3",
   "version": "3.9.13"
  }
 },
 "nbformat": 4,
 "nbformat_minor": 5
}
