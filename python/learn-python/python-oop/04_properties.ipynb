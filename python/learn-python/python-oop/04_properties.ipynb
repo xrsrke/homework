{
 "cells": [
  {
   "cell_type": "markdown",
   "id": "15f5c183-705f-4dd1-9b09-87a1f7f7427e",
   "metadata": {},
   "source": [
    "# 4. Properties"
   ]
  },
  {
   "cell_type": "code",
   "execution_count": 12,
   "id": "238e6893-a62a-41b1-8be3-e53a5ef6590a",
   "metadata": {},
   "outputs": [],
   "source": [
    "class CountAverage:\n",
    "    def __init__(self):\n",
    "        self.value = 0\n",
    "        self._avg = None\n",
    "    \n",
    "    def count(self):\n",
    "        self.value += 1\n",
    "        self.avg = None\n",
    "    \n",
    "    def avg(self):\n",
    "        pass"
   ]
  },
  {
   "cell_type": "markdown",
   "id": "cb23efcd-a129-4dbe-94e9-da292ca6a136",
   "metadata": {},
   "source": [
    "### 16. Property Docstring"
   ]
  },
  {
   "cell_type": "code",
   "execution_count": 9,
   "id": "4112ff83-640c-412a-9a61-c30282147756",
   "metadata": {},
   "outputs": [],
   "source": [
    "class Plant:\n",
    "    @property\n",
    "    def water(self):\n",
    "        \"Docstring A\"\n",
    "        pass\n",
    "    \n",
    "    @water.setter\n",
    "    def water(self):\n",
    "        \"Docstring B\"\n",
    "        pass"
   ]
  },
  {
   "cell_type": "code",
   "execution_count": 10,
   "id": "eb164c88-39a7-40ab-91c9-d358c77702bd",
   "metadata": {},
   "outputs": [
    {
     "name": "stdout",
     "output_type": "stream",
     "text": [
      "Help on property:\n",
      "\n",
      "    Docstring A\n",
      "\n"
     ]
    }
   ],
   "source": [
    "help(Plant.water)"
   ]
  },
  {
   "cell_type": "code",
   "execution_count": null,
   "id": "8e1ba296-1354-4a07-9c18-ef8f2c33c62e",
   "metadata": {},
   "outputs": [],
   "source": []
  }
 ],
 "metadata": {
  "kernelspec": {
   "display_name": "Python 3 (ipykernel)",
   "language": "python",
   "name": "python3"
  },
  "language_info": {
   "codemirror_mode": {
    "name": "ipython",
    "version": 3
   },
   "file_extension": ".py",
   "mimetype": "text/x-python",
   "name": "python",
   "nbconvert_exporter": "python",
   "pygments_lexer": "ipython3",
   "version": "3.9.13"
  }
 },
 "nbformat": 4,
 "nbformat_minor": 5
}
