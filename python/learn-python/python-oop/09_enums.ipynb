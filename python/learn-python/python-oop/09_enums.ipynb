{
 "cells": [
  {
   "cell_type": "markdown",
   "id": "3e7e559b-4ee4-4fb8-9f19-a7be521b2b00",
   "metadata": {},
   "source": [
    "# 9. Enums"
   ]
  },
  {
   "cell_type": "code",
   "execution_count": 8,
   "id": "7d47d4c7-f46a-4905-8f92-09a380ede242",
   "metadata": {},
   "outputs": [],
   "source": [
    "from enum import Enum"
   ]
  },
  {
   "cell_type": "code",
   "execution_count": 9,
   "id": "1b1f7a0b-16e1-49f7-8d4f-a520b0c8127a",
   "metadata": {},
   "outputs": [],
   "source": [
    "vehicles = (\"Falcon 1\", \"Falcon 9\", \"Starship\")"
   ]
  },
  {
   "cell_type": "markdown",
   "id": "91dcc5f0-2fa9-4bad-a9ea-fdda1f2162f1",
   "metadata": {},
   "source": [
    "Create a enumeration similar to `vehicles`"
   ]
  },
  {
   "cell_type": "code",
   "execution_count": 10,
   "id": "132e9862-5d98-4ead-9277-3034ce4b44b9",
   "metadata": {},
   "outputs": [],
   "source": [
    "class Vehicles(Enum):\n",
    "    FALCON_1 = \"Falcon 1\"\n",
    "    FALCON_9 = \"Falcon 9\"\n",
    "    STARSHIP = \"Starship\""
   ]
  },
  {
   "cell_type": "markdown",
   "id": "af1d4d1e-b7ec-4646-ae92-349164740b4a",
   "metadata": {},
   "source": [
    "### 5. Aliases vs Masters"
   ]
  },
  {
   "cell_type": "markdown",
   "id": "85bf7c35-3b4c-4f7f-b19f-fa19ac92a579",
   "metadata": {},
   "source": [
    "What are these values are master and alias?"
   ]
  },
  {
   "cell_type": "code",
   "execution_count": 18,
   "id": "a5a5f4ad-592a-4bee-8d42-42399fd365b4",
   "metadata": {},
   "outputs": [],
   "source": [
    "class Vehicles(Enum):\n",
    "    FALCON_1 = \"Falcon 1\"\n",
    "    FALCON_9 = \"Falcon 9\"\n",
    "    STARSHIP = \"Starship\"\n",
    "    X = \"Falcon 1\""
   ]
  },
  {
   "cell_type": "markdown",
   "id": "be45245e-7df2-4bce-b388-61fac8ad91b1",
   "metadata": {},
   "source": [
    "**Answer**: `FALCON_1` is matery. `X` is alias of `FALCON_1`"
   ]
  },
  {
   "cell_type": "code",
   "execution_count": 19,
   "id": "5cee4559-8a7f-4417-91ba-39d53ec5a332",
   "metadata": {},
   "outputs": [
    {
     "data": {
      "text/plain": [
       "<Vehicles.FALCON_1: 'Falcon 1'>"
      ]
     },
     "execution_count": 19,
     "metadata": {},
     "output_type": "execute_result"
    }
   ],
   "source": [
    "Vehicles.FALCON_1"
   ]
  },
  {
   "cell_type": "code",
   "execution_count": 20,
   "id": "68e91a07-e6ad-452c-8e4e-1b19338fc48f",
   "metadata": {},
   "outputs": [
    {
     "data": {
      "text/plain": [
       "<Vehicles.FALCON_1: 'Falcon 1'>"
      ]
     },
     "execution_count": 20,
     "metadata": {},
     "output_type": "execute_result"
    }
   ],
   "source": [
    "Vehicles.X"
   ]
  },
  {
   "cell_type": "code",
   "execution_count": 23,
   "id": "ceeaf52f-a854-40ed-aa04-41efa86b09b8",
   "metadata": {},
   "outputs": [],
   "source": [
    "class C:\n",
    "    FALCON_1 = \"Falcon 1\"\n",
    "    FALCON_9 = \"Falcon 9\"\n",
    "    STARSHIP = \"Starship\"\n",
    "    X = \"Falcon 1\""
   ]
  },
  {
   "cell_type": "code",
   "execution_count": 26,
   "id": "ddfafe02-2c59-470d-9690-e0af74610804",
   "metadata": {},
   "outputs": [
    {
     "data": {
      "text/plain": [
       "True"
      ]
     },
     "execution_count": 26,
     "metadata": {},
     "output_type": "execute_result"
    }
   ],
   "source": [
    "C.FALCON_1 is C.X"
   ]
  },
  {
   "cell_type": "code",
   "execution_count": 25,
   "id": "14f7dfd9-238f-41cd-9a9b-f77234682481",
   "metadata": {},
   "outputs": [
    {
     "data": {
      "text/plain": [
       "'Falcon 1'"
      ]
     },
     "execution_count": 25,
     "metadata": {},
     "output_type": "execute_result"
    }
   ],
   "source": [
    "C.X"
   ]
  },
  {
   "cell_type": "markdown",
   "id": "60d6c3b5-76c9-4996-843d-b28fc79d26ea",
   "metadata": {},
   "source": [
    "### 6. Uniqueness"
   ]
  },
  {
   "cell_type": "code",
   "execution_count": 13,
   "id": "aa163928-8817-4ed8-8969-f004a2a84a32",
   "metadata": {},
   "outputs": [],
   "source": [
    "from enum import Enum, unique"
   ]
  },
  {
   "cell_type": "code",
   "execution_count": 14,
   "id": "a2809ddd-282d-406a-b401-e60c935bd19c",
   "metadata": {},
   "outputs": [],
   "source": [
    "models = {\n",
    "    \"MODEL_S\": \"Model S\",\n",
    "    \"MODEL_3\": \"Model 3\",\n",
    "    \"MODEL_X\": \"Model X\",\n",
    "    \"X\": \"Model X\"\n",
    "}"
   ]
  },
  {
   "cell_type": "markdown",
   "id": "1c0cc13d-4d1a-4722-8dc1-287cd7af9e50",
   "metadata": {},
   "source": [
    "Create a enum `Models` similar to `models` but only allow unique values"
   ]
  },
  {
   "cell_type": "code",
   "execution_count": null,
   "id": "2865b3cc-e6ef-4a60-b96b-51be419dd876",
   "metadata": {},
   "outputs": [],
   "source": [
    "@unique\n",
    "class Models(Enum):\n",
    "    MODEL_S = \"Model S\"\n",
    "    MODEL_3 = \"Model 3\"\n",
    "    MODEL_X = \"Model X\"\n",
    "    X = \"Model X\""
   ]
  },
  {
   "cell_type": "markdown",
   "id": "6c01ceeb-0fbe-487b-8ee0-c718cdeae2e6",
   "metadata": {},
   "source": [
    "### 7. Functional Syntax"
   ]
  },
  {
   "cell_type": "code",
   "execution_count": 25,
   "id": "4518b114-25ff-45b5-91f8-96c0ac2c7df4",
   "metadata": {},
   "outputs": [],
   "source": [
    "from enum import Enum"
   ]
  },
  {
   "cell_type": "markdown",
   "id": "089c36a8-497c-46d8-b296-ced3c7cd659d",
   "metadata": {},
   "source": [
    "Create an enum `Colors` directly from `Enum` (no inheritent through class)"
   ]
  },
  {
   "cell_type": "code",
   "execution_count": 28,
   "id": "64eb645e-d822-4ad1-96b7-1fe59c654156",
   "metadata": {},
   "outputs": [],
   "source": [
    "c = Enum(\"Colors\", [(\"R\", \"Red\"), (\"B\", \"Blue\")])"
   ]
  },
  {
   "cell_type": "markdown",
   "id": "e5af4eab-d739-4cf7-9967-6137d8a2589a",
   "metadata": {},
   "source": [
    "c.R, c.B"
   ]
  },
  {
   "cell_type": "markdown",
   "id": "c4140700-f681-4af0-8669-a298e2e1b62c",
   "metadata": {},
   "source": [
    "### 8. Automatic Values"
   ]
  },
  {
   "cell_type": "code",
   "execution_count": 53,
   "id": "361fe74b-a786-4ac1-84be-d089168feddf",
   "metadata": {},
   "outputs": [],
   "source": [
    "from enum import Enum, auto"
   ]
  },
  {
   "cell_type": "markdown",
   "id": "ac450b6c-78d8-4ab3-904b-6f85e8c0d8f8",
   "metadata": {},
   "source": [
    "Create an enum `colors` that auto assign integer values to the class attributes"
   ]
  },
  {
   "cell_type": "code",
   "execution_count": 54,
   "id": "c4b0b690-7bae-4338-88ff-e59c877e4529",
   "metadata": {},
   "outputs": [],
   "source": [
    "class Colors(Enum):\n",
    "    GREEN = auto()\n",
    "    WHITE = auto()"
   ]
  },
  {
   "cell_type": "code",
   "execution_count": 55,
   "id": "4643438f-85c0-4c51-afa1-1573cc33b855",
   "metadata": {},
   "outputs": [
    {
     "data": {
      "text/plain": [
       "mappingproxy({'GREEN': <Colors.GREEN: 1>, 'WHITE': <Colors.WHITE: 2>})"
      ]
     },
     "execution_count": 55,
     "metadata": {},
     "output_type": "execute_result"
    }
   ],
   "source": [
    "Colors.__members__"
   ]
  },
  {
   "cell_type": "markdown",
   "id": "f40e5383-9a6b-462d-89ac-ad7bbdfac7b0",
   "metadata": {},
   "source": [
    "### 9. Customizing Next Values"
   ]
  },
  {
   "cell_type": "code",
   "execution_count": 108,
   "id": "9898f48c-8922-4ae7-a71a-a2ee25e1169d",
   "metadata": {},
   "outputs": [],
   "source": [
    "from enum import Enum, auto"
   ]
  },
  {
   "cell_type": "code",
   "execution_count": 109,
   "id": "4a44d096-b36e-45c3-a01e-334bc665e5e8",
   "metadata": {},
   "outputs": [],
   "source": [
    "class Particle:\n",
    "    def __init__(self, name):\n",
    "        self.name = name"
   ]
  },
  {
   "cell_type": "code",
   "execution_count": 110,
   "id": "a5e8797b-4317-410e-880e-6ea4847e32fb",
   "metadata": {},
   "outputs": [],
   "source": [
    "class BaseElement(Enum):\n",
    "    def _generate_next_value_(name, start=0, count=1, last_values=5):\n",
    "        return Particle(name)"
   ]
  },
  {
   "cell_type": "code",
   "execution_count": 111,
   "id": "45eb2e2d-723b-44f7-b74e-f56eb0f17ddb",
   "metadata": {},
   "outputs": [],
   "source": [
    "class Element(BaseElement):\n",
    "    \n",
    "    HYDROGEN = auto()\n",
    "    HELIUM = auto()"
   ]
  },
  {
   "cell_type": "markdown",
   "id": "ca24f8fb-4c10-42ec-87af-b9b0938414db",
   "metadata": {},
   "source": [
    "What is the output?"
   ]
  },
  {
   "cell_type": "code",
   "execution_count": 112,
   "id": "12cbb829-90bd-4056-88cc-27117f5affae",
   "metadata": {},
   "outputs": [
    {
     "data": {
      "text/plain": [
       "(<Element.HYDROGEN: <__main__.Particle object at 0x7fcc508a2850>>, 'HYDROGEN')"
      ]
     },
     "execution_count": 112,
     "metadata": {},
     "output_type": "execute_result"
    }
   ],
   "source": [
    "Element.HYDROGEN, Element.HYDROGEN.name"
   ]
  },
  {
   "cell_type": "markdown",
   "id": "2d049ce4-2b69-46f6-85df-08c81761a66b",
   "metadata": {},
   "source": [
    "### 10. Extensibility"
   ]
  },
  {
   "cell_type": "code",
   "execution_count": 137,
   "id": "5dafdb30-841a-46a6-85ec-319c39d463fe",
   "metadata": {},
   "outputs": [],
   "source": [
    "from enum import Enum"
   ]
  },
  {
   "cell_type": "code",
   "execution_count": 138,
   "id": "6cfa616c-05c9-41f5-b0d1-3b23dbed797f",
   "metadata": {},
   "outputs": [],
   "source": [
    "colors = {\n",
    "    \"RED\": \"Red\",\n",
    "    \"ORANGE\": \"Orange\",\n",
    "    \"BLUE\": \"Blue\"\n",
    "}"
   ]
  },
  {
   "cell_type": "markdown",
   "id": "543f3f33-2174-4387-a117-23625edd30be",
   "metadata": {},
   "source": [
    "Create an enum `Colors` similar to `colors`.\n",
    "\n",
    "It have a property `is_hot`, will return `True` if the color is Red or Orange, otherwise returns `False`"
   ]
  },
  {
   "cell_type": "code",
   "execution_count": 139,
   "id": "85ec2e23-c0d2-4baa-a50e-c6badf66a8ba",
   "metadata": {},
   "outputs": [],
   "source": [
    "class Colors(Enum):\n",
    "    RED = \"Red\"\n",
    "    ORANGE = \"Orange\"\n",
    "    GREEN = \"Green\"\n",
    "    \n",
    "    @property\n",
    "    def is_hot(self):\n",
    "        return self in (Colors.RED, Colors.ORANGE)"
   ]
  },
  {
   "cell_type": "code",
   "execution_count": 140,
   "id": "7cd07c84-5f21-446c-a263-9f964599976b",
   "metadata": {},
   "outputs": [
    {
     "data": {
      "text/plain": [
       "(True, False)"
      ]
     },
     "execution_count": 140,
     "metadata": {},
     "output_type": "execute_result"
    }
   ],
   "source": [
    "Colors.RED.is_hot, Colors.GREEN.is_hot"
   ]
  },
  {
   "cell_type": "code",
   "execution_count": null,
   "id": "24a84595-df35-4db1-a5a2-55ca7e1db716",
   "metadata": {},
   "outputs": [],
   "source": []
  }
 ],
 "metadata": {
  "kernelspec": {
   "display_name": "Python 3 (ipykernel)",
   "language": "python",
   "name": "python3"
  },
  "language_info": {
   "codemirror_mode": {
    "name": "ipython",
    "version": 3
   },
   "file_extension": ".py",
   "mimetype": "text/x-python",
   "name": "python",
   "nbconvert_exporter": "python",
   "pygments_lexer": "ipython3",
   "version": "3.9.12"
  }
 },
 "nbformat": 4,
 "nbformat_minor": 5
}
