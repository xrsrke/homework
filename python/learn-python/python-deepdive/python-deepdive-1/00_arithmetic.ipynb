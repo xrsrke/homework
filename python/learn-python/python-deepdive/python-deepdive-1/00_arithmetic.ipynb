{
 "cells": [
  {
   "cell_type": "code",
   "execution_count": null,
   "id": "652d4952-5718-4b22-bd6f-def52b1e97ce",
   "metadata": {},
   "outputs": [],
   "source": [
    "a, b = 7, 3"
   ]
  },
  {
   "cell_type": "code",
   "execution_count": null,
   "id": "e4db7348-4614-4875-bd29-6b59c9564b6a",
   "metadata": {},
   "outputs": [
    {
     "data": {
      "text/plain": [
       "2"
      ]
     },
     "execution_count": null,
     "metadata": {},
     "output_type": "execute_result"
    }
   ],
   "source": [
    "a // b"
   ]
  },
  {
   "cell_type": "code",
   "execution_count": null,
   "id": "5b53c7ee-0282-4bb4-bec2-2d20850de74f",
   "metadata": {},
   "outputs": [
    {
     "data": {
      "text/plain": [
       "False"
      ]
     },
     "execution_count": null,
     "metadata": {},
     "output_type": "execute_result"
    }
   ],
   "source": [
    "type(a // b) == float"
   ]
  },
  {
   "cell_type": "code",
   "execution_count": null,
   "id": "3058f69a-5040-4f7d-b744-39024ac67143",
   "metadata": {},
   "outputs": [
    {
     "data": {
      "text/plain": [
       "2.3333333333333335"
      ]
     },
     "execution_count": null,
     "metadata": {},
     "output_type": "execute_result"
    }
   ],
   "source": [
    "a / b"
   ]
  },
  {
   "cell_type": "code",
   "execution_count": null,
   "id": "738d84d9-d9f4-459f-a49e-5a41f2cdd3d7",
   "metadata": {},
   "outputs": [
    {
     "data": {
      "text/plain": [
       "True"
      ]
     },
     "execution_count": null,
     "metadata": {},
     "output_type": "execute_result"
    }
   ],
   "source": [
    "type(a / b) == float"
   ]
  },
  {
   "cell_type": "code",
   "execution_count": null,
   "id": "e730b7fd-fa23-4b97-9325-a16e059cb885",
   "metadata": {},
   "outputs": [],
   "source": []
  },
  {
   "cell_type": "code",
   "execution_count": null,
   "id": "e4093df2-79e7-4383-acff-7bc75e980659",
   "metadata": {},
   "outputs": [],
   "source": []
  }
 ],
 "metadata": {
  "kernelspec": {
   "display_name": "Python 3 (ipykernel)",
   "language": "python",
   "name": "python3"
  }
 },
 "nbformat": 4,
 "nbformat_minor": 5
}
