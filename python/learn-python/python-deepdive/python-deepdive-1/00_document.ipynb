{
 "cells": [
  {
   "cell_type": "markdown",
   "id": "7b0a6d48-e5d0-4ec1-8e17-773e92bf3757",
   "metadata": {},
   "source": [
    "### Best Practices for writing document "
   ]
  },
  {
   "cell_type": "code",
   "execution_count": null,
   "id": "9f2c045c",
   "metadata": {},
   "outputs": [],
   "source": []
  },
  {
   "cell_type": "markdown",
   "id": "d2695e68-269e-4207-8dfa-790741451e69",
   "metadata": {},
   "source": [
    "Write the document for function `distance`"
   ]
  },
  {
   "cell_type": "code",
   "execution_count": 2,
   "id": "0f8e5c01-f1cb-4fe5-a98f-a9c2f6f0d3d9",
   "metadata": {},
   "outputs": [],
   "source": [
    "def distance(point_a, point_b):\n",
    "    \"\"\"\n",
    "    The difference between two number\n",
    "    \n",
    "    :param point_a: the location of point a in 3D space\n",
    "    :param point_b: the location of point b in 3D space\n",
    "    :return: the distance between point a and point b\n",
    "    \n",
    "    \"\"\"\n",
    "    pass"
   ]
  },
  {
   "cell_type": "markdown",
   "id": "3d23a03c-96fd-46b0-8b43-304c69389cb0",
   "metadata": {},
   "source": [
    "The location of points in 3D space"
   ]
  },
  {
   "cell_type": "code",
   "execution_count": 3,
   "id": "177abfb1-9d91-435a-a6ff-93b72d9646fe",
   "metadata": {},
   "outputs": [],
   "source": [
    "a = [1, 3, 1]\n",
    "b = [3, 1, 9]"
   ]
  },
  {
   "cell_type": "markdown",
   "id": "0049fa2a-84c2-4184-96a0-791af6349057",
   "metadata": {},
   "source": [
    "Return the distance between point `a` and point `b`"
   ]
  },
  {
   "cell_type": "code",
   "execution_count": 4,
   "id": "2cd4b99e-f59f-4415-9142-005c532707ad",
   "metadata": {},
   "outputs": [],
   "source": [
    "distance(a, b)"
   ]
  }
 ],
 "metadata": {
  "kernelspec": {
   "display_name": "Python 3 (ipykernel)",
   "language": "python",
   "name": "python3"
  },
  "language_info": {
   "codemirror_mode": {
    "name": "ipython",
    "version": 3
   },
   "file_extension": ".py",
   "mimetype": "text/x-python",
   "name": "python",
   "nbconvert_exporter": "python",
   "pygments_lexer": "ipython3",
   "version": "3.9.13"
  }
 },
 "nbformat": 4,
 "nbformat_minor": 5
}
