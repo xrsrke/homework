{
 "cells": [
  {
   "cell_type": "code",
   "execution_count": null,
   "id": "92262b28-4991-4394-823b-ad5bef255d21",
   "metadata": {},
   "outputs": [],
   "source": [
    "class Vehicle:\n",
    "    \n",
    "    class Software():\n",
    "        def __init__(self, version): self.version = version\n",
    "\n",
    "    software = Software(2.1)"
   ]
  },
  {
   "cell_type": "markdown",
   "id": "b023f7fe-fdbd-4143-8b22-d8eba7863eac",
   "metadata": {},
   "source": [
    "Does this works? If no, explain"
   ]
  },
  {
   "cell_type": "code",
   "execution_count": null,
   "id": "c714c685-782a-4f12-8f19-f0d3c203579b",
   "metadata": {},
   "outputs": [
    {
     "data": {
      "text/plain": [
       "2.1"
      ]
     },
     "execution_count": null,
     "metadata": {},
     "output_type": "execute_result"
    }
   ],
   "source": [
    "Vehicle().software.version"
   ]
  },
  {
   "cell_type": "markdown",
   "id": "d5fd20c0-e75b-421c-8001-bbda614a81ea",
   "metadata": {},
   "source": [
    "**Answer**: As you see, yes."
   ]
  },
  {
   "cell_type": "code",
   "execution_count": null,
   "id": "8dc25a65-1d4c-4a9e-baa5-b0f1af2efe10",
   "metadata": {},
   "outputs": [],
   "source": []
  }
 ],
 "metadata": {
  "kernelspec": {
   "display_name": "Python 3 (ipykernel)",
   "language": "python",
   "name": "python3"
  }
 },
 "nbformat": 4,
 "nbformat_minor": 5
}
