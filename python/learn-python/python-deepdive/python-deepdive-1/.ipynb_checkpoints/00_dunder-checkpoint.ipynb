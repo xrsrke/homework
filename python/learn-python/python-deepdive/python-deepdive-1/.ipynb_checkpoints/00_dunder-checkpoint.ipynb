{
 "cells": [
  {
   "cell_type": "markdown",
   "id": "9b6e8238-d611-4039-a98b-c9a74657638b",
   "metadata": {},
   "source": [
    "### `__new__`"
   ]
  },
  {
   "cell_type": "markdown",
   "id": "46432822-a03a-4013-8243-b0a364e396d4",
   "metadata": {},
   "source": [
    "Add an dunder that\n",
    "- Print \"Just created an instance\" when an instance is created\n",
    "- Return `super().__new__(cls)`"
   ]
  },
  {
   "cell_type": "code",
   "execution_count": 22,
   "id": "ad47b36e-4222-43ff-81e0-0fbeea9a9a95",
   "metadata": {},
   "outputs": [],
   "source": [
    "class Vehicle:\n",
    "    def __new__(cls):\n",
    "        print(\"Just created an instance\")\n",
    "        return super().__new__(cls)"
   ]
  },
  {
   "cell_type": "code",
   "execution_count": 23,
   "id": "53befa1c-ae63-49b1-8079-2b3b3bfcd81f",
   "metadata": {},
   "outputs": [
    {
     "name": "stdout",
     "output_type": "stream",
     "text": [
      "Just created an instance\n"
     ]
    },
    {
     "data": {
      "text/plain": [
       "<__main__.Vehicle at 0x7fc379366d00>"
      ]
     },
     "execution_count": 23,
     "metadata": {},
     "output_type": "execute_result"
    }
   ],
   "source": [
    "Vehicle()"
   ]
  },
  {
   "cell_type": "code",
   "execution_count": 24,
   "id": "53b19bc7-5fb8-4250-8ff0-45a14414b4b0",
   "metadata": {},
   "outputs": [],
   "source": [
    "x = 2"
   ]
  },
  {
   "cell_type": "code",
   "execution_count": 25,
   "id": "c1b02bd0-8084-4d8d-ba48-4c8070bae2d6",
   "metadata": {},
   "outputs": [],
   "source": [
    "x *= 4"
   ]
  },
  {
   "cell_type": "code",
   "execution_count": 26,
   "id": "db000fe8-d842-4ecc-9fbe-ccc2e6792513",
   "metadata": {},
   "outputs": [
    {
     "data": {
      "text/plain": [
       "8"
      ]
     },
     "execution_count": 26,
     "metadata": {},
     "output_type": "execute_result"
    }
   ],
   "source": [
    "x"
   ]
  },
  {
   "cell_type": "code",
   "execution_count": null,
   "id": "4805cbbe-f813-4b73-a1f2-6ab27fd3d356",
   "metadata": {},
   "outputs": [],
   "source": []
  }
 ],
 "metadata": {
  "kernelspec": {
   "display_name": "Python 3 (ipykernel)",
   "language": "python",
   "name": "python3"
  },
  "language_info": {
   "codemirror_mode": {
    "name": "ipython",
    "version": 3
   },
   "file_extension": ".py",
   "mimetype": "text/x-python",
   "name": "python",
   "nbconvert_exporter": "python",
   "pygments_lexer": "ipython3",
   "version": "3.9.13"
  }
 },
 "nbformat": 4,
 "nbformat_minor": 5
}
