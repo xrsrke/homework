{
 "cells": [
  {
   "cell_type": "markdown",
   "id": "398f72c7-8f4a-4278-b70e-30874ea934cf",
   "metadata": {},
   "source": [
    "# Chapter 8. Type Hints in Functions"
   ]
  },
  {
   "cell_type": "markdown",
   "id": "099ea994-ae89-49da-9e05-5743c96c2c04",
   "metadata": {},
   "source": [
    "### 4. Types Are Defined by Supported Operations"
   ]
  },
  {
   "cell_type": "markdown",
   "id": "ac772699-0d39-4f46-95e2-789b558e5d0c",
   "metadata": {},
   "source": [
    "##### Example 1"
   ]
  },
  {
   "cell_type": "markdown",
   "id": "53ba1425-37d9-418e-8d09-cbadfbefff68",
   "metadata": {},
   "source": [
    "### 5. Types Usable in Annotations"
   ]
  },
  {
   "cell_type": "markdown",
   "id": "da9b2529-5b46-4b06-9f4e-1614e3c9593d",
   "metadata": {},
   "source": [
    "#### Generic Mappings"
   ]
  },
  {
   "cell_type": "markdown",
   "id": "bb936b99-a9a0-4ee6-a626-5eea8a93bc43",
   "metadata": {},
   "source": [
    "#### Protocol"
   ]
  },
  {
   "cell_type": "markdown",
   "id": "6c97fd94-4736-4ab1-a302-013dd88b928b",
   "metadata": {},
   "source": [
    "##### Example 1"
   ]
  },
  {
   "cell_type": "markdown",
   "id": "3d5145e9-2087-46ce-9cc9-ffb6772d3366",
   "metadata": {},
   "source": [
    "Create type hint that force limited to any objects that implement `__lt__`"
   ]
  },
  {
   "cell_type": "code",
   "execution_count": null,
   "id": "c7796cc5-f656-464d-966d-5c91d8907ae2",
   "metadata": {},
   "outputs": [],
   "source": [
    "from typing import Protocol, Any"
   ]
  },
  {
   "cell_type": "code",
   "execution_count": null,
   "id": "549a8c0b-6df0-41ff-894a-4776fa8aa791",
   "metadata": {},
   "outputs": [],
   "source": [
    "class SupportLessThan(Protocol):\n",
    "    def __lt__(self, other: Any) -> bool:\n",
    "        pass"
   ]
  },
  {
   "cell_type": "code",
   "execution_count": null,
   "id": "6ec58173-e51e-4830-917a-2fb2601ff388",
   "metadata": {},
   "outputs": [
    {
     "data": {
      "text/plain": [
       "__main__.SupportLessThan"
      ]
     },
     "execution_count": null,
     "metadata": {},
     "output_type": "execute_result"
    }
   ],
   "source": [
    "SupportLessThan"
   ]
  },
  {
   "cell_type": "markdown",
   "id": "348af434-ec25-45cb-a6e0-602ef729a453",
   "metadata": {},
   "source": [
    "`sorted()` only works with an iterable that all elements in it have methods `__lt__`"
   ]
  },
  {
   "cell_type": "markdown",
   "id": "053cf387-b40c-4b42-9e18-c45b8af7085d",
   "metadata": {},
   "source": [
    "##### Example 2"
   ]
  },
  {
   "cell_type": "code",
   "execution_count": null,
   "id": "a85979c9-8289-4645-ad17-b941f8158a96",
   "metadata": {},
   "outputs": [],
   "source": [
    "def foo(): pass"
   ]
  },
  {
   "cell_type": "markdown",
   "id": "f4cd024a-3ad5-43f4-9542-7f97b0585fd4",
   "metadata": {},
   "source": [
    "Call function `foo` if only type checkers run"
   ]
  },
  {
   "cell_type": "code",
   "execution_count": null,
   "id": "4f82f996-fdef-4af7-9686-fe4676573d76",
   "metadata": {},
   "outputs": [],
   "source": [
    "from typing import TYPE_CHECKING"
   ]
  },
  {
   "cell_type": "code",
   "execution_count": null,
   "id": "4e49b03d-f585-4812-9b11-4b800b1fa80c",
   "metadata": {},
   "outputs": [],
   "source": [
    "if TYPE_CHECKING:\n",
    "    foo()"
   ]
  },
  {
   "cell_type": "markdown",
   "id": "3ba23baa-d0e6-41f1-a5d8-dbc6fd3e3fc1",
   "metadata": {},
   "source": [
    "#### No Return"
   ]
  },
  {
   "cell_type": "code",
   "execution_count": null,
   "id": "6f41bf67-7eaf-48c5-8750-e674083dc584",
   "metadata": {},
   "outputs": [],
   "source": [
    "def exit():\n",
    "    pass"
   ]
  },
  {
   "cell_type": "markdown",
   "id": "96afa49e-e7a7-44c3-9f3f-16d1d017078a",
   "metadata": {},
   "source": [
    "Function `exit` will not return anything. Add type hint for it"
   ]
  },
  {
   "cell_type": "code",
   "execution_count": null,
   "id": "c4082f32-c9ce-4f4b-80f3-5399b3a0aa52",
   "metadata": {},
   "outputs": [],
   "source": [
    "from typing import NoReturn"
   ]
  },
  {
   "cell_type": "code",
   "execution_count": null,
   "id": "ac7039af-0abc-4836-b0c3-0e4ad8e914ea",
   "metadata": {},
   "outputs": [],
   "source": [
    "def exit() -> NoReturn:\n",
    "    pass"
   ]
  },
  {
   "cell_type": "code",
   "execution_count": null,
   "id": "ece41206-83e5-4306-abe7-f050bcf91bb9",
   "metadata": {},
   "outputs": [],
   "source": []
  }
 ],
 "metadata": {
  "kernelspec": {
   "display_name": "Python 3 (ipykernel)",
   "language": "python",
   "name": "python3"
  }
 },
 "nbformat": 4,
 "nbformat_minor": 5
}
