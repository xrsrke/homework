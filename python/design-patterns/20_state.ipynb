{
 "cells": [
  {
   "cell_type": "markdown",
   "id": "a83421a0-9610-4f18-84a5-7c6321cf4d3d",
   "metadata": {},
   "source": [
    "# 20. State"
   ]
  },
  {
   "cell_type": "markdown",
   "id": "73349f9c-04e2-4477-84a0-97b0d86aa3a3",
   "metadata": {},
   "source": [
    "##### Example 1"
   ]
  },
  {
   "cell_type": "code",
   "execution_count": null,
   "id": "a38dbcb2-0741-4237-b115-62a32e61defb",
   "metadata": {},
   "outputs": [],
   "source": [
    "class Switch:\n",
    "    def __init__(self):\n",
    "        self.state = OffState()"
   ]
  },
  {
   "cell_type": "code",
   "execution_count": null,
   "id": "b268ee96-cba0-4839-827b-234a27a7096a",
   "metadata": {},
   "outputs": [],
   "source": [
    "from abc import ABC"
   ]
  },
  {
   "cell_type": "code",
   "execution_count": null,
   "id": "80492265-7e44-4e4e-b382-53c0ac618e13",
   "metadata": {},
   "outputs": [],
   "source": [
    "class State(ABC):\n",
    "    def on(self, switch):\n",
    "        pass\n",
    "    \n",
    "    def off(self, switch):\n",
    "        pass"
   ]
  },
  {
   "cell_type": "code",
   "execution_count": null,
   "id": "d56323cb-77ea-462a-8fd7-fda93a1768f2",
   "metadata": {},
   "outputs": [],
   "source": [
    "class OnState(State):\n",
    "    def __init__(self):\n",
    "        print('Light turned on')"
   ]
  },
  {
   "cell_type": "code",
   "execution_count": null,
   "id": "a3678be4-d198-4c1e-92f7-32a7d16725a2",
   "metadata": {},
   "outputs": [],
   "source": [
    "class Switch:\n",
    "    def __init__(self):\n",
    "        self.state = OffState()\n",
    "    \n",
    "    def on(self):\n",
    "        self.state.on(self)\n",
    "    \n",
    "    def off(self):\n",
    "        self.state.off(self)"
   ]
  },
  {
   "cell_type": "code",
   "execution_count": null,
   "id": "3688ec0f-8bee-4efe-b019-d0f6fdf5f7b1",
   "metadata": {},
   "outputs": [],
   "source": [
    "from abc import ABC"
   ]
  },
  {
   "cell_type": "code",
   "execution_count": null,
   "id": "7ace8b0c-9ca6-4007-9039-10515aa39669",
   "metadata": {},
   "outputs": [],
   "source": [
    "class State(ABC):\n",
    "    def on(self, switch):\n",
    "        print('Light is already on')\n",
    "    \n",
    "    def off(self, switch):\n",
    "        print('Light is already off')"
   ]
  },
  {
   "cell_type": "code",
   "execution_count": null,
   "id": "be2095e2-3333-40d8-b476-313b84110a51",
   "metadata": {},
   "outputs": [],
   "source": [
    "class OnState(State):\n",
    "    def __init__(self):\n",
    "        print('Light is turned on')\n",
    "    \n",
    "    def off(self, switch):\n",
    "        print('Turning light off')\n",
    "        self.switch.state = OffState()"
   ]
  },
  {
   "cell_type": "code",
   "execution_count": null,
   "id": "2909056c-adcb-43a9-b244-f00a2d096a4a",
   "metadata": {},
   "outputs": [],
   "source": [
    "class OffState(State):\n",
    "    def __init__(self):\n",
    "        print('Light is turned off')\n",
    "    \n",
    "    def on(self, switch):\n",
    "        print('Turning light on')\n",
    "        self.switch.state = OnState()"
   ]
  },
  {
   "cell_type": "markdown",
   "id": "54356c1e-bba1-467b-82d4-c5555b119d9b",
   "metadata": {},
   "source": [
    "##### Example 2: Order's State"
   ]
  },
  {
   "cell_type": "code",
   "execution_count": null,
   "id": "95965942-b936-4646-aedb-f863fdb5a43f",
   "metadata": {},
   "outputs": [],
   "source": [
    "class Order:\n",
    "    UNPAID = 0\n",
    "    PAID = 1\n",
    "    SHIPPED = 2\n",
    "    \n",
    "    def __init__(self):\n",
    "        self.state = self.UNPAID\n",
    "    \n",
    "    def receive_payment(self):\n",
    "        if self.state == self.UNPAID:\n",
    "            self.state = self.PAID\n",
    "            print('Your payment has been accepted')\n",
    "        elif self.state == self.PAID or self.state == self.SHIPPED:\n",
    "            print('You have already paid for this order')\n",
    "    \n",
    "    def ship(self):\n",
    "        if self.state == self.UNPAID:\n",
    "            print(\"Can't ship unpaid orders\")\n",
    "        elif self.state == self.PAID:\n",
    "            self.state = self.SHIPPED\n",
    "            print('The order has been shipped')\n",
    "        elif self.state == self.shipped:\n",
    "            print('The order has already been shipped')"
   ]
  },
  {
   "cell_type": "markdown",
   "id": "07ff31b6-a762-4c1c-911e-e025bbd13583",
   "metadata": {},
   "source": [
    "Refactor using `State Pattern`"
   ]
  },
  {
   "cell_type": "code",
   "execution_count": null,
   "id": "88696e34-f274-4818-89e0-8c2e34356561",
   "metadata": {},
   "outputs": [],
   "source": [
    "class State:\n",
    "    def __init__(self, context: Order):\n",
    "        self.context = context\n",
    "        \n",
    "    def receive_payment(self):\n",
    "        raise NotImplementedError()\n",
    "    \n",
    "    def ship(self):\n",
    "        raise NotImplementedError()"
   ]
  },
  {
   "cell_type": "code",
   "execution_count": null,
   "id": "0418f779-b8b4-4f5e-8b15-e008b6cd13f8",
   "metadata": {},
   "outputs": [],
   "source": [
    "class UnpaidState(State):\n",
    "    \n",
    "    def receive_payment(self):\n",
    "        self.context.set_state(self.context.paid_state)\n",
    "        print('Your payment has been accepted')\n",
    "    \n",
    "    def ship(self):\n",
    "        print(\"Can't ship unpaid orders\")"
   ]
  },
  {
   "cell_type": "code",
   "execution_count": null,
   "id": "b68fba73-6a36-48a5-bfaf-3fa14c0ded23",
   "metadata": {},
   "outputs": [],
   "source": [
    "class PaidState(State):\n",
    "    \n",
    "    def receive_payment(self):\n",
    "        print('You have already paid for this order')\n",
    "    \n",
    "    def ship(self):\n",
    "        self.context.set_state(self.context.shipped_state)\n",
    "        print('The order has been shipped')"
   ]
  },
  {
   "cell_type": "code",
   "execution_count": null,
   "id": "f1553dfb-ef47-4362-b5ac-052f90d3568e",
   "metadata": {},
   "outputs": [],
   "source": [
    "class ShippedState(State):\n",
    "    \n",
    "    def receive_payment(self):\n",
    "        print('You have already paid for this order')\n",
    "    \n",
    "    def ship(self):\n",
    "        print('The order has already been shipped')"
   ]
  },
  {
   "cell_type": "code",
   "execution_count": null,
   "id": "839084eb-59e4-4563-a260-04232bf5e634",
   "metadata": {},
   "outputs": [],
   "source": [
    "class Order:\n",
    "    def __init__(self):\n",
    "        self.unpaid_state = UnpaidState(self)\n",
    "        self.paid_state = PaidState(self)\n",
    "        self.shipped_state = ShippedState(self)\n",
    "        \n",
    "        self.state = self.unpaid_state\n",
    "    \n",
    "    def set_state(self, state: State):\n",
    "        self.state = state\n",
    "    \n",
    "    def receive_payment(self):\n",
    "        self.state.receive_payment()\n",
    "    \n",
    "    def ship(self):\n",
    "        self.state.ship()"
   ]
  },
  {
   "cell_type": "code",
   "execution_count": null,
   "id": "09621761-a22f-4d4d-bce8-528edfb3a30b",
   "metadata": {},
   "outputs": [],
   "source": [
    "order = Order()"
   ]
  },
  {
   "cell_type": "code",
   "execution_count": null,
   "id": "20e8805d-b131-44cf-83da-f6fca45446c2",
   "metadata": {},
   "outputs": [
    {
     "name": "stdout",
     "output_type": "stream",
     "text": [
      "Your payment has been accepted\n"
     ]
    }
   ],
   "source": [
    "order.receive_payment()"
   ]
  },
  {
   "cell_type": "code",
   "execution_count": null,
   "id": "a0014ac5-c2ba-4559-a57a-8e1d25f63171",
   "metadata": {},
   "outputs": [
    {
     "name": "stdout",
     "output_type": "stream",
     "text": [
      "You have already paid for this order\n"
     ]
    }
   ],
   "source": [
    "order.receive_payment()"
   ]
  },
  {
   "cell_type": "code",
   "execution_count": null,
   "id": "08d3de6d-a423-4d7e-a3ba-5a49ca7355d4",
   "metadata": {},
   "outputs": [
    {
     "name": "stdout",
     "output_type": "stream",
     "text": [
      "The order has been shipped\n"
     ]
    }
   ],
   "source": [
    "order.ship()"
   ]
  },
  {
   "cell_type": "code",
   "execution_count": null,
   "id": "3fa42cd1-8668-4d0d-8c6e-83e570e716cc",
   "metadata": {},
   "outputs": [
    {
     "name": "stdout",
     "output_type": "stream",
     "text": [
      "The order has already been shipped\n"
     ]
    }
   ],
   "source": [
    "order.ship()"
   ]
  },
  {
   "cell_type": "code",
   "execution_count": null,
   "id": "cefcbc18-5ed8-4cd6-8155-0bb764e60b88",
   "metadata": {},
   "outputs": [
    {
     "name": "stdout",
     "output_type": "stream",
     "text": [
      "The order has already been shipped\n"
     ]
    }
   ],
   "source": [
    "order.ship()"
   ]
  },
  {
   "cell_type": "code",
   "execution_count": null,
   "id": "a8eb07dc-ad4d-4136-bca7-98185446725b",
   "metadata": {},
   "outputs": [],
   "source": []
  }
 ],
 "metadata": {
  "kernelspec": {
   "display_name": "Python 3 (ipykernel)",
   "language": "python",
   "name": "python3"
  }
 },
 "nbformat": 4,
 "nbformat_minor": 5
}
