{
 "cells": [
  {
   "cell_type": "code",
   "execution_count": null,
   "id": "ac257fcf-911f-45b3-9e65-ac50aa54677a",
   "metadata": {},
   "outputs": [],
   "source": []
  }
 ],
 "metadata": {
  "kernelspec": {
   "display_name": "Python 3 (ipykernel)",
   "language": "python",
   "name": "python3"
  }
 },
 "nbformat": 4,
 "nbformat_minor": 5
}
