{
 "cells": [
  {
   "cell_type": "markdown",
   "id": "5373e663-edab-49c8-843d-0b8902977fe4",
   "metadata": {},
   "source": [
    "# Iterator"
   ]
  },
  {
   "cell_type": "markdown",
   "id": "ae922ca4-dc4e-4e30-a91c-8bafe954e21f",
   "metadata": {},
   "source": [
    "##### Example 1"
   ]
  },
  {
   "cell_type": "code",
   "execution_count": null,
   "id": "5f82f690-99bb-44b5-8552-66efdb85a97a",
   "metadata": {},
   "outputs": [],
   "source": [
    "#     1\n",
    "#   /  \\\n",
    "#  2   3"
   ]
  },
  {
   "cell_type": "code",
   "execution_count": null,
   "id": "2e666bcd-eb43-4683-b060-bbaa33a5ee65",
   "metadata": {},
   "outputs": [],
   "source": [
    "class Node:\n",
    "    def __init__(self, value, left=None, right=None):\n",
    "        self.value = value\n",
    "        self.left = left\n",
    "        self.right = right\n",
    "        \n",
    "        self.parent = None\n",
    "        \n",
    "        if self.left: self.left.parent = self\n",
    "        if self.right: self.right.parent = self"
   ]
  },
  {
   "cell_type": "code",
   "execution_count": null,
   "id": "8870c95e-3163-48fc-a8cb-a9048f81c983",
   "metadata": {},
   "outputs": [],
   "source": [
    "class InOrderIterator:\n",
    "    pass"
   ]
  },
  {
   "cell_type": "code",
   "execution_count": null,
   "id": "dfac1311-7f18-4dec-9425-f8cec06384ad",
   "metadata": {},
   "outputs": [],
   "source": [
    "root = Node(1, Node(2), Node(3))"
   ]
  },
  {
   "cell_type": "code",
   "execution_count": null,
   "id": "42ff79be-fcc2-4188-bd67-8bb972ca8aec",
   "metadata": {},
   "outputs": [
    {
     "data": {
      "text/plain": [
       "<__main__.Node>"
      ]
     },
     "execution_count": null,
     "metadata": {},
     "output_type": "execute_result"
    }
   ],
   "source": [
    "root"
   ]
  },
  {
   "cell_type": "markdown",
   "id": "f10fcef9-8cf5-4326-af49-aa80d5181e0a",
   "metadata": {},
   "source": [
    "##### Example 2: Music Player"
   ]
  },
  {
   "cell_type": "code",
   "execution_count": null,
   "id": "d56a1efa-a977-4e17-83cf-be68cc6d8b3b",
   "metadata": {},
   "outputs": [],
   "source": [
    "class Song:\n",
    "    def __init__(self, name, artist):\n",
    "        self.name = name\n",
    "        self.artist = artist\n",
    "    \n",
    "    def method(self):\n",
    "        print(f'{self.artist} - {self.name}')\n",
    "        return True"
   ]
  },
  {
   "cell_type": "markdown",
   "id": "d086f282-090b-4ce4-86d3-2e9e2ce4d90e",
   "metadata": {},
   "source": [
    "Create a `MusicPlayer` class using `Iterator Pattern`"
   ]
  },
  {
   "cell_type": "code",
   "execution_count": null,
   "id": "f08d3beb-97df-45f5-a306-7a2b708d8558",
   "metadata": {},
   "outputs": [],
   "source": [
    "class MusicPlayer:\n",
    "    def __init__(self, songs):\n",
    "        self.index = 0\n",
    "        self.songs = songs\n",
    "    \n",
    "    def has_next(self):\n",
    "        return self.index < len(self.songs)\n",
    "    \n",
    "    def next(self):\n",
    "        if self.index < len(self.songs):\n",
    "            song = self.songs[self.index]\n",
    "            self.index += 1\n",
    "            return song\n",
    "        else:\n",
    "            raise Exception('IteratorException', 'End of the song list')"
   ]
  },
  {
   "cell_type": "code",
   "execution_count": null,
   "id": "ddacb58a-518f-4c56-8adc-690e6115d9e9",
   "metadata": {},
   "outputs": [],
   "source": [
    "songs = [Song('Eneter Sandman', 'Metallica'),\n",
    "         Song('Driver licence', 'Olivia Rodrigo'),\n",
    "         Song('bored', 'Billie Eilish')]"
   ]
  },
  {
   "cell_type": "code",
   "execution_count": null,
   "id": "df3c464b-0312-4bba-ac8b-7c2371da7dbf",
   "metadata": {},
   "outputs": [],
   "source": [
    "player = MusicPlayer(songs)"
   ]
  },
  {
   "cell_type": "code",
   "execution_count": null,
   "id": "d4c0c80d-03ab-4d8a-9530-9c6c05f9c35e",
   "metadata": {},
   "outputs": [
    {
     "name": "stdout",
     "output_type": "stream",
     "text": [
      "Metallica - Eneter Sandman\n",
      "Olivia Rodrigo - Driver licence\n",
      "Billie Eilish - bored\n"
     ]
    }
   ],
   "source": [
    "while player.has_next():\n",
    "    player.next().method()"
   ]
  },
  {
   "cell_type": "markdown",
   "id": "ff9e1de8-f4d0-4914-a3b1-50148375a25d",
   "metadata": {},
   "source": [
    "##### Example 3"
   ]
  },
  {
   "cell_type": "code",
   "execution_count": null,
   "id": "cd85d471-882c-452d-99b0-d4eb83da8409",
   "metadata": {},
   "outputs": [],
   "source": [
    "from collections.abc import Iterable, Iterator\n",
    "from typing import Any, List"
   ]
  },
  {
   "cell_type": "code",
   "execution_count": null,
   "id": "094e8822-2e39-4c26-bf52-a6875f5ed6ee",
   "metadata": {},
   "outputs": [
    {
     "ename": "NameError",
     "evalue": "name 'List' is not defined",
     "output_type": "error",
     "traceback": [
      "\u001b[0;31m---------------------------------------------------------------------------\u001b[0m",
      "\u001b[0;31mNameError\u001b[0m                                 Traceback (most recent call last)",
      "Input \u001b[0;32mIn [45]\u001b[0m, in \u001b[0;36m<cell line: 1>\u001b[0;34m()\u001b[0m\n\u001b[0;32m----> 1\u001b[0m \u001b[38;5;28;01mclass\u001b[39;00m \u001b[38;5;21;01mWordsCollection\u001b[39;00m(Iterable):\n\u001b[1;32m      2\u001b[0m     \u001b[38;5;28;01mdef\u001b[39;00m \u001b[38;5;21m__init__\u001b[39m(\u001b[38;5;28mself\u001b[39m, collection: List[Any] \u001b[38;5;241m=\u001b[39m []) \u001b[38;5;241m-\u001b[39m\u001b[38;5;241m>\u001b[39m \u001b[38;5;28;01mNone\u001b[39;00m:\n\u001b[1;32m      3\u001b[0m         \u001b[38;5;28mself\u001b[39m\u001b[38;5;241m.\u001b[39m_collection \u001b[38;5;241m=\u001b[39m collection\n",
      "Input \u001b[0;32mIn [45]\u001b[0m, in \u001b[0;36mWordsCollection\u001b[0;34m()\u001b[0m\n\u001b[1;32m      1\u001b[0m \u001b[38;5;28;01mclass\u001b[39;00m \u001b[38;5;21;01mWordsCollection\u001b[39;00m(Iterable):\n\u001b[0;32m----> 2\u001b[0m     \u001b[38;5;28;01mdef\u001b[39;00m \u001b[38;5;21m__init__\u001b[39m(\u001b[38;5;28mself\u001b[39m, collection: \u001b[43mList\u001b[49m[Any] \u001b[38;5;241m=\u001b[39m []) \u001b[38;5;241m-\u001b[39m\u001b[38;5;241m>\u001b[39m \u001b[38;5;28;01mNone\u001b[39;00m:\n\u001b[1;32m      3\u001b[0m         \u001b[38;5;28mself\u001b[39m\u001b[38;5;241m.\u001b[39m_collection \u001b[38;5;241m=\u001b[39m collection\n\u001b[1;32m      5\u001b[0m     \u001b[38;5;28;01mdef\u001b[39;00m \u001b[38;5;21m__iter__\u001b[39m(\u001b[38;5;28mself\u001b[39m) \u001b[38;5;241m-\u001b[39m\u001b[38;5;241m>\u001b[39m AlphabeticalOrderIterator:\n",
      "\u001b[0;31mNameError\u001b[0m: name 'List' is not defined"
     ]
    }
   ],
   "source": [
    "class WordsCollection(Iterable):\n",
    "    def __init__(self, collection: List[Any] = []) -> None:\n",
    "        self._collection = collection\n",
    "    \n",
    "    def __iter__(self) -> AlphabeticalOrderIterator:\n",
    "        return AlphabeticalOrderIterator(self._collection)\n",
    "\n",
    "    def get_reverse_iterator(self) -> AlphabeticalOrderIterator:\n",
    "        return AlphabeticalOrderIterator(self._collection, True)\n",
    "    \n",
    "    def add_item(self, item: Any):\n",
    "        self._collection.append(item)"
   ]
  },
  {
   "cell_type": "code",
   "execution_count": null,
   "id": "8883c953-94fe-469f-b2de-256c5581f941",
   "metadata": {},
   "outputs": [
    {
     "ename": "NameError",
     "evalue": "name 'WordsCollection' is not defined",
     "output_type": "error",
     "traceback": [
      "\u001b[0;31m---------------------------------------------------------------------------\u001b[0m",
      "\u001b[0;31mNameError\u001b[0m                                 Traceback (most recent call last)",
      "Input \u001b[0;32mIn [44]\u001b[0m, in \u001b[0;36m<cell line: 1>\u001b[0;34m()\u001b[0m\n\u001b[0;32m----> 1\u001b[0m \u001b[38;5;28;01mclass\u001b[39;00m \u001b[38;5;21;01mAlphabeticalOrderIterator\u001b[39;00m(Iterator):\n\u001b[1;32m      2\u001b[0m     _position: \u001b[38;5;28mint\u001b[39m \u001b[38;5;241m=\u001b[39m \u001b[38;5;28;01mNone\u001b[39;00m\n\u001b[1;32m      3\u001b[0m     _reverse: \u001b[38;5;28mbool\u001b[39m \u001b[38;5;241m=\u001b[39m \u001b[38;5;28;01mFalse\u001b[39;00m\n",
      "Input \u001b[0;32mIn [44]\u001b[0m, in \u001b[0;36mAlphabeticalOrderIterator\u001b[0;34m()\u001b[0m\n\u001b[1;32m      2\u001b[0m _position: \u001b[38;5;28mint\u001b[39m \u001b[38;5;241m=\u001b[39m \u001b[38;5;28;01mNone\u001b[39;00m\n\u001b[1;32m      3\u001b[0m _reverse: \u001b[38;5;28mbool\u001b[39m \u001b[38;5;241m=\u001b[39m \u001b[38;5;28;01mFalse\u001b[39;00m\n\u001b[0;32m----> 5\u001b[0m \u001b[38;5;28;01mdef\u001b[39;00m \u001b[38;5;21m__init__\u001b[39m(\u001b[38;5;28mself\u001b[39m, collection: \u001b[43mWordsCollection\u001b[49m, reverse: \u001b[38;5;28mbool\u001b[39m \u001b[38;5;241m=\u001b[39m \u001b[38;5;28;01mFalse\u001b[39;00m) \u001b[38;5;241m-\u001b[39m\u001b[38;5;241m>\u001b[39m \u001b[38;5;28;01mNone\u001b[39;00m:\n\u001b[1;32m      6\u001b[0m     \u001b[38;5;28mself\u001b[39m\u001b[38;5;241m.\u001b[39m_collection \u001b[38;5;241m=\u001b[39m collection\n\u001b[1;32m      7\u001b[0m     \u001b[38;5;28mself\u001b[39m\u001b[38;5;241m.\u001b[39m_reverse \u001b[38;5;241m=\u001b[39m reverse\n",
      "\u001b[0;31mNameError\u001b[0m: name 'WordsCollection' is not defined"
     ]
    }
   ],
   "source": [
    "class AlphabeticalOrderIterator(Iterator):\n",
    "    _position: int = None\n",
    "    _reverse: bool = False\n",
    "    \n",
    "    def __init__(self, collection: WordsCollection, reverse: bool = False) -> None:\n",
    "        self._collection = collection\n",
    "        self._reverse = reverse\n",
    "        self._position = -1 if reverse else 0"
   ]
  },
  {
   "cell_type": "code",
   "execution_count": null,
   "id": "52d125a2-df78-4755-90e2-31c4fbc20de7",
   "metadata": {},
   "outputs": [],
   "source": []
  }
 ],
 "metadata": {
  "kernelspec": {
   "display_name": "Python 3 (ipykernel)",
   "language": "python",
   "name": "python3"
  },
  "language_info": {
   "codemirror_mode": {
    "name": "ipython",
    "version": 3
   },
   "file_extension": ".py",
   "mimetype": "text/x-python",
   "name": "python",
   "nbconvert_exporter": "python",
   "pygments_lexer": "ipython3",
   "version": "3.9.13"
  }
 },
 "nbformat": 4,
 "nbformat_minor": 5
}
