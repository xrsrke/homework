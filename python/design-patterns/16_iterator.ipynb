{
 "cells": [
  {
   "cell_type": "markdown",
   "id": "5373e663-edab-49c8-843d-0b8902977fe4",
   "metadata": {},
   "source": [
    "# Iterator"
   ]
  },
  {
   "cell_type": "markdown",
   "id": "ae922ca4-dc4e-4e30-a91c-8bafe954e21f",
   "metadata": {},
   "source": [
    "##### Example"
   ]
  },
  {
   "cell_type": "code",
   "execution_count": 6,
   "id": "5f82f690-99bb-44b5-8552-66efdb85a97a",
   "metadata": {},
   "outputs": [],
   "source": [
    "#     1\n",
    "#   /  \\\n",
    "#  2   3"
   ]
  },
  {
   "cell_type": "code",
   "execution_count": 8,
   "id": "2e666bcd-eb43-4683-b060-bbaa33a5ee65",
   "metadata": {},
   "outputs": [],
   "source": [
    "class Node:\n",
    "    def __init__(self, value, left=None, right=None):\n",
    "        self.value = value\n",
    "        self.left = left\n",
    "        self.right = right\n",
    "        \n",
    "        self.parent = None\n",
    "        \n",
    "        if self.left: self.left.parent = self\n",
    "        if self.right: self.right.parent = self"
   ]
  },
  {
   "cell_type": "code",
   "execution_count": 7,
   "id": "8870c95e-3163-48fc-a8cb-a9048f81c983",
   "metadata": {},
   "outputs": [],
   "source": [
    "class InOrderIterator:\n",
    "    pass"
   ]
  },
  {
   "cell_type": "code",
   "execution_count": 4,
   "id": "dfac1311-7f18-4dec-9425-f8cec06384ad",
   "metadata": {},
   "outputs": [],
   "source": [
    "root = Node(1, Node(2), Node(3))"
   ]
  },
  {
   "cell_type": "code",
   "execution_count": 5,
   "id": "42ff79be-fcc2-4188-bd67-8bb972ca8aec",
   "metadata": {},
   "outputs": [
    {
     "data": {
      "text/plain": [
       "<__main__.Node at 0x7feab9640af0>"
      ]
     },
     "execution_count": 5,
     "metadata": {},
     "output_type": "execute_result"
    }
   ],
   "source": [
    "root"
   ]
  },
  {
   "cell_type": "code",
   "execution_count": null,
   "id": "cbd3fe60-d34d-47d3-ac41-258dbcb99a4e",
   "metadata": {},
   "outputs": [],
   "source": []
  }
 ],
 "metadata": {
  "kernelspec": {
   "display_name": "Python 3 (ipykernel)",
   "language": "python",
   "name": "python3"
  },
  "language_info": {
   "codemirror_mode": {
    "name": "ipython",
    "version": 3
   },
   "file_extension": ".py",
   "mimetype": "text/x-python",
   "name": "python",
   "nbconvert_exporter": "python",
   "pygments_lexer": "ipython3",
   "version": "3.9.13"
  }
 },
 "nbformat": 4,
 "nbformat_minor": 5
}
