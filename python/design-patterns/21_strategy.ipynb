{
 "cells": [
  {
   "cell_type": "markdown",
   "id": "41030b7e-9538-4670-bd0b-f45125a65143",
   "metadata": {},
   "source": [
    "# 21. Strategy"
   ]
  },
  {
   "cell_type": "code",
   "execution_count": null,
   "id": "717c827d-6325-453d-b1d4-9b9ea534ceed",
   "metadata": {},
   "outputs": [],
   "source": [
    "class Ticket:\n",
    "    def process_ticket(self, category: 'str'):\n",
    "        if category == 'one':\n",
    "            ...\n",
    "        elif category == 'two':\n",
    "            ..."
   ]
  },
  {
   "cell_type": "markdown",
   "id": "e10d8e44-5d6d-47ad-9721-7619cd796c4c",
   "metadata": {},
   "source": [
    "Refacotor using the `Strategy Pattern`"
   ]
  },
  {
   "cell_type": "code",
   "execution_count": null,
   "id": "ffb50475-1d3c-40c9-9be7-c507e58bc20e",
   "metadata": {},
   "outputs": [],
   "source": [
    "from abc import ABC, abstractmethod"
   ]
  },
  {
   "cell_type": "code",
   "execution_count": null,
   "id": "39e83d16-844e-42a6-9008-23a3ca147da6",
   "metadata": {},
   "outputs": [],
   "source": [
    "class CategoryStrategy(ABC):\n",
    "    @abstractmethod\n",
    "    def do_process(self):\n",
    "        pass"
   ]
  },
  {
   "cell_type": "code",
   "execution_count": null,
   "id": "909b9a3e-d03f-42a5-bbe4-4673261e84d0",
   "metadata": {},
   "outputs": [],
   "source": [
    "class OneStrategy(CategoryStrategy):\n",
    "    def do_process(self):\n",
    "        ..."
   ]
  },
  {
   "cell_type": "code",
   "execution_count": null,
   "id": "4d80d39f-e05b-4a42-b52c-6852c22e8832",
   "metadata": {},
   "outputs": [],
   "source": [
    "class TwoStrategy(CategoryStrategy):\n",
    "    def do_process(self):\n",
    "        ..."
   ]
  },
  {
   "cell_type": "code",
   "execution_count": null,
   "id": "07be90fb-7c0e-474d-9ac4-5d9159737f41",
   "metadata": {},
   "outputs": [],
   "source": [
    "class Ticket:\n",
    "    def process_ticket(self, category: CategoryStrategy):\n",
    "        category.do_process()"
   ]
  },
  {
   "cell_type": "code",
   "execution_count": null,
   "id": "d053a39b-30ef-443d-94e1-42c7c1454218",
   "metadata": {},
   "outputs": [],
   "source": []
  }
 ],
 "metadata": {
  "kernelspec": {
   "display_name": "Python 3 (ipykernel)",
   "language": "python",
   "name": "python3"
  }
 },
 "nbformat": 4,
 "nbformat_minor": 5
}
