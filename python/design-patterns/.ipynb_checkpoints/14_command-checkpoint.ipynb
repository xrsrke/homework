{
 "cells": [
  {
   "cell_type": "markdown",
   "id": "4f16df77-118f-4c1a-b640-d8f56088ecf9",
   "metadata": {},
   "source": [
    "# 14. Command"
   ]
  },
  {
   "cell_type": "code",
   "execution_count": null,
   "id": "ff04b978-dfd5-46e8-bdc9-ae35968c39a7",
   "metadata": {},
   "outputs": [],
   "source": [
    "class BankAccount:\n",
    "    OVERDRAFT_LIMIT = -500\n",
    "    \n",
    "    def __init__(self, balance=0):\n",
    "        self.balance = balance\n",
    "    \n",
    "    def deposite(self, amount):\n",
    "        self.balance += amount\n",
    "        print(f'Deposited {amount}, new balance = {self.balance}')\n",
    "    \n",
    "    def withdraw(self, amount):\n",
    "        if self.balance - amount >= BankAccount.OVERDRAFT_LIMIT:\n",
    "            self.balance -= amount\n",
    "            print(f'Withdrew {amount}, new balance = {self.balance}')"
   ]
  },
  {
   "cell_type": "code",
   "execution_count": null,
   "id": "7279ba36-5735-4f93-afb4-888ba79fdfe0",
   "metadata": {},
   "outputs": [],
   "source": [
    "from abc import ABC, abstractclassmethod\n",
    "from enum import Enum"
   ]
  },
  {
   "cell_type": "code",
   "execution_count": null,
   "id": "7ec8ce46-3822-45ab-b7c6-4610effec73e",
   "metadata": {},
   "outputs": [],
   "source": [
    "class Command(ABC):\n",
    "    def invoke(self):\n",
    "        pass"
   ]
  },
  {
   "cell_type": "code",
   "execution_count": null,
   "id": "0953a152-fde1-48fd-b274-e8c25788c082",
   "metadata": {},
   "outputs": [],
   "source": [
    "class Action(Enum):\n",
    "    DEPOSITE = 0\n",
    "    WITHDRAW = 1"
   ]
  },
  {
   "cell_type": "code",
   "execution_count": null,
   "id": "6eb2d532-645e-4073-9f05-e6a60df830c5",
   "metadata": {},
   "outputs": [],
   "source": [
    "class BankAccountCommand(Command):\n",
    "    def __init__(self, account, action, amount):\n",
    "        self.account = account\n",
    "        self.action = action\n",
    "        self.amount = amount\n",
    "    \n",
    "    def invoke(self):\n",
    "        if self.action == Action.DEPOSITE:\n",
    "            self.account.deposite(self.amount)\n",
    "        elif self.action == Action.WITHDRAW:\n",
    "            self.account.withdraw(self.amount)"
   ]
  },
  {
   "cell_type": "code",
   "execution_count": null,
   "id": "5bb20c0c-1127-4b3c-a6c8-03464d0377b2",
   "metadata": {},
   "outputs": [],
   "source": [
    "ba = BankAccount()"
   ]
  },
  {
   "cell_type": "code",
   "execution_count": null,
   "id": "2d6c0be2-953b-47b0-9da6-ff5155e8a7b0",
   "metadata": {},
   "outputs": [],
   "source": [
    "cmd = BankAccountCommand(account=ba, action=Action.DEPOSITE, amount=200)"
   ]
  },
  {
   "cell_type": "code",
   "execution_count": null,
   "id": "8d7f0bf2-d55e-485b-a45e-8bcbc728ae1a",
   "metadata": {},
   "outputs": [
    {
     "name": "stdout",
     "output_type": "stream",
     "text": [
      "Deposited 200, new balance = 200\n"
     ]
    }
   ],
   "source": [
    "cmd.invoke()"
   ]
  },
  {
   "cell_type": "markdown",
   "id": "68981661-a905-41bc-a357-6bc0de48eb1a",
   "metadata": {},
   "source": [
    "### Example 1: Bank account (only deposite)"
   ]
  },
  {
   "cell_type": "code",
   "execution_count": null,
   "id": "f1b36684-9804-4151-b5df-9f8fc0998a64",
   "metadata": {},
   "outputs": [],
   "source": [
    "class BankAccount:\n",
    "    def __init__(self, balance=0): self.balance = balance\n",
    "    \n",
    "    def deposite(self, amount):\n",
    "        self.balance += amount\n",
    "        print(f'Deposited {amount}, new balance = {self.balance}')\n",
    "    \n",
    "    def withdraw(self, amount):\n",
    "        self.balance -= amount\n",
    "        print(f'Withdrawed {amount}, new balance = {self.balance}')"
   ]
  },
  {
   "cell_type": "code",
   "execution_count": null,
   "id": "60f38ffe-0a33-4179-a340-3381230df1bb",
   "metadata": {},
   "outputs": [],
   "source": [
    "from abc import ABC, abstractclassmethod\n",
    "\n",
    "class Command(ABC):\n",
    "    @abstractclassmethod\n",
    "    def invoke(self):\n",
    "        pass\n",
    "    @abstractclassmethod\n",
    "    def undo(self):\n",
    "        pass"
   ]
  },
  {
   "cell_type": "markdown",
   "id": "8a8c9abc-5e63-44f8-9122-647087ce12a3",
   "metadata": {},
   "source": [
    "Create a `BankAccountDepositeCommand` as bellow. Appling the `Command Pattern`"
   ]
  },
  {
   "cell_type": "code",
   "execution_count": null,
   "id": "ca1b6865-3c99-45a7-8531-493dd34603dd",
   "metadata": {},
   "outputs": [],
   "source": [
    "class BankAccountDepositeCommand(Command):\n",
    "    def __init__(self, account, amount):\n",
    "        self.account = account\n",
    "        self.amount = amount\n",
    "    \n",
    "    def invoke(self):\n",
    "        self.account.deposite(self.amount)\n",
    "    \n",
    "    def undo(self):\n",
    "        self.account.withdraw(self.amount)"
   ]
  },
  {
   "cell_type": "code",
   "execution_count": null,
   "id": "d9756e65-f48d-4f25-b92d-9965568e2d1d",
   "metadata": {},
   "outputs": [],
   "source": [
    "ba = BankAccount()"
   ]
  },
  {
   "cell_type": "code",
   "execution_count": null,
   "id": "bb62fa59-dd0c-49ad-a475-cb317dff901a",
   "metadata": {},
   "outputs": [],
   "source": [
    "cmd = BankAccountDepositeCommand(account=ba, amount=200)"
   ]
  },
  {
   "cell_type": "code",
   "execution_count": null,
   "id": "d6f08df8-1bcf-43cb-8c2b-27b7fa9ee0f3",
   "metadata": {},
   "outputs": [
    {
     "name": "stdout",
     "output_type": "stream",
     "text": [
      "Deposited 200, new balance = 200\n"
     ]
    }
   ],
   "source": [
    "cmd.invoke()"
   ]
  },
  {
   "cell_type": "code",
   "execution_count": null,
   "id": "dc2a24e2-c3f1-488f-baa9-a4b609c5e194",
   "metadata": {},
   "outputs": [
    {
     "name": "stdout",
     "output_type": "stream",
     "text": [
      "Withdrawed 200, new balance = 0\n"
     ]
    }
   ],
   "source": [
    "cmd.undo()"
   ]
  },
  {
   "cell_type": "code",
   "execution_count": null,
   "id": "8c550f67-15fa-478b-8f5b-92e83df82dcb",
   "metadata": {},
   "outputs": [],
   "source": []
  }
 ],
 "metadata": {
  "kernelspec": {
   "display_name": "Python 3 (ipykernel)",
   "language": "python",
   "name": "python3"
  }
 },
 "nbformat": 4,
 "nbformat_minor": 5
}
