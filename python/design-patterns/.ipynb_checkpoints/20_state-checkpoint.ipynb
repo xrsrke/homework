{
 "cells": [
  {
   "cell_type": "markdown",
   "id": "a83421a0-9610-4f18-84a5-7c6321cf4d3d",
   "metadata": {},
   "source": [
    "# 20. State"
   ]
  },
  {
   "cell_type": "code",
   "execution_count": null,
   "id": "a38dbcb2-0741-4237-b115-62a32e61defb",
   "metadata": {},
   "outputs": [],
   "source": [
    "class Switch:\n",
    "    def __init__(self):\n",
    "        self.state = OffState()"
   ]
  },
  {
   "cell_type": "code",
   "execution_count": null,
   "id": "b268ee96-cba0-4839-827b-234a27a7096a",
   "metadata": {},
   "outputs": [],
   "source": [
    "from abc import ABC"
   ]
  },
  {
   "cell_type": "code",
   "execution_count": null,
   "id": "80492265-7e44-4e4e-b382-53c0ac618e13",
   "metadata": {},
   "outputs": [],
   "source": [
    "class State(ABC):\n",
    "    def on(self, switch):\n",
    "        pass\n",
    "    \n",
    "    def off(self, switch):\n",
    "        pass"
   ]
  },
  {
   "cell_type": "code",
   "execution_count": null,
   "id": "d56323cb-77ea-462a-8fd7-fda93a1768f2",
   "metadata": {},
   "outputs": [],
   "source": [
    "class OnState(State):\n",
    "    def __init__(self):\n",
    "        print('Light turned on')"
   ]
  },
  {
   "cell_type": "code",
   "execution_count": null,
   "id": "a3678be4-d198-4c1e-92f7-32a7d16725a2",
   "metadata": {},
   "outputs": [],
   "source": []
  }
 ],
 "metadata": {
  "kernelspec": {
   "display_name": "Python 3 (ipykernel)",
   "language": "python",
   "name": "python3"
  }
 },
 "nbformat": 4,
 "nbformat_minor": 5
}
