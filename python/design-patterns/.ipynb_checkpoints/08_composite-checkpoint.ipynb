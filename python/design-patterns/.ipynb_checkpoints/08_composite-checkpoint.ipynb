{
 "cells": [
  {
   "cell_type": "markdown",
   "id": "9764e0ed-01b1-4c52-b4e8-77d919edf499",
   "metadata": {},
   "source": [
    "# 8. Composition"
   ]
  },
  {
   "cell_type": "markdown",
   "id": "069e839b-bf11-4ce2-a95d-00e9c108fa2e",
   "metadata": {},
   "source": [
    "### Example 1: Geometric Shape"
   ]
  },
  {
   "cell_type": "code",
   "execution_count": null,
   "id": "2fb6352e-c320-41fb-b17a-67bde381aac1",
   "metadata": {},
   "outputs": [],
   "source": [
    "class GraphicObject:\n",
    "    def __init__(self, color=None):\n",
    "        self.color = color\n",
    "        self.chilren = []\n",
    "        self._name = 'Group'\n",
    "    \n",
    "    @property\n",
    "    def name(self):\n",
    "        return self._name\n",
    "    \n",
    "    def __str__(self):\n",
    "        pass"
   ]
  },
  {
   "cell_type": "markdown",
   "id": "baa50c4c-d714-419a-a3f3-55c7ef0677ef",
   "metadata": {},
   "source": [
    "### Example 2: Neural Network"
   ]
  },
  {
   "cell_type": "code",
   "execution_count": null,
   "id": "908c9c61-a662-4ee7-b996-e9d2437c63f9",
   "metadata": {},
   "outputs": [],
   "source": [
    "class Neuron:\n",
    "    def __init__(self, name):\n",
    "        self.name = name\n",
    "        self.inputs = []\n",
    "        self.outputs = []\n",
    "    \n",
    "    def connect_to(self, other):\n",
    "        self.outputs.append(other)\n",
    "        other.inputs.append(self)\n",
    "    \n",
    "    def __iter__(self):\n",
    "        yield self"
   ]
  },
  {
   "cell_type": "code",
   "execution_count": null,
   "id": "ea4752fa-94b4-48a9-bf46-361467ba27ea",
   "metadata": {},
   "outputs": [],
   "source": [
    "def connect_to(self, other):\n",
    "    if self == other:\n",
    "        return\n",
    "    \n",
    "    for s in self:\n",
    "        for o in other:\n",
    "            s.outputs.append(o)\n",
    "            o.inputs.append(s)"
   ]
  },
  {
   "cell_type": "code",
   "execution_count": null,
   "id": "09bca917-7048-4a31-8676-c39d005621d6",
   "metadata": {},
   "outputs": [],
   "source": [
    "class NeuronLayer(list):\n",
    "    def __init__(self, name, count):\n",
    "        super().__init__()\n",
    "        self.name = name\n",
    "        for x in range(0, count):\n",
    "            self.append(Neuron(f'{name}-{x}'))"
   ]
  },
  {
   "cell_type": "code",
   "execution_count": null,
   "id": "2e6a60a0-e232-4f21-8780-5392b781fb33",
   "metadata": {},
   "outputs": [],
   "source": [
    "Neuron.connect_to = connect_to"
   ]
  },
  {
   "cell_type": "code",
   "execution_count": null,
   "id": "42214221-4694-44d5-a461-56cdc981c4ee",
   "metadata": {},
   "outputs": [],
   "source": [
    "NeuronLayer.connect_to = connect_to"
   ]
  },
  {
   "cell_type": "code",
   "execution_count": null,
   "id": "0272098b-ebbd-4c59-b95d-a3a521fbcde0",
   "metadata": {},
   "outputs": [],
   "source": [
    "neuron1 = Neuron('n1')"
   ]
  },
  {
   "cell_type": "code",
   "execution_count": null,
   "id": "7e014e77-f146-4aa8-aeb1-672bc4a6ce48",
   "metadata": {},
   "outputs": [],
   "source": [
    "neuron2 = Neuron('n2')"
   ]
  },
  {
   "cell_type": "code",
   "execution_count": null,
   "id": "58d9a324-6d8b-4cef-a397-a3eb86eb3413",
   "metadata": {},
   "outputs": [],
   "source": [
    "neuron1.connect_to(neuron2)"
   ]
  },
  {
   "cell_type": "code",
   "execution_count": null,
   "id": "9fc98da7-3f52-4cf1-b19b-a53f59f0d48e",
   "metadata": {},
   "outputs": [
    {
     "data": {
      "text/plain": [
       "{'name': 'n1', 'inputs': [], 'outputs': [<__main__.Neuron>]}"
      ]
     },
     "execution_count": null,
     "metadata": {},
     "output_type": "execute_result"
    }
   ],
   "source": [
    "neuron1.__dict__"
   ]
  },
  {
   "cell_type": "code",
   "execution_count": null,
   "id": "404e683b-c6b3-43a2-8388-a4fa791e01d4",
   "metadata": {},
   "outputs": [],
   "source": []
  }
 ],
 "metadata": {
  "kernelspec": {
   "display_name": "Python 3 (ipykernel)",
   "language": "python",
   "name": "python3"
  }
 },
 "nbformat": 4,
 "nbformat_minor": 5
}
