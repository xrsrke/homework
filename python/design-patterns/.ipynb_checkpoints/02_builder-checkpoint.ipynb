{
 "cells": [
  {
   "cell_type": "markdown",
   "id": "ca4920c7-a0fd-4abb-9984-1bcc2c6ec636",
   "metadata": {},
   "source": [
    "### Builder Design Patterns"
   ]
  },
  {
   "cell_type": "markdown",
   "id": "dba9e4b2-ea71-4cf1-bce5-02f53cbabc3b",
   "metadata": {},
   "source": [
    "##### Example 1: HTML"
   ]
  },
  {
   "cell_type": "code",
   "execution_count": null,
   "id": "0da3bda4-a0ff-4364-9e48-bb8c689732f2",
   "metadata": {},
   "outputs": [],
   "source": [
    "text = 'hello'"
   ]
  },
  {
   "cell_type": "code",
   "execution_count": null,
   "id": "b6f2073f-a436-49c1-af3d-d6daf1404f23",
   "metadata": {},
   "outputs": [],
   "source": [
    "parts = ['<p>', text, '</p>']"
   ]
  },
  {
   "cell_type": "code",
   "execution_count": null,
   "id": "3d8d14e3-5b41-45cc-b13d-50a71b642fab",
   "metadata": {},
   "outputs": [
    {
     "name": "stdout",
     "output_type": "stream",
     "text": [
      "<p>hello</p>\n"
     ]
    }
   ],
   "source": [
    "print(''.join(parts))"
   ]
  },
  {
   "cell_type": "code",
   "execution_count": null,
   "id": "adf74696-9a90-4144-b691-e482272a8208",
   "metadata": {},
   "outputs": [],
   "source": [
    "words = ['hello', 'world']"
   ]
  },
  {
   "cell_type": "code",
   "execution_count": null,
   "id": "ed1d20ad-7cf5-4bcb-a6c8-acc966edeec6",
   "metadata": {},
   "outputs": [],
   "source": [
    "parts = ['<ul>']"
   ]
  },
  {
   "cell_type": "code",
   "execution_count": null,
   "id": "1bcd9f37-0e3a-4eff-917e-3b66f7292acc",
   "metadata": {},
   "outputs": [],
   "source": [
    "for w in words:\n",
    "    parts.append(f'<li>{w}</li>')\n",
    "parts.append('</ul>')"
   ]
  },
  {
   "cell_type": "code",
   "execution_count": null,
   "id": "c7e82e7a-d926-4d11-bbe7-7759f459edca",
   "metadata": {},
   "outputs": [
    {
     "data": {
      "text/plain": [
       "'<ul><li>hello</li><li>world</li></ul>'"
      ]
     },
     "execution_count": null,
     "metadata": {},
     "output_type": "execute_result"
    }
   ],
   "source": [
    "''.join(parts)"
   ]
  },
  {
   "cell_type": "code",
   "execution_count": null,
   "id": "20fda4a9-7d24-4eab-86e2-6df60ee10984",
   "metadata": {},
   "outputs": [],
   "source": [
    "class HtmlElement:\n",
    "    indent_size = 2\n",
    "    \n",
    "    def __init__(self, name='', text=''):\n",
    "        self.name = name\n",
    "        self.text = text\n",
    "        self.elements = []"
   ]
  },
  {
   "cell_type": "markdown",
   "id": "e7360554-f238-42cc-86d2-c8e591eb2272",
   "metadata": {},
   "source": [
    "##### Example 2: Create User"
   ]
  },
  {
   "cell_type": "code",
   "execution_count": null,
   "id": "91863118-be0d-49ac-be0e-63b7dcd95b2d",
   "metadata": {},
   "outputs": [],
   "source": [
    "class User:\n",
    "    def __init__(self, name, gender=None, address=None):\n",
    "        self.name = name\n",
    "        self.gender = gender\n",
    "        self.address = address"
   ]
  },
  {
   "cell_type": "code",
   "execution_count": null,
   "id": "063b5976-fa2c-4fae-b902-b1170075dc5f",
   "metadata": {},
   "outputs": [],
   "source": [
    "u = User('Bob', 'male', 'Main street')"
   ]
  },
  {
   "cell_type": "code",
   "execution_count": null,
   "id": "c211cae0-eea2-4ba5-bd70-cf41ed475a91",
   "metadata": {},
   "outputs": [
    {
     "data": {
      "text/plain": [
       "{'name': 'Bob', 'gender': 'male', 'address': 'Main street'}"
      ]
     },
     "execution_count": null,
     "metadata": {},
     "output_type": "execute_result"
    }
   ],
   "source": [
    "u.__dict__"
   ]
  },
  {
   "cell_type": "markdown",
   "id": "a7c6562b-5af3-4ad2-8a74-307736d9c25a",
   "metadata": {},
   "source": [
    "Refactor using the `Build Pattern`"
   ]
  },
  {
   "cell_type": "code",
   "execution_count": null,
   "id": "26ce8156-1cd2-4a38-9c76-7a45eee25024",
   "metadata": {},
   "outputs": [],
   "source": [
    "class User:\n",
    "    def __init__(self, name):\n",
    "        self.name = name\n",
    "        self.gender = None\n",
    "        self.address = None"
   ]
  },
  {
   "cell_type": "code",
   "execution_count": null,
   "id": "06c2dbc1-83ee-4eee-861d-0521d54f60cf",
   "metadata": {},
   "outputs": [],
   "source": [
    "class UserBuilder:\n",
    "    def __init__(self, name):\n",
    "        self.user = User(name)\n",
    "    \n",
    "    def build(self):\n",
    "        return self.user\n",
    "    \n",
    "    def setGender(self, gender):\n",
    "        self.user.gender = gender\n",
    "        return self\n",
    "    \n",
    "    def setAddress(self, address):\n",
    "        self.user.Address = address\n",
    "        return self"
   ]
  },
  {
   "cell_type": "code",
   "execution_count": null,
   "id": "07777427-1221-4726-ad12-3f3ea67803c7",
   "metadata": {},
   "outputs": [],
   "source": [
    "u = UserBuilder('Bob').setGender('male').setAddress('Main street').build()"
   ]
  },
  {
   "cell_type": "code",
   "execution_count": null,
   "id": "70587987-6648-44bd-9588-6b4e06a76a60",
   "metadata": {},
   "outputs": [
    {
     "data": {
      "text/plain": [
       "{'name': 'Bob', 'gender': 'male', 'address': None, 'Address': 'Main street'}"
      ]
     },
     "execution_count": null,
     "metadata": {},
     "output_type": "execute_result"
    }
   ],
   "source": [
    "u.__dict__"
   ]
  },
  {
   "cell_type": "markdown",
   "id": "6a61ef0c-6c4f-4647-98d5-d90b91c308fd",
   "metadata": {},
   "source": [
    "##### Example 3: Create Product with abstractclassmethod"
   ]
  },
  {
   "cell_type": "code",
   "execution_count": null,
   "id": "a95c8859-ffa5-4ebf-b420-0cca40a129fe",
   "metadata": {},
   "outputs": [],
   "source": [
    "from abc import ABC, abstractclassmethod"
   ]
  },
  {
   "cell_type": "code",
   "execution_count": null,
   "id": "94d0a7e8-577b-4184-be46-b9b43f1209a8",
   "metadata": {},
   "outputs": [],
   "source": [
    "class Builder:\n",
    "    @abstractclassmethod\n",
    "    def setColor(self):\n",
    "        pass\n",
    "    \n",
    "    @abstractclassmethod\n",
    "    def setSize(self):\n",
    "        pass\n",
    "    \n",
    "    @abstractclassmethod\n",
    "    def setQuality(self):\n",
    "        pass"
   ]
  },
  {
   "cell_type": "code",
   "execution_count": null,
   "id": "9727df05-eb91-40f6-9a3b-32f69c9c2e37",
   "metadata": {},
   "outputs": [],
   "source": [
    "class BuildProduct(Builder):\n",
    "    def __init__(self):\n",
    "        self.product = Product()\n",
    "    \n",
    "    def setColor(self, color):\n",
    "        self.product.color = color\n",
    "        return self\n",
    "    \n",
    "    def setSize(self, size):\n",
    "        self.product.size = size\n",
    "        return self\n",
    "    \n",
    "    def setQuality(self, quality):\n",
    "        self.product.quality = quality\n",
    "        return self"
   ]
  },
  {
   "cell_type": "code",
   "execution_count": null,
   "id": "a9b24ff5-88e1-4144-8ecd-af62c3bc52da",
   "metadata": {},
   "outputs": [],
   "source": [
    "class Product:\n",
    "    def __init__(self):\n",
    "        self.color, self.size, self.quality = None, None, None"
   ]
  },
  {
   "cell_type": "markdown",
   "id": "b11a442b-fdfa-4fcf-8c95-f0533f2f7301",
   "metadata": {},
   "source": [
    "##### Example 4: Person"
   ]
  },
  {
   "cell_type": "code",
   "execution_count": null,
   "id": "3ed25dfc-292f-4464-b92b-de888afec828",
   "metadata": {},
   "outputs": [],
   "source": [
    "class Person:\n",
    "    def __init__(self):\n",
    "        # address\n",
    "        self.postcode = None\n",
    "        self.city = None\n",
    "        \n",
    "        # employment info\n",
    "        self.company_name = None\n",
    "        self.annual_income = None"
   ]
  },
  {
   "cell_type": "markdown",
   "id": "88845cf6-c018-4dc6-b476-32db35930729",
   "metadata": {},
   "source": [
    "Refactor to the `Builder Patterns`"
   ]
  },
  {
   "cell_type": "code",
   "execution_count": null,
   "id": "11be0e49-af7f-4ae3-8342-bf30a1b85366",
   "metadata": {},
   "outputs": [],
   "source": [
    "class PersonBuilder():\n",
    "    def __init__(self, person = Person()):\n",
    "        self.person = person\n",
    "    \n",
    "    @property\n",
    "    def works(self):\n",
    "        return PersonJobBuilder(self.person)\n",
    "    \n",
    "    @property\n",
    "    def lives(self):\n",
    "        return PersonAddressBuilder(self.person)\n",
    "    \n",
    "    def build(self):\n",
    "        return self.person"
   ]
  },
  {
   "cell_type": "code",
   "execution_count": null,
   "id": "5c84940f-e4d5-4713-908e-ba86465cf531",
   "metadata": {},
   "outputs": [],
   "source": [
    "class PersonJobBuilder(PersonBuilder):\n",
    "    def __init__(self, person):\n",
    "        super().__init__(person)\n",
    "    \n",
    "    def at(self, company_name):\n",
    "        self.person.company_name = company_name\n",
    "        return self\n",
    "        \n",
    "    def earning(self, annual_income):\n",
    "        self.person.annual_income = annual_income\n",
    "        return self"
   ]
  },
  {
   "cell_type": "code",
   "execution_count": null,
   "id": "50eec6bc-b964-4eb2-8917-749076ae43db",
   "metadata": {},
   "outputs": [],
   "source": [
    "class PersonAddressBuilder(PersonBuilder):\n",
    "    def __init__(self, person):\n",
    "        super().__init__(person)\n",
    "    \n",
    "    def with_postcode(self, postcode):\n",
    "        self.person.postcode = postcode\n",
    "        return self\n",
    "    \n",
    "    def in_city(self, city):\n",
    "        self.person.city = city\n",
    "        return self"
   ]
  },
  {
   "cell_type": "code",
   "execution_count": null,
   "id": "bf1402e2-f636-4718-b138-c3f4352744e8",
   "metadata": {},
   "outputs": [],
   "source": [
    "pb = PersonBuilder()"
   ]
  },
  {
   "cell_type": "code",
   "execution_count": null,
   "id": "55a10929-e79f-4662-b98d-607ed6eb2de0",
   "metadata": {},
   "outputs": [],
   "source": [
    "person = pb\\\n",
    "            .lives.in_city('Harare').with_postcode(21341)\\\n",
    "            .works.at('XKR').earning(250000).build()"
   ]
  },
  {
   "cell_type": "code",
   "execution_count": null,
   "id": "6254b22d-ad53-4a26-b240-81d30bbac928",
   "metadata": {},
   "outputs": [
    {
     "data": {
      "text/plain": [
       "{'postcode': 21341,\n",
       " 'city': 'Harare',\n",
       " 'company_name': 'XKR',\n",
       " 'annual_income': 250000}"
      ]
     },
     "execution_count": null,
     "metadata": {},
     "output_type": "execute_result"
    }
   ],
   "source": [
    "person.__dict__"
   ]
  },
  {
   "cell_type": "markdown",
   "id": "d44cdd63-0b68-4492-9adc-c7a7e02b20ef",
   "metadata": {},
   "source": [
    "##### Example 5: Person Builder Inheritance"
   ]
  },
  {
   "cell_type": "code",
   "execution_count": null,
   "id": "0e17e8ef-e25a-4943-8704-fe803453284e",
   "metadata": {},
   "outputs": [],
   "source": [
    "class Person:\n",
    "    def __init__(self):\n",
    "        self.name = None\n",
    "        self.position = None\n",
    "        self.birthday = None\n",
    "    \n",
    "    @staticmethod\n",
    "    def new():\n",
    "        return PersonBuilder()"
   ]
  },
  {
   "cell_type": "code",
   "execution_count": null,
   "id": "1a77432d-fb1e-44a8-b077-66de3e97252f",
   "metadata": {},
   "outputs": [],
   "source": [
    "class PersonBuilder:\n",
    "    def __init__(self):\n",
    "        self.person = Person()\n",
    "    \n",
    "    def build(self):\n",
    "        return self.person"
   ]
  },
  {
   "cell_type": "code",
   "execution_count": null,
   "id": "b229386a-d263-4936-9b23-282ccc0165cd",
   "metadata": {},
   "outputs": [],
   "source": [
    "class PersonInfoBuilder(PersonBuilder):\n",
    "    def called(self, name):\n",
    "        self.perso.name = name\n",
    "        return self"
   ]
  },
  {
   "cell_type": "code",
   "execution_count": null,
   "id": "4f48bef8-f618-444a-9206-ef1c50113eb3",
   "metadata": {},
   "outputs": [],
   "source": [
    " "
   ]
  }
 ],
 "metadata": {
  "kernelspec": {
   "display_name": "Python 3 (ipykernel)",
   "language": "python",
   "name": "python3"
  }
 },
 "nbformat": 4,
 "nbformat_minor": 5
}
