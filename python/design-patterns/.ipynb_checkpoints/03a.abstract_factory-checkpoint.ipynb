{
 "cells": [
  {
   "cell_type": "markdown",
   "id": "31873364-ae94-4d14-8c8c-5aa4d11b25f3",
   "metadata": {},
   "source": [
    "### Abstract Factory"
   ]
  },
  {
   "cell_type": "markdown",
   "id": "4f80e1db-c3e7-4538-b29c-925342c9c2a8",
   "metadata": {},
   "source": [
    "##### Example 1: Furniture"
   ]
  },
  {
   "cell_type": "code",
   "execution_count": null,
   "id": "134ea5a8-4339-49cc-b0f6-9835ca82503f",
   "metadata": {},
   "outputs": [],
   "source": [
    "from abc import ABC, abstractmethod"
   ]
  },
  {
   "cell_type": "code",
   "execution_count": null,
   "id": "6e06bcab-19e2-48c5-a8ab-0401a3e38f70",
   "metadata": {},
   "outputs": [],
   "source": [
    "class AbstractChair(ABC):\n",
    "    @abstractmethod\n",
    "    def sit_on(self): pass"
   ]
  },
  {
   "cell_type": "code",
   "execution_count": null,
   "id": "a02a383d-4e00-45a6-8e60-968eb93b6282",
   "metadata": {},
   "outputs": [],
   "source": [
    "class Chair(AbstractChair):\n",
    "    def sit_on(self): pass"
   ]
  },
  {
   "cell_type": "code",
   "execution_count": null,
   "id": "f6bbfc8f-85e3-4b7b-8c65-dedaed045ab8",
   "metadata": {},
   "outputs": [],
   "source": [
    "class AbstractTable(ABC):\n",
    "    @abstractmethod\n",
    "    def rolling(self): pass"
   ]
  },
  {
   "cell_type": "code",
   "execution_count": null,
   "id": "37010dbd-421b-46c2-a8a0-aef9859da43e",
   "metadata": {},
   "outputs": [],
   "source": [
    "class Table(AbstractTable):\n",
    "    def rolling(self): pass"
   ]
  },
  {
   "cell_type": "code",
   "execution_count": null,
   "id": "7b17bef0-c058-4cd9-b119-c0483844d6da",
   "metadata": {},
   "outputs": [],
   "source": [
    "class AbstractFactory(ABC):\n",
    "    @abstractmethod\n",
    "    def createChair(self) -> Chair:\n",
    "        pass\n",
    "\n",
    "    @abstractmethod\n",
    "    def createTable(self) -> Table:\n",
    "        pass"
   ]
  },
  {
   "cell_type": "code",
   "execution_count": null,
   "id": "86e6e161-5093-478f-a98e-7fa392390fb8",
   "metadata": {},
   "outputs": [],
   "source": [
    "class ColorFactory(AbstractFactory):\n",
    "    def createChair(self):\n",
    "        pass\n",
    "    \n",
    "    def createTable(self):\n",
    "        pass"
   ]
  },
  {
   "cell_type": "code",
   "execution_count": null,
   "id": "6bcef4b4-78e5-4b0e-943e-eb30f7608f10",
   "metadata": {},
   "outputs": [],
   "source": []
  }
 ],
 "metadata": {
  "kernelspec": {
   "display_name": "Python 3 (ipykernel)",
   "language": "python",
   "name": "python3"
  }
 },
 "nbformat": 4,
 "nbformat_minor": 5
}
