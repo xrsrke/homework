{
 "cells": [
  {
   "cell_type": "markdown",
   "id": "31873364-ae94-4d14-8c8c-5aa4d11b25f3",
   "metadata": {},
   "source": [
    "### Abstract Factory"
   ]
  },
  {
   "cell_type": "markdown",
   "id": "4f80e1db-c3e7-4538-b29c-925342c9c2a8",
   "metadata": {},
   "source": [
    "##### Example 1: Furniture"
   ]
  },
  {
   "cell_type": "code",
   "execution_count": null,
   "id": "134ea5a8-4339-49cc-b0f6-9835ca82503f",
   "metadata": {},
   "outputs": [],
   "source": [
    "from abc import ABC, abstractmethod"
   ]
  },
  {
   "cell_type": "code",
   "execution_count": null,
   "id": "6e06bcab-19e2-48c5-a8ab-0401a3e38f70",
   "metadata": {},
   "outputs": [],
   "source": [
    "class AbstractChair(ABC):\n",
    "    @abstractmethod\n",
    "    def sit_on(self): pass"
   ]
  },
  {
   "cell_type": "code",
   "execution_count": null,
   "id": "a02a383d-4e00-45a6-8e60-968eb93b6282",
   "metadata": {},
   "outputs": [],
   "source": [
    "class Chair(AbstractChair):\n",
    "    def sit_on(self): pass"
   ]
  },
  {
   "cell_type": "code",
   "execution_count": null,
   "id": "f6bbfc8f-85e3-4b7b-8c65-dedaed045ab8",
   "metadata": {},
   "outputs": [],
   "source": [
    "class AbstractTable(ABC):\n",
    "    @abstractmethod\n",
    "    def rolling(self): pass"
   ]
  },
  {
   "cell_type": "code",
   "execution_count": null,
   "id": "37010dbd-421b-46c2-a8a0-aef9859da43e",
   "metadata": {},
   "outputs": [],
   "source": [
    "class Table(AbstractTable):\n",
    "    def rolling(self): pass"
   ]
  },
  {
   "cell_type": "code",
   "execution_count": null,
   "id": "7b17bef0-c058-4cd9-b119-c0483844d6da",
   "metadata": {},
   "outputs": [],
   "source": [
    "class AbstractFactory(ABC):\n",
    "    @abstractmethod\n",
    "    def createChair(self) -> Chair:\n",
    "        pass\n",
    "\n",
    "    @abstractmethod\n",
    "    def createTable(self) -> Table:\n",
    "        pass"
   ]
  },
  {
   "cell_type": "code",
   "execution_count": null,
   "id": "86e6e161-5093-478f-a98e-7fa392390fb8",
   "metadata": {},
   "outputs": [],
   "source": [
    "class ColorFactory(AbstractFactory):\n",
    "    def createChair(self):\n",
    "        pass\n",
    "    \n",
    "    def createTable(self):\n",
    "        pass"
   ]
  },
  {
   "cell_type": "markdown",
   "id": "64a35efc-85b1-458e-84a3-afda559318e5",
   "metadata": {},
   "source": [
    "##### Example 2: Video Exporter"
   ]
  },
  {
   "cell_type": "code",
   "execution_count": null,
   "id": "1132c37b-a441-4fd9-8b59-90bfb0ef78d7",
   "metadata": {},
   "outputs": [],
   "source": [
    "from abc import ABC, abstractmethod"
   ]
  },
  {
   "cell_type": "code",
   "execution_count": null,
   "id": "da71e1ad-50ff-474c-ad8d-2b31d213d056",
   "metadata": {},
   "outputs": [],
   "source": [
    "class VideoExporter(ABC):\n",
    "    @abstractmethod\n",
    "    def prepare_export(self):\n",
    "        pass\n",
    "    \n",
    "    @abstractmethod\n",
    "    def do_export(self):\n",
    "        pass"
   ]
  },
  {
   "cell_type": "code",
   "execution_count": null,
   "id": "09149817-fc0e-4ff9-b877-91daaf1e7bcf",
   "metadata": {},
   "outputs": [],
   "source": [
    "class LowVideoExporter(VideoExporter):\n",
    "    def prepare_export(self):\n",
    "        print('Preparing video data in low quality')\n",
    "    \n",
    "    def do_export(self):\n",
    "        print('Exporting video data in low quality')"
   ]
  },
  {
   "cell_type": "code",
   "execution_count": null,
   "id": "e40a84d2-5fbe-4fc7-acca-4e46d7aa7bc4",
   "metadata": {},
   "outputs": [],
   "source": [
    "class HighVideoExporter(VideoExporter):\n",
    "    def prepare_export(self):\n",
    "        print('Preparing video data in high quality')\n",
    "    \n",
    "    def do_export(self):\n",
    "        print('Exporting video data in high quality')"
   ]
  },
  {
   "cell_type": "code",
   "execution_count": null,
   "id": "4f849533-015c-402b-b47a-bf1898c62083",
   "metadata": {},
   "outputs": [],
   "source": [
    "class AudioExporter(ABC):\n",
    "    @abstractmethod\n",
    "    def prepare_export(self):\n",
    "        pass\n",
    "    \n",
    "    @abstractmethod\n",
    "    def do_export(self):\n",
    "        pass"
   ]
  },
  {
   "cell_type": "code",
   "execution_count": null,
   "id": "4ed43d7e-af53-409d-bcc4-6902dd82e8a1",
   "metadata": {},
   "outputs": [],
   "source": [
    "class LowAudioExporter(AudioExporter):\n",
    "    def prepare_export(self):\n",
    "        print('Preparing audio export in low quality')\n",
    "    \n",
    "    def do_export(self):\n",
    "        print('Exporting audio data in low quality')"
   ]
  },
  {
   "cell_type": "code",
   "execution_count": null,
   "id": "728b7b18-cc1d-41c0-bc66-2d16ae19b442",
   "metadata": {},
   "outputs": [],
   "source": [
    "class HighAudioExporter(AudioExporter):\n",
    "    def prepare_export(self):\n",
    "        print('Preparing audio export in high quality')\n",
    "    \n",
    "    def do_export(self):\n",
    "        print('Exporting audio data in high quality')"
   ]
  },
  {
   "cell_type": "code",
   "execution_count": null,
   "id": "5c7706ba-b1c8-4f1a-bae2-93fb9670979e",
   "metadata": {},
   "outputs": [],
   "source": [
    "def export(quality):\n",
    "    if quality == 'low':\n",
    "        video_exporter = LowVideoExporter()\n",
    "        audio_exporter = LowAudioExporter\n",
    "    elif quality == 'high':\n",
    "        video_exporter = HighVideoExporter()\n",
    "        audio_exporter = HighAudioExporter\n",
    "    # maybe more options...\n",
    "    \n",
    "    return video_exporter, audio_exporter"
   ]
  },
  {
   "cell_type": "code",
   "execution_count": null,
   "id": "edc13e71-f774-4775-89d2-f2c8019be3d1",
   "metadata": {},
   "outputs": [
    {
     "data": {
      "text/plain": [
       "(<__main__.LowVideoExporter>, __main__.LowAudioExporter)"
      ]
     },
     "execution_count": null,
     "metadata": {},
     "output_type": "execute_result"
    }
   ],
   "source": [
    "export('low')"
   ]
  },
  {
   "cell_type": "code",
   "execution_count": null,
   "id": "1223a121-6a47-4a6f-bf77-363a3b5020a2",
   "metadata": {},
   "outputs": [],
   "source": []
  }
 ],
 "metadata": {
  "kernelspec": {
   "display_name": "Python 3 (ipykernel)",
   "language": "python",
   "name": "python3"
  }
 },
 "nbformat": 4,
 "nbformat_minor": 5
}
