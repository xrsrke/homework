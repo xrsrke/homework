{
 "cells": [
  {
   "cell_type": "markdown",
   "id": "df2bcec2-2fa0-4be8-a6e0-38b5cbc206ec",
   "metadata": {},
   "source": [
    "# Decorator"
   ]
  },
  {
   "cell_type": "markdown",
   "id": "297a13ad-14b5-47c8-a957-17b235ad6402",
   "metadata": {},
   "source": [
    "##### Example 1: Timing a function"
   ]
  },
  {
   "cell_type": "code",
   "execution_count": 49,
   "id": "6e42d979-009c-4698-8da4-b92005e73c7b",
   "metadata": {},
   "outputs": [],
   "source": [
    "import time"
   ]
  },
  {
   "cell_type": "code",
   "execution_count": 45,
   "id": "4e84f842-bcc6-4ed6-b624-9b3da2cb2e82",
   "metadata": {},
   "outputs": [],
   "source": [
    "def some_operation():\n",
    "    print('starting')\n",
    "    time.sleep(2)\n",
    "    print('done')\n",
    "    return 2"
   ]
  },
  {
   "cell_type": "code",
   "execution_count": 46,
   "id": "f52c3cae-2ab0-4786-b7ab-06ffba320035",
   "metadata": {},
   "outputs": [],
   "source": [
    "def time_it(func):\n",
    "    def wrapper():\n",
    "        start = time.time()\n",
    "        result = func()\n",
    "        end = time.time()\n",
    "        print(f'function took {int((end-start)*1000)} ms')\n",
    "        return result\n",
    "    return wrapper"
   ]
  },
  {
   "cell_type": "code",
   "execution_count": 47,
   "id": "3709ffe8-f17c-4d5e-abf7-2705b1227b99",
   "metadata": {},
   "outputs": [],
   "source": [
    "@time_it\n",
    "def some_operation():\n",
    "    print('starting')\n",
    "    time.sleep(2)\n",
    "    print('done')\n",
    "    return 2"
   ]
  },
  {
   "cell_type": "code",
   "execution_count": 72,
   "id": "2a2478ae-8b5f-4169-8a50-f32f24dbfe6d",
   "metadata": {},
   "outputs": [
    {
     "name": "stdout",
     "output_type": "stream",
     "text": [
      "starting\n",
      "done\n",
      "function took 2004 ms\n"
     ]
    },
    {
     "data": {
      "text/plain": [
       "2"
      ]
     },
     "execution_count": 72,
     "metadata": {},
     "output_type": "execute_result"
    }
   ],
   "source": [
    "some_operation()"
   ]
  },
  {
   "cell_type": "markdown",
   "id": "0a94a409-6092-403d-9a9d-6cc07ce92e00",
   "metadata": {},
   "source": [
    "##### Example 2: Color a shape"
   ]
  },
  {
   "cell_type": "code",
   "execution_count": 131,
   "id": "40ffa581-e213-49b8-8023-22e6ec2beee1",
   "metadata": {},
   "outputs": [],
   "source": [
    "from abc import ABC"
   ]
  },
  {
   "cell_type": "code",
   "execution_count": 132,
   "id": "c05b1005-1c1b-49db-add8-d19e38e9d65e",
   "metadata": {},
   "outputs": [],
   "source": [
    "class Shape(ABC):\n",
    "    def __str__(self):\n",
    "        return ''"
   ]
  },
  {
   "cell_type": "code",
   "execution_count": 133,
   "id": "25da017a-fa11-49bb-bc6a-30a8ce8007a5",
   "metadata": {},
   "outputs": [],
   "source": [
    "class Circle(Shape):\n",
    "    def __init__(self, radius):\n",
    "        self.radius = radius\n",
    "    \n",
    "    def resize(self, factor):\n",
    "        self.radius *= factor"
   ]
  },
  {
   "cell_type": "markdown",
   "id": "130285b6-afc3-4588-bed0-026adcb84e23",
   "metadata": {},
   "source": [
    "Write a `ColorShape` decorator that add color to the shape using `Decorator Pattern`"
   ]
  },
  {
   "cell_type": "code",
   "execution_count": 134,
   "id": "cc424f4a-130b-4448-94a8-e185d44077cc",
   "metadata": {},
   "outputs": [],
   "source": [
    "class ColoredShape(Shape):\n",
    "    def __init__(self, shape, color):\n",
    "        self._shape = shape\n",
    "        self.color = color\n",
    "\n",
    "    def __str__(self): # don't need to implement this\n",
    "        return f'{self._shape.__class__.__name__} has color {self.color}'"
   ]
  },
  {
   "cell_type": "code",
   "execution_count": 135,
   "id": "12935a8b-c305-4f19-8e1e-ba0eba483a58",
   "metadata": {},
   "outputs": [],
   "source": [
    "c = Circle(2)"
   ]
  },
  {
   "cell_type": "code",
   "execution_count": 136,
   "id": "3ec005bd-ab7d-4e4c-baf8-b6fdb59a8493",
   "metadata": {},
   "outputs": [],
   "source": [
    "red_circle = ColoredShape(c, 'red')"
   ]
  },
  {
   "cell_type": "code",
   "execution_count": 137,
   "id": "70a2bbec-23f6-4f91-ac76-e4b3fb2543ac",
   "metadata": {},
   "outputs": [
    {
     "name": "stdout",
     "output_type": "stream",
     "text": [
      "Circle has color red\n"
     ]
    }
   ],
   "source": [
    "print(red_circle)"
   ]
  },
  {
   "cell_type": "markdown",
   "id": "a33947c3-af45-4af2-b4dd-20d1b4725fea",
   "metadata": {},
   "source": [
    "##### Example 3"
   ]
  },
  {
   "cell_type": "code",
   "execution_count": 82,
   "id": "5da32842-af0b-4ba4-977f-5a09ecdcaa96",
   "metadata": {},
   "outputs": [],
   "source": [
    "class FileWithLoggin:\n",
    "    def __init__(self, file):\n",
    "        self.file = file\n",
    "    \n",
    "    def writelines(self, strings):\n",
    "        self.file = writelines() "
   ]
  },
  {
   "cell_type": "code",
   "execution_count": null,
   "id": "5fdbe3f5-c6ec-4f23-a666-77e02d33e559",
   "metadata": {},
   "outputs": [],
   "source": []
  }
 ],
 "metadata": {
  "kernelspec": {
   "display_name": "Python 3 (ipykernel)",
   "language": "python",
   "name": "python3"
  },
  "language_info": {
   "codemirror_mode": {
    "name": "ipython",
    "version": 3
   },
   "file_extension": ".py",
   "mimetype": "text/x-python",
   "name": "python",
   "nbconvert_exporter": "python",
   "pygments_lexer": "ipython3",
   "version": "3.9.13"
  }
 },
 "nbformat": 4,
 "nbformat_minor": 5
}
