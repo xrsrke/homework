{
 "cells": [
  {
   "cell_type": "markdown",
   "id": "a43bcb63-1f13-4dcc-9e88-49e860a28507",
   "metadata": {},
   "source": [
    "# Singleton Pattern"
   ]
  },
  {
   "cell_type": "markdown",
   "id": "56ee26fc-2180-40d6-a2ec-ab8be7b7caf6",
   "metadata": {},
   "source": [
    "##### Example 1: Person"
   ]
  },
  {
   "cell_type": "code",
   "execution_count": null,
   "id": "d3fde03f-36b7-4b80-b61a-f95899f20c16",
   "metadata": {},
   "outputs": [],
   "source": [
    "from abc import ABC, abstractclassmethod"
   ]
  },
  {
   "cell_type": "code",
   "execution_count": null,
   "id": "a21d08e6-dd41-4cb5-9daf-83c58596bfa6",
   "metadata": {},
   "outputs": [],
   "source": [
    "class Person(ABC):\n",
    "    @abstractclassmethod\n",
    "    def get_data():\n",
    "        pass"
   ]
  },
  {
   "cell_type": "code",
   "execution_count": null,
   "id": "21c6f27f-f53e-4d8d-830e-91eec4ef895f",
   "metadata": {},
   "outputs": [],
   "source": [
    "class PersonSingleton(Person):\n",
    "    __instance = None\n",
    "    \n",
    "    @staticmethod\n",
    "    def get_instance():\n",
    "        if PersonSingleton.__instance == None:\n",
    "            pass"
   ]
  },
  {
   "cell_type": "markdown",
   "id": "3eb08bda-294b-4251-8e97-e97f9ff5d029",
   "metadata": {},
   "source": [
    "##### Example 2"
   ]
  },
  {
   "cell_type": "code",
   "execution_count": null,
   "id": "a5c916cb-4a26-4c69-8176-3be8b8f8d9a0",
   "metadata": {},
   "outputs": [],
   "source": [
    "class Database:\n",
    "    _instance = None\n",
    "    \n",
    "    def __init__(self):\n",
    "        if Database._instance != None: return\n",
    "        Database.__instance = self\n",
    "        print('Loading database...')\n",
    "    \n",
    "    @staticmethod\n",
    "    def get_instance():\n",
    "        if Database._instance == None:\n",
    "            Database()\n",
    "        return _instance"
   ]
  },
  {
   "cell_type": "code",
   "execution_count": null,
   "id": "01f00a58-f225-40f6-9695-454c6efa14dd",
   "metadata": {},
   "outputs": [
    {
     "name": "stdout",
     "output_type": "stream",
     "text": [
      "Loading database...\n"
     ]
    }
   ],
   "source": [
    "db1 = Database()"
   ]
  },
  {
   "cell_type": "code",
   "execution_count": null,
   "id": "ce1918d6-f577-476b-aadf-b558160af4bc",
   "metadata": {},
   "outputs": [
    {
     "name": "stdout",
     "output_type": "stream",
     "text": [
      "Loading database...\n"
     ]
    }
   ],
   "source": [
    "db2 = Database()"
   ]
  },
  {
   "cell_type": "code",
   "execution_count": null,
   "id": "57e153dc-cf55-431b-bfb8-68e725ef76ce",
   "metadata": {},
   "outputs": [
    {
     "data": {
      "text/plain": [
       "False"
      ]
     },
     "execution_count": null,
     "metadata": {},
     "output_type": "execute_result"
    }
   ],
   "source": [
    "id(db1) == id(db2)"
   ]
  },
  {
   "cell_type": "code",
   "execution_count": null,
   "id": "eb361041-d3f0-489f-aacf-3e4fe522063f",
   "metadata": {},
   "outputs": [],
   "source": [
    "Database._instance"
   ]
  },
  {
   "cell_type": "markdown",
   "id": "1521e3c8-d4d2-4b63-a661-83de27873c5d",
   "metadata": {},
   "source": [
    "##### Example 3"
   ]
  },
  {
   "cell_type": "code",
   "execution_count": null,
   "id": "d5711bec-df23-4423-b7ba-f9516cfeba9c",
   "metadata": {},
   "outputs": [],
   "source": [
    "class Database(object):\n",
    "    _instance = None\n",
    "\n",
    "    def __new__(cls, *args, **kwargs):\n",
    "        if cls._instance is None:\n",
    "            print('Loading database')\n",
    "            print(f'args={args}')\n",
    "            print(f'kwargs={kwargs}')\n",
    "            cls._instance = super().__new__(cls, *args, **kwargs)\n",
    "            #cls._instance.game = kwargs['server']\n",
    "            # Put any initialization here.\n",
    "        return cls._instance"
   ]
  },
  {
   "cell_type": "code",
   "execution_count": null,
   "id": "60c86a07-0eea-459f-9931-00a08c6942f0",
   "metadata": {},
   "outputs": [],
   "source": [
    "class Database:\n",
    "    pass"
   ]
  },
  {
   "cell_type": "markdown",
   "id": "9d647131-bf94-4511-9101-b517674765de",
   "metadata": {},
   "source": [
    "Refactor using `Singleton Pattern` that works as bellow"
   ]
  },
  {
   "cell_type": "code",
   "execution_count": null,
   "id": "88ce5a7a-8371-4c51-a15f-35ce8237f913",
   "metadata": {},
   "outputs": [],
   "source": [
    "class Database:\n",
    "    \n",
    "    _instance = None\n",
    "    \n",
    "    def __new__(cls):\n",
    "        if not cls._instance:\n",
    "            print('Loading database')\n",
    "            cls._instance = super().__new__(cls)\n",
    "        return cls._instance"
   ]
  },
  {
   "cell_type": "code",
   "execution_count": null,
   "id": "7fb5868a-58ad-4a6c-a537-40cafb5c41e7",
   "metadata": {},
   "outputs": [
    {
     "name": "stdout",
     "output_type": "stream",
     "text": [
      "Loading database\n"
     ]
    }
   ],
   "source": [
    "d1 = Database()"
   ]
  },
  {
   "cell_type": "code",
   "execution_count": null,
   "id": "e264aa52-3ff1-48e6-850b-9338d5fc652f",
   "metadata": {},
   "outputs": [],
   "source": [
    "d2 = Database()"
   ]
  },
  {
   "cell_type": "code",
   "execution_count": null,
   "id": "d3973b69-e894-48de-8502-76b846bbe4eb",
   "metadata": {},
   "outputs": [
    {
     "data": {
      "text/plain": [
       "True"
      ]
     },
     "execution_count": null,
     "metadata": {},
     "output_type": "execute_result"
    }
   ],
   "source": [
    "id(d1) == id(d2)"
   ]
  },
  {
   "cell_type": "markdown",
   "id": "fe65f9a5-ae2b-4a1f-a71e-c3f26fdcefce",
   "metadata": {},
   "source": [
    "##### Example 4: Singleton with decorator"
   ]
  },
  {
   "cell_type": "code",
   "execution_count": null,
   "id": "b47c38da-df7d-434a-834a-449aedfe9e1c",
   "metadata": {},
   "outputs": [],
   "source": [
    "def singleton(class_):\n",
    "    instances = {}\n",
    "    \n",
    "    def get_instance(*args, **kwargs):\n",
    "        if class_ not in instances:\n",
    "            instances[class_] = class_(*args, **kwargs)\n",
    "        \n",
    "    return get_instance"
   ]
  },
  {
   "cell_type": "code",
   "execution_count": null,
   "id": "bb665716-d166-4b06-a451-f11005fea6cc",
   "metadata": {},
   "outputs": [],
   "source": [
    "@singleton\n",
    "class Database:\n",
    "    def __init__(self):\n",
    "        print('Loading database')"
   ]
  },
  {
   "cell_type": "code",
   "execution_count": null,
   "id": "69213e60-de17-4970-bb05-41bd2c34603d",
   "metadata": {},
   "outputs": [
    {
     "name": "stdout",
     "output_type": "stream",
     "text": [
      "Loading database\n"
     ]
    }
   ],
   "source": [
    "d1 = Database()"
   ]
  },
  {
   "cell_type": "code",
   "execution_count": null,
   "id": "de2ead00-9002-4c4b-8631-84a976007b02",
   "metadata": {},
   "outputs": [],
   "source": [
    "d2 = Database()"
   ]
  },
  {
   "cell_type": "code",
   "execution_count": null,
   "id": "29114791-93a8-4107-97fc-1bf60b92bae4",
   "metadata": {},
   "outputs": [
    {
     "data": {
      "text/plain": [
       "4298980320"
      ]
     },
     "execution_count": null,
     "metadata": {},
     "output_type": "execute_result"
    }
   ],
   "source": [
    "id(d1)"
   ]
  },
  {
   "cell_type": "code",
   "execution_count": null,
   "id": "87512ea8-87ed-4dcb-8eec-a88377c80076",
   "metadata": {},
   "outputs": [
    {
     "data": {
      "text/plain": [
       "4298980320"
      ]
     },
     "execution_count": null,
     "metadata": {},
     "output_type": "execute_result"
    }
   ],
   "source": [
    "id(d2)"
   ]
  },
  {
   "cell_type": "markdown",
   "id": "9aaabed7-331c-4819-b307-fea51d36ec00",
   "metadata": {},
   "source": [
    "##### Example 5: Singleton with metaclass"
   ]
  },
  {
   "cell_type": "code",
   "execution_count": null,
   "id": "c38226e1-e2f7-46bc-b85e-884c6688d4ed",
   "metadata": {},
   "outputs": [],
   "source": [
    "class Singleton(type):\n",
    "    _instances = {}\n",
    "    \n",
    "    def __call__(cls, *args, **kwargs):\n",
    "        if cls not in cls._instances:\n",
    "            cls._instances[cls] = super()"
   ]
  },
  {
   "cell_type": "markdown",
   "id": "dcd12d7c-0d84-40c7-a240-769eb63702e2",
   "metadata": {},
   "source": [
    "##### Example 6"
   ]
  },
  {
   "cell_type": "code",
   "execution_count": null,
   "id": "2323b09f-a8a8-4fb0-9461-9f11d72c2701",
   "metadata": {},
   "outputs": [],
   "source": [
    "class Deploy:\n",
    "    __shared_state = {\n",
    "        'name': 'Steave',\n",
    "        'age': 55\n",
    "    }\n",
    "    \n",
    "    def __init__(self):\n",
    "        pass"
   ]
  },
  {
   "cell_type": "code",
   "execution_count": null,
   "id": "0513eb2c-3f2d-4ccd-8ca9-686f51e76743",
   "metadata": {},
   "outputs": [],
   "source": []
  }
 ],
 "metadata": {
  "kernelspec": {
   "display_name": "Python 3 (ipykernel)",
   "language": "python",
   "name": "python3"
  }
 },
 "nbformat": 4,
 "nbformat_minor": 5
}
