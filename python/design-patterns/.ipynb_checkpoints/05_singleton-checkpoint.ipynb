{
 "cells": [
  {
   "cell_type": "markdown",
   "id": "a43bcb63-1f13-4dcc-9e88-49e860a28507",
   "metadata": {},
   "source": [
    "# Singleton Pattern"
   ]
  },
  {
   "cell_type": "markdown",
   "id": "56ee26fc-2180-40d6-a2ec-ab8be7b7caf6",
   "metadata": {},
   "source": [
    "##### Example 1: Person"
   ]
  },
  {
   "cell_type": "code",
   "execution_count": null,
   "id": "d3fde03f-36b7-4b80-b61a-f95899f20c16",
   "metadata": {},
   "outputs": [],
   "source": [
    "from abc import ABC, abstractclassmethod"
   ]
  },
  {
   "cell_type": "code",
   "execution_count": null,
   "id": "a21d08e6-dd41-4cb5-9daf-83c58596bfa6",
   "metadata": {},
   "outputs": [],
   "source": [
    "class Person(ABC):\n",
    "    @abstractclassmethod\n",
    "    def get_data():\n",
    "        pass"
   ]
  },
  {
   "cell_type": "code",
   "execution_count": null,
   "id": "21c6f27f-f53e-4d8d-830e-91eec4ef895f",
   "metadata": {},
   "outputs": [],
   "source": [
    "class PersonSingleton(Person):\n",
    "    __instance = None\n",
    "    \n",
    "    @staticmethod\n",
    "    def get_instance():\n",
    "        if PersonSingleton.__instance == None:\n",
    "            pass"
   ]
  },
  {
   "cell_type": "markdown",
   "id": "1521e3c8-d4d2-4b63-a661-83de27873c5d",
   "metadata": {},
   "source": [
    "##### Example"
   ]
  },
  {
   "cell_type": "code",
   "execution_count": null,
   "id": "88ce5a7a-8371-4c51-a15f-35ce8237f913",
   "metadata": {},
   "outputs": [],
   "source": [
    "class Database:\n",
    "    \n",
    "    _instance = None\n",
    "    \n",
    "    def __new__(cls, *args, **kwargs):\n",
    "        if not cls._instance:\n",
    "            cls._instance = super(Database, cls).__new__(cls, *args, **kwargs)\n",
    "        return cls._instance"
   ]
  },
  {
   "cell_type": "code",
   "execution_count": null,
   "id": "7fb5868a-58ad-4a6c-a537-40cafb5c41e7",
   "metadata": {},
   "outputs": [],
   "source": [
    "d1 = Database()"
   ]
  },
  {
   "cell_type": "code",
   "execution_count": null,
   "id": "86c61a6c-ee3d-4761-87fd-c1d3ebb0ed8f",
   "metadata": {},
   "outputs": [
    {
     "data": {
      "text/plain": [
       "140455639010560"
      ]
     },
     "execution_count": null,
     "metadata": {},
     "output_type": "execute_result"
    }
   ],
   "source": [
    "id(d1)"
   ]
  },
  {
   "cell_type": "code",
   "execution_count": null,
   "id": "e264aa52-3ff1-48e6-850b-9338d5fc652f",
   "metadata": {},
   "outputs": [],
   "source": [
    "d2 = Database()"
   ]
  },
  {
   "cell_type": "code",
   "execution_count": null,
   "id": "d3973b69-e894-48de-8502-76b846bbe4eb",
   "metadata": {},
   "outputs": [
    {
     "data": {
      "text/plain": [
       "140455639010560"
      ]
     },
     "execution_count": null,
     "metadata": {},
     "output_type": "execute_result"
    }
   ],
   "source": [
    "id(d2)"
   ]
  },
  {
   "cell_type": "code",
   "execution_count": null,
   "id": "41749509-b211-4274-99ea-7bdd7bef1115",
   "metadata": {},
   "outputs": [],
   "source": []
  }
 ],
 "metadata": {
  "kernelspec": {
   "display_name": "Python 3 (ipykernel)",
   "language": "python",
   "name": "python3"
  }
 },
 "nbformat": 4,
 "nbformat_minor": 5
}
