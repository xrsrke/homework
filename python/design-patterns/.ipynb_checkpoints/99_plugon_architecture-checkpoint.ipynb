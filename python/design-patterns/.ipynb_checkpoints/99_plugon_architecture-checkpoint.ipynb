{
 "cells": [
  {
   "cell_type": "markdown",
   "id": "0bb4afd6-a60c-4a37-8f3b-fc5dc820b31c",
   "metadata": {},
   "source": [
    "# Plugin Architecture"
   ]
  },
  {
   "cell_type": "code",
   "execution_count": null,
   "id": "8fe1d5bb-9cbd-4164-a869-9031778fae60",
   "metadata": {},
   "outputs": [],
   "source": [
    "from typing import Protocol"
   ]
  },
  {
   "cell_type": "markdown",
   "id": "e6b700f8-5151-4be6-a047-b583f21ac5c3",
   "metadata": {},
   "source": [
    "#### File `example.py`"
   ]
  },
  {
   "cell_type": "code",
   "execution_count": null,
   "id": "2e084588-6d04-4864-aa5e-609095d7b873",
   "metadata": {},
   "outputs": [],
   "source": [
    "from dataclasses import dataclass"
   ]
  },
  {
   "cell_type": "code",
   "execution_count": null,
   "id": "fba36b35-f72e-4b38-80f8-299ba4c5108f",
   "metadata": {},
   "outputs": [],
   "source": [
    "@dataclass\n",
    "class Witcher:\n",
    "    name: str\n",
    "    \n",
    "    def make_a_noise(self):\n",
    "        print(\"Hmm\")"
   ]
  },
  {
   "cell_type": "markdown",
   "id": "8e0d7f7f-9d89-474c-8e9e-7ce45cdd5d00",
   "metadata": {},
   "source": [
    "#### File: `character.py`"
   ]
  },
  {
   "cell_type": "code",
   "execution_count": null,
   "id": "ac7524d4-99c3-409f-a6bd-1b2756ab6f30",
   "metadata": {},
   "outputs": [],
   "source": [
    "class GameCharacter(Protocol):\n",
    "    \n",
    "    def make_a_noise(self) -> None:\n",
    "        pass"
   ]
  },
  {
   "cell_type": "markdown",
   "id": "e6b9b1c7-8f9c-4870-b166-90f12c24fe27",
   "metadata": {},
   "source": [
    "#### File `factory.py`"
   ]
  },
  {
   "cell_type": "code",
   "execution_count": null,
   "id": "fc658a72-a94f-4436-92e7-64b0a69e4c3b",
   "metadata": {},
   "outputs": [],
   "source": [
    "character_creation_funcs = {}"
   ]
  },
  {
   "cell_type": "code",
   "execution_count": null,
   "id": "476fe279-382b-4716-9fa7-a842ab51e063",
   "metadata": {},
   "outputs": [],
   "source": [
    "def register(character_type, func):\n",
    "    character_creation_funcs[character_type] = func"
   ]
  },
  {
   "cell_type": "code",
   "execution_count": null,
   "id": "892ddfa1-3d29-4bd4-8bbf-d00b99c3ae6d",
   "metadata": {},
   "outputs": [],
   "source": [
    "def unregister(character_type):\n",
    "    character_creation_funcs.pop(character_type, None)"
   ]
  },
  {
   "cell_type": "code",
   "execution_count": null,
   "id": "a271291d-9bbe-4fee-8057-214db34e7b5c",
   "metadata": {},
   "outputs": [],
   "source": [
    "def create(arguments: dict) -> GameCharacter:\n",
    "    args_copy = arguments.copy()\n",
    "    character_type = args_copy.pop(\"type\")\n",
    "    \n",
    "    try:\n",
    "        func = character_creation_funcs[character_type]\n",
    "        return func(**args_copy)\n",
    "    except KeyError:\n",
    "        raise ValueError(f\"Unknown charater type {character_type}\")"
   ]
  },
  {
   "cell_type": "code",
   "execution_count": null,
   "id": "8c4202c7-9a2c-45c6-bbb2-8cf00fc155ad",
   "metadata": {},
   "outputs": [],
   "source": []
  },
  {
   "cell_type": "code",
   "execution_count": null,
   "id": "6f476b97-86b4-4689-a5c8-b07061554e5f",
   "metadata": {},
   "outputs": [],
   "source": []
  }
 ],
 "metadata": {
  "kernelspec": {
   "display_name": "Python 3 (ipykernel)",
   "language": "python",
   "name": "python3"
  }
 },
 "nbformat": 4,
 "nbformat_minor": 5
}
