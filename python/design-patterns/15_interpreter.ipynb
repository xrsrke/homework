{
 "cells": [
  {
   "cell_type": "markdown",
   "id": "6cf09f0c-7228-4dc6-9256-77112277cc63",
   "metadata": {},
   "source": [
    "# 15. Interpreter"
   ]
  },
  {
   "cell_type": "code",
   "execution_count": null,
   "id": "a0e90cb0-4fde-4c08-8468-362aa364a168",
   "metadata": {},
   "outputs": [],
   "source": []
  }
 ],
 "metadata": {
  "kernelspec": {
   "display_name": "Python 3 (ipykernel)",
   "language": "python",
   "name": "python3"
  }
 },
 "nbformat": 4,
 "nbformat_minor": 5
}
