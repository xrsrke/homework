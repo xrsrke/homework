{
 "cells": [
  {
   "cell_type": "markdown",
   "id": "4dc32a4d-f726-4257-a661-bf8009050b3b",
   "metadata": {},
   "source": [
    "# Visistor"
   ]
  },
  {
   "cell_type": "markdown",
   "id": "3f4f4b8d-fa7d-4131-851a-05785d3cab33",
   "metadata": {},
   "source": [
    "##### Example 1: Intrusive Visistor"
   ]
  },
  {
   "cell_type": "code",
   "execution_count": null,
   "id": "7d15eb6c-b2ec-4a1a-bed3-4f38152d58ca",
   "metadata": {},
   "outputs": [],
   "source": [
    "class DoubleExpression:\n",
    "    def __init__(self, value):\n",
    "        self.value = value\n",
    "    \n",
    "    def print(self, buffer):\n",
    "        buffer.append(str(self.value))"
   ]
  },
  {
   "cell_type": "code",
   "execution_count": null,
   "id": "f8c62c5f-376c-47fd-bf8f-0e68ac3ad95b",
   "metadata": {},
   "outputs": [],
   "source": [
    "class AdditionExpression:\n",
    "    def __init__(self, left, right):\n",
    "        self.left = left\n",
    "        self.right = right\n",
    "    \n",
    "    def print(self, buffer):\n",
    "        buffer.append('(')\n",
    "        self.left.print(buffer)\n",
    "        buffer.append('+')\n",
    "        self.right.print(buffer)\n",
    "        buffer.append(')')"
   ]
  },
  {
   "cell_type": "code",
   "execution_count": null,
   "id": "851406ec-a226-4dac-ad38-3b68ed62e8af",
   "metadata": {},
   "outputs": [],
   "source": [
    "e = AdditionExpression(\n",
    "    DoubleExpression(1),\n",
    "    AdditionExpression(\n",
    "        DoubleExpression(2),\n",
    "        DoubleExpression(3)\n",
    "    )\n",
    ")"
   ]
  },
  {
   "cell_type": "code",
   "execution_count": null,
   "id": "84d9b392-bfbd-47ca-89fa-526f2d29b460",
   "metadata": {},
   "outputs": [],
   "source": [
    "buffer = []"
   ]
  },
  {
   "cell_type": "code",
   "execution_count": null,
   "id": "22ef6a35-47f5-49c1-8715-314411b84f92",
   "metadata": {},
   "outputs": [],
   "source": [
    "e.print(buffer)"
   ]
  },
  {
   "cell_type": "code",
   "execution_count": null,
   "id": "028eac5b-208a-422f-ab9b-b0db2530185f",
   "metadata": {},
   "outputs": [
    {
     "data": {
      "text/plain": [
       "['(', '1', '+', '(', '2', '+', '3', ')', ')']"
      ]
     },
     "execution_count": null,
     "metadata": {},
     "output_type": "execute_result"
    }
   ],
   "source": [
    "buffer"
   ]
  },
  {
   "cell_type": "markdown",
   "id": "7b0d7644-49ab-4ef3-a3f0-87e4cbfec885",
   "metadata": {},
   "source": [
    "##### Example 2"
   ]
  },
  {
   "cell_type": "code",
   "execution_count": null,
   "id": "d9a2d456-7989-4c6d-929a-68d737f13b01",
   "metadata": {},
   "outputs": [],
   "source": [
    "class DoubleExpression:\n",
    "    def __init__(self, value):\n",
    "        self.value = value"
   ]
  },
  {
   "cell_type": "code",
   "execution_count": null,
   "id": "5da17a06-dd17-446a-b648-afa45d406348",
   "metadata": {},
   "outputs": [],
   "source": [
    "class AdditionExpression:\n",
    "    def __init__(self, left, right):\n",
    "        self.left = left\n",
    "        self.right = right"
   ]
  },
  {
   "cell_type": "code",
   "execution_count": null,
   "id": "a93e7c21-d06f-4ad7-90c3-d3ec6fa737dd",
   "metadata": {},
   "outputs": [],
   "source": [
    "class ExpressionPriter:\n",
    "    @staticmethod\n",
    "    def print(expr, buffer):\n",
    "        if isinstance(e, DoubleExpression):\n",
    "            buffer.append(str(e.value))\n",
    "        elif isinstance(e, AdditionExpression):\n",
    "            buffer.append('(')\n",
    "            ExpressionPriter.print(e.left, buffer)\n",
    "            buffer.append('+')\n",
    "            ExpressionPriter.print(e.right, buffer)\n",
    "            buffer.append(')')"
   ]
  },
  {
   "cell_type": "code",
   "execution_count": null,
   "id": "779718e4-469f-4180-a1b4-1defe6970700",
   "metadata": {},
   "outputs": [],
   "source": [
    "e = AdditionExpression(\n",
    "    DoubleExpression(1),\n",
    "    AdditionExpression(\n",
    "        DoubleExpression(2),\n",
    "        DoubleExpression(3)\n",
    "    )\n",
    ")"
   ]
  },
  {
   "cell_type": "code",
   "execution_count": null,
   "id": "a328b0b9-0c1d-4f82-8002-123db8991c3f",
   "metadata": {},
   "outputs": [],
   "source": [
    "buffer = []"
   ]
  },
  {
   "cell_type": "code",
   "execution_count": null,
   "id": "9ca8d627-8804-4b36-b03e-9bd5f4863fe2",
   "metadata": {},
   "outputs": [
    {
     "ename": "RecursionError",
     "evalue": "maximum recursion depth exceeded while calling a Python object",
     "output_type": "error",
     "traceback": [
      "\u001b[0;31m---------------------------------------------------------------------------\u001b[0m",
      "\u001b[0;31mRecursionError\u001b[0m                            Traceback (most recent call last)",
      "Input \u001b[0;32mIn [45]\u001b[0m, in \u001b[0;36m<cell line: 1>\u001b[0;34m()\u001b[0m\n\u001b[0;32m----> 1\u001b[0m \u001b[43mExpressionPriter\u001b[49m\u001b[38;5;241;43m.\u001b[39;49m\u001b[43mprint\u001b[49m\u001b[43m(\u001b[49m\u001b[43me\u001b[49m\u001b[43m,\u001b[49m\u001b[43m \u001b[49m\u001b[43mbuffer\u001b[49m\u001b[43m)\u001b[49m\n",
      "Input \u001b[0;32mIn [42]\u001b[0m, in \u001b[0;36mExpressionPriter.print\u001b[0;34m(expr, buffer)\u001b[0m\n\u001b[1;32m      6\u001b[0m \u001b[38;5;28;01melif\u001b[39;00m \u001b[38;5;28misinstance\u001b[39m(e, AdditionExpression):\n\u001b[1;32m      7\u001b[0m     buffer\u001b[38;5;241m.\u001b[39mappend(\u001b[38;5;124m'\u001b[39m\u001b[38;5;124m(\u001b[39m\u001b[38;5;124m'\u001b[39m)\n\u001b[0;32m----> 8\u001b[0m     \u001b[43mExpressionPriter\u001b[49m\u001b[38;5;241;43m.\u001b[39;49m\u001b[43mprint\u001b[49m\u001b[43m(\u001b[49m\u001b[43me\u001b[49m\u001b[38;5;241;43m.\u001b[39;49m\u001b[43mleft\u001b[49m\u001b[43m,\u001b[49m\u001b[43m \u001b[49m\u001b[43mbuffer\u001b[49m\u001b[43m)\u001b[49m\n\u001b[1;32m      9\u001b[0m     buffer\u001b[38;5;241m.\u001b[39mappend(\u001b[38;5;124m'\u001b[39m\u001b[38;5;124m+\u001b[39m\u001b[38;5;124m'\u001b[39m)\n\u001b[1;32m     10\u001b[0m     ExpressionPriter\u001b[38;5;241m.\u001b[39mprint(e\u001b[38;5;241m.\u001b[39mright, buffer)\n",
      "Input \u001b[0;32mIn [42]\u001b[0m, in \u001b[0;36mExpressionPriter.print\u001b[0;34m(expr, buffer)\u001b[0m\n\u001b[1;32m      6\u001b[0m \u001b[38;5;28;01melif\u001b[39;00m \u001b[38;5;28misinstance\u001b[39m(e, AdditionExpression):\n\u001b[1;32m      7\u001b[0m     buffer\u001b[38;5;241m.\u001b[39mappend(\u001b[38;5;124m'\u001b[39m\u001b[38;5;124m(\u001b[39m\u001b[38;5;124m'\u001b[39m)\n\u001b[0;32m----> 8\u001b[0m     \u001b[43mExpressionPriter\u001b[49m\u001b[38;5;241;43m.\u001b[39;49m\u001b[43mprint\u001b[49m\u001b[43m(\u001b[49m\u001b[43me\u001b[49m\u001b[38;5;241;43m.\u001b[39;49m\u001b[43mleft\u001b[49m\u001b[43m,\u001b[49m\u001b[43m \u001b[49m\u001b[43mbuffer\u001b[49m\u001b[43m)\u001b[49m\n\u001b[1;32m      9\u001b[0m     buffer\u001b[38;5;241m.\u001b[39mappend(\u001b[38;5;124m'\u001b[39m\u001b[38;5;124m+\u001b[39m\u001b[38;5;124m'\u001b[39m)\n\u001b[1;32m     10\u001b[0m     ExpressionPriter\u001b[38;5;241m.\u001b[39mprint(e\u001b[38;5;241m.\u001b[39mright, buffer)\n",
      "    \u001b[0;31m[... skipping similar frames: ExpressionPriter.print at line 8 (2969 times)]\u001b[0m\n",
      "Input \u001b[0;32mIn [42]\u001b[0m, in \u001b[0;36mExpressionPriter.print\u001b[0;34m(expr, buffer)\u001b[0m\n\u001b[1;32m      6\u001b[0m \u001b[38;5;28;01melif\u001b[39;00m \u001b[38;5;28misinstance\u001b[39m(e, AdditionExpression):\n\u001b[1;32m      7\u001b[0m     buffer\u001b[38;5;241m.\u001b[39mappend(\u001b[38;5;124m'\u001b[39m\u001b[38;5;124m(\u001b[39m\u001b[38;5;124m'\u001b[39m)\n\u001b[0;32m----> 8\u001b[0m     \u001b[43mExpressionPriter\u001b[49m\u001b[38;5;241;43m.\u001b[39;49m\u001b[43mprint\u001b[49m\u001b[43m(\u001b[49m\u001b[43me\u001b[49m\u001b[38;5;241;43m.\u001b[39;49m\u001b[43mleft\u001b[49m\u001b[43m,\u001b[49m\u001b[43m \u001b[49m\u001b[43mbuffer\u001b[49m\u001b[43m)\u001b[49m\n\u001b[1;32m      9\u001b[0m     buffer\u001b[38;5;241m.\u001b[39mappend(\u001b[38;5;124m'\u001b[39m\u001b[38;5;124m+\u001b[39m\u001b[38;5;124m'\u001b[39m)\n\u001b[1;32m     10\u001b[0m     ExpressionPriter\u001b[38;5;241m.\u001b[39mprint(e\u001b[38;5;241m.\u001b[39mright, buffer)\n",
      "Input \u001b[0;32mIn [42]\u001b[0m, in \u001b[0;36mExpressionPriter.print\u001b[0;34m(expr, buffer)\u001b[0m\n\u001b[1;32m      2\u001b[0m \u001b[38;5;129m@staticmethod\u001b[39m\n\u001b[1;32m      3\u001b[0m \u001b[38;5;28;01mdef\u001b[39;00m \u001b[38;5;21mprint\u001b[39m(expr, buffer):\n\u001b[0;32m----> 4\u001b[0m     \u001b[38;5;28;01mif\u001b[39;00m \u001b[38;5;28;43misinstance\u001b[39;49m\u001b[43m(\u001b[49m\u001b[43me\u001b[49m\u001b[43m,\u001b[49m\u001b[43m \u001b[49m\u001b[43mDoubleExpression\u001b[49m\u001b[43m)\u001b[49m:\n\u001b[1;32m      5\u001b[0m         buffer\u001b[38;5;241m.\u001b[39mappend(\u001b[38;5;28mstr\u001b[39m(e\u001b[38;5;241m.\u001b[39mvalue))\n\u001b[1;32m      6\u001b[0m     \u001b[38;5;28;01melif\u001b[39;00m \u001b[38;5;28misinstance\u001b[39m(e, AdditionExpression):\n",
      "\u001b[0;31mRecursionError\u001b[0m: maximum recursion depth exceeded while calling a Python object"
     ]
    }
   ],
   "source": [
    "ExpressionPriter.print(e, buffer)"
   ]
  },
  {
   "cell_type": "markdown",
   "id": "81020de6-7421-4071-b5e8-e9e17f6d18ac",
   "metadata": {},
   "source": [
    "##### Example 3"
   ]
  },
  {
   "cell_type": "code",
   "execution_count": null,
   "id": "dc3eeb2d-2217-45be-af96-3d0251a46379",
   "metadata": {},
   "outputs": [],
   "source": [
    "class Apartment:\n",
    "    def accept(self, visistor):\n",
    "        pass"
   ]
  },
  {
   "cell_type": "code",
   "execution_count": null,
   "id": "8d4e0d35-d767-4375-8ffb-f301e530814b",
   "metadata": {},
   "outputs": [],
   "source": [
    "class Bank:\n",
    "    def accept(self, visitor):\n",
    "        pass"
   ]
  },
  {
   "cell_type": "code",
   "execution_count": null,
   "id": "6de9415f-7b8a-401e-afc7-c0f57b579c25",
   "metadata": {},
   "outputs": [],
   "source": [
    "class CoffeShop:\n",
    "    def accept(self, visitor):\n",
    "        pass"
   ]
  },
  {
   "cell_type": "code",
   "execution_count": null,
   "id": "4f492df4-335a-455a-911d-734f544ea2ef",
   "metadata": {},
   "outputs": [],
   "source": [
    "class InsuranceAgent:\n",
    "    def visit(type_of_organization):\n",
    "        pass"
   ]
  },
  {
   "cell_type": "code",
   "execution_count": null,
   "id": "6ec60f72-12c1-4489-a2e6-68adc0c09531",
   "metadata": {},
   "outputs": [],
   "source": [
    "bank = Bank()"
   ]
  },
  {
   "cell_type": "code",
   "execution_count": null,
   "id": "391abe4b-e6d1-4f3f-8494-326988b5d125",
   "metadata": {},
   "outputs": [],
   "source": [
    "bank.accept(InsuranceAgent)"
   ]
  },
  {
   "cell_type": "code",
   "execution_count": null,
   "id": "65e6652b-3782-4f00-94a7-6d72d5f3860b",
   "metadata": {},
   "outputs": [],
   "source": []
  }
 ],
 "metadata": {
  "kernelspec": {
   "display_name": "Python 3 (ipykernel)",
   "language": "python",
   "name": "python3"
  }
 },
 "nbformat": 4,
 "nbformat_minor": 5
}
