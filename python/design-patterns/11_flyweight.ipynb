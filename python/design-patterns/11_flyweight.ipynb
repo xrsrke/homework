{
 "cells": [
  {
   "cell_type": "markdown",
   "id": "5fdbc7c3-ed90-41f0-bab7-68f008420993",
   "metadata": {},
   "source": [
    "# 11. Flyweight"
   ]
  },
  {
   "cell_type": "markdown",
   "id": "0e17edad-1334-45ad-b9e2-fa29d742f41c",
   "metadata": {},
   "source": [
    "### Example 1: User Names"
   ]
  },
  {
   "cell_type": "code",
   "execution_count": null,
   "id": "fe72fba3-06fa-40a5-932f-a2b45d537deb",
   "metadata": {},
   "outputs": [],
   "source": [
    "class User:\n",
    "    def __init__(self, name):\n",
    "        self.name = name"
   ]
  },
  {
   "cell_type": "code",
   "execution_count": null,
   "id": "99d9d88f-3bfa-40c3-9882-bde5f93d3101",
   "metadata": {},
   "outputs": [],
   "source": [
    "class User2:\n",
    "    string = []\n",
    "    def __init__(self, name):\n",
    "        self.names = [get_or_add(x) for x in full_name.split('')]"
   ]
  },
  {
   "cell_type": "code",
   "execution_count": null,
   "id": "bb554deb-6431-408d-b428-07b8f58d60af",
   "metadata": {},
   "outputs": [],
   "source": [
    "import string\n",
    "import random"
   ]
  },
  {
   "cell_type": "code",
   "execution_count": null,
   "id": "9a086bcd-fa8d-4da8-bf88-4ad1d7528826",
   "metadata": {},
   "outputs": [],
   "source": [
    "def random_str():\n",
    "    chars = string.ascii_lowercase\n",
    "    return ''.join(\n",
    "        [random.choice(chars) for x in range(8)]\n",
    "    )"
   ]
  },
  {
   "cell_type": "code",
   "execution_count": null,
   "id": "29c1560b-5690-425d-8611-f08618e9d7fc",
   "metadata": {},
   "outputs": [],
   "source": [
    "first_names = [random_str() for x in range(100)]"
   ]
  },
  {
   "cell_type": "code",
   "execution_count": null,
   "id": "bf7e9f62-4b29-418a-ace6-dd429534746a",
   "metadata": {},
   "outputs": [],
   "source": [
    "last_names = [random_str() for x in range(100)]"
   ]
  },
  {
   "cell_type": "code",
   "execution_count": null,
   "id": "f493991b-7e08-4506-86f5-f9106e1aee63",
   "metadata": {},
   "outputs": [],
   "source": [
    "users = []\n",
    "\n",
    "for first in first_names:\n",
    "    for last in last_names:\n",
    "        users.append(User(f'{first} {last}'))"
   ]
  },
  {
   "cell_type": "code",
   "execution_count": null,
   "id": "9bd2cb83-d50b-41c7-b728-41a5cd224e22",
   "metadata": {},
   "outputs": [
    {
     "data": {
      "text/plain": [
       "10000"
      ]
     },
     "execution_count": null,
     "metadata": {},
     "output_type": "execute_result"
    }
   ],
   "source": [
    "len(users)"
   ]
  },
  {
   "cell_type": "code",
   "execution_count": null,
   "id": "0c22530f-e4fd-4bce-9578-bbb7d44245bd",
   "metadata": {},
   "outputs": [],
   "source": []
  }
 ],
 "metadata": {
  "kernelspec": {
   "display_name": "Python 3 (ipykernel)",
   "language": "python",
   "name": "python3"
  }
 },
 "nbformat": 4,
 "nbformat_minor": 5
}
