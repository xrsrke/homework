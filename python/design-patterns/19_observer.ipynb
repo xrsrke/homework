{
 "cells": [
  {
   "cell_type": "markdown",
   "id": "1d64d1c5-3e39-45a2-9f97-890540d7801c",
   "metadata": {},
   "source": [
    "# 19. Observer"
   ]
  },
  {
   "cell_type": "markdown",
   "id": "9657f847-98fb-4ac1-8176-1c7a71f3acaf",
   "metadata": {},
   "source": [
    "##### Example 1: Baby Crying"
   ]
  },
  {
   "cell_type": "code",
   "execution_count": null,
   "id": "6de96400-a25b-42f0-9686-a120387419de",
   "metadata": {},
   "outputs": [],
   "source": [
    "class Baby:\n",
    "    def __init__(self, name):\n",
    "        self.name = name\n",
    "        self.crying = Event()\n",
    "    \n",
    "    def catch_cry(self):\n",
    "        self.crying(self.name)"
   ]
  },
  {
   "cell_type": "code",
   "execution_count": null,
   "id": "c4601b5b-bda6-491f-9ba3-2a3a2fd9e12a",
   "metadata": {},
   "outputs": [],
   "source": [
    "class Event(list):\n",
    "    def __call__(self, *args, **kwargs):\n",
    "        for item in self:\n",
    "            item(*args, **kwargs)"
   ]
  },
  {
   "cell_type": "code",
   "execution_count": null,
   "id": "335780f1-4d66-4875-b18e-7e782e1b04e9",
   "metadata": {},
   "outputs": [],
   "source": [
    "def call_babysitter(name):\n",
    "    print(f'{name} needs a babysitter')"
   ]
  },
  {
   "cell_type": "code",
   "execution_count": null,
   "id": "278a955e-4a8a-482d-8d78-c99e2cae7546",
   "metadata": {},
   "outputs": [],
   "source": [
    "b = Baby('J')"
   ]
  },
  {
   "cell_type": "code",
   "execution_count": null,
   "id": "754711ec-1c5a-4b9c-9bd6-651e4f3aeb96",
   "metadata": {},
   "outputs": [],
   "source": [
    "b.crying.append(call_babysitter)"
   ]
  },
  {
   "cell_type": "code",
   "execution_count": null,
   "id": "2f0490d1-0678-4d4b-a52b-a2bce7d0cc29",
   "metadata": {},
   "outputs": [
    {
     "name": "stdout",
     "output_type": "stream",
     "text": [
      "J needs a babysitter\n"
     ]
    }
   ],
   "source": [
    "b.catch_cry()"
   ]
  },
  {
   "cell_type": "code",
   "execution_count": null,
   "id": "c3464193-fb2d-494a-b3f6-050f84ba3e0d",
   "metadata": {},
   "outputs": [],
   "source": [
    "b.crying.remove(call_babysitter)"
   ]
  },
  {
   "cell_type": "code",
   "execution_count": null,
   "id": "3074da9f-9ebe-4290-a4f6-af59c9a1fa8c",
   "metadata": {},
   "outputs": [],
   "source": [
    "b.catch_cry()"
   ]
  },
  {
   "cell_type": "markdown",
   "id": "38fd72d4-4431-4e50-97b5-f77d62a328a1",
   "metadata": {},
   "source": [
    "##### Example 2: Subscriber"
   ]
  },
  {
   "cell_type": "code",
   "execution_count": null,
   "id": "0738684d-bcf1-4c43-bd7a-226ae7bbb340",
   "metadata": {},
   "outputs": [],
   "source": [
    "from abc import ABC, abstractclassmethod"
   ]
  },
  {
   "cell_type": "code",
   "execution_count": null,
   "id": "d187a623-eb01-45fe-b240-9abf7fc14c41",
   "metadata": {},
   "outputs": [],
   "source": [
    "class Observer(ABC):\n",
    "    @abstractclassmethod\n",
    "    def subscribe(self):\n",
    "        pass\n",
    "    \n",
    "    @abstractclassmethod\n",
    "    def unsubscribe(self):\n",
    "        pass\n",
    "    \n",
    "    @abstractclassmethod\n",
    "    def notify(self):\n",
    "        pass"
   ]
  },
  {
   "cell_type": "code",
   "execution_count": null,
   "id": "4ec8500b-a61e-4bea-bc36-b93a89c67480",
   "metadata": {},
   "outputs": [],
   "source": [
    "def "
   ]
  },
  {
   "cell_type": "markdown",
   "id": "213b3e23-d622-482d-9fbc-7c1440d6e902",
   "metadata": {},
   "source": [
    "##### Example 3: Property Observer"
   ]
  },
  {
   "cell_type": "code",
   "execution_count": null,
   "id": "66533142-266b-4935-b520-6ea1b21411e6",
   "metadata": {},
   "outputs": [],
   "source": [
    "class Event(list):\n",
    "    def __call__(self, *args, **kwargs):\n",
    "        for item in self:\n",
    "            item(*args, **kwargs)"
   ]
  },
  {
   "cell_type": "code",
   "execution_count": null,
   "id": "27e18cfa-3610-401c-8da0-204797ea2a04",
   "metadata": {},
   "outputs": [],
   "source": [
    "class PropertyObservable:\n",
    "    def __init__(self):\n",
    "        self.property_changed = Event()"
   ]
  },
  {
   "cell_type": "code",
   "execution_count": null,
   "id": "3bfd9e74-f882-469d-8e0b-5600686008b2",
   "metadata": {},
   "outputs": [],
   "source": [
    "class Person(PropertyObservable):\n",
    "    def __init__(self, age=0):\n",
    "        super().__init__()\n",
    "        self._age = age\n",
    "    \n",
    "    @property\n",
    "    def age(self):\n",
    "        return self._age\n",
    "    \n",
    "    @age.setter\n",
    "    def age(self, value):\n",
    "        # if self._age == value:\n",
    "        #     return\n",
    "        self._age = value\n",
    "        self.property_changed('age', value)"
   ]
  },
  {
   "cell_type": "code",
   "execution_count": null,
   "id": "b1654f35-ebf3-4ec5-b0f5-321e3046353d",
   "metadata": {},
   "outputs": [],
   "source": [
    "class Police:    \n",
    "    \n",
    "    def track_person(self, person, func):\n",
    "        self.person = person\n",
    "        self.person.property_changed.append(func)\n",
    "    \n",
    "    def untrack_person(self, person, func):\n",
    "        self.person.property_changed.remove(func)\n",
    "    \n",
    "    def person_changed(self, name, value):\n",
    "        if name == 'age':\n",
    "            if value < 16:\n",
    "                print(\"Sorry, you can't drive\")\n",
    "            else:\n",
    "                print(\"Okay, you can drive now\")\n",
    "                self.untrack_person(self.person_changed)"
   ]
  },
  {
   "cell_type": "code",
   "execution_count": null,
   "id": "f4090d2c-71d2-4d2d-8172-3df2ffc40c98",
   "metadata": {},
   "outputs": [],
   "source": [
    "person = Person()"
   ]
  },
  {
   "cell_type": "code",
   "execution_count": null,
   "id": "19e25c12-e831-4673-ba59-c35e0f2d1079",
   "metadata": {},
   "outputs": [
    {
     "data": {
      "text/plain": [
       "0"
      ]
     },
     "execution_count": null,
     "metadata": {},
     "output_type": "execute_result"
    }
   ],
   "source": [
    "person.age"
   ]
  },
  {
   "cell_type": "code",
   "execution_count": null,
   "id": "3a144b99-c6db-428e-acde-761d49003343",
   "metadata": {},
   "outputs": [],
   "source": [
    "police = Police()"
   ]
  },
  {
   "cell_type": "code",
   "execution_count": null,
   "id": "0113caaa-6e41-4e59-a883-c0886e5e32e0",
   "metadata": {},
   "outputs": [],
   "source": [
    "police.track_person(person, police.track_person)"
   ]
  },
  {
   "cell_type": "code",
   "execution_count": null,
   "id": "28da18d6-e8b9-490e-ae83-421824aaa485",
   "metadata": {},
   "outputs": [
    {
     "name": "stdout",
     "output_type": "stream",
     "text": [
      "Setting age to 14\n"
     ]
    },
    {
     "ename": "AttributeError",
     "evalue": "'str' object has no attribute 'property_changed'",
     "output_type": "error",
     "traceback": [
      "\u001b[0;31m---------------------------------------------------------------------------\u001b[0m",
      "\u001b[0;31mAttributeError\u001b[0m                            Traceback (most recent call last)",
      "Input \u001b[0;32mIn [41]\u001b[0m, in \u001b[0;36m<cell line: 1>\u001b[0;34m()\u001b[0m\n\u001b[1;32m      1\u001b[0m \u001b[38;5;28;01mfor\u001b[39;00m age \u001b[38;5;129;01min\u001b[39;00m \u001b[38;5;28mrange\u001b[39m(\u001b[38;5;241m14\u001b[39m, \u001b[38;5;241m20\u001b[39m):\n\u001b[1;32m      2\u001b[0m     \u001b[38;5;28mprint\u001b[39m(\u001b[38;5;124mf\u001b[39m\u001b[38;5;124m'\u001b[39m\u001b[38;5;124mSetting age to \u001b[39m\u001b[38;5;132;01m{\u001b[39;00mage\u001b[38;5;132;01m}\u001b[39;00m\u001b[38;5;124m'\u001b[39m)\n\u001b[0;32m----> 3\u001b[0m     person\u001b[38;5;241m.\u001b[39mage \u001b[38;5;241m=\u001b[39m age\n",
      "Input \u001b[0;32mIn [11]\u001b[0m, in \u001b[0;36mPerson.age\u001b[0;34m(self, value)\u001b[0m\n\u001b[1;32m     10\u001b[0m \u001b[38;5;129m@age\u001b[39m\u001b[38;5;241m.\u001b[39msetter\n\u001b[1;32m     11\u001b[0m \u001b[38;5;28;01mdef\u001b[39;00m \u001b[38;5;21mage\u001b[39m(\u001b[38;5;28mself\u001b[39m, value):\n\u001b[1;32m     12\u001b[0m     \u001b[38;5;66;03m# if self._age == value:\u001b[39;00m\n\u001b[1;32m     13\u001b[0m     \u001b[38;5;66;03m#     return\u001b[39;00m\n\u001b[1;32m     14\u001b[0m     \u001b[38;5;28mself\u001b[39m\u001b[38;5;241m.\u001b[39m_age \u001b[38;5;241m=\u001b[39m value\n\u001b[0;32m---> 15\u001b[0m     \u001b[38;5;28;43mself\u001b[39;49m\u001b[38;5;241;43m.\u001b[39;49m\u001b[43mproperty_changed\u001b[49m\u001b[43m(\u001b[49m\u001b[38;5;124;43m'\u001b[39;49m\u001b[38;5;124;43mage\u001b[39;49m\u001b[38;5;124;43m'\u001b[39;49m\u001b[43m,\u001b[49m\u001b[43m \u001b[49m\u001b[43mvalue\u001b[49m\u001b[43m)\u001b[49m\n",
      "Input \u001b[0;32mIn [9]\u001b[0m, in \u001b[0;36mEvent.__call__\u001b[0;34m(self, *args, **kwargs)\u001b[0m\n\u001b[1;32m      2\u001b[0m \u001b[38;5;28;01mdef\u001b[39;00m \u001b[38;5;21m__call__\u001b[39m(\u001b[38;5;28mself\u001b[39m, \u001b[38;5;241m*\u001b[39margs, \u001b[38;5;241m*\u001b[39m\u001b[38;5;241m*\u001b[39mkwargs):\n\u001b[1;32m      3\u001b[0m     \u001b[38;5;28;01mfor\u001b[39;00m item \u001b[38;5;129;01min\u001b[39;00m \u001b[38;5;28mself\u001b[39m:\n\u001b[0;32m----> 4\u001b[0m         \u001b[43mitem\u001b[49m\u001b[43m(\u001b[49m\u001b[38;5;241;43m*\u001b[39;49m\u001b[43margs\u001b[49m\u001b[43m,\u001b[49m\u001b[43m \u001b[49m\u001b[38;5;241;43m*\u001b[39;49m\u001b[38;5;241;43m*\u001b[39;49m\u001b[43mkwargs\u001b[49m\u001b[43m)\u001b[49m\n",
      "Input \u001b[0;32mIn [36]\u001b[0m, in \u001b[0;36mPolice.track_person\u001b[0;34m(self, person, func)\u001b[0m\n\u001b[1;32m      3\u001b[0m \u001b[38;5;28;01mdef\u001b[39;00m \u001b[38;5;21mtrack_person\u001b[39m(\u001b[38;5;28mself\u001b[39m, person, func):\n\u001b[1;32m      4\u001b[0m     \u001b[38;5;28mself\u001b[39m\u001b[38;5;241m.\u001b[39mperson \u001b[38;5;241m=\u001b[39m person\n\u001b[0;32m----> 5\u001b[0m     \u001b[38;5;28;43mself\u001b[39;49m\u001b[38;5;241;43m.\u001b[39;49m\u001b[43mperson\u001b[49m\u001b[38;5;241;43m.\u001b[39;49m\u001b[43mproperty_changed\u001b[49m\u001b[38;5;241m.\u001b[39mappend(func)\n",
      "\u001b[0;31mAttributeError\u001b[0m: 'str' object has no attribute 'property_changed'"
     ]
    }
   ],
   "source": [
    "for age in range(14, 20):\n",
    "    print(f'Setting age to {age}')\n",
    "    person.age = age"
   ]
  },
  {
   "cell_type": "markdown",
   "id": "a2565108-d682-474f-91f4-f88c2f843422",
   "metadata": {},
   "source": [
    "##### Example 4: Property Dependencies"
   ]
  },
  {
   "cell_type": "code",
   "execution_count": null,
   "id": "1d95f779-e226-4821-80f3-948100e3bc84",
   "metadata": {},
   "outputs": [],
   "source": [
    "class Person(PropertyObservable):\n",
    "    def __init__(self, age=0):\n",
    "        super().__init__()\n",
    "        self._age = age\n",
    "    \n",
    "    @property\n",
    "    def can_vote(self):\n",
    "        return self._age >= 18\n",
    "    \n",
    "    @property\n",
    "    def age(self):\n",
    "        return self._age\n",
    "    \n",
    "    @age.setter\n",
    "    def age(self, value):\n",
    "        if self._age == value:\n",
    "            return\n",
    "        \n",
    "        old_can_vote = self.can_vote\n",
    "        \n",
    "        self._age = value\n",
    "        self.property_changed('age', value)\n",
    "        \n",
    "        # print(f'old_can_vote={old_can_vote}')\n",
    "        # print(f'can_vote={self.can_vote}')\n",
    "        \n",
    "        if old_can_vote != self.can_vote:\n",
    "            self.property_changed('can_vote', self.can_vote)"
   ]
  },
  {
   "cell_type": "code",
   "execution_count": null,
   "id": "eb53eb1a-3e2e-4712-a1a0-e27c635549de",
   "metadata": {},
   "outputs": [],
   "source": [
    "p = Person()"
   ]
  },
  {
   "cell_type": "code",
   "execution_count": null,
   "id": "6303be70-5d60-4e0e-a229-1521c45442ea",
   "metadata": {},
   "outputs": [],
   "source": [
    "def person_changed(name, value):\n",
    "    if name == 'can_vote':\n",
    "        print(f'voting ability changed to {value}')"
   ]
  },
  {
   "cell_type": "code",
   "execution_count": null,
   "id": "c6a64f8b-ba52-4522-b2e3-107f80e87216",
   "metadata": {},
   "outputs": [],
   "source": [
    "p.property_changed.append(\n",
    "    person_changed\n",
    ")"
   ]
  },
  {
   "cell_type": "code",
   "execution_count": null,
   "id": "4ff25794-a441-4565-8166-593afbfcaef3",
   "metadata": {},
   "outputs": [
    {
     "name": "stdout",
     "output_type": "stream",
     "text": [
      "Setting age to 16\n",
      "Setting age to 17\n",
      "Setting age to 18\n",
      "voting ability changed to True\n",
      "Setting age to 19\n"
     ]
    }
   ],
   "source": [
    "for age in range(16, 20):\n",
    "    print(f'Setting age to {age}')\n",
    "    p.age = age"
   ]
  },
  {
   "cell_type": "markdown",
   "id": "3714a72e-b310-4ef4-9b48-a7a072ff1e1c",
   "metadata": {},
   "source": [
    "##### Example 4: Send Slack message"
   ]
  },
  {
   "cell_type": "code",
   "execution_count": null,
   "id": "6bf4cedd-afe4-43df-a8cd-0de51a185dd2",
   "metadata": {},
   "outputs": [],
   "source": [
    "def create_user(): pass"
   ]
  },
  {
   "cell_type": "code",
   "execution_count": null,
   "id": "55fd2eb3-a66e-4573-af61-4fcafdfb1dc0",
   "metadata": {},
   "outputs": [],
   "source": [
    "def send_slack_message(data): print(\"sent slack message\")"
   ]
  },
  {
   "cell_type": "code",
   "execution_count": null,
   "id": "a050d35a-4cf1-41ed-ac75-88afe034a958",
   "metadata": {},
   "outputs": [],
   "source": [
    "def send_welcome_mail(data): print(\"sent welcome mail\")"
   ]
  },
  {
   "cell_type": "code",
   "execution_count": null,
   "id": "c1d5dc9c-bb1c-461d-8e79-66cfc3a9cdd8",
   "metadata": {},
   "outputs": [],
   "source": [
    "def register_new_user():\n",
    "    user = create_user()\n",
    "    \n",
    "    # additional\n",
    "    send_slack_message()\n",
    "    send_welcome_mail()"
   ]
  },
  {
   "cell_type": "markdown",
   "id": "feb1a2b0-db54-4a6f-ae83-1e1479bd4b63",
   "metadata": {},
   "source": [
    "Refactor using `Observer Pattern`"
   ]
  },
  {
   "cell_type": "code",
   "execution_count": null,
   "id": "9ff61bf0-0dfd-4355-9685-601aa78d11ca",
   "metadata": {},
   "outputs": [],
   "source": [
    "class Event:\n",
    "    def __init__(self):\n",
    "        self._subscribers = dict()\n",
    "    \n",
    "    def subscribe(self, event_type, func):\n",
    "        if not event_type in self._subscribers:\n",
    "            self._subscribers[event_type] = []\n",
    "        \n",
    "        self._subscribers[event_type].append(func)\n",
    "    \n",
    "    def post_event(self, event_type, data):\n",
    "        if not event_type in self._subscribers:\n",
    "            return\n",
    "        \n",
    "        for fn in self._subscribers[event_type]:\n",
    "            fn(data)"
   ]
  },
  {
   "cell_type": "code",
   "execution_count": null,
   "id": "1126b402-05c0-481d-b7b8-64029d66d632",
   "metadata": {},
   "outputs": [],
   "source": [
    "event = Event()"
   ]
  },
  {
   "cell_type": "code",
   "execution_count": null,
   "id": "33a2895a-17ec-448f-b1f1-a3f22de33b07",
   "metadata": {},
   "outputs": [],
   "source": [
    "def setup_slack_event_handlers():\n",
    "    event.subscribe(\"user_register\", send_slack_message)"
   ]
  },
  {
   "cell_type": "code",
   "execution_count": null,
   "id": "649f36d4-3e68-46c4-9e86-cfbb872a8def",
   "metadata": {},
   "outputs": [],
   "source": [
    "def setup_mail_event_handlers():\n",
    "    event.subscribe(\"user_register\", send_welcome_mail)"
   ]
  },
  {
   "cell_type": "code",
   "execution_count": null,
   "id": "d59318e2-be26-4b4e-b828-14c3b8767dca",
   "metadata": {},
   "outputs": [],
   "source": [
    "setup_slack_event_handlers()\n",
    "setup_mail_event_handlers()"
   ]
  },
  {
   "cell_type": "code",
   "execution_count": null,
   "id": "82881220-85c7-4b0a-a414-23c5e6ff2700",
   "metadata": {},
   "outputs": [],
   "source": [
    "def register_new_user():\n",
    "    user = create_user()\n",
    "    \n",
    "    # additional\n",
    "    event.post_event(\"user_register\", user)"
   ]
  },
  {
   "cell_type": "code",
   "execution_count": null,
   "id": "1536895f-1c50-4d70-ae41-9dbb22797d57",
   "metadata": {},
   "outputs": [
    {
     "name": "stdout",
     "output_type": "stream",
     "text": [
      "sent slack message\n",
      "sent welcome mail\n"
     ]
    }
   ],
   "source": [
    "register_new_user()"
   ]
  },
  {
   "cell_type": "code",
   "execution_count": null,
   "id": "ed7974c4-4e77-4fd6-b15b-4a92e7ac0f04",
   "metadata": {},
   "outputs": [],
   "source": []
  }
 ],
 "metadata": {
  "kernelspec": {
   "display_name": "Python 3 (ipykernel)",
   "language": "python",
   "name": "python3"
  },
  "language_info": {
   "codemirror_mode": {
    "name": "ipython",
    "version": 3
   },
   "file_extension": ".py",
   "mimetype": "text/x-python",
   "name": "python",
   "nbconvert_exporter": "python",
   "pygments_lexer": "ipython3",
   "version": "3.9.13"
  }
 },
 "nbformat": 4,
 "nbformat_minor": 5
}
