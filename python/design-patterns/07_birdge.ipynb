{
 "cells": [
  {
   "cell_type": "markdown",
   "id": "de19ee67-0070-4af1-8b60-8197c09677f0",
   "metadata": {},
   "source": [
    "# Bridge"
   ]
  },
  {
   "cell_type": "markdown",
   "id": "3e00aad0-955d-4910-a240-92ee344891c3",
   "metadata": {},
   "source": [
    "##### Example: Draw Circle with difference styles"
   ]
  },
  {
   "cell_type": "code",
   "execution_count": null,
   "id": "a636a05f-8946-4559-ab99-f0d8e80a0cc2",
   "metadata": {},
   "outputs": [],
   "source": [
    "class Renderer(ABC):\n",
    "    def render_circle(self, radius):\n",
    "        pass\n",
    "    \n",
    "    def render_square(self, size):\n",
    "        pass"
   ]
  },
  {
   "cell_type": "code",
   "execution_count": null,
   "id": "6468aed9-e337-44c8-8168-31edd3382c7f",
   "metadata": {},
   "outputs": [],
   "source": [
    "class ColorRender(Renderer):\n",
    "    def render_circle(self, radius):\n",
    "        pass"
   ]
  },
  {
   "cell_type": "code",
   "execution_count": null,
   "id": "ca8a5a1a-3f81-4661-b446-1cf997434074",
   "metadata": {},
   "outputs": [],
   "source": [
    "class GreyRender(Renderer):\n",
    "    def render_circle(self, radius):\n",
    "        pass"
   ]
  },
  {
   "cell_type": "code",
   "execution_count": null,
   "id": "4022e06f-4306-42b0-a829-86d6ecb95dd8",
   "metadata": {},
   "outputs": [],
   "source": [
    "class Shape:\n",
    "    def __init__(self, renderer):\n",
    "        self.renderer = renderer\n",
    "    \n",
    "    def draw(self): pass\n",
    "    \n",
    "    def resize(self): pass"
   ]
  },
  {
   "cell_type": "code",
   "execution_count": null,
   "id": "ab6ac64f-b8d1-4399-9214-3af7ed8ddab2",
   "metadata": {},
   "outputs": [],
   "source": [
    "pass"
   ]
  },
  {
   "cell_type": "markdown",
   "id": "c1c2ba32-1c70-412c-9cd5-47c578f708b9",
   "metadata": {},
   "source": [
    "##### Example 2: Streaming services with difference devices"
   ]
  },
  {
   "cell_type": "code",
   "execution_count": null,
   "id": "affb7fed-0131-4b5d-a88e-2da8aa142d4e",
   "metadata": {},
   "outputs": [],
   "source": [
    "from abc import ABC, abstractclassmethod"
   ]
  },
  {
   "cell_type": "code",
   "execution_count": null,
   "id": "c1932701-7a73-4d80-a688-4e9539de3a7f",
   "metadata": {},
   "outputs": [],
   "source": [
    "class StreamingService(ABC):\n",
    "    @abstractclassmethod\n",
    "    def start_stream():\n",
    "        pass\n",
    "    \n",
    "    @abstractclassmethod\n",
    "    def end_stream():\n",
    "        pass"
   ]
  },
  {
   "cell_type": "code",
   "execution_count": null,
   "id": "2045a6a5-d11f-4004-ae80-54a352fb0c13",
   "metadata": {},
   "outputs": [],
   "source": [
    "class YoutubeStreamingService(StreamingService):\n",
    "    pass"
   ]
  },
  {
   "cell_type": "code",
   "execution_count": null,
   "id": "b0fbbc75-7bce-4c95-9c7d-38746f465397",
   "metadata": {},
   "outputs": [],
   "source": [
    "class TwitchStreamingService(StreamingService):\n",
    "    pass"
   ]
  },
  {
   "cell_type": "code",
   "execution_count": null,
   "id": "a87b0a2c-7a23-4e61-9ddc-209a095894a3",
   "metadata": {},
   "outputs": [],
   "source": []
  }
 ],
 "metadata": {
  "kernelspec": {
   "display_name": "Python 3 (ipykernel)",
   "language": "python",
   "name": "python3"
  },
  "language_info": {
   "codemirror_mode": {
    "name": "ipython",
    "version": 3
   },
   "file_extension": ".py",
   "mimetype": "text/x-python",
   "name": "python",
   "nbconvert_exporter": "python",
   "pygments_lexer": "ipython3",
   "version": "3.9.13"
  }
 },
 "nbformat": 4,
 "nbformat_minor": 5
}
