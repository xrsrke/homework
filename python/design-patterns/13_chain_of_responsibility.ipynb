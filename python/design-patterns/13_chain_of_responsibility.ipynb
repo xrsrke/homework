{
 "cells": [
  {
   "cell_type": "markdown",
   "id": "b64ab41e-fdc5-43d8-ba95-335a8adfd990",
   "metadata": {},
   "source": [
    "# 13. Chain of Responsibility"
   ]
  },
  {
   "cell_type": "code",
   "execution_count": null,
   "id": "2aba1a55-3eeb-43c5-86b8-c500fd84ba8b",
   "metadata": {},
   "outputs": [],
   "source": [
    "class Creature:\n",
    "    def __init__(self, name, attack, defense):\n",
    "        self.name = name\n",
    "        self.attack = attack\n",
    "        self.defense = defense"
   ]
  },
  {
   "cell_type": "markdown",
   "id": "f0286b8d-64f6-4af3-ac0e-7bc1e3405b94",
   "metadata": {},
   "source": [
    "Create these modifiers\n",
    "- `DoubleAttrackModifier` that x2 the creature's attrack\n",
    "- `IncreaseDefenseModifier` that x5 the creature's defense"
   ]
  },
  {
   "cell_type": "code",
   "execution_count": null,
   "id": "c6e3725d-992a-4285-b7a7-45c0cafd01cf",
   "metadata": {},
   "outputs": [],
   "source": [
    "class CreatureModifier:\n",
    "    def __init__(self, creature):\n",
    "        self.creature = creature\n",
    "        self.next_modifier = None\n",
    "    \n",
    "    def add_modifier(self, modifier):\n",
    "        if self.next_modifier:\n",
    "            self.next_modifier.add_modifier(modifier)\n",
    "        else:\n",
    "            self.next_modifier = modifier\n",
    "    \n",
    "    def handle(self):\n",
    "        if self.next_modifier:\n",
    "            self.next_modifier.handle()"
   ]
  },
  {
   "cell_type": "code",
   "execution_count": null,
   "id": "21cf23d7-efc4-4305-b644-9a30a99dcb2e",
   "metadata": {},
   "outputs": [],
   "source": [
    "class DoubleAttrackModifier(CreatureModifier):\n",
    "    def handle(self):\n",
    "        print(F'Doubling {self.creature.name}''s attrack')\n",
    "        self.creature.attack *= 2\n",
    "        super().handle()"
   ]
  },
  {
   "cell_type": "code",
   "execution_count": null,
   "id": "38a40094-2e21-482a-8cee-c14636845c56",
   "metadata": {},
   "outputs": [],
   "source": [
    "class IncreaseDefenseModifier(CreatureModifier):\n",
    "    def handle(self):\n",
    "        print(F'Increasing {self.creature.name}''s attrack')\n",
    "        self.creature.defense *= 5\n",
    "        super().handle()"
   ]
  },
  {
   "cell_type": "code",
   "execution_count": null,
   "id": "f1a4e83d-116b-4d95-9553-8d6a5dd43dfd",
   "metadata": {},
   "outputs": [],
   "source": [
    "goblin = Creature('Goblin', attack=1, defense=1)"
   ]
  },
  {
   "cell_type": "code",
   "execution_count": null,
   "id": "c0d3724a-1599-47c8-8951-2786f54b0661",
   "metadata": {},
   "outputs": [],
   "source": [
    "root = CreatureModifier(goblin)"
   ]
  },
  {
   "cell_type": "code",
   "execution_count": null,
   "id": "d2283db8-fc5b-4c98-81eb-8131f228dcd8",
   "metadata": {},
   "outputs": [],
   "source": [
    "root.add_modifier(DoubleAttrackModifier(goblin))\n",
    "root.add_modifier(IncreaseDefenseModifier(goblin))"
   ]
  },
  {
   "cell_type": "code",
   "execution_count": null,
   "id": "8b2a963f-feae-4c61-a5eb-491d096924ef",
   "metadata": {},
   "outputs": [
    {
     "name": "stdout",
     "output_type": "stream",
     "text": [
      "Doubling Goblins attrack\n",
      "Increasing Goblins attrack\n"
     ]
    }
   ],
   "source": [
    "root.handle()"
   ]
  },
  {
   "cell_type": "code",
   "execution_count": null,
   "id": "2cb7c3a7-c43b-4ab1-9bf4-a7d86eb61143",
   "metadata": {},
   "outputs": [
    {
     "data": {
      "text/plain": [
       "{'name': 'Goblin', 'attack': 2, 'defense': 5}"
      ]
     },
     "execution_count": null,
     "metadata": {},
     "output_type": "execute_result"
    }
   ],
   "source": [
    "goblin.__dict__"
   ]
  }
 ],
 "metadata": {
  "kernelspec": {
   "display_name": "Python 3 (ipykernel)",
   "language": "python",
   "name": "python3"
  }
 },
 "nbformat": 4,
 "nbformat_minor": 5
}
