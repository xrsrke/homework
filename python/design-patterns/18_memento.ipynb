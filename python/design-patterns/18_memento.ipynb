{
 "cells": [
  {
   "cell_type": "markdown",
   "id": "82f0f119-3774-4d01-97d9-d4dc5ead59ed",
   "metadata": {},
   "source": [
    "# 18. Memento"
   ]
  },
  {
   "cell_type": "code",
   "execution_count": null,
   "id": "3e7b208f-49b5-4669-be15-abfd54db52a5",
   "metadata": {},
   "outputs": [],
   "source": [
    "class BankAccount:\n",
    "    def __init__(self, balance=0):\n",
    "        self.balance = balance\n",
    "    \n",
    "    def deposite(self, amount):\n",
    "        self.balance += amount"
   ]
  },
  {
   "cell_type": "code",
   "execution_count": null,
   "id": "6d39ed82-77a1-4b3f-b4e0-d02e0695320f",
   "metadata": {},
   "outputs": [],
   "source": [
    "class BankAccount:\n",
    "    def __init__(self, balance=0):\n",
    "        self.balance = balance\n",
    "    \n",
    "    def deposite(self, amount):\n",
    "        self.balance += amount\n",
    "        return Memento(self.balance)\n",
    "    \n",
    "    def restore(self, memento):\n",
    "        self.balance = memento.balance"
   ]
  },
  {
   "cell_type": "code",
   "execution_count": null,
   "id": "303d3b51-b885-488e-b0de-ecf7fcf85426",
   "metadata": {},
   "outputs": [],
   "source": [
    "class Memento:\n",
    "    def __init__(self, balance):\n",
    "        self.balance = balance"
   ]
  },
  {
   "cell_type": "code",
   "execution_count": null,
   "id": "37577a87-3a79-4dd7-ae73-6f4ab3c22e5f",
   "metadata": {},
   "outputs": [],
   "source": [
    "ba = BankAccount(100)"
   ]
  },
  {
   "cell_type": "code",
   "execution_count": null,
   "id": "975fff58-e785-4752-928a-f6aa0241b58c",
   "metadata": {},
   "outputs": [
    {
     "data": {
      "text/plain": [
       "150"
      ]
     },
     "execution_count": null,
     "metadata": {},
     "output_type": "execute_result"
    }
   ],
   "source": [
    "m1 = ba.deposite(50); ba.balance"
   ]
  },
  {
   "cell_type": "code",
   "execution_count": null,
   "id": "06773362-357f-4067-a051-4505da1ec859",
   "metadata": {},
   "outputs": [
    {
     "data": {
      "text/plain": [
       "175"
      ]
     },
     "execution_count": null,
     "metadata": {},
     "output_type": "execute_result"
    }
   ],
   "source": [
    "m2 = ba.deposite(25); ba.balance"
   ]
  },
  {
   "cell_type": "code",
   "execution_count": null,
   "id": "3feb1124-505e-41f5-8073-1d22be6383ce",
   "metadata": {},
   "outputs": [
    {
     "data": {
      "text/plain": [
       "150"
      ]
     },
     "execution_count": null,
     "metadata": {},
     "output_type": "execute_result"
    }
   ],
   "source": [
    "ba.restore(m1); ba.balance"
   ]
  },
  {
   "cell_type": "code",
   "execution_count": null,
   "id": "d4c38897-7eec-496c-9f6d-37a0069acbfe",
   "metadata": {},
   "outputs": [],
   "source": []
  }
 ],
 "metadata": {
  "kernelspec": {
   "display_name": "Python 3 (ipykernel)",
   "language": "python",
   "name": "python3"
  }
 },
 "nbformat": 4,
 "nbformat_minor": 5
}
