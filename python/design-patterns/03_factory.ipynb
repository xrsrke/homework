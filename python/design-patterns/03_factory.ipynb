{
 "cells": [
  {
   "cell_type": "markdown",
   "id": "74fe3bfb-55ba-4937-b38b-379976775ede",
   "metadata": {},
   "source": [
    "# Factory Pattern"
   ]
  },
  {
   "cell_type": "markdown",
   "id": "9ddbb6a0-b19e-42c7-ab61-3f25f48e705a",
   "metadata": {},
   "source": [
    "##### Example 1"
   ]
  },
  {
   "cell_type": "code",
   "execution_count": null,
   "id": "258e1e52-a169-408a-b66b-a3d55694c398",
   "metadata": {},
   "outputs": [],
   "source": [
    "from math import sin, cos"
   ]
  },
  {
   "cell_type": "code",
   "execution_count": null,
   "id": "7424a0b2-4b37-4708-b3f8-5497558bbd49",
   "metadata": {},
   "outputs": [],
   "source": [
    "class Point:\n",
    "    def __init__(self, a, b, system):\n",
    "        if system == 1:\n",
    "            self.x = a\n",
    "            self.y = b\n",
    "        elif system == 2:\n",
    "            self.x = a * sin(b)\n",
    "            self.y = a * cos(b)"
   ]
  },
  {
   "cell_type": "code",
   "execution_count": null,
   "id": "da91e2ca-e836-43b3-a25d-8ae884d336f1",
   "metadata": {},
   "outputs": [
    {
     "data": {
      "text/plain": [
       "({'x': 2, 'y': 3}, {'x': 0.2822400161197344, 'y': -1.9799849932008908})"
      ]
     },
     "execution_count": null,
     "metadata": {},
     "output_type": "execute_result"
    }
   ],
   "source": [
    "Point(2, 3, 1).__dict__, Point(2, 3, 2).__dict__"
   ]
  },
  {
   "cell_type": "markdown",
   "id": "45a5f87b-d005-49b6-bdc7-3ce7deb493c7",
   "metadata": {},
   "source": [
    "Refactor using the `Factory Pattern`"
   ]
  },
  {
   "cell_type": "code",
   "execution_count": null,
   "id": "cf2f66a3-3b6d-4718-9060-6ea93264c4b5",
   "metadata": {},
   "outputs": [],
   "source": [
    "class Point:\n",
    "    def __init__(self, x, y):\n",
    "        self.x = x\n",
    "        self.y = y"
   ]
  },
  {
   "cell_type": "code",
   "execution_count": null,
   "id": "18a5898d-0244-47b4-8126-838c8820d3c7",
   "metadata": {},
   "outputs": [],
   "source": [
    "class PointFactory:\n",
    "    @staticmethod\n",
    "    def new_cartesian_point(x, y):\n",
    "        return Point(x, y)\n",
    "    \n",
    "    @staticmethod\n",
    "    def new_polar_point(rho, theta):\n",
    "        return Point(rho * sin(theta), rho*cos(theta))"
   ]
  },
  {
   "cell_type": "code",
   "execution_count": null,
   "id": "51b6eb87-6e94-4f13-a0ff-ab83c30fed15",
   "metadata": {},
   "outputs": [
    {
     "data": {
      "text/plain": [
       "({'x': 2, 'y': 3}, {'x': 0.2822400161197344, 'y': -1.9799849932008908})"
      ]
     },
     "execution_count": null,
     "metadata": {},
     "output_type": "execute_result"
    }
   ],
   "source": [
    "PointFactory.new_cartesian_point(2, 3).__dict__, PointFactory.new_polar_point(2, 3).__dict__"
   ]
  },
  {
   "cell_type": "code",
   "execution_count": null,
   "id": "2e22ca5b-c3ca-45d5-a181-adce3aa104aa",
   "metadata": {},
   "outputs": [],
   "source": []
  }
 ],
 "metadata": {
  "kernelspec": {
   "display_name": "Python 3 (ipykernel)",
   "language": "python",
   "name": "python3"
  },
  "language_info": {
   "codemirror_mode": {
    "name": "ipython",
    "version": 3
   },
   "file_extension": ".py",
   "mimetype": "text/x-python",
   "name": "python",
   "nbconvert_exporter": "python",
   "pygments_lexer": "ipython3",
   "version": "3.9.13"
  }
 },
 "nbformat": 4,
 "nbformat_minor": 5
}
