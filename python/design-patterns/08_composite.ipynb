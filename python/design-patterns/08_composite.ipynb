{
 "cells": [
  {
   "cell_type": "markdown",
   "id": "9764e0ed-01b1-4c52-b4e8-77d919edf499",
   "metadata": {},
   "source": [
    "# 8. Composition"
   ]
  },
  {
   "cell_type": "markdown",
   "id": "069e839b-bf11-4ce2-a95d-00e9c108fa2e",
   "metadata": {},
   "source": [
    "### Example 1: Geometric Shape"
   ]
  },
  {
   "cell_type": "code",
   "execution_count": null,
   "id": "2fb6352e-c320-41fb-b17a-67bde381aac1",
   "metadata": {},
   "outputs": [],
   "source": [
    "class GraphicObject:\n",
    "    def __init__(self, color=None):\n",
    "        self.color = color\n",
    "        self.chilren = []\n",
    "        self._name = 'Group'\n",
    "    \n",
    "    @property\n",
    "    def name(self):\n",
    "        return self._name"
   ]
  },
  {
   "cell_type": "markdown",
   "id": "baa50c4c-d714-419a-a3f3-55c7ef0677ef",
   "metadata": {},
   "source": [
    "### Example 2: Neural Network"
   ]
  },
  {
   "cell_type": "code",
   "execution_count": null,
   "id": "908c9c61-a662-4ee7-b996-e9d2437c63f9",
   "metadata": {},
   "outputs": [],
   "source": [
    "class Neuron:\n",
    "    def __init__(self, name):\n",
    "        self.name = name\n",
    "        self.inputs = []\n",
    "        self.outputs = []\n",
    "    \n",
    "    def connect_to(self, other):\n",
    "        self.outputs.append(other)\n",
    "        other.inputs.append(self)\n",
    "    \n",
    "    def __iter__(self):\n",
    "        yield self"
   ]
  },
  {
   "cell_type": "code",
   "execution_count": null,
   "id": "ea4752fa-94b4-48a9-bf46-361467ba27ea",
   "metadata": {},
   "outputs": [],
   "source": [
    "def connect_to(self, other):\n",
    "    if self == other:\n",
    "        return\n",
    "    \n",
    "    for s in self:\n",
    "        for o in other:\n",
    "            s.outputs.append(o)\n",
    "            o.inputs.append(s)"
   ]
  },
  {
   "cell_type": "code",
   "execution_count": null,
   "id": "09bca917-7048-4a31-8676-c39d005621d6",
   "metadata": {},
   "outputs": [],
   "source": [
    "class NeuronLayer(list):\n",
    "    def __init__(self, name, count):\n",
    "        super().__init__()\n",
    "        self.name = name\n",
    "        for x in range(0, count):\n",
    "            self.append(Neuron(f'{name}-{x}'))"
   ]
  },
  {
   "cell_type": "code",
   "execution_count": null,
   "id": "2e6a60a0-e232-4f21-8780-5392b781fb33",
   "metadata": {},
   "outputs": [],
   "source": [
    "Neuron.connect_to = connect_to"
   ]
  },
  {
   "cell_type": "code",
   "execution_count": null,
   "id": "42214221-4694-44d5-a461-56cdc981c4ee",
   "metadata": {},
   "outputs": [],
   "source": [
    "NeuronLayer.connect_to = connect_to"
   ]
  },
  {
   "cell_type": "code",
   "execution_count": null,
   "id": "0272098b-ebbd-4c59-b95d-a3a521fbcde0",
   "metadata": {},
   "outputs": [],
   "source": [
    "neuron1 = Neuron('n1')"
   ]
  },
  {
   "cell_type": "code",
   "execution_count": null,
   "id": "7e014e77-f146-4aa8-aeb1-672bc4a6ce48",
   "metadata": {},
   "outputs": [],
   "source": [
    "neuron2 = Neuron('n2')"
   ]
  },
  {
   "cell_type": "code",
   "execution_count": null,
   "id": "58d9a324-6d8b-4cef-a397-a3eb86eb3413",
   "metadata": {},
   "outputs": [],
   "source": [
    "neuron1.connect_to(neuron2)"
   ]
  },
  {
   "cell_type": "code",
   "execution_count": null,
   "id": "9fc98da7-3f52-4cf1-b19b-a53f59f0d48e",
   "metadata": {},
   "outputs": [
    {
     "data": {
      "text/plain": [
       "{'name': 'n1', 'inputs': [], 'outputs': [<__main__.Neuron>]}"
      ]
     },
     "execution_count": null,
     "metadata": {},
     "output_type": "execute_result"
    }
   ],
   "source": [
    "neuron1.__dict__"
   ]
  },
  {
   "cell_type": "markdown",
   "id": "847435d7-7e77-4a0b-94f2-de91b4624a35",
   "metadata": {},
   "source": [
    "##### Example 3"
   ]
  },
  {
   "cell_type": "code",
   "execution_count": null,
   "id": "1b3f4e9e-3f79-47b9-a50f-bc1f50574e79",
   "metadata": {},
   "outputs": [],
   "source": [
    "from dataclasses import dataclass"
   ]
  },
  {
   "cell_type": "code",
   "execution_count": null,
   "id": "1e2fe56e-080b-4d6f-8fd4-0206ac7ebb72",
   "metadata": {},
   "outputs": [],
   "source": [
    "@dataclass\n",
    "class HourEmployee:\n",
    "    \n",
    "    name: str\n",
    "    id: int\n",
    "    commission: float = 100\n",
    "    contracts_landed = float = 0\n",
    "    pay_rate: float = 0\n",
    "    hours_worked: int = 0\n",
    "    employer_cost: float = 100\n",
    "    \n",
    "    def compute_pay(self) -> float:\n",
    "        pass"
   ]
  },
  {
   "cell_type": "code",
   "execution_count": null,
   "id": "d824eb09-811d-4b5d-aa41-e3e1cb42cfed",
   "metadata": {},
   "outputs": [],
   "source": [
    "@dataclass\n",
    "class SalariedEmployee:\n",
    "    \n",
    "    name: str\n",
    "    id: int\n",
    "    commission: float = 100\n",
    "    contracts_landed = float = 0\n",
    "    monthly_salary: float = 0\n",
    "    percentage: float = 1\n",
    "    \n",
    "    def compute_pay(self) -> float:\n",
    "        pass"
   ]
  },
  {
   "cell_type": "code",
   "execution_count": null,
   "id": "e6cf66f8-6445-40a7-802c-430f91214515",
   "metadata": {},
   "outputs": [],
   "source": [
    "from abc import ABC, abstractmethod\n",
    "from typing import Optional"
   ]
  },
  {
   "cell_type": "code",
   "execution_count": null,
   "id": "28aef53c-3624-4b2a-bbaa-a37abcbe7d2b",
   "metadata": {},
   "outputs": [],
   "source": [
    "@dataclass\n",
    "class Employee(ABC):\n",
    "    name: str\n",
    "    id: int\n",
    "    \n",
    "    @abstractmethod\n",
    "    def compute_pay(self) -> float:\n",
    "        pass"
   ]
  },
  {
   "cell_type": "code",
   "execution_count": null,
   "id": "9cb749de-919d-4d11-9108-8d13b9671e7a",
   "metadata": {},
   "outputs": [],
   "source": [
    "@dataclass\n",
    "class HourEmployee(Employee):\n",
    "\n",
    "    hours_worked: int = 0\n",
    "    \n",
    "    def compute_pay(self) -> float:\n",
    "        pass"
   ]
  },
  {
   "cell_type": "code",
   "execution_count": null,
   "id": "78bd5a5d-2dcb-425d-8563-cde37de0cf74",
   "metadata": {},
   "outputs": [],
   "source": [
    "@dataclass\n",
    "class SalariedEmployee(Employee):\n",
    "\n",
    "    monthly_salary: float = 0\n",
    "    \n",
    "    def compute_pay(self) -> float:\n",
    "        pass"
   ]
  },
  {
   "cell_type": "code",
   "execution_count": null,
   "id": "720e8e82-8a56-4571-b2d8-e8d42aec837b",
   "metadata": {},
   "outputs": [],
   "source": [
    "@dataclass\n",
    "class Commission:\n",
    "    comission: float = 100\n",
    "    contracts_land: float = 0\n",
    "    \n",
    "    def get_payment(self) -> float:\n",
    "        return self.comission * self.contracts_landed"
   ]
  },
  {
   "cell_type": "code",
   "execution_count": null,
   "id": "50cfdaf9-25ad-4846-95cb-f26456d5dcb9",
   "metadata": {},
   "outputs": [],
   "source": [
    "class Contract(ABC):\n",
    "    @abstractmethod\n",
    "    def get_payment(self):\n",
    "        pass"
   ]
  },
  {
   "cell_type": "code",
   "execution_count": null,
   "id": "bfffb9b0-6e07-4d02-bd33-fac3c1836d49",
   "metadata": {},
   "outputs": [],
   "source": [
    "@dataclass\n",
    "class Employee:\n",
    "\n",
    "    id: int\n",
    "    name: str\n",
    "    contract: Contract\n",
    "    commission: Optional[Comission] = None\n",
    "    \n",
    "    def compute_pay(self) -> float:\n",
    "        payout = self.contract.get_payment()\n",
    "    \n",
    "        if self.commission is not None:\n",
    "            payout += self.comission.get_payment()\n",
    "            \n",
    "        return payment"
   ]
  },
  {
   "cell_type": "markdown",
   "id": "a26d93e3-fe73-4d75-b6a7-14ea56b62168",
   "metadata": {},
   "source": [
    "##### Example 5"
   ]
  },
  {
   "cell_type": "code",
   "execution_count": null,
   "id": "30ea1ff9-e906-4612-ae44-ec0d466e57a7",
   "metadata": {},
   "outputs": [],
   "source": [
    "from abc import ABC, abstractmethod, abstractstaticmethod"
   ]
  },
  {
   "cell_type": "code",
   "execution_count": null,
   "id": "81f902de-e525-4115-a6b2-ccc28f979b89",
   "metadata": {},
   "outputs": [],
   "source": [
    "class Department(ABC):\n",
    "    @abstractmethod\n",
    "    def __init__(self, employees):\n",
    "        pass\n",
    "    \n",
    "    @abstractstaticmethod\n",
    "    def print_department():\n",
    "        pass"
   ]
  },
  {
   "cell_type": "code",
   "execution_count": null,
   "id": "a3a3bf6f-75ba-4112-ac22-8c0df440a6f3",
   "metadata": {},
   "outputs": [],
   "source": [
    "class Accounting(Department):\n",
    "    def __init__(self, employees):\n",
    "        self.employees = employees\n",
    "    \n",
    "    def print_department(self):\n",
    "        print(f'Accounting Department: {self.employees}')"
   ]
  },
  {
   "cell_type": "code",
   "execution_count": null,
   "id": "18f73f32-e421-4e80-977b-e23cd89e1636",
   "metadata": {},
   "outputs": [],
   "source": [
    "class Development(Department):\n",
    "    def __init__(self, employees):\n",
    "        self.employees = employees\n",
    "    \n",
    "    def print_department(self):\n",
    "        print(f'Development Department: {self.employees}')"
   ]
  },
  {
   "cell_type": "code",
   "execution_count": null,
   "id": "4ddb4faa-b855-44b2-bc8e-029ce40a2800",
   "metadata": {},
   "outputs": [],
   "source": [
    "class ParentDepartment(Department):\n",
    "    def __init__(self, employees):\n",
    "        self.employees = employees\n",
    "        self.base_employees = employees\n",
    "        self.sub_depts = []\n",
    "    \n",
    "    def add(self, dept):\n",
    "        pass"
   ]
  },
  {
   "cell_type": "markdown",
   "id": "5c7477ae-ad86-40cb-9e5f-2062d7e7a0be",
   "metadata": {},
   "source": [
    "##### Example 6"
   ]
  },
  {
   "cell_type": "code",
   "execution_count": null,
   "id": "12db8594-5fce-4a05-87da-698f83eae1e9",
   "metadata": {},
   "outputs": [],
   "source": [
    "class Screen:\n",
    "    def activate(self):\n",
    "        print('Screen is activated')"
   ]
  },
  {
   "cell_type": "code",
   "execution_count": null,
   "id": "cf5005c2-643d-4538-87ca-8b059a292122",
   "metadata": {},
   "outputs": [],
   "source": [
    "class Keyboard:\n",
    "    def activate(self):\n",
    "        print('Keyboard is activated')"
   ]
  },
  {
   "cell_type": "code",
   "execution_count": null,
   "id": "3a2dceff-9f0e-4536-bf52-74efe2dfb9b1",
   "metadata": {},
   "outputs": [],
   "source": [
    "class OS:\n",
    "    def activate(self):\n",
    "        print('OS is activated')"
   ]
  },
  {
   "cell_type": "code",
   "execution_count": null,
   "id": "09e38b6b-0668-43f9-a3a1-426a23f545e2",
   "metadata": {},
   "outputs": [],
   "source": [
    "class Computer(Screen, Keyboard, OS):\n",
    "    def activate(self):\n",
    "        Screen().activate()\n",
    "        Keyboard().activate()\n",
    "        OS().activate()"
   ]
  },
  {
   "cell_type": "markdown",
   "id": "b920937f-a066-47fc-a0ae-22accc39759c",
   "metadata": {},
   "source": [
    "Refactor using `Composite Pattern`"
   ]
  },
  {
   "cell_type": "code",
   "execution_count": null,
   "id": "ec2ec038-089f-48f2-a803-c3008729fc1b",
   "metadata": {},
   "outputs": [],
   "source": [
    "class Component(ABC):\n",
    "    @abstractmethod\n",
    "    def activate(self):\n",
    "        pass"
   ]
  },
  {
   "cell_type": "code",
   "execution_count": null,
   "id": "395f375e-c568-48d7-b2de-e499f8a240a4",
   "metadata": {},
   "outputs": [],
   "source": [
    "class Screen(Component):\n",
    "    def activate(self):\n",
    "        print('Screen is activated')"
   ]
  },
  {
   "cell_type": "code",
   "execution_count": null,
   "id": "c2354c64-4b88-4634-bc3a-8c4b45522c66",
   "metadata": {},
   "outputs": [],
   "source": [
    "class Keyboard(Component):\n",
    "    def activate(self):\n",
    "        print('Keyboard is activated')"
   ]
  },
  {
   "cell_type": "code",
   "execution_count": null,
   "id": "279a04e5-cbb4-4285-bc4b-b955d60f8f8c",
   "metadata": {},
   "outputs": [],
   "source": [
    "class OS(Component):\n",
    "    def activate(self):\n",
    "        print('OS is activated')"
   ]
  },
  {
   "cell_type": "code",
   "execution_count": null,
   "id": "4a794113-5686-454f-b0f1-60b68cf5fd76",
   "metadata": {},
   "outputs": [],
   "source": [
    "class Computer:\n",
    "    def __init__(self, components):\n",
    "        self._components = components\n",
    "    \n",
    "    def activate(self):\n",
    "        for component in self._components:\n",
    "            component().activate()"
   ]
  },
  {
   "cell_type": "code",
   "execution_count": null,
   "id": "2751cdeb-fb82-4b82-9c94-7a08404dd308",
   "metadata": {},
   "outputs": [],
   "source": [
    "c = Computer(components=[Screen, Keyboard, OS])"
   ]
  },
  {
   "cell_type": "code",
   "execution_count": null,
   "id": "438ecddd-49f7-44f4-9d42-ea1ddb9532f8",
   "metadata": {},
   "outputs": [
    {
     "name": "stdout",
     "output_type": "stream",
     "text": [
      "Screen is activated\n",
      "Keyboard is activated\n",
      "OS is activated\n"
     ]
    }
   ],
   "source": [
    "c.activate()"
   ]
  },
  {
   "cell_type": "markdown",
   "id": "a2934084-2ef4-4050-982f-a7ad41f5537e",
   "metadata": {},
   "source": [
    "##### Example 7"
   ]
  },
  {
   "cell_type": "code",
   "execution_count": null,
   "id": "849447ff-ebc2-4f06-8043-d548bd76899a",
   "metadata": {},
   "outputs": [],
   "source": [
    "class Component(ABC):\n",
    "    @property\n",
    "    def parent(self):\n",
    "        return self._parent\n",
    "    \n",
    "    @parent.setter\n",
    "    def parent(self, parent):\n",
    "        self._parent = parent\n",
    "    \n",
    "    def add(self, component):\n",
    "        pass\n",
    "    \n",
    "    def remove(self, component):\n",
    "        pass\n",
    "    \n",
    "    def is_composite(self):\n",
    "        return False\n",
    "    \n",
    "    @abstractmethod\n",
    "    def operation(self):\n",
    "        pass"
   ]
  },
  {
   "cell_type": "code",
   "execution_count": null,
   "id": "d7485e79-4d4d-40e6-a06a-a04fdb584c8a",
   "metadata": {},
   "outputs": [],
   "source": [
    "class Leaf(Component):\n",
    "    def operation(self):\n",
    "        return 'Leaf'"
   ]
  },
  {
   "cell_type": "code",
   "execution_count": null,
   "id": "246c4865-d6c9-4498-a27a-241df8221195",
   "metadata": {},
   "outputs": [],
   "source": [
    "class Composite(Component):\n",
    "    def __init__(self) -> None:\n",
    "        self._children: List[Component] = []\n",
    "    \n",
    "    def add(self, component) -> None:\n",
    "        self._children.append(component)\n",
    "        component.parent = self\n",
    "    \n",
    "    def remove(self, component: Component) -> None:\n",
    "        self._children.remove(component)\n",
    "        component.parent = None\n",
    "    \n",
    "    def is_composite(self) -> bool:\n",
    "        return True\n",
    "    \n",
    "    def operation(self) -> str:\n",
    "        results = []\n",
    "        for child in self._children:\n",
    "            resulst = "
   ]
  },
  {
   "cell_type": "code",
   "execution_count": null,
   "id": "c063b578-5973-45c1-95df-2604c2db3695",
   "metadata": {},
   "outputs": [],
   "source": []
  }
 ],
 "metadata": {
  "kernelspec": {
   "display_name": "Python 3 (ipykernel)",
   "language": "python",
   "name": "python3"
  }
 },
 "nbformat": 4,
 "nbformat_minor": 5
}
