{
 "cells": [
  {
   "cell_type": "markdown",
   "id": "2a40cdce-261c-42d9-8efc-8cac7ec19be1",
   "metadata": {},
   "source": [
    "### 3. Classes and Pointers"
   ]
  },
  {
   "cell_type": "code",
   "execution_count": 5,
   "id": "8f6ab2c4-8c1d-4524-bb97-9adcbd6fc5cf",
   "metadata": {},
   "outputs": [],
   "source": [
    "dict_1 = {\n",
    "    \"value\": 11\n",
    "}"
   ]
  },
  {
   "cell_type": "code",
   "execution_count": 6,
   "id": "b8066bef-1a9c-43b4-a98a-adaca4923f9e",
   "metadata": {},
   "outputs": [],
   "source": [
    "dict_2 = dict_1"
   ]
  },
  {
   "cell_type": "markdown",
   "id": "f7e9ba09-acec-4f02-a61b-239528337ca3",
   "metadata": {},
   "source": [
    "Does `dict_2` use a pointer to `dict_1`? Why?"
   ]
  },
  {
   "cell_type": "markdown",
   "id": "cf6f0027-7f2b-4ff5-a8f4-a2c6cdf4f6ed",
   "metadata": {},
   "source": [
    "**Answer**\n",
    "\n",
    "Yes. Because `dict_2` and `dict_1` both points to the same dictio"
   ]
  },
  {
   "cell_type": "code",
   "execution_count": 15,
   "id": "e7917d69-c7eb-43fa-879d-b96fc555a002",
   "metadata": {},
   "outputs": [
    {
     "data": {
      "text/plain": [
       "True"
      ]
     },
     "execution_count": 15,
     "metadata": {},
     "output_type": "execute_result"
    }
   ],
   "source": [
    "id(dict_1) == id(dict_2)"
   ]
  },
  {
   "cell_type": "code",
   "execution_count": 8,
   "id": "ba650acb-48f4-431e-a63d-b39e6b7f3928",
   "metadata": {},
   "outputs": [],
   "source": [
    "num_1 = 11"
   ]
  },
  {
   "cell_type": "code",
   "execution_count": 9,
   "id": "2110b1d8-d792-4755-adcc-8646f8ce220a",
   "metadata": {},
   "outputs": [],
   "source": [
    "num_2 = num_1"
   ]
  },
  {
   "cell_type": "markdown",
   "id": "4d8828a8-f7c8-4c8d-a8a0-68e632140c84",
   "metadata": {},
   "source": [
    "Does `num_2` use a pointer to `num_1`? Why?"
   ]
  },
  {
   "cell_type": "markdown",
   "id": "291f307f-eff0-43f0-a88d-bc05dc12d949",
   "metadata": {},
   "source": [
    "**Answer**\n",
    "\n",
    "No. Because when you set `num_2=num_1`, you just intialize `num_2` with the value of `num_1` at the time"
   ]
  },
  {
   "cell_type": "code",
   "execution_count": null,
   "id": "7c8e0c15-ab69-4a52-be84-349647b723ce",
   "metadata": {},
   "outputs": [
    {
     "data": {
      "text/plain": [
       "140531329985136"
      ]
     },
     "execution_count": 13,
     "metadata": {},
     "output_type": "execute_result"
    }
   ],
   "source": []
  }
 ],
 "metadata": {
  "kernelspec": {
   "display_name": "Python 3 (ipykernel)",
   "language": "python",
   "name": "python3"
  },
  "language_info": {
   "codemirror_mode": {
    "name": "ipython",
    "version": 3
   },
   "file_extension": ".py",
   "mimetype": "text/x-python",
   "name": "python",
   "nbconvert_exporter": "python",
   "pygments_lexer": "ipython3",
   "version": "3.9.12"
  }
 },
 "nbformat": 4,
 "nbformat_minor": 5
}
