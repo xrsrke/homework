{
 "cells": [
  {
   "cell_type": "code",
   "execution_count": null,
   "id": "9f06b5a8-53e4-4425-a0a2-01328a49d907",
   "metadata": {},
   "outputs": [],
   "source": [
    "BRIDGES = [\n",
    "    \"AaB\",\n",
    "    \"AbB\",\n",
    "    \"AcC\",\n",
    "    \"AdC\",\n",
    "    \"AeD\",\n",
    "    \"BfD\",\n",
    "    \"CgD\"\n",
    "]"
   ]
  },
  {
   "cell_type": "code",
   "execution_count": null,
   "id": "860010d2-40fa-42fb-9c8d-bcf45550863a",
   "metadata": {},
   "outputs": [],
   "source": [
    "HEAT = {\"temperature\", \"mass\", \"specific_heat\"}"
   ]
  },
  {
   "cell_type": "code",
   "execution_count": null,
   "id": "d2a5da1d-517b-4bb2-b156-1d6206d2ea18",
   "metadata": {},
   "outputs": [],
   "source": [
    "MASS_MOLE_CONVERSION = {\"mass\", \"mole\"}"
   ]
  },
  {
   "cell_type": "code",
   "execution_count": null,
   "id": "6435053e-e33c-4046-894c-8604f30bd18f",
   "metadata": {},
   "outputs": [],
   "source": [
    "IDEAL_GAS_LAW = {\"mole\", \"pressure\", \"volume\", \"temperature\"}"
   ]
  },
  {
   "cell_type": "code",
   "execution_count": null,
   "id": "7fbc2c00-b01b-4236-81c6-69ee342d786d",
   "metadata": {},
   "outputs": [
    {
     "data": {
      "text/plain": [
       "{'mole', 'pressure', 'temperature', 'volume'}"
      ]
     },
     "execution_count": null,
     "metadata": {},
     "output_type": "execute_result"
    }
   ],
   "source": [
    "IDEAL_GAS_LAW"
   ]
  },
  {
   "cell_type": "code",
   "execution_count": null,
   "id": "67c59c87-3f38-4fb8-aa70-f928e1d7a911",
   "metadata": {},
   "outputs": [],
   "source": [
    "nodes = set()"
   ]
  },
  {
   "cell_type": "code",
   "execution_count": null,
   "id": "0ea16476-1db0-437c-84ef-ca8853e13a22",
   "metadata": {},
   "outputs": [],
   "source": [
    "def generate_nodes(routes):\n",
    "    for route in routes:\n",
    "        for node in route:\n",
    "            nodes.add(node)"
   ]
  },
  {
   "cell_type": "code",
   "execution_count": null,
   "id": "2e26b9f7-8fe4-4f9c-a515-044ac7b0056d",
   "metadata": {},
   "outputs": [],
   "source": [
    "routes = [HEAT, MASS_MOLE_CONVERSION, IDEAL_GAS_LAW]"
   ]
  },
  {
   "cell_type": "code",
   "execution_count": null,
   "id": "73a7e150-df0f-4809-91f3-303387a81e1d",
   "metadata": {},
   "outputs": [],
   "source": [
    "generate_nodes(routes)"
   ]
  },
  {
   "cell_type": "code",
   "execution_count": null,
   "id": "1113934e-ab76-44f9-b648-c0966de8b983",
   "metadata": {},
   "outputs": [
    {
     "data": {
      "text/plain": [
       "{'mass', 'mole', 'pressure', 'specific_heat', 'temperature', 'volume'}"
      ]
     },
     "execution_count": null,
     "metadata": {},
     "output_type": "execute_result"
    }
   ],
   "source": [
    "nodes"
   ]
  },
  {
   "cell_type": "code",
   "execution_count": null,
   "id": "bcb62f17-d292-4b2b-a617-67011d3923d6",
   "metadata": {},
   "outputs": [
    {
     "data": {
      "text/plain": [
       "[{'mass', 'specific_heat', 'temperature'},\n",
       " {'mass', 'mole'},\n",
       " {'mole', 'pressure', 'temperature', 'volume'}]"
      ]
     },
     "execution_count": null,
     "metadata": {},
     "output_type": "execute_result"
    }
   ],
   "source": [
    "routes"
   ]
  },
  {
   "cell_type": "code",
   "execution_count": null,
   "id": "f4f2b7d3-c230-4db0-9431-818c9fe10211",
   "metadata": {},
   "outputs": [
    {
     "name": "stdout",
     "output_type": "stream",
     "text": [
      "Collecting jovian\n",
      "  Downloading jovian-0.2.45-py2.py3-none-any.whl (68 kB)\n",
      "\u001b[2K     \u001b[38;2;114;156;31m━━━━━━━━━━━━━━━━━━━━━━━━━━━━━━━━━━━━━━━\u001b[0m \u001b[32m68.6/68.6 kB\u001b[0m \u001b[31m538.1 kB/s\u001b[0m eta \u001b[36m0:00:00\u001b[0m kB/s\u001b[0m eta \u001b[36m0:00:01\u001b[0m\n",
      "\u001b[?25hRequirement already satisfied: click in /opt/homebrew/lib/python3.10/site-packages (from jovian) (8.1.3)\n",
      "Collecting uuid\n",
      "  Downloading uuid-1.30.tar.gz (5.8 kB)\n",
      "  Preparing metadata (setup.py) ... \u001b[?25ldone\n",
      "\u001b[?25hRequirement already satisfied: requests in /opt/homebrew/lib/python3.10/site-packages (from jovian) (2.28.1)\n",
      "Requirement already satisfied: pyyaml in /opt/homebrew/lib/python3.10/site-packages (from jovian) (6.0)\n",
      "Requirement already satisfied: idna<4,>=2.5 in /opt/homebrew/lib/python3.10/site-packages (from requests->jovian) (3.4)\n",
      "Requirement already satisfied: certifi>=2017.4.17 in /opt/homebrew/lib/python3.10/site-packages (from requests->jovian) (2022.9.24)\n",
      "Requirement already satisfied: urllib3<1.27,>=1.21.1 in /opt/homebrew/lib/python3.10/site-packages (from requests->jovian) (1.26.12)\n",
      "Requirement already satisfied: charset-normalizer<3,>=2 in /opt/homebrew/lib/python3.10/site-packages (from requests->jovian) (2.1.1)\n",
      "Building wheels for collected packages: uuid\n",
      "  Building wheel for uuid (setup.py) ... \u001b[?25ldone\n",
      "\u001b[?25h  Created wheel for uuid: filename=uuid-1.30-py3-none-any.whl size=6480 sha256=21d4178212b5b8d51029c5e9cd67b27efea4eab4c131da7b7e9f9453bfc932cf\n",
      "  Stored in directory: /Users/study/Library/Caches/pip/wheels/cb/ba/bc/7ae4822f65dea25d41ebe0cf219cd7ddfd0987634750ee41b3\n",
      "Successfully built uuid\n",
      "Installing collected packages: uuid, jovian\n",
      "Successfully installed jovian-0.2.45 uuid-1.30\n"
     ]
    }
   ],
   "source": [
    "!pip install jovian --upgrade"
   ]
  },
  {
   "cell_type": "markdown",
   "id": "5c8069f1-c573-4365-bace-737eeb1c7874",
   "metadata": {},
   "source": [
    "### Jovian"
   ]
  },
  {
   "cell_type": "code",
   "execution_count": null,
   "id": "272a58bd-ded7-456b-b27e-5434e10db189",
   "metadata": {},
   "outputs": [],
   "source": [
    "num_nodes = 5"
   ]
  },
  {
   "cell_type": "code",
   "execution_count": null,
   "id": "61cab0e7-d900-4415-a4b7-fbf470048413",
   "metadata": {},
   "outputs": [],
   "source": [
    "edges = [(0, 1), (0, 4), (1, 2), (1, 3), (1, 4), (2, 3), (3, 4)]"
   ]
  },
  {
   "cell_type": "code",
   "execution_count": null,
   "id": "b6b40a2f-4257-48da-8201-e48ce2c126a2",
   "metadata": {},
   "outputs": [],
   "source": [
    "edges_with_weight = [(0, 1, 4), (0, 4, 5), (1, 2, 6), (1, 3, 7), (1, 4, 8), (2, 3, 9), (3, 4, 10)]"
   ]
  },
  {
   "cell_type": "markdown",
   "id": "8d7bc388-fc70-4b03-bd1f-95defa73cf6e",
   "metadata": {},
   "source": [
    "### Adjacency Lists"
   ]
  },
  {
   "cell_type": "code",
   "execution_count": null,
   "id": "95035541-226c-424e-9a62-0ca9d55e3afe",
   "metadata": {},
   "outputs": [],
   "source": [
    "class Graph:\n",
    "    def __init__(self, n_nodes, edges, weighted=False):\n",
    "        self.n_nodes = n_nodes\n",
    "        self.weighted = weighted\n",
    "        self.data = [[] for _ in range(n_nodes)]\n",
    "        self.weight = [[] for _ in range(n_nodes)]\n",
    "    \n",
    "        \n",
    "        for edge in edges:\n",
    "            if self.weight:\n",
    "                node1, node2, weight = edge\n",
    "                self.weight[node1].append(weight)\n",
    "                self.weight[node2].append(weight)\n",
    "            \n",
    "            self.data[node1].append(node2)\n",
    "            self.data[node2].append(node1)\n",
    "    \n",
    "    def find_neighbors(self, node):\n",
    "        return self.data[node]\n",
    "    \n",
    "    def find_weights(self, node):\n",
    "        return self.weight[node]\n",
    "    \n",
    "    def find_weight_between(self, node1, node2):\n",
    "        idx = [i for i, node in enumerate(g.find_edges(1)) if node == node2]\n",
    "        return self.weight[node1][idx[0]]\n",
    "    \n",
    "    def __repr__(self):\n",
    "        return \"\\n\".join([\"{}: {}\".format(node, neighbors) for node, neighbors in enumerate(self.data)])\n",
    "    \n",
    "    def __str__(self):\n",
    "        return self.__repr__()"
   ]
  },
  {
   "cell_type": "code",
   "execution_count": null,
   "id": "f0a2f8c4-8f57-4d7b-9f57-4529655cf42b",
   "metadata": {},
   "outputs": [
    {
     "data": {
      "text/plain": [
       "[(0, 1), (0, 4), (1, 2), (1, 3), (1, 4), (2, 3), (3, 4)]"
      ]
     },
     "execution_count": null,
     "metadata": {},
     "output_type": "execute_result"
    }
   ],
   "source": [
    "edges"
   ]
  },
  {
   "cell_type": "code",
   "execution_count": null,
   "id": "2305afe6-38e9-4e2b-b178-0be25d827ead",
   "metadata": {},
   "outputs": [
    {
     "data": {
      "text/plain": [
       "[(0, 1, 4), (0, 4, 5), (1, 2, 6), (1, 3, 7), (1, 4, 8), (2, 3, 9), (3, 4, 10)]"
      ]
     },
     "execution_count": null,
     "metadata": {},
     "output_type": "execute_result"
    }
   ],
   "source": [
    "edges_with_weight"
   ]
  },
  {
   "cell_type": "code",
   "execution_count": null,
   "id": "affa8955-13ba-4e41-bf92-6abeb75e2509",
   "metadata": {},
   "outputs": [],
   "source": [
    "g = Graph(num_nodes, edges_with_weight, weighted=True)"
   ]
  },
  {
   "cell_type": "code",
   "execution_count": null,
   "id": "fc4a7f28-9cf5-4a57-89b0-05ac4eab736c",
   "metadata": {},
   "outputs": [
    {
     "data": {
      "text/plain": [
       "0: [1, 4]\n",
       "1: [0, 2, 3, 4]\n",
       "2: [1, 3]\n",
       "3: [1, 2, 4]\n",
       "4: [0, 1, 3]"
      ]
     },
     "execution_count": null,
     "metadata": {},
     "output_type": "execute_result"
    }
   ],
   "source": [
    "g"
   ]
  },
  {
   "cell_type": "code",
   "execution_count": null,
   "id": "2af8735d-e70b-441b-b4eb-22bbbe81d51a",
   "metadata": {},
   "outputs": [
    {
     "data": {
      "text/plain": [
       "[[1, 4], [0, 2, 3, 4], [1, 3], [1, 2, 4], [0, 1, 3]]"
      ]
     },
     "execution_count": null,
     "metadata": {},
     "output_type": "execute_result"
    }
   ],
   "source": [
    "g.data"
   ]
  },
  {
   "cell_type": "code",
   "execution_count": null,
   "id": "b1561301-f7b4-46cf-9368-5a6338f5e189",
   "metadata": {},
   "outputs": [
    {
     "data": {
      "text/plain": [
       "[[4, 5], [4, 6, 7, 8], [6, 9], [7, 9, 10], [5, 8, 10]]"
      ]
     },
     "execution_count": null,
     "metadata": {},
     "output_type": "execute_result"
    }
   ],
   "source": [
    "g.weight"
   ]
  },
  {
   "cell_type": "code",
   "execution_count": null,
   "id": "a44f07d3-68aa-41ba-9a7c-a0db5ecfc0fe",
   "metadata": {},
   "outputs": [
    {
     "data": {
      "text/plain": [
       "[0, 2, 3, 4]"
      ]
     },
     "execution_count": null,
     "metadata": {},
     "output_type": "execute_result"
    }
   ],
   "source": [
    "g.find_edges(1)"
   ]
  },
  {
   "cell_type": "code",
   "execution_count": null,
   "id": "80e47f8a-4841-41d9-b3e2-b64edaf2053a",
   "metadata": {},
   "outputs": [
    {
     "data": {
      "text/plain": [
       "5"
      ]
     },
     "execution_count": null,
     "metadata": {},
     "output_type": "execute_result"
    }
   ],
   "source": [
    "g.find_weight(4, 0)"
   ]
  },
  {
   "cell_type": "markdown",
   "id": "a6975d53-4ea2-499d-a5f5-850b8a8383a4",
   "metadata": {},
   "source": [
    "### Shorted Path"
   ]
  },
  {
   "cell_type": "code",
   "execution_count": null,
   "id": "b283de46-9cb0-45f2-9102-cce90ad6ff23",
   "metadata": {},
   "outputs": [],
   "source": [
    "def shorted_path(graph, start, end):\n",
    "    visited = [False] * len(graph.data)\n",
    "    distance = [float('inf') * len(graph.data)]\n",
    "    \n",
    "    queue = []\n",
    "    distance[start] = 0\n",
    "    queue.append(start)\n",
    "    \n",
    "    idx = 0\n",
    "    \n",
    "    while idx < len(queue) and not visited[target]:\n",
    "        current = queue[idx]\n",
    "        idx += 1\n",
    "        \n",
    "        # update the distance of all the neighbors\n",
    "        update_distance(graph, current, distance)\n",
    "        \n",
    "        # find the unvisited node with the smallest distance\n",
    "        \n",
    "        visisted[current] = True"
   ]
  },
  {
   "cell_type": "code",
   "execution_count": null,
   "id": "3916af3a-f0c3-4f6f-ab9f-a61254eae565",
   "metadata": {},
   "outputs": [],
   "source": [
    "def update_distance(graph, current, distance, parent=None):\n",
    "    neighbors = graph.find_neighbors(current)\n",
    "    weights = graph.find_weights(current)\n",
    "    \n",
    "    for i, node in enumerate(neighbors):\n",
    "        weight = weights[i]\n",
    "    "
   ]
  },
  {
   "cell_type": "markdown",
   "id": "905b76a9-e451-4121-af61-767c9656cc1b",
   "metadata": {},
   "source": [
    "https://youtu.be/SmOrBW22R2k?t=6228"
   ]
  },
  {
   "cell_type": "code",
   "execution_count": null,
   "id": "86e640ec-df01-4201-901d-d4de61198344",
   "metadata": {},
   "outputs": [],
   "source": []
  }
 ],
 "metadata": {
  "kernelspec": {
   "display_name": "Python 3 (ipykernel)",
   "language": "python",
   "name": "python3"
  }
 },
 "nbformat": 4,
 "nbformat_minor": 5
}
