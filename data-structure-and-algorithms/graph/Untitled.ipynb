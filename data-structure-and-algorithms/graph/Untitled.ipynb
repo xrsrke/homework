{
 "cells": [
  {
   "cell_type": "code",
   "execution_count": null,
   "id": "9f06b5a8-53e4-4425-a0a2-01328a49d907",
   "metadata": {},
   "outputs": [],
   "source": [
    "BRIDGES = [\n",
    "    \"AaB\",\n",
    "    \"AbB\",\n",
    "    \"AcC\",\n",
    "    \"AdC\",\n",
    "    \"AeD\",\n",
    "    \"BfD\",\n",
    "    \"CgD\"\n",
    "]"
   ]
  },
  {
   "cell_type": "code",
   "execution_count": null,
   "id": "860010d2-40fa-42fb-9c8d-bcf45550863a",
   "metadata": {},
   "outputs": [],
   "source": [
    "HEAT = {\"temperature\", \"mass\", \"specific_heat\"}"
   ]
  },
  {
   "cell_type": "code",
   "execution_count": null,
   "id": "d2a5da1d-517b-4bb2-b156-1d6206d2ea18",
   "metadata": {},
   "outputs": [],
   "source": [
    "MASS_MOLE_CONVERSION = {\"mass\", \"mole\"}"
   ]
  },
  {
   "cell_type": "code",
   "execution_count": null,
   "id": "6435053e-e33c-4046-894c-8604f30bd18f",
   "metadata": {},
   "outputs": [],
   "source": [
    "IDEAL_GAS_LAW = {\"mole\", \"pressure\", \"volume\", \"temperature\"}"
   ]
  },
  {
   "cell_type": "code",
   "execution_count": null,
   "id": "7fbc2c00-b01b-4236-81c6-69ee342d786d",
   "metadata": {},
   "outputs": [
    {
     "data": {
      "text/plain": [
       "{'mole', 'pressure', 'temperature', 'volume'}"
      ]
     },
     "execution_count": null,
     "metadata": {},
     "output_type": "execute_result"
    }
   ],
   "source": [
    "IDEAL_GAS_LAW"
   ]
  },
  {
   "cell_type": "code",
   "execution_count": null,
   "id": "67c59c87-3f38-4fb8-aa70-f928e1d7a911",
   "metadata": {},
   "outputs": [],
   "source": [
    "nodes = set()"
   ]
  },
  {
   "cell_type": "code",
   "execution_count": null,
   "id": "0ea16476-1db0-437c-84ef-ca8853e13a22",
   "metadata": {},
   "outputs": [],
   "source": [
    "def generate_nodes(routes):\n",
    "    for route in routes:\n",
    "        for node in route:\n",
    "            nodes.add(node)"
   ]
  },
  {
   "cell_type": "code",
   "execution_count": null,
   "id": "2e26b9f7-8fe4-4f9c-a515-044ac7b0056d",
   "metadata": {},
   "outputs": [],
   "source": [
    "routes = [HEAT, MASS_MOLE_CONVERSION, IDEAL_GAS_LAW]"
   ]
  },
  {
   "cell_type": "code",
   "execution_count": null,
   "id": "73a7e150-df0f-4809-91f3-303387a81e1d",
   "metadata": {},
   "outputs": [],
   "source": [
    "generate_nodes(routes)"
   ]
  },
  {
   "cell_type": "code",
   "execution_count": null,
   "id": "1113934e-ab76-44f9-b648-c0966de8b983",
   "metadata": {},
   "outputs": [
    {
     "data": {
      "text/plain": [
       "{'mass', 'mole', 'pressure', 'specific_heat', 'temperature', 'volume'}"
      ]
     },
     "execution_count": null,
     "metadata": {},
     "output_type": "execute_result"
    }
   ],
   "source": [
    "nodes"
   ]
  },
  {
   "cell_type": "code",
   "execution_count": null,
   "id": "bcb62f17-d292-4b2b-a617-67011d3923d6",
   "metadata": {},
   "outputs": [
    {
     "data": {
      "text/plain": [
       "[{'mass', 'specific_heat', 'temperature'},\n",
       " {'mass', 'mole'},\n",
       " {'mole', 'pressure', 'temperature', 'volume'}]"
      ]
     },
     "execution_count": null,
     "metadata": {},
     "output_type": "execute_result"
    }
   ],
   "source": [
    "routes"
   ]
  },
  {
   "cell_type": "code",
   "execution_count": null,
   "id": "f4f2b7d3-c230-4db0-9431-818c9fe10211",
   "metadata": {},
   "outputs": [
    {
     "name": "stdout",
     "output_type": "stream",
     "text": [
      "Collecting jovian\n",
      "  Downloading jovian-0.2.45-py2.py3-none-any.whl (68 kB)\n",
      "\u001b[2K     \u001b[38;2;114;156;31m━━━━━━━━━━━━━━━━━━━━━━━━━━━━━━━━━━━━━━━\u001b[0m \u001b[32m68.6/68.6 kB\u001b[0m \u001b[31m538.1 kB/s\u001b[0m eta \u001b[36m0:00:00\u001b[0m kB/s\u001b[0m eta \u001b[36m0:00:01\u001b[0m\n",
      "\u001b[?25hRequirement already satisfied: click in /opt/homebrew/lib/python3.10/site-packages (from jovian) (8.1.3)\n",
      "Collecting uuid\n",
      "  Downloading uuid-1.30.tar.gz (5.8 kB)\n",
      "  Preparing metadata (setup.py) ... \u001b[?25ldone\n",
      "\u001b[?25hRequirement already satisfied: requests in /opt/homebrew/lib/python3.10/site-packages (from jovian) (2.28.1)\n",
      "Requirement already satisfied: pyyaml in /opt/homebrew/lib/python3.10/site-packages (from jovian) (6.0)\n",
      "Requirement already satisfied: idna<4,>=2.5 in /opt/homebrew/lib/python3.10/site-packages (from requests->jovian) (3.4)\n",
      "Requirement already satisfied: certifi>=2017.4.17 in /opt/homebrew/lib/python3.10/site-packages (from requests->jovian) (2022.9.24)\n",
      "Requirement already satisfied: urllib3<1.27,>=1.21.1 in /opt/homebrew/lib/python3.10/site-packages (from requests->jovian) (1.26.12)\n",
      "Requirement already satisfied: charset-normalizer<3,>=2 in /opt/homebrew/lib/python3.10/site-packages (from requests->jovian) (2.1.1)\n",
      "Building wheels for collected packages: uuid\n",
      "  Building wheel for uuid (setup.py) ... \u001b[?25ldone\n",
      "\u001b[?25h  Created wheel for uuid: filename=uuid-1.30-py3-none-any.whl size=6480 sha256=21d4178212b5b8d51029c5e9cd67b27efea4eab4c131da7b7e9f9453bfc932cf\n",
      "  Stored in directory: /Users/study/Library/Caches/pip/wheels/cb/ba/bc/7ae4822f65dea25d41ebe0cf219cd7ddfd0987634750ee41b3\n",
      "Successfully built uuid\n",
      "Installing collected packages: uuid, jovian\n",
      "Successfully installed jovian-0.2.45 uuid-1.30\n"
     ]
    }
   ],
   "source": [
    "!pip install jovian --upgrade"
   ]
  },
  {
   "cell_type": "code",
   "execution_count": null,
   "id": "272a58bd-ded7-456b-b27e-5434e10db189",
   "metadata": {},
   "outputs": [],
   "source": [
    "num_nodes = 5"
   ]
  },
  {
   "cell_type": "code",
   "execution_count": null,
   "id": "61cab0e7-d900-4415-a4b7-fbf470048413",
   "metadata": {},
   "outputs": [],
   "source": [
    "edges = [(0, 1)]"
   ]
  }
 ],
 "metadata": {
  "kernelspec": {
   "display_name": "Python 3 (ipykernel)",
   "language": "python",
   "name": "python3"
  }
 },
 "nbformat": 4,
 "nbformat_minor": 5
}
