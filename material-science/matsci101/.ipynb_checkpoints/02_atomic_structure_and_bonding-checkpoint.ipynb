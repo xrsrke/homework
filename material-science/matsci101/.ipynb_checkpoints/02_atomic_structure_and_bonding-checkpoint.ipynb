{
 "cells": [
  {
   "cell_type": "markdown",
   "id": "496709f6-adc5-4f84-b307-fb7076b3641a",
   "metadata": {},
   "source": [
    "### Chapter 2: Atomic Structure and Interatomic Bonding"
   ]
  },
  {
   "cell_type": "markdown",
   "id": "3e79c8f1-2980-4673-a00a-2531b425af62",
   "metadata": {},
   "source": [
    "##### Example 1"
   ]
  },
  {
   "cell_type": "markdown",
   "id": "b8de9648-3fde-4547-bb0d-cedfe5b91952",
   "metadata": {},
   "source": [
    "Suppose you have a material that compose of $\\mathrm{NaCl}$. Calculate the amount of energy that takes to break the bond. Explain each step"
   ]
  },
  {
   "cell_type": "code",
   "execution_count": null,
   "id": "9a834749-a934-40dc-afed-acd57cf5fb55",
   "metadata": {},
   "outputs": [],
   "source": [
    "import mendeleev\n",
    "import scipy.constants as const"
   ]
  },
  {
   "cell_type": "code",
   "execution_count": null,
   "id": "2e9e3687-12d2-4f92-bdee-a011bdf5406c",
   "metadata": {},
   "outputs": [],
   "source": [
    "na = mendeleev.element('Na')"
   ]
  },
  {
   "cell_type": "code",
   "execution_count": null,
   "id": "b002ccc3-2a1a-4d8e-b491-0b236fea1077",
   "metadata": {},
   "outputs": [
    {
     "data": {
      "text/plain": [
       "[1]"
      ]
     },
     "execution_count": null,
     "metadata": {},
     "output_type": "execute_result"
    }
   ],
   "source": [
    "na.oxidation_states()"
   ]
  },
  {
   "cell_type": "code",
   "execution_count": null,
   "id": "eb385dd4-8a0c-464e-ab70-b9e45a76799a",
   "metadata": {},
   "outputs": [],
   "source": [
    "cl = mendeleev.element('Cl')"
   ]
  },
  {
   "cell_type": "code",
   "execution_count": null,
   "id": "54543e91-5a5d-4a00-bd7f-cc455d4e99fb",
   "metadata": {},
   "outputs": [
    {
     "data": {
      "text/plain": [
       "[-1, 1, 3, 5, 7]"
      ]
     },
     "execution_count": null,
     "metadata": {},
     "output_type": "execute_result"
    }
   ],
   "source": [
    "cl.oxidation_states()"
   ]
  },
  {
   "cell_type": "markdown",
   "id": "2f4f6d47-e366-45fb-91c1-05f93b65ed6e",
   "metadata": {},
   "source": [
    "From the available oxidation states of the two atoms. To achieve a stable configuration\n",
    "- $\\mathrm{Na}$ will give an electron: $\\mathrm{Na}^-$\n",
    "- $\\mathrm{Cl}$ will take an electron: $\\mathrm{Cl}^+$"
   ]
  },
  {
   "cell_type": "markdown",
   "id": "67619bcf-1f07-43e2-a0ec-18495b1fddea",
   "metadata": {},
   "source": [
    "So the bond strength between two atoms"
   ]
  },
  {
   "cell_type": "code",
   "execution_count": null,
   "id": "6c9f3a31-92df-4961-a4a5-cef18dba0eba",
   "metadata": {},
   "outputs": [],
   "source": [
    "z_1 = -1 # Na\n",
    "z_2 = 1 # Cl"
   ]
  },
  {
   "cell_type": "code",
   "execution_count": null,
   "id": "76c7866d-6b81-435e-8d9c-a3f0328f71f5",
   "metadata": {},
   "outputs": [
    {
     "data": {
      "text/plain": [
       "8.8541878128e-12"
      ]
     },
     "execution_count": null,
     "metadata": {},
     "output_type": "execute_result"
    }
   ],
   "source": [
    "const.epsilon_0"
   ]
  },
  {
   "cell_type": "code",
   "execution_count": null,
   "id": "05fe7b0b-692d-44cc-a11c-7469c2f21859",
   "metadata": {},
   "outputs": [
    {
     "data": {
      "text/plain": [
       "1.602176634e-19"
      ]
     },
     "execution_count": null,
     "metadata": {},
     "output_type": "execute_result"
    }
   ],
   "source": [
    "const.elementary_charge"
   ]
  },
  {
   "cell_type": "markdown",
   "id": "af2d8542-6188-40ba-bfe9-8ca5db9b5d32",
   "metadata": {},
   "source": [
    "##### Example 2: Will silver ($\\mathrm{Ag}$) oxidize into $\\mathrm{Ag}_2 \\mathrm{O}$ in air at room temperature?"
   ]
  },
  {
   "cell_type": "markdown",
   "id": "a6d2682e-2086-4f60-8723-b40940d987f8",
   "metadata": {},
   "source": [
    "$\\text{4 Ag} + \\mathrm{O_2} \\to 2 \\, \\mathrm{Ag}_2\\mathrm{O}$"
   ]
  },
  {
   "cell_type": "code",
   "execution_count": null,
   "id": "177fa664-e08d-4212-bdad-cde3bc402352",
   "metadata": {},
   "outputs": [],
   "source": [
    "from chemlib import Compound, Reaction"
   ]
  },
  {
   "cell_type": "code",
   "execution_count": null,
   "id": "a3d75d0e-f0ca-4def-bab1-612cb77ad36c",
   "metadata": {},
   "outputs": [],
   "source": [
    "Ag = Compound('Ag')"
   ]
  },
  {
   "cell_type": "code",
   "execution_count": null,
   "id": "b3220eb6-4d55-448e-ac0c-8afba2861916",
   "metadata": {},
   "outputs": [],
   "source": [
    "O2 = Compound('O2')"
   ]
  },
  {
   "cell_type": "code",
   "execution_count": null,
   "id": "b6252af5-b2a6-4d76-a7bb-56bf900e25aa",
   "metadata": {},
   "outputs": [],
   "source": [
    "Ag2O = Compound(\"Ag2O\")"
   ]
  },
  {
   "cell_type": "code",
   "execution_count": null,
   "id": "b11e10ee-8815-4d25-a1d5-cb4a24706579",
   "metadata": {},
   "outputs": [],
   "source": [
    "r = Reaction(reactants = [Ag, O2], products = [Ag2O])"
   ]
  },
  {
   "cell_type": "code",
   "execution_count": null,
   "id": "410e180d-0c3c-4bb6-9165-cb5c08a482e0",
   "metadata": {},
   "outputs": [],
   "source": [
    "r.balance()"
   ]
  },
  {
   "cell_type": "code",
   "execution_count": null,
   "id": "8640eb99-a91f-4ea6-a996-85c4c1a785dc",
   "metadata": {},
   "outputs": [
    {
     "data": {
      "text/plain": [
       "'4Ag₁ + 1O₂ --> 2Ag₂O₁'"
      ]
     },
     "execution_count": null,
     "metadata": {},
     "output_type": "execute_result"
    }
   ],
   "source": [
    "r.formula"
   ]
  },
  {
   "cell_type": "markdown",
   "id": "669f60d3-d282-451c-a8f0-b43ec42de76e",
   "metadata": {},
   "source": [
    "**Answer**"
   ]
  },
  {
   "cell_type": "markdown",
   "id": "4a2155a3-4d82-46d4-bd9b-6174e5b5a354",
   "metadata": {},
   "source": [
    "To determine whether silver will oxidize into Ag_2O. We need to know whether the reaction will happen spontaneously"
   ]
  },
  {
   "cell_type": "markdown",
   "id": "38e0e4da-b87d-4ea3-ad1d-0ae6c5a1b22b",
   "metadata": {},
   "source": [
    "**Step 1**: Calculate the reaction quotient"
   ]
  },
  {
   "cell_type": "markdown",
   "id": "7ed6f96b-9209-4b36-9d9f-b3acdca9fdba",
   "metadata": {},
   "source": [
    "$Q=\\frac{a_{A_2, 0}}{a_{A_z}^2 P_{0_2}^{1 / 2}}$"
   ]
  },
  {
   "cell_type": "code",
   "execution_count": null,
   "id": "da5f0d8e-e219-4146-9c99-8217e6e6bbff",
   "metadata": {},
   "outputs": [],
   "source": []
  }
 ],
 "metadata": {
  "kernelspec": {
   "display_name": "Python 3 (ipykernel)",
   "language": "python",
   "name": "python3"
  }
 },
 "nbformat": 4,
 "nbformat_minor": 5
}
