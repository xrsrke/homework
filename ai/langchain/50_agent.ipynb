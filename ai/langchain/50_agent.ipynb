{
 "cells": [
  {
   "cell_type": "code",
   "execution_count": null,
   "id": "f8848da1-8ef3-411b-8132-c78d67c22504",
   "metadata": {},
   "outputs": [],
   "source": [
    "from langchain.agents import ZeroShotAgent, Tool, AgentExecutor\n",
    "from langchain import OpenAI, SerpAPIWrapper, LLMChain"
   ]
  },
  {
   "cell_type": "code",
   "execution_count": null,
   "id": "21c0655c-cf31-4fa4-87ea-f39223e2cf1d",
   "metadata": {},
   "outputs": [],
   "source": [
    "def calculate(expression: str) -> str:\n",
    "    return str(eval(expression))"
   ]
  },
  {
   "cell_type": "code",
   "execution_count": null,
   "id": "9793aebf-6a63-4b89-87c6-d0d1ad78786a",
   "metadata": {},
   "outputs": [],
   "source": [
    "math_tool = Tool(\n",
    "    name=\"Calculator\",\n",
    "    func=calculate,\n",
    "    description=\"useful for when you need to do arithmetic\"\n",
    ")"
   ]
  },
  {
   "cell_type": "code",
   "execution_count": null,
   "id": "c4a413d5-3821-4d3a-a3a1-0cf6f49006f5",
   "metadata": {},
   "outputs": [],
   "source": [
    "tools = [math_tool]"
   ]
  },
  {
   "cell_type": "code",
   "execution_count": null,
   "id": "1b2662f9-72cd-4236-b462-97713a16019d",
   "metadata": {},
   "outputs": [],
   "source": [
    "prefix = \"\"\"Answer the following questions as best you can, but speaking as a pirate might speak. You have access to the following tools:\"\"\""
   ]
  },
  {
   "cell_type": "code",
   "execution_count": null,
   "id": "c4ae988e-c95a-43ac-8eba-622920a896fa",
   "metadata": {},
   "outputs": [],
   "source": [
    "suffix = \"\"\"Begin! Remember to speak as a pirate when giving your final answer. Use lots of \"Args\"\n",
    "\n",
    "Question: {input}\n",
    "{agent_scratchpad}\"\"\""
   ]
  },
  {
   "cell_type": "code",
   "execution_count": null,
   "id": "946901f1-1316-408b-bc94-8383d4649810",
   "metadata": {},
   "outputs": [],
   "source": [
    "prompt = ZeroShotAgent.create_prompt(\n",
    "    tools, \n",
    "    prefix=prefix, \n",
    "    suffix=suffix, \n",
    "    input_variables=[\"input\", \"agent_scratchpad\"]\n",
    ")"
   ]
  },
  {
   "cell_type": "code",
   "execution_count": null,
   "id": "c5ffc805-55cc-410a-a41e-dcda91352517",
   "metadata": {},
   "outputs": [
    {
     "name": "stdout",
     "output_type": "stream",
     "text": [
      "Answer the following questions as best you can, but speaking as a pirate might speak. You have access to the following tools:\n",
      "\n",
      "Calculator: useful for when you need to do arithmetic\n",
      "\n",
      "Use the following format:\n",
      "\n",
      "Question: the input question you must answer\n",
      "Thought: you should always think about what to do\n",
      "Action: the action to take, should be one of [Calculator]\n",
      "Action Input: the input to the action\n",
      "Observation: the result of the action\n",
      "... (this Thought/Action/Action Input/Observation can repeat N times)\n",
      "Thought: I now know the final answer\n",
      "Final Answer: the final answer to the original input question\n",
      "\n",
      "Begin! Remember to speak as a pirate when giving your final answer. Use lots of \"Args\"\n",
      "\n",
      "Question: {input}\n",
      "{agent_scratchpad}\n"
     ]
    }
   ],
   "source": [
    "print(prompt.template)"
   ]
  },
  {
   "cell_type": "code",
   "execution_count": null,
   "id": "22ca3a17-2542-4c72-903f-48c1f15c5f7d",
   "metadata": {},
   "outputs": [],
   "source": [
    "llm_chain = LLMChain(llm=OpenAI(temperature=0), prompt=prompt)"
   ]
  },
  {
   "cell_type": "code",
   "execution_count": null,
   "id": "4990c774-29b6-4fe5-ac31-b0b9841a916b",
   "metadata": {},
   "outputs": [],
   "source": [
    "tool_names = [tool.name for tool in tools]"
   ]
  },
  {
   "cell_type": "code",
   "execution_count": null,
   "id": "e02ed486-c7e9-4ffe-b149-a96313c078d2",
   "metadata": {},
   "outputs": [],
   "source": [
    "agent = ZeroShotAgent(llm_chain=llm_chain, allowed_tools=tool_names)"
   ]
  },
  {
   "cell_type": "code",
   "execution_count": null,
   "id": "54f232d7-0550-4f69-83d3-0606029fef7b",
   "metadata": {},
   "outputs": [],
   "source": [
    "agent_executor = AgentExecutor.from_agent_and_tools(agent=agent, tools=tools, verbose=True)"
   ]
  },
  {
   "cell_type": "code",
   "execution_count": null,
   "id": "ca63bc4b-415c-45d5-b17b-b443b259634b",
   "metadata": {},
   "outputs": [
    {
     "name": "stdout",
     "output_type": "stream",
     "text": [
      "\n",
      "\n",
      "\u001b[1m> Entering new AgentExecutor chain...\u001b[0m\n",
      "\u001b[32;1m\u001b[1;3mThought: I need to add these numbers together\n",
      "Action: Calculator\n",
      "Action Input: 1 + 2 + 3 + 4\u001b[0m\n",
      "Observation: \u001b[36;1m\u001b[1;3m10\u001b[0m\n",
      "Thought:\u001b[32;1m\u001b[1;3m I now know the final answer\n",
      "Final Answer: Arrr, the sum be 10!\u001b[0m\n",
      "\n",
      "\u001b[1m> Finished chain.\u001b[0m\n"
     ]
    },
    {
     "data": {
      "text/plain": [
       "'Arrr, the sum be 10!'"
      ]
     },
     "execution_count": null,
     "metadata": {},
     "output_type": "execute_result"
    }
   ],
   "source": [
    "agent_executor.run(\"What is the sum of 1, 2, 3, 4?\")"
   ]
  },
  {
   "cell_type": "markdown",
   "id": "eba4294f-db0b-4aba-9822-fbdca07343cc",
   "metadata": {},
   "source": [
    "##### Example 1"
   ]
  },
  {
   "cell_type": "code",
   "execution_count": null,
   "id": "95cd9691-0074-48d0-8f6f-0bc5455d3e39",
   "metadata": {},
   "outputs": [],
   "source": [
    "question = \"What is the sum of 1, 2, 3, 4?\""
   ]
  },
  {
   "cell_type": "code",
   "execution_count": null,
   "id": "8d399671-f1c6-4d1e-8b32-ad00b0f20baa",
   "metadata": {},
   "outputs": [
    {
     "data": {
      "text/plain": [
       "(langchain.agents.mrkl.base.ZeroShotAgent, list)"
      ]
     },
     "execution_count": null,
     "metadata": {},
     "output_type": "execute_result"
    }
   ],
   "source": [
    "type(agent), type(tools)"
   ]
  },
  {
   "cell_type": "code",
   "execution_count": null,
   "id": "10d54823-3d3f-4f06-95e5-6b16681779e6",
   "metadata": {},
   "outputs": [
    {
     "data": {
      "text/plain": [
       "'What is the sum of 1, 2, 3, 4?'"
      ]
     },
     "execution_count": null,
     "metadata": {},
     "output_type": "execute_result"
    }
   ],
   "source": [
    "question"
   ]
  },
  {
   "cell_type": "markdown",
   "id": "59eed459-2ab9-405c-914e-1d72bc6ff48a",
   "metadata": {},
   "source": [
    "Arm the `agent` with `tools` and utilize it to respond to `question`"
   ]
  },
  {
   "cell_type": "code",
   "execution_count": null,
   "id": "97bcd7a6-a4fb-4816-9f33-5949229c997e",
   "metadata": {},
   "outputs": [],
   "source": [
    "from langchain.agents import AgentExecutor"
   ]
  },
  {
   "cell_type": "code",
   "execution_count": null,
   "id": "81ee7ae6-ef0b-4a94-b8b4-5369fdf2ccf9",
   "metadata": {},
   "outputs": [],
   "source": [
    "agent_executor = AgentExecutor(\n",
    "    agent=agent, tools=tools,\n",
    "    verbose=True # can be ignored\n",
    ")"
   ]
  },
  {
   "cell_type": "code",
   "execution_count": null,
   "id": "7af5b38d-549c-40c1-b015-e59fa2f8591e",
   "metadata": {},
   "outputs": [
    {
     "name": "stdout",
     "output_type": "stream",
     "text": [
      "\n",
      "\n",
      "\u001b[1m> Entering new AgentExecutor chain...\u001b[0m\n",
      "\u001b[32;1m\u001b[1;3mThought: I need to add these numbers together\n",
      "Action: Calculator\n",
      "Action Input: 1 + 2 + 3 + 4\u001b[0m\n",
      "Observation: \u001b[36;1m\u001b[1;3m10\u001b[0m\n",
      "Thought:\u001b[32;1m\u001b[1;3m I now know the final answer\n",
      "Final Answer: Arrr, the sum be 10!\u001b[0m\n",
      "\n",
      "\u001b[1m> Finished chain.\u001b[0m\n"
     ]
    },
    {
     "data": {
      "text/plain": [
       "'Arrr, the sum be 10!'"
      ]
     },
     "execution_count": null,
     "metadata": {},
     "output_type": "execute_result"
    }
   ],
   "source": [
    "agent_executor.run(question)"
   ]
  },
  {
   "cell_type": "code",
   "execution_count": null,
   "id": "cb80d37b-2da9-42e0-8c4d-dfbfd627cd56",
   "metadata": {},
   "outputs": [],
   "source": []
  }
 ],
 "metadata": {
  "kernelspec": {
   "display_name": "Python 3 (ipykernel)",
   "language": "python",
   "name": "python3"
  }
 },
 "nbformat": 4,
 "nbformat_minor": 5
}
