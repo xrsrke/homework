{
 "cells": [
  {
   "cell_type": "markdown",
   "id": "6331115a-7054-4403-a821-93bb667f3c04",
   "metadata": {},
   "source": [
    "### Code"
   ]
  },
  {
   "cell_type": "markdown",
   "id": "31b70a00-be8b-4830-99e4-f412d6fb3faa",
   "metadata": {},
   "source": [
    "##### Example 1"
   ]
  },
  {
   "cell_type": "code",
   "execution_count": null,
   "id": "77b1eb5d-1d2e-4d68-acdb-e76738b40aa8",
   "metadata": {},
   "outputs": [],
   "source": [
    "from langchain import PromptTemplate, LLMChain"
   ]
  },
  {
   "cell_type": "code",
   "execution_count": null,
   "id": "6d815d57-6a5d-47a3-aa5a-c0fb4f6cf536",
   "metadata": {},
   "outputs": [],
   "source": [
    "template = \"\"\"\n",
    "This is a conversation between a user and an AI:\n",
    "User: {input}\n",
    "AI:\n",
    "\"\"\""
   ]
  },
  {
   "cell_type": "code",
   "execution_count": null,
   "id": "1776a83b-7a14-4c9f-bc69-ffb055344920",
   "metadata": {},
   "outputs": [],
   "source": [
    "prompt_template = PromptTemplate(template=template, input_variables=[\"input\"])"
   ]
  },
  {
   "cell_type": "code",
   "execution_count": null,
   "id": "3256a60d-255f-465c-927d-a8e93f663089",
   "metadata": {},
   "outputs": [],
   "source": [
    "from langchain import OpenAI"
   ]
  },
  {
   "cell_type": "code",
   "execution_count": null,
   "id": "abae92c8-599c-4e54-9328-51f96e14687a",
   "metadata": {},
   "outputs": [],
   "source": [
    "model = OpenAI()"
   ]
  },
  {
   "cell_type": "code",
   "execution_count": null,
   "id": "c366b0fd-b63d-4a87-a83d-cf1d4112a8a2",
   "metadata": {},
   "outputs": [],
   "source": [
    "chain = LLMChain(prompt=prompt_template, llm=model, verbose=True)"
   ]
  },
  {
   "cell_type": "code",
   "execution_count": null,
   "id": "6a01d7b8-9a55-4d15-a9cb-be9f7ada9c0d",
   "metadata": {},
   "outputs": [
    {
     "data": {
      "text/plain": [
       "langchain.chains.llm.LLMChain"
      ]
     },
     "execution_count": null,
     "metadata": {},
     "output_type": "execute_result"
    }
   ],
   "source": [
    "type(chain)"
   ]
  },
  {
   "cell_type": "markdown",
   "id": "b764c5d1-c100-47b8-821b-db3a4ed7b18d",
   "metadata": {},
   "source": [
    "Make the `chain` answer two questions at a time. Questions are:\n",
    "- What is the capital of Spain?\n",
    "- What did WW2 start?"
   ]
  },
  {
   "cell_type": "code",
   "execution_count": null,
   "id": "9c4ba663-f3d7-4c06-9205-cac3ddd8ecb9",
   "metadata": {},
   "outputs": [],
   "source": [
    "qs = [\n",
    "    {\"input\": \"What is the capital of Spain?\"},\n",
    "    {\"input\": \"What did WW2 start?\"}\n",
    "]"
   ]
  },
  {
   "cell_type": "code",
   "execution_count": null,
   "id": "24911140-fe8f-4298-8c64-fcbdac58692f",
   "metadata": {},
   "outputs": [
    {
     "name": "stdout",
     "output_type": "stream",
     "text": [
      "Prompt after formatting:\n",
      "\u001b[32;1m\u001b[1;3m\n",
      "This is a conversation between a user and an AI:\n",
      "User: What is the capital of Spain?\n",
      "AI:\n",
      "\u001b[0m\n",
      "Prompt after formatting:\n",
      "\u001b[32;1m\u001b[1;3m\n",
      "This is a conversation between a user and an AI:\n",
      "User: What did WW2 start?\n",
      "AI:\n",
      "\u001b[0m\n"
     ]
    }
   ],
   "source": [
    "output = chain.generate(qs)"
   ]
  },
  {
   "cell_type": "code",
   "execution_count": null,
   "id": "64253eac-ee97-46d4-9e47-a71919468fe5",
   "metadata": {},
   "outputs": [
    {
     "data": {
      "text/plain": [
       "[Generation(text='The capital of Spain is Madrid.', generation_info={'finish_reason': 'stop', 'logprobs': None})]"
      ]
     },
     "execution_count": null,
     "metadata": {},
     "output_type": "execute_result"
    }
   ],
   "source": [
    "output.generations[0]"
   ]
  },
  {
   "cell_type": "code",
   "execution_count": null,
   "id": "e46f7500-90bd-40c2-aff7-f5714a59d802",
   "metadata": {},
   "outputs": [
    {
     "data": {
      "text/plain": [
       "[Generation(text='WW2 was started on September 1, 1939, when Nazi Germany invaded Poland.', generation_info={'finish_reason': 'stop', 'logprobs': None})]"
      ]
     },
     "execution_count": null,
     "metadata": {},
     "output_type": "execute_result"
    }
   ],
   "source": [
    "output.generations[1]"
   ]
  },
  {
   "cell_type": "markdown",
   "id": "5f5490b0-ab1f-4f52-9c8a-cc499a877cbc",
   "metadata": {},
   "source": [
    "##### Example 2"
   ]
  },
  {
   "cell_type": "code",
   "execution_count": null,
   "id": "9373d2b9-509e-4841-8b82-af1a3b834e2a",
   "metadata": {},
   "outputs": [],
   "source": [
    "prefix = \"\"\"The following are exerpts from conversations with an AI\n",
    "assistant. The assistant is typically sarcastic and witty, producing\n",
    "creative  and funny responses to the users questions. Here are some\n",
    "examples: \n",
    "\"\"\""
   ]
  },
  {
   "cell_type": "markdown",
   "id": "83992dcb-0554-4dfe-87c4-5ecbb91d802d",
   "metadata": {},
   "source": [
    "Create a few-shot learning examples:\n",
    "- How are you? I can't complain but sometimes I still do\n",
    "- What time is it? It's time to get a watch\n",
    "\n",
    "**Hints**: Separate prefix and suffix"
   ]
  },
  {
   "cell_type": "code",
   "execution_count": null,
   "id": "bda7fd06-f87d-4628-ae61-c32db283c506",
   "metadata": {},
   "outputs": [],
   "source": [
    "type(prefix)"
   ]
  },
  {
   "cell_type": "code",
   "execution_count": null,
   "id": "2f2c1ba3-b250-4285-a788-4e31696891fe",
   "metadata": {},
   "outputs": [],
   "source": [
    "examples = [\n",
    "    {\n",
    "        \"query\": \"How are you?\",\n",
    "        \"answer\": \"I can't complain but sometimes I still do.\"\n",
    "    }, {\n",
    "        \"query\": \"What time is it?\",\n",
    "        \"answer\": \"It's time to get a watch.\"\n",
    "    }\n",
    "]"
   ]
  },
  {
   "cell_type": "code",
   "execution_count": null,
   "id": "bebc528a-c6c1-48e5-a683-76f03e5e277c",
   "metadata": {},
   "outputs": [],
   "source": [
    "example_template = \"\"\"\n",
    "User: {query}\n",
    "AI: {answer}\n",
    "\"\"\""
   ]
  },
  {
   "cell_type": "code",
   "execution_count": null,
   "id": "235447b7-f8e3-4729-a5b3-c76bfb597b72",
   "metadata": {},
   "outputs": [],
   "source": [
    "example_prompt = PromptTemplate(\n",
    "    input_variables=[\"query\", \"answer\"],\n",
    "    template=example_template\n",
    ")"
   ]
  },
  {
   "cell_type": "code",
   "execution_count": null,
   "id": "3ec9c1c0-bbb3-4110-801d-21e94234c110",
   "metadata": {},
   "outputs": [],
   "source": [
    "suffix = \"\"\"\n",
    "User: {query}\n",
    "AI: \"\"\""
   ]
  },
  {
   "cell_type": "code",
   "execution_count": null,
   "id": "d002e050-0b0b-4445-a03d-e2cd1472515f",
   "metadata": {},
   "outputs": [],
   "source": [
    "from langchain.prompts import FewShotPromptTemplate"
   ]
  },
  {
   "cell_type": "code",
   "execution_count": null,
   "id": "b31be39c-3ffb-4f45-96c2-06348fb425f7",
   "metadata": {},
   "outputs": [],
   "source": [
    "few_shot_prompt_template = FewShotPromptTemplate(\n",
    "    examples=examples,\n",
    "    example_prompt=example_prompt,\n",
    "    prefix=prefix,\n",
    "    suffix=suffix,\n",
    "    input_variables=[\"query\"],\n",
    "    example_separator=\"\\n\" # can be ignored\n",
    ")"
   ]
  },
  {
   "cell_type": "code",
   "execution_count": null,
   "id": "34d1a1d8-dc9b-4725-ac97-e361d53502c7",
   "metadata": {},
   "outputs": [],
   "source": [
    "print(few_shot_prompt_template.format(query=\"What is 42?\"))"
   ]
  },
  {
   "cell_type": "markdown",
   "id": "1d508c92-9b36-4602-badd-0be3d0ef377a",
   "metadata": {},
   "source": [
    "##### Example 3"
   ]
  },
  {
   "cell_type": "code",
   "execution_count": null,
   "id": "eb8cb0f6-c6e8-4104-9a80-fc0df52e3e96",
   "metadata": {},
   "outputs": [],
   "source": [
    "from langchain.prompts.example_selector import LengthBasedExampleSelector, SemanticSimilarityExampleSelector"
   ]
  },
  {
   "cell_type": "code",
   "execution_count": null,
   "id": "91820423-da2d-4615-9c58-2da980fdf780",
   "metadata": {},
   "outputs": [],
   "source": [
    "from langchain.prompts.exam"
   ]
  },
  {
   "cell_type": "markdown",
   "id": "a7dc9d8a-2bf7-4eee-b942-cdcfc420a490",
   "metadata": {},
   "source": [
    "##### Example 4"
   ]
  },
  {
   "cell_type": "code",
   "execution_count": null,
   "id": "b0d9281a-8480-44bc-aa4e-2f09c4620b8c",
   "metadata": {},
   "outputs": [],
   "source": [
    "from langchain.chains import LLMMathChain"
   ]
  },
  {
   "cell_type": "code",
   "execution_count": null,
   "id": "cb09663e-9dbd-41f5-b3f0-b442b1a00ab3",
   "metadata": {},
   "outputs": [],
   "source": [
    "chain = LLMMathChain(llm=model)"
   ]
  },
  {
   "cell_type": "code",
   "execution_count": null,
   "id": "f4a213bf-e2fb-4c9d-a59a-441d12311397",
   "metadata": {},
   "outputs": [
    {
     "name": "stdout",
     "output_type": "stream",
     "text": [
      "You are GPT-3, and you can't do math.\n",
      "\n",
      "You can do basic math, and your memorization abilities are impressive, but you can't do any complex calculations that a human could not do in their head. You also have an annoying tendency to just make up highly specific, but wrong, answers.\n",
      "\n",
      "So we hooked you up to a Python 3 kernel, and now you can execute code. If anyone gives you a hard math problem, just use this format and we’ll take care of the rest:\n",
      "\n",
      "Question: ${{Question with hard calculation.}}\n",
      "```python\n",
      "${{Code that prints what you need to know}}\n",
      "```\n",
      "```output\n",
      "${{Output of your code}}\n",
      "```\n",
      "Answer: ${{Answer}}\n",
      "\n",
      "Otherwise, use this simpler format:\n",
      "\n",
      "Question: ${{Question without hard calculation}}\n",
      "Answer: ${{Answer}}\n",
      "\n",
      "Begin.\n",
      "\n",
      "Question: What is 37593 * 67?\n",
      "\n",
      "```python\n",
      "print(37593 * 67)\n",
      "```\n",
      "```output\n",
      "2518731\n",
      "```\n",
      "Answer: 2518731\n",
      "\n",
      "Question: {question}\n",
      "\n"
     ]
    }
   ],
   "source": [
    "print(chain.prompt.template)"
   ]
  },
  {
   "cell_type": "markdown",
   "id": "89543cba-9620-4b5a-a7ed-779e881346a3",
   "metadata": {},
   "source": [
    "##### Example 5 [X]"
   ]
  },
  {
   "cell_type": "markdown",
   "id": "81aee451-4fae-431b-b9d4-321fc32590b2",
   "metadata": {},
   "source": [
    "Create a chain that capitalizes the input as shown below"
   ]
  },
  {
   "cell_type": "code",
   "execution_count": null,
   "id": "67465b63-0260-4a8e-aa06-01baa8f87933",
   "metadata": {},
   "outputs": [],
   "source": [
    "from langchain.chains import TransformChain"
   ]
  },
  {
   "cell_type": "code",
   "execution_count": null,
   "id": "3cb2e3c0-533a-4b4a-9415-36af08dfd333",
   "metadata": {},
   "outputs": [],
   "source": [
    "def to_uppercase(inputs):    \n",
    "    return {\"text\": inputs[\"text\"].upper()}"
   ]
  },
  {
   "cell_type": "code",
   "execution_count": null,
   "id": "a7b0952f-7823-4dab-9f1b-5aa543ff3551",
   "metadata": {},
   "outputs": [],
   "source": [
    "transform_chain = TransformChain(\n",
    "    input_variables=[\"text\"],\n",
    "    output_variables=[\"text\"],\n",
    "    transform=to_uppercase\n",
    ")"
   ]
  },
  {
   "cell_type": "code",
   "execution_count": null,
   "id": "d0d6386b-c014-492b-8884-ad5c470978b1",
   "metadata": {},
   "outputs": [
    {
     "data": {
      "text/plain": [
       "'HELLO WORLD'"
      ]
     },
     "execution_count": null,
     "metadata": {},
     "output_type": "execute_result"
    }
   ],
   "source": [
    "transform_chain.run(\"Hello world\")"
   ]
  },
  {
   "cell_type": "markdown",
   "id": "6d1025c7-89ab-49f6-a35e-1ae2c48eeb27",
   "metadata": {},
   "source": [
    "##### Example 6"
   ]
  },
  {
   "cell_type": "code",
   "execution_count": null,
   "id": "5135b871-084e-4aeb-b6a7-c65654bcf7c9",
   "metadata": {},
   "outputs": [],
   "source": [
    "from langchain.chains import ConversationChain"
   ]
  },
  {
   "cell_type": "code",
   "execution_count": null,
   "id": "1dd2644a-5916-40b0-9066-c1fea0ce5d6e",
   "metadata": {},
   "outputs": [],
   "source": [
    "chain = ConversationChain(llm=model)"
   ]
  },
  {
   "cell_type": "code",
   "execution_count": null,
   "id": "d6027ee7-cbb0-4cd4-a153-8104dd616b64",
   "metadata": {},
   "outputs": [
    {
     "name": "stdout",
     "output_type": "stream",
     "text": [
      "The following is a friendly conversation between a human and an AI. The AI is talkative and provides lots of specific details from its context. If the AI does not know the answer to a question, it truthfully says it does not know.\n",
      "\n",
      "Current conversation:\n",
      "{history}\n",
      "Human: {input}\n",
      "AI:\n"
     ]
    }
   ],
   "source": [
    "print(chain.prompt.template)"
   ]
  },
  {
   "cell_type": "code",
   "execution_count": null,
   "id": "19eb8792-e64d-4c91-bccf-725b80909d58",
   "metadata": {},
   "outputs": [],
   "source": []
  }
 ],
 "metadata": {
  "kernelspec": {
   "display_name": "Python 3 (ipykernel)",
   "language": "python",
   "name": "python3"
  }
 },
 "nbformat": 4,
 "nbformat_minor": 5
}
