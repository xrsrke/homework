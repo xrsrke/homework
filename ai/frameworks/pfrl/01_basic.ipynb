{
 "cells": [
  {
   "cell_type": "code",
   "execution_count": null,
   "id": "46c17461-ca7c-4422-a2e3-4d6eba1ca0ed",
   "metadata": {},
   "outputs": [
    {
     "name": "stderr",
     "output_type": "stream",
     "text": [
      "\n"
     ]
    }
   ],
   "source": [
    "import pfrl"
   ]
  },
  {
   "cell_type": "code",
   "execution_count": null,
   "id": "662c0144-0e10-49ab-8c84-b9e525250949",
   "metadata": {},
   "outputs": [],
   "source": [
    "import torch\n",
    "from torch import nn\n",
    "import gym\n",
    "import numpy"
   ]
  },
  {
   "cell_type": "code",
   "execution_count": null,
   "id": "9cddc2b0-a3de-4236-86f7-fa87111b7842",
   "metadata": {},
   "outputs": [
    {
     "name": "stdout",
     "output_type": "stream",
     "text": [
      "observation space: Box([-4.8000002e+00 -3.4028235e+38 -4.1887903e-01 -3.4028235e+38], [4.8000002e+00 3.4028235e+38 4.1887903e-01 3.4028235e+38], (4,), float32)\n",
      "action space: Discrete(2)\n",
      "initial observation: [ 0.00541541  0.0156259   0.02166112 -0.02184244]\n",
      "next observation: [ 0.00572793  0.21043062  0.02122427 -0.3076131 ]\n",
      "reward: 1.0\n",
      "done: False\n",
      "info: {}\n"
     ]
    }
   ],
   "source": [
    "env = gym.make('CartPole-v0')\n",
    "print('observation space:', env.observation_space)\n",
    "print('action space:', env.action_space)\n",
    "\n",
    "obs = env.reset()\n",
    "print('initial observation:', obs)\n",
    "\n",
    "action = env.action_space.sample()\n",
    "obs, r, done, info = env.step(action)\n",
    "print('next observation:', obs)\n",
    "print('reward:', r)\n",
    "print('done:', done)\n",
    "print('info:', info)"
   ]
  },
  {
   "cell_type": "code",
   "execution_count": null,
   "id": "b9ae7a85-5899-4db8-9968-b98c6217f0ab",
   "metadata": {},
   "outputs": [],
   "source": [
    "obs_size = env.observation_space.low.size\n",
    "n_actions = env.action_space.n"
   ]
  },
  {
   "cell_type": "code",
   "execution_count": null,
   "id": "8d625d5e-5048-4faa-8739-94b1cf6f286f",
   "metadata": {},
   "outputs": [],
   "source": [
    "x = torch.randn(50, 4)"
   ]
  },
  {
   "cell_type": "markdown",
   "id": "c0ec6ddb-2fc5-406b-8334-2320758b0bc3",
   "metadata": {},
   "source": [
    "##### Example 1"
   ]
  },
  {
   "cell_type": "code",
   "execution_count": null,
   "id": "354d7f02-b35b-4a4b-b106-ec8e9112f54c",
   "metadata": {},
   "outputs": [],
   "source": [
    "from torch import nn"
   ]
  },
  {
   "cell_type": "markdown",
   "id": "bac881ec-25f6-4848-9937-73fe4063bd1a",
   "metadata": {},
   "source": [
    "Write a vanila Q-Function as bellow\n",
    "\n",
    "**Hint**: Use `pfrl` as a wrapper for the `q_values`"
   ]
  },
  {
   "cell_type": "code",
   "execution_count": null,
   "id": "9cfc4e48-b698-4e4f-b2e5-343f708f449a",
   "metadata": {},
   "outputs": [],
   "source": [
    "from pfrl.q_functions import DiscreteActionValueHead"
   ]
  },
  {
   "cell_type": "code",
   "execution_count": null,
   "id": "3a6d1973-a4cf-48a2-a737-0d4dd5a64440",
   "metadata": {},
   "outputs": [],
   "source": [
    "q_func = nn.Sequential(\n",
    "    nn.Linear(4, 50),\n",
    "    nn.ReLU(),\n",
    "    nn.Linear(50, 2),\n",
    "    DiscreteActionValueHead()\n",
    ")"
   ]
  },
  {
   "cell_type": "code",
   "execution_count": null,
   "id": "2ccaf5d6-54d8-4a5f-a354-f9cde3074e8e",
   "metadata": {},
   "outputs": [
    {
     "data": {
      "text/plain": [
       "Sequential(\n",
       "  (0): Linear(in_features=4, out_features=50, bias=True)\n",
       "  (1): ReLU()\n",
       "  (2): Linear(in_features=50, out_features=2, bias=True)\n",
       "  (3): DiscreteActionValueHead()\n",
       ")"
      ]
     },
     "execution_count": null,
     "metadata": {},
     "output_type": "execute_result"
    }
   ],
   "source": [
    "q_func"
   ]
  },
  {
   "cell_type": "code",
   "execution_count": null,
   "id": "7f926b13-8549-4a54-84b2-2f444e7b28c0",
   "metadata": {},
   "outputs": [],
   "source": [
    "output = q_func(x)"
   ]
  },
  {
   "cell_type": "code",
   "execution_count": null,
   "id": "39d0b622-6949-48d4-b5a4-bf0baf47ed2b",
   "metadata": {},
   "outputs": [
    {
     "data": {
      "text/plain": [
       "torch.Size([50, 2])"
      ]
     },
     "execution_count": null,
     "metadata": {},
     "output_type": "execute_result"
    }
   ],
   "source": [
    "output.q_values.shape"
   ]
  },
  {
   "cell_type": "code",
   "execution_count": null,
   "id": "cba748a4-4832-4bc0-8fab-85a0743aac83",
   "metadata": {},
   "outputs": [],
   "source": []
  }
 ],
 "metadata": {
  "kernelspec": {
   "display_name": "Python 3 (ipykernel)",
   "language": "python",
   "name": "python3"
  }
 },
 "nbformat": 4,
 "nbformat_minor": 5
}
