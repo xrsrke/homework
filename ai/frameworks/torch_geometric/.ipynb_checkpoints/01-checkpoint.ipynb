{
 "cells": [
  {
   "cell_type": "markdown",
   "id": "94b5d28d-a01e-42cb-b744-7f9674c9e83f",
   "metadata": {},
   "source": [
    "##### Example 1"
   ]
  },
  {
   "cell_type": "code",
   "execution_count": null,
   "id": "00746d08-8ab0-4385-8cac-475b53bfaa3d",
   "metadata": {},
   "outputs": [],
   "source": [
    "import torch"
   ]
  },
  {
   "cell_type": "markdown",
   "id": "c5e2a914-9248-4283-856e-b849b6334351",
   "metadata": {},
   "source": [
    "Create an undirected graph as bellow. Explain all the code"
   ]
  },
  {
   "cell_type": "code",
   "execution_count": null,
   "id": "c494b765-d692-408f-8adb-48a46e066702",
   "metadata": {},
   "outputs": [],
   "source": [
    "from torch_geometric.data import Data"
   ]
  },
  {
   "cell_type": "code",
   "execution_count": null,
   "id": "de6d06ff-7927-4bff-8cea-d100b1554a6f",
   "metadata": {},
   "outputs": [],
   "source": [
    "x = torch.tensor([\n",
    "    [-1], [0], [1]\n",
    "])"
   ]
  },
  {
   "cell_type": "code",
   "execution_count": null,
   "id": "34a21b43-9503-4f39-978e-eea191506f46",
   "metadata": {},
   "outputs": [],
   "source": [
    "edge_index = torch.tensor([\n",
    "    [0, 1, 1, 2],\n",
    "    [1, 0, 2, 1]\n",
    "])"
   ]
  },
  {
   "cell_type": "markdown",
   "id": "93b73a1f-4b01-4807-ae36-2f9615d783c2",
   "metadata": {},
   "source": [
    "**Explain**\n",
    "\n",
    "`x` encodes the node features:\n",
    "- `Node 0` has a feature of `-1`.\n",
    "- `Node 1` has a feature of `0`.\n",
    "- `Node 2` has a feature of `1`.\n",
    "\n",
    "`edge_index` encodes the relationship between nodes:\n",
    "- Column 1: Connection from `node 0` to `node 1`.\n",
    "- Column 2: Connection from `node 1` to `node 0`.\n",
    "- Column 3: Connection from `node 1` to `node 2`.\n",
    "- Column 4: Connection from `node 2` to `node 1`."
   ]
  },
  {
   "cell_type": "code",
   "execution_count": null,
   "id": "588fc9eb-75cf-41dd-8aed-d7401d663a85",
   "metadata": {},
   "outputs": [],
   "source": [
    "data = Data(x=x, edge_index=edge_index)"
   ]
  },
  {
   "cell_type": "code",
   "execution_count": null,
   "id": "e11f4409-2a7c-4e53-a33a-f16f11bf84f9",
   "metadata": {},
   "outputs": [
    {
     "data": {
      "text/plain": [
       "Data(x=[3, 1], edge_index=[2, 4])"
      ]
     },
     "execution_count": null,
     "metadata": {},
     "output_type": "execute_result"
    }
   ],
   "source": [
    "data"
   ]
  },
  {
   "cell_type": "code",
   "execution_count": null,
   "id": "0137d929-0e32-4257-9798-a5d47caa6d0d",
   "metadata": {},
   "outputs": [
    {
     "data": {
      "text/plain": [
       "tensor([[-1],\n",
       "        [ 0],\n",
       "        [ 1]])"
      ]
     },
     "execution_count": null,
     "metadata": {},
     "output_type": "execute_result"
    }
   ],
   "source": [
    "data['x']"
   ]
  },
  {
   "cell_type": "code",
   "execution_count": null,
   "id": "bd0f3f4f-cfb9-4a15-8392-272d3c187212",
   "metadata": {},
   "outputs": [
    {
     "data": {
      "text/plain": [
       "1"
      ]
     },
     "execution_count": null,
     "metadata": {},
     "output_type": "execute_result"
    }
   ],
   "source": [
    "data.num_node_features"
   ]
  },
  {
   "cell_type": "code",
   "execution_count": null,
   "id": "8be7879a-ea0f-4e88-b9e4-9e53b954133a",
   "metadata": {},
   "outputs": [
    {
     "data": {
      "text/plain": [
       "True"
      ]
     },
     "execution_count": null,
     "metadata": {},
     "output_type": "execute_result"
    }
   ],
   "source": [
    "data.is_undirected()"
   ]
  },
  {
   "cell_type": "markdown",
   "id": "2ef485bd-990e-42d6-8d6a-796bf2474a51",
   "metadata": {},
   "source": [
    "##### Example 2"
   ]
  },
  {
   "cell_type": "code",
   "execution_count": null,
   "id": "3b8670c8-224a-4b47-8819-38969d118d0e",
   "metadata": {},
   "outputs": [],
   "source": [
    "from torch_geometric.datasets import Planetoid"
   ]
  },
  {
   "cell_type": "code",
   "execution_count": null,
   "id": "7fd7c0af-a4c0-49df-9ca5-7eb9883c6a93",
   "metadata": {},
   "outputs": [
    {
     "name": "stderr",
     "output_type": "stream",
     "text": [
      "Downloading https://github.com/kimiyoung/planetoid/raw/master/data/ind.cora.x\n",
      "Downloading https://github.com/kimiyoung/planetoid/raw/master/data/ind.cora.tx\n",
      "Downloading https://github.com/kimiyoung/planetoid/raw/master/data/ind.cora.allx\n",
      "Downloading https://github.com/kimiyoung/planetoid/raw/master/data/ind.cora.y\n",
      "Downloading https://github.com/kimiyoung/planetoid/raw/master/data/ind.cora.ty\n",
      "Downloading https://github.com/kimiyoung/planetoid/raw/master/data/ind.cora.ally\n",
      "Downloading https://github.com/kimiyoung/planetoid/raw/master/data/ind.cora.graph\n",
      "Downloading https://github.com/kimiyoung/planetoid/raw/master/data/ind.cora.test.index\n",
      "Processing...\n",
      "Done!\n"
     ]
    }
   ],
   "source": [
    "dataset = Planetoid(root=\"/tmp/Cora\", name=\"Cora\")"
   ]
  },
  {
   "cell_type": "code",
   "execution_count": null,
   "id": "745c2ba2-f696-4991-803b-23592f0468e3",
   "metadata": {},
   "outputs": [
    {
     "data": {
      "text/plain": [
       "torch_geometric.datasets.planetoid.Planetoid"
      ]
     },
     "execution_count": null,
     "metadata": {},
     "output_type": "execute_result"
    }
   ],
   "source": [
    "type(dataset)"
   ]
  },
  {
   "cell_type": "code",
   "execution_count": null,
   "id": "ac99d1cc-2f0f-4df6-99c7-abd51cfd9026",
   "metadata": {},
   "outputs": [],
   "source": [
    "from torch_geometric.loader import DataLoader"
   ]
  },
  {
   "cell_type": "code",
   "execution_count": null,
   "id": "0d860713-43b4-49ab-8ffe-f9f30da868a3",
   "metadata": {},
   "outputs": [],
   "source": []
  }
 ],
 "metadata": {
  "kernelspec": {
   "display_name": "Python 3 (ipykernel)",
   "language": "python",
   "name": "python3"
  }
 },
 "nbformat": 4,
 "nbformat_minor": 5
}
