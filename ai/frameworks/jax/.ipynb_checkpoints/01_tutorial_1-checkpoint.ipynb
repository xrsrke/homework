{
 "cells": [
  {
   "cell_type": "markdown",
   "id": "12aa9dc5-84f9-45a8-9bbb-873ffd2f3d5c",
   "metadata": {},
   "source": [
    "Source: https://www.youtube.com/watch?v=SstuvS-tVc0"
   ]
  },
  {
   "cell_type": "code",
   "execution_count": null,
   "id": "fa1e134a-03b8-437a-843d-e5981c9dda79",
   "metadata": {},
   "outputs": [],
   "source": [
    "import jax.numpy as jnp"
   ]
  },
  {
   "cell_type": "markdown",
   "id": "8d5b022f-060a-4078-8854-051aac4f01a7",
   "metadata": {},
   "source": [
    "##### Example 1"
   ]
  },
  {
   "cell_type": "code",
   "execution_count": null,
   "id": "a5fc4b0e-74e4-4c90-970b-9c31f55757be",
   "metadata": {},
   "outputs": [],
   "source": [
    "xs = jnp.array([0, 1, 2, 3, 4])"
   ]
  },
  {
   "cell_type": "code",
   "execution_count": null,
   "id": "43463e3f-717f-4123-9c97-d9c02b9ade74",
   "metadata": {},
   "outputs": [
    {
     "data": {
      "text/plain": [
       "jaxlib.xla_extension.Array"
      ]
     },
     "execution_count": null,
     "metadata": {},
     "output_type": "execute_result"
    }
   ],
   "source": [
    "type(xs)"
   ]
  },
  {
   "cell_type": "code",
   "execution_count": null,
   "id": "19a61344-5f5a-45e3-aab8-bdd4b050e7e5",
   "metadata": {},
   "outputs": [
    {
     "data": {
      "text/plain": [
       "Array([0, 1, 2, 3, 4], dtype=int32)"
      ]
     },
     "execution_count": null,
     "metadata": {},
     "output_type": "execute_result"
    }
   ],
   "source": [
    "xs"
   ]
  },
  {
   "cell_type": "markdown",
   "id": "912beabd-3dcc-4c39-af9a-3abacdc53f05",
   "metadata": {},
   "source": [
    "Create a new array that has the same values as `xs`, but with the values of indices `2` to `100`"
   ]
  },
  {
   "cell_type": "code",
   "execution_count": null,
   "id": "22dca609-241e-42c8-aa29-206c8270b8b6",
   "metadata": {},
   "outputs": [],
   "source": [
    "new_xs = xs.at[2].set(100)"
   ]
  },
  {
   "cell_type": "code",
   "execution_count": null,
   "id": "a55b5200-7800-4730-a393-d8b1f79c19be",
   "metadata": {},
   "outputs": [
    {
     "data": {
      "text/plain": [
       "Array([  0,   1, 100,   3,   4], dtype=int32)"
      ]
     },
     "execution_count": null,
     "metadata": {},
     "output_type": "execute_result"
    }
   ],
   "source": [
    "new_xs"
   ]
  },
  {
   "cell_type": "code",
   "execution_count": null,
   "id": "895f2004-bdca-4180-a75a-36f02b5d9145",
   "metadata": {},
   "outputs": [
    {
     "data": {
      "text/plain": [
       "Array([0, 1, 2, 3, 4], dtype=int32)"
      ]
     },
     "execution_count": null,
     "metadata": {},
     "output_type": "execute_result"
    }
   ],
   "source": [
    "xs"
   ]
  },
  {
   "cell_type": "markdown",
   "id": "3c25ed11-8f68-46d8-86e5-264880e9fccb",
   "metadata": {},
   "source": [
    "##### Example 2"
   ]
  },
  {
   "cell_type": "code",
   "execution_count": null,
   "id": "e66395c3-046b-467a-a164-54018a17bd7e",
   "metadata": {},
   "outputs": [],
   "source": [
    "from jax import random"
   ]
  },
  {
   "cell_type": "code",
   "execution_count": null,
   "id": "bd623a27-8084-4d50-9ffc-8e644b019355",
   "metadata": {},
   "outputs": [],
   "source": [
    "seed = 42"
   ]
  },
  {
   "cell_type": "markdown",
   "id": "d2a2f590-5695-407d-a4ba-36977770d301",
   "metadata": {},
   "source": [
    "Create a pseudo random with seed `42`"
   ]
  },
  {
   "cell_type": "code",
   "execution_count": null,
   "id": "4b5ef471-ad3d-4216-aac1-5e1458660bba",
   "metadata": {},
   "outputs": [],
   "source": [
    "key = random.PRNGKey(seed)"
   ]
  },
  {
   "cell_type": "code",
   "execution_count": null,
   "id": "952b7577-55d5-4739-8c7c-04084b64f5b7",
   "metadata": {},
   "outputs": [
    {
     "data": {
      "text/plain": [
       "Array([ 0, 42], dtype=uint32)"
      ]
     },
     "execution_count": null,
     "metadata": {},
     "output_type": "execute_result"
    }
   ],
   "source": [
    "key"
   ]
  },
  {
   "cell_type": "markdown",
   "id": "a1fec157-551b-46da-b8fb-291b5de322e1",
   "metadata": {},
   "source": [
    "### Transform Functions"
   ]
  },
  {
   "cell_type": "markdown",
   "id": "e69cc111-2b24-4f2a-8e80-7b2d448b60f4",
   "metadata": {},
   "source": [
    "##### Example 1"
   ]
  },
  {
   "cell_type": "code",
   "execution_count": null,
   "id": "539da6e5-2a00-4205-9ac2-23d1103adc76",
   "metadata": {},
   "outputs": [],
   "source": [
    "import jax"
   ]
  },
  {
   "cell_type": "code",
   "execution_count": null,
   "id": "95d43da0-cd1a-403b-8b35-0545a8d4354d",
   "metadata": {},
   "outputs": [],
   "source": [
    "def square(x):\n",
    "    return x**2"
   ]
  },
  {
   "cell_type": "markdown",
   "id": "1576a4d1-6541-4b3f-9873-c2b6c6118272",
   "metadata": {},
   "source": [
    "Compile the function `square` to XLA-optimized machine code "
   ]
  },
  {
   "cell_type": "code",
   "execution_count": null,
   "id": "35121157-28eb-4051-857d-826bf4d7e07b",
   "metadata": {},
   "outputs": [],
   "source": [
    "modified_square = jax.jit(square)"
   ]
  },
  {
   "cell_type": "code",
   "execution_count": null,
   "id": "8862068b-2b67-4f4f-844d-518b1a58c3e1",
   "metadata": {},
   "outputs": [
    {
     "data": {
      "text/plain": [
       "Array(4, dtype=int32, weak_type=True)"
      ]
     },
     "execution_count": null,
     "metadata": {},
     "output_type": "execute_result"
    }
   ],
   "source": [
    "modified_square(2)"
   ]
  },
  {
   "cell_type": "markdown",
   "id": "d180d3a6-4302-4f6b-ac79-6a2d2319f38a",
   "metadata": {},
   "source": [
    "##### Example 2"
   ]
  },
  {
   "cell_type": "code",
   "execution_count": null,
   "id": "f270ad14-09e6-4336-a9a4-0d7919691c36",
   "metadata": {},
   "outputs": [],
   "source": [
    "xs = jnp.arange(3.)"
   ]
  },
  {
   "cell_type": "code",
   "execution_count": null,
   "id": "de44fbaf-ee07-4b35-a660-7fe7420ff18c",
   "metadata": {},
   "outputs": [],
   "source": [
    "import jax\n",
    "import jax.numpy as jnp"
   ]
  },
  {
   "cell_type": "code",
   "execution_count": null,
   "id": "0f04a82f-8c49-4f69-8391-f663b64c66e7",
   "metadata": {},
   "outputs": [],
   "source": [
    "def loss(x):\n",
    "    return jnp.sum(1.0 / (1.0 + jnp.exp(-x)))"
   ]
  },
  {
   "cell_type": "markdown",
   "id": "e1d0d3ac-67dd-4150-a2cc-597a431edf03",
   "metadata": {},
   "source": [
    "Compute the gradient of the function `loss`"
   ]
  },
  {
   "cell_type": "code",
   "execution_count": null,
   "id": "31b7c7dc-309a-466e-8469-dabb6b7edf49",
   "metadata": {},
   "outputs": [],
   "source": [
    "grad_loss = jax.grad(loss)"
   ]
  },
  {
   "cell_type": "code",
   "execution_count": null,
   "id": "b96f7761-6cfe-4679-beed-b770d89f7da7",
   "metadata": {},
   "outputs": [
    {
     "data": {
      "text/plain": [
       "<function __main__.loss(x)>"
      ]
     },
     "execution_count": null,
     "metadata": {},
     "output_type": "execute_result"
    }
   ],
   "source": [
    "grad_loss"
   ]
  },
  {
   "cell_type": "code",
   "execution_count": null,
   "id": "9d3add22-5fb2-43a3-b959-fabdd4a6985f",
   "metadata": {},
   "outputs": [
    {
     "data": {
      "text/plain": [
       "(Array([0., 1., 2.], dtype=float32),\n",
       " Array([0.25      , 0.19661197, 0.10499357], dtype=float32))"
      ]
     },
     "execution_count": null,
     "metadata": {},
     "output_type": "execute_result"
    }
   ],
   "source": [
    "xs, grad_loss(xs)"
   ]
  },
  {
   "cell_type": "markdown",
   "id": "aeb4f35b-0768-42f9-a868-8535c6d1d148",
   "metadata": {},
   "source": [
    "##### Example 2"
   ]
  },
  {
   "cell_type": "code",
   "execution_count": null,
   "id": "673f6097-5fb4-4a16-a787-7a4c160bd901",
   "metadata": {},
   "outputs": [],
   "source": [
    "import jax"
   ]
  },
  {
   "cell_type": "code",
   "execution_count": null,
   "id": "a5d3d83e-fd96-41b7-a696-b68cd1999ef0",
   "metadata": {},
   "outputs": [],
   "source": [
    "f = lambda x: x**2 + x + 4"
   ]
  },
  {
   "cell_type": "markdown",
   "id": "0db957cd-ee2a-42f0-bdc3-bdbdd4ded23c",
   "metadata": {},
   "source": [
    "Compute the 3rd order derivative of `f`"
   ]
  },
  {
   "cell_type": "code",
   "execution_count": null,
   "id": "4e6db51d-4524-4676-a704-2ed748cce71b",
   "metadata": {},
   "outputs": [],
   "source": [
    "dfdx = jax.grad(f)"
   ]
  },
  {
   "cell_type": "code",
   "execution_count": null,
   "id": "4519d5c4-8804-491a-93c7-0da5585f6073",
   "metadata": {},
   "outputs": [],
   "source": [
    "d2fdx = jax.grad(dfdx)"
   ]
  },
  {
   "cell_type": "code",
   "execution_count": null,
   "id": "57ab4d7c-8efa-4129-b1f9-03b7b44c3e7c",
   "metadata": {},
   "outputs": [],
   "source": [
    "d3fdx = jax.grad(d2fdx)"
   ]
  },
  {
   "cell_type": "code",
   "execution_count": null,
   "id": "411d61c6-55d1-43e1-811d-45d5ecdcc5a8",
   "metadata": {},
   "outputs": [
    {
     "data": {
      "text/plain": [
       "<function __main__.<lambda>(x)>"
      ]
     },
     "execution_count": null,
     "metadata": {},
     "output_type": "execute_result"
    }
   ],
   "source": [
    "d3fdx"
   ]
  },
  {
   "cell_type": "code",
   "execution_count": null,
   "id": "6f693e01-170d-424c-97e2-9838067a9964",
   "metadata": {},
   "outputs": [
    {
     "data": {
      "text/plain": [
       "Array(0., dtype=float32, weak_type=True)"
      ]
     },
     "execution_count": null,
     "metadata": {},
     "output_type": "execute_result"
    }
   ],
   "source": [
    "d3fdx(1.)"
   ]
  },
  {
   "cell_type": "markdown",
   "id": "ec5ccd93-4fb4-4491-97df-a94adc3f2717",
   "metadata": {},
   "source": [
    "##### Example 3"
   ]
  },
  {
   "cell_type": "code",
   "execution_count": null,
   "id": "ff3e52b3-7e37-4f44-bda4-bc8d180235de",
   "metadata": {},
   "outputs": [],
   "source": [
    "def multiply(x, y):\n",
    "    return x * y"
   ]
  },
  {
   "cell_type": "code",
   "execution_count": null,
   "id": "e22b43fb-0e4f-4f8c-a304-544070cc7de7",
   "metadata": {},
   "outputs": [],
   "source": [
    "xs = [3, 4, 5]\n",
    "ys = [6, 7, 8]"
   ]
  },
  {
   "cell_type": "code",
   "execution_count": null,
   "id": "02d44af5-888b-4048-8b5c-5d6768f60246",
   "metadata": {},
   "outputs": [],
   "source": [
    "results = []\n",
    "for x, y in zip(xs, ys):\n",
    "    result = multiply(x, y)\n",
    "    results.append(result)"
   ]
  },
  {
   "cell_type": "code",
   "execution_count": null,
   "id": "7f24ae01-44f3-4ac5-af4d-5ef24bfada6d",
   "metadata": {},
   "outputs": [
    {
     "data": {
      "text/plain": [
       "[18, 28, 40]"
      ]
     },
     "execution_count": null,
     "metadata": {},
     "output_type": "execute_result"
    }
   ],
   "source": [
    "results"
   ]
  },
  {
   "cell_type": "markdown",
   "id": "e121bb6f-b312-45cd-a4f5-e5879df44d87",
   "metadata": {},
   "source": [
    "Apply the function `multiply` to  all of the pairs of numbers `xs`, and `ys` at once"
   ]
  },
  {
   "cell_type": "code",
   "execution_count": null,
   "id": "a6c7ab83-3274-4140-be95-fcac0d510daf",
   "metadata": {},
   "outputs": [],
   "source": [
    "import jax\n",
    "import jax.numpy as jnp"
   ]
  },
  {
   "cell_type": "code",
   "execution_count": null,
   "id": "345878c1-2df6-46b2-ba43-77ca48070651",
   "metadata": {},
   "outputs": [],
   "source": [
    "vmapped_multiply = jax.vmap(multiply)\n",
    "results = vmapped_multiply(jnp.array(xs), jnp.array(ys))"
   ]
  },
  {
   "cell_type": "code",
   "execution_count": null,
   "id": "c882f507-c811-429e-bf9d-a3d0f96a2555",
   "metadata": {},
   "outputs": [
    {
     "data": {
      "text/plain": [
       "Array([18, 28, 40], dtype=int32)"
      ]
     },
     "execution_count": null,
     "metadata": {},
     "output_type": "execute_result"
    }
   ],
   "source": [
    "results"
   ]
  },
  {
   "cell_type": "markdown",
   "id": "6731ecf4-e9c5-4daf-8d1a-3a09fd4f4f5b",
   "metadata": {},
   "source": [
    "##### Example 4"
   ]
  },
  {
   "cell_type": "code",
   "execution_count": null,
   "id": "96a53aff-3f69-4097-9ea8-da6533acb0be",
   "metadata": {},
   "outputs": [],
   "source": [
    "import numpy as np"
   ]
  },
  {
   "cell_type": "code",
   "execution_count": null,
   "id": "1496ae3d-205b-4444-ad09-ace555b1bda9",
   "metadata": {},
   "outputs": [],
   "source": [
    "x = np.random.randn(3, 5)\n",
    "y = np.random.randn(5, 3)"
   ]
  },
  {
   "cell_type": "code",
   "execution_count": null,
   "id": "cee54939-b348-4a04-898f-d27257767c78",
   "metadata": {},
   "outputs": [
    {
     "data": {
      "text/plain": [
       "(numpy.ndarray, numpy.ndarray)"
      ]
     },
     "execution_count": null,
     "metadata": {},
     "output_type": "execute_result"
    }
   ],
   "source": [
    "type(x), type(y)"
   ]
  },
  {
   "cell_type": "code",
   "execution_count": null,
   "id": "efb183bd-e5ab-42cf-8948-0776fafca6e6",
   "metadata": {},
   "outputs": [],
   "source": [
    "from jax import jit"
   ]
  },
  {
   "cell_type": "code",
   "execution_count": null,
   "id": "5cc9bbd7-aa3f-4b2a-b366-061556ec74ff",
   "metadata": {},
   "outputs": [],
   "source": [
    "@jit\n",
    "def f(x, y):\n",
    "    print(f\"this is a comment!\")\n",
    "    return jnp.dot(x+1, y+1)"
   ]
  },
  {
   "cell_type": "markdown",
   "id": "cebfdd16-1488-4cb2-bfc3-79b25991f25e",
   "metadata": {},
   "source": [
    "The first call"
   ]
  },
  {
   "cell_type": "code",
   "execution_count": null,
   "id": "db81405a-7d7a-42cd-b4a3-29266701b0ec",
   "metadata": {},
   "outputs": [
    {
     "name": "stdout",
     "output_type": "stream",
     "text": [
      "this is a comment!\n"
     ]
    },
    {
     "data": {
      "text/plain": [
       "Array([[18.459412 , 11.57047  ,  7.9957714],\n",
       "       [ 5.205792 ,  9.011772 ,  2.5705764],\n",
       "       [11.115227 ,  8.656818 ,  8.333181 ]], dtype=float32)"
      ]
     },
     "execution_count": null,
     "metadata": {},
     "output_type": "execute_result"
    }
   ],
   "source": [
    "f(x, y)"
   ]
  },
  {
   "cell_type": "markdown",
   "id": "a1857578-9b26-42d3-803b-a033707002f2",
   "metadata": {},
   "source": [
    "The second call"
   ]
  },
  {
   "cell_type": "code",
   "execution_count": null,
   "id": "d59f0911-5160-4cdc-9ba3-25f203b2e8cd",
   "metadata": {},
   "outputs": [
    {
     "data": {
      "text/plain": [
       "Array([[18.459412 , 11.57047  ,  7.9957714],\n",
       "       [ 5.205792 ,  9.011772 ,  2.5705764],\n",
       "       [11.115227 ,  8.656818 ,  8.333181 ]], dtype=float32)"
      ]
     },
     "execution_count": null,
     "metadata": {},
     "output_type": "execute_result"
    }
   ],
   "source": [
    "f(x, y)"
   ]
  },
  {
   "cell_type": "markdown",
   "id": "a52e087b-9556-465a-b14a-a271e2269c42",
   "metadata": {},
   "source": [
    "Why does the function not print the comment when it is called the second time?"
   ]
  },
  {
   "cell_type": "markdown",
   "id": "9d7cd77c-5f39-4086-bcdf-c36b87858cd2",
   "metadata": {},
   "source": [
    "**Explain**: Because when you call the function the first time, it is compiled and the comments are printed. But when you call the function the second time, the compiled version is used (the compiled code does not include comments), and that's why the comments are not printed again."
   ]
  },
  {
   "cell_type": "markdown",
   "id": "dd19ae0b-d4b4-42b4-9106-57e44c7e6276",
   "metadata": {},
   "source": [
    "##### Example 5"
   ]
  },
  {
   "cell_type": "markdown",
   "id": "021f9e4e-46ce-41f6-b612-c104d831898e",
   "metadata": {},
   "source": [
    "##### Example 6"
   ]
  },
  {
   "cell_type": "code",
   "execution_count": null,
   "id": "4f9d0296-2d4f-42e7-a06c-46a5cf4b5e0c",
   "metadata": {},
   "outputs": [],
   "source": [
    "import random"
   ]
  },
  {
   "cell_type": "markdown",
   "id": "00f59137-6037-424a-808e-4a42f20ebf22",
   "metadata": {},
   "source": [
    "Is `add_random_number` a pure function? Explain (both yes and no)"
   ]
  },
  {
   "cell_type": "code",
   "execution_count": null,
   "id": "f8d6a611-c8fa-447d-9a44-7a9ffe14328c",
   "metadata": {},
   "outputs": [],
   "source": [
    "def add_random_number(x):\n",
    "    random_num = random.uniform(0, 1)\n",
    "    print(f\"Adding random number {random_num}\")\n",
    "    return x + random_num"
   ]
  },
  {
   "cell_type": "markdown",
   "id": "d912a606-07e3-4b34-b4fe-575698321f81",
   "metadata": {},
   "source": [
    "**Explain**\n",
    "\n",
    "No. It's not a pure function because:\n",
    "\n",
    "- Reason 1: The output depends not only on the input `x` but also on the randomly generated number `random_num`. This means that, given the same input `x`, the function can produce different outputs, which violates the first property of a pure function.\n",
    "\n",
    "- Reason 2: The function has a side effect of printing the random number to the console, which violates the second property of a pure function."
   ]
  },
  {
   "cell_type": "code",
   "execution_count": null,
   "id": "41937771-2fa0-4538-b85b-e9795bbb107e",
   "metadata": {},
   "outputs": [
    {
     "name": "stdout",
     "output_type": "stream",
     "text": [
      "Adding random number 0.28968690517955153\n",
      "Adding random number 0.4863246276705302\n"
     ]
    },
    {
     "data": {
      "text/plain": [
       "False"
      ]
     },
     "execution_count": null,
     "metadata": {},
     "output_type": "execute_result"
    }
   ],
   "source": [
    "add_random_number(1) == add_random_number(1)"
   ]
  },
  {
   "cell_type": "markdown",
   "id": "8ce79fb6-ad60-464a-ad16-95f897044334",
   "metadata": {},
   "source": [
    "##### Example 7"
   ]
  },
  {
   "cell_type": "code",
   "execution_count": null,
   "id": "5bdf04c5-89d9-4d24-98ec-0fb2c905f440",
   "metadata": {},
   "outputs": [],
   "source": [
    "import jax.numpy as jnp"
   ]
  },
  {
   "cell_type": "code",
   "execution_count": null,
   "id": "ee8e9897-35dc-44ed-8e07-80c19e254f11",
   "metadata": {},
   "outputs": [],
   "source": [
    "x = jnp.arange(10)"
   ]
  },
  {
   "cell_type": "code",
   "execution_count": null,
   "id": "77d34080-c71f-4a93-b544-81a1a4a72c88",
   "metadata": {},
   "outputs": [
    {
     "data": {
      "text/plain": [
       "Array([0, 1, 2, 3, 4, 5, 6, 7, 8, 9], dtype=int32)"
      ]
     },
     "execution_count": null,
     "metadata": {},
     "output_type": "execute_result"
    }
   ],
   "source": [
    "x"
   ]
  },
  {
   "cell_type": "code",
   "execution_count": null,
   "id": "e09aa637-2cf5-4581-b39f-63d6be53555e",
   "metadata": {},
   "outputs": [
    {
     "data": {
      "text/plain": [
       "(10,)"
      ]
     },
     "execution_count": null,
     "metadata": {},
     "output_type": "execute_result"
    }
   ],
   "source": [
    "x.shape"
   ]
  },
  {
   "cell_type": "code",
   "execution_count": null,
   "id": "d5b8ee40-54c9-4611-95e1-7caeaad5968e",
   "metadata": {},
   "outputs": [],
   "source": [
    "new_x = x.at[42].add(69)"
   ]
  },
  {
   "cell_type": "markdown",
   "id": "670caac4-ffb0-48e7-8a29-1ad1e65f2525",
   "metadata": {},
   "source": [
    "What is the value of `new_x`? Explain\n",
    "\n",
    "**Hint**: Maybe has some error 😉"
   ]
  },
  {
   "cell_type": "markdown",
   "id": "9bd2b164-c129-4183-8f80-03952e808cd6",
   "metadata": {},
   "source": [
    "**Explain**"
   ]
  },
  {
   "cell_type": "markdown",
   "id": "45628021-7ec1-4cc0-95a6-762b2c668c5b",
   "metadata": {},
   "source": [
    "The value of `new_x` is the same as `x`.\n",
    "\n",
    "Because JAX handles out-of-bounds indices differently than NumPy/Python array.\n",
    "\n",
    "In JAX, when an out-of-bounds index is used in `x.at[idx].add(val)`, it will simply ignore the operation and return the original array without changes."
   ]
  },
  {
   "cell_type": "code",
   "execution_count": null,
   "id": "0ea89e91-36af-4424-b12d-4451e7680b31",
   "metadata": {},
   "outputs": [
    {
     "data": {
      "text/plain": [
       "Array([0, 1, 2, 3, 4, 5, 6, 7, 8, 9], dtype=int32)"
      ]
     },
     "execution_count": null,
     "metadata": {},
     "output_type": "execute_result"
    }
   ],
   "source": [
    "new_x"
   ]
  },
  {
   "cell_type": "markdown",
   "id": "0a331c5e-d923-4369-8d4a-40e0b4951822",
   "metadata": {},
   "source": [
    "##### Example 8"
   ]
  },
  {
   "cell_type": "code",
   "execution_count": null,
   "id": "d0f866fe-02ad-4a65-820e-841de3a06380",
   "metadata": {},
   "outputs": [],
   "source": [
    "from jax import make_jaxpr"
   ]
  },
  {
   "cell_type": "code",
   "execution_count": null,
   "id": "d4a6051a-6106-4dbe-95c2-3867a8e9b3be",
   "metadata": {},
   "outputs": [],
   "source": []
  }
 ],
 "metadata": {
  "kernelspec": {
   "display_name": "Python 3 (ipykernel)",
   "language": "python",
   "name": "python3"
  }
 },
 "nbformat": 4,
 "nbformat_minor": 5
}
