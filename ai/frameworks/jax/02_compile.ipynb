{
 "cells": [
  {
   "cell_type": "markdown",
   "id": "dff6fb33-259f-45af-820e-996bc9875571",
   "metadata": {},
   "source": [
    "Source: https://jax.readthedocs.io/en/latest/jax-101/02-jitting.html"
   ]
  },
  {
   "cell_type": "markdown",
   "id": "42fc7359-2dac-469c-a23b-ad3458a56099",
   "metadata": {},
   "source": [
    "### Just In Time Compilation with JAX"
   ]
  },
  {
   "cell_type": "code",
   "execution_count": null,
   "id": "ce7a2138-73a0-44c9-a02f-35b741d61975",
   "metadata": {},
   "outputs": [],
   "source": [
    "import jax.numpy as jnp"
   ]
  },
  {
   "cell_type": "markdown",
   "id": "14323116-e07f-4048-9119-7ac70feb3b7e",
   "metadata": {},
   "source": [
    "##### Example 1"
   ]
  },
  {
   "cell_type": "code",
   "execution_count": null,
   "id": "b97fd767-f150-4101-b1ec-3f766f52f9ba",
   "metadata": {},
   "outputs": [],
   "source": [
    "import jax"
   ]
  },
  {
   "cell_type": "code",
   "execution_count": null,
   "id": "de7363b9-db68-4e3d-ae45-7087cf3a57ed",
   "metadata": {},
   "outputs": [],
   "source": [
    "def _pow(x, n):\n",
    "    return x ** n"
   ]
  },
  {
   "cell_type": "code",
   "execution_count": null,
   "id": "0fe94974-6fe4-481d-a3c5-43476a1272f1",
   "metadata": {},
   "outputs": [
    {
     "data": {
      "text/plain": [
       "(4, 8)"
      ]
     },
     "execution_count": null,
     "metadata": {},
     "output_type": "execute_result"
    }
   ],
   "source": [
    "pow(2, 2), pow(2, 3)"
   ]
  },
  {
   "cell_type": "code",
   "execution_count": null,
   "id": "5ecde0e9-d682-48be-96d2-041d58dd646c",
   "metadata": {},
   "outputs": [],
   "source": [
    "x = jnp.array([1., 2., 3.])"
   ]
  },
  {
   "cell_type": "code",
   "execution_count": null,
   "id": "b8645b6e-5dac-40f1-8d47-7c29e0c256e1",
   "metadata": {},
   "outputs": [
    {
     "data": {
      "text/plain": [
       "Array([1., 2., 3.], dtype=float32)"
      ]
     },
     "execution_count": null,
     "metadata": {},
     "output_type": "execute_result"
    }
   ],
   "source": [
    "x"
   ]
  },
  {
   "cell_type": "code",
   "execution_count": null,
   "id": "6622cf80-d12f-4807-9414-4bc5a0a81e53",
   "metadata": {},
   "outputs": [],
   "source": [
    "jit_pow = jax.jit(pow)"
   ]
  },
  {
   "cell_type": "code",
   "execution_count": null,
   "id": "6a9fc052-059e-4019-969f-ab118dac3c8d",
   "metadata": {},
   "outputs": [
    {
     "data": {
      "text/plain": [
       "Array(8, dtype=int32)"
      ]
     },
     "execution_count": null,
     "metadata": {},
     "output_type": "execute_result"
    }
   ],
   "source": [
    "jit_pow(2, 3)"
   ]
  },
  {
   "cell_type": "code",
   "execution_count": null,
   "id": "09ac5479-536e-4ffb-a822-2e84c441de3c",
   "metadata": {},
   "outputs": [],
   "source": [
    "def f(x):\n",
    "    if x > 0:\n",
    "        return x\n",
    "    else:\n",
    "        return 2 * x"
   ]
  },
  {
   "cell_type": "code",
   "execution_count": null,
   "id": "fb96a2e7-a7cc-444e-b14d-ff7059e447b6",
   "metadata": {},
   "outputs": [],
   "source": [
    "f_jit = jax.jit(f, static_argnums=1)"
   ]
  },
  {
   "cell_type": "code",
   "execution_count": null,
   "id": "ba0b6581-8093-49e0-9b12-862fac7e8d87",
   "metadata": {},
   "outputs": [
    {
     "ename": "TypeError",
     "evalue": "f() takes 1 positional argument but 2 were given",
     "output_type": "error",
     "traceback": [
      "\u001b[0;31m---------------------------------------------------------------------------\u001b[0m",
      "\u001b[0;31mTypeError\u001b[0m                                 Traceback (most recent call last)",
      "Cell \u001b[0;32mIn[36], line 1\u001b[0m\n\u001b[0;32m----> 1\u001b[0m \u001b[43mf_jit\u001b[49m\u001b[43m(\u001b[49m\u001b[38;5;241;43m10\u001b[39;49m\u001b[43m,\u001b[49m\u001b[43m \u001b[49m\u001b[38;5;241;43m2\u001b[39;49m\u001b[43m)\u001b[49m\n",
      "    \u001b[0;31m[... skipping hidden 11 frame]\u001b[0m\n",
      "File \u001b[0;32m~/miniforge3/envs/gym/lib/python3.8/site-packages/jax/_src/linear_util.py:165\u001b[0m, in \u001b[0;36mWrappedFun.call_wrapped\u001b[0;34m(self, *args, **kwargs)\u001b[0m\n\u001b[1;32m    162\u001b[0m gen \u001b[38;5;241m=\u001b[39m gen_static_args \u001b[38;5;241m=\u001b[39m out_store \u001b[38;5;241m=\u001b[39m \u001b[38;5;28;01mNone\u001b[39;00m\n\u001b[1;32m    164\u001b[0m \u001b[38;5;28;01mtry\u001b[39;00m:\n\u001b[0;32m--> 165\u001b[0m   ans \u001b[38;5;241m=\u001b[39m \u001b[38;5;28;43mself\u001b[39;49m\u001b[38;5;241;43m.\u001b[39;49m\u001b[43mf\u001b[49m\u001b[43m(\u001b[49m\u001b[38;5;241;43m*\u001b[39;49m\u001b[43margs\u001b[49m\u001b[43m,\u001b[49m\u001b[43m \u001b[49m\u001b[38;5;241;43m*\u001b[39;49m\u001b[38;5;241;43m*\u001b[39;49m\u001b[38;5;28;43mdict\u001b[39;49m\u001b[43m(\u001b[49m\u001b[38;5;28;43mself\u001b[39;49m\u001b[38;5;241;43m.\u001b[39;49m\u001b[43mparams\u001b[49m\u001b[43m,\u001b[49m\u001b[43m \u001b[49m\u001b[38;5;241;43m*\u001b[39;49m\u001b[38;5;241;43m*\u001b[39;49m\u001b[43mkwargs\u001b[49m\u001b[43m)\u001b[49m\u001b[43m)\u001b[49m\n\u001b[1;32m    166\u001b[0m \u001b[38;5;28;01mexcept\u001b[39;00m:\n\u001b[1;32m    167\u001b[0m   \u001b[38;5;66;03m# Some transformations yield from inside context managers, so we have to\u001b[39;00m\n\u001b[1;32m    168\u001b[0m   \u001b[38;5;66;03m# interrupt them before reraising the exception. Otherwise they will only\u001b[39;00m\n\u001b[1;32m    169\u001b[0m   \u001b[38;5;66;03m# get garbage-collected at some later time, running their cleanup tasks\u001b[39;00m\n\u001b[1;32m    170\u001b[0m   \u001b[38;5;66;03m# only after this exception is handled, which can corrupt the global\u001b[39;00m\n\u001b[1;32m    171\u001b[0m   \u001b[38;5;66;03m# state.\u001b[39;00m\n\u001b[1;32m    172\u001b[0m   \u001b[38;5;28;01mwhile\u001b[39;00m stack:\n",
      "\u001b[0;31mTypeError\u001b[0m: f() takes 1 positional argument but 2 were given"
     ]
    }
   ],
   "source": [
    "f_jit(10, 2)"
   ]
  },
  {
   "cell_type": "markdown",
   "id": "52bd35ad-4ea8-42d6-aa40-e25a3d9251f2",
   "metadata": {},
   "source": [
    "##### Example 3"
   ]
  },
  {
   "cell_type": "code",
   "execution_count": null,
   "id": "8ca25ca0-125f-4d25-ad62-cbb1cec80974",
   "metadata": {},
   "outputs": [],
   "source": [
    "import jax"
   ]
  },
  {
   "cell_type": "markdown",
   "id": "05af6d48-b613-4d0d-9270-2f1cb34ab9ab",
   "metadata": {},
   "source": [
    "Compile the function `func` to XLA-optimized machine code"
   ]
  },
  {
   "cell_type": "code",
   "execution_count": null,
   "id": "6b1686fa-5548-4e16-bbca-dd0270d1b425",
   "metadata": {},
   "outputs": [],
   "source": [
    "def func(x, n):\n",
    "    i = 0\n",
    "    while i < n:\n",
    "        i += 1\n",
    "    return x + i"
   ]
  },
  {
   "cell_type": "code",
   "execution_count": null,
   "id": "90f1c77a-4f7f-4372-857e-70d896e2faaf",
   "metadata": {},
   "outputs": [],
   "source": [
    "func_jit = jax.jit(func, static_argnames=['n'])"
   ]
  },
  {
   "cell_type": "code",
   "execution_count": null,
   "id": "c8e43ebd-1c2e-47c6-80c7-87463dbb138e",
   "metadata": {},
   "outputs": [
    {
     "data": {
      "text/plain": [
       "Array(30, dtype=int32, weak_type=True)"
      ]
     },
     "execution_count": null,
     "metadata": {},
     "output_type": "execute_result"
    }
   ],
   "source": [
    "func_jit(10, 20)"
   ]
  },
  {
   "cell_type": "markdown",
   "id": "b779475f-5d7c-4ff4-8162-77da431be927",
   "metadata": {},
   "source": [
    "##### Example 4"
   ]
  },
  {
   "cell_type": "code",
   "execution_count": null,
   "id": "80974056-c288-4a6e-9c58-182022584ffb",
   "metadata": {},
   "outputs": [],
   "source": [
    "from functools import partial"
   ]
  },
  {
   "cell_type": "code",
   "execution_count": null,
   "id": "8f567406-a97a-4421-a228-ba2e8a7c4aad",
   "metadata": {},
   "outputs": [],
   "source": [
    "def demo(x, n):\n",
    "    return x + n"
   ]
  },
  {
   "cell_type": "markdown",
   "id": "5b73bbd5-3275-482f-9ccd-0a6eef4d4728",
   "metadata": {},
   "source": [
    "Jit the function `demo` using decorator"
   ]
  },
  {
   "cell_type": "code",
   "execution_count": null,
   "id": "a3245aee-4040-4642-ac33-07c089d7be23",
   "metadata": {},
   "outputs": [],
   "source": [
    "@partial(jax.jit, static_argnames=[\"n\"])\n",
    "def demo(x, n):\n",
    "    return x + n"
   ]
  },
  {
   "cell_type": "code",
   "execution_count": null,
   "id": "6460a1d2-3114-4a72-9693-609b09578ca4",
   "metadata": {},
   "outputs": [
    {
     "data": {
      "text/plain": [
       "Array(3, dtype=int32, weak_type=True)"
      ]
     },
     "execution_count": null,
     "metadata": {},
     "output_type": "execute_result"
    }
   ],
   "source": [
    "demo(1, 2)"
   ]
  },
  {
   "cell_type": "code",
   "execution_count": null,
   "id": "271e3a68-d3a2-4a96-9b38-3d7d1cf0f81a",
   "metadata": {},
   "outputs": [],
   "source": []
  }
 ],
 "metadata": {
  "kernelspec": {
   "display_name": "Python 3 (ipykernel)",
   "language": "python",
   "name": "python3"
  }
 },
 "nbformat": 4,
 "nbformat_minor": 5
}
