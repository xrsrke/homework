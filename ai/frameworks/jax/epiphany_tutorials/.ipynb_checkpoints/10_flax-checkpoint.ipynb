{
 "cells": [
  {
   "cell_type": "code",
   "execution_count": null,
   "id": "5ec1e1cc-f512-48bf-922a-78d6e722feef",
   "metadata": {},
   "outputs": [],
   "source": [
    "import torch\n",
    "import flax"
   ]
  },
  {
   "cell_type": "markdown",
   "id": "5465397d-593b-4af2-b866-f1b7b9e12274",
   "metadata": {},
   "source": [
    "##### Example 1"
   ]
  },
  {
   "cell_type": "code",
   "execution_count": null,
   "id": "9bb9d136-342a-4b9e-b5a1-4df040f8bdb1",
   "metadata": {},
   "outputs": [],
   "source": [
    "torch_layer = torch.nn.Linear(42, 69)"
   ]
  },
  {
   "cell_type": "code",
   "execution_count": null,
   "id": "b4ca4197-de9e-4677-8c67-f9a473f48023",
   "metadata": {},
   "outputs": [
    {
     "data": {
      "text/plain": [
       "Linear(in_features=42, out_features=69, bias=True)"
      ]
     },
     "execution_count": null,
     "metadata": {},
     "output_type": "execute_result"
    }
   ],
   "source": [
    "torch_layer"
   ]
  },
  {
   "cell_type": "code",
   "execution_count": null,
   "id": "468df2b8-4cd8-4964-aaac-066695947ada",
   "metadata": {},
   "outputs": [
    {
     "data": {
      "text/plain": [
       "torch.nn.modules.linear.Linear"
      ]
     },
     "execution_count": null,
     "metadata": {},
     "output_type": "execute_result"
    }
   ],
   "source": [
    "type(torch_layer)"
   ]
  },
  {
   "cell_type": "markdown",
   "id": "6bb1419f-2082-4bbc-9885-1c5e1634fffa",
   "metadata": {},
   "source": [
    "Create a linear layer similar to `torch_layer` using `flax`"
   ]
  },
  {
   "cell_type": "code",
   "execution_count": null,
   "id": "bac5e74f-5522-4ec6-b84a-3b7a279fc53f",
   "metadata": {},
   "outputs": [],
   "source": [
    "from flax import linen as nn"
   ]
  },
  {
   "cell_type": "code",
   "execution_count": null,
   "id": "ab6fdf57-c8f3-49d2-a253-d8bc5ce83d6a",
   "metadata": {},
   "outputs": [],
   "source": [
    "layer = nn.Dense(42, 69)"
   ]
  },
  {
   "cell_type": "code",
   "execution_count": null,
   "id": "35b2887d-9e18-472e-9c22-52b979533e2d",
   "metadata": {},
   "outputs": [
    {
     "data": {
      "text/plain": [
       "Dense(\n",
       "    # attributes\n",
       "    features = 42\n",
       "    use_bias = 69\n",
       "    dtype = None\n",
       "    param_dtype = float32\n",
       "    precision = None\n",
       "    kernel_init = init\n",
       "    bias_init = zeros\n",
       "    dot_general = dot_general\n",
       ")"
      ]
     },
     "execution_count": null,
     "metadata": {},
     "output_type": "execute_result"
    }
   ],
   "source": [
    "layer"
   ]
  },
  {
   "cell_type": "code",
   "execution_count": null,
   "id": "6d347d16-6ae0-4098-bd4b-6c56bd9d5e24",
   "metadata": {},
   "outputs": [
    {
     "data": {
      "text/plain": [
       "<bound method Module.init_with_output of Dense(\n",
       "    # attributes\n",
       "    features = 42\n",
       "    use_bias = 69\n",
       "    dtype = None\n",
       "    param_dtype = float32\n",
       "    precision = None\n",
       "    kernel_init = init\n",
       "    bias_init = zeros\n",
       "    dot_general = dot_general\n",
       ")>"
      ]
     },
     "execution_count": null,
     "metadata": {},
     "output_type": "execute_result"
    }
   ],
   "source": [
    "layer.init_with_output"
   ]
  },
  {
   "cell_type": "code",
   "execution_count": null,
   "id": "30d8e58a-2dff-4f05-aaae-7ff8ff891cb1",
   "metadata": {},
   "outputs": [],
   "source": []
  }
 ],
 "metadata": {
  "kernelspec": {
   "display_name": "Python 3 (ipykernel)",
   "language": "python",
   "name": "python3"
  }
 },
 "nbformat": 4,
 "nbformat_minor": 5
}
