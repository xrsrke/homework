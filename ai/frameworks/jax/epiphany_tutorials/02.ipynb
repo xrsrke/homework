{
 "cells": [
  {
   "cell_type": "markdown",
   "id": "5cca2867-ca29-4e83-ba5b-f3c473d2149b",
   "metadata": {},
   "source": [
    "Source: https://youtu.be/CQQaifxuFcs"
   ]
  },
  {
   "cell_type": "markdown",
   "id": "b4dace96-c6f7-4cc5-9bc7-5865631bb452",
   "metadata": {},
   "source": [
    "##### Example 1"
   ]
  },
  {
   "cell_type": "code",
   "execution_count": null,
   "id": "10e698b8-d8ce-4eb1-9256-45979df89ffe",
   "metadata": {},
   "outputs": [],
   "source": [
    "class Counter:\n",
    "    def __init__(self):\n",
    "        self.n = 0\n",
    "    \n",
    "    def count(self):\n",
    "        self.n += 1\n",
    "        return self.n"
   ]
  },
  {
   "cell_type": "code",
   "execution_count": null,
   "id": "46cf6e73-c8d0-4cd4-8c09-f33eea9b8517",
   "metadata": {},
   "outputs": [],
   "source": [
    "counter = Counter()"
   ]
  },
  {
   "cell_type": "code",
   "execution_count": null,
   "id": "e7d82a26-3cc2-4e79-b1ec-694196c5beec",
   "metadata": {},
   "outputs": [
    {
     "name": "stdout",
     "output_type": "stream",
     "text": [
      "1\n",
      "2\n",
      "3\n"
     ]
    }
   ],
   "source": [
    "for _ in range(3):\n",
    "    print(counter.count())"
   ]
  },
  {
   "cell_type": "markdown",
   "id": "fbb8e22e-d9d4-448b-ae4a-fbfc0648baee",
   "metadata": {},
   "source": [
    "Rewrite the function `Counter` "
   ]
  },
  {
   "cell_type": "code",
   "execution_count": null,
   "id": "e2ab334f-ace5-46ce-96a8-0b36ab50abeb",
   "metadata": {},
   "outputs": [],
   "source": [
    "from jax import jit"
   ]
  },
  {
   "cell_type": "code",
   "execution_count": null,
   "id": "4d60177b-48fd-40a4-aaa1-f4c15f50f6df",
   "metadata": {},
   "outputs": [],
   "source": [
    "class JaxCounter:\n",
    "    def count(self, n):\n",
    "        output = n + 1\n",
    "        state = n + 1\n",
    "        return output, state"
   ]
  },
  {
   "cell_type": "code",
   "execution_count": null,
   "id": "2d24cd41-3acc-458b-84f4-0d1a729d4f1e",
   "metadata": {},
   "outputs": [],
   "source": [
    "counter = JaxCounter()\n",
    "jit_count = jit(counter.count)"
   ]
  },
  {
   "cell_type": "code",
   "execution_count": null,
   "id": "7bb3f81c-c1fc-4b06-bfa0-9357115f9c36",
   "metadata": {},
   "outputs": [
    {
     "name": "stdout",
     "output_type": "stream",
     "text": [
      "1\n",
      "2\n",
      "3\n"
     ]
    }
   ],
   "source": [
    "n = 0\n",
    "\n",
    "for _ in range(3):\n",
    "    output, n = jit_count(n)\n",
    "    print(output)"
   ]
  },
  {
   "cell_type": "markdown",
   "id": "1334d360-f858-494f-a9de-801433c41f0f",
   "metadata": {},
   "source": [
    "### PyTree"
   ]
  },
  {
   "cell_type": "markdown",
   "id": "3551633e-d543-4627-8d2c-d73a6a94a810",
   "metadata": {},
   "source": [
    "##### Example 1"
   ]
  },
  {
   "cell_type": "code",
   "execution_count": null,
   "id": "c1b98bd7-c894-4bc9-8a26-01298bd23b5d",
   "metadata": {},
   "outputs": [],
   "source": [
    "xs = [1, (2, 3), {\"a\": 4, \"b\": 5}]"
   ]
  },
  {
   "cell_type": "code",
   "execution_count": null,
   "id": "f93282e1-ecf5-4835-b732-668daeab05a6",
   "metadata": {},
   "outputs": [
    {
     "data": {
      "text/plain": [
       "[1, (2, 3), {'a': 4, 'b': 5}]"
      ]
     },
     "execution_count": null,
     "metadata": {},
     "output_type": "execute_result"
    }
   ],
   "source": [
    "xs"
   ]
  },
  {
   "cell_type": "code",
   "execution_count": null,
   "id": "b5e95688-5d97-4e83-b21f-edee96e01026",
   "metadata": {},
   "outputs": [],
   "source": [
    "def square(x):\n",
    "    return x ** 2"
   ]
  },
  {
   "cell_type": "markdown",
   "id": "113cdee2-5f58-464f-9b1d-de1b586e307c",
   "metadata": {},
   "source": [
    "Square each element in `xs` using the function `square`"
   ]
  },
  {
   "cell_type": "code",
   "execution_count": null,
   "id": "957bad87-7dfa-4e9f-8f99-18bec0d6ea0a",
   "metadata": {},
   "outputs": [],
   "source": [
    "import jax"
   ]
  },
  {
   "cell_type": "code",
   "execution_count": null,
   "id": "5e90fa5f-097d-4f3b-823c-3a630b5f27d2",
   "metadata": {},
   "outputs": [],
   "source": [
    "squared_xs = jax.tree_map(square, xs)"
   ]
  },
  {
   "cell_type": "code",
   "execution_count": null,
   "id": "4d2670ec-db9b-4d8d-a404-6c8847b6c789",
   "metadata": {},
   "outputs": [
    {
     "data": {
      "text/plain": [
       "[1, (4, 9), {'a': 16, 'b': 25}]"
      ]
     },
     "execution_count": null,
     "metadata": {},
     "output_type": "execute_result"
    }
   ],
   "source": [
    "squared_xs"
   ]
  },
  {
   "cell_type": "markdown",
   "id": "d9b3e385-58b4-4d03-aabf-973774072bd7",
   "metadata": {},
   "source": [
    "##### Example 2"
   ]
  },
  {
   "cell_type": "code",
   "execution_count": null,
   "id": "a05adf34-ce14-4460-9df6-c9fe6727bd0a",
   "metadata": {},
   "outputs": [],
   "source": []
  }
 ],
 "metadata": {
  "kernelspec": {
   "display_name": "Python 3 (ipykernel)",
   "language": "python",
   "name": "python3"
  }
 },
 "nbformat": 4,
 "nbformat_minor": 5
}
