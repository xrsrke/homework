{
 "cells": [
  {
   "cell_type": "code",
   "execution_count": null,
   "id": "9c3d1248-78b4-4a55-8fbe-5745045ecb36",
   "metadata": {},
   "outputs": [],
   "source": [
    "import jax\n",
    "import jax.numpy as jnp"
   ]
  },
  {
   "cell_type": "code",
   "execution_count": null,
   "id": "43596172-25d0-4da1-8678-97ba5ce8b6fc",
   "metadata": {},
   "outputs": [],
   "source": [
    "def sum_squared_error(x, y):\n",
    "    return jnp.sum((x-y)**2)"
   ]
  },
  {
   "cell_type": "code",
   "execution_count": null,
   "id": "08bc6e47-c83e-41ec-a27a-47434efafbfb",
   "metadata": {},
   "outputs": [
    {
     "data": {
      "text/plain": [
       "Array(1, dtype=int32)"
      ]
     },
     "execution_count": null,
     "metadata": {},
     "output_type": "execute_result"
    }
   ],
   "source": [
    "sum_squared_error(1, 2)"
   ]
  },
  {
   "cell_type": "markdown",
   "id": "f7df9757-aad0-4e14-86b7-8ad748ff84f2",
   "metadata": {},
   "source": [
    "##### Example 1"
   ]
  },
  {
   "cell_type": "code",
   "execution_count": null,
   "id": "e746f098-d6e2-40c6-9374-7e56e235023d",
   "metadata": {},
   "outputs": [],
   "source": [
    "x = jnp.array(2.)"
   ]
  },
  {
   "cell_type": "code",
   "execution_count": null,
   "id": "88525915-2edd-4c73-bec6-43a812ef0cee",
   "metadata": {},
   "outputs": [],
   "source": [
    "import jax"
   ]
  },
  {
   "cell_type": "code",
   "execution_count": null,
   "id": "b3fc06b9-abc4-41db-9e5e-a162ac08cbe1",
   "metadata": {},
   "outputs": [
    {
     "data": {
      "text/plain": [
       "Array(2., dtype=float32, weak_type=True)"
      ]
     },
     "execution_count": null,
     "metadata": {},
     "output_type": "execute_result"
    }
   ],
   "source": [
    "x"
   ]
  },
  {
   "cell_type": "code",
   "execution_count": null,
   "id": "fff82be7-b0a2-4cfd-9b2d-b40368f1d173",
   "metadata": {},
   "outputs": [],
   "source": [
    "def square(x):\n",
    "    return jnp.square(x), x/10"
   ]
  },
  {
   "cell_type": "markdown",
   "id": "5423d7a9-e403-417a-b3a1-d88d572671f1",
   "metadata": {},
   "source": [
    "Compute the gradient of `square` at `x`"
   ]
  },
  {
   "cell_type": "code",
   "execution_count": null,
   "id": "e2071e76-830d-440b-96f3-1d4e79536d9f",
   "metadata": {},
   "outputs": [],
   "source": [
    "squared_x, scaled_x = jax.grad(square, has_aux=True)(x)"
   ]
  },
  {
   "cell_type": "code",
   "execution_count": null,
   "id": "f3b1bd20-15aa-450e-b1ce-102d6af3ea1b",
   "metadata": {},
   "outputs": [
    {
     "data": {
      "text/plain": [
       "Array(4., dtype=float32, weak_type=True)"
      ]
     },
     "execution_count": null,
     "metadata": {},
     "output_type": "execute_result"
    }
   ],
   "source": [
    "squared_x"
   ]
  },
  {
   "cell_type": "code",
   "execution_count": null,
   "id": "67757f1c-983c-41f0-8158-2062d51fcefd",
   "metadata": {},
   "outputs": [
    {
     "data": {
      "text/plain": [
       "Array(0.2, dtype=float32, weak_type=True)"
      ]
     },
     "execution_count": null,
     "metadata": {},
     "output_type": "execute_result"
    }
   ],
   "source": [
    "scaled_x"
   ]
  },
  {
   "cell_type": "markdown",
   "id": "a5b80333-e190-4556-8fdd-d0be77ac732f",
   "metadata": {},
   "source": [
    "##### Example 2"
   ]
  },
  {
   "cell_type": "code",
   "execution_count": null,
   "id": "d586c8b2-9c54-4506-8975-0baea0e3f33d",
   "metadata": {},
   "outputs": [],
   "source": [
    "def model(theta, x):\n",
    "    w, b = theta\n",
    "    return w*x+B"
   ]
  }
 ],
 "metadata": {
  "kernelspec": {
   "display_name": "Python 3 (ipykernel)",
   "language": "python",
   "name": "python3"
  },
  "language_info": {
   "codemirror_mode": {
    "name": "ipython",
    "version": 3
   },
   "file_extension": ".py",
   "mimetype": "text/x-python",
   "name": "python",
   "nbconvert_exporter": "python",
   "pygments_lexer": "ipython3",
   "version": "3.8.16"
  }
 },
 "nbformat": 4,
 "nbformat_minor": 5
}
