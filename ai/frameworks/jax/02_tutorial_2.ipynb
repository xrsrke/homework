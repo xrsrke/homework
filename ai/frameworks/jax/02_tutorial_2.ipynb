{
 "cells": [
  {
   "cell_type": "markdown",
   "id": "37e2d175-c34b-4d01-aadf-fd7f774933aa",
   "metadata": {},
   "source": [
    "Source: https://youtu.be/CQQaifxuFcs"
   ]
  },
  {
   "cell_type": "markdown",
   "id": "6d7331bf-37d3-42ec-a490-bc1d1fbe64b2",
   "metadata": {},
   "source": [
    "##### Example 1 "
   ]
  },
  {
   "cell_type": "code",
   "execution_count": null,
   "id": "b2fa1997-9ff2-4cfb-a9b0-d1b4c4d8b559",
   "metadata": {},
   "outputs": [],
   "source": [
    "from jax import jit"
   ]
  },
  {
   "cell_type": "code",
   "execution_count": null,
   "id": "1ee4b588-8df6-4a25-af0c-9f51e3cb44bf",
   "metadata": {},
   "outputs": [],
   "source": [
    "secret = 42"
   ]
  },
  {
   "cell_type": "code",
   "execution_count": null,
   "id": "718870ab-a1ad-4ed2-ae67-94d08ca0d1db",
   "metadata": {},
   "outputs": [],
   "source": [
    "def add(x):\n",
    "    return x + secret"
   ]
  },
  {
   "cell_type": "code",
   "execution_count": null,
   "id": "2fca2a95-881c-4e96-bee9-ae7fad5854bc",
   "metadata": {},
   "outputs": [],
   "source": [
    "output1 = jit(add)(1)"
   ]
  },
  {
   "cell_type": "code",
   "execution_count": null,
   "id": "0712f1dd-f6ad-4679-a801-e40d78ba1bb2",
   "metadata": {},
   "outputs": [
    {
     "data": {
      "text/plain": [
       "Array(43, dtype=int32, weak_type=True)"
      ]
     },
     "execution_count": null,
     "metadata": {},
     "output_type": "execute_result"
    }
   ],
   "source": [
    "output1"
   ]
  },
  {
   "cell_type": "code",
   "execution_count": null,
   "id": "34952279-3be1-42e6-bccc-f86dd26febc3",
   "metadata": {},
   "outputs": [],
   "source": [
    "secret = 69"
   ]
  },
  {
   "cell_type": "markdown",
   "id": "91d9e211-5ced-4f82-99be-ca4b7a899497",
   "metadata": {},
   "source": [
    "What is the value of `output2`? Explain"
   ]
  },
  {
   "cell_type": "code",
   "execution_count": null,
   "id": "e75de991-ea96-441b-af43-6809b58583c3",
   "metadata": {},
   "outputs": [],
   "source": [
    "output2 = jit(add)(2)"
   ]
  },
  {
   "cell_type": "code",
   "execution_count": null,
   "id": "d6a1b2a9-ccb6-4531-8a1e-d5c2a84b895b",
   "metadata": {},
   "outputs": [
    {
     "data": {
      "text/plain": [
       "Array(44, dtype=int32, weak_type=True)"
      ]
     },
     "execution_count": null,
     "metadata": {},
     "output_type": "execute_result"
    }
   ],
   "source": [
    "output2"
   ]
  },
  {
   "cell_type": "markdown",
   "id": "942edef9-54f4-4770-82f0-186a1d680646",
   "metadata": {},
   "source": [
    "**Explain**"
   ]
  },
  {
   "cell_type": "markdown",
   "id": "40356226-5b2e-4588-a0f0-80bd898d0222",
   "metadata": {},
   "source": [
    "`output2` will be 2 + 42 = 44. Because:\n",
    "\n",
    "- When you call `jit(add)(1)`, JAX compiles the add function and caches the compiled version. At this point, the value of `secret` is `42`, so the compiled function will use that value.\n",
    "- When you change the value of secret to `69` and call `jit(add)(2)`, JAX still uses the previously compiled function with the original value of secret (42)."
   ]
  },
  {
   "cell_type": "code",
   "execution_count": null,
   "id": "cfda754e-76f8-4b1b-9f33-f7755989f6c8",
   "metadata": {},
   "outputs": [],
   "source": []
  },
  {
   "cell_type": "code",
   "execution_count": null,
   "id": "aee42284-6132-462f-82f9-aec3db0ad325",
   "metadata": {},
   "outputs": [],
   "source": []
  }
 ],
 "metadata": {
  "kernelspec": {
   "display_name": "Python 3 (ipykernel)",
   "language": "python",
   "name": "python3"
  },
  "language_info": {
   "codemirror_mode": {
    "name": "ipython",
    "version": 3
   },
   "file_extension": ".py",
   "mimetype": "text/x-python",
   "name": "python",
   "nbconvert_exporter": "python",
   "pygments_lexer": "ipython3",
   "version": "3.8.16"
  }
 },
 "nbformat": 4,
 "nbformat_minor": 5
}
