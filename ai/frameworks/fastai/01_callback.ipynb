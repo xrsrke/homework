{
 "cells": [
  {
   "cell_type": "code",
   "execution_count": null,
   "id": "2a92e0dc-8713-4e13-82b0-e000662cf14a",
   "metadata": {},
   "outputs": [],
   "source": [
    "from fastai.vision.all import *"
   ]
  },
  {
   "cell_type": "code",
   "execution_count": null,
   "id": "c3b57dd5-5c21-406c-8aa9-8463b34c97f0",
   "metadata": {},
   "outputs": [],
   "source": [
    "from fastai.test_utils import synth_dbunch, synth_learner"
   ]
  },
  {
   "cell_type": "code",
   "execution_count": null,
   "id": "1c5f62c0",
   "metadata": {},
   "outputs": [],
   "source": [
    "from wwf.basics.training_loop import *"
   ]
  },
  {
   "cell_type": "code",
   "execution_count": null,
   "id": "fbc0a9b6",
   "metadata": {},
   "outputs": [
    {
     "name": "stdout",
     "output_type": "stream",
     "text": [
      "Learner.show_training_loop(self: fastai.learner.Learner, verbose: bool = False, cbs: Union[NoneType, list, fastai.callback.core.Callback] = None)\n",
      "Show each step in the training loop, potentially with Callback event descriptions\n",
      "\n",
      "To get a prettier result with hyperlinks to source code and documentation, install nbdev: pip install nbdev\n"
     ]
    }
   ],
   "source": [
    "doc(Learner.show_training_loop)"
   ]
  },
  {
   "cell_type": "code",
   "execution_count": null,
   "id": "a5e13a9d-cd44-491a-9fca-5df9cdee2347",
   "metadata": {},
   "outputs": [],
   "source": [
    "learn = synth_learner()"
   ]
  },
  {
   "cell_type": "code",
   "execution_count": null,
   "id": "9fdcdfa7-82c8-42e8-9bf6-3959faedd75b",
   "metadata": {},
   "outputs": [
    {
     "name": "stdout",
     "output_type": "stream",
     "text": [
      "Start Fit\n",
      "    - before_fit:\n",
      "        - TrainEvalCallback: \n",
      "            - Set the iter and epoch counters to 0, put the model and the right device\n",
      "        - Recorder: \n",
      "            - Prepare state for training\n",
      "        - ProgressCallback: \n",
      "            - Setup the master bar over the epochs\n",
      "   Start Epoch Loop\n",
      "       - before_epoch:\n",
      "           - Recorder: \n",
      "               - Set timer if `self.add_time=True`\n",
      "           - ProgressCallback: \n",
      "               - Update the master bar\n",
      "      Start Train\n",
      "          - before_train:\n",
      "              - TrainEvalCallback: \n",
      "                  - Set the model to training mode\n",
      "              - Recorder: \n",
      "                  - Reset loss and metrics state\n",
      "              - ProgressCallback: \n",
      "                  - Launch a progress bar over the training dataloader\n",
      "         Start Batch Loop\n",
      "             - before_batch:\n",
      "                 - CastToTensor\n",
      "             - after_pred:\n",
      "             - after_loss:\n",
      "             - before_backward:\n",
      "             - before_step:\n",
      "             - after_step:\n",
      "             - after_cancel_batch:\n",
      "             - after_batch:\n",
      "                 - TrainEvalCallback: \n",
      "                     - Update the iter counter (in training mode)\n",
      "                 - Recorder: \n",
      "                     - Update all metrics and records lr and smooth loss in training\n",
      "                 - ProgressCallback: \n",
      "                     - Update the current progress bar\n",
      "         End Batch Loop\n",
      "      End Train\n",
      "       - after_cancel_train:\n",
      "           - Recorder: \n",
      "               - Ignore training metrics for this epoch\n",
      "       - after_train:\n",
      "           - Recorder: \n",
      "               - Log loss and metric values on the training set (if `self.training_metrics=True`)\n",
      "           - ProgressCallback: \n",
      "               - Close the progress bar over the training dataloader\n",
      "      Start Valid\n",
      "          - before_validate:\n",
      "              - TrainEvalCallback: \n",
      "                  - Set the model to validation mode\n",
      "              - Recorder: \n",
      "                  - Reset loss and metrics state\n",
      "              - ProgressCallback: \n",
      "                  - Launch a progress bar over the validation dataloader\n",
      "         Start Batch Loop\n",
      "             - **CBs same as train batch**:\n",
      "         End Batch Loop\n",
      "      End Valid\n",
      "       - after_cancel_validate:\n",
      "           - Recorder: \n",
      "               - Ignore validation metrics for this epoch\n",
      "       - after_validate:\n",
      "           - Recorder: \n",
      "               - Log loss and metric values on the validation set\n",
      "           - ProgressCallback: \n",
      "               - Close the progress bar over the validation dataloader\n",
      "   End Epoch Loop\n",
      "    - after_cancel_epoch:\n",
      "    - after_epoch:\n",
      "        - Recorder: \n",
      "            - Store and log the loss/metric values\n",
      "End Fit\n",
      " - after_cancel_fit:\n",
      " - after_fit:\n",
      "     - ProgressCallback: \n",
      "         - Close the master bar\n"
     ]
    }
   ],
   "source": [
    "learn.show_training_loop(verbose=True)"
   ]
  },
  {
   "cell_type": "code",
   "execution_count": null,
   "id": "1ed85b31",
   "metadata": {},
   "outputs": [],
   "source": [
    "Callback??"
   ]
  },
  {
   "cell_type": "code",
   "execution_count": null,
   "id": "9b9c3640-7d25-40e9-a120-9d1badf18e72",
   "metadata": {},
   "outputs": [],
   "source": [
    "TrainEvalCallback??"
   ]
  },
  {
   "cell_type": "markdown",
   "id": "6163790d",
   "metadata": {},
   "source": [
    "### Example "
   ]
  },
  {
   "cell_type": "markdown",
   "id": "a8aa384d",
   "metadata": {},
   "source": [
    "Write a callback that check if `self.iter/self.n_iter` larger than "
   ]
  },
  {
   "cell_type": "code",
   "execution_count": null,
   "id": "8d4afe37",
   "metadata": {},
   "outputs": [],
   "source": [
    "class ShortEpochCallback(Callback):\n",
    "    def __init__(self, pct=0.01, short_valid=True):\n",
    "        self.pct, self.short_valid = pct, short_valid\n",
    "    \n",
    "    def after_batch(self):\n",
    "        if self.iter / self.n_iter < self.pct: return\n",
    "        if self.training: raise CancelTrainException\n",
    "        if self.short_valid: raise CancelValidException"
   ]
  }
 ],
 "metadata": {
  "kernelspec": {
   "display_name": "Python 3 (ipykernel)",
   "language": "python",
   "name": "python3"
  }
 },
 "nbformat": 4,
 "nbformat_minor": 5
}
