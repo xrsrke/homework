{
 "cells": [
  {
   "cell_type": "markdown",
   "id": "33255ef7-dba3-47f7-aebd-df451bcc6657",
   "metadata": {},
   "source": [
    "### Chapter 7. Distributed Training with Ray Train"
   ]
  },
  {
   "cell_type": "markdown",
   "id": "a7c6bde5-47c8-4ace-8131-8af9a8f4dc0a",
   "metadata": {},
   "source": [
    "##### Example 1"
   ]
  },
  {
   "cell_type": "code",
   "execution_count": 1,
   "id": "f0e7af79-e6a8-4713-a940-cad4105cb501",
   "metadata": {},
   "outputs": [],
   "source": [
    "from ray.air import session\n",
    "from ray.air.config import ScalingConfig\n",
    "from ray import train\n",
    "from ray.train.torch import TorchCheckpoint, TorchTrainer"
   ]
  },
  {
   "cell_type": "code",
   "execution_count": null,
   "id": "f2fc8d57-e3cb-404b-ace2-79ff5c9ff68e",
   "metadata": {},
   "outputs": [],
   "source": []
  }
 ],
 "metadata": {
  "kernelspec": {
   "display_name": "Python 3 (ipykernel)",
   "language": "python",
   "name": "python3"
  },
  "language_info": {
   "codemirror_mode": {
    "name": "ipython",
    "version": 3
   },
   "file_extension": ".py",
   "mimetype": "text/x-python",
   "name": "python",
   "nbconvert_exporter": "python",
   "pygments_lexer": "ipython3",
   "version": "3.8.16"
  }
 },
 "nbformat": 4,
 "nbformat_minor": 5
}
