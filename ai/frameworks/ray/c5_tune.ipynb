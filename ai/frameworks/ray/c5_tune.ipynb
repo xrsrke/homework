{
 "cells": [
  {
   "cell_type": "markdown",
   "id": "f7c4c8e4-c316-4eb0-b6a0-e18ff3f917a9",
   "metadata": {},
   "source": [
    "### Chapter 5. Hyperparameter Optimization with Ray Tune"
   ]
  },
  {
   "cell_type": "markdown",
   "id": "bdcd11b1-40eb-4127-b543-7f55a9e44178",
   "metadata": {},
   "source": [
    "##### Example 1"
   ]
  },
  {
   "cell_type": "markdown",
   "id": "979d1669-fad9-4485-a080-dd3cee83c6f3",
   "metadata": {},
   "source": [
    "Write a search space for hyperparameters `lr` and `discount_factor` that follows a uniform distribution"
   ]
  },
  {
   "cell_type": "code",
   "execution_count": 12,
   "id": "6f41ee0a-4300-4b43-bbf8-0c8fe542cfef",
   "metadata": {
    "tags": []
   },
   "outputs": [],
   "source": [
    "from ray import tune"
   ]
  },
  {
   "cell_type": "code",
   "execution_count": 13,
   "id": "8bda6512-33eb-4158-801f-0e952333fc2b",
   "metadata": {
    "tags": []
   },
   "outputs": [],
   "source": [
    "search_space = {\n",
    "    \"lr\": tune.uniform(0, 1),\n",
    "    \"discount_factor\": tune.uniform(0, 1)\n",
    "}"
   ]
  },
  {
   "cell_type": "code",
   "execution_count": 14,
   "id": "f906d769-e02b-4055-a8f3-aa945bbbafc4",
   "metadata": {
    "tags": []
   },
   "outputs": [
    {
     "data": {
      "text/plain": [
       "dict_keys(['lr', 'discount_factor'])"
      ]
     },
     "execution_count": 14,
     "metadata": {},
     "output_type": "execute_result"
    }
   ],
   "source": [
    "search_space.keys()"
   ]
  },
  {
   "cell_type": "markdown",
   "id": "757e5fa4-e59e-4c52-991a-4c07c3f1048f",
   "metadata": {},
   "source": [
    "##### Example 2"
   ]
  },
  {
   "cell_type": "code",
   "execution_count": 4,
   "id": "2fc4cbda-bd85-40ec-8468-253753fa3b67",
   "metadata": {
    "tags": []
   },
   "outputs": [],
   "source": [
    "from ray import tune"
   ]
  },
  {
   "cell_type": "code",
   "execution_count": 13,
   "id": "081fa74e-a74b-4c86-b780-7c3e4d91f832",
   "metadata": {
    "tags": []
   },
   "outputs": [],
   "source": [
    "def objective(config):\n",
    "    for step in range(30):\n",
    "        score = config[\"weight\"]*(step**0.5) + config[\"bias\"]\n",
    "        tune.report(score=score)"
   ]
  },
  {
   "cell_type": "code",
   "execution_count": null,
   "id": "d910e41c-9dc9-4541-acc7-a1bc198f05af",
   "metadata": {},
   "outputs": [],
   "source": [
    "objective({\"weight\": 1, \"bias\": 2})"
   ]
  },
  {
   "cell_type": "code",
   "execution_count": 5,
   "id": "5de2a9e2-38f5-494c-b71e-50b7ac25f726",
   "metadata": {
    "tags": []
   },
   "outputs": [],
   "source": [
    "search_space = {\n",
    "    \"weight\": tune.uniform(0, 1),\n",
    "    \"bias\": tune.uniform(0, 1)\n",
    "}"
   ]
  },
  {
   "cell_type": "markdown",
   "id": "9608055f-7a25-4620-b9e6-bbf840a6ccfb",
   "metadata": {},
   "source": [
    "`objective` is the objective function, and `search_space` is the search space for all hyperparameters in the objective function."
   ]
  },
  {
   "cell_type": "code",
   "execution_count": 50,
   "id": "60973baa-da32-40e4-99dd-bcb69a58b810",
   "metadata": {
    "tags": []
   },
   "outputs": [
    {
     "data": {
      "text/plain": [
       "(function, dict)"
      ]
     },
     "execution_count": 50,
     "metadata": {},
     "output_type": "execute_result"
    }
   ],
   "source": [
    "type(objective), type(search_space)"
   ]
  },
  {
   "cell_type": "markdown",
   "id": "9af5ed39-b29f-4588-b4ee-5ec3739c5fd6",
   "metadata": {},
   "source": [
    "The goal is to use the Hyper Band Scheduler to search for a set of parameters in `objective` that will result in **the lowest possible value**."
   ]
  },
  {
   "cell_type": "code",
   "execution_count": 51,
   "id": "8a88453e-7cac-41a9-bc90-bc4b3ca264fb",
   "metadata": {},
   "outputs": [],
   "source": [
    "from ray import tune\n",
    "from ray.tune.schedulers import HyperBandScheduler"
   ]
  },
  {
   "cell_type": "code",
   "execution_count": 52,
   "id": "a2ad9006-9f86-480a-a969-34e0edffb968",
   "metadata": {
    "tags": []
   },
   "outputs": [],
   "source": [
    "scheduler = HyperBandScheduler(metric=\"score\", mode=\"min\")"
   ]
  },
  {
   "cell_type": "code",
   "execution_count": 53,
   "id": "75902ccc-5f84-4ada-a519-8ce41e41c095",
   "metadata": {
    "tags": []
   },
   "outputs": [
    {
     "name": "stderr",
     "output_type": "stream",
     "text": [
      "2023-03-27 09:43:12,851\tINFO tune.py:798 -- Total run time: 2.03 seconds (2.00 seconds for the tuning loop).\n"
     ]
    },
    {
     "name": "stdout",
     "output_type": "stream",
     "text": [
      "== Status ==\n",
      "Current time: 2023-03-27 09:43:12 (running for 00:00:01.95)\n",
      "Memory usage on this node: 15.1/16.0 GiB : ***LOW MEMORY*** less than 10% of the memory on this node is available for use. This can cause unexpected crashes. Consider reducing the memory used by your application or reducing the Ray object store size by setting `object_store_memory` when calling `ray.init`.\n",
      "Using HyperBand: num_stopped=0 total_brackets=1\n",
      "Round #0:\n",
      "  Bracket(Max Size (n)=5, Milestone (r)=81, completed=0.0%): {RUNNING: 1} \n",
      "Resources requested: 1.0/8 CPUs, 0/0 GPUs, 0.0/10.81 GiB heap, 0.0/2.0 GiB objects\n",
      "Result logdir: /Users/education/ray_results/objective_2023-03-27_09-43-10\n",
      "Number of trials: 1/1 (1 RUNNING)\n",
      "+-----------------------+----------+----------------+----------+----------+\n",
      "| Trial name            | status   | loc            |     bias |   weight |\n",
      "|-----------------------+----------+----------------+----------+----------|\n",
      "| objective_1cee8_00000 | RUNNING  | 127.0.0.1:4878 | 0.262716 | 0.596449 |\n",
      "+-----------------------+----------+----------------+----------+----------+\n",
      "\n",
      "\n",
      "Result for objective_1cee8_00000:\n",
      "  date: 2023-03-27_09-43-12\n",
      "  done: false\n",
      "  experiment_id: 25238d2c30834c49884b91b7d16d3437\n",
      "  hostname: xrss-MacBook-Pro.local\n",
      "  iterations_since_restore: 1\n",
      "  node_ip: 127.0.0.1\n",
      "  pid: 4878\n",
      "  score: 0.2627160658146128\n",
      "  time_since_restore: 0.00021195411682128906\n",
      "  time_this_iter_s: 0.00021195411682128906\n",
      "  time_total_s: 0.00021195411682128906\n",
      "  timestamp: 1679884992\n",
      "  timesteps_since_restore: 0\n",
      "  training_iteration: 1\n",
      "  trial_id: 1cee8_00000\n",
      "  warmup_time: 0.0030498504638671875\n",
      "  \n",
      "Result for objective_1cee8_00000:\n",
      "  date: 2023-03-27_09-43-12\n",
      "  done: true\n",
      "  experiment_id: 25238d2c30834c49884b91b7d16d3437\n",
      "  experiment_tag: 0_bias=0.2627,weight=0.5964\n",
      "  hostname: xrss-MacBook-Pro.local\n",
      "  iterations_since_restore: 30\n",
      "  node_ip: 127.0.0.1\n",
      "  pid: 4878\n",
      "  score: 3.474694773578488\n",
      "  time_since_restore: 0.04217100143432617\n",
      "  time_this_iter_s: 0.001222848892211914\n",
      "  time_total_s: 0.04217100143432617\n",
      "  timestamp: 1679884992\n",
      "  timesteps_since_restore: 0\n",
      "  training_iteration: 30\n",
      "  trial_id: 1cee8_00000\n",
      "  warmup_time: 0.0030498504638671875\n",
      "  \n",
      "Trial objective_1cee8_00000 completed.\n",
      "== Status ==\n",
      "Current time: 2023-03-27 09:43:12 (running for 00:00:02.00)\n",
      "Memory usage on this node: 15.1/16.0 GiB : ***LOW MEMORY*** less than 10% of the memory on this node is available for use. This can cause unexpected crashes. Consider reducing the memory used by your application or reducing the Ray object store size by setting `object_store_memory` when calling `ray.init`.\n",
      "Using HyperBand: num_stopped=0 total_brackets=1\n",
      "Round #0:\n",
      "  Bracket(Max Size (n)=5, Milestone (r)=81, completed=100.0%): {TERMINATED: 1} \n",
      "Resources requested: 0/8 CPUs, 0/0 GPUs, 0.0/10.81 GiB heap, 0.0/2.0 GiB objects\n",
      "Result logdir: /Users/education/ray_results/objective_2023-03-27_09-43-10\n",
      "Number of trials: 1/1 (1 TERMINATED)\n",
      "+-----------------------+------------+----------------+----------+----------+--------+------------------+---------+\n",
      "| Trial name            | status     | loc            |     bias |   weight |   iter |   total time (s) |   score |\n",
      "|-----------------------+------------+----------------+----------+----------+--------+------------------+---------|\n",
      "| objective_1cee8_00000 | TERMINATED | 127.0.0.1:4878 | 0.262716 | 0.596449 |     30 |         0.042171 | 3.47469 |\n",
      "+-----------------------+------------+----------------+----------+----------+--------+------------------+---------+\n",
      "\n",
      "\n"
     ]
    }
   ],
   "source": [
    "analysis = tune.run(\n",
    "    objective,\n",
    "    config=search_space,\n",
    "    scheduler=scheduler\n",
    ")"
   ]
  },
  {
   "cell_type": "markdown",
   "id": "1c31a190-8e01-47fc-b231-e7d33194c9e4",
   "metadata": {},
   "source": [
    "##### Example 3"
   ]
  },
  {
   "cell_type": "markdown",
   "id": "70d2ed7f-e39a-4be5-9b96-5fac64d7890c",
   "metadata": {},
   "source": [
    "`objective` is the objective function, and `search_space` is the search space for all hyperparameters in the objective function."
   ]
  },
  {
   "cell_type": "code",
   "execution_count": 58,
   "id": "baaaa598-0a5b-45d5-9fef-b3ede95da316",
   "metadata": {
    "tags": []
   },
   "outputs": [
    {
     "data": {
      "text/plain": [
       "(function, dict)"
      ]
     },
     "execution_count": 58,
     "metadata": {},
     "output_type": "execute_result"
    }
   ],
   "source": [
    "type(objective), type(search_space)"
   ]
  },
  {
   "cell_type": "markdown",
   "id": "e4d1bed7-a200-4810-b8d2-5bf5886496ba",
   "metadata": {},
   "source": [
    "Create a callback that can print the value of `result[\"score\"]` after the completion of each trial\n",
    "\n",
    "**Hint**: You can use the `on_trial_result()` method which takes several arguments including `iteration`, `trials`, `trial`, `result`, and `**info`."
   ]
  },
  {
   "cell_type": "code",
   "execution_count": 59,
   "id": "040da857-83f8-40a4-bd3d-3f7321b1a49d",
   "metadata": {
    "tags": []
   },
   "outputs": [],
   "source": [
    "from ray import tune\n",
    "from ray.tune import Callback"
   ]
  },
  {
   "cell_type": "code",
   "execution_count": 60,
   "id": "b28f5af0-2db1-4dd3-a578-f503f84829ab",
   "metadata": {
    "tags": []
   },
   "outputs": [],
   "source": [
    "class PrintResultCallback(Callback):\n",
    "    def on_trial_result(self, iteration, trials, trial, result, **info):\n",
    "        print(f\"This is a message from callback. The trial is {result['score']}.\")"
   ]
  },
  {
   "cell_type": "code",
   "execution_count": 61,
   "id": "75f8230f-076f-4cb2-8b77-e328bbfc2d1b",
   "metadata": {
    "tags": []
   },
   "outputs": [
    {
     "name": "stderr",
     "output_type": "stream",
     "text": [
      "2023-03-27 09:43:57,714\tINFO tune.py:798 -- Total run time: 1.80 seconds (1.78 seconds for the tuning loop).\n"
     ]
    },
    {
     "name": "stdout",
     "output_type": "stream",
     "text": [
      "== Status ==\n",
      "Current time: 2023-03-27 09:43:57 (running for 00:00:01.74)\n",
      "Memory usage on this node: 15.1/16.0 GiB : ***LOW MEMORY*** less than 10% of the memory on this node is available for use. This can cause unexpected crashes. Consider reducing the memory used by your application or reducing the Ray object store size by setting `object_store_memory` when calling `ray.init`.\n",
      "Using FIFO scheduling algorithm.\n",
      "Resources requested: 1.0/8 CPUs, 0/0 GPUs, 0.0/10.81 GiB heap, 0.0/2.0 GiB objects\n",
      "Result logdir: /Users/education/ray_results/objective_2023-03-27_09-43-55\n",
      "Number of trials: 1/1 (1 RUNNING)\n",
      "+-----------------------+----------+----------------+----------+----------+\n",
      "| Trial name            | status   | loc            |     bias |   weight |\n",
      "|-----------------------+----------+----------------+----------+----------|\n",
      "| objective_37cd0_00000 | RUNNING  | 127.0.0.1:4902 | 0.867778 | 0.692144 |\n",
      "+-----------------------+----------+----------------+----------+----------+\n",
      "\n",
      "\n",
      "This is a message from callback. The trial is 0.8677783840681816.\n",
      "Result for objective_37cd0_00000:\n",
      "  date: 2023-03-27_09-43-57\n",
      "  done: false\n",
      "  experiment_id: 6edea7c1697d47afb8cb2a3f82973e5c\n",
      "  hostname: xrss-MacBook-Pro.local\n",
      "  iterations_since_restore: 1\n",
      "  node_ip: 127.0.0.1\n",
      "  pid: 4902\n",
      "  score: 0.8677783840681816\n",
      "  time_since_restore: 0.0001468658447265625\n",
      "  time_this_iter_s: 0.0001468658447265625\n",
      "  time_total_s: 0.0001468658447265625\n",
      "  timestamp: 1679885037\n",
      "  timesteps_since_restore: 0\n",
      "  training_iteration: 1\n",
      "  trial_id: 37cd0_00000\n",
      "  warmup_time: 0.005242824554443359\n",
      "  \n",
      "This is a message from callback. The trial is 1.559922089819659.\n",
      "This is a message from callback. The trial is 1.8466173998530937.\n",
      "This is a message from callback. The trial is 2.066606448568743.\n",
      "This is a message from callback. The trial is 2.252065795571136.\n",
      "This is a message from callback. The trial is 2.4154587603270974.\n",
      "This is a message from callback. The trial is 2.5631772918383633.\n",
      "This is a message from callback. The trial is 2.699018501005257.\n",
      "This is a message from callback. The trial is 2.8254564156380058.\n",
      "This is a message from callback. The trial is 2.9442095013226135.\n",
      "This is a message from callback. The trial is 3.056528962392235.\n",
      "This is a message from callback. The trial is 3.1633593570519847.\n",
      "This is a message from callback. The trial is 3.2654345130693048.\n",
      "This is a message from callback. The trial is 3.3633380051447928.\n",
      "This is a message from callback. The trial is 3.457542993402286.\n",
      "This is a message from callback. The trial is 3.5484394296259403.\n",
      "This is a message from callback. The trial is 3.636353207074091.\n",
      "This is a message from callback. The trial is 3.7215599909879526.\n",
      "This is a message from callback. The trial is 3.8042954314229176.\n",
      "This is a message from callback. The trial is 3.8847628518466233.\n",
      "This is a message from callback. The trial is 3.9631391365860127.\n",
      "This is a message from callback. The trial is 4.039579307461568.\n",
      "This is a message from callback. The trial is 4.114220129587501.\n",
      "This is a message from callback. The trial is 4.1871829867736.\n",
      "This is a message from callback. The trial is 4.2585761996085445.\n",
      "This is a message from callback. The trial is 4.328496912825568.\n",
      "This is a message from callback. The trial is 4.397032645905387.\n",
      "This is a message from callback. The trial is 4.464262577569867.\n",
      "This is a message from callback. The trial is 4.530258617942332.\n",
      "This is a message from callback. The trial is 4.595086309760697.\n",
      "Result for objective_37cd0_00000:\n",
      "  date: 2023-03-27_09-43-57\n",
      "  done: true\n",
      "  experiment_id: 6edea7c1697d47afb8cb2a3f82973e5c\n",
      "  experiment_tag: 0_bias=0.8678,weight=0.6921\n",
      "  hostname: xrss-MacBook-Pro.local\n",
      "  iterations_since_restore: 30\n",
      "  node_ip: 127.0.0.1\n",
      "  pid: 4902\n",
      "  score: 4.595086309760697\n",
      "  time_since_restore: 0.03606081008911133\n",
      "  time_this_iter_s: 0.0008687973022460938\n",
      "  time_total_s: 0.03606081008911133\n",
      "  timestamp: 1679885037\n",
      "  timesteps_since_restore: 0\n",
      "  training_iteration: 30\n",
      "  trial_id: 37cd0_00000\n",
      "  warmup_time: 0.005242824554443359\n",
      "  \n",
      "Trial objective_37cd0_00000 completed.\n",
      "== Status ==\n",
      "Current time: 2023-03-27 09:43:57 (running for 00:00:01.79)\n",
      "Memory usage on this node: 15.1/16.0 GiB : ***LOW MEMORY*** less than 10% of the memory on this node is available for use. This can cause unexpected crashes. Consider reducing the memory used by your application or reducing the Ray object store size by setting `object_store_memory` when calling `ray.init`.\n",
      "Using FIFO scheduling algorithm.\n",
      "Resources requested: 0/8 CPUs, 0/0 GPUs, 0.0/10.81 GiB heap, 0.0/2.0 GiB objects\n",
      "Result logdir: /Users/education/ray_results/objective_2023-03-27_09-43-55\n",
      "Number of trials: 1/1 (1 TERMINATED)\n",
      "+-----------------------+------------+----------------+----------+----------+--------+------------------+---------+\n",
      "| Trial name            | status     | loc            |     bias |   weight |   iter |   total time (s) |   score |\n",
      "|-----------------------+------------+----------------+----------+----------+--------+------------------+---------|\n",
      "| objective_37cd0_00000 | TERMINATED | 127.0.0.1:4902 | 0.867778 | 0.692144 |     30 |        0.0360608 | 4.59509 |\n",
      "+-----------------------+------------+----------------+----------+----------+--------+------------------+---------+\n",
      "\n",
      "\n"
     ]
    }
   ],
   "source": [
    "analysis = tune.run(\n",
    "    objective,\n",
    "    config=search_space,\n",
    "    callbacks=[PrintResultCallback()]\n",
    ")"
   ]
  },
  {
   "cell_type": "code",
   "execution_count": 1,
   "id": "f6e65566-a7b0-4c80-9891-39bee544cc39",
   "metadata": {},
   "outputs": [],
   "source": [
    "from ray.rllib.examples.models.rnn_model import RNNModel, TorchRNNModel"
   ]
  },
  {
   "cell_type": "code",
   "execution_count": 4,
   "id": "0a169e7d-7843-4b44-b834-17aa980498c1",
   "metadata": {},
   "outputs": [
    {
     "ename": "TypeError",
     "evalue": "__init__() missing 5 required positional arguments: 'obs_space', 'action_space', 'num_outputs', 'model_config', and 'name'",
     "output_type": "error",
     "traceback": [
      "\u001b[0;31m---------------------------------------------------------------------------\u001b[0m",
      "\u001b[0;31mTypeError\u001b[0m                                 Traceback (most recent call last)",
      "Cell \u001b[0;32mIn[4], line 1\u001b[0m\n\u001b[0;32m----> 1\u001b[0m \u001b[43mRNNModel\u001b[49m\u001b[43m(\u001b[49m\u001b[43m)\u001b[49m\n",
      "\u001b[0;31mTypeError\u001b[0m: __init__() missing 5 required positional arguments: 'obs_space', 'action_space', 'num_outputs', 'model_config', and 'name'"
     ]
    }
   ],
   "source": [
    "RNNModel()"
   ]
  },
  {
   "cell_type": "code",
   "execution_count": null,
   "id": "46988a22-14a8-4f4d-814b-bf7ff73235a0",
   "metadata": {},
   "outputs": [],
   "source": []
  }
 ],
 "metadata": {
  "kernelspec": {
   "display_name": "Python 3 (ipykernel)",
   "language": "python",
   "name": "python3"
  },
  "language_info": {
   "codemirror_mode": {
    "name": "ipython",
    "version": 3
   },
   "file_extension": ".py",
   "mimetype": "text/x-python",
   "name": "python",
   "nbconvert_exporter": "python",
   "pygments_lexer": "ipython3",
   "version": "3.8.16"
  }
 },
 "nbformat": 4,
 "nbformat_minor": 5
}
