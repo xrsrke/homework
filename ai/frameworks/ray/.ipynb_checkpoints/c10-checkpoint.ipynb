{
 "cells": [
  {
   "cell_type": "code",
   "execution_count": null,
   "id": "eb5fdecf-ce19-42e7-8403-0c7681299d4e",
   "metadata": {},
   "outputs": [],
   "source": [
    "from ray.train.rl.rl_trainer import RLTrainer\n",
    "\n",
    "from ray.tune.tuner import Tuner, TuneConfig\n",
    "from ray.air.config import RunConfig"
   ]
  },
  {
   "cell_type": "markdown",
   "id": "61d2463f-382f-4c3a-a5ea-eef6036356f4",
   "metadata": {},
   "source": [
    "##### Example 1"
   ]
  },
  {
   "cell_type": "markdown",
   "id": "4769a114-ca43-4243-9dac-8c3c663fc41f",
   "metadata": {},
   "source": [
    "Create an reinforcement learning trainer for PPO"
   ]
  },
  {
   "cell_type": "code",
   "execution_count": null,
   "id": "6a997557-c100-4283-b70f-909c046881de",
   "metadata": {},
   "outputs": [],
   "source": [
    "from ray.train.rl.rl_trainer import RLTrainer"
   ]
  },
  {
   "cell_type": "code",
   "execution_count": null,
   "id": "b549decb-6be1-4081-acc9-3bda300d7fc8",
   "metadata": {},
   "outputs": [],
   "source": [
    "trainer = RLTrainer(algorithm=\"PPO\")"
   ]
  },
  {
   "cell_type": "code",
   "execution_count": null,
   "id": "d011e911-35d3-4c00-92ba-2407127877e6",
   "metadata": {},
   "outputs": [
    {
     "data": {
      "text/plain": [
       "<RLTrainer>"
      ]
     },
     "execution_count": null,
     "metadata": {},
     "output_type": "execute_result"
    }
   ],
   "source": [
    "trainer"
   ]
  },
  {
   "cell_type": "markdown",
   "id": "cb9760d3-b9fd-4a87-bed0-c0e7b9955c99",
   "metadata": {},
   "source": [
    "##### Example 2"
   ]
  },
  {
   "cell_type": "markdown",
   "id": "a7546860-81ff-43c2-a8f4-11f9d455d1ad",
   "metadata": {},
   "source": [
    "Create an reinforcement learning trainer that uses `3` workers for PPO"
   ]
  },
  {
   "cell_type": "code",
   "execution_count": null,
   "id": "921faaa4-6eb5-4e8a-b63c-3ef2480949fe",
   "metadata": {},
   "outputs": [],
   "source": [
    "from ray.train.rl.rl_trainer import RLTrainer\n",
    "from ray.air.config import ScalingConfig"
   ]
  },
  {
   "cell_type": "code",
   "execution_count": null,
   "id": "e4187386-edd2-4ede-959b-3e4211b252aa",
   "metadata": {},
   "outputs": [],
   "source": [
    "trainer = RLTrainer(\n",
    "    algorithm=\"PPO\",\n",
    "    scaling_config = ScalingConfig(num_workers=3),\n",
    ")"
   ]
  },
  {
   "cell_type": "code",
   "execution_count": null,
   "id": "6196f0a7-6dba-40e3-a1cc-c690b47eab34",
   "metadata": {},
   "outputs": [
    {
     "data": {
      "text/plain": [
       "<RLTrainer scaling_config=ScalingConfig(num_workers=3)>"
      ]
     },
     "execution_count": null,
     "metadata": {},
     "output_type": "execute_result"
    }
   ],
   "source": [
    "trainer"
   ]
  },
  {
   "cell_type": "markdown",
   "id": "5d78d0cd-c6ce-4294-9c15-03f749a39dfd",
   "metadata": {},
   "source": [
    "##### Example 3"
   ]
  },
  {
   "cell_type": "code",
   "execution_count": null,
   "id": "7de79c39-0c24-422c-919a-23af6f0b59b0",
   "metadata": {},
   "outputs": [],
   "source": [
    "from ray import tune"
   ]
  },
  {
   "cell_type": "code",
   "execution_count": null,
   "id": "752f72ab-037e-47e5-8ba8-04ee83d98a81",
   "metadata": {},
   "outputs": [],
   "source": [
    "search_space = {\"weight\": tune.uniform(0, 1)}"
   ]
  },
  {
   "cell_type": "code",
   "execution_count": null,
   "id": "94049289-aa63-404f-b885-7db5a1738871",
   "metadata": {},
   "outputs": [],
   "source": [
    "trainer = RLTrainer(algorithm=\"PPO\")"
   ]
  },
  {
   "cell_type": "code",
   "execution_count": null,
   "id": "b127eb1a-9967-40f8-9dc8-484141745eb7",
   "metadata": {},
   "outputs": [
    {
     "data": {
      "text/plain": [
       "<RLTrainer>"
      ]
     },
     "execution_count": null,
     "metadata": {},
     "output_type": "execute_result"
    }
   ],
   "source": [
    "trainer"
   ]
  },
  {
   "cell_type": "code",
   "execution_count": null,
   "id": "fd21a9f6-5583-4579-a990-00f050129bf3",
   "metadata": {},
   "outputs": [],
   "source": [
    "from ray.tune.tuner import Tuner, TuneConfig"
   ]
  },
  {
   "cell_type": "markdown",
   "id": "40b81f5a-c8b1-46ee-b2ee-883fb93df741",
   "metadata": {},
   "source": [
    "Do hyperparameter search and train based on the best hyperparameter in one line"
   ]
  },
  {
   "cell_type": "markdown",
   "id": "dfc67575-b4dd-4c42-bf96-38b579e0c21c",
   "metadata": {},
   "source": [
    "##### Example 4"
   ]
  },
  {
   "cell_type": "code",
   "execution_count": null,
   "id": "81e80811-bb13-4c28-9ba0-2dd04eaf71e7",
   "metadata": {},
   "outputs": [],
   "source": [
    "import torch\n",
    "from torch import nn\n",
    "\n",
    "from ray.train.torch import TorchCheckpoint"
   ]
  },
  {
   "cell_type": "code",
   "execution_count": null,
   "id": "348cd907-4b29-48b7-9814-08e52cbf65db",
   "metadata": {},
   "outputs": [],
   "source": [
    "model = nn.Sequential(\n",
    "    nn.Linear(10, 5),\n",
    "    nn.ReLU(),\n",
    "    nn.Linear(5, 1)\n",
    ")"
   ]
  },
  {
   "cell_type": "code",
   "execution_count": null,
   "id": "a738abf2-f423-4ecb-be81-7b2195ca8d5f",
   "metadata": {},
   "outputs": [],
   "source": [
    "checkpoint = TorchCheckpoint.from_model(model)"
   ]
  },
  {
   "cell_type": "code",
   "execution_count": null,
   "id": "128b67ee-d5a1-49ba-9d01-8c2bab35a3d3",
   "metadata": {},
   "outputs": [
    {
     "data": {
      "text/plain": [
       "TorchCheckpoint(data_dict={'_preprocessor': None, 'model': Sequential(\n",
       "  (0): Linear(in_features=10, out_features=5, bias=True)\n",
       "  (1): ReLU()\n",
       "  (2): Linear(in_features=5, out_features=1, bias=True)\n",
       ")})"
      ]
     },
     "execution_count": null,
     "metadata": {},
     "output_type": "execute_result"
    }
   ],
   "source": [
    "checkpoint"
   ]
  },
  {
   "cell_type": "code",
   "execution_count": null,
   "id": "f3e5380d-227d-4d42-9824-ba6f5862e456",
   "metadata": {},
   "outputs": [],
   "source": [
    "from ray.train.batch_predictor import BatchPredictor"
   ]
  },
  {
   "cell_type": "code",
   "execution_count": null,
   "id": "e15bab9a-3167-4f20-a34b-84623c266ac9",
   "metadata": {},
   "outputs": [
    {
     "name": "stderr",
     "output_type": "stream",
     "text": [
      "2023-03-31 09:52:04,949\tINFO worker.py:1553 -- Started a local Ray instance.\n"
     ]
    }
   ],
   "source": [
    "batch_predictor = BatchPredictor.from_checkpoint(checkpoint, model)"
   ]
  },
  {
   "cell_type": "code",
   "execution_count": null,
   "id": "d5f5ab59-2baf-4a0f-9c9d-4eef9406fe5b",
   "metadata": {},
   "outputs": [],
   "source": [
    "batch_predictor.predict(torch.randn([5, 10]))"
   ]
  }
 ],
 "metadata": {
  "kernelspec": {
   "display_name": "Python 3 (ipykernel)",
   "language": "python",
   "name": "python3"
  }
 },
 "nbformat": 4,
 "nbformat_minor": 5
}
