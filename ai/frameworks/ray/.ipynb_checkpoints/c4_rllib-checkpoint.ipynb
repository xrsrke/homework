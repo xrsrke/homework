{
 "cells": [
  {
   "cell_type": "code",
   "execution_count": null,
   "id": "d4491e29-d166-452b-8ae4-7f86f9f79238",
   "metadata": {},
   "outputs": [],
   "source": [
    "from maze_gym_env import GymEnvironment"
   ]
  },
  {
   "cell_type": "code",
   "execution_count": null,
   "id": "f98e4632-f405-437e-93b6-da9368305049",
   "metadata": {},
   "outputs": [
    {
     "ename": "ImportError",
     "evalue": "Failed to import grpc on Apple Silicon. On Apple Silicon machines, try `pip uninstall grpcio; conda install grpcio`. Check out https://docs.ray.io/en/master/ray-overview/installation.html#m1-mac-apple-silicon-support for more details.",
     "output_type": "error",
     "traceback": [
      "\u001b[0;31m---------------------------------------------------------------------------\u001b[0m",
      "\u001b[0;31mModuleNotFoundError\u001b[0m                       Traceback (most recent call last)",
      "File \u001b[0;32m~/miniforge3/envs/gym/lib/python3.8/site-packages/ray/__init__.py:63\u001b[0m, in \u001b[0;36m_configure_system\u001b[0;34m()\u001b[0m\n\u001b[1;32m     62\u001b[0m \u001b[38;5;28;01mtry\u001b[39;00m:\n\u001b[0;32m---> 63\u001b[0m     \u001b[38;5;28;01mimport\u001b[39;00m \u001b[38;5;21;01mgrpc\u001b[39;00m  \u001b[38;5;66;03m# noqa: F401\u001b[39;00m\n\u001b[1;32m     64\u001b[0m \u001b[38;5;28;01mexcept\u001b[39;00m \u001b[38;5;167;01mImportError\u001b[39;00m:\n",
      "\u001b[0;31mModuleNotFoundError\u001b[0m: No module named 'grpc'",
      "\nDuring handling of the above exception, another exception occurred:\n",
      "\u001b[0;31mImportError\u001b[0m                               Traceback (most recent call last)",
      "Cell \u001b[0;32mIn[2], line 1\u001b[0m\n\u001b[0;32m----> 1\u001b[0m \u001b[38;5;28;01mimport\u001b[39;00m \u001b[38;5;21;01mray\u001b[39;00m\n\u001b[1;32m      2\u001b[0m \u001b[38;5;28;01mfrom\u001b[39;00m \u001b[38;5;21;01mray\u001b[39;00m\u001b[38;5;21;01m.\u001b[39;00m\u001b[38;5;21;01mtune\u001b[39;00m\u001b[38;5;21;01m.\u001b[39;00m\u001b[38;5;21;01mlogger\u001b[39;00m \u001b[38;5;28;01mimport\u001b[39;00m pretty_print\n\u001b[1;32m      3\u001b[0m \u001b[38;5;28;01mfrom\u001b[39;00m \u001b[38;5;21;01mray\u001b[39;00m\u001b[38;5;21;01m.\u001b[39;00m\u001b[38;5;21;01mrllib\u001b[39;00m\u001b[38;5;21;01m.\u001b[39;00m\u001b[38;5;21;01malgorithms\u001b[39;00m\u001b[38;5;21;01m.\u001b[39;00m\u001b[38;5;21;01mdqn\u001b[39;00m \u001b[38;5;28;01mimport\u001b[39;00m DQNConfig\n",
      "File \u001b[0;32m~/miniforge3/envs/gym/lib/python3.8/site-packages/ray/__init__.py:101\u001b[0m\n\u001b[1;32m     96\u001b[0m         \u001b[38;5;28;01mfrom\u001b[39;00m \u001b[38;5;21;01mctypes\u001b[39;00m \u001b[38;5;28;01mimport\u001b[39;00m CDLL\n\u001b[1;32m     98\u001b[0m         CDLL(so_path, ctypes\u001b[38;5;241m.\u001b[39mRTLD_GLOBAL)\n\u001b[0;32m--> 101\u001b[0m \u001b[43m_configure_system\u001b[49m\u001b[43m(\u001b[49m\u001b[43m)\u001b[49m\n\u001b[1;32m    102\u001b[0m \u001b[38;5;66;03m# Delete configuration function.\u001b[39;00m\n\u001b[1;32m    103\u001b[0m \u001b[38;5;28;01mdel\u001b[39;00m _configure_system\n",
      "File \u001b[0;32m~/miniforge3/envs/gym/lib/python3.8/site-packages/ray/__init__.py:65\u001b[0m, in \u001b[0;36m_configure_system\u001b[0;34m()\u001b[0m\n\u001b[1;32m     63\u001b[0m         \u001b[38;5;28;01mimport\u001b[39;00m \u001b[38;5;21;01mgrpc\u001b[39;00m  \u001b[38;5;66;03m# noqa: F401\u001b[39;00m\n\u001b[1;32m     64\u001b[0m     \u001b[38;5;28;01mexcept\u001b[39;00m \u001b[38;5;167;01mImportError\u001b[39;00m:\n\u001b[0;32m---> 65\u001b[0m         \u001b[38;5;28;01mraise\u001b[39;00m \u001b[38;5;167;01mImportError\u001b[39;00m(\n\u001b[1;32m     66\u001b[0m             \u001b[38;5;124m\"\u001b[39m\u001b[38;5;124mFailed to import grpc on Apple Silicon. On Apple\u001b[39m\u001b[38;5;124m\"\u001b[39m\n\u001b[1;32m     67\u001b[0m             \u001b[38;5;124m\"\u001b[39m\u001b[38;5;124m Silicon machines, try `pip uninstall grpcio; conda \u001b[39m\u001b[38;5;124m\"\u001b[39m\n\u001b[1;32m     68\u001b[0m             \u001b[38;5;124m\"\u001b[39m\u001b[38;5;124minstall grpcio`. Check out \u001b[39m\u001b[38;5;124m\"\u001b[39m\n\u001b[1;32m     69\u001b[0m             \u001b[38;5;124m\"\u001b[39m\u001b[38;5;124mhttps://docs.ray.io/en/master/ray-overview/installation.html\u001b[39m\u001b[38;5;124m\"\u001b[39m\n\u001b[1;32m     70\u001b[0m             \u001b[38;5;124m\"\u001b[39m\u001b[38;5;124m#m1-mac-apple-silicon-support for more details.\u001b[39m\u001b[38;5;124m\"\u001b[39m\n\u001b[1;32m     71\u001b[0m         )\n\u001b[1;32m     73\u001b[0m \u001b[38;5;66;03m# Importing psutil & setproctitle. Must be before ray._raylet is\u001b[39;00m\n\u001b[1;32m     74\u001b[0m \u001b[38;5;66;03m# initialized.\u001b[39;00m\n\u001b[1;32m     75\u001b[0m thirdparty_files \u001b[38;5;241m=\u001b[39m os\u001b[38;5;241m.\u001b[39mpath\u001b[38;5;241m.\u001b[39mjoin(\n\u001b[1;32m     76\u001b[0m     os\u001b[38;5;241m.\u001b[39mpath\u001b[38;5;241m.\u001b[39mabspath(os\u001b[38;5;241m.\u001b[39mpath\u001b[38;5;241m.\u001b[39mdirname(\u001b[38;5;18m__file__\u001b[39m)), \u001b[38;5;124m\"\u001b[39m\u001b[38;5;124mthirdparty_files\u001b[39m\u001b[38;5;124m\"\u001b[39m\n\u001b[1;32m     77\u001b[0m )\n",
      "\u001b[0;31mImportError\u001b[0m: Failed to import grpc on Apple Silicon. On Apple Silicon machines, try `pip uninstall grpcio; conda install grpcio`. Check out https://docs.ray.io/en/master/ray-overview/installation.html#m1-mac-apple-silicon-support for more details."
     ]
    }
   ],
   "source": [
    "import ray\n",
    "from ray.tune.logger import pretty_print\n",
    "from ray.rllib.algorithms.dqn import DQNConfig"
   ]
  },
  {
   "cell_type": "code",
   "execution_count": null,
   "id": "f4dd7b37-2857-4112-a93f-e0d6d33885e1",
   "metadata": {},
   "outputs": [],
   "source": [
    "env_name = \"CartPole-v1\""
   ]
  },
  {
   "cell_type": "code",
   "execution_count": null,
   "id": "10f0bcc9-40f5-4f48-ad10-c90733ff2cac",
   "metadata": {},
   "outputs": [
    {
     "name": "stderr",
     "output_type": "stream",
     "text": [
      "2023-03-23 10:21:30,387\tWARNING env.py:166 -- Your env reset() method appears to take 'seed' or 'return_info' arguments. Note that these are not yet supported in RLlib. Seeding will take place using 'env.seed()' and the info dict will not be returned from reset.\n",
      "2023-03-23 10:21:30,476\tWARNING util.py:67 -- Install gputil for GPU system monitoring.\n"
     ]
    }
   ],
   "source": [
    "algo = DQNConfig().environment(env_name).framework(\"torch\").build()"
   ]
  },
  {
   "cell_type": "code",
   "execution_count": null,
   "id": "a57e2e6d-c1ba-4262-83ae-1664767c949f",
   "metadata": {},
   "outputs": [],
   "source": [
    "policy = algo.get_policy()"
   ]
  },
  {
   "cell_type": "code",
   "execution_count": null,
   "id": "75d6299b-2603-4a7f-9936-b7b84f24abcc",
   "metadata": {},
   "outputs": [],
   "source": [
    "model = policy.model"
   ]
  },
  {
   "cell_type": "markdown",
   "id": "8c7a63f1-1981-4ce0-8bf0-1ecce66477fd",
   "metadata": {},
   "source": [
    "### Multi-Agent"
   ]
  },
  {
   "cell_type": "code",
   "execution_count": null,
   "id": "a7b4ec3e-1b0d-4b98-ac66-ea9aa5d33eff",
   "metadata": {},
   "outputs": [],
   "source": [
    "from ray.rllib.env.multi_agent_env import MultiAgentEnv\n",
    "from gym.spaces import Discrete"
   ]
  },
  {
   "cell_type": "code",
   "execution_count": null,
   "id": "3726f6de-c08a-46a9-958f-ee8aa389be71",
   "metadata": {},
   "outputs": [],
   "source": [
    "class MultiAgentMaze(MultiAgentEnv):\n",
    "    pass"
   ]
  },
  {
   "cell_type": "code",
   "execution_count": null,
   "id": "04c97354-0a53-46a5-aea4-2fa03f5617d1",
   "metadata": {},
   "outputs": [],
   "source": []
  }
 ],
 "metadata": {
  "kernelspec": {
   "display_name": "Python 3 (ipykernel)",
   "language": "python",
   "name": "python3"
  }
 },
 "nbformat": 4,
 "nbformat_minor": 5
}
