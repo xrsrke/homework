{
 "cells": [
  {
   "cell_type": "code",
   "execution_count": 1,
   "id": "e521bbd5-fbc4-4cfe-9b99-038e0a058569",
   "metadata": {
    "tags": []
   },
   "outputs": [],
   "source": [
    "import ray"
   ]
  },
  {
   "cell_type": "code",
   "execution_count": 2,
   "id": "43e2090a-1f61-434f-93ce-22f04a3929a1",
   "metadata": {
    "tags": []
   },
   "outputs": [
    {
     "name": "stderr",
     "output_type": "stream",
     "text": [
      "2023-03-21 13:47:45,189\tINFO worker.py:1553 -- Started a local Ray instance.\n"
     ]
    },
    {
     "data": {
      "text/html": [
       "<div>\n",
       "    <div style=\"margin-left: 50px;display: flex;flex-direction: row;align-items: center\">\n",
       "        <h3 style=\"color: var(--jp-ui-font-color0)\">Ray</h3>\n",
       "        <svg version=\"1.1\" id=\"ray\" width=\"3em\" viewBox=\"0 0 144.5 144.6\" style=\"margin-left: 3em;margin-right: 3em\">\n",
       "            <g id=\"layer-1\">\n",
       "                <path fill=\"#00a2e9\" class=\"st0\" d=\"M97.3,77.2c-3.8-1.1-6.2,0.9-8.3,5.1c-3.5,6.8-9.9,9.9-17.4,9.6S58,88.1,54.8,81.2c-1.4-3-3-4-6.3-4.1\n",
       "                    c-5.6-0.1-9.9,0.1-13.1,6.4c-3.8,7.6-13.6,10.2-21.8,7.6C5.2,88.4-0.4,80.5,0,71.7c0.1-8.4,5.7-15.8,13.8-18.2\n",
       "                    c8.4-2.6,17.5,0.7,22.3,8c1.3,1.9,1.3,5.2,3.6,5.6c3.9,0.6,8,0.2,12,0.2c1.8,0,1.9-1.6,2.4-2.8c3.5-7.8,9.7-11.8,18-11.9\n",
       "                    c8.2-0.1,14.4,3.9,17.8,11.4c1.3,2.8,2.9,3.6,5.7,3.3c1-0.1,2,0.1,3,0c2.8-0.5,6.4,1.7,8.1-2.7s-2.3-5.5-4.1-7.5\n",
       "                    c-5.1-5.7-10.9-10.8-16.1-16.3C84,38,81.9,37.1,78,38.3C66.7,42,56.2,35.7,53,24.1C50.3,14,57.3,2.8,67.7,0.5\n",
       "                    C78.4-2,89,4.7,91.5,15.3c0.1,0.3,0.1,0.5,0.2,0.8c0.7,3.4,0.7,6.9-0.8,9.8c-1.7,3.2-0.8,5,1.5,7.2c6.7,6.5,13.3,13,19.8,19.7\n",
       "                    c1.8,1.8,3,2.1,5.5,1.2c9.1-3.4,17.9-0.6,23.4,7c4.8,6.9,4.6,16.1-0.4,22.9c-5.4,7.2-14.2,9.9-23.1,6.5c-2.3-0.9-3.5-0.6-5.1,1.1\n",
       "                    c-6.7,6.9-13.6,13.7-20.5,20.4c-1.8,1.8-2.5,3.2-1.4,5.9c3.5,8.7,0.3,18.6-7.7,23.6c-7.9,5-18.2,3.8-24.8-2.9\n",
       "                    c-6.4-6.4-7.4-16.2-2.5-24.3c4.9-7.8,14.5-11,23.1-7.8c3,1.1,4.7,0.5,6.9-1.7C91.7,98.4,98,92.3,104.2,86c1.6-1.6,4.1-2.7,2.6-6.2\n",
       "                    c-1.4-3.3-3.8-2.5-6.2-2.6C99.8,77.2,98.9,77.2,97.3,77.2z M72.1,29.7c5.5,0.1,9.9-4.3,10-9.8c0-0.1,0-0.2,0-0.3\n",
       "                    C81.8,14,77,9.8,71.5,10.2c-5,0.3-9,4.2-9.3,9.2c-0.2,5.5,4,10.1,9.5,10.3C71.8,29.7,72,29.7,72.1,29.7z M72.3,62.3\n",
       "                    c-5.4-0.1-9.9,4.2-10.1,9.7c0,0.2,0,0.3,0,0.5c0.2,5.4,4.5,9.7,9.9,10c5.1,0.1,9.9-4.7,10.1-9.8c0.2-5.5-4-10-9.5-10.3\n",
       "                    C72.6,62.3,72.4,62.3,72.3,62.3z M115,72.5c0.1,5.4,4.5,9.7,9.8,9.9c5.6-0.2,10-4.8,10-10.4c-0.2-5.4-4.6-9.7-10-9.7\n",
       "                    c-5.3-0.1-9.8,4.2-9.9,9.5C115,72.1,115,72.3,115,72.5z M19.5,62.3c-5.4,0.1-9.8,4.4-10,9.8c-0.1,5.1,5.2,10.4,10.2,10.3\n",
       "                    c5.6-0.2,10-4.9,9.8-10.5c-0.1-5.4-4.5-9.7-9.9-9.6C19.6,62.3,19.5,62.3,19.5,62.3z M71.8,134.6c5.9,0.2,10.3-3.9,10.4-9.6\n",
       "                    c0.5-5.5-3.6-10.4-9.1-10.8c-5.5-0.5-10.4,3.6-10.8,9.1c0,0.5,0,0.9,0,1.4c-0.2,5.3,4,9.8,9.3,10\n",
       "                    C71.6,134.6,71.7,134.6,71.8,134.6z\"/>\n",
       "            </g>\n",
       "        </svg>\n",
       "        <table>\n",
       "            <tr>\n",
       "                <td style=\"text-align: left\"><b>Python version:</b></td>\n",
       "                <td style=\"text-align: left\"><b>3.8.16</b></td>\n",
       "            </tr>\n",
       "            <tr>\n",
       "                <td style=\"text-align: left\"><b>Ray version:</b></td>\n",
       "                <td style=\"text-align: left\"><b> 2.3.0</b></td>\n",
       "            </tr>\n",
       "            \n",
       "        </table>\n",
       "    </div>\n",
       "</div>\n"
      ],
      "text/plain": [
       "RayContext(dashboard_url='', python_version='3.8.16', ray_version='2.3.0', ray_commit='cf7a56b4b0b648c324722df7c99c168e92ff0b45', address_info={'node_ip_address': '127.0.0.1', 'raylet_ip_address': '127.0.0.1', 'redis_address': None, 'object_store_address': '/tmp/ray/session_2023-03-21_13-47-43_331700_17994/sockets/plasma_store', 'raylet_socket_name': '/tmp/ray/session_2023-03-21_13-47-43_331700_17994/sockets/raylet', 'webui_url': '', 'session_dir': '/tmp/ray/session_2023-03-21_13-47-43_331700_17994', 'metrics_export_port': 63939, 'gcs_address': '127.0.0.1:63708', 'address': '127.0.0.1:63708', 'dashboard_agent_listen_port': 52365, 'node_id': '0384d73670452d0a175a3859cd06c3ce9a9e0decef5449aa3f43e4f1'})"
      ]
     },
     "execution_count": 2,
     "metadata": {},
     "output_type": "execute_result"
    }
   ],
   "source": [
    "ray.init()"
   ]
  },
  {
   "cell_type": "code",
   "execution_count": 3,
   "id": "b8a2d218-bea7-4e79-9d5a-29063c2bbbd0",
   "metadata": {
    "tags": []
   },
   "outputs": [],
   "source": [
    "items = [{\"name\": str(i), \"data\": i} for i in range(10000)]"
   ]
  },
  {
   "cell_type": "code",
   "execution_count": 4,
   "id": "4e7e3481-630d-4b52-b536-e9acd2af0775",
   "metadata": {
    "tags": []
   },
   "outputs": [
    {
     "data": {
      "text/plain": [
       "[{'name': '0', 'data': 0}, {'name': '1', 'data': 1}]"
      ]
     },
     "execution_count": 4,
     "metadata": {},
     "output_type": "execute_result"
    }
   ],
   "source": [
    "items[:2]"
   ]
  },
  {
   "cell_type": "code",
   "execution_count": 5,
   "id": "09439c4d-0dc4-4800-b6f2-d9bb63a32067",
   "metadata": {
    "tags": []
   },
   "outputs": [
    {
     "data": {
      "text/plain": [
       "10000"
      ]
     },
     "execution_count": 5,
     "metadata": {},
     "output_type": "execute_result"
    }
   ],
   "source": [
    "len(items)"
   ]
  },
  {
   "cell_type": "markdown",
   "id": "0b5a8e01-f8fb-4c29-a412-3cf428a5c9b6",
   "metadata": {},
   "source": [
    "Create a distributed data collection using `ray` from `items`"
   ]
  },
  {
   "cell_type": "code",
   "execution_count": 6,
   "id": "19f0355a-23a1-47ea-8370-3e10dad3a5c8",
   "metadata": {
    "tags": []
   },
   "outputs": [],
   "source": [
    "import ray"
   ]
  },
  {
   "cell_type": "code",
   "execution_count": 7,
   "id": "365d0bf2-0312-4af5-8ccd-def63af2eafa",
   "metadata": {
    "tags": []
   },
   "outputs": [],
   "source": [
    "ds = ray.data.from_items(items)"
   ]
  },
  {
   "cell_type": "code",
   "execution_count": 8,
   "id": "687f2e96-f441-474e-8989-bc12ab8c0826",
   "metadata": {
    "tags": []
   },
   "outputs": [
    {
     "name": "stdout",
     "output_type": "stream",
     "text": [
      "{'name': '0', 'data': 0}\n",
      "{'name': '1', 'data': 1}\n",
      "{'name': '2', 'data': 2}\n",
      "{'name': '3', 'data': 3}\n",
      "{'name': '4', 'data': 4}\n"
     ]
    }
   ],
   "source": [
    "ds.show(5)"
   ]
  },
  {
   "cell_type": "markdown",
   "id": "44c13039-98d8-4ffc-b101-fcdabb9fe2fb",
   "metadata": {},
   "source": [
    "##### Example 2"
   ]
  },
  {
   "cell_type": "code",
   "execution_count": 9,
   "id": "4f0f7817-5ab5-4254-95f3-2d9fa11f5628",
   "metadata": {
    "tags": []
   },
   "outputs": [
    {
     "name": "stderr",
     "output_type": "stream",
     "text": [
      "2023-03-21 13:47:48,735\tINFO dataset.py:3881 -- Created DatasetPipeline with 20 windows: 7390b min, 8000b max, 7944b mean\n",
      "2023-03-21 13:47:48,737\tINFO dataset.py:3891 -- Blocks per window: 10 min, 10 max, 10 mean\n",
      "2023-03-21 13:47:48,740\tINFO dataset.py:3913 -- ✔️  This pipeline's per-window parallelism is high enough to fully utilize the cluster.\n",
      "2023-03-21 13:47:48,743\tINFO dataset.py:3930 -- ✔️  This pipeline's windows likely fit in object store memory without spilling.\n"
     ]
    }
   ],
   "source": [
    "pipe = ds.window()"
   ]
  },
  {
   "cell_type": "code",
   "execution_count": 10,
   "id": "47e6cd39-badc-4adf-90f5-f1f20289b7c3",
   "metadata": {
    "tags": []
   },
   "outputs": [],
   "source": [
    "result = pipe.map(lambda x: x[\"data\"] ** 2)\\\n",
    "             .filter(lambda x: x % 2 == 0)\\\n",
    "             .flat_map(lambda x: [x, x**3])"
   ]
  },
  {
   "cell_type": "code",
   "execution_count": 11,
   "id": "43370a5e-8d19-4e9e-9cf2-04069f8a01c9",
   "metadata": {
    "tags": []
   },
   "outputs": [
    {
     "name": "stderr",
     "output_type": "stream",
     "text": [
      "2023-03-21 13:47:49,131\tWARNING dataset.py:4422 -- The `map`, `flat_map`, and `filter` operations are unvectorized and can be very slow. Consider using `.map_batches()` instead.\n",
      "2023-03-21 13:47:49,142\tINFO bulk_executor.py:39 -- Executing DAG InputDataBuffer[Input] -> TaskPoolMapOperator[map->filter->flat_map]\n"
     ]
    },
    {
     "name": "stdout",
     "output_type": "stream",
     "text": [
      "[dataset]: Run `pip install tqdm` to enable progress reporting.\n"
     ]
    },
    {
     "name": "stderr",
     "output_type": "stream",
     "text": [
      "2023-03-21 13:47:50,407\tINFO bulk_executor.py:39 -- Executing DAG InputDataBuffer[Input] -> TaskPoolMapOperator[map->filter->flat_map]\n"
     ]
    },
    {
     "name": "stdout",
     "output_type": "stream",
     "text": [
      "0\n",
      "0\n",
      "4\n",
      "64\n",
      "16\n",
      "4096\n",
      "36\n",
      "46656\n",
      "64\n",
      "262144\n"
     ]
    }
   ],
   "source": [
    "result.show(10)"
   ]
  },
  {
   "cell_type": "markdown",
   "id": "11e683db-ae38-48e0-9cea-873f6c4941ee",
   "metadata": {},
   "source": [
    "##### Example 3"
   ]
  },
  {
   "cell_type": "code",
   "execution_count": 19,
   "id": "e5eeaf00-0c06-4a3c-987f-62733dae7de0",
   "metadata": {
    "tags": []
   },
   "outputs": [],
   "source": [
    "import math\n",
    "import time"
   ]
  },
  {
   "cell_type": "code",
   "execution_count": 21,
   "id": "4dda9189-9bf9-424d-b76c-f5ba3587767f",
   "metadata": {
    "tags": []
   },
   "outputs": [],
   "source": [
    "def objective(x, y):\n",
    "    return math.sqrt((x**2 + y**2)/2)"
   ]
  },
  {
   "cell_type": "code",
   "execution_count": 33,
   "id": "b7875968-2ed0-43c7-a397-bae9abcd47e1",
   "metadata": {
    "tags": []
   },
   "outputs": [],
   "source": [
    "config = {\n",
    "    \"x\": tune.grid_search([-1, -0.5, 0, 0.5, 1]),\n",
    "    \"y\": tune.grid_search([-1, -0.5, 0, 0.5, 1]),\n",
    "}"
   ]
  },
  {
   "cell_type": "code",
   "execution_count": 44,
   "id": "cc2804a9-dba4-4db9-a7d1-085651ede3ec",
   "metadata": {
    "tags": []
   },
   "outputs": [
    {
     "data": {
      "text/plain": [
       "1.5811388300841898"
      ]
     },
     "execution_count": 44,
     "metadata": {},
     "output_type": "execute_result"
    }
   ],
   "source": [
    "objective(x=1, y=2)"
   ]
  },
  {
   "cell_type": "code",
   "execution_count": 45,
   "id": "1dedd221-165f-4884-a6ef-aecad0de09f4",
   "metadata": {
    "tags": []
   },
   "outputs": [
    {
     "data": {
      "text/plain": [
       "2.5495097567963922"
      ]
     },
     "execution_count": 45,
     "metadata": {},
     "output_type": "execute_result"
    }
   ],
   "source": [
    "objective(x=2, y=3)"
   ]
  },
  {
   "cell_type": "code",
   "execution_count": 46,
   "id": "3578c22f-db7e-4f14-a436-289e155ced45",
   "metadata": {
    "tags": []
   },
   "outputs": [
    {
     "data": {
      "text/plain": [
       "{'x': {'grid_search': [-1, -0.5, 0, 0.5, 1]},\n",
       " 'y': {'grid_search': [-1, -0.5, 0, 0.5, 1]}}"
      ]
     },
     "execution_count": 46,
     "metadata": {},
     "output_type": "execute_result"
    }
   ],
   "source": [
    "config"
   ]
  },
  {
   "cell_type": "markdown",
   "id": "76bb2b69-7643-4f57-a20f-9f6c8ffb229d",
   "metadata": {},
   "source": [
    "Find `x` and `y` values that has the lowest output value in the `objective` function\n",
    "\n",
    "**Hint**: `tune.report()`"
   ]
  },
  {
   "cell_type": "code",
   "execution_count": 47,
   "id": "3359c58f-74dd-48df-81c8-7b7b4f3a96a0",
   "metadata": {
    "tags": []
   },
   "outputs": [],
   "source": [
    "from ray import tune"
   ]
  },
  {
   "cell_type": "code",
   "execution_count": 48,
   "id": "52346b3f-77db-445b-8e5e-3373e9dd9fce",
   "metadata": {
    "tags": []
   },
   "outputs": [],
   "source": [
    "def training_function(config):\n",
    "    x, y = config[\"x\"], config[\"y\"]\n",
    "    score = objective(x, y)\n",
    "    tune.report(score=score)"
   ]
  },
  {
   "cell_type": "code",
   "execution_count": null,
   "id": "1abebcba-e973-4406-b5e6-d44d8c620901",
   "metadata": {},
   "outputs": [],
   "source": [
    "result = tune.run(\n",
    "    training_function,\n",
    "    config = config\n",
    ")"
   ]
  },
  {
   "cell_type": "code",
   "execution_count": 51,
   "id": "d417f35b-789d-4f0a-91d4-b5a2204cc6ab",
   "metadata": {
    "tags": []
   },
   "outputs": [
    {
     "data": {
      "text/plain": [
       "{'x': 0, 'y': 0}"
      ]
     },
     "execution_count": 51,
     "metadata": {},
     "output_type": "execute_result"
    }
   ],
   "source": [
    "result.get_best_config(metric=\"score\", mode=\"min\")"
   ]
  },
  {
   "cell_type": "code",
   "execution_count": null,
   "id": "b15c4741-7d6d-42ac-b336-39febae0d1cd",
   "metadata": {},
   "outputs": [],
   "source": []
  },
  {
   "cell_type": "code",
   "execution_count": null,
   "id": "77dd4dc7-04a8-45f8-9b5e-844466d93c05",
   "metadata": {},
   "outputs": [],
   "source": []
  }
 ],
 "metadata": {
  "kernelspec": {
   "display_name": "Python 3 (ipykernel)",
   "language": "python",
   "name": "python3"
  },
  "language_info": {
   "codemirror_mode": {
    "name": "ipython",
    "version": 3
   },
   "file_extension": ".py",
   "mimetype": "text/x-python",
   "name": "python",
   "nbconvert_exporter": "python",
   "pygments_lexer": "ipython3",
   "version": "3.8.16"
  }
 },
 "nbformat": 4,
 "nbformat_minor": 5
}
