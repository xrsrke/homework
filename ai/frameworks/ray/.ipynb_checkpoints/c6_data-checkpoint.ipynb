{
 "cells": [
  {
   "cell_type": "markdown",
   "id": "b2f37666-dedb-4bd2-a973-0f7ec39fdba6",
   "metadata": {},
   "source": [
    "### Chapter 6. Data Processing with Ray"
   ]
  },
  {
   "cell_type": "code",
   "execution_count": 1,
   "id": "085e808b-6478-4553-bddb-a1c8c2a1a0a7",
   "metadata": {
    "tags": []
   },
   "outputs": [],
   "source": [
    "import ray"
   ]
  },
  {
   "cell_type": "code",
   "execution_count": 2,
   "id": "7a555cf4-c349-4089-9231-5ca42d671ede",
   "metadata": {
    "tags": []
   },
   "outputs": [
    {
     "name": "stderr",
     "output_type": "stream",
     "text": [
      "2023-03-24 10:50:07,872\tINFO worker.py:1553 -- Started a local Ray instance.\n"
     ]
    }
   ],
   "source": [
    "ds = ray.data.range(1000)"
   ]
  },
  {
   "cell_type": "code",
   "execution_count": 3,
   "id": "76ba9e0b-a3da-491c-b036-010c91166bdd",
   "metadata": {
    "tags": []
   },
   "outputs": [
    {
     "data": {
      "text/plain": [
       "1000"
      ]
     },
     "execution_count": 3,
     "metadata": {},
     "output_type": "execute_result"
    }
   ],
   "source": [
    "ds.count()"
   ]
  },
  {
   "cell_type": "code",
   "execution_count": 6,
   "id": "b5fae115-1b50-43db-979f-823906a0e181",
   "metadata": {
    "tags": []
   },
   "outputs": [
    {
     "data": {
      "text/plain": [
       "[0, 1, 2, 3, 4, 5, 6, 7, 8, 9]"
      ]
     },
     "execution_count": 6,
     "metadata": {},
     "output_type": "execute_result"
    }
   ],
   "source": [
    "ds.take(10)"
   ]
  },
  {
   "cell_type": "markdown",
   "id": "363211a8-fe65-43cd-a432-a3c3e13bc01c",
   "metadata": {},
   "source": [
    "##### Example 1 "
   ]
  },
  {
   "cell_type": "code",
   "execution_count": 22,
   "id": "b8a2e67a-7a31-4496-9ee7-8bc200037958",
   "metadata": {
    "tags": []
   },
   "outputs": [],
   "source": [
    "def view_n_blocks(x):\n",
    "    return x.num_blocks()"
   ]
  },
  {
   "cell_type": "code",
   "execution_count": 23,
   "id": "fdb669de-2ff1-42dd-953b-78fcae7947b1",
   "metadata": {
    "tags": []
   },
   "outputs": [
    {
     "data": {
      "text/plain": [
       "ray.data.dataset.Dataset"
      ]
     },
     "execution_count": 23,
     "metadata": {},
     "output_type": "execute_result"
    }
   ],
   "source": [
    "type(ds)"
   ]
  },
  {
   "cell_type": "code",
   "execution_count": 24,
   "id": "3bcc073d-36bc-45ab-a1c0-9409b63fc697",
   "metadata": {
    "tags": []
   },
   "outputs": [
    {
     "data": {
      "text/plain": [
       "17"
      ]
     },
     "execution_count": 24,
     "metadata": {},
     "output_type": "execute_result"
    }
   ],
   "source": [
    "view_n_blocks(ds)"
   ]
  },
  {
   "cell_type": "markdown",
   "id": "9a377ff4-b0f5-417d-b0be-16675575812c",
   "metadata": {},
   "source": [
    "Redistribute `ds` across `5` blocks"
   ]
  },
  {
   "cell_type": "code",
   "execution_count": 25,
   "id": "a6272ea1-cef0-48e8-a4ac-c23b6d0ced1f",
   "metadata": {
    "tags": []
   },
   "outputs": [],
   "source": [
    "new_ds = ds.repartition(5)"
   ]
  },
  {
   "cell_type": "code",
   "execution_count": 26,
   "id": "87a568ff-38dc-4e8e-b754-e8265b307284",
   "metadata": {
    "tags": []
   },
   "outputs": [
    {
     "data": {
      "text/plain": [
       "5"
      ]
     },
     "execution_count": 26,
     "metadata": {},
     "output_type": "execute_result"
    }
   ],
   "source": [
    "view_n_blocks(new_ds)"
   ]
  },
  {
   "cell_type": "markdown",
   "id": "18536e22-0a1e-454b-b3dd-5a50c3760bad",
   "metadata": {},
   "source": [
    "##### Example 2"
   ]
  },
  {
   "cell_type": "code",
   "execution_count": 27,
   "id": "e325db12-e115-467c-8d5f-14f3fd98860d",
   "metadata": {
    "tags": []
   },
   "outputs": [],
   "source": [
    "import numpy as np"
   ]
  },
  {
   "cell_type": "code",
   "execution_count": 57,
   "id": "bdefc7ed-c031-4684-a359-19e8ac686586",
   "metadata": {
    "tags": []
   },
   "outputs": [],
   "source": [
    "ds = ray.data.range(100)"
   ]
  },
  {
   "cell_type": "code",
   "execution_count": 58,
   "id": "589ae6c9-0f07-4058-a4dc-0d8c05f2f617",
   "metadata": {
    "tags": []
   },
   "outputs": [
    {
     "data": {
      "text/plain": [
       "([0, 1, 2, 3, 4], 100)"
      ]
     },
     "execution_count": 58,
     "metadata": {},
     "output_type": "execute_result"
    }
   ],
   "source": [
    "ds.take(5), ds.count()"
   ]
  },
  {
   "cell_type": "markdown",
   "id": "58e1736a-cbf5-40d0-99be-04e6a3481a71",
   "metadata": {},
   "source": [
    "Square all elements in `ds`. Do it in batch"
   ]
  },
  {
   "cell_type": "markdown",
   "id": "7cc8918f-cbe1-4871-ab7f-c5ef0947fa01",
   "metadata": {
    "tags": []
   },
   "source": [
    "**Hint**: `np.square([1, 2, 3]).tolist()`"
   ]
  },
  {
   "cell_type": "code",
   "execution_count": 59,
   "id": "7aa645f8-f7ac-40f1-9f8b-423759b41ee3",
   "metadata": {
    "tags": []
   },
   "outputs": [
    {
     "name": "stdout",
     "output_type": "stream",
     "text": [
      "33.1 µs ± 16.1 µs per loop (mean ± std. dev. of 7 runs, 10,000 loops each)\n"
     ]
    }
   ],
   "source": [
    "%timeit new_ds = ds.map_batches(lambda batch: np.square(batch).tolist())"
   ]
  },
  {
   "cell_type": "code",
   "execution_count": 60,
   "id": "f732b8e0-ec8a-4791-ab69-ef36ac6eebf9",
   "metadata": {
    "tags": []
   },
   "outputs": [
    {
     "data": {
      "text/plain": [
       "[0, 1, 4, 9, 16]"
      ]
     },
     "execution_count": 60,
     "metadata": {},
     "output_type": "execute_result"
    }
   ],
   "source": [
    "new_ds.take(5)"
   ]
  },
  {
   "cell_type": "code",
   "execution_count": null,
   "id": "37bbbe55-1905-4d9a-af3e-15fe1c9328e7",
   "metadata": {},
   "outputs": [],
   "source": []
  }
 ],
 "metadata": {
  "kernelspec": {
   "display_name": "Python 3 (ipykernel)",
   "language": "python",
   "name": "python3"
  },
  "language_info": {
   "codemirror_mode": {
    "name": "ipython",
    "version": 3
   },
   "file_extension": ".py",
   "mimetype": "text/x-python",
   "name": "python",
   "nbconvert_exporter": "python",
   "pygments_lexer": "ipython3",
   "version": "3.8.16"
  }
 },
 "nbformat": 4,
 "nbformat_minor": 5
}
