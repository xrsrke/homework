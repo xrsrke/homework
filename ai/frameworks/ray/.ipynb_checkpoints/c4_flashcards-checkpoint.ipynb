{
 "cells": [
  {
   "cell_type": "markdown",
   "id": "9398d5dc-94f6-4295-9b3f-27f045fbeb04",
   "metadata": {},
   "source": [
    "##### Example 1 "
   ]
  },
  {
   "cell_type": "code",
   "execution_count": 22,
   "id": "38af942b-5e45-458b-baa3-e775fdeb4bd1",
   "metadata": {
    "tags": []
   },
   "outputs": [],
   "source": [
    "env_name = \"CartPole-v1\""
   ]
  },
  {
   "cell_type": "code",
   "execution_count": 32,
   "id": "f3dc9240-6189-409f-9845-d13b23d9dc38",
   "metadata": {
    "tags": []
   },
   "outputs": [
    {
     "data": {
      "text/plain": [
       "'CartPole-v1'"
      ]
     },
     "execution_count": 32,
     "metadata": {},
     "output_type": "execute_result"
    }
   ],
   "source": [
    "env_name"
   ]
  },
  {
   "cell_type": "markdown",
   "id": "13ac7f80-5d0a-46ad-b08a-51e86e4adadc",
   "metadata": {},
   "source": [
    "Create a PPO model on `env_name` environment using `ray`\n",
    "\n",
    "**Hint**: Specify the framework"
   ]
  },
  {
   "cell_type": "code",
   "execution_count": 33,
   "id": "6df70382-980a-401b-9a84-dc19d9228581",
   "metadata": {
    "tags": []
   },
   "outputs": [],
   "source": [
    "from ray.rllib.algorithms.ppo import PPOConfig"
   ]
  },
  {
   "cell_type": "code",
   "execution_count": 34,
   "id": "e9985563-8991-4f8f-8cbe-7e043d50869d",
   "metadata": {
    "tags": []
   },
   "outputs": [
    {
     "name": "stderr",
     "output_type": "stream",
     "text": [
      "\u001b[2m\u001b[36m(RolloutWorker pid=7105)\u001b[0m 2023-03-23 08:12:46,663\tWARNING env.py:166 -- Your env reset() method appears to take 'seed' or 'return_info' arguments. Note that these are not yet supported in RLlib. Seeding will take place using 'env.seed()' and the info dict will not be returned from reset.\n",
      "2023-03-23 08:12:46,706\tWARNING util.py:67 -- Install gputil for GPU system monitoring.\n"
     ]
    }
   ],
   "source": [
    "model = PPOConfig().environment(env_name).framework(\"torch\").build()"
   ]
  },
  {
   "cell_type": "code",
   "execution_count": 35,
   "id": "72097c3f-6837-4fd2-901c-4c3b6468411b",
   "metadata": {
    "tags": []
   },
   "outputs": [
    {
     "data": {
      "text/plain": [
       "PPO"
      ]
     },
     "execution_count": 35,
     "metadata": {},
     "output_type": "execute_result"
    }
   ],
   "source": [
    "model"
   ]
  },
  {
   "cell_type": "markdown",
   "id": "2a83e6f9-f920-4904-9bd3-23b96eec4d20",
   "metadata": {},
   "source": [
    "##### Example 2"
   ]
  },
  {
   "cell_type": "code",
   "execution_count": 36,
   "id": "1b323ebf-9ee5-4a2e-b233-738c17c1cc89",
   "metadata": {
    "tags": []
   },
   "outputs": [],
   "source": [
    "import gymnasium as gym"
   ]
  },
  {
   "cell_type": "code",
   "execution_count": 37,
   "id": "bbbc7b53-8132-48ce-b2b6-3f2c13c1205f",
   "metadata": {
    "tags": []
   },
   "outputs": [],
   "source": [
    "env = gym.make(env_name)"
   ]
  },
  {
   "cell_type": "code",
   "execution_count": 16,
   "id": "b8e9e2ae-65cf-4162-b2ea-5c7b8164de50",
   "metadata": {
    "tags": []
   },
   "outputs": [],
   "source": [
    "obs, _ = env.reset()"
   ]
  },
  {
   "cell_type": "code",
   "execution_count": 45,
   "id": "b550889b-f3bb-47c7-838d-19353c7ac806",
   "metadata": {
    "tags": []
   },
   "outputs": [
    {
     "data": {
      "text/plain": [
       "array([-0.00383713,  0.00959516,  0.01018802,  0.03398377], dtype=float32)"
      ]
     },
     "execution_count": 45,
     "metadata": {},
     "output_type": "execute_result"
    }
   ],
   "source": [
    "obs"
   ]
  },
  {
   "cell_type": "code",
   "execution_count": 46,
   "id": "ba21cc9b-7313-466e-a7a9-65ad958eebca",
   "metadata": {
    "tags": []
   },
   "outputs": [
    {
     "data": {
      "text/plain": [
       "ray.rllib.algorithms.ppo.ppo.PPO"
      ]
     },
     "execution_count": 46,
     "metadata": {},
     "output_type": "execute_result"
    }
   ],
   "source": [
    "type(model)"
   ]
  },
  {
   "cell_type": "markdown",
   "id": "41193283-2328-4c2a-b979-e04e7c9dde1d",
   "metadata": {},
   "source": [
    "Compute the action given the current observation `obs`"
   ]
  },
  {
   "cell_type": "code",
   "execution_count": 47,
   "id": "e2626985-1d52-4ec6-bbb2-f3a5d54928bb",
   "metadata": {
    "tags": []
   },
   "outputs": [],
   "source": [
    "action = model.compute_single_action(obs)"
   ]
  },
  {
   "cell_type": "code",
   "execution_count": 48,
   "id": "dae5f27a-0881-4582-9b22-f216559ab2dc",
   "metadata": {
    "tags": []
   },
   "outputs": [
    {
     "data": {
      "text/plain": [
       "1"
      ]
     },
     "execution_count": 48,
     "metadata": {},
     "output_type": "execute_result"
    }
   ],
   "source": [
    "action"
   ]
  },
  {
   "cell_type": "markdown",
   "id": "9a06378f-af00-43f2-8c59-83a2e7730f40",
   "metadata": {},
   "source": [
    "##### Example 3"
   ]
  },
  {
   "cell_type": "code",
   "execution_count": null,
   "id": "0b6aaf57-6a1f-4fc1-91a6-2933f53ed030",
   "metadata": {},
   "outputs": [],
   "source": [
    "model.bas"
   ]
  },
  {
   "cell_type": "code",
   "execution_count": 55,
   "id": "072dd542-e2d2-4984-855e-7a16d3dfc1a6",
   "metadata": {
    "tags": []
   },
   "outputs": [],
   "source": [
    "from ray.rllib.models.preprocessors import get_preprocessor"
   ]
  },
  {
   "cell_type": "code",
   "execution_count": 58,
   "id": "64d97659-d092-4b04-adaa-4442162f0a39",
   "metadata": {
    "tags": []
   },
   "outputs": [],
   "source": [
    "obs_space = env.observation_space"
   ]
  },
  {
   "cell_type": "code",
   "execution_count": 59,
   "id": "45374071-a36a-4dc7-82c7-f5b17cbd838f",
   "metadata": {
    "tags": []
   },
   "outputs": [],
   "source": [
    "preprocessor = get_preprocessor(obs_space)(obs_space)"
   ]
  },
  {
   "cell_type": "code",
   "execution_count": 60,
   "id": "e6bd358a-588e-4e63-a58b-ed78a9ea539f",
   "metadata": {
    "tags": []
   },
   "outputs": [],
   "source": [
    "transformed = preprocessor.transform(obs).reshape(1, -1)"
   ]
  },
  {
   "cell_type": "code",
   "execution_count": 65,
   "id": "29175e53-e964-4557-9b47-e974cc12636f",
   "metadata": {
    "tags": []
   },
   "outputs": [
    {
     "data": {
      "text/plain": [
       "array([-0.00383713,  0.00959516,  0.01018802,  0.03398377], dtype=float32)"
      ]
     },
     "execution_count": 65,
     "metadata": {},
     "output_type": "execute_result"
    }
   ],
   "source": [
    "transformed[0]"
   ]
  },
  {
   "cell_type": "markdown",
   "id": "dd682412-47c6-48d6-b29e-bbfaa6a05b70",
   "metadata": {},
   "source": [
    "##### Example 3"
   ]
  },
  {
   "cell_type": "code",
   "execution_count": 74,
   "id": "57573316-1bba-4542-9fb9-975ef91ca85c",
   "metadata": {
    "tags": []
   },
   "outputs": [],
   "source": [
    "import os\n",
    "\n",
    "from ray.rllib.env.multi_agent_env import MultiAgentEnv\n",
    "from gym.spaces import Discrete"
   ]
  },
  {
   "cell_type": "code",
   "execution_count": null,
   "id": "64ebf322-3722-40e8-a894-062f963e9892",
   "metadata": {},
   "outputs": [],
   "source": [
    "class MultiAgentMaze(MultiAgentMaze):\n",
    "    def __init__(self):\n",
    "        self.action_space = Discrete(4)\n",
    "        self.observation_space = Discrete(5*5)\n",
    "        self.agents = {1: (4, 0), 2: (0, 4)}\n",
    "        self.goal = (4, 4)"
   ]
  },
  {
   "cell_type": "code",
   "execution_count": null,
   "id": "0b61873c-250b-4b38-9b97-56b088daf020",
   "metadata": {},
   "outputs": [],
   "source": []
  }
 ],
 "metadata": {
  "kernelspec": {
   "display_name": "Python 3 (ipykernel)",
   "language": "python",
   "name": "python3"
  },
  "language_info": {
   "codemirror_mode": {
    "name": "ipython",
    "version": 3
   },
   "file_extension": ".py",
   "mimetype": "text/x-python",
   "name": "python",
   "nbconvert_exporter": "python",
   "pygments_lexer": "ipython3",
   "version": "3.8.16"
  }
 },
 "nbformat": 4,
 "nbformat_minor": 5
}
