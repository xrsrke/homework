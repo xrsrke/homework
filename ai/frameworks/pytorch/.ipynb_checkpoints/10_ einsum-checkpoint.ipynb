{
 "cells": [
  {
   "cell_type": "code",
   "execution_count": 4,
   "id": "aaccbdbd-63fd-4e97-aa58-951ff721bd01",
   "metadata": {},
   "outputs": [],
   "source": [
    "import torch\n",
    "from torch import einsum"
   ]
  },
  {
   "cell_type": "markdown",
   "id": "79c0f6db-f6fe-42da-bccf-267ac8d38efb",
   "metadata": {},
   "source": [
    "### 1. Tranpose"
   ]
  },
  {
   "cell_type": "markdown",
   "id": "7d402ffd-5e39-457c-aba3-843ad1a86c35",
   "metadata": {},
   "source": [
    "##### Example 1"
   ]
  },
  {
   "cell_type": "code",
   "execution_count": 66,
   "id": "a9b70a9c-81ef-4819-b2e9-0980368d4fbc",
   "metadata": {},
   "outputs": [],
   "source": [
    "a = torch.arange(6).reshape(2, 3)"
   ]
  },
  {
   "cell_type": "code",
   "execution_count": 70,
   "id": "1471735e-629b-4cc0-9892-7f4591b739a4",
   "metadata": {},
   "outputs": [],
   "source": [
    "from torch import einsum"
   ]
  },
  {
   "cell_type": "code",
   "execution_count": 71,
   "id": "4c080c86-8a00-442a-b19b-3fa19afd28d8",
   "metadata": {},
   "outputs": [
    {
     "data": {
      "text/plain": [
       "torch.Size([2, 3])"
      ]
     },
     "execution_count": 71,
     "metadata": {},
     "output_type": "execute_result"
    }
   ],
   "source": [
    "a.shape"
   ]
  },
  {
   "cell_type": "markdown",
   "id": "386161fc-9a37-425d-87f0-82a604b31f7c",
   "metadata": {},
   "source": [
    "Transpose matrix `a` using `einsum` and explain"
   ]
  },
  {
   "cell_type": "code",
   "execution_count": 72,
   "id": "1dc62e68-9a10-4a7f-a4f4-c5e718f71686",
   "metadata": {},
   "outputs": [],
   "source": [
    "output = einsum('ij->ji', a)"
   ]
  },
  {
   "cell_type": "markdown",
   "id": "e2c16efe-cd6e-483e-8a2e-3e18c7f34f2e",
   "metadata": {},
   "source": [
    "**Explain**: `ij -> ji` means: the element `a_ij` becomes the element `output_ji`"
   ]
  },
  {
   "cell_type": "code",
   "execution_count": 73,
   "id": "fb78b181-e92d-407e-bda8-59da48aff678",
   "metadata": {},
   "outputs": [
    {
     "data": {
      "text/plain": [
       "torch.Size([3, 2])"
      ]
     },
     "execution_count": 73,
     "metadata": {},
     "output_type": "execute_result"
    }
   ],
   "source": [
    "output.shape"
   ]
  },
  {
   "cell_type": "markdown",
   "id": "2476f89f-39cf-4fbb-87ac-543858af1f80",
   "metadata": {},
   "source": [
    "### 2. Sum"
   ]
  },
  {
   "cell_type": "markdown",
   "id": "086c947c-a308-4ff7-9373-7cc150c9b7d0",
   "metadata": {},
   "source": [
    "##### Example 2"
   ]
  },
  {
   "cell_type": "code",
   "execution_count": 75,
   "id": "922a9acc-0283-4da9-9d98-0a3ebe355404",
   "metadata": {},
   "outputs": [],
   "source": [
    "a = torch.arange(6).reshape(2, 3)"
   ]
  },
  {
   "cell_type": "code",
   "execution_count": 76,
   "id": "7ebbc84b-bba9-421f-9184-4fd72b3a0f30",
   "metadata": {},
   "outputs": [
    {
     "data": {
      "text/plain": [
       "torch.Size([2, 3])"
      ]
     },
     "execution_count": 76,
     "metadata": {},
     "output_type": "execute_result"
    }
   ],
   "source": [
    "a.shape"
   ]
  },
  {
   "cell_type": "code",
   "execution_count": 78,
   "id": "a2dee52f-0f72-42cf-8495-8146d71670e9",
   "metadata": {},
   "outputs": [],
   "source": [
    "output = torch.einsum('ij->', [a])"
   ]
  },
  {
   "cell_type": "markdown",
   "id": "3adf1cb8-fa4f-4aef-b4be-924e381dfc67",
   "metadata": {},
   "source": [
    "**Explain**: `ij ->` means: the element `a_ij`"
   ]
  },
  {
   "cell_type": "markdown",
   "id": "59498497-13fa-463b-ad42-10c47c66f783",
   "metadata": {},
   "source": [
    "##### Example 1"
   ]
  },
  {
   "cell_type": "code",
   "execution_count": 10,
   "id": "8d3ba94b-0664-462a-bc7b-78451f0a9f11",
   "metadata": {},
   "outputs": [],
   "source": [
    "a = torch.tensor([0, 1, 2, 3])"
   ]
  },
  {
   "cell_type": "code",
   "execution_count": 11,
   "id": "f85094c2-7cb5-4fb7-acb6-f40377e6e7e2",
   "metadata": {},
   "outputs": [],
   "source": [
    "b = torch.tensor([0, 1, 2, 3])"
   ]
  },
  {
   "cell_type": "markdown",
   "id": "16932f4e-7fc2-43a2-9770-1760c3e9ef23",
   "metadata": {},
   "source": [
    "Do matrix multiplication between `a` and `b`. The output's size is the same as `a`"
   ]
  },
  {
   "cell_type": "code",
   "execution_count": 12,
   "id": "d2bf14b5-17bc-4561-92d1-41ba65bfcb08",
   "metadata": {},
   "outputs": [
    {
     "data": {
      "text/plain": [
       "tensor([ 0,  6, 12, 18])"
      ]
     },
     "execution_count": 12,
     "metadata": {},
     "output_type": "execute_result"
    }
   ],
   "source": [
    "einsum('i,j -> i', a, b)"
   ]
  },
  {
   "cell_type": "markdown",
   "id": "0192724e-8277-4962-8212-a8e8c78f2712",
   "metadata": {},
   "source": [
    "The output's size is a scalar"
   ]
  },
  {
   "cell_type": "code",
   "execution_count": 14,
   "id": "1dfe6bfa-5e1c-4869-ba9d-0f2316db232c",
   "metadata": {},
   "outputs": [
    {
     "data": {
      "text/plain": [
       "tensor(36)"
      ]
     },
     "execution_count": 14,
     "metadata": {},
     "output_type": "execute_result"
    }
   ],
   "source": [
    "einsum('i,j ->', a, b)"
   ]
  },
  {
   "cell_type": "code",
   "execution_count": 15,
   "id": "4e821757-b877-4b42-acf3-f8a650ee8d24",
   "metadata": {},
   "outputs": [
    {
     "data": {
      "text/plain": [
       "tensor([[0, 0, 0, 0],\n",
       "        [0, 1, 2, 3],\n",
       "        [0, 2, 4, 6],\n",
       "        [0, 3, 6, 9]])"
      ]
     },
     "execution_count": 15,
     "metadata": {},
     "output_type": "execute_result"
    }
   ],
   "source": [
    "einsum('i,j -> ij', a, b)"
   ]
  },
  {
   "cell_type": "markdown",
   "id": "e92d051a-858e-4f79-a578-ff88df210c57",
   "metadata": {},
   "source": [
    "##### Example 2"
   ]
  },
  {
   "cell_type": "code",
   "execution_count": 47,
   "id": "a3d38a11-d220-48b7-a413-f541815b1789",
   "metadata": {},
   "outputs": [],
   "source": [
    "a, b = torch.randn(2, 3), torch.randn(2, 3)"
   ]
  },
  {
   "cell_type": "code",
   "execution_count": 48,
   "id": "4d37fa24-2c2f-407f-a393-7b238d9ed893",
   "metadata": {},
   "outputs": [
    {
     "data": {
      "text/plain": [
       "(torch.Size([2, 3]), torch.Size([2, 3]))"
      ]
     },
     "execution_count": 48,
     "metadata": {},
     "output_type": "execute_result"
    }
   ],
   "source": [
    "a.shape, b.shape"
   ]
  },
  {
   "cell_type": "markdown",
   "id": "7535d31d-b787-48a4-8205-1c11c3dd1cf3",
   "metadata": {},
   "source": [
    "Do matrix multiplication between `a` and `b`"
   ]
  },
  {
   "cell_type": "code",
   "execution_count": 52,
   "id": "1ecf32f4-eace-43de-83cb-97e5b818c7bd",
   "metadata": {},
   "outputs": [
    {
     "data": {
      "text/plain": [
       "tensor([[ 2.9083,  1.0462],\n",
       "        [ 0.2614, -0.3838]])"
      ]
     },
     "execution_count": 52,
     "metadata": {},
     "output_type": "execute_result"
    }
   ],
   "source": [
    "a@b.T"
   ]
  },
  {
   "cell_type": "code",
   "execution_count": 53,
   "id": "9da5fb6d-a695-44a0-895f-60493e1c3017",
   "metadata": {},
   "outputs": [
    {
     "ename": "RuntimeError",
     "evalue": "einsum(): subscript j has size 2 for operand 1 which does not broadcast with previously seen size 3",
     "output_type": "error",
     "traceback": [
      "\u001b[0;31m---------------------------------------------------------------------------\u001b[0m",
      "\u001b[0;31mRuntimeError\u001b[0m                              Traceback (most recent call last)",
      "Cell \u001b[0;32mIn[53], line 1\u001b[0m\n\u001b[0;32m----> 1\u001b[0m \u001b[43meinsum\u001b[49m\u001b[43m(\u001b[49m\u001b[38;5;124;43m'\u001b[39;49m\u001b[38;5;124;43mij, ji -> i\u001b[39;49m\u001b[38;5;124;43m'\u001b[39;49m\u001b[43m,\u001b[49m\u001b[43m \u001b[49m\u001b[43ma\u001b[49m\u001b[43m,\u001b[49m\u001b[43m \u001b[49m\u001b[43mb\u001b[49m\u001b[43m)\u001b[49m\n",
      "File \u001b[0;32m~/miniforge3/envs/gym/lib/python3.8/site-packages/torch/functional.py:378\u001b[0m, in \u001b[0;36meinsum\u001b[0;34m(*args)\u001b[0m\n\u001b[1;32m    373\u001b[0m     \u001b[38;5;28;01mreturn\u001b[39;00m einsum(equation, \u001b[38;5;241m*\u001b[39m_operands)\n\u001b[1;32m    375\u001b[0m \u001b[38;5;28;01mif\u001b[39;00m \u001b[38;5;28mlen\u001b[39m(operands) \u001b[38;5;241m<\u001b[39m\u001b[38;5;241m=\u001b[39m \u001b[38;5;241m2\u001b[39m \u001b[38;5;129;01mor\u001b[39;00m \u001b[38;5;129;01mnot\u001b[39;00m opt_einsum\u001b[38;5;241m.\u001b[39menabled:\n\u001b[1;32m    376\u001b[0m     \u001b[38;5;66;03m# the path for contracting 0 or 1 time(s) is already optimized\u001b[39;00m\n\u001b[1;32m    377\u001b[0m     \u001b[38;5;66;03m# or the user has disabled using opt_einsum\u001b[39;00m\n\u001b[0;32m--> 378\u001b[0m     \u001b[38;5;28;01mreturn\u001b[39;00m \u001b[43m_VF\u001b[49m\u001b[38;5;241;43m.\u001b[39;49m\u001b[43meinsum\u001b[49m\u001b[43m(\u001b[49m\u001b[43mequation\u001b[49m\u001b[43m,\u001b[49m\u001b[43m \u001b[49m\u001b[43moperands\u001b[49m\u001b[43m)\u001b[49m  \u001b[38;5;66;03m# type: ignore[attr-defined]\u001b[39;00m\n\u001b[1;32m    380\u001b[0m path \u001b[38;5;241m=\u001b[39m \u001b[38;5;28;01mNone\u001b[39;00m\n\u001b[1;32m    381\u001b[0m \u001b[38;5;28;01mif\u001b[39;00m opt_einsum\u001b[38;5;241m.\u001b[39mis_available():\n",
      "\u001b[0;31mRuntimeError\u001b[0m: einsum(): subscript j has size 2 for operand 1 which does not broadcast with previously seen size 3"
     ]
    }
   ],
   "source": [
    "einsum('ij, ji -> i', a, b)"
   ]
  },
  {
   "cell_type": "markdown",
   "id": "f37c32fd-1f63-4d31-8b8f-5caf028162b1",
   "metadata": {},
   "source": [
    "For `A`\n",
    "- `i` represents the first dim of `A`\n",
    "- `j` represents the second dim of `A`\n",
    "\n",
    "For `B`\n",
    "- `j` represents the first dim of `B`\n",
    "- `i` represents the second dim of `B`\n",
    "\n",
    "**Notations**\n",
    "- `ij, ji` means: do the dot product between an element `A_ij` and an element `B_ji`\n",
    "- `ji` means: update the element `output_ji` of the output matrix"
   ]
  },
  {
   "cell_type": "markdown",
   "id": "9ad7fbe9-8b62-44f0-8a8b-98bd26dfd2da",
   "metadata": {},
   "source": [
    "##### Example 3"
   ]
  },
  {
   "cell_type": "code",
   "execution_count": 24,
   "id": "a55845cc-f38b-4eae-9afb-110d2bcac269",
   "metadata": {},
   "outputs": [],
   "source": [
    "a, b = torch.tensor([[1, 2], [3, 4]]), torch.tensor([[5, 6], [7, 8]])"
   ]
  },
  {
   "cell_type": "markdown",
   "id": "8c9dc21f-760f-43ab-a6e2-ef581dcabf90",
   "metadata": {},
   "source": [
    "$\\text { output }+=A_{i j} * B_{j i}$"
   ]
  },
  {
   "cell_type": "markdown",
   "id": "6b6650bf-38eb-4211-b689-98ef952a7f84",
   "metadata": {},
   "source": [
    "Do matrix multiplication between `a` and `b`"
   ]
  },
  {
   "cell_type": "markdown",
   "id": "7e8a6e90-5c66-4fd7-a782-2d412df30900",
   "metadata": {},
   "source": [
    "$\\begin{aligned}\n",
    "& \\text { initialize output as } 0 \\\\\n",
    "& \\text { for each } i: \\\\\n",
    "& \\quad \\text { for each } j: \\\\\n",
    "& \\quad \\text { output }+=\\boldsymbol{A}_{i j} * \\boldsymbol{B}_{j i}\n",
    "\\end{aligned}$"
   ]
  },
  {
   "cell_type": "code",
   "execution_count": 31,
   "id": "d6ec9fee-0a7f-4af0-ac87-48e27a10dbed",
   "metadata": {},
   "outputs": [
    {
     "data": {
      "text/plain": [
       "(tensor([[1, 2],\n",
       "         [3, 4]]),\n",
       " tensor([[5, 6],\n",
       "         [7, 8]]))"
      ]
     },
     "execution_count": 31,
     "metadata": {},
     "output_type": "execute_result"
    }
   ],
   "source": [
    "a, b"
   ]
  },
  {
   "cell_type": "code",
   "execution_count": 32,
   "id": "dd842405-a3aa-4f20-ab71-79e2ef182358",
   "metadata": {},
   "outputs": [
    {
     "data": {
      "text/plain": [
       "tensor([[ 5, 14],\n",
       "        [18, 32]])"
      ]
     },
     "execution_count": 32,
     "metadata": {},
     "output_type": "execute_result"
    }
   ],
   "source": [
    "einsum('ij,ji -> ij', a, b)"
   ]
  },
  {
   "cell_type": "code",
   "execution_count": 29,
   "id": "fc403c1f-1d8a-4361-9d0b-7acbc66dfc0d",
   "metadata": {},
   "outputs": [
    {
     "data": {
      "text/plain": [
       "tensor([[ 5, 18],\n",
       "        [14, 32]])"
      ]
     },
     "execution_count": 29,
     "metadata": {},
     "output_type": "execute_result"
    }
   ],
   "source": [
    "einsum('ij,ji -> ji', a, b)"
   ]
  },
  {
   "cell_type": "code",
   "execution_count": null,
   "id": "e240e29b-2548-443f-9f2a-5631e68c7744",
   "metadata": {},
   "outputs": [],
   "source": []
  }
 ],
 "metadata": {
  "kernelspec": {
   "display_name": "Python 3 (ipykernel)",
   "language": "python",
   "name": "python3"
  },
  "language_info": {
   "codemirror_mode": {
    "name": "ipython",
    "version": 3
   },
   "file_extension": ".py",
   "mimetype": "text/x-python",
   "name": "python",
   "nbconvert_exporter": "python",
   "pygments_lexer": "ipython3",
   "version": "3.8.15"
  }
 },
 "nbformat": 4,
 "nbformat_minor": 5
}
