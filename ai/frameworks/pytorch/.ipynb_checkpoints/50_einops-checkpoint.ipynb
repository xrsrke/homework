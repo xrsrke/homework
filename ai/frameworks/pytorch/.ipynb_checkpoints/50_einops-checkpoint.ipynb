{
 "cells": [
  {
   "cell_type": "code",
   "execution_count": 2,
   "id": "d4887173-7e81-4314-a9e3-e937063d2fd7",
   "metadata": {},
   "outputs": [],
   "source": [
    "import torch\n",
    "from einops import rearrange"
   ]
  },
  {
   "cell_type": "code",
   "execution_count": null,
   "id": "38836a47-c8f3-4b03-b513-d60451ddea23",
   "metadata": {},
   "outputs": [],
   "source": [
    "batch_size x n_heads x seq_len x d_model"
   ]
  },
  {
   "cell_type": "code",
   "execution_count": 3,
   "id": "faf069da-ccc7-41ef-bc9e-949ad5901103",
   "metadata": {},
   "outputs": [],
   "source": [
    "batch_size, n_heads, seq_len, d_model = 10, 2, 6, 10"
   ]
  },
  {
   "cell_type": "code",
   "execution_count": 5,
   "id": "6b57a176-80e9-45e2-9534-40b66792e6da",
   "metadata": {},
   "outputs": [],
   "source": [
    "attention_weights = torch.randn(batch_size, seq_len, d_model)"
   ]
  },
  {
   "cell_type": "markdown",
   "id": "506f8e8d-d5b3-4785-b26b-d77210ef3aa8",
   "metadata": {},
   "source": [
    "Do splits"
   ]
  },
  {
   "cell_type": "code",
   "execution_count": null,
   "id": "d24dfe38-bba9-47b8-b8c0-129b356b73b0",
   "metadata": {},
   "outputs": [],
   "source": [
    "rearrange(attention_weights, 'b')"
   ]
  },
  {
   "cell_type": "code",
   "execution_count": 6,
   "id": "1e22d799-db58-4c63-a88a-847c681d747e",
   "metadata": {},
   "outputs": [],
   "source": [
    "attention_weights = torch.randn(batch_size, n_heads, seq_len, d_model)"
   ]
  },
  {
   "cell_type": "code",
   "execution_count": 7,
   "id": "f338cef2-869f-42b4-8980-7f0ef45ee635",
   "metadata": {},
   "outputs": [
    {
     "ename": "ValueError",
     "evalue": "not enough values to unpack (expected 2, got 1)",
     "output_type": "error",
     "traceback": [
      "\u001b[0;31m---------------------------------------------------------------------------\u001b[0m",
      "\u001b[0;31mValueError\u001b[0m                                Traceback (most recent call last)",
      "Cell \u001b[0;32mIn[7], line 1\u001b[0m\n\u001b[0;32m----> 1\u001b[0m \u001b[43mrearrange\u001b[49m\u001b[43m(\u001b[49m\u001b[43mattention_weights\u001b[49m\u001b[43m,\u001b[49m\u001b[43m \u001b[49m\u001b[38;5;124;43m'\u001b[39;49m\u001b[38;5;124;43mbatch_size seq_len n_heads*d_model\u001b[39;49m\u001b[38;5;124;43m'\u001b[39;49m\u001b[43m)\u001b[49m\n",
      "File \u001b[0;32m~/miniforge3/envs/gym/lib/python3.8/site-packages/einops/einops.py:483\u001b[0m, in \u001b[0;36mrearrange\u001b[0;34m(tensor, pattern, **axes_lengths)\u001b[0m\n\u001b[1;32m    481\u001b[0m         \u001b[38;5;28;01mraise\u001b[39;00m \u001b[38;5;167;01mTypeError\u001b[39;00m(\u001b[38;5;124m\"\u001b[39m\u001b[38;5;124mRearrange can\u001b[39m\u001b[38;5;124m'\u001b[39m\u001b[38;5;124mt be applied to an empty list\u001b[39m\u001b[38;5;124m\"\u001b[39m)\n\u001b[1;32m    482\u001b[0m     tensor \u001b[38;5;241m=\u001b[39m get_backend(tensor[\u001b[38;5;241m0\u001b[39m])\u001b[38;5;241m.\u001b[39mstack_on_zeroth_dimension(tensor)\n\u001b[0;32m--> 483\u001b[0m \u001b[38;5;28;01mreturn\u001b[39;00m \u001b[43mreduce\u001b[49m\u001b[43m(\u001b[49m\u001b[43mcast\u001b[49m\u001b[43m(\u001b[49m\u001b[43mTensor\u001b[49m\u001b[43m,\u001b[49m\u001b[43m \u001b[49m\u001b[43mtensor\u001b[49m\u001b[43m)\u001b[49m\u001b[43m,\u001b[49m\u001b[43m \u001b[49m\u001b[43mpattern\u001b[49m\u001b[43m,\u001b[49m\u001b[43m \u001b[49m\u001b[43mreduction\u001b[49m\u001b[38;5;241;43m=\u001b[39;49m\u001b[38;5;124;43m'\u001b[39;49m\u001b[38;5;124;43mrearrange\u001b[39;49m\u001b[38;5;124;43m'\u001b[39;49m\u001b[43m,\u001b[49m\u001b[43m \u001b[49m\u001b[38;5;241;43m*\u001b[39;49m\u001b[38;5;241;43m*\u001b[39;49m\u001b[43maxes_lengths\u001b[49m\u001b[43m)\u001b[49m\n",
      "File \u001b[0;32m~/miniforge3/envs/gym/lib/python3.8/site-packages/einops/einops.py:411\u001b[0m, in \u001b[0;36mreduce\u001b[0;34m(tensor, pattern, reduction, **axes_lengths)\u001b[0m\n\u001b[1;32m    409\u001b[0m \u001b[38;5;28;01mtry\u001b[39;00m:\n\u001b[1;32m    410\u001b[0m     hashable_axes_lengths \u001b[38;5;241m=\u001b[39m \u001b[38;5;28mtuple\u001b[39m(\u001b[38;5;28msorted\u001b[39m(axes_lengths\u001b[38;5;241m.\u001b[39mitems()))\n\u001b[0;32m--> 411\u001b[0m     recipe \u001b[38;5;241m=\u001b[39m \u001b[43m_prepare_transformation_recipe\u001b[49m\u001b[43m(\u001b[49m\u001b[43mpattern\u001b[49m\u001b[43m,\u001b[49m\u001b[43m \u001b[49m\u001b[43mreduction\u001b[49m\u001b[43m,\u001b[49m\u001b[43m \u001b[49m\u001b[43maxes_lengths\u001b[49m\u001b[38;5;241;43m=\u001b[39;49m\u001b[43mhashable_axes_lengths\u001b[49m\u001b[43m)\u001b[49m\n\u001b[1;32m    412\u001b[0m     \u001b[38;5;28;01mreturn\u001b[39;00m _apply_recipe(recipe, tensor, reduction_type\u001b[38;5;241m=\u001b[39mreduction)\n\u001b[1;32m    413\u001b[0m \u001b[38;5;28;01mexcept\u001b[39;00m EinopsError \u001b[38;5;28;01mas\u001b[39;00m e:\n",
      "File \u001b[0;32m~/miniforge3/envs/gym/lib/python3.8/site-packages/einops/einops.py:251\u001b[0m, in \u001b[0;36m_prepare_transformation_recipe\u001b[0;34m(pattern, operation, axes_lengths)\u001b[0m\n\u001b[1;32m    244\u001b[0m \u001b[38;5;129m@functools\u001b[39m\u001b[38;5;241m.\u001b[39mlru_cache(\u001b[38;5;241m256\u001b[39m)\n\u001b[1;32m    245\u001b[0m \u001b[38;5;28;01mdef\u001b[39;00m \u001b[38;5;21m_prepare_transformation_recipe\u001b[39m(pattern: \u001b[38;5;28mstr\u001b[39m,\n\u001b[1;32m    246\u001b[0m                                    operation: Reduction,\n\u001b[1;32m    247\u001b[0m                                    axes_lengths: Tuple[Tuple, \u001b[38;5;241m.\u001b[39m\u001b[38;5;241m.\u001b[39m\u001b[38;5;241m.\u001b[39m]) \u001b[38;5;241m-\u001b[39m\u001b[38;5;241m>\u001b[39m TransformRecipe:\n\u001b[1;32m    248\u001b[0m     \u001b[38;5;124;03m\"\"\" Perform initial parsing of pattern and provided supplementary info\u001b[39;00m\n\u001b[1;32m    249\u001b[0m \u001b[38;5;124;03m    axes_lengths is a tuple of tuples (axis_name, axis_length)\u001b[39;00m\n\u001b[1;32m    250\u001b[0m \u001b[38;5;124;03m    \"\"\"\u001b[39;00m\n\u001b[0;32m--> 251\u001b[0m     left_str, rght_str \u001b[38;5;241m=\u001b[39m pattern\u001b[38;5;241m.\u001b[39msplit(\u001b[38;5;124m'\u001b[39m\u001b[38;5;124m->\u001b[39m\u001b[38;5;124m'\u001b[39m)\n\u001b[1;32m    252\u001b[0m     left \u001b[38;5;241m=\u001b[39m ParsedExpression(left_str)\n\u001b[1;32m    253\u001b[0m     rght \u001b[38;5;241m=\u001b[39m ParsedExpression(rght_str)\n",
      "\u001b[0;31mValueError\u001b[0m: not enough values to unpack (expected 2, got 1)"
     ]
    }
   ],
   "source": [
    "rearrange(attention_weights, 'batch_size seq_len n_heads*d_model')"
   ]
  },
  {
   "cell_type": "code",
   "execution_count": null,
   "id": "e1886b20-dc75-43b8-abf7-03fba43933f8",
   "metadata": {},
   "outputs": [],
   "source": []
  }
 ],
 "metadata": {
  "kernelspec": {
   "display_name": "Python 3 (ipykernel)",
   "language": "python",
   "name": "python3"
  },
  "language_info": {
   "codemirror_mode": {
    "name": "ipython",
    "version": 3
   },
   "file_extension": ".py",
   "mimetype": "text/x-python",
   "name": "python",
   "nbconvert_exporter": "python",
   "pygments_lexer": "ipython3",
   "version": "3.8.15"
  }
 },
 "nbformat": 4,
 "nbformat_minor": 5
}
