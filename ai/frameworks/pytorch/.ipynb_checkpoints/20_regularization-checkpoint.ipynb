{
 "cells": [
  {
   "cell_type": "markdown",
   "id": "09c3ab6c-f86d-40b5-97d1-ce9accc4d011",
   "metadata": {},
   "source": [
    "### Dropout"
   ]
  },
  {
   "cell_type": "code",
   "execution_count": null,
   "id": "9b1fa381-3962-4f48-ba7c-ae99a589eee5",
   "metadata": {},
   "outputs": [],
   "source": [
    "import torch\n",
    "import torch.nn.functional as F"
   ]
  },
  {
   "cell_type": "code",
   "execution_count": null,
   "id": "9938ce60-e40f-48dc-bb79-59aa729a74f8",
   "metadata": {},
   "outputs": [],
   "source": [
    "x = torch.ones(7)"
   ]
  },
  {
   "cell_type": "code",
   "execution_count": null,
   "id": "0901030b-a003-4d69-9541-1e3531a9ae30",
   "metadata": {},
   "outputs": [
    {
     "data": {
      "text/plain": [
       "tensor([1., 1., 1., 1., 1., 1., 1.])"
      ]
     },
     "execution_count": null,
     "metadata": {},
     "output_type": "execute_result"
    }
   ],
   "source": [
    "x"
   ]
  },
  {
   "cell_type": "code",
   "execution_count": null,
   "id": "25c216da-9d46-4fbb-8afb-e90e3431b349",
   "metadata": {},
   "outputs": [],
   "source": [
    "prob = 0.2"
   ]
  },
  {
   "cell_type": "code",
   "execution_count": null,
   "id": "450fc7b3-7f6b-4b68-a849-59e02f51b65a",
   "metadata": {},
   "outputs": [],
   "source": [
    "dropout = F.dropout(x, p=prob)"
   ]
  },
  {
   "cell_type": "code",
   "execution_count": null,
   "id": "815c6c95-33a2-4473-8cc0-0cd440b7a9df",
   "metadata": {},
   "outputs": [
    {
     "data": {
      "text/plain": [
       "tensor([1.2500, 1.2500, 0.0000, 1.2500, 1.2500, 0.0000, 1.2500])"
      ]
     },
     "execution_count": null,
     "metadata": {},
     "output_type": "execute_result"
    }
   ],
   "source": [
    "dropout"
   ]
  },
  {
   "cell_type": "code",
   "execution_count": null,
   "id": "0b9dfa06-eb34-47be-b9f5-f21bfde3e34d",
   "metadata": {},
   "outputs": [],
   "source": []
  }
 ],
 "metadata": {
  "kernelspec": {
   "display_name": "Python 3 (ipykernel)",
   "language": "python",
   "name": "python3"
  }
 },
 "nbformat": 4,
 "nbformat_minor": 5
}
