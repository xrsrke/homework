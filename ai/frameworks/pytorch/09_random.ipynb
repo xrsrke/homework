{
 "cells": [
  {
   "cell_type": "markdown",
   "id": "210039f0-49d3-41f7-9be9-8d2f4cf998d2",
   "metadata": {},
   "source": [
    "### 1. `randn`"
   ]
  },
  {
   "cell_type": "code",
   "execution_count": 1,
   "id": "fbe26449",
   "metadata": {},
   "outputs": [],
   "source": [
    "import torch"
   ]
  },
  {
   "cell_type": "markdown",
   "id": "f58e62fa",
   "metadata": {},
   "source": [
    "Create a tensor that follows a normal distribution with mean 0 and variance 1"
   ]
  },
  {
   "cell_type": "code",
   "execution_count": 2,
   "id": "d8aa9d62",
   "metadata": {},
   "outputs": [],
   "source": [
    "tensor = torch.randn(2, 3)"
   ]
  },
  {
   "cell_type": "code",
   "execution_count": 3,
   "id": "a9ff9d9d",
   "metadata": {},
   "outputs": [
    {
     "data": {
      "text/plain": [
       "tensor([[-0.8603,  0.3597,  0.3738],\n",
       "        [-0.5937,  1.4431,  0.5222]])"
      ]
     },
     "execution_count": 3,
     "metadata": {},
     "output_type": "execute_result"
    }
   ],
   "source": [
    "tensor"
   ]
  },
  {
   "cell_type": "markdown",
   "id": "d9360abc-67c7-4eed-bdb0-0c4df1c2c755",
   "metadata": {},
   "source": [
    "### 2. `randperm`"
   ]
  },
  {
   "cell_type": "code",
   "execution_count": 20,
   "id": "e789bf5f-730e-4133-806d-548a3cc5b119",
   "metadata": {},
   "outputs": [],
   "source": [
    "import torch"
   ]
  },
  {
   "cell_type": "markdown",
   "id": "8a6ecf4a-d5d6-43b1-ba17-70d81c4b7d7d",
   "metadata": {},
   "source": [
    "Create a random permutation from 0 to 6"
   ]
  },
  {
   "cell_type": "code",
   "execution_count": 21,
   "id": "1d367e87-7d54-4bca-abfc-9a4c16373b96",
   "metadata": {},
   "outputs": [],
   "source": [
    "idxs = torch.randperm(7)"
   ]
  },
  {
   "cell_type": "code",
   "execution_count": 22,
   "id": "307de730-01db-47c6-a5f7-a28fd03c6637",
   "metadata": {},
   "outputs": [
    {
     "data": {
      "text/plain": [
       "tensor([1, 3, 5, 6, 2, 0, 4])"
      ]
     },
     "execution_count": 22,
     "metadata": {},
     "output_type": "execute_result"
    }
   ],
   "source": [
    "idxs"
   ]
  },
  {
   "cell_type": "code",
   "execution_count": 23,
   "id": "ff2217bc-0290-4261-ad65-f28dd4c08c6d",
   "metadata": {},
   "outputs": [],
   "source": [
    "a = torch.tensor([1, 2, 3])"
   ]
  },
  {
   "cell_type": "code",
   "execution_count": 24,
   "id": "98e6c735-4cf9-4d28-87f8-760077282fd8",
   "metadata": {},
   "outputs": [],
   "source": [
    "b = torch.tensor([4, 5, 6])"
   ]
  },
  {
   "cell_type": "code",
   "execution_count": 29,
   "id": "4bba1c59-3837-44a0-8d32-9d4f54dac9be",
   "metadata": {},
   "outputs": [
    {
     "data": {
      "text/plain": [
       "tensor([[1, 2, 3]])"
      ]
     },
     "execution_count": 29,
     "metadata": {},
     "output_type": "execute_result"
    }
   ],
   "source": [
    "torch.stack((a,))"
   ]
  },
  {
   "cell_type": "code",
   "execution_count": null,
   "id": "9ab2f916-8fab-4960-85da-117739df5e24",
   "metadata": {},
   "outputs": [],
   "source": []
  }
 ],
 "metadata": {
  "kernelspec": {
   "display_name": "Python 3 (ipykernel)",
   "language": "python",
   "name": "python3"
  },
  "language_info": {
   "codemirror_mode": {
    "name": "ipython",
    "version": 3
   },
   "file_extension": ".py",
   "mimetype": "text/x-python",
   "name": "python",
   "nbconvert_exporter": "python",
   "pygments_lexer": "ipython3",
   "version": "3.9.13"
  }
 },
 "nbformat": 4,
 "nbformat_minor": 5
}
