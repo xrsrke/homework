{
 "cells": [
  {
   "cell_type": "code",
   "execution_count": null,
   "id": "890f7f98",
   "metadata": {},
   "outputs": [],
   "source": [
    "import torch"
   ]
  },
  {
   "cell_type": "code",
   "execution_count": null,
   "id": "f7ffe30f",
   "metadata": {},
   "outputs": [],
   "source": [
    "a = torch.arange(-2, 2)"
   ]
  },
  {
   "cell_type": "code",
   "execution_count": null,
   "id": "2ca72861",
   "metadata": {},
   "outputs": [
    {
     "data": {
      "text/plain": [
       "tensor([-2, -1,  0,  1])"
      ]
     },
     "execution_count": null,
     "metadata": {},
     "output_type": "execute_result"
    }
   ],
   "source": [
    "a"
   ]
  },
  {
   "cell_type": "markdown",
   "id": "61c36a19",
   "metadata": {},
   "source": [
    "Find the largest value in `a`"
   ]
  },
  {
   "cell_type": "code",
   "execution_count": null,
   "id": "706c3c5f",
   "metadata": {},
   "outputs": [
    {
     "data": {
      "text/plain": [
       "tensor(1)"
      ]
     },
     "execution_count": null,
     "metadata": {},
     "output_type": "execute_result"
    }
   ],
   "source": [
    "a.max()"
   ]
  },
  {
   "cell_type": "markdown",
   "id": "7d2414a2-8108-4dd0-934a-56f56e4ba409",
   "metadata": {},
   "source": [
    "### `torch.argmax()`"
   ]
  },
  {
   "cell_type": "code",
   "execution_count": null,
   "id": "54dd9977-070c-4194-8f2b-ef710cdfee2a",
   "metadata": {},
   "outputs": [],
   "source": [
    "a = torch.arange(1, 25)"
   ]
  },
  {
   "cell_type": "code",
   "execution_count": null,
   "id": "bb9aa87c-ad68-4463-b8d6-1a17260c5a3a",
   "metadata": {},
   "outputs": [],
   "source": [
    "a = a.reshape(2, 4, 3)"
   ]
  },
  {
   "cell_type": "code",
   "execution_count": null,
   "id": "243a26a8-6b51-43eb-b62a-0ba9ed9dc25c",
   "metadata": {},
   "outputs": [
    {
     "data": {
      "text/plain": [
       "tensor([[[ 1,  2,  3],\n",
       "         [ 4,  5,  6],\n",
       "         [ 7,  8,  9],\n",
       "         [10, 11, 12]],\n",
       "\n",
       "        [[13, 14, 15],\n",
       "         [16, 17, 18],\n",
       "         [19, 20, 21],\n",
       "         [22, 23, 24]]])"
      ]
     },
     "execution_count": null,
     "metadata": {},
     "output_type": "execute_result"
    }
   ],
   "source": [
    "a"
   ]
  },
  {
   "cell_type": "code",
   "execution_count": null,
   "id": "0cdf4c30-05e9-4a70-a67d-0e82990c9079",
   "metadata": {},
   "outputs": [
    {
     "data": {
      "text/plain": [
       "torch.Size([2, 4, 3])"
      ]
     },
     "execution_count": null,
     "metadata": {},
     "output_type": "execute_result"
    }
   ],
   "source": [
    "a.shape"
   ]
  },
  {
   "cell_type": "markdown",
   "id": "e31ca39f-a945-4fb6-9458-f93dea14c6f6",
   "metadata": {},
   "source": [
    "Explain how to compute it?"
   ]
  },
  {
   "cell_type": "code",
   "execution_count": null,
   "id": "a2df680e-3be2-4f4e-b7dd-5eaa82819996",
   "metadata": {},
   "outputs": [
    {
     "data": {
      "text/plain": [
       "tensor([[1, 1, 1],\n",
       "        [1, 1, 1],\n",
       "        [1, 1, 1],\n",
       "        [1, 1, 1]])"
      ]
     },
     "execution_count": null,
     "metadata": {},
     "output_type": "execute_result"
    }
   ],
   "source": [
    "torch.argmax(a, dim=0)"
   ]
  },
  {
   "cell_type": "code",
   "execution_count": null,
   "id": "ad115b30-4d95-4391-a930-cf2b3ba13fdf",
   "metadata": {},
   "outputs": [
    {
     "data": {
      "text/plain": [
       "tensor([[[ 1,  2,  3],\n",
       "         [ 4,  5,  6],\n",
       "         [ 7,  8,  9],\n",
       "         [10, 11, 12]],\n",
       "\n",
       "        [[13, 14, 15],\n",
       "         [16, 17, 18],\n",
       "         [19, 20, 21],\n",
       "         [22, 23, 24]]])"
      ]
     },
     "execution_count": null,
     "metadata": {},
     "output_type": "execute_result"
    }
   ],
   "source": [
    "a"
   ]
  },
  {
   "cell_type": "code",
   "execution_count": null,
   "id": "5aa00533-708a-415b-a270-99f9ac84c362",
   "metadata": {},
   "outputs": [
    {
     "data": {
      "text/plain": [
       "torch.Size([2, 4, 3])"
      ]
     },
     "execution_count": null,
     "metadata": {},
     "output_type": "execute_result"
    }
   ],
   "source": [
    "a.shape"
   ]
  },
  {
   "cell_type": "code",
   "execution_count": null,
   "id": "8dcdc9f2-46ca-4bdd-aa95-6a548a479483",
   "metadata": {},
   "outputs": [
    {
     "data": {
      "text/plain": [
       "tensor([[3, 3, 3],\n",
       "        [3, 3, 3]])"
      ]
     },
     "execution_count": null,
     "metadata": {},
     "output_type": "execute_result"
    }
   ],
   "source": [
    "torch.argmax(a, dim=1)"
   ]
  },
  {
   "cell_type": "code",
   "execution_count": null,
   "id": "3e431391-ac0e-4076-9f8d-84404c5767d5",
   "metadata": {},
   "outputs": [
    {
     "data": {
      "text/plain": [
       "tensor([[2, 2, 2, 2],\n",
       "        [2, 2, 2, 2]])"
      ]
     },
     "execution_count": null,
     "metadata": {},
     "output_type": "execute_result"
    }
   ],
   "source": [
    "torch.argmax(a, dim=2)"
   ]
  }
 ],
 "metadata": {
  "kernelspec": {
   "display_name": "Python 3 (ipykernel)",
   "language": "python",
   "name": "python3"
  }
 },
 "nbformat": 4,
 "nbformat_minor": 5
}
