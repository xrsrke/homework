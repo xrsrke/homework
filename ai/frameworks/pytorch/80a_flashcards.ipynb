{
 "cells": [
  {
   "cell_type": "code",
   "execution_count": null,
   "id": "8fc9d7f4-788d-49fb-95c2-35e4b9beaddf",
   "metadata": {},
   "outputs": [],
   "source": [
    "import torch.distributed.rpc as rpc"
   ]
  },
  {
   "cell_type": "markdown",
   "id": "a0a48e3a-7073-449d-960a-3abe79e6e64d",
   "metadata": {},
   "source": [
    "##### Example 1"
   ]
  },
  {
   "cell_type": "markdown",
   "id": "451d0f41-eaa4-4d43-a5f1-11b6c8bef803",
   "metadata": {},
   "source": [
    "Write a function that initialize RPC communication"
   ]
  },
  {
   "cell_type": "code",
   "execution_count": null,
   "id": "c6add873-5c01-4d60-9ba6-4fac05685527",
   "metadata": {},
   "outputs": [],
   "source": [
    "import torch.distributed.rpc as rpc"
   ]
  },
  {
   "cell_type": "code",
   "execution_count": null,
   "id": "a67f1f56-3e2a-404f-94ac-9b5de74921ee",
   "metadata": {},
   "outputs": [],
   "source": [
    "def init_communication(name, rank, world_size):\n",
    "    rpc.init_rpc(name, rank=rank, world_size=world_size)"
   ]
  },
  {
   "cell_type": "code",
   "execution_count": null,
   "id": "42990c5c-ac48-4fd7-8b1f-8ae352e52c8e",
   "metadata": {},
   "outputs": [],
   "source": [
    "init_communication(\n",
    "    name=\"worker_1\",\n",
    "    rank=1,\n",
    "    world_size=10\n",
    ")"
   ]
  },
  {
   "cell_type": "markdown",
   "id": "b5fbb651-bc91-4d73-9a19-3c7b4cce8b16",
   "metadata": {},
   "source": [
    "##### Example 2"
   ]
  },
  {
   "cell_type": "code",
   "execution_count": null,
   "id": "a212b387-0491-4a03-8ae3-d0d4a2e71ba5",
   "metadata": {},
   "outputs": [],
   "source": [
    "worker_name = \"worker_1\""
   ]
  },
  {
   "cell_type": "code",
   "execution_count": null,
   "id": "d60e61fe-60a4-4f73-a3cd-7caa4694e88b",
   "metadata": {},
   "outputs": [
    {
     "data": {
      "text/plain": [
       "'worker_1'"
      ]
     },
     "execution_count": null,
     "metadata": {},
     "output_type": "execute_result"
    }
   ],
   "source": [
    "worker_name"
   ]
  },
  {
   "cell_type": "markdown",
   "id": "09670e26-6f95-4b1d-b9dc-01cdeb0368b8",
   "metadata": {},
   "source": [
    "Get `worker_name`'s info"
   ]
  },
  {
   "cell_type": "code",
   "execution_count": null,
   "id": "db0d66b4-4ff0-4feb-b579-5b19fef2a329",
   "metadata": {},
   "outputs": [],
   "source": [
    "import torch.distributed.rpc as rpc"
   ]
  },
  {
   "cell_type": "code",
   "execution_count": null,
   "id": "ee548ec0-5cb0-418a-8a2f-e366a4f8be03",
   "metadata": {},
   "outputs": [],
   "source": [
    "rpc.get_worker_info(\"worker1\")"
   ]
  },
  {
   "cell_type": "markdown",
   "id": "eb2073f4-c1cc-4f84-b09a-9480d1e2ca3a",
   "metadata": {},
   "source": [
    "##### Example 3 "
   ]
  },
  {
   "cell_type": "code",
   "execution_count": null,
   "id": "487d10c3-f09d-4519-9bee-11f24241cb46",
   "metadata": {},
   "outputs": [],
   "source": [
    "def say_a_number(numer):\n",
    "    return number"
   ]
  },
  {
   "cell_type": "code",
   "execution_count": null,
   "id": "5a22c2b6-3778-4d0e-aea8-abe55f601655",
   "metadata": {},
   "outputs": [],
   "source": [
    "class WorkerInfo: pass"
   ]
  },
  {
   "cell_type": "code",
   "execution_count": null,
   "id": "f67f1b0c-2640-4faa-85a4-18fa25e626e3",
   "metadata": {},
   "outputs": [],
   "source": [
    "worker_info = WorkerInfo()"
   ]
  },
  {
   "cell_type": "code",
   "execution_count": null,
   "id": "bce446c9-45e0-4938-9d38-bce72a69c9d0",
   "metadata": {},
   "outputs": [
    {
     "data": {
      "text/plain": [
       "<__main__.WorkerInfo>"
      ]
     },
     "execution_count": null,
     "metadata": {},
     "output_type": "execute_result"
    }
   ],
   "source": [
    "worker_info"
   ]
  },
  {
   "cell_type": "markdown",
   "id": "38e2d7ed-7ae8-435a-a3ff-c9195b65f0f8",
   "metadata": {},
   "source": [
    "`worker_info` is the info of a work"
   ]
  },
  {
   "cell_type": "code",
   "execution_count": null,
   "id": "39c17fb8-3167-4369-a5cb-09ea4ce6d1a0",
   "metadata": {},
   "outputs": [],
   "source": [
    "import torch.distributed.rpc as rpc"
   ]
  },
  {
   "cell_type": "markdown",
   "id": "6a931a70-cb49-4dbd-aaf4-6ac6689444c2",
   "metadata": {},
   "source": [
    "Run the function `say_hello(1)` on the `worker_info`"
   ]
  },
  {
   "cell_type": "markdown",
   "id": "6eb77516-b5d6-4f2b-b812-da32db0c71ca",
   "metadata": {},
   "source": [
    "##### Example 4"
   ]
  },
  {
   "cell_type": "code",
   "execution_count": null,
   "id": "6d6ac4a6-7174-458f-87a8-b7b006a4d1ed",
   "metadata": {},
   "outputs": [],
   "source": [
    "a = torch.tensor(69)\n",
    "b = torch.tensor(420)"
   ]
  },
  {
   "cell_type": "code",
   "execution_count": null,
   "id": "01e73e71-013e-4e43-be2c-9c469848ad23",
   "metadata": {},
   "outputs": [],
   "source": [
    "import torch"
   ]
  },
  {
   "cell_type": "code",
   "execution_count": null,
   "id": "81bb795f-83ab-4928-95a0-96e50571cfaa",
   "metadata": {},
   "outputs": [
    {
     "data": {
      "text/plain": [
       "tensor(69)"
      ]
     },
     "execution_count": null,
     "metadata": {},
     "output_type": "execute_result"
    }
   ],
   "source": [
    "a"
   ]
  },
  {
   "cell_type": "code",
   "execution_count": null,
   "id": "231c81b8-d989-41dd-ad8f-5bac059d9f44",
   "metadata": {},
   "outputs": [
    {
     "data": {
      "text/plain": [
       "tensor(420)"
      ]
     },
     "execution_count": null,
     "metadata": {},
     "output_type": "execute_result"
    }
   ],
   "source": [
    "b"
   ]
  },
  {
   "cell_type": "code",
   "execution_count": null,
   "id": "40b1cbb6-7152-42bd-aeda-bccb56b23c06",
   "metadata": {},
   "outputs": [],
   "source": [
    "def add_tensors(a, b):\n",
    "    return a + b"
   ]
  },
  {
   "cell_type": "markdown",
   "id": "f28561ec-4100-453e-8f2a-3ca1bd7937b9",
   "metadata": {},
   "source": [
    "Script the `add_tensor` function using TorchScript"
   ]
  },
  {
   "cell_type": "code",
   "execution_count": null,
   "id": "95c5f804-850b-4dad-b471-d063eb70d6db",
   "metadata": {},
   "outputs": [],
   "source": [
    "scripted_add_tensors = torch.jit.script(add_tensors)"
   ]
  },
  {
   "cell_type": "code",
   "execution_count": null,
   "id": "1b0d44d2-277a-4a7e-8e70-3ad40a9f2a0d",
   "metadata": {},
   "outputs": [
    {
     "data": {
      "text/plain": [
       "tensor(489)"
      ]
     },
     "execution_count": null,
     "metadata": {},
     "output_type": "execute_result"
    }
   ],
   "source": [
    "scripted_add_tensors(a, b)"
   ]
  },
  {
   "cell_type": "markdown",
   "id": "d6dc4ae3-8878-4ddb-a7d4-d650bf96efa9",
   "metadata": {},
   "source": [
    "##### Example 5"
   ]
  },
  {
   "cell_type": "code",
   "execution_count": null,
   "id": "d69a0a1d-01ae-43a8-866b-35a4462e6447",
   "metadata": {},
   "outputs": [],
   "source": [
    "import torch\n",
    "from torch import nn\n",
    "import torch.distributed.rpc as rpc"
   ]
  },
  {
   "cell_type": "code",
   "execution_count": null,
   "id": "ea9ca2bd-8a05-47ae-9b77-ddb81933f888",
   "metadata": {},
   "outputs": [],
   "source": [
    "class Model(nn.Module):\n",
    "    def __init__(self):\n",
    "        super().__init__()\n",
    "        self.net = nn.Sequential(\n",
    "            nn.Linear(69, 420),\n",
    "            nn.ReLU(),\n",
    "            nn.Linear(420, 69),\n",
    "        )\n",
    "    \n",
    "    def param_rrefs(self):\n",
    "        return [rpc.RRef(p) for p in self.parameters()]"
   ]
  },
  {
   "cell_type": "markdown",
   "id": "553d2a98-a602-4b93-b62f-d6c481c5bc14",
   "metadata": {},
   "source": [
    "#### Send"
   ]
  },
  {
   "cell_type": "markdown",
   "id": "54d9f9cb-2587-48a3-9560-529aa7cff678",
   "metadata": {},
   "source": [
    "##### Example 1"
   ]
  },
  {
   "cell_type": "code",
   "execution_count": null,
   "id": "c175e2dc-6667-4712-aa55-96dfe8375a77",
   "metadata": {},
   "outputs": [],
   "source": [
    "def create_tensor():\n",
    "    return torch.tensor([1, 2, 3])"
   ]
  },
  {
   "cell_type": "markdown",
   "id": "e65690a6-3e82-4c62-90b7-0b7c9e34fdca",
   "metadata": {},
   "source": [
    "Execute function `create_tensor` on worker `worker_1`, and return the remote reference of the output"
   ]
  },
  {
   "cell_type": "code",
   "execution_count": null,
   "id": "1b8c0d5b-b51b-4baa-89b0-69b873080930",
   "metadata": {},
   "outputs": [],
   "source": [
    "import torch.distributed.rpc as rpc"
   ]
  },
  {
   "cell_type": "code",
   "execution_count": null,
   "id": "718b52f9-d5c1-4e6f-bd35-b127632585cf",
   "metadata": {},
   "outputs": [],
   "source": [
    "rref = rpc.remote(\"worker_1\", create_tensor)"
   ]
  },
  {
   "cell_type": "markdown",
   "id": "3bb4c7ad-429d-4f5d-8132-5bf3f90a8553",
   "metadata": {},
   "source": [
    "##### Example 2"
   ]
  },
  {
   "cell_type": "markdown",
   "id": "066d2299-6148-4413-9a88-be0fd654d333",
   "metadata": {},
   "source": [
    "`rref` is a remote reference of an object on worker `worker_1`"
   ]
  },
  {
   "cell_type": "markdown",
   "id": "49564b6f-8246-458e-b663-4b902089d892",
   "metadata": {},
   "source": [
    "Fetch the remote object's value to the current worker"
   ]
  },
  {
   "cell_type": "code",
   "execution_count": null,
   "id": "d11e3a10-3f0a-4d7e-9f1a-125bfaffcf68",
   "metadata": {},
   "outputs": [],
   "source": [
    "value = rref.to_here()"
   ]
  },
  {
   "cell_type": "markdown",
   "id": "be24ca39-8297-417d-9211-16ba831f35ca",
   "metadata": {},
   "source": [
    "##### Example 3"
   ]
  },
  {
   "cell_type": "code",
   "execution_count": null,
   "id": "cd9cc3ab-c145-4987-954b-37b421ace3f7",
   "metadata": {},
   "outputs": [],
   "source": []
  }
 ],
 "metadata": {
  "kernelspec": {
   "display_name": "Python 3 (ipykernel)",
   "language": "python",
   "name": "python3"
  }
 },
 "nbformat": 4,
 "nbformat_minor": 5
}
