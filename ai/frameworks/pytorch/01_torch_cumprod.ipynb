{
 "cells": [
  {
   "cell_type": "markdown",
   "id": "d8ad5aea-eff3-49f2-bbc7-00f53c2a81bf",
   "metadata": {},
   "source": [
    "### `torch.cumprod()`"
   ]
  },
  {
   "cell_type": "code",
   "execution_count": null,
   "id": "493bab93-c551-46ec-b064-2fc1e7ade145",
   "metadata": {},
   "outputs": [],
   "source": [
    "x = torch.tensor([1, 2, 3, 4, 5])"
   ]
  },
  {
   "cell_type": "code",
   "execution_count": null,
   "id": "739b519d-4499-4970-8f8d-e201671be581",
   "metadata": {},
   "outputs": [],
   "source": [
    "import torch"
   ]
  },
  {
   "cell_type": "code",
   "execution_count": null,
   "id": "ef0be551-b0c9-4fd9-8ce3-6b9e5f37f8be",
   "metadata": {},
   "outputs": [
    {
     "data": {
      "text/plain": [
       "tensor([1, 2, 3, 4, 5])"
      ]
     },
     "execution_count": null,
     "metadata": {},
     "output_type": "execute_result"
    }
   ],
   "source": [
    "x"
   ]
  },
  {
   "cell_type": "markdown",
   "id": "91d870e0-3b0a-4dbd-89fe-19af57a3c960",
   "metadata": {},
   "source": [
    "Write a function calculate cumulative product of tensor `x` using pytorch"
   ]
  },
  {
   "cell_type": "code",
   "execution_count": null,
   "id": "770c4778-d7e2-4ed3-b21b-c869fff70e5e",
   "metadata": {},
   "outputs": [],
   "source": [
    "def cumulative_product(x):\n",
    "    return torch.cumprod(x, dim=0)"
   ]
  },
  {
   "cell_type": "code",
   "execution_count": null,
   "id": "6e105d72-24c4-4a66-a43b-bc4a0a09ab42",
   "metadata": {},
   "outputs": [
    {
     "data": {
      "text/plain": [
       "tensor([  1,   2,   6,  24, 120])"
      ]
     },
     "execution_count": null,
     "metadata": {},
     "output_type": "execute_result"
    }
   ],
   "source": [
    "cumulative_product(x)"
   ]
  },
  {
   "cell_type": "markdown",
   "id": "2d91115f-818c-449d-b01b-625cf835e027",
   "metadata": {},
   "source": [
    "### `torch.split`"
   ]
  },
  {
   "cell_type": "code",
   "execution_count": null,
   "id": "a55939d6-f7a8-4f85-a157-3aae1cad0c0a",
   "metadata": {},
   "outputs": [],
   "source": [
    "import torch"
   ]
  },
  {
   "cell_type": "code",
   "execution_count": null,
   "id": "d5b93781-76fe-4f99-9b0f-58dab3b82546",
   "metadata": {},
   "outputs": [],
   "source": [
    "x = torch.tensor([\n",
    "    [1, 2, 3, 4],\n",
    "    [5, 6, 7, 8],\n",
    "    [9, 10, 11, 12],\n",
    "    [13, 14, 15, 16],\n",
    "    [17, 18, 19, 20],\n",
    "    [21, 22, 23, 24]\n",
    "])"
   ]
  },
  {
   "cell_type": "code",
   "execution_count": null,
   "id": "c7ca4603-5c0c-40fe-a94b-02e9e9a98df2",
   "metadata": {},
   "outputs": [],
   "source": [
    "import torch"
   ]
  },
  {
   "cell_type": "code",
   "execution_count": null,
   "id": "160ec4a5-f791-4bcc-b9e9-0cfb08ae11f2",
   "metadata": {},
   "outputs": [
    {
     "data": {
      "text/plain": [
       "torch.Size([6, 4])"
      ]
     },
     "execution_count": null,
     "metadata": {},
     "output_type": "execute_result"
    }
   ],
   "source": [
    "x.shape"
   ]
  },
  {
   "cell_type": "markdown",
   "id": "32d0721d-218a-408f-b8e5-ef4bbde9cb73",
   "metadata": {},
   "source": [
    "Split `x` into 4 chunks"
   ]
  },
  {
   "cell_type": "code",
   "execution_count": null,
   "id": "b0465a3c-68b8-4524-8cb3-1fbba64ea9b2",
   "metadata": {},
   "outputs": [],
   "source": [
    "xs = torch.chunk(x, chunks=4, dim=0)"
   ]
  },
  {
   "cell_type": "code",
   "execution_count": null,
   "id": "720bdb69-9ebd-473a-a110-f0c3b50220a7",
   "metadata": {},
   "outputs": [
    {
     "name": "stdout",
     "output_type": "stream",
     "text": [
      "torch.Size([2, 4])\n",
      "torch.Size([2, 4])\n",
      "torch.Size([2, 4])\n"
     ]
    }
   ],
   "source": [
    "for o in xs:\n",
    "    print(o.shape)"
   ]
  },
  {
   "cell_type": "markdown",
   "id": "79ab1237-991b-4cc9-91a7-2c05ff2a47e8",
   "metadata": {},
   "source": [
    "Split `x` into chunks, each chunk has 3 rows"
   ]
  },
  {
   "cell_type": "code",
   "execution_count": null,
   "id": "c0be83c7-ec2a-4103-a81e-71e82625ab9a",
   "metadata": {},
   "outputs": [],
   "source": [
    "xs = torch.split(x, split_size_or_sections=3, dim=0)"
   ]
  },
  {
   "cell_type": "code",
   "execution_count": null,
   "id": "262d7e37-c02e-4fbe-9f25-925d0a78367e",
   "metadata": {},
   "outputs": [
    {
     "name": "stdout",
     "output_type": "stream",
     "text": [
      "torch.Size([3, 4])\n",
      "torch.Size([3, 4])\n"
     ]
    }
   ],
   "source": [
    "for o in xs:\n",
    "    print(o.shape)"
   ]
  },
  {
   "cell_type": "markdown",
   "id": "5b712fce-b516-453a-88f8-a7104da9daef",
   "metadata": {},
   "source": [
    "Split `x` into chunks, the first chunk has `1` row, the second chunk has `3` rows, the last chunk has `2` rows"
   ]
  },
  {
   "cell_type": "code",
   "execution_count": null,
   "id": "c23ead93-9602-47b0-afbd-49a00523d5f4",
   "metadata": {},
   "outputs": [],
   "source": [
    "xs = torch.split(x, split_size_or_sections=[1, 3, 2], dim=0)"
   ]
  },
  {
   "cell_type": "code",
   "execution_count": null,
   "id": "a21699f6-6120-4205-be62-f17094dad0ce",
   "metadata": {},
   "outputs": [
    {
     "name": "stdout",
     "output_type": "stream",
     "text": [
      "torch.Size([1, 4])\n",
      "torch.Size([3, 4])\n",
      "torch.Size([2, 4])\n"
     ]
    }
   ],
   "source": [
    "for o in xs:\n",
    "    print(o.shape)"
   ]
  },
  {
   "cell_type": "code",
   "execution_count": null,
   "id": "722ed02a-02bb-4470-a62d-f2112661ba3c",
   "metadata": {},
   "outputs": [],
   "source": []
  }
 ],
 "metadata": {
  "kernelspec": {
   "display_name": "Python 3 (ipykernel)",
   "language": "python",
   "name": "python3"
  }
 },
 "nbformat": 4,
 "nbformat_minor": 5
}
