{
 "cells": [
  {
   "cell_type": "code",
   "execution_count": null,
   "id": "e4a92bc2-604b-433b-93bf-283c7ecb72f5",
   "metadata": {},
   "outputs": [],
   "source": [
    "import gym\n",
    "import torch.distributed.rpc as rpc"
   ]
  },
  {
   "cell_type": "code",
   "execution_count": null,
   "id": "1d62455c-7102-44cd-a53d-cedd1ffe0f81",
   "metadata": {},
   "outputs": [],
   "source": [
    "class Observer:\n",
    "    def __init__(self):\n",
    "        self.id = rpc.get_worker_info().id\n",
    "        self.env = gym.make(\"CartPole-v1\")\n",
    "    \n",
    "    def run_episode(self, agent_ref):\n",
    "        statep, ep_reward = self.env.reset(), 0\n",
    "        \n",
    "        for _ in range(1000):\n",
    "            action = agent_rref.rpc_sync().select_action(self.id, state)\n",
    "            \n",
    "            state, reward, done, _ = self.env.step(action)\n",
    "            \n",
    "            agent_rref.rpc_sync().report_reward(self.id, reward)\n",
    "            \n",
    "            if done: break"
   ]
  },
  {
   "cell_type": "code",
   "execution_count": null,
   "id": "5ebb5924-f7bc-4e53-a5b3-bbc81fc790a9",
   "metadata": {},
   "outputs": [],
   "source": []
  }
 ],
 "metadata": {
  "kernelspec": {
   "display_name": "Python 3 (ipykernel)",
   "language": "python",
   "name": "python3"
  }
 },
 "nbformat": 4,
 "nbformat_minor": 5
}
