{
 "cells": [
  {
   "cell_type": "code",
   "execution_count": null,
   "id": "b40f46ae-a617-4359-b1f0-b5d5c3e61e71",
   "metadata": {},
   "outputs": [],
   "source": [
    "import torch\n",
    "import torch.nn as nn"
   ]
  },
  {
   "cell_type": "markdown",
   "id": "903eff3e-1f9b-4f0c-93dc-4f1410d325cb",
   "metadata": {},
   "source": [
    "##### Example 1"
   ]
  },
  {
   "cell_type": "code",
   "execution_count": null,
   "id": "5895a33c-0565-4455-af90-c796260ab85f",
   "metadata": {},
   "outputs": [],
   "source": [
    "model = nn.Linear(10, 1)"
   ]
  },
  {
   "cell_type": "code",
   "execution_count": null,
   "id": "54c23c1d-b63b-4860-aa88-99c99937c744",
   "metadata": {},
   "outputs": [],
   "source": [
    "x = torch.randn(10, 10)\n",
    "y = torch.randn(10)"
   ]
  },
  {
   "cell_type": "code",
   "execution_count": null,
   "id": "d261c9ae-726b-465a-a76d-98b978127dc3",
   "metadata": {},
   "outputs": [
    {
     "name": "stderr",
     "output_type": "stream",
     "text": [
      "/Users/education/miniforge3/envs/gym/lib/python3.8/site-packages/torch/nn/modules/loss.py:536: UserWarning: Using a target size (torch.Size([10])) that is different to the input size (torch.Size([10, 1])). This will likely lead to incorrect results due to broadcasting. Please ensure they have the same size.\n",
      "  return F.mse_loss(input, target, reduction=self.reduction)\n"
     ]
    }
   ],
   "source": [
    "loss = nn.MSELoss()(model(x), y)\n",
    "loss.backward()"
   ]
  },
  {
   "cell_type": "code",
   "execution_count": null,
   "id": "0f079961-e051-4f29-a96a-4bd25013709b",
   "metadata": {},
   "outputs": [],
   "source": [
    "param_1 = next(iter(model.parameters()))"
   ]
  },
  {
   "cell_type": "code",
   "execution_count": null,
   "id": "498f9068-1667-4958-af5e-cc9a093b3379",
   "metadata": {},
   "outputs": [
    {
     "data": {
      "text/plain": [
       "torch.nn.parameter.Parameter"
      ]
     },
     "execution_count": null,
     "metadata": {},
     "output_type": "execute_result"
    }
   ],
   "source": [
    "type(param_1)"
   ]
  },
  {
   "cell_type": "code",
   "execution_count": null,
   "id": "959b3b3d-ad09-4f1f-a10c-8d9e680e65ef",
   "metadata": {},
   "outputs": [
    {
     "data": {
      "text/plain": [
       "tensor(1.4583)"
      ]
     },
     "execution_count": null,
     "metadata": {},
     "output_type": "execute_result"
    }
   ],
   "source": [
    "param_1.grad.norm()"
   ]
  },
  {
   "cell_type": "code",
   "execution_count": null,
   "id": "48c6028e-43e5-48d4-b213-159096701a5c",
   "metadata": {},
   "outputs": [],
   "source": [
    "GRAD_CLIP_NORM = 1.0"
   ]
  },
  {
   "cell_type": "markdown",
   "id": "3682e11f-35e1-493c-a4f8-5b26df55c05c",
   "metadata": {},
   "source": [
    "Clipping the norm of the parameter `param_1`'s gradient "
   ]
  },
  {
   "cell_type": "code",
   "execution_count": null,
   "id": "e9cd6995-0fb9-4001-84a3-eb0021dd3108",
   "metadata": {},
   "outputs": [],
   "source": [
    "from torch.nn.utils import clip_grad_norm_"
   ]
  },
  {
   "cell_type": "code",
   "execution_count": null,
   "id": "708f5ff3-ac25-4d9f-b8e2-6f0ae4fe672a",
   "metadata": {},
   "outputs": [
    {
     "data": {
      "text/plain": [
       "tensor(1.4583)"
      ]
     },
     "execution_count": null,
     "metadata": {},
     "output_type": "execute_result"
    }
   ],
   "source": [
    "clip_grad_norm_(param_1, max_norm=GRAD_CLIP_NORM)"
   ]
  },
  {
   "cell_type": "code",
   "execution_count": null,
   "id": "04765dca-f7ab-4572-a056-51304f874879",
   "metadata": {},
   "outputs": [
    {
     "data": {
      "text/plain": [
       "tensor(1.0000)"
      ]
     },
     "execution_count": null,
     "metadata": {},
     "output_type": "execute_result"
    }
   ],
   "source": [
    "param_1.grad.norm()"
   ]
  },
  {
   "cell_type": "markdown",
   "id": "266ffdf4-be43-4081-9141-6e155609362e",
   "metadata": {},
   "source": [
    "##### Example 2"
   ]
  },
  {
   "cell_type": "code",
   "execution_count": null,
   "id": "1c3deb23-a323-4946-beec-6c03d558b6d0",
   "metadata": {},
   "outputs": [],
   "source": [
    "optimizer = torch.optim.SGD(model.parameters(), lr=0.1)"
   ]
  },
  {
   "cell_type": "code",
   "execution_count": null,
   "id": "71569747-db83-45a7-8f60-fbf42ac71646",
   "metadata": {},
   "outputs": [],
   "source": [
    "pred = model(x)"
   ]
  },
  {
   "cell_type": "code",
   "execution_count": null,
   "id": "57bdff5b-dda5-4482-9c2c-50e353ecc281",
   "metadata": {},
   "outputs": [
    {
     "data": {
      "text/plain": [
       "torch.Tensor"
      ]
     },
     "execution_count": null,
     "metadata": {},
     "output_type": "execute_result"
    }
   ],
   "source": [
    "type(pred)"
   ]
  },
  {
   "cell_type": "markdown",
   "id": "4989b2a9-69b0-4c85-b90a-b4a2b2afa085",
   "metadata": {},
   "source": [
    "Where should you clip the glabel gradient norm of `model`? Explain"
   ]
  },
  {
   "cell_type": "markdown",
   "id": "d1d5fd19-7b7b-4cc8-b7e0-a3a71dba572b",
   "metadata": {},
   "source": [
    "**Answer:** Location 3\n",
    "\n",
    "Explain: You should clip the gradient norm of model after computing the gradients using the `loss.backward()` method, but before calling the `optimizer.step()` method to update the `model`'s parameters. Because it ensures that the gradients used to update the model's parameters are within the **MAX NORM**."
   ]
  },
  {
   "cell_type": "markdown",
   "id": "c9ddd331-841e-4f91-bbc4-f7fde91bc515",
   "metadata": {},
   "source": [
    "**[Location 1]**"
   ]
  },
  {
   "cell_type": "code",
   "execution_count": null,
   "id": "de35eeb4-1ec8-4edc-b891-89bdfb43d6b1",
   "metadata": {},
   "outputs": [],
   "source": [
    "loss = nn.MSELoss()(pred, y)"
   ]
  },
  {
   "cell_type": "markdown",
   "id": "d951a82d-1655-4aeb-9e43-2a8381446c4c",
   "metadata": {},
   "source": [
    "**[Location 2]**"
   ]
  },
  {
   "cell_type": "code",
   "execution_count": null,
   "id": "acc022ae-c53d-473a-ad36-926ada190107",
   "metadata": {},
   "outputs": [],
   "source": [
    "loss.backward()"
   ]
  },
  {
   "cell_type": "markdown",
   "id": "e1f9b301-1fce-437d-a87f-6f7199e5154e",
   "metadata": {},
   "source": [
    "**[Location 3]**"
   ]
  },
  {
   "cell_type": "code",
   "execution_count": null,
   "id": "bfee1341-56d5-4c96-82d6-22c94ba0e992",
   "metadata": {},
   "outputs": [],
   "source": [
    "optimizer.step()"
   ]
  },
  {
   "cell_type": "markdown",
   "id": "6ec3b903-b52e-4327-b646-e32b2f476c96",
   "metadata": {},
   "source": [
    "**[Location 4]**"
   ]
  },
  {
   "cell_type": "code",
   "execution_count": null,
   "id": "2a9c8a78-d673-438d-9d11-66634bda82e3",
   "metadata": {},
   "outputs": [],
   "source": []
  },
  {
   "cell_type": "code",
   "execution_count": null,
   "id": "8a4cfd30-6638-47e7-acb4-ae8646f3a490",
   "metadata": {},
   "outputs": [],
   "source": []
  }
 ],
 "metadata": {
  "kernelspec": {
   "display_name": "Python 3 (ipykernel)",
   "language": "python",
   "name": "python3"
  }
 },
 "nbformat": 4,
 "nbformat_minor": 5
}
