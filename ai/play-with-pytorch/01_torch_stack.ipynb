{
 "cells": [
  {
   "cell_type": "markdown",
   "id": "a553e28e-8e9b-4489-bbdd-05e73dc295e1",
   "metadata": {},
   "source": [
    "### `torch.stack()`"
   ]
  },
  {
   "cell_type": "code",
   "execution_count": 1,
   "id": "c60386c5-0c21-45ad-82a2-ff27beb3348f",
   "metadata": {},
   "outputs": [],
   "source": [
    "import torch"
   ]
  },
  {
   "cell_type": "code",
   "execution_count": 2,
   "id": "34b6c153-3616-4ece-82f6-b22c0524b0ee",
   "metadata": {},
   "outputs": [],
   "source": [
    "x1 = torch.arange(start=0, end=8, step=1)"
   ]
  },
  {
   "cell_type": "code",
   "execution_count": 3,
   "id": "47694f7c-ea4a-401d-8be4-51554b8e5e82",
   "metadata": {},
   "outputs": [],
   "source": [
    "x1 = torch.reshape(x1, (2, 4))"
   ]
  },
  {
   "cell_type": "markdown",
   "id": "69a1791d-61ae-4981-ad3c-dec80c337380",
   "metadata": {},
   "source": [
    "### stack `(3, 4)` and `(3, 4)`"
   ]
  },
  {
   "cell_type": "code",
   "execution_count": 4,
   "id": "6f15d4e6-5ea8-4705-b54d-5f65f233943e",
   "metadata": {},
   "outputs": [],
   "source": [
    "x2 = torch.arange(start=0, end=12, step=1)"
   ]
  },
  {
   "cell_type": "code",
   "execution_count": 5,
   "id": "7e031763-ef76-4b9d-acd0-29fa12359d13",
   "metadata": {},
   "outputs": [],
   "source": [
    "x2 = torch.reshape(x2, (4, 3))"
   ]
  },
  {
   "cell_type": "code",
   "execution_count": 6,
   "id": "12f9230c-9866-4094-bb12-248d71d4d26b",
   "metadata": {},
   "outputs": [],
   "source": [
    "y2 = torch.arange(start=13, end=25, step=1)"
   ]
  },
  {
   "cell_type": "code",
   "execution_count": 7,
   "id": "8fb28415-5d4f-48b2-bc4d-3a74bb8fc599",
   "metadata": {},
   "outputs": [],
   "source": [
    "y2 = torch.reshape(y2, (4, 3))"
   ]
  },
  {
   "cell_type": "code",
   "execution_count": 8,
   "id": "e89365f9-15a2-4d3d-b45c-0559baf0d674",
   "metadata": {},
   "outputs": [],
   "source": [
    "z2 = torch.arange(start=26, end=38, step=1)"
   ]
  },
  {
   "cell_type": "code",
   "execution_count": 9,
   "id": "8766f598-35de-4416-985b-8b94449e0155",
   "metadata": {},
   "outputs": [],
   "source": [
    "z2 = torch.reshape(z2, (4, 3))"
   ]
  },
  {
   "cell_type": "code",
   "execution_count": 10,
   "id": "167e6ebf-2f2e-4120-85d9-c448c9c3b87d",
   "metadata": {},
   "outputs": [
    {
     "data": {
      "text/plain": [
       "(torch.Size([4, 3]), 2)"
      ]
     },
     "execution_count": 10,
     "metadata": {},
     "output_type": "execute_result"
    }
   ],
   "source": [
    "x2.shape, x2.ndim"
   ]
  },
  {
   "cell_type": "code",
   "execution_count": 11,
   "id": "efa532b2-c34a-450c-b9ff-cccbf478b5e0",
   "metadata": {},
   "outputs": [
    {
     "data": {
      "text/plain": [
       "tensor([[13, 14, 15],\n",
       "        [16, 17, 18],\n",
       "        [19, 20, 21],\n",
       "        [22, 23, 24]])"
      ]
     },
     "execution_count": 11,
     "metadata": {},
     "output_type": "execute_result"
    }
   ],
   "source": [
    "y2"
   ]
  },
  {
   "cell_type": "code",
   "execution_count": 12,
   "id": "8e876620-a661-4760-9b47-8cf14ab9f13e",
   "metadata": {},
   "outputs": [
    {
     "data": {
      "text/plain": [
       "(torch.Size([4, 3]), 2)"
      ]
     },
     "execution_count": 12,
     "metadata": {},
     "output_type": "execute_result"
    }
   ],
   "source": [
    "y2.shape, y2.ndim"
   ]
  },
  {
   "cell_type": "code",
   "execution_count": 13,
   "id": "4aff2cf0-db9a-4e24-a8c4-52e20beb2123",
   "metadata": {},
   "outputs": [
    {
     "data": {
      "text/plain": [
       "(tensor([[ 0,  1,  2],\n",
       "         [ 3,  4,  5],\n",
       "         [ 6,  7,  8],\n",
       "         [ 9, 10, 11]]),\n",
       " tensor([[13, 14, 15],\n",
       "         [16, 17, 18],\n",
       "         [19, 20, 21],\n",
       "         [22, 23, 24]]))"
      ]
     },
     "execution_count": 13,
     "metadata": {},
     "output_type": "execute_result"
    }
   ],
   "source": [
    "(x2, y2)"
   ]
  },
  {
   "cell_type": "code",
   "execution_count": 14,
   "id": "6c743bd2-bcb2-40fa-8e74-36f32402e3fb",
   "metadata": {},
   "outputs": [
    {
     "data": {
      "text/plain": [
       "torch.Size([2, 4, 3])"
      ]
     },
     "execution_count": 14,
     "metadata": {},
     "output_type": "execute_result"
    }
   ],
   "source": [
    "r1 = torch.stack((x2, y2), dim=0); r1.shape"
   ]
  },
  {
   "cell_type": "code",
   "execution_count": 15,
   "id": "cccae374-b8ea-47d1-b90f-21cd9fddddff",
   "metadata": {},
   "outputs": [
    {
     "data": {
      "text/plain": [
       "tensor([[[ 0,  1,  2],\n",
       "         [ 3,  4,  5],\n",
       "         [ 6,  7,  8],\n",
       "         [ 9, 10, 11]],\n",
       "\n",
       "        [[13, 14, 15],\n",
       "         [16, 17, 18],\n",
       "         [19, 20, 21],\n",
       "         [22, 23, 24]]])"
      ]
     },
     "execution_count": 15,
     "metadata": {},
     "output_type": "execute_result"
    }
   ],
   "source": [
    "r1"
   ]
  },
  {
   "cell_type": "code",
   "execution_count": 204,
   "id": "d58608c5-8b9f-4cc9-a7ab-91796c562213",
   "metadata": {},
   "outputs": [
    {
     "data": {
      "text/plain": [
       "torch.Size([4, 2, 3])"
      ]
     },
     "execution_count": 204,
     "metadata": {},
     "output_type": "execute_result"
    }
   ],
   "source": [
    "r2 = torch.stack((x2, y2), dim=1); r2.shape"
   ]
  },
  {
   "cell_type": "code",
   "execution_count": 205,
   "id": "0b445e34-b81a-49d8-af3a-d75d674f1878",
   "metadata": {},
   "outputs": [
    {
     "data": {
      "text/plain": [
       "tensor([[[ 0,  1,  2],\n",
       "         [13, 14, 15]],\n",
       "\n",
       "        [[ 3,  4,  5],\n",
       "         [16, 17, 18]],\n",
       "\n",
       "        [[ 6,  7,  8],\n",
       "         [19, 20, 21]],\n",
       "\n",
       "        [[ 9, 10, 11],\n",
       "         [22, 23, 24]]])"
      ]
     },
     "execution_count": 205,
     "metadata": {},
     "output_type": "execute_result"
    }
   ],
   "source": [
    "r2"
   ]
  },
  {
   "cell_type": "code",
   "execution_count": 123,
   "id": "ed2ba6cb-0c5f-43be-bcaf-83d34ee94f0d",
   "metadata": {},
   "outputs": [
    {
     "data": {
      "text/plain": [
       "torch.Size([4, 3, 2])"
      ]
     },
     "execution_count": 123,
     "metadata": {},
     "output_type": "execute_result"
    }
   ],
   "source": [
    "r3 = torch.stack((x2, y2), dim=2); r3.shape"
   ]
  },
  {
   "cell_type": "code",
   "execution_count": 124,
   "id": "2dcbd649-a855-4ff2-8e1d-1a80f4261fc1",
   "metadata": {},
   "outputs": [
    {
     "data": {
      "text/plain": [
       "tensor([[[ 0, 13],\n",
       "         [ 1, 14],\n",
       "         [ 2, 15]],\n",
       "\n",
       "        [[ 3, 16],\n",
       "         [ 4, 17],\n",
       "         [ 5, 18]],\n",
       "\n",
       "        [[ 6, 19],\n",
       "         [ 7, 20],\n",
       "         [ 8, 21]],\n",
       "\n",
       "        [[ 9, 22],\n",
       "         [10, 23],\n",
       "         [11, 24]]])"
      ]
     },
     "execution_count": 124,
     "metadata": {},
     "output_type": "execute_result"
    }
   ],
   "source": [
    "r3"
   ]
  },
  {
   "cell_type": "code",
   "execution_count": 125,
   "id": "a4aa1a1c-bdf9-4161-83f5-cb36740f5a6d",
   "metadata": {},
   "outputs": [],
   "source": [
    "a = torch.cat((x, y))"
   ]
  },
  {
   "cell_type": "code",
   "execution_count": 126,
   "id": "e4295649-83e8-4595-8753-c54aedcf85f5",
   "metadata": {},
   "outputs": [
    {
     "data": {
      "text/plain": [
       "tensor([[ 0,  1,  2,  3],\n",
       "        [ 4,  5,  6,  7],\n",
       "        [ 8,  9, 10, 11],\n",
       "        [13, 14, 15, 16],\n",
       "        [17, 18, 19, 20],\n",
       "        [21, 22, 23, 24]])"
      ]
     },
     "execution_count": 126,
     "metadata": {},
     "output_type": "execute_result"
    }
   ],
   "source": [
    "a"
   ]
  },
  {
   "cell_type": "code",
   "execution_count": 127,
   "id": "065f5a65-80f4-4226-a136-aee296b885df",
   "metadata": {},
   "outputs": [
    {
     "data": {
      "text/plain": [
       "torch.Size([6, 4])"
      ]
     },
     "execution_count": 127,
     "metadata": {},
     "output_type": "execute_result"
    }
   ],
   "source": [
    "a.shape"
   ]
  },
  {
   "cell_type": "markdown",
   "id": "7ffe205e-0f2d-41af-b1cb-ad881b6a4f24",
   "metadata": {},
   "source": [
    "#### Flaschard"
   ]
  },
  {
   "cell_type": "markdown",
   "id": "89f14b4a-ce0e-470e-98d8-d946ee8fb388",
   "metadata": {},
   "source": [
    "#### Stack two tensors"
   ]
  },
  {
   "cell_type": "markdown",
   "id": "6d78f0f0-d3ec-46db-938f-1eb64a7e0dcc",
   "metadata": {},
   "source": [
    "##### Find the shape of stacked tensor"
   ]
  },
  {
   "cell_type": "code",
   "execution_count": 164,
   "id": "98a59b4e-1de6-4d7e-926a-17bc1b5d3e5d",
   "metadata": {},
   "outputs": [
    {
     "data": {
      "text/plain": [
       "(2, torch.Size([4, 3]))"
      ]
     },
     "execution_count": 164,
     "metadata": {},
     "output_type": "execute_result"
    }
   ],
   "source": [
    "x2.ndim, x2.shape"
   ]
  },
  {
   "cell_type": "code",
   "execution_count": 165,
   "id": "ae7859a4-39d0-4607-8912-911ab2768550",
   "metadata": {},
   "outputs": [
    {
     "data": {
      "text/plain": [
       "(2, torch.Size([4, 3]))"
      ]
     },
     "execution_count": 165,
     "metadata": {},
     "output_type": "execute_result"
    }
   ],
   "source": [
    "y2.ndim, x2.shape"
   ]
  },
  {
   "cell_type": "markdown",
   "id": "cc82e838-6b6f-4162-bca3-607e0b8c518e",
   "metadata": {},
   "source": [
    "Stack `x2` and `y2` along dimension `0`"
   ]
  },
  {
   "cell_type": "code",
   "execution_count": 166,
   "id": "748eff5a-52cc-44ea-8e86-c002e9fcf4ca",
   "metadata": {},
   "outputs": [],
   "source": [
    "r1 = torch.stack((x2, y2), dim=0)"
   ]
  },
  {
   "cell_type": "code",
   "execution_count": 167,
   "id": "3e505ccd-92f1-4f2f-852f-1710b70d06cf",
   "metadata": {},
   "outputs": [
    {
     "data": {
      "text/plain": [
       "torch.Size([2, 4, 3])"
      ]
     },
     "execution_count": 167,
     "metadata": {},
     "output_type": "execute_result"
    }
   ],
   "source": [
    "r1.shape"
   ]
  },
  {
   "cell_type": "markdown",
   "id": "1162ebd0-f371-4cd1-a054-9aa9fef68a44",
   "metadata": {},
   "source": [
    "#### Stack three tensors"
   ]
  },
  {
   "cell_type": "markdown",
   "id": "8a9608c3-c1e6-483f-97be-2cf619f722cf",
   "metadata": {},
   "source": [
    "##### Find the shape of stacked tensor"
   ]
  },
  {
   "cell_type": "markdown",
   "id": "b6ceb989-351a-4bb3-8bc7-a31b0f0781d1",
   "metadata": {},
   "source": [
    "Stack along dimension 0"
   ]
  },
  {
   "cell_type": "code",
   "execution_count": 168,
   "id": "cfc0a6ff-8da8-421e-8b8d-b1d37f9f0ec4",
   "metadata": {},
   "outputs": [
    {
     "data": {
      "text/plain": [
       "(2, torch.Size([4, 3]))"
      ]
     },
     "execution_count": 168,
     "metadata": {},
     "output_type": "execute_result"
    }
   ],
   "source": [
    "x2.ndim, x2.shape"
   ]
  },
  {
   "cell_type": "code",
   "execution_count": 169,
   "id": "cfc4472d-5927-4d59-a5c0-3fcf9aad2e71",
   "metadata": {},
   "outputs": [
    {
     "data": {
      "text/plain": [
       "(2, torch.Size([4, 3]))"
      ]
     },
     "execution_count": 169,
     "metadata": {},
     "output_type": "execute_result"
    }
   ],
   "source": [
    "y2.ndim, x2.shape"
   ]
  },
  {
   "cell_type": "code",
   "execution_count": 170,
   "id": "10874b87-3815-40c7-9bc7-6b777d70a9b8",
   "metadata": {},
   "outputs": [
    {
     "data": {
      "text/plain": [
       "(2, torch.Size([4, 3]))"
      ]
     },
     "execution_count": 170,
     "metadata": {},
     "output_type": "execute_result"
    }
   ],
   "source": [
    "z2.ndim, z2.shape"
   ]
  },
  {
   "cell_type": "code",
   "execution_count": 175,
   "id": "32aeeec4-eaa9-436d-8fd2-233cf4848568",
   "metadata": {},
   "outputs": [],
   "source": [
    "r1 = torch.stack((x2, y2, z2), dim=0)"
   ]
  },
  {
   "cell_type": "code",
   "execution_count": 179,
   "id": "e4ba2909-d6ea-4015-9597-58c3d224dd90",
   "metadata": {},
   "outputs": [
    {
     "data": {
      "text/plain": [
       "torch.Size([3, 4, 3])"
      ]
     },
     "execution_count": 179,
     "metadata": {},
     "output_type": "execute_result"
    }
   ],
   "source": [
    "r1.shape"
   ]
  },
  {
   "cell_type": "markdown",
   "id": "d4ba6d3e-dff1-41af-aae3-05df3b280c7f",
   "metadata": {},
   "source": [
    "Stack along dimension 1"
   ]
  },
  {
   "cell_type": "code",
   "execution_count": 187,
   "id": "ec13eed7-a3eb-4572-b694-e4ddd62ffcfd",
   "metadata": {},
   "outputs": [
    {
     "data": {
      "text/plain": [
       "(2, torch.Size([4, 3]))"
      ]
     },
     "execution_count": 187,
     "metadata": {},
     "output_type": "execute_result"
    }
   ],
   "source": [
    "x2.ndim, x2.shape"
   ]
  },
  {
   "cell_type": "code",
   "execution_count": 188,
   "id": "f36bd741-4cd3-4855-a3d3-205d5b9e0445",
   "metadata": {},
   "outputs": [
    {
     "data": {
      "text/plain": [
       "(2, torch.Size([4, 3]))"
      ]
     },
     "execution_count": 188,
     "metadata": {},
     "output_type": "execute_result"
    }
   ],
   "source": [
    "y2.ndim, x2.shape"
   ]
  },
  {
   "cell_type": "code",
   "execution_count": 189,
   "id": "6b3240ac-e0e1-45c8-a990-e93fd9437212",
   "metadata": {},
   "outputs": [
    {
     "data": {
      "text/plain": [
       "(2, torch.Size([4, 3]))"
      ]
     },
     "execution_count": 189,
     "metadata": {},
     "output_type": "execute_result"
    }
   ],
   "source": [
    "z2.ndim, z2.shape"
   ]
  },
  {
   "cell_type": "code",
   "execution_count": 190,
   "id": "21c3c564-0f0e-4f55-b57e-4285f57b4ed1",
   "metadata": {},
   "outputs": [],
   "source": [
    "r1 = torch.stack((x2, y2, z2), dim=1)"
   ]
  },
  {
   "cell_type": "code",
   "execution_count": 191,
   "id": "9b16b0ff-a5c4-4df0-aff0-87ce7eaa49b1",
   "metadata": {},
   "outputs": [
    {
     "data": {
      "text/plain": [
       "torch.Size([4, 3, 3])"
      ]
     },
     "execution_count": 191,
     "metadata": {},
     "output_type": "execute_result"
    }
   ],
   "source": [
    "r1.shape"
   ]
  },
  {
   "cell_type": "markdown",
   "id": "9f9df983-16dc-4658-81e8-5dd14dd2a55e",
   "metadata": {},
   "source": [
    "For dim = 1\n",
    "- It will take `a`, `b`, `c` three correspond elements from each tensor, and concencate them into r = [`a`, `b`, `c`].\n",
    "- Put r at dim = 1"
   ]
  },
  {
   "cell_type": "code",
   "execution_count": 27,
   "id": "76d9488e-8e67-4e25-a838-35d0af21f374",
   "metadata": {},
   "outputs": [
    {
     "data": {
      "text/plain": [
       "(torch.Size([4, 3]), torch.Size([4, 3]), torch.Size([4, 3]))"
      ]
     },
     "execution_count": 27,
     "metadata": {},
     "output_type": "execute_result"
    }
   ],
   "source": [
    "x2.shape, y2.shape, z2.shape"
   ]
  },
  {
   "cell_type": "code",
   "execution_count": 28,
   "id": "4e46d318",
   "metadata": {},
   "outputs": [
    {
     "data": {
      "text/plain": [
       "torch.Size([4, 3, 3])"
      ]
     },
     "execution_count": 28,
     "metadata": {},
     "output_type": "execute_result"
    }
   ],
   "source": [
    "stacked_3 = torch.stack((x2, y2, z2), dim=2); stacked_3.shape"
   ]
  },
  {
   "cell_type": "code",
   "execution_count": 29,
   "id": "464f5b3c",
   "metadata": {},
   "outputs": [
    {
     "data": {
      "text/plain": [
       "tensor([[[ 0, 13, 26],\n",
       "         [ 1, 14, 27],\n",
       "         [ 2, 15, 28]],\n",
       "\n",
       "        [[ 3, 16, 29],\n",
       "         [ 4, 17, 30],\n",
       "         [ 5, 18, 31]],\n",
       "\n",
       "        [[ 6, 19, 32],\n",
       "         [ 7, 20, 33],\n",
       "         [ 8, 21, 34]],\n",
       "\n",
       "        [[ 9, 22, 35],\n",
       "         [10, 23, 36],\n",
       "         [11, 24, 37]]])"
      ]
     },
     "execution_count": 29,
     "metadata": {},
     "output_type": "execute_result"
    }
   ],
   "source": [
    "stacked_3"
   ]
  },
  {
   "cell_type": "code",
   "execution_count": null,
   "id": "9f071f65",
   "metadata": {},
   "outputs": [],
   "source": []
  },
  {
   "cell_type": "code",
   "execution_count": null,
   "id": "c53809c2",
   "metadata": {},
   "outputs": [],
   "source": []
  }
 ],
 "metadata": {
  "kernelspec": {
   "display_name": "Python 3 (ipykernel)",
   "language": "python",
   "name": "python3"
  },
  "language_info": {
   "codemirror_mode": {
    "name": "ipython",
    "version": 3
   },
   "file_extension": ".py",
   "mimetype": "text/x-python",
   "name": "python",
   "nbconvert_exporter": "python",
   "pygments_lexer": "ipython3",
   "version": "3.9.12"
  }
 },
 "nbformat": 4,
 "nbformat_minor": 5
}
