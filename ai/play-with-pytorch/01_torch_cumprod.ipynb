{
 "cells": [
  {
   "cell_type": "markdown",
   "id": "d8ad5aea-eff3-49f2-bbc7-00f53c2a81bf",
   "metadata": {},
   "source": [
    "### `torch.cumprod()`"
   ]
  },
  {
   "cell_type": "code",
   "execution_count": null,
   "id": "493bab93-c551-46ec-b064-2fc1e7ade145",
   "metadata": {},
   "outputs": [],
   "source": [
    "x = torch.tensor([1, 2, 3, 4, 5])"
   ]
  },
  {
   "cell_type": "code",
   "execution_count": null,
   "id": "739b519d-4499-4970-8f8d-e201671be581",
   "metadata": {},
   "outputs": [],
   "source": [
    "import torch"
   ]
  },
  {
   "cell_type": "code",
   "execution_count": null,
   "id": "ef0be551-b0c9-4fd9-8ce3-6b9e5f37f8be",
   "metadata": {},
   "outputs": [
    {
     "data": {
      "text/plain": [
       "tensor([1, 2, 3, 4, 5])"
      ]
     },
     "execution_count": null,
     "metadata": {},
     "output_type": "execute_result"
    }
   ],
   "source": [
    "x"
   ]
  },
  {
   "cell_type": "markdown",
   "id": "91d870e0-3b0a-4dbd-89fe-19af57a3c960",
   "metadata": {},
   "source": [
    "Write a function calculate cumulative product of tensor `x` using pytorch"
   ]
  },
  {
   "cell_type": "code",
   "execution_count": null,
   "id": "770c4778-d7e2-4ed3-b21b-c869fff70e5e",
   "metadata": {},
   "outputs": [],
   "source": [
    "def cumulative_product(x):\n",
    "    return torch.cumprod(x, dim=0)"
   ]
  },
  {
   "cell_type": "code",
   "execution_count": null,
   "id": "6e105d72-24c4-4a66-a43b-bc4a0a09ab42",
   "metadata": {},
   "outputs": [
    {
     "data": {
      "text/plain": [
       "tensor([  1,   2,   6,  24, 120])"
      ]
     },
     "execution_count": null,
     "metadata": {},
     "output_type": "execute_result"
    }
   ],
   "source": [
    "cumulative_product(x)"
   ]
  },
  {
   "cell_type": "code",
   "execution_count": null,
   "id": "8615ca95-f1eb-4a45-a16c-4f78e983aa36",
   "metadata": {},
   "outputs": [],
   "source": []
  }
 ],
 "metadata": {
  "kernelspec": {
   "display_name": "Python 3 (ipykernel)",
   "language": "python",
   "name": "python3"
  },
  "language_info": {
   "codemirror_mode": {
    "name": "ipython",
    "version": 3
   },
   "file_extension": ".py",
   "mimetype": "text/x-python",
   "name": "python",
   "nbconvert_exporter": "python",
   "pygments_lexer": "ipython3",
   "version": "3.9.12"
  }
 },
 "nbformat": 4,
 "nbformat_minor": 5
}
