{
 "cells": [
  {
   "cell_type": "markdown",
   "id": "ade2fcac",
   "metadata": {},
   "source": [
    "### 1. Clone"
   ]
  },
  {
   "cell_type": "code",
   "execution_count": 1,
   "id": "15c50274",
   "metadata": {},
   "outputs": [],
   "source": [
    "import torch"
   ]
  },
  {
   "cell_type": "code",
   "execution_count": 2,
   "id": "730a32e8",
   "metadata": {},
   "outputs": [],
   "source": [
    "a = torch.arange(1, 6)"
   ]
  },
  {
   "cell_type": "code",
   "execution_count": 5,
   "id": "f2bb542d",
   "metadata": {},
   "outputs": [
    {
     "data": {
      "text/plain": [
       "tensor([1, 2, 3, 4, 5])"
      ]
     },
     "execution_count": 5,
     "metadata": {},
     "output_type": "execute_result"
    }
   ],
   "source": [
    "a"
   ]
  },
  {
   "cell_type": "markdown",
   "id": "6733c1f9",
   "metadata": {},
   "source": [
    "Create a tensor `b` that cloned from `a`"
   ]
  },
  {
   "cell_type": "code",
   "execution_count": 6,
   "id": "f0369ea0",
   "metadata": {},
   "outputs": [],
   "source": [
    "b = a.clone()"
   ]
  },
  {
   "cell_type": "markdown",
   "id": "4b1c5ce4",
   "metadata": {},
   "source": [
    "### 2. `.float()`"
   ]
  },
  {
   "cell_type": "code",
   "execution_count": 20,
   "id": "42eb9d75",
   "metadata": {},
   "outputs": [],
   "source": [
    "a = torch.arange(1, 6)"
   ]
  },
  {
   "cell_type": "code",
   "execution_count": 26,
   "id": "92e4e0c8",
   "metadata": {},
   "outputs": [
    {
     "data": {
      "text/plain": [
       "tensor([1, 2, 3, 4, 5])"
      ]
     },
     "execution_count": 26,
     "metadata": {},
     "output_type": "execute_result"
    }
   ],
   "source": [
    "a"
   ]
  },
  {
   "cell_type": "markdown",
   "id": "d0802ff8",
   "metadata": {},
   "source": [
    "Turn all elements of `a` to float and return it"
   ]
  },
  {
   "cell_type": "code",
   "execution_count": 27,
   "id": "e7e14687",
   "metadata": {},
   "outputs": [
    {
     "data": {
      "text/plain": [
       "tensor([1., 2., 3., 4., 5.])"
      ]
     },
     "execution_count": 27,
     "metadata": {},
     "output_type": "execute_result"
    }
   ],
   "source": [
    "a.float()"
   ]
  },
  {
   "cell_type": "code",
   "execution_count": 28,
   "id": "8d6e9b9d",
   "metadata": {},
   "outputs": [
    {
     "data": {
      "text/plain": [
       "torch.int64"
      ]
     },
     "execution_count": 28,
     "metadata": {},
     "output_type": "execute_result"
    }
   ],
   "source": [
    "a.dtype"
   ]
  },
  {
   "cell_type": "markdown",
   "id": "ad1f1fda",
   "metadata": {},
   "source": [
    "### 3. `.sum()`"
   ]
  },
  {
   "cell_type": "code",
   "execution_count": 67,
   "id": "06ea20db",
   "metadata": {},
   "outputs": [],
   "source": [
    "a = torch.arange(1, 7)"
   ]
  },
  {
   "cell_type": "code",
   "execution_count": 68,
   "id": "7de714ac",
   "metadata": {},
   "outputs": [],
   "source": [
    "a = a.reshape(2, 3)"
   ]
  },
  {
   "cell_type": "code",
   "execution_count": 69,
   "id": "da04c76f",
   "metadata": {},
   "outputs": [
    {
     "data": {
      "text/plain": [
       "torch.Size([2, 3])"
      ]
     },
     "execution_count": 69,
     "metadata": {},
     "output_type": "execute_result"
    }
   ],
   "source": [
    "a.shape"
   ]
  },
  {
   "cell_type": "code",
   "execution_count": 70,
   "id": "d4b680a0",
   "metadata": {},
   "outputs": [
    {
     "data": {
      "text/plain": [
       "tensor([[1, 2, 3],\n",
       "        [4, 5, 6]])"
      ]
     },
     "execution_count": 70,
     "metadata": {},
     "output_type": "execute_result"
    }
   ],
   "source": [
    "a"
   ]
  },
  {
   "cell_type": "markdown",
   "id": "23423d58",
   "metadata": {},
   "source": [
    "Compute the sum of `a` as bellow"
   ]
  },
  {
   "cell_type": "code",
   "execution_count": 71,
   "id": "4b8483cb",
   "metadata": {},
   "outputs": [
    {
     "data": {
      "text/plain": [
       "tensor([5, 7, 9])"
      ]
     },
     "execution_count": 71,
     "metadata": {},
     "output_type": "execute_result"
    }
   ],
   "source": [
    "a.sum(0)"
   ]
  },
  {
   "cell_type": "code",
   "execution_count": 72,
   "id": "3e039e24",
   "metadata": {},
   "outputs": [
    {
     "data": {
      "text/plain": [
       "tensor([ 6, 15])"
      ]
     },
     "execution_count": 72,
     "metadata": {},
     "output_type": "execute_result"
    }
   ],
   "source": [
    "a.sum(1)"
   ]
  },
  {
   "cell_type": "code",
   "execution_count": 73,
   "id": "4e21f011",
   "metadata": {},
   "outputs": [],
   "source": [
    "b = torch.arange(1, 25)"
   ]
  },
  {
   "cell_type": "code",
   "execution_count": 74,
   "id": "164ea4fc",
   "metadata": {},
   "outputs": [],
   "source": [
    "b = b.reshape(2, 3, 4)"
   ]
  },
  {
   "cell_type": "code",
   "execution_count": 75,
   "id": "0cbff04f",
   "metadata": {},
   "outputs": [
    {
     "data": {
      "text/plain": [
       "tensor([[[ 1,  2,  3,  4],\n",
       "         [ 5,  6,  7,  8],\n",
       "         [ 9, 10, 11, 12]],\n",
       "\n",
       "        [[13, 14, 15, 16],\n",
       "         [17, 18, 19, 20],\n",
       "         [21, 22, 23, 24]]])"
      ]
     },
     "execution_count": 75,
     "metadata": {},
     "output_type": "execute_result"
    }
   ],
   "source": [
    "b"
   ]
  },
  {
   "cell_type": "code",
   "execution_count": 76,
   "id": "43dd62d7",
   "metadata": {},
   "outputs": [
    {
     "data": {
      "text/plain": [
       "torch.Size([2, 3, 4])"
      ]
     },
     "execution_count": 76,
     "metadata": {},
     "output_type": "execute_result"
    }
   ],
   "source": [
    "b.shape"
   ]
  },
  {
   "cell_type": "markdown",
   "id": "32e3a659",
   "metadata": {},
   "source": [
    "What is the output? Explain why."
   ]
  },
  {
   "cell_type": "code",
   "execution_count": 77,
   "id": "cb6cf803",
   "metadata": {},
   "outputs": [
    {
     "data": {
      "text/plain": [
       "tensor([[14, 16, 18, 20],\n",
       "        [22, 24, 26, 28],\n",
       "        [30, 32, 34, 36]])"
      ]
     },
     "execution_count": 77,
     "metadata": {},
     "output_type": "execute_result"
    }
   ],
   "source": [
    "b.sum(0)"
   ]
  },
  {
   "cell_type": "code",
   "execution_count": 81,
   "id": "add47c56-24da-46b5-8d63-6a5c0c6336b9",
   "metadata": {},
   "outputs": [
    {
     "data": {
      "text/plain": [
       "tensor([[[ 1,  2,  3,  4],\n",
       "         [ 5,  6,  7,  8],\n",
       "         [ 9, 10, 11, 12]],\n",
       "\n",
       "        [[13, 14, 15, 16],\n",
       "         [17, 18, 19, 20],\n",
       "         [21, 22, 23, 24]]])"
      ]
     },
     "execution_count": 81,
     "metadata": {},
     "output_type": "execute_result"
    }
   ],
   "source": [
    "b"
   ]
  },
  {
   "cell_type": "code",
   "execution_count": 82,
   "id": "fc1f5fc7-78b1-4af7-bc11-66a2a2854993",
   "metadata": {},
   "outputs": [
    {
     "data": {
      "text/plain": [
       "torch.Size([2, 3, 4])"
      ]
     },
     "execution_count": 82,
     "metadata": {},
     "output_type": "execute_result"
    }
   ],
   "source": [
    "b.shape"
   ]
  },
  {
   "cell_type": "code",
   "execution_count": 80,
   "id": "d6bbdb7e-cc14-44fc-b609-c3e617eb38d3",
   "metadata": {},
   "outputs": [
    {
     "data": {
      "text/plain": [
       "tensor([[15, 18, 21, 24],\n",
       "        [51, 54, 57, 60]])"
      ]
     },
     "execution_count": 80,
     "metadata": {},
     "output_type": "execute_result"
    }
   ],
   "source": [
    "b.sum(1)"
   ]
  },
  {
   "cell_type": "code",
   "execution_count": 85,
   "id": "a5f6319b-cabb-42d7-b00a-b7df3700bcde",
   "metadata": {},
   "outputs": [
    {
     "data": {
      "text/plain": [
       "tensor([[[ 1,  2,  3,  4],\n",
       "         [ 5,  6,  7,  8],\n",
       "         [ 9, 10, 11, 12]],\n",
       "\n",
       "        [[13, 14, 15, 16],\n",
       "         [17, 18, 19, 20],\n",
       "         [21, 22, 23, 24]]])"
      ]
     },
     "execution_count": 85,
     "metadata": {},
     "output_type": "execute_result"
    }
   ],
   "source": [
    "b"
   ]
  },
  {
   "cell_type": "code",
   "execution_count": 86,
   "id": "2b225ef4-566c-4b38-af08-5bcb7a7dffbd",
   "metadata": {},
   "outputs": [
    {
     "data": {
      "text/plain": [
       "torch.Size([2, 3, 4])"
      ]
     },
     "execution_count": 86,
     "metadata": {},
     "output_type": "execute_result"
    }
   ],
   "source": [
    "b.shape"
   ]
  },
  {
   "cell_type": "code",
   "execution_count": 87,
   "id": "0ffcb983-4607-4052-b4e0-1d43aec8d15d",
   "metadata": {},
   "outputs": [
    {
     "data": {
      "text/plain": [
       "tensor([[10, 26, 42],\n",
       "        [58, 74, 90]])"
      ]
     },
     "execution_count": 87,
     "metadata": {},
     "output_type": "execute_result"
    }
   ],
   "source": [
    "b.sum(2)"
   ]
  }
 ],
 "metadata": {
  "kernelspec": {
   "display_name": "Python 3 (ipykernel)",
   "language": "python",
   "name": "python3"
  },
  "language_info": {
   "codemirror_mode": {
    "name": "ipython",
    "version": 3
   },
   "file_extension": ".py",
   "mimetype": "text/x-python",
   "name": "python",
   "nbconvert_exporter": "python",
   "pygments_lexer": "ipython3",
   "version": "3.9.13"
  }
 },
 "nbformat": 4,
 "nbformat_minor": 5
}
