{
 "cells": [
  {
   "cell_type": "code",
   "execution_count": 7,
   "id": "78b811db-f4e6-4eaa-8511-ef34ffba5f0a",
   "metadata": {},
   "outputs": [],
   "source": [
    "import torch\n",
    "from torch.nn.utils.rnn import pad_sequence"
   ]
  },
  {
   "cell_type": "code",
   "execution_count": 8,
   "id": "1cd0b277-9732-438d-ab7a-6d1bc81136fc",
   "metadata": {},
   "outputs": [],
   "source": [
    "# Create a batch of sequences\n",
    "batch = [torch.tensor([1, 2, 3]),\n",
    "         torch.tensor([4, 5]),\n",
    "         torch.tensor([6, 7, 8, 9])]"
   ]
  },
  {
   "cell_type": "markdown",
   "id": "a58623e9-df7d-4cfc-9fd3-f7e7c3e6503a",
   "metadata": {},
   "source": [
    "##### Example 1"
   ]
  },
  {
   "cell_type": "code",
   "execution_count": 18,
   "id": "d99585e0-b1ad-40b1-980c-f0d14f5a8fb1",
   "metadata": {},
   "outputs": [],
   "source": [
    "from torch.nn.utils.rnn import pad_sequence"
   ]
  },
  {
   "cell_type": "markdown",
   "id": "599a6929-8f2a-4a90-bea4-0a47c7338b27",
   "metadata": {},
   "source": [
    "Given a batch of tensors with non-equal length"
   ]
  },
  {
   "cell_type": "code",
   "execution_count": 19,
   "id": "b1f5287b-1d21-432c-ad37-b527cbbde0a7",
   "metadata": {},
   "outputs": [
    {
     "data": {
      "text/plain": [
       "[tensor([1, 2, 3]), tensor([4, 5]), tensor([6, 7, 8, 9])]"
      ]
     },
     "execution_count": 19,
     "metadata": {},
     "output_type": "execute_result"
    }
   ],
   "source": [
    "batch"
   ]
  },
  {
   "cell_type": "markdown",
   "id": "8ae1d952-585a-45bd-800d-bc266969295e",
   "metadata": {},
   "source": [
    "Pad the sequences so that they all have the same length"
   ]
  },
  {
   "cell_type": "markdown",
   "id": "29a88066-4705-40c3-8cca-bdbf83aa5ed3",
   "metadata": {},
   "source": [
    "**Hint**: set `batch_first` to `True` so that the batch dimension is the first dimension of the output tensor"
   ]
  },
  {
   "cell_type": "code",
   "execution_count": 20,
   "id": "a8513505-72cb-42be-a602-76c2b3afbc79",
   "metadata": {},
   "outputs": [],
   "source": [
    "padded_batch = pad_sequence(batch, batch_first=True, padding_value=0)"
   ]
  },
  {
   "cell_type": "code",
   "execution_count": 21,
   "id": "2955fa59-98ff-4367-8a53-b0e0aca0bd95",
   "metadata": {},
   "outputs": [
    {
     "data": {
      "text/plain": [
       "tensor([[1, 2, 3, 0],\n",
       "        [4, 5, 0, 0],\n",
       "        [6, 7, 8, 9]])"
      ]
     },
     "execution_count": 21,
     "metadata": {},
     "output_type": "execute_result"
    }
   ],
   "source": [
    "padded_batch"
   ]
  },
  {
   "cell_type": "code",
   "execution_count": null,
   "id": "1ee3db99-961f-4054-b5f3-3d029e6fb85b",
   "metadata": {},
   "outputs": [],
   "source": []
  }
 ],
 "metadata": {
  "kernelspec": {
   "display_name": "Python 3 (ipykernel)",
   "language": "python",
   "name": "python3"
  },
  "language_info": {
   "codemirror_mode": {
    "name": "ipython",
    "version": 3
   },
   "file_extension": ".py",
   "mimetype": "text/x-python",
   "name": "python",
   "nbconvert_exporter": "python",
   "pygments_lexer": "ipython3",
   "version": "3.8.15"
  }
 },
 "nbformat": 4,
 "nbformat_minor": 5
}
