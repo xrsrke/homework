{
 "cells": [
  {
   "cell_type": "markdown",
   "id": "4185c591-2c71-4a91-99cf-fcafb8aba619",
   "metadata": {},
   "source": [
    "### Linear Layer"
   ]
  },
  {
   "cell_type": "code",
   "execution_count": null,
   "id": "32cdd357-7237-4f0a-a6ec-29c39f712792",
   "metadata": {},
   "outputs": [],
   "source": [
    "import torch"
   ]
  },
  {
   "cell_type": "code",
   "execution_count": null,
   "id": "6bf9b856-ee89-459b-95f9-088566a26361",
   "metadata": {},
   "outputs": [],
   "source": [
    "inp = torch.arange(1, 13)"
   ]
  },
  {
   "cell_type": "code",
   "execution_count": null,
   "id": "b2dde758-f9fe-426e-8804-a71a9152bc71",
   "metadata": {},
   "outputs": [],
   "source": [
    "inp = inp.reshape(3, 4).float()"
   ]
  },
  {
   "cell_type": "code",
   "execution_count": null,
   "id": "c126a9e0-3a80-4cf7-b155-0b2f141cb41e",
   "metadata": {},
   "outputs": [
    {
     "data": {
      "text/plain": [
       "tensor([[ 1.,  2.,  3.,  4.],\n",
       "        [ 5.,  6.,  7.,  8.],\n",
       "        [ 9., 10., 11., 12.]])"
      ]
     },
     "execution_count": null,
     "metadata": {},
     "output_type": "execute_result"
    }
   ],
   "source": [
    "inp"
   ]
  },
  {
   "cell_type": "code",
   "execution_count": null,
   "id": "c11d6c6c-919b-40b8-8b38-a87ae2ab3960",
   "metadata": {},
   "outputs": [],
   "source": [
    "inp = torch.arange(4).float()"
   ]
  },
  {
   "cell_type": "code",
   "execution_count": null,
   "id": "45fb7fde-2409-44f9-8d8a-fae3f7a6caf2",
   "metadata": {},
   "outputs": [],
   "source": [
    "inp = input_.reshape(4, 1).float()"
   ]
  },
  {
   "cell_type": "code",
   "execution_count": null,
   "id": "a52cbc5b-7e1e-409e-87a8-0160bc0318da",
   "metadata": {},
   "outputs": [
    {
     "data": {
      "text/plain": [
       "tensor([[0.],\n",
       "        [1.],\n",
       "        [2.],\n",
       "        [3.]])"
      ]
     },
     "execution_count": null,
     "metadata": {},
     "output_type": "execute_result"
    }
   ],
   "source": [
    "inp"
   ]
  },
  {
   "cell_type": "markdown",
   "id": "ca9bb34d-e0a8-4428-9f99-078e3edbe919",
   "metadata": {},
   "source": [
    "`input_` is the input of the linear layer. Create `weight` for the forward pass of `input_`"
   ]
  },
  {
   "cell_type": "code",
   "execution_count": null,
   "id": "07159dd5-bd42-42a8-a415-74a690b2aadb",
   "metadata": {},
   "outputs": [],
   "source": [
    "def init_weight(in_features, out_features):\n",
    "    return torch.randn(in_features, out_features)"
   ]
  },
  {
   "cell_type": "code",
   "execution_count": null,
   "id": "f166e269-7d79-4ec6-bbd8-8695d6211994",
   "metadata": {},
   "outputs": [],
   "source": [
    "def init_bias(out_features):\n",
    "    return torch.randn(out_features)"
   ]
  },
  {
   "cell_type": "code",
   "execution_count": null,
   "id": "6d41ed7a-5007-4ba3-beb1-12ad7ad7171a",
   "metadata": {},
   "outputs": [],
   "source": [
    "class Linear:\n",
    "    def __init__(self, in_features, out_features):\n",
    "        self.w = init_weight(in_features, out_features)\n",
    "        self.b = init_bias(out_features)\n",
    "    \n",
    "    def forward(self, inp):\n",
    "        return inp @ self.w + self.b"
   ]
  },
  {
   "cell_type": "code",
   "execution_count": null,
   "id": "3cd8fd7a-57df-4e38-aad6-de21bf889cce",
   "metadata": {},
   "outputs": [],
   "source": [
    "linear = Linear(in_features=4, out_features=1)"
   ]
  },
  {
   "cell_type": "code",
   "execution_count": null,
   "id": "5f58c8b4-ce72-4169-a810-a06603d83008",
   "metadata": {},
   "outputs": [
    {
     "data": {
      "text/plain": [
       "{'w': tensor([[-0.2619],\n",
       "         [-1.1686],\n",
       "         [-1.4608],\n",
       "         [-0.4613]]),\n",
       " 'b': tensor([0.3933])}"
      ]
     },
     "execution_count": null,
     "metadata": {},
     "output_type": "execute_result"
    }
   ],
   "source": [
    "linear.__dict__"
   ]
  },
  {
   "cell_type": "code",
   "execution_count": null,
   "id": "dcff7498-7f3e-4733-9b81-540116fa25dd",
   "metadata": {},
   "outputs": [
    {
     "data": {
      "text/plain": [
       "torch.Size([4, 1])"
      ]
     },
     "execution_count": null,
     "metadata": {},
     "output_type": "execute_result"
    }
   ],
   "source": [
    "inp.shape"
   ]
  },
  {
   "cell_type": "code",
   "execution_count": null,
   "id": "74308250-b385-41b2-ba1d-f01a8c85927f",
   "metadata": {},
   "outputs": [
    {
     "data": {
      "text/plain": [
       "torch.Size([4, 1])"
      ]
     },
     "execution_count": null,
     "metadata": {},
     "output_type": "execute_result"
    }
   ],
   "source": [
    "linear.w.shape"
   ]
  },
  {
   "cell_type": "code",
   "execution_count": null,
   "id": "a9f2a356-94b0-401f-91df-f715e396250d",
   "metadata": {},
   "outputs": [
    {
     "ename": "RuntimeError",
     "evalue": "mat1 and mat2 shapes cannot be multiplied (4x1 and 4x1)",
     "output_type": "error",
     "traceback": [
      "\u001b[0;31m---------------------------------------------------------------------------\u001b[0m",
      "\u001b[0;31mRuntimeError\u001b[0m                              Traceback (most recent call last)",
      "Input \u001b[0;32mIn [65]\u001b[0m, in \u001b[0;36m<cell line: 1>\u001b[0;34m()\u001b[0m\n\u001b[0;32m----> 1\u001b[0m \u001b[43mlinear\u001b[49m\u001b[38;5;241;43m.\u001b[39;49m\u001b[43mforward\u001b[49m\u001b[43m(\u001b[49m\u001b[43minp\u001b[49m\u001b[43m)\u001b[49m\n",
      "Input \u001b[0;32mIn [54]\u001b[0m, in \u001b[0;36mLinear.forward\u001b[0;34m(self, inp)\u001b[0m\n\u001b[1;32m      6\u001b[0m \u001b[38;5;28;01mdef\u001b[39;00m \u001b[38;5;21mforward\u001b[39m(\u001b[38;5;28mself\u001b[39m, inp):\n\u001b[0;32m----> 7\u001b[0m     \u001b[38;5;28;01mreturn\u001b[39;00m \u001b[43minp\u001b[49m\u001b[43m \u001b[49m\u001b[38;5;241;43m@\u001b[39;49m\u001b[43m \u001b[49m\u001b[38;5;28;43mself\u001b[39;49m\u001b[38;5;241;43m.\u001b[39;49m\u001b[43mw\u001b[49m \u001b[38;5;241m+\u001b[39m \u001b[38;5;28mself\u001b[39m\u001b[38;5;241m.\u001b[39mb\n",
      "\u001b[0;31mRuntimeError\u001b[0m: mat1 and mat2 shapes cannot be multiplied (4x1 and 4x1)"
     ]
    }
   ],
   "source": [
    "linear.forward(inp)"
   ]
  },
  {
   "cell_type": "code",
   "execution_count": null,
   "id": "0bbad029-c66f-4adb-b345-3c35427f72d0",
   "metadata": {},
   "outputs": [],
   "source": []
  }
 ],
 "metadata": {
  "kernelspec": {
   "display_name": "Python 3 (ipykernel)",
   "language": "python",
   "name": "python3"
  }
 },
 "nbformat": 4,
 "nbformat_minor": 5
}
