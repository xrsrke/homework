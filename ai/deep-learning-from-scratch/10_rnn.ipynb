{
 "cells": [
  {
   "cell_type": "markdown",
   "id": "6ea9c77b-f9f5-44c9-ac46-4af4f582bc5d",
   "metadata": {},
   "source": [
    "#### RNN"
   ]
  },
  {
   "cell_type": "code",
   "execution_count": null,
   "id": "3c8f37c9-19c8-477a-83d9-d35bf10f0b29",
   "metadata": {},
   "outputs": [],
   "source": [
    "import torch"
   ]
  },
  {
   "cell_type": "code",
   "execution_count": null,
   "id": "555a1a2a-4e26-4d29-b56d-4bc38a07ec10",
   "metadata": {},
   "outputs": [],
   "source": [
    "import torch.nn as nn"
   ]
  },
  {
   "cell_type": "code",
   "execution_count": null,
   "id": "1930aecd-a16e-46b9-b97f-a81541316bee",
   "metadata": {},
   "outputs": [],
   "source": [
    "embedding_matrix = nn.Embedding(3, 2)"
   ]
  },
  {
   "cell_type": "code",
   "execution_count": null,
   "id": "07726cbb-55b2-4265-b185-9d5a08131f20",
   "metadata": {},
   "outputs": [
    {
     "data": {
      "text/plain": [
       "OrderedDict([('weight',\n",
       "              Parameter containing:\n",
       "              tensor([[ 0.6414, -0.3856],\n",
       "                      [-0.2088, -0.1834],\n",
       "                      [-0.8739, -0.6629]], requires_grad=True))])"
      ]
     },
     "execution_count": null,
     "metadata": {},
     "output_type": "execute_result"
    }
   ],
   "source": [
    "embedding_matrix._parameters"
   ]
  },
  {
   "cell_type": "markdown",
   "id": "41289f3a-992d-4387-90fb-1250d66f5ac5",
   "metadata": {},
   "source": [
    "Write a `embedding_matrix` equivalent to `torch.nn.Embedding`"
   ]
  },
  {
   "cell_type": "code",
   "execution_count": null,
   "id": "c2113186-53a9-4667-b722-c309c28fa3af",
   "metadata": {},
   "outputs": [],
   "source": [
    "def embedding_matrix(n_element, n_latent_factors):\n",
    "    return torch.randn(n_element, n_latent_factors)"
   ]
  },
  {
   "cell_type": "code",
   "execution_count": null,
   "id": "6b9324bd-986d-4ca3-b85a-561ec446f1a0",
   "metadata": {},
   "outputs": [
    {
     "data": {
      "text/plain": [
       "tensor([[ 1.3978, -1.4555],\n",
       "        [ 0.4007,  0.7626],\n",
       "        [ 0.4648,  0.7645]])"
      ]
     },
     "execution_count": null,
     "metadata": {},
     "output_type": "execute_result"
    }
   ],
   "source": [
    "embedding_matrix(3, 2)"
   ]
  },
  {
   "cell_type": "code",
   "execution_count": null,
   "id": "2fa35957-970b-492c-b653-02e40c651c32",
   "metadata": {},
   "outputs": [],
   "source": [
    "linear = nn.Linear(4, 3)"
   ]
  },
  {
   "cell_type": "code",
   "execution_count": null,
   "id": "8d22ff37-0bf0-48e2-b832-c57bb50d93a2",
   "metadata": {},
   "outputs": [],
   "source": [
    "input_ = torch.arange(1, 13)"
   ]
  },
  {
   "cell_type": "code",
   "execution_count": null,
   "id": "326d7c6e-a155-4764-b238-a295362d58be",
   "metadata": {},
   "outputs": [],
   "source": [
    "input_ = input_.reshape(3, 4).float()"
   ]
  },
  {
   "cell_type": "code",
   "execution_count": null,
   "id": "b3af8f72-6c4b-4dd8-8559-2c2306c37b8e",
   "metadata": {},
   "outputs": [
    {
     "data": {
      "text/plain": [
       "tensor([[ 1.,  2.,  3.,  4.],\n",
       "        [ 5.,  6.,  7.,  8.],\n",
       "        [ 9., 10., 11., 12.]])"
      ]
     },
     "execution_count": null,
     "metadata": {},
     "output_type": "execute_result"
    }
   ],
   "source": [
    "input_"
   ]
  },
  {
   "cell_type": "code",
   "execution_count": null,
   "id": "57848091-d465-4973-9c42-1483454d353a",
   "metadata": {},
   "outputs": [
    {
     "data": {
      "text/plain": [
       "tensor([[ 0.8945, -0.7074,  0.0330],\n",
       "        [ 2.3729, -2.3590, -0.6585],\n",
       "        [ 3.8514, -4.0106, -1.3500]], grad_fn=<AddmmBackward0>)"
      ]
     },
     "execution_count": null,
     "metadata": {},
     "output_type": "execute_result"
    }
   ],
   "source": [
    "linear(input_)"
   ]
  },
  {
   "cell_type": "code",
   "execution_count": null,
   "id": "85b1e294-7d69-4adb-a511-34e120e14bd0",
   "metadata": {},
   "outputs": [],
   "source": [
    "class Linear:\n",
    "    def __init__(self, in_features, out_features):\n",
    "        self.in_features = in_features\n",
    "        self.out_features = out_features\n",
    "        self.w = torch.randn(n)\n",
    "        pass"
   ]
  },
  {
   "cell_type": "code",
   "execution_count": null,
   "id": "8e2b3eeb-2e35-4b22-9ddc-b98e118a54a7",
   "metadata": {},
   "outputs": [],
   "source": []
  }
 ],
 "metadata": {
  "kernelspec": {
   "display_name": "Python 3 (ipykernel)",
   "language": "python",
   "name": "python3"
  }
 },
 "nbformat": 4,
 "nbformat_minor": 5
}
