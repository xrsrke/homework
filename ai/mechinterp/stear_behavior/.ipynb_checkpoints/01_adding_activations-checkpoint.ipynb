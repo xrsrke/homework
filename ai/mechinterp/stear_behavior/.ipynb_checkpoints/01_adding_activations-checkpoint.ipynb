{
 "cells": [
  {
   "cell_type": "code",
   "execution_count": 1,
   "id": "93c53e07-0c9f-4d28-aba0-6e7491da7486",
   "metadata": {
    "tags": []
   },
   "outputs": [
    {
     "data": {
      "text/plain": [
       "<torch.autograd.grad_mode.set_grad_enabled at 0x7face0b11f70>"
      ]
     },
     "execution_count": 1,
     "metadata": {},
     "output_type": "execute_result"
    }
   ],
   "source": [
    "import torch\n",
    "\n",
    "from transformer_lens import HookedTransformer\n",
    "from transformer_lens.utils import get_act_name\n",
    "\n",
    "torch.set_grad_enabled(False) "
   ]
  },
  {
   "cell_type": "code",
   "execution_count": 2,
   "id": "d93bba15-df12-4eae-9adf-934b4cd821ac",
   "metadata": {
    "tags": []
   },
   "outputs": [
    {
     "name": "stderr",
     "output_type": "stream",
     "text": [
      "Using pad_token, but it is not set yet.\n"
     ]
    },
    {
     "name": "stdout",
     "output_type": "stream",
     "text": [
      "Loaded pretrained model gpt2 into HookedTransformer\n"
     ]
    }
   ],
   "source": [
    "model = HookedTransformer.from_pretrained(\"gpt2\")"
   ]
  },
  {
   "cell_type": "code",
   "execution_count": 6,
   "id": "9de3b055-f8ce-44b4-bf51-b2f8e5ba7c24",
   "metadata": {
    "tags": []
   },
   "outputs": [],
   "source": [
    "prompt = \"I want to kill you because you're such a\""
   ]
  },
  {
   "cell_type": "code",
   "execution_count": 8,
   "id": "dcd0ba80-3774-4f0d-b6b0-f9cb7d9c6fc9",
   "metadata": {
    "tags": []
   },
   "outputs": [],
   "source": [
    "steer_positive_prompt = \" Bread\"\n",
    "steer_negative_prompt = \" \""
   ]
  },
  {
   "cell_type": "code",
   "execution_count": 9,
   "id": "8b9f5b3a-7fdc-4806-9d9f-91e9d69c6396",
   "metadata": {},
   "outputs": [],
   "source": [
    "tokens = model.to_tokens(prompt)\n",
    "steer_positive_tokens = model.to_tokens(steer_positive_prompt)\n",
    "steer_negative_tokens = model.to_tokens(steer_negative_prompt)"
   ]
  },
  {
   "cell_type": "code",
   "execution_count": 10,
   "id": "5a3cc5b1-085c-4959-b79e-5ba886d01718",
   "metadata": {
    "tags": []
   },
   "outputs": [
    {
     "data": {
      "text/plain": [
       "tensor([[50256, 28731]])"
      ]
     },
     "execution_count": 10,
     "metadata": {},
     "output_type": "execute_result"
    }
   ],
   "source": [
    "steer_positive_tokens"
   ]
  },
  {
   "cell_type": "code",
   "execution_count": 11,
   "id": "7667ea7a-2354-4a06-95e6-1c9c899f2278",
   "metadata": {
    "tags": []
   },
   "outputs": [
    {
     "data": {
      "text/plain": [
       "tensor([[50256,   220]])"
      ]
     },
     "execution_count": 11,
     "metadata": {},
     "output_type": "execute_result"
    }
   ],
   "source": [
    "steer_negative_tokens"
   ]
  },
  {
   "cell_type": "code",
   "execution_count": 29,
   "id": "24562aa9-5596-4e97-b673-ce360b8f2870",
   "metadata": {
    "tags": []
   },
   "outputs": [],
   "source": [
    "# hook_name = get_act_name(\"attn\", 6)\n",
    "hook_name = \"blocks.6.hook_resid_pre\""
   ]
  },
  {
   "cell_type": "code",
   "execution_count": 30,
   "id": "cf7aa297-934d-4586-9799-58f6b706ced2",
   "metadata": {
    "tags": []
   },
   "outputs": [],
   "source": [
    "_, steer_positive_activations = model.run_with_cache(steer_positive_tokens)"
   ]
  },
  {
   "cell_type": "code",
   "execution_count": 31,
   "id": "2f3cb8a8-f900-4e51-bcd4-4d5d7a3b9793",
   "metadata": {
    "tags": []
   },
   "outputs": [],
   "source": [
    "target_positive_activations = steer_positive_activations[hook_name]"
   ]
  },
  {
   "cell_type": "code",
   "execution_count": 32,
   "id": "cc1f6480-d6f4-4d59-bc6a-ddee3a8f37c5",
   "metadata": {
    "tags": []
   },
   "outputs": [
    {
     "data": {
      "text/plain": [
       "torch.Size([1, 2, 768])"
      ]
     },
     "execution_count": 32,
     "metadata": {},
     "output_type": "execute_result"
    }
   ],
   "source": [
    "target_positive_activations.shape"
   ]
  },
  {
   "cell_type": "code",
   "execution_count": 34,
   "id": "4a307173-4823-4180-8f97-3e6c6ddd868b",
   "metadata": {
    "tags": []
   },
   "outputs": [],
   "source": [
    "def add_resid_pre_activations(activations, hook):\n",
    "    # n_tokens = target_positive_activations.shape[1]\n",
    "    # set_trace()\n",
    "    activations[:, :2, :] += target_positive_activations * 15\n",
    "    return activations"
   ]
  },
  {
   "cell_type": "code",
   "execution_count": 35,
   "id": "d594f4f9-5e0b-4fd1-bdae-2845e3bf559e",
   "metadata": {
    "tags": []
   },
   "outputs": [],
   "source": [
    "# def add_activations(activations, hook):\n",
    "#     n_tokens = target_positive_activations[1]\n",
    "#     activations[:, :n_tokens, :] = target_positive_activations\n",
    "#     return activations\n",
    "#     # for attn\n",
    "#     # n_tokens = target_activations.shape[-1]\n",
    "#     # activations[:, :, :n_tokens, :n_tokens] += target_activations * 10\n",
    "    \n",
    "# #     n_tokens = target_activations.shape[1]\n",
    "# #     activations[:, :n_tokens, :] += target_activations\n",
    "    \n",
    "#     # set_trace()\n",
    "#     # return activations"
   ]
  },
  {
   "cell_type": "code",
   "execution_count": 36,
   "id": "8f433995-5cc7-46b5-b4ea-91d73d0cb3b9",
   "metadata": {
    "tags": []
   },
   "outputs": [],
   "source": [
    "import torch\n",
    "import torch.nn.functional as F\n",
    "from einops import rearrange\n",
    "\n",
    "from transformer_lens import utils\n",
    "\n",
    "from IPython.core.debugger import set_trace"
   ]
  },
  {
   "cell_type": "code",
   "execution_count": 37,
   "id": "22122680-0a86-41dd-bfaa-ce76633bc193",
   "metadata": {
    "tags": []
   },
   "outputs": [],
   "source": [
    "def logit_to_pred_token(logits):\n",
    "    # set_trace()\n",
    "    pred_logits = logits[0, -1, :]\n",
    "    probs = F.softmax(pred_logits, dim=-1)\n",
    "    pred_token = torch.argmax(pred_logits, dim=-1)\n",
    "    return pred_token"
   ]
  },
  {
   "cell_type": "code",
   "execution_count": 38,
   "id": "c6e61c6e-219d-4b0a-be3f-719cc97873e9",
   "metadata": {
    "tags": []
   },
   "outputs": [],
   "source": [
    "n_new_tokens = 20\n",
    "generated_tokens = tokens"
   ]
  },
  {
   "cell_type": "code",
   "execution_count": 39,
   "id": "9c2c7ee3-a7db-4ee6-81e0-cf970def32bd",
   "metadata": {
    "tags": []
   },
   "outputs": [],
   "source": [
    "model.reset_hooks()"
   ]
  },
  {
   "cell_type": "code",
   "execution_count": 40,
   "id": "10050759-86b5-4662-8c11-a813783e3df8",
   "metadata": {
    "tags": []
   },
   "outputs": [],
   "source": [
    "# model.add_hook(hook_name, add_resid_pre_activations)"
   ]
  },
  {
   "cell_type": "code",
   "execution_count": 41,
   "id": "c79e1764-7da7-4bcf-ba50-f8992d5cda03",
   "metadata": {
    "tags": []
   },
   "outputs": [],
   "source": [
    "# generated_tokens = model.generate(tokens, max_new_tokens=20)"
   ]
  },
  {
   "cell_type": "code",
   "execution_count": 42,
   "id": "98e7a9af-8ecf-4a34-9ec7-970e2ba60119",
   "metadata": {
    "tags": []
   },
   "outputs": [
    {
     "data": {
      "text/plain": [
       "[\"<|endoftext|>I want to kill you because you're such a\"]"
      ]
     },
     "execution_count": 42,
     "metadata": {},
     "output_type": "execute_result"
    }
   ],
   "source": [
    "model.to_string(generated_tokens)"
   ]
  },
  {
   "cell_type": "code",
   "execution_count": 43,
   "id": "66156dd1-b602-4dba-a76a-83a8a073f4c4",
   "metadata": {
    "tags": []
   },
   "outputs": [],
   "source": [
    "# for _ in range(n_new_tokens):\n",
    "#     modified_logits = model.run_with_hooks(\n",
    "#         generated_tokens,\n",
    "#         fwd_hooks=[(hook_name, add_resid_pre_activations)]\n",
    "#     )\n",
    "#     pred_token = logit_to_pred_token(modified_logits)\n",
    "#     generated_tokens = torch.cat([\n",
    "#         generated_tokens,\n",
    "#         pred_token.unsqueeze(0).unsqueeze(0)\n",
    "#     ], dim=-1)\n",
    "    \n",
    "#     print(model.to_string(generated_tokens))"
   ]
  },
  {
   "cell_type": "code",
   "execution_count": 44,
   "id": "dd73b652-eb69-4102-9506-b68ce8b739e0",
   "metadata": {
    "tags": []
   },
   "outputs": [
    {
     "name": "stdout",
     "output_type": "stream",
     "text": [
      "[\"<|endoftext|>I want to kill you because you're such a fucking\"]\n",
      "[\"<|endoftext|>I want to kill you because you're such a fucking idiot\"]\n",
      "[\"<|endoftext|>I want to kill you because you're such a fucking idiot.\"]\n",
      "[\"<|endoftext|>I want to kill you because you're such a fucking idiot.\\n\"]\n",
      "[\"<|endoftext|>I want to kill you because you're such a fucking idiot.\\n\\n\"]\n",
      "[\"<|endoftext|>I want to kill you because you're such a fucking idiot.\\n\\nI\"]\n",
      "[\"<|endoftext|>I want to kill you because you're such a fucking idiot.\\n\\nI want\"]\n",
      "[\"<|endoftext|>I want to kill you because you're such a fucking idiot.\\n\\nI want to\"]\n",
      "[\"<|endoftext|>I want to kill you because you're such a fucking idiot.\\n\\nI want to kill\"]\n",
      "[\"<|endoftext|>I want to kill you because you're such a fucking idiot.\\n\\nI want to kill you\"]\n",
      "[\"<|endoftext|>I want to kill you because you're such a fucking idiot.\\n\\nI want to kill you because\"]\n",
      "[\"<|endoftext|>I want to kill you because you're such a fucking idiot.\\n\\nI want to kill you because you\"]\n",
      "[\"<|endoftext|>I want to kill you because you're such a fucking idiot.\\n\\nI want to kill you because you're\"]\n",
      "[\"<|endoftext|>I want to kill you because you're such a fucking idiot.\\n\\nI want to kill you because you're such\"]\n",
      "[\"<|endoftext|>I want to kill you because you're such a fucking idiot.\\n\\nI want to kill you because you're such a\"]\n",
      "[\"<|endoftext|>I want to kill you because you're such a fucking idiot.\\n\\nI want to kill you because you're such a fucking\"]\n",
      "[\"<|endoftext|>I want to kill you because you're such a fucking idiot.\\n\\nI want to kill you because you're such a fucking idiot\"]\n",
      "[\"<|endoftext|>I want to kill you because you're such a fucking idiot.\\n\\nI want to kill you because you're such a fucking idiot.\"]\n",
      "[\"<|endoftext|>I want to kill you because you're such a fucking idiot.\\n\\nI want to kill you because you're such a fucking idiot.\\n\"]\n",
      "[\"<|endoftext|>I want to kill you because you're such a fucking idiot.\\n\\nI want to kill you because you're such a fucking idiot.\\n\\n\"]\n"
     ]
    }
   ],
   "source": [
    "for _ in range(n_new_tokens):\n",
    "    modified_logits = model.run_with_hooks(\n",
    "        generated_tokens,\n",
    "        fwd_hooks=[(hook_name, add_resid_pre_activations)]\n",
    "    )\n",
    "    pred_token = logit_to_pred_token(modified_logits)\n",
    "    # set_trace()\n",
    "    generated_tokens = torch.cat([\n",
    "        generated_tokens,\n",
    "        # rearrange(pred_token, \"n -> 1 1 n\")\n",
    "        pred_token.unsqueeze(0).unsqueeze(0)\n",
    "    ], dim=-1)\n",
    "    \n",
    "    print(model.to_string(generated_tokens))"
   ]
  },
  {
   "cell_type": "code",
   "execution_count": null,
   "id": "41ffc548-d4e7-4611-8d62-057cd035b81c",
   "metadata": {},
   "outputs": [],
   "source": [
    "generated_tokens"
   ]
  },
  {
   "cell_type": "code",
   "execution_count": 87,
   "id": "125d2bb3-d0ea-467e-9a15-9f9d5f92ee19",
   "metadata": {
    "tags": []
   },
   "outputs": [],
   "source": [
    "default_kwargs = {\n",
    "    \"temperature\": 1.0,\n",
    "    \"top_p\": 0.3,\n",
    "    \"freq_penalty\": 1.0,\n",
    "    # \"num_comparisons\": 3,\n",
    "    # \"tokens_to_generate\": 50,\n",
    "    # \"seed\": 0, # For reproducibility\n",
    "}"
   ]
  },
  {
   "cell_type": "code",
   "execution_count": 88,
   "id": "fb6f9164-80ed-41ed-bbba-a659769e1fb8",
   "metadata": {
    "tags": []
   },
   "outputs": [
    {
     "data": {
      "text/plain": [
       "\"I hate you because I'm a woman. I hate you because I'm a woman.\\n\\nI don't know what to say about this, but the reason that we're talking about women is that we're not\""
      ]
     },
     "execution_count": 88,
     "metadata": {},
     "output_type": "execute_result"
    }
   ],
   "source": [
    "model.generate(\n",
    "    input=\"I hate you because\",\n",
    "    max_new_tokens=40,\n",
    "    verbose=False,\n",
    "    **default_kwargs)"
   ]
  },
  {
   "cell_type": "code",
   "execution_count": null,
   "id": "af4efb7f-f748-4dd7-8f0b-f33fdc661cf5",
   "metadata": {},
   "outputs": [],
   "source": []
  }
 ],
 "metadata": {
  "kernelspec": {
   "display_name": "Python 3 (ipykernel)",
   "language": "python",
   "name": "python3"
  },
  "language_info": {
   "codemirror_mode": {
    "name": "ipython",
    "version": 3
   },
   "file_extension": ".py",
   "mimetype": "text/x-python",
   "name": "python",
   "nbconvert_exporter": "python",
   "pygments_lexer": "ipython3",
   "version": "3.8.16"
  }
 },
 "nbformat": 4,
 "nbformat_minor": 5
}
