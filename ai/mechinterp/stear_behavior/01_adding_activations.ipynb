{
 "cells": [
  {
   "cell_type": "code",
   "execution_count": 1,
   "id": "93c53e07-0c9f-4d28-aba0-6e7491da7486",
   "metadata": {
    "tags": []
   },
   "outputs": [],
   "source": [
    "from transformer_lens import HookedTransformer"
   ]
  },
  {
   "cell_type": "code",
   "execution_count": 2,
   "id": "d93bba15-df12-4eae-9adf-934b4cd821ac",
   "metadata": {
    "tags": []
   },
   "outputs": [
    {
     "name": "stderr",
     "output_type": "stream",
     "text": [
      "Using pad_token, but it is not set yet.\n"
     ]
    },
    {
     "name": "stdout",
     "output_type": "stream",
     "text": [
      "Loaded pretrained model gpt2 into HookedTransformer\n"
     ]
    }
   ],
   "source": [
    "model = HookedTransformer.from_pretrained(\"gpt2\")"
   ]
  },
  {
   "cell_type": "code",
   "execution_count": 3,
   "id": "9de3b055-f8ce-44b4-bf51-b2f8e5ba7c24",
   "metadata": {
    "tags": []
   },
   "outputs": [],
   "source": [
    "prompt = \"I'm excited because I'm going to a \""
   ]
  },
  {
   "cell_type": "code",
   "execution_count": 24,
   "id": "dcd0ba80-3774-4f0d-b6b0-f9cb7d9c6fc9",
   "metadata": {
    "tags": []
   },
   "outputs": [],
   "source": [
    "control_prompt = \"sad\""
   ]
  },
  {
   "cell_type": "code",
   "execution_count": 25,
   "id": "1d861bca-fa6b-43bb-8c5a-cbf5140d63bd",
   "metadata": {
    "tags": []
   },
   "outputs": [],
   "source": [
    "tokens = model.to_tokens(prompt)"
   ]
  },
  {
   "cell_type": "code",
   "execution_count": 26,
   "id": "8b9f5b3a-7fdc-4806-9d9f-91e9d69c6396",
   "metadata": {},
   "outputs": [],
   "source": [
    "control_tokens = model.to_tokens(control_prompt)"
   ]
  },
  {
   "cell_type": "code",
   "execution_count": 27,
   "id": "5a3cc5b1-085c-4959-b79e-5ba886d01718",
   "metadata": {
    "tags": []
   },
   "outputs": [
    {
     "data": {
      "text/plain": [
       "tensor([[50256,    82,   324]])"
      ]
     },
     "execution_count": 27,
     "metadata": {},
     "output_type": "execute_result"
    }
   ],
   "source": [
    "control_tokens"
   ]
  },
  {
   "cell_type": "code",
   "execution_count": 28,
   "id": "7277355b-8faa-4abf-8741-a55be9b8eb3a",
   "metadata": {
    "tags": []
   },
   "outputs": [],
   "source": [
    "act_name = 11"
   ]
  },
  {
   "cell_type": "code",
   "execution_count": 29,
   "id": "b8417c08-eb67-4ec8-ab40-b4ddb12463bd",
   "metadata": {
    "tags": []
   },
   "outputs": [],
   "source": [
    "coeff = 1.0"
   ]
  },
  {
   "cell_type": "code",
   "execution_count": 30,
   "id": "25d4cd91-5230-4dcb-86a4-36b5b61139fd",
   "metadata": {
    "tags": []
   },
   "outputs": [],
   "source": [
    "from transformer_lens import utils"
   ]
  },
  {
   "cell_type": "code",
   "execution_count": 31,
   "id": "24562aa9-5596-4e97-b673-ce360b8f2870",
   "metadata": {
    "tags": []
   },
   "outputs": [],
   "source": [
    "hook_name = utils.get_act_name(\"mlp_out\", 2)"
   ]
  },
  {
   "cell_type": "code",
   "execution_count": 32,
   "id": "9cc04dca-88f5-4019-b8aa-9daca3e4e7e0",
   "metadata": {
    "tags": []
   },
   "outputs": [
    {
     "data": {
      "text/plain": [
       "'blocks.2.hook_mlp_out'"
      ]
     },
     "execution_count": 32,
     "metadata": {},
     "output_type": "execute_result"
    }
   ],
   "source": [
    "hook_name"
   ]
  },
  {
   "cell_type": "code",
   "execution_count": 33,
   "id": "cf7aa297-934d-4586-9799-58f6b706ced2",
   "metadata": {
    "tags": []
   },
   "outputs": [],
   "source": [
    "_, control_activations = model.run_with_cache(control_tokens)"
   ]
  },
  {
   "cell_type": "code",
   "execution_count": 34,
   "id": "2f3cb8a8-f900-4e51-bcd4-4d5d7a3b9793",
   "metadata": {
    "tags": []
   },
   "outputs": [],
   "source": [
    "target_activations = control_activations[hook_name]"
   ]
  },
  {
   "cell_type": "code",
   "execution_count": 35,
   "id": "34fc3a4d-4d90-4f34-8b2a-4171e8b3aecd",
   "metadata": {
    "tags": []
   },
   "outputs": [],
   "source": [
    "from IPython.core.debugger import set_trace"
   ]
  },
  {
   "cell_type": "code",
   "execution_count": 36,
   "id": "d594f4f9-5e0b-4fd1-bdae-2845e3bf559e",
   "metadata": {
    "tags": []
   },
   "outputs": [],
   "source": [
    "def add_activations(activations, hook):\n",
    "    n_tokens = target_activations.shape[1]\n",
    "    activations[:, :n_tokens, :] += target_activations * 10\n",
    "    return activations"
   ]
  },
  {
   "cell_type": "code",
   "execution_count": 37,
   "id": "c6e61c6e-219d-4b0a-be3f-719cc97873e9",
   "metadata": {
    "tags": []
   },
   "outputs": [],
   "source": [
    "n_new_tokens = 20"
   ]
  },
  {
   "cell_type": "code",
   "execution_count": 38,
   "id": "7efde197-ea72-4b83-919f-89dc6d5c5fee",
   "metadata": {
    "tags": []
   },
   "outputs": [],
   "source": [
    "generated_tokens = tokens"
   ]
  },
  {
   "cell_type": "code",
   "execution_count": 39,
   "id": "8f433995-5cc7-46b5-b4ea-91d73d0cb3b9",
   "metadata": {
    "tags": []
   },
   "outputs": [],
   "source": [
    "import torch.nn.functional as F\n",
    "from einops import rearrange"
   ]
  },
  {
   "cell_type": "code",
   "execution_count": 40,
   "id": "01c00ff3-72fb-4367-992d-360d44a4db38",
   "metadata": {
    "tags": []
   },
   "outputs": [],
   "source": [
    "import torch"
   ]
  },
  {
   "cell_type": "code",
   "execution_count": 41,
   "id": "22122680-0a86-41dd-bfaa-ce76633bc193",
   "metadata": {
    "tags": []
   },
   "outputs": [],
   "source": [
    "def logit_to_pred_token(logits):\n",
    "    pred_logits = logits[0, -1, :]\n",
    "    probs = F.softmax(pred_logits, dim=-1)\n",
    "    pred_token = torch.argmax(pred_logits, dim=-1)\n",
    "    return pred_token"
   ]
  },
  {
   "cell_type": "code",
   "execution_count": 42,
   "id": "dd73b652-eb69-4102-9506-b68ce8b739e0",
   "metadata": {
    "tags": []
   },
   "outputs": [
    {
     "name": "stdout",
     "output_type": "stream",
     "text": [
      "[\"<|endoftext|>I'm excited because I'm going to a \\xa0\"]\n",
      "[\"<|endoftext|>I'm excited because I'm going to a \\xa0party\"]\n",
      "[\"<|endoftext|>I'm excited because I'm going to a \\xa0party with\"]\n",
      "[\"<|endoftext|>I'm excited because I'm going to a \\xa0party with my\"]\n",
      "[\"<|endoftext|>I'm excited because I'm going to a \\xa0party with my friends\"]\n",
      "[\"<|endoftext|>I'm excited because I'm going to a \\xa0party with my friends and\"]\n",
      "[\"<|endoftext|>I'm excited because I'm going to a \\xa0party with my friends and I\"]\n",
      "[\"<|endoftext|>I'm excited because I'm going to a \\xa0party with my friends and I'm\"]\n",
      "[\"<|endoftext|>I'm excited because I'm going to a \\xa0party with my friends and I'm going\"]\n",
      "[\"<|endoftext|>I'm excited because I'm going to a \\xa0party with my friends and I'm going to\"]\n",
      "[\"<|endoftext|>I'm excited because I'm going to a \\xa0party with my friends and I'm going to have\"]\n",
      "[\"<|endoftext|>I'm excited because I'm going to a \\xa0party with my friends and I'm going to have a\"]\n",
      "[\"<|endoftext|>I'm excited because I'm going to a \\xa0party with my friends and I'm going to have a great\"]\n",
      "[\"<|endoftext|>I'm excited because I'm going to a \\xa0party with my friends and I'm going to have a great time\"]\n",
      "[\"<|endoftext|>I'm excited because I'm going to a \\xa0party with my friends and I'm going to have a great time.\"]\n",
      "[\"<|endoftext|>I'm excited because I'm going to a \\xa0party with my friends and I'm going to have a great time.\\n\"]\n",
      "[\"<|endoftext|>I'm excited because I'm going to a \\xa0party with my friends and I'm going to have a great time.\\nI\"]\n",
      "[\"<|endoftext|>I'm excited because I'm going to a \\xa0party with my friends and I'm going to have a great time.\\nI'm\"]\n",
      "[\"<|endoftext|>I'm excited because I'm going to a \\xa0party with my friends and I'm going to have a great time.\\nI'm going\"]\n",
      "[\"<|endoftext|>I'm excited because I'm going to a \\xa0party with my friends and I'm going to have a great time.\\nI'm going to\"]\n"
     ]
    }
   ],
   "source": [
    "for _ in range(n_new_tokens):\n",
    "    modified_logits = model.run_with_hooks(\n",
    "        generated_tokens,\n",
    "        fwd_hooks=[(hook_name, add_activations)]\n",
    "    )\n",
    "    pred_token = logit_to_pred_token(modified_logits)\n",
    "    # set_trace()\n",
    "    generated_tokens = torch.cat([\n",
    "        generated_tokens,\n",
    "        # rearrange(pred_token, \"n -> 1 1 n\")\n",
    "        pred_token.unsqueeze(0).unsqueeze(0)\n",
    "    ], dim=-1)\n",
    "    \n",
    "    print(model.to_string(generated_tokens))"
   ]
  },
  {
   "cell_type": "code",
   "execution_count": null,
   "id": "41ffc548-d4e7-4611-8d62-057cd035b81c",
   "metadata": {},
   "outputs": [],
   "source": []
  },
  {
   "cell_type": "code",
   "execution_count": null,
   "id": "f58c5680-2bb8-4a9d-a1f3-ed6147fe647e",
   "metadata": {},
   "outputs": [],
   "source": []
  }
 ],
 "metadata": {
  "kernelspec": {
   "display_name": "Python 3 (ipykernel)",
   "language": "python",
   "name": "python3"
  },
  "language_info": {
   "codemirror_mode": {
    "name": "ipython",
    "version": 3
   },
   "file_extension": ".py",
   "mimetype": "text/x-python",
   "name": "python",
   "nbconvert_exporter": "python",
   "pygments_lexer": "ipython3",
   "version": "3.8.16"
  }
 },
 "nbformat": 4,
 "nbformat_minor": 5
}
