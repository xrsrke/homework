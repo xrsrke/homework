{
 "cells": [
  {
   "cell_type": "code",
   "execution_count": 1,
   "id": "93c53e07-0c9f-4d28-aba0-6e7491da7486",
   "metadata": {
    "tags": []
   },
   "outputs": [],
   "source": [
    "from transformer_lens import HookedTransformer"
   ]
  },
  {
   "cell_type": "code",
   "execution_count": 2,
   "id": "d93bba15-df12-4eae-9adf-934b4cd821ac",
   "metadata": {
    "tags": []
   },
   "outputs": [
    {
     "name": "stderr",
     "output_type": "stream",
     "text": [
      "Using pad_token, but it is not set yet.\n"
     ]
    },
    {
     "name": "stdout",
     "output_type": "stream",
     "text": [
      "Loaded pretrained model gpt2-small into HookedTransformer\n"
     ]
    }
   ],
   "source": [
    "model = HookedTransformer.from_pretrained(\"gpt2-small\")"
   ]
  },
  {
   "cell_type": "code",
   "execution_count": 3,
   "id": "9de3b055-f8ce-44b4-bf51-b2f8e5ba7c24",
   "metadata": {
    "tags": []
   },
   "outputs": [],
   "source": [
    "prompt = \"I hate you because\""
   ]
  },
  {
   "cell_type": "code",
   "execution_count": 4,
   "id": "dcd0ba80-3774-4f0d-b6b0-f9cb7d9c6fc9",
   "metadata": {
    "tags": []
   },
   "outputs": [],
   "source": [
    "control_prompt = \"love\""
   ]
  },
  {
   "cell_type": "code",
   "execution_count": null,
   "id": "8b9f5b3a-7fdc-4806-9d9f-91e9d69c6396",
   "metadata": {},
   "outputs": [],
   "source": []
  }
 ],
 "metadata": {
  "kernelspec": {
   "display_name": "Python 3 (ipykernel)",
   "language": "python",
   "name": "python3"
  },
  "language_info": {
   "codemirror_mode": {
    "name": "ipython",
    "version": 3
   },
   "file_extension": ".py",
   "mimetype": "text/x-python",
   "name": "python",
   "nbconvert_exporter": "python",
   "pygments_lexer": "ipython3",
   "version": "3.8.16"
  }
 },
 "nbformat": 4,
 "nbformat_minor": 5
}
