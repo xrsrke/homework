{
 "cells": [
  {
   "cell_type": "markdown",
   "id": "1d1710f3-aaf3-411c-a64b-637ee98db519",
   "metadata": {},
   "source": [
    "##### Example 1"
   ]
  },
  {
   "cell_type": "code",
   "execution_count": 3,
   "id": "3d565686-0e86-4132-ad81-8d33ad682445",
   "metadata": {
    "tags": []
   },
   "outputs": [
    {
     "name": "stderr",
     "output_type": "stream",
     "text": [
      "/Users/education/opt/anaconda3/envs/ml_engineering/lib/python3.8/site-packages/tqdm/auto.py:21: TqdmWarning: IProgress not found. Please update jupyter and ipywidgets. See https://ipywidgets.readthedocs.io/en/stable/user_install.html\n",
      "  from .autonotebook import tqdm as notebook_tqdm\n"
     ]
    }
   ],
   "source": [
    "from tqdm import tqdm\n",
    "from transformer_lens import HookedTransformer"
   ]
  },
  {
   "cell_type": "code",
   "execution_count": 4,
   "id": "c39ceeb3-1587-41e3-afc3-38199bf664f5",
   "metadata": {
    "tags": []
   },
   "outputs": [
    {
     "name": "stderr",
     "output_type": "stream",
     "text": [
      "Using pad_token, but it is not set yet.\n"
     ]
    },
    {
     "name": "stdout",
     "output_type": "stream",
     "text": [
      "Loaded pretrained model gpt2-small into HookedTransformer\n"
     ]
    }
   ],
   "source": [
    "model = HookedTransformer.from_pretrained(\"gpt2-small\")"
   ]
  },
  {
   "cell_type": "code",
   "execution_count": 5,
   "id": "7bd756a8-8c4f-4940-865e-c7628a8b8baf",
   "metadata": {},
   "outputs": [],
   "source": [
    "n_layers = model.cfg.n_layers\n",
    "n_heads = model.cfg.n_heads"
   ]
  },
  {
   "cell_type": "code",
   "execution_count": 7,
   "id": "a889d56a-3a81-4122-84d3-99d510d7e43f",
   "metadata": {
    "tags": []
   },
   "outputs": [
    {
     "name": "stderr",
     "output_type": "stream",
     "text": [
      "  0%|                                                    | 0/12 [00:00<?, ?it/s]\n",
      "100%|████████████████████████████████████████| 12/12 [00:00<00:00, 74126.14it/s]\u001b[A\n",
      "\n",
      "100%|███████████████████████████████████████| 12/12 [00:00<00:00, 218833.25it/s]\u001b[A\n",
      "\n",
      "100%|████████████████████████████████████████| 12/12 [00:00<00:00, 93034.47it/s]\u001b[A\n",
      "\n",
      "100%|███████████████████████████████████████| 12/12 [00:00<00:00, 173557.41it/s]\u001b[A\n",
      "\n",
      "100%|████████████████████████████████████████| 12/12 [00:00<00:00, 53830.64it/s]\u001b[A\n",
      "\n",
      "100%|████████████████████████████████████████| 12/12 [00:00<00:00, 66752.85it/s]\u001b[A\n",
      "\n",
      "100%|████████████████████████████████████████| 12/12 [00:00<00:00, 46689.84it/s]\u001b[A\n",
      "\n",
      "100%|███████████████████████████████████████| 12/12 [00:00<00:00, 181702.70it/s]\u001b[A\n",
      "\n",
      "100%|███████████████████████████████████████| 12/12 [00:00<00:00, 111107.39it/s]\u001b[A\n",
      "\n",
      "100%|███████████████████████████████████████| 12/12 [00:00<00:00, 169466.83it/s]\u001b[A\n",
      "\n",
      "100%|████████████████████████████████████████| 12/12 [00:00<00:00, 25536.10it/s]\u001b[A\n",
      "\n",
      "100%|███████████████████████████████████████| 12/12 [00:00<00:00, 211477.51it/s]\u001b[A\n",
      "100%|██████████████████████████████████████████| 12/12 [00:00<00:00, 170.74it/s]\n"
     ]
    }
   ],
   "source": [
    "for layer_idx in tqdm(range(n_layers)):\n",
    "    for head_idx in tqdm(range(n_layers)):\n",
    "        pass"
   ]
  },
  {
   "cell_type": "code",
   "execution_count": null,
   "id": "56dd5f2d-cfef-4cf5-a331-3b0ad1297054",
   "metadata": {},
   "outputs": [],
   "source": []
  }
 ],
 "metadata": {
  "kernelspec": {
   "display_name": "Python 3 (ipykernel)",
   "language": "python",
   "name": "python3"
  },
  "language_info": {
   "codemirror_mode": {
    "name": "ipython",
    "version": 3
   },
   "file_extension": ".py",
   "mimetype": "text/x-python",
   "name": "python",
   "nbconvert_exporter": "python",
   "pygments_lexer": "ipython3",
   "version": "3.8.16"
  }
 },
 "nbformat": 4,
 "nbformat_minor": 5
}
