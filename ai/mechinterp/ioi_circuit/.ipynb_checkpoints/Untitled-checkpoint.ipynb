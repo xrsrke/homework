{
 "cells": [
  {
   "cell_type": "code",
   "execution_count": 1,
   "id": "3614da46-b051-46bf-b09a-0ab7c716dd21",
   "metadata": {
    "tags": []
   },
   "outputs": [
    {
     "name": "stderr",
     "output_type": "stream",
     "text": [
      "Found cached dataset imdb (/Users/education/.cache/huggingface/datasets/imdb/plain_text/1.0.0/d613c88cf8fa3bab83b4ded3713f1f74830d1100e171db75bbddb80b3345c9c0)\n"
     ]
    }
   ],
   "source": [
    "from datasets import load_dataset\n",
    "import pandas as pd\n",
    "\n",
    "# Load the dataset\n",
    "dataset = load_dataset(\"imdb\", split='train')"
   ]
  },
  {
   "cell_type": "code",
   "execution_count": 3,
   "id": "6428efe6-bcd7-4a29-8e6a-a71d98ddc784",
   "metadata": {
    "tags": []
   },
   "outputs": [],
   "source": [
    "# The dataset might be split into multiple subsets (like 'train', 'test'), so you'll need to specify which subset you want to use. For example, let's use the 'train' subset:\n",
    "train_dataset = dataset\n",
    "\n",
    "# Convert to a pandas DataFrame\n",
    "df = pd.DataFrame(train_dataset)\n",
    "\n",
    "# Save as a CSV file\n",
    "df.to_csv('text_generation.csv', index=False)"
   ]
  },
  {
   "cell_type": "code",
   "execution_count": null,
   "id": "0f0b6ce3-f8e7-4a35-a25e-415414ae83c0",
   "metadata": {},
   "outputs": [],
   "source": []
  }
 ],
 "metadata": {
  "kernelspec": {
   "display_name": "Python 3 (ipykernel)",
   "language": "python",
   "name": "python3"
  },
  "language_info": {
   "codemirror_mode": {
    "name": "ipython",
    "version": 3
   },
   "file_extension": ".py",
   "mimetype": "text/x-python",
   "name": "python",
   "nbconvert_exporter": "python",
   "pygments_lexer": "ipython3",
   "version": "3.8.16"
  }
 },
 "nbformat": 4,
 "nbformat_minor": 5
}
