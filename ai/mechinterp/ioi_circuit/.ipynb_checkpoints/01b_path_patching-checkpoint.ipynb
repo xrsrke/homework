{
 "cells": [
  {
   "cell_type": "code",
   "execution_count": 1,
   "id": "9fe59c9b-9541-4cd2-be78-3fb1e4ccaa91",
   "metadata": {
    "tags": []
   },
   "outputs": [],
   "source": [
    "from transformer_lens import HookedTransformer"
   ]
  },
  {
   "cell_type": "code",
   "execution_count": null,
   "id": "f07881f2-fc22-462c-b7c0-3d3f5a7503a1",
   "metadata": {
    "tags": []
   },
   "outputs": [],
   "source": [
    "model = HookedTransformer.from_pretrained(\"gpt2-small\")"
   ]
  },
  {
   "cell_type": "code",
   "execution_count": null,
   "id": "e8d52353-f9d1-4ccb-8d92-6ef85b1fa95c",
   "metadata": {},
   "outputs": [],
   "source": [
    "prompt"
   ]
  },
  {
   "cell_type": "code",
   "execution_count": null,
   "id": "2b4ce05a-2aa1-437c-ac30-a5ec57c13caf",
   "metadata": {
    "tags": []
   },
   "outputs": [],
   "source": [
    "x_new = \"Matthew and Robert had a lot of fun at the school. Robert gave a ring to Matthew\""
   ]
  },
  {
   "cell_type": "code",
   "execution_count": 20,
   "id": "c6a2a0ff-bc83-4541-baca-bd2050a06a32",
   "metadata": {
    "tags": []
   },
   "outputs": [],
   "source": [
    "x_orig = \"Tiffany and Jacob had a lot of fun at the school. Matthew gave a ring to Tiffany\""
   ]
  },
  {
   "cell_type": "code",
   "execution_count": 21,
   "id": "cd525935-858e-40e2-9904-593797ab994d",
   "metadata": {
    "tags": []
   },
   "outputs": [],
   "source": [
    "new_tokens = model.to_tokens(x_new)"
   ]
  },
  {
   "cell_type": "code",
   "execution_count": 22,
   "id": "0a95cf62-22ca-4eb7-96d4-f18c38b49071",
   "metadata": {
    "tags": []
   },
   "outputs": [],
   "source": [
    "orig_tokens = model.to_tokens(x_orig)"
   ]
  },
  {
   "cell_type": "code",
   "execution_count": 23,
   "id": "9f75a511-b089-4daf-ab45-928de317004d",
   "metadata": {
    "tags": []
   },
   "outputs": [],
   "source": [
    "_, cache_new = model.run_with_cache(new_tokens)"
   ]
  },
  {
   "cell_type": "code",
   "execution_count": 24,
   "id": "061b398b-f34e-46da-8fc7-097d54f38c59",
   "metadata": {
    "tags": []
   },
   "outputs": [],
   "source": [
    "_, cache_orig = model.run_with_cache(orig_tokens)"
   ]
  },
  {
   "cell_type": "code",
   "execution_count": 25,
   "id": "092cce1a-d60d-451f-8c80-dcd818773956",
   "metadata": {
    "tags": []
   },
   "outputs": [],
   "source": [
    "target_head = [(6, 9)]"
   ]
  },
  {
   "cell_type": "code",
   "execution_count": null,
   "id": "d4360d58-95db-4c33-b87a-6ff5d82f001e",
   "metadata": {},
   "outputs": [],
   "source": []
  },
  {
   "cell_type": "code",
   "execution_count": null,
   "id": "0c9a277e-5385-4375-b145-7335b0d28eaf",
   "metadata": {},
   "outputs": [],
   "source": []
  },
  {
   "cell_type": "code",
   "execution_count": null,
   "id": "b53d10dc-23df-4ecf-a48c-fe9ca9ece545",
   "metadata": {},
   "outputs": [],
   "source": []
  }
 ],
 "metadata": {
  "kernelspec": {
   "display_name": "Python 3 (ipykernel)",
   "language": "python",
   "name": "python3"
  },
  "language_info": {
   "codemirror_mode": {
    "name": "ipython",
    "version": 3
   },
   "file_extension": ".py",
   "mimetype": "text/x-python",
   "name": "python",
   "nbconvert_exporter": "python",
   "pygments_lexer": "ipython3",
   "version": "3.8.16"
  }
 },
 "nbformat": 4,
 "nbformat_minor": 5
}
