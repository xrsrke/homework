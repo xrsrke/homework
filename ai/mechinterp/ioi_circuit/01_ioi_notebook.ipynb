{
 "cells": [
  {
   "cell_type": "code",
   "execution_count": null,
   "id": "5663d172-23c5-4b65-ac7e-c09b672aa4be",
   "metadata": {},
   "outputs": [],
   "source": [
    "from copy import deepcopy\n",
    "import torch\n",
    "\n",
    "from tqdm import tqdm\n",
    "import pandas as pd\n",
    "import torch\n",
    "import torch as t\n",
    "from easy_transformer.EasyTransformer import (\n",
    "    EasyTransformer,\n",
    ")\n",
    "from time import ctime\n",
    "from functools import partial\n",
    "\n",
    "import numpy as np\n",
    "from tqdm import tqdm\n",
    "import pandas as pd\n",
    "\n",
    "from easy_transformer.experiments import (\n",
    "    ExperimentMetric,\n",
    "    AblationConfig,\n",
    "    EasyAblation,\n",
    "    EasyPatching,\n",
    "    PatchingConfig,\n",
    ")\n",
    "import plotly.express as px\n",
    "import plotly.io as pio\n",
    "import plotly.graph_objects as go\n",
    "import random\n",
    "import einops\n",
    "from IPython import get_ipython\n",
    "from copy import deepcopy\n",
    "from easy_transformer.ioi_dataset import (\n",
    "    IOIDataset,\n",
    ")\n",
    "from easy_transformer.ioi_utils import (\n",
    "    path_patching,\n",
    "    max_2d,\n",
    "    CLASS_COLORS,\n",
    "    show_pp,\n",
    "    show_attention_patterns,\n",
    "    scatter_attention_and_contribution,\n",
    ")\n",
    "from random import randint as ri\n",
    "from easy_transformer.ioi_circuit_extraction import (\n",
    "    do_circuit_extraction,\n",
    "    get_heads_circuit,\n",
    "    CIRCUIT,\n",
    ")\n",
    "from easy_transformer.ioi_utils import logit_diff, probs\n",
    "from easy_transformer.ioi_utils import get_top_tokens_and_probs as g\n",
    "\n",
    "ipython = get_ipython()"
   ]
  },
  {
   "cell_type": "markdown",
   "id": "10d836e7-693c-45a1-ac6a-b7b5c3246434",
   "metadata": {},
   "source": [
    "### Patch Patching"
   ]
  },
  {
   "cell_type": "markdown",
   "id": "f3350f28-3f6e-4a68-b8b7-96d4c9dc4005",
   "metadata": {},
   "source": [
    "Prompt"
   ]
  },
  {
   "cell_type": "code",
   "execution_count": null,
   "id": "c0cec179-2135-4be2-852d-c394108d20f9",
   "metadata": {},
   "outputs": [],
   "source": [
    "ioi_prompt = \"Matthew and Robert had a lot of fun at the school. Robert gave a ring to Matthew\""
   ]
  },
  {
   "cell_type": "code",
   "execution_count": null,
   "id": "eb45486c-3ee9-47bb-900b-7703444a7b1a",
   "metadata": {},
   "outputs": [],
   "source": [
    "abc_prompt = \"Tiffany and Jacob had a lot of fun at the school. Matthew gave a ring to Tiffany\""
   ]
  },
  {
   "cell_type": "markdown",
   "id": "88ceec0d-48d6-4cf6-bf4d-c988e773c8b9",
   "metadata": {},
   "source": [
    "Model"
   ]
  },
  {
   "cell_type": "code",
   "execution_count": null,
   "id": "48c4d290-1081-4a6c-87dd-00d13bfd0fb2",
   "metadata": {},
   "outputs": [
    {
     "name": "stderr",
     "output_type": "stream",
     "text": [
      "/Users/education/miniforge3/envs/gym/lib/python3.8/site-packages/easy_transformer/components.py:616: UserWarning: Moved LN1 to the attention block\n",
      "  warnings.warn(\"Moved LN1 to the attention block\")\n"
     ]
    },
    {
     "name": "stdout",
     "output_type": "stream",
     "text": [
      "Moving model to device:  cpu\n",
      "Finished loading pretrained model gpt2 into EasyTransformer!\n"
     ]
    }
   ],
   "source": [
    "model = EasyTransformer.from_pretrained(\"gpt2\")"
   ]
  },
  {
   "cell_type": "code",
   "execution_count": null,
   "id": "88d57f52-bc9c-4a24-9fc6-6749ec4eacad",
   "metadata": {},
   "outputs": [],
   "source": [
    "ioi_tokens = model.to_tokens(ioi_prompt)\n",
    "abc_tokens = model.to_tokens(abc_prompt)"
   ]
  },
  {
   "cell_type": "markdown",
   "id": "dfab0d79-2fa5-4053-a2c3-344c9a5a0873",
   "metadata": {},
   "source": [
    "Patch Patching"
   ]
  },
  {
   "cell_type": "code",
   "execution_count": null,
   "id": "715e275e-29a7-4f3c-8c19-ede7a6b3f2f0",
   "metadata": {},
   "outputs": [],
   "source": [
    "sender_heads = [(0, 1)]"
   ]
  },
  {
   "cell_type": "code",
   "execution_count": null,
   "id": "31191aeb-0b3e-4bed-be20-4b8030ea5b82",
   "metadata": {},
   "outputs": [],
   "source": [
    "receiver_hooks = [('blocks.11.hook_resid_post', None)]"
   ]
  },
  {
   "cell_type": "code",
   "execution_count": null,
   "id": "b681c432-9d57-4e46-8cd4-dc2521211879",
   "metadata": {},
   "outputs": [],
   "source": [
    "position = \"end\""
   ]
  },
  {
   "cell_type": "code",
   "execution_count": null,
   "id": "9448a327-cdd2-4f85-9a83-6898010f16d8",
   "metadata": {},
   "outputs": [],
   "source": [
    "sender_hooks = []"
   ]
  },
  {
   "cell_type": "code",
   "execution_count": null,
   "id": "b9d6af34-d5ce-4e97-ad75-c6baf0e5d4f8",
   "metadata": {},
   "outputs": [],
   "source": [
    "for layer_idx, head_idx in sender_heads:\n",
    "    sender_hooks.append((f\"blocks.{layer_idx}.attn.hook_result\", head_idx))"
   ]
  },
  {
   "cell_type": "code",
   "execution_count": null,
   "id": "3dcea4cb-3a0e-40ad-9f76-60cccbd78d19",
   "metadata": {},
   "outputs": [],
   "source": [
    "sender_hook_names = [x[0] for x in sender_hooks]"
   ]
  },
  {
   "cell_type": "code",
   "execution_count": null,
   "id": "6cd1ef97-d4c1-4354-b04e-89a1261fcc10",
   "metadata": {},
   "outputs": [],
   "source": [
    "receiver_hook_names = [x[0] for x in receiver_hooks]"
   ]
  },
  {
   "cell_type": "markdown",
   "id": "e437c44e-b661-424f-8e16-b8a7f763631a",
   "metadata": {},
   "source": [
    "Forward pass A"
   ]
  },
  {
   "cell_type": "code",
   "execution_count": null,
   "id": "15053853-ae04-4d70-90dd-ed050a1d4a02",
   "metadata": {},
   "outputs": [],
   "source": [
    "extra_hooks = []"
   ]
  },
  {
   "cell_type": "code",
   "execution_count": null,
   "id": "5946a0e8-e45a-4991-abdf-959639ea96e5",
   "metadata": {},
   "outputs": [],
   "source": [
    "sender_cache = {}"
   ]
  },
  {
   "cell_type": "code",
   "execution_count": null,
   "id": "1635755b-5f56-469d-b90b-715642bb3d9f",
   "metadata": {},
   "outputs": [],
   "source": [
    "model.cache_some()"
   ]
  },
  {
   "cell_type": "code",
   "execution_count": null,
   "id": "da0b4da1-a51f-495e-af57-23f66ed1b879",
   "metadata": {},
   "outputs": [],
   "source": [
    "source_logits = model(abc_tokens)"
   ]
  },
  {
   "cell_type": "code",
   "execution_count": null,
   "id": "5f7fc1b1-cfad-4e73-908a-a720a9d202e7",
   "metadata": {},
   "outputs": [],
   "source": []
  },
  {
   "cell_type": "code",
   "execution_count": null,
   "id": "0b949328-88c9-4d1e-934d-7a707ed31421",
   "metadata": {},
   "outputs": [],
   "source": []
  },
  {
   "cell_type": "code",
   "execution_count": null,
   "id": "e163f6d1-d1f7-403a-ad28-a3295c41fffc",
   "metadata": {},
   "outputs": [],
   "source": []
  },
  {
   "cell_type": "code",
   "execution_count": null,
   "id": "18d6796e-10e3-4963-a669-4fabc6bc8222",
   "metadata": {},
   "outputs": [],
   "source": []
  },
  {
   "cell_type": "code",
   "execution_count": null,
   "id": "ce6760eb-3743-4722-95d2-d7cd20e11282",
   "metadata": {},
   "outputs": [],
   "source": []
  },
  {
   "cell_type": "code",
   "execution_count": null,
   "id": "eb8ad591-4a5e-463f-9bcd-e3f2dd7030dc",
   "metadata": {},
   "outputs": [],
   "source": []
  },
  {
   "cell_type": "code",
   "execution_count": null,
   "id": "f593aa75-5f5c-41a7-9806-350604bf4eab",
   "metadata": {},
   "outputs": [],
   "source": [
    "n_layers = model.cfg.n_layers\n",
    "n_heads = model.cfg.n_heads"
   ]
  },
  {
   "cell_type": "code",
   "execution_count": null,
   "id": "1ae4f37e-43b2-42c4-b32e-5cfbbb6326e4",
   "metadata": {},
   "outputs": [],
   "source": [
    "for layer_idx in range(n_layers):\n",
    "    for head_idx in range(n_heads):\n",
    "        model.reset_hooks()"
   ]
  }
 ],
 "metadata": {
  "kernelspec": {
   "display_name": "Python 3 (ipykernel)",
   "language": "python",
   "name": "python3"
  },
  "language_info": {
   "codemirror_mode": {
    "name": "ipython",
    "version": 3
   },
   "file_extension": ".py",
   "mimetype": "text/x-python",
   "name": "python",
   "nbconvert_exporter": "python",
   "pygments_lexer": "ipython3",
   "version": "3.8.16"
  }
 },
 "nbformat": 4,
 "nbformat_minor": 5
}
