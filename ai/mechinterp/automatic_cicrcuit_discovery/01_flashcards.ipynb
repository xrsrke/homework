{
 "cells": [
  {
   "cell_type": "code",
   "execution_count": 1,
   "id": "24ea981c-2f1f-4290-8b7a-c15d04d81d07",
   "metadata": {
    "tags": []
   },
   "outputs": [],
   "source": [
    "from transformer_lens import HookedTransformer"
   ]
  },
  {
   "cell_type": "code",
   "execution_count": 2,
   "id": "d0b00fb3-8b3a-4a20-b339-9b5c18df6de4",
   "metadata": {
    "tags": []
   },
   "outputs": [
    {
     "name": "stderr",
     "output_type": "stream",
     "text": [
      "Using pad_token, but it is not set yet.\n"
     ]
    },
    {
     "name": "stdout",
     "output_type": "stream",
     "text": [
      "Loaded pretrained model gpt2-small into HookedTransformer\n"
     ]
    }
   ],
   "source": [
    "model = HookedTransformer.from_pretrained(\"gpt2-small\")"
   ]
  },
  {
   "cell_type": "code",
   "execution_count": 4,
   "id": "3acd6d2c-dcbc-4a9a-832e-8e22ef695854",
   "metadata": {
    "tags": []
   },
   "outputs": [],
   "source": [
    "clean_prompt = \"John told Mary: 'Persistence is all you need.' Mary replied back to \""
   ]
  },
  {
   "cell_type": "code",
   "execution_count": 5,
   "id": "34e6b551-4763-4179-8952-6e7423964718",
   "metadata": {
    "tags": []
   },
   "outputs": [],
   "source": [
    "corrupted_prompt = \"A told B: 'Persistence is all you need.' C replied back to\""
   ]
  },
  {
   "cell_type": "code",
   "execution_count": 6,
   "id": "8bc7ac9b-570b-499e-9108-7ed2b88cd461",
   "metadata": {
    "tags": []
   },
   "outputs": [],
   "source": [
    "clean_tokens = model.to_tokens(clean_prompt)"
   ]
  },
  {
   "cell_type": "code",
   "execution_count": 8,
   "id": "c3f8bb00-ee0b-4d15-9846-189d1b3079ef",
   "metadata": {
    "tags": []
   },
   "outputs": [],
   "source": [
    "corrupted_tokens = model.to_tokens(corrupted_prompt)"
   ]
  },
  {
   "cell_type": "code",
   "execution_count": 9,
   "id": "ffa0f51b-953a-4c40-b9b9-e414695ae3a5",
   "metadata": {
    "tags": []
   },
   "outputs": [],
   "source": [
    "_, clean_activations = model.run_with_cache(clean_tokens)"
   ]
  },
  {
   "cell_type": "code",
   "execution_count": 10,
   "id": "1b787539-f83b-42a3-a8c3-0930c848faf8",
   "metadata": {
    "tags": []
   },
   "outputs": [],
   "source": [
    "_, corrupted_activations = model.run_with_cache(corrupted_tokens)"
   ]
  },
  {
   "cell_type": "code",
   "execution_count": 12,
   "id": "fca99d31-8d4a-478a-b84c-113aa64cbd4d",
   "metadata": {
    "tags": []
   },
   "outputs": [],
   "source": [
    "destination_node_name = \"ln_final.hook_normalized'\""
   ]
  },
  {
   "cell_type": "code",
   "execution_count": null,
   "id": "74581157-e621-4516-9938-d749b5422662",
   "metadata": {},
   "outputs": [],
   "source": []
  }
 ],
 "metadata": {
  "kernelspec": {
   "display_name": "Python 3 (ipykernel)",
   "language": "python",
   "name": "python3"
  },
  "language_info": {
   "codemirror_mode": {
    "name": "ipython",
    "version": 3
   },
   "file_extension": ".py",
   "mimetype": "text/x-python",
   "name": "python",
   "nbconvert_exporter": "python",
   "pygments_lexer": "ipython3",
   "version": "3.8.16"
  }
 },
 "nbformat": 4,
 "nbformat_minor": 5
}
