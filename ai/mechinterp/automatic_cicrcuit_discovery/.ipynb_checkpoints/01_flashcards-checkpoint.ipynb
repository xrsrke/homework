{
 "cells": [
  {
   "cell_type": "code",
   "execution_count": 4,
   "id": "b187535f-96ec-45dd-b20c-dda381aafaf1",
   "metadata": {
    "tags": []
   },
   "outputs": [],
   "source": [
    "import torch\n",
    "# Simple module for demonstration\n",
    "class MyModule(torch.nn.Module):\n",
    "    def __init__(self):\n",
    "        super().__init__()\n",
    "        self.param = torch.nn.Parameter(torch.rand(3, 4))\n",
    "        self.linear = torch.nn.Linear(4, 5)\n",
    "\n",
    "    def forward(self, x):\n",
    "        return self.linear(x + self.param).clamp(min=0.0, max=1.0)\n",
    "\n",
    "module = MyModule()"
   ]
  },
  {
   "cell_type": "code",
   "execution_count": 5,
   "id": "39b792b0-c6c0-4f17-a99b-e93826dcf797",
   "metadata": {
    "tags": []
   },
   "outputs": [],
   "source": [
    "from torch.fx import symbolic_trace"
   ]
  },
  {
   "cell_type": "code",
   "execution_count": 6,
   "id": "208ed40d-2b0d-4ab5-b32d-b5c6ffa997e0",
   "metadata": {
    "tags": []
   },
   "outputs": [],
   "source": [
    "grah : torch.fx.GraphModule = symbolic_trace(module)"
   ]
  },
  {
   "cell_type": "code",
   "execution_count": null,
   "id": "2fa44fd0-fb13-4b34-b762-1a426036c30b",
   "metadata": {},
   "outputs": [],
   "source": []
  },
  {
   "cell_type": "code",
   "execution_count": 12,
   "id": "9e56977a-5afa-460f-a106-a04e03c64615",
   "metadata": {
    "tags": []
   },
   "outputs": [
    {
     "name": "stdout",
     "output_type": "stream",
     "text": [
      "opcode         name    target                   args        kwargs\n",
      "-------------  ------  -----------------------  ----------  ------------------------\n",
      "placeholder    x       x                        ()          {}\n",
      "get_attr       param   param                    ()          {}\n",
      "call_function  add     <built-in function add>  (x, param)  {}\n",
      "call_module    linear  linear                   (add,)      {}\n",
      "call_method    clamp   clamp                    (linear,)   {'min': 0.0, 'max': 1.0}\n",
      "output         output  output                   (clamp,)    {}\n"
     ]
    }
   ],
   "source": [
    "symbolic_traced.graph.print_tabular()"
   ]
  },
  {
   "cell_type": "code",
   "execution_count": null,
   "id": "6abfb24a-1930-4c75-a8ef-f9dd0195e7ff",
   "metadata": {},
   "outputs": [],
   "source": []
  },
  {
   "cell_type": "code",
   "execution_count": null,
   "id": "2f7ac041-0dcf-4178-ab29-ae5397fd93b0",
   "metadata": {},
   "outputs": [],
   "source": []
  },
  {
   "cell_type": "code",
   "execution_count": 1,
   "id": "24ea981c-2f1f-4290-8b7a-c15d04d81d07",
   "metadata": {
    "tags": []
   },
   "outputs": [],
   "source": [
    "from transformer_lens import HookedTransformer"
   ]
  },
  {
   "cell_type": "code",
   "execution_count": 2,
   "id": "d0b00fb3-8b3a-4a20-b339-9b5c18df6de4",
   "metadata": {
    "tags": []
   },
   "outputs": [
    {
     "name": "stderr",
     "output_type": "stream",
     "text": [
      "Using pad_token, but it is not set yet.\n"
     ]
    },
    {
     "name": "stdout",
     "output_type": "stream",
     "text": [
      "Loaded pretrained model gpt2-small into HookedTransformer\n"
     ]
    }
   ],
   "source": [
    "model = HookedTransformer.from_pretrained(\"gpt2-small\")"
   ]
  },
  {
   "cell_type": "code",
   "execution_count": 3,
   "id": "cc0c7dd6-f495-446f-b5d6-bfdde59d4e0c",
   "metadata": {
    "tags": []
   },
   "outputs": [],
   "source": [
    "from torch.fx import symbolic_trace"
   ]
  },
  {
   "cell_type": "code",
   "execution_count": 4,
   "id": "3acd6d2c-dcbc-4a9a-832e-8e22ef695854",
   "metadata": {
    "tags": []
   },
   "outputs": [],
   "source": [
    "symbolic_tracen_prompt = \"John told Mary: 'Persistence is all you need.' Mary replied back to \""
   ]
  },
  {
   "cell_type": "code",
   "execution_count": 5,
   "id": "34e6b551-4763-4179-8952-6e7423964718",
   "metadata": {
    "tags": []
   },
   "outputs": [],
   "source": [
    "corrupted_prompt = \"A told B: 'Persistence is all you need.' C replied back to\""
   ]
  },
  {
   "cell_type": "code",
   "execution_count": 6,
   "id": "8bc7ac9b-570b-499e-9108-7ed2b88cd461",
   "metadata": {
    "tags": []
   },
   "outputs": [],
   "source": [
    "clean_tokens = model.to_tokens(clean_prompt)"
   ]
  },
  {
   "cell_type": "code",
   "execution_count": 8,
   "id": "c3f8bb00-ee0b-4d15-9846-189d1b3079ef",
   "metadata": {
    "tags": []
   },
   "outputs": [],
   "source": [
    "corrupted_tokens = model.to_tokens(corrupted_prompt)"
   ]
  },
  {
   "cell_type": "code",
   "execution_count": 9,
   "id": "ffa0f51b-953a-4c40-b9b9-e414695ae3a5",
   "metadata": {
    "tags": []
   },
   "outputs": [],
   "source": [
    "_, clean_activations = model.run_with_cache(clean_tokens)"
   ]
  },
  {
   "cell_type": "code",
   "execution_count": 10,
   "id": "1b787539-f83b-42a3-a8c3-0930c848faf8",
   "metadata": {
    "tags": []
   },
   "outputs": [],
   "source": [
    "_, corrupted_activations = model.run_with_cache(corrupted_tokens)"
   ]
  },
  {
   "cell_type": "code",
   "execution_count": 12,
   "id": "fca99d31-8d4a-478a-b84c-113aa64cbd4d",
   "metadata": {
    "tags": []
   },
   "outputs": [],
   "source": [
    "destination_node_name = \"ln_final.hook_normalized'\""
   ]
  },
  {
   "cell_type": "code",
   "execution_count": null,
   "id": "74581157-e621-4516-9938-d749b5422662",
   "metadata": {},
   "outputs": [],
   "source": []
  }
 ],
 "metadata": {
  "kernelspec": {
   "display_name": "Python 3 (ipykernel)",
   "language": "python",
   "name": "python3"
  },
  "language_info": {
   "codemirror_mode": {
    "name": "ipython",
    "version": 3
   },
   "file_extension": ".py",
   "mimetype": "text/x-python",
   "name": "python",
   "nbconvert_exporter": "python",
   "pygments_lexer": "ipython3",
   "version": "3.8.16"
  }
 },
 "nbformat": 4,
 "nbformat_minor": 5
}
