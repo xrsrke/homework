{
 "cells": [
  {
   "cell_type": "code",
   "execution_count": 1,
   "id": "a2575575-cbda-4872-8d1b-d3cf955b05e6",
   "metadata": {
    "tags": []
   },
   "outputs": [],
   "source": [
    "from collections import defaultdict\n",
    "\n",
    "class Graph:\n",
    "    def __init__(self, vertices):\n",
    "        self.graph = defaultdict(list)\n",
    "        self.vertices = vertices\n",
    "\n",
    "    def addEdge(self, u, v):\n",
    "        self.graph[u].append(v)\n",
    "\n",
    "    def topologicalSortUtil(self, v, visited, stack):\n",
    "        visited[v] = True\n",
    "\n",
    "        for i in self.graph[v]:\n",
    "            if visited[i] == False:\n",
    "                self.topologicalSortUtil(i, visited, stack)\n",
    "\n",
    "        stack.insert(0, v)\n",
    "\n",
    "    def reverseTopologicalSort(self):\n",
    "        visited = [False]*self.vertices\n",
    "        stack = []\n",
    "\n",
    "        for i in range(self.vertices):\n",
    "            if visited[i] == False:\n",
    "                self.topologicalSortUtil(i, visited, stack)\n",
    "\n",
    "        return stack"
   ]
  },
  {
   "cell_type": "code",
   "execution_count": 4,
   "id": "b397025e-2648-42b4-8588-a3d075a45a6b",
   "metadata": {
    "tags": []
   },
   "outputs": [],
   "source": [
    "# Create a graph\n",
    "g = Graph(6)\n",
    "g.addEdge(5, 2)\n",
    "g.addEdge(5, 0)\n",
    "g.addEdge(4, 0)\n",
    "g.addEdge(4, 1)\n",
    "g.addEdge(2, 3)\n",
    "g.addEdge(3, 1)"
   ]
  },
  {
   "cell_type": "code",
   "execution_count": 5,
   "id": "84a8d047-d61c-44c5-be86-b827fe0c1eb8",
   "metadata": {
    "tags": []
   },
   "outputs": [
    {
     "name": "stdout",
     "output_type": "stream",
     "text": [
      "Reverse Topological Sort of the given graph is\n",
      "[5, 4, 2, 3, 1, 0]\n"
     ]
    }
   ],
   "source": [
    "print(\"Reverse Topological Sort of the given graph is\")\n",
    "print(g.reverseTopologicalSort())\n"
   ]
  },
  {
   "cell_type": "code",
   "execution_count": 12,
   "id": "e0a34a74-757f-469b-828c-bcb84b0c718d",
   "metadata": {
    "tags": []
   },
   "outputs": [
    {
     "data": {
      "image/png": "[encoded data removed]",
      "text/plain": [
       "<Figure size 640x480 with 1 Axes>"
      ]
     },
     "metadata": {},
     "output_type": "display_data"
    }
   ],
   "source": [
    "import networkx as nx\n",
    "import matplotlib.pyplot as plt\n",
    "\n",
    "# Create a directed graph\n",
    "G = nx.DiGraph()\n",
    "\n",
    "# Add edges (connections between nodes)\n",
    "G.add_edge(\"hello\", 2)\n",
    "G.add_edge(\"hello\", 0)\n",
    "G.add_edge(4, 0)\n",
    "G.add_edge(4, 1)\n",
    "G.add_edge(2, 3)\n",
    "G.add_edge(3, 1)\n",
    "\n",
    "# Set options for the graph visualization\n",
    "options = {\n",
    "    'node_color': 'green',\n",
    "    'node_size': 1000,\n",
    "    'width': 2,\n",
    "    'arrowstyle': '-|>',\n",
    "    'arrowsize': 12,\n",
    "}\n",
    "\n",
    "# Draw the graph\n",
    "nx.draw_networkx(G, arrows=True, **options)\n",
    "\n",
    "# Show the plot\n",
    "plt.show()"
   ]
  },
  {
   "cell_type": "code",
   "execution_count": 14,
   "id": "9107e4bd-0272-403b-b700-192b9321a648",
   "metadata": {
    "tags": []
   },
   "outputs": [],
   "source": [
    "from transformer_lens import HookedTransformer"
   ]
  },
  {
   "cell_type": "code",
   "execution_count": 22,
   "id": "7f59bd49-4cd4-4a90-86aa-78dc4eb7e827",
   "metadata": {
    "tags": []
   },
   "outputs": [
    {
     "name": "stderr",
     "output_type": "stream",
     "text": [
      "Using pad_token, but it is not set yet.\n"
     ]
    },
    {
     "name": "stdout",
     "output_type": "stream",
     "text": [
      "Loaded pretrained model gpt2-small into HookedTransformer\n"
     ]
    }
   ],
   "source": [
    "model = HookedTransformer.from_pretrained(\"gpt2-small\")"
   ]
  },
  {
   "cell_type": "code",
   "execution_count": 23,
   "id": "8cb636a5-a8f2-4034-8a0d-8f1d4d958367",
   "metadata": {
    "tags": []
   },
   "outputs": [],
   "source": [
    "text = \"Persistence is all you need.\""
   ]
  },
  {
   "cell_type": "code",
   "execution_count": 24,
   "id": "3e29dbb6-d13b-4b59-8acb-ebbcf21f2052",
   "metadata": {
    "tags": []
   },
   "outputs": [],
   "source": [
    "tokens = model.to_tokens(text)"
   ]
  },
  {
   "cell_type": "code",
   "execution_count": 28,
   "id": "451144ee-f4ac-454d-b6d1-6cb0532ec4e6",
   "metadata": {
    "tags": []
   },
   "outputs": [],
   "source": [
    "_, cache = model.run_with_cache(tokens)"
   ]
  },
  {
   "cell_type": "code",
   "execution_count": 33,
   "id": "7b3df327-451d-4e9e-a252-20162118f3ad",
   "metadata": {
    "tags": []
   },
   "outputs": [],
   "source": [
    "n_layers = model.cfg.n_layers"
   ]
  },
  {
   "cell_type": "code",
   "execution_count": 34,
   "id": "5fde17ab-f82f-4090-9b97-6cbafd4e4b6c",
   "metadata": {
    "tags": []
   },
   "outputs": [
    {
     "data": {
      "text/plain": [
       "12"
      ]
     },
     "execution_count": 34,
     "metadata": {},
     "output_type": "execute_result"
    }
   ],
   "source": [
    "n_layers"
   ]
  },
  {
   "cell_type": "code",
   "execution_count": 40,
   "id": "437cc9ee-ba13-4b14-80b7-7b4f238608af",
   "metadata": {
    "tags": []
   },
   "outputs": [
    {
     "data": {
      "text/plain": [
       "False"
      ]
     },
     "execution_count": 40,
     "metadata": {},
     "output_type": "execute_result"
    }
   ],
   "source": [
    "model.cfg.attn_only"
   ]
  },
  {
   "cell_type": "code",
   "execution_count": 41,
   "id": "40f262d4-e5c4-4be2-880a-5d6f5d39849d",
   "metadata": {
    "tags": []
   },
   "outputs": [],
   "source": [
    "nodes = {}"
   ]
  },
  {
   "cell_type": "code",
   "execution_count": 42,
   "id": "68490cd9-4c66-4b87-9b10-3e71dc55acac",
   "metadata": {
    "tags": []
   },
   "outputs": [],
   "source": [
    "from transformer_lens.utils import get_act_name"
   ]
  },
  {
   "cell_type": "code",
   "execution_count": 43,
   "id": "956c5f03-bb3b-431b-bca4-060112980367",
   "metadata": {
    "tags": []
   },
   "outputs": [
    {
     "data": {
      "text/plain": [
       "'blocks.1.hook_mlp_out'"
      ]
     },
     "execution_count": 43,
     "metadata": {},
     "output_type": "execute_result"
    }
   ],
   "source": [
    "get_act_name(\"mlp_out\", 1)"
   ]
  },
  {
   "cell_type": "code",
   "execution_count": 49,
   "id": "e1a846ef-97f6-4c5c-8828-12f60fb7afa5",
   "metadata": {
    "tags": []
   },
   "outputs": [
    {
     "data": {
      "text/plain": [
       "'blocks.1.hook_mlp_in'"
      ]
     },
     "execution_count": 49,
     "metadata": {},
     "output_type": "execute_result"
    }
   ],
   "source": [
    "get_act_name(\"mlp_in\", 1)"
   ]
  },
  {
   "cell_type": "code",
   "execution_count": 48,
   "id": "926a0031-d9d1-4472-aa77-f5b197bfb815",
   "metadata": {
    "tags": []
   },
   "outputs": [],
   "source": [
    "for layer_idx in range(n_layers-1, -1, -1):\n",
    "    mlp_out_name = get_act_name(\"mlp_out\", layer_idx)\n",
    "    mlp_in_name = get_act_name(\"mlp_in\", layer_idx)"
   ]
  },
  {
   "cell_type": "code",
   "execution_count": 46,
   "id": "e30f1f03-7de4-40e1-aeab-17bbdfbd0e71",
   "metadata": {
    "tags": []
   },
   "outputs": [
    {
     "data": {
      "text/plain": [
       "tensor([[[ 0.6094,  0.1361,  0.7108,  ...,  1.6084,  1.4262,  0.4795],\n",
       "         [-0.0144,  1.7161,  1.0211,  ..., -2.1917,  0.1336, -1.1585],\n",
       "         [-1.0129,  0.5854,  1.1362,  ..., -0.0444,  0.3495, -0.1712],\n",
       "         ...,\n",
       "         [-1.0466,  1.2446, -0.4213,  ..., -0.8366, -0.6638,  1.1319],\n",
       "         [-0.7505, -1.8620, -1.0188,  ..., -2.3193,  0.9291,  1.4176],\n",
       "         [ 1.0344, -0.1551, -1.0431,  ...,  0.1558,  0.1737,  0.5119]]])"
      ]
     },
     "execution_count": 46,
     "metadata": {},
     "output_type": "execute_result"
    }
   ],
   "source": [
    "c"
   ]
  },
  {
   "cell_type": "code",
   "execution_count": null,
   "id": "2c5c1130-03db-4cf2-9241-d84c5fef5eab",
   "metadata": {},
   "outputs": [],
   "source": []
  }
 ],
 "metadata": {
  "kernelspec": {
   "display_name": "Python 3 (ipykernel)",
   "language": "python",
   "name": "python3"
  },
  "language_info": {
   "codemirror_mode": {
    "name": "ipython",
    "version": 3
   },
   "file_extension": ".py",
   "mimetype": "text/x-python",
   "name": "python",
   "nbconvert_exporter": "python",
   "pygments_lexer": "ipython3",
   "version": "3.8.16"
  }
 },
 "nbformat": 4,
 "nbformat_minor": 5
}
