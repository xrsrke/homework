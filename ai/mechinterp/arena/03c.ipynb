{
 "cells": [
  {
   "cell_type": "code",
   "execution_count": 1,
   "id": "bc953710-6193-4f79-a049-ac697b1f7f04",
   "metadata": {
    "tags": []
   },
   "outputs": [
    {
     "data": {
      "text/plain": [
       "<torch.autograd.grad_mode.set_grad_enabled at 0x7f9faa014520>"
      ]
     },
     "execution_count": 1,
     "metadata": {},
     "output_type": "execute_result"
    }
   ],
   "source": [
    "import torch\n",
    "from transformer_lens import HookedTransformer\n",
    "\n",
    "torch.set_grad_enabled(False)"
   ]
  },
  {
   "cell_type": "code",
   "execution_count": 2,
   "id": "cd1bc2b7-dfeb-4d5c-b27c-6ad6f1d0369c",
   "metadata": {
    "tags": []
   },
   "outputs": [
    {
     "name": "stderr",
     "output_type": "stream",
     "text": [
      "Using pad_token, but it is not set yet.\n"
     ]
    },
    {
     "name": "stdout",
     "output_type": "stream",
     "text": [
      "Loaded pretrained model gpt2-small into HookedTransformer\n"
     ]
    }
   ],
   "source": [
    "model = HookedTransformer.from_pretrained(\n",
    "    \"gpt2-small\",\n",
    "    center_unembed=True,\n",
    "    center_writing_weights=True,\n",
    "    fold_ln=True,\n",
    "    refactor_factored_attn_matrices=True,\n",
    ")"
   ]
  },
  {
   "cell_type": "code",
   "execution_count": 3,
   "id": "2c36b63d-d445-4aff-bf21-1b4d26db98d0",
   "metadata": {
    "tags": []
   },
   "outputs": [],
   "source": [
    "from transformer_lens.utils import get_act_name"
   ]
  },
  {
   "cell_type": "markdown",
   "id": "a2c7ace7-f524-4a37-95a3-41471e643815",
   "metadata": {
    "tags": []
   },
   "source": [
    "##### Example 1"
   ]
  },
  {
   "cell_type": "code",
   "execution_count": 7,
   "id": "761c4059-e54a-4a14-b53f-89efe6bad012",
   "metadata": {
    "tags": []
   },
   "outputs": [],
   "source": [
    "clean_prompts = [\n",
    "    \"When John and Mary went to the shops, John gave the bag to\",\n",
    "    \"When Tom and James went to the park, James gave the ball to\"\n",
    "]"
   ]
  },
  {
   "cell_type": "code",
   "execution_count": 33,
   "id": "dd976486-771d-4f0c-ad1a-187c9122d809",
   "metadata": {
    "tags": []
   },
   "outputs": [
    {
     "data": {
      "text/plain": [
       "transformer_lens.HookedTransformer.HookedTransformer"
      ]
     },
     "execution_count": 33,
     "metadata": {},
     "output_type": "execute_result"
    }
   ],
   "source": [
    "type(model)"
   ]
  },
  {
   "cell_type": "code",
   "execution_count": 34,
   "id": "f2b7798a-d44e-496e-9ced-f02e5f212816",
   "metadata": {
    "tags": []
   },
   "outputs": [
    {
     "data": {
      "text/plain": [
       "['When John and Mary went to the shops, John gave the bag to',\n",
       " 'When Tom and James went to the park, James gave the ball to']"
      ]
     },
     "execution_count": 34,
     "metadata": {},
     "output_type": "execute_result"
    }
   ],
   "source": [
    "clean_prompts"
   ]
  },
  {
   "cell_type": "markdown",
   "id": "18ef3b68-5cd2-46e6-9838-438cc627f513",
   "metadata": {},
   "source": [
    "Create an IOI metric that works as bellow"
   ]
  },
  {
   "cell_type": "code",
   "execution_count": 35,
   "id": "766f329f-e4c3-4cf0-9d18-2b5a1c539d94",
   "metadata": {
    "tags": []
   },
   "outputs": [],
   "source": [
    "corrupted_prompts = [\n",
    "    \"When John and Mary went to the shops, Mary gave the bag to\",\n",
    "    \"When Tom and James went to the part, Tom gave the ball to\"\n",
    "]"
   ]
  },
  {
   "cell_type": "code",
   "execution_count": 36,
   "id": "dd39f3f5-24d9-4f2b-b2fe-ad9953d77775",
   "metadata": {
    "tags": []
   },
   "outputs": [
    {
     "data": {
      "text/plain": [
       "(torch.Size([2, 15]), torch.Size([2, 15]))"
      ]
     },
     "execution_count": 36,
     "metadata": {},
     "output_type": "execute_result"
    }
   ],
   "source": [
    "clean_tokens = model.to_tokens(clean_prompts, prepend_bos=True)\n",
    "corrupted_tokens = model.to_tokens(corrupted_prompts, prepend_bos=True)\n",
    "clean_tokens.shape, corrupted_tokens.shape"
   ]
  },
  {
   "cell_type": "code",
   "execution_count": 37,
   "id": "7f3428c6-cc38-4565-9619-481bcc5c5798",
   "metadata": {
    "tags": []
   },
   "outputs": [
    {
     "data": {
      "text/plain": [
       "(tensor([24119,  4186]), tensor([7554, 3700]))"
      ]
     },
     "execution_count": 37,
     "metadata": {},
     "output_type": "execute_result"
    }
   ],
   "source": [
    "correct_tokens = model.to_tokens([\"Mary Tom\"], prepend_bos=False)\n",
    "incorrect_tokens = model.to_tokens([\"John James\"], prepend_bos=False)\n",
    "correct_tokens, incorrect_tokens = correct_tokens[0], incorrect_tokens[0] # ignore\n",
    "correct_tokens, incorrect_tokens"
   ]
  },
  {
   "cell_type": "code",
   "execution_count": 38,
   "id": "ac2030c3-62c7-41d3-a69d-9d40091e2f3c",
   "metadata": {
    "tags": []
   },
   "outputs": [
    {
     "data": {
      "text/plain": [
       "(torch.Size([2, 15, 50257]), torch.Size([2, 15, 50257]))"
      ]
     },
     "execution_count": 38,
     "metadata": {},
     "output_type": "execute_result"
    }
   ],
   "source": [
    "clean_logits, _ = model.run_with_cache(clean_tokens)\n",
    "corrupted_logits, _ = model.run_with_cache(corrupted_tokens)\n",
    "clean_logits.shape, corrupted_logits.shape"
   ]
  },
  {
   "cell_type": "code",
   "execution_count": 39,
   "id": "4e212c99-e076-40d1-83f3-4e76beaecc81",
   "metadata": {
    "tags": []
   },
   "outputs": [],
   "source": [
    "def compute_average_logit_difference(logits, correct_tokens, incorrect_tokens):\n",
    "    final_logits = logits[:, -1, :]\n",
    "    correct_logits = final_logits[:, correct_tokens]\n",
    "    incorrect_logits = final_logits[:, incorrect_tokens]\n",
    "    logit_diff = correct_logits - incorrect_logits\n",
    "    return logit_diff.mean()"
   ]
  },
  {
   "cell_type": "code",
   "execution_count": 40,
   "id": "de1e7d44-fd64-4c0e-a945-4e2fc0919249",
   "metadata": {
    "tags": []
   },
   "outputs": [
    {
     "data": {
      "text/plain": [
       "(tensor(0.8275), tensor(-2.3553))"
      ]
     },
     "execution_count": 40,
     "metadata": {},
     "output_type": "execute_result"
    }
   ],
   "source": [
    "clean_logit_difference = compute_average_logit_difference(clean_logits, correct_tokens, incorrect_tokens)\n",
    "corrupted_logit_difference = compute_average_logit_difference(corrupted_logits, correct_tokens, incorrect_tokens)\n",
    "clean_logit_difference, corrupted_logit_difference"
   ]
  },
  {
   "cell_type": "code",
   "execution_count": 41,
   "id": "0b9a2ba6-3aa7-42c3-a9b1-5cf4db9c0dde",
   "metadata": {
    "tags": []
   },
   "outputs": [],
   "source": [
    "def compute_ioi_metric(logits):\n",
    "    patched_logit_difference = compute_average_logit_difference(logits, correct_tokens, incorrect_tokens)\n",
    "    return (patched_logit_difference - corrupted_logit_difference) / (clean_logit_difference - corrupted_logit_difference)"
   ]
  },
  {
   "cell_type": "code",
   "execution_count": 42,
   "id": "1ede81f0-35a4-42ec-977f-3a7e004dce28",
   "metadata": {
    "tags": []
   },
   "outputs": [
    {
     "data": {
      "text/plain": [
       "tensor(1.)"
      ]
     },
     "execution_count": 42,
     "metadata": {},
     "output_type": "execute_result"
    }
   ],
   "source": [
    "compute_ioi_metric(clean_logits)"
   ]
  },
  {
   "cell_type": "code",
   "execution_count": 43,
   "id": "4614f9a6-737b-4d25-8d2c-16219e002fd9",
   "metadata": {
    "tags": []
   },
   "outputs": [
    {
     "data": {
      "text/plain": [
       "tensor(0.)"
      ]
     },
     "execution_count": 43,
     "metadata": {},
     "output_type": "execute_result"
    }
   ],
   "source": [
    "compute_ioi_metric(corrupted_logits)"
   ]
  },
  {
   "cell_type": "code",
   "execution_count": null,
   "id": "41570411-c3c4-4853-bd13-4881b4d57336",
   "metadata": {},
   "outputs": [],
   "source": []
  },
  {
   "cell_type": "code",
   "execution_count": null,
   "id": "fd71dd77-2333-4760-b765-64e40dd01b72",
   "metadata": {},
   "outputs": [],
   "source": []
  }
 ],
 "metadata": {
  "kernelspec": {
   "display_name": "Python 3 (ipykernel)",
   "language": "python",
   "name": "python3"
  },
  "language_info": {
   "codemirror_mode": {
    "name": "ipython",
    "version": 3
   },
   "file_extension": ".py",
   "mimetype": "text/x-python",
   "name": "python",
   "nbconvert_exporter": "python",
   "pygments_lexer": "ipython3",
   "version": "3.8.16"
  }
 },
 "nbformat": 4,
 "nbformat_minor": 5
}
