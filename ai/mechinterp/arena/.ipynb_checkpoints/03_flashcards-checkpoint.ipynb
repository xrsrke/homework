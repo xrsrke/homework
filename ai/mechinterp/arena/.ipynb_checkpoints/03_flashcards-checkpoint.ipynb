{
 "cells": [
  {
   "cell_type": "markdown",
   "id": "cfe9b591-e025-4bce-92e6-95583c987c03",
   "metadata": {},
   "source": [
    "##### Example 1 "
   ]
  },
  {
   "cell_type": "code",
   "execution_count": 9,
   "id": "f3559718-0023-4ded-bcd3-03380affe900",
   "metadata": {
    "tags": []
   },
   "outputs": [],
   "source": [
    "import torch"
   ]
  },
  {
   "cell_type": "code",
   "execution_count": 10,
   "id": "63798d38-4639-4785-9f25-501461c67eb8",
   "metadata": {
    "tags": []
   },
   "outputs": [],
   "source": [
    "tensor = torch.tensor([[1, 2, 3], [4, 5, 6], [7, 8, 9]])"
   ]
  },
  {
   "cell_type": "code",
   "execution_count": 23,
   "id": "ecdb17cd-d7f4-4f6b-99f5-bc333f3b5c2a",
   "metadata": {
    "tags": []
   },
   "outputs": [
    {
     "data": {
      "text/plain": [
       "tensor([[1, 2, 3],\n",
       "        [4, 5, 6],\n",
       "        [7, 8, 9]])"
      ]
     },
     "execution_count": 23,
     "metadata": {},
     "output_type": "execute_result"
    }
   ],
   "source": [
    "tensor"
   ]
  },
  {
   "cell_type": "markdown",
   "id": "748da221-0754-4180-a209-2e97617969f0",
   "metadata": {
    "tags": []
   },
   "source": [
    "Split all elements along dimension 0 into a list of tuples"
   ]
  },
  {
   "cell_type": "code",
   "execution_count": 24,
   "id": "990b5da2-062f-48fd-8f1f-76fc7aa8eb17",
   "metadata": {
    "tags": []
   },
   "outputs": [],
   "source": [
    "slices = tensor.unbind(dim=0)"
   ]
  },
  {
   "cell_type": "code",
   "execution_count": 25,
   "id": "74506399-db0b-4e16-a51b-88eb43a63d37",
   "metadata": {
    "tags": []
   },
   "outputs": [
    {
     "data": {
      "text/plain": [
       "tuple"
      ]
     },
     "execution_count": 25,
     "metadata": {},
     "output_type": "execute_result"
    }
   ],
   "source": [
    "type(slices)"
   ]
  },
  {
   "cell_type": "code",
   "execution_count": 26,
   "id": "aba0e77c-b4f1-49fa-b7c2-194138612b5c",
   "metadata": {
    "tags": []
   },
   "outputs": [
    {
     "name": "stdout",
     "output_type": "stream",
     "text": [
      "tensor([1, 2, 3])\n",
      "tensor([4, 5, 6])\n",
      "tensor([7, 8, 9])\n"
     ]
    }
   ],
   "source": [
    "for slice_tensor in slices:\n",
    "    print(slice_tensor)"
   ]
  },
  {
   "cell_type": "markdown",
   "id": "5fec4295-bef1-4d4c-a6ce-4b9d79071f53",
   "metadata": {},
   "source": [
    "##### Example 2"
   ]
  },
  {
   "cell_type": "code",
   "execution_count": 28,
   "id": "d7831e1c-ea74-4208-bce4-a0257bc80a8f",
   "metadata": {
    "tags": []
   },
   "outputs": [],
   "source": [
    "from transformer_lens import HookedTransformer"
   ]
  },
  {
   "cell_type": "code",
   "execution_count": 29,
   "id": "0293a568-4daf-4d06-80b6-ab249e36d525",
   "metadata": {
    "tags": []
   },
   "outputs": [
    {
     "name": "stderr",
     "output_type": "stream",
     "text": [
      "Using pad_token, but it is not set yet.\n"
     ]
    },
    {
     "name": "stdout",
     "output_type": "stream",
     "text": [
      "Loaded pretrained model gpt2 into HookedTransformer\n"
     ]
    }
   ],
   "source": [
    "model = HookedTransformer.from_pretrained(\"gpt2\")"
   ]
  },
  {
   "cell_type": "code",
   "execution_count": 30,
   "id": "1bc862e2-4a9d-4d89-80b7-1c1cdf9ac869",
   "metadata": {
    "tags": []
   },
   "outputs": [],
   "source": [
    "text = \"Persistence is all you need.\""
   ]
  },
  {
   "cell_type": "code",
   "execution_count": 31,
   "id": "eafd916f-aa44-48a6-b28c-e277ea90092b",
   "metadata": {
    "tags": []
   },
   "outputs": [],
   "source": [
    "tokens = model.to_tokens(text)"
   ]
  },
  {
   "cell_type": "code",
   "execution_count": 41,
   "id": "8edd18eb-b6f3-4e0a-9fac-655ae4bc48e0",
   "metadata": {
    "tags": []
   },
   "outputs": [
    {
     "data": {
      "text/plain": [
       "transformer_lens.HookedTransformer.HookedTransformer"
      ]
     },
     "execution_count": 41,
     "metadata": {},
     "output_type": "execute_result"
    }
   ],
   "source": [
    "type(model)"
   ]
  },
  {
   "cell_type": "code",
   "execution_count": 42,
   "id": "746239f2-e807-4e8c-a428-c2b8962c0cb6",
   "metadata": {
    "tags": []
   },
   "outputs": [
    {
     "data": {
      "text/plain": [
       "tensor([[50256, 30946, 13274,   318,   477,   345,   761,    13]])"
      ]
     },
     "execution_count": 42,
     "metadata": {},
     "output_type": "execute_result"
    }
   ],
   "source": [
    "tokens"
   ]
  },
  {
   "cell_type": "markdown",
   "id": "30cc39e2-2546-456b-bc90-81abbf0808fc",
   "metadata": {},
   "source": [
    "Record all the activations with a hook name that ends with \"mlp_out\""
   ]
  },
  {
   "cell_type": "code",
   "execution_count": 43,
   "id": "29e0ef1c-d0b0-46b5-b1a2-000c87ad6211",
   "metadata": {
    "tags": []
   },
   "outputs": [],
   "source": [
    "_, cache = model.run_with_cache(\n",
    "    tokens,\n",
    "    names_filter=lambda name: name.endswith(\"mlp_out\")\n",
    ")"
   ]
  },
  {
   "cell_type": "code",
   "execution_count": 44,
   "id": "a3699dcd-a03c-44f6-9582-b90dfe28066b",
   "metadata": {
    "tags": []
   },
   "outputs": [
    {
     "data": {
      "text/plain": [
       "ActivationCache with keys ['blocks.0.hook_mlp_out', 'blocks.1.hook_mlp_out', 'blocks.2.hook_mlp_out', 'blocks.3.hook_mlp_out', 'blocks.4.hook_mlp_out', 'blocks.5.hook_mlp_out', 'blocks.6.hook_mlp_out', 'blocks.7.hook_mlp_out', 'blocks.8.hook_mlp_out', 'blocks.9.hook_mlp_out', 'blocks.10.hook_mlp_out', 'blocks.11.hook_mlp_out']"
      ]
     },
     "execution_count": 44,
     "metadata": {},
     "output_type": "execute_result"
    }
   ],
   "source": [
    "cache"
   ]
  },
  {
   "cell_type": "markdown",
   "id": "36438af5-88de-4e83-a24b-0d1438cbd6bd",
   "metadata": {},
   "source": [
    "##### Example 3"
   ]
  },
  {
   "cell_type": "code",
   "execution_count": 50,
   "id": "0751b681-a2e2-4c72-8b82-ff8f3f1ea5b8",
   "metadata": {
    "tags": []
   },
   "outputs": [],
   "source": [
    "n_layers = model.cfg.n_layers\n",
    "n_heads = model.cfg.n_heads"
   ]
  },
  {
   "cell_type": "code",
   "execution_count": 62,
   "id": "046061aa-c944-481f-a5c4-7e78eab9b7c5",
   "metadata": {
    "tags": []
   },
   "outputs": [
    {
     "data": {
      "text/plain": [
       "(12, 12)"
      ]
     },
     "execution_count": 62,
     "metadata": {},
     "output_type": "execute_result"
    }
   ],
   "source": [
    "n_layers, n_heads"
   ]
  },
  {
   "cell_type": "markdown",
   "id": "97cac0b4-395e-44e4-a02e-bd2a3219e562",
   "metadata": {},
   "source": [
    "Generate the list of all possible combinations of layers and heads `(head_idx, layer_idx)` in the model"
   ]
  },
  {
   "cell_type": "code",
   "execution_count": 63,
   "id": "9bc12ec1-32f9-42cd-af8f-ad1c07da6923",
   "metadata": {
    "tags": []
   },
   "outputs": [],
   "source": [
    "from itertools import product"
   ]
  },
  {
   "cell_type": "code",
   "execution_count": 64,
   "id": "42608cbf-50f1-4519-8372-e3f779b160e5",
   "metadata": {
    "tags": []
   },
   "outputs": [],
   "source": [
    "combinations = list(product(range(n_heads), range(n_layers)))"
   ]
  },
  {
   "cell_type": "code",
   "execution_count": 65,
   "id": "fcc3d894-f21f-4f1c-acf2-5f704fd253e3",
   "metadata": {
    "tags": []
   },
   "outputs": [
    {
     "data": {
      "text/plain": [
       "144"
      ]
     },
     "execution_count": 65,
     "metadata": {},
     "output_type": "execute_result"
    }
   ],
   "source": [
    "len(combinations)"
   ]
  },
  {
   "cell_type": "code",
   "execution_count": 66,
   "id": "d15df308-a2ef-4753-a4d8-b7f504972aea",
   "metadata": {
    "tags": []
   },
   "outputs": [
    {
     "data": {
      "text/plain": [
       "[(0, 0),\n",
       " (0, 1),\n",
       " (0, 2),\n",
       " (0, 3),\n",
       " (0, 4),\n",
       " (0, 5),\n",
       " (0, 6),\n",
       " (0, 7),\n",
       " (0, 8),\n",
       " (0, 9),\n",
       " (0, 10),\n",
       " (0, 11),\n",
       " (1, 0),\n",
       " (1, 1),\n",
       " (1, 2),\n",
       " (1, 3),\n",
       " (1, 4),\n",
       " (1, 5),\n",
       " (1, 6),\n",
       " (1, 7),\n",
       " (1, 8),\n",
       " (1, 9),\n",
       " (1, 10),\n",
       " (1, 11),\n",
       " (2, 0),\n",
       " (2, 1),\n",
       " (2, 2),\n",
       " (2, 3),\n",
       " (2, 4),\n",
       " (2, 5),\n",
       " (2, 6),\n",
       " (2, 7),\n",
       " (2, 8),\n",
       " (2, 9),\n",
       " (2, 10),\n",
       " (2, 11),\n",
       " (3, 0),\n",
       " (3, 1),\n",
       " (3, 2),\n",
       " (3, 3),\n",
       " (3, 4),\n",
       " (3, 5),\n",
       " (3, 6),\n",
       " (3, 7),\n",
       " (3, 8),\n",
       " (3, 9),\n",
       " (3, 10),\n",
       " (3, 11),\n",
       " (4, 0),\n",
       " (4, 1),\n",
       " (4, 2),\n",
       " (4, 3),\n",
       " (4, 4),\n",
       " (4, 5),\n",
       " (4, 6),\n",
       " (4, 7),\n",
       " (4, 8),\n",
       " (4, 9),\n",
       " (4, 10),\n",
       " (4, 11),\n",
       " (5, 0),\n",
       " (5, 1),\n",
       " (5, 2),\n",
       " (5, 3),\n",
       " (5, 4),\n",
       " (5, 5),\n",
       " (5, 6),\n",
       " (5, 7),\n",
       " (5, 8),\n",
       " (5, 9),\n",
       " (5, 10),\n",
       " (5, 11),\n",
       " (6, 0),\n",
       " (6, 1),\n",
       " (6, 2),\n",
       " (6, 3),\n",
       " (6, 4),\n",
       " (6, 5),\n",
       " (6, 6),\n",
       " (6, 7),\n",
       " (6, 8),\n",
       " (6, 9),\n",
       " (6, 10),\n",
       " (6, 11),\n",
       " (7, 0),\n",
       " (7, 1),\n",
       " (7, 2),\n",
       " (7, 3),\n",
       " (7, 4),\n",
       " (7, 5),\n",
       " (7, 6),\n",
       " (7, 7),\n",
       " (7, 8),\n",
       " (7, 9),\n",
       " (7, 10),\n",
       " (7, 11),\n",
       " (8, 0),\n",
       " (8, 1),\n",
       " (8, 2),\n",
       " (8, 3),\n",
       " (8, 4),\n",
       " (8, 5),\n",
       " (8, 6),\n",
       " (8, 7),\n",
       " (8, 8),\n",
       " (8, 9),\n",
       " (8, 10),\n",
       " (8, 11),\n",
       " (9, 0),\n",
       " (9, 1),\n",
       " (9, 2),\n",
       " (9, 3),\n",
       " (9, 4),\n",
       " (9, 5),\n",
       " (9, 6),\n",
       " (9, 7),\n",
       " (9, 8),\n",
       " (9, 9),\n",
       " (9, 10),\n",
       " (9, 11),\n",
       " (10, 0),\n",
       " (10, 1),\n",
       " (10, 2),\n",
       " (10, 3),\n",
       " (10, 4),\n",
       " (10, 5),\n",
       " (10, 6),\n",
       " (10, 7),\n",
       " (10, 8),\n",
       " (10, 9),\n",
       " (10, 10),\n",
       " (10, 11),\n",
       " (11, 0),\n",
       " (11, 1),\n",
       " (11, 2),\n",
       " (11, 3),\n",
       " (11, 4),\n",
       " (11, 5),\n",
       " (11, 6),\n",
       " (11, 7),\n",
       " (11, 8),\n",
       " (11, 9),\n",
       " (11, 10),\n",
       " (11, 11)]"
      ]
     },
     "execution_count": 66,
     "metadata": {},
     "output_type": "execute_result"
    }
   ],
   "source": [
    "combinations"
   ]
  }
 ],
 "metadata": {
  "kernelspec": {
   "display_name": "Python 3 (ipykernel)",
   "language": "python",
   "name": "python3"
  },
  "language_info": {
   "codemirror_mode": {
    "name": "ipython",
    "version": 3
   },
   "file_extension": ".py",
   "mimetype": "text/x-python",
   "name": "python",
   "nbconvert_exporter": "python",
   "pygments_lexer": "ipython3",
   "version": "3.8.16"
  }
 },
 "nbformat": 4,
 "nbformat_minor": 5
}
