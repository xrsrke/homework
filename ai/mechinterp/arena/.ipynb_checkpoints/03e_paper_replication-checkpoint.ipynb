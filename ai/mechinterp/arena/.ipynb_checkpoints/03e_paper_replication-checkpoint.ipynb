{
 "cells": [
  {
   "cell_type": "markdown",
   "id": "55d1be29-01d6-43d8-90d7-7b195c2172e1",
   "metadata": {},
   "source": [
    "# Paper Replication"
   ]
  },
  {
   "cell_type": "code",
   "execution_count": 1,
   "id": "2868abc7-663f-47c1-854a-36bc46d31f8d",
   "metadata": {
    "tags": []
   },
   "outputs": [],
   "source": [
    "def scatter_emedding_vs_attn(\n",
    "    attn_from_end_to_io,\n",
    "    attn_from_end_to_s,\n",
    "    projection_i_io_dir,\n",
    "    projecton_in_s_dir,\n",
    "    layer, head\n",
    "):\n",
    "    pass"
   ]
  },
  {
   "cell_type": "code",
   "execution_count": 3,
   "id": "69574a3c-4cc7-4e8d-85db-6c5626f65973",
   "metadata": {
    "tags": []
   },
   "outputs": [],
   "source": [
    "from transformer_lens import HookedTransformer\n",
    "from transformer_lens.utils import get_act_name"
   ]
  },
  {
   "cell_type": "code",
   "execution_count": 4,
   "id": "3e9971a1-fc21-40d5-a341-0b2cd9023fa9",
   "metadata": {
    "tags": []
   },
   "outputs": [
    {
     "name": "stderr",
     "output_type": "stream",
     "text": [
      "Using pad_token, but it is not set yet.\n"
     ]
    },
    {
     "name": "stdout",
     "output_type": "stream",
     "text": [
      "Loaded pretrained model gpt2 into HookedTransformer\n"
     ]
    }
   ],
   "source": [
    "model = HookedTransformer.from_pretrained(\"gpt2\")"
   ]
  },
  {
   "cell_type": "code",
   "execution_count": 1,
   "id": "3918578a-06c6-483a-890b-19aa9f7c653b",
   "metadata": {},
   "outputs": [],
   "source": [
    "text = \"Persistence is all you need.\""
   ]
  },
  {
   "cell_type": "code",
   "execution_count": 5,
   "id": "00e8e2a9-2454-40fe-927f-a6aa6d5cc542",
   "metadata": {
    "tags": []
   },
   "outputs": [],
   "source": [
    "tokens = model.to_tokens(text)"
   ]
  },
  {
   "cell_type": "code",
   "execution_count": 6,
   "id": "d1845e27-5183-4fad-9fc6-db3f194b3ee7",
   "metadata": {
    "tags": []
   },
   "outputs": [
    {
     "data": {
      "text/plain": [
       "tensor([[50256, 30946, 13274,   318,   477,   345,   761,    13]])"
      ]
     },
     "execution_count": 6,
     "metadata": {},
     "output_type": "execute_result"
    }
   ],
   "source": [
    "tokens"
   ]
  },
  {
   "cell_type": "code",
   "execution_count": 7,
   "id": "9981432f-50d4-4968-9478-a7aba99b131e",
   "metadata": {
    "tags": []
   },
   "outputs": [],
   "source": [
    "_, cache = model.run_with_cache(tokens)"
   ]
  },
  {
   "cell_type": "code",
   "execution_count": 8,
   "id": "f8b941b5-9e53-455d-9c73-490abc3fc5d0",
   "metadata": {
    "tags": []
   },
   "outputs": [],
   "source": [
    "layer_idx = 1"
   ]
  },
  {
   "cell_type": "code",
   "execution_count": 9,
   "id": "7cc793d6-af80-44cd-ad8e-d19b715770f2",
   "metadata": {
    "tags": []
   },
   "outputs": [],
   "source": [
    "hook_name = get_act_name(\"z\", layer_idx)"
   ]
  },
  {
   "cell_type": "code",
   "execution_count": 10,
   "id": "5446ae10-b84f-407f-9599-310fef63ac94",
   "metadata": {
    "tags": []
   },
   "outputs": [
    {
     "data": {
      "text/plain": [
       "'blocks.1.attn.hook_z'"
      ]
     },
     "execution_count": 10,
     "metadata": {},
     "output_type": "execute_result"
    }
   ],
   "source": [
    "hook_name"
   ]
  },
  {
   "cell_type": "code",
   "execution_count": 11,
   "id": "0ec372b8-9da3-48fa-8b7e-a1e5dbb8fbc2",
   "metadata": {
    "tags": []
   },
   "outputs": [
    {
     "data": {
      "text/plain": [
       "torch.Size([1, 8, 12, 64])"
      ]
     },
     "execution_count": 11,
     "metadata": {},
     "output_type": "execute_result"
    }
   ],
   "source": [
    "cache[hook_name].shape"
   ]
  },
  {
   "cell_type": "code",
   "execution_count": null,
   "id": "8e2b8fbd-e5e5-475e-9d9c-374f4f63863e",
   "metadata": {},
   "outputs": [],
   "source": []
  }
 ],
 "metadata": {
  "kernelspec": {
   "display_name": "Python 3 (ipykernel)",
   "language": "python",
   "name": "python3"
  },
  "language_info": {
   "codemirror_mode": {
    "name": "ipython",
    "version": 3
   },
   "file_extension": ".py",
   "mimetype": "text/x-python",
   "name": "python",
   "nbconvert_exporter": "python",
   "pygments_lexer": "ipython3",
   "version": "3.8.16"
  }
 },
 "nbformat": 4,
 "nbformat_minor": 5
}
