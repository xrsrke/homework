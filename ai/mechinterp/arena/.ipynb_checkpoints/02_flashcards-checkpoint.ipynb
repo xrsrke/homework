{
 "cells": [
  {
   "cell_type": "code",
   "execution_count": 1,
   "id": "df4e8739-b1ed-45a6-a6cf-2e925e64de6c",
   "metadata": {
    "tags": []
   },
   "outputs": [],
   "source": [
    "from transformer_lens import HookedTransformer"
   ]
  },
  {
   "cell_type": "markdown",
   "id": "d17f68cb-fa46-4792-99f2-806207290fca",
   "metadata": {},
   "source": [
    "##### Example 1"
   ]
  },
  {
   "cell_type": "code",
   "execution_count": 2,
   "id": "981b8f5e-98c7-4b84-992c-41d7a4d38328",
   "metadata": {
    "tags": []
   },
   "outputs": [
    {
     "name": "stderr",
     "output_type": "stream",
     "text": [
      "Using pad_token, but it is not set yet.\n"
     ]
    },
    {
     "name": "stdout",
     "output_type": "stream",
     "text": [
      "Loaded pretrained model gpt2-small into HookedTransformer\n"
     ]
    }
   ],
   "source": [
    "model = HookedTransformer.from_pretrained(\"gpt2-small\")"
   ]
  },
  {
   "cell_type": "code",
   "execution_count": 4,
   "id": "afe1340f-8dbf-4302-96a5-4a2896d8caa9",
   "metadata": {
    "tags": []
   },
   "outputs": [
    {
     "data": {
      "text/plain": [
       "torch.Size([12, 12, 768, 64])"
      ]
     },
     "execution_count": 4,
     "metadata": {},
     "output_type": "execute_result"
    }
   ],
   "source": [
    "model.W_Q.shape"
   ]
  },
  {
   "cell_type": "code",
   "execution_count": 7,
   "id": "43edcd03-cc3b-428d-b384-10ba469c7263",
   "metadata": {
    "tags": []
   },
   "outputs": [
    {
     "data": {
      "text/plain": [
       "torch.Size([12, 768, 3072])"
      ]
     },
     "execution_count": 7,
     "metadata": {},
     "output_type": "execute_result"
    }
   ],
   "source": [
    "model.W_in.shape"
   ]
  },
  {
   "cell_type": "markdown",
   "id": "2a07a7f1-8f71-40a1-aa17-129945d86fb8",
   "metadata": {},
   "source": [
    "##### Example 2"
   ]
  },
  {
   "cell_type": "code",
   "execution_count": 11,
   "id": "1e08ac81-496a-47ee-afb6-0af37f7d71cc",
   "metadata": {
    "tags": []
   },
   "outputs": [],
   "source": [
    "def decode(x): return model.to_string(x)"
   ]
  },
  {
   "cell_type": "code",
   "execution_count": 8,
   "id": "faceeccd-bdb2-40dd-baa0-eb2a61dbea5b",
   "metadata": {
    "tags": []
   },
   "outputs": [],
   "source": [
    "text = \"Persistence is all you need.\""
   ]
  },
  {
   "cell_type": "code",
   "execution_count": 20,
   "id": "914e5d39-101e-4ad4-8aa3-52f5b1b00f8b",
   "metadata": {
    "tags": []
   },
   "outputs": [
    {
     "data": {
      "text/plain": [
       "transformer_lens.HookedTransformer.HookedTransformer"
      ]
     },
     "execution_count": 20,
     "metadata": {},
     "output_type": "execute_result"
    }
   ],
   "source": [
    "type(model)"
   ]
  },
  {
   "cell_type": "code",
   "execution_count": 21,
   "id": "602f162b-5a99-4eca-897c-f2d58d70c8db",
   "metadata": {
    "tags": []
   },
   "outputs": [
    {
     "data": {
      "text/plain": [
       "'Persistence is all you need.'"
      ]
     },
     "execution_count": 21,
     "metadata": {},
     "output_type": "execute_result"
    }
   ],
   "source": [
    "text"
   ]
  },
  {
   "cell_type": "markdown",
   "id": "d5a24acf-3daa-406c-8f3b-817866125f70",
   "metadata": {},
   "source": [
    "Convert the text into tokens with a beginning-of-sequence token"
   ]
  },
  {
   "cell_type": "code",
   "execution_count": 22,
   "id": "82d60991-a3a7-4222-9a30-35d2121e923c",
   "metadata": {
    "tags": []
   },
   "outputs": [],
   "source": [
    "tokens = model.to_tokens(text, prepend_bos=True)"
   ]
  },
  {
   "cell_type": "code",
   "execution_count": 23,
   "id": "6b340431-43bc-4d00-b14f-d80187183c43",
   "metadata": {
    "tags": []
   },
   "outputs": [
    {
     "data": {
      "text/plain": [
       "tensor([[50256, 30946, 13274,   318,   477,   345,   761,    13]])"
      ]
     },
     "execution_count": 23,
     "metadata": {},
     "output_type": "execute_result"
    }
   ],
   "source": [
    "tokens"
   ]
  },
  {
   "cell_type": "code",
   "execution_count": 24,
   "id": "fb985cc1-1133-4838-97bc-a585d7fe8e52",
   "metadata": {
    "tags": []
   },
   "outputs": [
    {
     "data": {
      "text/plain": [
       "['<|endoftext|>Persistence is all you need.']"
      ]
     },
     "execution_count": 24,
     "metadata": {},
     "output_type": "execute_result"
    }
   ],
   "source": [
    "decode(tokens)"
   ]
  },
  {
   "cell_type": "markdown",
   "id": "eceb6a8e-5d32-44be-b53d-32d718ea9261",
   "metadata": {},
   "source": [
    "##### Example 2"
   ]
  },
  {
   "cell_type": "code",
   "execution_count": 26,
   "id": "cf107673-c715-4bfa-9977-f2804e510866",
   "metadata": {
    "tags": []
   },
   "outputs": [],
   "source": [
    "from transformer_lens.utils import get_act_name"
   ]
  },
  {
   "cell_type": "code",
   "execution_count": 53,
   "id": "7e9e34e9-55e8-47a3-b98e-5ad3382cb5f0",
   "metadata": {
    "tags": []
   },
   "outputs": [],
   "source": [
    "logits, cache = model.run_with_cache(tokens)"
   ]
  },
  {
   "cell_type": "code",
   "execution_count": 54,
   "id": "010f730f-877f-498e-9b37-25154b71b008",
   "metadata": {
    "tags": []
   },
   "outputs": [
    {
     "data": {
      "text/plain": [
       "torch.Size([1, 8, 50257])"
      ]
     },
     "execution_count": 54,
     "metadata": {},
     "output_type": "execute_result"
    }
   ],
   "source": [
    "logits.shape"
   ]
  },
  {
   "cell_type": "code",
   "execution_count": 33,
   "id": "9a2931fa-ab84-41c6-820c-fc66591da144",
   "metadata": {
    "tags": []
   },
   "outputs": [],
   "source": [
    "hook_name = get_act_name(\"pattern\", 0)"
   ]
  },
  {
   "cell_type": "code",
   "execution_count": 46,
   "id": "78f96c0c-a334-4a5d-9f98-bc4316a8a3c7",
   "metadata": {
    "tags": []
   },
   "outputs": [],
   "source": [
    "layer_idx = 0"
   ]
  },
  {
   "cell_type": "code",
   "execution_count": 50,
   "id": "f0ae17fe-1d56-4527-a2a2-a47100186b64",
   "metadata": {
    "tags": []
   },
   "outputs": [],
   "source": [
    "q_hook_name = get_act_name(\"q\", layer_idx)\n",
    "k_hook_name = get_act_name(\"k\", layer_idx)"
   ]
  },
  {
   "cell_type": "code",
   "execution_count": 51,
   "id": "f4624d45-fb50-4642-9914-e4984311de0c",
   "metadata": {
    "tags": []
   },
   "outputs": [],
   "source": [
    "q = cache[q_hook_name]\n",
    "k = cache[k_hook_name]"
   ]
  },
  {
   "cell_type": "code",
   "execution_count": 52,
   "id": "bee37df6-10c0-4132-a21d-09a7c1df43b9",
   "metadata": {
    "tags": []
   },
   "outputs": [
    {
     "data": {
      "text/plain": [
       "torch.Size([1, 8, 12, 64])"
      ]
     },
     "execution_count": 52,
     "metadata": {},
     "output_type": "execute_result"
    }
   ],
   "source": [
    "q.shape"
   ]
  },
  {
   "cell_type": "markdown",
   "id": "a69e6866-302d-404e-82a9-8b91db61b6c8",
   "metadata": {},
   "source": [
    "##### Example 3"
   ]
  },
  {
   "cell_type": "code",
   "execution_count": 1,
   "id": "9ad48280-d125-46a5-ae1f-e140959bb96c",
   "metadata": {
    "tags": []
   },
   "outputs": [
    {
     "data": {
      "text/plain": [
       "<torch.autograd.grad_mode.set_grad_enabled at 0x7f96a94f7e80>"
      ]
     },
     "execution_count": 1,
     "metadata": {},
     "output_type": "execute_result"
    }
   ],
   "source": [
    "import torch\n",
    "from transformer_lens import HookedTransformer\n",
    "\n",
    "torch.set_grad_enabled(False)"
   ]
  },
  {
   "cell_type": "code",
   "execution_count": 2,
   "id": "2988195f-031d-472a-a42f-5761facb873b",
   "metadata": {
    "tags": []
   },
   "outputs": [
    {
     "name": "stderr",
     "output_type": "stream",
     "text": [
      "Using pad_token, but it is not set yet.\n"
     ]
    },
    {
     "name": "stdout",
     "output_type": "stream",
     "text": [
      "Loaded pretrained model gpt2 into HookedTransformer\n"
     ]
    }
   ],
   "source": [
    "model = HookedTransformer.from_pretrained(\"gpt2\")"
   ]
  },
  {
   "cell_type": "code",
   "execution_count": 3,
   "id": "21c014ab-50a3-4664-998e-e2341c1878eb",
   "metadata": {
    "tags": []
   },
   "outputs": [],
   "source": [
    "text = \"Persistence is all you need.\""
   ]
  },
  {
   "cell_type": "code",
   "execution_count": 4,
   "id": "67daecf3-1081-40be-82fd-05ff7dce5012",
   "metadata": {
    "tags": []
   },
   "outputs": [],
   "source": [
    "tokens = model.to_tokens(text)"
   ]
  },
  {
   "cell_type": "code",
   "execution_count": 119,
   "id": "43caaf5c-8e63-4fa7-a1d7-d2c5efeaa463",
   "metadata": {
    "tags": []
   },
   "outputs": [
    {
     "data": {
      "text/plain": [
       "(8, transformer_lens.HookedTransformer.HookedTransformer)"
      ]
     },
     "execution_count": 119,
     "metadata": {},
     "output_type": "execute_result"
    }
   ],
   "source": [
    "tokens.shape[-1], type(model)"
   ]
  },
  {
   "cell_type": "code",
   "execution_count": 120,
   "id": "5b18bd7c-1138-4028-82d1-a56954385c3e",
   "metadata": {
    "tags": []
   },
   "outputs": [
    {
     "data": {
      "text/plain": [
       "tensor([[50256, 30946, 13274,   318,   477,   345,   761,    13]])"
      ]
     },
     "execution_count": 120,
     "metadata": {},
     "output_type": "execute_result"
    }
   ],
   "source": [
    "tokens"
   ]
  },
  {
   "cell_type": "markdown",
   "id": "c363d2df-c9c1-4337-86a9-a0e916c9a258",
   "metadata": {},
   "source": [
    "Visualize the attention patter of `tokens` using `circuitsvis`\n",
    "\n",
    "**Hint**: `\"pattern\", 0, \"attn\"`"
   ]
  },
  {
   "cell_type": "code",
   "execution_count": 122,
   "id": "1e17ad6b-05d0-4cf4-9e0d-ae6fa556fa2a",
   "metadata": {
    "tags": []
   },
   "outputs": [],
   "source": [
    "from transformer_lens.utils import get_act_name\n",
    "import circuitsvis as cv\n",
    "from einops import rearrange"
   ]
  },
  {
   "cell_type": "code",
   "execution_count": 121,
   "id": "fc172c93-b528-458f-99b8-0bfcf403b3a9",
   "metadata": {
    "tags": []
   },
   "outputs": [],
   "source": [
    "_, cache = model.run_with_cache(tokens)"
   ]
  },
  {
   "cell_type": "code",
   "execution_count": 123,
   "id": "22dca077-e50d-469a-825c-a9ddbb955a58",
   "metadata": {
    "tags": []
   },
   "outputs": [],
   "source": [
    "hook_name = get_act_name(\"pattern\", 0, \"attn\")"
   ]
  },
  {
   "cell_type": "code",
   "execution_count": 124,
   "id": "7cc5b271-a937-4463-82bc-1fa2ef33744a",
   "metadata": {
    "tags": []
   },
   "outputs": [
    {
     "data": {
      "text/plain": [
       "'blocks.0.attn.hook_pattern'"
      ]
     },
     "execution_count": 124,
     "metadata": {},
     "output_type": "execute_result"
    }
   ],
   "source": [
    "hook_name"
   ]
  },
  {
   "cell_type": "code",
   "execution_count": 125,
   "id": "fb4bd03c-919a-40ee-9e62-dd89dfa91444",
   "metadata": {
    "tags": []
   },
   "outputs": [],
   "source": [
    "attention_pattern = cache[hook_name]\n",
    "str_tokens = model.to_str_tokens(tokens)"
   ]
  },
  {
   "cell_type": "code",
   "execution_count": 126,
   "id": "3da88bda-6e40-4dde-a624-197fd808a5ae",
   "metadata": {
    "tags": []
   },
   "outputs": [
    {
     "data": {
      "text/plain": [
       "torch.Size([1, 12, 8, 8])"
      ]
     },
     "execution_count": 126,
     "metadata": {},
     "output_type": "execute_result"
    }
   ],
   "source": [
    "attention_pattern.shape"
   ]
  },
  {
   "cell_type": "code",
   "execution_count": 127,
   "id": "5a5e7b1d-7e73-441d-9ad1-ff382d3d557a",
   "metadata": {
    "tags": []
   },
   "outputs": [],
   "source": [
    "attention_pattern = rearrange(attention_pattern, \"1 ... -> ...\")"
   ]
  },
  {
   "cell_type": "code",
   "execution_count": 128,
   "id": "8868827e-fdec-4c56-8fd9-7e3e96354b38",
   "metadata": {
    "tags": []
   },
   "outputs": [
    {
     "data": {
      "text/plain": [
       "['<|endoftext|>', 'Pers', 'istence', ' is', ' all', ' you', ' need', '.']"
      ]
     },
     "execution_count": 128,
     "metadata": {},
     "output_type": "execute_result"
    }
   ],
   "source": [
    "str_tokens"
   ]
  },
  {
   "cell_type": "code",
   "execution_count": 129,
   "id": "b4f590b7-ce48-4634-b1f4-5370b2643cb2",
   "metadata": {
    "tags": []
   },
   "outputs": [
    {
     "data": {
      "text/html": [
       "<div id=\"circuits-vis-09b3a447-7a4a\" style=\"margin: 15px 0;\"/>\n",
       "    <script crossorigin type=\"module\">\n",
       "    import { render, AttentionPatterns } from \"https://unpkg.com/circuitsvis@1.40.0/dist/cdn/esm.js\";\n",
       "    render(\n",
       "      \"circuits-vis-09b3a447-7a4a\",\n",
       "      AttentionPatterns,\n",
       "      {\"tokens\": [\"<|endoftext|>\", \"Pers\", \"istence\", \" is\", \" all\", \" you\", \" need\", \".\"], \"attention\": [[[1.0, 0.0, 0.0, 0.0, 0.0, 0.0, 0.0, 0.0], [0.8545405864715576, 0.1454593539237976, 0.0, 0.0, 0.0, 0.0, 0.0, 0.0], [0.6493298411369324, 0.2036396861076355, 0.14703039824962616, 0.0, 0.0, 0.0, 0.0, 0.0], [0.7525142431259155, 0.10255442559719086, 0.10474599152803421, 0.0401853546500206, 0.0, 0.0, 0.0, 0.0], [0.5509239435195923, 0.10059643536806107, 0.23426756262779236, 0.072761170566082, 0.04145095869898796, 0.0, 0.0, 0.0], [0.7032753825187683, 0.08732947707176208, 0.10149158537387848, 0.0268086027354002, 0.046447284519672394, 0.034647684544324875, 0.0, 0.0], [0.47079768776893616, 0.07348272204399109, 0.1364375501871109, 0.11882691085338593, 0.04870593175292015, 0.06708762794733047, 0.0846615806221962, 0.0], [0.5843815207481384, 0.14206326007843018, 0.11697336286306381, 0.02240665815770626, 0.031029120087623596, 0.061764560639858246, 0.032692618668079376, 0.008688976056873798]], [[1.0, 0.0, 0.0, 0.0, 0.0, 0.0, 0.0, 0.0], [7.078680937411264e-05, 0.9999291896820068, 0.0, 0.0, 0.0, 0.0, 0.0, 0.0], [4.9188107368536294e-05, 0.03753887116909027, 0.9624119997024536, 0.0, 0.0, 0.0, 0.0, 0.0], [0.0014791169669479132, 0.004212362691760063, 0.0016890442930161953, 0.9926194548606873, 0.0, 0.0, 0.0, 0.0], [0.0014928539749234915, 0.0005588414496742189, 0.0005450497847050428, 0.0018932345556095243, 0.9955099821090698, 0.0, 0.0, 0.0], [0.0019188291626051068, 0.0018066364573314786, 0.0003485100460238755, 0.0048993551172316074, 0.004745664075016975, 0.9862810373306274, 0.0, 0.0], [8.986256580101326e-05, 0.001841272576712072, 0.0015125240897759795, 0.0038191296625882387, 0.0005154023529030383, 0.0014815768226981163, 0.990740180015564, 0.0], [0.01472217682749033, 0.0003104745701421052, 0.0007665471639484167, 0.0002426127321086824, 0.0003970397519879043, 0.000762790092267096, 0.00016924359078984708, 0.9826290607452393]], [[1.0, 0.0, 0.0, 0.0, 0.0, 0.0, 0.0, 0.0], [0.9736290574073792, 0.026370901614427567, 0.0, 0.0, 0.0, 0.0, 0.0, 0.0], [0.8928542733192444, 0.07743493467569351, 0.02971084788441658, 0.0, 0.0, 0.0, 0.0, 0.0], [0.7835272550582886, 0.041512928903102875, 0.036865901201963425, 0.1380939930677414, 0.0, 0.0, 0.0, 0.0], [0.7545995116233826, 0.04479041323065758, 0.02912992238998413, 0.11421402543783188, 0.05726604163646698, 0.0, 0.0, 0.0], [0.6480572819709778, 0.02802763693034649, 0.043403636664152145, 0.14829260110855103, 0.07210168987512589, 0.06011723726987839, 0.0, 0.0], [0.5171645283699036, 0.08899618685245514, 0.05298570543527603, 0.09212484210729599, 0.09207447618246078, 0.08513091504573822, 0.07152335345745087, 0.0], [0.4187164902687073, 0.039088230580091476, 0.018928539007902145, 0.21098342537879944, 0.03005155920982361, 0.06912857294082642, 0.1633973866701126, 0.049705710262060165]], [[1.0, 0.0, 0.0, 0.0, 0.0, 0.0, 0.0, 0.0], [0.005882621742784977, 0.9941173791885376, 0.0, 0.0, 0.0, 0.0, 0.0, 0.0], [0.0055515640415251255, 0.9022296071052551, 0.09221889078617096, 0.0, 0.0, 0.0, 0.0, 0.0], [0.11829140037298203, 0.023486830294132233, 0.0359591543674469, 0.8222625851631165, 0.0, 0.0, 0.0, 0.0], [0.009532354772090912, 0.0005888904561288655, 0.005652019288390875, 0.018382856622338295, 0.9658438563346863, 0.0, 0.0, 0.0], [0.013729525730013847, 0.02102477289736271, 0.002231739927083254, 0.03138091415166855, 0.08561675995588303, 0.8460162281990051, 0.0, 0.0], [0.006509543862193823, 0.0005243273917585611, 0.00298089487478137, 0.0034895751159638166, 0.01107457559555769, 0.049962639808654785, 0.9254584312438965, 0.0], [0.05453028529882431, 0.009322144091129303, 0.007835333235561848, 0.05630497634410858, 0.09566567093133926, 0.1129317507147789, 0.2533859312534332, 0.41002386808395386]], [[1.0, 0.0, 0.0, 0.0, 0.0, 0.0, 0.0, 0.0], [0.0953349694609642, 0.9046650528907776, 0.0, 0.0, 0.0, 0.0, 0.0, 0.0], [0.0015417550457641482, 0.7353447675704956, 0.26311343908309937, 0.0, 0.0, 0.0, 0.0, 0.0], [0.4561670422554016, 0.16092728078365326, 0.12286003679037094, 0.2600456476211548, 0.0, 0.0, 0.0, 0.0], [0.22846545279026031, 0.07410209625959396, 0.06139780953526497, 0.21830186247825623, 0.4177328050136566, 0.0, 0.0, 0.0], [0.26535236835479736, 0.09915944933891296, 0.04507812485098839, 0.15589532256126404, 0.17878900468349457, 0.2557256817817688, 0.0, 0.0], [0.08711639791727066, 0.052809327840805054, 0.05212504044175148, 0.04231465980410576, 0.12255480140447617, 0.10215938836336136, 0.5409204363822937, 0.0], [0.0699690729379654, 0.02395131066441536, 0.022644691169261932, 0.07251480966806412, 0.12641344964504242, 0.13720063865184784, 0.18379747867584229, 0.36350852251052856]], [[1.0, 0.0, 0.0, 0.0, 0.0, 0.0, 0.0, 0.0], [0.007757987827062607, 0.9922419786453247, 0.0, 0.0, 0.0, 0.0, 0.0, 0.0], [0.04622195288538933, 0.02666121907532215, 0.927116870880127, 0.0, 0.0, 0.0, 0.0, 0.0], [0.22420677542686462, 0.0010552566964179277, 0.0005394055624492466, 0.774198591709137, 0.0, 0.0, 0.0, 0.0], [0.1306561529636383, 0.0002886645670514554, 4.8997429985320196e-05, 0.000457413902040571, 0.8685487508773804, 0.0, 0.0, 0.0], [0.14487972855567932, 0.00272223143838346, 0.0001111921519623138, 0.0011292921844869852, 0.005027167499065399, 0.8461304306983948, 0.0, 0.0], [0.027823321521282196, 0.002192904707044363, 0.00011297890159767121, 9.673750173533335e-05, 7.259703852469102e-05, 4.490995343076065e-05, 0.9696565270423889, 0.0], [0.307512104511261, 0.02702430821955204, 0.02328040823340416, 0.060478780418634415, 0.05989163741469383, 0.05621427297592163, 0.10330615937709808, 0.3622923791408539]], [[1.0, 0.0, 0.0, 0.0, 0.0, 0.0, 0.0, 0.0], [0.8550437092781067, 0.1449562907218933, 0.0, 0.0, 0.0, 0.0, 0.0, 0.0], [0.5509380102157593, 0.23786546289920807, 0.21119649708271027, 0.0, 0.0, 0.0, 0.0, 0.0], [0.360749751329422, 0.3048633635044098, 0.29575031995773315, 0.038636453449726105, 0.0, 0.0, 0.0, 0.0], [0.3061724007129669, 0.23601262271404266, 0.34429770708084106, 0.041809555143117905, 0.07170772552490234, 0.0, 0.0, 0.0], [0.4191593825817108, 0.2793075442314148, 0.19440701603889465, 0.03703766688704491, 0.05383053049445152, 0.0162578746676445, 0.0, 0.0], [0.2958524823188782, 0.16872738301753998, 0.24345406889915466, 0.04969949275255203, 0.07048479467630386, 0.05627720430493355, 0.11550457775592804, 0.0], [0.26965710520744324, 0.3440283238887787, 0.24041427671909332, 0.02017091028392315, 0.031241271644830704, 0.01753472536802292, 0.07186111062765121, 0.005092282313853502]], [[1.0, 0.0, 0.0, 0.0, 0.0, 0.0, 0.0, 0.0], [0.9692769050598145, 0.030723094940185547, 0.0, 0.0, 0.0, 0.0, 0.0, 0.0], [0.4128659665584564, 0.5602231025695801, 0.026910897344350815, 0.0, 0.0, 0.0, 0.0, 0.0], [0.36060211062431335, 0.24748781323432922, 0.13222897052764893, 0.25968119502067566, 0.0, 0.0, 0.0, 0.0], [0.2896682918071747, 0.06105645373463631, 0.0988551676273346, 0.32069671154022217, 0.22972340881824493, 0.0, 0.0, 0.0], [0.23521386086940765, 0.03836558014154434, 0.05477960780262947, 0.1719353049993515, 0.2604159414768219, 0.23928968608379364, 0.0, 0.0], [0.1639195829629898, 0.014647855423390865, 0.026648150756955147, 0.13534900546073914, 0.15878699719905853, 0.36461248993873596, 0.13603588938713074, 0.0], [0.08655673265457153, 0.05083894357085228, 0.017401738092303276, 0.06580864638090134, 0.1108761727809906, 0.16261419653892517, 0.14342504739761353, 0.36247843503952026]], [[1.0, 0.0, 0.0, 0.0, 0.0, 0.0, 0.0, 0.0], [0.9656878709793091, 0.034312162548303604, 0.0, 0.0, 0.0, 0.0, 0.0, 0.0], [0.6434369087219238, 0.31360089778900146, 0.04296217858791351, 0.0, 0.0, 0.0, 0.0, 0.0], [0.32744187116622925, 0.03540134057402611, 0.0337393693625927, 0.6034174561500549, 0.0, 0.0, 0.0, 0.0], [0.24808712303638458, 0.02584869973361492, 0.02903733216226101, 0.5079880356788635, 0.18903876841068268, 0.0, 0.0, 0.0], [0.2569621801376343, 0.010888389311730862, 0.03196348622441292, 0.24322158098220825, 0.098258376121521, 0.3587060570716858, 0.0, 0.0], [0.18178151547908783, 0.036777518689632416, 0.03951307758688927, 0.2129390388727188, 0.12553861737251282, 0.3145560622215271, 0.08889420330524445, 0.0], [0.12018817663192749, 0.013161883689463139, 0.004902378190308809, 0.1268531233072281, 0.0575297512114048, 0.05893872678279877, 0.020050114020705223, 0.5983758568763733]], [[1.0, 0.0, 0.0, 0.0, 0.0, 0.0, 0.0, 0.0], [0.9675784111022949, 0.03242151439189911, 0.0, 0.0, 0.0, 0.0, 0.0, 0.0], [0.8401190638542175, 0.1266895979642868, 0.033191390335559845, 0.0, 0.0, 0.0, 0.0, 0.0], [0.6832436919212341, 0.07951388508081436, 0.08434992283582687, 0.15289244055747986, 0.0, 0.0, 0.0, 0.0], [0.6359329223632812, 0.058645859360694885, 0.05849989876151085, 0.1274651139974594, 0.11945611238479614, 0.0, 0.0, 0.0], [0.5582171678543091, 0.0694785863161087, 0.06050674617290497, 0.11457299441099167, 0.11249612271785736, 0.08472839742898941, 0.0, 0.0], [0.43202269077301025, 0.06884297728538513, 0.06890309602022171, 0.13038060069084167, 0.11121053248643875, 0.11011239141225815, 0.07852765172719955, 0.0], [0.41961926221847534, 0.05993229150772095, 0.05526795610785484, 0.09516756236553192, 0.09581667184829712, 0.09547938406467438, 0.0718599185347557, 0.10685686022043228]], [[1.0, 0.0, 0.0, 0.0, 0.0, 0.0, 0.0, 0.0], [0.7560045123100281, 0.24399550259113312, 0.0, 0.0, 0.0, 0.0, 0.0, 0.0], [0.6295869946479797, 0.13583213090896606, 0.23458097875118256, 0.0, 0.0, 0.0, 0.0, 0.0], [0.5743931531906128, 0.0819755494594574, 0.03637765347957611, 0.3072536885738373, 0.0, 0.0, 0.0, 0.0], [0.49511829018592834, 0.05555984377861023, 0.03135848417878151, 0.09523662179708481, 0.3227268159389496, 0.0, 0.0, 0.0], [0.3623191714286804, 0.060016825795173645, 0.022166229784488678, 0.12435204535722733, 0.10787127912044525, 0.3232744336128235, 0.0, 0.0], [0.3487769663333893, 0.06081201508641243, 0.03547986224293709, 0.13613536953926086, 0.0885874480009079, 0.09345372021198273, 0.23675453662872314, 0.0], [0.3679463863372803, 0.060487523674964905, 0.05000250041484833, 0.12270448356866837, 0.09247469156980515, 0.08500207960605621, 0.06255137920379639, 0.15883095562458038]], [[1.0, 0.0, 0.0, 0.0, 0.0, 0.0, 0.0, 0.0], [0.8729172945022583, 0.1270827054977417, 0.0, 0.0, 0.0, 0.0, 0.0, 0.0], [0.7495295405387878, 0.1752607822418213, 0.07520968466997147, 0.0, 0.0, 0.0, 0.0, 0.0], [0.707209050655365, 0.1068803071975708, 0.04291630908846855, 0.14299429953098297, 0.0, 0.0, 0.0, 0.0], [0.6275639533996582, 0.12507906556129456, 0.05289147421717644, 0.09902001917362213, 0.09544549137353897, 0.0, 0.0, 0.0], [0.5381032228469849, 0.11267755180597305, 0.0526433065533638, 0.13001689314842224, 0.08797143399715424, 0.07858756184577942, 0.0, 0.0], [0.49995672702789307, 0.11497583985328674, 0.05017269402742386, 0.07568690925836563, 0.07219841331243515, 0.04394235834479332, 0.1430671364068985, 0.0], [0.39740103483200073, 0.0843818411231041, 0.05023598298430443, 0.07997661828994751, 0.0814908891916275, 0.05333729833364487, 0.10865471512079239, 0.14452162384986877]]]}\n",
       "    )\n",
       "    </script>"
      ],
      "text/plain": [
       "<circuitsvis.utils.render.RenderedHTML at 0x7f96b9c2bf10>"
      ]
     },
     "execution_count": 129,
     "metadata": {},
     "output_type": "execute_result"
    }
   ],
   "source": [
    "cv.attention.attention_patterns(\n",
    "    tokens=str_tokens,\n",
    "    attention=attention_pattern,\n",
    ")"
   ]
  },
  {
   "cell_type": "markdown",
   "id": "23e37977-51c5-4e06-b946-a1651492a770",
   "metadata": {},
   "source": [
    "##### Example 4"
   ]
  },
  {
   "cell_type": "code",
   "execution_count": 164,
   "id": "51e4118e-5012-4120-8f30-5ed09b56d912",
   "metadata": {
    "tags": []
   },
   "outputs": [],
   "source": [
    "params = {\n",
    "    \"d_model\": 768,\n",
    "    \"d_head\": 64,\n",
    "    \"n_heads\": 12,\n",
    "    \"n_layers\": 2,\n",
    "    \"n_ctx\": 2048,\n",
    "    \"attn_only\": True, # defaults to False\n",
    "    \"d_vocab\": 50278,\n",
    "}"
   ]
  },
  {
   "cell_type": "code",
   "execution_count": 172,
   "id": "2108d3b6-3d28-4e5c-b0ed-9ba6aa97b4a9",
   "metadata": {
    "tags": []
   },
   "outputs": [
    {
     "data": {
      "text/plain": [
       "{'d_model': 768,\n",
       " 'd_head': 64,\n",
       " 'n_heads': 12,\n",
       " 'n_layers': 2,\n",
       " 'n_ctx': 2048,\n",
       " 'attn_only': True,\n",
       " 'd_vocab': 50278}"
      ]
     },
     "execution_count": 172,
     "metadata": {},
     "output_type": "execute_result"
    }
   ],
   "source": [
    "params"
   ]
  },
  {
   "cell_type": "markdown",
   "id": "52479248-0352-48c8-a924-3fc480f5c6eb",
   "metadata": {},
   "source": [
    "Create a new custom model based on the configurations in `params`"
   ]
  },
  {
   "cell_type": "code",
   "execution_count": 173,
   "id": "5984e66c-eecf-446a-9d6e-40c5894253c1",
   "metadata": {},
   "outputs": [],
   "source": [
    "from transformer_lens import HookedTransformer, HookedTransformerConfig"
   ]
  },
  {
   "cell_type": "code",
   "execution_count": 174,
   "id": "1c46bf96-7a84-4bb0-8d5f-295c3ef706a8",
   "metadata": {
    "tags": []
   },
   "outputs": [],
   "source": [
    "cfg = HookedTransformerConfig(**params)"
   ]
  },
  {
   "cell_type": "code",
   "execution_count": 175,
   "id": "76fe8624-7f20-44c6-b07f-b58808630930",
   "metadata": {
    "tags": []
   },
   "outputs": [],
   "source": [
    "model = HookedTransformer(cfg=cfg)"
   ]
  },
  {
   "cell_type": "code",
   "execution_count": 176,
   "id": "8aaa6b06-98bc-40f2-9adc-812c6cfa5397",
   "metadata": {
    "tags": []
   },
   "outputs": [
    {
     "data": {
      "text/plain": [
       "transformer_lens.HookedTransformer.HookedTransformer"
      ]
     },
     "execution_count": 176,
     "metadata": {},
     "output_type": "execute_result"
    }
   ],
   "source": [
    "type(model)"
   ]
  },
  {
   "cell_type": "markdown",
   "id": "64036b65-6bb5-47e9-ad98-93ee5a284ea9",
   "metadata": {},
   "source": [
    "##### Example 5"
   ]
  },
  {
   "cell_type": "code",
   "execution_count": 40,
   "id": "48f185d0-55b5-463d-8498-4a5ab5207dd9",
   "metadata": {
    "tags": []
   },
   "outputs": [
    {
     "data": {
      "text/plain": [
       "<torch.autograd.grad_mode.set_grad_enabled at 0x7fe41b6d62b0>"
      ]
     },
     "execution_count": 40,
     "metadata": {},
     "output_type": "execute_result"
    }
   ],
   "source": [
    "import torch\n",
    "from transformer_lens import HookedTransformer, HookedTransformerConfig\n",
    "\n",
    "torch.set_grad_enabled(False)"
   ]
  },
  {
   "cell_type": "code",
   "execution_count": 41,
   "id": "147e4313-c2bb-476b-a4bb-4dddb689a46b",
   "metadata": {
    "tags": []
   },
   "outputs": [
    {
     "name": "stderr",
     "output_type": "stream",
     "text": [
      "Using pad_token, but it is not set yet.\n"
     ]
    },
    {
     "name": "stdout",
     "output_type": "stream",
     "text": [
      "Loaded pretrained model gpt2 into HookedTransformer\n"
     ]
    }
   ],
   "source": [
    "model = HookedTransformer.from_pretrained(\"gpt2\")"
   ]
  },
  {
   "cell_type": "code",
   "execution_count": 92,
   "id": "66e5d152-0ada-4f54-8ee6-6517de78e228",
   "metadata": {
    "tags": []
   },
   "outputs": [],
   "source": [
    "text = \"Persistence is all you need.\""
   ]
  },
  {
   "cell_type": "code",
   "execution_count": 119,
   "id": "0074341f-61fd-495f-beb4-30d5ea9abbe3",
   "metadata": {
    "tags": []
   },
   "outputs": [
    {
     "data": {
      "text/plain": [
       "transformer_lens.HookedTransformer.HookedTransformer"
      ]
     },
     "execution_count": 119,
     "metadata": {},
     "output_type": "execute_result"
    }
   ],
   "source": [
    "type(model)"
   ]
  },
  {
   "cell_type": "code",
   "execution_count": 120,
   "id": "46c99c7d-c31e-4c5d-a0be-b10de239e82e",
   "metadata": {
    "tags": []
   },
   "outputs": [
    {
     "data": {
      "text/plain": [
       "'Persistence is all you need.'"
      ]
     },
     "execution_count": 120,
     "metadata": {},
     "output_type": "execute_result"
    }
   ],
   "source": [
    "text"
   ]
  },
  {
   "cell_type": "markdown",
   "id": "9bd32f4f-5c8f-4d8e-926f-c23cbba7df0d",
   "metadata": {},
   "source": [
    "Extract the unembedding vectors corresponding to the target tokens at each position in the `text`"
   ]
  },
  {
   "cell_type": "code",
   "execution_count": 121,
   "id": "5ac51bd7-d8ef-4eec-a8f9-411fc63b4509",
   "metadata": {
    "tags": []
   },
   "outputs": [
    {
     "data": {
      "text/plain": [
       "torch.Size([1, 8])"
      ]
     },
     "execution_count": 121,
     "metadata": {},
     "output_type": "execute_result"
    }
   ],
   "source": [
    "tokens = model.to_tokens(text)\n",
    "tokens.shape"
   ]
  },
  {
   "cell_type": "code",
   "execution_count": 122,
   "id": "0ddf6c98-e946-4bea-a91b-c945c333f8ad",
   "metadata": {
    "tags": []
   },
   "outputs": [
    {
     "data": {
      "text/plain": [
       "torch.Size([8])"
      ]
     },
     "execution_count": 122,
     "metadata": {},
     "output_type": "execute_result"
    }
   ],
   "source": [
    "tokens = tokens[0]\n",
    "tokens.shape"
   ]
  },
  {
   "cell_type": "code",
   "execution_count": 123,
   "id": "1d71411a-1334-4e04-b7d9-e4eb2c00bf9e",
   "metadata": {
    "tags": []
   },
   "outputs": [
    {
     "data": {
      "text/plain": [
       "torch.Size([768, 50257])"
      ]
     },
     "execution_count": 123,
     "metadata": {},
     "output_type": "execute_result"
    }
   ],
   "source": [
    "W_U = model.W_U\n",
    "W_U.shape"
   ]
  },
  {
   "cell_type": "code",
   "execution_count": 124,
   "id": "a58e4e20-2cd4-4582-908c-de65fd976d2f",
   "metadata": {
    "tags": []
   },
   "outputs": [
    {
     "data": {
      "text/plain": [
       "torch.Size([7])"
      ]
     },
     "execution_count": 124,
     "metadata": {},
     "output_type": "execute_result"
    }
   ],
   "source": [
    "target_tokens = tokens[1:]\n",
    "target_tokens.shape"
   ]
  },
  {
   "cell_type": "code",
   "execution_count": 125,
   "id": "a1c196f9-ce14-4c35-94f7-63c3b3afc7e8",
   "metadata": {
    "tags": []
   },
   "outputs": [],
   "source": [
    "W_U_correct_tokens = W_U[:, target_tokens]"
   ]
  },
  {
   "cell_type": "code",
   "execution_count": 126,
   "id": "82e67a7a-b748-4e02-90d0-5eb82534836f",
   "metadata": {
    "tags": []
   },
   "outputs": [
    {
     "data": {
      "text/plain": [
       "torch.Size([768, 7])"
      ]
     },
     "execution_count": 126,
     "metadata": {},
     "output_type": "execute_result"
    }
   ],
   "source": [
    "W_U_correct_tokens.shape"
   ]
  },
  {
   "cell_type": "markdown",
   "id": "32b4949f-6b51-4314-88ac-bb90d16eb57e",
   "metadata": {},
   "source": [
    "##### Example 6"
   ]
  },
  {
   "cell_type": "code",
   "execution_count": 1,
   "id": "879891db-0e2f-4fca-93b9-5312669e535a",
   "metadata": {
    "tags": []
   },
   "outputs": [
    {
     "data": {
      "text/plain": [
       "<torch.autograd.grad_mode.set_grad_enabled at 0x7fef4136ca90>"
      ]
     },
     "execution_count": 1,
     "metadata": {},
     "output_type": "execute_result"
    }
   ],
   "source": [
    "import torch\n",
    "from transformer_lens import HookedTransformer, HookedTransformerConfig\n",
    "from transformer_lens.utils import get_act_name\n",
    "\n",
    "torch.set_grad_enabled(False)"
   ]
  },
  {
   "cell_type": "code",
   "execution_count": 2,
   "id": "3002c71c-673b-4fec-86ac-d8c92e72b56d",
   "metadata": {
    "tags": []
   },
   "outputs": [
    {
     "name": "stderr",
     "output_type": "stream",
     "text": [
      "Using pad_token, but it is not set yet.\n"
     ]
    },
    {
     "name": "stdout",
     "output_type": "stream",
     "text": [
      "Loaded pretrained model gpt2 into HookedTransformer\n"
     ]
    }
   ],
   "source": [
    "model = HookedTransformer.from_pretrained(\"gpt2\")"
   ]
  },
  {
   "cell_type": "code",
   "execution_count": 3,
   "id": "cb542b67-aad9-4bcf-a6ad-ff9859240c5c",
   "metadata": {
    "tags": []
   },
   "outputs": [],
   "source": [
    "text = \"Persistence is all you need.\""
   ]
  },
  {
   "cell_type": "code",
   "execution_count": 4,
   "id": "732db06a-d28b-4bab-bf48-8dbf10c15f0c",
   "metadata": {},
   "outputs": [],
   "source": [
    "tokens = model.to_tokens(text)[0]"
   ]
  },
  {
   "cell_type": "code",
   "execution_count": 5,
   "id": "44c861fd-1af0-4769-809e-2a189b231c7e",
   "metadata": {
    "tags": []
   },
   "outputs": [],
   "source": [
    "hook_name = get_act_name(\"embed\")"
   ]
  },
  {
   "cell_type": "code",
   "execution_count": 24,
   "id": "f0dd7917-191a-4a2b-8622-94d881280fb4",
   "metadata": {
    "tags": []
   },
   "outputs": [
    {
     "data": {
      "text/plain": [
       "transformer_lens.HookedTransformer.HookedTransformer"
      ]
     },
     "execution_count": 24,
     "metadata": {},
     "output_type": "execute_result"
    }
   ],
   "source": [
    "type(model)"
   ]
  },
  {
   "cell_type": "code",
   "execution_count": 25,
   "id": "897e5798-90f5-4823-9ce8-ad6bf4ffe0a6",
   "metadata": {
    "tags": []
   },
   "outputs": [
    {
     "data": {
      "text/plain": [
       "tensor([50256, 30946, 13274,   318,   477,   345,   761,    13])"
      ]
     },
     "execution_count": 25,
     "metadata": {},
     "output_type": "execute_result"
    }
   ],
   "source": [
    "tokens"
   ]
  },
  {
   "cell_type": "code",
   "execution_count": 26,
   "id": "aa7fd324-c953-4076-bfb5-1209fb5aa127",
   "metadata": {
    "tags": []
   },
   "outputs": [
    {
     "data": {
      "text/plain": [
       "('hook_embed', torch.Size([8]))"
      ]
     },
     "execution_count": 26,
     "metadata": {},
     "output_type": "execute_result"
    }
   ],
   "source": [
    "hook_name, tokens.shape"
   ]
  },
  {
   "cell_type": "markdown",
   "id": "dc8f78a5-23e6-49ae-b6b5-1377f5bbbd95",
   "metadata": {},
   "source": [
    "Compute the logit attribution for the embedding layer. Explain\n",
    "\n",
    "**Hints**:, `weight @ component`, `embed.shape = (seq, emd)`, `weight.shape = (emd, seq)`"
   ]
  },
  {
   "cell_type": "code",
   "execution_count": 27,
   "id": "0e04f28e-6695-44c2-8fab-933cb3313038",
   "metadata": {
    "tags": []
   },
   "outputs": [],
   "source": [
    "from einops import einsum"
   ]
  },
  {
   "cell_type": "code",
   "execution_count": 28,
   "id": "2d404c1b-d35f-499a-b09b-fa2d6d95aab2",
   "metadata": {
    "tags": []
   },
   "outputs": [],
   "source": [
    "_, cache = model.run_with_cache(tokens, remove_batch_dim=True)\n",
    "W_U = model.W_U\n",
    "embed_activations = cache[hook_name]"
   ]
  },
  {
   "cell_type": "code",
   "execution_count": 29,
   "id": "c52f6ad4-d9db-4cbe-9bb3-c90b1a5254f1",
   "metadata": {
    "tags": []
   },
   "outputs": [
    {
     "data": {
      "text/plain": [
       "(torch.Size([768, 50257]), torch.Size([8, 768]))"
      ]
     },
     "execution_count": 29,
     "metadata": {},
     "output_type": "execute_result"
    }
   ],
   "source": [
    "W_U.shape, embed_activations.shape"
   ]
  },
  {
   "cell_type": "code",
   "execution_count": 30,
   "id": "9eee2444-70e8-4c76-a574-13ef33253229",
   "metadata": {
    "tags": []
   },
   "outputs": [],
   "source": [
    "target_tokens = tokens[1:]\n",
    "W_U_target_tokens = unembed[:, target_tokens]"
   ]
  },
  {
   "cell_type": "code",
   "execution_count": 31,
   "id": "25466bdf-adca-4f3c-8113-add6240560b6",
   "metadata": {
    "tags": []
   },
   "outputs": [
    {
     "data": {
      "text/plain": [
       "(torch.Size([7]), torch.Size([768, 7]))"
      ]
     },
     "execution_count": 31,
     "metadata": {},
     "output_type": "execute_result"
    }
   ],
   "source": [
    "target_tokens.shape, unembed_target_tokens.shape"
   ]
  },
  {
   "cell_type": "code",
   "execution_count": 32,
   "id": "29161546-05ed-4670-a220-f0f85b6a840e",
   "metadata": {
    "tags": []
   },
   "outputs": [],
   "source": [
    "embed_attributions = einsum(W_U_target_tokens, embed_activations[:-1],\"emb seq, seq emb -> seq\")"
   ]
  },
  {
   "cell_type": "code",
   "execution_count": 33,
   "id": "7918d41c-2dbd-4054-a425-5d82658f5ff0",
   "metadata": {
    "tags": []
   },
   "outputs": [
    {
     "data": {
      "text/plain": [
       "torch.Size([7])"
      ]
     },
     "execution_count": 33,
     "metadata": {},
     "output_type": "execute_result"
    }
   ],
   "source": [
    "embed_attributions.shape"
   ]
  },
  {
   "cell_type": "code",
   "execution_count": null,
   "id": "0f810f18-e1a8-4bcf-8ec7-68be76fd35a7",
   "metadata": {},
   "outputs": [],
   "source": []
  },
  {
   "cell_type": "code",
   "execution_count": null,
   "id": "f4349e60-0c27-4d8a-8f80-c4d4ee4a8cba",
   "metadata": {},
   "outputs": [],
   "source": []
  }
 ],
 "metadata": {
  "kernelspec": {
   "display_name": "Python 3 (ipykernel)",
   "language": "python",
   "name": "python3"
  },
  "language_info": {
   "codemirror_mode": {
    "name": "ipython",
    "version": 3
   },
   "file_extension": ".py",
   "mimetype": "text/x-python",
   "name": "python",
   "nbconvert_exporter": "python",
   "pygments_lexer": "ipython3",
   "version": "3.8.16"
  }
 },
 "nbformat": 4,
 "nbformat_minor": 5
}
