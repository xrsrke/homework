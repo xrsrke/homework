{
 "cells": [
  {
   "cell_type": "code",
   "execution_count": null,
   "id": "45021f96-0251-422e-9c36-e93984493a6b",
   "metadata": {},
   "outputs": [],
   "source": [
    "import torch\n",
    "from torch import nn\n",
    "from torch.nn import functional as F\n",
    "\n",
    "from typing import Optional\n",
    "\n",
    "from dataclasses import dataclass, replace\n",
    "import numpy as np\n",
    "import einops\n",
    "\n",
    "from tqdm.notebook import trange\n",
    "\n",
    "import time\n",
    "import pandas as pd\n",
    "\n",
    "import plotly.express as px\n",
    "import plotly.graph_objects as go\n",
    "from plotly.subplots import make_subplots\n",
    "\n",
    "import matplotlib.pyplot as plt"
   ]
  },
  {
   "cell_type": "code",
   "execution_count": null,
   "id": "ce3009b3-9666-480a-b748-1694480d465c",
   "metadata": {},
   "outputs": [],
   "source": [
    "@dataclass\n",
    "class Config:\n",
    "    n_features: int\n",
    "    n_hidden: int\n",
    "\n",
    "    # We optimize n_instances models in a single training loop\n",
    "    # to let us sweep over sparsity or importance curves \n",
    "    # efficiently.\n",
    "    \n",
    "    # We could potentially use torch.vmap instead.\n",
    "    n_instances: int"
   ]
  },
  {
   "cell_type": "code",
   "execution_count": null,
   "id": "c3acb9c1-f4cf-41b1-9ae8-185886b8b3eb",
   "metadata": {},
   "outputs": [],
   "source": [
    "class Model(nn.Module):\n",
    "  def __init__(self, \n",
    "               config, \n",
    "               feature_probability: Optional[torch.Tensor] = None,\n",
    "               importance: Optional[torch.Tensor] = None,               \n",
    "               device='cuda'):\n",
    "    super().__init__()\n",
    "    self.config = config\n",
    "    self.W = nn.Parameter(torch.empty((config.n_instances, config.n_features, config.n_hidden), device=device))\n",
    "    nn.init.xavier_normal_(self.W)\n",
    "    self.b_final = nn.Parameter(torch.zeros((config.n_instances, config.n_features), device=device))\n",
    "\n",
    "    if feature_probability is None:\n",
    "      feature_probability = torch.ones(())\n",
    "    self.feature_probability = feature_probability.to(device)\n",
    "    if importance is None:\n",
    "      importance = torch.ones(())\n",
    "    self.importance = importance.to(device)\n",
    "\n",
    "  def forward(self, features):\n",
    "    # features: [..., instance, n_features]\n",
    "    # W: [instance, n_features, n_hidden]\n",
    "    hidden = torch.einsum(\"...if,ifh->...ih\", features, self.W)\n",
    "    out = torch.einsum(\"...ih,ifh->...if\", hidden, self.W)\n",
    "    out = out + self.b_final\n",
    "    out = F.relu(out)\n",
    "    return out\n",
    "\n",
    "  def generate_batch(self, n_batch):\n",
    "    feat = torch.rand((n_batch, self.config.n_instances, self.config.n_features), device=self.W.device)\n",
    "    batch = torch.where(\n",
    "        torch.rand((n_batch, self.config.n_instances, self.config.n_features), device=self.W.device) <= self.feature_probability,\n",
    "        feat,\n",
    "        torch.zeros((), device=self.W.device),\n",
    "    )\n",
    "    return batch"
   ]
  },
  {
   "cell_type": "code",
   "execution_count": null,
   "id": "bec3f78b-0a11-4a18-bd87-ad6e62541b7f",
   "metadata": {},
   "outputs": [],
   "source": [
    "config = Config(\n",
    "    n_instances=10,\n",
    "    n_features=5,\n",
    "    n_hidden=2\n",
    ")"
   ]
  },
  {
   "cell_type": "code",
   "execution_count": null,
   "id": "1ecb26e4-87f7-47f0-bbaa-13b29e400a2f",
   "metadata": {},
   "outputs": [],
   "source": [
    "if torch.cuda.is_available():\n",
    "    DEVICE = 'cuda'\n",
    "else:\n",
    "    DEVICE = 'cpu'"
   ]
  },
  {
   "cell_type": "code",
   "execution_count": null,
   "id": "b2b4574f-b462-46df-8afa-149eeaac56bc",
   "metadata": {},
   "outputs": [],
   "source": [
    "model = Model(\n",
    "    config=config,\n",
    "    device=DEVICE,\n",
    "    # Exponential feature importance curve from 1 to 1/100\n",
    "    importance = (100 ** -torch.linspace(0, 1, config.n_features))[None, :],\n",
    "    # Sweep feature frequency across the instances from 1 (fully dense) to 1/20\n",
    "    feature_probability = (20 ** -torch.linspace(0, 1, config.n_instances))[:, None]\n",
    ")"
   ]
  },
  {
   "cell_type": "code",
   "execution_count": null,
   "id": "e3fd784f-8b14-482a-b334-3d44e5e29ff1",
   "metadata": {},
   "outputs": [],
   "source": [
    "def linear_lr(step, steps):\n",
    "  return (1 - (step / steps))\n",
    "\n",
    "def constant_lr(*_):\n",
    "  return 1.0\n",
    "\n",
    "def cosine_decay_lr(step, steps):\n",
    "  return np.cos(0.5 * np.pi * step / (steps - 1))\n",
    "\n",
    "def optimize(model, \n",
    "             render=False, \n",
    "             n_batch=1024,\n",
    "             steps=10_000,\n",
    "             print_freq=100,\n",
    "             lr=1e-3,\n",
    "             lr_scale=constant_lr,\n",
    "             hooks=[]):\n",
    "  cfg = model.config\n",
    "\n",
    "  opt = torch.optim.AdamW(list(model.parameters()), lr=lr)\n",
    "\n",
    "  start = time.time()\n",
    "  with trange(steps) as t:\n",
    "    for step in t:\n",
    "      step_lr = lr * lr_scale(step, steps)\n",
    "      for group in opt.param_groups:\n",
    "        group['lr'] = step_lr\n",
    "      opt.zero_grad(set_to_none=True)\n",
    "      batch = model.generate_batch(n_batch)\n",
    "      out = model(batch)\n",
    "      error = (model.importance*(batch.abs() - out)**2)\n",
    "      loss = einops.reduce(error, 'b i f -> i', 'mean').sum()\n",
    "      loss.backward()\n",
    "      opt.step()\n",
    "    \n",
    "      if hooks:\n",
    "        hook_data = dict(model=model,\n",
    "                         step=step, \n",
    "                         opt=opt,\n",
    "                         error=error,\n",
    "                         loss=loss,\n",
    "                         lr=step_lr)\n",
    "        for h in hooks:\n",
    "          h(hook_data)\n",
    "      if step % print_freq == 0 or (step + 1 == steps):\n",
    "        t.set_postfix(\n",
    "            loss=loss.item() / cfg.n_instances,\n",
    "            lr=step_lr,\n",
    "        )"
   ]
  },
  {
   "cell_type": "code",
   "execution_count": null,
   "id": "3a5fd8eb-a042-4815-8c94-c1ba4140c283",
   "metadata": {},
   "outputs": [
    {
     "data": {
      "application/vnd.jupyter.widget-view+json": {
       "model_id": "b1f4398d09ed4350af21eefa1a614401",
       "version_major": 2,
       "version_minor": 0
      },
      "text/plain": [
       "  0%|          | 0/10000 [00:00<?, ?it/s]"
      ]
     },
     "metadata": {},
     "output_type": "display_data"
    }
   ],
   "source": [
    "optimize(model)"
   ]
  },
  {
   "cell_type": "markdown",
   "id": "ac107edc-3943-448b-bf39-80d4962a9b0a",
   "metadata": {},
   "source": [
    "##### Example 1"
   ]
  },
  {
   "cell_type": "code",
   "execution_count": null,
   "id": "4bdc2033-3409-4b5c-8a23-87e4e10b3c20",
   "metadata": {},
   "outputs": [],
   "source": [
    "n_batches = 2\n",
    "n_examples = 4\n",
    "n_features = 8"
   ]
  },
  {
   "cell_type": "code",
   "execution_count": null,
   "id": "85761c0b-80c8-44aa-8a5e-6e0b44f31836",
   "metadata": {},
   "outputs": [],
   "source": [
    "feature_probability = 1"
   ]
  },
  {
   "cell_type": "code",
   "execution_count": null,
   "id": "9c7bdaa0-4f8a-4427-82e9-ef68045b4981",
   "metadata": {},
   "outputs": [],
   "source": [
    "feat = torch.rand((n_batches, n_examples, n_features))"
   ]
  },
  {
   "cell_type": "code",
   "execution_count": null,
   "id": "f49dbc2f-d3f1-4d04-adbb-02ea825a9ea2",
   "metadata": {},
   "outputs": [
    {
     "data": {
      "text/plain": [
       "torch.Size([2, 4, 8])"
      ]
     },
     "execution_count": null,
     "metadata": {},
     "output_type": "execute_result"
    }
   ],
   "source": [
    "feat.shape"
   ]
  },
  {
   "cell_type": "code",
   "execution_count": null,
   "id": "efc58a71-627c-477c-b035-4ef1b8cb6b03",
   "metadata": {},
   "outputs": [
    {
     "data": {
      "text/plain": [
       "tensor([[[0.2386, 0.0000, 0.6010, 0.8145, 0.7683, 0.6989, 0.4080, 0.3469],\n",
       "         [0.5754, 0.3769, 0.6054, 0.0000, 0.0000, 0.5655, 0.8586, 0.4971],\n",
       "         [0.2200, 0.7833, 0.0000, 0.0000, 0.0723, 0.7408, 0.1502, 0.7280],\n",
       "         [0.0000, 0.0000, 0.7966, 0.7768, 0.3004, 0.5314, 0.7323, 0.1656]],\n",
       "\n",
       "        [[0.0000, 0.0000, 0.8855, 0.5336, 0.4668, 0.8193, 0.4037, 0.0163],\n",
       "         [0.0000, 0.7889, 0.0638, 0.0000, 0.3323, 0.7189, 0.0000, 0.7200],\n",
       "         [0.7781, 0.0000, 0.1189, 0.0035, 0.0000, 0.4740, 0.8941, 0.3538],\n",
       "         [0.3336, 0.1004, 0.7579, 0.0000, 0.0000, 0.1954, 0.4526, 0.2902]]])"
      ]
     },
     "execution_count": null,
     "metadata": {},
     "output_type": "execute_result"
    }
   ],
   "source": [
    "torch.where(\n",
    "    torch.randn((n_batches, n_examples, n_features)) <= feature_probability,\n",
    "    feat,\n",
    "    torch.zeros(())\n",
    ")"
   ]
  },
  {
   "cell_type": "markdown",
   "id": "f8a99564-dcf4-40ed-a95c-e607ecaaca8f",
   "metadata": {},
   "source": [
    "##### Example 2"
   ]
  },
  {
   "cell_type": "code",
   "execution_count": null,
   "id": "323588f2-ee79-42a7-b729-04479e2d734b",
   "metadata": {},
   "outputs": [],
   "source": [
    "def plot(WA, x, y):\n",
    "\n",
    "    N = len(WA[:, 0])\n",
    "    sel = range(config.n_instances)\n",
    "\n",
    "    plt.rcParams[\"axes.prop_cycle\"] = plt.cycler(\"color\", plt.cm.viridis(model.importance[0].cpu().numpy()))\n",
    "    plt.rcParams['figure.dpi'] = 200\n",
    "    fig, axs = plt.subplots(1,len(sel), figsize=(2*len(sel),2))\n",
    "\n",
    "    for i, ax in zip(sel, axs):\n",
    "        W = WA[i].cpu().detach().numpy()\n",
    "        colors = [mcolors.to_rgba(c) \n",
    "                  for c in plt.rcParams['axes.prop_cycle'].by_key()['color']]\n",
    "\n",
    "        ax.scatter(\n",
    "            W[:,0], W[:,1],\n",
    "            c=colors[0:len(W[:,0])]\n",
    "        )\n",
    "\n",
    "        # set_trace()\n",
    "        ax.set_aspect('equal')\n",
    "        ax.add_collection(mc.LineCollection(np.stack((np.zeros_like(W),W), axis=1), colors=colors))\n",
    "\n",
    "        z = 1.5\n",
    "        ax.set_facecolor('#FCFBF8')\n",
    "        ax.set_xlim((-z,z))\n",
    "        ax.set_ylim((-z,z))\n",
    "        ax.tick_params(left = True, right = False , labelleft = False,\n",
    "                       labelbottom = False, bottom = True)\n",
    "        for spine in ['top', 'right']:\n",
    "            ax.spines[spine].set_visible(False)\n",
    "        for spine in ['bottom','left']:\n",
    "            ax.spines[spine].set_position('center')\n",
    "    plt.show()"
   ]
  },
  {
   "cell_type": "code",
   "execution_count": null,
   "id": "8f3493ed-091e-4eb8-9dc5-3affb580e529",
   "metadata": {},
   "outputs": [
    {
     "data": {
      "text/plain": [
       "Model()"
      ]
     },
     "execution_count": null,
     "metadata": {},
     "output_type": "execute_result"
    }
   ],
   "source": [
    "model"
   ]
  },
  {
   "cell_type": "code",
   "execution_count": null,
   "id": "4621a8ef-af86-4872-adbf-732c1ecc0a40",
   "metadata": {},
   "outputs": [],
   "source": [
    "WA = model.W"
   ]
  },
  {
   "cell_type": "markdown",
   "id": "7de03df6-c573-4232-90d6-d53b2f616db7",
   "metadata": {},
   "source": [
    "$\\begin{aligned}\n",
    "h & =W x \\\\\n",
    "x^{\\prime} & =\\operatorname{ReLU}\\left(W^T h+b\\right) \\\\\n",
    "x^{\\prime} & =\\operatorname{ReLU}\\left(W^T W x+b\\right)\n",
    "\\end{aligned}$"
   ]
  },
  {
   "cell_type": "markdown",
   "id": "abab615e-8937-4721-ab1f-0cdefb4b332a",
   "metadata": {},
   "source": [
    "In a toy autoencoder model $h$, `WA` is an embedding matrix that transforms the `5` features in `10` examples into a `2`-dimensional vector."
   ]
  },
  {
   "cell_type": "code",
   "execution_count": null,
   "id": "7c47c0fa-6e6a-4b85-98d3-3c23072ce6af",
   "metadata": {},
   "outputs": [
    {
     "data": {
      "text/plain": [
       "torch.Size([10, 5, 2])"
      ]
     },
     "execution_count": null,
     "metadata": {},
     "output_type": "execute_result"
    }
   ],
   "source": [
    "WA.shape"
   ]
  },
  {
   "cell_type": "markdown",
   "id": "68bc8482-f87c-4894-93be-0b43066ee615",
   "metadata": {},
   "source": [
    "Extract the `x` and `y` coordinates of the latent features from all examples + explain"
   ]
  },
  {
   "cell_type": "markdown",
   "id": "ea50942a-208c-4ad3-8cce-a722a1311d6b",
   "metadata": {},
   "source": [
    "**Answer**\n",
    "\n",
    "`xs` is a list of the `x` coordinates of the five features from `10` examples, while `ys` is a list of the `y` coordinates."
   ]
  },
  {
   "cell_type": "code",
   "execution_count": null,
   "id": "ec26f190-691d-4eb4-80c4-fdbd4784af53",
   "metadata": {},
   "outputs": [],
   "source": [
    "xs = WA[:, :, 0]"
   ]
  },
  {
   "cell_type": "code",
   "execution_count": null,
   "id": "fd0e4785-f6b4-4acf-953b-9380fdfa3419",
   "metadata": {},
   "outputs": [
    {
     "data": {
      "text/plain": [
       "torch.Size([10, 5])"
      ]
     },
     "execution_count": null,
     "metadata": {},
     "output_type": "execute_result"
    }
   ],
   "source": [
    "xs.shape"
   ]
  },
  {
   "cell_type": "code",
   "execution_count": null,
   "id": "f62e3120-4e3a-4f8c-a2ea-03cfd9364d8e",
   "metadata": {},
   "outputs": [],
   "source": [
    "ys = WA[:, :, 1]"
   ]
  },
  {
   "cell_type": "code",
   "execution_count": null,
   "id": "fa49ad8a-c25e-4127-bdc2-6555b8449ad2",
   "metadata": {},
   "outputs": [
    {
     "data": {
      "text/plain": [
       "torch.Size([10, 5])"
      ]
     },
     "execution_count": null,
     "metadata": {},
     "output_type": "execute_result"
    }
   ],
   "source": [
    "ys.shape"
   ]
  },
  {
   "cell_type": "markdown",
   "id": "a4814c0b-0c32-472e-9857-635e5fd9dd79",
   "metadata": {},
   "source": [
    "This is a plot of the `2`-dimensional latent features from `10` examples."
   ]
  },
  {
   "cell_type": "code",
   "execution_count": null,
   "id": "5708021c-a0ed-4866-962f-1d24f6706ce1",
   "metadata": {},
   "outputs": [],
   "source": [
    "from matplotlib import colors  as mcolors\n",
    "from matplotlib import collections  as mc"
   ]
  },
  {
   "cell_type": "code",
   "execution_count": null,
   "id": "5e5c0bab-b982-4dfc-810c-fc24e4dcfae5",
   "metadata": {},
   "outputs": [
    {
     "data": {
      "image/png": "[encoded data removed]",
      "text/plain": [
       "<Figure size 4000x400 with 10 Axes>"
      ]
     },
     "metadata": {},
     "output_type": "display_data"
    }
   ],
   "source": [
    "plot(WA, x=xs, y=ys)"
   ]
  },
  {
   "cell_type": "markdown",
   "id": "af2098ee-0505-43fe-82b8-08af0caeeedc",
   "metadata": {},
   "source": [
    "##### Example 2"
   ]
  },
  {
   "cell_type": "code",
   "execution_count": null,
   "id": "5e1a5d42-ffe3-4a49-a6ab-4f451b3499e4",
   "metadata": {},
   "outputs": [],
   "source": [
    "W = model.W"
   ]
  },
  {
   "cell_type": "code",
   "execution_count": null,
   "id": "0537e5a1-944d-452c-9752-d97fc4fa1ea8",
   "metadata": {},
   "outputs": [
    {
     "data": {
      "text/plain": [
       "torch.Size([10, 5, 2])"
      ]
     },
     "execution_count": null,
     "metadata": {},
     "output_type": "execute_result"
    }
   ],
   "source": [
    "W.shape"
   ]
  },
  {
   "cell_type": "markdown",
   "id": "b9de94bb-d68b-4d76-8a3b-9690e460e522",
   "metadata": {},
   "source": [
    "`W` is a embedding matrix that maps `5` features into 2-dimensional vector, have batch size of `10`"
   ]
  },
  {
   "cell_type": "markdown",
   "id": "f59d6f5a-9281-48fa-860f-c4379c9867a7",
   "metadata": {},
   "source": [
    "Compute the interference between all features in `W`. Explain"
   ]
  },
  {
   "cell_type": "code",
   "execution_count": null,
   "id": "32ed47a2-c4ed-4b04-bb62-3619c8b5b4f8",
   "metadata": {},
   "outputs": [],
   "source": [
    "from einops import einsum"
   ]
  },
  {
   "cell_type": "code",
   "execution_count": null,
   "id": "6814311d-14a7-4f09-95eb-2cb9f91ffe69",
   "metadata": {},
   "outputs": [],
   "source": [
    "interference = einsum(\n",
    "    W, W,\n",
    "    \"instances feature_1 dim, instances feature_2 dim -> instances feature_1 feature_2\"\n",
    ")"
   ]
  },
  {
   "cell_type": "markdown",
   "id": "6064115e-3824-4d9f-b91c-f2bfb9e8345f",
   "metadata": {},
   "source": [
    "**Explain**\n",
    "\n",
    "The interference matrix represents the similarity between each feature vector and every other feature vector in the weight matrix. This is computed using the dot product operation, which is a measure of the direction between two features.\n",
    "\n",
    "The result is a tensor of shape `(n_features, n_features)` that represents the interference (or similarity) between all pairs of features in the weight matrix `W`."
   ]
  },
  {
   "cell_type": "code",
   "execution_count": null,
   "id": "9d5a123b-2233-49f0-b841-c79ef5f6deac",
   "metadata": {},
   "outputs": [
    {
     "data": {
      "text/plain": [
       "torch.Size([10, 5, 5])"
      ]
     },
     "execution_count": null,
     "metadata": {},
     "output_type": "execute_result"
    }
   ],
   "source": [
    "interference.shape"
   ]
  },
  {
   "cell_type": "markdown",
   "id": "e1a62bb6-9f82-4054-8a8b-6878b8ea1cdd",
   "metadata": {},
   "source": [
    "##### Example 3"
   ]
  },
  {
   "cell_type": "code",
   "execution_count": null,
   "id": "8e1a169d-27b5-403b-9fee-c4795c41da9b",
   "metadata": {},
   "outputs": [],
   "source": [
    "interference = torch.randn(5, 5)"
   ]
  },
  {
   "cell_type": "code",
   "execution_count": null,
   "id": "e73b9ec2-e3e5-4b1e-9714-51bb5301a6c6",
   "metadata": {},
   "outputs": [],
   "source": [
    "import torch"
   ]
  },
  {
   "cell_type": "code",
   "execution_count": null,
   "id": "e17ecf42-cf24-4e1a-b6a2-a1ac48ff080f",
   "metadata": {},
   "outputs": [
    {
     "data": {
      "text/plain": [
       "tensor([[-0.9587, -0.7546, -1.2035,  0.9918, -0.7793],\n",
       "        [ 0.9466, -0.5296,  0.4024, -1.6010,  0.2254],\n",
       "        [-0.1830, -0.3203,  1.7192, -0.6101,  0.4622],\n",
       "        [ 0.9407,  0.0504, -2.7068, -0.4128,  0.6629],\n",
       "        [-1.7399,  0.3513, -2.2916,  0.9347, -1.2575]])"
      ]
     },
     "execution_count": null,
     "metadata": {},
     "output_type": "execute_result"
    }
   ],
   "source": [
    "interference"
   ]
  },
  {
   "cell_type": "code",
   "execution_count": null,
   "id": "5d3f59d9-c2e6-47db-8dbe-34e7117e3d0a",
   "metadata": {},
   "outputs": [
    {
     "data": {
      "text/plain": [
       "torch.Size([5, 5])"
      ]
     },
     "execution_count": null,
     "metadata": {},
     "output_type": "execute_result"
    }
   ],
   "source": [
    "interference.shape"
   ]
  },
  {
   "cell_type": "markdown",
   "id": "d38ea2ef-ea1f-404b-a0ed-1f59d9624848",
   "metadata": {},
   "source": [
    "Compute the polysemanticity of five features according to the `interference`. Explain"
   ]
  },
  {
   "cell_type": "markdown",
   "id": "33a1da33-7d54-4fbf-a278-422f4077b1a8",
   "metadata": {},
   "source": [
    "**Answer**\n",
    "\n",
    "The `interference` matrix shows the dot product between each feature vector and every other feature vector in the weight matrix. To compute the polysemanticity of a neuron, we need to measure the interference between that neuron and all other neurons.\n",
    "\n",
    "However, the `interference` matrix includes the interference between a neuron and itself in the diagonal line, which we need to zero out to get an accurate measure of polysemanticity."
   ]
  },
  {
   "cell_type": "code",
   "execution_count": null,
   "id": "b0ec4311-5c50-4eb0-ba31-9c878c46c64d",
   "metadata": {},
   "outputs": [],
   "source": [
    "n_features = 5"
   ]
  },
  {
   "cell_type": "code",
   "execution_count": null,
   "id": "9bcbde5e-eae7-426d-8f7c-f9e6c4a81f2b",
   "metadata": {},
   "outputs": [],
   "source": [
    "interference[torch.arange(n_features), torch.arange(n_features)] = 0"
   ]
  },
  {
   "cell_type": "code",
   "execution_count": null,
   "id": "f17fa76e-4901-43e5-a81e-598274a030c1",
   "metadata": {},
   "outputs": [
    {
     "data": {
      "text/plain": [
       "tensor([[ 0.0000, -0.7546, -1.2035,  0.9918, -0.7793],\n",
       "        [ 0.9466,  0.0000,  0.4024, -1.6010,  0.2254],\n",
       "        [-0.1830, -0.3203,  0.0000, -0.6101,  0.4622],\n",
       "        [ 0.9407,  0.0504, -2.7068,  0.0000,  0.6629],\n",
       "        [-1.7399,  0.3513, -2.2916,  0.9347,  0.0000]])"
      ]
     },
     "execution_count": null,
     "metadata": {},
     "output_type": "execute_result"
    }
   ],
   "source": [
    "interference"
   ]
  },
  {
   "cell_type": "markdown",
   "id": "6e63dfad-b46b-4d7b-9610-76f7137e44a5",
   "metadata": {},
   "source": [
    "To compute the polysemanticity of a neuron, we can compute the magnitude of its interference vector, which is a `n`-dimensional vector in the `interference` matrix representing the interference between that neuron and all other neurons. We can use the L2 norm to compute the magnitude of this vector."
   ]
  },
  {
   "cell_type": "code",
   "execution_count": null,
   "id": "ce256a9d-2586-4328-9785-8295d07e5813",
   "metadata": {},
   "outputs": [],
   "source": [
    "polysemanticity = interference.pow(2).sum(dim=-1).sqrt()"
   ]
  },
  {
   "cell_type": "code",
   "execution_count": null,
   "id": "89f32412-baba-4665-b7f7-e39c2e143b38",
   "metadata": {},
   "outputs": [
    {
     "data": {
      "text/plain": [
       "torch.Size([5])"
      ]
     },
     "execution_count": null,
     "metadata": {},
     "output_type": "execute_result"
    }
   ],
   "source": [
    "polysemanticity.shape"
   ]
  },
  {
   "cell_type": "code",
   "execution_count": null,
   "id": "a8f00f0f-0729-4add-99b5-8c860558831c",
   "metadata": {},
   "outputs": [
    {
     "data": {
      "text/plain": [
       "tensor([1.8997, 1.9162, 0.8497, 2.9417, 3.0456])"
      ]
     },
     "execution_count": null,
     "metadata": {},
     "output_type": "execute_result"
    }
   ],
   "source": [
    "polysemanticity"
   ]
  },
  {
   "cell_type": "markdown",
   "id": "d764f53b-56ec-43d5-8f9e-f62c5cb1a565",
   "metadata": {},
   "source": [
    "##### Example 4"
   ]
  },
  {
   "cell_type": "code",
   "execution_count": null,
   "id": "766f91b0-2763-4d7d-9ea5-b0eaf4e872a6",
   "metadata": {},
   "outputs": [],
   "source": [
    "embeddings = torch.tensor([1, 0, 0]).float()"
   ]
  },
  {
   "cell_type": "code",
   "execution_count": null,
   "id": "dc689ffb-d07d-4c52-976b-8646d2731e9c",
   "metadata": {},
   "outputs": [
    {
     "data": {
      "text/plain": [
       "torch.Size([3])"
      ]
     },
     "execution_count": null,
     "metadata": {},
     "output_type": "execute_result"
    }
   ],
   "source": [
    "embeddings.shape"
   ]
  },
  {
   "cell_type": "code",
   "execution_count": null,
   "id": "9a63e575-303f-495e-90b2-ed5dbf4e4ac0",
   "metadata": {},
   "outputs": [],
   "source": [
    "linear = nn.Linear(3, 1)"
   ]
  },
  {
   "cell_type": "code",
   "execution_count": null,
   "id": "0dcb572a-1271-41f0-a035-3df315b71527",
   "metadata": {},
   "outputs": [
    {
     "data": {
      "text/plain": [
       "Parameter containing:\n",
       "tensor([[-0.0230,  0.3079,  0.3964]], requires_grad=True)"
      ]
     },
     "execution_count": null,
     "metadata": {},
     "output_type": "execute_result"
    }
   ],
   "source": [
    "linear.weight"
   ]
  },
  {
   "cell_type": "code",
   "execution_count": null,
   "id": "58b8a5f1-65eb-4368-a153-37a4910579ac",
   "metadata": {},
   "outputs": [
    {
     "data": {
      "text/plain": [
       "Parameter containing:\n",
       "tensor([-0.4401], requires_grad=True)"
      ]
     },
     "execution_count": null,
     "metadata": {},
     "output_type": "execute_result"
    }
   ],
   "source": [
    "linear.bias"
   ]
  },
  {
   "cell_type": "code",
   "execution_count": null,
   "id": "ed286184-192a-4fbb-b6e8-1f600f937019",
   "metadata": {},
   "outputs": [
    {
     "data": {
      "text/plain": [
       "tensor([-0.4630], grad_fn=<AddBackward0>)"
      ]
     },
     "execution_count": null,
     "metadata": {},
     "output_type": "execute_result"
    }
   ],
   "source": [
    "linear(embeddings)"
   ]
  },
  {
   "cell_type": "code",
   "execution_count": null,
   "id": "29c15906-3872-4e8e-81bd-fed64449237f",
   "metadata": {},
   "outputs": [],
   "source": []
  },
  {
   "cell_type": "code",
   "execution_count": null,
   "id": "083c53b6-b48a-4df8-b2b2-f967eb5db195",
   "metadata": {},
   "outputs": [],
   "source": [
    "x = torch.tensor([0, 1, 2, 3, 4])"
   ]
  },
  {
   "cell_type": "code",
   "execution_count": null,
   "id": "efd6e7c8-b0e7-4e55-850c-b214662f3594",
   "metadata": {},
   "outputs": [],
   "source": [
    "y = torch.tensor([4, 5, 6, 7, 8])"
   ]
  },
  {
   "cell_type": "code",
   "execution_count": null,
   "id": "b3999ff5-958d-4a8b-a5f8-ae08be93e75a",
   "metadata": {},
   "outputs": [
    {
     "data": {
      "text/plain": [
       "tensor(70)"
      ]
     },
     "execution_count": null,
     "metadata": {},
     "output_type": "execute_result"
    }
   ],
   "source": [
    "torch.dot(x, y)"
   ]
  },
  {
   "cell_type": "code",
   "execution_count": null,
   "id": "efa3670e-c9b7-47a9-a6a2-382696847adf",
   "metadata": {},
   "outputs": [],
   "source": []
  }
 ],
 "metadata": {
  "kernelspec": {
   "display_name": "Python 3 (ipykernel)",
   "language": "python",
   "name": "python3"
  }
 },
 "nbformat": 4,
 "nbformat_minor": 5
}
