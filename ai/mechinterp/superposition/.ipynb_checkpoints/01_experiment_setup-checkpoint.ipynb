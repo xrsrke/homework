{
 "cells": [
  {
   "cell_type": "code",
   "execution_count": null,
   "id": "680589b9-9e28-4e43-996b-82f798a433c5",
   "metadata": {},
   "outputs": [],
   "source": [
    "from sympy import symbols, Matrix"
   ]
  },
  {
   "cell_type": "code",
   "execution_count": null,
   "id": "f241bba7-5218-44cb-838c-94bcbfbe73fd",
   "metadata": {},
   "outputs": [],
   "source": [
    "x1, x2, x3 = symbols('x1 x2 x3')"
   ]
  },
  {
   "cell_type": "code",
   "execution_count": null,
   "id": "b1a7c6a5-34e7-4dba-9204-88546b6ec4af",
   "metadata": {},
   "outputs": [],
   "source": [
    "w11, w12, w13, w21, w22, w23 = symbols('w11 w12 w13 w21 w22 w23')"
   ]
  },
  {
   "cell_type": "code",
   "execution_count": null,
   "id": "faf641b1-bf26-4189-b9de-84703668a06a",
   "metadata": {},
   "outputs": [],
   "source": [
    "x = Matrix([x1, x2, x3])"
   ]
  },
  {
   "cell_type": "code",
   "execution_count": null,
   "id": "e2ef8c80-8272-4ced-8c33-7df92162bd39",
   "metadata": {},
   "outputs": [
    {
     "data": {
      "text/latex": [
       "$\\displaystyle \\left[\\begin{matrix}x_{1}\\\\x_{2}\\\\x_{3}\\end{matrix}\\right]$"
      ],
      "text/plain": [
       "Matrix([\n",
       "[x1],\n",
       "[x2],\n",
       "[x3]])"
      ]
     },
     "execution_count": null,
     "metadata": {},
     "output_type": "execute_result"
    }
   ],
   "source": [
    "x"
   ]
  },
  {
   "cell_type": "code",
   "execution_count": null,
   "id": "93c214c3-9c9b-47e1-8137-53c885e6b511",
   "metadata": {},
   "outputs": [],
   "source": [
    "W = Matrix([[w11, w12, w13], [w21, w22, w23]])"
   ]
  },
  {
   "cell_type": "code",
   "execution_count": null,
   "id": "992bd0a1-be06-4b56-a483-b9ec39cea6ce",
   "metadata": {},
   "outputs": [
    {
     "data": {
      "text/latex": [
       "$\\displaystyle \\left[\\begin{matrix}w_{11} & w_{12} & w_{13}\\\\w_{21} & w_{22} & w_{23}\\end{matrix}\\right]$"
      ],
      "text/plain": [
       "Matrix([\n",
       "[w11, w12, w13],\n",
       "[w21, w22, w23]])"
      ]
     },
     "execution_count": null,
     "metadata": {},
     "output_type": "execute_result"
    }
   ],
   "source": [
    "W"
   ]
  },
  {
   "cell_type": "code",
   "execution_count": null,
   "id": "f5958506-e166-4784-9b43-8161ef9a67c9",
   "metadata": {},
   "outputs": [],
   "source": [
    "H = W @ x"
   ]
  },
  {
   "cell_type": "code",
   "execution_count": null,
   "id": "0813d221-5abf-41ac-b840-353808d85bcb",
   "metadata": {},
   "outputs": [
    {
     "data": {
      "text/latex": [
       "$\\displaystyle \\left[\\begin{matrix}w_{11} x_{1} + w_{12} x_{2} + w_{13} x_{3}\\\\w_{21} x_{1} + w_{22} x_{2} + w_{23} x_{3}\\end{matrix}\\right]$"
      ],
      "text/plain": [
       "Matrix([\n",
       "[w11*x1 + w12*x2 + w13*x3],\n",
       "[w21*x1 + w22*x2 + w23*x3]])"
      ]
     },
     "execution_count": null,
     "metadata": {},
     "output_type": "execute_result"
    }
   ],
   "source": [
    "H"
   ]
  },
  {
   "cell_type": "code",
   "execution_count": null,
   "id": "9670ecd4-f458-4110-a72c-3cbea52cd3b7",
   "metadata": {},
   "outputs": [
    {
     "data": {
      "text/latex": [
       "$\\displaystyle \\left[\\begin{matrix}w_{11}^{2} + w_{21}^{2} & w_{11} w_{12} + w_{21} w_{22} & w_{11} w_{13} + w_{21} w_{23}\\\\w_{11} w_{12} + w_{21} w_{22} & w_{12}^{2} + w_{22}^{2} & w_{12} w_{13} + w_{22} w_{23}\\\\w_{11} w_{13} + w_{21} w_{23} & w_{12} w_{13} + w_{22} w_{23} & w_{13}^{2} + w_{23}^{2}\\end{matrix}\\right]$"
      ],
      "text/plain": [
       "Matrix([\n",
       "[  w11**2 + w21**2, w11*w12 + w21*w22, w11*w13 + w21*w23],\n",
       "[w11*w12 + w21*w22,   w12**2 + w22**2, w12*w13 + w22*w23],\n",
       "[w11*w13 + w21*w23, w12*w13 + w22*w23,   w13**2 + w23**2]])"
      ]
     },
     "execution_count": null,
     "metadata": {},
     "output_type": "execute_result"
    }
   ],
   "source": [
    "W.transpose() @ W"
   ]
  },
  {
   "cell_type": "code",
   "execution_count": null,
   "id": "934dbd26-fa94-47ae-822c-c7ce1efab43b",
   "metadata": {},
   "outputs": [],
   "source": [
    "from sympy import simplify"
   ]
  },
  {
   "cell_type": "code",
   "execution_count": null,
   "id": "86327e6d-41aa-49ff-8bda-471676f13a06",
   "metadata": {},
   "outputs": [
    {
     "data": {
      "text/latex": [
       "$\\displaystyle \\left[\\begin{matrix}w_{11} \\left(w_{11} x_{1} + w_{12} x_{2} + w_{13} x_{3}\\right) + w_{21} \\left(w_{21} x_{1} + w_{22} x_{2} + w_{23} x_{3}\\right)\\\\w_{12} \\left(w_{11} x_{1} + w_{12} x_{2} + w_{13} x_{3}\\right) + w_{22} \\left(w_{21} x_{1} + w_{22} x_{2} + w_{23} x_{3}\\right)\\\\w_{13} \\left(w_{11} x_{1} + w_{12} x_{2} + w_{13} x_{3}\\right) + w_{23} \\left(w_{21} x_{1} + w_{22} x_{2} + w_{23} x_{3}\\right)\\end{matrix}\\right]$"
      ],
      "text/plain": [
       "Matrix([\n",
       "[w11*(w11*x1 + w12*x2 + w13*x3) + w21*(w21*x1 + w22*x2 + w23*x3)],\n",
       "[w12*(w11*x1 + w12*x2 + w13*x3) + w22*(w21*x1 + w22*x2 + w23*x3)],\n",
       "[w13*(w11*x1 + w12*x2 + w13*x3) + w23*(w21*x1 + w22*x2 + w23*x3)]])"
      ]
     },
     "execution_count": null,
     "metadata": {},
     "output_type": "execute_result"
    }
   ],
   "source": [
    "(W.transpose() @ H).applyfunc(simplify)"
   ]
  },
  {
   "cell_type": "code",
   "execution_count": null,
   "id": "fa80cb3d-3959-47a3-8026-bcbd662affa7",
   "metadata": {},
   "outputs": [
    {
     "data": {
      "text/latex": [
       "$\\displaystyle \\left[\\begin{matrix}w_{11}^{2} + w_{21}^{2} & w_{11} w_{12} + w_{21} w_{22} & w_{11} w_{13} + w_{21} w_{23}\\\\w_{11} w_{12} + w_{21} w_{22} & w_{12}^{2} + w_{22}^{2} & w_{12} w_{13} + w_{22} w_{23}\\\\w_{11} w_{13} + w_{21} w_{23} & w_{12} w_{13} + w_{22} w_{23} & w_{13}^{2} + w_{23}^{2}\\end{matrix}\\right]$"
      ],
      "text/plain": [
       "Matrix([\n",
       "[  w11**2 + w21**2, w11*w12 + w21*w22, w11*w13 + w21*w23],\n",
       "[w11*w12 + w21*w22,   w12**2 + w22**2, w12*w13 + w22*w23],\n",
       "[w11*w13 + w21*w23, w12*w13 + w22*w23,   w13**2 + w23**2]])"
      ]
     },
     "execution_count": null,
     "metadata": {},
     "output_type": "execute_result"
    }
   ],
   "source": [
    "W.transpose() @ W"
   ]
  },
  {
   "cell_type": "code",
   "execution_count": null,
   "id": "689e07ae-2633-4814-aeb1-437fc9b2838c",
   "metadata": {},
   "outputs": [
    {
     "data": {
      "text/latex": [
       "$\\displaystyle \\left[\\begin{matrix}w_{11}^{2} + w_{21}^{2} & w_{11} w_{12} + w_{21} w_{22} & w_{11} w_{13} + w_{21} w_{23}\\\\w_{11} w_{12} + w_{21} w_{22} & w_{12}^{2} + w_{22}^{2} & w_{12} w_{13} + w_{22} w_{23}\\\\w_{11} w_{13} + w_{21} w_{23} & w_{12} w_{13} + w_{22} w_{23} & w_{13}^{2} + w_{23}^{2}\\end{matrix}\\right]$"
      ],
      "text/plain": [
       "Matrix([\n",
       "[  w11**2 + w21**2, w11*w12 + w21*w22, w11*w13 + w21*w23],\n",
       "[w11*w12 + w21*w22,   w12**2 + w22**2, w12*w13 + w22*w23],\n",
       "[w11*w13 + w21*w23, w12*w13 + w22*w23,   w13**2 + w23**2]])"
      ]
     },
     "execution_count": null,
     "metadata": {},
     "output_type": "execute_result"
    }
   ],
   "source": [
    "W.transpose() * W"
   ]
  },
  {
   "cell_type": "markdown",
   "id": "2722fd64-fc5e-4241-b927-c9660db95714",
   "metadata": {},
   "source": [
    "##### Example 1"
   ]
  },
  {
   "cell_type": "code",
   "execution_count": null,
   "id": "0df17485-79de-4fcb-88fd-76509fbf23ae",
   "metadata": {},
   "outputs": [],
   "source": [
    "import torch\n",
    "import torch.nn.functional as F"
   ]
  },
  {
   "cell_type": "code",
   "execution_count": null,
   "id": "8de7d85a-364b-4cda-9845-956c92986825",
   "metadata": {},
   "outputs": [],
   "source": [
    "x1 = torch.tensor([0, 0, 0.999])\n",
    "x2 = torch.tensor([0, 0, 1.001])"
   ]
  },
  {
   "cell_type": "code",
   "execution_count": null,
   "id": "46d8dcda-d1e9-4bd8-a04c-fb98d74015ff",
   "metadata": {},
   "outputs": [],
   "source": [
    "import torch\n",
    "import numpy as np\n",
    "import matplotlib.pyplot as plt\n",
    "from mpl_toolkits.mplot3d import Axes3D"
   ]
  },
  {
   "cell_type": "code",
   "execution_count": null,
   "id": "2ce69a2f-f164-4062-b89a-2d6ccc45dce8",
   "metadata": {},
   "outputs": [],
   "source": [
    "def plot_vectors_3d(vectors):\n",
    "    origin = torch.zeros(3)\n",
    "    fig = plt.figure()\n",
    "    ax = fig.add_subplot(111, projection='3d')\n",
    "\n",
    "    for vector in vectors:\n",
    "        X, Y, Z = zip(origin.numpy(), origin.numpy())\n",
    "        U, V, W = zip(vector.numpy())\n",
    "        ax.quiver(X, Y, Z, U, V, W, arrow_length_ratio=0.0001)\n",
    "\n",
    "    plt.show()"
   ]
  },
  {
   "cell_type": "code",
   "execution_count": null,
   "id": "2d8b5226-6c9d-4199-97e2-6322e2f6866e",
   "metadata": {},
   "outputs": [
    {
     "data": {
      "image/png": "[encoded data removed]",
      "text/plain": [
       "<Figure size 640x480 with 1 Axes>"
      ]
     },
     "metadata": {},
     "output_type": "display_data"
    }
   ],
   "source": [
    "# Example usage\n",
    "vectors = [x1, x2]\n",
    "\n",
    "plot_vectors_3d(vectors)"
   ]
  },
  {
   "cell_type": "code",
   "execution_count": null,
   "id": "17d4f2ce-897d-4e2a-ad7a-df1c923c6601",
   "metadata": {},
   "outputs": [
    {
     "name": "stdout",
     "output_type": "stream",
     "text": [
      "tensor([ 1, -2,  3])\n"
     ]
    }
   ],
   "source": [
    "import torch\n",
    "\n",
    "def relu_custom_basis(x, basis_vector):\n",
    "    \"\"\"\n",
    "    ReLU function that zeros out a 3D vector along a specified basis vector.\n",
    "    \n",
    "    Arguments:\n",
    "    x -- input tensor of shape (3,)\n",
    "    basis_vector -- vector along which to apply the ReLU, specified as a unit vector of shape (3,)\n",
    "    \n",
    "    Returns:\n",
    "    y -- output tensor of shape (3,) with elements of x that are <=0 along the given basis vector set to zero\n",
    "    \"\"\"\n",
    "    # project x onto the basis vector\n",
    "    projection = torch.dot(x, basis_vector) * basis_vector\n",
    "    # calculate the component of x orthogonal to the basis vector\n",
    "    orthogonal = x - projection\n",
    "    # apply ReLU to the projection along the basis vector\n",
    "    projection_relu = max(0, torch.dot(projection, basis_vector))\n",
    "    # combine the projected and orthogonal components\n",
    "    y = projection_relu * basis_vector + orthogonal\n",
    "    return y\n",
    "\n",
    "# example usage with a 3D tensor and basis vector (1, 0, 0)\n",
    "x = torch.tensor([1, -2, 3])\n",
    "basis_vector = torch.tensor([0, 0, 0])\n",
    "y = relu_custom_basis(x, basis_vector)\n",
    "print(y)"
   ]
  },
  {
   "cell_type": "code",
   "execution_count": null,
   "id": "b38c1fd7-0e56-4775-8679-1e1e4fee7f13",
   "metadata": {},
   "outputs": [],
   "source": []
  },
  {
   "cell_type": "code",
   "execution_count": null,
   "id": "aa12dbf1-1f0d-44ce-8128-1f57add81c73",
   "metadata": {},
   "outputs": [],
   "source": []
  }
 ],
 "metadata": {
  "kernelspec": {
   "display_name": "Python 3 (ipykernel)",
   "language": "python",
   "name": "python3"
  }
 },
 "nbformat": 4,
 "nbformat_minor": 5
}
