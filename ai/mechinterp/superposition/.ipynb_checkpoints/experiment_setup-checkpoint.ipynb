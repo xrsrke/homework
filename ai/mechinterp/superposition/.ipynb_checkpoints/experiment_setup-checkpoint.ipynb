{
 "cells": [
  {
   "cell_type": "code",
   "execution_count": null,
   "id": "20e5b3af-7a68-4a98-8a58-ffb94afa42d7",
   "metadata": {},
   "outputs": [],
   "source": [
    "care about Gust\n",
    "- start(): start the compute job, generate\n",
    "    + backend_start: actually thing that do the job\n",
    "    + there're a order part. heap algorithm\n",
    "    \n",
    "the bug = \n",
    "\n",
    "sequence:\n",
    "    + later.sequence_agadir(sequence) is one way of submit the job\n",
    "    \n",
    "=> look at backend to see how it work\n",
    "    + paralle the task for all jobs which as possible + also sorted the completed job as order of the submitted job\n",
    "        _batch_and\n",
    "        + combine all small jobs to one big job => speed up\n",
    "        + big job => split to multiple jobs\n",
    "    self.queue_ids: keep track of the ordered\n",
    "    + while self.queue or self.pool.is_processing: one job can have subjobs\n",
    "        + job_spec.ids: id of the original smaller jobs\n",
    "        + yield JobResult\n",
    "            + self.queue_ids.index(queue_id)\n",
    "              self.queue_ids. index(queue_ id) -> [(B, 1), (C, 2), (E, 4), (D, 3), A): just for location, not sort\n",
    "        + orderaself.queue_ids.index(queue_id): the original ordered\n",
    "\n",
    "+ head: track the order\n",
    "\n",
    "for result in self.backend.start():\n",
    "    + self.backend.start(): unsorted result\n",
    "        + original -> sorted [A, B, C, D, E]\n",
    "          self._backend.start() -> unsorted (B, C, E, D, A]\n",
    "     head: generatd sorted [A, B, C, D, E)"
   ]
  },
  {
   "cell_type": "code",
   "execution_count": null,
   "id": "0a61fc3a-3210-42cd-97fd-ff4e795af37e",
   "metadata": {},
   "outputs": [],
   "source": []
  }
 ],
 "metadata": {
  "kernelspec": {
   "display_name": "Python 3 (ipykernel)",
   "language": "python",
   "name": "python3"
  }
 },
 "nbformat": 4,
 "nbformat_minor": 5
}
