{
 "cells": [
  {
   "cell_type": "code",
   "execution_count": null,
   "id": "bb3c5e58-a779-432d-beed-c1216fe9ec26",
   "metadata": {},
   "outputs": [
    {
     "name": "stdout",
     "output_type": "stream",
     "text": [
      "The autoreload extension is already loaded. To reload it, use:\n",
      "  %reload_ext autoreload\n"
     ]
    },
    {
     "name": "stderr",
     "output_type": "stream",
     "text": [
      "/var/folders/pf/g3nr86yn4j71vzzmv6knwdhr0000gp/T/ipykernel_1501/4115428919.py:5: DeprecationWarning: `magic(...)` is deprecated since IPython 0.13 (warning added in 8.1), use run_line_magic(magic_name, parameter_s).\n",
      "  ipython.magic(\"load_ext autoreload\")\n",
      "/var/folders/pf/g3nr86yn4j71vzzmv6knwdhr0000gp/T/ipykernel_1501/4115428919.py:6: DeprecationWarning: `magic(...)` is deprecated since IPython 0.13 (warning added in 8.1), use run_line_magic(magic_name, parameter_s).\n",
      "  ipython.magic(\"autoreload 2\")\n"
     ]
    }
   ],
   "source": [
    "from IPython import get_ipython\n",
    "\n",
    "ipython = get_ipython()\n",
    "# Code to automatically update the HookedTransformer code as its edited without restarting the kernel\n",
    "ipython.magic(\"load_ext autoreload\")\n",
    "ipython.magic(\"autoreload 2\")"
   ]
  },
  {
   "cell_type": "code",
   "execution_count": null,
   "id": "897d0ead-e3e5-4b92-9779-dde758eb0a9f",
   "metadata": {},
   "outputs": [],
   "source": [
    "# Import stuff\n",
    "import torch\n",
    "import torch.nn as nn\n",
    "import torch.nn.functional as F\n",
    "import torch.optim as optim\n",
    "import numpy as np\n",
    "import einops\n",
    "from fancy_einsum import einsum\n",
    "import tqdm.notebook as tqdm\n",
    "import random\n",
    "from pathlib import Path\n",
    "import plotly.express as px\n",
    "from torch.utils.data import DataLoader\n",
    "\n",
    "from jaxtyping import Float, Int\n",
    "from typing import List, Union, Optional\n",
    "from functools import partial\n",
    "import copy\n",
    "\n",
    "import itertools\n",
    "from transformers import AutoModelForCausalLM, AutoConfig, AutoTokenizer\n",
    "import dataclasses\n",
    "import datasets\n",
    "from IPython.display import HTML"
   ]
  },
  {
   "cell_type": "code",
   "execution_count": null,
   "id": "a50f9199-7fd2-42ba-b326-2fe2354888ae",
   "metadata": {},
   "outputs": [],
   "source": [
    "import pysvelte\n",
    "\n",
    "import transformer_lens\n",
    "import transformer_lens.utils as utils\n",
    "from transformer_lens.hook_points import (\n",
    "    HookedRootModule,\n",
    "    HookPoint,\n",
    ")  # Hooking utilities\n",
    "from transformer_lens import HookedTransformer, HookedTransformerConfig, FactoredMatrix, ActivationCache"
   ]
  },
  {
   "cell_type": "code",
   "execution_count": null,
   "id": "d889f8cb-4f4a-4c20-aaec-fa8e95029e45",
   "metadata": {},
   "outputs": [],
   "source": [
    "def imshow(tensor, renderer=None, **kwargs):\n",
    "    px.imshow(utils.to_numpy(tensor), color_continuous_midpoint=0.0, color_continuous_scale=\"RdBu\", **kwargs).show(renderer)\n",
    "\n",
    "def line(tensor, renderer=None, **kwargs):\n",
    "    px.line(y=utils.to_numpy(tensor), **kwargs).show(renderer)\n",
    "\n",
    "def scatter(x, y, xaxis=\"\", yaxis=\"\", caxis=\"\", renderer=None, **kwargs):\n",
    "    x = utils.to_numpy(x)\n",
    "    y = utils.to_numpy(y)\n",
    "    px.scatter(y=y, x=x, labels={\"x\":xaxis, \"y\":yaxis, \"color\":caxis}, **kwargs).show(renderer)"
   ]
  },
  {
   "cell_type": "markdown",
   "id": "2c560f85-8b0c-4f5e-96b3-ced54d3f8341",
   "metadata": {},
   "source": [
    "### Indirect Object Identification\n"
   ]
  },
  {
   "cell_type": "code",
   "execution_count": null,
   "id": "094389a9-277d-4d64-ad9e-ef2a6749ade0",
   "metadata": {},
   "outputs": [
    {
     "name": "stderr",
     "output_type": "stream",
     "text": [
      "Using pad_token, but it is not set yet.\n"
     ]
    },
    {
     "name": "stdout",
     "output_type": "stream",
     "text": [
      "Loaded pretrained model gpt2-small into HookedTransformer\n"
     ]
    }
   ],
   "source": [
    "model = HookedTransformer.from_pretrained(\n",
    "    \"gpt2-small\",\n",
    "    center_unembed=True,\n",
    "    center_writing_weights=True,\n",
    "    fold_ln=True,\n",
    "    refactor_factored_attn_matrices=True\n",
    ")"
   ]
  },
  {
   "cell_type": "code",
   "execution_count": null,
   "id": "27f0010a-3aef-4c6c-83d9-4af2eea57ef6",
   "metadata": {},
   "outputs": [],
   "source": [
    "example_prompt = \"After John and Mary went to the store, John gave a bottle of milk to\""
   ]
  },
  {
   "cell_type": "code",
   "execution_count": null,
   "id": "76acc3ce-99e7-428c-b163-4b641b05b498",
   "metadata": {},
   "outputs": [],
   "source": [
    "example_answer = \" Mary\""
   ]
  },
  {
   "cell_type": "code",
   "execution_count": null,
   "id": "75d59c27-c25e-4233-b26f-b760f94c4a48",
   "metadata": {},
   "outputs": [
    {
     "name": "stdout",
     "output_type": "stream",
     "text": [
      "Tokenized prompt: ['<|endoftext|>', 'After', ' John', ' and', ' Mary', ' went', ' to', ' the', ' store', ',', ' John', ' gave', ' a', ' bottle', ' of', ' milk', ' to']\n",
      "Tokenized answer: [' John']\n"
     ]
    },
    {
     "data": {
      "text/html": [
       "<pre style=\"white-space:pre;overflow-x:auto;line-height:normal;font-family:Menlo,'DejaVu Sans Mono',consolas,'Courier New',monospace\">Performance on answer token:\n",
       "<span style=\"font-weight: bold\">Rank: </span><span style=\"color: #008080; text-decoration-color: #008080; font-weight: bold\">2</span><span style=\"font-weight: bold\">        Logit: </span><span style=\"color: #008080; text-decoration-color: #008080; font-weight: bold\">15.35</span><span style=\"font-weight: bold\"> Prob:  </span><span style=\"color: #008080; text-decoration-color: #008080; font-weight: bold\">4.54</span><span style=\"font-weight: bold\">% Token: | John|</span>\n",
       "</pre>\n"
      ],
      "text/plain": [
       "Performance on answer token:\n",
       "\u001b[1mRank: \u001b[0m\u001b[1;36m2\u001b[0m\u001b[1m        Logit: \u001b[0m\u001b[1;36m15.35\u001b[0m\u001b[1m Prob:  \u001b[0m\u001b[1;36m4.54\u001b[0m\u001b[1m% Token: | John|\u001b[0m\n"
      ]
     },
     "metadata": {},
     "output_type": "display_data"
    },
    {
     "name": "stdout",
     "output_type": "stream",
     "text": [
      "Top 0th token. Logit: 18.09 Prob: 70.07% Token: | Mary|\n",
      "Top 1th token. Logit: 15.38 Prob:  4.67% Token: | the|\n",
      "Top 2th token. Logit: 15.35 Prob:  4.54% Token: | John|\n",
      "Top 3th token. Logit: 15.25 Prob:  4.11% Token: | them|\n",
      "Top 4th token. Logit: 14.84 Prob:  2.73% Token: | his|\n",
      "Top 5th token. Logit: 14.06 Prob:  1.24% Token: | her|\n",
      "Top 6th token. Logit: 13.54 Prob:  0.74% Token: | a|\n",
      "Top 7th token. Logit: 13.52 Prob:  0.73% Token: | their|\n",
      "Top 8th token. Logit: 13.13 Prob:  0.49% Token: | Jesus|\n",
      "Top 9th token. Logit: 12.97 Prob:  0.42% Token: | him|\n"
     ]
    },
    {
     "data": {
      "text/html": [
       "<pre style=\"white-space:pre;overflow-x:auto;line-height:normal;font-family:Menlo,'DejaVu Sans Mono',consolas,'Courier New',monospace\"><span style=\"font-weight: bold\">Ranks of the answer tokens:</span> <span style=\"font-weight: bold\">[(</span><span style=\"color: #008000; text-decoration-color: #008000\">' John'</span>, <span style=\"color: #008080; text-decoration-color: #008080; font-weight: bold\">2</span><span style=\"font-weight: bold\">)]</span>\n",
       "</pre>\n"
      ],
      "text/plain": [
       "\u001b[1mRanks of the answer tokens:\u001b[0m \u001b[1m[\u001b[0m\u001b[1m(\u001b[0m\u001b[32m' John'\u001b[0m, \u001b[1;36m2\u001b[0m\u001b[1m)\u001b[0m\u001b[1m]\u001b[0m\n"
      ]
     },
     "metadata": {},
     "output_type": "display_data"
    }
   ],
   "source": [
    "utils.test_prompt(example_prompt, \" John\", model, prepend_bos=True)"
   ]
  },
  {
   "cell_type": "code",
   "execution_count": null,
   "id": "32352cb7-5a29-42f6-9924-c91953c07516",
   "metadata": {},
   "outputs": [
    {
     "name": "stdout",
     "output_type": "stream",
     "text": [
      "['When John and Mary went to the shops, John gave the bag to', 'When John and Mary went to the shops, Mary gave the bag to', 'When Tom and James went to the park, James gave the ball to', 'When Tom and James went to the park, Tom gave the ball to', 'When Dan and Sid went to the shops, Sid gave an apple to', 'When Dan and Sid went to the shops, Dan gave an apple to', 'After Martin and Amy went to the park, Amy gave a drink to', 'After Martin and Amy went to the park, Martin gave a drink to']\n",
      "[(' Mary', ' John'), (' John', ' Mary'), (' Tom', ' James'), (' James', ' Tom'), (' Dan', ' Sid'), (' Sid', ' Dan'), (' Martin', ' Amy'), (' Amy', ' Martin')]\n"
     ]
    }
   ],
   "source": [
    "prompt_format = [\n",
    "    \"When John and Mary went to the shops,{} gave the bag to\",\n",
    "    \"When Tom and James went to the park,{} gave the ball to\",\n",
    "    \"When Dan and Sid went to the shops,{} gave an apple to\",\n",
    "    \"After Martin and Amy went to the park,{} gave a drink to\",\n",
    "]\n",
    "names = [\n",
    "    (\" Mary\", \" John\"),\n",
    "    (\" Tom\", \" James\"),\n",
    "    (\" Dan\", \" Sid\"),\n",
    "    (\" Martin\", \" Amy\"),\n",
    "]\n",
    "# List of prompts\n",
    "prompts = []\n",
    "# List of answers, in the format (correct, incorrect)\n",
    "answers = []\n",
    "# List of the token (ie an integer) corresponding to each answer, in the format (correct_token, incorrect_token)\n",
    "answer_tokens = []\n",
    "for i in range(len(prompt_format)):\n",
    "    for j in range(2):\n",
    "        answers.append((names[i][j], names[i][1 - j]))\n",
    "        answer_tokens.append(\n",
    "            (\n",
    "                model.to_single_token(answers[-1][0]),\n",
    "                model.to_single_token(answers[-1][1]),\n",
    "            )\n",
    "        )\n",
    "        # Insert the *incorrect* answer to the prompt, making the correct answer the indirect object.\n",
    "        prompts.append(prompt_format[i].format(answers[-1][1]))\n",
    "answer_tokens = torch.tensor(answer_tokens)\n",
    "print(prompts)\n",
    "print(answers)"
   ]
  },
  {
   "cell_type": "code",
   "execution_count": null,
   "id": "1bf91922-6006-4ec3-9f6a-d5a851d8dab2",
   "metadata": {},
   "outputs": [],
   "source": [
    "tokens = model.to_tokens(prompts, prepend_bos=True)"
   ]
  },
  {
   "cell_type": "code",
   "execution_count": null,
   "id": "2a00d33a-3bd0-4c60-a6cf-24b6458773dc",
   "metadata": {},
   "outputs": [],
   "source": [
    "original_logits, cache = model.run_with_cache(tokens)"
   ]
  },
  {
   "cell_type": "markdown",
   "id": "fd8f8a4c-115a-4af8-a069-84cedb53195b",
   "metadata": {},
   "source": [
    "##### Example 1"
   ]
  },
  {
   "cell_type": "code",
   "execution_count": null,
   "id": "033d9ff0-a614-4cdb-872c-e00a9a349ec9",
   "metadata": {},
   "outputs": [],
   "source": [
    "import torch\n",
    "import torch.nn.functional as F"
   ]
  },
  {
   "cell_type": "code",
   "execution_count": null,
   "id": "32446e39-404b-42e3-bc59-0c375d423222",
   "metadata": {},
   "outputs": [],
   "source": [
    "# Set the random seed for reproducibility\n",
    "torch.manual_seed(42)\n",
    "\n",
    "# Random Q, K, and V vectors for 5 tokens with dimension 3\n",
    "q = torch.randn(5, 3)\n",
    "k = torch.randn(5, 3)\n",
    "v = torch.randn(5, 3)"
   ]
  },
  {
   "cell_type": "code",
   "execution_count": null,
   "id": "fc3fa850-82e3-45b1-a63a-c49bffe0eb07",
   "metadata": {},
   "outputs": [],
   "source": [
    "# Calculate the attention scores by taking the dot product of Q and K\n",
    "attn_scores = torch.matmul(q, k.t())  # Shape: (5, 5)"
   ]
  },
  {
   "cell_type": "code",
   "execution_count": null,
   "id": "509b8c1a-6ffc-4896-b4cb-ba12c04ed1f8",
   "metadata": {},
   "outputs": [
    {
     "data": {
      "text/plain": [
       "tensor([[ 0.6844,    -inf,    -inf,    -inf,    -inf],\n",
       "        [-1.4162,  0.4144,    -inf,    -inf,    -inf],\n",
       "        [ 1.6491, -0.5878,  2.0916,    -inf,    -inf],\n",
       "        [ 1.6247,  0.4884,  0.6516,  0.5284,    -inf],\n",
       "        [-1.9787, -0.9195,  0.5297, -0.2993, -0.7008]])"
      ]
     },
     "execution_count": null,
     "metadata": {},
     "output_type": "execute_result"
    }
   ],
   "source": [
    "# Apply mask to the attention scores to ignore positions after the current one\n",
    "mask = torch.triu(torch.ones(5, 5), diagonal=1).bool()\n",
    "attn_scores.masked_fill_(mask, float('-inf'))"
   ]
  },
  {
   "cell_type": "code",
   "execution_count": null,
   "id": "56ea861c-a01a-40de-b947-dcf8e0d3a408",
   "metadata": {},
   "outputs": [],
   "source": [
    "# Calculate the attention pattern by applying row-wise softmax\n",
    "attn_pattern = F.softmax(attn_scores, dim=-1)  # Shape: (5, 5)"
   ]
  },
  {
   "cell_type": "code",
   "execution_count": null,
   "id": "663df9cf-a0ae-4e81-bb39-18388a06b609",
   "metadata": {},
   "outputs": [
    {
     "data": {
      "text/plain": [
       "torch.Size([5, 5])"
      ]
     },
     "execution_count": null,
     "metadata": {},
     "output_type": "execute_result"
    }
   ],
   "source": [
    "attn_pattern.shape"
   ]
  },
  {
   "cell_type": "code",
   "execution_count": null,
   "id": "bb4484ce-d66e-4ed3-ae03-d1317e36db91",
   "metadata": {},
   "outputs": [
    {
     "data": {
      "text/plain": [
       "torch.Size([5])"
      ]
     },
     "execution_count": null,
     "metadata": {},
     "output_type": "execute_result"
    }
   ],
   "source": [
    "attn_pattern[1].shape"
   ]
  },
  {
   "cell_type": "code",
   "execution_count": null,
   "id": "486d5b6f-2c26-4459-89a1-fdb3a37f0030",
   "metadata": {},
   "outputs": [
    {
     "data": {
      "text/plain": [
       "torch.Size([5, 5])"
      ]
     },
     "execution_count": null,
     "metadata": {},
     "output_type": "execute_result"
    }
   ],
   "source": [
    "attn_pattern.shape"
   ]
  },
  {
   "cell_type": "code",
   "execution_count": null,
   "id": "e0c9f785-0532-41f4-a58b-6942990c147b",
   "metadata": {},
   "outputs": [
    {
     "data": {
      "text/plain": [
       "torch.Size([5, 3])"
      ]
     },
     "execution_count": null,
     "metadata": {},
     "output_type": "execute_result"
    }
   ],
   "source": [
    "v.shape"
   ]
  },
  {
   "cell_type": "code",
   "execution_count": null,
   "id": "148ddeb9-0adc-4492-8a7e-e34963bad702",
   "metadata": {},
   "outputs": [
    {
     "data": {
      "text/plain": [
       "tensor([ 0.8640, -1.0157, -0.8887])"
      ]
     },
     "execution_count": null,
     "metadata": {},
     "output_type": "execute_result"
    }
   ],
   "source": [
    "v[1]"
   ]
  },
  {
   "cell_type": "code",
   "execution_count": null,
   "id": "4c145f20-22f3-4e07-aba5-cede489e8d32",
   "metadata": {},
   "outputs": [
    {
     "data": {
      "text/plain": [
       "torch.Size([5, 3])"
      ]
     },
     "execution_count": null,
     "metadata": {},
     "output_type": "execute_result"
    }
   ],
   "source": [
    "v.shape"
   ]
  },
  {
   "cell_type": "code",
   "execution_count": null,
   "id": "20d3bb39-42f1-4392-ac65-ab022661a6d0",
   "metadata": {},
   "outputs": [
    {
     "data": {
      "text/plain": [
       "torch.Size([5, 3])"
      ]
     },
     "execution_count": null,
     "metadata": {},
     "output_type": "execute_result"
    }
   ],
   "source": [
    "v.shape"
   ]
  },
  {
   "cell_type": "code",
   "execution_count": null,
   "id": "04c17f42-a12f-4368-9ce7-8db1da34b2ef",
   "metadata": {},
   "outputs": [
    {
     "data": {
      "text/plain": [
       "tensor(-0.7746)"
      ]
     },
     "execution_count": null,
     "metadata": {},
     "output_type": "execute_result"
    }
   ],
   "source": [
    "attn_pattern[1] @ v[:, 1]"
   ]
  },
  {
   "cell_type": "code",
   "execution_count": null,
   "id": "991e60e0-92b1-4e5d-a45b-e1bd20bded37",
   "metadata": {},
   "outputs": [],
   "source": [
    "import torch\n",
    "import torch.nn.functional as F"
   ]
  },
  {
   "cell_type": "code",
   "execution_count": null,
   "id": "75feb481-4dbd-46ef-9dbc-5b07f98533af",
   "metadata": {},
   "outputs": [],
   "source": [
    "# Set the random seed for reproducibility\n",
    "torch.manual_seed(42)\n",
    "\n",
    "# Random Q, K, and V vectors for 5 tokens with dimension 3\n",
    "q = torch.randn(5, 3)\n",
    "k = torch.randn(5, 3)\n",
    "v = torch.randn(5, 3)"
   ]
  },
  {
   "cell_type": "code",
   "execution_count": null,
   "id": "35caa253-27ad-4611-9095-78a4c036cba3",
   "metadata": {},
   "outputs": [],
   "source": [
    "# Calculate the attention scores by taking the dot product of Q and K\n",
    "attn_scores = torch.matmul(q, k.t())  # Shape: (5, 5)"
   ]
  },
  {
   "cell_type": "code",
   "execution_count": null,
   "id": "91f089b3-198f-4447-b317-eddaad02455f",
   "metadata": {},
   "outputs": [
    {
     "data": {
      "text/plain": [
       "tensor([[ 0.6844,    -inf,    -inf,    -inf,    -inf],\n",
       "        [-1.4162,  0.4144,    -inf,    -inf,    -inf],\n",
       "        [ 1.6491, -0.5878,  2.0916,    -inf,    -inf],\n",
       "        [ 1.6247,  0.4884,  0.6516,  0.5284,    -inf],\n",
       "        [-1.9787, -0.9195,  0.5297, -0.2993, -0.7008]])"
      ]
     },
     "execution_count": null,
     "metadata": {},
     "output_type": "execute_result"
    }
   ],
   "source": [
    "# Apply mask to the attention scores to ignore positions after the current one\n",
    "mask = torch.triu(torch.ones(5, 5), diagonal=1).bool()\n",
    "attn_scores.masked_fill_(mask, float('-inf'))"
   ]
  },
  {
   "cell_type": "code",
   "execution_count": null,
   "id": "e5d15e2b-bfc7-416d-a25a-e006c5b9e485",
   "metadata": {},
   "outputs": [],
   "source": [
    "# Calculate the attention pattern by applying row-wise softmax\n",
    "attn_pattern = F.softmax(attn_scores, dim=-1)  # Shape: (5, 5)"
   ]
  },
  {
   "cell_type": "code",
   "execution_count": null,
   "id": "2cea49f4-5c3c-48f0-9966-7bd5a8ca74c5",
   "metadata": {},
   "outputs": [
    {
     "data": {
      "text/plain": [
       "torch.Size([5, 5])"
      ]
     },
     "execution_count": null,
     "metadata": {},
     "output_type": "execute_result"
    }
   ],
   "source": [
    "attn_pattern.shape"
   ]
  },
  {
   "cell_type": "code",
   "execution_count": null,
   "id": "cd4aa3df-c8a9-4422-82f2-c1497b47aa02",
   "metadata": {},
   "outputs": [
    {
     "data": {
      "text/plain": [
       "torch.Size([5])"
      ]
     },
     "execution_count": null,
     "metadata": {},
     "output_type": "execute_result"
    }
   ],
   "source": [
    "attn_pattern[1].shape"
   ]
  },
  {
   "cell_type": "code",
   "execution_count": null,
   "id": "ab446e0e-ebef-404f-b23e-ca5584d10453",
   "metadata": {},
   "outputs": [
    {
     "data": {
      "text/plain": [
       "torch.Size([5, 5])"
      ]
     },
     "execution_count": null,
     "metadata": {},
     "output_type": "execute_result"
    }
   ],
   "source": [
    "attn_pattern.shape"
   ]
  },
  {
   "cell_type": "code",
   "execution_count": null,
   "id": "7df92354-171f-4d32-92b1-f1abbf855a35",
   "metadata": {},
   "outputs": [
    {
     "data": {
      "text/plain": [
       "torch.Size([5, 3])"
      ]
     },
     "execution_count": null,
     "metadata": {},
     "output_type": "execute_result"
    }
   ],
   "source": [
    "v.shape"
   ]
  },
  {
   "cell_type": "code",
   "execution_count": null,
   "id": "496fec2e-71a2-4f3b-b99b-7ba0d460b626",
   "metadata": {},
   "outputs": [
    {
     "data": {
      "text/plain": [
       "tensor([ 0.8640, -1.0157, -0.8887])"
      ]
     },
     "execution_count": null,
     "metadata": {},
     "output_type": "execute_result"
    }
   ],
   "source": [
    "v[1]"
   ]
  },
  {
   "cell_type": "code",
   "execution_count": null,
   "id": "1d7e6f73-2ef5-42ec-8a46-66c8cd1b280f",
   "metadata": {},
   "outputs": [
    {
     "data": {
      "text/plain": [
       "torch.Size([5, 3])"
      ]
     },
     "execution_count": null,
     "metadata": {},
     "output_type": "execute_result"
    }
   ],
   "source": [
    "v.shape"
   ]
  },
  {
   "cell_type": "code",
   "execution_count": null,
   "id": "2c350ff8-140c-487c-8cd1-37423b487bcb",
   "metadata": {},
   "outputs": [
    {
     "data": {
      "text/plain": [
       "torch.Size([5, 3])"
      ]
     },
     "execution_count": null,
     "metadata": {},
     "output_type": "execute_result"
    }
   ],
   "source": [
    "v.shape"
   ]
  },
  {
   "cell_type": "code",
   "execution_count": null,
   "id": "f170da4d-6f94-4e7d-91e0-9e245853c50b",
   "metadata": {},
   "outputs": [
    {
     "data": {
      "text/plain": [
       "tensor(-0.7746)"
      ]
     },
     "execution_count": null,
     "metadata": {},
     "output_type": "execute_result"
    }
   ],
   "source": [
    "attn_pattern[1] @ v[:, 1]"
   ]
  },
  {
   "cell_type": "code",
   "execution_count": null,
   "id": "672a6696-5aee-4882-b9c2-ac235c9519f3",
   "metadata": {},
   "outputs": [
    {
     "name": "stdout",
     "output_type": "stream",
     "text": [
      "Q:\n",
      "tensor([[ 0.3367,  0.1288,  0.2345],\n",
      "        [ 0.2303, -1.1229, -0.1863],\n",
      "        [ 2.2082, -0.6380,  0.4617],\n",
      "        [ 0.2674,  0.5349,  0.8094],\n",
      "        [ 1.1103, -1.6898, -0.9890]])\n",
      "K:\n",
      "tensor([[ 0.9580,  1.3221,  0.8172],\n",
      "        [-0.7658, -0.7506,  1.3525],\n",
      "        [ 0.6863, -0.3278,  0.7950],\n",
      "        [ 0.2815,  0.0562,  0.5227],\n",
      "        [-0.2384, -0.0499,  0.5263]])\n",
      "V:\n",
      "tensor([[-0.0085,  0.7291,  0.1331],\n",
      "        [ 0.8640, -1.0157, -0.8887],\n",
      "        [ 0.1498, -0.2089, -0.3870],\n",
      "        [ 0.9912,  0.4679, -0.2049],\n",
      "        [-0.7409,  0.3618,  1.9199]])\n",
      "Attention Scores:\n",
      "tensor([[ 0.6844,    -inf,    -inf,    -inf,    -inf],\n",
      "        [-1.4162,  0.4144,    -inf,    -inf,    -inf],\n",
      "        [ 1.6491, -0.5878,  2.0916,    -inf,    -inf],\n",
      "        [ 1.6247,  0.4884,  0.6516,  0.5284,    -inf],\n",
      "        [-1.9787, -0.9195,  0.5297, -0.2993, -0.7008]])\n",
      "Attention Pattern:\n",
      "tensor([[1.0000, 0.0000, 0.0000, 0.0000, 0.0000],\n",
      "        [0.1382, 0.8618, 0.0000, 0.0000, 0.0000],\n",
      "        [0.3755, 0.0401, 0.5844, 0.0000, 0.0000],\n",
      "        [0.4919, 0.1579, 0.1859, 0.1643, 0.0000],\n",
      "        [0.0398, 0.1148, 0.4890, 0.2135, 0.1429]])\n",
      "Mixed Value:\n",
      "tensor([[-0.0085,  0.7291,  0.1331],\n",
      "        [ 0.7434, -0.7746, -0.7476],\n",
      "        [ 0.1190,  0.1109, -0.2118],\n",
      "        [ 0.3230,  0.2363, -0.1805],\n",
      "        [ 0.2778, -0.0382, -0.0555]])\n"
     ]
    }
   ],
   "source": [
    "# Compute the mixed value by multiplying the attention pattern with V\n",
    "mixed_value = torch.matmul(attn_pattern, v)  # Shape: (5, 3)\n",
    "\n",
    "print(\"Q:\")\n",
    "print(q)\n",
    "print(\"K:\")\n",
    "print(k)\n",
    "print(\"V:\")\n",
    "print(v)\n",
    "print(\"Attention Scores:\")\n",
    "print(attn_scores)\n",
    "print(\"Attention Pattern:\")\n",
    "print(attn_pattern)\n",
    "print(\"Mixed Value:\")\n",
    "print(mixed_value)"
   ]
  },
  {
   "cell_type": "markdown",
   "id": "5dafc058-2090-4d39-98f2-52e0e363ade6",
   "metadata": {},
   "source": [
    "##### Example 2"
   ]
  },
  {
   "cell_type": "code",
   "execution_count": null,
   "id": "692dd8a5-fb66-4201-8a32-ef5d8c0a4f2a",
   "metadata": {},
   "outputs": [],
   "source": [
    "from transformer_lens.utils import get_act_name"
   ]
  },
  {
   "cell_type": "code",
   "execution_count": null,
   "id": "481a91ad-d342-4a85-9ed6-157ae18d2d85",
   "metadata": {},
   "outputs": [],
   "source": [
    "act_name = get_act_name(\"k6\")"
   ]
  },
  {
   "cell_type": "code",
   "execution_count": null,
   "id": "d4fb87ed-37f4-43a2-b380-aef312f32aeb",
   "metadata": {},
   "outputs": [
    {
     "data": {
      "text/plain": [
       "transformer_lens.ActivationCache.ActivationCache"
      ]
     },
     "execution_count": null,
     "metadata": {},
     "output_type": "execute_result"
    }
   ],
   "source": [
    "type(cache)"
   ]
  },
  {
   "cell_type": "code",
   "execution_count": null,
   "id": "6ad54cf8-c8f3-400d-b877-5df1076b9c77",
   "metadata": {},
   "outputs": [
    {
     "data": {
      "text/plain": [
       "'blocks.6.attn.hook_k'"
      ]
     },
     "execution_count": null,
     "metadata": {},
     "output_type": "execute_result"
    }
   ],
   "source": [
    "act_name"
   ]
  },
  {
   "cell_type": "markdown",
   "id": "34dd8247-79a5-4f52-9f8d-81dbe7292016",
   "metadata": {},
   "source": [
    "Extract the activation of `act_name`"
   ]
  },
  {
   "cell_type": "code",
   "execution_count": null,
   "id": "2b63d3d5-8b3a-404e-ba45-2acff19ca773",
   "metadata": {},
   "outputs": [],
   "source": [
    "activations = cache[act_name]"
   ]
  },
  {
   "cell_type": "code",
   "execution_count": null,
   "id": "57d917e7-051e-481c-ab9a-406dcf9cf3d0",
   "metadata": {},
   "outputs": [
    {
     "data": {
      "text/plain": [
       "torch.Size([8, 15, 12, 64])"
      ]
     },
     "execution_count": null,
     "metadata": {},
     "output_type": "execute_result"
    }
   ],
   "source": [
    "activations.shape"
   ]
  },
  {
   "cell_type": "markdown",
   "id": "dca7879a-652e-4491-af6e-400c57bd06d8",
   "metadata": {},
   "source": [
    "##### Example 3"
   ]
  },
  {
   "cell_type": "code",
   "execution_count": null,
   "id": "4b959a27-ea20-48a1-9b9f-b8587650c6ec",
   "metadata": {},
   "outputs": [
    {
     "data": {
      "text/plain": [
       "transformer_lens.ActivationCache.ActivationCache"
      ]
     },
     "execution_count": null,
     "metadata": {},
     "output_type": "execute_result"
    }
   ],
   "source": [
    "type(cache)"
   ]
  },
  {
   "cell_type": "markdown",
   "id": "23bc9379-d065-498a-809e-8c8fb02a9693",
   "metadata": {},
   "source": [
    "Extract all intermediate activations of the attention in the second layer"
   ]
  },
  {
   "cell_type": "code",
   "execution_count": null,
   "id": "51ac1caf-23e7-4939-b508-3e44a89dc3ac",
   "metadata": {},
   "outputs": [],
   "source": [
    "activations = cache[\"attn\", 1]"
   ]
  },
  {
   "cell_type": "code",
   "execution_count": null,
   "id": "8fd165d1-8f1e-46c6-95ad-da5631e5b834",
   "metadata": {},
   "outputs": [
    {
     "data": {
      "text/plain": [
       "torch.Size([8, 12, 15, 15])"
      ]
     },
     "execution_count": null,
     "metadata": {},
     "output_type": "execute_result"
    }
   ],
   "source": [
    "activations.shape"
   ]
  },
  {
   "cell_type": "markdown",
   "id": "79590863-6140-4f6f-b8ea-ceff5cf464f6",
   "metadata": {},
   "source": [
    "`batch_size` = 8, `seq_len` = 12"
   ]
  },
  {
   "cell_type": "markdown",
   "id": "2a2a460e-9bb4-4d55-9bbd-c2fbef638b90",
   "metadata": {},
   "source": [
    "Extract the activations of the third head in the second sentence"
   ]
  },
  {
   "cell_type": "code",
   "execution_count": null,
   "id": "fe8a1ad8-b0bf-4430-8036-4711d56dec9e",
   "metadata": {},
   "outputs": [],
   "source": [
    "act_head = activations[1, 2]"
   ]
  },
  {
   "cell_type": "code",
   "execution_count": null,
   "id": "d352b4ea-a34b-4ae4-aa7d-dfa20ef04c3a",
   "metadata": {},
   "outputs": [
    {
     "data": {
      "text/plain": [
       "torch.Size([15, 15])"
      ]
     },
     "execution_count": null,
     "metadata": {},
     "output_type": "execute_result"
    }
   ],
   "source": [
    "act_head.shape"
   ]
  },
  {
   "cell_type": "code",
   "execution_count": 5,
   "id": "373ed487-221c-474b-8eb2-7458bdba99d1",
   "metadata": {
    "tags": []
   },
   "outputs": [
    {
     "ename": "SyntaxError",
     "evalue": "invalid syntax (1947284924.py, line 1)",
     "output_type": "error",
     "traceback": [
      "\u001b[0;36m  Cell \u001b[0;32mIn[5], line 1\u001b[0;36m\u001b[0m\n\u001b[0;31m    args = class C()\u001b[0m\n\u001b[0m           ^\u001b[0m\n\u001b[0;31mSyntaxError\u001b[0m\u001b[0;31m:\u001b[0m invalid syntax\n"
     ]
    }
   ],
   "source": [
    "args = class C()"
   ]
  },
  {
   "cell_type": "code",
   "execution_count": 4,
   "id": "8f7af4fc-cd41-4f18-8b6d-439f5b1ac4f2",
   "metadata": {
    "tags": []
   },
   "outputs": [
    {
     "ename": "AttributeError",
     "evalue": "'object' object has no attribute 'x'",
     "output_type": "error",
     "traceback": [
      "\u001b[0;31m---------------------------------------------------------------------------\u001b[0m",
      "\u001b[0;31mAttributeError\u001b[0m                            Traceback (most recent call last)",
      "Cell \u001b[0;32mIn[4], line 1\u001b[0m\n\u001b[0;32m----> 1\u001b[0m \u001b[43margs\u001b[49m\u001b[38;5;241;43m.\u001b[39;49m\u001b[43mx\u001b[49m \u001b[38;5;241m=\u001b[39m \u001b[38;5;241m1\u001b[39m\n",
      "\u001b[0;31mAttributeError\u001b[0m: 'object' object has no attribute 'x'"
     ]
    }
   ],
   "source": [
    "args.x = 1"
   ]
  },
  {
   "cell_type": "code",
   "execution_count": null,
   "id": "3a5a06b5-ac5c-436f-8fe6-3fff77b65c50",
   "metadata": {},
   "outputs": [],
   "source": []
  }
 ],
 "metadata": {
  "kernelspec": {
   "display_name": "Python 3 (ipykernel)",
   "language": "python",
   "name": "python3"
  },
  "language_info": {
   "codemirror_mode": {
    "name": "ipython",
    "version": 3
   },
   "file_extension": ".py",
   "mimetype": "text/x-python",
   "name": "python",
   "nbconvert_exporter": "python",
   "pygments_lexer": "ipython3",
   "version": "3.8.16"
  }
 },
 "nbformat": 4,
 "nbformat_minor": 5
}
