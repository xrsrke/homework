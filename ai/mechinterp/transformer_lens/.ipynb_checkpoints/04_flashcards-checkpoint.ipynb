{
 "cells": [
  {
   "cell_type": "code",
   "execution_count": null,
   "id": "87ae90b7-11fd-4821-b70c-a277078b478a",
   "metadata": {},
   "outputs": [],
   "source": [
    "# Plotly needs a different renderer for VSCode/Notebooks vs Colab argh\n",
    "import plotly.io as pio\n",
    "pio.renderers.default = \"png\""
   ]
  },
  {
   "cell_type": "code",
   "execution_count": null,
   "id": "65047c0a-7774-4030-b373-d88d6ab21220",
   "metadata": {},
   "outputs": [
    {
     "data": {
      "text/plain": [
       "<torch.autograd.grad_mode.set_grad_enabled>"
      ]
     },
     "execution_count": null,
     "metadata": {},
     "output_type": "execute_result"
    }
   ],
   "source": [
    "import torch\n",
    "import einops\n",
    "import pysvelte\n",
    "from tqdm import tqdm\n",
    "\n",
    "import transformer_lens\n",
    "from transformer_lens import HookedTransformer, ActivationCache\n",
    "from neel_plotly import line, imshow, scatter\n",
    "\n",
    "torch.set_grad_enabled(False)"
   ]
  },
  {
   "cell_type": "code",
   "execution_count": null,
   "id": "13712fbc-4120-4406-a39b-7ee548528778",
   "metadata": {},
   "outputs": [
    {
     "name": "stdout",
     "output_type": "stream",
     "text": [
      "device = 'cpu'\n"
     ]
    }
   ],
   "source": [
    "device = \"cuda\" if torch.cuda.is_available() else \"cpu\"\n",
    "print(f\"{device = }\")"
   ]
  },
  {
   "cell_type": "code",
   "execution_count": null,
   "id": "4891f37b-6f4e-4250-883b-d9308fa9d8e1",
   "metadata": {},
   "outputs": [],
   "source": [
    "def plot_head_detection_scores(\n",
    "    scores: torch.Tensor,\n",
    "    zmin: float = -1,\n",
    "    zmax: float = 1,\n",
    "    xaxis: str = \"Head\",\n",
    "    yaxis: str = \"Layer\",\n",
    "    title: str = \"Head Matches\"\n",
    ") -> None:\n",
    "    imshow(scores, zmin=zmin, zmax=zmax, xaxis=xaxis, yaxis=yaxis, title=title)\n",
    "\n",
    "def plot_attn_pattern_from_cache(cache: ActivationCache, layer_i: int):\n",
    "    attention_pattern = cache[\"pattern\", layer_i, \"attn\"].squeeze(0)\n",
    "    attention_pattern = einops.rearrange(attention_pattern, \"heads seq1 seq2 -> seq1 seq2 heads\")\n",
    "    print(f\"Layer {layer_i} Attention Heads:\")\n",
    "    return pysvelte.AttentionMulti(tokens=model.to_str_tokens(prompt), attention=attention_pattern)"
   ]
  },
  {
   "cell_type": "code",
   "execution_count": null,
   "id": "2ceab577-159d-4586-b6fb-4a7f57c52c44",
   "metadata": {},
   "outputs": [
    {
     "name": "stderr",
     "output_type": "stream",
     "text": [
      "Using pad_token, but it is not set yet.\n"
     ]
    },
    {
     "name": "stdout",
     "output_type": "stream",
     "text": [
      "Loaded pretrained model gpt2-small into HookedTransformer\n"
     ]
    }
   ],
   "source": [
    "model = HookedTransformer.from_pretrained(\"gpt2-small\")"
   ]
  },
  {
   "cell_type": "markdown",
   "id": "454886ab-834c-4309-b487-a269526918d0",
   "metadata": {},
   "source": [
    "##### Example 1"
   ]
  },
  {
   "cell_type": "code",
   "execution_count": null,
   "id": "7853e9f7-3932-4333-b666-ba2c6c2f6ab4",
   "metadata": {},
   "outputs": [],
   "source": [
    "import torch"
   ]
  },
  {
   "cell_type": "code",
   "execution_count": null,
   "id": "795ec6d6-5023-4692-9ed7-3e3bd5ab07c0",
   "metadata": {},
   "outputs": [],
   "source": [
    "x = torch.arange(start=0, end=20).view(4, 5)"
   ]
  },
  {
   "cell_type": "code",
   "execution_count": null,
   "id": "16a0d465-495b-4441-9e28-dbd632a58d45",
   "metadata": {},
   "outputs": [],
   "source": [
    "import torch"
   ]
  },
  {
   "cell_type": "code",
   "execution_count": null,
   "id": "4c7ee773-2bf1-4d3f-83f5-fa41a83619fd",
   "metadata": {},
   "outputs": [
    {
     "data": {
      "text/plain": [
       "tensor([[ 0,  1,  2,  3,  4],\n",
       "        [ 5,  6,  7,  8,  9],\n",
       "        [10, 11, 12, 13, 14],\n",
       "        [15, 16, 17, 18, 19]])"
      ]
     },
     "execution_count": null,
     "metadata": {},
     "output_type": "execute_result"
    }
   ],
   "source": [
    "x"
   ]
  },
  {
   "cell_type": "code",
   "execution_count": null,
   "id": "d40b1375-61a9-4bb4-abb8-b7be466647c9",
   "metadata": {},
   "outputs": [],
   "source": [
    "x1 = torch.roll(x, shifts=1, dims=0)"
   ]
  },
  {
   "cell_type": "markdown",
   "id": "bbbe035c-0ed3-4d1a-8b74-ecc5344515c8",
   "metadata": {},
   "source": [
    "**Explain**: When `shift=1`, that means everything is moved forward by `1` position."
   ]
  },
  {
   "cell_type": "code",
   "execution_count": null,
   "id": "59321d84-ef98-4b42-bae2-8749561dde58",
   "metadata": {},
   "outputs": [
    {
     "data": {
      "text/plain": [
       "tensor([[15, 16, 17, 18, 19],\n",
       "        [ 0,  1,  2,  3,  4],\n",
       "        [ 5,  6,  7,  8,  9],\n",
       "        [10, 11, 12, 13, 14]])"
      ]
     },
     "execution_count": null,
     "metadata": {},
     "output_type": "execute_result"
    }
   ],
   "source": [
    "x1"
   ]
  },
  {
   "cell_type": "code",
   "execution_count": null,
   "id": "393a9343-b806-4bc1-a03b-7612e80d61e8",
   "metadata": {},
   "outputs": [],
   "source": [
    "x2 = torch.roll(x, shifts=-2, dims=0)"
   ]
  },
  {
   "cell_type": "markdown",
   "id": "f1a2f174-1a6e-4a02-955f-bddf453c1f2e",
   "metadata": {},
   "source": [
    "**Explain**: If `shift=-2`, that means everything is moved backward by `2` positions."
   ]
  },
  {
   "cell_type": "code",
   "execution_count": null,
   "id": "f5c62866-939a-4978-bffb-b9db9ef7386e",
   "metadata": {},
   "outputs": [
    {
     "data": {
      "text/plain": [
       "tensor([[10, 11, 12, 13, 14],\n",
       "        [15, 16, 17, 18, 19],\n",
       "        [ 0,  1,  2,  3,  4],\n",
       "        [ 5,  6,  7,  8,  9]])"
      ]
     },
     "execution_count": null,
     "metadata": {},
     "output_type": "execute_result"
    }
   ],
   "source": [
    "x2"
   ]
  },
  {
   "cell_type": "code",
   "execution_count": null,
   "id": "06085259-53b6-413b-9b8a-c9bd7bbece1e",
   "metadata": {},
   "outputs": [],
   "source": [
    "x3 = torch.roll(x, shifts=1, dims=1)"
   ]
  },
  {
   "cell_type": "markdown",
   "id": "0f7f25c0-babc-40c0-89fa-ed2c96d4056b",
   "metadata": {},
   "source": [
    "**Explain**: All elements along dimension `1` (the second dimension) forward by `1` position"
   ]
  },
  {
   "cell_type": "code",
   "execution_count": null,
   "id": "bdf1b684-ab23-4405-a8fb-23e6bfe33c7f",
   "metadata": {},
   "outputs": [
    {
     "data": {
      "text/plain": [
       "tensor([[ 4,  0,  1,  2,  3],\n",
       "        [ 9,  5,  6,  7,  8],\n",
       "        [14, 10, 11, 12, 13],\n",
       "        [19, 15, 16, 17, 18]])"
      ]
     },
     "execution_count": null,
     "metadata": {},
     "output_type": "execute_result"
    }
   ],
   "source": [
    "x3"
   ]
  },
  {
   "cell_type": "markdown",
   "id": "e647887b-84dd-4278-a268-412bc88c93bf",
   "metadata": {},
   "source": [
    "##### Example 2"
   ]
  },
  {
   "cell_type": "code",
   "execution_count": null,
   "id": "55bab587-4136-47db-a391-75286bcde318",
   "metadata": {},
   "outputs": [],
   "source": [
    "import torch"
   ]
  },
  {
   "cell_type": "code",
   "execution_count": null,
   "id": "962b82c2-77c9-435d-be92-72cdae3feed3",
   "metadata": {},
   "outputs": [],
   "source": [
    "x = torch.arange(start=0, end=4).view(2, 2)"
   ]
  },
  {
   "cell_type": "code",
   "execution_count": null,
   "id": "deeb6e25-f325-4150-a9fb-a40c2fe47a7f",
   "metadata": {},
   "outputs": [
    {
     "data": {
      "text/plain": [
       "tensor([[0, 1],\n",
       "        [2, 3]])"
      ]
     },
     "execution_count": null,
     "metadata": {},
     "output_type": "execute_result"
    }
   ],
   "source": [
    "x"
   ]
  },
  {
   "cell_type": "code",
   "execution_count": null,
   "id": "266e9e2d-6343-4acd-af9c-935066f11f83",
   "metadata": {},
   "outputs": [],
   "source": [
    "x1 = x.repeat((1, 1))"
   ]
  },
  {
   "cell_type": "markdown",
   "id": "7a300888-03f1-49cf-a6ee-483630979865",
   "metadata": {},
   "source": [
    "**Explain**: Repeat all elements in the first dimension `1` times, and all elements in the second dimension `1` times."
   ]
  },
  {
   "cell_type": "code",
   "execution_count": null,
   "id": "83fec180-7f57-4a03-b147-ad395ef24723",
   "metadata": {},
   "outputs": [
    {
     "data": {
      "text/plain": [
       "tensor([[0, 1],\n",
       "        [2, 3]])"
      ]
     },
     "execution_count": null,
     "metadata": {},
     "output_type": "execute_result"
    }
   ],
   "source": [
    "x1"
   ]
  },
  {
   "cell_type": "code",
   "execution_count": null,
   "id": "cd8ea990-30c0-4c82-a11c-af5c96179caa",
   "metadata": {},
   "outputs": [],
   "source": [
    "x2 = x.repeat((2, 2))"
   ]
  },
  {
   "cell_type": "markdown",
   "id": "dd0a4d71-6d0a-4966-9ebd-a6e0105c3a49",
   "metadata": {},
   "source": [
    "**Explain**: Repeat all elements in the first dimension `2` times, and all elements in the second dimension `2` times."
   ]
  },
  {
   "cell_type": "code",
   "execution_count": null,
   "id": "af0d8507-b776-4977-a287-75b2aca381e5",
   "metadata": {},
   "outputs": [
    {
     "data": {
      "text/plain": [
       "tensor([[0, 1, 0, 1],\n",
       "        [2, 3, 2, 3],\n",
       "        [0, 1, 0, 1],\n",
       "        [2, 3, 2, 3]])"
      ]
     },
     "execution_count": null,
     "metadata": {},
     "output_type": "execute_result"
    }
   ],
   "source": [
    "x2"
   ]
  },
  {
   "cell_type": "code",
   "execution_count": null,
   "id": "ec5fd228-ad9d-48ab-aac7-b08c3ef5c33f",
   "metadata": {},
   "outputs": [],
   "source": [
    "x3 = x.repeat((3, 2))"
   ]
  },
  {
   "cell_type": "markdown",
   "id": "a3d3d2ac-25a1-4b5b-9231-8ed4817a67fa",
   "metadata": {},
   "source": [
    "**Explain**: Repeat all elements in the first dimension `3` times, and all elements in the second dimension `2` times."
   ]
  },
  {
   "cell_type": "code",
   "execution_count": null,
   "id": "2e7857cd-0004-4dc0-8e7a-b5e94eea08ff",
   "metadata": {},
   "outputs": [
    {
     "data": {
      "text/plain": [
       "tensor([[0, 1, 0, 1],\n",
       "        [2, 3, 2, 3],\n",
       "        [0, 1, 0, 1],\n",
       "        [2, 3, 2, 3],\n",
       "        [0, 1, 0, 1],\n",
       "        [2, 3, 2, 3]])"
      ]
     },
     "execution_count": null,
     "metadata": {},
     "output_type": "execute_result"
    }
   ],
   "source": [
    "x3"
   ]
  },
  {
   "cell_type": "markdown",
   "id": "0519a733-3e80-43f7-8e52-75cfa609419f",
   "metadata": {},
   "source": [
    "##### Example 3"
   ]
  },
  {
   "cell_type": "code",
   "execution_count": null,
   "id": "ce4590fb-8576-4eb2-a8d9-6c99f16eed39",
   "metadata": {},
   "outputs": [],
   "source": [
    "attention_patterns = torch.randn(4, 4)"
   ]
  },
  {
   "cell_type": "code",
   "execution_count": null,
   "id": "062adf02-5704-4b3e-8160-2615acc09249",
   "metadata": {},
   "outputs": [
    {
     "data": {
      "text/plain": [
       "tensor([[-1.0401,  0.6058,  0.7679, -0.3499],\n",
       "        [-0.0723, -1.0480, -0.8529,  0.1932],\n",
       "        [ 0.5115, -1.1325, -0.5393, -0.4609],\n",
       "        [ 0.3871,  0.3811,  1.9242, -1.5790]])"
      ]
     },
     "execution_count": null,
     "metadata": {},
     "output_type": "execute_result"
    }
   ],
   "source": [
    "attention_patterns"
   ]
  },
  {
   "cell_type": "code",
   "execution_count": null,
   "id": "a35f1277-4b66-4183-bfcc-d3590ed0984d",
   "metadata": {},
   "outputs": [
    {
     "data": {
      "text/plain": [
       "tensor([[-1.0401,  0.6058,  0.7679, -0.3499],\n",
       "        [-0.0723, -1.0480, -0.8529,  0.1932],\n",
       "        [ 0.5115, -1.1325, -0.5393, -0.4609],\n",
       "        [ 0.3871,  0.3811,  1.9242, -1.5790]])"
      ]
     },
     "execution_count": null,
     "metadata": {},
     "output_type": "execute_result"
    }
   ],
   "source": [
    "attention_patterns"
   ]
  },
  {
   "cell_type": "markdown",
   "id": "f9b17a7f-761b-40b6-8201-06d38d951355",
   "metadata": {},
   "source": [
    "##### Example 4"
   ]
  },
  {
   "cell_type": "markdown",
   "id": "f7f055bf-6888-4461-b67e-c605d3d86b9b",
   "metadata": {},
   "source": [
    "### Head Detector"
   ]
  },
  {
   "cell_type": "markdown",
   "id": "de8bc792-243e-4951-b157-12a81c832d19",
   "metadata": {},
   "source": [
    "##### Example 0"
   ]
  },
  {
   "cell_type": "code",
   "execution_count": null,
   "id": "75ca11eb-ee9e-4399-a542-ad95e3a8c717",
   "metadata": {},
   "outputs": [],
   "source": [
    "text = \"Persistence is all you need.\""
   ]
  },
  {
   "cell_type": "code",
   "execution_count": null,
   "id": "481eae89-4366-4252-b29c-64b4dfcec94f",
   "metadata": {},
   "outputs": [],
   "source": [
    "tokens = model.to_tokens(text)"
   ]
  },
  {
   "cell_type": "code",
   "execution_count": null,
   "id": "42fdde6e-290a-47f3-b01d-bcc787a1fcfc",
   "metadata": {},
   "outputs": [],
   "source": [
    "seq_len = tokens.shape[-1]"
   ]
  },
  {
   "cell_type": "code",
   "execution_count": null,
   "id": "e968060d-efd2-49a1-9f73-e5114ee5cd02",
   "metadata": {},
   "outputs": [],
   "source": [
    "attention_pattern = torch.randn(5, 5)"
   ]
  },
  {
   "cell_type": "code",
   "execution_count": null,
   "id": "ce552daf-15ab-45de-ae75-7642c51d17cd",
   "metadata": {},
   "outputs": [],
   "source": [
    "import torch"
   ]
  },
  {
   "cell_type": "code",
   "execution_count": null,
   "id": "12ebab25-1876-4c88-b8e9-72975dc09c74",
   "metadata": {},
   "outputs": [
    {
     "data": {
      "text/plain": [
       "transformer_lens.HookedTransformer.HookedTransformer"
      ]
     },
     "execution_count": null,
     "metadata": {},
     "output_type": "execute_result"
    }
   ],
   "source": [
    "type(model)"
   ]
  },
  {
   "cell_type": "code",
   "execution_count": null,
   "id": "a6b5499c-7fdf-4ed5-a508-24f3896c9ca3",
   "metadata": {},
   "outputs": [
    {
     "data": {
      "text/plain": [
       "'Persistence is all you need.'"
      ]
     },
     "execution_count": null,
     "metadata": {},
     "output_type": "execute_result"
    }
   ],
   "source": [
    "text"
   ]
  },
  {
   "cell_type": "markdown",
   "id": "7e2bd601-d56f-462b-83e8-f1e32e9e6467",
   "metadata": {},
   "source": [
    "Create the target pattern for a previous token head of `text`"
   ]
  },
  {
   "cell_type": "code",
   "execution_count": null,
   "id": "be6f9e2f-2dfd-4a7f-8f6b-db315ee895bb",
   "metadata": {},
   "outputs": [],
   "source": [
    "tokens = model.to_tokens(text)"
   ]
  },
  {
   "cell_type": "code",
   "execution_count": null,
   "id": "43177b85-52ea-433e-84c7-a5b66d242679",
   "metadata": {},
   "outputs": [],
   "source": [
    "seq_len = tokens.shape[-1]"
   ]
  },
  {
   "cell_type": "code",
   "execution_count": null,
   "id": "e4c6305f-be9a-43f0-a26c-d9621f7df1f1",
   "metadata": {},
   "outputs": [],
   "source": [
    "target_pattern = torch.zeros(seq_len, seq_len)"
   ]
  },
  {
   "cell_type": "code",
   "execution_count": null,
   "id": "43fcbe0b-8d1d-4f1d-a4af-00bed2f5bc36",
   "metadata": {},
   "outputs": [],
   "source": [
    "target_pattern[torch.arange(seq_len), torch.arange(seq_len)-1] = 1"
   ]
  },
  {
   "cell_type": "markdown",
   "id": "bcc6658a-e3a4-4bb9-a2de-7b3e6a9f097e",
   "metadata": {},
   "source": [
    "As the first row only contains one token and does not have a preceding token head, we set all attention scores to zero."
   ]
  },
  {
   "cell_type": "code",
   "execution_count": null,
   "id": "9e3edf4e-2dbd-4215-b646-b3eb81517e19",
   "metadata": {},
   "outputs": [],
   "source": [
    "target_pattern[0] = torch.zeros_like(target_pattern[0])"
   ]
  },
  {
   "cell_type": "code",
   "execution_count": null,
   "id": "41de02b3-d1ec-4075-b14c-fe844b29f59a",
   "metadata": {},
   "outputs": [
    {
     "data": {
      "text/plain": [
       "tensor([[0., 0., 0., 0., 0., 0., 0., 0.],\n",
       "        [1., 0., 0., 0., 0., 0., 0., 0.],\n",
       "        [0., 1., 0., 0., 0., 0., 0., 0.],\n",
       "        [0., 0., 1., 0., 0., 0., 0., 0.],\n",
       "        [0., 0., 0., 1., 0., 0., 0., 0.],\n",
       "        [0., 0., 0., 0., 1., 0., 0., 0.],\n",
       "        [0., 0., 0., 0., 0., 1., 0., 0.],\n",
       "        [0., 0., 0., 0., 0., 0., 1., 0.]])"
      ]
     },
     "execution_count": null,
     "metadata": {},
     "output_type": "execute_result"
    }
   ],
   "source": [
    "target_pattern"
   ]
  },
  {
   "cell_type": "code",
   "execution_count": null,
   "id": "b17c4da0-8791-4c2e-af3c-27a87b1201e4",
   "metadata": {},
   "outputs": [
    {
     "data": {
      "text/plain": [
       "torch.Tensor"
      ]
     },
     "execution_count": null,
     "metadata": {},
     "output_type": "execute_result"
    }
   ],
   "source": [
    "type(target_pattern)"
   ]
  },
  {
   "cell_type": "markdown",
   "id": "d478158c-a0a3-4654-a08b-ef0e236c62e3",
   "metadata": {},
   "source": [
    "##### Example 1"
   ]
  },
  {
   "cell_type": "code",
   "execution_count": null,
   "id": "5bba87fe-0bec-4be4-9162-03f681391679",
   "metadata": {},
   "outputs": [],
   "source": [
    "text = \"Persistence is all you need.\""
   ]
  },
  {
   "cell_type": "code",
   "execution_count": null,
   "id": "933a1d37-0fb0-4ea3-bd40-274ef0c61903",
   "metadata": {},
   "outputs": [],
   "source": [
    "n_layers = model.cfg.n_layers\n",
    "n_heads = model.cfg.n_heads"
   ]
  },
  {
   "cell_type": "code",
   "execution_count": null,
   "id": "d72d7e66-d826-4bbe-acbb-c3ddaa122a83",
   "metadata": {},
   "outputs": [],
   "source": [
    "import torch"
   ]
  },
  {
   "cell_type": "code",
   "execution_count": null,
   "id": "fea0687c-5335-4412-8a94-7b05be92ffb6",
   "metadata": {},
   "outputs": [
    {
     "data": {
      "text/plain": [
       "transformer_lens.HookedTransformer.HookedTransformer"
      ]
     },
     "execution_count": null,
     "metadata": {},
     "output_type": "execute_result"
    }
   ],
   "source": [
    "type(model)"
   ]
  },
  {
   "cell_type": "code",
   "execution_count": null,
   "id": "72515454-7428-4766-8505-2f06738f2a2a",
   "metadata": {},
   "outputs": [
    {
     "data": {
      "text/plain": [
       "'Persistence is all you need.'"
      ]
     },
     "execution_count": null,
     "metadata": {},
     "output_type": "execute_result"
    }
   ],
   "source": [
    "text"
   ]
  },
  {
   "cell_type": "code",
   "execution_count": null,
   "id": "283eb909-ddd3-4332-9ff9-1d897a0cd198",
   "metadata": {},
   "outputs": [
    {
     "data": {
      "text/plain": [
       "(12, 12, torch.Size([8, 8]))"
      ]
     },
     "execution_count": null,
     "metadata": {},
     "output_type": "execute_result"
    }
   ],
   "source": [
    "n_layers, n_heads, target_pattern.shape"
   ]
  },
  {
   "cell_type": "markdown",
   "id": "b78b9de0-98fc-4537-a4bb-a6fc27a56fc0",
   "metadata": {},
   "source": [
    "Write code to automatically detect previous token heads in `text` by\n",
    "\n",
    "summing the attn scores of positions in the `target_pattern`.\n",
    "\n",
    "**Hints**:\n",
    "- Normalize the score and `blocks.{layer_idx}.attn.hook_pattern`\n",
    "- `layer_attn_patterns[batch_idx, head_idx, :, : ]`"
   ]
  },
  {
   "cell_type": "code",
   "execution_count": null,
   "id": "ca1575d5-a927-488e-b768-deb10a682c57",
   "metadata": {},
   "outputs": [],
   "source": [
    "tokens = model.to_tokens(text)"
   ]
  },
  {
   "cell_type": "code",
   "execution_count": null,
   "id": "0e393789-ed11-4ca8-b655-9b7b56f50992",
   "metadata": {},
   "outputs": [],
   "source": [
    "_, cache = model.run_with_cache(tokens)"
   ]
  },
  {
   "cell_type": "code",
   "execution_count": null,
   "id": "8fb5c463-f630-48af-ad63-bc96a6266698",
   "metadata": {},
   "outputs": [],
   "source": [
    "heads = {layer_idx: list(range(n_heads)) for layer_idx in range(n_layers)}"
   ]
  },
  {
   "cell_type": "code",
   "execution_count": null,
   "id": "33f58cc9-0168-49f6-9cf6-faae748fb108",
   "metadata": {},
   "outputs": [],
   "source": [
    "batch_idx = 0"
   ]
  },
  {
   "cell_type": "code",
   "execution_count": null,
   "id": "b15f7103-607f-4add-a392-4304a2f43566",
   "metadata": {},
   "outputs": [],
   "source": [
    "data = torch.zeros(n_layers, n_heads)"
   ]
  },
  {
   "cell_type": "code",
   "execution_count": null,
   "id": "ec68e4d5-8d41-4d02-9839-503f8415a411",
   "metadata": {},
   "outputs": [],
   "source": [
    "def compute_head_attention_similarity_score(attention_pattern, target_pattern):\n",
    "    score = attention_pattern * target_pattern\n",
    "    return score.sum() / attention_pattern.sum()"
   ]
  },
  {
   "cell_type": "code",
   "execution_count": null,
   "id": "bae5cb98-389c-4336-87b3-14f79b6ce486",
   "metadata": {},
   "outputs": [],
   "source": [
    "for layer_idx, head_idxs in heads.items():    \n",
    "    hook_name = f\"blocks.{layer_idx}.attn.hook_pattern\"\n",
    "    layer_attn_patterns = cache[hook_name]\n",
    "    \n",
    "    for head_idx in head_idxs:\n",
    "        head_attn_patterns = layer_attn_patterns[batch_idx, head_idx, :, :]\n",
    "        head_score = compute_head_attention_similarity_score(\n",
    "            attention_pattern=head_attn_patterns,\n",
    "            target_pattern=target_pattern\n",
    "        )\n",
    "        data[layer_idx, head_idx] = head_score"
   ]
  },
  {
   "cell_type": "code",
   "execution_count": null,
   "id": "945e82ce-86c6-40b0-bdad-2114a517cb2d",
   "metadata": {},
   "outputs": [
    {
     "data": {
      "text/plain": [
       "torch.Size([12, 12])"
      ]
     },
     "execution_count": null,
     "metadata": {},
     "output_type": "execute_result"
    }
   ],
   "source": [
    "data.shape"
   ]
  },
  {
   "cell_type": "code",
   "execution_count": null,
   "id": "a4d98987-dadf-4845-98f1-5ed4c0866513",
   "metadata": {},
   "outputs": [
    {
     "data": {
      "image/png": "[encoded data removed]"
     },
     "metadata": {},
     "output_type": "display_data"
    }
   ],
   "source": [
    "imshow(data, xaxis=\"Head\", yaxis=\"Layer\", title=\"Head Matches\", zmin=-1, zmax=1)"
   ]
  },
  {
   "cell_type": "code",
   "execution_count": null,
   "id": "df1f5e5e-4e8f-4265-97a5-fb4c94de7d80",
   "metadata": {},
   "outputs": [
    {
     "data": {
      "text/plain": [
       "tensor([[0., 0., 0., 0., 0., 0., 0., 0.],\n",
       "        [1., 0., 0., 0., 0., 0., 0., 0.],\n",
       "        [0., 1., 0., 0., 0., 0., 0., 0.],\n",
       "        [0., 0., 1., 0., 0., 0., 0., 0.],\n",
       "        [0., 0., 0., 1., 0., 0., 0., 0.],\n",
       "        [0., 0., 0., 0., 1., 0., 0., 0.],\n",
       "        [0., 0., 0., 0., 0., 1., 0., 0.],\n",
       "        [0., 0., 0., 0., 0., 0., 1., 0.]])"
      ]
     },
     "execution_count": null,
     "metadata": {},
     "output_type": "execute_result"
    }
   ],
   "source": [
    "target_pattern"
   ]
  },
  {
   "cell_type": "code",
   "execution_count": null,
   "id": "6048798e-2b2b-4e40-9ab5-5a6073f333b7",
   "metadata": {},
   "outputs": [],
   "source": []
  }
 ],
 "metadata": {
  "kernelspec": {
   "display_name": "Python 3 (ipykernel)",
   "language": "python",
   "name": "python3"
  }
 },
 "nbformat": 4,
 "nbformat_minor": 5
}
