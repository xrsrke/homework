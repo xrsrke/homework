{
 "cells": [
  {
   "cell_type": "code",
   "execution_count": null,
   "id": "74aead48-7002-46ff-9b18-e47dbb33a082",
   "metadata": {},
   "outputs": [
    {
     "name": "stderr",
     "output_type": "stream",
     "text": [
      "/var/folders/pf/g3nr86yn4j71vzzmv6knwdhr0000gp/T/ipykernel_6566/3428527070.py:5: DeprecationWarning: `magic(...)` is deprecated since IPython 0.13 (warning added in 8.1), use run_line_magic(magic_name, parameter_s).\n",
      "  ipython.magic(\"load_ext autoreload\")\n",
      "/var/folders/pf/g3nr86yn4j71vzzmv6knwdhr0000gp/T/ipykernel_6566/3428527070.py:6: DeprecationWarning: `magic(...)` is deprecated since IPython 0.13 (warning added in 8.1), use run_line_magic(magic_name, parameter_s).\n",
      "  ipython.magic(\"autoreload 2\")\n"
     ]
    },
    {
     "ename": "NameError",
     "evalue": "name 'torch' is not defined",
     "output_type": "error",
     "traceback": [
      "\u001b[0;31m---------------------------------------------------------------------------\u001b[0m",
      "\u001b[0;31mNameError\u001b[0m                                 Traceback (most recent call last)",
      "Cell \u001b[0;32mIn[1], line 8\u001b[0m\n\u001b[1;32m      5\u001b[0m ipython\u001b[38;5;241m.\u001b[39mmagic(\u001b[38;5;124m\"\u001b[39m\u001b[38;5;124mload_ext autoreload\u001b[39m\u001b[38;5;124m\"\u001b[39m)\n\u001b[1;32m      6\u001b[0m ipython\u001b[38;5;241m.\u001b[39mmagic(\u001b[38;5;124m\"\u001b[39m\u001b[38;5;124mautoreload 2\u001b[39m\u001b[38;5;124m\"\u001b[39m)\n\u001b[0;32m----> 8\u001b[0m \u001b[43mtorch\u001b[49m\u001b[38;5;241m.\u001b[39mset_grad_enabled(\u001b[38;5;28;01mFalse\u001b[39;00m)\n",
      "\u001b[0;31mNameError\u001b[0m: name 'torch' is not defined"
     ]
    }
   ],
   "source": [
    "from IPython import get_ipython\n",
    "\n",
    "ipython = get_ipython()\n",
    "# Code to automatically update the HookedTransformer code as its edited without restarting the kernel\n",
    "ipython.magic(\"load_ext autoreload\")\n",
    "ipython.magic(\"autoreload 2\")\n",
    "\n",
    "torch.set_grad_enabled(False)"
   ]
  },
  {
   "cell_type": "code",
   "execution_count": null,
   "id": "a4c51ee0-e33c-4d5f-b037-e097678cb37f",
   "metadata": {},
   "outputs": [],
   "source": [
    "# Import stuff\n",
    "import torch\n",
    "import torch.nn as nn\n",
    "import torch.nn.functional as F\n",
    "import torch.optim as optim\n",
    "import numpy as np\n",
    "import einops\n",
    "from fancy_einsum import einsum\n",
    "import tqdm.notebook as tqdm\n",
    "import random\n",
    "from pathlib import Path\n",
    "import plotly.express as px\n",
    "from torch.utils.data import DataLoader\n",
    "\n",
    "from jaxtyping import Float, Int\n",
    "from typing import List, Union, Optional\n",
    "from functools import partial\n",
    "import copy\n",
    "\n",
    "import itertools\n",
    "from transformers import AutoModelForCausalLM, AutoConfig, AutoTokenizer\n",
    "import dataclasses\n",
    "import datasets\n",
    "from IPython.display import HTML"
   ]
  },
  {
   "cell_type": "code",
   "execution_count": null,
   "id": "eb747d96-9121-441b-a706-7be1397686df",
   "metadata": {},
   "outputs": [],
   "source": [
    "import pysvelte\n",
    "\n",
    "import transformer_lens\n",
    "import transformer_lens.utils as utils\n",
    "from transformer_lens.hook_points import (\n",
    "    HookedRootModule,\n",
    "    HookPoint,\n",
    ")  # Hooking utilities\n",
    "from transformer_lens import HookedTransformer, HookedTransformerConfig, FactoredMatrix, ActivationCache"
   ]
  },
  {
   "cell_type": "code",
   "execution_count": null,
   "id": "865d8291-123a-4bf7-ac41-11a2a335465e",
   "metadata": {},
   "outputs": [],
   "source": [
    "def imshow(tensor, renderer=None, **kwargs):\n",
    "    px.imshow(utils.to_numpy(tensor), color_continuous_midpoint=0.0, color_continuous_scale=\"RdBu\", **kwargs).show(renderer)\n",
    "\n",
    "def line(tensor, renderer=None, **kwargs):\n",
    "    px.line(y=utils.to_numpy(tensor), **kwargs).show(renderer)\n",
    "\n",
    "def scatter(x, y, xaxis=\"\", yaxis=\"\", caxis=\"\", renderer=None, **kwargs):\n",
    "    x = utils.to_numpy(x)\n",
    "    y = utils.to_numpy(y)\n",
    "    px.scatter(y=y, x=x, labels={\"x\":xaxis, \"y\":yaxis, \"color\":caxis}, **kwargs).show(renderer)"
   ]
  },
  {
   "cell_type": "code",
   "execution_count": null,
   "id": "ac008a3e-c3ef-4a00-ae3c-aac4bd996aac",
   "metadata": {},
   "outputs": [],
   "source": [
    "model = HookedTransformer.from_pretrained(\n",
    "    \"gpt2-small\",\n",
    "    center_unembed=True,\n",
    "    center_writing_weights=True,\n",
    "    fold_ln=True,\n",
    "    refactor_factored_attn_matrices=True\n",
    ")"
   ]
  },
  {
   "cell_type": "code",
   "execution_count": null,
   "id": "5fd2b890-8b7d-44f6-8193-5dad5710c88b",
   "metadata": {},
   "outputs": [],
   "source": [
    "clean_prompt = \"When John and Mary went to the shops, John gave the bag to \""
   ]
  },
  {
   "cell_type": "code",
   "execution_count": null,
   "id": "042da97c-c274-4611-b47b-68c9691c75c4",
   "metadata": {},
   "outputs": [],
   "source": [
    "corrupted_prompt = \"When John and Mary went to the shops, Mary gave the bag to \""
   ]
  },
  {
   "cell_type": "code",
   "execution_count": null,
   "id": "e2919c2f-5414-459a-83c4-cbbab3a3c1e4",
   "metadata": {},
   "outputs": [
    {
     "data": {
      "text/plain": [
       "'When John and Mary went to the shops, John gave the bag to '"
      ]
     },
     "execution_count": null,
     "metadata": {},
     "output_type": "execute_result"
    }
   ],
   "source": [
    "clean_prompt"
   ]
  },
  {
   "cell_type": "code",
   "execution_count": null,
   "id": "eb5fe2b7-3672-42b3-8f71-5edfeedc9180",
   "metadata": {},
   "outputs": [],
   "source": [
    "clean_tokens = model.to_tokens(clean_prompt, prepend_bos=True)\n",
    "corrupted_tokens = model.to_tokens(corrupted_prompt, prepend_bos=True)"
   ]
  },
  {
   "cell_type": "code",
   "execution_count": null,
   "id": "2e27a2f0-704b-46e7-b785-dc426bc0c76b",
   "metadata": {},
   "outputs": [],
   "source": [
    "# original_logits, cache\n",
    "clean_logits, clean_activations = model.run_with_cache(clean_tokens)"
   ]
  },
  {
   "cell_type": "code",
   "execution_count": null,
   "id": "ec00ff1f-16e5-48bc-8b2e-83549d8d3998",
   "metadata": {},
   "outputs": [],
   "source": [
    "n_tokens = clean_tokens.shape[-1]"
   ]
  },
  {
   "cell_type": "code",
   "execution_count": null,
   "id": "3541785d-0006-4470-acc3-bdb6fedec976",
   "metadata": {},
   "outputs": [],
   "source": [
    "patched_residual_stream_diff = torch.zeros(\n",
    "    model.cfg.n_layers,\n",
    "    n_tokens,\n",
    "    dtype=torch.float32\n",
    ")"
   ]
  },
  {
   "cell_type": "code",
   "execution_count": null,
   "id": "337e3076-9d47-42f4-bf37-f7a85a6c2376",
   "metadata": {},
   "outputs": [],
   "source": [
    "n_layers = model.cfg.n_layers"
   ]
  },
  {
   "cell_type": "code",
   "execution_count": null,
   "id": "26d396ed-9067-46d9-8ae7-88cc4622c8a1",
   "metadata": {},
   "outputs": [],
   "source": [
    "def patch_residual_component(\n",
    "    activations,\n",
    "    hook,\n",
    "    position,\n",
    "    clean_activations\n",
    "):\n",
    "    # set_trace()\n",
    "    activations[:, position, :] = clean_activations[hook.name][:, position, :]\n",
    "    return activations"
   ]
  },
  {
   "cell_type": "code",
   "execution_count": null,
   "id": "418b5060-aa98-4590-a040-1abac8b23849",
   "metadata": {},
   "outputs": [],
   "source": [
    "correct_token = model.to_single_token(\" Mary\")"
   ]
  },
  {
   "cell_type": "code",
   "execution_count": null,
   "id": "8d531b27-d017-4359-af09-d3bb41948fb3",
   "metadata": {},
   "outputs": [],
   "source": [
    "incorrect_token = model.to_single_token(\" John\")"
   ]
  },
  {
   "cell_type": "code",
   "execution_count": null,
   "id": "21aaa19e-87ce-4640-9783-a61adb246bee",
   "metadata": {},
   "outputs": [],
   "source": [
    "from IPython.core.debugger import set_trace"
   ]
  },
  {
   "cell_type": "code",
   "execution_count": null,
   "id": "0533b104-290f-4909-ac24-d5c98ded04f5",
   "metadata": {},
   "outputs": [],
   "source": [
    "# logits_to_ave_logit_diff\n",
    "def compute_logit_diff(logits, correct_token, incorrect_token):\n",
    "    last_token_logit = logits[:, -1, :]\n",
    "    \n",
    "    # set_trace()\n",
    "    logit_of_correct_token = last_token_logit[:, correct_token]\n",
    "    logit_of_incorrect_token = last_token_logit[:, incorrect_token]\n",
    "    logit_diff = logit_of_correct_token - logit_of_incorrect_token\n",
    "    # set_trace()\n",
    "    return logit_diff"
   ]
  },
  {
   "cell_type": "code",
   "execution_count": null,
   "id": "1df729f8-39ed-4b1d-ad7a-ac47b52c1fb3",
   "metadata": {},
   "outputs": [],
   "source": [
    "patched_residual_stream_diff = torch.zeros(n_layers, n_tokens, dtype=torch.float32)"
   ]
  },
  {
   "cell_type": "code",
   "execution_count": null,
   "id": "6794a880-c502-40e8-8ea2-a3ac8c013b06",
   "metadata": {},
   "outputs": [
    {
     "name": "stdout",
     "output_type": "stream",
     "text": [
      "position=0, layer=0\n",
      "tensor([1.1390], grad_fn=<SubBackward0>)\n",
      "position=1, layer=0\n",
      "tensor([1.1390], grad_fn=<SubBackward0>)\n",
      "position=2, layer=0\n",
      "tensor([1.1390], grad_fn=<SubBackward0>)\n",
      "position=3, layer=0\n",
      "tensor([1.1390], grad_fn=<SubBackward0>)\n",
      "position=4, layer=0\n",
      "tensor([1.1390], grad_fn=<SubBackward0>)\n",
      "position=5, layer=0\n",
      "tensor([1.1390], grad_fn=<SubBackward0>)\n",
      "position=6, layer=0\n",
      "tensor([1.1390], grad_fn=<SubBackward0>)\n",
      "position=7, layer=0\n",
      "tensor([1.1390], grad_fn=<SubBackward0>)\n",
      "position=8, layer=0\n",
      "tensor([1.1390], grad_fn=<SubBackward0>)\n",
      "position=9, layer=0\n",
      "tensor([1.1390], grad_fn=<SubBackward0>)\n",
      "position=10, layer=0\n",
      "tensor([1.3620], grad_fn=<SubBackward0>)\n",
      "position=11, layer=0\n",
      "tensor([1.1390], grad_fn=<SubBackward0>)\n",
      "position=12, layer=0\n",
      "tensor([1.1390], grad_fn=<SubBackward0>)\n",
      "position=13, layer=0\n",
      "tensor([1.1390], grad_fn=<SubBackward0>)\n",
      "position=14, layer=0\n",
      "tensor([1.1390], grad_fn=<SubBackward0>)\n",
      "position=15, layer=0\n",
      "tensor([1.1390], grad_fn=<SubBackward0>)\n",
      "position=0, layer=1\n",
      "tensor([1.1390], grad_fn=<SubBackward0>)\n",
      "position=1, layer=1\n",
      "tensor([1.1390], grad_fn=<SubBackward0>)\n",
      "position=2, layer=1\n",
      "tensor([1.1390], grad_fn=<SubBackward0>)\n",
      "position=3, layer=1\n",
      "tensor([1.1390], grad_fn=<SubBackward0>)\n",
      "position=4, layer=1\n",
      "tensor([1.1390], grad_fn=<SubBackward0>)\n",
      "position=5, layer=1\n",
      "tensor([1.1390], grad_fn=<SubBackward0>)\n",
      "position=6, layer=1\n",
      "tensor([1.1390], grad_fn=<SubBackward0>)\n",
      "position=7, layer=1\n",
      "tensor([1.1390], grad_fn=<SubBackward0>)\n",
      "position=8, layer=1\n",
      "tensor([1.1390], grad_fn=<SubBackward0>)\n",
      "position=9, layer=1\n",
      "tensor([1.1390], grad_fn=<SubBackward0>)\n",
      "position=10, layer=1\n",
      "tensor([1.3711], grad_fn=<SubBackward0>)\n",
      "position=11, layer=1\n",
      "tensor([1.1381], grad_fn=<SubBackward0>)\n",
      "position=12, layer=1\n",
      "tensor([1.1402], grad_fn=<SubBackward0>)\n",
      "position=13, layer=1\n",
      "tensor([1.1344], grad_fn=<SubBackward0>)\n",
      "position=14, layer=1\n",
      "tensor([1.1395], grad_fn=<SubBackward0>)\n",
      "position=15, layer=1\n",
      "tensor([1.1337], grad_fn=<SubBackward0>)\n",
      "position=0, layer=2\n",
      "tensor([1.1390], grad_fn=<SubBackward0>)\n",
      "position=1, layer=2\n",
      "tensor([1.1390], grad_fn=<SubBackward0>)\n",
      "position=2, layer=2\n",
      "tensor([1.1390], grad_fn=<SubBackward0>)\n",
      "position=3, layer=2\n",
      "tensor([1.1390], grad_fn=<SubBackward0>)\n",
      "position=4, layer=2\n",
      "tensor([1.1390], grad_fn=<SubBackward0>)\n",
      "position=5, layer=2\n",
      "tensor([1.1390], grad_fn=<SubBackward0>)\n",
      "position=6, layer=2\n",
      "tensor([1.1390], grad_fn=<SubBackward0>)\n",
      "position=7, layer=2\n",
      "tensor([1.1390], grad_fn=<SubBackward0>)\n",
      "position=8, layer=2\n",
      "tensor([1.1390], grad_fn=<SubBackward0>)\n",
      "position=9, layer=2\n",
      "tensor([1.1390], grad_fn=<SubBackward0>)\n",
      "position=10, layer=2\n",
      "tensor([1.3772], grad_fn=<SubBackward0>)\n",
      "position=11, layer=2\n",
      "tensor([1.1383], grad_fn=<SubBackward0>)\n",
      "position=12, layer=2\n",
      "tensor([1.1406], grad_fn=<SubBackward0>)\n",
      "position=13, layer=2\n",
      "tensor([1.1345], grad_fn=<SubBackward0>)\n",
      "position=14, layer=2\n",
      "tensor([1.1401], grad_fn=<SubBackward0>)\n",
      "position=15, layer=2\n",
      "tensor([1.1234], grad_fn=<SubBackward0>)\n",
      "position=0, layer=3\n",
      "tensor([1.1390], grad_fn=<SubBackward0>)\n",
      "position=1, layer=3\n",
      "tensor([1.1390], grad_fn=<SubBackward0>)\n",
      "position=2, layer=3\n",
      "tensor([1.1390], grad_fn=<SubBackward0>)\n",
      "position=3, layer=3\n",
      "tensor([1.1390], grad_fn=<SubBackward0>)\n",
      "position=4, layer=3\n",
      "tensor([1.1390], grad_fn=<SubBackward0>)\n",
      "position=5, layer=3\n",
      "tensor([1.1390], grad_fn=<SubBackward0>)\n",
      "position=6, layer=3\n",
      "tensor([1.1390], grad_fn=<SubBackward0>)\n",
      "position=7, layer=3\n",
      "tensor([1.1390], grad_fn=<SubBackward0>)\n",
      "position=8, layer=3\n",
      "tensor([1.1390], grad_fn=<SubBackward0>)\n",
      "position=9, layer=3\n",
      "tensor([1.1390], grad_fn=<SubBackward0>)\n",
      "position=10, layer=3\n",
      "tensor([1.3952], grad_fn=<SubBackward0>)\n",
      "position=11, layer=3\n",
      "tensor([1.1482], grad_fn=<SubBackward0>)\n",
      "position=12, layer=3\n",
      "tensor([1.1379], grad_fn=<SubBackward0>)\n",
      "position=13, layer=3\n",
      "tensor([1.1307], grad_fn=<SubBackward0>)\n",
      "position=14, layer=3\n",
      "tensor([1.1363], grad_fn=<SubBackward0>)\n",
      "position=15, layer=3\n",
      "tensor([1.1025], grad_fn=<SubBackward0>)\n",
      "position=0, layer=4\n",
      "tensor([1.1390], grad_fn=<SubBackward0>)\n",
      "position=1, layer=4\n",
      "tensor([1.1390], grad_fn=<SubBackward0>)\n",
      "position=2, layer=4\n",
      "tensor([1.1390], grad_fn=<SubBackward0>)\n",
      "position=3, layer=4\n",
      "tensor([1.1390], grad_fn=<SubBackward0>)\n",
      "position=4, layer=4\n",
      "tensor([1.1390], grad_fn=<SubBackward0>)\n",
      "position=5, layer=4\n",
      "tensor([1.1390], grad_fn=<SubBackward0>)\n",
      "position=6, layer=4\n",
      "tensor([1.1390], grad_fn=<SubBackward0>)\n",
      "position=7, layer=4\n",
      "tensor([1.1390], grad_fn=<SubBackward0>)\n",
      "position=8, layer=4\n",
      "tensor([1.1390], grad_fn=<SubBackward0>)\n",
      "position=9, layer=4\n",
      "tensor([1.1390], grad_fn=<SubBackward0>)\n",
      "position=10, layer=4\n",
      "tensor([1.4093], grad_fn=<SubBackward0>)\n",
      "position=11, layer=4\n",
      "tensor([1.1562], grad_fn=<SubBackward0>)\n",
      "position=12, layer=4\n",
      "tensor([1.1334], grad_fn=<SubBackward0>)\n",
      "position=13, layer=4\n",
      "tensor([1.1301], grad_fn=<SubBackward0>)\n",
      "position=14, layer=4\n",
      "tensor([1.1304], grad_fn=<SubBackward0>)\n",
      "position=15, layer=4\n",
      "tensor([1.1028], grad_fn=<SubBackward0>)\n",
      "position=0, layer=5\n",
      "tensor([1.1390], grad_fn=<SubBackward0>)\n",
      "position=1, layer=5\n",
      "tensor([1.1390], grad_fn=<SubBackward0>)\n",
      "position=2, layer=5\n",
      "tensor([1.1390], grad_fn=<SubBackward0>)\n",
      "position=3, layer=5\n",
      "tensor([1.1390], grad_fn=<SubBackward0>)\n",
      "position=4, layer=5\n",
      "tensor([1.1390], grad_fn=<SubBackward0>)\n",
      "position=5, layer=5\n",
      "tensor([1.1390], grad_fn=<SubBackward0>)\n",
      "position=6, layer=5\n",
      "tensor([1.1390], grad_fn=<SubBackward0>)\n",
      "position=7, layer=5\n",
      "tensor([1.1390], grad_fn=<SubBackward0>)\n",
      "position=8, layer=5\n",
      "tensor([1.1390], grad_fn=<SubBackward0>)\n",
      "position=9, layer=5\n",
      "tensor([1.1390], grad_fn=<SubBackward0>)\n",
      "position=10, layer=5\n",
      "tensor([1.3992], grad_fn=<SubBackward0>)\n",
      "position=11, layer=5\n",
      "tensor([1.1884], grad_fn=<SubBackward0>)\n",
      "position=12, layer=5\n",
      "tensor([1.1346], grad_fn=<SubBackward0>)\n",
      "position=13, layer=5\n",
      "tensor([1.1345], grad_fn=<SubBackward0>)\n",
      "position=14, layer=5\n",
      "tensor([1.1246], grad_fn=<SubBackward0>)\n",
      "position=15, layer=5\n",
      "tensor([1.0877], grad_fn=<SubBackward0>)\n",
      "position=0, layer=6\n",
      "tensor([1.1390], grad_fn=<SubBackward0>)\n",
      "position=1, layer=6\n",
      "tensor([1.1390], grad_fn=<SubBackward0>)\n",
      "position=2, layer=6\n",
      "tensor([1.1390], grad_fn=<SubBackward0>)\n",
      "position=3, layer=6\n",
      "tensor([1.1390], grad_fn=<SubBackward0>)\n",
      "position=4, layer=6\n",
      "tensor([1.1390], grad_fn=<SubBackward0>)\n",
      "position=5, layer=6\n",
      "tensor([1.1390], grad_fn=<SubBackward0>)\n",
      "position=6, layer=6\n",
      "tensor([1.1390], grad_fn=<SubBackward0>)\n",
      "position=7, layer=6\n",
      "tensor([1.1390], grad_fn=<SubBackward0>)\n",
      "position=8, layer=6\n",
      "tensor([1.1390], grad_fn=<SubBackward0>)\n",
      "position=9, layer=6\n",
      "tensor([1.1390], grad_fn=<SubBackward0>)\n",
      "position=10, layer=6\n",
      "tensor([1.3966], grad_fn=<SubBackward0>)\n",
      "position=11, layer=6\n",
      "tensor([1.1968], grad_fn=<SubBackward0>)\n",
      "position=12, layer=6\n",
      "tensor([1.1334], grad_fn=<SubBackward0>)\n",
      "position=13, layer=6\n",
      "tensor([1.1367], grad_fn=<SubBackward0>)\n",
      "position=14, layer=6\n",
      "tensor([1.1142], grad_fn=<SubBackward0>)\n",
      "position=15, layer=6\n",
      "tensor([1.0944], grad_fn=<SubBackward0>)\n",
      "position=0, layer=7\n",
      "tensor([1.1390], grad_fn=<SubBackward0>)\n",
      "position=1, layer=7\n",
      "tensor([1.1390], grad_fn=<SubBackward0>)\n",
      "position=2, layer=7\n",
      "tensor([1.1390], grad_fn=<SubBackward0>)\n",
      "position=3, layer=7\n",
      "tensor([1.1390], grad_fn=<SubBackward0>)\n",
      "position=4, layer=7\n",
      "tensor([1.1390], grad_fn=<SubBackward0>)\n",
      "position=5, layer=7\n",
      "tensor([1.1390], grad_fn=<SubBackward0>)\n",
      "position=6, layer=7\n",
      "tensor([1.1390], grad_fn=<SubBackward0>)\n",
      "position=7, layer=7\n",
      "tensor([1.1390], grad_fn=<SubBackward0>)\n",
      "position=8, layer=7\n",
      "tensor([1.1390], grad_fn=<SubBackward0>)\n",
      "position=9, layer=7\n",
      "tensor([1.1390], grad_fn=<SubBackward0>)\n",
      "position=10, layer=7\n",
      "tensor([1.3684], grad_fn=<SubBackward0>)\n",
      "position=11, layer=7\n",
      "tensor([1.3085], grad_fn=<SubBackward0>)\n",
      "position=12, layer=7\n",
      "tensor([1.1338], grad_fn=<SubBackward0>)\n",
      "position=13, layer=7\n",
      "tensor([1.1368], grad_fn=<SubBackward0>)\n",
      "position=14, layer=7\n",
      "tensor([1.1128], grad_fn=<SubBackward0>)\n",
      "position=15, layer=7\n",
      "tensor([1.0402], grad_fn=<SubBackward0>)\n",
      "position=0, layer=8\n",
      "tensor([1.1390], grad_fn=<SubBackward0>)\n",
      "position=1, layer=8\n",
      "tensor([1.1390], grad_fn=<SubBackward0>)\n",
      "position=2, layer=8\n",
      "tensor([1.1390], grad_fn=<SubBackward0>)\n",
      "position=3, layer=8\n",
      "tensor([1.1390], grad_fn=<SubBackward0>)\n",
      "position=4, layer=8\n",
      "tensor([1.1390], grad_fn=<SubBackward0>)\n",
      "position=5, layer=8\n",
      "tensor([1.1390], grad_fn=<SubBackward0>)\n",
      "position=6, layer=8\n",
      "tensor([1.1390], grad_fn=<SubBackward0>)\n",
      "position=7, layer=8\n",
      "tensor([1.1390], grad_fn=<SubBackward0>)\n",
      "position=8, layer=8\n",
      "tensor([1.1390], grad_fn=<SubBackward0>)\n",
      "position=9, layer=8\n",
      "tensor([1.1390], grad_fn=<SubBackward0>)\n",
      "position=10, layer=8\n",
      "tensor([0.9872], grad_fn=<SubBackward0>)\n",
      "position=11, layer=8\n",
      "tensor([1.1886], grad_fn=<SubBackward0>)\n",
      "position=12, layer=8\n",
      "tensor([1.1602], grad_fn=<SubBackward0>)\n",
      "position=13, layer=8\n",
      "tensor([1.1344], grad_fn=<SubBackward0>)\n",
      "position=14, layer=8\n",
      "tensor([1.4146], grad_fn=<SubBackward0>)\n",
      "position=15, layer=8\n",
      "tensor([1.1132], grad_fn=<SubBackward0>)\n",
      "position=0, layer=9\n",
      "tensor([1.1390], grad_fn=<SubBackward0>)\n",
      "position=1, layer=9\n",
      "tensor([1.1390], grad_fn=<SubBackward0>)\n",
      "position=2, layer=9\n",
      "tensor([1.1390], grad_fn=<SubBackward0>)\n",
      "position=3, layer=9\n",
      "tensor([1.1390], grad_fn=<SubBackward0>)\n",
      "position=4, layer=9\n",
      "tensor([1.1390], grad_fn=<SubBackward0>)\n",
      "position=5, layer=9\n",
      "tensor([1.1390], grad_fn=<SubBackward0>)\n",
      "position=6, layer=9\n",
      "tensor([1.1390], grad_fn=<SubBackward0>)\n",
      "position=7, layer=9\n",
      "tensor([1.1390], grad_fn=<SubBackward0>)\n",
      "position=8, layer=9\n",
      "tensor([1.1390], grad_fn=<SubBackward0>)\n",
      "position=9, layer=9\n",
      "tensor([1.1390], grad_fn=<SubBackward0>)\n",
      "position=10, layer=9\n",
      "tensor([0.6056], grad_fn=<SubBackward0>)\n",
      "position=11, layer=9\n",
      "tensor([1.2079], grad_fn=<SubBackward0>)\n",
      "position=12, layer=9\n",
      "tensor([1.1727], grad_fn=<SubBackward0>)\n",
      "position=13, layer=9\n",
      "tensor([1.1365], grad_fn=<SubBackward0>)\n",
      "position=14, layer=9\n",
      "tensor([1.6408], grad_fn=<SubBackward0>)\n",
      "position=15, layer=9\n",
      "tensor([1.2965], grad_fn=<SubBackward0>)\n",
      "position=0, layer=10\n",
      "tensor([1.1390], grad_fn=<SubBackward0>)\n",
      "position=1, layer=10\n",
      "tensor([1.1390], grad_fn=<SubBackward0>)\n",
      "position=2, layer=10\n",
      "tensor([1.1390], grad_fn=<SubBackward0>)\n",
      "position=3, layer=10\n",
      "tensor([1.1390], grad_fn=<SubBackward0>)\n",
      "position=4, layer=10\n",
      "tensor([1.1390], grad_fn=<SubBackward0>)\n",
      "position=5, layer=10\n",
      "tensor([1.1390], grad_fn=<SubBackward0>)\n",
      "position=6, layer=10\n",
      "tensor([1.1390], grad_fn=<SubBackward0>)\n",
      "position=7, layer=10\n",
      "tensor([1.1390], grad_fn=<SubBackward0>)\n",
      "position=8, layer=10\n",
      "tensor([1.1390], grad_fn=<SubBackward0>)\n",
      "position=9, layer=10\n",
      "tensor([1.1390], grad_fn=<SubBackward0>)\n",
      "position=10, layer=10\n",
      "tensor([0.8574], grad_fn=<SubBackward0>)\n",
      "position=11, layer=10\n",
      "tensor([1.1395], grad_fn=<SubBackward0>)\n",
      "position=12, layer=10\n",
      "tensor([1.1428], grad_fn=<SubBackward0>)\n",
      "position=13, layer=10\n",
      "tensor([1.1342], grad_fn=<SubBackward0>)\n",
      "position=14, layer=10\n",
      "tensor([1.3761], grad_fn=<SubBackward0>)\n",
      "position=15, layer=10\n",
      "tensor([1.4143], grad_fn=<SubBackward0>)\n",
      "position=0, layer=11\n",
      "tensor([1.1390], grad_fn=<SubBackward0>)\n",
      "position=1, layer=11\n",
      "tensor([1.1390], grad_fn=<SubBackward0>)\n",
      "position=2, layer=11\n",
      "tensor([1.1390], grad_fn=<SubBackward0>)\n",
      "position=3, layer=11\n",
      "tensor([1.1390], grad_fn=<SubBackward0>)\n",
      "position=4, layer=11\n",
      "tensor([1.1390], grad_fn=<SubBackward0>)\n",
      "position=5, layer=11\n",
      "tensor([1.1390], grad_fn=<SubBackward0>)\n",
      "position=6, layer=11\n",
      "tensor([1.1390], grad_fn=<SubBackward0>)\n",
      "position=7, layer=11\n",
      "tensor([1.1390], grad_fn=<SubBackward0>)\n",
      "position=8, layer=11\n",
      "tensor([1.1390], grad_fn=<SubBackward0>)\n",
      "position=9, layer=11\n",
      "tensor([1.1390], grad_fn=<SubBackward0>)\n",
      "position=10, layer=11\n",
      "tensor([1.1087], grad_fn=<SubBackward0>)\n",
      "position=11, layer=11\n",
      "tensor([1.1689], grad_fn=<SubBackward0>)\n",
      "position=12, layer=11\n",
      "tensor([1.1457], grad_fn=<SubBackward0>)\n",
      "position=13, layer=11\n",
      "tensor([1.1279], grad_fn=<SubBackward0>)\n",
      "position=14, layer=11\n",
      "tensor([1.2846], grad_fn=<SubBackward0>)\n",
      "position=15, layer=11\n",
      "tensor([1.1921], grad_fn=<SubBackward0>)\n"
     ]
    }
   ],
   "source": [
    "for layer in range(n_layers):\n",
    "    for position in range(n_tokens):\n",
    "        print(f\"position={position}, layer={layer}\")\n",
    "        hook_fn = partial(patch_residual_component, position=position, clean_activations=clean_activations)\n",
    "        patched_logits = model.run_with_hooks(\n",
    "            corrupted_tokens,\n",
    "            fwd_hooks=[(utils.get_act_name(\"resid_pre\", layer), hook_fn)],\n",
    "            return_type=\"logits\"\n",
    "        )\n",
    "        \n",
    "        patched_logit_diff = compute_logit_diff(patched_logits, correct_token, incorrect_token)\n",
    "        print(patched_logit_diff)\n",
    "        patched_residual_stream_diff[layer][position] = patched_logit_diff"
   ]
  },
  {
   "cell_type": "code",
   "execution_count": null,
   "id": "b0062aee-268d-4b0e-8f9e-9e70d2c34dc9",
   "metadata": {},
   "outputs": [
    {
     "data": {
      "text/plain": [
       "torch.Size([12, 16])"
      ]
     },
     "execution_count": null,
     "metadata": {},
     "output_type": "execute_result"
    }
   ],
   "source": [
    "patched_residual_stream_diff.shape"
   ]
  },
  {
   "cell_type": "code",
   "execution_count": null,
   "id": "edaf97ff-5bbd-4e3f-ac68-2ed3295282a1",
   "metadata": {},
   "outputs": [],
   "source": [
    "prompt_position_labels = [f\"{tok}_{i}\" for i, tok in enumerate(model.to_str_tokens(clean_tokens[0]))]"
   ]
  },
  {
   "cell_type": "code",
   "execution_count": null,
   "id": "d72d8102-3a9c-4611-80f1-0c8acf93d7c8",
   "metadata": {},
   "outputs": [
    {
     "data": {
      "application/vnd.plotly.v1+json": {
       "config": {
        "plotlyServerURL": "https://plot.ly"
       },
       "data": [
        {
         "coloraxis": "coloraxis",
         "hovertemplate": "layer: %{x}<br>position: %{y}<br>color: %{z}<extra></extra>",
         "name": "0",
         "type": "heatmap",
         "x": [
          "<|endoftext|>_0",
          "When_1",
          " John_2",
          " and_3",
          " Mary_4",
          " went_5",
          " to_6",
          " the_7",
          " shops_8",
          ",_9",
          " John_10",
          " gave_11",
          " the_12",
          " bag_13",
          " to_14",
          " _15"
         ],
         "xaxis": "x",
         "yaxis": "y",
         "z": [
          [
           1.1389813423156738,
           1.1389813423156738,
           1.1389813423156738,
           1.1389813423156738,
           1.1389813423156738,
           1.1389813423156738,
           1.1389813423156738,
           1.1389813423156738,
           1.1389813423156738,
           1.1389813423156738,
           1.361973762512207,
           1.1389813423156738,
           1.1389813423156738,
           1.1389813423156738,
           1.1389813423156738,
           1.1389813423156738
          ],
          [
           1.1389813423156738,
           1.1389813423156738,
           1.1389813423156738,
           1.1389813423156738,
           1.1389813423156738,
           1.1389813423156738,
           1.1389813423156738,
           1.1389813423156738,
           1.1389813423156738,
           1.1389813423156738,
           1.3711276054382324,
           1.1381278038024902,
           1.140249252319336,
           1.1343951225280762,
           1.1395068168640137,
           1.1337003707885742
          ],
          [
           1.1389813423156738,
           1.1389813423156738,
           1.1389813423156738,
           1.1389813423156738,
           1.1389813423156738,
           1.1389813423156738,
           1.1389813423156738,
           1.1389813423156738,
           1.1389813423156738,
           1.1389813423156738,
           1.377169132232666,
           1.1383142471313477,
           1.1406002044677734,
           1.1345090866088867,
           1.1400747299194336,
           1.1233854293823242
          ],
          [
           1.1389813423156738,
           1.1389813423156738,
           1.1389813423156738,
           1.1389813423156738,
           1.1389813423156738,
           1.1389813423156738,
           1.1389813423156738,
           1.1389813423156738,
           1.1389813423156738,
           1.1389813423156738,
           1.3952293395996094,
           1.148244857788086,
           1.1378870010375977,
           1.1306719779968262,
           1.1362838745117188,
           1.1025490760803223
          ],
          [
           1.1389813423156738,
           1.1389813423156738,
           1.1389813423156738,
           1.1389813423156738,
           1.1389813423156738,
           1.1389813423156738,
           1.1389813423156738,
           1.1389813423156738,
           1.1389813423156738,
           1.1389813423156738,
           1.4092788696289062,
           1.156175136566162,
           1.1333985328674316,
           1.130063533782959,
           1.1303977966308594,
           1.102773666381836
          ],
          [
           1.1389813423156738,
           1.1389813423156738,
           1.1389813423156738,
           1.1389813423156738,
           1.1389813423156738,
           1.1389813423156738,
           1.1389813423156738,
           1.1389813423156738,
           1.1389813423156738,
           1.1389813423156738,
           1.3992042541503906,
           1.1884126663208008,
           1.1346168518066406,
           1.134486198425293,
           1.1246352195739746,
           1.08768892288208
          ],
          [
           1.1389813423156738,
           1.1389813423156738,
           1.1389813423156738,
           1.1389813423156738,
           1.1389813423156738,
           1.1389813423156738,
           1.1389813423156738,
           1.1389813423156738,
           1.1389813423156738,
           1.1389813423156738,
           1.3966107368469238,
           1.1968498229980469,
           1.1333532333374023,
           1.1367387771606445,
           1.1142187118530273,
           1.0943603515625
          ],
          [
           1.1389813423156738,
           1.1389813423156738,
           1.1389813423156738,
           1.1389813423156738,
           1.1389813423156738,
           1.1389813423156738,
           1.1389813423156738,
           1.1389813423156738,
           1.1389813423156738,
           1.1389813423156738,
           1.3684134483337402,
           1.3085222244262695,
           1.1337594985961914,
           1.1367583274841309,
           1.1127853393554688,
           1.0401511192321777
          ],
          [
           1.1389813423156738,
           1.1389813423156738,
           1.1389813423156738,
           1.1389813423156738,
           1.1389813423156738,
           1.1389813423156738,
           1.1389813423156738,
           1.1389813423156738,
           1.1389813423156738,
           1.1389813423156738,
           0.9871740341186523,
           1.1886353492736816,
           1.1601676940917969,
           1.1344375610351562,
           1.41455078125,
           1.1131882667541504
          ],
          [
           1.1389813423156738,
           1.1389813423156738,
           1.1389813423156738,
           1.1389813423156738,
           1.1389813423156738,
           1.1389813423156738,
           1.1389813423156738,
           1.1389813423156738,
           1.1389813423156738,
           1.1389813423156738,
           0.6056475639343262,
           1.207888126373291,
           1.1726665496826172,
           1.136451244354248,
           1.6408114433288574,
           1.2964963912963867
          ],
          [
           1.1389813423156738,
           1.1389813423156738,
           1.1389813423156738,
           1.1389813423156738,
           1.1389813423156738,
           1.1389813423156738,
           1.1389813423156738,
           1.1389813423156738,
           1.1389813423156738,
           1.1389813423156738,
           0.8574180603027344,
           1.1395149230957031,
           1.1427836418151855,
           1.1342430114746094,
           1.3761014938354492,
           1.414311408996582
          ],
          [
           1.1389813423156738,
           1.1389813423156738,
           1.1389813423156738,
           1.1389813423156738,
           1.1389813423156738,
           1.1389813423156738,
           1.1389813423156738,
           1.1389813423156738,
           1.1389813423156738,
           1.1389813423156738,
           1.108656883239746,
           1.16892671585083,
           1.1457295417785645,
           1.1278762817382812,
           1.284595012664795,
           1.192126750946045
          ]
         ]
        }
       ],
       "layout": {
        "autosize": true,
        "coloraxis": {
         "cmid": 0,
         "colorscale": [
          [
           0,
           "rgb(103,0,31)"
          ],
          [
           0.1,
           "rgb(178,24,43)"
          ],
          [
           0.2,
           "rgb(214,96,77)"
          ],
          [
           0.3,
           "rgb(244,165,130)"
          ],
          [
           0.4,
           "rgb(253,219,199)"
          ],
          [
           0.5,
           "rgb(247,247,247)"
          ],
          [
           0.6,
           "rgb(209,229,240)"
          ],
          [
           0.7,
           "rgb(146,197,222)"
          ],
          [
           0.8,
           "rgb(67,147,195)"
          ],
          [
           0.9,
           "rgb(33,102,172)"
          ],
          [
           1,
           "rgb(5,48,97)"
          ]
         ]
        },
        "margin": {
         "t": 60
        },
        "template": {
         "data": {
          "bar": [
           {
            "error_x": {
             "color": "#2a3f5f"
            },
            "error_y": {
             "color": "#2a3f5f"
            },
            "marker": {
             "line": {
              "color": "#E5ECF6",
              "width": 0.5
             },
             "pattern": {
              "fillmode": "overlay",
              "size": 10,
              "solidity": 0.2
             }
            },
            "type": "bar"
           }
          ],
          "barpolar": [
           {
            "marker": {
             "line": {
              "color": "#E5ECF6",
              "width": 0.5
             },
             "pattern": {
              "fillmode": "overlay",
              "size": 10,
              "solidity": 0.2
             }
            },
            "type": "barpolar"
           }
          ],
          "carpet": [
           {
            "aaxis": {
             "endlinecolor": "#2a3f5f",
             "gridcolor": "white",
             "linecolor": "white",
             "minorgridcolor": "white",
             "startlinecolor": "#2a3f5f"
            },
            "baxis": {
             "endlinecolor": "#2a3f5f",
             "gridcolor": "white",
             "linecolor": "white",
             "minorgridcolor": "white",
             "startlinecolor": "#2a3f5f"
            },
            "type": "carpet"
           }
          ],
          "choropleth": [
           {
            "colorbar": {
             "outlinewidth": 0,
             "ticks": ""
            },
            "type": "choropleth"
           }
          ],
          "contour": [
           {
            "colorbar": {
             "outlinewidth": 0,
             "ticks": ""
            },
            "colorscale": [
             [
              0,
              "#0d0887"
             ],
             [
              0.1111111111111111,
              "#46039f"
             ],
             [
              0.2222222222222222,
              "#7201a8"
             ],
             [
              0.3333333333333333,
              "#9c179e"
             ],
             [
              0.4444444444444444,
              "#bd3786"
             ],
             [
              0.5555555555555556,
              "#d8576b"
             ],
             [
              0.6666666666666666,
              "#ed7953"
             ],
             [
              0.7777777777777778,
              "#fb9f3a"
             ],
             [
              0.8888888888888888,
              "#fdca26"
             ],
             [
              1,
              "#f0f921"
             ]
            ],
            "type": "contour"
           }
          ],
          "contourcarpet": [
           {
            "colorbar": {
             "outlinewidth": 0,
             "ticks": ""
            },
            "type": "contourcarpet"
           }
          ],
          "heatmap": [
           {
            "colorbar": {
             "outlinewidth": 0,
             "ticks": ""
            },
            "colorscale": [
             [
              0,
              "#0d0887"
             ],
             [
              0.1111111111111111,
              "#46039f"
             ],
             [
              0.2222222222222222,
              "#7201a8"
             ],
             [
              0.3333333333333333,
              "#9c179e"
             ],
             [
              0.4444444444444444,
              "#bd3786"
             ],
             [
              0.5555555555555556,
              "#d8576b"
             ],
             [
              0.6666666666666666,
              "#ed7953"
             ],
             [
              0.7777777777777778,
              "#fb9f3a"
             ],
             [
              0.8888888888888888,
              "#fdca26"
             ],
             [
              1,
              "#f0f921"
             ]
            ],
            "type": "heatmap"
           }
          ],
          "heatmapgl": [
           {
            "colorbar": {
             "outlinewidth": 0,
             "ticks": ""
            },
            "colorscale": [
             [
              0,
              "#0d0887"
             ],
             [
              0.1111111111111111,
              "#46039f"
             ],
             [
              0.2222222222222222,
              "#7201a8"
             ],
             [
              0.3333333333333333,
              "#9c179e"
             ],
             [
              0.4444444444444444,
              "#bd3786"
             ],
             [
              0.5555555555555556,
              "#d8576b"
             ],
             [
              0.6666666666666666,
              "#ed7953"
             ],
             [
              0.7777777777777778,
              "#fb9f3a"
             ],
             [
              0.8888888888888888,
              "#fdca26"
             ],
             [
              1,
              "#f0f921"
             ]
            ],
            "type": "heatmapgl"
           }
          ],
          "histogram": [
           {
            "marker": {
             "pattern": {
              "fillmode": "overlay",
              "size": 10,
              "solidity": 0.2
             }
            },
            "type": "histogram"
           }
          ],
          "histogram2d": [
           {
            "colorbar": {
             "outlinewidth": 0,
             "ticks": ""
            },
            "colorscale": [
             [
              0,
              "#0d0887"
             ],
             [
              0.1111111111111111,
              "#46039f"
             ],
             [
              0.2222222222222222,
              "#7201a8"
             ],
             [
              0.3333333333333333,
              "#9c179e"
             ],
             [
              0.4444444444444444,
              "#bd3786"
             ],
             [
              0.5555555555555556,
              "#d8576b"
             ],
             [
              0.6666666666666666,
              "#ed7953"
             ],
             [
              0.7777777777777778,
              "#fb9f3a"
             ],
             [
              0.8888888888888888,
              "#fdca26"
             ],
             [
              1,
              "#f0f921"
             ]
            ],
            "type": "histogram2d"
           }
          ],
          "histogram2dcontour": [
           {
            "colorbar": {
             "outlinewidth": 0,
             "ticks": ""
            },
            "colorscale": [
             [
              0,
              "#0d0887"
             ],
             [
              0.1111111111111111,
              "#46039f"
             ],
             [
              0.2222222222222222,
              "#7201a8"
             ],
             [
              0.3333333333333333,
              "#9c179e"
             ],
             [
              0.4444444444444444,
              "#bd3786"
             ],
             [
              0.5555555555555556,
              "#d8576b"
             ],
             [
              0.6666666666666666,
              "#ed7953"
             ],
             [
              0.7777777777777778,
              "#fb9f3a"
             ],
             [
              0.8888888888888888,
              "#fdca26"
             ],
             [
              1,
              "#f0f921"
             ]
            ],
            "type": "histogram2dcontour"
           }
          ],
          "mesh3d": [
           {
            "colorbar": {
             "outlinewidth": 0,
             "ticks": ""
            },
            "type": "mesh3d"
           }
          ],
          "parcoords": [
           {
            "line": {
             "colorbar": {
              "outlinewidth": 0,
              "ticks": ""
             }
            },
            "type": "parcoords"
           }
          ],
          "pie": [
           {
            "automargin": true,
            "type": "pie"
           }
          ],
          "scatter": [
           {
            "fillpattern": {
             "fillmode": "overlay",
             "size": 10,
             "solidity": 0.2
            },
            "type": "scatter"
           }
          ],
          "scatter3d": [
           {
            "line": {
             "colorbar": {
              "outlinewidth": 0,
              "ticks": ""
             }
            },
            "marker": {
             "colorbar": {
              "outlinewidth": 0,
              "ticks": ""
             }
            },
            "type": "scatter3d"
           }
          ],
          "scattercarpet": [
           {
            "marker": {
             "colorbar": {
              "outlinewidth": 0,
              "ticks": ""
             }
            },
            "type": "scattercarpet"
           }
          ],
          "scattergeo": [
           {
            "marker": {
             "colorbar": {
              "outlinewidth": 0,
              "ticks": ""
             }
            },
            "type": "scattergeo"
           }
          ],
          "scattergl": [
           {
            "marker": {
             "colorbar": {
              "outlinewidth": 0,
              "ticks": ""
             }
            },
            "type": "scattergl"
           }
          ],
          "scattermapbox": [
           {
            "marker": {
             "colorbar": {
              "outlinewidth": 0,
              "ticks": ""
             }
            },
            "type": "scattermapbox"
           }
          ],
          "scatterpolar": [
           {
            "marker": {
             "colorbar": {
              "outlinewidth": 0,
              "ticks": ""
             }
            },
            "type": "scatterpolar"
           }
          ],
          "scatterpolargl": [
           {
            "marker": {
             "colorbar": {
              "outlinewidth": 0,
              "ticks": ""
             }
            },
            "type": "scatterpolargl"
           }
          ],
          "scatterternary": [
           {
            "marker": {
             "colorbar": {
              "outlinewidth": 0,
              "ticks": ""
             }
            },
            "type": "scatterternary"
           }
          ],
          "surface": [
           {
            "colorbar": {
             "outlinewidth": 0,
             "ticks": ""
            },
            "colorscale": [
             [
              0,
              "#0d0887"
             ],
             [
              0.1111111111111111,
              "#46039f"
             ],
             [
              0.2222222222222222,
              "#7201a8"
             ],
             [
              0.3333333333333333,
              "#9c179e"
             ],
             [
              0.4444444444444444,
              "#bd3786"
             ],
             [
              0.5555555555555556,
              "#d8576b"
             ],
             [
              0.6666666666666666,
              "#ed7953"
             ],
             [
              0.7777777777777778,
              "#fb9f3a"
             ],
             [
              0.8888888888888888,
              "#fdca26"
             ],
             [
              1,
              "#f0f921"
             ]
            ],
            "type": "surface"
           }
          ],
          "table": [
           {
            "cells": {
             "fill": {
              "color": "#EBF0F8"
             },
             "line": {
              "color": "white"
             }
            },
            "header": {
             "fill": {
              "color": "#C8D4E3"
             },
             "line": {
              "color": "white"
             }
            },
            "type": "table"
           }
          ]
         },
         "layout": {
          "annotationdefaults": {
           "arrowcolor": "#2a3f5f",
           "arrowhead": 0,
           "arrowwidth": 1
          },
          "autotypenumbers": "strict",
          "coloraxis": {
           "colorbar": {
            "outlinewidth": 0,
            "ticks": ""
           }
          },
          "colorscale": {
           "diverging": [
            [
             0,
             "#8e0152"
            ],
            [
             0.1,
             "#c51b7d"
            ],
            [
             0.2,
             "#de77ae"
            ],
            [
             0.3,
             "#f1b6da"
            ],
            [
             0.4,
             "#fde0ef"
            ],
            [
             0.5,
             "#f7f7f7"
            ],
            [
             0.6,
             "#e6f5d0"
            ],
            [
             0.7,
             "#b8e186"
            ],
            [
             0.8,
             "#7fbc41"
            ],
            [
             0.9,
             "#4d9221"
            ],
            [
             1,
             "#276419"
            ]
           ],
           "sequential": [
            [
             0,
             "#0d0887"
            ],
            [
             0.1111111111111111,
             "#46039f"
            ],
            [
             0.2222222222222222,
             "#7201a8"
            ],
            [
             0.3333333333333333,
             "#9c179e"
            ],
            [
             0.4444444444444444,
             "#bd3786"
            ],
            [
             0.5555555555555556,
             "#d8576b"
            ],
            [
             0.6666666666666666,
             "#ed7953"
            ],
            [
             0.7777777777777778,
             "#fb9f3a"
            ],
            [
             0.8888888888888888,
             "#fdca26"
            ],
            [
             1,
             "#f0f921"
            ]
           ],
           "sequentialminus": [
            [
             0,
             "#0d0887"
            ],
            [
             0.1111111111111111,
             "#46039f"
            ],
            [
             0.2222222222222222,
             "#7201a8"
            ],
            [
             0.3333333333333333,
             "#9c179e"
            ],
            [
             0.4444444444444444,
             "#bd3786"
            ],
            [
             0.5555555555555556,
             "#d8576b"
            ],
            [
             0.6666666666666666,
             "#ed7953"
            ],
            [
             0.7777777777777778,
             "#fb9f3a"
            ],
            [
             0.8888888888888888,
             "#fdca26"
            ],
            [
             1,
             "#f0f921"
            ]
           ]
          },
          "colorway": [
           "#636efa",
           "#EF553B",
           "#00cc96",
           "#ab63fa",
           "#FFA15A",
           "#19d3f3",
           "#FF6692",
           "#B6E880",
           "#FF97FF",
           "#FECB52"
          ],
          "font": {
           "color": "#2a3f5f"
          },
          "geo": {
           "bgcolor": "white",
           "lakecolor": "white",
           "landcolor": "#E5ECF6",
           "showlakes": true,
           "showland": true,
           "subunitcolor": "white"
          },
          "hoverlabel": {
           "align": "left"
          },
          "hovermode": "closest",
          "mapbox": {
           "style": "light"
          },
          "paper_bgcolor": "white",
          "plot_bgcolor": "#E5ECF6",
          "polar": {
           "angularaxis": {
            "gridcolor": "white",
            "linecolor": "white",
            "ticks": ""
           },
           "bgcolor": "#E5ECF6",
           "radialaxis": {
            "gridcolor": "white",
            "linecolor": "white",
            "ticks": ""
           }
          },
          "scene": {
           "xaxis": {
            "backgroundcolor": "#E5ECF6",
            "gridcolor": "white",
            "gridwidth": 2,
            "linecolor": "white",
            "showbackground": true,
            "ticks": "",
            "zerolinecolor": "white"
           },
           "yaxis": {
            "backgroundcolor": "#E5ECF6",
            "gridcolor": "white",
            "gridwidth": 2,
            "linecolor": "white",
            "showbackground": true,
            "ticks": "",
            "zerolinecolor": "white"
           },
           "zaxis": {
            "backgroundcolor": "#E5ECF6",
            "gridcolor": "white",
            "gridwidth": 2,
            "linecolor": "white",
            "showbackground": true,
            "ticks": "",
            "zerolinecolor": "white"
           }
          },
          "shapedefaults": {
           "line": {
            "color": "#2a3f5f"
           }
          },
          "ternary": {
           "aaxis": {
            "gridcolor": "white",
            "linecolor": "white",
            "ticks": ""
           },
           "baxis": {
            "gridcolor": "white",
            "linecolor": "white",
            "ticks": ""
           },
           "bgcolor": "#E5ECF6",
           "caxis": {
            "gridcolor": "white",
            "linecolor": "white",
            "ticks": ""
           }
          },
          "title": {
           "x": 0.05
          },
          "xaxis": {
           "automargin": true,
           "gridcolor": "white",
           "linecolor": "white",
           "ticks": "",
           "title": {
            "standoff": 15
           },
           "zerolinecolor": "white",
           "zerolinewidth": 2
          },
          "yaxis": {
           "automargin": true,
           "gridcolor": "white",
           "linecolor": "white",
           "ticks": "",
           "title": {
            "standoff": 15
           },
           "zerolinecolor": "white",
           "zerolinewidth": 2
          }
         }
        },
        "xaxis": {
         "anchor": "y",
         "autorange": true,
         "constrain": "domain",
         "domain": [
          0,
          1
         ],
         "range": [
          -0.5,
          15.5
         ],
         "scaleanchor": "y",
         "title": {
          "text": "layer"
         },
         "type": "category"
        },
        "yaxis": {
         "anchor": "x",
         "autorange": true,
         "constrain": "domain",
         "domain": [
          0,
          1
         ],
         "range": [
          11.5,
          -0.5
         ],
         "title": {
          "text": "position"
         }
        }
       }
      },
      "image/png": "[encoded data removed]",
      "text/html": [
       "<div>                            <div id=\"71f84de5-ece6-4a9a-8976-7ae4d06dee18\" class=\"plotly-graph-div\" style=\"height:525px; width:100%;\"></div>            <script type=\"text/javascript\">                require([\"plotly\"], function(Plotly) {                    window.PLOTLYENV=window.PLOTLYENV || {};                                    if (document.getElementById(\"71f84de5-ece6-4a9a-8976-7ae4d06dee18\")) {                    Plotly.newPlot(                        \"71f84de5-ece6-4a9a-8976-7ae4d06dee18\",                        [{\"coloraxis\":\"coloraxis\",\"name\":\"0\",\"x\":[\"<|endoftext|>_0\",\"When_1\",\" John_2\",\" and_3\",\" Mary_4\",\" went_5\",\" to_6\",\" the_7\",\" shops_8\",\",_9\",\" John_10\",\" gave_11\",\" the_12\",\" bag_13\",\" to_14\",\" _15\"],\"z\":[[1.1389813423156738,1.1389813423156738,1.1389813423156738,1.1389813423156738,1.1389813423156738,1.1389813423156738,1.1389813423156738,1.1389813423156738,1.1389813423156738,1.1389813423156738,1.361973762512207,1.1389813423156738,1.1389813423156738,1.1389813423156738,1.1389813423156738,1.1389813423156738],[1.1389813423156738,1.1389813423156738,1.1389813423156738,1.1389813423156738,1.1389813423156738,1.1389813423156738,1.1389813423156738,1.1389813423156738,1.1389813423156738,1.1389813423156738,1.3711276054382324,1.1381278038024902,1.140249252319336,1.1343951225280762,1.1395068168640137,1.1337003707885742],[1.1389813423156738,1.1389813423156738,1.1389813423156738,1.1389813423156738,1.1389813423156738,1.1389813423156738,1.1389813423156738,1.1389813423156738,1.1389813423156738,1.1389813423156738,1.377169132232666,1.1383142471313477,1.1406002044677734,1.1345090866088867,1.1400747299194336,1.1233854293823242],[1.1389813423156738,1.1389813423156738,1.1389813423156738,1.1389813423156738,1.1389813423156738,1.1389813423156738,1.1389813423156738,1.1389813423156738,1.1389813423156738,1.1389813423156738,1.3952293395996094,1.148244857788086,1.1378870010375977,1.1306719779968262,1.1362838745117188,1.1025490760803223],[1.1389813423156738,1.1389813423156738,1.1389813423156738,1.1389813423156738,1.1389813423156738,1.1389813423156738,1.1389813423156738,1.1389813423156738,1.1389813423156738,1.1389813423156738,1.4092788696289062,1.156175136566162,1.1333985328674316,1.130063533782959,1.1303977966308594,1.102773666381836],[1.1389813423156738,1.1389813423156738,1.1389813423156738,1.1389813423156738,1.1389813423156738,1.1389813423156738,1.1389813423156738,1.1389813423156738,1.1389813423156738,1.1389813423156738,1.3992042541503906,1.1884126663208008,1.1346168518066406,1.134486198425293,1.1246352195739746,1.08768892288208],[1.1389813423156738,1.1389813423156738,1.1389813423156738,1.1389813423156738,1.1389813423156738,1.1389813423156738,1.1389813423156738,1.1389813423156738,1.1389813423156738,1.1389813423156738,1.3966107368469238,1.1968498229980469,1.1333532333374023,1.1367387771606445,1.1142187118530273,1.0943603515625],[1.1389813423156738,1.1389813423156738,1.1389813423156738,1.1389813423156738,1.1389813423156738,1.1389813423156738,1.1389813423156738,1.1389813423156738,1.1389813423156738,1.1389813423156738,1.3684134483337402,1.3085222244262695,1.1337594985961914,1.1367583274841309,1.1127853393554688,1.0401511192321777],[1.1389813423156738,1.1389813423156738,1.1389813423156738,1.1389813423156738,1.1389813423156738,1.1389813423156738,1.1389813423156738,1.1389813423156738,1.1389813423156738,1.1389813423156738,0.9871740341186523,1.1886353492736816,1.1601676940917969,1.1344375610351562,1.41455078125,1.1131882667541504],[1.1389813423156738,1.1389813423156738,1.1389813423156738,1.1389813423156738,1.1389813423156738,1.1389813423156738,1.1389813423156738,1.1389813423156738,1.1389813423156738,1.1389813423156738,0.6056475639343262,1.207888126373291,1.1726665496826172,1.136451244354248,1.6408114433288574,1.2964963912963867],[1.1389813423156738,1.1389813423156738,1.1389813423156738,1.1389813423156738,1.1389813423156738,1.1389813423156738,1.1389813423156738,1.1389813423156738,1.1389813423156738,1.1389813423156738,0.8574180603027344,1.1395149230957031,1.1427836418151855,1.1342430114746094,1.3761014938354492,1.414311408996582],[1.1389813423156738,1.1389813423156738,1.1389813423156738,1.1389813423156738,1.1389813423156738,1.1389813423156738,1.1389813423156738,1.1389813423156738,1.1389813423156738,1.1389813423156738,1.108656883239746,1.16892671585083,1.1457295417785645,1.1278762817382812,1.284595012664795,1.192126750946045]],\"type\":\"heatmap\",\"xaxis\":\"x\",\"yaxis\":\"y\",\"hovertemplate\":\"layer: %{x}<br>position: %{y}<br>color: %{z}<extra></extra>\"}],                        {\"template\":{\"data\":{\"histogram2dcontour\":[{\"type\":\"histogram2dcontour\",\"colorbar\":{\"outlinewidth\":0,\"ticks\":\"\"},\"colorscale\":[[0.0,\"#0d0887\"],[0.1111111111111111,\"#46039f\"],[0.2222222222222222,\"#7201a8\"],[0.3333333333333333,\"#9c179e\"],[0.4444444444444444,\"#bd3786\"],[0.5555555555555556,\"#d8576b\"],[0.6666666666666666,\"#ed7953\"],[0.7777777777777778,\"#fb9f3a\"],[0.8888888888888888,\"#fdca26\"],[1.0,\"#f0f921\"]]}],\"choropleth\":[{\"type\":\"choropleth\",\"colorbar\":{\"outlinewidth\":0,\"ticks\":\"\"}}],\"histogram2d\":[{\"type\":\"histogram2d\",\"colorbar\":{\"outlinewidth\":0,\"ticks\":\"\"},\"colorscale\":[[0.0,\"#0d0887\"],[0.1111111111111111,\"#46039f\"],[0.2222222222222222,\"#7201a8\"],[0.3333333333333333,\"#9c179e\"],[0.4444444444444444,\"#bd3786\"],[0.5555555555555556,\"#d8576b\"],[0.6666666666666666,\"#ed7953\"],[0.7777777777777778,\"#fb9f3a\"],[0.8888888888888888,\"#fdca26\"],[1.0,\"#f0f921\"]]}],\"heatmap\":[{\"type\":\"heatmap\",\"colorbar\":{\"outlinewidth\":0,\"ticks\":\"\"},\"colorscale\":[[0.0,\"#0d0887\"],[0.1111111111111111,\"#46039f\"],[0.2222222222222222,\"#7201a8\"],[0.3333333333333333,\"#9c179e\"],[0.4444444444444444,\"#bd3786\"],[0.5555555555555556,\"#d8576b\"],[0.6666666666666666,\"#ed7953\"],[0.7777777777777778,\"#fb9f3a\"],[0.8888888888888888,\"#fdca26\"],[1.0,\"#f0f921\"]]}],\"heatmapgl\":[{\"type\":\"heatmapgl\",\"colorbar\":{\"outlinewidth\":0,\"ticks\":\"\"},\"colorscale\":[[0.0,\"#0d0887\"],[0.1111111111111111,\"#46039f\"],[0.2222222222222222,\"#7201a8\"],[0.3333333333333333,\"#9c179e\"],[0.4444444444444444,\"#bd3786\"],[0.5555555555555556,\"#d8576b\"],[0.6666666666666666,\"#ed7953\"],[0.7777777777777778,\"#fb9f3a\"],[0.8888888888888888,\"#fdca26\"],[1.0,\"#f0f921\"]]}],\"contourcarpet\":[{\"type\":\"contourcarpet\",\"colorbar\":{\"outlinewidth\":0,\"ticks\":\"\"}}],\"contour\":[{\"type\":\"contour\",\"colorbar\":{\"outlinewidth\":0,\"ticks\":\"\"},\"colorscale\":[[0.0,\"#0d0887\"],[0.1111111111111111,\"#46039f\"],[0.2222222222222222,\"#7201a8\"],[0.3333333333333333,\"#9c179e\"],[0.4444444444444444,\"#bd3786\"],[0.5555555555555556,\"#d8576b\"],[0.6666666666666666,\"#ed7953\"],[0.7777777777777778,\"#fb9f3a\"],[0.8888888888888888,\"#fdca26\"],[1.0,\"#f0f921\"]]}],\"surface\":[{\"type\":\"surface\",\"colorbar\":{\"outlinewidth\":0,\"ticks\":\"\"},\"colorscale\":[[0.0,\"#0d0887\"],[0.1111111111111111,\"#46039f\"],[0.2222222222222222,\"#7201a8\"],[0.3333333333333333,\"#9c179e\"],[0.4444444444444444,\"#bd3786\"],[0.5555555555555556,\"#d8576b\"],[0.6666666666666666,\"#ed7953\"],[0.7777777777777778,\"#fb9f3a\"],[0.8888888888888888,\"#fdca26\"],[1.0,\"#f0f921\"]]}],\"mesh3d\":[{\"type\":\"mesh3d\",\"colorbar\":{\"outlinewidth\":0,\"ticks\":\"\"}}],\"scatter\":[{\"fillpattern\":{\"fillmode\":\"overlay\",\"size\":10,\"solidity\":0.2},\"type\":\"scatter\"}],\"parcoords\":[{\"type\":\"parcoords\",\"line\":{\"colorbar\":{\"outlinewidth\":0,\"ticks\":\"\"}}}],\"scatterpolargl\":[{\"type\":\"scatterpolargl\",\"marker\":{\"colorbar\":{\"outlinewidth\":0,\"ticks\":\"\"}}}],\"bar\":[{\"error_x\":{\"color\":\"#2a3f5f\"},\"error_y\":{\"color\":\"#2a3f5f\"},\"marker\":{\"line\":{\"color\":\"#E5ECF6\",\"width\":0.5},\"pattern\":{\"fillmode\":\"overlay\",\"size\":10,\"solidity\":0.2}},\"type\":\"bar\"}],\"scattergeo\":[{\"type\":\"scattergeo\",\"marker\":{\"colorbar\":{\"outlinewidth\":0,\"ticks\":\"\"}}}],\"scatterpolar\":[{\"type\":\"scatterpolar\",\"marker\":{\"colorbar\":{\"outlinewidth\":0,\"ticks\":\"\"}}}],\"histogram\":[{\"marker\":{\"pattern\":{\"fillmode\":\"overlay\",\"size\":10,\"solidity\":0.2}},\"type\":\"histogram\"}],\"scattergl\":[{\"type\":\"scattergl\",\"marker\":{\"colorbar\":{\"outlinewidth\":0,\"ticks\":\"\"}}}],\"scatter3d\":[{\"type\":\"scatter3d\",\"line\":{\"colorbar\":{\"outlinewidth\":0,\"ticks\":\"\"}},\"marker\":{\"colorbar\":{\"outlinewidth\":0,\"ticks\":\"\"}}}],\"scattermapbox\":[{\"type\":\"scattermapbox\",\"marker\":{\"colorbar\":{\"outlinewidth\":0,\"ticks\":\"\"}}}],\"scatterternary\":[{\"type\":\"scatterternary\",\"marker\":{\"colorbar\":{\"outlinewidth\":0,\"ticks\":\"\"}}}],\"scattercarpet\":[{\"type\":\"scattercarpet\",\"marker\":{\"colorbar\":{\"outlinewidth\":0,\"ticks\":\"\"}}}],\"carpet\":[{\"aaxis\":{\"endlinecolor\":\"#2a3f5f\",\"gridcolor\":\"white\",\"linecolor\":\"white\",\"minorgridcolor\":\"white\",\"startlinecolor\":\"#2a3f5f\"},\"baxis\":{\"endlinecolor\":\"#2a3f5f\",\"gridcolor\":\"white\",\"linecolor\":\"white\",\"minorgridcolor\":\"white\",\"startlinecolor\":\"#2a3f5f\"},\"type\":\"carpet\"}],\"table\":[{\"cells\":{\"fill\":{\"color\":\"#EBF0F8\"},\"line\":{\"color\":\"white\"}},\"header\":{\"fill\":{\"color\":\"#C8D4E3\"},\"line\":{\"color\":\"white\"}},\"type\":\"table\"}],\"barpolar\":[{\"marker\":{\"line\":{\"color\":\"#E5ECF6\",\"width\":0.5},\"pattern\":{\"fillmode\":\"overlay\",\"size\":10,\"solidity\":0.2}},\"type\":\"barpolar\"}],\"pie\":[{\"automargin\":true,\"type\":\"pie\"}]},\"layout\":{\"autotypenumbers\":\"strict\",\"colorway\":[\"#636efa\",\"#EF553B\",\"#00cc96\",\"#ab63fa\",\"#FFA15A\",\"#19d3f3\",\"#FF6692\",\"#B6E880\",\"#FF97FF\",\"#FECB52\"],\"font\":{\"color\":\"#2a3f5f\"},\"hovermode\":\"closest\",\"hoverlabel\":{\"align\":\"left\"},\"paper_bgcolor\":\"white\",\"plot_bgcolor\":\"#E5ECF6\",\"polar\":{\"bgcolor\":\"#E5ECF6\",\"angularaxis\":{\"gridcolor\":\"white\",\"linecolor\":\"white\",\"ticks\":\"\"},\"radialaxis\":{\"gridcolor\":\"white\",\"linecolor\":\"white\",\"ticks\":\"\"}},\"ternary\":{\"bgcolor\":\"#E5ECF6\",\"aaxis\":{\"gridcolor\":\"white\",\"linecolor\":\"white\",\"ticks\":\"\"},\"baxis\":{\"gridcolor\":\"white\",\"linecolor\":\"white\",\"ticks\":\"\"},\"caxis\":{\"gridcolor\":\"white\",\"linecolor\":\"white\",\"ticks\":\"\"}},\"coloraxis\":{\"colorbar\":{\"outlinewidth\":0,\"ticks\":\"\"}},\"colorscale\":{\"sequential\":[[0.0,\"#0d0887\"],[0.1111111111111111,\"#46039f\"],[0.2222222222222222,\"#7201a8\"],[0.3333333333333333,\"#9c179e\"],[0.4444444444444444,\"#bd3786\"],[0.5555555555555556,\"#d8576b\"],[0.6666666666666666,\"#ed7953\"],[0.7777777777777778,\"#fb9f3a\"],[0.8888888888888888,\"#fdca26\"],[1.0,\"#f0f921\"]],\"sequentialminus\":[[0.0,\"#0d0887\"],[0.1111111111111111,\"#46039f\"],[0.2222222222222222,\"#7201a8\"],[0.3333333333333333,\"#9c179e\"],[0.4444444444444444,\"#bd3786\"],[0.5555555555555556,\"#d8576b\"],[0.6666666666666666,\"#ed7953\"],[0.7777777777777778,\"#fb9f3a\"],[0.8888888888888888,\"#fdca26\"],[1.0,\"#f0f921\"]],\"diverging\":[[0,\"#8e0152\"],[0.1,\"#c51b7d\"],[0.2,\"#de77ae\"],[0.3,\"#f1b6da\"],[0.4,\"#fde0ef\"],[0.5,\"#f7f7f7\"],[0.6,\"#e6f5d0\"],[0.7,\"#b8e186\"],[0.8,\"#7fbc41\"],[0.9,\"#4d9221\"],[1,\"#276419\"]]},\"xaxis\":{\"gridcolor\":\"white\",\"linecolor\":\"white\",\"ticks\":\"\",\"title\":{\"standoff\":15},\"zerolinecolor\":\"white\",\"automargin\":true,\"zerolinewidth\":2},\"yaxis\":{\"gridcolor\":\"white\",\"linecolor\":\"white\",\"ticks\":\"\",\"title\":{\"standoff\":15},\"zerolinecolor\":\"white\",\"automargin\":true,\"zerolinewidth\":2},\"scene\":{\"xaxis\":{\"backgroundcolor\":\"#E5ECF6\",\"gridcolor\":\"white\",\"linecolor\":\"white\",\"showbackground\":true,\"ticks\":\"\",\"zerolinecolor\":\"white\",\"gridwidth\":2},\"yaxis\":{\"backgroundcolor\":\"#E5ECF6\",\"gridcolor\":\"white\",\"linecolor\":\"white\",\"showbackground\":true,\"ticks\":\"\",\"zerolinecolor\":\"white\",\"gridwidth\":2},\"zaxis\":{\"backgroundcolor\":\"#E5ECF6\",\"gridcolor\":\"white\",\"linecolor\":\"white\",\"showbackground\":true,\"ticks\":\"\",\"zerolinecolor\":\"white\",\"gridwidth\":2}},\"shapedefaults\":{\"line\":{\"color\":\"#2a3f5f\"}},\"annotationdefaults\":{\"arrowcolor\":\"#2a3f5f\",\"arrowhead\":0,\"arrowwidth\":1},\"geo\":{\"bgcolor\":\"white\",\"landcolor\":\"#E5ECF6\",\"subunitcolor\":\"white\",\"showland\":true,\"showlakes\":true,\"lakecolor\":\"white\"},\"title\":{\"x\":0.05},\"mapbox\":{\"style\":\"light\"}}},\"xaxis\":{\"anchor\":\"y\",\"domain\":[0.0,1.0],\"scaleanchor\":\"y\",\"constrain\":\"domain\",\"title\":{\"text\":\"layer\"}},\"yaxis\":{\"anchor\":\"x\",\"domain\":[0.0,1.0],\"autorange\":\"reversed\",\"constrain\":\"domain\",\"title\":{\"text\":\"position\"}},\"coloraxis\":{\"colorscale\":[[0.0,\"rgb(103,0,31)\"],[0.1,\"rgb(178,24,43)\"],[0.2,\"rgb(214,96,77)\"],[0.3,\"rgb(244,165,130)\"],[0.4,\"rgb(253,219,199)\"],[0.5,\"rgb(247,247,247)\"],[0.6,\"rgb(209,229,240)\"],[0.7,\"rgb(146,197,222)\"],[0.8,\"rgb(67,147,195)\"],[0.9,\"rgb(33,102,172)\"],[1.0,\"rgb(5,48,97)\"]],\"cmid\":0.0},\"margin\":{\"t\":60}},                        {\"responsive\": true}                    ).then(function(){\n",
       "                            \n",
       "var gd = document.getElementById('71f84de5-ece6-4a9a-8976-7ae4d06dee18');\n",
       "var x = new MutationObserver(function (mutations, observer) {{\n",
       "        var display = window.getComputedStyle(gd).display;\n",
       "        if (!display || display === 'none') {{\n",
       "            console.log([gd, 'removed!']);\n",
       "            Plotly.purge(gd);\n",
       "            observer.disconnect();\n",
       "        }}\n",
       "}});\n",
       "\n",
       "// Listen for the removal of the full notebook cells\n",
       "var notebookContainer = gd.closest('#notebook-container');\n",
       "if (notebookContainer) {{\n",
       "    x.observe(notebookContainer, {childList: true});\n",
       "}}\n",
       "\n",
       "// Listen for the clearing of the current output cell\n",
       "var outputEl = gd.closest('.output');\n",
       "if (outputEl) {{\n",
       "    x.observe(outputEl, {childList: true});\n",
       "}}\n",
       "\n",
       "                        })                };                });            </script>        </div>"
      ]
     },
     "metadata": {},
     "output_type": "display_data"
    }
   ],
   "source": [
    "px.imshow(\n",
    "    patched_residual_stream_diff.detach().numpy(),\n",
    "    x=prompt_position_labels,\n",
    "    labels={\"x\": \"layer\", \"y\": \"position\"},\n",
    "    color_continuous_midpoint=0.0, color_continuous_scale=\"RdBu\"\n",
    ")"
   ]
  },
  {
   "cell_type": "code",
   "execution_count": null,
   "id": "c432e04b-737e-4010-acb0-72bc4891d1dc",
   "metadata": {},
   "outputs": [],
   "source": []
  },
  {
   "cell_type": "code",
   "execution_count": null,
   "id": "6b2ca9f9-fb44-4ced-86c3-eb8758cc565c",
   "metadata": {},
   "outputs": [],
   "source": []
  }
 ],
 "metadata": {
  "kernelspec": {
   "display_name": "Python 3 (ipykernel)",
   "language": "python",
   "name": "python3"
  }
 },
 "nbformat": 4,
 "nbformat_minor": 5
}
