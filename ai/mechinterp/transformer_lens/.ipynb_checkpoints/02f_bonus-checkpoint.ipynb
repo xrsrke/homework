{
 "cells": [
  {
   "cell_type": "code",
   "execution_count": null,
   "id": "73e3a17b-4ac3-41ec-9ef6-d943c1a2fe60",
   "metadata": {},
   "outputs": [
    {
     "name": "stderr",
     "output_type": "stream",
     "text": [
      "/var/folders/pf/g3nr86yn4j71vzzmv6knwdhr0000gp/T/ipykernel_4229/4115428919.py:5: DeprecationWarning: `magic(...)` is deprecated since IPython 0.13 (warning added in 8.1), use run_line_magic(magic_name, parameter_s).\n",
      "  ipython.magic(\"load_ext autoreload\")\n",
      "/var/folders/pf/g3nr86yn4j71vzzmv6knwdhr0000gp/T/ipykernel_4229/4115428919.py:6: DeprecationWarning: `magic(...)` is deprecated since IPython 0.13 (warning added in 8.1), use run_line_magic(magic_name, parameter_s).\n",
      "  ipython.magic(\"autoreload 2\")\n"
     ]
    }
   ],
   "source": [
    "from IPython import get_ipython\n",
    "\n",
    "ipython = get_ipython()\n",
    "# Code to automatically update the HookedTransformer code as its edited without restarting the kernel\n",
    "ipython.magic(\"load_ext autoreload\")\n",
    "ipython.magic(\"autoreload 2\")"
   ]
  },
  {
   "cell_type": "code",
   "execution_count": null,
   "id": "98ba6da6-fb07-4c02-b065-477c89f1d544",
   "metadata": {},
   "outputs": [
    {
     "data": {
      "text/plain": [
       "<torch.autograd.grad_mode.set_grad_enabled>"
      ]
     },
     "execution_count": null,
     "metadata": {},
     "output_type": "execute_result"
    }
   ],
   "source": [
    "# Import stuff\n",
    "import torch\n",
    "import torch.nn as nn\n",
    "import torch.nn.functional as F\n",
    "import torch.optim as optim\n",
    "import numpy as np\n",
    "import einops\n",
    "from fancy_einsum import einsum\n",
    "import tqdm.notebook as tqdm\n",
    "import random\n",
    "from pathlib import Path\n",
    "import plotly.express as px\n",
    "from torch.utils.data import DataLoader\n",
    "\n",
    "from jaxtyping import Float, Int\n",
    "from typing import List, Union, Optional\n",
    "from functools import partial\n",
    "import copy\n",
    "\n",
    "import itertools\n",
    "from transformers import AutoModelForCausalLM, AutoConfig, AutoTokenizer\n",
    "import dataclasses\n",
    "import datasets\n",
    "from IPython.display import HTML\n",
    "\n",
    "torch.set_grad_enabled(False)"
   ]
  },
  {
   "cell_type": "code",
   "execution_count": null,
   "id": "748c3c0b-1ad3-4821-978e-6db14bd56db4",
   "metadata": {},
   "outputs": [],
   "source": [
    "import pysvelte\n",
    "\n",
    "import transformer_lens\n",
    "import transformer_lens.utils as utils\n",
    "from transformer_lens.hook_points import (\n",
    "    HookedRootModule,\n",
    "    HookPoint,\n",
    ")  # Hooking utilities\n",
    "from transformer_lens import HookedTransformer, HookedTransformerConfig, FactoredMatrix, ActivationCache"
   ]
  },
  {
   "cell_type": "code",
   "execution_count": null,
   "id": "d4566283-423b-46ba-9048-de69c83316fc",
   "metadata": {},
   "outputs": [],
   "source": [
    "def imshow(tensor, renderer=None, **kwargs):\n",
    "    px.imshow(utils.to_numpy(tensor), color_continuous_midpoint=0.0, color_continuous_scale=\"RdBu\", **kwargs).show(renderer)\n",
    "\n",
    "def line(tensor, renderer=None, **kwargs):\n",
    "    px.line(y=utils.to_numpy(tensor), **kwargs).show(renderer)\n",
    "\n",
    "def scatter(x, y, xaxis=\"\", yaxis=\"\", caxis=\"\", renderer=None, **kwargs):\n",
    "    x = utils.to_numpy(x)\n",
    "    y = utils.to_numpy(y)\n",
    "    px.scatter(y=y, x=x, labels={\"x\":xaxis, \"y\":yaxis, \"color\":caxis}, **kwargs).show(renderer)"
   ]
  },
  {
   "cell_type": "markdown",
   "id": "88472926-24a4-4543-877b-89a958802f47",
   "metadata": {},
   "source": [
    "### Indirect Object Identification\n"
   ]
  },
  {
   "cell_type": "code",
   "execution_count": null,
   "id": "93a2eae5-aac1-4c4f-a5ea-f7aaeb2db7fa",
   "metadata": {},
   "outputs": [
    {
     "name": "stderr",
     "output_type": "stream",
     "text": [
      "Using pad_token, but it is not set yet.\n"
     ]
    },
    {
     "name": "stdout",
     "output_type": "stream",
     "text": [
      "Loaded pretrained model gpt2-small into HookedTransformer\n"
     ]
    }
   ],
   "source": [
    "model = HookedTransformer.from_pretrained(\n",
    "    \"gpt2-small\",\n",
    "    center_unembed=True,\n",
    "    center_writing_weights=True,\n",
    "    fold_ln=True,\n",
    "    refactor_factored_attn_matrices=True\n",
    ")"
   ]
  },
  {
   "cell_type": "markdown",
   "id": "0fbbd9c2-ca30-4e79-85a1-048e7ecf82e1",
   "metadata": {},
   "source": [
    "# Bonus: Exploring Anomalies"
   ]
  },
  {
   "cell_type": "markdown",
   "id": "1a8593f7-e09d-496e-abed-a626e1137b5e",
   "metadata": {},
   "source": [
    "### Early Heads are Induction Heads(?!)"
   ]
  },
  {
   "cell_type": "code",
   "execution_count": null,
   "id": "a08bce18-c3dd-439c-a124-e6b5463e3600",
   "metadata": {},
   "outputs": [],
   "source": [
    "text = \"Persistence is all you need.\""
   ]
  },
  {
   "cell_type": "code",
   "execution_count": null,
   "id": "2db839ea-8ef0-40fd-a900-c225cb0cf60f",
   "metadata": {},
   "outputs": [],
   "source": [
    "repeated_text = text + text"
   ]
  },
  {
   "cell_type": "code",
   "execution_count": null,
   "id": "9fb3b09a-f96b-4d17-805b-cdea0e36a7a2",
   "metadata": {},
   "outputs": [
    {
     "data": {
      "text/plain": [
       "'Persistence is all you need.Persistence is all you need.'"
      ]
     },
     "execution_count": null,
     "metadata": {},
     "output_type": "execute_result"
    }
   ],
   "source": [
    "repeated_text"
   ]
  },
  {
   "cell_type": "code",
   "execution_count": null,
   "id": "8431fd82-5e26-4e58-ab61-c5b72c7d6331",
   "metadata": {},
   "outputs": [],
   "source": [
    "repeated_tokens = model.to_tokens(repeated_text, prepend_bos=True)"
   ]
  },
  {
   "cell_type": "code",
   "execution_count": null,
   "id": "9fedcac0-45fd-4ea8-8a5a-57c54e020611",
   "metadata": {},
   "outputs": [],
   "source": [
    "repeated_logits, repeated_activations = model.run_with_cache(repeated_tokens)"
   ]
  },
  {
   "cell_type": "code",
   "execution_count": null,
   "id": "e9903510-0a0a-4838-a7d8-c29c2d8e64f9",
   "metadata": {},
   "outputs": [],
   "source": [
    "labels = []\n",
    "patterns = []\n",
    "batch_index = 0"
   ]
  },
  {
   "cell_type": "code",
   "execution_count": null,
   "id": "c36aa002-175b-4c26-972b-80040677255f",
   "metadata": {},
   "outputs": [],
   "source": [
    "from transformer_lens.utils import get_act_name\n",
    "import pysvelte"
   ]
  },
  {
   "cell_type": "code",
   "execution_count": null,
   "id": "4dd11f4c-791a-4832-94d7-fbeee76d6ed6",
   "metadata": {},
   "outputs": [],
   "source": [
    "induction_heads = [(6, 9), (4, 2)]"
   ]
  },
  {
   "cell_type": "code",
   "execution_count": null,
   "id": "a4da4c55-951d-4d8e-8661-f5226003ae5d",
   "metadata": {},
   "outputs": [],
   "source": [
    "for layer, head_idx in induction_heads:\n",
    "    hook_name = get_act_name(\"attn\", layer)\n",
    "    \n",
    "    patterns.append(repeated_activations[hook_name][batch_index, head_index])\n",
    "    labels.append(f\"L{layer}H{head_index}\")"
   ]
  },
  {
   "cell_type": "code",
   "execution_count": null,
   "id": "2f33696d-983b-414f-81f2-f5a71777ed5e",
   "metadata": {},
   "outputs": [
    {
     "data": {
      "text/plain": [
       "['L4H9', 'L4H2']"
      ]
     },
     "execution_count": null,
     "metadata": {},
     "output_type": "execute_result"
    }
   ],
   "source": [
    "labels"
   ]
  },
  {
   "cell_type": "code",
   "execution_count": null,
   "id": "e6ad8942-89a6-4837-afd6-f9f8d418178c",
   "metadata": {},
   "outputs": [],
   "source": [
    "str_tokens = model.to_str_tokens(repeated_tokens)\n",
    "patterns = torch.stack(patterns, dim=-1)"
   ]
  },
  {
   "cell_type": "code",
   "execution_count": null,
   "id": "4d2a310b-8fac-4883-aeb2-4b0867f072ae",
   "metadata": {},
   "outputs": [],
   "source": [
    "attention_vis = pysvelte.AttentionMulti(attention=_patterns, tokens=_str_tokens, head_labels=labels)\n",
    "display(HTML(f\"<h3>Attention Pattern</h3>\"))\n",
    "attention_vis.show()"
   ]
  },
  {
   "cell_type": "markdown",
   "id": "8a29c455-8f5d-4646-b940-ed1098556311",
   "metadata": {},
   "source": [
    "### Induction Heads\n"
   ]
  },
  {
   "cell_type": "code",
   "execution_count": null,
   "id": "e0876aa5-fc66-4dab-9f34-4481ab5fea99",
   "metadata": {},
   "outputs": [],
   "source": [
    "def induction_hook(pattern, hook):\n",
    "    layer = hook.layer()\n",
    "    diagonal = pattern.diagonal(of)"
   ]
  }
 ],
 "metadata": {
  "kernelspec": {
   "display_name": "Python 3 (ipykernel)",
   "language": "python",
   "name": "python3"
  }
 },
 "nbformat": 4,
 "nbformat_minor": 5
}
