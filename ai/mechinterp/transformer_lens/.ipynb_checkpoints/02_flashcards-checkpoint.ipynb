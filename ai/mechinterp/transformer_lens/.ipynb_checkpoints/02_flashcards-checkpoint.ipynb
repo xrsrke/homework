{
 "cells": [
  {
   "cell_type": "markdown",
   "id": "b11fc81c-669f-40c2-ac13-872e980390e7",
   "metadata": {},
   "source": [
    "### Direct Logit Attribution"
   ]
  },
  {
   "cell_type": "code",
   "execution_count": null,
   "id": "a62bddc2-8a0c-48fc-b48c-a756fab1eaa8",
   "metadata": {},
   "outputs": [],
   "source": [
    "tokens = model.to_tokens(prompts, prepend_bos=True)"
   ]
  },
  {
   "cell_type": "code",
   "execution_count": null,
   "id": "d7d6d6da-26e1-476c-8311-9127a46bd24c",
   "metadata": {},
   "outputs": [],
   "source": [
    "original_logits, cache = model.run_with_cache(tokens)"
   ]
  }
 ],
 "metadata": {
  "kernelspec": {
   "display_name": "Python 3 (ipykernel)",
   "language": "python",
   "name": "python3"
  }
 },
 "nbformat": 4,
 "nbformat_minor": 5
}
