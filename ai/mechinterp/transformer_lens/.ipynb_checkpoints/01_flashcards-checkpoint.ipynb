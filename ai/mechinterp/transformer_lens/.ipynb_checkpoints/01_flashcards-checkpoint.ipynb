{
 "cells": [
  {
   "cell_type": "code",
   "execution_count": null,
   "id": "9e6690dd-ea3e-488c-ae09-85897083c59f",
   "metadata": {},
   "outputs": [],
   "source": [
    "IN_COLAB = False\n",
    "DEVELOPMENT_MODE = False"
   ]
  },
  {
   "cell_type": "code",
   "execution_count": null,
   "id": "de24a34b-2e9f-4d51-8eeb-875caa4214c0",
   "metadata": {},
   "outputs": [
    {
     "name": "stdout",
     "output_type": "stream",
     "text": [
      "Using renderer: colab\n"
     ]
    }
   ],
   "source": [
    "import plotly.io as pio\n",
    "if IN_COLAB or not DEVELOPMENT_MODE:\n",
    "    pio.renderers.default = \"colab\"\n",
    "else:\n",
    "    pio.renderers.default = \"notebook_connected\"\n",
    "print(f\"Using renderer: {pio.renderers.default}\")"
   ]
  },
  {
   "cell_type": "code",
   "execution_count": null,
   "id": "4a8f3a7e-5d75-4f31-ae01-f3deec3b49f6",
   "metadata": {},
   "outputs": [
    {
     "data": {
      "text/html": [
       "<div id=\"circuits-vis-6edc75c8-ef81\" style=\"margin: 15px 0;\"/>\n",
       "    <script crossorigin type=\"module\">\n",
       "    import { render, Hello } from \"https://unpkg.com/circuitsvis@1.39.1/dist/cdn/esm.js\";\n",
       "    render(\n",
       "      \"circuits-vis-6edc75c8-ef81\",\n",
       "      Hello,\n",
       "      {\"name\": \"Neel\"}\n",
       "    )\n",
       "    </script>"
      ],
      "text/plain": [
       "<circuitsvis.utils.render.RenderedHTML>"
      ]
     },
     "execution_count": null,
     "metadata": {},
     "output_type": "execute_result"
    }
   ],
   "source": [
    "import circuitsvis as cv\n",
    "# Testing that the library works\n",
    "cv.examples.hello(\"Neel\")"
   ]
  },
  {
   "cell_type": "code",
   "execution_count": null,
   "id": "e29f7555-6c20-4ed2-add2-85abc967fab9",
   "metadata": {},
   "outputs": [],
   "source": [
    "import torch\n",
    "import torch.nn as nn\n",
    "import torch.nn.functional as F\n",
    "import torch.optim as optim\n",
    "import numpy as np\n",
    "import einops\n",
    "from fancy_einsum import einsum\n",
    "import tqdm.auto as tqdm\n",
    "import random\n",
    "from pathlib import Path\n",
    "import plotly.express as px\n",
    "from torch.utils.data import DataLoader\n",
    "\n",
    "from jaxtyping import Float, Int\n",
    "from typing import List, Union, Optional\n",
    "from functools import partial\n",
    "import copy\n",
    "\n",
    "import itertools\n",
    "from transformers import AutoModelForCausalLM, AutoConfig, AutoTokenizer\n",
    "import dataclasses\n",
    "import datasets\n",
    "from IPython.display import HTML"
   ]
  },
  {
   "cell_type": "code",
   "execution_count": null,
   "id": "24491ff5-d2ca-4bb2-a51d-aa6852900b94",
   "metadata": {},
   "outputs": [],
   "source": [
    "import transformer_lens\n",
    "import transformer_lens.utils as utils\n",
    "from transformer_lens.hook_points import (\n",
    "    HookedRootModule,\n",
    "    HookPoint,\n",
    ")  # Hooking utilities\n",
    "from transformer_lens import HookedTransformer, HookedTransformerConfig, FactoredMatrix, ActivationCache"
   ]
  },
  {
   "cell_type": "code",
   "execution_count": null,
   "id": "802e07c9-4cd6-4b34-99ea-fb62173e5191",
   "metadata": {},
   "outputs": [
    {
     "data": {
      "text/plain": [
       "<torch.autograd.grad_mode.set_grad_enabled>"
      ]
     },
     "execution_count": null,
     "metadata": {},
     "output_type": "execute_result"
    }
   ],
   "source": [
    "torch.set_grad_enabled(False)"
   ]
  },
  {
   "cell_type": "code",
   "execution_count": null,
   "id": "4adf33bc-7d2f-4260-ae39-4c54ea61ee07",
   "metadata": {},
   "outputs": [],
   "source": [
    "def imshow(tensor, renderer=None, xaxis=\"\", yaxis=\"\", **kwargs):\n",
    "    px.imshow(utils.to_numpy(tensor), color_continuous_midpoint=0.0, color_continuous_scale=\"RdBu\", labels={\"x\":xaxis, \"y\":yaxis}, **kwargs).show(renderer)\n",
    "\n",
    "def line(tensor, renderer=None, xaxis=\"\", yaxis=\"\", **kwargs):\n",
    "    px.line(utils.to_numpy(tensor), labels={\"x\":xaxis, \"y\":yaxis}, **kwargs).show(renderer)\n",
    "\n",
    "def scatter(x, y, xaxis=\"\", yaxis=\"\", caxis=\"\", renderer=None, **kwargs):\n",
    "    x = utils.to_numpy(x)\n",
    "    y = utils.to_numpy(y)\n",
    "    px.scatter(y=y, x=x, labels={\"x\":xaxis, \"y\":yaxis, \"color\":caxis}, **kwargs).show(renderer)"
   ]
  },
  {
   "cell_type": "code",
   "execution_count": null,
   "id": "696c028a-b262-4ff0-ac41-6f5602167075",
   "metadata": {},
   "outputs": [],
   "source": [
    "device = \"cuda\" if torch.cuda.is_available() else \"cpu\""
   ]
  },
  {
   "cell_type": "code",
   "execution_count": null,
   "id": "3b5ccf85-6089-47fe-8694-42523ae1461e",
   "metadata": {},
   "outputs": [
    {
     "name": "stderr",
     "output_type": "stream",
     "text": [
      "Using pad_token, but it is not set yet.\n"
     ]
    },
    {
     "name": "stdout",
     "output_type": "stream",
     "text": [
      "Loaded pretrained model gpt2-small into HookedTransformer\n"
     ]
    }
   ],
   "source": [
    "model = HookedTransformer.from_pretrained(\"gpt2-small\", device=device)"
   ]
  },
  {
   "cell_type": "markdown",
   "id": "7cc251e8-7069-44b0-8a35-91976eff28b4",
   "metadata": {},
   "source": [
    "##### Example 1"
   ]
  },
  {
   "cell_type": "code",
   "execution_count": null,
   "id": "7eb90c72-bb1c-4191-b8a7-a8297be740b2",
   "metadata": {},
   "outputs": [],
   "source": [
    "prompt = \"After John and Mary went to the store, Mary gave a bottle of milk to\""
   ]
  },
  {
   "cell_type": "code",
   "execution_count": null,
   "id": "9da5ea60-7d0e-4546-a45f-e41442e41a86",
   "metadata": {},
   "outputs": [],
   "source": [
    "correct_answer = \" John\"\n",
    "incorrect_answer = \" Mary\""
   ]
  },
  {
   "cell_type": "code",
   "execution_count": null,
   "id": "bb200d1d-258e-4e46-9be4-99b77b58b375",
   "metadata": {},
   "outputs": [
    {
     "data": {
      "text/plain": [
       "transformer_lens.HookedTransformer.HookedTransformer"
      ]
     },
     "execution_count": null,
     "metadata": {},
     "output_type": "execute_result"
    }
   ],
   "source": [
    "type(model)"
   ]
  },
  {
   "cell_type": "code",
   "execution_count": null,
   "id": "cee24f12-350f-4fd6-bc22-c10e87301b0d",
   "metadata": {},
   "outputs": [
    {
     "data": {
      "text/plain": [
       "'After John and Mary went to the store, Mary gave a bottle of milk to'"
      ]
     },
     "execution_count": null,
     "metadata": {},
     "output_type": "execute_result"
    }
   ],
   "source": [
    "prompt"
   ]
  },
  {
   "cell_type": "code",
   "execution_count": null,
   "id": "e5246807-7357-4063-b663-fb2a47751035",
   "metadata": {},
   "outputs": [
    {
     "data": {
      "text/plain": [
       "(' John', ' Mary')"
      ]
     },
     "execution_count": null,
     "metadata": {},
     "output_type": "execute_result"
    }
   ],
   "source": [
    "correct_answer, incorrect_answer"
   ]
  },
  {
   "cell_type": "markdown",
   "id": "b1fd2f1b-2146-45e5-b5da-f39781311502",
   "metadata": {},
   "source": [
    "Find the logit difference between `correct_answer` and `incorrect_answer`"
   ]
  },
  {
   "cell_type": "code",
   "execution_count": null,
   "id": "8b2d7e32-e0a5-48b4-9901-04952a56a63b",
   "metadata": {},
   "outputs": [],
   "source": [
    "tokens = model.to_tokens(prompt)"
   ]
  },
  {
   "cell_type": "code",
   "execution_count": null,
   "id": "9fca7ed1-b161-4487-b05a-b06eef0f0a4a",
   "metadata": {},
   "outputs": [],
   "source": [
    "def logits_to_logit_diff(logits, correct_answer, incorrect_answer):\n",
    "    correct_index = model.to_single_token(correct_answer)\n",
    "    incorrect_index = model.to_single_token(incorrect_answer)\n",
    "    return logits[0, -1, correct_index] - logits[0, -1, incorrect_index]"
   ]
  },
  {
   "cell_type": "code",
   "execution_count": null,
   "id": "e114832d-9a7f-40cf-a1d6-297baf28406b",
   "metadata": {},
   "outputs": [],
   "source": [
    "logits = model(tokens)"
   ]
  },
  {
   "cell_type": "code",
   "execution_count": null,
   "id": "4b0e1e12-380e-454b-9cd6-fe584dc6e6ae",
   "metadata": {},
   "outputs": [],
   "source": [
    "diff = logits_to_logit_diff(logits, correct_answer, incorrect_answer)"
   ]
  },
  {
   "cell_type": "code",
   "execution_count": null,
   "id": "6bee55b3-dc83-4a45-8e74-22613f5cac89",
   "metadata": {},
   "outputs": [
    {
     "data": {
      "text/plain": [
       "tensor(4.2765)"
      ]
     },
     "execution_count": null,
     "metadata": {},
     "output_type": "execute_result"
    }
   ],
   "source": [
    "diff"
   ]
  },
  {
   "cell_type": "markdown",
   "id": "6efe401f-47e5-4439-8261-df375e41d909",
   "metadata": {},
   "source": [
    "##### Example 1.1"
   ]
  },
  {
   "cell_type": "code",
   "execution_count": null,
   "id": "77e86fb8-fb4e-46e4-b6e0-98c0d208dd31",
   "metadata": {},
   "outputs": [],
   "source": [
    "tokens = model.to_tokens(\"Persistence is all you need\")"
   ]
  },
  {
   "cell_type": "code",
   "execution_count": null,
   "id": "6d376d1b-5bdf-4154-93d3-7cc91d469c2b",
   "metadata": {},
   "outputs": [],
   "source": [
    "hook_name = \"blocks.1.attn.hook_v\""
   ]
  },
  {
   "cell_type": "code",
   "execution_count": null,
   "id": "9b8f615d-203c-4ee9-ae43-e20ccfbb56de",
   "metadata": {},
   "outputs": [
    {
     "data": {
      "text/plain": [
       "tensor([[50256, 30946, 13274,   318,   477,   345,   761]])"
      ]
     },
     "execution_count": null,
     "metadata": {},
     "output_type": "execute_result"
    }
   ],
   "source": [
    "tokens"
   ]
  },
  {
   "cell_type": "code",
   "execution_count": null,
   "id": "4ce4c2bd-9ebd-4717-b7b1-941815774d03",
   "metadata": {},
   "outputs": [
    {
     "data": {
      "text/plain": [
       "transformer_lens.HookedTransformer.HookedTransformer"
      ]
     },
     "execution_count": null,
     "metadata": {},
     "output_type": "execute_result"
    }
   ],
   "source": [
    "type(model)"
   ]
  },
  {
   "cell_type": "markdown",
   "id": "aa278e07-7ee9-4ae6-bd62-822b4d1d3546",
   "metadata": {},
   "source": [
    "`hook_name` is the name of the hook point"
   ]
  },
  {
   "cell_type": "code",
   "execution_count": null,
   "id": "7e6d35be-b3d3-4364-875b-92f3bd4260b9",
   "metadata": {},
   "outputs": [
    {
     "data": {
      "text/plain": [
       "'blocks.1.attn.hook_v'"
      ]
     },
     "execution_count": null,
     "metadata": {},
     "output_type": "execute_result"
    }
   ],
   "source": [
    "hook_name"
   ]
  },
  {
   "cell_type": "markdown",
   "id": "941ff89f-94ff-431d-920b-642ccd7c795c",
   "metadata": {},
   "source": [
    "Print the shape of activation at hook point `hook_name`\n",
    "\n",
    "**Hints**:\n",
    "- A hook function takes `activation` and `hook` as argument\n",
    "- Ignore the type annotations"
   ]
  },
  {
   "cell_type": "code",
   "execution_count": null,
   "id": "4dc00eb7-dab5-4c0c-bf1d-5084987fd6ef",
   "metadata": {},
   "outputs": [],
   "source": [
    "def hook_func(\n",
    "    activation: Float[torch.Tensor, \"batch seq_len head_index d_head\"],\n",
    "    hook: HookPoint\n",
    ") -> Float[torch.Tensor, \"batch seq_len head_index d_head\"]:\n",
    "    print(f\"Shape of the activation tensor: {activation.shape}\")"
   ]
  },
  {
   "cell_type": "code",
   "execution_count": null,
   "id": "6e3d0292-c4af-4994-92f7-88ea1c9ffbc8",
   "metadata": {},
   "outputs": [
    {
     "name": "stdout",
     "output_type": "stream",
     "text": [
      "Shape of the activation tensor: torch.Size([1, 7, 12, 64])\n"
     ]
    }
   ],
   "source": [
    "logits = model.run_with_hooks(\n",
    "    tokens,\n",
    "    fwd_hooks=[(\n",
    "        hook_name,\n",
    "        hook_func\n",
    "    )]\n",
    ")"
   ]
  },
  {
   "cell_type": "markdown",
   "id": "81d3b730-f84f-484b-9bd3-848108a5138c",
   "metadata": {},
   "source": [
    "##### Example 2.2"
   ]
  },
  {
   "cell_type": "code",
   "execution_count": null,
   "id": "4dc52527-f87b-4789-a74b-5a33ac8bbd58",
   "metadata": {},
   "outputs": [],
   "source": [
    "original_loss = model.run_with_hooks(\n",
    "    tokens,\n",
    "    return_type=\"loss\"\n",
    ")"
   ]
  },
  {
   "cell_type": "code",
   "execution_count": null,
   "id": "3a6aa40e-0cad-401e-9047-9f49238f9d69",
   "metadata": {},
   "outputs": [
    {
     "data": {
      "text/plain": [
       "transformer_lens.HookedTransformer.HookedTransformer"
      ]
     },
     "execution_count": null,
     "metadata": {},
     "output_type": "execute_result"
    }
   ],
   "source": [
    "type(model)"
   ]
  },
  {
   "cell_type": "code",
   "execution_count": null,
   "id": "d57d00e5-7432-45a3-be74-a3eb84014831",
   "metadata": {},
   "outputs": [
    {
     "data": {
      "text/plain": [
       "tensor([[50256, 30946, 13274,   318,   477,   345,   761]])"
      ]
     },
     "execution_count": null,
     "metadata": {},
     "output_type": "execute_result"
    }
   ],
   "source": [
    "tokens"
   ]
  },
  {
   "cell_type": "markdown",
   "id": "3bf22bd1-d4ca-4130-972a-bf70fb70a116",
   "metadata": {},
   "source": [
    "`original_loss` is the loss of `tokens` without any changes made to the activation"
   ]
  },
  {
   "cell_type": "code",
   "execution_count": null,
   "id": "c0e169ef-174e-46ff-b1dc-8dc36002d459",
   "metadata": {},
   "outputs": [
    {
     "data": {
      "text/plain": [
       "(tensor(4.0712), 'blocks.1.attn.hook_v')"
      ]
     },
     "execution_count": null,
     "metadata": {},
     "output_type": "execute_result"
    }
   ],
   "source": [
    "original_loss, hook_name"
   ]
  },
  {
   "cell_type": "markdown",
   "id": "70400c52-e7a6-4391-bcad-a442b990adf4",
   "metadata": {},
   "source": [
    "Set the activation of **head_index 4 to zero** at hook point `hook_name` and return the loss\n",
    "\n",
    "**Hints**:\n",
    "- The shape of activation is `(batch_size, seq_len, head_index, d_head)`\n",
    "- Ignore the type annotations"
   ]
  },
  {
   "cell_type": "code",
   "execution_count": null,
   "id": "847fdf94-e959-4032-9130-5f006d8cbd32",
   "metadata": {},
   "outputs": [],
   "source": [
    "def hook_func(\n",
    "    activation: Float[torch.Tensor, \"batch seq_len head_index d_head\"],\n",
    "    hook: HookPoint\n",
    ") -> Float[torch.Tensor, \"batch seq_len head_index d_head\"]:\n",
    "    activation[:, :, 4, :] = 0."
   ]
  },
  {
   "cell_type": "code",
   "execution_count": null,
   "id": "62ca4ea6-5d23-4ec2-8700-ed78100adbda",
   "metadata": {},
   "outputs": [],
   "source": [
    "loss = model.run_with_hooks(\n",
    "    tokens,\n",
    "    return_type=\"loss\",\n",
    "    fwd_hooks=[(hook_name, hook_func)]\n",
    ")"
   ]
  },
  {
   "cell_type": "code",
   "execution_count": null,
   "id": "30a5f9f2-9d09-413e-8b85-4b2d90476eb6",
   "metadata": {},
   "outputs": [
    {
     "data": {
      "text/plain": [
       "tensor(4.0319)"
      ]
     },
     "execution_count": null,
     "metadata": {},
     "output_type": "execute_result"
    }
   ],
   "source": [
    "loss"
   ]
  },
  {
   "cell_type": "markdown",
   "id": "297a3089-eed4-4b89-8042-d24293978d74",
   "metadata": {},
   "source": [
    "##### Example 2"
   ]
  },
  {
   "cell_type": "code",
   "execution_count": null,
   "id": "fd62acf5-ca6a-461b-8676-e39c295912fa",
   "metadata": {},
   "outputs": [],
   "source": [
    "import torch.nn.functional as F"
   ]
  },
  {
   "cell_type": "code",
   "execution_count": null,
   "id": "c298a809-b01e-490e-9d07-50fa3acb9898",
   "metadata": {},
   "outputs": [
    {
     "data": {
      "text/html": [
       "<pre style=\"white-space:pre;overflow-x:auto;line-height:normal;font-family:Menlo,'DejaVu Sans Mono',consolas,'Courier New',monospace\"><span style=\"color: #800000; text-decoration-color: #800000\">╭─────────────────────────────── </span><span style=\"color: #800000; text-decoration-color: #800000; font-weight: bold\">Traceback </span><span style=\"color: #bf7f7f; text-decoration-color: #bf7f7f; font-weight: bold\">(most recent call last)</span><span style=\"color: #800000; text-decoration-color: #800000\"> ────────────────────────────────╮</span>\n",
       "<span style=\"color: #800000; text-decoration-color: #800000\">│</span> in <span style=\"color: #00ff00; text-decoration-color: #00ff00\">&lt;module&gt;</span>:<span style=\"color: #0000ff; text-decoration-color: #0000ff\">1</span>                                                                                    <span style=\"color: #800000; text-decoration-color: #800000\">│</span>\n",
       "<span style=\"color: #800000; text-decoration-color: #800000\">│</span>                                                                                                  <span style=\"color: #800000; text-decoration-color: #800000\">│</span>\n",
       "<span style=\"color: #800000; text-decoration-color: #800000\">│</span> <span style=\"color: #800000; text-decoration-color: #800000\">❱ </span>1 logits = model(corrupted_tokens)                                                             <span style=\"color: #800000; text-decoration-color: #800000\">│</span>\n",
       "<span style=\"color: #800000; text-decoration-color: #800000\">│</span>   <span style=\"color: #7f7f7f; text-decoration-color: #7f7f7f\">2 </span>                                                                                             <span style=\"color: #800000; text-decoration-color: #800000\">│</span>\n",
       "<span style=\"color: #800000; text-decoration-color: #800000\">╰──────────────────────────────────────────────────────────────────────────────────────────────────╯</span>\n",
       "<span style=\"color: #ff0000; text-decoration-color: #ff0000; font-weight: bold\">NameError: </span>name <span style=\"color: #008000; text-decoration-color: #008000\">'corrupted_tokens'</span> is not defined\n",
       "</pre>\n"
      ],
      "text/plain": [
       "\u001b[31m╭─\u001b[0m\u001b[31m──────────────────────────────\u001b[0m\u001b[31m \u001b[0m\u001b[1;31mTraceback \u001b[0m\u001b[1;2;31m(most recent call last)\u001b[0m\u001b[31m \u001b[0m\u001b[31m───────────────────────────────\u001b[0m\u001b[31m─╮\u001b[0m\n",
       "\u001b[31m│\u001b[0m in \u001b[92m<module>\u001b[0m:\u001b[94m1\u001b[0m                                                                                    \u001b[31m│\u001b[0m\n",
       "\u001b[31m│\u001b[0m                                                                                                  \u001b[31m│\u001b[0m\n",
       "\u001b[31m│\u001b[0m \u001b[31m❱ \u001b[0m1 logits = model(corrupted_tokens)                                                             \u001b[31m│\u001b[0m\n",
       "\u001b[31m│\u001b[0m   \u001b[2m2 \u001b[0m                                                                                             \u001b[31m│\u001b[0m\n",
       "\u001b[31m╰──────────────────────────────────────────────────────────────────────────────────────────────────╯\u001b[0m\n",
       "\u001b[1;91mNameError: \u001b[0mname \u001b[32m'corrupted_tokens'\u001b[0m is not defined\n"
      ]
     },
     "metadata": {},
     "output_type": "display_data"
    }
   ],
   "source": [
    "logits = model(corrupted_tokens)"
   ]
  },
  {
   "cell_type": "code",
   "execution_count": null,
   "id": "6f05d526-5765-4391-bead-50a2756d91d3",
   "metadata": {},
   "outputs": [],
   "source": [
    "# hook_name = \"blocks.3.attn.hook_attn_scores\"\n",
    "# hook_name = \"blocks.3.hook_mlp_out\"\n",
    "hook_name = \"blocks.1.hook_resid_pre\""
   ]
  },
  {
   "cell_type": "code",
   "execution_count": null,
   "id": "b5c644bc-97b3-43f4-be41-3d61f6273b58",
   "metadata": {},
   "outputs": [],
   "source": [
    "clean_tokens = model.to_tokens(\"Persistence is all you need\")"
   ]
  },
  {
   "cell_type": "code",
   "execution_count": null,
   "id": "45bff846-5b56-45f1-98e3-a571f5040b06",
   "metadata": {},
   "outputs": [],
   "source": [
    "corrupted_tokens = model.to_tokens(\"**Persistence **is **all **you **need\")"
   ]
  },
  {
   "cell_type": "code",
   "execution_count": null,
   "id": "2776eb35-d06b-4809-8b39-9a6997b7bd4f",
   "metadata": {},
   "outputs": [],
   "source": [
    "clean_logits, clean_acts = model.run_with_cache(clean_tokens)"
   ]
  },
  {
   "cell_type": "code",
   "execution_count": null,
   "id": "8e11ba50-d67f-4fb1-82fe-ccbad153f67b",
   "metadata": {},
   "outputs": [],
   "source": [
    "len(clean_tokens[0]), len(corrupted_tokens[0])"
   ]
  },
  {
   "cell_type": "code",
   "execution_count": null,
   "id": "0a3714b2-4e81-45f7-8d1b-a0fc80377109",
   "metadata": {},
   "outputs": [],
   "source": [
    "hook_name, type(clean_acts), type(model)"
   ]
  },
  {
   "cell_type": "markdown",
   "id": "9022e9ba-13ad-4810-9a5a-6cdec186854f",
   "metadata": {},
   "source": [
    "`clean_acts` is the activations of the `model` when given `clean_tokens` as input"
   ]
  },
  {
   "cell_type": "code",
   "execution_count": null,
   "id": "7c47c070-0d66-487d-a7c0-897542283892",
   "metadata": {},
   "outputs": [],
   "source": [
    "clean_acts[hook_name]"
   ]
  },
  {
   "cell_type": "markdown",
   "id": "9ed703b4-2b4c-45eb-a5cb-440ba0a2c3cd",
   "metadata": {},
   "source": [
    "Perform activation patching at `hook_name` by replacing the clean token\n",
    "logits with the corrupted token logits at position 1\n",
    "\n",
    "**Hint**:\n",
    "- The activation has shape `(batch_size, seq_len, d_model)`\n",
    "- Ignore the type annotations"
   ]
  },
  {
   "cell_type": "code",
   "execution_count": null,
   "id": "2d12f598-c040-48ae-a343-8977595f0b40",
   "metadata": {},
   "outputs": [],
   "source": [
    "def act_patching_hook(\n",
    "    acts: Float[torch.Tensor, \"batch seq_len d_model\"],\n",
    "    hook: HookPoint,\n",
    "):\n",
    "    clean_resid_pre = clean_acts[hook.name]\n",
    "    acts[:, 1, :] = clean_resid_pre[:, 1, :]\n",
    "    return acts"
   ]
  },
  {
   "cell_type": "code",
   "execution_count": null,
   "id": "76923ccc-f8e0-49b7-b4d5-a427afaa9b5b",
   "metadata": {},
   "outputs": [],
   "source": [
    "patched_logits = model.run_with_hooks(\n",
    "    corrupted_tokens, fwd_hooks=[(hook_name, act_patching_hook)]\n",
    ")"
   ]
  },
  {
   "cell_type": "markdown",
   "id": "49affc8a-1fef-4ccf-8924-be62209b530e",
   "metadata": {},
   "source": [
    "Compare the logits of `corrupted_tokens` before and after applying the activation patch at `hook_name`"
   ]
  },
  {
   "cell_type": "code",
   "execution_count": null,
   "id": "3bbb3089-8aa8-44d5-aca8-ecb715a8f34a",
   "metadata": {},
   "outputs": [],
   "source": [
    "patched_logits == logits"
   ]
  },
  {
   "cell_type": "code",
   "execution_count": null,
   "id": "9b4e1f91-f6e2-4418-af09-65fb04a83192",
   "metadata": {},
   "outputs": [],
   "source": []
  },
  {
   "cell_type": "code",
   "execution_count": null,
   "id": "a416c3e5-017c-4f95-a616-20c3e17618cb",
   "metadata": {},
   "outputs": [],
   "source": [
    "n_positions = len(clean_tokens[0])"
   ]
  },
  {
   "cell_type": "code",
   "execution_count": null,
   "id": "317a74f8-fadc-426c-ab9e-87b90ef2a403",
   "metadata": {},
   "outputs": [],
   "source": [
    "for layer in tqdm.tqdm(range(model.cfg.n_layers)):\n",
    "    for position in range(n_positions):\n",
    "        "
   ]
  },
  {
   "cell_type": "markdown",
   "id": "8b1ad094-4b23-4a9b-bb14-e966d94af3d4",
   "metadata": {},
   "source": [
    "##### Example 3"
   ]
  },
  {
   "cell_type": "code",
   "execution_count": null,
   "id": "e677e2a4-e5f1-4056-bbe1-9b9b72455c73",
   "metadata": {},
   "outputs": [],
   "source": [
    "x = torch.arange(0, 2*3*4*4).view(2, 3, 4, 4)"
   ]
  },
  {
   "cell_type": "code",
   "execution_count": null,
   "id": "654c19e0-3fa6-4811-8824-1519e696fb68",
   "metadata": {},
   "outputs": [],
   "source": [
    "x"
   ]
  },
  {
   "cell_type": "code",
   "execution_count": null,
   "id": "d739e6a7-e1c9-4c9b-a03c-13513d4e6b6f",
   "metadata": {},
   "outputs": [],
   "source": [
    "x.shape"
   ]
  },
  {
   "cell_type": "markdown",
   "id": "85a0922b-73b8-4391-a5cc-c7f791c91bfb",
   "metadata": {},
   "source": [
    "Extract the diagonal matrix as bellow and explain"
   ]
  },
  {
   "cell_type": "code",
   "execution_count": null,
   "id": "8c8b17e8-3022-4afc-968e-81793fe8671b",
   "metadata": {},
   "outputs": [],
   "source": [
    "diagonal = x.diagonal(dim1=-2, dim2=-1)"
   ]
  },
  {
   "cell_type": "markdown",
   "id": "1ae1e8e5-7bc4-4816-8412-3c1c82a53658",
   "metadata": {},
   "source": [
    "**Explain**\n",
    "- `dim1=-2` means the rows of the diagonal are specified by the second-to-last dimension of `x`.\n",
    "- `dim2=-1` means the columns of the diagonal are specified by the last dimension of `x`.\n",
    "\n",
    "In summary, it means that you want to extract the diagonals along the last two dimensions of the tensor (the second-to-last dimension for the rows and the last dimension for the columns)."
   ]
  },
  {
   "cell_type": "code",
   "execution_count": null,
   "id": "4cacc377-a1bd-42a5-abcc-d9050954eefa",
   "metadata": {},
   "outputs": [],
   "source": [
    "diagonal.shape"
   ]
  },
  {
   "cell_type": "code",
   "execution_count": null,
   "id": "0f182c3d-9af9-44db-a1b0-e05fa7f688b9",
   "metadata": {},
   "outputs": [],
   "source": [
    "diagonal"
   ]
  },
  {
   "cell_type": "markdown",
   "id": "0b1b8c04-c622-4019-bad7-43c6c145621c",
   "metadata": {},
   "source": [
    "##### Example 4 "
   ]
  },
  {
   "cell_type": "code",
   "execution_count": null,
   "id": "ae0543f9-1ffe-4a2f-b06b-af063ee4cbd8",
   "metadata": {},
   "outputs": [],
   "source": [
    "attn_weights = torch.arange(0, 2*3*4*4).view(2, 3, 4, 4)"
   ]
  },
  {
   "cell_type": "code",
   "execution_count": null,
   "id": "d32de068-c69f-47be-b4d3-311e51958467",
   "metadata": {},
   "outputs": [],
   "source": [
    "mask = torch.tril(torch.ones_like(attn_weights))"
   ]
  },
  {
   "cell_type": "code",
   "execution_count": null,
   "id": "38926008-653d-4d47-8d45-36c08db58fba",
   "metadata": {},
   "outputs": [],
   "source": [
    "attn_weights = attn_weights * mask"
   ]
  },
  {
   "cell_type": "code",
   "execution_count": null,
   "id": "319c7de7-a4fb-477a-9a3a-cd80449b821a",
   "metadata": {},
   "outputs": [],
   "source": [
    "attn_weights"
   ]
  },
  {
   "cell_type": "markdown",
   "id": "1193beaf-a597-4413-a114-95b5200026ff",
   "metadata": {},
   "source": [
    "The `attn_weights` tensor contains `2` batches, `3` attention heads, and `4` tokens within each sequence"
   ]
  },
  {
   "cell_type": "code",
   "execution_count": null,
   "id": "303fa0c2-1e01-4089-8653-9ec27b4ff775",
   "metadata": {},
   "outputs": [],
   "source": [
    "attn_weights.shape"
   ]
  },
  {
   "cell_type": "markdown",
   "id": "e40970bf-967d-47d1-9f6a-7d4a22a90363",
   "metadata": {},
   "source": [
    "Extract the attention weights of each token looking back at the previous token. And explain the code."
   ]
  },
  {
   "cell_type": "code",
   "execution_count": null,
   "id": "c627b987-31ed-4454-993f-79d0effdc56e",
   "metadata": {},
   "outputs": [],
   "source": [
    "weights = attn_weights.diagonal(dim1=-2, dim2=-1, offset=-1)"
   ]
  },
  {
   "cell_type": "markdown",
   "id": "27c6a31f-8cdb-4fd2-b9e5-971f9a5faab6",
   "metadata": {},
   "source": [
    "**Explain**\n",
    "- `dim1=-2`: This means you want to consider the-second-last dimension of the `attn_weights` tensor (which represents the destination positions) as the first dimension (rows) of the resulting diagonal tensor.\n",
    "- `dim2=-1`: This means you want to consider the last dimension of the `attn_weights` tensor (which represents the source positions) as the second dimension (columns) of the resulting diagonal tensor.\n",
    "- `offset=-1`: This means that you want to extract the diagonal below the main diagonal (i.e., one step to the left of the main diagonal). In the context of attention weights, this corresponds to the attention paid from each token to its immediately preceding token (one token look back)."
   ]
  },
  {
   "cell_type": "code",
   "execution_count": null,
   "id": "d1ba1a46-9960-47a2-96ab-ea26e2564cc2",
   "metadata": {},
   "outputs": [],
   "source": [
    "weights.shape"
   ]
  },
  {
   "cell_type": "code",
   "execution_count": null,
   "id": "63dc8492-4f9d-4316-819c-acec62fd243a",
   "metadata": {},
   "outputs": [],
   "source": [
    "weights"
   ]
  },
  {
   "cell_type": "markdown",
   "id": "be88e9e1-6d8c-4f1f-a786-1b587648b0e8",
   "metadata": {},
   "source": [
    "### Factored Matrix Class\n"
   ]
  },
  {
   "cell_type": "code",
   "execution_count": null,
   "id": "752fd153-2d26-4549-ad8b-68791c69bc08",
   "metadata": {},
   "outputs": [],
   "source": [
    "A = torch.randn(5, 2)"
   ]
  },
  {
   "cell_type": "code",
   "execution_count": null,
   "id": "ecd7a9e0-9b6e-44f2-9840-bc56e97dfe6b",
   "metadata": {},
   "outputs": [],
   "source": [
    "B = torch.randn(2, 5)"
   ]
  },
  {
   "cell_type": "code",
   "execution_count": null,
   "id": "de66f781-f316-4d7a-b74c-833ab4ac23f0",
   "metadata": {},
   "outputs": [],
   "source": [
    "AB = A @ B"
   ]
  },
  {
   "cell_type": "code",
   "execution_count": null,
   "id": "9cbc8cc7-c783-4c14-bf5c-dcc3e7ffd16e",
   "metadata": {},
   "outputs": [],
   "source": [
    "AB_factor = FactoredMatrix(A, B)"
   ]
  },
  {
   "cell_type": "code",
   "execution_count": null,
   "id": "6dd18086-0f28-48ec-a2f1-c84fb2d243f9",
   "metadata": {},
   "outputs": [],
   "source": [
    "AB_factor.norm()"
   ]
  },
  {
   "cell_type": "markdown",
   "id": "b961d3c6-7f85-4633-9c6d-9780efc2e079",
   "metadata": {},
   "source": [
    "AB.norm()"
   ]
  },
  {
   "cell_type": "markdown",
   "id": "629be7e1-a93b-4920-9add-81430ee69128",
   "metadata": {},
   "source": [
    "### Hook Points\n"
   ]
  },
  {
   "cell_type": "markdown",
   "id": "fc948416-9bf0-451b-b311-fe6b23761c84",
   "metadata": {},
   "source": [
    "##### Example 1"
   ]
  },
  {
   "cell_type": "code",
   "execution_count": null,
   "id": "8e480dfa-99fa-4ecb-8046-131196ed1689",
   "metadata": {},
   "outputs": [],
   "source": [
    "x = torch.randn(42)"
   ]
  },
  {
   "cell_type": "code",
   "execution_count": null,
   "id": "4ef536ef-e2fc-43e6-ace7-adb147d1000a",
   "metadata": {},
   "outputs": [],
   "source": [
    "model = nn.Sequential(\n",
    "    nn.Linear(42, 69),\n",
    "    nn.ReLU(),\n",
    "    nn.Linear(69, 42)\n",
    ")"
   ]
  },
  {
   "cell_type": "code",
   "execution_count": null,
   "id": "2e760d6a-9a20-4c0a-8e11-da1dbe223706",
   "metadata": {},
   "outputs": [],
   "source": [
    "model"
   ]
  },
  {
   "cell_type": "markdown",
   "id": "2c50b905-87a4-4e6b-beba-d5669a7655d4",
   "metadata": {},
   "source": [
    "Create a `Model` that is similar to `model` and records all intermediate activations"
   ]
  },
  {
   "cell_type": "code",
   "execution_count": null,
   "id": "c3e6864f-7f7f-4f5a-9d6d-f9a70794d3fb",
   "metadata": {},
   "outputs": [],
   "source": [
    "from transformer_lens.hook_points import HookedRootModule, HookPoint"
   ]
  },
  {
   "cell_type": "code",
   "execution_count": null,
   "id": "43532b0f-9552-4e60-9877-ee7df3db49c2",
   "metadata": {},
   "outputs": [],
   "source": [
    "class Model(HookedRootModule):\n",
    "    def __init__(self):\n",
    "        super().__init__()\n",
    "        self.net = nn.Sequential(\n",
    "            nn.Linear(42, 69), HookPoint(),\n",
    "            nn.ReLU(), HookPoint(),\n",
    "            nn.Linear(69, 42), HookPoint()\n",
    "        )\n",
    "        super().setup()\n",
    "    \n",
    "    def forward(self, x):\n",
    "        x_out = self.net(x)\n",
    "        return x_out"
   ]
  },
  {
   "cell_type": "code",
   "execution_count": null,
   "id": "b6e83182-2328-41dd-a36d-7fe8bf314080",
   "metadata": {},
   "outputs": [],
   "source": [
    "model = Model()"
   ]
  },
  {
   "cell_type": "code",
   "execution_count": null,
   "id": "89fe215e-81d6-4e5c-9dc1-fdb3478edb7e",
   "metadata": {},
   "outputs": [],
   "source": [
    "x.shape"
   ]
  },
  {
   "cell_type": "code",
   "execution_count": null,
   "id": "9fa4aff2-2d14-47a3-87f1-54d96288e52d",
   "metadata": {},
   "outputs": [],
   "source": [
    "output, acts = model.run_with_cache(x)"
   ]
  },
  {
   "cell_type": "code",
   "execution_count": null,
   "id": "01c2d122-fb6e-4e00-81b7-1ea08d840208",
   "metadata": {},
   "outputs": [],
   "source": [
    "for name in acts:\n",
    "    print(f\"activation name: {name}, shape {acts[name].shape}\")"
   ]
  },
  {
   "cell_type": "code",
   "execution_count": null,
   "id": "cd3da6e4-209c-4ecd-b516-81332d3982a7",
   "metadata": {},
   "outputs": [],
   "source": [
    "output.shape, acts.keys()"
   ]
  },
  {
   "cell_type": "code",
   "execution_count": null,
   "id": "1505d983-d1f2-42b4-961d-6cce9a7dc3d4",
   "metadata": {},
   "outputs": [],
   "source": [
    "acts[\"net.1\"]"
   ]
  },
  {
   "cell_type": "markdown",
   "id": "cfe1f8d2-bcc8-4108-bfa1-44f6cd79ac29",
   "metadata": {},
   "source": [
    "##### Example 2"
   ]
  },
  {
   "cell_type": "code",
   "execution_count": null,
   "id": "f125af71-db1c-4b61-a35c-342d56f10741",
   "metadata": {},
   "outputs": [],
   "source": [
    "batch_size = 10"
   ]
  },
  {
   "cell_type": "code",
   "execution_count": null,
   "id": "3dded484-a58e-45cf-b66a-06e15bafd615",
   "metadata": {},
   "outputs": [],
   "source": [
    "seq_len = 50"
   ]
  },
  {
   "cell_type": "code",
   "execution_count": null,
   "id": "5b3e76a1-764d-4a71-a24b-e062b90de905",
   "metadata": {},
   "outputs": [],
   "source": [
    "text = \"I like ice cream. I like ice cream. I like ice cream. I like ice cream. I like ice\""
   ]
  },
  {
   "cell_type": "code",
   "execution_count": null,
   "id": "b430e25e-3dfe-45fa-959c-3dd83a411d5e",
   "metadata": {},
   "outputs": [],
   "source": [
    "import torch.nn.functional as F\n",
    "from einops import rearrange, reduce"
   ]
  },
  {
   "cell_type": "code",
   "execution_count": null,
   "id": "f6a691b0-e640-4d15-b9c4-eb4d86edec55",
   "metadata": {},
   "outputs": [
    {
     "data": {
      "text/plain": [
       "transformer_lens.HookedTransformer.HookedTransformer"
      ]
     },
     "execution_count": null,
     "metadata": {},
     "output_type": "execute_result"
    }
   ],
   "source": [
    "type(model)"
   ]
  },
  {
   "cell_type": "code",
   "execution_count": null,
   "id": "1b1717ad-e2db-453b-9af3-5b3a9bd80ed9",
   "metadata": {},
   "outputs": [
    {
     "data": {
      "text/plain": [
       "'I like ice cream. I like ice cream. I like ice cream. I like ice cream. I like ice'"
      ]
     },
     "execution_count": null,
     "metadata": {},
     "output_type": "execute_result"
    }
   ],
   "source": [
    "text"
   ]
  },
  {
   "cell_type": "markdown",
   "id": "e97e532b-f495-45a7-83b5-b42f324912df",
   "metadata": {},
   "source": [
    "Calculate the induction loss for each position in `text` from scratch"
   ]
  },
  {
   "cell_type": "code",
   "execution_count": null,
   "id": "738aa4f1-d870-4a1a-86c2-677daf3af437",
   "metadata": {},
   "outputs": [],
   "source": [
    "tokens = model.to_tokens(text)"
   ]
  },
  {
   "cell_type": "code",
   "execution_count": null,
   "id": "1fe2d367-f79c-4c80-a82d-a42be8f2b413",
   "metadata": {},
   "outputs": [],
   "source": [
    "repeated_logits = model(tokens)"
   ]
  },
  {
   "cell_type": "code",
   "execution_count": null,
   "id": "7340c231-e9bd-4da1-a73b-21eb85f2d1bc",
   "metadata": {},
   "outputs": [],
   "source": [
    "log_probs = F.log_softmax(repeated_logits, dim=-1)"
   ]
  },
  {
   "cell_type": "code",
   "execution_count": null,
   "id": "bc4c3fc3-3211-4c51-b30b-fd651271d747",
   "metadata": {},
   "outputs": [
    {
     "data": {
      "text/plain": [
       "torch.Size([1, 24, 50257])"
      ]
     },
     "execution_count": null,
     "metadata": {},
     "output_type": "execute_result"
    }
   ],
   "source": [
    "log_probs.shape"
   ]
  },
  {
   "cell_type": "code",
   "execution_count": null,
   "id": "fc26b79c-db2e-4734-ad77-a9ddf22e1de1",
   "metadata": {},
   "outputs": [],
   "source": [
    "last_token_logits = log_probs[:, -1, :]"
   ]
  },
  {
   "cell_type": "code",
   "execution_count": null,
   "id": "5bb6207a-3e7b-44f1-a07d-ebb28e1b3d8e",
   "metadata": {},
   "outputs": [],
   "source": [
    "target_tokens = tokens[:, 1:]"
   ]
  },
  {
   "cell_type": "code",
   "execution_count": null,
   "id": "d80de5c8-4162-4f0c-9446-72177971df33",
   "metadata": {},
   "outputs": [],
   "source": [
    "target_tokens = rearrange(target_tokens, \"... -> ... 1\")"
   ]
  },
  {
   "cell_type": "code",
   "execution_count": null,
   "id": "23443485-16ae-486d-b967-89e7284678cb",
   "metadata": {},
   "outputs": [
    {
     "data": {
      "text/plain": [
       "torch.Size([1, 23, 1])"
      ]
     },
     "execution_count": null,
     "metadata": {},
     "output_type": "execute_result"
    }
   ],
   "source": [
    "target_tokens.shape"
   ]
  },
  {
   "cell_type": "code",
   "execution_count": null,
   "id": "25ebff84-df56-427a-af5b-d0d6ece16b59",
   "metadata": {},
   "outputs": [],
   "source": [
    "predicted_log_probs = -log_probs.gather(dim=-1, index=target_tokens)"
   ]
  },
  {
   "cell_type": "code",
   "execution_count": null,
   "id": "b160e5c4-a57c-42d6-b436-c29df5d946fc",
   "metadata": {},
   "outputs": [
    {
     "data": {
      "text/plain": [
       "torch.Size([1, 23, 1])"
      ]
     },
     "execution_count": null,
     "metadata": {},
     "output_type": "execute_result"
    }
   ],
   "source": [
    "predicted_log_probs.shape"
   ]
  },
  {
   "cell_type": "code",
   "execution_count": null,
   "id": "7b257dbf-d314-4086-9378-2bb1c55a2bde",
   "metadata": {},
   "outputs": [
    {
     "data": {
      "text/html": [
       "<html>\n",
       "<head><meta charset=\"utf-8\" /></head>\n",
       "<body>\n",
       "    <div>            <script src=\"https://cdnjs.cloudflare.com/ajax/libs/mathjax/2.7.5/MathJax.js?config=TeX-AMS-MML_SVG\"></script><script type=\"text/javascript\">if (window.MathJax && window.MathJax.Hub && window.MathJax.Hub.Config) {window.MathJax.Hub.Config({SVG: {font: \"STIX-Web\"}});}</script>                <script type=\"text/javascript\">window.PlotlyConfig = {MathJaxConfig: 'local'};</script>\n",
       "        <script charset=\"utf-8\" src=\"https://cdn.plot.ly/plotly-2.20.0.min.js\"></script>                <div id=\"ae2f9f3e-448e-4e03-a58b-ab9ac744dc57\" class=\"plotly-graph-div\" style=\"height:525px; width:100%;\"></div>            <script type=\"text/javascript\">                                    window.PLOTLYENV=window.PLOTLYENV || {};                                    if (document.getElementById(\"ae2f9f3e-448e-4e03-a58b-ab9ac744dc57\")) {                    Plotly.newPlot(                        \"ae2f9f3e-448e-4e03-a58b-ab9ac744dc57\",                        [{\"hovertemplate\":\"variable=0<br>index=%{x}<br>value=%{y}<extra></extra>\",\"legendgroup\":\"0\",\"line\":{\"color\":\"#636efa\",\"dash\":\"solid\"},\"marker\":{\"symbol\":\"circle\"},\"mode\":\"lines\",\"name\":\"0\",\"orientation\":\"v\",\"showlegend\":true,\"x\":[0,1,2,3,4,5,6,7,8,9,10,11,12,13,14,15,16,17,18,19,20,21,22],\"xaxis\":\"x\",\"y\":[3.999708414077759,5.014192581176758,8.586183547973633,0.31896138191223145,1.293904185295105,1.2151284217834473,1.0847722291946411,2.5883312225341797,0.12445857375860214,3.1860861778259277,1.054844617843628,0.5038745999336243,0.3282051980495453,0.008568664081394672,0.30837154388427734,0.566103458404541,0.22303836047649384,0.03473581746220589,0.0009915679693222046,0.07442964613437653,0.31353890895843506,0.12799343466758728,0.0024245171807706356],\"yaxis\":\"y\",\"type\":\"scatter\"}],                        {\"template\":{\"data\":{\"histogram2dcontour\":[{\"type\":\"histogram2dcontour\",\"colorbar\":{\"outlinewidth\":0,\"ticks\":\"\"},\"colorscale\":[[0.0,\"#0d0887\"],[0.1111111111111111,\"#46039f\"],[0.2222222222222222,\"#7201a8\"],[0.3333333333333333,\"#9c179e\"],[0.4444444444444444,\"#bd3786\"],[0.5555555555555556,\"#d8576b\"],[0.6666666666666666,\"#ed7953\"],[0.7777777777777778,\"#fb9f3a\"],[0.8888888888888888,\"#fdca26\"],[1.0,\"#f0f921\"]]}],\"choropleth\":[{\"type\":\"choropleth\",\"colorbar\":{\"outlinewidth\":0,\"ticks\":\"\"}}],\"histogram2d\":[{\"type\":\"histogram2d\",\"colorbar\":{\"outlinewidth\":0,\"ticks\":\"\"},\"colorscale\":[[0.0,\"#0d0887\"],[0.1111111111111111,\"#46039f\"],[0.2222222222222222,\"#7201a8\"],[0.3333333333333333,\"#9c179e\"],[0.4444444444444444,\"#bd3786\"],[0.5555555555555556,\"#d8576b\"],[0.6666666666666666,\"#ed7953\"],[0.7777777777777778,\"#fb9f3a\"],[0.8888888888888888,\"#fdca26\"],[1.0,\"#f0f921\"]]}],\"heatmap\":[{\"type\":\"heatmap\",\"colorbar\":{\"outlinewidth\":0,\"ticks\":\"\"},\"colorscale\":[[0.0,\"#0d0887\"],[0.1111111111111111,\"#46039f\"],[0.2222222222222222,\"#7201a8\"],[0.3333333333333333,\"#9c179e\"],[0.4444444444444444,\"#bd3786\"],[0.5555555555555556,\"#d8576b\"],[0.6666666666666666,\"#ed7953\"],[0.7777777777777778,\"#fb9f3a\"],[0.8888888888888888,\"#fdca26\"],[1.0,\"#f0f921\"]]}],\"heatmapgl\":[{\"type\":\"heatmapgl\",\"colorbar\":{\"outlinewidth\":0,\"ticks\":\"\"},\"colorscale\":[[0.0,\"#0d0887\"],[0.1111111111111111,\"#46039f\"],[0.2222222222222222,\"#7201a8\"],[0.3333333333333333,\"#9c179e\"],[0.4444444444444444,\"#bd3786\"],[0.5555555555555556,\"#d8576b\"],[0.6666666666666666,\"#ed7953\"],[0.7777777777777778,\"#fb9f3a\"],[0.8888888888888888,\"#fdca26\"],[1.0,\"#f0f921\"]]}],\"contourcarpet\":[{\"type\":\"contourcarpet\",\"colorbar\":{\"outlinewidth\":0,\"ticks\":\"\"}}],\"contour\":[{\"type\":\"contour\",\"colorbar\":{\"outlinewidth\":0,\"ticks\":\"\"},\"colorscale\":[[0.0,\"#0d0887\"],[0.1111111111111111,\"#46039f\"],[0.2222222222222222,\"#7201a8\"],[0.3333333333333333,\"#9c179e\"],[0.4444444444444444,\"#bd3786\"],[0.5555555555555556,\"#d8576b\"],[0.6666666666666666,\"#ed7953\"],[0.7777777777777778,\"#fb9f3a\"],[0.8888888888888888,\"#fdca26\"],[1.0,\"#f0f921\"]]}],\"surface\":[{\"type\":\"surface\",\"colorbar\":{\"outlinewidth\":0,\"ticks\":\"\"},\"colorscale\":[[0.0,\"#0d0887\"],[0.1111111111111111,\"#46039f\"],[0.2222222222222222,\"#7201a8\"],[0.3333333333333333,\"#9c179e\"],[0.4444444444444444,\"#bd3786\"],[0.5555555555555556,\"#d8576b\"],[0.6666666666666666,\"#ed7953\"],[0.7777777777777778,\"#fb9f3a\"],[0.8888888888888888,\"#fdca26\"],[1.0,\"#f0f921\"]]}],\"mesh3d\":[{\"type\":\"mesh3d\",\"colorbar\":{\"outlinewidth\":0,\"ticks\":\"\"}}],\"scatter\":[{\"fillpattern\":{\"fillmode\":\"overlay\",\"size\":10,\"solidity\":0.2},\"type\":\"scatter\"}],\"parcoords\":[{\"type\":\"parcoords\",\"line\":{\"colorbar\":{\"outlinewidth\":0,\"ticks\":\"\"}}}],\"scatterpolargl\":[{\"type\":\"scatterpolargl\",\"marker\":{\"colorbar\":{\"outlinewidth\":0,\"ticks\":\"\"}}}],\"bar\":[{\"error_x\":{\"color\":\"#2a3f5f\"},\"error_y\":{\"color\":\"#2a3f5f\"},\"marker\":{\"line\":{\"color\":\"#E5ECF6\",\"width\":0.5},\"pattern\":{\"fillmode\":\"overlay\",\"size\":10,\"solidity\":0.2}},\"type\":\"bar\"}],\"scattergeo\":[{\"type\":\"scattergeo\",\"marker\":{\"colorbar\":{\"outlinewidth\":0,\"ticks\":\"\"}}}],\"scatterpolar\":[{\"type\":\"scatterpolar\",\"marker\":{\"colorbar\":{\"outlinewidth\":0,\"ticks\":\"\"}}}],\"histogram\":[{\"marker\":{\"pattern\":{\"fillmode\":\"overlay\",\"size\":10,\"solidity\":0.2}},\"type\":\"histogram\"}],\"scattergl\":[{\"type\":\"scattergl\",\"marker\":{\"colorbar\":{\"outlinewidth\":0,\"ticks\":\"\"}}}],\"scatter3d\":[{\"type\":\"scatter3d\",\"line\":{\"colorbar\":{\"outlinewidth\":0,\"ticks\":\"\"}},\"marker\":{\"colorbar\":{\"outlinewidth\":0,\"ticks\":\"\"}}}],\"scattermapbox\":[{\"type\":\"scattermapbox\",\"marker\":{\"colorbar\":{\"outlinewidth\":0,\"ticks\":\"\"}}}],\"scatterternary\":[{\"type\":\"scatterternary\",\"marker\":{\"colorbar\":{\"outlinewidth\":0,\"ticks\":\"\"}}}],\"scattercarpet\":[{\"type\":\"scattercarpet\",\"marker\":{\"colorbar\":{\"outlinewidth\":0,\"ticks\":\"\"}}}],\"carpet\":[{\"aaxis\":{\"endlinecolor\":\"#2a3f5f\",\"gridcolor\":\"white\",\"linecolor\":\"white\",\"minorgridcolor\":\"white\",\"startlinecolor\":\"#2a3f5f\"},\"baxis\":{\"endlinecolor\":\"#2a3f5f\",\"gridcolor\":\"white\",\"linecolor\":\"white\",\"minorgridcolor\":\"white\",\"startlinecolor\":\"#2a3f5f\"},\"type\":\"carpet\"}],\"table\":[{\"cells\":{\"fill\":{\"color\":\"#EBF0F8\"},\"line\":{\"color\":\"white\"}},\"header\":{\"fill\":{\"color\":\"#C8D4E3\"},\"line\":{\"color\":\"white\"}},\"type\":\"table\"}],\"barpolar\":[{\"marker\":{\"line\":{\"color\":\"#E5ECF6\",\"width\":0.5},\"pattern\":{\"fillmode\":\"overlay\",\"size\":10,\"solidity\":0.2}},\"type\":\"barpolar\"}],\"pie\":[{\"automargin\":true,\"type\":\"pie\"}]},\"layout\":{\"autotypenumbers\":\"strict\",\"colorway\":[\"#636efa\",\"#EF553B\",\"#00cc96\",\"#ab63fa\",\"#FFA15A\",\"#19d3f3\",\"#FF6692\",\"#B6E880\",\"#FF97FF\",\"#FECB52\"],\"font\":{\"color\":\"#2a3f5f\"},\"hovermode\":\"closest\",\"hoverlabel\":{\"align\":\"left\"},\"paper_bgcolor\":\"white\",\"plot_bgcolor\":\"#E5ECF6\",\"polar\":{\"bgcolor\":\"#E5ECF6\",\"angularaxis\":{\"gridcolor\":\"white\",\"linecolor\":\"white\",\"ticks\":\"\"},\"radialaxis\":{\"gridcolor\":\"white\",\"linecolor\":\"white\",\"ticks\":\"\"}},\"ternary\":{\"bgcolor\":\"#E5ECF6\",\"aaxis\":{\"gridcolor\":\"white\",\"linecolor\":\"white\",\"ticks\":\"\"},\"baxis\":{\"gridcolor\":\"white\",\"linecolor\":\"white\",\"ticks\":\"\"},\"caxis\":{\"gridcolor\":\"white\",\"linecolor\":\"white\",\"ticks\":\"\"}},\"coloraxis\":{\"colorbar\":{\"outlinewidth\":0,\"ticks\":\"\"}},\"colorscale\":{\"sequential\":[[0.0,\"#0d0887\"],[0.1111111111111111,\"#46039f\"],[0.2222222222222222,\"#7201a8\"],[0.3333333333333333,\"#9c179e\"],[0.4444444444444444,\"#bd3786\"],[0.5555555555555556,\"#d8576b\"],[0.6666666666666666,\"#ed7953\"],[0.7777777777777778,\"#fb9f3a\"],[0.8888888888888888,\"#fdca26\"],[1.0,\"#f0f921\"]],\"sequentialminus\":[[0.0,\"#0d0887\"],[0.1111111111111111,\"#46039f\"],[0.2222222222222222,\"#7201a8\"],[0.3333333333333333,\"#9c179e\"],[0.4444444444444444,\"#bd3786\"],[0.5555555555555556,\"#d8576b\"],[0.6666666666666666,\"#ed7953\"],[0.7777777777777778,\"#fb9f3a\"],[0.8888888888888888,\"#fdca26\"],[1.0,\"#f0f921\"]],\"diverging\":[[0,\"#8e0152\"],[0.1,\"#c51b7d\"],[0.2,\"#de77ae\"],[0.3,\"#f1b6da\"],[0.4,\"#fde0ef\"],[0.5,\"#f7f7f7\"],[0.6,\"#e6f5d0\"],[0.7,\"#b8e186\"],[0.8,\"#7fbc41\"],[0.9,\"#4d9221\"],[1,\"#276419\"]]},\"xaxis\":{\"gridcolor\":\"white\",\"linecolor\":\"white\",\"ticks\":\"\",\"title\":{\"standoff\":15},\"zerolinecolor\":\"white\",\"automargin\":true,\"zerolinewidth\":2},\"yaxis\":{\"gridcolor\":\"white\",\"linecolor\":\"white\",\"ticks\":\"\",\"title\":{\"standoff\":15},\"zerolinecolor\":\"white\",\"automargin\":true,\"zerolinewidth\":2},\"scene\":{\"xaxis\":{\"backgroundcolor\":\"#E5ECF6\",\"gridcolor\":\"white\",\"linecolor\":\"white\",\"showbackground\":true,\"ticks\":\"\",\"zerolinecolor\":\"white\",\"gridwidth\":2},\"yaxis\":{\"backgroundcolor\":\"#E5ECF6\",\"gridcolor\":\"white\",\"linecolor\":\"white\",\"showbackground\":true,\"ticks\":\"\",\"zerolinecolor\":\"white\",\"gridwidth\":2},\"zaxis\":{\"backgroundcolor\":\"#E5ECF6\",\"gridcolor\":\"white\",\"linecolor\":\"white\",\"showbackground\":true,\"ticks\":\"\",\"zerolinecolor\":\"white\",\"gridwidth\":2}},\"shapedefaults\":{\"line\":{\"color\":\"#2a3f5f\"}},\"annotationdefaults\":{\"arrowcolor\":\"#2a3f5f\",\"arrowhead\":0,\"arrowwidth\":1},\"geo\":{\"bgcolor\":\"white\",\"landcolor\":\"#E5ECF6\",\"subunitcolor\":\"white\",\"showland\":true,\"showlakes\":true,\"lakecolor\":\"white\"},\"title\":{\"x\":0.05},\"mapbox\":{\"style\":\"light\"}}},\"xaxis\":{\"anchor\":\"y\",\"domain\":[0.0,1.0],\"title\":{\"text\":\"index\"}},\"yaxis\":{\"anchor\":\"x\",\"domain\":[0.0,1.0],\"title\":{\"text\":\"value\"}},\"legend\":{\"title\":{\"text\":\"variable\"},\"tracegroupgap\":0},\"title\":{\"text\":\"Loss by position on repeated tokens\"}},                        {\"responsive\": true}                    ).then(function(){\n",
       "                            \n",
       "var gd = document.getElementById('ae2f9f3e-448e-4e03-a58b-ab9ac744dc57');\n",
       "var x = new MutationObserver(function (mutations, observer) {{\n",
       "        var display = window.getComputedStyle(gd).display;\n",
       "        if (!display || display === 'none') {{\n",
       "            console.log([gd, 'removed!']);\n",
       "            Plotly.purge(gd);\n",
       "            observer.disconnect();\n",
       "        }}\n",
       "}});\n",
       "\n",
       "// Listen for the removal of the full notebook cells\n",
       "var notebookContainer = gd.closest('#notebook-container');\n",
       "if (notebookContainer) {{\n",
       "    x.observe(notebookContainer, {childList: true});\n",
       "}}\n",
       "\n",
       "// Listen for the clearing of the current output cell\n",
       "var outputEl = gd.closest('.output');\n",
       "if (outputEl) {{\n",
       "    x.observe(outputEl, {childList: true});\n",
       "}}\n",
       "\n",
       "                        })                };                            </script>        </div>\n",
       "</body>\n",
       "</html>"
      ]
     },
     "metadata": {},
     "output_type": "display_data"
    }
   ],
   "source": [
    "line(rearrange(predicted_log_probs, \"1 ... -> ...\"), xaxis=\"Position\", yaxis=\"Loss\", title=\"Loss by position on repeated tokens\")"
   ]
  },
  {
   "cell_type": "markdown",
   "id": "d9fbd492-b687-4af1-8c32-c00486312264",
   "metadata": {},
   "source": [
    "##### Example 3"
   ]
  },
  {
   "cell_type": "code",
   "execution_count": null,
   "id": "d49fabf0-48df-483d-a8d8-ffd36019a59f",
   "metadata": {},
   "outputs": [],
   "source": [
    "from circuitsvis.tokens import colored_tokens"
   ]
  },
  {
   "cell_type": "code",
   "execution_count": null,
   "id": "f32e93ed-18d1-49f8-a13b-4b6603bbd1f9",
   "metadata": {},
   "outputs": [
    {
     "data": {
      "text/html": [
       "<div id=\"circuits-vis-6efe67f7-5a41\" style=\"margin: 15px 0;\"/>\n",
       "    <script crossorigin type=\"module\">\n",
       "    import { render, ColoredTokens } from \"https://unpkg.com/circuitsvis@1.39.1/dist/cdn/esm.js\";\n",
       "    render(\n",
       "      \"circuits-vis-6efe67f7-5a41\",\n",
       "      ColoredTokens,\n",
       "      {\"tokens\": [\"My\", \"tokens\"], \"values\": [0.123, -0.226]}\n",
       "    )\n",
       "    </script>"
      ],
      "text/plain": [
       "<circuitsvis.utils.render.RenderedHTML>"
      ]
     },
     "execution_count": null,
     "metadata": {},
     "output_type": "execute_result"
    }
   ],
   "source": [
    "colored_tokens([\"My\", \"tokens\"], [0.123, -0.226])"
   ]
  },
  {
   "cell_type": "code",
   "execution_count": null,
   "id": "48c3cf11-bbd2-4e43-b9d7-89ce4da02b87",
   "metadata": {},
   "outputs": [],
   "source": []
  }
 ],
 "metadata": {
  "kernelspec": {
   "display_name": "Python 3 (ipykernel)",
   "language": "python",
   "name": "python3"
  }
 },
 "nbformat": 4,
 "nbformat_minor": 5
}
