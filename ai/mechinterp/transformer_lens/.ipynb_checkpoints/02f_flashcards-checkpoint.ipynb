{
 "cells": [
  {
   "cell_type": "code",
   "execution_count": null,
   "id": "794de663-3c72-40f6-8673-fb66fd8e530d",
   "metadata": {},
   "outputs": [
    {
     "name": "stderr",
     "output_type": "stream",
     "text": [
      "/var/folders/pf/g3nr86yn4j71vzzmv6knwdhr0000gp/T/ipykernel_3487/4115428919.py:5: DeprecationWarning: `magic(...)` is deprecated since IPython 0.13 (warning added in 8.1), use run_line_magic(magic_name, parameter_s).\n",
      "  ipython.magic(\"load_ext autoreload\")\n",
      "/var/folders/pf/g3nr86yn4j71vzzmv6knwdhr0000gp/T/ipykernel_3487/4115428919.py:6: DeprecationWarning: `magic(...)` is deprecated since IPython 0.13 (warning added in 8.1), use run_line_magic(magic_name, parameter_s).\n",
      "  ipython.magic(\"autoreload 2\")\n"
     ]
    }
   ],
   "source": [
    "from IPython import get_ipython\n",
    "\n",
    "ipython = get_ipython()\n",
    "# Code to automatically update the HookedTransformer code as its edited without restarting the kernel\n",
    "ipython.magic(\"load_ext autoreload\")\n",
    "ipython.magic(\"autoreload 2\")"
   ]
  },
  {
   "cell_type": "code",
   "execution_count": null,
   "id": "d0dbc4eb-6918-4970-bc83-dba1cb8e28bf",
   "metadata": {},
   "outputs": [
    {
     "data": {
      "text/plain": [
       "<torch.autograd.grad_mode.set_grad_enabled>"
      ]
     },
     "execution_count": null,
     "metadata": {},
     "output_type": "execute_result"
    }
   ],
   "source": [
    "# Import stuff\n",
    "import torch\n",
    "import torch.nn as nn\n",
    "import torch.nn.functional as F\n",
    "import torch.optim as optim\n",
    "import numpy as np\n",
    "import einops\n",
    "from fancy_einsum import einsum\n",
    "import tqdm.notebook as tqdm\n",
    "import random\n",
    "from pathlib import Path\n",
    "import plotly.express as px\n",
    "from torch.utils.data import DataLoader\n",
    "\n",
    "from jaxtyping import Float, Int\n",
    "from typing import List, Union, Optional\n",
    "from functools import partial\n",
    "import copy\n",
    "\n",
    "import itertools\n",
    "from transformers import AutoModelForCausalLM, AutoConfig, AutoTokenizer\n",
    "import dataclasses\n",
    "import datasets\n",
    "from IPython.display import HTML\n",
    "\n",
    "torch.set_grad_enabled(False)"
   ]
  },
  {
   "cell_type": "code",
   "execution_count": null,
   "id": "2be20012-bc1a-4f9b-a9c2-c215bf6e8614",
   "metadata": {},
   "outputs": [],
   "source": [
    "import pysvelte\n",
    "\n",
    "import transformer_lens\n",
    "import transformer_lens.utils as utils\n",
    "from transformer_lens.hook_points import (\n",
    "    HookedRootModule,\n",
    "    HookPoint,\n",
    ")  # Hooking utilities\n",
    "from transformer_lens import HookedTransformer, HookedTransformerConfig, FactoredMatrix, ActivationCache"
   ]
  },
  {
   "cell_type": "code",
   "execution_count": null,
   "id": "1855a1d6-35bd-4947-81e7-38e5cefdfc54",
   "metadata": {},
   "outputs": [],
   "source": [
    "def imshow(tensor, renderer=None, **kwargs):\n",
    "    px.imshow(utils.to_numpy(tensor), color_continuous_midpoint=0.0, color_continuous_scale=\"RdBu\", **kwargs).show(renderer)\n",
    "\n",
    "def line(tensor, renderer=None, **kwargs):\n",
    "    px.line(y=utils.to_numpy(tensor), **kwargs).show(renderer)\n",
    "\n",
    "def scatter(x, y, xaxis=\"\", yaxis=\"\", caxis=\"\", renderer=None, **kwargs):\n",
    "    x = utils.to_numpy(x)\n",
    "    y = utils.to_numpy(y)\n",
    "    px.scatter(y=y, x=x, labels={\"x\":xaxis, \"y\":yaxis, \"color\":caxis}, **kwargs).show(renderer)"
   ]
  },
  {
   "cell_type": "markdown",
   "id": "3f8f61f1-8000-4410-a19c-e09d6b3ed4a0",
   "metadata": {},
   "source": [
    "### Indirect Object Identification\n"
   ]
  },
  {
   "cell_type": "code",
   "execution_count": null,
   "id": "aef557a0-5dce-473b-b2b4-285c67b46d39",
   "metadata": {},
   "outputs": [
    {
     "name": "stderr",
     "output_type": "stream",
     "text": [
      "Using pad_token, but it is not set yet.\n"
     ]
    },
    {
     "name": "stdout",
     "output_type": "stream",
     "text": [
      "Loaded pretrained model gpt2-small into HookedTransformer\n"
     ]
    }
   ],
   "source": [
    "model = HookedTransformer.from_pretrained(\n",
    "    \"gpt2-small\",\n",
    "    center_unembed=True,\n",
    "    center_writing_weights=True,\n",
    "    fold_ln=True,\n",
    "    refactor_factored_attn_matrices=True\n",
    ")"
   ]
  },
  {
   "cell_type": "markdown",
   "id": "249ef890-721a-4b1c-89b1-5ec84744097c",
   "metadata": {},
   "source": [
    "### Bonus: Exploring Anomalies"
   ]
  },
  {
   "cell_type": "code",
   "execution_count": null,
   "id": "33041b86-4a34-492b-bd9b-b032b41b1f8c",
   "metadata": {},
   "outputs": [],
   "source": [
    "text = \"Persistence is all you need.\""
   ]
  },
  {
   "cell_type": "code",
   "execution_count": null,
   "id": "98f1aca5-f141-47f1-a2ff-bb9410679a48",
   "metadata": {},
   "outputs": [],
   "source": [
    "repeated_text = text + text"
   ]
  },
  {
   "cell_type": "code",
   "execution_count": null,
   "id": "2dd64e07-5df0-4767-9061-35c16058c5fe",
   "metadata": {},
   "outputs": [],
   "source": [
    "from transformer_lens.utils import get_act_name\n",
    "import pysvelte"
   ]
  },
  {
   "cell_type": "code",
   "execution_count": null,
   "id": "e42e2ef3-cb64-4e28-84c0-6dc6087f64d4",
   "metadata": {},
   "outputs": [
    {
     "data": {
      "text/plain": [
       "transformer_lens.HookedTransformer.HookedTransformer"
      ]
     },
     "execution_count": null,
     "metadata": {},
     "output_type": "execute_result"
    }
   ],
   "source": [
    "type(model)"
   ]
  },
  {
   "cell_type": "code",
   "execution_count": null,
   "id": "23087d4e-4ea4-472d-b319-fb99930feded",
   "metadata": {},
   "outputs": [
    {
     "data": {
      "text/plain": [
       "'Persistence is all you need.Persistence is all you need.'"
      ]
     },
     "execution_count": null,
     "metadata": {},
     "output_type": "execute_result"
    }
   ],
   "source": [
    "repeated_text"
   ]
  },
  {
   "cell_type": "markdown",
   "id": "de2ead45-2dc5-4c22-b51b-b7d43f10b7c5",
   "metadata": {},
   "source": [
    "Create visualizations of the attention pattern for\n",
    "- head `6` in layer `9`\n",
    "- and head `4` in layer `2` of the `repeated_text`\n",
    "\n",
    "**Hints**:\n",
    "- Hook name's abbreviate is `attn`\n",
    "- `head_pattern.shape = (batch_idx, head_idx)`"
   ]
  },
  {
   "cell_type": "code",
   "execution_count": null,
   "id": "c5335500-6669-4964-b52c-84f65ac509b0",
   "metadata": {},
   "outputs": [],
   "source": [
    "repeated_tokens = model.to_tokens(repeated_text, prepend_bos=True)"
   ]
  },
  {
   "cell_type": "code",
   "execution_count": null,
   "id": "c5ca5650-f2c0-451d-b6c5-da82fbab2a62",
   "metadata": {},
   "outputs": [],
   "source": [
    "repeated_logits, repeated_activations = model.run_with_cache(repeated_tokens)"
   ]
  },
  {
   "cell_type": "code",
   "execution_count": null,
   "id": "644c61ab-aa67-4ffc-8f62-66f334f552a9",
   "metadata": {},
   "outputs": [],
   "source": [
    "head_labels, attn_patterns = [], []\n",
    "batch_idx = 0"
   ]
  },
  {
   "cell_type": "code",
   "execution_count": null,
   "id": "ee354356-1afb-441e-b2b2-d58f39718bb5",
   "metadata": {},
   "outputs": [],
   "source": [
    "induction_heads = [(6, 9), (4, 2)]"
   ]
  },
  {
   "cell_type": "code",
   "execution_count": null,
   "id": "f0f41356-5ab7-46c9-8532-ca0d433ec384",
   "metadata": {},
   "outputs": [],
   "source": [
    "for head_idx, layer_idx in induction_heads:\n",
    "    hook_name = get_act_name(\"attn\", layer_idx)\n",
    "    attn_patterns.append(repeated_activations[hook_name][batch_idx, head_idx])\n",
    "    head_labels.append(f\"L{layer_idx}H{head_idx}\")"
   ]
  },
  {
   "cell_type": "code",
   "execution_count": null,
   "id": "9c0f5c14-02d0-4a25-a28b-68322e83ad50",
   "metadata": {},
   "outputs": [],
   "source": [
    "str_tokens = model.to_str_tokens(repeated_tokens)\n",
    "attn_patterns = torch.stack(attn_patterns, dim=-1)"
   ]
  },
  {
   "cell_type": "code",
   "execution_count": null,
   "id": "191e8117-2230-4a8e-a4cd-5411c23c21e9",
   "metadata": {},
   "outputs": [
    {
     "data": {
      "text/plain": [
       "torch.Size([15, 15, 2])"
      ]
     },
     "execution_count": null,
     "metadata": {},
     "output_type": "execute_result"
    }
   ],
   "source": [
    "attn_patterns.shape"
   ]
  },
  {
   "cell_type": "code",
   "execution_count": null,
   "id": "a657e0a8-cdfa-4c34-804d-c4e0ac15ad12",
   "metadata": {},
   "outputs": [
    {
     "data": {
      "text/plain": [
       "['L9H6', 'L2H4']"
      ]
     },
     "execution_count": null,
     "metadata": {},
     "output_type": "execute_result"
    }
   ],
   "source": [
    "head_labels"
   ]
  },
  {
   "cell_type": "code",
   "execution_count": null,
   "id": "24873fd1-7049-4c7e-8fae-3b732e31e6ba",
   "metadata": {},
   "outputs": [],
   "source": [
    "attention_vis = pysvelte.AttentionMulti(\n",
    "    attention=attn_patterns,\n",
    "    tokens=str_tokens, head_labels=head_labels\n",
    ")\n",
    "display(HTML(f\"<h3>Attention Pattern</h3>\")) # can be ignore\n",
    "attention_vis.show()"
   ]
  },
  {
   "cell_type": "code",
   "execution_count": null,
   "id": "771d5440-8fc4-4942-869f-b260d51513af",
   "metadata": {},
   "outputs": [],
   "source": []
  },
  {
   "cell_type": "code",
   "execution_count": null,
   "id": "625be450-42ec-4965-8e16-08dd41058ac5",
   "metadata": {},
   "outputs": [],
   "source": []
  },
  {
   "cell_type": "code",
   "execution_count": null,
   "id": "e25a78cb-0eee-4546-a046-d6cd2ad0c733",
   "metadata": {},
   "outputs": [],
   "source": []
  }
 ],
 "metadata": {
  "kernelspec": {
   "display_name": "Python 3 (ipykernel)",
   "language": "python",
   "name": "python3"
  }
 },
 "nbformat": 4,
 "nbformat_minor": 5
}
