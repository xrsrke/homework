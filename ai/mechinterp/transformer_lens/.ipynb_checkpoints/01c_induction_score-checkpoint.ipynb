{
 "cells": [
  {
   "cell_type": "code",
   "execution_count": null,
   "id": "4162ec91-dfba-4bc7-b765-abd235063165",
   "metadata": {},
   "outputs": [],
   "source": [
    "import torch\n",
    "import einops\n",
    "from jaxtyping import Float\n",
    "\n",
    "from transformer_lens import HookedTransformer"
   ]
  },
  {
   "cell_type": "code",
   "execution_count": null,
   "id": "a249f02a-235a-4faf-928c-ec640b15449c",
   "metadata": {},
   "outputs": [
    {
     "name": "stderr",
     "output_type": "stream",
     "text": [
      "Using pad_token, but it is not set yet.\n"
     ]
    },
    {
     "name": "stdout",
     "output_type": "stream",
     "text": [
      "Loaded pretrained model gpt2-small into HookedTransformer\n"
     ]
    }
   ],
   "source": [
    "model = HookedTransformer.from_pretrained(\"gpt2-small\")"
   ]
  },
  {
   "cell_type": "code",
   "execution_count": null,
   "id": "c8775b86-3754-44da-a3c8-7194bce46bcc",
   "metadata": {},
   "outputs": [],
   "source": [
    "batch_size = 10\n",
    "seq_len = 50\n",
    "random_tokens = torch.randint(1000, 10000, (batch_size, seq_len)).to(model.cfg.device)\n",
    "repeated_tokens = einops.repeat(random_tokens, \"batch seq_len -> batch (2 seq_len)\")"
   ]
  },
  {
   "cell_type": "code",
   "execution_count": null,
   "id": "5a86091a-bbde-467e-b6a0-33437d891a65",
   "metadata": {},
   "outputs": [],
   "source": [
    "induction_score_store = torch.zeros((model.cfg.n_layers, model.cfg.n_heads), device=model.cfg.device)"
   ]
  },
  {
   "cell_type": "code",
   "execution_count": null,
   "id": "d6f75314-21d7-4369-b51f-e14d5a520aa2",
   "metadata": {},
   "outputs": [
    {
     "data": {
      "text/plain": [
       "torch.Size([12, 12])"
      ]
     },
     "execution_count": null,
     "metadata": {},
     "output_type": "execute_result"
    }
   ],
   "source": [
    "induction_score_store.shape"
   ]
  },
  {
   "cell_type": "code",
   "execution_count": null,
   "id": "d60f9397-f458-41a5-b4fd-29888e6552aa",
   "metadata": {},
   "outputs": [],
   "source": [
    "from IPython.core.debugger import set_trace"
   ]
  },
  {
   "cell_type": "code",
   "execution_count": null,
   "id": "cb84b1fb-9d88-46a0-937d-f0205551114e",
   "metadata": {},
   "outputs": [],
   "source": [
    "def induction_score_hook(act, hook):\n",
    "    set_trace()\n",
    "    induction_stripe = act.diagonal(dim1=-2, dim2=-1, offset=1-seq_len)\n",
    "    set_trace()"
   ]
  },
  {
   "cell_type": "code",
   "execution_count": null,
   "id": "6dc45d72-6792-4b88-bc81-055512181b33",
   "metadata": {},
   "outputs": [],
   "source": [
    "pattern_hook_names_filter = lambda name: name.endswith(\"pattern\")"
   ]
  },
  {
   "cell_type": "code",
   "execution_count": null,
   "id": "ea1cbc77-8f41-4c11-809a-224d5088acf9",
   "metadata": {},
   "outputs": [
    {
     "data": {
      "text/plain": [
       "torch.Size([10, 100])"
      ]
     },
     "execution_count": null,
     "metadata": {},
     "output_type": "execute_result"
    }
   ],
   "source": [
    "repeated_tokens.shape"
   ]
  },
  {
   "cell_type": "code",
   "execution_count": null,
   "id": "82ca6c4f-47d8-43d6-988f-a5ff7614abe5",
   "metadata": {},
   "outputs": [
    {
     "name": "stdout",
     "output_type": "stream",
     "text": [
      "> \u001b[0;32m/var/folders/pf/g3nr86yn4j71vzzmv6knwdhr0000gp/T/ipykernel_1780/953945506.py\u001b[0m(3)\u001b[0;36minduction_score_hook\u001b[0;34m()\u001b[0m\n",
      "\u001b[0;32m      1 \u001b[0;31m\u001b[0;32mdef\u001b[0m \u001b[0minduction_score_hook\u001b[0m\u001b[0;34m(\u001b[0m\u001b[0mact\u001b[0m\u001b[0;34m,\u001b[0m \u001b[0mhook\u001b[0m\u001b[0;34m)\u001b[0m\u001b[0;34m:\u001b[0m\u001b[0;34m\u001b[0m\u001b[0;34m\u001b[0m\u001b[0m\n",
      "\u001b[0m\u001b[0;32m      2 \u001b[0;31m    \u001b[0mset_trace\u001b[0m\u001b[0;34m(\u001b[0m\u001b[0;34m)\u001b[0m\u001b[0;34m\u001b[0m\u001b[0;34m\u001b[0m\u001b[0m\n",
      "\u001b[0m\u001b[0;32m----> 3 \u001b[0;31m    \u001b[0minduction_stripe\u001b[0m \u001b[0;34m=\u001b[0m \u001b[0mact\u001b[0m\u001b[0;34m.\u001b[0m\u001b[0mdiagonal\u001b[0m\u001b[0;34m(\u001b[0m\u001b[0mdim1\u001b[0m\u001b[0;34m=\u001b[0m\u001b[0;34m-\u001b[0m\u001b[0;36m2\u001b[0m\u001b[0;34m,\u001b[0m \u001b[0mdim2\u001b[0m\u001b[0;34m=\u001b[0m\u001b[0;34m-\u001b[0m\u001b[0;36m1\u001b[0m\u001b[0;34m,\u001b[0m \u001b[0moffset\u001b[0m\u001b[0;34m=\u001b[0m\u001b[0;36m1\u001b[0m\u001b[0;34m-\u001b[0m\u001b[0mseq_len\u001b[0m\u001b[0;34m)\u001b[0m\u001b[0;34m\u001b[0m\u001b[0;34m\u001b[0m\u001b[0m\n",
      "\u001b[0m\u001b[0;32m      4 \u001b[0;31m    \u001b[0mset_trace\u001b[0m\u001b[0;34m(\u001b[0m\u001b[0;34m)\u001b[0m\u001b[0;34m\u001b[0m\u001b[0;34m\u001b[0m\u001b[0m\n",
      "\u001b[0m\n"
     ]
    },
    {
     "name": "stdin",
     "output_type": "stream",
     "text": [
      "ipdb>  seq_len\n"
     ]
    },
    {
     "name": "stdout",
     "output_type": "stream",
     "text": [
      "50\n"
     ]
    },
    {
     "name": "stdin",
     "output_type": "stream",
     "text": [
      "ipdb>  act.shape\n"
     ]
    },
    {
     "name": "stdout",
     "output_type": "stream",
     "text": [
      "torch.Size([10, 12, 100, 100])\n"
     ]
    },
    {
     "name": "stdin",
     "output_type": "stream",
     "text": [
      "ipdb>  q\n"
     ]
    }
   ],
   "source": [
    "model.run_with_hooks(\n",
    "    repeated_tokens,\n",
    "    return_type=None,\n",
    "    fwd_hooks=[(\n",
    "        pattern_hook_names_filter,\n",
    "        induction_score_hook\n",
    "    )]\n",
    ")"
   ]
  },
  {
   "cell_type": "code",
   "execution_count": null,
   "id": "62017cd1-23e3-4f8e-ac59-f6ba21e0890e",
   "metadata": {},
   "outputs": [],
   "source": [
    "9 3 8 2 7 9 3 8 2 7"
   ]
  },
  {
   "cell_type": "code",
   "execution_count": null,
   "id": "0c72842f-e436-41b7-938a-745617cc9893",
   "metadata": {},
   "outputs": [],
   "source": [
    "12341234"
   ]
  },
  {
   "cell_type": "code",
   "execution_count": null,
   "id": "025fbfde-e8e3-478b-868d-c78034dce6fc",
   "metadata": {},
   "outputs": [],
   "source": [
    "prompt = \"123456789123\""
   ]
  },
  {
   "cell_type": "code",
   "execution_count": null,
   "id": "5e32f6bc-9bb9-48b7-837a-95b23fec5b7e",
   "metadata": {},
   "outputs": [],
   "source": [
    "tokens = model.to_tokens(prompt)"
   ]
  },
  {
   "cell_type": "code",
   "execution_count": null,
   "id": "a07ef71c-a653-4aa6-aae1-277d8a1e173e",
   "metadata": {},
   "outputs": [
    {
     "data": {
      "text/plain": [
       "6"
      ]
     },
     "execution_count": null,
     "metadata": {},
     "output_type": "execute_result"
    }
   ],
   "source": [
    "len(tokens[0])"
   ]
  },
  {
   "cell_type": "code",
   "execution_count": null,
   "id": "453b7344-8eb9-4690-b4a4-0bd9859386c5",
   "metadata": {},
   "outputs": [],
   "source": [
    "logits = model(tokens)"
   ]
  },
  {
   "cell_type": "code",
   "execution_count": null,
   "id": "70964922-191a-49d2-8a8a-875467d79ed8",
   "metadata": {},
   "outputs": [],
   "source": [
    "def compute_induction_score(\n",
    "    act,\n",
    "    hook\n",
    "):\n",
    "    print(act.shape)"
   ]
  },
  {
   "cell_type": "code",
   "execution_count": null,
   "id": "6523e787-b4ff-4424-be4c-a7a9a9793857",
   "metadata": {},
   "outputs": [],
   "source": [
    "pattern_hook_names_filter = lambda name: name.endswith(\"pattern\")"
   ]
  },
  {
   "cell_type": "code",
   "execution_count": null,
   "id": "96a635e0-de28-4451-a6f5-19acabf58276",
   "metadata": {},
   "outputs": [
    {
     "name": "stdout",
     "output_type": "stream",
     "text": [
      "torch.Size([1, 12, 14, 14])\n",
      "torch.Size([1, 12, 14, 14])\n",
      "torch.Size([1, 12, 14, 14])\n",
      "torch.Size([1, 12, 14, 14])\n",
      "torch.Size([1, 12, 14, 14])\n",
      "torch.Size([1, 12, 14, 14])\n",
      "torch.Size([1, 12, 14, 14])\n",
      "torch.Size([1, 12, 14, 14])\n",
      "torch.Size([1, 12, 14, 14])\n",
      "torch.Size([1, 12, 14, 14])\n",
      "torch.Size([1, 12, 14, 14])\n",
      "torch.Size([1, 12, 14, 14])\n"
     ]
    }
   ],
   "source": [
    "model.run_with_hooks(\n",
    "    tokens,\n",
    "    return_type=None,\n",
    "    fwd_hooks=[(pattern_hook_names_filter, compute_induction_score)]\n",
    ")"
   ]
  },
  {
   "cell_type": "code",
   "execution_count": null,
   "id": "adfa311d-5d1e-4ce6-b8e8-74f796d26840",
   "metadata": {},
   "outputs": [
    {
     "data": {
      "text/plain": [
       "torch.Size([1, 14, 50257])"
      ]
     },
     "execution_count": null,
     "metadata": {},
     "output_type": "execute_result"
    }
   ],
   "source": [
    "logits.shape"
   ]
  },
  {
   "cell_type": "code",
   "execution_count": null,
   "id": "b943e875-f76b-48fa-a1aa-9724a2caec53",
   "metadata": {},
   "outputs": [],
   "source": []
  }
 ],
 "metadata": {
  "kernelspec": {
   "display_name": "Python 3 (ipykernel)",
   "language": "python",
   "name": "python3"
  }
 },
 "nbformat": 4,
 "nbformat_minor": 5
}
