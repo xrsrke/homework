{
 "cells": [
  {
   "cell_type": "code",
   "execution_count": null,
   "id": "5e917c25-9152-4db6-bc03-58f48b5e2231",
   "metadata": {},
   "outputs": [
    {
     "name": "stdout",
     "output_type": "stream",
     "text": [
      "The autoreload extension is already loaded. To reload it, use:\n",
      "  %reload_ext autoreload\n"
     ]
    },
    {
     "name": "stderr",
     "output_type": "stream",
     "text": [
      "/var/folders/pf/g3nr86yn4j71vzzmv6knwdhr0000gp/T/ipykernel_2118/4115428919.py:5: DeprecationWarning: `magic(...)` is deprecated since IPython 0.13 (warning added in 8.1), use run_line_magic(magic_name, parameter_s).\n",
      "  ipython.magic(\"load_ext autoreload\")\n",
      "/var/folders/pf/g3nr86yn4j71vzzmv6knwdhr0000gp/T/ipykernel_2118/4115428919.py:6: DeprecationWarning: `magic(...)` is deprecated since IPython 0.13 (warning added in 8.1), use run_line_magic(magic_name, parameter_s).\n",
      "  ipython.magic(\"autoreload 2\")\n"
     ]
    }
   ],
   "source": [
    "from IPython import get_ipython\n",
    "\n",
    "ipython = get_ipython()\n",
    "# Code to automatically update the HookedTransformer code as its edited without restarting the kernel\n",
    "ipython.magic(\"load_ext autoreload\")\n",
    "ipython.magic(\"autoreload 2\")"
   ]
  },
  {
   "cell_type": "code",
   "execution_count": null,
   "id": "0d7b7bab-2298-4b9e-a9c0-7ded1c2d50d4",
   "metadata": {},
   "outputs": [],
   "source": [
    "# Import stuff\n",
    "import torch\n",
    "import torch.nn as nn\n",
    "import torch.nn.functional as F\n",
    "import torch.optim as optim\n",
    "import numpy as np\n",
    "import einops\n",
    "from fancy_einsum import einsum\n",
    "import tqdm.notebook as tqdm\n",
    "import random\n",
    "from pathlib import Path\n",
    "import plotly.express as px\n",
    "from torch.utils.data import DataLoader\n",
    "\n",
    "from jaxtyping import Float, Int\n",
    "from typing import List, Union, Optional\n",
    "from functools import partial\n",
    "import copy\n",
    "\n",
    "import itertools\n",
    "from transformers import AutoModelForCausalLM, AutoConfig, AutoTokenizer\n",
    "import dataclasses\n",
    "import datasets\n",
    "from IPython.display import HTML"
   ]
  },
  {
   "cell_type": "code",
   "execution_count": null,
   "id": "bffa49fe-10be-4ae9-a931-6d4d5016ff9a",
   "metadata": {},
   "outputs": [],
   "source": [
    "import pysvelte\n",
    "\n",
    "import transformer_lens\n",
    "import transformer_lens.utils as utils\n",
    "from transformer_lens.hook_points import (\n",
    "    HookedRootModule,\n",
    "    HookPoint,\n",
    ")  # Hooking utilities\n",
    "from transformer_lens import HookedTransformer, HookedTransformerConfig, FactoredMatrix, ActivationCache"
   ]
  },
  {
   "cell_type": "code",
   "execution_count": null,
   "id": "8647ddb5-2abd-4a3e-a0bc-0aea867b2e01",
   "metadata": {},
   "outputs": [],
   "source": [
    "def imshow(tensor, renderer=None, **kwargs):\n",
    "    px.imshow(utils.to_numpy(tensor), color_continuous_midpoint=0.0, color_continuous_scale=\"RdBu\", **kwargs).show(renderer)\n",
    "\n",
    "def line(tensor, renderer=None, **kwargs):\n",
    "    px.line(y=utils.to_numpy(tensor), **kwargs).show(renderer)\n",
    "\n",
    "def scatter(x, y, xaxis=\"\", yaxis=\"\", caxis=\"\", renderer=None, **kwargs):\n",
    "    x = utils.to_numpy(x)\n",
    "    y = utils.to_numpy(y)\n",
    "    px.scatter(y=y, x=x, labels={\"x\":xaxis, \"y\":yaxis, \"color\":caxis}, **kwargs).show(renderer)"
   ]
  },
  {
   "cell_type": "markdown",
   "id": "952555e5-76b8-47f6-be24-ecd91b4cd7ab",
   "metadata": {},
   "source": [
    "### Indirect Object Identification\n"
   ]
  },
  {
   "cell_type": "code",
   "execution_count": null,
   "id": "2afdb798-34e8-4e9b-9f49-87e369e98b28",
   "metadata": {},
   "outputs": [
    {
     "name": "stderr",
     "output_type": "stream",
     "text": [
      "Using pad_token, but it is not set yet.\n"
     ]
    },
    {
     "name": "stdout",
     "output_type": "stream",
     "text": [
      "Loaded pretrained model gpt2-small into HookedTransformer\n"
     ]
    }
   ],
   "source": [
    "model = HookedTransformer.from_pretrained(\n",
    "    \"gpt2-small\",\n",
    "    center_unembed=True,\n",
    "    center_writing_weights=True,\n",
    "    fold_ln=True,\n",
    "    refactor_factored_attn_matrices=True\n",
    ")"
   ]
  },
  {
   "cell_type": "code",
   "execution_count": null,
   "id": "18acfe7d-aa1d-4785-ab64-e7a046958da0",
   "metadata": {},
   "outputs": [],
   "source": [
    "example_prompt = \"After John and Mary went to the store, John gave a bottle of milk to\""
   ]
  },
  {
   "cell_type": "code",
   "execution_count": null,
   "id": "b972a6f0-6204-41ac-aea5-e91c37133f9e",
   "metadata": {},
   "outputs": [],
   "source": [
    "example_answer = \" Mary\""
   ]
  },
  {
   "cell_type": "code",
   "execution_count": null,
   "id": "02d0ef61-70fd-447c-89b5-ae51ac1f872e",
   "metadata": {},
   "outputs": [
    {
     "name": "stdout",
     "output_type": "stream",
     "text": [
      "['When John and Mary went to the shops, John gave the bag to', 'When John and Mary went to the shops, Mary gave the bag to', 'When Tom and James went to the park, James gave the ball to', 'When Tom and James went to the park, Tom gave the ball to', 'When Dan and Sid went to the shops, Sid gave an apple to', 'When Dan and Sid went to the shops, Dan gave an apple to', 'After Martin and Amy went to the park, Amy gave a drink to', 'After Martin and Amy went to the park, Martin gave a drink to']\n",
      "[(' Mary', ' John'), (' John', ' Mary'), (' Tom', ' James'), (' James', ' Tom'), (' Dan', ' Sid'), (' Sid', ' Dan'), (' Martin', ' Amy'), (' Amy', ' Martin')]\n"
     ]
    }
   ],
   "source": [
    "prompt_format = [\n",
    "    \"When John and Mary went to the shops,{} gave the bag to\",\n",
    "    \"When Tom and James went to the park,{} gave the ball to\",\n",
    "    \"When Dan and Sid went to the shops,{} gave an apple to\",\n",
    "    \"After Martin and Amy went to the park,{} gave a drink to\",\n",
    "]\n",
    "names = [\n",
    "    (\" Mary\", \" John\"),\n",
    "    (\" Tom\", \" James\"),\n",
    "    (\" Dan\", \" Sid\"),\n",
    "    (\" Martin\", \" Amy\"),\n",
    "]\n",
    "# List of prompts\n",
    "prompts = []\n",
    "# List of answers, in the format (correct, incorrect)\n",
    "answers = []\n",
    "# List of the token (ie an integer) corresponding to each answer, in the format (correct_token, incorrect_token)\n",
    "answer_tokens = []\n",
    "for i in range(len(prompt_format)):\n",
    "    for j in range(2):\n",
    "        answers.append((names[i][j], names[i][1 - j]))\n",
    "        answer_tokens.append(\n",
    "            (\n",
    "                model.to_single_token(answers[-1][0]),\n",
    "                model.to_single_token(answers[-1][1]),\n",
    "            )\n",
    "        )\n",
    "        # Insert the *incorrect* answer to the prompt, making the correct answer the indirect object.\n",
    "        prompts.append(prompt_format[i].format(answers[-1][1]))\n",
    "answer_tokens = torch.tensor(answer_tokens)\n",
    "print(prompts)\n",
    "print(answers)"
   ]
  },
  {
   "cell_type": "code",
   "execution_count": null,
   "id": "2fdadd63-ec45-4e02-b21f-965282b8fc32",
   "metadata": {},
   "outputs": [],
   "source": [
    "tokens = model.to_tokens(prompts, prepend_bos=True)"
   ]
  },
  {
   "cell_type": "code",
   "execution_count": null,
   "id": "4e3dbdf1-fb69-400b-bd5c-9d0d4839e890",
   "metadata": {},
   "outputs": [
    {
     "data": {
      "text/plain": [
       "tensor([[50256,  2215,  1757,   290,  5335,  1816,   284,   262, 12437,    11,\n",
       "          1757,  2921,   262,  6131,   284],\n",
       "        [50256,  2215,  1757,   290,  5335,  1816,   284,   262, 12437,    11,\n",
       "          5335,  2921,   262,  6131,   284],\n",
       "        [50256,  2215,  4186,   290,  3700,  1816,   284,   262,  3952,    11,\n",
       "          3700,  2921,   262,  2613,   284],\n",
       "        [50256,  2215,  4186,   290,  3700,  1816,   284,   262,  3952,    11,\n",
       "          4186,  2921,   262,  2613,   284],\n",
       "        [50256,  2215,  6035,   290, 15686,  1816,   284,   262, 12437,    11,\n",
       "         15686,  2921,   281, 17180,   284],\n",
       "        [50256,  2215,  6035,   290, 15686,  1816,   284,   262, 12437,    11,\n",
       "          6035,  2921,   281, 17180,   284],\n",
       "        [50256,  3260,  5780,   290, 14235,  1816,   284,   262,  3952,    11,\n",
       "         14235,  2921,   257,  4144,   284],\n",
       "        [50256,  3260,  5780,   290, 14235,  1816,   284,   262,  3952,    11,\n",
       "          5780,  2921,   257,  4144,   284]])"
      ]
     },
     "execution_count": null,
     "metadata": {},
     "output_type": "execute_result"
    }
   ],
   "source": [
    "tokens"
   ]
  },
  {
   "cell_type": "code",
   "execution_count": null,
   "id": "c8d1a598-f6ae-414c-bc95-8339363c405b",
   "metadata": {},
   "outputs": [],
   "source": [
    "original_logits, cache = model.run_with_cache(tokens)"
   ]
  },
  {
   "cell_type": "markdown",
   "id": "4c934329-bc93-46da-a398-f5290276f7fc",
   "metadata": {},
   "source": [
    "### Direct Logit Attribution"
   ]
  },
  {
   "cell_type": "markdown",
   "id": "2960b3dd-023e-4d2e-8ad6-1ba606137105",
   "metadata": {},
   "source": [
    "##### Flashcard 1"
   ]
  },
  {
   "cell_type": "code",
   "execution_count": null,
   "id": "7b7460f1-241c-41cf-b45c-eefd73ac507e",
   "metadata": {},
   "outputs": [],
   "source": [
    "W_U = model.W_U"
   ]
  },
  {
   "cell_type": "code",
   "execution_count": null,
   "id": "ef82e90f-b4f0-4c83-82f4-d3c07592badb",
   "metadata": {},
   "outputs": [],
   "source": [
    "tokens = torch.tensor([69, 420])"
   ]
  },
  {
   "cell_type": "code",
   "execution_count": null,
   "id": "6127f63a-dd70-461d-b772-0861891b6270",
   "metadata": {},
   "outputs": [
    {
     "data": {
      "text/plain": [
       "tensor([ 69, 420])"
      ]
     },
     "execution_count": null,
     "metadata": {},
     "output_type": "execute_result"
    }
   ],
   "source": [
    "tokens"
   ]
  },
  {
   "cell_type": "code",
   "execution_count": null,
   "id": "6281cab5-8a24-4430-892f-a1c8cfe24415",
   "metadata": {},
   "outputs": [
    {
     "data": {
      "text/plain": [
       "torch.Size([768, 50257])"
      ]
     },
     "execution_count": null,
     "metadata": {},
     "output_type": "execute_result"
    }
   ],
   "source": [
    "W_U.shape"
   ]
  },
  {
   "cell_type": "markdown",
   "id": "c0e3bb1f-86aa-48a0-a272-f748acf0144f",
   "metadata": {},
   "source": [
    "Give `W_U` is the unembedding matrix"
   ]
  },
  {
   "cell_type": "markdown",
   "id": "380de5c6-a751-432a-a379-f804453d9b40",
   "metadata": {},
   "source": [
    "Extract the residual directions of `tokens`"
   ]
  },
  {
   "cell_type": "code",
   "execution_count": null,
   "id": "79f3cf28-4c31-4ec4-927f-f7fea8c29466",
   "metadata": {},
   "outputs": [],
   "source": [
    "residual_directions = W_U[:, tokens]"
   ]
  },
  {
   "cell_type": "code",
   "execution_count": null,
   "id": "9c5bdf73-0479-4ce4-b3b2-01f6ed3263f2",
   "metadata": {},
   "outputs": [
    {
     "data": {
      "text/plain": [
       "torch.Size([768, 2])"
      ]
     },
     "execution_count": null,
     "metadata": {},
     "output_type": "execute_result"
    }
   ],
   "source": [
    "residual_directions.shape"
   ]
  },
  {
   "cell_type": "markdown",
   "id": "cdc799ea-b324-4e5a-9301-57a8e70d4da9",
   "metadata": {},
   "source": [
    "##### Example 2"
   ]
  },
  {
   "cell_type": "code",
   "execution_count": null,
   "id": "8fb01fbe-bcaa-451d-b1a6-f20fcf72020c",
   "metadata": {},
   "outputs": [],
   "source": [
    "correct_token = torch.tensor(5335)"
   ]
  },
  {
   "cell_type": "code",
   "execution_count": null,
   "id": "d239dd52-ba2f-4888-8dc4-934c9a4c5d4a",
   "metadata": {},
   "outputs": [],
   "source": [
    "incorrect_token = torch.tensor(1757)"
   ]
  },
  {
   "cell_type": "code",
   "execution_count": null,
   "id": "ccdbcb7d-fa24-4f63-92a9-593beeb9c9a1",
   "metadata": {},
   "outputs": [
    {
     "data": {
      "text/plain": [
       "transformer_lens.HookedTransformer.HookedTransformer"
      ]
     },
     "execution_count": null,
     "metadata": {},
     "output_type": "execute_result"
    }
   ],
   "source": [
    "type(model)"
   ]
  },
  {
   "cell_type": "code",
   "execution_count": null,
   "id": "7ee4a146-b346-4750-9ecb-5e002d43607f",
   "metadata": {},
   "outputs": [
    {
     "data": {
      "text/plain": [
       "(tensor(5335), tensor(1757))"
      ]
     },
     "execution_count": null,
     "metadata": {},
     "output_type": "execute_result"
    }
   ],
   "source": [
    "correct_token, incorrect_token"
   ]
  },
  {
   "cell_type": "markdown",
   "id": "fe24564d-35ea-47b3-b98c-3d647688b7dd",
   "metadata": {},
   "source": [
    "Compute the logit difference of the residual directions of two tokens above"
   ]
  },
  {
   "cell_type": "code",
   "execution_count": null,
   "id": "3ddafb34-1690-4ddc-80fc-331e3e81388c",
   "metadata": {},
   "outputs": [],
   "source": [
    "correct_residual_direction = model.tokens_to_residual_directions(correct_token)"
   ]
  },
  {
   "cell_type": "code",
   "execution_count": null,
   "id": "4efcaf5b-20da-42cc-957d-77e9291a6639",
   "metadata": {},
   "outputs": [
    {
     "data": {
      "text/plain": [
       "torch.Size([768])"
      ]
     },
     "execution_count": null,
     "metadata": {},
     "output_type": "execute_result"
    }
   ],
   "source": [
    "correct_residual_direction.shape"
   ]
  },
  {
   "cell_type": "code",
   "execution_count": null,
   "id": "7e4f0bcc-82f9-474a-a048-0fa7118183fe",
   "metadata": {},
   "outputs": [],
   "source": [
    "incorrect_residual_direction = model.tokens_to_residual_directions(incorrect_token)"
   ]
  },
  {
   "cell_type": "code",
   "execution_count": null,
   "id": "bd4567e6-067c-43dd-8862-fdf850bc4203",
   "metadata": {},
   "outputs": [
    {
     "data": {
      "text/plain": [
       "torch.Size([768])"
      ]
     },
     "execution_count": null,
     "metadata": {},
     "output_type": "execute_result"
    }
   ],
   "source": [
    "incorrect_residual_direction.shape"
   ]
  },
  {
   "cell_type": "code",
   "execution_count": null,
   "id": "5e7eda48-1596-4e41-992c-076330f94d1a",
   "metadata": {},
   "outputs": [],
   "source": [
    "logit_diff_direction = correct_residual_direction - incorrect_residual_direction"
   ]
  },
  {
   "cell_type": "code",
   "execution_count": null,
   "id": "8c2d2282-43ac-4a89-b9cb-fbb5d6f1f7cc",
   "metadata": {},
   "outputs": [
    {
     "data": {
      "text/plain": [
       "torch.Size([768])"
      ]
     },
     "execution_count": null,
     "metadata": {},
     "output_type": "execute_result"
    }
   ],
   "source": [
    "logit_diff_direction.shape"
   ]
  },
  {
   "cell_type": "markdown",
   "id": "e8c576f9-7d0f-4f73-9ae1-f7d78108dd38",
   "metadata": {},
   "source": [
    "##### Example 3"
   ]
  },
  {
   "cell_type": "code",
   "execution_count": null,
   "id": "81b4d6a7-849c-4030-965b-ff875c3b2fc6",
   "metadata": {},
   "outputs": [],
   "source": [
    "unembedding = model.W_U"
   ]
  },
  {
   "cell_type": "markdown",
   "id": "cf3bd8e4-60c5-44b6-b2ca-2dc019a95aa6",
   "metadata": {},
   "source": [
    "`768` is the dimension of an embedding vector, `50257` is the number of vocabulary"
   ]
  },
  {
   "cell_type": "code",
   "execution_count": null,
   "id": "6c7717f8-7fcb-4092-9626-eb2ec70cdc13",
   "metadata": {},
   "outputs": [
    {
     "data": {
      "text/plain": [
       "torch.Size([768, 50257])"
      ]
     },
     "execution_count": null,
     "metadata": {},
     "output_type": "execute_result"
    }
   ],
   "source": [
    "unembedding.shape"
   ]
  },
  {
   "cell_type": "code",
   "execution_count": null,
   "id": "7743874a-ecc9-4c16-9356-a290602d262e",
   "metadata": {},
   "outputs": [
    {
     "data": {
      "text/plain": [
       "(tensor(5335), tensor(1757))"
      ]
     },
     "execution_count": null,
     "metadata": {},
     "output_type": "execute_result"
    }
   ],
   "source": [
    "correct_token, incorrect_token"
   ]
  },
  {
   "cell_type": "markdown",
   "id": "b64c3fed-5d9b-4bf0-901a-47843c7e8045",
   "metadata": {},
   "source": [
    "Compute the logit difference of the residual directions of two tokens above"
   ]
  },
  {
   "cell_type": "code",
   "execution_count": null,
   "id": "9dd7fb1c-e06a-4fbb-9592-fb4aebfe3db4",
   "metadata": {},
   "outputs": [],
   "source": [
    "correct_residual_direction = unembedding[:, correct_token]"
   ]
  },
  {
   "cell_type": "code",
   "execution_count": null,
   "id": "11171d5b-31ef-429a-a50c-4bfacc0edb3c",
   "metadata": {},
   "outputs": [
    {
     "data": {
      "text/plain": [
       "torch.Size([768])"
      ]
     },
     "execution_count": null,
     "metadata": {},
     "output_type": "execute_result"
    }
   ],
   "source": [
    "correct_residual_direction.shape"
   ]
  },
  {
   "cell_type": "code",
   "execution_count": null,
   "id": "71489709-2e84-4dc3-ad9b-6363fe85b7b1",
   "metadata": {},
   "outputs": [],
   "source": [
    "incorrect_residual_direction = unembedding[:, incorrect_token]"
   ]
  },
  {
   "cell_type": "code",
   "execution_count": null,
   "id": "80f827ae-3661-4c35-9b15-0012229a078a",
   "metadata": {},
   "outputs": [
    {
     "data": {
      "text/plain": [
       "torch.Size([768])"
      ]
     },
     "execution_count": null,
     "metadata": {},
     "output_type": "execute_result"
    }
   ],
   "source": [
    "incorrect_residual_direction.shape"
   ]
  },
  {
   "cell_type": "code",
   "execution_count": null,
   "id": "03137856-6e98-4856-91a0-4771402dfac5",
   "metadata": {},
   "outputs": [],
   "source": [
    "logit_diff_direction = correct_residual_direction - incorrect_residual_direction"
   ]
  },
  {
   "cell_type": "code",
   "execution_count": null,
   "id": "0d9956aa-3bf2-4413-a6f2-ef42888c3c3d",
   "metadata": {},
   "outputs": [
    {
     "data": {
      "text/plain": [
       "torch.Size([768])"
      ]
     },
     "execution_count": null,
     "metadata": {},
     "output_type": "execute_result"
    }
   ],
   "source": [
    "logit_diff_direction.shape"
   ]
  },
  {
   "cell_type": "markdown",
   "id": "e061e811-2d80-4581-9f79-19bc3d8dcf44",
   "metadata": {},
   "source": [
    "##### Example 4"
   ]
  },
  {
   "cell_type": "code",
   "execution_count": null,
   "id": "7df83b05-ff5e-45b7-bd2a-1dfe06ff0885",
   "metadata": {},
   "outputs": [],
   "source": [
    "tokens = model.to_tokens(prompts, prepend_bos=True)"
   ]
  },
  {
   "cell_type": "code",
   "execution_count": null,
   "id": "05f9474c-1ffa-4485-a931-92bb0d1106f4",
   "metadata": {},
   "outputs": [],
   "source": [
    "original_logits, cache = model.run_with_cache(tokens)"
   ]
  },
  {
   "cell_type": "code",
   "execution_count": null,
   "id": "22f0cd91-3823-47fc-806c-831e7216e509",
   "metadata": {},
   "outputs": [],
   "source": [
    "cache.compute_head_results()"
   ]
  },
  {
   "cell_type": "code",
   "execution_count": null,
   "id": "415445ef-289c-4ee1-92da-9bdcd0397e45",
   "metadata": {},
   "outputs": [],
   "source": [
    "import torch\n",
    "from einops import rearrange"
   ]
  },
  {
   "cell_type": "code",
   "execution_count": null,
   "id": "4d234c7c-2fe8-4b7f-b221-1d118108fc60",
   "metadata": {},
   "outputs": [
    {
     "data": {
      "text/plain": [
       "transformer_lens.ActivationCache.ActivationCache"
      ]
     },
     "execution_count": null,
     "metadata": {},
     "output_type": "execute_result"
    }
   ],
   "source": [
    "type(cache)"
   ]
  },
  {
   "cell_type": "code",
   "execution_count": null,
   "id": "a0a66561-6db7-4a9c-85ad-3b8462fdafb2",
   "metadata": {},
   "outputs": [
    {
     "data": {
      "text/plain": [
       "['blocks.0.attn.hook_q',\n",
       " 'blocks.0.attn.hook_k',\n",
       " 'blocks.0.attn.hook_v',\n",
       " 'blocks.0.attn.hook_attn_scores',\n",
       " 'blocks.0.attn.hook_pattern',\n",
       " 'blocks.0.attn.hook_z',\n",
       " 'blocks.0.attn.hook_result']"
      ]
     },
     "execution_count": null,
     "metadata": {},
     "output_type": "execute_result"
    }
   ],
   "source": [
    "[key for key in cache.keys() if key.startswith(\"blocks.0.attn\")]"
   ]
  },
  {
   "cell_type": "markdown",
   "id": "d27fd4aa-24cd-4455-88ff-2ab623621129",
   "metadata": {},
   "source": [
    "Stack the output of all attention layer from layer `0` to layer `2` as bellow. Explain"
   ]
  },
  {
   "cell_type": "code",
   "execution_count": null,
   "id": "b076ac39-2509-4694-9135-8f5a66bf0dfe",
   "metadata": {},
   "outputs": [],
   "source": [
    "outputs = []"
   ]
  },
  {
   "cell_type": "code",
   "execution_count": null,
   "id": "1f5e5fac-bcd1-474f-840d-8e51c9be4fec",
   "metadata": {},
   "outputs": [],
   "source": [
    "for layer in range(3):\n",
    "    outputs.append(cache[f\"blocks.{layer}.attn.hook_result\"])"
   ]
  },
  {
   "cell_type": "markdown",
   "id": "e44f04f6-8437-45a5-9bac-c8ded7ddb292",
   "metadata": {},
   "source": [
    "The `outputs` list contains the attention outputs from three layers. The output shape for the first layer is `[8, 15, 12, 768]`, which corresponds to a batch size of 8, a sequence length of 15, 12 attention heads, and an embedding of 768."
   ]
  },
  {
   "cell_type": "code",
   "execution_count": null,
   "id": "871e2e29-2c93-4215-be1b-50bad4665e88",
   "metadata": {},
   "outputs": [
    {
     "data": {
      "text/plain": [
       "3"
      ]
     },
     "execution_count": null,
     "metadata": {},
     "output_type": "execute_result"
    }
   ],
   "source": [
    "len(outputs)"
   ]
  },
  {
   "cell_type": "code",
   "execution_count": null,
   "id": "4250d641-504b-49e2-a52d-842e2891ff99",
   "metadata": {},
   "outputs": [
    {
     "data": {
      "text/plain": [
       "torch.Size([8, 15, 12, 768])"
      ]
     },
     "execution_count": null,
     "metadata": {},
     "output_type": "execute_result"
    }
   ],
   "source": [
    "outputs[0].shape"
   ]
  },
  {
   "cell_type": "markdown",
   "id": "fd8d76fa-07fe-44eb-ae14-ffaf3b0b133b",
   "metadata": {},
   "source": [
    "The goal is to combine all the attention heads from the different layers, which are located along dimension 2 (or the last two dimensions). To do this, the `outputs` are concatenated along dimension 2."
   ]
  },
  {
   "cell_type": "code",
   "execution_count": null,
   "id": "1ec0b941-e503-478a-8b79-522f87189032",
   "metadata": {},
   "outputs": [],
   "source": [
    "outputs = torch.cat(outputs, dim=-2)"
   ]
  },
  {
   "cell_type": "markdown",
   "id": "929ddf42-306a-4bfe-abd7-a4850f37e877",
   "metadata": {},
   "source": [
    "After concatenation, the resulting output shape is `[8, 15, 36, 768]`, which corresponds to a batch size of 8, a sequence length of 15, 36 attention heads (combined from all layers)."
   ]
  },
  {
   "cell_type": "code",
   "execution_count": null,
   "id": "7096acf5-0fd4-4b00-8347-5b2ea9c54599",
   "metadata": {},
   "outputs": [
    {
     "data": {
      "text/plain": [
       "torch.Size([8, 15, 36, 768])"
      ]
     },
     "execution_count": null,
     "metadata": {},
     "output_type": "execute_result"
    }
   ],
   "source": [
    "outputs.shape"
   ]
  },
  {
   "cell_type": "markdown",
   "id": "0c0aa17f-c2c5-485f-bffc-e63984e5a1e6",
   "metadata": {},
   "source": [
    "##### Example 5"
   ]
  },
  {
   "cell_type": "code",
   "execution_count": null,
   "id": "c7173991-64a6-445a-a1dc-ad131bc141a5",
   "metadata": {},
   "outputs": [],
   "source": [
    "outputs = rearrange(outputs, \"... concat_head_index d_model -> concat_head_index ... d_model\")"
   ]
  },
  {
   "cell_type": "code",
   "execution_count": null,
   "id": "6e29b1e5-c326-46b6-aac1-8913527a3376",
   "metadata": {},
   "outputs": [
    {
     "data": {
      "text/plain": [
       "torch.Size([36, 8, 15, 768])"
      ]
     },
     "execution_count": null,
     "metadata": {},
     "output_type": "execute_result"
    }
   ],
   "source": [
    "outputs.shape"
   ]
  },
  {
   "cell_type": "markdown",
   "id": "0cae29ff-4f52-4514-8de2-aa29d89b0366",
   "metadata": {},
   "source": [
    "##### Example 6"
   ]
  },
  {
   "cell_type": "code",
   "execution_count": null,
   "id": "44db2609-7f4f-40ba-b27a-2bca9f0aa354",
   "metadata": {},
   "outputs": [
    {
     "data": {
      "text/plain": [
       "transformer_lens.ActivationCache.ActivationCache"
      ]
     },
     "execution_count": null,
     "metadata": {},
     "output_type": "execute_result"
    }
   ],
   "source": [
    "type(cache)"
   ]
  },
  {
   "cell_type": "markdown",
   "id": "c9aa51c2-70f7-49c7-a9c6-83c801d309d9",
   "metadata": {},
   "source": [
    "Extract the residual direction of all heads from layer `0` to layer `2` using `transformer_lens`"
   ]
  },
  {
   "cell_type": "code",
   "execution_count": null,
   "id": "ec62021b-be0b-4e19-a4fe-5712670e035e",
   "metadata": {},
   "outputs": [],
   "source": [
    "per_head_residual = cache.stack_head_results(layer=2)"
   ]
  },
  {
   "cell_type": "code",
   "execution_count": null,
   "id": "0355330c-4a0a-4843-aab4-0c08934d793a",
   "metadata": {},
   "outputs": [
    {
     "data": {
      "text/plain": [
       "torch.Size([24, 8, 15, 768])"
      ]
     },
     "execution_count": null,
     "metadata": {},
     "output_type": "execute_result"
    }
   ],
   "source": [
    "per_head_residual.shape"
   ]
  },
  {
   "cell_type": "markdown",
   "id": "c804e833-e332-4710-9bc4-fcee278d11fa",
   "metadata": {},
   "source": [
    "##### Example 6.1"
   ]
  },
  {
   "cell_type": "code",
   "execution_count": null,
   "id": "8a96e785-93aa-4592-b5dd-5b6e1be4b868",
   "metadata": {},
   "outputs": [],
   "source": [
    "x = torch.arange(0, 8).view(2, 4)\n",
    "y = torch.arange(0, 8).view(2, 4)"
   ]
  },
  {
   "cell_type": "code",
   "execution_count": null,
   "id": "8e0726e7-8c70-445a-a07c-43da74e80d71",
   "metadata": {},
   "outputs": [
    {
     "data": {
      "text/plain": [
       "(torch.Size([2, 4]), torch.Size([2, 4]))"
      ]
     },
     "execution_count": null,
     "metadata": {},
     "output_type": "execute_result"
    }
   ],
   "source": [
    "x.shape, y.shape"
   ]
  },
  {
   "cell_type": "markdown",
   "id": "181ced0d-933c-4e2d-b3fb-7388cfed3f69",
   "metadata": {},
   "source": [
    "`x` and `y` have batch size `2`, and dimension `4`"
   ]
  },
  {
   "cell_type": "code",
   "execution_count": null,
   "id": "7b0e9d9b-0b19-4c2d-b720-a5a410c2d0d4",
   "metadata": {},
   "outputs": [
    {
     "data": {
      "text/plain": [
       "tensor([[0, 1, 2, 3],\n",
       "        [4, 5, 6, 7]])"
      ]
     },
     "execution_count": null,
     "metadata": {},
     "output_type": "execute_result"
    }
   ],
   "source": [
    "x"
   ]
  },
  {
   "cell_type": "code",
   "execution_count": null,
   "id": "2ac70354-4f0c-4850-9fc9-8a6f5ae31f9c",
   "metadata": {},
   "outputs": [
    {
     "data": {
      "text/plain": [
       "tensor([[0, 1, 2, 3],\n",
       "        [4, 5, 6, 7]])"
      ]
     },
     "execution_count": null,
     "metadata": {},
     "output_type": "execute_result"
    }
   ],
   "source": [
    "y"
   ]
  },
  {
   "cell_type": "code",
   "execution_count": null,
   "id": "23288378-7423-4197-875c-9fececf73268",
   "metadata": {},
   "outputs": [],
   "source": [
    "output = (x * y).sum()"
   ]
  },
  {
   "cell_type": "code",
   "execution_count": null,
   "id": "4e2600c7-fb89-415d-80fb-5b5a3fe47308",
   "metadata": {},
   "outputs": [
    {
     "data": {
      "text/plain": [
       "tensor(140)"
      ]
     },
     "execution_count": null,
     "metadata": {},
     "output_type": "execute_result"
    }
   ],
   "source": [
    "output"
   ]
  },
  {
   "cell_type": "markdown",
   "id": "590a4510-e496-4f49-adb7-551f6065888f",
   "metadata": {},
   "source": [
    "Perform a single operation on x and y using `einops` to do element-wise multiplication between them, and then sum up the resulting value"
   ]
  },
  {
   "cell_type": "code",
   "execution_count": null,
   "id": "814f0cb9-9eb7-4b54-8d96-675de653dc5c",
   "metadata": {},
   "outputs": [],
   "source": [
    "from einops import einsum"
   ]
  },
  {
   "cell_type": "code",
   "execution_count": null,
   "id": "13023149-9f16-4eaa-a2cc-e5fd94928d78",
   "metadata": {},
   "outputs": [],
   "source": [
    "einops_output = einsum(x, y, \"batch dim, batch dim ->\")"
   ]
  },
  {
   "cell_type": "code",
   "execution_count": null,
   "id": "7e6f98f1-e81f-415b-9eac-6d4545ae86d5",
   "metadata": {},
   "outputs": [
    {
     "data": {
      "text/plain": [
       "tensor(140)"
      ]
     },
     "execution_count": null,
     "metadata": {},
     "output_type": "execute_result"
    }
   ],
   "source": [
    "einops_output"
   ]
  },
  {
   "cell_type": "code",
   "execution_count": null,
   "id": "74a4787e-774c-406f-a1f6-97e2e06b76ae",
   "metadata": {},
   "outputs": [
    {
     "data": {
      "text/plain": [
       "tensor(True)"
      ]
     },
     "execution_count": null,
     "metadata": {},
     "output_type": "execute_result"
    }
   ],
   "source": [
    "output == einops_output"
   ]
  },
  {
   "cell_type": "markdown",
   "id": "b6100754-d6c6-4c54-9b12-b087238ff113",
   "metadata": {},
   "source": [
    "##### Example 6.2"
   ]
  },
  {
   "cell_type": "code",
   "execution_count": null,
   "id": "c1eb7b04-1b73-4c9a-a6e9-2ec57772ff5a",
   "metadata": {},
   "outputs": [],
   "source": [
    "_logits, _cache = model.run_with_cache(tokens)"
   ]
  },
  {
   "cell_type": "code",
   "execution_count": null,
   "id": "fc4ea3a1-1d3f-464c-adca-d8bb863950ca",
   "metadata": {},
   "outputs": [
    {
     "data": {
      "text/plain": [
       "transformer_lens.HookedTransformer.HookedTransformer"
      ]
     },
     "execution_count": null,
     "metadata": {},
     "output_type": "execute_result"
    }
   ],
   "source": [
    "type(model)"
   ]
  },
  {
   "cell_type": "code",
   "execution_count": null,
   "id": "74dd31b6-ed4a-4a1b-aaa3-efbec526f05f",
   "metadata": {},
   "outputs": [
    {
     "data": {
      "text/plain": [
       "torch.Size([8, 15, 50257])"
      ]
     },
     "execution_count": null,
     "metadata": {},
     "output_type": "execute_result"
    }
   ],
   "source": [
    "_logits.shape"
   ]
  },
  {
   "cell_type": "markdown",
   "id": "a4d86bc1-bb94-4f37-9e11-0e275d579957",
   "metadata": {},
   "source": [
    "Manually calculate the logits of `tokens` by going through each component of `model` individually"
   ]
  },
  {
   "cell_type": "code",
   "execution_count": null,
   "id": "1e550797-04a5-4dea-90b6-68726b898973",
   "metadata": {},
   "outputs": [],
   "source": [
    "embeddings = model.pos_embed(tokens) + model.embed(tokens)"
   ]
  },
  {
   "cell_type": "code",
   "execution_count": null,
   "id": "42e73d22-620e-4edc-a993-8660cf0a71af",
   "metadata": {},
   "outputs": [],
   "source": [
    "residual = embeddings"
   ]
  },
  {
   "cell_type": "code",
   "execution_count": null,
   "id": "f690d8ff-aea9-4c29-8156-0f8cafb7fd23",
   "metadata": {},
   "outputs": [],
   "source": [
    "for block in model.blocks:\n",
    "    residual = block(residual)"
   ]
  },
  {
   "cell_type": "code",
   "execution_count": null,
   "id": "702d7843-f757-4171-a09c-9c1ae8dac67e",
   "metadata": {},
   "outputs": [],
   "source": [
    "residual = model.ln_final(residual)"
   ]
  },
  {
   "cell_type": "code",
   "execution_count": null,
   "id": "81dca643-4aed-4a7d-9cf7-74bf0d86b53d",
   "metadata": {},
   "outputs": [],
   "source": [
    "manual_logits = model.unembed(residual)"
   ]
  },
  {
   "cell_type": "code",
   "execution_count": null,
   "id": "b4d17bba-e72e-4c1d-836b-c476697c56d5",
   "metadata": {},
   "outputs": [
    {
     "data": {
      "text/plain": [
       "True"
      ]
     },
     "execution_count": null,
     "metadata": {},
     "output_type": "execute_result"
    }
   ],
   "source": [
    "torch.allclose(manual_logits, _logits)"
   ]
  },
  {
   "cell_type": "markdown",
   "id": "3b8c21e1-78ea-4c22-8951-f712e07b96fe",
   "metadata": {},
   "source": [
    "##### Example 6.3"
   ]
  },
  {
   "cell_type": "code",
   "execution_count": null,
   "id": "40239eb8-dfee-4cd6-a874-5ddd7ece1a2c",
   "metadata": {},
   "outputs": [
    {
     "data": {
      "text/plain": [
       "transformer_lens.HookedTransformer.HookedTransformer"
      ]
     },
     "execution_count": null,
     "metadata": {},
     "output_type": "execute_result"
    }
   ],
   "source": [
    "type(model)"
   ]
  },
  {
   "cell_type": "code",
   "execution_count": null,
   "id": "dbec46c0-5dfa-40fb-ade6-fab7deea1395",
   "metadata": {},
   "outputs": [],
   "source": [
    "_embeddings = model.embed(tokens)"
   ]
  },
  {
   "cell_type": "code",
   "execution_count": null,
   "id": "4006904b-88a5-459a-93a4-6a5a411ab232",
   "metadata": {},
   "outputs": [
    {
     "data": {
      "text/plain": [
       "transformer_lens.HookedTransformer.HookedTransformer"
      ]
     },
     "execution_count": null,
     "metadata": {},
     "output_type": "execute_result"
    }
   ],
   "source": [
    "type(model)"
   ]
  },
  {
   "cell_type": "code",
   "execution_count": null,
   "id": "79b969b6-5b96-471f-8c44-ffd60ed97619",
   "metadata": {},
   "outputs": [
    {
     "data": {
      "text/plain": [
       "torch.Size([8, 15, 768])"
      ]
     },
     "execution_count": null,
     "metadata": {},
     "output_type": "execute_result"
    }
   ],
   "source": [
    "_embeddings.shape"
   ]
  },
  {
   "cell_type": "markdown",
   "id": "79f240c3-0b58-495e-a792-0b114408db65",
   "metadata": {},
   "source": [
    "Retrieve the text embedding matrix of the `model` and compute the text embedding of `tokens` using it"
   ]
  },
  {
   "cell_type": "code",
   "execution_count": null,
   "id": "cb852ebd-313c-4b84-be90-d416e3f824c2",
   "metadata": {},
   "outputs": [],
   "source": [
    "W_E = model.W_E"
   ]
  },
  {
   "cell_type": "code",
   "execution_count": null,
   "id": "42033ca8-5f10-4948-b076-f18b01b79da4",
   "metadata": {},
   "outputs": [
    {
     "data": {
      "text/plain": [
       "torch.Size([50257, 768])"
      ]
     },
     "execution_count": null,
     "metadata": {},
     "output_type": "execute_result"
    }
   ],
   "source": [
    "W_E.shape"
   ]
  },
  {
   "cell_type": "code",
   "execution_count": null,
   "id": "4f88b577-3790-4d57-a865-ebbd73069481",
   "metadata": {},
   "outputs": [],
   "source": [
    "_manual_embeddings = model.W_E[tokens, :]"
   ]
  },
  {
   "cell_type": "code",
   "execution_count": null,
   "id": "b84f76fe-bee3-4498-bb4e-e448e06e7706",
   "metadata": {},
   "outputs": [
    {
     "data": {
      "text/plain": [
       "True"
      ]
     },
     "execution_count": null,
     "metadata": {},
     "output_type": "execute_result"
    }
   ],
   "source": [
    "torch.allclose(_embeddings, _manual_embeddings)"
   ]
  },
  {
   "cell_type": "markdown",
   "id": "268ed84b-e95f-461e-bace-ddc276cfcaf8",
   "metadata": {},
   "source": [
    "##### Example 6.4"
   ]
  },
  {
   "cell_type": "code",
   "execution_count": null,
   "id": "ddfcb7d4-285b-403e-9615-5431add13f6c",
   "metadata": {},
   "outputs": [
    {
     "data": {
      "text/plain": [
       "8"
      ]
     },
     "execution_count": null,
     "metadata": {},
     "output_type": "execute_result"
    }
   ],
   "source": [
    "len(tokens)"
   ]
  },
  {
   "cell_type": "code",
   "execution_count": null,
   "id": "bd3b7f12-aca1-4978-a6b5-0a2077664a70",
   "metadata": {},
   "outputs": [
    {
     "data": {
      "text/plain": [
       "torch.Size([8, 15, 768])"
      ]
     },
     "execution_count": null,
     "metadata": {},
     "output_type": "execute_result"
    }
   ],
   "source": [
    "cache[\"resid_post\", -1].shape"
   ]
  },
  {
   "cell_type": "code",
   "execution_count": null,
   "id": "b420ad1e-d58c-454d-8f6c-dbbe747b624d",
   "metadata": {},
   "outputs": [],
   "source": [
    "from transformer_lens.utils import get_act_name"
   ]
  },
  {
   "cell_type": "code",
   "execution_count": null,
   "id": "b69f09ae-0586-4e60-a844-f22497237c5d",
   "metadata": {},
   "outputs": [
    {
     "data": {
      "text/plain": [
       "ActivationCache with keys ['hook_embed', 'hook_pos_embed', 'blocks.0.hook_resid_pre', 'blocks.0.ln1.hook_scale', 'blocks.0.ln1.hook_normalized', 'blocks.0.attn.hook_q', 'blocks.0.attn.hook_k', 'blocks.0.attn.hook_v', 'blocks.0.attn.hook_attn_scores', 'blocks.0.attn.hook_pattern', 'blocks.0.attn.hook_z', 'blocks.0.hook_attn_out', 'blocks.0.hook_resid_mid', 'blocks.0.ln2.hook_scale', 'blocks.0.ln2.hook_normalized', 'blocks.0.mlp.hook_pre', 'blocks.0.mlp.hook_post', 'blocks.0.hook_mlp_out', 'blocks.0.hook_resid_post', 'blocks.1.hook_resid_pre', 'blocks.1.ln1.hook_scale', 'blocks.1.ln1.hook_normalized', 'blocks.1.attn.hook_q', 'blocks.1.attn.hook_k', 'blocks.1.attn.hook_v', 'blocks.1.attn.hook_attn_scores', 'blocks.1.attn.hook_pattern', 'blocks.1.attn.hook_z', 'blocks.1.hook_attn_out', 'blocks.1.hook_resid_mid', 'blocks.1.ln2.hook_scale', 'blocks.1.ln2.hook_normalized', 'blocks.1.mlp.hook_pre', 'blocks.1.mlp.hook_post', 'blocks.1.hook_mlp_out', 'blocks.1.hook_resid_post', 'blocks.2.hook_resid_pre', 'blocks.2.ln1.hook_scale', 'blocks.2.ln1.hook_normalized', 'blocks.2.attn.hook_q', 'blocks.2.attn.hook_k', 'blocks.2.attn.hook_v', 'blocks.2.attn.hook_attn_scores', 'blocks.2.attn.hook_pattern', 'blocks.2.attn.hook_z', 'blocks.2.hook_attn_out', 'blocks.2.hook_resid_mid', 'blocks.2.ln2.hook_scale', 'blocks.2.ln2.hook_normalized', 'blocks.2.mlp.hook_pre', 'blocks.2.mlp.hook_post', 'blocks.2.hook_mlp_out', 'blocks.2.hook_resid_post', 'blocks.3.hook_resid_pre', 'blocks.3.ln1.hook_scale', 'blocks.3.ln1.hook_normalized', 'blocks.3.attn.hook_q', 'blocks.3.attn.hook_k', 'blocks.3.attn.hook_v', 'blocks.3.attn.hook_attn_scores', 'blocks.3.attn.hook_pattern', 'blocks.3.attn.hook_z', 'blocks.3.hook_attn_out', 'blocks.3.hook_resid_mid', 'blocks.3.ln2.hook_scale', 'blocks.3.ln2.hook_normalized', 'blocks.3.mlp.hook_pre', 'blocks.3.mlp.hook_post', 'blocks.3.hook_mlp_out', 'blocks.3.hook_resid_post', 'blocks.4.hook_resid_pre', 'blocks.4.ln1.hook_scale', 'blocks.4.ln1.hook_normalized', 'blocks.4.attn.hook_q', 'blocks.4.attn.hook_k', 'blocks.4.attn.hook_v', 'blocks.4.attn.hook_attn_scores', 'blocks.4.attn.hook_pattern', 'blocks.4.attn.hook_z', 'blocks.4.hook_attn_out', 'blocks.4.hook_resid_mid', 'blocks.4.ln2.hook_scale', 'blocks.4.ln2.hook_normalized', 'blocks.4.mlp.hook_pre', 'blocks.4.mlp.hook_post', 'blocks.4.hook_mlp_out', 'blocks.4.hook_resid_post', 'blocks.5.hook_resid_pre', 'blocks.5.ln1.hook_scale', 'blocks.5.ln1.hook_normalized', 'blocks.5.attn.hook_q', 'blocks.5.attn.hook_k', 'blocks.5.attn.hook_v', 'blocks.5.attn.hook_attn_scores', 'blocks.5.attn.hook_pattern', 'blocks.5.attn.hook_z', 'blocks.5.hook_attn_out', 'blocks.5.hook_resid_mid', 'blocks.5.ln2.hook_scale', 'blocks.5.ln2.hook_normalized', 'blocks.5.mlp.hook_pre', 'blocks.5.mlp.hook_post', 'blocks.5.hook_mlp_out', 'blocks.5.hook_resid_post', 'blocks.6.hook_resid_pre', 'blocks.6.ln1.hook_scale', 'blocks.6.ln1.hook_normalized', 'blocks.6.attn.hook_q', 'blocks.6.attn.hook_k', 'blocks.6.attn.hook_v', 'blocks.6.attn.hook_attn_scores', 'blocks.6.attn.hook_pattern', 'blocks.6.attn.hook_z', 'blocks.6.hook_attn_out', 'blocks.6.hook_resid_mid', 'blocks.6.ln2.hook_scale', 'blocks.6.ln2.hook_normalized', 'blocks.6.mlp.hook_pre', 'blocks.6.mlp.hook_post', 'blocks.6.hook_mlp_out', 'blocks.6.hook_resid_post', 'blocks.7.hook_resid_pre', 'blocks.7.ln1.hook_scale', 'blocks.7.ln1.hook_normalized', 'blocks.7.attn.hook_q', 'blocks.7.attn.hook_k', 'blocks.7.attn.hook_v', 'blocks.7.attn.hook_attn_scores', 'blocks.7.attn.hook_pattern', 'blocks.7.attn.hook_z', 'blocks.7.hook_attn_out', 'blocks.7.hook_resid_mid', 'blocks.7.ln2.hook_scale', 'blocks.7.ln2.hook_normalized', 'blocks.7.mlp.hook_pre', 'blocks.7.mlp.hook_post', 'blocks.7.hook_mlp_out', 'blocks.7.hook_resid_post', 'blocks.8.hook_resid_pre', 'blocks.8.ln1.hook_scale', 'blocks.8.ln1.hook_normalized', 'blocks.8.attn.hook_q', 'blocks.8.attn.hook_k', 'blocks.8.attn.hook_v', 'blocks.8.attn.hook_attn_scores', 'blocks.8.attn.hook_pattern', 'blocks.8.attn.hook_z', 'blocks.8.hook_attn_out', 'blocks.8.hook_resid_mid', 'blocks.8.ln2.hook_scale', 'blocks.8.ln2.hook_normalized', 'blocks.8.mlp.hook_pre', 'blocks.8.mlp.hook_post', 'blocks.8.hook_mlp_out', 'blocks.8.hook_resid_post', 'blocks.9.hook_resid_pre', 'blocks.9.ln1.hook_scale', 'blocks.9.ln1.hook_normalized', 'blocks.9.attn.hook_q', 'blocks.9.attn.hook_k', 'blocks.9.attn.hook_v', 'blocks.9.attn.hook_attn_scores', 'blocks.9.attn.hook_pattern', 'blocks.9.attn.hook_z', 'blocks.9.hook_attn_out', 'blocks.9.hook_resid_mid', 'blocks.9.ln2.hook_scale', 'blocks.9.ln2.hook_normalized', 'blocks.9.mlp.hook_pre', 'blocks.9.mlp.hook_post', 'blocks.9.hook_mlp_out', 'blocks.9.hook_resid_post', 'blocks.10.hook_resid_pre', 'blocks.10.ln1.hook_scale', 'blocks.10.ln1.hook_normalized', 'blocks.10.attn.hook_q', 'blocks.10.attn.hook_k', 'blocks.10.attn.hook_v', 'blocks.10.attn.hook_attn_scores', 'blocks.10.attn.hook_pattern', 'blocks.10.attn.hook_z', 'blocks.10.hook_attn_out', 'blocks.10.hook_resid_mid', 'blocks.10.ln2.hook_scale', 'blocks.10.ln2.hook_normalized', 'blocks.10.mlp.hook_pre', 'blocks.10.mlp.hook_post', 'blocks.10.hook_mlp_out', 'blocks.10.hook_resid_post', 'blocks.11.hook_resid_pre', 'blocks.11.ln1.hook_scale', 'blocks.11.ln1.hook_normalized', 'blocks.11.attn.hook_q', 'blocks.11.attn.hook_k', 'blocks.11.attn.hook_v', 'blocks.11.attn.hook_attn_scores', 'blocks.11.attn.hook_pattern', 'blocks.11.attn.hook_z', 'blocks.11.hook_attn_out', 'blocks.11.hook_resid_mid', 'blocks.11.ln2.hook_scale', 'blocks.11.ln2.hook_normalized', 'blocks.11.mlp.hook_pre', 'blocks.11.mlp.hook_post', 'blocks.11.hook_mlp_out', 'blocks.11.hook_resid_post', 'ln_final.hook_scale', 'ln_final.hook_normalized', 'blocks.0.attn.hook_result', 'blocks.1.attn.hook_result', 'blocks.2.attn.hook_result', 'blocks.3.attn.hook_result', 'blocks.4.attn.hook_result', 'blocks.5.attn.hook_result', 'blocks.6.attn.hook_result', 'blocks.7.attn.hook_result', 'blocks.8.attn.hook_result', 'blocks.9.attn.hook_result', 'blocks.10.attn.hook_result', 'blocks.11.attn.hook_result']"
      ]
     },
     "execution_count": null,
     "metadata": {},
     "output_type": "execute_result"
    }
   ],
   "source": [
    "cache"
   ]
  },
  {
   "cell_type": "code",
   "execution_count": null,
   "id": "eb6f55f3-f160-463f-be5c-5a8386c025a5",
   "metadata": {},
   "outputs": [
    {
     "data": {
      "text/plain": [
       "'blocks.10.hook_resid_post'"
      ]
     },
     "execution_count": null,
     "metadata": {},
     "output_type": "execute_result"
    }
   ],
   "source": [
    "get_act_name(\"resid_post\", 10)"
   ]
  },
  {
   "cell_type": "markdown",
   "id": "e27f2908-f01c-4ce3-a580-887b25ff8c2c",
   "metadata": {},
   "source": [
    "##### Example 7"
   ]
  },
  {
   "cell_type": "code",
   "execution_count": null,
   "id": "b9594b0a-3815-4c4b-b92e-26c064611d0b",
   "metadata": {},
   "outputs": [],
   "source": [
    "per_head_residual, labels = cache.stack_head_results(layer=-1, pos_slice=-1, return_labels=True)"
   ]
  },
  {
   "cell_type": "markdown",
   "id": "ae5318e3-5bf4-443e-b5c0-6cac9b59d6e5",
   "metadata": {},
   "source": [
    "`per_head_residual` is ____"
   ]
  },
  {
   "cell_type": "code",
   "execution_count": null,
   "id": "f17555f8-e238-4a13-ac44-8ffedf6f7557",
   "metadata": {},
   "outputs": [
    {
     "data": {
      "text/plain": [
       "torch.Size([144, 8, 768])"
      ]
     },
     "execution_count": null,
     "metadata": {},
     "output_type": "execute_result"
    }
   ],
   "source": [
    "per_head_residual.shape"
   ]
  },
  {
   "cell_type": "markdown",
   "id": "dbdbd82b-8fb1-413c-bb9a-07428ec0bfcd",
   "metadata": {},
   "source": [
    "Calculate the logit difference. Explaindef residual_stack_to_logit_diff(residual_stack: Float[torch.Tensor, \"components batch d_model\"], cache: ActivationCache) -> float:\n",
    "    scaled_residual_stack = cache.apply_ln_to_stack(residual_stack, layer = -1, pos_slice=-1)\n",
    "    return einsum(\"... batch d_model, batch d_model -> ...\", scaled_residual_stack, logit_diff_directions)/len(prompts)"
   ]
  },
  {
   "cell_type": "code",
   "execution_count": null,
   "id": "9dd03f5a-3474-4406-8310-30939f885d92",
   "metadata": {},
   "outputs": [],
   "source": [
    "answer_residual_directions = model.tokens_to_residual_directions(answer_tokens)"
   ]
  },
  {
   "cell_type": "code",
   "execution_count": null,
   "id": "d244d590-3329-410f-a181-5b209cb114c5",
   "metadata": {},
   "outputs": [],
   "source": [
    "logit_diff_directions = answer_residual_directions[:, 0] - answer_residual_directions[:, 1]"
   ]
  },
  {
   "cell_type": "code",
   "execution_count": null,
   "id": "b7554760-6ed3-46a0-ad64-c2b536eafc04",
   "metadata": {},
   "outputs": [],
   "source": [
    "per_head_residual, labels = cache.stack_head_results(layer=-1, pos_slice=-1, return_labels=True)"
   ]
  },
  {
   "cell_type": "code",
   "execution_count": null,
   "id": "27fd84ad-98fb-4cf3-9d8a-4effd888a104",
   "metadata": {},
   "outputs": [],
   "source": [
    "def residual_stack_to_logit_diff(residual_stack: Float[torch.Tensor, \"components batch d_model\"], cache: ActivationCache) -> float:\n",
    "    scaled_residual_stack = cache.apply_ln_to_stack(residual_stack, layer = -1, pos_slice=-1)\n",
    "    return einsum(\"... batch d_model, batch d_model -> ...\", scaled_residual_stack, logit_diff_directions)/len(prompts)"
   ]
  },
  {
   "cell_type": "code",
   "execution_count": null,
   "id": "dd9c671f-a34b-4f10-a230-3b8753ecf38a",
   "metadata": {},
   "outputs": [],
   "source": [
    "# per_head_logit_diffs = residual_stack_to_logit_diff(per_head_residual, cache)\n",
    "# per_head_logit_diffs = einops.rearrange(per_head_logit_diffs, \"(layer head_index) -> layer head_index\", layer=model.cfg.n_layers, head_index=model.cfg.n_heads)"
   ]
  },
  {
   "cell_type": "markdown",
   "id": "d50ba959-39c8-4bed-a410-1473df7925d8",
   "metadata": {},
   "source": [
    "### Layer Attribution"
   ]
  },
  {
   "cell_type": "markdown",
   "id": "b2eff44f-e239-4e4d-92a9-8979c7e02dea",
   "metadata": {},
   "source": [
    "##### Example 1"
   ]
  },
  {
   "cell_type": "markdown",
   "id": "1d986e2a-a7b7-4ed0-a05a-4882a8edf501",
   "metadata": {},
   "source": [
    "#### Decompose Residual StreaM"
   ]
  },
  {
   "cell_type": "code",
   "execution_count": null,
   "id": "e6388039-bb21-4209-a860-1a8652fb8f40",
   "metadata": {},
   "outputs": [],
   "source": [
    "x = torch.arange(3*3).view(3, 3)"
   ]
  },
  {
   "cell_type": "code",
   "execution_count": null,
   "id": "273a5ef5-1bc9-41cb-b0bc-d1b4135ea698",
   "metadata": {},
   "outputs": [],
   "source": [
    "from transformer_lens.utils import Slice"
   ]
  },
  {
   "cell_type": "code",
   "execution_count": null,
   "id": "7a4c77be-5de7-4888-bc77-d19d628e54ca",
   "metadata": {},
   "outputs": [
    {
     "data": {
      "text/plain": [
       "tensor([[0, 1, 2],\n",
       "        [3, 4, 5],\n",
       "        [6, 7, 8]])"
      ]
     },
     "execution_count": null,
     "metadata": {},
     "output_type": "execute_result"
    }
   ],
   "source": [
    "x"
   ]
  },
  {
   "cell_type": "code",
   "execution_count": null,
   "id": "88d406b4-e5cd-40ff-b334-937ff31e19b0",
   "metadata": {},
   "outputs": [
    {
     "data": {
      "text/plain": [
       "torch.Size([3, 3])"
      ]
     },
     "execution_count": null,
     "metadata": {},
     "output_type": "execute_result"
    }
   ],
   "source": [
    "x.shape"
   ]
  },
  {
   "cell_type": "markdown",
   "id": "37774ee9-391c-476d-bacd-6084674470d2",
   "metadata": {},
   "source": [
    "Use number"
   ]
  },
  {
   "cell_type": "code",
   "execution_count": null,
   "id": "92f0827c-479e-457e-9953-930d58577c8f",
   "metadata": {},
   "outputs": [],
   "source": [
    "s1 = Slice(-1)"
   ]
  },
  {
   "cell_type": "code",
   "execution_count": null,
   "id": "c6bd7052-b020-47f9-b748-2caa00221552",
   "metadata": {},
   "outputs": [],
   "source": [
    "x1 = s.apply(x)"
   ]
  },
  {
   "cell_type": "code",
   "execution_count": null,
   "id": "34444290-d152-439e-901f-e1a3851ee4fe",
   "metadata": {},
   "outputs": [
    {
     "data": {
      "text/plain": [
       "tensor([6, 7, 8])"
      ]
     },
     "execution_count": null,
     "metadata": {},
     "output_type": "execute_result"
    }
   ],
   "source": [
    "x1"
   ]
  },
  {
   "cell_type": "markdown",
   "id": "aad01988-832a-4f55-bd06-2502a8da4199",
   "metadata": {},
   "source": [
    "Use `()`"
   ]
  },
  {
   "cell_type": "code",
   "execution_count": null,
   "id": "c37beb5f-5df4-42b9-8b7f-342e73133a8e",
   "metadata": {},
   "outputs": [],
   "source": [
    "s2 = Slice((0, 2))"
   ]
  },
  {
   "cell_type": "code",
   "execution_count": null,
   "id": "31e5273f-7554-44f1-ae8e-2270769ded80",
   "metadata": {},
   "outputs": [],
   "source": [
    "x2 = s2.apply(x)"
   ]
  },
  {
   "cell_type": "code",
   "execution_count": null,
   "id": "2627b339-d2f3-4722-a95b-712460d726a2",
   "metadata": {},
   "outputs": [
    {
     "data": {
      "text/plain": [
       "tensor([[0, 1, 2],\n",
       "        [3, 4, 5]])"
      ]
     },
     "execution_count": null,
     "metadata": {},
     "output_type": "execute_result"
    }
   ],
   "source": [
    "x2"
   ]
  },
  {
   "cell_type": "markdown",
   "id": "65ee7da4-a569-4a05-9021-011ebe204e4b",
   "metadata": {},
   "source": [
    "Use `[]`"
   ]
  },
  {
   "cell_type": "code",
   "execution_count": null,
   "id": "2e3b2c01-37ba-457c-ae73-694610e3390e",
   "metadata": {},
   "outputs": [],
   "source": [
    "s3 = Slice([1, 2])"
   ]
  },
  {
   "cell_type": "code",
   "execution_count": null,
   "id": "c2335263-e867-4bdf-a3bd-a8052a170a32",
   "metadata": {},
   "outputs": [],
   "source": [
    "x3 = s3.apply(x)"
   ]
  },
  {
   "cell_type": "code",
   "execution_count": null,
   "id": "6a8b5ae2-80b5-4109-995a-a1553f014509",
   "metadata": {},
   "outputs": [
    {
     "data": {
      "text/plain": [
       "tensor([[3, 4, 5],\n",
       "        [6, 7, 8]])"
      ]
     },
     "execution_count": null,
     "metadata": {},
     "output_type": "execute_result"
    }
   ],
   "source": [
    "x3"
   ]
  },
  {
   "cell_type": "markdown",
   "id": "91ffd82e-4859-424f-924c-8ae8ab204b18",
   "metadata": {},
   "source": [
    "##### Example 2"
   ]
  },
  {
   "cell_type": "code",
   "execution_count": null,
   "id": "32d65939-61f9-4c09-8cac-1f5316417273",
   "metadata": {},
   "outputs": [],
   "source": [
    "per_layer_residual, labels = cache.decompose_resid(layer=3, return_labels=True)"
   ]
  },
  {
   "cell_type": "code",
   "execution_count": null,
   "id": "b3462afa-e912-4812-8633-608c66c4dd10",
   "metadata": {},
   "outputs": [],
   "source": [
    "import torch"
   ]
  },
  {
   "cell_type": "code",
   "execution_count": null,
   "id": "62dda5bf-834c-40bc-b9b0-b87593e0646d",
   "metadata": {},
   "outputs": [
    {
     "data": {
      "text/plain": [
       "transformer_lens.ActivationCache.ActivationCache"
      ]
     },
     "execution_count": null,
     "metadata": {},
     "output_type": "execute_result"
    }
   ],
   "source": [
    "type(cache)"
   ]
  },
  {
   "cell_type": "code",
   "execution_count": null,
   "id": "327a2b8d-fe53-4f8b-9aa5-d35f2ba85ef0",
   "metadata": {},
   "outputs": [
    {
     "data": {
      "text/plain": [
       "torch.Size([8, 8, 15, 768])"
      ]
     },
     "execution_count": null,
     "metadata": {},
     "output_type": "execute_result"
    }
   ],
   "source": [
    "per_layer_residual.shape"
   ]
  },
  {
   "cell_type": "markdown",
   "id": "fceac56b-4751-43e0-9d61-88b9479b095c",
   "metadata": {},
   "source": [
    "Decompose the residual stream of each layer from `0` to `3` from scratch"
   ]
  },
  {
   "cell_type": "code",
   "execution_count": null,
   "id": "207a8641-f214-4766-b758-baeb3d8956ff",
   "metadata": {},
   "outputs": [],
   "source": [
    "from transformer_lens import utils"
   ]
  },
  {
   "cell_type": "code",
   "execution_count": null,
   "id": "59adfe4d-37cb-4d2a-9a8a-1715240172f8",
   "metadata": {},
   "outputs": [],
   "source": [
    "components = []"
   ]
  },
  {
   "cell_type": "code",
   "execution_count": null,
   "id": "c01b2fce-6a7f-44ec-80c5-5ae862b8ded6",
   "metadata": {},
   "outputs": [],
   "source": [
    "text_embeddings = cache[\"hook_embed\"]"
   ]
  },
  {
   "cell_type": "code",
   "execution_count": null,
   "id": "8fc67176-6ee1-437b-87f8-9a7929cb8071",
   "metadata": {},
   "outputs": [],
   "source": [
    "positional_embeddings = cache[\"hook_pos_embed\"]"
   ]
  },
  {
   "cell_type": "code",
   "execution_count": null,
   "id": "69346748-0e1c-4d38-9094-1138dd774e7f",
   "metadata": {},
   "outputs": [],
   "source": [
    "components.append(text_embeddings)\n",
    "components.append(positional_embeddings)"
   ]
  },
  {
   "cell_type": "code",
   "execution_count": null,
   "id": "369b6863-2a98-4992-b2c5-12d2adc26e58",
   "metadata": {},
   "outputs": [],
   "source": [
    "n_layers = 3"
   ]
  },
  {
   "cell_type": "code",
   "execution_count": null,
   "id": "13dd42e0-2e09-4f03-9ff8-14be5f45e97d",
   "metadata": {},
   "outputs": [],
   "source": [
    "for i in range(n_layers):\n",
    "    attn_out_name = utils.get_act_name(\"attn_out\", i)\n",
    "    mlp_out_name = utils.get_act_name(\"mlp_out\", i)\n",
    "    components.append(cache[attn_out_name])\n",
    "    components.append(cache[mlp_out_name])"
   ]
  },
  {
   "cell_type": "code",
   "execution_count": null,
   "id": "6ad723e1-0077-459d-90e6-2928e7ae506c",
   "metadata": {},
   "outputs": [],
   "source": [
    "components = torch.stack(components, dim=0)"
   ]
  },
  {
   "cell_type": "code",
   "execution_count": null,
   "id": "58879073-69f2-4ec6-a3aa-ca6e472ac5dc",
   "metadata": {},
   "outputs": [
    {
     "data": {
      "text/plain": [
       "torch.Size([8, 8, 15, 768])"
      ]
     },
     "execution_count": null,
     "metadata": {},
     "output_type": "execute_result"
    }
   ],
   "source": [
    "components.shape"
   ]
  },
  {
   "cell_type": "code",
   "execution_count": null,
   "id": "9b08fc6b-ee4f-48c8-8c70-d443346dc620",
   "metadata": {},
   "outputs": [
    {
     "data": {
      "text/plain": [
       "True"
      ]
     },
     "execution_count": null,
     "metadata": {},
     "output_type": "execute_result"
    }
   ],
   "source": [
    "torch.allclose(per_layer_residual, components)"
   ]
  },
  {
   "cell_type": "markdown",
   "id": "6bbff82f-2457-4bac-8c03-08e73dcab861",
   "metadata": {},
   "source": [
    "##### Example 3"
   ]
  },
  {
   "cell_type": "code",
   "execution_count": null,
   "id": "fc6b9e01-763f-47b0-9f2c-aff9bdc9a226",
   "metadata": {},
   "outputs": [
    {
     "data": {
      "text/plain": [
       "8"
      ]
     },
     "execution_count": null,
     "metadata": {},
     "output_type": "execute_result"
    }
   ],
   "source": [
    "len(tokens)"
   ]
  },
  {
   "cell_type": "code",
   "execution_count": null,
   "id": "96625eff-ff4e-4354-8553-34521d5ff452",
   "metadata": {},
   "outputs": [
    {
     "data": {
      "text/plain": [
       "transformer_lens.ActivationCache.ActivationCache"
      ]
     },
     "execution_count": null,
     "metadata": {},
     "output_type": "execute_result"
    }
   ],
   "source": [
    "type(cache)"
   ]
  },
  {
   "cell_type": "markdown",
   "id": "516303f8-01bd-49c5-8780-de88d2b373e0",
   "metadata": {},
   "source": [
    "`per_layer_residual` contains the residual stream of each layer"
   ]
  },
  {
   "cell_type": "code",
   "execution_count": null,
   "id": "ea4d1cb5-ce87-4c99-9c48-0464a15a68ad",
   "metadata": {},
   "outputs": [
    {
     "data": {
      "text/plain": [
       "torch.Size([8, 8, 15, 768])"
      ]
     },
     "execution_count": null,
     "metadata": {},
     "output_type": "execute_result"
    }
   ],
   "source": [
    "per_layer_residual.shape"
   ]
  },
  {
   "cell_type": "code",
   "execution_count": null,
   "id": "15ddeb3b-957a-4774-b802-f5f17a2ef789",
   "metadata": {},
   "outputs": [],
   "source": [
    "scaled_per_layer_residual = cache.apply_ln_to_stack(per_layer_residual)"
   ]
  },
  {
   "cell_type": "code",
   "execution_count": null,
   "id": "a6f42538-e4b3-43fd-b5af-eaf209ef73bf",
   "metadata": {},
   "outputs": [
    {
     "data": {
      "text/plain": [
       "torch.Size([8, 8, 15, 768])"
      ]
     },
     "execution_count": null,
     "metadata": {},
     "output_type": "execute_result"
    }
   ],
   "source": [
    "scaled_per_layer_residual.shape"
   ]
  },
  {
   "cell_type": "code",
   "execution_count": null,
   "id": "a3b11836-969e-4ada-b074-c5c1c100b7b9",
   "metadata": {},
   "outputs": [
    {
     "data": {
      "text/plain": [
       "tensor(3.7350e-10)"
      ]
     },
     "execution_count": null,
     "metadata": {},
     "output_type": "execute_result"
    }
   ],
   "source": [
    "scaled_per_layer_residual.mean()"
   ]
  },
  {
   "cell_type": "code",
   "execution_count": null,
   "id": "71b88841-8c2e-410a-8527-ed4283f4951b",
   "metadata": {},
   "outputs": [],
   "source": [
    "mean = per_layer_residual.mean(dim=-1, keepdim=True)"
   ]
  },
  {
   "cell_type": "code",
   "execution_count": null,
   "id": "afc879bd-7c9d-4b9d-a9bb-fb262e444884",
   "metadata": {},
   "outputs": [],
   "source": [
    "scale = cache[\"blocks.3.ln1.hook_scale\"]"
   ]
  },
  {
   "cell_type": "code",
   "execution_count": null,
   "id": "0b635263-9aff-4db2-b6c5-3b06dddc9cf0",
   "metadata": {},
   "outputs": [],
   "source": [
    "_scaled_per_layer_residual = (per_layer_residual - mean) / scale  "
   ]
  },
  {
   "cell_type": "code",
   "execution_count": null,
   "id": "7763f143-7978-4f8b-93d4-b47b6965dddc",
   "metadata": {},
   "outputs": [
    {
     "data": {
      "text/plain": [
       "False"
      ]
     },
     "execution_count": null,
     "metadata": {},
     "output_type": "execute_result"
    }
   ],
   "source": [
    "torch.allclose(scaled_per_layer_residual, _scaled_per_layer_residual, rtol=1)"
   ]
  },
  {
   "cell_type": "markdown",
   "id": "b5ca594f-44d8-45eb-bc4b-54c0a38ea0b0",
   "metadata": {},
   "source": [
    "##### Example 4"
   ]
  },
  {
   "cell_type": "code",
   "execution_count": null,
   "id": "43453a66-fd7a-4060-afda-33e5f9d9e0f8",
   "metadata": {},
   "outputs": [],
   "source": [
    "## final_residual_stream = cache[\"resid_post\", -1]"
   ]
  },
  {
   "cell_type": "code",
   "execution_count": null,
   "id": "74b7903a-ca2f-4332-b2c6-42c64f2b49df",
   "metadata": {},
   "outputs": [
    {
     "data": {
      "text/plain": [
       "8"
      ]
     },
     "execution_count": null,
     "metadata": {},
     "output_type": "execute_result"
    }
   ],
   "source": [
    "len(tokens)"
   ]
  },
  {
   "cell_type": "code",
   "execution_count": null,
   "id": "2928296e-5676-4ea1-b16d-53fdf9b4897b",
   "metadata": {},
   "outputs": [],
   "source": [
    "final_residual_stream = cache[\"blocks.11.hook_resid_post\"]"
   ]
  },
  {
   "cell_type": "code",
   "execution_count": null,
   "id": "b3d55bda-f9be-42e6-ac45-c4b328db6d3c",
   "metadata": {},
   "outputs": [
    {
     "data": {
      "text/plain": [
       "torch.Size([8, 15, 768])"
      ]
     },
     "execution_count": null,
     "metadata": {},
     "output_type": "execute_result"
    }
   ],
   "source": [
    "final_residual_stream.shape"
   ]
  },
  {
   "cell_type": "code",
   "execution_count": null,
   "id": "f662482c-bf13-449d-8ee5-394fd631c25c",
   "metadata": {},
   "outputs": [],
   "source": [
    "final_token_residual_stream = final_residual_stream[:, -1, :]"
   ]
  },
  {
   "cell_type": "code",
   "execution_count": null,
   "id": "632389d9-f5e1-43f0-8e47-ed13ade5d4cd",
   "metadata": {},
   "outputs": [],
   "source": [
    "from transformer_lens.utils import get_act_name"
   ]
  },
  {
   "cell_type": "code",
   "execution_count": null,
   "id": "831384eb-b162-4626-b9e8-f912d0bdb362",
   "metadata": {},
   "outputs": [],
   "source": [
    "hook_name = get_act_name(\"resid_post\", 11)"
   ]
  },
  {
   "cell_type": "code",
   "execution_count": null,
   "id": "01640f80-1686-4de8-afc6-d5f715c0928f",
   "metadata": {},
   "outputs": [],
   "source": [
    "_text = \"Persistence is all you need\""
   ]
  },
  {
   "cell_type": "code",
   "execution_count": null,
   "id": "91f97295-0306-42fc-80cc-19d615540aec",
   "metadata": {},
   "outputs": [],
   "source": [
    "_tokens = model.to_tokens(_text)"
   ]
  },
  {
   "cell_type": "code",
   "execution_count": null,
   "id": "a3cb85a4-4995-4927-9fb3-56b93ca91f4a",
   "metadata": {},
   "outputs": [
    {
     "data": {
      "text/plain": [
       "tensor([[50256, 30946, 13274,   318,   477,   345,   761]])"
      ]
     },
     "execution_count": null,
     "metadata": {},
     "output_type": "execute_result"
    }
   ],
   "source": [
    "_tokens"
   ]
  },
  {
   "cell_type": "code",
   "execution_count": null,
   "id": "e51849b8-a8c2-4d6c-b565-362ada02d4d1",
   "metadata": {},
   "outputs": [],
   "source": [
    "_original_logits, _cache = model.run_with_cache(_tokens)"
   ]
  },
  {
   "cell_type": "code",
   "execution_count": null,
   "id": "7835b7a0-acb9-4126-bc40-14db0d84b01f",
   "metadata": {},
   "outputs": [],
   "source": [
    "hook_name = \"blocks.11.hook_resid_post\""
   ]
  },
  {
   "cell_type": "code",
   "execution_count": null,
   "id": "46683222-9b26-46f8-baaf-1fa8483558b4",
   "metadata": {},
   "outputs": [],
   "source": [
    "_final_residual_stream = _cache[\"resid_post\", -1]"
   ]
  },
  {
   "cell_type": "code",
   "execution_count": null,
   "id": "2e769dd6-346d-4224-b696-91eaf9ca265a",
   "metadata": {},
   "outputs": [
    {
     "data": {
      "text/plain": [
       "torch.Size([1, 7, 768])"
      ]
     },
     "execution_count": null,
     "metadata": {},
     "output_type": "execute_result"
    }
   ],
   "source": [
    "_final_residual_stream.shape"
   ]
  },
  {
   "cell_type": "code",
   "execution_count": null,
   "id": "9530933d-432f-44d1-b181-d961cc50fc72",
   "metadata": {},
   "outputs": [],
   "source": [
    "_final_token_residual_stream = _final_residual_stream[:, -1, :]"
   ]
  },
  {
   "cell_type": "code",
   "execution_count": null,
   "id": "e80a78c4-1cb2-4538-8393-8251b14b214f",
   "metadata": {},
   "outputs": [],
   "source": [
    "_scaled_final_token_residual_stream = _cache.apply_ln_to_stack(\n",
    "    _final_token_residual_stream,\n",
    "    layer=-1,\n",
    "    pos_slice=-1\n",
    ")"
   ]
  },
  {
   "cell_type": "code",
   "execution_count": null,
   "id": "52c6075d-6748-4983-8df9-e5afeb89d190",
   "metadata": {},
   "outputs": [
    {
     "data": {
      "text/plain": [
       "torch.Size([1, 768])"
      ]
     },
     "execution_count": null,
     "metadata": {},
     "output_type": "execute_result"
    }
   ],
   "source": [
    "_scaled_final_token_residual_stream.shape"
   ]
  },
  {
   "cell_type": "code",
   "execution_count": null,
   "id": "a527f03b-c146-4126-8771-4838e108a809",
   "metadata": {},
   "outputs": [],
   "source": [
    "unembed_residual_direction = model.tokens_to_residual_directions(_tokens)"
   ]
  },
  {
   "cell_type": "code",
   "execution_count": null,
   "id": "07303908-a07f-4070-a531-f31e7b0fe10b",
   "metadata": {},
   "outputs": [
    {
     "data": {
      "text/plain": [
       "torch.Size([1, 7, 768])"
      ]
     },
     "execution_count": null,
     "metadata": {},
     "output_type": "execute_result"
    }
   ],
   "source": [
    "unembed_residual_direction.shape"
   ]
  },
  {
   "cell_type": "code",
   "execution_count": null,
   "id": "c3d355e4-1401-4dd8-b6bb-af74c2482202",
   "metadata": {},
   "outputs": [],
   "source": [
    "unembed_residual_direction = rearrange(unembed_residual_direction, \"1 ... -> ...\")"
   ]
  },
  {
   "cell_type": "code",
   "execution_count": null,
   "id": "3a675683-308c-4e11-9c31-124ad0e58e39",
   "metadata": {},
   "outputs": [],
   "source": [
    "import einops"
   ]
  },
  {
   "cell_type": "code",
   "execution_count": null,
   "id": "099274d8-6c32-4f48-ad06-480c2a83cfdb",
   "metadata": {},
   "outputs": [],
   "source": [
    "_logits = einops.einsum(\n",
    "    _scaled_final_token_residual_stream,\n",
    "    unembed_residual_direction,\n",
    "    \"batch d_model, batch d_model ->\"\n",
    ")"
   ]
  },
  {
   "cell_type": "code",
   "execution_count": null,
   "id": "898dee5e-28a1-4523-827b-b210bc327fb2",
   "metadata": {},
   "outputs": [
    {
     "data": {
      "text/plain": [
       "tensor(23.2501, grad_fn=<ViewBackward0>)"
      ]
     },
     "execution_count": null,
     "metadata": {},
     "output_type": "execute_result"
    }
   ],
   "source": [
    "_logits"
   ]
  },
  {
   "cell_type": "code",
   "execution_count": null,
   "id": "82d8083a-e3c6-4c2c-aa55-8de0afd32c35",
   "metadata": {},
   "outputs": [
    {
     "data": {
      "text/plain": [
       "tensor([[14.2103,  9.5496,  5.1497,  ...,  0.0399, -2.9944, 10.9542]],\n",
       "       grad_fn=<SliceBackward0>)"
      ]
     },
     "execution_count": null,
     "metadata": {},
     "output_type": "execute_result"
    }
   ],
   "source": [
    "_original_logits[:, -1, :]"
   ]
  },
  {
   "cell_type": "code",
   "execution_count": null,
   "id": "1cf33aa2-1e62-4848-8765-c36068186eba",
   "metadata": {},
   "outputs": [],
   "source": []
  }
 ],
 "metadata": {
  "kernelspec": {
   "display_name": "Python 3 (ipykernel)",
   "language": "python",
   "name": "python3"
  }
 },
 "nbformat": 4,
 "nbformat_minor": 5
}
