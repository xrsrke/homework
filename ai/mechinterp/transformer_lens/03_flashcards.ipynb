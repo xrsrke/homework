{
 "cells": [
  {
   "cell_type": "markdown",
   "id": "19b0ab86-790d-4821-b8b6-e488c44f4d53",
   "metadata": {},
   "source": [
    "##### Example 1"
   ]
  },
  {
   "cell_type": "code",
   "execution_count": null,
   "id": "cf1d73f5-d351-4992-97b1-924dafbce2c7",
   "metadata": {},
   "outputs": [],
   "source": [
    "import torch\n",
    "torch.set_grad_enabled(False)\n",
    "from transformer_lens import HookedTransformer"
   ]
  },
  {
   "cell_type": "code",
   "execution_count": null,
   "id": "1517cc87-8090-4567-a222-952b45d8dd8f",
   "metadata": {},
   "outputs": [],
   "source": [
    "model_name = \"gpt2-small\""
   ]
  },
  {
   "cell_type": "code",
   "execution_count": null,
   "id": "77edd74f-2d68-4465-814a-7a1583d054a8",
   "metadata": {},
   "outputs": [
    {
     "name": "stderr",
     "output_type": "stream",
     "text": [
      "Using pad_token, but it is not set yet.\n"
     ]
    },
    {
     "name": "stdout",
     "output_type": "stream",
     "text": [
      "Loaded pretrained model gpt2-small into HookedTransformer\n"
     ]
    }
   ],
   "source": [
    "model = HookedTransformer.from_pretrained(model_name)"
   ]
  },
  {
   "cell_type": "code",
   "execution_count": null,
   "id": "0870be2a-7110-4d97-a577-7b001d65a19f",
   "metadata": {},
   "outputs": [],
   "source": [
    "text = \"Persistence is all you need.\""
   ]
  },
  {
   "cell_type": "code",
   "execution_count": null,
   "id": "239e54c9-1513-4232-bb4e-d27ca743649f",
   "metadata": {},
   "outputs": [],
   "source": [
    "tokens = model.to_tokens(text)"
   ]
  },
  {
   "cell_type": "code",
   "execution_count": null,
   "id": "ce8f2fc7-c5f6-436c-95f9-961189e7ae4e",
   "metadata": {},
   "outputs": [],
   "source": [
    "layer_idx = 3"
   ]
  },
  {
   "cell_type": "code",
   "execution_count": null,
   "id": "0a79655c-4cd5-4713-b2ee-166b2ba8ef7e",
   "metadata": {},
   "outputs": [],
   "source": [
    "neuron_idx = 69"
   ]
  },
  {
   "cell_type": "code",
   "execution_count": null,
   "id": "9a29ff2b-97de-4f16-83e6-8c9fa79e0a0a",
   "metadata": {},
   "outputs": [
    {
     "data": {
      "text/plain": [
       "'blocks.13.mlp.hook_post'"
      ]
     },
     "execution_count": null,
     "metadata": {},
     "output_type": "execute_result"
    }
   ],
   "source": [
    "hook_name"
   ]
  },
  {
   "cell_type": "code",
   "execution_count": null,
   "id": "53d7db51-70a9-432c-9e2d-41f81a5c9cd3",
   "metadata": {},
   "outputs": [],
   "source": [
    "import torch"
   ]
  },
  {
   "cell_type": "code",
   "execution_count": null,
   "id": "ac2acd79-7a5d-4d6c-bbab-535d7130582f",
   "metadata": {},
   "outputs": [
    {
     "data": {
      "text/plain": [
       "transformer_lens.HookedTransformer.HookedTransformer"
      ]
     },
     "execution_count": null,
     "metadata": {},
     "output_type": "execute_result"
    }
   ],
   "source": [
    "type(model)"
   ]
  },
  {
   "cell_type": "code",
   "execution_count": null,
   "id": "4f104433-5b38-4e71-b63d-b04b33f4ce3b",
   "metadata": {},
   "outputs": [
    {
     "data": {
      "text/plain": [
       "('Persistence is all you need.', 3, 69)"
      ]
     },
     "execution_count": null,
     "metadata": {},
     "output_type": "execute_result"
    }
   ],
   "source": [
    "text, layer_idx, neuron_idx"
   ]
  },
  {
   "cell_type": "markdown",
   "id": "df04623f-43ed-4f0a-a448-104f1ca0dc88",
   "metadata": {},
   "source": [
    "Extract the token from `text` with the highest activation in neuron `69` in layer `3`.\n",
    "\n",
    "**Hints**:\n",
    "- `blocks.{layer_idx}.mlp.hook_post`\n",
    "- `activations.shape = (batch_size, seq_len, n_neurons)`"
   ]
  },
  {
   "cell_type": "code",
   "execution_count": null,
   "id": "59c5ff7c-c7cd-47be-9442-70552689a490",
   "metadata": {},
   "outputs": [],
   "source": [
    "data = {}"
   ]
  },
  {
   "cell_type": "code",
   "execution_count": null,
   "id": "62d112ab-716a-4695-abb4-ef30291459b1",
   "metadata": {},
   "outputs": [],
   "source": [
    "def extract_neuron_activations(activations, hook):\n",
    "    data[neuron_idx] = activations[0, :, neuron_idx]\n",
    "    return activations"
   ]
  },
  {
   "cell_type": "code",
   "execution_count": null,
   "id": "38aad222-1e7b-421f-8547-72957ff89634",
   "metadata": {},
   "outputs": [],
   "source": [
    "hook_name = f\"blocks.{layer_idx}.mlp.hook_post\""
   ]
  },
  {
   "cell_type": "code",
   "execution_count": null,
   "id": "f561f804-e5a3-42cc-a6ec-6aaa512a13cc",
   "metadata": {},
   "outputs": [],
   "source": [
    "_ = model.run_with_hooks(\n",
    "    tokens,\n",
    "    fwd_hooks=[(hook_name, extract_neuron_activations)]\n",
    ")"
   ]
  },
  {
   "cell_type": "code",
   "execution_count": null,
   "id": "1ac686bf-155b-4685-aece-ed106edfac94",
   "metadata": {},
   "outputs": [
    {
     "data": {
      "text/plain": [
       "True"
      ]
     },
     "execution_count": null,
     "metadata": {},
     "output_type": "execute_result"
    }
   ],
   "source": [
    "len(data[neuron_idx]) == len(tokens[0])"
   ]
  },
  {
   "cell_type": "code",
   "execution_count": null,
   "id": "6b9f902d-5bbf-45e3-a7ab-23cd45eba98c",
   "metadata": {},
   "outputs": [],
   "source": [
    "highest_activation_idx = torch.argmax(data[neuron_idx], dim=-1)"
   ]
  },
  {
   "cell_type": "code",
   "execution_count": null,
   "id": "f1cf4f57-58a3-4ee3-b221-9f40f3c71f99",
   "metadata": {},
   "outputs": [
    {
     "data": {
      "text/plain": [
       "tensor(5)"
      ]
     },
     "execution_count": null,
     "metadata": {},
     "output_type": "execute_result"
    }
   ],
   "source": [
    "highest_activation_idx"
   ]
  },
  {
   "cell_type": "code",
   "execution_count": null,
   "id": "2b40ccc6-b63f-4836-bd02-91e10b49a16d",
   "metadata": {},
   "outputs": [],
   "source": [
    "token_with_highest_activation = tokens[0][highest_activation_idx]"
   ]
  },
  {
   "cell_type": "code",
   "execution_count": null,
   "id": "87f36a2e-e9af-40dc-88ee-1644b5b999da",
   "metadata": {},
   "outputs": [
    {
     "data": {
      "text/plain": [
       "' you'"
      ]
     },
     "execution_count": null,
     "metadata": {},
     "output_type": "execute_result"
    }
   ],
   "source": [
    "model.to_string(token_with_highest_activation)"
   ]
  },
  {
   "cell_type": "code",
   "execution_count": null,
   "id": "8b0113fc-6b9e-48c0-bdce-eefb14c261ba",
   "metadata": {},
   "outputs": [],
   "source": []
  },
  {
   "cell_type": "code",
   "execution_count": null,
   "id": "9fdf7f70-0fa7-49a9-917f-3e95ecfab8a9",
   "metadata": {},
   "outputs": [],
   "source": []
  }
 ],
 "metadata": {
  "kernelspec": {
   "display_name": "Python 3 (ipykernel)",
   "language": "python",
   "name": "python3"
  }
 },
 "nbformat": 4,
 "nbformat_minor": 5
}
