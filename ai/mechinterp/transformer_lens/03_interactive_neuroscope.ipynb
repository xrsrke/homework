{
 "cells": [
  {
   "cell_type": "code",
   "execution_count": null,
   "id": "aed5e42c-0f59-4535-a932-236725c4d142",
   "metadata": {},
   "outputs": [],
   "source": [
    "import torch\n",
    "from transformer_lens import HookedTransformer"
   ]
  },
  {
   "cell_type": "code",
   "execution_count": null,
   "id": "7c1bb079-82d0-471c-8ccb-3d2e89e5596c",
   "metadata": {},
   "outputs": [],
   "source": []
  },
  {
   "cell_type": "code",
   "execution_count": null,
   "id": "f7293e13-c60c-405e-8fff-6684b09b8cf5",
   "metadata": {},
   "outputs": [],
   "source": [
    "model_name = \"gpt2-small\""
   ]
  },
  {
   "cell_type": "code",
   "execution_count": null,
   "id": "02823f8f-96f7-49fd-86a5-dfc9e037237a",
   "metadata": {},
   "outputs": [
    {
     "name": "stderr",
     "output_type": "stream",
     "text": [
      "Using pad_token, but it is not set yet.\n"
     ]
    },
    {
     "name": "stdout",
     "output_type": "stream",
     "text": [
      "Loaded pretrained model gpt2-small into HookedTransformer\n"
     ]
    }
   ],
   "source": [
    "model = HookedTransformer.from_pretrained(model_name)"
   ]
  },
  {
   "cell_type": "code",
   "execution_count": null,
   "id": "013778a5-dea6-410d-a5b6-8f0b11829bfa",
   "metadata": {},
   "outputs": [],
   "source": [
    "text = \"Persistence is all you need.\""
   ]
  },
  {
   "cell_type": "code",
   "execution_count": null,
   "id": "9583fd4b-b71b-4eb2-a3c2-832241192fc4",
   "metadata": {},
   "outputs": [],
   "source": [
    "tokens = model.to_tokens(text)"
   ]
  },
  {
   "cell_type": "code",
   "execution_count": null,
   "id": "c9eb587f-afd5-422d-af9f-1e23f1dd3463",
   "metadata": {},
   "outputs": [],
   "source": [
    "layer_idx = 5"
   ]
  },
  {
   "cell_type": "code",
   "execution_count": null,
   "id": "a2903e49-f9f1-4dfb-b54b-8cbd4324279a",
   "metadata": {},
   "outputs": [],
   "source": [
    "hook_name = f\"blocks.{layer_idx}.mlp.hook_post\""
   ]
  },
  {
   "cell_type": "code",
   "execution_count": null,
   "id": "eecd907b-df6a-48d5-a26c-7984c59cc3ec",
   "metadata": {},
   "outputs": [
    {
     "data": {
      "text/plain": [
       "'blocks.5.mlp.hook_post'"
      ]
     },
     "execution_count": null,
     "metadata": {},
     "output_type": "execute_result"
    }
   ],
   "source": [
    "hook_name"
   ]
  },
  {
   "cell_type": "code",
   "execution_count": null,
   "id": "3d8b3b36-3e83-4c12-b98c-b529f9357d09",
   "metadata": {},
   "outputs": [],
   "source": [
    "neuron_idx = 69"
   ]
  },
  {
   "cell_type": "code",
   "execution_count": null,
   "id": "0278042f-614d-4956-afb0-b735ef3fb12d",
   "metadata": {},
   "outputs": [],
   "source": [
    "data = {}"
   ]
  },
  {
   "cell_type": "code",
   "execution_count": null,
   "id": "1704ab05-e6c0-4706-a81c-8ab3a2b0c615",
   "metadata": {},
   "outputs": [],
   "source": [
    "def extract_neuron_activations(activations, hook):\n",
    "    data[neuron_idx] = activations[0, :, neuron_idx]"
   ]
  },
  {
   "cell_type": "code",
   "execution_count": null,
   "id": "b4ef5c8a-1baa-4647-87e2-6b2f0ac95d3f",
   "metadata": {},
   "outputs": [
    {
     "data": {
      "text/plain": [
       "tensor([[[ 7.5261, 11.1214,  7.8919,  ..., -3.1299, -3.3873,  8.5934],\n",
       "         [ 6.3962,  6.0893,  6.0521,  ..., -3.3194, -0.5072,  6.5360],\n",
       "         [ 8.0245,  7.7646,  4.6394,  ...,  0.1208, -1.8702,  7.4245],\n",
       "         ...,\n",
       "         [10.2149,  8.6666,  4.2207,  ..., -0.3945,  1.1358,  7.1683],\n",
       "         [14.2103,  9.5496,  5.1497,  ...,  0.0398, -2.9944, 10.9542],\n",
       "         [ 6.4662,  6.7627,  5.9793,  ..., -3.8179, -6.1429, 15.3217]]],\n",
       "       grad_fn=<AddBackward0>)"
      ]
     },
     "execution_count": null,
     "metadata": {},
     "output_type": "execute_result"
    }
   ],
   "source": [
    "model.run_with_hooks(\n",
    "    tokens,\n",
    "    fwd_hooks=[(hook_name, extract_neuron_activations)]\n",
    ")"
   ]
  },
  {
   "cell_type": "code",
   "execution_count": null,
   "id": "6b9be1c1-ff7f-45ba-aa9a-19e5e1c505e9",
   "metadata": {},
   "outputs": [
    {
     "data": {
      "text/plain": [
       "8"
      ]
     },
     "execution_count": null,
     "metadata": {},
     "output_type": "execute_result"
    }
   ],
   "source": [
    "len(cache[69])"
   ]
  },
  {
   "cell_type": "code",
   "execution_count": null,
   "id": "493baab1-df3d-42b0-8bd4-1c3154360434",
   "metadata": {},
   "outputs": [
    {
     "data": {
      "text/plain": [
       "8"
      ]
     },
     "execution_count": null,
     "metadata": {},
     "output_type": "execute_result"
    }
   ],
   "source": [
    "len(tokens[0])"
   ]
  },
  {
   "cell_type": "code",
   "execution_count": null,
   "id": "cf8b53ad-5a2b-4688-ba1b-b67b67ba5b83",
   "metadata": {},
   "outputs": [
    {
     "data": {
      "text/plain": [
       "tensor([ 0.1946, -0.1488,  0.0358, -0.1635,  0.0136,  0.0902,  0.4426,  0.0478],\n",
       "       grad_fn=<SelectBackward0>)"
      ]
     },
     "execution_count": null,
     "metadata": {},
     "output_type": "execute_result"
    }
   ],
   "source": [
    "data[neuron_idx]"
   ]
  },
  {
   "cell_type": "code",
   "execution_count": null,
   "id": "1721e50c-200e-47cf-a4be-17643c4e1e0f",
   "metadata": {},
   "outputs": [],
   "source": [
    "high_activation_idx = torch.argmax(data[neuron_idx], dim=-1)"
   ]
  },
  {
   "cell_type": "code",
   "execution_count": null,
   "id": "31f68281-93a3-4d7a-becc-63ba66ab8ad1",
   "metadata": {},
   "outputs": [
    {
     "data": {
      "text/plain": [
       "tensor(6)"
      ]
     },
     "execution_count": null,
     "metadata": {},
     "output_type": "execute_result"
    }
   ],
   "source": [
    "high_activation_idx"
   ]
  },
  {
   "cell_type": "code",
   "execution_count": null,
   "id": "78df7b59-0d12-4e80-a85b-25aa4d5a7f3e",
   "metadata": {},
   "outputs": [],
   "source": [
    "word_with_high_activation = tokens[0][high_activation_idx]"
   ]
  },
  {
   "cell_type": "code",
   "execution_count": null,
   "id": "640d797c-332f-46f2-95f7-da842312122b",
   "metadata": {},
   "outputs": [
    {
     "data": {
      "text/plain": [
       "' need'"
      ]
     },
     "execution_count": null,
     "metadata": {},
     "output_type": "execute_result"
    }
   ],
   "source": [
    "model.to_string(word_with_high_activation)"
   ]
  },
  {
   "cell_type": "code",
   "execution_count": null,
   "id": "398e5d47-f623-4e55-89da-f5fdebeaa148",
   "metadata": {},
   "outputs": [],
   "source": []
  },
  {
   "cell_type": "code",
   "execution_count": null,
   "id": "68701ffc-3ed5-4a05-848f-c3f9aeafc464",
   "metadata": {},
   "outputs": [],
   "source": []
  }
 ],
 "metadata": {
  "kernelspec": {
   "display_name": "Python 3 (ipykernel)",
   "language": "python",
   "name": "python3"
  }
 },
 "nbformat": 4,
 "nbformat_minor": 5
}
