{
 "cells": [
  {
   "cell_type": "code",
   "execution_count": null,
   "id": "4842db04-6eaa-4d90-9767-07b4072ea23a",
   "metadata": {},
   "outputs": [
    {
     "name": "stdout",
     "output_type": "stream",
     "text": [
      "The autoreload extension is already loaded. To reload it, use:\n",
      "  %reload_ext autoreload\n"
     ]
    },
    {
     "name": "stderr",
     "output_type": "stream",
     "text": [
      "/var/folders/pf/g3nr86yn4j71vzzmv6knwdhr0000gp/T/ipykernel_6540/4115428919.py:5: DeprecationWarning: `magic(...)` is deprecated since IPython 0.13 (warning added in 8.1), use run_line_magic(magic_name, parameter_s).\n",
      "  ipython.magic(\"load_ext autoreload\")\n",
      "/var/folders/pf/g3nr86yn4j71vzzmv6knwdhr0000gp/T/ipykernel_6540/4115428919.py:6: DeprecationWarning: `magic(...)` is deprecated since IPython 0.13 (warning added in 8.1), use run_line_magic(magic_name, parameter_s).\n",
      "  ipython.magic(\"autoreload 2\")\n"
     ]
    }
   ],
   "source": [
    "from IPython import get_ipython\n",
    "\n",
    "ipython = get_ipython()\n",
    "# Code to automatically update the HookedTransformer code as its edited without restarting the kernel\n",
    "ipython.magic(\"load_ext autoreload\")\n",
    "ipython.magic(\"autoreload 2\")"
   ]
  },
  {
   "cell_type": "code",
   "execution_count": null,
   "id": "737e9d53-f4d3-4e44-aa89-9f909e607048",
   "metadata": {},
   "outputs": [
    {
     "data": {
      "text/plain": [
       "<torch.autograd.grad_mode.set_grad_enabled>"
      ]
     },
     "execution_count": null,
     "metadata": {},
     "output_type": "execute_result"
    }
   ],
   "source": [
    "# Import stuff\n",
    "import torch\n",
    "import torch.nn as nn\n",
    "import torch.nn.functional as F\n",
    "import torch.optim as optim\n",
    "import numpy as np\n",
    "import einops\n",
    "from fancy_einsum import einsum\n",
    "import tqdm.notebook as tqdm\n",
    "import random\n",
    "from pathlib import Path\n",
    "import plotly.express as px\n",
    "from torch.utils.data import DataLoader\n",
    "\n",
    "from jaxtyping import Float, Int\n",
    "from typing import List, Union, Optional\n",
    "from functools import partial\n",
    "import copy\n",
    "\n",
    "import itertools\n",
    "from transformers import AutoModelForCausalLM, AutoConfig, AutoTokenizer\n",
    "import dataclasses\n",
    "import datasets\n",
    "from IPython.display import HTML\n",
    "\n",
    "torch.set_grad_enabled(False)"
   ]
  },
  {
   "cell_type": "code",
   "execution_count": null,
   "id": "1b0e4b84-cc71-4805-b74f-928d04f7919b",
   "metadata": {},
   "outputs": [],
   "source": [
    "import pysvelte\n",
    "\n",
    "import transformer_lens\n",
    "import transformer_lens.utils as utils\n",
    "from transformer_lens.hook_points import (\n",
    "    HookedRootModule,\n",
    "    HookPoint,\n",
    ")  # Hooking utilities\n",
    "from transformer_lens import HookedTransformer, HookedTransformerConfig, FactoredMatrix, ActivationCache"
   ]
  },
  {
   "cell_type": "code",
   "execution_count": null,
   "id": "4114ce77-443e-4aa2-ac5c-d1bd061ed0ac",
   "metadata": {},
   "outputs": [],
   "source": [
    "def imshow(tensor, renderer=None, **kwargs):\n",
    "    px.imshow(utils.to_numpy(tensor), color_continuous_midpoint=0.0, color_continuous_scale=\"RdBu\", **kwargs).show(renderer)\n",
    "\n",
    "def line(tensor, renderer=None, **kwargs):\n",
    "    px.line(y=utils.to_numpy(tensor), **kwargs).show(renderer)\n",
    "\n",
    "def scatter(x, y, xaxis=\"\", yaxis=\"\", caxis=\"\", renderer=None, **kwargs):\n",
    "    x = utils.to_numpy(x)\n",
    "    y = utils.to_numpy(y)\n",
    "    px.scatter(y=y, x=x, labels={\"x\":xaxis, \"y\":yaxis, \"color\":caxis}, **kwargs).show(renderer)"
   ]
  },
  {
   "cell_type": "markdown",
   "id": "bc2d39de-d1c7-45f2-a279-e932637092d6",
   "metadata": {},
   "source": [
    "### Indirect Object Identification\n"
   ]
  },
  {
   "cell_type": "code",
   "execution_count": null,
   "id": "fc7e1ab7-363e-4626-87a8-c9dbacfcbced",
   "metadata": {},
   "outputs": [
    {
     "name": "stderr",
     "output_type": "stream",
     "text": [
      "Using pad_token, but it is not set yet.\n"
     ]
    },
    {
     "name": "stdout",
     "output_type": "stream",
     "text": [
      "Loaded pretrained model gpt2-small into HookedTransformer\n"
     ]
    }
   ],
   "source": [
    "model = HookedTransformer.from_pretrained(\n",
    "    \"gpt2-small\",\n",
    "    center_unembed=True,\n",
    "    center_writing_weights=True,\n",
    "    fold_ln=True,\n",
    "    refactor_factored_attn_matrices=True\n",
    ")"
   ]
  },
  {
   "cell_type": "markdown",
   "id": "ee4e567d-e3ed-4f36-8553-1c86f16d4414",
   "metadata": {},
   "source": [
    "##### Example 2"
   ]
  },
  {
   "cell_type": "code",
   "execution_count": null,
   "id": "ac82f80c-2d66-4612-85fc-26c0179219ed",
   "metadata": {},
   "outputs": [],
   "source": [
    "clean_prompt = \"John said to Mary, 'Persistence is all you need.' Mary replied to \""
   ]
  },
  {
   "cell_type": "code",
   "execution_count": null,
   "id": "bdcefcb3-d674-4e90-b5cc-da51dfea9711",
   "metadata": {},
   "outputs": [],
   "source": [
    "corrupted_prompt = \"John said to Mary, 'Persistence is all you need.' John replied to \""
   ]
  },
  {
   "cell_type": "code",
   "execution_count": null,
   "id": "fdda9687-e49d-4fcd-a296-f821a99eb661",
   "metadata": {},
   "outputs": [],
   "source": [
    "n_layers = model.cfg.n_layers"
   ]
  },
  {
   "cell_type": "code",
   "execution_count": null,
   "id": "cee18c23-9084-4471-a198-d199064832fa",
   "metadata": {},
   "outputs": [],
   "source": [
    "import torch\n",
    "from transformer_lens import utils"
   ]
  },
  {
   "cell_type": "code",
   "execution_count": null,
   "id": "0d6f255c-98cd-4dab-bc91-68eb587e1302",
   "metadata": {},
   "outputs": [
    {
     "data": {
      "text/plain": [
       "(transformer_lens.HookedTransformer.HookedTransformer, 12, True)"
      ]
     },
     "execution_count": null,
     "metadata": {},
     "output_type": "execute_result"
    }
   ],
   "source": [
    "type(model), n_layers, len(clean_prompt) == len(corrupted_prompt)"
   ]
  },
  {
   "cell_type": "code",
   "execution_count": null,
   "id": "1d73caa4-0e79-4acd-9dad-d248b014b3ac",
   "metadata": {},
   "outputs": [
    {
     "data": {
      "text/plain": [
       "\"John said to Mary, 'Persistence is all you need.' Mary replied to \""
      ]
     },
     "execution_count": null,
     "metadata": {},
     "output_type": "execute_result"
    }
   ],
   "source": [
    "clean_prompt"
   ]
  },
  {
   "cell_type": "code",
   "execution_count": null,
   "id": "45b47a0a-0167-45a4-86a2-d6032dd2bf36",
   "metadata": {},
   "outputs": [
    {
     "data": {
      "text/plain": [
       "\"John said to Mary, 'Persistence is all you need.' John replied to \""
      ]
     },
     "execution_count": null,
     "metadata": {},
     "output_type": "execute_result"
    }
   ],
   "source": [
    "corrupted_prompt"
   ]
  },
  {
   "cell_type": "markdown",
   "id": "6030a7bc-a83f-4d91-9b54-54e30624c235",
   "metadata": {},
   "source": [
    "Implement activation patching in the pre-residual stream for each layer and position, then compute the logit difference of the patched activation +Don't normalize the logit difference. Explain your code. \n",
    "\n",
    "**Hint**: `resid_pre`"
   ]
  },
  {
   "cell_type": "code",
   "execution_count": null,
   "id": "987bea59-14f9-4c08-bc11-bbe3cc8a8c0e",
   "metadata": {},
   "outputs": [],
   "source": [
    "clean_tokens = model.to_tokens(clean_prompt, prepend_bos=True)\n",
    "corrupted_tokens = model.to_tokens(corrupted_prompt, prepend_bos=True)"
   ]
  },
  {
   "cell_type": "code",
   "execution_count": null,
   "id": "8cbe96fc-d111-488e-8834-94921f429aaf",
   "metadata": {},
   "outputs": [],
   "source": [
    "clean_logits, clean_activations = model.run_with_cache(clean_tokens)"
   ]
  },
  {
   "cell_type": "code",
   "execution_count": null,
   "id": "982c32cd-8e15-4a2a-80d5-0c2c2535e73d",
   "metadata": {},
   "outputs": [],
   "source": [
    "n_tokens = clean_tokens.shape[-1]"
   ]
  },
  {
   "cell_type": "markdown",
   "id": "a8eab105-0ef1-4718-8297-1aa8282d68a9",
   "metadata": {},
   "source": [
    "To perform activation patching, we first create `correct_token` and `incorrect_token` with respect to the `clean_prompt`."
   ]
  },
  {
   "cell_type": "code",
   "execution_count": null,
   "id": "613b96f3-f175-48e0-b3c9-94c51be0426e",
   "metadata": {},
   "outputs": [],
   "source": [
    "correct_token = model.to_single_token(\" Mary\")\n",
    "incorrect_token = model.to_single_token(\" John\")"
   ]
  },
  {
   "cell_type": "code",
   "execution_count": null,
   "id": "d9e6e7ae-e82e-40cd-ac2d-edcda137bfff",
   "metadata": {},
   "outputs": [],
   "source": [
    "def patch_residual_stream(activations, hook, position, clean_activations):\n",
    "    activations[:, position, :] = clean_activations[hook.name][:, position, :]\n",
    "    return activations"
   ]
  },
  {
   "cell_type": "code",
   "execution_count": null,
   "id": "1d2236d3-cdfb-448c-90dd-8ab6322dfdb6",
   "metadata": {},
   "outputs": [],
   "source": [
    "def compute_logit_diff(logits, correct_token, incorrect_token):\n",
    "    last_token_logit = logits[:, -1, :]\n",
    "    logit_of_correct_token = last_token_logit[:, correct_token]\n",
    "    logit_of_incorrect_token = last_token_logit[:, incorrect_token]    \n",
    "    logit_diff = logit_of_correct_token - logit_of_incorrect_token\n",
    "    return logit_diff"
   ]
  },
  {
   "cell_type": "code",
   "execution_count": null,
   "id": "17928853-ab36-4469-bf0e-1d5ab66de55d",
   "metadata": {},
   "outputs": [],
   "source": [
    "patched_residual_stream_diff = torch.zeros(n_layers, n_tokens)"
   ]
  },
  {
   "cell_type": "markdown",
   "id": "3aabc860-96f6-46c3-b363-b676db114e5f",
   "metadata": {},
   "source": [
    "We then intervene on the corrupted run by patching in activations from the `clean_tokens` for every layer, and position (optional). After patching, we calculate the logit difference in the patched logits of the corrupted prompt."
   ]
  },
  {
   "cell_type": "code",
   "execution_count": null,
   "id": "bbcc804c-fda1-4d55-93dc-3fc09b45e668",
   "metadata": {},
   "outputs": [],
   "source": [
    "for layer in range(n_layers):\n",
    "    for position in range(n_tokens):\n",
    "        hook_fn = partial(patch_residual_stream, position=position, clean_activations=clean_activations)\n",
    "        patched_logits = model.run_with_hooks(\n",
    "            corrupted_tokens,\n",
    "            fwd_hooks=[(utils.get_act_name(\"resid_pre\", layer), hook_fn)],\n",
    "            return_type=\"logits\"\n",
    "        )\n",
    "        patched_logit_diff = compute_logit_diff(patched_logits, correct_token, incorrect_token)\n",
    "        patched_residual_stream_diff[layer][position] = patched_logit_diff"
   ]
  },
  {
   "cell_type": "code",
   "execution_count": null,
   "id": "eaa9ba31-584b-45e9-9f8b-c1676848bc2d",
   "metadata": {},
   "outputs": [
    {
     "data": {
      "text/plain": [
       "torch.Size([12, 18])"
      ]
     },
     "execution_count": null,
     "metadata": {},
     "output_type": "execute_result"
    }
   ],
   "source": [
    "patched_residual_stream_diff.shape"
   ]
  },
  {
   "cell_type": "code",
   "execution_count": null,
   "id": "338034cb-cdce-44cd-ba0b-ff407162f398",
   "metadata": {},
   "outputs": [],
   "source": [
    "prompt_position_labels = [f\"{tok}_{i}\" for i, tok in enumerate(model.to_str_tokens(clean_tokens[0]))]"
   ]
  },
  {
   "cell_type": "code",
   "execution_count": null,
   "id": "4efaf086-7c1c-4e14-954a-1faae09abbc8",
   "metadata": {},
   "outputs": [
    {
     "data": {
      "application/vnd.plotly.v1+json": {
       "config": {
        "plotlyServerURL": "https://plot.ly"
       },
       "data": [
        {
         "coloraxis": "coloraxis",
         "hovertemplate": "position: %{x}<br>layer: %{y}<br>color: %{z}<extra></extra>",
         "name": "0",
         "type": "heatmap",
         "x": [
          "<|endoftext|>_0",
          "John_1",
          " said_2",
          " to_3",
          " Mary_4",
          ",_5",
          " '_6",
          "Pers_7",
          "istence_8",
          " is_9",
          " all_10",
          " you_11",
          " need_12",
          ".'_13",
          " Mary_14",
          " replied_15",
          " to_16",
          " _17"
         ],
         "xaxis": "x",
         "yaxis": "y",
         "z": [
          [
           2.358133316040039,
           2.358133316040039,
           2.358133316040039,
           2.358133316040039,
           2.358133316040039,
           2.358133316040039,
           2.358133316040039,
           2.358133316040039,
           2.358133316040039,
           2.358133316040039,
           2.358133316040039,
           2.358133316040039,
           2.358133316040039,
           2.358133316040039,
           0.7643070220947266,
           2.358133316040039,
           2.358133316040039,
           2.358133316040039
          ],
          [
           2.358133316040039,
           2.358133316040039,
           2.358133316040039,
           2.358133316040039,
           2.358133316040039,
           2.358133316040039,
           2.358133316040039,
           2.358133316040039,
           2.358133316040039,
           2.358133316040039,
           2.358133316040039,
           2.358133316040039,
           2.358133316040039,
           2.358133316040039,
           0.7451972961425781,
           2.3751726150512695,
           2.357473373413086,
           2.3630409240722656
          ],
          [
           2.358133316040039,
           2.358133316040039,
           2.358133316040039,
           2.358133316040039,
           2.358133316040039,
           2.358133316040039,
           2.358133316040039,
           2.358133316040039,
           2.358133316040039,
           2.358133316040039,
           2.358133316040039,
           2.358133316040039,
           2.358133316040039,
           2.358133316040039,
           0.7285852432250977,
           2.3834686279296875,
           2.357889175415039,
           2.3743715286254883
          ],
          [
           2.358133316040039,
           2.358133316040039,
           2.358133316040039,
           2.358133316040039,
           2.358133316040039,
           2.358133316040039,
           2.358133316040039,
           2.358133316040039,
           2.358133316040039,
           2.358133316040039,
           2.358133316040039,
           2.358133316040039,
           2.358133316040039,
           2.358133316040039,
           0.6677169799804688,
           2.369640350341797,
           2.335442543029785,
           2.4247703552246094
          ],
          [
           2.358133316040039,
           2.358133316040039,
           2.358133316040039,
           2.358133316040039,
           2.358133316040039,
           2.358133316040039,
           2.358133316040039,
           2.358133316040039,
           2.358133316040039,
           2.358133316040039,
           2.358133316040039,
           2.358133316040039,
           2.358133316040039,
           2.358133316040039,
           0.6669025421142578,
           2.34041690826416,
           2.3094139099121094,
           2.445962905883789
          ],
          [
           2.358133316040039,
           2.358133316040039,
           2.358133316040039,
           2.358133316040039,
           2.358133316040039,
           2.358133316040039,
           2.358133316040039,
           2.358133316040039,
           2.358133316040039,
           2.358133316040039,
           2.358133316040039,
           2.358133316040039,
           2.358133316040039,
           2.358133316040039,
           0.7064046859741211,
           2.159968376159668,
           2.223597526550293,
           2.4794044494628906
          ],
          [
           2.358133316040039,
           2.358133316040039,
           2.358133316040039,
           2.358133316040039,
           2.358133316040039,
           2.358133316040039,
           2.358133316040039,
           2.358133316040039,
           2.358133316040039,
           2.358133316040039,
           2.358133316040039,
           2.358133316040039,
           2.358133316040039,
           2.358133316040039,
           0.7494049072265625,
           2.1454925537109375,
           2.258978843688965,
           2.4677648544311523
          ],
          [
           2.358133316040039,
           2.358133316040039,
           2.358133316040039,
           2.358133316040039,
           2.358133316040039,
           2.358133316040039,
           2.358133316040039,
           2.358133316040039,
           2.358133316040039,
           2.358133316040039,
           2.358133316040039,
           2.358133316040039,
           2.358133316040039,
           2.358133316040039,
           0.8484830856323242,
           2.029849052429199,
           2.0563507080078125,
           2.4116477966308594
          ],
          [
           2.358133316040039,
           2.358133316040039,
           2.358133316040039,
           2.358133316040039,
           2.358133316040039,
           2.358133316040039,
           2.358133316040039,
           2.358133316040039,
           2.358133316040039,
           2.358133316040039,
           2.358133316040039,
           2.358133316040039,
           2.358133316040039,
           2.358133316040039,
           2.08297061920166,
           2.261569023132324,
           1.1038551330566406,
           2.18021297454834
          ],
          [
           2.358133316040039,
           2.358133316040039,
           2.358133316040039,
           2.358133316040039,
           2.358133316040039,
           2.358133316040039,
           2.358133316040039,
           2.358133316040039,
           2.358133316040039,
           2.358133316040039,
           2.358133316040039,
           2.358133316040039,
           2.358133316040039,
           2.358133316040039,
           2.820857048034668,
           2.3058528900146484,
           1.4192399978637695,
           1.3330764770507812
          ],
          [
           2.358133316040039,
           2.358133316040039,
           2.358133316040039,
           2.358133316040039,
           2.358133316040039,
           2.358133316040039,
           2.358133316040039,
           2.358133316040039,
           2.358133316040039,
           2.358133316040039,
           2.358133316040039,
           2.358133316040039,
           2.358133316040039,
           2.358133316040039,
           2.6931686401367188,
           2.324246406555176,
           2.132632255554199,
           0.7685937881469727
          ],
          [
           2.358133316040039,
           2.358133316040039,
           2.358133316040039,
           2.358133316040039,
           2.358133316040039,
           2.358133316040039,
           2.358133316040039,
           2.358133316040039,
           2.358133316040039,
           2.358133316040039,
           2.358133316040039,
           2.358133316040039,
           2.358133316040039,
           2.358133316040039,
           2.4570131301879883,
           2.3557968139648438,
           2.2075490951538086,
           0.820713996887207
          ]
         ]
        }
       ],
       "layout": {
        "autosize": true,
        "coloraxis": {
         "cmid": 0,
         "colorscale": [
          [
           0,
           "rgb(103,0,31)"
          ],
          [
           0.1,
           "rgb(178,24,43)"
          ],
          [
           0.2,
           "rgb(214,96,77)"
          ],
          [
           0.3,
           "rgb(244,165,130)"
          ],
          [
           0.4,
           "rgb(253,219,199)"
          ],
          [
           0.5,
           "rgb(247,247,247)"
          ],
          [
           0.6,
           "rgb(209,229,240)"
          ],
          [
           0.7,
           "rgb(146,197,222)"
          ],
          [
           0.8,
           "rgb(67,147,195)"
          ],
          [
           0.9,
           "rgb(33,102,172)"
          ],
          [
           1,
           "rgb(5,48,97)"
          ]
         ]
        },
        "margin": {
         "t": 60
        },
        "template": {
         "data": {
          "bar": [
           {
            "error_x": {
             "color": "#2a3f5f"
            },
            "error_y": {
             "color": "#2a3f5f"
            },
            "marker": {
             "line": {
              "color": "#E5ECF6",
              "width": 0.5
             },
             "pattern": {
              "fillmode": "overlay",
              "size": 10,
              "solidity": 0.2
             }
            },
            "type": "bar"
           }
          ],
          "barpolar": [
           {
            "marker": {
             "line": {
              "color": "#E5ECF6",
              "width": 0.5
             },
             "pattern": {
              "fillmode": "overlay",
              "size": 10,
              "solidity": 0.2
             }
            },
            "type": "barpolar"
           }
          ],
          "carpet": [
           {
            "aaxis": {
             "endlinecolor": "#2a3f5f",
             "gridcolor": "white",
             "linecolor": "white",
             "minorgridcolor": "white",
             "startlinecolor": "#2a3f5f"
            },
            "baxis": {
             "endlinecolor": "#2a3f5f",
             "gridcolor": "white",
             "linecolor": "white",
             "minorgridcolor": "white",
             "startlinecolor": "#2a3f5f"
            },
            "type": "carpet"
           }
          ],
          "choropleth": [
           {
            "colorbar": {
             "outlinewidth": 0,
             "ticks": ""
            },
            "type": "choropleth"
           }
          ],
          "contour": [
           {
            "colorbar": {
             "outlinewidth": 0,
             "ticks": ""
            },
            "colorscale": [
             [
              0,
              "#0d0887"
             ],
             [
              0.1111111111111111,
              "#46039f"
             ],
             [
              0.2222222222222222,
              "#7201a8"
             ],
             [
              0.3333333333333333,
              "#9c179e"
             ],
             [
              0.4444444444444444,
              "#bd3786"
             ],
             [
              0.5555555555555556,
              "#d8576b"
             ],
             [
              0.6666666666666666,
              "#ed7953"
             ],
             [
              0.7777777777777778,
              "#fb9f3a"
             ],
             [
              0.8888888888888888,
              "#fdca26"
             ],
             [
              1,
              "#f0f921"
             ]
            ],
            "type": "contour"
           }
          ],
          "contourcarpet": [
           {
            "colorbar": {
             "outlinewidth": 0,
             "ticks": ""
            },
            "type": "contourcarpet"
           }
          ],
          "heatmap": [
           {
            "colorbar": {
             "outlinewidth": 0,
             "ticks": ""
            },
            "colorscale": [
             [
              0,
              "#0d0887"
             ],
             [
              0.1111111111111111,
              "#46039f"
             ],
             [
              0.2222222222222222,
              "#7201a8"
             ],
             [
              0.3333333333333333,
              "#9c179e"
             ],
             [
              0.4444444444444444,
              "#bd3786"
             ],
             [
              0.5555555555555556,
              "#d8576b"
             ],
             [
              0.6666666666666666,
              "#ed7953"
             ],
             [
              0.7777777777777778,
              "#fb9f3a"
             ],
             [
              0.8888888888888888,
              "#fdca26"
             ],
             [
              1,
              "#f0f921"
             ]
            ],
            "type": "heatmap"
           }
          ],
          "heatmapgl": [
           {
            "colorbar": {
             "outlinewidth": 0,
             "ticks": ""
            },
            "colorscale": [
             [
              0,
              "#0d0887"
             ],
             [
              0.1111111111111111,
              "#46039f"
             ],
             [
              0.2222222222222222,
              "#7201a8"
             ],
             [
              0.3333333333333333,
              "#9c179e"
             ],
             [
              0.4444444444444444,
              "#bd3786"
             ],
             [
              0.5555555555555556,
              "#d8576b"
             ],
             [
              0.6666666666666666,
              "#ed7953"
             ],
             [
              0.7777777777777778,
              "#fb9f3a"
             ],
             [
              0.8888888888888888,
              "#fdca26"
             ],
             [
              1,
              "#f0f921"
             ]
            ],
            "type": "heatmapgl"
           }
          ],
          "histogram": [
           {
            "marker": {
             "pattern": {
              "fillmode": "overlay",
              "size": 10,
              "solidity": 0.2
             }
            },
            "type": "histogram"
           }
          ],
          "histogram2d": [
           {
            "colorbar": {
             "outlinewidth": 0,
             "ticks": ""
            },
            "colorscale": [
             [
              0,
              "#0d0887"
             ],
             [
              0.1111111111111111,
              "#46039f"
             ],
             [
              0.2222222222222222,
              "#7201a8"
             ],
             [
              0.3333333333333333,
              "#9c179e"
             ],
             [
              0.4444444444444444,
              "#bd3786"
             ],
             [
              0.5555555555555556,
              "#d8576b"
             ],
             [
              0.6666666666666666,
              "#ed7953"
             ],
             [
              0.7777777777777778,
              "#fb9f3a"
             ],
             [
              0.8888888888888888,
              "#fdca26"
             ],
             [
              1,
              "#f0f921"
             ]
            ],
            "type": "histogram2d"
           }
          ],
          "histogram2dcontour": [
           {
            "colorbar": {
             "outlinewidth": 0,
             "ticks": ""
            },
            "colorscale": [
             [
              0,
              "#0d0887"
             ],
             [
              0.1111111111111111,
              "#46039f"
             ],
             [
              0.2222222222222222,
              "#7201a8"
             ],
             [
              0.3333333333333333,
              "#9c179e"
             ],
             [
              0.4444444444444444,
              "#bd3786"
             ],
             [
              0.5555555555555556,
              "#d8576b"
             ],
             [
              0.6666666666666666,
              "#ed7953"
             ],
             [
              0.7777777777777778,
              "#fb9f3a"
             ],
             [
              0.8888888888888888,
              "#fdca26"
             ],
             [
              1,
              "#f0f921"
             ]
            ],
            "type": "histogram2dcontour"
           }
          ],
          "mesh3d": [
           {
            "colorbar": {
             "outlinewidth": 0,
             "ticks": ""
            },
            "type": "mesh3d"
           }
          ],
          "parcoords": [
           {
            "line": {
             "colorbar": {
              "outlinewidth": 0,
              "ticks": ""
             }
            },
            "type": "parcoords"
           }
          ],
          "pie": [
           {
            "automargin": true,
            "type": "pie"
           }
          ],
          "scatter": [
           {
            "fillpattern": {
             "fillmode": "overlay",
             "size": 10,
             "solidity": 0.2
            },
            "type": "scatter"
           }
          ],
          "scatter3d": [
           {
            "line": {
             "colorbar": {
              "outlinewidth": 0,
              "ticks": ""
             }
            },
            "marker": {
             "colorbar": {
              "outlinewidth": 0,
              "ticks": ""
             }
            },
            "type": "scatter3d"
           }
          ],
          "scattercarpet": [
           {
            "marker": {
             "colorbar": {
              "outlinewidth": 0,
              "ticks": ""
             }
            },
            "type": "scattercarpet"
           }
          ],
          "scattergeo": [
           {
            "marker": {
             "colorbar": {
              "outlinewidth": 0,
              "ticks": ""
             }
            },
            "type": "scattergeo"
           }
          ],
          "scattergl": [
           {
            "marker": {
             "colorbar": {
              "outlinewidth": 0,
              "ticks": ""
             }
            },
            "type": "scattergl"
           }
          ],
          "scattermapbox": [
           {
            "marker": {
             "colorbar": {
              "outlinewidth": 0,
              "ticks": ""
             }
            },
            "type": "scattermapbox"
           }
          ],
          "scatterpolar": [
           {
            "marker": {
             "colorbar": {
              "outlinewidth": 0,
              "ticks": ""
             }
            },
            "type": "scatterpolar"
           }
          ],
          "scatterpolargl": [
           {
            "marker": {
             "colorbar": {
              "outlinewidth": 0,
              "ticks": ""
             }
            },
            "type": "scatterpolargl"
           }
          ],
          "scatterternary": [
           {
            "marker": {
             "colorbar": {
              "outlinewidth": 0,
              "ticks": ""
             }
            },
            "type": "scatterternary"
           }
          ],
          "surface": [
           {
            "colorbar": {
             "outlinewidth": 0,
             "ticks": ""
            },
            "colorscale": [
             [
              0,
              "#0d0887"
             ],
             [
              0.1111111111111111,
              "#46039f"
             ],
             [
              0.2222222222222222,
              "#7201a8"
             ],
             [
              0.3333333333333333,
              "#9c179e"
             ],
             [
              0.4444444444444444,
              "#bd3786"
             ],
             [
              0.5555555555555556,
              "#d8576b"
             ],
             [
              0.6666666666666666,
              "#ed7953"
             ],
             [
              0.7777777777777778,
              "#fb9f3a"
             ],
             [
              0.8888888888888888,
              "#fdca26"
             ],
             [
              1,
              "#f0f921"
             ]
            ],
            "type": "surface"
           }
          ],
          "table": [
           {
            "cells": {
             "fill": {
              "color": "#EBF0F8"
             },
             "line": {
              "color": "white"
             }
            },
            "header": {
             "fill": {
              "color": "#C8D4E3"
             },
             "line": {
              "color": "white"
             }
            },
            "type": "table"
           }
          ]
         },
         "layout": {
          "annotationdefaults": {
           "arrowcolor": "#2a3f5f",
           "arrowhead": 0,
           "arrowwidth": 1
          },
          "autotypenumbers": "strict",
          "coloraxis": {
           "colorbar": {
            "outlinewidth": 0,
            "ticks": ""
           }
          },
          "colorscale": {
           "diverging": [
            [
             0,
             "#8e0152"
            ],
            [
             0.1,
             "#c51b7d"
            ],
            [
             0.2,
             "#de77ae"
            ],
            [
             0.3,
             "#f1b6da"
            ],
            [
             0.4,
             "#fde0ef"
            ],
            [
             0.5,
             "#f7f7f7"
            ],
            [
             0.6,
             "#e6f5d0"
            ],
            [
             0.7,
             "#b8e186"
            ],
            [
             0.8,
             "#7fbc41"
            ],
            [
             0.9,
             "#4d9221"
            ],
            [
             1,
             "#276419"
            ]
           ],
           "sequential": [
            [
             0,
             "#0d0887"
            ],
            [
             0.1111111111111111,
             "#46039f"
            ],
            [
             0.2222222222222222,
             "#7201a8"
            ],
            [
             0.3333333333333333,
             "#9c179e"
            ],
            [
             0.4444444444444444,
             "#bd3786"
            ],
            [
             0.5555555555555556,
             "#d8576b"
            ],
            [
             0.6666666666666666,
             "#ed7953"
            ],
            [
             0.7777777777777778,
             "#fb9f3a"
            ],
            [
             0.8888888888888888,
             "#fdca26"
            ],
            [
             1,
             "#f0f921"
            ]
           ],
           "sequentialminus": [
            [
             0,
             "#0d0887"
            ],
            [
             0.1111111111111111,
             "#46039f"
            ],
            [
             0.2222222222222222,
             "#7201a8"
            ],
            [
             0.3333333333333333,
             "#9c179e"
            ],
            [
             0.4444444444444444,
             "#bd3786"
            ],
            [
             0.5555555555555556,
             "#d8576b"
            ],
            [
             0.6666666666666666,
             "#ed7953"
            ],
            [
             0.7777777777777778,
             "#fb9f3a"
            ],
            [
             0.8888888888888888,
             "#fdca26"
            ],
            [
             1,
             "#f0f921"
            ]
           ]
          },
          "colorway": [
           "#636efa",
           "#EF553B",
           "#00cc96",
           "#ab63fa",
           "#FFA15A",
           "#19d3f3",
           "#FF6692",
           "#B6E880",
           "#FF97FF",
           "#FECB52"
          ],
          "font": {
           "color": "#2a3f5f"
          },
          "geo": {
           "bgcolor": "white",
           "lakecolor": "white",
           "landcolor": "#E5ECF6",
           "showlakes": true,
           "showland": true,
           "subunitcolor": "white"
          },
          "hoverlabel": {
           "align": "left"
          },
          "hovermode": "closest",
          "mapbox": {
           "style": "light"
          },
          "paper_bgcolor": "white",
          "plot_bgcolor": "#E5ECF6",
          "polar": {
           "angularaxis": {
            "gridcolor": "white",
            "linecolor": "white",
            "ticks": ""
           },
           "bgcolor": "#E5ECF6",
           "radialaxis": {
            "gridcolor": "white",
            "linecolor": "white",
            "ticks": ""
           }
          },
          "scene": {
           "xaxis": {
            "backgroundcolor": "#E5ECF6",
            "gridcolor": "white",
            "gridwidth": 2,
            "linecolor": "white",
            "showbackground": true,
            "ticks": "",
            "zerolinecolor": "white"
           },
           "yaxis": {
            "backgroundcolor": "#E5ECF6",
            "gridcolor": "white",
            "gridwidth": 2,
            "linecolor": "white",
            "showbackground": true,
            "ticks": "",
            "zerolinecolor": "white"
           },
           "zaxis": {
            "backgroundcolor": "#E5ECF6",
            "gridcolor": "white",
            "gridwidth": 2,
            "linecolor": "white",
            "showbackground": true,
            "ticks": "",
            "zerolinecolor": "white"
           }
          },
          "shapedefaults": {
           "line": {
            "color": "#2a3f5f"
           }
          },
          "ternary": {
           "aaxis": {
            "gridcolor": "white",
            "linecolor": "white",
            "ticks": ""
           },
           "baxis": {
            "gridcolor": "white",
            "linecolor": "white",
            "ticks": ""
           },
           "bgcolor": "#E5ECF6",
           "caxis": {
            "gridcolor": "white",
            "linecolor": "white",
            "ticks": ""
           }
          },
          "title": {
           "x": 0.05
          },
          "xaxis": {
           "automargin": true,
           "gridcolor": "white",
           "linecolor": "white",
           "ticks": "",
           "title": {
            "standoff": 15
           },
           "zerolinecolor": "white",
           "zerolinewidth": 2
          },
          "yaxis": {
           "automargin": true,
           "gridcolor": "white",
           "linecolor": "white",
           "ticks": "",
           "title": {
            "standoff": 15
           },
           "zerolinecolor": "white",
           "zerolinewidth": 2
          }
         }
        },
        "xaxis": {
         "anchor": "y",
         "autorange": true,
         "constrain": "domain",
         "domain": [
          0,
          1
         ],
         "range": [
          -0.5,
          17.5
         ],
         "scaleanchor": "y",
         "title": {
          "text": "position"
         },
         "type": "category"
        },
        "yaxis": {
         "anchor": "x",
         "autorange": true,
         "constrain": "domain",
         "domain": [
          0,
          1
         ],
         "range": [
          11.5,
          -0.5
         ],
         "title": {
          "text": "layer"
         }
        }
       }
      },
      "image/png": "[encoded data removed]",
      "text/html": [
       "<div>                            <div id=\"c8fb321a-c0de-420b-8cd6-4af78c95d0e3\" class=\"plotly-graph-div\" style=\"height:525px; width:100%;\"></div>            <script type=\"text/javascript\">                require([\"plotly\"], function(Plotly) {                    window.PLOTLYENV=window.PLOTLYENV || {};                                    if (document.getElementById(\"c8fb321a-c0de-420b-8cd6-4af78c95d0e3\")) {                    Plotly.newPlot(                        \"c8fb321a-c0de-420b-8cd6-4af78c95d0e3\",                        [{\"coloraxis\":\"coloraxis\",\"name\":\"0\",\"x\":[\"<|endoftext|>_0\",\"John_1\",\" said_2\",\" to_3\",\" Mary_4\",\",_5\",\" '_6\",\"Pers_7\",\"istence_8\",\" is_9\",\" all_10\",\" you_11\",\" need_12\",\".'_13\",\" Mary_14\",\" replied_15\",\" to_16\",\" _17\"],\"z\":[[2.358133316040039,2.358133316040039,2.358133316040039,2.358133316040039,2.358133316040039,2.358133316040039,2.358133316040039,2.358133316040039,2.358133316040039,2.358133316040039,2.358133316040039,2.358133316040039,2.358133316040039,2.358133316040039,0.7643070220947266,2.358133316040039,2.358133316040039,2.358133316040039],[2.358133316040039,2.358133316040039,2.358133316040039,2.358133316040039,2.358133316040039,2.358133316040039,2.358133316040039,2.358133316040039,2.358133316040039,2.358133316040039,2.358133316040039,2.358133316040039,2.358133316040039,2.358133316040039,0.7451972961425781,2.3751726150512695,2.357473373413086,2.3630409240722656],[2.358133316040039,2.358133316040039,2.358133316040039,2.358133316040039,2.358133316040039,2.358133316040039,2.358133316040039,2.358133316040039,2.358133316040039,2.358133316040039,2.358133316040039,2.358133316040039,2.358133316040039,2.358133316040039,0.7285852432250977,2.3834686279296875,2.357889175415039,2.3743715286254883],[2.358133316040039,2.358133316040039,2.358133316040039,2.358133316040039,2.358133316040039,2.358133316040039,2.358133316040039,2.358133316040039,2.358133316040039,2.358133316040039,2.358133316040039,2.358133316040039,2.358133316040039,2.358133316040039,0.6677169799804688,2.369640350341797,2.335442543029785,2.4247703552246094],[2.358133316040039,2.358133316040039,2.358133316040039,2.358133316040039,2.358133316040039,2.358133316040039,2.358133316040039,2.358133316040039,2.358133316040039,2.358133316040039,2.358133316040039,2.358133316040039,2.358133316040039,2.358133316040039,0.6669025421142578,2.34041690826416,2.3094139099121094,2.445962905883789],[2.358133316040039,2.358133316040039,2.358133316040039,2.358133316040039,2.358133316040039,2.358133316040039,2.358133316040039,2.358133316040039,2.358133316040039,2.358133316040039,2.358133316040039,2.358133316040039,2.358133316040039,2.358133316040039,0.7064046859741211,2.159968376159668,2.223597526550293,2.4794044494628906],[2.358133316040039,2.358133316040039,2.358133316040039,2.358133316040039,2.358133316040039,2.358133316040039,2.358133316040039,2.358133316040039,2.358133316040039,2.358133316040039,2.358133316040039,2.358133316040039,2.358133316040039,2.358133316040039,0.7494049072265625,2.1454925537109375,2.258978843688965,2.4677648544311523],[2.358133316040039,2.358133316040039,2.358133316040039,2.358133316040039,2.358133316040039,2.358133316040039,2.358133316040039,2.358133316040039,2.358133316040039,2.358133316040039,2.358133316040039,2.358133316040039,2.358133316040039,2.358133316040039,0.8484830856323242,2.029849052429199,2.0563507080078125,2.4116477966308594],[2.358133316040039,2.358133316040039,2.358133316040039,2.358133316040039,2.358133316040039,2.358133316040039,2.358133316040039,2.358133316040039,2.358133316040039,2.358133316040039,2.358133316040039,2.358133316040039,2.358133316040039,2.358133316040039,2.08297061920166,2.261569023132324,1.1038551330566406,2.18021297454834],[2.358133316040039,2.358133316040039,2.358133316040039,2.358133316040039,2.358133316040039,2.358133316040039,2.358133316040039,2.358133316040039,2.358133316040039,2.358133316040039,2.358133316040039,2.358133316040039,2.358133316040039,2.358133316040039,2.820857048034668,2.3058528900146484,1.4192399978637695,1.3330764770507812],[2.358133316040039,2.358133316040039,2.358133316040039,2.358133316040039,2.358133316040039,2.358133316040039,2.358133316040039,2.358133316040039,2.358133316040039,2.358133316040039,2.358133316040039,2.358133316040039,2.358133316040039,2.358133316040039,2.6931686401367188,2.324246406555176,2.132632255554199,0.7685937881469727],[2.358133316040039,2.358133316040039,2.358133316040039,2.358133316040039,2.358133316040039,2.358133316040039,2.358133316040039,2.358133316040039,2.358133316040039,2.358133316040039,2.358133316040039,2.358133316040039,2.358133316040039,2.358133316040039,2.4570131301879883,2.3557968139648438,2.2075490951538086,0.820713996887207]],\"type\":\"heatmap\",\"xaxis\":\"x\",\"yaxis\":\"y\",\"hovertemplate\":\"position: %{x}<br>layer: %{y}<br>color: %{z}<extra></extra>\"}],                        {\"template\":{\"data\":{\"histogram2dcontour\":[{\"type\":\"histogram2dcontour\",\"colorbar\":{\"outlinewidth\":0,\"ticks\":\"\"},\"colorscale\":[[0.0,\"#0d0887\"],[0.1111111111111111,\"#46039f\"],[0.2222222222222222,\"#7201a8\"],[0.3333333333333333,\"#9c179e\"],[0.4444444444444444,\"#bd3786\"],[0.5555555555555556,\"#d8576b\"],[0.6666666666666666,\"#ed7953\"],[0.7777777777777778,\"#fb9f3a\"],[0.8888888888888888,\"#fdca26\"],[1.0,\"#f0f921\"]]}],\"choropleth\":[{\"type\":\"choropleth\",\"colorbar\":{\"outlinewidth\":0,\"ticks\":\"\"}}],\"histogram2d\":[{\"type\":\"histogram2d\",\"colorbar\":{\"outlinewidth\":0,\"ticks\":\"\"},\"colorscale\":[[0.0,\"#0d0887\"],[0.1111111111111111,\"#46039f\"],[0.2222222222222222,\"#7201a8\"],[0.3333333333333333,\"#9c179e\"],[0.4444444444444444,\"#bd3786\"],[0.5555555555555556,\"#d8576b\"],[0.6666666666666666,\"#ed7953\"],[0.7777777777777778,\"#fb9f3a\"],[0.8888888888888888,\"#fdca26\"],[1.0,\"#f0f921\"]]}],\"heatmap\":[{\"type\":\"heatmap\",\"colorbar\":{\"outlinewidth\":0,\"ticks\":\"\"},\"colorscale\":[[0.0,\"#0d0887\"],[0.1111111111111111,\"#46039f\"],[0.2222222222222222,\"#7201a8\"],[0.3333333333333333,\"#9c179e\"],[0.4444444444444444,\"#bd3786\"],[0.5555555555555556,\"#d8576b\"],[0.6666666666666666,\"#ed7953\"],[0.7777777777777778,\"#fb9f3a\"],[0.8888888888888888,\"#fdca26\"],[1.0,\"#f0f921\"]]}],\"heatmapgl\":[{\"type\":\"heatmapgl\",\"colorbar\":{\"outlinewidth\":0,\"ticks\":\"\"},\"colorscale\":[[0.0,\"#0d0887\"],[0.1111111111111111,\"#46039f\"],[0.2222222222222222,\"#7201a8\"],[0.3333333333333333,\"#9c179e\"],[0.4444444444444444,\"#bd3786\"],[0.5555555555555556,\"#d8576b\"],[0.6666666666666666,\"#ed7953\"],[0.7777777777777778,\"#fb9f3a\"],[0.8888888888888888,\"#fdca26\"],[1.0,\"#f0f921\"]]}],\"contourcarpet\":[{\"type\":\"contourcarpet\",\"colorbar\":{\"outlinewidth\":0,\"ticks\":\"\"}}],\"contour\":[{\"type\":\"contour\",\"colorbar\":{\"outlinewidth\":0,\"ticks\":\"\"},\"colorscale\":[[0.0,\"#0d0887\"],[0.1111111111111111,\"#46039f\"],[0.2222222222222222,\"#7201a8\"],[0.3333333333333333,\"#9c179e\"],[0.4444444444444444,\"#bd3786\"],[0.5555555555555556,\"#d8576b\"],[0.6666666666666666,\"#ed7953\"],[0.7777777777777778,\"#fb9f3a\"],[0.8888888888888888,\"#fdca26\"],[1.0,\"#f0f921\"]]}],\"surface\":[{\"type\":\"surface\",\"colorbar\":{\"outlinewidth\":0,\"ticks\":\"\"},\"colorscale\":[[0.0,\"#0d0887\"],[0.1111111111111111,\"#46039f\"],[0.2222222222222222,\"#7201a8\"],[0.3333333333333333,\"#9c179e\"],[0.4444444444444444,\"#bd3786\"],[0.5555555555555556,\"#d8576b\"],[0.6666666666666666,\"#ed7953\"],[0.7777777777777778,\"#fb9f3a\"],[0.8888888888888888,\"#fdca26\"],[1.0,\"#f0f921\"]]}],\"mesh3d\":[{\"type\":\"mesh3d\",\"colorbar\":{\"outlinewidth\":0,\"ticks\":\"\"}}],\"scatter\":[{\"fillpattern\":{\"fillmode\":\"overlay\",\"size\":10,\"solidity\":0.2},\"type\":\"scatter\"}],\"parcoords\":[{\"type\":\"parcoords\",\"line\":{\"colorbar\":{\"outlinewidth\":0,\"ticks\":\"\"}}}],\"scatterpolargl\":[{\"type\":\"scatterpolargl\",\"marker\":{\"colorbar\":{\"outlinewidth\":0,\"ticks\":\"\"}}}],\"bar\":[{\"error_x\":{\"color\":\"#2a3f5f\"},\"error_y\":{\"color\":\"#2a3f5f\"},\"marker\":{\"line\":{\"color\":\"#E5ECF6\",\"width\":0.5},\"pattern\":{\"fillmode\":\"overlay\",\"size\":10,\"solidity\":0.2}},\"type\":\"bar\"}],\"scattergeo\":[{\"type\":\"scattergeo\",\"marker\":{\"colorbar\":{\"outlinewidth\":0,\"ticks\":\"\"}}}],\"scatterpolar\":[{\"type\":\"scatterpolar\",\"marker\":{\"colorbar\":{\"outlinewidth\":0,\"ticks\":\"\"}}}],\"histogram\":[{\"marker\":{\"pattern\":{\"fillmode\":\"overlay\",\"size\":10,\"solidity\":0.2}},\"type\":\"histogram\"}],\"scattergl\":[{\"type\":\"scattergl\",\"marker\":{\"colorbar\":{\"outlinewidth\":0,\"ticks\":\"\"}}}],\"scatter3d\":[{\"type\":\"scatter3d\",\"line\":{\"colorbar\":{\"outlinewidth\":0,\"ticks\":\"\"}},\"marker\":{\"colorbar\":{\"outlinewidth\":0,\"ticks\":\"\"}}}],\"scattermapbox\":[{\"type\":\"scattermapbox\",\"marker\":{\"colorbar\":{\"outlinewidth\":0,\"ticks\":\"\"}}}],\"scatterternary\":[{\"type\":\"scatterternary\",\"marker\":{\"colorbar\":{\"outlinewidth\":0,\"ticks\":\"\"}}}],\"scattercarpet\":[{\"type\":\"scattercarpet\",\"marker\":{\"colorbar\":{\"outlinewidth\":0,\"ticks\":\"\"}}}],\"carpet\":[{\"aaxis\":{\"endlinecolor\":\"#2a3f5f\",\"gridcolor\":\"white\",\"linecolor\":\"white\",\"minorgridcolor\":\"white\",\"startlinecolor\":\"#2a3f5f\"},\"baxis\":{\"endlinecolor\":\"#2a3f5f\",\"gridcolor\":\"white\",\"linecolor\":\"white\",\"minorgridcolor\":\"white\",\"startlinecolor\":\"#2a3f5f\"},\"type\":\"carpet\"}],\"table\":[{\"cells\":{\"fill\":{\"color\":\"#EBF0F8\"},\"line\":{\"color\":\"white\"}},\"header\":{\"fill\":{\"color\":\"#C8D4E3\"},\"line\":{\"color\":\"white\"}},\"type\":\"table\"}],\"barpolar\":[{\"marker\":{\"line\":{\"color\":\"#E5ECF6\",\"width\":0.5},\"pattern\":{\"fillmode\":\"overlay\",\"size\":10,\"solidity\":0.2}},\"type\":\"barpolar\"}],\"pie\":[{\"automargin\":true,\"type\":\"pie\"}]},\"layout\":{\"autotypenumbers\":\"strict\",\"colorway\":[\"#636efa\",\"#EF553B\",\"#00cc96\",\"#ab63fa\",\"#FFA15A\",\"#19d3f3\",\"#FF6692\",\"#B6E880\",\"#FF97FF\",\"#FECB52\"],\"font\":{\"color\":\"#2a3f5f\"},\"hovermode\":\"closest\",\"hoverlabel\":{\"align\":\"left\"},\"paper_bgcolor\":\"white\",\"plot_bgcolor\":\"#E5ECF6\",\"polar\":{\"bgcolor\":\"#E5ECF6\",\"angularaxis\":{\"gridcolor\":\"white\",\"linecolor\":\"white\",\"ticks\":\"\"},\"radialaxis\":{\"gridcolor\":\"white\",\"linecolor\":\"white\",\"ticks\":\"\"}},\"ternary\":{\"bgcolor\":\"#E5ECF6\",\"aaxis\":{\"gridcolor\":\"white\",\"linecolor\":\"white\",\"ticks\":\"\"},\"baxis\":{\"gridcolor\":\"white\",\"linecolor\":\"white\",\"ticks\":\"\"},\"caxis\":{\"gridcolor\":\"white\",\"linecolor\":\"white\",\"ticks\":\"\"}},\"coloraxis\":{\"colorbar\":{\"outlinewidth\":0,\"ticks\":\"\"}},\"colorscale\":{\"sequential\":[[0.0,\"#0d0887\"],[0.1111111111111111,\"#46039f\"],[0.2222222222222222,\"#7201a8\"],[0.3333333333333333,\"#9c179e\"],[0.4444444444444444,\"#bd3786\"],[0.5555555555555556,\"#d8576b\"],[0.6666666666666666,\"#ed7953\"],[0.7777777777777778,\"#fb9f3a\"],[0.8888888888888888,\"#fdca26\"],[1.0,\"#f0f921\"]],\"sequentialminus\":[[0.0,\"#0d0887\"],[0.1111111111111111,\"#46039f\"],[0.2222222222222222,\"#7201a8\"],[0.3333333333333333,\"#9c179e\"],[0.4444444444444444,\"#bd3786\"],[0.5555555555555556,\"#d8576b\"],[0.6666666666666666,\"#ed7953\"],[0.7777777777777778,\"#fb9f3a\"],[0.8888888888888888,\"#fdca26\"],[1.0,\"#f0f921\"]],\"diverging\":[[0,\"#8e0152\"],[0.1,\"#c51b7d\"],[0.2,\"#de77ae\"],[0.3,\"#f1b6da\"],[0.4,\"#fde0ef\"],[0.5,\"#f7f7f7\"],[0.6,\"#e6f5d0\"],[0.7,\"#b8e186\"],[0.8,\"#7fbc41\"],[0.9,\"#4d9221\"],[1,\"#276419\"]]},\"xaxis\":{\"gridcolor\":\"white\",\"linecolor\":\"white\",\"ticks\":\"\",\"title\":{\"standoff\":15},\"zerolinecolor\":\"white\",\"automargin\":true,\"zerolinewidth\":2},\"yaxis\":{\"gridcolor\":\"white\",\"linecolor\":\"white\",\"ticks\":\"\",\"title\":{\"standoff\":15},\"zerolinecolor\":\"white\",\"automargin\":true,\"zerolinewidth\":2},\"scene\":{\"xaxis\":{\"backgroundcolor\":\"#E5ECF6\",\"gridcolor\":\"white\",\"linecolor\":\"white\",\"showbackground\":true,\"ticks\":\"\",\"zerolinecolor\":\"white\",\"gridwidth\":2},\"yaxis\":{\"backgroundcolor\":\"#E5ECF6\",\"gridcolor\":\"white\",\"linecolor\":\"white\",\"showbackground\":true,\"ticks\":\"\",\"zerolinecolor\":\"white\",\"gridwidth\":2},\"zaxis\":{\"backgroundcolor\":\"#E5ECF6\",\"gridcolor\":\"white\",\"linecolor\":\"white\",\"showbackground\":true,\"ticks\":\"\",\"zerolinecolor\":\"white\",\"gridwidth\":2}},\"shapedefaults\":{\"line\":{\"color\":\"#2a3f5f\"}},\"annotationdefaults\":{\"arrowcolor\":\"#2a3f5f\",\"arrowhead\":0,\"arrowwidth\":1},\"geo\":{\"bgcolor\":\"white\",\"landcolor\":\"#E5ECF6\",\"subunitcolor\":\"white\",\"showland\":true,\"showlakes\":true,\"lakecolor\":\"white\"},\"title\":{\"x\":0.05},\"mapbox\":{\"style\":\"light\"}}},\"xaxis\":{\"anchor\":\"y\",\"domain\":[0.0,1.0],\"scaleanchor\":\"y\",\"constrain\":\"domain\",\"title\":{\"text\":\"position\"}},\"yaxis\":{\"anchor\":\"x\",\"domain\":[0.0,1.0],\"autorange\":\"reversed\",\"constrain\":\"domain\",\"title\":{\"text\":\"layer\"}},\"coloraxis\":{\"colorscale\":[[0.0,\"rgb(103,0,31)\"],[0.1,\"rgb(178,24,43)\"],[0.2,\"rgb(214,96,77)\"],[0.3,\"rgb(244,165,130)\"],[0.4,\"rgb(253,219,199)\"],[0.5,\"rgb(247,247,247)\"],[0.6,\"rgb(209,229,240)\"],[0.7,\"rgb(146,197,222)\"],[0.8,\"rgb(67,147,195)\"],[0.9,\"rgb(33,102,172)\"],[1.0,\"rgb(5,48,97)\"]],\"cmid\":0.0},\"margin\":{\"t\":60}},                        {\"responsive\": true}                    ).then(function(){\n",
       "                            \n",
       "var gd = document.getElementById('c8fb321a-c0de-420b-8cd6-4af78c95d0e3');\n",
       "var x = new MutationObserver(function (mutations, observer) {{\n",
       "        var display = window.getComputedStyle(gd).display;\n",
       "        if (!display || display === 'none') {{\n",
       "            console.log([gd, 'removed!']);\n",
       "            Plotly.purge(gd);\n",
       "            observer.disconnect();\n",
       "        }}\n",
       "}});\n",
       "\n",
       "// Listen for the removal of the full notebook cells\n",
       "var notebookContainer = gd.closest('#notebook-container');\n",
       "if (notebookContainer) {{\n",
       "    x.observe(notebookContainer, {childList: true});\n",
       "}}\n",
       "\n",
       "// Listen for the clearing of the current output cell\n",
       "var outputEl = gd.closest('.output');\n",
       "if (outputEl) {{\n",
       "    x.observe(outputEl, {childList: true});\n",
       "}}\n",
       "\n",
       "                        })                };                });            </script>        </div>"
      ]
     },
     "metadata": {},
     "output_type": "display_data"
    }
   ],
   "source": [
    "px.imshow(\n",
    "    patched_residual_stream_diff.detach().numpy(),\n",
    "    x=prompt_position_labels,\n",
    "    labels={\"x\": \"position\", \"y\": \"layer\"},\n",
    "    color_continuous_midpoint=0.0, color_continuous_scale=\"RdBu\"\n",
    ")"
   ]
  },
  {
   "cell_type": "code",
   "execution_count": null,
   "id": "798ea357-8640-48ca-84e7-0e092c907710",
   "metadata": {},
   "outputs": [],
   "source": []
  },
  {
   "cell_type": "code",
   "execution_count": null,
   "id": "be653957-48d9-4130-a5d6-019d6e6a1005",
   "metadata": {},
   "outputs": [],
   "source": []
  }
 ],
 "metadata": {
  "kernelspec": {
   "display_name": "Python 3 (ipykernel)",
   "language": "python",
   "name": "python3"
  }
 },
 "nbformat": 4,
 "nbformat_minor": 5
}
