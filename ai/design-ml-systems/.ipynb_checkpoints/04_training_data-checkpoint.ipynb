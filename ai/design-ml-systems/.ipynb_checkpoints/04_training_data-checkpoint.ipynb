{
 "cells": [
  {
   "cell_type": "markdown",
   "id": "7658126f-052c-4892-807f-6ab95c7f1cc4",
   "metadata": {},
   "source": [
    "### Weight Sampling"
   ]
  },
  {
   "cell_type": "code",
   "execution_count": null,
   "id": "1234dfe9-bc8f-46b4-9744-5fddc1f7c8fc",
   "metadata": {},
   "outputs": [],
   "source": [
    "import numpy as np"
   ]
  },
  {
   "cell_type": "markdown",
   "id": "c20824a5-199c-4924-b30a-56a112bf64d7",
   "metadata": {},
   "source": [
    "##### Example 1"
   ]
  },
  {
   "cell_type": "code",
   "execution_count": null,
   "id": "a014a77c-8aa3-4f70-b87e-eb78186f5ead",
   "metadata": {},
   "outputs": [],
   "source": [
    "import random"
   ]
  },
  {
   "cell_type": "code",
   "execution_count": null,
   "id": "c2dc8ff0-ca5b-4320-867f-86d251802a13",
   "metadata": {},
   "outputs": [],
   "source": [
    "population = [1, 2, 3, 4, 100, 1000]"
   ]
  },
  {
   "cell_type": "markdown",
   "id": "f57655ee-c6e7-4267-8474-bd464fd00b1b",
   "metadata": {},
   "source": [
    "Randomly select two items in `population` using weight sampling with the weight as\n",
    "- 1, 2, 3 and 4 have 20% of being select\n",
    "- 100 and 1000 have 10% of being select"
   ]
  },
  {
   "cell_type": "code",
   "execution_count": null,
   "id": "d24107ed-abec-4bb9-9502-82ba81e8aa4c",
   "metadata": {},
   "outputs": [],
   "source": [
    "weights = [0.2, 0.2, 0.2, 0.2, 0.1, 0.1]"
   ]
  },
  {
   "cell_type": "code",
   "execution_count": null,
   "id": "e81b63fb-f8fb-420c-b85d-2c0227e7bc27",
   "metadata": {},
   "outputs": [],
   "source": [
    "results = random.choices(population=population,\n",
    "                         weights=weights,\n",
    "                         k=2)"
   ]
  },
  {
   "cell_type": "code",
   "execution_count": null,
   "id": "7049a8d8-bd72-4a57-b723-41afbdcd3fd6",
   "metadata": {},
   "outputs": [
    {
     "data": {
      "text/plain": [
       "[3, 1000]"
      ]
     },
     "execution_count": null,
     "metadata": {},
     "output_type": "execute_result"
    }
   ],
   "source": [
    "results"
   ]
  },
  {
   "cell_type": "code",
   "execution_count": null,
   "id": "abbcdae5-994e-42df-8c18-bc154bb67cce",
   "metadata": {},
   "outputs": [],
   "source": []
  }
 ],
 "metadata": {
  "kernelspec": {
   "display_name": "Python 3 (ipykernel)",
   "language": "python",
   "name": "python3"
  }
 },
 "nbformat": 4,
 "nbformat_minor": 5
}
