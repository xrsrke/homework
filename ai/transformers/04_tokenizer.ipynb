{
 "cells": [
  {
   "cell_type": "code",
   "execution_count": null,
   "id": "50419f0f-cd39-408a-9ace-93d30c0b5524",
   "metadata": {},
   "outputs": [],
   "source": [
    "from transformers import AutoTokenizer, AutoConfig, AutoModelForPreTraining"
   ]
  },
  {
   "cell_type": "code",
   "execution_count": null,
   "id": "07043134-0f4a-435d-84ae-f2ec155fa2b8",
   "metadata": {},
   "outputs": [],
   "source": [
    "MODEL = \"gpt2\""
   ]
  },
  {
   "cell_type": "code",
   "execution_count": null,
   "id": "cd90d7d4-7303-4a5e-8b01-96ed9cd103c0",
   "metadata": {},
   "outputs": [],
   "source": [
    "tokenizer = AutoTokenizer.from_pretrained(MODEL)"
   ]
  },
  {
   "cell_type": "code",
   "execution_count": null,
   "id": "40e66707-eb11-4a54-a0cd-b575db7496a3",
   "metadata": {},
   "outputs": [],
   "source": [
    "config = AutoConfig.from_pretrained(MODEL, \n",
    "    bos_token_id=tokenizer.bos_token_id,\n",
    "    eos_token_id=tokenizer.eos_token_id,\n",
    "    sep_token_id=tokenizer.sep_token_id,\n",
    "    pad_token_id=tokenizer.pad_token_id,\n",
    "    output_hidden_states=False\n",
    ")"
   ]
  },
  {
   "cell_type": "code",
   "execution_count": null,
   "id": "34be54ee-3da5-4511-bc11-5c32d39a6346",
   "metadata": {},
   "outputs": [],
   "source": [
    "model = AutoModelForPreTraining.from_pretrained(MODEL, config=config)"
   ]
  },
  {
   "cell_type": "markdown",
   "id": "bbd729e3-1678-40a6-b1d0-5966d838762b",
   "metadata": {},
   "source": [
    "##### Example 1"
   ]
  },
  {
   "cell_type": "code",
   "execution_count": null,
   "id": "2bd9cf19-0cfc-49ff-a5b6-8324d4232e37",
   "metadata": {},
   "outputs": [
    {
     "data": {
      "text/plain": [
       "GPT2TokenizerFast(name_or_path='gpt2', vocab_size=50257, model_max_length=1024, is_fast=True, padding_side='right', truncation_side='right', special_tokens={'bos_token': '<|endoftext|>', 'eos_token': '<|endoftext|>', 'unk_token': '<|endoftext|>'}, clean_up_tokenization_spaces=True)"
      ]
     },
     "execution_count": null,
     "metadata": {},
     "output_type": "execute_result"
    }
   ],
   "source": [
    "tokenizer"
   ]
  },
  {
   "cell_type": "markdown",
   "id": "e9dd8abb-fed3-494d-9ca3-286bb0ce33d0",
   "metadata": {},
   "source": [
    "##### Example 2"
   ]
  },
  {
   "cell_type": "code",
   "execution_count": null,
   "id": "21397b7f-334e-49e0-a5b7-18a931e1a6b8",
   "metadata": {},
   "outputs": [],
   "source": [
    "SPECIAL_TOKENS = {\n",
    "    \"bos_token\": \"<|BOS|>\",\n",
    "    \"eos_token\": \"<|EOS|>\",\n",
    "    \"sep_token\": \"<|SEP|>\"\n",
    "}"
   ]
  },
  {
   "cell_type": "code",
   "execution_count": null,
   "id": "9bd6b19e-244d-4af2-be19-d565fe8bb506",
   "metadata": {},
   "outputs": [
    {
     "data": {
      "text/plain": [
       "transformers.models.gpt2.modeling_gpt2.GPT2LMHeadModel"
      ]
     },
     "execution_count": null,
     "metadata": {},
     "output_type": "execute_result"
    }
   ],
   "source": [
    "type(model)"
   ]
  },
  {
   "cell_type": "code",
   "execution_count": null,
   "id": "c474b40e-4333-4741-ad39-29ab1c418f11",
   "metadata": {},
   "outputs": [
    {
     "data": {
      "text/plain": [
       "GPT2TokenizerFast(name_or_path='gpt2', vocab_size=50257, model_max_length=1024, is_fast=True, padding_side='right', truncation_side='right', special_tokens={'bos_token': '<|endoftext|>', 'eos_token': '<|endoftext|>', 'unk_token': '<|endoftext|>'}, clean_up_tokenization_spaces=True)"
      ]
     },
     "execution_count": null,
     "metadata": {},
     "output_type": "execute_result"
    }
   ],
   "source": [
    "tokenizer"
   ]
  },
  {
   "cell_type": "code",
   "execution_count": null,
   "id": "68b9d4a7-049a-4662-900f-78ff2174fd35",
   "metadata": {},
   "outputs": [
    {
     "data": {
      "text/plain": [
       "{'bos_token': '<|BOS|>', 'eos_token': '<|EOS|>', 'sep_token': '<|SEP|>'}"
      ]
     },
     "execution_count": null,
     "metadata": {},
     "output_type": "execute_result"
    }
   ],
   "source": [
    "SPECIAL_TOKENS"
   ]
  },
  {
   "cell_type": "markdown",
   "id": "48f38b5b-0074-4ac7-acfa-e93ae10f09a0",
   "metadata": {},
   "source": [
    "Add `SPECIAL_TOKENS` to `tokenizer` and handle the side effects in `model`"
   ]
  },
  {
   "cell_type": "code",
   "execution_count": null,
   "id": "9b9f3e0a-08f5-4fae-9e13-f1435847ebbc",
   "metadata": {},
   "outputs": [
    {
     "data": {
      "text/plain": [
       "3"
      ]
     },
     "execution_count": null,
     "metadata": {},
     "output_type": "execute_result"
    }
   ],
   "source": [
    "tokenizer.add_special_tokens(SPECIAL_TOKENS)"
   ]
  },
  {
   "cell_type": "code",
   "execution_count": null,
   "id": "0c9a36ac-951c-4589-8be0-96f191c47b95",
   "metadata": {},
   "outputs": [],
   "source": [
    "vocab_size = tokenizer.vocab_size"
   ]
  },
  {
   "cell_type": "code",
   "execution_count": null,
   "id": "861b42ed-b73b-47cb-9315-9f026b3fa170",
   "metadata": {},
   "outputs": [
    {
     "data": {
      "text/plain": [
       "50257"
      ]
     },
     "execution_count": null,
     "metadata": {},
     "output_type": "execute_result"
    }
   ],
   "source": [
    "vocab_size"
   ]
  },
  {
   "cell_type": "code",
   "execution_count": null,
   "id": "8a8e88d2-430d-4e2f-9d77-b7b0a0af7b49",
   "metadata": {},
   "outputs": [
    {
     "data": {
      "text/plain": [
       "Embedding(50257, 768)"
      ]
     },
     "execution_count": null,
     "metadata": {},
     "output_type": "execute_result"
    }
   ],
   "source": [
    "model.resize_token_embeddings(vocab_size)"
   ]
  },
  {
   "cell_type": "markdown",
   "id": "875d9291-f37d-44da-87dd-7527f2e3498a",
   "metadata": {},
   "source": [
    "##### Example 3"
   ]
  },
  {
   "cell_type": "code",
   "execution_count": null,
   "id": "36892a71-f6c1-49b7-a249-cd9ae2dfa737",
   "metadata": {},
   "outputs": [
    {
     "data": {
      "text/plain": [
       "148"
      ]
     },
     "execution_count": null,
     "metadata": {},
     "output_type": "execute_result"
    }
   ],
   "source": [
    "len([x for x in model.parameters() if x.requires_grad])"
   ]
  },
  {
   "cell_type": "code",
   "execution_count": null,
   "id": "b4587a20-3573-4102-b5c7-e05b098170f4",
   "metadata": {},
   "outputs": [
    {
     "data": {
      "text/plain": [
       "transformers.models.gpt2.modeling_gpt2.GPT2LMHeadModel"
      ]
     },
     "execution_count": null,
     "metadata": {},
     "output_type": "execute_result"
    }
   ],
   "source": [
    "type(model)"
   ]
  },
  {
   "cell_type": "markdown",
   "id": "3a94e247-975c-4602-a553-645ba5093af0",
   "metadata": {},
   "source": [
    "Fine-tune the last 6 transformer blocks\n",
    "\n",
    "**Hint**: `model.transformer.x.parameters()`"
   ]
  },
  {
   "cell_type": "code",
   "execution_count": null,
   "id": "1df2f199-1b4c-4010-bc12-f450022493cc",
   "metadata": {},
   "outputs": [],
   "source": [
    "for param in model.parameters():\n",
    "    param.requires_grad = False"
   ]
  },
  {
   "cell_type": "code",
   "execution_count": null,
   "id": "26c8aedb-540a-4193-a128-905076136d73",
   "metadata": {},
   "outputs": [
    {
     "data": {
      "text/plain": [
       "12"
      ]
     },
     "execution_count": null,
     "metadata": {},
     "output_type": "execute_result"
    }
   ],
   "source": [
    "len(model.transformer.h)"
   ]
  },
  {
   "cell_type": "code",
   "execution_count": null,
   "id": "adbe03d7-dc03-4296-964d-3855b02a98c0",
   "metadata": {},
   "outputs": [
    {
     "data": {
      "text/plain": [
       "<generator object Module.parameters>"
      ]
     },
     "execution_count": null,
     "metadata": {},
     "output_type": "execute_result"
    }
   ],
   "source": [
    "model.transformer.h[0].parameters()"
   ]
  },
  {
   "cell_type": "code",
   "execution_count": null,
   "id": "c5dbe92e-861b-4438-acd4-a78ec6ead7a7",
   "metadata": {},
   "outputs": [],
   "source": [
    "for i, block in enumerate(model.transformer.h):\n",
    "    if i >= 6:\n",
    "        for param in block.parameters():\n",
    "            param.requires_grad = True"
   ]
  },
  {
   "cell_type": "code",
   "execution_count": null,
   "id": "cf5eccb9-bc2c-42ac-a806-caf98007636b",
   "metadata": {},
   "outputs": [],
   "source": [
    "for param in model.transformer.ln_f.parameters():\n",
    "    param.requires_grad = True"
   ]
  },
  {
   "cell_type": "code",
   "execution_count": null,
   "id": "e3f35ac4-8697-442a-ad4b-5ebf70b212f2",
   "metadata": {},
   "outputs": [],
   "source": [
    "for param in model.lm_head.parameters():\n",
    "    param.requires_grad = True"
   ]
  },
  {
   "cell_type": "code",
   "execution_count": null,
   "id": "f97be26a-faa4-4a42-a80e-824d81c67c0b",
   "metadata": {},
   "outputs": [
    {
     "data": {
      "text/plain": [
       "transformers.models.gpt2.modeling_gpt2.GPT2LMHeadModel"
      ]
     },
     "execution_count": null,
     "metadata": {},
     "output_type": "execute_result"
    }
   ],
   "source": [
    "type(model)"
   ]
  },
  {
   "cell_type": "code",
   "execution_count": null,
   "id": "8cb58d68-1cab-4bc5-8d48-a92ecb618222",
   "metadata": {},
   "outputs": [],
   "source": []
  },
  {
   "cell_type": "code",
   "execution_count": null,
   "id": "8e2a5cb4-b4fc-4310-91a7-52b65b053883",
   "metadata": {},
   "outputs": [],
   "source": []
  }
 ],
 "metadata": {
  "kernelspec": {
   "display_name": "Python 3 (ipykernel)",
   "language": "python",
   "name": "python3"
  }
 },
 "nbformat": 4,
 "nbformat_minor": 5
}
