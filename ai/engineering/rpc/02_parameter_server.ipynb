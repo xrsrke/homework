{
 "cells": [
  {
   "cell_type": "code",
   "execution_count": 4,
   "id": "ecf1e3c1-57a3-4357-95c1-769ec9ee199b",
   "metadata": {
    "tags": []
   },
   "outputs": [],
   "source": [
    "import torch\n",
    "from torch import nn\n",
    "import torch.distributed.rpc as rpc"
   ]
  },
  {
   "cell_type": "code",
   "execution_count": 2,
   "id": "57689bc9-391c-4cda-9a90-a979f69ee61c",
   "metadata": {
    "tags": []
   },
   "outputs": [],
   "source": [
    "class Net(nn.Module):\n",
    "    def __init__(self):\n",
    "        pass"
   ]
  },
  {
   "cell_type": "code",
   "execution_count": 3,
   "id": "32d80a0e-9450-4be5-b7c2-892466b56bf6",
   "metadata": {
    "tags": []
   },
   "outputs": [],
   "source": [
    "def call_method(method, rref, *args, **kwargs):\n",
    "    return method(rref.local_value(), *args, **kwargs)"
   ]
  },
  {
   "cell_type": "code",
   "execution_count": 8,
   "id": "793111e3-2a81-4b29-8ad7-f881547e1d2d",
   "metadata": {
    "tags": []
   },
   "outputs": [],
   "source": [
    "def remote_method(method, rref, *args, **kwargs):\n",
    "    args = [method, rref] + list(args)\n",
    "    return rpc.rpc_sync(rref.owner(), call_method, args=args, kwargs=kwargs)"
   ]
  },
  {
   "cell_type": "code",
   "execution_count": 10,
   "id": "6985b899-849f-4c2e-bc21-f8ffad30ca41",
   "metadata": {
    "tags": []
   },
   "outputs": [],
   "source": [
    "class ParameterServer(nn.Module):\n",
    "    def __init__(self):\n",
    "        super().__init__()\n",
    "        self.model = Net()\n",
    "    \n",
    "    def forward(self, input):\n",
    "        output = self.model(input)\n",
    "        return output"
   ]
  },
  {
   "cell_type": "code",
   "execution_count": null,
   "id": "1d980e0e-844e-4abf-b53c-2182191efdec",
   "metadata": {},
   "outputs": [],
   "source": [
    "cl"
   ]
  }
 ],
 "metadata": {
  "kernelspec": {
   "display_name": "Python 3 (ipykernel)",
   "language": "python",
   "name": "python3"
  },
  "language_info": {
   "codemirror_mode": {
    "name": "ipython",
    "version": 3
   },
   "file_extension": ".py",
   "mimetype": "text/x-python",
   "name": "python",
   "nbconvert_exporter": "python",
   "pygments_lexer": "ipython3",
   "version": "3.8.16"
  }
 },
 "nbformat": 4,
 "nbformat_minor": 5
}
