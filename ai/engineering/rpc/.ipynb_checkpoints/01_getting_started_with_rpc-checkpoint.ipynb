{
 "cells": [
  {
   "cell_type": "markdown",
   "id": "06fc67ab-29d7-4864-9605-03428924b9c8",
   "metadata": {},
   "source": [
    "# 1. Getting Started with Distributed RPC Framework"
   ]
  },
  {
   "cell_type": "code",
   "execution_count": 2,
   "id": "12cfb393-87b2-4106-be1d-cbfdf79b54cf",
   "metadata": {
    "tags": []
   },
   "outputs": [],
   "source": [
    "import torch\n",
    "import torch.distributed.rpc as rpc\n",
    "from torch.distributed.rpc import RRef"
   ]
  },
  {
   "cell_type": "code",
   "execution_count": null,
   "id": "e46e6578-fe87-458b-aa9b-cc31b0b3621b",
   "metadata": {},
   "outputs": [],
   "source": [
    "class Agent:\n",
    "    def __init__(self, world_size):\n",
    "        self.ob_rrefs = []\n",
    "        self.agent_rrefs = RRef(self)\n",
    "        self.rewards = {}\n",
    "        \n",
    "        "
   ]
  }
 ],
 "metadata": {
  "kernelspec": {
   "display_name": "Python 3 (ipykernel)",
   "language": "python",
   "name": "python3"
  },
  "language_info": {
   "codemirror_mode": {
    "name": "ipython",
    "version": 3
   },
   "file_extension": ".py",
   "mimetype": "text/x-python",
   "name": "python",
   "nbconvert_exporter": "python",
   "pygments_lexer": "ipython3",
   "version": "3.8.16"
  }
 },
 "nbformat": 4,
 "nbformat_minor": 5
}
