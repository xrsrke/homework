{
 "cells": [
  {
   "cell_type": "markdown",
   "id": "23fd2794-5119-4ac5-a725-cd2d2d43647d",
   "metadata": {},
   "source": [
    "##### Example 1"
   ]
  },
  {
   "cell_type": "code",
   "execution_count": 4,
   "id": "bea322f7-d9cf-416a-85cd-34c542e5390b",
   "metadata": {
    "tags": []
   },
   "outputs": [],
   "source": [
    "import gymnasium as gym"
   ]
  },
  {
   "cell_type": "code",
   "execution_count": 5,
   "id": "68fa156f-1334-497c-baf2-e7b255f59be3",
   "metadata": {
    "tags": []
   },
   "outputs": [],
   "source": [
    "env = gym.make('CartPole-v1')"
   ]
  },
  {
   "cell_type": "code",
   "execution_count": 20,
   "id": "e72c0604-7edd-4276-bc2c-ac5dc5f5138b",
   "metadata": {
    "tags": []
   },
   "outputs": [
    {
     "data": {
      "text/plain": [
       "<TimeLimit<OrderEnforcing<PassiveEnvChecker<CartPoleEnv<CartPole-v1>>>>>"
      ]
     },
     "execution_count": 20,
     "metadata": {},
     "output_type": "execute_result"
    }
   ],
   "source": [
    "env"
   ]
  },
  {
   "cell_type": "code",
   "execution_count": 21,
   "id": "8642799c-57ee-4eec-a5d1-249b6697be21",
   "metadata": {
    "tags": []
   },
   "outputs": [],
   "source": [
    "import torch.distributed.rpc as rpc"
   ]
  },
  {
   "cell_type": "markdown",
   "id": "dfa2dafb-f653-4ad8-b07d-866e8ae2c003",
   "metadata": {},
   "source": [
    "Create an Observer class in which the method run_episode runs an episode with a maximum of 69 steps using `agent.select_action(observer_id, state)` via its RRef\n",
    "\n",
    "**Hint**: Taking an action returns: `state, reward, done, _`"
   ]
  },
  {
   "cell_type": "code",
   "execution_count": 22,
   "id": "2db24309-0296-49de-8a49-96d7b324bcfe",
   "metadata": {
    "tags": []
   },
   "outputs": [],
   "source": [
    "class Observer:\n",
    "    def __init__(self, env):\n",
    "        self.id = rpc.get_worker_info().id\n",
    "        self.env = env\n",
    "    \n",
    "    def run_episode(self, agent_rref):\n",
    "        state, _ = self.env.reset()\n",
    "        \n",
    "        for _ in range(69):\n",
    "            # send the state to the agent to get an action\n",
    "            action = agent_rref.rpc_sync().select_action(self.id, state)\n",
    "            \n",
    "            # apply the action to the environment, and get the reward\n",
    "            state, reward, done, _ = self.env.step(action)\n",
    "            \n",
    "            if done: break # could be ignore"
   ]
  },
  {
   "cell_type": "code",
   "execution_count": null,
   "id": "f45e622d-0691-42dd-b21c-457e7f78d06c",
   "metadata": {},
   "outputs": [],
   "source": [
    "observer = Observer(env)"
   ]
  },
  {
   "cell_type": "code",
   "execution_count": null,
   "id": "bb323946-f903-4dd8-b2ce-dda1ccad7b70",
   "metadata": {},
   "outputs": [],
   "source": [
    "observer.run_episode(agent_rref)"
   ]
  },
  {
   "cell_type": "markdown",
   "id": "f193e279-3d41-4551-8295-864cc0fab643",
   "metadata": {},
   "source": [
    "##### Example 2"
   ]
  },
  {
   "cell_type": "code",
   "execution_count": 29,
   "id": "8ac3df39-09b1-4daa-8fd9-817027d33e2f",
   "metadata": {
    "tags": []
   },
   "outputs": [],
   "source": [
    "class Agent:\n",
    "    pass"
   ]
  },
  {
   "cell_type": "markdown",
   "id": "629c4ed3-d1d6-487e-9883-84e26f4ee61c",
   "metadata": {},
   "source": [
    "Add `Agent`'s rref in the `Agent.id` attribute during initialization"
   ]
  },
  {
   "cell_type": "code",
   "execution_count": 30,
   "id": "abf489fa-fac5-45b8-ae4e-debe7469f196",
   "metadata": {
    "tags": []
   },
   "outputs": [],
   "source": [
    "from torch.distributed.rpc import RRef"
   ]
  },
  {
   "cell_type": "code",
   "execution_count": 31,
   "id": "d70bc2b3-6fc0-4b82-81cc-3a72d8de8b6a",
   "metadata": {
    "tags": []
   },
   "outputs": [],
   "source": [
    "class Agent:\n",
    "    def __init__(self):\n",
    "        self.id = RRef(self)"
   ]
  },
  {
   "cell_type": "code",
   "execution_count": 32,
   "id": "6d68e00f-9612-44d3-8832-4047652cbaf3",
   "metadata": {
    "tags": []
   },
   "outputs": [
    {
     "data": {
      "text/plain": [
       "__main__.Agent"
      ]
     },
     "execution_count": 32,
     "metadata": {},
     "output_type": "execute_result"
    }
   ],
   "source": [
    "Agent"
   ]
  },
  {
   "cell_type": "markdown",
   "id": "f8ab53a6-c672-4463-b9c6-5212bdb18deb",
   "metadata": {},
   "source": [
    "##### Example 2"
   ]
  },
  {
   "cell_type": "code",
   "execution_count": 3,
   "id": "92e99d7f-5a90-406d-acff-17aaa32fcb02",
   "metadata": {
    "tags": []
   },
   "outputs": [],
   "source": [
    "world_size = 4"
   ]
  },
  {
   "cell_type": "code",
   "execution_count": 4,
   "id": "aacde6b6-0efd-4e92-a012-eac6671a4d01",
   "metadata": {
    "tags": []
   },
   "outputs": [
    {
     "data": {
      "text/plain": [
       "4"
      ]
     },
     "execution_count": 4,
     "metadata": {},
     "output_type": "execute_result"
    }
   ],
   "source": [
    "world_size"
   ]
  },
  {
   "cell_type": "markdown",
   "id": "13f0afb2-988e-4a45-b82f-9b1e8ad75d56",
   "metadata": {},
   "source": [
    "Launch four new processes and initialize RPC. Each process should have the name agent_rank.\n",
    "\n",
    "Hint: Set `MASTER_ADDR` to `localhost` and `MASTER_PORT` to `29500`."
   ]
  },
  {
   "cell_type": "code",
   "execution_count": 5,
   "id": "16cb08a9-cc1c-4397-a9f0-cea5743d5424",
   "metadata": {
    "tags": []
   },
   "outputs": [],
   "source": [
    "import os\n",
    "import torch.multiprocessing as mp"
   ]
  },
  {
   "cell_type": "code",
   "execution_count": 6,
   "id": "043b7411-06de-4699-a3ab-02c940c814e8",
   "metadata": {
    "tags": []
   },
   "outputs": [],
   "source": [
    "AGENT_NAME = \"agent_{}\""
   ]
  },
  {
   "cell_type": "code",
   "execution_count": 7,
   "id": "5535ec6c-0c35-4f36-8cc0-f4fd370f634d",
   "metadata": {
    "tags": []
   },
   "outputs": [
    {
     "data": {
      "text/plain": [
       "'agent_1'"
      ]
     },
     "execution_count": 7,
     "metadata": {},
     "output_type": "execute_result"
    }
   ],
   "source": [
    "AGENT_NAME.format(1)"
   ]
  },
  {
   "cell_type": "code",
   "execution_count": 8,
   "id": "db98a2ac-0e69-4343-837b-e05e00a57dcc",
   "metadata": {
    "tags": []
   },
   "outputs": [],
   "source": [
    "def run_worker(rank, world_size):\n",
    "    os.environ['MASTER_ADDR'] = 'localhost'\n",
    "    os.environ['MASTER_PORT'] = '29500'\n",
    "    \n",
    "    rpc.init_rpc(AGENT_NAME.format(rank), rank=rank, world_size=world_size)\n"
   ]
  },
  {
   "cell_type": "code",
   "execution_count": null,
   "id": "d36e2457-98f8-4ae9-97de-71cd69e7de2e",
   "metadata": {},
   "outputs": [],
   "source": [
    "for rank in range(world_size):\n",
    "    process = mp.Process(target=run_worker, args=(rank, world_size))\n",
    "    process.start()"
   ]
  },
  {
   "cell_type": "markdown",
   "id": "b9d9c00c-dd53-423b-8c74-7841e91b6131",
   "metadata": {},
   "source": [
    "##### Example 3"
   ]
  },
  {
   "cell_type": "code",
   "execution_count": 28,
   "id": "0bc659af-1705-4945-9538-fe4ce16e23f1",
   "metadata": {
    "tags": []
   },
   "outputs": [],
   "source": [
    "ob_rrefs = []"
   ]
  },
  {
   "cell_type": "code",
   "execution_count": 32,
   "id": "8ee694db-1a10-4240-b4d0-23d93f02fbb0",
   "metadata": {
    "tags": []
   },
   "outputs": [
    {
     "data": {
      "text/plain": [
       "list"
      ]
     },
     "execution_count": 32,
     "metadata": {},
     "output_type": "execute_result"
    }
   ],
   "source": [
    "type(ob_rrefs)"
   ]
  },
  {
   "cell_type": "markdown",
   "id": "bc430d43-fe3e-4ea9-8e34-85912c636bca",
   "metadata": {},
   "source": [
    "Invoke the `run` function asynchronously on all objects in `ob_rrefs`. Then, wait for all of them to complete.     "
   ]
  },
  {
   "cell_type": "code",
   "execution_count": 33,
   "id": "a0c0b4d9-ffac-490f-9985-3053adc2a0a2",
   "metadata": {
    "tags": []
   },
   "outputs": [],
   "source": [
    "import torch.distributed.rpc as rpc"
   ]
  },
  {
   "cell_type": "code",
   "execution_count": 34,
   "id": "f67beebe-8141-4308-9df0-3dfcb2d655bf",
   "metadata": {
    "tags": []
   },
   "outputs": [],
   "source": [
    "futs = []"
   ]
  },
  {
   "cell_type": "code",
   "execution_count": null,
   "id": "7d271c1c-3f5f-4459-988b-49ae1e6d39b7",
   "metadata": {},
   "outputs": [],
   "source": [
    "for ob_rref in ob_rrefs:\n",
    "    futs.append(rpc.rpc_async(\n",
    "        to=ob_rref.owner(),\n",
    "        func=ob_rref.rpc_sync().run,\n",
    "    ))"
   ]
  },
  {
   "cell_type": "code",
   "execution_count": null,
   "id": "c97f7aa3-3a89-4f9c-9ba4-59b93c19e959",
   "metadata": {},
   "outputs": [],
   "source": [
    "for fut in futs:\n",
    "    fut.wait()"
   ]
  },
  {
   "cell_type": "markdown",
   "id": "9ce92ef1-c4d0-4343-95da-fb53130795b4",
   "metadata": {},
   "source": [
    "##### Example 4"
   ]
  },
  {
   "cell_type": "code",
   "execution_count": null,
   "id": "e64467f5-b714-4181-b4af-134bf286d93f",
   "metadata": {},
   "outputs": [],
   "source": []
  }
 ],
 "metadata": {
  "kernelspec": {
   "display_name": "Python 3 (ipykernel)",
   "language": "python",
   "name": "python3"
  },
  "language_info": {
   "codemirror_mode": {
    "name": "ipython",
    "version": 3
   },
   "file_extension": ".py",
   "mimetype": "text/x-python",
   "name": "python",
   "nbconvert_exporter": "python",
   "pygments_lexer": "ipython3",
   "version": "3.8.16"
  }
 },
 "nbformat": 4,
 "nbformat_minor": 5
}
