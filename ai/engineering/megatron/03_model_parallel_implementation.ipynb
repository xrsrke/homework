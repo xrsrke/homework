{
 "cells": [
  {
   "cell_type": "markdown",
   "id": "f472f202-75f1-4e9c-8b9e-2a42777e1633",
   "metadata": {},
   "source": [
    "### 3. Model Parallel Implementation"
   ]
  },
  {
   "cell_type": "code",
   "execution_count": null,
   "id": "de3a9ef9-a01f-4743-be9f-be6e411a5db1",
   "metadata": {},
   "outputs": [],
   "source": [
    "import torch\n",
    "from torch import nn"
   ]
  },
  {
   "cell_type": "code",
   "execution_count": null,
   "id": "03d760cd-a67f-472c-86c4-ed417bc3955d",
   "metadata": {},
   "outputs": [],
   "source": [
    "n = 256"
   ]
  },
  {
   "cell_type": "code",
   "execution_count": null,
   "id": "7897a4ea-697d-4817-8ff7-caf4618d733d",
   "metadata": {},
   "outputs": [],
   "source": [
    "mlp = nn.Sequential(\n",
    "    nn.Linear(n, 4*n),\n",
    "    nn.GELU(),\n",
    "    nn.Linear(4*n, n),\n",
    "    nn.Dropout(0.1)\n",
    ")"
   ]
  },
  {
   "cell_type": "code",
   "execution_count": null,
   "id": "002941a7-0318-470c-befc-c54549995299",
   "metadata": {},
   "outputs": [
    {
     "data": {
      "text/plain": [
       "Sequential(\n",
       "  (0): Linear(in_features=256, out_features=1024, bias=True)\n",
       "  (1): GELU(approximate='none')\n",
       "  (2): Linear(in_features=1024, out_features=256, bias=True)\n",
       "  (3): Dropout(p=0.1, inplace=False)\n",
       ")"
      ]
     },
     "execution_count": null,
     "metadata": {},
     "output_type": "execute_result"
    }
   ],
   "source": [
    "mlp"
   ]
  },
  {
   "cell_type": "markdown",
   "id": "e2a9a61e-dc5b-40ab-8dce-b16b2262acc2",
   "metadata": {},
   "source": [
    "Column Parallel Linear `n -> 4*n`"
   ]
  },
  {
   "cell_type": "markdown",
   "id": "a78311c3-df46-4ad0-b4e9-7c66f14872af",
   "metadata": {},
   "source": [
    "`megatron.model.transformer`"
   ]
  },
  {
   "cell_type": "code",
   "execution_count": null,
   "id": "69bea1d7-4324-425f-b435-4dbcd41f0267",
   "metadata": {},
   "outputs": [],
   "source": [
    "import torch.distributed as dist\n",
    "\n",
    "from einops import rearrange"
   ]
  },
  {
   "cell_type": "markdown",
   "id": "c93e3cbb-b5a5-4b72-b39c-d3335f5d9967",
   "metadata": {},
   "source": [
    "Ignore little details like initiailization, focus on the main idea of column parallism"
   ]
  },
  {
   "cell_type": "code",
   "execution_count": null,
   "id": "3a42c4c2-30ed-43ba-b677-023c148ab179",
   "metadata": {},
   "outputs": [],
   "source": [
    "def get_tensor_model_parallel_group():\n",
    "    return 1"
   ]
  },
  {
   "cell_type": "code",
   "execution_count": null,
   "id": "886622f9-c113-4b8b-8c6c-a53560839d88",
   "metadata": {},
   "outputs": [],
   "source": [
    "def _reduce(x):\n",
    "    if dist.get_world_size() == 1:\n",
    "        return x\n",
    "    \n",
    "    torch.distributed.all_reduce(x, group=get_tensor_model_parallel_group())"
   ]
  },
  {
   "cell_type": "code",
   "execution_count": null,
   "id": "80c68c08-59a8-41e1-86f0-76eb5f26ea9d",
   "metadata": {},
   "outputs": [],
   "source": [
    "class CopyToModelParallelRegion(torch.autograd.Function):\n",
    "    @staticmethod\n",
    "    def forward(self, x):\n",
    "        return x\n",
    "\n",
    "    @staticmethod\n",
    "    def backward(self, grad_output):\n",
    "        return _reduce(grad_output)"
   ]
  },
  {
   "cell_type": "code",
   "execution_count": null,
   "id": "83de7ef6-3332-4437-a710-3e33dd69b97b",
   "metadata": {},
   "outputs": [],
   "source": [
    "class ColumnParallelLinearWithAsyncAllreduce(torch.autograd.Function):\n",
    "    @staticmethod\n",
    "    def forward(ctx, input, weight, bias):\n",
    "        crx.save_for_backward(input, weight)\n",
    "        output = torch.matmul(input, weight.T) + bias\n",
    "        return output\n",
    "\n",
    "    @staticmethod\n",
    "    def backward(ctx, grad_output):\n",
    "        input, weight = ctx.saved_tensors"
   ]
  },
  {
   "cell_type": "code",
   "execution_count": null,
   "id": "199eae8d-683d-4508-ac68-47904b582efa",
   "metadata": {},
   "outputs": [],
   "source": [
    "class ColumnParallelLinear(nn.Module):\n",
    "    def __init__(self, input_size, output_size, gather_output):\n",
    "        super().__init__()\n",
    "        self.input_size = input_size\n",
    "        self.output_size = output_size\n",
    "        self.gather_output = gather_output\n",
    "        \n",
    "        world_size = dist.get_world_size()\n",
    "        self.output_size_per_partition = output_size // world_size\n",
    "        \n",
    "        self.weight = nn.Parameter(torch.empty(\n",
    "            self.output_size_per_partition,\n",
    "            self.input_size\n",
    "        ))\n",
    "        self.bias = nn.Parameter(torch.empty(\n",
    "            self.output_size_per_partition,\n",
    "            self.input_size\n",
    "        ))\n",
    "    \n",
    "    def forward(self, input):\n",
    "        input = rearrange(\n",
    "            input,\n",
    "            \"sequence batch hidden -> (sequence batch hidden)\"\n",
    "        )\n",
    "        \n",
    "        input_parallel = CopyToModelParallelRegion.apply(input)\n",
    "        \n",
    "        output_parallel = ColumnParallelLinearWithAsyncAllreduce()\n",
    "        \n",
    "        output = _GatherFromModelParallelRegion()\n",
    "        \n",
    "        return output"
   ]
  },
  {
   "cell_type": "code",
   "execution_count": null,
   "id": "100c1b1b-c0eb-4b55-926e-040bded8e949",
   "metadata": {},
   "outputs": [],
   "source": [
    "class ParallelMLP(nn.Module):\n",
    "    def __init__(self):\n",
    "        self.dense_h_to_4h = 1"
   ]
  },
  {
   "cell_type": "code",
   "execution_count": null,
   "id": "c8d83f38-201f-414d-b719-1f78a133fd8f",
   "metadata": {},
   "outputs": [],
   "source": [
    "input = torch.randn(10, 5, 2)"
   ]
  },
  {
   "cell_type": "code",
   "execution_count": null,
   "id": "46ae17a4-51da-4f5d-97c0-85cc4278acd7",
   "metadata": {},
   "outputs": [],
   "source": []
  },
  {
   "cell_type": "code",
   "execution_count": null,
   "id": "489ae120-aab7-49c3-af3d-e9275528037c",
   "metadata": {},
   "outputs": [],
   "source": []
  },
  {
   "cell_type": "code",
   "execution_count": null,
   "id": "5578caee-a9bf-4f1c-8dba-f3f5bf9270d1",
   "metadata": {},
   "outputs": [],
   "source": [
    "from typing import Sequence\n",
    "\n",
    "class VocabUtility:\n",
    "    \"\"\" Split the vocabulary into `world_size` chunks and return the first\n",
    "        and last index of the vocabulary belonging to the `rank`\n",
    "        partition: Note that indices in [fist, last)\n",
    "\n",
    "    \"\"\"\n",
    "\n",
    "    @staticmethod\n",
    "    def vocab_range_from_per_partition_vocab_size(\n",
    "        per_partition_vocab_size: int, rank, world_size: int\n",
    "    ) -> Sequence[int]:\n",
    "        index_f = rank * per_partition_vocab_size\n",
    "        index_l = index_f + per_partition_vocab_size\n",
    "        return index_f, index_l\n",
    "\n",
    "    @staticmethod\n",
    "    def vocab_range_from_global_vocab_size(global_vocab_size: int, rank: int, world_size: int) -> Sequence[int]:\n",
    "        per_partition_vocab_size = global_vocab_size // world_size\n",
    "        return VocabUtility.vocab_range_from_per_partition_vocab_size(\n",
    "            per_partition_vocab_size, rank, world_size\n",
    "        )"
   ]
  },
  {
   "cell_type": "code",
   "execution_count": null,
   "id": "43f83f9c-92ef-4980-beb5-31a7db789e37",
   "metadata": {},
   "outputs": [
    {
     "data": {
      "text/plain": [
       "(250, 500)"
      ]
     },
     "execution_count": null,
     "metadata": {},
     "output_type": "execute_result"
    }
   ],
   "source": [
    "VocabUtility.vocab_range_from_global_vocab_size(1000, 1, 4)"
   ]
  },
  {
   "cell_type": "code",
   "execution_count": null,
   "id": "5d741d95-84d3-40af-a09a-b54421dbd4ca",
   "metadata": {},
   "outputs": [],
   "source": [
    "def extract_range(n_embed, rank, world_size):\n",
    "    per_patrition_vocab_size = n_embed // world_size\n",
    "    start_idx = rank * per_patrition_vocab_size \n",
    "    end_idx = start_idx + per_patrition_vocab_size\n",
    "    return start_idx, end_idx"
   ]
  },
  {
   "cell_type": "code",
   "execution_count": null,
   "id": "b15524b1-ded0-44d7-8bd5-9cbe4606cf66",
   "metadata": {},
   "outputs": [
    {
     "data": {
      "text/plain": [
       "(250, 500)"
      ]
     },
     "execution_count": null,
     "metadata": {},
     "output_type": "execute_result"
    }
   ],
   "source": [
    "extract_range(1000, 1, 4)"
   ]
  },
  {
   "cell_type": "code",
   "execution_count": null,
   "id": "f8e5498c-9a91-4812-a7f1-910eb4e76f51",
   "metadata": {},
   "outputs": [],
   "source": [
    "import torch"
   ]
  },
  {
   "cell_type": "code",
   "execution_count": null,
   "id": "2367c1c5-4747-4bba-a2d2-072edc690451",
   "metadata": {},
   "outputs": [],
   "source": [
    "input = torch.randint(low=0, high=50, size=(1, 50)).view(5, 10)"
   ]
  },
  {
   "cell_type": "code",
   "execution_count": null,
   "id": "0fccbb6a-85eb-4951-baa0-ce47961fbd25",
   "metadata": {},
   "outputs": [
    {
     "data": {
      "text/plain": [
       "tensor([[23, 34, 29, 45, 27, 27, 39, 28,  6,  4],\n",
       "        [39, 11, 19,  7, 27, 22, 34, 31, 47, 25],\n",
       "        [47, 22, 36,  1, 39, 47, 44, 48, 16, 36],\n",
       "        [36, 23, 16, 41,  7, 48, 23, 41,  2, 36],\n",
       "        [ 8,  0,  5, 23, 33, 33, 43, 25, 19, 42]])"
      ]
     },
     "execution_count": null,
     "metadata": {},
     "output_type": "execute_result"
    }
   ],
   "source": [
    "input"
   ]
  },
  {
   "cell_type": "code",
   "execution_count": null,
   "id": "bdc6d8d8-45a4-4be9-a7af-4093576a9e54",
   "metadata": {},
   "outputs": [],
   "source": [
    "new_input = (input > 30) | (input < 5)"
   ]
  },
  {
   "cell_type": "code",
   "execution_count": null,
   "id": "1b28a623-c7d9-4dd6-af14-c3cf7401b01f",
   "metadata": {},
   "outputs": [
    {
     "data": {
      "text/plain": [
       "tensor([[False,  True, False,  True, False, False,  True, False, False,  True],\n",
       "        [ True, False, False, False, False, False,  True,  True,  True, False],\n",
       "        [ True, False,  True,  True,  True,  True,  True,  True, False,  True],\n",
       "        [ True, False, False,  True, False,  True, False,  True,  True,  True],\n",
       "        [False,  True, False, False,  True,  True,  True, False, False,  True]])"
      ]
     },
     "execution_count": null,
     "metadata": {},
     "output_type": "execute_result"
    }
   ],
   "source": [
    "new_input"
   ]
  },
  {
   "cell_type": "code",
   "execution_count": null,
   "id": "4ac8c31a-87bb-46fb-b552-057c1445f6de",
   "metadata": {},
   "outputs": [],
   "source": [
    "import torch"
   ]
  },
  {
   "cell_type": "code",
   "execution_count": null,
   "id": "e243ed55-60b9-4913-b54c-f0de316bf392",
   "metadata": {},
   "outputs": [],
   "source": [
    "x = torch.randn(4, 3)"
   ]
  },
  {
   "cell_type": "code",
   "execution_count": null,
   "id": "660fe604-77e5-4caf-95d1-538ff199814e",
   "metadata": {},
   "outputs": [
    {
     "data": {
      "text/plain": [
       "torch.Size([4, 3])"
      ]
     },
     "execution_count": null,
     "metadata": {},
     "output_type": "execute_result"
    }
   ],
   "source": [
    "x.shape"
   ]
  },
  {
   "cell_type": "code",
   "execution_count": null,
   "id": "24c23424-55a5-4092-a070-874371b81b81",
   "metadata": {},
   "outputs": [
    {
     "data": {
      "text/plain": [
       "1"
      ]
     },
     "execution_count": null,
     "metadata": {},
     "output_type": "execute_result"
    }
   ],
   "source": [
    "x.dim() - 1"
   ]
  },
  {
   "cell_type": "code",
   "execution_count": null,
   "id": "8191673e-afc5-4db3-a510-450271899551",
   "metadata": {},
   "outputs": [],
   "source": [
    "last_dim = x.dim() - 1"
   ]
  },
  {
   "cell_type": "code",
   "execution_count": null,
   "id": "8cc1e24a-d1f2-463f-8714-dacd19bbe0bb",
   "metadata": {},
   "outputs": [
    {
     "data": {
      "text/plain": [
       "1"
      ]
     },
     "execution_count": null,
     "metadata": {},
     "output_type": "execute_result"
    }
   ],
   "source": [
    "last_dim"
   ]
  },
  {
   "cell_type": "code",
   "execution_count": null,
   "id": "0a658dc8-d8a8-4994-8cce-e6b9aa892ca8",
   "metadata": {},
   "outputs": [
    {
     "data": {
      "text/plain": [
       "3"
      ]
     },
     "execution_count": null,
     "metadata": {},
     "output_type": "execute_result"
    }
   ],
   "source": [
    "x.size()[last_dim]"
   ]
  },
  {
   "cell_type": "code",
   "execution_count": null,
   "id": "29fec4e1-777b-4374-a206-5a144d48ae19",
   "metadata": {},
   "outputs": [
    {
     "data": {
      "text/plain": [
       "3"
      ]
     },
     "execution_count": null,
     "metadata": {},
     "output_type": "execute_result"
    }
   ],
   "source": [
    "x.shape[-1]"
   ]
  },
  {
   "cell_type": "code",
   "execution_count": null,
   "id": "2a7f5fdd-99f3-4ce3-9155-f630b2abde41",
   "metadata": {},
   "outputs": [
    {
     "data": {
      "text/plain": [
       "1"
      ]
     },
     "execution_count": null,
     "metadata": {},
     "output_type": "execute_result"
    }
   ],
   "source": [
    "x.ndim - 1"
   ]
  },
  {
   "cell_type": "code",
   "execution_count": null,
   "id": "4986672b-958c-4c2b-8c4f-5d8a46d361f8",
   "metadata": {},
   "outputs": [],
   "source": [
    "from torch import nn"
   ]
  },
  {
   "cell_type": "code",
   "execution_count": null,
   "id": "0dcba558-3333-4ea9-b4cb-65e6ffc4575a",
   "metadata": {},
   "outputs": [],
   "source": [
    "a = nn.Parameter(torch.tensor([2., 3.]))\n",
    "b = nn.Parameter(torch.tensor([6., 3.]))"
   ]
  },
  {
   "cell_type": "code",
   "execution_count": null,
   "id": "f66fcb95-9f4c-45d5-b7fe-3a654ca5cbfe",
   "metadata": {},
   "outputs": [],
   "source": [
    "Q = 3*a**3 - b**2"
   ]
  },
  {
   "cell_type": "code",
   "execution_count": null,
   "id": "be91dcfa-c0a3-4138-be62-dc0dece5c99a",
   "metadata": {},
   "outputs": [],
   "source": [
    "external_grad = torch.tensor([1., 1.])\n",
    "Q.backward(gradient=external_grad)"
   ]
  },
  {
   "cell_type": "code",
   "execution_count": null,
   "id": "e1e5b743-eaee-418c-a6d8-c014528384e1",
   "metadata": {},
   "outputs": [
    {
     "data": {
      "text/plain": [
       "tensor([36., 81.])"
      ]
     },
     "execution_count": null,
     "metadata": {},
     "output_type": "execute_result"
    }
   ],
   "source": [
    "a.grad"
   ]
  },
  {
   "cell_type": "code",
   "execution_count": null,
   "id": "edcc3ecd-2a3b-444b-8645-6f8ece7458c7",
   "metadata": {},
   "outputs": [],
   "source": []
  }
 ],
 "metadata": {
  "kernelspec": {
   "display_name": "Python 3 (ipykernel)",
   "language": "python",
   "name": "python3"
  }
 },
 "nbformat": 4,
 "nbformat_minor": 5
}
