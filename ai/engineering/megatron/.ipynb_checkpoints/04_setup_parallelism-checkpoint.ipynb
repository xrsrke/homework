{
 "cells": [
  {
   "cell_type": "markdown",
   "id": "685460e4-81c6-4d1e-9d57-433d4f7737d7",
   "metadata": {},
   "source": [
    "##### Example 1"
   ]
  },
  {
   "cell_type": "code",
   "execution_count": null,
   "id": "4c84db8b-2801-47b8-a274-7dfec00d9cb4",
   "metadata": {},
   "outputs": [],
   "source": [
    "import torch"
   ]
  },
  {
   "cell_type": "code",
   "execution_count": null,
   "id": "87cce71b-9c10-4e82-bceb-cb65ff554c57",
   "metadata": {},
   "outputs": [],
   "source": [
    "def initialize_model_parallel(\n",
    "    tensor_model_parallel_size=1,\n",
    "    pipeline_model_parallel_size=1,\n",
    "    virtual_pipeline_model_parallel_size=None,\n",
    "    pipeline_model_parallel_split_rank=None\n",
    "):\n",
    "    if torch.distributed.get_rank() == 0:\n",
    "        print(\"Initializing\")\n",
    "    \n",
    "    world_size = torch.distributed.get_world_size()\n",
    "    tensor_model_paralel_size"
   ]
  },
  {
   "cell_type": "markdown",
   "id": "20010b32-c272-4160-8623-8330dc53e2da",
   "metadata": {},
   "source": [
    "16 GPUs"
   ]
  },
  {
   "cell_type": "markdown",
   "id": "78531bc7-dc62-4edf-a62e-72184ce2b388",
   "metadata": {},
   "source": [
    "##### Example 2"
   ]
  },
  {
   "cell_type": "code",
   "execution_count": null,
   "id": "a9681fcb-e1ef-45c9-bef5-870216610b4c",
   "metadata": {},
   "outputs": [],
   "source": [
    "import torch"
   ]
  },
  {
   "cell_type": "code",
   "execution_count": null,
   "id": "e4d10870-7590-4381-85b5-4e4c0da073a2",
   "metadata": {},
   "outputs": [],
   "source": [
    "world_size = 16"
   ]
  },
  {
   "cell_type": "code",
   "execution_count": null,
   "id": "63e95f4c-d67e-4a53-bc3f-25c6dc6a1d74",
   "metadata": {},
   "outputs": [],
   "source": [
    "tensor_model_parallel_size = 2"
   ]
  },
  {
   "cell_type": "code",
   "execution_count": null,
   "id": "2fb325fb-a10e-4be6-a6fb-1bb9c6b25948",
   "metadata": {},
   "outputs": [],
   "source": [
    "pipeline_model_parallel_size = 4"
   ]
  },
  {
   "cell_type": "code",
   "execution_count": null,
   "id": "0ba754eb-0ffd-4904-a7dd-a999c291b1dd",
   "metadata": {},
   "outputs": [],
   "source": [
    "n_gpus = tensor_model_parallel_size * pipeline_model_parallel_size"
   ]
  },
  {
   "cell_type": "code",
   "execution_count": null,
   "id": "df3225a4-1304-4d0d-9a34-55d94a2e39c5",
   "metadata": {},
   "outputs": [],
   "source": [
    "data_parallel_size = world_size // n_gpus"
   ]
  },
  {
   "cell_type": "code",
   "execution_count": null,
   "id": "de85dda4-1ad1-4f47-8227-872a6bbf4ebb",
   "metadata": {},
   "outputs": [
    {
     "data": {
      "text/plain": [
       "2"
      ]
     },
     "execution_count": null,
     "metadata": {},
     "output_type": "execute_result"
    }
   ],
   "source": [
    "data_parallel_size"
   ]
  },
  {
   "cell_type": "code",
   "execution_count": null,
   "id": "08f18bf4-3389-49f5-8cf1-01ef94ab361b",
   "metadata": {},
   "outputs": [],
   "source": [
    "num_tensor_model_parallel_group = world_size // tensor_model_parallel_size"
   ]
  },
  {
   "cell_type": "markdown",
   "id": "b0a9a1a2-0b0c-4a4a-a8de-ef7019a44b44",
   "metadata": {},
   "source": [
    "There're 8 intra-parallel group"
   ]
  },
  {
   "cell_type": "code",
   "execution_count": null,
   "id": "ede8f051-8df5-47bc-ab69-a4180890b55a",
   "metadata": {},
   "outputs": [],
   "source": [
    "So the model will be "
   ]
  },
  {
   "cell_type": "code",
   "execution_count": null,
   "id": "7cc444ac-6da9-4638-90f8-dc83144fc10c",
   "metadata": {},
   "outputs": [],
   "source": [
    "num_pipeline_model_parallel = world_size // pipeline_model_parallel_size"
   ]
  },
  {
   "cell_type": "code",
   "execution_count": null,
   "id": "1ac8cad2-d82d-4499-adbc-7959f8070102",
   "metadata": {},
   "outputs": [
    {
     "data": {
      "text/plain": [
       "4"
      ]
     },
     "execution_count": null,
     "metadata": {},
     "output_type": "execute_result"
    }
   ],
   "source": [
    "num_pipeline_model_parallel"
   ]
  },
  {
   "cell_type": "code",
   "execution_count": null,
   "id": "f5f83bd4-03e4-4287-9c43-a29311e615d7",
   "metadata": {},
   "outputs": [],
   "source": [
    "num_data_parallel_groups = world_size // data_parallel_size # 8"
   ]
  },
  {
   "cell_type": "code",
   "execution_count": null,
   "id": "fb6ec388-a9b1-440c-a942-b7f170d4f321",
   "metadata": {},
   "outputs": [],
   "source": [
    "all_data_parallel_group_ranks = []"
   ]
  },
  {
   "cell_type": "code",
   "execution_count": null,
   "id": "3f70f3c8-8602-49c2-a14b-57acf322b749",
   "metadata": {},
   "outputs": [],
   "source": []
  },
  {
   "cell_type": "code",
   "execution_count": null,
   "id": "c32451a3-63db-4acc-81ca-421f9435af1a",
   "metadata": {},
   "outputs": [],
   "source": []
  },
  {
   "cell_type": "code",
   "execution_count": null,
   "id": "0d35cee2-d85c-4009-88f5-3f2ff280bd76",
   "metadata": {},
   "outputs": [],
   "source": []
  },
  {
   "cell_type": "code",
   "execution_count": null,
   "id": "9d9cc7dc-1a71-486f-99cb-e3d6a5868cc1",
   "metadata": {},
   "outputs": [],
   "source": []
  },
  {
   "cell_type": "code",
   "execution_count": null,
   "id": "fb0ec560-17dc-4e10-9ea8-30a5c7bcef8b",
   "metadata": {},
   "outputs": [
    {
     "ename": "SyntaxError",
     "evalue": "invalid syntax (767061272.py, line 1)",
     "output_type": "error",
     "traceback": [
      "\u001b[0;36m  Cell \u001b[0;32mIn[12], line 1\u001b[0;36m\u001b[0m\n\u001b[0;31m    for in in range(pipeline_model_parallel_size):\u001b[0m\n\u001b[0m        ^\u001b[0m\n\u001b[0;31mSyntaxError\u001b[0m\u001b[0;31m:\u001b[0m invalid syntax\n"
     ]
    }
   ],
   "source": [
    "for in in range(pipeline_model_parallel_size):\n",
    "    start_rank = i * num_pipeline_model_parallel"
   ]
  },
  {
   "cell_type": "markdown",
   "id": "eb558df6-2de5-4468-9c71-f9ee9eb8f96c",
   "metadata": {},
   "source": [
    "2 GPUs to parallelize the model tensor"
   ]
  },
  {
   "cell_type": "code",
   "execution_count": null,
   "id": "afe71005-6fdf-43a7-b161-208aa3dcf27a",
   "metadata": {},
   "outputs": [],
   "source": [
    "num_gpus_for_a_tensor_parallel_group = 2"
   ]
  },
  {
   "cell_type": "code",
   "execution_count": null,
   "id": "1cdfa9c6-883b-43ae-936f-0c48f96e6648",
   "metadata": {},
   "outputs": [],
   "source": [
    "num_gpus_for_a_pipeline_parallel_group = 4"
   ]
  },
  {
   "cell_type": "code",
   "execution_count": null,
   "id": "d8f28701-58ee-4b3c-9cc8-14a337ac2ef3",
   "metadata": {},
   "outputs": [],
   "source": [
    "num_tensor_parallel_groups = world_size // num_gpus_for_a_tensor_parallel_group"
   ]
  },
  {
   "cell_type": "code",
   "execution_count": null,
   "id": "f7bc1d4e-788a-4b8e-882a-47f579f5c56a",
   "metadata": {},
   "outputs": [],
   "source": [
    "num_pipeline_parallel_group = world_size // num_gpus_for_a_pipeline_parallel_group"
   ]
  },
  {
   "cell_type": "markdown",
   "id": "7a4875dd-a51a-4400-b588-595f908bc92b",
   "metadata": {},
   "source": [
    "- 2 GPUs to parallelize the model tensor\n",
    "- 4 GPUs to parallelize the model pipeline"
   ]
  },
  {
   "cell_type": "code",
   "execution_count": null,
   "id": "eed8e7fb-b21b-4fe7-97fb-682bafa5f108",
   "metadata": {},
   "outputs": [],
   "source": [
    "world_size = 16"
   ]
  },
  {
   "cell_type": "code",
   "execution_count": null,
   "id": "c3c56dfe-0386-47b0-9edb-51a31a1166aa",
   "metadata": {},
   "outputs": [],
   "source": [
    "tensor_model_parallel_size = 2\n",
    "pipeline_model_parallel_size = 4"
   ]
  },
  {
   "cell_type": "code",
   "execution_count": null,
   "id": "1d08726a-90a7-45ad-a0cd-ef5811b8fde4",
   "metadata": {},
   "outputs": [],
   "source": [
    "data_parallel_size = world_size // (tensor_model_parallel_size * pipeline_model_parallel_size)"
   ]
  },
  {
   "cell_type": "code",
   "execution_count": null,
   "id": "36d956a6-ddce-4bce-800a-2343c0ffc191",
   "metadata": {},
   "outputs": [
    {
     "data": {
      "text/plain": [
       "8"
      ]
     },
     "execution_count": null,
     "metadata": {},
     "output_type": "execute_result"
    }
   ],
   "source": [
    "tensor_model_parallel_size * pipeline_model_parallel_size"
   ]
  },
  {
   "cell_type": "markdown",
   "id": "7ed112bd-bedf-4aec-9b3f-90b28356f372",
   "metadata": {},
   "source": [
    "##### Draft 3"
   ]
  },
  {
   "cell_type": "code",
   "execution_count": null,
   "id": "4638a9b4-5cb5-45e2-b948-4739c7f3e46d",
   "metadata": {},
   "outputs": [],
   "source": []
  }
 ],
 "metadata": {
  "kernelspec": {
   "display_name": "Python 3 (ipykernel)",
   "language": "python",
   "name": "python3"
  }
 },
 "nbformat": 4,
 "nbformat_minor": 5
}
