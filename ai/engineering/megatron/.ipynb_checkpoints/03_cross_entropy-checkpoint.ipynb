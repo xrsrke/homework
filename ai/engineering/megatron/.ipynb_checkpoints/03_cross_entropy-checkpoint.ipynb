{
 "cells": [
  {
   "cell_type": "markdown",
   "id": "ccafb09c-b0cc-45cd-bb37-e985ca67fb49",
   "metadata": {},
   "source": [
    "### `VocabParallelCrossEntropy`"
   ]
  },
  {
   "cell_type": "code",
   "execution_count": null,
   "id": "a50554d2-d513-4d5e-94a7-16ee942d1cd3",
   "metadata": {},
   "outputs": [],
   "source": [
    "import torch\n",
    "from torch.autograd import Function"
   ]
  },
  {
   "cell_type": "code",
   "execution_count": null,
   "id": "b5722203-e055-4c6a-8055-266522e9c4f5",
   "metadata": {},
   "outputs": [],
   "source": [
    "from IPython.core.debugger import set_trace"
   ]
  },
  {
   "cell_type": "code",
   "execution_count": null,
   "id": "d315d721-3b84-4721-8692-0fcaf14298f4",
   "metadata": {},
   "outputs": [],
   "source": [
    "rank = 4\n",
    "world_size = 100"
   ]
  },
  {
   "cell_type": "code",
   "execution_count": null,
   "id": "c223edaf-d31d-4deb-8dc2-00f2dcbe0c98",
   "metadata": {},
   "outputs": [],
   "source": [
    "# def extract_vocab_range(num_embeddings, rank, world_size):\n",
    "#     # per_patrition_vocab_size = num_embeddings // world_size\n",
    "#     start_idx = rank * num_embeddings\n",
    "#     end_idx = start_idx + num_embeddings\n",
    "#     return start_idx, end_idx\n",
    "\n",
    "def extract_vocab_range(\n",
    "    per_partition_vocab_size: int, rank, world_size: int\n",
    "):\n",
    "    index_f = rank * per_partition_vocab_size\n",
    "    index_l = index_f + per_partition_vocab_size\n",
    "    return index_f, index_l"
   ]
  },
  {
   "cell_type": "code",
   "execution_count": null,
   "id": "8c810ac7-f207-466a-88fe-bf68d9b1b699",
   "metadata": {},
   "outputs": [],
   "source": [
    "# extract_vocab_range(num_embeddings=100, rank=rank, world_size=world_size)"
   ]
  },
  {
   "cell_type": "code",
   "execution_count": null,
   "id": "b1275add-bc4a-4dc4-a063-1737fdc2167a",
   "metadata": {},
   "outputs": [],
   "source": [
    "class VocabParallelCrossEntropy(Function):\n",
    "    @staticmethod\n",
    "    def forward(ctx, vocab_parallel_logits, target):\n",
    "        logits_max = torch.max(vocab_parallel_logits, dim=-1)[0]\n",
    "        set_trace()\n",
    "        \n",
    "        # TODO: why max two times?\n",
    "        # torch.distributed.all_reduce(\n",
    "        #     logits_max,\n",
    "        #     op=torch.distributed.ReduceOp.MAX\n",
    "        # )\n",
    "        \n",
    "        # TODO: ?\n",
    "        vocab_parallel_logits.sub_(logits_max.unsqueeze(dim=-1))"
   ]
  },
  {
   "cell_type": "code",
   "execution_count": null,
   "id": "37450d13-f37f-4c2f-afc3-303eea3565f7",
   "metadata": {},
   "outputs": [
    {
     "name": "stderr",
     "output_type": "stream",
     "text": [
      "/var/folders/pf/g3nr86yn4j71vzzmv6knwdhr0000gp/T/ipykernel_11507/3761836215.py:3: UserWarning: torch.range is deprecated and will be removed in a future release because its behavior is inconsistent with Python's range builtin. Instead, use torch.arange, which produces values in [start, end).\n",
      "  vocab_parallel_logits = torch.range(0,7).repeat(16,4)\n"
     ]
    }
   ],
   "source": [
    "# logits = torch.randn(100, 50)\n",
    "# targets = torch.randint(low=0, high=100, size=(4, 50))\n",
    "vocab_parallel_logits = torch.range(0,7).repeat(16,4)\n",
    "target = torch.arange(0,32,2)"
   ]
  },
  {
   "cell_type": "code",
   "execution_count": null,
   "id": "48e18fe7-6f03-48dd-87ce-6c5f9a711c75",
   "metadata": {},
   "outputs": [
    {
     "data": {
      "text/plain": [
       "(torch.Size([16]), torch.Size([16, 32]))"
      ]
     },
     "execution_count": null,
     "metadata": {},
     "output_type": "execute_result"
    }
   ],
   "source": [
    "target.shape, vocab_parallel_logits.shape"
   ]
  },
  {
   "cell_type": "code",
   "execution_count": null,
   "id": "81fb8ffe-2187-4135-aae2-1e4e39e1eac8",
   "metadata": {},
   "outputs": [],
   "source": [
    "partition_vocab_size = vocab_parallel_logits.size()[-1]"
   ]
  },
  {
   "cell_type": "code",
   "execution_count": null,
   "id": "6ca5a5a0-64a3-4d96-b109-e991af01d524",
   "metadata": {},
   "outputs": [
    {
     "data": {
      "text/plain": [
       "50"
      ]
     },
     "execution_count": null,
     "metadata": {},
     "output_type": "execute_result"
    }
   ],
   "source": [
    "logits.size()[-1]"
   ]
  },
  {
   "cell_type": "code",
   "execution_count": null,
   "id": "b83f9c1c-5a17-4378-901c-d3335557dd2d",
   "metadata": {},
   "outputs": [],
   "source": [
    "logits_max = torch.max(vocab_parallel_logits, dim=-1)[0]"
   ]
  },
  {
   "cell_type": "code",
   "execution_count": null,
   "id": "92a72d84-4d3f-4e33-b5ea-2cad4c101ad2",
   "metadata": {},
   "outputs": [
    {
     "data": {
      "text/plain": [
       "torch.Size([16])"
      ]
     },
     "execution_count": null,
     "metadata": {},
     "output_type": "execute_result"
    }
   ],
   "source": [
    "logits_max.shape"
   ]
  },
  {
   "cell_type": "code",
   "execution_count": null,
   "id": "b8150ced-870d-4dca-af0e-8eb6c25721dc",
   "metadata": {},
   "outputs": [
    {
     "data": {
      "text/plain": [
       "torch.Size([16, 1])"
      ]
     },
     "execution_count": null,
     "metadata": {},
     "output_type": "execute_result"
    }
   ],
   "source": [
    "logits_max.unsqueeze(dim=-1).shape"
   ]
  },
  {
   "cell_type": "code",
   "execution_count": null,
   "id": "74c139ab-2c1e-41d5-8d9d-9472c87b7604",
   "metadata": {},
   "outputs": [
    {
     "data": {
      "text/plain": [
       "torch.Size([4, 50])"
      ]
     },
     "execution_count": null,
     "metadata": {},
     "output_type": "execute_result"
    }
   ],
   "source": [
    "logits.shape"
   ]
  },
  {
   "cell_type": "code",
   "execution_count": null,
   "id": "538082a3-8955-4e92-88f9-401165289e77",
   "metadata": {},
   "outputs": [
    {
     "data": {
      "text/plain": [
       "50"
      ]
     },
     "execution_count": null,
     "metadata": {},
     "output_type": "execute_result"
    }
   ],
   "source": [
    "embedding_dim"
   ]
  },
  {
   "cell_type": "code",
   "execution_count": null,
   "id": "9a92b2ce-ff83-4969-b957-d2ae2a9ec45c",
   "metadata": {},
   "outputs": [],
   "source": [
    "vocab_start_idx, vocab_end_idx = extract_vocab_range(partition_vocab_size, rank, world_size)"
   ]
  },
  {
   "cell_type": "code",
   "execution_count": null,
   "id": "e64c7359-649a-4d4b-b5c2-2477ba025ab0",
   "metadata": {},
   "outputs": [
    {
     "data": {
      "text/plain": [
       "(128, 160)"
      ]
     },
     "execution_count": null,
     "metadata": {},
     "output_type": "execute_result"
    }
   ],
   "source": [
    "vocab_start_idx, vocab_end_idx"
   ]
  },
  {
   "cell_type": "code",
   "execution_count": null,
   "id": "6d2c2363-7138-4276-903b-e599b21cbd0d",
   "metadata": {},
   "outputs": [
    {
     "data": {
      "text/plain": [
       "tensor([ 0,  2,  4,  6,  8, 10, 12, 14, 16, 18, 20, 22, 24, 26, 28, 30])"
      ]
     },
     "execution_count": null,
     "metadata": {},
     "output_type": "execute_result"
    }
   ],
   "source": [
    "target"
   ]
  },
  {
   "cell_type": "code",
   "execution_count": null,
   "id": "463aafc9-ee5b-4e88-b14c-6a10e1c97633",
   "metadata": {},
   "outputs": [],
   "source": [
    "target_mask = (target < vocab_start_idx) | (target >= vocab_end_idx)"
   ]
  },
  {
   "cell_type": "code",
   "execution_count": null,
   "id": "8659cd01-a553-46e2-a291-1179aaa57fe2",
   "metadata": {},
   "outputs": [
    {
     "data": {
      "text/plain": [
       "tensor([True, True, True, True, True, True, True, True, True, True, True, True,\n",
       "        True, True, True, True])"
      ]
     },
     "execution_count": null,
     "metadata": {},
     "output_type": "execute_result"
    }
   ],
   "source": [
    "target_mask"
   ]
  },
  {
   "cell_type": "code",
   "execution_count": null,
   "id": "3ea77f92-1c68-4ece-923f-12ed60c7bad5",
   "metadata": {},
   "outputs": [],
   "source": [
    "masked_target = target.clone() - vocab_start_idx"
   ]
  },
  {
   "cell_type": "code",
   "execution_count": null,
   "id": "b32a08af-fd08-4090-8067-113a0d397124",
   "metadata": {},
   "outputs": [
    {
     "data": {
      "text/plain": [
       "tensor([-128, -126, -124, -122, -120, -118, -116, -114, -112, -110, -108, -106,\n",
       "        -104, -102, -100,  -98])"
      ]
     },
     "execution_count": null,
     "metadata": {},
     "output_type": "execute_result"
    }
   ],
   "source": [
    "masked_target"
   ]
  },
  {
   "cell_type": "code",
   "execution_count": null,
   "id": "f499aa72-a7fa-41a7-a116-4d1af651bb3c",
   "metadata": {},
   "outputs": [],
   "source": []
  }
 ],
 "metadata": {
  "kernelspec": {
   "display_name": "Python 3 (ipykernel)",
   "language": "python",
   "name": "python3"
  }
 },
 "nbformat": 4,
 "nbformat_minor": 5
}
