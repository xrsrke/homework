{
 "cells": [
  {
   "cell_type": "markdown",
   "id": "853fd8ea-330b-4aef-adac-f38d0d0c4c1e",
   "metadata": {},
   "source": [
    "##### Example 1"
   ]
  },
  {
   "cell_type": "code",
   "execution_count": 1,
   "id": "6232a6e7-ea18-49ad-9bc1-d302be09364f",
   "metadata": {
    "tags": []
   },
   "outputs": [],
   "source": [
    "import torch"
   ]
  },
  {
   "cell_type": "code",
   "execution_count": 4,
   "id": "51af6ff5-b6a5-4660-bba6-ec6273ae852a",
   "metadata": {
    "tags": []
   },
   "outputs": [],
   "source": [
    "x = torch.randn(5, 10)"
   ]
  },
  {
   "cell_type": "code",
   "execution_count": 5,
   "id": "c189fd39-f0cb-4c54-9dfb-f9daffcdf0fd",
   "metadata": {
    "tags": []
   },
   "outputs": [
    {
     "data": {
      "text/plain": [
       "torch.Size([5, 10])"
      ]
     },
     "execution_count": 5,
     "metadata": {},
     "output_type": "execute_result"
    }
   ],
   "source": [
    "x.size()"
   ]
  },
  {
   "cell_type": "code",
   "execution_count": 8,
   "id": "bc08d06a-880f-42c1-bf1f-0c84d52a8116",
   "metadata": {
    "tags": []
   },
   "outputs": [
    {
     "data": {
      "text/plain": [
       "tensor([])"
      ]
     },
     "execution_count": 8,
     "metadata": {},
     "output_type": "execute_result"
    }
   ],
   "source": [
    "x[0].new_empty(0)"
   ]
  },
  {
   "cell_type": "markdown",
   "id": "42be3d21-f07b-4fa2-ad9a-5230513693a9",
   "metadata": {},
   "source": [
    "##### Example 2"
   ]
  },
  {
   "cell_type": "code",
   "execution_count": 19,
   "id": "c7fff1c0-d036-497b-a0cc-ffac962d2c51",
   "metadata": {
    "tags": []
   },
   "outputs": [],
   "source": [
    "x = torch.randn(2, 3)"
   ]
  },
  {
   "cell_type": "code",
   "execution_count": 14,
   "id": "bba6746c-492c-43d3-8bb4-5ad1cceee55a",
   "metadata": {
    "tags": []
   },
   "outputs": [],
   "source": [
    "import torch"
   ]
  },
  {
   "cell_type": "code",
   "execution_count": 15,
   "id": "ced02b53-c311-487d-8ccc-da59de4635e1",
   "metadata": {
    "tags": []
   },
   "outputs": [
    {
     "data": {
      "text/plain": [
       "tensor([[ 1.1991,  0.3993, -0.1298],\n",
       "        [ 0.2169,  0.2917,  0.0751]])"
      ]
     },
     "execution_count": 15,
     "metadata": {},
     "output_type": "execute_result"
    }
   ],
   "source": [
    "x"
   ]
  },
  {
   "cell_type": "markdown",
   "id": "396cb688-4d4c-4735-8d5e-0a88218b151d",
   "metadata": {},
   "source": [
    "Directly free the memory that stores tensor `x`, but only free the memory if there are no other tensors using that memory"
   ]
  },
  {
   "cell_type": "code",
   "execution_count": 16,
   "id": "0627c0ad-c274-44ef-a77e-0ae48ba9b69c",
   "metadata": {
    "tags": []
   },
   "outputs": [],
   "source": [
    "def free_storage(data):\n",
    "    if data.storage().size() > 0:\n",
    "        assert data.storage_offset() == 0\n",
    "        data.storage().resize_(0)"
   ]
  },
  {
   "cell_type": "code",
   "execution_count": 17,
   "id": "bad72635-b8c4-475f-84f3-51738f64134e",
   "metadata": {
    "tags": []
   },
   "outputs": [],
   "source": [
    "free_storage(x)"
   ]
  },
  {
   "cell_type": "code",
   "execution_count": 20,
   "id": "62671875-14fc-4c1c-a3ba-d17784c1fba7",
   "metadata": {
    "tags": []
   },
   "outputs": [
    {
     "data": {
      "text/plain": [
       "140592632853440"
      ]
     },
     "execution_count": 20,
     "metadata": {},
     "output_type": "execute_result"
    }
   ],
   "source": [
    "x.storage().data_ptr()"
   ]
  },
  {
   "cell_type": "markdown",
   "id": "7178ea52-af07-4c86-bf29-23d517b45c1b",
   "metadata": {},
   "source": [
    "##### Example 3"
   ]
  },
  {
   "cell_type": "code",
   "execution_count": 7,
   "id": "b4b78a88-9b67-43f7-a57a-869495d8a102",
   "metadata": {
    "tags": []
   },
   "outputs": [],
   "source": [
    "import torch"
   ]
  },
  {
   "cell_type": "code",
   "execution_count": 8,
   "id": "cb06e5d2-8b6a-4f55-bafc-d37f0147bf54",
   "metadata": {
    "tags": []
   },
   "outputs": [],
   "source": [
    "x = torch.randn(10)"
   ]
  },
  {
   "cell_type": "code",
   "execution_count": 15,
   "id": "cceb3295-3039-4393-85e1-b5865f361cde",
   "metadata": {
    "tags": []
   },
   "outputs": [],
   "source": [
    "import torch"
   ]
  },
  {
   "cell_type": "code",
   "execution_count": 16,
   "id": "a76f24d6-bb11-4335-92ec-055cc0f11852",
   "metadata": {
    "tags": []
   },
   "outputs": [
    {
     "data": {
      "text/plain": [
       "torch.Size([10])"
      ]
     },
     "execution_count": 16,
     "metadata": {},
     "output_type": "execute_result"
    }
   ],
   "source": [
    "x.shape"
   ]
  },
  {
   "cell_type": "markdown",
   "id": "eb065ae2-404e-41f0-983c-45c3d3f232ae",
   "metadata": {},
   "source": [
    "Write a function that checks whether a tensor is using all of its storage."
   ]
  },
  {
   "cell_type": "code",
   "execution_count": 17,
   "id": "e740d521-bc91-4b75-a7eb-b6d431c89f64",
   "metadata": {
    "tags": []
   },
   "outputs": [],
   "source": [
    "def is_using_full_storage(x):\n",
    "    total_storage = x.storage().size()\n",
    "    n_elements = x.numel()\n",
    "    return total_storage == n_elements"
   ]
  },
  {
   "cell_type": "code",
   "execution_count": 18,
   "id": "3f5edc01-9c9e-4a5f-a328-1d43a2f69358",
   "metadata": {
    "tags": []
   },
   "outputs": [
    {
     "data": {
      "text/plain": [
       "True"
      ]
     },
     "execution_count": 18,
     "metadata": {},
     "output_type": "execute_result"
    }
   ],
   "source": [
    "is_using_full_storage(x)"
   ]
  },
  {
   "cell_type": "code",
   "execution_count": 19,
   "id": "9fb27410-d896-422a-b80c-b6e1360e1b33",
   "metadata": {
    "tags": []
   },
   "outputs": [
    {
     "data": {
      "text/plain": [
       "False"
      ]
     },
     "execution_count": 19,
     "metadata": {},
     "output_type": "execute_result"
    }
   ],
   "source": [
    "is_using_full_storage(x[6:])"
   ]
  },
  {
   "cell_type": "code",
   "execution_count": 20,
   "id": "0c6124b0-c33e-4c60-a3fd-c809c2666541",
   "metadata": {
    "tags": []
   },
   "outputs": [
    {
     "data": {
      "text/plain": [
       "False"
      ]
     },
     "execution_count": 20,
     "metadata": {},
     "output_type": "execute_result"
    }
   ],
   "source": [
    "is_using_full_storage(x[:9])"
   ]
  },
  {
   "cell_type": "code",
   "execution_count": null,
   "id": "39ebd3ab-2aab-46e8-8ebb-edf51b27caaa",
   "metadata": {},
   "outputs": [],
   "source": []
  },
  {
   "cell_type": "code",
   "execution_count": null,
   "id": "85f23cf8-560c-40a4-a704-8abb953df905",
   "metadata": {},
   "outputs": [],
   "source": []
  }
 ],
 "metadata": {
  "kernelspec": {
   "display_name": "Python 3 (ipykernel)",
   "language": "python",
   "name": "python3"
  },
  "language_info": {
   "codemirror_mode": {
    "name": "ipython",
    "version": 3
   },
   "file_extension": ".py",
   "mimetype": "text/x-python",
   "name": "python",
   "nbconvert_exporter": "python",
   "pygments_lexer": "ipython3",
   "version": "3.8.16"
  }
 },
 "nbformat": 4,
 "nbformat_minor": 5
}
