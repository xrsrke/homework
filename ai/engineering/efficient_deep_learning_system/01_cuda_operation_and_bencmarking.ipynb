{
 "cells": [
  {
   "cell_type": "markdown",
   "id": "92093daa-941e-4c42-80d6-94106f80369e",
   "metadata": {},
   "source": [
    "### Unit 1: CUDA operations in PyTorch. Introduction to benchmarking. "
   ]
  },
  {
   "cell_type": "markdown",
   "id": "f2a3a8ed-0948-47a0-8709-ce9d1f45bc38",
   "metadata": {},
   "source": [
    "##### Example 1"
   ]
  },
  {
   "cell_type": "code",
   "execution_count": null,
   "id": "ac218c7c-05fa-49f7-a292-490ec2fa8c05",
   "metadata": {},
   "outputs": [],
   "source": [
    "A = torch.randn(3, 3)\n",
    "B = torch.randn(3, 3)"
   ]
  },
  {
   "cell_type": "code",
   "execution_count": null,
   "id": "252572aa-9d88-4608-8070-87fcebe8c702",
   "metadata": {},
   "outputs": [],
   "source": [
    "def operation_a():\n",
    "    return torch.matmul(A, A)"
   ]
  },
  {
   "cell_type": "code",
   "execution_count": null,
   "id": "38e71e92-e0e9-44f8-a291-1811c2f273f0",
   "metadata": {},
   "outputs": [],
   "source": [
    "def operation_b():\n",
    "    return torch.matmul(B, B)"
   ]
  },
  {
   "cell_type": "code",
   "execution_count": null,
   "id": "5bf40a75-d4fd-414c-b9f9-c74ea18801b8",
   "metadata": {},
   "outputs": [],
   "source": [
    "start_time = time.time()"
   ]
  },
  {
   "cell_type": "code",
   "execution_count": null,
   "id": "03c1e446-c862-4ccf-93f2-9a59eff50011",
   "metadata": {},
   "outputs": [],
   "source": [
    "end_time = time.time()"
   ]
  },
  {
   "cell_type": "code",
   "execution_count": null,
   "id": "64d66cd2-9044-455c-8116-d2517a235fb2",
   "metadata": {},
   "outputs": [],
   "source": [
    "import time"
   ]
  },
  {
   "cell_type": "code",
   "execution_count": null,
   "id": "8a09f4fc-3599-44f3-924f-861cb4027264",
   "metadata": {},
   "outputs": [
    {
     "data": {
      "text/plain": [
       "(torch.Size([3, 3]), torch.Size([3, 3]))"
      ]
     },
     "execution_count": null,
     "metadata": {},
     "output_type": "execute_result"
    }
   ],
   "source": [
    "operation_a().shape, operation_b().shape"
   ]
  },
  {
   "cell_type": "markdown",
   "id": "7f9d6140-e563-4605-b6bc-c69b605f9328",
   "metadata": {},
   "source": [
    "Calculate the time taken to execute both `operation_a` and `operation_b` in parallel using CUDA stream, from the start to the end.\n",
    "\n",
    "**Hint**: `time.time()`"
   ]
  },
  {
   "cell_type": "code",
   "execution_count": null,
   "id": "6b0c95bc-e21d-4fa9-a787-e5b50efc9cec",
   "metadata": {},
   "outputs": [],
   "source": [
    "import torch"
   ]
  },
  {
   "cell_type": "code",
   "execution_count": null,
   "id": "9ac01980-3d13-4261-827f-5bf6410d3b66",
   "metadata": {},
   "outputs": [],
   "source": [
    "stream1 = torch.cuda.Stream()\n",
    "stream2 = torch.cuda.Stream()"
   ]
  },
  {
   "cell_type": "code",
   "execution_count": null,
   "id": "4c11271b-8651-4beb-9f91-4085ac12f13d",
   "metadata": {},
   "outputs": [],
   "source": [
    "start_time = time.time()\n",
    "\n",
    "with torch.cuda.stream(stream1):\n",
    "    operation_a()\n",
    "\n",
    "with torch.cuda.stream(stream2):\n",
    "    operation_b()\n",
    "    \n",
    "torch.cuda.synchronize()\n",
    "\n",
    "end_time = time.time()"
   ]
  },
  {
   "cell_type": "code",
   "execution_count": null,
   "id": "c6df948d-4112-4391-8a36-c1a85ca3312c",
   "metadata": {},
   "outputs": [],
   "source": [
    "total_time = end_time - start_time"
   ]
  },
  {
   "cell_type": "code",
   "execution_count": null,
   "id": "08125fd5-ebd6-4cef-800d-ed1063c1f5c3",
   "metadata": {},
   "outputs": [
    {
     "data": {
      "text/plain": [
       "5.282521963119507"
      ]
     },
     "execution_count": null,
     "metadata": {},
     "output_type": "execute_result"
    }
   ],
   "source": [
    "total_time"
   ]
  },
  {
   "cell_type": "code",
   "execution_count": null,
   "id": "b122891a-47a3-451a-83e0-808771ae078e",
   "metadata": {},
   "outputs": [],
   "source": []
  }
 ],
 "metadata": {
  "kernelspec": {
   "display_name": "Python 3 (ipykernel)",
   "language": "python",
   "name": "python3"
  }
 },
 "nbformat": 4,
 "nbformat_minor": 5
}
