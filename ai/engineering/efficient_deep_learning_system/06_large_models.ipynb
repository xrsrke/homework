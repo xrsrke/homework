{
 "cells": [
  {
   "cell_type": "markdown",
   "id": "d9e175b8-e4e6-4c1b-a73d-d499f7f3521a",
   "metadata": {},
   "source": [
    "### Checkpointing"
   ]
  },
  {
   "cell_type": "markdown",
   "id": "0936237c-f700-4952-b25a-2e24eae2c709",
   "metadata": {},
   "source": [
    "##### Example 1"
   ]
  },
  {
   "cell_type": "code",
   "execution_count": null,
   "id": "ffd02296-c8a0-4a38-92ed-2afe99f2373f",
   "metadata": {},
   "outputs": [],
   "source": [
    "import torch\n",
    "from torch import nn\n",
    "from torch.utils.checkpoint import checkpoint, checkpoint_sequential"
   ]
  },
  {
   "cell_type": "code",
   "execution_count": null,
   "id": "2ec2cc37-f650-4fec-ae87-76bbdedad202",
   "metadata": {},
   "outputs": [],
   "source": [
    "class CheckPoint(nn.Sequential):\n",
    "    def forward(self, *input):\n",
    "        return checkpoint(super().forward, *input)"
   ]
  },
  {
   "cell_type": "code",
   "execution_count": null,
   "id": "4c31edce-3fe4-4476-b0cb-5e58053cf3a4",
   "metadata": {},
   "outputs": [],
   "source": [
    "class Echo(nn.Module):\n",
    "    def __init__(self, msg: str):\n",
    "        super().__init__()\n",
    "        self.msg = msg  # print this message during forward (for debugging)\n",
    "    \n",
    "    def forward(self, x):\n",
    "        print(\"forward\", self.msg)\n",
    "        return x"
   ]
  },
  {
   "cell_type": "code",
   "execution_count": null,
   "id": "0437d324-37f5-4f33-9b74-d92f37f0305a",
   "metadata": {},
   "outputs": [],
   "source": [
    "model = nn.Sequential(\n",
    "    CheckPoint(nn.Linear(1000, 1000), nn.ReLU(), Echo(\"layer1 done\")),\n",
    "    CheckPoint(nn.Linear(1000, 1000), nn.ReLU(), Echo(\"layer2 done\"))\n",
    ")"
   ]
  },
  {
   "cell_type": "code",
   "execution_count": null,
   "id": "2b6a04f4-250e-465a-a83b-8851e168e748",
   "metadata": {},
   "outputs": [],
   "source": [
    "inputs = torch.randn(16, 1000, requires_grad=True)"
   ]
  },
  {
   "cell_type": "code",
   "execution_count": null,
   "id": "3a021c4d-acbc-47ef-a958-0d5812be52d3",
   "metadata": {},
   "outputs": [
    {
     "name": "stdout",
     "output_type": "stream",
     "text": [
      "forward layer1 done\n",
      "forward layer2 done\n"
     ]
    }
   ],
   "source": [
    "output = model(inputs)"
   ]
  },
  {
   "cell_type": "code",
   "execution_count": null,
   "id": "bec71a38-0992-4a8f-bd96-b7bff7a35b56",
   "metadata": {},
   "outputs": [
    {
     "data": {
      "text/plain": [
       "tensor([[0.2257, 0.1056, 0.0000,  ..., 0.0000, 0.0000, 0.0000],\n",
       "        [0.0000, 0.1090, 0.0000,  ..., 0.0000, 0.0000, 0.2023],\n",
       "        [0.0000, 0.1253, 0.0000,  ..., 0.0000, 0.0000, 0.4055],\n",
       "        ...,\n",
       "        [0.0000, 0.0421, 0.0000,  ..., 0.0000, 0.5109, 0.0000],\n",
       "        [0.0000, 0.2375, 0.0000,  ..., 0.1900, 0.0582, 0.2539],\n",
       "        [0.0000, 0.2023, 0.0000,  ..., 0.0000, 0.0000, 0.2167]],\n",
       "       grad_fn=<CheckpointFunctionBackward>)"
      ]
     },
     "execution_count": null,
     "metadata": {},
     "output_type": "execute_result"
    }
   ],
   "source": [
    "output"
   ]
  },
  {
   "cell_type": "code",
   "execution_count": null,
   "id": "29eeb601-12d0-4e8e-8f44-2dbd5922aa80",
   "metadata": {},
   "outputs": [
    {
     "name": "stdout",
     "output_type": "stream",
     "text": [
      "forward layer2 done\n",
      "forward layer1 done\n"
     ]
    }
   ],
   "source": [
    "output.norm().backward()"
   ]
  },
  {
   "cell_type": "code",
   "execution_count": null,
   "id": "8fb16e75-de9a-4421-93fc-a2314f0cadd2",
   "metadata": {},
   "outputs": [],
   "source": []
  }
 ],
 "metadata": {
  "kernelspec": {
   "display_name": "Python 3 (ipykernel)",
   "language": "python",
   "name": "python3"
  }
 },
 "nbformat": 4,
 "nbformat_minor": 5
}
