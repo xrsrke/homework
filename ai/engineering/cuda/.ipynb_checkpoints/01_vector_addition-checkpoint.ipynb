{
 "cells": [
  {
   "cell_type": "markdown",
   "id": "6d5a02f2-a042-44cc-8ea8-f76e12bcd91f",
   "metadata": {},
   "source": [
    "##### Example 1"
   ]
  },
  {
   "cell_type": "markdown",
   "id": "62a207fa-36f7-4e28-be98-62243820c2c6",
   "metadata": {},
   "source": [
    "Write a CUDA kernel that adds two vectors. The kernel takes the memory pointers of three variables: `a`, `b`, and `c`. `c` is the location where the result is stored, and `total_elements` specifies the total number of elements in the vectors. All of these variables are of type `int`\n",
    "\n",
    "**Hint**: Out of memory"
   ]
  },
  {
   "cell_type": "code",
   "execution_count": null,
   "id": "e99a7fb4-5c99-4bb5-bca7-c0f5ff68c69e",
   "metadata": {},
   "outputs": [],
   "source": [
    "__global__ void vectorAdd(int* a, int* b, int* c, int total_elements) {\n",
    "    # Calculate global thread ID\n",
    "    int tid = (blockIdx.x * blockDim.x) + threadIdx.x;\n",
    "    \n",
    "    # Vector boundary guard\n",
    "    if (tid < total_elements) {\n",
    "        # Each thread adds a single element\n",
    "        c[tid] = a[tid] + b[tid];\n",
    "    }\n",
    "}"
   ]
  },
  {
   "cell_type": "code",
   "execution_count": null,
   "id": "4960d2b5-6fc5-4442-b711-992c0dcf5f0e",
   "metadata": {},
   "outputs": [],
   "source": []
  }
 ],
 "metadata": {
  "kernelspec": {
   "display_name": "Python 3 (ipykernel)",
   "language": "python",
   "name": "python3"
  },
  "language_info": {
   "codemirror_mode": {
    "name": "ipython",
    "version": 3
   },
   "file_extension": ".py",
   "mimetype": "text/x-python",
   "name": "python",
   "nbconvert_exporter": "python",
   "pygments_lexer": "ipython3",
   "version": "3.8.16"
  }
 },
 "nbformat": 4,
 "nbformat_minor": 5
}
