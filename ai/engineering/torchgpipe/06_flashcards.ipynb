{
 "cells": [
  {
   "cell_type": "markdown",
   "id": "03c6a43c-13a8-4bd2-b14a-b688a02f08d0",
   "metadata": {},
   "source": [
    "# Parallel Computing"
   ]
  },
  {
   "cell_type": "markdown",
   "id": "d61513b8-2c0a-4a33-a55c-59da17105ba4",
   "metadata": {},
   "source": [
    "### Checkpointing"
   ]
  },
  {
   "cell_type": "markdown",
   "id": "8b0eb73a-989c-4fe5-9447-cfea850439c2",
   "metadata": {},
   "source": [
    "##### ThreadLocal"
   ]
  },
  {
   "cell_type": "markdown",
   "id": "d80bf22b-5a05-4043-9fca-30dbd02902cc",
   "metadata": {},
   "source": [
    "##### Example 1"
   ]
  },
  {
   "cell_type": "code",
   "execution_count": 2,
   "id": "c1675467-49cd-4520-af4c-d7141e21169b",
   "metadata": {
    "tags": []
   },
   "outputs": [],
   "source": [
    "# import threading\n",
    "\n",
    "# local = threading.local()\n",
    "\n",
    "# # Get the current thread\n",
    "# thread = threading.s()\n",
    "\n",
    "# # Set an attribute \n",
    "# local.x = 1\n",
    "\n",
    "# # Accessing local.x from the same thread \n",
    "# # will give you the same value\n",
    "# print(local.x) # 1\n",
    "\n",
    "# # But a different thread will have a \n",
    "# # different copy of that variable!\n",
    "\n",
    "# def func():\n",
    "#     print(local.x) # None! Different copy\n",
    "    \n",
    "# thread2 = threading.Thread(target=func)\n",
    "# thread2.start()"
   ]
  },
  {
   "cell_type": "markdown",
   "id": "d8133645-9490-4a40-865b-e35869af3f98",
   "metadata": {},
   "source": [
    "##### Example 1.1"
   ]
  },
  {
   "cell_type": "markdown",
   "id": "66b150ee-c45b-4e38-a4e2-f245e65e40bb",
   "metadata": {},
   "source": [
    "##### Example 2"
   ]
  },
  {
   "cell_type": "code",
   "execution_count": 1,
   "id": "58a228cf-8081-464d-b634-2cbc984e9760",
   "metadata": {
    "tags": []
   },
   "outputs": [],
   "source": [
    "import torch"
   ]
  },
  {
   "cell_type": "code",
   "execution_count": 12,
   "id": "ae788dc0-65c3-47f6-a692-d3bb99eb6fd2",
   "metadata": {},
   "outputs": [],
   "source": [
    "class WithoutGradient(torch.autograd.Function):\n",
    "    @staticmethod\n",
    "    def forward(ctx, input):\n",
    "        return input.detach()\n",
    "    \n",
    "    @staticmethod\n",
    "    def backward(ctx, grad_input):\n",
    "        return grad_input"
   ]
  },
  {
   "cell_type": "code",
   "execution_count": 13,
   "id": "148a396f-d60e-493b-bf0c-596c293390c4",
   "metadata": {
    "tags": []
   },
   "outputs": [],
   "source": [
    "x = torch.tensor(1., requires_grad=True)"
   ]
  },
  {
   "cell_type": "code",
   "execution_count": 14,
   "id": "23ede1ec-6c94-4971-ab2b-86b70e537a7b",
   "metadata": {
    "tags": []
   },
   "outputs": [],
   "source": [
    "(WithoutGradient.apply(x) + 23123).backward()"
   ]
  },
  {
   "cell_type": "code",
   "execution_count": 15,
   "id": "721273c1-1831-452b-ae0d-3163094a6662",
   "metadata": {
    "tags": []
   },
   "outputs": [
    {
     "data": {
      "text/plain": [
       "tensor(1.)"
      ]
     },
     "execution_count": 15,
     "metadata": {},
     "output_type": "execute_result"
    }
   ],
   "source": [
    "x.grad"
   ]
  },
  {
   "cell_type": "code",
   "execution_count": null,
   "id": "793f2450-cf3d-4a63-9910-28423a3a7d25",
   "metadata": {},
   "outputs": [],
   "source": []
  }
 ],
 "metadata": {
  "kernelspec": {
   "display_name": "Python 3 (ipykernel)",
   "language": "python",
   "name": "python3"
  },
  "language_info": {
   "codemirror_mode": {
    "name": "ipython",
    "version": 3
   },
   "file_extension": ".py",
   "mimetype": "text/x-python",
   "name": "python",
   "nbconvert_exporter": "python",
   "pygments_lexer": "ipython3",
   "version": "3.8.16"
  }
 },
 "nbformat": 4,
 "nbformat_minor": 5
}
