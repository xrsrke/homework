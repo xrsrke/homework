{
 "cells": [
  {
   "cell_type": "markdown",
   "id": "6bd1b3e8-fa89-409b-b527-6131ac725029",
   "metadata": {},
   "source": [
    "### Namespace"
   ]
  },
  {
   "cell_type": "markdown",
   "id": "64bd1051-de51-49ea-8762-3a6d68d4712e",
   "metadata": {},
   "source": [
    "##### Example 1"
   ]
  },
  {
   "cell_type": "code",
   "execution_count": 4,
   "id": "141b08d4-c90e-4e39-8c21-a3bb7a961ef0",
   "metadata": {
    "tags": []
   },
   "outputs": [],
   "source": [
    "from functools import total_ordering"
   ]
  },
  {
   "cell_type": "markdown",
   "id": "9eaa7cb1-386a-4cee-91c4-a67783b3a6bd",
   "metadata": {},
   "source": [
    "### SkipLayout"
   ]
  },
  {
   "cell_type": "code",
   "execution_count": null,
   "id": "6b605cc8-f293-4c3b-afd0-76a1023db9e7",
   "metadata": {},
   "outputs": [],
   "source": [
    "class SkipLayout:\n",
    "    d"
   ]
  },
  {
   "cell_type": "markdown",
   "id": "2362c87f-0397-4a5a-81d7-516e74fdacd2",
   "metadata": {},
   "source": [
    "### Skip"
   ]
  },
  {
   "cell_type": "code",
   "execution_count": 2,
   "id": "1e807939-aac1-4ebb-932e-5a2cdc51dc7b",
   "metadata": {
    "tags": []
   },
   "outputs": [],
   "source": [
    "class SkipTracker:\n",
    "    def __init__(self):\n",
    "        pass"
   ]
  },
  {
   "cell_type": "code",
   "execution_count": null,
   "id": "3772ea1b-5ba8-46d5-947e-c9b863e2dd14",
   "metadata": {},
   "outputs": [],
   "source": [
    "class SkipLayout"
   ]
  },
  {
   "cell_type": "code",
   "execution_count": 3,
   "id": "3314b959-0d2c-4cd8-92af-6d377967b972",
   "metadata": {},
   "outputs": [
    {
     "ename": "NameError",
     "evalue": "name 'SkipLayout' is not defined",
     "output_type": "error",
     "traceback": [
      "\u001b[0;31m---------------------------------------------------------------------------\u001b[0m",
      "\u001b[0;31mNameError\u001b[0m                                 Traceback (most recent call last)",
      "Cell \u001b[0;32mIn[3], line 1\u001b[0m\n\u001b[0;32m----> 1\u001b[0m \u001b[38;5;28;01mclass\u001b[39;00m \u001b[38;5;21;01mSkipTrackerThroughPortals\u001b[39;00m(SkipTracker):\n\u001b[1;32m      2\u001b[0m     \u001b[38;5;28;01mdef\u001b[39;00m \u001b[38;5;21m__init__\u001b[39m(\u001b[38;5;28mself\u001b[39m, skip_layer: SkipLayout):\n\u001b[1;32m      3\u001b[0m         \u001b[38;5;28;01mpass\u001b[39;00m\n",
      "Cell \u001b[0;32mIn[3], line 2\u001b[0m, in \u001b[0;36mSkipTrackerThroughPortals\u001b[0;34m()\u001b[0m\n\u001b[1;32m      1\u001b[0m \u001b[38;5;28;01mclass\u001b[39;00m \u001b[38;5;21;01mSkipTrackerThroughPortals\u001b[39;00m(SkipTracker):\n\u001b[0;32m----> 2\u001b[0m     \u001b[38;5;28;01mdef\u001b[39;00m \u001b[38;5;21m__init__\u001b[39m(\u001b[38;5;28mself\u001b[39m, skip_layer: \u001b[43mSkipLayout\u001b[49m):\n\u001b[1;32m      3\u001b[0m         \u001b[38;5;28;01mpass\u001b[39;00m\n",
      "\u001b[0;31mNameError\u001b[0m: name 'SkipLayout' is not defined"
     ]
    }
   ],
   "source": [
    "class SkipTrackerThroughPortals(SkipTracker):\n",
    "    def __init__(self, skip_layer: SkipLayout):\n",
    "        pass"
   ]
  },
  {
   "cell_type": "code",
   "execution_count": null,
   "id": "6ba309f6-3189-4294-887f-179da583db4a",
   "metadata": {},
   "outputs": [],
   "source": []
  },
  {
   "cell_type": "markdown",
   "id": "aadea4e3-a99a-4016-bb57-e920bc559293",
   "metadata": {},
   "source": [
    "### `skippable`"
   ]
  },
  {
   "cell_type": "markdown",
   "id": "71b635c1-4712-4f22-a7ca-a0f311b1ea00",
   "metadata": {},
   "source": [
    "##### Example 1"
   ]
  },
  {
   "cell_type": "code",
   "execution_count": 11,
   "id": "ff94366e-6450-4e2c-88b9-4d538bd27de9",
   "metadata": {
    "tags": []
   },
   "outputs": [],
   "source": [
    "from torch import nn\n",
    "from typing import Iterable, Callable, Type"
   ]
  },
  {
   "cell_type": "code",
   "execution_count": 12,
   "id": "c3730083-8be0-40ec-a501-47310cdcf836",
   "metadata": {
    "tags": []
   },
   "outputs": [],
   "source": [
    "class Skippable:\n",
    "    pass"
   ]
  },
  {
   "cell_type": "code",
   "execution_count": 14,
   "id": "833f1119-0da8-452a-8c41-6a30450c888c",
   "metadata": {
    "tags": []
   },
   "outputs": [],
   "source": [
    "def skippable(\n",
    "    stash: Iterable[str] = (),\n",
    "    pop: Iterable[str] = ()\n",
    "):\n",
    "    stashable_names = frozenset(stash)\n",
    "    poppable_names = frozenset(pop)\n",
    "    \n",
    "    def extend_skipable(module_cls: Type[nn.Module]) -> Type[Skippable]:\n",
    "        name = module_cls.__name__\n",
    "        bases = (Skippable,)\n",
    "        attrs = {\n",
    "            \"module_cls\": module_cls,\n",
    "            \"stashable_names\": stashable_names,\n",
    "            \"poppable_names\": poppable_names\n",
    "        }\n",
    "        return type(name, bases, attrs)\n",
    "    return extend_skipable"
   ]
  },
  {
   "cell_type": "code",
   "execution_count": 17,
   "id": "c16585e8-d34d-4b24-be80-b25a2409235c",
   "metadata": {
    "tags": []
   },
   "outputs": [],
   "source": [
    "@skippable(stash=[\"act2\"])\n",
    "class StashFoo(nn.Module):\n",
    "    def forward(self, input):\n",
    "        yield stash(\"foo\", input)\n",
    "        return input"
   ]
  },
  {
   "cell_type": "code",
   "execution_count": 16,
   "id": "93e263c3-cf19-47e2-8a8f-a901885118f8",
   "metadata": {
    "tags": []
   },
   "outputs": [],
   "source": [
    "foo = StashFoo()"
   ]
  },
  {
   "cell_type": "code",
   "execution_count": null,
   "id": "fe9844c9-1f28-4284-a48a-62aba0bc7f7e",
   "metadata": {},
   "outputs": [],
   "source": [
    "foo()"
   ]
  }
 ],
 "metadata": {
  "kernelspec": {
   "display_name": "Python 3 (ipykernel)",
   "language": "python",
   "name": "python3"
  },
  "language_info": {
   "codemirror_mode": {
    "name": "ipython",
    "version": 3
   },
   "file_extension": ".py",
   "mimetype": "text/x-python",
   "name": "python",
   "nbconvert_exporter": "python",
   "pygments_lexer": "ipython3",
   "version": "3.8.16"
  }
 },
 "nbformat": 4,
 "nbformat_minor": 5
}
