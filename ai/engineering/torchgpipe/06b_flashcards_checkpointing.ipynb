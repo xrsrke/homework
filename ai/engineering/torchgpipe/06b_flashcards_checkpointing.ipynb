{
 "cells": [
  {
   "cell_type": "markdown",
   "id": "03c6a43c-13a8-4bd2-b14a-b688a02f08d0",
   "metadata": {},
   "source": [
    "# Parallel Computing"
   ]
  },
  {
   "cell_type": "markdown",
   "id": "d61513b8-2c0a-4a33-a55c-59da17105ba4",
   "metadata": {},
   "source": [
    "### Checkpointing"
   ]
  },
  {
   "cell_type": "markdown",
   "id": "8b0eb73a-989c-4fe5-9447-cfea850439c2",
   "metadata": {},
   "source": [
    "##### ThreadLocal"
   ]
  },
  {
   "cell_type": "markdown",
   "id": "d80bf22b-5a05-4043-9fca-30dbd02902cc",
   "metadata": {},
   "source": [
    "##### Example 1"
   ]
  },
  {
   "cell_type": "code",
   "execution_count": 2,
   "id": "c1675467-49cd-4520-af4c-d7141e21169b",
   "metadata": {
    "tags": []
   },
   "outputs": [],
   "source": [
    "# import threading\n",
    "\n",
    "# local = threading.local()\n",
    "\n",
    "# # Get the current thread\n",
    "# thread = threading.s()\n",
    "\n",
    "# # Set an attribute \n",
    "# local.x = 1\n",
    "\n",
    "# # Accessing local.x from the same thread \n",
    "# # will give you the same value\n",
    "# print(local.x) # 1\n",
    "\n",
    "# # But a different thread will have a \n",
    "# # different copy of that variable!\n",
    "\n",
    "# def func():\n",
    "#     print(local.x) # None! Different copy\n",
    "    \n",
    "# thread2 = threading.Thread(target=func)\n",
    "# thread2.start()"
   ]
  },
  {
   "cell_type": "markdown",
   "id": "d8133645-9490-4a40-865b-e35869af3f98",
   "metadata": {},
   "source": [
    "##### Example 1.1"
   ]
  },
  {
   "cell_type": "markdown",
   "id": "66b150ee-c45b-4e38-a4e2-f245e65e40bb",
   "metadata": {},
   "source": [
    "##### Example 2"
   ]
  },
  {
   "cell_type": "code",
   "execution_count": 1,
   "id": "58a228cf-8081-464d-b634-2cbc984e9760",
   "metadata": {
    "tags": []
   },
   "outputs": [],
   "source": [
    "import torch"
   ]
  },
  {
   "cell_type": "code",
   "execution_count": 12,
   "id": "ae788dc0-65c3-47f6-a692-d3bb99eb6fd2",
   "metadata": {},
   "outputs": [],
   "source": [
    "class WithoutGradient(torch.autograd.Function):\n",
    "    @staticmethod\n",
    "    def forward(ctx, input):\n",
    "        return input.detach()\n",
    "    \n",
    "    @staticmethod\n",
    "    def backward(ctx, grad_input):\n",
    "        return grad_input"
   ]
  },
  {
   "cell_type": "code",
   "execution_count": 13,
   "id": "148a396f-d60e-493b-bf0c-596c293390c4",
   "metadata": {
    "tags": []
   },
   "outputs": [],
   "source": [
    "x = torch.tensor(1., requires_grad=True)"
   ]
  },
  {
   "cell_type": "code",
   "execution_count": 14,
   "id": "23ede1ec-6c94-4971-ab2b-86b70e537a7b",
   "metadata": {
    "tags": []
   },
   "outputs": [],
   "source": [
    "(WithoutGradient.apply(x) + 23123).backward()"
   ]
  },
  {
   "cell_type": "code",
   "execution_count": 15,
   "id": "721273c1-1831-452b-ae0d-3163094a6662",
   "metadata": {
    "tags": []
   },
   "outputs": [
    {
     "data": {
      "text/plain": [
       "tensor(1.)"
      ]
     },
     "execution_count": 15,
     "metadata": {},
     "output_type": "execute_result"
    }
   ],
   "source": [
    "x.grad"
   ]
  },
  {
   "cell_type": "markdown",
   "id": "7bdea53a-c533-4812-b8e3-f306f2acd8bf",
   "metadata": {},
   "source": [
    "##### Example 2"
   ]
  },
  {
   "cell_type": "code",
   "execution_count": 99,
   "id": "b124670f-3d50-4c06-bbab-23f136707530",
   "metadata": {
    "tags": []
   },
   "outputs": [],
   "source": [
    "# timeline = []\n",
    "\n",
    "# class Log(torch.autograd.Function):\n",
    "#     @staticmethod\n",
    "#     def forward(ctx, name, x):\n",
    "#         ctx.name = name\n",
    "#         timeline.append(f\"{name}:forward\")\n",
    "#         return x\n",
    "    \n",
    "#     @staticmethod\n",
    "#     def backward(ctx, grad_output):\n",
    "#         name = ctx.name\n",
    "#         timeline.append(f\"{name}:backward\")\n",
    "#         return None, grad_output"
   ]
  },
  {
   "cell_type": "code",
   "execution_count": 5,
   "id": "48d5bdd7-97db-444e-945e-c9eb6220ccd4",
   "metadata": {
    "tags": []
   },
   "outputs": [],
   "source": [
    "# function = partial(Log.apply, \"x\")"
   ]
  },
  {
   "cell_type": "markdown",
   "id": "24834e70-2a1c-4a1c-bf77-ba7bb68bcefa",
   "metadata": {},
   "source": [
    "### `Recompute`"
   ]
  },
  {
   "cell_type": "markdown",
   "id": "b8bae7e1-288e-4ba5-9520-b1b79ef6b380",
   "metadata": {},
   "source": [
    "##### Example 3"
   ]
  },
  {
   "cell_type": "code",
   "execution_count": 134,
   "id": "f72c5294-b3c5-4e20-a1fd-9f79f4353265",
   "metadata": {
    "tags": []
   },
   "outputs": [],
   "source": [
    "phony = torch.empty(0, requires_grad=True)\n",
    "input = torch.randn((2, 4), requires_grad=True)"
   ]
  },
  {
   "cell_type": "code",
   "execution_count": 135,
   "id": "5b39fa3d-6524-4055-9490-2329db8e5a76",
   "metadata": {
    "tags": []
   },
   "outputs": [],
   "source": [
    "function = nn.Linear(4, 2)"
   ]
  },
  {
   "cell_type": "code",
   "execution_count": 136,
   "id": "b76b55ca-bf6c-4cd9-a254-6fe2690f8433",
   "metadata": {
    "tags": []
   },
   "outputs": [],
   "source": [
    "recomputed = collections.deque(maxlen=1)"
   ]
  },
  {
   "cell_type": "code",
   "execution_count": 137,
   "id": "b2bc56c6-7ad6-4f21-a4fa-c52348fe1072",
   "metadata": {
    "tags": []
   },
   "outputs": [],
   "source": [
    "from functools import partial\n",
    "\n",
    "import torch\n",
    "from torch import nn"
   ]
  },
  {
   "cell_type": "code",
   "execution_count": 138,
   "id": "ed67071b-fa6a-4fa1-981d-7a7485f63558",
   "metadata": {
    "tags": []
   },
   "outputs": [
    {
     "data": {
      "text/plain": [
       "(Linear(in_features=4, out_features=2, bias=True), deque([], maxlen=1))"
      ]
     },
     "execution_count": 138,
     "metadata": {},
     "output_type": "execute_result"
    }
   ],
   "source": [
    "function, recomputed"
   ]
  },
  {
   "cell_type": "code",
   "execution_count": 139,
   "id": "24e89882-d04d-459b-9505-d871712edabc",
   "metadata": {
    "tags": []
   },
   "outputs": [
    {
     "data": {
      "text/plain": [
       "(tensor([], requires_grad=True),\n",
       " tensor([[ 0.0984, -2.1375, -1.2984,  0.5310],\n",
       "         [ 0.8394,  0.4371, -0.2785,  0.1812]], requires_grad=True))"
      ]
     },
     "execution_count": 139,
     "metadata": {},
     "output_type": "execute_result"
    }
   ],
   "source": [
    "phony, input"
   ]
  },
  {
   "cell_type": "markdown",
   "id": "429320bf-52ba-42cd-a886-3446e58f6190",
   "metadata": {},
   "source": [
    "Reimplement the activation recomputation step in gradient checkpointing and store the output and input tensors in `recomputed`\n",
    "\n",
    "**Hint**: `recomputed.append((x, y))`"
   ]
  },
  {
   "cell_type": "code",
   "execution_count": 140,
   "id": "2e6c5fc5-d7bc-49fb-b4a7-1db04d1f655f",
   "metadata": {
    "tags": []
   },
   "outputs": [],
   "source": [
    "class Recompute(torch.autograd.Function):\n",
    "    @staticmethod\n",
    "    def forward(ctx, phony, recomputed, function, input):\n",
    "        ctx.recomputed = recomputed\n",
    "        ctx.function, ctx.input = function, input\n",
    "        return phony\n",
    "    \n",
    "    @staticmethod\n",
    "    def backward(ctx, grad_output):\n",
    "        input, function = ctx.input, ctx.function\n",
    "        input_leaf = input.detach().requires_grad_(\n",
    "            input.requires_grad\n",
    "        )\n",
    "\n",
    "        with torch.enable_grad():\n",
    "            output = function(input_leaf)\n",
    "        \n",
    "        ctx.recomputed.append((output, input_leaf))\n",
    "        grad_input = [None, None, None]\n",
    "        \n",
    "        if input_leaf.grad is not None:\n",
    "            grad_input.extend([input_leaf.grad])\n",
    "        else:\n",
    "            grad_input.extend([None])\n",
    "        \n",
    "        return tuple(grad_input)"
   ]
  },
  {
   "cell_type": "code",
   "execution_count": 141,
   "id": "d0d76091-0328-4741-a720-6f0652eb0a66",
   "metadata": {
    "tags": []
   },
   "outputs": [],
   "source": [
    "phony = Recompute.apply(\n",
    "    phony, recomputed,\n",
    "    function, input\n",
    ")"
   ]
  },
  {
   "cell_type": "code",
   "execution_count": 142,
   "id": "d1a77484-68de-4a82-862e-d34d517c35ba",
   "metadata": {
    "tags": []
   },
   "outputs": [],
   "source": [
    "phony.sum().backward()"
   ]
  },
  {
   "cell_type": "code",
   "execution_count": 143,
   "id": "f2db5acb-13da-4fe4-bf57-36ed2702b1c6",
   "metadata": {},
   "outputs": [
    {
     "data": {
      "text/plain": [
       "deque([(tensor([[ 0.4161,  0.5159],\n",
       "                [-0.0299, -0.6883]], grad_fn=<AddmmBackward0>),\n",
       "        tensor([[ 0.0984, -2.1375, -1.2984,  0.5310],\n",
       "                [ 0.8394,  0.4371, -0.2785,  0.1812]], requires_grad=True))],\n",
       "      maxlen=1)"
      ]
     },
     "execution_count": 143,
     "metadata": {},
     "output_type": "execute_result"
    }
   ],
   "source": [
    "recomputed"
   ]
  },
  {
   "cell_type": "markdown",
   "id": "879d75d6-0e4a-4c1b-a3b7-f7bea07638cb",
   "metadata": {},
   "source": [
    "### `Checkpoint`"
   ]
  },
  {
   "cell_type": "markdown",
   "id": "db7fbc79-4a0f-4c94-9cd5-3ea2bd60fe08",
   "metadata": {},
   "source": [
    "##### Example 1"
   ]
  },
  {
   "cell_type": "code",
   "execution_count": 144,
   "id": "2c315336-788f-41b3-8951-e87b9b96dd2b",
   "metadata": {
    "tags": []
   },
   "outputs": [],
   "source": [
    "import torch"
   ]
  },
  {
   "cell_type": "markdown",
   "id": "784cdbbd-69a9-42bd-b3af-9831f8f8bf46",
   "metadata": {},
   "source": [
    "Reimplement the Checkpoint in Checkpointing, where `recomputed` stores both the recomputed activations and the input leaf.\n",
    "\n",
    "**Hint**: `recomputed.pop()`, `array.extend([x])`"
   ]
  },
  {
   "cell_type": "code",
   "execution_count": 145,
   "id": "d7e5e904-d5be-477f-abc9-9cfdf1ce80dd",
   "metadata": {
    "tags": []
   },
   "outputs": [],
   "source": [
    "class Checkpoint(torch.autograd.Function):\n",
    "    @staticmethod\n",
    "    def forward(ctx, phony, recomputed, function, input):\n",
    "        ctx.recomputed = recomputed\n",
    "        \n",
    "        with torch.no_grad():\n",
    "            output = function(input)\n",
    "        \n",
    "        return output\n",
    "\n",
    "    def backward(ctx, grad_output):\n",
    "        output, input_leaf = ctx.recomputed.pop()\n",
    "        \n",
    "        if output.requires_grad:\n",
    "            torch.autograd.backward(output, grad_output)\n",
    "        \n",
    "        grad_input = [None, None, None]\n",
    "        if input_leaf.grad is not None:\n",
    "            grad_input.extend([input_leaf.grad])\n",
    "        else:\n",
    "            grad_input.extend([None])\n",
    "        return tuple(grad_input)"
   ]
  },
  {
   "cell_type": "code",
   "execution_count": 146,
   "id": "760df237-d2da-4aa7-9a84-d6193da1eeff",
   "metadata": {
    "tags": []
   },
   "outputs": [
    {
     "data": {
      "text/plain": [
       "tensor([], grad_fn=<RecomputeBackward>)"
      ]
     },
     "execution_count": 146,
     "metadata": {},
     "output_type": "execute_result"
    }
   ],
   "source": [
    "phony"
   ]
  },
  {
   "cell_type": "code",
   "execution_count": 147,
   "id": "c5ddb76b-791c-45a0-9e77-134dc96b5e7e",
   "metadata": {
    "tags": []
   },
   "outputs": [
    {
     "data": {
      "text/plain": [
       "deque([(tensor([[ 0.4161,  0.5159],\n",
       "                [-0.0299, -0.6883]], grad_fn=<AddmmBackward0>),\n",
       "        tensor([[ 0.0984, -2.1375, -1.2984,  0.5310],\n",
       "                [ 0.8394,  0.4371, -0.2785,  0.1812]], requires_grad=True))],\n",
       "      maxlen=1)"
      ]
     },
     "execution_count": 147,
     "metadata": {},
     "output_type": "execute_result"
    }
   ],
   "source": [
    "recomputed"
   ]
  },
  {
   "cell_type": "code",
   "execution_count": 148,
   "id": "ee01459d-422d-456f-ba7a-4113ba1df00d",
   "metadata": {
    "tags": []
   },
   "outputs": [
    {
     "data": {
      "text/plain": [
       "(Linear(in_features=4, out_features=2, bias=True),\n",
       " tensor([[ 0.0984, -2.1375, -1.2984,  0.5310],\n",
       "         [ 0.8394,  0.4371, -0.2785,  0.1812]], requires_grad=True))"
      ]
     },
     "execution_count": 148,
     "metadata": {},
     "output_type": "execute_result"
    }
   ],
   "source": [
    "function, input"
   ]
  },
  {
   "cell_type": "code",
   "execution_count": 149,
   "id": "c3f56d0b-0fe9-4aee-bb51-c58cb3ff6a4a",
   "metadata": {
    "tags": []
   },
   "outputs": [],
   "source": [
    "output = Checkpoint.apply(phony, recomputed, function, input)"
   ]
  },
  {
   "cell_type": "code",
   "execution_count": 150,
   "id": "765a26b8-8c90-4d70-a8f0-ba46e3a8553d",
   "metadata": {
    "tags": []
   },
   "outputs": [
    {
     "data": {
      "text/plain": [
       "tensor([[ 0.4161,  0.5159],\n",
       "        [-0.0299, -0.6883]], grad_fn=<CheckpointBackward>)"
      ]
     },
     "execution_count": 150,
     "metadata": {},
     "output_type": "execute_result"
    }
   ],
   "source": [
    "output"
   ]
  },
  {
   "cell_type": "code",
   "execution_count": 151,
   "id": "6d9c8920-a5b1-4471-9916-50603d66686a",
   "metadata": {
    "tags": []
   },
   "outputs": [],
   "source": [
    "output.sum().backward()"
   ]
  },
  {
   "cell_type": "code",
   "execution_count": 152,
   "id": "c16549f3-7e53-4e80-a6a6-4b2cd209b2bb",
   "metadata": {
    "tags": []
   },
   "outputs": [
    {
     "data": {
      "text/plain": [
       "tensor([[-0.6793, -0.1394, -0.5098,  0.7668],\n",
       "        [-0.6793, -0.1394, -0.5098,  0.7668]])"
      ]
     },
     "execution_count": 152,
     "metadata": {},
     "output_type": "execute_result"
    }
   ],
   "source": [
    "input.grad"
   ]
  },
  {
   "cell_type": "markdown",
   "id": "31b36270-7fed-4fc0-9821-d01e6373545a",
   "metadata": {},
   "source": [
    "### `Checkpointing`"
   ]
  },
  {
   "cell_type": "markdown",
   "id": "f448e467-5697-43ab-8c87-065373f11298",
   "metadata": {},
   "source": [
    "##### Example 1"
   ]
  },
  {
   "cell_type": "code",
   "execution_count": 2,
   "id": "206481ab-c7b7-4f02-812c-6c24a25789ad",
   "metadata": {
    "tags": []
   },
   "outputs": [],
   "source": [
    "import torch"
   ]
  },
  {
   "cell_type": "code",
   "execution_count": null,
   "id": "bbd7bf05-44b4-4885-9f33-fa96f334b2ad",
   "metadata": {},
   "outputs": [],
   "source": [
    "phony > checkpoint.forward()"
   ]
  },
  {
   "cell_type": "code",
   "execution_count": null,
   "id": "31d24d62-a043-4ed0-9d4a-9ad55d7d398b",
   "metadata": {},
   "outputs": [],
   "source": [
    "140379543834512"
   ]
  },
  {
   "cell_type": "code",
   "execution_count": 5,
   "id": "ee6ab699-76c7-4d91-ad87-9fe78a452e9d",
   "metadata": {
    "tags": []
   },
   "outputs": [],
   "source": [
    "from collections import deque"
   ]
  },
  {
   "cell_type": "code",
   "execution_count": 4,
   "id": "61f13e65-ac16-4a91-a6e7-60e0729f460d",
   "metadata": {
    "tags": []
   },
   "outputs": [],
   "source": [
    "class Checkpointing:\n",
    "    def __init__(self, function, input):\n",
    "        self.function = function\n",
    "        self.input = input\n",
    "        \n",
    "        self.recomputed = deque(maxlen=1)\n",
    "    \n",
    "    def checkpoint(self,):\n",
    "        input = self.input\n",
    "        output = Checkpoint.apply()\n",
    "    \n",
    "    def recompute(self):\n",
    "        pass"
   ]
  },
  {
   "cell_type": "code",
   "execution_count": 3,
   "id": "48b2229b-83db-4515-b5f2-389ae3ff6945",
   "metadata": {},
   "outputs": [],
   "source": [
    "def checkpoint(function, input):\n",
    "    ckp = Checkpointing(function, input)\n",
    "    output = ckp.checkpoint()\n",
    "    ckp.recompute()\n",
    "    return output"
   ]
  },
  {
   "cell_type": "code",
   "execution_count": null,
   "id": "15d94026-e7c9-48a0-abc5-5989f5a0edec",
   "metadata": {},
   "outputs": [],
   "source": []
  }
 ],
 "metadata": {
  "kernelspec": {
   "display_name": "Python 3 (ipykernel)",
   "language": "python",
   "name": "python3"
  },
  "language_info": {
   "codemirror_mode": {
    "name": "ipython",
    "version": 3
   },
   "file_extension": ".py",
   "mimetype": "text/x-python",
   "name": "python",
   "nbconvert_exporter": "python",
   "pygments_lexer": "ipython3",
   "version": "3.8.16"
  }
 },
 "nbformat": 4,
 "nbformat_minor": 5
}
