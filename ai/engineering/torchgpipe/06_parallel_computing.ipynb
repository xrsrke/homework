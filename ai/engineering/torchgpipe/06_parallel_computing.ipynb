{
 "cells": [
  {
   "cell_type": "code",
   "execution_count": 1,
   "id": "e744374e-57bd-4635-bc95-b85ffbc71d17",
   "metadata": {
    "tags": []
   },
   "outputs": [],
   "source": [
    "import torch"
   ]
  },
  {
   "cell_type": "markdown",
   "id": "033ec12d-3edd-4e3e-8837-b62cbb51a176",
   "metadata": {},
   "source": [
    "### Checkpointing"
   ]
  },
  {
   "cell_type": "code",
   "execution_count": 2,
   "id": "36d35b4b-08e2-42a3-9f2c-d9f37028db9e",
   "metadata": {
    "tags": []
   },
   "outputs": [],
   "source": [
    "class Checkpointing:\n",
    "    def __init__(self, function, input):\n",
    "        self.function = function\n",
    "        self.input = input\n",
    "    \n",
    "    def checkpoint(self):\n",
    "        output = Checkpoint.apply(self.function, self.input)\n",
    "        return output\n",
    "    \n",
    "    def recompute(self, x):\n",
    "        pass"
   ]
  },
  {
   "cell_type": "code",
   "execution_count": 3,
   "id": "0f538a9f-6deb-442b-bc8a-78d7dfd494f4",
   "metadata": {
    "tags": []
   },
   "outputs": [],
   "source": [
    "class Checkpoint(torch.autograd.Function):\n",
    "    @staticmethod\n",
    "    def forward(self, function, input):\n",
    "        output = function(input)\n",
    "        return output"
   ]
  },
  {
   "cell_type": "code",
   "execution_count": 4,
   "id": "de6754ad-8c64-41c2-9196-1367862d7de3",
   "metadata": {
    "tags": []
   },
   "outputs": [],
   "source": [
    "x = torch.tensor(69., requires_grad=True)"
   ]
  },
  {
   "cell_type": "code",
   "execution_count": 5,
   "id": "709eee7d-1394-4127-ac2e-6e817f33e3f8",
   "metadata": {
    "tags": []
   },
   "outputs": [],
   "source": [
    "def f(x):\n",
    "    return x*69"
   ]
  },
  {
   "cell_type": "code",
   "execution_count": 6,
   "id": "2f83e45e-f096-4e77-8c00-b25c6e39e114",
   "metadata": {
    "tags": []
   },
   "outputs": [],
   "source": [
    "ckp = Checkpointing(function=f, input=x)"
   ]
  },
  {
   "cell_type": "code",
   "execution_count": 7,
   "id": "1b51dc20-a0f2-47a9-a8b8-be1377c64e52",
   "metadata": {
    "tags": []
   },
   "outputs": [
    {
     "data": {
      "text/plain": [
       "tensor(4761., grad_fn=<CheckpointBackward>)"
      ]
     },
     "execution_count": 7,
     "metadata": {},
     "output_type": "execute_result"
    }
   ],
   "source": [
    "ckp.checkpoint()"
   ]
  },
  {
   "cell_type": "code",
   "execution_count": 8,
   "id": "2e785f7b-3d0a-4b3f-877b-c547652cbf2d",
   "metadata": {},
   "outputs": [
    {
     "data": {
      "text/plain": [
       "True"
      ]
     },
     "execution_count": 8,
     "metadata": {},
     "output_type": "execute_result"
    }
   ],
   "source": [
    "x.requires_grad"
   ]
  },
  {
   "cell_type": "code",
   "execution_count": 10,
   "id": "f4a30cf2-033e-4fe2-9baf-9a701fc75a2b",
   "metadata": {
    "tags": []
   },
   "outputs": [],
   "source": [
    "ckp.recompute(x)"
   ]
  },
  {
   "cell_type": "code",
   "execution_count": null,
   "id": "6010f8ee-8b6c-4f97-856b-90ecba371159",
   "metadata": {},
   "outputs": [],
   "source": []
  }
 ],
 "metadata": {
  "kernelspec": {
   "display_name": "Python 3 (ipykernel)",
   "language": "python",
   "name": "python3"
  },
  "language_info": {
   "codemirror_mode": {
    "name": "ipython",
    "version": 3
   },
   "file_extension": ".py",
   "mimetype": "text/x-python",
   "name": "python",
   "nbconvert_exporter": "python",
   "pygments_lexer": "ipython3",
   "version": "3.8.16"
  }
 },
 "nbformat": 4,
 "nbformat_minor": 5
}
