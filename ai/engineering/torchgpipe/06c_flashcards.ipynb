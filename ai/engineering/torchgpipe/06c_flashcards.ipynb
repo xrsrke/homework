{
 "cells": [
  {
   "cell_type": "markdown",
   "id": "23a9b557-4a01-4f95-8986-24fefde90e24",
   "metadata": {
    "tags": []
   },
   "source": [
    "# Pipeline"
   ]
  },
  {
   "cell_type": "code",
   "execution_count": 2,
   "id": "ef912a9c-c607-4ac5-bcb4-0984f81d8e85",
   "metadata": {
    "tags": []
   },
   "outputs": [],
   "source": [
    "class Pipeline:\n",
    "    def __init__(self, batches, partritions, devices):\n",
    "        self.batches = batches\n",
    "        self.partritions = partritions\n",
    "        self.devices = devices\n",
    "        \n",
    "        self.copy_streams = [[torch.cuda.stream(d)] * len(batches) for d in devices]\n",
    "    \n",
    "    def run"
   ]
  },
  {
   "cell_type": "code",
   "execution_count": 1,
   "id": "49ecc69c-cfa5-4a2b-ad5c-93e790c4ff72",
   "metadata": {
    "tags": []
   },
   "outputs": [
    {
     "data": {
      "text/plain": [
       "[[1, 1], [1, 1], [1, 1]]"
      ]
     },
     "execution_count": 1,
     "metadata": {},
     "output_type": "execute_result"
    }
   ],
   "source": [
    "[[1] * 2 for _ in range(3)]"
   ]
  },
  {
   "cell_type": "code",
   "execution_count": null,
   "id": "6223fe99-1978-41f3-b571-7b1941d531aa",
   "metadata": {},
   "outputs": [],
   "source": []
  }
 ],
 "metadata": {
  "kernelspec": {
   "display_name": "Python 3 (ipykernel)",
   "language": "python",
   "name": "python3"
  },
  "language_info": {
   "codemirror_mode": {
    "name": "ipython",
    "version": 3
   },
   "file_extension": ".py",
   "mimetype": "text/x-python",
   "name": "python",
   "nbconvert_exporter": "python",
   "pygments_lexer": "ipython3",
   "version": "3.8.16"
  }
 },
 "nbformat": 4,
 "nbformat_minor": 5
}
