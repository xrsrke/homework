{
 "cells": [
  {
   "cell_type": "code",
   "execution_count": 1,
   "id": "06aa4a1a-bb75-4dca-bb1d-c0f528508315",
   "metadata": {},
   "outputs": [],
   "source": [
    "import torch\n",
    "from torch import nn\n",
    "import torch.nn.functional as F"
   ]
  },
  {
   "cell_type": "code",
   "execution_count": 2,
   "id": "7d8c4cc4-8886-4c51-88bd-2e9c4993f0e7",
   "metadata": {},
   "outputs": [],
   "source": [
    "device = torch.cuda.device_count()"
   ]
  },
  {
   "cell_type": "code",
   "execution_count": 3,
   "id": "2e2cc6b0-f112-4c63-9b2a-01dabfd20802",
   "metadata": {},
   "outputs": [],
   "source": [
    "class Copy(torch.autograd.Function):\n",
    "    @staticmethod\n",
    "    def forward(ctx, prev_stream, next_stream, input):\n",
    "        ctx.prev_stream = prev_stream\n",
    "        ctx.next_stream = next_stream\n",
    "        \n",
    "        output = []\n",
    "        output_stream = torch.cuda.current_stream(next_stream.device)\n",
    "        \n",
    "        with torch.cuda.stream(prev_stream), torch.cuda.stream(next_stream):\n",
    "            for x in input:\n",
    "                y = y.to(next_stream.device)\n",
    "                output.append(y)\n",
    "                \n",
    "                x.record_stream(prev_stream) # async\n",
    "                \n",
    "                y.record_stream(output_stream) # async\n",
    "        \n",
    "        return tuple(output)"
   ]
  },
  {
   "cell_type": "code",
   "execution_count": 4,
   "id": "9676d19b-afb9-4708-bc0d-313ee5cc111b",
   "metadata": {},
   "outputs": [],
   "source": [
    "class Copy(torch.autograd.Function):\n",
    "    @staticmethod\n",
    "    def forward(ctx, prev_stream, next_stream, input):\n",
    "        ctx.prev_stream = prev_stream\n",
    "        ctx.next_stream = next_stream\n",
    "        \n",
    "        output = []\n",
    "        output_stream = torch.cuda.current_stream(next_stream.device)\n",
    "        \n",
    "        with torch.cuda.stream(prev_stream), torch.cuda.stream(next_stream):\n",
    "            for x in input:\n",
    "                y = y.to(next_stream.device)\n",
    "                output.append(y)\n",
    "                \n",
    "                x.record_stream(prev_stream) # async\n",
    "                \n",
    "                y.record_stream(output_stream) # async\n",
    "        \n",
    "        return tuple(output)"
   ]
  },
  {
   "cell_type": "code",
   "execution_count": null,
   "id": "7de41d03-44d6-4441-8e52-54fd302576c1",
   "metadata": {},
   "outputs": [],
   "source": []
  },
  {
   "cell_type": "code",
   "execution_count": null,
   "id": "51c9f726-09d2-416b-920f-f482213ca338",
   "metadata": {},
   "outputs": [],
   "source": []
  },
  {
   "cell_type": "code",
   "execution_count": null,
   "id": "e9ab2254-9513-49a9-a131-c8c209c776d5",
   "metadata": {},
   "outputs": [],
   "source": []
  }
 ],
 "metadata": {
  "kernelspec": {
   "display_name": "Python 3 (ipykernel)",
   "language": "python",
   "name": "python3"
  },
  "language_info": {
   "codemirror_mode": {
    "name": "ipython",
    "version": 3
   },
   "file_extension": ".py",
   "mimetype": "text/x-python",
   "name": "python",
   "nbconvert_exporter": "python",
   "pygments_lexer": "ipython3",
   "version": "3.8.16"
  }
 },
 "nbformat": 4,
 "nbformat_minor": 5
}
