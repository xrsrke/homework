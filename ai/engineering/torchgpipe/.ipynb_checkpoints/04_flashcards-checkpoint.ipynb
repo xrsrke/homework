{
 "cells": [
  {
   "cell_type": "markdown",
   "id": "c1f8b6e6-eb81-4cbd-80ec-2523c21ec1bf",
   "metadata": {},
   "source": [
    "### Schedule"
   ]
  },
  {
   "cell_type": "code",
   "execution_count": 6,
   "id": "d598a748-fcce-464a-9424-4a7a7afca5ba",
   "metadata": {
    "tags": []
   },
   "outputs": [
    {
     "name": "stdout",
     "output_type": "stream",
     "text": [
      "from_partrition=0\n",
      "to_partrition=1\n",
      "partrition_idx = 0\n",
      "[(1, 1)]\n",
      "---------\n",
      "from_partrition=0\n",
      "to_partrition=2\n",
      "partrition_idx = 0\n",
      "partrition_idx = 1\n",
      "[(2, 1), (1, 2)]\n",
      "---------\n",
      "from_partrition=0\n",
      "to_partrition=3\n",
      "partrition_idx = 0\n",
      "partrition_idx = 1\n",
      "partrition_idx = 2\n",
      "[(3, 1), (2, 2), (1, 3)]\n",
      "---------\n",
      "from_partrition=0\n",
      "to_partrition=3\n",
      "partrition_idx = 0\n",
      "partrition_idx = 1\n",
      "partrition_idx = 2\n",
      "[(4, 1), (3, 2), (2, 3)]\n",
      "---------\n",
      "from_partrition=1\n",
      "to_partrition=3\n",
      "partrition_idx = 1\n",
      "partrition_idx = 2\n",
      "[(4, 2), (3, 3)]\n",
      "---------\n",
      "from_partrition=2\n",
      "to_partrition=3\n",
      "partrition_idx = 2\n",
      "[(4, 3)]\n",
      "---------\n"
     ]
    }
   ],
   "source": [
    "for clock_idx in range(n_microbatches+n_partritions-1):\n",
    "    from_partrition = max(clock_idx+1-n_microbatches, 0)\n",
    "    to_partrition = min(clock_idx+1, n_partritions)\n",
    "    \n",
    "    print(f\"from_partrition={from_partrition}\") # ignore\n",
    "    print(f\"to_partrition={to_partrition}\") # ignore\n",
    "\n",
    "    results = []\n",
    "    for partrition_idx in range(from_partrition, to_partrition):\n",
    "        print(f\"partrition_idx = {partrition_idx}\") # ignore\n",
    "        microbatch_idx = clock_idx-partrition_idx\n",
    "        result = (microbatch_idx+1, partrition_idx+1)\n",
    "        results.append(result)\n",
    "    \n",
    "    print(results)\n",
    "    \n",
    "    print(\"---------\") # ignore"
   ]
  },
  {
   "cell_type": "markdown",
   "id": "8a14b8d2-a8bc-4509-918e-0a656976ba55",
   "metadata": {},
   "source": [
    "##### Example 1"
   ]
  },
  {
   "cell_type": "code",
   "execution_count": 3,
   "id": "df170fbe-992d-4788-a1d4-c781daea8cb8",
   "metadata": {
    "tags": []
   },
   "outputs": [],
   "source": [
    "n_microbatches = 4"
   ]
  },
  {
   "cell_type": "code",
   "execution_count": 4,
   "id": "f5fdf6d6-9cd3-4b0b-86b1-6d1d32e15cc9",
   "metadata": {
    "tags": []
   },
   "outputs": [],
   "source": [
    "n_partritions = 3"
   ]
  },
  {
   "cell_type": "code",
   "execution_count": 17,
   "id": "20a31041-72f3-4d0d-80ef-09492595a9ac",
   "metadata": {
    "tags": []
   },
   "outputs": [
    {
     "data": {
      "text/plain": [
       "(4, 3)"
      ]
     },
     "execution_count": 17,
     "metadata": {},
     "output_type": "execute_result"
    }
   ],
   "source": [
    "n_microbatches, n_partritions"
   ]
  },
  {
   "cell_type": "markdown",
   "id": "0703f01e-806c-46b4-8472-faf0447a10c8",
   "metadata": {},
   "source": [
    "Reimplement the execution scheduler for pipeline parallelism in `TorchGPipe`."
   ]
  },
  {
   "cell_type": "code",
   "execution_count": 18,
   "id": "ab5133c6-056a-4d71-b68f-0ed419dcab92",
   "metadata": {
    "tags": []
   },
   "outputs": [
    {
     "name": "stdout",
     "output_type": "stream",
     "text": [
      "Clock cycle 0: [(1, 1)]\n",
      "Clock cycle 1: [(2, 1), (1, 2)]\n",
      "Clock cycle 2: [(3, 1), (2, 2), (1, 3)]\n",
      "Clock cycle 3: [(4, 1), (3, 2), (2, 3)]\n",
      "Clock cycle 4: [(4, 2), (3, 3)]\n",
      "Clock cycle 5: [(4, 3)]\n"
     ]
    }
   ],
   "source": [
    "for clock_idx in range(n_microbatches+n_partritions-1):\n",
    "    from_partrition = max(clock_idx+1-n_microbatches, 0)\n",
    "    to_partrition = min(clock_idx+1, n_partritions)\n",
    "\n",
    "    tasks = []\n",
    "    for partrition_idx in range(from_partrition, to_partrition):\n",
    "        microbatch_idx = clock_idx-partrition_idx\n",
    "        task = (microbatch_idx+1, partrition_idx+1)\n",
    "        tasks.append(task)\n",
    "    \n",
    "    print(f\"Clock cycle {clock_idx}: {tasks}\") # ignore"
   ]
  },
  {
   "cell_type": "markdown",
   "id": "af369010-3dda-48ce-a5a2-15e7819a131b",
   "metadata": {},
   "source": [
    "### X"
   ]
  },
  {
   "cell_type": "code",
   "execution_count": null,
   "id": "7c622a42-94bb-4817-8a68-a792eb30b87a",
   "metadata": {},
   "outputs": [],
   "source": [
    "import torch\n",
    "import torch.nn as nn\n",
    "\n",
    "# Define the subnetworks (partitions) of the neural network\n",
    "f1 = nn.Linear(2, 4)\n",
    "f2 = nn.ReLU()\n",
    "f3 = nn.Linear(4, 1)\n",
    "\n",
    "# Full network as a sequence of subnetworks\n",
    "f = nn.Sequential(f1, f2, f3)\n",
    "\n",
    "# Input data as a mini-batch\n",
    "x = torch.tensor([[1, 1], [2, 2], [3, 3], [4, 4]], dtype=torch.float32)"
   ]
  },
  {
   "cell_type": "code",
   "execution_count": null,
   "id": "0823f0fe-9321-492a-b5b1-68fa681f9736",
   "metadata": {},
   "outputs": [],
   "source": [
    "# Divide the mini-batch into micro-batches\n",
    "m = 2\n",
    "micro_batches = torch.chunk(x, m)\n",
    "\n",
    "# Forward pass on micro-batches\n",
    "outputs = []"
   ]
  },
  {
   "cell_type": "code",
   "execution_count": null,
   "id": "6858ae0d-9621-4a9c-907d-fe0cfa96b372",
   "metadata": {},
   "outputs": [
    {
     "data": {
      "text/plain": [
       "(tensor([[1., 1.],\n",
       "         [2., 2.]]),\n",
       " tensor([[3., 3.],\n",
       "         [4., 4.]]))"
      ]
     },
     "execution_count": null,
     "metadata": {},
     "output_type": "execute_result"
    }
   ],
   "source": [
    "micro_batches"
   ]
  },
  {
   "cell_type": "code",
   "execution_count": null,
   "id": "1e042be9-cefb-4e6f-be52-8ac48f22c7c4",
   "metadata": {},
   "outputs": [
    {
     "name": "stdout",
     "output_type": "stream",
     "text": [
      "Forward pass result: tensor([[0.1838],\n",
      "        [0.2771],\n",
      "        [0.3704],\n",
      "        [0.4637]], grad_fn=<CatBackward0>)\n"
     ]
    }
   ],
   "source": [
    "for i in range(m):\n",
    "    x_i = micro_batches[i]\n",
    "    x_i_1 = f1(x_i)\n",
    "    x_i_2 = f2(x_i_1)\n",
    "    x_i_3 = f3(x_i_2)\n",
    "    outputs.append(x_i_3)\n",
    "\n",
    "# Aggregate the outputs\n",
    "f_x = torch.cat(outputs, dim=0)\n",
    "print(\"Forward pass result:\", f_x)"
   ]
  },
  {
   "cell_type": "code",
   "execution_count": null,
   "id": "b469e8c6-5258-4794-acbd-5543eb9da99a",
   "metadata": {},
   "outputs": [
    {
     "data": {
      "text/plain": [
       "tensor([[0.1838],\n",
       "        [0.2771],\n",
       "        [0.3704],\n",
       "        [0.4637]], grad_fn=<CatBackward0>)"
      ]
     },
     "execution_count": null,
     "metadata": {},
     "output_type": "execute_result"
    }
   ],
   "source": [
    "f_x"
   ]
  },
  {
   "cell_type": "code",
   "execution_count": null,
   "id": "f54a07b2-4712-40fe-81b3-c8b970090962",
   "metadata": {},
   "outputs": [
    {
     "data": {
      "text/plain": [
       "tensor([[0.1838],\n",
       "        [0.2771],\n",
       "        [0.3704],\n",
       "        [0.4637]], grad_fn=<AddmmBackward0>)"
      ]
     },
     "execution_count": null,
     "metadata": {},
     "output_type": "execute_result"
    }
   ],
   "source": [
    "f(x)"
   ]
  },
  {
   "cell_type": "markdown",
   "id": "31395306-be3a-4739-bbed-f83799b98b16",
   "metadata": {},
   "source": [
    "##### Example 1"
   ]
  },
  {
   "cell_type": "code",
   "execution_count": null,
   "id": "79184110-7361-4744-844f-b5ca9945d5ea",
   "metadata": {},
   "outputs": [],
   "source": [
    "x = torch.tensor([[1, 1], [2, 2], [3, 3], [4, 4]], dtype=torch.float32)"
   ]
  },
  {
   "cell_type": "code",
   "execution_count": null,
   "id": "2174f5ec-cb63-4e95-b310-a5883135d27d",
   "metadata": {},
   "outputs": [],
   "source": [
    "# Define the subnetworks (partitions) of the neural network\n",
    "f1 = nn.Linear(2, 4)\n",
    "f2 = nn.ReLU()\n",
    "f3 = nn.Linear(4, 1)\n",
    "\n",
    "# Full network as a sequence of subnetworks\n",
    "model = nn.Sequential(f1, f2, f3)"
   ]
  },
  {
   "cell_type": "code",
   "execution_count": null,
   "id": "ccfa8c00-ba24-4dcf-aef1-ffa217c5d008",
   "metadata": {},
   "outputs": [],
   "source": [
    "n_micros = 2"
   ]
  },
  {
   "cell_type": "code",
   "execution_count": null,
   "id": "3c82ecee-5aee-406a-8ff7-9d3594aca677",
   "metadata": {},
   "outputs": [],
   "source": [
    "import torch"
   ]
  },
  {
   "cell_type": "code",
   "execution_count": null,
   "id": "db97c037-d72e-47dd-a641-ef7f6b3a0cfb",
   "metadata": {},
   "outputs": [
    {
     "data": {
      "text/plain": [
       "tensor([[1., 1.],\n",
       "        [2., 2.],\n",
       "        [3., 3.],\n",
       "        [4., 4.]])"
      ]
     },
     "execution_count": null,
     "metadata": {},
     "output_type": "execute_result"
    }
   ],
   "source": [
    "x"
   ]
  },
  {
   "cell_type": "code",
   "execution_count": null,
   "id": "a6a53920-4386-450f-92e8-32b6e376c55b",
   "metadata": {},
   "outputs": [
    {
     "data": {
      "text/plain": [
       "Sequential(\n",
       "  (0): Linear(in_features=2, out_features=4, bias=True)\n",
       "  (1): ReLU()\n",
       "  (2): Linear(in_features=4, out_features=1, bias=True)\n",
       ")"
      ]
     },
     "execution_count": null,
     "metadata": {},
     "output_type": "execute_result"
    }
   ],
   "source": [
    "model"
   ]
  },
  {
   "cell_type": "code",
   "execution_count": null,
   "id": "14178d3a-e5b4-48c9-a9ad-5a196ebba43c",
   "metadata": {},
   "outputs": [],
   "source": [
    "output = model(x)"
   ]
  },
  {
   "cell_type": "code",
   "execution_count": null,
   "id": "09f9a62a-2d3c-4f46-b80a-2502dabe6b9f",
   "metadata": {},
   "outputs": [
    {
     "data": {
      "text/plain": [
       "2"
      ]
     },
     "execution_count": null,
     "metadata": {},
     "output_type": "execute_result"
    }
   ],
   "source": [
    "n_micros"
   ]
  },
  {
   "cell_type": "markdown",
   "id": "0f8d7e51-0dfd-439b-b42f-289727118e6b",
   "metadata": {},
   "source": [
    "Implement a vanila pipeline parallelism with `n_micros` micro-batches. Explain"
   ]
  },
  {
   "cell_type": "markdown",
   "id": "a8f28667-f315-4154-8591-380f0676a604",
   "metadata": {},
   "source": [
    "**Step 1**: First we split the batch into micro-batches"
   ]
  },
  {
   "cell_type": "code",
   "execution_count": null,
   "id": "8001ec94-63d0-42d8-b66e-9e6a54601dbb",
   "metadata": {},
   "outputs": [],
   "source": [
    "micro_batches = torch.chunk(x, n_micros)"
   ]
  },
  {
   "cell_type": "code",
   "execution_count": null,
   "id": "957786cd-3753-4ef7-83b2-136bd0155a8a",
   "metadata": {},
   "outputs": [],
   "source": [
    "outputs = []"
   ]
  },
  {
   "cell_type": "code",
   "execution_count": null,
   "id": "7f48a5bb-38a5-41e7-8684-53f14c1ae1dd",
   "metadata": {},
   "outputs": [],
   "source": [
    "for i in range(n_micros):\n",
    "    x_i = micro_batches[i]\n",
    "    for subnetwork in model:\n",
    "        x_i = subnetwork(x_i)\n",
    "    \n",
    "    outputs.append(x_i)"
   ]
  },
  {
   "cell_type": "code",
   "execution_count": null,
   "id": "3e43f700-486a-44b5-b659-ad09033e2609",
   "metadata": {},
   "outputs": [],
   "source": [
    "parallel_output = torch.cat(outputs, dim=0)"
   ]
  },
  {
   "cell_type": "code",
   "execution_count": null,
   "id": "1b23c2c5-8c8f-45a4-88af-782d8b8b952e",
   "metadata": {},
   "outputs": [
    {
     "data": {
      "text/plain": [
       "tensor([[True],\n",
       "        [True],\n",
       "        [True],\n",
       "        [True]])"
      ]
     },
     "execution_count": null,
     "metadata": {},
     "output_type": "execute_result"
    }
   ],
   "source": [
    "output == parallel_output"
   ]
  },
  {
   "cell_type": "code",
   "execution_count": null,
   "id": "16e7b48c-708f-4b51-a3b3-d8d4073461bc",
   "metadata": {},
   "outputs": [],
   "source": [
    "x = torch.tensor([[-1, 2, 3], [4, 5, 6]])"
   ]
  },
  {
   "cell_type": "code",
   "execution_count": null,
   "id": "4e972831-4bf3-428f-b2f3-3c5a3cd865d0",
   "metadata": {},
   "outputs": [
    {
     "data": {
      "text/plain": [
       "tensor([-1,  2,  3])"
      ]
     },
     "execution_count": null,
     "metadata": {},
     "output_type": "execute_result"
    }
   ],
   "source": [
    "x[0]"
   ]
  },
  {
   "cell_type": "code",
   "execution_count": null,
   "id": "91dfe014-df31-4b36-a498-a96a5349924d",
   "metadata": {},
   "outputs": [
    {
     "data": {
      "text/plain": [
       "tensor([-1,  2,  3])"
      ]
     },
     "execution_count": null,
     "metadata": {},
     "output_type": "execute_result"
    }
   ],
   "source": [
    "x[0]"
   ]
  },
  {
   "cell_type": "code",
   "execution_count": null,
   "id": "7c80c0c2-8a82-4e9e-8851-e688e06272b1",
   "metadata": {},
   "outputs": [],
   "source": [
    "y = torch.tensor([-2, -1, 0, 1, 2])"
   ]
  },
  {
   "cell_type": "code",
   "execution_count": null,
   "id": "193da04a-3f0f-4913-b929-a8b030a5a301",
   "metadata": {},
   "outputs": [
    {
     "data": {
      "text/plain": [
       "tensor(6)"
      ]
     },
     "execution_count": null,
     "metadata": {},
     "output_type": "execute_result"
    }
   ],
   "source": [
    "y.abs().sum()"
   ]
  },
  {
   "cell_type": "code",
   "execution_count": null,
   "id": "0b165713-90a7-4d12-9d7b-8f7d90ed488f",
   "metadata": {},
   "outputs": [
    {
     "data": {
      "text/plain": [
       "tensor(3.1623)"
      ]
     },
     "execution_count": null,
     "metadata": {},
     "output_type": "execute_result"
    }
   ],
   "source": [
    "y.pow(2).sum().sqrt()"
   ]
  },
  {
   "cell_type": "code",
   "execution_count": null,
   "id": "40729596-2b5a-4055-bbda-de90a1961477",
   "metadata": {},
   "outputs": [],
   "source": []
  }
 ],
 "metadata": {
  "kernelspec": {
   "display_name": "Python 3 (ipykernel)",
   "language": "python",
   "name": "python3"
  },
  "language_info": {
   "codemirror_mode": {
    "name": "ipython",
    "version": 3
   },
   "file_extension": ".py",
   "mimetype": "text/x-python",
   "name": "python",
   "nbconvert_exporter": "python",
   "pygments_lexer": "ipython3",
   "version": "3.8.16"
  }
 },
 "nbformat": 4,
 "nbformat_minor": 5
}
