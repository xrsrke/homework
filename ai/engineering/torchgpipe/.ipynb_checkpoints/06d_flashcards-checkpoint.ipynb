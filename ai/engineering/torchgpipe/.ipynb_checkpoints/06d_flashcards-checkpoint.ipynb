{
 "cells": [
  {
   "cell_type": "markdown",
   "id": "6f58f788-4330-493b-bcf8-0f3f602022b5",
   "metadata": {},
   "source": [
    "##### Example 1"
   ]
  },
  {
   "cell_type": "code",
   "execution_count": 27,
   "id": "9c09abbe-4244-4cbf-8116-c2d22b582958",
   "metadata": {
    "tags": []
   },
   "outputs": [],
   "source": [
    "import threading"
   ]
  },
  {
   "cell_type": "code",
   "execution_count": 28,
   "id": "9b0f9b94-8539-4529-91e9-81ab4b2a91ad",
   "metadata": {
    "tags": []
   },
   "outputs": [],
   "source": [
    "def print_and_modify(data):\n",
    "    data.x = 69\n",
    "    print(f\"data.x={data.x}\")"
   ]
  },
  {
   "cell_type": "markdown",
   "id": "9d5cae4e-7c05-44f3-84ad-3beca7f6f01d",
   "metadata": {},
   "source": [
    "Create a new object that is available in global memory. Then, launch a new thread to execute the `print_and_modify` function using the created object (`data`), ensuring that the modified data is only accessible locally within the thread.     "
   ]
  },
  {
   "cell_type": "code",
   "execution_count": 29,
   "id": "946474ac-97f1-4a42-a74a-e7b8a607bd5f",
   "metadata": {
    "tags": []
   },
   "outputs": [],
   "source": [
    "data = threading.local()"
   ]
  },
  {
   "cell_type": "code",
   "execution_count": 30,
   "id": "2b154317-18a2-40e4-aa47-cd0c575d622a",
   "metadata": {
    "tags": []
   },
   "outputs": [],
   "source": [
    "thread = threading.Thread(\n",
    "    target=print_and_modify,\n",
    "    args=(data,)\n",
    ")"
   ]
  },
  {
   "cell_type": "code",
   "execution_count": 31,
   "id": "4be1d4bb-f69e-4146-bc45-20fad96143f5",
   "metadata": {
    "tags": []
   },
   "outputs": [],
   "source": [
    "data.x = 42"
   ]
  },
  {
   "cell_type": "code",
   "execution_count": 32,
   "id": "c083253d-42fe-4894-90fc-09365fc0287d",
   "metadata": {
    "tags": []
   },
   "outputs": [
    {
     "name": "stdout",
     "output_type": "stream",
     "text": [
      "data.x=69\n"
     ]
    }
   ],
   "source": [
    "thread.start()"
   ]
  },
  {
   "cell_type": "code",
   "execution_count": 33,
   "id": "0fa46ca7-b605-4d58-b7c6-0c5b2ee9ed16",
   "metadata": {
    "tags": []
   },
   "outputs": [
    {
     "data": {
      "text/plain": [
       "42"
      ]
     },
     "execution_count": 33,
     "metadata": {},
     "output_type": "execute_result"
    }
   ],
   "source": [
    "data.x"
   ]
  },
  {
   "cell_type": "code",
   "execution_count": null,
   "id": "6f0a5da7-3c2b-4b2b-a8f2-8b0e23087840",
   "metadata": {},
   "outputs": [],
   "source": []
  },
  {
   "cell_type": "code",
   "execution_count": null,
   "id": "cfa762b9-1b00-4396-ad75-1733d7d4799d",
   "metadata": {},
   "outputs": [],
   "source": []
  }
 ],
 "metadata": {
  "kernelspec": {
   "display_name": "Python 3 (ipykernel)",
   "language": "python",
   "name": "python3"
  },
  "language_info": {
   "codemirror_mode": {
    "name": "ipython",
    "version": 3
   },
   "file_extension": ".py",
   "mimetype": "text/x-python",
   "name": "python",
   "nbconvert_exporter": "python",
   "pygments_lexer": "ipython3",
   "version": "3.8.16"
  }
 },
 "nbformat": 4,
 "nbformat_minor": 5
}
