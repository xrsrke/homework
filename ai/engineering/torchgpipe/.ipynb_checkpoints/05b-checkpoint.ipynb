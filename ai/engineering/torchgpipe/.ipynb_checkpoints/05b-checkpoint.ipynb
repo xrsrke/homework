{
 "cells": [
  {
   "cell_type": "code",
   "execution_count": null,
   "id": "9b2d0de0-d5be-4f40-bea1-9c1ac0a798ea",
   "metadata": {},
   "outputs": [],
   "source": [
    "import torch"
   ]
  },
  {
   "cell_type": "code",
   "execution_count": null,
   "id": "19f29881-9150-4f93-b381-28ad8e7bf59e",
   "metadata": {},
   "outputs": [],
   "source": [
    "phonies = {}"
   ]
  },
  {
   "cell_type": "code",
   "execution_count": null,
   "id": "b1169cbb-59da-45ed-a0f1-4c54b11a41f5",
   "metadata": {},
   "outputs": [
    {
     "data": {
      "text/plain": [
       "{}"
      ]
     },
     "execution_count": null,
     "metadata": {},
     "output_type": "execute_result"
    }
   ],
   "source": [
    "phonies"
   ]
  },
  {
   "cell_type": "code",
   "execution_count": null,
   "id": "32e17ea5-70d8-4bb3-8c6e-f026a18b7bb5",
   "metadata": {},
   "outputs": [],
   "source": [
    "def get_phony(device, requires_grad):\n",
    "    key = (device, requires_grad)\n",
    "    \n",
    "    try:\n",
    "        # if already exist\n",
    "        phony = phonies[key]\n",
    "    except KeyError:\n",
    "        phony = torch.empty(0, requires_grad=requires_grad)\n",
    "        phonies[key] = phony\n",
    "    \n",
    "    return phony"
   ]
  },
  {
   "cell_type": "code",
   "execution_count": null,
   "id": "14aada5e-4070-4407-9d05-b4aab3c38c6f",
   "metadata": {},
   "outputs": [],
   "source": [
    "device = torch.cuda.device(\"cuda:0\")"
   ]
  },
  {
   "cell_type": "code",
   "execution_count": null,
   "id": "6f0e0174-8708-45e6-943e-1c55e64c5ac0",
   "metadata": {},
   "outputs": [
    {
     "data": {
      "text/plain": [
       "tensor([], requires_grad=True)"
      ]
     },
     "execution_count": null,
     "metadata": {},
     "output_type": "execute_result"
    }
   ],
   "source": [
    "get_phony(device, True)"
   ]
  },
  {
   "cell_type": "code",
   "execution_count": null,
   "id": "690fa78a-8dfa-4d2b-a9a6-97853b42a857",
   "metadata": {},
   "outputs": [
    {
     "data": {
      "text/plain": [
       "tensor([], requires_grad=True)"
      ]
     },
     "execution_count": null,
     "metadata": {},
     "output_type": "execute_result"
    }
   ],
   "source": [
    "phonies[(device, True)]"
   ]
  },
  {
   "cell_type": "code",
   "execution_count": null,
   "id": "bf73c564-d5e0-4072-8c59-bc16c11898cb",
   "metadata": {},
   "outputs": [],
   "source": [
    "class Fork(torch.autograd.Function):\n",
    "    @staticmethod\n",
    "    def forward(ctx, input):\n",
    "        phony = get_phony(input.device, requires_grad=False)\n",
    "        return input.detach(), phony.detach()\n",
    "\n",
    "    @staticmethod\n",
    "    def backward(ctx, grad_input, grad_grad):\n",
    "        return grad_input"
   ]
  },
  {
   "cell_type": "code",
   "execution_count": null,
   "id": "d7c65cc6-00e1-4aa8-8940-e754ea528657",
   "metadata": {},
   "outputs": [],
   "source": [
    "class Join(torch.autograd.Function):\n",
    "    @staticmethod\n",
    "    def forward(ctx, input, phony):\n",
    "        return input.detach()\n",
    "    \n",
    "    @staticmethod\n",
    "    def backward(ctx, grad_input):\n",
    "        return grad_input, None"
   ]
  },
  {
   "cell_type": "code",
   "execution_count": null,
   "id": "bc3b7c0c-4921-4f98-927a-318ca6e165c3",
   "metadata": {},
   "outputs": [],
   "source": [
    "def fork(input):\n",
    "    if torch.is_grad_enabled() and input.requires_grad:\n",
    "        input, phony = Fork.apply(input)\n",
    "    else:\n",
    "        phony = get_phony(input.device, requires_grad=False)\n",
    "    return input, phony"
   ]
  },
  {
   "cell_type": "code",
   "execution_count": null,
   "id": "0e63e9b5-fc81-499d-a6bf-4a1d471ab26f",
   "metadata": {},
   "outputs": [],
   "source": [
    "def join(input, phony):\n",
    "    if torch.is_grad_enabled() and (input.requires_grad or phony.requires_grad):\n",
    "        input = Join.apply(input, phony)\n",
    "    return input"
   ]
  },
  {
   "cell_type": "code",
   "execution_count": null,
   "id": "39803fe2-c40d-417d-88d9-037198145694",
   "metadata": {},
   "outputs": [],
   "source": [
    "def depend(fork_from, join_to):\n",
    "    fork_from, phony = fork(fork_from)\n",
    "    join_to = join(join_to, phony)"
   ]
  },
  {
   "cell_type": "code",
   "execution_count": null,
   "id": "c1648f7d-28f0-4b77-9539-c211935f6a89",
   "metadata": {},
   "outputs": [],
   "source": [
    "x = torch.tensor([1., 2., 3.], requires_grad=True)\n",
    "y = torch.tensor([4., 5., 6.], requires_grad=True)"
   ]
  },
  {
   "cell_type": "code",
   "execution_count": null,
   "id": "6094f022-f216-4ff9-803a-04c9b58cd923",
   "metadata": {},
   "outputs": [],
   "source": [
    "depend(x, y)"
   ]
  },
  {
   "cell_type": "code",
   "execution_count": null,
   "id": "7d6f459e-9d40-4c3f-a123-72c16b534e3f",
   "metadata": {},
   "outputs": [],
   "source": [
    "y.sum().backward()"
   ]
  },
  {
   "cell_type": "code",
   "execution_count": null,
   "id": "d7eddcfb-7a43-499e-b10c-959602c0065e",
   "metadata": {},
   "outputs": [
    {
     "data": {
      "text/plain": [
       "tensor([1., 1., 1.])"
      ]
     },
     "execution_count": null,
     "metadata": {},
     "output_type": "execute_result"
    }
   ],
   "source": [
    "y.grad"
   ]
  },
  {
   "cell_type": "code",
   "execution_count": null,
   "id": "411370e8-4752-4afc-94f2-dadd9943afc1",
   "metadata": {},
   "outputs": [],
   "source": [
    "x.grad"
   ]
  },
  {
   "cell_type": "code",
   "execution_count": null,
   "id": "3c5406c9-79ea-405e-80a9-12ec0313a02b",
   "metadata": {},
   "outputs": [],
   "source": []
  },
  {
   "cell_type": "code",
   "execution_count": null,
   "id": "4e0ef7ea-bbbf-4134-b110-974330e4eb0d",
   "metadata": {},
   "outputs": [],
   "source": []
  },
  {
   "cell_type": "code",
   "execution_count": null,
   "id": "d3ffc513-2136-44b5-bc29-c63488997794",
   "metadata": {},
   "outputs": [],
   "source": [
    "class Operation(torch.autograd.Function):\n",
    "    @staticmethod\n",
    "    def forward(ctx, input):\n",
    "        return input + 1\n",
    "    \n",
    "    @staticmethod\n",
    "    def backward(ctx, grad_input):\n",
    "        return grad_input, None"
   ]
  },
  {
   "cell_type": "code",
   "execution_count": null,
   "id": "3b81cfb2-5bf4-41c9-a636-27d18bd8ac36",
   "metadata": {},
   "outputs": [],
   "source": [
    "batch_1 = torch.randn(2, 3, requires_grad=True)"
   ]
  },
  {
   "cell_type": "code",
   "execution_count": null,
   "id": "17245d24-2104-4e53-b751-a631c3668c6d",
   "metadata": {},
   "outputs": [],
   "source": [
    "batch_1.grad"
   ]
  },
  {
   "cell_type": "code",
   "execution_count": null,
   "id": "061cca94-746b-4e9e-9e13-fe3d46756868",
   "metadata": {},
   "outputs": [],
   "source": [
    "output = Operation.apply(batch_1)"
   ]
  },
  {
   "cell_type": "code",
   "execution_count": null,
   "id": "533d5810-b623-4853-828e-de07e6b297ed",
   "metadata": {},
   "outputs": [],
   "source": [
    "output.sum().backward()"
   ]
  },
  {
   "cell_type": "code",
   "execution_count": null,
   "id": "9a8040da-af67-4428-868a-cc0b95cec9ed",
   "metadata": {},
   "outputs": [],
   "source": []
  }
 ],
 "metadata": {
  "kernelspec": {
   "display_name": "Python 3 (ipykernel)",
   "language": "python",
   "name": "python3"
  },
  "language_info": {
   "codemirror_mode": {
    "name": "ipython",
    "version": 3
   },
   "file_extension": ".py",
   "mimetype": "text/x-python",
   "name": "python",
   "nbconvert_exporter": "python",
   "pygments_lexer": "ipython3",
   "version": "3.8.16"
  }
 },
 "nbformat": 4,
 "nbformat_minor": 5
}
