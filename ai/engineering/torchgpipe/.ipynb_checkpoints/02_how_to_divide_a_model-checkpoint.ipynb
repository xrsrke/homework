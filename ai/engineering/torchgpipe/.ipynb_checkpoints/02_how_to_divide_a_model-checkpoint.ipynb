{
 "cells": [
  {
   "cell_type": "markdown",
   "id": "90146cb0-20cb-4dc5-9470-e042a730875e",
   "metadata": {},
   "source": [
    "##### Example 1"
   ]
  },
  {
   "cell_type": "code",
   "execution_count": 1,
   "id": "122988ae-66a5-486a-bd1e-8cb9ca0799d9",
   "metadata": {
    "tags": []
   },
   "outputs": [],
   "source": [
    "def this_is_the_next_line(): pass"
   ]
  },
  {
   "cell_type": "code",
   "execution_count": 2,
   "id": "419f59b5-233e-41d3-b441-1296efd31fe1",
   "metadata": {
    "tags": []
   },
   "outputs": [
    {
     "ename": "NameError",
     "evalue": "name 'torch' is not defined",
     "output_type": "error",
     "traceback": [
      "\u001b[0;31m---------------------------------------------------------------------------\u001b[0m",
      "\u001b[0;31mNameError\u001b[0m                                 Traceback (most recent call last)",
      "Cell \u001b[0;32mIn[2], line 1\u001b[0m\n\u001b[0;32m----> 1\u001b[0m x \u001b[38;5;241m=\u001b[39m \u001b[43mtorch\u001b[49m\u001b[38;5;241m.\u001b[39mrandn(\u001b[38;5;241m1000\u001b[39m, \u001b[38;5;241m1000\u001b[39m)\n\u001b[1;32m      2\u001b[0m y \u001b[38;5;241m=\u001b[39m torch\u001b[38;5;241m.\u001b[39mrandn(\u001b[38;5;241m1000\u001b[39m, \u001b[38;5;241m1000\u001b[39m)\n",
      "\u001b[0;31mNameError\u001b[0m: name 'torch' is not defined"
     ]
    }
   ],
   "source": [
    "x = torch.randn(1000, 1000)\n",
    "y = torch.randn(1000, 1000)"
   ]
  },
  {
   "cell_type": "code",
   "execution_count": null,
   "id": "874fc813-13a0-4bd8-8260-862647d636e5",
   "metadata": {
    "tags": []
   },
   "outputs": [],
   "source": [
    "import torch"
   ]
  },
  {
   "cell_type": "code",
   "execution_count": null,
   "id": "d9371ca9-32df-43ed-9555-75ee06ed56df",
   "metadata": {
    "tags": []
   },
   "outputs": [],
   "source": [
    "x.shape, y.shape"
   ]
  },
  {
   "cell_type": "code",
   "execution_count": null,
   "id": "78b7de54-6de7-4c36-a82e-3fc558875998",
   "metadata": {},
   "outputs": [],
   "source": [
    "z = torch.matmul(x, y)"
   ]
  },
  {
   "cell_type": "markdown",
   "id": "aa709a00-ca15-4162-b755-0ac46715a9e9",
   "metadata": {},
   "source": [
    "Write a one-liner code to ensure that the matrix multiplication operation between tensors `x` and `y` on a CUDA device is completed before proceeding to the next line"
   ]
  },
  {
   "cell_type": "code",
   "execution_count": null,
   "id": "e77a6771-9e61-4115-890e-3dc1a8737834",
   "metadata": {},
   "outputs": [],
   "source": [
    "torch.cuda.synchronize()"
   ]
  },
  {
   "cell_type": "code",
   "execution_count": null,
   "id": "0947759e-901b-4179-9ae7-d715ce341b6a",
   "metadata": {},
   "outputs": [],
   "source": [
    "this_is_the_next_line()"
   ]
  },
  {
   "cell_type": "markdown",
   "id": "baa0e25a-eeab-463d-834c-b1e7c8928d5c",
   "metadata": {},
   "source": [
    "##### Example 1"
   ]
  },
  {
   "cell_type": "code",
   "execution_count": 4,
   "id": "536181b3-f213-42f9-bd51-b9f1e95fa039",
   "metadata": {
    "tags": []
   },
   "outputs": [],
   "source": [
    "from torch import nn"
   ]
  },
  {
   "cell_type": "code",
   "execution_count": 5,
   "id": "8d471cf9-7fbf-4931-884e-1c90d14ddacd",
   "metadata": {
    "tags": []
   },
   "outputs": [],
   "source": [
    "model = nn.Sequential(\n",
    "    nn.Linear(5, 5),\n",
    "    nn.ReLU(),\n",
    "    nn.Linear(5, 5),\n",
    "    nn.ReLU(),\n",
    "    nn.Linear(5, 5),\n",
    "    nn.ReLU(),\n",
    "    nn.Linear(5, 5),\n",
    ")"
   ]
  },
  {
   "cell_type": "code",
   "execution_count": 6,
   "id": "86ffdeef-293d-41e3-847a-774b4c05d846",
   "metadata": {
    "tags": []
   },
   "outputs": [
    {
     "data": {
      "text/plain": [
       "Sequential(\n",
       "  (0): Linear(in_features=5, out_features=5, bias=True)\n",
       "  (1): ReLU()\n",
       "  (2): Linear(in_features=5, out_features=5, bias=True)\n",
       "  (3): ReLU()\n",
       "  (4): Linear(in_features=5, out_features=5, bias=True)\n",
       "  (5): ReLU()\n",
       "  (6): Linear(in_features=5, out_features=5, bias=True)\n",
       ")"
      ]
     },
     "execution_count": 6,
     "metadata": {},
     "output_type": "execute_result"
    }
   ],
   "source": [
    "model"
   ]
  },
  {
   "cell_type": "code",
   "execution_count": null,
   "id": "e2ca7e01-26ba-4449-958f-3284b808f723",
   "metadata": {},
   "outputs": [],
   "source": [
    "import time\n",
    "from typing import Union, List\n",
    "\n",
    "from torch import nn"
   ]
  },
  {
   "cell_type": "code",
   "execution_count": null,
   "id": "d98ed6b6-78b6-47b6-9893-f836291f1c45",
   "metadata": {},
   "outputs": [
    {
     "data": {
      "text/plain": [
       "Sequential(\n",
       "  (0): Linear(in_features=5, out_features=5, bias=True)\n",
       "  (1): ReLU()\n",
       "  (2): Linear(in_features=5, out_features=5, bias=True)\n",
       "  (3): ReLU()\n",
       "  (4): Linear(in_features=5, out_features=5, bias=True)\n",
       "  (5): ReLU()\n",
       "  (6): Linear(in_features=5, out_features=5, bias=True)\n",
       ")"
      ]
     },
     "execution_count": null,
     "metadata": {},
     "output_type": "execute_result"
    }
   ],
   "source": [
    "model"
   ]
  },
  {
   "cell_type": "markdown",
   "id": "bfcfd9e4-3fb5-431d-bc25-d1f56f7ac8fc",
   "metadata": {},
   "source": [
    "`torchpipe.balance.profile.profile_times`\n",
    "\n",
    "Write a function that profile that time that takes to execute the forward pass and backward pass in each layer\n",
    "\n",
    "**Hint**: Ignore type annotations"
   ]
  },
  {
   "cell_type": "code",
   "execution_count": null,
   "id": "ce935d06-98bf-41da-9e1c-fdebb6e211f9",
   "metadata": {},
   "outputs": [],
   "source": [
    "def profile_times(\n",
    "    model: nn.Module,\n",
    "    sample: Union[torch.Tensor, List[torch.Tensor]],\n",
    ") -> List[int]:\n",
    "    \"\"\"Profiles elapsed times per layer.\"\"\"\n",
    "    # ignored: check wehther the model has already performed backward pass\n",
    "    records = [[] for _ in model]\n",
    "    \n",
    "    for i, layer in enumerate(model):\n",
    "        start_time = time.time()\n",
    "        \n",
    "        outputs = [layer(x) for x in batch]\n",
    "        backward_outputs = tuple(x for x in outputs if x.requires_grad)\n",
    "        \n",
    "        if backward_outputs: torch.autograd.backward(backward_outputs, backward_outputs)\n",
    "        \n",
    "        end_time = time.time()\n",
    "        records[i].append(end_time - start_time)\n",
    "    \n",
    "    return records"
   ]
  },
  {
   "cell_type": "code",
   "execution_count": null,
   "id": "325da359-e564-43a1-911e-75b37aba3804",
   "metadata": {},
   "outputs": [
    {
     "data": {
      "text/plain": [
       "torch.Size([10, 5, 5])"
      ]
     },
     "execution_count": null,
     "metadata": {},
     "output_type": "execute_result"
    }
   ],
   "source": [
    "batch.shape"
   ]
  },
  {
   "cell_type": "code",
   "execution_count": null,
   "id": "acb16bfe-2c8b-4965-aafe-639fefbe31a6",
   "metadata": {},
   "outputs": [],
   "source": [
    "outputs = profile_times(model, batch)"
   ]
  },
  {
   "cell_type": "code",
   "execution_count": null,
   "id": "700d9d3f-8f94-47e6-93a1-550654bbfeb6",
   "metadata": {},
   "outputs": [
    {
     "data": {
      "text/plain": [
       "[[0.002125263214111328],\n",
       " [0.00022482872009277344],\n",
       " [0.0007300376892089844],\n",
       " [0.00010609626770019531],\n",
       " [0.0004680156707763672],\n",
       " [8.20159912109375e-05],\n",
       " [0.00047588348388671875]]"
      ]
     },
     "execution_count": null,
     "metadata": {},
     "output_type": "execute_result"
    }
   ],
   "source": [
    "outputs"
   ]
  },
  {
   "cell_type": "markdown",
   "id": "9b9c9a8a-77d1-40c1-9780-72dbf4e30b91",
   "metadata": {},
   "source": [
    "##### Example 2"
   ]
  },
  {
   "cell_type": "code",
   "execution_count": 11,
   "id": "ff292061-e202-420f-9157-549ed690ed3f",
   "metadata": {
    "tags": []
   },
   "outputs": [
    {
     "data": {
      "text/plain": [
       "Sequential(\n",
       "  (0): Linear(in_features=5, out_features=5, bias=True)\n",
       "  (1): ReLU()\n",
       "  (2): Linear(in_features=5, out_features=5, bias=True)\n",
       "  (3): ReLU()\n",
       "  (4): Linear(in_features=5, out_features=5, bias=True)\n",
       "  (5): ReLU()\n",
       "  (6): Linear(in_features=5, out_features=5, bias=True)\n",
       ")"
      ]
     },
     "execution_count": 11,
     "metadata": {},
     "output_type": "execute_result"
    }
   ],
   "source": [
    "model"
   ]
  },
  {
   "cell_type": "markdown",
   "id": "a440e74f-c98c-4576-b448-af3fdd17e281",
   "metadata": {},
   "source": [
    "Compute the total number of bytes that are occupied by the parameters in the model"
   ]
  },
  {
   "cell_type": "code",
   "execution_count": 12,
   "id": "71348d29-c88f-4765-a3e7-4e73e2ab372c",
   "metadata": {
    "tags": []
   },
   "outputs": [],
   "source": [
    "def compute_total_memory(model):\n",
    "    total_size = 0\n",
    "    \n",
    "    for param in model.parameters():\n",
    "        n_elements = param.element_size()\n",
    "        size_per_element = param.numel()\n",
    "        total_size += n_elements * size_per_element\n",
    "    \n",
    "    return total_size"
   ]
  },
  {
   "cell_type": "code",
   "execution_count": 13,
   "id": "23848424-753a-4e24-9545-48da8cf90c24",
   "metadata": {
    "tags": []
   },
   "outputs": [],
   "source": [
    "total_memory = compute_total_memory(model)"
   ]
  },
  {
   "cell_type": "code",
   "execution_count": 14,
   "id": "9714a5cd-4b1d-4f79-9038-6e758780c307",
   "metadata": {
    "tags": []
   },
   "outputs": [
    {
     "data": {
      "text/plain": [
       "480"
      ]
     },
     "execution_count": 14,
     "metadata": {},
     "output_type": "execute_result"
    }
   ],
   "source": [
    "total_memory"
   ]
  },
  {
   "cell_type": "markdown",
   "id": "e14dd797-b7e6-4d82-b99e-f0c13cf51ebe",
   "metadata": {},
   "source": [
    "### GPipe"
   ]
  },
  {
   "cell_type": "code",
   "execution_count": null,
   "id": "29572820-4acf-4ae9-a14f-5d2a2d428dae",
   "metadata": {},
   "outputs": [],
   "source": [
    "from collections import OrderedDict\n",
    "from typing import Iterable, List, Tuple, cast\n",
    "\n",
    "import torch\n",
    "from torch import nn"
   ]
  },
  {
   "cell_type": "markdown",
   "id": "9af19842-5713-4ac1-b3e0-bdb37d79d620",
   "metadata": {},
   "source": [
    "##### Example 1"
   ]
  },
  {
   "cell_type": "code",
   "execution_count": null,
   "id": "1608f1d9-a401-477f-8c5e-c468621a047a",
   "metadata": {},
   "outputs": [],
   "source": [
    "a = nn.Linear(420, 69)\n",
    "b = nn.Linear(69, 69)\n",
    "c = nn.Linear(69, 69)\n",
    "d = nn.Linear(69, 169)\n",
    "e = nn.Linear(69, 69)\n",
    "f = nn.Linear(69, 420)\n",
    "\n",
    "model = nn.Sequential(a, b, c, d, e, f)"
   ]
  },
  {
   "cell_type": "code",
   "execution_count": null,
   "id": "a6e18cfe-d9ab-41e9-8d39-62410ffd053d",
   "metadata": {},
   "outputs": [
    {
     "data": {
      "text/plain": [
       "Sequential(\n",
       "  (0): Linear(in_features=420, out_features=69, bias=True)\n",
       "  (1): Linear(in_features=69, out_features=69, bias=True)\n",
       "  (2): Linear(in_features=69, out_features=69, bias=True)\n",
       "  (3): Linear(in_features=69, out_features=169, bias=True)\n",
       "  (4): Linear(in_features=69, out_features=69, bias=True)\n",
       "  (5): Linear(in_features=69, out_features=420, bias=True)\n",
       ")"
      ]
     },
     "execution_count": null,
     "metadata": {},
     "output_type": "execute_result"
    }
   ],
   "source": [
    "model"
   ]
  },
  {
   "cell_type": "code",
   "execution_count": null,
   "id": "96a064e3-5c5a-43a0-a73e-0906af9750e6",
   "metadata": {},
   "outputs": [],
   "source": [
    "balances = [3, 2, 1]"
   ]
  },
  {
   "cell_type": "code",
   "execution_count": null,
   "id": "9ddaf453-a04b-4ee7-9910-c43bb6708f5d",
   "metadata": {},
   "outputs": [],
   "source": [
    "devices = [torch.device(\"cpu\"), torch.device(\"cpu\"), torch.device(\"cpu\")]"
   ]
  },
  {
   "cell_type": "code",
   "execution_count": null,
   "id": "92b1d92d-66ad-4504-ada8-5b4aaed494cb",
   "metadata": {},
   "outputs": [],
   "source": [
    "from typing import OrderedDict"
   ]
  },
  {
   "cell_type": "code",
   "execution_count": null,
   "id": "0c24ef76-806e-4141-acee-6837030aae93",
   "metadata": {},
   "outputs": [
    {
     "data": {
      "text/plain": [
       "Sequential(\n",
       "  (0): Linear(in_features=420, out_features=69, bias=True)\n",
       "  (1): Linear(in_features=69, out_features=69, bias=True)\n",
       "  (2): Linear(in_features=69, out_features=69, bias=True)\n",
       "  (3): Linear(in_features=69, out_features=169, bias=True)\n",
       "  (4): Linear(in_features=69, out_features=69, bias=True)\n",
       "  (5): Linear(in_features=69, out_features=420, bias=True)\n",
       ")"
      ]
     },
     "execution_count": null,
     "metadata": {},
     "output_type": "execute_result"
    }
   ],
   "source": [
    "model"
   ]
  },
  {
   "cell_type": "markdown",
   "id": "9ca9161c-5ab7-414e-9d12-df7361599a96",
   "metadata": {},
   "source": [
    "`balances` indicating the number of constructional layers for each partition\n",
    "\n",
    "`devices` specifying the target device for each partition"
   ]
  },
  {
   "cell_type": "code",
   "execution_count": null,
   "id": "534840ea-be5f-4f32-9eb4-ca1e9f2adac2",
   "metadata": {},
   "outputs": [
    {
     "data": {
      "text/plain": [
       "([3, 2, 1], [device(type='cpu'), device(type='cpu'), device(type='cpu')])"
      ]
     },
     "execution_count": null,
     "metadata": {},
     "output_type": "execute_result"
    }
   ],
   "source": [
    "balances, devices"
   ]
  },
  {
   "cell_type": "markdown",
   "id": "ad049e9a-8b37-407c-978a-d40b717c12a2",
   "metadata": {},
   "source": [
    "Write a function that splits a model into partitions and send them to the target device\n",
    "\n",
    "**Hint**: Ignore the type annotations"
   ]
  },
  {
   "cell_type": "code",
   "execution_count": null,
   "id": "688ef81b-3cb2-4484-82f7-0f4b6b31e8fe",
   "metadata": {},
   "outputs": [],
   "source": [
    "def split_model(\n",
    "    model: nn.Sequential,\n",
    "    balance: Iterable[int],\n",
    "    devices: List[torch.device]\n",
    ") -> Tuple[List[nn.Sequential], List[int], List[torch.device]]:\n",
    "    patrition_idx = 0\n",
    "    partitions = []\n",
    "    layers = OrderedDict()\n",
    "    \n",
    "    for name, layer in model.named_children():\n",
    "        layers[name] = layer\n",
    "        if len(layers) == balance[patrition_idx]:\n",
    "            device = devices[patrition_idx]\n",
    "            partition = nn.Sequential(layers)\n",
    "            partition.to(device)\n",
    "            partitions.append(partition)\n",
    "            layers.clear()\n",
    "            patrition_idx += 1\n",
    "    \n",
    "    # can be ignored\n",
    "    partitions = cast(List[nn.Sequential], nn.ModuleList(partitions))\n",
    "    return partitions"
   ]
  },
  {
   "cell_type": "code",
   "execution_count": null,
   "id": "3e726cbe-cd65-467c-89fe-6ad21058da5a",
   "metadata": {},
   "outputs": [],
   "source": [
    "partitions = split_model(model, balances, devices)"
   ]
  },
  {
   "cell_type": "code",
   "execution_count": null,
   "id": "0ddf1407-00e2-4810-9ee9-15c9eb3ad847",
   "metadata": {},
   "outputs": [
    {
     "data": {
      "text/plain": [
       "ModuleList(\n",
       "  (0): Sequential(\n",
       "    (0): Linear(in_features=420, out_features=69, bias=True)\n",
       "    (1): Linear(in_features=69, out_features=69, bias=True)\n",
       "    (2): Linear(in_features=69, out_features=69, bias=True)\n",
       "  )\n",
       "  (1): Sequential(\n",
       "    (3): Linear(in_features=69, out_features=169, bias=True)\n",
       "    (4): Linear(in_features=69, out_features=69, bias=True)\n",
       "  )\n",
       "  (2): Sequential(\n",
       "    (5): Linear(in_features=69, out_features=420, bias=True)\n",
       "  )\n",
       ")"
      ]
     },
     "execution_count": null,
     "metadata": {},
     "output_type": "execute_result"
    }
   ],
   "source": [
    "partitions"
   ]
  },
  {
   "cell_type": "code",
   "execution_count": null,
   "id": "84851739-6cf4-4da5-9aa0-42d42d133842",
   "metadata": {},
   "outputs": [],
   "source": []
  },
  {
   "cell_type": "code",
   "execution_count": null,
   "id": "5573affa-b35c-4e37-910c-b65d14ae8eb5",
   "metadata": {},
   "outputs": [],
   "source": []
  }
 ],
 "metadata": {
  "kernelspec": {
   "display_name": "Python 3 (ipykernel)",
   "language": "python",
   "name": "python3"
  },
  "language_info": {
   "codemirror_mode": {
    "name": "ipython",
    "version": 3
   },
   "file_extension": ".py",
   "mimetype": "text/x-python",
   "name": "python",
   "nbconvert_exporter": "python",
   "pygments_lexer": "ipython3",
   "version": "3.8.16"
  }
 },
 "nbformat": 4,
 "nbformat_minor": 5
}
