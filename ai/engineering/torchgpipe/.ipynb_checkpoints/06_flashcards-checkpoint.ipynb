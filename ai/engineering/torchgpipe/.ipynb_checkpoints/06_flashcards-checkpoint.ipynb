{
 "cells": [
  {
   "cell_type": "markdown",
   "id": "03c6a43c-13a8-4bd2-b14a-b688a02f08d0",
   "metadata": {},
   "source": [
    "# Parallel Computing"
   ]
  },
  {
   "cell_type": "markdown",
   "id": "d61513b8-2c0a-4a33-a55c-59da17105ba4",
   "metadata": {},
   "source": [
    "### Checkpointing"
   ]
  },
  {
   "cell_type": "markdown",
   "id": "8b0eb73a-989c-4fe5-9447-cfea850439c2",
   "metadata": {},
   "source": [
    "##### ThreadLocal"
   ]
  },
  {
   "cell_type": "markdown",
   "id": "d80bf22b-5a05-4043-9fca-30dbd02902cc",
   "metadata": {},
   "source": [
    "##### Example 1"
   ]
  },
  {
   "cell_type": "code",
   "execution_count": 2,
   "id": "c1675467-49cd-4520-af4c-d7141e21169b",
   "metadata": {
    "tags": []
   },
   "outputs": [],
   "source": [
    "# import threading\n",
    "\n",
    "# local = threading.local()\n",
    "\n",
    "# # Get the current thread\n",
    "# thread = threading.s()\n",
    "\n",
    "# # Set an attribute \n",
    "# local.x = 1\n",
    "\n",
    "# # Accessing local.x from the same thread \n",
    "# # will give you the same value\n",
    "# print(local.x) # 1\n",
    "\n",
    "# # But a different thread will have a \n",
    "# # different copy of that variable!\n",
    "\n",
    "# def func():\n",
    "#     print(local.x) # None! Different copy\n",
    "    \n",
    "# thread2 = threading.Thread(target=func)\n",
    "# thread2.start()"
   ]
  },
  {
   "cell_type": "markdown",
   "id": "d8133645-9490-4a40-865b-e35869af3f98",
   "metadata": {},
   "source": [
    "##### Example 1.1"
   ]
  },
  {
   "cell_type": "markdown",
   "id": "66b150ee-c45b-4e38-a4e2-f245e65e40bb",
   "metadata": {},
   "source": [
    "##### Example 2"
   ]
  },
  {
   "cell_type": "code",
   "execution_count": 1,
   "id": "58a228cf-8081-464d-b634-2cbc984e9760",
   "metadata": {
    "tags": []
   },
   "outputs": [],
   "source": [
    "import torch"
   ]
  },
  {
   "cell_type": "code",
   "execution_count": 12,
   "id": "ae788dc0-65c3-47f6-a692-d3bb99eb6fd2",
   "metadata": {},
   "outputs": [],
   "source": [
    "class WithoutGradient(torch.autograd.Function):\n",
    "    @staticmethod\n",
    "    def forward(ctx, input):\n",
    "        return input.detach()\n",
    "    \n",
    "    @staticmethod\n",
    "    def backward(ctx, grad_input):\n",
    "        return grad_input"
   ]
  },
  {
   "cell_type": "code",
   "execution_count": 13,
   "id": "148a396f-d60e-493b-bf0c-596c293390c4",
   "metadata": {
    "tags": []
   },
   "outputs": [],
   "source": [
    "x = torch.tensor(1., requires_grad=True)"
   ]
  },
  {
   "cell_type": "code",
   "execution_count": 14,
   "id": "23ede1ec-6c94-4971-ab2b-86b70e537a7b",
   "metadata": {
    "tags": []
   },
   "outputs": [],
   "source": [
    "(WithoutGradient.apply(x) + 23123).backward()"
   ]
  },
  {
   "cell_type": "code",
   "execution_count": 15,
   "id": "721273c1-1831-452b-ae0d-3163094a6662",
   "metadata": {
    "tags": []
   },
   "outputs": [
    {
     "data": {
      "text/plain": [
       "tensor(1.)"
      ]
     },
     "execution_count": 15,
     "metadata": {},
     "output_type": "execute_result"
    }
   ],
   "source": [
    "x.grad"
   ]
  },
  {
   "cell_type": "markdown",
   "id": "b8bae7e1-288e-4ba5-9520-b1b79ef6b380",
   "metadata": {},
   "source": [
    "##### Example 3"
   ]
  },
  {
   "cell_type": "code",
   "execution_count": 196,
   "id": "f72c5294-b3c5-4e20-a1fd-9f79f4353265",
   "metadata": {
    "tags": []
   },
   "outputs": [],
   "source": [
    "phony = torch.empty(0, requires_grad=True)"
   ]
  },
  {
   "cell_type": "code",
   "execution_count": 197,
   "id": "bb743c84-9e8a-46fb-ac36-0221b7290aef",
   "metadata": {
    "tags": []
   },
   "outputs": [],
   "source": [
    "x = torch.tensor(1., requires_grad=True)"
   ]
  },
  {
   "cell_type": "code",
   "execution_count": 198,
   "id": "7ba0cf55-f4a2-42c6-b319-71faa82b1b82",
   "metadata": {
    "tags": []
   },
   "outputs": [],
   "source": [
    "timeline = []"
   ]
  },
  {
   "cell_type": "code",
   "execution_count": 199,
   "id": "b124670f-3d50-4c06-bbab-23f136707530",
   "metadata": {
    "tags": []
   },
   "outputs": [],
   "source": [
    "class Log(torch.autograd.Function):\n",
    "    @staticmethod\n",
    "    def forward(ctx, name, x):\n",
    "        ctx.name = name\n",
    "        timeline.append(f\"{name}:forward\")\n",
    "        return x\n",
    "    \n",
    "    @staticmethod\n",
    "    def backward(ctx, grad_output):\n",
    "        name = ctx.name\n",
    "        timeline.append(f\"{name}:backward\")\n",
    "        return None, grad_output"
   ]
  },
  {
   "cell_type": "code",
   "execution_count": 200,
   "id": "cb5f0d2d-3611-47db-9259-744da845d8ca",
   "metadata": {
    "tags": []
   },
   "outputs": [
    {
     "data": {
      "text/plain": [
       "(tensor(1., requires_grad=True), tensor([], requires_grad=True))"
      ]
     },
     "execution_count": 200,
     "metadata": {},
     "output_type": "execute_result"
    }
   ],
   "source": [
    "x, phony"
   ]
  },
  {
   "cell_type": "code",
   "execution_count": 201,
   "id": "17adcfc6-1680-4e25-968e-2580dfd9ca49",
   "metadata": {
    "tags": []
   },
   "outputs": [
    {
     "data": {
      "text/plain": [
       "[]"
      ]
     },
     "execution_count": 201,
     "metadata": {},
     "output_type": "execute_result"
    }
   ],
   "source": [
    "timeline"
   ]
  },
  {
   "cell_type": "code",
   "execution_count": 202,
   "id": "2874711d-3dc8-41f9-957a-d22555f83d52",
   "metadata": {
    "tags": []
   },
   "outputs": [],
   "source": [
    "from functools import partial\n",
    "import torch"
   ]
  },
  {
   "cell_type": "code",
   "execution_count": 203,
   "id": "2e6c5fc5-d7bc-49fb-b4a7-1db04d1f655f",
   "metadata": {
    "tags": []
   },
   "outputs": [],
   "source": [
    "class Recompute(torch.autograd.Function):\n",
    "    @staticmethod\n",
    "    def forward(ctx, phony, function, input):\n",
    "        ctx.recomputed = []\n",
    "        ctx.function = function\n",
    "        ctx.input = input\n",
    "        return phony\n",
    "    \n",
    "    @staticmethod\n",
    "    def backward(ctx, grad_output):\n",
    "        input = ctx.input\n",
    "        function = ctx.function\n",
    "        input_leaf = input.detach().requires_grad_(input.requires_grad)\n",
    "        \n",
    "        with torch.enable_grad():\n",
    "            output = function(input_leaf)\n",
    "        \n",
    "        ctx.recomputed.append((output, input_leaf))\n",
    "        grad_input = [None, None]\n",
    "        \n",
    "        if input_leaf.grad is not None:\n",
    "            grad_input.extend([input_leaf.grad])\n",
    "        else:\n",
    "            grad_input.extend([None])\n",
    "        \n",
    "        return tuple(grad_input)"
   ]
  },
  {
   "cell_type": "code",
   "execution_count": 204,
   "id": "d0d76091-0328-4741-a720-6f0652eb0a66",
   "metadata": {
    "tags": []
   },
   "outputs": [],
   "source": [
    "phony = Recompute.apply(\n",
    "    phony,\n",
    "    partial(Log.apply, \"x\"), # function\n",
    "    x # input\n",
    ")"
   ]
  },
  {
   "cell_type": "code",
   "execution_count": 205,
   "id": "d1a77484-68de-4a82-862e-d34d517c35ba",
   "metadata": {
    "tags": []
   },
   "outputs": [],
   "source": [
    "phony.sum().backward()"
   ]
  },
  {
   "cell_type": "code",
   "execution_count": 206,
   "id": "998f2bc6-6b72-4f0f-aba2-9749a4527384",
   "metadata": {
    "tags": []
   },
   "outputs": [
    {
     "data": {
      "text/plain": [
       "['x:forward']"
      ]
     },
     "execution_count": 206,
     "metadata": {},
     "output_type": "execute_result"
    }
   ],
   "source": [
    "timeline"
   ]
  },
  {
   "cell_type": "code",
   "execution_count": null,
   "id": "f2db5acb-13da-4fe4-bf57-36ed2702b1c6",
   "metadata": {},
   "outputs": [],
   "source": []
  },
  {
   "cell_type": "code",
   "execution_count": null,
   "id": "6bdc755e-d273-4ea8-b84e-e53e86e0d874",
   "metadata": {},
   "outputs": [],
   "source": []
  }
 ],
 "metadata": {
  "kernelspec": {
   "display_name": "Python 3 (ipykernel)",
   "language": "python",
   "name": "python3"
  },
  "language_info": {
   "codemirror_mode": {
    "name": "ipython",
    "version": 3
   },
   "file_extension": ".py",
   "mimetype": "text/x-python",
   "name": "python",
   "nbconvert_exporter": "python",
   "pygments_lexer": "ipython3",
   "version": "3.8.16"
  }
 },
 "nbformat": 4,
 "nbformat_minor": 5
}
