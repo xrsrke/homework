{
 "cells": [
  {
   "cell_type": "markdown",
   "id": "03c6a43c-13a8-4bd2-b14a-b688a02f08d0",
   "metadata": {},
   "source": [
    "# Parallel Computing"
   ]
  },
  {
   "cell_type": "markdown",
   "id": "d61513b8-2c0a-4a33-a55c-59da17105ba4",
   "metadata": {},
   "source": [
    "### Checkpointing"
   ]
  },
  {
   "cell_type": "markdown",
   "id": "8b0eb73a-989c-4fe5-9447-cfea850439c2",
   "metadata": {},
   "source": [
    "##### ThreadLocal"
   ]
  },
  {
   "cell_type": "code",
   "execution_count": 2,
   "id": "c1675467-49cd-4520-af4c-d7141e21169b",
   "metadata": {
    "tags": []
   },
   "outputs": [
    {
     "name": "stdout",
     "output_type": "stream",
     "text": [
      "1\n"
     ]
    },
    {
     "name": "stderr",
     "output_type": "stream",
     "text": [
      "Exception in thread Thread-5:\n",
      "Traceback (most recent call last):\n",
      "  File \"/Users/education/opt/anaconda3/envs/ml_engineering/lib/python3.8/threading.py\", line 932, in _bootstrap_inner\n",
      "    self.run()\n",
      "  File \"/Users/education/opt/anaconda3/envs/ml_engineering/lib/python3.8/threading.py\", line 870, in run\n",
      "    self._target(*self._args, **self._kwargs)\n",
      "  File \"/var/folders/pf/g3nr86yn4j71vzzmv6knwdhr0000gp/T/ipykernel_4829/3709544089.py\", line 19, in func\n",
      "AttributeError: '_thread._local' object has no attribute 'x'\n"
     ]
    }
   ],
   "source": [
    "import threading\n",
    "\n",
    "local = threading.local()\n",
    "\n",
    "# Get the current thread\n",
    "thread = threading.current_thread()\n",
    "\n",
    "# Set an attribute \n",
    "local.x = 1\n",
    "\n",
    "# Accessing local.x from the same thread \n",
    "# will give you the same value\n",
    "print(local.x) # 1\n",
    "\n",
    "# But a different thread will have a \n",
    "# different copy of that variable!\n",
    "\n",
    "def func():\n",
    "    print(local.x) # None! Different copy\n",
    "    \n",
    "thread2 = threading.Thread(target=func)\n",
    "thread2.start()"
   ]
  },
  {
   "cell_type": "code",
   "execution_count": null,
   "id": "3e22f608-3fe8-4790-8332-6783eb82027c",
   "metadata": {},
   "outputs": [],
   "source": []
  }
 ],
 "metadata": {
  "kernelspec": {
   "display_name": "Python 3 (ipykernel)",
   "language": "python",
   "name": "python3"
  },
  "language_info": {
   "codemirror_mode": {
    "name": "ipython",
    "version": 3
   },
   "file_extension": ".py",
   "mimetype": "text/x-python",
   "name": "python",
   "nbconvert_exporter": "python",
   "pygments_lexer": "ipython3",
   "version": "3.8.16"
  }
 },
 "nbformat": 4,
 "nbformat_minor": 5
}
