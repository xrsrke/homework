{
 "cells": [
  {
   "cell_type": "markdown",
   "id": "3aef8a51-f688-4898-b9a8-66a013c6b491",
   "metadata": {},
   "source": [
    "### `Copy`"
   ]
  },
  {
   "cell_type": "code",
   "execution_count": 5,
   "id": "dde91ca1-11c2-4ff1-9a21-997f04a6cfc5",
   "metadata": {
    "tags": []
   },
   "outputs": [],
   "source": [
    "import torch"
   ]
  },
  {
   "cell_type": "markdown",
   "id": "4b189a34-c173-47cf-93ef-bf6bf43f5d74",
   "metadata": {},
   "source": [
    "##### Example 1"
   ]
  },
  {
   "cell_type": "code",
   "execution_count": 6,
   "id": "deb4a5a0-4dbb-46cd-9f0c-dfdef76545b8",
   "metadata": {
    "tags": []
   },
   "outputs": [],
   "source": [
    "x = torch.tensor([1., 2., 3.], requires_grad=True)"
   ]
  },
  {
   "cell_type": "code",
   "execution_count": 7,
   "id": "671f550d-4174-4ece-ad7b-bad46ceda8bc",
   "metadata": {
    "tags": []
   },
   "outputs": [],
   "source": [
    "import torch"
   ]
  },
  {
   "cell_type": "markdown",
   "id": "c63cc13f-7ff4-4883-a36c-1cc2b00f4e05",
   "metadata": {},
   "source": [
    "Write a function that returns the saved input from the forward pass in the backward pass."
   ]
  },
  {
   "cell_type": "code",
   "execution_count": 8,
   "id": "af207752-3a5e-4c2e-b490-0aaec3800cbb",
   "metadata": {
    "tags": []
   },
   "outputs": [],
   "source": [
    "class Function(torch.autograd.Function):\n",
    "    @staticmethod\n",
    "    def forward(ctx, input):\n",
    "        ctx.input = input\n",
    "        return input\n",
    "    \n",
    "    @staticmethod\n",
    "    def backward(ctx, grad_output):\n",
    "        return ctx.input"
   ]
  },
  {
   "cell_type": "code",
   "execution_count": 9,
   "id": "7622e219-0848-46df-809c-02e599a6f21c",
   "metadata": {
    "tags": []
   },
   "outputs": [],
   "source": [
    "out = Function.apply(x)"
   ]
  },
  {
   "cell_type": "code",
   "execution_count": 10,
   "id": "0cc976f0-b2ec-4d56-87dc-74fec11f8421",
   "metadata": {
    "tags": []
   },
   "outputs": [
    {
     "data": {
      "text/plain": [
       "tensor([1., 2., 3.], grad_fn=<FunctionBackward>)"
      ]
     },
     "execution_count": 10,
     "metadata": {},
     "output_type": "execute_result"
    }
   ],
   "source": [
    "out"
   ]
  },
  {
   "cell_type": "code",
   "execution_count": 11,
   "id": "6d436aa8-a5b5-4ffb-b2a7-797badc4f05c",
   "metadata": {
    "tags": []
   },
   "outputs": [],
   "source": [
    "out.sum(dim=-1).backward()"
   ]
  },
  {
   "cell_type": "code",
   "execution_count": 12,
   "id": "eecade95-5e90-44b5-81b6-f41b00a4af2b",
   "metadata": {
    "tags": []
   },
   "outputs": [
    {
     "data": {
      "text/plain": [
       "tensor([True, True, True])"
      ]
     },
     "execution_count": 12,
     "metadata": {},
     "output_type": "execute_result"
    }
   ],
   "source": [
    "x.grad == x"
   ]
  },
  {
   "cell_type": "markdown",
   "id": "34e79c87-9262-4ad8-8907-9b2d512cbff5",
   "metadata": {},
   "source": [
    "##### Example 2"
   ]
  },
  {
   "cell_type": "code",
   "execution_count": 13,
   "id": "2c137673-b964-4d37-bf84-64bcd49d2633",
   "metadata": {
    "tags": []
   },
   "outputs": [],
   "source": [
    "from contextlib import contextmanager"
   ]
  },
  {
   "cell_type": "code",
   "execution_count": 14,
   "id": "c0036622-f721-479b-a1e0-ab682ce640f0",
   "metadata": {
    "tags": []
   },
   "outputs": [],
   "source": [
    "@contextmanager\n",
    "def a():\n",
    "    print(\"enter_1\")    \n",
    "    yield \"yield_1\"\n",
    "    print(\"exit_1\")"
   ]
  },
  {
   "cell_type": "code",
   "execution_count": 15,
   "id": "080888a2-27be-4867-89a8-2b6c59bb4890",
   "metadata": {
    "tags": []
   },
   "outputs": [],
   "source": [
    "@contextmanager\n",
    "def b():\n",
    "    print(\"enter_2\")\n",
    "    yield \"yield_2\"    \n",
    "    print(\"exit_2\")"
   ]
  },
  {
   "cell_type": "markdown",
   "id": "71c27e56-a452-42f1-8d36-7f876d3202f5",
   "metadata": {},
   "source": [
    "What is the output? Explain"
   ]
  },
  {
   "cell_type": "code",
   "execution_count": 16,
   "id": "48a3f54c-9bd5-4a1e-a25c-a0b724c9fcf0",
   "metadata": {
    "tags": []
   },
   "outputs": [
    {
     "name": "stdout",
     "output_type": "stream",
     "text": [
      "enter_1\n",
      "enter_2\n",
      "hello\n",
      "exit_2\n",
      "exit_1\n"
     ]
    }
   ],
   "source": [
    "with a(), b():\n",
    "    print(\"hello\")"
   ]
  },
  {
   "cell_type": "markdown",
   "id": "08b8a056-320d-4760-b8f1-f5a37f95321c",
   "metadata": {},
   "source": [
    "**Explain**\n",
    "- `with a(), b()`: Python's with statement supports multiple context managers. The `__enter__` methods of each context manager are invoked in the order they are listed. So, `a()`'s `__enter__` method runs first, printing *enter_1*, then `b()`'s `__enter__` method runs, printing *enter_2*.\n",
    "\n",
    "- The code inside the with block is then executed. This prints hello.\n",
    "\n",
    "- When the with block is exited, the `__exit__` methods of each context manager are invoked in the opposite order to their `__enter__` methods. So, `b()`'s `__exit__` method runs first, printing *exit_2*, then `a()`'s `__exit__` method runs, printing *exit_1*."
   ]
  },
  {
   "cell_type": "markdown",
   "id": "e3d38d1f-b114-4889-8882-8c2bcfe41268",
   "metadata": {},
   "source": [
    "##### Example 3"
   ]
  },
  {
   "cell_type": "code",
   "execution_count": null,
   "id": "7021ce54-1d96-4702-87fb-586aedc61e10",
   "metadata": {},
   "outputs": [],
   "source": [
    "x = torch.tensor([69])"
   ]
  },
  {
   "cell_type": "code",
   "execution_count": null,
   "id": "59786e3a-6307-444a-a4a9-dfc153659cf0",
   "metadata": {},
   "outputs": [
    {
     "data": {
      "text/plain": [
       " 69\n",
       "[torch.storage.TypedStorage(dtype=torch.int64, device=cpu) of size 1]"
      ]
     },
     "execution_count": null,
     "metadata": {},
     "output_type": "execute_result"
    }
   ],
   "source": [
    "x.storage()"
   ]
  },
  {
   "cell_type": "code",
   "execution_count": null,
   "id": "faed7fc1-db6f-463b-9714-4a175697d32b",
   "metadata": {},
   "outputs": [
    {
     "data": {
      "text/plain": [
       "tensor([69])"
      ]
     },
     "execution_count": null,
     "metadata": {},
     "output_type": "execute_result"
    }
   ],
   "source": [
    "x.new_empty([0]).set_(x.storage())"
   ]
  },
  {
   "cell_type": "markdown",
   "id": "6638215d-7e2e-41a0-bcf5-623eb5334bf6",
   "metadata": {},
   "source": [
    "##### Example 4"
   ]
  },
  {
   "cell_type": "code",
   "execution_count": null,
   "id": "1ea8f3e0-e8e1-4d14-aef8-385049bf4e8f",
   "metadata": {},
   "outputs": [],
   "source": [
    "with torch.cuda.device(1):\n",
    "    a = torch.tensor([1., 2.], device=cuda)"
   ]
  },
  {
   "cell_type": "markdown",
   "id": "2022f057-0fcd-468f-81da-3907c392e1ea",
   "metadata": {},
   "source": [
    "### `Wait`"
   ]
  },
  {
   "cell_type": "code",
   "execution_count": 2,
   "id": "ae835f9d-6551-49da-954b-52ef224a3edf",
   "metadata": {
    "tags": []
   },
   "outputs": [],
   "source": [
    "import torch"
   ]
  },
  {
   "cell_type": "code",
   "execution_count": null,
   "id": "0dfcb9bf-015a-4afa-8b58-5d7a7f6d3376",
   "metadata": {},
   "outputs": [],
   "source": [
    "def wait_stream(source_stream, target_stream):\n",
    "    source_stream.wait_stream()"
   ]
  },
  {
   "cell_type": "code",
   "execution_count": null,
   "id": "a17a0639-dda0-4eb0-b513-644058280344",
   "metadata": {},
   "outputs": [],
   "source": [
    "source_stream.wait_stream(target_stream)"
   ]
  },
  {
   "cell_type": "code",
   "execution_count": null,
   "id": "4d073780-66dc-4959-a2bb-0faee6ef3e2e",
   "metadata": {},
   "outputs": [],
   "source": [
    "class Wait(torch.autograd.Function):\n",
    "    @staticmethod\n",
    "    def forward(ctx, prev_stream, next_stream, input):\n",
    "        ctx.prev_stream = prev_stream\n",
    "        ctx.next_stream = next_stream\n",
    "        \n",
    "        prev_stream.wait_stream(next_stream)\n",
    "        return "
   ]
  },
  {
   "cell_type": "code",
   "execution_count": 17,
   "id": "2052a021-30fc-47d1-943a-b3808741fdf7",
   "metadata": {
    "tags": []
   },
   "outputs": [],
   "source": [
    "xs = [1, 2, 3, 4]"
   ]
  },
  {
   "cell_type": "code",
   "execution_count": 18,
   "id": "0f70b5e8-1842-4d6e-a45b-8b8fc938a3c1",
   "metadata": {
    "tags": []
   },
   "outputs": [
    {
     "data": {
      "text/plain": [
       "[1, 2, 3, 4]"
      ]
     },
     "execution_count": 18,
     "metadata": {},
     "output_type": "execute_result"
    }
   ],
   "source": [
    "xs[:]"
   ]
  },
  {
   "cell_type": "code",
   "execution_count": null,
   "id": "42b44a58-3bc9-475b-bbcb-44d90677e981",
   "metadata": {},
   "outputs": [],
   "source": []
  }
 ],
 "metadata": {
  "kernelspec": {
   "display_name": "Python 3 (ipykernel)",
   "language": "python",
   "name": "python3"
  },
  "language_info": {
   "codemirror_mode": {
    "name": "ipython",
    "version": 3
   },
   "file_extension": ".py",
   "mimetype": "text/x-python",
   "name": "python",
   "nbconvert_exporter": "python",
   "pygments_lexer": "ipython3",
   "version": "3.8.16"
  }
 },
 "nbformat": 4,
 "nbformat_minor": 5
}
