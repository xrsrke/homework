{
 "cells": [
  {
   "cell_type": "markdown",
   "id": "2362c87f-0397-4a5a-81d7-516e74fdacd2",
   "metadata": {},
   "source": [
    "### Skip"
   ]
  },
  {
   "cell_type": "code",
   "execution_count": 1,
   "id": "1e807939-aac1-4ebb-932e-5a2cdc51dc7b",
   "metadata": {
    "tags": []
   },
   "outputs": [],
   "source": [
    "class SkipTracker:\n",
    "    def __init__(self):\n",
    "        pass"
   ]
  },
  {
   "cell_type": "code",
   "execution_count": null,
   "id": "3314b959-0d2c-4cd8-92af-6d377967b972",
   "metadata": {},
   "outputs": [],
   "source": []
  }
 ],
 "metadata": {
  "kernelspec": {
   "display_name": "Python 3 (ipykernel)",
   "language": "python",
   "name": "python3"
  },
  "language_info": {
   "codemirror_mode": {
    "name": "ipython",
    "version": 3
   },
   "file_extension": ".py",
   "mimetype": "text/x-python",
   "name": "python",
   "nbconvert_exporter": "python",
   "pygments_lexer": "ipython3",
   "version": "3.8.16"
  }
 },
 "nbformat": 4,
 "nbformat_minor": 5
}
