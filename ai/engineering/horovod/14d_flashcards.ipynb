{
 "cells": [
  {
   "cell_type": "markdown",
   "id": "d985c0e8-81c8-4801-b962-9c7f51b13369",
   "metadata": {},
   "source": [
    "# Handler"
   ]
  },
  {
   "cell_type": "markdown",
   "id": "97f16daa-918d-43ba-8071-befd52f388da",
   "metadata": {},
   "source": [
    "##### Example 1"
   ]
  },
  {
   "cell_type": "code",
   "execution_count": 8,
   "id": "00dc71f1-11e4-4bfc-9509-2d2cb9193a37",
   "metadata": {
    "tags": []
   },
   "outputs": [],
   "source": [
    "class ModelStateHandler: pass"
   ]
  },
  {
   "cell_type": "code",
   "execution_count": 9,
   "id": "130533e5-b08a-468e-be5d-4fd2b7b11914",
   "metadata": {
    "tags": []
   },
   "outputs": [],
   "source": [
    "class OptimizerStateHandler: pass"
   ]
  },
  {
   "cell_type": "markdown",
   "id": "2591c6a4-50ab-4c9d-9929-5e125f92503f",
   "metadata": {},
   "source": [
    "##### Example 2"
   ]
  },
  {
   "cell_type": "code",
   "execution_count": 4,
   "id": "6220f191-d33c-4033-9738-b45f8174693d",
   "metadata": {
    "tags": []
   },
   "outputs": [],
   "source": [
    "import copy"
   ]
  },
  {
   "cell_type": "code",
   "execution_count": 5,
   "id": "0a227be1-2467-44ba-8dcc-a8cb40df945a",
   "metadata": {
    "tags": []
   },
   "outputs": [],
   "source": [
    "class StateHandler:\n",
    "    def __init__(self, value):\n",
    "        self.value = value\n",
    "        \n",
    "    def save(self):\n",
    "        raise NotImplementedError()\n",
    "        \n",
    "    def restore(self):\n",
    "        raise NotImplementedError()\n",
    "    \n",
    "    def sync(self):\n",
    "        raise NotImplementedError()\n",
    "    \n",
    "    def set_value(self, value):\n",
    "        self.value = value\n",
    "        self.save()"
   ]
  },
  {
   "cell_type": "code",
   "execution_count": 7,
   "id": "fe99e916-bfac-4b52-afe5-7a9830948a82",
   "metadata": {
    "tags": []
   },
   "outputs": [],
   "source": [
    "class ModelStateHandler(StateHandler):\n",
    "    def __init__(self, model):\n",
    "        super().__init__(value=model)\n",
    "        self._saved_model_state = copy.deepcopy(self.value.state_dict())\n",
    "    \n",
    "    def save(self):\n",
    "        self._saved_model_state = copy.deepcopy(self.value.state_dict())\n",
    "    \n",
    "    def restore(self):\n",
    "        self.value.load_state_dict(self._saved_model_state)\n",
    "    \n",
    "    def sync(self):\n",
    "        pass"
   ]
  },
  {
   "cell_type": "code",
   "execution_count": null,
   "id": "07dc9016-fbec-4149-baed-b038f9dfc5c8",
   "metadata": {},
   "outputs": [],
   "source": []
  },
  {
   "cell_type": "code",
   "execution_count": null,
   "id": "f0606bfc-9862-4740-8229-bd95a3925e84",
   "metadata": {},
   "outputs": [],
   "source": []
  }
 ],
 "metadata": {
  "kernelspec": {
   "display_name": "Python 3 (ipykernel)",
   "language": "python",
   "name": "python3"
  },
  "language_info": {
   "codemirror_mode": {
    "name": "ipython",
    "version": 3
   },
   "file_extension": ".py",
   "mimetype": "text/x-python",
   "name": "python",
   "nbconvert_exporter": "python",
   "pygments_lexer": "ipython3",
   "version": "3.8.16"
  }
 },
 "nbformat": 4,
 "nbformat_minor": 5
}
