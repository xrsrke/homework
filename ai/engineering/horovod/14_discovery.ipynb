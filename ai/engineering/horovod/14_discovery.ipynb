{
 "cells": [
  {
   "cell_type": "markdown",
   "id": "54d57376-ae2d-4f56-827e-8a97c66ab7e5",
   "metadata": {},
   "source": [
    "# 14.  Elastic Training Discovery Node & State"
   ]
  },
  {
   "cell_type": "code",
   "execution_count": 2,
   "id": "50970a22-1da2-4b38-9698-c0284b56e64d",
   "metadata": {
    "tags": []
   },
   "outputs": [],
   "source": [
    "import threading"
   ]
  },
  {
   "cell_type": "code",
   "execution_count": 3,
   "id": "e7352704-a360-4526-9055-cb382a4edbb0",
   "metadata": {
    "tags": []
   },
   "outputs": [],
   "source": [
    "class ElasticDriver:\n",
    "    def __init__(self):\n",
    "        self._shutdown = threading.Event()\n",
    "    \n",
    "    def discover_hosts():\n",
    "        pass"
   ]
  },
  {
   "cell_type": "code",
   "execution_count": 148,
   "id": "4b22b927-3628-488e-b887-27c80ed8d95a",
   "metadata": {},
   "outputs": [],
   "source": [
    "def discover_host():\n",
    "    pass"
   ]
  },
  {
   "cell_type": "code",
   "execution_count": 149,
   "id": "054dd418-5b5d-4b9e-b474-9f1eebb440d7",
   "metadata": {
    "tags": []
   },
   "outputs": [],
   "source": [
    "import torch"
   ]
  },
  {
   "cell_type": "markdown",
   "id": "317d8915-788f-4257-a37a-eabc873912af",
   "metadata": {},
   "source": [
    "### State"
   ]
  },
  {
   "cell_type": "code",
   "execution_count": 6,
   "id": "c826b7bc-e66b-400d-bd18-d59a6b430adf",
   "metadata": {
    "tags": []
   },
   "outputs": [],
   "source": [
    "class State:\n",
    "    def __init__(self):\n",
    "        self.rank = torch.distributed.get_rank()\n",
    "        self.host_messages = Queue()\n",
    "    \n",
    "    def on_reset(self):\n",
    "        self.host_messages = Queue()\n",
    "        self.reset()\n",
    "    \n",
    "    def commit(self):\n",
    "        self.save()\n",
    "        self.check_host_updates()\n",
    "    \n",
    "    def check_host_updates(self):\n",
    "        pass"
   ]
  },
  {
   "cell_type": "code",
   "execution_count": 7,
   "id": "d0c8f8c9-3ac3-45aa-8076-01e4b163bb2a",
   "metadata": {},
   "outputs": [],
   "source": [
    "class ObjectState(State):\n",
    "    def __init__(self):\n",
    "        pass\n",
    "    \n",
    "    def save(self):\n",
    "        new_state = {}\n",
    "        for attr in self._saved_state.keys():\n",
    "            new_state[attr] = getattr(self, attr)"
   ]
  },
  {
   "cell_type": "code",
   "execution_count": 28,
   "id": "a53a27cc-45b1-47cd-ac10-4334c222234d",
   "metadata": {
    "tags": []
   },
   "outputs": [],
   "source": [
    "class TorchState(ObjectState):\n",
    "    def __init__(self, model, optim, **kwargs):\n",
    "        kwargs.update(dict(\n",
    "            model=model,\n",
    "            optim=optim\n",
    "        ))\n",
    "        self.kwargs = kwargs"
   ]
  },
  {
   "cell_type": "code",
   "execution_count": 25,
   "id": "1649f939-efd4-4c9d-a7eb-b4dcc7f2e6f5",
   "metadata": {
    "tags": []
   },
   "outputs": [],
   "source": [
    "model = None\n",
    "optim = None"
   ]
  },
  {
   "cell_type": "code",
   "execution_count": 26,
   "id": "35866753-5c4d-405a-b6e2-f885b7f3a008",
   "metadata": {
    "tags": []
   },
   "outputs": [],
   "source": [
    "state = TorchState(\n",
    "    model=model,\n",
    "    optim=optim,\n",
    "    epoch=0,\n",
    "    your_mom=6.9\n",
    ")"
   ]
  },
  {
   "cell_type": "code",
   "execution_count": 27,
   "id": "c87e0dde-bac1-4acd-a0d8-f7f5a05b927b",
   "metadata": {
    "tags": []
   },
   "outputs": [
    {
     "data": {
      "text/plain": [
       "{'epoch': 0, 'your_mom': 6.9, 'model': None, 'optim': None}"
      ]
     },
     "execution_count": 27,
     "metadata": {},
     "output_type": "execute_result"
    }
   ],
   "source": [
    "state.kwargs"
   ]
  },
  {
   "cell_type": "markdown",
   "id": "233d8fbd-74ea-4af0-bb14-aeb5991f7657",
   "metadata": {},
   "source": [
    "### `HostDiscoveryScript`"
   ]
  },
  {
   "cell_type": "code",
   "execution_count": 1,
   "id": "e8a2c005-02f7-4992-bcd0-45f76c13c0a0",
   "metadata": {
    "tags": []
   },
   "outputs": [],
   "source": [
    "class HostDiscoveryScript:\n",
    "    def __init__(self, discovery_script):\n",
    "        self.discovery_script = discovery_script\n",
    "    \n",
    "    def find_available_hosts_and_slots(self):\n",
    "        result = self.execute_discovery_script()\n",
    "        host_slots = {\n",
    "        }\n",
    "    \n",
    "    def execute_discovery_script(self):\n",
    "        pass"
   ]
  },
  {
   "cell_type": "code",
   "execution_count": null,
   "id": "340805af-a4ef-4bc8-94b1-993e2516160c",
   "metadata": {},
   "outputs": [],
   "source": []
  }
 ],
 "metadata": {
  "kernelspec": {
   "display_name": "Python 3 (ipykernel)",
   "language": "python",
   "name": "python3"
  },
  "language_info": {
   "codemirror_mode": {
    "name": "ipython",
    "version": 3
   },
   "file_extension": ".py",
   "mimetype": "text/x-python",
   "name": "python",
   "nbconvert_exporter": "python",
   "pygments_lexer": "ipython3",
   "version": "3.8.16"
  }
 },
 "nbformat": 4,
 "nbformat_minor": 5
}
