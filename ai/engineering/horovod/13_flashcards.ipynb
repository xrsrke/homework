{
 "cells": [
  {
   "cell_type": "markdown",
   "id": "bdc02e7d-ce47-4682-8cef-7d5e4e142005",
   "metadata": {},
   "source": [
    "# 13. Driver of elastic training"
   ]
  },
  {
   "cell_type": "markdown",
   "id": "73088a92-7227-4474-a746-29f3fe7bd9a1",
   "metadata": {},
   "source": [
    "##### Example 1"
   ]
  },
  {
   "cell_type": "code",
   "execution_count": 11,
   "id": "06f66696-fd94-43be-8adc-3ddebbfcd5f7",
   "metadata": {
    "tags": []
   },
   "outputs": [],
   "source": [
    "from torch import nn\n",
    "from torch.optim import SGD"
   ]
  },
  {
   "cell_type": "code",
   "execution_count": 13,
   "id": "ab4648b6-3298-415e-8861-5a02adf7c423",
   "metadata": {
    "tags": []
   },
   "outputs": [],
   "source": [
    "model = nn.Linear(69, 42)\n",
    "optimizer = SGD(model.parameters(), lr=1e-3)"
   ]
  },
  {
   "cell_type": "code",
   "execution_count": 1,
   "id": "44524336-c48a-491d-b6c5-3e55c6cb66ae",
   "metadata": {
    "tags": []
   },
   "outputs": [],
   "source": [
    "from queue import Queue"
   ]
  },
  {
   "cell_type": "code",
   "execution_count": 4,
   "id": "aa53fd6b-8486-4770-b47f-f961ac5458c7",
   "metadata": {
    "tags": []
   },
   "outputs": [],
   "source": [
    "class State:\n",
    "    def __init__(self):\n",
    "        self.rank = torch.distributed.get_rank()\n",
    "        self.host_messages = Queue()\n",
    "    \n",
    "    def on_reset(self):\n",
    "        self.host_messages = Queue()\n",
    "        self.reset()\n",
    "    \n",
    "    def commit(self):\n",
    "        self.save()\n",
    "        self.check_host_updates()\n",
    "    \n",
    "    def check_host_updates(self):\n",
    "        "
   ]
  },
  {
   "cell_type": "code",
   "execution_count": null,
   "id": "e819d9a0-49c9-400b-8b2a-06488f514ad4",
   "metadata": {},
   "outputs": [],
   "source": [
    "class ObjectState(State):\n",
    "    def __init__(self):\n",
    "        pass\n",
    "    \n",
    "    def save(self):\n",
    "        new_state = {}\n",
    "        for attr in self._saved_state.keys():\n",
    "            new_state[attr] = getattr(self, attr)"
   ]
  },
  {
   "cell_type": "code",
   "execution_count": 5,
   "id": "f8e552cf-f0c1-43b6-b00e-1d2ed72b0794",
   "metadata": {
    "tags": []
   },
   "outputs": [],
   "source": [
    "class TorchState:\n",
    "    pass"
   ]
  },
  {
   "cell_type": "code",
   "execution_count": null,
   "id": "18908c70-a7bc-41c1-b3e3-ea00f8e9d1fa",
   "metadata": {},
   "outputs": [],
   "source": [
    "state = TorchState(\n",
    "    model=model,\n",
    "    optimizer=optimizer\n",
    ")"
   ]
  }
 ],
 "metadata": {
  "kernelspec": {
   "display_name": "Python 3 (ipykernel)",
   "language": "python",
   "name": "python3"
  },
  "language_info": {
   "codemirror_mode": {
    "name": "ipython",
    "version": 3
   },
   "file_extension": ".py",
   "mimetype": "text/x-python",
   "name": "python",
   "nbconvert_exporter": "python",
   "pygments_lexer": "ipython3",
   "version": "3.8.16"
  }
 },
 "nbformat": 4,
 "nbformat_minor": 5
}
