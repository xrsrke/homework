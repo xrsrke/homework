{
 "cells": [
  {
   "cell_type": "markdown",
   "id": "c423f155-f99c-4574-b925-3b591ea88285",
   "metadata": {
    "tags": []
   },
   "source": [
    "### Elastic Sampler"
   ]
  },
  {
   "cell_type": "markdown",
   "id": "9fcbc710-02ac-4f9b-b612-7ad573638089",
   "metadata": {},
   "source": [
    "##### Example 1"
   ]
  },
  {
   "cell_type": "code",
   "execution_count": 14,
   "id": "3e47d5d4-0316-488b-90c5-fa6345cba773",
   "metadata": {
    "tags": []
   },
   "outputs": [],
   "source": [
    "data = torch.Tensor([1, 2, 3, 4, 5])"
   ]
  },
  {
   "cell_type": "code",
   "execution_count": 58,
   "id": "3da6fe0f-0975-4fbb-91c0-3dbbe57e0d02",
   "metadata": {
    "tags": []
   },
   "outputs": [
    {
     "data": {
      "text/plain": [
       "tensor([1., 2., 3., 4., 5.])"
      ]
     },
     "execution_count": 58,
     "metadata": {},
     "output_type": "execute_result"
    }
   ],
   "source": [
    "data"
   ]
  },
  {
   "cell_type": "code",
   "execution_count": 59,
   "id": "97f69b74-9105-4daf-8636-a9b1513f50dc",
   "metadata": {
    "tags": []
   },
   "outputs": [],
   "source": [
    "from torch.utils.data import Sampler"
   ]
  },
  {
   "cell_type": "markdown",
   "id": "c279e7d0-5727-4af7-898c-c7afeed7c4d0",
   "metadata": {},
   "source": [
    "Create a new sampler that returns only the dataset indices with even values.\n",
    "\n",
    "**Hint**: `range(0, len(self.data), 2)`"
   ]
  },
  {
   "cell_type": "code",
   "execution_count": 60,
   "id": "6286450e-d5fb-45d5-9596-ce8fccf48446",
   "metadata": {
    "tags": []
   },
   "outputs": [],
   "source": [
    "class EvenSampler(Sampler):\n",
    "    def __init__(self, data):\n",
    "        self.data = data\n",
    "        \n",
    "    def __iter__(self):\n",
    "        return iter([i for i in range(0, len(self.data), 2)])\n",
    "\n",
    "    def __len__(self):\n",
    "        return len(self.data)"
   ]
  },
  {
   "cell_type": "code",
   "execution_count": 61,
   "id": "353e8890-1970-4aa3-a32f-c205135b8353",
   "metadata": {
    "tags": []
   },
   "outputs": [],
   "source": [
    "sampler = EvenSampler(data=data)"
   ]
  },
  {
   "cell_type": "code",
   "execution_count": 62,
   "id": "2fc425ca-3e39-43c3-9a55-78f5bb873498",
   "metadata": {
    "tags": []
   },
   "outputs": [],
   "source": [
    "samples = list(sampler) "
   ]
  },
  {
   "cell_type": "code",
   "execution_count": 63,
   "id": "708dbe83-63e4-4ffe-954b-c92c5fccbd8d",
   "metadata": {
    "tags": []
   },
   "outputs": [
    {
     "data": {
      "text/plain": [
       "[0, 2, 4]"
      ]
     },
     "execution_count": 63,
     "metadata": {},
     "output_type": "execute_result"
    }
   ],
   "source": [
    "indices"
   ]
  },
  {
   "cell_type": "markdown",
   "id": "eaf3dd67-8fa4-44c8-bf0f-a2bee91f0525",
   "metadata": {},
   "source": [
    "##### Example 2"
   ]
  },
  {
   "cell_type": "code",
   "execution_count": 19,
   "id": "72bba192-5ceb-487c-8776-479be8ad90a1",
   "metadata": {
    "tags": []
   },
   "outputs": [],
   "source": [
    "import torch"
   ]
  },
  {
   "cell_type": "code",
   "execution_count": 10,
   "id": "2e24a490-62c1-4cc3-b224-ab978155c1bf",
   "metadata": {
    "tags": []
   },
   "outputs": [],
   "source": [
    "import math\n",
    "from torch.utils.data import Sampler"
   ]
  },
  {
   "cell_type": "code",
   "execution_count": 16,
   "id": "21ece65c-05c3-4ff1-8eea-573be2f9e8d2",
   "metadata": {
    "tags": []
   },
   "outputs": [],
   "source": [
    "def get_num_replicas():\n",
    "    return 4"
   ]
  },
  {
   "cell_type": "code",
   "execution_count": 17,
   "id": "e566e22f-e814-4f4e-9884-0610739fa7a9",
   "metadata": {
    "tags": []
   },
   "outputs": [],
   "source": [
    "def get_rank():\n",
    "    1"
   ]
  },
  {
   "cell_type": "code",
   "execution_count": 92,
   "id": "cf6d2cbc-2f91-447c-88d0-150d74c6cd2c",
   "metadata": {
    "tags": []
   },
   "outputs": [],
   "source": [
    "class ElasticSampler(Sampler):\n",
    "    def __init__(self, dataset, seed):\n",
    "        self.dataset = dataset\n",
    "        self.seed = seed\n",
    "        \n",
    "        self.epoch = 0\n",
    "        \n",
    "        self.num_replicas = 0\n",
    "        self.rank = 0\n",
    "        self.remaining_indicies = []\n",
    "        self.processed_indicies = set()\n",
    "        self.num_processed = 0\n",
    "    \n",
    "    def set_epoch(self, epoch):\n",
    "        self.epoch = epoch\n",
    "        self.num_processed = 0\n",
    "        self.reset()\n",
    "        \n",
    "    def record_batch(self, batch_size):\n",
    "        self.num_processed += batch_size * self.num_replicas\n",
    "    \n",
    "    def reset(self):\n",
    "        self.num_replicas = get_num_replicas()\n",
    "        self.rank = get_rank()\n",
    "        \n",
    "        all_indicies = [idx for idx in range(len(self.dataset))]\n",
    "        self.remaining_indicies = all_indicies[self.num_processed:]\n",
    "        self.num_samples = int(math.ceil(len(self.remaining_indicies)*1.0 / self.num_replicas))\n",
    "        self.total_size = self.num_replicas * self.num_samples\n",
    "    \n",
    "    def __iter__(self):\n",
    "        self.indicies = self.remaining_indicies[:]\n",
    "        \n",
    "        # add extra last sampels to make it evenly divisible\n",
    "        self.indicies += self.indicies[:(self.total_size - len(self.indicies))]\n",
    "        assert len(self.indicies) == self.total_size\n",
    "        \n",
    "        self.indicies = self.indicies[self.rank:self.total_size:self.num_replicas]\n",
    "        assert len(self.indicies) == self.num_samples\n",
    "        \n",
    "        return iter(self.indicies)\n",
    "\n",
    "    def __len__(self):\n",
    "        return self.num_samples"
   ]
  },
  {
   "cell_type": "code",
   "execution_count": 93,
   "id": "99f0acfe-8e9a-4567-bb83-5ff8a89f8520",
   "metadata": {
    "tags": []
   },
   "outputs": [],
   "source": [
    "dataset = torch.arange(0, 16)"
   ]
  },
  {
   "cell_type": "code",
   "execution_count": 94,
   "id": "ec85688c-8969-4926-b766-e73d3749bbaa",
   "metadata": {
    "tags": []
   },
   "outputs": [
    {
     "data": {
      "text/plain": [
       "tensor([ 0,  1,  2,  3,  4,  5,  6,  7,  8,  9, 10, 11, 12, 13, 14, 15])"
      ]
     },
     "execution_count": 94,
     "metadata": {},
     "output_type": "execute_result"
    }
   ],
   "source": [
    "dataset"
   ]
  },
  {
   "cell_type": "code",
   "execution_count": 95,
   "id": "e39d3d89-3e22-4499-96a5-661c99c15445",
   "metadata": {
    "tags": []
   },
   "outputs": [],
   "source": [
    "sampler = ElasticSampler(dataset, seed=69)"
   ]
  },
  {
   "cell_type": "markdown",
   "id": "4fd74662-383e-4d79-83d0-c7f2f1144291",
   "metadata": {},
   "source": [
    "n_epochs * batch_size * num_replicas"
   ]
  },
  {
   "cell_type": "code",
   "execution_count": 96,
   "id": "5c2d8b96-0f5f-46e4-ad1c-1143c1f121f4",
   "metadata": {
    "tags": []
   },
   "outputs": [],
   "source": [
    "n_epochs = 2\n",
    "n_batches = 4\n",
    "batch_size = 4\n",
    "num_replicas = 4"
   ]
  },
  {
   "cell_type": "code",
   "execution_count": 97,
   "id": "afeedfac-1ea2-4cb0-8818-8e1f1cda19ed",
   "metadata": {
    "tags": []
   },
   "outputs": [
    {
     "name": "stdout",
     "output_type": "stream",
     "text": [
      "[0, 4, 8, 12]\n",
      "16\n",
      "[0, 4, 8, 12]\n",
      "32\n",
      "[0, 4, 8, 12]\n",
      "48\n",
      "[0, 4, 8, 12]\n",
      "64\n",
      "[0, 4, 8, 12]\n",
      "16\n",
      "[0, 4, 8, 12]\n",
      "32\n",
      "[0, 4, 8, 12]\n",
      "48\n",
      "[0, 4, 8, 12]\n",
      "64\n"
     ]
    }
   ],
   "source": [
    "for epoch in range(n_epochs):\n",
    "    sampler.set_epoch(epoch)\n",
    "    for batch_idx in range(n_batches):\n",
    "        indicies = list(iter(sampler))\n",
    "        print(indicies)\n",
    "        sampler.record_batch(batch_size)\n",
    "        print(sampler.num_processed)\n",
    "        # assert sampler.num_processed == batch_size * (batch_idx + 1)"
   ]
  },
  {
   "cell_type": "code",
   "execution_count": 98,
   "id": "4c8b0c12-4478-4144-8728-ca0c96424a47",
   "metadata": {
    "tags": []
   },
   "outputs": [
    {
     "data": {
      "text/plain": [
       "16"
      ]
     },
     "execution_count": 98,
     "metadata": {},
     "output_type": "execute_result"
    }
   ],
   "source": [
    "batch_size * (batch_idx + 1)"
   ]
  },
  {
   "cell_type": "code",
   "execution_count": null,
   "id": "57f1bde6-f0df-413d-9604-e325fe1bb9b9",
   "metadata": {},
   "outputs": [],
   "source": []
  }
 ],
 "metadata": {
  "kernelspec": {
   "display_name": "Python 3 (ipykernel)",
   "language": "python",
   "name": "python3"
  },
  "language_info": {
   "codemirror_mode": {
    "name": "ipython",
    "version": 3
   },
   "file_extension": ".py",
   "mimetype": "text/x-python",
   "name": "python",
   "nbconvert_exporter": "python",
   "pygments_lexer": "ipython3",
   "version": "3.8.16"
  }
 },
 "nbformat": 4,
 "nbformat_minor": 5
}
