{
 "cells": [
  {
   "cell_type": "markdown",
   "id": "e625ba70-d560-4b30-ab81-47ca2539c86d",
   "metadata": {},
   "source": [
    "### StateHandler"
   ]
  },
  {
   "cell_type": "code",
   "execution_count": 2,
   "id": "af06eac6-ac87-4cd4-9b5e-8a4c7ec8dcb0",
   "metadata": {
    "tags": []
   },
   "outputs": [],
   "source": [
    "import torch\n",
    "from torch import nn\n",
    "import torch.nn.functional as F"
   ]
  },
  {
   "cell_type": "code",
   "execution_count": 3,
   "id": "03ea73b6-352f-4f08-bb97-db07e9e5e563",
   "metadata": {
    "tags": []
   },
   "outputs": [],
   "source": [
    "class Model(nn.Module):\n",
    "    def __init__(self):\n",
    "        super().__init__()"
   ]
  },
  {
   "cell_type": "code",
   "execution_count": 25,
   "id": "b9d9da03-948d-4eb9-9738-4a75efdf8f0f",
   "metadata": {
    "tags": []
   },
   "outputs": [],
   "source": [
    "model = Model()"
   ]
  },
  {
   "cell_type": "code",
   "execution_count": 26,
   "id": "4ea84c8e-2a4f-44bd-9964-77be67f7db2c",
   "metadata": {
    "tags": []
   },
   "outputs": [],
   "source": [
    "states = {\n",
    "    \"model\": model, \"epoch\": 1\n",
    "}"
   ]
  },
  {
   "cell_type": "code",
   "execution_count": 27,
   "id": "0ec58ceb-fdd5-486f-ae44-fa87212cde65",
   "metadata": {
    "tags": []
   },
   "outputs": [
    {
     "data": {
      "text/plain": [
       "{'model': Model(), 'epoch': 1}"
      ]
     },
     "execution_count": 27,
     "metadata": {},
     "output_type": "execute_result"
    }
   ],
   "source": [
    "states"
   ]
  },
  {
   "cell_type": "code",
   "execution_count": 28,
   "id": "c25654b0-0970-4d9a-ba31-63e52dc14dda",
   "metadata": {
    "tags": []
   },
   "outputs": [],
   "source": [
    "import copy"
   ]
  },
  {
   "cell_type": "markdown",
   "id": "189b7bc2-2be1-4b35-b102-474869fe2946",
   "metadata": {},
   "source": [
    "Create handlers for the states:\n",
    "- If an object is in the `handler_registry`, wrap a handler to handle `commit`, `restore`, and `sync`.\n",
    "- If an object is not in the `handler_registry`, simply return it in `remainders`.\n",
    "\n",
    "**Hint**: For the sync part, use `broadcast_parameters(state_dict)`, `value.load_state_dict()`"
   ]
  },
  {
   "cell_type": "code",
   "execution_count": 29,
   "id": "372fa0c8-4f71-4d34-8e6b-9cd04862fc0f",
   "metadata": {
    "tags": []
   },
   "outputs": [],
   "source": [
    "class ModelStateHandler:\n",
    "    def __init__(self, model):\n",
    "        self.value = model\n",
    "        # store this as an initial commit\n",
    "        self._model_state = copy.deepcopy(self.value.state_dict())\n",
    "\n",
    "    def commit(self):\n",
    "        self._model_state = copy.deepcopy(self.value.state_dict())\n",
    "\n",
    "    def restore(self):\n",
    "        self.value.load_state_dict(self._model_state)\n",
    "\n",
    "    def sync(self):\n",
    "        broadcast_parameters(self.value.state_dict())\n",
    "    \n",
    "    def set_value(self, value):\n",
    "        self.value = value"
   ]
  },
  {
   "cell_type": "code",
   "execution_count": 30,
   "id": "75ed2340-b147-4ba9-b923-30e9354971e0",
   "metadata": {
    "tags": []
   },
   "outputs": [],
   "source": [
    "def get_handler(v):\n",
    "    for handler_type, handler_cls in handler_registery:\n",
    "        if isinstance(v, handler_type):\n",
    "            return handler_cls(v)\n",
    "    return None"
   ]
  },
  {
   "cell_type": "code",
   "execution_count": 31,
   "id": "527aaac4-8a09-4d34-b475-f9eee95faaff",
   "metadata": {
    "tags": []
   },
   "outputs": [],
   "source": [
    "def get_handlers(states):\n",
    "    handlers = {}\n",
    "    remainders = {}\n",
    "    for k, v in states.items():\n",
    "        handler = get_handler(v)\n",
    "        if handler == None:\n",
    "            remainders[k] = v\n",
    "        else:\n",
    "            handlers[k] = handler\n",
    "    return handlers, remainders"
   ]
  },
  {
   "cell_type": "code",
   "execution_count": 32,
   "id": "f534b7e5-3da9-4d59-95ab-8dde2289d29a",
   "metadata": {
    "tags": []
   },
   "outputs": [],
   "source": [
    "handler_registery = [\n",
    "    (torch.nn.Module, ModelStateHandler),\n",
    "]"
   ]
  },
  {
   "cell_type": "code",
   "execution_count": 33,
   "id": "0f446476-9b95-46de-8201-0f43393fdc21",
   "metadata": {
    "tags": []
   },
   "outputs": [],
   "source": [
    "handlers, remainders = get_handlers(states)"
   ]
  },
  {
   "cell_type": "code",
   "execution_count": 34,
   "id": "32adf75f-6ea4-4185-8f4e-073e7003fb2f",
   "metadata": {
    "tags": []
   },
   "outputs": [
    {
     "data": {
      "text/plain": [
       "({'model': <__main__.ModelStateHandler at 0x7fe80926df40>}, {'epoch': 1})"
      ]
     },
     "execution_count": 34,
     "metadata": {},
     "output_type": "execute_result"
    }
   ],
   "source": [
    "handlers, remainders"
   ]
  },
  {
   "cell_type": "markdown",
   "id": "4a801c8e-0ff6-4ce2-93dd-40b375339c22",
   "metadata": {
    "tags": []
   },
   "source": [
    "### Elastic Sampler"
   ]
  },
  {
   "cell_type": "markdown",
   "id": "9fcbc710-02ac-4f9b-b612-7ad573638089",
   "metadata": {},
   "source": [
    "##### Example 1"
   ]
  },
  {
   "cell_type": "code",
   "execution_count": 14,
   "id": "3e47d5d4-0316-488b-90c5-fa6345cba773",
   "metadata": {
    "tags": []
   },
   "outputs": [],
   "source": [
    "data = torch.Tensor([1, 2, 3, 4, 5])"
   ]
  },
  {
   "cell_type": "code",
   "execution_count": 58,
   "id": "3da6fe0f-0975-4fbb-91c0-3dbbe57e0d02",
   "metadata": {
    "tags": []
   },
   "outputs": [
    {
     "data": {
      "text/plain": [
       "tensor([1., 2., 3., 4., 5.])"
      ]
     },
     "execution_count": 58,
     "metadata": {},
     "output_type": "execute_result"
    }
   ],
   "source": [
    "data"
   ]
  },
  {
   "cell_type": "code",
   "execution_count": 59,
   "id": "97f69b74-9105-4daf-8636-a9b1513f50dc",
   "metadata": {
    "tags": []
   },
   "outputs": [],
   "source": [
    "from torch.utils.data import Sampler"
   ]
  },
  {
   "cell_type": "markdown",
   "id": "c279e7d0-5727-4af7-898c-c7afeed7c4d0",
   "metadata": {},
   "source": [
    "Create a new sampler that returns only the dataset indices with even values.\n",
    "\n",
    "**Hint**: `range(0, len(self.data), 2)`"
   ]
  },
  {
   "cell_type": "code",
   "execution_count": 60,
   "id": "6286450e-d5fb-45d5-9596-ce8fccf48446",
   "metadata": {
    "tags": []
   },
   "outputs": [],
   "source": [
    "class EvenSampler(Sampler):\n",
    "    def __init__(self, data):\n",
    "        self.data = data\n",
    "        \n",
    "    def __iter__(self):\n",
    "        return iter([i for i in range(0, len(self.data), 2)])\n",
    "\n",
    "    def __len__(self):\n",
    "        return len(self.data)"
   ]
  },
  {
   "cell_type": "code",
   "execution_count": 61,
   "id": "353e8890-1970-4aa3-a32f-c205135b8353",
   "metadata": {
    "tags": []
   },
   "outputs": [],
   "source": [
    "sampler = EvenSampler(data=data)"
   ]
  },
  {
   "cell_type": "code",
   "execution_count": 62,
   "id": "2fc425ca-3e39-43c3-9a55-78f5bb873498",
   "metadata": {
    "tags": []
   },
   "outputs": [],
   "source": [
    "samples = list(sampler) "
   ]
  },
  {
   "cell_type": "code",
   "execution_count": 63,
   "id": "708dbe83-63e4-4ffe-954b-c92c5fccbd8d",
   "metadata": {
    "tags": []
   },
   "outputs": [
    {
     "data": {
      "text/plain": [
       "[0, 2, 4]"
      ]
     },
     "execution_count": 63,
     "metadata": {},
     "output_type": "execute_result"
    }
   ],
   "source": [
    "indices"
   ]
  },
  {
   "cell_type": "markdown",
   "id": "eaf3dd67-8fa4-44c8-bf0f-a2bee91f0525",
   "metadata": {},
   "source": [
    "##### Example 2"
   ]
  },
  {
   "cell_type": "code",
   "execution_count": 19,
   "id": "72bba192-5ceb-487c-8776-479be8ad90a1",
   "metadata": {
    "tags": []
   },
   "outputs": [],
   "source": [
    "import torch"
   ]
  },
  {
   "cell_type": "code",
   "execution_count": 10,
   "id": "2e24a490-62c1-4cc3-b224-ab978155c1bf",
   "metadata": {
    "tags": []
   },
   "outputs": [],
   "source": [
    "import math\n",
    "from torch.utils.data import Sampler"
   ]
  },
  {
   "cell_type": "code",
   "execution_count": 16,
   "id": "21ece65c-05c3-4ff1-8eea-573be2f9e8d2",
   "metadata": {
    "tags": []
   },
   "outputs": [],
   "source": [
    "def get_num_replicas():\n",
    "    return 4"
   ]
  },
  {
   "cell_type": "code",
   "execution_count": 17,
   "id": "e566e22f-e814-4f4e-9884-0610739fa7a9",
   "metadata": {
    "tags": []
   },
   "outputs": [],
   "source": [
    "def get_rank():\n",
    "    1"
   ]
  },
  {
   "cell_type": "code",
   "execution_count": 92,
   "id": "cf6d2cbc-2f91-447c-88d0-150d74c6cd2c",
   "metadata": {
    "tags": []
   },
   "outputs": [],
   "source": [
    "class ElasticSampler(Sampler):\n",
    "    def __init__(self, dataset, seed):\n",
    "        self.dataset = dataset\n",
    "        self.seed = seed\n",
    "        \n",
    "        self.epoch = 0\n",
    "        \n",
    "        self.num_replicas = 0\n",
    "        self.rank = 0\n",
    "        self.remaining_indicies = []\n",
    "        self.processed_indicies = set()\n",
    "        self.num_processed = 0\n",
    "    \n",
    "    def set_epoch(self, epoch):\n",
    "        self.epoch = epoch\n",
    "        self.num_processed = 0\n",
    "        self.reset()\n",
    "        \n",
    "    def record_batch(self, batch_size):\n",
    "        self.num_processed += batch_size * self.num_replicas\n",
    "    \n",
    "    def reset(self):\n",
    "        self.num_replicas = get_num_replicas()\n",
    "        self.rank = get_rank()\n",
    "        \n",
    "        all_indicies = [idx for idx in range(len(self.dataset))]\n",
    "        self.remaining_indicies = all_indicies[self.num_processed:]\n",
    "        self.num_samples = int(math.ceil(len(self.remaining_indicies)*1.0 / self.num_replicas))\n",
    "        self.total_size = self.num_replicas * self.num_samples\n",
    "    \n",
    "    def __iter__(self):\n",
    "        self.indicies = self.remaining_indicies[:]\n",
    "        \n",
    "        # add extra last sampels to make it evenly divisible\n",
    "        self.indicies += self.indicies[:(self.total_size - len(self.indicies))]\n",
    "        assert len(self.indicies) == self.total_size\n",
    "        \n",
    "        self.indicies = self.indicies[self.rank:self.total_size:self.num_replicas]\n",
    "        assert len(self.indicies) == self.num_samples\n",
    "        \n",
    "        return iter(self.indicies)\n",
    "\n",
    "    def __len__(self):\n",
    "        return self.num_samples"
   ]
  },
  {
   "cell_type": "code",
   "execution_count": 93,
   "id": "99f0acfe-8e9a-4567-bb83-5ff8a89f8520",
   "metadata": {
    "tags": []
   },
   "outputs": [],
   "source": [
    "dataset = torch.arange(0, 16)"
   ]
  },
  {
   "cell_type": "code",
   "execution_count": 94,
   "id": "ec85688c-8969-4926-b766-e73d3749bbaa",
   "metadata": {
    "tags": []
   },
   "outputs": [
    {
     "data": {
      "text/plain": [
       "tensor([ 0,  1,  2,  3,  4,  5,  6,  7,  8,  9, 10, 11, 12, 13, 14, 15])"
      ]
     },
     "execution_count": 94,
     "metadata": {},
     "output_type": "execute_result"
    }
   ],
   "source": [
    "dataset"
   ]
  },
  {
   "cell_type": "code",
   "execution_count": 95,
   "id": "e39d3d89-3e22-4499-96a5-661c99c15445",
   "metadata": {
    "tags": []
   },
   "outputs": [],
   "source": [
    "sampler = ElasticSampler(dataset, seed=69)"
   ]
  },
  {
   "cell_type": "markdown",
   "id": "4fd74662-383e-4d79-83d0-c7f2f1144291",
   "metadata": {},
   "source": [
    "n_epochs * batch_size * num_replicas"
   ]
  },
  {
   "cell_type": "code",
   "execution_count": 96,
   "id": "5c2d8b96-0f5f-46e4-ad1c-1143c1f121f4",
   "metadata": {
    "tags": []
   },
   "outputs": [],
   "source": [
    "n_epochs = 2\n",
    "n_batches = 4\n",
    "batch_size = 4\n",
    "num_replicas = 4"
   ]
  },
  {
   "cell_type": "code",
   "execution_count": 97,
   "id": "afeedfac-1ea2-4cb0-8818-8e1f1cda19ed",
   "metadata": {
    "tags": []
   },
   "outputs": [
    {
     "name": "stdout",
     "output_type": "stream",
     "text": [
      "[0, 4, 8, 12]\n",
      "16\n",
      "[0, 4, 8, 12]\n",
      "32\n",
      "[0, 4, 8, 12]\n",
      "48\n",
      "[0, 4, 8, 12]\n",
      "64\n",
      "[0, 4, 8, 12]\n",
      "16\n",
      "[0, 4, 8, 12]\n",
      "32\n",
      "[0, 4, 8, 12]\n",
      "48\n",
      "[0, 4, 8, 12]\n",
      "64\n"
     ]
    }
   ],
   "source": [
    "for epoch in range(n_epochs):\n",
    "    sampler.set_epoch(epoch)\n",
    "    for batch_idx in range(n_batches):\n",
    "        indicies = list(iter(sampler))\n",
    "        print(indicies)\n",
    "        sampler.record_batch(batch_size)\n",
    "        print(sampler.num_processed)\n",
    "        # assert sampler.num_processed == batch_size * (batch_idx + 1)"
   ]
  },
  {
   "cell_type": "code",
   "execution_count": 98,
   "id": "4c8b0c12-4478-4144-8728-ca0c96424a47",
   "metadata": {
    "tags": []
   },
   "outputs": [
    {
     "data": {
      "text/plain": [
       "16"
      ]
     },
     "execution_count": 98,
     "metadata": {},
     "output_type": "execute_result"
    }
   ],
   "source": [
    "batch_size * (batch_idx + 1)"
   ]
  },
  {
   "cell_type": "markdown",
   "id": "94cd1c62-1985-4394-959f-2ad1e9156465",
   "metadata": {},
   "source": [
    "### TorchState"
   ]
  },
  {
   "cell_type": "markdown",
   "id": "225cfdf7-fb93-4a1e-be87-43e142b2433f",
   "metadata": {},
   "source": [
    "##### Example 1"
   ]
  },
  {
   "cell_type": "code",
   "execution_count": 48,
   "id": "55aa051d-4225-46ac-8b1f-a28979ad7ad5",
   "metadata": {
    "tags": []
   },
   "outputs": [],
   "source": [
    "class State:\n",
    "    def __init__(self):\n",
    "        pass"
   ]
  },
  {
   "cell_type": "code",
   "execution_count": null,
   "id": "c65c88ce-b54b-46a7-97aa-97f65c239cab",
   "metadata": {},
   "outputs": [],
   "source": [
    "class TorchState:\n",
    "    def __init__(self, model, optimizer, **kwargs):\n",
    "        kwargs.update({\"model\": model, \"optimizer\": optimizer})\n",
    "        self._handlers, kwargs = get_"
   ]
  },
  {
   "cell_type": "markdown",
   "id": "7e60e076-ce0c-4ecb-b516-4778ee03be75",
   "metadata": {},
   "source": [
    "### `run_func`"
   ]
  },
  {
   "cell_type": "markdown",
   "id": "7a4a8f44-8017-4161-b41d-57ae18fdc99f",
   "metadata": {},
   "source": [
    "##### Example 1"
   ]
  },
  {
   "cell_type": "code",
   "execution_count": 37,
   "id": "f653eec9-84f6-4595-928e-096fa6e98600",
   "metadata": {
    "tags": []
   },
   "outputs": [],
   "source": [
    "class HostsUpdatedInterrupt(Exception):\n",
    "    def __init__(self, skip_sync):\n",
    "        self.skip_sync = skip_sync"
   ]
  },
  {
   "cell_type": "markdown",
   "id": "9ad1ed7c-189d-45ae-992f-b42996f1bd42",
   "metadata": {},
   "source": [
    "Write a custom error with attributes as bellow"
   ]
  },
  {
   "cell_type": "code",
   "execution_count": 38,
   "id": "5cfddca3-7f8f-4ba0-85a4-4608170085bf",
   "metadata": {
    "tags": []
   },
   "outputs": [
    {
     "name": "stdout",
     "output_type": "stream",
     "text": [
      "False\n"
     ]
    }
   ],
   "source": [
    "try:\n",
    "    raise HostsUpdatedInterrupt(skip_sync=False)\n",
    "except HostsUpdatedInterrupt as err:\n",
    "    print(err.skip_sync)"
   ]
  },
  {
   "cell_type": "markdown",
   "id": "44fe101c-5ba5-4b3f-aa72-47b54967de8c",
   "metadata": {},
   "source": [
    "##### Example 2"
   ]
  },
  {
   "cell_type": "code",
   "execution_count": 40,
   "id": "97237cce-8aea-4806-a5eb-70fdf08c4b9d",
   "metadata": {
    "tags": []
   },
   "outputs": [],
   "source": [
    "class HorovodInternalError(Exception): pass\n",
    "class HostsUpdatedInterrupt(Exception): pass"
   ]
  },
  {
   "cell_type": "code",
   "execution_count": 24,
   "id": "5221860c-d743-46a4-952d-5ea9c538f359",
   "metadata": {
    "tags": []
   },
   "outputs": [],
   "source": [
    "def train_one_batch(): pass"
   ]
  },
  {
   "cell_type": "code",
   "execution_count": 46,
   "id": "648f43b9-b274-46bf-8605-0850537cb9f4",
   "metadata": {
    "tags": []
   },
   "outputs": [],
   "source": [
    "def _reset():\n",
    "    shutdown()\n",
    "    init()"
   ]
  },
  {
   "cell_type": "code",
   "execution_count": 47,
   "id": "02861794-cb71-4d80-b968-8178d09e5e1f",
   "metadata": {
    "tags": []
   },
   "outputs": [],
   "source": [
    "def run_fn(func, reset):\n",
    "    def wrapper(state, *args, **kwargs):\n",
    "        notification_manager.init()\n",
    "        notification_manager.register_listener(state)\n",
    "        skip_sync = False\n",
    "        \n",
    "        try:\n",
    "            while True:\n",
    "                try:\n",
    "                    if not skip_sync:\n",
    "                        state.sync()\n",
    "                \n",
    "                    return func(state, *args, **kwargs)\n",
    "                except HorovodInternalError:\n",
    "                    # a worker failed\n",
    "                    state.restore()\n",
    "                    skip_sync = False\n",
    "                except HostsUpdatedInterrupt as e:\n",
    "                    skip_sync = e.skip_sync\n",
    "                \n",
    "                reset()\n",
    "                state.on_reset()\n",
    "        finally:\n",
    "            notification_manager.remove_listener(state)\n",
    "        return wrapper"
   ]
  },
  {
   "cell_type": "code",
   "execution_count": null,
   "id": "7982793b-fa23-45b7-b0c1-9be199f4132a",
   "metadata": {},
   "outputs": [],
   "source": [
    "skip_"
   ]
  }
 ],
 "metadata": {
  "kernelspec": {
   "display_name": "Python 3 (ipykernel)",
   "language": "python",
   "name": "python3"
  },
  "language_info": {
   "codemirror_mode": {
    "name": "ipython",
    "version": 3
   },
   "file_extension": ".py",
   "mimetype": "text/x-python",
   "name": "python",
   "nbconvert_exporter": "python",
   "pygments_lexer": "ipython3",
   "version": "3.8.16"
  }
 },
 "nbformat": 4,
 "nbformat_minor": 5
}
