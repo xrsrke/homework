{
 "cells": [
  {
   "cell_type": "markdown",
   "id": "54d57376-ae2d-4f56-827e-8a97c66ab7e5",
   "metadata": {},
   "source": [
    "# 14.  Elastic Training Discovery Node & State"
   ]
  },
  {
   "cell_type": "code",
   "execution_count": 1,
   "id": "50970a22-1da2-4b38-9698-c0284b56e64d",
   "metadata": {
    "tags": []
   },
   "outputs": [],
   "source": [
    "import threading"
   ]
  },
  {
   "cell_type": "code",
   "execution_count": 2,
   "id": "e7352704-a360-4526-9055-cb382a4edbb0",
   "metadata": {
    "tags": []
   },
   "outputs": [],
   "source": [
    "class ElasticDriver:\n",
    "    def __init__(self):\n",
    "        self._shutdown = threading.Event()\n",
    "    \n",
    "    def discover_hosts():\n",
    "        pass"
   ]
  },
  {
   "cell_type": "code",
   "execution_count": null,
   "id": "4b22b927-3628-488e-b887-27c80ed8d95a",
   "metadata": {},
   "outputs": [],
   "source": [
    "def discover_host():\n",
    "    wh"
   ]
  },
  {
   "cell_type": "code",
   "execution_count": 4,
   "id": "c826b7bc-e66b-400d-bd18-d59a6b430adf",
   "metadata": {
    "tags": []
   },
   "outputs": [],
   "source": [
    "class State:\n",
    "    def __init__(self):\n",
    "        self.rank = torch.distributed.get_rank()\n",
    "        self.host_messages = Queue()\n",
    "    \n",
    "    def on_reset(self):\n",
    "        self.host_messages = Queue()\n",
    "        self.reset()\n",
    "    \n",
    "    def commit(self):\n",
    "        self.save()\n",
    "        self.check_host_updates()\n",
    "    \n",
    "    def check_host_updates(self):\n",
    "        "
   ]
  },
  {
   "cell_type": "code",
   "execution_count": null,
   "id": "d0c8f8c9-3ac3-45aa-8076-01e4b163bb2a",
   "metadata": {},
   "outputs": [],
   "source": [
    "class ObjectState(State):\n",
    "    def __init__(self):\n",
    "        pass\n",
    "    \n",
    "    def save(self):\n",
    "        new_state = {}\n",
    "        for attr in self._saved_state.keys():\n",
    "            new_state[attr] = getattr(self, attr)"
   ]
  },
  {
   "cell_type": "code",
   "execution_count": 5,
   "id": "a53a27cc-45b1-47cd-ac10-4334c222234d",
   "metadata": {
    "tags": []
   },
   "outputs": [],
   "source": [
    "class TorchState:\n",
    "    pass"
   ]
  },
  {
   "cell_type": "code",
   "execution_count": null,
   "id": "21075fb6-990d-43b5-a543-686d472d945d",
   "metadata": {},
   "outputs": [],
   "source": [
    "state = TorchState(\n",
    "    model=model,\n",
    "    optimizer=optimizer\n",
    ")"
   ]
  },
  {
   "cell_type": "markdown",
   "id": "233d8fbd-74ea-4af0-bb14-aeb5991f7657",
   "metadata": {},
   "source": [
    "### `HostDiscoveryScript`"
   ]
  },
  {
   "cell_type": "code",
   "execution_count": 1,
   "id": "e8a2c005-02f7-4992-bcd0-45f76c13c0a0",
   "metadata": {
    "tags": []
   },
   "outputs": [],
   "source": [
    "class HostDiscoveryScript:\n",
    "    def __init__(self, discovery_script):\n",
    "        self.discovery_script = discovery_script\n",
    "    \n",
    "    def find_available_hosts_and_slots(self):\n",
    "        result = self.execute_discovery_script()\n",
    "        host_slots = {\n",
    "        }\n",
    "    \n",
    "    def execute_discovery_script(self):\n",
    "        pass"
   ]
  },
  {
   "cell_type": "code",
   "execution_count": null,
   "id": "340805af-a4ef-4bc8-94b1-993e2516160c",
   "metadata": {},
   "outputs": [],
   "source": []
  }
 ],
 "metadata": {
  "kernelspec": {
   "display_name": "Python 3 (ipykernel)",
   "language": "python",
   "name": "python3"
  },
  "language_info": {
   "codemirror_mode": {
    "name": "ipython",
    "version": 3
   },
   "file_extension": ".py",
   "mimetype": "text/x-python",
   "name": "python",
   "nbconvert_exporter": "python",
   "pygments_lexer": "ipython3",
   "version": "3.8.16"
  }
 },
 "nbformat": 4,
 "nbformat_minor": 5
}
