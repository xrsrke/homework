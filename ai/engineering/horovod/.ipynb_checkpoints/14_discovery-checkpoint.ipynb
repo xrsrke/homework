{
 "cells": [
  {
   "cell_type": "markdown",
   "id": "54d57376-ae2d-4f56-827e-8a97c66ab7e5",
   "metadata": {},
   "source": [
    "# 14.  Elastic Training Discovery Node & State"
   ]
  },
  {
   "cell_type": "code",
   "execution_count": 1,
   "id": "50970a22-1da2-4b38-9698-c0284b56e64d",
   "metadata": {
    "tags": []
   },
   "outputs": [],
   "source": [
    "import threading"
   ]
  },
  {
   "cell_type": "code",
   "execution_count": 2,
   "id": "e7352704-a360-4526-9055-cb382a4edbb0",
   "metadata": {
    "tags": []
   },
   "outputs": [],
   "source": [
    "class ElasticDriver:\n",
    "    def __init__(self):\n",
    "        self._shutdown = threading.Event()\n",
    "    \n",
    "    def discover_hosts():\n",
    "        pass"
   ]
  },
  {
   "cell_type": "code",
   "execution_count": null,
   "id": "4b22b927-3628-488e-b887-27c80ed8d95a",
   "metadata": {},
   "outputs": [],
   "source": [
    "def discover_host():\n",
    "    wh"
   ]
  }
 ],
 "metadata": {
  "kernelspec": {
   "display_name": "Python 3 (ipykernel)",
   "language": "python",
   "name": "python3"
  },
  "language_info": {
   "codemirror_mode": {
    "name": "ipython",
    "version": 3
   },
   "file_extension": ".py",
   "mimetype": "text/x-python",
   "name": "python",
   "nbconvert_exporter": "python",
   "pygments_lexer": "ipython3",
   "version": "3.8.16"
  }
 },
 "nbformat": 4,
 "nbformat_minor": 5
}
