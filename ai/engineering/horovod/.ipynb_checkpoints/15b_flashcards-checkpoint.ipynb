{
 "cells": [
  {
   "cell_type": "markdown",
   "id": "b3f55cff-097b-4fcb-82ae-ffb54dbd7bb0",
   "metadata": {},
   "source": [
    "##### Example 1"
   ]
  },
  {
   "cell_type": "code",
   "execution_count": 2,
   "id": "f2b9f190-69a1-4eea-ab91-d9d35038111c",
   "metadata": {
    "tags": []
   },
   "outputs": [],
   "source": [
    "import socketserver"
   ]
  },
  {
   "cell_type": "code",
   "execution_count": 3,
   "id": "02c7304e-37e0-4ca6-8bb3-dd8e0edc0485",
   "metadata": {
    "tags": []
   },
   "outputs": [],
   "source": [
    "class EchoRequestHandler(socketserver.StreamRequestHandler):\n",
    "    def handle(self):\n",
    "        # self.rfile is a file-like object for reading from the socket\n",
    "        data = self.rfile.readline().strip()\n",
    "        print(f\"Received {data} from {self.client_address}\")\n",
    "\n",
    "        # self.wfile is a file-like object for writing to the socket\n",
    "        self.wfile.write(data + b'\\n')"
   ]
  },
  {
   "cell_type": "code",
   "execution_count": 4,
   "id": "56cdc99d-5b0b-416f-85bb-5edb73373b3c",
   "metadata": {
    "tags": []
   },
   "outputs": [],
   "source": [
    "MASTER_HOST = \"localhost\"\n",
    "MASTER_PORT = 6942"
   ]
  },
  {
   "cell_type": "code",
   "execution_count": 5,
   "id": "494b9a36-d68a-4f30-9a62-82ea0ff18fc5",
   "metadata": {
    "tags": []
   },
   "outputs": [],
   "source": [
    "import socketserver"
   ]
  },
  {
   "cell_type": "code",
   "execution_count": 6,
   "id": "d8d9ebaf-5cc0-4c57-9ee7-c4533e96f28a",
   "metadata": {
    "tags": []
   },
   "outputs": [
    {
     "data": {
      "text/plain": [
       "socketserver.StreamRequestHandler"
      ]
     },
     "execution_count": 6,
     "metadata": {},
     "output_type": "execute_result"
    }
   ],
   "source": [
    "EchoRequestHandler.__mro__[1]"
   ]
  },
  {
   "cell_type": "code",
   "execution_count": 7,
   "id": "9908b99c-b234-4088-912e-1b4cef553b89",
   "metadata": {
    "tags": []
   },
   "outputs": [
    {
     "data": {
      "text/plain": [
       "('localhost', 6942)"
      ]
     },
     "execution_count": 7,
     "metadata": {},
     "output_type": "execute_result"
    }
   ],
   "source": [
    "MASTER_HOST, MASTER_PORT"
   ]
  },
  {
   "cell_type": "markdown",
   "id": "71c813a4-ec16-4438-882f-1dd4320e384e",
   "metadata": {},
   "source": [
    "Create a TCP server with multiple threads using the `EchoRequestHandler` that runs indefinitely\n",
    "\n",
    "**Hint**: context manager"
   ]
  },
  {
   "cell_type": "code",
   "execution_count": null,
   "id": "ab168505-9f60-4f27-861e-7d2e61ef9a97",
   "metadata": {
    "tags": []
   },
   "outputs": [
    {
     "name": "stdout",
     "output_type": "stream",
     "text": [
      "Echo server started on port 9999\n"
     ]
    }
   ],
   "source": [
    "with socketserver.ThreadingTCPServer((MASTER_HOST, MASTER_PORT), EchoRequestHandler) as server:\n",
    "    print(\"Echo server started on port 9999\")\n",
    "    server.serve_forever()"
   ]
  },
  {
   "cell_type": "markdown",
   "id": "7c2d60f3-eb60-4b5c-8121-a0dc6e3f504f",
   "metadata": {},
   "source": [
    "##### Example 2"
   ]
  },
  {
   "cell_type": "code",
   "execution_count": 11,
   "id": "896d04a9-6bba-4e2e-a0e9-8a7e1d8a2c04",
   "metadata": {
    "tags": []
   },
   "outputs": [],
   "source": [
    "import socketserver"
   ]
  },
  {
   "cell_type": "markdown",
   "id": "4174bc0b-0a91-42c6-9617-74a5c81cb6ae",
   "metadata": {},
   "source": [
    "Create a handler for stream requests in a socket server that does nothing when it receives a message from another computer."
   ]
  },
  {
   "cell_type": "code",
   "execution_count": 12,
   "id": "cd154565-7e7f-4a83-9aa4-13e6a8a6cdea",
   "metadata": {
    "tags": []
   },
   "outputs": [],
   "source": [
    "class EchoRequestHandler(socketserver.StreamRequestHandler):\n",
    "    def handle(): pass"
   ]
  },
  {
   "cell_type": "code",
   "execution_count": 13,
   "id": "f42d5e02-ee0a-4142-9c29-b32544f6a2fc",
   "metadata": {
    "tags": []
   },
   "outputs": [
    {
     "data": {
      "text/plain": [
       "__main__.EchoRequestHandler"
      ]
     },
     "execution_count": 13,
     "metadata": {},
     "output_type": "execute_result"
    }
   ],
   "source": [
    "EchoRequestHandler"
   ]
  },
  {
   "cell_type": "markdown",
   "id": "9ec07135-e549-4811-9688-d9bd5f7a6363",
   "metadata": {},
   "source": [
    "##### Example 3"
   ]
  },
  {
   "cell_type": "code",
   "execution_count": 11,
   "id": "7148819b-d10d-4f5f-885e-01142d7631bf",
   "metadata": {
    "tags": []
   },
   "outputs": [],
   "source": [
    "import socketserver"
   ]
  },
  {
   "cell_type": "markdown",
   "id": "f75af06c-4fbc-4d31-bf87-d1a41d7ca830",
   "metadata": {},
   "source": [
    "Create a handler for stream requests in a socket server that prints the received message.\n",
    "\n",
    "**Hint**: `.readline()`"
   ]
  },
  {
   "cell_type": "code",
   "execution_count": 12,
   "id": "27e03cf1-a9a3-4ff6-8797-43edc785bee7",
   "metadata": {
    "tags": []
   },
   "outputs": [],
   "source": [
    "class EchoRequestHandler(socketserver.StreamRequestHandler):\n",
    "    def handle(self):\n",
    "        # reading from the socket\n",
    "        data = self.rfile.readline()\n",
    "        print(f\"Received {data}\")"
   ]
  },
  {
   "cell_type": "code",
   "execution_count": 13,
   "id": "042495dc-0abf-48e4-9d45-6f57fb83b218",
   "metadata": {
    "tags": []
   },
   "outputs": [
    {
     "data": {
      "text/plain": [
       "__main__.EchoRequestHandler"
      ]
     },
     "execution_count": 13,
     "metadata": {},
     "output_type": "execute_result"
    }
   ],
   "source": [
    "EchoRequestHandler"
   ]
  },
  {
   "cell_type": "markdown",
   "id": "8f6f9c69-099d-4b18-ac3e-5de247d9f6ff",
   "metadata": {},
   "source": [
    "##### Example 3"
   ]
  },
  {
   "cell_type": "code",
   "execution_count": 1,
   "id": "8cf291e3-5627-463e-911e-6a117cc3ded8",
   "metadata": {
    "tags": []
   },
   "outputs": [],
   "source": [
    "import socket"
   ]
  },
  {
   "cell_type": "code",
   "execution_count": 3,
   "id": "79a6ef72-6232-4df6-b2a9-1167777c2242",
   "metadata": {
    "tags": []
   },
   "outputs": [],
   "source": [
    "FAMILY = socket.AF_INET"
   ]
  },
  {
   "cell_type": "code",
   "execution_count": 4,
   "id": "ab371e9c-8a57-420a-ab43-ed88c9fc2bf2",
   "metadata": {
    "tags": []
   },
   "outputs": [],
   "source": [
    "PROTOCOL = socket.SOCK_STREAM"
   ]
  },
  {
   "cell_type": "code",
   "execution_count": 2,
   "id": "11605dfb-68a5-4ff1-a592-5aa69480e389",
   "metadata": {
    "tags": []
   },
   "outputs": [
    {
     "data": {
      "text/plain": [
       "<AddressFamily.AF_INET: 2>"
      ]
     },
     "execution_count": 2,
     "metadata": {},
     "output_type": "execute_result"
    }
   ],
   "source": [
    "socket.socket()"
   ]
  },
  {
   "cell_type": "markdown",
   "id": "11621c8d-ad46-4d24-8a96-e6b6428596d8",
   "metadata": {},
   "source": [
    "##### Example 4"
   ]
  },
  {
   "cell_type": "code",
   "execution_count": 17,
   "id": "66bc12d6-32a1-4e6e-94dc-ecd4b007a90a",
   "metadata": {
    "tags": []
   },
   "outputs": [],
   "source": [
    "import pickle\n",
    "import cloudpickle\n",
    "import os"
   ]
  },
  {
   "cell_type": "code",
   "execution_count": 9,
   "id": "d7754b80-8193-414e-b8cb-432a1ae7f7d0",
   "metadata": {
    "tags": []
   },
   "outputs": [],
   "source": [
    "serialized_message = cloudpickle.dumps(\"persistence is all you need.\", protocol=pickle.HIGHEST_PROTOCOL)"
   ]
  },
  {
   "cell_type": "code",
   "execution_count": 18,
   "id": "a0b1337a-656d-4a78-920f-90b61f840cea",
   "metadata": {
    "tags": []
   },
   "outputs": [],
   "source": [
    "key = os.urandom(32)"
   ]
  },
  {
   "cell_type": "code",
   "execution_count": 30,
   "id": "28213500-e33c-43d2-bf18-20084eefa77e",
   "metadata": {
    "tags": []
   },
   "outputs": [
    {
     "data": {
      "text/plain": [
       "b'\\x80\\x05\\x95 \\x00\\x00\\x00\\x00\\x00\\x00\\x00\\x8c\\x1cpersistence is all you need.\\x94.'"
      ]
     },
     "execution_count": 30,
     "metadata": {},
     "output_type": "execute_result"
    }
   ],
   "source": [
    "serialized_message"
   ]
  },
  {
   "cell_type": "code",
   "execution_count": 31,
   "id": "f95255fb-0d36-438c-b51b-88f1ee9fc2d1",
   "metadata": {
    "tags": []
   },
   "outputs": [
    {
     "data": {
      "text/plain": [
       "b'~K\\x06c\\xd2s^\\xa3\\xcbRC\\x01\\xc8\\x11[\\x8c\\x9eQ\\x11\\x9f^\"c3\\x81\\xea\\x0b\\x98\\xb85\\xa6 '"
      ]
     },
     "execution_count": 31,
     "metadata": {},
     "output_type": "execute_result"
    }
   ],
   "source": [
    "key"
   ]
  },
  {
   "cell_type": "markdown",
   "id": "41cf09a7-0e82-42cc-a845-336d1f2718c9",
   "metadata": {},
   "source": [
    "Compute a digest using HMAC"
   ]
  },
  {
   "cell_type": "code",
   "execution_count": 32,
   "id": "164346c0-c089-4b95-a5f7-31e620a9eb45",
   "metadata": {
    "tags": []
   },
   "outputs": [],
   "source": [
    "import hashlib\n",
    "import hmac"
   ]
  },
  {
   "cell_type": "code",
   "execution_count": 33,
   "id": "20b7832b-c395-4b4c-96f2-c61faadd9deb",
   "metadata": {
    "tags": []
   },
   "outputs": [],
   "source": [
    "def compute_digest(key, message):\n",
    "    return hmac.new(key, message, digestmod=hashlib.sha256).digest()"
   ]
  },
  {
   "cell_type": "code",
   "execution_count": 34,
   "id": "63c181f3-0b85-4958-9823-14e659f5e662",
   "metadata": {
    "tags": []
   },
   "outputs": [],
   "source": [
    "digest = compute_digest(key, serialized_message)"
   ]
  },
  {
   "cell_type": "code",
   "execution_count": 35,
   "id": "5f751863-2c0e-441f-afc2-fc96bdf5eba1",
   "metadata": {
    "tags": []
   },
   "outputs": [
    {
     "data": {
      "text/plain": [
       "b'T\\xde\\xa1\\xac\\x87\\xae\\xde\\xe5\\x9f\\xdd\\x13]}5f\\\\\\x9fLF\\xf2\\xa91QL\\x0b\\xc5\\t\\xef\\x06S\\xe2_'"
      ]
     },
     "execution_count": 35,
     "metadata": {},
     "output_type": "execute_result"
    }
   ],
   "source": [
    "digest"
   ]
  },
  {
   "cell_type": "markdown",
   "id": "61d95622-2878-4630-bfc7-7b0ee43c29fe",
   "metadata": {},
   "source": [
    "### BasicService"
   ]
  },
  {
   "cell_type": "markdown",
   "id": "e1656242-c155-4caf-be99-f0daf3ad3e6d",
   "metadata": {},
   "source": [
    "##### Example 1"
   ]
  },
  {
   "cell_type": "code",
   "execution_count": 3,
   "id": "55266275-ef5d-4e7b-bcfd-f9a59abf5479",
   "metadata": {
    "tags": []
   },
   "outputs": [],
   "source": [
    "def handler():\n",
    "    pass"
   ]
  },
  {
   "cell_type": "code",
   "execution_count": 13,
   "id": "4158840f-b26a-4bfe-91ea-80b09f04ff49",
   "metadata": {
    "tags": []
   },
   "outputs": [],
   "source": [
    "import socketserver"
   ]
  },
  {
   "cell_type": "code",
   "execution_count": 14,
   "id": "26af875a-d906-422c-9ee6-25c64b9c5fbf",
   "metadata": {
    "tags": []
   },
   "outputs": [
    {
     "data": {
      "text/plain": [
       "<function __main__.handler()>"
      ]
     },
     "execution_count": 14,
     "metadata": {},
     "output_type": "execute_result"
    }
   ],
   "source": [
    "handler"
   ]
  },
  {
   "cell_type": "markdown",
   "id": "920c7313-2483-4090-82c5-8fa4f14bd3ae",
   "metadata": {},
   "source": [
    "Create a multi-threaded TCP server on the local node and bind it to an available port ranging from 1024 to 65536.     "
   ]
  },
  {
   "cell_type": "code",
   "execution_count": 15,
   "id": "2fcc679d-434d-4d97-a3b2-0ab296428f1f",
   "metadata": {
    "tags": []
   },
   "outputs": [],
   "source": [
    "def find_port(server_factory):\n",
    "    min_port = 1024\n",
    "    max_port = 65536\n",
    "\n",
    "    for port in range(min_port, max_port):\n",
    "        try:\n",
    "            addr = ('', port)\n",
    "            server = server_factory(addr)\n",
    "            return server, port\n",
    "        except Exception:\n",
    "            continue"
   ]
  },
  {
   "cell_type": "code",
   "execution_count": 16,
   "id": "964e3609-558a-4228-ba5d-1a429d1fd8fd",
   "metadata": {
    "tags": []
   },
   "outputs": [],
   "source": [
    "server, port = find_port(lambda addr: socketserver.ThreadingTCPServer(addr, handler))"
   ]
  },
  {
   "cell_type": "code",
   "execution_count": 17,
   "id": "f494d299-0e32-4c08-aa38-954b0582bc9e",
   "metadata": {
    "tags": []
   },
   "outputs": [
    {
     "data": {
      "text/plain": [
       "<socketserver.ThreadingTCPServer at 0x7f94f801f6d0>"
      ]
     },
     "execution_count": 17,
     "metadata": {},
     "output_type": "execute_result"
    }
   ],
   "source": [
    "server"
   ]
  },
  {
   "cell_type": "code",
   "execution_count": 18,
   "id": "eb8f3f08-60c8-4d80-bd8d-b6e2f4943492",
   "metadata": {
    "tags": []
   },
   "outputs": [
    {
     "data": {
      "text/plain": [
       "1027"
      ]
     },
     "execution_count": 18,
     "metadata": {},
     "output_type": "execute_result"
    }
   ],
   "source": [
    "port"
   ]
  },
  {
   "cell_type": "markdown",
   "id": "8d2209a6-46c1-4ec0-9436-85169d3b0df3",
   "metadata": {},
   "source": [
    "##### Example 1"
   ]
  },
  {
   "cell_type": "code",
   "execution_count": 2,
   "id": "4ce72ff1-d3ff-4917-8fa3-69eea7ee1105",
   "metadata": {
    "tags": []
   },
   "outputs": [],
   "source": [
    "import threading"
   ]
  },
  {
   "cell_type": "markdown",
   "id": "7238eac5-0568-4c72-aa09-2d14857e43fc",
   "metadata": {},
   "source": [
    "**Hint**: `set().add()`, `set().remove()"
   ]
  },
  {
   "cell_type": "code",
   "execution_count": null,
   "id": "c4e0443d-faea-44da-b961-f01dd9cc507c",
   "metadata": {},
   "outputs": [],
   "source": [
    "class NotificationReceiver:\n",
    "    def __init__(self):\n",
    "        self.events = []\n",
    "    \n",
    "    def on_ho"
   ]
  },
  {
   "cell_type": "code",
   "execution_count": 3,
   "id": "f923440a-5dfd-47a6-87a8-c0d30099c5f9",
   "metadata": {
    "tags": []
   },
   "outputs": [],
   "source": [
    "class WorkerNotificationManager:\n",
    "    def __init__(self):\n",
    "        self._lock = threading.Lock()\n",
    "        self._service = None\n",
    "        self._listeners = set()\n",
    "    \n",
    "    def register_listener(self, listener):\n",
    "        self._listeners.add(listener)\n",
    "    \n",
    "    def remove_listener(self, listener):\n",
    "        self._listeners.remove(listener)\n",
    "        \n",
    "    def notify_host_updated(self, timestamp, update_res):\n",
    "        for listener in self._listeners:\n",
    "            listener.on_hosts_updated(timestamp, update_res)"
   ]
  },
  {
   "cell_type": "code",
   "execution_count": null,
   "id": "a735a5f9-748b-4ba8-b9af-79ba62a5566e",
   "metadata": {},
   "outputs": [],
   "source": []
  }
 ],
 "metadata": {
  "kernelspec": {
   "display_name": "Python 3 (ipykernel)",
   "language": "python",
   "name": "python3"
  },
  "language_info": {
   "codemirror_mode": {
    "name": "ipython",
    "version": 3
   },
   "file_extension": ".py",
   "mimetype": "text/x-python",
   "name": "python",
   "nbconvert_exporter": "python",
   "pygments_lexer": "ipython3",
   "version": "3.8.16"
  }
 },
 "nbformat": 4,
 "nbformat_minor": 5
}
