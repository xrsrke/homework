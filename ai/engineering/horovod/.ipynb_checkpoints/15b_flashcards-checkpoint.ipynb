{
 "cells": [
  {
   "cell_type": "markdown",
   "id": "b3f55cff-097b-4fcb-82ae-ffb54dbd7bb0",
   "metadata": {},
   "source": [
    "##### Example 1"
   ]
  },
  {
   "cell_type": "code",
   "execution_count": 2,
   "id": "f2b9f190-69a1-4eea-ab91-d9d35038111c",
   "metadata": {
    "tags": []
   },
   "outputs": [],
   "source": [
    "import socketserver"
   ]
  },
  {
   "cell_type": "code",
   "execution_count": 3,
   "id": "02c7304e-37e0-4ca6-8bb3-dd8e0edc0485",
   "metadata": {
    "tags": []
   },
   "outputs": [],
   "source": [
    "class EchoRequestHandler(socketserver.StreamRequestHandler):\n",
    "    def handle(self):\n",
    "        # self.rfile is a file-like object for reading from the socket\n",
    "        data = self.rfile.readline().strip()\n",
    "        print(f\"Received {data} from {self.client_address}\")\n",
    "\n",
    "        # self.wfile is a file-like object for writing to the socket\n",
    "        self.wfile.write(data + b'\\n')"
   ]
  },
  {
   "cell_type": "code",
   "execution_count": 4,
   "id": "56cdc99d-5b0b-416f-85bb-5edb73373b3c",
   "metadata": {
    "tags": []
   },
   "outputs": [],
   "source": [
    "MASTER_HOST = \"localhost\"\n",
    "MASTER_PORT = 6942"
   ]
  },
  {
   "cell_type": "code",
   "execution_count": 5,
   "id": "494b9a36-d68a-4f30-9a62-82ea0ff18fc5",
   "metadata": {
    "tags": []
   },
   "outputs": [],
   "source": [
    "import socketserver"
   ]
  },
  {
   "cell_type": "code",
   "execution_count": 6,
   "id": "d8d9ebaf-5cc0-4c57-9ee7-c4533e96f28a",
   "metadata": {
    "tags": []
   },
   "outputs": [
    {
     "data": {
      "text/plain": [
       "socketserver.StreamRequestHandler"
      ]
     },
     "execution_count": 6,
     "metadata": {},
     "output_type": "execute_result"
    }
   ],
   "source": [
    "EchoRequestHandler.__mro__[1]"
   ]
  },
  {
   "cell_type": "code",
   "execution_count": 7,
   "id": "9908b99c-b234-4088-912e-1b4cef553b89",
   "metadata": {
    "tags": []
   },
   "outputs": [
    {
     "data": {
      "text/plain": [
       "('localhost', 6942)"
      ]
     },
     "execution_count": 7,
     "metadata": {},
     "output_type": "execute_result"
    }
   ],
   "source": [
    "MASTER_HOST, MASTER_PORT"
   ]
  },
  {
   "cell_type": "markdown",
   "id": "71c813a4-ec16-4438-882f-1dd4320e384e",
   "metadata": {},
   "source": [
    "Create a TCP server with multiple threads using the `EchoRequestHandler` that runs indefinitely\n",
    "\n",
    "**Hint**: context manager"
   ]
  },
  {
   "cell_type": "code",
   "execution_count": null,
   "id": "ab168505-9f60-4f27-861e-7d2e61ef9a97",
   "metadata": {
    "tags": []
   },
   "outputs": [
    {
     "name": "stdout",
     "output_type": "stream",
     "text": [
      "Echo server started on port 9999\n"
     ]
    }
   ],
   "source": [
    "with socketserver.ThreadingTCPServer((MASTER_HOST, MASTER_PORT), EchoRequestHandler) as server:\n",
    "    print(\"Echo server started on port 9999\")\n",
    "    server.serve_forever()"
   ]
  },
  {
   "cell_type": "markdown",
   "id": "7c2d60f3-eb60-4b5c-8121-a0dc6e3f504f",
   "metadata": {},
   "source": [
    "##### Example 2"
   ]
  },
  {
   "cell_type": "code",
   "execution_count": 11,
   "id": "896d04a9-6bba-4e2e-a0e9-8a7e1d8a2c04",
   "metadata": {
    "tags": []
   },
   "outputs": [],
   "source": [
    "import socketserver"
   ]
  },
  {
   "cell_type": "markdown",
   "id": "4174bc0b-0a91-42c6-9617-74a5c81cb6ae",
   "metadata": {},
   "source": [
    "Create a handler for stream requests in a socket server that does nothing when it receives a message from another computer."
   ]
  },
  {
   "cell_type": "code",
   "execution_count": 12,
   "id": "cd154565-7e7f-4a83-9aa4-13e6a8a6cdea",
   "metadata": {
    "tags": []
   },
   "outputs": [],
   "source": [
    "class EchoRequestHandler(socketserver.StreamRequestHandler):\n",
    "    def handle(): pass"
   ]
  },
  {
   "cell_type": "code",
   "execution_count": 13,
   "id": "f42d5e02-ee0a-4142-9c29-b32544f6a2fc",
   "metadata": {
    "tags": []
   },
   "outputs": [
    {
     "data": {
      "text/plain": [
       "__main__.EchoRequestHandler"
      ]
     },
     "execution_count": 13,
     "metadata": {},
     "output_type": "execute_result"
    }
   ],
   "source": [
    "EchoRequestHandler"
   ]
  },
  {
   "cell_type": "markdown",
   "id": "9ec07135-e549-4811-9688-d9bd5f7a6363",
   "metadata": {},
   "source": [
    "##### Example 3"
   ]
  },
  {
   "cell_type": "code",
   "execution_count": 11,
   "id": "7148819b-d10d-4f5f-885e-01142d7631bf",
   "metadata": {
    "tags": []
   },
   "outputs": [],
   "source": [
    "import socketserver"
   ]
  },
  {
   "cell_type": "markdown",
   "id": "f75af06c-4fbc-4d31-bf87-d1a41d7ca830",
   "metadata": {},
   "source": [
    "Create a handler for stream requests in a socket server that prints the received message.\n",
    "\n",
    "**Hint**: `.readline()`"
   ]
  },
  {
   "cell_type": "code",
   "execution_count": 12,
   "id": "27e03cf1-a9a3-4ff6-8797-43edc785bee7",
   "metadata": {
    "tags": []
   },
   "outputs": [],
   "source": [
    "class EchoRequestHandler(socketserver.StreamRequestHandler):\n",
    "    def handle(self):\n",
    "        # reading from the socket\n",
    "        data = self.rfile.readline()\n",
    "        print(f\"Received {data}\")"
   ]
  },
  {
   "cell_type": "code",
   "execution_count": 13,
   "id": "042495dc-0abf-48e4-9d45-6f57fb83b218",
   "metadata": {
    "tags": []
   },
   "outputs": [
    {
     "data": {
      "text/plain": [
       "__main__.EchoRequestHandler"
      ]
     },
     "execution_count": 13,
     "metadata": {},
     "output_type": "execute_result"
    }
   ],
   "source": [
    "EchoRequestHandler"
   ]
  },
  {
   "cell_type": "markdown",
   "id": "8f6f9c69-099d-4b18-ac3e-5de247d9f6ff",
   "metadata": {},
   "source": [
    "##### Example 3"
   ]
  },
  {
   "cell_type": "code",
   "execution_count": 1,
   "id": "8cf291e3-5627-463e-911e-6a117cc3ded8",
   "metadata": {
    "tags": []
   },
   "outputs": [],
   "source": [
    "import socket"
   ]
  },
  {
   "cell_type": "code",
   "execution_count": 3,
   "id": "79a6ef72-6232-4df6-b2a9-1167777c2242",
   "metadata": {
    "tags": []
   },
   "outputs": [],
   "source": [
    "FAMILY = socket.AF_INET"
   ]
  },
  {
   "cell_type": "code",
   "execution_count": 4,
   "id": "ab371e9c-8a57-420a-ab43-ed88c9fc2bf2",
   "metadata": {
    "tags": []
   },
   "outputs": [],
   "source": [
    "PROTOCOL = socket.SOCK_STREAM"
   ]
  },
  {
   "cell_type": "code",
   "execution_count": 2,
   "id": "11605dfb-68a5-4ff1-a592-5aa69480e389",
   "metadata": {
    "tags": []
   },
   "outputs": [
    {
     "data": {
      "text/plain": [
       "<AddressFamily.AF_INET: 2>"
      ]
     },
     "execution_count": 2,
     "metadata": {},
     "output_type": "execute_result"
    }
   ],
   "source": [
    "socket.socket()"
   ]
  },
  {
   "cell_type": "code",
   "execution_count": null,
   "id": "fab4d20a-76be-449c-ac80-7d0be1cc46b8",
   "metadata": {},
   "outputs": [],
   "source": []
  },
  {
   "cell_type": "code",
   "execution_count": null,
   "id": "89267f64-7812-413d-b614-57bd14b1cb35",
   "metadata": {},
   "outputs": [],
   "source": []
  },
  {
   "cell_type": "code",
   "execution_count": null,
   "id": "24f03288-d567-4bd0-b8f6-5bc0faff7cd5",
   "metadata": {},
   "outputs": [],
   "source": []
  },
  {
   "cell_type": "code",
   "execution_count": 3,
   "id": "11aa9f42-aeb2-4c39-958f-1b98234f7c53",
   "metadata": {
    "tags": []
   },
   "outputs": [
    {
     "name": "stdout",
     "output_type": "stream",
     "text": [
      "Received b'Hello, server\\n'\n"
     ]
    }
   ],
   "source": [
    "import socket\n",
    "\n",
    "with socket.socket(socket.AF_INET, socket.SOCK_STREAM) as s:\n",
    "    s.connect((\"localhost\", 9999))\n",
    "    s.sendall(b'Hello, server\\n')\n",
    "    data = s.recv(1024)\n",
    "\n",
    "print('Received', repr(data))\n"
   ]
  },
  {
   "cell_type": "code",
   "execution_count": 2,
   "id": "d3437464-ac11-4704-a39a-66555440b03f",
   "metadata": {
    "tags": []
   },
   "outputs": [
    {
     "ename": "OSError",
     "evalue": "[Errno 48] Address already in use",
     "output_type": "error",
     "traceback": [
      "\u001b[0;31m---------------------------------------------------------------------------\u001b[0m",
      "\u001b[0;31mOSError\u001b[0m                                   Traceback (most recent call last)",
      "Cell \u001b[0;32mIn[2], line 10\u001b[0m\n\u001b[1;32m      7\u001b[0m port \u001b[38;5;241m=\u001b[39m \u001b[38;5;241m12345\u001b[39m\n\u001b[1;32m      9\u001b[0m \u001b[38;5;66;03m# Bind to the port\u001b[39;00m\n\u001b[0;32m---> 10\u001b[0m \u001b[43mserver_socket\u001b[49m\u001b[38;5;241;43m.\u001b[39;49m\u001b[43mbind\u001b[49m\u001b[43m(\u001b[49m\u001b[43m(\u001b[49m\u001b[38;5;124;43m'\u001b[39;49m\u001b[38;5;124;43m'\u001b[39;49m\u001b[43m,\u001b[49m\u001b[43m \u001b[49m\u001b[43mport\u001b[49m\u001b[43m)\u001b[49m\u001b[43m)\u001b[49m\n\u001b[1;32m     12\u001b[0m \u001b[38;5;66;03m# Put the socket into listening mode\u001b[39;00m\n\u001b[1;32m     13\u001b[0m server_socket\u001b[38;5;241m.\u001b[39mlisten(\u001b[38;5;241m1\u001b[39m)\n",
      "\u001b[0;31mOSError\u001b[0m: [Errno 48] Address already in use"
     ]
    }
   ],
   "source": [
    "import socket\n",
    "\n",
    "# Create a socket object\n",
    "server_socket = socket.socket(socket.AF_INET, socket.SOCK_STREAM)\n",
    "\n",
    "# Define the port on which you want to connect\n",
    "port = 12345\n",
    "\n",
    "# Bind to the port\n",
    "server_socket.bind(('', port))\n",
    "\n",
    "# Put the socket into listening mode\n",
    "server_socket.listen(1)\n",
    "print(\"Server is listening\")\n",
    "\n",
    "# Establish connection with client.\n",
    "client_socket, addr = server_socket.accept()\n",
    "print(f\"Got connection from {addr}\")\n",
    "\n",
    "# Receive data from the client\n",
    "data = client_socket.recv(1024)\n",
    "print(f\"Received: {data.decode()}\")\n",
    "\n",
    "# Send a response message to the client\n",
    "client_socket.send(b'Thank you for connecting')\n",
    "\n",
    "# Close the connection with the client\n",
    "client_socket.close()\n"
   ]
  },
  {
   "cell_type": "code",
   "execution_count": null,
   "id": "1b43f2ac-9782-4fba-aa1c-eb0380f57e51",
   "metadata": {},
   "outputs": [],
   "source": []
  }
 ],
 "metadata": {
  "kernelspec": {
   "display_name": "Python 3 (ipykernel)",
   "language": "python",
   "name": "python3"
  },
  "language_info": {
   "codemirror_mode": {
    "name": "ipython",
    "version": 3
   },
   "file_extension": ".py",
   "mimetype": "text/x-python",
   "name": "python",
   "nbconvert_exporter": "python",
   "pygments_lexer": "ipython3",
   "version": "3.8.16"
  }
 },
 "nbformat": 4,
 "nbformat_minor": 5
}
