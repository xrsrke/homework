{
 "cells": [
  {
   "cell_type": "markdown",
   "id": "54e3d076-db0c-4829-9509-b334108319de",
   "metadata": {},
   "source": [
    "##### Example 1"
   ]
  },
  {
   "cell_type": "markdown",
   "id": "a748e96b-cd28-4cdb-99b1-03ac794e6733",
   "metadata": {},
   "source": [
    "Write a decorator as shown below and make it preserves the function's metadata, such as its docstring"
   ]
  },
  {
   "cell_type": "code",
   "execution_count": 21,
   "id": "2a09b62d-52c9-4fa4-b195-526d51aa0dc0",
   "metadata": {
    "tags": []
   },
   "outputs": [],
   "source": [
    "import functools"
   ]
  },
  {
   "cell_type": "code",
   "execution_count": 22,
   "id": "db34d340-dfea-4226-b458-c6230eabd9ee",
   "metadata": {
    "tags": []
   },
   "outputs": [],
   "source": [
    "def my_decorator(func):\n",
    "    @functools.wraps(func)\n",
    "    def wrapper():\n",
    "        print(\"Before calling the function\")\n",
    "        result = func()\n",
    "        print(\"After calling the function\")\n",
    "        return result\n",
    "    return wrapper"
   ]
  },
  {
   "cell_type": "code",
   "execution_count": 23,
   "id": "43dc57a1-80d6-4df9-bb54-b99c57c9abf8",
   "metadata": {
    "tags": []
   },
   "outputs": [],
   "source": [
    "@my_decorator\n",
    "def my_function():\n",
    "    \"\"\"This is my function\"\"\"\n",
    "    print(\"Inside the function\")"
   ]
  },
  {
   "cell_type": "code",
   "execution_count": 24,
   "id": "d59de3aa-d6a8-4eb6-a4d9-67ecfe772dad",
   "metadata": {
    "tags": []
   },
   "outputs": [
    {
     "name": "stdout",
     "output_type": "stream",
     "text": [
      "Before calling the function\n",
      "Inside the function\n",
      "After calling the function\n"
     ]
    }
   ],
   "source": [
    "my_function()"
   ]
  },
  {
   "cell_type": "code",
   "execution_count": 25,
   "id": "ff3a1aed-5b9d-4a30-9447-bb469228bb83",
   "metadata": {
    "tags": []
   },
   "outputs": [
    {
     "name": "stdout",
     "output_type": "stream",
     "text": [
      "This is my function\n"
     ]
    }
   ],
   "source": [
    "print(my_function.__doc__)"
   ]
  },
  {
   "cell_type": "code",
   "execution_count": null,
   "id": "5402b7f2-6fd6-41a1-b0ab-8a58d181359a",
   "metadata": {},
   "outputs": [],
   "source": []
  },
  {
   "cell_type": "code",
   "execution_count": null,
   "id": "eda7ad68-0c83-4c8d-8a8f-f07a61794d42",
   "metadata": {},
   "outputs": [],
   "source": []
  }
 ],
 "metadata": {
  "kernelspec": {
   "display_name": "Python 3 (ipykernel)",
   "language": "python",
   "name": "python3"
  },
  "language_info": {
   "codemirror_mode": {
    "name": "ipython",
    "version": 3
   },
   "file_extension": ".py",
   "mimetype": "text/x-python",
   "name": "python",
   "nbconvert_exporter": "python",
   "pygments_lexer": "ipython3",
   "version": "3.8.16"
  }
 },
 "nbformat": 4,
 "nbformat_minor": 5
}
