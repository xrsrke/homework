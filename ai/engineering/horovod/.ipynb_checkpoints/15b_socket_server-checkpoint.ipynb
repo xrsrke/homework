{
 "cells": [
  {
   "cell_type": "markdown",
   "id": "b7104292-9663-4baa-949b-5653a8c90ff8",
   "metadata": {},
   "source": [
    "### SocketServer"
   ]
  },
  {
   "cell_type": "markdown",
   "id": "78eaf39e-d947-4dd6-9954-7374b949a5c5",
   "metadata": {},
   "source": [
    "##### Example 1"
   ]
  },
  {
   "cell_type": "code",
   "execution_count": null,
   "id": "b3c46974-5adb-4eb6-8247-8ed9104a4097",
   "metadata": {
    "tags": []
   },
   "outputs": [
    {
     "name": "stdout",
     "output_type": "stream",
     "text": [
      "Echo server started on port 9999\n",
      "Received b'Hello, server\\n'\n"
     ]
    }
   ],
   "source": [
    "import socketserver\n",
    "\n",
    "class EchoRequestHandler(socketserver.StreamRequestHandler):\n",
    "    def handle(self):\n",
    "        # self.rfile is a file-like object for reading from the socket\n",
    "        # data = self.rfile.readline().strip()\n",
    "        data = self.rfile\n",
    "        print(f\"Received {data} from {self.client_address}\")\n",
    "\n",
    "        # self.wfile is a file-like object for writing to the socket\n",
    "        # self.wfile.write(data + b'\\yay')\n",
    "        self.wfile.write(b'\\n your mom')\n",
    "\n",
    "if __name__ == \"__main__\":\n",
    "    with socketserver.ThreadingTCPServer((\"localhost\", 9999), EchoRequestHandler) as server:\n",
    "        print(\"Echo server started on port 9999\")\n",
    "        server.serve_forever()\n"
   ]
  },
  {
   "cell_type": "code",
   "execution_count": 1,
   "id": "a6280d24-4a1c-4a78-8ef7-93eeb2c118d7",
   "metadata": {},
   "outputs": [
    {
     "ename": "ConnectionRefusedError",
     "evalue": "[Errno 61] Connection refused",
     "output_type": "error",
     "traceback": [
      "\u001b[0;31m---------------------------------------------------------------------------\u001b[0m",
      "\u001b[0;31mConnectionRefusedError\u001b[0m                    Traceback (most recent call last)",
      "Cell \u001b[0;32mIn[1], line 13\u001b[0m\n\u001b[1;32m     10\u001b[0m port \u001b[38;5;241m=\u001b[39m \u001b[38;5;241m12345\u001b[39m\n\u001b[1;32m     12\u001b[0m \u001b[38;5;66;03m# Connect to the server\u001b[39;00m\n\u001b[0;32m---> 13\u001b[0m \u001b[43mclient_socket\u001b[49m\u001b[38;5;241;43m.\u001b[39;49m\u001b[43mconnect\u001b[49m\u001b[43m(\u001b[49m\u001b[43m(\u001b[49m\u001b[43mhost\u001b[49m\u001b[43m,\u001b[49m\u001b[43m \u001b[49m\u001b[43mport\u001b[49m\u001b[43m)\u001b[49m\u001b[43m)\u001b[49m\n\u001b[1;32m     15\u001b[0m \u001b[38;5;66;03m# Send some data to the server\u001b[39;00m\n\u001b[1;32m     16\u001b[0m client_socket\u001b[38;5;241m.\u001b[39msend(\u001b[38;5;124mb\u001b[39m\u001b[38;5;124m'\u001b[39m\u001b[38;5;124mHello, server!\u001b[39m\u001b[38;5;124m'\u001b[39m)\n",
      "\u001b[0;31mConnectionRefusedError\u001b[0m: [Errno 61] Connection refused"
     ]
    }
   ],
   "source": [
    "import socket\n",
    "\n",
    "# Create a socket object\n",
    "client_socket = socket.socket(socket.AF_INET, socket.SOCK_STREAM)\n",
    "\n",
    "# Get local machine name\n",
    "host = socket.gethostname()\n",
    "\n",
    "# Define the port on which you want to connect\n",
    "port = 12345\n",
    "\n",
    "# Connect to the server\n",
    "client_socket.connect((host, port))\n",
    "\n",
    "# Send some data to the server\n",
    "client_socket.send(b'Hello, server!')\n",
    "\n",
    "# Receive the response\n",
    "print(client_socket.recv(1024).decode())\n",
    "\n",
    "# Close the connection\n",
    "client_socket.close()\n"
   ]
  },
  {
   "cell_type": "markdown",
   "id": "4936c893-7d05-448b-8928-c67f3ce4da1d",
   "metadata": {},
   "source": [
    "### Notification Service"
   ]
  },
  {
   "cell_type": "markdown",
   "id": "37590eb1-f53d-4c2d-83e0-6f0ab372c368",
   "metadata": {},
   "source": [
    "##### Example 1"
   ]
  },
  {
   "cell_type": "code",
   "execution_count": 2,
   "id": "cb3aedca-2393-429e-9e30-afede59c7eb4",
   "metadata": {
    "tags": []
   },
   "outputs": [],
   "source": [
    "import socketserver"
   ]
  },
  {
   "cell_type": "code",
   "execution_count": 17,
   "id": "db27b0c4-4ffc-4495-ae7a-24c5fbc5eaa3",
   "metadata": {
    "tags": []
   },
   "outputs": [],
   "source": [
    "def find_port(server_factory):\n",
    "    min_port = 1024\n",
    "    max_port = 65536\n",
    "\n",
    "    for port in range(min_port, max_port):\n",
    "        try:\n",
    "            addr = ('', port)\n",
    "            server = server_factory(addr)\n",
    "            return server, port\n",
    "        except Exception:\n",
    "            continue"
   ]
  },
  {
   "cell_type": "code",
   "execution_count": 20,
   "id": "f763fbc9-bcd5-4898-8010-0d5b581ea0c7",
   "metadata": {
    "tags": []
   },
   "outputs": [],
   "source": [
    "def hello(): pass"
   ]
  },
  {
   "cell_type": "code",
   "execution_count": 22,
   "id": "3b37b5aa-cfae-4ffd-9187-c1fae519b6f0",
   "metadata": {
    "tags": []
   },
   "outputs": [],
   "source": [
    "server, port = find_port(lambda addr: socketserver.ThreadingTCPServer(addr, hello))"
   ]
  },
  {
   "cell_type": "code",
   "execution_count": 25,
   "id": "24492cb8-da4d-43eb-bafb-fe978b2769a3",
   "metadata": {
    "tags": []
   },
   "outputs": [
    {
     "data": {
      "text/plain": [
       "1024"
      ]
     },
     "execution_count": 25,
     "metadata": {},
     "output_type": "execute_result"
    }
   ],
   "source": [
    "port"
   ]
  },
  {
   "cell_type": "code",
   "execution_count": null,
   "id": "3777af62-fb1e-44e1-a925-280225bf6edd",
   "metadata": {},
   "outputs": [],
   "source": []
  }
 ],
 "metadata": {
  "kernelspec": {
   "display_name": "Python 3 (ipykernel)",
   "language": "python",
   "name": "python3"
  },
  "language_info": {
   "codemirror_mode": {
    "name": "ipython",
    "version": 3
   },
   "file_extension": ".py",
   "mimetype": "text/x-python",
   "name": "python",
   "nbconvert_exporter": "python",
   "pygments_lexer": "ipython3",
   "version": "3.8.16"
  }
 },
 "nbformat": 4,
 "nbformat_minor": 5
}
