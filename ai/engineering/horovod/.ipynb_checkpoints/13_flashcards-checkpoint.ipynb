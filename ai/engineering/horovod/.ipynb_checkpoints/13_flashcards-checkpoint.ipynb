{
 "cells": [
  {
   "cell_type": "markdown",
   "id": "bdc02e7d-ce47-4682-8cef-7d5e4e142005",
   "metadata": {},
   "source": [
    "# 13. Driver of elastic training"
   ]
  },
  {
   "cell_type": "code",
   "execution_count": null,
   "id": "48d3cd37-2aed-44a8-b3e2-c5791a3bf885",
   "metadata": {},
   "outputs": [],
   "source": []
  }
 ],
 "metadata": {
  "kernelspec": {
   "display_name": "Python 3 (ipykernel)",
   "language": "python",
   "name": "python3"
  },
  "language_info": {
   "codemirror_mode": {
    "name": "ipython",
    "version": 3
   },
   "file_extension": ".py",
   "mimetype": "text/x-python",
   "name": "python",
   "nbconvert_exporter": "python",
   "pygments_lexer": "ipython3",
   "version": "3.8.16"
  }
 },
 "nbformat": 4,
 "nbformat_minor": 5
}
