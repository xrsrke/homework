{
 "cells": [
  {
   "cell_type": "markdown",
   "id": "0d22fff2-e79e-4538-8c06-3cc1d52f2cfd",
   "metadata": {},
   "source": [
    "##### Example 0.1"
   ]
  },
  {
   "cell_type": "code",
   "execution_count": 1,
   "id": "ac2992fb-16bb-4b34-a791-07595b68411a",
   "metadata": {
    "tags": []
   },
   "outputs": [],
   "source": [
    "class CustomError(Exception):\n",
    "    pass"
   ]
  },
  {
   "cell_type": "code",
   "execution_count": 2,
   "id": "304cb35f-1a40-4fe3-89c8-e55fd9775d7a",
   "metadata": {
    "tags": []
   },
   "outputs": [],
   "source": [
    "def run_me():\n",
    "    raise CustomError(\"This is a custom error.\")"
   ]
  },
  {
   "cell_type": "markdown",
   "id": "aa9519a7-8141-4595-92d7-ae266cff980e",
   "metadata": {},
   "source": [
    "Execute the function run_me and catch the error without explicitly specifying the `CustomError`."
   ]
  },
  {
   "cell_type": "code",
   "execution_count": 5,
   "id": "5730e6bf-d581-4001-b38e-88b9da133728",
   "metadata": {
    "tags": []
   },
   "outputs": [],
   "source": [
    "# try:\n",
    "#     run_me()\n",
    "# except UnknownError as e:\n",
    "#     print(\"catched\")"
   ]
  },
  {
   "cell_type": "markdown",
   "id": "1bed1c25-3be5-4671-81f8-4a31b9947bd7",
   "metadata": {},
   "source": [
    "##### Example 1"
   ]
  },
  {
   "cell_type": "code",
   "execution_count": null,
   "id": "3acf600a-7184-41ce-8239-ea96bca73dcf",
   "metadata": {},
   "outputs": [],
   "source": [
    "def run_in_fault_tolerance(func):\n",
    "    def wrapper(*args, **kwargs):\n",
    "        try:\n",
    "            return func(*args, **kwargs)\n",
    "        except Un:\n",
    "            "
   ]
  }
 ],
 "metadata": {
  "kernelspec": {
   "display_name": "Python 3 (ipykernel)",
   "language": "python",
   "name": "python3"
  },
  "language_info": {
   "codemirror_mode": {
    "name": "ipython",
    "version": 3
   },
   "file_extension": ".py",
   "mimetype": "text/x-python",
   "name": "python",
   "nbconvert_exporter": "python",
   "pygments_lexer": "ipython3",
   "version": "3.8.16"
  }
 },
 "nbformat": 4,
 "nbformat_minor": 5
}
