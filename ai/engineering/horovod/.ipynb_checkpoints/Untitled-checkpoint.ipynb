{
 "cells": [
  {
   "cell_type": "code",
   "execution_count": 2,
   "id": "06690dd2-c42d-4025-9390-e3e7731bba2b",
   "metadata": {
    "tags": []
   },
   "outputs": [
    {
     "name": "stdout",
     "output_type": "stream",
     "text": [
      "Received b''\n"
     ]
    }
   ],
   "source": [
    "import socket\n",
    "\n",
    "with socket.socket(socket.AF_INET, socket.SOCK_STREAM) as s:\n",
    "    s.connect((\"localhost\", 9999))\n",
    "    s.sendall(b'Hello, server\\n')\n",
    "    data = s.recv(1024)\n",
    "\n",
    "print('Received', repr(data))\n"
   ]
  },
  {
   "cell_type": "code",
   "execution_count": null,
   "id": "78c38332-2a3a-4a1a-8339-340fc6ef94ab",
   "metadata": {
    "tags": []
   },
   "outputs": [],
   "source": [
    "import socketserver\n",
    "\n",
    "class EchoRequestHandler(socketserver.StreamRequestHandler):\n",
    "    \"\"\"\n",
    "    The request handler class for our server.\n",
    "    \"\"\"\n",
    "    def handle(self):\n",
    "        # self.rfile is a file-like object for reading from the socket\n",
    "        data = self.rfile.readline().strip()\n",
    "        print(f\"{self.client_address[0]} wrote: {data}\")\n",
    "        \n",
    "        # self.wfile is a file-like object for writing to the socket\n",
    "        self.wfile.write(data)\n",
    "\n",
    "if __name__ == \"__main__\":\n",
    "    HOST, PORT = \"localhost\", 9999\n",
    "\n",
    "    # Create the server, binding to localhost on port 9999\n",
    "    with socketserver.ThreadingTCPServer((HOST, PORT), EchoRequestHandler) as server:\n",
    "        # Activate the server; this will keep running until you\n",
    "        # interrupt the program with Ctrl-C\n",
    "        server.serve_forever()\n"
   ]
  },
  {
   "cell_type": "code",
   "execution_count": null,
   "id": "58b82868-6b58-47b5-8ebe-94e55c55db47",
   "metadata": {},
   "outputs": [],
   "source": []
  }
 ],
 "metadata": {
  "kernelspec": {
   "display_name": "Python 3 (ipykernel)",
   "language": "python",
   "name": "python3"
  },
  "language_info": {
   "codemirror_mode": {
    "name": "ipython",
    "version": 3
   },
   "file_extension": ".py",
   "mimetype": "text/x-python",
   "name": "python",
   "nbconvert_exporter": "python",
   "pygments_lexer": "ipython3",
   "version": "3.8.16"
  }
 },
 "nbformat": 4,
 "nbformat_minor": 5
}
