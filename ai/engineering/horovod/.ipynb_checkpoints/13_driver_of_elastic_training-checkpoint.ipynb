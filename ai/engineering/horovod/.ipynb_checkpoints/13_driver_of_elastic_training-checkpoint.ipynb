{
 "cells": [
  {
   "cell_type": "code",
   "execution_count": 1,
   "id": "70e0783d-bda5-4acd-b550-ace92e5fd4c5",
   "metadata": {
    "tags": []
   },
   "outputs": [],
   "source": [
    "import threading"
   ]
  },
  {
   "cell_type": "code",
   "execution_count": 4,
   "id": "f1769ebd-5ce7-4a94-b27d-9c2c203988ff",
   "metadata": {
    "tags": []
   },
   "outputs": [],
   "source": [
    "class ElasticDriver:\n",
    "    def __init__(self, discovery):\n",
    "        self.shutdown = threading.Event()\n",
    "        \n",
    "        self.host_manager = HostManager(discovery)\n",
    "        self.discovery_thread = threading.Thread(\n",
    "            target=self.discovery_host,\n",
    "            daemon=True\n",
    "        )\n",
    "        self.discovery_thread.start()\n",
    "        self.wait_discover_host = threading.Condition()\n",
    "        \n",
    "    def discover_host(self):\n",
    "        while not self._shutdown.is_set():\n",
    "            self.wait_discover_host.acquire() \n",
    "            \n",
    "            try:\n",
    "                updates = "
   ]
  },
  {
   "cell_type": "code",
   "execution_count": null,
   "id": "d5508aa1-107b-474b-8a2c-a3330d502a38",
   "metadata": {},
   "outputs": [],
   "source": []
  }
 ],
 "metadata": {
  "kernelspec": {
   "display_name": "Python 3 (ipykernel)",
   "language": "python",
   "name": "python3"
  },
  "language_info": {
   "codemirror_mode": {
    "name": "ipython",
    "version": 3
   },
   "file_extension": ".py",
   "mimetype": "text/x-python",
   "name": "python",
   "nbconvert_exporter": "python",
   "pygments_lexer": "ipython3",
   "version": "3.8.16"
  }
 },
 "nbformat": 4,
 "nbformat_minor": 5
}
