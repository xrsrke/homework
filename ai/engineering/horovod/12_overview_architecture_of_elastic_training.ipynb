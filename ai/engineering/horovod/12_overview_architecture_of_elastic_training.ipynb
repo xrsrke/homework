{
 "cells": [
  {
   "cell_type": "markdown",
   "id": "79c67d19-8d58-4129-bb28-d6b913cc6ec9",
   "metadata": {},
   "source": [
    "# 12. Overall architecture of elastic training"
   ]
  },
  {
   "cell_type": "code",
   "execution_count": null,
   "id": "dc063672-4999-42a6-bcb3-814d3beea165",
   "metadata": {},
   "outputs": [],
   "source": []
  }
 ],
 "metadata": {
  "kernelspec": {
   "display_name": "Python 3 (ipykernel)",
   "language": "python",
   "name": "python3"
  },
  "language_info": {
   "codemirror_mode": {
    "name": "ipython",
    "version": 3
   },
   "file_extension": ".py",
   "mimetype": "text/x-python",
   "name": "python",
   "nbconvert_exporter": "python",
   "pygments_lexer": "ipython3",
   "version": "3.8.16"
  }
 },
 "nbformat": 4,
 "nbformat_minor": 5
}
