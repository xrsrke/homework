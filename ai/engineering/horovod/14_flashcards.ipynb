{
 "cells": [
  {
   "cell_type": "markdown",
   "id": "e52b6ace-18fc-4b90-8b6f-704c3b14db32",
   "metadata": {},
   "source": [
    "##### Example 1"
   ]
  },
  {
   "cell_type": "code",
   "execution_count": 46,
   "id": "ee494296-324a-4ca1-8487-5756940bacf8",
   "metadata": {
    "tags": []
   },
   "outputs": [],
   "source": [
    "import threading\n",
    "import time"
   ]
  },
  {
   "cell_type": "markdown",
   "id": "efb96c20-ff18-4e50-bd50-6a848f82a693",
   "metadata": {
    "tags": []
   },
   "source": [
    "Launch a new worker and print \"Received the event\" only after calling `event.set()`."
   ]
  },
  {
   "cell_type": "code",
   "execution_count": 47,
   "id": "8fe7f9f2-20e1-4462-8a95-9a91d2306717",
   "metadata": {
    "tags": []
   },
   "outputs": [],
   "source": [
    "event = threading.Event()"
   ]
  },
  {
   "cell_type": "code",
   "execution_count": 48,
   "id": "50e77f7a-a615-4f10-b846-026636487e60",
   "metadata": {
    "tags": []
   },
   "outputs": [],
   "source": [
    "def worker():\n",
    "    print(\"Worker is waiting for the event to be set.\")\n",
    "    event.wait()\n",
    "    print(\"Received the event.\")"
   ]
  },
  {
   "cell_type": "code",
   "execution_count": 49,
   "id": "c2e88de5-9d2e-486a-9ee5-0a66698ea018",
   "metadata": {
    "tags": []
   },
   "outputs": [],
   "source": [
    "worker_thread = threading.Thread(target=worker)"
   ]
  },
  {
   "cell_type": "code",
   "execution_count": 50,
   "id": "6aaac110-7a29-4d4b-b101-58ef8482ffa2",
   "metadata": {
    "tags": []
   },
   "outputs": [
    {
     "data": {
      "text/plain": [
       "<threading.Event at 0x7fb1912fb580>"
      ]
     },
     "execution_count": 50,
     "metadata": {},
     "output_type": "execute_result"
    }
   ],
   "source": [
    "event"
   ]
  },
  {
   "cell_type": "code",
   "execution_count": 51,
   "id": "b8be5ea0-b0ff-4a78-ab45-ea95e6695f61",
   "metadata": {
    "tags": []
   },
   "outputs": [
    {
     "name": "stdout",
     "output_type": "stream",
     "text": [
      "Worker is waiting for the event to be set.\n",
      "Setting the event.\n",
      "Received the event.\n"
     ]
    }
   ],
   "source": [
    "worker_thread.start()\n",
    "\n",
    "time.sleep(3)\n",
    "print(\"Setting the event.\")\n",
    "event.set()"
   ]
  },
  {
   "cell_type": "markdown",
   "id": "88c47f69-26d6-46b2-b5b5-47357f7b9b59",
   "metadata": {},
   "source": [
    "##### Example 2"
   ]
  },
  {
   "cell_type": "code",
   "execution_count": 53,
   "id": "232c75e4-c218-4e7a-912b-cfc25440a981",
   "metadata": {
    "tags": []
   },
   "outputs": [],
   "source": [
    "# import threading\n",
    "\n",
    "# # Create a condition object\n",
    "# condition = threading.Condition()\n",
    "\n",
    "# # Shared resource\n",
    "# cond = []\n",
    "\n",
    "# def producer():\n",
    "#     with condition:\n",
    "#         # Wait for the condition to become true\n",
    "#         condition.wait()\n",
    "\n",
    "#         # Produce some data\n",
    "#         shared_resource.append(\"New data\")\n",
    "\n",
    "#         # Notify other threads that the condition has changed\n",
    "#         condition.notify()\n",
    "\n",
    "# def consumer():\n",
    "#     with condition:\n",
    "#         # Wait for the condition to become true\n",
    "#         condition.wait()\n",
    "\n",
    "#         # Consume the data\n",
    "#         data = shared_resource.pop()\n",
    "#         print(\"Consumed data:\", data)\n",
    "\n",
    "#         # Notify other threads that the condition has changed\n",
    "#         condition.notify()\n",
    "\n",
    "# # Create and start the producer and consumer threads\n",
    "# producer_thread = threading.Thread(target=producer)\n",
    "# consumer_thread = threading.Thread(target=consumer)\n",
    "# producer_thread.start()\n",
    "# consumer_thread.start()\n",
    "\n",
    "# # Signal the condition to wake up the threads\n",
    "# with condition:\n",
    "#     condition.notifyAll()\n"
   ]
  },
  {
   "cell_type": "markdown",
   "id": "54656800-1277-4ac0-96ee-a3c4b72983a6",
   "metadata": {},
   "source": [
    "##### Example 3"
   ]
  },
  {
   "cell_type": "code",
   "execution_count": 54,
   "id": "cb9c0eca-46ee-40eb-bdeb-0c1546a37faf",
   "metadata": {
    "tags": []
   },
   "outputs": [
    {
     "name": "stdout",
     "output_type": "stream",
     "text": [
      "Thread-1 trying to acquire lock...\n",
      "Thread-1 has lock.\n",
      "Thread-2 trying to acquire lock...\n",
      "Thread-1 released lock.Thread-2 has lock.\n",
      "\n",
      "Thread-2 released lock.\n"
     ]
    }
   ],
   "source": [
    "import threading\n",
    "import time\n",
    "\n",
    "cond = threading.Condition()\n",
    "\n",
    "def thread_function():\n",
    "    print(f\"{threading.current_thread().name} trying to acquire lock...\")\n",
    "    cond.acquire()\n",
    "    print(f\"{threading.current_thread().name} has lock.\")\n",
    "    time.sleep(2)\n",
    "    cond.release()\n",
    "    print(f\"{threading.current_thread().name} released lock.\")\n",
    "\n",
    "threading.Thread(target=thread_function, name=\"Thread-1\").start()\n",
    "threading.Thread(target=thread_function, name=\"Thread-2\").start()\n"
   ]
  },
  {
   "cell_type": "code",
   "execution_count": null,
   "id": "0218c6e0-7c56-473f-9ef3-d7db946e9392",
   "metadata": {
    "tags": []
   },
   "outputs": [
    {
     "name": "stdout",
     "output_type": "stream",
     "text": [
      "Generating data 0\n",
      "Generating data 1\n",
      "Consumed Data 1\n",
      "Generating data 2\n",
      "Consumed Data 2\n",
      "Generating data 3\n",
      "Consumed Data 3\n",
      "Generating data 4\n",
      "Consumed Data 4\n"
     ]
    }
   ],
   "source": [
    "import threading\n",
    "\n",
    "# Global variable used by both threads\n",
    "data = None\n",
    "\n",
    "# Create a Condition object\n",
    "cond = threading.Condition()\n",
    "\n",
    "def generator():\n",
    "    global data\n",
    "    for i in range(5):\n",
    "        with cond:\n",
    "            print(f\"Generating data {i}\")\n",
    "            data = f\"Data {i}\"\n",
    "            cond.notify()  # Notify the consumer that data is ready\n",
    "        time.sleep(1)  # Simulate time taken to generate data\n",
    "\n",
    "def consumer():\n",
    "    global data\n",
    "    while True:\n",
    "        with cond:\n",
    "            cond.wait()  # Wait for the notification from the generator\n",
    "            if data is not None:\n",
    "                print(f\"Consumed {data}\")\n",
    "                data = None  # Once consumed, set data back to None\n",
    "\n",
    "# Create the threads\n",
    "producer_thread = threading.Thread(target=generator)\n",
    "consumer_thread = threading.Thread(target=consumer)\n",
    "\n",
    "# Start the threads\n",
    "producer_thread.start()\n",
    "consumer_thread.start()\n",
    "\n",
    "# Wait for the threads to finish\n",
    "producer_thread.join()\n",
    "consumer_thread.join()\n"
   ]
  },
  {
   "cell_type": "markdown",
   "id": "e6b96b89-e3a1-4b4b-9172-c97add79bba9",
   "metadata": {},
   "source": [
    "##### Example 4"
   ]
  },
  {
   "cell_type": "code",
   "execution_count": 10,
   "id": "7379ee09-a5a0-480b-9dc5-00d6b6565d22",
   "metadata": {
    "tags": []
   },
   "outputs": [],
   "source": [
    "def print_numbers():\n",
    "    for i in range(3):\n",
    "        print(i)"
   ]
  },
  {
   "cell_type": "code",
   "execution_count": 30,
   "id": "65c31456-8afd-4521-8e21-5271c9fb7381",
   "metadata": {
    "tags": []
   },
   "outputs": [],
   "source": [
    "import threading"
   ]
  },
  {
   "cell_type": "code",
   "execution_count": 31,
   "id": "fbec55e6-1bcd-4ee1-a1bd-c3d511eaff5c",
   "metadata": {
    "tags": []
   },
   "outputs": [
    {
     "name": "stdout",
     "output_type": "stream",
     "text": [
      "0\n",
      "1\n",
      "2\n"
     ]
    }
   ],
   "source": [
    "print_numbers()"
   ]
  },
  {
   "cell_type": "markdown",
   "id": "310153cc-c021-4c16-bed9-0b9e59c26663",
   "metadata": {},
   "source": [
    "Create a lock, acquire it, call the function `print_numbers` using a new thread, and then release the lock using a context manager."
   ]
  },
  {
   "cell_type": "code",
   "execution_count": 32,
   "id": "6a4d1048-ce31-485e-9260-5c98b832c0b3",
   "metadata": {
    "tags": []
   },
   "outputs": [],
   "source": [
    "lock = threading.Lock()"
   ]
  },
  {
   "cell_type": "code",
   "execution_count": 33,
   "id": "bc4c3f3e-898e-4855-9d19-f0a75b615d95",
   "metadata": {
    "tags": []
   },
   "outputs": [],
   "source": [
    "def run_worker():\n",
    "    with lock:\n",
    "        print_numbers()"
   ]
  },
  {
   "cell_type": "code",
   "execution_count": 34,
   "id": "c7b8a994-0d92-4804-b9f6-3d60d00d474f",
   "metadata": {
    "tags": []
   },
   "outputs": [],
   "source": [
    "t1 = threading.Thread(target=run_worker)"
   ]
  },
  {
   "cell_type": "code",
   "execution_count": 35,
   "id": "f9ace5fd-6f76-40b0-8817-13ccbe7e0bdc",
   "metadata": {
    "tags": []
   },
   "outputs": [
    {
     "name": "stdout",
     "output_type": "stream",
     "text": [
      "0\n",
      "1\n",
      "2\n"
     ]
    }
   ],
   "source": [
    "t1.start()"
   ]
  },
  {
   "cell_type": "code",
   "execution_count": null,
   "id": "8dfe6f5c-7530-4cb1-855f-1999eb80ab40",
   "metadata": {},
   "outputs": [],
   "source": []
  },
  {
   "cell_type": "code",
   "execution_count": null,
   "id": "7098aae2-dedc-43c2-b0e4-69c9f14e5834",
   "metadata": {},
   "outputs": [],
   "source": []
  }
 ],
 "metadata": {
  "kernelspec": {
   "display_name": "Python 3 (ipykernel)",
   "language": "python",
   "name": "python3"
  },
  "language_info": {
   "codemirror_mode": {
    "name": "ipython",
    "version": 3
   },
   "file_extension": ".py",
   "mimetype": "text/x-python",
   "name": "python",
   "nbconvert_exporter": "python",
   "pygments_lexer": "ipython3",
   "version": "3.8.16"
  }
 },
 "nbformat": 4,
 "nbformat_minor": 5
}
