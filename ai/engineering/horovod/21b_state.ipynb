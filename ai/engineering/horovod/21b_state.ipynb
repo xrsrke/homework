{
 "cells": [
  {
   "cell_type": "markdown",
   "id": "5d8d0e22-d9f8-4b13-be23-95c57d3c6b08",
   "metadata": {},
   "source": [
    "##### Example 1"
   ]
  },
  {
   "cell_type": "code",
   "execution_count": 24,
   "id": "0451e773-70bc-4e36-9e45-4c938168a1ff",
   "metadata": {},
   "outputs": [],
   "source": [
    "import elasticgoose as goose\n",
    "from elasticgoose.state import get_handlers, get_handler_registry"
   ]
  },
  {
   "cell_type": "code",
   "execution_count": 27,
   "id": "5a149229-f7ce-4b87-ae2b-e548914bde1b",
   "metadata": {},
   "outputs": [],
   "source": [
    "model = nn.Sequential(nn.Linear(2, 2))"
   ]
  },
  {
   "cell_type": "code",
   "execution_count": 34,
   "id": "8cc63ec9-9561-4345-b14b-ec0bdb989df1",
   "metadata": {},
   "outputs": [],
   "source": [
    "from elasticgoose.state import get_handler_registry"
   ]
  },
  {
   "cell_type": "code",
   "execution_count": 35,
   "id": "a85fd009-7123-4dc5-bade-7d4264637733",
   "metadata": {},
   "outputs": [
    {
     "data": {
      "text/plain": [
       "({'model': <elasticgoose.state.ModelStateHandler at 0x7fea3a867790>},\n",
       " {'epoch': 0})"
      ]
     },
     "execution_count": 35,
     "metadata": {},
     "output_type": "execute_result"
    }
   ],
   "source": [
    "get_handlers({\"model\": model, \"epoch\": 0})"
   ]
  },
  {
   "cell_type": "markdown",
   "id": "bedea4b1-e105-4e7b-bb9a-e4bf5c331759",
   "metadata": {},
   "source": [
    "**[Horovod]**: Reimplement the synchronous state includes: `commit()` and `restore()`"
   ]
  },
  {
   "cell_type": "code",
   "execution_count": 36,
   "id": "63c1c521-f287-4cf7-ac5b-82576188f48a",
   "metadata": {},
   "outputs": [],
   "source": [
    "class RegularState:\n",
    "    def __init__(self, states):\n",
    "        self._saved_states = states\n",
    "        for key, value in self._saved_states.items():\n",
    "            setattr(self, key, value)\n",
    "\n",
    "    def commit(self):\n",
    "        new_states = {}\n",
    "        for key in self._saved_states.keys():\n",
    "            new_states[key] = getattr(self, key)\n",
    "        self._saved_states = new_states\n",
    "\n",
    "    def restore(self):\n",
    "        for key, value in self._saved_states.items():\n",
    "            setattr(self, key, value)"
   ]
  },
  {
   "cell_type": "code",
   "execution_count": 37,
   "id": "14cb0f30-79bd-4285-b92c-0267a3fdcc0a",
   "metadata": {},
   "outputs": [],
   "source": [
    "class State(RegularState):\n",
    "    \"\"\"A wrapper for state that can be synced across workers.\"\"\"\n",
    "    def __init__(self, model, optim, **kwargs):\n",
    "        kwargs.update({\"model\": model, \"optim\": optim})\n",
    "        handlers, regular_states = get_handlers(kwargs)\n",
    "\n",
    "        self._handlers = handlers\n",
    "        RegularState.__init__(self, states=regular_states)\n",
    "\n",
    "        for name, handler in self._handlers.items():\n",
    "            setattr(self, name, handler.value)\n",
    "\n",
    "    def commit(self):\n",
    "        for handler in self._handlers.values():\n",
    "            handler.commit()\n",
    "        RegularState.commit(self)\n",
    "\n",
    "    def restore(self):\n",
    "        for handler in self._handlers.values():\n",
    "            handler.restore()\n",
    "        RegularState.restore(self)"
   ]
  },
  {
   "cell_type": "markdown",
   "id": "03de7744-dbe5-4381-ad04-14423c1dc75f",
   "metadata": {},
   "source": [
    "##### Example 2"
   ]
  },
  {
   "cell_type": "code",
   "execution_count": 1,
   "id": "e91a1fd0-baea-4b95-a189-791367cf6c96",
   "metadata": {},
   "outputs": [
    {
     "name": "stdout",
     "output_type": "stream",
     "text": [
      "1\n"
     ]
    }
   ],
   "source": [
    "if not False:\n",
    "    print(1)"
   ]
  },
  {
   "cell_type": "code",
   "execution_count": 3,
   "id": "669b19f9-0554-463c-b379-c15fabc13033",
   "metadata": {
    "tags": []
   },
   "outputs": [],
   "source": [
    "import socket"
   ]
  },
  {
   "cell_type": "code",
   "execution_count": 5,
   "id": "e0d1330b-dbf3-4a5d-98c6-3475dc481a5b",
   "metadata": {
    "tags": []
   },
   "outputs": [
    {
     "data": {
      "text/plain": [
       "'127.0.0.1'"
      ]
     },
     "execution_count": 5,
     "metadata": {},
     "output_type": "execute_result"
    }
   ],
   "source": [
    "socket.gethostbyname(socket.gethostname())"
   ]
  },
  {
   "cell_type": "code",
   "execution_count": 6,
   "id": "f26bf2d6-2bca-4fa5-90dc-0af510cef414",
   "metadata": {
    "tags": []
   },
   "outputs": [
    {
     "name": "stdout",
     "output_type": "stream",
     "text": [
      "Hello, World!\n",
      "Hello, World!\n",
      "Nice to meet you.\n",
      "Hello, World!\n",
      "Nice to meet you.\n"
     ]
    }
   ],
   "source": [
    "import io\n",
    "\n",
    "# Creating a StringIO object\n",
    "s = io.StringIO()\n",
    "\n",
    "# Writing to it, just like a file\n",
    "s.write('Hello, World!')\n",
    "\n",
    "# To get the whole content of the \"file\":\n",
    "print(s.getvalue())  # prints: Hello, World!\n",
    "\n",
    "# It even behaves like a file and keeps track of the position in the \"file\"\n",
    "s.write('\\nNice to meet you.')\n",
    "print(s.getvalue())  # prints: Hello, World!\\nNice to meet you.\n",
    "\n",
    "# You can reset the \"position\" to the beginning of the \"file\" with seek\n",
    "s.seek(0)\n",
    "\n",
    "# And then read from it, just like you would with a file:\n",
    "print(s.read())  # prints: Hello, World!\\nNice to meet you.\n"
   ]
  },
  {
   "cell_type": "code",
   "execution_count": null,
   "id": "f3b2a0f3-d3a2-411b-a289-19c181bb585a",
   "metadata": {},
   "outputs": [],
   "source": []
  }
 ],
 "metadata": {
  "kernelspec": {
   "display_name": "Python 3 (ipykernel)",
   "language": "python",
   "name": "python3"
  },
  "language_info": {
   "codemirror_mode": {
    "name": "ipython",
    "version": 3
   },
   "file_extension": ".py",
   "mimetype": "text/x-python",
   "name": "python",
   "nbconvert_exporter": "python",
   "pygments_lexer": "ipython3",
   "version": "3.8.16"
  }
 },
 "nbformat": 4,
 "nbformat_minor": 5
}
