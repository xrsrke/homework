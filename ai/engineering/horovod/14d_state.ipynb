{
 "cells": [
  {
   "cell_type": "markdown",
   "id": "7dd21445-a46e-4263-8326-eaefb382cb40",
   "metadata": {},
   "source": [
    "### Handler"
   ]
  },
  {
   "cell_type": "code",
   "execution_count": 34,
   "id": "a33fbf45-5357-43dd-a3fd-4bd9f5f07a75",
   "metadata": {
    "tags": []
   },
   "outputs": [],
   "source": [
    "import copy"
   ]
  },
  {
   "cell_type": "code",
   "execution_count": 33,
   "id": "b2137d5e-90ac-476f-b3ad-1407fffd333e",
   "metadata": {
    "tags": []
   },
   "outputs": [],
   "source": [
    "class StateHandler:\n",
    "    def __init__(self, value):\n",
    "        self.value = value\n",
    "        \n",
    "    def save(self):\n",
    "        raise NotImplementedError()\n",
    "        \n",
    "    def restore(self):\n",
    "        raise NotImplementedError()\n",
    "    \n",
    "    def sync(self):\n",
    "        raise NotImplementedError()\n",
    "    \n",
    "    def set_value(self, value):\n",
    "        self.value = value\n",
    "        self.save()"
   ]
  },
  {
   "cell_type": "code",
   "execution_count": null,
   "id": "cbec381e-331d-4d0e-8e42-f3ff9f38b00c",
   "metadata": {},
   "outputs": [],
   "source": [
    "class ModelStateHandler(StateHandler):\n",
    "    def __init__(self, model):\n",
    "        super().__init__(value=model)\n",
    "        self.saved_model_state = "
   ]
  },
  {
   "cell_type": "markdown",
   "id": "521816b7-7b34-43b4-8011-22524037af94",
   "metadata": {},
   "source": [
    "### State"
   ]
  },
  {
   "cell_type": "code",
   "execution_count": 31,
   "id": "d9aa830e-09c1-4780-85cb-f7470835b47e",
   "metadata": {
    "tags": []
   },
   "outputs": [],
   "source": [
    "class ObjectState:\n",
    "    def __init__(self):\n",
    "        pass\n",
    "    \n",
    "    def save(self):\n",
    "        new_state = {}\n",
    "        for attr in self._saved_state().keys():\n",
    "            new_state"
   ]
  },
  {
   "cell_type": "code",
   "execution_count": 14,
   "id": "3df6a0a4-aa3f-47cf-be76-4dc2a4ecef4e",
   "metadata": {
    "tags": []
   },
   "outputs": [],
   "source": [
    "class TorchState:\n",
    "    def __init__(self, model, optimizer, **kwargs):\n",
    "        pass\n",
    "    \n",
    "    def save(self):\n",
    "        for handler in self._handler.values():\n",
    "            handler.save()\n",
    "        super().save()\n",
    "    \n",
    "    def restore(self):\n",
    "        for handler in self._handler.values():\n",
    "            handler.restore()\n",
    "        super().restores()\n",
    "    \n",
    "    def sync(self):\n",
    "        for handler in self._handler.values():\n",
    "            handler.sync()\n",
    "        super().sync()\n",
    "        "
   ]
  },
  {
   "cell_type": "code",
   "execution_count": 25,
   "id": "7e6ba3bb-33df-4985-8bb4-040df3a8ecfe",
   "metadata": {
    "tags": []
   },
   "outputs": [],
   "source": [
    "import torch"
   ]
  },
  {
   "cell_type": "code",
   "execution_count": 27,
   "id": "ab082e79-6643-42c1-ae1e-b2b7d0678a59",
   "metadata": {
    "tags": []
   },
   "outputs": [],
   "source": [
    "_handler_registry = [\n",
    "    (torch.nn.Module),\n",
    "    (torch.optim.Optimizer),\n",
    "    # (ElasticSampler, SamplerStateHandler),\n",
    "]\n",
    "\n",
    "\n",
    "def get_handler_registry():\n",
    "    return _handler_registry\n",
    "\n",
    "\n",
    "def set_handler_registry(registry):\n",
    "    global _handler_registry\n",
    "    _handler_registry = registry"
   ]
  },
  {
   "cell_type": "code",
   "execution_count": 28,
   "id": "fa6f87b2-181c-43ad-82b2-0d7ada4b6806",
   "metadata": {
    "tags": []
   },
   "outputs": [],
   "source": [
    "def _get_handler(v):\n",
    "    for handler_type, handler_cls in _handler_registry:\n",
    "        if isinstance(v, handler_type):\n",
    "            return handler_cls(v)\n",
    "    return None"
   ]
  },
  {
   "cell_type": "code",
   "execution_count": 29,
   "id": "2e6a8dca-7302-469b-bedd-20e3b87d7dee",
   "metadata": {
    "tags": []
   },
   "outputs": [],
   "source": [
    "def _get_handlers(kwargs):\n",
    "    handlers = {}\n",
    "    remainder = {}\n",
    "    for k, v in kwargs.items():\n",
    "        handler = _get_handler(v)\n",
    "        if handler:\n",
    "            handlers[k] = handler\n",
    "        else:\n",
    "            remainder[k] = v\n",
    "    return handlers, remainder"
   ]
  },
  {
   "cell_type": "code",
   "execution_count": 30,
   "id": "b48fede1-36fb-4941-852f-a0c71ac4ab01",
   "metadata": {
    "tags": []
   },
   "outputs": [
    {
     "ename": "TypeError",
     "evalue": "cannot unpack non-iterable type object",
     "output_type": "error",
     "traceback": [
      "\u001b[0;31m---------------------------------------------------------------------------\u001b[0m",
      "\u001b[0;31mTypeError\u001b[0m                                 Traceback (most recent call last)",
      "Cell \u001b[0;32mIn[30], line 1\u001b[0m\n\u001b[0;32m----> 1\u001b[0m \u001b[43m_get_handlers\u001b[49m\u001b[43m(\u001b[49m\u001b[43m{\u001b[49m\u001b[38;5;124;43m\"\u001b[39;49m\u001b[38;5;124;43ma\u001b[39;49m\u001b[38;5;124;43m\"\u001b[39;49m\u001b[43m:\u001b[49m\u001b[43m \u001b[49m\u001b[38;5;241;43m1\u001b[39;49m\u001b[43m,\u001b[49m\u001b[43m \u001b[49m\u001b[38;5;124;43m\"\u001b[39;49m\u001b[38;5;124;43mb\u001b[39;49m\u001b[38;5;124;43m\"\u001b[39;49m\u001b[43m:\u001b[49m\u001b[43m \u001b[49m\u001b[38;5;241;43m1\u001b[39;49m\u001b[43m}\u001b[49m\u001b[43m)\u001b[49m\n",
      "Cell \u001b[0;32mIn[29], line 5\u001b[0m, in \u001b[0;36m_get_handlers\u001b[0;34m(kwargs)\u001b[0m\n\u001b[1;32m      3\u001b[0m remainder \u001b[38;5;241m=\u001b[39m {}\n\u001b[1;32m      4\u001b[0m \u001b[38;5;28;01mfor\u001b[39;00m k, v \u001b[38;5;129;01min\u001b[39;00m kwargs\u001b[38;5;241m.\u001b[39mitems():\n\u001b[0;32m----> 5\u001b[0m     handler \u001b[38;5;241m=\u001b[39m \u001b[43m_get_handler\u001b[49m\u001b[43m(\u001b[49m\u001b[43mv\u001b[49m\u001b[43m)\u001b[49m\n\u001b[1;32m      6\u001b[0m     \u001b[38;5;28;01mif\u001b[39;00m handler:\n\u001b[1;32m      7\u001b[0m         handlers[k] \u001b[38;5;241m=\u001b[39m handler\n",
      "Cell \u001b[0;32mIn[28], line 2\u001b[0m, in \u001b[0;36m_get_handler\u001b[0;34m(v)\u001b[0m\n\u001b[1;32m      1\u001b[0m \u001b[38;5;28;01mdef\u001b[39;00m \u001b[38;5;21m_get_handler\u001b[39m(v):\n\u001b[0;32m----> 2\u001b[0m     \u001b[38;5;28;01mfor\u001b[39;00m handler_type, handler_cls \u001b[38;5;129;01min\u001b[39;00m _handler_registry:\n\u001b[1;32m      3\u001b[0m         \u001b[38;5;28;01mif\u001b[39;00m \u001b[38;5;28misinstance\u001b[39m(v, handler_type):\n\u001b[1;32m      4\u001b[0m             \u001b[38;5;28;01mreturn\u001b[39;00m handler_cls(v)\n",
      "\u001b[0;31mTypeError\u001b[0m: cannot unpack non-iterable type object"
     ]
    }
   ],
   "source": [
    "_get_handlers({\"a\": 1, \"b\": 1})"
   ]
  },
  {
   "cell_type": "code",
   "execution_count": null,
   "id": "c70ddf8c-5cf3-44c9-aee4-60eca260ba78",
   "metadata": {},
   "outputs": [],
   "source": []
  }
 ],
 "metadata": {
  "kernelspec": {
   "display_name": "Python 3 (ipykernel)",
   "language": "python",
   "name": "python3"
  },
  "language_info": {
   "codemirror_mode": {
    "name": "ipython",
    "version": 3
   },
   "file_extension": ".py",
   "mimetype": "text/x-python",
   "name": "python",
   "nbconvert_exporter": "python",
   "pygments_lexer": "ipython3",
   "version": "3.8.16"
  }
 },
 "nbformat": 4,
 "nbformat_minor": 5
}
