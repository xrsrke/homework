{
 "cells": [
  {
   "cell_type": "markdown",
   "id": "4583b698-ee4f-4c73-8e97-aec8146540a7",
   "metadata": {},
   "source": [
    "Source: https://nbviewer.org/github/tunib-ai/large-scale-lm-tutorials/blob/main/notebooks/03_distributed_programming.ipynb"
   ]
  },
  {
   "cell_type": "code",
   "execution_count": null,
   "id": "db2a935d-8902-46b6-a51b-ecaf169669a1",
   "metadata": {},
   "outputs": [],
   "source": [
    "import torch"
   ]
  },
  {
   "cell_type": "markdown",
   "id": "8580f12a-d01f-49ad-bdf6-1981a9f7f433",
   "metadata": {},
   "source": [
    "##### Example 1"
   ]
  },
  {
   "cell_type": "code",
   "execution_count": null,
   "id": "b3869f4b-b51e-4dd9-8433-5536671476f0",
   "metadata": {},
   "outputs": [],
   "source": [
    "def func(n):\n",
    "    print(f\"n={n}\")"
   ]
  },
  {
   "cell_type": "markdown",
   "id": "4255d878-b9a9-4e53-9ce2-5f73db4ef7d5",
   "metadata": {},
   "source": [
    "Execute the `func` function using Spawn method with four processors, where `n` represents the number of the processor"
   ]
  },
  {
   "cell_type": "markdown",
   "id": "629a7f67-a32f-4001-9c68-5df1c41a3cc5",
   "metadata": {},
   "source": [
    "**Hint**: Use `mp.set_start_method()`"
   ]
  },
  {
   "cell_type": "code",
   "execution_count": null,
   "id": "cbc031b9-3f29-49fc-aa1d-a2d2581c93f8",
   "metadata": {},
   "outputs": [],
   "source": [
    "import torch.multiprocessing as mp"
   ]
  },
  {
   "cell_type": "code",
   "execution_count": null,
   "id": "f0031bb6-edab-4eb8-af48-738b9e9c6185",
   "metadata": {},
   "outputs": [],
   "source": [
    "mp.set_start_method(\"spawn\")"
   ]
  },
  {
   "cell_type": "code",
   "execution_count": null,
   "id": "15ca752c-84c3-459d-a433-80d8757de8a9",
   "metadata": {},
   "outputs": [],
   "source": [
    "for n in range(4):\n",
    "    process = mp.Process(target=fn, args=(n))\n",
    "    process.start()"
   ]
  },
  {
   "cell_type": "code",
   "execution_count": null,
   "id": "1b814001-a50c-479d-8de6-124775cffaa7",
   "metadata": {},
   "outputs": [],
   "source": []
  },
  {
   "cell_type": "markdown",
   "id": "390505f1-eb81-4dcd-aaf7-c3ec0e452ae9",
   "metadata": {},
   "source": [
    "##### Example 2"
   ]
  },
  {
   "cell_type": "code",
   "execution_count": null,
   "id": "cbc32d4e-d560-4f54-8b4f-b73f290ed3c4",
   "metadata": {},
   "outputs": [],
   "source": [
    "import torch.multiprocessing as mp"
   ]
  },
  {
   "cell_type": "code",
   "execution_count": null,
   "id": "c61b893e-f2d0-4c9f-acb5-cadc98595283",
   "metadata": {},
   "outputs": [],
   "source": [
    "def fn(rank, param1, param2):\n",
    "    print(f\"{param1}, {param2} - rank: {rank}\")"
   ]
  },
  {
   "cell_type": "code",
   "execution_count": null,
   "id": "e152a82c-02c2-49f4-95a3-fe6c9cee3c59",
   "metadata": {},
   "outputs": [],
   "source": [
    "# mp.spawn(\n",
    "#     fn=fn,\n",
    "#     args=(\"A0\", \"B1\"),\n",
    "#     nprocs=4,\n",
    "#     join=True,\n",
    "#     daemon=True,\n",
    "#     start_method=\"spawn\"\n",
    "# )"
   ]
  },
  {
   "cell_type": "markdown",
   "id": "75abff03-2563-46ae-b5eb-bd60550036f0",
   "metadata": {},
   "source": [
    "##### Example 2.1"
   ]
  },
  {
   "cell_type": "code",
   "execution_count": null,
   "id": "0c7f7f45-4636-466b-a7ca-33e6678cef9c",
   "metadata": {},
   "outputs": [],
   "source": [
    "def say_hello():\n",
    "    print(\"hello world\")"
   ]
  },
  {
   "cell_type": "code",
   "execution_count": null,
   "id": "a0ceb7ad-0fe8-46b3-b03c-958b854eeeae",
   "metadata": {},
   "outputs": [
    {
     "name": "stdout",
     "output_type": "stream",
     "text": [
      "hello world\n"
     ]
    }
   ],
   "source": [
    "say_hello()"
   ]
  },
  {
   "cell_type": "code",
   "execution_count": null,
   "id": "6e52e961-d2c2-4476-982e-413491b17831",
   "metadata": {},
   "outputs": [],
   "source": [
    "world_size = 3"
   ]
  },
  {
   "cell_type": "markdown",
   "id": "f87b84f1-688a-4b4b-9e09-e4c9533c45fb",
   "metadata": {},
   "source": [
    "Run the function `say_hello` using three new processes"
   ]
  },
  {
   "cell_type": "code",
   "execution_count": null,
   "id": "208a8ffb-edf7-48b3-b5a9-6c47c8f00d87",
   "metadata": {},
   "outputs": [],
   "source": [
    "from torch.multiprocessing import Process"
   ]
  },
  {
   "cell_type": "code",
   "execution_count": null,
   "id": "d82d4a5d-0abe-4bad-865e-b0ff95bd105b",
   "metadata": {},
   "outputs": [],
   "source": [
    "for rank in range(world_size):\n",
    "    p = Process(target=say_hello)\n",
    "    p.start()"
   ]
  },
  {
   "cell_type": "markdown",
   "id": "74284239-1dec-46d0-b36f-509448a3b0db",
   "metadata": {},
   "source": [
    "##### Example 2.2"
   ]
  },
  {
   "cell_type": "code",
   "execution_count": null,
   "id": "a36c4fcb-ffae-4f05-be63-bdbe5446b8a6",
   "metadata": {},
   "outputs": [],
   "source": [
    "def say_hello(rank):\n",
    "    print(f\"hello from rank={rank}\")"
   ]
  },
  {
   "cell_type": "code",
   "execution_count": null,
   "id": "3f49cafb-4b7e-4aa6-bddb-8c3d4c48c41c",
   "metadata": {},
   "outputs": [
    {
     "name": "stdout",
     "output_type": "stream",
     "text": [
      "hello from rank=69\n"
     ]
    }
   ],
   "source": [
    "say_hello(rank=69)"
   ]
  },
  {
   "cell_type": "code",
   "execution_count": null,
   "id": "f72bb5b4-c142-46b9-bce0-9b08778ef218",
   "metadata": {},
   "outputs": [],
   "source": [
    "world_size = 3"
   ]
  },
  {
   "cell_type": "markdown",
   "id": "e792e027-e0c4-41a4-9559-ab48a4c4035a",
   "metadata": {},
   "source": [
    "Run the function `say_hello` using three new processes as bellow"
   ]
  },
  {
   "cell_type": "code",
   "execution_count": null,
   "id": "2c6c7fda-1351-4a7f-85da-d0f1de90fc18",
   "metadata": {},
   "outputs": [],
   "source": [
    "from torch.multiprocessing import Process"
   ]
  },
  {
   "cell_type": "code",
   "execution_count": null,
   "id": "027e058c-87ee-471c-a778-59dd3c48d390",
   "metadata": {},
   "outputs": [],
   "source": [
    "for rank in range(world_size):\n",
    "    p = Process(target=say_hello, args=(rank,))\n",
    "    p.start()"
   ]
  },
  {
   "cell_type": "markdown",
   "id": "d78133b9-7053-4004-a031-89c3d88f7831",
   "metadata": {},
   "source": [
    "##### Example 2.3"
   ]
  },
  {
   "cell_type": "code",
   "execution_count": null,
   "id": "74ede346-328b-48d2-a5b4-baa159e5e87d",
   "metadata": {},
   "outputs": [
    {
     "data": {
      "text/plain": [
       "('gloo', 'tcp://127.0.0.1:23456')"
      ]
     },
     "execution_count": null,
     "metadata": {},
     "output_type": "execute_result"
    }
   ],
   "source": [
    "config"
   ]
  },
  {
   "cell_type": "code",
   "execution_count": null,
   "id": "abd56a62-9144-49ef-8670-c55785073cc7",
   "metadata": {},
   "outputs": [],
   "source": [
    "world_size = 4"
   ]
  },
  {
   "cell_type": "markdown",
   "id": "54f27743-08e4-407c-84fd-7af5df0f8f1d",
   "metadata": {},
   "source": [
    "Launch four new processes and establish distributed communication between them using the `config` parameter"
   ]
  },
  {
   "cell_type": "code",
   "execution_count": null,
   "id": "67149117-c61a-4b5b-a16d-feb39879373e",
   "metadata": {},
   "outputs": [],
   "source": [
    "import torch.distributed as dist\n",
    "from torch.multiprocessing import Process"
   ]
  },
  {
   "cell_type": "code",
   "execution_count": null,
   "id": "bf3b8083-3d86-4493-a84c-01b3568ce9ec",
   "metadata": {},
   "outputs": [],
   "source": [
    "def init_communication(rank, wold_size, config):\n",
    "    dist.init_process_group(*config, rank=rank, world_size=world_size)\n",
    "    print(f\"hello from rank={rank}, world_size={world_size}\")"
   ]
  },
  {
   "cell_type": "code",
   "execution_count": null,
   "id": "5f82eec1-b2e2-4fbb-8785-342667efde04",
   "metadata": {},
   "outputs": [],
   "source": [
    "for rank in range(world_size):\n",
    "    p = Process(target=init_communication, args=(rank, world_size, config))\n",
    "    p.start()"
   ]
  },
  {
   "cell_type": "markdown",
   "id": "f2cd8883-2b84-46b7-bda6-dc1a81b56d1b",
   "metadata": {},
   "source": [
    "##### Example 3"
   ]
  },
  {
   "cell_type": "code",
   "execution_count": null,
   "id": "5621cb6f-9d0e-4121-bea6-2917d8116559",
   "metadata": {},
   "outputs": [],
   "source": [
    "import torch.distributed as dist"
   ]
  },
  {
   "cell_type": "code",
   "execution_count": null,
   "id": "6e7f2ce8-b6f1-4f5f-bf32-330fee869588",
   "metadata": {},
   "outputs": [],
   "source": [
    "def fn(global_rank, world_size):\n",
    "    dist.init_process_group(\n",
    "        backend=\"nccl\",\n",
    "        rank=global_rank,\n",
    "        world_size=world_size\n",
    "    )\n",
    "    group = dist.new_group([_ for _ in range(world_size)])"
   ]
  },
  {
   "cell_type": "code",
   "execution_count": null,
   "id": "e609064b-e324-48a9-bbb7-d41a5399da52",
   "metadata": {},
   "outputs": [],
   "source": [
    "fn(global_rank=69, world_size)"
   ]
  },
  {
   "cell_type": "markdown",
   "id": "2d58462f-7f4c-412b-9c17-003714720417",
   "metadata": {},
   "source": [
    "##### Example "
   ]
  },
  {
   "cell_type": "code",
   "execution_count": null,
   "id": "4ffc6e41-338f-4fd6-bba8-5fb7dbf5599e",
   "metadata": {},
   "outputs": [],
   "source": [
    "import torch.distributed as dist"
   ]
  },
  {
   "cell_type": "code",
   "execution_count": null,
   "id": "d6c1e4fd-5f24-44d0-ba1e-5521abbd08fe",
   "metadata": {},
   "outputs": [],
   "source": [
    "ranks = [0, 1, 3, 6]"
   ]
  },
  {
   "cell_type": "code",
   "execution_count": null,
   "id": "8ff420f9-8a4f-4369-a839-c52ddcc4bf88",
   "metadata": {},
   "outputs": [],
   "source": [
    "x = torch.tensor([69, 69, 69])"
   ]
  },
  {
   "cell_type": "markdown",
   "id": "30635084-82df-4b4d-b04e-c5f61f84f5b0",
   "metadata": {},
   "source": []
  },
  {
   "cell_type": "code",
   "execution_count": null,
   "id": "897586b0-b155-4322-a4c2-5e55a0ba9166",
   "metadata": {},
   "outputs": [
    {
     "data": {
      "text/plain": [
       "tensor([69, 69, 69])"
      ]
     },
     "execution_count": null,
     "metadata": {},
     "output_type": "execute_result"
    }
   ],
   "source": [
    "x"
   ]
  },
  {
   "cell_type": "markdown",
   "id": "85b12fd5-9f60-4307-937d-3c672491766b",
   "metadata": {},
   "source": [
    "Write a script that will be distributed across all accelerators and sends tensor `x` from process `0` to processes `1`, `3`, and `6`."
   ]
  },
  {
   "cell_type": "markdown",
   "id": "6de72a1f-2b8c-4314-b0a3-00faad76eb58",
   "metadata": {},
   "source": [
    "**Explain**\n",
    "\n",
    "The process with rank `0` wants to send the tensor to process `1`, `3`, and `6`, so these need to be in the same group."
   ]
  },
  {
   "cell_type": "code",
   "execution_count": null,
   "id": "5971b00f-c010-40df-992c-8324e7a119ff",
   "metadata": {},
   "outputs": [],
   "source": [
    "ranks = [0, 1, 3, 6]"
   ]
  },
  {
   "cell_type": "markdown",
   "id": "18cfde48-3967-4904-8e81-e546d52853c3",
   "metadata": {},
   "source": [
    "Then retrieve the rank of the current process, the rank will be used to check if the current process is in the process group."
   ]
  },
  {
   "cell_type": "code",
   "execution_count": null,
   "id": "6caa289a-7e33-4b74-8137-a9d45dc2c2e2",
   "metadata": {},
   "outputs": [],
   "source": [
    "rank = dist.get_rank()"
   ]
  },
  {
   "cell_type": "code",
   "execution_count": null,
   "id": "73e56305-410e-4953-8bbf-382a54948f35",
   "metadata": {},
   "outputs": [],
   "source": [
    "group = None"
   ]
  },
  {
   "cell_type": "markdown",
   "id": "b4ccfccb-aae4-41a3-8544-bd9a35fd9f8a",
   "metadata": {},
   "source": [
    "If the current process rank is in the list ranks, this line creates a new process group that includes the processes with ranks specified in `ranks`. This process group will be used for the broadcast operation."
   ]
  },
  {
   "cell_type": "code",
   "execution_count": null,
   "id": "a38a8e8f-fc3f-4da6-9729-5895e16a7e6f",
   "metadata": {},
   "outputs": [],
   "source": [
    "if rank in ranks:\n",
    "    group = dist.new_group(ranks=ranks)"
   ]
  },
  {
   "cell_type": "markdown",
   "id": "090bc2b2-4758-4bee-8a9f-a4db7e1d9335",
   "metadata": {},
   "source": [
    "Broadcast the tensor `x` from the source process (rank `0`) to all the other processes in the process group `group`"
   ]
  },
  {
   "cell_type": "code",
   "execution_count": null,
   "id": "5ed1d679-af88-4180-a585-4c6866963501",
   "metadata": {},
   "outputs": [],
   "source": [
    "if group is not None:\n",
    "    dist.broadcast(tensor=x, src=0, group=group)"
   ]
  },
  {
   "cell_type": "markdown",
   "id": "2ac9fc76-251f-4a1e-bd71-8bfb570c3d96",
   "metadata": {},
   "source": [
    "### P2P Communication"
   ]
  },
  {
   "cell_type": "markdown",
   "id": "a681d5b9-81fc-4cd2-94f0-f398b82a3de9",
   "metadata": {},
   "source": [
    "##### Example 1"
   ]
  },
  {
   "cell_type": "markdown",
   "id": "5ddff49c-6262-4ba2-9e47-655369e737f8",
   "metadata": {},
   "source": [
    "Write a script that will be put to all processes"
   ]
  },
  {
   "cell_type": "code",
   "execution_count": null,
   "id": "35706f7a-71eb-4f00-b614-8e856a3d7379",
   "metadata": {},
   "outputs": [],
   "source": [
    "x = torch.ones(2, 2)"
   ]
  },
  {
   "cell_type": "code",
   "execution_count": null,
   "id": "7e9b0954-20c0-4343-9fae-70c1d318aa90",
   "metadata": {},
   "outputs": [],
   "source": [
    "tensor_will_be_received_data = torch.zeros(2, 2)"
   ]
  },
  {
   "cell_type": "code",
   "execution_count": null,
   "id": "89023b11-0560-4dd1-a6c4-b57cb14a0f64",
   "metadata": {},
   "outputs": [],
   "source": [
    "tensor_will_be_received_data = torch.ones(2, 2)"
   ]
  },
  {
   "cell_type": "code",
   "execution_count": null,
   "id": "0883c1f6-65f0-497c-a86d-ff70495f789f",
   "metadata": {},
   "outputs": [
    {
     "data": {
      "text/plain": [
       "tensor([[1., 1.],\n",
       "        [1., 1.]])"
      ]
     },
     "execution_count": null,
     "metadata": {},
     "output_type": "execute_result"
    }
   ],
   "source": [
    "x"
   ]
  },
  {
   "cell_type": "code",
   "execution_count": null,
   "id": "f86bccc1-d883-4301-9856-26fb90fd9c58",
   "metadata": {},
   "outputs": [
    {
     "data": {
      "text/plain": [
       "tensor([[0., 0.],\n",
       "        [0., 0.]])"
      ]
     },
     "execution_count": null,
     "metadata": {},
     "output_type": "execute_result"
    }
   ],
   "source": [
    "tensor_will_be_received_data"
   ]
  },
  {
   "cell_type": "code",
   "execution_count": null,
   "id": "b91fa787-3dd2-41de-9320-e7fe0fe93a37",
   "metadata": {},
   "outputs": [
    {
     "data": {
      "text/plain": [
       "True"
      ]
     },
     "execution_count": null,
     "metadata": {},
     "output_type": "execute_result"
    }
   ],
   "source": [
    "x.shape == tensor_will_be_received_data.shape"
   ]
  },
  {
   "cell_type": "markdown",
   "id": "8a36dfad-b2d7-4efe-8237-8b9486a04448",
   "metadata": {},
   "source": [
    "Write a script to be distributed across all processors that sends tensor `x` from processing `0` to processing `1`. Then, processing `1` will fill the data into `tensor_will_be_received_data`"
   ]
  },
  {
   "cell_type": "code",
   "execution_count": null,
   "id": "58d869e2-1b8b-4a0a-b13d-0a8ad2587d69",
   "metadata": {},
   "outputs": [],
   "source": [
    "import torch.distributed as dist"
   ]
  },
  {
   "cell_type": "code",
   "execution_count": null,
   "id": "9797438e-4829-44c9-8685-eb121c75c76d",
   "metadata": {},
   "outputs": [],
   "source": [
    "if dist.get_rank() == 0:\n",
    "    dist.send(x, dist=1)\n",
    "elif dist.get_rank() == 1:\n",
    "    dist.recv(tensor_will_be_received_data, src=0)"
   ]
  },
  {
   "cell_type": "code",
   "execution_count": null,
   "id": "f08775a1-c2ab-4a57-9c53-e1ec50a3a8d7",
   "metadata": {},
   "outputs": [
    {
     "data": {
      "text/plain": [
       "tensor([[1., 1.],\n",
       "        [1., 1.]])"
      ]
     },
     "execution_count": null,
     "metadata": {},
     "output_type": "execute_result"
    }
   ],
   "source": [
    "tensor_will_be_received_data"
   ]
  },
  {
   "cell_type": "markdown",
   "id": "ffc620ec-aebd-4665-8832-2a8736943fb1",
   "metadata": {},
   "source": [
    "##### Example 2"
   ]
  },
  {
   "cell_type": "code",
   "execution_count": null,
   "id": "90509c40-3d26-441f-a25a-9f66394e337b",
   "metadata": {},
   "outputs": [],
   "source": [
    "x = torch.ones(2, 2)"
   ]
  },
  {
   "cell_type": "code",
   "execution_count": null,
   "id": "3ddbb176-4be9-4bf2-8097-cb78778844fe",
   "metadata": {},
   "outputs": [],
   "source": [
    "tensor_will_be_received_data = torch.zeros(2, 2)"
   ]
  },
  {
   "cell_type": "code",
   "execution_count": null,
   "id": "9fce8453-6a67-4ae4-9547-bd635460d778",
   "metadata": {},
   "outputs": [],
   "source": [
    "tensor_will_be_received_data = torch.ones(2, 2)"
   ]
  },
  {
   "cell_type": "code",
   "execution_count": null,
   "id": "db04fa2f-bce4-44f7-a7f8-61b8bb435e7d",
   "metadata": {},
   "outputs": [
    {
     "data": {
      "text/plain": [
       "True"
      ]
     },
     "execution_count": null,
     "metadata": {},
     "output_type": "execute_result"
    }
   ],
   "source": [
    "x.shape == tensor_will_be_received_data.shape"
   ]
  },
  {
   "cell_type": "code",
   "execution_count": null,
   "id": "d44b1811-b82a-4b77-b377-8056cb496758",
   "metadata": {},
   "outputs": [
    {
     "data": {
      "text/plain": [
       "tensor([[1., 1.],\n",
       "        [1., 1.]])"
      ]
     },
     "execution_count": null,
     "metadata": {},
     "output_type": "execute_result"
    }
   ],
   "source": [
    "x"
   ]
  },
  {
   "cell_type": "code",
   "execution_count": null,
   "id": "32ee7229-e86d-4c75-9bf2-98d272b1dec6",
   "metadata": {},
   "outputs": [
    {
     "data": {
      "text/plain": [
       "tensor([[0., 0.],\n",
       "        [0., 0.]])"
      ]
     },
     "execution_count": null,
     "metadata": {},
     "output_type": "execute_result"
    }
   ],
   "source": [
    "tensor_will_be_received_data"
   ]
  },
  {
   "cell_type": "markdown",
   "id": "cc4f61c9-c6e2-4054-96f3-752355097b76",
   "metadata": {},
   "source": [
    "Write a script to be distributed across all processors that sends tensor `x` from processing `69` to processing `42` **asynchronously**. Then, processing `1` will fill the data into `tensor_will_be_received_data`"
   ]
  },
  {
   "cell_type": "code",
   "execution_count": null,
   "id": "eeda029d-a2b4-4da5-a22f-0aec96db2559",
   "metadata": {},
   "outputs": [],
   "source": [
    "import torch.distributed as dist"
   ]
  },
  {
   "cell_type": "code",
   "execution_count": null,
   "id": "3c41e46b-0936-4a6c-bb49-e1ce3aecea7c",
   "metadata": {},
   "outputs": [],
   "source": [
    "if dist.get_rank() == 69:\n",
    "    request = dist.isend(x, dst=42)\n",
    "elif dist.get_rank() == 42:\n",
    "    request = dist.irecv(tensor_will_be_received_data, src=69)"
   ]
  },
  {
   "cell_type": "code",
   "execution_count": null,
   "id": "d2f35842-b292-42f5-bff0-0d121ed88787",
   "metadata": {},
   "outputs": [
    {
     "data": {
      "text/plain": [
       "tensor([[1., 1.],\n",
       "        [1., 1.]])"
      ]
     },
     "execution_count": null,
     "metadata": {},
     "output_type": "execute_result"
    }
   ],
   "source": [
    "tensor_will_be_received_data"
   ]
  },
  {
   "cell_type": "markdown",
   "id": "0d3e5d69-99c2-45eb-8c41-1d13d1361646",
   "metadata": {},
   "source": [
    "##### Example 3"
   ]
  },
  {
   "cell_type": "markdown",
   "id": "450adfc9-5c11-4779-85c7-c4ccd71376c8",
   "metadata": {},
   "source": [
    "### Collective Communication"
   ]
  },
  {
   "cell_type": "markdown",
   "id": "fb1ddae0-357b-4695-bb7d-bb3ef1e24ab5",
   "metadata": {},
   "source": [
    "##### Example 1"
   ]
  },
  {
   "cell_type": "markdown",
   "id": "763935bc-8748-4aa7-9a7c-5540d08c4eea",
   "metadata": {},
   "source": [
    "Write a script that "
   ]
  },
  {
   "cell_type": "code",
   "execution_count": null,
   "id": "9ffb8a5f-e653-47a4-8b98-7511a31def1a",
   "metadata": {},
   "outputs": [],
   "source": [
    "x = torch.zeros(2, 2)"
   ]
  },
  {
   "cell_type": "code",
   "execution_count": null,
   "id": "56667f19-fc06-4ae5-addc-736277f7c491",
   "metadata": {},
   "outputs": [],
   "source": [
    "import torch"
   ]
  },
  {
   "cell_type": "code",
   "execution_count": null,
   "id": "8884523f-51ea-423a-9ae3-5b369d33aa9b",
   "metadata": {},
   "outputs": [
    {
     "data": {
      "text/plain": [
       "tensor([[0., 0.],\n",
       "        [0., 0.]])"
      ]
     },
     "execution_count": null,
     "metadata": {},
     "output_type": "execute_result"
    }
   ],
   "source": [
    "x"
   ]
  },
  {
   "cell_type": "markdown",
   "id": "10bbd101-f044-42ac-9a40-5d559d2aa482",
   "metadata": {},
   "source": [
    "Write a script to be distributed across all processors. The script will send the tensor `x` from processor `0` to all other processors"
   ]
  },
  {
   "cell_type": "code",
   "execution_count": null,
   "id": "854d39cb-f026-4ff7-bd32-f23ed5a11d36",
   "metadata": {},
   "outputs": [],
   "source": [
    "rank = torch.distributed.get_rank()"
   ]
  },
  {
   "cell_type": "code",
   "execution_count": null,
   "id": "f6b66940-f5b9-4797-89b4-e4caf49633ab",
   "metadata": {},
   "outputs": [],
   "source": [
    "if rank == 0:\n",
    "    torch.distributed.broadcast(x, src=0)"
   ]
  },
  {
   "cell_type": "markdown",
   "id": "f2ff9934-9d16-4e66-b266-05aa5883a71d",
   "metadata": {},
   "source": [
    "##### Example 2"
   ]
  },
  {
   "cell_type": "code",
   "execution_count": null,
   "id": "4b98d5f9-e68e-4159-a3dc-754c383a3abb",
   "metadata": {},
   "outputs": [],
   "source": [
    "import torch.distributed as dist"
   ]
  },
  {
   "cell_type": "code",
   "execution_count": null,
   "id": "f129b094-efdd-4320-95b3-febd8c14f0a9",
   "metadata": {},
   "outputs": [],
   "source": [
    "import torch"
   ]
  },
  {
   "cell_type": "code",
   "execution_count": null,
   "id": "75865909-7dda-428a-9606-1f3118a2f400",
   "metadata": {},
   "outputs": [],
   "source": []
  },
  {
   "cell_type": "code",
   "execution_count": null,
   "id": "1f15c0c2-9fc3-4507-9997-78fca55d124d",
   "metadata": {},
   "outputs": [
    {
     "data": {
      "text/plain": [
       "<module 'torch.distributed' from '/Users/education/miniforge3/envs/gym/lib/python3.8/site-packages/torch/distributed/__init__.py'>"
      ]
     },
     "execution_count": null,
     "metadata": {},
     "output_type": "execute_result"
    }
   ],
   "source": [
    "torch.distributed."
   ]
  },
  {
   "cell_type": "code",
   "execution_count": null,
   "id": "12f8ed7c-af11-481a-8fab-f1da187b04c2",
   "metadata": {},
   "outputs": [],
   "source": []
  }
 ],
 "metadata": {
  "kernelspec": {
   "display_name": "Python 3 (ipykernel)",
   "language": "python",
   "name": "python3"
  }
 },
 "nbformat": 4,
 "nbformat_minor": 5
}
