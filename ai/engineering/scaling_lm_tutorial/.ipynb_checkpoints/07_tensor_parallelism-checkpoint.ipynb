{
 "cells": [
  {
   "cell_type": "markdown",
   "id": "d3412cd7-a5e6-4be9-8645-44ed20e78064",
   "metadata": {},
   "source": [
    "### Tensor Parallelism"
   ]
  },
  {
   "cell_type": "markdown",
   "id": "32e9c1e8-4235-4dbd-9e85-120513aadc2b",
   "metadata": {},
   "source": [
    "##### Example 1"
   ]
  },
  {
   "cell_type": "code",
   "execution_count": null,
   "id": "a6c9ced8-0648-47a7-a523-ee9f6b7a92c0",
   "metadata": {},
   "outputs": [],
   "source": [
    "import torch"
   ]
  },
  {
   "cell_type": "code",
   "execution_count": null,
   "id": "1823a8f9-f226-48e8-9888-66672b8d5bd9",
   "metadata": {},
   "outputs": [],
   "source": [
    "inputs = torch.tensor([\n",
    "    [0, 1, 2, 3],\n",
    "    [4, 5, 6, 7]\n",
    "])"
   ]
  },
  {
   "cell_type": "code",
   "execution_count": null,
   "id": "0f8db7f5-27f4-4a23-8086-382c6a90591b",
   "metadata": {},
   "outputs": [],
   "source": [
    "weights = torch.tensor([\n",
    "    [10, 14],\n",
    "    [11, 15],\n",
    "    [12, 16],\n",
    "    [13, 17]\n",
    "])"
   ]
  },
  {
   "cell_type": "code",
   "execution_count": null,
   "id": "cdc88cfe-618c-4389-926a-fbb04343c44d",
   "metadata": {},
   "outputs": [],
   "source": [
    "outputs = inputs @ weights"
   ]
  },
  {
   "cell_type": "code",
   "execution_count": null,
   "id": "179da713-c4c1-4521-82eb-769f6fbd657d",
   "metadata": {},
   "outputs": [
    {
     "data": {
      "text/plain": [
       "torch.Size([2, 2])"
      ]
     },
     "execution_count": null,
     "metadata": {},
     "output_type": "execute_result"
    }
   ],
   "source": [
    "outputs.shape"
   ]
  },
  {
   "cell_type": "code",
   "execution_count": null,
   "id": "42fb483d-cf49-4ea3-9bf2-40bd78e67abd",
   "metadata": {},
   "outputs": [],
   "source": [
    "import torch"
   ]
  },
  {
   "cell_type": "code",
   "execution_count": null,
   "id": "2a204de6-0074-47bf-aa53-68a36abedbe6",
   "metadata": {},
   "outputs": [
    {
     "data": {
      "text/plain": [
       "(torch.Size([2, 4]), torch.Size([4, 2]))"
      ]
     },
     "execution_count": null,
     "metadata": {},
     "output_type": "execute_result"
    }
   ],
   "source": [
    "inputs.shape, weights.shape"
   ]
  },
  {
   "cell_type": "code",
   "execution_count": null,
   "id": "724135e4-13da-4037-9d30-18389de12194",
   "metadata": {},
   "outputs": [],
   "source": [
    "outputs = inputs @ weights"
   ]
  },
  {
   "cell_type": "markdown",
   "id": "26fe4b3d-dbd8-491e-91f4-427f8f11a1ef",
   "metadata": {},
   "source": [
    "Compute **the matrix multiplication operation** using tensor parallelism with **a factor of 2**."
   ]
  },
  {
   "cell_type": "code",
   "execution_count": null,
   "id": "c7a0ae33-c8a9-4d0f-809d-79b6e1764adc",
   "metadata": {},
   "outputs": [],
   "source": [
    "def by_column_parallelism(inputs, weights):\n",
    "    n_cols = weights.shape[-1]    \n",
    "    w1, w2 = weights[:, :n_cols//2], weights[:, n_cols//2:]\n",
    "    out1 = inputs @ w1\n",
    "    out2 = inputs @ w2\n",
    "    return torch.cat([out1, out2], dim=-1)"
   ]
  },
  {
   "cell_type": "code",
   "execution_count": null,
   "id": "af33f659-9eec-4b99-b042-0e4ee39281d8",
   "metadata": {},
   "outputs": [],
   "source": [
    "column_output = by_column_parallelism(inputs, weights)"
   ]
  },
  {
   "cell_type": "code",
   "execution_count": null,
   "id": "c442f722-e61f-40a1-aaae-52dadfd966b5",
   "metadata": {},
   "outputs": [
    {
     "data": {
      "text/plain": [
       "tensor([[True, True],\n",
       "        [True, True]])"
      ]
     },
     "execution_count": null,
     "metadata": {},
     "output_type": "execute_result"
    }
   ],
   "source": [
    "output == column_output"
   ]
  },
  {
   "cell_type": "code",
   "execution_count": null,
   "id": "2c998e2b-6e46-40bb-9c5d-b5fd1f116371",
   "metadata": {},
   "outputs": [],
   "source": [
    "def by_row_parallelism(inputs, weights):\n",
    "    n_cols = weights.shape[-1]\n",
    "    x1, x2 = inputs[:, :n_cols//2], inputs[:, n_cols//2:]\n",
    "    w1, w2 = weights[:n_cols//2, :], weights[n_cols//2:, :]\n",
    "    out1 = x1 @ w1\n",
    "    out2 = x2 @ w2    \n",
    "    return out1 + out2"
   ]
  },
  {
   "cell_type": "code",
   "execution_count": null,
   "id": "844b7d85-1aad-426e-a9a1-672edbf77938",
   "metadata": {},
   "outputs": [],
   "source": [
    "row_output = by_row_parallelism(inputs, weights)"
   ]
  },
  {
   "cell_type": "code",
   "execution_count": null,
   "id": "fc0f008d-1c02-461a-9f83-ab29eb573860",
   "metadata": {},
   "outputs": [
    {
     "data": {
      "text/plain": [
       "tensor([[True, True],\n",
       "        [True, True]])"
      ]
     },
     "execution_count": null,
     "metadata": {},
     "output_type": "execute_result"
    }
   ],
   "source": [
    "output == row_output"
   ]
  },
  {
   "cell_type": "markdown",
   "id": "fcef841d-91bb-444b-8b8c-1fcf4f88af4c",
   "metadata": {},
   "source": [
    "### Transformer Block"
   ]
  },
  {
   "cell_type": "markdown",
   "id": "3adc3205-c94c-4e95-907c-20d4000cd3f3",
   "metadata": {},
   "source": [
    "##### Example 1"
   ]
  },
  {
   "cell_type": "code",
   "execution_count": null,
   "id": "810abbe2-9c4f-4420-bb57-b88559d1485c",
   "metadata": {},
   "outputs": [],
   "source": [
    "from torch import nn"
   ]
  },
  {
   "cell_type": "code",
   "execution_count": null,
   "id": "13136dbc-e06b-4d49-90e0-b6f9587dca6b",
   "metadata": {},
   "outputs": [],
   "source": [
    "class VocabParallelEmbedding(nn.Module):\n",
    "    def forward(self, x):\n",
    "        "
   ]
  }
 ],
 "metadata": {
  "kernelspec": {
   "display_name": "Python 3 (ipykernel)",
   "language": "python",
   "name": "python3"
  }
 },
 "nbformat": 4,
 "nbformat_minor": 5
}
