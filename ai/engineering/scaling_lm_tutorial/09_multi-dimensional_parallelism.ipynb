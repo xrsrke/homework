{
 "cells": [
  {
   "cell_type": "markdown",
   "id": "b8e1fadf-af7c-44ee-adae-ccabc923ccf5",
   "metadata": {},
   "source": [
    "### 9. Multi-dimensional Parallelism"
   ]
  },
  {
   "cell_type": "code",
   "execution_count": null,
   "id": "38ec7327-2a6c-4832-89f0-3db58cd0e8f5",
   "metadata": {},
   "outputs": [],
   "source": [
    "world_size = 100"
   ]
  },
  {
   "cell_type": "code",
   "execution_count": null,
   "id": "f53307cc-d22c-4748-ab1a-74dc5476adcc",
   "metadata": {},
   "outputs": [],
   "source": [
    "tensor_model_parallel_size = 2"
   ]
  },
  {
   "cell_type": "code",
   "execution_count": null,
   "id": "81c8b6aa-6fe8-4d4d-b03b-e367f1a5b0e4",
   "metadata": {},
   "outputs": [],
   "source": [
    "pipeline_model_parallel_size = 4"
   ]
  },
  {
   "cell_type": "code",
   "execution_count": null,
   "id": "29b1930c-7228-40eb-960c-47dd3b44396f",
   "metadata": {},
   "outputs": [],
   "source": [
    "num_pipeline_model_parallel_groups = world_size // pipeline_model_parallel_size"
   ]
  },
  {
   "cell_type": "code",
   "execution_count": null,
   "id": "5ba6391f-fb0f-4ea4-a52f-cb0ec00ab0a6",
   "metadata": {},
   "outputs": [],
   "source": [
    "list_ranks = []"
   ]
  },
  {
   "cell_type": "code",
   "execution_count": null,
   "id": "6c188dab-821c-4a39-bd57-7bb21dac70b8",
   "metadata": {},
   "outputs": [],
   "source": [
    "from IPython.core.debugger import set_trace"
   ]
  },
  {
   "cell_type": "markdown",
   "id": "1a1513e4-a174-4ca4-9e51-932fa5c85696",
   "metadata": {},
   "source": [
    "Because the goal of data parallel group is to put all GPUs that handle the corresponds patrition of each replicas model in the group, so that when each GPU calculate the gradient of its parameter patrition, we can average the gradient of that patrition across all GPUs in the group.\n",
    "\n",
    "Because `pipeline_model_parallel_size` represent the number of stages in pipeline parallelism. \n",
    "\n",
    "- `for j in range(tensor_model_parallel_size)`: because there're `tensor_model_parallel_size` patritions for each layer, "
   ]
  },
  {
   "cell_type": "code",
   "execution_count": null,
   "id": "e10c0a96-66f4-4a3d-a9c8-34fe743de322",
   "metadata": {},
   "outputs": [
    {
     "name": "stdout",
     "output_type": "stream",
     "text": [
      "start_rank=0, end_rank=25\n",
      "start_rank=25, end_rank=50\n",
      "start_rank=50, end_rank=75\n",
      "start_rank=75, end_rank=100\n"
     ]
    }
   ],
   "source": [
    "for i in range(pipeline_model_parallel_size):\n",
    "    start_rank = i*num_pipeline_model_parallel_groups\n",
    "    end_rank = (i+1)*num_pipeline_model_parallel_groups\n",
    "    \n",
    "    print(f\"start_rank={start_rank}, end_rank={end_rank}\")\n",
    "    \n",
    "    for j in range(tensor_model_parallel_size):\n",
    "        # set_trace()\n",
    "        ranks = list(\n",
    "            range(start_rank + j, end_rank, tensor_model_parallel_size)\n",
    "        )\n",
    "        list_ranks.append(ranks)"
   ]
  },
  {
   "cell_type": "code",
   "execution_count": null,
   "id": "cd1ef1c1-3980-445f-b0a1-1095182c4493",
   "metadata": {},
   "outputs": [
    {
     "data": {
      "text/plain": [
       "[[0, 2, 4, 6, 8, 10, 12, 14, 16, 18, 20, 22, 24],\n",
       " [1, 3, 5, 7, 9, 11, 13, 15, 17, 19, 21, 23],\n",
       " [25, 27, 29, 31, 33, 35, 37, 39, 41, 43, 45, 47, 49],\n",
       " [26, 28, 30, 32, 34, 36, 38, 40, 42, 44, 46, 48],\n",
       " [50, 52, 54, 56, 58, 60, 62, 64, 66, 68, 70, 72, 74],\n",
       " [51, 53, 55, 57, 59, 61, 63, 65, 67, 69, 71, 73],\n",
       " [75, 77, 79, 81, 83, 85, 87, 89, 91, 93, 95, 97, 99],\n",
       " [76, 78, 80, 82, 84, 86, 88, 90, 92, 94, 96, 98]]"
      ]
     },
     "execution_count": null,
     "metadata": {},
     "output_type": "execute_result"
    }
   ],
   "source": [
    "list_ranks"
   ]
  },
  {
   "cell_type": "markdown",
   "id": "c7f0132f-1638-47de-9644-54f1f81fa555",
   "metadata": {},
   "source": [
    "##### Draft 2"
   ]
  },
  {
   "cell_type": "code",
   "execution_count": null,
   "id": "81d0ebf4-7c32-4a41-8038-232e13926d2f",
   "metadata": {},
   "outputs": [],
   "source": [
    "import os"
   ]
  },
  {
   "cell_type": "code",
   "execution_count": null,
   "id": "f05f973d-3b4a-40a0-9126-470da8965aa2",
   "metadata": {},
   "outputs": [],
   "source": [
    "class MPU:\n",
    "    def __init__(\n",
    "        self,\n",
    "        tensor_model_parallel_size: int,\n",
    "        pipeline_model_parallel_size: int,\n",
    "        backend: str,\n",
    "        master_port: int\n",
    "    ):\n",
    "        if not torch.distributed.is_initialized():\n",
    "            self.initialize_distributed(backend, master_port)\n",
    "        \n",
    "        current_rank = torch.distributed.get_rank()\n",
    "        global_world_size = torch.distributed.get_world_size()\n",
    "        \n",
    "        total_model_parallel_size = (\n",
    "            tensor_modal_parallel_size * pipeline_modal_parallel_size\n",
    "        )\n",
    "        \n",
    "    \n",
    "    def initialize_distributed(self, backend, master_port):\n",
    "        if not torch.distributed.is_initialized():\n",
    "            rank = int(os.getenv(\"RANK\", 0))\n",
    "            world_size = int(os.getenv(\"WORLD_SIZE\", 0))\n",
    "            os.environ[\"MASTER_PORT\"] = str(master_port)\n",
    "            device_count = torch.cuda.device_count()\n",
    "            \n",
    "            if device_count > 0:\n",
    "                device = rank % device_count"
   ]
  },
  {
   "cell_type": "code",
   "execution_count": null,
   "id": "44e625e1-573d-443c-90d1-ae1e452c9831",
   "metadata": {},
   "outputs": [],
   "source": [
    "rank = 3"
   ]
  },
  {
   "cell_type": "code",
   "execution_count": null,
   "id": "d595a675-e9b4-452f-91f2-df8f66c49e9c",
   "metadata": {},
   "outputs": [],
   "source": [
    "device_count = 42"
   ]
  },
  {
   "cell_type": "code",
   "execution_count": null,
   "id": "a01bb849-5337-4c47-98ba-2ebc06b37eef",
   "metadata": {},
   "outputs": [
    {
     "data": {
      "text/plain": [
       "3"
      ]
     },
     "execution_count": null,
     "metadata": {},
     "output_type": "execute_result"
    }
   ],
   "source": [
    "rank % 42"
   ]
  },
  {
   "cell_type": "code",
   "execution_count": null,
   "id": "4b6dedc5-ca12-444d-9956-46c3e037db80",
   "metadata": {},
   "outputs": [],
   "source": []
  }
 ],
 "metadata": {
  "kernelspec": {
   "display_name": "Python 3 (ipykernel)",
   "language": "python",
   "name": "python3"
  },
  "language_info": {
   "codemirror_mode": {
    "name": "ipython",
    "version": 3
   },
   "file_extension": ".py",
   "mimetype": "text/x-python",
   "name": "python",
   "nbconvert_exporter": "python",
   "pygments_lexer": "ipython3",
   "version": "3.8.16"
  }
 },
 "nbformat": 4,
 "nbformat_minor": 5
}
