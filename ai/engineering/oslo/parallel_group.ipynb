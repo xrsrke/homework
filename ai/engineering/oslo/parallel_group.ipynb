{
 "cells": [
  {
   "cell_type": "code",
   "execution_count": null,
   "id": "1c952455-7eff-4973-ae3b-5e4db41f66ab",
   "metadata": {},
   "outputs": [],
   "source": [
    "- `dist.new_group()` must be called collectively by all the processes that would be part of the group, which means every process in the group needs to call this function. If only a subset of the processes call `new_group()`, it will hang because it's waiting for the rest of the processes to join.\n",
    "- RuntimeError: Broken pipe\n",
    "    - put a barrier at global group before create parallel groups\n",
    "- RuntimeError: Connection reset by peer\n",
    "    - syncronous all process, before destroy it"
   ]
  },
  {
   "cell_type": "markdown",
   "id": "49e776a1-ba68-4a06-a9f7-13902aebe9db",
   "metadata": {},
   "source": [
    "##### Example 1"
   ]
  },
  {
   "cell_type": "code",
   "execution_count": 4,
   "id": "ca6467e9-0d47-44fc-bcb2-e688f2afb89a",
   "metadata": {
    "tags": []
   },
   "outputs": [],
   "source": [
    "def get_ranks(): return [1, 2, 3]\n",
    "def get_local_rank(): return 2"
   ]
  },
  {
   "cell_type": "code",
   "execution_count": 17,
   "id": "fa66da5f-a64b-4be5-9589-eaf02fbcd443",
   "metadata": {
    "tags": []
   },
   "outputs": [],
   "source": [
    "ranks = get_ranks()"
   ]
  },
  {
   "cell_type": "code",
   "execution_count": 20,
   "id": "0222080f-0a6a-481d-aef3-cce61d4e2c46",
   "metadata": {
    "tags": []
   },
   "outputs": [],
   "source": [
    "local_rank = get_local_rank()"
   ]
  },
  {
   "cell_type": "code",
   "execution_count": 23,
   "id": "b9a619c7-0c06-4db1-8a65-440381529e55",
   "metadata": {
    "tags": []
   },
   "outputs": [],
   "source": [
    "import torch.distributed as dist"
   ]
  },
  {
   "cell_type": "code",
   "execution_count": 24,
   "id": "aa54915a-5740-497e-842f-e0eddaf35ac2",
   "metadata": {
    "tags": []
   },
   "outputs": [
    {
     "data": {
      "text/plain": [
       "[1, 2, 3]"
      ]
     },
     "execution_count": 24,
     "metadata": {},
     "output_type": "execute_result"
    }
   ],
   "source": [
    "ranks"
   ]
  },
  {
   "cell_type": "code",
   "execution_count": 25,
   "id": "b1c0093f-3a43-40dd-bd84-9baadbe38f96",
   "metadata": {
    "tags": []
   },
   "outputs": [],
   "source": [
    "# Location 1"
   ]
  },
  {
   "cell_type": "code",
   "execution_count": 26,
   "id": "6d33c229-2cc3-4e4d-a57d-8fd71b8ba6b0",
   "metadata": {
    "tags": []
   },
   "outputs": [
    {
     "data": {
      "text/plain": [
       "2"
      ]
     },
     "execution_count": 26,
     "metadata": {},
     "output_type": "execute_result"
    }
   ],
   "source": [
    "local_rank"
   ]
  },
  {
   "cell_type": "code",
   "execution_count": 27,
   "id": "6ee415f4-1df3-4d0c-8d63-7ae63e10a6c5",
   "metadata": {
    "tags": []
   },
   "outputs": [],
   "source": [
    "if local_rank in ranks:\n",
    "    # LOCATION 2\n",
    "    pass"
   ]
  },
  {
   "cell_type": "markdown",
   "id": "5e392951-26b3-4c83-a370-62a8b7435a59",
   "metadata": {},
   "source": [
    "Which location should I call `dist.new_group(ranks)`. Explain"
   ]
  },
  {
   "cell_type": "markdown",
   "id": "c11264aa-df23-4587-bfc6-7d03e967e559",
   "metadata": {},
   "source": [
    "**Explain**\n",
    "\n",
    "`# Location 1`. Because `dist.new_group()` must be called collectively by all the processes that would be part of the group, which means every process in the group needs to call this function. If only a subset of the processes call `dist.new_group()`, it will hang because it's waiting for the rest of the processes to join."
   ]
  },
  {
   "cell_type": "markdown",
   "id": "96f99e50-ed6d-4086-87d9-a9d9d103a6aa",
   "metadata": {},
   "source": [
    "##### Example 2"
   ]
  },
  {
   "cell_type": "code",
   "execution_count": 28,
   "id": "dcedf849-a9fb-419d-a98f-0056a198d071",
   "metadata": {
    "tags": []
   },
   "outputs": [],
   "source": [
    "class ProcessGroup(): pass"
   ]
  },
  {
   "cell_type": "code",
   "execution_count": 29,
   "id": "4ac30f4b-32f2-493a-9f18-1ba2a1561a80",
   "metadata": {
    "tags": []
   },
   "outputs": [],
   "source": [
    "groups = [ProcessGroup() for _ in range(8)]"
   ]
  },
  {
   "cell_type": "code",
   "execution_count": 30,
   "id": "4e901989-825b-4752-bd0a-be4f945f7540",
   "metadata": {
    "tags": []
   },
   "outputs": [],
   "source": [
    "import torch.distributed as dist"
   ]
  },
  {
   "cell_type": "markdown",
   "id": "820d3a09-0d97-4a26-9daa-0d70d0daff3e",
   "metadata": {},
   "source": [
    "Write code to destroy these groups in distributed training, where groups contains a list of `dist.ProcessGroup()`. Explain"
   ]
  },
  {
   "cell_type": "code",
   "execution_count": null,
   "id": "75c30207-7c23-444a-a82a-e4e4006c763d",
   "metadata": {},
   "outputs": [],
   "source": [
    "for group in groups:\n",
    "    dist.barrier()\n",
    "    dist.destroy_process_group(group)"
   ]
  },
  {
   "cell_type": "markdown",
   "id": "0f2c9038-f985-4759-803c-e290d424cd32",
   "metadata": {},
   "source": [
    "**Explain**\n",
    "- Barrier Call: Before destroying each process group, the code calls `dist.barrier()`. A barrier is a synchronization primitive that ensures that all processes within a group reach the barrier before any of them proceed. This is essential to make sure that no process is in the middle of a collective operation using the group while it's being destroyed.\n",
    "- `dist.destroy_process_group(group)` to destroy the current process group."
   ]
  },
  {
   "cell_type": "code",
   "execution_count": null,
   "id": "7944cbb9-2529-4dd7-b9ca-de0968bf96b1",
   "metadata": {},
   "outputs": [],
   "source": []
  }
 ],
 "metadata": {
  "kernelspec": {
   "display_name": "Python 3 (ipykernel)",
   "language": "python",
   "name": "python3"
  },
  "language_info": {
   "codemirror_mode": {
    "name": "ipython",
    "version": 3
   },
   "file_extension": ".py",
   "mimetype": "text/x-python",
   "name": "python",
   "nbconvert_exporter": "python",
   "pygments_lexer": "ipython3",
   "version": "3.8.16"
  }
 },
 "nbformat": 4,
 "nbformat_minor": 5
}
