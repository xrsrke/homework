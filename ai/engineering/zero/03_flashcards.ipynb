{
 "cells": [
  {
   "cell_type": "code",
   "execution_count": null,
   "id": "a37583b6-8bf4-4b41-85ea-4872dd78cddc",
   "metadata": {},
   "outputs": [],
   "source": [
    "import torch"
   ]
  },
  {
   "cell_type": "code",
   "execution_count": null,
   "id": "e3eeb8d7-9c8b-4b75-b116-0ab571c68289",
   "metadata": {},
   "outputs": [],
   "source": [
    "work_handles = []"
   ]
  },
  {
   "cell_type": "code",
   "execution_count": null,
   "id": "f132eb6c-a51b-47b1-8e06-c50d5c38134a",
   "metadata": {},
   "outputs": [],
   "source": []
  }
 ],
 "metadata": {
  "kernelspec": {
   "display_name": "Python 3 (ipykernel)",
   "language": "python",
   "name": "python3"
  }
 },
 "nbformat": 4,
 "nbformat_minor": 5
}
