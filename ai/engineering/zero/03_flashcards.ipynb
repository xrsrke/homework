{
 "cells": [
  {
   "cell_type": "code",
   "execution_count": null,
   "id": "a37583b6-8bf4-4b41-85ea-4872dd78cddc",
   "metadata": {},
   "outputs": [],
   "source": [
    "import torch"
   ]
  },
  {
   "cell_type": "code",
   "execution_count": null,
   "id": "e3eeb8d7-9c8b-4b75-b116-0ab571c68289",
   "metadata": {},
   "outputs": [],
   "source": [
    "work_handles = []"
   ]
  },
  {
   "cell_type": "code",
   "execution_count": null,
   "id": "f132eb6c-a51b-47b1-8e06-c50d5c38134a",
   "metadata": {},
   "outputs": [],
   "source": []
  }
 ],
 "metadata": {
  "kernelspec": {
   "display_name": "Python 3 (ipykernel)",
   "language": "python",
   "name": "python3"
  },
  "language_info": {
   "codemirror_mode": {
    "name": "ipython",
    "version": 3
   },
   "file_extension": ".py",
   "mimetype": "text/x-python",
   "name": "python",
   "nbconvert_exporter": "python",
   "pygments_lexer": "ipython3",
   "version": "3.8.16"
  }
 },
 "nbformat": 4,
 "nbformat_minor": 5
}
