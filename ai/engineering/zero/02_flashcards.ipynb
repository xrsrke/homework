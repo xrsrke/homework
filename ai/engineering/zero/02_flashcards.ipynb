{
 "cells": [
  {
   "cell_type": "code",
   "execution_count": null,
   "id": "f0810441-6206-4af7-833c-b0167e5ad040",
   "metadata": {},
   "outputs": [],
   "source": [
    "from transformers import AutoModel\n",
    "from torch import optim"
   ]
  },
  {
   "cell_type": "code",
   "execution_count": null,
   "id": "20a85700-9c3c-4fa2-89eb-c4c25feaff9c",
   "metadata": {},
   "outputs": [],
   "source": [
    "model = AutoModel.from_pretrained(\"gpt2\")"
   ]
  },
  {
   "cell_type": "code",
   "execution_count": null,
   "id": "eb73475d-7491-4843-8571-0a410699e55e",
   "metadata": {},
   "outputs": [],
   "source": [
    "optimizer = optim.Adam(model.parameters())"
   ]
  },
  {
   "cell_type": "markdown",
   "id": "9e7c63e3-8ccd-473e-8d60-af679277400b",
   "metadata": {},
   "source": [
    "##### Example 1"
   ]
  },
  {
   "cell_type": "code",
   "execution_count": null,
   "id": "294d9762-5a7a-4ac7-85c5-779e13f8f14a",
   "metadata": {},
   "outputs": [
    {
     "data": {
      "text/plain": [
       "Adam (\n",
       "Parameter Group 0\n",
       "    amsgrad: False\n",
       "    betas: (0.9, 0.999)\n",
       "    capturable: False\n",
       "    differentiable: False\n",
       "    eps: 1e-08\n",
       "    foreach: None\n",
       "    fused: False\n",
       "    lr: 0.001\n",
       "    maximize: False\n",
       "    weight_decay: 0\n",
       ")"
      ]
     },
     "execution_count": null,
     "metadata": {},
     "output_type": "execute_result"
    }
   ],
   "source": [
    "optimizer"
   ]
  },
  {
   "cell_type": "code",
   "execution_count": null,
   "id": "0a310b7f-fa26-4da4-a2e3-d2df54bf1bdc",
   "metadata": {},
   "outputs": [],
   "source": [
    "param_list = optimizer.param_groups[0][\"params\"]"
   ]
  },
  {
   "cell_type": "code",
   "execution_count": null,
   "id": "874bbc2f-c18b-4b31-9f27-e88cad020903",
   "metadata": {},
   "outputs": [
    {
     "data": {
      "text/plain": [
       "148"
      ]
     },
     "execution_count": null,
     "metadata": {},
     "output_type": "execute_result"
    }
   ],
   "source": [
    "len(param_list)"
   ]
  },
  {
   "cell_type": "code",
   "execution_count": null,
   "id": "d008e31d-f711-4a46-958f-638b3693726a",
   "metadata": {},
   "outputs": [],
   "source": [
    "world_size = 16"
   ]
  },
  {
   "cell_type": "code",
   "execution_count": null,
   "id": "539c76bd-75e7-4274-b65f-f44aca39570a",
   "metadata": {},
   "outputs": [
    {
     "data": {
      "text/plain": [
       "16"
      ]
     },
     "execution_count": null,
     "metadata": {},
     "output_type": "execute_result"
    }
   ],
   "source": [
    "world_size"
   ]
  },
  {
   "cell_type": "code",
   "execution_count": null,
   "id": "12f90915-c3e3-4ef0-ad88-98f848dbe7e8",
   "metadata": {},
   "outputs": [
    {
     "data": {
      "text/plain": [
       "(list, 148)"
      ]
     },
     "execution_count": null,
     "metadata": {},
     "output_type": "execute_result"
    }
   ],
   "source": [
    "type(param_list), len(param_list)"
   ]
  },
  {
   "cell_type": "markdown",
   "id": "14f7f402-d521-482d-b198-51b89ac784b2",
   "metadata": {},
   "source": [
    "In context of ZeRO, using a greedy algorithm, re-implement the partitioning of the model parameters `param_list` across 16 accelerators. And balance the memory usage evenly across all accelerators. Explain your code\n",
    "\n",
    "**Hint**:\n",
    "- `x.numel()`\n",
    "- `sorted(data, key, reverse=True)`"
   ]
  },
  {
   "cell_type": "code",
   "execution_count": null,
   "id": "3c32b4ad-71d9-4048-a9b3-8d713dac7a45",
   "metadata": {},
   "outputs": [],
   "source": [
    "params_per_rank = [[] for _ in range(world_size)]"
   ]
  },
  {
   "cell_type": "code",
   "execution_count": null,
   "id": "5dd34031-99a1-4373-8404-69be9b1a4262",
   "metadata": {},
   "outputs": [],
   "source": [
    "numel_per_rank = [0 for _ in range(world_size)]"
   ]
  },
  {
   "cell_type": "code",
   "execution_count": null,
   "id": "45ef2bc8-039e-470c-8865-98e2bb07042b",
   "metadata": {},
   "outputs": [],
   "source": [
    "sorted_params = sorted(param_list, key=lambda x: x.numel(), reverse=True)"
   ]
  },
  {
   "cell_type": "code",
   "execution_count": null,
   "id": "6b378d81-1a7b-4110-a0b6-99377f3d1a93",
   "metadata": {},
   "outputs": [
    {
     "data": {
      "text/plain": [
       "(38597376, 768)"
      ]
     },
     "execution_count": null,
     "metadata": {},
     "output_type": "execute_result"
    }
   ],
   "source": [
    "sorted_params[0].numel(), sorted_params[-1].numel()"
   ]
  },
  {
   "cell_type": "code",
   "execution_count": null,
   "id": "1cc0a980-fff6-4395-a278-eb5e9c9145f4",
   "metadata": {},
   "outputs": [],
   "source": [
    "for param in sorted_params:\n",
    "    rank_to_go = numel_per_rank.index(min(numel_per_rank))\n",
    "    params_per_rank[rank_to_go].append(param)\n",
    "    numel_per_rank[rank_to_go] += param.numel()"
   ]
  },
  {
   "cell_type": "markdown",
   "id": "afb84873-d4bb-4f39-bcd3-73b7dc21145d",
   "metadata": {},
   "source": [
    "**Explain**\n",
    "- Initialize empty lists `params_per_rank` and `numel_per_rank with` the size equal to the number of accelerators. `params_per_rank` will store the partitioned parameters for each accelerator, while `numel_per_rank` will keep track of the total number of elements (numel) for each accelerator.\n",
    "- Iterate over the sorted parameters, and for each parameter:\n",
    "    + a. Find the accelerator (rank) with the smallest number of elements in its partition using `min(numel_per_rank)`. This step ensures that the parameter is assigned to the accelerator with the least memory usage so far.\n",
    "    + b. Append the parameter to the corresponding list in `params_per_rank[rank_to_go]` for the selected accelerator.\n",
    "    + c. Update the total number of elements for the selected accelerator in `numel_per_rank`."
   ]
  },
  {
   "cell_type": "code",
   "execution_count": null,
   "id": "842637a8-e5c8-4d6b-ac37-b7be48eb38e5",
   "metadata": {},
   "outputs": [
    {
     "data": {
      "text/plain": [
       "[38597376, 5505024, 5898240]"
      ]
     },
     "execution_count": null,
     "metadata": {},
     "output_type": "execute_result"
    }
   ],
   "source": [
    "numel_per_rank[:3]"
   ]
  },
  {
   "cell_type": "code",
   "execution_count": null,
   "id": "5d55e4bf-f4b1-4b06-8dc0-206b91e5aaf1",
   "metadata": {},
   "outputs": [
    {
     "data": {
      "text/plain": [
       "[[Parameter containing:\n",
       "  tensor([[-0.1101, -0.0393,  0.0331,  ..., -0.1364,  0.0151,  0.0453],\n",
       "          [ 0.0403, -0.0486,  0.0462,  ...,  0.0861,  0.0025,  0.0432],\n",
       "          [-0.1275,  0.0479,  0.1841,  ...,  0.0899, -0.1297, -0.0879],\n",
       "          ...,\n",
       "          [-0.0445, -0.0548,  0.0123,  ...,  0.1044,  0.0978, -0.0695],\n",
       "          [ 0.1860,  0.0167,  0.0461,  ..., -0.0963,  0.0785, -0.0225],\n",
       "          [ 0.0514, -0.0277,  0.0499,  ...,  0.0070,  0.1552,  0.1207]],\n",
       "         requires_grad=True)],\n",
       " [Parameter containing:\n",
       "  tensor([[ 0.0942,  0.0982, -0.0321,  ..., -0.1783,  0.1474,  0.0706],\n",
       "          [-0.1265, -0.0671,  0.0305,  ...,  0.1966, -0.1203, -0.0628],\n",
       "          [ 0.0496, -0.0373, -0.0483,  ...,  0.0655, -0.0714,  0.0826],\n",
       "          ...,\n",
       "          [ 0.0480,  0.1575,  0.0014,  ..., -0.3987,  0.0889,  0.0240],\n",
       "          [ 0.0324,  0.1249, -0.0426,  ..., -0.1934,  0.1272, -0.0405],\n",
       "          [-0.0316,  0.0010, -0.0491,  ..., -0.0406,  0.0536,  0.1896]],\n",
       "         requires_grad=True),\n",
       "  Parameter containing:\n",
       "  tensor([[ 0.0227, -0.0343,  0.1083,  ..., -0.0943,  0.1231,  0.0137],\n",
       "          [-0.0212, -0.0988, -0.0261,  ...,  0.2125,  0.0123, -0.1253],\n",
       "          [-0.2011,  0.0616,  0.3123,  ..., -0.1408, -0.0719,  0.0547],\n",
       "          ...,\n",
       "          [ 0.0893, -0.1467, -0.0817,  ...,  0.1018,  0.0379,  0.0307],\n",
       "          [ 0.0216, -0.1328, -0.0023,  ...,  0.0815, -0.1012, -0.0800],\n",
       "          [ 0.0022,  0.0369, -0.0158,  ..., -0.0689,  0.0130, -0.0386]],\n",
       "         requires_grad=True),\n",
       "  Parameter containing:\n",
       "  tensor([[-1.8821e-02, -1.9742e-01,  4.0267e-03,  ..., -4.3044e-02,\n",
       "            2.8267e-02,  5.4490e-02],\n",
       "          [ 2.3959e-02, -5.3792e-02, -9.4879e-02,  ...,  3.4170e-02,\n",
       "            1.0172e-02, -1.5573e-04],\n",
       "          [ 4.2161e-03, -8.4764e-02,  5.4515e-02,  ...,  1.9745e-02,\n",
       "            1.9325e-02, -2.1424e-02],\n",
       "          ...,\n",
       "          [-1.7987e-03,  1.6052e-03, -5.5103e-02,  ...,  1.3617e-02,\n",
       "           -7.1805e-03,  3.7552e-03],\n",
       "          [ 3.2105e-03,  1.5501e-03, -4.8944e-02,  ...,  2.0725e-02,\n",
       "           -1.1838e-02, -5.5683e-04],\n",
       "          [ 2.6610e-04,  3.0272e-03, -1.7086e-03,  ..., -4.6506e-03,\n",
       "           -2.3541e-03, -5.7855e-03]], requires_grad=True)]]"
      ]
     },
     "execution_count": null,
     "metadata": {},
     "output_type": "execute_result"
    }
   ],
   "source": [
    "params_per_rank[:2]"
   ]
  },
  {
   "cell_type": "code",
   "execution_count": null,
   "id": "9b072c6e-15ce-4099-b55c-b59c175809dc",
   "metadata": {},
   "outputs": [],
   "source": []
  }
 ],
 "metadata": {
  "kernelspec": {
   "display_name": "Python 3 (ipykernel)",
   "language": "python",
   "name": "python3"
  }
 },
 "nbformat": 4,
 "nbformat_minor": 5
}
