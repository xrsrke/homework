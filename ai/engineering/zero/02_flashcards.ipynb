{
 "cells": [
  {
   "cell_type": "code",
   "execution_count": null,
   "id": "f0810441-6206-4af7-833c-b0167e5ad040",
   "metadata": {},
   "outputs": [],
   "source": [
    "from transformers import AutoModel\n",
    "from torch import optim"
   ]
  },
  {
   "cell_type": "code",
   "execution_count": null,
   "id": "20a85700-9c3c-4fa2-89eb-c4c25feaff9c",
   "metadata": {},
   "outputs": [],
   "source": [
    "model = AutoModel.from_pretrained(\"gpt2\")"
   ]
  },
  {
   "cell_type": "code",
   "execution_count": null,
   "id": "eb73475d-7491-4843-8571-0a410699e55e",
   "metadata": {},
   "outputs": [],
   "source": [
    "optimizer = optim.Adam(model.parameters())"
   ]
  },
  {
   "cell_type": "markdown",
   "id": "9e7c63e3-8ccd-473e-8d60-af679277400b",
   "metadata": {},
   "source": [
    "##### Example 1"
   ]
  },
  {
   "cell_type": "code",
   "execution_count": null,
   "id": "294d9762-5a7a-4ac7-85c5-779e13f8f14a",
   "metadata": {},
   "outputs": [
    {
     "data": {
      "text/plain": [
       "Adam (\n",
       "Parameter Group 0\n",
       "    amsgrad: False\n",
       "    betas: (0.9, 0.999)\n",
       "    capturable: False\n",
       "    differentiable: False\n",
       "    eps: 1e-08\n",
       "    foreach: None\n",
       "    fused: False\n",
       "    lr: 0.001\n",
       "    maximize: False\n",
       "    weight_decay: 0\n",
       ")"
      ]
     },
     "execution_count": null,
     "metadata": {},
     "output_type": "execute_result"
    }
   ],
   "source": [
    "optimizer"
   ]
  },
  {
   "cell_type": "code",
   "execution_count": null,
   "id": "0a310b7f-fa26-4da4-a2e3-d2df54bf1bdc",
   "metadata": {},
   "outputs": [],
   "source": [
    "param_list = optimizer.param_groups[0][\"params\"]"
   ]
  },
  {
   "cell_type": "code",
   "execution_count": null,
   "id": "874bbc2f-c18b-4b31-9f27-e88cad020903",
   "metadata": {},
   "outputs": [
    {
     "data": {
      "text/plain": [
       "148"
      ]
     },
     "execution_count": null,
     "metadata": {},
     "output_type": "execute_result"
    }
   ],
   "source": [
    "len(param_list)"
   ]
  },
  {
   "cell_type": "code",
   "execution_count": null,
   "id": "d008e31d-f711-4a46-958f-638b3693726a",
   "metadata": {},
   "outputs": [],
   "source": [
    "world_size = 16"
   ]
  },
  {
   "cell_type": "code",
   "execution_count": null,
   "id": "539c76bd-75e7-4274-b65f-f44aca39570a",
   "metadata": {},
   "outputs": [
    {
     "data": {
      "text/plain": [
       "16"
      ]
     },
     "execution_count": null,
     "metadata": {},
     "output_type": "execute_result"
    }
   ],
   "source": [
    "world_size"
   ]
  },
  {
   "cell_type": "code",
   "execution_count": null,
   "id": "12f90915-c3e3-4ef0-ad88-98f848dbe7e8",
   "metadata": {},
   "outputs": [
    {
     "data": {
      "text/plain": [
       "(list, 148)"
      ]
     },
     "execution_count": null,
     "metadata": {},
     "output_type": "execute_result"
    }
   ],
   "source": [
    "type(param_list), len(param_list)"
   ]
  },
  {
   "cell_type": "markdown",
   "id": "14f7f402-d521-482d-b198-51b89ac784b2",
   "metadata": {},
   "source": [
    "In context of ZeRO, using a greedy algorithm, re-implement the partitioning of the model parameters `param_list` across 16 accelerators. And balance the memory usage evenly across all accelerators. Explain your code\n",
    "\n",
    "**Hint**:\n",
    "- `x.numel()`\n",
    "- `sorted(data, key, reverse=True)`"
   ]
  },
  {
   "cell_type": "code",
   "execution_count": null,
   "id": "3c32b4ad-71d9-4048-a9b3-8d713dac7a45",
   "metadata": {},
   "outputs": [],
   "source": [
    "params_per_rank = [[] for _ in range(world_size)]"
   ]
  },
  {
   "cell_type": "code",
   "execution_count": null,
   "id": "5dd34031-99a1-4373-8404-69be9b1a4262",
   "metadata": {},
   "outputs": [],
   "source": [
    "numel_per_rank = [0 for _ in range(world_size)]"
   ]
  },
  {
   "cell_type": "code",
   "execution_count": null,
   "id": "45ef2bc8-039e-470c-8865-98e2bb07042b",
   "metadata": {},
   "outputs": [],
   "source": [
    "sorted_params = sorted(param_list, key=lambda x: x.numel(), reverse=True)"
   ]
  },
  {
   "cell_type": "code",
   "execution_count": null,
   "id": "6b378d81-1a7b-4110-a0b6-99377f3d1a93",
   "metadata": {},
   "outputs": [
    {
     "data": {
      "text/plain": [
       "(38597376, 768)"
      ]
     },
     "execution_count": null,
     "metadata": {},
     "output_type": "execute_result"
    }
   ],
   "source": [
    "sorted_params[0].numel(), sorted_params[-1].numel()"
   ]
  },
  {
   "cell_type": "code",
   "execution_count": null,
   "id": "1cc0a980-fff6-4395-a278-eb5e9c9145f4",
   "metadata": {},
   "outputs": [],
   "source": [
    "for param in sorted_params:\n",
    "    rank_to_go = numel_per_rank.index(min(numel_per_rank))\n",
    "    params_per_rank[rank_to_go].append(param)\n",
    "    numel_per_rank[rank_to_go] += param.numel()"
   ]
  },
  {
   "cell_type": "markdown",
   "id": "afb84873-d4bb-4f39-bcd3-73b7dc21145d",
   "metadata": {},
   "source": [
    "**Explain**\n",
    "- Initialize empty lists `params_per_rank` and `numel_per_rank with` the size equal to the number of accelerators. `params_per_rank` will store the partitioned parameters for each accelerator, while `numel_per_rank` will keep track of the total number of elements (numel) for each accelerator.\n",
    "- Iterate over the sorted parameters, and for each parameter:\n",
    "    + a. Find the accelerator (rank) with the smallest number of elements in its partition using `min(numel_per_rank)`. This step ensures that the parameter is assigned to the accelerator with the least memory usage so far.\n",
    "    + b. Append the parameter to the corresponding list in `params_per_rank[rank_to_go]` for the selected accelerator.\n",
    "    + c. Update the total number of elements for the selected accelerator in `numel_per_rank`."
   ]
  },
  {
   "cell_type": "code",
   "execution_count": null,
   "id": "842637a8-e5c8-4d6b-ac37-b7be48eb38e5",
   "metadata": {},
   "outputs": [
    {
     "data": {
      "text/plain": [
       "[38597376, 5505024, 5898240]"
      ]
     },
     "execution_count": null,
     "metadata": {},
     "output_type": "execute_result"
    }
   ],
   "source": [
    "numel_per_rank[:3]"
   ]
  },
  {
   "cell_type": "code",
   "execution_count": null,
   "id": "5d55e4bf-f4b1-4b06-8dc0-206b91e5aaf1",
   "metadata": {},
   "outputs": [
    {
     "data": {
      "text/plain": [
       "[[Parameter containing:\n",
       "  tensor([[-0.1101, -0.0393,  0.0331,  ..., -0.1364,  0.0151,  0.0453],\n",
       "          [ 0.0403, -0.0486,  0.0462,  ...,  0.0861,  0.0025,  0.0432],\n",
       "          [-0.1275,  0.0479,  0.1841,  ...,  0.0899, -0.1297, -0.0879],\n",
       "          ...,\n",
       "          [-0.0445, -0.0548,  0.0123,  ...,  0.1044,  0.0978, -0.0695],\n",
       "          [ 0.1860,  0.0167,  0.0461,  ..., -0.0963,  0.0785, -0.0225],\n",
       "          [ 0.0514, -0.0277,  0.0499,  ...,  0.0070,  0.1552,  0.1207]],\n",
       "         requires_grad=True)],\n",
       " [Parameter containing:\n",
       "  tensor([[ 0.0942,  0.0982, -0.0321,  ..., -0.1783,  0.1474,  0.0706],\n",
       "          [-0.1265, -0.0671,  0.0305,  ...,  0.1966, -0.1203, -0.0628],\n",
       "          [ 0.0496, -0.0373, -0.0483,  ...,  0.0655, -0.0714,  0.0826],\n",
       "          ...,\n",
       "          [ 0.0480,  0.1575,  0.0014,  ..., -0.3987,  0.0889,  0.0240],\n",
       "          [ 0.0324,  0.1249, -0.0426,  ..., -0.1934,  0.1272, -0.0405],\n",
       "          [-0.0316,  0.0010, -0.0491,  ..., -0.0406,  0.0536,  0.1896]],\n",
       "         requires_grad=True),\n",
       "  Parameter containing:\n",
       "  tensor([[ 0.0227, -0.0343,  0.1083,  ..., -0.0943,  0.1231,  0.0137],\n",
       "          [-0.0212, -0.0988, -0.0261,  ...,  0.2125,  0.0123, -0.1253],\n",
       "          [-0.2011,  0.0616,  0.3123,  ..., -0.1408, -0.0719,  0.0547],\n",
       "          ...,\n",
       "          [ 0.0893, -0.1467, -0.0817,  ...,  0.1018,  0.0379,  0.0307],\n",
       "          [ 0.0216, -0.1328, -0.0023,  ...,  0.0815, -0.1012, -0.0800],\n",
       "          [ 0.0022,  0.0369, -0.0158,  ..., -0.0689,  0.0130, -0.0386]],\n",
       "         requires_grad=True),\n",
       "  Parameter containing:\n",
       "  tensor([[-1.8821e-02, -1.9742e-01,  4.0267e-03,  ..., -4.3044e-02,\n",
       "            2.8267e-02,  5.4490e-02],\n",
       "          [ 2.3959e-02, -5.3792e-02, -9.4879e-02,  ...,  3.4170e-02,\n",
       "            1.0172e-02, -1.5573e-04],\n",
       "          [ 4.2161e-03, -8.4764e-02,  5.4515e-02,  ...,  1.9745e-02,\n",
       "            1.9325e-02, -2.1424e-02],\n",
       "          ...,\n",
       "          [-1.7987e-03,  1.6052e-03, -5.5103e-02,  ...,  1.3617e-02,\n",
       "           -7.1805e-03,  3.7552e-03],\n",
       "          [ 3.2105e-03,  1.5501e-03, -4.8944e-02,  ...,  2.0725e-02,\n",
       "           -1.1838e-02, -5.5683e-04],\n",
       "          [ 2.6610e-04,  3.0272e-03, -1.7086e-03,  ..., -4.6506e-03,\n",
       "           -2.3541e-03, -5.7855e-03]], requires_grad=True)]]"
      ]
     },
     "execution_count": null,
     "metadata": {},
     "output_type": "execute_result"
    }
   ],
   "source": [
    "params_per_rank[:2]"
   ]
  },
  {
   "cell_type": "markdown",
   "id": "bf4ae182-465f-4c46-8381-02899b8745a7",
   "metadata": {},
   "source": [
    "##### Example 1.1"
   ]
  },
  {
   "cell_type": "code",
   "execution_count": null,
   "id": "903af474-27fd-4fae-a400-80780b6579a7",
   "metadata": {},
   "outputs": [
    {
     "data": {
      "text/plain": [
       "torch.optim.adam.Adam"
      ]
     },
     "execution_count": null,
     "metadata": {},
     "output_type": "execute_result"
    }
   ],
   "source": [
    "type(optimizer)"
   ]
  },
  {
   "cell_type": "code",
   "execution_count": null,
   "id": "118889f8-65dd-4089-a6ca-fd466374ff8d",
   "metadata": {},
   "outputs": [
    {
     "data": {
      "text/plain": [
       "list"
      ]
     },
     "execution_count": null,
     "metadata": {},
     "output_type": "execute_result"
    }
   ],
   "source": [
    "type(optimizer.param_groups)"
   ]
  },
  {
   "cell_type": "markdown",
   "id": "7701622e-2632-4019-ab1e-f369e3f31e02",
   "metadata": {},
   "source": [
    "Print the shape of all parameters in `optimizer`"
   ]
  },
  {
   "cell_type": "code",
   "execution_count": null,
   "id": "d8db63cf-0a9d-4651-b988-3dee9fd9fc13",
   "metadata": {},
   "outputs": [],
   "source": [
    "for param_group in optimizer.param_groups:\n",
    "    for param in param_group[\"params\"]:\n",
    "        # print(param.shape)\n",
    "        pass"
   ]
  },
  {
   "cell_type": "markdown",
   "id": "b4ac1283-cf69-4cb6-8059-76325d7b8fcb",
   "metadata": {},
   "source": [
    "##### Example 1.2"
   ]
  },
  {
   "cell_type": "markdown",
   "id": "9e6f7585-89ea-4c70-8449-be4d37a718c9",
   "metadata": {},
   "source": [
    "##### Example 2"
   ]
  },
  {
   "cell_type": "code",
   "execution_count": null,
   "id": "2451bbd0-8725-40d3-a7a1-b8d6cf1e9e60",
   "metadata": {},
   "outputs": [
    {
     "data": {
      "text/plain": [
       "16"
      ]
     },
     "execution_count": null,
     "metadata": {},
     "output_type": "execute_result"
    }
   ],
   "source": [
    "world_size"
   ]
  },
  {
   "cell_type": "code",
   "execution_count": null,
   "id": "9c558409-c5b4-405a-a6ec-663e084603da",
   "metadata": {},
   "outputs": [
    {
     "data": {
      "text/plain": [
       "True"
      ]
     },
     "execution_count": null,
     "metadata": {},
     "output_type": "execute_result"
    }
   ],
   "source": [
    "len(params_per_rank) == world_size"
   ]
  },
  {
   "cell_type": "code",
   "execution_count": null,
   "id": "5627030a-fa48-4eb4-9b52-ed6b90b0eaac",
   "metadata": {},
   "outputs": [
    {
     "data": {
      "text/plain": [
       "torch.nn.parameter.Parameter"
      ]
     },
     "execution_count": null,
     "metadata": {},
     "output_type": "execute_result"
    }
   ],
   "source": [
    "type(params_per_rank[0][0])"
   ]
  },
  {
   "cell_type": "code",
   "execution_count": null,
   "id": "003b3d07-8f94-4992-9d99-0b02925caf8a",
   "metadata": {},
   "outputs": [],
   "source": [
    "partition_parameters_cache = [[] for _ in range(world_size)]"
   ]
  },
  {
   "cell_type": "code",
   "execution_count": null,
   "id": "f6dae845-1e99-4da8-b595-a30e17a1bd2e",
   "metadata": {},
   "outputs": [],
   "source": [
    "for rank, param_group in enumerate(params_per_rank):\n",
    "    partition_parameters_cache[rank] = param_group"
   ]
  },
  {
   "cell_type": "code",
   "execution_count": null,
   "id": "6ac752bf-ae84-4ba0-8202-30a2e5969de2",
   "metadata": {},
   "outputs": [],
   "source": [
    "partition_parameters_cache"
   ]
  },
  {
   "cell_type": "markdown",
   "id": "b797b860-4b9f-4610-90bc-f2a2088684bf",
   "metadata": {},
   "source": [
    "##### Example 3"
   ]
  },
  {
   "cell_type": "code",
   "execution_count": null,
   "id": "ac1c56fb-be1b-4dcc-bd3c-af5d4123881f",
   "metadata": {},
   "outputs": [
    {
     "data": {
      "text/plain": [
       "16"
      ]
     },
     "execution_count": null,
     "metadata": {},
     "output_type": "execute_result"
    }
   ],
   "source": [
    "world_size"
   ]
  },
  {
   "cell_type": "code",
   "execution_count": null,
   "id": "c74a8726-1139-4735-8f66-7868eeb583d9",
   "metadata": {},
   "outputs": [
    {
     "data": {
      "text/plain": [
       "True"
      ]
     },
     "execution_count": null,
     "metadata": {},
     "output_type": "execute_result"
    }
   ],
   "source": [
    "len(params_per_rank) == world_size"
   ]
  },
  {
   "cell_type": "code",
   "execution_count": null,
   "id": "e5101983-a806-4ad2-8820-d6346869f85a",
   "metadata": {},
   "outputs": [
    {
     "data": {
      "text/plain": [
       "torch.nn.parameter.Parameter"
      ]
     },
     "execution_count": null,
     "metadata": {},
     "output_type": "execute_result"
    }
   ],
   "source": [
    "type(params_per_rank[0][0])"
   ]
  },
  {
   "cell_type": "code",
   "execution_count": null,
   "id": "dbf11aea-d8b7-4ddc-8c4c-04efcb90bdd9",
   "metadata": {},
   "outputs": [],
   "source": [
    "def per_device_params():\n",
    "    if "
   ]
  },
  {
   "cell_type": "markdown",
   "id": "d2e08dfd-092b-47fd-b225-2ed56870d31c",
   "metadata": {},
   "source": [
    "##### Example 4"
   ]
  },
  {
   "cell_type": "code",
   "execution_count": null,
   "id": "ec603ab1-a778-4778-9711-e4398a561c4b",
   "metadata": {},
   "outputs": [],
   "source": [
    "from torch.autograd import profiler"
   ]
  },
  {
   "cell_type": "code",
   "execution_count": null,
   "id": "8dc6bb5a-60e7-4c24-80f0-9c3412757b41",
   "metadata": {},
   "outputs": [],
   "source": [
    "#torch.autograd.profiler.record_function"
   ]
  },
  {
   "cell_type": "markdown",
   "id": "81784a52-aca1-43e1-9525-095c41ae7302",
   "metadata": {},
   "source": [
    "##### Example 5"
   ]
  },
  {
   "cell_type": "code",
   "execution_count": null,
   "id": "928d404d-ba4e-41c6-893a-789a03f2d422",
   "metadata": {},
   "outputs": [],
   "source": [
    "x = torch.tensor([69])"
   ]
  },
  {
   "cell_type": "code",
   "execution_count": null,
   "id": "7c9c7e4c-a5b5-42cb-bef4-101eb6a8b3c7",
   "metadata": {},
   "outputs": [],
   "source": [
    "import torch"
   ]
  },
  {
   "cell_type": "code",
   "execution_count": null,
   "id": "b66212da-b81b-4bad-bcd3-faebd18775cb",
   "metadata": {},
   "outputs": [
    {
     "data": {
      "text/plain": [
       "tensor([69])"
      ]
     },
     "execution_count": null,
     "metadata": {},
     "output_type": "execute_result"
    }
   ],
   "source": [
    "x"
   ]
  },
  {
   "cell_type": "markdown",
   "id": "38429bc1-4300-43d5-9ca8-6928cc638b62",
   "metadata": {},
   "source": [
    "Send  the tensor `x` from rank `0` to all other ranks without requiring the operation to be completed before proceeding"
   ]
  },
  {
   "cell_type": "code",
   "execution_count": null,
   "id": "7e0b6f6e-3e1a-4a24-a519-eb78bb6143ed",
   "metadata": {},
   "outputs": [],
   "source": [
    "torch.distributed.broadcast(x, src=0, async_op=True)"
   ]
  },
  {
   "cell_type": "markdown",
   "id": "1397e0a2-14cf-4dac-bba4-4459974fda2f",
   "metadata": {},
   "source": [
    "##### Example 6"
   ]
  },
  {
   "cell_type": "code",
   "execution_count": null,
   "id": "21555e47-8437-42bf-81da-5def329259bc",
   "metadata": {},
   "outputs": [],
   "source": [
    "import torch"
   ]
  },
  {
   "cell_type": "code",
   "execution_count": null,
   "id": "55f8cb1f-2aa1-415d-968a-700e0988c0bf",
   "metadata": {},
   "outputs": [],
   "source": [
    "x = torch.tensor([1, 2, 3])"
   ]
  },
  {
   "cell_type": "code",
   "execution_count": null,
   "id": "1c4801eb-0395-411e-8578-a8c2a63a6e6b",
   "metadata": {},
   "outputs": [],
   "source": [
    "import torch.distributed as dist"
   ]
  },
  {
   "cell_type": "code",
   "execution_count": null,
   "id": "81f2261f-29ec-403d-b34d-27caf80449e2",
   "metadata": {},
   "outputs": [
    {
     "data": {
      "text/plain": [
       "tensor([1, 2, 3])"
      ]
     },
     "execution_count": null,
     "metadata": {},
     "output_type": "execute_result"
    }
   ],
   "source": [
    "x"
   ]
  },
  {
   "cell_type": "markdown",
   "id": "20e24850-d15e-4819-9334-e5584ff89a7a",
   "metadata": {},
   "source": [
    "What will be the value of `x[0]` that gets broadcasted to all other processes?"
   ]
  },
  {
   "cell_type": "code",
   "execution_count": null,
   "id": "3b62d109-c6e8-4fc8-a6f0-39bfc030564c",
   "metadata": {},
   "outputs": [],
   "source": [
    "dist.broadcast(tensor=x, src=0, async_op=True)"
   ]
  },
  {
   "cell_type": "code",
   "execution_count": null,
   "id": "72cf08c3-6d07-495c-8726-146f2af76dfd",
   "metadata": {},
   "outputs": [],
   "source": [
    "x[0] = 10"
   ]
  },
  {
   "cell_type": "markdown",
   "id": "62ff8baf-839a-4517-9d5d-ea273e77fb7f",
   "metadata": {},
   "source": [
    "**Explain**\n",
    "- If the broadcast operation finishes before `x[0] = 10` is executed, the original value `1` will be broadcasted to all other processes.\n",
    "- But if `x[0] = 10` is executed before the broadcast finishes, then `10` will be broadcasted."
   ]
  },
  {
   "cell_type": "markdown",
   "id": "8a134ecc-065b-498e-880d-785daa3035da",
   "metadata": {},
   "source": [
    "##### Example 7"
   ]
  },
  {
   "cell_type": "code",
   "execution_count": null,
   "id": "be355e5e-2e2b-4908-8587-1b20f572ede7",
   "metadata": {},
   "outputs": [],
   "source": [
    "x = torch.tensor([1.0, 2.0, 3.0])"
   ]
  },
  {
   "cell_type": "code",
   "execution_count": null,
   "id": "e71ec44f-1c97-4635-bca7-f91fbaac1474",
   "metadata": {},
   "outputs": [],
   "source": [
    "import torch.distributed as dist"
   ]
  },
  {
   "cell_type": "code",
   "execution_count": null,
   "id": "9bb039f6-74c6-47de-8a12-3b788bc549ce",
   "metadata": {},
   "outputs": [
    {
     "data": {
      "text/plain": [
       "tensor([1., 2., 3.])"
      ]
     },
     "execution_count": null,
     "metadata": {},
     "output_type": "execute_result"
    }
   ],
   "source": [
    "x"
   ]
  },
  {
   "cell_type": "markdown",
   "id": "fa59b779-f818-40c5-ad20-2a745b851907",
   "metadata": {},
   "source": [
    "Broadcast the tensor `x` from process `0` to all other processes **asynchronously**, ensuring the broadcasted value of `x[0]` is `1`"
   ]
  },
  {
   "cell_type": "code",
   "execution_count": null,
   "id": "3315125c-dbc2-463b-88fb-dad150880ba6",
   "metadata": {},
   "outputs": [],
   "source": [
    "work_handle = dist.broadcast(tensor=x, src=0, async_op=True)"
   ]
  },
  {
   "cell_type": "markdown",
   "id": "886f0094-9e90-421f-8f54-df4ecec3f7f0",
   "metadata": {},
   "source": [
    "Now, pause the program's execution until the broadcast operation is fully complete by calling the wait function:"
   ]
  },
  {
   "cell_type": "code",
   "execution_count": null,
   "id": "f4058231-3d33-47b2-974e-395ad56bb4ce",
   "metadata": {},
   "outputs": [],
   "source": [
    "work_handle.wait()"
   ]
  },
  {
   "cell_type": "markdown",
   "id": "6489ac84-1a40-42f2-afdf-147e6ce25f9b",
   "metadata": {},
   "source": [
    "Once the broadcasting operation is done, you can safely alter the tensor `x`"
   ]
  },
  {
   "cell_type": "code",
   "execution_count": null,
   "id": "35f4724d-fcc0-43eb-b715-4af0536c477c",
   "metadata": {},
   "outputs": [],
   "source": [
    "x[0] = 999.0"
   ]
  },
  {
   "cell_type": "code",
   "execution_count": null,
   "id": "801dc9dd-4f46-4694-9948-3fb6109f0592",
   "metadata": {},
   "outputs": [
    {
     "data": {
      "text/plain": [
       "tensor([999.,   2.,   3.])"
      ]
     },
     "execution_count": null,
     "metadata": {},
     "output_type": "execute_result"
    }
   ],
   "source": [
    "x"
   ]
  },
  {
   "cell_type": "markdown",
   "id": "71af6cd9-ff85-4a14-8cbf-1a2bdfdeceed",
   "metadata": {},
   "source": [
    "##### Example 8"
   ]
  },
  {
   "cell_type": "code",
   "execution_count": null,
   "id": "eb87a4a4-b8d4-4378-ba82-057118ab0990",
   "metadata": {},
   "outputs": [],
   "source": [
    "numbers = [1, 2, 3, 4, 5]"
   ]
  },
  {
   "cell_type": "code",
   "execution_count": null,
   "id": "5123509d-2412-4ef9-b08b-238f4cfed15e",
   "metadata": {},
   "outputs": [
    {
     "data": {
      "text/plain": [
       "[1, 2, 3, 4, 5]"
      ]
     },
     "execution_count": null,
     "metadata": {},
     "output_type": "execute_result"
    }
   ],
   "source": [
    "numbers"
   ]
  },
  {
   "cell_type": "markdown",
   "id": "e9511280-a520-44d3-a550-2d26f8967e87",
   "metadata": {},
   "source": [
    "Tell the typechecker that `numbers` is a list of integers, using the `typing` module."
   ]
  },
  {
   "cell_type": "code",
   "execution_count": null,
   "id": "a6122c96-c29b-4f0c-9882-a2e3a0a4372d",
   "metadata": {},
   "outputs": [],
   "source": [
    "from typing import List, cast"
   ]
  },
  {
   "cell_type": "code",
   "execution_count": null,
   "id": "491aee39-5e75-43f3-916c-5bdd7b1f9128",
   "metadata": {},
   "outputs": [],
   "source": [
    "numbers = cast(List[int], numbers)"
   ]
  },
  {
   "cell_type": "code",
   "execution_count": null,
   "id": "7879317d-0b95-4770-82d5-192fbd8ba3c0",
   "metadata": {},
   "outputs": [
    {
     "data": {
      "text/plain": [
       "[1, 2, 3, 4, 5]"
      ]
     },
     "execution_count": null,
     "metadata": {},
     "output_type": "execute_result"
    }
   ],
   "source": [
    "numbers"
   ]
  },
  {
   "cell_type": "code",
   "execution_count": null,
   "id": "57a6d3bf-214b-4b8e-ae71-93361212c46c",
   "metadata": {},
   "outputs": [],
   "source": []
  }
 ],
 "metadata": {
  "kernelspec": {
   "display_name": "Python 3 (ipykernel)",
   "language": "python",
   "name": "python3"
  }
 },
 "nbformat": 4,
 "nbformat_minor": 5
}
