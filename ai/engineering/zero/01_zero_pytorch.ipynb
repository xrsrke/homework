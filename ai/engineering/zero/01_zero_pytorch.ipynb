{
 "cells": [
  {
   "cell_type": "code",
   "execution_count": null,
   "id": "8f9d1f71-aa54-4b48-841a-593fbb39848d",
   "metadata": {},
   "outputs": [],
   "source": [
    "class ZeroOptimizer:\n",
    "    def partition_parameters(self):\n",
    "        if len(self._partition_parameters_cache) == 0:\n",
    "            self._partition_parameters_cache = [list() for _ in range(self.world_size)]\n",
    "            sizes = [0] * self.world_size"
   ]
  }
 ],
 "metadata": {
  "kernelspec": {
   "display_name": "Python 3 (ipykernel)",
   "language": "python",
   "name": "python3"
  },
  "language_info": {
   "codemirror_mode": {
    "name": "ipython",
    "version": 3
   },
   "file_extension": ".py",
   "mimetype": "text/x-python",
   "name": "python",
   "nbconvert_exporter": "python",
   "pygments_lexer": "ipython3",
   "version": "3.8.16"
  }
 },
 "nbformat": 4,
 "nbformat_minor": 5
}
