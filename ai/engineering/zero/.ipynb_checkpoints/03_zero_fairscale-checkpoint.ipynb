{
 "cells": [
  {
   "cell_type": "code",
   "execution_count": 1,
   "id": "a90caca7-6bb7-474a-913b-728062b9debe",
   "metadata": {},
   "outputs": [],
   "source": [
    "from collections import OrderedDict\n",
    "from typing import Dict, List\n",
    "import torch"
   ]
  },
  {
   "cell_type": "code",
   "execution_count": 2,
   "id": "c7d16f25-abfe-4da0-9013-094eee659a3a",
   "metadata": {},
   "outputs": [],
   "source": [
    "class ZeRO(torch.optim.Optimizer):\n",
    "    def __init__(\n",
    "        self,\n",
    "        params,\n",
    "        optim,\n",
    "        group,\n",
    "        defaults\n",
    "    ):\n",
    "        super().__init__(params, defaults)\n",
    "        self.world_size = torch.distributed.get_world_size(group=group)\n",
    "        # self._per_device_params: Dict[torch.device, List[List[torch.nn.Parameter]]] = OrderedDict()\n",
    "        self.setup_local_optimizer()\n",
    "    \n",
    "    def setup_local_optimizer(self):\n",
    "        pass\n",
    "    \n",
    "    def partition_parameters(self, params):\n",
    "        self._partrition_parameters = [[] for _ in range(self.world_size)]"
   ]
  },
  {
   "cell_type": "markdown",
   "id": "1720159b-da13-4dfd-bf1c-959f9728b330",
   "metadata": {},
   "source": [
    "##### Example 1"
   ]
  },
  {
   "cell_type": "code",
   "execution_count": 4,
   "id": "fcf63764-0384-4bd9-b3ff-cc741ebcd214",
   "metadata": {
    "tags": []
   },
   "outputs": [],
   "source": [
    "from torch import nn\n",
    "from torch.optim import Adam"
   ]
  },
  {
   "cell_type": "code",
   "execution_count": 5,
   "id": "7015aef7-fe90-483f-98bd-18ec408e8cf8",
   "metadata": {
    "tags": []
   },
   "outputs": [],
   "source": [
    "model = nn.Sequential(\n",
    "    nn.Linear(2, 4),\n",
    "    nn.ReLU(),\n",
    "    nn.Linear(4, 2)\n",
    ")"
   ]
  },
  {
   "cell_type": "code",
   "execution_count": 6,
   "id": "ab8d75b0-1068-4ff6-a21b-b83e6762016b",
   "metadata": {
    "tags": []
   },
   "outputs": [],
   "source": [
    "optim = Adam(model.parameters())"
   ]
  },
  {
   "cell_type": "code",
   "execution_count": 7,
   "id": "884f35d5-9866-4bb8-a3b8-68b34ec35fee",
   "metadata": {
    "tags": []
   },
   "outputs": [
    {
     "name": "stdout",
     "output_type": "stream",
     "text": [
      "Parameter containing:\n",
      "tensor([[-0.3173, -0.1710],\n",
      "        [-0.2532, -0.2532],\n",
      "        [ 0.3124,  0.4826],\n",
      "        [ 0.3922,  0.1965]], requires_grad=True)\n",
      "Parameter containing:\n",
      "tensor([ 0.3268, -0.2788,  0.6120,  0.1722], requires_grad=True)\n",
      "Parameter containing:\n",
      "tensor([[ 0.4952, -0.0644, -0.3629,  0.4602],\n",
      "        [-0.2251,  0.3302, -0.0634,  0.2421]], requires_grad=True)\n",
      "Parameter containing:\n",
      "tensor([0.3481, 0.3911], requires_grad=True)\n"
     ]
    }
   ],
   "source": [
    "for p in model.parameters():\n",
    "    print(p)"
   ]
  },
  {
   "cell_type": "code",
   "execution_count": 8,
   "id": "0e11f7f6-ac79-49e8-9bc5-4d97e2aefebf",
   "metadata": {
    "tags": []
   },
   "outputs": [],
   "source": [
    "for param in model.parameters():\n",
    "    optim.zero_grad()\n",
    "    output = model(torch.randn(5, 2))\n",
    "    loss = output.mean()\n",
    "    loss.backward()\n",
    "    optim.step()"
   ]
  },
  {
   "cell_type": "code",
   "execution_count": 9,
   "id": "4da3e086-d060-4109-be5f-8045bd2029bc",
   "metadata": {
    "tags": []
   },
   "outputs": [
    {
     "data": {
      "text/plain": [
       "[{'params': [Parameter containing:\n",
       "   tensor([[-0.3156, -0.1681],\n",
       "           [-0.2498, -0.2506],\n",
       "           [ 0.3151,  0.4834],\n",
       "           [ 0.3889,  0.1958]], requires_grad=True),\n",
       "   Parameter containing:\n",
       "   tensor([ 0.3229, -0.2820,  0.6159,  0.1683], requires_grad=True),\n",
       "   Parameter containing:\n",
       "   tensor([[ 0.4915, -0.0673, -0.3669,  0.4565],\n",
       "           [-0.2288,  0.3273, -0.0673,  0.2383]], requires_grad=True),\n",
       "   Parameter containing:\n",
       "   tensor([0.3441, 0.3871], requires_grad=True)],\n",
       "  'lr': 0.001,\n",
       "  'betas': (0.9, 0.999),\n",
       "  'eps': 1e-08,\n",
       "  'weight_decay': 0,\n",
       "  'amsgrad': False,\n",
       "  'maximize': False,\n",
       "  'foreach': None,\n",
       "  'capturable': False,\n",
       "  'differentiable': False,\n",
       "  'fused': None}]"
      ]
     },
     "execution_count": 9,
     "metadata": {},
     "output_type": "execute_result"
    }
   ],
   "source": [
    "optim.param_groups"
   ]
  },
  {
   "cell_type": "code",
   "execution_count": 10,
   "id": "23145355-220d-46e4-8f09-8e1bd31513e0",
   "metadata": {
    "tags": []
   },
   "outputs": [
    {
     "data": {
      "text/plain": [
       "defaultdict(dict,\n",
       "            {Parameter containing:\n",
       "             tensor([[-0.3156, -0.1681],\n",
       "                     [-0.2498, -0.2506],\n",
       "                     [ 0.3151,  0.4834],\n",
       "                     [ 0.3889,  0.1958]], requires_grad=True): {'step': tensor(4.),\n",
       "              'exp_avg': tensor([[-0.0124,  0.0008],\n",
       "                      [-0.0123, -0.0048],\n",
       "                      [-0.0139, -0.0166],\n",
       "                      [ 0.0411,  0.0291]]),\n",
       "              'exp_avg_sq': tensor([[1.5594e-05, 1.5520e-05],\n",
       "                      [6.7088e-06, 3.2181e-06],\n",
       "                      [5.1182e-05, 4.6074e-05],\n",
       "                      [1.7123e-04, 1.0390e-04]])},\n",
       "             Parameter containing:\n",
       "             tensor([ 0.3229, -0.2820,  0.6159,  0.1683], requires_grad=True): {'step': tensor(4.),\n",
       "              'exp_avg': tensor([ 0.0392,  0.0089, -0.0633,  0.0797]),\n",
       "              'exp_avg_sq': tensor([5.3506e-05, 4.1894e-06, 1.3817e-04, 2.1951e-04])},\n",
       "             Parameter containing:\n",
       "             tensor([[ 0.4915, -0.0673, -0.3669,  0.4565],\n",
       "                     [-0.2288,  0.3273, -0.0673,  0.2383]], requires_grad=True): {'step': tensor(4.),\n",
       "              'exp_avg': tensor([[0.0619, 0.0070, 0.1191, 0.0506],\n",
       "                      [0.0619, 0.0070, 0.1191, 0.0506]]),\n",
       "              'exp_avg_sq': tensor([[1.4503e-04, 3.1678e-06, 4.8053e-04, 1.0341e-04],\n",
       "                      [1.4503e-04, 3.1678e-06, 4.8053e-04, 1.0341e-04]])},\n",
       "             Parameter containing:\n",
       "             tensor([0.3441, 0.3871], requires_grad=True): {'step': tensor(4.),\n",
       "              'exp_avg': tensor([0.1719, 0.1719]),\n",
       "              'exp_avg_sq': tensor([0.0010, 0.0010])}})"
      ]
     },
     "execution_count": 10,
     "metadata": {},
     "output_type": "execute_result"
    }
   ],
   "source": [
    "optim.state"
   ]
  },
  {
   "cell_type": "code",
   "execution_count": null,
   "id": "77e22475-af8a-4066-9153-9f7f8560e573",
   "metadata": {},
   "outputs": [],
   "source": []
  },
  {
   "cell_type": "code",
   "execution_count": null,
   "id": "8cbce265-c632-4285-a94a-351683d87e17",
   "metadata": {},
   "outputs": [],
   "source": []
  }
 ],
 "metadata": {
  "kernelspec": {
   "display_name": "Python 3 (ipykernel)",
   "language": "python",
   "name": "python3"
  },
  "language_info": {
   "codemirror_mode": {
    "name": "ipython",
    "version": 3
   },
   "file_extension": ".py",
   "mimetype": "text/x-python",
   "name": "python",
   "nbconvert_exporter": "python",
   "pygments_lexer": "ipython3",
   "version": "3.8.16"
  }
 },
 "nbformat": 4,
 "nbformat_minor": 5
}
