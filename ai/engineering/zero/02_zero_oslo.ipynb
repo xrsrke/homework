{
 "cells": [
  {
   "cell_type": "code",
   "execution_count": null,
   "id": "59c6425f-8731-4f1e-9590-d135f165c866",
   "metadata": {},
   "outputs": [],
   "source": [
    "from transformers import AutoModel\n",
    "from torch import optim"
   ]
  },
  {
   "cell_type": "code",
   "execution_count": null,
   "id": "0bcb2a8f-0988-4e0a-aefd-c043874d2f42",
   "metadata": {},
   "outputs": [],
   "source": [
    "model = AutoModel.from_pretrained(\"gpt2\")"
   ]
  },
  {
   "cell_type": "code",
   "execution_count": null,
   "id": "667db500-b925-44a4-aeb4-e95683ebb871",
   "metadata": {},
   "outputs": [],
   "source": [
    "optimizer = optim.Adam(model.parameters())"
   ]
  },
  {
   "cell_type": "code",
   "execution_count": null,
   "id": "b97ecf03-751e-4379-889a-ce71585b35af",
   "metadata": {},
   "outputs": [
    {
     "name": "stdout",
     "output_type": "stream",
     "text": [
      "0\n"
     ]
    }
   ],
   "source": [
    "for group_id, param_group in enumerate(optimizer.param_groups):\n",
    "    print(group_id)"
   ]
  },
  {
   "cell_type": "code",
   "execution_count": null,
   "id": "a3fbbfa3-79ba-4357-b9d9-4ddd43561b18",
   "metadata": {},
   "outputs": [],
   "source": [
    "class ZeROOptimizer:\n",
    "    def __init__(self):\n",
    "        self.world_size = _world_size\n",
    "    \n",
    "    def patrition_param_list(self, param_list):\n",
    "        params_per_ranks = [[] for _ in range(self._world_size)]\n",
    "        "
   ]
  },
  {
   "cell_type": "code",
   "execution_count": null,
   "id": "066a3c4b-bddc-4fab-a711-22cf7e28d4bc",
   "metadata": {},
   "outputs": [],
   "source": [
    "world_size = 16"
   ]
  },
  {
   "cell_type": "code",
   "execution_count": null,
   "id": "ad98cd83-d9d7-4f86-8889-80ebc2bdeee6",
   "metadata": {},
   "outputs": [],
   "source": [
    "params_per_rank = [[] for _ in range(world_size)]"
   ]
  },
  {
   "cell_type": "code",
   "execution_count": null,
   "id": "5669faf0-7f2a-4351-b066-52f200945b36",
   "metadata": {},
   "outputs": [],
   "source": [
    "numel_per_rank = [0 for _ in range(world_size)]"
   ]
  },
  {
   "cell_type": "code",
   "execution_count": null,
   "id": "9bb384a0-22d0-4ef4-8f79-aef772fa967d",
   "metadata": {},
   "outputs": [],
   "source": [
    "param_list = optimizer.param_groups[0][\"params\"]"
   ]
  },
  {
   "cell_type": "code",
   "execution_count": null,
   "id": "77eb5880-068f-422d-b0de-6c83c79b578d",
   "metadata": {},
   "outputs": [],
   "source": [
    "sorted_params = sorted(param_list, key=lambda x: x.numel(), reverse=True)"
   ]
  },
  {
   "cell_type": "code",
   "execution_count": null,
   "id": "ae1f45bd-f40c-497f-9fe4-5c50b532c50a",
   "metadata": {},
   "outputs": [
    {
     "data": {
      "text/plain": [
       "38597376"
      ]
     },
     "execution_count": null,
     "metadata": {},
     "output_type": "execute_result"
    }
   ],
   "source": [
    "sorted_params[0].numel()"
   ]
  },
  {
   "cell_type": "code",
   "execution_count": null,
   "id": "b3ccf579-7bdd-4bfd-8cc8-f401ccc9bb55",
   "metadata": {},
   "outputs": [],
   "source": [
    "for param in sorted_params:\n",
    "    # get the idx of the rank that has\n",
    "    # the smallest number of parameters\n",
    "    rank_to_go = numel_per_rank.index(min(numel_per_rank))\n",
    "    params_per_rank[rank_to_go].append(param)\n",
    "    numel_per_rank[rank_to_go] += param.numel()"
   ]
  },
  {
   "cell_type": "code",
   "execution_count": null,
   "id": "c13d552f-3f49-4803-8ef7-d67f809105df",
   "metadata": {},
   "outputs": [
    {
     "data": {
      "text/plain": [
       "8"
      ]
     },
     "execution_count": null,
     "metadata": {},
     "output_type": "execute_result"
    }
   ],
   "source": [
    "numel_per_rank.index(min(numel_per_rank))"
   ]
  },
  {
   "cell_type": "code",
   "execution_count": null,
   "id": "594f6d7d-a1fe-48cf-b515-87ae5b7967e8",
   "metadata": {},
   "outputs": [],
   "source": []
  },
  {
   "cell_type": "code",
   "execution_count": null,
   "id": "de030377-d90b-4984-9e41-9a538efad597",
   "metadata": {},
   "outputs": [],
   "source": []
  }
 ],
 "metadata": {
  "kernelspec": {
   "display_name": "Python 3 (ipykernel)",
   "language": "python",
   "name": "python3"
  },
  "language_info": {
   "codemirror_mode": {
    "name": "ipython",
    "version": 3
   },
   "file_extension": ".py",
   "mimetype": "text/x-python",
   "name": "python",
   "nbconvert_exporter": "python",
   "pygments_lexer": "ipython3",
   "version": "3.8.16"
  }
 },
 "nbformat": 4,
 "nbformat_minor": 5
}
