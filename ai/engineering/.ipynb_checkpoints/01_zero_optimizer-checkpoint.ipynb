{
 "cells": [
  {
   "cell_type": "code",
   "execution_count": null,
   "id": "11d29c01-aaff-4bb9-ba5f-6868b63bdd6d",
   "metadata": {},
   "outputs": [],
   "source": [
    "from torch import nn\n",
    "import torch.distributed as dist"
   ]
  },
  {
   "cell_type": "code",
   "execution_count": null,
   "id": "a5723110-5f64-48b3-9def-92b585fd6d30",
   "metadata": {},
   "outputs": [],
   "source": [
    "class Zero3Layer(nn.Module):\n",
    "    chunk: List[]\n",
    "    def __init__(\n",
    "        self,\n",
    "        module: nn.Module,\n",
    "        rank: int,\n",
    "        world_size: int,\n",
    "        device: torch.device,\n",
    "        dtype: torch.dtype\n",
    "    ):\n",
    "        super().__init__()\n",
    "        self.device = device\n",
    "        self.dtype = dtype\n",
    "        self.module = module\n",
    "        self.prev_layer = []\n",
    "        self.next_layer = []\n",
    "        self.is_fetched = False\n",
    "        self.world_size = world_size\n",
    "        self.layer_idx = -1\n",
    "        self.fetch_stream = None\n",
    "        self.backup_stream = None\n",
    "        \n",
    "        with torch.no_grad():\n",
    "            all_param_refs = [p for p in self.parameters()]\n",
    "            \n",
    "            for p in all_param_refs:\n",
    "                self._orig_shape = p.shape\n",
    "                \n",
    "            for p in all_param_refs:\n",
    "                assert p.dtype == dtype\n",
    "            \n",
    "            "
   ]
  },
  {
   "cell_type": "code",
   "execution_count": null,
   "id": "bf115a80-3919-44dc-a541-3f58425cdab1",
   "metadata": {},
   "outputs": [
    {
     "data": {
      "text/plain": [
       "Linear(in_features=2, out_features=3, bias=True)"
      ]
     },
     "execution_count": null,
     "metadata": {},
     "output_type": "execute_result"
    }
   ],
   "source": [
    "nn.Linear(2, 3)"
   ]
  },
  {
   "cell_type": "code",
   "execution_count": null,
   "id": "a91552b5-7491-4e9a-a8f4-cf97ddc38fbc",
   "metadata": {},
   "outputs": [],
   "source": []
  }
 ],
 "metadata": {
  "kernelspec": {
   "display_name": "Python 3 (ipykernel)",
   "language": "python",
   "name": "python3"
  }
 },
 "nbformat": 4,
 "nbformat_minor": 5
}
