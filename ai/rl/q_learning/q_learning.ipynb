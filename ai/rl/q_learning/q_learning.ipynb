{
 "cells": [
  {
   "cell_type": "code",
   "execution_count": null,
   "id": "2c138dfc-a6c9-4838-a6b6-9e2d6bd0cc07",
   "metadata": {},
   "outputs": [],
   "source": [
    "!pwddd"
   ]
  },
  {
   "cell_type": "code",
   "execution_count": 1,
   "id": "50d69b22-e258-4665-b2af-5bab937303a8",
   "metadata": {},
   "outputs": [],
   "source": [
    "import gym\n",
    "import collections"
   ]
  },
  {
   "cell_type": "code",
   "execution_count": 2,
   "id": "54178057-c524-438e-be56-46a8159e149e",
   "metadata": {},
   "outputs": [],
   "source": [
    "ENV_NAME = \"FrozenLake-v1\""
   ]
  },
  {
   "cell_type": "code",
   "execution_count": 3,
   "id": "211b8fae-ebc8-404d-aefc-1eb7516aa889",
   "metadata": {},
   "outputs": [],
   "source": [
    "GAMMA = 0.9\n",
    "ALPHA = 0.2"
   ]
  },
  {
   "cell_type": "code",
   "execution_count": 4,
   "id": "0e615434-b6c7-4d50-a758-863010cc8b63",
   "metadata": {},
   "outputs": [],
   "source": [
    "TEST_EPISODES = 20"
   ]
  },
  {
   "cell_type": "code",
   "execution_count": 5,
   "id": "a15fa37b-8170-4108-aaa4-6f568848963c",
   "metadata": {},
   "outputs": [
    {
     "data": {
      "text/plain": [
       "defaultdict(float, {})"
      ]
     },
     "execution_count": 5,
     "metadata": {},
     "output_type": "execute_result"
    }
   ],
   "source": [
    "collections.defaultdict(float)"
   ]
  },
  {
   "cell_type": "code",
   "execution_count": 23,
   "id": "15e7f387-9b2e-4314-b6b2-af820ab00d2f",
   "metadata": {},
   "outputs": [],
   "source": [
    "class Agent:\n",
    "    def __init__(self):\n",
    "        self.env = gym.make(ENV_NAME)\n",
    "        self.state = self.env.reset()\n",
    "        self.rewards = collections.defaultdict(float)\n",
    "    \n",
    "    def sample_env(self):\n",
    "        action = self.env.action_space.sample()\n",
    "        old_state = self.state\n",
    "        new_state, reward, is_done, truncated, info = self.env.step(action)\n",
    "        return old_state, action, reward, new_state\n",
    "    \n",
    "    def best_action_and_value(self, state):\n",
    "        best_reward, best_action = None, None\n",
    "        for action in range(self.env.action_space.n):\n",
    "            action_reward = self.rewards[(state, action)]\n",
    "            \n",
    "            if best_reward is None or best_reward < action_reward:\n",
    "                best_reward = action_reward\n",
    "                best_action = action\n",
    "                \n",
    "        return best_reward, best_action\n",
    "    \n",
    "    def value_update(self, state, action, reward, next_state):\n",
    "        next_best_reward, _ = self.best_action_and_value(next_state)\n",
    "        next_new_reward = reward + GAMMA * next_best_reward\n",
    "        \n",
    "        current_reward = self.rewards[(state, action)]\n",
    "        self.rewards[(state, action)] = current_reward * (1-ALPHA) + next_new_reward * ALPHA\n",
    "    \n",
    "    def play_episode(self, env):\n",
    "        total_reward = 0.0\n",
    "        state = env.reset()\n",
    "        while True:\n",
    "            _, action = self.best_action_and_value(state)\n",
    "            new_state, reward, is_done = env.step(action)\n",
    "            total_reward += reward\n",
    "            \n",
    "            if is_done: break\n",
    "            \n",
    "            state = new_state\n",
    "        return total_reward"
   ]
  },
  {
   "cell_type": "code",
   "execution_count": 30,
   "id": "28b43b0f",
   "metadata": {},
   "outputs": [],
   "source": [
    "x = collections.defaultdict(float)"
   ]
  },
  {
   "cell_type": "code",
   "execution_count": 33,
   "id": "9a118e13",
   "metadata": {},
   "outputs": [
    {
     "data": {
      "text/plain": [
       "defaultdict(float, {0: 0.0})"
      ]
     },
     "execution_count": 33,
     "metadata": {},
     "output_type": "execute_result"
    }
   ],
   "source": [
    "x"
   ]
  },
  {
   "cell_type": "code",
   "execution_count": 24,
   "id": "db0945e1-d434-427b-89aa-28c40b1fe917",
   "metadata": {},
   "outputs": [],
   "source": [
    "test_env = gym.make(ENV_NAME)\n",
    "agent = Agent()"
   ]
  },
  {
   "cell_type": "code",
   "execution_count": 25,
   "id": "f1128f4f-1eb2-4c10-8cd7-313c0be12944",
   "metadata": {},
   "outputs": [],
   "source": [
    "iter_no = 0\n",
    "best_reward = 0.0"
   ]
  },
  {
   "cell_type": "code",
   "execution_count": 28,
   "id": "6d422374-1a43-49d2-ad52-419027ff7f6c",
   "metadata": {},
   "outputs": [
    {
     "name": "stdout",
     "output_type": "stream",
     "text": [
      "((0, {'prob': 1}), 1, 0.0, 0)\n"
     ]
    },
    {
     "ename": "TypeError",
     "evalue": "unhashable type: 'dict'",
     "output_type": "error",
     "traceback": [
      "\u001b[0;31m---------------------------------------------------------------------------\u001b[0m",
      "\u001b[0;31mTypeError\u001b[0m                                 Traceback (most recent call last)",
      "Cell \u001b[0;32mIn[28], line 5\u001b[0m\n\u001b[1;32m      2\u001b[0m iter_no \u001b[39m+\u001b[39m\u001b[39m=\u001b[39m \u001b[39m1\u001b[39m\n\u001b[1;32m      4\u001b[0m state, action, reward, next_state \u001b[39m=\u001b[39m agent\u001b[39m.\u001b[39msample_env()\n\u001b[0;32m----> 5\u001b[0m agent\u001b[39m.\u001b[39;49mvalue_update(state, action, reward, next_state)\n\u001b[1;32m      7\u001b[0m reward \u001b[39m=\u001b[39m \u001b[39m0.0\u001b[39m\n\u001b[1;32m      8\u001b[0m \u001b[39mfor\u001b[39;00m _ \u001b[39min\u001b[39;00m \u001b[39mrange\u001b[39m(TEST_EPISODES):\n",
      "Cell \u001b[0;32mIn[23], line 28\u001b[0m, in \u001b[0;36mAgent.value_update\u001b[0;34m(self, state, action, reward, next_state)\u001b[0m\n\u001b[1;32m     25\u001b[0m next_best_reward, _ \u001b[39m=\u001b[39m \u001b[39mself\u001b[39m\u001b[39m.\u001b[39mbest_action_and_value(next_state)\n\u001b[1;32m     26\u001b[0m next_new_reward \u001b[39m=\u001b[39m reward \u001b[39m+\u001b[39m GAMMA \u001b[39m*\u001b[39m next_best_reward\n\u001b[0;32m---> 28\u001b[0m current_reward \u001b[39m=\u001b[39m \u001b[39mself\u001b[39;49m\u001b[39m.\u001b[39;49mrewards[(state, action)]\n\u001b[1;32m     29\u001b[0m \u001b[39mself\u001b[39m\u001b[39m.\u001b[39mrewards[(state, action)] \u001b[39m=\u001b[39m current_reward \u001b[39m*\u001b[39m (\u001b[39m1\u001b[39m\u001b[39m-\u001b[39mALPHA) \u001b[39m+\u001b[39m next_new_reward \u001b[39m*\u001b[39m ALPHA\n",
      "\u001b[0;31mTypeError\u001b[0m: unhashable type: 'dict'"
     ]
    }
   ],
   "source": [
    "while True:\n",
    "    iter_no += 1\n",
    "    \n",
    "    state, action, reward, next_state = agent.sample_env()\n",
    "    agent.value_update(state, action, reward, next_state)\n",
    "    \n",
    "    reward = 0.0\n",
    "    for _ in range(TEST_EPISODES):\n",
    "        reward += agent.play_episode(test_env)\n",
    "    \n",
    "    reward /= TEST_EPISODES\n",
    "    \n",
    "    if reward > best_reward:\n",
    "        print(f\"Best reward updated: {best_reward}, {reward}\")\n",
    "        best_reward = reward\n",
    "    \n",
    "    if reward > 0.8:\n",
    "        print(f\"Solved in {iter_no} iterations!\")\n",
    "        break"
   ]
  },
  {
   "cell_type": "code",
   "execution_count": null,
   "id": "4b7897b6-7d1c-4b77-8667-40e628e1799b",
   "metadata": {},
   "outputs": [],
   "source": []
  },
  {
   "cell_type": "code",
   "execution_count": null,
   "id": "ada789e5-02ab-4332-b9cc-0940faaa5cd0",
   "metadata": {},
   "outputs": [],
   "source": []
  }
 ],
 "metadata": {
  "kernelspec": {
   "display_name": "gym",
   "language": "python",
   "name": "python3"
  },
  "language_info": {
   "codemirror_mode": {
    "name": "ipython",
    "version": 3
   },
   "file_extension": ".py",
   "mimetype": "text/x-python",
   "name": "python",
   "nbconvert_exporter": "python",
   "pygments_lexer": "ipython3",
   "version": "3.8.15 | packaged by conda-forge | (default, Nov 22 2022, 08:49:06) \n[Clang 14.0.6 ]"
  },
  "vscode": {
   "interpreter": {
    "hash": "a51d2d6d25395c24e0d12246d2018dcbf7cbc51d78bb42126dff68c94d75ef25"
   }
  }
 },
 "nbformat": 4,
 "nbformat_minor": 5
}
