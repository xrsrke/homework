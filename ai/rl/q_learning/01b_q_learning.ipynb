{
 "cells": [
  {
   "cell_type": "code",
   "execution_count": 4,
   "metadata": {},
   "outputs": [],
   "source": [
    "from gridworld.Gridworld import Gridworld"
   ]
  },
  {
   "cell_type": "code",
   "execution_count": 5,
   "metadata": {},
   "outputs": [],
   "source": [
    "import numpy as np\n",
    "import torch\n",
    "from gridworld.Gridworld import Gridworld\n",
    "import random\n",
    "from matplotlib import pylab as plt\n",
    "\n",
    "import torch\n",
    "from torch import nn\n",
    "from torch import optim"
   ]
  },
  {
   "attachments": {},
   "cell_type": "markdown",
   "metadata": {},
   "source": [
    "### 3.2 Navigating with Q-learning"
   ]
  },
  {
   "cell_type": "code",
   "execution_count": 14,
   "metadata": {},
   "outputs": [],
   "source": [
    "l1 = n_pixels = 64\n",
    "l2 = hidden_1 = 150\n",
    "l3 = hidden_2 = 100\n",
    "l4 = n_actions = 4"
   ]
  },
  {
   "cell_type": "code",
   "execution_count": 15,
   "metadata": {},
   "outputs": [],
   "source": [
    "model = nn.Sequential(\n",
    "    nn.Linear(n_pixels, hidden_1),\n",
    "    nn.ReLU(),\n",
    "    nn.Linear(hidden_1, hidden_2),\n",
    "    nn.ReLU(),\n",
    "    nn.Linear(hidden_2, n_actions)\n",
    ")"
   ]
  },
  {
   "cell_type": "code",
   "execution_count": 16,
   "metadata": {},
   "outputs": [],
   "source": [
    "loss_func = nn.MSELoss()\n",
    "learning_rate = 1e-3\n",
    "optimizier = optim.Adam(model.parameters(), lr=learning_rate)"
   ]
  },
  {
   "cell_type": "code",
   "execution_count": 17,
   "metadata": {},
   "outputs": [],
   "source": [
    "GAMMA = 0.9\n",
    "EPSILON = 1.0"
   ]
  },
  {
   "cell_type": "code",
   "execution_count": 27,
   "metadata": {},
   "outputs": [],
   "source": [
    "action_set = {\n",
    "    0: 'u',\n",
    "    1: 'd',\n",
    "    2: 'l',\n",
    "    3: 'r'\n",
    "}"
   ]
  },
  {
   "cell_type": "code",
   "execution_count": 28,
   "metadata": {},
   "outputs": [],
   "source": [
    "epochs = 1000\n",
    "losses = []"
   ]
  },
  {
   "cell_type": "code",
   "execution_count": 29,
   "metadata": {},
   "outputs": [],
   "source": [
    "for i in range(epochs):\n",
    "    game = Gridworld(size=4, mode='random')\n",
    "    \n",
    "    noise = torch.randn(1, 64) / 10.0\n",
    "    state = game.board.render_np().reshape(1, 64)\n",
    "    state = torch.from_numpy(state).float() + noise\n",
    "    \n",
    "    in_progress = True\n",
    "    while (in_progress is True):\n",
    "        predicted_reward = model(state)\n",
    "        if (random.random() < EPSILON) and 1 != 2:\n",
    "            action_idx = torch.randint(0, 4, (1,)).item()\n",
    "        else:\n",
    "            action_idx = torch.argmax(predicted_reward).item()\n",
    "        \n",
    "        action = action_set[action_idx]\n",
    "        game.makeMove(action)\n",
    "        \n",
    "        new_noise = torch.randn(1, 64) / 10.0\n",
    "        new_state = game.board.render_np().reshape(1, 64)\n",
    "        new_state = torch.from_numpy(new_state).float()\n",
    "        new_state = new_state + new_noise\n",
    "        \n",
    "        reward = game.reward()\n",
    "        reward = torch.tensor(reward).float()\n",
    "        \n",
    "        with torch.no_grad():\n",
    "            next_predicted_reward = model(new_state.reshape(1, 64))\n",
    "        \n",
    "        max_predicted_next_reward = torch.max(next_predicted_reward)\n",
    "        \n",
    "        # if reward is -1, the game is still in progress => next reward is exists\n",
    "        if reward == -1:\n",
    "            # current reward and a discount of the maximum reward of the next state\n",
    "            target_reward = reward + GAMMA * max_predicted_next_reward\n",
    "        else:\n",
    "            target_reward = reward\n",
    "                \n",
    "        # predicted reward given take a chosen action\n",
    "        current_predicted_reward = predicted_reward.squeeze()[action_idx]\n",
    "        loss = loss_func(current_predicted_reward, target_reward)\n",
    "        losses.append(loss.item())\n",
    "        \n",
    "        optimizier.zero_grad()\n",
    "        loss.backward()\n",
    "        optimizier.step()\n",
    "        \n",
    "        state = new_state\n",
    "        \n",
    "        # if reward is -1, the game is still in progress\n",
    "        if reward != -1:\n",
    "            in_progress = False\n",
    "    \n",
    "    if EPSILON > 0.1:\n",
    "        EPSILON -= (1/epochs)"
   ]
  },
  {
   "cell_type": "code",
   "execution_count": 30,
   "metadata": {},
   "outputs": [
    {
     "data": {
      "text/plain": [
       "[1.6990965604782104, 7.012789249420166, 3.1275393962860107]"
      ]
     },
     "execution_count": 30,
     "metadata": {},
     "output_type": "execute_result"
    }
   ],
   "source": [
    "losses[:3]"
   ]
  },
  {
   "cell_type": "code",
   "execution_count": 31,
   "metadata": {},
   "outputs": [
    {
     "data": {
      "image/png": "[encoded data removed]",
      "text/plain": [
       "<Figure size 640x480 with 1 Axes>"
      ]
     },
     "metadata": {},
     "output_type": "display_data"
    }
   ],
   "source": [
    "plt.plot(losses)\n",
    "plt.show()"
   ]
  },
  {
   "attachments": {},
   "cell_type": "markdown",
   "metadata": {},
   "source": [
    "### 3.2 Preventing catastrophic forgetting: Experience replay"
   ]
  },
  {
   "attachments": {},
   "cell_type": "markdown",
   "metadata": {},
   "source": [
    "from collections import deque"
   ]
  },
  {
   "cell_type": "code",
   "execution_count": 66,
   "metadata": {},
   "outputs": [],
   "source": [
    "import collections"
   ]
  },
  {
   "cell_type": "code",
   "execution_count": 71,
   "metadata": {},
   "outputs": [],
   "source": [
    "EPOCHS = 250\n",
    "losses = []"
   ]
  },
  {
   "cell_type": "code",
   "execution_count": 72,
   "metadata": {},
   "outputs": [],
   "source": [
    "mem_size = 1000\n",
    "batch_size = 200\n",
    "replay = collections.deque(maxlen=mem_size)\n",
    "max_moves = 50\n",
    "h = 0"
   ]
  },
  {
   "cell_type": "code",
   "execution_count": 73,
   "metadata": {},
   "outputs": [],
   "source": [
    "for i in range(EPOCHS):\n",
    "    game = Gridworld(size=4, mode='ramdom')\n",
    "\n",
    "    noise = torch.randn(1, 64) / 100.0    \n",
    "    state = game.board.render_np().reshape(1, 64)\n",
    "    state = torch.from_numpy(state)\n",
    "    state = state + noise\n",
    "    \n",
    "    in_progress = True\n",
    "    \n",
    "    mov = 0\n",
    "    \n",
    "    while in_progress:\n",
    "        mov += 1\n",
    "        action_reward = model(state)\n",
    "        \n",
    "        if random.random() < EPSILON:\n",
    "            action_idx = torch.randint(0, 4, (1,)).item()\n",
    "        else:\n",
    "            action_idx = torch.argmax(action_reward).item()\n",
    "        \n",
    "        action = action_set[action_idx]\n",
    "        game.makeMove(action)\n",
    "        \n",
    "        noise = torch.randn(1, 64) / 100.0    \n",
    "        new_state = game.board.render_np().reshape(1, 64)\n",
    "        new_state = torch.from_numpy(new_state)\n",
    "        new_state = new_state + noise\n",
    "        \n",
    "        reward = game.reward()\n",
    "        done = True if reward > 0 else False\n",
    "        \n",
    "        exp = (state, action_idx, reward, new_state, done)\n",
    "        replay.append(exp)\n",
    "        \n",
    "        state = new_state\n",
    "        \n",
    "        if len(replay) > batch_size:\n",
    "            # select `batch_size` from `replay`\n",
    "            mini_batch = random.sample(replay, batch_size)\n",
    "            state_batch = torch.cat([state for (state, action_idx, reward, new_state, done) in mini_batch])\n",
    "            action_batch = torch.tensor([action_idx for (state, action_idx, reward, new_state, done) in mini_batch])\n",
    "            reward_batch = torch.tensor([reward for (state, action_idx, reward, new_state, done) in mini_batch])\n",
    "            new_state_batch = torch.cat([new_state for (state, action_idx, reward, new_state, done) in mini_batch])\n",
    "            done_batch = torch.tensor([done for (state, action_idx, reward, new_state, done) in mini_batch])\n",
    "            \n",
    "            action_reward_batch = model(state_batch)\n",
    "            with torch.no_grad():\n",
    "                next_action_reward_batch = model(new_state_batch)\n",
    "            \n",
    "            max_next_reward_batch = torch.max(next_action_reward_batch, dim=-1)[0]\n",
    "            target_reward_batch = reward_batch + GAMMA * ((1-done_batch.int()) * max_next_reward_batch)\n",
    "            \n",
    "            # extract the corresponds reward of a batch of actions\n",
    "            predicted_reward_batch = action_reward_batch.gather(dim=1, index=action_batch.long().unsqueeze(dim=1)).squeeze()\n",
    "\n",
    "            loss = loss_func(target_reward_batch, predicted_reward_batch)\n",
    "            losses.append(loss.item())\n",
    "            \n",
    "            optimizier.zero_grad()\n",
    "            loss.backward()\n",
    "            optimizier.step()\n",
    "        \n",
    "        # if reward is 1 => game is still in progress\n",
    "        if reward != -1 or mov > max_moves:\n",
    "            in_progress = False\n",
    "            mov = 0"
   ]
  },
  {
   "cell_type": "code",
   "execution_count": 74,
   "metadata": {},
   "outputs": [
    {
     "data": {
      "image/png": "[encoded data removed]",
      "text/plain": [
       "<Figure size 640x480 with 1 Axes>"
      ]
     },
     "metadata": {},
     "output_type": "display_data"
    }
   ],
   "source": [
    "plt.plot(losses)\n",
    "plt.show()"
   ]
  },
  {
   "attachments": {},
   "cell_type": "markdown",
   "metadata": {},
   "source": [
    "### 3.4 Improving stability with a target network"
   ]
  },
  {
   "cell_type": "code",
   "execution_count": 1,
   "metadata": {},
   "outputs": [],
   "source": [
    "import copy"
   ]
  },
  {
   "cell_type": "code",
   "execution_count": 6,
   "metadata": {},
   "outputs": [],
   "source": [
    "n_pixels = 64\n",
    "hidden_1 = 150\n",
    "hidden_2 = 100\n",
    "n_actions = 4"
   ]
  },
  {
   "cell_type": "code",
   "execution_count": 8,
   "metadata": {},
   "outputs": [],
   "source": [
    "regular_model = nn.Sequential(\n",
    "    nn.Linear(n_pixels, hidden_1),\n",
    "    nn.ReLU(),\n",
    "    nn.Linear(hidden_1, hidden_2),\n",
    "    nn.ReLU(),\n",
    "    nn.Linear(hidden_2, n_actions),\n",
    ")"
   ]
  },
  {
   "cell_type": "code",
   "execution_count": 10,
   "metadata": {},
   "outputs": [
    {
     "data": {
      "text/plain": [
       "<All keys matched successfully>"
      ]
     },
     "execution_count": 10,
     "metadata": {},
     "output_type": "execute_result"
    }
   ],
   "source": [
    "target_model = copy.deepcopy(regular_model)\n",
    "target_model.load_state_dict(regular_model.state_dict())"
   ]
  },
  {
   "cell_type": "code",
   "execution_count": 11,
   "metadata": {},
   "outputs": [],
   "source": [
    "SYNC_FREQ = 50\n",
    "LEARNING_RATE = 1e-3"
   ]
  },
  {
   "cell_type": "code",
   "execution_count": 12,
   "metadata": {},
   "outputs": [],
   "source": [
    "loss_func = nn.MSELoss()\n",
    "optimizier = optim.Adam(regular_model.parameters(), lr=LEARNING_RATE)"
   ]
  },
  {
   "cell_type": "code",
   "execution_count": 13,
   "metadata": {},
   "outputs": [],
   "source": [
    "import collections"
   ]
  },
  {
   "cell_type": "code",
   "execution_count": 15,
   "metadata": {},
   "outputs": [],
   "source": [
    "EPOCHS = 5000\n",
    "losses = []\n",
    "mem_size = 1000\n",
    "batch_size = 200\n",
    "replay = collections.deque(maxlen = mem_size)\n",
    "max_moves = 50\n",
    "h = 0\n",
    "SYNC_FREQ = 50\n",
    "j = 0"
   ]
  },
  {
   "cell_type": "code",
   "execution_count": null,
   "metadata": {},
   "outputs": [],
   "source": []
  }
 ],
 "metadata": {
  "kernelspec": {
   "display_name": "gym",
   "language": "python",
   "name": "python3"
  },
  "language_info": {
   "codemirror_mode": {
    "name": "ipython",
    "version": 3
   },
   "file_extension": ".py",
   "mimetype": "text/x-python",
   "name": "python",
   "nbconvert_exporter": "python",
   "pygments_lexer": "ipython3",
   "version": "3.8.15 | packaged by conda-forge | (default, Nov 22 2022, 08:49:06) \n[Clang 14.0.6 ]"
  },
  "orig_nbformat": 4,
  "vscode": {
   "interpreter": {
    "hash": "a51d2d6d25395c24e0d12246d2018dcbf7cbc51d78bb42126dff68c94d75ef25"
   }
  }
 },
 "nbformat": 4,
 "nbformat_minor": 2
}
