{
 "cells": [
  {
   "cell_type": "code",
   "execution_count": 2,
   "id": "50d69b22-e258-4665-b2af-5bab937303a8",
   "metadata": {},
   "outputs": [],
   "source": [
    "import gym\n",
    "import collections"
   ]
  },
  {
   "cell_type": "code",
   "execution_count": 13,
   "id": "54178057-c524-438e-be56-46a8159e149e",
   "metadata": {},
   "outputs": [],
   "source": [
    "ENV_NAME = \"FrozenLake-v1\""
   ]
  },
  {
   "cell_type": "code",
   "execution_count": 4,
   "id": "211b8fae-ebc8-404d-aefc-1eb7516aa889",
   "metadata": {},
   "outputs": [],
   "source": [
    "GAMMA = 0.9\n",
    "ALPHA = 0.2"
   ]
  },
  {
   "cell_type": "code",
   "execution_count": 5,
   "id": "0e615434-b6c7-4d50-a758-863010cc8b63",
   "metadata": {},
   "outputs": [],
   "source": [
    "TEST_EPISODES = 20"
   ]
  },
  {
   "cell_type": "code",
   "execution_count": 6,
   "id": "a15fa37b-8170-4108-aaa4-6f568848963c",
   "metadata": {},
   "outputs": [
    {
     "data": {
      "text/plain": [
       "defaultdict(float, {})"
      ]
     },
     "execution_count": 6,
     "metadata": {},
     "output_type": "execute_result"
    }
   ],
   "source": [
    "collections.defaultdict(float)"
   ]
  },
  {
   "cell_type": "code",
   "execution_count": 17,
   "id": "15e7f387-9b2e-4314-b6b2-af820ab00d2f",
   "metadata": {},
   "outputs": [],
   "source": [
    "class Agent:\n",
    "    def __init__(self):\n",
    "        self.env = gym.make(ENV_NAME)\n",
    "        self.state = self.env.reset()\n",
    "        self.rewards = collections.defaultdict(float)\n",
    "    \n",
    "    def sample_env(self):\n",
    "        action = self.env.action_space.sample()\n",
    "        old_state = self.state\n",
    "        new_state, reward, is_done, _ = self.env.step(action)\n",
    "        return old_state, action_space, reward, new_state\n",
    "    \n",
    "    def best_action_and_value(self, state):\n",
    "        best_reward, best_action = None, None\n",
    "        for action in range(self.env.action_space.n):\n",
    "            action_reward = self.rewards[(state, action)]\n",
    "            \n",
    "            if best_reward is None or best_reward < action_reward:\n",
    "                best_reward = action_reward\n",
    "                best_action = action\n",
    "                \n",
    "        return best_reward, best_action\n",
    "    \n",
    "    def value_update(self, state, action, reward, next_state):\n",
    "        next_best_reward, _ = self.best_action_and_value(next_state)\n",
    "        next_new_reward = reward + GAMMA * next_best_reward\n",
    "        \n",
    "        current_reward = self.rewards([state, action])\n",
    "        self.rewards[(state, action)] = current_reward * (1-ALPHA) + next_new_reward * ALPHA\n",
    "    \n",
    "    def play_episode(self, env):\n",
    "        total_reward = 0.0\n",
    "        state = env.reset()\n",
    "        while True:\n",
    "            _, action = self.best_action_and_value(state)\n",
    "            new_state, reward, is_done = env.step(action)\n",
    "            total_reward += reward\n",
    "            \n",
    "            if is_done: break\n",
    "            \n",
    "            state = new_state\n",
    "        return total_reward"
   ]
  },
  {
   "cell_type": "code",
   "execution_count": 18,
   "id": "db0945e1-d434-427b-89aa-28c40b1fe917",
   "metadata": {},
   "outputs": [],
   "source": [
    "test_env = gym.make(ENV_NAME)\n",
    "agent = Agent()"
   ]
  },
  {
   "cell_type": "code",
   "execution_count": 19,
   "id": "f1128f4f-1eb2-4c10-8cd7-313c0be12944",
   "metadata": {},
   "outputs": [],
   "source": [
    "iter_no = 0\n",
    "best_reward = 0.0"
   ]
  },
  {
   "cell_type": "code",
   "execution_count": 20,
   "id": "6d422374-1a43-49d2-ad52-419027ff7f6c",
   "metadata": {},
   "outputs": [
    {
     "ename": "ValueError",
     "evalue": "too many values to unpack (expected 4)",
     "output_type": "error",
     "traceback": [
      "\u001b[0;31m---------------------------------------------------------------------------\u001b[0m",
      "\u001b[0;31mValueError\u001b[0m                                Traceback (most recent call last)",
      "Cell \u001b[0;32mIn[20], line 4\u001b[0m\n\u001b[1;32m      1\u001b[0m \u001b[38;5;28;01mwhile\u001b[39;00m \u001b[38;5;28;01mTrue\u001b[39;00m:\n\u001b[1;32m      2\u001b[0m     iter_no \u001b[38;5;241m+\u001b[39m\u001b[38;5;241m=\u001b[39m \u001b[38;5;241m1\u001b[39m\n\u001b[0;32m----> 4\u001b[0m     state, action, reward, next_state \u001b[38;5;241m=\u001b[39m \u001b[43magent\u001b[49m\u001b[38;5;241;43m.\u001b[39;49m\u001b[43msample_env\u001b[49m\u001b[43m(\u001b[49m\u001b[43m)\u001b[49m\n\u001b[1;32m      5\u001b[0m     agent\u001b[38;5;241m.\u001b[39mvalue_update(state, action, reward, next_state)\n\u001b[1;32m      7\u001b[0m     reward \u001b[38;5;241m=\u001b[39m \u001b[38;5;241m0.0\u001b[39m\n",
      "Cell \u001b[0;32mIn[17], line 10\u001b[0m, in \u001b[0;36mAgent.sample_env\u001b[0;34m(self)\u001b[0m\n\u001b[1;32m      8\u001b[0m action \u001b[38;5;241m=\u001b[39m \u001b[38;5;28mself\u001b[39m\u001b[38;5;241m.\u001b[39menv\u001b[38;5;241m.\u001b[39maction_space\u001b[38;5;241m.\u001b[39msample()\n\u001b[1;32m      9\u001b[0m old_state \u001b[38;5;241m=\u001b[39m \u001b[38;5;28mself\u001b[39m\u001b[38;5;241m.\u001b[39mstate\n\u001b[0;32m---> 10\u001b[0m new_state, reward, is_done, _ \u001b[38;5;241m=\u001b[39m \u001b[38;5;28mself\u001b[39m\u001b[38;5;241m.\u001b[39menv\u001b[38;5;241m.\u001b[39mstep(action)\n\u001b[1;32m     11\u001b[0m \u001b[38;5;28;01mreturn\u001b[39;00m old_state, action_space, reward, new_state\n",
      "\u001b[0;31mValueError\u001b[0m: too many values to unpack (expected 4)"
     ]
    }
   ],
   "source": [
    "while True:\n",
    "    iter_no += 1\n",
    "    \n",
    "    state, action, reward, next_state = agent.sample_env()\n",
    "    agent.value_update(state, action, reward, next_state)\n",
    "    \n",
    "    reward = 0.0\n",
    "    for _ in range(TEST_EPISODES):\n",
    "        reward += agent.play_episode(test_env)\n",
    "    \n",
    "    reward /= TEST_EPISODES\n",
    "    \n",
    "    if reward > best_reward:\n",
    "        print(f\"Best reward updated: {best_reward}, {reward}\")\n",
    "        best_reward = reward\n",
    "    \n",
    "    if reward > 0.8:\n",
    "        print(f\"Solved in {iter_no} iterations!\")\n",
    "        break"
   ]
  },
  {
   "cell_type": "code",
   "execution_count": null,
   "id": "4b7897b6-7d1c-4b77-8667-40e628e1799b",
   "metadata": {},
   "outputs": [],
   "source": []
  },
  {
   "cell_type": "code",
   "execution_count": null,
   "id": "ada789e5-02ab-4332-b9cc-0940faaa5cd0",
   "metadata": {},
   "outputs": [],
   "source": []
  }
 ],
 "metadata": {
  "kernelspec": {
   "display_name": "Python 3 (ipykernel)",
   "language": "python",
   "name": "python3"
  },
  "language_info": {
   "codemirror_mode": {
    "name": "ipython",
    "version": 3
   },
   "file_extension": ".py",
   "mimetype": "text/x-python",
   "name": "python",
   "nbconvert_exporter": "python",
   "pygments_lexer": "ipython3",
   "version": "3.8.15"
  }
 },
 "nbformat": 4,
 "nbformat_minor": 5
}
