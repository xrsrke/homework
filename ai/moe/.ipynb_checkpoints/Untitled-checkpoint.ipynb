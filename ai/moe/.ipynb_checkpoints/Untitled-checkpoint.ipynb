{
 "cells": [
  {
   "cell_type": "code",
   "execution_count": 1,
   "id": "1fa3a6bb-2465-480c-bb52-73666051cfde",
   "metadata": {
    "tags": []
   },
   "outputs": [],
   "source": [
    "num_layers = 16"
   ]
  },
  {
   "cell_type": "code",
   "execution_count": 11,
   "id": "438a8eba-e97b-43d3-8302-1c2bbb781e09",
   "metadata": {
    "tags": []
   },
   "outputs": [],
   "source": [
    "num_stages = 2"
   ]
  },
  {
   "cell_type": "code",
   "execution_count": 12,
   "id": "645901db-0f3f-400d-83f3-1299cafd4342",
   "metadata": {
    "tags": []
   },
   "outputs": [],
   "source": [
    "def make_pipeline_partition(num_items, num_parts):\n",
    "    \"\"\"compute range of pipeline partition for current rank\"\"\"\n",
    "    parts = [0] * (num_parts + 1)\n",
    "    # First check for the trivial edge case\n",
    "    if num_items <= num_parts:\n",
    "        for p in range(num_parts + 1):\n",
    "            parts[p] = min(p, num_items)\n",
    "        return parts\n",
    "\n",
    "    chunksize = floor(num_items / num_parts)\n",
    "    for p in range(num_parts):\n",
    "        parts[p] = min(chunksize * p, num_items)\n",
    "    parts[num_parts] = num_items\n",
    "    return parts"
   ]
  },
  {
   "cell_type": "code",
   "execution_count": 13,
   "id": "db67bd99-2995-419b-94b2-ac05a2dd2e2c",
   "metadata": {
    "tags": []
   },
   "outputs": [],
   "source": [
    "from math import floor"
   ]
  },
  {
   "cell_type": "code",
   "execution_count": 14,
   "id": "2b6b1848-d9ca-4b59-bd35-6cd1b05de4ac",
   "metadata": {
    "tags": []
   },
   "outputs": [
    {
     "data": {
      "text/plain": [
       "[0, 8, 16]"
      ]
     },
     "execution_count": 14,
     "metadata": {},
     "output_type": "execute_result"
    }
   ],
   "source": [
    "make_pipeline_partition(num_layers, num_stages)"
   ]
  },
  {
   "cell_type": "code",
   "execution_count": null,
   "id": "93582251-4dba-40fc-905a-29c5d42d80b0",
   "metadata": {},
   "outputs": [],
   "source": []
  }
 ],
 "metadata": {
  "kernelspec": {
   "display_name": "Python 3 (ipykernel)",
   "language": "python",
   "name": "python3"
  },
  "language_info": {
   "codemirror_mode": {
    "name": "ipython",
    "version": 3
   },
   "file_extension": ".py",
   "mimetype": "text/x-python",
   "name": "python",
   "nbconvert_exporter": "python",
   "pygments_lexer": "ipython3",
   "version": "3.8.16"
  }
 },
 "nbformat": 4,
 "nbformat_minor": 5
}
