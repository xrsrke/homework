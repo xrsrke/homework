{
 "cells": [
  {
   "cell_type": "markdown",
   "id": "ae78f0ad-6191-436a-9e36-00deeb810ed9",
   "metadata": {},
   "source": [
    "### Sensor"
   ]
  },
  {
   "cell_type": "code",
   "execution_count": 2,
   "id": "4baf328d-d4a7-4c61-87cd-cba37a5f2b1e",
   "metadata": {
    "tags": []
   },
   "outputs": [],
   "source": [
    "def process_data(): pass"
   ]
  },
  {
   "cell_type": "code",
   "execution_count": 3,
   "id": "20a79c04-fa98-4e26-a1bc-b0a99389700d",
   "metadata": {
    "tags": []
   },
   "outputs": [
    {
     "data": {
      "text/plain": [
       "<function __main__.process_data()>"
      ]
     },
     "execution_count": 3,
     "metadata": {},
     "output_type": "execute_result"
    }
   ],
   "source": [
    "process_data"
   ]
  },
  {
   "cell_type": "code",
   "execution_count": 1,
   "id": "83560208-593f-4192-a39d-7850cb23044a",
   "metadata": {},
   "outputs": [],
   "source": [
    "from airflow.sensors.filesystem import FileSensor"
   ]
  },
  {
   "cell_type": "code",
   "execution_count": null,
   "id": "f66e9085-6e5c-437c-ba72-6d19d693963b",
   "metadata": {},
   "outputs": [],
   "source": [
    "waiting_for_file = FileSensor(\n",
    "    task_id=\"waiting_for_file\",\n",
    "    poke_interval=30,\n",
    "    timeout=60*5\n",
    ")"
   ]
  }
 ],
 "metadata": {
  "kernelspec": {
   "display_name": "Python 3 (ipykernel)",
   "language": "python",
   "name": "python3"
  },
  "language_info": {
   "codemirror_mode": {
    "name": "ipython",
    "version": 3
   },
   "file_extension": ".py",
   "mimetype": "text/x-python",
   "name": "python",
   "nbconvert_exporter": "python",
   "pygments_lexer": "ipython3",
   "version": "3.8.16"
  }
 },
 "nbformat": 4,
 "nbformat_minor": 5
}
