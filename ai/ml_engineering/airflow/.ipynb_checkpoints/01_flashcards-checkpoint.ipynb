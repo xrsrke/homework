{
 "cells": [
  {
   "cell_type": "markdown",
   "id": "bd4dae77-ae07-487b-bcfe-f13e997eff19",
   "metadata": {},
   "source": [
    "##### Example 1"
   ]
  },
  {
   "cell_type": "markdown",
   "id": "6495fa12-732f-4195-aa85-722d236c8fd0",
   "metadata": {},
   "source": [
    "Create an airflow DAG with the ID `example` using a `with` statement"
   ]
  },
  {
   "cell_type": "code",
   "execution_count": null,
   "id": "0b97152e-2033-44a9-aac8-2f27853b3dbc",
   "metadata": {},
   "outputs": [],
   "source": [
    "from airflow import DAG"
   ]
  },
  {
   "cell_type": "code",
   "execution_count": null,
   "id": "9ea12a78-f5c0-4ed1-83f0-afc329489cc6",
   "metadata": {},
   "outputs": [],
   "source": [
    "with DAG(dag_id=\"example\") as dag:\n",
    "    pass"
   ]
  },
  {
   "cell_type": "markdown",
   "id": "a2298b52-b3bb-4d24-9b2b-78433d3817cf",
   "metadata": {},
   "source": [
    "##### Example 2"
   ]
  },
  {
   "cell_type": "code",
   "execution_count": null,
   "id": "1a1e31a2-4696-41c7-bc21-f0d3014d33cd",
   "metadata": {},
   "outputs": [],
   "source": [
    "task_id = \"hello_world\""
   ]
  },
  {
   "cell_type": "code",
   "execution_count": null,
   "id": "905db07d-c6b6-44a4-9dc8-87c14b7507e9",
   "metadata": {},
   "outputs": [
    {
     "data": {
      "text/plain": [
       "'hello_world'"
      ]
     },
     "execution_count": null,
     "metadata": {},
     "output_type": "execute_result"
    }
   ],
   "source": [
    "task_id"
   ]
  },
  {
   "cell_type": "markdown",
   "id": "6b2c95e7-4101-46a7-9531-ad8acf8c3aa8",
   "metadata": {},
   "source": [
    "Create a DAG task that executes the command `echo hello world`"
   ]
  },
  {
   "cell_type": "code",
   "execution_count": null,
   "id": "3604c794-5d04-45fd-9906-84b77b06655d",
   "metadata": {},
   "outputs": [],
   "source": [
    "from airflow.operators.bash import BashOperator"
   ]
  },
  {
   "cell_type": "code",
   "execution_count": null,
   "id": "1b954577-37ad-4b60-aaf3-bae598651dac",
   "metadata": {},
   "outputs": [],
   "source": [
    "task1 = BashOperator(\n",
    "    task_id=task_id,\n",
    "    bash_command=\"echo hello world\"\n",
    ")"
   ]
  },
  {
   "cell_type": "code",
   "execution_count": null,
   "id": "6fa2214c-9632-4f52-882e-c1413656f268",
   "metadata": {},
   "outputs": [
    {
     "data": {
      "text/plain": [
       "<Task(BashOperator): hello_world>"
      ]
     },
     "execution_count": null,
     "metadata": {},
     "output_type": "execute_result"
    }
   ],
   "source": [
    "task1"
   ]
  },
  {
   "cell_type": "markdown",
   "id": "88aae232-0370-415b-88e8-ca582dc6737b",
   "metadata": {},
   "source": [
    "##### Example 3"
   ]
  },
  {
   "cell_type": "code",
   "execution_count": null,
   "id": "54595afc-6f3a-4ff5-b2e2-dbb27f61740d",
   "metadata": {},
   "outputs": [],
   "source": [
    "task2 = BashOperator(\n",
    "    task_id=\"task_2\",\n",
    "    bash_command=\"echo hello world\"\n",
    ")"
   ]
  },
  {
   "cell_type": "code",
   "execution_count": null,
   "id": "dc195c96-f2e2-412b-8c9f-fe66a39f5961",
   "metadata": {},
   "outputs": [],
   "source": [
    "task3 = BashOperator(\n",
    "    task_id=\"task_3\",\n",
    "    bash_command=\"echo hello world\"\n",
    ")"
   ]
  },
  {
   "cell_type": "code",
   "execution_count": null,
   "id": "f61485cb-2ebc-43ce-bb16-65081a474657",
   "metadata": {},
   "outputs": [
    {
     "data": {
      "text/plain": [
       "(<Task(BashOperator): hello_world>,\n",
       " <Task(BashOperator): task_2>,\n",
       " <Task(BashOperator): task_3>)"
      ]
     },
     "execution_count": null,
     "metadata": {},
     "output_type": "execute_result"
    }
   ],
   "source": [
    "task1, task2, task3"
   ]
  },
  {
   "cell_type": "markdown",
   "id": "10bbc683-b560-45b2-a7a2-32858dc2cb8c",
   "metadata": {},
   "source": [
    "Set `task_3` and `task_2` to run before `task_1`"
   ]
  },
  {
   "cell_type": "code",
   "execution_count": null,
   "id": "791be08d-6b03-4171-920e-ae9beac30b16",
   "metadata": {},
   "outputs": [],
   "source": [
    "[task3, task2] >> task1"
   ]
  },
  {
   "cell_type": "markdown",
   "id": "07820116-20c2-4737-a6e2-5bbbb6ea3e44",
   "metadata": {},
   "source": [
    "Set `task_1` to run after `task_2`"
   ]
  },
  {
   "cell_type": "code",
   "execution_count": null,
   "id": "3886d969-e7a8-4aa0-ae5c-373514ddb2ee",
   "metadata": {},
   "outputs": [],
   "source": [
    "task2 >> task1"
   ]
  },
  {
   "cell_type": "markdown",
   "id": "20a56c32-6f76-43b7-a275-404ea59d91a9",
   "metadata": {},
   "source": [
    "##### Example 3.1"
   ]
  },
  {
   "cell_type": "code",
   "execution_count": null,
   "id": "7ab5dfc0-9de9-4e40-a783-38a3cc02f38c",
   "metadata": {},
   "outputs": [],
   "source": [
    "dag_id = \"test_name\""
   ]
  },
  {
   "cell_type": "code",
   "execution_count": null,
   "id": "80dd2cdc-566d-41bf-8f7b-1241ee649d99",
   "metadata": {},
   "outputs": [
    {
     "data": {
      "text/plain": [
       "'test_name'"
      ]
     },
     "execution_count": null,
     "metadata": {},
     "output_type": "execute_result"
    }
   ],
   "source": [
    "dag_id"
   ]
  },
  {
   "cell_type": "markdown",
   "id": "d2e4f893-9123-410c-8cc8-f6ffb9a65435",
   "metadata": {},
   "source": [
    "Create a workflow that run at `(2023, 5, 31)`"
   ]
  },
  {
   "cell_type": "code",
   "execution_count": null,
   "id": "e6194e62-cb6a-45c5-9544-8c48a4c0afdc",
   "metadata": {},
   "outputs": [],
   "source": [
    "from datetime import datetime\n",
    "from airflow import DAG"
   ]
  },
  {
   "cell_type": "code",
   "execution_count": null,
   "id": "7927ee13-9381-4203-9e45-799508a06c5d",
   "metadata": {},
   "outputs": [],
   "source": [
    "with DAG(\n",
    "    dag_id=dag_id,\n",
    "    start_date=datetime(2023, 5, 31)\n",
    ") as dag:\n",
    "    pass"
   ]
  },
  {
   "cell_type": "markdown",
   "id": "12a21060-625d-40a2-9989-bd5e81ad50f6",
   "metadata": {},
   "source": [
    "##### Example 4"
   ]
  },
  {
   "cell_type": "code",
   "execution_count": null,
   "id": "6b796239-ba68-49fb-8295-66a955b0d18d",
   "metadata": {},
   "outputs": [],
   "source": [
    "def say_hello():\n",
    "    print(\"hello world\")"
   ]
  },
  {
   "cell_type": "code",
   "execution_count": null,
   "id": "53ff49ec-dae0-4d0c-a759-fc13dba000d8",
   "metadata": {},
   "outputs": [],
   "source": [
    "dag_id = \"test_run_hello\""
   ]
  },
  {
   "cell_type": "code",
   "execution_count": null,
   "id": "819b88c6-950b-47fd-b311-abcf257ec927",
   "metadata": {},
   "outputs": [
    {
     "name": "stdout",
     "output_type": "stream",
     "text": [
      "hello world\n"
     ]
    }
   ],
   "source": [
    "say_hello()"
   ]
  },
  {
   "cell_type": "code",
   "execution_count": null,
   "id": "838f6fa8-be6e-426f-b06e-fdbe166bb8db",
   "metadata": {},
   "outputs": [
    {
     "data": {
      "text/plain": [
       "'test_name'"
      ]
     },
     "execution_count": null,
     "metadata": {},
     "output_type": "execute_result"
    }
   ],
   "source": [
    "dag_id"
   ]
  },
  {
   "cell_type": "markdown",
   "id": "83c49d04-6e64-4c4a-8c87-4eee480a6b55",
   "metadata": {},
   "source": [
    "Create a workflow that executes the function say_hello on `(2023, 5, 31)`."
   ]
  },
  {
   "cell_type": "code",
   "execution_count": null,
   "id": "71fb02f6-5978-45d9-ac4d-a19663111044",
   "metadata": {},
   "outputs": [],
   "source": [
    "from datetime import datetime\n",
    "from airflow import DAG\n",
    "from airflow.operators.python import PythonOperator"
   ]
  },
  {
   "cell_type": "code",
   "execution_count": null,
   "id": "60c36139-6b75-4dbd-9792-44e60363e1b8",
   "metadata": {},
   "outputs": [],
   "source": [
    "with DAG(\n",
    "    dag_id=dag_id,\n",
    "    start_date=datetime(2023, 5, 31)\n",
    ") as dag:\n",
    "    task = PythonOperator(\n",
    "        task_id=\"run_say_hello\",\n",
    "        python_callable=say_hello\n",
    "    )\n",
    "    \n",
    "    task"
   ]
  },
  {
   "cell_type": "markdown",
   "id": "24079103-338a-47c6-b80c-04055535c4f3",
   "metadata": {},
   "source": [
    "##### Example 5"
   ]
  },
  {
   "cell_type": "code",
   "execution_count": null,
   "id": "48c01700-bd95-46f0-ab54-f8f748864f25",
   "metadata": {},
   "outputs": [],
   "source": [
    "dag_id = \"xcom_dag\"\n",
    "start_date = datetime.today()"
   ]
  },
  {
   "cell_type": "code",
   "execution_count": null,
   "id": "bf297914-2f22-435e-83da-3e3dc4b0a66c",
   "metadata": {},
   "outputs": [
    {
     "data": {
      "text/plain": [
       "('xcom_dag', datetime.datetime(2023, 5, 31, 14, 32, 26, 64362))"
      ]
     },
     "execution_count": null,
     "metadata": {},
     "output_type": "execute_result"
    }
   ],
   "source": [
    "dag_id, start_date"
   ]
  },
  {
   "cell_type": "markdown",
   "id": "5f4f103e-d2fc-436e-82aa-d4343168f79b",
   "metadata": {},
   "source": [
    "Write a DAG workflow that:\n",
    "\n",
    "+ The first task, `task_1`, should push a value of `2` with the key `x`. \n",
    "\n",
    "+ The second task, `task_2`, should pull this value, add `3` to it, and push the result with the key `y`."
   ]
  },
  {
   "cell_type": "code",
   "execution_count": null,
   "id": "5e42a781-c359-4c18-8ee3-be880e8e275c",
   "metadata": {},
   "outputs": [],
   "source": [
    "from airflow import DAG\n",
    "from airflow.operators.python import PythonOperator"
   ]
  },
  {
   "cell_type": "code",
   "execution_count": null,
   "id": "080e422e-f6a2-4a08-a3dd-73f3c2a4b905",
   "metadata": {},
   "outputs": [],
   "source": [
    "def task_1(ti):\n",
    "    x = 2\n",
    "    ti.xcom_push(key=\"x\", value=x)"
   ]
  },
  {
   "cell_type": "code",
   "execution_count": null,
   "id": "23afca8a-40ca-42c6-9811-46b96030fa07",
   "metadata": {},
   "outputs": [],
   "source": [
    "def task_2(ti):\n",
    "    x = ti.xcom_pull(key=\"x\", task_ids=[\"task_1\"])[0]\n",
    "    y = x + 3\n",
    "    ti.xcom_push(key=\"y\", value=y)"
   ]
  },
  {
   "cell_type": "code",
   "execution_count": null,
   "id": "9944b27d-fe7d-41fb-85b6-05270fbd544d",
   "metadata": {},
   "outputs": [],
   "source": [
    "with DAG(dag_id=dag_id, start_date=start_date) as dag:\n",
    "    task_1 = PythonOperator(task_id=\"task_1\", python_callable=task_1)\n",
    "    task_2 = PythonOperator(task_id=\"task_2\", python_callable=task_2)\n",
    "\n",
    "    task_1 >> task_2"
   ]
  },
  {
   "cell_type": "markdown",
   "id": "f7b0e94c-b097-4821-917d-ef46eb83e036",
   "metadata": {},
   "source": [
    "##### Example 6"
   ]
  },
  {
   "cell_type": "code",
   "execution_count": null,
   "id": "0744d8ec-db00-43bb-8fa1-40a82ed12e77",
   "metadata": {},
   "outputs": [
    {
     "data": {
      "text/plain": [
       "'xcom_dag'"
      ]
     },
     "execution_count": null,
     "metadata": {},
     "output_type": "execute_result"
    }
   ],
   "source": [
    "dag_id"
   ]
  },
  {
   "cell_type": "code",
   "execution_count": null,
   "id": "61b0fe7e-2eb5-493f-9e0b-f09ae606eae9",
   "metadata": {},
   "outputs": [
    {
     "data": {
      "text/plain": [
       "datetime.datetime(2023, 5, 31, 14, 32, 26, 64362)"
      ]
     },
     "execution_count": null,
     "metadata": {},
     "output_type": "execute_result"
    }
   ],
   "source": [
    "start_date"
   ]
  },
  {
   "cell_type": "markdown",
   "id": "ce155885-ef9d-4244-9b02-401392374a5b",
   "metadata": {},
   "source": [
    "Create a DAG workflow using decorator"
   ]
  },
  {
   "cell_type": "code",
   "execution_count": null,
   "id": "bfe8844e-b2f1-4a55-9b8b-eb95dcb92b90",
   "metadata": {},
   "outputs": [],
   "source": [
    "from airflow.decorators import dag"
   ]
  },
  {
   "cell_type": "code",
   "execution_count": null,
   "id": "8732703c-48d3-4eb3-9e67-561ea351c898",
   "metadata": {},
   "outputs": [],
   "source": [
    "@dag(dag_id=dag_id, start_date=start_date)\n",
    "def example():\n",
    "    pass"
   ]
  },
  {
   "cell_type": "code",
   "execution_count": null,
   "id": "cb3fe0ec-6b86-4fd8-85de-64c1c30ca044",
   "metadata": {},
   "outputs": [
    {
     "data": {
      "text/plain": [
       "<function __main__.example()>"
      ]
     },
     "execution_count": null,
     "metadata": {},
     "output_type": "execute_result"
    }
   ],
   "source": [
    "example"
   ]
  },
  {
   "cell_type": "markdown",
   "id": "259a1912-9367-4580-9a1a-820f55c6d7ab",
   "metadata": {},
   "source": [
    "##### Example 7"
   ]
  },
  {
   "cell_type": "code",
   "execution_count": null,
   "id": "22b8166a-4a89-4f46-b892-6e46e026c5b5",
   "metadata": {},
   "outputs": [],
   "source": [
    "dag_id = \"new_example\""
   ]
  },
  {
   "cell_type": "code",
   "execution_count": null,
   "id": "13c9930c-05de-461a-8af3-ea83e363b6b7",
   "metadata": {},
   "outputs": [
    {
     "data": {
      "text/plain": [
       "'xcom_dag'"
      ]
     },
     "execution_count": null,
     "metadata": {},
     "output_type": "execute_result"
    }
   ],
   "source": [
    "dag_id"
   ]
  },
  {
   "cell_type": "code",
   "execution_count": null,
   "id": "bee62bf7-1241-4af9-b28e-6c6a69488e9e",
   "metadata": {},
   "outputs": [
    {
     "data": {
      "text/plain": [
       "datetime.datetime(2023, 5, 31, 14, 49, 9, 184564)"
      ]
     },
     "execution_count": null,
     "metadata": {},
     "output_type": "execute_result"
    }
   ],
   "source": [
    "start_date"
   ]
  },
  {
   "cell_type": "code",
   "execution_count": null,
   "id": "20a052af-0c4e-45ca-b68b-ebc1fb1a3bd6",
   "metadata": {},
   "outputs": [],
   "source": [
    "def greet(name, age): # similar\n",
    "    pass"
   ]
  },
  {
   "cell_type": "markdown",
   "id": "fbf2b69e-dfb7-4e3f-9969-4aa40a01dfcf",
   "metadata": {},
   "source": [
    "Write an Airflow DAG using TaskFlow API, where the DAG contains three tasks: `get_name`, `get_age`, and `greet`. The `greet` task should depend on the outputs of `get_name` and `get_age`."
   ]
  },
  {
   "cell_type": "code",
   "execution_count": null,
   "id": "2b55d56c-55ee-4605-973c-d5be03707455",
   "metadata": {},
   "outputs": [],
   "source": [
    "from airflow.decorators import dag, task"
   ]
  },
  {
   "cell_type": "code",
   "execution_count": null,
   "id": "e03638f8-02a7-4339-9a9b-c43523b794d6",
   "metadata": {},
   "outputs": [],
   "source": [
    "@dag(dag_id=dag_id, start_date=start_date)\n",
    "def example():\n",
    "    @task\n",
    "    def get_name():\n",
    "        pass\n",
    "    \n",
    "    @task\n",
    "    def get_age():\n",
    "        pass\n",
    "    \n",
    "    @task\n",
    "    def greet(name, age):\n",
    "        pass\n",
    "    \n",
    "    name = get_name()\n",
    "    age = get_age()\n",
    "    greet(name=name, age=age)"
   ]
  },
  {
   "cell_type": "code",
   "execution_count": null,
   "id": "ed1a8201-71f5-4c97-8eb3-a75c42f648e4",
   "metadata": {},
   "outputs": [],
   "source": [
    "instance_example = example()"
   ]
  },
  {
   "cell_type": "markdown",
   "id": "899f88e5-5378-4731-b9a4-05df6852d991",
   "metadata": {},
   "source": [
    "##### Example 8"
   ]
  },
  {
   "cell_type": "code",
   "execution_count": null,
   "id": "b4b557de-edb8-4cf3-8e05-3e4495f63b51",
   "metadata": {},
   "outputs": [],
   "source": [
    "from airflow"
   ]
  }
 ],
 "metadata": {
  "kernelspec": {
   "display_name": "Python 3 (ipykernel)",
   "language": "python",
   "name": "python3"
  }
 },
 "nbformat": 4,
 "nbformat_minor": 5
}
