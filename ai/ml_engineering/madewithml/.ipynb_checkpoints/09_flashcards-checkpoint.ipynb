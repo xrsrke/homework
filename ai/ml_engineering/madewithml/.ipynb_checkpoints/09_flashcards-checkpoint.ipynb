{
 "cells": [
  {
   "cell_type": "markdown",
   "id": "f2c57b04-f1d1-4d18-9a79-6d1e0d22001b",
   "metadata": {},
   "source": [
    "### PyTest"
   ]
  },
  {
   "cell_type": "markdown",
   "id": "c889d939-2adb-40a8-a4f4-def734290b66",
   "metadata": {},
   "source": [
    "##### Example 1"
   ]
  },
  {
   "cell_type": "code",
   "execution_count": 84,
   "id": "7b1b793f-815f-4df6-9216-470c67f387bb",
   "metadata": {
    "tags": []
   },
   "outputs": [],
   "source": [
    "class Fruit:\n",
    "    def __init__(self, name):\n",
    "        self.name = name"
   ]
  },
  {
   "cell_type": "markdown",
   "id": "ebe039d6-70f1-4ab7-8a5c-09ab928c3774",
   "metadata": {},
   "source": [
    "Write a test that verifies the initialization of the Fruit class. Once the test is completed, remove the instance."
   ]
  },
  {
   "cell_type": "code",
   "execution_count": 85,
   "id": "dede435d-ba52-43bc-88b6-099f7c8a8c9a",
   "metadata": {
    "tags": []
   },
   "outputs": [],
   "source": [
    "class TestFruit:\n",
    "    def setup_method(self):\n",
    "        self.fruit = Fruit(name=\"banana\")\n",
    "    \n",
    "    def test_init(self):\n",
    "        assert self.fruit.name == \"banana\"\n",
    "    \n",
    "    def teardown_method(self):\n",
    "        del self.fruit"
   ]
  },
  {
   "cell_type": "markdown",
   "id": "4785b126-0a7f-42f8-a92e-3dc1830f0e12",
   "metadata": {},
   "source": [
    "### Great Expectations"
   ]
  },
  {
   "cell_type": "code",
   "execution_count": 3,
   "id": "e6f84419-be27-4f8d-b884-f21e18cf7ba9",
   "metadata": {
    "tags": []
   },
   "outputs": [],
   "source": [
    "import json\n",
    "import pandas as pd\n",
    "from urllib.request import urlopen"
   ]
  },
  {
   "cell_type": "code",
   "execution_count": 4,
   "id": "b76d310c-87bd-484b-bf43-0fd0f23001f0",
   "metadata": {
    "tags": []
   },
   "outputs": [],
   "source": [
    "# Load labeled projects\n",
    "projects = pd.read_csv(\"https://raw.githubusercontent.com/GokuMohandas/Made-With-ML/main/datasets/projects.csv\")\n",
    "tags = pd.read_csv(\"https://raw.githubusercontent.com/GokuMohandas/Made-With-ML/main/datasets/tags.csv\")"
   ]
  },
  {
   "cell_type": "markdown",
   "id": "a1c7bbc4-e32f-4c5b-843c-d3f92f0b701b",
   "metadata": {},
   "source": [
    "##### Example 1"
   ]
  },
  {
   "cell_type": "code",
   "execution_count": 5,
   "id": "b727695d-7a8c-4987-aab1-0757e7522975",
   "metadata": {
    "tags": []
   },
   "outputs": [],
   "source": [
    "data = pd.merge(projects, tags, on=\"id\")"
   ]
  },
  {
   "cell_type": "code",
   "execution_count": 6,
   "id": "a940536a-ddb3-46f1-8a31-1435f3b3783a",
   "metadata": {
    "tags": []
   },
   "outputs": [
    {
     "data": {
      "text/plain": [
       "pandas.core.frame.DataFrame"
      ]
     },
     "execution_count": 6,
     "metadata": {},
     "output_type": "execute_result"
    }
   ],
   "source": [
    "type(data)"
   ]
  },
  {
   "cell_type": "markdown",
   "id": "28132f23-6b9a-4b56-bcc4-0281f4dc0bdb",
   "metadata": {},
   "source": [
    "Create a Pandas DataFrame from the data using `great_expectations`."
   ]
  },
  {
   "cell_type": "code",
   "execution_count": 20,
   "id": "c28da0c1-dbee-42ad-be39-1b31555d0a9f",
   "metadata": {
    "tags": []
   },
   "outputs": [],
   "source": [
    "import great_expectations as ge"
   ]
  },
  {
   "cell_type": "code",
   "execution_count": 21,
   "id": "a04bf574-e8a2-41da-b697-54e95273d5d5",
   "metadata": {
    "tags": []
   },
   "outputs": [],
   "source": [
    "df = ge.dataset.PandasDataset(data)"
   ]
  },
  {
   "cell_type": "code",
   "execution_count": 22,
   "id": "807d0376-3e66-44d0-b143-7d5f6c184e16",
   "metadata": {
    "tags": []
   },
   "outputs": [
    {
     "data": {
      "text/plain": [
       "great_expectations.dataset.pandas_dataset.PandasDataset"
      ]
     },
     "execution_count": 22,
     "metadata": {},
     "output_type": "execute_result"
    }
   ],
   "source": [
    "type(df)"
   ]
  },
  {
   "cell_type": "markdown",
   "id": "7749fe7b-317b-4bd2-a382-d0095fdf1871",
   "metadata": {},
   "source": [
    "##### Example 2"
   ]
  },
  {
   "cell_type": "code",
   "execution_count": 7,
   "id": "a86513c3-9fce-447c-9b7f-ca6800e5e2c7",
   "metadata": {
    "tags": []
   },
   "outputs": [
    {
     "data": {
      "text/plain": [
       "pandas.core.frame.DataFrame"
      ]
     },
     "execution_count": 7,
     "metadata": {},
     "output_type": "execute_result"
    }
   ],
   "source": [
    "type(data)"
   ]
  },
  {
   "cell_type": "code",
   "execution_count": 8,
   "id": "0f2ea53e-7e82-48d6-abe0-ed368dd0d2f5",
   "metadata": {
    "tags": []
   },
   "outputs": [
    {
     "data": {
      "text/html": [
       "<div>\n",
       "<style scoped>\n",
       "    .dataframe tbody tr th:only-of-type {\n",
       "        vertical-align: middle;\n",
       "    }\n",
       "\n",
       "    .dataframe tbody tr th {\n",
       "        vertical-align: top;\n",
       "    }\n",
       "\n",
       "    .dataframe thead th {\n",
       "        text-align: right;\n",
       "    }\n",
       "</style>\n",
       "<table border=\"1\" class=\"dataframe\">\n",
       "  <thead>\n",
       "    <tr style=\"text-align: right;\">\n",
       "      <th></th>\n",
       "      <th>id</th>\n",
       "      <th>created_on</th>\n",
       "      <th>title</th>\n",
       "      <th>description</th>\n",
       "      <th>tag</th>\n",
       "    </tr>\n",
       "  </thead>\n",
       "  <tbody>\n",
       "    <tr>\n",
       "      <th>0</th>\n",
       "      <td>6</td>\n",
       "      <td>2020-02-20 06:43:18</td>\n",
       "      <td>Comparison between YOLO and RCNN on real world...</td>\n",
       "      <td>Bringing theory to experiment is cool. We can ...</td>\n",
       "      <td>computer-vision</td>\n",
       "    </tr>\n",
       "  </tbody>\n",
       "</table>\n",
       "</div>"
      ],
      "text/plain": [
       "   id           created_on                                              title  \\\n",
       "0   6  2020-02-20 06:43:18  Comparison between YOLO and RCNN on real world...   \n",
       "\n",
       "                                         description              tag  \n",
       "0  Bringing theory to experiment is cool. We can ...  computer-vision  "
      ]
     },
     "execution_count": 8,
     "metadata": {},
     "output_type": "execute_result"
    }
   ],
   "source": [
    "data.head(1)"
   ]
  },
  {
   "cell_type": "markdown",
   "id": "8843d498-e253-4d06-b804-498664207f24",
   "metadata": {},
   "source": [
    "Verify if the `id` column in the data is unique using `great_expectations`\n",
    "\n",
    "**Hint**: `values_to_be_unique`"
   ]
  },
  {
   "cell_type": "code",
   "execution_count": 9,
   "id": "24f59097-b164-4c4f-ae3c-5f504b9e2064",
   "metadata": {
    "tags": []
   },
   "outputs": [],
   "source": [
    "import great_expectations as ge"
   ]
  },
  {
   "cell_type": "code",
   "execution_count": 10,
   "id": "829d992f-c118-465a-90c5-deb275411a6b",
   "metadata": {
    "tags": []
   },
   "outputs": [],
   "source": [
    "df = ge.dataset.PandasDataset(data)"
   ]
  },
  {
   "cell_type": "code",
   "execution_count": 11,
   "id": "fed862e6-b04d-429d-b13f-252d0af6f669",
   "metadata": {
    "tags": []
   },
   "outputs": [],
   "source": [
    "result = df.expect_column_values_to_be_unique(column=\"id\")"
   ]
  },
  {
   "cell_type": "code",
   "execution_count": 12,
   "id": "26cd4338-8d8d-42e5-9a1f-c967f148bb90",
   "metadata": {
    "tags": []
   },
   "outputs": [
    {
     "data": {
      "text/plain": [
       "{\n",
       "  \"result\": {\n",
       "    \"element_count\": 955,\n",
       "    \"missing_count\": 0,\n",
       "    \"missing_percent\": 0.0,\n",
       "    \"unexpected_count\": 0,\n",
       "    \"unexpected_percent\": 0.0,\n",
       "    \"unexpected_percent_total\": 0.0,\n",
       "    \"unexpected_percent_nonmissing\": 0.0,\n",
       "    \"partial_unexpected_list\": []\n",
       "  },\n",
       "  \"exception_info\": {\n",
       "    \"raised_exception\": false,\n",
       "    \"exception_traceback\": null,\n",
       "    \"exception_message\": null\n",
       "  },\n",
       "  \"success\": true,\n",
       "  \"meta\": {}\n",
       "}"
      ]
     },
     "execution_count": 12,
     "metadata": {},
     "output_type": "execute_result"
    }
   ],
   "source": [
    "result"
   ]
  },
  {
   "cell_type": "markdown",
   "id": "12754801-90ec-4dd6-aacc-cf511bce7a09",
   "metadata": {},
   "source": [
    "##### Example 3"
   ]
  },
  {
   "cell_type": "code",
   "execution_count": 42,
   "id": "ab8876c0-b08c-4049-a164-2f3f20048054",
   "metadata": {
    "tags": []
   },
   "outputs": [],
   "source": [
    "ordered_columns = [\"id\", \"created_on\", \"title\", \"description\", \"tag\"]"
   ]
  },
  {
   "cell_type": "code",
   "execution_count": 45,
   "id": "0eb7e329-31e7-43a2-bcd8-df16d3b2aafb",
   "metadata": {
    "tags": []
   },
   "outputs": [
    {
     "data": {
      "text/plain": [
       "great_expectations.dataset.pandas_dataset.PandasDataset"
      ]
     },
     "execution_count": 45,
     "metadata": {},
     "output_type": "execute_result"
    }
   ],
   "source": [
    "type(df)"
   ]
  },
  {
   "cell_type": "code",
   "execution_count": 46,
   "id": "ab675502-2c86-4f60-b5ca-e959a1bda05b",
   "metadata": {
    "tags": []
   },
   "outputs": [
    {
     "data": {
      "text/plain": [
       "['id', 'created_on', 'title', 'description', 'tag']"
      ]
     },
     "execution_count": 46,
     "metadata": {},
     "output_type": "execute_result"
    }
   ],
   "source": [
    "ordered_columns"
   ]
  },
  {
   "cell_type": "markdown",
   "id": "5a38aab8-aba3-495d-85e5-0485ca149074",
   "metadata": {},
   "source": [
    "Check if the columns in the DataFrame df are arranged in the specified order of `ordered_columns` using `great_expectations`\n",
    "\n",
    "**Hint**: `columns_to_match_ordered_list`"
   ]
  },
  {
   "cell_type": "code",
   "execution_count": 47,
   "id": "afcca40b-8e86-4481-837c-93f3673b4f8b",
   "metadata": {
    "tags": []
   },
   "outputs": [
    {
     "data": {
      "text/plain": [
       "{\n",
       "  \"success\": true,\n",
       "  \"meta\": {},\n",
       "  \"result\": {\n",
       "    \"observed_value\": [\n",
       "      \"id\",\n",
       "      \"created_on\",\n",
       "      \"title\",\n",
       "      \"description\",\n",
       "      \"tag\"\n",
       "    ]\n",
       "  },\n",
       "  \"exception_info\": {\n",
       "    \"raised_exception\": false,\n",
       "    \"exception_traceback\": null,\n",
       "    \"exception_message\": null\n",
       "  }\n",
       "}"
      ]
     },
     "execution_count": 47,
     "metadata": {},
     "output_type": "execute_result"
    }
   ],
   "source": [
    "df.expect_table_columns_to_match_ordered_list(column_list=ordered_columns)"
   ]
  },
  {
   "cell_type": "markdown",
   "id": "75a480f0-5d27-4410-b1a5-ddec779673af",
   "metadata": {},
   "source": [
    "##### Example 4"
   ]
  },
  {
   "cell_type": "code",
   "execution_count": 73,
   "id": "a98285a8-18c0-4a06-a2da-b139b0a46d9c",
   "metadata": {
    "tags": []
   },
   "outputs": [
    {
     "data": {
      "text/plain": [
       "great_expectations.dataset.pandas_dataset.PandasDataset"
      ]
     },
     "execution_count": 73,
     "metadata": {},
     "output_type": "execute_result"
    }
   ],
   "source": [
    "type(df)"
   ]
  },
  {
   "cell_type": "code",
   "execution_count": 74,
   "id": "1f57893a-fb2c-4d68-a482-4efbd7d480fe",
   "metadata": {
    "tags": []
   },
   "outputs": [],
   "source": [
    "suite = df.get_expectation_suite(\n",
    "    discard_failed_expectations=False # ignore it\n",
    ")"
   ]
  },
  {
   "cell_type": "code",
   "execution_count": 75,
   "id": "893b36d7-a0bf-4a91-82a6-0b3c4a182e2a",
   "metadata": {
    "tags": []
   },
   "outputs": [
    {
     "data": {
      "text/plain": [
       "{\n",
       "  \"success\": true,\n",
       "  \"meta\": {\n",
       "    \"great_expectations_version\": \"0.16.15\",\n",
       "    \"expectation_suite_name\": \"default\",\n",
       "    \"run_id\": {\n",
       "      \"run_time\": \"2023-06-07T14:30:24.829450+07:00\",\n",
       "      \"run_name\": null\n",
       "    },\n",
       "    \"batch_kwargs\": {\n",
       "      \"ge_batch_id\": \"79c445e4-0502-11ee-a63d-9a8cfd1e9b3e\"\n",
       "    },\n",
       "    \"batch_markers\": {},\n",
       "    \"batch_parameters\": {},\n",
       "    \"validation_time\": \"20230607T073024.829295Z\",\n",
       "    \"expectation_suite_meta\": {\n",
       "      \"great_expectations_version\": \"0.16.15\"\n",
       "    }\n",
       "  },\n",
       "  \"evaluation_parameters\": {},\n",
       "  \"statistics\": {\n",
       "    \"evaluated_expectations\": 2,\n",
       "    \"successful_expectations\": 2,\n",
       "    \"unsuccessful_expectations\": 0,\n",
       "    \"success_percent\": 100.0\n",
       "  },\n",
       "  \"results\": []\n",
       "}"
      ]
     },
     "execution_count": 75,
     "metadata": {},
     "output_type": "execute_result"
    }
   ],
   "source": [
    "df.validate(\n",
    "    expectation_suite=suite,\n",
    "    only_return_failures=True # ignore it\n",
    ")"
   ]
  }
 ],
 "metadata": {
  "kernelspec": {
   "display_name": "Python 3 (ipykernel)",
   "language": "python",
   "name": "python3"
  },
  "language_info": {
   "codemirror_mode": {
    "name": "ipython",
    "version": 3
   },
   "file_extension": ".py",
   "mimetype": "text/x-python",
   "name": "python",
   "nbconvert_exporter": "python",
   "pygments_lexer": "ipython3",
   "version": "3.8.16"
  }
 },
 "nbformat": 4,
 "nbformat_minor": 5
}
