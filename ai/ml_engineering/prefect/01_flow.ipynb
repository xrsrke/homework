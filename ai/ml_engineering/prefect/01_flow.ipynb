{
 "cells": [
  {
   "cell_type": "code",
   "execution_count": null,
   "id": "ac22fa94-6556-4443-a24a-981644862677",
   "metadata": {},
   "outputs": [],
   "source": [
    "from prefect import flow, task"
   ]
  },
  {
   "cell_type": "markdown",
   "id": "ea873ebd-485f-40cd-924b-fc16295a5063",
   "metadata": {},
   "source": [
    "##### Example 1"
   ]
  },
  {
   "cell_type": "code",
   "execution_count": null,
   "id": "b23b5533-a729-400f-ae54-d4142917bd27",
   "metadata": {},
   "outputs": [],
   "source": [
    "def hello():\n",
    "    print(42)"
   ]
  },
  {
   "cell_type": "markdown",
   "id": "1b1193a0-fc46-466b-b4e1-a6d366f4c18a",
   "metadata": {},
   "source": [
    "Convert the `hello` function into a task in a pipeline using `prefect`"
   ]
  },
  {
   "cell_type": "code",
   "execution_count": null,
   "id": "bdacbb02-539c-4008-98fa-ad27e4797629",
   "metadata": {},
   "outputs": [],
   "source": [
    "from prefect import task"
   ]
  },
  {
   "cell_type": "code",
   "execution_count": null,
   "id": "ad57e018-7abd-4327-b5c7-b58759246a08",
   "metadata": {},
   "outputs": [],
   "source": [
    "@task(name=\"69\")\n",
    "def hello():\n",
    "    print(42)"
   ]
  },
  {
   "cell_type": "code",
   "execution_count": null,
   "id": "0b0c119f-8318-4bb7-8c22-4fc9a0bdc35f",
   "metadata": {},
   "outputs": [
    {
     "data": {
      "text/plain": [
       "<prefect.tasks.Task>"
      ]
     },
     "execution_count": null,
     "metadata": {},
     "output_type": "execute_result"
    }
   ],
   "source": [
    "hello"
   ]
  },
  {
   "cell_type": "markdown",
   "id": "9b32a97b-e52b-49de-8b93-431387d70676",
   "metadata": {},
   "source": [
    "##### Example 2"
   ]
  },
  {
   "cell_type": "code",
   "execution_count": null,
   "id": "821876ff-59b0-4c5f-a6d3-42372bbdb029",
   "metadata": {},
   "outputs": [],
   "source": [
    "@task\n",
    "def start_x():\n",
    "    print(\"starting x...\")"
   ]
  },
  {
   "cell_type": "code",
   "execution_count": null,
   "id": "1b8910bb-6860-4344-ac3d-12ba14064d7c",
   "metadata": {},
   "outputs": [],
   "source": [
    "@task\n",
    "def stop_x():\n",
    "    print(\"stopping x...\")"
   ]
  },
  {
   "cell_type": "markdown",
   "id": "48b7bbc7-5ea5-4524-a37e-63dea26fb7f6",
   "metadata": {},
   "source": [
    "`start_x` and `stop_x` are two prefect tasks. Create a workflow and run them"
   ]
  },
  {
   "cell_type": "code",
   "execution_count": null,
   "id": "50dae681-6270-4a1d-b716-295d6d242f9d",
   "metadata": {},
   "outputs": [
    {
     "data": {
      "text/plain": [
       "(<prefect.tasks.Task>,\n",
       " <prefect.tasks.Task>)"
      ]
     },
     "execution_count": null,
     "metadata": {},
     "output_type": "execute_result"
    }
   ],
   "source": [
    "start_x, stop_x"
   ]
  },
  {
   "cell_type": "code",
   "execution_count": null,
   "id": "d945ca29-cda5-4033-a60f-e3aa4e566656",
   "metadata": {},
   "outputs": [],
   "source": [
    "from prefect import flow"
   ]
  },
  {
   "cell_type": "code",
   "execution_count": null,
   "id": "9261c36d-8bf0-421a-b66c-03f45a9bbf52",
   "metadata": {},
   "outputs": [],
   "source": [
    "@flow(name=\"xxx\") # ignore the name\n",
    "def run_workflow():\n",
    "    start_x()\n",
    "    stop_x()"
   ]
  },
  {
   "cell_type": "code",
   "execution_count": null,
   "id": "14802d72-87a4-49d4-acc5-f52bee1fe909",
   "metadata": {},
   "outputs": [
    {
     "data": {
      "text/html": [
       "<pre style=\"white-space:pre;overflow-x:auto;line-height:normal;font-family:Menlo,'DejaVu Sans Mono',consolas,'Courier New',monospace\">10:01:33.618 | <span style=\"color: #008080; text-decoration-color: #008080\">INFO</span>    | prefect.engine - Created flow run<span style=\"color: #800080; text-decoration-color: #800080\"> 'ultramarine-ocelot'</span> for flow<span style=\"color: #800080; text-decoration-color: #800080; font-weight: bold\"> 'xxx'</span>\n",
       "</pre>\n"
      ],
      "text/plain": [
       "10:01:33.618 | \u001b[36mINFO\u001b[0m    | prefect.engine - Created flow run\u001b[35m 'ultramarine-ocelot'\u001b[0m for flow\u001b[1;35m 'xxx'\u001b[0m\n"
      ]
     },
     "metadata": {},
     "output_type": "display_data"
    },
    {
     "data": {
      "text/html": [
       "<pre style=\"white-space:pre;overflow-x:auto;line-height:normal;font-family:Menlo,'DejaVu Sans Mono',consolas,'Courier New',monospace\">10:01:33.705 | <span style=\"color: #008080; text-decoration-color: #008080\">INFO</span>    | Flow run<span style=\"color: #800080; text-decoration-color: #800080\"> 'ultramarine-ocelot'</span> - Created task run 'start_x-0' for task 'start_x'\n",
       "</pre>\n"
      ],
      "text/plain": [
       "10:01:33.705 | \u001b[36mINFO\u001b[0m    | Flow run\u001b[35m 'ultramarine-ocelot'\u001b[0m - Created task run 'start_x-0' for task 'start_x'\n"
      ]
     },
     "metadata": {},
     "output_type": "display_data"
    },
    {
     "data": {
      "text/html": [
       "<pre style=\"white-space:pre;overflow-x:auto;line-height:normal;font-family:Menlo,'DejaVu Sans Mono',consolas,'Courier New',monospace\">10:01:33.707 | <span style=\"color: #008080; text-decoration-color: #008080\">INFO</span>    | Flow run<span style=\"color: #800080; text-decoration-color: #800080\"> 'ultramarine-ocelot'</span> - Executing 'start_x-0' immediately...\n",
       "</pre>\n"
      ],
      "text/plain": [
       "10:01:33.707 | \u001b[36mINFO\u001b[0m    | Flow run\u001b[35m 'ultramarine-ocelot'\u001b[0m - Executing 'start_x-0' immediately...\n"
      ]
     },
     "metadata": {},
     "output_type": "display_data"
    },
    {
     "name": "stdout",
     "output_type": "stream",
     "text": [
      "starting x...\n"
     ]
    },
    {
     "data": {
      "text/html": [
       "<pre style=\"white-space:pre;overflow-x:auto;line-height:normal;font-family:Menlo,'DejaVu Sans Mono',consolas,'Courier New',monospace\">10:01:33.759 | <span style=\"color: #008080; text-decoration-color: #008080\">INFO</span>    | Task run 'start_x-0' - Finished in state <span style=\"color: #008000; text-decoration-color: #008000\">Completed</span>()\n",
       "</pre>\n"
      ],
      "text/plain": [
       "10:01:33.759 | \u001b[36mINFO\u001b[0m    | Task run 'start_x-0' - Finished in state \u001b[32mCompleted\u001b[0m()\n"
      ]
     },
     "metadata": {},
     "output_type": "display_data"
    },
    {
     "data": {
      "text/html": [
       "<pre style=\"white-space:pre;overflow-x:auto;line-height:normal;font-family:Menlo,'DejaVu Sans Mono',consolas,'Courier New',monospace\">10:01:33.775 | <span style=\"color: #008080; text-decoration-color: #008080\">INFO</span>    | Flow run<span style=\"color: #800080; text-decoration-color: #800080\"> 'ultramarine-ocelot'</span> - Created task run 'stop_x-0' for task 'stop_x'\n",
       "</pre>\n"
      ],
      "text/plain": [
       "10:01:33.775 | \u001b[36mINFO\u001b[0m    | Flow run\u001b[35m 'ultramarine-ocelot'\u001b[0m - Created task run 'stop_x-0' for task 'stop_x'\n"
      ]
     },
     "metadata": {},
     "output_type": "display_data"
    },
    {
     "data": {
      "text/html": [
       "<pre style=\"white-space:pre;overflow-x:auto;line-height:normal;font-family:Menlo,'DejaVu Sans Mono',consolas,'Courier New',monospace\">10:01:33.776 | <span style=\"color: #008080; text-decoration-color: #008080\">INFO</span>    | Flow run<span style=\"color: #800080; text-decoration-color: #800080\"> 'ultramarine-ocelot'</span> - Executing 'stop_x-0' immediately...\n",
       "</pre>\n"
      ],
      "text/plain": [
       "10:01:33.776 | \u001b[36mINFO\u001b[0m    | Flow run\u001b[35m 'ultramarine-ocelot'\u001b[0m - Executing 'stop_x-0' immediately...\n"
      ]
     },
     "metadata": {},
     "output_type": "display_data"
    },
    {
     "name": "stdout",
     "output_type": "stream",
     "text": [
      "stopping x...\n"
     ]
    },
    {
     "data": {
      "text/html": [
       "<pre style=\"white-space:pre;overflow-x:auto;line-height:normal;font-family:Menlo,'DejaVu Sans Mono',consolas,'Courier New',monospace\">10:01:33.844 | <span style=\"color: #008080; text-decoration-color: #008080\">INFO</span>    | Task run 'stop_x-0' - Finished in state <span style=\"color: #008000; text-decoration-color: #008000\">Completed</span>()\n",
       "</pre>\n"
      ],
      "text/plain": [
       "10:01:33.844 | \u001b[36mINFO\u001b[0m    | Task run 'stop_x-0' - Finished in state \u001b[32mCompleted\u001b[0m()\n"
      ]
     },
     "metadata": {},
     "output_type": "display_data"
    },
    {
     "data": {
      "text/html": [
       "<pre style=\"white-space:pre;overflow-x:auto;line-height:normal;font-family:Menlo,'DejaVu Sans Mono',consolas,'Courier New',monospace\">10:01:33.872 | <span style=\"color: #008080; text-decoration-color: #008080\">INFO</span>    | Flow run<span style=\"color: #800080; text-decoration-color: #800080\"> 'ultramarine-ocelot'</span> - Finished in state <span style=\"color: #008000; text-decoration-color: #008000\">Completed</span>('All states completed.')\n",
       "</pre>\n"
      ],
      "text/plain": [
       "10:01:33.872 | \u001b[36mINFO\u001b[0m    | Flow run\u001b[35m 'ultramarine-ocelot'\u001b[0m - Finished in state \u001b[32mCompleted\u001b[0m('All states completed.')\n"
      ]
     },
     "metadata": {},
     "output_type": "display_data"
    },
    {
     "data": {
      "text/plain": [
       "[Completed(message=None, type=COMPLETED, result=UnpersistedResult(type='unpersisted', artifact_type='result', artifact_description='Unpersisted result of type `NoneType`')),\n",
       " Completed(message=None, type=COMPLETED, result=UnpersistedResult(type='unpersisted', artifact_type='result', artifact_description='Unpersisted result of type `NoneType`'))]"
      ]
     },
     "execution_count": null,
     "metadata": {},
     "output_type": "execute_result"
    }
   ],
   "source": [
    "run_workflow()"
   ]
  },
  {
   "cell_type": "markdown",
   "id": "5ca2882a-051a-46eb-b6d8-d04dec26891f",
   "metadata": {},
   "source": [
    "##### Example 3"
   ]
  },
  {
   "cell_type": "code",
   "execution_count": 1,
   "id": "425fc665-011f-4e7d-b9af-f8247cc77ca6",
   "metadata": {
    "tags": []
   },
   "outputs": [],
   "source": [
    "import time\n",
    "from prefect import task, flow"
   ]
  },
  {
   "cell_type": "code",
   "execution_count": 2,
   "id": "f9e41216-89d4-42e7-803e-1407cf84eff3",
   "metadata": {
    "tags": []
   },
   "outputs": [],
   "source": [
    "@task\n",
    "def print_values(x):\n",
    "    print(x)"
   ]
  },
  {
   "cell_type": "code",
   "execution_count": 6,
   "id": "ce378731-9b03-464a-afa8-f7614dac58e8",
   "metadata": {
    "tags": []
   },
   "outputs": [
    {
     "data": {
      "text/plain": [
       "<prefect.tasks.Task at 0x7f7c93fc4880>"
      ]
     },
     "execution_count": 6,
     "metadata": {},
     "output_type": "execute_result"
    }
   ],
   "source": [
    "print_values"
   ]
  },
  {
   "cell_type": "markdown",
   "id": "8707faf4-d8f1-4d71-837d-96b463ea7a54",
   "metadata": {},
   "source": [
    "Put `print_values(111)` and `print_values(222)` into a flow and run them sequentially"
   ]
  },
  {
   "cell_type": "code",
   "execution_count": 7,
   "id": "4acb1d1b-f9ab-45ba-9ef5-e71110e85ad3",
   "metadata": {
    "tags": []
   },
   "outputs": [],
   "source": [
    "from prefect import flow\n",
    "from prefect.task_runners import SequentialTaskRunner"
   ]
  },
  {
   "cell_type": "code",
   "execution_count": 8,
   "id": "764fc0db-6bad-4c21-9cbb-6488ac61cbf3",
   "metadata": {
    "tags": []
   },
   "outputs": [],
   "source": [
    "@flow(task_runner=SequentialTaskRunner())\n",
    "def my_flow():\n",
    "    print_values(111)\n",
    "    print_values(222)"
   ]
  },
  {
   "cell_type": "code",
   "execution_count": 9,
   "id": "60519dd6-4e9e-411d-b39c-88f8fa4a6470",
   "metadata": {
    "tags": []
   },
   "outputs": [
    {
     "data": {
      "text/html": [
       "<pre style=\"white-space:pre;overflow-x:auto;line-height:normal;font-family:Menlo,'DejaVu Sans Mono',consolas,'Courier New',monospace\">06:20:43.081 | <span style=\"color: #008080; text-decoration-color: #008080\">INFO</span>    | prefect.engine - Created flow run<span style=\"color: #800080; text-decoration-color: #800080\"> 'banana-quail'</span> for flow<span style=\"color: #800080; text-decoration-color: #800080; font-weight: bold\"> 'my-flow'</span>\n",
       "</pre>\n"
      ],
      "text/plain": [
       "06:20:43.081 | \u001b[36mINFO\u001b[0m    | prefect.engine - Created flow run\u001b[35m 'banana-quail'\u001b[0m for flow\u001b[1;35m 'my-flow'\u001b[0m\n"
      ]
     },
     "metadata": {},
     "output_type": "display_data"
    },
    {
     "data": {
      "text/html": [
       "<pre style=\"white-space:pre;overflow-x:auto;line-height:normal;font-family:Menlo,'DejaVu Sans Mono',consolas,'Courier New',monospace\">06:20:43.178 | <span style=\"color: #008080; text-decoration-color: #008080\">INFO</span>    | Flow run<span style=\"color: #800080; text-decoration-color: #800080\"> 'banana-quail'</span> - Created task run 'print_values-0' for task 'print_values'\n",
       "</pre>\n"
      ],
      "text/plain": [
       "06:20:43.178 | \u001b[36mINFO\u001b[0m    | Flow run\u001b[35m 'banana-quail'\u001b[0m - Created task run 'print_values-0' for task 'print_values'\n"
      ]
     },
     "metadata": {},
     "output_type": "display_data"
    },
    {
     "data": {
      "text/html": [
       "<pre style=\"white-space:pre;overflow-x:auto;line-height:normal;font-family:Menlo,'DejaVu Sans Mono',consolas,'Courier New',monospace\">06:20:43.179 | <span style=\"color: #008080; text-decoration-color: #008080\">INFO</span>    | Flow run<span style=\"color: #800080; text-decoration-color: #800080\"> 'banana-quail'</span> - Executing 'print_values-0' immediately...\n",
       "</pre>\n"
      ],
      "text/plain": [
       "06:20:43.179 | \u001b[36mINFO\u001b[0m    | Flow run\u001b[35m 'banana-quail'\u001b[0m - Executing 'print_values-0' immediately...\n"
      ]
     },
     "metadata": {},
     "output_type": "display_data"
    },
    {
     "name": "stdout",
     "output_type": "stream",
     "text": [
      "111\n"
     ]
    },
    {
     "data": {
      "text/html": [
       "<pre style=\"white-space:pre;overflow-x:auto;line-height:normal;font-family:Menlo,'DejaVu Sans Mono',consolas,'Courier New',monospace\">06:20:43.227 | <span style=\"color: #008080; text-decoration-color: #008080\">INFO</span>    | Task run 'print_values-0' - Finished in state <span style=\"color: #008000; text-decoration-color: #008000\">Completed</span>()\n",
       "</pre>\n"
      ],
      "text/plain": [
       "06:20:43.227 | \u001b[36mINFO\u001b[0m    | Task run 'print_values-0' - Finished in state \u001b[32mCompleted\u001b[0m()\n"
      ]
     },
     "metadata": {},
     "output_type": "display_data"
    },
    {
     "data": {
      "text/html": [
       "<pre style=\"white-space:pre;overflow-x:auto;line-height:normal;font-family:Menlo,'DejaVu Sans Mono',consolas,'Courier New',monospace\">06:20:43.241 | <span style=\"color: #008080; text-decoration-color: #008080\">INFO</span>    | Flow run<span style=\"color: #800080; text-decoration-color: #800080\"> 'banana-quail'</span> - Created task run 'print_values-1' for task 'print_values'\n",
       "</pre>\n"
      ],
      "text/plain": [
       "06:20:43.241 | \u001b[36mINFO\u001b[0m    | Flow run\u001b[35m 'banana-quail'\u001b[0m - Created task run 'print_values-1' for task 'print_values'\n"
      ]
     },
     "metadata": {},
     "output_type": "display_data"
    },
    {
     "data": {
      "text/html": [
       "<pre style=\"white-space:pre;overflow-x:auto;line-height:normal;font-family:Menlo,'DejaVu Sans Mono',consolas,'Courier New',monospace\">06:20:43.242 | <span style=\"color: #008080; text-decoration-color: #008080\">INFO</span>    | Flow run<span style=\"color: #800080; text-decoration-color: #800080\"> 'banana-quail'</span> - Executing 'print_values-1' immediately...\n",
       "</pre>\n"
      ],
      "text/plain": [
       "06:20:43.242 | \u001b[36mINFO\u001b[0m    | Flow run\u001b[35m 'banana-quail'\u001b[0m - Executing 'print_values-1' immediately...\n"
      ]
     },
     "metadata": {},
     "output_type": "display_data"
    },
    {
     "name": "stdout",
     "output_type": "stream",
     "text": [
      "222\n"
     ]
    },
    {
     "data": {
      "text/html": [
       "<pre style=\"white-space:pre;overflow-x:auto;line-height:normal;font-family:Menlo,'DejaVu Sans Mono',consolas,'Courier New',monospace\">06:20:43.289 | <span style=\"color: #008080; text-decoration-color: #008080\">INFO</span>    | Task run 'print_values-1' - Finished in state <span style=\"color: #008000; text-decoration-color: #008000\">Completed</span>()\n",
       "</pre>\n"
      ],
      "text/plain": [
       "06:20:43.289 | \u001b[36mINFO\u001b[0m    | Task run 'print_values-1' - Finished in state \u001b[32mCompleted\u001b[0m()\n"
      ]
     },
     "metadata": {},
     "output_type": "display_data"
    },
    {
     "data": {
      "text/html": [
       "<pre style=\"white-space:pre;overflow-x:auto;line-height:normal;font-family:Menlo,'DejaVu Sans Mono',consolas,'Courier New',monospace\">06:20:43.311 | <span style=\"color: #008080; text-decoration-color: #008080\">INFO</span>    | Flow run<span style=\"color: #800080; text-decoration-color: #800080\"> 'banana-quail'</span> - Finished in state <span style=\"color: #008000; text-decoration-color: #008000\">Completed</span>('All states completed.')\n",
       "</pre>\n"
      ],
      "text/plain": [
       "06:20:43.311 | \u001b[36mINFO\u001b[0m    | Flow run\u001b[35m 'banana-quail'\u001b[0m - Finished in state \u001b[32mCompleted\u001b[0m('All states completed.')\n"
      ]
     },
     "metadata": {},
     "output_type": "display_data"
    },
    {
     "data": {
      "text/plain": [
       "[Completed(message=None, type=COMPLETED, result=UnpersistedResult(type='unpersisted', artifact_type='result', artifact_description='Unpersisted result of type `NoneType`')),\n",
       " Completed(message=None, type=COMPLETED, result=UnpersistedResult(type='unpersisted', artifact_type='result', artifact_description='Unpersisted result of type `NoneType`'))]"
      ]
     },
     "execution_count": 9,
     "metadata": {},
     "output_type": "execute_result"
    }
   ],
   "source": [
    "my_flow()"
   ]
  },
  {
   "cell_type": "code",
   "execution_count": null,
   "id": "5092dbcc-d7f9-44f1-b383-149742569d96",
   "metadata": {},
   "outputs": [],
   "source": []
  }
 ],
 "metadata": {
  "kernelspec": {
   "display_name": "Python 3 (ipykernel)",
   "language": "python",
   "name": "python3"
  },
  "language_info": {
   "codemirror_mode": {
    "name": "ipython",
    "version": 3
   },
   "file_extension": ".py",
   "mimetype": "text/x-python",
   "name": "python",
   "nbconvert_exporter": "python",
   "pygments_lexer": "ipython3",
   "version": "3.8.16"
  }
 },
 "nbformat": 4,
 "nbformat_minor": 5
}
