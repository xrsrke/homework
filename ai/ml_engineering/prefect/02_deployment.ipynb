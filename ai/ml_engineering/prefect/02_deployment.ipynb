{
 "cells": [
  {
   "cell_type": "code",
   "execution_count": 29,
   "id": "5dbee315-ee82-440c-a4fb-a3419825a6af",
   "metadata": {},
   "outputs": [],
   "source": [
    "from prefect import flow, task"
   ]
  },
  {
   "cell_type": "markdown",
   "id": "84c2119c-58b2-4351-8aa5-cde1bbc66c77",
   "metadata": {},
   "source": [
    "##### Example 1"
   ]
  },
  {
   "cell_type": "code",
   "execution_count": 40,
   "id": "e5a19f20-bba7-47ab-a78e-59200e5eea73",
   "metadata": {
    "tags": []
   },
   "outputs": [],
   "source": [
    "@task\n",
    "def start_x():\n",
    "    print(\"starting x...\")"
   ]
  },
  {
   "cell_type": "code",
   "execution_count": 41,
   "id": "5ca72257-e257-4e7a-97e9-289aad0b52d3",
   "metadata": {
    "tags": []
   },
   "outputs": [],
   "source": [
    "@task\n",
    "def stop_x():\n",
    "    print(\"stopping x...\")"
   ]
  },
  {
   "cell_type": "code",
   "execution_count": 50,
   "id": "81614478-d8dd-420d-9f47-65e14190c7ba",
   "metadata": {
    "tags": []
   },
   "outputs": [],
   "source": [
    "@flow(name=\"model_training\") # ignore the name\n",
    "def training():\n",
    "    start_x()\n",
    "    stop_x()"
   ]
  },
  {
   "cell_type": "code",
   "execution_count": 60,
   "id": "a2c036dc-13c5-44b6-8b3a-55af90adc9e7",
   "metadata": {
    "tags": []
   },
   "outputs": [
    {
     "data": {
      "text/plain": [
       "<prefect.flows.Flow at 0x7fd9426978b0>"
      ]
     },
     "execution_count": 60,
     "metadata": {},
     "output_type": "execute_result"
    }
   ],
   "source": [
    "training"
   ]
  },
  {
   "cell_type": "markdown",
   "id": "7c8651bc-b699-4986-bddf-8b50d04e5263",
   "metadata": {},
   "source": [
    "Deploy the flow `training` and name it `model_training-dev`"
   ]
  },
  {
   "cell_type": "code",
   "execution_count": 61,
   "id": "9b41e898-1262-4f0a-a33e-d0b68c18c59b",
   "metadata": {
    "tags": []
   },
   "outputs": [],
   "source": [
    "from prefect.deployments import Deployment"
   ]
  },
  {
   "cell_type": "code",
   "execution_count": 62,
   "id": "dbc0218a-9814-492e-b536-8fcf1b135113",
   "metadata": {
    "tags": []
   },
   "outputs": [],
   "source": [
    "deployment_dev = Deployment.build_from_flow(\n",
    "    flow=run_workflow,\n",
    "    name=\"model_training-dev\",\n",
    ")"
   ]
  },
  {
   "cell_type": "code",
   "execution_count": 63,
   "id": "badd53b1-36b6-4e1d-8eb0-e7f8c5f4215b",
   "metadata": {
    "tags": []
   },
   "outputs": [
    {
     "data": {
      "text/plain": [
       "<coroutine object Deployment.build_from_flow at 0x7fd9301081c0>"
      ]
     },
     "execution_count": 63,
     "metadata": {},
     "output_type": "execute_result"
    }
   ],
   "source": [
    "deployment_dev"
   ]
  },
  {
   "cell_type": "markdown",
   "id": "0c3e2faf-9d0d-4f9b-a869-91c86e36d54d",
   "metadata": {},
   "source": [
    "##### Example 2"
   ]
  },
  {
   "cell_type": "code",
   "execution_count": 27,
   "id": "ccde55a4-077b-4adc-b9bb-06bec57de792",
   "metadata": {
    "tags": []
   },
   "outputs": [],
   "source": [
    "from prefect.server.schemas.schedules import IntervalSchedule\n",
    "from datetime import timedelta"
   ]
  },
  {
   "cell_type": "code",
   "execution_count": null,
   "id": "5af6413c-81b0-4749-8304-b00818423354",
   "metadata": {},
   "outputs": [],
   "source": []
  }
 ],
 "metadata": {
  "kernelspec": {
   "display_name": "Python 3 (ipykernel)",
   "language": "python",
   "name": "python3"
  },
  "language_info": {
   "codemirror_mode": {
    "name": "ipython",
    "version": 3
   },
   "file_extension": ".py",
   "mimetype": "text/x-python",
   "name": "python",
   "nbconvert_exporter": "python",
   "pygments_lexer": "ipython3",
   "version": "3.8.16"
  }
 },
 "nbformat": 4,
 "nbformat_minor": 5
}
