{
 "cells": [
  {
   "cell_type": "code",
   "execution_count": null,
   "id": "a72a9598-846f-40e4-82b0-6aa41ac846ae",
   "metadata": {},
   "outputs": [],
   "source": []
  }
 ],
 "metadata": {
  "kernelspec": {
   "display_name": "Python 3 (ipykernel)",
   "language": "python",
   "name": "python3"
  }
 },
 "nbformat": 4,
 "nbformat_minor": 5
}
