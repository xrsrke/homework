{
 "cells": [
  {
   "cell_type": "markdown",
   "id": "8e97e1f0-f440-4f08-92c1-a342be8ce78f",
   "metadata": {},
   "source": [
    "##### Example 1"
   ]
  },
  {
   "cell_type": "markdown",
   "id": "e4943ae0-603d-45cc-b64e-694b925d2131",
   "metadata": {},
   "source": [
    "Load the configuration `./config.yaml` using `hydra`"
   ]
  },
  {
   "cell_type": "code",
   "execution_count": null,
   "id": "aaace6b6-407a-4d10-84aa-83c9f249593f",
   "metadata": {},
   "outputs": [],
   "source": [
    "from omegaconf import OmegaConf"
   ]
  },
  {
   "cell_type": "code",
   "execution_count": null,
   "id": "ab8d7795-d3ac-42a2-a322-9e73251cb774",
   "metadata": {},
   "outputs": [],
   "source": [
    "config = OmegaConf.load(\"./config.yaml\")"
   ]
  },
  {
   "cell_type": "code",
   "execution_count": null,
   "id": "35f6dd74-6661-4ec8-9cec-4a3173691ba5",
   "metadata": {},
   "outputs": [
    {
     "data": {
      "text/plain": [
       "{'linear': {'weight': 23, 'bias': -2.3}}"
      ]
     },
     "execution_count": null,
     "metadata": {},
     "output_type": "execute_result"
    }
   ],
   "source": [
    "config"
   ]
  },
  {
   "cell_type": "markdown",
   "id": "e922e788-d5a2-48e4-8eae-7a761fb3be40",
   "metadata": {},
   "source": [
    "##### Example 2"
   ]
  },
  {
   "cell_type": "code",
   "execution_count": null,
   "id": "42854ad1-0359-441a-9832-243008dfd129",
   "metadata": {},
   "outputs": [],
   "source": [
    "def hello():\n",
    "    config = OmegaConf.load(\"./config.yaml\")\n",
    "    return config"
   ]
  },
  {
   "cell_type": "markdown",
   "id": "864b7f98-369c-482c-89fb-125c14e0e1ec",
   "metadata": {},
   "source": [
    "Load the configurations from `./config.yaml` as parameters for the `hello` function using `hydra`, as shown below"
   ]
  },
  {
   "cell_type": "code",
   "execution_count": null,
   "id": "ad56bef6-8f0c-4cb4-b054-0dc37616d413",
   "metadata": {},
   "outputs": [],
   "source": [
    "import hydra"
   ]
  },
  {
   "cell_type": "code",
   "execution_count": null,
   "id": "5dfae32b-c58b-4a58-94d2-0237ba88fd37",
   "metadata": {},
   "outputs": [],
   "source": [
    "@hydra.main(\n",
    "    config_path=\"./\",\n",
    "    config_name=\"config.yaml\",\n",
    "    version_base=None\n",
    ")\n",
    "def hello(cfg):\n",
    "    return cfg"
   ]
  },
  {
   "cell_type": "code",
   "execution_count": null,
   "id": "0b8f2931-d45c-44f4-8b5f-d0c5ef2e99ce",
   "metadata": {},
   "outputs": [
    {
     "data": {
      "text/plain": [
       "{'linear': {'weight': 23, 'bias': -2.3}}"
      ]
     },
     "execution_count": null,
     "metadata": {},
     "output_type": "execute_result"
    }
   ],
   "source": [
    "hello()"
   ]
  },
  {
   "cell_type": "code",
   "execution_count": null,
   "id": "919f29db-43b5-4398-af3d-a52acb553fa4",
   "metadata": {},
   "outputs": [],
   "source": []
  }
 ],
 "metadata": {
  "kernelspec": {
   "display_name": "Python 3 (ipykernel)",
   "language": "python",
   "name": "python3"
  }
 },
 "nbformat": 4,
 "nbformat_minor": 5
}
