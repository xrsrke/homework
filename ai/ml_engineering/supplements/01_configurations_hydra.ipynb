{
 "cells": [
  {
   "cell_type": "markdown",
   "id": "26c9250b-3c63-47bd-978f-b51694e50e12",
   "metadata": {},
   "source": [
    "### 1. Configurations - Hydra"
   ]
  },
  {
   "cell_type": "code",
   "execution_count": null,
   "id": "2c961c6c-b6be-49d2-979c-e89ef35d1e10",
   "metadata": {},
   "outputs": [],
   "source": [
    "from omegaconf import OmegaConf"
   ]
  },
  {
   "cell_type": "code",
   "execution_count": null,
   "id": "ac0a7066-cc41-457d-9e05-2db8c92848af",
   "metadata": {},
   "outputs": [],
   "source": [
    "config = OmegaConf.load(\"config.yaml\")"
   ]
  },
  {
   "cell_type": "code",
   "execution_count": null,
   "id": "d6bfa213-d7e7-4696-a85b-8c35634e1c8d",
   "metadata": {},
   "outputs": [
    {
     "data": {
      "text/plain": [
       "{'preferences': {'user': 'xrs', 'color': 'x'}}"
      ]
     },
     "execution_count": null,
     "metadata": {},
     "output_type": "execute_result"
    }
   ],
   "source": [
    "config"
   ]
  },
  {
   "cell_type": "code",
   "execution_count": null,
   "id": "e9215107-4800-441c-b334-f0527b6ea588",
   "metadata": {},
   "outputs": [],
   "source": [
    "from omegaconf import OmegaConf"
   ]
  },
  {
   "cell_type": "code",
   "execution_count": null,
   "id": "839259a5-4810-4426-9cd9-63323344fd09",
   "metadata": {},
   "outputs": [],
   "source": []
  }
 ],
 "metadata": {
  "kernelspec": {
   "display_name": "Python 3 (ipykernel)",
   "language": "python",
   "name": "python3"
  }
 },
 "nbformat": 4,
 "nbformat_minor": 5
}
