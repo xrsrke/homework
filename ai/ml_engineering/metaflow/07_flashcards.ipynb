{
 "cells": [
  {
   "cell_type": "code",
   "execution_count": null,
   "id": "d2488a61-4ddc-4ed2-b0e7-bf0e40285489",
   "metadata": {},
   "outputs": [],
   "source": [
    "from metaflow import S3"
   ]
  },
  {
   "cell_type": "code",
   "execution_count": null,
   "id": "9377e751-f3f5-4b3c-88a6-1e0c2a9f1f31",
   "metadata": {},
   "outputs": [],
   "source": [
    "URL = \"s3://prodgpt4-artifacts/SCR-20230514-hiiw.png\""
   ]
  },
  {
   "cell_type": "markdown",
   "id": "96f49a2b-2596-470b-8ef1-6b99b3719334",
   "metadata": {},
   "source": [
    "##### Example 1"
   ]
  },
  {
   "cell_type": "code",
   "execution_count": null,
   "id": "81f51721-d441-40a8-8493-d1c2a45433f5",
   "metadata": {},
   "outputs": [
    {
     "data": {
      "text/plain": [
       "'s3://prodgpt4-artifacts/SCR-20230514-hiiw.png'"
      ]
     },
     "execution_count": null,
     "metadata": {},
     "output_type": "execute_result"
    }
   ],
   "source": [
    "URL"
   ]
  },
  {
   "cell_type": "markdown",
   "id": "bc5da277-eaac-415a-88ba-cd7106a975be",
   "metadata": {},
   "source": [
    "Download the file from `URL`"
   ]
  },
  {
   "cell_type": "code",
   "execution_count": null,
   "id": "94880d67-c47b-4f39-bb89-5e330648270e",
   "metadata": {},
   "outputs": [],
   "source": [
    "from metaflow import S3"
   ]
  },
  {
   "cell_type": "code",
   "execution_count": null,
   "id": "a2340fa5-4d25-4197-8771-ac9486f41e8d",
   "metadata": {},
   "outputs": [],
   "source": [
    "with S3() as s3:\n",
    "    res = s3.get(URL)"
   ]
  },
  {
   "cell_type": "code",
   "execution_count": null,
   "id": "65782434-6e8c-4750-b946-6a1fc7cd38c5",
   "metadata": {},
   "outputs": [
    {
     "data": {
      "text/plain": [
       "'/Users/education/DATA/projects/foundation/homework/ai/ml_engineering/metaflow/metaflow.s3.4n96jj53/metaflow.s3.one_file.9qib5qrk'"
      ]
     },
     "execution_count": null,
     "metadata": {},
     "output_type": "execute_result"
    }
   ],
   "source": [
    "res.path"
   ]
  },
  {
   "cell_type": "markdown",
   "id": "e7aa9c0b-faf1-450c-85f0-7de4a392be2a",
   "metadata": {},
   "source": [
    "##### Example 2"
   ]
  },
  {
   "cell_type": "code",
   "execution_count": null,
   "id": "c9a0420f-5a56-4790-9d8b-33c2ac10880e",
   "metadata": {},
   "outputs": [],
   "source": [
    "from metaflow import parallel_map"
   ]
  },
  {
   "cell_type": "code",
   "execution_count": null,
   "id": "45af384d-635b-492c-afef-5b7d13930cd0",
   "metadata": {},
   "outputs": [],
   "source": [
    "def plus_69(x):\n",
    "    return x + 69"
   ]
  },
  {
   "cell_type": "code",
   "execution_count": null,
   "id": "5610f1e9-7878-4e5a-94bb-0ba6c974f2a7",
   "metadata": {},
   "outputs": [],
   "source": [
    "numbers = [0, 1, 2, 3, 4]"
   ]
  },
  {
   "cell_type": "code",
   "execution_count": null,
   "id": "4dd0531b-94ed-4f74-b739-d850f9f46936",
   "metadata": {},
   "outputs": [
    {
     "data": {
      "text/plain": [
       "True"
      ]
     },
     "execution_count": null,
     "metadata": {},
     "output_type": "execute_result"
    }
   ],
   "source": [
    "plus_69(420) == 420 + 69"
   ]
  },
  {
   "cell_type": "code",
   "execution_count": null,
   "id": "c03c9c4b-6ead-4a69-98ae-281a833c5e59",
   "metadata": {},
   "outputs": [
    {
     "data": {
      "text/plain": [
       "[0, 1, 2, 3, 4]"
      ]
     },
     "execution_count": null,
     "metadata": {},
     "output_type": "execute_result"
    }
   ],
   "source": [
    "numbers"
   ]
  },
  {
   "cell_type": "markdown",
   "id": "f6501d32-94a0-4868-ac8a-71931dbf89cd",
   "metadata": {},
   "source": [
    "Execute the function `plus_69` on all elements in `numbers` using Metaflow's built-in features, leveraging multiple CPU cores."
   ]
  },
  {
   "cell_type": "code",
   "execution_count": null,
   "id": "7451261a-89b6-45be-9d66-ea5699edfa7c",
   "metadata": {},
   "outputs": [],
   "source": [
    "from metaflow import parallel_map"
   ]
  },
  {
   "cell_type": "code",
   "execution_count": null,
   "id": "d86ba20b-9fed-473c-a604-2e11e358c95b",
   "metadata": {},
   "outputs": [],
   "source": [
    "results = parallel_map(plus_69, numbers)"
   ]
  },
  {
   "cell_type": "code",
   "execution_count": null,
   "id": "618854d5-1866-4eed-839e-e320a959c481",
   "metadata": {},
   "outputs": [
    {
     "data": {
      "text/plain": [
       "[69, 70, 71, 72, 73]"
      ]
     },
     "execution_count": null,
     "metadata": {},
     "output_type": "execute_result"
    }
   ],
   "source": [
    "results"
   ]
  },
  {
   "cell_type": "code",
   "execution_count": null,
   "id": "c6fbf8fb-551a-4454-8d23-4b1642654046",
   "metadata": {},
   "outputs": [
    {
     "data": {
      "text/plain": [
       "True"
      ]
     },
     "execution_count": null,
     "metadata": {},
     "output_type": "execute_result"
    }
   ],
   "source": [
    "len(results) == len(numbers)"
   ]
  },
  {
   "cell_type": "markdown",
   "id": "846572b2-1c0e-4354-a103-cf871bd3838b",
   "metadata": {},
   "source": [
    "##### Example 3"
   ]
  },
  {
   "cell_type": "code",
   "execution_count": null,
   "id": "2bb544d5-4a60-4f91-838c-9eb15353ce32",
   "metadata": {},
   "outputs": [],
   "source": []
  }
 ],
 "metadata": {
  "kernelspec": {
   "display_name": "Python 3 (ipykernel)",
   "language": "python",
   "name": "python3"
  }
 },
 "nbformat": 4,
 "nbformat_minor": 5
}
