{
 "cells": [
  {
   "cell_type": "markdown",
   "id": "ce022bc0-75a6-4354-9c96-223c14ba0fe4",
   "metadata": {},
   "source": [
    "##### Example 1"
   ]
  },
  {
   "cell_type": "markdown",
   "id": "a2d0b790-082e-4e55-8750-37c0fcf0ed2d",
   "metadata": {},
   "source": [
    "Create a flow that prints the value `69`, and schedule it to run every day."
   ]
  },
  {
   "cell_type": "code",
   "execution_count": null,
   "id": "ec280217-c10b-4c0a-b966-faff3f5aa83d",
   "metadata": {},
   "outputs": [],
   "source": [
    "from metaflow import FlowSpec, step, schedule"
   ]
  },
  {
   "cell_type": "code",
   "execution_count": null,
   "id": "a8136b05-1a74-492c-95ec-348ad5e512e7",
   "metadata": {},
   "outputs": [],
   "source": [
    "@schedule(daily=True)\n",
    "class HelloFlow(FlowSpec):\n",
    "    @step\n",
    "    def start(self):\n",
    "        self.next(hello)\n",
    "    \n",
    "    @step\n",
    "    def hello(self):\n",
    "        print(69)\n",
    "        self.next(self.end)\n",
    "    \n",
    "    @step\n",
    "    def end(self): pass"
   ]
  },
  {
   "cell_type": "code",
   "execution_count": null,
   "id": "cd4c80f8-a6c4-44c6-84e0-fc3ac9d33fff",
   "metadata": {},
   "outputs": [
    {
     "data": {
      "text/plain": [
       "__main__.HelloFlow"
      ]
     },
     "execution_count": null,
     "metadata": {},
     "output_type": "execute_result"
    }
   ],
   "source": [
    "HelloFlow"
   ]
  },
  {
   "cell_type": "markdown",
   "id": "21004eed-e199-4c3a-acfb-aa6fadc4ef97",
   "metadata": {},
   "source": [
    "##### Example"
   ]
  },
  {
   "cell_type": "code",
   "execution_count": 6,
   "id": "6a6f6c74-2231-4402-a6cc-76ae99bfd0f9",
   "metadata": {
    "tags": []
   },
   "outputs": [],
   "source": [
    "def train(self): pass"
   ]
  },
  {
   "cell_type": "code",
   "execution_count": 9,
   "id": "5d8eda5a-bd8f-456f-96ef-ac1a096ab166",
   "metadata": {
    "tags": []
   },
   "outputs": [
    {
     "data": {
      "text/plain": [
       "<function __main__.train(self)>"
      ]
     },
     "execution_count": 9,
     "metadata": {},
     "output_type": "execute_result"
    }
   ],
   "source": [
    "train"
   ]
  },
  {
   "cell_type": "markdown",
   "id": "c0bbb795-1b03-47b4-b848-dda7ac140c3c",
   "metadata": {},
   "source": [
    "Create a flow and execute the function `train` in Python `3.11.0` and pytorch `2.0.0`"
   ]
  },
  {
   "cell_type": "code",
   "execution_count": 10,
   "id": "ac86a2a8-ebe5-42ce-895c-c489ac470f80",
   "metadata": {
    "tags": []
   },
   "outputs": [],
   "source": [
    "from metaflow import FlowSpec, step, conda"
   ]
  },
  {
   "cell_type": "code",
   "execution_count": 11,
   "id": "2ad1e2b8-ba80-42f1-b81e-8148524b75e7",
   "metadata": {
    "tags": []
   },
   "outputs": [],
   "source": [
    "class TrainingFlow(FlowSpec):\n",
    "    @step\n",
    "    def start(self):\n",
    "        self.next(self.train)\n",
    "    \n",
    "    @conda(python=\"3.11.0\", libraries={\"pytorch\": \"2.0.0\"})\n",
    "    @step\n",
    "    def train(self):\n",
    "        train()\n",
    "        self.next(self.end)\n",
    "    \n",
    "    @step\n",
    "    def end(self): pass"
   ]
  },
  {
   "cell_type": "code",
   "execution_count": 12,
   "id": "c688192d-a3ce-4362-885f-c910a57265a6",
   "metadata": {
    "tags": []
   },
   "outputs": [
    {
     "data": {
      "text/plain": [
       "__main__.TrainingFlow"
      ]
     },
     "execution_count": 12,
     "metadata": {},
     "output_type": "execute_result"
    }
   ],
   "source": [
    "TrainingFlow"
   ]
  },
  {
   "cell_type": "code",
   "execution_count": null,
   "id": "bc85ad60-b611-4007-87df-800f590c0777",
   "metadata": {},
   "outputs": [],
   "source": []
  }
 ],
 "metadata": {
  "kernelspec": {
   "display_name": "Python 3 (ipykernel)",
   "language": "python",
   "name": "python3"
  },
  "language_info": {
   "codemirror_mode": {
    "name": "ipython",
    "version": 3
   },
   "file_extension": ".py",
   "mimetype": "text/x-python",
   "name": "python",
   "nbconvert_exporter": "python",
   "pygments_lexer": "ipython3",
   "version": "3.8.16"
  }
 },
 "nbformat": 4,
 "nbformat_minor": 5
}
