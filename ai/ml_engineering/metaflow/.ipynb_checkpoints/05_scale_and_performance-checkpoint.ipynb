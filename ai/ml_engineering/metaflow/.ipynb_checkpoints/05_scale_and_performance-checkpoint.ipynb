{
 "cells": [
  {
   "cell_type": "code",
   "execution_count": null,
   "id": "d6197dc0-fbe8-452b-bec4-a3bf688bd078",
   "metadata": {},
   "outputs": [],
   "source": [
    "import tarfile\n",
    "from metaflow import S3"
   ]
  },
  {
   "cell_type": "markdown",
   "id": "3d441797-fbe6-4b25-8d72-0cc834ecb95f",
   "metadata": {},
   "source": [
    "##### Example 1"
   ]
  },
  {
   "cell_type": "code",
   "execution_count": null,
   "id": "764b042d-ac82-4fc9-a5a8-3bf809236b7f",
   "metadata": {},
   "outputs": [],
   "source": [
    "# with S3() as s3:\n",
    "#     res = s3.get(\"s3://fast-ai-nlp/yelp_review_full_csv.tgz\")\n",
    "#     with tarfile.open(res.path) as tar:\n",
    "#         datafile = tar.extractfile(\"yelp_review_full_csv.tgz\")\n",
    "#         reviews = [line.decode(\"utf-8\") for line in datafile]"
   ]
  },
  {
   "cell_type": "markdown",
   "id": "412e656e-e33c-48b4-af01-bb0a6b472870",
   "metadata": {},
   "source": [
    "##### Example 2"
   ]
  },
  {
   "cell_type": "code",
   "execution_count": null,
   "id": "04de3de1-16de-4e9a-84ca-12b47211cfed",
   "metadata": {},
   "outputs": [],
   "source": [
    "def show_version():\n",
    "    import torch\n",
    "    print(torch.__version__)"
   ]
  },
  {
   "cell_type": "code",
   "execution_count": null,
   "id": "f0c7b477-ed72-4f05-a086-987ce02b2575",
   "metadata": {},
   "outputs": [
    {
     "name": "stdout",
     "output_type": "stream",
     "text": [
      "2.0.0\n"
     ]
    }
   ],
   "source": [
    "show_version()"
   ]
  },
  {
   "cell_type": "code",
   "execution_count": null,
   "id": "b2132da4-2a17-4025-9ed3-9cbed62cee66",
   "metadata": {},
   "outputs": [],
   "source": []
  }
 ],
 "metadata": {
  "kernelspec": {
   "display_name": "Python 3 (ipykernel)",
   "language": "python",
   "name": "python3"
  }
 },
 "nbformat": 4,
 "nbformat_minor": 5
}
