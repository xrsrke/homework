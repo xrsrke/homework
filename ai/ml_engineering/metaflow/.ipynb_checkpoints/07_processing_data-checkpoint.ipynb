{
 "cells": [
  {
   "cell_type": "code",
   "execution_count": 6,
   "id": "d8646727-7c77-44ca-9f14-4b9faa6b7510",
   "metadata": {
    "tags": []
   },
   "outputs": [],
   "source": [
    "from metaflow import FlowSpec, profile, S3"
   ]
  },
  {
   "cell_type": "code",
   "execution_count": 2,
   "id": "6da4b79d-cc87-4a3c-9b80-d2cc0f1db7df",
   "metadata": {
    "tags": []
   },
   "outputs": [],
   "source": [
    "GLEU_DB = \"metaflow_taxi\""
   ]
  },
  {
   "cell_type": "code",
   "execution_count": 3,
   "id": "ebbad3f1-4939-42cf-ab36-e42362bcc6f6",
   "metadata": {
    "tags": []
   },
   "outputs": [],
   "source": [
    "URL = \"s3://metaflow-taxi/2014/\""
   ]
  },
  {
   "cell_type": "code",
   "execution_count": null,
   "id": "4da549a9-bb84-44b4-bb62-7033570d3b3a",
   "metadata": {},
   "outputs": [],
   "source": [
    "class Tax"
   ]
  },
  {
   "cell_type": "code",
   "execution_count": 5,
   "id": "997f3b18-d59c-4507-b3bc-c9c08b259e3d",
   "metadata": {
    "tags": []
   },
   "outputs": [],
   "source": [
    "def make_key(x):\n",
    "    key = '%s/month=%s/%s' % tuple([self.table] + obj.key.split('/'))\n",
    "    return key, x.path"
   ]
  },
  {
   "cell_type": "code",
   "execution_count": 7,
   "id": "90692509-dec1-4b1b-a7f8-b9028d98e198",
   "metadata": {
    "tags": []
   },
   "outputs": [
    {
     "name": "stdout",
     "output_type": "stream",
     "text": [
      "PROFILE: Dowloading data starting\n"
     ]
    },
    {
     "ename": "NameError",
     "evalue": "name 'self' is not defined",
     "output_type": "error",
     "traceback": [
      "\u001b[0;31m---------------------------------------------------------------------------\u001b[0m",
      "\u001b[0;31mNameError\u001b[0m                                 Traceback (most recent call last)",
      "Cell \u001b[0;32mIn[7], line 3\u001b[0m\n\u001b[1;32m      1\u001b[0m \u001b[38;5;28;01mwith\u001b[39;00m S3() \u001b[38;5;28;01mas\u001b[39;00m s3down:\n\u001b[1;32m      2\u001b[0m     \u001b[38;5;28;01mwith\u001b[39;00m profile(\u001b[38;5;124m'\u001b[39m\u001b[38;5;124mDowloading data\u001b[39m\u001b[38;5;124m'\u001b[39m):\n\u001b[0;32m----> 3\u001b[0m         loaded \u001b[38;5;241m=\u001b[39m \u001b[38;5;28;43mlist\u001b[39;49m\u001b[43m(\u001b[49m\u001b[38;5;28;43mmap\u001b[39;49m\u001b[43m(\u001b[49m\u001b[43mmake_key\u001b[49m\u001b[43m,\u001b[49m\u001b[43m \u001b[49m\u001b[43ms3down\u001b[49m\u001b[38;5;241;43m.\u001b[39;49m\u001b[43mget_recursive\u001b[49m\u001b[43m(\u001b[49m\u001b[43m[\u001b[49m\u001b[43mURL\u001b[49m\u001b[43m]\u001b[49m\u001b[43m)\u001b[49m\u001b[43m)\u001b[49m\u001b[43m)\u001b[49m\n",
      "Cell \u001b[0;32mIn[5], line 2\u001b[0m, in \u001b[0;36mmake_key\u001b[0;34m(x)\u001b[0m\n\u001b[1;32m      1\u001b[0m \u001b[38;5;28;01mdef\u001b[39;00m \u001b[38;5;21mmake_key\u001b[39m(x):\n\u001b[0;32m----> 2\u001b[0m     key \u001b[38;5;241m=\u001b[39m \u001b[38;5;124m'\u001b[39m\u001b[38;5;132;01m%s\u001b[39;00m\u001b[38;5;124m/month=\u001b[39m\u001b[38;5;132;01m%s\u001b[39;00m\u001b[38;5;124m/\u001b[39m\u001b[38;5;132;01m%s\u001b[39;00m\u001b[38;5;124m'\u001b[39m \u001b[38;5;241m%\u001b[39m \u001b[38;5;28mtuple\u001b[39m([\u001b[38;5;28;43mself\u001b[39;49m\u001b[38;5;241m.\u001b[39mtable] \u001b[38;5;241m+\u001b[39m obj\u001b[38;5;241m.\u001b[39mkey\u001b[38;5;241m.\u001b[39msplit(\u001b[38;5;124m'\u001b[39m\u001b[38;5;124m/\u001b[39m\u001b[38;5;124m'\u001b[39m))\n\u001b[1;32m      3\u001b[0m     \u001b[38;5;28;01mreturn\u001b[39;00m key, x\u001b[38;5;241m.\u001b[39mpath\n",
      "\u001b[0;31mNameError\u001b[0m: name 'self' is not defined"
     ]
    }
   ],
   "source": [
    "with S3() as s3down:\n",
    "    with profile('Dowloading data'):\n",
    "        loaded = list(map(make_key, s3down.get_recursive([URL])))"
   ]
  }
 ],
 "metadata": {
  "kernelspec": {
   "display_name": "Python 3 (ipykernel)",
   "language": "python",
   "name": "python3"
  },
  "language_info": {
   "codemirror_mode": {
    "name": "ipython",
    "version": 3
   },
   "file_extension": ".py",
   "mimetype": "text/x-python",
   "name": "python",
   "nbconvert_exporter": "python",
   "pygments_lexer": "ipython3",
   "version": "3.8.16"
  }
 },
 "nbformat": 4,
 "nbformat_minor": 5
}
