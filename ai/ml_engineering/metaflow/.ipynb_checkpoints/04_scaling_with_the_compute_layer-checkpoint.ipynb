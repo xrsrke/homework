{
 "cells": [
  {
   "cell_type": "markdown",
   "id": "73806abe-4786-41ba-a2be-a6a77d91d680",
   "metadata": {},
   "source": [
    "# Chapter 4: Scaling with the compute layer"
   ]
  },
  {
   "cell_type": "markdown",
   "id": "7a1ef240-4336-48ad-9ad8-0f4036ca4c4f",
   "metadata": {},
   "source": [
    "##### Example 1"
   ]
  },
  {
   "cell_type": "code",
   "execution_count": null,
   "id": "689284d5-2e3a-4dc9-a425-b76c5da95eac",
   "metadata": {},
   "outputs": [],
   "source": [
    "import os\n",
    "from metaflow import FlowSpec, step"
   ]
  },
  {
   "cell_type": "markdown",
   "id": "4dad409b-2ca4-49d8-8e6c-6ffd7fa3d587",
   "metadata": {},
   "source": [
    "Why isn't the value of the `global_variable` in the `end` step equal to 42?    "
   ]
  },
  {
   "cell_type": "markdown",
   "id": "fc0f78a8-a352-4f95-b5cd-7ef7098ce485",
   "metadata": {},
   "source": [
    "**Explain**\n",
    "- Because Metaflow runs each step in a separate process, and each process will have access to the global state of the Python script when the flow is initiated (`global_state=69`)\n",
    "- As a result, changes to global variables in one step do not propagate to other steps, since each step has its own isolated process with its own memory space."
   ]
  },
  {
   "cell_type": "code",
   "execution_count": null,
   "id": "3d5a248a-bdea-47dd-9413-57f54b19825a",
   "metadata": {},
   "outputs": [],
   "source": [
    "global_value = 69"
   ]
  },
  {
   "cell_type": "code",
   "execution_count": null,
   "id": "cd5032c4-e855-42a9-8dc1-ce1d879acd7d",
   "metadata": {},
   "outputs": [],
   "source": [
    "class Flow(FlowSpec):\n",
    "    @step\n",
    "    def start(self):\n",
    "        global global_value\n",
    "        global_value = 42\n",
    "        print(\"process ID is \", os.getpid())\n",
    "        print(\"global value is \", global_value)\n",
    "        self.next(self.end)\n",
    "\n",
    "    @step\n",
    "    def end(self):\n",
    "        print(\"process ID is \", os.getpid())\n",
    "        print(\"global value is \", global_value)"
   ]
  },
  {
   "cell_type": "markdown",
   "id": "d75c40c3-e531-4d5e-8e52-549fb074e5b6",
   "metadata": {},
   "source": [
    "##### Example 2"
   ]
  },
  {
   "cell_type": "code",
   "execution_count": null,
   "id": "c9a93d5b-ef0d-4864-aa5e-1d2458209d74",
   "metadata": {},
   "outputs": [],
   "source": [
    "def train(): pass"
   ]
  },
  {
   "cell_type": "code",
   "execution_count": null,
   "id": "8b76f752-3d66-4d7a-b13c-9cf12ccaa4e4",
   "metadata": {},
   "outputs": [
    {
     "data": {
      "text/plain": [
       "<function __main__.train()>"
      ]
     },
     "execution_count": null,
     "metadata": {},
     "output_type": "execute_result"
    }
   ],
   "source": [
    "train"
   ]
  },
  {
   "cell_type": "markdown",
   "id": "9651f5d8-e6b6-4109-997c-8aabe0cbc19a",
   "metadata": {},
   "source": [
    "Write a flow to execute only the `train` function on AWS batch with 10GB of memory (10.000).    "
   ]
  },
  {
   "cell_type": "code",
   "execution_count": null,
   "id": "d1116796-e565-4dbb-8175-66aebb07868e",
   "metadata": {},
   "outputs": [],
   "source": [
    "from metaflow import FlowSpec, step, batch"
   ]
  },
  {
   "cell_type": "code",
   "execution_count": null,
   "id": "604ca5b3-8046-42ea-8429-a55153d0aff8",
   "metadata": {},
   "outputs": [],
   "source": [
    "class Flow(FlowSpec):\n",
    "    @step\n",
    "    def start(self):\n",
    "        self.next(self.train)\n",
    "    \n",
    "    @batch(memory=10000)\n",
    "    @step\n",
    "    def train(self):\n",
    "        train()\n",
    "        self.next(self.end)\n",
    "    \n",
    "    @step\n",
    "    def end(self): pass"
   ]
  },
  {
   "cell_type": "code",
   "execution_count": null,
   "id": "ebbe9941-3b5e-4350-925c-e8daed109dc4",
   "metadata": {},
   "outputs": [
    {
     "data": {
      "text/plain": [
       "__main__.Flow"
      ]
     },
     "execution_count": null,
     "metadata": {},
     "output_type": "execute_result"
    }
   ],
   "source": [
    "Flow"
   ]
  },
  {
   "cell_type": "markdown",
   "id": "a9cc13d4-db80-45d5-a230-3adc56c4bf4f",
   "metadata": {},
   "source": [
    "##### Example 3"
   ]
  },
  {
   "cell_type": "code",
   "execution_count": 3,
   "id": "b3dcf800-494a-4fb3-8db3-7f1c51860c0d",
   "metadata": {
    "tags": []
   },
   "outputs": [],
   "source": [
    "class Calculator:\n",
    "    def calculate(self):\n",
    "        result = 1 / 0\n",
    "        return result"
   ]
  },
  {
   "cell_type": "code",
   "execution_count": 2,
   "id": "76403772-4f4b-40f8-9c89-23ae24f7e2f2",
   "metadata": {
    "tags": []
   },
   "outputs": [],
   "source": [
    "from metaflow import FlowSpec, step, catch"
   ]
  },
  {
   "cell_type": "code",
   "execution_count": 5,
   "id": "1b1e64a2-a530-4c59-8367-068d3a61a741",
   "metadata": {
    "tags": []
   },
   "outputs": [],
   "source": [
    "class CalculatorFlow(FlowSpec):\n",
    "    @step\n",
    "    def start(self): self.next(self.calculate)\n",
    "    \n",
    "    @catch(var=\"division_error\")\n",
    "    @step\n",
    "    def calculate(self):\n",
    "        self.result = 1 / 0\n",
    "        self.next(self.end)\n",
    "    \n",
    "    @step\n",
    "    def end(self): pass"
   ]
  },
  {
   "cell_type": "code",
   "execution_count": null,
   "id": "db605848-3bb4-44d1-8195-a74b5c2d2590",
   "metadata": {},
   "outputs": [],
   "source": []
  }
 ],
 "metadata": {
  "kernelspec": {
   "display_name": "Python 3 (ipykernel)",
   "language": "python",
   "name": "python3"
  },
  "language_info": {
   "codemirror_mode": {
    "name": "ipython",
    "version": 3
   },
   "file_extension": ".py",
   "mimetype": "text/x-python",
   "name": "python",
   "nbconvert_exporter": "python",
   "pygments_lexer": "ipython3",
   "version": "3.8.16"
  }
 },
 "nbformat": 4,
 "nbformat_minor": 5
}
