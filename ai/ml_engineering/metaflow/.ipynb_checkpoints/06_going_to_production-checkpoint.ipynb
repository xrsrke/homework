{
 "cells": [
  {
   "cell_type": "markdown",
   "id": "ce022bc0-75a6-4354-9c96-223c14ba0fe4",
   "metadata": {},
   "source": [
    "##### Example 1"
   ]
  },
  {
   "cell_type": "markdown",
   "id": "a2d0b790-082e-4e55-8750-37c0fcf0ed2d",
   "metadata": {},
   "source": [
    "Create a flow that prints the value `69`, and schedule it to run every day."
   ]
  },
  {
   "cell_type": "code",
   "execution_count": 14,
   "id": "ec280217-c10b-4c0a-b966-faff3f5aa83d",
   "metadata": {},
   "outputs": [],
   "source": [
    "from metaflow import FlowSpec, step, schedule"
   ]
  },
  {
   "cell_type": "code",
   "execution_count": null,
   "id": "a8136b05-1a74-492c-95ec-348ad5e512e7",
   "metadata": {},
   "outputs": [],
   "source": [
    "@schedule(daily=True)\n",
    "class HelloFlow(FlowSpec):\n",
    "    @step\n",
    "    def start(self):\n",
    "        self.next(hello)\n",
    "    \n",
    "    @step\n",
    "    def hello(self):\n",
    "        print(69)\n",
    "        self.next(self.end)\n",
    "    \n",
    "    @step\n",
    "    def end(self): pass"
   ]
  },
  {
   "cell_type": "code",
   "execution_count": 16,
   "id": "cd4c80f8-a6c4-44c6-84e0-fc3ac9d33fff",
   "metadata": {
    "tags": []
   },
   "outputs": [
    {
     "data": {
      "text/plain": [
       "__main__.HelloFlow"
      ]
     },
     "execution_count": 16,
     "metadata": {},
     "output_type": "execute_result"
    }
   ],
   "source": [
    "HelloFlow"
   ]
  },
  {
   "cell_type": "code",
   "execution_count": null,
   "id": "ea87b38c-dc54-4e4f-b716-b43628dc5891",
   "metadata": {},
   "outputs": [],
   "source": []
  }
 ],
 "metadata": {
  "kernelspec": {
   "display_name": "Python 3 (ipykernel)",
   "language": "python",
   "name": "python3"
  },
  "language_info": {
   "codemirror_mode": {
    "name": "ipython",
    "version": 3
   },
   "file_extension": ".py",
   "mimetype": "text/x-python",
   "name": "python",
   "nbconvert_exporter": "python",
   "pygments_lexer": "ipython3",
   "version": "3.8.16"
  }
 },
 "nbformat": 4,
 "nbformat_minor": 5
}
