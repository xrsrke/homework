{
 "cells": [
  {
   "cell_type": "markdown",
   "id": "ce022bc0-75a6-4354-9c96-223c14ba0fe4",
   "metadata": {},
   "source": [
    "##### Example 1"
   ]
  },
  {
   "cell_type": "markdown",
   "id": "a2d0b790-082e-4e55-8750-37c0fcf0ed2d",
   "metadata": {},
   "source": [
    "Create a flow that prints the value `69`, and schedule it to run every day."
   ]
  },
  {
   "cell_type": "code",
   "execution_count": null,
   "id": "ec280217-c10b-4c0a-b966-faff3f5aa83d",
   "metadata": {},
   "outputs": [],
   "source": [
    "from metaflow import FlowSpec, step, schedule"
   ]
  },
  {
   "cell_type": "code",
   "execution_count": null,
   "id": "a8136b05-1a74-492c-95ec-348ad5e512e7",
   "metadata": {},
   "outputs": [],
   "source": [
    "@schedule(daily=True)\n",
    "class HelloFlow(FlowSpec):\n",
    "    @step\n",
    "    def start(self):\n",
    "        self.next(hello)\n",
    "    \n",
    "    @step\n",
    "    def hello(self):\n",
    "        print(69)\n",
    "        self.next(self.end)\n",
    "    \n",
    "    @step\n",
    "    def end(self): pass"
   ]
  },
  {
   "cell_type": "code",
   "execution_count": null,
   "id": "cd4c80f8-a6c4-44c6-84e0-fc3ac9d33fff",
   "metadata": {},
   "outputs": [
    {
     "data": {
      "text/plain": [
       "__main__.HelloFlow"
      ]
     },
     "execution_count": null,
     "metadata": {},
     "output_type": "execute_result"
    }
   ],
   "source": [
    "HelloFlow"
   ]
  },
  {
   "cell_type": "markdown",
   "id": "21004eed-e199-4c3a-acfb-aa6fadc4ef97",
   "metadata": {},
   "source": [
    "##### Example 2"
   ]
  },
  {
   "cell_type": "code",
   "execution_count": null,
   "id": "6a6f6c74-2231-4402-a6cc-76ae99bfd0f9",
   "metadata": {},
   "outputs": [],
   "source": [
    "def train(self): pass"
   ]
  },
  {
   "cell_type": "code",
   "execution_count": null,
   "id": "5d8eda5a-bd8f-456f-96ef-ac1a096ab166",
   "metadata": {},
   "outputs": [
    {
     "data": {
      "text/plain": [
       "<function __main__.train(self)>"
      ]
     },
     "execution_count": null,
     "metadata": {},
     "output_type": "execute_result"
    }
   ],
   "source": [
    "train"
   ]
  },
  {
   "cell_type": "markdown",
   "id": "c0bbb795-1b03-47b4-b848-dda7ac140c3c",
   "metadata": {},
   "source": [
    "Create a flow and execute the function `train` in Python `3.11.0` and pytorch `2.0.0`"
   ]
  },
  {
   "cell_type": "code",
   "execution_count": null,
   "id": "ac86a2a8-ebe5-42ce-895c-c489ac470f80",
   "metadata": {},
   "outputs": [],
   "source": [
    "from metaflow import FlowSpec, step, conda"
   ]
  },
  {
   "cell_type": "code",
   "execution_count": null,
   "id": "2ad1e2b8-ba80-42f1-b81e-8148524b75e7",
   "metadata": {},
   "outputs": [],
   "source": [
    "class TrainingFlow(FlowSpec):\n",
    "    @step\n",
    "    def start(self):\n",
    "        self.next(self.train)\n",
    "    \n",
    "    @conda(python=\"3.11.0\", libraries={\"pytorch\": \"2.0.0\"})\n",
    "    @step\n",
    "    def train(self):\n",
    "        train()\n",
    "        self.next(self.end)\n",
    "    \n",
    "    @step\n",
    "    def end(self): pass"
   ]
  },
  {
   "cell_type": "code",
   "execution_count": null,
   "id": "c688192d-a3ce-4362-885f-c910a57265a6",
   "metadata": {},
   "outputs": [
    {
     "data": {
      "text/plain": [
       "__main__.TrainingFlow"
      ]
     },
     "execution_count": null,
     "metadata": {},
     "output_type": "execute_result"
    }
   ],
   "source": [
    "TrainingFlow"
   ]
  },
  {
   "cell_type": "markdown",
   "id": "97cb9b7b-8b98-48aa-9041-66255369f209",
   "metadata": {},
   "source": [
    "##### Example 3"
   ]
  },
  {
   "cell_type": "markdown",
   "id": "c923bc34-2445-49e1-95ba-8b022f643dd9",
   "metadata": {},
   "source": [
    "Return the Namespace of the current user"
   ]
  },
  {
   "cell_type": "markdown",
   "id": "eb3bad1b-d41b-4fed-bb25-675b87de9e50",
   "metadata": {},
   "source": [
    "##### Example 4"
   ]
  },
  {
   "cell_type": "code",
   "execution_count": null,
   "id": "05deea94-c46d-46c1-b158-7df02a109fe5",
   "metadata": {},
   "outputs": [],
   "source": [
    "def train(): pass\n",
    "\n",
    "def evaluate(): pass\n",
    "\n",
    "class TrainFlow: pass\n",
    "\n",
    "class EvaluateFlow: pass"
   ]
  },
  {
   "cell_type": "code",
   "execution_count": null,
   "id": "80d82769-3fc2-4ab6-9cd0-22e7329b9d95",
   "metadata": {},
   "outputs": [
    {
     "data": {
      "text/plain": [
       "(<function __main__.train()>, <function __main__.evaluate()>)"
      ]
     },
     "execution_count": null,
     "metadata": {},
     "output_type": "execute_result"
    }
   ],
   "source": [
    "train, evaluate"
   ]
  },
  {
   "cell_type": "markdown",
   "id": "93be0078-4115-4184-bb08-57d5b2317532",
   "metadata": {},
   "source": [
    "Create two flows, one for executing `train` and another for executing `evaluate`, and ensure that they share the same namespace `project_69`."
   ]
  },
  {
   "cell_type": "code",
   "execution_count": null,
   "id": "b7e6efda-5789-4f0e-91e8-d8b7c9f9114f",
   "metadata": {},
   "outputs": [],
   "source": [
    "from metaflow import FlowSpec, step, project"
   ]
  },
  {
   "cell_type": "code",
   "execution_count": null,
   "id": "e186256b-8485-4490-8df3-cefa18675a9a",
   "metadata": {},
   "outputs": [],
   "source": [
    "@project(name=\"project_69\")\n",
    "class TrainFlow(FlowSpec):\n",
    "    @step\n",
    "    def start(self): self.next(self.train)\n",
    "    \n",
    "    @step\n",
    "    def train(self):\n",
    "        train()\n",
    "        self.next(self.end)\n",
    "    \n",
    "    @step\n",
    "    def end(self): pass"
   ]
  },
  {
   "cell_type": "code",
   "execution_count": null,
   "id": "594a5f91-45c4-4e33-94c6-d18d3d52634d",
   "metadata": {},
   "outputs": [],
   "source": [
    "@project(name=\"project_69\")\n",
    "class EvaluateFlow(FlowSpec):\n",
    "    @step\n",
    "    def start(self): self.next(self.train)\n",
    "    \n",
    "    @step\n",
    "    def train(self):\n",
    "        evaluate()\n",
    "        self.next(self.end)\n",
    "    \n",
    "    @step\n",
    "    def end(self): pass"
   ]
  },
  {
   "cell_type": "code",
   "execution_count": null,
   "id": "fd9560f5-44d0-447f-8cf7-a614b3799412",
   "metadata": {},
   "outputs": [
    {
     "data": {
      "text/plain": [
       "__main__.TrainFlow"
      ]
     },
     "execution_count": null,
     "metadata": {},
     "output_type": "execute_result"
    }
   ],
   "source": [
    "TrainFlow"
   ]
  },
  {
   "cell_type": "code",
   "execution_count": null,
   "id": "8118cf1c-25fa-4e6a-9070-8a67372b6fc9",
   "metadata": {},
   "outputs": [
    {
     "data": {
      "text/plain": [
       "__main__.EvaluateFlow"
      ]
     },
     "execution_count": null,
     "metadata": {},
     "output_type": "execute_result"
    }
   ],
   "source": [
    "EvaluateFlow"
   ]
  },
  {
   "cell_type": "markdown",
   "id": "916667bf-cce1-481e-b227-72cb233a6d30",
   "metadata": {},
   "source": [
    "##### Example 5"
   ]
  },
  {
   "cell_type": "code",
   "execution_count": null,
   "id": "d2e45ff9-647b-41d0-9d46-0e2f016f7ce7",
   "metadata": {},
   "outputs": [],
   "source": [
    "text = b\"Persistence is all you need.\""
   ]
  },
  {
   "cell_type": "code",
   "execution_count": null,
   "id": "486b3789-4c49-47a8-88b1-75e092fa3aa2",
   "metadata": {},
   "outputs": [],
   "source": [
    "from tempfile import NamedTemporaryFile"
   ]
  },
  {
   "cell_type": "code",
   "execution_count": null,
   "id": "87ae48fa-d785-4e17-a0ad-2f5b393ed0e8",
   "metadata": {},
   "outputs": [
    {
     "ename": "TypeError",
     "evalue": "write() argument must be str, not bytes",
     "output_type": "error",
     "traceback": [
      "\u001b[0;31m---------------------------------------------------------------------------\u001b[0m",
      "\u001b[0;31mTypeError\u001b[0m                                 Traceback (most recent call last)",
      "Cell \u001b[0;32mIn[40], line 2\u001b[0m\n\u001b[1;32m      1\u001b[0m \u001b[38;5;28;01mwith\u001b[39;00m NamedTemporaryFile(mode\u001b[38;5;241m=\u001b[39m\u001b[38;5;124m\"\u001b[39m\u001b[38;5;124mw\u001b[39m\u001b[38;5;124m\"\u001b[39m) \u001b[38;5;28;01mas\u001b[39;00m temp:\n\u001b[0;32m----> 2\u001b[0m     \u001b[43mtemp\u001b[49m\u001b[38;5;241;43m.\u001b[39;49m\u001b[43mwrite\u001b[49m\u001b[43m(\u001b[49m\u001b[38;5;124;43mb\u001b[39;49m\u001b[38;5;124;43m\"\u001b[39;49m\u001b[38;5;124;43mPersistence is all you need.\u001b[39;49m\u001b[38;5;124;43m\"\u001b[39;49m\u001b[43m)\u001b[49m\n\u001b[1;32m      3\u001b[0m \u001b[38;5;66;03m#     print(temp.read())\u001b[39;00m\n\u001b[1;32m      4\u001b[0m     \n\u001b[1;32m      5\u001b[0m     \u001b[38;5;66;03m# temp.close()\u001b[39;00m\n\u001b[1;32m      6\u001b[0m \n\u001b[1;32m      7\u001b[0m     \u001b[38;5;66;03m# Read the contents of the file\u001b[39;00m\n\u001b[1;32m      8\u001b[0m     \u001b[38;5;28;01mwith\u001b[39;00m \u001b[38;5;28mopen\u001b[39m(temp\u001b[38;5;241m.\u001b[39mname, \u001b[38;5;124m'\u001b[39m\u001b[38;5;124mr\u001b[39m\u001b[38;5;124m'\u001b[39m) \u001b[38;5;28;01mas\u001b[39;00m f:\n",
      "File \u001b[0;32m~/opt/anaconda3/envs/ml_engineering/lib/python3.8/tempfile.py:473\u001b[0m, in \u001b[0;36m_TemporaryFileWrapper.__getattr__.<locals>.func_wrapper\u001b[0;34m(*args, **kwargs)\u001b[0m\n\u001b[1;32m    471\u001b[0m \u001b[38;5;129m@_functools\u001b[39m\u001b[38;5;241m.\u001b[39mwraps(func)\n\u001b[1;32m    472\u001b[0m \u001b[38;5;28;01mdef\u001b[39;00m \u001b[38;5;21mfunc_wrapper\u001b[39m(\u001b[38;5;241m*\u001b[39margs, \u001b[38;5;241m*\u001b[39m\u001b[38;5;241m*\u001b[39mkwargs):\n\u001b[0;32m--> 473\u001b[0m     \u001b[38;5;28;01mreturn\u001b[39;00m \u001b[43mfunc\u001b[49m\u001b[43m(\u001b[49m\u001b[38;5;241;43m*\u001b[39;49m\u001b[43margs\u001b[49m\u001b[43m,\u001b[49m\u001b[43m \u001b[49m\u001b[38;5;241;43m*\u001b[39;49m\u001b[38;5;241;43m*\u001b[39;49m\u001b[43mkwargs\u001b[49m\u001b[43m)\u001b[49m\n",
      "\u001b[0;31mTypeError\u001b[0m: write() argument must be str, not bytes"
     ]
    }
   ],
   "source": [
    "with NamedTemporaryFile(mode=\"w\") as temp:\n",
    "    temp.write(\"Persistence is all you need.\")\n",
    "#     print(temp.read())\n",
    "    \n",
    "    # temp.close()\n",
    "\n",
    "    # Read the contents of the file\n",
    "    with open(temp.name, 'r') as f:\n",
    "        contents = f.read()\n",
    "        print(contents)"
   ]
  },
  {
   "cell_type": "markdown",
   "id": "1268988c-7510-473e-84c2-0dbc273c711f",
   "metadata": {},
   "source": [
    "##### Example 6"
   ]
  },
  {
   "cell_type": "code",
   "execution_count": null,
   "id": "e1ea64a8-a641-47f4-b593-e06a302a9eb6",
   "metadata": {},
   "outputs": [],
   "source": [
    "from metaflow import get_metadata"
   ]
  },
  {
   "cell_type": "code",
   "execution_count": null,
   "id": "a7dcee71-7d3f-4c69-8ce3-75c3d6be7a9a",
   "metadata": {},
   "outputs": [
    {
     "data": {
      "text/plain": [
       "'service@https://prodgpt4-metadata.czhpkekcs571.ap-southeast-2.rds.amazonaws.com'"
      ]
     },
     "execution_count": null,
     "metadata": {},
     "output_type": "execute_result"
    }
   ],
   "source": [
    "get_metadata()"
   ]
  },
  {
   "cell_type": "code",
   "execution_count": null,
   "id": "d960e390-7315-4b1a-b323-df8811565dd4",
   "metadata": {},
   "outputs": [],
   "source": []
  }
 ],
 "metadata": {
  "kernelspec": {
   "display_name": "Python 3 (ipykernel)",
   "language": "python",
   "name": "python3"
  }
 },
 "nbformat": 4,
 "nbformat_minor": 5
}
