{
 "cells": [
  {
   "cell_type": "markdown",
   "id": "dfca13f5-25bf-4087-bcd5-52a3d6ef06f3",
   "metadata": {},
   "source": [
    "##### Example 1"
   ]
  },
  {
   "cell_type": "code",
   "execution_count": null,
   "id": "eed88eaa-bf58-4a89-9bbf-8ca744a36b80",
   "metadata": {},
   "outputs": [],
   "source": [
    "def train(): print(\"training...\")"
   ]
  },
  {
   "cell_type": "code",
   "execution_count": null,
   "id": "98d098dc-a7ff-4178-b339-c8b2a6e70a90",
   "metadata": {},
   "outputs": [
    {
     "name": "stdout",
     "output_type": "stream",
     "text": [
      "training...\n"
     ]
    }
   ],
   "source": [
    "train()"
   ]
  },
  {
   "cell_type": "markdown",
   "id": "0321b498-1b89-4a62-bd09-3f545622b910",
   "metadata": {},
   "source": [
    "Write a flow that execute the function `train` using `metaflow`"
   ]
  },
  {
   "cell_type": "code",
   "execution_count": null,
   "id": "49211efb-eee6-4d91-a594-808a9ac9e254",
   "metadata": {},
   "outputs": [],
   "source": [
    "from metaflow import FlowSpec, step"
   ]
  },
  {
   "cell_type": "code",
   "execution_count": null,
   "id": "7a02014c-bf57-4608-ad7b-f759283a2c17",
   "metadata": {},
   "outputs": [],
   "source": [
    "class Training(FlowSpec):\n",
    "    @step\n",
    "    def start(self):\n",
    "        self.next(self.train)\n",
    "        \n",
    "    @step\n",
    "    def train(self):\n",
    "        train()\n",
    "        self.next(self.end)\n",
    "    \n",
    "    @step\n",
    "    def end(self):\n",
    "        print(\"Evaluating...\")"
   ]
  },
  {
   "cell_type": "code",
   "execution_count": null,
   "id": "f1ebc419-3f44-40c0-97fe-9b3066112757",
   "metadata": {},
   "outputs": [
    {
     "data": {
      "text/plain": [
       "__main__.Training"
      ]
     },
     "execution_count": null,
     "metadata": {},
     "output_type": "execute_result"
    }
   ],
   "source": [
    "Training"
   ]
  },
  {
   "cell_type": "markdown",
   "id": "ea61af7d-69bc-4bb7-b4da-60137ecbb6c6",
   "metadata": {},
   "source": [
    "##### Example 2"
   ]
  },
  {
   "cell_type": "code",
   "execution_count": null,
   "id": "469cee8a-b170-4493-95a6-b95335e5d526",
   "metadata": {},
   "outputs": [],
   "source": [
    "from metaflow import FlowSpec, step"
   ]
  },
  {
   "cell_type": "code",
   "execution_count": null,
   "id": "336418d1-0766-49d0-8eb0-20e61406c4e1",
   "metadata": {},
   "outputs": [],
   "source": [
    "class CounterFlow(FlowSpec):\n",
    "    @step\n",
    "    def start(self):\n",
    "        self.count = 0\n",
    "        self.next(self.add)\n",
    "    \n",
    "    @step\n",
    "    def add(self):\n",
    "        print(\"The count is\", self.count, \"before incrementing\")\n",
    "        self.count += 1\n",
    "        self.next(self.end)\n",
    "    \n",
    "    @step\n",
    "    def end(self):\n",
    "        self.count += 1\n",
    "        print(\"The final count is\", self.count)"
   ]
  },
  {
   "cell_type": "markdown",
   "id": "57ac9b45-c659-425c-84aa-3b45add73ec0",
   "metadata": {},
   "source": [
    "##### Example 3"
   ]
  },
  {
   "cell_type": "code",
   "execution_count": null,
   "id": "ce72ef69-5184-4662-84a5-bdecb8943e55",
   "metadata": {},
   "outputs": [],
   "source": [
    "class Training:\n",
    "    def train(self):\n",
    "        secret = 69\n",
    "        print(f\"secret {secret}\")"
   ]
  },
  {
   "cell_type": "markdown",
   "id": "8fae3d2c-170e-489d-aab9-aae17d06ea12",
   "metadata": {},
   "source": [
    "Create a flow similar to `Training`, but allow user to pass the value of `secret` in command line"
   ]
  },
  {
   "cell_type": "code",
   "execution_count": null,
   "id": "5331aaa8-66f9-4cd8-bedb-4048bdf1d9e5",
   "metadata": {},
   "outputs": [],
   "source": [
    "from metaflow import FlowSpec, Parameter, step"
   ]
  },
  {
   "cell_type": "code",
   "execution_count": null,
   "id": "899274d0-5ead-4a27-9756-ef97bfacb54a",
   "metadata": {},
   "outputs": [],
   "source": [
    "class Flow(FlowSpec):\n",
    "    secret = Parameter(\n",
    "        \"secret\",\n",
    "        required=True # can be ignored\n",
    "    )\n",
    "\n",
    "    @step\n",
    "    def start(self): self.next(self.train)\n",
    "\n",
    "    @step\n",
    "    def train(self):\n",
    "        print(f\"secret {self.secret}\")\n",
    "        self.next(self.end)\n",
    "\n",
    "    @step\n",
    "    def end(self): pass"
   ]
  },
  {
   "cell_type": "code",
   "execution_count": null,
   "id": "793c2f33-2184-4ea8-b002-e20edbe5bbf7",
   "metadata": {},
   "outputs": [
    {
     "data": {
      "text/plain": [
       "__main__.Flow"
      ]
     },
     "execution_count": null,
     "metadata": {},
     "output_type": "execute_result"
    }
   ],
   "source": [
    "Flow"
   ]
  },
  {
   "cell_type": "markdown",
   "id": "5044507e-b3fc-466d-b430-d7f58a925a0c",
   "metadata": {},
   "source": [
    "### 3.2 Branching and merging"
   ]
  },
  {
   "cell_type": "markdown",
   "id": "ea240794-b88b-46bd-a7ad-3bb900667785",
   "metadata": {},
   "source": [
    "##### Example 1"
   ]
  },
  {
   "cell_type": "code",
   "execution_count": null,
   "id": "3ddb6aaa-5980-4549-8c77-774bcf6d96c8",
   "metadata": {},
   "outputs": [],
   "source": [
    "class Training:\n",
    "    def train(self): print(\"training...\")\n",
    "    \n",
    "    def eval(self): print(\"evaluating...\")"
   ]
  },
  {
   "cell_type": "markdown",
   "id": "9a4a59b8-2ae6-48e9-a8d2-dbc4c5564bd2",
   "metadata": {},
   "source": [
    "Create a flow that similar to `Training` but execute `train` and `eval` tasks in parallel\n",
    "\n",
    "**Hint**: There's an extra method."
   ]
  },
  {
   "cell_type": "code",
   "execution_count": null,
   "id": "9c5c0647-cac2-46a8-95ff-26f8df7efc17",
   "metadata": {},
   "outputs": [],
   "source": [
    "from metaflow import FlowSpec, step"
   ]
  },
  {
   "cell_type": "code",
   "execution_count": null,
   "id": "4108f851-4012-4751-a344-b48370d1f7c1",
   "metadata": {},
   "outputs": [],
   "source": [
    "class TrainingFlow(FlowSpec):\n",
    "    @step\n",
    "    def start(self):\n",
    "        self.next(self.train, self.eval)\n",
    "\n",
    "    @step\n",
    "    def train(self):\n",
    "        print(\"training...\")\n",
    "        self.next(self.join)\n",
    "\n",
    "    @step\n",
    "    def eval(self):\n",
    "        print(\"evaluating...\")\n",
    "        self.next(self.join)\n",
    "\n",
    "    @step\n",
    "    def join(self, inputs):\n",
    "        self.next(self.end)\n",
    "\n",
    "    @step\n",
    "    def end(self): pass"
   ]
  },
  {
   "cell_type": "code",
   "execution_count": null,
   "id": "06c3d883-c84e-4a5e-a10f-a09c16bc4766",
   "metadata": {},
   "outputs": [
    {
     "data": {
      "text/plain": [
       "__main__.TrainingFlow"
      ]
     },
     "execution_count": null,
     "metadata": {},
     "output_type": "execute_result"
    }
   ],
   "source": [
    "TrainingFlow"
   ]
  },
  {
   "cell_type": "markdown",
   "id": "eb1129cf-c742-4b5e-a95b-067796413745",
   "metadata": {},
   "source": [
    "##### Example 2"
   ]
  },
  {
   "cell_type": "code",
   "execution_count": null,
   "id": "c00b8265-9f0b-41b3-bd0e-caef2fb45886",
   "metadata": {},
   "outputs": [],
   "source": [
    "words = [\"persistence\", \"is\", \"all\", \"you\", \"need\"]"
   ]
  },
  {
   "cell_type": "code",
   "execution_count": null,
   "id": "352fd2e8-f652-4b10-8d04-d6b89015ce23",
   "metadata": {},
   "outputs": [
    {
     "data": {
      "text/plain": [
       "['persistence', 'is', 'all', 'you', 'need']"
      ]
     },
     "execution_count": null,
     "metadata": {},
     "output_type": "execute_result"
    }
   ],
   "source": [
    "words"
   ]
  },
  {
   "cell_type": "markdown",
   "id": "01d582c8-c00c-4ded-a51d-72d68fb64db3",
   "metadata": {},
   "source": [
    "Write a flow that counts the length of each word in the list `[\"persistence\", \"is\", \"all\", \"you\", \"need\"]` in parallel using a dynamic branch, and returns the longest word"
   ]
  },
  {
   "cell_type": "markdown",
   "id": "61ca6a72-3ff9-4411-97cf-c666ab44cb93",
   "metadata": {},
   "source": [
    "**Hint**: `max(words, key=lambda x: len(x))`"
   ]
  },
  {
   "cell_type": "code",
   "execution_count": null,
   "id": "d0e7c797-aa7e-4c6c-b2b7-1af6d4932bd0",
   "metadata": {},
   "outputs": [],
   "source": [
    "from metaflow import FlowSpec, step"
   ]
  },
  {
   "cell_type": "code",
   "execution_count": null,
   "id": "4048b18f-559f-4759-ac4f-c601a45df1fe",
   "metadata": {},
   "outputs": [],
   "source": [
    "class CountFlow(FlowSpec):\n",
    "    @step\n",
    "    def start(self):\n",
    "        self.words = words\n",
    "        self.next(self.count, foreach=\"words\")\n",
    "\n",
    "    @step\n",
    "    def count(self):\n",
    "        self.word = self.input\n",
    "        self.length = len(self.input)\n",
    "        self.next(self.join)\n",
    "\n",
    "    @step\n",
    "    def join(self, inputs):\n",
    "        self.longest = max(\n",
    "            inputs, key=lambda x: x.length\n",
    "        ).word\n",
    "        self.next(self.end)\n",
    "\n",
    "    @step\n",
    "    def end(self):\n",
    "        print(self.longest, \"wons!\")"
   ]
  },
  {
   "cell_type": "code",
   "execution_count": null,
   "id": "c87672ab-626f-4e77-a73a-55900f2939b0",
   "metadata": {},
   "outputs": [
    {
     "data": {
      "text/plain": [
       "__main__.CountFlow"
      ]
     },
     "execution_count": null,
     "metadata": {},
     "output_type": "execute_result"
    }
   ],
   "source": [
    "CountFlow"
   ]
  },
  {
   "cell_type": "code",
   "execution_count": null,
   "id": "43ebbae6-d74a-4bb7-8564-15c7185f088d",
   "metadata": {},
   "outputs": [],
   "source": [
    "from metaflow import Flow"
   ]
  },
  {
   "cell_type": "code",
   "execution_count": null,
   "id": "53a9c2cf-317d-4a23-83f1-154c7c8a1d6a",
   "metadata": {},
   "outputs": [],
   "source": []
  }
 ],
 "metadata": {
  "kernelspec": {
   "display_name": "Python 3 (ipykernel)",
   "language": "python",
   "name": "python3"
  }
 },
 "nbformat": 4,
 "nbformat_minor": 5
}
