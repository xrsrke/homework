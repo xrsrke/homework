{
 "cells": [
  {
   "cell_type": "code",
   "execution_count": 1,
   "id": "d2488a61-4ddc-4ed2-b0e7-bf0e40285489",
   "metadata": {},
   "outputs": [],
   "source": [
    "from metaflow import S3"
   ]
  },
  {
   "cell_type": "code",
   "execution_count": 2,
   "id": "9377e751-f3f5-4b3c-88a6-1e0c2a9f1f31",
   "metadata": {
    "tags": []
   },
   "outputs": [],
   "source": [
    "URL = \"s3://prodgpt4-artifacts/SCR-20230514-hiiw.png\""
   ]
  },
  {
   "cell_type": "markdown",
   "id": "96f49a2b-2596-470b-8ef1-6b99b3719334",
   "metadata": {},
   "source": [
    "##### Example 1"
   ]
  },
  {
   "cell_type": "code",
   "execution_count": 29,
   "id": "81f51721-d441-40a8-8493-d1c2a45433f5",
   "metadata": {
    "tags": []
   },
   "outputs": [
    {
     "data": {
      "text/plain": [
       "'s3://prodgpt4-artifacts/SCR-20230514-hiiw.png'"
      ]
     },
     "execution_count": 29,
     "metadata": {},
     "output_type": "execute_result"
    }
   ],
   "source": [
    "URL"
   ]
  },
  {
   "cell_type": "markdown",
   "id": "bc5da277-eaac-415a-88ba-cd7106a975be",
   "metadata": {},
   "source": [
    "Download the file from `URL`"
   ]
  },
  {
   "cell_type": "code",
   "execution_count": 30,
   "id": "94880d67-c47b-4f39-bb89-5e330648270e",
   "metadata": {
    "tags": []
   },
   "outputs": [],
   "source": [
    "from metaflow import S3"
   ]
  },
  {
   "cell_type": "code",
   "execution_count": 31,
   "id": "a2340fa5-4d25-4197-8771-ac9486f41e8d",
   "metadata": {
    "tags": []
   },
   "outputs": [],
   "source": [
    "with S3() as s3:\n",
    "    res = s3.get(URL)"
   ]
  },
  {
   "cell_type": "code",
   "execution_count": 32,
   "id": "65782434-6e8c-4750-b946-6a1fc7cd38c5",
   "metadata": {
    "tags": []
   },
   "outputs": [
    {
     "data": {
      "text/plain": [
       "'/Users/education/DATA/projects/foundation/homework/ai/ml_engineering/metaflow/metaflow.s3.4n96jj53/metaflow.s3.one_file.9qib5qrk'"
      ]
     },
     "execution_count": 32,
     "metadata": {},
     "output_type": "execute_result"
    }
   ],
   "source": [
    "res.path"
   ]
  },
  {
   "cell_type": "code",
   "execution_count": null,
   "id": "5b5d41e8-84a3-43dd-9a9e-048b0027601d",
   "metadata": {},
   "outputs": [],
   "source": []
  }
 ],
 "metadata": {
  "kernelspec": {
   "display_name": "Python 3 (ipykernel)",
   "language": "python",
   "name": "python3"
  },
  "language_info": {
   "codemirror_mode": {
    "name": "ipython",
    "version": 3
   },
   "file_extension": ".py",
   "mimetype": "text/x-python",
   "name": "python",
   "nbconvert_exporter": "python",
   "pygments_lexer": "ipython3",
   "version": "3.8.16"
  }
 },
 "nbformat": 4,
 "nbformat_minor": 5
}
