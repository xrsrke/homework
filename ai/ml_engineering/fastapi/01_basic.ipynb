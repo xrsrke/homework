{
 "cells": [
  {
   "cell_type": "markdown",
   "id": "183725ca-409f-4c76-9423-5fd5cacdf347",
   "metadata": {},
   "source": [
    "https://youtu.be/7t2alSnE2-I?t=1863"
   ]
  },
  {
   "cell_type": "markdown",
   "id": "41b4e7e1-affa-4b3e-96b0-618c5ffa3e14",
   "metadata": {},
   "source": [
    "##### Example 1"
   ]
  },
  {
   "cell_type": "markdown",
   "id": "02c75788-f501-4ee4-972a-ae304a9bbfbf",
   "metadata": {},
   "source": [
    "Create an API endpoint `/secret` return `69`"
   ]
  },
  {
   "cell_type": "code",
   "execution_count": null,
   "id": "ee1460fa-769e-4e9d-8045-e9dd62b6bdf5",
   "metadata": {},
   "outputs": [],
   "source": [
    "from fastapi import FastAPI"
   ]
  },
  {
   "cell_type": "code",
   "execution_count": null,
   "id": "cd7e240e-e84e-4bd1-9b46-2726fd290693",
   "metadata": {},
   "outputs": [],
   "source": [
    "app = FastAPI()"
   ]
  },
  {
   "cell_type": "code",
   "execution_count": null,
   "id": "74983d54-3391-43b0-8131-3df66a10363f",
   "metadata": {},
   "outputs": [],
   "source": [
    "@app.get(\"/secret\")\n",
    "def index():\n",
    "    return 69"
   ]
  },
  {
   "cell_type": "code",
   "execution_count": null,
   "id": "fd70b5de-8755-44ff-a21f-218b2704090f",
   "metadata": {},
   "outputs": [
    {
     "data": {
      "text/plain": [
       "<function __main__.index()>"
      ]
     },
     "execution_count": null,
     "metadata": {},
     "output_type": "execute_result"
    }
   ],
   "source": [
    "index"
   ]
  },
  {
   "cell_type": "markdown",
   "id": "9e788b8d-cae7-4eba-82ee-fa17a7c3637c",
   "metadata": {},
   "source": [
    "##### Example 2"
   ]
  },
  {
   "cell_type": "code",
   "execution_count": null,
   "id": "a0522679-9b58-42da-80f3-d08a680ce63d",
   "metadata": {},
   "outputs": [],
   "source": []
  }
 ],
 "metadata": {
  "kernelspec": {
   "display_name": "Python 3 (ipykernel)",
   "language": "python",
   "name": "python3"
  }
 },
 "nbformat": 4,
 "nbformat_minor": 5
}
