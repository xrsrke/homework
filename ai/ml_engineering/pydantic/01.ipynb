{
 "cells": [
  {
   "cell_type": "markdown",
   "id": "e8050d59-2da1-4be3-9ecf-4e9d4fce50a9",
   "metadata": {},
   "source": [
    "##### Example 1"
   ]
  },
  {
   "cell_type": "code",
   "execution_count": null,
   "id": "3ef26cf1-51bf-4c22-ae0a-9316d2c95dfc",
   "metadata": {},
   "outputs": [],
   "source": [
    "xx = {\n",
    "    \"secret\": 69,\n",
    "    \"unv\": 42\n",
    "}"
   ]
  },
  {
   "cell_type": "code",
   "execution_count": null,
   "id": "110bb8a2-04e2-4d28-b19b-fc5c4cf64442",
   "metadata": {},
   "outputs": [
    {
     "data": {
      "text/plain": [
       "{'secret': 69, 'unv': 42}"
      ]
     },
     "execution_count": null,
     "metadata": {},
     "output_type": "execute_result"
    }
   ],
   "source": [
    "xx"
   ]
  },
  {
   "cell_type": "markdown",
   "id": "56480222-b10b-4f0d-acbf-2ea466d0543f",
   "metadata": {},
   "source": [
    "Create a `pydantic` model for `xx`"
   ]
  },
  {
   "cell_type": "code",
   "execution_count": null,
   "id": "98a3de8b-6034-48e7-962e-f78df848258f",
   "metadata": {},
   "outputs": [],
   "source": [
    "from pydantic import BaseModel"
   ]
  },
  {
   "cell_type": "code",
   "execution_count": null,
   "id": "d0674d54-81f1-4a72-9784-c09510d98e23",
   "metadata": {},
   "outputs": [],
   "source": [
    "class XX(BaseModel):\n",
    "    secret: int\n",
    "    unv: int"
   ]
  },
  {
   "cell_type": "code",
   "execution_count": null,
   "id": "a5631271-02e8-4a97-bc94-491b54e60032",
   "metadata": {},
   "outputs": [],
   "source": [
    "demo = XX(secret=1, unv=2)"
   ]
  },
  {
   "cell_type": "code",
   "execution_count": null,
   "id": "73e76501-89cb-431e-acad-02e0508d558b",
   "metadata": {},
   "outputs": [
    {
     "data": {
      "text/plain": [
       "XX(secret=1, unv=2)"
      ]
     },
     "execution_count": null,
     "metadata": {},
     "output_type": "execute_result"
    }
   ],
   "source": [
    "demo"
   ]
  },
  {
   "cell_type": "code",
   "execution_count": null,
   "id": "db91c1a8-012d-44e7-90d8-21b0c388f4d0",
   "metadata": {},
   "outputs": [
    {
     "data": {
      "text/plain": [
       "(1, 2)"
      ]
     },
     "execution_count": null,
     "metadata": {},
     "output_type": "execute_result"
    }
   ],
   "source": [
    "demo.secret, demo.unv"
   ]
  },
  {
   "cell_type": "markdown",
   "id": "4a00256e-8360-4663-a342-f7ae91a3e3c8",
   "metadata": {},
   "source": [
    "##### Example 2"
   ]
  },
  {
   "cell_type": "code",
   "execution_count": null,
   "id": "e8b9de4a-134a-4d3b-91a8-0fab6bfc1619",
   "metadata": {},
   "outputs": [],
   "source": [
    "user_profile = {\n",
    "    \"user_id\": 69,\n",
    "    \"username\": \"xr\",\n",
    "}"
   ]
  },
  {
   "cell_type": "code",
   "execution_count": null,
   "id": "c68bcf55-a6e3-45b0-b7aa-47b27600659c",
   "metadata": {},
   "outputs": [
    {
     "data": {
      "text/plain": [
       "{'user_id': 69, 'username': 'xr'}"
      ]
     },
     "execution_count": null,
     "metadata": {},
     "output_type": "execute_result"
    }
   ],
   "source": [
    "user_profile"
   ]
  },
  {
   "cell_type": "markdown",
   "id": "17612d9f-372e-4841-9f73-e5599e56435f",
   "metadata": {},
   "source": [
    "Create a `pydantic` model for `user_profile`, but with the `username` field capitalized\n",
    "\n",
    "**Hint**: `x.upper()`"
   ]
  },
  {
   "cell_type": "code",
   "execution_count": null,
   "id": "c86e12df-7179-46db-885c-31185af110d1",
   "metadata": {},
   "outputs": [],
   "source": [
    "from pydantic import BaseModel, validator"
   ]
  },
  {
   "cell_type": "code",
   "execution_count": null,
   "id": "8e6bfdaf-f148-470f-9fdb-634bd8e5ba42",
   "metadata": {},
   "outputs": [],
   "source": [
    "class User(BaseModel):\n",
    "    user_id: int\n",
    "    username: str\n",
    "    \n",
    "    @validator(\"username\")\n",
    "    def username_valid(cls, value):\n",
    "        return value.upper()"
   ]
  },
  {
   "cell_type": "code",
   "execution_count": null,
   "id": "8ea20cb5-28b9-43d9-bca5-f97c7c9d2f28",
   "metadata": {},
   "outputs": [],
   "source": [
    "new_user = User(user_id=42, username=\"xo\")"
   ]
  },
  {
   "cell_type": "code",
   "execution_count": null,
   "id": "fd923a2a-def3-4c4b-8f43-402ab6959028",
   "metadata": {},
   "outputs": [
    {
     "data": {
      "text/plain": [
       "User(user_id=42, username='XO')"
      ]
     },
     "execution_count": null,
     "metadata": {},
     "output_type": "execute_result"
    }
   ],
   "source": [
    "new_user"
   ]
  },
  {
   "cell_type": "code",
   "execution_count": null,
   "id": "c2faaba9-ca87-4aa2-ad99-e8a93d69ea06",
   "metadata": {},
   "outputs": [
    {
     "data": {
      "text/plain": [
       "'XO'"
      ]
     },
     "execution_count": null,
     "metadata": {},
     "output_type": "execute_result"
    }
   ],
   "source": [
    "new_user.username"
   ]
  },
  {
   "cell_type": "markdown",
   "id": "4c2861c3-b337-4eff-90b8-6ea873403ef7",
   "metadata": {},
   "source": [
    "##### Example 3"
   ]
  },
  {
   "cell_type": "markdown",
   "id": "6865c662-1d92-462c-87df-327048863727",
   "metadata": {},
   "source": [
    "Create a data model that only creates if two passwords match, otherwise raise an error as below."
   ]
  },
  {
   "cell_type": "code",
   "execution_count": null,
   "id": "a033d014-4e8a-4a73-9cef-255bdbb17902",
   "metadata": {},
   "outputs": [],
   "source": [
    "from pydantic import BaseModel, root_validator"
   ]
  },
  {
   "cell_type": "code",
   "execution_count": null,
   "id": "39cf4d74-361f-4d28-abd6-840eba5b55f9",
   "metadata": {},
   "outputs": [],
   "source": [
    "class User(BaseModel):\n",
    "    password1: int\n",
    "    password2: int\n",
    "    \n",
    "    @root_validator(pre=True)\n",
    "    def validate_password_match(cls, values):\n",
    "        pw1, pw2 = values.get('password1'), values.get('password2')\n",
    "        \n",
    "        if pw1 == pw2:\n",
    "            return values\n",
    "        else:\n",
    "            raise ValueError('passwords do not match')"
   ]
  },
  {
   "cell_type": "code",
   "execution_count": null,
   "id": "c4b79f62-bb45-4692-beb5-5e84868cfee4",
   "metadata": {},
   "outputs": [
    {
     "data": {
      "text/plain": [
       "User(password1=111, password2=111)"
      ]
     },
     "execution_count": null,
     "metadata": {},
     "output_type": "execute_result"
    }
   ],
   "source": [
    "User(password1=111, password2=111)"
   ]
  },
  {
   "cell_type": "code",
   "execution_count": null,
   "id": "771fca71-129b-4a76-a9f6-4f0980cec74c",
   "metadata": {},
   "outputs": [
    {
     "ename": "ValidationError",
     "evalue": "1 validation error for User\n__root__\n  passwords do not match (type=value_error)",
     "output_type": "error",
     "traceback": [
      "\u001b[0;31m---------------------------------------------------------------------------\u001b[0m",
      "\u001b[0;31mValidationError\u001b[0m                           Traceback (most recent call last)",
      "Cell \u001b[0;32mIn[117], line 1\u001b[0m\n\u001b[0;32m----> 1\u001b[0m \u001b[43mUser\u001b[49m\u001b[43m(\u001b[49m\u001b[43mpassword1\u001b[49m\u001b[38;5;241;43m=\u001b[39;49m\u001b[38;5;241;43m111\u001b[39;49m\u001b[43m,\u001b[49m\u001b[43m \u001b[49m\u001b[43mpassword2\u001b[49m\u001b[38;5;241;43m=\u001b[39;49m\u001b[38;5;241;43m222\u001b[39;49m\u001b[43m)\u001b[49m\n",
      "File \u001b[0;32m~/miniforge3/envs/gym/lib/python3.8/site-packages/pydantic/main.py:342\u001b[0m, in \u001b[0;36mpydantic.main.BaseModel.__init__\u001b[0;34m()\u001b[0m\n",
      "\u001b[0;31mValidationError\u001b[0m: 1 validation error for User\n__root__\n  passwords do not match (type=value_error)"
     ]
    }
   ],
   "source": [
    "User(password1=111, password2=222)"
   ]
  },
  {
   "cell_type": "markdown",
   "id": "84c61ab8-48fc-4e99-82e6-96c3b6bf3769",
   "metadata": {},
   "source": [
    "##### "
   ]
  },
  {
   "cell_type": "code",
   "execution_count": null,
   "id": "8816e8dd-6ad2-4742-a6f4-f8054b7cc1ba",
   "metadata": {},
   "outputs": [],
   "source": []
  }
 ],
 "metadata": {
  "kernelspec": {
   "display_name": "Python 3 (ipykernel)",
   "language": "python",
   "name": "python3"
  }
 },
 "nbformat": 4,
 "nbformat_minor": 5
}
