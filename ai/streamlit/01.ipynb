{
 "cells": [
  {
   "cell_type": "markdown",
   "id": "663af79f-3076-4e40-a66b-d824b7d1cd28",
   "metadata": {},
   "source": [
    "##### Example 1"
   ]
  },
  {
   "cell_type": "markdown",
   "id": "04ae1528-0b70-48bd-886f-4bf84ec0353f",
   "metadata": {},
   "source": [
    "Write the code to create a basic Streamlit app with the title \"hello\""
   ]
  },
  {
   "cell_type": "code",
   "execution_count": 4,
   "id": "ef331f5a-5231-453f-820a-ae0be267aa3e",
   "metadata": {
    "tags": []
   },
   "outputs": [],
   "source": [
    "import streamlit as st"
   ]
  },
  {
   "cell_type": "code",
   "execution_count": null,
   "id": "d46a286b-f28f-4293-801f-530c7206c8d1",
   "metadata": {},
   "outputs": [],
   "source": [
    "st.title(\"hello\")"
   ]
  },
  {
   "cell_type": "markdown",
   "id": "992f0da5-6b05-48af-abf9-e74992835e04",
   "metadata": {},
   "source": [
    "##### Example 2"
   ]
  },
  {
   "cell_type": "code",
   "execution_count": 18,
   "id": "bf4c6f44-f0ec-4fc0-8d8f-ba59d78fbc87",
   "metadata": {
    "tags": []
   },
   "outputs": [],
   "source": [
    "import streamlit as st"
   ]
  },
  {
   "cell_type": "markdown",
   "id": "303eacd1-dbd2-48cf-9947-13921fb36ee7",
   "metadata": {},
   "source": [
    "Write a Streamlit app as bellow"
   ]
  },
  {
   "cell_type": "code",
   "execution_count": 19,
   "id": "a13086ce-36f3-4188-b9eb-27f140710ca8",
   "metadata": {
    "tags": []
   },
   "outputs": [
    {
     "data": {
      "text/plain": [
       "DeltaGenerator(_root_container=1, _parent=DeltaGenerator())"
      ]
     },
     "execution_count": 19,
     "metadata": {},
     "output_type": "execute_result"
    }
   ],
   "source": [
    "st.sidebar.header('User Input Parameters')"
   ]
  },
  {
   "cell_type": "code",
   "execution_count": 20,
   "id": "0e24aa3e-3265-497a-900e-eddeb93ef640",
   "metadata": {
    "tags": []
   },
   "outputs": [],
   "source": [
    "def user_input_features():\n",
    "    layer_idx = st.sidebar.slider(\n",
    "        'Layer index',\n",
    "        min_value=1, max_value=12,\n",
    "        value=5\n",
    "    )\n",
    "    head_idx = st.sidebar.slider(\n",
    "        'Head index',\n",
    "        min_value=1,\n",
    "        max_value=12,\n",
    "    value=4)\n",
    "    return layer_idx, head_idx"
   ]
  },
  {
   "cell_type": "code",
   "execution_count": 21,
   "id": "254837d2-bab7-4701-b92c-80ead784d0d4",
   "metadata": {
    "tags": []
   },
   "outputs": [],
   "source": [
    "layer_idx, head_idx = user_input_features()"
   ]
  },
  {
   "cell_type": "code",
   "execution_count": 22,
   "id": "14ef3b41-3bfc-4924-b421-3aa191603695",
   "metadata": {
    "tags": []
   },
   "outputs": [],
   "source": [
    "st.write(f\"Layer index: {layer_idx}\")"
   ]
  },
  {
   "cell_type": "code",
   "execution_count": 23,
   "id": "857adb57-1490-4e5a-890b-1461392c1520",
   "metadata": {
    "tags": []
   },
   "outputs": [],
   "source": [
    "st.write(f\"Head index: {head_idx}\")"
   ]
  },
  {
   "cell_type": "markdown",
   "id": "8aa635f4-4a6b-493d-9860-a2a7ac2ec5c0",
   "metadata": {},
   "source": [
    "##### Example 3 "
   ]
  },
  {
   "cell_type": "code",
   "execution_count": 25,
   "id": "2046bc0d-991a-41cb-938c-ea4b4feaa9fc",
   "metadata": {
    "tags": []
   },
   "outputs": [],
   "source": [
    "import pandas as pd"
   ]
  },
  {
   "cell_type": "code",
   "execution_count": 26,
   "id": "648aa492-d1b7-48cc-8e48-dffce7ae4303",
   "metadata": {
    "tags": []
   },
   "outputs": [],
   "source": [
    "data = pd.DataFrame({\n",
    "    'first column': [1, 2, 3, 4],\n",
    "    'second column': [10, 20, 30, 40]\n",
    "})"
   ]
  },
  {
   "cell_type": "code",
   "execution_count": 30,
   "id": "e629df90-6147-4349-80eb-9380b8055699",
   "metadata": {
    "tags": []
   },
   "outputs": [],
   "source": [
    "import streamlit as st"
   ]
  },
  {
   "cell_type": "code",
   "execution_count": 31,
   "id": "5324ae2b-b3aa-4d5c-b225-48d50c789431",
   "metadata": {
    "tags": []
   },
   "outputs": [
    {
     "data": {
      "text/html": [
       "<div>\n",
       "<style scoped>\n",
       "    .dataframe tbody tr th:only-of-type {\n",
       "        vertical-align: middle;\n",
       "    }\n",
       "\n",
       "    .dataframe tbody tr th {\n",
       "        vertical-align: top;\n",
       "    }\n",
       "\n",
       "    .dataframe thead th {\n",
       "        text-align: right;\n",
       "    }\n",
       "</style>\n",
       "<table border=\"1\" class=\"dataframe\">\n",
       "  <thead>\n",
       "    <tr style=\"text-align: right;\">\n",
       "      <th></th>\n",
       "      <th>first column</th>\n",
       "      <th>second column</th>\n",
       "    </tr>\n",
       "  </thead>\n",
       "  <tbody>\n",
       "    <tr>\n",
       "      <th>0</th>\n",
       "      <td>1</td>\n",
       "      <td>10</td>\n",
       "    </tr>\n",
       "    <tr>\n",
       "      <th>1</th>\n",
       "      <td>2</td>\n",
       "      <td>20</td>\n",
       "    </tr>\n",
       "    <tr>\n",
       "      <th>2</th>\n",
       "      <td>3</td>\n",
       "      <td>30</td>\n",
       "    </tr>\n",
       "    <tr>\n",
       "      <th>3</th>\n",
       "      <td>4</td>\n",
       "      <td>40</td>\n",
       "    </tr>\n",
       "  </tbody>\n",
       "</table>\n",
       "</div>"
      ],
      "text/plain": [
       "   first column  second column\n",
       "0             1             10\n",
       "1             2             20\n",
       "2             3             30\n",
       "3             4             40"
      ]
     },
     "execution_count": 31,
     "metadata": {},
     "output_type": "execute_result"
    }
   ],
   "source": [
    "data"
   ]
  },
  {
   "cell_type": "markdown",
   "id": "88cfab99-fa9a-4f19-a66c-9d6d9d222baa",
   "metadata": {},
   "source": [
    "Write a Streamlit app as bellow"
   ]
  },
  {
   "cell_type": "code",
   "execution_count": 32,
   "id": "33b0e9dc-966b-4476-b02a-a93226366788",
   "metadata": {
    "tags": []
   },
   "outputs": [],
   "source": [
    "st.write(data)"
   ]
  },
  {
   "cell_type": "code",
   "execution_count": null,
   "id": "69282cac-a181-436f-a659-821e9444a4d6",
   "metadata": {},
   "outputs": [],
   "source": []
  }
 ],
 "metadata": {
  "kernelspec": {
   "display_name": "Python 3 (ipykernel)",
   "language": "python",
   "name": "python3"
  },
  "language_info": {
   "codemirror_mode": {
    "name": "ipython",
    "version": 3
   },
   "file_extension": ".py",
   "mimetype": "text/x-python",
   "name": "python",
   "nbconvert_exporter": "python",
   "pygments_lexer": "ipython3",
   "version": "3.8.16"
  }
 },
 "nbformat": 4,
 "nbformat_minor": 5
}
