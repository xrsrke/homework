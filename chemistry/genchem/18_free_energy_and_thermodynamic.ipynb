{
 "cells": [
  {
   "cell_type": "markdown",
   "id": "748e6477-d133-4f41-9bfb-6e1b2b9d7eb6",
   "metadata": {},
   "source": [
    "### Chapter 18. Free Energy and Thermodynamics"
   ]
  },
  {
   "cell_type": "markdown",
   "id": "c9e4c959-cc47-48c0-8faa-0d1773624cb1",
   "metadata": {},
   "source": [
    "##### Example 0"
   ]
  },
  {
   "cell_type": "code",
   "execution_count": null,
   "id": "1c7c4f5f-c6ee-48e9-ad3f-84c61cac008d",
   "metadata": {},
   "outputs": [],
   "source": [
    "from pint import UnitRegistry\n",
    "ureg = UnitRegistry()"
   ]
  },
  {
   "cell_type": "code",
   "execution_count": null,
   "id": "4898c048-25a5-4ed4-99e7-3e9c21f460ce",
   "metadata": {},
   "outputs": [],
   "source": [
    "T = 298*ureg.kelvin"
   ]
  },
  {
   "cell_type": "code",
   "execution_count": null,
   "id": "6022cd5e-c1fc-4ef9-a794-d7e7bb51a441",
   "metadata": {},
   "outputs": [],
   "source": [
    "delta_H = 95.7*ureg.joule*1000"
   ]
  },
  {
   "cell_type": "code",
   "execution_count": null,
   "id": "f2964cee-fea9-47f0-82b1-11044517867e",
   "metadata": {},
   "outputs": [],
   "source": [
    "delta_S = 142.2*ureg.joule/ureg.kelvin"
   ]
  },
  {
   "cell_type": "markdown",
   "id": "6da3d470-dd68-411f-8d00-bfb72dbad404",
   "metadata": {},
   "source": [
    "$\\Delta G=\\Delta H-T \\Delta S$"
   ]
  },
  {
   "cell_type": "code",
   "execution_count": null,
   "id": "d44f69f8-d086-4d06-8a77-89d1b7c9ff4d",
   "metadata": {},
   "outputs": [],
   "source": [
    "gibbs = delta_H - T*delta_S"
   ]
  },
  {
   "cell_type": "code",
   "execution_count": null,
   "id": "9f3ed676-8d15-4ceb-9d17-6243cde06318",
   "metadata": {},
   "outputs": [
    {
     "data": {
      "text/html": [
       "53324.4 joule"
      ],
      "text/latex": [
       "$53324.4\\ \\mathrm{joule}$"
      ],
      "text/plain": [
       "53324.4 <Unit('joule')>"
      ]
     },
     "execution_count": null,
     "metadata": {},
     "output_type": "execute_result"
    }
   ],
   "source": [
    "gibbs"
   ]
  },
  {
   "cell_type": "markdown",
   "id": "c7f65c61-b299-4aac-91e5-fbb175ecdd72",
   "metadata": {},
   "source": [
    "##### Example 1"
   ]
  },
  {
   "cell_type": "code",
   "execution_count": null,
   "id": "3c88377c-507d-483f-8f2c-13f96efd2378",
   "metadata": {},
   "outputs": [],
   "source": [
    "import sympy as smp\n",
    "import sympy.physics.units as u"
   ]
  },
  {
   "cell_type": "markdown",
   "id": "b0ccc36d-da64-4676-99b5-f0ed15b2bc7b",
   "metadata": {},
   "source": [
    "Consider the reaction for the decomposition of carbon tetrachloride gas:"
   ]
  },
  {
   "cell_type": "markdown",
   "id": "2b4f3291-68ab-4d84-8d70-31f7ffd1d68e",
   "metadata": {},
   "source": [
    "$\\mathrm{CCl}_4(g) \\longrightarrow \\mathrm{C}(s, \\text { graphite})+2 \\mathrm{Cl}_2(g)$"
   ]
  },
  {
   "cell_type": "markdown",
   "id": "d697cc19-34f1-42b3-bd00-df61d3e37735",
   "metadata": {},
   "source": [
    "$\\Delta H=+95.7 \\mathrm{~kJ} ; \\Delta S=+142.2 \\mathrm{~J} / \\mathrm{K}$"
   ]
  },
  {
   "cell_type": "code",
   "execution_count": null,
   "id": "e5429934-aa52-4a32-9938-538f13024845",
   "metadata": {},
   "outputs": [],
   "source": [
    "delta_G = smp.Symbol('\\Delta G')\n",
    "delta_H = smp.Symbol('\\Delta H')\n",
    "delta_S = smp.Symbol('\\Delta S')\n",
    "T = smp.Symbol(\"T\")"
   ]
  },
  {
   "cell_type": "markdown",
   "id": "b4b87960-40d6-439c-9d94-f892b9eb7ec5",
   "metadata": {},
   "source": [
    "**Hints**:\n",
    "- The unit of gibbs free energy is $J$"
   ]
  },
  {
   "cell_type": "markdown",
   "id": "a72c6d78-1786-425e-a8e0-7489b101ac38",
   "metadata": {},
   "source": [
    "##### a) Calculate the change in gibbs free energy at $298 \\mathrm{K}$ and determine whether the reaction is spontaneous"
   ]
  },
  {
   "cell_type": "markdown",
   "id": "f253b709-71a0-419d-9a0b-85bb3d54fc37",
   "metadata": {},
   "source": [
    "$\\Delta G=\\Delta H-T \\Delta S$"
   ]
  },
  {
   "cell_type": "code",
   "execution_count": null,
   "id": "dbc60c7e-c780-4a9c-b0c8-ccb0b56f4b23",
   "metadata": {},
   "outputs": [],
   "source": [
    "eq = smp.Eq(delta_G, delta_H-T*delta_S)"
   ]
  },
  {
   "cell_type": "code",
   "execution_count": null,
   "id": "ac4ce1f0-34bf-4b96-92ec-f33cfe46b17a",
   "metadata": {},
   "outputs": [
    {
     "data": {
      "text/latex": [
       "$\\displaystyle \\Delta G = - T \\Delta S + \\Delta H$"
      ],
      "text/plain": [
       "Eq(\\Delta G, -T*\\Delta S + \\Delta H)"
      ]
     },
     "execution_count": null,
     "metadata": {},
     "output_type": "execute_result"
    }
   ],
   "source": [
    "eq"
   ]
  },
  {
   "cell_type": "code",
   "execution_count": null,
   "id": "3ceb7505-ca8d-4727-b759-b39d2ee922a9",
   "metadata": {},
   "outputs": [],
   "source": [
    "substituted_eq = eq.subs({\n",
    "    delta_S: 142.2*u.joule/u.kelvin,\n",
    "    delta_H: 95.7*u.joule*1000,\n",
    "    T: 298*u.kelvin\n",
    "})"
   ]
  },
  {
   "cell_type": "code",
   "execution_count": null,
   "id": "2656589f-e8bb-4905-b77f-db1214f3bed8",
   "metadata": {},
   "outputs": [
    {
     "data": {
      "text/latex": [
       "$\\displaystyle \\Delta G = 53324.4 \\text{J}$"
      ],
      "text/plain": [
       "Eq(\\Delta G, 53324.4*joule)"
      ]
     },
     "execution_count": null,
     "metadata": {},
     "output_type": "execute_result"
    }
   ],
   "source": [
    "substituted_eq"
   ]
  },
  {
   "cell_type": "code",
   "execution_count": null,
   "id": "6bcfe9ae-a56e-4256-a8fe-52f792d8e528",
   "metadata": {},
   "outputs": [
    {
     "data": {
      "text/latex": [
       "$\\displaystyle \\Delta G = 53324.4 \\text{J}$"
      ],
      "text/plain": [
       "Eq(\\Delta G, 53324.4*joule)"
      ]
     },
     "execution_count": null,
     "metadata": {},
     "output_type": "execute_result"
    }
   ],
   "source": [
    "substituted_eq.evalf()"
   ]
  },
  {
   "cell_type": "markdown",
   "id": "4f1c46ab-8ae8-4463-8283-350db97cdd6d",
   "metadata": {},
   "source": [
    "Because $\\Delta G$ is larger than zero. So the reaction isn't spontaneous"
   ]
  },
  {
   "cell_type": "markdown",
   "id": "9ca056d4-f8ad-4137-97a6-22255fdf51a4",
   "metadata": {},
   "source": [
    "##### Example 2"
   ]
  },
  {
   "cell_type": "code",
   "execution_count": null,
   "id": "2de648a2-71b2-464e-81ad-188cdba159fb",
   "metadata": {},
   "outputs": [],
   "source": [
    "import sympy as smp\n",
    "import sympy.physics.units as u"
   ]
  },
  {
   "cell_type": "markdown",
   "id": "72b8da06-15f2-4f17-844b-5a4936a0660f",
   "metadata": {},
   "source": [
    "Consider the reaction for the decomposition of carbon tetrachloride gas:"
   ]
  },
  {
   "cell_type": "markdown",
   "id": "aa40a44b-63ef-4f61-8e21-bc038faebc98",
   "metadata": {},
   "source": [
    "$\\mathrm{CCl}_4(g) \\longrightarrow \\mathrm{C}(s, \\text { graphite})+2 \\mathrm{Cl}_2(g)$"
   ]
  },
  {
   "cell_type": "markdown",
   "id": "2ecd5c83-78f6-421c-a23c-ed0d659c0b20",
   "metadata": {},
   "source": [
    "$\\Delta H=+95.7 \\mathrm{~kJ} ; \\Delta S=+142.2 \\mathrm{~J} / \\mathrm{K}$"
   ]
  },
  {
   "cell_type": "markdown",
   "id": "583bba2d-7f0f-4cbe-bb83-4b293b5bcce0",
   "metadata": {},
   "source": [
    "**Hints**:\n",
    "- The unit of gibbs free energy is $J$"
   ]
  },
  {
   "cell_type": "markdown",
   "id": "36d25130-811a-4017-b4aa-81f506daae40",
   "metadata": {},
   "source": [
    "##### b) If the reaction is not spontaneous at $25^{\\circ} \\mathrm{C}$, determine at what temperature (if any) the reaction becomes spontaneous"
   ]
  },
  {
   "cell_type": "markdown",
   "id": "4f1d0693-99e4-441a-af48-4ac583b1decb",
   "metadata": {},
   "source": [
    "$\\Delta G=\\Delta H-T \\Delta S$"
   ]
  },
  {
   "cell_type": "code",
   "execution_count": null,
   "id": "60908de5-f420-4a80-9069-d30466e14dee",
   "metadata": {},
   "outputs": [
    {
     "data": {
      "text/latex": [
       "$\\displaystyle \\Delta G = - T \\Delta S + \\Delta H$"
      ],
      "text/plain": [
       "Eq(\\Delta G, -T*\\Delta S + \\Delta H)"
      ]
     },
     "execution_count": null,
     "metadata": {},
     "output_type": "execute_result"
    }
   ],
   "source": [
    "eq"
   ]
  },
  {
   "cell_type": "code",
   "execution_count": null,
   "id": "73363e94-de1a-4bc5-8ac9-9830f7288214",
   "metadata": {},
   "outputs": [],
   "source": [
    "substituted_eq = eq.subs({\n",
    "    delta_G: 0*u.joule,\n",
    "    delta_H: 95.7*u.joule*1000,\n",
    "    delta_S: 142.2*u.joule/u.kelvin,\n",
    "})"
   ]
  },
  {
   "cell_type": "code",
   "execution_count": null,
   "id": "8691e0b9-36aa-4666-84ae-ae540574ab6c",
   "metadata": {},
   "outputs": [
    {
     "data": {
      "text/latex": [
       "$\\displaystyle 0 = 95700.0 \\text{J} - \\frac{142.2 T \\text{J}}{\\text{K}}$"
      ],
      "text/plain": [
       "Eq(0, 95700.0*joule - 142.2*joule*T/kelvin)"
      ]
     },
     "execution_count": null,
     "metadata": {},
     "output_type": "execute_result"
    }
   ],
   "source": [
    "substituted_eq"
   ]
  },
  {
   "cell_type": "code",
   "execution_count": null,
   "id": "2155bfd8-b242-4067-bc04-97247d2ca5bf",
   "metadata": {},
   "outputs": [],
   "source": [
    "T_val = smp.solve(substituted_eq, T)[0]"
   ]
  },
  {
   "cell_type": "code",
   "execution_count": null,
   "id": "50ad7dfa-d103-44f8-8f4e-abe1c892513f",
   "metadata": {},
   "outputs": [
    {
     "data": {
      "text/latex": [
       "$\\displaystyle 672.995780590717 \\text{K}$"
      ],
      "text/plain": [
       "672.995780590717*kelvin"
      ]
     },
     "execution_count": null,
     "metadata": {},
     "output_type": "execute_result"
    }
   ],
   "source": [
    "T_val"
   ]
  },
  {
   "cell_type": "markdown",
   "id": "eeaba373-fe05-4454-a668-63f39cc2ebcf",
   "metadata": {},
   "source": [
    "##### Example 3"
   ]
  },
  {
   "cell_type": "code",
   "execution_count": null,
   "id": "cc5452d6-7d8c-4aa8-88f9-5cc4852a171c",
   "metadata": {},
   "outputs": [],
   "source": [
    "import sympy.physics.units as u"
   ]
  },
  {
   "cell_type": "markdown",
   "id": "6b84dbe5-a27c-4be9-b792-2eabe210bb52",
   "metadata": {},
   "source": [
    "**[Open Thermodynamic Table]**\n",
    "\n",
    "Calculate the gibbs free energy of this chemical reaction at standard condition"
   ]
  },
  {
   "cell_type": "markdown",
   "id": "ae78b581-bc57-4d99-ba93-dd69da5e34e7",
   "metadata": {},
   "source": [
    "$\\mathrm{H}_2 \\mathrm{O}_2(l) \\rightleftharpoons \\mathrm{H}_2 \\mathrm{O}(l)+ \\frac{1}{2} \\mathrm{O}_2(g)$"
   ]
  },
  {
   "cell_type": "markdown",
   "id": "f0765a38-208e-48ae-b9d3-77333584864b",
   "metadata": {},
   "source": [
    "**Answer**"
   ]
  },
  {
   "cell_type": "code",
   "execution_count": null,
   "id": "ea785cbb-d9b9-430a-846e-24cafdfde1f6",
   "metadata": {},
   "outputs": [],
   "source": [
    "gibbs_H2O = -237.2 * (u.joule*u.kilo) / u.mol"
   ]
  },
  {
   "cell_type": "code",
   "execution_count": null,
   "id": "c18ae1e4-2320-4eff-99d2-444524e7d8ff",
   "metadata": {},
   "outputs": [],
   "source": [
    "gibbs_O2 = 0"
   ]
  },
  {
   "cell_type": "code",
   "execution_count": null,
   "id": "14eb33ef-ef5b-4208-a33e-85c751982651",
   "metadata": {},
   "outputs": [],
   "source": [
    "gibbs_H2O2 = -120.4 * (u.joule*u.kilo) / u.mol"
   ]
  },
  {
   "cell_type": "markdown",
   "id": "2e6c80f7-6e8f-4191-87cd-c7240219a94e",
   "metadata": {},
   "source": [
    "$\\Delta G_{\\mathrm{rxn}}^{\\circ}=\\sum n_{\\mathrm{p}} \\Delta G_{\\mathrm{f}}^{\\circ}(\\text { products })-\\sum n_{\\mathrm{r}} \\Delta G_{\\mathrm{f}}^{\\circ}(\\text { reactants) }$"
   ]
  },
  {
   "cell_type": "code",
   "execution_count": null,
   "id": "0c0b4ff8-a744-48de-ac93-94b31716eb07",
   "metadata": {},
   "outputs": [],
   "source": [
    "gibbs_overall = (1/2*gibbs_O2 + gibbs_H2O) - gibbs_H2O2"
   ]
  },
  {
   "cell_type": "code",
   "execution_count": null,
   "id": "6d59b258-db3f-4dad-a74f-bb279acf1c37",
   "metadata": {},
   "outputs": [
    {
     "data": {
      "text/latex": [
       "$\\displaystyle - \\frac{116.8 \\text{k} \\text{J}}{\\text{mol}}$"
      ],
      "text/plain": [
       "-116.8*joule*Prefix(kilo, k, 3, 10)/mole"
      ]
     },
     "execution_count": null,
     "metadata": {},
     "output_type": "execute_result"
    }
   ],
   "source": [
    "gibbs_overall"
   ]
  },
  {
   "cell_type": "markdown",
   "id": "177646d9-0b57-431b-b55d-6d12a380cfdc",
   "metadata": {},
   "source": [
    "##### Example 4"
   ]
  },
  {
   "cell_type": "code",
   "execution_count": null,
   "id": "bc1f0fa8-0410-4c36-872e-9ea653e35e16",
   "metadata": {},
   "outputs": [],
   "source": [
    "R_val = 8.31 * u.joule/(u.mol*u.kelvin)"
   ]
  },
  {
   "cell_type": "code",
   "execution_count": null,
   "id": "8cce25f0-1e09-43b3-b47c-208e8ab1c8ce",
   "metadata": {},
   "outputs": [],
   "source": [
    "std_delta_G_val = 51.8*(u.joule*1000)/u.mol"
   ]
  },
  {
   "cell_type": "markdown",
   "id": "cc8e4686-3dbb-445b-8b91-8dc223b30a24",
   "metadata": {},
   "source": [
    "**Hint**: The idea gas constant and the standard gibbs free energy are equal to"
   ]
  },
  {
   "cell_type": "code",
   "execution_count": null,
   "id": "2054dcd4-bb83-48a7-b423-a05c14cabfe0",
   "metadata": {},
   "outputs": [
    {
     "data": {
      "text/latex": [
       "$\\displaystyle \\frac{8.31 \\text{J}}{\\text{K} \\text{mol}}$"
      ],
      "text/plain": [
       "8.31*joule/(kelvin*mole)"
      ]
     },
     "execution_count": null,
     "metadata": {},
     "output_type": "execute_result"
    }
   ],
   "source": [
    "R_val"
   ]
  },
  {
   "cell_type": "code",
   "execution_count": null,
   "id": "77cdbbef-cc83-46ac-8fb5-06ea2603ffa4",
   "metadata": {},
   "outputs": [
    {
     "data": {
      "text/latex": [
       "$\\displaystyle \\frac{51800.0 \\text{J}}{\\text{mol}}$"
      ],
      "text/plain": [
       "51800.0*joule/mole"
      ]
     },
     "execution_count": null,
     "metadata": {},
     "output_type": "execute_result"
    }
   ],
   "source": [
    "std_delta_G_val"
   ]
  },
  {
   "cell_type": "code",
   "execution_count": null,
   "id": "27a3cb2d-40d5-4eb8-bd7f-8cfbfcc34982",
   "metadata": {},
   "outputs": [],
   "source": [
    "import sympy as smp\n",
    "import sympy.physics.units as u"
   ]
  },
  {
   "cell_type": "markdown",
   "id": "8a14e9a9-8591-48f5-bacb-a47544042dae",
   "metadata": {},
   "source": [
    "One important way to manufacture silicon chips for semiconductors is through the following chemical vapor deposition (CVD) reaction which occurs at 1500K:"
   ]
  },
  {
   "cell_type": "markdown",
   "id": "d2f73fae-e4a0-4af5-ac87-48a19cbbdc6d",
   "metadata": {},
   "source": [
    "$\\operatorname{SiCl}_{4(g)}+2 \\mathrm{H}_{2(g)} \\rightarrow \\mathrm{Si}_{(s)}+4 \\mathrm{HCl}_{(g)}$"
   ]
  },
  {
   "cell_type": "markdown",
   "id": "5dfa56a8-da22-423d-b765-b0099836ddc4",
   "metadata": {},
   "source": [
    "Given $\\Delta G_{\\mathrm{SiCl}_4}^0=-467 \\mathrm{~kJ} / \\mathrm{mol}$ and $\\Delta G_{H C l}^0=-103.8 \\mathrm{~kJ} / \\mathrm{mol}$. Determine the value of the equilibrium constant."
   ]
  },
  {
   "cell_type": "markdown",
   "id": "3d4b0998-8b06-4679-91be-5ef983bc5cc6",
   "metadata": {},
   "source": [
    "**Answer**"
   ]
  },
  {
   "cell_type": "markdown",
   "id": "2e454871-108e-4aab-b682-7e5ced15f86b",
   "metadata": {},
   "source": [
    "$\\Delta G_{\\mathrm{rxn}}=\\Delta G_{\\mathrm{rxn}}^{\\circ}+R T \\ln Q$"
   ]
  },
  {
   "cell_type": "markdown",
   "id": "db5de67b-8d84-48b8-a217-4a3d0f7c620d",
   "metadata": {},
   "source": [
    "Because at equilibrium, $\\Delta G_{\\mathrm{IXn}}^{\\circ} = 0$ and $Q = K$. So we have"
   ]
  },
  {
   "cell_type": "markdown",
   "id": "fa1f670a-8598-46c7-9bed-60cd9da88ee9",
   "metadata": {},
   "source": [
    "$\\Delta G_{\\mathrm{rxn}}=\\Delta G_{\\mathrm{rxn}}^{\\circ}+R T \\ln K$"
   ]
  },
  {
   "cell_type": "code",
   "execution_count": null,
   "id": "0d552de5-20d8-41cb-b7a6-06c7bc74ae96",
   "metadata": {},
   "outputs": [],
   "source": [
    "std_delta_G = smp.Symbol(\"\\Delta G_{\\mathrm{rxn}}^{\\circ}\")\n",
    "delta_G = smp.Symbol(\"\\Delta G_{\\mathrm{rxn}}\")\n",
    "R, T, K = smp.symbols(\"R, T, K\")"
   ]
  },
  {
   "cell_type": "code",
   "execution_count": null,
   "id": "774443c7-f546-4215-82b1-f031d284aedb",
   "metadata": {},
   "outputs": [],
   "source": [
    "eq = smp.Eq(delta_G, std_delta_G+R*T*smp.log(K))"
   ]
  },
  {
   "cell_type": "code",
   "execution_count": null,
   "id": "92e8ba63-8b0f-4708-8149-e6b2b8d6cbe4",
   "metadata": {},
   "outputs": [
    {
     "data": {
      "text/latex": [
       "$\\displaystyle \\Delta G_{\\mathrm{rxn}} = R T \\log{\\left(K \\right)} + \\Delta G_{\\mathrm{rxn}}^{\\circ}$"
      ],
      "text/plain": [
       "Eq(\\Delta G_{\\mathrm{rxn}}, R*T*log(K) + \\Delta G_{\\mathrm{rxn}}^{\\circ})"
      ]
     },
     "execution_count": null,
     "metadata": {},
     "output_type": "execute_result"
    }
   ],
   "source": [
    "eq"
   ]
  },
  {
   "cell_type": "code",
   "execution_count": null,
   "id": "5199636b-4c04-4532-a137-43bf3e9b0bb0",
   "metadata": {},
   "outputs": [],
   "source": [
    "K_val = smp.solve(eq, K)[0]"
   ]
  },
  {
   "cell_type": "code",
   "execution_count": null,
   "id": "a9f17e71-9a1d-44cd-b4f9-aad2666f690e",
   "metadata": {},
   "outputs": [
    {
     "data": {
      "text/latex": [
       "$\\displaystyle 0.015675821583998$"
      ],
      "text/plain": [
       "0.0156758215839980"
      ]
     },
     "execution_count": null,
     "metadata": {},
     "output_type": "execute_result"
    }
   ],
   "source": [
    "K_val.subs({\n",
    "    Delta_G: 0,\n",
    "    R: R_val,\n",
    "    T: 1500*u.kelvin,\n",
    "    std_delta_G: std_delta_G_val\n",
    "}).evalf()"
   ]
  },
  {
   "cell_type": "code",
   "execution_count": null,
   "id": "8c24bb18-f835-427f-85be-3a58f0308d72",
   "metadata": {},
   "outputs": [],
   "source": []
  }
 ],
 "metadata": {
  "kernelspec": {
   "display_name": "Python 3 (ipykernel)",
   "language": "python",
   "name": "python3"
  }
 },
 "nbformat": 4,
 "nbformat_minor": 5
}
