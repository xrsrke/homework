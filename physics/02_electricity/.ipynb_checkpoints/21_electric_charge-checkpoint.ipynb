{
 "cells": [
  {
   "cell_type": "code",
   "execution_count": 2,
   "id": "e1029a03-faec-4b6b-83b4-bc0596e4d6a7",
   "metadata": {},
   "outputs": [],
   "source": [
    "import sympy as sym\n",
    "import sympy.physics.units as u"
   ]
  },
  {
   "cell_type": "markdown",
   "id": "40828b8a-8198-43de-ad9f-b491c64a2e82",
   "metadata": {
    "tags": []
   },
   "source": [
    "##### Exmaple 1"
   ]
  },
  {
   "cell_type": "code",
   "execution_count": 20,
   "id": "90b42031-950a-4ee4-b216-68ff87d8cf42",
   "metadata": {},
   "outputs": [],
   "source": [
    "epsilon_0 = 6.67 * 1e-11 * (u.newton*u.meter**2)/(u.kilogram**2)"
   ]
  },
  {
   "cell_type": "markdown",
   "id": "649f6bae-3abb-428a-853f-669ce4e50199",
   "metadata": {},
   "source": [
    "An $\\alpha$ particle (the nucleus of a helium atom) has charge $q=+2 e=3.2 \\times 10^{-19} \\mathrm{C}$. The distance between two particles is $1 \\mathrm{meter}$. Calculate the electric repulsion between two $\\alpha$ (\"alpha\") particles."
   ]
  },
  {
   "cell_type": "markdown",
   "id": "98948060-1c5b-4c2d-ac2d-8583afd7f1fd",
   "metadata": {},
   "source": [
    "$F_{\\mathrm{e}}=\\frac{1}{4 \\pi \\epsilon_0} \\frac{q^2}{r^2}$"
   ]
  },
  {
   "cell_type": "markdown",
   "id": "ca4d3988-d12c-470b-8860-7116fa428deb",
   "metadata": {},
   "source": [
    "**Hint**"
   ]
  },
  {
   "cell_type": "code",
   "execution_count": 21,
   "id": "b0553855-4dcd-406d-9d6b-44fd410a9a3f",
   "metadata": {},
   "outputs": [
    {
     "data": {
      "text/latex": [
       "$\\displaystyle \\frac{6.67 \\cdot 10^{-11} \\text{m}^{2} \\text{N}}{\\text{kg}^{2}}$"
      ],
      "text/plain": [
       "6.67e-11*meter**2*newton/kilogram**2"
      ]
     },
     "execution_count": 21,
     "metadata": {},
     "output_type": "execute_result"
    }
   ],
   "source": [
    "epsilon_0"
   ]
  },
  {
   "cell_type": "code",
   "execution_count": null,
   "id": "ecf098b4-94d6-4913-8cc4-cb94533dc5aa",
   "metadata": {},
   "outputs": [],
   "source": []
  },
  {
   "cell_type": "code",
   "execution_count": 5,
   "id": "537d68f4-da4c-4716-b25c-0393b1a22f04",
   "metadata": {},
   "outputs": [
    {
     "data": {
      "text/latex": [
       "$\\displaystyle \\pi$"
      ],
      "text/plain": [
       "pi"
      ]
     },
     "execution_count": 5,
     "metadata": {},
     "output_type": "execute_result"
    }
   ],
   "source": [
    "sym.pi"
   ]
  },
  {
   "cell_type": "code",
   "execution_count": 23,
   "id": "08494091-625b-4fe4-b00e-6c25255f30b7",
   "metadata": {},
   "outputs": [
    {
     "data": {
      "text/latex": [
       "$\\displaystyle \\frac{1.6675 \\cdot 10^{-11} \\pi \\text{m}^{2} \\text{N}}{\\text{kg}^{2}}$"
      ],
      "text/plain": [
       "1.6675e-11*pi*meter**2*newton/kilogram**2"
      ]
     },
     "execution_count": 23,
     "metadata": {},
     "output_type": "execute_result"
    }
   ],
   "source": [
    "F_e"
   ]
  },
  {
   "cell_type": "code",
   "execution_count": null,
   "id": "deff8739-b486-4f3d-bc83-eb6e4fb5f03f",
   "metadata": {},
   "outputs": [],
   "source": [
    "from sympy.physics.quantum.constants import "
   ]
  },
  {
   "cell_type": "code",
   "execution_count": null,
   "id": "9e999956-fe97-474a-aeeb-bc012a2f5524",
   "metadata": {},
   "outputs": [],
   "source": [
    "from scipy.constants import epsilon_0"
   ]
  },
  {
   "cell_type": "code",
   "execution_count": 9,
   "id": "e515a5bc-c26a-439c-913e-82dc21ba1b66",
   "metadata": {},
   "outputs": [
    {
     "data": {
      "text/plain": [
       "8.8541878128e-12"
      ]
     },
     "execution_count": 9,
     "metadata": {},
     "output_type": "execute_result"
    }
   ],
   "source": [
    "epsilon_0"
   ]
  },
  {
   "cell_type": "markdown",
   "id": "01d1fcd1-1cea-4e80-8923-4c8a7bb6a37e",
   "metadata": {},
   "source": [
    "According to Coulomb's Law: $F_{\\mathrm{e}}=\\frac{1}{4 \\pi \\epsilon_0} \\frac{q^2}{r^2}$"
   ]
  },
  {
   "cell_type": "code",
   "execution_count": 41,
   "id": "00667122-442b-431c-8a19-26dce1ba20a6",
   "metadata": {},
   "outputs": [],
   "source": [
    "q = 3.2 * 1e-19 * u.coulomb"
   ]
  },
  {
   "cell_type": "code",
   "execution_count": 42,
   "id": "638fb640-13f8-48d0-ab26-cb8745aa99fd",
   "metadata": {},
   "outputs": [
    {
     "data": {
      "text/latex": [
       "$\\displaystyle 3.2 \\cdot 10^{-19} \\text{C}$"
      ],
      "text/plain": [
       "3.2e-19*coulomb"
      ]
     },
     "execution_count": 42,
     "metadata": {},
     "output_type": "execute_result"
    }
   ],
   "source": [
    "q"
   ]
  },
  {
   "cell_type": "code",
   "execution_count": 43,
   "id": "ef147b64-6201-4ebc-ad68-65063ba4dc0e",
   "metadata": {},
   "outputs": [],
   "source": [
    "r = 1 * u.meter"
   ]
  },
  {
   "cell_type": "code",
   "execution_count": 44,
   "id": "2f2f5c49-8954-4d1f-8789-6c4eaaa1cf2e",
   "metadata": {},
   "outputs": [],
   "source": [
    "F_e = 1 / (4 * epsilon_0) * (q**2 / r**2)"
   ]
  },
  {
   "cell_type": "code",
   "execution_count": 46,
   "id": "b28549d0-ebaf-4bf3-8cd6-a0878ab457f9",
   "metadata": {},
   "outputs": [
    {
     "data": {
      "text/latex": [
       "$\\displaystyle \\frac{3.83808095952024 \\cdot 10^{-28} \\text{C}^{2} \\text{kg}^{2}}{\\text{m}^{4} \\text{N}}$"
      ],
      "text/plain": [
       "3.83808095952024e-28*coulomb**2*kilogram**2/(meter**4*newton)"
      ]
     },
     "execution_count": 46,
     "metadata": {},
     "output_type": "execute_result"
    }
   ],
   "source": [
    "F_e.evalf()"
   ]
  },
  {
   "cell_type": "markdown",
   "id": "8c023e60-c9aa-4a0f-b71b-57d63d06f9b3",
   "metadata": {},
   "source": [
    "##### Example 2"
   ]
  },
  {
   "cell_type": "code",
   "execution_count": 166,
   "id": "52e01454-521e-4b3c-8228-bd0ae795d471",
   "metadata": {},
   "outputs": [],
   "source": [
    "k = 9.0 * 10**9 * (ureg.newton * ureg.meter**2)/(ureg.coulomb**2)"
   ]
  },
  {
   "cell_type": "markdown",
   "id": "b689d458-dc60-46f6-b4f9-ea2fab570aa7",
   "metadata": {},
   "source": [
    "Two point charges, $q_1=+25 \\mathrm{nC}$ and $q_2=-75 \\mathrm{nC}$, are separated by a distance $r=3.0 \\mathrm{~cm}$. Find the magnitude of the electric force that $q_1$ exerts on $q_2$."
   ]
  },
  {
   "cell_type": "markdown",
   "id": "9f481df4-70aa-4d7f-ba24-45760fa31d91",
   "metadata": {},
   "source": [
    "**Hints**:\n",
    "- $\\frac{1}{4 \\pi \\epsilon_0} = k$\n",
    "- use `pint`"
   ]
  },
  {
   "cell_type": "code",
   "execution_count": 183,
   "id": "0d605b7d-69c8-4c39-9c25-3bbe7f0da2b2",
   "metadata": {},
   "outputs": [
    {
     "data": {
      "text/html": [
       "9000000000.0 meter<sup>2</sup> newton/coulomb<sup>2</sup>"
      ],
      "text/latex": [
       "$9000000000.0\\ \\frac{\\mathrm{meter}^{2} \\cdot \\mathrm{newton}}{\\mathrm{coulomb}^{2}}$"
      ],
      "text/plain": [
       "9000000000.0 <Unit('meter ** 2 * newton / coulomb ** 2')>"
      ]
     },
     "execution_count": 183,
     "metadata": {},
     "output_type": "execute_result"
    }
   ],
   "source": [
    "k"
   ]
  },
  {
   "cell_type": "markdown",
   "id": "ccca0f14-752e-4f1c-b5f6-b7cb1c009881",
   "metadata": {},
   "source": [
    "**Solution**"
   ]
  },
  {
   "cell_type": "code",
   "execution_count": 184,
   "id": "1c2b7f28-3ea7-4369-99d4-d84a9d16a66e",
   "metadata": {},
   "outputs": [],
   "source": [
    "q1 = 25*1e-9*ureg.coulomb"
   ]
  },
  {
   "cell_type": "code",
   "execution_count": 185,
   "id": "ecf033ad-27ea-4490-9da1-7e1909285cd3",
   "metadata": {},
   "outputs": [],
   "source": [
    "q2 = -75*1e-9*ureg.coulomb"
   ]
  },
  {
   "cell_type": "code",
   "execution_count": 186,
   "id": "495beddc-499d-43dc-836b-058733a8af3e",
   "metadata": {},
   "outputs": [],
   "source": [
    "r = 3*ureg.centimeter"
   ]
  },
  {
   "cell_type": "markdown",
   "id": "a9c6abb6-8a2f-430b-96c7-419f113a1dd3",
   "metadata": {},
   "source": [
    "The electric force between two point charges can be calculated using Coulomb's Law. Coulomb's Law states that the force between two point charges is given by:  "
   ]
  },
  {
   "cell_type": "markdown",
   "id": "4c0ee1d0-51a3-4589-96d0-b329147d4c9c",
   "metadata": {},
   "source": [
    "$F_{1 \\text { on } 2}=\\frac{1}{4 \\pi \\epsilon_0} \\frac{\\left|q_1 q_2\\right|}{r^2}$"
   ]
  },
  {
   "cell_type": "code",
   "execution_count": 187,
   "id": "efb81879-9f54-477f-8ae9-1d629cbf4d5d",
   "metadata": {},
   "outputs": [],
   "source": [
    "f = k * abs(q1*q2)/(r**2)"
   ]
  },
  {
   "cell_type": "code",
   "execution_count": 188,
   "id": "842863e4-0ed4-4341-9bd7-f184da8330f9",
   "metadata": {},
   "outputs": [
    {
     "data": {
      "text/html": [
       "0.018750000000000006 newton"
      ],
      "text/latex": [
       "$0.018750000000000006\\ \\mathrm{newton}$"
      ],
      "text/plain": [
       "0.018750000000000006 <Unit('newton')>"
      ]
     },
     "execution_count": 188,
     "metadata": {},
     "output_type": "execute_result"
    }
   ],
   "source": [
    "f.to_reduced_units()"
   ]
  },
  {
   "cell_type": "code",
   "execution_count": null,
   "id": "d9d85eca-ff9a-40d0-bfd0-b4f195650cc0",
   "metadata": {},
   "outputs": [],
   "source": []
  },
  {
   "cell_type": "code",
   "execution_count": null,
   "id": "e35223a4-781e-432e-930e-d42e8033b862",
   "metadata": {},
   "outputs": [],
   "source": []
  }
 ],
 "metadata": {
  "kernelspec": {
   "display_name": "Python 3 (ipykernel)",
   "language": "python",
   "name": "python3"
  },
  "language_info": {
   "codemirror_mode": {
    "name": "ipython",
    "version": 3
   },
   "file_extension": ".py",
   "mimetype": "text/x-python",
   "name": "python",
   "nbconvert_exporter": "python",
   "pygments_lexer": "ipython3",
   "version": "3.8.15"
  }
 },
 "nbformat": 4,
 "nbformat_minor": 5
}
