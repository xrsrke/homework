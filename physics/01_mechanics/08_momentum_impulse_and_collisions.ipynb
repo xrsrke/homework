{
 "cells": [
  {
   "cell_type": "code",
   "execution_count": 3,
   "id": "8903b811",
   "metadata": {},
   "outputs": [],
   "source": [
    "import sympy as sym"
   ]
  },
  {
   "cell_type": "code",
   "execution_count": 4,
   "id": "cc56b24f",
   "metadata": {},
   "outputs": [],
   "source": [
    "import sympy.physics.units as u"
   ]
  },
  {
   "cell_type": "markdown",
   "id": "4d1d4420",
   "metadata": {},
   "source": [
    "### Momentum"
   ]
  },
  {
   "cell_type": "markdown",
   "id": "2111d86e",
   "metadata": {},
   "source": [
    "##### Example 1"
   ]
  },
  {
   "cell_type": "markdown",
   "id": "21247556",
   "metadata": {},
   "source": [
    "You throw a ball with a mass of $0.40 \\mathrm{~kg}$ against a brick wall. It is moving horizontally to the left at $30 \\mathrm{~m} / \\mathrm{s}$ when it hits the wall; it rebounds horizontally to the right at $20 \\mathrm{~m} / \\mathrm{s}$.\n",
    "\n",
    "(a) Find the impulse of the net external force on the ball during its collision with the wall.\n",
    "\n",
    "(b) If the ball is in contact with the wall for $0.010 \\mathrm{~s}$, find the average horizontal force that the wall exerts on the ball during the impact.\n",
    "\n",
    "**Hint**: b) $J_x = 20 \\mathrm{~N} \\cdot \\mathrm{s}$"
   ]
  },
  {
   "cell_type": "markdown",
   "id": "3baed37e",
   "metadata": {},
   "source": [
    "**Answer a**"
   ]
  },
  {
   "cell_type": "code",
   "execution_count": 27,
   "id": "82702772",
   "metadata": {},
   "outputs": [],
   "source": [
    "p_1x, v_1x, p_2x, v_2x = sym.symbols('p_1x, v_1x, p_2x, v_2x')\n",
    "m = sym.symbols('m')"
   ]
  },
  {
   "cell_type": "code",
   "execution_count": 28,
   "id": "d7da40b3",
   "metadata": {},
   "outputs": [],
   "source": [
    "p_1x = m*v_1x\n",
    "p_2x = m*v_2x"
   ]
  },
  {
   "cell_type": "markdown",
   "id": "06fbfddf",
   "metadata": {},
   "source": [
    "According to Impulse–momentum theorem: $\\vec{J} = \\vec{p_2} - \\vec{p_1}$"
   ]
  },
  {
   "cell_type": "code",
   "execution_count": 29,
   "id": "192d49ab",
   "metadata": {},
   "outputs": [
    {
     "data": {
      "text/latex": [
       "$\\displaystyle - m v_{1x} + m v_{2x}$"
      ],
      "text/plain": [
       "-m*v_1x + m*v_2x"
      ]
     },
     "execution_count": 29,
     "metadata": {},
     "output_type": "execute_result"
    }
   ],
   "source": [
    "j_x = p_2x - p_1x; j_x"
   ]
  },
  {
   "cell_type": "code",
   "execution_count": 30,
   "id": "4eb4dba3",
   "metadata": {},
   "outputs": [],
   "source": [
    "j_x_val = j_x.subs({\n",
    "    m: 0.40*u.kilogram,\n",
    "    v_1x: -30*u.meter/u.second,\n",
    "    v_2x: 20*u.meter/u.second\n",
    "})"
   ]
  },
  {
   "cell_type": "code",
   "execution_count": 31,
   "id": "eb3c7fe7-61e3-4ba9-872b-973f74caafcd",
   "metadata": {},
   "outputs": [
    {
     "data": {
      "text/latex": [
       "$\\displaystyle \\frac{20.0 \\text{kg} \\text{m}}{\\text{s}}$"
      ],
      "text/plain": [
       "20.0*kilogram*meter/second"
      ]
     },
     "execution_count": 31,
     "metadata": {},
     "output_type": "execute_result"
    }
   ],
   "source": [
    "j_x_val"
   ]
  },
  {
   "cell_type": "markdown",
   "id": "51ab1ced",
   "metadata": {},
   "source": [
    "**Answer b**"
   ]
  },
  {
   "cell_type": "code",
   "execution_count": 32,
   "id": "3c35405e",
   "metadata": {},
   "outputs": [],
   "source": [
    "J_x, F_av_x, t_delta = sym.symbols('J_x, F_{av-x}, Delta_t')"
   ]
  },
  {
   "cell_type": "markdown",
   "id": "95fe6fa4",
   "metadata": {},
   "source": [
    "$J_x=\\left(F_{\\mathrm{av}}\\right)_x \\Delta t$"
   ]
  },
  {
   "cell_type": "code",
   "execution_count": 33,
   "id": "7a7f7bc4",
   "metadata": {},
   "outputs": [],
   "source": [
    "eq = sym.Eq(J_x, F_av_x * t_delta)"
   ]
  },
  {
   "cell_type": "code",
   "execution_count": 34,
   "id": "67a5b477-a9c9-4f0b-8942-4d4856778e31",
   "metadata": {},
   "outputs": [
    {
     "data": {
      "text/latex": [
       "$\\displaystyle J_{x} = \\Delta_{t} F_{av-x}$"
      ],
      "text/plain": [
       "Eq(J_x, Delta_t*F_{av-x})"
      ]
     },
     "execution_count": 34,
     "metadata": {},
     "output_type": "execute_result"
    }
   ],
   "source": [
    "eq"
   ]
  },
  {
   "cell_type": "code",
   "execution_count": 35,
   "id": "0ae3fc0a-e627-4304-a839-98e178c535de",
   "metadata": {},
   "outputs": [
    {
     "data": {
      "text/latex": [
       "$\\displaystyle 2000.0 \\text{N}$"
      ],
      "text/plain": [
       "2000.0*newton"
      ]
     },
     "execution_count": 35,
     "metadata": {},
     "output_type": "execute_result"
    }
   ],
   "source": [
    "sym.solve(eq, F_av_x)[0].subs({\n",
    "    J_x: 20 * u.newton * u.second,\n",
    "    t_delta: 0.01 * u.second\n",
    "})"
   ]
  },
  {
   "cell_type": "markdown",
   "id": "0731c0ea",
   "metadata": {},
   "source": [
    "### 2. Conservation of Momentum"
   ]
  },
  {
   "cell_type": "markdown",
   "id": "64ce6746",
   "metadata": {
    "tags": []
   },
   "source": [
    "##### Example 1"
   ]
  },
  {
   "cell_type": "markdown",
   "id": "b5c1abb1",
   "metadata": {},
   "source": [
    "A marksman holds a rifle of mass $m_{\\mathrm{R}}=3.00 \\mathrm{~kg}$ loosely, so it can recoil freely. He fires a bullet of mass $m_{\\mathrm{B}}=5.00 \\mathrm{~g}$ horizontally with a velocity relative to the ground of $v_{\\mathrm{B} x}=300 \\mathrm{~m} / \\mathrm{s}$. What is the recoil velocity $v_{\\mathrm{R} x}$ of the rifle? What are the final momentum and kinetic energy of the bullet and rifle?"
   ]
  },
  {
   "cell_type": "code",
   "execution_count": null,
   "id": "babcc499",
   "metadata": {},
   "outputs": [],
   "source": []
  }
 ],
 "metadata": {
  "kernelspec": {
   "display_name": "Python 3 (ipykernel)",
   "language": "python",
   "name": "python3"
  },
  "language_info": {
   "codemirror_mode": {
    "name": "ipython",
    "version": 3
   },
   "file_extension": ".py",
   "mimetype": "text/x-python",
   "name": "python",
   "nbconvert_exporter": "python",
   "pygments_lexer": "ipython3",
   "version": "3.8.15"
  }
 },
 "nbformat": 4,
 "nbformat_minor": 5
}
