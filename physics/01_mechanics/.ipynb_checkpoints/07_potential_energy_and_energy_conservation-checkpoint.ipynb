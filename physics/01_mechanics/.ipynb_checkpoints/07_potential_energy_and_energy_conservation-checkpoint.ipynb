{
 "cells": [
  {
   "cell_type": "code",
   "execution_count": 4,
   "id": "c849d5e0",
   "metadata": {},
   "outputs": [],
   "source": [
    "import sympy as sym\n",
    "import sympy.physics.units as u\n",
    "\n",
    "import pint\n",
    "ureg = pint.UnitRegistry()"
   ]
  },
  {
   "cell_type": "markdown",
   "id": "696cb3de",
   "metadata": {},
   "source": [
    "# Unit 7: Potential Energy and Energy Conservation"
   ]
  },
  {
   "cell_type": "markdown",
   "id": "3ad02630",
   "metadata": {},
   "source": [
    "##### Example 1 (UP,  234)"
   ]
  },
  {
   "cell_type": "markdown",
   "id": "17a0867f",
   "metadata": {},
   "source": [
    "You throw a `0.145 kg` baseball straight up, giving it an initial velocity of magnitude `20.0 m/s`.\n",
    "\n",
    "Find how high it goes, ignoring air resistance + explain (4 steps)"
   ]
  },
  {
   "cell_type": "markdown",
   "id": "37354b1c",
   "metadata": {},
   "source": [
    "**Answer**"
   ]
  },
  {
   "cell_type": "markdown",
   "id": "78d3a8b2",
   "metadata": {},
   "source": [
    "**Step 1**: According to the conservation of mechanical energy principle: $K_1+U_{\\text {grav }, 1}=K_2+U_{\\text {grav }, 2}$"
   ]
  },
  {
   "cell_type": "markdown",
   "id": "bd076db8",
   "metadata": {},
   "source": [
    "**Step 2**: When the ball is thrown upward, it initially has kinetic energy due to its upward motion and zero potential energy due to its height being at the ground level. As the baseball rises, it loses kinetic energy and gains potential energy due to the increase in height. At the highest point, the baseball's kinetic energy is zero and its potential energy is maximum."
   ]
  },
  {
   "cell_type": "markdown",
   "id": "e0525c4d",
   "metadata": {},
   "source": [
    "$K_1+0=0+U_{\\text {grav }, 2}$ => $K_1=U_{\\text {grav }, 2}$"
   ]
  },
  {
   "cell_type": "markdown",
   "id": "ab298ea4",
   "metadata": {},
   "source": [
    "**Step 3**: We substitute $K_1=\\frac{1}{2} m v_1^2$ and $U_{\\text {grav }, 2}=m g y_2$ and solve for y2:"
   ]
  },
  {
   "cell_type": "code",
   "execution_count": 17,
   "id": "af34ba75",
   "metadata": {},
   "outputs": [],
   "source": [
    "m, v1, g, y2 = sym.symbols('m v1 g y2')\n",
    "k1 = 0.5 * m * (v1**2)\n",
    "u2 = m*g*y2"
   ]
  },
  {
   "cell_type": "code",
   "execution_count": 18,
   "id": "49667718",
   "metadata": {},
   "outputs": [],
   "source": [
    "eq = sym.Eq(k1, u2)\n",
    "y2_vals = sym.solve(eq, y2)"
   ]
  },
  {
   "cell_type": "code",
   "execution_count": 19,
   "id": "61d21faa",
   "metadata": {},
   "outputs": [
    {
     "data": {
      "text/plain": [
       "[0.5*v1**2/g]"
      ]
     },
     "execution_count": 19,
     "metadata": {},
     "output_type": "execute_result"
    }
   ],
   "source": [
    "y2_vals"
   ]
  },
  {
   "cell_type": "code",
   "execution_count": 20,
   "id": "7f4c7f7e",
   "metadata": {},
   "outputs": [
    {
     "data": {
      "text/latex": [
       "$\\displaystyle \\frac{0.5 v_{1}^{2}}{g}$"
      ],
      "text/plain": [
       "0.5*v1**2/g"
      ]
     },
     "execution_count": 20,
     "metadata": {},
     "output_type": "execute_result"
    }
   ],
   "source": [
    "y2_vals[0]"
   ]
  },
  {
   "cell_type": "code",
   "execution_count": 21,
   "id": "8a33d46d",
   "metadata": {},
   "outputs": [
    {
     "data": {
      "text/latex": [
       "$\\displaystyle 20.4081632653061 \\text{m}$"
      ],
      "text/plain": [
       "20.4081632653061*meter"
      ]
     },
     "execution_count": 21,
     "metadata": {},
     "output_type": "execute_result"
    }
   ],
   "source": [
    "y2_vals[0].subs({\n",
    "    v1: 20.0 * u.meter / u.second,\n",
    "    g: 9.80 * u.meter / u.second**2\n",
    "})"
   ]
  },
  {
   "cell_type": "code",
   "execution_count": null,
   "id": "7cb0f02b",
   "metadata": {},
   "outputs": [],
   "source": []
  },
  {
   "cell_type": "code",
   "execution_count": null,
   "id": "5ffb32a7",
   "metadata": {},
   "outputs": [],
   "source": []
  },
  {
   "cell_type": "code",
   "execution_count": null,
   "id": "dcc042d3",
   "metadata": {},
   "outputs": [],
   "source": []
  }
 ],
 "metadata": {
  "kernelspec": {
   "display_name": "Python 3 (ipykernel)",
   "language": "python",
   "name": "python3"
  },
  "language_info": {
   "codemirror_mode": {
    "name": "ipython",
    "version": 3
   },
   "file_extension": ".py",
   "mimetype": "text/x-python",
   "name": "python",
   "nbconvert_exporter": "python",
   "pygments_lexer": "ipython3",
   "version": "3.8.15"
  }
 },
 "nbformat": 4,
 "nbformat_minor": 5
}
