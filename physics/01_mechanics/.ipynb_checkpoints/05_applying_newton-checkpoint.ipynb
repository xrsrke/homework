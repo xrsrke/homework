{
 "cells": [
  {
   "cell_type": "code",
   "execution_count": 2,
   "id": "f69b6c7f-99d4-4988-a700-55f07efec9ba",
   "metadata": {},
   "outputs": [],
   "source": [
    "import sympy as sym\n",
    "import sympy.physics.units as units\n",
    "\n",
    "import pint\n",
    "ureg = pint.UnitRegistry()"
   ]
  },
  {
   "cell_type": "markdown",
   "id": "85eadeea-0df6-4dc0-8c89-24bebd1f2930",
   "metadata": {},
   "source": [
    "##### Example 1"
   ]
  },
  {
   "cell_type": "markdown",
   "id": "99aa4752-2ece-47e6-ba81-b638ad43e155",
   "metadata": {},
   "source": [
    "An iceboat is at rest on a frictionless horizontal surface. Due to the blowing wind, $4.0 \\mathrm{~s}$ after the iceboat is released, it is moving to the right at $6.0 \\mathrm{~m} / \\mathrm{s}$ (about $22 \\mathrm{~km} / \\mathrm{h}$ ). What constant horizontal force $F_{\\mathrm{W}}$ does the wind exert on the iceboat? The combined mass of iceboat and rider is $200 \\mathrm{~kg}$."
   ]
  },
  {
   "cell_type": "markdown",
   "id": "bc24def2",
   "metadata": {},
   "source": [
    "##### Example 2"
   ]
  },
  {
   "cell_type": "markdown",
   "id": "393651e3",
   "metadata": {},
   "source": [
    "You want to move a $500 \\mathrm{~N}$ crate across a level floor. To start the crate moving, you have to pull with a $230 \\mathrm{~N}$ horizontal force. Once the crate starts to move, you can keep it moving at constant velocity with only $200 \\mathrm{~N}$. What are the coefficients of static and kinetic friction?"
   ]
  },
  {
   "cell_type": "markdown",
   "id": "efd4eabb",
   "metadata": {},
   "source": [
    "##### Example 3"
   ]
  },
  {
   "cell_type": "markdown",
   "id": "856a36e1",
   "metadata": {},
   "source": [
    "An iceboat is at rest on a frictionless horizontal surface (Fig. 5.7a). Due to the blowing wind, $4.0 \\mathrm{~s}$ after the iceboat is released, it is moving to the right at $6.0 \\mathrm{~m} / \\mathrm{s}$ (about $22 \\mathrm{~km} / \\mathrm{h}$ ). What constant horizontal force $F_{\\mathrm{W}}$ does the wind exert on the iceboat? The combined mass of iceboat and rider is $200 \\mathrm{~kg}$."
   ]
  },
  {
   "cell_type": "markdown",
   "id": "a9d69c8b",
   "metadata": {},
   "source": [
    "**Hints**"
   ]
  },
  {
   "cell_type": "markdown",
   "id": "1d7d1bd4",
   "metadata": {},
   "source": [
    "The known quantities\n",
    "- the mass $m=200 \\mathrm{ kg}$\n",
    "- The initial velocity $v_{0 x} = 0$, the final velocity $v_x=6 \\mathrm{ m/s}$\n",
    "- The elasped time: $t = 4.0 s$"
   ]
  },
  {
   "cell_type": "markdown",
   "id": "b7428507",
   "metadata": {},
   "source": [
    "Because there're no verticle acceleration =>"
   ]
  },
  {
   "cell_type": "markdown",
   "id": "9aebceb5",
   "metadata": {},
   "source": [
    "$\\sum F_y=n+(-m g)=0$"
   ]
  },
  {
   "cell_type": "code",
   "execution_count": 11,
   "id": "2ce20a65",
   "metadata": {},
   "outputs": [],
   "source": [
    "m, a_x, g, n = sym.symbols('m, a_x, g, n')"
   ]
  },
  {
   "cell_type": "code",
   "execution_count": 12,
   "id": "6c3bd849",
   "metadata": {},
   "outputs": [],
   "source": [
    "F_w = m * a_x"
   ]
  },
  {
   "cell_type": "code",
   "execution_count": 13,
   "id": "21f3b812",
   "metadata": {},
   "outputs": [
    {
     "data": {
      "text/latex": [
       "$\\displaystyle a_{x} m$"
      ],
      "text/plain": [
       "a_x*m"
      ]
     },
     "execution_count": 13,
     "metadata": {},
     "output_type": "execute_result"
    }
   ],
   "source": [
    "F_w"
   ]
  },
  {
   "cell_type": "code",
   "execution_count": 14,
   "id": "6ccea2d6",
   "metadata": {},
   "outputs": [],
   "source": [
    "F_y = n + (-m*g)"
   ]
  },
  {
   "cell_type": "code",
   "execution_count": 15,
   "id": "2557437d",
   "metadata": {
    "scrolled": true
   },
   "outputs": [
    {
     "data": {
      "text/latex": [
       "$\\displaystyle - g m + n$"
      ],
      "text/plain": [
       "-g*m + n"
      ]
     },
     "execution_count": 15,
     "metadata": {},
     "output_type": "execute_result"
    }
   ],
   "source": [
    "F_y"
   ]
  },
  {
   "cell_type": "code",
   "execution_count": null,
   "id": "5c8a60ee",
   "metadata": {},
   "outputs": [],
   "source": []
  }
 ],
 "metadata": {
  "kernelspec": {
   "display_name": "Python 3 (ipykernel)",
   "language": "python",
   "name": "python3"
  },
  "language_info": {
   "codemirror_mode": {
    "name": "ipython",
    "version": 3
   },
   "file_extension": ".py",
   "mimetype": "text/x-python",
   "name": "python",
   "nbconvert_exporter": "python",
   "pygments_lexer": "ipython3",
   "version": "3.8.15"
  }
 },
 "nbformat": 4,
 "nbformat_minor": 5
}
