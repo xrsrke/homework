{
 "cells": [
  {
   "cell_type": "code",
   "execution_count": 1,
   "id": "f69b6c7f-99d4-4988-a700-55f07efec9ba",
   "metadata": {},
   "outputs": [],
   "source": [
    "import sympy as sym\n",
    "import sympy.physics.units as u"
   ]
  },
  {
   "cell_type": "markdown",
   "id": "85eadeea-0df6-4dc0-8c89-24bebd1f2930",
   "metadata": {},
   "source": [
    "##### Example 1"
   ]
  },
  {
   "cell_type": "markdown",
   "id": "99aa4752-2ece-47e6-ba81-b638ad43e155",
   "metadata": {},
   "source": [
    "An iceboat is at rest on a frictionless horizontal surface. Due to the blowing wind, $4.0 \\mathrm{~s}$ after the iceboat is released, it is moving to the right at $6.0 \\mathrm{~m} / \\mathrm{s}$ (about $22 \\mathrm{~km} / \\mathrm{h}$ ). What constant horizontal force $F_{\\mathrm{W}}$ does the wind exert on the iceboat? The combined mass of iceboat and rider is $200 \\mathrm{~kg}$."
   ]
  },
  {
   "cell_type": "code",
   "execution_count": null,
   "id": "829afb60-1c28-4c2d-8786-98a2ab29eff9",
   "metadata": {},
   "outputs": [],
   "source": []
  }
 ],
 "metadata": {
  "kernelspec": {
   "display_name": "Python 3 (ipykernel)",
   "language": "python",
   "name": "python3"
  },
  "language_info": {
   "codemirror_mode": {
    "name": "ipython",
    "version": 3
   },
   "file_extension": ".py",
   "mimetype": "text/x-python",
   "name": "python",
   "nbconvert_exporter": "python",
   "pygments_lexer": "ipython3",
   "version": "3.8.15"
  }
 },
 "nbformat": 4,
 "nbformat_minor": 5
}
