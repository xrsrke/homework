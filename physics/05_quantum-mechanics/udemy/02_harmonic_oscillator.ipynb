{
 "cells": [
  {
   "cell_type": "markdown",
   "id": "326e7158-9500-4294-be11-c18db073d94e",
   "metadata": {},
   "source": [
    "### Harmonic Oscillator"
   ]
  },
  {
   "cell_type": "code",
   "execution_count": null,
   "id": "d4e6edaf-580d-46c0-b33f-5564fb22b055",
   "metadata": {},
   "outputs": [],
   "source": []
  }
 ],
 "metadata": {
  "kernelspec": {
   "display_name": "Python 3 (ipykernel)",
   "language": "python",
   "name": "python3"
  }
 },
 "nbformat": 4,
 "nbformat_minor": 5
}
