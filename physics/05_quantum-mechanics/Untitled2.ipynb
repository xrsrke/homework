{
 "cells": [
  {
   "cell_type": "code",
   "execution_count": null,
   "id": "8149e954-4e3c-4b44-93e2-01e8aaadf0af",
   "metadata": {},
   "outputs": [],
   "source": [
    "import numpy as np\n",
    "x = np.linspace(-10,10,5000)\n",
    "deltax = x[1]-x[0]"
   ]
  },
  {
   "cell_type": "code",
   "execution_count": null,
   "id": "afc9793f-c763-4f63-9f0f-2b2e153aa626",
   "metadata": {},
   "outputs": [],
   "source": [
    "def norm(phi):\n",
    "    norm = np.sum(np.square(np.abs(phi)))*deltax\n",
    "    return phi/np.sqrt(norm)"
   ]
  },
  {
   "cell_type": "code",
   "execution_count": null,
   "id": "078765a9-c9d1-43a2-9590-7636512ef7bc",
   "metadata": {},
   "outputs": [],
   "source": [
    "def complex_plot(x,y,prob=True,**kwargs):\n",
    "    real = np.real(y)\n",
    "    imag = np.imag(y)\n",
    "    a,*_ = plt.plot(x,real,label='Re',**kwargs)\n",
    "    b,*_ = plt.plot(x,imag,label='Im',**kwargs)\n",
    "    plt.xlim(-2,2)\n",
    "    if prob:\n",
    "        p,*_ = plt.plot(x,np.abs(y),label='$\\sqrt{P}$')\n",
    "        return a,b,p\n",
    "    else:\n",
    "        return a,b"
   ]
  },
  {
   "cell_type": "code",
   "execution_count": null,
   "id": "80e9970f-03df-4f8c-a339-01eb59c68d37",
   "metadata": {},
   "outputs": [],
   "source": [
    "def wave_packet(pos=0,mom=0,sigma=0.2):\n",
    "    return norm(np.exp(-1j*mom*x)*np.exp(-np.square(x-pos)/sigma/sigma,dtype=complex))"
   ]
  },
  {
   "cell_type": "code",
   "execution_count": null,
   "id": "5adde4bf-6099-47b7-abd0-4a83f4e07ca8",
   "metadata": {},
   "outputs": [],
   "source": [
    "def d_dxdx(phi,x=x):\n",
    "    dphi_dxdx = -2*phi\n",
    "    dphi_dxdx[:-1] += phi[1:]\n",
    "    dphi_dxdx[1:] += phi[:-1]\n",
    "    return dphi_dxdx/deltax"
   ]
  },
  {
   "cell_type": "code",
   "execution_count": null,
   "id": "0235cc14-d98d-4f8f-85f0-6d4661d146cd",
   "metadata": {},
   "outputs": [],
   "source": [
    "def d_dt(phi,h=1,m=100,V=0):\n",
    "    return 1j*h/2/m * d_dxdx(phi) - 1j*V*phi/h"
   ]
  },
  {
   "cell_type": "code",
   "execution_count": null,
   "id": "8c10495d-bfe6-4737-9d68-86910e9a9bf4",
   "metadata": {},
   "outputs": [],
   "source": [
    "def euler(phi, dt, **kwargs):\n",
    "    return phi + dt * d_dt(phi, **kwargs)"
   ]
  },
  {
   "cell_type": "code",
   "execution_count": null,
   "id": "26dd65fb-8420-4c87-89da-9dcbd0b644b1",
   "metadata": {},
   "outputs": [],
   "source": [
    "def rk4(phi, dt, **kwargs):\n",
    "    k1 = d_dt(phi, **kwargs)\n",
    "    k2 = d_dt(phi+dt/2*k1, **kwargs)\n",
    "    k3 = d_dt(phi+dt/2*k2, **kwargs)\n",
    "    k4 = d_dt(phi+dt*k3, **kwargs)\n",
    "    return phi + dt/6*(k1+2*k2+2*k3+k4)"
   ]
  },
  {
   "cell_type": "code",
   "execution_count": null,
   "id": "07b09ed6-95aa-4c94-b6bb-6c364adb3ed8",
   "metadata": {},
   "outputs": [],
   "source": [
    "def simulate(phi_sim, \n",
    "             method='rk4', \n",
    "             V=0, \n",
    "             steps=100000, \n",
    "             dt=1e-1, \n",
    "             condition=None, \n",
    "             normalize=True,\n",
    "             save_every=100):\n",
    "    simulation_steps = [np.copy(phi_sim)]\n",
    "    for i in range(steps):\n",
    "        if method == 'euler':\n",
    "            phi_sim = euler(phi_sim,dt,V=V)\n",
    "        elif method == 'rk4':\n",
    "            phi_sim = rk4(phi_sim,dt,V=V)\n",
    "        else:\n",
    "            raise Exception(f'Unknown method {method}')\n",
    "        if condition:\n",
    "            phi_sim = condition(phi_sim)\n",
    "        if normalize:\n",
    "            phi_sim = norm(phi_sim)\n",
    "        if save_every is not None and (i+1) % save_every == 0:\n",
    "            simulation_steps.append(np.copy(phi_sim))\n",
    "    return simulation_steps"
   ]
  },
  {
   "cell_type": "code",
   "execution_count": null,
   "id": "eef787ee-47b9-424a-94f6-0efaba6f490b",
   "metadata": {},
   "outputs": [],
   "source": [
    "sim_free = simulate(wave_packet(),steps=200000,save_every=1000)"
   ]
  },
  {
   "cell_type": "code",
   "execution_count": null,
   "id": "7cbb6006-d052-49f6-9fec-496716a8e98e",
   "metadata": {},
   "outputs": [],
   "source": []
  }
 ],
 "metadata": {
  "kernelspec": {
   "display_name": "Python 3 (ipykernel)",
   "language": "python",
   "name": "python3"
  }
 },
 "nbformat": 4,
 "nbformat_minor": 5
}
