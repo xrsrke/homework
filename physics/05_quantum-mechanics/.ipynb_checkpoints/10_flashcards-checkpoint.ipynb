{
 "cells": [
  {
   "cell_type": "code",
   "execution_count": null,
   "id": "5c760177-1460-4745-ad2c-3b4d499047a1",
   "metadata": {},
   "outputs": [],
   "source": [
    "import numpy as np"
   ]
  },
  {
   "cell_type": "code",
   "execution_count": null,
   "id": "9b391082-00f3-443f-80a0-7bde5fdcb745",
   "metadata": {},
   "outputs": [],
   "source": [
    "x = np.linspace(-10, 10, 5000)"
   ]
  },
  {
   "cell_type": "code",
   "execution_count": null,
   "id": "e3c6a761-51ba-424b-9593-9bb41e973173",
   "metadata": {},
   "outputs": [],
   "source": [
    "delta_x = x[1] - x[0]"
   ]
  },
  {
   "cell_type": "markdown",
   "id": "6540ccfd-7d24-4156-be71-26c8d2f6d183",
   "metadata": {},
   "source": [
    "##### Example 1"
   ]
  },
  {
   "cell_type": "markdown",
   "id": "f09cc05a-1132-4ecc-8e1c-52416ba280d7",
   "metadata": {},
   "source": [
    "Write a function that normalizes a wave function as bellow"
   ]
  },
  {
   "cell_type": "markdown",
   "id": "01e53251-5440-40e8-abbb-f568848c37ed",
   "metadata": {},
   "source": [
    "Hint: $\\frac{\\phi(x)}{\\sqrt{\\int_{-\\infty}^{\\infty}|\\phi(x)|^2 d x}}$"
   ]
  },
  {
   "cell_type": "code",
   "execution_count": null,
   "id": "c069f533-3b88-4657-aa6a-6f0e65ab7ba0",
   "metadata": {},
   "outputs": [],
   "source": [
    "def normalize(wave_function, delta_x):\n",
    "    magnitude = np.sum(np.square(np.abs(wave_function)))*delta_x\n",
    "    normalizing_cosntant = np.sqrt(magnitude)\n",
    "    return wave_function / normalizing_cosntant"
   ]
  },
  {
   "cell_type": "code",
   "execution_count": null,
   "id": "f02a05ca-25be-4d7e-ae2a-7afb2ec4627e",
   "metadata": {},
   "outputs": [
    {
     "data": {
      "text/plain": [
       "5.684341886080802e-14"
      ]
     },
     "execution_count": null,
     "metadata": {},
     "output_type": "execute_result"
    }
   ],
   "source": [
    "normalize(x, delta_x=delta_x).sum()"
   ]
  },
  {
   "cell_type": "code",
   "execution_count": null,
   "id": "979d3f2d-4818-4319-9159-4629818423d1",
   "metadata": {},
   "outputs": [],
   "source": []
  }
 ],
 "metadata": {
  "kernelspec": {
   "display_name": "Python 3 (ipykernel)",
   "language": "python",
   "name": "python3"
  }
 },
 "nbformat": 4,
 "nbformat_minor": 5
}
