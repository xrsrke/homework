{
 "cells": [
  {
   "cell_type": "code",
   "execution_count": null,
   "id": "dad9f5a8-3722-40a3-ab58-c0c426c0eeb2",
   "metadata": {},
   "outputs": [],
   "source": [
    "import torch\n",
    "import torch.nn.functional as F"
   ]
  },
  {
   "cell_type": "markdown",
   "id": "94f46987-0379-463f-a208-edd02fe5f448",
   "metadata": {},
   "source": [
    "##### Example 1"
   ]
  },
  {
   "cell_type": "code",
   "execution_count": null,
   "id": "99ce66f8-1df7-41a9-a661-f64ecef3bc18",
   "metadata": {},
   "outputs": [],
   "source": [
    "relative_probs = torch.tensor([1, 2, 3, 4, 5, 6])"
   ]
  },
  {
   "cell_type": "code",
   "execution_count": null,
   "id": "f7cd2829-24e3-4fc9-8283-ff0cf27b6c9c",
   "metadata": {},
   "outputs": [],
   "source": [
    "prob_amplitudes = relative_probs.sqrt()"
   ]
  },
  {
   "cell_type": "code",
   "execution_count": null,
   "id": "55f30748-fc4c-4ff8-bf3a-b65b0ac46eac",
   "metadata": {},
   "outputs": [
    {
     "data": {
      "text/plain": [
       "tensor([1.0000, 1.4142, 1.7321, 2.0000, 2.2361, 2.4495])"
      ]
     },
     "execution_count": null,
     "metadata": {},
     "output_type": "execute_result"
    }
   ],
   "source": [
    "prob_amplitudes"
   ]
  },
  {
   "cell_type": "code",
   "execution_count": null,
   "id": "dd8c1242-36d7-48ba-92d2-cc1603df69fa",
   "metadata": {},
   "outputs": [],
   "source": [
    "probs = prob_amplitudes / prob_amplitudes.sum()"
   ]
  },
  {
   "cell_type": "code",
   "execution_count": null,
   "id": "67864cf5-757a-47cc-af76-7d1d67a43eca",
   "metadata": {},
   "outputs": [
    {
     "data": {
      "text/plain": [
       "tensor([0.0923, 0.1306, 0.1599, 0.1846, 0.2064, 0.2261])"
      ]
     },
     "execution_count": null,
     "metadata": {},
     "output_type": "execute_result"
    }
   ],
   "source": [
    "probs"
   ]
  },
  {
   "cell_type": "code",
   "execution_count": null,
   "id": "86c2511f-7a26-4fd8-a584-2547f1c94995",
   "metadata": {},
   "outputs": [
    {
     "data": {
      "text/plain": [
       "tensor(1.)"
      ]
     },
     "execution_count": null,
     "metadata": {},
     "output_type": "execute_result"
    }
   ],
   "source": [
    "probs.sum()"
   ]
  },
  {
   "cell_type": "markdown",
   "id": "1e90cbb5-7df4-4b81-bce5-1400856eb5be",
   "metadata": {},
   "source": [
    "##### Example 2"
   ]
  },
  {
   "cell_type": "code",
   "execution_count": null,
   "id": "675118ab-f429-4a9c-8582-1494f24a283b",
   "metadata": {},
   "outputs": [],
   "source": [
    "bras = F.normalize(torch.arange(1, 10).float(), p=1, dim=-1)"
   ]
  },
  {
   "cell_type": "code",
   "execution_count": null,
   "id": "3b6dc611-e474-4216-8e74-0a9fa430deeb",
   "metadata": {},
   "outputs": [
    {
     "data": {
      "text/plain": [
       "tensor([0.0222, 0.0444, 0.0667, 0.0889, 0.1111, 0.1333, 0.1556, 0.1778, 0.2000])"
      ]
     },
     "execution_count": null,
     "metadata": {},
     "output_type": "execute_result"
    }
   ],
   "source": [
    "bras"
   ]
  },
  {
   "cell_type": "code",
   "execution_count": null,
   "id": "c83efbfd-5e05-49da-814e-7887fb4197e0",
   "metadata": {},
   "outputs": [
    {
     "data": {
      "text/plain": [
       "tensor(1.)"
      ]
     },
     "execution_count": null,
     "metadata": {},
     "output_type": "execute_result"
    }
   ],
   "source": [
    "bras.sum()"
   ]
  },
  {
   "cell_type": "code",
   "execution_count": null,
   "id": "a872acd0-da69-4c02-8e80-c6ce930fd414",
   "metadata": {},
   "outputs": [
    {
     "data": {
      "text/plain": [
       "torch.Size([9])"
      ]
     },
     "execution_count": null,
     "metadata": {},
     "output_type": "execute_result"
    }
   ],
   "source": [
    "bras.size()"
   ]
  },
  {
   "cell_type": "code",
   "execution_count": null,
   "id": "1214fd06-8bab-4c0b-abac-96bbc076bf60",
   "metadata": {},
   "outputs": [],
   "source": [
    "ket = F.normalize(torch.arange(15, 24).float(), p=1, dim=-1)"
   ]
  },
  {
   "cell_type": "code",
   "execution_count": null,
   "id": "49f72604-f6d1-408b-bde8-91a9fc7b538c",
   "metadata": {},
   "outputs": [
    {
     "data": {
      "text/plain": [
       "tensor([0.0877, 0.0936, 0.0994, 0.1053, 0.1111, 0.1170, 0.1228, 0.1287, 0.1345])"
      ]
     },
     "execution_count": null,
     "metadata": {},
     "output_type": "execute_result"
    }
   ],
   "source": [
    "ket"
   ]
  },
  {
   "cell_type": "code",
   "execution_count": null,
   "id": "7a03110d-553d-4c50-9146-26f0107db5d1",
   "metadata": {},
   "outputs": [
    {
     "data": {
      "text/plain": [
       "tensor(1.)"
      ]
     },
     "execution_count": null,
     "metadata": {},
     "output_type": "execute_result"
    }
   ],
   "source": [
    "ket.sum()"
   ]
  },
  {
   "cell_type": "code",
   "execution_count": null,
   "id": "3f9745d8-f546-4514-8340-08ab77037a54",
   "metadata": {},
   "outputs": [],
   "source": [
    "probs = torch.tensor([0.1, 0.2, 0.3, 0.1, 0.2, 0.0, 0.05, 0.05, 0.00], dtype=torch.float32)"
   ]
  },
  {
   "cell_type": "code",
   "execution_count": null,
   "id": "07409384-432c-4fb9-b80e-d468c340f5ad",
   "metadata": {},
   "outputs": [
    {
     "data": {
      "text/plain": [
       "tensor(1.)"
      ]
     },
     "execution_count": null,
     "metadata": {},
     "output_type": "execute_result"
    }
   ],
   "source": [
    "probs.sum()"
   ]
  },
  {
   "cell_type": "code",
   "execution_count": null,
   "id": "98f7bda6-2a0c-4c49-b118-d7af7c51364b",
   "metadata": {},
   "outputs": [],
   "source": [
    "A = torch.diag(probs)"
   ]
  },
  {
   "cell_type": "code",
   "execution_count": null,
   "id": "569198d3-5776-40c7-bb36-9df5802674ef",
   "metadata": {},
   "outputs": [
    {
     "data": {
      "text/plain": [
       "tensor([[0.1000, 0.0000, 0.0000, 0.0000, 0.0000, 0.0000, 0.0000, 0.0000, 0.0000],\n",
       "        [0.0000, 0.2000, 0.0000, 0.0000, 0.0000, 0.0000, 0.0000, 0.0000, 0.0000],\n",
       "        [0.0000, 0.0000, 0.3000, 0.0000, 0.0000, 0.0000, 0.0000, 0.0000, 0.0000],\n",
       "        [0.0000, 0.0000, 0.0000, 0.1000, 0.0000, 0.0000, 0.0000, 0.0000, 0.0000],\n",
       "        [0.0000, 0.0000, 0.0000, 0.0000, 0.2000, 0.0000, 0.0000, 0.0000, 0.0000],\n",
       "        [0.0000, 0.0000, 0.0000, 0.0000, 0.0000, 0.0000, 0.0000, 0.0000, 0.0000],\n",
       "        [0.0000, 0.0000, 0.0000, 0.0000, 0.0000, 0.0000, 0.0500, 0.0000, 0.0000],\n",
       "        [0.0000, 0.0000, 0.0000, 0.0000, 0.0000, 0.0000, 0.0000, 0.0500, 0.0000],\n",
       "        [0.0000, 0.0000, 0.0000, 0.0000, 0.0000, 0.0000, 0.0000, 0.0000, 0.0000]])"
      ]
     },
     "execution_count": null,
     "metadata": {},
     "output_type": "execute_result"
    }
   ],
   "source": [
    "A"
   ]
  },
  {
   "cell_type": "markdown",
   "id": "27681ff4-ce70-450f-bd83-aaadeeadc2f8",
   "metadata": {},
   "source": [
    "$<\\psi \\mid$ is `bras`, and $|\\psi\\rangle$ is `ket`"
   ]
  },
  {
   "cell_type": "code",
   "execution_count": null,
   "id": "5467aab0-92d3-49cc-91ea-bd57b32cbddd",
   "metadata": {},
   "outputs": [
    {
     "data": {
      "text/plain": [
       "(torch.Size([9]), torch.Size([9]))"
      ]
     },
     "execution_count": null,
     "metadata": {},
     "output_type": "execute_result"
    }
   ],
   "source": [
    "bras.size(), ket.size()"
   ]
  },
  {
   "cell_type": "code",
   "execution_count": null,
   "id": "aad26f1b-bbd0-4e94-9ba4-473435cead71",
   "metadata": {},
   "outputs": [
    {
     "data": {
      "text/plain": [
       "(tensor(1.), tensor(1.))"
      ]
     },
     "execution_count": null,
     "metadata": {},
     "output_type": "execute_result"
    }
   ],
   "source": [
    "bras.sum(), ket.sum()"
   ]
  },
  {
   "cell_type": "markdown",
   "id": "59c70d2c-19cf-48d9-b32b-2d6aed376d74",
   "metadata": {},
   "source": [
    "`A` is the operator $\\hat{A}$"
   ]
  },
  {
   "cell_type": "code",
   "execution_count": null,
   "id": "86a5ed73-1d5d-4681-80cd-1d554369638f",
   "metadata": {},
   "outputs": [
    {
     "data": {
      "text/plain": [
       "torch.Size([9, 9])"
      ]
     },
     "execution_count": null,
     "metadata": {},
     "output_type": "execute_result"
    }
   ],
   "source": [
    "A.size()"
   ]
  },
  {
   "cell_type": "markdown",
   "id": "19bfe271-454e-44e5-a6d8-b0689ed80e3d",
   "metadata": {},
   "source": [
    "Find the expected value of the operator $\\hat{A}$ if the measurement is taken"
   ]
  },
  {
   "cell_type": "code",
   "execution_count": null,
   "id": "84a97193-80af-4d4c-a6cc-e997e03acf85",
   "metadata": {},
   "outputs": [],
   "source": [
    "expected = bras @ A @ ket"
   ]
  },
  {
   "cell_type": "code",
   "execution_count": null,
   "id": "45db8a69-0d37-47e2-b751-cfa4d4aad791",
   "metadata": {},
   "outputs": [
    {
     "data": {
      "text/plain": [
       "tensor(0.0085)"
      ]
     },
     "execution_count": null,
     "metadata": {},
     "output_type": "execute_result"
    }
   ],
   "source": [
    "expected"
   ]
  },
  {
   "cell_type": "markdown",
   "id": "ee16ba75-100c-4e6c-a8ec-330e1ef9f69d",
   "metadata": {},
   "source": [
    "##### Example 3"
   ]
  },
  {
   "cell_type": "code",
   "execution_count": null,
   "id": "f567830d-293c-4bd6-a5cb-cd26e77a9efa",
   "metadata": {},
   "outputs": [],
   "source": [
    "from sympy.physics.quantum import Bra"
   ]
  },
  {
   "cell_type": "code",
   "execution_count": null,
   "id": "c958893a-1c5d-41d1-8c6d-c304b0ce5bbe",
   "metadata": {},
   "outputs": [],
   "source": [
    "b = Bra('psi')"
   ]
  },
  {
   "cell_type": "code",
   "execution_count": null,
   "id": "662c984b-1dbd-4180-9984-c058491aa5a7",
   "metadata": {},
   "outputs": [
    {
     "data": {
      "text/latex": [
       "$\\displaystyle {\\left\\langle \\psi\\right|}$"
      ],
      "text/plain": [
       "<psi|"
      ]
     },
     "execution_count": null,
     "metadata": {},
     "output_type": "execute_result"
    }
   ],
   "source": [
    "b"
   ]
  },
  {
   "cell_type": "code",
   "execution_count": null,
   "id": "345d5cab-13cc-44b8-a952-aa4b250c9e86",
   "metadata": {},
   "outputs": [],
   "source": []
  }
 ],
 "metadata": {
  "kernelspec": {
   "display_name": "Python 3 (ipykernel)",
   "language": "python",
   "name": "python3"
  }
 },
 "nbformat": 4,
 "nbformat_minor": 5
}
