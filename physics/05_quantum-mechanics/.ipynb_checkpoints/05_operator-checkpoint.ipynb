{
 "cells": [
  {
   "cell_type": "code",
   "execution_count": 1,
   "id": "d33b6a2a-ea41-477a-b744-53ad94270dca",
   "metadata": {},
   "outputs": [],
   "source": [
    "import sympy as smp\n",
    "import sympy.physics.units as units"
   ]
  },
  {
   "cell_type": "code",
   "execution_count": 14,
   "id": "33f0b91c-d588-49d7-9f91-100d2233e506",
   "metadata": {},
   "outputs": [],
   "source": [
    "import sympy as sp\n",
    "\n",
    "# Define the wave function\n",
    "A, x = sp.symbols('A, x')"
   ]
  },
  {
   "cell_type": "code",
   "execution_count": 15,
   "id": "e5d6b8e2-c040-4235-8161-066481355ef5",
   "metadata": {},
   "outputs": [],
   "source": [
    "psi = A*(1-x**2)"
   ]
  },
  {
   "cell_type": "code",
   "execution_count": 16,
   "id": "450cbd77-65bf-43a4-9b11-e74ed1dd70d6",
   "metadata": {},
   "outputs": [
    {
     "data": {
      "text/latex": [
       "$\\displaystyle A \\left(1 - x^{2}\\right)$"
      ],
      "text/plain": [
       "A*(1 - x**2)"
      ]
     },
     "execution_count": 16,
     "metadata": {},
     "output_type": "execute_result"
    }
   ],
   "source": [
    "psi"
   ]
  },
  {
   "cell_type": "code",
   "execution_count": 17,
   "id": "f13efe45-b803-4eee-bc08-15e02b97a490",
   "metadata": {},
   "outputs": [],
   "source": [
    "from sympy.physics.quantum.constants import hbar"
   ]
  },
  {
   "cell_type": "code",
   "execution_count": 18,
   "id": "cdaef69e-53e8-4e8c-bf05-f59ecbeb1a12",
   "metadata": {},
   "outputs": [
    {
     "data": {
      "text/latex": [
       "$\\displaystyle \\hbar$"
      ],
      "text/plain": [
       "hbar"
      ]
     },
     "execution_count": 18,
     "metadata": {},
     "output_type": "execute_result"
    }
   ],
   "source": [
    "hbar"
   ]
  },
  {
   "cell_type": "code",
   "execution_count": 20,
   "id": "2441b250-c833-4d6b-a07f-bee1ae608810",
   "metadata": {},
   "outputs": [],
   "source": [
    "# Define the momentum operator\n",
    "p = -sp.I * hbar * sp.diff(psi, x)"
   ]
  },
  {
   "cell_type": "code",
   "execution_count": 21,
   "id": "22d229b4-d358-4c26-9b7a-332c1812ade5",
   "metadata": {},
   "outputs": [
    {
     "data": {
      "text/latex": [
       "$\\displaystyle 2 \\hbar i A x$"
      ],
      "text/plain": [
       "2*hbar*I*A*x"
      ]
     },
     "execution_count": 21,
     "metadata": {},
     "output_type": "execute_result"
    }
   ],
   "source": [
    "p"
   ]
  },
  {
   "cell_type": "code",
   "execution_count": null,
   "id": "86961eed-c26d-4fc9-80d8-aeec076c71c2",
   "metadata": {},
   "outputs": [],
   "source": [
    "# Find the expected value of momentum\n",
    "expected_p = sp.integrate(psi * p.conjugate(), (x, -sp.oo, sp.oo))\n",
    "print(expected_p)"
   ]
  },
  {
   "cell_type": "code",
   "execution_count": null,
   "id": "b2f2ad1e-3df6-4939-bfb6-4dfb1c5e739a",
   "metadata": {},
   "outputs": [],
   "source": []
  }
 ],
 "metadata": {
  "kernelspec": {
   "display_name": "Python 3 (ipykernel)",
   "language": "python",
   "name": "python3"
  },
  "language_info": {
   "codemirror_mode": {
    "name": "ipython",
    "version": 3
   },
   "file_extension": ".py",
   "mimetype": "text/x-python",
   "name": "python",
   "nbconvert_exporter": "python",
   "pygments_lexer": "ipython3",
   "version": "3.8.15"
  }
 },
 "nbformat": 4,
 "nbformat_minor": 5
}
