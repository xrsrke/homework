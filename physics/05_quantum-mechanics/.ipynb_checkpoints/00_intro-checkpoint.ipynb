{
 "cells": [
  {
   "cell_type": "code",
   "execution_count": 3,
   "id": "f0008040-ec83-4588-964b-cf22a22de330",
   "metadata": {},
   "outputs": [],
   "source": [
    "import sympy as sym\n",
    "import sympy.physics.units as units"
   ]
  },
  {
   "cell_type": "markdown",
   "id": "de9cf2db-06be-4f5c-904a-3d0bcee76b0f",
   "metadata": {
    "tags": []
   },
   "source": [
    "##### Example 1"
   ]
  },
  {
   "cell_type": "markdown",
   "id": "a761896a-04dd-44b6-9ab4-aa436ec23024",
   "metadata": {},
   "source": [
    "An atom with a size of $0.1 \\mathrm{nm}$ and an energy of $10 \\mathrm{eV}$. Show me the math why the electron bahaves according to quantum mechanics?"
   ]
  },
  {
   "cell_type": "markdown",
   "id": "2e6e4d51-7d57-4527-86ac-829f94338e3f",
   "metadata": {},
   "source": [
    "$E = \\frac{p^2}{2m}$"
   ]
  },
  {
   "cell_type": "code",
   "execution_count": 39,
   "id": "dffdb37b-3509-4753-966c-9c98137bf4e3",
   "metadata": {},
   "outputs": [],
   "source": [
    "E, p, m = sym.symbols('E, p, m')"
   ]
  },
  {
   "cell_type": "code",
   "execution_count": 40,
   "id": "7a48311c-8209-4bf6-9faf-02ec3f44f6f0",
   "metadata": {},
   "outputs": [],
   "source": [
    "eq = sym.Eq(E, (p**2)/(2*m))"
   ]
  },
  {
   "cell_type": "code",
   "execution_count": 41,
   "id": "45978c50-a118-4fff-9a7a-90a49dd3e239",
   "metadata": {},
   "outputs": [
    {
     "data": {
      "text/latex": [
       "$\\displaystyle E = \\frac{p^{2}}{2 m}$"
      ],
      "text/plain": [
       "Eq(E, p**2/(2*m))"
      ]
     },
     "execution_count": 41,
     "metadata": {},
     "output_type": "execute_result"
    }
   ],
   "source": [
    "eq"
   ]
  },
  {
   "cell_type": "code",
   "execution_count": 42,
   "id": "c215f4d2-78b4-49e5-9d32-1220498bb1fa",
   "metadata": {},
   "outputs": [],
   "source": [
    "p_val = sym.solve(eq, p)"
   ]
  },
  {
   "cell_type": "code",
   "execution_count": 45,
   "id": "6b97c171-ed82-43db-85bc-433cf38f883f",
   "metadata": {},
   "outputs": [
    {
     "data": {
      "text/latex": [
       "$\\displaystyle - \\sqrt{2} \\sqrt{E m}$"
      ],
      "text/plain": [
       "-sqrt(2)*sqrt(E*m)"
      ]
     },
     "execution_count": 45,
     "metadata": {},
     "output_type": "execute_result"
    }
   ],
   "source": [
    "p_val[0]"
   ]
  },
  {
   "cell_type": "code",
   "execution_count": 46,
   "id": "d5132a64-e868-4bca-936e-48381723f9cc",
   "metadata": {},
   "outputs": [],
   "source": [
    "# p_val[0].subs({\n",
    "#     E: 10*units.electronvolt,\n",
    "#     m: 9.1093837e-31*units.kilogram\n",
    "# })"
   ]
  },
  {
   "cell_type": "code",
   "execution_count": 47,
   "id": "3a6d93f5-768d-413b-8a42-54d72db61801",
   "metadata": {},
   "outputs": [],
   "source": [
    "import pint\n",
    "ureg = pint.UnitRegistry()"
   ]
  },
  {
   "cell_type": "code",
   "execution_count": 48,
   "id": "b9be87e1-0455-4706-9370-01d206830670",
   "metadata": {},
   "outputs": [
    {
     "data": {
      "text/html": [
       "electron_volt"
      ],
      "text/latex": [
       "$\\mathrm{electron\\_volt}$"
      ],
      "text/plain": [
       "<Unit('electron_volt')>"
      ]
     },
     "execution_count": 48,
     "metadata": {},
     "output_type": "execute_result"
    }
   ],
   "source": [
    "ureg.electron_volt"
   ]
  },
  {
   "cell_type": "code",
   "execution_count": 49,
   "id": "4021dd35-6527-4161-94ff-2dcf40336fde",
   "metadata": {},
   "outputs": [
    {
     "data": {
      "text/latex": [
       "$\\displaystyle - \\sqrt{2} \\sqrt{E m}$"
      ],
      "text/plain": [
       "-sqrt(2)*sqrt(E*m)"
      ]
     },
     "execution_count": 49,
     "metadata": {},
     "output_type": "execute_result"
    }
   ],
   "source": [
    "p_val[0]"
   ]
  },
  {
   "cell_type": "code",
   "execution_count": 54,
   "id": "db71976b-d3b5-4d56-b1d1-fc18eee4fe68",
   "metadata": {},
   "outputs": [],
   "source": [
    "# p_val[0].subs({\n",
    "#     E: 10*ureg.electronlt,\n",
    "#     m: 9.1093837e-31*ureg.kilogram\n",
    "# })"
   ]
  },
  {
   "cell_type": "markdown",
   "id": "b288b1fd-cf05-4bb0-bf9f-7e16408d380e",
   "metadata": {},
   "source": [
    "##### Example 2"
   ]
  },
  {
   "cell_type": "markdown",
   "id": "108494c5-299d-4b4d-ba04-639a2300e13f",
   "metadata": {},
   "source": [
    "speck of dust in a light breeze\n",
    "- mass $\\sim 10^{-6} \\mathrm{~kg}$\n",
    "- velocity $\\sim 1 \\mathrm{~m} / \\mathrm{s}$\n",
    "- size $\\sim 10^{-5} \\mathrm{~m}$"
   ]
  },
  {
   "cell_type": "markdown",
   "id": "dc8537d6-2e1b-436d-bbe8-ddfd69e26770",
   "metadata": {},
   "source": [
    "**Answer**"
   ]
  },
  {
   "cell_type": "markdown",
   "id": "d30262d6-e88b-4c01-b36a-8afb2ef5536b",
   "metadata": {},
   "source": [
    "Momentum: $\\vec{p}=m \\cdot \\vec{v}$"
   ]
  },
  {
   "cell_type": "code",
   "execution_count": 69,
   "id": "35484a4a-0848-4aab-92fd-09e9ca410212",
   "metadata": {},
   "outputs": [],
   "source": [
    "m, v = sym.symbols('p, m')"
   ]
  },
  {
   "cell_type": "code",
   "execution_count": 70,
   "id": "196eb110-766f-4edd-a8c8-452d95b7f23e",
   "metadata": {},
   "outputs": [],
   "source": [
    "p = m*v"
   ]
  },
  {
   "cell_type": "code",
   "execution_count": 71,
   "id": "cb76c9ca-3c5e-4a12-9222-4026761e62b3",
   "metadata": {},
   "outputs": [],
   "source": [
    "p = p.subs({\n",
    "    m: 10e-6*units.kilogram,\n",
    "    v: 1*units.meter/units.second\n",
    "})"
   ]
  },
  {
   "cell_type": "code",
   "execution_count": 72,
   "id": "7289ff07-0376-4686-9bdc-ebba3e1dff52",
   "metadata": {},
   "outputs": [
    {
     "data": {
      "text/latex": [
       "$\\displaystyle \\frac{1.0 \\cdot 10^{-5} \\text{kg} \\text{m}}{\\text{s}}$"
      ],
      "text/plain": [
       "1.0e-5*kilogram*meter/second"
      ]
     },
     "execution_count": 72,
     "metadata": {},
     "output_type": "execute_result"
    }
   ],
   "source": [
    "p"
   ]
  },
  {
   "cell_type": "code",
   "execution_count": 73,
   "id": "fbf10a84-b793-4dc7-a24a-fa152f6c76de",
   "metadata": {},
   "outputs": [],
   "source": [
    "delta_x = 10e-6*units.meter"
   ]
  },
  {
   "cell_type": "code",
   "execution_count": 74,
   "id": "26b5db4a-13ff-4575-a908-7f67f3f1c86b",
   "metadata": {},
   "outputs": [
    {
     "data": {
      "text/latex": [
       "$\\displaystyle 1.0 \\cdot 10^{-5} \\text{m}$"
      ],
      "text/plain": [
       "1.0e-5*meter"
      ]
     },
     "execution_count": 74,
     "metadata": {},
     "output_type": "execute_result"
    }
   ],
   "source": [
    "delta_x"
   ]
  },
  {
   "cell_type": "code",
   "execution_count": 75,
   "id": "3e7e7e53-d4a2-4f70-b093-df63e737e4e4",
   "metadata": {},
   "outputs": [
    {
     "data": {
      "text/latex": [
       "$\\displaystyle \\frac{1.0 \\cdot 10^{-10} \\text{kg} \\text{m}^{2}}{\\text{s}} > \\hbar$"
      ],
      "text/plain": [
       "1.0e-10*kilogram*meter**2/second > hbar"
      ]
     },
     "execution_count": 75,
     "metadata": {},
     "output_type": "execute_result"
    }
   ],
   "source": [
    "p * delta_x > hbar"
   ]
  },
  {
   "cell_type": "code",
   "execution_count": 76,
   "id": "38495467-b081-47d7-8c21-0e47220a1ce9",
   "metadata": {},
   "outputs": [],
   "source": [
    "from sympy.physics.quantum.constants import hbar"
   ]
  },
  {
   "cell_type": "code",
   "execution_count": 67,
   "id": "c268443a-3087-428d-a1ee-591008967ded",
   "metadata": {},
   "outputs": [
    {
     "data": {
      "text/latex": [
       "$\\displaystyle \\hbar$"
      ],
      "text/plain": [
       "hbar"
      ]
     },
     "execution_count": 67,
     "metadata": {},
     "output_type": "execute_result"
    }
   ],
   "source": [
    "hbar"
   ]
  },
  {
   "cell_type": "code",
   "execution_count": null,
   "id": "4fd570fa-d761-48cd-bd3c-855b2e9588c2",
   "metadata": {},
   "outputs": [],
   "source": []
  },
  {
   "cell_type": "code",
   "execution_count": null,
   "id": "1b6da753-8c41-467d-8949-e67251eb3f7d",
   "metadata": {},
   "outputs": [],
   "source": []
  },
  {
   "cell_type": "code",
   "execution_count": null,
   "id": "9f372843-2bde-4f53-9c80-c26103a3548c",
   "metadata": {},
   "outputs": [],
   "source": []
  },
  {
   "cell_type": "code",
   "execution_count": null,
   "id": "f463036b-6fbb-42f8-ad15-82c43b3248a4",
   "metadata": {},
   "outputs": [],
   "source": []
  },
  {
   "cell_type": "markdown",
   "id": "dd296cb8-ad4e-457f-a063-1ef06c2dbe81",
   "metadata": {},
   "source": [
    "##### Example 3"
   ]
  },
  {
   "cell_type": "markdown",
   "id": "cb78d3a8-e061-480a-957a-dde63ecbd3be",
   "metadata": {},
   "source": [
    "If the timescale of interaction of two helium atoms is 10 ns, what\n",
    "is the energy scale where quantum effects become important?"
   ]
  },
  {
   "cell_type": "markdown",
   "id": "723c4e3c-b1ab-44db-92ee-ec7fa1d411d4",
   "metadata": {},
   "source": [
    "**Answer**"
   ]
  },
  {
   "cell_type": "markdown",
   "id": "9008624a-7e9a-44ef-abde-9861ed97e5ad",
   "metadata": {},
   "source": [
    "Uncertainty principle states that the product of uncertainties in position and momentum must be greater or equal to $\\hbar$"
   ]
  },
  {
   "cell_type": "markdown",
   "id": "15e5b742-7871-431d-a683-a9f9cdc27b65",
   "metadata": {},
   "source": [
    "$\\Delta E \\Delta t \\sim \\hbar$"
   ]
  },
  {
   "cell_type": "code",
   "execution_count": 125,
   "id": "cadbf8ce-3681-4934-81b6-a3d953a8d9e8",
   "metadata": {},
   "outputs": [],
   "source": [
    "E, h, delta_t = smp.symbols('E h Δt')"
   ]
  },
  {
   "cell_type": "code",
   "execution_count": 126,
   "id": "27216c6d-8d60-49e7-8049-7e252f334fd8",
   "metadata": {},
   "outputs": [],
   "source": [
    "lhs = E*10e-9*units.second"
   ]
  },
  {
   "cell_type": "code",
   "execution_count": 127,
   "id": "d27a71b3-3bda-4543-b6c0-50dc4c97a238",
   "metadata": {},
   "outputs": [
    {
     "data": {
      "text/latex": [
       "$\\displaystyle 1.0 \\cdot 10^{-8} E \\text{s}$"
      ],
      "text/plain": [
       "1.0e-8⋅E⋅second"
      ]
     },
     "execution_count": 127,
     "metadata": {},
     "output_type": "execute_result"
    }
   ],
   "source": [
    "lhs"
   ]
  },
  {
   "cell_type": "code",
   "execution_count": null,
   "id": "3be86abc-1170-4f9d-8cfb-0574442ce05d",
   "metadata": {},
   "outputs": [],
   "source": []
  },
  {
   "cell_type": "code",
   "execution_count": 85,
   "id": "871b862f-c045-4eb9-9987-300bb9ac6d43",
   "metadata": {},
   "outputs": [],
   "source": [
    "import sympy as smp\n",
    "init_printing(use_unicode=True, use_latex='mathjax')"
   ]
  },
  {
   "cell_type": "code",
   "execution_count": 113,
   "id": "159778fc-36d7-4cc5-97f0-72eb7028c882",
   "metadata": {},
   "outputs": [],
   "source": [
    "E, h, delta_t = smp.symbols('E h Δt')"
   ]
  },
  {
   "cell_type": "code",
   "execution_count": 114,
   "id": "f1d3677d-e722-4e78-bd69-8b45c5816e67",
   "metadata": {},
   "outputs": [],
   "source": [
    "eq = E*delta_t >= h/(2*pi)"
   ]
  },
  {
   "cell_type": "code",
   "execution_count": 115,
   "id": "0d0a1ebb-f947-410c-9099-80e112b6829c",
   "metadata": {},
   "outputs": [
    {
     "data": {
      "text/latex": [
       "$\\displaystyle E Δt \\geq \\frac{h}{2 \\pi}$"
      ],
      "text/plain": [
       "        h \n",
       "E⋅Δt ≥ ───\n",
       "       2⋅π"
      ]
     },
     "execution_count": 115,
     "metadata": {},
     "output_type": "execute_result"
    }
   ],
   "source": [
    "eq"
   ]
  },
  {
   "cell_type": "code",
   "execution_count": 116,
   "id": "febfe3d0-80cb-4fbe-b319-6b8fd94cfd26",
   "metadata": {},
   "outputs": [],
   "source": [
    "solutions = smp.solve(eq, E)"
   ]
  },
  {
   "cell_type": "code",
   "execution_count": 117,
   "id": "988b85ec-482e-4ce4-ac08-c82cb894e46b",
   "metadata": {},
   "outputs": [
    {
     "data": {
      "text/latex": [
       "$\\displaystyle E Δt \\geq \\frac{h}{2 \\pi}$"
      ],
      "text/plain": [
       "        h \n",
       "E⋅Δt ≥ ───\n",
       "       2⋅π"
      ]
     },
     "execution_count": 117,
     "metadata": {},
     "output_type": "execute_result"
    }
   ],
   "source": [
    "solutions"
   ]
  },
  {
   "cell_type": "code",
   "execution_count": 118,
   "id": "f9863cdf-6890-47dd-85e9-7906a93cca80",
   "metadata": {},
   "outputs": [],
   "source": [
    "_eq = smp.Eq(E*delta_t, h)"
   ]
  },
  {
   "cell_type": "code",
   "execution_count": 119,
   "id": "b9a6c857-db65-4a9f-ac83-bcfc501d5b89",
   "metadata": {},
   "outputs": [
    {
     "data": {
      "text/latex": [
       "$\\displaystyle E Δt = h$"
      ],
      "text/plain": [
       "E⋅Δt = h"
      ]
     },
     "execution_count": 119,
     "metadata": {},
     "output_type": "execute_result"
    }
   ],
   "source": [
    "_eq"
   ]
  },
  {
   "cell_type": "code",
   "execution_count": 122,
   "id": "9fa54bd7-bbe4-4a4b-8607-e93094944585",
   "metadata": {},
   "outputs": [],
   "source": [
    "E_val = smp.solve(_eq, E)"
   ]
  },
  {
   "cell_type": "code",
   "execution_count": 124,
   "id": "fb033c3c-3ebc-4a55-b66c-6c298de3e962",
   "metadata": {},
   "outputs": [
    {
     "data": {
      "text/latex": [
       "$\\displaystyle \\frac{h}{Δt}$"
      ],
      "text/plain": [
       "h \n",
       "──\n",
       "Δt"
      ]
     },
     "execution_count": 124,
     "metadata": {},
     "output_type": "execute_result"
    }
   ],
   "source": [
    "E_val[0].subs({\n",
    "    h: \n",
    "})"
   ]
  },
  {
   "cell_type": "code",
   "execution_count": null,
   "id": "1cae7f6b-7e69-40d4-8d48-a66ed0b195ee",
   "metadata": {},
   "outputs": [],
   "source": []
  }
 ],
 "metadata": {
  "kernelspec": {
   "display_name": "Python 3 (ipykernel)",
   "language": "python",
   "name": "python3"
  },
  "language_info": {
   "codemirror_mode": {
    "name": "ipython",
    "version": 3
   },
   "file_extension": ".py",
   "mimetype": "text/x-python",
   "name": "python",
   "nbconvert_exporter": "python",
   "pygments_lexer": "ipython3",
   "version": "3.8.15"
  }
 },
 "nbformat": 4,
 "nbformat_minor": 5
}
