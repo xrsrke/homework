{
 "cells": [
  {
   "cell_type": "code",
   "execution_count": null,
   "id": "338566b4-55c7-45a6-b8d8-35e0b509ab7b",
   "metadata": {},
   "outputs": [],
   "source": [
    "import numpy as np"
   ]
  },
  {
   "cell_type": "code",
   "execution_count": null,
   "id": "8b326d55-a917-4a29-9b9d-d9d0585ddb91",
   "metadata": {},
   "outputs": [],
   "source": [
    "x = np.linspace(-10, 10, 5000)"
   ]
  },
  {
   "cell_type": "code",
   "execution_count": null,
   "id": "73eeda98-dab5-4c47-991c-a3c40a6a311a",
   "metadata": {},
   "outputs": [],
   "source": [
    "delta_x = x[1] - x[0]"
   ]
  },
  {
   "cell_type": "markdown",
   "id": "5eb08e8f-09e9-40fa-aa86-d9af1e21f5f5",
   "metadata": {},
   "source": [
    "$\\text{norm}(\\phi) = \\frac{\\phi}{\\sqrt{\\sum|\\phi|^2 \\Delta x}}$\n",
    "\n",
    "\n",
    "\n"
   ]
  },
  {
   "cell_type": "code",
   "execution_count": null,
   "id": "2a323e4a-9fe3-4890-bec7-e9ef40ef5198",
   "metadata": {},
   "outputs": [],
   "source": [
    "def norm(phi):\n",
    "    norm = np.sum(np.square(np.abs(phi)))*delta_x\n",
    "    return phi/np.sqrt(norm)"
   ]
  },
  {
   "cell_type": "code",
   "execution_count": null,
   "id": "f7be47ad-5cdf-44ce-8d6f-42748b8687de",
   "metadata": {},
   "outputs": [
    {
     "data": {
      "text/plain": [
       "5.684341886080802e-14"
      ]
     },
     "execution_count": null,
     "metadata": {},
     "output_type": "execute_result"
    }
   ],
   "source": [
    "norm(x).sum()"
   ]
  },
  {
   "cell_type": "code",
   "execution_count": null,
   "id": "59eab9d3-e039-475e-bc50-231154d4a176",
   "metadata": {},
   "outputs": [],
   "source": [
    "def complex_lot(x, y, prob=True, **kwargs):\n",
    "    real = np.real(x)\n",
    "    imag = np.imag(y)\n",
    "    \n",
    "    a, *_ = plt.plot(x, real, label=\"Re\", **kwargs)\n",
    "    b, *_ = plt.plot(x, imag, label=\"Im\", **kwargs)\n",
    "    plt.xlim(-2, 2)\n",
    "    \n",
    "    if prob:\n",
    "        p, *_ = plt.plot(x, np.abs(y), label=\"$\\sqrt{P}$\")\n",
    "        return a, b, p\n",
    "    else:\n",
    "        return a, b"
   ]
  },
  {
   "cell_type": "markdown",
   "id": "94328371-60a5-4258-b032-d7b6fe73fbb0",
   "metadata": {},
   "source": [
    "$$\\psi(x) = \\frac{1}{\\sqrt{N}} e^{-i p x/\\hbar} e^{-(x - x_0)^2/2\\sigma^2}$$\n",
    "\n"
   ]
  },
  {
   "cell_type": "code",
   "execution_count": null,
   "id": "95346741-841f-436c-8c4e-0c0573a55469",
   "metadata": {},
   "outputs": [],
   "source": []
  }
 ],
 "metadata": {
  "kernelspec": {
   "display_name": "Python 3 (ipykernel)",
   "language": "python",
   "name": "python3"
  }
 },
 "nbformat": 4,
 "nbformat_minor": 5
}
