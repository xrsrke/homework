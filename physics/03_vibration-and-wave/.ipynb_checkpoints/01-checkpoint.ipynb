{
 "cells": [
  {
   "cell_type": "code",
   "execution_count": 21,
   "id": "3b00bc46",
   "metadata": {},
   "outputs": [],
   "source": [
    "import sympy as sym\n",
    "import sympy.physics.units as units\n",
    "import pint\n",
    "ureg = pint.UnitRegistry()"
   ]
  },
  {
   "cell_type": "markdown",
   "id": "2503bb01",
   "metadata": {},
   "source": [
    "### Simple Harmonic Motion"
   ]
  },
  {
   "cell_type": "code",
   "execution_count": 2,
   "id": "99a5e624",
   "metadata": {},
   "outputs": [],
   "source": [
    "import sympy as sym\n",
    "\n",
    "T = sym.Symbol('T')\n",
    "f = sym.Symbol('f')\n",
    "A = sym.Symbol('A')\n",
    "t = sym.Symbol('t')\n",
    "x = sym.Symbol('x')"
   ]
  },
  {
   "cell_type": "markdown",
   "id": "69f25dd7",
   "metadata": {},
   "source": [
    "#### Example 1"
   ]
  },
  {
   "cell_type": "code",
   "execution_count": 3,
   "id": "744f7f94",
   "metadata": {},
   "outputs": [],
   "source": [
    "import pint\n",
    "ureg = pint.UnitRegistry()"
   ]
  },
  {
   "cell_type": "markdown",
   "id": "d5a18b6e",
   "metadata": {},
   "source": [
    "An object that undergoes simple harmonic motion takes 0.25 sec to travel from one point\n",
    "of zero velocity to the next. If the distance between these points is 36 cm. Calculate the following:\n",
    "- a) period (T)\n",
    "- b) frequency (f)\n",
    "- c) amplitude of this motion (A)"
   ]
  },
  {
   "cell_type": "markdown",
   "id": "22308217",
   "metadata": {},
   "source": [
    "**Answer a**\n",
    "\n",
    "The time it takes for the object to travel from one point of zero velocity to the next is 0.25 seconds. Because the motion is simple harmonic, so it will travel back and forth to complete one period"
   ]
  },
  {
   "cell_type": "code",
   "execution_count": 4,
   "id": "aa7cd1a9",
   "metadata": {},
   "outputs": [],
   "source": [
    "T = (0.25 * ureg.second) * 2"
   ]
  },
  {
   "cell_type": "code",
   "execution_count": 5,
   "id": "2bdf0e59",
   "metadata": {},
   "outputs": [
    {
     "data": {
      "text/html": [
       "0.5 second"
      ],
      "text/latex": [
       "$0.5\\ \\mathrm{second}$"
      ],
      "text/plain": [
       "0.5 <Unit('second')>"
      ]
     },
     "execution_count": 5,
     "metadata": {},
     "output_type": "execute_result"
    }
   ],
   "source": [
    "T"
   ]
  },
  {
   "cell_type": "markdown",
   "id": "70d26423",
   "metadata": {},
   "source": [
    "**Answer b**"
   ]
  },
  {
   "cell_type": "code",
   "execution_count": 6,
   "id": "971be764",
   "metadata": {},
   "outputs": [
    {
     "data": {
      "text/html": [
       "0.5 second"
      ],
      "text/latex": [
       "$0.5\\ \\mathrm{second}$"
      ],
      "text/plain": [
       "0.5 <Unit('second')>"
      ]
     },
     "execution_count": 6,
     "metadata": {},
     "output_type": "execute_result"
    }
   ],
   "source": [
    "T"
   ]
  },
  {
   "cell_type": "code",
   "execution_count": 7,
   "id": "5ed86c3c",
   "metadata": {},
   "outputs": [],
   "source": [
    "f = 1 / T"
   ]
  },
  {
   "cell_type": "code",
   "execution_count": 8,
   "id": "de35430c",
   "metadata": {},
   "outputs": [
    {
     "data": {
      "text/html": [
       "2.0 1/second"
      ],
      "text/latex": [
       "$2.0\\ \\frac{1}{\\mathrm{second}}$"
      ],
      "text/plain": [
       "2.0 <Unit('1 / second')>"
      ]
     },
     "execution_count": 8,
     "metadata": {},
     "output_type": "execute_result"
    }
   ],
   "source": [
    "f"
   ]
  },
  {
   "cell_type": "markdown",
   "id": "990cad27",
   "metadata": {},
   "source": [
    "**Answer c**"
   ]
  },
  {
   "cell_type": "markdown",
   "id": "9d34eba6",
   "metadata": {},
   "source": [
    "We know that the distance between the points of zero velocity is 36 cm. Since the motion is simple harmonic, the amplitude is half that distance, so we can calculate the amplitude as follows:"
   ]
  },
  {
   "cell_type": "code",
   "execution_count": 9,
   "id": "4e3f8ae4",
   "metadata": {},
   "outputs": [],
   "source": [
    "d = 36 * ureg.centimeter"
   ]
  },
  {
   "cell_type": "code",
   "execution_count": 10,
   "id": "e8b45ae0",
   "metadata": {},
   "outputs": [],
   "source": [
    "A = (d / 2).to('meter')"
   ]
  },
  {
   "cell_type": "code",
   "execution_count": 11,
   "id": "32b8777b",
   "metadata": {},
   "outputs": [
    {
     "data": {
      "text/html": [
       "0.18 meter"
      ],
      "text/latex": [
       "$0.18\\ \\mathrm{meter}$"
      ],
      "text/plain": [
       "0.18 <Unit('meter')>"
      ]
     },
     "execution_count": 11,
     "metadata": {},
     "output_type": "execute_result"
    }
   ],
   "source": [
    "A"
   ]
  },
  {
   "cell_type": "markdown",
   "id": "b572dc09",
   "metadata": {},
   "source": [
    "##### Example 2"
   ]
  },
  {
   "cell_type": "markdown",
   "id": "efa5e038",
   "metadata": {},
   "source": [
    "Open book"
   ]
  },
  {
   "cell_type": "markdown",
   "id": "7d8b1a08",
   "metadata": {},
   "source": [
    "A `0.10 kg` block oscillates on a frictionless surface. The distance from rest position as a function of time is:"
   ]
  },
  {
   "cell_type": "markdown",
   "id": "e257dbc4",
   "metadata": {},
   "source": [
    "$x(t)=10 \\cos(10 t+ \\frac{\\pi}{2})$"
   ]
  },
  {
   "cell_type": "markdown",
   "id": "6acb363a",
   "metadata": {},
   "source": [
    "a) What is the oscillation frequency in Hz?"
   ]
  },
  {
   "cell_type": "markdown",
   "id": "f8468347",
   "metadata": {},
   "source": [
    "### Energy in SHM"
   ]
  },
  {
   "cell_type": "markdown",
   "id": "37eb5922",
   "metadata": {},
   "source": [
    "##### Example 1"
   ]
  },
  {
   "cell_type": "markdown",
   "id": "c78108c5",
   "metadata": {},
   "source": [
    "A block of mass $M$ attached to a horizontal spring with force constant $k$ is moving in SHM with amplitude $A_1$. As the block passes through its equilibrium position, a lump of putty of mass $m$ is dropped from a small height and sticks to it.\n",
    "\n",
    "- (a) Find the new amplitude and period of the motion.\n",
    "\n",
    "- (b) Repeat part (a) if the putty is dropped onto the block when it is at one end of its path."
   ]
  },
  {
   "cell_type": "markdown",
   "id": "32fa1c3b",
   "metadata": {},
   "source": [
    "##### Example 2"
   ]
  },
  {
   "cell_type": "markdown",
   "id": "7ded116e",
   "metadata": {},
   "source": [
    "**Open book**"
   ]
  },
  {
   "cell_type": "markdown",
   "id": "238e7d9a",
   "metadata": {},
   "source": [
    "What is the total mechanical energy of a block-spring system where the spring constant is $1.3 \\mathrm{~N} / \\mathrm{cm}$ and the amplitude is $2.4 \\mathrm{~cm}$ ?"
   ]
  },
  {
   "cell_type": "markdown",
   "id": "cc759530",
   "metadata": {},
   "source": [
    "**Answer**"
   ]
  },
  {
   "cell_type": "markdown",
   "id": "75e0cf99",
   "metadata": {},
   "source": [
    "The total mechanical energy in a SHM: $E_{T O T}=\\frac{1}{2} k A^2$"
   ]
  },
  {
   "cell_type": "code",
   "execution_count": 12,
   "id": "9875a7dd",
   "metadata": {},
   "outputs": [],
   "source": [
    "k = 1.3*units.newton/units.centimeter"
   ]
  },
  {
   "cell_type": "code",
   "execution_count": 13,
   "id": "b2972f54",
   "metadata": {},
   "outputs": [],
   "source": [
    "k = units.convert_to(k, units.meter)"
   ]
  },
  {
   "cell_type": "code",
   "execution_count": 14,
   "id": "aaf77424",
   "metadata": {},
   "outputs": [
    {
     "data": {
      "text/latex": [
       "$\\displaystyle \\frac{130.0 \\text{N}}{\\text{m}}$"
      ],
      "text/plain": [
       "130.0*newton/meter"
      ]
     },
     "execution_count": 14,
     "metadata": {},
     "output_type": "execute_result"
    }
   ],
   "source": [
    "k"
   ]
  },
  {
   "cell_type": "code",
   "execution_count": 15,
   "id": "add190f9",
   "metadata": {},
   "outputs": [],
   "source": [
    "A = 2.4 * units.centimeter"
   ]
  },
  {
   "cell_type": "code",
   "execution_count": 16,
   "id": "542acfba",
   "metadata": {},
   "outputs": [],
   "source": [
    "A = units.convert_to(A, units.meter)"
   ]
  },
  {
   "cell_type": "code",
   "execution_count": 17,
   "id": "eb3abb69",
   "metadata": {},
   "outputs": [
    {
     "data": {
      "text/latex": [
       "$\\displaystyle 0.024 \\text{m}$"
      ],
      "text/plain": [
       "0.024*meter"
      ]
     },
     "execution_count": 17,
     "metadata": {},
     "output_type": "execute_result"
    }
   ],
   "source": [
    "A"
   ]
  },
  {
   "cell_type": "code",
   "execution_count": 18,
   "id": "faefe304",
   "metadata": {},
   "outputs": [],
   "source": [
    "E_total = 0.5 * k * A**2"
   ]
  },
  {
   "cell_type": "code",
   "execution_count": 19,
   "id": "1e5302f5",
   "metadata": {},
   "outputs": [
    {
     "data": {
      "text/latex": [
       "$\\displaystyle 0.03744 \\text{m} \\text{N}$"
      ],
      "text/plain": [
       "0.03744*meter*newton"
      ]
     },
     "execution_count": 19,
     "metadata": {},
     "output_type": "execute_result"
    }
   ],
   "source": [
    "E_total"
   ]
  },
  {
   "cell_type": "code",
   "execution_count": 20,
   "id": "9e203da2",
   "metadata": {
    "scrolled": true
   },
   "outputs": [
    {
     "data": {
      "text/latex": [
       "$\\displaystyle 0.03744 \\text{J}$"
      ],
      "text/plain": [
       "0.03744*joule"
      ]
     },
     "execution_count": 20,
     "metadata": {},
     "output_type": "execute_result"
    }
   ],
   "source": [
    "units.convert_to(E_total, units.joule)"
   ]
  },
  {
   "cell_type": "markdown",
   "id": "ece16cb7-5196-45f4-8c9d-e30bf440f6c9",
   "metadata": {},
   "source": [
    "### Energy of SMH"
   ]
  },
  {
   "cell_type": "markdown",
   "id": "49e9bdf5-a279-4986-8aab-235c526ad786",
   "metadata": {},
   "source": [
    "##### Example 1"
   ]
  },
  {
   "cell_type": "markdown",
   "id": "db3756df-7aeb-4051-97d3-7db4b4705ad3",
   "metadata": {},
   "source": [
    "**Open book**: A large slingshot is stretched $1.5$ meters to launch a $130 \\mathrm{g}$ projectile at a speed of $11.2 \\mathrm{km} / \\mathrm{s}$, which is enough to escape Earth's gravity.\n",
    "\n",
    "a) What is the spring constant?"
   ]
  },
  {
   "cell_type": "markdown",
   "id": "57e8aa5e-6164-4477-bf75-286ad9a89a9e",
   "metadata": {},
   "source": [
    "Known quantities:\n",
    "- $A = 1.5 \\mathrm{m}$\n",
    "- $m = 130 \\mathrm{g}$\n",
    "- $v_0 = 11.2 \\mathrm{km}/\\mathrm{s}$"
   ]
  },
  {
   "cell_type": "code",
   "execution_count": 96,
   "id": "cacf2f8c-861d-4d49-a5f2-167215b5af70",
   "metadata": {},
   "outputs": [],
   "source": [
    "E_tot, k, A_0, m, v_2 = sym.symbols('E_tot, k, A_0, m, v_2')"
   ]
  },
  {
   "cell_type": "markdown",
   "id": "cfb56828-ccf2-4ce5-b318-dc282546ba4c",
   "metadata": {},
   "source": [
    "**Notations**:\n",
    "- $U_0$ is the potential energy before release the slingshot\n",
    "- $U_1$ is the potential energy after release the slingshot (reach $11.2 \\mathrm{~km} / \\mathrm{s}$)\n",
    "- Same for $K_0$ and $K_1$"
   ]
  },
  {
   "cell_type": "markdown",
   "id": "32176272-54d7-41d3-b638-ef79c0b96196",
   "metadata": {},
   "source": [
    "**Step 1:** The total mechanical energy of the slingshot: $E_{tot}=\\frac{1}{2} k A^2$"
   ]
  },
  {
   "cell_type": "code",
   "execution_count": 92,
   "id": "ad202bf2-26b9-4f1a-ba22-b60a1bf5dd6f",
   "metadata": {},
   "outputs": [],
   "source": [
    "E_tot = 0.5 * k * A_0**2"
   ]
  },
  {
   "cell_type": "code",
   "execution_count": 93,
   "id": "940eadb3-74ab-48e0-ab81-ab650dd5ac1e",
   "metadata": {},
   "outputs": [
    {
     "data": {
      "text/latex": [
       "$\\displaystyle 0.5 A_{0}^{2} k$"
      ],
      "text/plain": [
       "0.5*A_0**2*k"
      ]
     },
     "execution_count": 93,
     "metadata": {},
     "output_type": "execute_result"
    }
   ],
   "source": [
    "E_tot"
   ]
  },
  {
   "cell_type": "markdown",
   "id": "2a98b574-4f77-4995-92ae-e67ce0e6f98a",
   "metadata": {},
   "source": [
    "Before release the slingshot, the kinetic energy is zero, so we have the total energy is equal to the potential energy"
   ]
  },
  {
   "cell_type": "code",
   "execution_count": 94,
   "id": "04bcd128-2c32-4090-8b52-dc791c8ec9a3",
   "metadata": {},
   "outputs": [],
   "source": [
    "U_0 = E_tot"
   ]
  },
  {
   "cell_type": "code",
   "execution_count": 95,
   "id": "cfab20c5-fc4d-4c4a-bb98-143ffa711243",
   "metadata": {},
   "outputs": [
    {
     "data": {
      "text/latex": [
       "$\\displaystyle 0.5 A_{0}^{2} k$"
      ],
      "text/plain": [
       "0.5*A_0**2*k"
      ]
     },
     "execution_count": 95,
     "metadata": {},
     "output_type": "execute_result"
    }
   ],
   "source": [
    "U_0"
   ]
  },
  {
   "cell_type": "markdown",
   "id": "6f608982-42b9-4d01-b6c9-a78ea1a7fbc7",
   "metadata": {},
   "source": [
    "**Step 2**: Kinetic energy of the slongshot at the moment it leaves: $K=\\frac{1}{2} m v^2$"
   ]
  },
  {
   "cell_type": "code",
   "execution_count": 97,
   "id": "b0230a8f-d9af-4ab6-8fcf-49f1dcfe6d4f",
   "metadata": {},
   "outputs": [],
   "source": [
    "K_1 = 0.5*m*v_2**2"
   ]
  },
  {
   "cell_type": "code",
   "execution_count": 98,
   "id": "1c4829b7-c4cf-4b72-b81b-f7260f5be536",
   "metadata": {},
   "outputs": [
    {
     "data": {
      "text/latex": [
       "$\\displaystyle 0.5 m v_{2}^{2}$"
      ],
      "text/plain": [
       "0.5*m*v_2**2"
      ]
     },
     "execution_count": 98,
     "metadata": {},
     "output_type": "execute_result"
    }
   ],
   "source": [
    "K_1"
   ]
  },
  {
   "cell_type": "markdown",
   "id": "cb9a85a4-fc48-4bbd-bfee-1cd0ed00c862",
   "metadata": {},
   "source": [
    "**Step 3**:"
   ]
  },
  {
   "cell_type": "markdown",
   "id": "92bae2a7-d627-418d-9918-4206712776d9",
   "metadata": {},
   "source": [
    "According to the law conservation of mechanical energy: $K_0 +U_0 =K_1 +U_1$"
   ]
  },
  {
   "cell_type": "markdown",
   "id": "d04f9af5-f23a-4279-a609-80b876ecde5b",
   "metadata": {},
   "source": [
    "At the moment the slingshot reaches $11.2 \\mathrm{~km} / \\mathrm{s}$. It delivery all of its potential energy to kinetic energy. So we have"
   ]
  },
  {
   "cell_type": "code",
   "execution_count": 99,
   "id": "91fb224f-1fa9-4c08-9d7c-a7b9bdd5ef58",
   "metadata": {},
   "outputs": [],
   "source": [
    "eq = sym.Eq(U_0, K_1)"
   ]
  },
  {
   "cell_type": "code",
   "execution_count": 100,
   "id": "80528ae3-20e9-409e-8652-d1422ef03874",
   "metadata": {},
   "outputs": [
    {
     "data": {
      "text/latex": [
       "$\\displaystyle 0.5 A_{0}^{2} k = 0.5 m v_{2}^{2}$"
      ],
      "text/plain": [
       "Eq(0.5*A_0**2*k, 0.5*m*v_2**2)"
      ]
     },
     "execution_count": 100,
     "metadata": {},
     "output_type": "execute_result"
    }
   ],
   "source": [
    "eq"
   ]
  },
  {
   "cell_type": "code",
   "execution_count": 101,
   "id": "ab2a9bf8-c65e-40ab-9b93-0e4b8fce268f",
   "metadata": {},
   "outputs": [],
   "source": [
    "k_val = sym.solve(eq, k)"
   ]
  },
  {
   "cell_type": "code",
   "execution_count": 102,
   "id": "c1597c75-459a-4ed9-94d0-ff2b51779060",
   "metadata": {},
   "outputs": [
    {
     "data": {
      "text/latex": [
       "$\\displaystyle \\frac{m v_{2}^{2}}{A_{0}^{2}}$"
      ],
      "text/plain": [
       "m*v_2**2/A_0**2"
      ]
     },
     "execution_count": 102,
     "metadata": {},
     "output_type": "execute_result"
    }
   ],
   "source": [
    "k_val[0]"
   ]
  },
  {
   "cell_type": "code",
   "execution_count": 108,
   "id": "ba750545-e8d9-42e3-a415-2f77dbe41e3f",
   "metadata": {},
   "outputs": [
    {
     "data": {
      "text/latex": [
       "$\\displaystyle \\text{m}$"
      ],
      "text/plain": [
       "meter"
      ]
     },
     "execution_count": 108,
     "metadata": {},
     "output_type": "execute_result"
    }
   ],
   "source": [
    "units.meters"
   ]
  },
  {
   "cell_type": "code",
   "execution_count": 109,
   "id": "9f0f2b54-a75c-4059-8297-0ad16bbbfae6",
   "metadata": {},
   "outputs": [
    {
     "name": "stderr",
     "output_type": "stream",
     "text": [
      "/Users/education/miniforge3/envs/gym/lib/python3.8/site-packages/sympy/core/basic.py:1088: SymPyDeprecationWarning: \n",
      "\n",
      "The 'dimension' argument to to Quantity() is deprecated.\n",
      "Instead use the unit_system.set_quantity_dimension() method.\n",
      "\n",
      "See https://docs.sympy.org/latest/explanation/active-deprecations.html#deprecated-quantity-dimension-scale-factor\n",
      "for details.\n",
      "\n",
      "This has been deprecated since SymPy version 1.3. It\n",
      "will be removed in a future version of SymPy.\n",
      "\n",
      "  rv = self.func(*args)\n"
     ]
    },
    {
     "ename": "ValueError",
     "evalue": "expected dimension or 1",
     "output_type": "error",
     "traceback": [
      "\u001b[0;31m---------------------------------------------------------------------------\u001b[0m",
      "\u001b[0;31mValueError\u001b[0m                                Traceback (most recent call last)",
      "Cell \u001b[0;32mIn[109], line 1\u001b[0m\n\u001b[0;32m----> 1\u001b[0m \u001b[43mk_val\u001b[49m\u001b[43m[\u001b[49m\u001b[38;5;241;43m0\u001b[39;49m\u001b[43m]\u001b[49m\u001b[38;5;241;43m.\u001b[39;49m\u001b[43msubs\u001b[49m\u001b[43m(\u001b[49m\u001b[43m{\u001b[49m\n\u001b[1;32m      2\u001b[0m \u001b[43m    \u001b[49m\u001b[43mA_0\u001b[49m\u001b[43m:\u001b[49m\u001b[43m \u001b[49m\u001b[38;5;241;43m1.5\u001b[39;49m\u001b[38;5;241;43m*\u001b[39;49m\u001b[43munits\u001b[49m\u001b[38;5;241;43m.\u001b[39;49m\u001b[43mmeters\u001b[49m\u001b[43m,\u001b[49m\n\u001b[1;32m      3\u001b[0m \u001b[43m    \u001b[49m\u001b[43mm\u001b[49m\u001b[43m:\u001b[49m\u001b[43m \u001b[49m\u001b[43munits\u001b[49m\u001b[38;5;241;43m.\u001b[39;49m\u001b[43mconvert_to\u001b[49m\u001b[43m(\u001b[49m\u001b[38;5;241;43m130\u001b[39;49m\u001b[38;5;241;43m*\u001b[39;49m\u001b[43munits\u001b[49m\u001b[38;5;241;43m.\u001b[39;49m\u001b[43mgram\u001b[49m\u001b[43m,\u001b[49m\u001b[43m \u001b[49m\u001b[43munits\u001b[49m\u001b[38;5;241;43m.\u001b[39;49m\u001b[43mkilogram\u001b[49m\u001b[43m)\u001b[49m\u001b[43m,\u001b[49m\n\u001b[1;32m      4\u001b[0m \u001b[43m    \u001b[49m\u001b[43mv_2\u001b[49m\u001b[43m:\u001b[49m\u001b[43m \u001b[49m\u001b[43munits\u001b[49m\u001b[38;5;241;43m.\u001b[39;49m\u001b[43mconvert_to\u001b[49m\u001b[43m(\u001b[49m\u001b[38;5;241;43m11.2\u001b[39;49m\u001b[38;5;241;43m*\u001b[39;49m\u001b[43munits\u001b[49m\u001b[38;5;241;43m.\u001b[39;49m\u001b[43mkilometer\u001b[49m\u001b[38;5;241;43m/\u001b[39;49m\u001b[43munits\u001b[49m\u001b[38;5;241;43m.\u001b[39;49m\u001b[43msecond\u001b[49m\u001b[43m,\u001b[49m\u001b[43m \u001b[49m\u001b[43munits\u001b[49m\u001b[38;5;241;43m.\u001b[39;49m\u001b[43mmeter\u001b[49m\u001b[43m)\u001b[49m\n\u001b[1;32m      5\u001b[0m \u001b[43m}\u001b[49m\u001b[43m)\u001b[49m\n",
      "File \u001b[0;32m~/miniforge3/envs/gym/lib/python3.8/site-packages/sympy/core/basic.py:997\u001b[0m, in \u001b[0;36mBasic.subs\u001b[0;34m(self, *args, **kwargs)\u001b[0m\n\u001b[1;32m    995\u001b[0m rv \u001b[38;5;241m=\u001b[39m \u001b[38;5;28mself\u001b[39m\n\u001b[1;32m    996\u001b[0m \u001b[38;5;28;01mfor\u001b[39;00m old, new \u001b[38;5;129;01min\u001b[39;00m sequence:\n\u001b[0;32m--> 997\u001b[0m     rv \u001b[38;5;241m=\u001b[39m \u001b[43mrv\u001b[49m\u001b[38;5;241;43m.\u001b[39;49m\u001b[43m_subs\u001b[49m\u001b[43m(\u001b[49m\u001b[43mold\u001b[49m\u001b[43m,\u001b[49m\u001b[43m \u001b[49m\u001b[43mnew\u001b[49m\u001b[43m,\u001b[49m\u001b[43m \u001b[49m\u001b[38;5;241;43m*\u001b[39;49m\u001b[38;5;241;43m*\u001b[39;49m\u001b[43mkwargs\u001b[49m\u001b[43m)\u001b[49m\n\u001b[1;32m    998\u001b[0m     \u001b[38;5;28;01mif\u001b[39;00m \u001b[38;5;129;01mnot\u001b[39;00m \u001b[38;5;28misinstance\u001b[39m(rv, Basic):\n\u001b[1;32m    999\u001b[0m         \u001b[38;5;28;01mbreak\u001b[39;00m\n",
      "File \u001b[0;32m~/miniforge3/envs/gym/lib/python3.8/site-packages/sympy/core/cache.py:70\u001b[0m, in \u001b[0;36m__cacheit.<locals>.func_wrapper.<locals>.wrapper\u001b[0;34m(*args, **kwargs)\u001b[0m\n\u001b[1;32m     67\u001b[0m \u001b[38;5;129m@wraps\u001b[39m(func)\n\u001b[1;32m     68\u001b[0m \u001b[38;5;28;01mdef\u001b[39;00m \u001b[38;5;21mwrapper\u001b[39m(\u001b[38;5;241m*\u001b[39margs, \u001b[38;5;241m*\u001b[39m\u001b[38;5;241m*\u001b[39mkwargs):\n\u001b[1;32m     69\u001b[0m     \u001b[38;5;28;01mtry\u001b[39;00m:\n\u001b[0;32m---> 70\u001b[0m         retval \u001b[38;5;241m=\u001b[39m \u001b[43mcfunc\u001b[49m\u001b[43m(\u001b[49m\u001b[38;5;241;43m*\u001b[39;49m\u001b[43margs\u001b[49m\u001b[43m,\u001b[49m\u001b[43m \u001b[49m\u001b[38;5;241;43m*\u001b[39;49m\u001b[38;5;241;43m*\u001b[39;49m\u001b[43mkwargs\u001b[49m\u001b[43m)\u001b[49m\n\u001b[1;32m     71\u001b[0m     \u001b[38;5;28;01mexcept\u001b[39;00m \u001b[38;5;167;01mTypeError\u001b[39;00m \u001b[38;5;28;01mas\u001b[39;00m e:\n\u001b[1;32m     72\u001b[0m         \u001b[38;5;28;01mif\u001b[39;00m \u001b[38;5;129;01mnot\u001b[39;00m e\u001b[38;5;241m.\u001b[39margs \u001b[38;5;129;01mor\u001b[39;00m \u001b[38;5;129;01mnot\u001b[39;00m e\u001b[38;5;241m.\u001b[39margs[\u001b[38;5;241m0\u001b[39m]\u001b[38;5;241m.\u001b[39mstartswith(\u001b[38;5;124m'\u001b[39m\u001b[38;5;124munhashable type:\u001b[39m\u001b[38;5;124m'\u001b[39m):\n",
      "File \u001b[0;32m~/miniforge3/envs/gym/lib/python3.8/site-packages/sympy/core/basic.py:1111\u001b[0m, in \u001b[0;36mBasic._subs\u001b[0;34m(self, old, new, **hints)\u001b[0m\n\u001b[1;32m   1109\u001b[0m rv \u001b[38;5;241m=\u001b[39m \u001b[38;5;28mself\u001b[39m\u001b[38;5;241m.\u001b[39m_eval_subs(old, new)\n\u001b[1;32m   1110\u001b[0m \u001b[38;5;28;01mif\u001b[39;00m rv \u001b[38;5;129;01mis\u001b[39;00m \u001b[38;5;28;01mNone\u001b[39;00m:\n\u001b[0;32m-> 1111\u001b[0m     rv \u001b[38;5;241m=\u001b[39m \u001b[43mfallback\u001b[49m\u001b[43m(\u001b[49m\u001b[38;5;28;43mself\u001b[39;49m\u001b[43m,\u001b[49m\u001b[43m \u001b[49m\u001b[43mold\u001b[49m\u001b[43m,\u001b[49m\u001b[43m \u001b[49m\u001b[43mnew\u001b[49m\u001b[43m)\u001b[49m\n\u001b[1;32m   1112\u001b[0m \u001b[38;5;28;01mreturn\u001b[39;00m rv\n",
      "File \u001b[0;32m~/miniforge3/envs/gym/lib/python3.8/site-packages/sympy/core/basic.py:1083\u001b[0m, in \u001b[0;36mBasic._subs.<locals>.fallback\u001b[0;34m(self, old, new)\u001b[0m\n\u001b[1;32m   1081\u001b[0m \u001b[38;5;28;01mif\u001b[39;00m \u001b[38;5;129;01mnot\u001b[39;00m \u001b[38;5;28mhasattr\u001b[39m(arg, \u001b[38;5;124m'\u001b[39m\u001b[38;5;124m_eval_subs\u001b[39m\u001b[38;5;124m'\u001b[39m):\n\u001b[1;32m   1082\u001b[0m     \u001b[38;5;28;01mcontinue\u001b[39;00m\n\u001b[0;32m-> 1083\u001b[0m arg \u001b[38;5;241m=\u001b[39m \u001b[43marg\u001b[49m\u001b[38;5;241;43m.\u001b[39;49m\u001b[43m_subs\u001b[49m\u001b[43m(\u001b[49m\u001b[43mold\u001b[49m\u001b[43m,\u001b[49m\u001b[43m \u001b[49m\u001b[43mnew\u001b[49m\u001b[43m,\u001b[49m\u001b[43m \u001b[49m\u001b[38;5;241;43m*\u001b[39;49m\u001b[38;5;241;43m*\u001b[39;49m\u001b[43mhints\u001b[49m\u001b[43m)\u001b[49m\n\u001b[1;32m   1084\u001b[0m \u001b[38;5;28;01mif\u001b[39;00m \u001b[38;5;129;01mnot\u001b[39;00m _aresame(arg, args[i]):\n\u001b[1;32m   1085\u001b[0m     hit \u001b[38;5;241m=\u001b[39m \u001b[38;5;28;01mTrue\u001b[39;00m\n",
      "File \u001b[0;32m~/miniforge3/envs/gym/lib/python3.8/site-packages/sympy/core/cache.py:70\u001b[0m, in \u001b[0;36m__cacheit.<locals>.func_wrapper.<locals>.wrapper\u001b[0;34m(*args, **kwargs)\u001b[0m\n\u001b[1;32m     67\u001b[0m \u001b[38;5;129m@wraps\u001b[39m(func)\n\u001b[1;32m     68\u001b[0m \u001b[38;5;28;01mdef\u001b[39;00m \u001b[38;5;21mwrapper\u001b[39m(\u001b[38;5;241m*\u001b[39margs, \u001b[38;5;241m*\u001b[39m\u001b[38;5;241m*\u001b[39mkwargs):\n\u001b[1;32m     69\u001b[0m     \u001b[38;5;28;01mtry\u001b[39;00m:\n\u001b[0;32m---> 70\u001b[0m         retval \u001b[38;5;241m=\u001b[39m \u001b[43mcfunc\u001b[49m\u001b[43m(\u001b[49m\u001b[38;5;241;43m*\u001b[39;49m\u001b[43margs\u001b[49m\u001b[43m,\u001b[49m\u001b[43m \u001b[49m\u001b[38;5;241;43m*\u001b[39;49m\u001b[38;5;241;43m*\u001b[39;49m\u001b[43mkwargs\u001b[49m\u001b[43m)\u001b[49m\n\u001b[1;32m     71\u001b[0m     \u001b[38;5;28;01mexcept\u001b[39;00m \u001b[38;5;167;01mTypeError\u001b[39;00m \u001b[38;5;28;01mas\u001b[39;00m e:\n\u001b[1;32m     72\u001b[0m         \u001b[38;5;28;01mif\u001b[39;00m \u001b[38;5;129;01mnot\u001b[39;00m e\u001b[38;5;241m.\u001b[39margs \u001b[38;5;129;01mor\u001b[39;00m \u001b[38;5;129;01mnot\u001b[39;00m e\u001b[38;5;241m.\u001b[39margs[\u001b[38;5;241m0\u001b[39m]\u001b[38;5;241m.\u001b[39mstartswith(\u001b[38;5;124m'\u001b[39m\u001b[38;5;124munhashable type:\u001b[39m\u001b[38;5;124m'\u001b[39m):\n",
      "File \u001b[0;32m~/miniforge3/envs/gym/lib/python3.8/site-packages/sympy/core/basic.py:1111\u001b[0m, in \u001b[0;36mBasic._subs\u001b[0;34m(self, old, new, **hints)\u001b[0m\n\u001b[1;32m   1109\u001b[0m rv \u001b[38;5;241m=\u001b[39m \u001b[38;5;28mself\u001b[39m\u001b[38;5;241m.\u001b[39m_eval_subs(old, new)\n\u001b[1;32m   1110\u001b[0m \u001b[38;5;28;01mif\u001b[39;00m rv \u001b[38;5;129;01mis\u001b[39;00m \u001b[38;5;28;01mNone\u001b[39;00m:\n\u001b[0;32m-> 1111\u001b[0m     rv \u001b[38;5;241m=\u001b[39m \u001b[43mfallback\u001b[49m\u001b[43m(\u001b[49m\u001b[38;5;28;43mself\u001b[39;49m\u001b[43m,\u001b[49m\u001b[43m \u001b[49m\u001b[43mold\u001b[49m\u001b[43m,\u001b[49m\u001b[43m \u001b[49m\u001b[43mnew\u001b[49m\u001b[43m)\u001b[49m\n\u001b[1;32m   1112\u001b[0m \u001b[38;5;28;01mreturn\u001b[39;00m rv\n",
      "File \u001b[0;32m~/miniforge3/envs/gym/lib/python3.8/site-packages/sympy/core/basic.py:1083\u001b[0m, in \u001b[0;36mBasic._subs.<locals>.fallback\u001b[0;34m(self, old, new)\u001b[0m\n\u001b[1;32m   1081\u001b[0m \u001b[38;5;28;01mif\u001b[39;00m \u001b[38;5;129;01mnot\u001b[39;00m \u001b[38;5;28mhasattr\u001b[39m(arg, \u001b[38;5;124m'\u001b[39m\u001b[38;5;124m_eval_subs\u001b[39m\u001b[38;5;124m'\u001b[39m):\n\u001b[1;32m   1082\u001b[0m     \u001b[38;5;28;01mcontinue\u001b[39;00m\n\u001b[0;32m-> 1083\u001b[0m arg \u001b[38;5;241m=\u001b[39m \u001b[43marg\u001b[49m\u001b[38;5;241;43m.\u001b[39;49m\u001b[43m_subs\u001b[49m\u001b[43m(\u001b[49m\u001b[43mold\u001b[49m\u001b[43m,\u001b[49m\u001b[43m \u001b[49m\u001b[43mnew\u001b[49m\u001b[43m,\u001b[49m\u001b[43m \u001b[49m\u001b[38;5;241;43m*\u001b[39;49m\u001b[38;5;241;43m*\u001b[39;49m\u001b[43mhints\u001b[49m\u001b[43m)\u001b[49m\n\u001b[1;32m   1084\u001b[0m \u001b[38;5;28;01mif\u001b[39;00m \u001b[38;5;129;01mnot\u001b[39;00m _aresame(arg, args[i]):\n\u001b[1;32m   1085\u001b[0m     hit \u001b[38;5;241m=\u001b[39m \u001b[38;5;28;01mTrue\u001b[39;00m\n",
      "File \u001b[0;32m~/miniforge3/envs/gym/lib/python3.8/site-packages/sympy/core/cache.py:70\u001b[0m, in \u001b[0;36m__cacheit.<locals>.func_wrapper.<locals>.wrapper\u001b[0;34m(*args, **kwargs)\u001b[0m\n\u001b[1;32m     67\u001b[0m \u001b[38;5;129m@wraps\u001b[39m(func)\n\u001b[1;32m     68\u001b[0m \u001b[38;5;28;01mdef\u001b[39;00m \u001b[38;5;21mwrapper\u001b[39m(\u001b[38;5;241m*\u001b[39margs, \u001b[38;5;241m*\u001b[39m\u001b[38;5;241m*\u001b[39mkwargs):\n\u001b[1;32m     69\u001b[0m     \u001b[38;5;28;01mtry\u001b[39;00m:\n\u001b[0;32m---> 70\u001b[0m         retval \u001b[38;5;241m=\u001b[39m \u001b[43mcfunc\u001b[49m\u001b[43m(\u001b[49m\u001b[38;5;241;43m*\u001b[39;49m\u001b[43margs\u001b[49m\u001b[43m,\u001b[49m\u001b[43m \u001b[49m\u001b[38;5;241;43m*\u001b[39;49m\u001b[38;5;241;43m*\u001b[39;49m\u001b[43mkwargs\u001b[49m\u001b[43m)\u001b[49m\n\u001b[1;32m     71\u001b[0m     \u001b[38;5;28;01mexcept\u001b[39;00m \u001b[38;5;167;01mTypeError\u001b[39;00m \u001b[38;5;28;01mas\u001b[39;00m e:\n\u001b[1;32m     72\u001b[0m         \u001b[38;5;28;01mif\u001b[39;00m \u001b[38;5;129;01mnot\u001b[39;00m e\u001b[38;5;241m.\u001b[39margs \u001b[38;5;129;01mor\u001b[39;00m \u001b[38;5;129;01mnot\u001b[39;00m e\u001b[38;5;241m.\u001b[39margs[\u001b[38;5;241m0\u001b[39m]\u001b[38;5;241m.\u001b[39mstartswith(\u001b[38;5;124m'\u001b[39m\u001b[38;5;124munhashable type:\u001b[39m\u001b[38;5;124m'\u001b[39m):\n",
      "File \u001b[0;32m~/miniforge3/envs/gym/lib/python3.8/site-packages/sympy/core/basic.py:1111\u001b[0m, in \u001b[0;36mBasic._subs\u001b[0;34m(self, old, new, **hints)\u001b[0m\n\u001b[1;32m   1109\u001b[0m rv \u001b[38;5;241m=\u001b[39m \u001b[38;5;28mself\u001b[39m\u001b[38;5;241m.\u001b[39m_eval_subs(old, new)\n\u001b[1;32m   1110\u001b[0m \u001b[38;5;28;01mif\u001b[39;00m rv \u001b[38;5;129;01mis\u001b[39;00m \u001b[38;5;28;01mNone\u001b[39;00m:\n\u001b[0;32m-> 1111\u001b[0m     rv \u001b[38;5;241m=\u001b[39m \u001b[43mfallback\u001b[49m\u001b[43m(\u001b[49m\u001b[38;5;28;43mself\u001b[39;49m\u001b[43m,\u001b[49m\u001b[43m \u001b[49m\u001b[43mold\u001b[49m\u001b[43m,\u001b[49m\u001b[43m \u001b[49m\u001b[43mnew\u001b[49m\u001b[43m)\u001b[49m\n\u001b[1;32m   1112\u001b[0m \u001b[38;5;28;01mreturn\u001b[39;00m rv\n",
      "File \u001b[0;32m~/miniforge3/envs/gym/lib/python3.8/site-packages/sympy/core/basic.py:1088\u001b[0m, in \u001b[0;36mBasic._subs.<locals>.fallback\u001b[0;34m(self, old, new)\u001b[0m\n\u001b[1;32m   1086\u001b[0m         args[i] \u001b[38;5;241m=\u001b[39m arg\n\u001b[1;32m   1087\u001b[0m \u001b[38;5;28;01mif\u001b[39;00m hit:\n\u001b[0;32m-> 1088\u001b[0m     rv \u001b[38;5;241m=\u001b[39m \u001b[38;5;28;43mself\u001b[39;49m\u001b[38;5;241;43m.\u001b[39;49m\u001b[43mfunc\u001b[49m\u001b[43m(\u001b[49m\u001b[38;5;241;43m*\u001b[39;49m\u001b[43margs\u001b[49m\u001b[43m)\u001b[49m\n\u001b[1;32m   1089\u001b[0m     hack2 \u001b[38;5;241m=\u001b[39m hints\u001b[38;5;241m.\u001b[39mget(\u001b[38;5;124m'\u001b[39m\u001b[38;5;124mhack2\u001b[39m\u001b[38;5;124m'\u001b[39m, \u001b[38;5;28;01mFalse\u001b[39;00m)\n\u001b[1;32m   1090\u001b[0m     \u001b[38;5;28;01mif\u001b[39;00m hack2 \u001b[38;5;129;01mand\u001b[39;00m \u001b[38;5;28mself\u001b[39m\u001b[38;5;241m.\u001b[39mis_Mul \u001b[38;5;129;01mand\u001b[39;00m \u001b[38;5;129;01mnot\u001b[39;00m rv\u001b[38;5;241m.\u001b[39mis_Mul:  \u001b[38;5;66;03m# 2-arg hack\u001b[39;00m\n",
      "File \u001b[0;32m~/miniforge3/envs/gym/lib/python3.8/site-packages/sympy/physics/units/quantities.py:83\u001b[0m, in \u001b[0;36mQuantity.__new__\u001b[0;34m(cls, name, abbrev, dimension, scale_factor, latex_repr, pretty_unicode_repr, pretty_ascii_repr, mathml_presentation_repr, is_prefixed, **assumptions)\u001b[0m\n\u001b[1;32m     80\u001b[0m \u001b[38;5;28;01mif\u001b[39;00m dimension \u001b[38;5;129;01mis\u001b[39;00m \u001b[38;5;129;01mnot\u001b[39;00m \u001b[38;5;28;01mNone\u001b[39;00m:\n\u001b[1;32m     81\u001b[0m     \u001b[38;5;66;03m# TODO: remove after deprecation:\u001b[39;00m\n\u001b[1;32m     82\u001b[0m     \u001b[38;5;28;01mwith\u001b[39;00m ignore_warnings(SymPyDeprecationWarning):\n\u001b[0;32m---> 83\u001b[0m         \u001b[43mobj\u001b[49m\u001b[38;5;241;43m.\u001b[39;49m\u001b[43mset_dimension\u001b[49m\u001b[43m(\u001b[49m\u001b[43mdimension\u001b[49m\u001b[43m)\u001b[49m\n\u001b[1;32m     85\u001b[0m \u001b[38;5;28;01mif\u001b[39;00m scale_factor \u001b[38;5;129;01mis\u001b[39;00m \u001b[38;5;129;01mnot\u001b[39;00m \u001b[38;5;28;01mNone\u001b[39;00m:\n\u001b[1;32m     86\u001b[0m     \u001b[38;5;66;03m# TODO: remove after deprecation:\u001b[39;00m\n\u001b[1;32m     87\u001b[0m     \u001b[38;5;28;01mwith\u001b[39;00m ignore_warnings(SymPyDeprecationWarning):\n",
      "File \u001b[0;32m~/miniforge3/envs/gym/lib/python3.8/site-packages/sympy/physics/units/quantities.py:104\u001b[0m, in \u001b[0;36mQuantity.set_dimension\u001b[0;34m(self, dimension, unit_system)\u001b[0m\n\u001b[1;32m    102\u001b[0m \u001b[38;5;28;01mfrom\u001b[39;00m \u001b[38;5;21;01msympy\u001b[39;00m\u001b[38;5;21;01m.\u001b[39;00m\u001b[38;5;21;01mphysics\u001b[39;00m\u001b[38;5;21;01m.\u001b[39;00m\u001b[38;5;21;01munits\u001b[39;00m \u001b[38;5;28;01mimport\u001b[39;00m UnitSystem\n\u001b[1;32m    103\u001b[0m unit_system \u001b[38;5;241m=\u001b[39m UnitSystem\u001b[38;5;241m.\u001b[39mget_unit_system(unit_system)\n\u001b[0;32m--> 104\u001b[0m \u001b[43munit_system\u001b[49m\u001b[38;5;241;43m.\u001b[39;49m\u001b[43mset_quantity_dimension\u001b[49m\u001b[43m(\u001b[49m\u001b[38;5;28;43mself\u001b[39;49m\u001b[43m,\u001b[49m\u001b[43m \u001b[49m\u001b[43mdimension\u001b[49m\u001b[43m)\u001b[49m\n",
      "File \u001b[0;32m~/miniforge3/envs/gym/lib/python3.8/site-packages/sympy/physics/units/dimensions.py:47\u001b[0m, in \u001b[0;36m_QuantityMapper.set_quantity_dimension\u001b[0;34m(self, unit, dimension)\u001b[0m\n\u001b[1;32m     45\u001b[0m         dimension \u001b[38;5;241m=\u001b[39m Dimension(\u001b[38;5;241m1\u001b[39m)\n\u001b[1;32m     46\u001b[0m     \u001b[38;5;28;01melse\u001b[39;00m:\n\u001b[0;32m---> 47\u001b[0m         \u001b[38;5;28;01mraise\u001b[39;00m \u001b[38;5;167;01mValueError\u001b[39;00m(\u001b[38;5;124m\"\u001b[39m\u001b[38;5;124mexpected dimension or 1\u001b[39m\u001b[38;5;124m\"\u001b[39m)\n\u001b[1;32m     48\u001b[0m \u001b[38;5;28;01melif\u001b[39;00m \u001b[38;5;28misinstance\u001b[39m(dimension, Quantity):\n\u001b[1;32m     49\u001b[0m     dimension \u001b[38;5;241m=\u001b[39m \u001b[38;5;28mself\u001b[39m\u001b[38;5;241m.\u001b[39mget_quantity_dimension(dimension)\n",
      "\u001b[0;31mValueError\u001b[0m: expected dimension or 1"
     ]
    }
   ],
   "source": [
    "k_val[0].subs({\n",
    "    A_0: 1.5*units.meters,\n",
    "    m: units.convert_to(130*units.gram, units.kilogram),\n",
    "    v_2: units.convert_to(11.2*units.kilometer/units.second, units.meter)\n",
    "})"
   ]
  },
  {
   "cell_type": "code",
   "execution_count": 104,
   "id": "c2254b04-513a-4241-b41d-eee8dea8ad1f",
   "metadata": {},
   "outputs": [
    {
     "data": {
      "text/latex": [
       "$\\displaystyle \\frac{13 \\text{kg}}{100}$"
      ],
      "text/plain": [
       "13*kilogram/100"
      ]
     },
     "execution_count": 104,
     "metadata": {},
     "output_type": "execute_result"
    }
   ],
   "source": [
    "units.convert_to(130*units.gram, units.kilogram)"
   ]
  },
  {
   "cell_type": "code",
   "execution_count": null,
   "id": "9c1a24f1-4700-4722-aaca-b3458407b3f7",
   "metadata": {},
   "outputs": [],
   "source": []
  }
 ],
 "metadata": {
  "kernelspec": {
   "display_name": "Python 3 (ipykernel)",
   "language": "python",
   "name": "python3"
  },
  "language_info": {
   "codemirror_mode": {
    "name": "ipython",
    "version": 3
   },
   "file_extension": ".py",
   "mimetype": "text/x-python",
   "name": "python",
   "nbconvert_exporter": "python",
   "pygments_lexer": "ipython3",
   "version": "3.8.15"
  }
 },
 "nbformat": 4,
 "nbformat_minor": 5
}
