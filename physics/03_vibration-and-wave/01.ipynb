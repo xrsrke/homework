{
 "cells": [
  {
   "cell_type": "code",
   "execution_count": 2,
   "id": "3b00bc46",
   "metadata": {},
   "outputs": [],
   "source": [
    "import sympy as sym\n",
    "import sympy.physics.units as units\n",
    "import pint\n",
    "ureg = pint.UnitRegistry()"
   ]
  },
  {
   "cell_type": "markdown",
   "id": "2503bb01",
   "metadata": {},
   "source": [
    "### Simple Harmonic Motion"
   ]
  },
  {
   "cell_type": "code",
   "execution_count": 2,
   "id": "99a5e624",
   "metadata": {},
   "outputs": [],
   "source": [
    "import sympy as sym\n",
    "\n",
    "T = sym.Symbol('T')\n",
    "f = sym.Symbol('f')\n",
    "A = sym.Symbol('A')\n",
    "t = sym.Symbol('t')\n",
    "x = sym.Symbol('x')"
   ]
  },
  {
   "cell_type": "markdown",
   "id": "69f25dd7",
   "metadata": {},
   "source": [
    "#### Example 1"
   ]
  },
  {
   "cell_type": "code",
   "execution_count": 3,
   "id": "744f7f94",
   "metadata": {},
   "outputs": [],
   "source": [
    "import pint\n",
    "ureg = pint.UnitRegistry()"
   ]
  },
  {
   "cell_type": "markdown",
   "id": "d5a18b6e",
   "metadata": {},
   "source": [
    "An object that undergoes simple harmonic motion takes 0.25 sec to travel from one point\n",
    "of zero velocity to the next. If the distance between these points is 36 cm. Calculate the following:\n",
    "- a) period (T)\n",
    "- b) frequency (f)\n",
    "- c) amplitude of this motion (A)"
   ]
  },
  {
   "cell_type": "markdown",
   "id": "22308217",
   "metadata": {},
   "source": [
    "**Answer a**\n",
    "\n",
    "The time it takes for the object to travel from one point of zero velocity to the next is 0.25 seconds. Because the motion is simple harmonic, so it will travel back and forth to complete one period"
   ]
  },
  {
   "cell_type": "code",
   "execution_count": 4,
   "id": "aa7cd1a9",
   "metadata": {},
   "outputs": [],
   "source": [
    "T = (0.25 * ureg.second) * 2"
   ]
  },
  {
   "cell_type": "code",
   "execution_count": 5,
   "id": "2bdf0e59",
   "metadata": {},
   "outputs": [
    {
     "data": {
      "text/html": [
       "0.5 second"
      ],
      "text/latex": [
       "$0.5\\ \\mathrm{second}$"
      ],
      "text/plain": [
       "0.5 <Unit('second')>"
      ]
     },
     "execution_count": 5,
     "metadata": {},
     "output_type": "execute_result"
    }
   ],
   "source": [
    "T"
   ]
  },
  {
   "cell_type": "markdown",
   "id": "70d26423",
   "metadata": {},
   "source": [
    "**Answer b**"
   ]
  },
  {
   "cell_type": "code",
   "execution_count": 6,
   "id": "971be764",
   "metadata": {},
   "outputs": [
    {
     "data": {
      "text/html": [
       "0.5 second"
      ],
      "text/latex": [
       "$0.5\\ \\mathrm{second}$"
      ],
      "text/plain": [
       "0.5 <Unit('second')>"
      ]
     },
     "execution_count": 6,
     "metadata": {},
     "output_type": "execute_result"
    }
   ],
   "source": [
    "T"
   ]
  },
  {
   "cell_type": "code",
   "execution_count": 7,
   "id": "5ed86c3c",
   "metadata": {},
   "outputs": [],
   "source": [
    "f = 1 / T"
   ]
  },
  {
   "cell_type": "code",
   "execution_count": 8,
   "id": "de35430c",
   "metadata": {},
   "outputs": [
    {
     "data": {
      "text/html": [
       "2.0 1/second"
      ],
      "text/latex": [
       "$2.0\\ \\frac{1}{\\mathrm{second}}$"
      ],
      "text/plain": [
       "2.0 <Unit('1 / second')>"
      ]
     },
     "execution_count": 8,
     "metadata": {},
     "output_type": "execute_result"
    }
   ],
   "source": [
    "f"
   ]
  },
  {
   "cell_type": "markdown",
   "id": "990cad27",
   "metadata": {},
   "source": [
    "**Answer c**"
   ]
  },
  {
   "cell_type": "markdown",
   "id": "9d34eba6",
   "metadata": {},
   "source": [
    "We know that the distance between the points of zero velocity is 36 cm. Since the motion is simple harmonic, the amplitude is half that distance, so we can calculate the amplitude as follows:"
   ]
  },
  {
   "cell_type": "code",
   "execution_count": 9,
   "id": "4e3f8ae4",
   "metadata": {},
   "outputs": [],
   "source": [
    "d = 36 * ureg.centimeter"
   ]
  },
  {
   "cell_type": "code",
   "execution_count": 10,
   "id": "e8b45ae0",
   "metadata": {},
   "outputs": [],
   "source": [
    "A = (d / 2).to('meter')"
   ]
  },
  {
   "cell_type": "code",
   "execution_count": 11,
   "id": "32b8777b",
   "metadata": {},
   "outputs": [
    {
     "data": {
      "text/html": [
       "0.18 meter"
      ],
      "text/latex": [
       "$0.18\\ \\mathrm{meter}$"
      ],
      "text/plain": [
       "0.18 <Unit('meter')>"
      ]
     },
     "execution_count": 11,
     "metadata": {},
     "output_type": "execute_result"
    }
   ],
   "source": [
    "A"
   ]
  },
  {
   "cell_type": "markdown",
   "id": "b572dc09",
   "metadata": {},
   "source": [
    "##### Example 2"
   ]
  },
  {
   "cell_type": "markdown",
   "id": "efa5e038",
   "metadata": {},
   "source": [
    "Open book"
   ]
  },
  {
   "cell_type": "markdown",
   "id": "7d8b1a08",
   "metadata": {},
   "source": [
    "A `0.10 kg` block oscillates on a frictionless surface. The distance from rest position as a function of time is:"
   ]
  },
  {
   "cell_type": "markdown",
   "id": "e257dbc4",
   "metadata": {},
   "source": [
    "$x(t)=10 \\cos(10 t+ \\frac{\\pi}{2})$"
   ]
  },
  {
   "cell_type": "markdown",
   "id": "6acb363a",
   "metadata": {},
   "source": [
    "a) What is the oscillation frequency in Hz?"
   ]
  },
  {
   "cell_type": "markdown",
   "id": "f8468347",
   "metadata": {},
   "source": [
    "### Energy in SHM"
   ]
  },
  {
   "cell_type": "markdown",
   "id": "37eb5922",
   "metadata": {},
   "source": [
    "##### Example 1"
   ]
  },
  {
   "cell_type": "markdown",
   "id": "c78108c5",
   "metadata": {},
   "source": [
    "A block of mass $M$ attached to a horizontal spring with force constant $k$ is moving in SHM with amplitude $A_1$. As the block passes through its equilibrium position, a lump of putty of mass $m$ is dropped from a small height and sticks to it.\n",
    "\n",
    "- (a) Find the new amplitude and period of the motion.\n",
    "\n",
    "- (b) Repeat part (a) if the putty is dropped onto the block when it is at one end of its path."
   ]
  },
  {
   "cell_type": "markdown",
   "id": "32fa1c3b",
   "metadata": {},
   "source": [
    "##### Example 2"
   ]
  },
  {
   "cell_type": "markdown",
   "id": "7ded116e",
   "metadata": {},
   "source": [
    "**Open book**"
   ]
  },
  {
   "cell_type": "markdown",
   "id": "238e7d9a",
   "metadata": {},
   "source": [
    "What is the total mechanical energy of a block-spring system where the spring constant is $1.3 \\mathrm{~N} / \\mathrm{cm}$ and the amplitude is $2.4 \\mathrm{~cm}$ ?"
   ]
  },
  {
   "cell_type": "markdown",
   "id": "cc759530",
   "metadata": {},
   "source": [
    "**Answer**"
   ]
  },
  {
   "cell_type": "markdown",
   "id": "75e0cf99",
   "metadata": {},
   "source": [
    "The total mechanical energy in a SHM: $E_{T O T}=\\frac{1}{2} k A^2$"
   ]
  },
  {
   "cell_type": "code",
   "execution_count": 12,
   "id": "9875a7dd",
   "metadata": {},
   "outputs": [],
   "source": [
    "k = 1.3*units.newton/units.centimeter"
   ]
  },
  {
   "cell_type": "code",
   "execution_count": 13,
   "id": "b2972f54",
   "metadata": {},
   "outputs": [],
   "source": [
    "k = units.convert_to(k, units.meter)"
   ]
  },
  {
   "cell_type": "code",
   "execution_count": 14,
   "id": "aaf77424",
   "metadata": {},
   "outputs": [
    {
     "data": {
      "text/latex": [
       "$\\displaystyle \\frac{130.0 \\text{N}}{\\text{m}}$"
      ],
      "text/plain": [
       "130.0*newton/meter"
      ]
     },
     "execution_count": 14,
     "metadata": {},
     "output_type": "execute_result"
    }
   ],
   "source": [
    "k"
   ]
  },
  {
   "cell_type": "code",
   "execution_count": 15,
   "id": "add190f9",
   "metadata": {},
   "outputs": [],
   "source": [
    "A = 2.4 * units.centimeter"
   ]
  },
  {
   "cell_type": "code",
   "execution_count": 16,
   "id": "542acfba",
   "metadata": {},
   "outputs": [],
   "source": [
    "A = units.convert_to(A, units.meter)"
   ]
  },
  {
   "cell_type": "code",
   "execution_count": 17,
   "id": "eb3abb69",
   "metadata": {},
   "outputs": [
    {
     "data": {
      "text/latex": [
       "$\\displaystyle 0.024 \\text{m}$"
      ],
      "text/plain": [
       "0.024*meter"
      ]
     },
     "execution_count": 17,
     "metadata": {},
     "output_type": "execute_result"
    }
   ],
   "source": [
    "A"
   ]
  },
  {
   "cell_type": "code",
   "execution_count": 18,
   "id": "faefe304",
   "metadata": {},
   "outputs": [],
   "source": [
    "E_total = 0.5 * k * A**2"
   ]
  },
  {
   "cell_type": "code",
   "execution_count": 19,
   "id": "1e5302f5",
   "metadata": {},
   "outputs": [
    {
     "data": {
      "text/latex": [
       "$\\displaystyle 0.03744 \\text{m} \\text{N}$"
      ],
      "text/plain": [
       "0.03744*meter*newton"
      ]
     },
     "execution_count": 19,
     "metadata": {},
     "output_type": "execute_result"
    }
   ],
   "source": [
    "E_total"
   ]
  },
  {
   "cell_type": "code",
   "execution_count": 20,
   "id": "9e203da2",
   "metadata": {
    "scrolled": true
   },
   "outputs": [
    {
     "data": {
      "text/latex": [
       "$\\displaystyle 0.03744 \\text{J}$"
      ],
      "text/plain": [
       "0.03744*joule"
      ]
     },
     "execution_count": 20,
     "metadata": {},
     "output_type": "execute_result"
    }
   ],
   "source": [
    "units.convert_to(E_total, units.joule)"
   ]
  },
  {
   "cell_type": "markdown",
   "id": "ece16cb7-5196-45f4-8c9d-e30bf440f6c9",
   "metadata": {},
   "source": [
    "### Energy of SMH"
   ]
  },
  {
   "cell_type": "markdown",
   "id": "49e9bdf5-a279-4986-8aab-235c526ad786",
   "metadata": {},
   "source": [
    "##### Example 1"
   ]
  },
  {
   "cell_type": "markdown",
   "id": "db3756df-7aeb-4051-97d3-7db4b4705ad3",
   "metadata": {},
   "source": [
    "**Open book**: A large slingshot is stretched $1.5$ meters to launch a $130 \\mathrm{g}$ projectile at a speed of $11.2 \\mathrm{km} / \\mathrm{s}$, which is enough to escape Earth's gravity.\n",
    "\n",
    "What is the spring constant?"
   ]
  },
  {
   "cell_type": "markdown",
   "id": "57e8aa5e-6164-4477-bf75-286ad9a89a9e",
   "metadata": {},
   "source": [
    "Known quantities:\n",
    "- $A = 1.5 \\mathrm{m}$\n",
    "- $m = 130 \\mathrm{g}$\n",
    "- $v_0 = 11.2 \\mathrm{km}/\\mathrm{s}$"
   ]
  },
  {
   "cell_type": "code",
   "execution_count": 45,
   "id": "cacf2f8c-861d-4d49-a5f2-167215b5af70",
   "metadata": {},
   "outputs": [],
   "source": [
    "E_tot, k, A_0, m, v_1 = sym.symbols('E_tot, k, A_0, m, v_1')"
   ]
  },
  {
   "cell_type": "markdown",
   "id": "cfb56828-ccf2-4ce5-b318-dc282546ba4c",
   "metadata": {},
   "source": [
    "**Notations**:\n",
    "- $U_0$ is the potential energy before release the slingshot\n",
    "- $U_1$ is the potential energy after release the slingshot (reach $11.2 \\mathrm{~km} / \\mathrm{s}$)\n",
    "- Same for $K_0$ and $K_1$"
   ]
  },
  {
   "cell_type": "markdown",
   "id": "32176272-54d7-41d3-b638-ef79c0b96196",
   "metadata": {},
   "source": [
    "**Step 1:** The total mechanical energy of the slingshot: $E_{tot}=\\frac{1}{2} k A^2$"
   ]
  },
  {
   "cell_type": "code",
   "execution_count": 70,
   "id": "ad202bf2-26b9-4f1a-ba22-b60a1bf5dd6f",
   "metadata": {},
   "outputs": [],
   "source": [
    "E_tot = 0.5 * k * A_0**2"
   ]
  },
  {
   "cell_type": "markdown",
   "id": "2a98b574-4f77-4995-92ae-e67ce0e6f98a",
   "metadata": {},
   "source": [
    "Before release the slingshot, the kinetic energy is zero, so we have the total energy is equal to the potential energy"
   ]
  },
  {
   "cell_type": "code",
   "execution_count": 71,
   "id": "04bcd128-2c32-4090-8b52-dc791c8ec9a3",
   "metadata": {},
   "outputs": [],
   "source": [
    "U_0 = E_tot"
   ]
  },
  {
   "cell_type": "markdown",
   "id": "6f608982-42b9-4d01-b6c9-a78ea1a7fbc7",
   "metadata": {},
   "source": [
    "**Step 2**: Kinetic energy of the slongshot at the moment it leaves: $K_1=\\frac{1}{2} m v_1^2$"
   ]
  },
  {
   "cell_type": "code",
   "execution_count": 72,
   "id": "b0230a8f-d9af-4ab6-8fcf-49f1dcfe6d4f",
   "metadata": {},
   "outputs": [],
   "source": [
    "K_1 = 0.5*m*v_1**2"
   ]
  },
  {
   "cell_type": "markdown",
   "id": "cb9a85a4-fc48-4bbd-bfee-1cd0ed00c862",
   "metadata": {},
   "source": [
    "**Step 3**:"
   ]
  },
  {
   "cell_type": "markdown",
   "id": "92bae2a7-d627-418d-9918-4206712776d9",
   "metadata": {},
   "source": [
    "According to the law conservation of mechanical energy: $K_0 +U_0 =K_1 +U_1$"
   ]
  },
  {
   "cell_type": "markdown",
   "id": "d04f9af5-f23a-4279-a609-80b876ecde5b",
   "metadata": {},
   "source": [
    "At the moment the slingshot reaches $11.2 \\mathrm{~km} / \\mathrm{s}$. It delivery all of its potential energy to kinetic energy. So we have"
   ]
  },
  {
   "cell_type": "code",
   "execution_count": 73,
   "id": "91fb224f-1fa9-4c08-9d7c-a7b9bdd5ef58",
   "metadata": {},
   "outputs": [],
   "source": [
    "eq = sym.Eq(U_0, K_1)"
   ]
  },
  {
   "cell_type": "code",
   "execution_count": 74,
   "id": "80528ae3-20e9-409e-8652-d1422ef03874",
   "metadata": {},
   "outputs": [
    {
     "data": {
      "text/latex": [
       "$\\displaystyle 0.5 A_{0}^{2} k = 0.5 m v_{1}^{2}$"
      ],
      "text/plain": [
       "Eq(0.5*A_0**2*k, 0.5*m*v_1**2)"
      ]
     },
     "execution_count": 74,
     "metadata": {},
     "output_type": "execute_result"
    }
   ],
   "source": [
    "eq"
   ]
  },
  {
   "cell_type": "code",
   "execution_count": 75,
   "id": "ab2a9bf8-c65e-40ab-9b93-0e4b8fce268f",
   "metadata": {},
   "outputs": [],
   "source": [
    "k_val = sym.solve(eq, k)"
   ]
  },
  {
   "cell_type": "code",
   "execution_count": 76,
   "id": "c1597c75-459a-4ed9-94d0-ff2b51779060",
   "metadata": {},
   "outputs": [
    {
     "data": {
      "text/latex": [
       "$\\displaystyle \\frac{m v_{1}^{2}}{A_{0}^{2}}$"
      ],
      "text/plain": [
       "m*v_1**2/A_0**2"
      ]
     },
     "execution_count": 76,
     "metadata": {},
     "output_type": "execute_result"
    }
   ],
   "source": [
    "k_val[0]"
   ]
  },
  {
   "cell_type": "code",
   "execution_count": 77,
   "id": "9f0f2b54-a75c-4059-8297-0ad16bbbfae6",
   "metadata": {},
   "outputs": [],
   "source": [
    "output = k_val[0].subs({\n",
    "    m: units.convert_to(130*units.gram, units.kilogram),\n",
    "    v_1: units.convert_to(11.2*units.kilometer/units.second, units.meter)\n",
    "}).subs({\n",
    "    A_0: 1.5*units.meters,\n",
    "})"
   ]
  },
  {
   "cell_type": "code",
   "execution_count": 78,
   "id": "9cd266ab",
   "metadata": {
    "scrolled": true
   },
   "outputs": [
    {
     "data": {
      "text/latex": [
       "$\\displaystyle \\frac{7247644.44444444 \\text{kg}}{\\text{s}^{2}}$"
      ],
      "text/plain": [
       "7247644.44444444*kilogram/second**2"
      ]
     },
     "execution_count": 78,
     "metadata": {},
     "output_type": "execute_result"
    }
   ],
   "source": [
    "output"
   ]
  },
  {
   "cell_type": "code",
   "execution_count": null,
   "id": "5b5a1367",
   "metadata": {},
   "outputs": [],
   "source": []
  },
  {
   "cell_type": "code",
   "execution_count": null,
   "id": "0cbb8277",
   "metadata": {},
   "outputs": [],
   "source": []
  }
 ],
 "metadata": {
  "kernelspec": {
   "display_name": "Python 3 (ipykernel)",
   "language": "python",
   "name": "python3"
  },
  "language_info": {
   "codemirror_mode": {
    "name": "ipython",
    "version": 3
   },
   "file_extension": ".py",
   "mimetype": "text/x-python",
   "name": "python",
   "nbconvert_exporter": "python",
   "pygments_lexer": "ipython3",
   "version": "3.8.15"
  }
 },
 "nbformat": 4,
 "nbformat_minor": 5
}
