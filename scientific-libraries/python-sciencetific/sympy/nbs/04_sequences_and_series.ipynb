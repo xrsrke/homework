{
 "cells": [
  {
   "cell_type": "code",
   "execution_count": 1,
   "id": "3e8bab1c-f6c6-4d44-b125-2f485ae8a3a8",
   "metadata": {},
   "outputs": [],
   "source": [
    "import sympy as smp"
   ]
  },
  {
   "cell_type": "markdown",
   "id": "72115ed0-009d-4de5-b648-a2d42deec514",
   "metadata": {},
   "source": [
    "# Sequences and Series"
   ]
  },
  {
   "cell_type": "markdown",
   "id": "61af9611-ec50-4858-a930-a22d4fe30596",
   "metadata": {},
   "source": [
    "##### Find $\\sum_{n=0}^{3} y$"
   ]
  },
  {
   "cell_type": "code",
   "execution_count": 2,
   "id": "42c1bc8f-dcf3-4acc-b1c6-58e927ead47f",
   "metadata": {},
   "outputs": [],
   "source": [
    "n = smp.symbols('n')"
   ]
  },
  {
   "cell_type": "code",
   "execution_count": 8,
   "id": "ce743772-a001-4727-9f55-d2a3d94ca467",
   "metadata": {},
   "outputs": [
    {
     "data": {
      "text/latex": [
       "$\\displaystyle n$"
      ],
      "text/plain": [
       "n"
      ]
     },
     "execution_count": 8,
     "metadata": {},
     "output_type": "execute_result"
    }
   ],
   "source": [
    "n"
   ]
  },
  {
   "cell_type": "code",
   "execution_count": 9,
   "id": "80d64314-1c75-4433-9f0a-563fc6608af4",
   "metadata": {},
   "outputs": [],
   "source": [
    "y = 6/(4**n)"
   ]
  },
  {
   "cell_type": "markdown",
   "id": "76fc333b-a012-4d9a-870c-f282aab7c2ad",
   "metadata": {},
   "source": [
    "Find $\\sum_{n=0}^{3} y$"
   ]
  },
  {
   "cell_type": "code",
   "execution_count": 11,
   "id": "a613bb78-0f83-4ef1-9236-3f35b028b2d9",
   "metadata": {},
   "outputs": [
    {
     "data": {
      "text/latex": [
       "$\\displaystyle \\frac{255}{32}$"
      ],
      "text/plain": [
       "255/32"
      ]
     },
     "execution_count": 11,
     "metadata": {},
     "output_type": "execute_result"
    }
   ],
   "source": [
    "smp.Sum(y, (n, 0, 3)).doit()"
   ]
  },
  {
   "cell_type": "code",
   "execution_count": 13,
   "id": "6fd4a551-f129-4006-bcb9-f0b3ec67b733",
   "metadata": {},
   "outputs": [
    {
     "data": {
      "text/latex": [
       "$\\displaystyle 7.96875$"
      ],
      "text/plain": [
       "7.96875000000000"
      ]
     },
     "execution_count": 13,
     "metadata": {},
     "output_type": "execute_result"
    }
   ],
   "source": [
    "smp.Sum(y, (n, 0, 3)).n()"
   ]
  },
  {
   "cell_type": "markdown",
   "id": "998df7f5-ea64-4ba1-b217-ce2d42b5a166",
   "metadata": {},
   "source": [
    "##### $\\sum_{n=1}^{\\infty} \\frac{1+\\cos (n)}{n}$"
   ]
  },
  {
   "cell_type": "code",
   "execution_count": 14,
   "id": "c3b48aa1-5009-45f6-a152-1228ec4b1ef0",
   "metadata": {},
   "outputs": [],
   "source": [
    "y = (1+smp.cos(n))/n"
   ]
  },
  {
   "cell_type": "code",
   "execution_count": 18,
   "id": "faf7479f-d4c2-48ca-8cc5-48bcc76b336b",
   "metadata": {},
   "outputs": [
    {
     "data": {
      "text/latex": [
       "$\\displaystyle \\frac{\\cos{\\left(n \\right)} + 1}{n}$"
      ],
      "text/plain": [
       "(cos(n) + 1)/n"
      ]
     },
     "execution_count": 18,
     "metadata": {},
     "output_type": "execute_result"
    }
   ],
   "source": [
    "y"
   ]
  },
  {
   "cell_type": "markdown",
   "id": "96307044-6eae-45d5-b6ae-503128e8d3aa",
   "metadata": {},
   "source": [
    "Find $\\sum_{n=1}^{4} y$ using approximation"
   ]
  },
  {
   "cell_type": "code",
   "execution_count": 19,
   "id": "bddac4b5-c21f-49b3-8b58-6cbafa72f1de",
   "metadata": {},
   "outputs": [
    {
     "data": {
      "text/latex": [
       "$\\displaystyle 1.92215381684518$"
      ],
      "text/plain": [
       "1.92215381684518"
      ]
     },
     "execution_count": 19,
     "metadata": {},
     "output_type": "execute_result"
    }
   ],
   "source": [
    "smp.Sum(y, (n, 1, 4)).n()"
   ]
  },
  {
   "cell_type": "code",
   "execution_count": null,
   "id": "636d3606-144c-4ba6-9c27-7ab8a0b02a98",
   "metadata": {},
   "outputs": [],
   "source": []
  },
  {
   "cell_type": "code",
   "execution_count": null,
   "id": "00247245-7370-4cd3-97fb-483844898833",
   "metadata": {},
   "outputs": [],
   "source": []
  }
 ],
 "metadata": {
  "kernelspec": {
   "display_name": "Python 3 (ipykernel)",
   "language": "python",
   "name": "python3"
  },
  "language_info": {
   "codemirror_mode": {
    "name": "ipython",
    "version": 3
   },
   "file_extension": ".py",
   "mimetype": "text/x-python",
   "name": "python",
   "nbconvert_exporter": "python",
   "pygments_lexer": "ipython3",
   "version": "3.9.13"
  }
 },
 "nbformat": 4,
 "nbformat_minor": 5
}
