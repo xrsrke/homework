{
 "cells": [
  {
   "cell_type": "code",
   "execution_count": null,
   "id": "57ee5646-e611-4441-beb3-ed5ce95c4a45",
   "metadata": {},
   "outputs": [],
   "source": [
    "import sympy as smp\n",
    "import sympy.physics.mechanics as me"
   ]
  },
  {
   "cell_type": "code",
   "execution_count": null,
   "id": "d29c5209-532d-4ea8-81b6-fa177c142c00",
   "metadata": {},
   "outputs": [],
   "source": []
  },
  {
   "cell_type": "code",
   "execution_count": null,
   "id": "5ff8dcfc-9b19-4a5c-8b9c-fbe6b0a07bfb",
   "metadata": {},
   "outputs": [],
   "source": [
    "N = me.ReferenceFrame('N')"
   ]
  },
  {
   "cell_type": "code",
   "execution_count": null,
   "id": "57ae9911-a8d2-47d9-b068-9c8b0253e00a",
   "metadata": {},
   "outputs": [],
   "source": [
    "a1, a2, a3 = smp.symbols('a1 a2 a3')"
   ]
  },
  {
   "cell_type": "code",
   "execution_count": null,
   "id": "ddcac8bd-bbe8-42bf-8aa7-b1320bfbab17",
   "metadata": {},
   "outputs": [],
   "source": [
    "b1, b2, b3 = smp.symbols('b1 b2 b3')"
   ]
  },
  {
   "cell_type": "code",
   "execution_count": null,
   "id": "9ee8c109-aee2-40d9-9b71-6dc411d95c84",
   "metadata": {},
   "outputs": [],
   "source": [
    "x = a1 * N.x + a2 * N.y + a3 * N.z"
   ]
  },
  {
   "cell_type": "code",
   "execution_count": null,
   "id": "cd0a626d-0672-4ef1-aea8-c48653e8ea2e",
   "metadata": {},
   "outputs": [],
   "source": [
    "y = b1 * N.x + b2 * N.y + b3 * N.z"
   ]
  },
  {
   "cell_type": "code",
   "execution_count": null,
   "id": "dbbe0a0c-09e2-43bb-b454-7ea3c4ae0b69",
   "metadata": {},
   "outputs": [
    {
     "data": {
      "text/latex": [
       "$\\displaystyle a_{1} b_{1} + a_{2} b_{2} + a_{3} b_{3}$"
      ],
      "text/plain": [
       "a1*b1 + a2*b2 + a3*b3"
      ]
     },
     "execution_count": null,
     "metadata": {},
     "output_type": "execute_result"
    }
   ],
   "source": [
    "me.dot(x, y)"
   ]
  },
  {
   "cell_type": "code",
   "execution_count": null,
   "id": "bf5bf648-d688-411f-a558-9117058f9d9d",
   "metadata": {},
   "outputs": [],
   "source": [
    "beta, d = me.dynamicsymbols('beta d')"
   ]
  },
  {
   "cell_type": "code",
   "execution_count": null,
   "id": "093556ca-bf26-4ad9-9358-13020381b4a6",
   "metadata": {},
   "outputs": [
    {
     "data": {
      "text/latex": [
       "$\\displaystyle \\beta{\\left(t \\right)}$"
      ],
      "text/plain": [
       "beta(t)"
      ]
     },
     "execution_count": null,
     "metadata": {},
     "output_type": "execute_result"
    }
   ],
   "source": [
    "beta"
   ]
  },
  {
   "cell_type": "code",
   "execution_count": null,
   "id": "bb42e458-6703-47b8-8456-cf08ad8f1434",
   "metadata": {},
   "outputs": [
    {
     "data": {
      "text/latex": [
       "$\\displaystyle d{\\left(t \\right)}$"
      ],
      "text/plain": [
       "d(t)"
      ]
     },
     "execution_count": null,
     "metadata": {},
     "output_type": "execute_result"
    }
   ],
   "source": [
    "d"
   ]
  },
  {
   "cell_type": "code",
   "execution_count": null,
   "id": "977d384a-46ac-4c3f-ae3a-cc877257f4dd",
   "metadata": {},
   "outputs": [],
   "source": []
  }
 ],
 "metadata": {
  "kernelspec": {
   "display_name": "Python 3 (ipykernel)",
   "language": "python",
   "name": "python3"
  }
 },
 "nbformat": 4,
 "nbformat_minor": 5
}
