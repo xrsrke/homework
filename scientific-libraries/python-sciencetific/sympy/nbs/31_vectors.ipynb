{
 "cells": [
  {
   "cell_type": "markdown",
   "id": "07b3a92e-cff8-4f75-92be-234679ea9a89",
   "metadata": {},
   "source": [
    "### Coordinate Systems and Vectors"
   ]
  },
  {
   "cell_type": "code",
   "execution_count": 2,
   "id": "7df8e47c-8188-4acc-976d-73266db0eb9d",
   "metadata": {},
   "outputs": [],
   "source": [
    "from sympy.vector import CoordSys3D"
   ]
  },
  {
   "cell_type": "code",
   "execution_count": 3,
   "id": "27d008ad-4d26-40d2-9071-77d2889f66e9",
   "metadata": {},
   "outputs": [],
   "source": [
    "N = CoordSys3D('N')"
   ]
  },
  {
   "cell_type": "code",
   "execution_count": 4,
   "id": "94296f4d-1651-4578-87aa-65b949c5b3a8",
   "metadata": {},
   "outputs": [
    {
     "data": {
      "text/latex": [
       "$\\displaystyle \\operatorname{CoordSys3D}\\left(N, \\left( \\left[\\begin{matrix}1 & 0 & 0\\\\0 & 1 & 0\\\\0 & 0 & 1\\end{matrix}\\right], \\  \\mathbf{\\hat{0}}\\right)\\right)$"
      ],
      "text/plain": [
       "N"
      ]
     },
     "execution_count": 4,
     "metadata": {},
     "output_type": "execute_result"
    }
   ],
   "source": [
    "N"
   ]
  },
  {
   "cell_type": "code",
   "execution_count": 5,
   "id": "1e033687-a5aa-4e02-9eb3-a1b771a3825a",
   "metadata": {},
   "outputs": [
    {
     "data": {
      "text/latex": [
       "$\\displaystyle \\mathbf{\\hat{i}_{N}}$"
      ],
      "text/plain": [
       "N.i"
      ]
     },
     "execution_count": 5,
     "metadata": {},
     "output_type": "execute_result"
    }
   ],
   "source": [
    "N.i"
   ]
  },
  {
   "cell_type": "code",
   "execution_count": 6,
   "id": "f1fe6e97-cd74-4240-86c8-0c93279f57db",
   "metadata": {},
   "outputs": [],
   "source": [
    "v = N.i - 2*N.j"
   ]
  },
  {
   "cell_type": "code",
   "execution_count": 7,
   "id": "ef490cf4-c6bc-4f3a-a2e0-7ad75bcf5abe",
   "metadata": {},
   "outputs": [
    {
     "data": {
      "text/latex": [
       "$\\displaystyle \\mathbf{\\hat{i}_{N}} + (-2)\\mathbf{\\hat{j}_{N}}$"
      ],
      "text/plain": [
       "N.i + (-2)*N.j"
      ]
     },
     "execution_count": 7,
     "metadata": {},
     "output_type": "execute_result"
    }
   ],
   "source": [
    "v"
   ]
  },
  {
   "cell_type": "markdown",
   "id": "e70ceeea-ef34-4dca-85e0-568b0639e34e",
   "metadata": {},
   "source": [
    "### SymPy operations on Vectors"
   ]
  },
  {
   "cell_type": "code",
   "execution_count": 9,
   "id": "4fc45431-1624-44f3-8169-6e3dd05eeb9f",
   "metadata": {},
   "outputs": [],
   "source": [
    "import sympy as smp\n",
    "from sympy.abc import a, b, c"
   ]
  },
  {
   "cell_type": "code",
   "execution_count": 10,
   "id": "984b18f3-dd3b-443a-84ba-368b11cd3aec",
   "metadata": {},
   "outputs": [],
   "source": [
    "v = (a*b + a*c + b**2 + b*c) * N.i + N.j"
   ]
  },
  {
   "cell_type": "code",
   "execution_count": 11,
   "id": "9da9a74f-85dd-42d4-9a52-9bb7d1a25bbb",
   "metadata": {},
   "outputs": [
    {
     "data": {
      "text/latex": [
       "$\\displaystyle (a b + a c + b^{2} + b c)\\mathbf{\\hat{i}_{N}} + \\mathbf{\\hat{j}_{N}}$"
      ],
      "text/plain": [
       "(a*b + a*c + b**2 + b*c)*N.i + N.j"
      ]
     },
     "execution_count": 11,
     "metadata": {},
     "output_type": "execute_result"
    }
   ],
   "source": [
    "v"
   ]
  },
  {
   "cell_type": "code",
   "execution_count": 12,
   "id": "a34724ac-d6c9-4d46-a44a-447c7ccbf855",
   "metadata": {},
   "outputs": [
    {
     "data": {
      "text/latex": [
       "$\\displaystyle (\\left(a + b\\right) \\left(b + c\\right))\\mathbf{\\hat{i}_{N}} + \\mathbf{\\hat{j}_{N}}$"
      ],
      "text/plain": [
       "((a + b)*(b + c))*N.i + N.j"
      ]
     },
     "execution_count": 12,
     "metadata": {},
     "output_type": "execute_result"
    }
   ],
   "source": [
    "v.factor()"
   ]
  },
  {
   "cell_type": "markdown",
   "id": "49c85e4c-b72b-42d1-b5d9-7cb7777a92ec",
   "metadata": {},
   "source": [
    "### Point"
   ]
  },
  {
   "cell_type": "code",
   "execution_count": 13,
   "id": "50de0857-59c8-4091-821e-3e397943ffb0",
   "metadata": {},
   "outputs": [
    {
     "data": {
      "text/latex": [
       "$\\displaystyle \\operatorname{Point}\\left(N.origin, \\mathbf{\\hat{0}}\\right)$"
      ],
      "text/plain": [
       "N.origin"
      ]
     },
     "execution_count": 13,
     "metadata": {},
     "output_type": "execute_result"
    }
   ],
   "source": [
    "N.origin"
   ]
  },
  {
   "cell_type": "code",
   "execution_count": 20,
   "id": "4dd833c9-6bc7-4d1d-b991-0c13ae6a67f0",
   "metadata": {},
   "outputs": [],
   "source": [
    "P = N.origin.locate_new('P', a*N.i + b*N.j + c*N.k)"
   ]
  },
  {
   "cell_type": "code",
   "execution_count": 15,
   "id": "4b8b6710-0140-4604-82ab-55b0d609b768",
   "metadata": {},
   "outputs": [
    {
     "data": {
      "text/latex": [
       "$\\displaystyle \\operatorname{Point}\\left(P, (a)\\mathbf{\\hat{i}_{N}} + (b)\\mathbf{\\hat{j}_{N}} + (c)\\mathbf{\\hat{k}_{N}}, \\operatorname{Point}\\left(N.origin, \\mathbf{\\hat{0}}\\right)\\right)$"
      ],
      "text/plain": [
       "P"
      ]
     },
     "execution_count": 15,
     "metadata": {},
     "output_type": "execute_result"
    }
   ],
   "source": [
    "P"
   ]
  },
  {
   "cell_type": "code",
   "execution_count": 25,
   "id": "1e25880f-b550-4ee6-a0ed-97ef598b17ad",
   "metadata": {},
   "outputs": [],
   "source": [
    "K = CoordSys3D('K')"
   ]
  },
  {
   "cell_type": "code",
   "execution_count": 24,
   "id": "df09d1e4-bd7a-45ca-916e-8ce0415e1a25",
   "metadata": {},
   "outputs": [
    {
     "data": {
      "text/plain": [
       "(a, b, c)"
      ]
     },
     "execution_count": 24,
     "metadata": {},
     "output_type": "execute_result"
    }
   ],
   "source": [
    "P.express_coordinates(N)"
   ]
  },
  {
   "cell_type": "code",
   "execution_count": 27,
   "id": "c6d38af0-d0e6-4164-a6e3-5b602921d9f4",
   "metadata": {},
   "outputs": [],
   "source": [
    "Q= N.locate_new('Q', a*N.i + b*N.j)"
   ]
  },
  {
   "cell_type": "markdown",
   "id": "9eeb31db-1c94-4748-8a10-897676052574",
   "metadata": {},
   "source": [
    "### Locating a new coordinate system with respect to other coordinate system"
   ]
  },
  {
   "cell_type": "code",
   "execution_count": 28,
   "id": "03ff6845-aa78-4d2d-800d-d43a13048c45",
   "metadata": {},
   "outputs": [],
   "source": [
    "from sympy.vector import CoordSys3D"
   ]
  },
  {
   "cell_type": "code",
   "execution_count": 29,
   "id": "b9bb2752-1a5f-448a-a769-fdda1dfa7f67",
   "metadata": {},
   "outputs": [],
   "source": [
    "N = CoordSys3D('N')"
   ]
  },
  {
   "cell_type": "code",
   "execution_count": 33,
   "id": "cec43d20-41bd-47a2-809a-e1a5adba29d1",
   "metadata": {},
   "outputs": [],
   "source": [
    "M = N.locate_new('M', 3*N.i + 4*N.j + 5*N.k)"
   ]
  },
  {
   "cell_type": "code",
   "execution_count": 34,
   "id": "f152e663-d455-458e-94de-ca7d4f7e99cd",
   "metadata": {},
   "outputs": [
    {
     "data": {
      "text/latex": [
       "$\\displaystyle (3)\\mathbf{\\hat{i}_{N}} + (4)\\mathbf{\\hat{j}_{N}} + (5)\\mathbf{\\hat{k}_{N}}$"
      ],
      "text/plain": [
       "3*N.i + 4*N.j + 5*N.k"
      ]
     },
     "execution_count": 34,
     "metadata": {},
     "output_type": "execute_result"
    }
   ],
   "source": [
    "M.position_wrt(N)"
   ]
  },
  {
   "cell_type": "markdown",
   "id": "2ac87905-75e5-4b3a-828c-cbfbaffa7cd2",
   "metadata": {
    "tags": []
   },
   "source": [
    "#### By rotates $\\theta$ with respect to an axis"
   ]
  },
  {
   "cell_type": "markdown",
   "id": "57120315-0068-4c56-999c-5dbd843421f3",
   "metadata": {},
   "source": [
    "##### Example 1"
   ]
  },
  {
   "cell_type": "code",
   "execution_count": 35,
   "id": "bcd24bd1-3f53-4dce-9dc7-eb90bc92dd58",
   "metadata": {},
   "outputs": [],
   "source": [
    "N = CoordSys3D('N')"
   ]
  },
  {
   "cell_type": "code",
   "execution_count": 36,
   "id": "8e6cb5ef-6c91-410e-a9a3-8ae53312e738",
   "metadata": {},
   "outputs": [],
   "source": [
    "M = N.orient_new_axis('M', 30, N.k)"
   ]
  },
  {
   "cell_type": "code",
   "execution_count": 37,
   "id": "00324e88-0b29-4bfc-bb73-9a16d7f9f461",
   "metadata": {},
   "outputs": [
    {
     "data": {
      "text/latex": [
       "$\\displaystyle \\operatorname{CoordSys3D}\\left(M, \\left( \\left[\\begin{matrix}\\cos{\\left(30 \\right)} & \\sin{\\left(30 \\right)} & 0\\\\- \\sin{\\left(30 \\right)} & \\cos{\\left(30 \\right)} & 0\\\\0 & 0 & 1\\end{matrix}\\right], \\  \\mathbf{\\hat{0}}\\right), \\operatorname{CoordSys3D}\\left(N, \\left( \\left[\\begin{matrix}1 & 0 & 0\\\\0 & 1 & 0\\\\0 & 0 & 1\\end{matrix}\\right], \\  \\mathbf{\\hat{0}}\\right)\\right)\\right)$"
      ],
      "text/plain": [
       "M"
      ]
     },
     "execution_count": 37,
     "metadata": {},
     "output_type": "execute_result"
    }
   ],
   "source": [
    "M"
   ]
  },
  {
   "cell_type": "markdown",
   "id": "247c5997-ebe4-45ec-afd1-d623b4e6e41b",
   "metadata": {},
   "source": [
    "##### Example 2"
   ]
  },
  {
   "cell_type": "code",
   "execution_count": 38,
   "id": "93c214bc-1a94-466d-939a-9bc358ba73d0",
   "metadata": {},
   "outputs": [],
   "source": [
    "N = CoordSys3D('N')"
   ]
  },
  {
   "cell_type": "code",
   "execution_count": 39,
   "id": "29baa598-a2a1-47c5-abdf-1c6cb28f2eec",
   "metadata": {},
   "outputs": [],
   "source": [
    "from sympy.vector import AxisOrienter"
   ]
  },
  {
   "cell_type": "code",
   "execution_count": 40,
   "id": "a42b93e8-c8be-4537-bcdd-cd894779d675",
   "metadata": {},
   "outputs": [],
   "source": [
    "theta = smp.symbols('theta')"
   ]
  },
  {
   "cell_type": "code",
   "execution_count": 41,
   "id": "0615aec0-3a94-4b91-9f52-d58e00ee19fa",
   "metadata": {},
   "outputs": [],
   "source": [
    "axis_orienter = AxisOrienter(theta, N.k)"
   ]
  },
  {
   "cell_type": "code",
   "execution_count": 42,
   "id": "82788216-cfd5-44e6-b363-989a0655d9ee",
   "metadata": {},
   "outputs": [],
   "source": [
    "M = N.orient_new('M', axis_orienter)"
   ]
  },
  {
   "cell_type": "markdown",
   "id": "00a03b35-1012-4af7-87ae-ba447f5415ff",
   "metadata": {},
   "source": [
    "##### Example 3: Find the rotation matrix of an coordsys with respect to another coordsys"
   ]
  },
  {
   "cell_type": "code",
   "execution_count": 45,
   "id": "98a3aa0e-a177-4d01-8714-eef5f429e918",
   "metadata": {},
   "outputs": [
    {
     "data": {
      "text/latex": [
       "$\\displaystyle \\left[\\begin{matrix}\\cos{\\left(\\theta \\right)} & \\sin{\\left(\\theta \\right)} & 0\\\\- \\sin{\\left(\\theta \\right)} & \\cos{\\left(\\theta \\right)} & 0\\\\0 & 0 & 1\\end{matrix}\\right]$"
      ],
      "text/plain": [
       "Matrix([\n",
       "[ cos(theta), sin(theta), 0],\n",
       "[-sin(theta), cos(theta), 0],\n",
       "[          0,          0, 1]])"
      ]
     },
     "execution_count": 45,
     "metadata": {},
     "output_type": "execute_result"
    }
   ],
   "source": [
    "M.rotation_matrix(N)"
   ]
  },
  {
   "cell_type": "markdown",
   "id": "7ef0a7f5-1549-4526-aca7-1bbd92e612a9",
   "metadata": {},
   "source": [
    "### Transforming New System"
   ]
  },
  {
   "cell_type": "markdown",
   "id": "991ebcc7-5758-488a-888d-cac27aad6312",
   "metadata": {},
   "source": [
    "### Expression of quantities in different coordinate systems"
   ]
  },
  {
   "cell_type": "markdown",
   "id": "c1881e0e-9b03-4d7d-8975-e942bfe037f7",
   "metadata": {},
   "source": [
    "##### Example 1: Find the expression of an vector with respect to another coordinate system"
   ]
  },
  {
   "cell_type": "code",
   "execution_count": 46,
   "id": "9a2ffa65-fc04-4b1f-b3b2-0722ae9f2fef",
   "metadata": {},
   "outputs": [],
   "source": [
    "from sympy.vector import CoordSys3D, express\n",
    "from sympy.abc import a, b, c\n",
    "N = CoordSys3D('N')\n",
    "M = N.orient_new_axis('M', a, N.k)"
   ]
  },
  {
   "cell_type": "code",
   "execution_count": 47,
   "id": "84243b23-a9de-4871-969a-dc8e6fe4c49e",
   "metadata": {},
   "outputs": [],
   "source": [
    "v1 = N.i + N.k + N.k"
   ]
  },
  {
   "cell_type": "code",
   "execution_count": 50,
   "id": "687a92ec-204d-438d-bd17-6f8fc6c9c9f9",
   "metadata": {},
   "outputs": [
    {
     "data": {
      "text/latex": [
       "$\\displaystyle (\\cos{\\left(a \\right)})\\mathbf{\\hat{i}_{M}} + (- \\sin{\\left(a \\right)})\\mathbf{\\hat{j}_{M}} + (2)\\mathbf{\\hat{k}_{M}}$"
      ],
      "text/plain": [
       "(cos(a))*M.i + (-sin(a))*M.j + 2*M.k"
      ]
     },
     "execution_count": 50,
     "metadata": {},
     "output_type": "execute_result"
    }
   ],
   "source": [
    "express(v1, M)"
   ]
  },
  {
   "cell_type": "code",
   "execution_count": 51,
   "id": "874bcb52-7992-4a71-86d5-694a7d78c4ad",
   "metadata": {},
   "outputs": [
    {
     "data": {
      "text/latex": [
       "$\\displaystyle (\\cos{\\left(a \\right)})\\mathbf{\\hat{i}_{M}} + (- \\sin{\\left(a \\right)})\\mathbf{\\hat{j}_{M}} + (2)\\mathbf{\\hat{k}_{M}}$"
      ],
      "text/plain": [
       "(cos(a))*M.i + (-sin(a))*M.j + 2*M.k"
      ]
     },
     "execution_count": 51,
     "metadata": {},
     "output_type": "execute_result"
    }
   ],
   "source": [
    "express(v1, M, variables=True)"
   ]
  },
  {
   "cell_type": "code",
   "execution_count": 55,
   "id": "a0b06107-4c86-4fd2-ae07-33ecb05ba488",
   "metadata": {},
   "outputs": [
    {
     "ename": "AttributeError",
     "evalue": "'VectorAdd' object has no attribute 'express_coordinates'",
     "output_type": "error",
     "traceback": [
      "\u001b[0;31m---------------------------------------------------------------------------\u001b[0m",
      "\u001b[0;31mAttributeError\u001b[0m                            Traceback (most recent call last)",
      "Input \u001b[0;32mIn [55]\u001b[0m, in \u001b[0;36m<cell line: 1>\u001b[0;34m()\u001b[0m\n\u001b[0;32m----> 1\u001b[0m \u001b[43mv1\u001b[49m\u001b[38;5;241;43m.\u001b[39;49m\u001b[43mexpress_coordinates\u001b[49m(M)\n",
      "\u001b[0;31mAttributeError\u001b[0m: 'VectorAdd' object has no attribute 'express_coordinates'"
     ]
    }
   ],
   "source": [
    "v1.express_coordinates(M)"
   ]
  },
  {
   "cell_type": "code",
   "execution_count": 57,
   "id": "424925b8-fe03-471d-bcae-7d7672ff5a18",
   "metadata": {},
   "outputs": [
    {
     "data": {
      "text/latex": [
       "$\\displaystyle \\left[\\begin{matrix}1\\\\0\\\\2\\end{matrix}\\right]$"
      ],
      "text/plain": [
       "Matrix([\n",
       "[1],\n",
       "[0],\n",
       "[2]])"
      ]
     },
     "execution_count": 57,
     "metadata": {},
     "output_type": "execute_result"
    }
   ],
   "source": [
    "v1.to_matrix(N)"
   ]
  },
  {
   "cell_type": "code",
   "execution_count": null,
   "id": "9112abd8-67f5-4f45-b978-fdec568851dc",
   "metadata": {},
   "outputs": [],
   "source": []
  }
 ],
 "metadata": {
  "kernelspec": {
   "display_name": "Python 3 (ipykernel)",
   "language": "python",
   "name": "python3"
  },
  "language_info": {
   "codemirror_mode": {
    "name": "ipython",
    "version": 3
   },
   "file_extension": ".py",
   "mimetype": "text/x-python",
   "name": "python",
   "nbconvert_exporter": "python",
   "pygments_lexer": "ipython3",
   "version": "3.9.13"
  }
 },
 "nbformat": 4,
 "nbformat_minor": 5
}
