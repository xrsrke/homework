{
 "cells": [
  {
   "cell_type": "code",
   "execution_count": null,
   "id": "86990b2f-f2cd-4e79-ad07-827afae69d36",
   "metadata": {},
   "outputs": [],
   "source": [
    "from sympy.physics.vector import ReferenceFrame"
   ]
  },
  {
   "cell_type": "markdown",
   "id": "85fe1f9e-aa2a-42ce-b151-dced5296aa9f",
   "metadata": {},
   "source": [
    "### Vectors"
   ]
  },
  {
   "cell_type": "code",
   "execution_count": null,
   "id": "d8f07569-8d30-4ebc-b87e-d9e0201d35e3",
   "metadata": {},
   "outputs": [],
   "source": [
    "from sympy.physics.vector import ReferenceFrame"
   ]
  },
  {
   "cell_type": "markdown",
   "id": "73fc045b-8b68-4cd0-ad15-6a8de924faec",
   "metadata": {},
   "source": [
    "Create a frame of reference `N`"
   ]
  },
  {
   "cell_type": "code",
   "execution_count": null,
   "id": "db2ccdee-8588-4a67-b601-bb4c2aabba3a",
   "metadata": {},
   "outputs": [],
   "source": [
    "N = ReferenceFrame('N')"
   ]
  },
  {
   "cell_type": "code",
   "execution_count": null,
   "id": "3fd06903-a610-4a35-900f-62b99e262ab4",
   "metadata": {},
   "outputs": [
    {
     "data": {
      "text/plain": [
       "N"
      ]
     },
     "execution_count": null,
     "metadata": {},
     "output_type": "execute_result"
    }
   ],
   "source": [
    "N"
   ]
  },
  {
   "cell_type": "markdown",
   "id": "b6d1c896-11b7-4ba9-a968-a642f172b313",
   "metadata": {},
   "source": [
    "`N` is a frame of reference. Access its coordinate"
   ]
  },
  {
   "cell_type": "code",
   "execution_count": null,
   "id": "fb09de8e-5214-467c-a747-c6c7d6fe6b7a",
   "metadata": {},
   "outputs": [],
   "source": [
    "x, z = N.x, N.z"
   ]
  },
  {
   "cell_type": "code",
   "execution_count": null,
   "id": "5bbde0d1-06b3-4d39-ba72-440f19c946a5",
   "metadata": {},
   "outputs": [
    {
     "data": {
      "text/latex": [
       "$\\displaystyle \\mathbf{\\hat{n}_x}$"
      ],
      "text/plain": [
       "N.x"
      ]
     },
     "execution_count": null,
     "metadata": {},
     "output_type": "execute_result"
    }
   ],
   "source": [
    "x"
   ]
  },
  {
   "cell_type": "code",
   "execution_count": null,
   "id": "7cfbd62c-67cd-40c5-9636-97ab1a499df3",
   "metadata": {},
   "outputs": [
    {
     "data": {
      "text/latex": [
       "$\\displaystyle \\mathbf{\\hat{n}_z}$"
      ],
      "text/plain": [
       "N.z"
      ]
     },
     "execution_count": null,
     "metadata": {},
     "output_type": "execute_result"
    }
   ],
   "source": [
    "z"
   ]
  },
  {
   "cell_type": "code",
   "execution_count": null,
   "id": "db96b001-610e-4e44-bd4e-b4017b95fe71",
   "metadata": {},
   "outputs": [],
   "source": [
    "from sympy.abc import c, d, e, f, g, h"
   ]
  },
  {
   "cell_type": "code",
   "execution_count": null,
   "id": "ed15afdd-7c18-4290-b6c2-5be9146e22b1",
   "metadata": {},
   "outputs": [],
   "source": [
    "a = c * N.x + d * N.y + e * N.z"
   ]
  },
  {
   "cell_type": "code",
   "execution_count": null,
   "id": "f5470f67-2b0a-469b-bef6-75d55ffda71d",
   "metadata": {},
   "outputs": [
    {
     "data": {
      "text/latex": [
       "$\\displaystyle \\left[\\begin{matrix}c\\\\d\\\\e\\end{matrix}\\right]$"
      ],
      "text/plain": [
       "Matrix([\n",
       "[c],\n",
       "[d],\n",
       "[e]])"
      ]
     },
     "execution_count": null,
     "metadata": {},
     "output_type": "execute_result"
    }
   ],
   "source": [
    "a.to_matrix(N)"
   ]
  },
  {
   "cell_type": "code",
   "execution_count": null,
   "id": "46da0ff8-83c4-4c37-b9af-f5a0244f4bad",
   "metadata": {},
   "outputs": [],
   "source": [
    "b = f * N.x + g * N.y + h * N.z"
   ]
  },
  {
   "cell_type": "code",
   "execution_count": null,
   "id": "d875141a-c66b-471b-9d0b-fc52ca04648d",
   "metadata": {},
   "outputs": [
    {
     "data": {
      "text/latex": [
       "$\\displaystyle f\\mathbf{\\hat{n}_x} + g\\mathbf{\\hat{n}_y} + h\\mathbf{\\hat{n}_z}$"
      ],
      "text/plain": [
       "f*N.x + g*N.y + h*N.z"
      ]
     },
     "execution_count": null,
     "metadata": {},
     "output_type": "execute_result"
    }
   ],
   "source": [
    "b"
   ]
  },
  {
   "cell_type": "code",
   "execution_count": null,
   "id": "4894252c-8942-4afa-bac5-0dcb2f25c009",
   "metadata": {},
   "outputs": [
    {
     "data": {
      "text/latex": [
       "$\\displaystyle \\sqrt{c^{2} + d^{2} + e^{2}}$"
      ],
      "text/plain": [
       "sqrt(c**2 + d**2 + e**2)"
      ]
     },
     "execution_count": null,
     "metadata": {},
     "output_type": "execute_result"
    }
   ],
   "source": [
    "a.magnitude()"
   ]
  },
  {
   "cell_type": "code",
   "execution_count": null,
   "id": "96eeeacc-dd03-4f6f-8888-5c68923dffc2",
   "metadata": {},
   "outputs": [
    {
     "data": {
      "text/latex": [
       "$\\displaystyle (c + f)\\mathbf{\\hat{n}_x} + (d + g)\\mathbf{\\hat{n}_y} + (e + h)\\mathbf{\\hat{n}_z}$"
      ],
      "text/plain": [
       "(c + f)*N.x + (d + g)*N.y + (e + h)*N.z"
      ]
     },
     "execution_count": null,
     "metadata": {},
     "output_type": "execute_result"
    }
   ],
   "source": [
    "a + b"
   ]
  },
  {
   "cell_type": "markdown",
   "id": "ac5dda60-684e-4d71-b1a4-85206efa7c02",
   "metadata": {},
   "source": [
    "### Scaling"
   ]
  },
  {
   "cell_type": "code",
   "execution_count": null,
   "id": "651bd444-49c1-4d67-a2e2-bdf7e0d98483",
   "metadata": {},
   "outputs": [],
   "source": [
    "b = 2 * a"
   ]
  },
  {
   "cell_type": "code",
   "execution_count": null,
   "id": "c51a691b-4148-434a-bac9-62086ad47ab9",
   "metadata": {},
   "outputs": [
    {
     "data": {
      "text/latex": [
       "$\\displaystyle 2 c\\mathbf{\\hat{n}_x} + 2 d\\mathbf{\\hat{n}_y} + 2 e\\mathbf{\\hat{n}_z}$"
      ],
      "text/plain": [
       "2*c*N.x + 2*d*N.y + 2*e*N.z"
      ]
     },
     "execution_count": null,
     "metadata": {},
     "output_type": "execute_result"
    }
   ],
   "source": [
    "b"
   ]
  },
  {
   "cell_type": "code",
   "execution_count": null,
   "id": "f5fd02ff-7d4e-45e0-b3fd-a6603737266c",
   "metadata": {},
   "outputs": [],
   "source": []
  },
  {
   "cell_type": "markdown",
   "id": "9962928e-8d8b-40a0-bf7b-1ec3dc5afcf8",
   "metadata": {},
   "source": [
    "#### Exercise\n",
    "\n",
    "Create three vectors that lie in the $XY$ plane where each vector is:\n",
    "\n",
    "1. of length $l$ that is at an angle of $\\frac{\\pi}{4}$ degrees from the $X$ axis\n",
    "2. of length $10$ and is in the $-Y$ direction\n",
    "3. of length $l$ and is $\\theta$ radians from the $Y$ axis\n",
    "\n",
    "Finally, add vectors 1 and 2 and substract $5$ times the third vector.\n",
    "\n",
    "*Hint: SymPy has variables and trigonometic functions, for example `from sympy import tan, pi`*"
   ]
  },
  {
   "cell_type": "code",
   "execution_count": null,
   "id": "06d7348c-e17c-4610-b1c9-90b831222b87",
   "metadata": {},
   "outputs": [],
   "source": [
    "from sympy import sin, cos, pi"
   ]
  },
  {
   "cell_type": "code",
   "execution_count": null,
   "id": "4f02241d-a503-4d04-86d7-118fccf87faa",
   "metadata": {},
   "outputs": [],
   "source": [
    "from sympy.abc import l, theta"
   ]
  },
  {
   "cell_type": "code",
   "execution_count": null,
   "id": "c21fdd72-ebad-41a1-8374-dbc44b05ecfb",
   "metadata": {},
   "outputs": [],
   "source": [
    "N = ReferenceFrame('N')"
   ]
  },
  {
   "cell_type": "code",
   "execution_count": null,
   "id": "51d2aeb1-70e1-4a97-a472-5719b568f8b4",
   "metadata": {},
   "outputs": [],
   "source": [
    "#v1 = l*cos(p)"
   ]
  },
  {
   "cell_type": "markdown",
   "id": "cea5a99a-bae1-4414-8376-9d8b8b245cf9",
   "metadata": {},
   "source": [
    "### Dot Product (scalar product)"
   ]
  },
  {
   "cell_type": "code",
   "execution_count": null,
   "id": "6b672395-4a3e-4595-8012-7fd93360f982",
   "metadata": {},
   "outputs": [],
   "source": [
    "from sympy.abc import c, d, e, f, g, h"
   ]
  },
  {
   "cell_type": "code",
   "execution_count": null,
   "id": "1796b40a-a3c4-4cf1-8051-27a22939e817",
   "metadata": {},
   "outputs": [],
   "source": [
    "from sympy.physics.vector import ReferenceFrame, dot"
   ]
  },
  {
   "cell_type": "code",
   "execution_count": null,
   "id": "f9c0669a-8b84-42b3-843f-6f9cfdf198fc",
   "metadata": {},
   "outputs": [],
   "source": [
    "N = ReferenceFrame('N')"
   ]
  },
  {
   "cell_type": "code",
   "execution_count": null,
   "id": "19c0ad8a-0983-4c7b-ba76-26cef935cacf",
   "metadata": {},
   "outputs": [],
   "source": [
    "a = c * N.x + d * N.y + e * N.z"
   ]
  },
  {
   "cell_type": "code",
   "execution_count": null,
   "id": "2583ce77-7c5c-4bc0-8d68-17b6414a2fe6",
   "metadata": {},
   "outputs": [
    {
     "data": {
      "text/latex": [
       "$\\displaystyle c\\mathbf{\\hat{n}_x} + d\\mathbf{\\hat{n}_y} + e\\mathbf{\\hat{n}_z}$"
      ],
      "text/plain": [
       "c*N.x + d*N.y + e*N.z"
      ]
     },
     "execution_count": null,
     "metadata": {},
     "output_type": "execute_result"
    }
   ],
   "source": [
    "a"
   ]
  },
  {
   "cell_type": "code",
   "execution_count": null,
   "id": "716304f4-3f2b-4b10-8b3a-07c95489b180",
   "metadata": {},
   "outputs": [],
   "source": [
    "b = f * N.x + g * N.y + h * N.z"
   ]
  },
  {
   "cell_type": "code",
   "execution_count": null,
   "id": "b2c7737d-9584-4805-9850-3c4b9a231ef6",
   "metadata": {},
   "outputs": [
    {
     "data": {
      "text/latex": [
       "$\\displaystyle f\\mathbf{\\hat{n}_x} + g\\mathbf{\\hat{n}_y} + h\\mathbf{\\hat{n}_z}$"
      ],
      "text/plain": [
       "f*N.x + g*N.y + h*N.z"
      ]
     },
     "execution_count": null,
     "metadata": {},
     "output_type": "execute_result"
    }
   ],
   "source": [
    "b"
   ]
  },
  {
   "cell_type": "code",
   "execution_count": null,
   "id": "7ec4aa1a-7a5d-415e-8ead-c057d7dd921f",
   "metadata": {},
   "outputs": [
    {
     "data": {
      "text/latex": [
       "$\\displaystyle c f + d g + e h$"
      ],
      "text/plain": [
       "c*f + d*g + e*h"
      ]
     },
     "execution_count": null,
     "metadata": {},
     "output_type": "execute_result"
    }
   ],
   "source": [
    "dot(a, b)"
   ]
  },
  {
   "cell_type": "markdown",
   "id": "76c7ff92-fa28-4cc1-89e7-2872f6d77627",
   "metadata": {},
   "source": [
    "#### Exercise\n",
    "\n",
    "Given the vectors $\\v{v}_1 = a \\hat{\\mathbf{n}}_x + b\\hat{\\mathbf{n}}_y + a \\hat{\\mathbf{n}}_z$ and $\\v{v}_2=b \\hat{\\mathbf{n}}_x + a\\hat{\\mathbf{n}}_y + b \\hat{\\mathbf{n}}_z$ find the angle between the two vectors using the dot product."
   ]
  },
  {
   "cell_type": "code",
   "execution_count": null,
   "id": "d490e8c6-1e88-4282-a26f-dd5e0e0c87bb",
   "metadata": {},
   "outputs": [],
   "source": [
    "import sympy as smp"
   ]
  },
  {
   "cell_type": "code",
   "execution_count": null,
   "id": "2a97596c-d7ab-4e57-94d8-e21e311ef80c",
   "metadata": {},
   "outputs": [],
   "source": [
    "a, b = smp.symbols('a b', real=True)"
   ]
  },
  {
   "cell_type": "code",
   "execution_count": null,
   "id": "1f16bc33-3c33-4bcb-952f-cd752ed0ee51",
   "metadata": {},
   "outputs": [],
   "source": [
    "v1 = a * N.x + b * N.y + a * N.z"
   ]
  },
  {
   "cell_type": "code",
   "execution_count": null,
   "id": "a2f4c574-c482-4616-b4dd-278887912bb2",
   "metadata": {},
   "outputs": [
    {
     "data": {
      "text/latex": [
       "$\\displaystyle a\\mathbf{\\hat{n}_x} + b\\mathbf{\\hat{n}_y} + a\\mathbf{\\hat{n}_z}$"
      ],
      "text/plain": [
       "a*N.x + b*N.y + a*N.z"
      ]
     },
     "execution_count": null,
     "metadata": {},
     "output_type": "execute_result"
    }
   ],
   "source": [
    "v1"
   ]
  },
  {
   "cell_type": "code",
   "execution_count": null,
   "id": "3d643e83-d007-47dd-ade5-aaaf7fd9c9ba",
   "metadata": {},
   "outputs": [],
   "source": [
    "v2 = b * N.x + a * N.y + b * N.z"
   ]
  },
  {
   "cell_type": "code",
   "execution_count": null,
   "id": "0018491e-11da-4adb-ae25-8c4bc30d8283",
   "metadata": {},
   "outputs": [
    {
     "data": {
      "text/latex": [
       "$\\displaystyle b\\mathbf{\\hat{n}_x} + a\\mathbf{\\hat{n}_y} + b\\mathbf{\\hat{n}_z}$"
      ],
      "text/plain": [
       "b*N.x + a*N.y + b*N.z"
      ]
     },
     "execution_count": null,
     "metadata": {},
     "output_type": "execute_result"
    }
   ],
   "source": [
    "v2"
   ]
  },
  {
   "cell_type": "code",
   "execution_count": null,
   "id": "d77bde77-2d26-4421-8843-cd9367f2bf8b",
   "metadata": {},
   "outputs": [],
   "source": [
    "eq1 = dot(v1, v2)"
   ]
  },
  {
   "cell_type": "code",
   "execution_count": null,
   "id": "bba15b2c-b07e-451f-ad56-0020ca95a4bb",
   "metadata": {},
   "outputs": [
    {
     "data": {
      "text/latex": [
       "$\\displaystyle 3 a b$"
      ],
      "text/plain": [
       "3*a*b"
      ]
     },
     "execution_count": null,
     "metadata": {},
     "output_type": "execute_result"
    }
   ],
   "source": [
    "eq1"
   ]
  },
  {
   "cell_type": "code",
   "execution_count": null,
   "id": "583d5a62-9e02-4838-8b2d-55580c11ebd2",
   "metadata": {},
   "outputs": [],
   "source": [
    "eq2 = v1.magnitude() * v2.magnitude() * cos(theta)"
   ]
  },
  {
   "cell_type": "code",
   "execution_count": null,
   "id": "57a91657-e4a0-488e-b78c-3e3c47c7e5ac",
   "metadata": {},
   "outputs": [
    {
     "data": {
      "text/latex": [
       "$\\displaystyle \\sqrt{a^{2} + 2 b^{2}} \\sqrt{2 a^{2} + b^{2}} \\cos{\\left(\\theta \\right)}$"
      ],
      "text/plain": [
       "sqrt(a**2 + 2*b**2)*sqrt(2*a**2 + b**2)*cos(theta)"
      ]
     },
     "execution_count": null,
     "metadata": {},
     "output_type": "execute_result"
    }
   ],
   "source": [
    "eq2"
   ]
  },
  {
   "cell_type": "code",
   "execution_count": null,
   "id": "51f74a2a-5de7-4dfc-b683-ce5572032515",
   "metadata": {},
   "outputs": [],
   "source": [
    "eq3 = eq1 - eq2"
   ]
  },
  {
   "cell_type": "code",
   "execution_count": null,
   "id": "481a42e3-0665-4fc9-9f2c-c3b7f7576f7c",
   "metadata": {},
   "outputs": [
    {
     "data": {
      "text/latex": [
       "$\\displaystyle 3 a b - \\sqrt{a^{2} + 2 b^{2}} \\sqrt{2 a^{2} + b^{2}} \\cos{\\left(\\theta \\right)}$"
      ],
      "text/plain": [
       "3*a*b - sqrt(a**2 + 2*b**2)*sqrt(2*a**2 + b**2)*cos(theta)"
      ]
     },
     "execution_count": null,
     "metadata": {},
     "output_type": "execute_result"
    }
   ],
   "source": [
    "eq3"
   ]
  },
  {
   "cell_type": "code",
   "execution_count": null,
   "id": "c5354f8a-0e3b-4f1b-9869-aca3e1213d39",
   "metadata": {},
   "outputs": [
    {
     "data": {
      "text/latex": [
       "$\\displaystyle 3 a b = \\sqrt{a^{2} + 2 b^{2}} \\sqrt{2 a^{2} + b^{2}} \\cos{\\left(\\theta \\right)}$"
      ],
      "text/plain": [
       "Eq(3*a*b, sqrt(a**2 + 2*b**2)*sqrt(2*a**2 + b**2)*cos(theta))"
      ]
     },
     "execution_count": null,
     "metadata": {},
     "output_type": "execute_result"
    }
   ],
   "source": [
    "smp.Eq(eq1, eq2)"
   ]
  },
  {
   "cell_type": "code",
   "execution_count": null,
   "id": "37cd3722-4c75-4b64-b2ee-4dddbd39e1c6",
   "metadata": {},
   "outputs": [
    {
     "data": {
      "text/latex": [
       "$\\displaystyle \\operatorname{acos}{\\left(\\frac{3 a b}{\\sqrt{2 a^{4} + 5 a^{2} b^{2} + 2 b^{4}}} \\right)}$"
      ],
      "text/plain": [
       "acos(3*a*b/sqrt(2*a**4 + 5*a**2*b**2 + 2*b**4))"
      ]
     },
     "execution_count": null,
     "metadata": {},
     "output_type": "execute_result"
    }
   ],
   "source": [
    "smp.solve(eq3, theta)[1]"
   ]
  },
  {
   "cell_type": "markdown",
   "id": "4b579193-45c8-40a3-be99-ddf991c4f482",
   "metadata": {},
   "source": [
    "### Cross Product"
   ]
  },
  {
   "cell_type": "markdown",
   "id": "02cfde85-2b75-469e-8d87-d40da3a76965",
   "metadata": {},
   "source": [
    "### Reference Frame"
   ]
  },
  {
   "cell_type": "code",
   "execution_count": null,
   "id": "62b30b83-c767-45fd-98b9-b1ee137cf8e8",
   "metadata": {},
   "outputs": [],
   "source": [
    "from sympy.abc import c, d, e, f, g, h, theta"
   ]
  },
  {
   "cell_type": "code",
   "execution_count": null,
   "id": "a060501d-ee5f-4163-9f95-70862e497942",
   "metadata": {},
   "outputs": [],
   "source": [
    "from sympy.physics.vector import ReferenceFrame, dot, cross"
   ]
  },
  {
   "cell_type": "code",
   "execution_count": null,
   "id": "ba6821de-7813-414b-8f95-2628d693251f",
   "metadata": {},
   "outputs": [],
   "source": [
    "A = ReferenceFrame('A')"
   ]
  },
  {
   "cell_type": "markdown",
   "id": "d60e9f52-f67f-4964-8804-81533709b992",
   "metadata": {},
   "source": [
    "Create a new reference frame `B` with respect to renference frame `A`"
   ]
  },
  {
   "cell_type": "code",
   "execution_count": null,
   "id": "6efa39e9-1090-42ea-bcc7-bba7ba4a897d",
   "metadata": {},
   "outputs": [],
   "source": [
    "B = A.orientnew('B', 'Axis', (theta, A.z))"
   ]
  },
  {
   "cell_type": "code",
   "execution_count": null,
   "id": "b78782c7-73e3-4dcd-854e-82017ddd05f0",
   "metadata": {},
   "outputs": [],
   "source": [
    "a = c * A.x + d * A.y + e * A.z\n",
    "b = f * B.x + g * B.y + h * B.z"
   ]
  },
  {
   "cell_type": "code",
   "execution_count": null,
   "id": "3aa051ce-f007-44eb-9bb2-e6e4a0417d0d",
   "metadata": {},
   "outputs": [
    {
     "data": {
      "text/latex": [
       "$\\displaystyle c\\mathbf{\\hat{a}_x} + d\\mathbf{\\hat{a}_y} + e\\mathbf{\\hat{a}_z} + f\\mathbf{\\hat{b}_x} + g\\mathbf{\\hat{b}_y} + h\\mathbf{\\hat{b}_z}$"
      ],
      "text/plain": [
       "c*A.x + d*A.y + e*A.z + f*B.x + g*B.y + h*B.z"
      ]
     },
     "execution_count": null,
     "metadata": {},
     "output_type": "execute_result"
    }
   ],
   "source": [
    "a + b"
   ]
  },
  {
   "cell_type": "code",
   "execution_count": null,
   "id": "c728ee38-44aa-4846-b4aa-80033af05341",
   "metadata": {},
   "outputs": [
    {
     "data": {
      "text/latex": [
       "$\\displaystyle c \\left(f \\cos{\\left(\\theta \\right)} - g \\sin{\\left(\\theta \\right)}\\right) + d \\left(f \\sin{\\left(\\theta \\right)} + g \\cos{\\left(\\theta \\right)}\\right) + e h$"
      ],
      "text/plain": [
       "c*(f*cos(theta) - g*sin(theta)) + d*(f*sin(theta) + g*cos(theta)) + e*h"
      ]
     },
     "execution_count": null,
     "metadata": {},
     "output_type": "execute_result"
    }
   ],
   "source": [
    "dot(a, b)"
   ]
  },
  {
   "cell_type": "code",
   "execution_count": null,
   "id": "345d52ad-74f5-441a-8b96-93573a5b88ed",
   "metadata": {},
   "outputs": [
    {
     "data": {
      "text/latex": [
       "$\\displaystyle (- e g + h \\left(- c \\sin{\\left(\\theta \\right)} + d \\cos{\\left(\\theta \\right)}\\right))\\mathbf{\\hat{b}_x} + (e f - h \\left(c \\cos{\\left(\\theta \\right)} + d \\sin{\\left(\\theta \\right)}\\right))\\mathbf{\\hat{b}_y} + (- f \\left(- c \\sin{\\left(\\theta \\right)} + d \\cos{\\left(\\theta \\right)}\\right) + g \\left(c \\cos{\\left(\\theta \\right)} + d \\sin{\\left(\\theta \\right)}\\right))\\mathbf{\\hat{b}_z}$"
      ],
      "text/plain": [
       "(-e*g + h*(-c*sin(theta) + d*cos(theta)))*B.x + (e*f - h*(c*cos(theta) + d*sin(theta)))*B.y + (-f*(-c*sin(theta) + d*cos(theta)) + g*(c*cos(theta) + d*sin(theta)))*B.z"
      ]
     },
     "execution_count": null,
     "metadata": {},
     "output_type": "execute_result"
    }
   ],
   "source": [
    "cross(a, b)"
   ]
  },
  {
   "cell_type": "code",
   "execution_count": null,
   "id": "6f6e4f01-79da-4be4-aaba-061eaf5feac1",
   "metadata": {},
   "outputs": [
    {
     "data": {
      "text/latex": [
       "$\\displaystyle (c + f \\cos{\\left(\\theta \\right)} - g \\sin{\\left(\\theta \\right)})\\mathbf{\\hat{a}_x} + (d + f \\sin{\\left(\\theta \\right)} + g \\cos{\\left(\\theta \\right)})\\mathbf{\\hat{a}_y} + (e + h)\\mathbf{\\hat{a}_z}$"
      ],
      "text/plain": [
       "(c + f*cos(theta) - g*sin(theta))*A.x + (d + f*sin(theta) + g*cos(theta))*A.y + (e + h)*A.z"
      ]
     },
     "execution_count": null,
     "metadata": {},
     "output_type": "execute_result"
    }
   ],
   "source": [
    "(a+b).express(A)"
   ]
  },
  {
   "cell_type": "markdown",
   "id": "ffc4ee28-d0ee-40c2-998e-21d5633870c6",
   "metadata": {},
   "source": [
    "### Rotational Matrices"
   ]
  },
  {
   "cell_type": "code",
   "execution_count": null,
   "id": "52961458-b198-4972-a47a-15605397af64",
   "metadata": {},
   "outputs": [
    {
     "data": {
      "text/latex": [
       "$\\displaystyle \\left[\\begin{matrix}\\cos{\\left(\\theta \\right)} & \\sin{\\left(\\theta \\right)} & 0\\\\- \\sin{\\left(\\theta \\right)} & \\cos{\\left(\\theta \\right)} & 0\\\\0 & 0 & 1\\end{matrix}\\right]$"
      ],
      "text/plain": [
       "Matrix([\n",
       "[ cos(theta), sin(theta), 0],\n",
       "[-sin(theta), cos(theta), 0],\n",
       "[          0,          0, 1]])"
      ]
     },
     "execution_count": null,
     "metadata": {},
     "output_type": "execute_result"
    }
   ],
   "source": [
    "B.dcm(A)"
   ]
  },
  {
   "cell_type": "markdown",
   "id": "2e3a5d60-4a01-4285-a769-895dcc3e2cf0",
   "metadata": {},
   "source": [
    "#### Exercise\n",
    "\n",
    "Create two reference frames, the first should be attached to your laptop keyboard surface. For the first frame, the $Z$ axis should be directed from the Q key to the P key. The $Y$ unit vector should be directed from the shift key to the tab key. Now on the screen, attach a reference frame where the $Z$ axis is directed from the right side of the screen to the left and lies in the plane of the screen. The $Y$ axis should be directed from the top of the screen to the hinge.\n",
    "\n",
    "The angle between the laptop and screen is $\\theta$ such that $\\theta=0$ corresponds to the laptop being closed and $0 < \\theta < \\pi$ is the laptop being open. With this create a vector that starts at the bottom left hand corner of the wrist rests and ends at the top right corner of the screen. Use $w$ for the width and $l$ for the length of the laptop.\n",
    "\n",
    "Print the vector expressed in the keyboard frame.\n",
    "\n",
    "*Hint: You may need to create more than two frames and a simple sketch will help.*"
   ]
  },
  {
   "cell_type": "code",
   "execution_count": null,
   "id": "7fd60973-2a95-4384-86d5-b60eaa55597c",
   "metadata": {},
   "outputs": [],
   "source": []
  }
 ],
 "metadata": {
  "kernelspec": {
   "display_name": "Python 3 (ipykernel)",
   "language": "python",
   "name": "python3"
  }
 },
 "nbformat": 4,
 "nbformat_minor": 5
}
