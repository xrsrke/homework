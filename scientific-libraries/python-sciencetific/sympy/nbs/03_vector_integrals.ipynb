{
 "cells": [
  {
   "cell_type": "code",
   "execution_count": 2,
   "id": "b5e7035d-1b28-4ddd-97bd-85f389717da4",
   "metadata": {},
   "outputs": [],
   "source": [
    "import numpy as np\n",
    "import sympy as smp\n",
    "from sympy.vector import *\n",
    "from matplotlib import pyplot as plt\n",
    "from scipy.integrate import quad\n",
    "from scipy.integrate import quad_vec"
   ]
  },
  {
   "cell_type": "code",
   "execution_count": 3,
   "id": "c7e967ee-50e1-40f8-b2ff-b731f3e6518b",
   "metadata": {},
   "outputs": [],
   "source": [
    "x, y, z = smp.symbols('x y z')"
   ]
  },
  {
   "cell_type": "code",
   "execution_count": 4,
   "id": "6fa8b339-46f4-4977-959d-7b1ea8495af9",
   "metadata": {},
   "outputs": [],
   "source": [
    "u1, u2, u3 = smp.symbols('u_1 u_2 u_3')"
   ]
  },
  {
   "cell_type": "code",
   "execution_count": 5,
   "id": "59703572-4035-4ce9-b59e-3e21bf7ab5d0",
   "metadata": {},
   "outputs": [],
   "source": [
    "v1, v2, v3 = smp.symbols('v_1 v_2 v_3')"
   ]
  },
  {
   "cell_type": "code",
   "execution_count": 8,
   "id": "75bb79c2-5d48-48c6-814d-b25821cdd948",
   "metadata": {},
   "outputs": [],
   "source": [
    "t = smp.symbols('t')"
   ]
  },
  {
   "cell_type": "code",
   "execution_count": 9,
   "id": "8bf4d805-0f00-44ee-a89e-48c5400d53ae",
   "metadata": {},
   "outputs": [
    {
     "data": {
      "text/latex": [
       "$\\displaystyle u_{1}$"
      ],
      "text/plain": [
       "u_1"
      ]
     },
     "execution_count": 9,
     "metadata": {},
     "output_type": "execute_result"
    }
   ],
   "source": [
    "u1"
   ]
  },
  {
   "cell_type": "markdown",
   "id": "41258e54-c8d4-4153-90d7-efd522845075",
   "metadata": {},
   "source": [
    "# 03. Vector Integrals"
   ]
  },
  {
   "cell_type": "markdown",
   "id": "e1312635-53e6-49c3-b158-71ef4e1f4657",
   "metadata": {},
   "source": [
    "### Arc Length"
   ]
  },
  {
   "cell_type": "markdown",
   "id": "3c14ecc7-027d-4a12-bf85-a49c3be8b6ac",
   "metadata": {},
   "source": [
    "$$L=\\int_a^b \\sqrt{d x^2+d y^2+d z^2}=\\int_a^b \\sqrt{(d x / d t)^2+(d y / d t)^2+(d z / d t)^2} d t$$"
   ]
  },
  {
   "cell_type": "code",
   "execution_count": 10,
   "id": "4fead085-3fc6-4d9e-bbed-d017c23998f2",
   "metadata": {},
   "outputs": [],
   "source": [
    "r = smp.Matrix([0, t, t**2])"
   ]
  },
  {
   "cell_type": "code",
   "execution_count": 11,
   "id": "63144a33-6652-4872-a026-817d988ae0b8",
   "metadata": {},
   "outputs": [
    {
     "data": {
      "text/latex": [
       "$\\displaystyle \\left[\\begin{matrix}0\\\\t\\\\t^{2}\\end{matrix}\\right]$"
      ],
      "text/plain": [
       "Matrix([\n",
       "[   0],\n",
       "[   t],\n",
       "[t**2]])"
      ]
     },
     "execution_count": 11,
     "metadata": {},
     "output_type": "execute_result"
    }
   ],
   "source": [
    "r"
   ]
  },
  {
   "cell_type": "code",
   "execution_count": 12,
   "id": "56d818a8-638b-4c2b-8c8a-6920c111ab1e",
   "metadata": {},
   "outputs": [
    {
     "data": {
      "text/latex": [
       "$\\displaystyle \\frac{\\operatorname{asinh}{\\left(2 \\right)}}{4} + \\frac{\\sqrt{5}}{2}$"
      ],
      "text/plain": [
       "asinh(2)/4 + sqrt(5)/2"
      ]
     },
     "execution_count": 12,
     "metadata": {},
     "output_type": "execute_result"
    }
   ],
   "source": [
    "smp.integrate(smp.diff(r, t).norm(), (t, 0, 1))"
   ]
  },
  {
   "cell_type": "code",
   "execution_count": null,
   "id": "976b1452-4ced-4520-9f7e-59fed6265ed6",
   "metadata": {},
   "outputs": [],
   "source": []
  }
 ],
 "metadata": {
  "kernelspec": {
   "display_name": "Python 3 (ipykernel)",
   "language": "python",
   "name": "python3"
  },
  "language_info": {
   "codemirror_mode": {
    "name": "ipython",
    "version": 3
   },
   "file_extension": ".py",
   "mimetype": "text/x-python",
   "name": "python",
   "nbconvert_exporter": "python",
   "pygments_lexer": "ipython3",
   "version": "3.9.13"
  }
 },
 "nbformat": 4,
 "nbformat_minor": 5
}
