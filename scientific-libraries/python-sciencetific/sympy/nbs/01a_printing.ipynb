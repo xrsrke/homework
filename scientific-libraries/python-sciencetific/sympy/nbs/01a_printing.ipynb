{
 "cells": [
  {
   "cell_type": "code",
   "execution_count": 13,
   "id": "022b7150-7076-41fc-b29c-5303b1c4ca30",
   "metadata": {},
   "outputs": [],
   "source": [
    "import sympy as sm"
   ]
  },
  {
   "cell_type": "code",
   "execution_count": 30,
   "id": "101feb73-fdac-45c0-9481-e55e130f8cc9",
   "metadata": {},
   "outputs": [],
   "source": [
    "from sympy import init_printing\n",
    "init_printing()"
   ]
  },
  {
   "cell_type": "code",
   "execution_count": 14,
   "id": "98192a18-2a63-4a32-8c79-de38949a1693",
   "metadata": {},
   "outputs": [],
   "source": [
    "x, y, z = smp.symbols('x y z')"
   ]
  },
  {
   "cell_type": "code",
   "execution_count": 15,
   "id": "241d0020-1544-46f0-961f-e7ab419a252b",
   "metadata": {},
   "outputs": [],
   "source": [
    "x = y + 2*z"
   ]
  },
  {
   "cell_type": "code",
   "execution_count": 16,
   "id": "4f49420a-7a52-45cb-b98b-cc599ba52479",
   "metadata": {},
   "outputs": [
    {
     "data": {
      "text/latex": [
       "$\\displaystyle y + 2 z$"
      ],
      "text/plain": [
       "y + 2*z"
      ]
     },
     "execution_count": 16,
     "metadata": {},
     "output_type": "execute_result"
    }
   ],
   "source": [
    "x"
   ]
  },
  {
   "cell_type": "code",
   "execution_count": 45,
   "id": "f40aecde-b4b4-4d98-b51a-ef6568cd4bdc",
   "metadata": {},
   "outputs": [
    {
     "data": {
      "image/png": "[encoded data removed]",
      "text/latex": [
       "$\\displaystyle y + 2 z$"
      ],
      "text/plain": [
       "y + 2⋅z"
      ]
     },
     "execution_count": 45,
     "metadata": {},
     "output_type": "execute_result"
    }
   ],
   "source": [
    "x"
   ]
  },
  {
   "cell_type": "code",
   "execution_count": 44,
   "id": "94016795-81a1-470f-b514-1ef678749c41",
   "metadata": {},
   "outputs": [
    {
     "ename": "TypeError",
     "evalue": "'Add' object is not iterable",
     "output_type": "error",
     "traceback": [
      "\u001b[0;31m---------------------------------------------------------------------------\u001b[0m",
      "\u001b[0;31mTypeError\u001b[0m                                 Traceback (most recent call last)",
      "Input \u001b[0;32mIn [44]\u001b[0m, in \u001b[0;36m<cell line: 1>\u001b[0;34m()\u001b[0m\n\u001b[0;32m----> 1\u001b[0m \u001b[38;5;28;43mlist\u001b[39;49m\u001b[43m(\u001b[49m\u001b[43mx\u001b[49m\u001b[43m)\u001b[49m\n",
      "\u001b[0;31mTypeError\u001b[0m: 'Add' object is not iterable"
     ]
    }
   ],
   "source": [
    "list(x)"
   ]
  },
  {
   "cell_type": "code",
   "execution_count": 41,
   "id": "1117b65e-585c-4e0f-9b2d-017a43cccc6e",
   "metadata": {},
   "outputs": [
    {
     "data": {
      "text/plain": [
       "\"Add(Symbol('y'), Mul(Integer(2), Symbol('z')))\""
      ]
     },
     "execution_count": 41,
     "metadata": {},
     "output_type": "execute_result"
    }
   ],
   "source": [
    "smp.srepr(x)"
   ]
  },
  {
   "cell_type": "code",
   "execution_count": 19,
   "id": "613c5754-3522-4c74-8e94-a660961cfafb",
   "metadata": {},
   "outputs": [
    {
     "data": {
      "text/latex": [
       "$\\displaystyle y + 2$"
      ],
      "text/plain": [
       "y + 2"
      ]
     },
     "execution_count": 19,
     "metadata": {},
     "output_type": "execute_result"
    }
   ],
   "source": [
    "smp.Add(y, 2)"
   ]
  },
  {
   "cell_type": "code",
   "execution_count": 20,
   "id": "7d1546a7-074a-422d-a9a0-c97c24b23180",
   "metadata": {},
   "outputs": [
    {
     "data": {
      "text/plain": [
       "'y + 2 z'"
      ]
     },
     "execution_count": 20,
     "metadata": {},
     "output_type": "execute_result"
    }
   ],
   "source": [
    "smp.latex(x)"
   ]
  },
  {
   "cell_type": "code",
   "execution_count": 21,
   "id": "d14947a7-640c-42c1-a544-cbb8a799e46e",
   "metadata": {},
   "outputs": [],
   "source": [
    "omega, t, b, a = sm.symbols('omega t b a')"
   ]
  },
  {
   "cell_type": "code",
   "execution_count": 24,
   "id": "7b0b1222-8ebe-4bf6-85d6-3020df4eaae3",
   "metadata": {},
   "outputs": [],
   "source": [
    "f = sm.symbols('f', cls=sm.Function)"
   ]
  },
  {
   "cell_type": "code",
   "execution_count": 26,
   "id": "18a8982e-ec33-4a84-9da4-33c03dadb83a",
   "metadata": {},
   "outputs": [],
   "source": [
    "expr3 = a*sm.sin(omega) + sm.Abs(f(t)) / sm.sqrt(b)"
   ]
  },
  {
   "cell_type": "code",
   "execution_count": 31,
   "id": "e2d13054-11ed-435b-973f-fb351de290cd",
   "metadata": {},
   "outputs": [
    {
     "data": {
      "image/png": "[encoded data removed]",
      "text/latex": [
       "$\\displaystyle a \\sin{\\left(\\omega \\right)} + \\frac{\\left|{f{\\left(t \\right)}}\\right|}{\\sqrt{b}}$"
      ],
      "text/plain": [
       "           │f(t)│\n",
       "a⋅sin(ω) + ──────\n",
       "             √b  "
      ]
     },
     "execution_count": 31,
     "metadata": {},
     "output_type": "execute_result"
    }
   ],
   "source": [
    "expr3"
   ]
  },
  {
   "cell_type": "code",
   "execution_count": 29,
   "id": "0deecf27-d4a8-4ef8-aef4-e76b148aed10",
   "metadata": {},
   "outputs": [
    {
     "data": {
      "text/plain": [
       "([], [a*sin(omega) + Abs(f(t))/sqrt(b)])"
      ]
     },
     "execution_count": 29,
     "metadata": {},
     "output_type": "execute_result"
    }
   ],
   "source": [
    "sm.cse(expr3)"
   ]
  },
  {
   "cell_type": "code",
   "execution_count": 33,
   "id": "c770c7b8-d71f-4c23-bcb7-2bc3751cc95f",
   "metadata": {},
   "outputs": [
    {
     "data": {
      "text/plain": [
       "'a*sin(omega) + Abs(f(t))/sqrt(b)'"
      ]
     },
     "execution_count": 33,
     "metadata": {},
     "output_type": "execute_result"
    }
   ],
   "source": [
    "str(expr3)"
   ]
  },
  {
   "cell_type": "code",
   "execution_count": 37,
   "id": "4093a5a7-c2c0-479b-a411-13c8d68ffe55",
   "metadata": {},
   "outputs": [
    {
     "data": {
      "image/png": "[encoded data removed]",
      "text/latex": [
       "$\\displaystyle a \\sin{\\left(\\omega \\right)} + \\frac{\\left|{f{\\left(t \\right)}}\\right|}{\\sqrt{b}}$"
      ],
      "text/plain": [
       "           │f(t)│\n",
       "a⋅sin(ω) + ──────\n",
       "             √b  "
      ]
     },
     "execution_count": 37,
     "metadata": {},
     "output_type": "execute_result"
    }
   ],
   "source": [
    "expr3"
   ]
  },
  {
   "cell_type": "code",
   "execution_count": 38,
   "id": "6fc294c2-25f2-4f82-8ede-5215f26ace1e",
   "metadata": {},
   "outputs": [
    {
     "data": {
      "text/plain": [
       "\"Add(Mul(Symbol('a'), sin(Symbol('omega'))), Mul(Pow(Symbol('b'), Rational(-1, 2)), Abs(Function('f')(Symbol('t')))))\""
      ]
     },
     "execution_count": 38,
     "metadata": {},
     "output_type": "execute_result"
    }
   ],
   "source": [
    "smp.srepr(expr3)"
   ]
  },
  {
   "cell_type": "code",
   "execution_count": null,
   "id": "86b4fb6f-c04c-4554-882c-7ba1fbbaefdf",
   "metadata": {},
   "outputs": [],
   "source": []
  }
 ],
 "metadata": {
  "kernelspec": {
   "display_name": "Python 3 (ipykernel)",
   "language": "python",
   "name": "python3"
  },
  "language_info": {
   "codemirror_mode": {
    "name": "ipython",
    "version": 3
   },
   "file_extension": ".py",
   "mimetype": "text/x-python",
   "name": "python",
   "nbconvert_exporter": "python",
   "pygments_lexer": "ipython3",
   "version": "3.9.13"
  }
 },
 "nbformat": 4,
 "nbformat_minor": 5
}
