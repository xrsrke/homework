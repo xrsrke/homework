{
 "cells": [
  {
   "cell_type": "code",
   "execution_count": null,
   "id": "3d881371-a2b7-414d-8ddb-2fc3bf5ef6c6",
   "metadata": {},
   "outputs": [],
   "source": [
    "import sympy as smp"
   ]
  },
  {
   "cell_type": "code",
   "execution_count": null,
   "id": "15585bf1-25ae-4cd1-a2dd-0a8da5f59c51",
   "metadata": {},
   "outputs": [],
   "source": [
    "x, y, z = smp.symbols('x, y, z')"
   ]
  },
  {
   "cell_type": "code",
   "execution_count": null,
   "id": "fb5b33bf-8732-49db-9669-a256372f5a97",
   "metadata": {},
   "outputs": [],
   "source": [
    "eq1 = x + y + z - 1"
   ]
  },
  {
   "cell_type": "code",
   "execution_count": null,
   "id": "552b8a5d-b431-4d37-935b-d2dde8d96f50",
   "metadata": {},
   "outputs": [],
   "source": [
    "eq2 = x + y + 2*z - 3"
   ]
  },
  {
   "cell_type": "code",
   "execution_count": null,
   "id": "b6c95e28-5073-4b1d-9702-33bed3bb0517",
   "metadata": {},
   "outputs": [
    {
     "data": {
      "text/latex": [
       "$\\displaystyle x + y + z - 1$"
      ],
      "text/plain": [
       "x + y + z - 1"
      ]
     },
     "execution_count": null,
     "metadata": {},
     "output_type": "execute_result"
    }
   ],
   "source": [
    "eq1"
   ]
  },
  {
   "cell_type": "code",
   "execution_count": null,
   "id": "73814832-e55d-4260-8a17-46cb4d8b9047",
   "metadata": {},
   "outputs": [
    {
     "data": {
      "text/latex": [
       "$\\displaystyle x + y + 2 z - 3$"
      ],
      "text/plain": [
       "x + y + 2*z - 3"
      ]
     },
     "execution_count": null,
     "metadata": {},
     "output_type": "execute_result"
    }
   ],
   "source": [
    "eq2"
   ]
  },
  {
   "cell_type": "code",
   "execution_count": null,
   "id": "ea8ed55c-0414-482d-86aa-d68a9c85f7e0",
   "metadata": {},
   "outputs": [
    {
     "data": {
      "text/latex": [
       "$\\displaystyle \\left\\{\\left( - y - 1, \\  y, \\  2\\right)\\right\\}$"
      ],
      "text/plain": [
       "{(-y - 1, y, 2)}"
      ]
     },
     "execution_count": null,
     "metadata": {},
     "output_type": "execute_result"
    }
   ],
   "source": [
    "smp.linsolve([eq1, eq2], (x, y, z))"
   ]
  },
  {
   "cell_type": "code",
   "execution_count": null,
   "id": "beaa5f33-a1b4-4ff1-a58d-aff75e4ee8df",
   "metadata": {},
   "outputs": [],
   "source": [
    "a = '$x$'"
   ]
  },
  {
   "cell_type": "code",
   "execution_count": null,
   "id": "c236e234-32ae-4fa9-86ed-6925d5af3fda",
   "metadata": {},
   "outputs": [],
   "source": []
  }
 ],
 "metadata": {
  "kernelspec": {
   "display_name": "Python 3 (ipykernel)",
   "language": "python",
   "name": "python3"
  }
 },
 "nbformat": 4,
 "nbformat_minor": 5
}
