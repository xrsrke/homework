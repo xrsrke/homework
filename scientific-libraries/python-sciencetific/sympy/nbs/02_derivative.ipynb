{
 "cells": [
  {
   "cell_type": "code",
   "execution_count": 1,
   "id": "1438d4d4-9295-4adb-9074-94bb76be2393",
   "metadata": {},
   "outputs": [],
   "source": [
    "import sympy as smp"
   ]
  },
  {
   "cell_type": "markdown",
   "id": "0307c153-76ec-40d2-9486-01d88294b2f4",
   "metadata": {
    "tags": []
   },
   "source": [
    "# Derivatives"
   ]
  },
  {
   "cell_type": "code",
   "execution_count": 2,
   "id": "7b86426a-284d-4cf7-8b5e-25606a0ce0c9",
   "metadata": {},
   "outputs": [],
   "source": [
    "x = smp.symbols('x')"
   ]
  },
  {
   "cell_type": "code",
   "execution_count": 11,
   "id": "f2bf9228-902d-4e37-9cf5-ab7e23d3165c",
   "metadata": {},
   "outputs": [
    {
     "data": {
      "text/latex": [
       "$\\displaystyle x$"
      ],
      "text/plain": [
       "x"
      ]
     },
     "execution_count": 11,
     "metadata": {},
     "output_type": "execute_result"
    }
   ],
   "source": [
    "x"
   ]
  },
  {
   "cell_type": "code",
   "execution_count": 12,
   "id": "dd1383d1-7fc8-4672-b5f3-1367760c70d4",
   "metadata": {},
   "outputs": [
    {
     "data": {
      "text/latex": [
       "$\\displaystyle x^{\\frac{3}{2}}$"
      ],
      "text/plain": [
       "x**(3/2)"
      ]
     },
     "execution_count": 12,
     "metadata": {},
     "output_type": "execute_result"
    }
   ],
   "source": [
    "x**(smp.Rational(3/2))"
   ]
  },
  {
   "cell_type": "markdown",
   "id": "00e1d7b3-0062-42ae-9d68-b82420c091b1",
   "metadata": {},
   "source": [
    "### Limits"
   ]
  },
  {
   "cell_type": "code",
   "execution_count": 16,
   "id": "57ffd9e2-25e5-4724-a1b2-3a502f8cd88d",
   "metadata": {},
   "outputs": [],
   "source": [
    "y = smp.sin(x/2 + smp.sin(x))"
   ]
  },
  {
   "cell_type": "code",
   "execution_count": 22,
   "id": "2d7f2113-2370-4c7e-9f33-0a33ebd97649",
   "metadata": {},
   "outputs": [
    {
     "data": {
      "text/latex": [
       "$\\displaystyle \\sin{\\left(\\frac{x}{2} + \\sin{\\left(x \\right)} \\right)}$"
      ],
      "text/plain": [
       "sin(x/2 + sin(x))"
      ]
     },
     "execution_count": 22,
     "metadata": {},
     "output_type": "execute_result"
    }
   ],
   "source": [
    "y"
   ]
  },
  {
   "cell_type": "markdown",
   "id": "2a1fcc05-9949-43c7-9408-81974744dc83",
   "metadata": {},
   "source": [
    "Find $\\lim_{x \\rightarrow \\pi} y$"
   ]
  },
  {
   "cell_type": "code",
   "execution_count": 24,
   "id": "c36b310e-8bc3-4d76-8dcc-d75bb7e029ec",
   "metadata": {},
   "outputs": [
    {
     "data": {
      "text/latex": [
       "$\\displaystyle 1$"
      ],
      "text/plain": [
       "1"
      ]
     },
     "execution_count": 24,
     "metadata": {},
     "output_type": "execute_result"
    }
   ],
   "source": [
    "smp.limit(y, x, smp.pi)"
   ]
  },
  {
   "cell_type": "markdown",
   "id": "c937aaef-9d12-40e4-8492-4d5a71e7b6f0",
   "metadata": {
    "tags": []
   },
   "source": [
    "### Derivatives"
   ]
  },
  {
   "cell_type": "markdown",
   "id": "b7b92563-bdbb-4e00-b3ba-fe0621da977b",
   "metadata": {},
   "source": [
    "##### $\\frac{d}{d x}\\left(\\frac{1+\\sin x}{1-\\cos x}\\right)^2$"
   ]
  },
  {
   "cell_type": "code",
   "execution_count": 28,
   "id": "ad9336ee-3d8c-48e4-9030-014c445c5453",
   "metadata": {},
   "outputs": [],
   "source": [
    "y = (1 + smp.sin(x)) / (1-smp.cos(x))**2"
   ]
  },
  {
   "cell_type": "code",
   "execution_count": 32,
   "id": "cb84c71a-9efd-44c1-bc88-8b64741cf390",
   "metadata": {},
   "outputs": [
    {
     "data": {
      "text/latex": [
       "$\\displaystyle \\frac{\\sin{\\left(x \\right)} + 1}{\\left(1 - \\cos{\\left(x \\right)}\\right)^{2}}$"
      ],
      "text/plain": [
       "(sin(x) + 1)/(1 - cos(x))**2"
      ]
     },
     "execution_count": 32,
     "metadata": {},
     "output_type": "execute_result"
    }
   ],
   "source": [
    "y"
   ]
  },
  {
   "cell_type": "markdown",
   "id": "267b3c08-3d4a-4597-80a6-399f73bc66af",
   "metadata": {},
   "source": [
    "Find $\\frac{d}{d x} \\,y(x)$"
   ]
  },
  {
   "cell_type": "code",
   "execution_count": 33,
   "id": "410364cc-fd6d-4c4a-9a2a-8f5f3f4c21a5",
   "metadata": {},
   "outputs": [
    {
     "data": {
      "text/latex": [
       "$\\displaystyle \\frac{\\cos{\\left(x \\right)}}{\\left(1 - \\cos{\\left(x \\right)}\\right)^{2}} - \\frac{2 \\left(\\sin{\\left(x \\right)} + 1\\right) \\sin{\\left(x \\right)}}{\\left(1 - \\cos{\\left(x \\right)}\\right)^{3}}$"
      ],
      "text/plain": [
       "cos(x)/(1 - cos(x))**2 - 2*(sin(x) + 1)*sin(x)/(1 - cos(x))**3"
      ]
     },
     "execution_count": 33,
     "metadata": {},
     "output_type": "execute_result"
    }
   ],
   "source": [
    "smp.diff(y, x)"
   ]
  },
  {
   "cell_type": "markdown",
   "id": "fcb3f282-5ba4-4aa7-827e-7fe5d10992eb",
   "metadata": {},
   "source": [
    "##### $\\frac{d}{d x} f(x+g(x))$"
   ]
  },
  {
   "cell_type": "code",
   "execution_count": 45,
   "id": "92e233c8-2543-4713-b1ae-8a31a54371b1",
   "metadata": {},
   "outputs": [],
   "source": [
    "f, g = smp.symbols('f g', cls=smp.Function)"
   ]
  },
  {
   "cell_type": "code",
   "execution_count": 46,
   "id": "65794d52-e4bf-4e76-9c44-ed5300c411ec",
   "metadata": {},
   "outputs": [],
   "source": [
    "g = g(x)"
   ]
  },
  {
   "cell_type": "code",
   "execution_count": 47,
   "id": "63f81345-c885-449e-8fa1-ec8886406c8e",
   "metadata": {},
   "outputs": [
    {
     "data": {
      "text/latex": [
       "$\\displaystyle g{\\left(x \\right)}$"
      ],
      "text/plain": [
       "g(x)"
      ]
     },
     "execution_count": 47,
     "metadata": {},
     "output_type": "execute_result"
    }
   ],
   "source": [
    "g"
   ]
  },
  {
   "cell_type": "code",
   "execution_count": 49,
   "id": "ef338dfd-432e-41ce-8645-47a9171279d0",
   "metadata": {},
   "outputs": [],
   "source": [
    "f = f(x+g)"
   ]
  },
  {
   "cell_type": "code",
   "execution_count": 50,
   "id": "dfbd8d3f-0661-4e5d-8cff-b62720424b22",
   "metadata": {},
   "outputs": [
    {
     "data": {
      "text/latex": [
       "$\\displaystyle f{\\left(x + g{\\left(x \\right)} \\right)}$"
      ],
      "text/plain": [
       "f(x + g(x))"
      ]
     },
     "execution_count": 50,
     "metadata": {},
     "output_type": "execute_result"
    }
   ],
   "source": [
    "f"
   ]
  },
  {
   "cell_type": "code",
   "execution_count": null,
   "id": "94fb952a-aad1-49ed-8e92-fb5aa93bda1f",
   "metadata": {},
   "outputs": [],
   "source": []
  }
 ],
 "metadata": {
  "kernelspec": {
   "display_name": "Python 3 (ipykernel)",
   "language": "python",
   "name": "python3"
  },
  "language_info": {
   "codemirror_mode": {
    "name": "ipython",
    "version": 3
   },
   "file_extension": ".py",
   "mimetype": "text/x-python",
   "name": "python",
   "nbconvert_exporter": "python",
   "pygments_lexer": "ipython3",
   "version": "3.9.13"
  }
 },
 "nbformat": 4,
 "nbformat_minor": 5
}
