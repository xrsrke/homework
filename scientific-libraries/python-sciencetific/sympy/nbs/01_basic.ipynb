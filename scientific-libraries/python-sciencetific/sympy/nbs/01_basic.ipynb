{
 "cells": [
  {
   "cell_type": "markdown",
   "id": "bf7b2c7a-b280-4c4d-980a-6c298d9a43be",
   "metadata": {},
   "source": [
    "Source: https://youtu.be/1yBPEPhq54M"
   ]
  },
  {
   "cell_type": "code",
   "execution_count": null,
   "id": "31fc073d-259e-47a6-90f5-25d9d1773f4f",
   "metadata": {},
   "outputs": [],
   "source": [
    "import sympy as smp"
   ]
  },
  {
   "cell_type": "code",
   "execution_count": null,
   "id": "0e31d441-68ee-467a-b3ff-b0ed6217d317",
   "metadata": {},
   "outputs": [],
   "source": [
    "def magnitude():\n",
    "    m1, m2, r = smp.symbols(\"m_1 m_2 r\")\n",
    "    m = m1 * m2\n",
    "    return smp.Rational(m, r**2)"
   ]
  },
  {
   "cell_type": "code",
   "execution_count": null,
   "id": "53dc69cf-365f-4e93-b41b-c5d6705a7ed5",
   "metadata": {},
   "outputs": [],
   "source": [
    "m1, m2, r = smp.symbols(\"m_1 m_2 r\")"
   ]
  },
  {
   "cell_type": "code",
   "execution_count": null,
   "id": "c4cbe38f-2396-48ac-a1fc-f2acd939f603",
   "metadata": {},
   "outputs": [
    {
     "data": {
      "text/latex": [
       "$\\displaystyle m_{1} m_{2}$"
      ],
      "text/plain": [
       "m_1*m_2"
      ]
     },
     "execution_count": null,
     "metadata": {},
     "output_type": "execute_result"
    }
   ],
   "source": [
    "m1 * m2"
   ]
  },
  {
   "cell_type": "code",
   "execution_count": null,
   "id": "6f0c0d51-c19e-4492-b2ee-c46204c2571d",
   "metadata": {},
   "outputs": [
    {
     "data": {
      "text/latex": [
       "$\\displaystyle r^{2}$"
      ],
      "text/plain": [
       "r**2"
      ]
     },
     "execution_count": null,
     "metadata": {},
     "output_type": "execute_result"
    }
   ],
   "source": [
    "r**2"
   ]
  },
  {
   "cell_type": "code",
   "execution_count": null,
   "id": "77ca9560-75c7-4576-942f-fc41756a0eeb",
   "metadata": {},
   "outputs": [],
   "source": [
    "import numpy as np\n",
    "import matplotlib.pyplot as plt"
   ]
  },
  {
   "cell_type": "markdown",
   "id": "d14a28c0-c2e1-4296-8813-a19ae4fd4ae2",
   "metadata": {},
   "source": [
    "### Introduction"
   ]
  },
  {
   "cell_type": "code",
   "execution_count": null,
   "id": "018af1bb-279a-453f-a72e-b91199dc8a2a",
   "metadata": {},
   "outputs": [],
   "source": [
    "import sympy as smp"
   ]
  },
  {
   "cell_type": "markdown",
   "id": "cd76474f-5e40-4c10-8f88-c906691fe3ea",
   "metadata": {},
   "source": [
    "Define a symbol $x$"
   ]
  },
  {
   "cell_type": "code",
   "execution_count": null,
   "id": "2e65efa0-74fa-4fd8-92bf-46542ca45e83",
   "metadata": {},
   "outputs": [],
   "source": [
    "x = smp.symbols('x')"
   ]
  },
  {
   "cell_type": "code",
   "execution_count": null,
   "id": "3ebe7cf1-b12a-45f2-9021-fa218f12f11e",
   "metadata": {},
   "outputs": [
    {
     "data": {
      "text/latex": [
       "$\\displaystyle x$"
      ],
      "text/plain": [
       "x"
      ]
     },
     "execution_count": null,
     "metadata": {},
     "output_type": "execute_result"
    }
   ],
   "source": [
    "x"
   ]
  },
  {
   "cell_type": "code",
   "execution_count": null,
   "id": "2afc6ac4-f3bb-451a-8e19-d431fc41a7cf",
   "metadata": {},
   "outputs": [
    {
     "data": {
      "text/latex": [
       "$\\displaystyle x^{2}$"
      ],
      "text/plain": [
       "x**2"
      ]
     },
     "execution_count": null,
     "metadata": {},
     "output_type": "execute_result"
    }
   ],
   "source": [
    "x ** 2"
   ]
  },
  {
   "cell_type": "markdown",
   "id": "1cfe077c-5ae8-462c-93e8-918ab0d3d99e",
   "metadata": {},
   "source": [
    "Define a symbol $x$ given $x$ is real number"
   ]
  },
  {
   "cell_type": "code",
   "execution_count": null,
   "id": "65470260-7612-4828-83ab-d522047c9872",
   "metadata": {},
   "outputs": [],
   "source": [
    "x = smp.symbols('x', real=True)"
   ]
  },
  {
   "cell_type": "code",
   "execution_count": null,
   "id": "5e171a34-0282-479b-b7bb-aed3682e4995",
   "metadata": {},
   "outputs": [
    {
     "data": {
      "text/latex": [
       "$\\displaystyle x$"
      ],
      "text/plain": [
       "x"
      ]
     },
     "execution_count": null,
     "metadata": {},
     "output_type": "execute_result"
    }
   ],
   "source": [
    "x"
   ]
  },
  {
   "cell_type": "markdown",
   "id": "ec8f5b46-4b6f-4af3-9184-aa6eac940861",
   "metadata": {},
   "source": [
    "Define a symbol $x$ given $x$ is a positive number"
   ]
  },
  {
   "cell_type": "code",
   "execution_count": null,
   "id": "f742d606-cc77-4993-b814-e1e7718a8489",
   "metadata": {},
   "outputs": [],
   "source": [
    "x = smp.symbols('x', positive=True)"
   ]
  },
  {
   "cell_type": "code",
   "execution_count": null,
   "id": "8e810ca2-4c98-4119-a427-22717221b28b",
   "metadata": {},
   "outputs": [
    {
     "data": {
      "text/latex": [
       "$\\displaystyle x$"
      ],
      "text/plain": [
       "x"
      ]
     },
     "execution_count": null,
     "metadata": {},
     "output_type": "execute_result"
    }
   ],
   "source": [
    "x"
   ]
  },
  {
   "cell_type": "code",
   "execution_count": null,
   "id": "e9ba8b43-9ec0-425c-95cb-7436fdb89d6e",
   "metadata": {},
   "outputs": [],
   "source": [
    "x = smp.symbols('x')"
   ]
  },
  {
   "cell_type": "markdown",
   "id": "a8bdf373-a163-424e-907e-6fdbc9b64d7d",
   "metadata": {},
   "source": [
    "Given $x$"
   ]
  },
  {
   "cell_type": "code",
   "execution_count": null,
   "id": "4e8a2cfc-a43b-4077-ba6a-9f3370870d66",
   "metadata": {},
   "outputs": [
    {
     "data": {
      "text/latex": [
       "$\\displaystyle x$"
      ],
      "text/plain": [
       "x"
      ]
     },
     "execution_count": null,
     "metadata": {},
     "output_type": "execute_result"
    }
   ],
   "source": [
    "x"
   ]
  },
  {
   "cell_type": "markdown",
   "id": "8b3a084f-5d27-470d-ae67-c28abf900527",
   "metadata": {},
   "source": [
    "Define variables $x, y$ and $z$ at the same time"
   ]
  },
  {
   "cell_type": "code",
   "execution_count": null,
   "id": "ddc516dc-d561-4d82-a8af-002c5c783da1",
   "metadata": {},
   "outputs": [],
   "source": [
    "x, y, z = smp.symbols('x y z')"
   ]
  },
  {
   "cell_type": "code",
   "execution_count": null,
   "id": "09d42c4a-38c7-4045-83f6-241c5fe7d912",
   "metadata": {},
   "outputs": [
    {
     "data": {
      "text/latex": [
       "$\\displaystyle x$"
      ],
      "text/plain": [
       "x"
      ]
     },
     "execution_count": null,
     "metadata": {},
     "output_type": "execute_result"
    }
   ],
   "source": [
    "x"
   ]
  },
  {
   "cell_type": "code",
   "execution_count": null,
   "id": "0c72f380-b623-4db3-a7f1-c0537f3284d7",
   "metadata": {},
   "outputs": [
    {
     "data": {
      "text/latex": [
       "$\\displaystyle z$"
      ],
      "text/plain": [
       "z"
      ]
     },
     "execution_count": null,
     "metadata": {},
     "output_type": "execute_result"
    }
   ],
   "source": [
    "z"
   ]
  },
  {
   "cell_type": "markdown",
   "id": "e1f57198-d3eb-49f8-be45-ba4a6b8a5d44",
   "metadata": {},
   "source": [
    "Turn $y = sin(x)$ into code"
   ]
  },
  {
   "cell_type": "code",
   "execution_count": null,
   "id": "c1666350-f2b9-408d-a6c6-b86d2fe9b391",
   "metadata": {},
   "outputs": [],
   "source": [
    "y = smp.sin(x)"
   ]
  },
  {
   "cell_type": "code",
   "execution_count": null,
   "id": "15198104-7f79-4737-9021-0da7420ce333",
   "metadata": {},
   "outputs": [
    {
     "data": {
      "text/latex": [
       "$\\displaystyle \\sin{\\left(x \\right)}$"
      ],
      "text/plain": [
       "sin(x)"
      ]
     },
     "execution_count": null,
     "metadata": {},
     "output_type": "execute_result"
    }
   ],
   "source": [
    "y"
   ]
  },
  {
   "cell_type": "code",
   "execution_count": null,
   "id": "b3e4dc92-4f4f-4067-8c04-034d9b2427dd",
   "metadata": {},
   "outputs": [],
   "source": [
    "x = smp.symbols('x')"
   ]
  },
  {
   "cell_type": "code",
   "execution_count": null,
   "id": "46d6cd91-37ae-47aa-8696-125ae392ca2a",
   "metadata": {},
   "outputs": [],
   "source": [
    "z = (x**2 + 4*x + 3)**2"
   ]
  },
  {
   "cell_type": "code",
   "execution_count": null,
   "id": "88a1e715-4783-45af-a460-524543784c7b",
   "metadata": {},
   "outputs": [
    {
     "data": {
      "text/latex": [
       "$\\displaystyle \\left(x^{2} + 4 x + 3\\right)^{2}$"
      ],
      "text/plain": [
       "(x**2 + 4*x + 3)**2"
      ]
     },
     "execution_count": null,
     "metadata": {},
     "output_type": "execute_result"
    }
   ],
   "source": [
    "z"
   ]
  },
  {
   "cell_type": "markdown",
   "id": "9480709f-db32-4c9b-a9f7-6f2cc085e6f1",
   "metadata": {},
   "source": [
    "Expand `z`"
   ]
  },
  {
   "cell_type": "code",
   "execution_count": null,
   "id": "b5557056-e937-4e5a-9587-b399bb724948",
   "metadata": {},
   "outputs": [
    {
     "data": {
      "text/latex": [
       "$\\displaystyle x^{4} + 8 x^{3} + 22 x^{2} + 24 x + 9$"
      ],
      "text/plain": [
       "x**4 + 8*x**3 + 22*x**2 + 24*x + 9"
      ]
     },
     "execution_count": null,
     "metadata": {},
     "output_type": "execute_result"
    }
   ],
   "source": [
    "z.expand()"
   ]
  },
  {
   "cell_type": "code",
   "execution_count": null,
   "id": "7ec6a3eb-494e-475f-af29-855301c75383",
   "metadata": {},
   "outputs": [
    {
     "data": {
      "text/latex": [
       "$\\displaystyle z$"
      ],
      "text/plain": [
       "z"
      ]
     },
     "execution_count": null,
     "metadata": {},
     "output_type": "execute_result"
    }
   ],
   "source": [
    "z"
   ]
  },
  {
   "cell_type": "markdown",
   "id": "a5800512-8003-4a47-8774-b456c9795c35",
   "metadata": {},
   "source": [
    "Define a variable `q` given $q= \\frac{1}{2}$"
   ]
  },
  {
   "cell_type": "code",
   "execution_count": null,
   "id": "2d3fba9b-748e-4e2b-8823-a4a98a797d88",
   "metadata": {},
   "outputs": [],
   "source": [
    "q = smp.Rational(1, 2)"
   ]
  },
  {
   "cell_type": "code",
   "execution_count": null,
   "id": "afb73403-ad8e-42ce-86c7-34d16ac8ef04",
   "metadata": {},
   "outputs": [
    {
     "data": {
      "text/latex": [
       "$\\displaystyle \\frac{1}{2}$"
      ],
      "text/plain": [
       "1/2"
      ]
     },
     "execution_count": null,
     "metadata": {},
     "output_type": "execute_result"
    }
   ],
   "source": [
    "q"
   ]
  },
  {
   "cell_type": "markdown",
   "id": "6670e0b5-e214-4b0d-817c-265a31ce9b61",
   "metadata": {},
   "source": [
    "### Function"
   ]
  },
  {
   "cell_type": "markdown",
   "id": "950f320d-cd6d-48e1-8b7e-093890809e7e",
   "metadata": {},
   "source": [
    "##### Create a function $f(x)$"
   ]
  },
  {
   "cell_type": "code",
   "execution_count": null,
   "id": "8bc45e53-dc52-47bf-ba49-b645e6e76981",
   "metadata": {},
   "outputs": [],
   "source": [
    "x = smp.symbols('x')"
   ]
  },
  {
   "cell_type": "code",
   "execution_count": null,
   "id": "b11177b5-a510-4dae-ac18-3ade26bada40",
   "metadata": {},
   "outputs": [
    {
     "data": {
      "text/latex": [
       "$\\displaystyle x$"
      ],
      "text/plain": [
       "x"
      ]
     },
     "execution_count": null,
     "metadata": {},
     "output_type": "execute_result"
    }
   ],
   "source": [
    "x"
   ]
  },
  {
   "cell_type": "markdown",
   "id": "88872baf-2e82-497f-b098-3555c834ab4d",
   "metadata": {},
   "source": [
    "Create a function $f(x)$"
   ]
  },
  {
   "cell_type": "code",
   "execution_count": null,
   "id": "74decb70-d669-4a45-aafb-ae699fd42afe",
   "metadata": {},
   "outputs": [],
   "source": [
    "f = smp.symbols('f', cls=smp.Function)"
   ]
  },
  {
   "cell_type": "code",
   "execution_count": null,
   "id": "4b83451a-e89b-4412-802f-99c12fb563c3",
   "metadata": {},
   "outputs": [],
   "source": [
    "f = f(x)"
   ]
  },
  {
   "cell_type": "code",
   "execution_count": null,
   "id": "bdcb03a9-c616-495c-b38a-58a4c361b7dc",
   "metadata": {},
   "outputs": [
    {
     "data": {
      "text/latex": [
       "$\\displaystyle f{\\left(x \\right)}$"
      ],
      "text/plain": [
       "f(x)"
      ]
     },
     "execution_count": null,
     "metadata": {},
     "output_type": "execute_result"
    }
   ],
   "source": [
    "f"
   ]
  },
  {
   "cell_type": "markdown",
   "id": "5a48708e-832b-4ecd-8cc9-56be41c2c847",
   "metadata": {},
   "source": [
    "##### Create a function $f(x + g(x))$"
   ]
  },
  {
   "cell_type": "code",
   "execution_count": null,
   "id": "f5143c48-fd14-4ab4-95fc-f87c6c57ae4f",
   "metadata": {},
   "outputs": [
    {
     "data": {
      "text/latex": [
       "$\\displaystyle x$"
      ],
      "text/plain": [
       "x"
      ]
     },
     "execution_count": null,
     "metadata": {},
     "output_type": "execute_result"
    }
   ],
   "source": [
    "x"
   ]
  },
  {
   "cell_type": "markdown",
   "id": "364e9664-94eb-4d1d-b3a0-f0e96523dcb2",
   "metadata": {},
   "source": [
    "Create a function $f(x + g(x))$"
   ]
  },
  {
   "cell_type": "code",
   "execution_count": null,
   "id": "2b716210-7e0b-4be1-b16e-9d49c4f27b26",
   "metadata": {},
   "outputs": [],
   "source": [
    "f, g = smp.symbols('f g', cls=smp.Function)"
   ]
  },
  {
   "cell_type": "code",
   "execution_count": null,
   "id": "55a3198e-6815-4b51-b3a6-394de61ec90a",
   "metadata": {},
   "outputs": [],
   "source": [
    "g = g(x)"
   ]
  },
  {
   "cell_type": "code",
   "execution_count": null,
   "id": "267bb9e9-9e5c-430b-b8ec-f3089d2b5a53",
   "metadata": {},
   "outputs": [],
   "source": [
    "f = f(x+g)"
   ]
  },
  {
   "cell_type": "code",
   "execution_count": null,
   "id": "0ea34b99-0f29-4144-9cae-fe900a28f659",
   "metadata": {},
   "outputs": [
    {
     "data": {
      "text/latex": [
       "$\\displaystyle f{\\left(x + g{\\left(x \\right)} \\right)}$"
      ],
      "text/plain": [
       "f(x + g(x))"
      ]
     },
     "execution_count": null,
     "metadata": {},
     "output_type": "execute_result"
    }
   ],
   "source": [
    "f"
   ]
  },
  {
   "cell_type": "markdown",
   "id": "8ae3eb16-9c73-4eb1-a01b-ee99ba06c385",
   "metadata": {},
   "source": [
    "### Substitutes"
   ]
  },
  {
   "cell_type": "code",
   "execution_count": null,
   "id": "ba946d70-5440-43b8-adfb-bb3adfe980a1",
   "metadata": {},
   "outputs": [],
   "source": [
    "f = 2*smp.cos(x) + 2"
   ]
  },
  {
   "cell_type": "code",
   "execution_count": null,
   "id": "71e436d6-8383-4e08-a731-56370e48022b",
   "metadata": {},
   "outputs": [
    {
     "data": {
      "text/latex": [
       "$\\displaystyle 2 \\cos{\\left(x \\right)} + 2$"
      ],
      "text/plain": [
       "2*cos(x) + 2"
      ]
     },
     "execution_count": null,
     "metadata": {},
     "output_type": "execute_result"
    }
   ],
   "source": [
    "f"
   ]
  },
  {
   "cell_type": "markdown",
   "id": "85d16f30-6ff7-4180-af0f-0a9c287dc0a7",
   "metadata": {},
   "source": [
    "Compute $f(x)$ at $x=2$"
   ]
  },
  {
   "cell_type": "code",
   "execution_count": null,
   "id": "0ad65eef-3f43-4370-bd7f-51eacbe43361",
   "metadata": {},
   "outputs": [
    {
     "data": {
      "text/latex": [
       "$\\displaystyle 1.16770632690572$"
      ],
      "text/plain": [
       "1.16770632690572"
      ]
     },
     "execution_count": null,
     "metadata": {},
     "output_type": "execute_result"
    }
   ],
   "source": [
    "f.subs(x, 2).evalf()"
   ]
  },
  {
   "cell_type": "markdown",
   "id": "617c2557-3730-4bdc-94ea-0c738b47121e",
   "metadata": {},
   "source": [
    "### Solve equations"
   ]
  },
  {
   "cell_type": "markdown",
   "id": "07dfaed0-a87d-40ac-a97a-a0bcc393e951",
   "metadata": {},
   "source": [
    "Find $x$ given $z(x) = 0$"
   ]
  },
  {
   "cell_type": "code",
   "execution_count": null,
   "id": "e4be233d-9f85-4533-9a79-ea07ee288c85",
   "metadata": {},
   "outputs": [
    {
     "data": {
      "text/plain": [
       "[-3, -1]"
      ]
     },
     "execution_count": null,
     "metadata": {},
     "output_type": "execute_result"
    }
   ],
   "source": [
    "smp.solve(z, x)"
   ]
  },
  {
   "cell_type": "code",
   "execution_count": null,
   "id": "3420ceb8-5b26-4fbe-a2e0-47023ea9da48",
   "metadata": {},
   "outputs": [
    {
     "data": {
      "text/latex": [
       "$\\displaystyle \\left(x^{2} + 4 x + 3\\right)^{2}$"
      ],
      "text/plain": [
       "(x**2 + 4*x + 3)**2"
      ]
     },
     "execution_count": null,
     "metadata": {},
     "output_type": "execute_result"
    }
   ],
   "source": [
    "z"
   ]
  },
  {
   "cell_type": "code",
   "execution_count": null,
   "id": "0ab7345f-3f49-4b07-8927-24e2633b1fa2",
   "metadata": {},
   "outputs": [],
   "source": [
    "y = x + 2"
   ]
  },
  {
   "cell_type": "code",
   "execution_count": null,
   "id": "deda54b6-32d2-4d74-9d52-52a33ab08efa",
   "metadata": {},
   "outputs": [
    {
     "data": {
      "text/latex": [
       "$\\displaystyle x + 2$"
      ],
      "text/plain": [
       "x + 2"
      ]
     },
     "execution_count": null,
     "metadata": {},
     "output_type": "execute_result"
    }
   ],
   "source": [
    "y"
   ]
  },
  {
   "cell_type": "markdown",
   "id": "791385c8-2027-4170-81cf-8969ed36e1b4",
   "metadata": {},
   "source": [
    "Find $x$ given $y(x) = 4$"
   ]
  },
  {
   "cell_type": "code",
   "execution_count": null,
   "id": "469e0dab-d77a-4d51-9c04-1bff7f57a1b7",
   "metadata": {},
   "outputs": [
    {
     "data": {
      "text/plain": [
       "[2]"
      ]
     },
     "execution_count": null,
     "metadata": {},
     "output_type": "execute_result"
    }
   ],
   "source": [
    "smp.solve((y - 4), x)"
   ]
  },
  {
   "cell_type": "code",
   "execution_count": null,
   "id": "00431b66-ec65-485d-b5bc-5d5011e17d68",
   "metadata": {},
   "outputs": [],
   "source": [
    "x, y, z = smp.symbols('x y z')"
   ]
  },
  {
   "cell_type": "code",
   "execution_count": null,
   "id": "7a2eecbf-e0e2-4105-b529-879d65f16ca1",
   "metadata": {},
   "outputs": [],
   "source": [
    "f = x**2+smp.sin(z)*y"
   ]
  },
  {
   "cell_type": "code",
   "execution_count": null,
   "id": "508c1f60-9440-40b2-817e-ff3f1b90283b",
   "metadata": {},
   "outputs": [
    {
     "data": {
      "text/latex": [
       "$\\displaystyle x^{2} + y \\sin{\\left(z \\right)}$"
      ],
      "text/plain": [
       "x**2 + y*sin(z)"
      ]
     },
     "execution_count": null,
     "metadata": {},
     "output_type": "execute_result"
    }
   ],
   "source": [
    "f"
   ]
  },
  {
   "cell_type": "markdown",
   "id": "c060a2f2-fb05-4a52-a590-2f5dad36916a",
   "metadata": {},
   "source": [
    "Find $x$ given $f(x, y) = 0$"
   ]
  },
  {
   "cell_type": "code",
   "execution_count": null,
   "id": "7fe07fa7-57c1-4a03-896c-a2179ba98eb2",
   "metadata": {},
   "outputs": [],
   "source": [
    "x_sols = smp.solve(f, x)"
   ]
  },
  {
   "cell_type": "code",
   "execution_count": null,
   "id": "ae6f0784-37af-41b4-950a-782aac22ebae",
   "metadata": {},
   "outputs": [
    {
     "data": {
      "text/plain": [
       "[-sqrt(-y*sin(z)), sqrt(-y*sin(z))]"
      ]
     },
     "execution_count": null,
     "metadata": {},
     "output_type": "execute_result"
    }
   ],
   "source": [
    "x_sols"
   ]
  },
  {
   "cell_type": "code",
   "execution_count": null,
   "id": "208f6340-eedc-4db4-84ab-e637a0154ec4",
   "metadata": {},
   "outputs": [],
   "source": [
    "z_sols = smp.solve(f, z)"
   ]
  },
  {
   "cell_type": "code",
   "execution_count": null,
   "id": "5b82b1d5-d0aa-43f6-9493-e8456cb4f5d5",
   "metadata": {},
   "outputs": [
    {
     "data": {
      "text/plain": [
       "[asin(x**2/y) + pi, -asin(x**2/y)]"
      ]
     },
     "execution_count": null,
     "metadata": {},
     "output_type": "execute_result"
    }
   ],
   "source": [
    "z_sols"
   ]
  },
  {
   "cell_type": "code",
   "execution_count": null,
   "id": "7939c492-dcb3-4cab-9978-1ff07e2e4c53",
   "metadata": {},
   "outputs": [],
   "source": [
    "expr = z_sols[0]"
   ]
  },
  {
   "cell_type": "code",
   "execution_count": null,
   "id": "a529acf8-eb0a-44f8-9528-b69c65c8aea2",
   "metadata": {},
   "outputs": [
    {
     "data": {
      "text/plain": [
       "(x, y, z)"
      ]
     },
     "execution_count": null,
     "metadata": {},
     "output_type": "execute_result"
    }
   ],
   "source": [
    "x, y, z"
   ]
  },
  {
   "cell_type": "code",
   "execution_count": null,
   "id": "e27d6df3-dc80-498a-a0e0-37fb3d5512ba",
   "metadata": {},
   "outputs": [
    {
     "data": {
      "text/latex": [
       "$\\displaystyle \\operatorname{asin}{\\left(\\frac{x^{2}}{y} \\right)} + \\pi$"
      ],
      "text/plain": [
       "asin(x**2/y) + pi"
      ]
     },
     "execution_count": null,
     "metadata": {},
     "output_type": "execute_result"
    }
   ],
   "source": [
    "expr"
   ]
  },
  {
   "cell_type": "markdown",
   "id": "2928091f-6837-44bb-b874-146f5bf9ecd3",
   "metadata": {},
   "source": [
    "Turn `expr` into a function `expr_f`"
   ]
  },
  {
   "cell_type": "code",
   "execution_count": null,
   "id": "df04734d-89ba-4415-9d55-e082e0e1c222",
   "metadata": {},
   "outputs": [],
   "source": [
    "expr_f = smp.lambdify([x, y], expr)"
   ]
  },
  {
   "cell_type": "code",
   "execution_count": null,
   "id": "9fe9a3d6-fcf6-4599-8ca3-e42a8f2060a2",
   "metadata": {},
   "outputs": [
    {
     "data": {
      "text/plain": [
       "3.665191429188092"
      ]
     },
     "execution_count": null,
     "metadata": {},
     "output_type": "execute_result"
    }
   ],
   "source": [
    "expr_f(1, 2)"
   ]
  },
  {
   "cell_type": "code",
   "execution_count": null,
   "id": "b78e91dd-fb99-4db9-8176-15d6d312622a",
   "metadata": {},
   "outputs": [
    {
     "data": {
      "text/latex": [
       "$\\displaystyle \\operatorname{asin}{\\left(\\frac{x^{2}}{y} \\right)} + \\pi$"
      ],
      "text/plain": [
       "asin(x**2/y) + pi"
      ]
     },
     "execution_count": null,
     "metadata": {},
     "output_type": "execute_result"
    }
   ],
   "source": [
    "expr"
   ]
  },
  {
   "cell_type": "markdown",
   "id": "b92d5f23-df8a-4eca-94c8-e89db7c76b5e",
   "metadata": {},
   "source": [
    "Substitute $x=3$ and $y=-2$"
   ]
  },
  {
   "cell_type": "code",
   "execution_count": null,
   "id": "9b62586e-a8c7-454f-b72f-cbc8104d7cb4",
   "metadata": {},
   "outputs": [
    {
     "data": {
      "text/latex": [
       "$\\displaystyle \\pi - \\operatorname{asin}{\\left(\\frac{9}{2} \\right)}$"
      ],
      "text/plain": [
       "pi - asin(9/2)"
      ]
     },
     "execution_count": null,
     "metadata": {},
     "output_type": "execute_result"
    }
   ],
   "source": [
    "expr.subs([(x, 3), (y, -2)])"
   ]
  },
  {
   "cell_type": "code",
   "execution_count": null,
   "id": "d0034a59-002e-4855-a372-c3d8bf2481fb",
   "metadata": {},
   "outputs": [],
   "source": [
    "x, y, z = smp.symbols('x y z')"
   ]
  },
  {
   "cell_type": "code",
   "execution_count": null,
   "id": "b702e37a-880d-481c-b45a-4629a8e71f24",
   "metadata": {},
   "outputs": [],
   "source": [
    "f = x + 2*y"
   ]
  },
  {
   "cell_type": "code",
   "execution_count": null,
   "id": "fd14ce54-7477-4677-b72b-bf554bd939de",
   "metadata": {},
   "outputs": [
    {
     "data": {
      "text/plain": [
       "(x, y, z)"
      ]
     },
     "execution_count": null,
     "metadata": {},
     "output_type": "execute_result"
    }
   ],
   "source": [
    "x, y, z"
   ]
  },
  {
   "cell_type": "code",
   "execution_count": null,
   "id": "a319ca9f-e849-48a0-b3fe-7e41a601b0c2",
   "metadata": {},
   "outputs": [
    {
     "data": {
      "text/latex": [
       "$\\displaystyle x + 2 y$"
      ],
      "text/plain": [
       "x + 2*y"
      ]
     },
     "execution_count": null,
     "metadata": {},
     "output_type": "execute_result"
    }
   ],
   "source": [
    "f"
   ]
  },
  {
   "cell_type": "markdown",
   "id": "b92eb6ae-7c30-4c10-8af7-e0db46dff9f2",
   "metadata": {},
   "source": [
    "Substitute $x=3$ and $y=2z$"
   ]
  },
  {
   "cell_type": "code",
   "execution_count": null,
   "id": "362cc826-ee2c-4ad5-a3f6-479a560e467e",
   "metadata": {},
   "outputs": [
    {
     "data": {
      "text/latex": [
       "$\\displaystyle 4 z + 3$"
      ],
      "text/plain": [
       "4*z + 3"
      ]
     },
     "execution_count": null,
     "metadata": {},
     "output_type": "execute_result"
    }
   ],
   "source": [
    "f.subs([(x, 3), (y, 2*z)])"
   ]
  },
  {
   "cell_type": "markdown",
   "id": "f1018094-587e-4d08-a9c0-790f476f995d",
   "metadata": {},
   "source": [
    "### Solve a System of Equations"
   ]
  },
  {
   "cell_type": "code",
   "execution_count": null,
   "id": "f6195321-ec74-4fb0-aae4-57eb5bfc33e1",
   "metadata": {},
   "outputs": [],
   "source": [
    "x, y = smp.symbols('x y')"
   ]
  },
  {
   "cell_type": "code",
   "execution_count": null,
   "id": "86afcb6f-dd0c-4269-9c75-421308a062de",
   "metadata": {},
   "outputs": [],
   "source": [
    "eq1 = 3*x-y-7"
   ]
  },
  {
   "cell_type": "code",
   "execution_count": null,
   "id": "36814688-4db2-4f74-b188-0243ea7cb5eb",
   "metadata": {},
   "outputs": [],
   "source": [
    "eq2 = 2*x+y - 8"
   ]
  },
  {
   "cell_type": "code",
   "execution_count": null,
   "id": "a0e8fc56-e562-49b8-adf0-329b5b8cc5ff",
   "metadata": {},
   "outputs": [
    {
     "data": {
      "text/latex": [
       "$\\displaystyle 3 x - y - 7$"
      ],
      "text/plain": [
       "3*x - y - 7"
      ]
     },
     "execution_count": null,
     "metadata": {},
     "output_type": "execute_result"
    }
   ],
   "source": [
    "eq1"
   ]
  },
  {
   "cell_type": "code",
   "execution_count": null,
   "id": "c22bfc70-57b6-4d6d-a45e-bf8a674c4516",
   "metadata": {},
   "outputs": [
    {
     "data": {
      "text/latex": [
       "$\\displaystyle 2 x + y - 8$"
      ],
      "text/plain": [
       "2*x + y - 8"
      ]
     },
     "execution_count": null,
     "metadata": {},
     "output_type": "execute_result"
    }
   ],
   "source": [
    "eq2"
   ]
  },
  {
   "cell_type": "markdown",
   "id": "8884377e-31d9-449d-b524-3b0bcd6894de",
   "metadata": {},
   "source": [
    "Solve a system of equation `eq1 = 0` and `eq2 = 0`"
   ]
  },
  {
   "cell_type": "code",
   "execution_count": null,
   "id": "f0bd3d4f-eb86-4c99-936b-741d18c7ca74",
   "metadata": {},
   "outputs": [
    {
     "data": {
      "text/plain": [
       "{x: 3, y: 2}"
      ]
     },
     "execution_count": null,
     "metadata": {},
     "output_type": "execute_result"
    }
   ],
   "source": [
    "smp.solve([eq1, eq2], [x, y])"
   ]
  },
  {
   "cell_type": "code",
   "execution_count": null,
   "id": "2bb1a1fa-bfb9-49c3-9070-1a369df81706",
   "metadata": {},
   "outputs": [],
   "source": []
  }
 ],
 "metadata": {
  "kernelspec": {
   "display_name": "Python 3 (ipykernel)",
   "language": "python",
   "name": "python3"
  }
 },
 "nbformat": 4,
 "nbformat_minor": 5
}
