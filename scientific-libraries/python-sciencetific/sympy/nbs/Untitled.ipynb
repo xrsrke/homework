{
 "cells": [
  {
   "cell_type": "code",
   "execution_count": null,
   "id": "583b838e-2645-40f6-8f92-8ee07c347f0f",
   "metadata": {},
   "outputs": [],
   "source": [
    "import sympy as smp"
   ]
  },
  {
   "cell_type": "code",
   "execution_count": null,
   "id": "3197491d-ea5a-4f84-a698-36eea3f5daf5",
   "metadata": {},
   "outputs": [
    {
     "data": {
      "text/plain": [
       "[{-1, 2, x, y}, []]"
      ]
     },
     "execution_count": null,
     "metadata": {},
     "output_type": "execute_result"
    }
   ],
   "source": [
    "from sympy import symbols, oo\n",
    "A, B = symbols('A B', commutative=0)\n",
    "x, y = symbols('x y')\n",
    "(-2*x*y).args_cnc()\n",
    "(-2.5*x).args_cnc()\n",
    "(-2*x*A*B*y).args_cnc()\n",
    "(-2*x*A*B*y).args_cnc(split_1=False)\n",
    "(-2*x*y).args_cnc(cset=True)"
   ]
  },
  {
   "cell_type": "code",
   "execution_count": null,
   "id": "c75d5446-1483-4631-9e9a-872c8fc32964",
   "metadata": {},
   "outputs": [],
   "source": []
  },
  {
   "cell_type": "code",
   "execution_count": null,
   "id": "e988a000-40ed-4894-9d80-4430ae8cd054",
   "metadata": {},
   "outputs": [
    {
     "data": {
      "text/html": [
       "-257308.495542829/P(Z) kilogram/(meter<sup>2</sup> second<sup>2</sup>)"
      ],
      "text/latex": [
       "$-257308.495542829/P(Z)\\ \\frac{\\mathrm{kilogram}}{\\left(\\mathrm{meter}^{2} \\cdot \\mathrm{second}^{2}\\right)}$"
      ],
      "text/plain": [
       "-257308.495542829/P(Z) <Unit('kilogram / meter ** 2 / second ** 2')>"
      ]
     },
     "execution_count": null,
     "metadata": {},
     "output_type": "execute_result"
    }
   ],
   "source": [
    "from pint import UnitRegistry\n",
    "import sympy as sm\n",
    "import numpy as np\n",
    "\n",
    "ureg = UnitRegistry()\n",
    "\n",
    "m = 104.4 *ureg.lb/ureg.hr\n",
    "A = 0.01414 * ureg.ft**2\n",
    "G = m/A\n",
    "Z = sm.Symbol(\"Z\") * ureg.ft\n",
    "P = sm.Function(\"P\")(Z)\n",
    "rho = (P*ureg.atm/(10*ureg.atm))*(0.413 * ureg.lb/ureg.ft**3)\n",
    "viscocity = 0.0673*ureg.lb/(ureg.ft* ureg.hr)\n",
    "fi = 0.45\n",
    "Dp = (1/4)*ureg.inch\n",
    "gc = 1 *(ureg.kg *ureg.m)/(ureg.N*ureg.s**2)\n",
    "\n",
    "\n",
    "exp = (-G/(rho*gc*Dp))*((1-fi)/fi**3)*(150*(1-fi)*viscocity/Dp + 1.75 * G)\n",
    "exp.to_base_units()"
   ]
  },
  {
   "cell_type": "code",
   "execution_count": null,
   "id": "cdec36bb-3ef9-435c-a2d6-c1878e49da51",
   "metadata": {},
   "outputs": [],
   "source": [
    "from pint.quantity import _Quantity\n",
    "from sympy import sympify\n",
    "_Quantity._sympy_ = lambda s: sympify(f'{s.m}*{s.u:~}')"
   ]
  },
  {
   "cell_type": "code",
   "execution_count": null,
   "id": "882031d5-27bb-42f2-86a4-d9192bd69ab5",
   "metadata": {},
   "outputs": [
    {
     "data": {
      "text/html": [
       "kilogram"
      ],
      "text/latex": [
       "$\\mathrm{kilogram}$"
      ],
      "text/plain": [
       "<Unit('kilogram')>"
      ]
     },
     "execution_count": null,
     "metadata": {},
     "output_type": "execute_result"
    }
   ],
   "source": [
    "ureg.kilogram"
   ]
  },
  {
   "cell_type": "code",
   "execution_count": null,
   "id": "7ab2db48-24b5-48ec-9eec-7916880466ad",
   "metadata": {},
   "outputs": [],
   "source": [
    "import sympy as smp\n",
    "from pint import UnitRegistry"
   ]
  },
  {
   "cell_type": "code",
   "execution_count": null,
   "id": "40b9a522-f52b-4726-81df-536dc348789f",
   "metadata": {},
   "outputs": [],
   "source": [
    "m, n, k = smp.symbols('m n k')"
   ]
  },
  {
   "cell_type": "code",
   "execution_count": null,
   "id": "f6d7c07d-ee3f-4019-954a-8d292004922f",
   "metadata": {},
   "outputs": [],
   "source": [
    "ureg = UnitRegistry()"
   ]
  },
  {
   "cell_type": "code",
   "execution_count": null,
   "id": "25701037-d98f-447b-8c40-c426af69d57b",
   "metadata": {},
   "outputs": [],
   "source": [
    "left_side = m * ureg.kilogram * k * ureg.seconds"
   ]
  },
  {
   "cell_type": "code",
   "execution_count": null,
   "id": "114cee0e-66a5-415a-81f5-dad0cc04b8d9",
   "metadata": {},
   "outputs": [
    {
     "data": {
      "text/html": [
       "k*m kilogram second"
      ],
      "text/latex": [
       "$k*m\\ \\mathrm{kilogram} \\cdot \\mathrm{second}$"
      ],
      "text/plain": [
       "k*m <Unit('kilogram * second')>"
      ]
     },
     "execution_count": null,
     "metadata": {},
     "output_type": "execute_result"
    }
   ],
   "source": [
    "left_side"
   ]
  },
  {
   "cell_type": "code",
   "execution_count": null,
   "id": "0e8eeac0-dc5b-4b8a-ad11-a8e6bec4cf04",
   "metadata": {},
   "outputs": [],
   "source": [
    "right_side = n * ureg.moles"
   ]
  },
  {
   "cell_type": "code",
   "execution_count": null,
   "id": "86c827b5-a64d-478a-aeb2-204f261a563b",
   "metadata": {},
   "outputs": [
    {
     "data": {
      "text/html": [
       "n mole"
      ],
      "text/latex": [
       "$n\\ \\mathrm{mole}$"
      ],
      "text/plain": [
       "n <Unit('mole')>"
      ]
     },
     "execution_count": null,
     "metadata": {},
     "output_type": "execute_result"
    }
   ],
   "source": [
    "right_side"
   ]
  },
  {
   "cell_type": "code",
   "execution_count": null,
   "id": "eee1518c-5684-4b03-b5f2-965f0e248ae7",
   "metadata": {},
   "outputs": [
    {
     "ename": "NotImplementedError",
     "evalue": "Could not find signature for _eval_is_eq: <Quantity, Quantity>",
     "output_type": "error",
     "traceback": [
      "\u001b[0;31m---------------------------------------------------------------------------\u001b[0m",
      "\u001b[0;31mKeyError\u001b[0m                                  Traceback (most recent call last)",
      "File \u001b[0;32m/opt/anaconda3/envs/chemchem/lib/python3.9/site-packages/sympy/multipledispatch/dispatcher.py:234\u001b[0m, in \u001b[0;36mDispatcher.__call__\u001b[0;34m(self, *args, **kwargs)\u001b[0m\n\u001b[1;32m    233\u001b[0m \u001b[38;5;28;01mtry\u001b[39;00m:\n\u001b[0;32m--> 234\u001b[0m     func \u001b[38;5;241m=\u001b[39m \u001b[38;5;28;43mself\u001b[39;49m\u001b[38;5;241;43m.\u001b[39;49m\u001b[43m_cache\u001b[49m\u001b[43m[\u001b[49m\u001b[43mtypes\u001b[49m\u001b[43m]\u001b[49m\n\u001b[1;32m    235\u001b[0m \u001b[38;5;28;01mexcept\u001b[39;00m \u001b[38;5;167;01mKeyError\u001b[39;00m:\n",
      "\u001b[0;31mKeyError\u001b[0m: (<class 'pint.quantity.build_quantity_class.<locals>.Quantity'>, <class 'pint.quantity.build_quantity_class.<locals>.Quantity'>)",
      "\nDuring handling of the above exception, another exception occurred:\n",
      "\u001b[0;31mNotImplementedError\u001b[0m                       Traceback (most recent call last)",
      "Input \u001b[0;32mIn [30]\u001b[0m, in \u001b[0;36m<cell line: 1>\u001b[0;34m()\u001b[0m\n\u001b[0;32m----> 1\u001b[0m eq \u001b[38;5;241m=\u001b[39m \u001b[43msmp\u001b[49m\u001b[38;5;241;43m.\u001b[39;49m\u001b[43mEq\u001b[49m\u001b[43m(\u001b[49m\u001b[43mleft_side\u001b[49m\u001b[43m,\u001b[49m\u001b[43m \u001b[49m\u001b[43mright_side\u001b[49m\u001b[43m)\u001b[49m\n",
      "File \u001b[0;32m/opt/anaconda3/envs/chemchem/lib/python3.9/site-packages/sympy/core/relational.py:629\u001b[0m, in \u001b[0;36mEquality.__new__\u001b[0;34m(cls, lhs, rhs, **options)\u001b[0m\n\u001b[1;32m    627\u001b[0m rhs \u001b[38;5;241m=\u001b[39m _sympify(rhs)\n\u001b[1;32m    628\u001b[0m \u001b[38;5;28;01mif\u001b[39;00m evaluate:\n\u001b[0;32m--> 629\u001b[0m     val \u001b[38;5;241m=\u001b[39m \u001b[43mis_eq\u001b[49m\u001b[43m(\u001b[49m\u001b[43mlhs\u001b[49m\u001b[43m,\u001b[49m\u001b[43m \u001b[49m\u001b[43mrhs\u001b[49m\u001b[43m)\u001b[49m\n\u001b[1;32m    630\u001b[0m     \u001b[38;5;28;01mif\u001b[39;00m val \u001b[38;5;129;01mis\u001b[39;00m \u001b[38;5;28;01mNone\u001b[39;00m:\n\u001b[1;32m    631\u001b[0m         \u001b[38;5;28;01mreturn\u001b[39;00m \u001b[38;5;28mcls\u001b[39m(lhs, rhs, evaluate\u001b[38;5;241m=\u001b[39m\u001b[38;5;28;01mFalse\u001b[39;00m)\n",
      "File \u001b[0;32m/opt/anaconda3/envs/chemchem/lib/python3.9/site-packages/sympy/core/relational.py:1497\u001b[0m, in \u001b[0;36mis_eq\u001b[0;34m(lhs, rhs, assumptions)\u001b[0m\n\u001b[1;32m   1494\u001b[0m         \u001b[38;5;28;01mif\u001b[39;00m retval \u001b[38;5;129;01mis\u001b[39;00m \u001b[38;5;129;01mnot\u001b[39;00m \u001b[38;5;28;01mNone\u001b[39;00m:\n\u001b[1;32m   1495\u001b[0m             \u001b[38;5;28;01mreturn\u001b[39;00m retval\n\u001b[0;32m-> 1497\u001b[0m retval \u001b[38;5;241m=\u001b[39m \u001b[43m_eval_is_eq\u001b[49m\u001b[43m(\u001b[49m\u001b[43mlhs\u001b[49m\u001b[43m,\u001b[49m\u001b[43m \u001b[49m\u001b[43mrhs\u001b[49m\u001b[43m)\u001b[49m\n\u001b[1;32m   1498\u001b[0m \u001b[38;5;28;01mif\u001b[39;00m retval \u001b[38;5;129;01mis\u001b[39;00m \u001b[38;5;129;01mnot\u001b[39;00m \u001b[38;5;28;01mNone\u001b[39;00m:\n\u001b[1;32m   1499\u001b[0m     \u001b[38;5;28;01mreturn\u001b[39;00m retval\n",
      "File \u001b[0;32m/opt/anaconda3/envs/chemchem/lib/python3.9/site-packages/sympy/multipledispatch/dispatcher.py:238\u001b[0m, in \u001b[0;36mDispatcher.__call__\u001b[0;34m(self, *args, **kwargs)\u001b[0m\n\u001b[1;32m    236\u001b[0m     func \u001b[38;5;241m=\u001b[39m \u001b[38;5;28mself\u001b[39m\u001b[38;5;241m.\u001b[39mdispatch(\u001b[38;5;241m*\u001b[39mtypes)\n\u001b[1;32m    237\u001b[0m     \u001b[38;5;28;01mif\u001b[39;00m \u001b[38;5;129;01mnot\u001b[39;00m func:\n\u001b[0;32m--> 238\u001b[0m         \u001b[38;5;28;01mraise\u001b[39;00m \u001b[38;5;167;01mNotImplementedError\u001b[39;00m(\n\u001b[1;32m    239\u001b[0m             \u001b[38;5;124m'\u001b[39m\u001b[38;5;124mCould not find signature for \u001b[39m\u001b[38;5;132;01m%s\u001b[39;00m\u001b[38;5;124m: <\u001b[39m\u001b[38;5;132;01m%s\u001b[39;00m\u001b[38;5;124m>\u001b[39m\u001b[38;5;124m'\u001b[39m \u001b[38;5;241m%\u001b[39m\n\u001b[1;32m    240\u001b[0m             (\u001b[38;5;28mself\u001b[39m\u001b[38;5;241m.\u001b[39mname, str_signature(types)))\n\u001b[1;32m    241\u001b[0m     \u001b[38;5;28mself\u001b[39m\u001b[38;5;241m.\u001b[39m_cache[types] \u001b[38;5;241m=\u001b[39m func\n\u001b[1;32m    242\u001b[0m \u001b[38;5;28;01mtry\u001b[39;00m:\n",
      "\u001b[0;31mNotImplementedError\u001b[0m: Could not find signature for _eval_is_eq: <Quantity, Quantity>"
     ]
    }
   ],
   "source": [
    "eq = smp.Eq(left_side, right_side)"
   ]
  },
  {
   "cell_type": "code",
   "execution_count": null,
   "id": "27591f84-faac-415f-9196-b27a7b1f251c",
   "metadata": {},
   "outputs": [],
   "source": []
  }
 ],
 "metadata": {
  "kernelspec": {
   "display_name": "Python 3 (ipykernel)",
   "language": "python",
   "name": "python3"
  }
 },
 "nbformat": 4,
 "nbformat_minor": 5
}
