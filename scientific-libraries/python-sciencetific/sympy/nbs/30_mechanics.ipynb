{
 "cells": [
  {
   "cell_type": "markdown",
   "id": "0d26e61a-7da4-426e-9349-80a57e9c7ec0",
   "metadata": {},
   "source": [
    "### Derivation of velocity and acceleration from position"
   ]
  },
  {
   "cell_type": "code",
   "execution_count": null,
   "id": "463a6d56-8488-4427-9740-096a1457aab6",
   "metadata": {},
   "outputs": [],
   "source": [
    "from sympy.physics.vector import Point, ReferenceFrame, dynamicsymbols\n",
    "from sympy.physics.vector import init_vprinting"
   ]
  },
  {
   "cell_type": "code",
   "execution_count": null,
   "id": "050fd69a-87dc-475a-87d3-41cde98947f9",
   "metadata": {},
   "outputs": [],
   "source": [
    "N = ReferenceFrame('N')\n",
    "O = Point('O')\n",
    "P = Point('P')"
   ]
  },
  {
   "cell_type": "code",
   "execution_count": null,
   "id": "e9f79645-6b70-411b-a9ca-6a0e00b21389",
   "metadata": {},
   "outputs": [
    {
     "ename": "AttributeError",
     "evalue": "'Point' object has no attribute 'potential_energy'",
     "output_type": "error",
     "traceback": [
      "\u001b[0;31m---------------------------------------------------------------------------\u001b[0m",
      "\u001b[0;31mAttributeError\u001b[0m                            Traceback (most recent call last)",
      "Input \u001b[0;32mIn [13]\u001b[0m, in \u001b[0;36m<cell line: 1>\u001b[0;34m()\u001b[0m\n\u001b[0;32m----> 1\u001b[0m \u001b[43mO\u001b[49m\u001b[38;5;241;43m.\u001b[39;49m\u001b[43mpotential_energy\u001b[49m\n",
      "\u001b[0;31mAttributeError\u001b[0m: 'Point' object has no attribute 'potential_energy'"
     ]
    }
   ],
   "source": [
    "O.potential_energy"
   ]
  },
  {
   "cell_type": "code",
   "execution_count": null,
   "id": "efeed705-787c-4b82-a419-392bb6c8b296",
   "metadata": {},
   "outputs": [],
   "source": [
    "u1, u2, u3 = dynamicsymbols('u1 u2 u3')"
   ]
  },
  {
   "cell_type": "code",
   "execution_count": null,
   "id": "37be7a6a-5fc3-4b59-a398-7b24f11edc8f",
   "metadata": {},
   "outputs": [],
   "source": [
    "O.set_vel(N, u1 * N.x + u2 * N.y + u3 * N.z)"
   ]
  },
  {
   "cell_type": "code",
   "execution_count": null,
   "id": "a5b56bfc-e944-4dcd-92ea-643fffb8edcf",
   "metadata": {},
   "outputs": [
    {
     "data": {
      "text/latex": [
       "$\\displaystyle \\frac{d}{d t} \\operatorname{u_{1}}{\\left(t \\right)}\\mathbf{\\hat{n}_x} + \\frac{d}{d t} \\operatorname{u_{2}}{\\left(t \\right)}\\mathbf{\\hat{n}_y} + \\frac{d}{d t} \\operatorname{u_{3}}{\\left(t \\right)}\\mathbf{\\hat{n}_z}$"
      ],
      "text/plain": [
       "Derivative(u1(t), t)*N.x + Derivative(u2(t), t)*N.y + Derivative(u3(t), t)*N.z"
      ]
     },
     "execution_count": null,
     "metadata": {},
     "output_type": "execute_result"
    }
   ],
   "source": [
    "O.acc(N)"
   ]
  },
  {
   "cell_type": "code",
   "execution_count": null,
   "id": "35b335de-360d-4ad8-8692-ae97aea200e2",
   "metadata": {},
   "outputs": [
    {
     "data": {
      "text/plain": [
       "{'name': 'O',\n",
       " '_pos_dict': {},\n",
       " '_vel_dict': {N: u1(t)*N.x + u2(t)*N.y + u3(t)*N.z},\n",
       " '_acc_dict': {},\n",
       " '_pdlist': [{}, {N: u1(t)*N.x + u2(t)*N.y + u3(t)*N.z}, {}]}"
      ]
     },
     "execution_count": null,
     "metadata": {},
     "output_type": "execute_result"
    }
   ],
   "source": [
    "O.__dict__"
   ]
  },
  {
   "cell_type": "markdown",
   "id": "6708c387-2deb-4250-8d70-681af46b7499",
   "metadata": {},
   "source": [
    "### X"
   ]
  },
  {
   "cell_type": "code",
   "execution_count": null,
   "id": "6110c245-faf4-491b-a709-a0656ad45cc2",
   "metadata": {},
   "outputs": [],
   "source": [
    "from sympy.physics.vector import ReferenceFrame, get_motion_params, dynamicsymbols\n",
    "from sympy.physics.vector import init_vprinting\n",
    "init_vprinting(pretty_print=False)\n",
    "from sympy import symbols"
   ]
  },
  {
   "cell_type": "code",
   "execution_count": null,
   "id": "fc446e3f-f06b-49c1-8fee-4716102656da",
   "metadata": {},
   "outputs": [],
   "source": [
    "R = ReferenceFrame('R')\n",
    "v1, v2, v3 = dynamicsymbols('v1 v2 v3')"
   ]
  },
  {
   "cell_type": "code",
   "execution_count": null,
   "id": "8579e9ea-8412-42db-b816-253cc6854972",
   "metadata": {},
   "outputs": [],
   "source": [
    "v = v1*R.x + v2*R.y + v3*R.z"
   ]
  },
  {
   "cell_type": "code",
   "execution_count": null,
   "id": "70847d58-3e2b-4d4d-8516-9e05b0931a7c",
   "metadata": {},
   "outputs": [
    {
     "data": {
      "text/plain": [
       "a*R.x + b*R.y + c*R.z"
      ]
     },
     "execution_count": null,
     "metadata": {},
     "output_type": "execute_result"
    }
   ],
   "source": [
    "v"
   ]
  },
  {
   "cell_type": "code",
   "execution_count": null,
   "id": "268fab82-9467-47d8-95ea-240db6c73845",
   "metadata": {},
   "outputs": [
    {
     "data": {
      "text/plain": [
       "(v1''*R.x + v2''*R.y + v3''*R.z, v1'*R.x + v2'*R.y + v3'*R.z, v1*R.x + v2*R.y + v3*R.z)"
      ]
     },
     "execution_count": null,
     "metadata": {},
     "output_type": "execute_result"
    }
   ],
   "source": [
    "get_motion_params(R, position = v)"
   ]
  },
  {
   "cell_type": "code",
   "execution_count": null,
   "id": "721e5c25-3c50-4448-aca6-701de43c007c",
   "metadata": {},
   "outputs": [],
   "source": [
    "a, b, c = symbols('a b c')"
   ]
  },
  {
   "cell_type": "code",
   "execution_count": null,
   "id": "75009321-d2ab-4964-a8db-e3536c8b8801",
   "metadata": {},
   "outputs": [],
   "source": [
    "v = a*R.x + b*R.y + c*R.z"
   ]
  },
  {
   "cell_type": "code",
   "execution_count": null,
   "id": "e5f2ecd8-e1c4-4726-a677-d631aeb2d994",
   "metadata": {},
   "outputs": [
    {
     "data": {
      "text/plain": [
       "(0, a*R.x + b*R.y + c*R.z, a*t*R.x + b*t*R.y + c*t*R.z)"
      ]
     },
     "execution_count": null,
     "metadata": {},
     "output_type": "execute_result"
    }
   ],
   "source": [
    "get_motion_params(R, velocity = v)"
   ]
  },
  {
   "cell_type": "code",
   "execution_count": null,
   "id": "0280758b-1f15-4e96-9e64-747b0c08151f",
   "metadata": {},
   "outputs": [],
   "source": [
    "parameters = get_motion_params(R, acceleration = v)"
   ]
  },
  {
   "cell_type": "code",
   "execution_count": null,
   "id": "79c1a229-8174-4433-94dc-8285d1c41830",
   "metadata": {},
   "outputs": [
    {
     "data": {
      "text/plain": [
       "a*t*R.x + b*t*R.y + c*t*R.z"
      ]
     },
     "execution_count": null,
     "metadata": {},
     "output_type": "execute_result"
    }
   ],
   "source": [
    "parameters[1]"
   ]
  },
  {
   "cell_type": "code",
   "execution_count": null,
   "id": "5ff46f27-2ccf-4ad6-ae89-4ed482d40f5d",
   "metadata": {},
   "outputs": [
    {
     "data": {
      "text/plain": [
       "a*t**2/2*R.x + b*t**2/2*R.y + c*t**2/2*R.z"
      ]
     },
     "execution_count": null,
     "metadata": {},
     "output_type": "execute_result"
    }
   ],
   "source": [
    "parameters[2]"
   ]
  },
  {
   "cell_type": "code",
   "execution_count": null,
   "id": "f54b1840-6582-4e09-8218-4dcf964a2ee5",
   "metadata": {},
   "outputs": [],
   "source": []
  },
  {
   "cell_type": "code",
   "execution_count": null,
   "id": "05e19fe0-a7f6-49a3-af00-d5d97273abfd",
   "metadata": {},
   "outputs": [],
   "source": [
    "import sympy as sm"
   ]
  },
  {
   "cell_type": "code",
   "execution_count": null,
   "id": "57151f99-646b-4ad9-b1e9-d1e3899b31ea",
   "metadata": {},
   "outputs": [],
   "source": [
    "mass = sm.symbols('m:{}'.format(2))"
   ]
  },
  {
   "cell_type": "code",
   "execution_count": null,
   "id": "c02b0efe-12af-4dfe-a179-8e8ceadcc724",
   "metadata": {},
   "outputs": [
    {
     "data": {
      "text/latex": [
       "$\\displaystyle m_{0}$"
      ],
      "text/plain": [
       "m0"
      ]
     },
     "execution_count": null,
     "metadata": {},
     "output_type": "execute_result"
    }
   ],
   "source": [
    "mass[0]"
   ]
  },
  {
   "cell_type": "code",
   "execution_count": null,
   "id": "bba221c2-29a3-409f-b903-c389b40b6340",
   "metadata": {},
   "outputs": [
    {
     "data": {
      "text/plain": [
       "(Matrix([[-c*v(t) + g*m - k*x(t) + F(t)]]), Matrix([[-m*Derivative(v(t), t)]]))"
      ]
     },
     "execution_count": null,
     "metadata": {},
     "output_type": "execute_result"
    }
   ],
   "source": [
    "from sympy import symbols\n",
    "import sympy.physics.mechanics as me\n",
    "\n",
    "mass, stiffness, damping, gravity = symbols('m, k, c, g')\n",
    "\n",
    "position, speed = me.dynamicsymbols('x v')\n",
    "positiond = me.dynamicsymbols('x', 1)\n",
    "force = me.dynamicsymbols('F')\n",
    "\n",
    "ceiling = me.ReferenceFrame('N')\n",
    "\n",
    "origin = me.Point('origin')\n",
    "origin.set_vel(ceiling, 0)\n",
    "\n",
    "center = origin.locatenew('center', position * ceiling.x)\n",
    "center.set_vel(ceiling, speed * ceiling.x)\n",
    "\n",
    "block = me.Particle('block', center, mass)\n",
    "\n",
    "kinematic_equations = [speed - positiond]\n",
    "\n",
    "force_magnitude = mass * gravity - stiffness * position - damping * speed + force\n",
    "forces = [(center, force_magnitude * ceiling.x)]\n",
    "\n",
    "particles = [block]\n",
    "\n",
    "kane = me.KanesMethod(ceiling, q_ind=[position], u_ind=[speed],\n",
    "                      kd_eqs=kinematic_equations)\n",
    "kane.kanes_equations(particles, loads=forces)"
   ]
  },
  {
   "cell_type": "code",
   "execution_count": null,
   "id": "c23b111b-da26-4de1-a181-acc969746f1e",
   "metadata": {},
   "outputs": [
    {
     "data": {
      "text/plain": [
       "block"
      ]
     },
     "execution_count": null,
     "metadata": {},
     "output_type": "execute_result"
    }
   ],
   "source": [
    "block"
   ]
  },
  {
   "cell_type": "code",
   "execution_count": null,
   "id": "7942103b-095c-4b2b-9df8-ed9209070c3b",
   "metadata": {},
   "outputs": [],
   "source": [
    "from numpy import array, linspace, sin\n",
    "from pydy.system import System\n",
    "\n",
    "sys = System(kane,\n",
    "             constants={mass: 1.0, stiffness: 10.0,\n",
    "                        damping: 0.4, gravity: 9.8},\n",
    "             specifieds={force: lambda x, t: sin(t)},\n",
    "             initial_conditions={position: 0.1, speed: -1.0},\n",
    "             times=linspace(0.0, 10.0, 1000))"
   ]
  },
  {
   "cell_type": "code",
   "execution_count": null,
   "id": "40cba541-36ae-4594-b74c-6b90f88d66ef",
   "metadata": {},
   "outputs": [],
   "source": [
    "y = sys.integrate()"
   ]
  },
  {
   "cell_type": "code",
   "execution_count": null,
   "id": "fe4381ec-a893-4567-a095-57f45a4da03d",
   "metadata": {},
   "outputs": [
    {
     "data": {
      "image/png": "[encoded data removed]",
      "text/plain": [
       "<Figure size 640x480 with 1 Axes>"
      ]
     },
     "metadata": {},
     "output_type": "display_data"
    }
   ],
   "source": [
    "import matplotlib.pyplot as plt\n",
    "\n",
    "plt.plot(sys.times, y)\n",
    "plt.legend((str(position), str(speed)))\n",
    "plt.xlabel('Time [s]')\n",
    "plt.show()"
   ]
  }
 ],
 "metadata": {
  "kernelspec": {
   "display_name": "Python 3 (ipykernel)",
   "language": "python",
   "name": "python3"
  }
 },
 "nbformat": 4,
 "nbformat_minor": 5
}
