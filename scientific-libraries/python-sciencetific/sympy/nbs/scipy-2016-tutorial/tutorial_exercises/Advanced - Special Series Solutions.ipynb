{
 "cells": [
  {
   "cell_type": "markdown",
   "metadata": {},
   "source": [
    "# Special Series Solutions"
   ]
  },
  {
   "cell_type": "code",
   "execution_count": null,
   "metadata": {},
   "outputs": [],
   "source": [
    "%matplotlib inline\n",
    "from sympy import *\n",
    "init_printing()"
   ]
  },
  {
   "cell_type": "code",
   "execution_count": null,
   "metadata": {},
   "outputs": [],
   "source": [
    "x, t = symbols('x, t')"
   ]
  },
  {
   "cell_type": "markdown",
   "metadata": {},
   "source": [
    "SymPy can compute special series like formal power series and fourier series. This is a new feature released in SymPy 1.0\n",
    "\n",
    "Let's try computing formal power series of some basic functions."
   ]
  },
  {
   "cell_type": "code",
   "execution_count": null,
   "metadata": {},
   "outputs": [
    {
     "data": {
      "image/png": "[encoded data removed]",
      "text/latex": [
       "$$1 + x + \\frac{x^{2}}{2} + \\frac{x^{3}}{6} + \\frac{x^{4}}{24} + \\frac{x^{5}}{120} + \\mathcal{O}\\left(x^{6}\\right)$$"
      ],
      "text/plain": [
       "         2    3    4     5        \n",
       "        x    x    x     x     ⎛ 6⎞\n",
       "1 + x + ── + ── + ── + ─── + O⎝x ⎠\n",
       "        2    6    24   120        "
      ]
     },
     "execution_count": null,
     "metadata": {},
     "output_type": "execute_result"
    }
   ],
   "source": [
    "exp_series = fps(exp(x), x)\n",
    "exp_series"
   ]
  },
  {
   "cell_type": "markdown",
   "metadata": {},
   "source": [
    "This looks very similar to what ``series`` has to offer, but unlike series a formal power series object returns an infinite expansion."
   ]
  },
  {
   "cell_type": "code",
   "execution_count": null,
   "metadata": {},
   "outputs": [
    {
     "data": {
      "text/latex": [
       "$$\\sum_{k=1}^{\\infty} \\begin{cases} \\frac{x^{k}}{k!} & \\text{for}\\: \\operatorname{Mod}{\\left (k,1 \\right )} = 0 \\\\0 & \\text{otherwise} \\end{cases} + 1$$"
      ],
      "text/plain": [
       "  ∞                              \n",
       "______                           \n",
       "╲                                \n",
       " ╲     ⎧ k                       \n",
       "  ╲    ⎪x                        \n",
       "   ╲   ⎪──  for Mod(k, 1) = 0    \n",
       "    ╲  ⎨k!                       \n",
       "    ╱  ⎪                      + 1\n",
       "   ╱   ⎪0       otherwise        \n",
       "  ╱    ⎩                         \n",
       " ╱                               \n",
       "╱                                \n",
       "‾‾‾‾‾‾                           \n",
       "k = 1                            "
      ]
     },
     "execution_count": null,
     "metadata": {},
     "output_type": "execute_result"
    }
   ],
   "source": [
    "exp_series.infinite # Infinite representation"
   ]
  },
  {
   "cell_type": "markdown",
   "metadata": {},
   "source": [
    "We can easily find out any term of the expansion (no need to recompute the expansion)."
   ]
  },
  {
   "cell_type": "code",
   "execution_count": null,
   "metadata": {},
   "outputs": [
    {
     "data": {
      "image/png": "[encoded data removed]",
      "text/latex": [
       "$$\\frac{x^{51}}{1551118753287382280224243016469303211063259720016986112000000000000}$$"
      ],
      "text/plain": [
       "                                 51                                \n",
       "                                x                                  \n",
       "───────────────────────────────────────────────────────────────────\n",
       "1551118753287382280224243016469303211063259720016986112000000000000"
      ]
     },
     "execution_count": null,
     "metadata": {},
     "output_type": "execute_result"
    }
   ],
   "source": [
    "exp_series.term(51) # equivalent to exp_series[51]"
   ]
  },
  {
   "cell_type": "code",
   "execution_count": null,
   "metadata": {},
   "outputs": [
    {
     "data": {
      "image/png": "[encoded data removed]",
      "text/latex": [
       "$$1 + x + \\frac{x^{2}}{2} + \\frac{x^{3}}{6} + \\frac{x^{4}}{24} + \\frac{x^{5}}{120} + \\frac{x^{6}}{720} + \\frac{x^{7}}{5040} + \\frac{x^{8}}{40320} + \\frac{x^{9}}{362880} + \\mathcal{O}\\left(x^{10}\\right)$$"
      ],
      "text/plain": [
       "         2    3    4     5     6     7       8       9           \n",
       "        x    x    x     x     x     x       x       x       ⎛ 10⎞\n",
       "1 + x + ── + ── + ── + ─── + ─── + ──── + ───── + ────── + O⎝x  ⎠\n",
       "        2    6    24   120   720   5040   40320   362880         "
      ]
     },
     "execution_count": null,
     "metadata": {},
     "output_type": "execute_result"
    }
   ],
   "source": [
    "exp_series.truncate(10) # return a truncated series expansion"
   ]
  },
  {
   "cell_type": "markdown",
   "metadata": {},
   "source": [
    "# Exercise"
   ]
  },
  {
   "cell_type": "markdown",
   "metadata": {},
   "source": [
    "Try computing the formal power series of $\\log(1 + x)$. Try to look at the infinite representation. What is the 51st term in this case? Compute the expansion about 1."
   ]
  },
  {
   "cell_type": "code",
   "execution_count": null,
   "metadata": {},
   "outputs": [
    {
     "data": {
      "image/png": "[encoded data removed]",
      "text/latex": [
       "$$x - \\frac{x^{2}}{2} + \\frac{x^{3}}{3} - \\frac{x^{4}}{4} + \\frac{x^{5}}{5} + \\mathcal{O}\\left(x^{6}\\right)$$"
      ],
      "text/plain": [
       "     2    3    4    5        \n",
       "    x    x    x    x     ⎛ 6⎞\n",
       "x - ── + ── - ── + ── + O⎝x ⎠\n",
       "    2    3    4    5         "
      ]
     },
     "execution_count": null,
     "metadata": {},
     "output_type": "execute_result"
    }
   ],
   "source": [
    "log_series = fps(log(1 + x), x)\n",
    "log_series"
   ]
  },
  {
   "cell_type": "code",
   "execution_count": null,
   "metadata": {},
   "outputs": [
    {
     "data": {
      "image/png": "[encoded data removed]",
      "text/latex": [
       "$$\\sum_{k=1}^{\\infty} - \\frac{\\left(-1\\right)^{- k}}{k} x^{k}$$"
      ],
      "text/plain": [
       "  ∞              \n",
       " ____            \n",
       " ╲               \n",
       "  ╲        -k  k \n",
       "   ╲  -(-1)  ⋅x  \n",
       "   ╱  ───────────\n",
       "  ╱        k     \n",
       " ╱               \n",
       " ‾‾‾‾            \n",
       "k = 1            "
      ]
     },
     "execution_count": null,
     "metadata": {},
     "output_type": "execute_result"
    }
   ],
   "source": [
    "# infinite representation\n",
    "log_series.infinite"
   ]
  },
  {
   "cell_type": "code",
   "execution_count": null,
   "metadata": {},
   "outputs": [
    {
     "data": {
      "image/png": "[encoded data removed]",
      "text/latex": [
       "$$\\frac{x^{51}}{51}$$"
      ],
      "text/plain": [
       " 51\n",
       "x  \n",
       "───\n",
       " 51"
      ]
     },
     "execution_count": null,
     "metadata": {},
     "output_type": "execute_result"
    }
   ],
   "source": [
    "# 51st term\n",
    "log_series.term(51)"
   ]
  },
  {
   "cell_type": "code",
   "execution_count": null,
   "metadata": {},
   "outputs": [
    {
     "data": {
      "image/png": "[encoded data removed]",
      "text/latex": [
       "$$\\log{\\left (2 \\right )} - \\frac{1}{2} - \\frac{1}{8} \\left(x - 1\\right)^{2} + \\frac{1}{24} \\left(x - 1\\right)^{3} - \\frac{1}{64} \\left(x - 1\\right)^{4} + \\frac{1}{160} \\left(x - 1\\right)^{5} + \\frac{x}{2} + \\mathcal{O}\\left(\\left(x - 1\\right)^{6}; x\\rightarrow1\\right)$$"
      ],
      "text/plain": [
       "                    2          3          4          5                        \n",
       "         1   (x - 1)    (x - 1)    (x - 1)    (x - 1)    x    ⎛       6       \n",
       "log(2) - ─ - ──────── + ──────── - ──────── + ──────── + ─ + O⎝(x - 1) ; x → 1\n",
       "         2      8          24         64        160      2                    \n",
       "\n",
       " \n",
       "⎞\n",
       "⎠\n",
       " "
      ]
     },
     "execution_count": null,
     "metadata": {},
     "output_type": "execute_result"
    }
   ],
   "source": [
    "# expansion about 1\n",
    "fps(log(1 + x), x, x0=1)"
   ]
  },
  {
   "cell_type": "markdown",
   "metadata": {},
   "source": [
    "# Fourier Series"
   ]
  },
  {
   "cell_type": "markdown",
   "metadata": {},
   "source": [
    "Fourier series for functions can be computed using ``fourier_series`` function.\n",
    "\n",
    "A sawtooth wave is defined as:\n",
    "   1. $$ s(x) = x/\\pi \\in (-\\pi, \\pi) $$\n",
    "   2. $$ s(x + 2k\\pi) = s(x) \\in (-\\infty, \\infty) $$\n",
    "    \n",
    "Let's compute the fourier series of the above defined wave."
   ]
  },
  {
   "cell_type": "code",
   "execution_count": null,
   "metadata": {},
   "outputs": [
    {
     "data": {
      "image/png": "[encoded data removed]",
      "text/latex": [
       "$$\\frac{2}{\\pi} \\sin{\\left (x \\right )} - \\frac{1}{\\pi} \\sin{\\left (2 x \\right )} + \\frac{2}{3 \\pi} \\sin{\\left (3 x \\right )} + \\ldots$$"
      ],
      "text/plain": [
       "2⋅sin(x)   sin(2⋅x)   2⋅sin(3⋅x)    \n",
       "──────── - ──────── + ────────── + …\n",
       "   π          π          3⋅π        "
      ]
     },
     "execution_count": null,
     "metadata": {},
     "output_type": "execute_result"
    }
   ],
   "source": [
    "sawtooth_series = fourier_series(x / pi, (x, -pi, pi))\n",
    "sawtooth_series"
   ]
  },
  {
   "cell_type": "code",
   "execution_count": null,
   "metadata": {},
   "outputs": [
    {
     "data": {
      "image/png": "[encoded data removed]",
      "text/plain": [
       "<matplotlib.figure.Figure>"
      ]
     },
     "metadata": {},
     "output_type": "display_data"
    },
    {
     "data": {
      "text/plain": [
       "<sympy.plotting.plot.Plot>"
      ]
     },
     "execution_count": null,
     "metadata": {},
     "output_type": "execute_result"
    }
   ],
   "source": [
    "plot(sawtooth_series.truncate(50)) "
   ]
  },
  {
   "cell_type": "markdown",
   "metadata": {},
   "source": [
    "See https://en.wikipedia.org/wiki/Gibbs_phenomenon for why the fourier series has peculiar behavior near jump discontinuties."
   ]
  },
  {
   "cell_type": "markdown",
   "metadata": {},
   "source": [
    "Just like formal power series we can index fourier series as well."
   ]
  },
  {
   "cell_type": "code",
   "execution_count": null,
   "metadata": {},
   "outputs": [
    {
     "data": {
      "image/png": "[encoded data removed]",
      "text/latex": [
       "$$\\frac{2}{51 \\pi} \\sin{\\left (51 x \\right )}$$"
      ],
      "text/plain": [
       "2⋅sin(51⋅x)\n",
       "───────────\n",
       "    51⋅π   "
      ]
     },
     "execution_count": null,
     "metadata": {},
     "output_type": "execute_result"
    }
   ],
   "source": [
    "sawtooth_series[51]"
   ]
  },
  {
   "cell_type": "markdown",
   "metadata": {},
   "source": [
    "It is easy to shift and scale the series using ``shift`` and ``scale`` methods."
   ]
  },
  {
   "cell_type": "code",
   "execution_count": null,
   "metadata": {},
   "outputs": [
    {
     "data": {
      "image/png": "[encoded data removed]",
      "text/latex": [
       "$$\\frac{2}{\\pi} \\sin{\\left (x \\right )} - \\frac{1}{\\pi} \\sin{\\left (2 x \\right )} + \\frac{2}{3 \\pi} \\sin{\\left (3 x \\right )} - \\frac{1}{2 \\pi} \\sin{\\left (4 x \\right )} + 10$$"
      ],
      "text/plain": [
       "2⋅sin(x)   sin(2⋅x)   2⋅sin(3⋅x)   sin(4⋅x)     \n",
       "──────── - ──────── + ────────── - ──────── + 10\n",
       "   π          π          3⋅π         2⋅π        "
      ]
     },
     "execution_count": null,
     "metadata": {},
     "output_type": "execute_result"
    }
   ],
   "source": [
    "sawtooth_series.shift(10).truncate(5)"
   ]
  },
  {
   "cell_type": "code",
   "execution_count": null,
   "metadata": {},
   "outputs": [
    {
     "data": {
      "image/png": "[encoded data removed]",
      "text/latex": [
       "$$\\frac{20}{\\pi} \\sin{\\left (x \\right )} - \\frac{10}{\\pi} \\sin{\\left (2 x \\right )} + \\frac{20}{3 \\pi} \\sin{\\left (3 x \\right )} - \\frac{5}{\\pi} \\sin{\\left (4 x \\right )} + \\frac{4}{\\pi} \\sin{\\left (5 x \\right )}$$"
      ],
      "text/plain": [
       "20⋅sin(x)   10⋅sin(2⋅x)   20⋅sin(3⋅x)   5⋅sin(4⋅x)   4⋅sin(5⋅x)\n",
       "───────── - ─────────── + ─────────── - ────────── + ──────────\n",
       "    π            π            3⋅π           π            π     "
      ]
     },
     "execution_count": null,
     "metadata": {},
     "output_type": "execute_result"
    }
   ],
   "source": [
    "sawtooth_series.scale(10).truncate(5)"
   ]
  },
  {
   "cell_type": "markdown",
   "metadata": {},
   "source": [
    "# Exercise"
   ]
  },
  {
   "cell_type": "markdown",
   "metadata": {},
   "source": [
    "Consider a square wave defined over the range of (0, 1) as:\n",
    "   1. $$ f(t) = 1 \\in (0, 1/2] $$\n",
    "   2. $$ f(t) = -1 \\in (1/2, 1) $$\n",
    "   3. $$ f(t + 1) = f(t) \\in (-\\infty, \\infty) $$\n",
    "    \n",
    "Try computing the fourier series of the above defined function. Also, plot the computed fourier series."
   ]
  },
  {
   "cell_type": "code",
   "execution_count": null,
   "metadata": {},
   "outputs": [],
   "source": [
    "square_wave = Piecewise((1, t <= Rational(1, 2)), (-1, t > Rational(1, 2)))"
   ]
  },
  {
   "cell_type": "code",
   "execution_count": null,
   "metadata": {},
   "outputs": [
    {
     "data": {
      "image/png": "[encoded data removed]",
      "text/latex": [
       "$$\\frac{4}{\\pi} \\sin{\\left (2 \\pi t \\right )} + \\frac{4}{3 \\pi} \\sin{\\left (6 \\pi t \\right )} + \\frac{4}{5 \\pi} \\sin{\\left (10 \\pi t \\right )} + \\ldots$$"
      ],
      "text/plain": [
       "4⋅sin(2⋅π⋅t)   4⋅sin(6⋅π⋅t)   4⋅sin(10⋅π⋅t)    \n",
       "──────────── + ──────────── + ───────────── + …\n",
       "     π             3⋅π             5⋅π         "
      ]
     },
     "execution_count": null,
     "metadata": {},
     "output_type": "execute_result"
    }
   ],
   "source": [
    "square_series = fourier_series(square_wave, (t, 0, 1))\n",
    "square_series"
   ]
  },
  {
   "cell_type": "code",
   "execution_count": null,
   "metadata": {},
   "outputs": [
    {
     "data": {
      "image/png": "[encoded data removed]",
      "text/plain": [
       "<matplotlib.figure.Figure>"
      ]
     },
     "metadata": {},
     "output_type": "display_data"
    },
    {
     "data": {
      "text/plain": [
       "<sympy.plotting.plot.Plot>"
      ]
     },
     "execution_count": null,
     "metadata": {},
     "output_type": "execute_result"
    }
   ],
   "source": [
    "plot(square_series.truncate(50))"
   ]
  },
  {
   "cell_type": "markdown",
   "metadata": {},
   "source": [
    "# What next?"
   ]
  },
  {
   "cell_type": "markdown",
   "metadata": {},
   "source": [
    "Try some basic operations like addition, subtraction, etc on formal power series, fourier series and see what happens. "
   ]
  }
 ],
 "metadata": {
  "kernelspec": {
   "display_name": "Python 3 (ipykernel)",
   "language": "python",
   "name": "python3"
  }
 },
 "nbformat": 4,
 "nbformat_minor": 4
}
