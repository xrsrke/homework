{
 "cells": [
  {
   "cell_type": "code",
   "execution_count": 1,
   "metadata": {
    "collapsed": false
   },
   "outputs": [],
   "source": [
    "from sympy.integrals.quadrature import gauss_legendre"
   ]
  },
  {
   "cell_type": "code",
   "execution_count": 2,
   "metadata": {
    "collapsed": false
   },
   "outputs": [
    {
     "data": {
      "text/plain": [
       "([-0.86113631159405258,\n",
       "  -0.33998104358485626,\n",
       "  0.33998104358485626,\n",
       "  0.86113631159405258],\n",
       " [0.34785484513745386,\n",
       "  0.65214515486254614,\n",
       "  0.65214515486254614,\n",
       "  0.34785484513745386])"
      ]
     },
     "execution_count": 2,
     "metadata": {},
     "output_type": "execute_result"
    }
   ],
   "source": [
    "gauss_legendre(4, 17)"
   ]
  },
  {
   "cell_type": "markdown",
   "metadata": {},
   "source": [
    "Compare against:\n",
    "\n",
    "https://github.com/certik/hfsolver/blob/0693c60abc8da820b9c626f2092bf9d767644a8b/src/quadrature.f90#L30\n",
    "\n",
    "Points:\n",
    "\n",
    "```fortran\n",
    "   case(4)\n",
    "      xi(1)=-0.86113631159405258_dp\n",
    "      xi(2)=-0.33998104358485626_dp\n",
    "      xi(3)=0.33998104358485626_dp\n",
    "      xi(4)=0.86113631159405258_dp\n",
    "```\n",
    "\n",
    "Weights:\n",
    "\n",
    "```fortran\n",
    "   case(4)\n",
    "      w(1)=0.34785484513745386_dp\n",
    "      w(2)=0.65214515486254614_dp\n",
    "      w(3)=0.65214515486254614_dp\n",
    "      w(4)=0.34785484513745386_dp\n",
    "```"
   ]
  },
  {
   "cell_type": "code",
   "execution_count": 3,
   "metadata": {
    "collapsed": true
   },
   "outputs": [],
   "source": [
    "gauss_legendre??"
   ]
  }
 ],
 "metadata": {
  "kernelspec": {
   "display_name": "Python 2",
   "language": "python",
   "name": "python2"
  },
  "language_info": {
   "codemirror_mode": {
    "name": "ipython",
    "version": 2
   },
   "file_extension": ".py",
   "mimetype": "text/x-python",
   "name": "python",
   "nbconvert_exporter": "python",
   "pygments_lexer": "ipython2",
   "version": "2.7.12"
  }
 },
 "nbformat": 4,
 "nbformat_minor": 0
}
