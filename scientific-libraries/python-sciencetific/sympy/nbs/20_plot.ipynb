{
 "cells": [
  {
   "cell_type": "code",
   "execution_count": null,
   "id": "8518ff4b-54ac-4146-9b68-1e0ee17157ca",
   "metadata": {},
   "outputs": [],
   "source": [
    "import sympy as smp"
   ]
  },
  {
   "cell_type": "code",
   "execution_count": null,
   "id": "c13cdb13-1178-498f-8a37-ef917ca7e761",
   "metadata": {},
   "outputs": [],
   "source": [
    "x = smp.symbols('x')"
   ]
  },
  {
   "cell_type": "markdown",
   "id": "77ac75b9-868f-4b1e-b6c2-c7932070abf5",
   "metadata": {},
   "source": [
    "### `.textplot()`"
   ]
  },
  {
   "cell_type": "code",
   "execution_count": null,
   "id": "286ea481-740f-4028-b473-590348d0d16c",
   "metadata": {},
   "outputs": [
    {
     "name": "stdout",
     "output_type": "stream",
     "text": [
      "      9 |\\                                                     /\n",
      "        | .                                                   . \n",
      "        |                                                       \n",
      "        |  .                                                 .  \n",
      "        |   \\                                               /   \n",
      "        |    .                                             .    \n",
      "        |                                                       \n",
      "        |     .                                           .     \n",
      "        |      \\                                         /      \n",
      "        |       \\                                       /       \n",
      "    4.5 |--------\\-------------------------------------/--------\n",
      "        |         \\                                   /         \n",
      "        |          \\                                 /          \n",
      "        |           \\                               /           \n",
      "        |            \\                             /            \n",
      "        |             ..                         ..             \n",
      "        |               \\                       /               \n",
      "        |                ..                   ..                \n",
      "        |                  ..               ..                  \n",
      "        |                    ...         ...                    \n",
      "      0 |_______________________________________________________\n",
      "         -3                         0                          3\n"
     ]
    }
   ],
   "source": [
    "smp.textplot(x**2, -3, 3)"
   ]
  },
  {
   "cell_type": "code",
   "execution_count": null,
   "id": "aae2d33d-96dd-4ab1-854e-92fa591a7ad3",
   "metadata": {},
   "outputs": [],
   "source": []
  }
 ],
 "metadata": {
  "kernelspec": {
   "display_name": "Python 3 (ipykernel)",
   "language": "python",
   "name": "python3"
  }
 },
 "nbformat": 4,
 "nbformat_minor": 5
}
