{
 "cells": [
  {
   "cell_type": "code",
   "execution_count": null,
   "id": "bebe8f78-b327-406e-9335-70ade217094e",
   "metadata": {},
   "outputs": [],
   "source": [
    "import pandas as pd"
   ]
  },
  {
   "cell_type": "code",
   "execution_count": null,
   "id": "4afaefb1-56a2-4bca-915c-7564a68f8fb4",
   "metadata": {},
   "outputs": [],
   "source": [
    "df = pd.read_csv('data/survey_results_public.csv')\n",
    "schema_df = pd.read_csv('data/survey_results_schema.csv')"
   ]
  },
  {
   "cell_type": "code",
   "execution_count": null,
   "id": "ea91b20f-10fa-4e69-8870-b898e32a9877",
   "metadata": {},
   "outputs": [],
   "source": [
    "pd.set_"
   ]
  },
  {
   "cell_type": "code",
   "execution_count": null,
   "id": "c13d4f64-fc10-439e-a231-c82a15d0d01f",
   "metadata": {},
   "outputs": [],
   "source": []
  }
 ],
 "metadata": {
  "kernelspec": {
   "display_name": "Python 3 (ipykernel)",
   "language": "python",
   "name": "python3"
  }
 },
 "nbformat": 4,
 "nbformat_minor": 5
}
