{
 "cells": [
  {
   "cell_type": "markdown",
   "id": "aa300053-913c-4c3a-8259-88ad81b5793a",
   "metadata": {},
   "source": [
    "### `.groupby()`"
   ]
  },
  {
   "cell_type": "code",
   "execution_count": null,
   "id": "bb160dc1-8304-4e13-8a33-aebc915c2bdc",
   "metadata": {},
   "outputs": [],
   "source": [
    "import pandas as pd"
   ]
  },
  {
   "cell_type": "code",
   "execution_count": null,
   "id": "7567faef-80df-49ba-8f56-75ed92f14bd6",
   "metadata": {},
   "outputs": [],
   "source": [
    "file_url = 'https://raw.githubusercontent.com/misraturp/Pandas-groupby-tutorial/main/NYC_Jobs.csv'"
   ]
  },
  {
   "cell_type": "code",
   "execution_count": null,
   "id": "1abe6996-316e-4298-a4b6-ae66584e24c9",
   "metadata": {},
   "outputs": [
    {
     "data": {
      "text/plain": [
       "'https://raw.githubusercontent.com/misraturp/Pandas-groupby-tutorial/main/NYC_Jobs.csv'"
      ]
     },
     "execution_count": null,
     "metadata": {},
     "output_type": "execute_result"
    }
   ],
   "source": [
    "file_url"
   ]
  },
  {
   "cell_type": "code",
   "execution_count": null,
   "id": "0fdc5f16-29dc-4b7a-97c9-5b040910d265",
   "metadata": {},
   "outputs": [],
   "source": [
    "df = pd.read_csv(file_url, usecols=(0, 1, 2, 5))"
   ]
  },
  {
   "cell_type": "code",
   "execution_count": null,
   "id": "158790d7-406a-4d66-8435-faf72f632f1c",
   "metadata": {},
   "outputs": [
    {
     "data": {
      "text/html": [
       "<div>\n",
       "<style scoped>\n",
       "    .dataframe tbody tr th:only-of-type {\n",
       "        vertical-align: middle;\n",
       "    }\n",
       "\n",
       "    .dataframe tbody tr th {\n",
       "        vertical-align: top;\n",
       "    }\n",
       "\n",
       "    .dataframe thead th {\n",
       "        text-align: right;\n",
       "    }\n",
       "</style>\n",
       "<table border=\"1\" class=\"dataframe\">\n",
       "  <thead>\n",
       "    <tr style=\"text-align: right;\">\n",
       "      <th></th>\n",
       "      <th>Job ID</th>\n",
       "      <th>Civil Service Title</th>\n",
       "      <th>Agency</th>\n",
       "      <th>Salary Range From</th>\n",
       "    </tr>\n",
       "  </thead>\n",
       "  <tbody>\n",
       "    <tr>\n",
       "      <th>0</th>\n",
       "      <td>424339</td>\n",
       "      <td>PUBLIC HEALTH NURSE</td>\n",
       "      <td>DEPT OF HEALTH/MENTAL HYGIENE</td>\n",
       "      <td>84252.0</td>\n",
       "    </tr>\n",
       "    <tr>\n",
       "      <th>1</th>\n",
       "      <td>379094</td>\n",
       "      <td>CERT IT DEVELOPER (APP)</td>\n",
       "      <td>NYC EMPLOYEES RETIREMENT SYS</td>\n",
       "      <td>82884.0</td>\n",
       "    </tr>\n",
       "  </tbody>\n",
       "</table>\n",
       "</div>"
      ],
      "text/plain": [
       "   Job ID      Civil Service Title                         Agency  \\\n",
       "0  424339      PUBLIC HEALTH NURSE  DEPT OF HEALTH/MENTAL HYGIENE   \n",
       "1  379094  CERT IT DEVELOPER (APP)   NYC EMPLOYEES RETIREMENT SYS   \n",
       "\n",
       "   Salary Range From  \n",
       "0            84252.0  \n",
       "1            82884.0  "
      ]
     },
     "execution_count": null,
     "metadata": {},
     "output_type": "execute_result"
    }
   ],
   "source": [
    "df.head(2)"
   ]
  },
  {
   "cell_type": "code",
   "execution_count": null,
   "id": "bbc1ddd5-c94c-4582-8173-4133c8f9ac38",
   "metadata": {},
   "outputs": [
    {
     "ename": "SyntaxError",
     "evalue": "invalid syntax (4214428676.py, line 1)",
     "output_type": "error",
     "traceback": [
      "\u001b[0;36m  Input \u001b[0;32mIn [27]\u001b[0;36m\u001b[0m\n\u001b[0;31m    Group each s\u001b[0m\n\u001b[0m          ^\u001b[0m\n\u001b[0;31mSyntaxError\u001b[0m\u001b[0;31m:\u001b[0m invalid syntax\n"
     ]
    }
   ],
   "source": [
    "Group each s"
   ]
  },
  {
   "cell_type": "code",
   "execution_count": null,
   "id": "e29cc54f-81ed-428a-ac68-2667ceb9051c",
   "metadata": {},
   "outputs": [
    {
     "name": "stderr",
     "output_type": "stream",
     "text": [
      "/var/folders/qg/0sfc2v8d71jcfr2mk24wj2w80000gp/T/ipykernel_7997/3294969507.py:1: FutureWarning: The default value of numeric_only in DataFrameGroupBy.mean is deprecated. In a future version, numeric_only will default to False. Either specify numeric_only or select only columns which should be valid for the function.\n",
      "  df.groupby('Agency').mean().head()\n"
     ]
    },
    {
     "data": {
      "text/html": [
       "<div>\n",
       "<style scoped>\n",
       "    .dataframe tbody tr th:only-of-type {\n",
       "        vertical-align: middle;\n",
       "    }\n",
       "\n",
       "    .dataframe tbody tr th {\n",
       "        vertical-align: top;\n",
       "    }\n",
       "\n",
       "    .dataframe thead th {\n",
       "        text-align: right;\n",
       "    }\n",
       "</style>\n",
       "<table border=\"1\" class=\"dataframe\">\n",
       "  <thead>\n",
       "    <tr style=\"text-align: right;\">\n",
       "      <th></th>\n",
       "      <th>Job ID</th>\n",
       "      <th>Salary Range From</th>\n",
       "    </tr>\n",
       "    <tr>\n",
       "      <th>Agency</th>\n",
       "      <th></th>\n",
       "      <th></th>\n",
       "    </tr>\n",
       "  </thead>\n",
       "  <tbody>\n",
       "    <tr>\n",
       "      <th>ADMIN FOR CHILDREN'S SVCS</th>\n",
       "      <td>460844.450000</td>\n",
       "      <td>59864.200000</td>\n",
       "    </tr>\n",
       "    <tr>\n",
       "      <th>ADMIN TRIALS AND HEARINGS</th>\n",
       "      <td>514536.625000</td>\n",
       "      <td>63196.562500</td>\n",
       "    </tr>\n",
       "    <tr>\n",
       "      <th>BOARD OF CORRECTION</th>\n",
       "      <td>527087.666667</td>\n",
       "      <td>108033.333333</td>\n",
       "    </tr>\n",
       "    <tr>\n",
       "      <th>BOROUGH PRESIDENT-QUEENS</th>\n",
       "      <td>527260.000000</td>\n",
       "      <td>51860.500000</td>\n",
       "    </tr>\n",
       "    <tr>\n",
       "      <th>BUSINESS INTEGRITY COMMISSION</th>\n",
       "      <td>413144.777778</td>\n",
       "      <td>67923.222222</td>\n",
       "    </tr>\n",
       "  </tbody>\n",
       "</table>\n",
       "</div>"
      ],
      "text/plain": [
       "                                      Job ID  Salary Range From\n",
       "Agency                                                         \n",
       "ADMIN FOR CHILDREN'S SVCS      460844.450000       59864.200000\n",
       "ADMIN TRIALS AND HEARINGS      514536.625000       63196.562500\n",
       "BOARD OF CORRECTION            527087.666667      108033.333333\n",
       "BOROUGH PRESIDENT-QUEENS       527260.000000       51860.500000\n",
       "BUSINESS INTEGRITY COMMISSION  413144.777778       67923.222222"
      ]
     },
     "execution_count": null,
     "metadata": {},
     "output_type": "execute_result"
    }
   ],
   "source": [
    "df.groupby('Agency').mean().head()"
   ]
  },
  {
   "cell_type": "code",
   "execution_count": null,
   "id": "f7f82fb6-84c6-41a4-9d57-fa7f24696b0b",
   "metadata": {},
   "outputs": [],
   "source": []
  }
 ],
 "metadata": {
  "kernelspec": {
   "display_name": "Python 3 (ipykernel)",
   "language": "python",
   "name": "python3"
  }
 },
 "nbformat": 4,
 "nbformat_minor": 5
}
