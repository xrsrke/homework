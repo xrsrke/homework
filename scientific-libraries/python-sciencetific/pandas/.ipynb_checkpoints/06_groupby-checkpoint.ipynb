{
 "cells": [
  {
   "cell_type": "markdown",
   "id": "aa300053-913c-4c3a-8259-88ad81b5793a",
   "metadata": {},
   "source": [
    "### `.groupby()`"
   ]
  },
  {
   "cell_type": "code",
   "execution_count": null,
   "id": "bb160dc1-8304-4e13-8a33-aebc915c2bdc",
   "metadata": {},
   "outputs": [],
   "source": [
    "import pandas as pd"
   ]
  },
  {
   "cell_type": "code",
   "execution_count": null,
   "id": "7567faef-80df-49ba-8f56-75ed92f14bd6",
   "metadata": {},
   "outputs": [],
   "source": [
    "file_url = 'https://raw.githubusercontent.com/misraturp/Pandas-groupby-tutorial/main/NYC_Jobs.csv'"
   ]
  },
  {
   "cell_type": "code",
   "execution_count": null,
   "id": "1abe6996-316e-4298-a4b6-ae66584e24c9",
   "metadata": {},
   "outputs": [
    {
     "data": {
      "text/plain": [
       "'https://raw.githubusercontent.com/misraturp/Pandas-groupby-tutorial/main/NYC_Jobs.csv'"
      ]
     },
     "execution_count": null,
     "metadata": {},
     "output_type": "execute_result"
    }
   ],
   "source": [
    "file_url"
   ]
  },
  {
   "cell_type": "code",
   "execution_count": null,
   "id": "0fdc5f16-29dc-4b7a-97c9-5b040910d265",
   "metadata": {},
   "outputs": [],
   "source": [
    "df = pd.read_csv(file_url, usecols=(0, 1, 2, 3, 4, 5))"
   ]
  },
  {
   "cell_type": "code",
   "execution_count": null,
   "id": "158790d7-406a-4d66-8435-faf72f632f1c",
   "metadata": {},
   "outputs": [
    {
     "data": {
      "text/html": [
       "<div>\n",
       "<style scoped>\n",
       "    .dataframe tbody tr th:only-of-type {\n",
       "        vertical-align: middle;\n",
       "    }\n",
       "\n",
       "    .dataframe tbody tr th {\n",
       "        vertical-align: top;\n",
       "    }\n",
       "\n",
       "    .dataframe thead th {\n",
       "        text-align: right;\n",
       "    }\n",
       "</style>\n",
       "<table border=\"1\" class=\"dataframe\">\n",
       "  <thead>\n",
       "    <tr style=\"text-align: right;\">\n",
       "      <th></th>\n",
       "      <th>Job ID</th>\n",
       "      <th>Civil Service Title</th>\n",
       "      <th>Agency</th>\n",
       "      <th>Posting Type</th>\n",
       "      <th>Job Category</th>\n",
       "      <th>Salary Range From</th>\n",
       "    </tr>\n",
       "  </thead>\n",
       "  <tbody>\n",
       "    <tr>\n",
       "      <th>0</th>\n",
       "      <td>424339</td>\n",
       "      <td>PUBLIC HEALTH NURSE</td>\n",
       "      <td>DEPT OF HEALTH/MENTAL HYGIENE</td>\n",
       "      <td>External</td>\n",
       "      <td>Health</td>\n",
       "      <td>84252.0</td>\n",
       "    </tr>\n",
       "    <tr>\n",
       "      <th>1</th>\n",
       "      <td>379094</td>\n",
       "      <td>CERT IT DEVELOPER (APP)</td>\n",
       "      <td>NYC EMPLOYEES RETIREMENT SYS</td>\n",
       "      <td>External</td>\n",
       "      <td>NaN</td>\n",
       "      <td>82884.0</td>\n",
       "    </tr>\n",
       "  </tbody>\n",
       "</table>\n",
       "</div>"
      ],
      "text/plain": [
       "   Job ID      Civil Service Title                         Agency  \\\n",
       "0  424339      PUBLIC HEALTH NURSE  DEPT OF HEALTH/MENTAL HYGIENE   \n",
       "1  379094  CERT IT DEVELOPER (APP)   NYC EMPLOYEES RETIREMENT SYS   \n",
       "\n",
       "  Posting Type Job Category  Salary Range From  \n",
       "0     External       Health            84252.0  \n",
       "1     External          NaN            82884.0  "
      ]
     },
     "execution_count": null,
     "metadata": {},
     "output_type": "execute_result"
    }
   ],
   "source": [
    "df.head(2)"
   ]
  },
  {
   "cell_type": "code",
   "execution_count": null,
   "id": "bbc1ddd5-c94c-4582-8173-4133c8f9ac38",
   "metadata": {},
   "outputs": [],
   "source": [
    "Group each s"
   ]
  },
  {
   "cell_type": "code",
   "execution_count": null,
   "id": "e29cc54f-81ed-428a-ac68-2667ceb9051c",
   "metadata": {},
   "outputs": [
    {
     "data": {
      "text/plain": [
       "<pandas.core.groupby.generic.DataFrameGroupBy object>"
      ]
     },
     "execution_count": null,
     "metadata": {},
     "output_type": "execute_result"
    }
   ],
   "source": [
    "df.groupby('Agency')"
   ]
  },
  {
   "cell_type": "code",
   "execution_count": null,
   "id": "f7f82fb6-84c6-41a4-9d57-fa7f24696b0b",
   "metadata": {},
   "outputs": [],
   "source": []
  }
 ],
 "metadata": {
  "kernelspec": {
   "display_name": "Python 3 (ipykernel)",
   "language": "python",
   "name": "python3"
  }
 },
 "nbformat": 4,
 "nbformat_minor": 5
}
