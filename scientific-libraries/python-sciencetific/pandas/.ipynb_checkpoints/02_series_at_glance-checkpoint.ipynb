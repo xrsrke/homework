{
 "cells": [
  {
   "cell_type": "code",
   "execution_count": null,
   "id": "2b3a2451-2b3a-4600-8253-1ba37f6b7b04",
   "metadata": {},
   "outputs": [],
   "source": [
    "import pandas as pd\n",
    "import numpy as np"
   ]
  },
  {
   "cell_type": "code",
   "execution_count": null,
   "id": "811f5d8e-3d89-42cf-9d23-69605cfec699",
   "metadata": {},
   "outputs": [],
   "source": [
    "series = pd.Series(dtype=float)"
   ]
  },
  {
   "cell_type": "code",
   "execution_count": null,
   "id": "6f9aba85-73ee-4857-be58-efccb8967796",
   "metadata": {},
   "outputs": [
    {
     "data": {
      "text/plain": [
       "Series([], dtype: float64)"
      ]
     },
     "execution_count": null,
     "metadata": {},
     "output_type": "execute_result"
    }
   ],
   "source": [
    "series.add(2.1)"
   ]
  },
  {
   "cell_type": "code",
   "execution_count": null,
   "id": "1ddfae38-4f5c-46c6-8b3a-a6d5db985378",
   "metadata": {},
   "outputs": [
    {
     "data": {
      "text/plain": [
       "Series([], dtype: float64)"
      ]
     },
     "execution_count": null,
     "metadata": {},
     "output_type": "execute_result"
    }
   ],
   "source": [
    "series"
   ]
  },
  {
   "cell_type": "markdown",
   "id": "f8d8d781-9d93-4cd0-a987-9b695d32e5fb",
   "metadata": {},
   "source": [
    "### Extracting By Index Position"
   ]
  },
  {
   "cell_type": "code",
   "execution_count": null,
   "id": "a7e8bb7e-e630-4c7b-a266-3763de51f25c",
   "metadata": {},
   "outputs": [],
   "source": [
    "from string import ascii_lowercase"
   ]
  },
  {
   "cell_type": "code",
   "execution_count": null,
   "id": "88ee3de7-2f58-4824-ac94-39597ce6f129",
   "metadata": {},
   "outputs": [],
   "source": [
    "alphabet = pd.Series(list(ascii_lowercase))"
   ]
  },
  {
   "cell_type": "code",
   "execution_count": null,
   "id": "290555ef-d87e-4bec-b120-d4103c1c87a3",
   "metadata": {},
   "outputs": [
    {
     "data": {
      "text/plain": [
       "0    a\n",
       "1    b\n",
       "2    c\n",
       "3    d\n",
       "4    e\n",
       "dtype: object"
      ]
     },
     "execution_count": null,
     "metadata": {},
     "output_type": "execute_result"
    }
   ],
   "source": [
    "alphabet.head()"
   ]
  },
  {
   "cell_type": "markdown",
   "id": "38eb6a9b-c22a-423e-9b7b-e7627b64c13e",
   "metadata": {},
   "source": [
    "### Access Elements by Label"
   ]
  },
  {
   "cell_type": "code",
   "execution_count": null,
   "id": "de2b82a2-ed33-4f12-ba0d-45850a203818",
   "metadata": {},
   "outputs": [],
   "source": [
    "from string import ascii_lowercase, ascii_uppercase"
   ]
  },
  {
   "cell_type": "code",
   "execution_count": null,
   "id": "dc68da30-7062-4442-983c-bebaa78d3193",
   "metadata": {},
   "outputs": [],
   "source": [
    "alphabet = pd.Series(data=list(ascii_lowercase), index=list(ascii_uppercase))"
   ]
  },
  {
   "cell_type": "code",
   "execution_count": null,
   "id": "6455dc3c-ed7e-4139-ad0a-0ea75a0a5811",
   "metadata": {},
   "outputs": [
    {
     "data": {
      "text/plain": [
       "A    a\n",
       "B    b\n",
       "C    c\n",
       "D    d\n",
       "E    e\n",
       "dtype: object"
      ]
     },
     "execution_count": null,
     "metadata": {},
     "output_type": "execute_result"
    }
   ],
   "source": [
    "alphabet.head()"
   ]
  },
  {
   "cell_type": "code",
   "execution_count": null,
   "id": "6219ac9e-c01f-45fb-b9fe-2adbd3c09709",
   "metadata": {},
   "outputs": [
    {
     "data": {
      "text/plain": [
       "'a'"
      ]
     },
     "execution_count": null,
     "metadata": {},
     "output_type": "execute_result"
    }
   ],
   "source": [
    "alphabet['A']"
   ]
  },
  {
   "cell_type": "code",
   "execution_count": null,
   "id": "ec19cc7d-eddc-44be-884b-eb5df319992e",
   "metadata": {},
   "outputs": [
    {
     "data": {
      "text/plain": [
       "'a'"
      ]
     },
     "execution_count": null,
     "metadata": {},
     "output_type": "execute_result"
    }
   ],
   "source": [
    "alphabet.A"
   ]
  },
  {
   "cell_type": "markdown",
   "id": "e6a3d36f-196e-4002-a43b-82c3d3dc123f",
   "metadata": {},
   "source": [
    "### Boolean Masks And The .loc Indexer"
   ]
  },
  {
   "cell_type": "code",
   "execution_count": null,
   "id": "37cbe381-aa50-47e5-912b-e29940beab96",
   "metadata": {},
   "outputs": [
    {
     "data": {
      "text/plain": [
       "A    a\n",
       "B    b\n",
       "C    c\n",
       "D    d\n",
       "dtype: object"
      ]
     },
     "execution_count": null,
     "metadata": {},
     "output_type": "execute_result"
    }
   ],
   "source": [
    "alphabet.loc['A':'D']"
   ]
  },
  {
   "cell_type": "code",
   "execution_count": null,
   "id": "b8aa8a40-645c-456a-859a-23ccc5c5de19",
   "metadata": {},
   "outputs": [],
   "source": [
    "small_alphabet = pd.Series(['a', 'b', 'c'])"
   ]
  },
  {
   "cell_type": "code",
   "execution_count": null,
   "id": "15f6764d-23f1-44be-8a60-9b70a4f13641",
   "metadata": {},
   "outputs": [
    {
     "data": {
      "text/plain": [
       "0    a\n",
       "1    b\n",
       "2    c\n",
       "dtype: object"
      ]
     },
     "execution_count": null,
     "metadata": {},
     "output_type": "execute_result"
    }
   ],
   "source": [
    "small_alphabet"
   ]
  },
  {
   "cell_type": "code",
   "execution_count": null,
   "id": "082b2df9-509e-4b2c-a333-fe5f4b05bbaa",
   "metadata": {},
   "outputs": [
    {
     "data": {
      "text/plain": [
       "0    a\n",
       "2    c\n",
       "dtype: object"
      ]
     },
     "execution_count": null,
     "metadata": {},
     "output_type": "execute_result"
    }
   ],
   "source": [
    "small_alphabet[[True, False, True]]"
   ]
  },
  {
   "cell_type": "markdown",
   "id": "7da8f039-ff0b-4588-8323-78163e524831",
   "metadata": {},
   "source": [
    "### Extracting By Position With .iloc"
   ]
  },
  {
   "cell_type": "code",
   "execution_count": null,
   "id": "f7d0a64f-a179-44b6-8861-740c8b0045b7",
   "metadata": {},
   "outputs": [
    {
     "data": {
      "text/plain": [
       "'c'"
      ]
     },
     "execution_count": null,
     "metadata": {},
     "output_type": "execute_result"
    }
   ],
   "source": [
    "small_alphabet.iloc[2]"
   ]
  },
  {
   "cell_type": "code",
   "execution_count": null,
   "id": "c6a05e25-7dcf-4381-ad00-46b58d117dc1",
   "metadata": {},
   "outputs": [
    {
     "data": {
      "text/plain": [
       "0    a\n",
       "1    b\n",
       "dtype: object"
      ]
     },
     "execution_count": null,
     "metadata": {},
     "output_type": "execute_result"
    }
   ],
   "source": [
    "small_alphabet[[0, 1]]"
   ]
  },
  {
   "cell_type": "code",
   "execution_count": null,
   "id": "3db0f7e5-96de-44e2-bdd8-1d635329b2c8",
   "metadata": {},
   "outputs": [
    {
     "data": {
      "text/plain": [
       "0    a\n",
       "2    c\n",
       "dtype: object"
      ]
     },
     "execution_count": null,
     "metadata": {},
     "output_type": "execute_result"
    }
   ],
   "source": [
    "small_alphabet.loc[[0, 2]]"
   ]
  },
  {
   "cell_type": "code",
   "execution_count": null,
   "id": "34d827ec-cd70-4223-9303-ef9877cf36e3",
   "metadata": {},
   "outputs": [
    {
     "data": {
      "text/plain": [
       "0    a\n",
       "2    c\n",
       "dtype: object"
      ]
     },
     "execution_count": null,
     "metadata": {},
     "output_type": "execute_result"
    }
   ],
   "source": [
    "small_alphabet.get([0, 2])"
   ]
  },
  {
   "cell_type": "code",
   "execution_count": null,
   "id": "56cea986-8757-4747-af54-15e96c869ca7",
   "metadata": {},
   "outputs": [
    {
     "data": {
      "text/plain": [
       "A    a\n",
       "B    b\n",
       "C    c\n",
       "D    d\n",
       "E    e\n",
       "F    f\n",
       "G    g\n",
       "H    h\n",
       "I    i\n",
       "J    j\n",
       "K    k\n",
       "L    l\n",
       "M    m\n",
       "N    n\n",
       "O    o\n",
       "P    p\n",
       "Q    q\n",
       "R    r\n",
       "S    s\n",
       "T    t\n",
       "U    u\n",
       "V    v\n",
       "W    w\n",
       "X    x\n",
       "Y    y\n",
       "Z    z\n",
       "dtype: object"
      ]
     },
     "execution_count": null,
     "metadata": {},
     "output_type": "execute_result"
    }
   ],
   "source": [
    "alphabet"
   ]
  },
  {
   "cell_type": "code",
   "execution_count": null,
   "id": "df714c5f-b8de-4d36-9927-da37f1663876",
   "metadata": {},
   "outputs": [
    {
     "ename": "IndexingError",
     "evalue": "Too many indexers",
     "output_type": "error",
     "traceback": [
      "\u001b[0;31m---------------------------------------------------------------------------\u001b[0m",
      "\u001b[0;31mIndexingError\u001b[0m                             Traceback (most recent call last)",
      "Input \u001b[0;32mIn [41]\u001b[0m, in \u001b[0;36m<cell line: 1>\u001b[0;34m()\u001b[0m\n\u001b[0;32m----> 1\u001b[0m \u001b[43malphabet\u001b[49m\u001b[38;5;241;43m.\u001b[39;49m\u001b[43miloc\u001b[49m\u001b[43m[\u001b[49m\u001b[43m[\u001b[49m\u001b[38;5;241;43m1\u001b[39;49m\u001b[43m,\u001b[49m\u001b[43m \u001b[49m\u001b[38;5;241;43m4\u001b[39;49m\u001b[43m,\u001b[49m\u001b[43m \u001b[49m\u001b[38;5;241;43m9\u001b[39;49m\u001b[43m]\u001b[49m\u001b[43m,\u001b[49m\u001b[43m \u001b[49m\u001b[43m[\u001b[49m\u001b[38;5;241;43m2\u001b[39;49m\u001b[43m,\u001b[49m\u001b[43m \u001b[49m\u001b[38;5;241;43m3\u001b[39;49m\u001b[43m,\u001b[49m\u001b[43m \u001b[49m\u001b[38;5;241;43m6\u001b[39;49m\u001b[43m]\u001b[49m\u001b[43m]\u001b[49m\n",
      "File \u001b[0;32m/opt/anaconda3/envs/chemchem/lib/python3.9/site-packages/pandas/core/indexing.py:1068\u001b[0m, in \u001b[0;36m_LocationIndexer.__getitem__\u001b[0;34m(self, key)\u001b[0m\n\u001b[1;32m   1066\u001b[0m     \u001b[38;5;28;01mif\u001b[39;00m \u001b[38;5;28mself\u001b[39m\u001b[38;5;241m.\u001b[39m_is_scalar_access(key):\n\u001b[1;32m   1067\u001b[0m         \u001b[38;5;28;01mreturn\u001b[39;00m \u001b[38;5;28mself\u001b[39m\u001b[38;5;241m.\u001b[39mobj\u001b[38;5;241m.\u001b[39m_get_value(\u001b[38;5;241m*\u001b[39mkey, takeable\u001b[38;5;241m=\u001b[39m\u001b[38;5;28mself\u001b[39m\u001b[38;5;241m.\u001b[39m_takeable)\n\u001b[0;32m-> 1068\u001b[0m     \u001b[38;5;28;01mreturn\u001b[39;00m \u001b[38;5;28;43mself\u001b[39;49m\u001b[38;5;241;43m.\u001b[39;49m\u001b[43m_getitem_tuple\u001b[49m\u001b[43m(\u001b[49m\u001b[43mkey\u001b[49m\u001b[43m)\u001b[49m\n\u001b[1;32m   1069\u001b[0m \u001b[38;5;28;01melse\u001b[39;00m:\n\u001b[1;32m   1070\u001b[0m     \u001b[38;5;66;03m# we by definition only have the 0th axis\u001b[39;00m\n\u001b[1;32m   1071\u001b[0m     axis \u001b[38;5;241m=\u001b[39m \u001b[38;5;28mself\u001b[39m\u001b[38;5;241m.\u001b[39maxis \u001b[38;5;129;01mor\u001b[39;00m \u001b[38;5;241m0\u001b[39m\n",
      "File \u001b[0;32m/opt/anaconda3/envs/chemchem/lib/python3.9/site-packages/pandas/core/indexing.py:1564\u001b[0m, in \u001b[0;36m_iLocIndexer._getitem_tuple\u001b[0;34m(self, tup)\u001b[0m\n\u001b[1;32m   1562\u001b[0m \u001b[38;5;28;01mdef\u001b[39;00m \u001b[38;5;21m_getitem_tuple\u001b[39m(\u001b[38;5;28mself\u001b[39m, tup: \u001b[38;5;28mtuple\u001b[39m):\n\u001b[0;32m-> 1564\u001b[0m     tup \u001b[38;5;241m=\u001b[39m \u001b[38;5;28;43mself\u001b[39;49m\u001b[38;5;241;43m.\u001b[39;49m\u001b[43m_validate_tuple_indexer\u001b[49m\u001b[43m(\u001b[49m\u001b[43mtup\u001b[49m\u001b[43m)\u001b[49m\n\u001b[1;32m   1565\u001b[0m     \u001b[38;5;28;01mwith\u001b[39;00m suppress(IndexingError):\n\u001b[1;32m   1566\u001b[0m         \u001b[38;5;28;01mreturn\u001b[39;00m \u001b[38;5;28mself\u001b[39m\u001b[38;5;241m.\u001b[39m_getitem_lowerdim(tup)\n",
      "File \u001b[0;32m/opt/anaconda3/envs/chemchem/lib/python3.9/site-packages/pandas/core/indexing.py:870\u001b[0m, in \u001b[0;36m_LocationIndexer._validate_tuple_indexer\u001b[0;34m(self, key)\u001b[0m\n\u001b[1;32m    865\u001b[0m \u001b[38;5;129m@final\u001b[39m\n\u001b[1;32m    866\u001b[0m \u001b[38;5;28;01mdef\u001b[39;00m \u001b[38;5;21m_validate_tuple_indexer\u001b[39m(\u001b[38;5;28mself\u001b[39m, key: \u001b[38;5;28mtuple\u001b[39m) \u001b[38;5;241m-\u001b[39m\u001b[38;5;241m>\u001b[39m \u001b[38;5;28mtuple\u001b[39m:\n\u001b[1;32m    867\u001b[0m     \u001b[38;5;124;03m\"\"\"\u001b[39;00m\n\u001b[1;32m    868\u001b[0m \u001b[38;5;124;03m    Check the key for valid keys across my indexer.\u001b[39;00m\n\u001b[1;32m    869\u001b[0m \u001b[38;5;124;03m    \"\"\"\u001b[39;00m\n\u001b[0;32m--> 870\u001b[0m     key \u001b[38;5;241m=\u001b[39m \u001b[38;5;28;43mself\u001b[39;49m\u001b[38;5;241;43m.\u001b[39;49m\u001b[43m_validate_key_length\u001b[49m\u001b[43m(\u001b[49m\u001b[43mkey\u001b[49m\u001b[43m)\u001b[49m\n\u001b[1;32m    871\u001b[0m     key \u001b[38;5;241m=\u001b[39m \u001b[38;5;28mself\u001b[39m\u001b[38;5;241m.\u001b[39m_expand_ellipsis(key)\n\u001b[1;32m    872\u001b[0m     \u001b[38;5;28;01mfor\u001b[39;00m i, k \u001b[38;5;129;01min\u001b[39;00m \u001b[38;5;28menumerate\u001b[39m(key):\n",
      "File \u001b[0;32m/opt/anaconda3/envs/chemchem/lib/python3.9/site-packages/pandas/core/indexing.py:909\u001b[0m, in \u001b[0;36m_LocationIndexer._validate_key_length\u001b[0;34m(self, key)\u001b[0m\n\u001b[1;32m    907\u001b[0m             \u001b[38;5;28;01mraise\u001b[39;00m IndexingError(_one_ellipsis_message)\n\u001b[1;32m    908\u001b[0m         \u001b[38;5;28;01mreturn\u001b[39;00m \u001b[38;5;28mself\u001b[39m\u001b[38;5;241m.\u001b[39m_validate_key_length(key)\n\u001b[0;32m--> 909\u001b[0m     \u001b[38;5;28;01mraise\u001b[39;00m IndexingError(\u001b[38;5;124m\"\u001b[39m\u001b[38;5;124mToo many indexers\u001b[39m\u001b[38;5;124m\"\u001b[39m)\n\u001b[1;32m    910\u001b[0m \u001b[38;5;28;01mreturn\u001b[39;00m key\n",
      "\u001b[0;31mIndexingError\u001b[0m: Too many indexers"
     ]
    }
   ],
   "source": [
    "alphabet.iloc[[1, 4, 9], [2, 3, 6]]"
   ]
  },
  {
   "cell_type": "code",
   "execution_count": null,
   "id": "d0b698f3-3be2-482b-a4ec-950e644ee126",
   "metadata": {},
   "outputs": [],
   "source": []
  }
 ],
 "metadata": {
  "kernelspec": {
   "display_name": "Python 3 (ipykernel)",
   "language": "python",
   "name": "python3"
  }
 },
 "nbformat": 4,
 "nbformat_minor": 5
}
