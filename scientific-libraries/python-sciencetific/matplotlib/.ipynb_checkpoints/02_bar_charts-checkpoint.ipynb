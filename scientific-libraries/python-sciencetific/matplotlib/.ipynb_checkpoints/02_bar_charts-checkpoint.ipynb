{
 "cells": [
  {
   "cell_type": "markdown",
   "id": "06d919e1-db66-4293-be2e-31067a59a880",
   "metadata": {},
   "source": [
    "# 2. Bar Charts"
   ]
  },
  {
   "cell_type": "code",
   "execution_count": null,
   "id": "18f51d69-e0e8-4e41-86e0-29be4d3d36b8",
   "metadata": {},
   "outputs": [
    {
     "data": {
      "text/plain": [
       "<Figure size 20x20 with 0 Axes>"
      ]
     },
     "execution_count": null,
     "metadata": {},
     "output_type": "execute_result"
    },
    {
     "data": {
      "text/plain": [
       "<Figure size 20x20 with 0 Axes>"
      ]
     },
     "metadata": {},
     "output_type": "display_data"
    }
   ],
   "source": [
    "import numpy as np\n",
    "from matplotlib.pyplot import figure\n",
    "figure(figsize=(1, 1), dpi=20)"
   ]
  },
  {
   "cell_type": "code",
   "execution_count": null,
   "id": "f86ef2f5-5766-4996-bcdd-40fc03445b25",
   "metadata": {},
   "outputs": [],
   "source": [
    "plt.rcParams[\"figure.figsize\"] = (5,3)"
   ]
  },
  {
   "cell_type": "code",
   "execution_count": null,
   "id": "3d370756-b0d6-4e90-81f2-289de4af2aa1",
   "metadata": {},
   "outputs": [],
   "source": [
    "plt.style.use('fivethirtyeight')"
   ]
  },
  {
   "cell_type": "code",
   "execution_count": null,
   "id": "eb4353d7-2680-4251-a144-2809656d5d1d",
   "metadata": {},
   "outputs": [],
   "source": [
    "from matplotlib import pyplot as plt"
   ]
  },
  {
   "cell_type": "code",
   "execution_count": null,
   "id": "ae339dae-6edd-47c5-a135-238c06f9afc9",
   "metadata": {},
   "outputs": [],
   "source": [
    "ages_x = [25, 26, 27, 28, 29, 30, 31, 32, 33, 34, 35]"
   ]
  },
  {
   "cell_type": "code",
   "execution_count": null,
   "id": "a686b74c-f2f6-4f57-9e3c-959011c496b2",
   "metadata": {},
   "outputs": [],
   "source": [
    "js_dev_y = [38496, 42000, 46752, 49320, 53200,\n",
    "         56000, 62316, 64928, 67317, 68748, 73752]"
   ]
  },
  {
   "cell_type": "code",
   "execution_count": null,
   "id": "04fec2d4-a478-43c4-aa9e-b24dac8afd8f",
   "metadata": {},
   "outputs": [],
   "source": [
    "py_dev_y = [45372, 48876, 53850, 57287, 63016,\n",
    "            65998, 70003, 70000, 71496, 75370, 83640]"
   ]
  },
  {
   "cell_type": "code",
   "execution_count": null,
   "id": "7b591deb-e0f4-42e6-90fa-eec61fc0135a",
   "metadata": {},
   "outputs": [
    {
     "data": {
      "text/plain": [
       "<BarContainer object of 11 artists>"
      ]
     },
     "execution_count": null,
     "metadata": {},
     "output_type": "execute_result"
    },
    {
     "data": {
      "image/png": "[encoded data removed]",
      "text/plain": [
       "<Figure size 500x300 with 1 Axes>"
      ]
     },
     "metadata": {},
     "output_type": "display_data"
    }
   ],
   "source": [
    "plt.bar(ages_x, py_dev_y, label=\"Python\")"
   ]
  },
  {
   "cell_type": "markdown",
   "id": "9ae61742-f4b3-4c46-bde4-43276702da3a",
   "metadata": {},
   "source": [
    "### Overlay"
   ]
  },
  {
   "cell_type": "markdown",
   "id": "2ac95ee8-c7b0-4cfd-be74-a8621b58f9f2",
   "metadata": {},
   "source": [
    "Plot overlay line and bar\n",
    "- `js_dev_y` using bar\n",
    "- `py_dev_y` using line\n",
    "\n",
    "both have the same x axis as `ages_x`"
   ]
  },
  {
   "cell_type": "code",
   "execution_count": null,
   "id": "d9e84242-2747-44ec-9dea-4a1966859392",
   "metadata": {},
   "outputs": [
    {
     "data": {
      "text/plain": [
       "<BarContainer object of 11 artists>"
      ]
     },
     "execution_count": null,
     "metadata": {},
     "output_type": "execute_result"
    },
    {
     "data": {
      "image/png": "[encoded data removed]",
      "text/plain": [
       "<Figure size 500x300 with 1 Axes>"
      ]
     },
     "metadata": {},
     "output_type": "display_data"
    }
   ],
   "source": [
    "plt.bar(ages_x, py_dev_y, color=\"red\", label=\"Python\")\n",
    "plt.bar(ages_x, js_dev_y)"
   ]
  },
  {
   "cell_type": "markdown",
   "id": "03673614-0ae9-440a-8125-da2d02601f77",
   "metadata": {},
   "source": [
    "### Stack neighbor"
   ]
  },
  {
   "cell_type": "code",
   "execution_count": null,
   "id": "8e24a54d-d0eb-4dc9-a6c8-3b54eb651420",
   "metadata": {},
   "outputs": [
    {
     "data": {
      "text/plain": [
       "[25, 26, 27, 28, 29, 30, 31, 32, 33, 34, 35]"
      ]
     },
     "execution_count": null,
     "metadata": {},
     "output_type": "execute_result"
    }
   ],
   "source": [
    "ages_x"
   ]
  },
  {
   "cell_type": "markdown",
   "id": "1280faf9-d3a9-4424-a0a6-239698009002",
   "metadata": {},
   "source": [
    "Both `py_dev_y` and `js_dev_y` have the same x axis as `ages_x`"
   ]
  },
  {
   "cell_type": "code",
   "execution_count": null,
   "id": "ec5415c1-b05b-401b-898d-8990de38353d",
   "metadata": {},
   "outputs": [
    {
     "data": {
      "text/plain": [
       "([25, 26, 27, 28, 29, 30, 31, 32, 33, 34, 35], 11)"
      ]
     },
     "execution_count": null,
     "metadata": {},
     "output_type": "execute_result"
    }
   ],
   "source": [
    "ages_x, len(ages_x)"
   ]
  },
  {
   "cell_type": "code",
   "execution_count": null,
   "id": "f0951813-2c42-4d47-84da-81bbc2cdeb8a",
   "metadata": {},
   "outputs": [
    {
     "data": {
      "text/plain": [
       "(11, 11)"
      ]
     },
     "execution_count": null,
     "metadata": {},
     "output_type": "execute_result"
    }
   ],
   "source": [
    "len(py_dev_y), len(js_dev_y)"
   ]
  },
  {
   "cell_type": "markdown",
   "id": "8853db52-a218-4fbb-b4ba-173db7e87a51",
   "metadata": {},
   "source": [
    "Stack two bars as bellow"
   ]
  },
  {
   "cell_type": "code",
   "execution_count": null,
   "id": "6a7eab8c-e5eb-4b36-b706-afe51afef4ce",
   "metadata": {},
   "outputs": [],
   "source": [
    "x_indexes = np.arange(len(ages_x))"
   ]
  },
  {
   "cell_type": "code",
   "execution_count": null,
   "id": "a5cae431-fc13-4944-a24c-fd928f486d65",
   "metadata": {},
   "outputs": [
    {
     "data": {
      "text/plain": [
       "array([ 0,  1,  2,  3,  4,  5,  6,  7,  8,  9, 10])"
      ]
     },
     "execution_count": null,
     "metadata": {},
     "output_type": "execute_result"
    }
   ],
   "source": [
    "x_indexes"
   ]
  },
  {
   "cell_type": "code",
   "execution_count": null,
   "id": "04725d51-4d63-4212-94c0-a9bea96d4f9e",
   "metadata": {},
   "outputs": [],
   "source": [
    "width = 0.25"
   ]
  },
  {
   "cell_type": "code",
   "execution_count": null,
   "id": "9d0a1c2f-5b57-4d44-ad55-204fbc3467ea",
   "metadata": {},
   "outputs": [
    {
     "data": {
      "image/png": "[encoded data removed]",
      "text/plain": [
       "<Figure size 500x300 with 1 Axes>"
      ]
     },
     "metadata": {},
     "output_type": "display_data"
    }
   ],
   "source": [
    "plt.bar(x_indexes, py_dev_y, width=width)\n",
    "plt.bar(x_indexes + width, js_dev_y, width=width);"
   ]
  },
  {
   "cell_type": "code",
   "execution_count": null,
   "id": "2af38c55-fda8-4490-bc43-7da3cb68d95e",
   "metadata": {},
   "outputs": [
    {
     "data": {
      "text/plain": [
       "(11, 11)"
      ]
     },
     "execution_count": null,
     "metadata": {},
     "output_type": "execute_result"
    }
   ],
   "source": [
    "len(x_indexes), len(ages_x)"
   ]
  },
  {
   "cell_type": "code",
   "execution_count": null,
   "id": "03cf7aac-9e9f-473e-95f1-cc51ce73f3cd",
   "metadata": {},
   "outputs": [
    {
     "data": {
      "text/plain": [
       "[25, 26, 27, 28, 29, 30, 31, 32, 33, 34, 35]"
      ]
     },
     "execution_count": null,
     "metadata": {},
     "output_type": "execute_result"
    }
   ],
   "source": [
    "ages_x"
   ]
  },
  {
   "cell_type": "markdown",
   "id": "b89bc12b-65f7-414e-a85b-c73ab6c4b08a",
   "metadata": {},
   "source": [
    "Plot the bar using `x_indexes` and `py_dev_y`. Then match `x_indexes` to `ages_x`"
   ]
  },
  {
   "cell_type": "code",
   "execution_count": null,
   "id": "f98b7d40-a1d7-4313-8f9a-c73d70855ef7",
   "metadata": {},
   "outputs": [
    {
     "data": {
      "image/png": "[encoded data removed]",
      "text/plain": [
       "<Figure size 500x300 with 1 Axes>"
      ]
     },
     "metadata": {},
     "output_type": "display_data"
    }
   ],
   "source": [
    "plt.bar(x_indexes, py_dev_y)\n",
    "plt.xticks(ticks=x_indexes, labels=ages_x);"
   ]
  },
  {
   "cell_type": "code",
   "execution_count": null,
   "id": "273d70b3-4400-4ecf-8175-e6484f1c873b",
   "metadata": {},
   "outputs": [],
   "source": []
  }
 ],
 "metadata": {
  "kernelspec": {
   "display_name": "Python 3 (ipykernel)",
   "language": "python",
   "name": "python3"
  },
  "language_info": {
   "codemirror_mode": {
    "name": "ipython",
    "version": 3
   },
   "file_extension": ".py",
   "mimetype": "text/x-python",
   "name": "python",
   "nbconvert_exporter": "python",
   "pygments_lexer": "ipython3",
   "version": "3.9.13"
  }
 },
 "nbformat": 4,
 "nbformat_minor": 5
}
