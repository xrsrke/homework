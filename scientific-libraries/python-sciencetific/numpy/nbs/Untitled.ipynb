{
 "cells": [
  {
   "cell_type": "code",
   "execution_count": null,
   "id": "959c43d6-1410-4d0a-8cac-ee198a42bb3f",
   "metadata": {},
   "outputs": [],
   "source": [
    "import numpy as np"
   ]
  },
  {
   "cell_type": "code",
   "execution_count": null,
   "id": "43606950-cc5d-4b79-8bd6-7eb6daa65d63",
   "metadata": {},
   "outputs": [],
   "source": [
    "gene0 = [100, 200, 50, 400]\n",
    "gene1 = [50, 0, 0, 100]\n",
    "gene2 = [350, 100, 50, 200]\n",
    "expression_data = [gene0, gene1, gene2]"
   ]
  },
  {
   "cell_type": "code",
   "execution_count": null,
   "id": "975e5dfa-7255-4478-8818-20add25f64aa",
   "metadata": {},
   "outputs": [
    {
     "data": {
      "text/plain": [
       "[[100, 200, 50, 400], [50, 0, 0, 100], [350, 100, 50, 200]]"
      ]
     },
     "execution_count": null,
     "metadata": {},
     "output_type": "execute_result"
    }
   ],
   "source": [
    "expression_data"
   ]
  },
  {
   "cell_type": "code",
   "execution_count": null,
   "id": "7f50e6b5-a83d-4c0f-aff7-7534cb1cba96",
   "metadata": {},
   "outputs": [],
   "source": [
    "a = np.arange(1, 25).reshape(4, 6)"
   ]
  },
  {
   "cell_type": "code",
   "execution_count": null,
   "id": "9cc3eed6-d0d5-40a6-bbe5-18a04924de48",
   "metadata": {},
   "outputs": [],
   "source": []
  }
 ],
 "metadata": {
  "kernelspec": {
   "display_name": "Python 3 (ipykernel)",
   "language": "python",
   "name": "python3"
  }
 },
 "nbformat": 4,
 "nbformat_minor": 5
}
