{
 "cells": [
  {
   "cell_type": "markdown",
   "id": "ece1dd77-efab-4840-849a-8a260fb6c02b",
   "metadata": {},
   "source": [
    "# Introduction"
   ]
  },
  {
   "cell_type": "code",
   "execution_count": 2,
   "id": "b43b60bc-e7f1-4081-a3e9-59a64dc4e87c",
   "metadata": {},
   "outputs": [],
   "source": [
    "import numpy as np"
   ]
  },
  {
   "cell_type": "code",
   "execution_count": 8,
   "id": "0536dab1-0e09-47ad-8683-de65ca97906b",
   "metadata": {},
   "outputs": [],
   "source": [
    "a = np.arange(-3, 4)"
   ]
  },
  {
   "cell_type": "code",
   "execution_count": 13,
   "id": "23392fb3-18d2-4e2c-b6b8-a1723cf9956f",
   "metadata": {},
   "outputs": [
    {
     "data": {
      "text/plain": [
       "array([-3, -2, -1,  0,  1,  2,  3])"
      ]
     },
     "execution_count": 13,
     "metadata": {},
     "output_type": "execute_result"
    }
   ],
   "source": [
    "a"
   ]
  },
  {
   "cell_type": "markdown",
   "id": "6687d574-d360-47ce-9f88-d3d1625cdf3a",
   "metadata": {},
   "source": [
    "Compare each element of `a` > `1` and return the correspond result in boolean"
   ]
  },
  {
   "cell_type": "code",
   "execution_count": 15,
   "id": "f64084d6-f6ea-4c9d-908b-f8c649bfd270",
   "metadata": {},
   "outputs": [
    {
     "data": {
      "text/plain": [
       "array([False, False, False, False, False,  True,  True])"
      ]
     },
     "execution_count": 15,
     "metadata": {},
     "output_type": "execute_result"
    }
   ],
   "source": [
    "a > 1"
   ]
  },
  {
   "cell_type": "markdown",
   "id": "190c2eb1-d234-43e5-9655-cf6c610060ad",
   "metadata": {},
   "source": [
    "### `np.cumsum`"
   ]
  },
  {
   "cell_type": "code",
   "execution_count": 16,
   "id": "3e0d7912-c543-4053-93ad-f04f920c4bb9",
   "metadata": {},
   "outputs": [],
   "source": [
    "a = np.array([1, 2, 3, 4, 5])"
   ]
  },
  {
   "cell_type": "code",
   "execution_count": 17,
   "id": "034009c3-e87d-4f3b-8ae7-a3f947078e72",
   "metadata": {},
   "outputs": [
    {
     "data": {
      "text/plain": [
       "array([1, 2, 3, 4, 5])"
      ]
     },
     "execution_count": 17,
     "metadata": {},
     "output_type": "execute_result"
    }
   ],
   "source": [
    "a"
   ]
  },
  {
   "cell_type": "markdown",
   "id": "7307477e-d47f-4aa1-be45-8ccae1db5c8a",
   "metadata": {},
   "source": [
    "Compute the cumulative sum of each element in `x`"
   ]
  },
  {
   "cell_type": "code",
   "execution_count": 18,
   "id": "6d11ae6a-3a58-4528-acb0-fbf62dceb9e6",
   "metadata": {},
   "outputs": [
    {
     "data": {
      "text/plain": [
       "array([ 1,  3,  6, 10, 15])"
      ]
     },
     "execution_count": 18,
     "metadata": {},
     "output_type": "execute_result"
    }
   ],
   "source": [
    "a.cumsum()"
   ]
  },
  {
   "cell_type": "code",
   "execution_count": null,
   "id": "747c15da-64fa-461c-9045-f0b8fd834af9",
   "metadata": {},
   "outputs": [],
   "source": []
  }
 ],
 "metadata": {
  "kernelspec": {
   "display_name": "Python 3 (ipykernel)",
   "language": "python",
   "name": "python3"
  },
  "language_info": {
   "codemirror_mode": {
    "name": "ipython",
    "version": 3
   },
   "file_extension": ".py",
   "mimetype": "text/x-python",
   "name": "python",
   "nbconvert_exporter": "python",
   "pygments_lexer": "ipython3",
   "version": "3.9.13"
  }
 },
 "nbformat": 4,
 "nbformat_minor": 5
}
