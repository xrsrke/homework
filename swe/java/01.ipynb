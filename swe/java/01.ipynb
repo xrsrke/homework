{
 "cells": [
  {
   "cell_type": "markdown",
   "id": "5734a4bf-b6da-4d38-8082-998ee302555d",
   "metadata": {},
   "source": [
    "##### Example 1"
   ]
  },
  {
   "cell_type": "markdown",
   "id": "59c2b122-57e8-4403-9406-24053eef755c",
   "metadata": {},
   "source": [
    "Print `Hello world` to console"
   ]
  },
  {
   "cell_type": "code",
   "execution_count": null,
   "id": "b28c8edf-d1a1-4f4f-b2c7-433e52428a72",
   "metadata": {},
   "outputs": [],
   "source": [
    "System.out.println(\"Hello world\");"
   ]
  },
  {
   "cell_type": "markdown",
   "id": "22c9f6fa-5ca7-496f-a555-e590e3ab9256",
   "metadata": {},
   "source": [
    "##### Example 2"
   ]
  },
  {
   "cell_type": "markdown",
   "id": "1ee829c3-12e2-4074-87c2-4ce0c10fdfb0",
   "metadata": {},
   "source": [
    "Create a variable name `age` with value 30 (ignore optimal type)"
   ]
  },
  {
   "cell_type": "code",
   "execution_count": null,
   "id": "3fcf283c-dba0-4520-9b68-d61d0619e814",
   "metadata": {},
   "outputs": [],
   "source": [
    "int age = 30;"
   ]
  },
  {
   "cell_type": "code",
   "execution_count": null,
   "id": "7897a776-712e-41db-a46d-d15bdf6a58d0",
   "metadata": {},
   "outputs": [],
   "source": []
  }
 ],
 "metadata": {
  "kernelspec": {
   "display_name": "Python 3 (ipykernel)",
   "language": "python",
   "name": "python3"
  }
 },
 "nbformat": 4,
 "nbformat_minor": 5
}
