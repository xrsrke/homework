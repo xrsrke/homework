{
 "cells": [
  {
   "cell_type": "markdown",
   "id": "2d2b47c5-0307-42f9-b50f-d12fd27d26e6",
   "metadata": {},
   "source": [
    "# Chapter 2: Names++"
   ]
  },
  {
   "cell_type": "markdown",
   "id": "d094d581-a2a7-4f4b-a8b0-61c9c5184e54",
   "metadata": {},
   "source": [
    "##### Example 1"
   ]
  },
  {
   "cell_type": "markdown",
   "id": "8cc4b8fb-46ba-431e-aa20-a8babe64c300",
   "metadata": {},
   "source": [
    "Does this a good name? If not, refactor it"
   ]
  },
  {
   "cell_type": "code",
   "execution_count": null,
   "id": "f3422af7-3afe-4f29-9642-bbf673719c74",
   "metadata": {},
   "outputs": [],
   "source": [
    "d = 8 # elapsed hours in a day"
   ]
  },
  {
   "cell_type": "markdown",
   "id": "b2141cc8-43da-40ec-81f0-71ed8bfc4180",
   "metadata": {},
   "source": [
    "No"
   ]
  },
  {
   "cell_type": "code",
   "execution_count": null,
   "id": "7b454c19-260a-47b5-9352-52ae7706cb6e",
   "metadata": {},
   "outputs": [],
   "source": [
    "elapsed_hours_in_a_day = 8"
   ]
  },
  {
   "cell_type": "markdown",
   "id": "d3780ac1-2319-4078-a97b-319108e1caf0",
   "metadata": {},
   "source": [
    "##### Example 2"
   ]
  },
  {
   "cell_type": "code",
   "execution_count": null,
   "id": "9dae63ce-f97e-46a4-bb7d-51fa680899de",
   "metadata": {},
   "outputs": [],
   "source": []
  }
 ],
 "metadata": {
  "kernelspec": {
   "display_name": "Python 3 (ipykernel)",
   "language": "python",
   "name": "python3"
  }
 },
 "nbformat": 4,
 "nbformat_minor": 5
}
