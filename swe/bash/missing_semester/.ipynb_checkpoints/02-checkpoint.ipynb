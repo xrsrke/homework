{
 "cells": [
  {
   "cell_type": "markdown",
   "id": "81e9ad1c-dd13-4cce-b69b-09712393ec99",
   "metadata": {},
   "source": [
    "### 2. Shell Tools and Scripting"
   ]
  },
  {
   "cell_type": "markdown",
   "id": "f78f1a1f-7623-4120-a991-b92f38616545",
   "metadata": {},
   "source": [
    "##### Example 1"
   ]
  },
  {
   "cell_type": "code",
   "execution_count": null,
   "id": "084476ca-d66e-4bef-8656-72b47b8ba1ca",
   "metadata": {},
   "outputs": [],
   "source": [
    "x, y, z = None, None, None"
   ]
  },
  {
   "cell_type": "code",
   "execution_count": null,
   "id": "8b973df7-8f5a-49a8-b1cf-0fd0d4783c7c",
   "metadata": {},
   "outputs": [],
   "source": [
    "if x == y:\n",
    "    pass\n",
    "elif x == z:\n",
    "    pass\n",
    "else:\n",
    "    pass"
   ]
  },
  {
   "cell_type": "markdown",
   "id": "14324304-d7f1-4a89-bea2-79dfea517796",
   "metadata": {},
   "source": [
    "Write a conditional logic like above in bash"
   ]
  },
  {
   "cell_type": "raw",
   "id": "d34f49ca-cdd0-4cbb-a8ae-070b7281da6a",
   "metadata": {},
   "source": [
    "if [[ X == Y]]; then\n",
    "    # code\n",
    "elif [[ X == Z ]]; then\n",
    "    # code\n",
    "else\n",
    "    # code\n",
    "fi"
   ]
  },
  {
   "cell_type": "markdown",
   "id": "1b45b148-bb4e-4edb-abc4-1b9e4eb56027",
   "metadata": {},
   "source": [
    "##### Example 2"
   ]
  },
  {
   "cell_type": "markdown",
   "id": "bf9e5eda-db62-4f48-9dfd-390d485f32bc",
   "metadata": {},
   "source": [
    "Write a bash script `example.sh` that print all the arguments of from command `example.sh earth moon mars`"
   ]
  },
  {
   "cell_type": "markdown",
   "id": "03d610e5-fdd8-4cd3-b63e-319bf27604eb",
   "metadata": {},
   "source": [
    "Hint: `$@` is an variable that stores all the arguments"
   ]
  },
  {
   "cell_type": "raw",
   "id": "db23c7af-3f88-4e93-afb9-667d4bb42eca",
   "metadata": {},
   "source": [
    "for arg in \"$@\"; do\n",
    "    echo arg\n",
    "done"
   ]
  },
  {
   "cell_type": "markdown",
   "id": "d207d284-5853-47ae-9f98-96e3746f8c9a",
   "metadata": {},
   "source": [
    "https://youtu.be/kgII-YWo3Zw?t=2097"
   ]
  },
  {
   "cell_type": "code",
   "execution_count": null,
   "id": "cbd1b492-06ec-4242-9f3e-eba843209ea9",
   "metadata": {},
   "outputs": [],
   "source": []
  }
 ],
 "metadata": {
  "kernelspec": {
   "display_name": "Python 3 (ipykernel)",
   "language": "python",
   "name": "python3"
  }
 },
 "nbformat": 4,
 "nbformat_minor": 5
}
