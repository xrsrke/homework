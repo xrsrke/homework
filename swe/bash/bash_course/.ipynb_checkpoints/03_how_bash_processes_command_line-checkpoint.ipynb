{
 "cells": [
  {
   "cell_type": "markdown",
   "id": "f50b5c58-40e0-4288-b77f-e5c5b4835a75",
   "metadata": {},
   "source": [
    "### 3. How Bash Processes Command Line"
   ]
  },
  {
   "cell_type": "markdown",
   "id": "6d4076cb-1aba-4843-9a4f-745c42fde316",
   "metadata": {},
   "source": [
    "Step 1: Tokenization\n",
    "\n",
    "Step 2: Command Identification"
   ]
  },
  {
   "cell_type": "code",
   "execution_count": null,
   "id": "b7e9e2a7-c2cc-4696-99a9-ea2bd9d34754",
   "metadata": {},
   "outputs": [],
   "source": []
  }
 ],
 "metadata": {
  "kernelspec": {
   "display_name": "Python 3 (ipykernel)",
   "language": "python",
   "name": "python3"
  }
 },
 "nbformat": 4,
 "nbformat_minor": 5
}
