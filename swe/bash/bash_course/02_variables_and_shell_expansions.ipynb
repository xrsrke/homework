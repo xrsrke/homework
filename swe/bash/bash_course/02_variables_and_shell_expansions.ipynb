{
 "cells": [
  {
   "cell_type": "markdown",
   "id": "7b0bd043-8b88-4e5f-94dc-54210e010b00",
   "metadata": {},
   "source": [
    "### 2. Variables and Shell Expansions"
   ]
  },
  {
   "cell_type": "markdown",
   "id": "01fba049-a640-4199-a39e-64e1af0040cf",
   "metadata": {},
   "source": [
    "##### Example 1"
   ]
  },
  {
   "cell_type": "markdown",
   "id": "bc154d66-ba94-4d16-918c-b7ea0e9057d2",
   "metadata": {},
   "source": [
    "Write a bash script that has variable `student` with value `Shivon`"
   ]
  },
  {
   "cell_type": "code",
   "execution_count": null,
   "id": "bddc37c9-545d-4206-9bcf-dee751cedff3",
   "metadata": {},
   "outputs": [],
   "source": [
    "#!/bin/bash\n",
    "student=\"Shivon\""
   ]
  },
  {
   "cell_type": "markdown",
   "id": "945fa674-e83d-49de-8576-1eca3763b679",
   "metadata": {},
   "source": [
    "##### Example 2"
   ]
  },
  {
   "cell_type": "code",
   "execution_count": null,
   "id": "a3116314-dbae-4a8c-a356-67823778a296",
   "metadata": {},
   "outputs": [],
   "source": [
    "student = \"Shivon\""
   ]
  },
  {
   "cell_type": "code",
   "execution_count": null,
   "id": "b6ec07cf-e5af-4d99-b3ad-cb2af2cd4cdf",
   "metadata": {},
   "outputs": [
    {
     "name": "stdout",
     "output_type": "stream",
     "text": [
      "Hello Shivon\n"
     ]
    }
   ],
   "source": [
    "print(f'Hello {student}')"
   ]
  },
  {
   "cell_type": "markdown",
   "id": "2378e2f8-87f0-42d9-aa81-a7a359ddec03",
   "metadata": {},
   "source": [
    "Turn the code above to bash script"
   ]
  },
  {
   "cell_type": "code",
   "execution_count": null,
   "id": "4433d46b-088a-454c-a751-fc71788ed678",
   "metadata": {},
   "outputs": [],
   "source": [
    "#!/bin/bash\n",
    "student = \"Shivon\"\n",
    "echo \"Hello ${student}\""
   ]
  },
  {
   "cell_type": "markdown",
   "id": "5c89c83c-0b7d-4081-bf0a-712c0b0b3b0a",
   "metadata": {},
   "source": [
    "### 3. Shell variables"
   ]
  },
  {
   "cell_type": "code",
   "execution_count": null,
   "id": "35f01283-5508-4641-9ce4-a2b9643c1c3d",
   "metadata": {},
   "outputs": [
    {
     "name": "stdout",
     "output_type": "stream",
     "text": [
      "/opt/homebrew/bin:/Users/study/.local/share/fig/plugins/git-open:/opt/anaconda3/envs/tinypytorch/bin:/opt/anaconda3/condabin:/usr/local/bin:/System/Cryptexes/App/usr/bin:/usr/bin:/bin:/usr/sbin:/sbin:/Library/TeX/texbin:/Library/Apple/usr/bin:/Applications/Postgres.app/Contents/Versions/latest/bin:/Users/study/.fig/bin:/Users/study/.local/bin:/opt/homebrew/opt/fzf/bin\n"
     ]
    }
   ],
   "source": [
    "!echo $PATH"
   ]
  },
  {
   "cell_type": "code",
   "execution_count": null,
   "id": "a9fb779c-3eb4-4321-b484-3abf7f768092",
   "metadata": {},
   "outputs": [
    {
     "name": "stdout",
     "output_type": "stream",
     "text": [
      "/Users/study\n"
     ]
    }
   ],
   "source": [
    "!echo $HOME"
   ]
  },
  {
   "cell_type": "code",
   "execution_count": null,
   "id": "38f2a775-193d-4a53-92df-194255e339d9",
   "metadata": {},
   "outputs": [
    {
     "name": "stdout",
     "output_type": "stream",
     "text": [
      "study\n"
     ]
    }
   ],
   "source": [
    "!echo $USER"
   ]
  },
  {
   "cell_type": "code",
   "execution_count": null,
   "id": "1449d8ac-c9ff-4110-92e7-64b9e3c91afb",
   "metadata": {},
   "outputs": [
    {
     "name": "stdout",
     "output_type": "stream",
     "text": [
      "\n"
     ]
    }
   ],
   "source": [
    "!echo $PS1"
   ]
  },
  {
   "cell_type": "markdown",
   "id": "d56b2311-653a-45ef-a5c1-720c43ceb8d1",
   "metadata": {},
   "source": [
    "### 4. Parameter Expansion Tricks"
   ]
  },
  {
   "cell_type": "code",
   "execution_count": null,
   "id": "829255bb-cb75-4313-ad7f-c7046c176c50",
   "metadata": {},
   "outputs": [
    {
     "name": "stdout",
     "output_type": "stream",
     "text": [
      "12345\n"
     ]
    }
   ],
   "source": [
    "!numbers=01234567; echo ${numbers:1:5}"
   ]
  },
  {
   "cell_type": "code",
   "execution_count": null,
   "id": "6f2f1d42-6891-4376-9274-d1ea5dfc14b5",
   "metadata": {},
   "outputs": [
    {
     "name": "stdout",
     "output_type": "stream",
     "text": [
      "567\n"
     ]
    }
   ],
   "source": [
    "!numbers=01234567; echo ${numbers: -3}"
   ]
  },
  {
   "cell_type": "code",
   "execution_count": null,
   "id": "0b6aea2a-f7f8-4194-b4cc-b1fbd377c1f1",
   "metadata": {},
   "outputs": [
    {
     "name": "stdout",
     "output_type": "stream",
     "text": [
      "zsh:1: bad substitution\n"
     ]
    }
   ],
   "source": [
    "!name=ZiYaD; echo ${name,,}"
   ]
  },
  {
   "cell_type": "markdown",
   "id": "6d3f4d9d-bd5d-49c5-a9cd-953c98f4b1d8",
   "metadata": {},
   "source": [
    "### 6. Command Substitution"
   ]
  },
  {
   "cell_type": "markdown",
   "id": "dd9ae559-6ec3-4f97-bf87-4a6c2e7b74f4",
   "metadata": {},
   "source": [
    "##### Example 1"
   ]
  },
  {
   "cell_type": "code",
   "execution_count": null,
   "id": "37899d5f-dd60-4a48-99a9-efee6f1f0579",
   "metadata": {},
   "outputs": [],
   "source": [
    "base ❯ date\n",
    "Mon Oct 31 14:21:03 +07 2022"
   ]
  },
  {
   "cell_type": "markdown",
   "id": "8c9a6218-b63a-4d56-870f-671afcdda9ac",
   "metadata": {},
   "source": [
    "Write a bash scrip that save the output of command `date` to variable `var1`"
   ]
  },
  {
   "cell_type": "code",
   "execution_count": null,
   "id": "aa171a6b-2212-4cf0-9f77-aa88c28d7aee",
   "metadata": {},
   "outputs": [],
   "source": [
    "#!/bin/bash\n",
    "\n",
    "var1=$(date)"
   ]
  },
  {
   "cell_type": "markdown",
   "id": "da6b5d7d-1b9d-491a-a4ef-14066901b39b",
   "metadata": {},
   "source": [
    "### 9. Arithmetic Parameters"
   ]
  },
  {
   "cell_type": "markdown",
   "id": "fb0490ac-1ead-48bb-9c2e-c05664244df5",
   "metadata": {},
   "source": [
    "##### Example 1"
   ]
  },
  {
   "cell_type": "code",
   "execution_count": null,
   "id": "8101ab6d-d5a8-43ad-86de-5eb4a8835170",
   "metadata": {},
   "outputs": [],
   "source": [
    "#!/bin/bash\n",
    "x=4\n",
    "y=2"
   ]
  },
  {
   "cell_type": "markdown",
   "id": "48226578-b6ed-4eb2-a0e2-d47f8227af08",
   "metadata": {},
   "source": [
    "Add bash that print the sum of `x` and `y`"
   ]
  },
  {
   "cell_type": "code",
   "execution_count": null,
   "id": "bd818527-001c-4212-973a-edf919cfbe1a",
   "metadata": {},
   "outputs": [],
   "source": [
    "# continue\n",
    "echo $(($x + $y))"
   ]
  },
  {
   "cell_type": "markdown",
   "id": "17004a46-5338-4a57-b58b-32d89438a7e2",
   "metadata": {},
   "source": [
    "### 10. Dealing with decimal numbers"
   ]
  },
  {
   "cell_type": "markdown",
   "id": "7ef29bb1-f452-48ed-a0c8-b478c2c21a0b",
   "metadata": {},
   "source": [
    "### 12. Tidle Expansion"
   ]
  },
  {
   "cell_type": "code",
   "execution_count": null,
   "id": "fd144936-33a8-428f-acf1-e38444c35a21",
   "metadata": {},
   "outputs": [],
   "source": [
    "echo"
   ]
  },
  {
   "cell_type": "markdown",
   "id": "b4e61e6f-e573-42e3-8b6a-e627a8b5426a",
   "metadata": {},
   "source": [
    "### 13. Brace Expansion"
   ]
  },
  {
   "cell_type": "code",
   "execution_count": null,
   "id": "afe8a2d9-3913-4afd-8876-ffefb58e0344",
   "metadata": {},
   "outputs": [],
   "source": []
  }
 ],
 "metadata": {
  "kernelspec": {
   "display_name": "Python 3 (ipykernel)",
   "language": "python",
   "name": "python3"
  }
 },
 "nbformat": 4,
 "nbformat_minor": 5
}
