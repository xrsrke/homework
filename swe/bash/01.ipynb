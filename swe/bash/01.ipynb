{
 "cells": [
  {
   "cell_type": "markdown",
   "id": "ff84a53b-1569-4ebb-aa7f-0c0c7256f33f",
   "metadata": {},
   "source": [
    "##### Example 1"
   ]
  },
  {
   "cell_type": "markdown",
   "id": "073330a6-0fa1-4fd6-aca0-73772dc3a47f",
   "metadata": {},
   "source": [
    "Write a bash function that create a folder and move to it as bellow"
   ]
  },
  {
   "cell_type": "code",
   "execution_count": null,
   "id": "dd657fd0-f56e-4c22-bb0f-f0a438f59e7b",
   "metadata": {},
   "outputs": [],
   "source": [
    "make_folder() {\n",
    "    mkdir \"$1\"\n",
    "    cd \"$1\"\n",
    "}"
   ]
  },
  {
   "cell_type": "markdown",
   "id": "8039530a-8fb9-4534-9a4c-5afdde00d023",
   "metadata": {},
   "source": [
    "Commands"
   ]
  },
  {
   "cell_type": "code",
   "execution_count": null,
   "id": "71719ab6-2e0e-44a2-b55b-9ed0422049fb",
   "metadata": {},
   "outputs": [],
   "source": [
    "(base) XR-7s-MBP:bash study$ make_folder test\n",
    "(base) XR-7s-MBP:test study$"
   ]
  },
  {
   "cell_type": "markdown",
   "id": "3169f13a-29a0-41a3-8fd6-d47854812f9d",
   "metadata": {},
   "source": [
    "https://youtu.be/kgII-YWo3Zw?t=637"
   ]
  },
  {
   "cell_type": "code",
   "execution_count": null,
   "id": "e6d11127-4f29-4cdd-8742-0361949b65b9",
   "metadata": {},
   "outputs": [],
   "source": []
  }
 ],
 "metadata": {
  "kernelspec": {
   "display_name": "Python 3 (ipykernel)",
   "language": "python",
   "name": "python3"
  }
 },
 "nbformat": 4,
 "nbformat_minor": 5
}
