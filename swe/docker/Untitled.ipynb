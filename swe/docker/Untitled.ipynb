{
 "cells": [
  {
   "cell_type": "markdown",
   "id": "9a52f50b-262b-40cb-beca-fff6c0a0377a",
   "metadata": {},
   "source": [
    "### Docker-compose"
   ]
  },
  {
   "cell_type": "markdown",
   "id": "c3f538ea-0e57-49fa-8947-6500a0f68981",
   "metadata": {},
   "source": [
    "##### Example 1"
   ]
  },
  {
   "cell_type": "code",
   "execution_count": null,
   "id": "c3303204-bfc2-4a8b-97ae-669f72f0df10",
   "metadata": {},
   "outputs": [],
   "source": [
    "docker run --name mongodb mongo"
   ]
  },
  {
   "cell_type": "markdown",
   "id": "38e93502-753b-4a4d-b263-eb065a0e9432",
   "metadata": {},
   "source": [
    "Write the docker compose file to execute those commands above"
   ]
  },
  {
   "cell_type": "code",
   "execution_count": null,
   "id": "38ee39c5-f2c5-4e34-9edd-47d786a7151b",
   "metadata": {},
   "outputs": [],
   "source": [
    "version: '0.01'\n",
    "services:\n",
    "    mongodb:\n",
    "        image: mongo"
   ]
  },
  {
   "cell_type": "markdown",
   "id": "137c18a4-99bc-4643-859d-266a2211e396",
   "metadata": {},
   "source": [
    "##### Example 2"
   ]
  },
  {
   "cell_type": "code",
   "execution_count": null,
   "id": "503bb7f9-95a8-4e76-9d08-a122adaf07c1",
   "metadata": {},
   "outputs": [],
   "source": [
    "docker run --name mongodb -p 27017:27017 mongo"
   ]
  },
  {
   "cell_type": "markdown",
   "id": "08e65e2d-5199-4fff-a97a-3ae3bd09ccbc",
   "metadata": {},
   "source": [
    "Write the docker compose file to execute those commands above"
   ]
  },
  {
   "cell_type": "code",
   "execution_count": null,
   "id": "fad4580e-7ac9-4f1e-a209-22756b1af3fb",
   "metadata": {},
   "outputs": [],
   "source": [
    "version: '0.01'\n",
    "services:\n",
    "    mongodb:\n",
    "        image: mongo\n",
    "        ports:\n",
    "            - 27017:27017"
   ]
  },
  {
   "cell_type": "markdown",
   "id": "cd2124f3-f682-4717-b126-1007b4b70a1e",
   "metadata": {},
   "source": [
    "##### Example 3"
   ]
  },
  {
   "cell_type": "markdown",
   "id": "0fbd1f74-ba72-4e97-a67c-f1e3423ee5b5",
   "metadata": {},
   "source": [
    "Write a docker compose file that run image `mongo` and create a persist data folder named `db_data`.\n",
    "\n",
    "Image `mongo` stores its data in `/var/lib/mysql/data`"
   ]
  },
  {
   "cell_type": "code",
   "execution_count": null,
   "id": "e80e55fb-61e3-4dc7-bdc2-53a84e2516ee",
   "metadata": {},
   "outputs": [],
   "source": [
    "version: '0.01'\n",
    "\n",
    "services:\n",
    "    mongodb:\n",
    "        image: mongo\n",
    "        volumes:\n",
    "            - db-data:/var/lib/mysql/data\n",
    "\n",
    "volumes:\n",
    "    db-data"
   ]
  },
  {
   "cell_type": "markdown",
   "id": "18d12089-8493-438d-83cb-6a84c895ca78",
   "metadata": {},
   "source": [
    "### Dockerfile"
   ]
  },
  {
   "cell_type": "code",
   "execution_count": null,
   "id": "c6ba6b96-edc9-44e2-a0c7-f8dae98e2e0d",
   "metadata": {},
   "outputs": [
    {
     "ename": "SyntaxError",
     "evalue": "invalid syntax (3222219743.py, line 1)",
     "output_type": "error",
     "traceback": [
      "\u001b[0;36m  Input \u001b[0;32mIn [1]\u001b[0;36m\u001b[0m\n\u001b[0;31m    install node\u001b[0m\n\u001b[0m            ^\u001b[0m\n\u001b[0;31mSyntaxError\u001b[0m\u001b[0;31m:\u001b[0m invalid syntax\n"
     ]
    }
   ],
   "source": [
    "install node\n",
    "\n",
    "set MONGO DB USERNAME=admin\n",
    "set MONGO_DB_PWD=password\n",
    "\n",
    "create /home/app folder\n",
    "\n",
    "copy current folder files to /home/app\n",
    "\n",
    "start the app with: \"node server.js\""
   ]
  },
  {
   "cell_type": "code",
   "execution_count": null,
   "id": "d94b08f6-3357-4ae7-bf43-adf04b3f5377",
   "metadata": {},
   "outputs": [],
   "source": []
  }
 ],
 "metadata": {
  "kernelspec": {
   "display_name": "Python 3 (ipykernel)",
   "language": "python",
   "name": "python3"
  }
 },
 "nbformat": 4,
 "nbformat_minor": 5
}
