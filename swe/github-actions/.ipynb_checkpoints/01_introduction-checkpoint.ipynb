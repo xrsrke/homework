{
 "cells": [
  {
   "cell_type": "markdown",
   "id": "7d1ebf0e-56c8-45e4-b8d4-3218d56c4f21",
   "metadata": {},
   "source": [
    "### 2. A Brief Introduction to Writing in YAML Format"
   ]
  },
  {
   "cell_type": "markdown",
   "id": "667e27a2-3931-44ea-9cb4-5716c2091c25",
   "metadata": {},
   "source": [
    "##### Example 1 "
   ]
  },
  {
   "cell_type": "code",
   "execution_count": null,
   "id": "af9bda63-ad24-4282-a7af-a9af20ab69fe",
   "metadata": {},
   "outputs": [],
   "source": [
    "{\n",
    "    \"name\": \"Shivon\",\n",
    "    \"job\": \"Engineer\",\n",
    "    \"company\": {\n",
    "        \"name\": \"Neuralink\"\n",
    "    }\n",
    "}"
   ]
  },
  {
   "cell_type": "markdown",
   "id": "c99e1f33-e3ae-4359-aeaf-710cb095eb12",
   "metadata": {},
   "source": [
    "Write a YAML quivalent to JSON above"
   ]
  },
  {
   "cell_type": "code",
   "execution_count": null,
   "id": "d3c85ef1-f842-435e-8712-9325f9511b37",
   "metadata": {},
   "outputs": [],
   "source": [
    "name: Shivon\n",
    "job: Engineer\n",
    "company:\n",
    "    name: Neuralink"
   ]
  },
  {
   "cell_type": "markdown",
   "id": "2e5e944a-7d5e-4af6-8635-d50fd73f6b48",
   "metadata": {},
   "source": [
    "##### Example 2 "
   ]
  },
  {
   "cell_type": "code",
   "execution_count": null,
   "id": "aeb91108-e55e-4e4f-b42b-2e6ca438e272",
   "metadata": {},
   "outputs": [],
   "source": [
    "{\n",
    "    foundation: ['physics', 'ai', 'matsci', 'nano']\n",
    "}"
   ]
  },
  {
   "cell_type": "markdown",
   "id": "b3309a58-754b-4328-9dca-b2f7dce43c4f",
   "metadata": {},
   "source": [
    "Write a YAML quivalent to JSON above"
   ]
  },
  {
   "cell_type": "code",
   "execution_count": null,
   "id": "74e27d51-75c3-4596-97fb-fb59721c835b",
   "metadata": {},
   "outputs": [],
   "source": [
    "foundation:\n",
    "    - physics\n",
    "    - ai\n",
    "    - matsci\n",
    "    - nano"
   ]
  },
  {
   "cell_type": "markdown",
   "id": "615880ac-e0cd-449e-856e-2aed0761f044",
   "metadata": {},
   "source": [
    "##### Example 3"
   ]
  },
  {
   "cell_type": "code",
   "execution_count": null,
   "id": "61de5e8a-8e5f-4462-aae8-f547fefdf817",
   "metadata": {},
   "outputs": [],
   "source": [
    "{\n",
    "    \"stable_diffusion\": [\n",
    "        {\n",
    "            \"text_to_image\": \"clip\",\n",
    "            \"parameters\": \"latent space\"\n",
    "        }\n",
    "    ],\n",
    "    \"image_multiclass\": None\n",
    "}"
   ]
  },
  {
   "cell_type": "markdown",
   "id": "c5f78ad8-193c-4070-a950-2d67416e9d0b",
   "metadata": {},
   "source": [
    "Write a YAML equivalent to JSON above"
   ]
  },
  {
   "cell_type": "code",
   "execution_count": null,
   "id": "62ef8b3f-7044-4a80-abc5-b15a5d7cfd75",
   "metadata": {},
   "outputs": [],
   "source": [
    "stable_diffusion:\n",
    "    - text_to_image: clip\n",
    "      parameters: latent_space\n",
    "image_multiclass: None"
   ]
  },
  {
   "cell_type": "markdown",
   "id": "b02275cc-4632-4219-b8b7-3eee42ba94e2",
   "metadata": {},
   "source": [
    "##### Example 4"
   ]
  },
  {
   "cell_type": "code",
   "execution_count": null,
   "id": "5f911532-52a3-45a9-ac16-d7d94f05cd80",
   "metadata": {},
   "outputs": [],
   "source": [
    "{\n",
    "    \"deep_learning\": \"ab\n",
    "    c\n",
    "    \"\n",
    "}"
   ]
  },
  {
   "cell_type": "markdown",
   "id": "ebd021e9-197d-4a9a-b4ac-d6f19b4afc5d",
   "metadata": {},
   "source": [
    "Write a YAML equivalent to JSON above"
   ]
  },
  {
   "cell_type": "code",
   "execution_count": null,
   "id": "6dd42b3a-1550-4283-b2e5-3359cd6dd47f",
   "metadata": {},
   "outputs": [],
   "source": [
    "deep_learning: >\n",
    "        ab\n",
    "        c"
   ]
  },
  {
   "cell_type": "markdown",
   "id": "2d5a85bc-b864-4b11-bc43-de8f94af2c11",
   "metadata": {},
   "source": [
    "#### 4. Create Our First Workflow"
   ]
  },
  {
   "cell_type": "markdown",
   "id": "9bd18968-a28f-440b-816d-aed8dbcba419",
   "metadata": {},
   "source": [
    "##### Example 1"
   ]
  },
  {
   "cell_type": "markdown",
   "id": "370c209f-d8fd-4b9c-aca5-3678b4175bd8",
   "metadata": {},
   "source": [
    "Create a workflow named `integration test` run the job `test-app` on lastest ubuntu, only be trigger by `push` action.\n",
    "\n",
    "The job `test-app` is empty"
   ]
  },
  {
   "cell_type": "code",
   "execution_count": null,
   "id": "f87af335-947a-4f06-9040-1ddba305ba85",
   "metadata": {},
   "outputs": [],
   "source": [
    "name: integration test\n",
    "\n",
    "on: [push] \n",
    "\n",
    "jobs:\n",
    "    test-app:\n",
    "        runs-on: ubuntu-lastest"
   ]
  },
  {
   "cell_type": "markdown",
   "id": "664ff62e-5297-42d2-842c-81c55251e3f8",
   "metadata": {},
   "source": [
    "##### Example 2 "
   ]
  },
  {
   "cell_type": "code",
   "execution_count": null,
   "id": "8ffcd991-a3ae-4650-ad70-8cd5d9cad7c7",
   "metadata": {},
   "outputs": [],
   "source": [
    "~/DATA\n",
    "base ❯ echo \"hello world\"\n",
    "hello world\n",
    "\n",
    "~/DATA\n",
    "base ❯ python3 --version\n",
    "Python 3.10.8"
   ]
  },
  {
   "cell_type": "markdown",
   "id": "96224ac1-971a-4d97-b8b9-2f0d16e46e90",
   "metadata": {},
   "source": [
    "Create a workflow named `integration test` run the job `check-version` on lastest ubuntu, only be trigger by `push` action.\n",
    "\n",
    "The job `check-version` run the command as above. Name these commands as follow\n",
    "- The first command to `echo a string`.\n",
    "- The second command `check python version`"
   ]
  },
  {
   "cell_type": "code",
   "execution_count": null,
   "id": "0e2db901-df3d-4b74-8988-3934cb23eefe",
   "metadata": {},
   "outputs": [],
   "source": [
    "name: integration test\n",
    "\n",
    "on: [push] \n",
    "\n",
    "jobs:\n",
    "    check-version:\n",
    "        runs-on: ubuntu-latest\n",
    "        steps:\n",
    "            - name: echo a string\n",
    "              run: echo \"hello world\"\n",
    "            - name: check person version\n",
    "              run: python3 --version"
   ]
  },
  {
   "cell_type": "markdown",
   "id": "1d8fc017-d4a4-4f89-a769-967631cc0c78",
   "metadata": {},
   "source": [
    "### Example 3"
   ]
  },
  {
   "cell_type": "code",
   "execution_count": null,
   "id": "513152b6-f5e7-4280-90f6-d128264d0da7",
   "metadata": {},
   "outputs": [],
   "source": [
    "import platform\n",
    "print(platform.processor())"
   ]
  },
  {
   "cell_type": "markdown",
   "id": "7155af3e-5736-4372-8429-a992b6b308d2",
   "metadata": {},
   "source": [
    "Create a workflow named `machine info` run the job `check-version` on lastest ubuntu, only be trigger by `push` action.\n",
    "\n",
    "The job `check processor` run the command as above. Name the commdand to `processor info`"
   ]
  },
  {
   "cell_type": "code",
   "execution_count": null,
   "id": "227142cd-f6d3-4c2e-97e8-c7b14e3ff198",
   "metadata": {},
   "outputs": [],
   "source": [
    "name: machine info\n",
    "\n",
    "on: [push] \n",
    "\n",
    "jobs:\n",
    "    check-version:\n",
    "        runs-on: ubuntu-latest\n",
    "        steps:\n",
    "            - name: processor info\n",
    "              run: |\n",
    "                import platform\n",
    "                print(platform.processor())\n",
    "              shell: python"
   ]
  },
  {
   "cell_type": "markdown",
   "id": "f5efd0f0-bf75-4047-a858-dd1063312284",
   "metadata": {},
   "source": [
    "##### Example 4"
   ]
  },
  {
   "cell_type": "code",
   "execution_count": null,
   "id": "f9757d8a-e809-4586-8fa5-2d62813129ac",
   "metadata": {},
   "outputs": [],
   "source": [
    "~/DATA\n",
    "base ❯ pip install pytorch\n",
    "installed successfully\n",
    "\n",
    "~/DATA\n",
    "base ❯ python3\n",
    "Python 3.10.8 (main, Oct 13 2022, 09:48:40) [Clang 14.0.0 (clang-1400.0.29.102)] on darwin\n",
    "Type \"help\", \"copyright\", \"credits\" or \"license\" for more information.\n",
    ">>> import pytorch\n",
    ">>> print(torch.tensor([1, 2, 3]))"
   ]
  },
  {
   "cell_type": "markdown",
   "id": "6d4a406d-67f9-4e87-971e-85372f723352",
   "metadata": {},
   "source": [
    "Create a workflow named `machine info` run the job `check-version` on lastest ubuntu, only be trigger by `push` action.\n",
    "\n",
    "The job `check processor` run the command as above. Name the commdand to `processor info`"
   ]
  },
  {
   "cell_type": "code",
   "execution_count": null,
   "id": "34534d10-4c19-49c0-a21a-3204df0aca9b",
   "metadata": {},
   "outputs": [],
   "source": [
    "name: machine info\n",
    "\n",
    "on: [push] \n",
    "\n",
    "jobs:\n",
    "    install-pytorch:\n",
    "        runs-on: ubuntu-lastest\n",
    "        steps"
   ]
  },
  {
   "cell_type": "markdown",
   "id": "62870912-ca15-4762-a9cc-c6997ba2864f",
   "metadata": {},
   "source": [
    "### 6. Using a Simple Action"
   ]
  },
  {
   "cell_type": "markdown",
   "id": "75604f75-530c-4afe-8726-bd220a414520",
   "metadata": {},
   "source": [
    "##### Example 1"
   ]
  },
  {
   "cell_type": "markdown",
   "id": "1b47c423-00c0-40e7-afc7-32529b7534e1",
   "metadata": {},
   "source": [
    "Create a workflow named `learn action` run the job `run-github-actions` on lastest ubuntu, only be trigger by `push`.\n",
    "\n",
    "The job `run-github-actions` run action `actions/hello-world-javascript-action@v1` which has published on github. And do\n",
    "- Name it `Simple JS Action`\n",
    "- The actions take `who-to-greet: 'Shivon'`"
   ]
  },
  {
   "cell_type": "code",
   "execution_count": null,
   "id": "8f0588d4-0b99-4646-a9a7-af3830197202",
   "metadata": {},
   "outputs": [],
   "source": [
    "name: learn action\n",
    "\n",
    "on: [push] \n",
    "\n",
    "jobs:\n",
    "    run-github-actions:\n",
    "        runs-on: ubuntu-lastest\n",
    "        steps:\n",
    "            - name: Simple JS Action\n",
    "              uses: actions/hello-world-javascript-action@v1\n",
    "              with:\n",
    "                who-to-greet: 'Shivon'"
   ]
  },
  {
   "cell_type": "markdown",
   "id": "0a411384-7ea4-4d4f-9b90-43656c65fdda",
   "metadata": {},
   "source": [
    "##### Example 2"
   ]
  },
  {
   "cell_type": "code",
   "execution_count": null,
   "id": "1bea0dbe-6586-47eb-9f13-474c28ada44c",
   "metadata": {},
   "outputs": [],
   "source": [
    "~/DATA\n",
    "base ❯ echo \"hello world\"\n",
    "hello world"
   ]
  },
  {
   "cell_type": "markdown",
   "id": "b27afc40-4d51-4162-88ca-a63236f12b2f",
   "metadata": {},
   "source": [
    "Create a workflow named `hello` run the job `hello-world` on lastest ubuntu, only be trigger by `push` action.\n",
    "\n",
    "The job `hello-world` run the command as above. And do\n",
    "- Specify the job's id to `echo`\n",
    "- Name the command to `echo-hello`"
   ]
  },
  {
   "cell_type": "code",
   "execution_count": null,
   "id": "2cf21e15-614b-4111-8cf3-724cde25038f",
   "metadata": {},
   "outputs": [],
   "source": [
    "name: hello\n",
    "\n",
    "on: [push] \n",
    "\n",
    "jobs:\n",
    "    hello-world:\n",
    "        runs-on: ubuntu-latest\n",
    "        steps:\n",
    "            - name: echo-hello\n",
    "              id: echo\n",
    "              run: echo \"hello world\""
   ]
  },
  {
   "cell_type": "markdown",
   "id": "ce32a262-6b9d-4772-9d00-9cbb7a70a5b8",
   "metadata": {},
   "source": [
    "Continue video 6"
   ]
  },
  {
   "cell_type": "code",
   "execution_count": null,
   "id": "e378370f-ecb9-40ab-aada-7c0ac9f94b03",
   "metadata": {},
   "outputs": [],
   "source": []
  }
 ],
 "metadata": {
  "kernelspec": {
   "display_name": "Python 3 (ipykernel)",
   "language": "python",
   "name": "python3"
  }
 },
 "nbformat": 4,
 "nbformat_minor": 5
}
