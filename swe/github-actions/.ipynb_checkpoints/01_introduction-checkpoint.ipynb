{
 "cells": [
  {
   "cell_type": "markdown",
   "id": "7d1ebf0e-56c8-45e4-b8d4-3218d56c4f21",
   "metadata": {},
   "source": [
    "### 2. A Brief Introduction to Writing in YAML Format"
   ]
  },
  {
   "cell_type": "markdown",
   "id": "667e27a2-3931-44ea-9cb4-5716c2091c25",
   "metadata": {},
   "source": [
    "##### Example 1 "
   ]
  },
  {
   "cell_type": "code",
   "execution_count": null,
   "id": "af9bda63-ad24-4282-a7af-a9af20ab69fe",
   "metadata": {},
   "outputs": [],
   "source": [
    "{\n",
    "    \"name\": \"Shivon\",\n",
    "    \"job\": \"Engineer\",\n",
    "    \"company\": {\n",
    "        \"name\": \"Neuralink\"\n",
    "    }\n",
    "}"
   ]
  },
  {
   "cell_type": "markdown",
   "id": "c99e1f33-e3ae-4359-aeaf-710cb095eb12",
   "metadata": {},
   "source": [
    "Write a YAML quivalent to JSON above"
   ]
  },
  {
   "cell_type": "code",
   "execution_count": null,
   "id": "d3c85ef1-f842-435e-8712-9325f9511b37",
   "metadata": {},
   "outputs": [],
   "source": [
    "name: Shivon\n",
    "job: Engineer\n",
    "company:\n",
    "    name: Neuralink"
   ]
  },
  {
   "cell_type": "markdown",
   "id": "2e5e944a-7d5e-4af6-8635-d50fd73f6b48",
   "metadata": {},
   "source": [
    "##### Example 2 "
   ]
  },
  {
   "cell_type": "code",
   "execution_count": null,
   "id": "aeb91108-e55e-4e4f-b42b-2e6ca438e272",
   "metadata": {},
   "outputs": [],
   "source": [
    "{\n",
    "    foundation: ['physics', 'ai', 'matsci', 'nano']\n",
    "}"
   ]
  },
  {
   "cell_type": "markdown",
   "id": "b3309a58-754b-4328-9dca-b2f7dce43c4f",
   "metadata": {},
   "source": [
    "Write a YAML quivalent to JSON above"
   ]
  },
  {
   "cell_type": "code",
   "execution_count": null,
   "id": "74e27d51-75c3-4596-97fb-fb59721c835b",
   "metadata": {},
   "outputs": [],
   "source": [
    "foundation:\n",
    "    - physics\n",
    "    - ai\n",
    "    - matsci\n",
    "    - nano"
   ]
  },
  {
   "cell_type": "markdown",
   "id": "615880ac-e0cd-449e-856e-2aed0761f044",
   "metadata": {},
   "source": [
    "##### Example 3"
   ]
  },
  {
   "cell_type": "code",
   "execution_count": null,
   "id": "61de5e8a-8e5f-4462-aae8-f547fefdf817",
   "metadata": {},
   "outputs": [],
   "source": [
    "{\n",
    "    \"stable_diffusion\": [\n",
    "        {\n",
    "            \"text_to_image\": \"clip\",\n",
    "            \"parameters\": \"latent space\"\n",
    "        }\n",
    "    ],\n",
    "    \"image_multiclass\": None\n",
    "}"
   ]
  },
  {
   "cell_type": "markdown",
   "id": "c5f78ad8-193c-4070-a950-2d67416e9d0b",
   "metadata": {},
   "source": [
    "Write a YAML equivalent to JSON above"
   ]
  },
  {
   "cell_type": "code",
   "execution_count": null,
   "id": "62ef8b3f-7044-4a80-abc5-b15a5d7cfd75",
   "metadata": {},
   "outputs": [],
   "source": [
    "stable_diffusion:\n",
    "    - text_to_image: clip\n",
    "      parameters: latent_space\n",
    "image_multiclass: None"
   ]
  },
  {
   "cell_type": "markdown",
   "id": "b02275cc-4632-4219-b8b7-3eee42ba94e2",
   "metadata": {},
   "source": [
    "##### Example 4"
   ]
  },
  {
   "cell_type": "code",
   "execution_count": null,
   "id": "5f911532-52a3-45a9-ac16-d7d94f05cd80",
   "metadata": {},
   "outputs": [],
   "source": [
    "{\n",
    "    \"deep_learning\": \"ab\n",
    "    c\n",
    "    \"\n",
    "}"
   ]
  },
  {
   "cell_type": "markdown",
   "id": "ebd021e9-197d-4a9a-b4ac-d6f19b4afc5d",
   "metadata": {},
   "source": [
    "Write a YAML equivalent to JSON above"
   ]
  },
  {
   "cell_type": "code",
   "execution_count": null,
   "id": "6dd42b3a-1550-4283-b2e5-3359cd6dd47f",
   "metadata": {},
   "outputs": [],
   "source": [
    "deep_learning: >\n",
    "        ab\n",
    "        c"
   ]
  },
  {
   "cell_type": "markdown",
   "id": "2d5a85bc-b864-4b11-bc43-de8f94af2c11",
   "metadata": {},
   "source": [
    "#### 4. Create Our First Workflow"
   ]
  },
  {
   "cell_type": "markdown",
   "id": "9bd18968-a28f-440b-816d-aed8dbcba419",
   "metadata": {},
   "source": [
    "##### Example 1"
   ]
  },
  {
   "cell_type": "markdown",
   "id": "370c209f-d8fd-4b9c-aca5-3678b4175bd8",
   "metadata": {},
   "source": [
    "Create a workflow named `integration test` run the job `test-app` on lastest ubuntu, only be trigger by `push` action.\n",
    "\n",
    "The job `test-app` is empty"
   ]
  },
  {
   "cell_type": "code",
   "execution_count": null,
   "id": "f87af335-947a-4f06-9040-1ddba305ba85",
   "metadata": {},
   "outputs": [],
   "source": [
    "name: integration test\n",
    "\n",
    "on: [push] \n",
    "\n",
    "jobs:\n",
    "    test-app:\n",
    "        runs-on: ubuntu-lastest"
   ]
  },
  {
   "cell_type": "markdown",
   "id": "664ff62e-5297-42d2-842c-81c55251e3f8",
   "metadata": {},
   "source": [
    "##### Example 2 "
   ]
  },
  {
   "cell_type": "markdown",
   "id": "96224ac1-971a-4d97-b8b9-2f0d16e46e90",
   "metadata": {},
   "source": [
    "Create a workflow named `integration test` run the job `test-app` on lastest ubuntu, only be trigger by `push` action.\n",
    "\n",
    "The job `test-app` only contains one step named `echo a string` that run the command `echo \"hello\""
   ]
  },
  {
   "cell_type": "code",
   "execution_count": null,
   "id": "0e2db901-df3d-4b74-8988-3934cb23eefe",
   "metadata": {},
   "outputs": [],
   "source": [
    "name: integration test\n",
    "\n",
    "on: [push] \n",
    "\n",
    "jobs:\n",
    "    test-app:\n",
    "        runs-on: ubuntu-lastest\n",
    "        steps:\n",
    "            - name: echo a string\n",
    "              run: echo \"hello world\""
   ]
  }
 ],
 "metadata": {
  "kernelspec": {
   "display_name": "Python 3 (ipykernel)",
   "language": "python",
   "name": "python3"
  }
 },
 "nbformat": 4,
 "nbformat_minor": 5
}
